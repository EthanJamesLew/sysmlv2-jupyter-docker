{
 "cells": [
  {
   "cell_type": "markdown",
   "id": "8bfa6303",
   "metadata": {},
   "source": [
    "# SysML v2 Test Suite\n",
    "\n",
    "This can notebook can be cleared using menu `Edit --> Clear All Outputs` and then all cells can be\n",
    "run using menu `Run --> Run All Cells`.\n",
    "\n",
    "**WARNING**: This file is generated, all modifications here will be ignored.\n"
   ]
  },
  {
   "cell_type": "markdown",
   "id": "8d1034e0",
   "metadata": {},
   "source": [
    "## File: ../../sysml/src/examples/Simple Tests/QPETest.sysml"
   ]
  },
  {
   "cell_type": "code",
   "execution_count": 1,
   "id": "5c24adbd",
   "metadata": {
    "execution": {
     "iopub.execute_input": "2021-04-20T06:58:42.925839Z",
     "iopub.status.busy": "2021-04-20T06:58:42.923914Z",
     "iopub.status.idle": "2021-04-20T06:58:43.193069Z",
     "shell.execute_reply": "2021-04-20T06:58:43.192495Z"
    }
   },
   "outputs": [
    {
     "data": {
      "text/plain": [
       "Package Q (4b739bfb-1ccb-443f-943f-306929482026)\n"
      ]
     },
     "execution_count": 1,
     "metadata": {},
     "output_type": "execute_result"
    }
   ],
   "source": [
    "package Q {\n",
    "  part f {\n",
    "  \tpart a;\n",
    "  }\n",
    "  part def C {\n",
    "    part g = ./f/a; \n",
    "  }\n",
    "}\n"
   ]
  },
  {
   "cell_type": "code",
   "execution_count": 2,
   "id": "588ef04d",
   "metadata": {
    "execution": {
     "iopub.execute_input": "2021-04-20T06:58:43.244370Z",
     "iopub.status.busy": "2021-04-20T06:58:43.244013Z",
     "iopub.status.idle": "2021-04-20T06:58:43.799967Z",
     "shell.execute_reply": "2021-04-20T06:58:43.800256Z"
    }
   },
   "outputs": [
    {
     "data": {
      "image/svg+xml": [
       "<?xml version=\"1.0\" encoding=\"UTF-8\" standalone=\"no\"?><svg xmlns=\"http://www.w3.org/2000/svg\" xmlns:xlink=\"http://www.w3.org/1999/xlink\" contentScriptType=\"application/ecmascript\" contentStyleType=\"text/css\" height=\"221px\" preserveAspectRatio=\"none\" style=\"width:213px;height:221px;\" version=\"1.1\" viewBox=\"0 0 213 221\" width=\"213px\" zoomAndPan=\"magnify\"><defs/><g><!--MD5=[fbc87193dbaf4d95561dea2c320d4a47]\n",
       "cluster E1--><a href=\"psysml:6ab71797-e8f8-4bff-ada3-bad51ca07e78\" target=\"_top\" title=\"psysml:6ab71797-e8f8-4bff-ada3-bad51ca07e78\" xlink:actuate=\"onRequest\" xlink:href=\"psysml:6ab71797-e8f8-4bff-ada3-bad51ca07e78\" xlink:show=\"new\" xlink:title=\"psysml:6ab71797-e8f8-4bff-ada3-bad51ca07e78\" xlink:type=\"simple\"><polygon fill=\"#FFFFFF\" points=\"16,6,34,6,41,28.2969,191,28.2969,191,209,16,209,16,6\" style=\"stroke: #000000; stroke-width: 1.5;\"/><line style=\"stroke: #000000; stroke-width: 1.5;\" x1=\"16\" x2=\"41\" y1=\"28.2969\" y2=\"28.2969\"/><text fill=\"#000000\" font-family=\"sans-serif\" font-size=\"14\" font-weight=\"bold\" lengthAdjust=\"spacingAndGlyphs\" textLength=\"12\" x=\"20\" y=\"20.9951\">Q</text></a><!--MD5=[b4997ac47864f28c2f74865a473b2911]\n",
       "class E2--><a href=\"psysml:c02a2287-c712-494f-86c8-48c213fef3aa\" target=\"_top\" title=\"psysml:c02a2287-c712-494f-86c8-48c213fef3aa\" xlink:actuate=\"onRequest\" xlink:href=\"psysml:c02a2287-c712-494f-86c8-48c213fef3aa\" xlink:show=\"new\" xlink:title=\"psysml:c02a2287-c712-494f-86c8-48c213fef3aa\" xlink:type=\"simple\"><rect fill=\"#FFFFFF\" height=\"45.9375\" id=\"E2\" rx=\"10\" ry=\"10\" style=\"stroke: #383838; stroke-width: 1.5;\" width=\"42\" x=\"133\" y=\"41\"/><text fill=\"#000000\" font-family=\"sans-serif\" font-size=\"12\" font-style=\"italic\" lengthAdjust=\"spacingAndGlyphs\" textLength=\"40\" x=\"134\" y=\"57.1387\">«part»</text><text fill=\"#000000\" font-family=\"sans-serif\" font-size=\"12\" lengthAdjust=\"spacingAndGlyphs\" textLength=\"4\" x=\"152\" y=\"71.1074\">f</text><line style=\"stroke: #383838; stroke-width: 1.5;\" x1=\"134\" x2=\"174\" y1=\"78.9375\" y2=\"78.9375\"/></a><!--MD5=[09b614a08d8cba4a07c9adeb5e0fee81]\n",
       "class E3--><a href=\"psysml:b53848ad-4a38-46bd-bd01-a08ed5bc4cea\" target=\"_top\" title=\"psysml:b53848ad-4a38-46bd-bd01-a08ed5bc4cea\" xlink:actuate=\"onRequest\" xlink:href=\"psysml:b53848ad-4a38-46bd-bd01-a08ed5bc4cea\" xlink:show=\"new\" xlink:title=\"psysml:b53848ad-4a38-46bd-bd01-a08ed5bc4cea\" xlink:type=\"simple\"><rect fill=\"#FFFFFF\" height=\"45.9375\" id=\"E3\" rx=\"10\" ry=\"10\" style=\"stroke: #383838; stroke-width: 1.5;\" width=\"42\" x=\"133\" y=\"147\"/><text fill=\"#000000\" font-family=\"sans-serif\" font-size=\"12\" font-style=\"italic\" lengthAdjust=\"spacingAndGlyphs\" textLength=\"40\" x=\"134\" y=\"163.1387\">«part»</text><text fill=\"#000000\" font-family=\"sans-serif\" font-size=\"12\" lengthAdjust=\"spacingAndGlyphs\" textLength=\"8\" x=\"150\" y=\"177.1074\">a</text><line style=\"stroke: #383838; stroke-width: 1.5;\" x1=\"134\" x2=\"174\" y1=\"184.9375\" y2=\"184.9375\"/></a><!--MD5=[ebbe1d658d1005bcc118a6aa81145e00]\n",
       "class E4--><a href=\"psysml:562783b8-e65b-4087-86a0-89c793c14f93\" target=\"_top\" title=\"psysml:562783b8-e65b-4087-86a0-89c793c14f93\" xlink:actuate=\"onRequest\" xlink:href=\"psysml:562783b8-e65b-4087-86a0-89c793c14f93\" xlink:show=\"new\" xlink:title=\"psysml:562783b8-e65b-4087-86a0-89c793c14f93\" xlink:type=\"simple\"><rect fill=\"#FFFFFF\" height=\"45.9375\" id=\"E4\" style=\"stroke: #383838; stroke-width: 1.5;\" width=\"66\" x=\"32\" y=\"41\"/><text fill=\"#000000\" font-family=\"sans-serif\" font-size=\"12\" font-style=\"italic\" lengthAdjust=\"spacingAndGlyphs\" textLength=\"64\" x=\"33\" y=\"57.1387\">«part def»</text><text fill=\"#000000\" font-family=\"sans-serif\" font-size=\"12\" lengthAdjust=\"spacingAndGlyphs\" textLength=\"8\" x=\"61\" y=\"71.1074\">C</text><line style=\"stroke: #383838; stroke-width: 1.5;\" x1=\"33\" x2=\"97\" y1=\"78.9375\" y2=\"78.9375\"/></a><!--MD5=[270fce915f116d4de14055a7c1d9a0f3]\n",
       "class E5--><a href=\"psysml:ab356c3f-6fc6-498c-877e-f29aa221dc38\" target=\"_top\" title=\"psysml:ab356c3f-6fc6-498c-877e-f29aa221dc38\" xlink:actuate=\"onRequest\" xlink:href=\"psysml:ab356c3f-6fc6-498c-877e-f29aa221dc38\" xlink:show=\"new\" xlink:title=\"psysml:ab356c3f-6fc6-498c-877e-f29aa221dc38\" xlink:type=\"simple\"><rect fill=\"#FFFFFF\" height=\"45.9375\" id=\"E5\" rx=\"10\" ry=\"10\" style=\"stroke: #383838; stroke-width: 1.5;\" width=\"42\" x=\"44\" y=\"147\"/><text fill=\"#000000\" font-family=\"sans-serif\" font-size=\"12\" font-style=\"italic\" lengthAdjust=\"spacingAndGlyphs\" textLength=\"40\" x=\"45\" y=\"163.1387\">«part»</text><text fill=\"#000000\" font-family=\"sans-serif\" font-size=\"12\" lengthAdjust=\"spacingAndGlyphs\" textLength=\"8\" x=\"61\" y=\"177.1074\">g</text><line style=\"stroke: #383838; stroke-width: 1.5;\" x1=\"45\" x2=\"85\" y1=\"184.9375\" y2=\"184.9375\"/></a><!--MD5=[209b3feb70ccb6233bfe1053d122c12c]\n",
       "reverse link E2 to E3--><a href=\"psysml:3a53f0eb-5b79-463f-97a3-37a7a9b28614\" target=\"_top\" title=\"psysml:3a53f0eb-5b79-463f-97a3-37a7a9b28614\" xlink:actuate=\"onRequest\" xlink:href=\"psysml:3a53f0eb-5b79-463f-97a3-37a7a9b28614\" xlink:show=\"new\" xlink:title=\"psysml:3a53f0eb-5b79-463f-97a3-37a7a9b28614\" xlink:type=\"simple\"><path d=\"M154,100.44 C154,115.87 154,133.47 154,146.98 \" fill=\"none\" id=\"E2&lt;-E3\" style=\"stroke: #383838; stroke-width: 1.0;\"/><polygon fill=\"#383838\" points=\"154,87.06,150,93.06,154,99.06,158,93.06,154,87.06\" style=\"stroke: #383838; stroke-width: 1.0;\"/></a><!--MD5=[62aa6af11e70f752912c1cb0466f24f7]\n",
       "reverse link E4 to E5--><a href=\"psysml:b96f3833-0cb6-4ba3-9671-acfc6ae0d964\" target=\"_top\" title=\"psysml:b96f3833-0cb6-4ba3-9671-acfc6ae0d964\" xlink:actuate=\"onRequest\" xlink:href=\"psysml:b96f3833-0cb6-4ba3-9671-acfc6ae0d964\" xlink:show=\"new\" xlink:title=\"psysml:b96f3833-0cb6-4ba3-9671-acfc6ae0d964\" xlink:type=\"simple\"><path d=\"M65,100.44 C65,115.87 65,133.47 65,146.98 \" fill=\"none\" id=\"E4&lt;-E5\" style=\"stroke: #383838; stroke-width: 1.0;\"/><polygon fill=\"#383838\" points=\"65,87.06,61,93.06,65,99.06,69,93.06,65,87.06\" style=\"stroke: #383838; stroke-width: 1.0;\"/></a><!--MD5=[91e8c6e8bb503d95806b6c23596c4c30]\n",
       "@startuml\r\n",
       " skinparam monochrome true\r\n",
       "skinparam classbackgroundcolor white\r\n",
       "skinparam shadowing false\r\n",
       "skinparam wrapWidth 300\r\n",
       "hide circle\r\n",
       "\r\n",
       "package \"Q\" as E1  [[psysml:6ab71797-e8f8-4bff-ada3-bad51ca07e78 ]]  {\r\n",
       "comp usage \"f\" as E2  <<(T,blue)part>> [[psysml:c02a2287-c712-494f-86c8-48c213fef3aa ]] {\r\n",
       "}\r\n",
       "comp usage \"a\" as E3  <<(T,blue)part>> [[psysml:b53848ad-4a38-46bd-bd01-a08ed5bc4cea ]] {\r\n",
       "}\r\n",
       "comp def \"C\" as E4  <<(T,blue)part def>> [[psysml:562783b8-e65b-4087-86a0-89c793c14f93 ]] {\r\n",
       "}\r\n",
       "comp usage \"g\" as E5  <<(T,blue)part>> [[psysml:ab356c3f-6fc6-498c-877e-f29aa221dc38 ]] {\r\n",
       "}\r\n",
       "E2 *- - E3 [[psysml:3a53f0eb-5b79-463f-97a3-37a7a9b28614 ]] \r\n",
       "E4 *- - E5 [[psysml:b96f3833-0cb6-4ba3-9671-acfc6ae0d964 ]] \r\n",
       "}\r\n",
       "@enduml\r\n",
       "\n",
       "PlantUML version 1.2020.13(Sat Jun 13 12:26:38 UTC 2020)\n",
       "(EPL source distribution)\n",
       "Java Runtime: OpenJDK Runtime Environment\n",
       "JVM: OpenJDK 64-Bit Server VM\n",
       "Default Encoding: UTF-8\n",
       "Language: en\n",
       "Country: null\n",
       "--></g></svg>"
      ]
     },
     "execution_count": 2,
     "metadata": {},
     "output_type": "execute_result"
    }
   ],
   "source": [
    "%viz --style=\"COMPTREE\" --view=\"Default\" \"Q\""
   ]
  },
  {
   "cell_type": "code",
   "execution_count": 3,
   "id": "1ba9dc8d",
   "metadata": {
    "execution": {
     "iopub.execute_input": "2021-04-20T06:58:43.854284Z",
     "iopub.status.busy": "2021-04-20T06:58:43.853909Z",
     "iopub.status.idle": "2021-04-20T06:58:43.912730Z",
     "shell.execute_reply": "2021-04-20T06:58:43.913050Z"
    }
   },
   "outputs": [
    {
     "data": {
      "image/svg+xml": [
       "<?xml version=\"1.0\" encoding=\"UTF-8\" standalone=\"no\"?><svg xmlns=\"http://www.w3.org/2000/svg\" xmlns:xlink=\"http://www.w3.org/1999/xlink\" contentScriptType=\"application/ecmascript\" contentStyleType=\"text/css\" height=\"221px\" preserveAspectRatio=\"none\" style=\"width:213px;height:221px;\" version=\"1.1\" viewBox=\"0 0 213 221\" width=\"213px\" zoomAndPan=\"magnify\"><defs/><g><!--MD5=[fbc87193dbaf4d95561dea2c320d4a47]\n",
       "cluster E1--><a href=\"psysml:6ab71797-e8f8-4bff-ada3-bad51ca07e78\" target=\"_top\" title=\"psysml:6ab71797-e8f8-4bff-ada3-bad51ca07e78\" xlink:actuate=\"onRequest\" xlink:href=\"psysml:6ab71797-e8f8-4bff-ada3-bad51ca07e78\" xlink:show=\"new\" xlink:title=\"psysml:6ab71797-e8f8-4bff-ada3-bad51ca07e78\" xlink:type=\"simple\"><polygon fill=\"#FFFFFF\" points=\"16,6,34,6,41,28.2969,191,28.2969,191,209,16,209,16,6\" style=\"stroke: #000000; stroke-width: 1.5;\"/><line style=\"stroke: #000000; stroke-width: 1.5;\" x1=\"16\" x2=\"41\" y1=\"28.2969\" y2=\"28.2969\"/><text fill=\"#000000\" font-family=\"sans-serif\" font-size=\"14\" font-weight=\"bold\" lengthAdjust=\"spacingAndGlyphs\" textLength=\"12\" x=\"20\" y=\"20.9951\">Q</text></a><!--MD5=[b4997ac47864f28c2f74865a473b2911]\n",
       "class E2--><a href=\"psysml:c02a2287-c712-494f-86c8-48c213fef3aa\" target=\"_top\" title=\"psysml:c02a2287-c712-494f-86c8-48c213fef3aa\" xlink:actuate=\"onRequest\" xlink:href=\"psysml:c02a2287-c712-494f-86c8-48c213fef3aa\" xlink:show=\"new\" xlink:title=\"psysml:c02a2287-c712-494f-86c8-48c213fef3aa\" xlink:type=\"simple\"><rect fill=\"#FFFFFF\" height=\"45.9375\" id=\"E2\" rx=\"10\" ry=\"10\" style=\"stroke: #383838; stroke-width: 1.5;\" width=\"42\" x=\"133\" y=\"41\"/><text fill=\"#000000\" font-family=\"sans-serif\" font-size=\"12\" font-style=\"italic\" lengthAdjust=\"spacingAndGlyphs\" textLength=\"40\" x=\"134\" y=\"57.1387\">«part»</text><text fill=\"#000000\" font-family=\"sans-serif\" font-size=\"12\" lengthAdjust=\"spacingAndGlyphs\" textLength=\"4\" x=\"152\" y=\"71.1074\">f</text><line style=\"stroke: #383838; stroke-width: 1.5;\" x1=\"134\" x2=\"174\" y1=\"78.9375\" y2=\"78.9375\"/></a><!--MD5=[09b614a08d8cba4a07c9adeb5e0fee81]\n",
       "class E3--><a href=\"psysml:b53848ad-4a38-46bd-bd01-a08ed5bc4cea\" target=\"_top\" title=\"psysml:b53848ad-4a38-46bd-bd01-a08ed5bc4cea\" xlink:actuate=\"onRequest\" xlink:href=\"psysml:b53848ad-4a38-46bd-bd01-a08ed5bc4cea\" xlink:show=\"new\" xlink:title=\"psysml:b53848ad-4a38-46bd-bd01-a08ed5bc4cea\" xlink:type=\"simple\"><rect fill=\"#FFFFFF\" height=\"45.9375\" id=\"E3\" rx=\"10\" ry=\"10\" style=\"stroke: #383838; stroke-width: 1.5;\" width=\"42\" x=\"133\" y=\"147\"/><text fill=\"#000000\" font-family=\"sans-serif\" font-size=\"12\" font-style=\"italic\" lengthAdjust=\"spacingAndGlyphs\" textLength=\"40\" x=\"134\" y=\"163.1387\">«part»</text><text fill=\"#000000\" font-family=\"sans-serif\" font-size=\"12\" lengthAdjust=\"spacingAndGlyphs\" textLength=\"8\" x=\"150\" y=\"177.1074\">a</text><line style=\"stroke: #383838; stroke-width: 1.5;\" x1=\"134\" x2=\"174\" y1=\"184.9375\" y2=\"184.9375\"/></a><!--MD5=[ebbe1d658d1005bcc118a6aa81145e00]\n",
       "class E4--><a href=\"psysml:562783b8-e65b-4087-86a0-89c793c14f93\" target=\"_top\" title=\"psysml:562783b8-e65b-4087-86a0-89c793c14f93\" xlink:actuate=\"onRequest\" xlink:href=\"psysml:562783b8-e65b-4087-86a0-89c793c14f93\" xlink:show=\"new\" xlink:title=\"psysml:562783b8-e65b-4087-86a0-89c793c14f93\" xlink:type=\"simple\"><rect fill=\"#FFFFFF\" height=\"45.9375\" id=\"E4\" style=\"stroke: #383838; stroke-width: 1.5;\" width=\"66\" x=\"32\" y=\"41\"/><text fill=\"#000000\" font-family=\"sans-serif\" font-size=\"12\" font-style=\"italic\" lengthAdjust=\"spacingAndGlyphs\" textLength=\"64\" x=\"33\" y=\"57.1387\">«part def»</text><text fill=\"#000000\" font-family=\"sans-serif\" font-size=\"12\" lengthAdjust=\"spacingAndGlyphs\" textLength=\"8\" x=\"61\" y=\"71.1074\">C</text><line style=\"stroke: #383838; stroke-width: 1.5;\" x1=\"33\" x2=\"97\" y1=\"78.9375\" y2=\"78.9375\"/></a><!--MD5=[270fce915f116d4de14055a7c1d9a0f3]\n",
       "class E5--><a href=\"psysml:ab356c3f-6fc6-498c-877e-f29aa221dc38\" target=\"_top\" title=\"psysml:ab356c3f-6fc6-498c-877e-f29aa221dc38\" xlink:actuate=\"onRequest\" xlink:href=\"psysml:ab356c3f-6fc6-498c-877e-f29aa221dc38\" xlink:show=\"new\" xlink:title=\"psysml:ab356c3f-6fc6-498c-877e-f29aa221dc38\" xlink:type=\"simple\"><rect fill=\"#FFFFFF\" height=\"45.9375\" id=\"E5\" rx=\"10\" ry=\"10\" style=\"stroke: #383838; stroke-width: 1.5;\" width=\"42\" x=\"44\" y=\"147\"/><text fill=\"#000000\" font-family=\"sans-serif\" font-size=\"12\" font-style=\"italic\" lengthAdjust=\"spacingAndGlyphs\" textLength=\"40\" x=\"45\" y=\"163.1387\">«part»</text><text fill=\"#000000\" font-family=\"sans-serif\" font-size=\"12\" lengthAdjust=\"spacingAndGlyphs\" textLength=\"8\" x=\"61\" y=\"177.1074\">g</text><line style=\"stroke: #383838; stroke-width: 1.5;\" x1=\"45\" x2=\"85\" y1=\"184.9375\" y2=\"184.9375\"/></a><!--MD5=[209b3feb70ccb6233bfe1053d122c12c]\n",
       "reverse link E2 to E3--><a href=\"psysml:3a53f0eb-5b79-463f-97a3-37a7a9b28614\" target=\"_top\" title=\"psysml:3a53f0eb-5b79-463f-97a3-37a7a9b28614\" xlink:actuate=\"onRequest\" xlink:href=\"psysml:3a53f0eb-5b79-463f-97a3-37a7a9b28614\" xlink:show=\"new\" xlink:title=\"psysml:3a53f0eb-5b79-463f-97a3-37a7a9b28614\" xlink:type=\"simple\"><path d=\"M154,100.44 C154,115.87 154,133.47 154,146.98 \" fill=\"none\" id=\"E2&lt;-E3\" style=\"stroke: #383838; stroke-width: 1.0;\"/><polygon fill=\"#383838\" points=\"154,87.06,150,93.06,154,99.06,158,93.06,154,87.06\" style=\"stroke: #383838; stroke-width: 1.0;\"/></a><!--MD5=[62aa6af11e70f752912c1cb0466f24f7]\n",
       "reverse link E4 to E5--><a href=\"psysml:b96f3833-0cb6-4ba3-9671-acfc6ae0d964\" target=\"_top\" title=\"psysml:b96f3833-0cb6-4ba3-9671-acfc6ae0d964\" xlink:actuate=\"onRequest\" xlink:href=\"psysml:b96f3833-0cb6-4ba3-9671-acfc6ae0d964\" xlink:show=\"new\" xlink:title=\"psysml:b96f3833-0cb6-4ba3-9671-acfc6ae0d964\" xlink:type=\"simple\"><path d=\"M65,100.44 C65,115.87 65,133.47 65,146.98 \" fill=\"none\" id=\"E4&lt;-E5\" style=\"stroke: #383838; stroke-width: 1.0;\"/><polygon fill=\"#383838\" points=\"65,87.06,61,93.06,65,99.06,69,93.06,65,87.06\" style=\"stroke: #383838; stroke-width: 1.0;\"/></a><!--MD5=[91e8c6e8bb503d95806b6c23596c4c30]\n",
       "@startuml\r\n",
       " skinparam monochrome true\r\n",
       "skinparam classbackgroundcolor white\r\n",
       "skinparam shadowing false\r\n",
       "skinparam wrapWidth 300\r\n",
       "hide circle\r\n",
       "\r\n",
       "package \"Q\" as E1  [[psysml:6ab71797-e8f8-4bff-ada3-bad51ca07e78 ]]  {\r\n",
       "comp usage \"f\" as E2  <<(T,blue)part>> [[psysml:c02a2287-c712-494f-86c8-48c213fef3aa ]] {\r\n",
       "}\r\n",
       "comp usage \"a\" as E3  <<(T,blue)part>> [[psysml:b53848ad-4a38-46bd-bd01-a08ed5bc4cea ]] {\r\n",
       "}\r\n",
       "comp def \"C\" as E4  <<(T,blue)part def>> [[psysml:562783b8-e65b-4087-86a0-89c793c14f93 ]] {\r\n",
       "}\r\n",
       "comp usage \"g\" as E5  <<(T,blue)part>> [[psysml:ab356c3f-6fc6-498c-877e-f29aa221dc38 ]] {\r\n",
       "}\r\n",
       "E2 *- - E3 [[psysml:3a53f0eb-5b79-463f-97a3-37a7a9b28614 ]] \r\n",
       "E4 *- - E5 [[psysml:b96f3833-0cb6-4ba3-9671-acfc6ae0d964 ]] \r\n",
       "}\r\n",
       "@enduml\r\n",
       "\n",
       "PlantUML version 1.2020.13(Sat Jun 13 12:26:38 UTC 2020)\n",
       "(EPL source distribution)\n",
       "Java Runtime: OpenJDK Runtime Environment\n",
       "JVM: OpenJDK 64-Bit Server VM\n",
       "Default Encoding: UTF-8\n",
       "Language: en\n",
       "Country: null\n",
       "--></g></svg>"
      ]
     },
     "execution_count": 3,
     "metadata": {},
     "output_type": "execute_result"
    }
   ],
   "source": [
    "%viz --style=\"COMPTREE\" --view=\"Tree\" \"Q\""
   ]
  },
  {
   "cell_type": "code",
   "execution_count": 4,
   "id": "9d5fc987",
   "metadata": {
    "execution": {
     "iopub.execute_input": "2021-04-20T06:58:43.966089Z",
     "iopub.status.busy": "2021-04-20T06:58:43.965487Z",
     "iopub.status.idle": "2021-04-20T06:58:43.976201Z",
     "shell.execute_reply": "2021-04-20T06:58:43.976541Z"
    }
   },
   "outputs": [
    {
     "data": {
      "image/svg+xml": [
       "<?xml version=\"1.0\" encoding=\"UTF-8\" standalone=\"no\"?><svg xmlns=\"http://www.w3.org/2000/svg\" xmlns:xlink=\"http://www.w3.org/1999/xlink\" contentScriptType=\"application/ecmascript\" contentStyleType=\"text/css\" height=\"12px\" preserveAspectRatio=\"none\" style=\"width:12px;height:12px;\" version=\"1.1\" viewBox=\"0 0 12 12\" width=\"12px\" zoomAndPan=\"magnify\"><defs/><g><!--MD5=[f19188ef49e11757b5c46753f95d9edc]\n",
       "@startuml\r\n",
       " skinparam monochrome true\r\n",
       "skinparam classbackgroundcolor white\r\n",
       "skinparam shadowing false\r\n",
       "skinparam wrapWidth 300\r\n",
       "hide circle\r\n",
       "\r\n",
       "@enduml\r\n",
       "\n",
       "PlantUML version 1.2020.13(Sat Jun 13 12:26:38 UTC 2020)\n",
       "(EPL source distribution)\n",
       "Java Runtime: OpenJDK Runtime Environment\n",
       "JVM: OpenJDK 64-Bit Server VM\n",
       "Default Encoding: UTF-8\n",
       "Language: en\n",
       "Country: null\n",
       "--></g></svg>"
      ]
     },
     "execution_count": 4,
     "metadata": {},
     "output_type": "execute_result"
    }
   ],
   "source": [
    "%viz --style=\"COMPTREE\" --view=\"State\" \"Q\""
   ]
  },
  {
   "cell_type": "code",
   "execution_count": 5,
   "id": "019a6f5f",
   "metadata": {
    "execution": {
     "iopub.execute_input": "2021-04-20T06:58:44.028001Z",
     "iopub.status.busy": "2021-04-20T06:58:44.027503Z",
     "iopub.status.idle": "2021-04-20T06:58:44.103246Z",
     "shell.execute_reply": "2021-04-20T06:58:44.103572Z"
    }
   },
   "outputs": [
    {
     "data": {
      "image/svg+xml": [
       "<?xml version=\"1.0\" encoding=\"UTF-8\" standalone=\"no\"?><svg xmlns=\"http://www.w3.org/2000/svg\" xmlns:xlink=\"http://www.w3.org/1999/xlink\" contentScriptType=\"application/ecmascript\" contentStyleType=\"text/css\" height=\"192px\" preserveAspectRatio=\"none\" style=\"width:286px;height:192px;\" version=\"1.1\" viewBox=\"0 0 286 192\" width=\"286px\" zoomAndPan=\"magnify\"><defs/><g><!--MD5=[fbc87193dbaf4d95561dea2c320d4a47]\n",
       "cluster E1--><a href=\"psysml:6ab71797-e8f8-4bff-ada3-bad51ca07e78\" target=\"_top\" title=\"psysml:6ab71797-e8f8-4bff-ada3-bad51ca07e78\" xlink:actuate=\"onRequest\" xlink:href=\"psysml:6ab71797-e8f8-4bff-ada3-bad51ca07e78\" xlink:show=\"new\" xlink:title=\"psysml:6ab71797-e8f8-4bff-ada3-bad51ca07e78\" xlink:type=\"simple\"><polygon fill=\"#FFFFFF\" points=\"16,6,34,6,41,28.2969,264,28.2969,264,180,16,180,16,6\" style=\"stroke: #000000; stroke-width: 1.5;\"/><line style=\"stroke: #000000; stroke-width: 1.5;\" x1=\"16\" x2=\"41\" y1=\"28.2969\" y2=\"28.2969\"/><text fill=\"#000000\" font-family=\"sans-serif\" font-size=\"14\" font-weight=\"bold\" lengthAdjust=\"spacingAndGlyphs\" textLength=\"12\" x=\"20\" y=\"20.9951\">Q</text></a><!--MD5=[e4f7fae6ed58524ba242bb0b0d3be6b7]\n",
       "cluster E2--><a href=\"psysml:c02a2287-c712-494f-86c8-48c213fef3aa\" target=\"_top\" title=\"psysml:c02a2287-c712-494f-86c8-48c213fef3aa\" xlink:actuate=\"onRequest\" xlink:href=\"psysml:c02a2287-c712-494f-86c8-48c213fef3aa\" xlink:show=\"new\" xlink:title=\"psysml:c02a2287-c712-494f-86c8-48c213fef3aa\" xlink:type=\"simple\"><rect fill=\"#FFFFFF\" height=\"91\" id=\"E2\" rx=\"10\" ry=\"10\" style=\"stroke: #383838; stroke-width: 1.5;\" width=\"82\" x=\"158\" y=\"65\"/><rect fill=\"#F8F8F8\" height=\"23.9688\" rx=\"10\" ry=\"10\" style=\"stroke: #F8F8F8; stroke-width: 1.5;\" width=\"82\" x=\"158\" y=\"65\"/><rect fill=\"#F8F8F8\" height=\"10\" style=\"stroke: #F8F8F8; stroke-width: 1.5;\" width=\"82\" x=\"158\" y=\"78.9688\"/><rect fill=\"none\" height=\"91\" id=\"E2\" rx=\"10\" ry=\"10\" style=\"stroke: #383838; stroke-width: 1.5;\" width=\"82\" x=\"158\" y=\"65\"/><text fill=\"#000000\" font-family=\"sans-serif\" font-size=\"12\" lengthAdjust=\"spacingAndGlyphs\" textLength=\"4\" x=\"197\" y=\"81.1387\">f</text><line style=\"stroke: #383838; stroke-width: 1.0;\" x1=\"158\" x2=\"240\" y1=\"88.9688\" y2=\"88.9688\"/></a><!--MD5=[f6df4d0ebaf0b5dfb2ced0ae5af7c670]\n",
       "cluster E4--><a href=\"psysml:562783b8-e65b-4087-86a0-89c793c14f93\" target=\"_top\" title=\"psysml:562783b8-e65b-4087-86a0-89c793c14f93\" xlink:actuate=\"onRequest\" xlink:href=\"psysml:562783b8-e65b-4087-86a0-89c793c14f93\" xlink:show=\"new\" xlink:title=\"psysml:562783b8-e65b-4087-86a0-89c793c14f93\" xlink:type=\"simple\"><rect fill=\"#FFFFFF\" height=\"107\" id=\"E4\" style=\"stroke: #383838; stroke-width: 1.5;\" width=\"94\" x=\"40\" y=\"49\"/><rect fill=\"#F8F8F8\" height=\"37.9375\" style=\"stroke: #383838; stroke-width: 1.5;\" width=\"94\" x=\"40\" y=\"49\"/><text fill=\"#000000\" font-family=\"sans-serif\" font-size=\"12\" font-style=\"italic\" lengthAdjust=\"spacingAndGlyphs\" textLength=\"64\" x=\"55\" y=\"65.1387\">«part def»</text><text fill=\"#000000\" font-family=\"sans-serif\" font-size=\"12\" lengthAdjust=\"spacingAndGlyphs\" textLength=\"8\" x=\"83\" y=\"79.1074\">C</text></a><g id=\"E1.E2.E3\"><a href=\"psysml:b53848ad-4a38-46bd-bd01-a08ed5bc4cea\" target=\"_top\" title=\"psysml:b53848ad-4a38-46bd-bd01-a08ed5bc4cea\" xlink:actuate=\"onRequest\" xlink:href=\"psysml:b53848ad-4a38-46bd-bd01-a08ed5bc4cea\" xlink:show=\"new\" xlink:title=\"psysml:b53848ad-4a38-46bd-bd01-a08ed5bc4cea\" xlink:type=\"simple\"><rect fill=\"#FFFFFF\" height=\"40\" id=\"E3\" rx=\"10\" ry=\"10\" style=\"stroke: #383838; stroke-width: 1.5;\" width=\"50\" x=\"174\" y=\"100\"/><rect fill=\"#F8F8F8\" height=\"23.9688\" rx=\"10\" ry=\"10\" style=\"stroke: #F8F8F8; stroke-width: 1.5;\" width=\"50\" x=\"174\" y=\"100\"/><rect fill=\"#F8F8F8\" height=\"10\" style=\"stroke: #F8F8F8; stroke-width: 1.5;\" width=\"50\" x=\"174\" y=\"113.9688\"/><rect fill=\"none\" height=\"40\" id=\"E3\" rx=\"10\" ry=\"10\" style=\"stroke: #383838; stroke-width: 1.5;\" width=\"50\" x=\"174\" y=\"100\"/><text fill=\"#000000\" font-family=\"sans-serif\" font-size=\"12\" lengthAdjust=\"spacingAndGlyphs\" textLength=\"8\" x=\"195\" y=\"116.1387\">a</text></a></g><g id=\"E1.E4.E5\"><a href=\"psysml:ab356c3f-6fc6-498c-877e-f29aa221dc38\" target=\"_top\" title=\"psysml:ab356c3f-6fc6-498c-877e-f29aa221dc38\" xlink:actuate=\"onRequest\" xlink:href=\"psysml:ab356c3f-6fc6-498c-877e-f29aa221dc38\" xlink:show=\"new\" xlink:title=\"psysml:ab356c3f-6fc6-498c-877e-f29aa221dc38\" xlink:type=\"simple\"><rect fill=\"#FFFFFF\" height=\"40\" id=\"E5\" rx=\"10\" ry=\"10\" style=\"stroke: #383838; stroke-width: 1.5;\" width=\"61\" x=\"56.5\" y=\"100\"/><rect fill=\"#F8F8F8\" height=\"23.9688\" rx=\"10\" ry=\"10\" style=\"stroke: #F8F8F8; stroke-width: 1.5;\" width=\"61\" x=\"56.5\" y=\"100\"/><rect fill=\"#F8F8F8\" height=\"10\" style=\"stroke: #F8F8F8; stroke-width: 1.5;\" width=\"61\" x=\"56.5\" y=\"113.9688\"/><rect fill=\"none\" height=\"40\" id=\"E5\" rx=\"10\" ry=\"10\" style=\"stroke: #383838; stroke-width: 1.5;\" width=\"61\" x=\"56.5\" y=\"100\"/><text fill=\"#000000\" font-family=\"sans-serif\" font-size=\"12\" lengthAdjust=\"spacingAndGlyphs\" textLength=\"46\" x=\"62\" y=\"116.1387\">g=./f/a;</text></a></g><!--MD5=[8f29d18241a69ffbc29ae09cbfe57a3c]\n",
       "@startuml\r\n",
       "skinparam ranksep 10\r\n",
       "skinparam rectangle {\r\n",
       " backgroundColor<<block>> LightGreen\r\n",
       "}\r\n",
       " skinparam monochrome true\r\n",
       "skinparam classbackgroundcolor white\r\n",
       "skinparam shadowing false\r\n",
       "skinparam wrapWidth 300\r\n",
       "hide circle\r\n",
       "\r\n",
       "package \"Q\" as E1  [[psysml:6ab71797-e8f8-4bff-ada3-bad51ca07e78 ]]  {\r\n",
       "rec usage \"f\" as E2  [[psysml:c02a2287-c712-494f-86c8-48c213fef3aa ]] {\r\n",
       "rec usage \"a\" as E3  [[psysml:b53848ad-4a38-46bd-bd01-a08ed5bc4cea ]] {\r\n",
       "}\r\n",
       "}\r\n",
       "rec def \"C\" as E4  <<(T,blue)part def>> [[psysml:562783b8-e65b-4087-86a0-89c793c14f93 ]] {\r\n",
       "rec usage \"g=./f/a; \" as E5  [[psysml:ab356c3f-6fc6-498c-877e-f29aa221dc38 ]] {\r\n",
       "}\r\n",
       "}\r\n",
       "}\r\n",
       "@enduml\r\n",
       "\n",
       "PlantUML version 1.2020.13(Sat Jun 13 12:26:38 UTC 2020)\n",
       "(EPL source distribution)\n",
       "Java Runtime: OpenJDK Runtime Environment\n",
       "JVM: OpenJDK 64-Bit Server VM\n",
       "Default Encoding: UTF-8\n",
       "Language: en\n",
       "Country: null\n",
       "--></g></svg>"
      ]
     },
     "execution_count": 5,
     "metadata": {},
     "output_type": "execute_result"
    }
   ],
   "source": [
    "%viz --style=\"COMPTREE\" --view=\"Interconnection\" \"Q\""
   ]
  },
  {
   "cell_type": "code",
   "execution_count": 6,
   "id": "6e06001e",
   "metadata": {
    "execution": {
     "iopub.execute_input": "2021-04-20T06:58:44.155278Z",
     "iopub.status.busy": "2021-04-20T06:58:44.154701Z",
     "iopub.status.idle": "2021-04-20T06:58:44.164886Z",
     "shell.execute_reply": "2021-04-20T06:58:44.164508Z"
    }
   },
   "outputs": [
    {
     "data": {
      "image/svg+xml": [
       "<?xml version=\"1.0\" encoding=\"UTF-8\" standalone=\"no\"?><svg xmlns=\"http://www.w3.org/2000/svg\" xmlns:xlink=\"http://www.w3.org/1999/xlink\" contentScriptType=\"application/ecmascript\" contentStyleType=\"text/css\" height=\"12px\" preserveAspectRatio=\"none\" style=\"width:12px;height:12px;\" version=\"1.1\" viewBox=\"0 0 12 12\" width=\"12px\" zoomAndPan=\"magnify\"><defs/><g><!--MD5=[655b888544ca4751ea36af1068543f84]\n",
       "@startuml\r\n",
       "skinparam ranksep 8\r\n",
       " skinparam monochrome true\r\n",
       "skinparam classbackgroundcolor white\r\n",
       "skinparam shadowing false\r\n",
       "skinparam wrapWidth 300\r\n",
       "hide circle\r\n",
       "\r\n",
       "@enduml\r\n",
       "\n",
       "PlantUML version 1.2020.13(Sat Jun 13 12:26:38 UTC 2020)\n",
       "(EPL source distribution)\n",
       "Java Runtime: OpenJDK Runtime Environment\n",
       "JVM: OpenJDK 64-Bit Server VM\n",
       "Default Encoding: UTF-8\n",
       "Language: en\n",
       "Country: null\n",
       "--></g></svg>"
      ]
     },
     "execution_count": 6,
     "metadata": {},
     "output_type": "execute_result"
    }
   ],
   "source": [
    "%viz --style=\"COMPTREE\" --view=\"Action\" \"Q\""
   ]
  },
  {
   "cell_type": "code",
   "execution_count": 7,
   "id": "4b73b0d4",
   "metadata": {
    "execution": {
     "iopub.execute_input": "2021-04-20T06:58:44.217399Z",
     "iopub.status.busy": "2021-04-20T06:58:44.216925Z",
     "iopub.status.idle": "2021-04-20T06:58:44.272878Z",
     "shell.execute_reply": "2021-04-20T06:58:44.264330Z"
    }
   },
   "outputs": [
    {
     "data": {
      "image/svg+xml": [
       "<?xml version=\"1.0\" encoding=\"UTF-8\" standalone=\"no\"?><svg xmlns=\"http://www.w3.org/2000/svg\" xmlns:xlink=\"http://www.w3.org/1999/xlink\" contentScriptType=\"application/ecmascript\" contentStyleType=\"text/css\" height=\"221px\" preserveAspectRatio=\"none\" style=\"width:213px;height:221px;\" version=\"1.1\" viewBox=\"0 0 213 221\" width=\"213px\" zoomAndPan=\"magnify\"><defs/><g><!--MD5=[fbc87193dbaf4d95561dea2c320d4a47]\n",
       "cluster E1--><a href=\"psysml:6ab71797-e8f8-4bff-ada3-bad51ca07e78\" target=\"_top\" title=\"psysml:6ab71797-e8f8-4bff-ada3-bad51ca07e78\" xlink:actuate=\"onRequest\" xlink:href=\"psysml:6ab71797-e8f8-4bff-ada3-bad51ca07e78\" xlink:show=\"new\" xlink:title=\"psysml:6ab71797-e8f8-4bff-ada3-bad51ca07e78\" xlink:type=\"simple\"><polygon fill=\"#FFFFFF\" points=\"16,6,34,6,41,28.2969,191,28.2969,191,209,16,209,16,6\" style=\"stroke: #000000; stroke-width: 1.5;\"/><line style=\"stroke: #000000; stroke-width: 1.5;\" x1=\"16\" x2=\"41\" y1=\"28.2969\" y2=\"28.2969\"/><text fill=\"#000000\" font-family=\"sans-serif\" font-size=\"14\" font-weight=\"bold\" lengthAdjust=\"spacingAndGlyphs\" textLength=\"12\" x=\"20\" y=\"20.9951\">Q</text></a><!--MD5=[b4997ac47864f28c2f74865a473b2911]\n",
       "class E2--><a href=\"psysml:c02a2287-c712-494f-86c8-48c213fef3aa\" target=\"_top\" title=\"psysml:c02a2287-c712-494f-86c8-48c213fef3aa\" xlink:actuate=\"onRequest\" xlink:href=\"psysml:c02a2287-c712-494f-86c8-48c213fef3aa\" xlink:show=\"new\" xlink:title=\"psysml:c02a2287-c712-494f-86c8-48c213fef3aa\" xlink:type=\"simple\"><rect fill=\"#FFFFFF\" height=\"45.9375\" id=\"E2\" rx=\"10\" ry=\"10\" style=\"stroke: #383838; stroke-width: 1.5;\" width=\"42\" x=\"133\" y=\"41\"/><text fill=\"#000000\" font-family=\"sans-serif\" font-size=\"12\" font-style=\"italic\" lengthAdjust=\"spacingAndGlyphs\" textLength=\"40\" x=\"134\" y=\"57.1387\">«part»</text><text fill=\"#000000\" font-family=\"sans-serif\" font-size=\"12\" lengthAdjust=\"spacingAndGlyphs\" textLength=\"4\" x=\"152\" y=\"71.1074\">f</text><line style=\"stroke: #383838; stroke-width: 1.5;\" x1=\"134\" x2=\"174\" y1=\"78.9375\" y2=\"78.9375\"/></a><!--MD5=[09b614a08d8cba4a07c9adeb5e0fee81]\n",
       "class E3--><a href=\"psysml:b53848ad-4a38-46bd-bd01-a08ed5bc4cea\" target=\"_top\" title=\"psysml:b53848ad-4a38-46bd-bd01-a08ed5bc4cea\" xlink:actuate=\"onRequest\" xlink:href=\"psysml:b53848ad-4a38-46bd-bd01-a08ed5bc4cea\" xlink:show=\"new\" xlink:title=\"psysml:b53848ad-4a38-46bd-bd01-a08ed5bc4cea\" xlink:type=\"simple\"><rect fill=\"#FFFFFF\" height=\"45.9375\" id=\"E3\" rx=\"10\" ry=\"10\" style=\"stroke: #383838; stroke-width: 1.5;\" width=\"42\" x=\"133\" y=\"147\"/><text fill=\"#000000\" font-family=\"sans-serif\" font-size=\"12\" font-style=\"italic\" lengthAdjust=\"spacingAndGlyphs\" textLength=\"40\" x=\"134\" y=\"163.1387\">«part»</text><text fill=\"#000000\" font-family=\"sans-serif\" font-size=\"12\" lengthAdjust=\"spacingAndGlyphs\" textLength=\"8\" x=\"150\" y=\"177.1074\">a</text><line style=\"stroke: #383838; stroke-width: 1.5;\" x1=\"134\" x2=\"174\" y1=\"184.9375\" y2=\"184.9375\"/></a><!--MD5=[ebbe1d658d1005bcc118a6aa81145e00]\n",
       "class E4--><a href=\"psysml:562783b8-e65b-4087-86a0-89c793c14f93\" target=\"_top\" title=\"psysml:562783b8-e65b-4087-86a0-89c793c14f93\" xlink:actuate=\"onRequest\" xlink:href=\"psysml:562783b8-e65b-4087-86a0-89c793c14f93\" xlink:show=\"new\" xlink:title=\"psysml:562783b8-e65b-4087-86a0-89c793c14f93\" xlink:type=\"simple\"><rect fill=\"#FFFFFF\" height=\"45.9375\" id=\"E4\" style=\"stroke: #383838; stroke-width: 1.5;\" width=\"66\" x=\"32\" y=\"41\"/><text fill=\"#000000\" font-family=\"sans-serif\" font-size=\"12\" font-style=\"italic\" lengthAdjust=\"spacingAndGlyphs\" textLength=\"64\" x=\"33\" y=\"57.1387\">«part def»</text><text fill=\"#000000\" font-family=\"sans-serif\" font-size=\"12\" lengthAdjust=\"spacingAndGlyphs\" textLength=\"8\" x=\"61\" y=\"71.1074\">C</text><line style=\"stroke: #383838; stroke-width: 1.5;\" x1=\"33\" x2=\"97\" y1=\"78.9375\" y2=\"78.9375\"/></a><!--MD5=[270fce915f116d4de14055a7c1d9a0f3]\n",
       "class E5--><a href=\"psysml:ab356c3f-6fc6-498c-877e-f29aa221dc38\" target=\"_top\" title=\"psysml:ab356c3f-6fc6-498c-877e-f29aa221dc38\" xlink:actuate=\"onRequest\" xlink:href=\"psysml:ab356c3f-6fc6-498c-877e-f29aa221dc38\" xlink:show=\"new\" xlink:title=\"psysml:ab356c3f-6fc6-498c-877e-f29aa221dc38\" xlink:type=\"simple\"><rect fill=\"#FFFFFF\" height=\"45.9375\" id=\"E5\" rx=\"10\" ry=\"10\" style=\"stroke: #383838; stroke-width: 1.5;\" width=\"42\" x=\"44\" y=\"147\"/><text fill=\"#000000\" font-family=\"sans-serif\" font-size=\"12\" font-style=\"italic\" lengthAdjust=\"spacingAndGlyphs\" textLength=\"40\" x=\"45\" y=\"163.1387\">«part»</text><text fill=\"#000000\" font-family=\"sans-serif\" font-size=\"12\" lengthAdjust=\"spacingAndGlyphs\" textLength=\"8\" x=\"61\" y=\"177.1074\">g</text><line style=\"stroke: #383838; stroke-width: 1.5;\" x1=\"45\" x2=\"85\" y1=\"184.9375\" y2=\"184.9375\"/></a><!--MD5=[209b3feb70ccb6233bfe1053d122c12c]\n",
       "reverse link E2 to E3--><a href=\"psysml:3a53f0eb-5b79-463f-97a3-37a7a9b28614\" target=\"_top\" title=\"psysml:3a53f0eb-5b79-463f-97a3-37a7a9b28614\" xlink:actuate=\"onRequest\" xlink:href=\"psysml:3a53f0eb-5b79-463f-97a3-37a7a9b28614\" xlink:show=\"new\" xlink:title=\"psysml:3a53f0eb-5b79-463f-97a3-37a7a9b28614\" xlink:type=\"simple\"><path d=\"M154,100.44 C154,115.87 154,133.47 154,146.98 \" fill=\"none\" id=\"E2&lt;-E3\" style=\"stroke: #383838; stroke-width: 1.0;\"/><polygon fill=\"#383838\" points=\"154,87.06,150,93.06,154,99.06,158,93.06,154,87.06\" style=\"stroke: #383838; stroke-width: 1.0;\"/></a><!--MD5=[62aa6af11e70f752912c1cb0466f24f7]\n",
       "reverse link E4 to E5--><a href=\"psysml:b96f3833-0cb6-4ba3-9671-acfc6ae0d964\" target=\"_top\" title=\"psysml:b96f3833-0cb6-4ba3-9671-acfc6ae0d964\" xlink:actuate=\"onRequest\" xlink:href=\"psysml:b96f3833-0cb6-4ba3-9671-acfc6ae0d964\" xlink:show=\"new\" xlink:title=\"psysml:b96f3833-0cb6-4ba3-9671-acfc6ae0d964\" xlink:type=\"simple\"><path d=\"M65,100.44 C65,115.87 65,133.47 65,146.98 \" fill=\"none\" id=\"E4&lt;-E5\" style=\"stroke: #383838; stroke-width: 1.0;\"/><polygon fill=\"#383838\" points=\"65,87.06,61,93.06,65,99.06,69,93.06,65,87.06\" style=\"stroke: #383838; stroke-width: 1.0;\"/></a><!--MD5=[91e8c6e8bb503d95806b6c23596c4c30]\n",
       "@startuml\r\n",
       " skinparam monochrome true\r\n",
       "skinparam classbackgroundcolor white\r\n",
       "skinparam shadowing false\r\n",
       "skinparam wrapWidth 300\r\n",
       "hide circle\r\n",
       "\r\n",
       "package \"Q\" as E1  [[psysml:6ab71797-e8f8-4bff-ada3-bad51ca07e78 ]]  {\r\n",
       "comp usage \"f\" as E2  <<(T,blue)part>> [[psysml:c02a2287-c712-494f-86c8-48c213fef3aa ]] {\r\n",
       "}\r\n",
       "comp usage \"a\" as E3  <<(T,blue)part>> [[psysml:b53848ad-4a38-46bd-bd01-a08ed5bc4cea ]] {\r\n",
       "}\r\n",
       "comp def \"C\" as E4  <<(T,blue)part def>> [[psysml:562783b8-e65b-4087-86a0-89c793c14f93 ]] {\r\n",
       "}\r\n",
       "comp usage \"g\" as E5  <<(T,blue)part>> [[psysml:ab356c3f-6fc6-498c-877e-f29aa221dc38 ]] {\r\n",
       "}\r\n",
       "E2 *- - E3 [[psysml:3a53f0eb-5b79-463f-97a3-37a7a9b28614 ]] \r\n",
       "E4 *- - E5 [[psysml:b96f3833-0cb6-4ba3-9671-acfc6ae0d964 ]] \r\n",
       "}\r\n",
       "@enduml\r\n",
       "\n",
       "PlantUML version 1.2020.13(Sat Jun 13 12:26:38 UTC 2020)\n",
       "(EPL source distribution)\n",
       "Java Runtime: OpenJDK Runtime Environment\n",
       "JVM: OpenJDK 64-Bit Server VM\n",
       "Default Encoding: UTF-8\n",
       "Language: en\n",
       "Country: null\n",
       "--></g></svg>"
      ]
     },
     "execution_count": 7,
     "metadata": {},
     "output_type": "execute_result"
    }
   ],
   "source": [
    "%viz --style=\"COMPTREE\" --view=\"Sequence\" \"Q\""
   ]
  },
  {
   "cell_type": "code",
   "execution_count": 8,
   "id": "5091c3bb",
   "metadata": {
    "execution": {
     "iopub.execute_input": "2021-04-20T06:58:44.326209Z",
     "iopub.status.busy": "2021-04-20T06:58:44.325671Z",
     "iopub.status.idle": "2021-04-20T06:58:44.365071Z",
     "shell.execute_reply": "2021-04-20T06:58:44.364388Z"
    }
   },
   "outputs": [
    {
     "data": {
      "image/svg+xml": [
       "<?xml version=\"1.0\" encoding=\"UTF-8\" standalone=\"no\"?><svg xmlns=\"http://www.w3.org/2000/svg\" xmlns:xlink=\"http://www.w3.org/1999/xlink\" contentScriptType=\"application/ecmascript\" contentStyleType=\"text/css\" height=\"221px\" preserveAspectRatio=\"none\" style=\"width:213px;height:221px;\" version=\"1.1\" viewBox=\"0 0 213 221\" width=\"213px\" zoomAndPan=\"magnify\"><defs/><g><!--MD5=[fbc87193dbaf4d95561dea2c320d4a47]\n",
       "cluster E1--><a href=\"psysml:6ab71797-e8f8-4bff-ada3-bad51ca07e78\" target=\"_top\" title=\"psysml:6ab71797-e8f8-4bff-ada3-bad51ca07e78\" xlink:actuate=\"onRequest\" xlink:href=\"psysml:6ab71797-e8f8-4bff-ada3-bad51ca07e78\" xlink:show=\"new\" xlink:title=\"psysml:6ab71797-e8f8-4bff-ada3-bad51ca07e78\" xlink:type=\"simple\"><polygon fill=\"#FFFFFF\" points=\"16,6,34,6,41,28.2969,191,28.2969,191,209,16,209,16,6\" style=\"stroke: #000000; stroke-width: 1.5;\"/><line style=\"stroke: #000000; stroke-width: 1.5;\" x1=\"16\" x2=\"41\" y1=\"28.2969\" y2=\"28.2969\"/><text fill=\"#000000\" font-family=\"sans-serif\" font-size=\"14\" font-weight=\"bold\" lengthAdjust=\"spacingAndGlyphs\" textLength=\"12\" x=\"20\" y=\"20.9951\">Q</text></a><!--MD5=[b4997ac47864f28c2f74865a473b2911]\n",
       "class E2--><a href=\"psysml:c02a2287-c712-494f-86c8-48c213fef3aa\" target=\"_top\" title=\"psysml:c02a2287-c712-494f-86c8-48c213fef3aa\" xlink:actuate=\"onRequest\" xlink:href=\"psysml:c02a2287-c712-494f-86c8-48c213fef3aa\" xlink:show=\"new\" xlink:title=\"psysml:c02a2287-c712-494f-86c8-48c213fef3aa\" xlink:type=\"simple\"><rect fill=\"#FFFFFF\" height=\"45.9375\" id=\"E2\" rx=\"10\" ry=\"10\" style=\"stroke: #383838; stroke-width: 1.5;\" width=\"42\" x=\"133\" y=\"41\"/><text fill=\"#000000\" font-family=\"sans-serif\" font-size=\"12\" font-style=\"italic\" lengthAdjust=\"spacingAndGlyphs\" textLength=\"40\" x=\"134\" y=\"57.1387\">«part»</text><text fill=\"#000000\" font-family=\"sans-serif\" font-size=\"12\" lengthAdjust=\"spacingAndGlyphs\" textLength=\"4\" x=\"152\" y=\"71.1074\">f</text><line style=\"stroke: #383838; stroke-width: 1.5;\" x1=\"134\" x2=\"174\" y1=\"78.9375\" y2=\"78.9375\"/></a><!--MD5=[09b614a08d8cba4a07c9adeb5e0fee81]\n",
       "class E3--><a href=\"psysml:b53848ad-4a38-46bd-bd01-a08ed5bc4cea\" target=\"_top\" title=\"psysml:b53848ad-4a38-46bd-bd01-a08ed5bc4cea\" xlink:actuate=\"onRequest\" xlink:href=\"psysml:b53848ad-4a38-46bd-bd01-a08ed5bc4cea\" xlink:show=\"new\" xlink:title=\"psysml:b53848ad-4a38-46bd-bd01-a08ed5bc4cea\" xlink:type=\"simple\"><rect fill=\"#FFFFFF\" height=\"45.9375\" id=\"E3\" rx=\"10\" ry=\"10\" style=\"stroke: #383838; stroke-width: 1.5;\" width=\"42\" x=\"133\" y=\"147\"/><text fill=\"#000000\" font-family=\"sans-serif\" font-size=\"12\" font-style=\"italic\" lengthAdjust=\"spacingAndGlyphs\" textLength=\"40\" x=\"134\" y=\"163.1387\">«part»</text><text fill=\"#000000\" font-family=\"sans-serif\" font-size=\"12\" lengthAdjust=\"spacingAndGlyphs\" textLength=\"8\" x=\"150\" y=\"177.1074\">a</text><line style=\"stroke: #383838; stroke-width: 1.5;\" x1=\"134\" x2=\"174\" y1=\"184.9375\" y2=\"184.9375\"/></a><!--MD5=[ebbe1d658d1005bcc118a6aa81145e00]\n",
       "class E4--><a href=\"psysml:562783b8-e65b-4087-86a0-89c793c14f93\" target=\"_top\" title=\"psysml:562783b8-e65b-4087-86a0-89c793c14f93\" xlink:actuate=\"onRequest\" xlink:href=\"psysml:562783b8-e65b-4087-86a0-89c793c14f93\" xlink:show=\"new\" xlink:title=\"psysml:562783b8-e65b-4087-86a0-89c793c14f93\" xlink:type=\"simple\"><rect fill=\"#FFFFFF\" height=\"45.9375\" id=\"E4\" style=\"stroke: #383838; stroke-width: 1.5;\" width=\"66\" x=\"32\" y=\"41\"/><text fill=\"#000000\" font-family=\"sans-serif\" font-size=\"12\" font-style=\"italic\" lengthAdjust=\"spacingAndGlyphs\" textLength=\"64\" x=\"33\" y=\"57.1387\">«part def»</text><text fill=\"#000000\" font-family=\"sans-serif\" font-size=\"12\" lengthAdjust=\"spacingAndGlyphs\" textLength=\"8\" x=\"61\" y=\"71.1074\">C</text><line style=\"stroke: #383838; stroke-width: 1.5;\" x1=\"33\" x2=\"97\" y1=\"78.9375\" y2=\"78.9375\"/></a><!--MD5=[270fce915f116d4de14055a7c1d9a0f3]\n",
       "class E5--><a href=\"psysml:ab356c3f-6fc6-498c-877e-f29aa221dc38\" target=\"_top\" title=\"psysml:ab356c3f-6fc6-498c-877e-f29aa221dc38\" xlink:actuate=\"onRequest\" xlink:href=\"psysml:ab356c3f-6fc6-498c-877e-f29aa221dc38\" xlink:show=\"new\" xlink:title=\"psysml:ab356c3f-6fc6-498c-877e-f29aa221dc38\" xlink:type=\"simple\"><rect fill=\"#FFFFFF\" height=\"45.9375\" id=\"E5\" rx=\"10\" ry=\"10\" style=\"stroke: #383838; stroke-width: 1.5;\" width=\"42\" x=\"44\" y=\"147\"/><text fill=\"#000000\" font-family=\"sans-serif\" font-size=\"12\" font-style=\"italic\" lengthAdjust=\"spacingAndGlyphs\" textLength=\"40\" x=\"45\" y=\"163.1387\">«part»</text><text fill=\"#000000\" font-family=\"sans-serif\" font-size=\"12\" lengthAdjust=\"spacingAndGlyphs\" textLength=\"8\" x=\"61\" y=\"177.1074\">g</text><line style=\"stroke: #383838; stroke-width: 1.5;\" x1=\"45\" x2=\"85\" y1=\"184.9375\" y2=\"184.9375\"/></a><!--MD5=[209b3feb70ccb6233bfe1053d122c12c]\n",
       "reverse link E2 to E3--><a href=\"psysml:3a53f0eb-5b79-463f-97a3-37a7a9b28614\" target=\"_top\" title=\"psysml:3a53f0eb-5b79-463f-97a3-37a7a9b28614\" xlink:actuate=\"onRequest\" xlink:href=\"psysml:3a53f0eb-5b79-463f-97a3-37a7a9b28614\" xlink:show=\"new\" xlink:title=\"psysml:3a53f0eb-5b79-463f-97a3-37a7a9b28614\" xlink:type=\"simple\"><path d=\"M154,100.44 C154,115.87 154,133.47 154,146.98 \" fill=\"none\" id=\"E2&lt;-E3\" style=\"stroke: #383838; stroke-width: 1.0;\"/><polygon fill=\"#383838\" points=\"154,87.06,150,93.06,154,99.06,158,93.06,154,87.06\" style=\"stroke: #383838; stroke-width: 1.0;\"/></a><!--MD5=[62aa6af11e70f752912c1cb0466f24f7]\n",
       "reverse link E4 to E5--><a href=\"psysml:b96f3833-0cb6-4ba3-9671-acfc6ae0d964\" target=\"_top\" title=\"psysml:b96f3833-0cb6-4ba3-9671-acfc6ae0d964\" xlink:actuate=\"onRequest\" xlink:href=\"psysml:b96f3833-0cb6-4ba3-9671-acfc6ae0d964\" xlink:show=\"new\" xlink:title=\"psysml:b96f3833-0cb6-4ba3-9671-acfc6ae0d964\" xlink:type=\"simple\"><path d=\"M65,100.44 C65,115.87 65,133.47 65,146.98 \" fill=\"none\" id=\"E4&lt;-E5\" style=\"stroke: #383838; stroke-width: 1.0;\"/><polygon fill=\"#383838\" points=\"65,87.06,61,93.06,65,99.06,69,93.06,65,87.06\" style=\"stroke: #383838; stroke-width: 1.0;\"/></a><!--MD5=[91e8c6e8bb503d95806b6c23596c4c30]\n",
       "@startuml\r\n",
       " skinparam monochrome true\r\n",
       "skinparam classbackgroundcolor white\r\n",
       "skinparam shadowing false\r\n",
       "skinparam wrapWidth 300\r\n",
       "hide circle\r\n",
       "\r\n",
       "package \"Q\" as E1  [[psysml:6ab71797-e8f8-4bff-ada3-bad51ca07e78 ]]  {\r\n",
       "comp usage \"f\" as E2  <<(T,blue)part>> [[psysml:c02a2287-c712-494f-86c8-48c213fef3aa ]] {\r\n",
       "}\r\n",
       "comp usage \"a\" as E3  <<(T,blue)part>> [[psysml:b53848ad-4a38-46bd-bd01-a08ed5bc4cea ]] {\r\n",
       "}\r\n",
       "comp def \"C\" as E4  <<(T,blue)part def>> [[psysml:562783b8-e65b-4087-86a0-89c793c14f93 ]] {\r\n",
       "}\r\n",
       "comp usage \"g\" as E5  <<(T,blue)part>> [[psysml:ab356c3f-6fc6-498c-877e-f29aa221dc38 ]] {\r\n",
       "}\r\n",
       "E2 *- - E3 [[psysml:3a53f0eb-5b79-463f-97a3-37a7a9b28614 ]] \r\n",
       "E4 *- - E5 [[psysml:b96f3833-0cb6-4ba3-9671-acfc6ae0d964 ]] \r\n",
       "}\r\n",
       "@enduml\r\n",
       "\n",
       "PlantUML version 1.2020.13(Sat Jun 13 12:26:38 UTC 2020)\n",
       "(EPL source distribution)\n",
       "Java Runtime: OpenJDK Runtime Environment\n",
       "JVM: OpenJDK 64-Bit Server VM\n",
       "Default Encoding: UTF-8\n",
       "Language: en\n",
       "Country: null\n",
       "--></g></svg>"
      ]
     },
     "execution_count": 8,
     "metadata": {},
     "output_type": "execute_result"
    }
   ],
   "source": [
    "%viz --style=\"COMPTREE\" --view=\"MIXED\" \"Q\""
   ]
  },
  {
   "cell_type": "code",
   "execution_count": 9,
   "id": "93ff95f5",
   "metadata": {
    "execution": {
     "iopub.execute_input": "2021-04-20T06:58:44.414904Z",
     "iopub.status.busy": "2021-04-20T06:58:44.414059Z",
     "iopub.status.idle": "2021-04-20T06:58:44.452100Z",
     "shell.execute_reply": "2021-04-20T06:58:44.451726Z"
    }
   },
   "outputs": [
    {
     "data": {
      "image/svg+xml": [
       "<?xml version=\"1.0\" encoding=\"UTF-8\" standalone=\"no\"?><svg xmlns=\"http://www.w3.org/2000/svg\" xmlns:xlink=\"http://www.w3.org/1999/xlink\" contentScriptType=\"application/ecmascript\" contentStyleType=\"text/css\" height=\"221px\" preserveAspectRatio=\"none\" style=\"width:213px;height:221px;\" version=\"1.1\" viewBox=\"0 0 213 221\" width=\"213px\" zoomAndPan=\"magnify\"><defs/><g><!--MD5=[fbc87193dbaf4d95561dea2c320d4a47]\n",
       "cluster E1--><a href=\"psysml:6ab71797-e8f8-4bff-ada3-bad51ca07e78\" target=\"_top\" title=\"psysml:6ab71797-e8f8-4bff-ada3-bad51ca07e78\" xlink:actuate=\"onRequest\" xlink:href=\"psysml:6ab71797-e8f8-4bff-ada3-bad51ca07e78\" xlink:show=\"new\" xlink:title=\"psysml:6ab71797-e8f8-4bff-ada3-bad51ca07e78\" xlink:type=\"simple\"><polygon fill=\"#FFFFFF\" points=\"16,6,34,6,41,28.2969,191,28.2969,191,209,16,209,16,6\" style=\"stroke: #000000; stroke-width: 1.5;\"/><line style=\"stroke: #000000; stroke-width: 1.5;\" x1=\"16\" x2=\"41\" y1=\"28.2969\" y2=\"28.2969\"/><text fill=\"#000000\" font-family=\"sans-serif\" font-size=\"14\" font-weight=\"bold\" lengthAdjust=\"spacingAndGlyphs\" textLength=\"12\" x=\"20\" y=\"20.9951\">Q</text></a><!--MD5=[b4997ac47864f28c2f74865a473b2911]\n",
       "class E2--><a href=\"psysml:c02a2287-c712-494f-86c8-48c213fef3aa\" target=\"_top\" title=\"psysml:c02a2287-c712-494f-86c8-48c213fef3aa\" xlink:actuate=\"onRequest\" xlink:href=\"psysml:c02a2287-c712-494f-86c8-48c213fef3aa\" xlink:show=\"new\" xlink:title=\"psysml:c02a2287-c712-494f-86c8-48c213fef3aa\" xlink:type=\"simple\"><rect fill=\"#FFFFFF\" height=\"45.9375\" id=\"E2\" rx=\"10\" ry=\"10\" style=\"stroke: #383838; stroke-width: 1.5;\" width=\"42\" x=\"133\" y=\"41\"/><text fill=\"#000000\" font-family=\"sans-serif\" font-size=\"12\" font-style=\"italic\" lengthAdjust=\"spacingAndGlyphs\" textLength=\"40\" x=\"134\" y=\"57.1387\">«part»</text><text fill=\"#000000\" font-family=\"sans-serif\" font-size=\"12\" lengthAdjust=\"spacingAndGlyphs\" textLength=\"4\" x=\"152\" y=\"71.1074\">f</text><line style=\"stroke: #383838; stroke-width: 1.5;\" x1=\"134\" x2=\"174\" y1=\"78.9375\" y2=\"78.9375\"/></a><!--MD5=[09b614a08d8cba4a07c9adeb5e0fee81]\n",
       "class E3--><a href=\"psysml:b53848ad-4a38-46bd-bd01-a08ed5bc4cea\" target=\"_top\" title=\"psysml:b53848ad-4a38-46bd-bd01-a08ed5bc4cea\" xlink:actuate=\"onRequest\" xlink:href=\"psysml:b53848ad-4a38-46bd-bd01-a08ed5bc4cea\" xlink:show=\"new\" xlink:title=\"psysml:b53848ad-4a38-46bd-bd01-a08ed5bc4cea\" xlink:type=\"simple\"><rect fill=\"#FFFFFF\" height=\"45.9375\" id=\"E3\" rx=\"10\" ry=\"10\" style=\"stroke: #383838; stroke-width: 1.5;\" width=\"42\" x=\"133\" y=\"147\"/><text fill=\"#000000\" font-family=\"sans-serif\" font-size=\"12\" font-style=\"italic\" lengthAdjust=\"spacingAndGlyphs\" textLength=\"40\" x=\"134\" y=\"163.1387\">«part»</text><text fill=\"#000000\" font-family=\"sans-serif\" font-size=\"12\" lengthAdjust=\"spacingAndGlyphs\" textLength=\"8\" x=\"150\" y=\"177.1074\">a</text><line style=\"stroke: #383838; stroke-width: 1.5;\" x1=\"134\" x2=\"174\" y1=\"184.9375\" y2=\"184.9375\"/></a><!--MD5=[ebbe1d658d1005bcc118a6aa81145e00]\n",
       "class E4--><a href=\"psysml:562783b8-e65b-4087-86a0-89c793c14f93\" target=\"_top\" title=\"psysml:562783b8-e65b-4087-86a0-89c793c14f93\" xlink:actuate=\"onRequest\" xlink:href=\"psysml:562783b8-e65b-4087-86a0-89c793c14f93\" xlink:show=\"new\" xlink:title=\"psysml:562783b8-e65b-4087-86a0-89c793c14f93\" xlink:type=\"simple\"><rect fill=\"#FFFFFF\" height=\"45.9375\" id=\"E4\" style=\"stroke: #383838; stroke-width: 1.5;\" width=\"66\" x=\"32\" y=\"41\"/><text fill=\"#000000\" font-family=\"sans-serif\" font-size=\"12\" font-style=\"italic\" lengthAdjust=\"spacingAndGlyphs\" textLength=\"64\" x=\"33\" y=\"57.1387\">«part def»</text><text fill=\"#000000\" font-family=\"sans-serif\" font-size=\"12\" lengthAdjust=\"spacingAndGlyphs\" textLength=\"8\" x=\"61\" y=\"71.1074\">C</text><line style=\"stroke: #383838; stroke-width: 1.5;\" x1=\"33\" x2=\"97\" y1=\"78.9375\" y2=\"78.9375\"/></a><!--MD5=[270fce915f116d4de14055a7c1d9a0f3]\n",
       "class E5--><a href=\"psysml:ab356c3f-6fc6-498c-877e-f29aa221dc38\" target=\"_top\" title=\"psysml:ab356c3f-6fc6-498c-877e-f29aa221dc38\" xlink:actuate=\"onRequest\" xlink:href=\"psysml:ab356c3f-6fc6-498c-877e-f29aa221dc38\" xlink:show=\"new\" xlink:title=\"psysml:ab356c3f-6fc6-498c-877e-f29aa221dc38\" xlink:type=\"simple\"><rect fill=\"#FFFFFF\" height=\"45.9375\" id=\"E5\" rx=\"10\" ry=\"10\" style=\"stroke: #383838; stroke-width: 1.5;\" width=\"42\" x=\"44\" y=\"147\"/><text fill=\"#000000\" font-family=\"sans-serif\" font-size=\"12\" font-style=\"italic\" lengthAdjust=\"spacingAndGlyphs\" textLength=\"40\" x=\"45\" y=\"163.1387\">«part»</text><text fill=\"#000000\" font-family=\"sans-serif\" font-size=\"12\" lengthAdjust=\"spacingAndGlyphs\" textLength=\"8\" x=\"61\" y=\"177.1074\">g</text><line style=\"stroke: #383838; stroke-width: 1.5;\" x1=\"45\" x2=\"85\" y1=\"184.9375\" y2=\"184.9375\"/></a><!--MD5=[209b3feb70ccb6233bfe1053d122c12c]\n",
       "reverse link E2 to E3--><a href=\"psysml:3a53f0eb-5b79-463f-97a3-37a7a9b28614\" target=\"_top\" title=\"psysml:3a53f0eb-5b79-463f-97a3-37a7a9b28614\" xlink:actuate=\"onRequest\" xlink:href=\"psysml:3a53f0eb-5b79-463f-97a3-37a7a9b28614\" xlink:show=\"new\" xlink:title=\"psysml:3a53f0eb-5b79-463f-97a3-37a7a9b28614\" xlink:type=\"simple\"><path d=\"M154,100.44 C154,115.87 154,133.47 154,146.98 \" fill=\"none\" id=\"E2&lt;-E3\" style=\"stroke: #383838; stroke-width: 1.0;\"/><polygon fill=\"#383838\" points=\"154,87.06,150,93.06,154,99.06,158,93.06,154,87.06\" style=\"stroke: #383838; stroke-width: 1.0;\"/></a><!--MD5=[62aa6af11e70f752912c1cb0466f24f7]\n",
       "reverse link E4 to E5--><a href=\"psysml:b96f3833-0cb6-4ba3-9671-acfc6ae0d964\" target=\"_top\" title=\"psysml:b96f3833-0cb6-4ba3-9671-acfc6ae0d964\" xlink:actuate=\"onRequest\" xlink:href=\"psysml:b96f3833-0cb6-4ba3-9671-acfc6ae0d964\" xlink:show=\"new\" xlink:title=\"psysml:b96f3833-0cb6-4ba3-9671-acfc6ae0d964\" xlink:type=\"simple\"><path d=\"M65,100.44 C65,115.87 65,133.47 65,146.98 \" fill=\"none\" id=\"E4&lt;-E5\" style=\"stroke: #383838; stroke-width: 1.0;\"/><polygon fill=\"#383838\" points=\"65,87.06,61,93.06,65,99.06,69,93.06,65,87.06\" style=\"stroke: #383838; stroke-width: 1.0;\"/></a><!--MD5=[f61d9df60db9f367756976200a1a5efa]\n",
       "@startuml\r\n",
       "skinparam linetype polyline\r\n",
       "skinparam monochrome true\r\n",
       "skinparam classbackgroundcolor white\r\n",
       "skinparam shadowing false\r\n",
       "skinparam wrapWidth 300\r\n",
       "hide circle\r\n",
       "\r\n",
       "package \"Q\" as E1  [[psysml:6ab71797-e8f8-4bff-ada3-bad51ca07e78 ]]  {\r\n",
       "comp usage \"f\" as E2  <<(T,blue)part>> [[psysml:c02a2287-c712-494f-86c8-48c213fef3aa ]] {\r\n",
       "}\r\n",
       "comp usage \"a\" as E3  <<(T,blue)part>> [[psysml:b53848ad-4a38-46bd-bd01-a08ed5bc4cea ]] {\r\n",
       "}\r\n",
       "comp def \"C\" as E4  <<(T,blue)part def>> [[psysml:562783b8-e65b-4087-86a0-89c793c14f93 ]] {\r\n",
       "}\r\n",
       "comp usage \"g\" as E5  <<(T,blue)part>> [[psysml:ab356c3f-6fc6-498c-877e-f29aa221dc38 ]] {\r\n",
       "}\r\n",
       "E2 *- - E3 [[psysml:3a53f0eb-5b79-463f-97a3-37a7a9b28614 ]] \r\n",
       "E4 *- - E5 [[psysml:b96f3833-0cb6-4ba3-9671-acfc6ae0d964 ]] \r\n",
       "}\r\n",
       "@enduml\r\n",
       "\n",
       "PlantUML version 1.2020.13(Sat Jun 13 12:26:38 UTC 2020)\n",
       "(EPL source distribution)\n",
       "Java Runtime: OpenJDK Runtime Environment\n",
       "JVM: OpenJDK 64-Bit Server VM\n",
       "Default Encoding: UTF-8\n",
       "Language: en\n",
       "Country: null\n",
       "--></g></svg>"
      ]
     },
     "execution_count": 9,
     "metadata": {},
     "output_type": "execute_result"
    }
   ],
   "source": [
    "%viz --style=\"POLYLINE\" --view=\"Default\" \"Q\""
   ]
  },
  {
   "cell_type": "code",
   "execution_count": 10,
   "id": "9536bffe",
   "metadata": {
    "execution": {
     "iopub.execute_input": "2021-04-20T06:58:44.502967Z",
     "iopub.status.busy": "2021-04-20T06:58:44.502447Z",
     "iopub.status.idle": "2021-04-20T06:58:44.540505Z",
     "shell.execute_reply": "2021-04-20T06:58:44.540183Z"
    }
   },
   "outputs": [
    {
     "data": {
      "image/svg+xml": [
       "<?xml version=\"1.0\" encoding=\"UTF-8\" standalone=\"no\"?><svg xmlns=\"http://www.w3.org/2000/svg\" xmlns:xlink=\"http://www.w3.org/1999/xlink\" contentScriptType=\"application/ecmascript\" contentStyleType=\"text/css\" height=\"221px\" preserveAspectRatio=\"none\" style=\"width:213px;height:221px;\" version=\"1.1\" viewBox=\"0 0 213 221\" width=\"213px\" zoomAndPan=\"magnify\"><defs/><g><!--MD5=[fbc87193dbaf4d95561dea2c320d4a47]\n",
       "cluster E1--><a href=\"psysml:6ab71797-e8f8-4bff-ada3-bad51ca07e78\" target=\"_top\" title=\"psysml:6ab71797-e8f8-4bff-ada3-bad51ca07e78\" xlink:actuate=\"onRequest\" xlink:href=\"psysml:6ab71797-e8f8-4bff-ada3-bad51ca07e78\" xlink:show=\"new\" xlink:title=\"psysml:6ab71797-e8f8-4bff-ada3-bad51ca07e78\" xlink:type=\"simple\"><polygon fill=\"#FFFFFF\" points=\"16,6,34,6,41,28.2969,191,28.2969,191,209,16,209,16,6\" style=\"stroke: #000000; stroke-width: 1.5;\"/><line style=\"stroke: #000000; stroke-width: 1.5;\" x1=\"16\" x2=\"41\" y1=\"28.2969\" y2=\"28.2969\"/><text fill=\"#000000\" font-family=\"sans-serif\" font-size=\"14\" font-weight=\"bold\" lengthAdjust=\"spacingAndGlyphs\" textLength=\"12\" x=\"20\" y=\"20.9951\">Q</text></a><!--MD5=[b4997ac47864f28c2f74865a473b2911]\n",
       "class E2--><a href=\"psysml:c02a2287-c712-494f-86c8-48c213fef3aa\" target=\"_top\" title=\"psysml:c02a2287-c712-494f-86c8-48c213fef3aa\" xlink:actuate=\"onRequest\" xlink:href=\"psysml:c02a2287-c712-494f-86c8-48c213fef3aa\" xlink:show=\"new\" xlink:title=\"psysml:c02a2287-c712-494f-86c8-48c213fef3aa\" xlink:type=\"simple\"><rect fill=\"#FFFFFF\" height=\"45.9375\" id=\"E2\" rx=\"10\" ry=\"10\" style=\"stroke: #383838; stroke-width: 1.5;\" width=\"42\" x=\"133\" y=\"41\"/><text fill=\"#000000\" font-family=\"sans-serif\" font-size=\"12\" font-style=\"italic\" lengthAdjust=\"spacingAndGlyphs\" textLength=\"40\" x=\"134\" y=\"57.1387\">«part»</text><text fill=\"#000000\" font-family=\"sans-serif\" font-size=\"12\" lengthAdjust=\"spacingAndGlyphs\" textLength=\"4\" x=\"152\" y=\"71.1074\">f</text><line style=\"stroke: #383838; stroke-width: 1.5;\" x1=\"134\" x2=\"174\" y1=\"78.9375\" y2=\"78.9375\"/></a><!--MD5=[09b614a08d8cba4a07c9adeb5e0fee81]\n",
       "class E3--><a href=\"psysml:b53848ad-4a38-46bd-bd01-a08ed5bc4cea\" target=\"_top\" title=\"psysml:b53848ad-4a38-46bd-bd01-a08ed5bc4cea\" xlink:actuate=\"onRequest\" xlink:href=\"psysml:b53848ad-4a38-46bd-bd01-a08ed5bc4cea\" xlink:show=\"new\" xlink:title=\"psysml:b53848ad-4a38-46bd-bd01-a08ed5bc4cea\" xlink:type=\"simple\"><rect fill=\"#FFFFFF\" height=\"45.9375\" id=\"E3\" rx=\"10\" ry=\"10\" style=\"stroke: #383838; stroke-width: 1.5;\" width=\"42\" x=\"133\" y=\"147\"/><text fill=\"#000000\" font-family=\"sans-serif\" font-size=\"12\" font-style=\"italic\" lengthAdjust=\"spacingAndGlyphs\" textLength=\"40\" x=\"134\" y=\"163.1387\">«part»</text><text fill=\"#000000\" font-family=\"sans-serif\" font-size=\"12\" lengthAdjust=\"spacingAndGlyphs\" textLength=\"8\" x=\"150\" y=\"177.1074\">a</text><line style=\"stroke: #383838; stroke-width: 1.5;\" x1=\"134\" x2=\"174\" y1=\"184.9375\" y2=\"184.9375\"/></a><!--MD5=[ebbe1d658d1005bcc118a6aa81145e00]\n",
       "class E4--><a href=\"psysml:562783b8-e65b-4087-86a0-89c793c14f93\" target=\"_top\" title=\"psysml:562783b8-e65b-4087-86a0-89c793c14f93\" xlink:actuate=\"onRequest\" xlink:href=\"psysml:562783b8-e65b-4087-86a0-89c793c14f93\" xlink:show=\"new\" xlink:title=\"psysml:562783b8-e65b-4087-86a0-89c793c14f93\" xlink:type=\"simple\"><rect fill=\"#FFFFFF\" height=\"45.9375\" id=\"E4\" style=\"stroke: #383838; stroke-width: 1.5;\" width=\"66\" x=\"32\" y=\"41\"/><text fill=\"#000000\" font-family=\"sans-serif\" font-size=\"12\" font-style=\"italic\" lengthAdjust=\"spacingAndGlyphs\" textLength=\"64\" x=\"33\" y=\"57.1387\">«part def»</text><text fill=\"#000000\" font-family=\"sans-serif\" font-size=\"12\" lengthAdjust=\"spacingAndGlyphs\" textLength=\"8\" x=\"61\" y=\"71.1074\">C</text><line style=\"stroke: #383838; stroke-width: 1.5;\" x1=\"33\" x2=\"97\" y1=\"78.9375\" y2=\"78.9375\"/></a><!--MD5=[270fce915f116d4de14055a7c1d9a0f3]\n",
       "class E5--><a href=\"psysml:ab356c3f-6fc6-498c-877e-f29aa221dc38\" target=\"_top\" title=\"psysml:ab356c3f-6fc6-498c-877e-f29aa221dc38\" xlink:actuate=\"onRequest\" xlink:href=\"psysml:ab356c3f-6fc6-498c-877e-f29aa221dc38\" xlink:show=\"new\" xlink:title=\"psysml:ab356c3f-6fc6-498c-877e-f29aa221dc38\" xlink:type=\"simple\"><rect fill=\"#FFFFFF\" height=\"45.9375\" id=\"E5\" rx=\"10\" ry=\"10\" style=\"stroke: #383838; stroke-width: 1.5;\" width=\"42\" x=\"44\" y=\"147\"/><text fill=\"#000000\" font-family=\"sans-serif\" font-size=\"12\" font-style=\"italic\" lengthAdjust=\"spacingAndGlyphs\" textLength=\"40\" x=\"45\" y=\"163.1387\">«part»</text><text fill=\"#000000\" font-family=\"sans-serif\" font-size=\"12\" lengthAdjust=\"spacingAndGlyphs\" textLength=\"8\" x=\"61\" y=\"177.1074\">g</text><line style=\"stroke: #383838; stroke-width: 1.5;\" x1=\"45\" x2=\"85\" y1=\"184.9375\" y2=\"184.9375\"/></a><!--MD5=[209b3feb70ccb6233bfe1053d122c12c]\n",
       "reverse link E2 to E3--><a href=\"psysml:3a53f0eb-5b79-463f-97a3-37a7a9b28614\" target=\"_top\" title=\"psysml:3a53f0eb-5b79-463f-97a3-37a7a9b28614\" xlink:actuate=\"onRequest\" xlink:href=\"psysml:3a53f0eb-5b79-463f-97a3-37a7a9b28614\" xlink:show=\"new\" xlink:title=\"psysml:3a53f0eb-5b79-463f-97a3-37a7a9b28614\" xlink:type=\"simple\"><path d=\"M154,100.44 C154,115.87 154,133.47 154,146.98 \" fill=\"none\" id=\"E2&lt;-E3\" style=\"stroke: #383838; stroke-width: 1.0;\"/><polygon fill=\"#383838\" points=\"154,87.06,150,93.06,154,99.06,158,93.06,154,87.06\" style=\"stroke: #383838; stroke-width: 1.0;\"/></a><!--MD5=[62aa6af11e70f752912c1cb0466f24f7]\n",
       "reverse link E4 to E5--><a href=\"psysml:b96f3833-0cb6-4ba3-9671-acfc6ae0d964\" target=\"_top\" title=\"psysml:b96f3833-0cb6-4ba3-9671-acfc6ae0d964\" xlink:actuate=\"onRequest\" xlink:href=\"psysml:b96f3833-0cb6-4ba3-9671-acfc6ae0d964\" xlink:show=\"new\" xlink:title=\"psysml:b96f3833-0cb6-4ba3-9671-acfc6ae0d964\" xlink:type=\"simple\"><path d=\"M65,100.44 C65,115.87 65,133.47 65,146.98 \" fill=\"none\" id=\"E4&lt;-E5\" style=\"stroke: #383838; stroke-width: 1.0;\"/><polygon fill=\"#383838\" points=\"65,87.06,61,93.06,65,99.06,69,93.06,65,87.06\" style=\"stroke: #383838; stroke-width: 1.0;\"/></a><!--MD5=[f61d9df60db9f367756976200a1a5efa]\n",
       "@startuml\r\n",
       "skinparam linetype polyline\r\n",
       "skinparam monochrome true\r\n",
       "skinparam classbackgroundcolor white\r\n",
       "skinparam shadowing false\r\n",
       "skinparam wrapWidth 300\r\n",
       "hide circle\r\n",
       "\r\n",
       "package \"Q\" as E1  [[psysml:6ab71797-e8f8-4bff-ada3-bad51ca07e78 ]]  {\r\n",
       "comp usage \"f\" as E2  <<(T,blue)part>> [[psysml:c02a2287-c712-494f-86c8-48c213fef3aa ]] {\r\n",
       "}\r\n",
       "comp usage \"a\" as E3  <<(T,blue)part>> [[psysml:b53848ad-4a38-46bd-bd01-a08ed5bc4cea ]] {\r\n",
       "}\r\n",
       "comp def \"C\" as E4  <<(T,blue)part def>> [[psysml:562783b8-e65b-4087-86a0-89c793c14f93 ]] {\r\n",
       "}\r\n",
       "comp usage \"g\" as E5  <<(T,blue)part>> [[psysml:ab356c3f-6fc6-498c-877e-f29aa221dc38 ]] {\r\n",
       "}\r\n",
       "E2 *- - E3 [[psysml:3a53f0eb-5b79-463f-97a3-37a7a9b28614 ]] \r\n",
       "E4 *- - E5 [[psysml:b96f3833-0cb6-4ba3-9671-acfc6ae0d964 ]] \r\n",
       "}\r\n",
       "@enduml\r\n",
       "\n",
       "PlantUML version 1.2020.13(Sat Jun 13 12:26:38 UTC 2020)\n",
       "(EPL source distribution)\n",
       "Java Runtime: OpenJDK Runtime Environment\n",
       "JVM: OpenJDK 64-Bit Server VM\n",
       "Default Encoding: UTF-8\n",
       "Language: en\n",
       "Country: null\n",
       "--></g></svg>"
      ]
     },
     "execution_count": 10,
     "metadata": {},
     "output_type": "execute_result"
    }
   ],
   "source": [
    "%viz --style=\"POLYLINE\" --view=\"Tree\" \"Q\""
   ]
  },
  {
   "cell_type": "code",
   "execution_count": 11,
   "id": "5dc788dc",
   "metadata": {
    "execution": {
     "iopub.execute_input": "2021-04-20T06:58:44.592011Z",
     "iopub.status.busy": "2021-04-20T06:58:44.590943Z",
     "iopub.status.idle": "2021-04-20T06:58:44.598950Z",
     "shell.execute_reply": "2021-04-20T06:58:44.598607Z"
    }
   },
   "outputs": [
    {
     "data": {
      "image/svg+xml": [
       "<?xml version=\"1.0\" encoding=\"UTF-8\" standalone=\"no\"?><svg xmlns=\"http://www.w3.org/2000/svg\" xmlns:xlink=\"http://www.w3.org/1999/xlink\" contentScriptType=\"application/ecmascript\" contentStyleType=\"text/css\" height=\"12px\" preserveAspectRatio=\"none\" style=\"width:12px;height:12px;\" version=\"1.1\" viewBox=\"0 0 12 12\" width=\"12px\" zoomAndPan=\"magnify\"><defs/><g><!--MD5=[896ac0e7a515d8dd7765a661cb4ee08b]\n",
       "@startuml\r\n",
       "skinparam linetype polyline\r\n",
       "skinparam monochrome true\r\n",
       "skinparam classbackgroundcolor white\r\n",
       "skinparam shadowing false\r\n",
       "skinparam wrapWidth 300\r\n",
       "hide circle\r\n",
       "\r\n",
       "@enduml\r\n",
       "\n",
       "PlantUML version 1.2020.13(Sat Jun 13 12:26:38 UTC 2020)\n",
       "(EPL source distribution)\n",
       "Java Runtime: OpenJDK Runtime Environment\n",
       "JVM: OpenJDK 64-Bit Server VM\n",
       "Default Encoding: UTF-8\n",
       "Language: en\n",
       "Country: null\n",
       "--></g></svg>"
      ]
     },
     "execution_count": 11,
     "metadata": {},
     "output_type": "execute_result"
    }
   ],
   "source": [
    "%viz --style=\"POLYLINE\" --view=\"State\" \"Q\""
   ]
  },
  {
   "cell_type": "code",
   "execution_count": 12,
   "id": "42c93682",
   "metadata": {
    "execution": {
     "iopub.execute_input": "2021-04-20T06:58:44.651014Z",
     "iopub.status.busy": "2021-04-20T06:58:44.650325Z",
     "iopub.status.idle": "2021-04-20T06:58:44.685857Z",
     "shell.execute_reply": "2021-04-20T06:58:44.685211Z"
    }
   },
   "outputs": [
    {
     "data": {
      "image/svg+xml": [
       "<?xml version=\"1.0\" encoding=\"UTF-8\" standalone=\"no\"?><svg xmlns=\"http://www.w3.org/2000/svg\" xmlns:xlink=\"http://www.w3.org/1999/xlink\" contentScriptType=\"application/ecmascript\" contentStyleType=\"text/css\" height=\"192px\" preserveAspectRatio=\"none\" style=\"width:286px;height:192px;\" version=\"1.1\" viewBox=\"0 0 286 192\" width=\"286px\" zoomAndPan=\"magnify\"><defs/><g><!--MD5=[fbc87193dbaf4d95561dea2c320d4a47]\n",
       "cluster E1--><a href=\"psysml:6ab71797-e8f8-4bff-ada3-bad51ca07e78\" target=\"_top\" title=\"psysml:6ab71797-e8f8-4bff-ada3-bad51ca07e78\" xlink:actuate=\"onRequest\" xlink:href=\"psysml:6ab71797-e8f8-4bff-ada3-bad51ca07e78\" xlink:show=\"new\" xlink:title=\"psysml:6ab71797-e8f8-4bff-ada3-bad51ca07e78\" xlink:type=\"simple\"><polygon fill=\"#FFFFFF\" points=\"16,6,34,6,41,28.2969,264,28.2969,264,180,16,180,16,6\" style=\"stroke: #000000; stroke-width: 1.5;\"/><line style=\"stroke: #000000; stroke-width: 1.5;\" x1=\"16\" x2=\"41\" y1=\"28.2969\" y2=\"28.2969\"/><text fill=\"#000000\" font-family=\"sans-serif\" font-size=\"14\" font-weight=\"bold\" lengthAdjust=\"spacingAndGlyphs\" textLength=\"12\" x=\"20\" y=\"20.9951\">Q</text></a><!--MD5=[e4f7fae6ed58524ba242bb0b0d3be6b7]\n",
       "cluster E2--><a href=\"psysml:c02a2287-c712-494f-86c8-48c213fef3aa\" target=\"_top\" title=\"psysml:c02a2287-c712-494f-86c8-48c213fef3aa\" xlink:actuate=\"onRequest\" xlink:href=\"psysml:c02a2287-c712-494f-86c8-48c213fef3aa\" xlink:show=\"new\" xlink:title=\"psysml:c02a2287-c712-494f-86c8-48c213fef3aa\" xlink:type=\"simple\"><rect fill=\"#FFFFFF\" height=\"91\" id=\"E2\" rx=\"10\" ry=\"10\" style=\"stroke: #383838; stroke-width: 1.5;\" width=\"82\" x=\"158\" y=\"65\"/><rect fill=\"#F8F8F8\" height=\"23.9688\" rx=\"10\" ry=\"10\" style=\"stroke: #F8F8F8; stroke-width: 1.5;\" width=\"82\" x=\"158\" y=\"65\"/><rect fill=\"#F8F8F8\" height=\"10\" style=\"stroke: #F8F8F8; stroke-width: 1.5;\" width=\"82\" x=\"158\" y=\"78.9688\"/><rect fill=\"none\" height=\"91\" id=\"E2\" rx=\"10\" ry=\"10\" style=\"stroke: #383838; stroke-width: 1.5;\" width=\"82\" x=\"158\" y=\"65\"/><text fill=\"#000000\" font-family=\"sans-serif\" font-size=\"12\" lengthAdjust=\"spacingAndGlyphs\" textLength=\"4\" x=\"197\" y=\"81.1387\">f</text><line style=\"stroke: #383838; stroke-width: 1.0;\" x1=\"158\" x2=\"240\" y1=\"88.9688\" y2=\"88.9688\"/></a><!--MD5=[f6df4d0ebaf0b5dfb2ced0ae5af7c670]\n",
       "cluster E4--><a href=\"psysml:562783b8-e65b-4087-86a0-89c793c14f93\" target=\"_top\" title=\"psysml:562783b8-e65b-4087-86a0-89c793c14f93\" xlink:actuate=\"onRequest\" xlink:href=\"psysml:562783b8-e65b-4087-86a0-89c793c14f93\" xlink:show=\"new\" xlink:title=\"psysml:562783b8-e65b-4087-86a0-89c793c14f93\" xlink:type=\"simple\"><rect fill=\"#FFFFFF\" height=\"107\" id=\"E4\" style=\"stroke: #383838; stroke-width: 1.5;\" width=\"94\" x=\"40\" y=\"49\"/><rect fill=\"#F8F8F8\" height=\"37.9375\" style=\"stroke: #383838; stroke-width: 1.5;\" width=\"94\" x=\"40\" y=\"49\"/><text fill=\"#000000\" font-family=\"sans-serif\" font-size=\"12\" font-style=\"italic\" lengthAdjust=\"spacingAndGlyphs\" textLength=\"64\" x=\"55\" y=\"65.1387\">«part def»</text><text fill=\"#000000\" font-family=\"sans-serif\" font-size=\"12\" lengthAdjust=\"spacingAndGlyphs\" textLength=\"8\" x=\"83\" y=\"79.1074\">C</text></a><g id=\"E1.E2.E3\"><a href=\"psysml:b53848ad-4a38-46bd-bd01-a08ed5bc4cea\" target=\"_top\" title=\"psysml:b53848ad-4a38-46bd-bd01-a08ed5bc4cea\" xlink:actuate=\"onRequest\" xlink:href=\"psysml:b53848ad-4a38-46bd-bd01-a08ed5bc4cea\" xlink:show=\"new\" xlink:title=\"psysml:b53848ad-4a38-46bd-bd01-a08ed5bc4cea\" xlink:type=\"simple\"><rect fill=\"#FFFFFF\" height=\"40\" id=\"E3\" rx=\"10\" ry=\"10\" style=\"stroke: #383838; stroke-width: 1.5;\" width=\"50\" x=\"174\" y=\"100\"/><rect fill=\"#F8F8F8\" height=\"23.9688\" rx=\"10\" ry=\"10\" style=\"stroke: #F8F8F8; stroke-width: 1.5;\" width=\"50\" x=\"174\" y=\"100\"/><rect fill=\"#F8F8F8\" height=\"10\" style=\"stroke: #F8F8F8; stroke-width: 1.5;\" width=\"50\" x=\"174\" y=\"113.9688\"/><rect fill=\"none\" height=\"40\" id=\"E3\" rx=\"10\" ry=\"10\" style=\"stroke: #383838; stroke-width: 1.5;\" width=\"50\" x=\"174\" y=\"100\"/><text fill=\"#000000\" font-family=\"sans-serif\" font-size=\"12\" lengthAdjust=\"spacingAndGlyphs\" textLength=\"8\" x=\"195\" y=\"116.1387\">a</text></a></g><g id=\"E1.E4.E5\"><a href=\"psysml:ab356c3f-6fc6-498c-877e-f29aa221dc38\" target=\"_top\" title=\"psysml:ab356c3f-6fc6-498c-877e-f29aa221dc38\" xlink:actuate=\"onRequest\" xlink:href=\"psysml:ab356c3f-6fc6-498c-877e-f29aa221dc38\" xlink:show=\"new\" xlink:title=\"psysml:ab356c3f-6fc6-498c-877e-f29aa221dc38\" xlink:type=\"simple\"><rect fill=\"#FFFFFF\" height=\"40\" id=\"E5\" rx=\"10\" ry=\"10\" style=\"stroke: #383838; stroke-width: 1.5;\" width=\"61\" x=\"56.5\" y=\"100\"/><rect fill=\"#F8F8F8\" height=\"23.9688\" rx=\"10\" ry=\"10\" style=\"stroke: #F8F8F8; stroke-width: 1.5;\" width=\"61\" x=\"56.5\" y=\"100\"/><rect fill=\"#F8F8F8\" height=\"10\" style=\"stroke: #F8F8F8; stroke-width: 1.5;\" width=\"61\" x=\"56.5\" y=\"113.9688\"/><rect fill=\"none\" height=\"40\" id=\"E5\" rx=\"10\" ry=\"10\" style=\"stroke: #383838; stroke-width: 1.5;\" width=\"61\" x=\"56.5\" y=\"100\"/><text fill=\"#000000\" font-family=\"sans-serif\" font-size=\"12\" lengthAdjust=\"spacingAndGlyphs\" textLength=\"46\" x=\"62\" y=\"116.1387\">g=./f/a;</text></a></g><!--MD5=[fc4296e2d7125874c51338e34206725c]\n",
       "@startuml\r\n",
       "skinparam ranksep 10\r\n",
       "skinparam rectangle {\r\n",
       " backgroundColor<<block>> LightGreen\r\n",
       "}\r\n",
       "skinparam linetype polyline\r\n",
       "skinparam monochrome true\r\n",
       "skinparam classbackgroundcolor white\r\n",
       "skinparam shadowing false\r\n",
       "skinparam wrapWidth 300\r\n",
       "hide circle\r\n",
       "\r\n",
       "package \"Q\" as E1  [[psysml:6ab71797-e8f8-4bff-ada3-bad51ca07e78 ]]  {\r\n",
       "rec usage \"f\" as E2  [[psysml:c02a2287-c712-494f-86c8-48c213fef3aa ]] {\r\n",
       "rec usage \"a\" as E3  [[psysml:b53848ad-4a38-46bd-bd01-a08ed5bc4cea ]] {\r\n",
       "}\r\n",
       "}\r\n",
       "rec def \"C\" as E4  <<(T,blue)part def>> [[psysml:562783b8-e65b-4087-86a0-89c793c14f93 ]] {\r\n",
       "rec usage \"g=./f/a; \" as E5  [[psysml:ab356c3f-6fc6-498c-877e-f29aa221dc38 ]] {\r\n",
       "}\r\n",
       "}\r\n",
       "}\r\n",
       "@enduml\r\n",
       "\n",
       "PlantUML version 1.2020.13(Sat Jun 13 12:26:38 UTC 2020)\n",
       "(EPL source distribution)\n",
       "Java Runtime: OpenJDK Runtime Environment\n",
       "JVM: OpenJDK 64-Bit Server VM\n",
       "Default Encoding: UTF-8\n",
       "Language: en\n",
       "Country: null\n",
       "--></g></svg>"
      ]
     },
     "execution_count": 12,
     "metadata": {},
     "output_type": "execute_result"
    }
   ],
   "source": [
    "%viz --style=\"POLYLINE\" --view=\"Interconnection\" \"Q\""
   ]
  },
  {
   "cell_type": "code",
   "execution_count": 13,
   "id": "d826372b",
   "metadata": {
    "execution": {
     "iopub.execute_input": "2021-04-20T06:58:44.739453Z",
     "iopub.status.busy": "2021-04-20T06:58:44.738423Z",
     "iopub.status.idle": "2021-04-20T06:58:44.752007Z",
     "shell.execute_reply": "2021-04-20T06:58:44.750880Z"
    }
   },
   "outputs": [
    {
     "data": {
      "image/svg+xml": [
       "<?xml version=\"1.0\" encoding=\"UTF-8\" standalone=\"no\"?><svg xmlns=\"http://www.w3.org/2000/svg\" xmlns:xlink=\"http://www.w3.org/1999/xlink\" contentScriptType=\"application/ecmascript\" contentStyleType=\"text/css\" height=\"12px\" preserveAspectRatio=\"none\" style=\"width:12px;height:12px;\" version=\"1.1\" viewBox=\"0 0 12 12\" width=\"12px\" zoomAndPan=\"magnify\"><defs/><g><!--MD5=[97bbf32f66ccd50cbc40d92ea8f5a65e]\n",
       "@startuml\r\n",
       "skinparam ranksep 8\r\n",
       "skinparam linetype polyline\r\n",
       "skinparam monochrome true\r\n",
       "skinparam classbackgroundcolor white\r\n",
       "skinparam shadowing false\r\n",
       "skinparam wrapWidth 300\r\n",
       "hide circle\r\n",
       "\r\n",
       "@enduml\r\n",
       "\n",
       "PlantUML version 1.2020.13(Sat Jun 13 12:26:38 UTC 2020)\n",
       "(EPL source distribution)\n",
       "Java Runtime: OpenJDK Runtime Environment\n",
       "JVM: OpenJDK 64-Bit Server VM\n",
       "Default Encoding: UTF-8\n",
       "Language: en\n",
       "Country: null\n",
       "--></g></svg>"
      ]
     },
     "execution_count": 13,
     "metadata": {},
     "output_type": "execute_result"
    }
   ],
   "source": [
    "%viz --style=\"POLYLINE\" --view=\"Action\" \"Q\""
   ]
  },
  {
   "cell_type": "code",
   "execution_count": 14,
   "id": "54b1a1c0",
   "metadata": {
    "execution": {
     "iopub.execute_input": "2021-04-20T06:58:44.801900Z",
     "iopub.status.busy": "2021-04-20T06:58:44.801228Z",
     "iopub.status.idle": "2021-04-20T06:58:44.851216Z",
     "shell.execute_reply": "2021-04-20T06:58:44.850266Z"
    }
   },
   "outputs": [
    {
     "data": {
      "image/svg+xml": [
       "<?xml version=\"1.0\" encoding=\"UTF-8\" standalone=\"no\"?><svg xmlns=\"http://www.w3.org/2000/svg\" xmlns:xlink=\"http://www.w3.org/1999/xlink\" contentScriptType=\"application/ecmascript\" contentStyleType=\"text/css\" height=\"221px\" preserveAspectRatio=\"none\" style=\"width:213px;height:221px;\" version=\"1.1\" viewBox=\"0 0 213 221\" width=\"213px\" zoomAndPan=\"magnify\"><defs/><g><!--MD5=[fbc87193dbaf4d95561dea2c320d4a47]\n",
       "cluster E1--><a href=\"psysml:6ab71797-e8f8-4bff-ada3-bad51ca07e78\" target=\"_top\" title=\"psysml:6ab71797-e8f8-4bff-ada3-bad51ca07e78\" xlink:actuate=\"onRequest\" xlink:href=\"psysml:6ab71797-e8f8-4bff-ada3-bad51ca07e78\" xlink:show=\"new\" xlink:title=\"psysml:6ab71797-e8f8-4bff-ada3-bad51ca07e78\" xlink:type=\"simple\"><polygon fill=\"#FFFFFF\" points=\"16,6,34,6,41,28.2969,191,28.2969,191,209,16,209,16,6\" style=\"stroke: #000000; stroke-width: 1.5;\"/><line style=\"stroke: #000000; stroke-width: 1.5;\" x1=\"16\" x2=\"41\" y1=\"28.2969\" y2=\"28.2969\"/><text fill=\"#000000\" font-family=\"sans-serif\" font-size=\"14\" font-weight=\"bold\" lengthAdjust=\"spacingAndGlyphs\" textLength=\"12\" x=\"20\" y=\"20.9951\">Q</text></a><!--MD5=[b4997ac47864f28c2f74865a473b2911]\n",
       "class E2--><a href=\"psysml:c02a2287-c712-494f-86c8-48c213fef3aa\" target=\"_top\" title=\"psysml:c02a2287-c712-494f-86c8-48c213fef3aa\" xlink:actuate=\"onRequest\" xlink:href=\"psysml:c02a2287-c712-494f-86c8-48c213fef3aa\" xlink:show=\"new\" xlink:title=\"psysml:c02a2287-c712-494f-86c8-48c213fef3aa\" xlink:type=\"simple\"><rect fill=\"#FFFFFF\" height=\"45.9375\" id=\"E2\" rx=\"10\" ry=\"10\" style=\"stroke: #383838; stroke-width: 1.5;\" width=\"42\" x=\"133\" y=\"41\"/><text fill=\"#000000\" font-family=\"sans-serif\" font-size=\"12\" font-style=\"italic\" lengthAdjust=\"spacingAndGlyphs\" textLength=\"40\" x=\"134\" y=\"57.1387\">«part»</text><text fill=\"#000000\" font-family=\"sans-serif\" font-size=\"12\" lengthAdjust=\"spacingAndGlyphs\" textLength=\"4\" x=\"152\" y=\"71.1074\">f</text><line style=\"stroke: #383838; stroke-width: 1.5;\" x1=\"134\" x2=\"174\" y1=\"78.9375\" y2=\"78.9375\"/></a><!--MD5=[09b614a08d8cba4a07c9adeb5e0fee81]\n",
       "class E3--><a href=\"psysml:b53848ad-4a38-46bd-bd01-a08ed5bc4cea\" target=\"_top\" title=\"psysml:b53848ad-4a38-46bd-bd01-a08ed5bc4cea\" xlink:actuate=\"onRequest\" xlink:href=\"psysml:b53848ad-4a38-46bd-bd01-a08ed5bc4cea\" xlink:show=\"new\" xlink:title=\"psysml:b53848ad-4a38-46bd-bd01-a08ed5bc4cea\" xlink:type=\"simple\"><rect fill=\"#FFFFFF\" height=\"45.9375\" id=\"E3\" rx=\"10\" ry=\"10\" style=\"stroke: #383838; stroke-width: 1.5;\" width=\"42\" x=\"133\" y=\"147\"/><text fill=\"#000000\" font-family=\"sans-serif\" font-size=\"12\" font-style=\"italic\" lengthAdjust=\"spacingAndGlyphs\" textLength=\"40\" x=\"134\" y=\"163.1387\">«part»</text><text fill=\"#000000\" font-family=\"sans-serif\" font-size=\"12\" lengthAdjust=\"spacingAndGlyphs\" textLength=\"8\" x=\"150\" y=\"177.1074\">a</text><line style=\"stroke: #383838; stroke-width: 1.5;\" x1=\"134\" x2=\"174\" y1=\"184.9375\" y2=\"184.9375\"/></a><!--MD5=[ebbe1d658d1005bcc118a6aa81145e00]\n",
       "class E4--><a href=\"psysml:562783b8-e65b-4087-86a0-89c793c14f93\" target=\"_top\" title=\"psysml:562783b8-e65b-4087-86a0-89c793c14f93\" xlink:actuate=\"onRequest\" xlink:href=\"psysml:562783b8-e65b-4087-86a0-89c793c14f93\" xlink:show=\"new\" xlink:title=\"psysml:562783b8-e65b-4087-86a0-89c793c14f93\" xlink:type=\"simple\"><rect fill=\"#FFFFFF\" height=\"45.9375\" id=\"E4\" style=\"stroke: #383838; stroke-width: 1.5;\" width=\"66\" x=\"32\" y=\"41\"/><text fill=\"#000000\" font-family=\"sans-serif\" font-size=\"12\" font-style=\"italic\" lengthAdjust=\"spacingAndGlyphs\" textLength=\"64\" x=\"33\" y=\"57.1387\">«part def»</text><text fill=\"#000000\" font-family=\"sans-serif\" font-size=\"12\" lengthAdjust=\"spacingAndGlyphs\" textLength=\"8\" x=\"61\" y=\"71.1074\">C</text><line style=\"stroke: #383838; stroke-width: 1.5;\" x1=\"33\" x2=\"97\" y1=\"78.9375\" y2=\"78.9375\"/></a><!--MD5=[270fce915f116d4de14055a7c1d9a0f3]\n",
       "class E5--><a href=\"psysml:ab356c3f-6fc6-498c-877e-f29aa221dc38\" target=\"_top\" title=\"psysml:ab356c3f-6fc6-498c-877e-f29aa221dc38\" xlink:actuate=\"onRequest\" xlink:href=\"psysml:ab356c3f-6fc6-498c-877e-f29aa221dc38\" xlink:show=\"new\" xlink:title=\"psysml:ab356c3f-6fc6-498c-877e-f29aa221dc38\" xlink:type=\"simple\"><rect fill=\"#FFFFFF\" height=\"45.9375\" id=\"E5\" rx=\"10\" ry=\"10\" style=\"stroke: #383838; stroke-width: 1.5;\" width=\"42\" x=\"44\" y=\"147\"/><text fill=\"#000000\" font-family=\"sans-serif\" font-size=\"12\" font-style=\"italic\" lengthAdjust=\"spacingAndGlyphs\" textLength=\"40\" x=\"45\" y=\"163.1387\">«part»</text><text fill=\"#000000\" font-family=\"sans-serif\" font-size=\"12\" lengthAdjust=\"spacingAndGlyphs\" textLength=\"8\" x=\"61\" y=\"177.1074\">g</text><line style=\"stroke: #383838; stroke-width: 1.5;\" x1=\"45\" x2=\"85\" y1=\"184.9375\" y2=\"184.9375\"/></a><!--MD5=[209b3feb70ccb6233bfe1053d122c12c]\n",
       "reverse link E2 to E3--><a href=\"psysml:3a53f0eb-5b79-463f-97a3-37a7a9b28614\" target=\"_top\" title=\"psysml:3a53f0eb-5b79-463f-97a3-37a7a9b28614\" xlink:actuate=\"onRequest\" xlink:href=\"psysml:3a53f0eb-5b79-463f-97a3-37a7a9b28614\" xlink:show=\"new\" xlink:title=\"psysml:3a53f0eb-5b79-463f-97a3-37a7a9b28614\" xlink:type=\"simple\"><path d=\"M154,100.44 C154,115.87 154,133.47 154,146.98 \" fill=\"none\" id=\"E2&lt;-E3\" style=\"stroke: #383838; stroke-width: 1.0;\"/><polygon fill=\"#383838\" points=\"154,87.06,150,93.06,154,99.06,158,93.06,154,87.06\" style=\"stroke: #383838; stroke-width: 1.0;\"/></a><!--MD5=[62aa6af11e70f752912c1cb0466f24f7]\n",
       "reverse link E4 to E5--><a href=\"psysml:b96f3833-0cb6-4ba3-9671-acfc6ae0d964\" target=\"_top\" title=\"psysml:b96f3833-0cb6-4ba3-9671-acfc6ae0d964\" xlink:actuate=\"onRequest\" xlink:href=\"psysml:b96f3833-0cb6-4ba3-9671-acfc6ae0d964\" xlink:show=\"new\" xlink:title=\"psysml:b96f3833-0cb6-4ba3-9671-acfc6ae0d964\" xlink:type=\"simple\"><path d=\"M65,100.44 C65,115.87 65,133.47 65,146.98 \" fill=\"none\" id=\"E4&lt;-E5\" style=\"stroke: #383838; stroke-width: 1.0;\"/><polygon fill=\"#383838\" points=\"65,87.06,61,93.06,65,99.06,69,93.06,65,87.06\" style=\"stroke: #383838; stroke-width: 1.0;\"/></a><!--MD5=[f61d9df60db9f367756976200a1a5efa]\n",
       "@startuml\r\n",
       "skinparam linetype polyline\r\n",
       "skinparam monochrome true\r\n",
       "skinparam classbackgroundcolor white\r\n",
       "skinparam shadowing false\r\n",
       "skinparam wrapWidth 300\r\n",
       "hide circle\r\n",
       "\r\n",
       "package \"Q\" as E1  [[psysml:6ab71797-e8f8-4bff-ada3-bad51ca07e78 ]]  {\r\n",
       "comp usage \"f\" as E2  <<(T,blue)part>> [[psysml:c02a2287-c712-494f-86c8-48c213fef3aa ]] {\r\n",
       "}\r\n",
       "comp usage \"a\" as E3  <<(T,blue)part>> [[psysml:b53848ad-4a38-46bd-bd01-a08ed5bc4cea ]] {\r\n",
       "}\r\n",
       "comp def \"C\" as E4  <<(T,blue)part def>> [[psysml:562783b8-e65b-4087-86a0-89c793c14f93 ]] {\r\n",
       "}\r\n",
       "comp usage \"g\" as E5  <<(T,blue)part>> [[psysml:ab356c3f-6fc6-498c-877e-f29aa221dc38 ]] {\r\n",
       "}\r\n",
       "E2 *- - E3 [[psysml:3a53f0eb-5b79-463f-97a3-37a7a9b28614 ]] \r\n",
       "E4 *- - E5 [[psysml:b96f3833-0cb6-4ba3-9671-acfc6ae0d964 ]] \r\n",
       "}\r\n",
       "@enduml\r\n",
       "\n",
       "PlantUML version 1.2020.13(Sat Jun 13 12:26:38 UTC 2020)\n",
       "(EPL source distribution)\n",
       "Java Runtime: OpenJDK Runtime Environment\n",
       "JVM: OpenJDK 64-Bit Server VM\n",
       "Default Encoding: UTF-8\n",
       "Language: en\n",
       "Country: null\n",
       "--></g></svg>"
      ]
     },
     "execution_count": 14,
     "metadata": {},
     "output_type": "execute_result"
    }
   ],
   "source": [
    "%viz --style=\"POLYLINE\" --view=\"Sequence\" \"Q\""
   ]
  },
  {
   "cell_type": "code",
   "execution_count": 15,
   "id": "c22c9537",
   "metadata": {
    "execution": {
     "iopub.execute_input": "2021-04-20T06:58:44.903682Z",
     "iopub.status.busy": "2021-04-20T06:58:44.902201Z",
     "iopub.status.idle": "2021-04-20T06:58:44.938545Z",
     "shell.execute_reply": "2021-04-20T06:58:44.938246Z"
    }
   },
   "outputs": [
    {
     "data": {
      "image/svg+xml": [
       "<?xml version=\"1.0\" encoding=\"UTF-8\" standalone=\"no\"?><svg xmlns=\"http://www.w3.org/2000/svg\" xmlns:xlink=\"http://www.w3.org/1999/xlink\" contentScriptType=\"application/ecmascript\" contentStyleType=\"text/css\" height=\"221px\" preserveAspectRatio=\"none\" style=\"width:213px;height:221px;\" version=\"1.1\" viewBox=\"0 0 213 221\" width=\"213px\" zoomAndPan=\"magnify\"><defs/><g><!--MD5=[fbc87193dbaf4d95561dea2c320d4a47]\n",
       "cluster E1--><a href=\"psysml:6ab71797-e8f8-4bff-ada3-bad51ca07e78\" target=\"_top\" title=\"psysml:6ab71797-e8f8-4bff-ada3-bad51ca07e78\" xlink:actuate=\"onRequest\" xlink:href=\"psysml:6ab71797-e8f8-4bff-ada3-bad51ca07e78\" xlink:show=\"new\" xlink:title=\"psysml:6ab71797-e8f8-4bff-ada3-bad51ca07e78\" xlink:type=\"simple\"><polygon fill=\"#FFFFFF\" points=\"16,6,34,6,41,28.2969,191,28.2969,191,209,16,209,16,6\" style=\"stroke: #000000; stroke-width: 1.5;\"/><line style=\"stroke: #000000; stroke-width: 1.5;\" x1=\"16\" x2=\"41\" y1=\"28.2969\" y2=\"28.2969\"/><text fill=\"#000000\" font-family=\"sans-serif\" font-size=\"14\" font-weight=\"bold\" lengthAdjust=\"spacingAndGlyphs\" textLength=\"12\" x=\"20\" y=\"20.9951\">Q</text></a><!--MD5=[b4997ac47864f28c2f74865a473b2911]\n",
       "class E2--><a href=\"psysml:c02a2287-c712-494f-86c8-48c213fef3aa\" target=\"_top\" title=\"psysml:c02a2287-c712-494f-86c8-48c213fef3aa\" xlink:actuate=\"onRequest\" xlink:href=\"psysml:c02a2287-c712-494f-86c8-48c213fef3aa\" xlink:show=\"new\" xlink:title=\"psysml:c02a2287-c712-494f-86c8-48c213fef3aa\" xlink:type=\"simple\"><rect fill=\"#FFFFFF\" height=\"45.9375\" id=\"E2\" rx=\"10\" ry=\"10\" style=\"stroke: #383838; stroke-width: 1.5;\" width=\"42\" x=\"133\" y=\"41\"/><text fill=\"#000000\" font-family=\"sans-serif\" font-size=\"12\" font-style=\"italic\" lengthAdjust=\"spacingAndGlyphs\" textLength=\"40\" x=\"134\" y=\"57.1387\">«part»</text><text fill=\"#000000\" font-family=\"sans-serif\" font-size=\"12\" lengthAdjust=\"spacingAndGlyphs\" textLength=\"4\" x=\"152\" y=\"71.1074\">f</text><line style=\"stroke: #383838; stroke-width: 1.5;\" x1=\"134\" x2=\"174\" y1=\"78.9375\" y2=\"78.9375\"/></a><!--MD5=[09b614a08d8cba4a07c9adeb5e0fee81]\n",
       "class E3--><a href=\"psysml:b53848ad-4a38-46bd-bd01-a08ed5bc4cea\" target=\"_top\" title=\"psysml:b53848ad-4a38-46bd-bd01-a08ed5bc4cea\" xlink:actuate=\"onRequest\" xlink:href=\"psysml:b53848ad-4a38-46bd-bd01-a08ed5bc4cea\" xlink:show=\"new\" xlink:title=\"psysml:b53848ad-4a38-46bd-bd01-a08ed5bc4cea\" xlink:type=\"simple\"><rect fill=\"#FFFFFF\" height=\"45.9375\" id=\"E3\" rx=\"10\" ry=\"10\" style=\"stroke: #383838; stroke-width: 1.5;\" width=\"42\" x=\"133\" y=\"147\"/><text fill=\"#000000\" font-family=\"sans-serif\" font-size=\"12\" font-style=\"italic\" lengthAdjust=\"spacingAndGlyphs\" textLength=\"40\" x=\"134\" y=\"163.1387\">«part»</text><text fill=\"#000000\" font-family=\"sans-serif\" font-size=\"12\" lengthAdjust=\"spacingAndGlyphs\" textLength=\"8\" x=\"150\" y=\"177.1074\">a</text><line style=\"stroke: #383838; stroke-width: 1.5;\" x1=\"134\" x2=\"174\" y1=\"184.9375\" y2=\"184.9375\"/></a><!--MD5=[ebbe1d658d1005bcc118a6aa81145e00]\n",
       "class E4--><a href=\"psysml:562783b8-e65b-4087-86a0-89c793c14f93\" target=\"_top\" title=\"psysml:562783b8-e65b-4087-86a0-89c793c14f93\" xlink:actuate=\"onRequest\" xlink:href=\"psysml:562783b8-e65b-4087-86a0-89c793c14f93\" xlink:show=\"new\" xlink:title=\"psysml:562783b8-e65b-4087-86a0-89c793c14f93\" xlink:type=\"simple\"><rect fill=\"#FFFFFF\" height=\"45.9375\" id=\"E4\" style=\"stroke: #383838; stroke-width: 1.5;\" width=\"66\" x=\"32\" y=\"41\"/><text fill=\"#000000\" font-family=\"sans-serif\" font-size=\"12\" font-style=\"italic\" lengthAdjust=\"spacingAndGlyphs\" textLength=\"64\" x=\"33\" y=\"57.1387\">«part def»</text><text fill=\"#000000\" font-family=\"sans-serif\" font-size=\"12\" lengthAdjust=\"spacingAndGlyphs\" textLength=\"8\" x=\"61\" y=\"71.1074\">C</text><line style=\"stroke: #383838; stroke-width: 1.5;\" x1=\"33\" x2=\"97\" y1=\"78.9375\" y2=\"78.9375\"/></a><!--MD5=[270fce915f116d4de14055a7c1d9a0f3]\n",
       "class E5--><a href=\"psysml:ab356c3f-6fc6-498c-877e-f29aa221dc38\" target=\"_top\" title=\"psysml:ab356c3f-6fc6-498c-877e-f29aa221dc38\" xlink:actuate=\"onRequest\" xlink:href=\"psysml:ab356c3f-6fc6-498c-877e-f29aa221dc38\" xlink:show=\"new\" xlink:title=\"psysml:ab356c3f-6fc6-498c-877e-f29aa221dc38\" xlink:type=\"simple\"><rect fill=\"#FFFFFF\" height=\"45.9375\" id=\"E5\" rx=\"10\" ry=\"10\" style=\"stroke: #383838; stroke-width: 1.5;\" width=\"42\" x=\"44\" y=\"147\"/><text fill=\"#000000\" font-family=\"sans-serif\" font-size=\"12\" font-style=\"italic\" lengthAdjust=\"spacingAndGlyphs\" textLength=\"40\" x=\"45\" y=\"163.1387\">«part»</text><text fill=\"#000000\" font-family=\"sans-serif\" font-size=\"12\" lengthAdjust=\"spacingAndGlyphs\" textLength=\"8\" x=\"61\" y=\"177.1074\">g</text><line style=\"stroke: #383838; stroke-width: 1.5;\" x1=\"45\" x2=\"85\" y1=\"184.9375\" y2=\"184.9375\"/></a><!--MD5=[209b3feb70ccb6233bfe1053d122c12c]\n",
       "reverse link E2 to E3--><a href=\"psysml:3a53f0eb-5b79-463f-97a3-37a7a9b28614\" target=\"_top\" title=\"psysml:3a53f0eb-5b79-463f-97a3-37a7a9b28614\" xlink:actuate=\"onRequest\" xlink:href=\"psysml:3a53f0eb-5b79-463f-97a3-37a7a9b28614\" xlink:show=\"new\" xlink:title=\"psysml:3a53f0eb-5b79-463f-97a3-37a7a9b28614\" xlink:type=\"simple\"><path d=\"M154,100.44 C154,115.87 154,133.47 154,146.98 \" fill=\"none\" id=\"E2&lt;-E3\" style=\"stroke: #383838; stroke-width: 1.0;\"/><polygon fill=\"#383838\" points=\"154,87.06,150,93.06,154,99.06,158,93.06,154,87.06\" style=\"stroke: #383838; stroke-width: 1.0;\"/></a><!--MD5=[62aa6af11e70f752912c1cb0466f24f7]\n",
       "reverse link E4 to E5--><a href=\"psysml:b96f3833-0cb6-4ba3-9671-acfc6ae0d964\" target=\"_top\" title=\"psysml:b96f3833-0cb6-4ba3-9671-acfc6ae0d964\" xlink:actuate=\"onRequest\" xlink:href=\"psysml:b96f3833-0cb6-4ba3-9671-acfc6ae0d964\" xlink:show=\"new\" xlink:title=\"psysml:b96f3833-0cb6-4ba3-9671-acfc6ae0d964\" xlink:type=\"simple\"><path d=\"M65,100.44 C65,115.87 65,133.47 65,146.98 \" fill=\"none\" id=\"E4&lt;-E5\" style=\"stroke: #383838; stroke-width: 1.0;\"/><polygon fill=\"#383838\" points=\"65,87.06,61,93.06,65,99.06,69,93.06,65,87.06\" style=\"stroke: #383838; stroke-width: 1.0;\"/></a><!--MD5=[f61d9df60db9f367756976200a1a5efa]\n",
       "@startuml\r\n",
       "skinparam linetype polyline\r\n",
       "skinparam monochrome true\r\n",
       "skinparam classbackgroundcolor white\r\n",
       "skinparam shadowing false\r\n",
       "skinparam wrapWidth 300\r\n",
       "hide circle\r\n",
       "\r\n",
       "package \"Q\" as E1  [[psysml:6ab71797-e8f8-4bff-ada3-bad51ca07e78 ]]  {\r\n",
       "comp usage \"f\" as E2  <<(T,blue)part>> [[psysml:c02a2287-c712-494f-86c8-48c213fef3aa ]] {\r\n",
       "}\r\n",
       "comp usage \"a\" as E3  <<(T,blue)part>> [[psysml:b53848ad-4a38-46bd-bd01-a08ed5bc4cea ]] {\r\n",
       "}\r\n",
       "comp def \"C\" as E4  <<(T,blue)part def>> [[psysml:562783b8-e65b-4087-86a0-89c793c14f93 ]] {\r\n",
       "}\r\n",
       "comp usage \"g\" as E5  <<(T,blue)part>> [[psysml:ab356c3f-6fc6-498c-877e-f29aa221dc38 ]] {\r\n",
       "}\r\n",
       "E2 *- - E3 [[psysml:3a53f0eb-5b79-463f-97a3-37a7a9b28614 ]] \r\n",
       "E4 *- - E5 [[psysml:b96f3833-0cb6-4ba3-9671-acfc6ae0d964 ]] \r\n",
       "}\r\n",
       "@enduml\r\n",
       "\n",
       "PlantUML version 1.2020.13(Sat Jun 13 12:26:38 UTC 2020)\n",
       "(EPL source distribution)\n",
       "Java Runtime: OpenJDK Runtime Environment\n",
       "JVM: OpenJDK 64-Bit Server VM\n",
       "Default Encoding: UTF-8\n",
       "Language: en\n",
       "Country: null\n",
       "--></g></svg>"
      ]
     },
     "execution_count": 15,
     "metadata": {},
     "output_type": "execute_result"
    }
   ],
   "source": [
    "%viz --style=\"POLYLINE\" --view=\"MIXED\" \"Q\""
   ]
  },
  {
   "cell_type": "code",
   "execution_count": 16,
   "id": "6c244c94",
   "metadata": {
    "execution": {
     "iopub.execute_input": "2021-04-20T06:58:44.990183Z",
     "iopub.status.busy": "2021-04-20T06:58:44.989676Z",
     "iopub.status.idle": "2021-04-20T06:58:45.027165Z",
     "shell.execute_reply": "2021-04-20T06:58:45.026208Z"
    }
   },
   "outputs": [
    {
     "data": {
      "image/svg+xml": [
       "<?xml version=\"1.0\" encoding=\"UTF-8\" standalone=\"no\"?><svg xmlns=\"http://www.w3.org/2000/svg\" xmlns:xlink=\"http://www.w3.org/1999/xlink\" contentScriptType=\"application/ecmascript\" contentStyleType=\"text/css\" height=\"196px\" preserveAspectRatio=\"none\" style=\"width:238px;height:196px;\" version=\"1.1\" viewBox=\"0 0 238 196\" width=\"238px\" zoomAndPan=\"magnify\"><defs/><g><!--MD5=[fbc87193dbaf4d95561dea2c320d4a47]\n",
       "cluster E1--><a href=\"psysml:6ab71797-e8f8-4bff-ada3-bad51ca07e78\" target=\"_top\" title=\"psysml:6ab71797-e8f8-4bff-ada3-bad51ca07e78\" xlink:actuate=\"onRequest\" xlink:href=\"psysml:6ab71797-e8f8-4bff-ada3-bad51ca07e78\" xlink:show=\"new\" xlink:title=\"psysml:6ab71797-e8f8-4bff-ada3-bad51ca07e78\" xlink:type=\"simple\"><polygon fill=\"#FFFFFF\" points=\"16,6,34,6,41,28.2969,216,28.2969,216,184,16,184,16,6\" style=\"stroke: #000000; stroke-width: 1.5;\"/><line style=\"stroke: #000000; stroke-width: 1.5;\" x1=\"16\" x2=\"41\" y1=\"28.2969\" y2=\"28.2969\"/><text fill=\"#000000\" font-family=\"sans-serif\" font-size=\"14\" font-weight=\"bold\" lengthAdjust=\"spacingAndGlyphs\" textLength=\"12\" x=\"20\" y=\"20.9951\">Q</text></a><!--MD5=[b4997ac47864f28c2f74865a473b2911]\n",
       "class E2--><a href=\"psysml:c02a2287-c712-494f-86c8-48c213fef3aa\" target=\"_top\" title=\"psysml:c02a2287-c712-494f-86c8-48c213fef3aa\" xlink:actuate=\"onRequest\" xlink:href=\"psysml:c02a2287-c712-494f-86c8-48c213fef3aa\" xlink:show=\"new\" xlink:title=\"psysml:c02a2287-c712-494f-86c8-48c213fef3aa\" xlink:type=\"simple\"><rect fill=\"#FFFFFF\" height=\"45.9375\" id=\"E2\" rx=\"10\" ry=\"10\" style=\"stroke: #383838; stroke-width: 1.5;\" width=\"42\" x=\"44\" y=\"41\"/><text fill=\"#000000\" font-family=\"sans-serif\" font-size=\"12\" font-style=\"italic\" lengthAdjust=\"spacingAndGlyphs\" textLength=\"40\" x=\"45\" y=\"57.1387\">«part»</text><text fill=\"#000000\" font-family=\"sans-serif\" font-size=\"12\" lengthAdjust=\"spacingAndGlyphs\" textLength=\"4\" x=\"63\" y=\"71.1074\">f</text><line style=\"stroke: #383838; stroke-width: 1.5;\" x1=\"45\" x2=\"85\" y1=\"78.9375\" y2=\"78.9375\"/></a><!--MD5=[09b614a08d8cba4a07c9adeb5e0fee81]\n",
       "class E3--><a href=\"psysml:b53848ad-4a38-46bd-bd01-a08ed5bc4cea\" target=\"_top\" title=\"psysml:b53848ad-4a38-46bd-bd01-a08ed5bc4cea\" xlink:actuate=\"onRequest\" xlink:href=\"psysml:b53848ad-4a38-46bd-bd01-a08ed5bc4cea\" xlink:show=\"new\" xlink:title=\"psysml:b53848ad-4a38-46bd-bd01-a08ed5bc4cea\" xlink:type=\"simple\"><rect fill=\"#FFFFFF\" height=\"45.9375\" id=\"E3\" rx=\"10\" ry=\"10\" style=\"stroke: #383838; stroke-width: 1.5;\" width=\"42\" x=\"158\" y=\"41\"/><text fill=\"#000000\" font-family=\"sans-serif\" font-size=\"12\" font-style=\"italic\" lengthAdjust=\"spacingAndGlyphs\" textLength=\"40\" x=\"159\" y=\"57.1387\">«part»</text><text fill=\"#000000\" font-family=\"sans-serif\" font-size=\"12\" lengthAdjust=\"spacingAndGlyphs\" textLength=\"8\" x=\"175\" y=\"71.1074\">a</text><line style=\"stroke: #383838; stroke-width: 1.5;\" x1=\"159\" x2=\"199\" y1=\"78.9375\" y2=\"78.9375\"/></a><!--MD5=[ebbe1d658d1005bcc118a6aa81145e00]\n",
       "class E4--><a href=\"psysml:562783b8-e65b-4087-86a0-89c793c14f93\" target=\"_top\" title=\"psysml:562783b8-e65b-4087-86a0-89c793c14f93\" xlink:actuate=\"onRequest\" xlink:href=\"psysml:562783b8-e65b-4087-86a0-89c793c14f93\" xlink:show=\"new\" xlink:title=\"psysml:562783b8-e65b-4087-86a0-89c793c14f93\" xlink:type=\"simple\"><rect fill=\"#FFFFFF\" height=\"45.9375\" id=\"E4\" style=\"stroke: #383838; stroke-width: 1.5;\" width=\"66\" x=\"32\" y=\"122\"/><text fill=\"#000000\" font-family=\"sans-serif\" font-size=\"12\" font-style=\"italic\" lengthAdjust=\"spacingAndGlyphs\" textLength=\"64\" x=\"33\" y=\"138.1387\">«part def»</text><text fill=\"#000000\" font-family=\"sans-serif\" font-size=\"12\" lengthAdjust=\"spacingAndGlyphs\" textLength=\"8\" x=\"61\" y=\"152.1074\">C</text><line style=\"stroke: #383838; stroke-width: 1.5;\" x1=\"33\" x2=\"97\" y1=\"159.9375\" y2=\"159.9375\"/></a><!--MD5=[270fce915f116d4de14055a7c1d9a0f3]\n",
       "class E5--><a href=\"psysml:ab356c3f-6fc6-498c-877e-f29aa221dc38\" target=\"_top\" title=\"psysml:ab356c3f-6fc6-498c-877e-f29aa221dc38\" xlink:actuate=\"onRequest\" xlink:href=\"psysml:ab356c3f-6fc6-498c-877e-f29aa221dc38\" xlink:show=\"new\" xlink:title=\"psysml:ab356c3f-6fc6-498c-877e-f29aa221dc38\" xlink:type=\"simple\"><rect fill=\"#FFFFFF\" height=\"45.9375\" id=\"E5\" rx=\"10\" ry=\"10\" style=\"stroke: #383838; stroke-width: 1.5;\" width=\"42\" x=\"158\" y=\"122\"/><text fill=\"#000000\" font-family=\"sans-serif\" font-size=\"12\" font-style=\"italic\" lengthAdjust=\"spacingAndGlyphs\" textLength=\"40\" x=\"159\" y=\"138.1387\">«part»</text><text fill=\"#000000\" font-family=\"sans-serif\" font-size=\"12\" lengthAdjust=\"spacingAndGlyphs\" textLength=\"8\" x=\"175\" y=\"152.1074\">g</text><line style=\"stroke: #383838; stroke-width: 1.5;\" x1=\"159\" x2=\"199\" y1=\"159.9375\" y2=\"159.9375\"/></a><!--MD5=[209b3feb70ccb6233bfe1053d122c12c]\n",
       "reverse link E2 to E3--><a href=\"psysml:3a53f0eb-5b79-463f-97a3-37a7a9b28614\" target=\"_top\" title=\"psysml:3a53f0eb-5b79-463f-97a3-37a7a9b28614\" xlink:actuate=\"onRequest\" xlink:href=\"psysml:3a53f0eb-5b79-463f-97a3-37a7a9b28614\" xlink:show=\"new\" xlink:title=\"psysml:3a53f0eb-5b79-463f-97a3-37a7a9b28614\" xlink:type=\"simple\"><path d=\"M99.26,64 C118.27,64 141.49,64 157.77,64 \" fill=\"none\" id=\"E2&lt;-E3\" style=\"stroke: #383838; stroke-width: 1.0;\"/><polygon fill=\"#383838\" points=\"86.02,64,92.02,68,98.02,64,92.02,60,86.02,64\" style=\"stroke: #383838; stroke-width: 1.0;\"/></a><!--MD5=[62aa6af11e70f752912c1cb0466f24f7]\n",
       "reverse link E4 to E5--><a href=\"psysml:b96f3833-0cb6-4ba3-9671-acfc6ae0d964\" target=\"_top\" title=\"psysml:b96f3833-0cb6-4ba3-9671-acfc6ae0d964\" xlink:actuate=\"onRequest\" xlink:href=\"psysml:b96f3833-0cb6-4ba3-9671-acfc6ae0d964\" xlink:show=\"new\" xlink:title=\"psysml:b96f3833-0cb6-4ba3-9671-acfc6ae0d964\" xlink:type=\"simple\"><path d=\"M111.28,145 C127.47,145 144.9,145 157.89,145 \" fill=\"none\" id=\"E4&lt;-E5\" style=\"stroke: #383838; stroke-width: 1.0;\"/><polygon fill=\"#383838\" points=\"98.09,145,104.09,149,110.09,145,104.09,141,98.09,145\" style=\"stroke: #383838; stroke-width: 1.0;\"/></a><!--MD5=[c239d6e0ba3a0a76a48cc17eb9f46f09]\n",
       "@startuml\r\n",
       "left to right direction\r\n",
       "skinparam monochrome true\r\n",
       "skinparam classbackgroundcolor white\r\n",
       "skinparam shadowing false\r\n",
       "skinparam wrapWidth 300\r\n",
       "hide circle\r\n",
       "\r\n",
       "package \"Q\" as E1  [[psysml:6ab71797-e8f8-4bff-ada3-bad51ca07e78 ]]  {\r\n",
       "comp usage \"f\" as E2  <<(T,blue)part>> [[psysml:c02a2287-c712-494f-86c8-48c213fef3aa ]] {\r\n",
       "}\r\n",
       "comp usage \"a\" as E3  <<(T,blue)part>> [[psysml:b53848ad-4a38-46bd-bd01-a08ed5bc4cea ]] {\r\n",
       "}\r\n",
       "comp def \"C\" as E4  <<(T,blue)part def>> [[psysml:562783b8-e65b-4087-86a0-89c793c14f93 ]] {\r\n",
       "}\r\n",
       "comp usage \"g\" as E5  <<(T,blue)part>> [[psysml:ab356c3f-6fc6-498c-877e-f29aa221dc38 ]] {\r\n",
       "}\r\n",
       "E2 *- - E3 [[psysml:3a53f0eb-5b79-463f-97a3-37a7a9b28614 ]] \r\n",
       "E4 *- - E5 [[psysml:b96f3833-0cb6-4ba3-9671-acfc6ae0d964 ]] \r\n",
       "}\r\n",
       "@enduml\r\n",
       "\n",
       "PlantUML version 1.2020.13(Sat Jun 13 12:26:38 UTC 2020)\n",
       "(EPL source distribution)\n",
       "Java Runtime: OpenJDK Runtime Environment\n",
       "JVM: OpenJDK 64-Bit Server VM\n",
       "Default Encoding: UTF-8\n",
       "Language: en\n",
       "Country: null\n",
       "--></g></svg>"
      ]
     },
     "execution_count": 16,
     "metadata": {},
     "output_type": "execute_result"
    }
   ],
   "source": [
    "%viz --style=\"LR\" --view=\"Default\" \"Q\""
   ]
  },
  {
   "cell_type": "code",
   "execution_count": 17,
   "id": "d4a98e36",
   "metadata": {
    "execution": {
     "iopub.execute_input": "2021-04-20T06:58:45.079776Z",
     "iopub.status.busy": "2021-04-20T06:58:45.078800Z",
     "iopub.status.idle": "2021-04-20T06:58:45.138376Z",
     "shell.execute_reply": "2021-04-20T06:58:45.137884Z"
    }
   },
   "outputs": [
    {
     "data": {
      "image/svg+xml": [
       "<?xml version=\"1.0\" encoding=\"UTF-8\" standalone=\"no\"?><svg xmlns=\"http://www.w3.org/2000/svg\" xmlns:xlink=\"http://www.w3.org/1999/xlink\" contentScriptType=\"application/ecmascript\" contentStyleType=\"text/css\" height=\"196px\" preserveAspectRatio=\"none\" style=\"width:238px;height:196px;\" version=\"1.1\" viewBox=\"0 0 238 196\" width=\"238px\" zoomAndPan=\"magnify\"><defs/><g><!--MD5=[fbc87193dbaf4d95561dea2c320d4a47]\n",
       "cluster E1--><a href=\"psysml:6ab71797-e8f8-4bff-ada3-bad51ca07e78\" target=\"_top\" title=\"psysml:6ab71797-e8f8-4bff-ada3-bad51ca07e78\" xlink:actuate=\"onRequest\" xlink:href=\"psysml:6ab71797-e8f8-4bff-ada3-bad51ca07e78\" xlink:show=\"new\" xlink:title=\"psysml:6ab71797-e8f8-4bff-ada3-bad51ca07e78\" xlink:type=\"simple\"><polygon fill=\"#FFFFFF\" points=\"16,6,34,6,41,28.2969,216,28.2969,216,184,16,184,16,6\" style=\"stroke: #000000; stroke-width: 1.5;\"/><line style=\"stroke: #000000; stroke-width: 1.5;\" x1=\"16\" x2=\"41\" y1=\"28.2969\" y2=\"28.2969\"/><text fill=\"#000000\" font-family=\"sans-serif\" font-size=\"14\" font-weight=\"bold\" lengthAdjust=\"spacingAndGlyphs\" textLength=\"12\" x=\"20\" y=\"20.9951\">Q</text></a><!--MD5=[b4997ac47864f28c2f74865a473b2911]\n",
       "class E2--><a href=\"psysml:c02a2287-c712-494f-86c8-48c213fef3aa\" target=\"_top\" title=\"psysml:c02a2287-c712-494f-86c8-48c213fef3aa\" xlink:actuate=\"onRequest\" xlink:href=\"psysml:c02a2287-c712-494f-86c8-48c213fef3aa\" xlink:show=\"new\" xlink:title=\"psysml:c02a2287-c712-494f-86c8-48c213fef3aa\" xlink:type=\"simple\"><rect fill=\"#FFFFFF\" height=\"45.9375\" id=\"E2\" rx=\"10\" ry=\"10\" style=\"stroke: #383838; stroke-width: 1.5;\" width=\"42\" x=\"44\" y=\"41\"/><text fill=\"#000000\" font-family=\"sans-serif\" font-size=\"12\" font-style=\"italic\" lengthAdjust=\"spacingAndGlyphs\" textLength=\"40\" x=\"45\" y=\"57.1387\">«part»</text><text fill=\"#000000\" font-family=\"sans-serif\" font-size=\"12\" lengthAdjust=\"spacingAndGlyphs\" textLength=\"4\" x=\"63\" y=\"71.1074\">f</text><line style=\"stroke: #383838; stroke-width: 1.5;\" x1=\"45\" x2=\"85\" y1=\"78.9375\" y2=\"78.9375\"/></a><!--MD5=[09b614a08d8cba4a07c9adeb5e0fee81]\n",
       "class E3--><a href=\"psysml:b53848ad-4a38-46bd-bd01-a08ed5bc4cea\" target=\"_top\" title=\"psysml:b53848ad-4a38-46bd-bd01-a08ed5bc4cea\" xlink:actuate=\"onRequest\" xlink:href=\"psysml:b53848ad-4a38-46bd-bd01-a08ed5bc4cea\" xlink:show=\"new\" xlink:title=\"psysml:b53848ad-4a38-46bd-bd01-a08ed5bc4cea\" xlink:type=\"simple\"><rect fill=\"#FFFFFF\" height=\"45.9375\" id=\"E3\" rx=\"10\" ry=\"10\" style=\"stroke: #383838; stroke-width: 1.5;\" width=\"42\" x=\"158\" y=\"41\"/><text fill=\"#000000\" font-family=\"sans-serif\" font-size=\"12\" font-style=\"italic\" lengthAdjust=\"spacingAndGlyphs\" textLength=\"40\" x=\"159\" y=\"57.1387\">«part»</text><text fill=\"#000000\" font-family=\"sans-serif\" font-size=\"12\" lengthAdjust=\"spacingAndGlyphs\" textLength=\"8\" x=\"175\" y=\"71.1074\">a</text><line style=\"stroke: #383838; stroke-width: 1.5;\" x1=\"159\" x2=\"199\" y1=\"78.9375\" y2=\"78.9375\"/></a><!--MD5=[ebbe1d658d1005bcc118a6aa81145e00]\n",
       "class E4--><a href=\"psysml:562783b8-e65b-4087-86a0-89c793c14f93\" target=\"_top\" title=\"psysml:562783b8-e65b-4087-86a0-89c793c14f93\" xlink:actuate=\"onRequest\" xlink:href=\"psysml:562783b8-e65b-4087-86a0-89c793c14f93\" xlink:show=\"new\" xlink:title=\"psysml:562783b8-e65b-4087-86a0-89c793c14f93\" xlink:type=\"simple\"><rect fill=\"#FFFFFF\" height=\"45.9375\" id=\"E4\" style=\"stroke: #383838; stroke-width: 1.5;\" width=\"66\" x=\"32\" y=\"122\"/><text fill=\"#000000\" font-family=\"sans-serif\" font-size=\"12\" font-style=\"italic\" lengthAdjust=\"spacingAndGlyphs\" textLength=\"64\" x=\"33\" y=\"138.1387\">«part def»</text><text fill=\"#000000\" font-family=\"sans-serif\" font-size=\"12\" lengthAdjust=\"spacingAndGlyphs\" textLength=\"8\" x=\"61\" y=\"152.1074\">C</text><line style=\"stroke: #383838; stroke-width: 1.5;\" x1=\"33\" x2=\"97\" y1=\"159.9375\" y2=\"159.9375\"/></a><!--MD5=[270fce915f116d4de14055a7c1d9a0f3]\n",
       "class E5--><a href=\"psysml:ab356c3f-6fc6-498c-877e-f29aa221dc38\" target=\"_top\" title=\"psysml:ab356c3f-6fc6-498c-877e-f29aa221dc38\" xlink:actuate=\"onRequest\" xlink:href=\"psysml:ab356c3f-6fc6-498c-877e-f29aa221dc38\" xlink:show=\"new\" xlink:title=\"psysml:ab356c3f-6fc6-498c-877e-f29aa221dc38\" xlink:type=\"simple\"><rect fill=\"#FFFFFF\" height=\"45.9375\" id=\"E5\" rx=\"10\" ry=\"10\" style=\"stroke: #383838; stroke-width: 1.5;\" width=\"42\" x=\"158\" y=\"122\"/><text fill=\"#000000\" font-family=\"sans-serif\" font-size=\"12\" font-style=\"italic\" lengthAdjust=\"spacingAndGlyphs\" textLength=\"40\" x=\"159\" y=\"138.1387\">«part»</text><text fill=\"#000000\" font-family=\"sans-serif\" font-size=\"12\" lengthAdjust=\"spacingAndGlyphs\" textLength=\"8\" x=\"175\" y=\"152.1074\">g</text><line style=\"stroke: #383838; stroke-width: 1.5;\" x1=\"159\" x2=\"199\" y1=\"159.9375\" y2=\"159.9375\"/></a><!--MD5=[209b3feb70ccb6233bfe1053d122c12c]\n",
       "reverse link E2 to E3--><a href=\"psysml:3a53f0eb-5b79-463f-97a3-37a7a9b28614\" target=\"_top\" title=\"psysml:3a53f0eb-5b79-463f-97a3-37a7a9b28614\" xlink:actuate=\"onRequest\" xlink:href=\"psysml:3a53f0eb-5b79-463f-97a3-37a7a9b28614\" xlink:show=\"new\" xlink:title=\"psysml:3a53f0eb-5b79-463f-97a3-37a7a9b28614\" xlink:type=\"simple\"><path d=\"M99.26,64 C118.27,64 141.49,64 157.77,64 \" fill=\"none\" id=\"E2&lt;-E3\" style=\"stroke: #383838; stroke-width: 1.0;\"/><polygon fill=\"#383838\" points=\"86.02,64,92.02,68,98.02,64,92.02,60,86.02,64\" style=\"stroke: #383838; stroke-width: 1.0;\"/></a><!--MD5=[62aa6af11e70f752912c1cb0466f24f7]\n",
       "reverse link E4 to E5--><a href=\"psysml:b96f3833-0cb6-4ba3-9671-acfc6ae0d964\" target=\"_top\" title=\"psysml:b96f3833-0cb6-4ba3-9671-acfc6ae0d964\" xlink:actuate=\"onRequest\" xlink:href=\"psysml:b96f3833-0cb6-4ba3-9671-acfc6ae0d964\" xlink:show=\"new\" xlink:title=\"psysml:b96f3833-0cb6-4ba3-9671-acfc6ae0d964\" xlink:type=\"simple\"><path d=\"M111.28,145 C127.47,145 144.9,145 157.89,145 \" fill=\"none\" id=\"E4&lt;-E5\" style=\"stroke: #383838; stroke-width: 1.0;\"/><polygon fill=\"#383838\" points=\"98.09,145,104.09,149,110.09,145,104.09,141,98.09,145\" style=\"stroke: #383838; stroke-width: 1.0;\"/></a><!--MD5=[c239d6e0ba3a0a76a48cc17eb9f46f09]\n",
       "@startuml\r\n",
       "left to right direction\r\n",
       "skinparam monochrome true\r\n",
       "skinparam classbackgroundcolor white\r\n",
       "skinparam shadowing false\r\n",
       "skinparam wrapWidth 300\r\n",
       "hide circle\r\n",
       "\r\n",
       "package \"Q\" as E1  [[psysml:6ab71797-e8f8-4bff-ada3-bad51ca07e78 ]]  {\r\n",
       "comp usage \"f\" as E2  <<(T,blue)part>> [[psysml:c02a2287-c712-494f-86c8-48c213fef3aa ]] {\r\n",
       "}\r\n",
       "comp usage \"a\" as E3  <<(T,blue)part>> [[psysml:b53848ad-4a38-46bd-bd01-a08ed5bc4cea ]] {\r\n",
       "}\r\n",
       "comp def \"C\" as E4  <<(T,blue)part def>> [[psysml:562783b8-e65b-4087-86a0-89c793c14f93 ]] {\r\n",
       "}\r\n",
       "comp usage \"g\" as E5  <<(T,blue)part>> [[psysml:ab356c3f-6fc6-498c-877e-f29aa221dc38 ]] {\r\n",
       "}\r\n",
       "E2 *- - E3 [[psysml:3a53f0eb-5b79-463f-97a3-37a7a9b28614 ]] \r\n",
       "E4 *- - E5 [[psysml:b96f3833-0cb6-4ba3-9671-acfc6ae0d964 ]] \r\n",
       "}\r\n",
       "@enduml\r\n",
       "\n",
       "PlantUML version 1.2020.13(Sat Jun 13 12:26:38 UTC 2020)\n",
       "(EPL source distribution)\n",
       "Java Runtime: OpenJDK Runtime Environment\n",
       "JVM: OpenJDK 64-Bit Server VM\n",
       "Default Encoding: UTF-8\n",
       "Language: en\n",
       "Country: null\n",
       "--></g></svg>"
      ]
     },
     "execution_count": 17,
     "metadata": {},
     "output_type": "execute_result"
    }
   ],
   "source": [
    "%viz --style=\"LR\" --view=\"Tree\" \"Q\""
   ]
  },
  {
   "cell_type": "code",
   "execution_count": 18,
   "id": "b60ec6a7",
   "metadata": {
    "execution": {
     "iopub.execute_input": "2021-04-20T06:58:45.190450Z",
     "iopub.status.busy": "2021-04-20T06:58:45.189902Z",
     "iopub.status.idle": "2021-04-20T06:58:45.195427Z",
     "shell.execute_reply": "2021-04-20T06:58:45.195138Z"
    }
   },
   "outputs": [
    {
     "data": {
      "image/svg+xml": [
       "<?xml version=\"1.0\" encoding=\"UTF-8\" standalone=\"no\"?><svg xmlns=\"http://www.w3.org/2000/svg\" xmlns:xlink=\"http://www.w3.org/1999/xlink\" contentScriptType=\"application/ecmascript\" contentStyleType=\"text/css\" height=\"12px\" preserveAspectRatio=\"none\" style=\"width:12px;height:12px;\" version=\"1.1\" viewBox=\"0 0 12 12\" width=\"12px\" zoomAndPan=\"magnify\"><defs/><g><!--MD5=[19d285c9d72a204eba4e2cd117d745e8]\n",
       "@startuml\r\n",
       "left to right direction\r\n",
       "skinparam monochrome true\r\n",
       "skinparam classbackgroundcolor white\r\n",
       "skinparam shadowing false\r\n",
       "skinparam wrapWidth 300\r\n",
       "hide circle\r\n",
       "\r\n",
       "@enduml\r\n",
       "\n",
       "PlantUML version 1.2020.13(Sat Jun 13 12:26:38 UTC 2020)\n",
       "(EPL source distribution)\n",
       "Java Runtime: OpenJDK Runtime Environment\n",
       "JVM: OpenJDK 64-Bit Server VM\n",
       "Default Encoding: UTF-8\n",
       "Language: en\n",
       "Country: null\n",
       "--></g></svg>"
      ]
     },
     "execution_count": 18,
     "metadata": {},
     "output_type": "execute_result"
    }
   ],
   "source": [
    "%viz --style=\"LR\" --view=\"State\" \"Q\""
   ]
  },
  {
   "cell_type": "code",
   "execution_count": 19,
   "id": "a6709bdf",
   "metadata": {
    "execution": {
     "iopub.execute_input": "2021-04-20T06:58:45.248009Z",
     "iopub.status.busy": "2021-04-20T06:58:45.247372Z",
     "iopub.status.idle": "2021-04-20T06:58:45.280248Z",
     "shell.execute_reply": "2021-04-20T06:58:45.279944Z"
    }
   },
   "outputs": [
    {
     "data": {
      "image/svg+xml": [
       "<?xml version=\"1.0\" encoding=\"UTF-8\" standalone=\"no\"?><svg xmlns=\"http://www.w3.org/2000/svg\" xmlns:xlink=\"http://www.w3.org/1999/xlink\" contentScriptType=\"application/ecmascript\" contentStyleType=\"text/css\" height=\"307px\" preserveAspectRatio=\"none\" style=\"width:179px;height:307px;\" version=\"1.1\" viewBox=\"0 0 179 307\" width=\"179px\" zoomAndPan=\"magnify\"><defs/><g><!--MD5=[fbc87193dbaf4d95561dea2c320d4a47]\n",
       "cluster E1--><a href=\"psysml:6ab71797-e8f8-4bff-ada3-bad51ca07e78\" target=\"_top\" title=\"psysml:6ab71797-e8f8-4bff-ada3-bad51ca07e78\" xlink:actuate=\"onRequest\" xlink:href=\"psysml:6ab71797-e8f8-4bff-ada3-bad51ca07e78\" xlink:show=\"new\" xlink:title=\"psysml:6ab71797-e8f8-4bff-ada3-bad51ca07e78\" xlink:type=\"simple\"><polygon fill=\"#FFFFFF\" points=\"16,6,34,6,41,28.2969,157,28.2969,157,295,16,295,16,6\" style=\"stroke: #000000; stroke-width: 1.5;\"/><line style=\"stroke: #000000; stroke-width: 1.5;\" x1=\"16\" x2=\"41\" y1=\"28.2969\" y2=\"28.2969\"/><text fill=\"#000000\" font-family=\"sans-serif\" font-size=\"14\" font-weight=\"bold\" lengthAdjust=\"spacingAndGlyphs\" textLength=\"12\" x=\"20\" y=\"20.9951\">Q</text></a><!--MD5=[e4f7fae6ed58524ba242bb0b0d3be6b7]\n",
       "cluster E2--><a href=\"psysml:c02a2287-c712-494f-86c8-48c213fef3aa\" target=\"_top\" title=\"psysml:c02a2287-c712-494f-86c8-48c213fef3aa\" xlink:actuate=\"onRequest\" xlink:href=\"psysml:c02a2287-c712-494f-86c8-48c213fef3aa\" xlink:show=\"new\" xlink:title=\"psysml:c02a2287-c712-494f-86c8-48c213fef3aa\" xlink:type=\"simple\"><rect fill=\"#FFFFFF\" height=\"91\" id=\"E2\" rx=\"10\" ry=\"10\" style=\"stroke: #383838; stroke-width: 1.5;\" width=\"82\" x=\"45.5\" y=\"49\"/><rect fill=\"#F8F8F8\" height=\"23.9688\" rx=\"10\" ry=\"10\" style=\"stroke: #F8F8F8; stroke-width: 1.5;\" width=\"82\" x=\"45.5\" y=\"49\"/><rect fill=\"#F8F8F8\" height=\"10\" style=\"stroke: #F8F8F8; stroke-width: 1.5;\" width=\"82\" x=\"45.5\" y=\"62.9688\"/><rect fill=\"none\" height=\"91\" id=\"E2\" rx=\"10\" ry=\"10\" style=\"stroke: #383838; stroke-width: 1.5;\" width=\"82\" x=\"45.5\" y=\"49\"/><text fill=\"#000000\" font-family=\"sans-serif\" font-size=\"12\" lengthAdjust=\"spacingAndGlyphs\" textLength=\"4\" x=\"84.5\" y=\"65.1387\">f</text><line style=\"stroke: #383838; stroke-width: 1.0;\" x1=\"45.5\" x2=\"127.5\" y1=\"72.9688\" y2=\"72.9688\"/></a><!--MD5=[f6df4d0ebaf0b5dfb2ced0ae5af7c670]\n",
       "cluster E4--><a href=\"psysml:562783b8-e65b-4087-86a0-89c793c14f93\" target=\"_top\" title=\"psysml:562783b8-e65b-4087-86a0-89c793c14f93\" xlink:actuate=\"onRequest\" xlink:href=\"psysml:562783b8-e65b-4087-86a0-89c793c14f93\" xlink:show=\"new\" xlink:title=\"psysml:562783b8-e65b-4087-86a0-89c793c14f93\" xlink:type=\"simple\"><rect fill=\"#FFFFFF\" height=\"107\" id=\"E4\" style=\"stroke: #383838; stroke-width: 1.5;\" width=\"93\" x=\"40\" y=\"164\"/><rect fill=\"#F8F8F8\" height=\"37.9375\" style=\"stroke: #383838; stroke-width: 1.5;\" width=\"93\" x=\"40\" y=\"164\"/><text fill=\"#000000\" font-family=\"sans-serif\" font-size=\"12\" font-style=\"italic\" lengthAdjust=\"spacingAndGlyphs\" textLength=\"64\" x=\"54.5\" y=\"180.1387\">«part def»</text><text fill=\"#000000\" font-family=\"sans-serif\" font-size=\"12\" lengthAdjust=\"spacingAndGlyphs\" textLength=\"8\" x=\"82.5\" y=\"194.1074\">C</text></a><g id=\"E1.E2.E3\"><a href=\"psysml:b53848ad-4a38-46bd-bd01-a08ed5bc4cea\" target=\"_top\" title=\"psysml:b53848ad-4a38-46bd-bd01-a08ed5bc4cea\" xlink:actuate=\"onRequest\" xlink:href=\"psysml:b53848ad-4a38-46bd-bd01-a08ed5bc4cea\" xlink:show=\"new\" xlink:title=\"psysml:b53848ad-4a38-46bd-bd01-a08ed5bc4cea\" xlink:type=\"simple\"><rect fill=\"#FFFFFF\" height=\"40\" id=\"E3\" rx=\"10\" ry=\"10\" style=\"stroke: #383838; stroke-width: 1.5;\" width=\"50\" x=\"61.5\" y=\"84\"/><rect fill=\"#F8F8F8\" height=\"23.9688\" rx=\"10\" ry=\"10\" style=\"stroke: #F8F8F8; stroke-width: 1.5;\" width=\"50\" x=\"61.5\" y=\"84\"/><rect fill=\"#F8F8F8\" height=\"10\" style=\"stroke: #F8F8F8; stroke-width: 1.5;\" width=\"50\" x=\"61.5\" y=\"97.9688\"/><rect fill=\"none\" height=\"40\" id=\"E3\" rx=\"10\" ry=\"10\" style=\"stroke: #383838; stroke-width: 1.5;\" width=\"50\" x=\"61.5\" y=\"84\"/><text fill=\"#000000\" font-family=\"sans-serif\" font-size=\"12\" lengthAdjust=\"spacingAndGlyphs\" textLength=\"8\" x=\"82.5\" y=\"100.1387\">a</text></a></g><g id=\"E1.E4.E5\"><a href=\"psysml:ab356c3f-6fc6-498c-877e-f29aa221dc38\" target=\"_top\" title=\"psysml:ab356c3f-6fc6-498c-877e-f29aa221dc38\" xlink:actuate=\"onRequest\" xlink:href=\"psysml:ab356c3f-6fc6-498c-877e-f29aa221dc38\" xlink:show=\"new\" xlink:title=\"psysml:ab356c3f-6fc6-498c-877e-f29aa221dc38\" xlink:type=\"simple\"><rect fill=\"#FFFFFF\" height=\"40\" id=\"E5\" rx=\"10\" ry=\"10\" style=\"stroke: #383838; stroke-width: 1.5;\" width=\"61\" x=\"56\" y=\"215\"/><rect fill=\"#F8F8F8\" height=\"23.9688\" rx=\"10\" ry=\"10\" style=\"stroke: #F8F8F8; stroke-width: 1.5;\" width=\"61\" x=\"56\" y=\"215\"/><rect fill=\"#F8F8F8\" height=\"10\" style=\"stroke: #F8F8F8; stroke-width: 1.5;\" width=\"61\" x=\"56\" y=\"228.9688\"/><rect fill=\"none\" height=\"40\" id=\"E5\" rx=\"10\" ry=\"10\" style=\"stroke: #383838; stroke-width: 1.5;\" width=\"61\" x=\"56\" y=\"215\"/><text fill=\"#000000\" font-family=\"sans-serif\" font-size=\"12\" lengthAdjust=\"spacingAndGlyphs\" textLength=\"46\" x=\"61.5\" y=\"231.1387\">g=./f/a;</text></a></g><!--MD5=[c61749d4160258c1109a06113672bf2f]\n",
       "@startuml\r\n",
       "skinparam ranksep 10\r\n",
       "skinparam rectangle {\r\n",
       " backgroundColor<<block>> LightGreen\r\n",
       "}\r\n",
       "left to right direction\r\n",
       "skinparam monochrome true\r\n",
       "skinparam classbackgroundcolor white\r\n",
       "skinparam shadowing false\r\n",
       "skinparam wrapWidth 300\r\n",
       "hide circle\r\n",
       "\r\n",
       "package \"Q\" as E1  [[psysml:6ab71797-e8f8-4bff-ada3-bad51ca07e78 ]]  {\r\n",
       "rec usage \"f\" as E2  [[psysml:c02a2287-c712-494f-86c8-48c213fef3aa ]] {\r\n",
       "rec usage \"a\" as E3  [[psysml:b53848ad-4a38-46bd-bd01-a08ed5bc4cea ]] {\r\n",
       "}\r\n",
       "}\r\n",
       "rec def \"C\" as E4  <<(T,blue)part def>> [[psysml:562783b8-e65b-4087-86a0-89c793c14f93 ]] {\r\n",
       "rec usage \"g=./f/a; \" as E5  [[psysml:ab356c3f-6fc6-498c-877e-f29aa221dc38 ]] {\r\n",
       "}\r\n",
       "}\r\n",
       "}\r\n",
       "@enduml\r\n",
       "\n",
       "PlantUML version 1.2020.13(Sat Jun 13 12:26:38 UTC 2020)\n",
       "(EPL source distribution)\n",
       "Java Runtime: OpenJDK Runtime Environment\n",
       "JVM: OpenJDK 64-Bit Server VM\n",
       "Default Encoding: UTF-8\n",
       "Language: en\n",
       "Country: null\n",
       "--></g></svg>"
      ]
     },
     "execution_count": 19,
     "metadata": {},
     "output_type": "execute_result"
    }
   ],
   "source": [
    "%viz --style=\"LR\" --view=\"Interconnection\" \"Q\""
   ]
  },
  {
   "cell_type": "code",
   "execution_count": 20,
   "id": "7e0dcc24",
   "metadata": {
    "execution": {
     "iopub.execute_input": "2021-04-20T06:58:45.309425Z",
     "iopub.status.busy": "2021-04-20T06:58:45.306438Z",
     "iopub.status.idle": "2021-04-20T06:58:45.316254Z",
     "shell.execute_reply": "2021-04-20T06:58:45.316552Z"
    }
   },
   "outputs": [
    {
     "data": {
      "image/svg+xml": [
       "<?xml version=\"1.0\" encoding=\"UTF-8\" standalone=\"no\"?><svg xmlns=\"http://www.w3.org/2000/svg\" xmlns:xlink=\"http://www.w3.org/1999/xlink\" contentScriptType=\"application/ecmascript\" contentStyleType=\"text/css\" height=\"12px\" preserveAspectRatio=\"none\" style=\"width:12px;height:12px;\" version=\"1.1\" viewBox=\"0 0 12 12\" width=\"12px\" zoomAndPan=\"magnify\"><defs/><g><!--MD5=[7aeb398939421629f6affaa4a1a7b125]\n",
       "@startuml\r\n",
       "skinparam ranksep 8\r\n",
       "left to right direction\r\n",
       "skinparam monochrome true\r\n",
       "skinparam classbackgroundcolor white\r\n",
       "skinparam shadowing false\r\n",
       "skinparam wrapWidth 300\r\n",
       "hide circle\r\n",
       "\r\n",
       "@enduml\r\n",
       "\n",
       "PlantUML version 1.2020.13(Sat Jun 13 12:26:38 UTC 2020)\n",
       "(EPL source distribution)\n",
       "Java Runtime: OpenJDK Runtime Environment\n",
       "JVM: OpenJDK 64-Bit Server VM\n",
       "Default Encoding: UTF-8\n",
       "Language: en\n",
       "Country: null\n",
       "--></g></svg>"
      ]
     },
     "execution_count": 20,
     "metadata": {},
     "output_type": "execute_result"
    }
   ],
   "source": [
    "%viz --style=\"LR\" --view=\"Action\" \"Q\""
   ]
  },
  {
   "cell_type": "code",
   "execution_count": 21,
   "id": "a91aa103",
   "metadata": {
    "execution": {
     "iopub.execute_input": "2021-04-20T06:58:45.367659Z",
     "iopub.status.busy": "2021-04-20T06:58:45.367249Z",
     "iopub.status.idle": "2021-04-20T06:58:45.412838Z",
     "shell.execute_reply": "2021-04-20T06:58:45.411596Z"
    }
   },
   "outputs": [
    {
     "data": {
      "image/svg+xml": [
       "<?xml version=\"1.0\" encoding=\"UTF-8\" standalone=\"no\"?><svg xmlns=\"http://www.w3.org/2000/svg\" xmlns:xlink=\"http://www.w3.org/1999/xlink\" contentScriptType=\"application/ecmascript\" contentStyleType=\"text/css\" height=\"196px\" preserveAspectRatio=\"none\" style=\"width:238px;height:196px;\" version=\"1.1\" viewBox=\"0 0 238 196\" width=\"238px\" zoomAndPan=\"magnify\"><defs/><g><!--MD5=[fbc87193dbaf4d95561dea2c320d4a47]\n",
       "cluster E1--><a href=\"psysml:6ab71797-e8f8-4bff-ada3-bad51ca07e78\" target=\"_top\" title=\"psysml:6ab71797-e8f8-4bff-ada3-bad51ca07e78\" xlink:actuate=\"onRequest\" xlink:href=\"psysml:6ab71797-e8f8-4bff-ada3-bad51ca07e78\" xlink:show=\"new\" xlink:title=\"psysml:6ab71797-e8f8-4bff-ada3-bad51ca07e78\" xlink:type=\"simple\"><polygon fill=\"#FFFFFF\" points=\"16,6,34,6,41,28.2969,216,28.2969,216,184,16,184,16,6\" style=\"stroke: #000000; stroke-width: 1.5;\"/><line style=\"stroke: #000000; stroke-width: 1.5;\" x1=\"16\" x2=\"41\" y1=\"28.2969\" y2=\"28.2969\"/><text fill=\"#000000\" font-family=\"sans-serif\" font-size=\"14\" font-weight=\"bold\" lengthAdjust=\"spacingAndGlyphs\" textLength=\"12\" x=\"20\" y=\"20.9951\">Q</text></a><!--MD5=[b4997ac47864f28c2f74865a473b2911]\n",
       "class E2--><a href=\"psysml:c02a2287-c712-494f-86c8-48c213fef3aa\" target=\"_top\" title=\"psysml:c02a2287-c712-494f-86c8-48c213fef3aa\" xlink:actuate=\"onRequest\" xlink:href=\"psysml:c02a2287-c712-494f-86c8-48c213fef3aa\" xlink:show=\"new\" xlink:title=\"psysml:c02a2287-c712-494f-86c8-48c213fef3aa\" xlink:type=\"simple\"><rect fill=\"#FFFFFF\" height=\"45.9375\" id=\"E2\" rx=\"10\" ry=\"10\" style=\"stroke: #383838; stroke-width: 1.5;\" width=\"42\" x=\"44\" y=\"41\"/><text fill=\"#000000\" font-family=\"sans-serif\" font-size=\"12\" font-style=\"italic\" lengthAdjust=\"spacingAndGlyphs\" textLength=\"40\" x=\"45\" y=\"57.1387\">«part»</text><text fill=\"#000000\" font-family=\"sans-serif\" font-size=\"12\" lengthAdjust=\"spacingAndGlyphs\" textLength=\"4\" x=\"63\" y=\"71.1074\">f</text><line style=\"stroke: #383838; stroke-width: 1.5;\" x1=\"45\" x2=\"85\" y1=\"78.9375\" y2=\"78.9375\"/></a><!--MD5=[09b614a08d8cba4a07c9adeb5e0fee81]\n",
       "class E3--><a href=\"psysml:b53848ad-4a38-46bd-bd01-a08ed5bc4cea\" target=\"_top\" title=\"psysml:b53848ad-4a38-46bd-bd01-a08ed5bc4cea\" xlink:actuate=\"onRequest\" xlink:href=\"psysml:b53848ad-4a38-46bd-bd01-a08ed5bc4cea\" xlink:show=\"new\" xlink:title=\"psysml:b53848ad-4a38-46bd-bd01-a08ed5bc4cea\" xlink:type=\"simple\"><rect fill=\"#FFFFFF\" height=\"45.9375\" id=\"E3\" rx=\"10\" ry=\"10\" style=\"stroke: #383838; stroke-width: 1.5;\" width=\"42\" x=\"158\" y=\"41\"/><text fill=\"#000000\" font-family=\"sans-serif\" font-size=\"12\" font-style=\"italic\" lengthAdjust=\"spacingAndGlyphs\" textLength=\"40\" x=\"159\" y=\"57.1387\">«part»</text><text fill=\"#000000\" font-family=\"sans-serif\" font-size=\"12\" lengthAdjust=\"spacingAndGlyphs\" textLength=\"8\" x=\"175\" y=\"71.1074\">a</text><line style=\"stroke: #383838; stroke-width: 1.5;\" x1=\"159\" x2=\"199\" y1=\"78.9375\" y2=\"78.9375\"/></a><!--MD5=[ebbe1d658d1005bcc118a6aa81145e00]\n",
       "class E4--><a href=\"psysml:562783b8-e65b-4087-86a0-89c793c14f93\" target=\"_top\" title=\"psysml:562783b8-e65b-4087-86a0-89c793c14f93\" xlink:actuate=\"onRequest\" xlink:href=\"psysml:562783b8-e65b-4087-86a0-89c793c14f93\" xlink:show=\"new\" xlink:title=\"psysml:562783b8-e65b-4087-86a0-89c793c14f93\" xlink:type=\"simple\"><rect fill=\"#FFFFFF\" height=\"45.9375\" id=\"E4\" style=\"stroke: #383838; stroke-width: 1.5;\" width=\"66\" x=\"32\" y=\"122\"/><text fill=\"#000000\" font-family=\"sans-serif\" font-size=\"12\" font-style=\"italic\" lengthAdjust=\"spacingAndGlyphs\" textLength=\"64\" x=\"33\" y=\"138.1387\">«part def»</text><text fill=\"#000000\" font-family=\"sans-serif\" font-size=\"12\" lengthAdjust=\"spacingAndGlyphs\" textLength=\"8\" x=\"61\" y=\"152.1074\">C</text><line style=\"stroke: #383838; stroke-width: 1.5;\" x1=\"33\" x2=\"97\" y1=\"159.9375\" y2=\"159.9375\"/></a><!--MD5=[270fce915f116d4de14055a7c1d9a0f3]\n",
       "class E5--><a href=\"psysml:ab356c3f-6fc6-498c-877e-f29aa221dc38\" target=\"_top\" title=\"psysml:ab356c3f-6fc6-498c-877e-f29aa221dc38\" xlink:actuate=\"onRequest\" xlink:href=\"psysml:ab356c3f-6fc6-498c-877e-f29aa221dc38\" xlink:show=\"new\" xlink:title=\"psysml:ab356c3f-6fc6-498c-877e-f29aa221dc38\" xlink:type=\"simple\"><rect fill=\"#FFFFFF\" height=\"45.9375\" id=\"E5\" rx=\"10\" ry=\"10\" style=\"stroke: #383838; stroke-width: 1.5;\" width=\"42\" x=\"158\" y=\"122\"/><text fill=\"#000000\" font-family=\"sans-serif\" font-size=\"12\" font-style=\"italic\" lengthAdjust=\"spacingAndGlyphs\" textLength=\"40\" x=\"159\" y=\"138.1387\">«part»</text><text fill=\"#000000\" font-family=\"sans-serif\" font-size=\"12\" lengthAdjust=\"spacingAndGlyphs\" textLength=\"8\" x=\"175\" y=\"152.1074\">g</text><line style=\"stroke: #383838; stroke-width: 1.5;\" x1=\"159\" x2=\"199\" y1=\"159.9375\" y2=\"159.9375\"/></a><!--MD5=[209b3feb70ccb6233bfe1053d122c12c]\n",
       "reverse link E2 to E3--><a href=\"psysml:3a53f0eb-5b79-463f-97a3-37a7a9b28614\" target=\"_top\" title=\"psysml:3a53f0eb-5b79-463f-97a3-37a7a9b28614\" xlink:actuate=\"onRequest\" xlink:href=\"psysml:3a53f0eb-5b79-463f-97a3-37a7a9b28614\" xlink:show=\"new\" xlink:title=\"psysml:3a53f0eb-5b79-463f-97a3-37a7a9b28614\" xlink:type=\"simple\"><path d=\"M99.26,64 C118.27,64 141.49,64 157.77,64 \" fill=\"none\" id=\"E2&lt;-E3\" style=\"stroke: #383838; stroke-width: 1.0;\"/><polygon fill=\"#383838\" points=\"86.02,64,92.02,68,98.02,64,92.02,60,86.02,64\" style=\"stroke: #383838; stroke-width: 1.0;\"/></a><!--MD5=[62aa6af11e70f752912c1cb0466f24f7]\n",
       "reverse link E4 to E5--><a href=\"psysml:b96f3833-0cb6-4ba3-9671-acfc6ae0d964\" target=\"_top\" title=\"psysml:b96f3833-0cb6-4ba3-9671-acfc6ae0d964\" xlink:actuate=\"onRequest\" xlink:href=\"psysml:b96f3833-0cb6-4ba3-9671-acfc6ae0d964\" xlink:show=\"new\" xlink:title=\"psysml:b96f3833-0cb6-4ba3-9671-acfc6ae0d964\" xlink:type=\"simple\"><path d=\"M111.28,145 C127.47,145 144.9,145 157.89,145 \" fill=\"none\" id=\"E4&lt;-E5\" style=\"stroke: #383838; stroke-width: 1.0;\"/><polygon fill=\"#383838\" points=\"98.09,145,104.09,149,110.09,145,104.09,141,98.09,145\" style=\"stroke: #383838; stroke-width: 1.0;\"/></a><!--MD5=[c239d6e0ba3a0a76a48cc17eb9f46f09]\n",
       "@startuml\r\n",
       "left to right direction\r\n",
       "skinparam monochrome true\r\n",
       "skinparam classbackgroundcolor white\r\n",
       "skinparam shadowing false\r\n",
       "skinparam wrapWidth 300\r\n",
       "hide circle\r\n",
       "\r\n",
       "package \"Q\" as E1  [[psysml:6ab71797-e8f8-4bff-ada3-bad51ca07e78 ]]  {\r\n",
       "comp usage \"f\" as E2  <<(T,blue)part>> [[psysml:c02a2287-c712-494f-86c8-48c213fef3aa ]] {\r\n",
       "}\r\n",
       "comp usage \"a\" as E3  <<(T,blue)part>> [[psysml:b53848ad-4a38-46bd-bd01-a08ed5bc4cea ]] {\r\n",
       "}\r\n",
       "comp def \"C\" as E4  <<(T,blue)part def>> [[psysml:562783b8-e65b-4087-86a0-89c793c14f93 ]] {\r\n",
       "}\r\n",
       "comp usage \"g\" as E5  <<(T,blue)part>> [[psysml:ab356c3f-6fc6-498c-877e-f29aa221dc38 ]] {\r\n",
       "}\r\n",
       "E2 *- - E3 [[psysml:3a53f0eb-5b79-463f-97a3-37a7a9b28614 ]] \r\n",
       "E4 *- - E5 [[psysml:b96f3833-0cb6-4ba3-9671-acfc6ae0d964 ]] \r\n",
       "}\r\n",
       "@enduml\r\n",
       "\n",
       "PlantUML version 1.2020.13(Sat Jun 13 12:26:38 UTC 2020)\n",
       "(EPL source distribution)\n",
       "Java Runtime: OpenJDK Runtime Environment\n",
       "JVM: OpenJDK 64-Bit Server VM\n",
       "Default Encoding: UTF-8\n",
       "Language: en\n",
       "Country: null\n",
       "--></g></svg>"
      ]
     },
     "execution_count": 21,
     "metadata": {},
     "output_type": "execute_result"
    }
   ],
   "source": [
    "%viz --style=\"LR\" --view=\"Sequence\" \"Q\""
   ]
  },
  {
   "cell_type": "code",
   "execution_count": 22,
   "id": "c9f46ed2",
   "metadata": {
    "execution": {
     "iopub.execute_input": "2021-04-20T06:58:45.464434Z",
     "iopub.status.busy": "2021-04-20T06:58:45.463654Z",
     "iopub.status.idle": "2021-04-20T06:58:45.495530Z",
     "shell.execute_reply": "2021-04-20T06:58:45.494732Z"
    }
   },
   "outputs": [
    {
     "data": {
      "image/svg+xml": [
       "<?xml version=\"1.0\" encoding=\"UTF-8\" standalone=\"no\"?><svg xmlns=\"http://www.w3.org/2000/svg\" xmlns:xlink=\"http://www.w3.org/1999/xlink\" contentScriptType=\"application/ecmascript\" contentStyleType=\"text/css\" height=\"196px\" preserveAspectRatio=\"none\" style=\"width:238px;height:196px;\" version=\"1.1\" viewBox=\"0 0 238 196\" width=\"238px\" zoomAndPan=\"magnify\"><defs/><g><!--MD5=[fbc87193dbaf4d95561dea2c320d4a47]\n",
       "cluster E1--><a href=\"psysml:6ab71797-e8f8-4bff-ada3-bad51ca07e78\" target=\"_top\" title=\"psysml:6ab71797-e8f8-4bff-ada3-bad51ca07e78\" xlink:actuate=\"onRequest\" xlink:href=\"psysml:6ab71797-e8f8-4bff-ada3-bad51ca07e78\" xlink:show=\"new\" xlink:title=\"psysml:6ab71797-e8f8-4bff-ada3-bad51ca07e78\" xlink:type=\"simple\"><polygon fill=\"#FFFFFF\" points=\"16,6,34,6,41,28.2969,216,28.2969,216,184,16,184,16,6\" style=\"stroke: #000000; stroke-width: 1.5;\"/><line style=\"stroke: #000000; stroke-width: 1.5;\" x1=\"16\" x2=\"41\" y1=\"28.2969\" y2=\"28.2969\"/><text fill=\"#000000\" font-family=\"sans-serif\" font-size=\"14\" font-weight=\"bold\" lengthAdjust=\"spacingAndGlyphs\" textLength=\"12\" x=\"20\" y=\"20.9951\">Q</text></a><!--MD5=[b4997ac47864f28c2f74865a473b2911]\n",
       "class E2--><a href=\"psysml:c02a2287-c712-494f-86c8-48c213fef3aa\" target=\"_top\" title=\"psysml:c02a2287-c712-494f-86c8-48c213fef3aa\" xlink:actuate=\"onRequest\" xlink:href=\"psysml:c02a2287-c712-494f-86c8-48c213fef3aa\" xlink:show=\"new\" xlink:title=\"psysml:c02a2287-c712-494f-86c8-48c213fef3aa\" xlink:type=\"simple\"><rect fill=\"#FFFFFF\" height=\"45.9375\" id=\"E2\" rx=\"10\" ry=\"10\" style=\"stroke: #383838; stroke-width: 1.5;\" width=\"42\" x=\"44\" y=\"41\"/><text fill=\"#000000\" font-family=\"sans-serif\" font-size=\"12\" font-style=\"italic\" lengthAdjust=\"spacingAndGlyphs\" textLength=\"40\" x=\"45\" y=\"57.1387\">«part»</text><text fill=\"#000000\" font-family=\"sans-serif\" font-size=\"12\" lengthAdjust=\"spacingAndGlyphs\" textLength=\"4\" x=\"63\" y=\"71.1074\">f</text><line style=\"stroke: #383838; stroke-width: 1.5;\" x1=\"45\" x2=\"85\" y1=\"78.9375\" y2=\"78.9375\"/></a><!--MD5=[09b614a08d8cba4a07c9adeb5e0fee81]\n",
       "class E3--><a href=\"psysml:b53848ad-4a38-46bd-bd01-a08ed5bc4cea\" target=\"_top\" title=\"psysml:b53848ad-4a38-46bd-bd01-a08ed5bc4cea\" xlink:actuate=\"onRequest\" xlink:href=\"psysml:b53848ad-4a38-46bd-bd01-a08ed5bc4cea\" xlink:show=\"new\" xlink:title=\"psysml:b53848ad-4a38-46bd-bd01-a08ed5bc4cea\" xlink:type=\"simple\"><rect fill=\"#FFFFFF\" height=\"45.9375\" id=\"E3\" rx=\"10\" ry=\"10\" style=\"stroke: #383838; stroke-width: 1.5;\" width=\"42\" x=\"158\" y=\"41\"/><text fill=\"#000000\" font-family=\"sans-serif\" font-size=\"12\" font-style=\"italic\" lengthAdjust=\"spacingAndGlyphs\" textLength=\"40\" x=\"159\" y=\"57.1387\">«part»</text><text fill=\"#000000\" font-family=\"sans-serif\" font-size=\"12\" lengthAdjust=\"spacingAndGlyphs\" textLength=\"8\" x=\"175\" y=\"71.1074\">a</text><line style=\"stroke: #383838; stroke-width: 1.5;\" x1=\"159\" x2=\"199\" y1=\"78.9375\" y2=\"78.9375\"/></a><!--MD5=[ebbe1d658d1005bcc118a6aa81145e00]\n",
       "class E4--><a href=\"psysml:562783b8-e65b-4087-86a0-89c793c14f93\" target=\"_top\" title=\"psysml:562783b8-e65b-4087-86a0-89c793c14f93\" xlink:actuate=\"onRequest\" xlink:href=\"psysml:562783b8-e65b-4087-86a0-89c793c14f93\" xlink:show=\"new\" xlink:title=\"psysml:562783b8-e65b-4087-86a0-89c793c14f93\" xlink:type=\"simple\"><rect fill=\"#FFFFFF\" height=\"45.9375\" id=\"E4\" style=\"stroke: #383838; stroke-width: 1.5;\" width=\"66\" x=\"32\" y=\"122\"/><text fill=\"#000000\" font-family=\"sans-serif\" font-size=\"12\" font-style=\"italic\" lengthAdjust=\"spacingAndGlyphs\" textLength=\"64\" x=\"33\" y=\"138.1387\">«part def»</text><text fill=\"#000000\" font-family=\"sans-serif\" font-size=\"12\" lengthAdjust=\"spacingAndGlyphs\" textLength=\"8\" x=\"61\" y=\"152.1074\">C</text><line style=\"stroke: #383838; stroke-width: 1.5;\" x1=\"33\" x2=\"97\" y1=\"159.9375\" y2=\"159.9375\"/></a><!--MD5=[270fce915f116d4de14055a7c1d9a0f3]\n",
       "class E5--><a href=\"psysml:ab356c3f-6fc6-498c-877e-f29aa221dc38\" target=\"_top\" title=\"psysml:ab356c3f-6fc6-498c-877e-f29aa221dc38\" xlink:actuate=\"onRequest\" xlink:href=\"psysml:ab356c3f-6fc6-498c-877e-f29aa221dc38\" xlink:show=\"new\" xlink:title=\"psysml:ab356c3f-6fc6-498c-877e-f29aa221dc38\" xlink:type=\"simple\"><rect fill=\"#FFFFFF\" height=\"45.9375\" id=\"E5\" rx=\"10\" ry=\"10\" style=\"stroke: #383838; stroke-width: 1.5;\" width=\"42\" x=\"158\" y=\"122\"/><text fill=\"#000000\" font-family=\"sans-serif\" font-size=\"12\" font-style=\"italic\" lengthAdjust=\"spacingAndGlyphs\" textLength=\"40\" x=\"159\" y=\"138.1387\">«part»</text><text fill=\"#000000\" font-family=\"sans-serif\" font-size=\"12\" lengthAdjust=\"spacingAndGlyphs\" textLength=\"8\" x=\"175\" y=\"152.1074\">g</text><line style=\"stroke: #383838; stroke-width: 1.5;\" x1=\"159\" x2=\"199\" y1=\"159.9375\" y2=\"159.9375\"/></a><!--MD5=[209b3feb70ccb6233bfe1053d122c12c]\n",
       "reverse link E2 to E3--><a href=\"psysml:3a53f0eb-5b79-463f-97a3-37a7a9b28614\" target=\"_top\" title=\"psysml:3a53f0eb-5b79-463f-97a3-37a7a9b28614\" xlink:actuate=\"onRequest\" xlink:href=\"psysml:3a53f0eb-5b79-463f-97a3-37a7a9b28614\" xlink:show=\"new\" xlink:title=\"psysml:3a53f0eb-5b79-463f-97a3-37a7a9b28614\" xlink:type=\"simple\"><path d=\"M99.26,64 C118.27,64 141.49,64 157.77,64 \" fill=\"none\" id=\"E2&lt;-E3\" style=\"stroke: #383838; stroke-width: 1.0;\"/><polygon fill=\"#383838\" points=\"86.02,64,92.02,68,98.02,64,92.02,60,86.02,64\" style=\"stroke: #383838; stroke-width: 1.0;\"/></a><!--MD5=[62aa6af11e70f752912c1cb0466f24f7]\n",
       "reverse link E4 to E5--><a href=\"psysml:b96f3833-0cb6-4ba3-9671-acfc6ae0d964\" target=\"_top\" title=\"psysml:b96f3833-0cb6-4ba3-9671-acfc6ae0d964\" xlink:actuate=\"onRequest\" xlink:href=\"psysml:b96f3833-0cb6-4ba3-9671-acfc6ae0d964\" xlink:show=\"new\" xlink:title=\"psysml:b96f3833-0cb6-4ba3-9671-acfc6ae0d964\" xlink:type=\"simple\"><path d=\"M111.28,145 C127.47,145 144.9,145 157.89,145 \" fill=\"none\" id=\"E4&lt;-E5\" style=\"stroke: #383838; stroke-width: 1.0;\"/><polygon fill=\"#383838\" points=\"98.09,145,104.09,149,110.09,145,104.09,141,98.09,145\" style=\"stroke: #383838; stroke-width: 1.0;\"/></a><!--MD5=[c239d6e0ba3a0a76a48cc17eb9f46f09]\n",
       "@startuml\r\n",
       "left to right direction\r\n",
       "skinparam monochrome true\r\n",
       "skinparam classbackgroundcolor white\r\n",
       "skinparam shadowing false\r\n",
       "skinparam wrapWidth 300\r\n",
       "hide circle\r\n",
       "\r\n",
       "package \"Q\" as E1  [[psysml:6ab71797-e8f8-4bff-ada3-bad51ca07e78 ]]  {\r\n",
       "comp usage \"f\" as E2  <<(T,blue)part>> [[psysml:c02a2287-c712-494f-86c8-48c213fef3aa ]] {\r\n",
       "}\r\n",
       "comp usage \"a\" as E3  <<(T,blue)part>> [[psysml:b53848ad-4a38-46bd-bd01-a08ed5bc4cea ]] {\r\n",
       "}\r\n",
       "comp def \"C\" as E4  <<(T,blue)part def>> [[psysml:562783b8-e65b-4087-86a0-89c793c14f93 ]] {\r\n",
       "}\r\n",
       "comp usage \"g\" as E5  <<(T,blue)part>> [[psysml:ab356c3f-6fc6-498c-877e-f29aa221dc38 ]] {\r\n",
       "}\r\n",
       "E2 *- - E3 [[psysml:3a53f0eb-5b79-463f-97a3-37a7a9b28614 ]] \r\n",
       "E4 *- - E5 [[psysml:b96f3833-0cb6-4ba3-9671-acfc6ae0d964 ]] \r\n",
       "}\r\n",
       "@enduml\r\n",
       "\n",
       "PlantUML version 1.2020.13(Sat Jun 13 12:26:38 UTC 2020)\n",
       "(EPL source distribution)\n",
       "Java Runtime: OpenJDK Runtime Environment\n",
       "JVM: OpenJDK 64-Bit Server VM\n",
       "Default Encoding: UTF-8\n",
       "Language: en\n",
       "Country: null\n",
       "--></g></svg>"
      ]
     },
     "execution_count": 22,
     "metadata": {},
     "output_type": "execute_result"
    }
   ],
   "source": [
    "%viz --style=\"LR\" --view=\"MIXED\" \"Q\""
   ]
  },
  {
   "cell_type": "code",
   "execution_count": 23,
   "id": "a47e6336",
   "metadata": {
    "execution": {
     "iopub.execute_input": "2021-04-20T06:58:45.547690Z",
     "iopub.status.busy": "2021-04-20T06:58:45.546808Z",
     "iopub.status.idle": "2021-04-20T06:58:45.585374Z",
     "shell.execute_reply": "2021-04-20T06:58:45.583428Z"
    }
   },
   "outputs": [
    {
     "data": {
      "image/svg+xml": [
       "<?xml version=\"1.0\" encoding=\"UTF-8\" standalone=\"no\"?><svg xmlns=\"http://www.w3.org/2000/svg\" xmlns:xlink=\"http://www.w3.org/1999/xlink\" contentScriptType=\"application/ecmascript\" contentStyleType=\"text/css\" height=\"221px\" preserveAspectRatio=\"none\" style=\"width:213px;height:221px;\" version=\"1.1\" viewBox=\"0 0 213 221\" width=\"213px\" zoomAndPan=\"magnify\"><defs><filter height=\"300%\" id=\"fjrv0tcbmdqwq\" width=\"300%\" x=\"-1\" y=\"-1\"><feGaussianBlur result=\"blurOut\" stdDeviation=\"2.0\"/><feColorMatrix in=\"blurOut\" result=\"blurOut2\" type=\"matrix\" values=\"0 0 0 0 0 0 0 0 0 0 0 0 0 0 0 0 0 0 .4 0\"/><feOffset dx=\"4.0\" dy=\"4.0\" in=\"blurOut2\" result=\"blurOut3\"/><feBlend in=\"SourceGraphic\" in2=\"blurOut3\" mode=\"normal\"/></filter></defs><g><!--MD5=[fbc87193dbaf4d95561dea2c320d4a47]\n",
       "cluster E1--><a href=\"psysml:6ab71797-e8f8-4bff-ada3-bad51ca07e78\" target=\"_top\" title=\"psysml:6ab71797-e8f8-4bff-ada3-bad51ca07e78\" xlink:actuate=\"onRequest\" xlink:href=\"psysml:6ab71797-e8f8-4bff-ada3-bad51ca07e78\" xlink:show=\"new\" xlink:title=\"psysml:6ab71797-e8f8-4bff-ada3-bad51ca07e78\" xlink:type=\"simple\"><polygon fill=\"#FFFFFF\" filter=\"url(#fjrv0tcbmdqwq)\" points=\"16,6,34,6,41,28.2969,191,28.2969,191,209,16,209,16,6\" style=\"stroke: #000000; stroke-width: 1.5;\"/><line style=\"stroke: #000000; stroke-width: 1.5;\" x1=\"16\" x2=\"41\" y1=\"28.2969\" y2=\"28.2969\"/><text fill=\"#000000\" font-family=\"sans-serif\" font-size=\"14\" font-weight=\"bold\" lengthAdjust=\"spacingAndGlyphs\" textLength=\"12\" x=\"20\" y=\"20.9951\">Q</text></a><!--MD5=[b4997ac47864f28c2f74865a473b2911]\n",
       "class E2--><a href=\"psysml:c02a2287-c712-494f-86c8-48c213fef3aa\" target=\"_top\" title=\"psysml:c02a2287-c712-494f-86c8-48c213fef3aa\" xlink:actuate=\"onRequest\" xlink:href=\"psysml:c02a2287-c712-494f-86c8-48c213fef3aa\" xlink:show=\"new\" xlink:title=\"psysml:c02a2287-c712-494f-86c8-48c213fef3aa\" xlink:type=\"simple\"><rect fill=\"#FEFECE\" filter=\"url(#fjrv0tcbmdqwq)\" height=\"45.9375\" id=\"E2\" rx=\"10\" ry=\"10\" style=\"stroke: #A80036; stroke-width: 1.5;\" width=\"42\" x=\"133\" y=\"41\"/><text fill=\"#000000\" font-family=\"sans-serif\" font-size=\"12\" font-style=\"italic\" lengthAdjust=\"spacingAndGlyphs\" textLength=\"40\" x=\"134\" y=\"57.1387\">«part»</text><text fill=\"#000000\" font-family=\"sans-serif\" font-size=\"12\" lengthAdjust=\"spacingAndGlyphs\" textLength=\"4\" x=\"152\" y=\"71.1074\">f</text><line style=\"stroke: #A80036; stroke-width: 1.5;\" x1=\"134\" x2=\"174\" y1=\"78.9375\" y2=\"78.9375\"/></a><!--MD5=[09b614a08d8cba4a07c9adeb5e0fee81]\n",
       "class E3--><a href=\"psysml:b53848ad-4a38-46bd-bd01-a08ed5bc4cea\" target=\"_top\" title=\"psysml:b53848ad-4a38-46bd-bd01-a08ed5bc4cea\" xlink:actuate=\"onRequest\" xlink:href=\"psysml:b53848ad-4a38-46bd-bd01-a08ed5bc4cea\" xlink:show=\"new\" xlink:title=\"psysml:b53848ad-4a38-46bd-bd01-a08ed5bc4cea\" xlink:type=\"simple\"><rect fill=\"#FEFECE\" filter=\"url(#fjrv0tcbmdqwq)\" height=\"45.9375\" id=\"E3\" rx=\"10\" ry=\"10\" style=\"stroke: #A80036; stroke-width: 1.5;\" width=\"42\" x=\"133\" y=\"147\"/><text fill=\"#000000\" font-family=\"sans-serif\" font-size=\"12\" font-style=\"italic\" lengthAdjust=\"spacingAndGlyphs\" textLength=\"40\" x=\"134\" y=\"163.1387\">«part»</text><text fill=\"#000000\" font-family=\"sans-serif\" font-size=\"12\" lengthAdjust=\"spacingAndGlyphs\" textLength=\"8\" x=\"150\" y=\"177.1074\">a</text><line style=\"stroke: #A80036; stroke-width: 1.5;\" x1=\"134\" x2=\"174\" y1=\"184.9375\" y2=\"184.9375\"/></a><!--MD5=[ebbe1d658d1005bcc118a6aa81145e00]\n",
       "class E4--><a href=\"psysml:562783b8-e65b-4087-86a0-89c793c14f93\" target=\"_top\" title=\"psysml:562783b8-e65b-4087-86a0-89c793c14f93\" xlink:actuate=\"onRequest\" xlink:href=\"psysml:562783b8-e65b-4087-86a0-89c793c14f93\" xlink:show=\"new\" xlink:title=\"psysml:562783b8-e65b-4087-86a0-89c793c14f93\" xlink:type=\"simple\"><rect fill=\"#FEFECE\" filter=\"url(#fjrv0tcbmdqwq)\" height=\"45.9375\" id=\"E4\" style=\"stroke: #A80036; stroke-width: 1.5;\" width=\"66\" x=\"32\" y=\"41\"/><text fill=\"#000000\" font-family=\"sans-serif\" font-size=\"12\" font-style=\"italic\" lengthAdjust=\"spacingAndGlyphs\" textLength=\"64\" x=\"33\" y=\"57.1387\">«part def»</text><text fill=\"#000000\" font-family=\"sans-serif\" font-size=\"12\" lengthAdjust=\"spacingAndGlyphs\" textLength=\"8\" x=\"61\" y=\"71.1074\">C</text><line style=\"stroke: #A80036; stroke-width: 1.5;\" x1=\"33\" x2=\"97\" y1=\"78.9375\" y2=\"78.9375\"/></a><!--MD5=[270fce915f116d4de14055a7c1d9a0f3]\n",
       "class E5--><a href=\"psysml:ab356c3f-6fc6-498c-877e-f29aa221dc38\" target=\"_top\" title=\"psysml:ab356c3f-6fc6-498c-877e-f29aa221dc38\" xlink:actuate=\"onRequest\" xlink:href=\"psysml:ab356c3f-6fc6-498c-877e-f29aa221dc38\" xlink:show=\"new\" xlink:title=\"psysml:ab356c3f-6fc6-498c-877e-f29aa221dc38\" xlink:type=\"simple\"><rect fill=\"#FEFECE\" filter=\"url(#fjrv0tcbmdqwq)\" height=\"45.9375\" id=\"E5\" rx=\"10\" ry=\"10\" style=\"stroke: #A80036; stroke-width: 1.5;\" width=\"42\" x=\"44\" y=\"147\"/><text fill=\"#000000\" font-family=\"sans-serif\" font-size=\"12\" font-style=\"italic\" lengthAdjust=\"spacingAndGlyphs\" textLength=\"40\" x=\"45\" y=\"163.1387\">«part»</text><text fill=\"#000000\" font-family=\"sans-serif\" font-size=\"12\" lengthAdjust=\"spacingAndGlyphs\" textLength=\"8\" x=\"61\" y=\"177.1074\">g</text><line style=\"stroke: #A80036; stroke-width: 1.5;\" x1=\"45\" x2=\"85\" y1=\"184.9375\" y2=\"184.9375\"/></a><!--MD5=[209b3feb70ccb6233bfe1053d122c12c]\n",
       "reverse link E2 to E3--><a href=\"psysml:3a53f0eb-5b79-463f-97a3-37a7a9b28614\" target=\"_top\" title=\"psysml:3a53f0eb-5b79-463f-97a3-37a7a9b28614\" xlink:actuate=\"onRequest\" xlink:href=\"psysml:3a53f0eb-5b79-463f-97a3-37a7a9b28614\" xlink:show=\"new\" xlink:title=\"psysml:3a53f0eb-5b79-463f-97a3-37a7a9b28614\" xlink:type=\"simple\"><path d=\"M154,100.44 C154,115.87 154,133.47 154,146.98 \" fill=\"none\" id=\"E2&lt;-E3\" style=\"stroke: #A80036; stroke-width: 1.0;\"/><polygon fill=\"#A80036\" points=\"154,87.06,150,93.06,154,99.06,158,93.06,154,87.06\" style=\"stroke: #A80036; stroke-width: 1.0;\"/></a><!--MD5=[62aa6af11e70f752912c1cb0466f24f7]\n",
       "reverse link E4 to E5--><a href=\"psysml:b96f3833-0cb6-4ba3-9671-acfc6ae0d964\" target=\"_top\" title=\"psysml:b96f3833-0cb6-4ba3-9671-acfc6ae0d964\" xlink:actuate=\"onRequest\" xlink:href=\"psysml:b96f3833-0cb6-4ba3-9671-acfc6ae0d964\" xlink:show=\"new\" xlink:title=\"psysml:b96f3833-0cb6-4ba3-9671-acfc6ae0d964\" xlink:type=\"simple\"><path d=\"M65,100.44 C65,115.87 65,133.47 65,146.98 \" fill=\"none\" id=\"E4&lt;-E5\" style=\"stroke: #A80036; stroke-width: 1.0;\"/><polygon fill=\"#A80036\" points=\"65,87.06,61,93.06,65,99.06,69,93.06,65,87.06\" style=\"stroke: #A80036; stroke-width: 1.0;\"/></a><!--MD5=[8d0e63eb4a51fc398c375a34b51a6547]\n",
       "@startuml\r\n",
       "skinparam wrapWidth 300\r\n",
       "hide circle\r\n",
       "\r\n",
       "package \"Q\" as E1  [[psysml:6ab71797-e8f8-4bff-ada3-bad51ca07e78 ]]  {\r\n",
       "comp usage \"f\" as E2  <<(T,blue)part>> [[psysml:c02a2287-c712-494f-86c8-48c213fef3aa ]] {\r\n",
       "}\r\n",
       "comp usage \"a\" as E3  <<(T,blue)part>> [[psysml:b53848ad-4a38-46bd-bd01-a08ed5bc4cea ]] {\r\n",
       "}\r\n",
       "comp def \"C\" as E4  <<(T,blue)part def>> [[psysml:562783b8-e65b-4087-86a0-89c793c14f93 ]] {\r\n",
       "}\r\n",
       "comp usage \"g\" as E5  <<(T,blue)part>> [[psysml:ab356c3f-6fc6-498c-877e-f29aa221dc38 ]] {\r\n",
       "}\r\n",
       "E2 *- - E3 [[psysml:3a53f0eb-5b79-463f-97a3-37a7a9b28614 ]] \r\n",
       "E4 *- - E5 [[psysml:b96f3833-0cb6-4ba3-9671-acfc6ae0d964 ]] \r\n",
       "}\r\n",
       "@enduml\r\n",
       "\n",
       "PlantUML version 1.2020.13(Sat Jun 13 12:26:38 UTC 2020)\n",
       "(EPL source distribution)\n",
       "Java Runtime: OpenJDK Runtime Environment\n",
       "JVM: OpenJDK 64-Bit Server VM\n",
       "Default Encoding: UTF-8\n",
       "Language: en\n",
       "Country: null\n",
       "--></g></svg>"
      ]
     },
     "execution_count": 23,
     "metadata": {},
     "output_type": "execute_result"
    }
   ],
   "source": [
    "%viz --style=\"STDCOLOR\" --view=\"Default\" \"Q\""
   ]
  },
  {
   "cell_type": "code",
   "execution_count": 24,
   "id": "db60dd87",
   "metadata": {
    "execution": {
     "iopub.execute_input": "2021-04-20T06:58:45.655272Z",
     "iopub.status.busy": "2021-04-20T06:58:45.654845Z",
     "iopub.status.idle": "2021-04-20T06:58:45.682294Z",
     "shell.execute_reply": "2021-04-20T06:58:45.680629Z"
    }
   },
   "outputs": [
    {
     "data": {
      "image/svg+xml": [
       "<?xml version=\"1.0\" encoding=\"UTF-8\" standalone=\"no\"?><svg xmlns=\"http://www.w3.org/2000/svg\" xmlns:xlink=\"http://www.w3.org/1999/xlink\" contentScriptType=\"application/ecmascript\" contentStyleType=\"text/css\" height=\"221px\" preserveAspectRatio=\"none\" style=\"width:213px;height:221px;\" version=\"1.1\" viewBox=\"0 0 213 221\" width=\"213px\" zoomAndPan=\"magnify\"><defs><filter height=\"300%\" id=\"fjrv0tcbmdqwq\" width=\"300%\" x=\"-1\" y=\"-1\"><feGaussianBlur result=\"blurOut\" stdDeviation=\"2.0\"/><feColorMatrix in=\"blurOut\" result=\"blurOut2\" type=\"matrix\" values=\"0 0 0 0 0 0 0 0 0 0 0 0 0 0 0 0 0 0 .4 0\"/><feOffset dx=\"4.0\" dy=\"4.0\" in=\"blurOut2\" result=\"blurOut3\"/><feBlend in=\"SourceGraphic\" in2=\"blurOut3\" mode=\"normal\"/></filter></defs><g><!--MD5=[fbc87193dbaf4d95561dea2c320d4a47]\n",
       "cluster E1--><a href=\"psysml:6ab71797-e8f8-4bff-ada3-bad51ca07e78\" target=\"_top\" title=\"psysml:6ab71797-e8f8-4bff-ada3-bad51ca07e78\" xlink:actuate=\"onRequest\" xlink:href=\"psysml:6ab71797-e8f8-4bff-ada3-bad51ca07e78\" xlink:show=\"new\" xlink:title=\"psysml:6ab71797-e8f8-4bff-ada3-bad51ca07e78\" xlink:type=\"simple\"><polygon fill=\"#FFFFFF\" filter=\"url(#fjrv0tcbmdqwq)\" points=\"16,6,34,6,41,28.2969,191,28.2969,191,209,16,209,16,6\" style=\"stroke: #000000; stroke-width: 1.5;\"/><line style=\"stroke: #000000; stroke-width: 1.5;\" x1=\"16\" x2=\"41\" y1=\"28.2969\" y2=\"28.2969\"/><text fill=\"#000000\" font-family=\"sans-serif\" font-size=\"14\" font-weight=\"bold\" lengthAdjust=\"spacingAndGlyphs\" textLength=\"12\" x=\"20\" y=\"20.9951\">Q</text></a><!--MD5=[b4997ac47864f28c2f74865a473b2911]\n",
       "class E2--><a href=\"psysml:c02a2287-c712-494f-86c8-48c213fef3aa\" target=\"_top\" title=\"psysml:c02a2287-c712-494f-86c8-48c213fef3aa\" xlink:actuate=\"onRequest\" xlink:href=\"psysml:c02a2287-c712-494f-86c8-48c213fef3aa\" xlink:show=\"new\" xlink:title=\"psysml:c02a2287-c712-494f-86c8-48c213fef3aa\" xlink:type=\"simple\"><rect fill=\"#FEFECE\" filter=\"url(#fjrv0tcbmdqwq)\" height=\"45.9375\" id=\"E2\" rx=\"10\" ry=\"10\" style=\"stroke: #A80036; stroke-width: 1.5;\" width=\"42\" x=\"133\" y=\"41\"/><text fill=\"#000000\" font-family=\"sans-serif\" font-size=\"12\" font-style=\"italic\" lengthAdjust=\"spacingAndGlyphs\" textLength=\"40\" x=\"134\" y=\"57.1387\">«part»</text><text fill=\"#000000\" font-family=\"sans-serif\" font-size=\"12\" lengthAdjust=\"spacingAndGlyphs\" textLength=\"4\" x=\"152\" y=\"71.1074\">f</text><line style=\"stroke: #A80036; stroke-width: 1.5;\" x1=\"134\" x2=\"174\" y1=\"78.9375\" y2=\"78.9375\"/></a><!--MD5=[09b614a08d8cba4a07c9adeb5e0fee81]\n",
       "class E3--><a href=\"psysml:b53848ad-4a38-46bd-bd01-a08ed5bc4cea\" target=\"_top\" title=\"psysml:b53848ad-4a38-46bd-bd01-a08ed5bc4cea\" xlink:actuate=\"onRequest\" xlink:href=\"psysml:b53848ad-4a38-46bd-bd01-a08ed5bc4cea\" xlink:show=\"new\" xlink:title=\"psysml:b53848ad-4a38-46bd-bd01-a08ed5bc4cea\" xlink:type=\"simple\"><rect fill=\"#FEFECE\" filter=\"url(#fjrv0tcbmdqwq)\" height=\"45.9375\" id=\"E3\" rx=\"10\" ry=\"10\" style=\"stroke: #A80036; stroke-width: 1.5;\" width=\"42\" x=\"133\" y=\"147\"/><text fill=\"#000000\" font-family=\"sans-serif\" font-size=\"12\" font-style=\"italic\" lengthAdjust=\"spacingAndGlyphs\" textLength=\"40\" x=\"134\" y=\"163.1387\">«part»</text><text fill=\"#000000\" font-family=\"sans-serif\" font-size=\"12\" lengthAdjust=\"spacingAndGlyphs\" textLength=\"8\" x=\"150\" y=\"177.1074\">a</text><line style=\"stroke: #A80036; stroke-width: 1.5;\" x1=\"134\" x2=\"174\" y1=\"184.9375\" y2=\"184.9375\"/></a><!--MD5=[ebbe1d658d1005bcc118a6aa81145e00]\n",
       "class E4--><a href=\"psysml:562783b8-e65b-4087-86a0-89c793c14f93\" target=\"_top\" title=\"psysml:562783b8-e65b-4087-86a0-89c793c14f93\" xlink:actuate=\"onRequest\" xlink:href=\"psysml:562783b8-e65b-4087-86a0-89c793c14f93\" xlink:show=\"new\" xlink:title=\"psysml:562783b8-e65b-4087-86a0-89c793c14f93\" xlink:type=\"simple\"><rect fill=\"#FEFECE\" filter=\"url(#fjrv0tcbmdqwq)\" height=\"45.9375\" id=\"E4\" style=\"stroke: #A80036; stroke-width: 1.5;\" width=\"66\" x=\"32\" y=\"41\"/><text fill=\"#000000\" font-family=\"sans-serif\" font-size=\"12\" font-style=\"italic\" lengthAdjust=\"spacingAndGlyphs\" textLength=\"64\" x=\"33\" y=\"57.1387\">«part def»</text><text fill=\"#000000\" font-family=\"sans-serif\" font-size=\"12\" lengthAdjust=\"spacingAndGlyphs\" textLength=\"8\" x=\"61\" y=\"71.1074\">C</text><line style=\"stroke: #A80036; stroke-width: 1.5;\" x1=\"33\" x2=\"97\" y1=\"78.9375\" y2=\"78.9375\"/></a><!--MD5=[270fce915f116d4de14055a7c1d9a0f3]\n",
       "class E5--><a href=\"psysml:ab356c3f-6fc6-498c-877e-f29aa221dc38\" target=\"_top\" title=\"psysml:ab356c3f-6fc6-498c-877e-f29aa221dc38\" xlink:actuate=\"onRequest\" xlink:href=\"psysml:ab356c3f-6fc6-498c-877e-f29aa221dc38\" xlink:show=\"new\" xlink:title=\"psysml:ab356c3f-6fc6-498c-877e-f29aa221dc38\" xlink:type=\"simple\"><rect fill=\"#FEFECE\" filter=\"url(#fjrv0tcbmdqwq)\" height=\"45.9375\" id=\"E5\" rx=\"10\" ry=\"10\" style=\"stroke: #A80036; stroke-width: 1.5;\" width=\"42\" x=\"44\" y=\"147\"/><text fill=\"#000000\" font-family=\"sans-serif\" font-size=\"12\" font-style=\"italic\" lengthAdjust=\"spacingAndGlyphs\" textLength=\"40\" x=\"45\" y=\"163.1387\">«part»</text><text fill=\"#000000\" font-family=\"sans-serif\" font-size=\"12\" lengthAdjust=\"spacingAndGlyphs\" textLength=\"8\" x=\"61\" y=\"177.1074\">g</text><line style=\"stroke: #A80036; stroke-width: 1.5;\" x1=\"45\" x2=\"85\" y1=\"184.9375\" y2=\"184.9375\"/></a><!--MD5=[209b3feb70ccb6233bfe1053d122c12c]\n",
       "reverse link E2 to E3--><a href=\"psysml:3a53f0eb-5b79-463f-97a3-37a7a9b28614\" target=\"_top\" title=\"psysml:3a53f0eb-5b79-463f-97a3-37a7a9b28614\" xlink:actuate=\"onRequest\" xlink:href=\"psysml:3a53f0eb-5b79-463f-97a3-37a7a9b28614\" xlink:show=\"new\" xlink:title=\"psysml:3a53f0eb-5b79-463f-97a3-37a7a9b28614\" xlink:type=\"simple\"><path d=\"M154,100.44 C154,115.87 154,133.47 154,146.98 \" fill=\"none\" id=\"E2&lt;-E3\" style=\"stroke: #A80036; stroke-width: 1.0;\"/><polygon fill=\"#A80036\" points=\"154,87.06,150,93.06,154,99.06,158,93.06,154,87.06\" style=\"stroke: #A80036; stroke-width: 1.0;\"/></a><!--MD5=[62aa6af11e70f752912c1cb0466f24f7]\n",
       "reverse link E4 to E5--><a href=\"psysml:b96f3833-0cb6-4ba3-9671-acfc6ae0d964\" target=\"_top\" title=\"psysml:b96f3833-0cb6-4ba3-9671-acfc6ae0d964\" xlink:actuate=\"onRequest\" xlink:href=\"psysml:b96f3833-0cb6-4ba3-9671-acfc6ae0d964\" xlink:show=\"new\" xlink:title=\"psysml:b96f3833-0cb6-4ba3-9671-acfc6ae0d964\" xlink:type=\"simple\"><path d=\"M65,100.44 C65,115.87 65,133.47 65,146.98 \" fill=\"none\" id=\"E4&lt;-E5\" style=\"stroke: #A80036; stroke-width: 1.0;\"/><polygon fill=\"#A80036\" points=\"65,87.06,61,93.06,65,99.06,69,93.06,65,87.06\" style=\"stroke: #A80036; stroke-width: 1.0;\"/></a><!--MD5=[8d0e63eb4a51fc398c375a34b51a6547]\n",
       "@startuml\r\n",
       "skinparam wrapWidth 300\r\n",
       "hide circle\r\n",
       "\r\n",
       "package \"Q\" as E1  [[psysml:6ab71797-e8f8-4bff-ada3-bad51ca07e78 ]]  {\r\n",
       "comp usage \"f\" as E2  <<(T,blue)part>> [[psysml:c02a2287-c712-494f-86c8-48c213fef3aa ]] {\r\n",
       "}\r\n",
       "comp usage \"a\" as E3  <<(T,blue)part>> [[psysml:b53848ad-4a38-46bd-bd01-a08ed5bc4cea ]] {\r\n",
       "}\r\n",
       "comp def \"C\" as E4  <<(T,blue)part def>> [[psysml:562783b8-e65b-4087-86a0-89c793c14f93 ]] {\r\n",
       "}\r\n",
       "comp usage \"g\" as E5  <<(T,blue)part>> [[psysml:ab356c3f-6fc6-498c-877e-f29aa221dc38 ]] {\r\n",
       "}\r\n",
       "E2 *- - E3 [[psysml:3a53f0eb-5b79-463f-97a3-37a7a9b28614 ]] \r\n",
       "E4 *- - E5 [[psysml:b96f3833-0cb6-4ba3-9671-acfc6ae0d964 ]] \r\n",
       "}\r\n",
       "@enduml\r\n",
       "\n",
       "PlantUML version 1.2020.13(Sat Jun 13 12:26:38 UTC 2020)\n",
       "(EPL source distribution)\n",
       "Java Runtime: OpenJDK Runtime Environment\n",
       "JVM: OpenJDK 64-Bit Server VM\n",
       "Default Encoding: UTF-8\n",
       "Language: en\n",
       "Country: null\n",
       "--></g></svg>"
      ]
     },
     "execution_count": 24,
     "metadata": {},
     "output_type": "execute_result"
    }
   ],
   "source": [
    "%viz --style=\"STDCOLOR\" --view=\"Tree\" \"Q\""
   ]
  },
  {
   "cell_type": "code",
   "execution_count": 25,
   "id": "f38dd2eb",
   "metadata": {
    "execution": {
     "iopub.execute_input": "2021-04-20T06:58:45.733736Z",
     "iopub.status.busy": "2021-04-20T06:58:45.733374Z",
     "iopub.status.idle": "2021-04-20T06:58:45.748294Z",
     "shell.execute_reply": "2021-04-20T06:58:45.748829Z"
    }
   },
   "outputs": [
    {
     "data": {
      "image/svg+xml": [
       "<?xml version=\"1.0\" encoding=\"UTF-8\" standalone=\"no\"?><svg xmlns=\"http://www.w3.org/2000/svg\" xmlns:xlink=\"http://www.w3.org/1999/xlink\" contentScriptType=\"application/ecmascript\" contentStyleType=\"text/css\" height=\"12px\" preserveAspectRatio=\"none\" style=\"width:12px;height:12px;\" version=\"1.1\" viewBox=\"0 0 12 12\" width=\"12px\" zoomAndPan=\"magnify\"><defs/><g><!--MD5=[aeeef50f102b80d730deb6443d14f702]\n",
       "@startuml\r\n",
       "skinparam wrapWidth 300\r\n",
       "hide circle\r\n",
       "\r\n",
       "@enduml\r\n",
       "\n",
       "PlantUML version 1.2020.13(Sat Jun 13 12:26:38 UTC 2020)\n",
       "(EPL source distribution)\n",
       "Java Runtime: OpenJDK Runtime Environment\n",
       "JVM: OpenJDK 64-Bit Server VM\n",
       "Default Encoding: UTF-8\n",
       "Language: en\n",
       "Country: null\n",
       "--></g></svg>"
      ]
     },
     "execution_count": 25,
     "metadata": {},
     "output_type": "execute_result"
    }
   ],
   "source": [
    "%viz --style=\"STDCOLOR\" --view=\"State\" \"Q\""
   ]
  },
  {
   "cell_type": "code",
   "execution_count": 26,
   "id": "519ba0a2",
   "metadata": {
    "execution": {
     "iopub.execute_input": "2021-04-20T06:58:45.799190Z",
     "iopub.status.busy": "2021-04-20T06:58:45.798789Z",
     "iopub.status.idle": "2021-04-20T06:58:45.831539Z",
     "shell.execute_reply": "2021-04-20T06:58:45.830763Z"
    }
   },
   "outputs": [
    {
     "data": {
      "image/svg+xml": [
       "<?xml version=\"1.0\" encoding=\"UTF-8\" standalone=\"no\"?><svg xmlns=\"http://www.w3.org/2000/svg\" xmlns:xlink=\"http://www.w3.org/1999/xlink\" contentScriptType=\"application/ecmascript\" contentStyleType=\"text/css\" height=\"192px\" preserveAspectRatio=\"none\" style=\"width:286px;height:192px;\" version=\"1.1\" viewBox=\"0 0 286 192\" width=\"286px\" zoomAndPan=\"magnify\"><defs><filter height=\"300%\" id=\"fumeyf3i72rya\" width=\"300%\" x=\"-1\" y=\"-1\"><feGaussianBlur result=\"blurOut\" stdDeviation=\"2.0\"/><feColorMatrix in=\"blurOut\" result=\"blurOut2\" type=\"matrix\" values=\"0 0 0 0 0 0 0 0 0 0 0 0 0 0 0 0 0 0 .4 0\"/><feOffset dx=\"4.0\" dy=\"4.0\" in=\"blurOut2\" result=\"blurOut3\"/><feBlend in=\"SourceGraphic\" in2=\"blurOut3\" mode=\"normal\"/></filter></defs><g><!--MD5=[fbc87193dbaf4d95561dea2c320d4a47]\n",
       "cluster E1--><a href=\"psysml:6ab71797-e8f8-4bff-ada3-bad51ca07e78\" target=\"_top\" title=\"psysml:6ab71797-e8f8-4bff-ada3-bad51ca07e78\" xlink:actuate=\"onRequest\" xlink:href=\"psysml:6ab71797-e8f8-4bff-ada3-bad51ca07e78\" xlink:show=\"new\" xlink:title=\"psysml:6ab71797-e8f8-4bff-ada3-bad51ca07e78\" xlink:type=\"simple\"><polygon fill=\"#FFFFFF\" filter=\"url(#fumeyf3i72rya)\" points=\"16,6,34,6,41,28.2969,264,28.2969,264,180,16,180,16,6\" style=\"stroke: #000000; stroke-width: 1.5;\"/><line style=\"stroke: #000000; stroke-width: 1.5;\" x1=\"16\" x2=\"41\" y1=\"28.2969\" y2=\"28.2969\"/><text fill=\"#000000\" font-family=\"sans-serif\" font-size=\"14\" font-weight=\"bold\" lengthAdjust=\"spacingAndGlyphs\" textLength=\"12\" x=\"20\" y=\"20.9951\">Q</text></a><!--MD5=[e4f7fae6ed58524ba242bb0b0d3be6b7]\n",
       "cluster E2--><a href=\"psysml:c02a2287-c712-494f-86c8-48c213fef3aa\" target=\"_top\" title=\"psysml:c02a2287-c712-494f-86c8-48c213fef3aa\" xlink:actuate=\"onRequest\" xlink:href=\"psysml:c02a2287-c712-494f-86c8-48c213fef3aa\" xlink:show=\"new\" xlink:title=\"psysml:c02a2287-c712-494f-86c8-48c213fef3aa\" xlink:type=\"simple\"><rect fill=\"#FFFFFF\" filter=\"url(#fumeyf3i72rya)\" height=\"91\" id=\"E2\" rx=\"10\" ry=\"10\" style=\"stroke: #A80036; stroke-width: 1.5;\" width=\"82\" x=\"158\" y=\"65\"/><rect fill=\"#FEFECE\" height=\"23.9688\" rx=\"10\" ry=\"10\" style=\"stroke: #FEFECE; stroke-width: 1.5;\" width=\"82\" x=\"158\" y=\"65\"/><rect fill=\"#FEFECE\" height=\"10\" style=\"stroke: #FEFECE; stroke-width: 1.5;\" width=\"82\" x=\"158\" y=\"78.9688\"/><rect fill=\"none\" height=\"91\" id=\"E2\" rx=\"10\" ry=\"10\" style=\"stroke: #A80036; stroke-width: 1.5;\" width=\"82\" x=\"158\" y=\"65\"/><text fill=\"#000000\" font-family=\"sans-serif\" font-size=\"12\" lengthAdjust=\"spacingAndGlyphs\" textLength=\"4\" x=\"197\" y=\"81.1387\">f</text><line style=\"stroke: #A80036; stroke-width: 1.0;\" x1=\"158\" x2=\"240\" y1=\"88.9688\" y2=\"88.9688\"/></a><!--MD5=[f6df4d0ebaf0b5dfb2ced0ae5af7c670]\n",
       "cluster E4--><a href=\"psysml:562783b8-e65b-4087-86a0-89c793c14f93\" target=\"_top\" title=\"psysml:562783b8-e65b-4087-86a0-89c793c14f93\" xlink:actuate=\"onRequest\" xlink:href=\"psysml:562783b8-e65b-4087-86a0-89c793c14f93\" xlink:show=\"new\" xlink:title=\"psysml:562783b8-e65b-4087-86a0-89c793c14f93\" xlink:type=\"simple\"><rect fill=\"#FFFFFF\" filter=\"url(#fumeyf3i72rya)\" height=\"107\" id=\"E4\" style=\"stroke: #A80036; stroke-width: 1.5;\" width=\"94\" x=\"40\" y=\"49\"/><rect fill=\"#FEFECE\" height=\"37.9375\" style=\"stroke: #A80036; stroke-width: 1.5;\" width=\"94\" x=\"40\" y=\"49\"/><text fill=\"#000000\" font-family=\"sans-serif\" font-size=\"12\" font-style=\"italic\" lengthAdjust=\"spacingAndGlyphs\" textLength=\"64\" x=\"55\" y=\"65.1387\">«part def»</text><text fill=\"#000000\" font-family=\"sans-serif\" font-size=\"12\" lengthAdjust=\"spacingAndGlyphs\" textLength=\"8\" x=\"83\" y=\"79.1074\">C</text></a><g id=\"E1.E2.E3\"><a href=\"psysml:b53848ad-4a38-46bd-bd01-a08ed5bc4cea\" target=\"_top\" title=\"psysml:b53848ad-4a38-46bd-bd01-a08ed5bc4cea\" xlink:actuate=\"onRequest\" xlink:href=\"psysml:b53848ad-4a38-46bd-bd01-a08ed5bc4cea\" xlink:show=\"new\" xlink:title=\"psysml:b53848ad-4a38-46bd-bd01-a08ed5bc4cea\" xlink:type=\"simple\"><rect fill=\"#FEFECE\" filter=\"url(#fumeyf3i72rya)\" height=\"40\" id=\"E3\" rx=\"10\" ry=\"10\" style=\"stroke: #A80036; stroke-width: 1.5;\" width=\"50\" x=\"174\" y=\"100\"/><text fill=\"#000000\" font-family=\"sans-serif\" font-size=\"12\" lengthAdjust=\"spacingAndGlyphs\" textLength=\"8\" x=\"195\" y=\"116.1387\">a</text></a></g><g id=\"E1.E4.E5\"><a href=\"psysml:ab356c3f-6fc6-498c-877e-f29aa221dc38\" target=\"_top\" title=\"psysml:ab356c3f-6fc6-498c-877e-f29aa221dc38\" xlink:actuate=\"onRequest\" xlink:href=\"psysml:ab356c3f-6fc6-498c-877e-f29aa221dc38\" xlink:show=\"new\" xlink:title=\"psysml:ab356c3f-6fc6-498c-877e-f29aa221dc38\" xlink:type=\"simple\"><rect fill=\"#FEFECE\" filter=\"url(#fumeyf3i72rya)\" height=\"40\" id=\"E5\" rx=\"10\" ry=\"10\" style=\"stroke: #A80036; stroke-width: 1.5;\" width=\"61\" x=\"56.5\" y=\"100\"/><text fill=\"#000000\" font-family=\"sans-serif\" font-size=\"12\" lengthAdjust=\"spacingAndGlyphs\" textLength=\"46\" x=\"62\" y=\"116.1387\">g=./f/a;</text></a></g><!--MD5=[8df82cca7731678802d37a1b29a2564a]\n",
       "@startuml\r\n",
       "skinparam ranksep 10\r\n",
       "skinparam rectangle {\r\n",
       " backgroundColor<<block>> LightGreen\r\n",
       "}\r\n",
       "skinparam wrapWidth 300\r\n",
       "hide circle\r\n",
       "\r\n",
       "package \"Q\" as E1  [[psysml:6ab71797-e8f8-4bff-ada3-bad51ca07e78 ]]  {\r\n",
       "rec usage \"f\" as E2  [[psysml:c02a2287-c712-494f-86c8-48c213fef3aa ]] {\r\n",
       "rec usage \"a\" as E3  [[psysml:b53848ad-4a38-46bd-bd01-a08ed5bc4cea ]] {\r\n",
       "}\r\n",
       "}\r\n",
       "rec def \"C\" as E4  <<(T,blue)part def>> [[psysml:562783b8-e65b-4087-86a0-89c793c14f93 ]] {\r\n",
       "rec usage \"g=./f/a; \" as E5  [[psysml:ab356c3f-6fc6-498c-877e-f29aa221dc38 ]] {\r\n",
       "}\r\n",
       "}\r\n",
       "}\r\n",
       "@enduml\r\n",
       "\n",
       "PlantUML version 1.2020.13(Sat Jun 13 12:26:38 UTC 2020)\n",
       "(EPL source distribution)\n",
       "Java Runtime: OpenJDK Runtime Environment\n",
       "JVM: OpenJDK 64-Bit Server VM\n",
       "Default Encoding: UTF-8\n",
       "Language: en\n",
       "Country: null\n",
       "--></g></svg>"
      ]
     },
     "execution_count": 26,
     "metadata": {},
     "output_type": "execute_result"
    }
   ],
   "source": [
    "%viz --style=\"STDCOLOR\" --view=\"Interconnection\" \"Q\""
   ]
  },
  {
   "cell_type": "code",
   "execution_count": 27,
   "id": "4eeaae03",
   "metadata": {
    "execution": {
     "iopub.execute_input": "2021-04-20T06:58:45.883966Z",
     "iopub.status.busy": "2021-04-20T06:58:45.883289Z",
     "iopub.status.idle": "2021-04-20T06:58:45.890270Z",
     "shell.execute_reply": "2021-04-20T06:58:45.890590Z"
    }
   },
   "outputs": [
    {
     "data": {
      "image/svg+xml": [
       "<?xml version=\"1.0\" encoding=\"UTF-8\" standalone=\"no\"?><svg xmlns=\"http://www.w3.org/2000/svg\" xmlns:xlink=\"http://www.w3.org/1999/xlink\" contentScriptType=\"application/ecmascript\" contentStyleType=\"text/css\" height=\"12px\" preserveAspectRatio=\"none\" style=\"width:12px;height:12px;\" version=\"1.1\" viewBox=\"0 0 12 12\" width=\"12px\" zoomAndPan=\"magnify\"><defs/><g><!--MD5=[9863325348a96a77dacc89509d8ee65e]\n",
       "@startuml\r\n",
       "skinparam ranksep 8\r\n",
       "skinparam wrapWidth 300\r\n",
       "hide circle\r\n",
       "\r\n",
       "@enduml\r\n",
       "\n",
       "PlantUML version 1.2020.13(Sat Jun 13 12:26:38 UTC 2020)\n",
       "(EPL source distribution)\n",
       "Java Runtime: OpenJDK Runtime Environment\n",
       "JVM: OpenJDK 64-Bit Server VM\n",
       "Default Encoding: UTF-8\n",
       "Language: en\n",
       "Country: null\n",
       "--></g></svg>"
      ]
     },
     "execution_count": 27,
     "metadata": {},
     "output_type": "execute_result"
    }
   ],
   "source": [
    "%viz --style=\"STDCOLOR\" --view=\"Action\" \"Q\""
   ]
  },
  {
   "cell_type": "code",
   "execution_count": 28,
   "id": "99d93a15",
   "metadata": {
    "execution": {
     "iopub.execute_input": "2021-04-20T06:58:45.943322Z",
     "iopub.status.busy": "2021-04-20T06:58:45.942438Z",
     "iopub.status.idle": "2021-04-20T06:58:45.972108Z",
     "shell.execute_reply": "2021-04-20T06:58:45.972366Z"
    }
   },
   "outputs": [
    {
     "data": {
      "image/svg+xml": [
       "<?xml version=\"1.0\" encoding=\"UTF-8\" standalone=\"no\"?><svg xmlns=\"http://www.w3.org/2000/svg\" xmlns:xlink=\"http://www.w3.org/1999/xlink\" contentScriptType=\"application/ecmascript\" contentStyleType=\"text/css\" height=\"221px\" preserveAspectRatio=\"none\" style=\"width:213px;height:221px;\" version=\"1.1\" viewBox=\"0 0 213 221\" width=\"213px\" zoomAndPan=\"magnify\"><defs><filter height=\"300%\" id=\"fjrv0tcbmdqwq\" width=\"300%\" x=\"-1\" y=\"-1\"><feGaussianBlur result=\"blurOut\" stdDeviation=\"2.0\"/><feColorMatrix in=\"blurOut\" result=\"blurOut2\" type=\"matrix\" values=\"0 0 0 0 0 0 0 0 0 0 0 0 0 0 0 0 0 0 .4 0\"/><feOffset dx=\"4.0\" dy=\"4.0\" in=\"blurOut2\" result=\"blurOut3\"/><feBlend in=\"SourceGraphic\" in2=\"blurOut3\" mode=\"normal\"/></filter></defs><g><!--MD5=[fbc87193dbaf4d95561dea2c320d4a47]\n",
       "cluster E1--><a href=\"psysml:6ab71797-e8f8-4bff-ada3-bad51ca07e78\" target=\"_top\" title=\"psysml:6ab71797-e8f8-4bff-ada3-bad51ca07e78\" xlink:actuate=\"onRequest\" xlink:href=\"psysml:6ab71797-e8f8-4bff-ada3-bad51ca07e78\" xlink:show=\"new\" xlink:title=\"psysml:6ab71797-e8f8-4bff-ada3-bad51ca07e78\" xlink:type=\"simple\"><polygon fill=\"#FFFFFF\" filter=\"url(#fjrv0tcbmdqwq)\" points=\"16,6,34,6,41,28.2969,191,28.2969,191,209,16,209,16,6\" style=\"stroke: #000000; stroke-width: 1.5;\"/><line style=\"stroke: #000000; stroke-width: 1.5;\" x1=\"16\" x2=\"41\" y1=\"28.2969\" y2=\"28.2969\"/><text fill=\"#000000\" font-family=\"sans-serif\" font-size=\"14\" font-weight=\"bold\" lengthAdjust=\"spacingAndGlyphs\" textLength=\"12\" x=\"20\" y=\"20.9951\">Q</text></a><!--MD5=[b4997ac47864f28c2f74865a473b2911]\n",
       "class E2--><a href=\"psysml:c02a2287-c712-494f-86c8-48c213fef3aa\" target=\"_top\" title=\"psysml:c02a2287-c712-494f-86c8-48c213fef3aa\" xlink:actuate=\"onRequest\" xlink:href=\"psysml:c02a2287-c712-494f-86c8-48c213fef3aa\" xlink:show=\"new\" xlink:title=\"psysml:c02a2287-c712-494f-86c8-48c213fef3aa\" xlink:type=\"simple\"><rect fill=\"#FEFECE\" filter=\"url(#fjrv0tcbmdqwq)\" height=\"45.9375\" id=\"E2\" rx=\"10\" ry=\"10\" style=\"stroke: #A80036; stroke-width: 1.5;\" width=\"42\" x=\"133\" y=\"41\"/><text fill=\"#000000\" font-family=\"sans-serif\" font-size=\"12\" font-style=\"italic\" lengthAdjust=\"spacingAndGlyphs\" textLength=\"40\" x=\"134\" y=\"57.1387\">«part»</text><text fill=\"#000000\" font-family=\"sans-serif\" font-size=\"12\" lengthAdjust=\"spacingAndGlyphs\" textLength=\"4\" x=\"152\" y=\"71.1074\">f</text><line style=\"stroke: #A80036; stroke-width: 1.5;\" x1=\"134\" x2=\"174\" y1=\"78.9375\" y2=\"78.9375\"/></a><!--MD5=[09b614a08d8cba4a07c9adeb5e0fee81]\n",
       "class E3--><a href=\"psysml:b53848ad-4a38-46bd-bd01-a08ed5bc4cea\" target=\"_top\" title=\"psysml:b53848ad-4a38-46bd-bd01-a08ed5bc4cea\" xlink:actuate=\"onRequest\" xlink:href=\"psysml:b53848ad-4a38-46bd-bd01-a08ed5bc4cea\" xlink:show=\"new\" xlink:title=\"psysml:b53848ad-4a38-46bd-bd01-a08ed5bc4cea\" xlink:type=\"simple\"><rect fill=\"#FEFECE\" filter=\"url(#fjrv0tcbmdqwq)\" height=\"45.9375\" id=\"E3\" rx=\"10\" ry=\"10\" style=\"stroke: #A80036; stroke-width: 1.5;\" width=\"42\" x=\"133\" y=\"147\"/><text fill=\"#000000\" font-family=\"sans-serif\" font-size=\"12\" font-style=\"italic\" lengthAdjust=\"spacingAndGlyphs\" textLength=\"40\" x=\"134\" y=\"163.1387\">«part»</text><text fill=\"#000000\" font-family=\"sans-serif\" font-size=\"12\" lengthAdjust=\"spacingAndGlyphs\" textLength=\"8\" x=\"150\" y=\"177.1074\">a</text><line style=\"stroke: #A80036; stroke-width: 1.5;\" x1=\"134\" x2=\"174\" y1=\"184.9375\" y2=\"184.9375\"/></a><!--MD5=[ebbe1d658d1005bcc118a6aa81145e00]\n",
       "class E4--><a href=\"psysml:562783b8-e65b-4087-86a0-89c793c14f93\" target=\"_top\" title=\"psysml:562783b8-e65b-4087-86a0-89c793c14f93\" xlink:actuate=\"onRequest\" xlink:href=\"psysml:562783b8-e65b-4087-86a0-89c793c14f93\" xlink:show=\"new\" xlink:title=\"psysml:562783b8-e65b-4087-86a0-89c793c14f93\" xlink:type=\"simple\"><rect fill=\"#FEFECE\" filter=\"url(#fjrv0tcbmdqwq)\" height=\"45.9375\" id=\"E4\" style=\"stroke: #A80036; stroke-width: 1.5;\" width=\"66\" x=\"32\" y=\"41\"/><text fill=\"#000000\" font-family=\"sans-serif\" font-size=\"12\" font-style=\"italic\" lengthAdjust=\"spacingAndGlyphs\" textLength=\"64\" x=\"33\" y=\"57.1387\">«part def»</text><text fill=\"#000000\" font-family=\"sans-serif\" font-size=\"12\" lengthAdjust=\"spacingAndGlyphs\" textLength=\"8\" x=\"61\" y=\"71.1074\">C</text><line style=\"stroke: #A80036; stroke-width: 1.5;\" x1=\"33\" x2=\"97\" y1=\"78.9375\" y2=\"78.9375\"/></a><!--MD5=[270fce915f116d4de14055a7c1d9a0f3]\n",
       "class E5--><a href=\"psysml:ab356c3f-6fc6-498c-877e-f29aa221dc38\" target=\"_top\" title=\"psysml:ab356c3f-6fc6-498c-877e-f29aa221dc38\" xlink:actuate=\"onRequest\" xlink:href=\"psysml:ab356c3f-6fc6-498c-877e-f29aa221dc38\" xlink:show=\"new\" xlink:title=\"psysml:ab356c3f-6fc6-498c-877e-f29aa221dc38\" xlink:type=\"simple\"><rect fill=\"#FEFECE\" filter=\"url(#fjrv0tcbmdqwq)\" height=\"45.9375\" id=\"E5\" rx=\"10\" ry=\"10\" style=\"stroke: #A80036; stroke-width: 1.5;\" width=\"42\" x=\"44\" y=\"147\"/><text fill=\"#000000\" font-family=\"sans-serif\" font-size=\"12\" font-style=\"italic\" lengthAdjust=\"spacingAndGlyphs\" textLength=\"40\" x=\"45\" y=\"163.1387\">«part»</text><text fill=\"#000000\" font-family=\"sans-serif\" font-size=\"12\" lengthAdjust=\"spacingAndGlyphs\" textLength=\"8\" x=\"61\" y=\"177.1074\">g</text><line style=\"stroke: #A80036; stroke-width: 1.5;\" x1=\"45\" x2=\"85\" y1=\"184.9375\" y2=\"184.9375\"/></a><!--MD5=[209b3feb70ccb6233bfe1053d122c12c]\n",
       "reverse link E2 to E3--><a href=\"psysml:3a53f0eb-5b79-463f-97a3-37a7a9b28614\" target=\"_top\" title=\"psysml:3a53f0eb-5b79-463f-97a3-37a7a9b28614\" xlink:actuate=\"onRequest\" xlink:href=\"psysml:3a53f0eb-5b79-463f-97a3-37a7a9b28614\" xlink:show=\"new\" xlink:title=\"psysml:3a53f0eb-5b79-463f-97a3-37a7a9b28614\" xlink:type=\"simple\"><path d=\"M154,100.44 C154,115.87 154,133.47 154,146.98 \" fill=\"none\" id=\"E2&lt;-E3\" style=\"stroke: #A80036; stroke-width: 1.0;\"/><polygon fill=\"#A80036\" points=\"154,87.06,150,93.06,154,99.06,158,93.06,154,87.06\" style=\"stroke: #A80036; stroke-width: 1.0;\"/></a><!--MD5=[62aa6af11e70f752912c1cb0466f24f7]\n",
       "reverse link E4 to E5--><a href=\"psysml:b96f3833-0cb6-4ba3-9671-acfc6ae0d964\" target=\"_top\" title=\"psysml:b96f3833-0cb6-4ba3-9671-acfc6ae0d964\" xlink:actuate=\"onRequest\" xlink:href=\"psysml:b96f3833-0cb6-4ba3-9671-acfc6ae0d964\" xlink:show=\"new\" xlink:title=\"psysml:b96f3833-0cb6-4ba3-9671-acfc6ae0d964\" xlink:type=\"simple\"><path d=\"M65,100.44 C65,115.87 65,133.47 65,146.98 \" fill=\"none\" id=\"E4&lt;-E5\" style=\"stroke: #A80036; stroke-width: 1.0;\"/><polygon fill=\"#A80036\" points=\"65,87.06,61,93.06,65,99.06,69,93.06,65,87.06\" style=\"stroke: #A80036; stroke-width: 1.0;\"/></a><!--MD5=[8d0e63eb4a51fc398c375a34b51a6547]\n",
       "@startuml\r\n",
       "skinparam wrapWidth 300\r\n",
       "hide circle\r\n",
       "\r\n",
       "package \"Q\" as E1  [[psysml:6ab71797-e8f8-4bff-ada3-bad51ca07e78 ]]  {\r\n",
       "comp usage \"f\" as E2  <<(T,blue)part>> [[psysml:c02a2287-c712-494f-86c8-48c213fef3aa ]] {\r\n",
       "}\r\n",
       "comp usage \"a\" as E3  <<(T,blue)part>> [[psysml:b53848ad-4a38-46bd-bd01-a08ed5bc4cea ]] {\r\n",
       "}\r\n",
       "comp def \"C\" as E4  <<(T,blue)part def>> [[psysml:562783b8-e65b-4087-86a0-89c793c14f93 ]] {\r\n",
       "}\r\n",
       "comp usage \"g\" as E5  <<(T,blue)part>> [[psysml:ab356c3f-6fc6-498c-877e-f29aa221dc38 ]] {\r\n",
       "}\r\n",
       "E2 *- - E3 [[psysml:3a53f0eb-5b79-463f-97a3-37a7a9b28614 ]] \r\n",
       "E4 *- - E5 [[psysml:b96f3833-0cb6-4ba3-9671-acfc6ae0d964 ]] \r\n",
       "}\r\n",
       "@enduml\r\n",
       "\n",
       "PlantUML version 1.2020.13(Sat Jun 13 12:26:38 UTC 2020)\n",
       "(EPL source distribution)\n",
       "Java Runtime: OpenJDK Runtime Environment\n",
       "JVM: OpenJDK 64-Bit Server VM\n",
       "Default Encoding: UTF-8\n",
       "Language: en\n",
       "Country: null\n",
       "--></g></svg>"
      ]
     },
     "execution_count": 28,
     "metadata": {},
     "output_type": "execute_result"
    }
   ],
   "source": [
    "%viz --style=\"STDCOLOR\" --view=\"Sequence\" \"Q\""
   ]
  },
  {
   "cell_type": "code",
   "execution_count": 29,
   "id": "05c39cb1",
   "metadata": {
    "execution": {
     "iopub.execute_input": "2021-04-20T06:58:46.023473Z",
     "iopub.status.busy": "2021-04-20T06:58:46.022728Z",
     "iopub.status.idle": "2021-04-20T06:58:46.052773Z",
     "shell.execute_reply": "2021-04-20T06:58:46.052497Z"
    }
   },
   "outputs": [
    {
     "data": {
      "image/svg+xml": [
       "<?xml version=\"1.0\" encoding=\"UTF-8\" standalone=\"no\"?><svg xmlns=\"http://www.w3.org/2000/svg\" xmlns:xlink=\"http://www.w3.org/1999/xlink\" contentScriptType=\"application/ecmascript\" contentStyleType=\"text/css\" height=\"221px\" preserveAspectRatio=\"none\" style=\"width:213px;height:221px;\" version=\"1.1\" viewBox=\"0 0 213 221\" width=\"213px\" zoomAndPan=\"magnify\"><defs><filter height=\"300%\" id=\"fjrv0tcbmdqwq\" width=\"300%\" x=\"-1\" y=\"-1\"><feGaussianBlur result=\"blurOut\" stdDeviation=\"2.0\"/><feColorMatrix in=\"blurOut\" result=\"blurOut2\" type=\"matrix\" values=\"0 0 0 0 0 0 0 0 0 0 0 0 0 0 0 0 0 0 .4 0\"/><feOffset dx=\"4.0\" dy=\"4.0\" in=\"blurOut2\" result=\"blurOut3\"/><feBlend in=\"SourceGraphic\" in2=\"blurOut3\" mode=\"normal\"/></filter></defs><g><!--MD5=[fbc87193dbaf4d95561dea2c320d4a47]\n",
       "cluster E1--><a href=\"psysml:6ab71797-e8f8-4bff-ada3-bad51ca07e78\" target=\"_top\" title=\"psysml:6ab71797-e8f8-4bff-ada3-bad51ca07e78\" xlink:actuate=\"onRequest\" xlink:href=\"psysml:6ab71797-e8f8-4bff-ada3-bad51ca07e78\" xlink:show=\"new\" xlink:title=\"psysml:6ab71797-e8f8-4bff-ada3-bad51ca07e78\" xlink:type=\"simple\"><polygon fill=\"#FFFFFF\" filter=\"url(#fjrv0tcbmdqwq)\" points=\"16,6,34,6,41,28.2969,191,28.2969,191,209,16,209,16,6\" style=\"stroke: #000000; stroke-width: 1.5;\"/><line style=\"stroke: #000000; stroke-width: 1.5;\" x1=\"16\" x2=\"41\" y1=\"28.2969\" y2=\"28.2969\"/><text fill=\"#000000\" font-family=\"sans-serif\" font-size=\"14\" font-weight=\"bold\" lengthAdjust=\"spacingAndGlyphs\" textLength=\"12\" x=\"20\" y=\"20.9951\">Q</text></a><!--MD5=[b4997ac47864f28c2f74865a473b2911]\n",
       "class E2--><a href=\"psysml:c02a2287-c712-494f-86c8-48c213fef3aa\" target=\"_top\" title=\"psysml:c02a2287-c712-494f-86c8-48c213fef3aa\" xlink:actuate=\"onRequest\" xlink:href=\"psysml:c02a2287-c712-494f-86c8-48c213fef3aa\" xlink:show=\"new\" xlink:title=\"psysml:c02a2287-c712-494f-86c8-48c213fef3aa\" xlink:type=\"simple\"><rect fill=\"#FEFECE\" filter=\"url(#fjrv0tcbmdqwq)\" height=\"45.9375\" id=\"E2\" rx=\"10\" ry=\"10\" style=\"stroke: #A80036; stroke-width: 1.5;\" width=\"42\" x=\"133\" y=\"41\"/><text fill=\"#000000\" font-family=\"sans-serif\" font-size=\"12\" font-style=\"italic\" lengthAdjust=\"spacingAndGlyphs\" textLength=\"40\" x=\"134\" y=\"57.1387\">«part»</text><text fill=\"#000000\" font-family=\"sans-serif\" font-size=\"12\" lengthAdjust=\"spacingAndGlyphs\" textLength=\"4\" x=\"152\" y=\"71.1074\">f</text><line style=\"stroke: #A80036; stroke-width: 1.5;\" x1=\"134\" x2=\"174\" y1=\"78.9375\" y2=\"78.9375\"/></a><!--MD5=[09b614a08d8cba4a07c9adeb5e0fee81]\n",
       "class E3--><a href=\"psysml:b53848ad-4a38-46bd-bd01-a08ed5bc4cea\" target=\"_top\" title=\"psysml:b53848ad-4a38-46bd-bd01-a08ed5bc4cea\" xlink:actuate=\"onRequest\" xlink:href=\"psysml:b53848ad-4a38-46bd-bd01-a08ed5bc4cea\" xlink:show=\"new\" xlink:title=\"psysml:b53848ad-4a38-46bd-bd01-a08ed5bc4cea\" xlink:type=\"simple\"><rect fill=\"#FEFECE\" filter=\"url(#fjrv0tcbmdqwq)\" height=\"45.9375\" id=\"E3\" rx=\"10\" ry=\"10\" style=\"stroke: #A80036; stroke-width: 1.5;\" width=\"42\" x=\"133\" y=\"147\"/><text fill=\"#000000\" font-family=\"sans-serif\" font-size=\"12\" font-style=\"italic\" lengthAdjust=\"spacingAndGlyphs\" textLength=\"40\" x=\"134\" y=\"163.1387\">«part»</text><text fill=\"#000000\" font-family=\"sans-serif\" font-size=\"12\" lengthAdjust=\"spacingAndGlyphs\" textLength=\"8\" x=\"150\" y=\"177.1074\">a</text><line style=\"stroke: #A80036; stroke-width: 1.5;\" x1=\"134\" x2=\"174\" y1=\"184.9375\" y2=\"184.9375\"/></a><!--MD5=[ebbe1d658d1005bcc118a6aa81145e00]\n",
       "class E4--><a href=\"psysml:562783b8-e65b-4087-86a0-89c793c14f93\" target=\"_top\" title=\"psysml:562783b8-e65b-4087-86a0-89c793c14f93\" xlink:actuate=\"onRequest\" xlink:href=\"psysml:562783b8-e65b-4087-86a0-89c793c14f93\" xlink:show=\"new\" xlink:title=\"psysml:562783b8-e65b-4087-86a0-89c793c14f93\" xlink:type=\"simple\"><rect fill=\"#FEFECE\" filter=\"url(#fjrv0tcbmdqwq)\" height=\"45.9375\" id=\"E4\" style=\"stroke: #A80036; stroke-width: 1.5;\" width=\"66\" x=\"32\" y=\"41\"/><text fill=\"#000000\" font-family=\"sans-serif\" font-size=\"12\" font-style=\"italic\" lengthAdjust=\"spacingAndGlyphs\" textLength=\"64\" x=\"33\" y=\"57.1387\">«part def»</text><text fill=\"#000000\" font-family=\"sans-serif\" font-size=\"12\" lengthAdjust=\"spacingAndGlyphs\" textLength=\"8\" x=\"61\" y=\"71.1074\">C</text><line style=\"stroke: #A80036; stroke-width: 1.5;\" x1=\"33\" x2=\"97\" y1=\"78.9375\" y2=\"78.9375\"/></a><!--MD5=[270fce915f116d4de14055a7c1d9a0f3]\n",
       "class E5--><a href=\"psysml:ab356c3f-6fc6-498c-877e-f29aa221dc38\" target=\"_top\" title=\"psysml:ab356c3f-6fc6-498c-877e-f29aa221dc38\" xlink:actuate=\"onRequest\" xlink:href=\"psysml:ab356c3f-6fc6-498c-877e-f29aa221dc38\" xlink:show=\"new\" xlink:title=\"psysml:ab356c3f-6fc6-498c-877e-f29aa221dc38\" xlink:type=\"simple\"><rect fill=\"#FEFECE\" filter=\"url(#fjrv0tcbmdqwq)\" height=\"45.9375\" id=\"E5\" rx=\"10\" ry=\"10\" style=\"stroke: #A80036; stroke-width: 1.5;\" width=\"42\" x=\"44\" y=\"147\"/><text fill=\"#000000\" font-family=\"sans-serif\" font-size=\"12\" font-style=\"italic\" lengthAdjust=\"spacingAndGlyphs\" textLength=\"40\" x=\"45\" y=\"163.1387\">«part»</text><text fill=\"#000000\" font-family=\"sans-serif\" font-size=\"12\" lengthAdjust=\"spacingAndGlyphs\" textLength=\"8\" x=\"61\" y=\"177.1074\">g</text><line style=\"stroke: #A80036; stroke-width: 1.5;\" x1=\"45\" x2=\"85\" y1=\"184.9375\" y2=\"184.9375\"/></a><!--MD5=[209b3feb70ccb6233bfe1053d122c12c]\n",
       "reverse link E2 to E3--><a href=\"psysml:3a53f0eb-5b79-463f-97a3-37a7a9b28614\" target=\"_top\" title=\"psysml:3a53f0eb-5b79-463f-97a3-37a7a9b28614\" xlink:actuate=\"onRequest\" xlink:href=\"psysml:3a53f0eb-5b79-463f-97a3-37a7a9b28614\" xlink:show=\"new\" xlink:title=\"psysml:3a53f0eb-5b79-463f-97a3-37a7a9b28614\" xlink:type=\"simple\"><path d=\"M154,100.44 C154,115.87 154,133.47 154,146.98 \" fill=\"none\" id=\"E2&lt;-E3\" style=\"stroke: #A80036; stroke-width: 1.0;\"/><polygon fill=\"#A80036\" points=\"154,87.06,150,93.06,154,99.06,158,93.06,154,87.06\" style=\"stroke: #A80036; stroke-width: 1.0;\"/></a><!--MD5=[62aa6af11e70f752912c1cb0466f24f7]\n",
       "reverse link E4 to E5--><a href=\"psysml:b96f3833-0cb6-4ba3-9671-acfc6ae0d964\" target=\"_top\" title=\"psysml:b96f3833-0cb6-4ba3-9671-acfc6ae0d964\" xlink:actuate=\"onRequest\" xlink:href=\"psysml:b96f3833-0cb6-4ba3-9671-acfc6ae0d964\" xlink:show=\"new\" xlink:title=\"psysml:b96f3833-0cb6-4ba3-9671-acfc6ae0d964\" xlink:type=\"simple\"><path d=\"M65,100.44 C65,115.87 65,133.47 65,146.98 \" fill=\"none\" id=\"E4&lt;-E5\" style=\"stroke: #A80036; stroke-width: 1.0;\"/><polygon fill=\"#A80036\" points=\"65,87.06,61,93.06,65,99.06,69,93.06,65,87.06\" style=\"stroke: #A80036; stroke-width: 1.0;\"/></a><!--MD5=[8d0e63eb4a51fc398c375a34b51a6547]\n",
       "@startuml\r\n",
       "skinparam wrapWidth 300\r\n",
       "hide circle\r\n",
       "\r\n",
       "package \"Q\" as E1  [[psysml:6ab71797-e8f8-4bff-ada3-bad51ca07e78 ]]  {\r\n",
       "comp usage \"f\" as E2  <<(T,blue)part>> [[psysml:c02a2287-c712-494f-86c8-48c213fef3aa ]] {\r\n",
       "}\r\n",
       "comp usage \"a\" as E3  <<(T,blue)part>> [[psysml:b53848ad-4a38-46bd-bd01-a08ed5bc4cea ]] {\r\n",
       "}\r\n",
       "comp def \"C\" as E4  <<(T,blue)part def>> [[psysml:562783b8-e65b-4087-86a0-89c793c14f93 ]] {\r\n",
       "}\r\n",
       "comp usage \"g\" as E5  <<(T,blue)part>> [[psysml:ab356c3f-6fc6-498c-877e-f29aa221dc38 ]] {\r\n",
       "}\r\n",
       "E2 *- - E3 [[psysml:3a53f0eb-5b79-463f-97a3-37a7a9b28614 ]] \r\n",
       "E4 *- - E5 [[psysml:b96f3833-0cb6-4ba3-9671-acfc6ae0d964 ]] \r\n",
       "}\r\n",
       "@enduml\r\n",
       "\n",
       "PlantUML version 1.2020.13(Sat Jun 13 12:26:38 UTC 2020)\n",
       "(EPL source distribution)\n",
       "Java Runtime: OpenJDK Runtime Environment\n",
       "JVM: OpenJDK 64-Bit Server VM\n",
       "Default Encoding: UTF-8\n",
       "Language: en\n",
       "Country: null\n",
       "--></g></svg>"
      ]
     },
     "execution_count": 29,
     "metadata": {},
     "output_type": "execute_result"
    }
   ],
   "source": [
    "%viz --style=\"STDCOLOR\" --view=\"MIXED\" \"Q\""
   ]
  },
  {
   "cell_type": "code",
   "execution_count": 30,
   "id": "f5c557df",
   "metadata": {
    "execution": {
     "iopub.execute_input": "2021-04-20T06:58:46.104282Z",
     "iopub.status.busy": "2021-04-20T06:58:46.103117Z",
     "iopub.status.idle": "2021-04-20T06:58:46.154576Z",
     "shell.execute_reply": "2021-04-20T06:58:46.154230Z"
    }
   },
   "outputs": [
    {
     "data": {
      "image/svg+xml": [
       "<?xml version=\"1.0\" encoding=\"UTF-8\" standalone=\"no\"?><svg xmlns=\"http://www.w3.org/2000/svg\" xmlns:xlink=\"http://www.w3.org/1999/xlink\" contentScriptType=\"application/ecmascript\" contentStyleType=\"text/css\" height=\"221px\" preserveAspectRatio=\"none\" style=\"width:241px;height:221px;\" version=\"1.1\" viewBox=\"0 0 241 221\" width=\"241px\" zoomAndPan=\"magnify\"><defs><filter height=\"300%\" id=\"f2pjumyei17bc\" width=\"300%\" x=\"-1\" y=\"-1\"><feGaussianBlur result=\"blurOut\" stdDeviation=\"2.0\"/><feColorMatrix in=\"blurOut\" result=\"blurOut2\" type=\"matrix\" values=\"0 0 0 0 0 0 0 0 0 0 0 0 0 0 0 0 0 0 .4 0\"/><feOffset dx=\"4.0\" dy=\"4.0\" in=\"blurOut2\" result=\"blurOut3\"/><feBlend in=\"SourceGraphic\" in2=\"blurOut3\" mode=\"normal\"/></filter></defs><g><!--MD5=[fbc87193dbaf4d95561dea2c320d4a47]\n",
       "cluster E1--><a href=\"psysml:6ab71797-e8f8-4bff-ada3-bad51ca07e78\" target=\"_top\" title=\"psysml:6ab71797-e8f8-4bff-ada3-bad51ca07e78\" xlink:actuate=\"onRequest\" xlink:href=\"psysml:6ab71797-e8f8-4bff-ada3-bad51ca07e78\" xlink:show=\"new\" xlink:title=\"psysml:6ab71797-e8f8-4bff-ada3-bad51ca07e78\" xlink:type=\"simple\"><polygon fill=\"#FFFFFF\" filter=\"url(#f2pjumyei17bc)\" points=\"16,6,34,6,41,28.2969,219,28.2969,219,209,16,209,16,6\" style=\"stroke: #000000; stroke-width: 1.5;\"/><line style=\"stroke: #000000; stroke-width: 1.5;\" x1=\"16\" x2=\"41\" y1=\"28.2969\" y2=\"28.2969\"/><text fill=\"#000000\" font-family=\"sans-serif\" font-size=\"14\" font-weight=\"bold\" lengthAdjust=\"spacingAndGlyphs\" textLength=\"12\" x=\"20\" y=\"20.9951\">Q</text></a><!--MD5=[b4997ac47864f28c2f74865a473b2911]\n",
       "class E2--><a href=\"psysml:c02a2287-c712-494f-86c8-48c213fef3aa\" target=\"_top\" title=\"psysml:c02a2287-c712-494f-86c8-48c213fef3aa\" xlink:actuate=\"onRequest\" xlink:href=\"psysml:c02a2287-c712-494f-86c8-48c213fef3aa\" xlink:show=\"new\" xlink:title=\"psysml:c02a2287-c712-494f-86c8-48c213fef3aa\" xlink:type=\"simple\"><rect fill=\"#FEFECE\" filter=\"url(#f2pjumyei17bc)\" height=\"45.9375\" id=\"E2\" rx=\"10\" ry=\"10\" style=\"stroke: #A80036; stroke-width: 1.5;\" width=\"68\" x=\"135\" y=\"41\"/><ellipse cx=\"150\" cy=\"59.9688\" fill=\"#32CD32\" rx=\"11\" ry=\"11\" style=\"stroke: #A80036; stroke-width: 1.0;\"/><path d=\"M149.7969,55.6406 L149.7969,59.2656 L150.7969,59.2656 Q152,59.2656 152.4844,58.8594 Q152.9688,58.4531 152.9688,57.4531 Q152.9688,56.4531 152.4844,56.0469 Q152,55.6406 150.7969,55.6406 L149.7969,55.6406 Z M147.3438,53.5781 L150.7031,53.5781 Q153.2656,53.5781 154.3906,54.5 Q155.5156,55.4063 155.5156,57.4531 Q155.5156,59.5 154.3906,60.4219 Q153.2656,61.3281 150.7031,61.3281 L149.7969,61.3281 L149.7969,65.9688 L147.3438,65.9688 L147.3438,53.5781 Z \"/><text fill=\"#000000\" font-family=\"sans-serif\" font-size=\"12\" font-style=\"italic\" lengthAdjust=\"spacingAndGlyphs\" textLength=\"40\" x=\"162\" y=\"57.1387\">«part»</text><text fill=\"#000000\" font-family=\"sans-serif\" font-size=\"12\" lengthAdjust=\"spacingAndGlyphs\" textLength=\"4\" x=\"180\" y=\"71.1074\">f</text><line style=\"stroke: #A80036; stroke-width: 1.5;\" x1=\"136\" x2=\"202\" y1=\"78.9375\" y2=\"78.9375\"/></a><!--MD5=[09b614a08d8cba4a07c9adeb5e0fee81]\n",
       "class E3--><a href=\"psysml:b53848ad-4a38-46bd-bd01-a08ed5bc4cea\" target=\"_top\" title=\"psysml:b53848ad-4a38-46bd-bd01-a08ed5bc4cea\" xlink:actuate=\"onRequest\" xlink:href=\"psysml:b53848ad-4a38-46bd-bd01-a08ed5bc4cea\" xlink:show=\"new\" xlink:title=\"psysml:b53848ad-4a38-46bd-bd01-a08ed5bc4cea\" xlink:type=\"simple\"><rect fill=\"#FEFECE\" filter=\"url(#f2pjumyei17bc)\" height=\"45.9375\" id=\"E3\" rx=\"10\" ry=\"10\" style=\"stroke: #A80036; stroke-width: 1.5;\" width=\"68\" x=\"135\" y=\"147\"/><ellipse cx=\"150\" cy=\"165.9688\" fill=\"#32CD32\" rx=\"11\" ry=\"11\" style=\"stroke: #A80036; stroke-width: 1.0;\"/><path d=\"M149.7969,161.6406 L149.7969,165.2656 L150.7969,165.2656 Q152,165.2656 152.4844,164.8594 Q152.9688,164.4531 152.9688,163.4531 Q152.9688,162.4531 152.4844,162.0469 Q152,161.6406 150.7969,161.6406 L149.7969,161.6406 Z M147.3438,159.5781 L150.7031,159.5781 Q153.2656,159.5781 154.3906,160.5 Q155.5156,161.4063 155.5156,163.4531 Q155.5156,165.5 154.3906,166.4219 Q153.2656,167.3281 150.7031,167.3281 L149.7969,167.3281 L149.7969,171.9688 L147.3438,171.9688 L147.3438,159.5781 Z \"/><text fill=\"#000000\" font-family=\"sans-serif\" font-size=\"12\" font-style=\"italic\" lengthAdjust=\"spacingAndGlyphs\" textLength=\"40\" x=\"162\" y=\"163.1387\">«part»</text><text fill=\"#000000\" font-family=\"sans-serif\" font-size=\"12\" lengthAdjust=\"spacingAndGlyphs\" textLength=\"8\" x=\"178\" y=\"177.1074\">a</text><line style=\"stroke: #A80036; stroke-width: 1.5;\" x1=\"136\" x2=\"202\" y1=\"184.9375\" y2=\"184.9375\"/></a><!--MD5=[ebbe1d658d1005bcc118a6aa81145e00]\n",
       "class E4--><a href=\"psysml:562783b8-e65b-4087-86a0-89c793c14f93\" target=\"_top\" title=\"psysml:562783b8-e65b-4087-86a0-89c793c14f93\" xlink:actuate=\"onRequest\" xlink:href=\"psysml:562783b8-e65b-4087-86a0-89c793c14f93\" xlink:show=\"new\" xlink:title=\"psysml:562783b8-e65b-4087-86a0-89c793c14f93\" xlink:type=\"simple\"><rect fill=\"#FEFECE\" filter=\"url(#f2pjumyei17bc)\" height=\"40\" id=\"E4\" style=\"stroke: #A80036; stroke-width: 1.5;\" width=\"40\" x=\"46\" y=\"44\"/><ellipse cx=\"61\" cy=\"60\" fill=\"#008000\" rx=\"11\" ry=\"11\" style=\"stroke: #A80036; stroke-width: 1.0;\"/><path d=\"M59.9063,60.375 L59.9063,64.0469 L61.5313,64.0469 Q62.7031,64.0469 63.1719,63.6563 Q63.6406,63.25 63.6406,62.25 Q63.6406,61.25 63.1406,60.8125 Q62.6563,60.375 61.5313,60.375 L59.9063,60.375 Z M59.9063,55.5469 L59.9063,58.4219 L61.5313,58.4219 Q62.4531,58.4219 62.8438,58.0938 Q63.25,57.75 63.25,57 Q63.25,56.2344 62.8438,55.8906 Q62.4375,55.5469 61.5313,55.5469 L59.9063,55.5469 Z M57.5313,53.5938 L61.5313,53.5938 Q63.5938,53.5938 64.6406,54.375 Q65.6875,55.1563 65.6875,56.7188 Q65.6875,57.9219 65.0625,58.5938 Q64.4531,59.2656 63.2656,59.375 Q64.6875,59.5156 65.4063,60.3281 Q66.125,61.1406 66.125,62.5938 Q66.125,64.3906 65.0469,65.2031 Q63.9688,66 61.5313,66 L57.5313,66 L57.5313,53.5938 Z \"/><text fill=\"#000000\" font-family=\"sans-serif\" font-size=\"12\" lengthAdjust=\"spacingAndGlyphs\" textLength=\"8\" x=\"75\" y=\"64.1543\">C</text><line style=\"stroke: #A80036; stroke-width: 1.5;\" x1=\"47\" x2=\"85\" y1=\"76\" y2=\"76\"/></a><!--MD5=[270fce915f116d4de14055a7c1d9a0f3]\n",
       "class E5--><a href=\"psysml:ab356c3f-6fc6-498c-877e-f29aa221dc38\" target=\"_top\" title=\"psysml:ab356c3f-6fc6-498c-877e-f29aa221dc38\" xlink:actuate=\"onRequest\" xlink:href=\"psysml:ab356c3f-6fc6-498c-877e-f29aa221dc38\" xlink:show=\"new\" xlink:title=\"psysml:ab356c3f-6fc6-498c-877e-f29aa221dc38\" xlink:type=\"simple\"><rect fill=\"#FEFECE\" filter=\"url(#f2pjumyei17bc)\" height=\"45.9375\" id=\"E5\" rx=\"10\" ry=\"10\" style=\"stroke: #A80036; stroke-width: 1.5;\" width=\"68\" x=\"32\" y=\"147\"/><ellipse cx=\"47\" cy=\"165.9688\" fill=\"#32CD32\" rx=\"11\" ry=\"11\" style=\"stroke: #A80036; stroke-width: 1.0;\"/><path d=\"M46.7969,161.6406 L46.7969,165.2656 L47.7969,165.2656 Q49,165.2656 49.4844,164.8594 Q49.9688,164.4531 49.9688,163.4531 Q49.9688,162.4531 49.4844,162.0469 Q49,161.6406 47.7969,161.6406 L46.7969,161.6406 Z M44.3438,159.5781 L47.7031,159.5781 Q50.2656,159.5781 51.3906,160.5 Q52.5156,161.4063 52.5156,163.4531 Q52.5156,165.5 51.3906,166.4219 Q50.2656,167.3281 47.7031,167.3281 L46.7969,167.3281 L46.7969,171.9688 L44.3438,171.9688 L44.3438,159.5781 Z \"/><text fill=\"#000000\" font-family=\"sans-serif\" font-size=\"12\" font-style=\"italic\" lengthAdjust=\"spacingAndGlyphs\" textLength=\"40\" x=\"59\" y=\"163.1387\">«part»</text><text fill=\"#000000\" font-family=\"sans-serif\" font-size=\"12\" lengthAdjust=\"spacingAndGlyphs\" textLength=\"8\" x=\"75\" y=\"177.1074\">g</text><line style=\"stroke: #A80036; stroke-width: 1.5;\" x1=\"33\" x2=\"99\" y1=\"184.9375\" y2=\"184.9375\"/></a><!--MD5=[209b3feb70ccb6233bfe1053d122c12c]\n",
       "reverse link E2 to E3--><a href=\"psysml:3a53f0eb-5b79-463f-97a3-37a7a9b28614\" target=\"_top\" title=\"psysml:3a53f0eb-5b79-463f-97a3-37a7a9b28614\" xlink:actuate=\"onRequest\" xlink:href=\"psysml:3a53f0eb-5b79-463f-97a3-37a7a9b28614\" xlink:show=\"new\" xlink:title=\"psysml:3a53f0eb-5b79-463f-97a3-37a7a9b28614\" xlink:type=\"simple\"><path d=\"M169,100.44 C169,115.87 169,133.47 169,146.98 \" fill=\"none\" id=\"E2&lt;-E3\" style=\"stroke: #A80036; stroke-width: 1.0;\"/><polygon fill=\"#A80036\" points=\"169,87.06,165,93.06,169,99.06,173,93.06,169,87.06\" style=\"stroke: #A80036; stroke-width: 1.0;\"/></a><!--MD5=[62aa6af11e70f752912c1cb0466f24f7]\n",
       "reverse link E4 to E5--><a href=\"psysml:b96f3833-0cb6-4ba3-9671-acfc6ae0d964\" target=\"_top\" title=\"psysml:b96f3833-0cb6-4ba3-9671-acfc6ae0d964\" xlink:actuate=\"onRequest\" xlink:href=\"psysml:b96f3833-0cb6-4ba3-9671-acfc6ae0d964\" xlink:show=\"new\" xlink:title=\"psysml:b96f3833-0cb6-4ba3-9671-acfc6ae0d964\" xlink:type=\"simple\"><path d=\"M66,97.25 C66,113.33 66,132.37 66,146.8 \" fill=\"none\" id=\"E4&lt;-E5\" style=\"stroke: #A80036; stroke-width: 1.0;\"/><polygon fill=\"#A80036\" points=\"66,84.08,62,90.08,66,96.08,70,90.08,66,84.08\" style=\"stroke: #A80036; stroke-width: 1.0;\"/></a><!--MD5=[53bc74650dd824aaea713125212a99bf]\n",
       "@startuml\r\n",
       " \r\n",
       "package \"Q\" as E1  [[psysml:6ab71797-e8f8-4bff-ada3-bad51ca07e78 ]]  {\r\n",
       "comp usage \"f\" as E2  << (P,limegreen) part>> [[psysml:c02a2287-c712-494f-86c8-48c213fef3aa ]] {\r\n",
       "}\r\n",
       "comp usage \"a\" as E3  << (P,limegreen) part>> [[psysml:b53848ad-4a38-46bd-bd01-a08ed5bc4cea ]] {\r\n",
       "}\r\n",
       "comp def \"C\" as E4  << (B,green) >> [[psysml:562783b8-e65b-4087-86a0-89c793c14f93 ]] {\r\n",
       "}\r\n",
       "comp usage \"g\" as E5  << (P,limegreen) part>> [[psysml:ab356c3f-6fc6-498c-877e-f29aa221dc38 ]] {\r\n",
       "}\r\n",
       "E2 *- - E3 [[psysml:3a53f0eb-5b79-463f-97a3-37a7a9b28614 ]] \r\n",
       "E4 *- - E5 [[psysml:b96f3833-0cb6-4ba3-9671-acfc6ae0d964 ]] \r\n",
       "}\r\n",
       "@enduml\r\n",
       "\n",
       "PlantUML version 1.2020.13(Sat Jun 13 12:26:38 UTC 2020)\n",
       "(EPL source distribution)\n",
       "Java Runtime: OpenJDK Runtime Environment\n",
       "JVM: OpenJDK 64-Bit Server VM\n",
       "Default Encoding: UTF-8\n",
       "Language: en\n",
       "Country: null\n",
       "--></g></svg>"
      ]
     },
     "execution_count": 30,
     "metadata": {},
     "output_type": "execute_result"
    }
   ],
   "source": [
    "%viz --style=\"PLANTUML\" --view=\"Default\" \"Q\""
   ]
  },
  {
   "cell_type": "code",
   "execution_count": 31,
   "id": "27e26f05",
   "metadata": {
    "execution": {
     "iopub.execute_input": "2021-04-20T06:58:46.205965Z",
     "iopub.status.busy": "2021-04-20T06:58:46.205286Z",
     "iopub.status.idle": "2021-04-20T06:58:46.234745Z",
     "shell.execute_reply": "2021-04-20T06:58:46.235248Z"
    }
   },
   "outputs": [
    {
     "data": {
      "image/svg+xml": [
       "<?xml version=\"1.0\" encoding=\"UTF-8\" standalone=\"no\"?><svg xmlns=\"http://www.w3.org/2000/svg\" xmlns:xlink=\"http://www.w3.org/1999/xlink\" contentScriptType=\"application/ecmascript\" contentStyleType=\"text/css\" height=\"221px\" preserveAspectRatio=\"none\" style=\"width:241px;height:221px;\" version=\"1.1\" viewBox=\"0 0 241 221\" width=\"241px\" zoomAndPan=\"magnify\"><defs><filter height=\"300%\" id=\"f2pjumyei17bc\" width=\"300%\" x=\"-1\" y=\"-1\"><feGaussianBlur result=\"blurOut\" stdDeviation=\"2.0\"/><feColorMatrix in=\"blurOut\" result=\"blurOut2\" type=\"matrix\" values=\"0 0 0 0 0 0 0 0 0 0 0 0 0 0 0 0 0 0 .4 0\"/><feOffset dx=\"4.0\" dy=\"4.0\" in=\"blurOut2\" result=\"blurOut3\"/><feBlend in=\"SourceGraphic\" in2=\"blurOut3\" mode=\"normal\"/></filter></defs><g><!--MD5=[fbc87193dbaf4d95561dea2c320d4a47]\n",
       "cluster E1--><a href=\"psysml:6ab71797-e8f8-4bff-ada3-bad51ca07e78\" target=\"_top\" title=\"psysml:6ab71797-e8f8-4bff-ada3-bad51ca07e78\" xlink:actuate=\"onRequest\" xlink:href=\"psysml:6ab71797-e8f8-4bff-ada3-bad51ca07e78\" xlink:show=\"new\" xlink:title=\"psysml:6ab71797-e8f8-4bff-ada3-bad51ca07e78\" xlink:type=\"simple\"><polygon fill=\"#FFFFFF\" filter=\"url(#f2pjumyei17bc)\" points=\"16,6,34,6,41,28.2969,219,28.2969,219,209,16,209,16,6\" style=\"stroke: #000000; stroke-width: 1.5;\"/><line style=\"stroke: #000000; stroke-width: 1.5;\" x1=\"16\" x2=\"41\" y1=\"28.2969\" y2=\"28.2969\"/><text fill=\"#000000\" font-family=\"sans-serif\" font-size=\"14\" font-weight=\"bold\" lengthAdjust=\"spacingAndGlyphs\" textLength=\"12\" x=\"20\" y=\"20.9951\">Q</text></a><!--MD5=[b4997ac47864f28c2f74865a473b2911]\n",
       "class E2--><a href=\"psysml:c02a2287-c712-494f-86c8-48c213fef3aa\" target=\"_top\" title=\"psysml:c02a2287-c712-494f-86c8-48c213fef3aa\" xlink:actuate=\"onRequest\" xlink:href=\"psysml:c02a2287-c712-494f-86c8-48c213fef3aa\" xlink:show=\"new\" xlink:title=\"psysml:c02a2287-c712-494f-86c8-48c213fef3aa\" xlink:type=\"simple\"><rect fill=\"#FEFECE\" filter=\"url(#f2pjumyei17bc)\" height=\"45.9375\" id=\"E2\" rx=\"10\" ry=\"10\" style=\"stroke: #A80036; stroke-width: 1.5;\" width=\"68\" x=\"135\" y=\"41\"/><ellipse cx=\"150\" cy=\"59.9688\" fill=\"#32CD32\" rx=\"11\" ry=\"11\" style=\"stroke: #A80036; stroke-width: 1.0;\"/><path d=\"M149.7969,55.6406 L149.7969,59.2656 L150.7969,59.2656 Q152,59.2656 152.4844,58.8594 Q152.9688,58.4531 152.9688,57.4531 Q152.9688,56.4531 152.4844,56.0469 Q152,55.6406 150.7969,55.6406 L149.7969,55.6406 Z M147.3438,53.5781 L150.7031,53.5781 Q153.2656,53.5781 154.3906,54.5 Q155.5156,55.4063 155.5156,57.4531 Q155.5156,59.5 154.3906,60.4219 Q153.2656,61.3281 150.7031,61.3281 L149.7969,61.3281 L149.7969,65.9688 L147.3438,65.9688 L147.3438,53.5781 Z \"/><text fill=\"#000000\" font-family=\"sans-serif\" font-size=\"12\" font-style=\"italic\" lengthAdjust=\"spacingAndGlyphs\" textLength=\"40\" x=\"162\" y=\"57.1387\">«part»</text><text fill=\"#000000\" font-family=\"sans-serif\" font-size=\"12\" lengthAdjust=\"spacingAndGlyphs\" textLength=\"4\" x=\"180\" y=\"71.1074\">f</text><line style=\"stroke: #A80036; stroke-width: 1.5;\" x1=\"136\" x2=\"202\" y1=\"78.9375\" y2=\"78.9375\"/></a><!--MD5=[09b614a08d8cba4a07c9adeb5e0fee81]\n",
       "class E3--><a href=\"psysml:b53848ad-4a38-46bd-bd01-a08ed5bc4cea\" target=\"_top\" title=\"psysml:b53848ad-4a38-46bd-bd01-a08ed5bc4cea\" xlink:actuate=\"onRequest\" xlink:href=\"psysml:b53848ad-4a38-46bd-bd01-a08ed5bc4cea\" xlink:show=\"new\" xlink:title=\"psysml:b53848ad-4a38-46bd-bd01-a08ed5bc4cea\" xlink:type=\"simple\"><rect fill=\"#FEFECE\" filter=\"url(#f2pjumyei17bc)\" height=\"45.9375\" id=\"E3\" rx=\"10\" ry=\"10\" style=\"stroke: #A80036; stroke-width: 1.5;\" width=\"68\" x=\"135\" y=\"147\"/><ellipse cx=\"150\" cy=\"165.9688\" fill=\"#32CD32\" rx=\"11\" ry=\"11\" style=\"stroke: #A80036; stroke-width: 1.0;\"/><path d=\"M149.7969,161.6406 L149.7969,165.2656 L150.7969,165.2656 Q152,165.2656 152.4844,164.8594 Q152.9688,164.4531 152.9688,163.4531 Q152.9688,162.4531 152.4844,162.0469 Q152,161.6406 150.7969,161.6406 L149.7969,161.6406 Z M147.3438,159.5781 L150.7031,159.5781 Q153.2656,159.5781 154.3906,160.5 Q155.5156,161.4063 155.5156,163.4531 Q155.5156,165.5 154.3906,166.4219 Q153.2656,167.3281 150.7031,167.3281 L149.7969,167.3281 L149.7969,171.9688 L147.3438,171.9688 L147.3438,159.5781 Z \"/><text fill=\"#000000\" font-family=\"sans-serif\" font-size=\"12\" font-style=\"italic\" lengthAdjust=\"spacingAndGlyphs\" textLength=\"40\" x=\"162\" y=\"163.1387\">«part»</text><text fill=\"#000000\" font-family=\"sans-serif\" font-size=\"12\" lengthAdjust=\"spacingAndGlyphs\" textLength=\"8\" x=\"178\" y=\"177.1074\">a</text><line style=\"stroke: #A80036; stroke-width: 1.5;\" x1=\"136\" x2=\"202\" y1=\"184.9375\" y2=\"184.9375\"/></a><!--MD5=[ebbe1d658d1005bcc118a6aa81145e00]\n",
       "class E4--><a href=\"psysml:562783b8-e65b-4087-86a0-89c793c14f93\" target=\"_top\" title=\"psysml:562783b8-e65b-4087-86a0-89c793c14f93\" xlink:actuate=\"onRequest\" xlink:href=\"psysml:562783b8-e65b-4087-86a0-89c793c14f93\" xlink:show=\"new\" xlink:title=\"psysml:562783b8-e65b-4087-86a0-89c793c14f93\" xlink:type=\"simple\"><rect fill=\"#FEFECE\" filter=\"url(#f2pjumyei17bc)\" height=\"40\" id=\"E4\" style=\"stroke: #A80036; stroke-width: 1.5;\" width=\"40\" x=\"46\" y=\"44\"/><ellipse cx=\"61\" cy=\"60\" fill=\"#008000\" rx=\"11\" ry=\"11\" style=\"stroke: #A80036; stroke-width: 1.0;\"/><path d=\"M59.9063,60.375 L59.9063,64.0469 L61.5313,64.0469 Q62.7031,64.0469 63.1719,63.6563 Q63.6406,63.25 63.6406,62.25 Q63.6406,61.25 63.1406,60.8125 Q62.6563,60.375 61.5313,60.375 L59.9063,60.375 Z M59.9063,55.5469 L59.9063,58.4219 L61.5313,58.4219 Q62.4531,58.4219 62.8438,58.0938 Q63.25,57.75 63.25,57 Q63.25,56.2344 62.8438,55.8906 Q62.4375,55.5469 61.5313,55.5469 L59.9063,55.5469 Z M57.5313,53.5938 L61.5313,53.5938 Q63.5938,53.5938 64.6406,54.375 Q65.6875,55.1563 65.6875,56.7188 Q65.6875,57.9219 65.0625,58.5938 Q64.4531,59.2656 63.2656,59.375 Q64.6875,59.5156 65.4063,60.3281 Q66.125,61.1406 66.125,62.5938 Q66.125,64.3906 65.0469,65.2031 Q63.9688,66 61.5313,66 L57.5313,66 L57.5313,53.5938 Z \"/><text fill=\"#000000\" font-family=\"sans-serif\" font-size=\"12\" lengthAdjust=\"spacingAndGlyphs\" textLength=\"8\" x=\"75\" y=\"64.1543\">C</text><line style=\"stroke: #A80036; stroke-width: 1.5;\" x1=\"47\" x2=\"85\" y1=\"76\" y2=\"76\"/></a><!--MD5=[270fce915f116d4de14055a7c1d9a0f3]\n",
       "class E5--><a href=\"psysml:ab356c3f-6fc6-498c-877e-f29aa221dc38\" target=\"_top\" title=\"psysml:ab356c3f-6fc6-498c-877e-f29aa221dc38\" xlink:actuate=\"onRequest\" xlink:href=\"psysml:ab356c3f-6fc6-498c-877e-f29aa221dc38\" xlink:show=\"new\" xlink:title=\"psysml:ab356c3f-6fc6-498c-877e-f29aa221dc38\" xlink:type=\"simple\"><rect fill=\"#FEFECE\" filter=\"url(#f2pjumyei17bc)\" height=\"45.9375\" id=\"E5\" rx=\"10\" ry=\"10\" style=\"stroke: #A80036; stroke-width: 1.5;\" width=\"68\" x=\"32\" y=\"147\"/><ellipse cx=\"47\" cy=\"165.9688\" fill=\"#32CD32\" rx=\"11\" ry=\"11\" style=\"stroke: #A80036; stroke-width: 1.0;\"/><path d=\"M46.7969,161.6406 L46.7969,165.2656 L47.7969,165.2656 Q49,165.2656 49.4844,164.8594 Q49.9688,164.4531 49.9688,163.4531 Q49.9688,162.4531 49.4844,162.0469 Q49,161.6406 47.7969,161.6406 L46.7969,161.6406 Z M44.3438,159.5781 L47.7031,159.5781 Q50.2656,159.5781 51.3906,160.5 Q52.5156,161.4063 52.5156,163.4531 Q52.5156,165.5 51.3906,166.4219 Q50.2656,167.3281 47.7031,167.3281 L46.7969,167.3281 L46.7969,171.9688 L44.3438,171.9688 L44.3438,159.5781 Z \"/><text fill=\"#000000\" font-family=\"sans-serif\" font-size=\"12\" font-style=\"italic\" lengthAdjust=\"spacingAndGlyphs\" textLength=\"40\" x=\"59\" y=\"163.1387\">«part»</text><text fill=\"#000000\" font-family=\"sans-serif\" font-size=\"12\" lengthAdjust=\"spacingAndGlyphs\" textLength=\"8\" x=\"75\" y=\"177.1074\">g</text><line style=\"stroke: #A80036; stroke-width: 1.5;\" x1=\"33\" x2=\"99\" y1=\"184.9375\" y2=\"184.9375\"/></a><!--MD5=[209b3feb70ccb6233bfe1053d122c12c]\n",
       "reverse link E2 to E3--><a href=\"psysml:3a53f0eb-5b79-463f-97a3-37a7a9b28614\" target=\"_top\" title=\"psysml:3a53f0eb-5b79-463f-97a3-37a7a9b28614\" xlink:actuate=\"onRequest\" xlink:href=\"psysml:3a53f0eb-5b79-463f-97a3-37a7a9b28614\" xlink:show=\"new\" xlink:title=\"psysml:3a53f0eb-5b79-463f-97a3-37a7a9b28614\" xlink:type=\"simple\"><path d=\"M169,100.44 C169,115.87 169,133.47 169,146.98 \" fill=\"none\" id=\"E2&lt;-E3\" style=\"stroke: #A80036; stroke-width: 1.0;\"/><polygon fill=\"#A80036\" points=\"169,87.06,165,93.06,169,99.06,173,93.06,169,87.06\" style=\"stroke: #A80036; stroke-width: 1.0;\"/></a><!--MD5=[62aa6af11e70f752912c1cb0466f24f7]\n",
       "reverse link E4 to E5--><a href=\"psysml:b96f3833-0cb6-4ba3-9671-acfc6ae0d964\" target=\"_top\" title=\"psysml:b96f3833-0cb6-4ba3-9671-acfc6ae0d964\" xlink:actuate=\"onRequest\" xlink:href=\"psysml:b96f3833-0cb6-4ba3-9671-acfc6ae0d964\" xlink:show=\"new\" xlink:title=\"psysml:b96f3833-0cb6-4ba3-9671-acfc6ae0d964\" xlink:type=\"simple\"><path d=\"M66,97.25 C66,113.33 66,132.37 66,146.8 \" fill=\"none\" id=\"E4&lt;-E5\" style=\"stroke: #A80036; stroke-width: 1.0;\"/><polygon fill=\"#A80036\" points=\"66,84.08,62,90.08,66,96.08,70,90.08,66,84.08\" style=\"stroke: #A80036; stroke-width: 1.0;\"/></a><!--MD5=[53bc74650dd824aaea713125212a99bf]\n",
       "@startuml\r\n",
       " \r\n",
       "package \"Q\" as E1  [[psysml:6ab71797-e8f8-4bff-ada3-bad51ca07e78 ]]  {\r\n",
       "comp usage \"f\" as E2  << (P,limegreen) part>> [[psysml:c02a2287-c712-494f-86c8-48c213fef3aa ]] {\r\n",
       "}\r\n",
       "comp usage \"a\" as E3  << (P,limegreen) part>> [[psysml:b53848ad-4a38-46bd-bd01-a08ed5bc4cea ]] {\r\n",
       "}\r\n",
       "comp def \"C\" as E4  << (B,green) >> [[psysml:562783b8-e65b-4087-86a0-89c793c14f93 ]] {\r\n",
       "}\r\n",
       "comp usage \"g\" as E5  << (P,limegreen) part>> [[psysml:ab356c3f-6fc6-498c-877e-f29aa221dc38 ]] {\r\n",
       "}\r\n",
       "E2 *- - E3 [[psysml:3a53f0eb-5b79-463f-97a3-37a7a9b28614 ]] \r\n",
       "E4 *- - E5 [[psysml:b96f3833-0cb6-4ba3-9671-acfc6ae0d964 ]] \r\n",
       "}\r\n",
       "@enduml\r\n",
       "\n",
       "PlantUML version 1.2020.13(Sat Jun 13 12:26:38 UTC 2020)\n",
       "(EPL source distribution)\n",
       "Java Runtime: OpenJDK Runtime Environment\n",
       "JVM: OpenJDK 64-Bit Server VM\n",
       "Default Encoding: UTF-8\n",
       "Language: en\n",
       "Country: null\n",
       "--></g></svg>"
      ]
     },
     "execution_count": 31,
     "metadata": {},
     "output_type": "execute_result"
    }
   ],
   "source": [
    "%viz --style=\"PLANTUML\" --view=\"Tree\" \"Q\""
   ]
  },
  {
   "cell_type": "code",
   "execution_count": 32,
   "id": "7e03726b",
   "metadata": {
    "execution": {
     "iopub.execute_input": "2021-04-20T06:58:46.286440Z",
     "iopub.status.busy": "2021-04-20T06:58:46.285741Z",
     "iopub.status.idle": "2021-04-20T06:58:46.377370Z",
     "shell.execute_reply": "2021-04-20T06:58:46.377714Z"
    }
   },
   "outputs": [
    {
     "data": {
      "image/svg+xml": [
       "<?xml version=\"1.0\" encoding=\"UTF-8\" standalone=\"no\"?><svg xmlns=\"http://www.w3.org/2000/svg\" xmlns:xlink=\"http://www.w3.org/1999/xlink\" contentScriptType=\"application/ecmascript\" contentStyleType=\"text/css\" height=\"303px\" preserveAspectRatio=\"none\" style=\"width:603px;height:303px;background:#000000;\" version=\"1.1\" viewBox=\"0 0 603 303\" width=\"603px\" zoomAndPan=\"magnify\"><defs/><g><rect fill=\"#1D161F\" height=\"1\" style=\"stroke: #1D161F; stroke-width: 1.0;\" width=\"1\" x=\"0\" y=\"0\"/><rect fill=\"#FFFFFF\" height=\"205.5625\" style=\"stroke: #FFFFFF; stroke-width: 1.0;\" width=\"602\" x=\"0\" y=\"0\"/><text fill=\"#000000\" font-family=\"sans-serif\" font-size=\"12\" font-weight=\"bold\" lengthAdjust=\"spacingAndGlyphs\" textLength=\"159\" x=\"5\" y=\"16.1387\">Welcome to PlantUML!</text><text fill=\"#000000\" font-family=\"sans-serif\" font-size=\"12\" lengthAdjust=\"spacingAndGlyphs\" textLength=\"0\" x=\"9\" y=\"30.1074\"/><text fill=\"#000000\" font-family=\"sans-serif\" font-size=\"12\" lengthAdjust=\"spacingAndGlyphs\" textLength=\"293\" x=\"5\" y=\"44.0762\">If you use this software, you accept its license.</text><text fill=\"#000000\" font-family=\"sans-serif\" font-size=\"12\" lengthAdjust=\"spacingAndGlyphs\" textLength=\"107\" x=\"5\" y=\"58.0449\">(details by typing</text><text fill=\"#000000\" font-family=\"monospace\" font-size=\"12\" lengthAdjust=\"spacingAndGlyphs\" textLength=\"49\" x=\"116\" y=\"58.0449\">license</text><text fill=\"#000000\" font-family=\"sans-serif\" font-size=\"12\" lengthAdjust=\"spacingAndGlyphs\" textLength=\"56\" x=\"169\" y=\"58.0449\">keyword)</text><text fill=\"#000000\" font-family=\"sans-serif\" font-size=\"12\" lengthAdjust=\"spacingAndGlyphs\" textLength=\"0\" x=\"9\" y=\"72.0137\"/><text fill=\"#000000\" font-family=\"sans-serif\" font-size=\"12\" lengthAdjust=\"spacingAndGlyphs\" textLength=\"283\" x=\"5\" y=\"85.9824\">You can start with a simple UML Diagram like:</text><text fill=\"#000000\" font-family=\"sans-serif\" font-size=\"12\" lengthAdjust=\"spacingAndGlyphs\" textLength=\"0\" x=\"9\" y=\"99.9512\"/><text fill=\"#000000\" font-family=\"monospace\" font-size=\"12\" lengthAdjust=\"spacingAndGlyphs\" textLength=\"119\" x=\"5\" y=\"113.9199\">Bob-&gt;Alice: Hello</text><text fill=\"#000000\" font-family=\"sans-serif\" font-size=\"12\" lengthAdjust=\"spacingAndGlyphs\" textLength=\"0\" x=\"9\" y=\"127.8887\"/><text fill=\"#000000\" font-family=\"sans-serif\" font-size=\"12\" lengthAdjust=\"spacingAndGlyphs\" textLength=\"14\" x=\"5\" y=\"141.8574\">Or</text><text fill=\"#000000\" font-family=\"sans-serif\" font-size=\"12\" lengthAdjust=\"spacingAndGlyphs\" textLength=\"0\" x=\"9\" y=\"155.8262\"/><text fill=\"#000000\" font-family=\"monospace\" font-size=\"12\" lengthAdjust=\"spacingAndGlyphs\" textLength=\"91\" x=\"5\" y=\"169.7949\">class Example</text><text fill=\"#000000\" font-family=\"sans-serif\" font-size=\"12\" lengthAdjust=\"spacingAndGlyphs\" textLength=\"0\" x=\"9\" y=\"183.7637\"/><text fill=\"#000000\" font-family=\"sans-serif\" font-size=\"12\" lengthAdjust=\"spacingAndGlyphs\" textLength=\"349\" x=\"5\" y=\"197.7324\">You will find more information about PlantUML syntax on</text><text fill=\"#000000\" font-family=\"sans-serif\" font-size=\"12\" lengthAdjust=\"spacingAndGlyphs\" text-decoration=\"underline\" textLength=\"129\" x=\"358\" y=\"197.7324\">https://plantuml.com</text><image height=\"71\" width=\"80\" x=\"516\" xlink:href=\"data:image/png;base64,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\" y=\"6\"/><rect fill=\"#000000\" height=\"96.4844\" style=\"stroke: #000000; stroke-width: 1.0;\" width=\"602\" x=\"0\" y=\"205.5625\"/><rect fill=\"#33FF02\" height=\"21.2969\" style=\"stroke: #33FF02; stroke-width: 1.0;\" width=\"170\" x=\"5\" y=\"210.5625\"/><text fill=\"#000000\" font-family=\"sans-serif\" font-size=\"14\" font-weight=\"bold\" lengthAdjust=\"spacingAndGlyphs\" textLength=\"168\" x=\"6\" y=\"225.5625\">[From string (line 2) ]</text><text fill=\"#33FF02\" font-family=\"sans-serif\" font-size=\"14\" font-weight=\"bold\" lengthAdjust=\"spacingAndGlyphs\" textLength=\"0\" x=\"10\" y=\"245.8594\"/><text fill=\"#33FF02\" font-family=\"sans-serif\" font-size=\"14\" font-weight=\"bold\" lengthAdjust=\"spacingAndGlyphs\" textLength=\"79\" x=\"5\" y=\"262.1563\">@startuml</text><text fill=\"#33FF02\" font-family=\"sans-serif\" font-size=\"14\" font-weight=\"bold\" lengthAdjust=\"spacingAndGlyphs\" textLength=\"0\" x=\"10\" y=\"278.4531\"/><text fill=\"#FF0000\" font-family=\"sans-serif\" font-size=\"14\" font-weight=\"bold\" lengthAdjust=\"spacingAndGlyphs\" textLength=\"142\" x=\"10\" y=\"294.75\">Empty description</text><!--MD5=[f59edd8218d337f74d0c332fc6737304]\n",
       "@startuml\r\n",
       " \r\n",
       "@enduml\r\n",
       "\n",
       "PlantUML version 1.2020.13(Sat Jun 13 12:26:38 UTC 2020)\n",
       "(EPL source distribution)\n",
       "Java Runtime: OpenJDK Runtime Environment\n",
       "JVM: OpenJDK 64-Bit Server VM\n",
       "Default Encoding: UTF-8\n",
       "Language: en\n",
       "Country: null\n",
       "--></g></svg>"
      ]
     },
     "execution_count": 32,
     "metadata": {},
     "output_type": "execute_result"
    }
   ],
   "source": [
    "%viz --style=\"PLANTUML\" --view=\"State\" \"Q\""
   ]
  },
  {
   "cell_type": "code",
   "execution_count": 33,
   "id": "6d339d28",
   "metadata": {
    "execution": {
     "iopub.execute_input": "2021-04-20T06:58:46.428204Z",
     "iopub.status.busy": "2021-04-20T06:58:46.427651Z",
     "iopub.status.idle": "2021-04-20T06:58:46.456944Z",
     "shell.execute_reply": "2021-04-20T06:58:46.456639Z"
    }
   },
   "outputs": [
    {
     "data": {
      "image/svg+xml": [
       "<?xml version=\"1.0\" encoding=\"UTF-8\" standalone=\"no\"?><svg xmlns=\"http://www.w3.org/2000/svg\" xmlns:xlink=\"http://www.w3.org/1999/xlink\" contentScriptType=\"application/ecmascript\" contentStyleType=\"text/css\" height=\"176px\" preserveAspectRatio=\"none\" style=\"width:312px;height:176px;\" version=\"1.1\" viewBox=\"0 0 312 176\" width=\"312px\" zoomAndPan=\"magnify\"><defs><filter height=\"300%\" id=\"fyjxdsahoi2a8\" width=\"300%\" x=\"-1\" y=\"-1\"><feGaussianBlur result=\"blurOut\" stdDeviation=\"2.0\"/><feColorMatrix in=\"blurOut\" result=\"blurOut2\" type=\"matrix\" values=\"0 0 0 0 0 0 0 0 0 0 0 0 0 0 0 0 0 0 .4 0\"/><feOffset dx=\"4.0\" dy=\"4.0\" in=\"blurOut2\" result=\"blurOut3\"/><feBlend in=\"SourceGraphic\" in2=\"blurOut3\" mode=\"normal\"/></filter></defs><g><!--MD5=[fbc87193dbaf4d95561dea2c320d4a47]\n",
       "cluster E1--><a href=\"psysml:6ab71797-e8f8-4bff-ada3-bad51ca07e78\" target=\"_top\" title=\"psysml:6ab71797-e8f8-4bff-ada3-bad51ca07e78\" xlink:actuate=\"onRequest\" xlink:href=\"psysml:6ab71797-e8f8-4bff-ada3-bad51ca07e78\" xlink:show=\"new\" xlink:title=\"psysml:6ab71797-e8f8-4bff-ada3-bad51ca07e78\" xlink:type=\"simple\"><polygon fill=\"#FFFFFF\" filter=\"url(#fyjxdsahoi2a8)\" points=\"16,6,34,6,41,28.2969,290,28.2969,290,164,16,164,16,6\" style=\"stroke: #000000; stroke-width: 1.5;\"/><line style=\"stroke: #000000; stroke-width: 1.5;\" x1=\"16\" x2=\"41\" y1=\"28.2969\" y2=\"28.2969\"/><text fill=\"#000000\" font-family=\"sans-serif\" font-size=\"14\" font-weight=\"bold\" lengthAdjust=\"spacingAndGlyphs\" textLength=\"12\" x=\"20\" y=\"20.9951\">Q</text></a><!--MD5=[e4f7fae6ed58524ba242bb0b0d3be6b7]\n",
       "cluster E2--><a href=\"psysml:c02a2287-c712-494f-86c8-48c213fef3aa\" target=\"_top\" title=\"psysml:c02a2287-c712-494f-86c8-48c213fef3aa\" xlink:actuate=\"onRequest\" xlink:href=\"psysml:c02a2287-c712-494f-86c8-48c213fef3aa\" xlink:show=\"new\" xlink:title=\"psysml:c02a2287-c712-494f-86c8-48c213fef3aa\" xlink:type=\"simple\"><rect fill=\"#FFFFFF\" filter=\"url(#fyjxdsahoi2a8)\" height=\"91\" id=\"E2\" rx=\"10\" ry=\"10\" style=\"stroke: #A80036; stroke-width: 1.5;\" width=\"82\" x=\"184\" y=\"49\"/><rect fill=\"#FEFECE\" height=\"23.9688\" rx=\"10\" ry=\"10\" style=\"stroke: #FEFECE; stroke-width: 1.5;\" width=\"82\" x=\"184\" y=\"49\"/><rect fill=\"#FEFECE\" height=\"10\" style=\"stroke: #FEFECE; stroke-width: 1.5;\" width=\"82\" x=\"184\" y=\"62.9688\"/><rect fill=\"none\" height=\"91\" id=\"E2\" rx=\"10\" ry=\"10\" style=\"stroke: #A80036; stroke-width: 1.5;\" width=\"82\" x=\"184\" y=\"49\"/><text fill=\"#000000\" font-family=\"sans-serif\" font-size=\"12\" lengthAdjust=\"spacingAndGlyphs\" textLength=\"4\" x=\"223\" y=\"65.1387\">f</text><line style=\"stroke: #A80036; stroke-width: 1.0;\" x1=\"184\" x2=\"266\" y1=\"72.9688\" y2=\"72.9688\"/></a><!--MD5=[f6df4d0ebaf0b5dfb2ced0ae5af7c670]\n",
       "cluster E4--><a href=\"psysml:562783b8-e65b-4087-86a0-89c793c14f93\" target=\"_top\" title=\"psysml:562783b8-e65b-4087-86a0-89c793c14f93\" xlink:actuate=\"onRequest\" xlink:href=\"psysml:562783b8-e65b-4087-86a0-89c793c14f93\" xlink:show=\"new\" xlink:title=\"psysml:562783b8-e65b-4087-86a0-89c793c14f93\" xlink:type=\"simple\"><rect fill=\"#FFFFFF\" filter=\"url(#fyjxdsahoi2a8)\" height=\"91\" id=\"E4\" style=\"stroke: #A80036; stroke-width: 1.5;\" width=\"120\" x=\"40\" y=\"49\"/><rect fill=\"#FEFECE\" height=\"23.9688\" style=\"stroke: #A80036; stroke-width: 1.5;\" width=\"120\" x=\"40\" y=\"49\"/><text fill=\"#000000\" font-family=\"sans-serif\" font-size=\"12\" lengthAdjust=\"spacingAndGlyphs\" textLength=\"8\" x=\"96\" y=\"65.1387\">C</text></a><g id=\"E1.E2.E3\"><a href=\"psysml:b53848ad-4a38-46bd-bd01-a08ed5bc4cea\" target=\"_top\" title=\"psysml:b53848ad-4a38-46bd-bd01-a08ed5bc4cea\" xlink:actuate=\"onRequest\" xlink:href=\"psysml:b53848ad-4a38-46bd-bd01-a08ed5bc4cea\" xlink:show=\"new\" xlink:title=\"psysml:b53848ad-4a38-46bd-bd01-a08ed5bc4cea\" xlink:type=\"simple\"><rect fill=\"#FEFECE\" filter=\"url(#fyjxdsahoi2a8)\" height=\"40\" id=\"E3\" rx=\"10\" ry=\"10\" style=\"stroke: #A80036; stroke-width: 1.5;\" width=\"50\" x=\"200\" y=\"84\"/><ellipse cx=\"219.5\" cy=\"100\" fill=\"#B6DBBB\" rx=\"11\" ry=\"11\" style=\"stroke: #A80036; stroke-width: 1.0;\"/><path d=\"M215.375,101.9219 L215.375,94.1094 L217.8281,94.1094 L217.8281,102.5469 Q217.8281,103.4688 218.2969,104 Q218.7813,104.5313 219.6094,104.5313 Q220.4531,104.5313 220.9219,104 Q221.3906,103.4688 221.3906,102.5469 L221.3906,94.1094 L223.8438,94.1094 L223.8438,101.9219 Q223.8438,104.4531 222.8438,105.5938 Q221.8438,106.7344 219.6094,106.7344 Q217.3906,106.7344 216.375,105.5938 Q215.375,104.4531 215.375,101.9219 Z \"/><text fill=\"#000000\" font-family=\"sans-serif\" font-size=\"12\" lengthAdjust=\"spacingAndGlyphs\" textLength=\"8\" x=\"234.5\" y=\"104.1543\">a</text></a></g><g id=\"E1.E4.E5\"><a href=\"psysml:ab356c3f-6fc6-498c-877e-f29aa221dc38\" target=\"_top\" title=\"psysml:ab356c3f-6fc6-498c-877e-f29aa221dc38\" xlink:actuate=\"onRequest\" xlink:href=\"psysml:ab356c3f-6fc6-498c-877e-f29aa221dc38\" xlink:show=\"new\" xlink:title=\"psysml:ab356c3f-6fc6-498c-877e-f29aa221dc38\" xlink:type=\"simple\"><rect fill=\"#FEFECE\" filter=\"url(#fyjxdsahoi2a8)\" height=\"40\" id=\"E5\" rx=\"10\" ry=\"10\" style=\"stroke: #A80036; stroke-width: 1.5;\" width=\"87\" x=\"56.5\" y=\"84\"/><ellipse cx=\"73.75\" cy=\"100\" fill=\"#B6DBBB\" rx=\"11\" ry=\"11\" style=\"stroke: #A80036; stroke-width: 1.0;\"/><path d=\"M69.625,101.9219 L69.625,94.1094 L72.0781,94.1094 L72.0781,102.5469 Q72.0781,103.4688 72.5469,104 Q73.0313,104.5313 73.8594,104.5313 Q74.7031,104.5313 75.1719,104 Q75.6406,103.4688 75.6406,102.5469 L75.6406,94.1094 L78.0938,94.1094 L78.0938,101.9219 Q78.0938,104.4531 77.0938,105.5938 Q76.0938,106.7344 73.8594,106.7344 Q71.6406,106.7344 70.625,105.5938 Q69.625,104.4531 69.625,101.9219 Z \"/><text fill=\"#000000\" font-family=\"sans-serif\" font-size=\"12\" lengthAdjust=\"spacingAndGlyphs\" textLength=\"46\" x=\"88.25\" y=\"104.1543\">g=./f/a;</text></a></g><!--MD5=[2a2b7694e7892c67404d9acc085069dc]\n",
       "@startuml\r\n",
       "skinparam ranksep 10\r\n",
       "skinparam rectangle {\r\n",
       " backgroundColor<<block>> LightGreen\r\n",
       "}\r\n",
       " \r\n",
       "package \"Q\" as E1  [[psysml:6ab71797-e8f8-4bff-ada3-bad51ca07e78 ]]  {\r\n",
       "rec usage \"f\" as E2  [[psysml:c02a2287-c712-494f-86c8-48c213fef3aa ]] {\r\n",
       "rec usage \"a\" as E3  [[psysml:b53848ad-4a38-46bd-bd01-a08ed5bc4cea ]] {\r\n",
       "}\r\n",
       "}\r\n",
       "rec def \"C\" as E4  << (B,green) >> [[psysml:562783b8-e65b-4087-86a0-89c793c14f93 ]] {\r\n",
       "rec usage \"g=./f/a; \" as E5  [[psysml:ab356c3f-6fc6-498c-877e-f29aa221dc38 ]] {\r\n",
       "}\r\n",
       "}\r\n",
       "}\r\n",
       "@enduml\r\n",
       "\n",
       "PlantUML version 1.2020.13(Sat Jun 13 12:26:38 UTC 2020)\n",
       "(EPL source distribution)\n",
       "Java Runtime: OpenJDK Runtime Environment\n",
       "JVM: OpenJDK 64-Bit Server VM\n",
       "Default Encoding: UTF-8\n",
       "Language: en\n",
       "Country: null\n",
       "--></g></svg>"
      ]
     },
     "execution_count": 33,
     "metadata": {},
     "output_type": "execute_result"
    }
   ],
   "source": [
    "%viz --style=\"PLANTUML\" --view=\"Interconnection\" \"Q\""
   ]
  },
  {
   "cell_type": "code",
   "execution_count": 34,
   "id": "ac378baa",
   "metadata": {
    "execution": {
     "iopub.execute_input": "2021-04-20T06:58:46.508322Z",
     "iopub.status.busy": "2021-04-20T06:58:46.507622Z",
     "iopub.status.idle": "2021-04-20T06:58:46.513219Z",
     "shell.execute_reply": "2021-04-20T06:58:46.512816Z"
    }
   },
   "outputs": [
    {
     "data": {
      "image/svg+xml": [
       "<?xml version=\"1.0\" encoding=\"UTF-8\" standalone=\"no\"?><svg xmlns=\"http://www.w3.org/2000/svg\" xmlns:xlink=\"http://www.w3.org/1999/xlink\" contentScriptType=\"application/ecmascript\" contentStyleType=\"text/css\" height=\"12px\" preserveAspectRatio=\"none\" style=\"width:12px;height:12px;\" version=\"1.1\" viewBox=\"0 0 12 12\" width=\"12px\" zoomAndPan=\"magnify\"><defs/><g><!--MD5=[6a4cb978cab31700e1ce5529f947a75d]\n",
       "@startuml\r\n",
       "skinparam ranksep 8\r\n",
       " \r\n",
       "@enduml\r\n",
       "\n",
       "PlantUML version 1.2020.13(Sat Jun 13 12:26:38 UTC 2020)\n",
       "(EPL source distribution)\n",
       "Java Runtime: OpenJDK Runtime Environment\n",
       "JVM: OpenJDK 64-Bit Server VM\n",
       "Default Encoding: UTF-8\n",
       "Language: en\n",
       "Country: null\n",
       "--></g></svg>"
      ]
     },
     "execution_count": 34,
     "metadata": {},
     "output_type": "execute_result"
    }
   ],
   "source": [
    "%viz --style=\"PLANTUML\" --view=\"Action\" \"Q\""
   ]
  },
  {
   "cell_type": "code",
   "execution_count": 35,
   "id": "30bee898",
   "metadata": {
    "execution": {
     "iopub.execute_input": "2021-04-20T06:58:46.563980Z",
     "iopub.status.busy": "2021-04-20T06:58:46.563522Z",
     "iopub.status.idle": "2021-04-20T06:58:46.600245Z",
     "shell.execute_reply": "2021-04-20T06:58:46.599834Z"
    }
   },
   "outputs": [
    {
     "data": {
      "image/svg+xml": [
       "<?xml version=\"1.0\" encoding=\"UTF-8\" standalone=\"no\"?><svg xmlns=\"http://www.w3.org/2000/svg\" xmlns:xlink=\"http://www.w3.org/1999/xlink\" contentScriptType=\"application/ecmascript\" contentStyleType=\"text/css\" height=\"221px\" preserveAspectRatio=\"none\" style=\"width:241px;height:221px;\" version=\"1.1\" viewBox=\"0 0 241 221\" width=\"241px\" zoomAndPan=\"magnify\"><defs><filter height=\"300%\" id=\"f2pjumyei17bc\" width=\"300%\" x=\"-1\" y=\"-1\"><feGaussianBlur result=\"blurOut\" stdDeviation=\"2.0\"/><feColorMatrix in=\"blurOut\" result=\"blurOut2\" type=\"matrix\" values=\"0 0 0 0 0 0 0 0 0 0 0 0 0 0 0 0 0 0 .4 0\"/><feOffset dx=\"4.0\" dy=\"4.0\" in=\"blurOut2\" result=\"blurOut3\"/><feBlend in=\"SourceGraphic\" in2=\"blurOut3\" mode=\"normal\"/></filter></defs><g><!--MD5=[fbc87193dbaf4d95561dea2c320d4a47]\n",
       "cluster E1--><a href=\"psysml:6ab71797-e8f8-4bff-ada3-bad51ca07e78\" target=\"_top\" title=\"psysml:6ab71797-e8f8-4bff-ada3-bad51ca07e78\" xlink:actuate=\"onRequest\" xlink:href=\"psysml:6ab71797-e8f8-4bff-ada3-bad51ca07e78\" xlink:show=\"new\" xlink:title=\"psysml:6ab71797-e8f8-4bff-ada3-bad51ca07e78\" xlink:type=\"simple\"><polygon fill=\"#FFFFFF\" filter=\"url(#f2pjumyei17bc)\" points=\"16,6,34,6,41,28.2969,219,28.2969,219,209,16,209,16,6\" style=\"stroke: #000000; stroke-width: 1.5;\"/><line style=\"stroke: #000000; stroke-width: 1.5;\" x1=\"16\" x2=\"41\" y1=\"28.2969\" y2=\"28.2969\"/><text fill=\"#000000\" font-family=\"sans-serif\" font-size=\"14\" font-weight=\"bold\" lengthAdjust=\"spacingAndGlyphs\" textLength=\"12\" x=\"20\" y=\"20.9951\">Q</text></a><!--MD5=[b4997ac47864f28c2f74865a473b2911]\n",
       "class E2--><a href=\"psysml:c02a2287-c712-494f-86c8-48c213fef3aa\" target=\"_top\" title=\"psysml:c02a2287-c712-494f-86c8-48c213fef3aa\" xlink:actuate=\"onRequest\" xlink:href=\"psysml:c02a2287-c712-494f-86c8-48c213fef3aa\" xlink:show=\"new\" xlink:title=\"psysml:c02a2287-c712-494f-86c8-48c213fef3aa\" xlink:type=\"simple\"><rect fill=\"#FEFECE\" filter=\"url(#f2pjumyei17bc)\" height=\"45.9375\" id=\"E2\" rx=\"10\" ry=\"10\" style=\"stroke: #A80036; stroke-width: 1.5;\" width=\"68\" x=\"135\" y=\"41\"/><ellipse cx=\"150\" cy=\"59.9688\" fill=\"#32CD32\" rx=\"11\" ry=\"11\" style=\"stroke: #A80036; stroke-width: 1.0;\"/><path d=\"M149.7969,55.6406 L149.7969,59.2656 L150.7969,59.2656 Q152,59.2656 152.4844,58.8594 Q152.9688,58.4531 152.9688,57.4531 Q152.9688,56.4531 152.4844,56.0469 Q152,55.6406 150.7969,55.6406 L149.7969,55.6406 Z M147.3438,53.5781 L150.7031,53.5781 Q153.2656,53.5781 154.3906,54.5 Q155.5156,55.4063 155.5156,57.4531 Q155.5156,59.5 154.3906,60.4219 Q153.2656,61.3281 150.7031,61.3281 L149.7969,61.3281 L149.7969,65.9688 L147.3438,65.9688 L147.3438,53.5781 Z \"/><text fill=\"#000000\" font-family=\"sans-serif\" font-size=\"12\" font-style=\"italic\" lengthAdjust=\"spacingAndGlyphs\" textLength=\"40\" x=\"162\" y=\"57.1387\">«part»</text><text fill=\"#000000\" font-family=\"sans-serif\" font-size=\"12\" lengthAdjust=\"spacingAndGlyphs\" textLength=\"4\" x=\"180\" y=\"71.1074\">f</text><line style=\"stroke: #A80036; stroke-width: 1.5;\" x1=\"136\" x2=\"202\" y1=\"78.9375\" y2=\"78.9375\"/></a><!--MD5=[09b614a08d8cba4a07c9adeb5e0fee81]\n",
       "class E3--><a href=\"psysml:b53848ad-4a38-46bd-bd01-a08ed5bc4cea\" target=\"_top\" title=\"psysml:b53848ad-4a38-46bd-bd01-a08ed5bc4cea\" xlink:actuate=\"onRequest\" xlink:href=\"psysml:b53848ad-4a38-46bd-bd01-a08ed5bc4cea\" xlink:show=\"new\" xlink:title=\"psysml:b53848ad-4a38-46bd-bd01-a08ed5bc4cea\" xlink:type=\"simple\"><rect fill=\"#FEFECE\" filter=\"url(#f2pjumyei17bc)\" height=\"45.9375\" id=\"E3\" rx=\"10\" ry=\"10\" style=\"stroke: #A80036; stroke-width: 1.5;\" width=\"68\" x=\"135\" y=\"147\"/><ellipse cx=\"150\" cy=\"165.9688\" fill=\"#32CD32\" rx=\"11\" ry=\"11\" style=\"stroke: #A80036; stroke-width: 1.0;\"/><path d=\"M149.7969,161.6406 L149.7969,165.2656 L150.7969,165.2656 Q152,165.2656 152.4844,164.8594 Q152.9688,164.4531 152.9688,163.4531 Q152.9688,162.4531 152.4844,162.0469 Q152,161.6406 150.7969,161.6406 L149.7969,161.6406 Z M147.3438,159.5781 L150.7031,159.5781 Q153.2656,159.5781 154.3906,160.5 Q155.5156,161.4063 155.5156,163.4531 Q155.5156,165.5 154.3906,166.4219 Q153.2656,167.3281 150.7031,167.3281 L149.7969,167.3281 L149.7969,171.9688 L147.3438,171.9688 L147.3438,159.5781 Z \"/><text fill=\"#000000\" font-family=\"sans-serif\" font-size=\"12\" font-style=\"italic\" lengthAdjust=\"spacingAndGlyphs\" textLength=\"40\" x=\"162\" y=\"163.1387\">«part»</text><text fill=\"#000000\" font-family=\"sans-serif\" font-size=\"12\" lengthAdjust=\"spacingAndGlyphs\" textLength=\"8\" x=\"178\" y=\"177.1074\">a</text><line style=\"stroke: #A80036; stroke-width: 1.5;\" x1=\"136\" x2=\"202\" y1=\"184.9375\" y2=\"184.9375\"/></a><!--MD5=[ebbe1d658d1005bcc118a6aa81145e00]\n",
       "class E4--><a href=\"psysml:562783b8-e65b-4087-86a0-89c793c14f93\" target=\"_top\" title=\"psysml:562783b8-e65b-4087-86a0-89c793c14f93\" xlink:actuate=\"onRequest\" xlink:href=\"psysml:562783b8-e65b-4087-86a0-89c793c14f93\" xlink:show=\"new\" xlink:title=\"psysml:562783b8-e65b-4087-86a0-89c793c14f93\" xlink:type=\"simple\"><rect fill=\"#FEFECE\" filter=\"url(#f2pjumyei17bc)\" height=\"40\" id=\"E4\" style=\"stroke: #A80036; stroke-width: 1.5;\" width=\"40\" x=\"46\" y=\"44\"/><ellipse cx=\"61\" cy=\"60\" fill=\"#008000\" rx=\"11\" ry=\"11\" style=\"stroke: #A80036; stroke-width: 1.0;\"/><path d=\"M59.9063,60.375 L59.9063,64.0469 L61.5313,64.0469 Q62.7031,64.0469 63.1719,63.6563 Q63.6406,63.25 63.6406,62.25 Q63.6406,61.25 63.1406,60.8125 Q62.6563,60.375 61.5313,60.375 L59.9063,60.375 Z M59.9063,55.5469 L59.9063,58.4219 L61.5313,58.4219 Q62.4531,58.4219 62.8438,58.0938 Q63.25,57.75 63.25,57 Q63.25,56.2344 62.8438,55.8906 Q62.4375,55.5469 61.5313,55.5469 L59.9063,55.5469 Z M57.5313,53.5938 L61.5313,53.5938 Q63.5938,53.5938 64.6406,54.375 Q65.6875,55.1563 65.6875,56.7188 Q65.6875,57.9219 65.0625,58.5938 Q64.4531,59.2656 63.2656,59.375 Q64.6875,59.5156 65.4063,60.3281 Q66.125,61.1406 66.125,62.5938 Q66.125,64.3906 65.0469,65.2031 Q63.9688,66 61.5313,66 L57.5313,66 L57.5313,53.5938 Z \"/><text fill=\"#000000\" font-family=\"sans-serif\" font-size=\"12\" lengthAdjust=\"spacingAndGlyphs\" textLength=\"8\" x=\"75\" y=\"64.1543\">C</text><line style=\"stroke: #A80036; stroke-width: 1.5;\" x1=\"47\" x2=\"85\" y1=\"76\" y2=\"76\"/></a><!--MD5=[270fce915f116d4de14055a7c1d9a0f3]\n",
       "class E5--><a href=\"psysml:ab356c3f-6fc6-498c-877e-f29aa221dc38\" target=\"_top\" title=\"psysml:ab356c3f-6fc6-498c-877e-f29aa221dc38\" xlink:actuate=\"onRequest\" xlink:href=\"psysml:ab356c3f-6fc6-498c-877e-f29aa221dc38\" xlink:show=\"new\" xlink:title=\"psysml:ab356c3f-6fc6-498c-877e-f29aa221dc38\" xlink:type=\"simple\"><rect fill=\"#FEFECE\" filter=\"url(#f2pjumyei17bc)\" height=\"45.9375\" id=\"E5\" rx=\"10\" ry=\"10\" style=\"stroke: #A80036; stroke-width: 1.5;\" width=\"68\" x=\"32\" y=\"147\"/><ellipse cx=\"47\" cy=\"165.9688\" fill=\"#32CD32\" rx=\"11\" ry=\"11\" style=\"stroke: #A80036; stroke-width: 1.0;\"/><path d=\"M46.7969,161.6406 L46.7969,165.2656 L47.7969,165.2656 Q49,165.2656 49.4844,164.8594 Q49.9688,164.4531 49.9688,163.4531 Q49.9688,162.4531 49.4844,162.0469 Q49,161.6406 47.7969,161.6406 L46.7969,161.6406 Z M44.3438,159.5781 L47.7031,159.5781 Q50.2656,159.5781 51.3906,160.5 Q52.5156,161.4063 52.5156,163.4531 Q52.5156,165.5 51.3906,166.4219 Q50.2656,167.3281 47.7031,167.3281 L46.7969,167.3281 L46.7969,171.9688 L44.3438,171.9688 L44.3438,159.5781 Z \"/><text fill=\"#000000\" font-family=\"sans-serif\" font-size=\"12\" font-style=\"italic\" lengthAdjust=\"spacingAndGlyphs\" textLength=\"40\" x=\"59\" y=\"163.1387\">«part»</text><text fill=\"#000000\" font-family=\"sans-serif\" font-size=\"12\" lengthAdjust=\"spacingAndGlyphs\" textLength=\"8\" x=\"75\" y=\"177.1074\">g</text><line style=\"stroke: #A80036; stroke-width: 1.5;\" x1=\"33\" x2=\"99\" y1=\"184.9375\" y2=\"184.9375\"/></a><!--MD5=[209b3feb70ccb6233bfe1053d122c12c]\n",
       "reverse link E2 to E3--><a href=\"psysml:3a53f0eb-5b79-463f-97a3-37a7a9b28614\" target=\"_top\" title=\"psysml:3a53f0eb-5b79-463f-97a3-37a7a9b28614\" xlink:actuate=\"onRequest\" xlink:href=\"psysml:3a53f0eb-5b79-463f-97a3-37a7a9b28614\" xlink:show=\"new\" xlink:title=\"psysml:3a53f0eb-5b79-463f-97a3-37a7a9b28614\" xlink:type=\"simple\"><path d=\"M169,100.44 C169,115.87 169,133.47 169,146.98 \" fill=\"none\" id=\"E2&lt;-E3\" style=\"stroke: #A80036; stroke-width: 1.0;\"/><polygon fill=\"#A80036\" points=\"169,87.06,165,93.06,169,99.06,173,93.06,169,87.06\" style=\"stroke: #A80036; stroke-width: 1.0;\"/></a><!--MD5=[62aa6af11e70f752912c1cb0466f24f7]\n",
       "reverse link E4 to E5--><a href=\"psysml:b96f3833-0cb6-4ba3-9671-acfc6ae0d964\" target=\"_top\" title=\"psysml:b96f3833-0cb6-4ba3-9671-acfc6ae0d964\" xlink:actuate=\"onRequest\" xlink:href=\"psysml:b96f3833-0cb6-4ba3-9671-acfc6ae0d964\" xlink:show=\"new\" xlink:title=\"psysml:b96f3833-0cb6-4ba3-9671-acfc6ae0d964\" xlink:type=\"simple\"><path d=\"M66,97.25 C66,113.33 66,132.37 66,146.8 \" fill=\"none\" id=\"E4&lt;-E5\" style=\"stroke: #A80036; stroke-width: 1.0;\"/><polygon fill=\"#A80036\" points=\"66,84.08,62,90.08,66,96.08,70,90.08,66,84.08\" style=\"stroke: #A80036; stroke-width: 1.0;\"/></a><!--MD5=[53bc74650dd824aaea713125212a99bf]\n",
       "@startuml\r\n",
       " \r\n",
       "package \"Q\" as E1  [[psysml:6ab71797-e8f8-4bff-ada3-bad51ca07e78 ]]  {\r\n",
       "comp usage \"f\" as E2  << (P,limegreen) part>> [[psysml:c02a2287-c712-494f-86c8-48c213fef3aa ]] {\r\n",
       "}\r\n",
       "comp usage \"a\" as E3  << (P,limegreen) part>> [[psysml:b53848ad-4a38-46bd-bd01-a08ed5bc4cea ]] {\r\n",
       "}\r\n",
       "comp def \"C\" as E4  << (B,green) >> [[psysml:562783b8-e65b-4087-86a0-89c793c14f93 ]] {\r\n",
       "}\r\n",
       "comp usage \"g\" as E5  << (P,limegreen) part>> [[psysml:ab356c3f-6fc6-498c-877e-f29aa221dc38 ]] {\r\n",
       "}\r\n",
       "E2 *- - E3 [[psysml:3a53f0eb-5b79-463f-97a3-37a7a9b28614 ]] \r\n",
       "E4 *- - E5 [[psysml:b96f3833-0cb6-4ba3-9671-acfc6ae0d964 ]] \r\n",
       "}\r\n",
       "@enduml\r\n",
       "\n",
       "PlantUML version 1.2020.13(Sat Jun 13 12:26:38 UTC 2020)\n",
       "(EPL source distribution)\n",
       "Java Runtime: OpenJDK Runtime Environment\n",
       "JVM: OpenJDK 64-Bit Server VM\n",
       "Default Encoding: UTF-8\n",
       "Language: en\n",
       "Country: null\n",
       "--></g></svg>"
      ]
     },
     "execution_count": 35,
     "metadata": {},
     "output_type": "execute_result"
    }
   ],
   "source": [
    "%viz --style=\"PLANTUML\" --view=\"Sequence\" \"Q\""
   ]
  },
  {
   "cell_type": "code",
   "execution_count": 36,
   "id": "e3187a2d",
   "metadata": {
    "execution": {
     "iopub.execute_input": "2021-04-20T06:58:46.651460Z",
     "iopub.status.busy": "2021-04-20T06:58:46.650885Z",
     "iopub.status.idle": "2021-04-20T06:58:46.682202Z",
     "shell.execute_reply": "2021-04-20T06:58:46.681431Z"
    }
   },
   "outputs": [
    {
     "data": {
      "image/svg+xml": [
       "<?xml version=\"1.0\" encoding=\"UTF-8\" standalone=\"no\"?><svg xmlns=\"http://www.w3.org/2000/svg\" xmlns:xlink=\"http://www.w3.org/1999/xlink\" contentScriptType=\"application/ecmascript\" contentStyleType=\"text/css\" height=\"221px\" preserveAspectRatio=\"none\" style=\"width:241px;height:221px;\" version=\"1.1\" viewBox=\"0 0 241 221\" width=\"241px\" zoomAndPan=\"magnify\"><defs><filter height=\"300%\" id=\"f2pjumyei17bc\" width=\"300%\" x=\"-1\" y=\"-1\"><feGaussianBlur result=\"blurOut\" stdDeviation=\"2.0\"/><feColorMatrix in=\"blurOut\" result=\"blurOut2\" type=\"matrix\" values=\"0 0 0 0 0 0 0 0 0 0 0 0 0 0 0 0 0 0 .4 0\"/><feOffset dx=\"4.0\" dy=\"4.0\" in=\"blurOut2\" result=\"blurOut3\"/><feBlend in=\"SourceGraphic\" in2=\"blurOut3\" mode=\"normal\"/></filter></defs><g><!--MD5=[fbc87193dbaf4d95561dea2c320d4a47]\n",
       "cluster E1--><a href=\"psysml:6ab71797-e8f8-4bff-ada3-bad51ca07e78\" target=\"_top\" title=\"psysml:6ab71797-e8f8-4bff-ada3-bad51ca07e78\" xlink:actuate=\"onRequest\" xlink:href=\"psysml:6ab71797-e8f8-4bff-ada3-bad51ca07e78\" xlink:show=\"new\" xlink:title=\"psysml:6ab71797-e8f8-4bff-ada3-bad51ca07e78\" xlink:type=\"simple\"><polygon fill=\"#FFFFFF\" filter=\"url(#f2pjumyei17bc)\" points=\"16,6,34,6,41,28.2969,219,28.2969,219,209,16,209,16,6\" style=\"stroke: #000000; stroke-width: 1.5;\"/><line style=\"stroke: #000000; stroke-width: 1.5;\" x1=\"16\" x2=\"41\" y1=\"28.2969\" y2=\"28.2969\"/><text fill=\"#000000\" font-family=\"sans-serif\" font-size=\"14\" font-weight=\"bold\" lengthAdjust=\"spacingAndGlyphs\" textLength=\"12\" x=\"20\" y=\"20.9951\">Q</text></a><!--MD5=[b4997ac47864f28c2f74865a473b2911]\n",
       "class E2--><a href=\"psysml:c02a2287-c712-494f-86c8-48c213fef3aa\" target=\"_top\" title=\"psysml:c02a2287-c712-494f-86c8-48c213fef3aa\" xlink:actuate=\"onRequest\" xlink:href=\"psysml:c02a2287-c712-494f-86c8-48c213fef3aa\" xlink:show=\"new\" xlink:title=\"psysml:c02a2287-c712-494f-86c8-48c213fef3aa\" xlink:type=\"simple\"><rect fill=\"#FEFECE\" filter=\"url(#f2pjumyei17bc)\" height=\"45.9375\" id=\"E2\" rx=\"10\" ry=\"10\" style=\"stroke: #A80036; stroke-width: 1.5;\" width=\"68\" x=\"135\" y=\"41\"/><ellipse cx=\"150\" cy=\"59.9688\" fill=\"#32CD32\" rx=\"11\" ry=\"11\" style=\"stroke: #A80036; stroke-width: 1.0;\"/><path d=\"M149.7969,55.6406 L149.7969,59.2656 L150.7969,59.2656 Q152,59.2656 152.4844,58.8594 Q152.9688,58.4531 152.9688,57.4531 Q152.9688,56.4531 152.4844,56.0469 Q152,55.6406 150.7969,55.6406 L149.7969,55.6406 Z M147.3438,53.5781 L150.7031,53.5781 Q153.2656,53.5781 154.3906,54.5 Q155.5156,55.4063 155.5156,57.4531 Q155.5156,59.5 154.3906,60.4219 Q153.2656,61.3281 150.7031,61.3281 L149.7969,61.3281 L149.7969,65.9688 L147.3438,65.9688 L147.3438,53.5781 Z \"/><text fill=\"#000000\" font-family=\"sans-serif\" font-size=\"12\" font-style=\"italic\" lengthAdjust=\"spacingAndGlyphs\" textLength=\"40\" x=\"162\" y=\"57.1387\">«part»</text><text fill=\"#000000\" font-family=\"sans-serif\" font-size=\"12\" lengthAdjust=\"spacingAndGlyphs\" textLength=\"4\" x=\"180\" y=\"71.1074\">f</text><line style=\"stroke: #A80036; stroke-width: 1.5;\" x1=\"136\" x2=\"202\" y1=\"78.9375\" y2=\"78.9375\"/></a><!--MD5=[09b614a08d8cba4a07c9adeb5e0fee81]\n",
       "class E3--><a href=\"psysml:b53848ad-4a38-46bd-bd01-a08ed5bc4cea\" target=\"_top\" title=\"psysml:b53848ad-4a38-46bd-bd01-a08ed5bc4cea\" xlink:actuate=\"onRequest\" xlink:href=\"psysml:b53848ad-4a38-46bd-bd01-a08ed5bc4cea\" xlink:show=\"new\" xlink:title=\"psysml:b53848ad-4a38-46bd-bd01-a08ed5bc4cea\" xlink:type=\"simple\"><rect fill=\"#FEFECE\" filter=\"url(#f2pjumyei17bc)\" height=\"45.9375\" id=\"E3\" rx=\"10\" ry=\"10\" style=\"stroke: #A80036; stroke-width: 1.5;\" width=\"68\" x=\"135\" y=\"147\"/><ellipse cx=\"150\" cy=\"165.9688\" fill=\"#32CD32\" rx=\"11\" ry=\"11\" style=\"stroke: #A80036; stroke-width: 1.0;\"/><path d=\"M149.7969,161.6406 L149.7969,165.2656 L150.7969,165.2656 Q152,165.2656 152.4844,164.8594 Q152.9688,164.4531 152.9688,163.4531 Q152.9688,162.4531 152.4844,162.0469 Q152,161.6406 150.7969,161.6406 L149.7969,161.6406 Z M147.3438,159.5781 L150.7031,159.5781 Q153.2656,159.5781 154.3906,160.5 Q155.5156,161.4063 155.5156,163.4531 Q155.5156,165.5 154.3906,166.4219 Q153.2656,167.3281 150.7031,167.3281 L149.7969,167.3281 L149.7969,171.9688 L147.3438,171.9688 L147.3438,159.5781 Z \"/><text fill=\"#000000\" font-family=\"sans-serif\" font-size=\"12\" font-style=\"italic\" lengthAdjust=\"spacingAndGlyphs\" textLength=\"40\" x=\"162\" y=\"163.1387\">«part»</text><text fill=\"#000000\" font-family=\"sans-serif\" font-size=\"12\" lengthAdjust=\"spacingAndGlyphs\" textLength=\"8\" x=\"178\" y=\"177.1074\">a</text><line style=\"stroke: #A80036; stroke-width: 1.5;\" x1=\"136\" x2=\"202\" y1=\"184.9375\" y2=\"184.9375\"/></a><!--MD5=[ebbe1d658d1005bcc118a6aa81145e00]\n",
       "class E4--><a href=\"psysml:562783b8-e65b-4087-86a0-89c793c14f93\" target=\"_top\" title=\"psysml:562783b8-e65b-4087-86a0-89c793c14f93\" xlink:actuate=\"onRequest\" xlink:href=\"psysml:562783b8-e65b-4087-86a0-89c793c14f93\" xlink:show=\"new\" xlink:title=\"psysml:562783b8-e65b-4087-86a0-89c793c14f93\" xlink:type=\"simple\"><rect fill=\"#FEFECE\" filter=\"url(#f2pjumyei17bc)\" height=\"40\" id=\"E4\" style=\"stroke: #A80036; stroke-width: 1.5;\" width=\"40\" x=\"46\" y=\"44\"/><ellipse cx=\"61\" cy=\"60\" fill=\"#008000\" rx=\"11\" ry=\"11\" style=\"stroke: #A80036; stroke-width: 1.0;\"/><path d=\"M59.9063,60.375 L59.9063,64.0469 L61.5313,64.0469 Q62.7031,64.0469 63.1719,63.6563 Q63.6406,63.25 63.6406,62.25 Q63.6406,61.25 63.1406,60.8125 Q62.6563,60.375 61.5313,60.375 L59.9063,60.375 Z M59.9063,55.5469 L59.9063,58.4219 L61.5313,58.4219 Q62.4531,58.4219 62.8438,58.0938 Q63.25,57.75 63.25,57 Q63.25,56.2344 62.8438,55.8906 Q62.4375,55.5469 61.5313,55.5469 L59.9063,55.5469 Z M57.5313,53.5938 L61.5313,53.5938 Q63.5938,53.5938 64.6406,54.375 Q65.6875,55.1563 65.6875,56.7188 Q65.6875,57.9219 65.0625,58.5938 Q64.4531,59.2656 63.2656,59.375 Q64.6875,59.5156 65.4063,60.3281 Q66.125,61.1406 66.125,62.5938 Q66.125,64.3906 65.0469,65.2031 Q63.9688,66 61.5313,66 L57.5313,66 L57.5313,53.5938 Z \"/><text fill=\"#000000\" font-family=\"sans-serif\" font-size=\"12\" lengthAdjust=\"spacingAndGlyphs\" textLength=\"8\" x=\"75\" y=\"64.1543\">C</text><line style=\"stroke: #A80036; stroke-width: 1.5;\" x1=\"47\" x2=\"85\" y1=\"76\" y2=\"76\"/></a><!--MD5=[270fce915f116d4de14055a7c1d9a0f3]\n",
       "class E5--><a href=\"psysml:ab356c3f-6fc6-498c-877e-f29aa221dc38\" target=\"_top\" title=\"psysml:ab356c3f-6fc6-498c-877e-f29aa221dc38\" xlink:actuate=\"onRequest\" xlink:href=\"psysml:ab356c3f-6fc6-498c-877e-f29aa221dc38\" xlink:show=\"new\" xlink:title=\"psysml:ab356c3f-6fc6-498c-877e-f29aa221dc38\" xlink:type=\"simple\"><rect fill=\"#FEFECE\" filter=\"url(#f2pjumyei17bc)\" height=\"45.9375\" id=\"E5\" rx=\"10\" ry=\"10\" style=\"stroke: #A80036; stroke-width: 1.5;\" width=\"68\" x=\"32\" y=\"147\"/><ellipse cx=\"47\" cy=\"165.9688\" fill=\"#32CD32\" rx=\"11\" ry=\"11\" style=\"stroke: #A80036; stroke-width: 1.0;\"/><path d=\"M46.7969,161.6406 L46.7969,165.2656 L47.7969,165.2656 Q49,165.2656 49.4844,164.8594 Q49.9688,164.4531 49.9688,163.4531 Q49.9688,162.4531 49.4844,162.0469 Q49,161.6406 47.7969,161.6406 L46.7969,161.6406 Z M44.3438,159.5781 L47.7031,159.5781 Q50.2656,159.5781 51.3906,160.5 Q52.5156,161.4063 52.5156,163.4531 Q52.5156,165.5 51.3906,166.4219 Q50.2656,167.3281 47.7031,167.3281 L46.7969,167.3281 L46.7969,171.9688 L44.3438,171.9688 L44.3438,159.5781 Z \"/><text fill=\"#000000\" font-family=\"sans-serif\" font-size=\"12\" font-style=\"italic\" lengthAdjust=\"spacingAndGlyphs\" textLength=\"40\" x=\"59\" y=\"163.1387\">«part»</text><text fill=\"#000000\" font-family=\"sans-serif\" font-size=\"12\" lengthAdjust=\"spacingAndGlyphs\" textLength=\"8\" x=\"75\" y=\"177.1074\">g</text><line style=\"stroke: #A80036; stroke-width: 1.5;\" x1=\"33\" x2=\"99\" y1=\"184.9375\" y2=\"184.9375\"/></a><!--MD5=[209b3feb70ccb6233bfe1053d122c12c]\n",
       "reverse link E2 to E3--><a href=\"psysml:3a53f0eb-5b79-463f-97a3-37a7a9b28614\" target=\"_top\" title=\"psysml:3a53f0eb-5b79-463f-97a3-37a7a9b28614\" xlink:actuate=\"onRequest\" xlink:href=\"psysml:3a53f0eb-5b79-463f-97a3-37a7a9b28614\" xlink:show=\"new\" xlink:title=\"psysml:3a53f0eb-5b79-463f-97a3-37a7a9b28614\" xlink:type=\"simple\"><path d=\"M169,100.44 C169,115.87 169,133.47 169,146.98 \" fill=\"none\" id=\"E2&lt;-E3\" style=\"stroke: #A80036; stroke-width: 1.0;\"/><polygon fill=\"#A80036\" points=\"169,87.06,165,93.06,169,99.06,173,93.06,169,87.06\" style=\"stroke: #A80036; stroke-width: 1.0;\"/></a><!--MD5=[62aa6af11e70f752912c1cb0466f24f7]\n",
       "reverse link E4 to E5--><a href=\"psysml:b96f3833-0cb6-4ba3-9671-acfc6ae0d964\" target=\"_top\" title=\"psysml:b96f3833-0cb6-4ba3-9671-acfc6ae0d964\" xlink:actuate=\"onRequest\" xlink:href=\"psysml:b96f3833-0cb6-4ba3-9671-acfc6ae0d964\" xlink:show=\"new\" xlink:title=\"psysml:b96f3833-0cb6-4ba3-9671-acfc6ae0d964\" xlink:type=\"simple\"><path d=\"M66,97.25 C66,113.33 66,132.37 66,146.8 \" fill=\"none\" id=\"E4&lt;-E5\" style=\"stroke: #A80036; stroke-width: 1.0;\"/><polygon fill=\"#A80036\" points=\"66,84.08,62,90.08,66,96.08,70,90.08,66,84.08\" style=\"stroke: #A80036; stroke-width: 1.0;\"/></a><!--MD5=[53bc74650dd824aaea713125212a99bf]\n",
       "@startuml\r\n",
       " \r\n",
       "package \"Q\" as E1  [[psysml:6ab71797-e8f8-4bff-ada3-bad51ca07e78 ]]  {\r\n",
       "comp usage \"f\" as E2  << (P,limegreen) part>> [[psysml:c02a2287-c712-494f-86c8-48c213fef3aa ]] {\r\n",
       "}\r\n",
       "comp usage \"a\" as E3  << (P,limegreen) part>> [[psysml:b53848ad-4a38-46bd-bd01-a08ed5bc4cea ]] {\r\n",
       "}\r\n",
       "comp def \"C\" as E4  << (B,green) >> [[psysml:562783b8-e65b-4087-86a0-89c793c14f93 ]] {\r\n",
       "}\r\n",
       "comp usage \"g\" as E5  << (P,limegreen) part>> [[psysml:ab356c3f-6fc6-498c-877e-f29aa221dc38 ]] {\r\n",
       "}\r\n",
       "E2 *- - E3 [[psysml:3a53f0eb-5b79-463f-97a3-37a7a9b28614 ]] \r\n",
       "E4 *- - E5 [[psysml:b96f3833-0cb6-4ba3-9671-acfc6ae0d964 ]] \r\n",
       "}\r\n",
       "@enduml\r\n",
       "\n",
       "PlantUML version 1.2020.13(Sat Jun 13 12:26:38 UTC 2020)\n",
       "(EPL source distribution)\n",
       "Java Runtime: OpenJDK Runtime Environment\n",
       "JVM: OpenJDK 64-Bit Server VM\n",
       "Default Encoding: UTF-8\n",
       "Language: en\n",
       "Country: null\n",
       "--></g></svg>"
      ]
     },
     "execution_count": 36,
     "metadata": {},
     "output_type": "execute_result"
    }
   ],
   "source": [
    "%viz --style=\"PLANTUML\" --view=\"MIXED\" \"Q\""
   ]
  },
  {
   "cell_type": "code",
   "execution_count": 37,
   "id": "7b8ed520",
   "metadata": {
    "execution": {
     "iopub.execute_input": "2021-04-20T06:58:46.734915Z",
     "iopub.status.busy": "2021-04-20T06:58:46.734456Z",
     "iopub.status.idle": "2021-04-20T06:58:46.761220Z",
     "shell.execute_reply": "2021-04-20T06:58:46.760380Z"
    }
   },
   "outputs": [
    {
     "data": {
      "image/svg+xml": [
       "<?xml version=\"1.0\" encoding=\"UTF-8\" standalone=\"no\"?><svg xmlns=\"http://www.w3.org/2000/svg\" xmlns:xlink=\"http://www.w3.org/1999/xlink\" contentScriptType=\"application/ecmascript\" contentStyleType=\"text/css\" height=\"221px\" preserveAspectRatio=\"none\" style=\"width:213px;height:221px;\" version=\"1.1\" viewBox=\"0 0 213 221\" width=\"213px\" zoomAndPan=\"magnify\"><defs/><g><!--MD5=[fbc87193dbaf4d95561dea2c320d4a47]\n",
       "cluster E1--><a href=\"psysml:6ab71797-e8f8-4bff-ada3-bad51ca07e78\" target=\"_top\" title=\"psysml:6ab71797-e8f8-4bff-ada3-bad51ca07e78\" xlink:actuate=\"onRequest\" xlink:href=\"psysml:6ab71797-e8f8-4bff-ada3-bad51ca07e78\" xlink:show=\"new\" xlink:title=\"psysml:6ab71797-e8f8-4bff-ada3-bad51ca07e78\" xlink:type=\"simple\"><polygon fill=\"#FFFFFF\" points=\"16,6,34,6,41,28.2969,191,28.2969,191,209,16,209,16,6\" style=\"stroke: #000000; stroke-width: 1.5;\"/><line style=\"stroke: #000000; stroke-width: 1.5;\" x1=\"16\" x2=\"41\" y1=\"28.2969\" y2=\"28.2969\"/><text fill=\"#000000\" font-family=\"sans-serif\" font-size=\"14\" font-weight=\"bold\" lengthAdjust=\"spacingAndGlyphs\" textLength=\"12\" x=\"20\" y=\"20.9951\">Q</text></a><!--MD5=[b4997ac47864f28c2f74865a473b2911]\n",
       "class E2--><a href=\"psysml:c02a2287-c712-494f-86c8-48c213fef3aa\" target=\"_top\" title=\"psysml:c02a2287-c712-494f-86c8-48c213fef3aa\" xlink:actuate=\"onRequest\" xlink:href=\"psysml:c02a2287-c712-494f-86c8-48c213fef3aa\" xlink:show=\"new\" xlink:title=\"psysml:c02a2287-c712-494f-86c8-48c213fef3aa\" xlink:type=\"simple\"><rect fill=\"#FFFFFF\" height=\"45.9375\" id=\"E2\" rx=\"10\" ry=\"10\" style=\"stroke: #383838; stroke-width: 1.5;\" width=\"42\" x=\"133\" y=\"41\"/><text fill=\"#000000\" font-family=\"sans-serif\" font-size=\"12\" font-style=\"italic\" lengthAdjust=\"spacingAndGlyphs\" textLength=\"40\" x=\"134\" y=\"57.1387\">«part»</text><text fill=\"#000000\" font-family=\"sans-serif\" font-size=\"12\" lengthAdjust=\"spacingAndGlyphs\" textLength=\"4\" x=\"152\" y=\"71.1074\">f</text><line style=\"stroke: #383838; stroke-width: 1.5;\" x1=\"134\" x2=\"174\" y1=\"78.9375\" y2=\"78.9375\"/></a><!--MD5=[09b614a08d8cba4a07c9adeb5e0fee81]\n",
       "class E3--><a href=\"psysml:b53848ad-4a38-46bd-bd01-a08ed5bc4cea\" target=\"_top\" title=\"psysml:b53848ad-4a38-46bd-bd01-a08ed5bc4cea\" xlink:actuate=\"onRequest\" xlink:href=\"psysml:b53848ad-4a38-46bd-bd01-a08ed5bc4cea\" xlink:show=\"new\" xlink:title=\"psysml:b53848ad-4a38-46bd-bd01-a08ed5bc4cea\" xlink:type=\"simple\"><rect fill=\"#FFFFFF\" height=\"45.9375\" id=\"E3\" rx=\"10\" ry=\"10\" style=\"stroke: #383838; stroke-width: 1.5;\" width=\"42\" x=\"133\" y=\"147\"/><text fill=\"#000000\" font-family=\"sans-serif\" font-size=\"12\" font-style=\"italic\" lengthAdjust=\"spacingAndGlyphs\" textLength=\"40\" x=\"134\" y=\"163.1387\">«part»</text><text fill=\"#000000\" font-family=\"sans-serif\" font-size=\"12\" lengthAdjust=\"spacingAndGlyphs\" textLength=\"8\" x=\"150\" y=\"177.1074\">a</text><line style=\"stroke: #383838; stroke-width: 1.5;\" x1=\"134\" x2=\"174\" y1=\"184.9375\" y2=\"184.9375\"/></a><!--MD5=[ebbe1d658d1005bcc118a6aa81145e00]\n",
       "class E4--><a href=\"psysml:562783b8-e65b-4087-86a0-89c793c14f93\" target=\"_top\" title=\"psysml:562783b8-e65b-4087-86a0-89c793c14f93\" xlink:actuate=\"onRequest\" xlink:href=\"psysml:562783b8-e65b-4087-86a0-89c793c14f93\" xlink:show=\"new\" xlink:title=\"psysml:562783b8-e65b-4087-86a0-89c793c14f93\" xlink:type=\"simple\"><rect fill=\"#FFFFFF\" height=\"45.9375\" id=\"E4\" style=\"stroke: #383838; stroke-width: 1.5;\" width=\"66\" x=\"32\" y=\"41\"/><text fill=\"#000000\" font-family=\"sans-serif\" font-size=\"12\" font-style=\"italic\" lengthAdjust=\"spacingAndGlyphs\" textLength=\"64\" x=\"33\" y=\"57.1387\">«part def»</text><text fill=\"#000000\" font-family=\"sans-serif\" font-size=\"12\" lengthAdjust=\"spacingAndGlyphs\" textLength=\"8\" x=\"61\" y=\"71.1074\">C</text><line style=\"stroke: #383838; stroke-width: 1.5;\" x1=\"33\" x2=\"97\" y1=\"78.9375\" y2=\"78.9375\"/></a><!--MD5=[270fce915f116d4de14055a7c1d9a0f3]\n",
       "class E5--><a href=\"psysml:ab356c3f-6fc6-498c-877e-f29aa221dc38\" target=\"_top\" title=\"psysml:ab356c3f-6fc6-498c-877e-f29aa221dc38\" xlink:actuate=\"onRequest\" xlink:href=\"psysml:ab356c3f-6fc6-498c-877e-f29aa221dc38\" xlink:show=\"new\" xlink:title=\"psysml:ab356c3f-6fc6-498c-877e-f29aa221dc38\" xlink:type=\"simple\"><rect fill=\"#FFFFFF\" height=\"45.9375\" id=\"E5\" rx=\"10\" ry=\"10\" style=\"stroke: #383838; stroke-width: 1.5;\" width=\"42\" x=\"44\" y=\"147\"/><text fill=\"#000000\" font-family=\"sans-serif\" font-size=\"12\" font-style=\"italic\" lengthAdjust=\"spacingAndGlyphs\" textLength=\"40\" x=\"45\" y=\"163.1387\">«part»</text><text fill=\"#000000\" font-family=\"sans-serif\" font-size=\"12\" lengthAdjust=\"spacingAndGlyphs\" textLength=\"8\" x=\"61\" y=\"177.1074\">g</text><line style=\"stroke: #383838; stroke-width: 1.5;\" x1=\"45\" x2=\"85\" y1=\"184.9375\" y2=\"184.9375\"/></a><!--MD5=[209b3feb70ccb6233bfe1053d122c12c]\n",
       "reverse link E2 to E3--><a href=\"psysml:3a53f0eb-5b79-463f-97a3-37a7a9b28614\" target=\"_top\" title=\"psysml:3a53f0eb-5b79-463f-97a3-37a7a9b28614\" xlink:actuate=\"onRequest\" xlink:href=\"psysml:3a53f0eb-5b79-463f-97a3-37a7a9b28614\" xlink:show=\"new\" xlink:title=\"psysml:3a53f0eb-5b79-463f-97a3-37a7a9b28614\" xlink:type=\"simple\"><path d=\"M154,100.44 C154,115.87 154,133.47 154,146.98 \" fill=\"none\" id=\"E2&lt;-E3\" style=\"stroke: #383838; stroke-width: 1.0;\"/><polygon fill=\"#383838\" points=\"154,87.06,150,93.06,154,99.06,158,93.06,154,87.06\" style=\"stroke: #383838; stroke-width: 1.0;\"/></a><!--MD5=[62aa6af11e70f752912c1cb0466f24f7]\n",
       "reverse link E4 to E5--><a href=\"psysml:b96f3833-0cb6-4ba3-9671-acfc6ae0d964\" target=\"_top\" title=\"psysml:b96f3833-0cb6-4ba3-9671-acfc6ae0d964\" xlink:actuate=\"onRequest\" xlink:href=\"psysml:b96f3833-0cb6-4ba3-9671-acfc6ae0d964\" xlink:show=\"new\" xlink:title=\"psysml:b96f3833-0cb6-4ba3-9671-acfc6ae0d964\" xlink:type=\"simple\"><path d=\"M65,100.44 C65,115.87 65,133.47 65,146.98 \" fill=\"none\" id=\"E4&lt;-E5\" style=\"stroke: #383838; stroke-width: 1.0;\"/><polygon fill=\"#383838\" points=\"65,87.06,61,93.06,65,99.06,69,93.06,65,87.06\" style=\"stroke: #383838; stroke-width: 1.0;\"/></a><!--MD5=[024cb838aad483a1b29fc1b892efceef]\n",
       "@startuml\r\n",
       "skinparam monochrome true\r\n",
       "skinparam classbackgroundcolor white\r\n",
       "skinparam shadowing false\r\n",
       "skinparam wrapWidth 300\r\n",
       "hide circle\r\n",
       "\r\n",
       "package \"Q\" as E1  [[psysml:6ab71797-e8f8-4bff-ada3-bad51ca07e78 ]]  {\r\n",
       "comp usage \"f\" as E2  <<(T,blue)part>> [[psysml:c02a2287-c712-494f-86c8-48c213fef3aa ]] {\r\n",
       "}\r\n",
       "comp usage \"a\" as E3  <<(T,blue)part>> [[psysml:b53848ad-4a38-46bd-bd01-a08ed5bc4cea ]] {\r\n",
       "}\r\n",
       "comp def \"C\" as E4  <<(T,blue)part def>> [[psysml:562783b8-e65b-4087-86a0-89c793c14f93 ]] {\r\n",
       "}\r\n",
       "comp usage \"g\" as E5  <<(T,blue)part>> [[psysml:ab356c3f-6fc6-498c-877e-f29aa221dc38 ]] {\r\n",
       "}\r\n",
       "E2 *- - E3 [[psysml:3a53f0eb-5b79-463f-97a3-37a7a9b28614 ]] \r\n",
       "E4 *- - E5 [[psysml:b96f3833-0cb6-4ba3-9671-acfc6ae0d964 ]] \r\n",
       "}\r\n",
       "@enduml\r\n",
       "\n",
       "PlantUML version 1.2020.13(Sat Jun 13 12:26:38 UTC 2020)\n",
       "(EPL source distribution)\n",
       "Java Runtime: OpenJDK Runtime Environment\n",
       "JVM: OpenJDK 64-Bit Server VM\n",
       "Default Encoding: UTF-8\n",
       "Language: en\n",
       "Country: null\n",
       "--></g></svg>"
      ]
     },
     "execution_count": 37,
     "metadata": {},
     "output_type": "execute_result"
    }
   ],
   "source": [
    "%viz --style=\"DEFAULT\" --view=\"Default\" \"Q\""
   ]
  },
  {
   "cell_type": "code",
   "execution_count": 38,
   "id": "65c57d7b",
   "metadata": {
    "execution": {
     "iopub.execute_input": "2021-04-20T06:58:46.814426Z",
     "iopub.status.busy": "2021-04-20T06:58:46.812972Z",
     "iopub.status.idle": "2021-04-20T06:58:46.842804Z",
     "shell.execute_reply": "2021-04-20T06:58:46.840988Z"
    }
   },
   "outputs": [
    {
     "data": {
      "image/svg+xml": [
       "<?xml version=\"1.0\" encoding=\"UTF-8\" standalone=\"no\"?><svg xmlns=\"http://www.w3.org/2000/svg\" xmlns:xlink=\"http://www.w3.org/1999/xlink\" contentScriptType=\"application/ecmascript\" contentStyleType=\"text/css\" height=\"221px\" preserveAspectRatio=\"none\" style=\"width:213px;height:221px;\" version=\"1.1\" viewBox=\"0 0 213 221\" width=\"213px\" zoomAndPan=\"magnify\"><defs/><g><!--MD5=[fbc87193dbaf4d95561dea2c320d4a47]\n",
       "cluster E1--><a href=\"psysml:6ab71797-e8f8-4bff-ada3-bad51ca07e78\" target=\"_top\" title=\"psysml:6ab71797-e8f8-4bff-ada3-bad51ca07e78\" xlink:actuate=\"onRequest\" xlink:href=\"psysml:6ab71797-e8f8-4bff-ada3-bad51ca07e78\" xlink:show=\"new\" xlink:title=\"psysml:6ab71797-e8f8-4bff-ada3-bad51ca07e78\" xlink:type=\"simple\"><polygon fill=\"#FFFFFF\" points=\"16,6,34,6,41,28.2969,191,28.2969,191,209,16,209,16,6\" style=\"stroke: #000000; stroke-width: 1.5;\"/><line style=\"stroke: #000000; stroke-width: 1.5;\" x1=\"16\" x2=\"41\" y1=\"28.2969\" y2=\"28.2969\"/><text fill=\"#000000\" font-family=\"sans-serif\" font-size=\"14\" font-weight=\"bold\" lengthAdjust=\"spacingAndGlyphs\" textLength=\"12\" x=\"20\" y=\"20.9951\">Q</text></a><!--MD5=[b4997ac47864f28c2f74865a473b2911]\n",
       "class E2--><a href=\"psysml:c02a2287-c712-494f-86c8-48c213fef3aa\" target=\"_top\" title=\"psysml:c02a2287-c712-494f-86c8-48c213fef3aa\" xlink:actuate=\"onRequest\" xlink:href=\"psysml:c02a2287-c712-494f-86c8-48c213fef3aa\" xlink:show=\"new\" xlink:title=\"psysml:c02a2287-c712-494f-86c8-48c213fef3aa\" xlink:type=\"simple\"><rect fill=\"#FFFFFF\" height=\"45.9375\" id=\"E2\" rx=\"10\" ry=\"10\" style=\"stroke: #383838; stroke-width: 1.5;\" width=\"42\" x=\"133\" y=\"41\"/><text fill=\"#000000\" font-family=\"sans-serif\" font-size=\"12\" font-style=\"italic\" lengthAdjust=\"spacingAndGlyphs\" textLength=\"40\" x=\"134\" y=\"57.1387\">«part»</text><text fill=\"#000000\" font-family=\"sans-serif\" font-size=\"12\" lengthAdjust=\"spacingAndGlyphs\" textLength=\"4\" x=\"152\" y=\"71.1074\">f</text><line style=\"stroke: #383838; stroke-width: 1.5;\" x1=\"134\" x2=\"174\" y1=\"78.9375\" y2=\"78.9375\"/></a><!--MD5=[09b614a08d8cba4a07c9adeb5e0fee81]\n",
       "class E3--><a href=\"psysml:b53848ad-4a38-46bd-bd01-a08ed5bc4cea\" target=\"_top\" title=\"psysml:b53848ad-4a38-46bd-bd01-a08ed5bc4cea\" xlink:actuate=\"onRequest\" xlink:href=\"psysml:b53848ad-4a38-46bd-bd01-a08ed5bc4cea\" xlink:show=\"new\" xlink:title=\"psysml:b53848ad-4a38-46bd-bd01-a08ed5bc4cea\" xlink:type=\"simple\"><rect fill=\"#FFFFFF\" height=\"45.9375\" id=\"E3\" rx=\"10\" ry=\"10\" style=\"stroke: #383838; stroke-width: 1.5;\" width=\"42\" x=\"133\" y=\"147\"/><text fill=\"#000000\" font-family=\"sans-serif\" font-size=\"12\" font-style=\"italic\" lengthAdjust=\"spacingAndGlyphs\" textLength=\"40\" x=\"134\" y=\"163.1387\">«part»</text><text fill=\"#000000\" font-family=\"sans-serif\" font-size=\"12\" lengthAdjust=\"spacingAndGlyphs\" textLength=\"8\" x=\"150\" y=\"177.1074\">a</text><line style=\"stroke: #383838; stroke-width: 1.5;\" x1=\"134\" x2=\"174\" y1=\"184.9375\" y2=\"184.9375\"/></a><!--MD5=[ebbe1d658d1005bcc118a6aa81145e00]\n",
       "class E4--><a href=\"psysml:562783b8-e65b-4087-86a0-89c793c14f93\" target=\"_top\" title=\"psysml:562783b8-e65b-4087-86a0-89c793c14f93\" xlink:actuate=\"onRequest\" xlink:href=\"psysml:562783b8-e65b-4087-86a0-89c793c14f93\" xlink:show=\"new\" xlink:title=\"psysml:562783b8-e65b-4087-86a0-89c793c14f93\" xlink:type=\"simple\"><rect fill=\"#FFFFFF\" height=\"45.9375\" id=\"E4\" style=\"stroke: #383838; stroke-width: 1.5;\" width=\"66\" x=\"32\" y=\"41\"/><text fill=\"#000000\" font-family=\"sans-serif\" font-size=\"12\" font-style=\"italic\" lengthAdjust=\"spacingAndGlyphs\" textLength=\"64\" x=\"33\" y=\"57.1387\">«part def»</text><text fill=\"#000000\" font-family=\"sans-serif\" font-size=\"12\" lengthAdjust=\"spacingAndGlyphs\" textLength=\"8\" x=\"61\" y=\"71.1074\">C</text><line style=\"stroke: #383838; stroke-width: 1.5;\" x1=\"33\" x2=\"97\" y1=\"78.9375\" y2=\"78.9375\"/></a><!--MD5=[270fce915f116d4de14055a7c1d9a0f3]\n",
       "class E5--><a href=\"psysml:ab356c3f-6fc6-498c-877e-f29aa221dc38\" target=\"_top\" title=\"psysml:ab356c3f-6fc6-498c-877e-f29aa221dc38\" xlink:actuate=\"onRequest\" xlink:href=\"psysml:ab356c3f-6fc6-498c-877e-f29aa221dc38\" xlink:show=\"new\" xlink:title=\"psysml:ab356c3f-6fc6-498c-877e-f29aa221dc38\" xlink:type=\"simple\"><rect fill=\"#FFFFFF\" height=\"45.9375\" id=\"E5\" rx=\"10\" ry=\"10\" style=\"stroke: #383838; stroke-width: 1.5;\" width=\"42\" x=\"44\" y=\"147\"/><text fill=\"#000000\" font-family=\"sans-serif\" font-size=\"12\" font-style=\"italic\" lengthAdjust=\"spacingAndGlyphs\" textLength=\"40\" x=\"45\" y=\"163.1387\">«part»</text><text fill=\"#000000\" font-family=\"sans-serif\" font-size=\"12\" lengthAdjust=\"spacingAndGlyphs\" textLength=\"8\" x=\"61\" y=\"177.1074\">g</text><line style=\"stroke: #383838; stroke-width: 1.5;\" x1=\"45\" x2=\"85\" y1=\"184.9375\" y2=\"184.9375\"/></a><!--MD5=[209b3feb70ccb6233bfe1053d122c12c]\n",
       "reverse link E2 to E3--><a href=\"psysml:3a53f0eb-5b79-463f-97a3-37a7a9b28614\" target=\"_top\" title=\"psysml:3a53f0eb-5b79-463f-97a3-37a7a9b28614\" xlink:actuate=\"onRequest\" xlink:href=\"psysml:3a53f0eb-5b79-463f-97a3-37a7a9b28614\" xlink:show=\"new\" xlink:title=\"psysml:3a53f0eb-5b79-463f-97a3-37a7a9b28614\" xlink:type=\"simple\"><path d=\"M154,100.44 C154,115.87 154,133.47 154,146.98 \" fill=\"none\" id=\"E2&lt;-E3\" style=\"stroke: #383838; stroke-width: 1.0;\"/><polygon fill=\"#383838\" points=\"154,87.06,150,93.06,154,99.06,158,93.06,154,87.06\" style=\"stroke: #383838; stroke-width: 1.0;\"/></a><!--MD5=[62aa6af11e70f752912c1cb0466f24f7]\n",
       "reverse link E4 to E5--><a href=\"psysml:b96f3833-0cb6-4ba3-9671-acfc6ae0d964\" target=\"_top\" title=\"psysml:b96f3833-0cb6-4ba3-9671-acfc6ae0d964\" xlink:actuate=\"onRequest\" xlink:href=\"psysml:b96f3833-0cb6-4ba3-9671-acfc6ae0d964\" xlink:show=\"new\" xlink:title=\"psysml:b96f3833-0cb6-4ba3-9671-acfc6ae0d964\" xlink:type=\"simple\"><path d=\"M65,100.44 C65,115.87 65,133.47 65,146.98 \" fill=\"none\" id=\"E4&lt;-E5\" style=\"stroke: #383838; stroke-width: 1.0;\"/><polygon fill=\"#383838\" points=\"65,87.06,61,93.06,65,99.06,69,93.06,65,87.06\" style=\"stroke: #383838; stroke-width: 1.0;\"/></a><!--MD5=[024cb838aad483a1b29fc1b892efceef]\n",
       "@startuml\r\n",
       "skinparam monochrome true\r\n",
       "skinparam classbackgroundcolor white\r\n",
       "skinparam shadowing false\r\n",
       "skinparam wrapWidth 300\r\n",
       "hide circle\r\n",
       "\r\n",
       "package \"Q\" as E1  [[psysml:6ab71797-e8f8-4bff-ada3-bad51ca07e78 ]]  {\r\n",
       "comp usage \"f\" as E2  <<(T,blue)part>> [[psysml:c02a2287-c712-494f-86c8-48c213fef3aa ]] {\r\n",
       "}\r\n",
       "comp usage \"a\" as E3  <<(T,blue)part>> [[psysml:b53848ad-4a38-46bd-bd01-a08ed5bc4cea ]] {\r\n",
       "}\r\n",
       "comp def \"C\" as E4  <<(T,blue)part def>> [[psysml:562783b8-e65b-4087-86a0-89c793c14f93 ]] {\r\n",
       "}\r\n",
       "comp usage \"g\" as E5  <<(T,blue)part>> [[psysml:ab356c3f-6fc6-498c-877e-f29aa221dc38 ]] {\r\n",
       "}\r\n",
       "E2 *- - E3 [[psysml:3a53f0eb-5b79-463f-97a3-37a7a9b28614 ]] \r\n",
       "E4 *- - E5 [[psysml:b96f3833-0cb6-4ba3-9671-acfc6ae0d964 ]] \r\n",
       "}\r\n",
       "@enduml\r\n",
       "\n",
       "PlantUML version 1.2020.13(Sat Jun 13 12:26:38 UTC 2020)\n",
       "(EPL source distribution)\n",
       "Java Runtime: OpenJDK Runtime Environment\n",
       "JVM: OpenJDK 64-Bit Server VM\n",
       "Default Encoding: UTF-8\n",
       "Language: en\n",
       "Country: null\n",
       "--></g></svg>"
      ]
     },
     "execution_count": 38,
     "metadata": {},
     "output_type": "execute_result"
    }
   ],
   "source": [
    "%viz --style=\"DEFAULT\" --view=\"Tree\" \"Q\""
   ]
  },
  {
   "cell_type": "code",
   "execution_count": 39,
   "id": "ca53ee1e",
   "metadata": {
    "execution": {
     "iopub.execute_input": "2021-04-20T06:58:46.895379Z",
     "iopub.status.busy": "2021-04-20T06:58:46.894785Z",
     "iopub.status.idle": "2021-04-20T06:58:46.910209Z",
     "shell.execute_reply": "2021-04-20T06:58:46.909481Z"
    }
   },
   "outputs": [
    {
     "data": {
      "image/svg+xml": [
       "<?xml version=\"1.0\" encoding=\"UTF-8\" standalone=\"no\"?><svg xmlns=\"http://www.w3.org/2000/svg\" xmlns:xlink=\"http://www.w3.org/1999/xlink\" contentScriptType=\"application/ecmascript\" contentStyleType=\"text/css\" height=\"12px\" preserveAspectRatio=\"none\" style=\"width:12px;height:12px;\" version=\"1.1\" viewBox=\"0 0 12 12\" width=\"12px\" zoomAndPan=\"magnify\"><defs/><g><!--MD5=[c5f280e076d0d61ccf4b0f27871bda1d]\n",
       "@startuml\r\n",
       "skinparam monochrome true\r\n",
       "skinparam classbackgroundcolor white\r\n",
       "skinparam shadowing false\r\n",
       "skinparam wrapWidth 300\r\n",
       "hide circle\r\n",
       "\r\n",
       "@enduml\r\n",
       "\n",
       "PlantUML version 1.2020.13(Sat Jun 13 12:26:38 UTC 2020)\n",
       "(EPL source distribution)\n",
       "Java Runtime: OpenJDK Runtime Environment\n",
       "JVM: OpenJDK 64-Bit Server VM\n",
       "Default Encoding: UTF-8\n",
       "Language: en\n",
       "Country: null\n",
       "--></g></svg>"
      ]
     },
     "execution_count": 39,
     "metadata": {},
     "output_type": "execute_result"
    }
   ],
   "source": [
    "%viz --style=\"DEFAULT\" --view=\"State\" \"Q\""
   ]
  },
  {
   "cell_type": "code",
   "execution_count": 40,
   "id": "4ea79b54",
   "metadata": {
    "execution": {
     "iopub.execute_input": "2021-04-20T06:58:46.960386Z",
     "iopub.status.busy": "2021-04-20T06:58:46.959709Z",
     "iopub.status.idle": "2021-04-20T06:58:46.992793Z",
     "shell.execute_reply": "2021-04-20T06:58:46.991592Z"
    }
   },
   "outputs": [
    {
     "data": {
      "image/svg+xml": [
       "<?xml version=\"1.0\" encoding=\"UTF-8\" standalone=\"no\"?><svg xmlns=\"http://www.w3.org/2000/svg\" xmlns:xlink=\"http://www.w3.org/1999/xlink\" contentScriptType=\"application/ecmascript\" contentStyleType=\"text/css\" height=\"192px\" preserveAspectRatio=\"none\" style=\"width:286px;height:192px;\" version=\"1.1\" viewBox=\"0 0 286 192\" width=\"286px\" zoomAndPan=\"magnify\"><defs/><g><!--MD5=[fbc87193dbaf4d95561dea2c320d4a47]\n",
       "cluster E1--><a href=\"psysml:6ab71797-e8f8-4bff-ada3-bad51ca07e78\" target=\"_top\" title=\"psysml:6ab71797-e8f8-4bff-ada3-bad51ca07e78\" xlink:actuate=\"onRequest\" xlink:href=\"psysml:6ab71797-e8f8-4bff-ada3-bad51ca07e78\" xlink:show=\"new\" xlink:title=\"psysml:6ab71797-e8f8-4bff-ada3-bad51ca07e78\" xlink:type=\"simple\"><polygon fill=\"#FFFFFF\" points=\"16,6,34,6,41,28.2969,264,28.2969,264,180,16,180,16,6\" style=\"stroke: #000000; stroke-width: 1.5;\"/><line style=\"stroke: #000000; stroke-width: 1.5;\" x1=\"16\" x2=\"41\" y1=\"28.2969\" y2=\"28.2969\"/><text fill=\"#000000\" font-family=\"sans-serif\" font-size=\"14\" font-weight=\"bold\" lengthAdjust=\"spacingAndGlyphs\" textLength=\"12\" x=\"20\" y=\"20.9951\">Q</text></a><!--MD5=[e4f7fae6ed58524ba242bb0b0d3be6b7]\n",
       "cluster E2--><a href=\"psysml:c02a2287-c712-494f-86c8-48c213fef3aa\" target=\"_top\" title=\"psysml:c02a2287-c712-494f-86c8-48c213fef3aa\" xlink:actuate=\"onRequest\" xlink:href=\"psysml:c02a2287-c712-494f-86c8-48c213fef3aa\" xlink:show=\"new\" xlink:title=\"psysml:c02a2287-c712-494f-86c8-48c213fef3aa\" xlink:type=\"simple\"><rect fill=\"#FFFFFF\" height=\"91\" id=\"E2\" rx=\"10\" ry=\"10\" style=\"stroke: #383838; stroke-width: 1.5;\" width=\"82\" x=\"158\" y=\"65\"/><rect fill=\"#F8F8F8\" height=\"23.9688\" rx=\"10\" ry=\"10\" style=\"stroke: #F8F8F8; stroke-width: 1.5;\" width=\"82\" x=\"158\" y=\"65\"/><rect fill=\"#F8F8F8\" height=\"10\" style=\"stroke: #F8F8F8; stroke-width: 1.5;\" width=\"82\" x=\"158\" y=\"78.9688\"/><rect fill=\"none\" height=\"91\" id=\"E2\" rx=\"10\" ry=\"10\" style=\"stroke: #383838; stroke-width: 1.5;\" width=\"82\" x=\"158\" y=\"65\"/><text fill=\"#000000\" font-family=\"sans-serif\" font-size=\"12\" lengthAdjust=\"spacingAndGlyphs\" textLength=\"4\" x=\"197\" y=\"81.1387\">f</text><line style=\"stroke: #383838; stroke-width: 1.0;\" x1=\"158\" x2=\"240\" y1=\"88.9688\" y2=\"88.9688\"/></a><!--MD5=[f6df4d0ebaf0b5dfb2ced0ae5af7c670]\n",
       "cluster E4--><a href=\"psysml:562783b8-e65b-4087-86a0-89c793c14f93\" target=\"_top\" title=\"psysml:562783b8-e65b-4087-86a0-89c793c14f93\" xlink:actuate=\"onRequest\" xlink:href=\"psysml:562783b8-e65b-4087-86a0-89c793c14f93\" xlink:show=\"new\" xlink:title=\"psysml:562783b8-e65b-4087-86a0-89c793c14f93\" xlink:type=\"simple\"><rect fill=\"#FFFFFF\" height=\"107\" id=\"E4\" style=\"stroke: #383838; stroke-width: 1.5;\" width=\"94\" x=\"40\" y=\"49\"/><rect fill=\"#F8F8F8\" height=\"37.9375\" style=\"stroke: #383838; stroke-width: 1.5;\" width=\"94\" x=\"40\" y=\"49\"/><text fill=\"#000000\" font-family=\"sans-serif\" font-size=\"12\" font-style=\"italic\" lengthAdjust=\"spacingAndGlyphs\" textLength=\"64\" x=\"55\" y=\"65.1387\">«part def»</text><text fill=\"#000000\" font-family=\"sans-serif\" font-size=\"12\" lengthAdjust=\"spacingAndGlyphs\" textLength=\"8\" x=\"83\" y=\"79.1074\">C</text></a><g id=\"E1.E2.E3\"><a href=\"psysml:b53848ad-4a38-46bd-bd01-a08ed5bc4cea\" target=\"_top\" title=\"psysml:b53848ad-4a38-46bd-bd01-a08ed5bc4cea\" xlink:actuate=\"onRequest\" xlink:href=\"psysml:b53848ad-4a38-46bd-bd01-a08ed5bc4cea\" xlink:show=\"new\" xlink:title=\"psysml:b53848ad-4a38-46bd-bd01-a08ed5bc4cea\" xlink:type=\"simple\"><rect fill=\"#FFFFFF\" height=\"40\" id=\"E3\" rx=\"10\" ry=\"10\" style=\"stroke: #383838; stroke-width: 1.5;\" width=\"50\" x=\"174\" y=\"100\"/><rect fill=\"#F8F8F8\" height=\"23.9688\" rx=\"10\" ry=\"10\" style=\"stroke: #F8F8F8; stroke-width: 1.5;\" width=\"50\" x=\"174\" y=\"100\"/><rect fill=\"#F8F8F8\" height=\"10\" style=\"stroke: #F8F8F8; stroke-width: 1.5;\" width=\"50\" x=\"174\" y=\"113.9688\"/><rect fill=\"none\" height=\"40\" id=\"E3\" rx=\"10\" ry=\"10\" style=\"stroke: #383838; stroke-width: 1.5;\" width=\"50\" x=\"174\" y=\"100\"/><text fill=\"#000000\" font-family=\"sans-serif\" font-size=\"12\" lengthAdjust=\"spacingAndGlyphs\" textLength=\"8\" x=\"195\" y=\"116.1387\">a</text></a></g><g id=\"E1.E4.E5\"><a href=\"psysml:ab356c3f-6fc6-498c-877e-f29aa221dc38\" target=\"_top\" title=\"psysml:ab356c3f-6fc6-498c-877e-f29aa221dc38\" xlink:actuate=\"onRequest\" xlink:href=\"psysml:ab356c3f-6fc6-498c-877e-f29aa221dc38\" xlink:show=\"new\" xlink:title=\"psysml:ab356c3f-6fc6-498c-877e-f29aa221dc38\" xlink:type=\"simple\"><rect fill=\"#FFFFFF\" height=\"40\" id=\"E5\" rx=\"10\" ry=\"10\" style=\"stroke: #383838; stroke-width: 1.5;\" width=\"61\" x=\"56.5\" y=\"100\"/><rect fill=\"#F8F8F8\" height=\"23.9688\" rx=\"10\" ry=\"10\" style=\"stroke: #F8F8F8; stroke-width: 1.5;\" width=\"61\" x=\"56.5\" y=\"100\"/><rect fill=\"#F8F8F8\" height=\"10\" style=\"stroke: #F8F8F8; stroke-width: 1.5;\" width=\"61\" x=\"56.5\" y=\"113.9688\"/><rect fill=\"none\" height=\"40\" id=\"E5\" rx=\"10\" ry=\"10\" style=\"stroke: #383838; stroke-width: 1.5;\" width=\"61\" x=\"56.5\" y=\"100\"/><text fill=\"#000000\" font-family=\"sans-serif\" font-size=\"12\" lengthAdjust=\"spacingAndGlyphs\" textLength=\"46\" x=\"62\" y=\"116.1387\">g=./f/a;</text></a></g><!--MD5=[b4b05f316121afca59d5a3006e44e10f]\n",
       "@startuml\r\n",
       "skinparam ranksep 10\r\n",
       "skinparam rectangle {\r\n",
       " backgroundColor<<block>> LightGreen\r\n",
       "}\r\n",
       "skinparam monochrome true\r\n",
       "skinparam classbackgroundcolor white\r\n",
       "skinparam shadowing false\r\n",
       "skinparam wrapWidth 300\r\n",
       "hide circle\r\n",
       "\r\n",
       "package \"Q\" as E1  [[psysml:6ab71797-e8f8-4bff-ada3-bad51ca07e78 ]]  {\r\n",
       "rec usage \"f\" as E2  [[psysml:c02a2287-c712-494f-86c8-48c213fef3aa ]] {\r\n",
       "rec usage \"a\" as E3  [[psysml:b53848ad-4a38-46bd-bd01-a08ed5bc4cea ]] {\r\n",
       "}\r\n",
       "}\r\n",
       "rec def \"C\" as E4  <<(T,blue)part def>> [[psysml:562783b8-e65b-4087-86a0-89c793c14f93 ]] {\r\n",
       "rec usage \"g=./f/a; \" as E5  [[psysml:ab356c3f-6fc6-498c-877e-f29aa221dc38 ]] {\r\n",
       "}\r\n",
       "}\r\n",
       "}\r\n",
       "@enduml\r\n",
       "\n",
       "PlantUML version 1.2020.13(Sat Jun 13 12:26:38 UTC 2020)\n",
       "(EPL source distribution)\n",
       "Java Runtime: OpenJDK Runtime Environment\n",
       "JVM: OpenJDK 64-Bit Server VM\n",
       "Default Encoding: UTF-8\n",
       "Language: en\n",
       "Country: null\n",
       "--></g></svg>"
      ]
     },
     "execution_count": 40,
     "metadata": {},
     "output_type": "execute_result"
    }
   ],
   "source": [
    "%viz --style=\"DEFAULT\" --view=\"Interconnection\" \"Q\""
   ]
  },
  {
   "cell_type": "code",
   "execution_count": 41,
   "id": "93306153",
   "metadata": {
    "execution": {
     "iopub.execute_input": "2021-04-20T06:58:47.043849Z",
     "iopub.status.busy": "2021-04-20T06:58:47.043193Z",
     "iopub.status.idle": "2021-04-20T06:58:47.050485Z",
     "shell.execute_reply": "2021-04-20T06:58:47.050827Z"
    }
   },
   "outputs": [
    {
     "data": {
      "image/svg+xml": [
       "<?xml version=\"1.0\" encoding=\"UTF-8\" standalone=\"no\"?><svg xmlns=\"http://www.w3.org/2000/svg\" xmlns:xlink=\"http://www.w3.org/1999/xlink\" contentScriptType=\"application/ecmascript\" contentStyleType=\"text/css\" height=\"12px\" preserveAspectRatio=\"none\" style=\"width:12px;height:12px;\" version=\"1.1\" viewBox=\"0 0 12 12\" width=\"12px\" zoomAndPan=\"magnify\"><defs/><g><!--MD5=[388f21188e31bfdd97050473b19af356]\n",
       "@startuml\r\n",
       "skinparam ranksep 8\r\n",
       "skinparam monochrome true\r\n",
       "skinparam classbackgroundcolor white\r\n",
       "skinparam shadowing false\r\n",
       "skinparam wrapWidth 300\r\n",
       "hide circle\r\n",
       "\r\n",
       "@enduml\r\n",
       "\n",
       "PlantUML version 1.2020.13(Sat Jun 13 12:26:38 UTC 2020)\n",
       "(EPL source distribution)\n",
       "Java Runtime: OpenJDK Runtime Environment\n",
       "JVM: OpenJDK 64-Bit Server VM\n",
       "Default Encoding: UTF-8\n",
       "Language: en\n",
       "Country: null\n",
       "--></g></svg>"
      ]
     },
     "execution_count": 41,
     "metadata": {},
     "output_type": "execute_result"
    }
   ],
   "source": [
    "%viz --style=\"DEFAULT\" --view=\"Action\" \"Q\""
   ]
  },
  {
   "cell_type": "code",
   "execution_count": 42,
   "id": "e04e4e86",
   "metadata": {
    "execution": {
     "iopub.execute_input": "2021-04-20T06:58:47.104708Z",
     "iopub.status.busy": "2021-04-20T06:58:47.104145Z",
     "iopub.status.idle": "2021-04-20T06:58:47.133039Z",
     "shell.execute_reply": "2021-04-20T06:58:47.131471Z"
    }
   },
   "outputs": [
    {
     "data": {
      "image/svg+xml": [
       "<?xml version=\"1.0\" encoding=\"UTF-8\" standalone=\"no\"?><svg xmlns=\"http://www.w3.org/2000/svg\" xmlns:xlink=\"http://www.w3.org/1999/xlink\" contentScriptType=\"application/ecmascript\" contentStyleType=\"text/css\" height=\"221px\" preserveAspectRatio=\"none\" style=\"width:213px;height:221px;\" version=\"1.1\" viewBox=\"0 0 213 221\" width=\"213px\" zoomAndPan=\"magnify\"><defs/><g><!--MD5=[fbc87193dbaf4d95561dea2c320d4a47]\n",
       "cluster E1--><a href=\"psysml:6ab71797-e8f8-4bff-ada3-bad51ca07e78\" target=\"_top\" title=\"psysml:6ab71797-e8f8-4bff-ada3-bad51ca07e78\" xlink:actuate=\"onRequest\" xlink:href=\"psysml:6ab71797-e8f8-4bff-ada3-bad51ca07e78\" xlink:show=\"new\" xlink:title=\"psysml:6ab71797-e8f8-4bff-ada3-bad51ca07e78\" xlink:type=\"simple\"><polygon fill=\"#FFFFFF\" points=\"16,6,34,6,41,28.2969,191,28.2969,191,209,16,209,16,6\" style=\"stroke: #000000; stroke-width: 1.5;\"/><line style=\"stroke: #000000; stroke-width: 1.5;\" x1=\"16\" x2=\"41\" y1=\"28.2969\" y2=\"28.2969\"/><text fill=\"#000000\" font-family=\"sans-serif\" font-size=\"14\" font-weight=\"bold\" lengthAdjust=\"spacingAndGlyphs\" textLength=\"12\" x=\"20\" y=\"20.9951\">Q</text></a><!--MD5=[b4997ac47864f28c2f74865a473b2911]\n",
       "class E2--><a href=\"psysml:c02a2287-c712-494f-86c8-48c213fef3aa\" target=\"_top\" title=\"psysml:c02a2287-c712-494f-86c8-48c213fef3aa\" xlink:actuate=\"onRequest\" xlink:href=\"psysml:c02a2287-c712-494f-86c8-48c213fef3aa\" xlink:show=\"new\" xlink:title=\"psysml:c02a2287-c712-494f-86c8-48c213fef3aa\" xlink:type=\"simple\"><rect fill=\"#FFFFFF\" height=\"45.9375\" id=\"E2\" rx=\"10\" ry=\"10\" style=\"stroke: #383838; stroke-width: 1.5;\" width=\"42\" x=\"133\" y=\"41\"/><text fill=\"#000000\" font-family=\"sans-serif\" font-size=\"12\" font-style=\"italic\" lengthAdjust=\"spacingAndGlyphs\" textLength=\"40\" x=\"134\" y=\"57.1387\">«part»</text><text fill=\"#000000\" font-family=\"sans-serif\" font-size=\"12\" lengthAdjust=\"spacingAndGlyphs\" textLength=\"4\" x=\"152\" y=\"71.1074\">f</text><line style=\"stroke: #383838; stroke-width: 1.5;\" x1=\"134\" x2=\"174\" y1=\"78.9375\" y2=\"78.9375\"/></a><!--MD5=[09b614a08d8cba4a07c9adeb5e0fee81]\n",
       "class E3--><a href=\"psysml:b53848ad-4a38-46bd-bd01-a08ed5bc4cea\" target=\"_top\" title=\"psysml:b53848ad-4a38-46bd-bd01-a08ed5bc4cea\" xlink:actuate=\"onRequest\" xlink:href=\"psysml:b53848ad-4a38-46bd-bd01-a08ed5bc4cea\" xlink:show=\"new\" xlink:title=\"psysml:b53848ad-4a38-46bd-bd01-a08ed5bc4cea\" xlink:type=\"simple\"><rect fill=\"#FFFFFF\" height=\"45.9375\" id=\"E3\" rx=\"10\" ry=\"10\" style=\"stroke: #383838; stroke-width: 1.5;\" width=\"42\" x=\"133\" y=\"147\"/><text fill=\"#000000\" font-family=\"sans-serif\" font-size=\"12\" font-style=\"italic\" lengthAdjust=\"spacingAndGlyphs\" textLength=\"40\" x=\"134\" y=\"163.1387\">«part»</text><text fill=\"#000000\" font-family=\"sans-serif\" font-size=\"12\" lengthAdjust=\"spacingAndGlyphs\" textLength=\"8\" x=\"150\" y=\"177.1074\">a</text><line style=\"stroke: #383838; stroke-width: 1.5;\" x1=\"134\" x2=\"174\" y1=\"184.9375\" y2=\"184.9375\"/></a><!--MD5=[ebbe1d658d1005bcc118a6aa81145e00]\n",
       "class E4--><a href=\"psysml:562783b8-e65b-4087-86a0-89c793c14f93\" target=\"_top\" title=\"psysml:562783b8-e65b-4087-86a0-89c793c14f93\" xlink:actuate=\"onRequest\" xlink:href=\"psysml:562783b8-e65b-4087-86a0-89c793c14f93\" xlink:show=\"new\" xlink:title=\"psysml:562783b8-e65b-4087-86a0-89c793c14f93\" xlink:type=\"simple\"><rect fill=\"#FFFFFF\" height=\"45.9375\" id=\"E4\" style=\"stroke: #383838; stroke-width: 1.5;\" width=\"66\" x=\"32\" y=\"41\"/><text fill=\"#000000\" font-family=\"sans-serif\" font-size=\"12\" font-style=\"italic\" lengthAdjust=\"spacingAndGlyphs\" textLength=\"64\" x=\"33\" y=\"57.1387\">«part def»</text><text fill=\"#000000\" font-family=\"sans-serif\" font-size=\"12\" lengthAdjust=\"spacingAndGlyphs\" textLength=\"8\" x=\"61\" y=\"71.1074\">C</text><line style=\"stroke: #383838; stroke-width: 1.5;\" x1=\"33\" x2=\"97\" y1=\"78.9375\" y2=\"78.9375\"/></a><!--MD5=[270fce915f116d4de14055a7c1d9a0f3]\n",
       "class E5--><a href=\"psysml:ab356c3f-6fc6-498c-877e-f29aa221dc38\" target=\"_top\" title=\"psysml:ab356c3f-6fc6-498c-877e-f29aa221dc38\" xlink:actuate=\"onRequest\" xlink:href=\"psysml:ab356c3f-6fc6-498c-877e-f29aa221dc38\" xlink:show=\"new\" xlink:title=\"psysml:ab356c3f-6fc6-498c-877e-f29aa221dc38\" xlink:type=\"simple\"><rect fill=\"#FFFFFF\" height=\"45.9375\" id=\"E5\" rx=\"10\" ry=\"10\" style=\"stroke: #383838; stroke-width: 1.5;\" width=\"42\" x=\"44\" y=\"147\"/><text fill=\"#000000\" font-family=\"sans-serif\" font-size=\"12\" font-style=\"italic\" lengthAdjust=\"spacingAndGlyphs\" textLength=\"40\" x=\"45\" y=\"163.1387\">«part»</text><text fill=\"#000000\" font-family=\"sans-serif\" font-size=\"12\" lengthAdjust=\"spacingAndGlyphs\" textLength=\"8\" x=\"61\" y=\"177.1074\">g</text><line style=\"stroke: #383838; stroke-width: 1.5;\" x1=\"45\" x2=\"85\" y1=\"184.9375\" y2=\"184.9375\"/></a><!--MD5=[209b3feb70ccb6233bfe1053d122c12c]\n",
       "reverse link E2 to E3--><a href=\"psysml:3a53f0eb-5b79-463f-97a3-37a7a9b28614\" target=\"_top\" title=\"psysml:3a53f0eb-5b79-463f-97a3-37a7a9b28614\" xlink:actuate=\"onRequest\" xlink:href=\"psysml:3a53f0eb-5b79-463f-97a3-37a7a9b28614\" xlink:show=\"new\" xlink:title=\"psysml:3a53f0eb-5b79-463f-97a3-37a7a9b28614\" xlink:type=\"simple\"><path d=\"M154,100.44 C154,115.87 154,133.47 154,146.98 \" fill=\"none\" id=\"E2&lt;-E3\" style=\"stroke: #383838; stroke-width: 1.0;\"/><polygon fill=\"#383838\" points=\"154,87.06,150,93.06,154,99.06,158,93.06,154,87.06\" style=\"stroke: #383838; stroke-width: 1.0;\"/></a><!--MD5=[62aa6af11e70f752912c1cb0466f24f7]\n",
       "reverse link E4 to E5--><a href=\"psysml:b96f3833-0cb6-4ba3-9671-acfc6ae0d964\" target=\"_top\" title=\"psysml:b96f3833-0cb6-4ba3-9671-acfc6ae0d964\" xlink:actuate=\"onRequest\" xlink:href=\"psysml:b96f3833-0cb6-4ba3-9671-acfc6ae0d964\" xlink:show=\"new\" xlink:title=\"psysml:b96f3833-0cb6-4ba3-9671-acfc6ae0d964\" xlink:type=\"simple\"><path d=\"M65,100.44 C65,115.87 65,133.47 65,146.98 \" fill=\"none\" id=\"E4&lt;-E5\" style=\"stroke: #383838; stroke-width: 1.0;\"/><polygon fill=\"#383838\" points=\"65,87.06,61,93.06,65,99.06,69,93.06,65,87.06\" style=\"stroke: #383838; stroke-width: 1.0;\"/></a><!--MD5=[024cb838aad483a1b29fc1b892efceef]\n",
       "@startuml\r\n",
       "skinparam monochrome true\r\n",
       "skinparam classbackgroundcolor white\r\n",
       "skinparam shadowing false\r\n",
       "skinparam wrapWidth 300\r\n",
       "hide circle\r\n",
       "\r\n",
       "package \"Q\" as E1  [[psysml:6ab71797-e8f8-4bff-ada3-bad51ca07e78 ]]  {\r\n",
       "comp usage \"f\" as E2  <<(T,blue)part>> [[psysml:c02a2287-c712-494f-86c8-48c213fef3aa ]] {\r\n",
       "}\r\n",
       "comp usage \"a\" as E3  <<(T,blue)part>> [[psysml:b53848ad-4a38-46bd-bd01-a08ed5bc4cea ]] {\r\n",
       "}\r\n",
       "comp def \"C\" as E4  <<(T,blue)part def>> [[psysml:562783b8-e65b-4087-86a0-89c793c14f93 ]] {\r\n",
       "}\r\n",
       "comp usage \"g\" as E5  <<(T,blue)part>> [[psysml:ab356c3f-6fc6-498c-877e-f29aa221dc38 ]] {\r\n",
       "}\r\n",
       "E2 *- - E3 [[psysml:3a53f0eb-5b79-463f-97a3-37a7a9b28614 ]] \r\n",
       "E4 *- - E5 [[psysml:b96f3833-0cb6-4ba3-9671-acfc6ae0d964 ]] \r\n",
       "}\r\n",
       "@enduml\r\n",
       "\n",
       "PlantUML version 1.2020.13(Sat Jun 13 12:26:38 UTC 2020)\n",
       "(EPL source distribution)\n",
       "Java Runtime: OpenJDK Runtime Environment\n",
       "JVM: OpenJDK 64-Bit Server VM\n",
       "Default Encoding: UTF-8\n",
       "Language: en\n",
       "Country: null\n",
       "--></g></svg>"
      ]
     },
     "execution_count": 42,
     "metadata": {},
     "output_type": "execute_result"
    }
   ],
   "source": [
    "%viz --style=\"DEFAULT\" --view=\"Sequence\" \"Q\""
   ]
  },
  {
   "cell_type": "code",
   "execution_count": 43,
   "id": "01dc7e03",
   "metadata": {
    "execution": {
     "iopub.execute_input": "2021-04-20T06:58:47.181653Z",
     "iopub.status.busy": "2021-04-20T06:58:47.181090Z",
     "iopub.status.idle": "2021-04-20T06:58:47.215135Z",
     "shell.execute_reply": "2021-04-20T06:58:47.213700Z"
    }
   },
   "outputs": [
    {
     "data": {
      "image/svg+xml": [
       "<?xml version=\"1.0\" encoding=\"UTF-8\" standalone=\"no\"?><svg xmlns=\"http://www.w3.org/2000/svg\" xmlns:xlink=\"http://www.w3.org/1999/xlink\" contentScriptType=\"application/ecmascript\" contentStyleType=\"text/css\" height=\"221px\" preserveAspectRatio=\"none\" style=\"width:213px;height:221px;\" version=\"1.1\" viewBox=\"0 0 213 221\" width=\"213px\" zoomAndPan=\"magnify\"><defs/><g><!--MD5=[fbc87193dbaf4d95561dea2c320d4a47]\n",
       "cluster E1--><a href=\"psysml:6ab71797-e8f8-4bff-ada3-bad51ca07e78\" target=\"_top\" title=\"psysml:6ab71797-e8f8-4bff-ada3-bad51ca07e78\" xlink:actuate=\"onRequest\" xlink:href=\"psysml:6ab71797-e8f8-4bff-ada3-bad51ca07e78\" xlink:show=\"new\" xlink:title=\"psysml:6ab71797-e8f8-4bff-ada3-bad51ca07e78\" xlink:type=\"simple\"><polygon fill=\"#FFFFFF\" points=\"16,6,34,6,41,28.2969,191,28.2969,191,209,16,209,16,6\" style=\"stroke: #000000; stroke-width: 1.5;\"/><line style=\"stroke: #000000; stroke-width: 1.5;\" x1=\"16\" x2=\"41\" y1=\"28.2969\" y2=\"28.2969\"/><text fill=\"#000000\" font-family=\"sans-serif\" font-size=\"14\" font-weight=\"bold\" lengthAdjust=\"spacingAndGlyphs\" textLength=\"12\" x=\"20\" y=\"20.9951\">Q</text></a><!--MD5=[b4997ac47864f28c2f74865a473b2911]\n",
       "class E2--><a href=\"psysml:c02a2287-c712-494f-86c8-48c213fef3aa\" target=\"_top\" title=\"psysml:c02a2287-c712-494f-86c8-48c213fef3aa\" xlink:actuate=\"onRequest\" xlink:href=\"psysml:c02a2287-c712-494f-86c8-48c213fef3aa\" xlink:show=\"new\" xlink:title=\"psysml:c02a2287-c712-494f-86c8-48c213fef3aa\" xlink:type=\"simple\"><rect fill=\"#FFFFFF\" height=\"45.9375\" id=\"E2\" rx=\"10\" ry=\"10\" style=\"stroke: #383838; stroke-width: 1.5;\" width=\"42\" x=\"133\" y=\"41\"/><text fill=\"#000000\" font-family=\"sans-serif\" font-size=\"12\" font-style=\"italic\" lengthAdjust=\"spacingAndGlyphs\" textLength=\"40\" x=\"134\" y=\"57.1387\">«part»</text><text fill=\"#000000\" font-family=\"sans-serif\" font-size=\"12\" lengthAdjust=\"spacingAndGlyphs\" textLength=\"4\" x=\"152\" y=\"71.1074\">f</text><line style=\"stroke: #383838; stroke-width: 1.5;\" x1=\"134\" x2=\"174\" y1=\"78.9375\" y2=\"78.9375\"/></a><!--MD5=[09b614a08d8cba4a07c9adeb5e0fee81]\n",
       "class E3--><a href=\"psysml:b53848ad-4a38-46bd-bd01-a08ed5bc4cea\" target=\"_top\" title=\"psysml:b53848ad-4a38-46bd-bd01-a08ed5bc4cea\" xlink:actuate=\"onRequest\" xlink:href=\"psysml:b53848ad-4a38-46bd-bd01-a08ed5bc4cea\" xlink:show=\"new\" xlink:title=\"psysml:b53848ad-4a38-46bd-bd01-a08ed5bc4cea\" xlink:type=\"simple\"><rect fill=\"#FFFFFF\" height=\"45.9375\" id=\"E3\" rx=\"10\" ry=\"10\" style=\"stroke: #383838; stroke-width: 1.5;\" width=\"42\" x=\"133\" y=\"147\"/><text fill=\"#000000\" font-family=\"sans-serif\" font-size=\"12\" font-style=\"italic\" lengthAdjust=\"spacingAndGlyphs\" textLength=\"40\" x=\"134\" y=\"163.1387\">«part»</text><text fill=\"#000000\" font-family=\"sans-serif\" font-size=\"12\" lengthAdjust=\"spacingAndGlyphs\" textLength=\"8\" x=\"150\" y=\"177.1074\">a</text><line style=\"stroke: #383838; stroke-width: 1.5;\" x1=\"134\" x2=\"174\" y1=\"184.9375\" y2=\"184.9375\"/></a><!--MD5=[ebbe1d658d1005bcc118a6aa81145e00]\n",
       "class E4--><a href=\"psysml:562783b8-e65b-4087-86a0-89c793c14f93\" target=\"_top\" title=\"psysml:562783b8-e65b-4087-86a0-89c793c14f93\" xlink:actuate=\"onRequest\" xlink:href=\"psysml:562783b8-e65b-4087-86a0-89c793c14f93\" xlink:show=\"new\" xlink:title=\"psysml:562783b8-e65b-4087-86a0-89c793c14f93\" xlink:type=\"simple\"><rect fill=\"#FFFFFF\" height=\"45.9375\" id=\"E4\" style=\"stroke: #383838; stroke-width: 1.5;\" width=\"66\" x=\"32\" y=\"41\"/><text fill=\"#000000\" font-family=\"sans-serif\" font-size=\"12\" font-style=\"italic\" lengthAdjust=\"spacingAndGlyphs\" textLength=\"64\" x=\"33\" y=\"57.1387\">«part def»</text><text fill=\"#000000\" font-family=\"sans-serif\" font-size=\"12\" lengthAdjust=\"spacingAndGlyphs\" textLength=\"8\" x=\"61\" y=\"71.1074\">C</text><line style=\"stroke: #383838; stroke-width: 1.5;\" x1=\"33\" x2=\"97\" y1=\"78.9375\" y2=\"78.9375\"/></a><!--MD5=[270fce915f116d4de14055a7c1d9a0f3]\n",
       "class E5--><a href=\"psysml:ab356c3f-6fc6-498c-877e-f29aa221dc38\" target=\"_top\" title=\"psysml:ab356c3f-6fc6-498c-877e-f29aa221dc38\" xlink:actuate=\"onRequest\" xlink:href=\"psysml:ab356c3f-6fc6-498c-877e-f29aa221dc38\" xlink:show=\"new\" xlink:title=\"psysml:ab356c3f-6fc6-498c-877e-f29aa221dc38\" xlink:type=\"simple\"><rect fill=\"#FFFFFF\" height=\"45.9375\" id=\"E5\" rx=\"10\" ry=\"10\" style=\"stroke: #383838; stroke-width: 1.5;\" width=\"42\" x=\"44\" y=\"147\"/><text fill=\"#000000\" font-family=\"sans-serif\" font-size=\"12\" font-style=\"italic\" lengthAdjust=\"spacingAndGlyphs\" textLength=\"40\" x=\"45\" y=\"163.1387\">«part»</text><text fill=\"#000000\" font-family=\"sans-serif\" font-size=\"12\" lengthAdjust=\"spacingAndGlyphs\" textLength=\"8\" x=\"61\" y=\"177.1074\">g</text><line style=\"stroke: #383838; stroke-width: 1.5;\" x1=\"45\" x2=\"85\" y1=\"184.9375\" y2=\"184.9375\"/></a><!--MD5=[209b3feb70ccb6233bfe1053d122c12c]\n",
       "reverse link E2 to E3--><a href=\"psysml:3a53f0eb-5b79-463f-97a3-37a7a9b28614\" target=\"_top\" title=\"psysml:3a53f0eb-5b79-463f-97a3-37a7a9b28614\" xlink:actuate=\"onRequest\" xlink:href=\"psysml:3a53f0eb-5b79-463f-97a3-37a7a9b28614\" xlink:show=\"new\" xlink:title=\"psysml:3a53f0eb-5b79-463f-97a3-37a7a9b28614\" xlink:type=\"simple\"><path d=\"M154,100.44 C154,115.87 154,133.47 154,146.98 \" fill=\"none\" id=\"E2&lt;-E3\" style=\"stroke: #383838; stroke-width: 1.0;\"/><polygon fill=\"#383838\" points=\"154,87.06,150,93.06,154,99.06,158,93.06,154,87.06\" style=\"stroke: #383838; stroke-width: 1.0;\"/></a><!--MD5=[62aa6af11e70f752912c1cb0466f24f7]\n",
       "reverse link E4 to E5--><a href=\"psysml:b96f3833-0cb6-4ba3-9671-acfc6ae0d964\" target=\"_top\" title=\"psysml:b96f3833-0cb6-4ba3-9671-acfc6ae0d964\" xlink:actuate=\"onRequest\" xlink:href=\"psysml:b96f3833-0cb6-4ba3-9671-acfc6ae0d964\" xlink:show=\"new\" xlink:title=\"psysml:b96f3833-0cb6-4ba3-9671-acfc6ae0d964\" xlink:type=\"simple\"><path d=\"M65,100.44 C65,115.87 65,133.47 65,146.98 \" fill=\"none\" id=\"E4&lt;-E5\" style=\"stroke: #383838; stroke-width: 1.0;\"/><polygon fill=\"#383838\" points=\"65,87.06,61,93.06,65,99.06,69,93.06,65,87.06\" style=\"stroke: #383838; stroke-width: 1.0;\"/></a><!--MD5=[024cb838aad483a1b29fc1b892efceef]\n",
       "@startuml\r\n",
       "skinparam monochrome true\r\n",
       "skinparam classbackgroundcolor white\r\n",
       "skinparam shadowing false\r\n",
       "skinparam wrapWidth 300\r\n",
       "hide circle\r\n",
       "\r\n",
       "package \"Q\" as E1  [[psysml:6ab71797-e8f8-4bff-ada3-bad51ca07e78 ]]  {\r\n",
       "comp usage \"f\" as E2  <<(T,blue)part>> [[psysml:c02a2287-c712-494f-86c8-48c213fef3aa ]] {\r\n",
       "}\r\n",
       "comp usage \"a\" as E3  <<(T,blue)part>> [[psysml:b53848ad-4a38-46bd-bd01-a08ed5bc4cea ]] {\r\n",
       "}\r\n",
       "comp def \"C\" as E4  <<(T,blue)part def>> [[psysml:562783b8-e65b-4087-86a0-89c793c14f93 ]] {\r\n",
       "}\r\n",
       "comp usage \"g\" as E5  <<(T,blue)part>> [[psysml:ab356c3f-6fc6-498c-877e-f29aa221dc38 ]] {\r\n",
       "}\r\n",
       "E2 *- - E3 [[psysml:3a53f0eb-5b79-463f-97a3-37a7a9b28614 ]] \r\n",
       "E4 *- - E5 [[psysml:b96f3833-0cb6-4ba3-9671-acfc6ae0d964 ]] \r\n",
       "}\r\n",
       "@enduml\r\n",
       "\n",
       "PlantUML version 1.2020.13(Sat Jun 13 12:26:38 UTC 2020)\n",
       "(EPL source distribution)\n",
       "Java Runtime: OpenJDK Runtime Environment\n",
       "JVM: OpenJDK 64-Bit Server VM\n",
       "Default Encoding: UTF-8\n",
       "Language: en\n",
       "Country: null\n",
       "--></g></svg>"
      ]
     },
     "execution_count": 43,
     "metadata": {},
     "output_type": "execute_result"
    }
   ],
   "source": [
    "%viz --style=\"DEFAULT\" --view=\"MIXED\" \"Q\""
   ]
  },
  {
   "cell_type": "code",
   "execution_count": 44,
   "id": "66108803",
   "metadata": {
    "execution": {
     "iopub.execute_input": "2021-04-20T06:58:47.267171Z",
     "iopub.status.busy": "2021-04-20T06:58:47.265987Z",
     "iopub.status.idle": "2021-04-20T06:58:47.295012Z",
     "shell.execute_reply": "2021-04-20T06:58:47.293914Z"
    }
   },
   "outputs": [
    {
     "data": {
      "image/svg+xml": [
       "<?xml version=\"1.0\" encoding=\"UTF-8\" standalone=\"no\"?><svg xmlns=\"http://www.w3.org/2000/svg\" xmlns:xlink=\"http://www.w3.org/1999/xlink\" contentScriptType=\"application/ecmascript\" contentStyleType=\"text/css\" height=\"221px\" preserveAspectRatio=\"none\" style=\"width:213px;height:221px;\" version=\"1.1\" viewBox=\"0 0 213 221\" width=\"213px\" zoomAndPan=\"magnify\"><defs/><g><!--MD5=[fbc87193dbaf4d95561dea2c320d4a47]\n",
       "cluster E1--><a href=\"psysml:6ab71797-e8f8-4bff-ada3-bad51ca07e78\" target=\"_top\" title=\"psysml:6ab71797-e8f8-4bff-ada3-bad51ca07e78\" xlink:actuate=\"onRequest\" xlink:href=\"psysml:6ab71797-e8f8-4bff-ada3-bad51ca07e78\" xlink:show=\"new\" xlink:title=\"psysml:6ab71797-e8f8-4bff-ada3-bad51ca07e78\" xlink:type=\"simple\"><polygon fill=\"#FFFFFF\" points=\"16,6,34,6,41,28.2969,191,28.2969,191,209,16,209,16,6\" style=\"stroke: #000000; stroke-width: 1.5;\"/><line style=\"stroke: #000000; stroke-width: 1.5;\" x1=\"16\" x2=\"41\" y1=\"28.2969\" y2=\"28.2969\"/><text fill=\"#000000\" font-family=\"sans-serif\" font-size=\"14\" font-weight=\"bold\" lengthAdjust=\"spacingAndGlyphs\" textLength=\"12\" x=\"20\" y=\"20.9951\">Q</text></a><!--MD5=[b4997ac47864f28c2f74865a473b2911]\n",
       "class E2--><a href=\"psysml:c02a2287-c712-494f-86c8-48c213fef3aa\" target=\"_top\" title=\"psysml:c02a2287-c712-494f-86c8-48c213fef3aa\" xlink:actuate=\"onRequest\" xlink:href=\"psysml:c02a2287-c712-494f-86c8-48c213fef3aa\" xlink:show=\"new\" xlink:title=\"psysml:c02a2287-c712-494f-86c8-48c213fef3aa\" xlink:type=\"simple\"><rect fill=\"#FFFFFF\" height=\"45.9375\" id=\"E2\" rx=\"10\" ry=\"10\" style=\"stroke: #383838; stroke-width: 1.5;\" width=\"42\" x=\"133\" y=\"41\"/><text fill=\"#000000\" font-family=\"sans-serif\" font-size=\"12\" font-style=\"italic\" lengthAdjust=\"spacingAndGlyphs\" textLength=\"40\" x=\"134\" y=\"57.1387\">«part»</text><text fill=\"#000000\" font-family=\"sans-serif\" font-size=\"12\" lengthAdjust=\"spacingAndGlyphs\" textLength=\"4\" x=\"152\" y=\"71.1074\">f</text><line style=\"stroke: #383838; stroke-width: 1.5;\" x1=\"134\" x2=\"174\" y1=\"78.9375\" y2=\"78.9375\"/></a><!--MD5=[09b614a08d8cba4a07c9adeb5e0fee81]\n",
       "class E3--><a href=\"psysml:b53848ad-4a38-46bd-bd01-a08ed5bc4cea\" target=\"_top\" title=\"psysml:b53848ad-4a38-46bd-bd01-a08ed5bc4cea\" xlink:actuate=\"onRequest\" xlink:href=\"psysml:b53848ad-4a38-46bd-bd01-a08ed5bc4cea\" xlink:show=\"new\" xlink:title=\"psysml:b53848ad-4a38-46bd-bd01-a08ed5bc4cea\" xlink:type=\"simple\"><rect fill=\"#FFFFFF\" height=\"45.9375\" id=\"E3\" rx=\"10\" ry=\"10\" style=\"stroke: #383838; stroke-width: 1.5;\" width=\"42\" x=\"133\" y=\"147\"/><text fill=\"#000000\" font-family=\"sans-serif\" font-size=\"12\" font-style=\"italic\" lengthAdjust=\"spacingAndGlyphs\" textLength=\"40\" x=\"134\" y=\"163.1387\">«part»</text><text fill=\"#000000\" font-family=\"sans-serif\" font-size=\"12\" lengthAdjust=\"spacingAndGlyphs\" textLength=\"8\" x=\"150\" y=\"177.1074\">a</text><line style=\"stroke: #383838; stroke-width: 1.5;\" x1=\"134\" x2=\"174\" y1=\"184.9375\" y2=\"184.9375\"/></a><!--MD5=[ebbe1d658d1005bcc118a6aa81145e00]\n",
       "class E4--><a href=\"psysml:562783b8-e65b-4087-86a0-89c793c14f93\" target=\"_top\" title=\"psysml:562783b8-e65b-4087-86a0-89c793c14f93\" xlink:actuate=\"onRequest\" xlink:href=\"psysml:562783b8-e65b-4087-86a0-89c793c14f93\" xlink:show=\"new\" xlink:title=\"psysml:562783b8-e65b-4087-86a0-89c793c14f93\" xlink:type=\"simple\"><rect fill=\"#FFFFFF\" height=\"45.9375\" id=\"E4\" style=\"stroke: #383838; stroke-width: 1.5;\" width=\"66\" x=\"32\" y=\"41\"/><text fill=\"#000000\" font-family=\"sans-serif\" font-size=\"12\" font-style=\"italic\" lengthAdjust=\"spacingAndGlyphs\" textLength=\"64\" x=\"33\" y=\"57.1387\">«part def»</text><text fill=\"#000000\" font-family=\"sans-serif\" font-size=\"12\" lengthAdjust=\"spacingAndGlyphs\" textLength=\"8\" x=\"61\" y=\"71.1074\">C</text><line style=\"stroke: #383838; stroke-width: 1.5;\" x1=\"33\" x2=\"97\" y1=\"78.9375\" y2=\"78.9375\"/></a><!--MD5=[270fce915f116d4de14055a7c1d9a0f3]\n",
       "class E5--><a href=\"psysml:ab356c3f-6fc6-498c-877e-f29aa221dc38\" target=\"_top\" title=\"psysml:ab356c3f-6fc6-498c-877e-f29aa221dc38\" xlink:actuate=\"onRequest\" xlink:href=\"psysml:ab356c3f-6fc6-498c-877e-f29aa221dc38\" xlink:show=\"new\" xlink:title=\"psysml:ab356c3f-6fc6-498c-877e-f29aa221dc38\" xlink:type=\"simple\"><rect fill=\"#FFFFFF\" height=\"45.9375\" id=\"E5\" rx=\"10\" ry=\"10\" style=\"stroke: #383838; stroke-width: 1.5;\" width=\"42\" x=\"44\" y=\"147\"/><text fill=\"#000000\" font-family=\"sans-serif\" font-size=\"12\" font-style=\"italic\" lengthAdjust=\"spacingAndGlyphs\" textLength=\"40\" x=\"45\" y=\"163.1387\">«part»</text><text fill=\"#000000\" font-family=\"sans-serif\" font-size=\"12\" lengthAdjust=\"spacingAndGlyphs\" textLength=\"8\" x=\"61\" y=\"177.1074\">g</text><line style=\"stroke: #383838; stroke-width: 1.5;\" x1=\"45\" x2=\"85\" y1=\"184.9375\" y2=\"184.9375\"/></a><!--MD5=[209b3feb70ccb6233bfe1053d122c12c]\n",
       "reverse link E2 to E3--><a href=\"psysml:3a53f0eb-5b79-463f-97a3-37a7a9b28614\" target=\"_top\" title=\"psysml:3a53f0eb-5b79-463f-97a3-37a7a9b28614\" xlink:actuate=\"onRequest\" xlink:href=\"psysml:3a53f0eb-5b79-463f-97a3-37a7a9b28614\" xlink:show=\"new\" xlink:title=\"psysml:3a53f0eb-5b79-463f-97a3-37a7a9b28614\" xlink:type=\"simple\"><path d=\"M154,100.44 C154,115.87 154,133.47 154,146.98 \" fill=\"none\" id=\"E2&lt;-E3\" style=\"stroke: #383838; stroke-width: 1.0;\"/><polygon fill=\"#383838\" points=\"154,87.06,150,93.06,154,99.06,158,93.06,154,87.06\" style=\"stroke: #383838; stroke-width: 1.0;\"/></a><!--MD5=[62aa6af11e70f752912c1cb0466f24f7]\n",
       "reverse link E4 to E5--><a href=\"psysml:b96f3833-0cb6-4ba3-9671-acfc6ae0d964\" target=\"_top\" title=\"psysml:b96f3833-0cb6-4ba3-9671-acfc6ae0d964\" xlink:actuate=\"onRequest\" xlink:href=\"psysml:b96f3833-0cb6-4ba3-9671-acfc6ae0d964\" xlink:show=\"new\" xlink:title=\"psysml:b96f3833-0cb6-4ba3-9671-acfc6ae0d964\" xlink:type=\"simple\"><path d=\"M65,100.44 C65,115.87 65,133.47 65,146.98 \" fill=\"none\" id=\"E4&lt;-E5\" style=\"stroke: #383838; stroke-width: 1.0;\"/><polygon fill=\"#383838\" points=\"65,87.06,61,93.06,65,99.06,69,93.06,65,87.06\" style=\"stroke: #383838; stroke-width: 1.0;\"/></a><!--MD5=[b4b4d1dcae693eacc8e63c3db48d43a8]\n",
       "@startuml\r\n",
       "top to bottom direction\r\n",
       "skinparam monochrome true\r\n",
       "skinparam classbackgroundcolor white\r\n",
       "skinparam shadowing false\r\n",
       "skinparam wrapWidth 300\r\n",
       "hide circle\r\n",
       "\r\n",
       "package \"Q\" as E1  [[psysml:6ab71797-e8f8-4bff-ada3-bad51ca07e78 ]]  {\r\n",
       "comp usage \"f\" as E2  <<(T,blue)part>> [[psysml:c02a2287-c712-494f-86c8-48c213fef3aa ]] {\r\n",
       "}\r\n",
       "comp usage \"a\" as E3  <<(T,blue)part>> [[psysml:b53848ad-4a38-46bd-bd01-a08ed5bc4cea ]] {\r\n",
       "}\r\n",
       "comp def \"C\" as E4  <<(T,blue)part def>> [[psysml:562783b8-e65b-4087-86a0-89c793c14f93 ]] {\r\n",
       "}\r\n",
       "comp usage \"g\" as E5  <<(T,blue)part>> [[psysml:ab356c3f-6fc6-498c-877e-f29aa221dc38 ]] {\r\n",
       "}\r\n",
       "E2 *- - E3 [[psysml:3a53f0eb-5b79-463f-97a3-37a7a9b28614 ]] \r\n",
       "E4 *- - E5 [[psysml:b96f3833-0cb6-4ba3-9671-acfc6ae0d964 ]] \r\n",
       "}\r\n",
       "@enduml\r\n",
       "\n",
       "PlantUML version 1.2020.13(Sat Jun 13 12:26:38 UTC 2020)\n",
       "(EPL source distribution)\n",
       "Java Runtime: OpenJDK Runtime Environment\n",
       "JVM: OpenJDK 64-Bit Server VM\n",
       "Default Encoding: UTF-8\n",
       "Language: en\n",
       "Country: null\n",
       "--></g></svg>"
      ]
     },
     "execution_count": 44,
     "metadata": {},
     "output_type": "execute_result"
    }
   ],
   "source": [
    "%viz --style=\"TB\" --view=\"Default\" \"Q\""
   ]
  },
  {
   "cell_type": "code",
   "execution_count": 45,
   "id": "575538d4",
   "metadata": {
    "execution": {
     "iopub.execute_input": "2021-04-20T06:58:47.348124Z",
     "iopub.status.busy": "2021-04-20T06:58:47.347652Z",
     "iopub.status.idle": "2021-04-20T06:58:47.374162Z",
     "shell.execute_reply": "2021-04-20T06:58:47.372606Z"
    }
   },
   "outputs": [
    {
     "data": {
      "image/svg+xml": [
       "<?xml version=\"1.0\" encoding=\"UTF-8\" standalone=\"no\"?><svg xmlns=\"http://www.w3.org/2000/svg\" xmlns:xlink=\"http://www.w3.org/1999/xlink\" contentScriptType=\"application/ecmascript\" contentStyleType=\"text/css\" height=\"221px\" preserveAspectRatio=\"none\" style=\"width:213px;height:221px;\" version=\"1.1\" viewBox=\"0 0 213 221\" width=\"213px\" zoomAndPan=\"magnify\"><defs/><g><!--MD5=[fbc87193dbaf4d95561dea2c320d4a47]\n",
       "cluster E1--><a href=\"psysml:6ab71797-e8f8-4bff-ada3-bad51ca07e78\" target=\"_top\" title=\"psysml:6ab71797-e8f8-4bff-ada3-bad51ca07e78\" xlink:actuate=\"onRequest\" xlink:href=\"psysml:6ab71797-e8f8-4bff-ada3-bad51ca07e78\" xlink:show=\"new\" xlink:title=\"psysml:6ab71797-e8f8-4bff-ada3-bad51ca07e78\" xlink:type=\"simple\"><polygon fill=\"#FFFFFF\" points=\"16,6,34,6,41,28.2969,191,28.2969,191,209,16,209,16,6\" style=\"stroke: #000000; stroke-width: 1.5;\"/><line style=\"stroke: #000000; stroke-width: 1.5;\" x1=\"16\" x2=\"41\" y1=\"28.2969\" y2=\"28.2969\"/><text fill=\"#000000\" font-family=\"sans-serif\" font-size=\"14\" font-weight=\"bold\" lengthAdjust=\"spacingAndGlyphs\" textLength=\"12\" x=\"20\" y=\"20.9951\">Q</text></a><!--MD5=[b4997ac47864f28c2f74865a473b2911]\n",
       "class E2--><a href=\"psysml:c02a2287-c712-494f-86c8-48c213fef3aa\" target=\"_top\" title=\"psysml:c02a2287-c712-494f-86c8-48c213fef3aa\" xlink:actuate=\"onRequest\" xlink:href=\"psysml:c02a2287-c712-494f-86c8-48c213fef3aa\" xlink:show=\"new\" xlink:title=\"psysml:c02a2287-c712-494f-86c8-48c213fef3aa\" xlink:type=\"simple\"><rect fill=\"#FFFFFF\" height=\"45.9375\" id=\"E2\" rx=\"10\" ry=\"10\" style=\"stroke: #383838; stroke-width: 1.5;\" width=\"42\" x=\"133\" y=\"41\"/><text fill=\"#000000\" font-family=\"sans-serif\" font-size=\"12\" font-style=\"italic\" lengthAdjust=\"spacingAndGlyphs\" textLength=\"40\" x=\"134\" y=\"57.1387\">«part»</text><text fill=\"#000000\" font-family=\"sans-serif\" font-size=\"12\" lengthAdjust=\"spacingAndGlyphs\" textLength=\"4\" x=\"152\" y=\"71.1074\">f</text><line style=\"stroke: #383838; stroke-width: 1.5;\" x1=\"134\" x2=\"174\" y1=\"78.9375\" y2=\"78.9375\"/></a><!--MD5=[09b614a08d8cba4a07c9adeb5e0fee81]\n",
       "class E3--><a href=\"psysml:b53848ad-4a38-46bd-bd01-a08ed5bc4cea\" target=\"_top\" title=\"psysml:b53848ad-4a38-46bd-bd01-a08ed5bc4cea\" xlink:actuate=\"onRequest\" xlink:href=\"psysml:b53848ad-4a38-46bd-bd01-a08ed5bc4cea\" xlink:show=\"new\" xlink:title=\"psysml:b53848ad-4a38-46bd-bd01-a08ed5bc4cea\" xlink:type=\"simple\"><rect fill=\"#FFFFFF\" height=\"45.9375\" id=\"E3\" rx=\"10\" ry=\"10\" style=\"stroke: #383838; stroke-width: 1.5;\" width=\"42\" x=\"133\" y=\"147\"/><text fill=\"#000000\" font-family=\"sans-serif\" font-size=\"12\" font-style=\"italic\" lengthAdjust=\"spacingAndGlyphs\" textLength=\"40\" x=\"134\" y=\"163.1387\">«part»</text><text fill=\"#000000\" font-family=\"sans-serif\" font-size=\"12\" lengthAdjust=\"spacingAndGlyphs\" textLength=\"8\" x=\"150\" y=\"177.1074\">a</text><line style=\"stroke: #383838; stroke-width: 1.5;\" x1=\"134\" x2=\"174\" y1=\"184.9375\" y2=\"184.9375\"/></a><!--MD5=[ebbe1d658d1005bcc118a6aa81145e00]\n",
       "class E4--><a href=\"psysml:562783b8-e65b-4087-86a0-89c793c14f93\" target=\"_top\" title=\"psysml:562783b8-e65b-4087-86a0-89c793c14f93\" xlink:actuate=\"onRequest\" xlink:href=\"psysml:562783b8-e65b-4087-86a0-89c793c14f93\" xlink:show=\"new\" xlink:title=\"psysml:562783b8-e65b-4087-86a0-89c793c14f93\" xlink:type=\"simple\"><rect fill=\"#FFFFFF\" height=\"45.9375\" id=\"E4\" style=\"stroke: #383838; stroke-width: 1.5;\" width=\"66\" x=\"32\" y=\"41\"/><text fill=\"#000000\" font-family=\"sans-serif\" font-size=\"12\" font-style=\"italic\" lengthAdjust=\"spacingAndGlyphs\" textLength=\"64\" x=\"33\" y=\"57.1387\">«part def»</text><text fill=\"#000000\" font-family=\"sans-serif\" font-size=\"12\" lengthAdjust=\"spacingAndGlyphs\" textLength=\"8\" x=\"61\" y=\"71.1074\">C</text><line style=\"stroke: #383838; stroke-width: 1.5;\" x1=\"33\" x2=\"97\" y1=\"78.9375\" y2=\"78.9375\"/></a><!--MD5=[270fce915f116d4de14055a7c1d9a0f3]\n",
       "class E5--><a href=\"psysml:ab356c3f-6fc6-498c-877e-f29aa221dc38\" target=\"_top\" title=\"psysml:ab356c3f-6fc6-498c-877e-f29aa221dc38\" xlink:actuate=\"onRequest\" xlink:href=\"psysml:ab356c3f-6fc6-498c-877e-f29aa221dc38\" xlink:show=\"new\" xlink:title=\"psysml:ab356c3f-6fc6-498c-877e-f29aa221dc38\" xlink:type=\"simple\"><rect fill=\"#FFFFFF\" height=\"45.9375\" id=\"E5\" rx=\"10\" ry=\"10\" style=\"stroke: #383838; stroke-width: 1.5;\" width=\"42\" x=\"44\" y=\"147\"/><text fill=\"#000000\" font-family=\"sans-serif\" font-size=\"12\" font-style=\"italic\" lengthAdjust=\"spacingAndGlyphs\" textLength=\"40\" x=\"45\" y=\"163.1387\">«part»</text><text fill=\"#000000\" font-family=\"sans-serif\" font-size=\"12\" lengthAdjust=\"spacingAndGlyphs\" textLength=\"8\" x=\"61\" y=\"177.1074\">g</text><line style=\"stroke: #383838; stroke-width: 1.5;\" x1=\"45\" x2=\"85\" y1=\"184.9375\" y2=\"184.9375\"/></a><!--MD5=[209b3feb70ccb6233bfe1053d122c12c]\n",
       "reverse link E2 to E3--><a href=\"psysml:3a53f0eb-5b79-463f-97a3-37a7a9b28614\" target=\"_top\" title=\"psysml:3a53f0eb-5b79-463f-97a3-37a7a9b28614\" xlink:actuate=\"onRequest\" xlink:href=\"psysml:3a53f0eb-5b79-463f-97a3-37a7a9b28614\" xlink:show=\"new\" xlink:title=\"psysml:3a53f0eb-5b79-463f-97a3-37a7a9b28614\" xlink:type=\"simple\"><path d=\"M154,100.44 C154,115.87 154,133.47 154,146.98 \" fill=\"none\" id=\"E2&lt;-E3\" style=\"stroke: #383838; stroke-width: 1.0;\"/><polygon fill=\"#383838\" points=\"154,87.06,150,93.06,154,99.06,158,93.06,154,87.06\" style=\"stroke: #383838; stroke-width: 1.0;\"/></a><!--MD5=[62aa6af11e70f752912c1cb0466f24f7]\n",
       "reverse link E4 to E5--><a href=\"psysml:b96f3833-0cb6-4ba3-9671-acfc6ae0d964\" target=\"_top\" title=\"psysml:b96f3833-0cb6-4ba3-9671-acfc6ae0d964\" xlink:actuate=\"onRequest\" xlink:href=\"psysml:b96f3833-0cb6-4ba3-9671-acfc6ae0d964\" xlink:show=\"new\" xlink:title=\"psysml:b96f3833-0cb6-4ba3-9671-acfc6ae0d964\" xlink:type=\"simple\"><path d=\"M65,100.44 C65,115.87 65,133.47 65,146.98 \" fill=\"none\" id=\"E4&lt;-E5\" style=\"stroke: #383838; stroke-width: 1.0;\"/><polygon fill=\"#383838\" points=\"65,87.06,61,93.06,65,99.06,69,93.06,65,87.06\" style=\"stroke: #383838; stroke-width: 1.0;\"/></a><!--MD5=[b4b4d1dcae693eacc8e63c3db48d43a8]\n",
       "@startuml\r\n",
       "top to bottom direction\r\n",
       "skinparam monochrome true\r\n",
       "skinparam classbackgroundcolor white\r\n",
       "skinparam shadowing false\r\n",
       "skinparam wrapWidth 300\r\n",
       "hide circle\r\n",
       "\r\n",
       "package \"Q\" as E1  [[psysml:6ab71797-e8f8-4bff-ada3-bad51ca07e78 ]]  {\r\n",
       "comp usage \"f\" as E2  <<(T,blue)part>> [[psysml:c02a2287-c712-494f-86c8-48c213fef3aa ]] {\r\n",
       "}\r\n",
       "comp usage \"a\" as E3  <<(T,blue)part>> [[psysml:b53848ad-4a38-46bd-bd01-a08ed5bc4cea ]] {\r\n",
       "}\r\n",
       "comp def \"C\" as E4  <<(T,blue)part def>> [[psysml:562783b8-e65b-4087-86a0-89c793c14f93 ]] {\r\n",
       "}\r\n",
       "comp usage \"g\" as E5  <<(T,blue)part>> [[psysml:ab356c3f-6fc6-498c-877e-f29aa221dc38 ]] {\r\n",
       "}\r\n",
       "E2 *- - E3 [[psysml:3a53f0eb-5b79-463f-97a3-37a7a9b28614 ]] \r\n",
       "E4 *- - E5 [[psysml:b96f3833-0cb6-4ba3-9671-acfc6ae0d964 ]] \r\n",
       "}\r\n",
       "@enduml\r\n",
       "\n",
       "PlantUML version 1.2020.13(Sat Jun 13 12:26:38 UTC 2020)\n",
       "(EPL source distribution)\n",
       "Java Runtime: OpenJDK Runtime Environment\n",
       "JVM: OpenJDK 64-Bit Server VM\n",
       "Default Encoding: UTF-8\n",
       "Language: en\n",
       "Country: null\n",
       "--></g></svg>"
      ]
     },
     "execution_count": 45,
     "metadata": {},
     "output_type": "execute_result"
    }
   ],
   "source": [
    "%viz --style=\"TB\" --view=\"Tree\" \"Q\""
   ]
  },
  {
   "cell_type": "code",
   "execution_count": 46,
   "id": "8f49f7d5",
   "metadata": {
    "execution": {
     "iopub.execute_input": "2021-04-20T06:58:47.427292Z",
     "iopub.status.busy": "2021-04-20T06:58:47.426708Z",
     "iopub.status.idle": "2021-04-20T06:58:47.434937Z",
     "shell.execute_reply": "2021-04-20T06:58:47.434612Z"
    }
   },
   "outputs": [
    {
     "data": {
      "image/svg+xml": [
       "<?xml version=\"1.0\" encoding=\"UTF-8\" standalone=\"no\"?><svg xmlns=\"http://www.w3.org/2000/svg\" xmlns:xlink=\"http://www.w3.org/1999/xlink\" contentScriptType=\"application/ecmascript\" contentStyleType=\"text/css\" height=\"12px\" preserveAspectRatio=\"none\" style=\"width:12px;height:12px;\" version=\"1.1\" viewBox=\"0 0 12 12\" width=\"12px\" zoomAndPan=\"magnify\"><defs/><g><!--MD5=[f4ee21bc66e489b5061b7c3e9601fdef]\n",
       "@startuml\r\n",
       "top to bottom direction\r\n",
       "skinparam monochrome true\r\n",
       "skinparam classbackgroundcolor white\r\n",
       "skinparam shadowing false\r\n",
       "skinparam wrapWidth 300\r\n",
       "hide circle\r\n",
       "\r\n",
       "@enduml\r\n",
       "\n",
       "PlantUML version 1.2020.13(Sat Jun 13 12:26:38 UTC 2020)\n",
       "(EPL source distribution)\n",
       "Java Runtime: OpenJDK Runtime Environment\n",
       "JVM: OpenJDK 64-Bit Server VM\n",
       "Default Encoding: UTF-8\n",
       "Language: en\n",
       "Country: null\n",
       "--></g></svg>"
      ]
     },
     "execution_count": 46,
     "metadata": {},
     "output_type": "execute_result"
    }
   ],
   "source": [
    "%viz --style=\"TB\" --view=\"State\" \"Q\""
   ]
  },
  {
   "cell_type": "code",
   "execution_count": 47,
   "id": "1df95549",
   "metadata": {
    "execution": {
     "iopub.execute_input": "2021-04-20T06:58:47.486097Z",
     "iopub.status.busy": "2021-04-20T06:58:47.485554Z",
     "iopub.status.idle": "2021-04-20T06:58:47.511375Z",
     "shell.execute_reply": "2021-04-20T06:58:47.510163Z"
    }
   },
   "outputs": [
    {
     "data": {
      "image/svg+xml": [
       "<?xml version=\"1.0\" encoding=\"UTF-8\" standalone=\"no\"?><svg xmlns=\"http://www.w3.org/2000/svg\" xmlns:xlink=\"http://www.w3.org/1999/xlink\" contentScriptType=\"application/ecmascript\" contentStyleType=\"text/css\" height=\"192px\" preserveAspectRatio=\"none\" style=\"width:286px;height:192px;\" version=\"1.1\" viewBox=\"0 0 286 192\" width=\"286px\" zoomAndPan=\"magnify\"><defs/><g><!--MD5=[fbc87193dbaf4d95561dea2c320d4a47]\n",
       "cluster E1--><a href=\"psysml:6ab71797-e8f8-4bff-ada3-bad51ca07e78\" target=\"_top\" title=\"psysml:6ab71797-e8f8-4bff-ada3-bad51ca07e78\" xlink:actuate=\"onRequest\" xlink:href=\"psysml:6ab71797-e8f8-4bff-ada3-bad51ca07e78\" xlink:show=\"new\" xlink:title=\"psysml:6ab71797-e8f8-4bff-ada3-bad51ca07e78\" xlink:type=\"simple\"><polygon fill=\"#FFFFFF\" points=\"16,6,34,6,41,28.2969,264,28.2969,264,180,16,180,16,6\" style=\"stroke: #000000; stroke-width: 1.5;\"/><line style=\"stroke: #000000; stroke-width: 1.5;\" x1=\"16\" x2=\"41\" y1=\"28.2969\" y2=\"28.2969\"/><text fill=\"#000000\" font-family=\"sans-serif\" font-size=\"14\" font-weight=\"bold\" lengthAdjust=\"spacingAndGlyphs\" textLength=\"12\" x=\"20\" y=\"20.9951\">Q</text></a><!--MD5=[e4f7fae6ed58524ba242bb0b0d3be6b7]\n",
       "cluster E2--><a href=\"psysml:c02a2287-c712-494f-86c8-48c213fef3aa\" target=\"_top\" title=\"psysml:c02a2287-c712-494f-86c8-48c213fef3aa\" xlink:actuate=\"onRequest\" xlink:href=\"psysml:c02a2287-c712-494f-86c8-48c213fef3aa\" xlink:show=\"new\" xlink:title=\"psysml:c02a2287-c712-494f-86c8-48c213fef3aa\" xlink:type=\"simple\"><rect fill=\"#FFFFFF\" height=\"91\" id=\"E2\" rx=\"10\" ry=\"10\" style=\"stroke: #383838; stroke-width: 1.5;\" width=\"82\" x=\"158\" y=\"65\"/><rect fill=\"#F8F8F8\" height=\"23.9688\" rx=\"10\" ry=\"10\" style=\"stroke: #F8F8F8; stroke-width: 1.5;\" width=\"82\" x=\"158\" y=\"65\"/><rect fill=\"#F8F8F8\" height=\"10\" style=\"stroke: #F8F8F8; stroke-width: 1.5;\" width=\"82\" x=\"158\" y=\"78.9688\"/><rect fill=\"none\" height=\"91\" id=\"E2\" rx=\"10\" ry=\"10\" style=\"stroke: #383838; stroke-width: 1.5;\" width=\"82\" x=\"158\" y=\"65\"/><text fill=\"#000000\" font-family=\"sans-serif\" font-size=\"12\" lengthAdjust=\"spacingAndGlyphs\" textLength=\"4\" x=\"197\" y=\"81.1387\">f</text><line style=\"stroke: #383838; stroke-width: 1.0;\" x1=\"158\" x2=\"240\" y1=\"88.9688\" y2=\"88.9688\"/></a><!--MD5=[f6df4d0ebaf0b5dfb2ced0ae5af7c670]\n",
       "cluster E4--><a href=\"psysml:562783b8-e65b-4087-86a0-89c793c14f93\" target=\"_top\" title=\"psysml:562783b8-e65b-4087-86a0-89c793c14f93\" xlink:actuate=\"onRequest\" xlink:href=\"psysml:562783b8-e65b-4087-86a0-89c793c14f93\" xlink:show=\"new\" xlink:title=\"psysml:562783b8-e65b-4087-86a0-89c793c14f93\" xlink:type=\"simple\"><rect fill=\"#FFFFFF\" height=\"107\" id=\"E4\" style=\"stroke: #383838; stroke-width: 1.5;\" width=\"94\" x=\"40\" y=\"49\"/><rect fill=\"#F8F8F8\" height=\"37.9375\" style=\"stroke: #383838; stroke-width: 1.5;\" width=\"94\" x=\"40\" y=\"49\"/><text fill=\"#000000\" font-family=\"sans-serif\" font-size=\"12\" font-style=\"italic\" lengthAdjust=\"spacingAndGlyphs\" textLength=\"64\" x=\"55\" y=\"65.1387\">«part def»</text><text fill=\"#000000\" font-family=\"sans-serif\" font-size=\"12\" lengthAdjust=\"spacingAndGlyphs\" textLength=\"8\" x=\"83\" y=\"79.1074\">C</text></a><g id=\"E1.E2.E3\"><a href=\"psysml:b53848ad-4a38-46bd-bd01-a08ed5bc4cea\" target=\"_top\" title=\"psysml:b53848ad-4a38-46bd-bd01-a08ed5bc4cea\" xlink:actuate=\"onRequest\" xlink:href=\"psysml:b53848ad-4a38-46bd-bd01-a08ed5bc4cea\" xlink:show=\"new\" xlink:title=\"psysml:b53848ad-4a38-46bd-bd01-a08ed5bc4cea\" xlink:type=\"simple\"><rect fill=\"#FFFFFF\" height=\"40\" id=\"E3\" rx=\"10\" ry=\"10\" style=\"stroke: #383838; stroke-width: 1.5;\" width=\"50\" x=\"174\" y=\"100\"/><rect fill=\"#F8F8F8\" height=\"23.9688\" rx=\"10\" ry=\"10\" style=\"stroke: #F8F8F8; stroke-width: 1.5;\" width=\"50\" x=\"174\" y=\"100\"/><rect fill=\"#F8F8F8\" height=\"10\" style=\"stroke: #F8F8F8; stroke-width: 1.5;\" width=\"50\" x=\"174\" y=\"113.9688\"/><rect fill=\"none\" height=\"40\" id=\"E3\" rx=\"10\" ry=\"10\" style=\"stroke: #383838; stroke-width: 1.5;\" width=\"50\" x=\"174\" y=\"100\"/><text fill=\"#000000\" font-family=\"sans-serif\" font-size=\"12\" lengthAdjust=\"spacingAndGlyphs\" textLength=\"8\" x=\"195\" y=\"116.1387\">a</text></a></g><g id=\"E1.E4.E5\"><a href=\"psysml:ab356c3f-6fc6-498c-877e-f29aa221dc38\" target=\"_top\" title=\"psysml:ab356c3f-6fc6-498c-877e-f29aa221dc38\" xlink:actuate=\"onRequest\" xlink:href=\"psysml:ab356c3f-6fc6-498c-877e-f29aa221dc38\" xlink:show=\"new\" xlink:title=\"psysml:ab356c3f-6fc6-498c-877e-f29aa221dc38\" xlink:type=\"simple\"><rect fill=\"#FFFFFF\" height=\"40\" id=\"E5\" rx=\"10\" ry=\"10\" style=\"stroke: #383838; stroke-width: 1.5;\" width=\"61\" x=\"56.5\" y=\"100\"/><rect fill=\"#F8F8F8\" height=\"23.9688\" rx=\"10\" ry=\"10\" style=\"stroke: #F8F8F8; stroke-width: 1.5;\" width=\"61\" x=\"56.5\" y=\"100\"/><rect fill=\"#F8F8F8\" height=\"10\" style=\"stroke: #F8F8F8; stroke-width: 1.5;\" width=\"61\" x=\"56.5\" y=\"113.9688\"/><rect fill=\"none\" height=\"40\" id=\"E5\" rx=\"10\" ry=\"10\" style=\"stroke: #383838; stroke-width: 1.5;\" width=\"61\" x=\"56.5\" y=\"100\"/><text fill=\"#000000\" font-family=\"sans-serif\" font-size=\"12\" lengthAdjust=\"spacingAndGlyphs\" textLength=\"46\" x=\"62\" y=\"116.1387\">g=./f/a;</text></a></g><!--MD5=[7ff1e4715906e87ba57d7a6348f57161]\n",
       "@startuml\r\n",
       "skinparam ranksep 10\r\n",
       "skinparam rectangle {\r\n",
       " backgroundColor<<block>> LightGreen\r\n",
       "}\r\n",
       "top to bottom direction\r\n",
       "skinparam monochrome true\r\n",
       "skinparam classbackgroundcolor white\r\n",
       "skinparam shadowing false\r\n",
       "skinparam wrapWidth 300\r\n",
       "hide circle\r\n",
       "\r\n",
       "package \"Q\" as E1  [[psysml:6ab71797-e8f8-4bff-ada3-bad51ca07e78 ]]  {\r\n",
       "rec usage \"f\" as E2  [[psysml:c02a2287-c712-494f-86c8-48c213fef3aa ]] {\r\n",
       "rec usage \"a\" as E3  [[psysml:b53848ad-4a38-46bd-bd01-a08ed5bc4cea ]] {\r\n",
       "}\r\n",
       "}\r\n",
       "rec def \"C\" as E4  <<(T,blue)part def>> [[psysml:562783b8-e65b-4087-86a0-89c793c14f93 ]] {\r\n",
       "rec usage \"g=./f/a; \" as E5  [[psysml:ab356c3f-6fc6-498c-877e-f29aa221dc38 ]] {\r\n",
       "}\r\n",
       "}\r\n",
       "}\r\n",
       "@enduml\r\n",
       "\n",
       "PlantUML version 1.2020.13(Sat Jun 13 12:26:38 UTC 2020)\n",
       "(EPL source distribution)\n",
       "Java Runtime: OpenJDK Runtime Environment\n",
       "JVM: OpenJDK 64-Bit Server VM\n",
       "Default Encoding: UTF-8\n",
       "Language: en\n",
       "Country: null\n",
       "--></g></svg>"
      ]
     },
     "execution_count": 47,
     "metadata": {},
     "output_type": "execute_result"
    }
   ],
   "source": [
    "%viz --style=\"TB\" --view=\"Interconnection\" \"Q\""
   ]
  },
  {
   "cell_type": "code",
   "execution_count": 48,
   "id": "9830c52b",
   "metadata": {
    "execution": {
     "iopub.execute_input": "2021-04-20T06:58:47.562468Z",
     "iopub.status.busy": "2021-04-20T06:58:47.561916Z",
     "iopub.status.idle": "2021-04-20T06:58:47.567213Z",
     "shell.execute_reply": "2021-04-20T06:58:47.566848Z"
    }
   },
   "outputs": [
    {
     "data": {
      "image/svg+xml": [
       "<?xml version=\"1.0\" encoding=\"UTF-8\" standalone=\"no\"?><svg xmlns=\"http://www.w3.org/2000/svg\" xmlns:xlink=\"http://www.w3.org/1999/xlink\" contentScriptType=\"application/ecmascript\" contentStyleType=\"text/css\" height=\"12px\" preserveAspectRatio=\"none\" style=\"width:12px;height:12px;\" version=\"1.1\" viewBox=\"0 0 12 12\" width=\"12px\" zoomAndPan=\"magnify\"><defs/><g><!--MD5=[06afc254b03ac5e9d9fb7773b07d0800]\n",
       "@startuml\r\n",
       "skinparam ranksep 8\r\n",
       "top to bottom direction\r\n",
       "skinparam monochrome true\r\n",
       "skinparam classbackgroundcolor white\r\n",
       "skinparam shadowing false\r\n",
       "skinparam wrapWidth 300\r\n",
       "hide circle\r\n",
       "\r\n",
       "@enduml\r\n",
       "\n",
       "PlantUML version 1.2020.13(Sat Jun 13 12:26:38 UTC 2020)\n",
       "(EPL source distribution)\n",
       "Java Runtime: OpenJDK Runtime Environment\n",
       "JVM: OpenJDK 64-Bit Server VM\n",
       "Default Encoding: UTF-8\n",
       "Language: en\n",
       "Country: null\n",
       "--></g></svg>"
      ]
     },
     "execution_count": 48,
     "metadata": {},
     "output_type": "execute_result"
    }
   ],
   "source": [
    "%viz --style=\"TB\" --view=\"Action\" \"Q\""
   ]
  },
  {
   "cell_type": "code",
   "execution_count": 49,
   "id": "9727a3d1",
   "metadata": {
    "execution": {
     "iopub.execute_input": "2021-04-20T06:58:47.618403Z",
     "iopub.status.busy": "2021-04-20T06:58:47.617729Z",
     "iopub.status.idle": "2021-04-20T06:58:47.641470Z",
     "shell.execute_reply": "2021-04-20T06:58:47.640161Z"
    }
   },
   "outputs": [
    {
     "data": {
      "image/svg+xml": [
       "<?xml version=\"1.0\" encoding=\"UTF-8\" standalone=\"no\"?><svg xmlns=\"http://www.w3.org/2000/svg\" xmlns:xlink=\"http://www.w3.org/1999/xlink\" contentScriptType=\"application/ecmascript\" contentStyleType=\"text/css\" height=\"221px\" preserveAspectRatio=\"none\" style=\"width:213px;height:221px;\" version=\"1.1\" viewBox=\"0 0 213 221\" width=\"213px\" zoomAndPan=\"magnify\"><defs/><g><!--MD5=[fbc87193dbaf4d95561dea2c320d4a47]\n",
       "cluster E1--><a href=\"psysml:6ab71797-e8f8-4bff-ada3-bad51ca07e78\" target=\"_top\" title=\"psysml:6ab71797-e8f8-4bff-ada3-bad51ca07e78\" xlink:actuate=\"onRequest\" xlink:href=\"psysml:6ab71797-e8f8-4bff-ada3-bad51ca07e78\" xlink:show=\"new\" xlink:title=\"psysml:6ab71797-e8f8-4bff-ada3-bad51ca07e78\" xlink:type=\"simple\"><polygon fill=\"#FFFFFF\" points=\"16,6,34,6,41,28.2969,191,28.2969,191,209,16,209,16,6\" style=\"stroke: #000000; stroke-width: 1.5;\"/><line style=\"stroke: #000000; stroke-width: 1.5;\" x1=\"16\" x2=\"41\" y1=\"28.2969\" y2=\"28.2969\"/><text fill=\"#000000\" font-family=\"sans-serif\" font-size=\"14\" font-weight=\"bold\" lengthAdjust=\"spacingAndGlyphs\" textLength=\"12\" x=\"20\" y=\"20.9951\">Q</text></a><!--MD5=[b4997ac47864f28c2f74865a473b2911]\n",
       "class E2--><a href=\"psysml:c02a2287-c712-494f-86c8-48c213fef3aa\" target=\"_top\" title=\"psysml:c02a2287-c712-494f-86c8-48c213fef3aa\" xlink:actuate=\"onRequest\" xlink:href=\"psysml:c02a2287-c712-494f-86c8-48c213fef3aa\" xlink:show=\"new\" xlink:title=\"psysml:c02a2287-c712-494f-86c8-48c213fef3aa\" xlink:type=\"simple\"><rect fill=\"#FFFFFF\" height=\"45.9375\" id=\"E2\" rx=\"10\" ry=\"10\" style=\"stroke: #383838; stroke-width: 1.5;\" width=\"42\" x=\"133\" y=\"41\"/><text fill=\"#000000\" font-family=\"sans-serif\" font-size=\"12\" font-style=\"italic\" lengthAdjust=\"spacingAndGlyphs\" textLength=\"40\" x=\"134\" y=\"57.1387\">«part»</text><text fill=\"#000000\" font-family=\"sans-serif\" font-size=\"12\" lengthAdjust=\"spacingAndGlyphs\" textLength=\"4\" x=\"152\" y=\"71.1074\">f</text><line style=\"stroke: #383838; stroke-width: 1.5;\" x1=\"134\" x2=\"174\" y1=\"78.9375\" y2=\"78.9375\"/></a><!--MD5=[09b614a08d8cba4a07c9adeb5e0fee81]\n",
       "class E3--><a href=\"psysml:b53848ad-4a38-46bd-bd01-a08ed5bc4cea\" target=\"_top\" title=\"psysml:b53848ad-4a38-46bd-bd01-a08ed5bc4cea\" xlink:actuate=\"onRequest\" xlink:href=\"psysml:b53848ad-4a38-46bd-bd01-a08ed5bc4cea\" xlink:show=\"new\" xlink:title=\"psysml:b53848ad-4a38-46bd-bd01-a08ed5bc4cea\" xlink:type=\"simple\"><rect fill=\"#FFFFFF\" height=\"45.9375\" id=\"E3\" rx=\"10\" ry=\"10\" style=\"stroke: #383838; stroke-width: 1.5;\" width=\"42\" x=\"133\" y=\"147\"/><text fill=\"#000000\" font-family=\"sans-serif\" font-size=\"12\" font-style=\"italic\" lengthAdjust=\"spacingAndGlyphs\" textLength=\"40\" x=\"134\" y=\"163.1387\">«part»</text><text fill=\"#000000\" font-family=\"sans-serif\" font-size=\"12\" lengthAdjust=\"spacingAndGlyphs\" textLength=\"8\" x=\"150\" y=\"177.1074\">a</text><line style=\"stroke: #383838; stroke-width: 1.5;\" x1=\"134\" x2=\"174\" y1=\"184.9375\" y2=\"184.9375\"/></a><!--MD5=[ebbe1d658d1005bcc118a6aa81145e00]\n",
       "class E4--><a href=\"psysml:562783b8-e65b-4087-86a0-89c793c14f93\" target=\"_top\" title=\"psysml:562783b8-e65b-4087-86a0-89c793c14f93\" xlink:actuate=\"onRequest\" xlink:href=\"psysml:562783b8-e65b-4087-86a0-89c793c14f93\" xlink:show=\"new\" xlink:title=\"psysml:562783b8-e65b-4087-86a0-89c793c14f93\" xlink:type=\"simple\"><rect fill=\"#FFFFFF\" height=\"45.9375\" id=\"E4\" style=\"stroke: #383838; stroke-width: 1.5;\" width=\"66\" x=\"32\" y=\"41\"/><text fill=\"#000000\" font-family=\"sans-serif\" font-size=\"12\" font-style=\"italic\" lengthAdjust=\"spacingAndGlyphs\" textLength=\"64\" x=\"33\" y=\"57.1387\">«part def»</text><text fill=\"#000000\" font-family=\"sans-serif\" font-size=\"12\" lengthAdjust=\"spacingAndGlyphs\" textLength=\"8\" x=\"61\" y=\"71.1074\">C</text><line style=\"stroke: #383838; stroke-width: 1.5;\" x1=\"33\" x2=\"97\" y1=\"78.9375\" y2=\"78.9375\"/></a><!--MD5=[270fce915f116d4de14055a7c1d9a0f3]\n",
       "class E5--><a href=\"psysml:ab356c3f-6fc6-498c-877e-f29aa221dc38\" target=\"_top\" title=\"psysml:ab356c3f-6fc6-498c-877e-f29aa221dc38\" xlink:actuate=\"onRequest\" xlink:href=\"psysml:ab356c3f-6fc6-498c-877e-f29aa221dc38\" xlink:show=\"new\" xlink:title=\"psysml:ab356c3f-6fc6-498c-877e-f29aa221dc38\" xlink:type=\"simple\"><rect fill=\"#FFFFFF\" height=\"45.9375\" id=\"E5\" rx=\"10\" ry=\"10\" style=\"stroke: #383838; stroke-width: 1.5;\" width=\"42\" x=\"44\" y=\"147\"/><text fill=\"#000000\" font-family=\"sans-serif\" font-size=\"12\" font-style=\"italic\" lengthAdjust=\"spacingAndGlyphs\" textLength=\"40\" x=\"45\" y=\"163.1387\">«part»</text><text fill=\"#000000\" font-family=\"sans-serif\" font-size=\"12\" lengthAdjust=\"spacingAndGlyphs\" textLength=\"8\" x=\"61\" y=\"177.1074\">g</text><line style=\"stroke: #383838; stroke-width: 1.5;\" x1=\"45\" x2=\"85\" y1=\"184.9375\" y2=\"184.9375\"/></a><!--MD5=[209b3feb70ccb6233bfe1053d122c12c]\n",
       "reverse link E2 to E3--><a href=\"psysml:3a53f0eb-5b79-463f-97a3-37a7a9b28614\" target=\"_top\" title=\"psysml:3a53f0eb-5b79-463f-97a3-37a7a9b28614\" xlink:actuate=\"onRequest\" xlink:href=\"psysml:3a53f0eb-5b79-463f-97a3-37a7a9b28614\" xlink:show=\"new\" xlink:title=\"psysml:3a53f0eb-5b79-463f-97a3-37a7a9b28614\" xlink:type=\"simple\"><path d=\"M154,100.44 C154,115.87 154,133.47 154,146.98 \" fill=\"none\" id=\"E2&lt;-E3\" style=\"stroke: #383838; stroke-width: 1.0;\"/><polygon fill=\"#383838\" points=\"154,87.06,150,93.06,154,99.06,158,93.06,154,87.06\" style=\"stroke: #383838; stroke-width: 1.0;\"/></a><!--MD5=[62aa6af11e70f752912c1cb0466f24f7]\n",
       "reverse link E4 to E5--><a href=\"psysml:b96f3833-0cb6-4ba3-9671-acfc6ae0d964\" target=\"_top\" title=\"psysml:b96f3833-0cb6-4ba3-9671-acfc6ae0d964\" xlink:actuate=\"onRequest\" xlink:href=\"psysml:b96f3833-0cb6-4ba3-9671-acfc6ae0d964\" xlink:show=\"new\" xlink:title=\"psysml:b96f3833-0cb6-4ba3-9671-acfc6ae0d964\" xlink:type=\"simple\"><path d=\"M65,100.44 C65,115.87 65,133.47 65,146.98 \" fill=\"none\" id=\"E4&lt;-E5\" style=\"stroke: #383838; stroke-width: 1.0;\"/><polygon fill=\"#383838\" points=\"65,87.06,61,93.06,65,99.06,69,93.06,65,87.06\" style=\"stroke: #383838; stroke-width: 1.0;\"/></a><!--MD5=[b4b4d1dcae693eacc8e63c3db48d43a8]\n",
       "@startuml\r\n",
       "top to bottom direction\r\n",
       "skinparam monochrome true\r\n",
       "skinparam classbackgroundcolor white\r\n",
       "skinparam shadowing false\r\n",
       "skinparam wrapWidth 300\r\n",
       "hide circle\r\n",
       "\r\n",
       "package \"Q\" as E1  [[psysml:6ab71797-e8f8-4bff-ada3-bad51ca07e78 ]]  {\r\n",
       "comp usage \"f\" as E2  <<(T,blue)part>> [[psysml:c02a2287-c712-494f-86c8-48c213fef3aa ]] {\r\n",
       "}\r\n",
       "comp usage \"a\" as E3  <<(T,blue)part>> [[psysml:b53848ad-4a38-46bd-bd01-a08ed5bc4cea ]] {\r\n",
       "}\r\n",
       "comp def \"C\" as E4  <<(T,blue)part def>> [[psysml:562783b8-e65b-4087-86a0-89c793c14f93 ]] {\r\n",
       "}\r\n",
       "comp usage \"g\" as E5  <<(T,blue)part>> [[psysml:ab356c3f-6fc6-498c-877e-f29aa221dc38 ]] {\r\n",
       "}\r\n",
       "E2 *- - E3 [[psysml:3a53f0eb-5b79-463f-97a3-37a7a9b28614 ]] \r\n",
       "E4 *- - E5 [[psysml:b96f3833-0cb6-4ba3-9671-acfc6ae0d964 ]] \r\n",
       "}\r\n",
       "@enduml\r\n",
       "\n",
       "PlantUML version 1.2020.13(Sat Jun 13 12:26:38 UTC 2020)\n",
       "(EPL source distribution)\n",
       "Java Runtime: OpenJDK Runtime Environment\n",
       "JVM: OpenJDK 64-Bit Server VM\n",
       "Default Encoding: UTF-8\n",
       "Language: en\n",
       "Country: null\n",
       "--></g></svg>"
      ]
     },
     "execution_count": 49,
     "metadata": {},
     "output_type": "execute_result"
    }
   ],
   "source": [
    "%viz --style=\"TB\" --view=\"Sequence\" \"Q\""
   ]
  },
  {
   "cell_type": "code",
   "execution_count": 50,
   "id": "0e94d9a9",
   "metadata": {
    "execution": {
     "iopub.execute_input": "2021-04-20T06:58:47.691638Z",
     "iopub.status.busy": "2021-04-20T06:58:47.691240Z",
     "iopub.status.idle": "2021-04-20T06:58:47.715397Z",
     "shell.execute_reply": "2021-04-20T06:58:47.714198Z"
    }
   },
   "outputs": [
    {
     "data": {
      "image/svg+xml": [
       "<?xml version=\"1.0\" encoding=\"UTF-8\" standalone=\"no\"?><svg xmlns=\"http://www.w3.org/2000/svg\" xmlns:xlink=\"http://www.w3.org/1999/xlink\" contentScriptType=\"application/ecmascript\" contentStyleType=\"text/css\" height=\"221px\" preserveAspectRatio=\"none\" style=\"width:213px;height:221px;\" version=\"1.1\" viewBox=\"0 0 213 221\" width=\"213px\" zoomAndPan=\"magnify\"><defs/><g><!--MD5=[fbc87193dbaf4d95561dea2c320d4a47]\n",
       "cluster E1--><a href=\"psysml:6ab71797-e8f8-4bff-ada3-bad51ca07e78\" target=\"_top\" title=\"psysml:6ab71797-e8f8-4bff-ada3-bad51ca07e78\" xlink:actuate=\"onRequest\" xlink:href=\"psysml:6ab71797-e8f8-4bff-ada3-bad51ca07e78\" xlink:show=\"new\" xlink:title=\"psysml:6ab71797-e8f8-4bff-ada3-bad51ca07e78\" xlink:type=\"simple\"><polygon fill=\"#FFFFFF\" points=\"16,6,34,6,41,28.2969,191,28.2969,191,209,16,209,16,6\" style=\"stroke: #000000; stroke-width: 1.5;\"/><line style=\"stroke: #000000; stroke-width: 1.5;\" x1=\"16\" x2=\"41\" y1=\"28.2969\" y2=\"28.2969\"/><text fill=\"#000000\" font-family=\"sans-serif\" font-size=\"14\" font-weight=\"bold\" lengthAdjust=\"spacingAndGlyphs\" textLength=\"12\" x=\"20\" y=\"20.9951\">Q</text></a><!--MD5=[b4997ac47864f28c2f74865a473b2911]\n",
       "class E2--><a href=\"psysml:c02a2287-c712-494f-86c8-48c213fef3aa\" target=\"_top\" title=\"psysml:c02a2287-c712-494f-86c8-48c213fef3aa\" xlink:actuate=\"onRequest\" xlink:href=\"psysml:c02a2287-c712-494f-86c8-48c213fef3aa\" xlink:show=\"new\" xlink:title=\"psysml:c02a2287-c712-494f-86c8-48c213fef3aa\" xlink:type=\"simple\"><rect fill=\"#FFFFFF\" height=\"45.9375\" id=\"E2\" rx=\"10\" ry=\"10\" style=\"stroke: #383838; stroke-width: 1.5;\" width=\"42\" x=\"133\" y=\"41\"/><text fill=\"#000000\" font-family=\"sans-serif\" font-size=\"12\" font-style=\"italic\" lengthAdjust=\"spacingAndGlyphs\" textLength=\"40\" x=\"134\" y=\"57.1387\">«part»</text><text fill=\"#000000\" font-family=\"sans-serif\" font-size=\"12\" lengthAdjust=\"spacingAndGlyphs\" textLength=\"4\" x=\"152\" y=\"71.1074\">f</text><line style=\"stroke: #383838; stroke-width: 1.5;\" x1=\"134\" x2=\"174\" y1=\"78.9375\" y2=\"78.9375\"/></a><!--MD5=[09b614a08d8cba4a07c9adeb5e0fee81]\n",
       "class E3--><a href=\"psysml:b53848ad-4a38-46bd-bd01-a08ed5bc4cea\" target=\"_top\" title=\"psysml:b53848ad-4a38-46bd-bd01-a08ed5bc4cea\" xlink:actuate=\"onRequest\" xlink:href=\"psysml:b53848ad-4a38-46bd-bd01-a08ed5bc4cea\" xlink:show=\"new\" xlink:title=\"psysml:b53848ad-4a38-46bd-bd01-a08ed5bc4cea\" xlink:type=\"simple\"><rect fill=\"#FFFFFF\" height=\"45.9375\" id=\"E3\" rx=\"10\" ry=\"10\" style=\"stroke: #383838; stroke-width: 1.5;\" width=\"42\" x=\"133\" y=\"147\"/><text fill=\"#000000\" font-family=\"sans-serif\" font-size=\"12\" font-style=\"italic\" lengthAdjust=\"spacingAndGlyphs\" textLength=\"40\" x=\"134\" y=\"163.1387\">«part»</text><text fill=\"#000000\" font-family=\"sans-serif\" font-size=\"12\" lengthAdjust=\"spacingAndGlyphs\" textLength=\"8\" x=\"150\" y=\"177.1074\">a</text><line style=\"stroke: #383838; stroke-width: 1.5;\" x1=\"134\" x2=\"174\" y1=\"184.9375\" y2=\"184.9375\"/></a><!--MD5=[ebbe1d658d1005bcc118a6aa81145e00]\n",
       "class E4--><a href=\"psysml:562783b8-e65b-4087-86a0-89c793c14f93\" target=\"_top\" title=\"psysml:562783b8-e65b-4087-86a0-89c793c14f93\" xlink:actuate=\"onRequest\" xlink:href=\"psysml:562783b8-e65b-4087-86a0-89c793c14f93\" xlink:show=\"new\" xlink:title=\"psysml:562783b8-e65b-4087-86a0-89c793c14f93\" xlink:type=\"simple\"><rect fill=\"#FFFFFF\" height=\"45.9375\" id=\"E4\" style=\"stroke: #383838; stroke-width: 1.5;\" width=\"66\" x=\"32\" y=\"41\"/><text fill=\"#000000\" font-family=\"sans-serif\" font-size=\"12\" font-style=\"italic\" lengthAdjust=\"spacingAndGlyphs\" textLength=\"64\" x=\"33\" y=\"57.1387\">«part def»</text><text fill=\"#000000\" font-family=\"sans-serif\" font-size=\"12\" lengthAdjust=\"spacingAndGlyphs\" textLength=\"8\" x=\"61\" y=\"71.1074\">C</text><line style=\"stroke: #383838; stroke-width: 1.5;\" x1=\"33\" x2=\"97\" y1=\"78.9375\" y2=\"78.9375\"/></a><!--MD5=[270fce915f116d4de14055a7c1d9a0f3]\n",
       "class E5--><a href=\"psysml:ab356c3f-6fc6-498c-877e-f29aa221dc38\" target=\"_top\" title=\"psysml:ab356c3f-6fc6-498c-877e-f29aa221dc38\" xlink:actuate=\"onRequest\" xlink:href=\"psysml:ab356c3f-6fc6-498c-877e-f29aa221dc38\" xlink:show=\"new\" xlink:title=\"psysml:ab356c3f-6fc6-498c-877e-f29aa221dc38\" xlink:type=\"simple\"><rect fill=\"#FFFFFF\" height=\"45.9375\" id=\"E5\" rx=\"10\" ry=\"10\" style=\"stroke: #383838; stroke-width: 1.5;\" width=\"42\" x=\"44\" y=\"147\"/><text fill=\"#000000\" font-family=\"sans-serif\" font-size=\"12\" font-style=\"italic\" lengthAdjust=\"spacingAndGlyphs\" textLength=\"40\" x=\"45\" y=\"163.1387\">«part»</text><text fill=\"#000000\" font-family=\"sans-serif\" font-size=\"12\" lengthAdjust=\"spacingAndGlyphs\" textLength=\"8\" x=\"61\" y=\"177.1074\">g</text><line style=\"stroke: #383838; stroke-width: 1.5;\" x1=\"45\" x2=\"85\" y1=\"184.9375\" y2=\"184.9375\"/></a><!--MD5=[209b3feb70ccb6233bfe1053d122c12c]\n",
       "reverse link E2 to E3--><a href=\"psysml:3a53f0eb-5b79-463f-97a3-37a7a9b28614\" target=\"_top\" title=\"psysml:3a53f0eb-5b79-463f-97a3-37a7a9b28614\" xlink:actuate=\"onRequest\" xlink:href=\"psysml:3a53f0eb-5b79-463f-97a3-37a7a9b28614\" xlink:show=\"new\" xlink:title=\"psysml:3a53f0eb-5b79-463f-97a3-37a7a9b28614\" xlink:type=\"simple\"><path d=\"M154,100.44 C154,115.87 154,133.47 154,146.98 \" fill=\"none\" id=\"E2&lt;-E3\" style=\"stroke: #383838; stroke-width: 1.0;\"/><polygon fill=\"#383838\" points=\"154,87.06,150,93.06,154,99.06,158,93.06,154,87.06\" style=\"stroke: #383838; stroke-width: 1.0;\"/></a><!--MD5=[62aa6af11e70f752912c1cb0466f24f7]\n",
       "reverse link E4 to E5--><a href=\"psysml:b96f3833-0cb6-4ba3-9671-acfc6ae0d964\" target=\"_top\" title=\"psysml:b96f3833-0cb6-4ba3-9671-acfc6ae0d964\" xlink:actuate=\"onRequest\" xlink:href=\"psysml:b96f3833-0cb6-4ba3-9671-acfc6ae0d964\" xlink:show=\"new\" xlink:title=\"psysml:b96f3833-0cb6-4ba3-9671-acfc6ae0d964\" xlink:type=\"simple\"><path d=\"M65,100.44 C65,115.87 65,133.47 65,146.98 \" fill=\"none\" id=\"E4&lt;-E5\" style=\"stroke: #383838; stroke-width: 1.0;\"/><polygon fill=\"#383838\" points=\"65,87.06,61,93.06,65,99.06,69,93.06,65,87.06\" style=\"stroke: #383838; stroke-width: 1.0;\"/></a><!--MD5=[b4b4d1dcae693eacc8e63c3db48d43a8]\n",
       "@startuml\r\n",
       "top to bottom direction\r\n",
       "skinparam monochrome true\r\n",
       "skinparam classbackgroundcolor white\r\n",
       "skinparam shadowing false\r\n",
       "skinparam wrapWidth 300\r\n",
       "hide circle\r\n",
       "\r\n",
       "package \"Q\" as E1  [[psysml:6ab71797-e8f8-4bff-ada3-bad51ca07e78 ]]  {\r\n",
       "comp usage \"f\" as E2  <<(T,blue)part>> [[psysml:c02a2287-c712-494f-86c8-48c213fef3aa ]] {\r\n",
       "}\r\n",
       "comp usage \"a\" as E3  <<(T,blue)part>> [[psysml:b53848ad-4a38-46bd-bd01-a08ed5bc4cea ]] {\r\n",
       "}\r\n",
       "comp def \"C\" as E4  <<(T,blue)part def>> [[psysml:562783b8-e65b-4087-86a0-89c793c14f93 ]] {\r\n",
       "}\r\n",
       "comp usage \"g\" as E5  <<(T,blue)part>> [[psysml:ab356c3f-6fc6-498c-877e-f29aa221dc38 ]] {\r\n",
       "}\r\n",
       "E2 *- - E3 [[psysml:3a53f0eb-5b79-463f-97a3-37a7a9b28614 ]] \r\n",
       "E4 *- - E5 [[psysml:b96f3833-0cb6-4ba3-9671-acfc6ae0d964 ]] \r\n",
       "}\r\n",
       "@enduml\r\n",
       "\n",
       "PlantUML version 1.2020.13(Sat Jun 13 12:26:38 UTC 2020)\n",
       "(EPL source distribution)\n",
       "Java Runtime: OpenJDK Runtime Environment\n",
       "JVM: OpenJDK 64-Bit Server VM\n",
       "Default Encoding: UTF-8\n",
       "Language: en\n",
       "Country: null\n",
       "--></g></svg>"
      ]
     },
     "execution_count": 50,
     "metadata": {},
     "output_type": "execute_result"
    }
   ],
   "source": [
    "%viz --style=\"TB\" --view=\"MIXED\" \"Q\""
   ]
  },
  {
   "cell_type": "code",
   "execution_count": 51,
   "id": "81ab79ec",
   "metadata": {
    "execution": {
     "iopub.execute_input": "2021-04-20T06:58:47.766906Z",
     "iopub.status.busy": "2021-04-20T06:58:47.766198Z",
     "iopub.status.idle": "2021-04-20T06:58:47.794147Z",
     "shell.execute_reply": "2021-04-20T06:58:47.792953Z"
    }
   },
   "outputs": [
    {
     "data": {
      "image/svg+xml": [
       "<?xml version=\"1.0\" encoding=\"UTF-8\" standalone=\"no\"?><svg xmlns=\"http://www.w3.org/2000/svg\" xmlns:xlink=\"http://www.w3.org/1999/xlink\" contentScriptType=\"application/ecmascript\" contentStyleType=\"text/css\" height=\"221px\" preserveAspectRatio=\"none\" style=\"width:213px;height:221px;\" version=\"1.1\" viewBox=\"0 0 213 221\" width=\"213px\" zoomAndPan=\"magnify\"><defs/><g><!--MD5=[fbc87193dbaf4d95561dea2c320d4a47]\n",
       "cluster E1--><a href=\"psysml:6ab71797-e8f8-4bff-ada3-bad51ca07e78\" target=\"_top\" title=\"psysml:6ab71797-e8f8-4bff-ada3-bad51ca07e78\" xlink:actuate=\"onRequest\" xlink:href=\"psysml:6ab71797-e8f8-4bff-ada3-bad51ca07e78\" xlink:show=\"new\" xlink:title=\"psysml:6ab71797-e8f8-4bff-ada3-bad51ca07e78\" xlink:type=\"simple\"><polygon fill=\"#FFFFFF\" points=\"16,6,34,6,41,28.2969,191,28.2969,191,209,16,209,16,6\" style=\"stroke: #000000; stroke-width: 1.5;\"/><line style=\"stroke: #000000; stroke-width: 1.5;\" x1=\"16\" x2=\"41\" y1=\"28.2969\" y2=\"28.2969\"/><text fill=\"#000000\" font-family=\"sans-serif\" font-size=\"14\" font-weight=\"bold\" lengthAdjust=\"spacingAndGlyphs\" textLength=\"12\" x=\"20\" y=\"20.9951\">Q</text></a><!--MD5=[b4997ac47864f28c2f74865a473b2911]\n",
       "class E2--><a href=\"psysml:c02a2287-c712-494f-86c8-48c213fef3aa\" target=\"_top\" title=\"psysml:c02a2287-c712-494f-86c8-48c213fef3aa\" xlink:actuate=\"onRequest\" xlink:href=\"psysml:c02a2287-c712-494f-86c8-48c213fef3aa\" xlink:show=\"new\" xlink:title=\"psysml:c02a2287-c712-494f-86c8-48c213fef3aa\" xlink:type=\"simple\"><rect fill=\"#FFFFFF\" height=\"45.9375\" id=\"E2\" rx=\"10\" ry=\"10\" style=\"stroke: #383838; stroke-width: 1.5;\" width=\"42\" x=\"133\" y=\"41\"/><text fill=\"#000000\" font-family=\"sans-serif\" font-size=\"12\" font-style=\"italic\" lengthAdjust=\"spacingAndGlyphs\" textLength=\"40\" x=\"134\" y=\"57.1387\">«part»</text><text fill=\"#000000\" font-family=\"sans-serif\" font-size=\"12\" lengthAdjust=\"spacingAndGlyphs\" textLength=\"4\" x=\"152\" y=\"71.1074\">f</text><line style=\"stroke: #383838; stroke-width: 1.5;\" x1=\"134\" x2=\"174\" y1=\"78.9375\" y2=\"78.9375\"/></a><!--MD5=[09b614a08d8cba4a07c9adeb5e0fee81]\n",
       "class E3--><a href=\"psysml:b53848ad-4a38-46bd-bd01-a08ed5bc4cea\" target=\"_top\" title=\"psysml:b53848ad-4a38-46bd-bd01-a08ed5bc4cea\" xlink:actuate=\"onRequest\" xlink:href=\"psysml:b53848ad-4a38-46bd-bd01-a08ed5bc4cea\" xlink:show=\"new\" xlink:title=\"psysml:b53848ad-4a38-46bd-bd01-a08ed5bc4cea\" xlink:type=\"simple\"><rect fill=\"#FFFFFF\" height=\"45.9375\" id=\"E3\" rx=\"10\" ry=\"10\" style=\"stroke: #383838; stroke-width: 1.5;\" width=\"42\" x=\"133\" y=\"147\"/><text fill=\"#000000\" font-family=\"sans-serif\" font-size=\"12\" font-style=\"italic\" lengthAdjust=\"spacingAndGlyphs\" textLength=\"40\" x=\"134\" y=\"163.1387\">«part»</text><text fill=\"#000000\" font-family=\"sans-serif\" font-size=\"12\" lengthAdjust=\"spacingAndGlyphs\" textLength=\"8\" x=\"150\" y=\"177.1074\">a</text><line style=\"stroke: #383838; stroke-width: 1.5;\" x1=\"134\" x2=\"174\" y1=\"184.9375\" y2=\"184.9375\"/></a><!--MD5=[ebbe1d658d1005bcc118a6aa81145e00]\n",
       "class E4--><a href=\"psysml:562783b8-e65b-4087-86a0-89c793c14f93\" target=\"_top\" title=\"psysml:562783b8-e65b-4087-86a0-89c793c14f93\" xlink:actuate=\"onRequest\" xlink:href=\"psysml:562783b8-e65b-4087-86a0-89c793c14f93\" xlink:show=\"new\" xlink:title=\"psysml:562783b8-e65b-4087-86a0-89c793c14f93\" xlink:type=\"simple\"><rect fill=\"#FFFFFF\" height=\"45.9375\" id=\"E4\" style=\"stroke: #383838; stroke-width: 1.5;\" width=\"66\" x=\"32\" y=\"41\"/><text fill=\"#000000\" font-family=\"sans-serif\" font-size=\"12\" font-style=\"italic\" lengthAdjust=\"spacingAndGlyphs\" textLength=\"64\" x=\"33\" y=\"57.1387\">«part def»</text><text fill=\"#000000\" font-family=\"sans-serif\" font-size=\"12\" lengthAdjust=\"spacingAndGlyphs\" textLength=\"8\" x=\"61\" y=\"71.1074\">C</text><line style=\"stroke: #383838; stroke-width: 1.5;\" x1=\"33\" x2=\"97\" y1=\"78.9375\" y2=\"78.9375\"/></a><!--MD5=[270fce915f116d4de14055a7c1d9a0f3]\n",
       "class E5--><a href=\"psysml:ab356c3f-6fc6-498c-877e-f29aa221dc38\" target=\"_top\" title=\"psysml:ab356c3f-6fc6-498c-877e-f29aa221dc38\" xlink:actuate=\"onRequest\" xlink:href=\"psysml:ab356c3f-6fc6-498c-877e-f29aa221dc38\" xlink:show=\"new\" xlink:title=\"psysml:ab356c3f-6fc6-498c-877e-f29aa221dc38\" xlink:type=\"simple\"><rect fill=\"#FFFFFF\" height=\"45.9375\" id=\"E5\" rx=\"10\" ry=\"10\" style=\"stroke: #383838; stroke-width: 1.5;\" width=\"42\" x=\"44\" y=\"147\"/><text fill=\"#000000\" font-family=\"sans-serif\" font-size=\"12\" font-style=\"italic\" lengthAdjust=\"spacingAndGlyphs\" textLength=\"40\" x=\"45\" y=\"163.1387\">«part»</text><text fill=\"#000000\" font-family=\"sans-serif\" font-size=\"12\" lengthAdjust=\"spacingAndGlyphs\" textLength=\"8\" x=\"61\" y=\"177.1074\">g</text><line style=\"stroke: #383838; stroke-width: 1.5;\" x1=\"45\" x2=\"85\" y1=\"184.9375\" y2=\"184.9375\"/></a><!--MD5=[209b3feb70ccb6233bfe1053d122c12c]\n",
       "reverse link E2 to E3--><a href=\"psysml:3a53f0eb-5b79-463f-97a3-37a7a9b28614\" target=\"_top\" title=\"psysml:3a53f0eb-5b79-463f-97a3-37a7a9b28614\" xlink:actuate=\"onRequest\" xlink:href=\"psysml:3a53f0eb-5b79-463f-97a3-37a7a9b28614\" xlink:show=\"new\" xlink:title=\"psysml:3a53f0eb-5b79-463f-97a3-37a7a9b28614\" xlink:type=\"simple\"><path d=\"M154,100 C154,100 154,146.68 154,146.68 \" fill=\"none\" id=\"E2&lt;-E3\" style=\"stroke: #383838; stroke-width: 1.0;\"/><polygon fill=\"#383838\" points=\"154,87,150,93,154,99,158,93,154,87\" style=\"stroke: #383838; stroke-width: 1.0;\"/></a><!--MD5=[62aa6af11e70f752912c1cb0466f24f7]\n",
       "reverse link E4 to E5--><a href=\"psysml:b96f3833-0cb6-4ba3-9671-acfc6ae0d964\" target=\"_top\" title=\"psysml:b96f3833-0cb6-4ba3-9671-acfc6ae0d964\" xlink:actuate=\"onRequest\" xlink:href=\"psysml:b96f3833-0cb6-4ba3-9671-acfc6ae0d964\" xlink:show=\"new\" xlink:title=\"psysml:b96f3833-0cb6-4ba3-9671-acfc6ae0d964\" xlink:type=\"simple\"><path d=\"M65,100 C65,100 65,146.68 65,146.68 \" fill=\"none\" id=\"E4&lt;-E5\" style=\"stroke: #383838; stroke-width: 1.0;\"/><polygon fill=\"#383838\" points=\"65,87,61,93,65,99,69,93,65,87\" style=\"stroke: #383838; stroke-width: 1.0;\"/></a><!--MD5=[cf98b676899c97267d34074ffc2bfba7]\n",
       "@startuml\r\n",
       "skinparam linetype ortho\r\n",
       "skinparam monochrome true\r\n",
       "skinparam classbackgroundcolor white\r\n",
       "skinparam shadowing false\r\n",
       "skinparam wrapWidth 300\r\n",
       "hide circle\r\n",
       "\r\n",
       "package \"Q\" as E1  [[psysml:6ab71797-e8f8-4bff-ada3-bad51ca07e78 ]]  {\r\n",
       "comp usage \"f\" as E2  <<(T,blue)part>> [[psysml:c02a2287-c712-494f-86c8-48c213fef3aa ]] {\r\n",
       "}\r\n",
       "comp usage \"a\" as E3  <<(T,blue)part>> [[psysml:b53848ad-4a38-46bd-bd01-a08ed5bc4cea ]] {\r\n",
       "}\r\n",
       "comp def \"C\" as E4  <<(T,blue)part def>> [[psysml:562783b8-e65b-4087-86a0-89c793c14f93 ]] {\r\n",
       "}\r\n",
       "comp usage \"g\" as E5  <<(T,blue)part>> [[psysml:ab356c3f-6fc6-498c-877e-f29aa221dc38 ]] {\r\n",
       "}\r\n",
       "E2 *- - E3 [[psysml:3a53f0eb-5b79-463f-97a3-37a7a9b28614 ]] \r\n",
       "E4 *- - E5 [[psysml:b96f3833-0cb6-4ba3-9671-acfc6ae0d964 ]] \r\n",
       "}\r\n",
       "@enduml\r\n",
       "\n",
       "PlantUML version 1.2020.13(Sat Jun 13 12:26:38 UTC 2020)\n",
       "(EPL source distribution)\n",
       "Java Runtime: OpenJDK Runtime Environment\n",
       "JVM: OpenJDK 64-Bit Server VM\n",
       "Default Encoding: UTF-8\n",
       "Language: en\n",
       "Country: null\n",
       "--></g></svg>"
      ]
     },
     "execution_count": 51,
     "metadata": {},
     "output_type": "execute_result"
    }
   ],
   "source": [
    "%viz --style=\"ORTHOLINE\" --view=\"Default\" \"Q\""
   ]
  },
  {
   "cell_type": "code",
   "execution_count": 52,
   "id": "a09349f7",
   "metadata": {
    "execution": {
     "iopub.execute_input": "2021-04-20T06:58:47.844777Z",
     "iopub.status.busy": "2021-04-20T06:58:47.844289Z",
     "iopub.status.idle": "2021-04-20T06:58:47.868875Z",
     "shell.execute_reply": "2021-04-20T06:58:47.867723Z"
    }
   },
   "outputs": [
    {
     "data": {
      "image/svg+xml": [
       "<?xml version=\"1.0\" encoding=\"UTF-8\" standalone=\"no\"?><svg xmlns=\"http://www.w3.org/2000/svg\" xmlns:xlink=\"http://www.w3.org/1999/xlink\" contentScriptType=\"application/ecmascript\" contentStyleType=\"text/css\" height=\"221px\" preserveAspectRatio=\"none\" style=\"width:213px;height:221px;\" version=\"1.1\" viewBox=\"0 0 213 221\" width=\"213px\" zoomAndPan=\"magnify\"><defs/><g><!--MD5=[fbc87193dbaf4d95561dea2c320d4a47]\n",
       "cluster E1--><a href=\"psysml:6ab71797-e8f8-4bff-ada3-bad51ca07e78\" target=\"_top\" title=\"psysml:6ab71797-e8f8-4bff-ada3-bad51ca07e78\" xlink:actuate=\"onRequest\" xlink:href=\"psysml:6ab71797-e8f8-4bff-ada3-bad51ca07e78\" xlink:show=\"new\" xlink:title=\"psysml:6ab71797-e8f8-4bff-ada3-bad51ca07e78\" xlink:type=\"simple\"><polygon fill=\"#FFFFFF\" points=\"16,6,34,6,41,28.2969,191,28.2969,191,209,16,209,16,6\" style=\"stroke: #000000; stroke-width: 1.5;\"/><line style=\"stroke: #000000; stroke-width: 1.5;\" x1=\"16\" x2=\"41\" y1=\"28.2969\" y2=\"28.2969\"/><text fill=\"#000000\" font-family=\"sans-serif\" font-size=\"14\" font-weight=\"bold\" lengthAdjust=\"spacingAndGlyphs\" textLength=\"12\" x=\"20\" y=\"20.9951\">Q</text></a><!--MD5=[b4997ac47864f28c2f74865a473b2911]\n",
       "class E2--><a href=\"psysml:c02a2287-c712-494f-86c8-48c213fef3aa\" target=\"_top\" title=\"psysml:c02a2287-c712-494f-86c8-48c213fef3aa\" xlink:actuate=\"onRequest\" xlink:href=\"psysml:c02a2287-c712-494f-86c8-48c213fef3aa\" xlink:show=\"new\" xlink:title=\"psysml:c02a2287-c712-494f-86c8-48c213fef3aa\" xlink:type=\"simple\"><rect fill=\"#FFFFFF\" height=\"45.9375\" id=\"E2\" rx=\"10\" ry=\"10\" style=\"stroke: #383838; stroke-width: 1.5;\" width=\"42\" x=\"133\" y=\"41\"/><text fill=\"#000000\" font-family=\"sans-serif\" font-size=\"12\" font-style=\"italic\" lengthAdjust=\"spacingAndGlyphs\" textLength=\"40\" x=\"134\" y=\"57.1387\">«part»</text><text fill=\"#000000\" font-family=\"sans-serif\" font-size=\"12\" lengthAdjust=\"spacingAndGlyphs\" textLength=\"4\" x=\"152\" y=\"71.1074\">f</text><line style=\"stroke: #383838; stroke-width: 1.5;\" x1=\"134\" x2=\"174\" y1=\"78.9375\" y2=\"78.9375\"/></a><!--MD5=[09b614a08d8cba4a07c9adeb5e0fee81]\n",
       "class E3--><a href=\"psysml:b53848ad-4a38-46bd-bd01-a08ed5bc4cea\" target=\"_top\" title=\"psysml:b53848ad-4a38-46bd-bd01-a08ed5bc4cea\" xlink:actuate=\"onRequest\" xlink:href=\"psysml:b53848ad-4a38-46bd-bd01-a08ed5bc4cea\" xlink:show=\"new\" xlink:title=\"psysml:b53848ad-4a38-46bd-bd01-a08ed5bc4cea\" xlink:type=\"simple\"><rect fill=\"#FFFFFF\" height=\"45.9375\" id=\"E3\" rx=\"10\" ry=\"10\" style=\"stroke: #383838; stroke-width: 1.5;\" width=\"42\" x=\"133\" y=\"147\"/><text fill=\"#000000\" font-family=\"sans-serif\" font-size=\"12\" font-style=\"italic\" lengthAdjust=\"spacingAndGlyphs\" textLength=\"40\" x=\"134\" y=\"163.1387\">«part»</text><text fill=\"#000000\" font-family=\"sans-serif\" font-size=\"12\" lengthAdjust=\"spacingAndGlyphs\" textLength=\"8\" x=\"150\" y=\"177.1074\">a</text><line style=\"stroke: #383838; stroke-width: 1.5;\" x1=\"134\" x2=\"174\" y1=\"184.9375\" y2=\"184.9375\"/></a><!--MD5=[ebbe1d658d1005bcc118a6aa81145e00]\n",
       "class E4--><a href=\"psysml:562783b8-e65b-4087-86a0-89c793c14f93\" target=\"_top\" title=\"psysml:562783b8-e65b-4087-86a0-89c793c14f93\" xlink:actuate=\"onRequest\" xlink:href=\"psysml:562783b8-e65b-4087-86a0-89c793c14f93\" xlink:show=\"new\" xlink:title=\"psysml:562783b8-e65b-4087-86a0-89c793c14f93\" xlink:type=\"simple\"><rect fill=\"#FFFFFF\" height=\"45.9375\" id=\"E4\" style=\"stroke: #383838; stroke-width: 1.5;\" width=\"66\" x=\"32\" y=\"41\"/><text fill=\"#000000\" font-family=\"sans-serif\" font-size=\"12\" font-style=\"italic\" lengthAdjust=\"spacingAndGlyphs\" textLength=\"64\" x=\"33\" y=\"57.1387\">«part def»</text><text fill=\"#000000\" font-family=\"sans-serif\" font-size=\"12\" lengthAdjust=\"spacingAndGlyphs\" textLength=\"8\" x=\"61\" y=\"71.1074\">C</text><line style=\"stroke: #383838; stroke-width: 1.5;\" x1=\"33\" x2=\"97\" y1=\"78.9375\" y2=\"78.9375\"/></a><!--MD5=[270fce915f116d4de14055a7c1d9a0f3]\n",
       "class E5--><a href=\"psysml:ab356c3f-6fc6-498c-877e-f29aa221dc38\" target=\"_top\" title=\"psysml:ab356c3f-6fc6-498c-877e-f29aa221dc38\" xlink:actuate=\"onRequest\" xlink:href=\"psysml:ab356c3f-6fc6-498c-877e-f29aa221dc38\" xlink:show=\"new\" xlink:title=\"psysml:ab356c3f-6fc6-498c-877e-f29aa221dc38\" xlink:type=\"simple\"><rect fill=\"#FFFFFF\" height=\"45.9375\" id=\"E5\" rx=\"10\" ry=\"10\" style=\"stroke: #383838; stroke-width: 1.5;\" width=\"42\" x=\"44\" y=\"147\"/><text fill=\"#000000\" font-family=\"sans-serif\" font-size=\"12\" font-style=\"italic\" lengthAdjust=\"spacingAndGlyphs\" textLength=\"40\" x=\"45\" y=\"163.1387\">«part»</text><text fill=\"#000000\" font-family=\"sans-serif\" font-size=\"12\" lengthAdjust=\"spacingAndGlyphs\" textLength=\"8\" x=\"61\" y=\"177.1074\">g</text><line style=\"stroke: #383838; stroke-width: 1.5;\" x1=\"45\" x2=\"85\" y1=\"184.9375\" y2=\"184.9375\"/></a><!--MD5=[209b3feb70ccb6233bfe1053d122c12c]\n",
       "reverse link E2 to E3--><a href=\"psysml:3a53f0eb-5b79-463f-97a3-37a7a9b28614\" target=\"_top\" title=\"psysml:3a53f0eb-5b79-463f-97a3-37a7a9b28614\" xlink:actuate=\"onRequest\" xlink:href=\"psysml:3a53f0eb-5b79-463f-97a3-37a7a9b28614\" xlink:show=\"new\" xlink:title=\"psysml:3a53f0eb-5b79-463f-97a3-37a7a9b28614\" xlink:type=\"simple\"><path d=\"M154,100 C154,100 154,146.68 154,146.68 \" fill=\"none\" id=\"E2&lt;-E3\" style=\"stroke: #383838; stroke-width: 1.0;\"/><polygon fill=\"#383838\" points=\"154,87,150,93,154,99,158,93,154,87\" style=\"stroke: #383838; stroke-width: 1.0;\"/></a><!--MD5=[62aa6af11e70f752912c1cb0466f24f7]\n",
       "reverse link E4 to E5--><a href=\"psysml:b96f3833-0cb6-4ba3-9671-acfc6ae0d964\" target=\"_top\" title=\"psysml:b96f3833-0cb6-4ba3-9671-acfc6ae0d964\" xlink:actuate=\"onRequest\" xlink:href=\"psysml:b96f3833-0cb6-4ba3-9671-acfc6ae0d964\" xlink:show=\"new\" xlink:title=\"psysml:b96f3833-0cb6-4ba3-9671-acfc6ae0d964\" xlink:type=\"simple\"><path d=\"M65,100 C65,100 65,146.68 65,146.68 \" fill=\"none\" id=\"E4&lt;-E5\" style=\"stroke: #383838; stroke-width: 1.0;\"/><polygon fill=\"#383838\" points=\"65,87,61,93,65,99,69,93,65,87\" style=\"stroke: #383838; stroke-width: 1.0;\"/></a><!--MD5=[cf98b676899c97267d34074ffc2bfba7]\n",
       "@startuml\r\n",
       "skinparam linetype ortho\r\n",
       "skinparam monochrome true\r\n",
       "skinparam classbackgroundcolor white\r\n",
       "skinparam shadowing false\r\n",
       "skinparam wrapWidth 300\r\n",
       "hide circle\r\n",
       "\r\n",
       "package \"Q\" as E1  [[psysml:6ab71797-e8f8-4bff-ada3-bad51ca07e78 ]]  {\r\n",
       "comp usage \"f\" as E2  <<(T,blue)part>> [[psysml:c02a2287-c712-494f-86c8-48c213fef3aa ]] {\r\n",
       "}\r\n",
       "comp usage \"a\" as E3  <<(T,blue)part>> [[psysml:b53848ad-4a38-46bd-bd01-a08ed5bc4cea ]] {\r\n",
       "}\r\n",
       "comp def \"C\" as E4  <<(T,blue)part def>> [[psysml:562783b8-e65b-4087-86a0-89c793c14f93 ]] {\r\n",
       "}\r\n",
       "comp usage \"g\" as E5  <<(T,blue)part>> [[psysml:ab356c3f-6fc6-498c-877e-f29aa221dc38 ]] {\r\n",
       "}\r\n",
       "E2 *- - E3 [[psysml:3a53f0eb-5b79-463f-97a3-37a7a9b28614 ]] \r\n",
       "E4 *- - E5 [[psysml:b96f3833-0cb6-4ba3-9671-acfc6ae0d964 ]] \r\n",
       "}\r\n",
       "@enduml\r\n",
       "\n",
       "PlantUML version 1.2020.13(Sat Jun 13 12:26:38 UTC 2020)\n",
       "(EPL source distribution)\n",
       "Java Runtime: OpenJDK Runtime Environment\n",
       "JVM: OpenJDK 64-Bit Server VM\n",
       "Default Encoding: UTF-8\n",
       "Language: en\n",
       "Country: null\n",
       "--></g></svg>"
      ]
     },
     "execution_count": 52,
     "metadata": {},
     "output_type": "execute_result"
    }
   ],
   "source": [
    "%viz --style=\"ORTHOLINE\" --view=\"Tree\" \"Q\""
   ]
  },
  {
   "cell_type": "code",
   "execution_count": 53,
   "id": "9cf77253",
   "metadata": {
    "execution": {
     "iopub.execute_input": "2021-04-20T06:58:47.919713Z",
     "iopub.status.busy": "2021-04-20T06:58:47.919091Z",
     "iopub.status.idle": "2021-04-20T06:58:47.924175Z",
     "shell.execute_reply": "2021-04-20T06:58:47.923759Z"
    }
   },
   "outputs": [
    {
     "data": {
      "image/svg+xml": [
       "<?xml version=\"1.0\" encoding=\"UTF-8\" standalone=\"no\"?><svg xmlns=\"http://www.w3.org/2000/svg\" xmlns:xlink=\"http://www.w3.org/1999/xlink\" contentScriptType=\"application/ecmascript\" contentStyleType=\"text/css\" height=\"12px\" preserveAspectRatio=\"none\" style=\"width:12px;height:12px;\" version=\"1.1\" viewBox=\"0 0 12 12\" width=\"12px\" zoomAndPan=\"magnify\"><defs/><g><!--MD5=[97d6f38768b311333d388e66b2b27985]\n",
       "@startuml\r\n",
       "skinparam linetype ortho\r\n",
       "skinparam monochrome true\r\n",
       "skinparam classbackgroundcolor white\r\n",
       "skinparam shadowing false\r\n",
       "skinparam wrapWidth 300\r\n",
       "hide circle\r\n",
       "\r\n",
       "@enduml\r\n",
       "\n",
       "PlantUML version 1.2020.13(Sat Jun 13 12:26:38 UTC 2020)\n",
       "(EPL source distribution)\n",
       "Java Runtime: OpenJDK Runtime Environment\n",
       "JVM: OpenJDK 64-Bit Server VM\n",
       "Default Encoding: UTF-8\n",
       "Language: en\n",
       "Country: null\n",
       "--></g></svg>"
      ]
     },
     "execution_count": 53,
     "metadata": {},
     "output_type": "execute_result"
    }
   ],
   "source": [
    "%viz --style=\"ORTHOLINE\" --view=\"State\" \"Q\""
   ]
  },
  {
   "cell_type": "code",
   "execution_count": 54,
   "id": "3805e84c",
   "metadata": {
    "execution": {
     "iopub.execute_input": "2021-04-20T06:58:47.975603Z",
     "iopub.status.busy": "2021-04-20T06:58:47.974790Z",
     "iopub.status.idle": "2021-04-20T06:58:47.999506Z",
     "shell.execute_reply": "2021-04-20T06:58:47.998398Z"
    }
   },
   "outputs": [
    {
     "data": {
      "image/svg+xml": [
       "<?xml version=\"1.0\" encoding=\"UTF-8\" standalone=\"no\"?><svg xmlns=\"http://www.w3.org/2000/svg\" xmlns:xlink=\"http://www.w3.org/1999/xlink\" contentScriptType=\"application/ecmascript\" contentStyleType=\"text/css\" height=\"192px\" preserveAspectRatio=\"none\" style=\"width:286px;height:192px;\" version=\"1.1\" viewBox=\"0 0 286 192\" width=\"286px\" zoomAndPan=\"magnify\"><defs/><g><!--MD5=[fbc87193dbaf4d95561dea2c320d4a47]\n",
       "cluster E1--><a href=\"psysml:6ab71797-e8f8-4bff-ada3-bad51ca07e78\" target=\"_top\" title=\"psysml:6ab71797-e8f8-4bff-ada3-bad51ca07e78\" xlink:actuate=\"onRequest\" xlink:href=\"psysml:6ab71797-e8f8-4bff-ada3-bad51ca07e78\" xlink:show=\"new\" xlink:title=\"psysml:6ab71797-e8f8-4bff-ada3-bad51ca07e78\" xlink:type=\"simple\"><polygon fill=\"#FFFFFF\" points=\"16,6,34,6,41,28.2969,264,28.2969,264,180,16,180,16,6\" style=\"stroke: #000000; stroke-width: 1.5;\"/><line style=\"stroke: #000000; stroke-width: 1.5;\" x1=\"16\" x2=\"41\" y1=\"28.2969\" y2=\"28.2969\"/><text fill=\"#000000\" font-family=\"sans-serif\" font-size=\"14\" font-weight=\"bold\" lengthAdjust=\"spacingAndGlyphs\" textLength=\"12\" x=\"20\" y=\"20.9951\">Q</text></a><!--MD5=[e4f7fae6ed58524ba242bb0b0d3be6b7]\n",
       "cluster E2--><a href=\"psysml:c02a2287-c712-494f-86c8-48c213fef3aa\" target=\"_top\" title=\"psysml:c02a2287-c712-494f-86c8-48c213fef3aa\" xlink:actuate=\"onRequest\" xlink:href=\"psysml:c02a2287-c712-494f-86c8-48c213fef3aa\" xlink:show=\"new\" xlink:title=\"psysml:c02a2287-c712-494f-86c8-48c213fef3aa\" xlink:type=\"simple\"><rect fill=\"#FFFFFF\" height=\"91\" id=\"E2\" rx=\"10\" ry=\"10\" style=\"stroke: #383838; stroke-width: 1.5;\" width=\"82\" x=\"158\" y=\"65\"/><rect fill=\"#F8F8F8\" height=\"23.9688\" rx=\"10\" ry=\"10\" style=\"stroke: #F8F8F8; stroke-width: 1.5;\" width=\"82\" x=\"158\" y=\"65\"/><rect fill=\"#F8F8F8\" height=\"10\" style=\"stroke: #F8F8F8; stroke-width: 1.5;\" width=\"82\" x=\"158\" y=\"78.9688\"/><rect fill=\"none\" height=\"91\" id=\"E2\" rx=\"10\" ry=\"10\" style=\"stroke: #383838; stroke-width: 1.5;\" width=\"82\" x=\"158\" y=\"65\"/><text fill=\"#000000\" font-family=\"sans-serif\" font-size=\"12\" lengthAdjust=\"spacingAndGlyphs\" textLength=\"4\" x=\"197\" y=\"81.1387\">f</text><line style=\"stroke: #383838; stroke-width: 1.0;\" x1=\"158\" x2=\"240\" y1=\"88.9688\" y2=\"88.9688\"/></a><!--MD5=[f6df4d0ebaf0b5dfb2ced0ae5af7c670]\n",
       "cluster E4--><a href=\"psysml:562783b8-e65b-4087-86a0-89c793c14f93\" target=\"_top\" title=\"psysml:562783b8-e65b-4087-86a0-89c793c14f93\" xlink:actuate=\"onRequest\" xlink:href=\"psysml:562783b8-e65b-4087-86a0-89c793c14f93\" xlink:show=\"new\" xlink:title=\"psysml:562783b8-e65b-4087-86a0-89c793c14f93\" xlink:type=\"simple\"><rect fill=\"#FFFFFF\" height=\"107\" id=\"E4\" style=\"stroke: #383838; stroke-width: 1.5;\" width=\"94\" x=\"40\" y=\"49\"/><rect fill=\"#F8F8F8\" height=\"37.9375\" style=\"stroke: #383838; stroke-width: 1.5;\" width=\"94\" x=\"40\" y=\"49\"/><text fill=\"#000000\" font-family=\"sans-serif\" font-size=\"12\" font-style=\"italic\" lengthAdjust=\"spacingAndGlyphs\" textLength=\"64\" x=\"55\" y=\"65.1387\">«part def»</text><text fill=\"#000000\" font-family=\"sans-serif\" font-size=\"12\" lengthAdjust=\"spacingAndGlyphs\" textLength=\"8\" x=\"83\" y=\"79.1074\">C</text></a><g id=\"E1.E2.E3\"><a href=\"psysml:b53848ad-4a38-46bd-bd01-a08ed5bc4cea\" target=\"_top\" title=\"psysml:b53848ad-4a38-46bd-bd01-a08ed5bc4cea\" xlink:actuate=\"onRequest\" xlink:href=\"psysml:b53848ad-4a38-46bd-bd01-a08ed5bc4cea\" xlink:show=\"new\" xlink:title=\"psysml:b53848ad-4a38-46bd-bd01-a08ed5bc4cea\" xlink:type=\"simple\"><rect fill=\"#FFFFFF\" height=\"40\" id=\"E3\" rx=\"10\" ry=\"10\" style=\"stroke: #383838; stroke-width: 1.5;\" width=\"50\" x=\"174\" y=\"100\"/><rect fill=\"#F8F8F8\" height=\"23.9688\" rx=\"10\" ry=\"10\" style=\"stroke: #F8F8F8; stroke-width: 1.5;\" width=\"50\" x=\"174\" y=\"100\"/><rect fill=\"#F8F8F8\" height=\"10\" style=\"stroke: #F8F8F8; stroke-width: 1.5;\" width=\"50\" x=\"174\" y=\"113.9688\"/><rect fill=\"none\" height=\"40\" id=\"E3\" rx=\"10\" ry=\"10\" style=\"stroke: #383838; stroke-width: 1.5;\" width=\"50\" x=\"174\" y=\"100\"/><text fill=\"#000000\" font-family=\"sans-serif\" font-size=\"12\" lengthAdjust=\"spacingAndGlyphs\" textLength=\"8\" x=\"195\" y=\"116.1387\">a</text></a></g><g id=\"E1.E4.E5\"><a href=\"psysml:ab356c3f-6fc6-498c-877e-f29aa221dc38\" target=\"_top\" title=\"psysml:ab356c3f-6fc6-498c-877e-f29aa221dc38\" xlink:actuate=\"onRequest\" xlink:href=\"psysml:ab356c3f-6fc6-498c-877e-f29aa221dc38\" xlink:show=\"new\" xlink:title=\"psysml:ab356c3f-6fc6-498c-877e-f29aa221dc38\" xlink:type=\"simple\"><rect fill=\"#FFFFFF\" height=\"40\" id=\"E5\" rx=\"10\" ry=\"10\" style=\"stroke: #383838; stroke-width: 1.5;\" width=\"61\" x=\"56.5\" y=\"100\"/><rect fill=\"#F8F8F8\" height=\"23.9688\" rx=\"10\" ry=\"10\" style=\"stroke: #F8F8F8; stroke-width: 1.5;\" width=\"61\" x=\"56.5\" y=\"100\"/><rect fill=\"#F8F8F8\" height=\"10\" style=\"stroke: #F8F8F8; stroke-width: 1.5;\" width=\"61\" x=\"56.5\" y=\"113.9688\"/><rect fill=\"none\" height=\"40\" id=\"E5\" rx=\"10\" ry=\"10\" style=\"stroke: #383838; stroke-width: 1.5;\" width=\"61\" x=\"56.5\" y=\"100\"/><text fill=\"#000000\" font-family=\"sans-serif\" font-size=\"12\" lengthAdjust=\"spacingAndGlyphs\" textLength=\"46\" x=\"62\" y=\"116.1387\">g=./f/a;</text></a></g><!--MD5=[965056458b123721a4f805cdcd054938]\n",
       "@startuml\r\n",
       "skinparam ranksep 10\r\n",
       "skinparam rectangle {\r\n",
       " backgroundColor<<block>> LightGreen\r\n",
       "}\r\n",
       "skinparam linetype ortho\r\n",
       "skinparam monochrome true\r\n",
       "skinparam classbackgroundcolor white\r\n",
       "skinparam shadowing false\r\n",
       "skinparam wrapWidth 300\r\n",
       "hide circle\r\n",
       "\r\n",
       "package \"Q\" as E1  [[psysml:6ab71797-e8f8-4bff-ada3-bad51ca07e78 ]]  {\r\n",
       "rec usage \"f\" as E2  [[psysml:c02a2287-c712-494f-86c8-48c213fef3aa ]] {\r\n",
       "rec usage \"a\" as E3  [[psysml:b53848ad-4a38-46bd-bd01-a08ed5bc4cea ]] {\r\n",
       "}\r\n",
       "}\r\n",
       "rec def \"C\" as E4  <<(T,blue)part def>> [[psysml:562783b8-e65b-4087-86a0-89c793c14f93 ]] {\r\n",
       "rec usage \"g=./f/a; \" as E5  [[psysml:ab356c3f-6fc6-498c-877e-f29aa221dc38 ]] {\r\n",
       "}\r\n",
       "}\r\n",
       "}\r\n",
       "@enduml\r\n",
       "\n",
       "PlantUML version 1.2020.13(Sat Jun 13 12:26:38 UTC 2020)\n",
       "(EPL source distribution)\n",
       "Java Runtime: OpenJDK Runtime Environment\n",
       "JVM: OpenJDK 64-Bit Server VM\n",
       "Default Encoding: UTF-8\n",
       "Language: en\n",
       "Country: null\n",
       "--></g></svg>"
      ]
     },
     "execution_count": 54,
     "metadata": {},
     "output_type": "execute_result"
    }
   ],
   "source": [
    "%viz --style=\"ORTHOLINE\" --view=\"Interconnection\" \"Q\""
   ]
  },
  {
   "cell_type": "code",
   "execution_count": 55,
   "id": "b441197d",
   "metadata": {
    "execution": {
     "iopub.execute_input": "2021-04-20T06:58:48.050208Z",
     "iopub.status.busy": "2021-04-20T06:58:48.049609Z",
     "iopub.status.idle": "2021-04-20T06:58:48.055395Z",
     "shell.execute_reply": "2021-04-20T06:58:48.055062Z"
    }
   },
   "outputs": [
    {
     "data": {
      "image/svg+xml": [
       "<?xml version=\"1.0\" encoding=\"UTF-8\" standalone=\"no\"?><svg xmlns=\"http://www.w3.org/2000/svg\" xmlns:xlink=\"http://www.w3.org/1999/xlink\" contentScriptType=\"application/ecmascript\" contentStyleType=\"text/css\" height=\"12px\" preserveAspectRatio=\"none\" style=\"width:12px;height:12px;\" version=\"1.1\" viewBox=\"0 0 12 12\" width=\"12px\" zoomAndPan=\"magnify\"><defs/><g><!--MD5=[72934c63077099a26744516a776b4749]\n",
       "@startuml\r\n",
       "skinparam ranksep 8\r\n",
       "skinparam linetype ortho\r\n",
       "skinparam monochrome true\r\n",
       "skinparam classbackgroundcolor white\r\n",
       "skinparam shadowing false\r\n",
       "skinparam wrapWidth 300\r\n",
       "hide circle\r\n",
       "\r\n",
       "@enduml\r\n",
       "\n",
       "PlantUML version 1.2020.13(Sat Jun 13 12:26:38 UTC 2020)\n",
       "(EPL source distribution)\n",
       "Java Runtime: OpenJDK Runtime Environment\n",
       "JVM: OpenJDK 64-Bit Server VM\n",
       "Default Encoding: UTF-8\n",
       "Language: en\n",
       "Country: null\n",
       "--></g></svg>"
      ]
     },
     "execution_count": 55,
     "metadata": {},
     "output_type": "execute_result"
    }
   ],
   "source": [
    "%viz --style=\"ORTHOLINE\" --view=\"Action\" \"Q\""
   ]
  },
  {
   "cell_type": "code",
   "execution_count": 56,
   "id": "a2e8c9e7",
   "metadata": {
    "execution": {
     "iopub.execute_input": "2021-04-20T06:58:48.107417Z",
     "iopub.status.busy": "2021-04-20T06:58:48.106855Z",
     "iopub.status.idle": "2021-04-20T06:58:48.132047Z",
     "shell.execute_reply": "2021-04-20T06:58:48.130748Z"
    }
   },
   "outputs": [
    {
     "data": {
      "image/svg+xml": [
       "<?xml version=\"1.0\" encoding=\"UTF-8\" standalone=\"no\"?><svg xmlns=\"http://www.w3.org/2000/svg\" xmlns:xlink=\"http://www.w3.org/1999/xlink\" contentScriptType=\"application/ecmascript\" contentStyleType=\"text/css\" height=\"221px\" preserveAspectRatio=\"none\" style=\"width:213px;height:221px;\" version=\"1.1\" viewBox=\"0 0 213 221\" width=\"213px\" zoomAndPan=\"magnify\"><defs/><g><!--MD5=[fbc87193dbaf4d95561dea2c320d4a47]\n",
       "cluster E1--><a href=\"psysml:6ab71797-e8f8-4bff-ada3-bad51ca07e78\" target=\"_top\" title=\"psysml:6ab71797-e8f8-4bff-ada3-bad51ca07e78\" xlink:actuate=\"onRequest\" xlink:href=\"psysml:6ab71797-e8f8-4bff-ada3-bad51ca07e78\" xlink:show=\"new\" xlink:title=\"psysml:6ab71797-e8f8-4bff-ada3-bad51ca07e78\" xlink:type=\"simple\"><polygon fill=\"#FFFFFF\" points=\"16,6,34,6,41,28.2969,191,28.2969,191,209,16,209,16,6\" style=\"stroke: #000000; stroke-width: 1.5;\"/><line style=\"stroke: #000000; stroke-width: 1.5;\" x1=\"16\" x2=\"41\" y1=\"28.2969\" y2=\"28.2969\"/><text fill=\"#000000\" font-family=\"sans-serif\" font-size=\"14\" font-weight=\"bold\" lengthAdjust=\"spacingAndGlyphs\" textLength=\"12\" x=\"20\" y=\"20.9951\">Q</text></a><!--MD5=[b4997ac47864f28c2f74865a473b2911]\n",
       "class E2--><a href=\"psysml:c02a2287-c712-494f-86c8-48c213fef3aa\" target=\"_top\" title=\"psysml:c02a2287-c712-494f-86c8-48c213fef3aa\" xlink:actuate=\"onRequest\" xlink:href=\"psysml:c02a2287-c712-494f-86c8-48c213fef3aa\" xlink:show=\"new\" xlink:title=\"psysml:c02a2287-c712-494f-86c8-48c213fef3aa\" xlink:type=\"simple\"><rect fill=\"#FFFFFF\" height=\"45.9375\" id=\"E2\" rx=\"10\" ry=\"10\" style=\"stroke: #383838; stroke-width: 1.5;\" width=\"42\" x=\"133\" y=\"41\"/><text fill=\"#000000\" font-family=\"sans-serif\" font-size=\"12\" font-style=\"italic\" lengthAdjust=\"spacingAndGlyphs\" textLength=\"40\" x=\"134\" y=\"57.1387\">«part»</text><text fill=\"#000000\" font-family=\"sans-serif\" font-size=\"12\" lengthAdjust=\"spacingAndGlyphs\" textLength=\"4\" x=\"152\" y=\"71.1074\">f</text><line style=\"stroke: #383838; stroke-width: 1.5;\" x1=\"134\" x2=\"174\" y1=\"78.9375\" y2=\"78.9375\"/></a><!--MD5=[09b614a08d8cba4a07c9adeb5e0fee81]\n",
       "class E3--><a href=\"psysml:b53848ad-4a38-46bd-bd01-a08ed5bc4cea\" target=\"_top\" title=\"psysml:b53848ad-4a38-46bd-bd01-a08ed5bc4cea\" xlink:actuate=\"onRequest\" xlink:href=\"psysml:b53848ad-4a38-46bd-bd01-a08ed5bc4cea\" xlink:show=\"new\" xlink:title=\"psysml:b53848ad-4a38-46bd-bd01-a08ed5bc4cea\" xlink:type=\"simple\"><rect fill=\"#FFFFFF\" height=\"45.9375\" id=\"E3\" rx=\"10\" ry=\"10\" style=\"stroke: #383838; stroke-width: 1.5;\" width=\"42\" x=\"133\" y=\"147\"/><text fill=\"#000000\" font-family=\"sans-serif\" font-size=\"12\" font-style=\"italic\" lengthAdjust=\"spacingAndGlyphs\" textLength=\"40\" x=\"134\" y=\"163.1387\">«part»</text><text fill=\"#000000\" font-family=\"sans-serif\" font-size=\"12\" lengthAdjust=\"spacingAndGlyphs\" textLength=\"8\" x=\"150\" y=\"177.1074\">a</text><line style=\"stroke: #383838; stroke-width: 1.5;\" x1=\"134\" x2=\"174\" y1=\"184.9375\" y2=\"184.9375\"/></a><!--MD5=[ebbe1d658d1005bcc118a6aa81145e00]\n",
       "class E4--><a href=\"psysml:562783b8-e65b-4087-86a0-89c793c14f93\" target=\"_top\" title=\"psysml:562783b8-e65b-4087-86a0-89c793c14f93\" xlink:actuate=\"onRequest\" xlink:href=\"psysml:562783b8-e65b-4087-86a0-89c793c14f93\" xlink:show=\"new\" xlink:title=\"psysml:562783b8-e65b-4087-86a0-89c793c14f93\" xlink:type=\"simple\"><rect fill=\"#FFFFFF\" height=\"45.9375\" id=\"E4\" style=\"stroke: #383838; stroke-width: 1.5;\" width=\"66\" x=\"32\" y=\"41\"/><text fill=\"#000000\" font-family=\"sans-serif\" font-size=\"12\" font-style=\"italic\" lengthAdjust=\"spacingAndGlyphs\" textLength=\"64\" x=\"33\" y=\"57.1387\">«part def»</text><text fill=\"#000000\" font-family=\"sans-serif\" font-size=\"12\" lengthAdjust=\"spacingAndGlyphs\" textLength=\"8\" x=\"61\" y=\"71.1074\">C</text><line style=\"stroke: #383838; stroke-width: 1.5;\" x1=\"33\" x2=\"97\" y1=\"78.9375\" y2=\"78.9375\"/></a><!--MD5=[270fce915f116d4de14055a7c1d9a0f3]\n",
       "class E5--><a href=\"psysml:ab356c3f-6fc6-498c-877e-f29aa221dc38\" target=\"_top\" title=\"psysml:ab356c3f-6fc6-498c-877e-f29aa221dc38\" xlink:actuate=\"onRequest\" xlink:href=\"psysml:ab356c3f-6fc6-498c-877e-f29aa221dc38\" xlink:show=\"new\" xlink:title=\"psysml:ab356c3f-6fc6-498c-877e-f29aa221dc38\" xlink:type=\"simple\"><rect fill=\"#FFFFFF\" height=\"45.9375\" id=\"E5\" rx=\"10\" ry=\"10\" style=\"stroke: #383838; stroke-width: 1.5;\" width=\"42\" x=\"44\" y=\"147\"/><text fill=\"#000000\" font-family=\"sans-serif\" font-size=\"12\" font-style=\"italic\" lengthAdjust=\"spacingAndGlyphs\" textLength=\"40\" x=\"45\" y=\"163.1387\">«part»</text><text fill=\"#000000\" font-family=\"sans-serif\" font-size=\"12\" lengthAdjust=\"spacingAndGlyphs\" textLength=\"8\" x=\"61\" y=\"177.1074\">g</text><line style=\"stroke: #383838; stroke-width: 1.5;\" x1=\"45\" x2=\"85\" y1=\"184.9375\" y2=\"184.9375\"/></a><!--MD5=[209b3feb70ccb6233bfe1053d122c12c]\n",
       "reverse link E2 to E3--><a href=\"psysml:3a53f0eb-5b79-463f-97a3-37a7a9b28614\" target=\"_top\" title=\"psysml:3a53f0eb-5b79-463f-97a3-37a7a9b28614\" xlink:actuate=\"onRequest\" xlink:href=\"psysml:3a53f0eb-5b79-463f-97a3-37a7a9b28614\" xlink:show=\"new\" xlink:title=\"psysml:3a53f0eb-5b79-463f-97a3-37a7a9b28614\" xlink:type=\"simple\"><path d=\"M154,100 C154,100 154,146.68 154,146.68 \" fill=\"none\" id=\"E2&lt;-E3\" style=\"stroke: #383838; stroke-width: 1.0;\"/><polygon fill=\"#383838\" points=\"154,87,150,93,154,99,158,93,154,87\" style=\"stroke: #383838; stroke-width: 1.0;\"/></a><!--MD5=[62aa6af11e70f752912c1cb0466f24f7]\n",
       "reverse link E4 to E5--><a href=\"psysml:b96f3833-0cb6-4ba3-9671-acfc6ae0d964\" target=\"_top\" title=\"psysml:b96f3833-0cb6-4ba3-9671-acfc6ae0d964\" xlink:actuate=\"onRequest\" xlink:href=\"psysml:b96f3833-0cb6-4ba3-9671-acfc6ae0d964\" xlink:show=\"new\" xlink:title=\"psysml:b96f3833-0cb6-4ba3-9671-acfc6ae0d964\" xlink:type=\"simple\"><path d=\"M65,100 C65,100 65,146.68 65,146.68 \" fill=\"none\" id=\"E4&lt;-E5\" style=\"stroke: #383838; stroke-width: 1.0;\"/><polygon fill=\"#383838\" points=\"65,87,61,93,65,99,69,93,65,87\" style=\"stroke: #383838; stroke-width: 1.0;\"/></a><!--MD5=[cf98b676899c97267d34074ffc2bfba7]\n",
       "@startuml\r\n",
       "skinparam linetype ortho\r\n",
       "skinparam monochrome true\r\n",
       "skinparam classbackgroundcolor white\r\n",
       "skinparam shadowing false\r\n",
       "skinparam wrapWidth 300\r\n",
       "hide circle\r\n",
       "\r\n",
       "package \"Q\" as E1  [[psysml:6ab71797-e8f8-4bff-ada3-bad51ca07e78 ]]  {\r\n",
       "comp usage \"f\" as E2  <<(T,blue)part>> [[psysml:c02a2287-c712-494f-86c8-48c213fef3aa ]] {\r\n",
       "}\r\n",
       "comp usage \"a\" as E3  <<(T,blue)part>> [[psysml:b53848ad-4a38-46bd-bd01-a08ed5bc4cea ]] {\r\n",
       "}\r\n",
       "comp def \"C\" as E4  <<(T,blue)part def>> [[psysml:562783b8-e65b-4087-86a0-89c793c14f93 ]] {\r\n",
       "}\r\n",
       "comp usage \"g\" as E5  <<(T,blue)part>> [[psysml:ab356c3f-6fc6-498c-877e-f29aa221dc38 ]] {\r\n",
       "}\r\n",
       "E2 *- - E3 [[psysml:3a53f0eb-5b79-463f-97a3-37a7a9b28614 ]] \r\n",
       "E4 *- - E5 [[psysml:b96f3833-0cb6-4ba3-9671-acfc6ae0d964 ]] \r\n",
       "}\r\n",
       "@enduml\r\n",
       "\n",
       "PlantUML version 1.2020.13(Sat Jun 13 12:26:38 UTC 2020)\n",
       "(EPL source distribution)\n",
       "Java Runtime: OpenJDK Runtime Environment\n",
       "JVM: OpenJDK 64-Bit Server VM\n",
       "Default Encoding: UTF-8\n",
       "Language: en\n",
       "Country: null\n",
       "--></g></svg>"
      ]
     },
     "execution_count": 56,
     "metadata": {},
     "output_type": "execute_result"
    }
   ],
   "source": [
    "%viz --style=\"ORTHOLINE\" --view=\"Sequence\" \"Q\""
   ]
  },
  {
   "cell_type": "code",
   "execution_count": 57,
   "id": "9bce4946",
   "metadata": {
    "execution": {
     "iopub.execute_input": "2021-04-20T06:58:48.182138Z",
     "iopub.status.busy": "2021-04-20T06:58:48.181629Z",
     "iopub.status.idle": "2021-04-20T06:58:48.208167Z",
     "shell.execute_reply": "2021-04-20T06:58:48.206989Z"
    }
   },
   "outputs": [
    {
     "data": {
      "image/svg+xml": [
       "<?xml version=\"1.0\" encoding=\"UTF-8\" standalone=\"no\"?><svg xmlns=\"http://www.w3.org/2000/svg\" xmlns:xlink=\"http://www.w3.org/1999/xlink\" contentScriptType=\"application/ecmascript\" contentStyleType=\"text/css\" height=\"221px\" preserveAspectRatio=\"none\" style=\"width:213px;height:221px;\" version=\"1.1\" viewBox=\"0 0 213 221\" width=\"213px\" zoomAndPan=\"magnify\"><defs/><g><!--MD5=[fbc87193dbaf4d95561dea2c320d4a47]\n",
       "cluster E1--><a href=\"psysml:6ab71797-e8f8-4bff-ada3-bad51ca07e78\" target=\"_top\" title=\"psysml:6ab71797-e8f8-4bff-ada3-bad51ca07e78\" xlink:actuate=\"onRequest\" xlink:href=\"psysml:6ab71797-e8f8-4bff-ada3-bad51ca07e78\" xlink:show=\"new\" xlink:title=\"psysml:6ab71797-e8f8-4bff-ada3-bad51ca07e78\" xlink:type=\"simple\"><polygon fill=\"#FFFFFF\" points=\"16,6,34,6,41,28.2969,191,28.2969,191,209,16,209,16,6\" style=\"stroke: #000000; stroke-width: 1.5;\"/><line style=\"stroke: #000000; stroke-width: 1.5;\" x1=\"16\" x2=\"41\" y1=\"28.2969\" y2=\"28.2969\"/><text fill=\"#000000\" font-family=\"sans-serif\" font-size=\"14\" font-weight=\"bold\" lengthAdjust=\"spacingAndGlyphs\" textLength=\"12\" x=\"20\" y=\"20.9951\">Q</text></a><!--MD5=[b4997ac47864f28c2f74865a473b2911]\n",
       "class E2--><a href=\"psysml:c02a2287-c712-494f-86c8-48c213fef3aa\" target=\"_top\" title=\"psysml:c02a2287-c712-494f-86c8-48c213fef3aa\" xlink:actuate=\"onRequest\" xlink:href=\"psysml:c02a2287-c712-494f-86c8-48c213fef3aa\" xlink:show=\"new\" xlink:title=\"psysml:c02a2287-c712-494f-86c8-48c213fef3aa\" xlink:type=\"simple\"><rect fill=\"#FFFFFF\" height=\"45.9375\" id=\"E2\" rx=\"10\" ry=\"10\" style=\"stroke: #383838; stroke-width: 1.5;\" width=\"42\" x=\"133\" y=\"41\"/><text fill=\"#000000\" font-family=\"sans-serif\" font-size=\"12\" font-style=\"italic\" lengthAdjust=\"spacingAndGlyphs\" textLength=\"40\" x=\"134\" y=\"57.1387\">«part»</text><text fill=\"#000000\" font-family=\"sans-serif\" font-size=\"12\" lengthAdjust=\"spacingAndGlyphs\" textLength=\"4\" x=\"152\" y=\"71.1074\">f</text><line style=\"stroke: #383838; stroke-width: 1.5;\" x1=\"134\" x2=\"174\" y1=\"78.9375\" y2=\"78.9375\"/></a><!--MD5=[09b614a08d8cba4a07c9adeb5e0fee81]\n",
       "class E3--><a href=\"psysml:b53848ad-4a38-46bd-bd01-a08ed5bc4cea\" target=\"_top\" title=\"psysml:b53848ad-4a38-46bd-bd01-a08ed5bc4cea\" xlink:actuate=\"onRequest\" xlink:href=\"psysml:b53848ad-4a38-46bd-bd01-a08ed5bc4cea\" xlink:show=\"new\" xlink:title=\"psysml:b53848ad-4a38-46bd-bd01-a08ed5bc4cea\" xlink:type=\"simple\"><rect fill=\"#FFFFFF\" height=\"45.9375\" id=\"E3\" rx=\"10\" ry=\"10\" style=\"stroke: #383838; stroke-width: 1.5;\" width=\"42\" x=\"133\" y=\"147\"/><text fill=\"#000000\" font-family=\"sans-serif\" font-size=\"12\" font-style=\"italic\" lengthAdjust=\"spacingAndGlyphs\" textLength=\"40\" x=\"134\" y=\"163.1387\">«part»</text><text fill=\"#000000\" font-family=\"sans-serif\" font-size=\"12\" lengthAdjust=\"spacingAndGlyphs\" textLength=\"8\" x=\"150\" y=\"177.1074\">a</text><line style=\"stroke: #383838; stroke-width: 1.5;\" x1=\"134\" x2=\"174\" y1=\"184.9375\" y2=\"184.9375\"/></a><!--MD5=[ebbe1d658d1005bcc118a6aa81145e00]\n",
       "class E4--><a href=\"psysml:562783b8-e65b-4087-86a0-89c793c14f93\" target=\"_top\" title=\"psysml:562783b8-e65b-4087-86a0-89c793c14f93\" xlink:actuate=\"onRequest\" xlink:href=\"psysml:562783b8-e65b-4087-86a0-89c793c14f93\" xlink:show=\"new\" xlink:title=\"psysml:562783b8-e65b-4087-86a0-89c793c14f93\" xlink:type=\"simple\"><rect fill=\"#FFFFFF\" height=\"45.9375\" id=\"E4\" style=\"stroke: #383838; stroke-width: 1.5;\" width=\"66\" x=\"32\" y=\"41\"/><text fill=\"#000000\" font-family=\"sans-serif\" font-size=\"12\" font-style=\"italic\" lengthAdjust=\"spacingAndGlyphs\" textLength=\"64\" x=\"33\" y=\"57.1387\">«part def»</text><text fill=\"#000000\" font-family=\"sans-serif\" font-size=\"12\" lengthAdjust=\"spacingAndGlyphs\" textLength=\"8\" x=\"61\" y=\"71.1074\">C</text><line style=\"stroke: #383838; stroke-width: 1.5;\" x1=\"33\" x2=\"97\" y1=\"78.9375\" y2=\"78.9375\"/></a><!--MD5=[270fce915f116d4de14055a7c1d9a0f3]\n",
       "class E5--><a href=\"psysml:ab356c3f-6fc6-498c-877e-f29aa221dc38\" target=\"_top\" title=\"psysml:ab356c3f-6fc6-498c-877e-f29aa221dc38\" xlink:actuate=\"onRequest\" xlink:href=\"psysml:ab356c3f-6fc6-498c-877e-f29aa221dc38\" xlink:show=\"new\" xlink:title=\"psysml:ab356c3f-6fc6-498c-877e-f29aa221dc38\" xlink:type=\"simple\"><rect fill=\"#FFFFFF\" height=\"45.9375\" id=\"E5\" rx=\"10\" ry=\"10\" style=\"stroke: #383838; stroke-width: 1.5;\" width=\"42\" x=\"44\" y=\"147\"/><text fill=\"#000000\" font-family=\"sans-serif\" font-size=\"12\" font-style=\"italic\" lengthAdjust=\"spacingAndGlyphs\" textLength=\"40\" x=\"45\" y=\"163.1387\">«part»</text><text fill=\"#000000\" font-family=\"sans-serif\" font-size=\"12\" lengthAdjust=\"spacingAndGlyphs\" textLength=\"8\" x=\"61\" y=\"177.1074\">g</text><line style=\"stroke: #383838; stroke-width: 1.5;\" x1=\"45\" x2=\"85\" y1=\"184.9375\" y2=\"184.9375\"/></a><!--MD5=[209b3feb70ccb6233bfe1053d122c12c]\n",
       "reverse link E2 to E3--><a href=\"psysml:3a53f0eb-5b79-463f-97a3-37a7a9b28614\" target=\"_top\" title=\"psysml:3a53f0eb-5b79-463f-97a3-37a7a9b28614\" xlink:actuate=\"onRequest\" xlink:href=\"psysml:3a53f0eb-5b79-463f-97a3-37a7a9b28614\" xlink:show=\"new\" xlink:title=\"psysml:3a53f0eb-5b79-463f-97a3-37a7a9b28614\" xlink:type=\"simple\"><path d=\"M154,100 C154,100 154,146.68 154,146.68 \" fill=\"none\" id=\"E2&lt;-E3\" style=\"stroke: #383838; stroke-width: 1.0;\"/><polygon fill=\"#383838\" points=\"154,87,150,93,154,99,158,93,154,87\" style=\"stroke: #383838; stroke-width: 1.0;\"/></a><!--MD5=[62aa6af11e70f752912c1cb0466f24f7]\n",
       "reverse link E4 to E5--><a href=\"psysml:b96f3833-0cb6-4ba3-9671-acfc6ae0d964\" target=\"_top\" title=\"psysml:b96f3833-0cb6-4ba3-9671-acfc6ae0d964\" xlink:actuate=\"onRequest\" xlink:href=\"psysml:b96f3833-0cb6-4ba3-9671-acfc6ae0d964\" xlink:show=\"new\" xlink:title=\"psysml:b96f3833-0cb6-4ba3-9671-acfc6ae0d964\" xlink:type=\"simple\"><path d=\"M65,100 C65,100 65,146.68 65,146.68 \" fill=\"none\" id=\"E4&lt;-E5\" style=\"stroke: #383838; stroke-width: 1.0;\"/><polygon fill=\"#383838\" points=\"65,87,61,93,65,99,69,93,65,87\" style=\"stroke: #383838; stroke-width: 1.0;\"/></a><!--MD5=[cf98b676899c97267d34074ffc2bfba7]\n",
       "@startuml\r\n",
       "skinparam linetype ortho\r\n",
       "skinparam monochrome true\r\n",
       "skinparam classbackgroundcolor white\r\n",
       "skinparam shadowing false\r\n",
       "skinparam wrapWidth 300\r\n",
       "hide circle\r\n",
       "\r\n",
       "package \"Q\" as E1  [[psysml:6ab71797-e8f8-4bff-ada3-bad51ca07e78 ]]  {\r\n",
       "comp usage \"f\" as E2  <<(T,blue)part>> [[psysml:c02a2287-c712-494f-86c8-48c213fef3aa ]] {\r\n",
       "}\r\n",
       "comp usage \"a\" as E3  <<(T,blue)part>> [[psysml:b53848ad-4a38-46bd-bd01-a08ed5bc4cea ]] {\r\n",
       "}\r\n",
       "comp def \"C\" as E4  <<(T,blue)part def>> [[psysml:562783b8-e65b-4087-86a0-89c793c14f93 ]] {\r\n",
       "}\r\n",
       "comp usage \"g\" as E5  <<(T,blue)part>> [[psysml:ab356c3f-6fc6-498c-877e-f29aa221dc38 ]] {\r\n",
       "}\r\n",
       "E2 *- - E3 [[psysml:3a53f0eb-5b79-463f-97a3-37a7a9b28614 ]] \r\n",
       "E4 *- - E5 [[psysml:b96f3833-0cb6-4ba3-9671-acfc6ae0d964 ]] \r\n",
       "}\r\n",
       "@enduml\r\n",
       "\n",
       "PlantUML version 1.2020.13(Sat Jun 13 12:26:38 UTC 2020)\n",
       "(EPL source distribution)\n",
       "Java Runtime: OpenJDK Runtime Environment\n",
       "JVM: OpenJDK 64-Bit Server VM\n",
       "Default Encoding: UTF-8\n",
       "Language: en\n",
       "Country: null\n",
       "--></g></svg>"
      ]
     },
     "execution_count": 57,
     "metadata": {},
     "output_type": "execute_result"
    }
   ],
   "source": [
    "%viz --style=\"ORTHOLINE\" --view=\"MIXED\" \"Q\""
   ]
  }
 ],
 "metadata": {
  "kernelspec": {
   "display_name": "SysML",
   "language": "sysml",
   "name": "sysml"
  },
  "language_info": {
   "codemirror_mode": "sysml",
   "file_extension": ".sysml",
   "mimetype": "text/x-sysml",
   "name": "SysML",
   "pygments_lexer": "java",
   "version": "1.0.0"
  }
 },
 "nbformat": 4,
 "nbformat_minor": 5
}
