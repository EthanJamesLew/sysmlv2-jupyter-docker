{
 "cells": [
  {
   "cell_type": "markdown",
   "id": "3f63d0c5",
   "metadata": {},
   "source": [
    "# SysML v2 Test Suite\n",
    "\n",
    "This can notebook can be cleared using menu `Edit --> Clear All Outputs` and then all cells can be\n",
    "run using menu `Run --> Run All Cells`.\n",
    "\n",
    "**WARNING**: This file is generated, all modifications here will be ignored.\n"
   ]
  },
  {
   "cell_type": "markdown",
   "id": "d143ec6a",
   "metadata": {},
   "source": [
    "## File: ../../sysml/src/examples/Simple Tests/QPETest.sysml"
   ]
  },
  {
   "cell_type": "code",
   "execution_count": 1,
   "id": "2f5c93c5",
   "metadata": {
    "execution": {
     "iopub.execute_input": "2021-04-20T07:21:48.679938Z",
     "iopub.status.busy": "2021-04-20T07:21:48.679424Z",
     "iopub.status.idle": "2021-04-20T07:21:48.924938Z",
     "shell.execute_reply": "2021-04-20T07:21:48.924137Z"
    }
   },
   "outputs": [
    {
     "data": {
      "text/plain": [
       "Package Q (c4e2cb75-7864-460b-87e8-c7ef86272fde)\n"
      ]
     },
     "execution_count": 1,
     "metadata": {},
     "output_type": "execute_result"
    }
   ],
   "source": [
    "package Q {\n",
    "  part f {\n",
    "  \tpart a;\n",
    "  }\n",
    "  part def C {\n",
    "    part g = ./f/a; \n",
    "  }\n",
    "}\n"
   ]
  },
  {
   "cell_type": "code",
   "execution_count": 2,
   "id": "652caa45",
   "metadata": {
    "execution": {
     "iopub.execute_input": "2021-04-20T07:21:48.975984Z",
     "iopub.status.busy": "2021-04-20T07:21:48.975641Z",
     "iopub.status.idle": "2021-04-20T07:21:49.628668Z",
     "shell.execute_reply": "2021-04-20T07:21:49.627296Z"
    }
   },
   "outputs": [
    {
     "data": {
      "image/svg+xml": [
       "<?xml version=\"1.0\" encoding=\"UTF-8\" standalone=\"no\"?><svg xmlns=\"http://www.w3.org/2000/svg\" xmlns:xlink=\"http://www.w3.org/1999/xlink\" contentScriptType=\"application/ecmascript\" contentStyleType=\"text/css\" height=\"221px\" preserveAspectRatio=\"none\" style=\"width:213px;height:221px;\" version=\"1.1\" viewBox=\"0 0 213 221\" width=\"213px\" zoomAndPan=\"magnify\"><defs/><g><!--MD5=[fbc87193dbaf4d95561dea2c320d4a47]\n",
       "cluster E1--><a href=\"psysml:8fe83ee3-fcec-497a-a9db-5b3b84baea71\" target=\"_top\" title=\"psysml:8fe83ee3-fcec-497a-a9db-5b3b84baea71\" xlink:actuate=\"onRequest\" xlink:href=\"psysml:8fe83ee3-fcec-497a-a9db-5b3b84baea71\" xlink:show=\"new\" xlink:title=\"psysml:8fe83ee3-fcec-497a-a9db-5b3b84baea71\" xlink:type=\"simple\"><polygon fill=\"#FFFFFF\" points=\"16,6,34,6,41,28.2969,191,28.2969,191,209,16,209,16,6\" style=\"stroke: #000000; stroke-width: 1.5;\"/><line style=\"stroke: #000000; stroke-width: 1.5;\" x1=\"16\" x2=\"41\" y1=\"28.2969\" y2=\"28.2969\"/><text fill=\"#000000\" font-family=\"sans-serif\" font-size=\"14\" font-weight=\"bold\" lengthAdjust=\"spacingAndGlyphs\" textLength=\"12\" x=\"20\" y=\"20.9951\">Q</text></a><!--MD5=[b4997ac47864f28c2f74865a473b2911]\n",
       "class E2--><a href=\"psysml:c953ea8a-4e0b-4404-8471-1de142ee019c\" target=\"_top\" title=\"psysml:c953ea8a-4e0b-4404-8471-1de142ee019c\" xlink:actuate=\"onRequest\" xlink:href=\"psysml:c953ea8a-4e0b-4404-8471-1de142ee019c\" xlink:show=\"new\" xlink:title=\"psysml:c953ea8a-4e0b-4404-8471-1de142ee019c\" xlink:type=\"simple\"><rect fill=\"#FFFFFF\" height=\"45.9375\" id=\"E2\" rx=\"10\" ry=\"10\" style=\"stroke: #383838; stroke-width: 1.5;\" width=\"42\" x=\"133\" y=\"41\"/><text fill=\"#000000\" font-family=\"sans-serif\" font-size=\"12\" font-style=\"italic\" lengthAdjust=\"spacingAndGlyphs\" textLength=\"40\" x=\"134\" y=\"57.1387\">«part»</text><text fill=\"#000000\" font-family=\"sans-serif\" font-size=\"12\" lengthAdjust=\"spacingAndGlyphs\" textLength=\"4\" x=\"152\" y=\"71.1074\">f</text><line style=\"stroke: #383838; stroke-width: 1.5;\" x1=\"134\" x2=\"174\" y1=\"78.9375\" y2=\"78.9375\"/></a><!--MD5=[09b614a08d8cba4a07c9adeb5e0fee81]\n",
       "class E3--><a href=\"psysml:c747f0dc-049c-42e5-8830-b905b214a6d2\" target=\"_top\" title=\"psysml:c747f0dc-049c-42e5-8830-b905b214a6d2\" xlink:actuate=\"onRequest\" xlink:href=\"psysml:c747f0dc-049c-42e5-8830-b905b214a6d2\" xlink:show=\"new\" xlink:title=\"psysml:c747f0dc-049c-42e5-8830-b905b214a6d2\" xlink:type=\"simple\"><rect fill=\"#FFFFFF\" height=\"45.9375\" id=\"E3\" rx=\"10\" ry=\"10\" style=\"stroke: #383838; stroke-width: 1.5;\" width=\"42\" x=\"133\" y=\"147\"/><text fill=\"#000000\" font-family=\"sans-serif\" font-size=\"12\" font-style=\"italic\" lengthAdjust=\"spacingAndGlyphs\" textLength=\"40\" x=\"134\" y=\"163.1387\">«part»</text><text fill=\"#000000\" font-family=\"sans-serif\" font-size=\"12\" lengthAdjust=\"spacingAndGlyphs\" textLength=\"8\" x=\"150\" y=\"177.1074\">a</text><line style=\"stroke: #383838; stroke-width: 1.5;\" x1=\"134\" x2=\"174\" y1=\"184.9375\" y2=\"184.9375\"/></a><!--MD5=[ebbe1d658d1005bcc118a6aa81145e00]\n",
       "class E4--><a href=\"psysml:1d5dfbac-e0d0-4dae-a20f-d178674246aa\" target=\"_top\" title=\"psysml:1d5dfbac-e0d0-4dae-a20f-d178674246aa\" xlink:actuate=\"onRequest\" xlink:href=\"psysml:1d5dfbac-e0d0-4dae-a20f-d178674246aa\" xlink:show=\"new\" xlink:title=\"psysml:1d5dfbac-e0d0-4dae-a20f-d178674246aa\" xlink:type=\"simple\"><rect fill=\"#FFFFFF\" height=\"45.9375\" id=\"E4\" style=\"stroke: #383838; stroke-width: 1.5;\" width=\"66\" x=\"32\" y=\"41\"/><text fill=\"#000000\" font-family=\"sans-serif\" font-size=\"12\" font-style=\"italic\" lengthAdjust=\"spacingAndGlyphs\" textLength=\"64\" x=\"33\" y=\"57.1387\">«part def»</text><text fill=\"#000000\" font-family=\"sans-serif\" font-size=\"12\" lengthAdjust=\"spacingAndGlyphs\" textLength=\"8\" x=\"61\" y=\"71.1074\">C</text><line style=\"stroke: #383838; stroke-width: 1.5;\" x1=\"33\" x2=\"97\" y1=\"78.9375\" y2=\"78.9375\"/></a><!--MD5=[270fce915f116d4de14055a7c1d9a0f3]\n",
       "class E5--><a href=\"psysml:31443893-624e-4834-b51f-adb4e581d804\" target=\"_top\" title=\"psysml:31443893-624e-4834-b51f-adb4e581d804\" xlink:actuate=\"onRequest\" xlink:href=\"psysml:31443893-624e-4834-b51f-adb4e581d804\" xlink:show=\"new\" xlink:title=\"psysml:31443893-624e-4834-b51f-adb4e581d804\" xlink:type=\"simple\"><rect fill=\"#FFFFFF\" height=\"45.9375\" id=\"E5\" rx=\"10\" ry=\"10\" style=\"stroke: #383838; stroke-width: 1.5;\" width=\"42\" x=\"44\" y=\"147\"/><text fill=\"#000000\" font-family=\"sans-serif\" font-size=\"12\" font-style=\"italic\" lengthAdjust=\"spacingAndGlyphs\" textLength=\"40\" x=\"45\" y=\"163.1387\">«part»</text><text fill=\"#000000\" font-family=\"sans-serif\" font-size=\"12\" lengthAdjust=\"spacingAndGlyphs\" textLength=\"8\" x=\"61\" y=\"177.1074\">g</text><line style=\"stroke: #383838; stroke-width: 1.5;\" x1=\"45\" x2=\"85\" y1=\"184.9375\" y2=\"184.9375\"/></a><!--MD5=[209b3feb70ccb6233bfe1053d122c12c]\n",
       "reverse link E2 to E3--><a href=\"psysml:144a9ea2-c14f-46d2-8ece-b06edd35cf79\" target=\"_top\" title=\"psysml:144a9ea2-c14f-46d2-8ece-b06edd35cf79\" xlink:actuate=\"onRequest\" xlink:href=\"psysml:144a9ea2-c14f-46d2-8ece-b06edd35cf79\" xlink:show=\"new\" xlink:title=\"psysml:144a9ea2-c14f-46d2-8ece-b06edd35cf79\" xlink:type=\"simple\"><path d=\"M154,100.44 C154,115.87 154,133.47 154,146.98 \" fill=\"none\" id=\"E2&lt;-E3\" style=\"stroke: #383838; stroke-width: 1.0;\"/><polygon fill=\"#383838\" points=\"154,87.06,150,93.06,154,99.06,158,93.06,154,87.06\" style=\"stroke: #383838; stroke-width: 1.0;\"/></a><!--MD5=[62aa6af11e70f752912c1cb0466f24f7]\n",
       "reverse link E4 to E5--><a href=\"psysml:ffd50afc-9abd-4dce-afc7-dff7922af1b1\" target=\"_top\" title=\"psysml:ffd50afc-9abd-4dce-afc7-dff7922af1b1\" xlink:actuate=\"onRequest\" xlink:href=\"psysml:ffd50afc-9abd-4dce-afc7-dff7922af1b1\" xlink:show=\"new\" xlink:title=\"psysml:ffd50afc-9abd-4dce-afc7-dff7922af1b1\" xlink:type=\"simple\"><path d=\"M65,100.44 C65,115.87 65,133.47 65,146.98 \" fill=\"none\" id=\"E4&lt;-E5\" style=\"stroke: #383838; stroke-width: 1.0;\"/><polygon fill=\"#383838\" points=\"65,87.06,61,93.06,65,99.06,69,93.06,65,87.06\" style=\"stroke: #383838; stroke-width: 1.0;\"/></a><!--MD5=[4f7c4de32a176a3fdfd1d5b456aa380f]\n",
       "@startuml\r\n",
       " skinparam monochrome true\r\n",
       "skinparam classbackgroundcolor white\r\n",
       "skinparam shadowing false\r\n",
       "skinparam wrapWidth 300\r\n",
       "hide circle\r\n",
       "\r\n",
       "package \"Q\" as E1  [[psysml:8fe83ee3-fcec-497a-a9db-5b3b84baea71 ]]  {\r\n",
       "comp usage \"f\" as E2  <<(T,blue)part>> [[psysml:c953ea8a-4e0b-4404-8471-1de142ee019c ]] {\r\n",
       "}\r\n",
       "comp usage \"a\" as E3  <<(T,blue)part>> [[psysml:c747f0dc-049c-42e5-8830-b905b214a6d2 ]] {\r\n",
       "}\r\n",
       "comp def \"C\" as E4  <<(T,blue)part def>> [[psysml:1d5dfbac-e0d0-4dae-a20f-d178674246aa ]] {\r\n",
       "}\r\n",
       "comp usage \"g\" as E5  <<(T,blue)part>> [[psysml:31443893-624e-4834-b51f-adb4e581d804 ]] {\r\n",
       "}\r\n",
       "E2 *- - E3 [[psysml:144a9ea2-c14f-46d2-8ece-b06edd35cf79 ]] \r\n",
       "E4 *- - E5 [[psysml:ffd50afc-9abd-4dce-afc7-dff7922af1b1 ]] \r\n",
       "}\r\n",
       "@enduml\r\n",
       "\n",
       "PlantUML version 1.2020.13(Sat Jun 13 12:26:38 UTC 2020)\n",
       "(EPL source distribution)\n",
       "Java Runtime: OpenJDK Runtime Environment\n",
       "JVM: OpenJDK 64-Bit Server VM\n",
       "Default Encoding: UTF-8\n",
       "Language: en\n",
       "Country: null\n",
       "--></g></svg>"
      ]
     },
     "execution_count": 2,
     "metadata": {},
     "output_type": "execute_result"
    }
   ],
   "source": [
    "%viz --style=\"COMPTREE\" --view=\"Default\" \"Q\""
   ]
  },
  {
   "cell_type": "code",
   "execution_count": 3,
   "id": "d99166c8",
   "metadata": {
    "execution": {
     "iopub.execute_input": "2021-04-20T07:21:49.682081Z",
     "iopub.status.busy": "2021-04-20T07:21:49.681201Z",
     "iopub.status.idle": "2021-04-20T07:21:49.749674Z",
     "shell.execute_reply": "2021-04-20T07:21:49.749257Z"
    }
   },
   "outputs": [
    {
     "data": {
      "image/svg+xml": [
       "<?xml version=\"1.0\" encoding=\"UTF-8\" standalone=\"no\"?><svg xmlns=\"http://www.w3.org/2000/svg\" xmlns:xlink=\"http://www.w3.org/1999/xlink\" contentScriptType=\"application/ecmascript\" contentStyleType=\"text/css\" height=\"221px\" preserveAspectRatio=\"none\" style=\"width:213px;height:221px;\" version=\"1.1\" viewBox=\"0 0 213 221\" width=\"213px\" zoomAndPan=\"magnify\"><defs/><g><!--MD5=[fbc87193dbaf4d95561dea2c320d4a47]\n",
       "cluster E1--><a href=\"psysml:8fe83ee3-fcec-497a-a9db-5b3b84baea71\" target=\"_top\" title=\"psysml:8fe83ee3-fcec-497a-a9db-5b3b84baea71\" xlink:actuate=\"onRequest\" xlink:href=\"psysml:8fe83ee3-fcec-497a-a9db-5b3b84baea71\" xlink:show=\"new\" xlink:title=\"psysml:8fe83ee3-fcec-497a-a9db-5b3b84baea71\" xlink:type=\"simple\"><polygon fill=\"#FFFFFF\" points=\"16,6,34,6,41,28.2969,191,28.2969,191,209,16,209,16,6\" style=\"stroke: #000000; stroke-width: 1.5;\"/><line style=\"stroke: #000000; stroke-width: 1.5;\" x1=\"16\" x2=\"41\" y1=\"28.2969\" y2=\"28.2969\"/><text fill=\"#000000\" font-family=\"sans-serif\" font-size=\"14\" font-weight=\"bold\" lengthAdjust=\"spacingAndGlyphs\" textLength=\"12\" x=\"20\" y=\"20.9951\">Q</text></a><!--MD5=[b4997ac47864f28c2f74865a473b2911]\n",
       "class E2--><a href=\"psysml:c953ea8a-4e0b-4404-8471-1de142ee019c\" target=\"_top\" title=\"psysml:c953ea8a-4e0b-4404-8471-1de142ee019c\" xlink:actuate=\"onRequest\" xlink:href=\"psysml:c953ea8a-4e0b-4404-8471-1de142ee019c\" xlink:show=\"new\" xlink:title=\"psysml:c953ea8a-4e0b-4404-8471-1de142ee019c\" xlink:type=\"simple\"><rect fill=\"#FFFFFF\" height=\"45.9375\" id=\"E2\" rx=\"10\" ry=\"10\" style=\"stroke: #383838; stroke-width: 1.5;\" width=\"42\" x=\"133\" y=\"41\"/><text fill=\"#000000\" font-family=\"sans-serif\" font-size=\"12\" font-style=\"italic\" lengthAdjust=\"spacingAndGlyphs\" textLength=\"40\" x=\"134\" y=\"57.1387\">«part»</text><text fill=\"#000000\" font-family=\"sans-serif\" font-size=\"12\" lengthAdjust=\"spacingAndGlyphs\" textLength=\"4\" x=\"152\" y=\"71.1074\">f</text><line style=\"stroke: #383838; stroke-width: 1.5;\" x1=\"134\" x2=\"174\" y1=\"78.9375\" y2=\"78.9375\"/></a><!--MD5=[09b614a08d8cba4a07c9adeb5e0fee81]\n",
       "class E3--><a href=\"psysml:c747f0dc-049c-42e5-8830-b905b214a6d2\" target=\"_top\" title=\"psysml:c747f0dc-049c-42e5-8830-b905b214a6d2\" xlink:actuate=\"onRequest\" xlink:href=\"psysml:c747f0dc-049c-42e5-8830-b905b214a6d2\" xlink:show=\"new\" xlink:title=\"psysml:c747f0dc-049c-42e5-8830-b905b214a6d2\" xlink:type=\"simple\"><rect fill=\"#FFFFFF\" height=\"45.9375\" id=\"E3\" rx=\"10\" ry=\"10\" style=\"stroke: #383838; stroke-width: 1.5;\" width=\"42\" x=\"133\" y=\"147\"/><text fill=\"#000000\" font-family=\"sans-serif\" font-size=\"12\" font-style=\"italic\" lengthAdjust=\"spacingAndGlyphs\" textLength=\"40\" x=\"134\" y=\"163.1387\">«part»</text><text fill=\"#000000\" font-family=\"sans-serif\" font-size=\"12\" lengthAdjust=\"spacingAndGlyphs\" textLength=\"8\" x=\"150\" y=\"177.1074\">a</text><line style=\"stroke: #383838; stroke-width: 1.5;\" x1=\"134\" x2=\"174\" y1=\"184.9375\" y2=\"184.9375\"/></a><!--MD5=[ebbe1d658d1005bcc118a6aa81145e00]\n",
       "class E4--><a href=\"psysml:1d5dfbac-e0d0-4dae-a20f-d178674246aa\" target=\"_top\" title=\"psysml:1d5dfbac-e0d0-4dae-a20f-d178674246aa\" xlink:actuate=\"onRequest\" xlink:href=\"psysml:1d5dfbac-e0d0-4dae-a20f-d178674246aa\" xlink:show=\"new\" xlink:title=\"psysml:1d5dfbac-e0d0-4dae-a20f-d178674246aa\" xlink:type=\"simple\"><rect fill=\"#FFFFFF\" height=\"45.9375\" id=\"E4\" style=\"stroke: #383838; stroke-width: 1.5;\" width=\"66\" x=\"32\" y=\"41\"/><text fill=\"#000000\" font-family=\"sans-serif\" font-size=\"12\" font-style=\"italic\" lengthAdjust=\"spacingAndGlyphs\" textLength=\"64\" x=\"33\" y=\"57.1387\">«part def»</text><text fill=\"#000000\" font-family=\"sans-serif\" font-size=\"12\" lengthAdjust=\"spacingAndGlyphs\" textLength=\"8\" x=\"61\" y=\"71.1074\">C</text><line style=\"stroke: #383838; stroke-width: 1.5;\" x1=\"33\" x2=\"97\" y1=\"78.9375\" y2=\"78.9375\"/></a><!--MD5=[270fce915f116d4de14055a7c1d9a0f3]\n",
       "class E5--><a href=\"psysml:31443893-624e-4834-b51f-adb4e581d804\" target=\"_top\" title=\"psysml:31443893-624e-4834-b51f-adb4e581d804\" xlink:actuate=\"onRequest\" xlink:href=\"psysml:31443893-624e-4834-b51f-adb4e581d804\" xlink:show=\"new\" xlink:title=\"psysml:31443893-624e-4834-b51f-adb4e581d804\" xlink:type=\"simple\"><rect fill=\"#FFFFFF\" height=\"45.9375\" id=\"E5\" rx=\"10\" ry=\"10\" style=\"stroke: #383838; stroke-width: 1.5;\" width=\"42\" x=\"44\" y=\"147\"/><text fill=\"#000000\" font-family=\"sans-serif\" font-size=\"12\" font-style=\"italic\" lengthAdjust=\"spacingAndGlyphs\" textLength=\"40\" x=\"45\" y=\"163.1387\">«part»</text><text fill=\"#000000\" font-family=\"sans-serif\" font-size=\"12\" lengthAdjust=\"spacingAndGlyphs\" textLength=\"8\" x=\"61\" y=\"177.1074\">g</text><line style=\"stroke: #383838; stroke-width: 1.5;\" x1=\"45\" x2=\"85\" y1=\"184.9375\" y2=\"184.9375\"/></a><!--MD5=[209b3feb70ccb6233bfe1053d122c12c]\n",
       "reverse link E2 to E3--><a href=\"psysml:144a9ea2-c14f-46d2-8ece-b06edd35cf79\" target=\"_top\" title=\"psysml:144a9ea2-c14f-46d2-8ece-b06edd35cf79\" xlink:actuate=\"onRequest\" xlink:href=\"psysml:144a9ea2-c14f-46d2-8ece-b06edd35cf79\" xlink:show=\"new\" xlink:title=\"psysml:144a9ea2-c14f-46d2-8ece-b06edd35cf79\" xlink:type=\"simple\"><path d=\"M154,100.44 C154,115.87 154,133.47 154,146.98 \" fill=\"none\" id=\"E2&lt;-E3\" style=\"stroke: #383838; stroke-width: 1.0;\"/><polygon fill=\"#383838\" points=\"154,87.06,150,93.06,154,99.06,158,93.06,154,87.06\" style=\"stroke: #383838; stroke-width: 1.0;\"/></a><!--MD5=[62aa6af11e70f752912c1cb0466f24f7]\n",
       "reverse link E4 to E5--><a href=\"psysml:ffd50afc-9abd-4dce-afc7-dff7922af1b1\" target=\"_top\" title=\"psysml:ffd50afc-9abd-4dce-afc7-dff7922af1b1\" xlink:actuate=\"onRequest\" xlink:href=\"psysml:ffd50afc-9abd-4dce-afc7-dff7922af1b1\" xlink:show=\"new\" xlink:title=\"psysml:ffd50afc-9abd-4dce-afc7-dff7922af1b1\" xlink:type=\"simple\"><path d=\"M65,100.44 C65,115.87 65,133.47 65,146.98 \" fill=\"none\" id=\"E4&lt;-E5\" style=\"stroke: #383838; stroke-width: 1.0;\"/><polygon fill=\"#383838\" points=\"65,87.06,61,93.06,65,99.06,69,93.06,65,87.06\" style=\"stroke: #383838; stroke-width: 1.0;\"/></a><!--MD5=[4f7c4de32a176a3fdfd1d5b456aa380f]\n",
       "@startuml\r\n",
       " skinparam monochrome true\r\n",
       "skinparam classbackgroundcolor white\r\n",
       "skinparam shadowing false\r\n",
       "skinparam wrapWidth 300\r\n",
       "hide circle\r\n",
       "\r\n",
       "package \"Q\" as E1  [[psysml:8fe83ee3-fcec-497a-a9db-5b3b84baea71 ]]  {\r\n",
       "comp usage \"f\" as E2  <<(T,blue)part>> [[psysml:c953ea8a-4e0b-4404-8471-1de142ee019c ]] {\r\n",
       "}\r\n",
       "comp usage \"a\" as E3  <<(T,blue)part>> [[psysml:c747f0dc-049c-42e5-8830-b905b214a6d2 ]] {\r\n",
       "}\r\n",
       "comp def \"C\" as E4  <<(T,blue)part def>> [[psysml:1d5dfbac-e0d0-4dae-a20f-d178674246aa ]] {\r\n",
       "}\r\n",
       "comp usage \"g\" as E5  <<(T,blue)part>> [[psysml:31443893-624e-4834-b51f-adb4e581d804 ]] {\r\n",
       "}\r\n",
       "E2 *- - E3 [[psysml:144a9ea2-c14f-46d2-8ece-b06edd35cf79 ]] \r\n",
       "E4 *- - E5 [[psysml:ffd50afc-9abd-4dce-afc7-dff7922af1b1 ]] \r\n",
       "}\r\n",
       "@enduml\r\n",
       "\n",
       "PlantUML version 1.2020.13(Sat Jun 13 12:26:38 UTC 2020)\n",
       "(EPL source distribution)\n",
       "Java Runtime: OpenJDK Runtime Environment\n",
       "JVM: OpenJDK 64-Bit Server VM\n",
       "Default Encoding: UTF-8\n",
       "Language: en\n",
       "Country: null\n",
       "--></g></svg>"
      ]
     },
     "execution_count": 3,
     "metadata": {},
     "output_type": "execute_result"
    }
   ],
   "source": [
    "%viz --style=\"COMPTREE\" --view=\"Tree\" \"Q\""
   ]
  },
  {
   "cell_type": "code",
   "execution_count": 4,
   "id": "a132a36c",
   "metadata": {
    "execution": {
     "iopub.execute_input": "2021-04-20T07:21:49.800775Z",
     "iopub.status.busy": "2021-04-20T07:21:49.800051Z",
     "iopub.status.idle": "2021-04-20T07:21:49.811712Z",
     "shell.execute_reply": "2021-04-20T07:21:49.811263Z"
    }
   },
   "outputs": [
    {
     "data": {
      "image/svg+xml": [
       "<?xml version=\"1.0\" encoding=\"UTF-8\" standalone=\"no\"?><svg xmlns=\"http://www.w3.org/2000/svg\" xmlns:xlink=\"http://www.w3.org/1999/xlink\" contentScriptType=\"application/ecmascript\" contentStyleType=\"text/css\" height=\"12px\" preserveAspectRatio=\"none\" style=\"width:12px;height:12px;\" version=\"1.1\" viewBox=\"0 0 12 12\" width=\"12px\" zoomAndPan=\"magnify\"><defs/><g><!--MD5=[f19188ef49e11757b5c46753f95d9edc]\n",
       "@startuml\r\n",
       " skinparam monochrome true\r\n",
       "skinparam classbackgroundcolor white\r\n",
       "skinparam shadowing false\r\n",
       "skinparam wrapWidth 300\r\n",
       "hide circle\r\n",
       "\r\n",
       "@enduml\r\n",
       "\n",
       "PlantUML version 1.2020.13(Sat Jun 13 12:26:38 UTC 2020)\n",
       "(EPL source distribution)\n",
       "Java Runtime: OpenJDK Runtime Environment\n",
       "JVM: OpenJDK 64-Bit Server VM\n",
       "Default Encoding: UTF-8\n",
       "Language: en\n",
       "Country: null\n",
       "--></g></svg>"
      ]
     },
     "execution_count": 4,
     "metadata": {},
     "output_type": "execute_result"
    }
   ],
   "source": [
    "%viz --style=\"COMPTREE\" --view=\"State\" \"Q\""
   ]
  },
  {
   "cell_type": "code",
   "execution_count": 5,
   "id": "d3769bfa",
   "metadata": {
    "execution": {
     "iopub.execute_input": "2021-04-20T07:21:49.862868Z",
     "iopub.status.busy": "2021-04-20T07:21:49.862234Z",
     "iopub.status.idle": "2021-04-20T07:21:49.929136Z",
     "shell.execute_reply": "2021-04-20T07:21:49.928639Z"
    }
   },
   "outputs": [
    {
     "data": {
      "image/svg+xml": [
       "<?xml version=\"1.0\" encoding=\"UTF-8\" standalone=\"no\"?><svg xmlns=\"http://www.w3.org/2000/svg\" xmlns:xlink=\"http://www.w3.org/1999/xlink\" contentScriptType=\"application/ecmascript\" contentStyleType=\"text/css\" height=\"192px\" preserveAspectRatio=\"none\" style=\"width:286px;height:192px;\" version=\"1.1\" viewBox=\"0 0 286 192\" width=\"286px\" zoomAndPan=\"magnify\"><defs/><g><!--MD5=[fbc87193dbaf4d95561dea2c320d4a47]\n",
       "cluster E1--><a href=\"psysml:8fe83ee3-fcec-497a-a9db-5b3b84baea71\" target=\"_top\" title=\"psysml:8fe83ee3-fcec-497a-a9db-5b3b84baea71\" xlink:actuate=\"onRequest\" xlink:href=\"psysml:8fe83ee3-fcec-497a-a9db-5b3b84baea71\" xlink:show=\"new\" xlink:title=\"psysml:8fe83ee3-fcec-497a-a9db-5b3b84baea71\" xlink:type=\"simple\"><polygon fill=\"#FFFFFF\" points=\"16,6,34,6,41,28.2969,264,28.2969,264,180,16,180,16,6\" style=\"stroke: #000000; stroke-width: 1.5;\"/><line style=\"stroke: #000000; stroke-width: 1.5;\" x1=\"16\" x2=\"41\" y1=\"28.2969\" y2=\"28.2969\"/><text fill=\"#000000\" font-family=\"sans-serif\" font-size=\"14\" font-weight=\"bold\" lengthAdjust=\"spacingAndGlyphs\" textLength=\"12\" x=\"20\" y=\"20.9951\">Q</text></a><!--MD5=[e4f7fae6ed58524ba242bb0b0d3be6b7]\n",
       "cluster E2--><a href=\"psysml:c953ea8a-4e0b-4404-8471-1de142ee019c\" target=\"_top\" title=\"psysml:c953ea8a-4e0b-4404-8471-1de142ee019c\" xlink:actuate=\"onRequest\" xlink:href=\"psysml:c953ea8a-4e0b-4404-8471-1de142ee019c\" xlink:show=\"new\" xlink:title=\"psysml:c953ea8a-4e0b-4404-8471-1de142ee019c\" xlink:type=\"simple\"><rect fill=\"#FFFFFF\" height=\"91\" id=\"E2\" rx=\"10\" ry=\"10\" style=\"stroke: #383838; stroke-width: 1.5;\" width=\"82\" x=\"158\" y=\"65\"/><rect fill=\"#F8F8F8\" height=\"23.9688\" rx=\"10\" ry=\"10\" style=\"stroke: #F8F8F8; stroke-width: 1.5;\" width=\"82\" x=\"158\" y=\"65\"/><rect fill=\"#F8F8F8\" height=\"10\" style=\"stroke: #F8F8F8; stroke-width: 1.5;\" width=\"82\" x=\"158\" y=\"78.9688\"/><rect fill=\"none\" height=\"91\" id=\"E2\" rx=\"10\" ry=\"10\" style=\"stroke: #383838; stroke-width: 1.5;\" width=\"82\" x=\"158\" y=\"65\"/><text fill=\"#000000\" font-family=\"sans-serif\" font-size=\"12\" lengthAdjust=\"spacingAndGlyphs\" textLength=\"4\" x=\"197\" y=\"81.1387\">f</text><line style=\"stroke: #383838; stroke-width: 1.0;\" x1=\"158\" x2=\"240\" y1=\"88.9688\" y2=\"88.9688\"/></a><!--MD5=[f6df4d0ebaf0b5dfb2ced0ae5af7c670]\n",
       "cluster E4--><a href=\"psysml:1d5dfbac-e0d0-4dae-a20f-d178674246aa\" target=\"_top\" title=\"psysml:1d5dfbac-e0d0-4dae-a20f-d178674246aa\" xlink:actuate=\"onRequest\" xlink:href=\"psysml:1d5dfbac-e0d0-4dae-a20f-d178674246aa\" xlink:show=\"new\" xlink:title=\"psysml:1d5dfbac-e0d0-4dae-a20f-d178674246aa\" xlink:type=\"simple\"><rect fill=\"#FFFFFF\" height=\"107\" id=\"E4\" style=\"stroke: #383838; stroke-width: 1.5;\" width=\"94\" x=\"40\" y=\"49\"/><rect fill=\"#F8F8F8\" height=\"37.9375\" style=\"stroke: #383838; stroke-width: 1.5;\" width=\"94\" x=\"40\" y=\"49\"/><text fill=\"#000000\" font-family=\"sans-serif\" font-size=\"12\" font-style=\"italic\" lengthAdjust=\"spacingAndGlyphs\" textLength=\"64\" x=\"55\" y=\"65.1387\">«part def»</text><text fill=\"#000000\" font-family=\"sans-serif\" font-size=\"12\" lengthAdjust=\"spacingAndGlyphs\" textLength=\"8\" x=\"83\" y=\"79.1074\">C</text></a><g id=\"E1.E2.E3\"><a href=\"psysml:c747f0dc-049c-42e5-8830-b905b214a6d2\" target=\"_top\" title=\"psysml:c747f0dc-049c-42e5-8830-b905b214a6d2\" xlink:actuate=\"onRequest\" xlink:href=\"psysml:c747f0dc-049c-42e5-8830-b905b214a6d2\" xlink:show=\"new\" xlink:title=\"psysml:c747f0dc-049c-42e5-8830-b905b214a6d2\" xlink:type=\"simple\"><rect fill=\"#FFFFFF\" height=\"40\" id=\"E3\" rx=\"10\" ry=\"10\" style=\"stroke: #383838; stroke-width: 1.5;\" width=\"50\" x=\"174\" y=\"100\"/><rect fill=\"#F8F8F8\" height=\"23.9688\" rx=\"10\" ry=\"10\" style=\"stroke: #F8F8F8; stroke-width: 1.5;\" width=\"50\" x=\"174\" y=\"100\"/><rect fill=\"#F8F8F8\" height=\"10\" style=\"stroke: #F8F8F8; stroke-width: 1.5;\" width=\"50\" x=\"174\" y=\"113.9688\"/><rect fill=\"none\" height=\"40\" id=\"E3\" rx=\"10\" ry=\"10\" style=\"stroke: #383838; stroke-width: 1.5;\" width=\"50\" x=\"174\" y=\"100\"/><text fill=\"#000000\" font-family=\"sans-serif\" font-size=\"12\" lengthAdjust=\"spacingAndGlyphs\" textLength=\"8\" x=\"195\" y=\"116.1387\">a</text></a></g><g id=\"E1.E4.E5\"><a href=\"psysml:31443893-624e-4834-b51f-adb4e581d804\" target=\"_top\" title=\"psysml:31443893-624e-4834-b51f-adb4e581d804\" xlink:actuate=\"onRequest\" xlink:href=\"psysml:31443893-624e-4834-b51f-adb4e581d804\" xlink:show=\"new\" xlink:title=\"psysml:31443893-624e-4834-b51f-adb4e581d804\" xlink:type=\"simple\"><rect fill=\"#FFFFFF\" height=\"40\" id=\"E5\" rx=\"10\" ry=\"10\" style=\"stroke: #383838; stroke-width: 1.5;\" width=\"61\" x=\"56.5\" y=\"100\"/><rect fill=\"#F8F8F8\" height=\"23.9688\" rx=\"10\" ry=\"10\" style=\"stroke: #F8F8F8; stroke-width: 1.5;\" width=\"61\" x=\"56.5\" y=\"100\"/><rect fill=\"#F8F8F8\" height=\"10\" style=\"stroke: #F8F8F8; stroke-width: 1.5;\" width=\"61\" x=\"56.5\" y=\"113.9688\"/><rect fill=\"none\" height=\"40\" id=\"E5\" rx=\"10\" ry=\"10\" style=\"stroke: #383838; stroke-width: 1.5;\" width=\"61\" x=\"56.5\" y=\"100\"/><text fill=\"#000000\" font-family=\"sans-serif\" font-size=\"12\" lengthAdjust=\"spacingAndGlyphs\" textLength=\"46\" x=\"62\" y=\"116.1387\">g=./f/a;</text></a></g><!--MD5=[d41815519a483646e5d476ab3e750a8b]\n",
       "@startuml\r\n",
       "skinparam ranksep 10\r\n",
       "skinparam rectangle {\r\n",
       " backgroundColor<<block>> LightGreen\r\n",
       "}\r\n",
       " skinparam monochrome true\r\n",
       "skinparam classbackgroundcolor white\r\n",
       "skinparam shadowing false\r\n",
       "skinparam wrapWidth 300\r\n",
       "hide circle\r\n",
       "\r\n",
       "package \"Q\" as E1  [[psysml:8fe83ee3-fcec-497a-a9db-5b3b84baea71 ]]  {\r\n",
       "rec usage \"f\" as E2  [[psysml:c953ea8a-4e0b-4404-8471-1de142ee019c ]] {\r\n",
       "rec usage \"a\" as E3  [[psysml:c747f0dc-049c-42e5-8830-b905b214a6d2 ]] {\r\n",
       "}\r\n",
       "}\r\n",
       "rec def \"C\" as E4  <<(T,blue)part def>> [[psysml:1d5dfbac-e0d0-4dae-a20f-d178674246aa ]] {\r\n",
       "rec usage \"g=./f/a; \" as E5  [[psysml:31443893-624e-4834-b51f-adb4e581d804 ]] {\r\n",
       "}\r\n",
       "}\r\n",
       "}\r\n",
       "@enduml\r\n",
       "\n",
       "PlantUML version 1.2020.13(Sat Jun 13 12:26:38 UTC 2020)\n",
       "(EPL source distribution)\n",
       "Java Runtime: OpenJDK Runtime Environment\n",
       "JVM: OpenJDK 64-Bit Server VM\n",
       "Default Encoding: UTF-8\n",
       "Language: en\n",
       "Country: null\n",
       "--></g></svg>"
      ]
     },
     "execution_count": 5,
     "metadata": {},
     "output_type": "execute_result"
    }
   ],
   "source": [
    "%viz --style=\"COMPTREE\" --view=\"Interconnection\" \"Q\""
   ]
  },
  {
   "cell_type": "code",
   "execution_count": 6,
   "id": "9ef168f3",
   "metadata": {
    "execution": {
     "iopub.execute_input": "2021-04-20T07:21:49.981123Z",
     "iopub.status.busy": "2021-04-20T07:21:49.980682Z",
     "iopub.status.idle": "2021-04-20T07:21:49.989616Z",
     "shell.execute_reply": "2021-04-20T07:21:49.989272Z"
    }
   },
   "outputs": [
    {
     "data": {
      "image/svg+xml": [
       "<?xml version=\"1.0\" encoding=\"UTF-8\" standalone=\"no\"?><svg xmlns=\"http://www.w3.org/2000/svg\" xmlns:xlink=\"http://www.w3.org/1999/xlink\" contentScriptType=\"application/ecmascript\" contentStyleType=\"text/css\" height=\"12px\" preserveAspectRatio=\"none\" style=\"width:12px;height:12px;\" version=\"1.1\" viewBox=\"0 0 12 12\" width=\"12px\" zoomAndPan=\"magnify\"><defs/><g><!--MD5=[655b888544ca4751ea36af1068543f84]\n",
       "@startuml\r\n",
       "skinparam ranksep 8\r\n",
       " skinparam monochrome true\r\n",
       "skinparam classbackgroundcolor white\r\n",
       "skinparam shadowing false\r\n",
       "skinparam wrapWidth 300\r\n",
       "hide circle\r\n",
       "\r\n",
       "@enduml\r\n",
       "\n",
       "PlantUML version 1.2020.13(Sat Jun 13 12:26:38 UTC 2020)\n",
       "(EPL source distribution)\n",
       "Java Runtime: OpenJDK Runtime Environment\n",
       "JVM: OpenJDK 64-Bit Server VM\n",
       "Default Encoding: UTF-8\n",
       "Language: en\n",
       "Country: null\n",
       "--></g></svg>"
      ]
     },
     "execution_count": 6,
     "metadata": {},
     "output_type": "execute_result"
    }
   ],
   "source": [
    "%viz --style=\"COMPTREE\" --view=\"Action\" \"Q\""
   ]
  },
  {
   "cell_type": "code",
   "execution_count": 7,
   "id": "bac79715",
   "metadata": {
    "execution": {
     "iopub.execute_input": "2021-04-20T07:21:50.041309Z",
     "iopub.status.busy": "2021-04-20T07:21:50.040740Z",
     "iopub.status.idle": "2021-04-20T07:21:50.083829Z",
     "shell.execute_reply": "2021-04-20T07:21:50.083460Z"
    }
   },
   "outputs": [
    {
     "data": {
      "image/svg+xml": [
       "<?xml version=\"1.0\" encoding=\"UTF-8\" standalone=\"no\"?><svg xmlns=\"http://www.w3.org/2000/svg\" xmlns:xlink=\"http://www.w3.org/1999/xlink\" contentScriptType=\"application/ecmascript\" contentStyleType=\"text/css\" height=\"221px\" preserveAspectRatio=\"none\" style=\"width:213px;height:221px;\" version=\"1.1\" viewBox=\"0 0 213 221\" width=\"213px\" zoomAndPan=\"magnify\"><defs/><g><!--MD5=[fbc87193dbaf4d95561dea2c320d4a47]\n",
       "cluster E1--><a href=\"psysml:8fe83ee3-fcec-497a-a9db-5b3b84baea71\" target=\"_top\" title=\"psysml:8fe83ee3-fcec-497a-a9db-5b3b84baea71\" xlink:actuate=\"onRequest\" xlink:href=\"psysml:8fe83ee3-fcec-497a-a9db-5b3b84baea71\" xlink:show=\"new\" xlink:title=\"psysml:8fe83ee3-fcec-497a-a9db-5b3b84baea71\" xlink:type=\"simple\"><polygon fill=\"#FFFFFF\" points=\"16,6,34,6,41,28.2969,191,28.2969,191,209,16,209,16,6\" style=\"stroke: #000000; stroke-width: 1.5;\"/><line style=\"stroke: #000000; stroke-width: 1.5;\" x1=\"16\" x2=\"41\" y1=\"28.2969\" y2=\"28.2969\"/><text fill=\"#000000\" font-family=\"sans-serif\" font-size=\"14\" font-weight=\"bold\" lengthAdjust=\"spacingAndGlyphs\" textLength=\"12\" x=\"20\" y=\"20.9951\">Q</text></a><!--MD5=[b4997ac47864f28c2f74865a473b2911]\n",
       "class E2--><a href=\"psysml:c953ea8a-4e0b-4404-8471-1de142ee019c\" target=\"_top\" title=\"psysml:c953ea8a-4e0b-4404-8471-1de142ee019c\" xlink:actuate=\"onRequest\" xlink:href=\"psysml:c953ea8a-4e0b-4404-8471-1de142ee019c\" xlink:show=\"new\" xlink:title=\"psysml:c953ea8a-4e0b-4404-8471-1de142ee019c\" xlink:type=\"simple\"><rect fill=\"#FFFFFF\" height=\"45.9375\" id=\"E2\" rx=\"10\" ry=\"10\" style=\"stroke: #383838; stroke-width: 1.5;\" width=\"42\" x=\"133\" y=\"41\"/><text fill=\"#000000\" font-family=\"sans-serif\" font-size=\"12\" font-style=\"italic\" lengthAdjust=\"spacingAndGlyphs\" textLength=\"40\" x=\"134\" y=\"57.1387\">«part»</text><text fill=\"#000000\" font-family=\"sans-serif\" font-size=\"12\" lengthAdjust=\"spacingAndGlyphs\" textLength=\"4\" x=\"152\" y=\"71.1074\">f</text><line style=\"stroke: #383838; stroke-width: 1.5;\" x1=\"134\" x2=\"174\" y1=\"78.9375\" y2=\"78.9375\"/></a><!--MD5=[09b614a08d8cba4a07c9adeb5e0fee81]\n",
       "class E3--><a href=\"psysml:c747f0dc-049c-42e5-8830-b905b214a6d2\" target=\"_top\" title=\"psysml:c747f0dc-049c-42e5-8830-b905b214a6d2\" xlink:actuate=\"onRequest\" xlink:href=\"psysml:c747f0dc-049c-42e5-8830-b905b214a6d2\" xlink:show=\"new\" xlink:title=\"psysml:c747f0dc-049c-42e5-8830-b905b214a6d2\" xlink:type=\"simple\"><rect fill=\"#FFFFFF\" height=\"45.9375\" id=\"E3\" rx=\"10\" ry=\"10\" style=\"stroke: #383838; stroke-width: 1.5;\" width=\"42\" x=\"133\" y=\"147\"/><text fill=\"#000000\" font-family=\"sans-serif\" font-size=\"12\" font-style=\"italic\" lengthAdjust=\"spacingAndGlyphs\" textLength=\"40\" x=\"134\" y=\"163.1387\">«part»</text><text fill=\"#000000\" font-family=\"sans-serif\" font-size=\"12\" lengthAdjust=\"spacingAndGlyphs\" textLength=\"8\" x=\"150\" y=\"177.1074\">a</text><line style=\"stroke: #383838; stroke-width: 1.5;\" x1=\"134\" x2=\"174\" y1=\"184.9375\" y2=\"184.9375\"/></a><!--MD5=[ebbe1d658d1005bcc118a6aa81145e00]\n",
       "class E4--><a href=\"psysml:1d5dfbac-e0d0-4dae-a20f-d178674246aa\" target=\"_top\" title=\"psysml:1d5dfbac-e0d0-4dae-a20f-d178674246aa\" xlink:actuate=\"onRequest\" xlink:href=\"psysml:1d5dfbac-e0d0-4dae-a20f-d178674246aa\" xlink:show=\"new\" xlink:title=\"psysml:1d5dfbac-e0d0-4dae-a20f-d178674246aa\" xlink:type=\"simple\"><rect fill=\"#FFFFFF\" height=\"45.9375\" id=\"E4\" style=\"stroke: #383838; stroke-width: 1.5;\" width=\"66\" x=\"32\" y=\"41\"/><text fill=\"#000000\" font-family=\"sans-serif\" font-size=\"12\" font-style=\"italic\" lengthAdjust=\"spacingAndGlyphs\" textLength=\"64\" x=\"33\" y=\"57.1387\">«part def»</text><text fill=\"#000000\" font-family=\"sans-serif\" font-size=\"12\" lengthAdjust=\"spacingAndGlyphs\" textLength=\"8\" x=\"61\" y=\"71.1074\">C</text><line style=\"stroke: #383838; stroke-width: 1.5;\" x1=\"33\" x2=\"97\" y1=\"78.9375\" y2=\"78.9375\"/></a><!--MD5=[270fce915f116d4de14055a7c1d9a0f3]\n",
       "class E5--><a href=\"psysml:31443893-624e-4834-b51f-adb4e581d804\" target=\"_top\" title=\"psysml:31443893-624e-4834-b51f-adb4e581d804\" xlink:actuate=\"onRequest\" xlink:href=\"psysml:31443893-624e-4834-b51f-adb4e581d804\" xlink:show=\"new\" xlink:title=\"psysml:31443893-624e-4834-b51f-adb4e581d804\" xlink:type=\"simple\"><rect fill=\"#FFFFFF\" height=\"45.9375\" id=\"E5\" rx=\"10\" ry=\"10\" style=\"stroke: #383838; stroke-width: 1.5;\" width=\"42\" x=\"44\" y=\"147\"/><text fill=\"#000000\" font-family=\"sans-serif\" font-size=\"12\" font-style=\"italic\" lengthAdjust=\"spacingAndGlyphs\" textLength=\"40\" x=\"45\" y=\"163.1387\">«part»</text><text fill=\"#000000\" font-family=\"sans-serif\" font-size=\"12\" lengthAdjust=\"spacingAndGlyphs\" textLength=\"8\" x=\"61\" y=\"177.1074\">g</text><line style=\"stroke: #383838; stroke-width: 1.5;\" x1=\"45\" x2=\"85\" y1=\"184.9375\" y2=\"184.9375\"/></a><!--MD5=[209b3feb70ccb6233bfe1053d122c12c]\n",
       "reverse link E2 to E3--><a href=\"psysml:144a9ea2-c14f-46d2-8ece-b06edd35cf79\" target=\"_top\" title=\"psysml:144a9ea2-c14f-46d2-8ece-b06edd35cf79\" xlink:actuate=\"onRequest\" xlink:href=\"psysml:144a9ea2-c14f-46d2-8ece-b06edd35cf79\" xlink:show=\"new\" xlink:title=\"psysml:144a9ea2-c14f-46d2-8ece-b06edd35cf79\" xlink:type=\"simple\"><path d=\"M154,100.44 C154,115.87 154,133.47 154,146.98 \" fill=\"none\" id=\"E2&lt;-E3\" style=\"stroke: #383838; stroke-width: 1.0;\"/><polygon fill=\"#383838\" points=\"154,87.06,150,93.06,154,99.06,158,93.06,154,87.06\" style=\"stroke: #383838; stroke-width: 1.0;\"/></a><!--MD5=[62aa6af11e70f752912c1cb0466f24f7]\n",
       "reverse link E4 to E5--><a href=\"psysml:ffd50afc-9abd-4dce-afc7-dff7922af1b1\" target=\"_top\" title=\"psysml:ffd50afc-9abd-4dce-afc7-dff7922af1b1\" xlink:actuate=\"onRequest\" xlink:href=\"psysml:ffd50afc-9abd-4dce-afc7-dff7922af1b1\" xlink:show=\"new\" xlink:title=\"psysml:ffd50afc-9abd-4dce-afc7-dff7922af1b1\" xlink:type=\"simple\"><path d=\"M65,100.44 C65,115.87 65,133.47 65,146.98 \" fill=\"none\" id=\"E4&lt;-E5\" style=\"stroke: #383838; stroke-width: 1.0;\"/><polygon fill=\"#383838\" points=\"65,87.06,61,93.06,65,99.06,69,93.06,65,87.06\" style=\"stroke: #383838; stroke-width: 1.0;\"/></a><!--MD5=[4f7c4de32a176a3fdfd1d5b456aa380f]\n",
       "@startuml\r\n",
       " skinparam monochrome true\r\n",
       "skinparam classbackgroundcolor white\r\n",
       "skinparam shadowing false\r\n",
       "skinparam wrapWidth 300\r\n",
       "hide circle\r\n",
       "\r\n",
       "package \"Q\" as E1  [[psysml:8fe83ee3-fcec-497a-a9db-5b3b84baea71 ]]  {\r\n",
       "comp usage \"f\" as E2  <<(T,blue)part>> [[psysml:c953ea8a-4e0b-4404-8471-1de142ee019c ]] {\r\n",
       "}\r\n",
       "comp usage \"a\" as E3  <<(T,blue)part>> [[psysml:c747f0dc-049c-42e5-8830-b905b214a6d2 ]] {\r\n",
       "}\r\n",
       "comp def \"C\" as E4  <<(T,blue)part def>> [[psysml:1d5dfbac-e0d0-4dae-a20f-d178674246aa ]] {\r\n",
       "}\r\n",
       "comp usage \"g\" as E5  <<(T,blue)part>> [[psysml:31443893-624e-4834-b51f-adb4e581d804 ]] {\r\n",
       "}\r\n",
       "E2 *- - E3 [[psysml:144a9ea2-c14f-46d2-8ece-b06edd35cf79 ]] \r\n",
       "E4 *- - E5 [[psysml:ffd50afc-9abd-4dce-afc7-dff7922af1b1 ]] \r\n",
       "}\r\n",
       "@enduml\r\n",
       "\n",
       "PlantUML version 1.2020.13(Sat Jun 13 12:26:38 UTC 2020)\n",
       "(EPL source distribution)\n",
       "Java Runtime: OpenJDK Runtime Environment\n",
       "JVM: OpenJDK 64-Bit Server VM\n",
       "Default Encoding: UTF-8\n",
       "Language: en\n",
       "Country: null\n",
       "--></g></svg>"
      ]
     },
     "execution_count": 7,
     "metadata": {},
     "output_type": "execute_result"
    }
   ],
   "source": [
    "%viz --style=\"COMPTREE\" --view=\"Sequence\" \"Q\""
   ]
  },
  {
   "cell_type": "code",
   "execution_count": 8,
   "id": "5dcef6ca",
   "metadata": {
    "execution": {
     "iopub.execute_input": "2021-04-20T07:21:50.134989Z",
     "iopub.status.busy": "2021-04-20T07:21:50.133973Z",
     "iopub.status.idle": "2021-04-20T07:21:50.173127Z",
     "shell.execute_reply": "2021-04-20T07:21:50.172688Z"
    }
   },
   "outputs": [
    {
     "data": {
      "image/svg+xml": [
       "<?xml version=\"1.0\" encoding=\"UTF-8\" standalone=\"no\"?><svg xmlns=\"http://www.w3.org/2000/svg\" xmlns:xlink=\"http://www.w3.org/1999/xlink\" contentScriptType=\"application/ecmascript\" contentStyleType=\"text/css\" height=\"221px\" preserveAspectRatio=\"none\" style=\"width:213px;height:221px;\" version=\"1.1\" viewBox=\"0 0 213 221\" width=\"213px\" zoomAndPan=\"magnify\"><defs/><g><!--MD5=[fbc87193dbaf4d95561dea2c320d4a47]\n",
       "cluster E1--><a href=\"psysml:8fe83ee3-fcec-497a-a9db-5b3b84baea71\" target=\"_top\" title=\"psysml:8fe83ee3-fcec-497a-a9db-5b3b84baea71\" xlink:actuate=\"onRequest\" xlink:href=\"psysml:8fe83ee3-fcec-497a-a9db-5b3b84baea71\" xlink:show=\"new\" xlink:title=\"psysml:8fe83ee3-fcec-497a-a9db-5b3b84baea71\" xlink:type=\"simple\"><polygon fill=\"#FFFFFF\" points=\"16,6,34,6,41,28.2969,191,28.2969,191,209,16,209,16,6\" style=\"stroke: #000000; stroke-width: 1.5;\"/><line style=\"stroke: #000000; stroke-width: 1.5;\" x1=\"16\" x2=\"41\" y1=\"28.2969\" y2=\"28.2969\"/><text fill=\"#000000\" font-family=\"sans-serif\" font-size=\"14\" font-weight=\"bold\" lengthAdjust=\"spacingAndGlyphs\" textLength=\"12\" x=\"20\" y=\"20.9951\">Q</text></a><!--MD5=[b4997ac47864f28c2f74865a473b2911]\n",
       "class E2--><a href=\"psysml:c953ea8a-4e0b-4404-8471-1de142ee019c\" target=\"_top\" title=\"psysml:c953ea8a-4e0b-4404-8471-1de142ee019c\" xlink:actuate=\"onRequest\" xlink:href=\"psysml:c953ea8a-4e0b-4404-8471-1de142ee019c\" xlink:show=\"new\" xlink:title=\"psysml:c953ea8a-4e0b-4404-8471-1de142ee019c\" xlink:type=\"simple\"><rect fill=\"#FFFFFF\" height=\"45.9375\" id=\"E2\" rx=\"10\" ry=\"10\" style=\"stroke: #383838; stroke-width: 1.5;\" width=\"42\" x=\"133\" y=\"41\"/><text fill=\"#000000\" font-family=\"sans-serif\" font-size=\"12\" font-style=\"italic\" lengthAdjust=\"spacingAndGlyphs\" textLength=\"40\" x=\"134\" y=\"57.1387\">«part»</text><text fill=\"#000000\" font-family=\"sans-serif\" font-size=\"12\" lengthAdjust=\"spacingAndGlyphs\" textLength=\"4\" x=\"152\" y=\"71.1074\">f</text><line style=\"stroke: #383838; stroke-width: 1.5;\" x1=\"134\" x2=\"174\" y1=\"78.9375\" y2=\"78.9375\"/></a><!--MD5=[09b614a08d8cba4a07c9adeb5e0fee81]\n",
       "class E3--><a href=\"psysml:c747f0dc-049c-42e5-8830-b905b214a6d2\" target=\"_top\" title=\"psysml:c747f0dc-049c-42e5-8830-b905b214a6d2\" xlink:actuate=\"onRequest\" xlink:href=\"psysml:c747f0dc-049c-42e5-8830-b905b214a6d2\" xlink:show=\"new\" xlink:title=\"psysml:c747f0dc-049c-42e5-8830-b905b214a6d2\" xlink:type=\"simple\"><rect fill=\"#FFFFFF\" height=\"45.9375\" id=\"E3\" rx=\"10\" ry=\"10\" style=\"stroke: #383838; stroke-width: 1.5;\" width=\"42\" x=\"133\" y=\"147\"/><text fill=\"#000000\" font-family=\"sans-serif\" font-size=\"12\" font-style=\"italic\" lengthAdjust=\"spacingAndGlyphs\" textLength=\"40\" x=\"134\" y=\"163.1387\">«part»</text><text fill=\"#000000\" font-family=\"sans-serif\" font-size=\"12\" lengthAdjust=\"spacingAndGlyphs\" textLength=\"8\" x=\"150\" y=\"177.1074\">a</text><line style=\"stroke: #383838; stroke-width: 1.5;\" x1=\"134\" x2=\"174\" y1=\"184.9375\" y2=\"184.9375\"/></a><!--MD5=[ebbe1d658d1005bcc118a6aa81145e00]\n",
       "class E4--><a href=\"psysml:1d5dfbac-e0d0-4dae-a20f-d178674246aa\" target=\"_top\" title=\"psysml:1d5dfbac-e0d0-4dae-a20f-d178674246aa\" xlink:actuate=\"onRequest\" xlink:href=\"psysml:1d5dfbac-e0d0-4dae-a20f-d178674246aa\" xlink:show=\"new\" xlink:title=\"psysml:1d5dfbac-e0d0-4dae-a20f-d178674246aa\" xlink:type=\"simple\"><rect fill=\"#FFFFFF\" height=\"45.9375\" id=\"E4\" style=\"stroke: #383838; stroke-width: 1.5;\" width=\"66\" x=\"32\" y=\"41\"/><text fill=\"#000000\" font-family=\"sans-serif\" font-size=\"12\" font-style=\"italic\" lengthAdjust=\"spacingAndGlyphs\" textLength=\"64\" x=\"33\" y=\"57.1387\">«part def»</text><text fill=\"#000000\" font-family=\"sans-serif\" font-size=\"12\" lengthAdjust=\"spacingAndGlyphs\" textLength=\"8\" x=\"61\" y=\"71.1074\">C</text><line style=\"stroke: #383838; stroke-width: 1.5;\" x1=\"33\" x2=\"97\" y1=\"78.9375\" y2=\"78.9375\"/></a><!--MD5=[270fce915f116d4de14055a7c1d9a0f3]\n",
       "class E5--><a href=\"psysml:31443893-624e-4834-b51f-adb4e581d804\" target=\"_top\" title=\"psysml:31443893-624e-4834-b51f-adb4e581d804\" xlink:actuate=\"onRequest\" xlink:href=\"psysml:31443893-624e-4834-b51f-adb4e581d804\" xlink:show=\"new\" xlink:title=\"psysml:31443893-624e-4834-b51f-adb4e581d804\" xlink:type=\"simple\"><rect fill=\"#FFFFFF\" height=\"45.9375\" id=\"E5\" rx=\"10\" ry=\"10\" style=\"stroke: #383838; stroke-width: 1.5;\" width=\"42\" x=\"44\" y=\"147\"/><text fill=\"#000000\" font-family=\"sans-serif\" font-size=\"12\" font-style=\"italic\" lengthAdjust=\"spacingAndGlyphs\" textLength=\"40\" x=\"45\" y=\"163.1387\">«part»</text><text fill=\"#000000\" font-family=\"sans-serif\" font-size=\"12\" lengthAdjust=\"spacingAndGlyphs\" textLength=\"8\" x=\"61\" y=\"177.1074\">g</text><line style=\"stroke: #383838; stroke-width: 1.5;\" x1=\"45\" x2=\"85\" y1=\"184.9375\" y2=\"184.9375\"/></a><!--MD5=[209b3feb70ccb6233bfe1053d122c12c]\n",
       "reverse link E2 to E3--><a href=\"psysml:144a9ea2-c14f-46d2-8ece-b06edd35cf79\" target=\"_top\" title=\"psysml:144a9ea2-c14f-46d2-8ece-b06edd35cf79\" xlink:actuate=\"onRequest\" xlink:href=\"psysml:144a9ea2-c14f-46d2-8ece-b06edd35cf79\" xlink:show=\"new\" xlink:title=\"psysml:144a9ea2-c14f-46d2-8ece-b06edd35cf79\" xlink:type=\"simple\"><path d=\"M154,100.44 C154,115.87 154,133.47 154,146.98 \" fill=\"none\" id=\"E2&lt;-E3\" style=\"stroke: #383838; stroke-width: 1.0;\"/><polygon fill=\"#383838\" points=\"154,87.06,150,93.06,154,99.06,158,93.06,154,87.06\" style=\"stroke: #383838; stroke-width: 1.0;\"/></a><!--MD5=[62aa6af11e70f752912c1cb0466f24f7]\n",
       "reverse link E4 to E5--><a href=\"psysml:ffd50afc-9abd-4dce-afc7-dff7922af1b1\" target=\"_top\" title=\"psysml:ffd50afc-9abd-4dce-afc7-dff7922af1b1\" xlink:actuate=\"onRequest\" xlink:href=\"psysml:ffd50afc-9abd-4dce-afc7-dff7922af1b1\" xlink:show=\"new\" xlink:title=\"psysml:ffd50afc-9abd-4dce-afc7-dff7922af1b1\" xlink:type=\"simple\"><path d=\"M65,100.44 C65,115.87 65,133.47 65,146.98 \" fill=\"none\" id=\"E4&lt;-E5\" style=\"stroke: #383838; stroke-width: 1.0;\"/><polygon fill=\"#383838\" points=\"65,87.06,61,93.06,65,99.06,69,93.06,65,87.06\" style=\"stroke: #383838; stroke-width: 1.0;\"/></a><!--MD5=[4f7c4de32a176a3fdfd1d5b456aa380f]\n",
       "@startuml\r\n",
       " skinparam monochrome true\r\n",
       "skinparam classbackgroundcolor white\r\n",
       "skinparam shadowing false\r\n",
       "skinparam wrapWidth 300\r\n",
       "hide circle\r\n",
       "\r\n",
       "package \"Q\" as E1  [[psysml:8fe83ee3-fcec-497a-a9db-5b3b84baea71 ]]  {\r\n",
       "comp usage \"f\" as E2  <<(T,blue)part>> [[psysml:c953ea8a-4e0b-4404-8471-1de142ee019c ]] {\r\n",
       "}\r\n",
       "comp usage \"a\" as E3  <<(T,blue)part>> [[psysml:c747f0dc-049c-42e5-8830-b905b214a6d2 ]] {\r\n",
       "}\r\n",
       "comp def \"C\" as E4  <<(T,blue)part def>> [[psysml:1d5dfbac-e0d0-4dae-a20f-d178674246aa ]] {\r\n",
       "}\r\n",
       "comp usage \"g\" as E5  <<(T,blue)part>> [[psysml:31443893-624e-4834-b51f-adb4e581d804 ]] {\r\n",
       "}\r\n",
       "E2 *- - E3 [[psysml:144a9ea2-c14f-46d2-8ece-b06edd35cf79 ]] \r\n",
       "E4 *- - E5 [[psysml:ffd50afc-9abd-4dce-afc7-dff7922af1b1 ]] \r\n",
       "}\r\n",
       "@enduml\r\n",
       "\n",
       "PlantUML version 1.2020.13(Sat Jun 13 12:26:38 UTC 2020)\n",
       "(EPL source distribution)\n",
       "Java Runtime: OpenJDK Runtime Environment\n",
       "JVM: OpenJDK 64-Bit Server VM\n",
       "Default Encoding: UTF-8\n",
       "Language: en\n",
       "Country: null\n",
       "--></g></svg>"
      ]
     },
     "execution_count": 8,
     "metadata": {},
     "output_type": "execute_result"
    }
   ],
   "source": [
    "%viz --style=\"COMPTREE\" --view=\"MIXED\" \"Q\""
   ]
  },
  {
   "cell_type": "code",
   "execution_count": 9,
   "id": "2535ca39",
   "metadata": {
    "execution": {
     "iopub.execute_input": "2021-04-20T07:21:50.223613Z",
     "iopub.status.busy": "2021-04-20T07:21:50.223106Z",
     "iopub.status.idle": "2021-04-20T07:21:50.266317Z",
     "shell.execute_reply": "2021-04-20T07:21:50.265988Z"
    }
   },
   "outputs": [
    {
     "data": {
      "image/svg+xml": [
       "<?xml version=\"1.0\" encoding=\"UTF-8\" standalone=\"no\"?><svg xmlns=\"http://www.w3.org/2000/svg\" xmlns:xlink=\"http://www.w3.org/1999/xlink\" contentScriptType=\"application/ecmascript\" contentStyleType=\"text/css\" height=\"221px\" preserveAspectRatio=\"none\" style=\"width:213px;height:221px;\" version=\"1.1\" viewBox=\"0 0 213 221\" width=\"213px\" zoomAndPan=\"magnify\"><defs/><g><!--MD5=[fbc87193dbaf4d95561dea2c320d4a47]\n",
       "cluster E1--><a href=\"psysml:8fe83ee3-fcec-497a-a9db-5b3b84baea71\" target=\"_top\" title=\"psysml:8fe83ee3-fcec-497a-a9db-5b3b84baea71\" xlink:actuate=\"onRequest\" xlink:href=\"psysml:8fe83ee3-fcec-497a-a9db-5b3b84baea71\" xlink:show=\"new\" xlink:title=\"psysml:8fe83ee3-fcec-497a-a9db-5b3b84baea71\" xlink:type=\"simple\"><polygon fill=\"#FFFFFF\" points=\"16,6,34,6,41,28.2969,191,28.2969,191,209,16,209,16,6\" style=\"stroke: #000000; stroke-width: 1.5;\"/><line style=\"stroke: #000000; stroke-width: 1.5;\" x1=\"16\" x2=\"41\" y1=\"28.2969\" y2=\"28.2969\"/><text fill=\"#000000\" font-family=\"sans-serif\" font-size=\"14\" font-weight=\"bold\" lengthAdjust=\"spacingAndGlyphs\" textLength=\"12\" x=\"20\" y=\"20.9951\">Q</text></a><!--MD5=[b4997ac47864f28c2f74865a473b2911]\n",
       "class E2--><a href=\"psysml:c953ea8a-4e0b-4404-8471-1de142ee019c\" target=\"_top\" title=\"psysml:c953ea8a-4e0b-4404-8471-1de142ee019c\" xlink:actuate=\"onRequest\" xlink:href=\"psysml:c953ea8a-4e0b-4404-8471-1de142ee019c\" xlink:show=\"new\" xlink:title=\"psysml:c953ea8a-4e0b-4404-8471-1de142ee019c\" xlink:type=\"simple\"><rect fill=\"#FFFFFF\" height=\"45.9375\" id=\"E2\" rx=\"10\" ry=\"10\" style=\"stroke: #383838; stroke-width: 1.5;\" width=\"42\" x=\"133\" y=\"41\"/><text fill=\"#000000\" font-family=\"sans-serif\" font-size=\"12\" font-style=\"italic\" lengthAdjust=\"spacingAndGlyphs\" textLength=\"40\" x=\"134\" y=\"57.1387\">«part»</text><text fill=\"#000000\" font-family=\"sans-serif\" font-size=\"12\" lengthAdjust=\"spacingAndGlyphs\" textLength=\"4\" x=\"152\" y=\"71.1074\">f</text><line style=\"stroke: #383838; stroke-width: 1.5;\" x1=\"134\" x2=\"174\" y1=\"78.9375\" y2=\"78.9375\"/></a><!--MD5=[09b614a08d8cba4a07c9adeb5e0fee81]\n",
       "class E3--><a href=\"psysml:c747f0dc-049c-42e5-8830-b905b214a6d2\" target=\"_top\" title=\"psysml:c747f0dc-049c-42e5-8830-b905b214a6d2\" xlink:actuate=\"onRequest\" xlink:href=\"psysml:c747f0dc-049c-42e5-8830-b905b214a6d2\" xlink:show=\"new\" xlink:title=\"psysml:c747f0dc-049c-42e5-8830-b905b214a6d2\" xlink:type=\"simple\"><rect fill=\"#FFFFFF\" height=\"45.9375\" id=\"E3\" rx=\"10\" ry=\"10\" style=\"stroke: #383838; stroke-width: 1.5;\" width=\"42\" x=\"133\" y=\"147\"/><text fill=\"#000000\" font-family=\"sans-serif\" font-size=\"12\" font-style=\"italic\" lengthAdjust=\"spacingAndGlyphs\" textLength=\"40\" x=\"134\" y=\"163.1387\">«part»</text><text fill=\"#000000\" font-family=\"sans-serif\" font-size=\"12\" lengthAdjust=\"spacingAndGlyphs\" textLength=\"8\" x=\"150\" y=\"177.1074\">a</text><line style=\"stroke: #383838; stroke-width: 1.5;\" x1=\"134\" x2=\"174\" y1=\"184.9375\" y2=\"184.9375\"/></a><!--MD5=[ebbe1d658d1005bcc118a6aa81145e00]\n",
       "class E4--><a href=\"psysml:1d5dfbac-e0d0-4dae-a20f-d178674246aa\" target=\"_top\" title=\"psysml:1d5dfbac-e0d0-4dae-a20f-d178674246aa\" xlink:actuate=\"onRequest\" xlink:href=\"psysml:1d5dfbac-e0d0-4dae-a20f-d178674246aa\" xlink:show=\"new\" xlink:title=\"psysml:1d5dfbac-e0d0-4dae-a20f-d178674246aa\" xlink:type=\"simple\"><rect fill=\"#FFFFFF\" height=\"45.9375\" id=\"E4\" style=\"stroke: #383838; stroke-width: 1.5;\" width=\"66\" x=\"32\" y=\"41\"/><text fill=\"#000000\" font-family=\"sans-serif\" font-size=\"12\" font-style=\"italic\" lengthAdjust=\"spacingAndGlyphs\" textLength=\"64\" x=\"33\" y=\"57.1387\">«part def»</text><text fill=\"#000000\" font-family=\"sans-serif\" font-size=\"12\" lengthAdjust=\"spacingAndGlyphs\" textLength=\"8\" x=\"61\" y=\"71.1074\">C</text><line style=\"stroke: #383838; stroke-width: 1.5;\" x1=\"33\" x2=\"97\" y1=\"78.9375\" y2=\"78.9375\"/></a><!--MD5=[270fce915f116d4de14055a7c1d9a0f3]\n",
       "class E5--><a href=\"psysml:31443893-624e-4834-b51f-adb4e581d804\" target=\"_top\" title=\"psysml:31443893-624e-4834-b51f-adb4e581d804\" xlink:actuate=\"onRequest\" xlink:href=\"psysml:31443893-624e-4834-b51f-adb4e581d804\" xlink:show=\"new\" xlink:title=\"psysml:31443893-624e-4834-b51f-adb4e581d804\" xlink:type=\"simple\"><rect fill=\"#FFFFFF\" height=\"45.9375\" id=\"E5\" rx=\"10\" ry=\"10\" style=\"stroke: #383838; stroke-width: 1.5;\" width=\"42\" x=\"44\" y=\"147\"/><text fill=\"#000000\" font-family=\"sans-serif\" font-size=\"12\" font-style=\"italic\" lengthAdjust=\"spacingAndGlyphs\" textLength=\"40\" x=\"45\" y=\"163.1387\">«part»</text><text fill=\"#000000\" font-family=\"sans-serif\" font-size=\"12\" lengthAdjust=\"spacingAndGlyphs\" textLength=\"8\" x=\"61\" y=\"177.1074\">g</text><line style=\"stroke: #383838; stroke-width: 1.5;\" x1=\"45\" x2=\"85\" y1=\"184.9375\" y2=\"184.9375\"/></a><!--MD5=[209b3feb70ccb6233bfe1053d122c12c]\n",
       "reverse link E2 to E3--><a href=\"psysml:144a9ea2-c14f-46d2-8ece-b06edd35cf79\" target=\"_top\" title=\"psysml:144a9ea2-c14f-46d2-8ece-b06edd35cf79\" xlink:actuate=\"onRequest\" xlink:href=\"psysml:144a9ea2-c14f-46d2-8ece-b06edd35cf79\" xlink:show=\"new\" xlink:title=\"psysml:144a9ea2-c14f-46d2-8ece-b06edd35cf79\" xlink:type=\"simple\"><path d=\"M154,100.44 C154,115.87 154,133.47 154,146.98 \" fill=\"none\" id=\"E2&lt;-E3\" style=\"stroke: #383838; stroke-width: 1.0;\"/><polygon fill=\"#383838\" points=\"154,87.06,150,93.06,154,99.06,158,93.06,154,87.06\" style=\"stroke: #383838; stroke-width: 1.0;\"/></a><!--MD5=[62aa6af11e70f752912c1cb0466f24f7]\n",
       "reverse link E4 to E5--><a href=\"psysml:ffd50afc-9abd-4dce-afc7-dff7922af1b1\" target=\"_top\" title=\"psysml:ffd50afc-9abd-4dce-afc7-dff7922af1b1\" xlink:actuate=\"onRequest\" xlink:href=\"psysml:ffd50afc-9abd-4dce-afc7-dff7922af1b1\" xlink:show=\"new\" xlink:title=\"psysml:ffd50afc-9abd-4dce-afc7-dff7922af1b1\" xlink:type=\"simple\"><path d=\"M65,100.44 C65,115.87 65,133.47 65,146.98 \" fill=\"none\" id=\"E4&lt;-E5\" style=\"stroke: #383838; stroke-width: 1.0;\"/><polygon fill=\"#383838\" points=\"65,87.06,61,93.06,65,99.06,69,93.06,65,87.06\" style=\"stroke: #383838; stroke-width: 1.0;\"/></a><!--MD5=[abcb61d268255e522009cb111c6fc49c]\n",
       "@startuml\r\n",
       "skinparam linetype polyline\r\n",
       "skinparam monochrome true\r\n",
       "skinparam classbackgroundcolor white\r\n",
       "skinparam shadowing false\r\n",
       "skinparam wrapWidth 300\r\n",
       "hide circle\r\n",
       "\r\n",
       "package \"Q\" as E1  [[psysml:8fe83ee3-fcec-497a-a9db-5b3b84baea71 ]]  {\r\n",
       "comp usage \"f\" as E2  <<(T,blue)part>> [[psysml:c953ea8a-4e0b-4404-8471-1de142ee019c ]] {\r\n",
       "}\r\n",
       "comp usage \"a\" as E3  <<(T,blue)part>> [[psysml:c747f0dc-049c-42e5-8830-b905b214a6d2 ]] {\r\n",
       "}\r\n",
       "comp def \"C\" as E4  <<(T,blue)part def>> [[psysml:1d5dfbac-e0d0-4dae-a20f-d178674246aa ]] {\r\n",
       "}\r\n",
       "comp usage \"g\" as E5  <<(T,blue)part>> [[psysml:31443893-624e-4834-b51f-adb4e581d804 ]] {\r\n",
       "}\r\n",
       "E2 *- - E3 [[psysml:144a9ea2-c14f-46d2-8ece-b06edd35cf79 ]] \r\n",
       "E4 *- - E5 [[psysml:ffd50afc-9abd-4dce-afc7-dff7922af1b1 ]] \r\n",
       "}\r\n",
       "@enduml\r\n",
       "\n",
       "PlantUML version 1.2020.13(Sat Jun 13 12:26:38 UTC 2020)\n",
       "(EPL source distribution)\n",
       "Java Runtime: OpenJDK Runtime Environment\n",
       "JVM: OpenJDK 64-Bit Server VM\n",
       "Default Encoding: UTF-8\n",
       "Language: en\n",
       "Country: null\n",
       "--></g></svg>"
      ]
     },
     "execution_count": 9,
     "metadata": {},
     "output_type": "execute_result"
    }
   ],
   "source": [
    "%viz --style=\"POLYLINE\" --view=\"Default\" \"Q\""
   ]
  },
  {
   "cell_type": "code",
   "execution_count": 10,
   "id": "502a3e45",
   "metadata": {
    "execution": {
     "iopub.execute_input": "2021-04-20T07:21:50.317670Z",
     "iopub.status.busy": "2021-04-20T07:21:50.317147Z",
     "iopub.status.idle": "2021-04-20T07:21:50.352922Z",
     "shell.execute_reply": "2021-04-20T07:21:50.352527Z"
    }
   },
   "outputs": [
    {
     "data": {
      "image/svg+xml": [
       "<?xml version=\"1.0\" encoding=\"UTF-8\" standalone=\"no\"?><svg xmlns=\"http://www.w3.org/2000/svg\" xmlns:xlink=\"http://www.w3.org/1999/xlink\" contentScriptType=\"application/ecmascript\" contentStyleType=\"text/css\" height=\"221px\" preserveAspectRatio=\"none\" style=\"width:213px;height:221px;\" version=\"1.1\" viewBox=\"0 0 213 221\" width=\"213px\" zoomAndPan=\"magnify\"><defs/><g><!--MD5=[fbc87193dbaf4d95561dea2c320d4a47]\n",
       "cluster E1--><a href=\"psysml:8fe83ee3-fcec-497a-a9db-5b3b84baea71\" target=\"_top\" title=\"psysml:8fe83ee3-fcec-497a-a9db-5b3b84baea71\" xlink:actuate=\"onRequest\" xlink:href=\"psysml:8fe83ee3-fcec-497a-a9db-5b3b84baea71\" xlink:show=\"new\" xlink:title=\"psysml:8fe83ee3-fcec-497a-a9db-5b3b84baea71\" xlink:type=\"simple\"><polygon fill=\"#FFFFFF\" points=\"16,6,34,6,41,28.2969,191,28.2969,191,209,16,209,16,6\" style=\"stroke: #000000; stroke-width: 1.5;\"/><line style=\"stroke: #000000; stroke-width: 1.5;\" x1=\"16\" x2=\"41\" y1=\"28.2969\" y2=\"28.2969\"/><text fill=\"#000000\" font-family=\"sans-serif\" font-size=\"14\" font-weight=\"bold\" lengthAdjust=\"spacingAndGlyphs\" textLength=\"12\" x=\"20\" y=\"20.9951\">Q</text></a><!--MD5=[b4997ac47864f28c2f74865a473b2911]\n",
       "class E2--><a href=\"psysml:c953ea8a-4e0b-4404-8471-1de142ee019c\" target=\"_top\" title=\"psysml:c953ea8a-4e0b-4404-8471-1de142ee019c\" xlink:actuate=\"onRequest\" xlink:href=\"psysml:c953ea8a-4e0b-4404-8471-1de142ee019c\" xlink:show=\"new\" xlink:title=\"psysml:c953ea8a-4e0b-4404-8471-1de142ee019c\" xlink:type=\"simple\"><rect fill=\"#FFFFFF\" height=\"45.9375\" id=\"E2\" rx=\"10\" ry=\"10\" style=\"stroke: #383838; stroke-width: 1.5;\" width=\"42\" x=\"133\" y=\"41\"/><text fill=\"#000000\" font-family=\"sans-serif\" font-size=\"12\" font-style=\"italic\" lengthAdjust=\"spacingAndGlyphs\" textLength=\"40\" x=\"134\" y=\"57.1387\">«part»</text><text fill=\"#000000\" font-family=\"sans-serif\" font-size=\"12\" lengthAdjust=\"spacingAndGlyphs\" textLength=\"4\" x=\"152\" y=\"71.1074\">f</text><line style=\"stroke: #383838; stroke-width: 1.5;\" x1=\"134\" x2=\"174\" y1=\"78.9375\" y2=\"78.9375\"/></a><!--MD5=[09b614a08d8cba4a07c9adeb5e0fee81]\n",
       "class E3--><a href=\"psysml:c747f0dc-049c-42e5-8830-b905b214a6d2\" target=\"_top\" title=\"psysml:c747f0dc-049c-42e5-8830-b905b214a6d2\" xlink:actuate=\"onRequest\" xlink:href=\"psysml:c747f0dc-049c-42e5-8830-b905b214a6d2\" xlink:show=\"new\" xlink:title=\"psysml:c747f0dc-049c-42e5-8830-b905b214a6d2\" xlink:type=\"simple\"><rect fill=\"#FFFFFF\" height=\"45.9375\" id=\"E3\" rx=\"10\" ry=\"10\" style=\"stroke: #383838; stroke-width: 1.5;\" width=\"42\" x=\"133\" y=\"147\"/><text fill=\"#000000\" font-family=\"sans-serif\" font-size=\"12\" font-style=\"italic\" lengthAdjust=\"spacingAndGlyphs\" textLength=\"40\" x=\"134\" y=\"163.1387\">«part»</text><text fill=\"#000000\" font-family=\"sans-serif\" font-size=\"12\" lengthAdjust=\"spacingAndGlyphs\" textLength=\"8\" x=\"150\" y=\"177.1074\">a</text><line style=\"stroke: #383838; stroke-width: 1.5;\" x1=\"134\" x2=\"174\" y1=\"184.9375\" y2=\"184.9375\"/></a><!--MD5=[ebbe1d658d1005bcc118a6aa81145e00]\n",
       "class E4--><a href=\"psysml:1d5dfbac-e0d0-4dae-a20f-d178674246aa\" target=\"_top\" title=\"psysml:1d5dfbac-e0d0-4dae-a20f-d178674246aa\" xlink:actuate=\"onRequest\" xlink:href=\"psysml:1d5dfbac-e0d0-4dae-a20f-d178674246aa\" xlink:show=\"new\" xlink:title=\"psysml:1d5dfbac-e0d0-4dae-a20f-d178674246aa\" xlink:type=\"simple\"><rect fill=\"#FFFFFF\" height=\"45.9375\" id=\"E4\" style=\"stroke: #383838; stroke-width: 1.5;\" width=\"66\" x=\"32\" y=\"41\"/><text fill=\"#000000\" font-family=\"sans-serif\" font-size=\"12\" font-style=\"italic\" lengthAdjust=\"spacingAndGlyphs\" textLength=\"64\" x=\"33\" y=\"57.1387\">«part def»</text><text fill=\"#000000\" font-family=\"sans-serif\" font-size=\"12\" lengthAdjust=\"spacingAndGlyphs\" textLength=\"8\" x=\"61\" y=\"71.1074\">C</text><line style=\"stroke: #383838; stroke-width: 1.5;\" x1=\"33\" x2=\"97\" y1=\"78.9375\" y2=\"78.9375\"/></a><!--MD5=[270fce915f116d4de14055a7c1d9a0f3]\n",
       "class E5--><a href=\"psysml:31443893-624e-4834-b51f-adb4e581d804\" target=\"_top\" title=\"psysml:31443893-624e-4834-b51f-adb4e581d804\" xlink:actuate=\"onRequest\" xlink:href=\"psysml:31443893-624e-4834-b51f-adb4e581d804\" xlink:show=\"new\" xlink:title=\"psysml:31443893-624e-4834-b51f-adb4e581d804\" xlink:type=\"simple\"><rect fill=\"#FFFFFF\" height=\"45.9375\" id=\"E5\" rx=\"10\" ry=\"10\" style=\"stroke: #383838; stroke-width: 1.5;\" width=\"42\" x=\"44\" y=\"147\"/><text fill=\"#000000\" font-family=\"sans-serif\" font-size=\"12\" font-style=\"italic\" lengthAdjust=\"spacingAndGlyphs\" textLength=\"40\" x=\"45\" y=\"163.1387\">«part»</text><text fill=\"#000000\" font-family=\"sans-serif\" font-size=\"12\" lengthAdjust=\"spacingAndGlyphs\" textLength=\"8\" x=\"61\" y=\"177.1074\">g</text><line style=\"stroke: #383838; stroke-width: 1.5;\" x1=\"45\" x2=\"85\" y1=\"184.9375\" y2=\"184.9375\"/></a><!--MD5=[209b3feb70ccb6233bfe1053d122c12c]\n",
       "reverse link E2 to E3--><a href=\"psysml:144a9ea2-c14f-46d2-8ece-b06edd35cf79\" target=\"_top\" title=\"psysml:144a9ea2-c14f-46d2-8ece-b06edd35cf79\" xlink:actuate=\"onRequest\" xlink:href=\"psysml:144a9ea2-c14f-46d2-8ece-b06edd35cf79\" xlink:show=\"new\" xlink:title=\"psysml:144a9ea2-c14f-46d2-8ece-b06edd35cf79\" xlink:type=\"simple\"><path d=\"M154,100.44 C154,115.87 154,133.47 154,146.98 \" fill=\"none\" id=\"E2&lt;-E3\" style=\"stroke: #383838; stroke-width: 1.0;\"/><polygon fill=\"#383838\" points=\"154,87.06,150,93.06,154,99.06,158,93.06,154,87.06\" style=\"stroke: #383838; stroke-width: 1.0;\"/></a><!--MD5=[62aa6af11e70f752912c1cb0466f24f7]\n",
       "reverse link E4 to E5--><a href=\"psysml:ffd50afc-9abd-4dce-afc7-dff7922af1b1\" target=\"_top\" title=\"psysml:ffd50afc-9abd-4dce-afc7-dff7922af1b1\" xlink:actuate=\"onRequest\" xlink:href=\"psysml:ffd50afc-9abd-4dce-afc7-dff7922af1b1\" xlink:show=\"new\" xlink:title=\"psysml:ffd50afc-9abd-4dce-afc7-dff7922af1b1\" xlink:type=\"simple\"><path d=\"M65,100.44 C65,115.87 65,133.47 65,146.98 \" fill=\"none\" id=\"E4&lt;-E5\" style=\"stroke: #383838; stroke-width: 1.0;\"/><polygon fill=\"#383838\" points=\"65,87.06,61,93.06,65,99.06,69,93.06,65,87.06\" style=\"stroke: #383838; stroke-width: 1.0;\"/></a><!--MD5=[abcb61d268255e522009cb111c6fc49c]\n",
       "@startuml\r\n",
       "skinparam linetype polyline\r\n",
       "skinparam monochrome true\r\n",
       "skinparam classbackgroundcolor white\r\n",
       "skinparam shadowing false\r\n",
       "skinparam wrapWidth 300\r\n",
       "hide circle\r\n",
       "\r\n",
       "package \"Q\" as E1  [[psysml:8fe83ee3-fcec-497a-a9db-5b3b84baea71 ]]  {\r\n",
       "comp usage \"f\" as E2  <<(T,blue)part>> [[psysml:c953ea8a-4e0b-4404-8471-1de142ee019c ]] {\r\n",
       "}\r\n",
       "comp usage \"a\" as E3  <<(T,blue)part>> [[psysml:c747f0dc-049c-42e5-8830-b905b214a6d2 ]] {\r\n",
       "}\r\n",
       "comp def \"C\" as E4  <<(T,blue)part def>> [[psysml:1d5dfbac-e0d0-4dae-a20f-d178674246aa ]] {\r\n",
       "}\r\n",
       "comp usage \"g\" as E5  <<(T,blue)part>> [[psysml:31443893-624e-4834-b51f-adb4e581d804 ]] {\r\n",
       "}\r\n",
       "E2 *- - E3 [[psysml:144a9ea2-c14f-46d2-8ece-b06edd35cf79 ]] \r\n",
       "E4 *- - E5 [[psysml:ffd50afc-9abd-4dce-afc7-dff7922af1b1 ]] \r\n",
       "}\r\n",
       "@enduml\r\n",
       "\n",
       "PlantUML version 1.2020.13(Sat Jun 13 12:26:38 UTC 2020)\n",
       "(EPL source distribution)\n",
       "Java Runtime: OpenJDK Runtime Environment\n",
       "JVM: OpenJDK 64-Bit Server VM\n",
       "Default Encoding: UTF-8\n",
       "Language: en\n",
       "Country: null\n",
       "--></g></svg>"
      ]
     },
     "execution_count": 10,
     "metadata": {},
     "output_type": "execute_result"
    }
   ],
   "source": [
    "%viz --style=\"POLYLINE\" --view=\"Tree\" \"Q\""
   ]
  },
  {
   "cell_type": "code",
   "execution_count": 11,
   "id": "0ac6ac29",
   "metadata": {
    "execution": {
     "iopub.execute_input": "2021-04-20T07:21:50.404015Z",
     "iopub.status.busy": "2021-04-20T07:21:50.403394Z",
     "iopub.status.idle": "2021-04-20T07:21:50.410637Z",
     "shell.execute_reply": "2021-04-20T07:21:50.410172Z"
    }
   },
   "outputs": [
    {
     "data": {
      "image/svg+xml": [
       "<?xml version=\"1.0\" encoding=\"UTF-8\" standalone=\"no\"?><svg xmlns=\"http://www.w3.org/2000/svg\" xmlns:xlink=\"http://www.w3.org/1999/xlink\" contentScriptType=\"application/ecmascript\" contentStyleType=\"text/css\" height=\"12px\" preserveAspectRatio=\"none\" style=\"width:12px;height:12px;\" version=\"1.1\" viewBox=\"0 0 12 12\" width=\"12px\" zoomAndPan=\"magnify\"><defs/><g><!--MD5=[896ac0e7a515d8dd7765a661cb4ee08b]\n",
       "@startuml\r\n",
       "skinparam linetype polyline\r\n",
       "skinparam monochrome true\r\n",
       "skinparam classbackgroundcolor white\r\n",
       "skinparam shadowing false\r\n",
       "skinparam wrapWidth 300\r\n",
       "hide circle\r\n",
       "\r\n",
       "@enduml\r\n",
       "\n",
       "PlantUML version 1.2020.13(Sat Jun 13 12:26:38 UTC 2020)\n",
       "(EPL source distribution)\n",
       "Java Runtime: OpenJDK Runtime Environment\n",
       "JVM: OpenJDK 64-Bit Server VM\n",
       "Default Encoding: UTF-8\n",
       "Language: en\n",
       "Country: null\n",
       "--></g></svg>"
      ]
     },
     "execution_count": 11,
     "metadata": {},
     "output_type": "execute_result"
    }
   ],
   "source": [
    "%viz --style=\"POLYLINE\" --view=\"State\" \"Q\""
   ]
  },
  {
   "cell_type": "code",
   "execution_count": 12,
   "id": "2ae541e0",
   "metadata": {
    "execution": {
     "iopub.execute_input": "2021-04-20T07:21:50.462231Z",
     "iopub.status.busy": "2021-04-20T07:21:50.461815Z",
     "iopub.status.idle": "2021-04-20T07:21:50.500368Z",
     "shell.execute_reply": "2021-04-20T07:21:50.500032Z"
    }
   },
   "outputs": [
    {
     "data": {
      "image/svg+xml": [
       "<?xml version=\"1.0\" encoding=\"UTF-8\" standalone=\"no\"?><svg xmlns=\"http://www.w3.org/2000/svg\" xmlns:xlink=\"http://www.w3.org/1999/xlink\" contentScriptType=\"application/ecmascript\" contentStyleType=\"text/css\" height=\"192px\" preserveAspectRatio=\"none\" style=\"width:286px;height:192px;\" version=\"1.1\" viewBox=\"0 0 286 192\" width=\"286px\" zoomAndPan=\"magnify\"><defs/><g><!--MD5=[fbc87193dbaf4d95561dea2c320d4a47]\n",
       "cluster E1--><a href=\"psysml:8fe83ee3-fcec-497a-a9db-5b3b84baea71\" target=\"_top\" title=\"psysml:8fe83ee3-fcec-497a-a9db-5b3b84baea71\" xlink:actuate=\"onRequest\" xlink:href=\"psysml:8fe83ee3-fcec-497a-a9db-5b3b84baea71\" xlink:show=\"new\" xlink:title=\"psysml:8fe83ee3-fcec-497a-a9db-5b3b84baea71\" xlink:type=\"simple\"><polygon fill=\"#FFFFFF\" points=\"16,6,34,6,41,28.2969,264,28.2969,264,180,16,180,16,6\" style=\"stroke: #000000; stroke-width: 1.5;\"/><line style=\"stroke: #000000; stroke-width: 1.5;\" x1=\"16\" x2=\"41\" y1=\"28.2969\" y2=\"28.2969\"/><text fill=\"#000000\" font-family=\"sans-serif\" font-size=\"14\" font-weight=\"bold\" lengthAdjust=\"spacingAndGlyphs\" textLength=\"12\" x=\"20\" y=\"20.9951\">Q</text></a><!--MD5=[e4f7fae6ed58524ba242bb0b0d3be6b7]\n",
       "cluster E2--><a href=\"psysml:c953ea8a-4e0b-4404-8471-1de142ee019c\" target=\"_top\" title=\"psysml:c953ea8a-4e0b-4404-8471-1de142ee019c\" xlink:actuate=\"onRequest\" xlink:href=\"psysml:c953ea8a-4e0b-4404-8471-1de142ee019c\" xlink:show=\"new\" xlink:title=\"psysml:c953ea8a-4e0b-4404-8471-1de142ee019c\" xlink:type=\"simple\"><rect fill=\"#FFFFFF\" height=\"91\" id=\"E2\" rx=\"10\" ry=\"10\" style=\"stroke: #383838; stroke-width: 1.5;\" width=\"82\" x=\"158\" y=\"65\"/><rect fill=\"#F8F8F8\" height=\"23.9688\" rx=\"10\" ry=\"10\" style=\"stroke: #F8F8F8; stroke-width: 1.5;\" width=\"82\" x=\"158\" y=\"65\"/><rect fill=\"#F8F8F8\" height=\"10\" style=\"stroke: #F8F8F8; stroke-width: 1.5;\" width=\"82\" x=\"158\" y=\"78.9688\"/><rect fill=\"none\" height=\"91\" id=\"E2\" rx=\"10\" ry=\"10\" style=\"stroke: #383838; stroke-width: 1.5;\" width=\"82\" x=\"158\" y=\"65\"/><text fill=\"#000000\" font-family=\"sans-serif\" font-size=\"12\" lengthAdjust=\"spacingAndGlyphs\" textLength=\"4\" x=\"197\" y=\"81.1387\">f</text><line style=\"stroke: #383838; stroke-width: 1.0;\" x1=\"158\" x2=\"240\" y1=\"88.9688\" y2=\"88.9688\"/></a><!--MD5=[f6df4d0ebaf0b5dfb2ced0ae5af7c670]\n",
       "cluster E4--><a href=\"psysml:1d5dfbac-e0d0-4dae-a20f-d178674246aa\" target=\"_top\" title=\"psysml:1d5dfbac-e0d0-4dae-a20f-d178674246aa\" xlink:actuate=\"onRequest\" xlink:href=\"psysml:1d5dfbac-e0d0-4dae-a20f-d178674246aa\" xlink:show=\"new\" xlink:title=\"psysml:1d5dfbac-e0d0-4dae-a20f-d178674246aa\" xlink:type=\"simple\"><rect fill=\"#FFFFFF\" height=\"107\" id=\"E4\" style=\"stroke: #383838; stroke-width: 1.5;\" width=\"94\" x=\"40\" y=\"49\"/><rect fill=\"#F8F8F8\" height=\"37.9375\" style=\"stroke: #383838; stroke-width: 1.5;\" width=\"94\" x=\"40\" y=\"49\"/><text fill=\"#000000\" font-family=\"sans-serif\" font-size=\"12\" font-style=\"italic\" lengthAdjust=\"spacingAndGlyphs\" textLength=\"64\" x=\"55\" y=\"65.1387\">«part def»</text><text fill=\"#000000\" font-family=\"sans-serif\" font-size=\"12\" lengthAdjust=\"spacingAndGlyphs\" textLength=\"8\" x=\"83\" y=\"79.1074\">C</text></a><g id=\"E1.E2.E3\"><a href=\"psysml:c747f0dc-049c-42e5-8830-b905b214a6d2\" target=\"_top\" title=\"psysml:c747f0dc-049c-42e5-8830-b905b214a6d2\" xlink:actuate=\"onRequest\" xlink:href=\"psysml:c747f0dc-049c-42e5-8830-b905b214a6d2\" xlink:show=\"new\" xlink:title=\"psysml:c747f0dc-049c-42e5-8830-b905b214a6d2\" xlink:type=\"simple\"><rect fill=\"#FFFFFF\" height=\"40\" id=\"E3\" rx=\"10\" ry=\"10\" style=\"stroke: #383838; stroke-width: 1.5;\" width=\"50\" x=\"174\" y=\"100\"/><rect fill=\"#F8F8F8\" height=\"23.9688\" rx=\"10\" ry=\"10\" style=\"stroke: #F8F8F8; stroke-width: 1.5;\" width=\"50\" x=\"174\" y=\"100\"/><rect fill=\"#F8F8F8\" height=\"10\" style=\"stroke: #F8F8F8; stroke-width: 1.5;\" width=\"50\" x=\"174\" y=\"113.9688\"/><rect fill=\"none\" height=\"40\" id=\"E3\" rx=\"10\" ry=\"10\" style=\"stroke: #383838; stroke-width: 1.5;\" width=\"50\" x=\"174\" y=\"100\"/><text fill=\"#000000\" font-family=\"sans-serif\" font-size=\"12\" lengthAdjust=\"spacingAndGlyphs\" textLength=\"8\" x=\"195\" y=\"116.1387\">a</text></a></g><g id=\"E1.E4.E5\"><a href=\"psysml:31443893-624e-4834-b51f-adb4e581d804\" target=\"_top\" title=\"psysml:31443893-624e-4834-b51f-adb4e581d804\" xlink:actuate=\"onRequest\" xlink:href=\"psysml:31443893-624e-4834-b51f-adb4e581d804\" xlink:show=\"new\" xlink:title=\"psysml:31443893-624e-4834-b51f-adb4e581d804\" xlink:type=\"simple\"><rect fill=\"#FFFFFF\" height=\"40\" id=\"E5\" rx=\"10\" ry=\"10\" style=\"stroke: #383838; stroke-width: 1.5;\" width=\"61\" x=\"56.5\" y=\"100\"/><rect fill=\"#F8F8F8\" height=\"23.9688\" rx=\"10\" ry=\"10\" style=\"stroke: #F8F8F8; stroke-width: 1.5;\" width=\"61\" x=\"56.5\" y=\"100\"/><rect fill=\"#F8F8F8\" height=\"10\" style=\"stroke: #F8F8F8; stroke-width: 1.5;\" width=\"61\" x=\"56.5\" y=\"113.9688\"/><rect fill=\"none\" height=\"40\" id=\"E5\" rx=\"10\" ry=\"10\" style=\"stroke: #383838; stroke-width: 1.5;\" width=\"61\" x=\"56.5\" y=\"100\"/><text fill=\"#000000\" font-family=\"sans-serif\" font-size=\"12\" lengthAdjust=\"spacingAndGlyphs\" textLength=\"46\" x=\"62\" y=\"116.1387\">g=./f/a;</text></a></g><!--MD5=[8737e3b0dee7a706b82549451aeec1c8]\n",
       "@startuml\r\n",
       "skinparam ranksep 10\r\n",
       "skinparam rectangle {\r\n",
       " backgroundColor<<block>> LightGreen\r\n",
       "}\r\n",
       "skinparam linetype polyline\r\n",
       "skinparam monochrome true\r\n",
       "skinparam classbackgroundcolor white\r\n",
       "skinparam shadowing false\r\n",
       "skinparam wrapWidth 300\r\n",
       "hide circle\r\n",
       "\r\n",
       "package \"Q\" as E1  [[psysml:8fe83ee3-fcec-497a-a9db-5b3b84baea71 ]]  {\r\n",
       "rec usage \"f\" as E2  [[psysml:c953ea8a-4e0b-4404-8471-1de142ee019c ]] {\r\n",
       "rec usage \"a\" as E3  [[psysml:c747f0dc-049c-42e5-8830-b905b214a6d2 ]] {\r\n",
       "}\r\n",
       "}\r\n",
       "rec def \"C\" as E4  <<(T,blue)part def>> [[psysml:1d5dfbac-e0d0-4dae-a20f-d178674246aa ]] {\r\n",
       "rec usage \"g=./f/a; \" as E5  [[psysml:31443893-624e-4834-b51f-adb4e581d804 ]] {\r\n",
       "}\r\n",
       "}\r\n",
       "}\r\n",
       "@enduml\r\n",
       "\n",
       "PlantUML version 1.2020.13(Sat Jun 13 12:26:38 UTC 2020)\n",
       "(EPL source distribution)\n",
       "Java Runtime: OpenJDK Runtime Environment\n",
       "JVM: OpenJDK 64-Bit Server VM\n",
       "Default Encoding: UTF-8\n",
       "Language: en\n",
       "Country: null\n",
       "--></g></svg>"
      ]
     },
     "execution_count": 12,
     "metadata": {},
     "output_type": "execute_result"
    }
   ],
   "source": [
    "%viz --style=\"POLYLINE\" --view=\"Interconnection\" \"Q\""
   ]
  },
  {
   "cell_type": "code",
   "execution_count": 13,
   "id": "cb0b042f",
   "metadata": {
    "execution": {
     "iopub.execute_input": "2021-04-20T07:21:50.551583Z",
     "iopub.status.busy": "2021-04-20T07:21:50.551033Z",
     "iopub.status.idle": "2021-04-20T07:21:50.557925Z",
     "shell.execute_reply": "2021-04-20T07:21:50.557617Z"
    }
   },
   "outputs": [
    {
     "data": {
      "image/svg+xml": [
       "<?xml version=\"1.0\" encoding=\"UTF-8\" standalone=\"no\"?><svg xmlns=\"http://www.w3.org/2000/svg\" xmlns:xlink=\"http://www.w3.org/1999/xlink\" contentScriptType=\"application/ecmascript\" contentStyleType=\"text/css\" height=\"12px\" preserveAspectRatio=\"none\" style=\"width:12px;height:12px;\" version=\"1.1\" viewBox=\"0 0 12 12\" width=\"12px\" zoomAndPan=\"magnify\"><defs/><g><!--MD5=[97bbf32f66ccd50cbc40d92ea8f5a65e]\n",
       "@startuml\r\n",
       "skinparam ranksep 8\r\n",
       "skinparam linetype polyline\r\n",
       "skinparam monochrome true\r\n",
       "skinparam classbackgroundcolor white\r\n",
       "skinparam shadowing false\r\n",
       "skinparam wrapWidth 300\r\n",
       "hide circle\r\n",
       "\r\n",
       "@enduml\r\n",
       "\n",
       "PlantUML version 1.2020.13(Sat Jun 13 12:26:38 UTC 2020)\n",
       "(EPL source distribution)\n",
       "Java Runtime: OpenJDK Runtime Environment\n",
       "JVM: OpenJDK 64-Bit Server VM\n",
       "Default Encoding: UTF-8\n",
       "Language: en\n",
       "Country: null\n",
       "--></g></svg>"
      ]
     },
     "execution_count": 13,
     "metadata": {},
     "output_type": "execute_result"
    }
   ],
   "source": [
    "%viz --style=\"POLYLINE\" --view=\"Action\" \"Q\""
   ]
  },
  {
   "cell_type": "code",
   "execution_count": 14,
   "id": "1bad1019",
   "metadata": {
    "execution": {
     "iopub.execute_input": "2021-04-20T07:21:50.609797Z",
     "iopub.status.busy": "2021-04-20T07:21:50.609204Z",
     "iopub.status.idle": "2021-04-20T07:21:50.642386Z",
     "shell.execute_reply": "2021-04-20T07:21:50.641988Z"
    }
   },
   "outputs": [
    {
     "data": {
      "image/svg+xml": [
       "<?xml version=\"1.0\" encoding=\"UTF-8\" standalone=\"no\"?><svg xmlns=\"http://www.w3.org/2000/svg\" xmlns:xlink=\"http://www.w3.org/1999/xlink\" contentScriptType=\"application/ecmascript\" contentStyleType=\"text/css\" height=\"221px\" preserveAspectRatio=\"none\" style=\"width:213px;height:221px;\" version=\"1.1\" viewBox=\"0 0 213 221\" width=\"213px\" zoomAndPan=\"magnify\"><defs/><g><!--MD5=[fbc87193dbaf4d95561dea2c320d4a47]\n",
       "cluster E1--><a href=\"psysml:8fe83ee3-fcec-497a-a9db-5b3b84baea71\" target=\"_top\" title=\"psysml:8fe83ee3-fcec-497a-a9db-5b3b84baea71\" xlink:actuate=\"onRequest\" xlink:href=\"psysml:8fe83ee3-fcec-497a-a9db-5b3b84baea71\" xlink:show=\"new\" xlink:title=\"psysml:8fe83ee3-fcec-497a-a9db-5b3b84baea71\" xlink:type=\"simple\"><polygon fill=\"#FFFFFF\" points=\"16,6,34,6,41,28.2969,191,28.2969,191,209,16,209,16,6\" style=\"stroke: #000000; stroke-width: 1.5;\"/><line style=\"stroke: #000000; stroke-width: 1.5;\" x1=\"16\" x2=\"41\" y1=\"28.2969\" y2=\"28.2969\"/><text fill=\"#000000\" font-family=\"sans-serif\" font-size=\"14\" font-weight=\"bold\" lengthAdjust=\"spacingAndGlyphs\" textLength=\"12\" x=\"20\" y=\"20.9951\">Q</text></a><!--MD5=[b4997ac47864f28c2f74865a473b2911]\n",
       "class E2--><a href=\"psysml:c953ea8a-4e0b-4404-8471-1de142ee019c\" target=\"_top\" title=\"psysml:c953ea8a-4e0b-4404-8471-1de142ee019c\" xlink:actuate=\"onRequest\" xlink:href=\"psysml:c953ea8a-4e0b-4404-8471-1de142ee019c\" xlink:show=\"new\" xlink:title=\"psysml:c953ea8a-4e0b-4404-8471-1de142ee019c\" xlink:type=\"simple\"><rect fill=\"#FFFFFF\" height=\"45.9375\" id=\"E2\" rx=\"10\" ry=\"10\" style=\"stroke: #383838; stroke-width: 1.5;\" width=\"42\" x=\"133\" y=\"41\"/><text fill=\"#000000\" font-family=\"sans-serif\" font-size=\"12\" font-style=\"italic\" lengthAdjust=\"spacingAndGlyphs\" textLength=\"40\" x=\"134\" y=\"57.1387\">«part»</text><text fill=\"#000000\" font-family=\"sans-serif\" font-size=\"12\" lengthAdjust=\"spacingAndGlyphs\" textLength=\"4\" x=\"152\" y=\"71.1074\">f</text><line style=\"stroke: #383838; stroke-width: 1.5;\" x1=\"134\" x2=\"174\" y1=\"78.9375\" y2=\"78.9375\"/></a><!--MD5=[09b614a08d8cba4a07c9adeb5e0fee81]\n",
       "class E3--><a href=\"psysml:c747f0dc-049c-42e5-8830-b905b214a6d2\" target=\"_top\" title=\"psysml:c747f0dc-049c-42e5-8830-b905b214a6d2\" xlink:actuate=\"onRequest\" xlink:href=\"psysml:c747f0dc-049c-42e5-8830-b905b214a6d2\" xlink:show=\"new\" xlink:title=\"psysml:c747f0dc-049c-42e5-8830-b905b214a6d2\" xlink:type=\"simple\"><rect fill=\"#FFFFFF\" height=\"45.9375\" id=\"E3\" rx=\"10\" ry=\"10\" style=\"stroke: #383838; stroke-width: 1.5;\" width=\"42\" x=\"133\" y=\"147\"/><text fill=\"#000000\" font-family=\"sans-serif\" font-size=\"12\" font-style=\"italic\" lengthAdjust=\"spacingAndGlyphs\" textLength=\"40\" x=\"134\" y=\"163.1387\">«part»</text><text fill=\"#000000\" font-family=\"sans-serif\" font-size=\"12\" lengthAdjust=\"spacingAndGlyphs\" textLength=\"8\" x=\"150\" y=\"177.1074\">a</text><line style=\"stroke: #383838; stroke-width: 1.5;\" x1=\"134\" x2=\"174\" y1=\"184.9375\" y2=\"184.9375\"/></a><!--MD5=[ebbe1d658d1005bcc118a6aa81145e00]\n",
       "class E4--><a href=\"psysml:1d5dfbac-e0d0-4dae-a20f-d178674246aa\" target=\"_top\" title=\"psysml:1d5dfbac-e0d0-4dae-a20f-d178674246aa\" xlink:actuate=\"onRequest\" xlink:href=\"psysml:1d5dfbac-e0d0-4dae-a20f-d178674246aa\" xlink:show=\"new\" xlink:title=\"psysml:1d5dfbac-e0d0-4dae-a20f-d178674246aa\" xlink:type=\"simple\"><rect fill=\"#FFFFFF\" height=\"45.9375\" id=\"E4\" style=\"stroke: #383838; stroke-width: 1.5;\" width=\"66\" x=\"32\" y=\"41\"/><text fill=\"#000000\" font-family=\"sans-serif\" font-size=\"12\" font-style=\"italic\" lengthAdjust=\"spacingAndGlyphs\" textLength=\"64\" x=\"33\" y=\"57.1387\">«part def»</text><text fill=\"#000000\" font-family=\"sans-serif\" font-size=\"12\" lengthAdjust=\"spacingAndGlyphs\" textLength=\"8\" x=\"61\" y=\"71.1074\">C</text><line style=\"stroke: #383838; stroke-width: 1.5;\" x1=\"33\" x2=\"97\" y1=\"78.9375\" y2=\"78.9375\"/></a><!--MD5=[270fce915f116d4de14055a7c1d9a0f3]\n",
       "class E5--><a href=\"psysml:31443893-624e-4834-b51f-adb4e581d804\" target=\"_top\" title=\"psysml:31443893-624e-4834-b51f-adb4e581d804\" xlink:actuate=\"onRequest\" xlink:href=\"psysml:31443893-624e-4834-b51f-adb4e581d804\" xlink:show=\"new\" xlink:title=\"psysml:31443893-624e-4834-b51f-adb4e581d804\" xlink:type=\"simple\"><rect fill=\"#FFFFFF\" height=\"45.9375\" id=\"E5\" rx=\"10\" ry=\"10\" style=\"stroke: #383838; stroke-width: 1.5;\" width=\"42\" x=\"44\" y=\"147\"/><text fill=\"#000000\" font-family=\"sans-serif\" font-size=\"12\" font-style=\"italic\" lengthAdjust=\"spacingAndGlyphs\" textLength=\"40\" x=\"45\" y=\"163.1387\">«part»</text><text fill=\"#000000\" font-family=\"sans-serif\" font-size=\"12\" lengthAdjust=\"spacingAndGlyphs\" textLength=\"8\" x=\"61\" y=\"177.1074\">g</text><line style=\"stroke: #383838; stroke-width: 1.5;\" x1=\"45\" x2=\"85\" y1=\"184.9375\" y2=\"184.9375\"/></a><!--MD5=[209b3feb70ccb6233bfe1053d122c12c]\n",
       "reverse link E2 to E3--><a href=\"psysml:144a9ea2-c14f-46d2-8ece-b06edd35cf79\" target=\"_top\" title=\"psysml:144a9ea2-c14f-46d2-8ece-b06edd35cf79\" xlink:actuate=\"onRequest\" xlink:href=\"psysml:144a9ea2-c14f-46d2-8ece-b06edd35cf79\" xlink:show=\"new\" xlink:title=\"psysml:144a9ea2-c14f-46d2-8ece-b06edd35cf79\" xlink:type=\"simple\"><path d=\"M154,100.44 C154,115.87 154,133.47 154,146.98 \" fill=\"none\" id=\"E2&lt;-E3\" style=\"stroke: #383838; stroke-width: 1.0;\"/><polygon fill=\"#383838\" points=\"154,87.06,150,93.06,154,99.06,158,93.06,154,87.06\" style=\"stroke: #383838; stroke-width: 1.0;\"/></a><!--MD5=[62aa6af11e70f752912c1cb0466f24f7]\n",
       "reverse link E4 to E5--><a href=\"psysml:ffd50afc-9abd-4dce-afc7-dff7922af1b1\" target=\"_top\" title=\"psysml:ffd50afc-9abd-4dce-afc7-dff7922af1b1\" xlink:actuate=\"onRequest\" xlink:href=\"psysml:ffd50afc-9abd-4dce-afc7-dff7922af1b1\" xlink:show=\"new\" xlink:title=\"psysml:ffd50afc-9abd-4dce-afc7-dff7922af1b1\" xlink:type=\"simple\"><path d=\"M65,100.44 C65,115.87 65,133.47 65,146.98 \" fill=\"none\" id=\"E4&lt;-E5\" style=\"stroke: #383838; stroke-width: 1.0;\"/><polygon fill=\"#383838\" points=\"65,87.06,61,93.06,65,99.06,69,93.06,65,87.06\" style=\"stroke: #383838; stroke-width: 1.0;\"/></a><!--MD5=[abcb61d268255e522009cb111c6fc49c]\n",
       "@startuml\r\n",
       "skinparam linetype polyline\r\n",
       "skinparam monochrome true\r\n",
       "skinparam classbackgroundcolor white\r\n",
       "skinparam shadowing false\r\n",
       "skinparam wrapWidth 300\r\n",
       "hide circle\r\n",
       "\r\n",
       "package \"Q\" as E1  [[psysml:8fe83ee3-fcec-497a-a9db-5b3b84baea71 ]]  {\r\n",
       "comp usage \"f\" as E2  <<(T,blue)part>> [[psysml:c953ea8a-4e0b-4404-8471-1de142ee019c ]] {\r\n",
       "}\r\n",
       "comp usage \"a\" as E3  <<(T,blue)part>> [[psysml:c747f0dc-049c-42e5-8830-b905b214a6d2 ]] {\r\n",
       "}\r\n",
       "comp def \"C\" as E4  <<(T,blue)part def>> [[psysml:1d5dfbac-e0d0-4dae-a20f-d178674246aa ]] {\r\n",
       "}\r\n",
       "comp usage \"g\" as E5  <<(T,blue)part>> [[psysml:31443893-624e-4834-b51f-adb4e581d804 ]] {\r\n",
       "}\r\n",
       "E2 *- - E3 [[psysml:144a9ea2-c14f-46d2-8ece-b06edd35cf79 ]] \r\n",
       "E4 *- - E5 [[psysml:ffd50afc-9abd-4dce-afc7-dff7922af1b1 ]] \r\n",
       "}\r\n",
       "@enduml\r\n",
       "\n",
       "PlantUML version 1.2020.13(Sat Jun 13 12:26:38 UTC 2020)\n",
       "(EPL source distribution)\n",
       "Java Runtime: OpenJDK Runtime Environment\n",
       "JVM: OpenJDK 64-Bit Server VM\n",
       "Default Encoding: UTF-8\n",
       "Language: en\n",
       "Country: null\n",
       "--></g></svg>"
      ]
     },
     "execution_count": 14,
     "metadata": {},
     "output_type": "execute_result"
    }
   ],
   "source": [
    "%viz --style=\"POLYLINE\" --view=\"Sequence\" \"Q\""
   ]
  },
  {
   "cell_type": "code",
   "execution_count": 15,
   "id": "98b4ea62",
   "metadata": {
    "execution": {
     "iopub.execute_input": "2021-04-20T07:21:50.693711Z",
     "iopub.status.busy": "2021-04-20T07:21:50.693121Z",
     "iopub.status.idle": "2021-04-20T07:21:50.727690Z",
     "shell.execute_reply": "2021-04-20T07:21:50.726476Z"
    }
   },
   "outputs": [
    {
     "data": {
      "image/svg+xml": [
       "<?xml version=\"1.0\" encoding=\"UTF-8\" standalone=\"no\"?><svg xmlns=\"http://www.w3.org/2000/svg\" xmlns:xlink=\"http://www.w3.org/1999/xlink\" contentScriptType=\"application/ecmascript\" contentStyleType=\"text/css\" height=\"221px\" preserveAspectRatio=\"none\" style=\"width:213px;height:221px;\" version=\"1.1\" viewBox=\"0 0 213 221\" width=\"213px\" zoomAndPan=\"magnify\"><defs/><g><!--MD5=[fbc87193dbaf4d95561dea2c320d4a47]\n",
       "cluster E1--><a href=\"psysml:8fe83ee3-fcec-497a-a9db-5b3b84baea71\" target=\"_top\" title=\"psysml:8fe83ee3-fcec-497a-a9db-5b3b84baea71\" xlink:actuate=\"onRequest\" xlink:href=\"psysml:8fe83ee3-fcec-497a-a9db-5b3b84baea71\" xlink:show=\"new\" xlink:title=\"psysml:8fe83ee3-fcec-497a-a9db-5b3b84baea71\" xlink:type=\"simple\"><polygon fill=\"#FFFFFF\" points=\"16,6,34,6,41,28.2969,191,28.2969,191,209,16,209,16,6\" style=\"stroke: #000000; stroke-width: 1.5;\"/><line style=\"stroke: #000000; stroke-width: 1.5;\" x1=\"16\" x2=\"41\" y1=\"28.2969\" y2=\"28.2969\"/><text fill=\"#000000\" font-family=\"sans-serif\" font-size=\"14\" font-weight=\"bold\" lengthAdjust=\"spacingAndGlyphs\" textLength=\"12\" x=\"20\" y=\"20.9951\">Q</text></a><!--MD5=[b4997ac47864f28c2f74865a473b2911]\n",
       "class E2--><a href=\"psysml:c953ea8a-4e0b-4404-8471-1de142ee019c\" target=\"_top\" title=\"psysml:c953ea8a-4e0b-4404-8471-1de142ee019c\" xlink:actuate=\"onRequest\" xlink:href=\"psysml:c953ea8a-4e0b-4404-8471-1de142ee019c\" xlink:show=\"new\" xlink:title=\"psysml:c953ea8a-4e0b-4404-8471-1de142ee019c\" xlink:type=\"simple\"><rect fill=\"#FFFFFF\" height=\"45.9375\" id=\"E2\" rx=\"10\" ry=\"10\" style=\"stroke: #383838; stroke-width: 1.5;\" width=\"42\" x=\"133\" y=\"41\"/><text fill=\"#000000\" font-family=\"sans-serif\" font-size=\"12\" font-style=\"italic\" lengthAdjust=\"spacingAndGlyphs\" textLength=\"40\" x=\"134\" y=\"57.1387\">«part»</text><text fill=\"#000000\" font-family=\"sans-serif\" font-size=\"12\" lengthAdjust=\"spacingAndGlyphs\" textLength=\"4\" x=\"152\" y=\"71.1074\">f</text><line style=\"stroke: #383838; stroke-width: 1.5;\" x1=\"134\" x2=\"174\" y1=\"78.9375\" y2=\"78.9375\"/></a><!--MD5=[09b614a08d8cba4a07c9adeb5e0fee81]\n",
       "class E3--><a href=\"psysml:c747f0dc-049c-42e5-8830-b905b214a6d2\" target=\"_top\" title=\"psysml:c747f0dc-049c-42e5-8830-b905b214a6d2\" xlink:actuate=\"onRequest\" xlink:href=\"psysml:c747f0dc-049c-42e5-8830-b905b214a6d2\" xlink:show=\"new\" xlink:title=\"psysml:c747f0dc-049c-42e5-8830-b905b214a6d2\" xlink:type=\"simple\"><rect fill=\"#FFFFFF\" height=\"45.9375\" id=\"E3\" rx=\"10\" ry=\"10\" style=\"stroke: #383838; stroke-width: 1.5;\" width=\"42\" x=\"133\" y=\"147\"/><text fill=\"#000000\" font-family=\"sans-serif\" font-size=\"12\" font-style=\"italic\" lengthAdjust=\"spacingAndGlyphs\" textLength=\"40\" x=\"134\" y=\"163.1387\">«part»</text><text fill=\"#000000\" font-family=\"sans-serif\" font-size=\"12\" lengthAdjust=\"spacingAndGlyphs\" textLength=\"8\" x=\"150\" y=\"177.1074\">a</text><line style=\"stroke: #383838; stroke-width: 1.5;\" x1=\"134\" x2=\"174\" y1=\"184.9375\" y2=\"184.9375\"/></a><!--MD5=[ebbe1d658d1005bcc118a6aa81145e00]\n",
       "class E4--><a href=\"psysml:1d5dfbac-e0d0-4dae-a20f-d178674246aa\" target=\"_top\" title=\"psysml:1d5dfbac-e0d0-4dae-a20f-d178674246aa\" xlink:actuate=\"onRequest\" xlink:href=\"psysml:1d5dfbac-e0d0-4dae-a20f-d178674246aa\" xlink:show=\"new\" xlink:title=\"psysml:1d5dfbac-e0d0-4dae-a20f-d178674246aa\" xlink:type=\"simple\"><rect fill=\"#FFFFFF\" height=\"45.9375\" id=\"E4\" style=\"stroke: #383838; stroke-width: 1.5;\" width=\"66\" x=\"32\" y=\"41\"/><text fill=\"#000000\" font-family=\"sans-serif\" font-size=\"12\" font-style=\"italic\" lengthAdjust=\"spacingAndGlyphs\" textLength=\"64\" x=\"33\" y=\"57.1387\">«part def»</text><text fill=\"#000000\" font-family=\"sans-serif\" font-size=\"12\" lengthAdjust=\"spacingAndGlyphs\" textLength=\"8\" x=\"61\" y=\"71.1074\">C</text><line style=\"stroke: #383838; stroke-width: 1.5;\" x1=\"33\" x2=\"97\" y1=\"78.9375\" y2=\"78.9375\"/></a><!--MD5=[270fce915f116d4de14055a7c1d9a0f3]\n",
       "class E5--><a href=\"psysml:31443893-624e-4834-b51f-adb4e581d804\" target=\"_top\" title=\"psysml:31443893-624e-4834-b51f-adb4e581d804\" xlink:actuate=\"onRequest\" xlink:href=\"psysml:31443893-624e-4834-b51f-adb4e581d804\" xlink:show=\"new\" xlink:title=\"psysml:31443893-624e-4834-b51f-adb4e581d804\" xlink:type=\"simple\"><rect fill=\"#FFFFFF\" height=\"45.9375\" id=\"E5\" rx=\"10\" ry=\"10\" style=\"stroke: #383838; stroke-width: 1.5;\" width=\"42\" x=\"44\" y=\"147\"/><text fill=\"#000000\" font-family=\"sans-serif\" font-size=\"12\" font-style=\"italic\" lengthAdjust=\"spacingAndGlyphs\" textLength=\"40\" x=\"45\" y=\"163.1387\">«part»</text><text fill=\"#000000\" font-family=\"sans-serif\" font-size=\"12\" lengthAdjust=\"spacingAndGlyphs\" textLength=\"8\" x=\"61\" y=\"177.1074\">g</text><line style=\"stroke: #383838; stroke-width: 1.5;\" x1=\"45\" x2=\"85\" y1=\"184.9375\" y2=\"184.9375\"/></a><!--MD5=[209b3feb70ccb6233bfe1053d122c12c]\n",
       "reverse link E2 to E3--><a href=\"psysml:144a9ea2-c14f-46d2-8ece-b06edd35cf79\" target=\"_top\" title=\"psysml:144a9ea2-c14f-46d2-8ece-b06edd35cf79\" xlink:actuate=\"onRequest\" xlink:href=\"psysml:144a9ea2-c14f-46d2-8ece-b06edd35cf79\" xlink:show=\"new\" xlink:title=\"psysml:144a9ea2-c14f-46d2-8ece-b06edd35cf79\" xlink:type=\"simple\"><path d=\"M154,100.44 C154,115.87 154,133.47 154,146.98 \" fill=\"none\" id=\"E2&lt;-E3\" style=\"stroke: #383838; stroke-width: 1.0;\"/><polygon fill=\"#383838\" points=\"154,87.06,150,93.06,154,99.06,158,93.06,154,87.06\" style=\"stroke: #383838; stroke-width: 1.0;\"/></a><!--MD5=[62aa6af11e70f752912c1cb0466f24f7]\n",
       "reverse link E4 to E5--><a href=\"psysml:ffd50afc-9abd-4dce-afc7-dff7922af1b1\" target=\"_top\" title=\"psysml:ffd50afc-9abd-4dce-afc7-dff7922af1b1\" xlink:actuate=\"onRequest\" xlink:href=\"psysml:ffd50afc-9abd-4dce-afc7-dff7922af1b1\" xlink:show=\"new\" xlink:title=\"psysml:ffd50afc-9abd-4dce-afc7-dff7922af1b1\" xlink:type=\"simple\"><path d=\"M65,100.44 C65,115.87 65,133.47 65,146.98 \" fill=\"none\" id=\"E4&lt;-E5\" style=\"stroke: #383838; stroke-width: 1.0;\"/><polygon fill=\"#383838\" points=\"65,87.06,61,93.06,65,99.06,69,93.06,65,87.06\" style=\"stroke: #383838; stroke-width: 1.0;\"/></a><!--MD5=[abcb61d268255e522009cb111c6fc49c]\n",
       "@startuml\r\n",
       "skinparam linetype polyline\r\n",
       "skinparam monochrome true\r\n",
       "skinparam classbackgroundcolor white\r\n",
       "skinparam shadowing false\r\n",
       "skinparam wrapWidth 300\r\n",
       "hide circle\r\n",
       "\r\n",
       "package \"Q\" as E1  [[psysml:8fe83ee3-fcec-497a-a9db-5b3b84baea71 ]]  {\r\n",
       "comp usage \"f\" as E2  <<(T,blue)part>> [[psysml:c953ea8a-4e0b-4404-8471-1de142ee019c ]] {\r\n",
       "}\r\n",
       "comp usage \"a\" as E3  <<(T,blue)part>> [[psysml:c747f0dc-049c-42e5-8830-b905b214a6d2 ]] {\r\n",
       "}\r\n",
       "comp def \"C\" as E4  <<(T,blue)part def>> [[psysml:1d5dfbac-e0d0-4dae-a20f-d178674246aa ]] {\r\n",
       "}\r\n",
       "comp usage \"g\" as E5  <<(T,blue)part>> [[psysml:31443893-624e-4834-b51f-adb4e581d804 ]] {\r\n",
       "}\r\n",
       "E2 *- - E3 [[psysml:144a9ea2-c14f-46d2-8ece-b06edd35cf79 ]] \r\n",
       "E4 *- - E5 [[psysml:ffd50afc-9abd-4dce-afc7-dff7922af1b1 ]] \r\n",
       "}\r\n",
       "@enduml\r\n",
       "\n",
       "PlantUML version 1.2020.13(Sat Jun 13 12:26:38 UTC 2020)\n",
       "(EPL source distribution)\n",
       "Java Runtime: OpenJDK Runtime Environment\n",
       "JVM: OpenJDK 64-Bit Server VM\n",
       "Default Encoding: UTF-8\n",
       "Language: en\n",
       "Country: null\n",
       "--></g></svg>"
      ]
     },
     "execution_count": 15,
     "metadata": {},
     "output_type": "execute_result"
    }
   ],
   "source": [
    "%viz --style=\"POLYLINE\" --view=\"MIXED\" \"Q\""
   ]
  },
  {
   "cell_type": "code",
   "execution_count": 16,
   "id": "6de4f20e",
   "metadata": {
    "execution": {
     "iopub.execute_input": "2021-04-20T07:21:50.779110Z",
     "iopub.status.busy": "2021-04-20T07:21:50.778623Z",
     "iopub.status.idle": "2021-04-20T07:21:50.811963Z",
     "shell.execute_reply": "2021-04-20T07:21:50.811626Z"
    }
   },
   "outputs": [
    {
     "data": {
      "image/svg+xml": [
       "<?xml version=\"1.0\" encoding=\"UTF-8\" standalone=\"no\"?><svg xmlns=\"http://www.w3.org/2000/svg\" xmlns:xlink=\"http://www.w3.org/1999/xlink\" contentScriptType=\"application/ecmascript\" contentStyleType=\"text/css\" height=\"196px\" preserveAspectRatio=\"none\" style=\"width:238px;height:196px;\" version=\"1.1\" viewBox=\"0 0 238 196\" width=\"238px\" zoomAndPan=\"magnify\"><defs/><g><!--MD5=[fbc87193dbaf4d95561dea2c320d4a47]\n",
       "cluster E1--><a href=\"psysml:8fe83ee3-fcec-497a-a9db-5b3b84baea71\" target=\"_top\" title=\"psysml:8fe83ee3-fcec-497a-a9db-5b3b84baea71\" xlink:actuate=\"onRequest\" xlink:href=\"psysml:8fe83ee3-fcec-497a-a9db-5b3b84baea71\" xlink:show=\"new\" xlink:title=\"psysml:8fe83ee3-fcec-497a-a9db-5b3b84baea71\" xlink:type=\"simple\"><polygon fill=\"#FFFFFF\" points=\"16,6,34,6,41,28.2969,216,28.2969,216,184,16,184,16,6\" style=\"stroke: #000000; stroke-width: 1.5;\"/><line style=\"stroke: #000000; stroke-width: 1.5;\" x1=\"16\" x2=\"41\" y1=\"28.2969\" y2=\"28.2969\"/><text fill=\"#000000\" font-family=\"sans-serif\" font-size=\"14\" font-weight=\"bold\" lengthAdjust=\"spacingAndGlyphs\" textLength=\"12\" x=\"20\" y=\"20.9951\">Q</text></a><!--MD5=[b4997ac47864f28c2f74865a473b2911]\n",
       "class E2--><a href=\"psysml:c953ea8a-4e0b-4404-8471-1de142ee019c\" target=\"_top\" title=\"psysml:c953ea8a-4e0b-4404-8471-1de142ee019c\" xlink:actuate=\"onRequest\" xlink:href=\"psysml:c953ea8a-4e0b-4404-8471-1de142ee019c\" xlink:show=\"new\" xlink:title=\"psysml:c953ea8a-4e0b-4404-8471-1de142ee019c\" xlink:type=\"simple\"><rect fill=\"#FFFFFF\" height=\"45.9375\" id=\"E2\" rx=\"10\" ry=\"10\" style=\"stroke: #383838; stroke-width: 1.5;\" width=\"42\" x=\"44\" y=\"41\"/><text fill=\"#000000\" font-family=\"sans-serif\" font-size=\"12\" font-style=\"italic\" lengthAdjust=\"spacingAndGlyphs\" textLength=\"40\" x=\"45\" y=\"57.1387\">«part»</text><text fill=\"#000000\" font-family=\"sans-serif\" font-size=\"12\" lengthAdjust=\"spacingAndGlyphs\" textLength=\"4\" x=\"63\" y=\"71.1074\">f</text><line style=\"stroke: #383838; stroke-width: 1.5;\" x1=\"45\" x2=\"85\" y1=\"78.9375\" y2=\"78.9375\"/></a><!--MD5=[09b614a08d8cba4a07c9adeb5e0fee81]\n",
       "class E3--><a href=\"psysml:c747f0dc-049c-42e5-8830-b905b214a6d2\" target=\"_top\" title=\"psysml:c747f0dc-049c-42e5-8830-b905b214a6d2\" xlink:actuate=\"onRequest\" xlink:href=\"psysml:c747f0dc-049c-42e5-8830-b905b214a6d2\" xlink:show=\"new\" xlink:title=\"psysml:c747f0dc-049c-42e5-8830-b905b214a6d2\" xlink:type=\"simple\"><rect fill=\"#FFFFFF\" height=\"45.9375\" id=\"E3\" rx=\"10\" ry=\"10\" style=\"stroke: #383838; stroke-width: 1.5;\" width=\"42\" x=\"158\" y=\"41\"/><text fill=\"#000000\" font-family=\"sans-serif\" font-size=\"12\" font-style=\"italic\" lengthAdjust=\"spacingAndGlyphs\" textLength=\"40\" x=\"159\" y=\"57.1387\">«part»</text><text fill=\"#000000\" font-family=\"sans-serif\" font-size=\"12\" lengthAdjust=\"spacingAndGlyphs\" textLength=\"8\" x=\"175\" y=\"71.1074\">a</text><line style=\"stroke: #383838; stroke-width: 1.5;\" x1=\"159\" x2=\"199\" y1=\"78.9375\" y2=\"78.9375\"/></a><!--MD5=[ebbe1d658d1005bcc118a6aa81145e00]\n",
       "class E4--><a href=\"psysml:1d5dfbac-e0d0-4dae-a20f-d178674246aa\" target=\"_top\" title=\"psysml:1d5dfbac-e0d0-4dae-a20f-d178674246aa\" xlink:actuate=\"onRequest\" xlink:href=\"psysml:1d5dfbac-e0d0-4dae-a20f-d178674246aa\" xlink:show=\"new\" xlink:title=\"psysml:1d5dfbac-e0d0-4dae-a20f-d178674246aa\" xlink:type=\"simple\"><rect fill=\"#FFFFFF\" height=\"45.9375\" id=\"E4\" style=\"stroke: #383838; stroke-width: 1.5;\" width=\"66\" x=\"32\" y=\"122\"/><text fill=\"#000000\" font-family=\"sans-serif\" font-size=\"12\" font-style=\"italic\" lengthAdjust=\"spacingAndGlyphs\" textLength=\"64\" x=\"33\" y=\"138.1387\">«part def»</text><text fill=\"#000000\" font-family=\"sans-serif\" font-size=\"12\" lengthAdjust=\"spacingAndGlyphs\" textLength=\"8\" x=\"61\" y=\"152.1074\">C</text><line style=\"stroke: #383838; stroke-width: 1.5;\" x1=\"33\" x2=\"97\" y1=\"159.9375\" y2=\"159.9375\"/></a><!--MD5=[270fce915f116d4de14055a7c1d9a0f3]\n",
       "class E5--><a href=\"psysml:31443893-624e-4834-b51f-adb4e581d804\" target=\"_top\" title=\"psysml:31443893-624e-4834-b51f-adb4e581d804\" xlink:actuate=\"onRequest\" xlink:href=\"psysml:31443893-624e-4834-b51f-adb4e581d804\" xlink:show=\"new\" xlink:title=\"psysml:31443893-624e-4834-b51f-adb4e581d804\" xlink:type=\"simple\"><rect fill=\"#FFFFFF\" height=\"45.9375\" id=\"E5\" rx=\"10\" ry=\"10\" style=\"stroke: #383838; stroke-width: 1.5;\" width=\"42\" x=\"158\" y=\"122\"/><text fill=\"#000000\" font-family=\"sans-serif\" font-size=\"12\" font-style=\"italic\" lengthAdjust=\"spacingAndGlyphs\" textLength=\"40\" x=\"159\" y=\"138.1387\">«part»</text><text fill=\"#000000\" font-family=\"sans-serif\" font-size=\"12\" lengthAdjust=\"spacingAndGlyphs\" textLength=\"8\" x=\"175\" y=\"152.1074\">g</text><line style=\"stroke: #383838; stroke-width: 1.5;\" x1=\"159\" x2=\"199\" y1=\"159.9375\" y2=\"159.9375\"/></a><!--MD5=[209b3feb70ccb6233bfe1053d122c12c]\n",
       "reverse link E2 to E3--><a href=\"psysml:144a9ea2-c14f-46d2-8ece-b06edd35cf79\" target=\"_top\" title=\"psysml:144a9ea2-c14f-46d2-8ece-b06edd35cf79\" xlink:actuate=\"onRequest\" xlink:href=\"psysml:144a9ea2-c14f-46d2-8ece-b06edd35cf79\" xlink:show=\"new\" xlink:title=\"psysml:144a9ea2-c14f-46d2-8ece-b06edd35cf79\" xlink:type=\"simple\"><path d=\"M99.26,64 C118.27,64 141.49,64 157.77,64 \" fill=\"none\" id=\"E2&lt;-E3\" style=\"stroke: #383838; stroke-width: 1.0;\"/><polygon fill=\"#383838\" points=\"86.02,64,92.02,68,98.02,64,92.02,60,86.02,64\" style=\"stroke: #383838; stroke-width: 1.0;\"/></a><!--MD5=[62aa6af11e70f752912c1cb0466f24f7]\n",
       "reverse link E4 to E5--><a href=\"psysml:ffd50afc-9abd-4dce-afc7-dff7922af1b1\" target=\"_top\" title=\"psysml:ffd50afc-9abd-4dce-afc7-dff7922af1b1\" xlink:actuate=\"onRequest\" xlink:href=\"psysml:ffd50afc-9abd-4dce-afc7-dff7922af1b1\" xlink:show=\"new\" xlink:title=\"psysml:ffd50afc-9abd-4dce-afc7-dff7922af1b1\" xlink:type=\"simple\"><path d=\"M111.28,145 C127.47,145 144.9,145 157.89,145 \" fill=\"none\" id=\"E4&lt;-E5\" style=\"stroke: #383838; stroke-width: 1.0;\"/><polygon fill=\"#383838\" points=\"98.09,145,104.09,149,110.09,145,104.09,141,98.09,145\" style=\"stroke: #383838; stroke-width: 1.0;\"/></a><!--MD5=[a02e2fc394d887a3c3c12dfeec8c48c7]\n",
       "@startuml\r\n",
       "left to right direction\r\n",
       "skinparam monochrome true\r\n",
       "skinparam classbackgroundcolor white\r\n",
       "skinparam shadowing false\r\n",
       "skinparam wrapWidth 300\r\n",
       "hide circle\r\n",
       "\r\n",
       "package \"Q\" as E1  [[psysml:8fe83ee3-fcec-497a-a9db-5b3b84baea71 ]]  {\r\n",
       "comp usage \"f\" as E2  <<(T,blue)part>> [[psysml:c953ea8a-4e0b-4404-8471-1de142ee019c ]] {\r\n",
       "}\r\n",
       "comp usage \"a\" as E3  <<(T,blue)part>> [[psysml:c747f0dc-049c-42e5-8830-b905b214a6d2 ]] {\r\n",
       "}\r\n",
       "comp def \"C\" as E4  <<(T,blue)part def>> [[psysml:1d5dfbac-e0d0-4dae-a20f-d178674246aa ]] {\r\n",
       "}\r\n",
       "comp usage \"g\" as E5  <<(T,blue)part>> [[psysml:31443893-624e-4834-b51f-adb4e581d804 ]] {\r\n",
       "}\r\n",
       "E2 *- - E3 [[psysml:144a9ea2-c14f-46d2-8ece-b06edd35cf79 ]] \r\n",
       "E4 *- - E5 [[psysml:ffd50afc-9abd-4dce-afc7-dff7922af1b1 ]] \r\n",
       "}\r\n",
       "@enduml\r\n",
       "\n",
       "PlantUML version 1.2020.13(Sat Jun 13 12:26:38 UTC 2020)\n",
       "(EPL source distribution)\n",
       "Java Runtime: OpenJDK Runtime Environment\n",
       "JVM: OpenJDK 64-Bit Server VM\n",
       "Default Encoding: UTF-8\n",
       "Language: en\n",
       "Country: null\n",
       "--></g></svg>"
      ]
     },
     "execution_count": 16,
     "metadata": {},
     "output_type": "execute_result"
    }
   ],
   "source": [
    "%viz --style=\"LR\" --view=\"Default\" \"Q\""
   ]
  },
  {
   "cell_type": "code",
   "execution_count": 17,
   "id": "cdfc568c",
   "metadata": {
    "execution": {
     "iopub.execute_input": "2021-04-20T07:21:50.862999Z",
     "iopub.status.busy": "2021-04-20T07:21:50.862493Z",
     "iopub.status.idle": "2021-04-20T07:21:50.895500Z",
     "shell.execute_reply": "2021-04-20T07:21:50.895156Z"
    }
   },
   "outputs": [
    {
     "data": {
      "image/svg+xml": [
       "<?xml version=\"1.0\" encoding=\"UTF-8\" standalone=\"no\"?><svg xmlns=\"http://www.w3.org/2000/svg\" xmlns:xlink=\"http://www.w3.org/1999/xlink\" contentScriptType=\"application/ecmascript\" contentStyleType=\"text/css\" height=\"196px\" preserveAspectRatio=\"none\" style=\"width:238px;height:196px;\" version=\"1.1\" viewBox=\"0 0 238 196\" width=\"238px\" zoomAndPan=\"magnify\"><defs/><g><!--MD5=[fbc87193dbaf4d95561dea2c320d4a47]\n",
       "cluster E1--><a href=\"psysml:8fe83ee3-fcec-497a-a9db-5b3b84baea71\" target=\"_top\" title=\"psysml:8fe83ee3-fcec-497a-a9db-5b3b84baea71\" xlink:actuate=\"onRequest\" xlink:href=\"psysml:8fe83ee3-fcec-497a-a9db-5b3b84baea71\" xlink:show=\"new\" xlink:title=\"psysml:8fe83ee3-fcec-497a-a9db-5b3b84baea71\" xlink:type=\"simple\"><polygon fill=\"#FFFFFF\" points=\"16,6,34,6,41,28.2969,216,28.2969,216,184,16,184,16,6\" style=\"stroke: #000000; stroke-width: 1.5;\"/><line style=\"stroke: #000000; stroke-width: 1.5;\" x1=\"16\" x2=\"41\" y1=\"28.2969\" y2=\"28.2969\"/><text fill=\"#000000\" font-family=\"sans-serif\" font-size=\"14\" font-weight=\"bold\" lengthAdjust=\"spacingAndGlyphs\" textLength=\"12\" x=\"20\" y=\"20.9951\">Q</text></a><!--MD5=[b4997ac47864f28c2f74865a473b2911]\n",
       "class E2--><a href=\"psysml:c953ea8a-4e0b-4404-8471-1de142ee019c\" target=\"_top\" title=\"psysml:c953ea8a-4e0b-4404-8471-1de142ee019c\" xlink:actuate=\"onRequest\" xlink:href=\"psysml:c953ea8a-4e0b-4404-8471-1de142ee019c\" xlink:show=\"new\" xlink:title=\"psysml:c953ea8a-4e0b-4404-8471-1de142ee019c\" xlink:type=\"simple\"><rect fill=\"#FFFFFF\" height=\"45.9375\" id=\"E2\" rx=\"10\" ry=\"10\" style=\"stroke: #383838; stroke-width: 1.5;\" width=\"42\" x=\"44\" y=\"41\"/><text fill=\"#000000\" font-family=\"sans-serif\" font-size=\"12\" font-style=\"italic\" lengthAdjust=\"spacingAndGlyphs\" textLength=\"40\" x=\"45\" y=\"57.1387\">«part»</text><text fill=\"#000000\" font-family=\"sans-serif\" font-size=\"12\" lengthAdjust=\"spacingAndGlyphs\" textLength=\"4\" x=\"63\" y=\"71.1074\">f</text><line style=\"stroke: #383838; stroke-width: 1.5;\" x1=\"45\" x2=\"85\" y1=\"78.9375\" y2=\"78.9375\"/></a><!--MD5=[09b614a08d8cba4a07c9adeb5e0fee81]\n",
       "class E3--><a href=\"psysml:c747f0dc-049c-42e5-8830-b905b214a6d2\" target=\"_top\" title=\"psysml:c747f0dc-049c-42e5-8830-b905b214a6d2\" xlink:actuate=\"onRequest\" xlink:href=\"psysml:c747f0dc-049c-42e5-8830-b905b214a6d2\" xlink:show=\"new\" xlink:title=\"psysml:c747f0dc-049c-42e5-8830-b905b214a6d2\" xlink:type=\"simple\"><rect fill=\"#FFFFFF\" height=\"45.9375\" id=\"E3\" rx=\"10\" ry=\"10\" style=\"stroke: #383838; stroke-width: 1.5;\" width=\"42\" x=\"158\" y=\"41\"/><text fill=\"#000000\" font-family=\"sans-serif\" font-size=\"12\" font-style=\"italic\" lengthAdjust=\"spacingAndGlyphs\" textLength=\"40\" x=\"159\" y=\"57.1387\">«part»</text><text fill=\"#000000\" font-family=\"sans-serif\" font-size=\"12\" lengthAdjust=\"spacingAndGlyphs\" textLength=\"8\" x=\"175\" y=\"71.1074\">a</text><line style=\"stroke: #383838; stroke-width: 1.5;\" x1=\"159\" x2=\"199\" y1=\"78.9375\" y2=\"78.9375\"/></a><!--MD5=[ebbe1d658d1005bcc118a6aa81145e00]\n",
       "class E4--><a href=\"psysml:1d5dfbac-e0d0-4dae-a20f-d178674246aa\" target=\"_top\" title=\"psysml:1d5dfbac-e0d0-4dae-a20f-d178674246aa\" xlink:actuate=\"onRequest\" xlink:href=\"psysml:1d5dfbac-e0d0-4dae-a20f-d178674246aa\" xlink:show=\"new\" xlink:title=\"psysml:1d5dfbac-e0d0-4dae-a20f-d178674246aa\" xlink:type=\"simple\"><rect fill=\"#FFFFFF\" height=\"45.9375\" id=\"E4\" style=\"stroke: #383838; stroke-width: 1.5;\" width=\"66\" x=\"32\" y=\"122\"/><text fill=\"#000000\" font-family=\"sans-serif\" font-size=\"12\" font-style=\"italic\" lengthAdjust=\"spacingAndGlyphs\" textLength=\"64\" x=\"33\" y=\"138.1387\">«part def»</text><text fill=\"#000000\" font-family=\"sans-serif\" font-size=\"12\" lengthAdjust=\"spacingAndGlyphs\" textLength=\"8\" x=\"61\" y=\"152.1074\">C</text><line style=\"stroke: #383838; stroke-width: 1.5;\" x1=\"33\" x2=\"97\" y1=\"159.9375\" y2=\"159.9375\"/></a><!--MD5=[270fce915f116d4de14055a7c1d9a0f3]\n",
       "class E5--><a href=\"psysml:31443893-624e-4834-b51f-adb4e581d804\" target=\"_top\" title=\"psysml:31443893-624e-4834-b51f-adb4e581d804\" xlink:actuate=\"onRequest\" xlink:href=\"psysml:31443893-624e-4834-b51f-adb4e581d804\" xlink:show=\"new\" xlink:title=\"psysml:31443893-624e-4834-b51f-adb4e581d804\" xlink:type=\"simple\"><rect fill=\"#FFFFFF\" height=\"45.9375\" id=\"E5\" rx=\"10\" ry=\"10\" style=\"stroke: #383838; stroke-width: 1.5;\" width=\"42\" x=\"158\" y=\"122\"/><text fill=\"#000000\" font-family=\"sans-serif\" font-size=\"12\" font-style=\"italic\" lengthAdjust=\"spacingAndGlyphs\" textLength=\"40\" x=\"159\" y=\"138.1387\">«part»</text><text fill=\"#000000\" font-family=\"sans-serif\" font-size=\"12\" lengthAdjust=\"spacingAndGlyphs\" textLength=\"8\" x=\"175\" y=\"152.1074\">g</text><line style=\"stroke: #383838; stroke-width: 1.5;\" x1=\"159\" x2=\"199\" y1=\"159.9375\" y2=\"159.9375\"/></a><!--MD5=[209b3feb70ccb6233bfe1053d122c12c]\n",
       "reverse link E2 to E3--><a href=\"psysml:144a9ea2-c14f-46d2-8ece-b06edd35cf79\" target=\"_top\" title=\"psysml:144a9ea2-c14f-46d2-8ece-b06edd35cf79\" xlink:actuate=\"onRequest\" xlink:href=\"psysml:144a9ea2-c14f-46d2-8ece-b06edd35cf79\" xlink:show=\"new\" xlink:title=\"psysml:144a9ea2-c14f-46d2-8ece-b06edd35cf79\" xlink:type=\"simple\"><path d=\"M99.26,64 C118.27,64 141.49,64 157.77,64 \" fill=\"none\" id=\"E2&lt;-E3\" style=\"stroke: #383838; stroke-width: 1.0;\"/><polygon fill=\"#383838\" points=\"86.02,64,92.02,68,98.02,64,92.02,60,86.02,64\" style=\"stroke: #383838; stroke-width: 1.0;\"/></a><!--MD5=[62aa6af11e70f752912c1cb0466f24f7]\n",
       "reverse link E4 to E5--><a href=\"psysml:ffd50afc-9abd-4dce-afc7-dff7922af1b1\" target=\"_top\" title=\"psysml:ffd50afc-9abd-4dce-afc7-dff7922af1b1\" xlink:actuate=\"onRequest\" xlink:href=\"psysml:ffd50afc-9abd-4dce-afc7-dff7922af1b1\" xlink:show=\"new\" xlink:title=\"psysml:ffd50afc-9abd-4dce-afc7-dff7922af1b1\" xlink:type=\"simple\"><path d=\"M111.28,145 C127.47,145 144.9,145 157.89,145 \" fill=\"none\" id=\"E4&lt;-E5\" style=\"stroke: #383838; stroke-width: 1.0;\"/><polygon fill=\"#383838\" points=\"98.09,145,104.09,149,110.09,145,104.09,141,98.09,145\" style=\"stroke: #383838; stroke-width: 1.0;\"/></a><!--MD5=[a02e2fc394d887a3c3c12dfeec8c48c7]\n",
       "@startuml\r\n",
       "left to right direction\r\n",
       "skinparam monochrome true\r\n",
       "skinparam classbackgroundcolor white\r\n",
       "skinparam shadowing false\r\n",
       "skinparam wrapWidth 300\r\n",
       "hide circle\r\n",
       "\r\n",
       "package \"Q\" as E1  [[psysml:8fe83ee3-fcec-497a-a9db-5b3b84baea71 ]]  {\r\n",
       "comp usage \"f\" as E2  <<(T,blue)part>> [[psysml:c953ea8a-4e0b-4404-8471-1de142ee019c ]] {\r\n",
       "}\r\n",
       "comp usage \"a\" as E3  <<(T,blue)part>> [[psysml:c747f0dc-049c-42e5-8830-b905b214a6d2 ]] {\r\n",
       "}\r\n",
       "comp def \"C\" as E4  <<(T,blue)part def>> [[psysml:1d5dfbac-e0d0-4dae-a20f-d178674246aa ]] {\r\n",
       "}\r\n",
       "comp usage \"g\" as E5  <<(T,blue)part>> [[psysml:31443893-624e-4834-b51f-adb4e581d804 ]] {\r\n",
       "}\r\n",
       "E2 *- - E3 [[psysml:144a9ea2-c14f-46d2-8ece-b06edd35cf79 ]] \r\n",
       "E4 *- - E5 [[psysml:ffd50afc-9abd-4dce-afc7-dff7922af1b1 ]] \r\n",
       "}\r\n",
       "@enduml\r\n",
       "\n",
       "PlantUML version 1.2020.13(Sat Jun 13 12:26:38 UTC 2020)\n",
       "(EPL source distribution)\n",
       "Java Runtime: OpenJDK Runtime Environment\n",
       "JVM: OpenJDK 64-Bit Server VM\n",
       "Default Encoding: UTF-8\n",
       "Language: en\n",
       "Country: null\n",
       "--></g></svg>"
      ]
     },
     "execution_count": 17,
     "metadata": {},
     "output_type": "execute_result"
    }
   ],
   "source": [
    "%viz --style=\"LR\" --view=\"Tree\" \"Q\""
   ]
  },
  {
   "cell_type": "code",
   "execution_count": 18,
   "id": "04ff6255",
   "metadata": {
    "execution": {
     "iopub.execute_input": "2021-04-20T07:21:50.946576Z",
     "iopub.status.busy": "2021-04-20T07:21:50.946141Z",
     "iopub.status.idle": "2021-04-20T07:21:50.952207Z",
     "shell.execute_reply": "2021-04-20T07:21:50.951903Z"
    }
   },
   "outputs": [
    {
     "data": {
      "image/svg+xml": [
       "<?xml version=\"1.0\" encoding=\"UTF-8\" standalone=\"no\"?><svg xmlns=\"http://www.w3.org/2000/svg\" xmlns:xlink=\"http://www.w3.org/1999/xlink\" contentScriptType=\"application/ecmascript\" contentStyleType=\"text/css\" height=\"12px\" preserveAspectRatio=\"none\" style=\"width:12px;height:12px;\" version=\"1.1\" viewBox=\"0 0 12 12\" width=\"12px\" zoomAndPan=\"magnify\"><defs/><g><!--MD5=[19d285c9d72a204eba4e2cd117d745e8]\n",
       "@startuml\r\n",
       "left to right direction\r\n",
       "skinparam monochrome true\r\n",
       "skinparam classbackgroundcolor white\r\n",
       "skinparam shadowing false\r\n",
       "skinparam wrapWidth 300\r\n",
       "hide circle\r\n",
       "\r\n",
       "@enduml\r\n",
       "\n",
       "PlantUML version 1.2020.13(Sat Jun 13 12:26:38 UTC 2020)\n",
       "(EPL source distribution)\n",
       "Java Runtime: OpenJDK Runtime Environment\n",
       "JVM: OpenJDK 64-Bit Server VM\n",
       "Default Encoding: UTF-8\n",
       "Language: en\n",
       "Country: null\n",
       "--></g></svg>"
      ]
     },
     "execution_count": 18,
     "metadata": {},
     "output_type": "execute_result"
    }
   ],
   "source": [
    "%viz --style=\"LR\" --view=\"State\" \"Q\""
   ]
  },
  {
   "cell_type": "code",
   "execution_count": 19,
   "id": "136ba302",
   "metadata": {
    "execution": {
     "iopub.execute_input": "2021-04-20T07:21:51.003215Z",
     "iopub.status.busy": "2021-04-20T07:21:51.002836Z",
     "iopub.status.idle": "2021-04-20T07:21:51.053558Z",
     "shell.execute_reply": "2021-04-20T07:21:51.052560Z"
    }
   },
   "outputs": [
    {
     "data": {
      "image/svg+xml": [
       "<?xml version=\"1.0\" encoding=\"UTF-8\" standalone=\"no\"?><svg xmlns=\"http://www.w3.org/2000/svg\" xmlns:xlink=\"http://www.w3.org/1999/xlink\" contentScriptType=\"application/ecmascript\" contentStyleType=\"text/css\" height=\"307px\" preserveAspectRatio=\"none\" style=\"width:179px;height:307px;\" version=\"1.1\" viewBox=\"0 0 179 307\" width=\"179px\" zoomAndPan=\"magnify\"><defs/><g><!--MD5=[fbc87193dbaf4d95561dea2c320d4a47]\n",
       "cluster E1--><a href=\"psysml:8fe83ee3-fcec-497a-a9db-5b3b84baea71\" target=\"_top\" title=\"psysml:8fe83ee3-fcec-497a-a9db-5b3b84baea71\" xlink:actuate=\"onRequest\" xlink:href=\"psysml:8fe83ee3-fcec-497a-a9db-5b3b84baea71\" xlink:show=\"new\" xlink:title=\"psysml:8fe83ee3-fcec-497a-a9db-5b3b84baea71\" xlink:type=\"simple\"><polygon fill=\"#FFFFFF\" points=\"16,6,34,6,41,28.2969,157,28.2969,157,295,16,295,16,6\" style=\"stroke: #000000; stroke-width: 1.5;\"/><line style=\"stroke: #000000; stroke-width: 1.5;\" x1=\"16\" x2=\"41\" y1=\"28.2969\" y2=\"28.2969\"/><text fill=\"#000000\" font-family=\"sans-serif\" font-size=\"14\" font-weight=\"bold\" lengthAdjust=\"spacingAndGlyphs\" textLength=\"12\" x=\"20\" y=\"20.9951\">Q</text></a><!--MD5=[e4f7fae6ed58524ba242bb0b0d3be6b7]\n",
       "cluster E2--><a href=\"psysml:c953ea8a-4e0b-4404-8471-1de142ee019c\" target=\"_top\" title=\"psysml:c953ea8a-4e0b-4404-8471-1de142ee019c\" xlink:actuate=\"onRequest\" xlink:href=\"psysml:c953ea8a-4e0b-4404-8471-1de142ee019c\" xlink:show=\"new\" xlink:title=\"psysml:c953ea8a-4e0b-4404-8471-1de142ee019c\" xlink:type=\"simple\"><rect fill=\"#FFFFFF\" height=\"91\" id=\"E2\" rx=\"10\" ry=\"10\" style=\"stroke: #383838; stroke-width: 1.5;\" width=\"82\" x=\"45.5\" y=\"49\"/><rect fill=\"#F8F8F8\" height=\"23.9688\" rx=\"10\" ry=\"10\" style=\"stroke: #F8F8F8; stroke-width: 1.5;\" width=\"82\" x=\"45.5\" y=\"49\"/><rect fill=\"#F8F8F8\" height=\"10\" style=\"stroke: #F8F8F8; stroke-width: 1.5;\" width=\"82\" x=\"45.5\" y=\"62.9688\"/><rect fill=\"none\" height=\"91\" id=\"E2\" rx=\"10\" ry=\"10\" style=\"stroke: #383838; stroke-width: 1.5;\" width=\"82\" x=\"45.5\" y=\"49\"/><text fill=\"#000000\" font-family=\"sans-serif\" font-size=\"12\" lengthAdjust=\"spacingAndGlyphs\" textLength=\"4\" x=\"84.5\" y=\"65.1387\">f</text><line style=\"stroke: #383838; stroke-width: 1.0;\" x1=\"45.5\" x2=\"127.5\" y1=\"72.9688\" y2=\"72.9688\"/></a><!--MD5=[f6df4d0ebaf0b5dfb2ced0ae5af7c670]\n",
       "cluster E4--><a href=\"psysml:1d5dfbac-e0d0-4dae-a20f-d178674246aa\" target=\"_top\" title=\"psysml:1d5dfbac-e0d0-4dae-a20f-d178674246aa\" xlink:actuate=\"onRequest\" xlink:href=\"psysml:1d5dfbac-e0d0-4dae-a20f-d178674246aa\" xlink:show=\"new\" xlink:title=\"psysml:1d5dfbac-e0d0-4dae-a20f-d178674246aa\" xlink:type=\"simple\"><rect fill=\"#FFFFFF\" height=\"107\" id=\"E4\" style=\"stroke: #383838; stroke-width: 1.5;\" width=\"93\" x=\"40\" y=\"164\"/><rect fill=\"#F8F8F8\" height=\"37.9375\" style=\"stroke: #383838; stroke-width: 1.5;\" width=\"93\" x=\"40\" y=\"164\"/><text fill=\"#000000\" font-family=\"sans-serif\" font-size=\"12\" font-style=\"italic\" lengthAdjust=\"spacingAndGlyphs\" textLength=\"64\" x=\"54.5\" y=\"180.1387\">«part def»</text><text fill=\"#000000\" font-family=\"sans-serif\" font-size=\"12\" lengthAdjust=\"spacingAndGlyphs\" textLength=\"8\" x=\"82.5\" y=\"194.1074\">C</text></a><g id=\"E1.E2.E3\"><a href=\"psysml:c747f0dc-049c-42e5-8830-b905b214a6d2\" target=\"_top\" title=\"psysml:c747f0dc-049c-42e5-8830-b905b214a6d2\" xlink:actuate=\"onRequest\" xlink:href=\"psysml:c747f0dc-049c-42e5-8830-b905b214a6d2\" xlink:show=\"new\" xlink:title=\"psysml:c747f0dc-049c-42e5-8830-b905b214a6d2\" xlink:type=\"simple\"><rect fill=\"#FFFFFF\" height=\"40\" id=\"E3\" rx=\"10\" ry=\"10\" style=\"stroke: #383838; stroke-width: 1.5;\" width=\"50\" x=\"61.5\" y=\"84\"/><rect fill=\"#F8F8F8\" height=\"23.9688\" rx=\"10\" ry=\"10\" style=\"stroke: #F8F8F8; stroke-width: 1.5;\" width=\"50\" x=\"61.5\" y=\"84\"/><rect fill=\"#F8F8F8\" height=\"10\" style=\"stroke: #F8F8F8; stroke-width: 1.5;\" width=\"50\" x=\"61.5\" y=\"97.9688\"/><rect fill=\"none\" height=\"40\" id=\"E3\" rx=\"10\" ry=\"10\" style=\"stroke: #383838; stroke-width: 1.5;\" width=\"50\" x=\"61.5\" y=\"84\"/><text fill=\"#000000\" font-family=\"sans-serif\" font-size=\"12\" lengthAdjust=\"spacingAndGlyphs\" textLength=\"8\" x=\"82.5\" y=\"100.1387\">a</text></a></g><g id=\"E1.E4.E5\"><a href=\"psysml:31443893-624e-4834-b51f-adb4e581d804\" target=\"_top\" title=\"psysml:31443893-624e-4834-b51f-adb4e581d804\" xlink:actuate=\"onRequest\" xlink:href=\"psysml:31443893-624e-4834-b51f-adb4e581d804\" xlink:show=\"new\" xlink:title=\"psysml:31443893-624e-4834-b51f-adb4e581d804\" xlink:type=\"simple\"><rect fill=\"#FFFFFF\" height=\"40\" id=\"E5\" rx=\"10\" ry=\"10\" style=\"stroke: #383838; stroke-width: 1.5;\" width=\"61\" x=\"56\" y=\"215\"/><rect fill=\"#F8F8F8\" height=\"23.9688\" rx=\"10\" ry=\"10\" style=\"stroke: #F8F8F8; stroke-width: 1.5;\" width=\"61\" x=\"56\" y=\"215\"/><rect fill=\"#F8F8F8\" height=\"10\" style=\"stroke: #F8F8F8; stroke-width: 1.5;\" width=\"61\" x=\"56\" y=\"228.9688\"/><rect fill=\"none\" height=\"40\" id=\"E5\" rx=\"10\" ry=\"10\" style=\"stroke: #383838; stroke-width: 1.5;\" width=\"61\" x=\"56\" y=\"215\"/><text fill=\"#000000\" font-family=\"sans-serif\" font-size=\"12\" lengthAdjust=\"spacingAndGlyphs\" textLength=\"46\" x=\"61.5\" y=\"231.1387\">g=./f/a;</text></a></g><!--MD5=[e241b25e2ae32adee2e9c3cca3a449de]\n",
       "@startuml\r\n",
       "skinparam ranksep 10\r\n",
       "skinparam rectangle {\r\n",
       " backgroundColor<<block>> LightGreen\r\n",
       "}\r\n",
       "left to right direction\r\n",
       "skinparam monochrome true\r\n",
       "skinparam classbackgroundcolor white\r\n",
       "skinparam shadowing false\r\n",
       "skinparam wrapWidth 300\r\n",
       "hide circle\r\n",
       "\r\n",
       "package \"Q\" as E1  [[psysml:8fe83ee3-fcec-497a-a9db-5b3b84baea71 ]]  {\r\n",
       "rec usage \"f\" as E2  [[psysml:c953ea8a-4e0b-4404-8471-1de142ee019c ]] {\r\n",
       "rec usage \"a\" as E3  [[psysml:c747f0dc-049c-42e5-8830-b905b214a6d2 ]] {\r\n",
       "}\r\n",
       "}\r\n",
       "rec def \"C\" as E4  <<(T,blue)part def>> [[psysml:1d5dfbac-e0d0-4dae-a20f-d178674246aa ]] {\r\n",
       "rec usage \"g=./f/a; \" as E5  [[psysml:31443893-624e-4834-b51f-adb4e581d804 ]] {\r\n",
       "}\r\n",
       "}\r\n",
       "}\r\n",
       "@enduml\r\n",
       "\n",
       "PlantUML version 1.2020.13(Sat Jun 13 12:26:38 UTC 2020)\n",
       "(EPL source distribution)\n",
       "Java Runtime: OpenJDK Runtime Environment\n",
       "JVM: OpenJDK 64-Bit Server VM\n",
       "Default Encoding: UTF-8\n",
       "Language: en\n",
       "Country: null\n",
       "--></g></svg>"
      ]
     },
     "execution_count": 19,
     "metadata": {},
     "output_type": "execute_result"
    }
   ],
   "source": [
    "%viz --style=\"LR\" --view=\"Interconnection\" \"Q\""
   ]
  },
  {
   "cell_type": "code",
   "execution_count": 20,
   "id": "cb7601d7",
   "metadata": {
    "execution": {
     "iopub.execute_input": "2021-04-20T07:21:51.107611Z",
     "iopub.status.busy": "2021-04-20T07:21:51.106443Z",
     "iopub.status.idle": "2021-04-20T07:21:51.127562Z",
     "shell.execute_reply": "2021-04-20T07:21:51.126299Z"
    }
   },
   "outputs": [
    {
     "data": {
      "image/svg+xml": [
       "<?xml version=\"1.0\" encoding=\"UTF-8\" standalone=\"no\"?><svg xmlns=\"http://www.w3.org/2000/svg\" xmlns:xlink=\"http://www.w3.org/1999/xlink\" contentScriptType=\"application/ecmascript\" contentStyleType=\"text/css\" height=\"12px\" preserveAspectRatio=\"none\" style=\"width:12px;height:12px;\" version=\"1.1\" viewBox=\"0 0 12 12\" width=\"12px\" zoomAndPan=\"magnify\"><defs/><g><!--MD5=[7aeb398939421629f6affaa4a1a7b125]\n",
       "@startuml\r\n",
       "skinparam ranksep 8\r\n",
       "left to right direction\r\n",
       "skinparam monochrome true\r\n",
       "skinparam classbackgroundcolor white\r\n",
       "skinparam shadowing false\r\n",
       "skinparam wrapWidth 300\r\n",
       "hide circle\r\n",
       "\r\n",
       "@enduml\r\n",
       "\n",
       "PlantUML version 1.2020.13(Sat Jun 13 12:26:38 UTC 2020)\n",
       "(EPL source distribution)\n",
       "Java Runtime: OpenJDK Runtime Environment\n",
       "JVM: OpenJDK 64-Bit Server VM\n",
       "Default Encoding: UTF-8\n",
       "Language: en\n",
       "Country: null\n",
       "--></g></svg>"
      ]
     },
     "execution_count": 20,
     "metadata": {},
     "output_type": "execute_result"
    }
   ],
   "source": [
    "%viz --style=\"LR\" --view=\"Action\" \"Q\""
   ]
  },
  {
   "cell_type": "code",
   "execution_count": 21,
   "id": "412b8c29",
   "metadata": {
    "execution": {
     "iopub.execute_input": "2021-04-20T07:21:51.180126Z",
     "iopub.status.busy": "2021-04-20T07:21:51.179033Z",
     "iopub.status.idle": "2021-04-20T07:21:51.211002Z",
     "shell.execute_reply": "2021-04-20T07:21:51.209092Z"
    }
   },
   "outputs": [
    {
     "data": {
      "image/svg+xml": [
       "<?xml version=\"1.0\" encoding=\"UTF-8\" standalone=\"no\"?><svg xmlns=\"http://www.w3.org/2000/svg\" xmlns:xlink=\"http://www.w3.org/1999/xlink\" contentScriptType=\"application/ecmascript\" contentStyleType=\"text/css\" height=\"196px\" preserveAspectRatio=\"none\" style=\"width:238px;height:196px;\" version=\"1.1\" viewBox=\"0 0 238 196\" width=\"238px\" zoomAndPan=\"magnify\"><defs/><g><!--MD5=[fbc87193dbaf4d95561dea2c320d4a47]\n",
       "cluster E1--><a href=\"psysml:8fe83ee3-fcec-497a-a9db-5b3b84baea71\" target=\"_top\" title=\"psysml:8fe83ee3-fcec-497a-a9db-5b3b84baea71\" xlink:actuate=\"onRequest\" xlink:href=\"psysml:8fe83ee3-fcec-497a-a9db-5b3b84baea71\" xlink:show=\"new\" xlink:title=\"psysml:8fe83ee3-fcec-497a-a9db-5b3b84baea71\" xlink:type=\"simple\"><polygon fill=\"#FFFFFF\" points=\"16,6,34,6,41,28.2969,216,28.2969,216,184,16,184,16,6\" style=\"stroke: #000000; stroke-width: 1.5;\"/><line style=\"stroke: #000000; stroke-width: 1.5;\" x1=\"16\" x2=\"41\" y1=\"28.2969\" y2=\"28.2969\"/><text fill=\"#000000\" font-family=\"sans-serif\" font-size=\"14\" font-weight=\"bold\" lengthAdjust=\"spacingAndGlyphs\" textLength=\"12\" x=\"20\" y=\"20.9951\">Q</text></a><!--MD5=[b4997ac47864f28c2f74865a473b2911]\n",
       "class E2--><a href=\"psysml:c953ea8a-4e0b-4404-8471-1de142ee019c\" target=\"_top\" title=\"psysml:c953ea8a-4e0b-4404-8471-1de142ee019c\" xlink:actuate=\"onRequest\" xlink:href=\"psysml:c953ea8a-4e0b-4404-8471-1de142ee019c\" xlink:show=\"new\" xlink:title=\"psysml:c953ea8a-4e0b-4404-8471-1de142ee019c\" xlink:type=\"simple\"><rect fill=\"#FFFFFF\" height=\"45.9375\" id=\"E2\" rx=\"10\" ry=\"10\" style=\"stroke: #383838; stroke-width: 1.5;\" width=\"42\" x=\"44\" y=\"41\"/><text fill=\"#000000\" font-family=\"sans-serif\" font-size=\"12\" font-style=\"italic\" lengthAdjust=\"spacingAndGlyphs\" textLength=\"40\" x=\"45\" y=\"57.1387\">«part»</text><text fill=\"#000000\" font-family=\"sans-serif\" font-size=\"12\" lengthAdjust=\"spacingAndGlyphs\" textLength=\"4\" x=\"63\" y=\"71.1074\">f</text><line style=\"stroke: #383838; stroke-width: 1.5;\" x1=\"45\" x2=\"85\" y1=\"78.9375\" y2=\"78.9375\"/></a><!--MD5=[09b614a08d8cba4a07c9adeb5e0fee81]\n",
       "class E3--><a href=\"psysml:c747f0dc-049c-42e5-8830-b905b214a6d2\" target=\"_top\" title=\"psysml:c747f0dc-049c-42e5-8830-b905b214a6d2\" xlink:actuate=\"onRequest\" xlink:href=\"psysml:c747f0dc-049c-42e5-8830-b905b214a6d2\" xlink:show=\"new\" xlink:title=\"psysml:c747f0dc-049c-42e5-8830-b905b214a6d2\" xlink:type=\"simple\"><rect fill=\"#FFFFFF\" height=\"45.9375\" id=\"E3\" rx=\"10\" ry=\"10\" style=\"stroke: #383838; stroke-width: 1.5;\" width=\"42\" x=\"158\" y=\"41\"/><text fill=\"#000000\" font-family=\"sans-serif\" font-size=\"12\" font-style=\"italic\" lengthAdjust=\"spacingAndGlyphs\" textLength=\"40\" x=\"159\" y=\"57.1387\">«part»</text><text fill=\"#000000\" font-family=\"sans-serif\" font-size=\"12\" lengthAdjust=\"spacingAndGlyphs\" textLength=\"8\" x=\"175\" y=\"71.1074\">a</text><line style=\"stroke: #383838; stroke-width: 1.5;\" x1=\"159\" x2=\"199\" y1=\"78.9375\" y2=\"78.9375\"/></a><!--MD5=[ebbe1d658d1005bcc118a6aa81145e00]\n",
       "class E4--><a href=\"psysml:1d5dfbac-e0d0-4dae-a20f-d178674246aa\" target=\"_top\" title=\"psysml:1d5dfbac-e0d0-4dae-a20f-d178674246aa\" xlink:actuate=\"onRequest\" xlink:href=\"psysml:1d5dfbac-e0d0-4dae-a20f-d178674246aa\" xlink:show=\"new\" xlink:title=\"psysml:1d5dfbac-e0d0-4dae-a20f-d178674246aa\" xlink:type=\"simple\"><rect fill=\"#FFFFFF\" height=\"45.9375\" id=\"E4\" style=\"stroke: #383838; stroke-width: 1.5;\" width=\"66\" x=\"32\" y=\"122\"/><text fill=\"#000000\" font-family=\"sans-serif\" font-size=\"12\" font-style=\"italic\" lengthAdjust=\"spacingAndGlyphs\" textLength=\"64\" x=\"33\" y=\"138.1387\">«part def»</text><text fill=\"#000000\" font-family=\"sans-serif\" font-size=\"12\" lengthAdjust=\"spacingAndGlyphs\" textLength=\"8\" x=\"61\" y=\"152.1074\">C</text><line style=\"stroke: #383838; stroke-width: 1.5;\" x1=\"33\" x2=\"97\" y1=\"159.9375\" y2=\"159.9375\"/></a><!--MD5=[270fce915f116d4de14055a7c1d9a0f3]\n",
       "class E5--><a href=\"psysml:31443893-624e-4834-b51f-adb4e581d804\" target=\"_top\" title=\"psysml:31443893-624e-4834-b51f-adb4e581d804\" xlink:actuate=\"onRequest\" xlink:href=\"psysml:31443893-624e-4834-b51f-adb4e581d804\" xlink:show=\"new\" xlink:title=\"psysml:31443893-624e-4834-b51f-adb4e581d804\" xlink:type=\"simple\"><rect fill=\"#FFFFFF\" height=\"45.9375\" id=\"E5\" rx=\"10\" ry=\"10\" style=\"stroke: #383838; stroke-width: 1.5;\" width=\"42\" x=\"158\" y=\"122\"/><text fill=\"#000000\" font-family=\"sans-serif\" font-size=\"12\" font-style=\"italic\" lengthAdjust=\"spacingAndGlyphs\" textLength=\"40\" x=\"159\" y=\"138.1387\">«part»</text><text fill=\"#000000\" font-family=\"sans-serif\" font-size=\"12\" lengthAdjust=\"spacingAndGlyphs\" textLength=\"8\" x=\"175\" y=\"152.1074\">g</text><line style=\"stroke: #383838; stroke-width: 1.5;\" x1=\"159\" x2=\"199\" y1=\"159.9375\" y2=\"159.9375\"/></a><!--MD5=[209b3feb70ccb6233bfe1053d122c12c]\n",
       "reverse link E2 to E3--><a href=\"psysml:144a9ea2-c14f-46d2-8ece-b06edd35cf79\" target=\"_top\" title=\"psysml:144a9ea2-c14f-46d2-8ece-b06edd35cf79\" xlink:actuate=\"onRequest\" xlink:href=\"psysml:144a9ea2-c14f-46d2-8ece-b06edd35cf79\" xlink:show=\"new\" xlink:title=\"psysml:144a9ea2-c14f-46d2-8ece-b06edd35cf79\" xlink:type=\"simple\"><path d=\"M99.26,64 C118.27,64 141.49,64 157.77,64 \" fill=\"none\" id=\"E2&lt;-E3\" style=\"stroke: #383838; stroke-width: 1.0;\"/><polygon fill=\"#383838\" points=\"86.02,64,92.02,68,98.02,64,92.02,60,86.02,64\" style=\"stroke: #383838; stroke-width: 1.0;\"/></a><!--MD5=[62aa6af11e70f752912c1cb0466f24f7]\n",
       "reverse link E4 to E5--><a href=\"psysml:ffd50afc-9abd-4dce-afc7-dff7922af1b1\" target=\"_top\" title=\"psysml:ffd50afc-9abd-4dce-afc7-dff7922af1b1\" xlink:actuate=\"onRequest\" xlink:href=\"psysml:ffd50afc-9abd-4dce-afc7-dff7922af1b1\" xlink:show=\"new\" xlink:title=\"psysml:ffd50afc-9abd-4dce-afc7-dff7922af1b1\" xlink:type=\"simple\"><path d=\"M111.28,145 C127.47,145 144.9,145 157.89,145 \" fill=\"none\" id=\"E4&lt;-E5\" style=\"stroke: #383838; stroke-width: 1.0;\"/><polygon fill=\"#383838\" points=\"98.09,145,104.09,149,110.09,145,104.09,141,98.09,145\" style=\"stroke: #383838; stroke-width: 1.0;\"/></a><!--MD5=[a02e2fc394d887a3c3c12dfeec8c48c7]\n",
       "@startuml\r\n",
       "left to right direction\r\n",
       "skinparam monochrome true\r\n",
       "skinparam classbackgroundcolor white\r\n",
       "skinparam shadowing false\r\n",
       "skinparam wrapWidth 300\r\n",
       "hide circle\r\n",
       "\r\n",
       "package \"Q\" as E1  [[psysml:8fe83ee3-fcec-497a-a9db-5b3b84baea71 ]]  {\r\n",
       "comp usage \"f\" as E2  <<(T,blue)part>> [[psysml:c953ea8a-4e0b-4404-8471-1de142ee019c ]] {\r\n",
       "}\r\n",
       "comp usage \"a\" as E3  <<(T,blue)part>> [[psysml:c747f0dc-049c-42e5-8830-b905b214a6d2 ]] {\r\n",
       "}\r\n",
       "comp def \"C\" as E4  <<(T,blue)part def>> [[psysml:1d5dfbac-e0d0-4dae-a20f-d178674246aa ]] {\r\n",
       "}\r\n",
       "comp usage \"g\" as E5  <<(T,blue)part>> [[psysml:31443893-624e-4834-b51f-adb4e581d804 ]] {\r\n",
       "}\r\n",
       "E2 *- - E3 [[psysml:144a9ea2-c14f-46d2-8ece-b06edd35cf79 ]] \r\n",
       "E4 *- - E5 [[psysml:ffd50afc-9abd-4dce-afc7-dff7922af1b1 ]] \r\n",
       "}\r\n",
       "@enduml\r\n",
       "\n",
       "PlantUML version 1.2020.13(Sat Jun 13 12:26:38 UTC 2020)\n",
       "(EPL source distribution)\n",
       "Java Runtime: OpenJDK Runtime Environment\n",
       "JVM: OpenJDK 64-Bit Server VM\n",
       "Default Encoding: UTF-8\n",
       "Language: en\n",
       "Country: null\n",
       "--></g></svg>"
      ]
     },
     "execution_count": 21,
     "metadata": {},
     "output_type": "execute_result"
    }
   ],
   "source": [
    "%viz --style=\"LR\" --view=\"Sequence\" \"Q\""
   ]
  },
  {
   "cell_type": "code",
   "execution_count": 22,
   "id": "9231d942",
   "metadata": {
    "execution": {
     "iopub.execute_input": "2021-04-20T07:21:51.261273Z",
     "iopub.status.busy": "2021-04-20T07:21:51.260762Z",
     "iopub.status.idle": "2021-04-20T07:21:51.293575Z",
     "shell.execute_reply": "2021-04-20T07:21:51.293107Z"
    }
   },
   "outputs": [
    {
     "data": {
      "image/svg+xml": [
       "<?xml version=\"1.0\" encoding=\"UTF-8\" standalone=\"no\"?><svg xmlns=\"http://www.w3.org/2000/svg\" xmlns:xlink=\"http://www.w3.org/1999/xlink\" contentScriptType=\"application/ecmascript\" contentStyleType=\"text/css\" height=\"196px\" preserveAspectRatio=\"none\" style=\"width:238px;height:196px;\" version=\"1.1\" viewBox=\"0 0 238 196\" width=\"238px\" zoomAndPan=\"magnify\"><defs/><g><!--MD5=[fbc87193dbaf4d95561dea2c320d4a47]\n",
       "cluster E1--><a href=\"psysml:8fe83ee3-fcec-497a-a9db-5b3b84baea71\" target=\"_top\" title=\"psysml:8fe83ee3-fcec-497a-a9db-5b3b84baea71\" xlink:actuate=\"onRequest\" xlink:href=\"psysml:8fe83ee3-fcec-497a-a9db-5b3b84baea71\" xlink:show=\"new\" xlink:title=\"psysml:8fe83ee3-fcec-497a-a9db-5b3b84baea71\" xlink:type=\"simple\"><polygon fill=\"#FFFFFF\" points=\"16,6,34,6,41,28.2969,216,28.2969,216,184,16,184,16,6\" style=\"stroke: #000000; stroke-width: 1.5;\"/><line style=\"stroke: #000000; stroke-width: 1.5;\" x1=\"16\" x2=\"41\" y1=\"28.2969\" y2=\"28.2969\"/><text fill=\"#000000\" font-family=\"sans-serif\" font-size=\"14\" font-weight=\"bold\" lengthAdjust=\"spacingAndGlyphs\" textLength=\"12\" x=\"20\" y=\"20.9951\">Q</text></a><!--MD5=[b4997ac47864f28c2f74865a473b2911]\n",
       "class E2--><a href=\"psysml:c953ea8a-4e0b-4404-8471-1de142ee019c\" target=\"_top\" title=\"psysml:c953ea8a-4e0b-4404-8471-1de142ee019c\" xlink:actuate=\"onRequest\" xlink:href=\"psysml:c953ea8a-4e0b-4404-8471-1de142ee019c\" xlink:show=\"new\" xlink:title=\"psysml:c953ea8a-4e0b-4404-8471-1de142ee019c\" xlink:type=\"simple\"><rect fill=\"#FFFFFF\" height=\"45.9375\" id=\"E2\" rx=\"10\" ry=\"10\" style=\"stroke: #383838; stroke-width: 1.5;\" width=\"42\" x=\"44\" y=\"41\"/><text fill=\"#000000\" font-family=\"sans-serif\" font-size=\"12\" font-style=\"italic\" lengthAdjust=\"spacingAndGlyphs\" textLength=\"40\" x=\"45\" y=\"57.1387\">«part»</text><text fill=\"#000000\" font-family=\"sans-serif\" font-size=\"12\" lengthAdjust=\"spacingAndGlyphs\" textLength=\"4\" x=\"63\" y=\"71.1074\">f</text><line style=\"stroke: #383838; stroke-width: 1.5;\" x1=\"45\" x2=\"85\" y1=\"78.9375\" y2=\"78.9375\"/></a><!--MD5=[09b614a08d8cba4a07c9adeb5e0fee81]\n",
       "class E3--><a href=\"psysml:c747f0dc-049c-42e5-8830-b905b214a6d2\" target=\"_top\" title=\"psysml:c747f0dc-049c-42e5-8830-b905b214a6d2\" xlink:actuate=\"onRequest\" xlink:href=\"psysml:c747f0dc-049c-42e5-8830-b905b214a6d2\" xlink:show=\"new\" xlink:title=\"psysml:c747f0dc-049c-42e5-8830-b905b214a6d2\" xlink:type=\"simple\"><rect fill=\"#FFFFFF\" height=\"45.9375\" id=\"E3\" rx=\"10\" ry=\"10\" style=\"stroke: #383838; stroke-width: 1.5;\" width=\"42\" x=\"158\" y=\"41\"/><text fill=\"#000000\" font-family=\"sans-serif\" font-size=\"12\" font-style=\"italic\" lengthAdjust=\"spacingAndGlyphs\" textLength=\"40\" x=\"159\" y=\"57.1387\">«part»</text><text fill=\"#000000\" font-family=\"sans-serif\" font-size=\"12\" lengthAdjust=\"spacingAndGlyphs\" textLength=\"8\" x=\"175\" y=\"71.1074\">a</text><line style=\"stroke: #383838; stroke-width: 1.5;\" x1=\"159\" x2=\"199\" y1=\"78.9375\" y2=\"78.9375\"/></a><!--MD5=[ebbe1d658d1005bcc118a6aa81145e00]\n",
       "class E4--><a href=\"psysml:1d5dfbac-e0d0-4dae-a20f-d178674246aa\" target=\"_top\" title=\"psysml:1d5dfbac-e0d0-4dae-a20f-d178674246aa\" xlink:actuate=\"onRequest\" xlink:href=\"psysml:1d5dfbac-e0d0-4dae-a20f-d178674246aa\" xlink:show=\"new\" xlink:title=\"psysml:1d5dfbac-e0d0-4dae-a20f-d178674246aa\" xlink:type=\"simple\"><rect fill=\"#FFFFFF\" height=\"45.9375\" id=\"E4\" style=\"stroke: #383838; stroke-width: 1.5;\" width=\"66\" x=\"32\" y=\"122\"/><text fill=\"#000000\" font-family=\"sans-serif\" font-size=\"12\" font-style=\"italic\" lengthAdjust=\"spacingAndGlyphs\" textLength=\"64\" x=\"33\" y=\"138.1387\">«part def»</text><text fill=\"#000000\" font-family=\"sans-serif\" font-size=\"12\" lengthAdjust=\"spacingAndGlyphs\" textLength=\"8\" x=\"61\" y=\"152.1074\">C</text><line style=\"stroke: #383838; stroke-width: 1.5;\" x1=\"33\" x2=\"97\" y1=\"159.9375\" y2=\"159.9375\"/></a><!--MD5=[270fce915f116d4de14055a7c1d9a0f3]\n",
       "class E5--><a href=\"psysml:31443893-624e-4834-b51f-adb4e581d804\" target=\"_top\" title=\"psysml:31443893-624e-4834-b51f-adb4e581d804\" xlink:actuate=\"onRequest\" xlink:href=\"psysml:31443893-624e-4834-b51f-adb4e581d804\" xlink:show=\"new\" xlink:title=\"psysml:31443893-624e-4834-b51f-adb4e581d804\" xlink:type=\"simple\"><rect fill=\"#FFFFFF\" height=\"45.9375\" id=\"E5\" rx=\"10\" ry=\"10\" style=\"stroke: #383838; stroke-width: 1.5;\" width=\"42\" x=\"158\" y=\"122\"/><text fill=\"#000000\" font-family=\"sans-serif\" font-size=\"12\" font-style=\"italic\" lengthAdjust=\"spacingAndGlyphs\" textLength=\"40\" x=\"159\" y=\"138.1387\">«part»</text><text fill=\"#000000\" font-family=\"sans-serif\" font-size=\"12\" lengthAdjust=\"spacingAndGlyphs\" textLength=\"8\" x=\"175\" y=\"152.1074\">g</text><line style=\"stroke: #383838; stroke-width: 1.5;\" x1=\"159\" x2=\"199\" y1=\"159.9375\" y2=\"159.9375\"/></a><!--MD5=[209b3feb70ccb6233bfe1053d122c12c]\n",
       "reverse link E2 to E3--><a href=\"psysml:144a9ea2-c14f-46d2-8ece-b06edd35cf79\" target=\"_top\" title=\"psysml:144a9ea2-c14f-46d2-8ece-b06edd35cf79\" xlink:actuate=\"onRequest\" xlink:href=\"psysml:144a9ea2-c14f-46d2-8ece-b06edd35cf79\" xlink:show=\"new\" xlink:title=\"psysml:144a9ea2-c14f-46d2-8ece-b06edd35cf79\" xlink:type=\"simple\"><path d=\"M99.26,64 C118.27,64 141.49,64 157.77,64 \" fill=\"none\" id=\"E2&lt;-E3\" style=\"stroke: #383838; stroke-width: 1.0;\"/><polygon fill=\"#383838\" points=\"86.02,64,92.02,68,98.02,64,92.02,60,86.02,64\" style=\"stroke: #383838; stroke-width: 1.0;\"/></a><!--MD5=[62aa6af11e70f752912c1cb0466f24f7]\n",
       "reverse link E4 to E5--><a href=\"psysml:ffd50afc-9abd-4dce-afc7-dff7922af1b1\" target=\"_top\" title=\"psysml:ffd50afc-9abd-4dce-afc7-dff7922af1b1\" xlink:actuate=\"onRequest\" xlink:href=\"psysml:ffd50afc-9abd-4dce-afc7-dff7922af1b1\" xlink:show=\"new\" xlink:title=\"psysml:ffd50afc-9abd-4dce-afc7-dff7922af1b1\" xlink:type=\"simple\"><path d=\"M111.28,145 C127.47,145 144.9,145 157.89,145 \" fill=\"none\" id=\"E4&lt;-E5\" style=\"stroke: #383838; stroke-width: 1.0;\"/><polygon fill=\"#383838\" points=\"98.09,145,104.09,149,110.09,145,104.09,141,98.09,145\" style=\"stroke: #383838; stroke-width: 1.0;\"/></a><!--MD5=[a02e2fc394d887a3c3c12dfeec8c48c7]\n",
       "@startuml\r\n",
       "left to right direction\r\n",
       "skinparam monochrome true\r\n",
       "skinparam classbackgroundcolor white\r\n",
       "skinparam shadowing false\r\n",
       "skinparam wrapWidth 300\r\n",
       "hide circle\r\n",
       "\r\n",
       "package \"Q\" as E1  [[psysml:8fe83ee3-fcec-497a-a9db-5b3b84baea71 ]]  {\r\n",
       "comp usage \"f\" as E2  <<(T,blue)part>> [[psysml:c953ea8a-4e0b-4404-8471-1de142ee019c ]] {\r\n",
       "}\r\n",
       "comp usage \"a\" as E3  <<(T,blue)part>> [[psysml:c747f0dc-049c-42e5-8830-b905b214a6d2 ]] {\r\n",
       "}\r\n",
       "comp def \"C\" as E4  <<(T,blue)part def>> [[psysml:1d5dfbac-e0d0-4dae-a20f-d178674246aa ]] {\r\n",
       "}\r\n",
       "comp usage \"g\" as E5  <<(T,blue)part>> [[psysml:31443893-624e-4834-b51f-adb4e581d804 ]] {\r\n",
       "}\r\n",
       "E2 *- - E3 [[psysml:144a9ea2-c14f-46d2-8ece-b06edd35cf79 ]] \r\n",
       "E4 *- - E5 [[psysml:ffd50afc-9abd-4dce-afc7-dff7922af1b1 ]] \r\n",
       "}\r\n",
       "@enduml\r\n",
       "\n",
       "PlantUML version 1.2020.13(Sat Jun 13 12:26:38 UTC 2020)\n",
       "(EPL source distribution)\n",
       "Java Runtime: OpenJDK Runtime Environment\n",
       "JVM: OpenJDK 64-Bit Server VM\n",
       "Default Encoding: UTF-8\n",
       "Language: en\n",
       "Country: null\n",
       "--></g></svg>"
      ]
     },
     "execution_count": 22,
     "metadata": {},
     "output_type": "execute_result"
    }
   ],
   "source": [
    "%viz --style=\"LR\" --view=\"MIXED\" \"Q\""
   ]
  },
  {
   "cell_type": "code",
   "execution_count": 23,
   "id": "ada697a9",
   "metadata": {
    "execution": {
     "iopub.execute_input": "2021-04-20T07:21:51.344312Z",
     "iopub.status.busy": "2021-04-20T07:21:51.343832Z",
     "iopub.status.idle": "2021-04-20T07:21:51.374673Z",
     "shell.execute_reply": "2021-04-20T07:21:51.374016Z"
    }
   },
   "outputs": [
    {
     "data": {
      "image/svg+xml": [
       "<?xml version=\"1.0\" encoding=\"UTF-8\" standalone=\"no\"?><svg xmlns=\"http://www.w3.org/2000/svg\" xmlns:xlink=\"http://www.w3.org/1999/xlink\" contentScriptType=\"application/ecmascript\" contentStyleType=\"text/css\" height=\"221px\" preserveAspectRatio=\"none\" style=\"width:213px;height:221px;\" version=\"1.1\" viewBox=\"0 0 213 221\" width=\"213px\" zoomAndPan=\"magnify\"><defs><filter height=\"300%\" id=\"fx4yprg1ewk59\" width=\"300%\" x=\"-1\" y=\"-1\"><feGaussianBlur result=\"blurOut\" stdDeviation=\"2.0\"/><feColorMatrix in=\"blurOut\" result=\"blurOut2\" type=\"matrix\" values=\"0 0 0 0 0 0 0 0 0 0 0 0 0 0 0 0 0 0 .4 0\"/><feOffset dx=\"4.0\" dy=\"4.0\" in=\"blurOut2\" result=\"blurOut3\"/><feBlend in=\"SourceGraphic\" in2=\"blurOut3\" mode=\"normal\"/></filter></defs><g><!--MD5=[fbc87193dbaf4d95561dea2c320d4a47]\n",
       "cluster E1--><a href=\"psysml:8fe83ee3-fcec-497a-a9db-5b3b84baea71\" target=\"_top\" title=\"psysml:8fe83ee3-fcec-497a-a9db-5b3b84baea71\" xlink:actuate=\"onRequest\" xlink:href=\"psysml:8fe83ee3-fcec-497a-a9db-5b3b84baea71\" xlink:show=\"new\" xlink:title=\"psysml:8fe83ee3-fcec-497a-a9db-5b3b84baea71\" xlink:type=\"simple\"><polygon fill=\"#FFFFFF\" filter=\"url(#fx4yprg1ewk59)\" points=\"16,6,34,6,41,28.2969,191,28.2969,191,209,16,209,16,6\" style=\"stroke: #000000; stroke-width: 1.5;\"/><line style=\"stroke: #000000; stroke-width: 1.5;\" x1=\"16\" x2=\"41\" y1=\"28.2969\" y2=\"28.2969\"/><text fill=\"#000000\" font-family=\"sans-serif\" font-size=\"14\" font-weight=\"bold\" lengthAdjust=\"spacingAndGlyphs\" textLength=\"12\" x=\"20\" y=\"20.9951\">Q</text></a><!--MD5=[b4997ac47864f28c2f74865a473b2911]\n",
       "class E2--><a href=\"psysml:c953ea8a-4e0b-4404-8471-1de142ee019c\" target=\"_top\" title=\"psysml:c953ea8a-4e0b-4404-8471-1de142ee019c\" xlink:actuate=\"onRequest\" xlink:href=\"psysml:c953ea8a-4e0b-4404-8471-1de142ee019c\" xlink:show=\"new\" xlink:title=\"psysml:c953ea8a-4e0b-4404-8471-1de142ee019c\" xlink:type=\"simple\"><rect fill=\"#FEFECE\" filter=\"url(#fx4yprg1ewk59)\" height=\"45.9375\" id=\"E2\" rx=\"10\" ry=\"10\" style=\"stroke: #A80036; stroke-width: 1.5;\" width=\"42\" x=\"133\" y=\"41\"/><text fill=\"#000000\" font-family=\"sans-serif\" font-size=\"12\" font-style=\"italic\" lengthAdjust=\"spacingAndGlyphs\" textLength=\"40\" x=\"134\" y=\"57.1387\">«part»</text><text fill=\"#000000\" font-family=\"sans-serif\" font-size=\"12\" lengthAdjust=\"spacingAndGlyphs\" textLength=\"4\" x=\"152\" y=\"71.1074\">f</text><line style=\"stroke: #A80036; stroke-width: 1.5;\" x1=\"134\" x2=\"174\" y1=\"78.9375\" y2=\"78.9375\"/></a><!--MD5=[09b614a08d8cba4a07c9adeb5e0fee81]\n",
       "class E3--><a href=\"psysml:c747f0dc-049c-42e5-8830-b905b214a6d2\" target=\"_top\" title=\"psysml:c747f0dc-049c-42e5-8830-b905b214a6d2\" xlink:actuate=\"onRequest\" xlink:href=\"psysml:c747f0dc-049c-42e5-8830-b905b214a6d2\" xlink:show=\"new\" xlink:title=\"psysml:c747f0dc-049c-42e5-8830-b905b214a6d2\" xlink:type=\"simple\"><rect fill=\"#FEFECE\" filter=\"url(#fx4yprg1ewk59)\" height=\"45.9375\" id=\"E3\" rx=\"10\" ry=\"10\" style=\"stroke: #A80036; stroke-width: 1.5;\" width=\"42\" x=\"133\" y=\"147\"/><text fill=\"#000000\" font-family=\"sans-serif\" font-size=\"12\" font-style=\"italic\" lengthAdjust=\"spacingAndGlyphs\" textLength=\"40\" x=\"134\" y=\"163.1387\">«part»</text><text fill=\"#000000\" font-family=\"sans-serif\" font-size=\"12\" lengthAdjust=\"spacingAndGlyphs\" textLength=\"8\" x=\"150\" y=\"177.1074\">a</text><line style=\"stroke: #A80036; stroke-width: 1.5;\" x1=\"134\" x2=\"174\" y1=\"184.9375\" y2=\"184.9375\"/></a><!--MD5=[ebbe1d658d1005bcc118a6aa81145e00]\n",
       "class E4--><a href=\"psysml:1d5dfbac-e0d0-4dae-a20f-d178674246aa\" target=\"_top\" title=\"psysml:1d5dfbac-e0d0-4dae-a20f-d178674246aa\" xlink:actuate=\"onRequest\" xlink:href=\"psysml:1d5dfbac-e0d0-4dae-a20f-d178674246aa\" xlink:show=\"new\" xlink:title=\"psysml:1d5dfbac-e0d0-4dae-a20f-d178674246aa\" xlink:type=\"simple\"><rect fill=\"#FEFECE\" filter=\"url(#fx4yprg1ewk59)\" height=\"45.9375\" id=\"E4\" style=\"stroke: #A80036; stroke-width: 1.5;\" width=\"66\" x=\"32\" y=\"41\"/><text fill=\"#000000\" font-family=\"sans-serif\" font-size=\"12\" font-style=\"italic\" lengthAdjust=\"spacingAndGlyphs\" textLength=\"64\" x=\"33\" y=\"57.1387\">«part def»</text><text fill=\"#000000\" font-family=\"sans-serif\" font-size=\"12\" lengthAdjust=\"spacingAndGlyphs\" textLength=\"8\" x=\"61\" y=\"71.1074\">C</text><line style=\"stroke: #A80036; stroke-width: 1.5;\" x1=\"33\" x2=\"97\" y1=\"78.9375\" y2=\"78.9375\"/></a><!--MD5=[270fce915f116d4de14055a7c1d9a0f3]\n",
       "class E5--><a href=\"psysml:31443893-624e-4834-b51f-adb4e581d804\" target=\"_top\" title=\"psysml:31443893-624e-4834-b51f-adb4e581d804\" xlink:actuate=\"onRequest\" xlink:href=\"psysml:31443893-624e-4834-b51f-adb4e581d804\" xlink:show=\"new\" xlink:title=\"psysml:31443893-624e-4834-b51f-adb4e581d804\" xlink:type=\"simple\"><rect fill=\"#FEFECE\" filter=\"url(#fx4yprg1ewk59)\" height=\"45.9375\" id=\"E5\" rx=\"10\" ry=\"10\" style=\"stroke: #A80036; stroke-width: 1.5;\" width=\"42\" x=\"44\" y=\"147\"/><text fill=\"#000000\" font-family=\"sans-serif\" font-size=\"12\" font-style=\"italic\" lengthAdjust=\"spacingAndGlyphs\" textLength=\"40\" x=\"45\" y=\"163.1387\">«part»</text><text fill=\"#000000\" font-family=\"sans-serif\" font-size=\"12\" lengthAdjust=\"spacingAndGlyphs\" textLength=\"8\" x=\"61\" y=\"177.1074\">g</text><line style=\"stroke: #A80036; stroke-width: 1.5;\" x1=\"45\" x2=\"85\" y1=\"184.9375\" y2=\"184.9375\"/></a><!--MD5=[209b3feb70ccb6233bfe1053d122c12c]\n",
       "reverse link E2 to E3--><a href=\"psysml:144a9ea2-c14f-46d2-8ece-b06edd35cf79\" target=\"_top\" title=\"psysml:144a9ea2-c14f-46d2-8ece-b06edd35cf79\" xlink:actuate=\"onRequest\" xlink:href=\"psysml:144a9ea2-c14f-46d2-8ece-b06edd35cf79\" xlink:show=\"new\" xlink:title=\"psysml:144a9ea2-c14f-46d2-8ece-b06edd35cf79\" xlink:type=\"simple\"><path d=\"M154,100.44 C154,115.87 154,133.47 154,146.98 \" fill=\"none\" id=\"E2&lt;-E3\" style=\"stroke: #A80036; stroke-width: 1.0;\"/><polygon fill=\"#A80036\" points=\"154,87.06,150,93.06,154,99.06,158,93.06,154,87.06\" style=\"stroke: #A80036; stroke-width: 1.0;\"/></a><!--MD5=[62aa6af11e70f752912c1cb0466f24f7]\n",
       "reverse link E4 to E5--><a href=\"psysml:ffd50afc-9abd-4dce-afc7-dff7922af1b1\" target=\"_top\" title=\"psysml:ffd50afc-9abd-4dce-afc7-dff7922af1b1\" xlink:actuate=\"onRequest\" xlink:href=\"psysml:ffd50afc-9abd-4dce-afc7-dff7922af1b1\" xlink:show=\"new\" xlink:title=\"psysml:ffd50afc-9abd-4dce-afc7-dff7922af1b1\" xlink:type=\"simple\"><path d=\"M65,100.44 C65,115.87 65,133.47 65,146.98 \" fill=\"none\" id=\"E4&lt;-E5\" style=\"stroke: #A80036; stroke-width: 1.0;\"/><polygon fill=\"#A80036\" points=\"65,87.06,61,93.06,65,99.06,69,93.06,65,87.06\" style=\"stroke: #A80036; stroke-width: 1.0;\"/></a><!--MD5=[491dc3527faa74bf94acb8a7172e4b9a]\n",
       "@startuml\r\n",
       "skinparam wrapWidth 300\r\n",
       "hide circle\r\n",
       "\r\n",
       "package \"Q\" as E1  [[psysml:8fe83ee3-fcec-497a-a9db-5b3b84baea71 ]]  {\r\n",
       "comp usage \"f\" as E2  <<(T,blue)part>> [[psysml:c953ea8a-4e0b-4404-8471-1de142ee019c ]] {\r\n",
       "}\r\n",
       "comp usage \"a\" as E3  <<(T,blue)part>> [[psysml:c747f0dc-049c-42e5-8830-b905b214a6d2 ]] {\r\n",
       "}\r\n",
       "comp def \"C\" as E4  <<(T,blue)part def>> [[psysml:1d5dfbac-e0d0-4dae-a20f-d178674246aa ]] {\r\n",
       "}\r\n",
       "comp usage \"g\" as E5  <<(T,blue)part>> [[psysml:31443893-624e-4834-b51f-adb4e581d804 ]] {\r\n",
       "}\r\n",
       "E2 *- - E3 [[psysml:144a9ea2-c14f-46d2-8ece-b06edd35cf79 ]] \r\n",
       "E4 *- - E5 [[psysml:ffd50afc-9abd-4dce-afc7-dff7922af1b1 ]] \r\n",
       "}\r\n",
       "@enduml\r\n",
       "\n",
       "PlantUML version 1.2020.13(Sat Jun 13 12:26:38 UTC 2020)\n",
       "(EPL source distribution)\n",
       "Java Runtime: OpenJDK Runtime Environment\n",
       "JVM: OpenJDK 64-Bit Server VM\n",
       "Default Encoding: UTF-8\n",
       "Language: en\n",
       "Country: null\n",
       "--></g></svg>"
      ]
     },
     "execution_count": 23,
     "metadata": {},
     "output_type": "execute_result"
    }
   ],
   "source": [
    "%viz --style=\"STDCOLOR\" --view=\"Default\" \"Q\""
   ]
  },
  {
   "cell_type": "code",
   "execution_count": 24,
   "id": "fec5da62",
   "metadata": {
    "execution": {
     "iopub.execute_input": "2021-04-20T07:21:51.425753Z",
     "iopub.status.busy": "2021-04-20T07:21:51.424817Z",
     "iopub.status.idle": "2021-04-20T07:21:51.454677Z",
     "shell.execute_reply": "2021-04-20T07:21:51.453414Z"
    }
   },
   "outputs": [
    {
     "data": {
      "image/svg+xml": [
       "<?xml version=\"1.0\" encoding=\"UTF-8\" standalone=\"no\"?><svg xmlns=\"http://www.w3.org/2000/svg\" xmlns:xlink=\"http://www.w3.org/1999/xlink\" contentScriptType=\"application/ecmascript\" contentStyleType=\"text/css\" height=\"221px\" preserveAspectRatio=\"none\" style=\"width:213px;height:221px;\" version=\"1.1\" viewBox=\"0 0 213 221\" width=\"213px\" zoomAndPan=\"magnify\"><defs><filter height=\"300%\" id=\"fx4yprg1ewk59\" width=\"300%\" x=\"-1\" y=\"-1\"><feGaussianBlur result=\"blurOut\" stdDeviation=\"2.0\"/><feColorMatrix in=\"blurOut\" result=\"blurOut2\" type=\"matrix\" values=\"0 0 0 0 0 0 0 0 0 0 0 0 0 0 0 0 0 0 .4 0\"/><feOffset dx=\"4.0\" dy=\"4.0\" in=\"blurOut2\" result=\"blurOut3\"/><feBlend in=\"SourceGraphic\" in2=\"blurOut3\" mode=\"normal\"/></filter></defs><g><!--MD5=[fbc87193dbaf4d95561dea2c320d4a47]\n",
       "cluster E1--><a href=\"psysml:8fe83ee3-fcec-497a-a9db-5b3b84baea71\" target=\"_top\" title=\"psysml:8fe83ee3-fcec-497a-a9db-5b3b84baea71\" xlink:actuate=\"onRequest\" xlink:href=\"psysml:8fe83ee3-fcec-497a-a9db-5b3b84baea71\" xlink:show=\"new\" xlink:title=\"psysml:8fe83ee3-fcec-497a-a9db-5b3b84baea71\" xlink:type=\"simple\"><polygon fill=\"#FFFFFF\" filter=\"url(#fx4yprg1ewk59)\" points=\"16,6,34,6,41,28.2969,191,28.2969,191,209,16,209,16,6\" style=\"stroke: #000000; stroke-width: 1.5;\"/><line style=\"stroke: #000000; stroke-width: 1.5;\" x1=\"16\" x2=\"41\" y1=\"28.2969\" y2=\"28.2969\"/><text fill=\"#000000\" font-family=\"sans-serif\" font-size=\"14\" font-weight=\"bold\" lengthAdjust=\"spacingAndGlyphs\" textLength=\"12\" x=\"20\" y=\"20.9951\">Q</text></a><!--MD5=[b4997ac47864f28c2f74865a473b2911]\n",
       "class E2--><a href=\"psysml:c953ea8a-4e0b-4404-8471-1de142ee019c\" target=\"_top\" title=\"psysml:c953ea8a-4e0b-4404-8471-1de142ee019c\" xlink:actuate=\"onRequest\" xlink:href=\"psysml:c953ea8a-4e0b-4404-8471-1de142ee019c\" xlink:show=\"new\" xlink:title=\"psysml:c953ea8a-4e0b-4404-8471-1de142ee019c\" xlink:type=\"simple\"><rect fill=\"#FEFECE\" filter=\"url(#fx4yprg1ewk59)\" height=\"45.9375\" id=\"E2\" rx=\"10\" ry=\"10\" style=\"stroke: #A80036; stroke-width: 1.5;\" width=\"42\" x=\"133\" y=\"41\"/><text fill=\"#000000\" font-family=\"sans-serif\" font-size=\"12\" font-style=\"italic\" lengthAdjust=\"spacingAndGlyphs\" textLength=\"40\" x=\"134\" y=\"57.1387\">«part»</text><text fill=\"#000000\" font-family=\"sans-serif\" font-size=\"12\" lengthAdjust=\"spacingAndGlyphs\" textLength=\"4\" x=\"152\" y=\"71.1074\">f</text><line style=\"stroke: #A80036; stroke-width: 1.5;\" x1=\"134\" x2=\"174\" y1=\"78.9375\" y2=\"78.9375\"/></a><!--MD5=[09b614a08d8cba4a07c9adeb5e0fee81]\n",
       "class E3--><a href=\"psysml:c747f0dc-049c-42e5-8830-b905b214a6d2\" target=\"_top\" title=\"psysml:c747f0dc-049c-42e5-8830-b905b214a6d2\" xlink:actuate=\"onRequest\" xlink:href=\"psysml:c747f0dc-049c-42e5-8830-b905b214a6d2\" xlink:show=\"new\" xlink:title=\"psysml:c747f0dc-049c-42e5-8830-b905b214a6d2\" xlink:type=\"simple\"><rect fill=\"#FEFECE\" filter=\"url(#fx4yprg1ewk59)\" height=\"45.9375\" id=\"E3\" rx=\"10\" ry=\"10\" style=\"stroke: #A80036; stroke-width: 1.5;\" width=\"42\" x=\"133\" y=\"147\"/><text fill=\"#000000\" font-family=\"sans-serif\" font-size=\"12\" font-style=\"italic\" lengthAdjust=\"spacingAndGlyphs\" textLength=\"40\" x=\"134\" y=\"163.1387\">«part»</text><text fill=\"#000000\" font-family=\"sans-serif\" font-size=\"12\" lengthAdjust=\"spacingAndGlyphs\" textLength=\"8\" x=\"150\" y=\"177.1074\">a</text><line style=\"stroke: #A80036; stroke-width: 1.5;\" x1=\"134\" x2=\"174\" y1=\"184.9375\" y2=\"184.9375\"/></a><!--MD5=[ebbe1d658d1005bcc118a6aa81145e00]\n",
       "class E4--><a href=\"psysml:1d5dfbac-e0d0-4dae-a20f-d178674246aa\" target=\"_top\" title=\"psysml:1d5dfbac-e0d0-4dae-a20f-d178674246aa\" xlink:actuate=\"onRequest\" xlink:href=\"psysml:1d5dfbac-e0d0-4dae-a20f-d178674246aa\" xlink:show=\"new\" xlink:title=\"psysml:1d5dfbac-e0d0-4dae-a20f-d178674246aa\" xlink:type=\"simple\"><rect fill=\"#FEFECE\" filter=\"url(#fx4yprg1ewk59)\" height=\"45.9375\" id=\"E4\" style=\"stroke: #A80036; stroke-width: 1.5;\" width=\"66\" x=\"32\" y=\"41\"/><text fill=\"#000000\" font-family=\"sans-serif\" font-size=\"12\" font-style=\"italic\" lengthAdjust=\"spacingAndGlyphs\" textLength=\"64\" x=\"33\" y=\"57.1387\">«part def»</text><text fill=\"#000000\" font-family=\"sans-serif\" font-size=\"12\" lengthAdjust=\"spacingAndGlyphs\" textLength=\"8\" x=\"61\" y=\"71.1074\">C</text><line style=\"stroke: #A80036; stroke-width: 1.5;\" x1=\"33\" x2=\"97\" y1=\"78.9375\" y2=\"78.9375\"/></a><!--MD5=[270fce915f116d4de14055a7c1d9a0f3]\n",
       "class E5--><a href=\"psysml:31443893-624e-4834-b51f-adb4e581d804\" target=\"_top\" title=\"psysml:31443893-624e-4834-b51f-adb4e581d804\" xlink:actuate=\"onRequest\" xlink:href=\"psysml:31443893-624e-4834-b51f-adb4e581d804\" xlink:show=\"new\" xlink:title=\"psysml:31443893-624e-4834-b51f-adb4e581d804\" xlink:type=\"simple\"><rect fill=\"#FEFECE\" filter=\"url(#fx4yprg1ewk59)\" height=\"45.9375\" id=\"E5\" rx=\"10\" ry=\"10\" style=\"stroke: #A80036; stroke-width: 1.5;\" width=\"42\" x=\"44\" y=\"147\"/><text fill=\"#000000\" font-family=\"sans-serif\" font-size=\"12\" font-style=\"italic\" lengthAdjust=\"spacingAndGlyphs\" textLength=\"40\" x=\"45\" y=\"163.1387\">«part»</text><text fill=\"#000000\" font-family=\"sans-serif\" font-size=\"12\" lengthAdjust=\"spacingAndGlyphs\" textLength=\"8\" x=\"61\" y=\"177.1074\">g</text><line style=\"stroke: #A80036; stroke-width: 1.5;\" x1=\"45\" x2=\"85\" y1=\"184.9375\" y2=\"184.9375\"/></a><!--MD5=[209b3feb70ccb6233bfe1053d122c12c]\n",
       "reverse link E2 to E3--><a href=\"psysml:144a9ea2-c14f-46d2-8ece-b06edd35cf79\" target=\"_top\" title=\"psysml:144a9ea2-c14f-46d2-8ece-b06edd35cf79\" xlink:actuate=\"onRequest\" xlink:href=\"psysml:144a9ea2-c14f-46d2-8ece-b06edd35cf79\" xlink:show=\"new\" xlink:title=\"psysml:144a9ea2-c14f-46d2-8ece-b06edd35cf79\" xlink:type=\"simple\"><path d=\"M154,100.44 C154,115.87 154,133.47 154,146.98 \" fill=\"none\" id=\"E2&lt;-E3\" style=\"stroke: #A80036; stroke-width: 1.0;\"/><polygon fill=\"#A80036\" points=\"154,87.06,150,93.06,154,99.06,158,93.06,154,87.06\" style=\"stroke: #A80036; stroke-width: 1.0;\"/></a><!--MD5=[62aa6af11e70f752912c1cb0466f24f7]\n",
       "reverse link E4 to E5--><a href=\"psysml:ffd50afc-9abd-4dce-afc7-dff7922af1b1\" target=\"_top\" title=\"psysml:ffd50afc-9abd-4dce-afc7-dff7922af1b1\" xlink:actuate=\"onRequest\" xlink:href=\"psysml:ffd50afc-9abd-4dce-afc7-dff7922af1b1\" xlink:show=\"new\" xlink:title=\"psysml:ffd50afc-9abd-4dce-afc7-dff7922af1b1\" xlink:type=\"simple\"><path d=\"M65,100.44 C65,115.87 65,133.47 65,146.98 \" fill=\"none\" id=\"E4&lt;-E5\" style=\"stroke: #A80036; stroke-width: 1.0;\"/><polygon fill=\"#A80036\" points=\"65,87.06,61,93.06,65,99.06,69,93.06,65,87.06\" style=\"stroke: #A80036; stroke-width: 1.0;\"/></a><!--MD5=[491dc3527faa74bf94acb8a7172e4b9a]\n",
       "@startuml\r\n",
       "skinparam wrapWidth 300\r\n",
       "hide circle\r\n",
       "\r\n",
       "package \"Q\" as E1  [[psysml:8fe83ee3-fcec-497a-a9db-5b3b84baea71 ]]  {\r\n",
       "comp usage \"f\" as E2  <<(T,blue)part>> [[psysml:c953ea8a-4e0b-4404-8471-1de142ee019c ]] {\r\n",
       "}\r\n",
       "comp usage \"a\" as E3  <<(T,blue)part>> [[psysml:c747f0dc-049c-42e5-8830-b905b214a6d2 ]] {\r\n",
       "}\r\n",
       "comp def \"C\" as E4  <<(T,blue)part def>> [[psysml:1d5dfbac-e0d0-4dae-a20f-d178674246aa ]] {\r\n",
       "}\r\n",
       "comp usage \"g\" as E5  <<(T,blue)part>> [[psysml:31443893-624e-4834-b51f-adb4e581d804 ]] {\r\n",
       "}\r\n",
       "E2 *- - E3 [[psysml:144a9ea2-c14f-46d2-8ece-b06edd35cf79 ]] \r\n",
       "E4 *- - E5 [[psysml:ffd50afc-9abd-4dce-afc7-dff7922af1b1 ]] \r\n",
       "}\r\n",
       "@enduml\r\n",
       "\n",
       "PlantUML version 1.2020.13(Sat Jun 13 12:26:38 UTC 2020)\n",
       "(EPL source distribution)\n",
       "Java Runtime: OpenJDK Runtime Environment\n",
       "JVM: OpenJDK 64-Bit Server VM\n",
       "Default Encoding: UTF-8\n",
       "Language: en\n",
       "Country: null\n",
       "--></g></svg>"
      ]
     },
     "execution_count": 24,
     "metadata": {},
     "output_type": "execute_result"
    }
   ],
   "source": [
    "%viz --style=\"STDCOLOR\" --view=\"Tree\" \"Q\""
   ]
  },
  {
   "cell_type": "code",
   "execution_count": 25,
   "id": "0c6727d9",
   "metadata": {
    "execution": {
     "iopub.execute_input": "2021-04-20T07:21:51.505607Z",
     "iopub.status.busy": "2021-04-20T07:21:51.504626Z",
     "iopub.status.idle": "2021-04-20T07:21:51.511083Z",
     "shell.execute_reply": "2021-04-20T07:21:51.510487Z"
    }
   },
   "outputs": [
    {
     "data": {
      "image/svg+xml": [
       "<?xml version=\"1.0\" encoding=\"UTF-8\" standalone=\"no\"?><svg xmlns=\"http://www.w3.org/2000/svg\" xmlns:xlink=\"http://www.w3.org/1999/xlink\" contentScriptType=\"application/ecmascript\" contentStyleType=\"text/css\" height=\"12px\" preserveAspectRatio=\"none\" style=\"width:12px;height:12px;\" version=\"1.1\" viewBox=\"0 0 12 12\" width=\"12px\" zoomAndPan=\"magnify\"><defs/><g><!--MD5=[aeeef50f102b80d730deb6443d14f702]\n",
       "@startuml\r\n",
       "skinparam wrapWidth 300\r\n",
       "hide circle\r\n",
       "\r\n",
       "@enduml\r\n",
       "\n",
       "PlantUML version 1.2020.13(Sat Jun 13 12:26:38 UTC 2020)\n",
       "(EPL source distribution)\n",
       "Java Runtime: OpenJDK Runtime Environment\n",
       "JVM: OpenJDK 64-Bit Server VM\n",
       "Default Encoding: UTF-8\n",
       "Language: en\n",
       "Country: null\n",
       "--></g></svg>"
      ]
     },
     "execution_count": 25,
     "metadata": {},
     "output_type": "execute_result"
    }
   ],
   "source": [
    "%viz --style=\"STDCOLOR\" --view=\"State\" \"Q\""
   ]
  },
  {
   "cell_type": "code",
   "execution_count": 26,
   "id": "8afec186",
   "metadata": {
    "execution": {
     "iopub.execute_input": "2021-04-20T07:21:51.562208Z",
     "iopub.status.busy": "2021-04-20T07:21:51.561687Z",
     "iopub.status.idle": "2021-04-20T07:21:51.590885Z",
     "shell.execute_reply": "2021-04-20T07:21:51.589390Z"
    }
   },
   "outputs": [
    {
     "data": {
      "image/svg+xml": [
       "<?xml version=\"1.0\" encoding=\"UTF-8\" standalone=\"no\"?><svg xmlns=\"http://www.w3.org/2000/svg\" xmlns:xlink=\"http://www.w3.org/1999/xlink\" contentScriptType=\"application/ecmascript\" contentStyleType=\"text/css\" height=\"192px\" preserveAspectRatio=\"none\" style=\"width:286px;height:192px;\" version=\"1.1\" viewBox=\"0 0 286 192\" width=\"286px\" zoomAndPan=\"magnify\"><defs><filter height=\"300%\" id=\"f2tkgo8u9qxnc\" width=\"300%\" x=\"-1\" y=\"-1\"><feGaussianBlur result=\"blurOut\" stdDeviation=\"2.0\"/><feColorMatrix in=\"blurOut\" result=\"blurOut2\" type=\"matrix\" values=\"0 0 0 0 0 0 0 0 0 0 0 0 0 0 0 0 0 0 .4 0\"/><feOffset dx=\"4.0\" dy=\"4.0\" in=\"blurOut2\" result=\"blurOut3\"/><feBlend in=\"SourceGraphic\" in2=\"blurOut3\" mode=\"normal\"/></filter></defs><g><!--MD5=[fbc87193dbaf4d95561dea2c320d4a47]\n",
       "cluster E1--><a href=\"psysml:8fe83ee3-fcec-497a-a9db-5b3b84baea71\" target=\"_top\" title=\"psysml:8fe83ee3-fcec-497a-a9db-5b3b84baea71\" xlink:actuate=\"onRequest\" xlink:href=\"psysml:8fe83ee3-fcec-497a-a9db-5b3b84baea71\" xlink:show=\"new\" xlink:title=\"psysml:8fe83ee3-fcec-497a-a9db-5b3b84baea71\" xlink:type=\"simple\"><polygon fill=\"#FFFFFF\" filter=\"url(#f2tkgo8u9qxnc)\" points=\"16,6,34,6,41,28.2969,264,28.2969,264,180,16,180,16,6\" style=\"stroke: #000000; stroke-width: 1.5;\"/><line style=\"stroke: #000000; stroke-width: 1.5;\" x1=\"16\" x2=\"41\" y1=\"28.2969\" y2=\"28.2969\"/><text fill=\"#000000\" font-family=\"sans-serif\" font-size=\"14\" font-weight=\"bold\" lengthAdjust=\"spacingAndGlyphs\" textLength=\"12\" x=\"20\" y=\"20.9951\">Q</text></a><!--MD5=[e4f7fae6ed58524ba242bb0b0d3be6b7]\n",
       "cluster E2--><a href=\"psysml:c953ea8a-4e0b-4404-8471-1de142ee019c\" target=\"_top\" title=\"psysml:c953ea8a-4e0b-4404-8471-1de142ee019c\" xlink:actuate=\"onRequest\" xlink:href=\"psysml:c953ea8a-4e0b-4404-8471-1de142ee019c\" xlink:show=\"new\" xlink:title=\"psysml:c953ea8a-4e0b-4404-8471-1de142ee019c\" xlink:type=\"simple\"><rect fill=\"#FFFFFF\" filter=\"url(#f2tkgo8u9qxnc)\" height=\"91\" id=\"E2\" rx=\"10\" ry=\"10\" style=\"stroke: #A80036; stroke-width: 1.5;\" width=\"82\" x=\"158\" y=\"65\"/><rect fill=\"#FEFECE\" height=\"23.9688\" rx=\"10\" ry=\"10\" style=\"stroke: #FEFECE; stroke-width: 1.5;\" width=\"82\" x=\"158\" y=\"65\"/><rect fill=\"#FEFECE\" height=\"10\" style=\"stroke: #FEFECE; stroke-width: 1.5;\" width=\"82\" x=\"158\" y=\"78.9688\"/><rect fill=\"none\" height=\"91\" id=\"E2\" rx=\"10\" ry=\"10\" style=\"stroke: #A80036; stroke-width: 1.5;\" width=\"82\" x=\"158\" y=\"65\"/><text fill=\"#000000\" font-family=\"sans-serif\" font-size=\"12\" lengthAdjust=\"spacingAndGlyphs\" textLength=\"4\" x=\"197\" y=\"81.1387\">f</text><line style=\"stroke: #A80036; stroke-width: 1.0;\" x1=\"158\" x2=\"240\" y1=\"88.9688\" y2=\"88.9688\"/></a><!--MD5=[f6df4d0ebaf0b5dfb2ced0ae5af7c670]\n",
       "cluster E4--><a href=\"psysml:1d5dfbac-e0d0-4dae-a20f-d178674246aa\" target=\"_top\" title=\"psysml:1d5dfbac-e0d0-4dae-a20f-d178674246aa\" xlink:actuate=\"onRequest\" xlink:href=\"psysml:1d5dfbac-e0d0-4dae-a20f-d178674246aa\" xlink:show=\"new\" xlink:title=\"psysml:1d5dfbac-e0d0-4dae-a20f-d178674246aa\" xlink:type=\"simple\"><rect fill=\"#FFFFFF\" filter=\"url(#f2tkgo8u9qxnc)\" height=\"107\" id=\"E4\" style=\"stroke: #A80036; stroke-width: 1.5;\" width=\"94\" x=\"40\" y=\"49\"/><rect fill=\"#FEFECE\" height=\"37.9375\" style=\"stroke: #A80036; stroke-width: 1.5;\" width=\"94\" x=\"40\" y=\"49\"/><text fill=\"#000000\" font-family=\"sans-serif\" font-size=\"12\" font-style=\"italic\" lengthAdjust=\"spacingAndGlyphs\" textLength=\"64\" x=\"55\" y=\"65.1387\">«part def»</text><text fill=\"#000000\" font-family=\"sans-serif\" font-size=\"12\" lengthAdjust=\"spacingAndGlyphs\" textLength=\"8\" x=\"83\" y=\"79.1074\">C</text></a><g id=\"E1.E2.E3\"><a href=\"psysml:c747f0dc-049c-42e5-8830-b905b214a6d2\" target=\"_top\" title=\"psysml:c747f0dc-049c-42e5-8830-b905b214a6d2\" xlink:actuate=\"onRequest\" xlink:href=\"psysml:c747f0dc-049c-42e5-8830-b905b214a6d2\" xlink:show=\"new\" xlink:title=\"psysml:c747f0dc-049c-42e5-8830-b905b214a6d2\" xlink:type=\"simple\"><rect fill=\"#FEFECE\" filter=\"url(#f2tkgo8u9qxnc)\" height=\"40\" id=\"E3\" rx=\"10\" ry=\"10\" style=\"stroke: #A80036; stroke-width: 1.5;\" width=\"50\" x=\"174\" y=\"100\"/><text fill=\"#000000\" font-family=\"sans-serif\" font-size=\"12\" lengthAdjust=\"spacingAndGlyphs\" textLength=\"8\" x=\"195\" y=\"116.1387\">a</text></a></g><g id=\"E1.E4.E5\"><a href=\"psysml:31443893-624e-4834-b51f-adb4e581d804\" target=\"_top\" title=\"psysml:31443893-624e-4834-b51f-adb4e581d804\" xlink:actuate=\"onRequest\" xlink:href=\"psysml:31443893-624e-4834-b51f-adb4e581d804\" xlink:show=\"new\" xlink:title=\"psysml:31443893-624e-4834-b51f-adb4e581d804\" xlink:type=\"simple\"><rect fill=\"#FEFECE\" filter=\"url(#f2tkgo8u9qxnc)\" height=\"40\" id=\"E5\" rx=\"10\" ry=\"10\" style=\"stroke: #A80036; stroke-width: 1.5;\" width=\"61\" x=\"56.5\" y=\"100\"/><text fill=\"#000000\" font-family=\"sans-serif\" font-size=\"12\" lengthAdjust=\"spacingAndGlyphs\" textLength=\"46\" x=\"62\" y=\"116.1387\">g=./f/a;</text></a></g><!--MD5=[7370eb138de408ce13f0129760b1d6c3]\n",
       "@startuml\r\n",
       "skinparam ranksep 10\r\n",
       "skinparam rectangle {\r\n",
       " backgroundColor<<block>> LightGreen\r\n",
       "}\r\n",
       "skinparam wrapWidth 300\r\n",
       "hide circle\r\n",
       "\r\n",
       "package \"Q\" as E1  [[psysml:8fe83ee3-fcec-497a-a9db-5b3b84baea71 ]]  {\r\n",
       "rec usage \"f\" as E2  [[psysml:c953ea8a-4e0b-4404-8471-1de142ee019c ]] {\r\n",
       "rec usage \"a\" as E3  [[psysml:c747f0dc-049c-42e5-8830-b905b214a6d2 ]] {\r\n",
       "}\r\n",
       "}\r\n",
       "rec def \"C\" as E4  <<(T,blue)part def>> [[psysml:1d5dfbac-e0d0-4dae-a20f-d178674246aa ]] {\r\n",
       "rec usage \"g=./f/a; \" as E5  [[psysml:31443893-624e-4834-b51f-adb4e581d804 ]] {\r\n",
       "}\r\n",
       "}\r\n",
       "}\r\n",
       "@enduml\r\n",
       "\n",
       "PlantUML version 1.2020.13(Sat Jun 13 12:26:38 UTC 2020)\n",
       "(EPL source distribution)\n",
       "Java Runtime: OpenJDK Runtime Environment\n",
       "JVM: OpenJDK 64-Bit Server VM\n",
       "Default Encoding: UTF-8\n",
       "Language: en\n",
       "Country: null\n",
       "--></g></svg>"
      ]
     },
     "execution_count": 26,
     "metadata": {},
     "output_type": "execute_result"
    }
   ],
   "source": [
    "%viz --style=\"STDCOLOR\" --view=\"Interconnection\" \"Q\""
   ]
  },
  {
   "cell_type": "code",
   "execution_count": 27,
   "id": "c7cab387",
   "metadata": {
    "execution": {
     "iopub.execute_input": "2021-04-20T07:21:51.641855Z",
     "iopub.status.busy": "2021-04-20T07:21:51.641095Z",
     "iopub.status.idle": "2021-04-20T07:21:51.646900Z",
     "shell.execute_reply": "2021-04-20T07:21:51.646564Z"
    }
   },
   "outputs": [
    {
     "data": {
      "image/svg+xml": [
       "<?xml version=\"1.0\" encoding=\"UTF-8\" standalone=\"no\"?><svg xmlns=\"http://www.w3.org/2000/svg\" xmlns:xlink=\"http://www.w3.org/1999/xlink\" contentScriptType=\"application/ecmascript\" contentStyleType=\"text/css\" height=\"12px\" preserveAspectRatio=\"none\" style=\"width:12px;height:12px;\" version=\"1.1\" viewBox=\"0 0 12 12\" width=\"12px\" zoomAndPan=\"magnify\"><defs/><g><!--MD5=[9863325348a96a77dacc89509d8ee65e]\n",
       "@startuml\r\n",
       "skinparam ranksep 8\r\n",
       "skinparam wrapWidth 300\r\n",
       "hide circle\r\n",
       "\r\n",
       "@enduml\r\n",
       "\n",
       "PlantUML version 1.2020.13(Sat Jun 13 12:26:38 UTC 2020)\n",
       "(EPL source distribution)\n",
       "Java Runtime: OpenJDK Runtime Environment\n",
       "JVM: OpenJDK 64-Bit Server VM\n",
       "Default Encoding: UTF-8\n",
       "Language: en\n",
       "Country: null\n",
       "--></g></svg>"
      ]
     },
     "execution_count": 27,
     "metadata": {},
     "output_type": "execute_result"
    }
   ],
   "source": [
    "%viz --style=\"STDCOLOR\" --view=\"Action\" \"Q\""
   ]
  },
  {
   "cell_type": "code",
   "execution_count": 28,
   "id": "a3d002e8",
   "metadata": {
    "execution": {
     "iopub.execute_input": "2021-04-20T07:21:51.698198Z",
     "iopub.status.busy": "2021-04-20T07:21:51.697658Z",
     "iopub.status.idle": "2021-04-20T07:21:51.729489Z",
     "shell.execute_reply": "2021-04-20T07:21:51.729123Z"
    }
   },
   "outputs": [
    {
     "data": {
      "image/svg+xml": [
       "<?xml version=\"1.0\" encoding=\"UTF-8\" standalone=\"no\"?><svg xmlns=\"http://www.w3.org/2000/svg\" xmlns:xlink=\"http://www.w3.org/1999/xlink\" contentScriptType=\"application/ecmascript\" contentStyleType=\"text/css\" height=\"221px\" preserveAspectRatio=\"none\" style=\"width:213px;height:221px;\" version=\"1.1\" viewBox=\"0 0 213 221\" width=\"213px\" zoomAndPan=\"magnify\"><defs><filter height=\"300%\" id=\"fx4yprg1ewk59\" width=\"300%\" x=\"-1\" y=\"-1\"><feGaussianBlur result=\"blurOut\" stdDeviation=\"2.0\"/><feColorMatrix in=\"blurOut\" result=\"blurOut2\" type=\"matrix\" values=\"0 0 0 0 0 0 0 0 0 0 0 0 0 0 0 0 0 0 .4 0\"/><feOffset dx=\"4.0\" dy=\"4.0\" in=\"blurOut2\" result=\"blurOut3\"/><feBlend in=\"SourceGraphic\" in2=\"blurOut3\" mode=\"normal\"/></filter></defs><g><!--MD5=[fbc87193dbaf4d95561dea2c320d4a47]\n",
       "cluster E1--><a href=\"psysml:8fe83ee3-fcec-497a-a9db-5b3b84baea71\" target=\"_top\" title=\"psysml:8fe83ee3-fcec-497a-a9db-5b3b84baea71\" xlink:actuate=\"onRequest\" xlink:href=\"psysml:8fe83ee3-fcec-497a-a9db-5b3b84baea71\" xlink:show=\"new\" xlink:title=\"psysml:8fe83ee3-fcec-497a-a9db-5b3b84baea71\" xlink:type=\"simple\"><polygon fill=\"#FFFFFF\" filter=\"url(#fx4yprg1ewk59)\" points=\"16,6,34,6,41,28.2969,191,28.2969,191,209,16,209,16,6\" style=\"stroke: #000000; stroke-width: 1.5;\"/><line style=\"stroke: #000000; stroke-width: 1.5;\" x1=\"16\" x2=\"41\" y1=\"28.2969\" y2=\"28.2969\"/><text fill=\"#000000\" font-family=\"sans-serif\" font-size=\"14\" font-weight=\"bold\" lengthAdjust=\"spacingAndGlyphs\" textLength=\"12\" x=\"20\" y=\"20.9951\">Q</text></a><!--MD5=[b4997ac47864f28c2f74865a473b2911]\n",
       "class E2--><a href=\"psysml:c953ea8a-4e0b-4404-8471-1de142ee019c\" target=\"_top\" title=\"psysml:c953ea8a-4e0b-4404-8471-1de142ee019c\" xlink:actuate=\"onRequest\" xlink:href=\"psysml:c953ea8a-4e0b-4404-8471-1de142ee019c\" xlink:show=\"new\" xlink:title=\"psysml:c953ea8a-4e0b-4404-8471-1de142ee019c\" xlink:type=\"simple\"><rect fill=\"#FEFECE\" filter=\"url(#fx4yprg1ewk59)\" height=\"45.9375\" id=\"E2\" rx=\"10\" ry=\"10\" style=\"stroke: #A80036; stroke-width: 1.5;\" width=\"42\" x=\"133\" y=\"41\"/><text fill=\"#000000\" font-family=\"sans-serif\" font-size=\"12\" font-style=\"italic\" lengthAdjust=\"spacingAndGlyphs\" textLength=\"40\" x=\"134\" y=\"57.1387\">«part»</text><text fill=\"#000000\" font-family=\"sans-serif\" font-size=\"12\" lengthAdjust=\"spacingAndGlyphs\" textLength=\"4\" x=\"152\" y=\"71.1074\">f</text><line style=\"stroke: #A80036; stroke-width: 1.5;\" x1=\"134\" x2=\"174\" y1=\"78.9375\" y2=\"78.9375\"/></a><!--MD5=[09b614a08d8cba4a07c9adeb5e0fee81]\n",
       "class E3--><a href=\"psysml:c747f0dc-049c-42e5-8830-b905b214a6d2\" target=\"_top\" title=\"psysml:c747f0dc-049c-42e5-8830-b905b214a6d2\" xlink:actuate=\"onRequest\" xlink:href=\"psysml:c747f0dc-049c-42e5-8830-b905b214a6d2\" xlink:show=\"new\" xlink:title=\"psysml:c747f0dc-049c-42e5-8830-b905b214a6d2\" xlink:type=\"simple\"><rect fill=\"#FEFECE\" filter=\"url(#fx4yprg1ewk59)\" height=\"45.9375\" id=\"E3\" rx=\"10\" ry=\"10\" style=\"stroke: #A80036; stroke-width: 1.5;\" width=\"42\" x=\"133\" y=\"147\"/><text fill=\"#000000\" font-family=\"sans-serif\" font-size=\"12\" font-style=\"italic\" lengthAdjust=\"spacingAndGlyphs\" textLength=\"40\" x=\"134\" y=\"163.1387\">«part»</text><text fill=\"#000000\" font-family=\"sans-serif\" font-size=\"12\" lengthAdjust=\"spacingAndGlyphs\" textLength=\"8\" x=\"150\" y=\"177.1074\">a</text><line style=\"stroke: #A80036; stroke-width: 1.5;\" x1=\"134\" x2=\"174\" y1=\"184.9375\" y2=\"184.9375\"/></a><!--MD5=[ebbe1d658d1005bcc118a6aa81145e00]\n",
       "class E4--><a href=\"psysml:1d5dfbac-e0d0-4dae-a20f-d178674246aa\" target=\"_top\" title=\"psysml:1d5dfbac-e0d0-4dae-a20f-d178674246aa\" xlink:actuate=\"onRequest\" xlink:href=\"psysml:1d5dfbac-e0d0-4dae-a20f-d178674246aa\" xlink:show=\"new\" xlink:title=\"psysml:1d5dfbac-e0d0-4dae-a20f-d178674246aa\" xlink:type=\"simple\"><rect fill=\"#FEFECE\" filter=\"url(#fx4yprg1ewk59)\" height=\"45.9375\" id=\"E4\" style=\"stroke: #A80036; stroke-width: 1.5;\" width=\"66\" x=\"32\" y=\"41\"/><text fill=\"#000000\" font-family=\"sans-serif\" font-size=\"12\" font-style=\"italic\" lengthAdjust=\"spacingAndGlyphs\" textLength=\"64\" x=\"33\" y=\"57.1387\">«part def»</text><text fill=\"#000000\" font-family=\"sans-serif\" font-size=\"12\" lengthAdjust=\"spacingAndGlyphs\" textLength=\"8\" x=\"61\" y=\"71.1074\">C</text><line style=\"stroke: #A80036; stroke-width: 1.5;\" x1=\"33\" x2=\"97\" y1=\"78.9375\" y2=\"78.9375\"/></a><!--MD5=[270fce915f116d4de14055a7c1d9a0f3]\n",
       "class E5--><a href=\"psysml:31443893-624e-4834-b51f-adb4e581d804\" target=\"_top\" title=\"psysml:31443893-624e-4834-b51f-adb4e581d804\" xlink:actuate=\"onRequest\" xlink:href=\"psysml:31443893-624e-4834-b51f-adb4e581d804\" xlink:show=\"new\" xlink:title=\"psysml:31443893-624e-4834-b51f-adb4e581d804\" xlink:type=\"simple\"><rect fill=\"#FEFECE\" filter=\"url(#fx4yprg1ewk59)\" height=\"45.9375\" id=\"E5\" rx=\"10\" ry=\"10\" style=\"stroke: #A80036; stroke-width: 1.5;\" width=\"42\" x=\"44\" y=\"147\"/><text fill=\"#000000\" font-family=\"sans-serif\" font-size=\"12\" font-style=\"italic\" lengthAdjust=\"spacingAndGlyphs\" textLength=\"40\" x=\"45\" y=\"163.1387\">«part»</text><text fill=\"#000000\" font-family=\"sans-serif\" font-size=\"12\" lengthAdjust=\"spacingAndGlyphs\" textLength=\"8\" x=\"61\" y=\"177.1074\">g</text><line style=\"stroke: #A80036; stroke-width: 1.5;\" x1=\"45\" x2=\"85\" y1=\"184.9375\" y2=\"184.9375\"/></a><!--MD5=[209b3feb70ccb6233bfe1053d122c12c]\n",
       "reverse link E2 to E3--><a href=\"psysml:144a9ea2-c14f-46d2-8ece-b06edd35cf79\" target=\"_top\" title=\"psysml:144a9ea2-c14f-46d2-8ece-b06edd35cf79\" xlink:actuate=\"onRequest\" xlink:href=\"psysml:144a9ea2-c14f-46d2-8ece-b06edd35cf79\" xlink:show=\"new\" xlink:title=\"psysml:144a9ea2-c14f-46d2-8ece-b06edd35cf79\" xlink:type=\"simple\"><path d=\"M154,100.44 C154,115.87 154,133.47 154,146.98 \" fill=\"none\" id=\"E2&lt;-E3\" style=\"stroke: #A80036; stroke-width: 1.0;\"/><polygon fill=\"#A80036\" points=\"154,87.06,150,93.06,154,99.06,158,93.06,154,87.06\" style=\"stroke: #A80036; stroke-width: 1.0;\"/></a><!--MD5=[62aa6af11e70f752912c1cb0466f24f7]\n",
       "reverse link E4 to E5--><a href=\"psysml:ffd50afc-9abd-4dce-afc7-dff7922af1b1\" target=\"_top\" title=\"psysml:ffd50afc-9abd-4dce-afc7-dff7922af1b1\" xlink:actuate=\"onRequest\" xlink:href=\"psysml:ffd50afc-9abd-4dce-afc7-dff7922af1b1\" xlink:show=\"new\" xlink:title=\"psysml:ffd50afc-9abd-4dce-afc7-dff7922af1b1\" xlink:type=\"simple\"><path d=\"M65,100.44 C65,115.87 65,133.47 65,146.98 \" fill=\"none\" id=\"E4&lt;-E5\" style=\"stroke: #A80036; stroke-width: 1.0;\"/><polygon fill=\"#A80036\" points=\"65,87.06,61,93.06,65,99.06,69,93.06,65,87.06\" style=\"stroke: #A80036; stroke-width: 1.0;\"/></a><!--MD5=[491dc3527faa74bf94acb8a7172e4b9a]\n",
       "@startuml\r\n",
       "skinparam wrapWidth 300\r\n",
       "hide circle\r\n",
       "\r\n",
       "package \"Q\" as E1  [[psysml:8fe83ee3-fcec-497a-a9db-5b3b84baea71 ]]  {\r\n",
       "comp usage \"f\" as E2  <<(T,blue)part>> [[psysml:c953ea8a-4e0b-4404-8471-1de142ee019c ]] {\r\n",
       "}\r\n",
       "comp usage \"a\" as E3  <<(T,blue)part>> [[psysml:c747f0dc-049c-42e5-8830-b905b214a6d2 ]] {\r\n",
       "}\r\n",
       "comp def \"C\" as E4  <<(T,blue)part def>> [[psysml:1d5dfbac-e0d0-4dae-a20f-d178674246aa ]] {\r\n",
       "}\r\n",
       "comp usage \"g\" as E5  <<(T,blue)part>> [[psysml:31443893-624e-4834-b51f-adb4e581d804 ]] {\r\n",
       "}\r\n",
       "E2 *- - E3 [[psysml:144a9ea2-c14f-46d2-8ece-b06edd35cf79 ]] \r\n",
       "E4 *- - E5 [[psysml:ffd50afc-9abd-4dce-afc7-dff7922af1b1 ]] \r\n",
       "}\r\n",
       "@enduml\r\n",
       "\n",
       "PlantUML version 1.2020.13(Sat Jun 13 12:26:38 UTC 2020)\n",
       "(EPL source distribution)\n",
       "Java Runtime: OpenJDK Runtime Environment\n",
       "JVM: OpenJDK 64-Bit Server VM\n",
       "Default Encoding: UTF-8\n",
       "Language: en\n",
       "Country: null\n",
       "--></g></svg>"
      ]
     },
     "execution_count": 28,
     "metadata": {},
     "output_type": "execute_result"
    }
   ],
   "source": [
    "%viz --style=\"STDCOLOR\" --view=\"Sequence\" \"Q\""
   ]
  },
  {
   "cell_type": "code",
   "execution_count": 29,
   "id": "5926c157",
   "metadata": {
    "execution": {
     "iopub.execute_input": "2021-04-20T07:21:51.781121Z",
     "iopub.status.busy": "2021-04-20T07:21:51.780493Z",
     "iopub.status.idle": "2021-04-20T07:21:51.807447Z",
     "shell.execute_reply": "2021-04-20T07:21:51.806217Z"
    }
   },
   "outputs": [
    {
     "data": {
      "image/svg+xml": [
       "<?xml version=\"1.0\" encoding=\"UTF-8\" standalone=\"no\"?><svg xmlns=\"http://www.w3.org/2000/svg\" xmlns:xlink=\"http://www.w3.org/1999/xlink\" contentScriptType=\"application/ecmascript\" contentStyleType=\"text/css\" height=\"221px\" preserveAspectRatio=\"none\" style=\"width:213px;height:221px;\" version=\"1.1\" viewBox=\"0 0 213 221\" width=\"213px\" zoomAndPan=\"magnify\"><defs><filter height=\"300%\" id=\"fx4yprg1ewk59\" width=\"300%\" x=\"-1\" y=\"-1\"><feGaussianBlur result=\"blurOut\" stdDeviation=\"2.0\"/><feColorMatrix in=\"blurOut\" result=\"blurOut2\" type=\"matrix\" values=\"0 0 0 0 0 0 0 0 0 0 0 0 0 0 0 0 0 0 .4 0\"/><feOffset dx=\"4.0\" dy=\"4.0\" in=\"blurOut2\" result=\"blurOut3\"/><feBlend in=\"SourceGraphic\" in2=\"blurOut3\" mode=\"normal\"/></filter></defs><g><!--MD5=[fbc87193dbaf4d95561dea2c320d4a47]\n",
       "cluster E1--><a href=\"psysml:8fe83ee3-fcec-497a-a9db-5b3b84baea71\" target=\"_top\" title=\"psysml:8fe83ee3-fcec-497a-a9db-5b3b84baea71\" xlink:actuate=\"onRequest\" xlink:href=\"psysml:8fe83ee3-fcec-497a-a9db-5b3b84baea71\" xlink:show=\"new\" xlink:title=\"psysml:8fe83ee3-fcec-497a-a9db-5b3b84baea71\" xlink:type=\"simple\"><polygon fill=\"#FFFFFF\" filter=\"url(#fx4yprg1ewk59)\" points=\"16,6,34,6,41,28.2969,191,28.2969,191,209,16,209,16,6\" style=\"stroke: #000000; stroke-width: 1.5;\"/><line style=\"stroke: #000000; stroke-width: 1.5;\" x1=\"16\" x2=\"41\" y1=\"28.2969\" y2=\"28.2969\"/><text fill=\"#000000\" font-family=\"sans-serif\" font-size=\"14\" font-weight=\"bold\" lengthAdjust=\"spacingAndGlyphs\" textLength=\"12\" x=\"20\" y=\"20.9951\">Q</text></a><!--MD5=[b4997ac47864f28c2f74865a473b2911]\n",
       "class E2--><a href=\"psysml:c953ea8a-4e0b-4404-8471-1de142ee019c\" target=\"_top\" title=\"psysml:c953ea8a-4e0b-4404-8471-1de142ee019c\" xlink:actuate=\"onRequest\" xlink:href=\"psysml:c953ea8a-4e0b-4404-8471-1de142ee019c\" xlink:show=\"new\" xlink:title=\"psysml:c953ea8a-4e0b-4404-8471-1de142ee019c\" xlink:type=\"simple\"><rect fill=\"#FEFECE\" filter=\"url(#fx4yprg1ewk59)\" height=\"45.9375\" id=\"E2\" rx=\"10\" ry=\"10\" style=\"stroke: #A80036; stroke-width: 1.5;\" width=\"42\" x=\"133\" y=\"41\"/><text fill=\"#000000\" font-family=\"sans-serif\" font-size=\"12\" font-style=\"italic\" lengthAdjust=\"spacingAndGlyphs\" textLength=\"40\" x=\"134\" y=\"57.1387\">«part»</text><text fill=\"#000000\" font-family=\"sans-serif\" font-size=\"12\" lengthAdjust=\"spacingAndGlyphs\" textLength=\"4\" x=\"152\" y=\"71.1074\">f</text><line style=\"stroke: #A80036; stroke-width: 1.5;\" x1=\"134\" x2=\"174\" y1=\"78.9375\" y2=\"78.9375\"/></a><!--MD5=[09b614a08d8cba4a07c9adeb5e0fee81]\n",
       "class E3--><a href=\"psysml:c747f0dc-049c-42e5-8830-b905b214a6d2\" target=\"_top\" title=\"psysml:c747f0dc-049c-42e5-8830-b905b214a6d2\" xlink:actuate=\"onRequest\" xlink:href=\"psysml:c747f0dc-049c-42e5-8830-b905b214a6d2\" xlink:show=\"new\" xlink:title=\"psysml:c747f0dc-049c-42e5-8830-b905b214a6d2\" xlink:type=\"simple\"><rect fill=\"#FEFECE\" filter=\"url(#fx4yprg1ewk59)\" height=\"45.9375\" id=\"E3\" rx=\"10\" ry=\"10\" style=\"stroke: #A80036; stroke-width: 1.5;\" width=\"42\" x=\"133\" y=\"147\"/><text fill=\"#000000\" font-family=\"sans-serif\" font-size=\"12\" font-style=\"italic\" lengthAdjust=\"spacingAndGlyphs\" textLength=\"40\" x=\"134\" y=\"163.1387\">«part»</text><text fill=\"#000000\" font-family=\"sans-serif\" font-size=\"12\" lengthAdjust=\"spacingAndGlyphs\" textLength=\"8\" x=\"150\" y=\"177.1074\">a</text><line style=\"stroke: #A80036; stroke-width: 1.5;\" x1=\"134\" x2=\"174\" y1=\"184.9375\" y2=\"184.9375\"/></a><!--MD5=[ebbe1d658d1005bcc118a6aa81145e00]\n",
       "class E4--><a href=\"psysml:1d5dfbac-e0d0-4dae-a20f-d178674246aa\" target=\"_top\" title=\"psysml:1d5dfbac-e0d0-4dae-a20f-d178674246aa\" xlink:actuate=\"onRequest\" xlink:href=\"psysml:1d5dfbac-e0d0-4dae-a20f-d178674246aa\" xlink:show=\"new\" xlink:title=\"psysml:1d5dfbac-e0d0-4dae-a20f-d178674246aa\" xlink:type=\"simple\"><rect fill=\"#FEFECE\" filter=\"url(#fx4yprg1ewk59)\" height=\"45.9375\" id=\"E4\" style=\"stroke: #A80036; stroke-width: 1.5;\" width=\"66\" x=\"32\" y=\"41\"/><text fill=\"#000000\" font-family=\"sans-serif\" font-size=\"12\" font-style=\"italic\" lengthAdjust=\"spacingAndGlyphs\" textLength=\"64\" x=\"33\" y=\"57.1387\">«part def»</text><text fill=\"#000000\" font-family=\"sans-serif\" font-size=\"12\" lengthAdjust=\"spacingAndGlyphs\" textLength=\"8\" x=\"61\" y=\"71.1074\">C</text><line style=\"stroke: #A80036; stroke-width: 1.5;\" x1=\"33\" x2=\"97\" y1=\"78.9375\" y2=\"78.9375\"/></a><!--MD5=[270fce915f116d4de14055a7c1d9a0f3]\n",
       "class E5--><a href=\"psysml:31443893-624e-4834-b51f-adb4e581d804\" target=\"_top\" title=\"psysml:31443893-624e-4834-b51f-adb4e581d804\" xlink:actuate=\"onRequest\" xlink:href=\"psysml:31443893-624e-4834-b51f-adb4e581d804\" xlink:show=\"new\" xlink:title=\"psysml:31443893-624e-4834-b51f-adb4e581d804\" xlink:type=\"simple\"><rect fill=\"#FEFECE\" filter=\"url(#fx4yprg1ewk59)\" height=\"45.9375\" id=\"E5\" rx=\"10\" ry=\"10\" style=\"stroke: #A80036; stroke-width: 1.5;\" width=\"42\" x=\"44\" y=\"147\"/><text fill=\"#000000\" font-family=\"sans-serif\" font-size=\"12\" font-style=\"italic\" lengthAdjust=\"spacingAndGlyphs\" textLength=\"40\" x=\"45\" y=\"163.1387\">«part»</text><text fill=\"#000000\" font-family=\"sans-serif\" font-size=\"12\" lengthAdjust=\"spacingAndGlyphs\" textLength=\"8\" x=\"61\" y=\"177.1074\">g</text><line style=\"stroke: #A80036; stroke-width: 1.5;\" x1=\"45\" x2=\"85\" y1=\"184.9375\" y2=\"184.9375\"/></a><!--MD5=[209b3feb70ccb6233bfe1053d122c12c]\n",
       "reverse link E2 to E3--><a href=\"psysml:144a9ea2-c14f-46d2-8ece-b06edd35cf79\" target=\"_top\" title=\"psysml:144a9ea2-c14f-46d2-8ece-b06edd35cf79\" xlink:actuate=\"onRequest\" xlink:href=\"psysml:144a9ea2-c14f-46d2-8ece-b06edd35cf79\" xlink:show=\"new\" xlink:title=\"psysml:144a9ea2-c14f-46d2-8ece-b06edd35cf79\" xlink:type=\"simple\"><path d=\"M154,100.44 C154,115.87 154,133.47 154,146.98 \" fill=\"none\" id=\"E2&lt;-E3\" style=\"stroke: #A80036; stroke-width: 1.0;\"/><polygon fill=\"#A80036\" points=\"154,87.06,150,93.06,154,99.06,158,93.06,154,87.06\" style=\"stroke: #A80036; stroke-width: 1.0;\"/></a><!--MD5=[62aa6af11e70f752912c1cb0466f24f7]\n",
       "reverse link E4 to E5--><a href=\"psysml:ffd50afc-9abd-4dce-afc7-dff7922af1b1\" target=\"_top\" title=\"psysml:ffd50afc-9abd-4dce-afc7-dff7922af1b1\" xlink:actuate=\"onRequest\" xlink:href=\"psysml:ffd50afc-9abd-4dce-afc7-dff7922af1b1\" xlink:show=\"new\" xlink:title=\"psysml:ffd50afc-9abd-4dce-afc7-dff7922af1b1\" xlink:type=\"simple\"><path d=\"M65,100.44 C65,115.87 65,133.47 65,146.98 \" fill=\"none\" id=\"E4&lt;-E5\" style=\"stroke: #A80036; stroke-width: 1.0;\"/><polygon fill=\"#A80036\" points=\"65,87.06,61,93.06,65,99.06,69,93.06,65,87.06\" style=\"stroke: #A80036; stroke-width: 1.0;\"/></a><!--MD5=[491dc3527faa74bf94acb8a7172e4b9a]\n",
       "@startuml\r\n",
       "skinparam wrapWidth 300\r\n",
       "hide circle\r\n",
       "\r\n",
       "package \"Q\" as E1  [[psysml:8fe83ee3-fcec-497a-a9db-5b3b84baea71 ]]  {\r\n",
       "comp usage \"f\" as E2  <<(T,blue)part>> [[psysml:c953ea8a-4e0b-4404-8471-1de142ee019c ]] {\r\n",
       "}\r\n",
       "comp usage \"a\" as E3  <<(T,blue)part>> [[psysml:c747f0dc-049c-42e5-8830-b905b214a6d2 ]] {\r\n",
       "}\r\n",
       "comp def \"C\" as E4  <<(T,blue)part def>> [[psysml:1d5dfbac-e0d0-4dae-a20f-d178674246aa ]] {\r\n",
       "}\r\n",
       "comp usage \"g\" as E5  <<(T,blue)part>> [[psysml:31443893-624e-4834-b51f-adb4e581d804 ]] {\r\n",
       "}\r\n",
       "E2 *- - E3 [[psysml:144a9ea2-c14f-46d2-8ece-b06edd35cf79 ]] \r\n",
       "E4 *- - E5 [[psysml:ffd50afc-9abd-4dce-afc7-dff7922af1b1 ]] \r\n",
       "}\r\n",
       "@enduml\r\n",
       "\n",
       "PlantUML version 1.2020.13(Sat Jun 13 12:26:38 UTC 2020)\n",
       "(EPL source distribution)\n",
       "Java Runtime: OpenJDK Runtime Environment\n",
       "JVM: OpenJDK 64-Bit Server VM\n",
       "Default Encoding: UTF-8\n",
       "Language: en\n",
       "Country: null\n",
       "--></g></svg>"
      ]
     },
     "execution_count": 29,
     "metadata": {},
     "output_type": "execute_result"
    }
   ],
   "source": [
    "%viz --style=\"STDCOLOR\" --view=\"MIXED\" \"Q\""
   ]
  },
  {
   "cell_type": "code",
   "execution_count": 30,
   "id": "ca16f03c",
   "metadata": {
    "execution": {
     "iopub.execute_input": "2021-04-20T07:21:51.858946Z",
     "iopub.status.busy": "2021-04-20T07:21:51.858012Z",
     "iopub.status.idle": "2021-04-20T07:21:51.915647Z",
     "shell.execute_reply": "2021-04-20T07:21:51.913999Z"
    }
   },
   "outputs": [
    {
     "data": {
      "image/svg+xml": [
       "<?xml version=\"1.0\" encoding=\"UTF-8\" standalone=\"no\"?><svg xmlns=\"http://www.w3.org/2000/svg\" xmlns:xlink=\"http://www.w3.org/1999/xlink\" contentScriptType=\"application/ecmascript\" contentStyleType=\"text/css\" height=\"221px\" preserveAspectRatio=\"none\" style=\"width:241px;height:221px;\" version=\"1.1\" viewBox=\"0 0 241 221\" width=\"241px\" zoomAndPan=\"magnify\"><defs><filter height=\"300%\" id=\"f7a7s18nn903h\" width=\"300%\" x=\"-1\" y=\"-1\"><feGaussianBlur result=\"blurOut\" stdDeviation=\"2.0\"/><feColorMatrix in=\"blurOut\" result=\"blurOut2\" type=\"matrix\" values=\"0 0 0 0 0 0 0 0 0 0 0 0 0 0 0 0 0 0 .4 0\"/><feOffset dx=\"4.0\" dy=\"4.0\" in=\"blurOut2\" result=\"blurOut3\"/><feBlend in=\"SourceGraphic\" in2=\"blurOut3\" mode=\"normal\"/></filter></defs><g><!--MD5=[fbc87193dbaf4d95561dea2c320d4a47]\n",
       "cluster E1--><a href=\"psysml:8fe83ee3-fcec-497a-a9db-5b3b84baea71\" target=\"_top\" title=\"psysml:8fe83ee3-fcec-497a-a9db-5b3b84baea71\" xlink:actuate=\"onRequest\" xlink:href=\"psysml:8fe83ee3-fcec-497a-a9db-5b3b84baea71\" xlink:show=\"new\" xlink:title=\"psysml:8fe83ee3-fcec-497a-a9db-5b3b84baea71\" xlink:type=\"simple\"><polygon fill=\"#FFFFFF\" filter=\"url(#f7a7s18nn903h)\" points=\"16,6,34,6,41,28.2969,219,28.2969,219,209,16,209,16,6\" style=\"stroke: #000000; stroke-width: 1.5;\"/><line style=\"stroke: #000000; stroke-width: 1.5;\" x1=\"16\" x2=\"41\" y1=\"28.2969\" y2=\"28.2969\"/><text fill=\"#000000\" font-family=\"sans-serif\" font-size=\"14\" font-weight=\"bold\" lengthAdjust=\"spacingAndGlyphs\" textLength=\"12\" x=\"20\" y=\"20.9951\">Q</text></a><!--MD5=[b4997ac47864f28c2f74865a473b2911]\n",
       "class E2--><a href=\"psysml:c953ea8a-4e0b-4404-8471-1de142ee019c\" target=\"_top\" title=\"psysml:c953ea8a-4e0b-4404-8471-1de142ee019c\" xlink:actuate=\"onRequest\" xlink:href=\"psysml:c953ea8a-4e0b-4404-8471-1de142ee019c\" xlink:show=\"new\" xlink:title=\"psysml:c953ea8a-4e0b-4404-8471-1de142ee019c\" xlink:type=\"simple\"><rect fill=\"#FEFECE\" filter=\"url(#f7a7s18nn903h)\" height=\"45.9375\" id=\"E2\" rx=\"10\" ry=\"10\" style=\"stroke: #A80036; stroke-width: 1.5;\" width=\"68\" x=\"135\" y=\"41\"/><ellipse cx=\"150\" cy=\"59.9688\" fill=\"#32CD32\" rx=\"11\" ry=\"11\" style=\"stroke: #A80036; stroke-width: 1.0;\"/><path d=\"M149.7969,55.6406 L149.7969,59.2656 L150.7969,59.2656 Q152,59.2656 152.4844,58.8594 Q152.9688,58.4531 152.9688,57.4531 Q152.9688,56.4531 152.4844,56.0469 Q152,55.6406 150.7969,55.6406 L149.7969,55.6406 Z M147.3438,53.5781 L150.7031,53.5781 Q153.2656,53.5781 154.3906,54.5 Q155.5156,55.4063 155.5156,57.4531 Q155.5156,59.5 154.3906,60.4219 Q153.2656,61.3281 150.7031,61.3281 L149.7969,61.3281 L149.7969,65.9688 L147.3438,65.9688 L147.3438,53.5781 Z \"/><text fill=\"#000000\" font-family=\"sans-serif\" font-size=\"12\" font-style=\"italic\" lengthAdjust=\"spacingAndGlyphs\" textLength=\"40\" x=\"162\" y=\"57.1387\">«part»</text><text fill=\"#000000\" font-family=\"sans-serif\" font-size=\"12\" lengthAdjust=\"spacingAndGlyphs\" textLength=\"4\" x=\"180\" y=\"71.1074\">f</text><line style=\"stroke: #A80036; stroke-width: 1.5;\" x1=\"136\" x2=\"202\" y1=\"78.9375\" y2=\"78.9375\"/></a><!--MD5=[09b614a08d8cba4a07c9adeb5e0fee81]\n",
       "class E3--><a href=\"psysml:c747f0dc-049c-42e5-8830-b905b214a6d2\" target=\"_top\" title=\"psysml:c747f0dc-049c-42e5-8830-b905b214a6d2\" xlink:actuate=\"onRequest\" xlink:href=\"psysml:c747f0dc-049c-42e5-8830-b905b214a6d2\" xlink:show=\"new\" xlink:title=\"psysml:c747f0dc-049c-42e5-8830-b905b214a6d2\" xlink:type=\"simple\"><rect fill=\"#FEFECE\" filter=\"url(#f7a7s18nn903h)\" height=\"45.9375\" id=\"E3\" rx=\"10\" ry=\"10\" style=\"stroke: #A80036; stroke-width: 1.5;\" width=\"68\" x=\"135\" y=\"147\"/><ellipse cx=\"150\" cy=\"165.9688\" fill=\"#32CD32\" rx=\"11\" ry=\"11\" style=\"stroke: #A80036; stroke-width: 1.0;\"/><path d=\"M149.7969,161.6406 L149.7969,165.2656 L150.7969,165.2656 Q152,165.2656 152.4844,164.8594 Q152.9688,164.4531 152.9688,163.4531 Q152.9688,162.4531 152.4844,162.0469 Q152,161.6406 150.7969,161.6406 L149.7969,161.6406 Z M147.3438,159.5781 L150.7031,159.5781 Q153.2656,159.5781 154.3906,160.5 Q155.5156,161.4063 155.5156,163.4531 Q155.5156,165.5 154.3906,166.4219 Q153.2656,167.3281 150.7031,167.3281 L149.7969,167.3281 L149.7969,171.9688 L147.3438,171.9688 L147.3438,159.5781 Z \"/><text fill=\"#000000\" font-family=\"sans-serif\" font-size=\"12\" font-style=\"italic\" lengthAdjust=\"spacingAndGlyphs\" textLength=\"40\" x=\"162\" y=\"163.1387\">«part»</text><text fill=\"#000000\" font-family=\"sans-serif\" font-size=\"12\" lengthAdjust=\"spacingAndGlyphs\" textLength=\"8\" x=\"178\" y=\"177.1074\">a</text><line style=\"stroke: #A80036; stroke-width: 1.5;\" x1=\"136\" x2=\"202\" y1=\"184.9375\" y2=\"184.9375\"/></a><!--MD5=[ebbe1d658d1005bcc118a6aa81145e00]\n",
       "class E4--><a href=\"psysml:1d5dfbac-e0d0-4dae-a20f-d178674246aa\" target=\"_top\" title=\"psysml:1d5dfbac-e0d0-4dae-a20f-d178674246aa\" xlink:actuate=\"onRequest\" xlink:href=\"psysml:1d5dfbac-e0d0-4dae-a20f-d178674246aa\" xlink:show=\"new\" xlink:title=\"psysml:1d5dfbac-e0d0-4dae-a20f-d178674246aa\" xlink:type=\"simple\"><rect fill=\"#FEFECE\" filter=\"url(#f7a7s18nn903h)\" height=\"40\" id=\"E4\" style=\"stroke: #A80036; stroke-width: 1.5;\" width=\"40\" x=\"46\" y=\"44\"/><ellipse cx=\"61\" cy=\"60\" fill=\"#008000\" rx=\"11\" ry=\"11\" style=\"stroke: #A80036; stroke-width: 1.0;\"/><path d=\"M59.9063,60.375 L59.9063,64.0469 L61.5313,64.0469 Q62.7031,64.0469 63.1719,63.6563 Q63.6406,63.25 63.6406,62.25 Q63.6406,61.25 63.1406,60.8125 Q62.6563,60.375 61.5313,60.375 L59.9063,60.375 Z M59.9063,55.5469 L59.9063,58.4219 L61.5313,58.4219 Q62.4531,58.4219 62.8438,58.0938 Q63.25,57.75 63.25,57 Q63.25,56.2344 62.8438,55.8906 Q62.4375,55.5469 61.5313,55.5469 L59.9063,55.5469 Z M57.5313,53.5938 L61.5313,53.5938 Q63.5938,53.5938 64.6406,54.375 Q65.6875,55.1563 65.6875,56.7188 Q65.6875,57.9219 65.0625,58.5938 Q64.4531,59.2656 63.2656,59.375 Q64.6875,59.5156 65.4063,60.3281 Q66.125,61.1406 66.125,62.5938 Q66.125,64.3906 65.0469,65.2031 Q63.9688,66 61.5313,66 L57.5313,66 L57.5313,53.5938 Z \"/><text fill=\"#000000\" font-family=\"sans-serif\" font-size=\"12\" lengthAdjust=\"spacingAndGlyphs\" textLength=\"8\" x=\"75\" y=\"64.1543\">C</text><line style=\"stroke: #A80036; stroke-width: 1.5;\" x1=\"47\" x2=\"85\" y1=\"76\" y2=\"76\"/></a><!--MD5=[270fce915f116d4de14055a7c1d9a0f3]\n",
       "class E5--><a href=\"psysml:31443893-624e-4834-b51f-adb4e581d804\" target=\"_top\" title=\"psysml:31443893-624e-4834-b51f-adb4e581d804\" xlink:actuate=\"onRequest\" xlink:href=\"psysml:31443893-624e-4834-b51f-adb4e581d804\" xlink:show=\"new\" xlink:title=\"psysml:31443893-624e-4834-b51f-adb4e581d804\" xlink:type=\"simple\"><rect fill=\"#FEFECE\" filter=\"url(#f7a7s18nn903h)\" height=\"45.9375\" id=\"E5\" rx=\"10\" ry=\"10\" style=\"stroke: #A80036; stroke-width: 1.5;\" width=\"68\" x=\"32\" y=\"147\"/><ellipse cx=\"47\" cy=\"165.9688\" fill=\"#32CD32\" rx=\"11\" ry=\"11\" style=\"stroke: #A80036; stroke-width: 1.0;\"/><path d=\"M46.7969,161.6406 L46.7969,165.2656 L47.7969,165.2656 Q49,165.2656 49.4844,164.8594 Q49.9688,164.4531 49.9688,163.4531 Q49.9688,162.4531 49.4844,162.0469 Q49,161.6406 47.7969,161.6406 L46.7969,161.6406 Z M44.3438,159.5781 L47.7031,159.5781 Q50.2656,159.5781 51.3906,160.5 Q52.5156,161.4063 52.5156,163.4531 Q52.5156,165.5 51.3906,166.4219 Q50.2656,167.3281 47.7031,167.3281 L46.7969,167.3281 L46.7969,171.9688 L44.3438,171.9688 L44.3438,159.5781 Z \"/><text fill=\"#000000\" font-family=\"sans-serif\" font-size=\"12\" font-style=\"italic\" lengthAdjust=\"spacingAndGlyphs\" textLength=\"40\" x=\"59\" y=\"163.1387\">«part»</text><text fill=\"#000000\" font-family=\"sans-serif\" font-size=\"12\" lengthAdjust=\"spacingAndGlyphs\" textLength=\"8\" x=\"75\" y=\"177.1074\">g</text><line style=\"stroke: #A80036; stroke-width: 1.5;\" x1=\"33\" x2=\"99\" y1=\"184.9375\" y2=\"184.9375\"/></a><!--MD5=[209b3feb70ccb6233bfe1053d122c12c]\n",
       "reverse link E2 to E3--><a href=\"psysml:144a9ea2-c14f-46d2-8ece-b06edd35cf79\" target=\"_top\" title=\"psysml:144a9ea2-c14f-46d2-8ece-b06edd35cf79\" xlink:actuate=\"onRequest\" xlink:href=\"psysml:144a9ea2-c14f-46d2-8ece-b06edd35cf79\" xlink:show=\"new\" xlink:title=\"psysml:144a9ea2-c14f-46d2-8ece-b06edd35cf79\" xlink:type=\"simple\"><path d=\"M169,100.44 C169,115.87 169,133.47 169,146.98 \" fill=\"none\" id=\"E2&lt;-E3\" style=\"stroke: #A80036; stroke-width: 1.0;\"/><polygon fill=\"#A80036\" points=\"169,87.06,165,93.06,169,99.06,173,93.06,169,87.06\" style=\"stroke: #A80036; stroke-width: 1.0;\"/></a><!--MD5=[62aa6af11e70f752912c1cb0466f24f7]\n",
       "reverse link E4 to E5--><a href=\"psysml:ffd50afc-9abd-4dce-afc7-dff7922af1b1\" target=\"_top\" title=\"psysml:ffd50afc-9abd-4dce-afc7-dff7922af1b1\" xlink:actuate=\"onRequest\" xlink:href=\"psysml:ffd50afc-9abd-4dce-afc7-dff7922af1b1\" xlink:show=\"new\" xlink:title=\"psysml:ffd50afc-9abd-4dce-afc7-dff7922af1b1\" xlink:type=\"simple\"><path d=\"M66,97.25 C66,113.33 66,132.37 66,146.8 \" fill=\"none\" id=\"E4&lt;-E5\" style=\"stroke: #A80036; stroke-width: 1.0;\"/><polygon fill=\"#A80036\" points=\"66,84.08,62,90.08,66,96.08,70,90.08,66,84.08\" style=\"stroke: #A80036; stroke-width: 1.0;\"/></a><!--MD5=[5b2e26089563d11a727bd1ef6f47e209]\n",
       "@startuml\r\n",
       " \r\n",
       "package \"Q\" as E1  [[psysml:8fe83ee3-fcec-497a-a9db-5b3b84baea71 ]]  {\r\n",
       "comp usage \"f\" as E2  << (P,limegreen) part>> [[psysml:c953ea8a-4e0b-4404-8471-1de142ee019c ]] {\r\n",
       "}\r\n",
       "comp usage \"a\" as E3  << (P,limegreen) part>> [[psysml:c747f0dc-049c-42e5-8830-b905b214a6d2 ]] {\r\n",
       "}\r\n",
       "comp def \"C\" as E4  << (B,green) >> [[psysml:1d5dfbac-e0d0-4dae-a20f-d178674246aa ]] {\r\n",
       "}\r\n",
       "comp usage \"g\" as E5  << (P,limegreen) part>> [[psysml:31443893-624e-4834-b51f-adb4e581d804 ]] {\r\n",
       "}\r\n",
       "E2 *- - E3 [[psysml:144a9ea2-c14f-46d2-8ece-b06edd35cf79 ]] \r\n",
       "E4 *- - E5 [[psysml:ffd50afc-9abd-4dce-afc7-dff7922af1b1 ]] \r\n",
       "}\r\n",
       "@enduml\r\n",
       "\n",
       "PlantUML version 1.2020.13(Sat Jun 13 12:26:38 UTC 2020)\n",
       "(EPL source distribution)\n",
       "Java Runtime: OpenJDK Runtime Environment\n",
       "JVM: OpenJDK 64-Bit Server VM\n",
       "Default Encoding: UTF-8\n",
       "Language: en\n",
       "Country: null\n",
       "--></g></svg>"
      ]
     },
     "execution_count": 30,
     "metadata": {},
     "output_type": "execute_result"
    }
   ],
   "source": [
    "%viz --style=\"PLANTUML\" --view=\"Default\" \"Q\""
   ]
  },
  {
   "cell_type": "code",
   "execution_count": 31,
   "id": "666ba5fb",
   "metadata": {
    "execution": {
     "iopub.execute_input": "2021-04-20T07:21:51.966031Z",
     "iopub.status.busy": "2021-04-20T07:21:51.965520Z",
     "iopub.status.idle": "2021-04-20T07:21:51.995992Z",
     "shell.execute_reply": "2021-04-20T07:21:51.995686Z"
    }
   },
   "outputs": [
    {
     "data": {
      "image/svg+xml": [
       "<?xml version=\"1.0\" encoding=\"UTF-8\" standalone=\"no\"?><svg xmlns=\"http://www.w3.org/2000/svg\" xmlns:xlink=\"http://www.w3.org/1999/xlink\" contentScriptType=\"application/ecmascript\" contentStyleType=\"text/css\" height=\"221px\" preserveAspectRatio=\"none\" style=\"width:241px;height:221px;\" version=\"1.1\" viewBox=\"0 0 241 221\" width=\"241px\" zoomAndPan=\"magnify\"><defs><filter height=\"300%\" id=\"f7a7s18nn903h\" width=\"300%\" x=\"-1\" y=\"-1\"><feGaussianBlur result=\"blurOut\" stdDeviation=\"2.0\"/><feColorMatrix in=\"blurOut\" result=\"blurOut2\" type=\"matrix\" values=\"0 0 0 0 0 0 0 0 0 0 0 0 0 0 0 0 0 0 .4 0\"/><feOffset dx=\"4.0\" dy=\"4.0\" in=\"blurOut2\" result=\"blurOut3\"/><feBlend in=\"SourceGraphic\" in2=\"blurOut3\" mode=\"normal\"/></filter></defs><g><!--MD5=[fbc87193dbaf4d95561dea2c320d4a47]\n",
       "cluster E1--><a href=\"psysml:8fe83ee3-fcec-497a-a9db-5b3b84baea71\" target=\"_top\" title=\"psysml:8fe83ee3-fcec-497a-a9db-5b3b84baea71\" xlink:actuate=\"onRequest\" xlink:href=\"psysml:8fe83ee3-fcec-497a-a9db-5b3b84baea71\" xlink:show=\"new\" xlink:title=\"psysml:8fe83ee3-fcec-497a-a9db-5b3b84baea71\" xlink:type=\"simple\"><polygon fill=\"#FFFFFF\" filter=\"url(#f7a7s18nn903h)\" points=\"16,6,34,6,41,28.2969,219,28.2969,219,209,16,209,16,6\" style=\"stroke: #000000; stroke-width: 1.5;\"/><line style=\"stroke: #000000; stroke-width: 1.5;\" x1=\"16\" x2=\"41\" y1=\"28.2969\" y2=\"28.2969\"/><text fill=\"#000000\" font-family=\"sans-serif\" font-size=\"14\" font-weight=\"bold\" lengthAdjust=\"spacingAndGlyphs\" textLength=\"12\" x=\"20\" y=\"20.9951\">Q</text></a><!--MD5=[b4997ac47864f28c2f74865a473b2911]\n",
       "class E2--><a href=\"psysml:c953ea8a-4e0b-4404-8471-1de142ee019c\" target=\"_top\" title=\"psysml:c953ea8a-4e0b-4404-8471-1de142ee019c\" xlink:actuate=\"onRequest\" xlink:href=\"psysml:c953ea8a-4e0b-4404-8471-1de142ee019c\" xlink:show=\"new\" xlink:title=\"psysml:c953ea8a-4e0b-4404-8471-1de142ee019c\" xlink:type=\"simple\"><rect fill=\"#FEFECE\" filter=\"url(#f7a7s18nn903h)\" height=\"45.9375\" id=\"E2\" rx=\"10\" ry=\"10\" style=\"stroke: #A80036; stroke-width: 1.5;\" width=\"68\" x=\"135\" y=\"41\"/><ellipse cx=\"150\" cy=\"59.9688\" fill=\"#32CD32\" rx=\"11\" ry=\"11\" style=\"stroke: #A80036; stroke-width: 1.0;\"/><path d=\"M149.7969,55.6406 L149.7969,59.2656 L150.7969,59.2656 Q152,59.2656 152.4844,58.8594 Q152.9688,58.4531 152.9688,57.4531 Q152.9688,56.4531 152.4844,56.0469 Q152,55.6406 150.7969,55.6406 L149.7969,55.6406 Z M147.3438,53.5781 L150.7031,53.5781 Q153.2656,53.5781 154.3906,54.5 Q155.5156,55.4063 155.5156,57.4531 Q155.5156,59.5 154.3906,60.4219 Q153.2656,61.3281 150.7031,61.3281 L149.7969,61.3281 L149.7969,65.9688 L147.3438,65.9688 L147.3438,53.5781 Z \"/><text fill=\"#000000\" font-family=\"sans-serif\" font-size=\"12\" font-style=\"italic\" lengthAdjust=\"spacingAndGlyphs\" textLength=\"40\" x=\"162\" y=\"57.1387\">«part»</text><text fill=\"#000000\" font-family=\"sans-serif\" font-size=\"12\" lengthAdjust=\"spacingAndGlyphs\" textLength=\"4\" x=\"180\" y=\"71.1074\">f</text><line style=\"stroke: #A80036; stroke-width: 1.5;\" x1=\"136\" x2=\"202\" y1=\"78.9375\" y2=\"78.9375\"/></a><!--MD5=[09b614a08d8cba4a07c9adeb5e0fee81]\n",
       "class E3--><a href=\"psysml:c747f0dc-049c-42e5-8830-b905b214a6d2\" target=\"_top\" title=\"psysml:c747f0dc-049c-42e5-8830-b905b214a6d2\" xlink:actuate=\"onRequest\" xlink:href=\"psysml:c747f0dc-049c-42e5-8830-b905b214a6d2\" xlink:show=\"new\" xlink:title=\"psysml:c747f0dc-049c-42e5-8830-b905b214a6d2\" xlink:type=\"simple\"><rect fill=\"#FEFECE\" filter=\"url(#f7a7s18nn903h)\" height=\"45.9375\" id=\"E3\" rx=\"10\" ry=\"10\" style=\"stroke: #A80036; stroke-width: 1.5;\" width=\"68\" x=\"135\" y=\"147\"/><ellipse cx=\"150\" cy=\"165.9688\" fill=\"#32CD32\" rx=\"11\" ry=\"11\" style=\"stroke: #A80036; stroke-width: 1.0;\"/><path d=\"M149.7969,161.6406 L149.7969,165.2656 L150.7969,165.2656 Q152,165.2656 152.4844,164.8594 Q152.9688,164.4531 152.9688,163.4531 Q152.9688,162.4531 152.4844,162.0469 Q152,161.6406 150.7969,161.6406 L149.7969,161.6406 Z M147.3438,159.5781 L150.7031,159.5781 Q153.2656,159.5781 154.3906,160.5 Q155.5156,161.4063 155.5156,163.4531 Q155.5156,165.5 154.3906,166.4219 Q153.2656,167.3281 150.7031,167.3281 L149.7969,167.3281 L149.7969,171.9688 L147.3438,171.9688 L147.3438,159.5781 Z \"/><text fill=\"#000000\" font-family=\"sans-serif\" font-size=\"12\" font-style=\"italic\" lengthAdjust=\"spacingAndGlyphs\" textLength=\"40\" x=\"162\" y=\"163.1387\">«part»</text><text fill=\"#000000\" font-family=\"sans-serif\" font-size=\"12\" lengthAdjust=\"spacingAndGlyphs\" textLength=\"8\" x=\"178\" y=\"177.1074\">a</text><line style=\"stroke: #A80036; stroke-width: 1.5;\" x1=\"136\" x2=\"202\" y1=\"184.9375\" y2=\"184.9375\"/></a><!--MD5=[ebbe1d658d1005bcc118a6aa81145e00]\n",
       "class E4--><a href=\"psysml:1d5dfbac-e0d0-4dae-a20f-d178674246aa\" target=\"_top\" title=\"psysml:1d5dfbac-e0d0-4dae-a20f-d178674246aa\" xlink:actuate=\"onRequest\" xlink:href=\"psysml:1d5dfbac-e0d0-4dae-a20f-d178674246aa\" xlink:show=\"new\" xlink:title=\"psysml:1d5dfbac-e0d0-4dae-a20f-d178674246aa\" xlink:type=\"simple\"><rect fill=\"#FEFECE\" filter=\"url(#f7a7s18nn903h)\" height=\"40\" id=\"E4\" style=\"stroke: #A80036; stroke-width: 1.5;\" width=\"40\" x=\"46\" y=\"44\"/><ellipse cx=\"61\" cy=\"60\" fill=\"#008000\" rx=\"11\" ry=\"11\" style=\"stroke: #A80036; stroke-width: 1.0;\"/><path d=\"M59.9063,60.375 L59.9063,64.0469 L61.5313,64.0469 Q62.7031,64.0469 63.1719,63.6563 Q63.6406,63.25 63.6406,62.25 Q63.6406,61.25 63.1406,60.8125 Q62.6563,60.375 61.5313,60.375 L59.9063,60.375 Z M59.9063,55.5469 L59.9063,58.4219 L61.5313,58.4219 Q62.4531,58.4219 62.8438,58.0938 Q63.25,57.75 63.25,57 Q63.25,56.2344 62.8438,55.8906 Q62.4375,55.5469 61.5313,55.5469 L59.9063,55.5469 Z M57.5313,53.5938 L61.5313,53.5938 Q63.5938,53.5938 64.6406,54.375 Q65.6875,55.1563 65.6875,56.7188 Q65.6875,57.9219 65.0625,58.5938 Q64.4531,59.2656 63.2656,59.375 Q64.6875,59.5156 65.4063,60.3281 Q66.125,61.1406 66.125,62.5938 Q66.125,64.3906 65.0469,65.2031 Q63.9688,66 61.5313,66 L57.5313,66 L57.5313,53.5938 Z \"/><text fill=\"#000000\" font-family=\"sans-serif\" font-size=\"12\" lengthAdjust=\"spacingAndGlyphs\" textLength=\"8\" x=\"75\" y=\"64.1543\">C</text><line style=\"stroke: #A80036; stroke-width: 1.5;\" x1=\"47\" x2=\"85\" y1=\"76\" y2=\"76\"/></a><!--MD5=[270fce915f116d4de14055a7c1d9a0f3]\n",
       "class E5--><a href=\"psysml:31443893-624e-4834-b51f-adb4e581d804\" target=\"_top\" title=\"psysml:31443893-624e-4834-b51f-adb4e581d804\" xlink:actuate=\"onRequest\" xlink:href=\"psysml:31443893-624e-4834-b51f-adb4e581d804\" xlink:show=\"new\" xlink:title=\"psysml:31443893-624e-4834-b51f-adb4e581d804\" xlink:type=\"simple\"><rect fill=\"#FEFECE\" filter=\"url(#f7a7s18nn903h)\" height=\"45.9375\" id=\"E5\" rx=\"10\" ry=\"10\" style=\"stroke: #A80036; stroke-width: 1.5;\" width=\"68\" x=\"32\" y=\"147\"/><ellipse cx=\"47\" cy=\"165.9688\" fill=\"#32CD32\" rx=\"11\" ry=\"11\" style=\"stroke: #A80036; stroke-width: 1.0;\"/><path d=\"M46.7969,161.6406 L46.7969,165.2656 L47.7969,165.2656 Q49,165.2656 49.4844,164.8594 Q49.9688,164.4531 49.9688,163.4531 Q49.9688,162.4531 49.4844,162.0469 Q49,161.6406 47.7969,161.6406 L46.7969,161.6406 Z M44.3438,159.5781 L47.7031,159.5781 Q50.2656,159.5781 51.3906,160.5 Q52.5156,161.4063 52.5156,163.4531 Q52.5156,165.5 51.3906,166.4219 Q50.2656,167.3281 47.7031,167.3281 L46.7969,167.3281 L46.7969,171.9688 L44.3438,171.9688 L44.3438,159.5781 Z \"/><text fill=\"#000000\" font-family=\"sans-serif\" font-size=\"12\" font-style=\"italic\" lengthAdjust=\"spacingAndGlyphs\" textLength=\"40\" x=\"59\" y=\"163.1387\">«part»</text><text fill=\"#000000\" font-family=\"sans-serif\" font-size=\"12\" lengthAdjust=\"spacingAndGlyphs\" textLength=\"8\" x=\"75\" y=\"177.1074\">g</text><line style=\"stroke: #A80036; stroke-width: 1.5;\" x1=\"33\" x2=\"99\" y1=\"184.9375\" y2=\"184.9375\"/></a><!--MD5=[209b3feb70ccb6233bfe1053d122c12c]\n",
       "reverse link E2 to E3--><a href=\"psysml:144a9ea2-c14f-46d2-8ece-b06edd35cf79\" target=\"_top\" title=\"psysml:144a9ea2-c14f-46d2-8ece-b06edd35cf79\" xlink:actuate=\"onRequest\" xlink:href=\"psysml:144a9ea2-c14f-46d2-8ece-b06edd35cf79\" xlink:show=\"new\" xlink:title=\"psysml:144a9ea2-c14f-46d2-8ece-b06edd35cf79\" xlink:type=\"simple\"><path d=\"M169,100.44 C169,115.87 169,133.47 169,146.98 \" fill=\"none\" id=\"E2&lt;-E3\" style=\"stroke: #A80036; stroke-width: 1.0;\"/><polygon fill=\"#A80036\" points=\"169,87.06,165,93.06,169,99.06,173,93.06,169,87.06\" style=\"stroke: #A80036; stroke-width: 1.0;\"/></a><!--MD5=[62aa6af11e70f752912c1cb0466f24f7]\n",
       "reverse link E4 to E5--><a href=\"psysml:ffd50afc-9abd-4dce-afc7-dff7922af1b1\" target=\"_top\" title=\"psysml:ffd50afc-9abd-4dce-afc7-dff7922af1b1\" xlink:actuate=\"onRequest\" xlink:href=\"psysml:ffd50afc-9abd-4dce-afc7-dff7922af1b1\" xlink:show=\"new\" xlink:title=\"psysml:ffd50afc-9abd-4dce-afc7-dff7922af1b1\" xlink:type=\"simple\"><path d=\"M66,97.25 C66,113.33 66,132.37 66,146.8 \" fill=\"none\" id=\"E4&lt;-E5\" style=\"stroke: #A80036; stroke-width: 1.0;\"/><polygon fill=\"#A80036\" points=\"66,84.08,62,90.08,66,96.08,70,90.08,66,84.08\" style=\"stroke: #A80036; stroke-width: 1.0;\"/></a><!--MD5=[5b2e26089563d11a727bd1ef6f47e209]\n",
       "@startuml\r\n",
       " \r\n",
       "package \"Q\" as E1  [[psysml:8fe83ee3-fcec-497a-a9db-5b3b84baea71 ]]  {\r\n",
       "comp usage \"f\" as E2  << (P,limegreen) part>> [[psysml:c953ea8a-4e0b-4404-8471-1de142ee019c ]] {\r\n",
       "}\r\n",
       "comp usage \"a\" as E3  << (P,limegreen) part>> [[psysml:c747f0dc-049c-42e5-8830-b905b214a6d2 ]] {\r\n",
       "}\r\n",
       "comp def \"C\" as E4  << (B,green) >> [[psysml:1d5dfbac-e0d0-4dae-a20f-d178674246aa ]] {\r\n",
       "}\r\n",
       "comp usage \"g\" as E5  << (P,limegreen) part>> [[psysml:31443893-624e-4834-b51f-adb4e581d804 ]] {\r\n",
       "}\r\n",
       "E2 *- - E3 [[psysml:144a9ea2-c14f-46d2-8ece-b06edd35cf79 ]] \r\n",
       "E4 *- - E5 [[psysml:ffd50afc-9abd-4dce-afc7-dff7922af1b1 ]] \r\n",
       "}\r\n",
       "@enduml\r\n",
       "\n",
       "PlantUML version 1.2020.13(Sat Jun 13 12:26:38 UTC 2020)\n",
       "(EPL source distribution)\n",
       "Java Runtime: OpenJDK Runtime Environment\n",
       "JVM: OpenJDK 64-Bit Server VM\n",
       "Default Encoding: UTF-8\n",
       "Language: en\n",
       "Country: null\n",
       "--></g></svg>"
      ]
     },
     "execution_count": 31,
     "metadata": {},
     "output_type": "execute_result"
    }
   ],
   "source": [
    "%viz --style=\"PLANTUML\" --view=\"Tree\" \"Q\""
   ]
  },
  {
   "cell_type": "code",
   "execution_count": 32,
   "id": "4a1c47d4",
   "metadata": {
    "execution": {
     "iopub.execute_input": "2021-04-20T07:21:52.047512Z",
     "iopub.status.busy": "2021-04-20T07:21:52.046929Z",
     "iopub.status.idle": "2021-04-20T07:21:52.133135Z",
     "shell.execute_reply": "2021-04-20T07:21:52.131948Z"
    }
   },
   "outputs": [
    {
     "data": {
      "image/svg+xml": [
       "<?xml version=\"1.0\" encoding=\"UTF-8\" standalone=\"no\"?><svg xmlns=\"http://www.w3.org/2000/svg\" xmlns:xlink=\"http://www.w3.org/1999/xlink\" contentScriptType=\"application/ecmascript\" contentStyleType=\"text/css\" height=\"303px\" preserveAspectRatio=\"none\" style=\"width:603px;height:303px;background:#000000;\" version=\"1.1\" viewBox=\"0 0 603 303\" width=\"603px\" zoomAndPan=\"magnify\"><defs/><g><rect fill=\"#1B1C03\" height=\"1\" style=\"stroke: #1B1C03; stroke-width: 1.0;\" width=\"1\" x=\"0\" y=\"0\"/><rect fill=\"#FFFFFF\" height=\"205.5625\" style=\"stroke: #FFFFFF; stroke-width: 1.0;\" width=\"602\" x=\"0\" y=\"0\"/><text fill=\"#000000\" font-family=\"sans-serif\" font-size=\"12\" font-weight=\"bold\" lengthAdjust=\"spacingAndGlyphs\" textLength=\"159\" x=\"5\" y=\"16.1387\">Welcome to PlantUML!</text><text fill=\"#000000\" font-family=\"sans-serif\" font-size=\"12\" lengthAdjust=\"spacingAndGlyphs\" textLength=\"0\" x=\"9\" y=\"30.1074\"/><text fill=\"#000000\" font-family=\"sans-serif\" font-size=\"12\" lengthAdjust=\"spacingAndGlyphs\" textLength=\"293\" x=\"5\" y=\"44.0762\">If you use this software, you accept its license.</text><text fill=\"#000000\" font-family=\"sans-serif\" font-size=\"12\" lengthAdjust=\"spacingAndGlyphs\" textLength=\"107\" x=\"5\" y=\"58.0449\">(details by typing</text><text fill=\"#000000\" font-family=\"monospace\" font-size=\"12\" lengthAdjust=\"spacingAndGlyphs\" textLength=\"49\" x=\"116\" y=\"58.0449\">license</text><text fill=\"#000000\" font-family=\"sans-serif\" font-size=\"12\" lengthAdjust=\"spacingAndGlyphs\" textLength=\"56\" x=\"169\" y=\"58.0449\">keyword)</text><text fill=\"#000000\" font-family=\"sans-serif\" font-size=\"12\" lengthAdjust=\"spacingAndGlyphs\" textLength=\"0\" x=\"9\" y=\"72.0137\"/><text fill=\"#000000\" font-family=\"sans-serif\" font-size=\"12\" lengthAdjust=\"spacingAndGlyphs\" textLength=\"283\" x=\"5\" y=\"85.9824\">You can start with a simple UML Diagram like:</text><text fill=\"#000000\" font-family=\"sans-serif\" font-size=\"12\" lengthAdjust=\"spacingAndGlyphs\" textLength=\"0\" x=\"9\" y=\"99.9512\"/><text fill=\"#000000\" font-family=\"monospace\" font-size=\"12\" lengthAdjust=\"spacingAndGlyphs\" textLength=\"119\" x=\"5\" y=\"113.9199\">Bob-&gt;Alice: Hello</text><text fill=\"#000000\" font-family=\"sans-serif\" font-size=\"12\" lengthAdjust=\"spacingAndGlyphs\" textLength=\"0\" x=\"9\" y=\"127.8887\"/><text fill=\"#000000\" font-family=\"sans-serif\" font-size=\"12\" lengthAdjust=\"spacingAndGlyphs\" textLength=\"14\" x=\"5\" y=\"141.8574\">Or</text><text fill=\"#000000\" font-family=\"sans-serif\" font-size=\"12\" lengthAdjust=\"spacingAndGlyphs\" textLength=\"0\" x=\"9\" y=\"155.8262\"/><text fill=\"#000000\" font-family=\"monospace\" font-size=\"12\" lengthAdjust=\"spacingAndGlyphs\" textLength=\"91\" x=\"5\" y=\"169.7949\">class Example</text><text fill=\"#000000\" font-family=\"sans-serif\" font-size=\"12\" lengthAdjust=\"spacingAndGlyphs\" textLength=\"0\" x=\"9\" y=\"183.7637\"/><text fill=\"#000000\" font-family=\"sans-serif\" font-size=\"12\" lengthAdjust=\"spacingAndGlyphs\" textLength=\"349\" x=\"5\" y=\"197.7324\">You will find more information about PlantUML syntax on</text><text fill=\"#000000\" font-family=\"sans-serif\" font-size=\"12\" lengthAdjust=\"spacingAndGlyphs\" text-decoration=\"underline\" textLength=\"129\" x=\"358\" y=\"197.7324\">https://plantuml.com</text><image height=\"71\" width=\"80\" x=\"516\" xlink:href=\"data:image/png;base64,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\" y=\"6\"/><rect fill=\"#000000\" height=\"96.4844\" style=\"stroke: #000000; stroke-width: 1.0;\" width=\"602\" x=\"0\" y=\"205.5625\"/><rect fill=\"#33FF02\" height=\"21.2969\" style=\"stroke: #33FF02; stroke-width: 1.0;\" width=\"170\" x=\"5\" y=\"210.5625\"/><text fill=\"#000000\" font-family=\"sans-serif\" font-size=\"14\" font-weight=\"bold\" lengthAdjust=\"spacingAndGlyphs\" textLength=\"168\" x=\"6\" y=\"225.5625\">[From string (line 2) ]</text><text fill=\"#33FF02\" font-family=\"sans-serif\" font-size=\"14\" font-weight=\"bold\" lengthAdjust=\"spacingAndGlyphs\" textLength=\"0\" x=\"10\" y=\"245.8594\"/><text fill=\"#33FF02\" font-family=\"sans-serif\" font-size=\"14\" font-weight=\"bold\" lengthAdjust=\"spacingAndGlyphs\" textLength=\"79\" x=\"5\" y=\"262.1563\">@startuml</text><text fill=\"#33FF02\" font-family=\"sans-serif\" font-size=\"14\" font-weight=\"bold\" lengthAdjust=\"spacingAndGlyphs\" textLength=\"0\" x=\"10\" y=\"278.4531\"/><text fill=\"#FF0000\" font-family=\"sans-serif\" font-size=\"14\" font-weight=\"bold\" lengthAdjust=\"spacingAndGlyphs\" textLength=\"142\" x=\"10\" y=\"294.75\">Empty description</text><!--MD5=[f59edd8218d337f74d0c332fc6737304]\n",
       "@startuml\r\n",
       " \r\n",
       "@enduml\r\n",
       "\n",
       "PlantUML version 1.2020.13(Sat Jun 13 12:26:38 UTC 2020)\n",
       "(EPL source distribution)\n",
       "Java Runtime: OpenJDK Runtime Environment\n",
       "JVM: OpenJDK 64-Bit Server VM\n",
       "Default Encoding: UTF-8\n",
       "Language: en\n",
       "Country: null\n",
       "--></g></svg>"
      ]
     },
     "execution_count": 32,
     "metadata": {},
     "output_type": "execute_result"
    }
   ],
   "source": [
    "%viz --style=\"PLANTUML\" --view=\"State\" \"Q\""
   ]
  },
  {
   "cell_type": "code",
   "execution_count": 33,
   "id": "f7b20f02",
   "metadata": {
    "execution": {
     "iopub.execute_input": "2021-04-20T07:21:52.183190Z",
     "iopub.status.busy": "2021-04-20T07:21:52.182807Z",
     "iopub.status.idle": "2021-04-20T07:21:52.224375Z",
     "shell.execute_reply": "2021-04-20T07:21:52.222576Z"
    }
   },
   "outputs": [
    {
     "data": {
      "image/svg+xml": [
       "<?xml version=\"1.0\" encoding=\"UTF-8\" standalone=\"no\"?><svg xmlns=\"http://www.w3.org/2000/svg\" xmlns:xlink=\"http://www.w3.org/1999/xlink\" contentScriptType=\"application/ecmascript\" contentStyleType=\"text/css\" height=\"176px\" preserveAspectRatio=\"none\" style=\"width:312px;height:176px;\" version=\"1.1\" viewBox=\"0 0 312 176\" width=\"312px\" zoomAndPan=\"magnify\"><defs><filter height=\"300%\" id=\"fwus4xmfvfcwc\" width=\"300%\" x=\"-1\" y=\"-1\"><feGaussianBlur result=\"blurOut\" stdDeviation=\"2.0\"/><feColorMatrix in=\"blurOut\" result=\"blurOut2\" type=\"matrix\" values=\"0 0 0 0 0 0 0 0 0 0 0 0 0 0 0 0 0 0 .4 0\"/><feOffset dx=\"4.0\" dy=\"4.0\" in=\"blurOut2\" result=\"blurOut3\"/><feBlend in=\"SourceGraphic\" in2=\"blurOut3\" mode=\"normal\"/></filter></defs><g><!--MD5=[fbc87193dbaf4d95561dea2c320d4a47]\n",
       "cluster E1--><a href=\"psysml:8fe83ee3-fcec-497a-a9db-5b3b84baea71\" target=\"_top\" title=\"psysml:8fe83ee3-fcec-497a-a9db-5b3b84baea71\" xlink:actuate=\"onRequest\" xlink:href=\"psysml:8fe83ee3-fcec-497a-a9db-5b3b84baea71\" xlink:show=\"new\" xlink:title=\"psysml:8fe83ee3-fcec-497a-a9db-5b3b84baea71\" xlink:type=\"simple\"><polygon fill=\"#FFFFFF\" filter=\"url(#fwus4xmfvfcwc)\" points=\"16,6,34,6,41,28.2969,290,28.2969,290,164,16,164,16,6\" style=\"stroke: #000000; stroke-width: 1.5;\"/><line style=\"stroke: #000000; stroke-width: 1.5;\" x1=\"16\" x2=\"41\" y1=\"28.2969\" y2=\"28.2969\"/><text fill=\"#000000\" font-family=\"sans-serif\" font-size=\"14\" font-weight=\"bold\" lengthAdjust=\"spacingAndGlyphs\" textLength=\"12\" x=\"20\" y=\"20.9951\">Q</text></a><!--MD5=[e4f7fae6ed58524ba242bb0b0d3be6b7]\n",
       "cluster E2--><a href=\"psysml:c953ea8a-4e0b-4404-8471-1de142ee019c\" target=\"_top\" title=\"psysml:c953ea8a-4e0b-4404-8471-1de142ee019c\" xlink:actuate=\"onRequest\" xlink:href=\"psysml:c953ea8a-4e0b-4404-8471-1de142ee019c\" xlink:show=\"new\" xlink:title=\"psysml:c953ea8a-4e0b-4404-8471-1de142ee019c\" xlink:type=\"simple\"><rect fill=\"#FFFFFF\" filter=\"url(#fwus4xmfvfcwc)\" height=\"91\" id=\"E2\" rx=\"10\" ry=\"10\" style=\"stroke: #A80036; stroke-width: 1.5;\" width=\"82\" x=\"184\" y=\"49\"/><rect fill=\"#FEFECE\" height=\"23.9688\" rx=\"10\" ry=\"10\" style=\"stroke: #FEFECE; stroke-width: 1.5;\" width=\"82\" x=\"184\" y=\"49\"/><rect fill=\"#FEFECE\" height=\"10\" style=\"stroke: #FEFECE; stroke-width: 1.5;\" width=\"82\" x=\"184\" y=\"62.9688\"/><rect fill=\"none\" height=\"91\" id=\"E2\" rx=\"10\" ry=\"10\" style=\"stroke: #A80036; stroke-width: 1.5;\" width=\"82\" x=\"184\" y=\"49\"/><text fill=\"#000000\" font-family=\"sans-serif\" font-size=\"12\" lengthAdjust=\"spacingAndGlyphs\" textLength=\"4\" x=\"223\" y=\"65.1387\">f</text><line style=\"stroke: #A80036; stroke-width: 1.0;\" x1=\"184\" x2=\"266\" y1=\"72.9688\" y2=\"72.9688\"/></a><!--MD5=[f6df4d0ebaf0b5dfb2ced0ae5af7c670]\n",
       "cluster E4--><a href=\"psysml:1d5dfbac-e0d0-4dae-a20f-d178674246aa\" target=\"_top\" title=\"psysml:1d5dfbac-e0d0-4dae-a20f-d178674246aa\" xlink:actuate=\"onRequest\" xlink:href=\"psysml:1d5dfbac-e0d0-4dae-a20f-d178674246aa\" xlink:show=\"new\" xlink:title=\"psysml:1d5dfbac-e0d0-4dae-a20f-d178674246aa\" xlink:type=\"simple\"><rect fill=\"#FFFFFF\" filter=\"url(#fwus4xmfvfcwc)\" height=\"91\" id=\"E4\" style=\"stroke: #A80036; stroke-width: 1.5;\" width=\"120\" x=\"40\" y=\"49\"/><rect fill=\"#FEFECE\" height=\"23.9688\" style=\"stroke: #A80036; stroke-width: 1.5;\" width=\"120\" x=\"40\" y=\"49\"/><text fill=\"#000000\" font-family=\"sans-serif\" font-size=\"12\" lengthAdjust=\"spacingAndGlyphs\" textLength=\"8\" x=\"96\" y=\"65.1387\">C</text></a><g id=\"E1.E2.E3\"><a href=\"psysml:c747f0dc-049c-42e5-8830-b905b214a6d2\" target=\"_top\" title=\"psysml:c747f0dc-049c-42e5-8830-b905b214a6d2\" xlink:actuate=\"onRequest\" xlink:href=\"psysml:c747f0dc-049c-42e5-8830-b905b214a6d2\" xlink:show=\"new\" xlink:title=\"psysml:c747f0dc-049c-42e5-8830-b905b214a6d2\" xlink:type=\"simple\"><rect fill=\"#FEFECE\" filter=\"url(#fwus4xmfvfcwc)\" height=\"40\" id=\"E3\" rx=\"10\" ry=\"10\" style=\"stroke: #A80036; stroke-width: 1.5;\" width=\"50\" x=\"200\" y=\"84\"/><ellipse cx=\"219.5\" cy=\"100\" fill=\"#B6DBBB\" rx=\"11\" ry=\"11\" style=\"stroke: #A80036; stroke-width: 1.0;\"/><path d=\"M215.375,101.9219 L215.375,94.1094 L217.8281,94.1094 L217.8281,102.5469 Q217.8281,103.4688 218.2969,104 Q218.7813,104.5313 219.6094,104.5313 Q220.4531,104.5313 220.9219,104 Q221.3906,103.4688 221.3906,102.5469 L221.3906,94.1094 L223.8438,94.1094 L223.8438,101.9219 Q223.8438,104.4531 222.8438,105.5938 Q221.8438,106.7344 219.6094,106.7344 Q217.3906,106.7344 216.375,105.5938 Q215.375,104.4531 215.375,101.9219 Z \"/><text fill=\"#000000\" font-family=\"sans-serif\" font-size=\"12\" lengthAdjust=\"spacingAndGlyphs\" textLength=\"8\" x=\"234.5\" y=\"104.1543\">a</text></a></g><g id=\"E1.E4.E5\"><a href=\"psysml:31443893-624e-4834-b51f-adb4e581d804\" target=\"_top\" title=\"psysml:31443893-624e-4834-b51f-adb4e581d804\" xlink:actuate=\"onRequest\" xlink:href=\"psysml:31443893-624e-4834-b51f-adb4e581d804\" xlink:show=\"new\" xlink:title=\"psysml:31443893-624e-4834-b51f-adb4e581d804\" xlink:type=\"simple\"><rect fill=\"#FEFECE\" filter=\"url(#fwus4xmfvfcwc)\" height=\"40\" id=\"E5\" rx=\"10\" ry=\"10\" style=\"stroke: #A80036; stroke-width: 1.5;\" width=\"87\" x=\"56.5\" y=\"84\"/><ellipse cx=\"73.75\" cy=\"100\" fill=\"#B6DBBB\" rx=\"11\" ry=\"11\" style=\"stroke: #A80036; stroke-width: 1.0;\"/><path d=\"M69.625,101.9219 L69.625,94.1094 L72.0781,94.1094 L72.0781,102.5469 Q72.0781,103.4688 72.5469,104 Q73.0313,104.5313 73.8594,104.5313 Q74.7031,104.5313 75.1719,104 Q75.6406,103.4688 75.6406,102.5469 L75.6406,94.1094 L78.0938,94.1094 L78.0938,101.9219 Q78.0938,104.4531 77.0938,105.5938 Q76.0938,106.7344 73.8594,106.7344 Q71.6406,106.7344 70.625,105.5938 Q69.625,104.4531 69.625,101.9219 Z \"/><text fill=\"#000000\" font-family=\"sans-serif\" font-size=\"12\" lengthAdjust=\"spacingAndGlyphs\" textLength=\"46\" x=\"88.25\" y=\"104.1543\">g=./f/a;</text></a></g><!--MD5=[f4a0d3e8cef0f02535408bac0573e09f]\n",
       "@startuml\r\n",
       "skinparam ranksep 10\r\n",
       "skinparam rectangle {\r\n",
       " backgroundColor<<block>> LightGreen\r\n",
       "}\r\n",
       " \r\n",
       "package \"Q\" as E1  [[psysml:8fe83ee3-fcec-497a-a9db-5b3b84baea71 ]]  {\r\n",
       "rec usage \"f\" as E2  [[psysml:c953ea8a-4e0b-4404-8471-1de142ee019c ]] {\r\n",
       "rec usage \"a\" as E3  [[psysml:c747f0dc-049c-42e5-8830-b905b214a6d2 ]] {\r\n",
       "}\r\n",
       "}\r\n",
       "rec def \"C\" as E4  << (B,green) >> [[psysml:1d5dfbac-e0d0-4dae-a20f-d178674246aa ]] {\r\n",
       "rec usage \"g=./f/a; \" as E5  [[psysml:31443893-624e-4834-b51f-adb4e581d804 ]] {\r\n",
       "}\r\n",
       "}\r\n",
       "}\r\n",
       "@enduml\r\n",
       "\n",
       "PlantUML version 1.2020.13(Sat Jun 13 12:26:38 UTC 2020)\n",
       "(EPL source distribution)\n",
       "Java Runtime: OpenJDK Runtime Environment\n",
       "JVM: OpenJDK 64-Bit Server VM\n",
       "Default Encoding: UTF-8\n",
       "Language: en\n",
       "Country: null\n",
       "--></g></svg>"
      ]
     },
     "execution_count": 33,
     "metadata": {},
     "output_type": "execute_result"
    }
   ],
   "source": [
    "%viz --style=\"PLANTUML\" --view=\"Interconnection\" \"Q\""
   ]
  },
  {
   "cell_type": "code",
   "execution_count": 34,
   "id": "0ee4750e",
   "metadata": {
    "execution": {
     "iopub.execute_input": "2021-04-20T07:21:52.275365Z",
     "iopub.status.busy": "2021-04-20T07:21:52.274879Z",
     "iopub.status.idle": "2021-04-20T07:21:52.280510Z",
     "shell.execute_reply": "2021-04-20T07:21:52.279898Z"
    }
   },
   "outputs": [
    {
     "data": {
      "image/svg+xml": [
       "<?xml version=\"1.0\" encoding=\"UTF-8\" standalone=\"no\"?><svg xmlns=\"http://www.w3.org/2000/svg\" xmlns:xlink=\"http://www.w3.org/1999/xlink\" contentScriptType=\"application/ecmascript\" contentStyleType=\"text/css\" height=\"12px\" preserveAspectRatio=\"none\" style=\"width:12px;height:12px;\" version=\"1.1\" viewBox=\"0 0 12 12\" width=\"12px\" zoomAndPan=\"magnify\"><defs/><g><!--MD5=[6a4cb978cab31700e1ce5529f947a75d]\n",
       "@startuml\r\n",
       "skinparam ranksep 8\r\n",
       " \r\n",
       "@enduml\r\n",
       "\n",
       "PlantUML version 1.2020.13(Sat Jun 13 12:26:38 UTC 2020)\n",
       "(EPL source distribution)\n",
       "Java Runtime: OpenJDK Runtime Environment\n",
       "JVM: OpenJDK 64-Bit Server VM\n",
       "Default Encoding: UTF-8\n",
       "Language: en\n",
       "Country: null\n",
       "--></g></svg>"
      ]
     },
     "execution_count": 34,
     "metadata": {},
     "output_type": "execute_result"
    }
   ],
   "source": [
    "%viz --style=\"PLANTUML\" --view=\"Action\" \"Q\""
   ]
  },
  {
   "cell_type": "code",
   "execution_count": 35,
   "id": "1db8d440",
   "metadata": {
    "execution": {
     "iopub.execute_input": "2021-04-20T07:21:52.331641Z",
     "iopub.status.busy": "2021-04-20T07:21:52.331087Z",
     "iopub.status.idle": "2021-04-20T07:21:52.364262Z",
     "shell.execute_reply": "2021-04-20T07:21:52.363022Z"
    }
   },
   "outputs": [
    {
     "data": {
      "image/svg+xml": [
       "<?xml version=\"1.0\" encoding=\"UTF-8\" standalone=\"no\"?><svg xmlns=\"http://www.w3.org/2000/svg\" xmlns:xlink=\"http://www.w3.org/1999/xlink\" contentScriptType=\"application/ecmascript\" contentStyleType=\"text/css\" height=\"221px\" preserveAspectRatio=\"none\" style=\"width:241px;height:221px;\" version=\"1.1\" viewBox=\"0 0 241 221\" width=\"241px\" zoomAndPan=\"magnify\"><defs><filter height=\"300%\" id=\"f7a7s18nn903h\" width=\"300%\" x=\"-1\" y=\"-1\"><feGaussianBlur result=\"blurOut\" stdDeviation=\"2.0\"/><feColorMatrix in=\"blurOut\" result=\"blurOut2\" type=\"matrix\" values=\"0 0 0 0 0 0 0 0 0 0 0 0 0 0 0 0 0 0 .4 0\"/><feOffset dx=\"4.0\" dy=\"4.0\" in=\"blurOut2\" result=\"blurOut3\"/><feBlend in=\"SourceGraphic\" in2=\"blurOut3\" mode=\"normal\"/></filter></defs><g><!--MD5=[fbc87193dbaf4d95561dea2c320d4a47]\n",
       "cluster E1--><a href=\"psysml:8fe83ee3-fcec-497a-a9db-5b3b84baea71\" target=\"_top\" title=\"psysml:8fe83ee3-fcec-497a-a9db-5b3b84baea71\" xlink:actuate=\"onRequest\" xlink:href=\"psysml:8fe83ee3-fcec-497a-a9db-5b3b84baea71\" xlink:show=\"new\" xlink:title=\"psysml:8fe83ee3-fcec-497a-a9db-5b3b84baea71\" xlink:type=\"simple\"><polygon fill=\"#FFFFFF\" filter=\"url(#f7a7s18nn903h)\" points=\"16,6,34,6,41,28.2969,219,28.2969,219,209,16,209,16,6\" style=\"stroke: #000000; stroke-width: 1.5;\"/><line style=\"stroke: #000000; stroke-width: 1.5;\" x1=\"16\" x2=\"41\" y1=\"28.2969\" y2=\"28.2969\"/><text fill=\"#000000\" font-family=\"sans-serif\" font-size=\"14\" font-weight=\"bold\" lengthAdjust=\"spacingAndGlyphs\" textLength=\"12\" x=\"20\" y=\"20.9951\">Q</text></a><!--MD5=[b4997ac47864f28c2f74865a473b2911]\n",
       "class E2--><a href=\"psysml:c953ea8a-4e0b-4404-8471-1de142ee019c\" target=\"_top\" title=\"psysml:c953ea8a-4e0b-4404-8471-1de142ee019c\" xlink:actuate=\"onRequest\" xlink:href=\"psysml:c953ea8a-4e0b-4404-8471-1de142ee019c\" xlink:show=\"new\" xlink:title=\"psysml:c953ea8a-4e0b-4404-8471-1de142ee019c\" xlink:type=\"simple\"><rect fill=\"#FEFECE\" filter=\"url(#f7a7s18nn903h)\" height=\"45.9375\" id=\"E2\" rx=\"10\" ry=\"10\" style=\"stroke: #A80036; stroke-width: 1.5;\" width=\"68\" x=\"135\" y=\"41\"/><ellipse cx=\"150\" cy=\"59.9688\" fill=\"#32CD32\" rx=\"11\" ry=\"11\" style=\"stroke: #A80036; stroke-width: 1.0;\"/><path d=\"M149.7969,55.6406 L149.7969,59.2656 L150.7969,59.2656 Q152,59.2656 152.4844,58.8594 Q152.9688,58.4531 152.9688,57.4531 Q152.9688,56.4531 152.4844,56.0469 Q152,55.6406 150.7969,55.6406 L149.7969,55.6406 Z M147.3438,53.5781 L150.7031,53.5781 Q153.2656,53.5781 154.3906,54.5 Q155.5156,55.4063 155.5156,57.4531 Q155.5156,59.5 154.3906,60.4219 Q153.2656,61.3281 150.7031,61.3281 L149.7969,61.3281 L149.7969,65.9688 L147.3438,65.9688 L147.3438,53.5781 Z \"/><text fill=\"#000000\" font-family=\"sans-serif\" font-size=\"12\" font-style=\"italic\" lengthAdjust=\"spacingAndGlyphs\" textLength=\"40\" x=\"162\" y=\"57.1387\">«part»</text><text fill=\"#000000\" font-family=\"sans-serif\" font-size=\"12\" lengthAdjust=\"spacingAndGlyphs\" textLength=\"4\" x=\"180\" y=\"71.1074\">f</text><line style=\"stroke: #A80036; stroke-width: 1.5;\" x1=\"136\" x2=\"202\" y1=\"78.9375\" y2=\"78.9375\"/></a><!--MD5=[09b614a08d8cba4a07c9adeb5e0fee81]\n",
       "class E3--><a href=\"psysml:c747f0dc-049c-42e5-8830-b905b214a6d2\" target=\"_top\" title=\"psysml:c747f0dc-049c-42e5-8830-b905b214a6d2\" xlink:actuate=\"onRequest\" xlink:href=\"psysml:c747f0dc-049c-42e5-8830-b905b214a6d2\" xlink:show=\"new\" xlink:title=\"psysml:c747f0dc-049c-42e5-8830-b905b214a6d2\" xlink:type=\"simple\"><rect fill=\"#FEFECE\" filter=\"url(#f7a7s18nn903h)\" height=\"45.9375\" id=\"E3\" rx=\"10\" ry=\"10\" style=\"stroke: #A80036; stroke-width: 1.5;\" width=\"68\" x=\"135\" y=\"147\"/><ellipse cx=\"150\" cy=\"165.9688\" fill=\"#32CD32\" rx=\"11\" ry=\"11\" style=\"stroke: #A80036; stroke-width: 1.0;\"/><path d=\"M149.7969,161.6406 L149.7969,165.2656 L150.7969,165.2656 Q152,165.2656 152.4844,164.8594 Q152.9688,164.4531 152.9688,163.4531 Q152.9688,162.4531 152.4844,162.0469 Q152,161.6406 150.7969,161.6406 L149.7969,161.6406 Z M147.3438,159.5781 L150.7031,159.5781 Q153.2656,159.5781 154.3906,160.5 Q155.5156,161.4063 155.5156,163.4531 Q155.5156,165.5 154.3906,166.4219 Q153.2656,167.3281 150.7031,167.3281 L149.7969,167.3281 L149.7969,171.9688 L147.3438,171.9688 L147.3438,159.5781 Z \"/><text fill=\"#000000\" font-family=\"sans-serif\" font-size=\"12\" font-style=\"italic\" lengthAdjust=\"spacingAndGlyphs\" textLength=\"40\" x=\"162\" y=\"163.1387\">«part»</text><text fill=\"#000000\" font-family=\"sans-serif\" font-size=\"12\" lengthAdjust=\"spacingAndGlyphs\" textLength=\"8\" x=\"178\" y=\"177.1074\">a</text><line style=\"stroke: #A80036; stroke-width: 1.5;\" x1=\"136\" x2=\"202\" y1=\"184.9375\" y2=\"184.9375\"/></a><!--MD5=[ebbe1d658d1005bcc118a6aa81145e00]\n",
       "class E4--><a href=\"psysml:1d5dfbac-e0d0-4dae-a20f-d178674246aa\" target=\"_top\" title=\"psysml:1d5dfbac-e0d0-4dae-a20f-d178674246aa\" xlink:actuate=\"onRequest\" xlink:href=\"psysml:1d5dfbac-e0d0-4dae-a20f-d178674246aa\" xlink:show=\"new\" xlink:title=\"psysml:1d5dfbac-e0d0-4dae-a20f-d178674246aa\" xlink:type=\"simple\"><rect fill=\"#FEFECE\" filter=\"url(#f7a7s18nn903h)\" height=\"40\" id=\"E4\" style=\"stroke: #A80036; stroke-width: 1.5;\" width=\"40\" x=\"46\" y=\"44\"/><ellipse cx=\"61\" cy=\"60\" fill=\"#008000\" rx=\"11\" ry=\"11\" style=\"stroke: #A80036; stroke-width: 1.0;\"/><path d=\"M59.9063,60.375 L59.9063,64.0469 L61.5313,64.0469 Q62.7031,64.0469 63.1719,63.6563 Q63.6406,63.25 63.6406,62.25 Q63.6406,61.25 63.1406,60.8125 Q62.6563,60.375 61.5313,60.375 L59.9063,60.375 Z M59.9063,55.5469 L59.9063,58.4219 L61.5313,58.4219 Q62.4531,58.4219 62.8438,58.0938 Q63.25,57.75 63.25,57 Q63.25,56.2344 62.8438,55.8906 Q62.4375,55.5469 61.5313,55.5469 L59.9063,55.5469 Z M57.5313,53.5938 L61.5313,53.5938 Q63.5938,53.5938 64.6406,54.375 Q65.6875,55.1563 65.6875,56.7188 Q65.6875,57.9219 65.0625,58.5938 Q64.4531,59.2656 63.2656,59.375 Q64.6875,59.5156 65.4063,60.3281 Q66.125,61.1406 66.125,62.5938 Q66.125,64.3906 65.0469,65.2031 Q63.9688,66 61.5313,66 L57.5313,66 L57.5313,53.5938 Z \"/><text fill=\"#000000\" font-family=\"sans-serif\" font-size=\"12\" lengthAdjust=\"spacingAndGlyphs\" textLength=\"8\" x=\"75\" y=\"64.1543\">C</text><line style=\"stroke: #A80036; stroke-width: 1.5;\" x1=\"47\" x2=\"85\" y1=\"76\" y2=\"76\"/></a><!--MD5=[270fce915f116d4de14055a7c1d9a0f3]\n",
       "class E5--><a href=\"psysml:31443893-624e-4834-b51f-adb4e581d804\" target=\"_top\" title=\"psysml:31443893-624e-4834-b51f-adb4e581d804\" xlink:actuate=\"onRequest\" xlink:href=\"psysml:31443893-624e-4834-b51f-adb4e581d804\" xlink:show=\"new\" xlink:title=\"psysml:31443893-624e-4834-b51f-adb4e581d804\" xlink:type=\"simple\"><rect fill=\"#FEFECE\" filter=\"url(#f7a7s18nn903h)\" height=\"45.9375\" id=\"E5\" rx=\"10\" ry=\"10\" style=\"stroke: #A80036; stroke-width: 1.5;\" width=\"68\" x=\"32\" y=\"147\"/><ellipse cx=\"47\" cy=\"165.9688\" fill=\"#32CD32\" rx=\"11\" ry=\"11\" style=\"stroke: #A80036; stroke-width: 1.0;\"/><path d=\"M46.7969,161.6406 L46.7969,165.2656 L47.7969,165.2656 Q49,165.2656 49.4844,164.8594 Q49.9688,164.4531 49.9688,163.4531 Q49.9688,162.4531 49.4844,162.0469 Q49,161.6406 47.7969,161.6406 L46.7969,161.6406 Z M44.3438,159.5781 L47.7031,159.5781 Q50.2656,159.5781 51.3906,160.5 Q52.5156,161.4063 52.5156,163.4531 Q52.5156,165.5 51.3906,166.4219 Q50.2656,167.3281 47.7031,167.3281 L46.7969,167.3281 L46.7969,171.9688 L44.3438,171.9688 L44.3438,159.5781 Z \"/><text fill=\"#000000\" font-family=\"sans-serif\" font-size=\"12\" font-style=\"italic\" lengthAdjust=\"spacingAndGlyphs\" textLength=\"40\" x=\"59\" y=\"163.1387\">«part»</text><text fill=\"#000000\" font-family=\"sans-serif\" font-size=\"12\" lengthAdjust=\"spacingAndGlyphs\" textLength=\"8\" x=\"75\" y=\"177.1074\">g</text><line style=\"stroke: #A80036; stroke-width: 1.5;\" x1=\"33\" x2=\"99\" y1=\"184.9375\" y2=\"184.9375\"/></a><!--MD5=[209b3feb70ccb6233bfe1053d122c12c]\n",
       "reverse link E2 to E3--><a href=\"psysml:144a9ea2-c14f-46d2-8ece-b06edd35cf79\" target=\"_top\" title=\"psysml:144a9ea2-c14f-46d2-8ece-b06edd35cf79\" xlink:actuate=\"onRequest\" xlink:href=\"psysml:144a9ea2-c14f-46d2-8ece-b06edd35cf79\" xlink:show=\"new\" xlink:title=\"psysml:144a9ea2-c14f-46d2-8ece-b06edd35cf79\" xlink:type=\"simple\"><path d=\"M169,100.44 C169,115.87 169,133.47 169,146.98 \" fill=\"none\" id=\"E2&lt;-E3\" style=\"stroke: #A80036; stroke-width: 1.0;\"/><polygon fill=\"#A80036\" points=\"169,87.06,165,93.06,169,99.06,173,93.06,169,87.06\" style=\"stroke: #A80036; stroke-width: 1.0;\"/></a><!--MD5=[62aa6af11e70f752912c1cb0466f24f7]\n",
       "reverse link E4 to E5--><a href=\"psysml:ffd50afc-9abd-4dce-afc7-dff7922af1b1\" target=\"_top\" title=\"psysml:ffd50afc-9abd-4dce-afc7-dff7922af1b1\" xlink:actuate=\"onRequest\" xlink:href=\"psysml:ffd50afc-9abd-4dce-afc7-dff7922af1b1\" xlink:show=\"new\" xlink:title=\"psysml:ffd50afc-9abd-4dce-afc7-dff7922af1b1\" xlink:type=\"simple\"><path d=\"M66,97.25 C66,113.33 66,132.37 66,146.8 \" fill=\"none\" id=\"E4&lt;-E5\" style=\"stroke: #A80036; stroke-width: 1.0;\"/><polygon fill=\"#A80036\" points=\"66,84.08,62,90.08,66,96.08,70,90.08,66,84.08\" style=\"stroke: #A80036; stroke-width: 1.0;\"/></a><!--MD5=[5b2e26089563d11a727bd1ef6f47e209]\n",
       "@startuml\r\n",
       " \r\n",
       "package \"Q\" as E1  [[psysml:8fe83ee3-fcec-497a-a9db-5b3b84baea71 ]]  {\r\n",
       "comp usage \"f\" as E2  << (P,limegreen) part>> [[psysml:c953ea8a-4e0b-4404-8471-1de142ee019c ]] {\r\n",
       "}\r\n",
       "comp usage \"a\" as E3  << (P,limegreen) part>> [[psysml:c747f0dc-049c-42e5-8830-b905b214a6d2 ]] {\r\n",
       "}\r\n",
       "comp def \"C\" as E4  << (B,green) >> [[psysml:1d5dfbac-e0d0-4dae-a20f-d178674246aa ]] {\r\n",
       "}\r\n",
       "comp usage \"g\" as E5  << (P,limegreen) part>> [[psysml:31443893-624e-4834-b51f-adb4e581d804 ]] {\r\n",
       "}\r\n",
       "E2 *- - E3 [[psysml:144a9ea2-c14f-46d2-8ece-b06edd35cf79 ]] \r\n",
       "E4 *- - E5 [[psysml:ffd50afc-9abd-4dce-afc7-dff7922af1b1 ]] \r\n",
       "}\r\n",
       "@enduml\r\n",
       "\n",
       "PlantUML version 1.2020.13(Sat Jun 13 12:26:38 UTC 2020)\n",
       "(EPL source distribution)\n",
       "Java Runtime: OpenJDK Runtime Environment\n",
       "JVM: OpenJDK 64-Bit Server VM\n",
       "Default Encoding: UTF-8\n",
       "Language: en\n",
       "Country: null\n",
       "--></g></svg>"
      ]
     },
     "execution_count": 35,
     "metadata": {},
     "output_type": "execute_result"
    }
   ],
   "source": [
    "%viz --style=\"PLANTUML\" --view=\"Sequence\" \"Q\""
   ]
  },
  {
   "cell_type": "code",
   "execution_count": 36,
   "id": "58d92c7a",
   "metadata": {
    "execution": {
     "iopub.execute_input": "2021-04-20T07:21:52.414069Z",
     "iopub.status.busy": "2021-04-20T07:21:52.413317Z",
     "iopub.status.idle": "2021-04-20T07:21:52.448259Z",
     "shell.execute_reply": "2021-04-20T07:21:52.448694Z"
    }
   },
   "outputs": [
    {
     "data": {
      "image/svg+xml": [
       "<?xml version=\"1.0\" encoding=\"UTF-8\" standalone=\"no\"?><svg xmlns=\"http://www.w3.org/2000/svg\" xmlns:xlink=\"http://www.w3.org/1999/xlink\" contentScriptType=\"application/ecmascript\" contentStyleType=\"text/css\" height=\"221px\" preserveAspectRatio=\"none\" style=\"width:241px;height:221px;\" version=\"1.1\" viewBox=\"0 0 241 221\" width=\"241px\" zoomAndPan=\"magnify\"><defs><filter height=\"300%\" id=\"f7a7s18nn903h\" width=\"300%\" x=\"-1\" y=\"-1\"><feGaussianBlur result=\"blurOut\" stdDeviation=\"2.0\"/><feColorMatrix in=\"blurOut\" result=\"blurOut2\" type=\"matrix\" values=\"0 0 0 0 0 0 0 0 0 0 0 0 0 0 0 0 0 0 .4 0\"/><feOffset dx=\"4.0\" dy=\"4.0\" in=\"blurOut2\" result=\"blurOut3\"/><feBlend in=\"SourceGraphic\" in2=\"blurOut3\" mode=\"normal\"/></filter></defs><g><!--MD5=[fbc87193dbaf4d95561dea2c320d4a47]\n",
       "cluster E1--><a href=\"psysml:8fe83ee3-fcec-497a-a9db-5b3b84baea71\" target=\"_top\" title=\"psysml:8fe83ee3-fcec-497a-a9db-5b3b84baea71\" xlink:actuate=\"onRequest\" xlink:href=\"psysml:8fe83ee3-fcec-497a-a9db-5b3b84baea71\" xlink:show=\"new\" xlink:title=\"psysml:8fe83ee3-fcec-497a-a9db-5b3b84baea71\" xlink:type=\"simple\"><polygon fill=\"#FFFFFF\" filter=\"url(#f7a7s18nn903h)\" points=\"16,6,34,6,41,28.2969,219,28.2969,219,209,16,209,16,6\" style=\"stroke: #000000; stroke-width: 1.5;\"/><line style=\"stroke: #000000; stroke-width: 1.5;\" x1=\"16\" x2=\"41\" y1=\"28.2969\" y2=\"28.2969\"/><text fill=\"#000000\" font-family=\"sans-serif\" font-size=\"14\" font-weight=\"bold\" lengthAdjust=\"spacingAndGlyphs\" textLength=\"12\" x=\"20\" y=\"20.9951\">Q</text></a><!--MD5=[b4997ac47864f28c2f74865a473b2911]\n",
       "class E2--><a href=\"psysml:c953ea8a-4e0b-4404-8471-1de142ee019c\" target=\"_top\" title=\"psysml:c953ea8a-4e0b-4404-8471-1de142ee019c\" xlink:actuate=\"onRequest\" xlink:href=\"psysml:c953ea8a-4e0b-4404-8471-1de142ee019c\" xlink:show=\"new\" xlink:title=\"psysml:c953ea8a-4e0b-4404-8471-1de142ee019c\" xlink:type=\"simple\"><rect fill=\"#FEFECE\" filter=\"url(#f7a7s18nn903h)\" height=\"45.9375\" id=\"E2\" rx=\"10\" ry=\"10\" style=\"stroke: #A80036; stroke-width: 1.5;\" width=\"68\" x=\"135\" y=\"41\"/><ellipse cx=\"150\" cy=\"59.9688\" fill=\"#32CD32\" rx=\"11\" ry=\"11\" style=\"stroke: #A80036; stroke-width: 1.0;\"/><path d=\"M149.7969,55.6406 L149.7969,59.2656 L150.7969,59.2656 Q152,59.2656 152.4844,58.8594 Q152.9688,58.4531 152.9688,57.4531 Q152.9688,56.4531 152.4844,56.0469 Q152,55.6406 150.7969,55.6406 L149.7969,55.6406 Z M147.3438,53.5781 L150.7031,53.5781 Q153.2656,53.5781 154.3906,54.5 Q155.5156,55.4063 155.5156,57.4531 Q155.5156,59.5 154.3906,60.4219 Q153.2656,61.3281 150.7031,61.3281 L149.7969,61.3281 L149.7969,65.9688 L147.3438,65.9688 L147.3438,53.5781 Z \"/><text fill=\"#000000\" font-family=\"sans-serif\" font-size=\"12\" font-style=\"italic\" lengthAdjust=\"spacingAndGlyphs\" textLength=\"40\" x=\"162\" y=\"57.1387\">«part»</text><text fill=\"#000000\" font-family=\"sans-serif\" font-size=\"12\" lengthAdjust=\"spacingAndGlyphs\" textLength=\"4\" x=\"180\" y=\"71.1074\">f</text><line style=\"stroke: #A80036; stroke-width: 1.5;\" x1=\"136\" x2=\"202\" y1=\"78.9375\" y2=\"78.9375\"/></a><!--MD5=[09b614a08d8cba4a07c9adeb5e0fee81]\n",
       "class E3--><a href=\"psysml:c747f0dc-049c-42e5-8830-b905b214a6d2\" target=\"_top\" title=\"psysml:c747f0dc-049c-42e5-8830-b905b214a6d2\" xlink:actuate=\"onRequest\" xlink:href=\"psysml:c747f0dc-049c-42e5-8830-b905b214a6d2\" xlink:show=\"new\" xlink:title=\"psysml:c747f0dc-049c-42e5-8830-b905b214a6d2\" xlink:type=\"simple\"><rect fill=\"#FEFECE\" filter=\"url(#f7a7s18nn903h)\" height=\"45.9375\" id=\"E3\" rx=\"10\" ry=\"10\" style=\"stroke: #A80036; stroke-width: 1.5;\" width=\"68\" x=\"135\" y=\"147\"/><ellipse cx=\"150\" cy=\"165.9688\" fill=\"#32CD32\" rx=\"11\" ry=\"11\" style=\"stroke: #A80036; stroke-width: 1.0;\"/><path d=\"M149.7969,161.6406 L149.7969,165.2656 L150.7969,165.2656 Q152,165.2656 152.4844,164.8594 Q152.9688,164.4531 152.9688,163.4531 Q152.9688,162.4531 152.4844,162.0469 Q152,161.6406 150.7969,161.6406 L149.7969,161.6406 Z M147.3438,159.5781 L150.7031,159.5781 Q153.2656,159.5781 154.3906,160.5 Q155.5156,161.4063 155.5156,163.4531 Q155.5156,165.5 154.3906,166.4219 Q153.2656,167.3281 150.7031,167.3281 L149.7969,167.3281 L149.7969,171.9688 L147.3438,171.9688 L147.3438,159.5781 Z \"/><text fill=\"#000000\" font-family=\"sans-serif\" font-size=\"12\" font-style=\"italic\" lengthAdjust=\"spacingAndGlyphs\" textLength=\"40\" x=\"162\" y=\"163.1387\">«part»</text><text fill=\"#000000\" font-family=\"sans-serif\" font-size=\"12\" lengthAdjust=\"spacingAndGlyphs\" textLength=\"8\" x=\"178\" y=\"177.1074\">a</text><line style=\"stroke: #A80036; stroke-width: 1.5;\" x1=\"136\" x2=\"202\" y1=\"184.9375\" y2=\"184.9375\"/></a><!--MD5=[ebbe1d658d1005bcc118a6aa81145e00]\n",
       "class E4--><a href=\"psysml:1d5dfbac-e0d0-4dae-a20f-d178674246aa\" target=\"_top\" title=\"psysml:1d5dfbac-e0d0-4dae-a20f-d178674246aa\" xlink:actuate=\"onRequest\" xlink:href=\"psysml:1d5dfbac-e0d0-4dae-a20f-d178674246aa\" xlink:show=\"new\" xlink:title=\"psysml:1d5dfbac-e0d0-4dae-a20f-d178674246aa\" xlink:type=\"simple\"><rect fill=\"#FEFECE\" filter=\"url(#f7a7s18nn903h)\" height=\"40\" id=\"E4\" style=\"stroke: #A80036; stroke-width: 1.5;\" width=\"40\" x=\"46\" y=\"44\"/><ellipse cx=\"61\" cy=\"60\" fill=\"#008000\" rx=\"11\" ry=\"11\" style=\"stroke: #A80036; stroke-width: 1.0;\"/><path d=\"M59.9063,60.375 L59.9063,64.0469 L61.5313,64.0469 Q62.7031,64.0469 63.1719,63.6563 Q63.6406,63.25 63.6406,62.25 Q63.6406,61.25 63.1406,60.8125 Q62.6563,60.375 61.5313,60.375 L59.9063,60.375 Z M59.9063,55.5469 L59.9063,58.4219 L61.5313,58.4219 Q62.4531,58.4219 62.8438,58.0938 Q63.25,57.75 63.25,57 Q63.25,56.2344 62.8438,55.8906 Q62.4375,55.5469 61.5313,55.5469 L59.9063,55.5469 Z M57.5313,53.5938 L61.5313,53.5938 Q63.5938,53.5938 64.6406,54.375 Q65.6875,55.1563 65.6875,56.7188 Q65.6875,57.9219 65.0625,58.5938 Q64.4531,59.2656 63.2656,59.375 Q64.6875,59.5156 65.4063,60.3281 Q66.125,61.1406 66.125,62.5938 Q66.125,64.3906 65.0469,65.2031 Q63.9688,66 61.5313,66 L57.5313,66 L57.5313,53.5938 Z \"/><text fill=\"#000000\" font-family=\"sans-serif\" font-size=\"12\" lengthAdjust=\"spacingAndGlyphs\" textLength=\"8\" x=\"75\" y=\"64.1543\">C</text><line style=\"stroke: #A80036; stroke-width: 1.5;\" x1=\"47\" x2=\"85\" y1=\"76\" y2=\"76\"/></a><!--MD5=[270fce915f116d4de14055a7c1d9a0f3]\n",
       "class E5--><a href=\"psysml:31443893-624e-4834-b51f-adb4e581d804\" target=\"_top\" title=\"psysml:31443893-624e-4834-b51f-adb4e581d804\" xlink:actuate=\"onRequest\" xlink:href=\"psysml:31443893-624e-4834-b51f-adb4e581d804\" xlink:show=\"new\" xlink:title=\"psysml:31443893-624e-4834-b51f-adb4e581d804\" xlink:type=\"simple\"><rect fill=\"#FEFECE\" filter=\"url(#f7a7s18nn903h)\" height=\"45.9375\" id=\"E5\" rx=\"10\" ry=\"10\" style=\"stroke: #A80036; stroke-width: 1.5;\" width=\"68\" x=\"32\" y=\"147\"/><ellipse cx=\"47\" cy=\"165.9688\" fill=\"#32CD32\" rx=\"11\" ry=\"11\" style=\"stroke: #A80036; stroke-width: 1.0;\"/><path d=\"M46.7969,161.6406 L46.7969,165.2656 L47.7969,165.2656 Q49,165.2656 49.4844,164.8594 Q49.9688,164.4531 49.9688,163.4531 Q49.9688,162.4531 49.4844,162.0469 Q49,161.6406 47.7969,161.6406 L46.7969,161.6406 Z M44.3438,159.5781 L47.7031,159.5781 Q50.2656,159.5781 51.3906,160.5 Q52.5156,161.4063 52.5156,163.4531 Q52.5156,165.5 51.3906,166.4219 Q50.2656,167.3281 47.7031,167.3281 L46.7969,167.3281 L46.7969,171.9688 L44.3438,171.9688 L44.3438,159.5781 Z \"/><text fill=\"#000000\" font-family=\"sans-serif\" font-size=\"12\" font-style=\"italic\" lengthAdjust=\"spacingAndGlyphs\" textLength=\"40\" x=\"59\" y=\"163.1387\">«part»</text><text fill=\"#000000\" font-family=\"sans-serif\" font-size=\"12\" lengthAdjust=\"spacingAndGlyphs\" textLength=\"8\" x=\"75\" y=\"177.1074\">g</text><line style=\"stroke: #A80036; stroke-width: 1.5;\" x1=\"33\" x2=\"99\" y1=\"184.9375\" y2=\"184.9375\"/></a><!--MD5=[209b3feb70ccb6233bfe1053d122c12c]\n",
       "reverse link E2 to E3--><a href=\"psysml:144a9ea2-c14f-46d2-8ece-b06edd35cf79\" target=\"_top\" title=\"psysml:144a9ea2-c14f-46d2-8ece-b06edd35cf79\" xlink:actuate=\"onRequest\" xlink:href=\"psysml:144a9ea2-c14f-46d2-8ece-b06edd35cf79\" xlink:show=\"new\" xlink:title=\"psysml:144a9ea2-c14f-46d2-8ece-b06edd35cf79\" xlink:type=\"simple\"><path d=\"M169,100.44 C169,115.87 169,133.47 169,146.98 \" fill=\"none\" id=\"E2&lt;-E3\" style=\"stroke: #A80036; stroke-width: 1.0;\"/><polygon fill=\"#A80036\" points=\"169,87.06,165,93.06,169,99.06,173,93.06,169,87.06\" style=\"stroke: #A80036; stroke-width: 1.0;\"/></a><!--MD5=[62aa6af11e70f752912c1cb0466f24f7]\n",
       "reverse link E4 to E5--><a href=\"psysml:ffd50afc-9abd-4dce-afc7-dff7922af1b1\" target=\"_top\" title=\"psysml:ffd50afc-9abd-4dce-afc7-dff7922af1b1\" xlink:actuate=\"onRequest\" xlink:href=\"psysml:ffd50afc-9abd-4dce-afc7-dff7922af1b1\" xlink:show=\"new\" xlink:title=\"psysml:ffd50afc-9abd-4dce-afc7-dff7922af1b1\" xlink:type=\"simple\"><path d=\"M66,97.25 C66,113.33 66,132.37 66,146.8 \" fill=\"none\" id=\"E4&lt;-E5\" style=\"stroke: #A80036; stroke-width: 1.0;\"/><polygon fill=\"#A80036\" points=\"66,84.08,62,90.08,66,96.08,70,90.08,66,84.08\" style=\"stroke: #A80036; stroke-width: 1.0;\"/></a><!--MD5=[5b2e26089563d11a727bd1ef6f47e209]\n",
       "@startuml\r\n",
       " \r\n",
       "package \"Q\" as E1  [[psysml:8fe83ee3-fcec-497a-a9db-5b3b84baea71 ]]  {\r\n",
       "comp usage \"f\" as E2  << (P,limegreen) part>> [[psysml:c953ea8a-4e0b-4404-8471-1de142ee019c ]] {\r\n",
       "}\r\n",
       "comp usage \"a\" as E3  << (P,limegreen) part>> [[psysml:c747f0dc-049c-42e5-8830-b905b214a6d2 ]] {\r\n",
       "}\r\n",
       "comp def \"C\" as E4  << (B,green) >> [[psysml:1d5dfbac-e0d0-4dae-a20f-d178674246aa ]] {\r\n",
       "}\r\n",
       "comp usage \"g\" as E5  << (P,limegreen) part>> [[psysml:31443893-624e-4834-b51f-adb4e581d804 ]] {\r\n",
       "}\r\n",
       "E2 *- - E3 [[psysml:144a9ea2-c14f-46d2-8ece-b06edd35cf79 ]] \r\n",
       "E4 *- - E5 [[psysml:ffd50afc-9abd-4dce-afc7-dff7922af1b1 ]] \r\n",
       "}\r\n",
       "@enduml\r\n",
       "\n",
       "PlantUML version 1.2020.13(Sat Jun 13 12:26:38 UTC 2020)\n",
       "(EPL source distribution)\n",
       "Java Runtime: OpenJDK Runtime Environment\n",
       "JVM: OpenJDK 64-Bit Server VM\n",
       "Default Encoding: UTF-8\n",
       "Language: en\n",
       "Country: null\n",
       "--></g></svg>"
      ]
     },
     "execution_count": 36,
     "metadata": {},
     "output_type": "execute_result"
    }
   ],
   "source": [
    "%viz --style=\"PLANTUML\" --view=\"MIXED\" \"Q\""
   ]
  },
  {
   "cell_type": "code",
   "execution_count": 37,
   "id": "90812a8e",
   "metadata": {
    "execution": {
     "iopub.execute_input": "2021-04-20T07:21:52.499686Z",
     "iopub.status.busy": "2021-04-20T07:21:52.498915Z",
     "iopub.status.idle": "2021-04-20T07:21:52.528708Z",
     "shell.execute_reply": "2021-04-20T07:21:52.527638Z"
    }
   },
   "outputs": [
    {
     "data": {
      "image/svg+xml": [
       "<?xml version=\"1.0\" encoding=\"UTF-8\" standalone=\"no\"?><svg xmlns=\"http://www.w3.org/2000/svg\" xmlns:xlink=\"http://www.w3.org/1999/xlink\" contentScriptType=\"application/ecmascript\" contentStyleType=\"text/css\" height=\"221px\" preserveAspectRatio=\"none\" style=\"width:213px;height:221px;\" version=\"1.1\" viewBox=\"0 0 213 221\" width=\"213px\" zoomAndPan=\"magnify\"><defs/><g><!--MD5=[fbc87193dbaf4d95561dea2c320d4a47]\n",
       "cluster E1--><a href=\"psysml:8fe83ee3-fcec-497a-a9db-5b3b84baea71\" target=\"_top\" title=\"psysml:8fe83ee3-fcec-497a-a9db-5b3b84baea71\" xlink:actuate=\"onRequest\" xlink:href=\"psysml:8fe83ee3-fcec-497a-a9db-5b3b84baea71\" xlink:show=\"new\" xlink:title=\"psysml:8fe83ee3-fcec-497a-a9db-5b3b84baea71\" xlink:type=\"simple\"><polygon fill=\"#FFFFFF\" points=\"16,6,34,6,41,28.2969,191,28.2969,191,209,16,209,16,6\" style=\"stroke: #000000; stroke-width: 1.5;\"/><line style=\"stroke: #000000; stroke-width: 1.5;\" x1=\"16\" x2=\"41\" y1=\"28.2969\" y2=\"28.2969\"/><text fill=\"#000000\" font-family=\"sans-serif\" font-size=\"14\" font-weight=\"bold\" lengthAdjust=\"spacingAndGlyphs\" textLength=\"12\" x=\"20\" y=\"20.9951\">Q</text></a><!--MD5=[b4997ac47864f28c2f74865a473b2911]\n",
       "class E2--><a href=\"psysml:c953ea8a-4e0b-4404-8471-1de142ee019c\" target=\"_top\" title=\"psysml:c953ea8a-4e0b-4404-8471-1de142ee019c\" xlink:actuate=\"onRequest\" xlink:href=\"psysml:c953ea8a-4e0b-4404-8471-1de142ee019c\" xlink:show=\"new\" xlink:title=\"psysml:c953ea8a-4e0b-4404-8471-1de142ee019c\" xlink:type=\"simple\"><rect fill=\"#FFFFFF\" height=\"45.9375\" id=\"E2\" rx=\"10\" ry=\"10\" style=\"stroke: #383838; stroke-width: 1.5;\" width=\"42\" x=\"133\" y=\"41\"/><text fill=\"#000000\" font-family=\"sans-serif\" font-size=\"12\" font-style=\"italic\" lengthAdjust=\"spacingAndGlyphs\" textLength=\"40\" x=\"134\" y=\"57.1387\">«part»</text><text fill=\"#000000\" font-family=\"sans-serif\" font-size=\"12\" lengthAdjust=\"spacingAndGlyphs\" textLength=\"4\" x=\"152\" y=\"71.1074\">f</text><line style=\"stroke: #383838; stroke-width: 1.5;\" x1=\"134\" x2=\"174\" y1=\"78.9375\" y2=\"78.9375\"/></a><!--MD5=[09b614a08d8cba4a07c9adeb5e0fee81]\n",
       "class E3--><a href=\"psysml:c747f0dc-049c-42e5-8830-b905b214a6d2\" target=\"_top\" title=\"psysml:c747f0dc-049c-42e5-8830-b905b214a6d2\" xlink:actuate=\"onRequest\" xlink:href=\"psysml:c747f0dc-049c-42e5-8830-b905b214a6d2\" xlink:show=\"new\" xlink:title=\"psysml:c747f0dc-049c-42e5-8830-b905b214a6d2\" xlink:type=\"simple\"><rect fill=\"#FFFFFF\" height=\"45.9375\" id=\"E3\" rx=\"10\" ry=\"10\" style=\"stroke: #383838; stroke-width: 1.5;\" width=\"42\" x=\"133\" y=\"147\"/><text fill=\"#000000\" font-family=\"sans-serif\" font-size=\"12\" font-style=\"italic\" lengthAdjust=\"spacingAndGlyphs\" textLength=\"40\" x=\"134\" y=\"163.1387\">«part»</text><text fill=\"#000000\" font-family=\"sans-serif\" font-size=\"12\" lengthAdjust=\"spacingAndGlyphs\" textLength=\"8\" x=\"150\" y=\"177.1074\">a</text><line style=\"stroke: #383838; stroke-width: 1.5;\" x1=\"134\" x2=\"174\" y1=\"184.9375\" y2=\"184.9375\"/></a><!--MD5=[ebbe1d658d1005bcc118a6aa81145e00]\n",
       "class E4--><a href=\"psysml:1d5dfbac-e0d0-4dae-a20f-d178674246aa\" target=\"_top\" title=\"psysml:1d5dfbac-e0d0-4dae-a20f-d178674246aa\" xlink:actuate=\"onRequest\" xlink:href=\"psysml:1d5dfbac-e0d0-4dae-a20f-d178674246aa\" xlink:show=\"new\" xlink:title=\"psysml:1d5dfbac-e0d0-4dae-a20f-d178674246aa\" xlink:type=\"simple\"><rect fill=\"#FFFFFF\" height=\"45.9375\" id=\"E4\" style=\"stroke: #383838; stroke-width: 1.5;\" width=\"66\" x=\"32\" y=\"41\"/><text fill=\"#000000\" font-family=\"sans-serif\" font-size=\"12\" font-style=\"italic\" lengthAdjust=\"spacingAndGlyphs\" textLength=\"64\" x=\"33\" y=\"57.1387\">«part def»</text><text fill=\"#000000\" font-family=\"sans-serif\" font-size=\"12\" lengthAdjust=\"spacingAndGlyphs\" textLength=\"8\" x=\"61\" y=\"71.1074\">C</text><line style=\"stroke: #383838; stroke-width: 1.5;\" x1=\"33\" x2=\"97\" y1=\"78.9375\" y2=\"78.9375\"/></a><!--MD5=[270fce915f116d4de14055a7c1d9a0f3]\n",
       "class E5--><a href=\"psysml:31443893-624e-4834-b51f-adb4e581d804\" target=\"_top\" title=\"psysml:31443893-624e-4834-b51f-adb4e581d804\" xlink:actuate=\"onRequest\" xlink:href=\"psysml:31443893-624e-4834-b51f-adb4e581d804\" xlink:show=\"new\" xlink:title=\"psysml:31443893-624e-4834-b51f-adb4e581d804\" xlink:type=\"simple\"><rect fill=\"#FFFFFF\" height=\"45.9375\" id=\"E5\" rx=\"10\" ry=\"10\" style=\"stroke: #383838; stroke-width: 1.5;\" width=\"42\" x=\"44\" y=\"147\"/><text fill=\"#000000\" font-family=\"sans-serif\" font-size=\"12\" font-style=\"italic\" lengthAdjust=\"spacingAndGlyphs\" textLength=\"40\" x=\"45\" y=\"163.1387\">«part»</text><text fill=\"#000000\" font-family=\"sans-serif\" font-size=\"12\" lengthAdjust=\"spacingAndGlyphs\" textLength=\"8\" x=\"61\" y=\"177.1074\">g</text><line style=\"stroke: #383838; stroke-width: 1.5;\" x1=\"45\" x2=\"85\" y1=\"184.9375\" y2=\"184.9375\"/></a><!--MD5=[209b3feb70ccb6233bfe1053d122c12c]\n",
       "reverse link E2 to E3--><a href=\"psysml:144a9ea2-c14f-46d2-8ece-b06edd35cf79\" target=\"_top\" title=\"psysml:144a9ea2-c14f-46d2-8ece-b06edd35cf79\" xlink:actuate=\"onRequest\" xlink:href=\"psysml:144a9ea2-c14f-46d2-8ece-b06edd35cf79\" xlink:show=\"new\" xlink:title=\"psysml:144a9ea2-c14f-46d2-8ece-b06edd35cf79\" xlink:type=\"simple\"><path d=\"M154,100.44 C154,115.87 154,133.47 154,146.98 \" fill=\"none\" id=\"E2&lt;-E3\" style=\"stroke: #383838; stroke-width: 1.0;\"/><polygon fill=\"#383838\" points=\"154,87.06,150,93.06,154,99.06,158,93.06,154,87.06\" style=\"stroke: #383838; stroke-width: 1.0;\"/></a><!--MD5=[62aa6af11e70f752912c1cb0466f24f7]\n",
       "reverse link E4 to E5--><a href=\"psysml:ffd50afc-9abd-4dce-afc7-dff7922af1b1\" target=\"_top\" title=\"psysml:ffd50afc-9abd-4dce-afc7-dff7922af1b1\" xlink:actuate=\"onRequest\" xlink:href=\"psysml:ffd50afc-9abd-4dce-afc7-dff7922af1b1\" xlink:show=\"new\" xlink:title=\"psysml:ffd50afc-9abd-4dce-afc7-dff7922af1b1\" xlink:type=\"simple\"><path d=\"M65,100.44 C65,115.87 65,133.47 65,146.98 \" fill=\"none\" id=\"E4&lt;-E5\" style=\"stroke: #383838; stroke-width: 1.0;\"/><polygon fill=\"#383838\" points=\"65,87.06,61,93.06,65,99.06,69,93.06,65,87.06\" style=\"stroke: #383838; stroke-width: 1.0;\"/></a><!--MD5=[82d2e38097f453e8693665caebcee5fd]\n",
       "@startuml\r\n",
       "skinparam monochrome true\r\n",
       "skinparam classbackgroundcolor white\r\n",
       "skinparam shadowing false\r\n",
       "skinparam wrapWidth 300\r\n",
       "hide circle\r\n",
       "\r\n",
       "package \"Q\" as E1  [[psysml:8fe83ee3-fcec-497a-a9db-5b3b84baea71 ]]  {\r\n",
       "comp usage \"f\" as E2  <<(T,blue)part>> [[psysml:c953ea8a-4e0b-4404-8471-1de142ee019c ]] {\r\n",
       "}\r\n",
       "comp usage \"a\" as E3  <<(T,blue)part>> [[psysml:c747f0dc-049c-42e5-8830-b905b214a6d2 ]] {\r\n",
       "}\r\n",
       "comp def \"C\" as E4  <<(T,blue)part def>> [[psysml:1d5dfbac-e0d0-4dae-a20f-d178674246aa ]] {\r\n",
       "}\r\n",
       "comp usage \"g\" as E5  <<(T,blue)part>> [[psysml:31443893-624e-4834-b51f-adb4e581d804 ]] {\r\n",
       "}\r\n",
       "E2 *- - E3 [[psysml:144a9ea2-c14f-46d2-8ece-b06edd35cf79 ]] \r\n",
       "E4 *- - E5 [[psysml:ffd50afc-9abd-4dce-afc7-dff7922af1b1 ]] \r\n",
       "}\r\n",
       "@enduml\r\n",
       "\n",
       "PlantUML version 1.2020.13(Sat Jun 13 12:26:38 UTC 2020)\n",
       "(EPL source distribution)\n",
       "Java Runtime: OpenJDK Runtime Environment\n",
       "JVM: OpenJDK 64-Bit Server VM\n",
       "Default Encoding: UTF-8\n",
       "Language: en\n",
       "Country: null\n",
       "--></g></svg>"
      ]
     },
     "execution_count": 37,
     "metadata": {},
     "output_type": "execute_result"
    }
   ],
   "source": [
    "%viz --style=\"DEFAULT\" --view=\"Default\" \"Q\""
   ]
  },
  {
   "cell_type": "code",
   "execution_count": 38,
   "id": "b774bafb",
   "metadata": {
    "execution": {
     "iopub.execute_input": "2021-04-20T07:21:52.579171Z",
     "iopub.status.busy": "2021-04-20T07:21:52.578652Z",
     "iopub.status.idle": "2021-04-20T07:21:52.607597Z",
     "shell.execute_reply": "2021-04-20T07:21:52.607241Z"
    }
   },
   "outputs": [
    {
     "data": {
      "image/svg+xml": [
       "<?xml version=\"1.0\" encoding=\"UTF-8\" standalone=\"no\"?><svg xmlns=\"http://www.w3.org/2000/svg\" xmlns:xlink=\"http://www.w3.org/1999/xlink\" contentScriptType=\"application/ecmascript\" contentStyleType=\"text/css\" height=\"221px\" preserveAspectRatio=\"none\" style=\"width:213px;height:221px;\" version=\"1.1\" viewBox=\"0 0 213 221\" width=\"213px\" zoomAndPan=\"magnify\"><defs/><g><!--MD5=[fbc87193dbaf4d95561dea2c320d4a47]\n",
       "cluster E1--><a href=\"psysml:8fe83ee3-fcec-497a-a9db-5b3b84baea71\" target=\"_top\" title=\"psysml:8fe83ee3-fcec-497a-a9db-5b3b84baea71\" xlink:actuate=\"onRequest\" xlink:href=\"psysml:8fe83ee3-fcec-497a-a9db-5b3b84baea71\" xlink:show=\"new\" xlink:title=\"psysml:8fe83ee3-fcec-497a-a9db-5b3b84baea71\" xlink:type=\"simple\"><polygon fill=\"#FFFFFF\" points=\"16,6,34,6,41,28.2969,191,28.2969,191,209,16,209,16,6\" style=\"stroke: #000000; stroke-width: 1.5;\"/><line style=\"stroke: #000000; stroke-width: 1.5;\" x1=\"16\" x2=\"41\" y1=\"28.2969\" y2=\"28.2969\"/><text fill=\"#000000\" font-family=\"sans-serif\" font-size=\"14\" font-weight=\"bold\" lengthAdjust=\"spacingAndGlyphs\" textLength=\"12\" x=\"20\" y=\"20.9951\">Q</text></a><!--MD5=[b4997ac47864f28c2f74865a473b2911]\n",
       "class E2--><a href=\"psysml:c953ea8a-4e0b-4404-8471-1de142ee019c\" target=\"_top\" title=\"psysml:c953ea8a-4e0b-4404-8471-1de142ee019c\" xlink:actuate=\"onRequest\" xlink:href=\"psysml:c953ea8a-4e0b-4404-8471-1de142ee019c\" xlink:show=\"new\" xlink:title=\"psysml:c953ea8a-4e0b-4404-8471-1de142ee019c\" xlink:type=\"simple\"><rect fill=\"#FFFFFF\" height=\"45.9375\" id=\"E2\" rx=\"10\" ry=\"10\" style=\"stroke: #383838; stroke-width: 1.5;\" width=\"42\" x=\"133\" y=\"41\"/><text fill=\"#000000\" font-family=\"sans-serif\" font-size=\"12\" font-style=\"italic\" lengthAdjust=\"spacingAndGlyphs\" textLength=\"40\" x=\"134\" y=\"57.1387\">«part»</text><text fill=\"#000000\" font-family=\"sans-serif\" font-size=\"12\" lengthAdjust=\"spacingAndGlyphs\" textLength=\"4\" x=\"152\" y=\"71.1074\">f</text><line style=\"stroke: #383838; stroke-width: 1.5;\" x1=\"134\" x2=\"174\" y1=\"78.9375\" y2=\"78.9375\"/></a><!--MD5=[09b614a08d8cba4a07c9adeb5e0fee81]\n",
       "class E3--><a href=\"psysml:c747f0dc-049c-42e5-8830-b905b214a6d2\" target=\"_top\" title=\"psysml:c747f0dc-049c-42e5-8830-b905b214a6d2\" xlink:actuate=\"onRequest\" xlink:href=\"psysml:c747f0dc-049c-42e5-8830-b905b214a6d2\" xlink:show=\"new\" xlink:title=\"psysml:c747f0dc-049c-42e5-8830-b905b214a6d2\" xlink:type=\"simple\"><rect fill=\"#FFFFFF\" height=\"45.9375\" id=\"E3\" rx=\"10\" ry=\"10\" style=\"stroke: #383838; stroke-width: 1.5;\" width=\"42\" x=\"133\" y=\"147\"/><text fill=\"#000000\" font-family=\"sans-serif\" font-size=\"12\" font-style=\"italic\" lengthAdjust=\"spacingAndGlyphs\" textLength=\"40\" x=\"134\" y=\"163.1387\">«part»</text><text fill=\"#000000\" font-family=\"sans-serif\" font-size=\"12\" lengthAdjust=\"spacingAndGlyphs\" textLength=\"8\" x=\"150\" y=\"177.1074\">a</text><line style=\"stroke: #383838; stroke-width: 1.5;\" x1=\"134\" x2=\"174\" y1=\"184.9375\" y2=\"184.9375\"/></a><!--MD5=[ebbe1d658d1005bcc118a6aa81145e00]\n",
       "class E4--><a href=\"psysml:1d5dfbac-e0d0-4dae-a20f-d178674246aa\" target=\"_top\" title=\"psysml:1d5dfbac-e0d0-4dae-a20f-d178674246aa\" xlink:actuate=\"onRequest\" xlink:href=\"psysml:1d5dfbac-e0d0-4dae-a20f-d178674246aa\" xlink:show=\"new\" xlink:title=\"psysml:1d5dfbac-e0d0-4dae-a20f-d178674246aa\" xlink:type=\"simple\"><rect fill=\"#FFFFFF\" height=\"45.9375\" id=\"E4\" style=\"stroke: #383838; stroke-width: 1.5;\" width=\"66\" x=\"32\" y=\"41\"/><text fill=\"#000000\" font-family=\"sans-serif\" font-size=\"12\" font-style=\"italic\" lengthAdjust=\"spacingAndGlyphs\" textLength=\"64\" x=\"33\" y=\"57.1387\">«part def»</text><text fill=\"#000000\" font-family=\"sans-serif\" font-size=\"12\" lengthAdjust=\"spacingAndGlyphs\" textLength=\"8\" x=\"61\" y=\"71.1074\">C</text><line style=\"stroke: #383838; stroke-width: 1.5;\" x1=\"33\" x2=\"97\" y1=\"78.9375\" y2=\"78.9375\"/></a><!--MD5=[270fce915f116d4de14055a7c1d9a0f3]\n",
       "class E5--><a href=\"psysml:31443893-624e-4834-b51f-adb4e581d804\" target=\"_top\" title=\"psysml:31443893-624e-4834-b51f-adb4e581d804\" xlink:actuate=\"onRequest\" xlink:href=\"psysml:31443893-624e-4834-b51f-adb4e581d804\" xlink:show=\"new\" xlink:title=\"psysml:31443893-624e-4834-b51f-adb4e581d804\" xlink:type=\"simple\"><rect fill=\"#FFFFFF\" height=\"45.9375\" id=\"E5\" rx=\"10\" ry=\"10\" style=\"stroke: #383838; stroke-width: 1.5;\" width=\"42\" x=\"44\" y=\"147\"/><text fill=\"#000000\" font-family=\"sans-serif\" font-size=\"12\" font-style=\"italic\" lengthAdjust=\"spacingAndGlyphs\" textLength=\"40\" x=\"45\" y=\"163.1387\">«part»</text><text fill=\"#000000\" font-family=\"sans-serif\" font-size=\"12\" lengthAdjust=\"spacingAndGlyphs\" textLength=\"8\" x=\"61\" y=\"177.1074\">g</text><line style=\"stroke: #383838; stroke-width: 1.5;\" x1=\"45\" x2=\"85\" y1=\"184.9375\" y2=\"184.9375\"/></a><!--MD5=[209b3feb70ccb6233bfe1053d122c12c]\n",
       "reverse link E2 to E3--><a href=\"psysml:144a9ea2-c14f-46d2-8ece-b06edd35cf79\" target=\"_top\" title=\"psysml:144a9ea2-c14f-46d2-8ece-b06edd35cf79\" xlink:actuate=\"onRequest\" xlink:href=\"psysml:144a9ea2-c14f-46d2-8ece-b06edd35cf79\" xlink:show=\"new\" xlink:title=\"psysml:144a9ea2-c14f-46d2-8ece-b06edd35cf79\" xlink:type=\"simple\"><path d=\"M154,100.44 C154,115.87 154,133.47 154,146.98 \" fill=\"none\" id=\"E2&lt;-E3\" style=\"stroke: #383838; stroke-width: 1.0;\"/><polygon fill=\"#383838\" points=\"154,87.06,150,93.06,154,99.06,158,93.06,154,87.06\" style=\"stroke: #383838; stroke-width: 1.0;\"/></a><!--MD5=[62aa6af11e70f752912c1cb0466f24f7]\n",
       "reverse link E4 to E5--><a href=\"psysml:ffd50afc-9abd-4dce-afc7-dff7922af1b1\" target=\"_top\" title=\"psysml:ffd50afc-9abd-4dce-afc7-dff7922af1b1\" xlink:actuate=\"onRequest\" xlink:href=\"psysml:ffd50afc-9abd-4dce-afc7-dff7922af1b1\" xlink:show=\"new\" xlink:title=\"psysml:ffd50afc-9abd-4dce-afc7-dff7922af1b1\" xlink:type=\"simple\"><path d=\"M65,100.44 C65,115.87 65,133.47 65,146.98 \" fill=\"none\" id=\"E4&lt;-E5\" style=\"stroke: #383838; stroke-width: 1.0;\"/><polygon fill=\"#383838\" points=\"65,87.06,61,93.06,65,99.06,69,93.06,65,87.06\" style=\"stroke: #383838; stroke-width: 1.0;\"/></a><!--MD5=[82d2e38097f453e8693665caebcee5fd]\n",
       "@startuml\r\n",
       "skinparam monochrome true\r\n",
       "skinparam classbackgroundcolor white\r\n",
       "skinparam shadowing false\r\n",
       "skinparam wrapWidth 300\r\n",
       "hide circle\r\n",
       "\r\n",
       "package \"Q\" as E1  [[psysml:8fe83ee3-fcec-497a-a9db-5b3b84baea71 ]]  {\r\n",
       "comp usage \"f\" as E2  <<(T,blue)part>> [[psysml:c953ea8a-4e0b-4404-8471-1de142ee019c ]] {\r\n",
       "}\r\n",
       "comp usage \"a\" as E3  <<(T,blue)part>> [[psysml:c747f0dc-049c-42e5-8830-b905b214a6d2 ]] {\r\n",
       "}\r\n",
       "comp def \"C\" as E4  <<(T,blue)part def>> [[psysml:1d5dfbac-e0d0-4dae-a20f-d178674246aa ]] {\r\n",
       "}\r\n",
       "comp usage \"g\" as E5  <<(T,blue)part>> [[psysml:31443893-624e-4834-b51f-adb4e581d804 ]] {\r\n",
       "}\r\n",
       "E2 *- - E3 [[psysml:144a9ea2-c14f-46d2-8ece-b06edd35cf79 ]] \r\n",
       "E4 *- - E5 [[psysml:ffd50afc-9abd-4dce-afc7-dff7922af1b1 ]] \r\n",
       "}\r\n",
       "@enduml\r\n",
       "\n",
       "PlantUML version 1.2020.13(Sat Jun 13 12:26:38 UTC 2020)\n",
       "(EPL source distribution)\n",
       "Java Runtime: OpenJDK Runtime Environment\n",
       "JVM: OpenJDK 64-Bit Server VM\n",
       "Default Encoding: UTF-8\n",
       "Language: en\n",
       "Country: null\n",
       "--></g></svg>"
      ]
     },
     "execution_count": 38,
     "metadata": {},
     "output_type": "execute_result"
    }
   ],
   "source": [
    "%viz --style=\"DEFAULT\" --view=\"Tree\" \"Q\""
   ]
  },
  {
   "cell_type": "code",
   "execution_count": 39,
   "id": "cf1dcaf3",
   "metadata": {
    "execution": {
     "iopub.execute_input": "2021-04-20T07:21:52.657855Z",
     "iopub.status.busy": "2021-04-20T07:21:52.657224Z",
     "iopub.status.idle": "2021-04-20T07:21:52.662367Z",
     "shell.execute_reply": "2021-04-20T07:21:52.661955Z"
    }
   },
   "outputs": [
    {
     "data": {
      "image/svg+xml": [
       "<?xml version=\"1.0\" encoding=\"UTF-8\" standalone=\"no\"?><svg xmlns=\"http://www.w3.org/2000/svg\" xmlns:xlink=\"http://www.w3.org/1999/xlink\" contentScriptType=\"application/ecmascript\" contentStyleType=\"text/css\" height=\"12px\" preserveAspectRatio=\"none\" style=\"width:12px;height:12px;\" version=\"1.1\" viewBox=\"0 0 12 12\" width=\"12px\" zoomAndPan=\"magnify\"><defs/><g><!--MD5=[c5f280e076d0d61ccf4b0f27871bda1d]\n",
       "@startuml\r\n",
       "skinparam monochrome true\r\n",
       "skinparam classbackgroundcolor white\r\n",
       "skinparam shadowing false\r\n",
       "skinparam wrapWidth 300\r\n",
       "hide circle\r\n",
       "\r\n",
       "@enduml\r\n",
       "\n",
       "PlantUML version 1.2020.13(Sat Jun 13 12:26:38 UTC 2020)\n",
       "(EPL source distribution)\n",
       "Java Runtime: OpenJDK Runtime Environment\n",
       "JVM: OpenJDK 64-Bit Server VM\n",
       "Default Encoding: UTF-8\n",
       "Language: en\n",
       "Country: null\n",
       "--></g></svg>"
      ]
     },
     "execution_count": 39,
     "metadata": {},
     "output_type": "execute_result"
    }
   ],
   "source": [
    "%viz --style=\"DEFAULT\" --view=\"State\" \"Q\""
   ]
  },
  {
   "cell_type": "code",
   "execution_count": 40,
   "id": "5fc02ca2",
   "metadata": {
    "execution": {
     "iopub.execute_input": "2021-04-20T07:21:52.713162Z",
     "iopub.status.busy": "2021-04-20T07:21:52.712676Z",
     "iopub.status.idle": "2021-04-20T07:21:52.740841Z",
     "shell.execute_reply": "2021-04-20T07:21:52.739425Z"
    }
   },
   "outputs": [
    {
     "data": {
      "image/svg+xml": [
       "<?xml version=\"1.0\" encoding=\"UTF-8\" standalone=\"no\"?><svg xmlns=\"http://www.w3.org/2000/svg\" xmlns:xlink=\"http://www.w3.org/1999/xlink\" contentScriptType=\"application/ecmascript\" contentStyleType=\"text/css\" height=\"192px\" preserveAspectRatio=\"none\" style=\"width:286px;height:192px;\" version=\"1.1\" viewBox=\"0 0 286 192\" width=\"286px\" zoomAndPan=\"magnify\"><defs/><g><!--MD5=[fbc87193dbaf4d95561dea2c320d4a47]\n",
       "cluster E1--><a href=\"psysml:8fe83ee3-fcec-497a-a9db-5b3b84baea71\" target=\"_top\" title=\"psysml:8fe83ee3-fcec-497a-a9db-5b3b84baea71\" xlink:actuate=\"onRequest\" xlink:href=\"psysml:8fe83ee3-fcec-497a-a9db-5b3b84baea71\" xlink:show=\"new\" xlink:title=\"psysml:8fe83ee3-fcec-497a-a9db-5b3b84baea71\" xlink:type=\"simple\"><polygon fill=\"#FFFFFF\" points=\"16,6,34,6,41,28.2969,264,28.2969,264,180,16,180,16,6\" style=\"stroke: #000000; stroke-width: 1.5;\"/><line style=\"stroke: #000000; stroke-width: 1.5;\" x1=\"16\" x2=\"41\" y1=\"28.2969\" y2=\"28.2969\"/><text fill=\"#000000\" font-family=\"sans-serif\" font-size=\"14\" font-weight=\"bold\" lengthAdjust=\"spacingAndGlyphs\" textLength=\"12\" x=\"20\" y=\"20.9951\">Q</text></a><!--MD5=[e4f7fae6ed58524ba242bb0b0d3be6b7]\n",
       "cluster E2--><a href=\"psysml:c953ea8a-4e0b-4404-8471-1de142ee019c\" target=\"_top\" title=\"psysml:c953ea8a-4e0b-4404-8471-1de142ee019c\" xlink:actuate=\"onRequest\" xlink:href=\"psysml:c953ea8a-4e0b-4404-8471-1de142ee019c\" xlink:show=\"new\" xlink:title=\"psysml:c953ea8a-4e0b-4404-8471-1de142ee019c\" xlink:type=\"simple\"><rect fill=\"#FFFFFF\" height=\"91\" id=\"E2\" rx=\"10\" ry=\"10\" style=\"stroke: #383838; stroke-width: 1.5;\" width=\"82\" x=\"158\" y=\"65\"/><rect fill=\"#F8F8F8\" height=\"23.9688\" rx=\"10\" ry=\"10\" style=\"stroke: #F8F8F8; stroke-width: 1.5;\" width=\"82\" x=\"158\" y=\"65\"/><rect fill=\"#F8F8F8\" height=\"10\" style=\"stroke: #F8F8F8; stroke-width: 1.5;\" width=\"82\" x=\"158\" y=\"78.9688\"/><rect fill=\"none\" height=\"91\" id=\"E2\" rx=\"10\" ry=\"10\" style=\"stroke: #383838; stroke-width: 1.5;\" width=\"82\" x=\"158\" y=\"65\"/><text fill=\"#000000\" font-family=\"sans-serif\" font-size=\"12\" lengthAdjust=\"spacingAndGlyphs\" textLength=\"4\" x=\"197\" y=\"81.1387\">f</text><line style=\"stroke: #383838; stroke-width: 1.0;\" x1=\"158\" x2=\"240\" y1=\"88.9688\" y2=\"88.9688\"/></a><!--MD5=[f6df4d0ebaf0b5dfb2ced0ae5af7c670]\n",
       "cluster E4--><a href=\"psysml:1d5dfbac-e0d0-4dae-a20f-d178674246aa\" target=\"_top\" title=\"psysml:1d5dfbac-e0d0-4dae-a20f-d178674246aa\" xlink:actuate=\"onRequest\" xlink:href=\"psysml:1d5dfbac-e0d0-4dae-a20f-d178674246aa\" xlink:show=\"new\" xlink:title=\"psysml:1d5dfbac-e0d0-4dae-a20f-d178674246aa\" xlink:type=\"simple\"><rect fill=\"#FFFFFF\" height=\"107\" id=\"E4\" style=\"stroke: #383838; stroke-width: 1.5;\" width=\"94\" x=\"40\" y=\"49\"/><rect fill=\"#F8F8F8\" height=\"37.9375\" style=\"stroke: #383838; stroke-width: 1.5;\" width=\"94\" x=\"40\" y=\"49\"/><text fill=\"#000000\" font-family=\"sans-serif\" font-size=\"12\" font-style=\"italic\" lengthAdjust=\"spacingAndGlyphs\" textLength=\"64\" x=\"55\" y=\"65.1387\">«part def»</text><text fill=\"#000000\" font-family=\"sans-serif\" font-size=\"12\" lengthAdjust=\"spacingAndGlyphs\" textLength=\"8\" x=\"83\" y=\"79.1074\">C</text></a><g id=\"E1.E2.E3\"><a href=\"psysml:c747f0dc-049c-42e5-8830-b905b214a6d2\" target=\"_top\" title=\"psysml:c747f0dc-049c-42e5-8830-b905b214a6d2\" xlink:actuate=\"onRequest\" xlink:href=\"psysml:c747f0dc-049c-42e5-8830-b905b214a6d2\" xlink:show=\"new\" xlink:title=\"psysml:c747f0dc-049c-42e5-8830-b905b214a6d2\" xlink:type=\"simple\"><rect fill=\"#FFFFFF\" height=\"40\" id=\"E3\" rx=\"10\" ry=\"10\" style=\"stroke: #383838; stroke-width: 1.5;\" width=\"50\" x=\"174\" y=\"100\"/><rect fill=\"#F8F8F8\" height=\"23.9688\" rx=\"10\" ry=\"10\" style=\"stroke: #F8F8F8; stroke-width: 1.5;\" width=\"50\" x=\"174\" y=\"100\"/><rect fill=\"#F8F8F8\" height=\"10\" style=\"stroke: #F8F8F8; stroke-width: 1.5;\" width=\"50\" x=\"174\" y=\"113.9688\"/><rect fill=\"none\" height=\"40\" id=\"E3\" rx=\"10\" ry=\"10\" style=\"stroke: #383838; stroke-width: 1.5;\" width=\"50\" x=\"174\" y=\"100\"/><text fill=\"#000000\" font-family=\"sans-serif\" font-size=\"12\" lengthAdjust=\"spacingAndGlyphs\" textLength=\"8\" x=\"195\" y=\"116.1387\">a</text></a></g><g id=\"E1.E4.E5\"><a href=\"psysml:31443893-624e-4834-b51f-adb4e581d804\" target=\"_top\" title=\"psysml:31443893-624e-4834-b51f-adb4e581d804\" xlink:actuate=\"onRequest\" xlink:href=\"psysml:31443893-624e-4834-b51f-adb4e581d804\" xlink:show=\"new\" xlink:title=\"psysml:31443893-624e-4834-b51f-adb4e581d804\" xlink:type=\"simple\"><rect fill=\"#FFFFFF\" height=\"40\" id=\"E5\" rx=\"10\" ry=\"10\" style=\"stroke: #383838; stroke-width: 1.5;\" width=\"61\" x=\"56.5\" y=\"100\"/><rect fill=\"#F8F8F8\" height=\"23.9688\" rx=\"10\" ry=\"10\" style=\"stroke: #F8F8F8; stroke-width: 1.5;\" width=\"61\" x=\"56.5\" y=\"100\"/><rect fill=\"#F8F8F8\" height=\"10\" style=\"stroke: #F8F8F8; stroke-width: 1.5;\" width=\"61\" x=\"56.5\" y=\"113.9688\"/><rect fill=\"none\" height=\"40\" id=\"E5\" rx=\"10\" ry=\"10\" style=\"stroke: #383838; stroke-width: 1.5;\" width=\"61\" x=\"56.5\" y=\"100\"/><text fill=\"#000000\" font-family=\"sans-serif\" font-size=\"12\" lengthAdjust=\"spacingAndGlyphs\" textLength=\"46\" x=\"62\" y=\"116.1387\">g=./f/a;</text></a></g><!--MD5=[786276658a161976f969bc7bd694d854]\n",
       "@startuml\r\n",
       "skinparam ranksep 10\r\n",
       "skinparam rectangle {\r\n",
       " backgroundColor<<block>> LightGreen\r\n",
       "}\r\n",
       "skinparam monochrome true\r\n",
       "skinparam classbackgroundcolor white\r\n",
       "skinparam shadowing false\r\n",
       "skinparam wrapWidth 300\r\n",
       "hide circle\r\n",
       "\r\n",
       "package \"Q\" as E1  [[psysml:8fe83ee3-fcec-497a-a9db-5b3b84baea71 ]]  {\r\n",
       "rec usage \"f\" as E2  [[psysml:c953ea8a-4e0b-4404-8471-1de142ee019c ]] {\r\n",
       "rec usage \"a\" as E3  [[psysml:c747f0dc-049c-42e5-8830-b905b214a6d2 ]] {\r\n",
       "}\r\n",
       "}\r\n",
       "rec def \"C\" as E4  <<(T,blue)part def>> [[psysml:1d5dfbac-e0d0-4dae-a20f-d178674246aa ]] {\r\n",
       "rec usage \"g=./f/a; \" as E5  [[psysml:31443893-624e-4834-b51f-adb4e581d804 ]] {\r\n",
       "}\r\n",
       "}\r\n",
       "}\r\n",
       "@enduml\r\n",
       "\n",
       "PlantUML version 1.2020.13(Sat Jun 13 12:26:38 UTC 2020)\n",
       "(EPL source distribution)\n",
       "Java Runtime: OpenJDK Runtime Environment\n",
       "JVM: OpenJDK 64-Bit Server VM\n",
       "Default Encoding: UTF-8\n",
       "Language: en\n",
       "Country: null\n",
       "--></g></svg>"
      ]
     },
     "execution_count": 40,
     "metadata": {},
     "output_type": "execute_result"
    }
   ],
   "source": [
    "%viz --style=\"DEFAULT\" --view=\"Interconnection\" \"Q\""
   ]
  },
  {
   "cell_type": "code",
   "execution_count": 41,
   "id": "6638416e",
   "metadata": {
    "execution": {
     "iopub.execute_input": "2021-04-20T07:21:52.791827Z",
     "iopub.status.busy": "2021-04-20T07:21:52.791033Z",
     "iopub.status.idle": "2021-04-20T07:21:52.798487Z",
     "shell.execute_reply": "2021-04-20T07:21:52.798876Z"
    }
   },
   "outputs": [
    {
     "data": {
      "image/svg+xml": [
       "<?xml version=\"1.0\" encoding=\"UTF-8\" standalone=\"no\"?><svg xmlns=\"http://www.w3.org/2000/svg\" xmlns:xlink=\"http://www.w3.org/1999/xlink\" contentScriptType=\"application/ecmascript\" contentStyleType=\"text/css\" height=\"12px\" preserveAspectRatio=\"none\" style=\"width:12px;height:12px;\" version=\"1.1\" viewBox=\"0 0 12 12\" width=\"12px\" zoomAndPan=\"magnify\"><defs/><g><!--MD5=[388f21188e31bfdd97050473b19af356]\n",
       "@startuml\r\n",
       "skinparam ranksep 8\r\n",
       "skinparam monochrome true\r\n",
       "skinparam classbackgroundcolor white\r\n",
       "skinparam shadowing false\r\n",
       "skinparam wrapWidth 300\r\n",
       "hide circle\r\n",
       "\r\n",
       "@enduml\r\n",
       "\n",
       "PlantUML version 1.2020.13(Sat Jun 13 12:26:38 UTC 2020)\n",
       "(EPL source distribution)\n",
       "Java Runtime: OpenJDK Runtime Environment\n",
       "JVM: OpenJDK 64-Bit Server VM\n",
       "Default Encoding: UTF-8\n",
       "Language: en\n",
       "Country: null\n",
       "--></g></svg>"
      ]
     },
     "execution_count": 41,
     "metadata": {},
     "output_type": "execute_result"
    }
   ],
   "source": [
    "%viz --style=\"DEFAULT\" --view=\"Action\" \"Q\""
   ]
  },
  {
   "cell_type": "code",
   "execution_count": 42,
   "id": "8fa35064",
   "metadata": {
    "execution": {
     "iopub.execute_input": "2021-04-20T07:21:52.851946Z",
     "iopub.status.busy": "2021-04-20T07:21:52.851219Z",
     "iopub.status.idle": "2021-04-20T07:21:52.879505Z",
     "shell.execute_reply": "2021-04-20T07:21:52.879180Z"
    }
   },
   "outputs": [
    {
     "data": {
      "image/svg+xml": [
       "<?xml version=\"1.0\" encoding=\"UTF-8\" standalone=\"no\"?><svg xmlns=\"http://www.w3.org/2000/svg\" xmlns:xlink=\"http://www.w3.org/1999/xlink\" contentScriptType=\"application/ecmascript\" contentStyleType=\"text/css\" height=\"221px\" preserveAspectRatio=\"none\" style=\"width:213px;height:221px;\" version=\"1.1\" viewBox=\"0 0 213 221\" width=\"213px\" zoomAndPan=\"magnify\"><defs/><g><!--MD5=[fbc87193dbaf4d95561dea2c320d4a47]\n",
       "cluster E1--><a href=\"psysml:8fe83ee3-fcec-497a-a9db-5b3b84baea71\" target=\"_top\" title=\"psysml:8fe83ee3-fcec-497a-a9db-5b3b84baea71\" xlink:actuate=\"onRequest\" xlink:href=\"psysml:8fe83ee3-fcec-497a-a9db-5b3b84baea71\" xlink:show=\"new\" xlink:title=\"psysml:8fe83ee3-fcec-497a-a9db-5b3b84baea71\" xlink:type=\"simple\"><polygon fill=\"#FFFFFF\" points=\"16,6,34,6,41,28.2969,191,28.2969,191,209,16,209,16,6\" style=\"stroke: #000000; stroke-width: 1.5;\"/><line style=\"stroke: #000000; stroke-width: 1.5;\" x1=\"16\" x2=\"41\" y1=\"28.2969\" y2=\"28.2969\"/><text fill=\"#000000\" font-family=\"sans-serif\" font-size=\"14\" font-weight=\"bold\" lengthAdjust=\"spacingAndGlyphs\" textLength=\"12\" x=\"20\" y=\"20.9951\">Q</text></a><!--MD5=[b4997ac47864f28c2f74865a473b2911]\n",
       "class E2--><a href=\"psysml:c953ea8a-4e0b-4404-8471-1de142ee019c\" target=\"_top\" title=\"psysml:c953ea8a-4e0b-4404-8471-1de142ee019c\" xlink:actuate=\"onRequest\" xlink:href=\"psysml:c953ea8a-4e0b-4404-8471-1de142ee019c\" xlink:show=\"new\" xlink:title=\"psysml:c953ea8a-4e0b-4404-8471-1de142ee019c\" xlink:type=\"simple\"><rect fill=\"#FFFFFF\" height=\"45.9375\" id=\"E2\" rx=\"10\" ry=\"10\" style=\"stroke: #383838; stroke-width: 1.5;\" width=\"42\" x=\"133\" y=\"41\"/><text fill=\"#000000\" font-family=\"sans-serif\" font-size=\"12\" font-style=\"italic\" lengthAdjust=\"spacingAndGlyphs\" textLength=\"40\" x=\"134\" y=\"57.1387\">«part»</text><text fill=\"#000000\" font-family=\"sans-serif\" font-size=\"12\" lengthAdjust=\"spacingAndGlyphs\" textLength=\"4\" x=\"152\" y=\"71.1074\">f</text><line style=\"stroke: #383838; stroke-width: 1.5;\" x1=\"134\" x2=\"174\" y1=\"78.9375\" y2=\"78.9375\"/></a><!--MD5=[09b614a08d8cba4a07c9adeb5e0fee81]\n",
       "class E3--><a href=\"psysml:c747f0dc-049c-42e5-8830-b905b214a6d2\" target=\"_top\" title=\"psysml:c747f0dc-049c-42e5-8830-b905b214a6d2\" xlink:actuate=\"onRequest\" xlink:href=\"psysml:c747f0dc-049c-42e5-8830-b905b214a6d2\" xlink:show=\"new\" xlink:title=\"psysml:c747f0dc-049c-42e5-8830-b905b214a6d2\" xlink:type=\"simple\"><rect fill=\"#FFFFFF\" height=\"45.9375\" id=\"E3\" rx=\"10\" ry=\"10\" style=\"stroke: #383838; stroke-width: 1.5;\" width=\"42\" x=\"133\" y=\"147\"/><text fill=\"#000000\" font-family=\"sans-serif\" font-size=\"12\" font-style=\"italic\" lengthAdjust=\"spacingAndGlyphs\" textLength=\"40\" x=\"134\" y=\"163.1387\">«part»</text><text fill=\"#000000\" font-family=\"sans-serif\" font-size=\"12\" lengthAdjust=\"spacingAndGlyphs\" textLength=\"8\" x=\"150\" y=\"177.1074\">a</text><line style=\"stroke: #383838; stroke-width: 1.5;\" x1=\"134\" x2=\"174\" y1=\"184.9375\" y2=\"184.9375\"/></a><!--MD5=[ebbe1d658d1005bcc118a6aa81145e00]\n",
       "class E4--><a href=\"psysml:1d5dfbac-e0d0-4dae-a20f-d178674246aa\" target=\"_top\" title=\"psysml:1d5dfbac-e0d0-4dae-a20f-d178674246aa\" xlink:actuate=\"onRequest\" xlink:href=\"psysml:1d5dfbac-e0d0-4dae-a20f-d178674246aa\" xlink:show=\"new\" xlink:title=\"psysml:1d5dfbac-e0d0-4dae-a20f-d178674246aa\" xlink:type=\"simple\"><rect fill=\"#FFFFFF\" height=\"45.9375\" id=\"E4\" style=\"stroke: #383838; stroke-width: 1.5;\" width=\"66\" x=\"32\" y=\"41\"/><text fill=\"#000000\" font-family=\"sans-serif\" font-size=\"12\" font-style=\"italic\" lengthAdjust=\"spacingAndGlyphs\" textLength=\"64\" x=\"33\" y=\"57.1387\">«part def»</text><text fill=\"#000000\" font-family=\"sans-serif\" font-size=\"12\" lengthAdjust=\"spacingAndGlyphs\" textLength=\"8\" x=\"61\" y=\"71.1074\">C</text><line style=\"stroke: #383838; stroke-width: 1.5;\" x1=\"33\" x2=\"97\" y1=\"78.9375\" y2=\"78.9375\"/></a><!--MD5=[270fce915f116d4de14055a7c1d9a0f3]\n",
       "class E5--><a href=\"psysml:31443893-624e-4834-b51f-adb4e581d804\" target=\"_top\" title=\"psysml:31443893-624e-4834-b51f-adb4e581d804\" xlink:actuate=\"onRequest\" xlink:href=\"psysml:31443893-624e-4834-b51f-adb4e581d804\" xlink:show=\"new\" xlink:title=\"psysml:31443893-624e-4834-b51f-adb4e581d804\" xlink:type=\"simple\"><rect fill=\"#FFFFFF\" height=\"45.9375\" id=\"E5\" rx=\"10\" ry=\"10\" style=\"stroke: #383838; stroke-width: 1.5;\" width=\"42\" x=\"44\" y=\"147\"/><text fill=\"#000000\" font-family=\"sans-serif\" font-size=\"12\" font-style=\"italic\" lengthAdjust=\"spacingAndGlyphs\" textLength=\"40\" x=\"45\" y=\"163.1387\">«part»</text><text fill=\"#000000\" font-family=\"sans-serif\" font-size=\"12\" lengthAdjust=\"spacingAndGlyphs\" textLength=\"8\" x=\"61\" y=\"177.1074\">g</text><line style=\"stroke: #383838; stroke-width: 1.5;\" x1=\"45\" x2=\"85\" y1=\"184.9375\" y2=\"184.9375\"/></a><!--MD5=[209b3feb70ccb6233bfe1053d122c12c]\n",
       "reverse link E2 to E3--><a href=\"psysml:144a9ea2-c14f-46d2-8ece-b06edd35cf79\" target=\"_top\" title=\"psysml:144a9ea2-c14f-46d2-8ece-b06edd35cf79\" xlink:actuate=\"onRequest\" xlink:href=\"psysml:144a9ea2-c14f-46d2-8ece-b06edd35cf79\" xlink:show=\"new\" xlink:title=\"psysml:144a9ea2-c14f-46d2-8ece-b06edd35cf79\" xlink:type=\"simple\"><path d=\"M154,100.44 C154,115.87 154,133.47 154,146.98 \" fill=\"none\" id=\"E2&lt;-E3\" style=\"stroke: #383838; stroke-width: 1.0;\"/><polygon fill=\"#383838\" points=\"154,87.06,150,93.06,154,99.06,158,93.06,154,87.06\" style=\"stroke: #383838; stroke-width: 1.0;\"/></a><!--MD5=[62aa6af11e70f752912c1cb0466f24f7]\n",
       "reverse link E4 to E5--><a href=\"psysml:ffd50afc-9abd-4dce-afc7-dff7922af1b1\" target=\"_top\" title=\"psysml:ffd50afc-9abd-4dce-afc7-dff7922af1b1\" xlink:actuate=\"onRequest\" xlink:href=\"psysml:ffd50afc-9abd-4dce-afc7-dff7922af1b1\" xlink:show=\"new\" xlink:title=\"psysml:ffd50afc-9abd-4dce-afc7-dff7922af1b1\" xlink:type=\"simple\"><path d=\"M65,100.44 C65,115.87 65,133.47 65,146.98 \" fill=\"none\" id=\"E4&lt;-E5\" style=\"stroke: #383838; stroke-width: 1.0;\"/><polygon fill=\"#383838\" points=\"65,87.06,61,93.06,65,99.06,69,93.06,65,87.06\" style=\"stroke: #383838; stroke-width: 1.0;\"/></a><!--MD5=[82d2e38097f453e8693665caebcee5fd]\n",
       "@startuml\r\n",
       "skinparam monochrome true\r\n",
       "skinparam classbackgroundcolor white\r\n",
       "skinparam shadowing false\r\n",
       "skinparam wrapWidth 300\r\n",
       "hide circle\r\n",
       "\r\n",
       "package \"Q\" as E1  [[psysml:8fe83ee3-fcec-497a-a9db-5b3b84baea71 ]]  {\r\n",
       "comp usage \"f\" as E2  <<(T,blue)part>> [[psysml:c953ea8a-4e0b-4404-8471-1de142ee019c ]] {\r\n",
       "}\r\n",
       "comp usage \"a\" as E3  <<(T,blue)part>> [[psysml:c747f0dc-049c-42e5-8830-b905b214a6d2 ]] {\r\n",
       "}\r\n",
       "comp def \"C\" as E4  <<(T,blue)part def>> [[psysml:1d5dfbac-e0d0-4dae-a20f-d178674246aa ]] {\r\n",
       "}\r\n",
       "comp usage \"g\" as E5  <<(T,blue)part>> [[psysml:31443893-624e-4834-b51f-adb4e581d804 ]] {\r\n",
       "}\r\n",
       "E2 *- - E3 [[psysml:144a9ea2-c14f-46d2-8ece-b06edd35cf79 ]] \r\n",
       "E4 *- - E5 [[psysml:ffd50afc-9abd-4dce-afc7-dff7922af1b1 ]] \r\n",
       "}\r\n",
       "@enduml\r\n",
       "\n",
       "PlantUML version 1.2020.13(Sat Jun 13 12:26:38 UTC 2020)\n",
       "(EPL source distribution)\n",
       "Java Runtime: OpenJDK Runtime Environment\n",
       "JVM: OpenJDK 64-Bit Server VM\n",
       "Default Encoding: UTF-8\n",
       "Language: en\n",
       "Country: null\n",
       "--></g></svg>"
      ]
     },
     "execution_count": 42,
     "metadata": {},
     "output_type": "execute_result"
    }
   ],
   "source": [
    "%viz --style=\"DEFAULT\" --view=\"Sequence\" \"Q\""
   ]
  },
  {
   "cell_type": "code",
   "execution_count": 43,
   "id": "7e223acf",
   "metadata": {
    "execution": {
     "iopub.execute_input": "2021-04-20T07:21:52.931973Z",
     "iopub.status.busy": "2021-04-20T07:21:52.930283Z",
     "iopub.status.idle": "2021-04-20T07:21:52.962461Z",
     "shell.execute_reply": "2021-04-20T07:21:52.960105Z"
    }
   },
   "outputs": [
    {
     "data": {
      "image/svg+xml": [
       "<?xml version=\"1.0\" encoding=\"UTF-8\" standalone=\"no\"?><svg xmlns=\"http://www.w3.org/2000/svg\" xmlns:xlink=\"http://www.w3.org/1999/xlink\" contentScriptType=\"application/ecmascript\" contentStyleType=\"text/css\" height=\"221px\" preserveAspectRatio=\"none\" style=\"width:213px;height:221px;\" version=\"1.1\" viewBox=\"0 0 213 221\" width=\"213px\" zoomAndPan=\"magnify\"><defs/><g><!--MD5=[fbc87193dbaf4d95561dea2c320d4a47]\n",
       "cluster E1--><a href=\"psysml:8fe83ee3-fcec-497a-a9db-5b3b84baea71\" target=\"_top\" title=\"psysml:8fe83ee3-fcec-497a-a9db-5b3b84baea71\" xlink:actuate=\"onRequest\" xlink:href=\"psysml:8fe83ee3-fcec-497a-a9db-5b3b84baea71\" xlink:show=\"new\" xlink:title=\"psysml:8fe83ee3-fcec-497a-a9db-5b3b84baea71\" xlink:type=\"simple\"><polygon fill=\"#FFFFFF\" points=\"16,6,34,6,41,28.2969,191,28.2969,191,209,16,209,16,6\" style=\"stroke: #000000; stroke-width: 1.5;\"/><line style=\"stroke: #000000; stroke-width: 1.5;\" x1=\"16\" x2=\"41\" y1=\"28.2969\" y2=\"28.2969\"/><text fill=\"#000000\" font-family=\"sans-serif\" font-size=\"14\" font-weight=\"bold\" lengthAdjust=\"spacingAndGlyphs\" textLength=\"12\" x=\"20\" y=\"20.9951\">Q</text></a><!--MD5=[b4997ac47864f28c2f74865a473b2911]\n",
       "class E2--><a href=\"psysml:c953ea8a-4e0b-4404-8471-1de142ee019c\" target=\"_top\" title=\"psysml:c953ea8a-4e0b-4404-8471-1de142ee019c\" xlink:actuate=\"onRequest\" xlink:href=\"psysml:c953ea8a-4e0b-4404-8471-1de142ee019c\" xlink:show=\"new\" xlink:title=\"psysml:c953ea8a-4e0b-4404-8471-1de142ee019c\" xlink:type=\"simple\"><rect fill=\"#FFFFFF\" height=\"45.9375\" id=\"E2\" rx=\"10\" ry=\"10\" style=\"stroke: #383838; stroke-width: 1.5;\" width=\"42\" x=\"133\" y=\"41\"/><text fill=\"#000000\" font-family=\"sans-serif\" font-size=\"12\" font-style=\"italic\" lengthAdjust=\"spacingAndGlyphs\" textLength=\"40\" x=\"134\" y=\"57.1387\">«part»</text><text fill=\"#000000\" font-family=\"sans-serif\" font-size=\"12\" lengthAdjust=\"spacingAndGlyphs\" textLength=\"4\" x=\"152\" y=\"71.1074\">f</text><line style=\"stroke: #383838; stroke-width: 1.5;\" x1=\"134\" x2=\"174\" y1=\"78.9375\" y2=\"78.9375\"/></a><!--MD5=[09b614a08d8cba4a07c9adeb5e0fee81]\n",
       "class E3--><a href=\"psysml:c747f0dc-049c-42e5-8830-b905b214a6d2\" target=\"_top\" title=\"psysml:c747f0dc-049c-42e5-8830-b905b214a6d2\" xlink:actuate=\"onRequest\" xlink:href=\"psysml:c747f0dc-049c-42e5-8830-b905b214a6d2\" xlink:show=\"new\" xlink:title=\"psysml:c747f0dc-049c-42e5-8830-b905b214a6d2\" xlink:type=\"simple\"><rect fill=\"#FFFFFF\" height=\"45.9375\" id=\"E3\" rx=\"10\" ry=\"10\" style=\"stroke: #383838; stroke-width: 1.5;\" width=\"42\" x=\"133\" y=\"147\"/><text fill=\"#000000\" font-family=\"sans-serif\" font-size=\"12\" font-style=\"italic\" lengthAdjust=\"spacingAndGlyphs\" textLength=\"40\" x=\"134\" y=\"163.1387\">«part»</text><text fill=\"#000000\" font-family=\"sans-serif\" font-size=\"12\" lengthAdjust=\"spacingAndGlyphs\" textLength=\"8\" x=\"150\" y=\"177.1074\">a</text><line style=\"stroke: #383838; stroke-width: 1.5;\" x1=\"134\" x2=\"174\" y1=\"184.9375\" y2=\"184.9375\"/></a><!--MD5=[ebbe1d658d1005bcc118a6aa81145e00]\n",
       "class E4--><a href=\"psysml:1d5dfbac-e0d0-4dae-a20f-d178674246aa\" target=\"_top\" title=\"psysml:1d5dfbac-e0d0-4dae-a20f-d178674246aa\" xlink:actuate=\"onRequest\" xlink:href=\"psysml:1d5dfbac-e0d0-4dae-a20f-d178674246aa\" xlink:show=\"new\" xlink:title=\"psysml:1d5dfbac-e0d0-4dae-a20f-d178674246aa\" xlink:type=\"simple\"><rect fill=\"#FFFFFF\" height=\"45.9375\" id=\"E4\" style=\"stroke: #383838; stroke-width: 1.5;\" width=\"66\" x=\"32\" y=\"41\"/><text fill=\"#000000\" font-family=\"sans-serif\" font-size=\"12\" font-style=\"italic\" lengthAdjust=\"spacingAndGlyphs\" textLength=\"64\" x=\"33\" y=\"57.1387\">«part def»</text><text fill=\"#000000\" font-family=\"sans-serif\" font-size=\"12\" lengthAdjust=\"spacingAndGlyphs\" textLength=\"8\" x=\"61\" y=\"71.1074\">C</text><line style=\"stroke: #383838; stroke-width: 1.5;\" x1=\"33\" x2=\"97\" y1=\"78.9375\" y2=\"78.9375\"/></a><!--MD5=[270fce915f116d4de14055a7c1d9a0f3]\n",
       "class E5--><a href=\"psysml:31443893-624e-4834-b51f-adb4e581d804\" target=\"_top\" title=\"psysml:31443893-624e-4834-b51f-adb4e581d804\" xlink:actuate=\"onRequest\" xlink:href=\"psysml:31443893-624e-4834-b51f-adb4e581d804\" xlink:show=\"new\" xlink:title=\"psysml:31443893-624e-4834-b51f-adb4e581d804\" xlink:type=\"simple\"><rect fill=\"#FFFFFF\" height=\"45.9375\" id=\"E5\" rx=\"10\" ry=\"10\" style=\"stroke: #383838; stroke-width: 1.5;\" width=\"42\" x=\"44\" y=\"147\"/><text fill=\"#000000\" font-family=\"sans-serif\" font-size=\"12\" font-style=\"italic\" lengthAdjust=\"spacingAndGlyphs\" textLength=\"40\" x=\"45\" y=\"163.1387\">«part»</text><text fill=\"#000000\" font-family=\"sans-serif\" font-size=\"12\" lengthAdjust=\"spacingAndGlyphs\" textLength=\"8\" x=\"61\" y=\"177.1074\">g</text><line style=\"stroke: #383838; stroke-width: 1.5;\" x1=\"45\" x2=\"85\" y1=\"184.9375\" y2=\"184.9375\"/></a><!--MD5=[209b3feb70ccb6233bfe1053d122c12c]\n",
       "reverse link E2 to E3--><a href=\"psysml:144a9ea2-c14f-46d2-8ece-b06edd35cf79\" target=\"_top\" title=\"psysml:144a9ea2-c14f-46d2-8ece-b06edd35cf79\" xlink:actuate=\"onRequest\" xlink:href=\"psysml:144a9ea2-c14f-46d2-8ece-b06edd35cf79\" xlink:show=\"new\" xlink:title=\"psysml:144a9ea2-c14f-46d2-8ece-b06edd35cf79\" xlink:type=\"simple\"><path d=\"M154,100.44 C154,115.87 154,133.47 154,146.98 \" fill=\"none\" id=\"E2&lt;-E3\" style=\"stroke: #383838; stroke-width: 1.0;\"/><polygon fill=\"#383838\" points=\"154,87.06,150,93.06,154,99.06,158,93.06,154,87.06\" style=\"stroke: #383838; stroke-width: 1.0;\"/></a><!--MD5=[62aa6af11e70f752912c1cb0466f24f7]\n",
       "reverse link E4 to E5--><a href=\"psysml:ffd50afc-9abd-4dce-afc7-dff7922af1b1\" target=\"_top\" title=\"psysml:ffd50afc-9abd-4dce-afc7-dff7922af1b1\" xlink:actuate=\"onRequest\" xlink:href=\"psysml:ffd50afc-9abd-4dce-afc7-dff7922af1b1\" xlink:show=\"new\" xlink:title=\"psysml:ffd50afc-9abd-4dce-afc7-dff7922af1b1\" xlink:type=\"simple\"><path d=\"M65,100.44 C65,115.87 65,133.47 65,146.98 \" fill=\"none\" id=\"E4&lt;-E5\" style=\"stroke: #383838; stroke-width: 1.0;\"/><polygon fill=\"#383838\" points=\"65,87.06,61,93.06,65,99.06,69,93.06,65,87.06\" style=\"stroke: #383838; stroke-width: 1.0;\"/></a><!--MD5=[82d2e38097f453e8693665caebcee5fd]\n",
       "@startuml\r\n",
       "skinparam monochrome true\r\n",
       "skinparam classbackgroundcolor white\r\n",
       "skinparam shadowing false\r\n",
       "skinparam wrapWidth 300\r\n",
       "hide circle\r\n",
       "\r\n",
       "package \"Q\" as E1  [[psysml:8fe83ee3-fcec-497a-a9db-5b3b84baea71 ]]  {\r\n",
       "comp usage \"f\" as E2  <<(T,blue)part>> [[psysml:c953ea8a-4e0b-4404-8471-1de142ee019c ]] {\r\n",
       "}\r\n",
       "comp usage \"a\" as E3  <<(T,blue)part>> [[psysml:c747f0dc-049c-42e5-8830-b905b214a6d2 ]] {\r\n",
       "}\r\n",
       "comp def \"C\" as E4  <<(T,blue)part def>> [[psysml:1d5dfbac-e0d0-4dae-a20f-d178674246aa ]] {\r\n",
       "}\r\n",
       "comp usage \"g\" as E5  <<(T,blue)part>> [[psysml:31443893-624e-4834-b51f-adb4e581d804 ]] {\r\n",
       "}\r\n",
       "E2 *- - E3 [[psysml:144a9ea2-c14f-46d2-8ece-b06edd35cf79 ]] \r\n",
       "E4 *- - E5 [[psysml:ffd50afc-9abd-4dce-afc7-dff7922af1b1 ]] \r\n",
       "}\r\n",
       "@enduml\r\n",
       "\n",
       "PlantUML version 1.2020.13(Sat Jun 13 12:26:38 UTC 2020)\n",
       "(EPL source distribution)\n",
       "Java Runtime: OpenJDK Runtime Environment\n",
       "JVM: OpenJDK 64-Bit Server VM\n",
       "Default Encoding: UTF-8\n",
       "Language: en\n",
       "Country: null\n",
       "--></g></svg>"
      ]
     },
     "execution_count": 43,
     "metadata": {},
     "output_type": "execute_result"
    }
   ],
   "source": [
    "%viz --style=\"DEFAULT\" --view=\"MIXED\" \"Q\""
   ]
  },
  {
   "cell_type": "code",
   "execution_count": 44,
   "id": "0acb4be7",
   "metadata": {
    "execution": {
     "iopub.execute_input": "2021-04-20T07:21:53.015608Z",
     "iopub.status.busy": "2021-04-20T07:21:53.015074Z",
     "iopub.status.idle": "2021-04-20T07:21:53.047316Z",
     "shell.execute_reply": "2021-04-20T07:21:53.046420Z"
    }
   },
   "outputs": [
    {
     "data": {
      "image/svg+xml": [
       "<?xml version=\"1.0\" encoding=\"UTF-8\" standalone=\"no\"?><svg xmlns=\"http://www.w3.org/2000/svg\" xmlns:xlink=\"http://www.w3.org/1999/xlink\" contentScriptType=\"application/ecmascript\" contentStyleType=\"text/css\" height=\"221px\" preserveAspectRatio=\"none\" style=\"width:213px;height:221px;\" version=\"1.1\" viewBox=\"0 0 213 221\" width=\"213px\" zoomAndPan=\"magnify\"><defs/><g><!--MD5=[fbc87193dbaf4d95561dea2c320d4a47]\n",
       "cluster E1--><a href=\"psysml:8fe83ee3-fcec-497a-a9db-5b3b84baea71\" target=\"_top\" title=\"psysml:8fe83ee3-fcec-497a-a9db-5b3b84baea71\" xlink:actuate=\"onRequest\" xlink:href=\"psysml:8fe83ee3-fcec-497a-a9db-5b3b84baea71\" xlink:show=\"new\" xlink:title=\"psysml:8fe83ee3-fcec-497a-a9db-5b3b84baea71\" xlink:type=\"simple\"><polygon fill=\"#FFFFFF\" points=\"16,6,34,6,41,28.2969,191,28.2969,191,209,16,209,16,6\" style=\"stroke: #000000; stroke-width: 1.5;\"/><line style=\"stroke: #000000; stroke-width: 1.5;\" x1=\"16\" x2=\"41\" y1=\"28.2969\" y2=\"28.2969\"/><text fill=\"#000000\" font-family=\"sans-serif\" font-size=\"14\" font-weight=\"bold\" lengthAdjust=\"spacingAndGlyphs\" textLength=\"12\" x=\"20\" y=\"20.9951\">Q</text></a><!--MD5=[b4997ac47864f28c2f74865a473b2911]\n",
       "class E2--><a href=\"psysml:c953ea8a-4e0b-4404-8471-1de142ee019c\" target=\"_top\" title=\"psysml:c953ea8a-4e0b-4404-8471-1de142ee019c\" xlink:actuate=\"onRequest\" xlink:href=\"psysml:c953ea8a-4e0b-4404-8471-1de142ee019c\" xlink:show=\"new\" xlink:title=\"psysml:c953ea8a-4e0b-4404-8471-1de142ee019c\" xlink:type=\"simple\"><rect fill=\"#FFFFFF\" height=\"45.9375\" id=\"E2\" rx=\"10\" ry=\"10\" style=\"stroke: #383838; stroke-width: 1.5;\" width=\"42\" x=\"133\" y=\"41\"/><text fill=\"#000000\" font-family=\"sans-serif\" font-size=\"12\" font-style=\"italic\" lengthAdjust=\"spacingAndGlyphs\" textLength=\"40\" x=\"134\" y=\"57.1387\">«part»</text><text fill=\"#000000\" font-family=\"sans-serif\" font-size=\"12\" lengthAdjust=\"spacingAndGlyphs\" textLength=\"4\" x=\"152\" y=\"71.1074\">f</text><line style=\"stroke: #383838; stroke-width: 1.5;\" x1=\"134\" x2=\"174\" y1=\"78.9375\" y2=\"78.9375\"/></a><!--MD5=[09b614a08d8cba4a07c9adeb5e0fee81]\n",
       "class E3--><a href=\"psysml:c747f0dc-049c-42e5-8830-b905b214a6d2\" target=\"_top\" title=\"psysml:c747f0dc-049c-42e5-8830-b905b214a6d2\" xlink:actuate=\"onRequest\" xlink:href=\"psysml:c747f0dc-049c-42e5-8830-b905b214a6d2\" xlink:show=\"new\" xlink:title=\"psysml:c747f0dc-049c-42e5-8830-b905b214a6d2\" xlink:type=\"simple\"><rect fill=\"#FFFFFF\" height=\"45.9375\" id=\"E3\" rx=\"10\" ry=\"10\" style=\"stroke: #383838; stroke-width: 1.5;\" width=\"42\" x=\"133\" y=\"147\"/><text fill=\"#000000\" font-family=\"sans-serif\" font-size=\"12\" font-style=\"italic\" lengthAdjust=\"spacingAndGlyphs\" textLength=\"40\" x=\"134\" y=\"163.1387\">«part»</text><text fill=\"#000000\" font-family=\"sans-serif\" font-size=\"12\" lengthAdjust=\"spacingAndGlyphs\" textLength=\"8\" x=\"150\" y=\"177.1074\">a</text><line style=\"stroke: #383838; stroke-width: 1.5;\" x1=\"134\" x2=\"174\" y1=\"184.9375\" y2=\"184.9375\"/></a><!--MD5=[ebbe1d658d1005bcc118a6aa81145e00]\n",
       "class E4--><a href=\"psysml:1d5dfbac-e0d0-4dae-a20f-d178674246aa\" target=\"_top\" title=\"psysml:1d5dfbac-e0d0-4dae-a20f-d178674246aa\" xlink:actuate=\"onRequest\" xlink:href=\"psysml:1d5dfbac-e0d0-4dae-a20f-d178674246aa\" xlink:show=\"new\" xlink:title=\"psysml:1d5dfbac-e0d0-4dae-a20f-d178674246aa\" xlink:type=\"simple\"><rect fill=\"#FFFFFF\" height=\"45.9375\" id=\"E4\" style=\"stroke: #383838; stroke-width: 1.5;\" width=\"66\" x=\"32\" y=\"41\"/><text fill=\"#000000\" font-family=\"sans-serif\" font-size=\"12\" font-style=\"italic\" lengthAdjust=\"spacingAndGlyphs\" textLength=\"64\" x=\"33\" y=\"57.1387\">«part def»</text><text fill=\"#000000\" font-family=\"sans-serif\" font-size=\"12\" lengthAdjust=\"spacingAndGlyphs\" textLength=\"8\" x=\"61\" y=\"71.1074\">C</text><line style=\"stroke: #383838; stroke-width: 1.5;\" x1=\"33\" x2=\"97\" y1=\"78.9375\" y2=\"78.9375\"/></a><!--MD5=[270fce915f116d4de14055a7c1d9a0f3]\n",
       "class E5--><a href=\"psysml:31443893-624e-4834-b51f-adb4e581d804\" target=\"_top\" title=\"psysml:31443893-624e-4834-b51f-adb4e581d804\" xlink:actuate=\"onRequest\" xlink:href=\"psysml:31443893-624e-4834-b51f-adb4e581d804\" xlink:show=\"new\" xlink:title=\"psysml:31443893-624e-4834-b51f-adb4e581d804\" xlink:type=\"simple\"><rect fill=\"#FFFFFF\" height=\"45.9375\" id=\"E5\" rx=\"10\" ry=\"10\" style=\"stroke: #383838; stroke-width: 1.5;\" width=\"42\" x=\"44\" y=\"147\"/><text fill=\"#000000\" font-family=\"sans-serif\" font-size=\"12\" font-style=\"italic\" lengthAdjust=\"spacingAndGlyphs\" textLength=\"40\" x=\"45\" y=\"163.1387\">«part»</text><text fill=\"#000000\" font-family=\"sans-serif\" font-size=\"12\" lengthAdjust=\"spacingAndGlyphs\" textLength=\"8\" x=\"61\" y=\"177.1074\">g</text><line style=\"stroke: #383838; stroke-width: 1.5;\" x1=\"45\" x2=\"85\" y1=\"184.9375\" y2=\"184.9375\"/></a><!--MD5=[209b3feb70ccb6233bfe1053d122c12c]\n",
       "reverse link E2 to E3--><a href=\"psysml:144a9ea2-c14f-46d2-8ece-b06edd35cf79\" target=\"_top\" title=\"psysml:144a9ea2-c14f-46d2-8ece-b06edd35cf79\" xlink:actuate=\"onRequest\" xlink:href=\"psysml:144a9ea2-c14f-46d2-8ece-b06edd35cf79\" xlink:show=\"new\" xlink:title=\"psysml:144a9ea2-c14f-46d2-8ece-b06edd35cf79\" xlink:type=\"simple\"><path d=\"M154,100.44 C154,115.87 154,133.47 154,146.98 \" fill=\"none\" id=\"E2&lt;-E3\" style=\"stroke: #383838; stroke-width: 1.0;\"/><polygon fill=\"#383838\" points=\"154,87.06,150,93.06,154,99.06,158,93.06,154,87.06\" style=\"stroke: #383838; stroke-width: 1.0;\"/></a><!--MD5=[62aa6af11e70f752912c1cb0466f24f7]\n",
       "reverse link E4 to E5--><a href=\"psysml:ffd50afc-9abd-4dce-afc7-dff7922af1b1\" target=\"_top\" title=\"psysml:ffd50afc-9abd-4dce-afc7-dff7922af1b1\" xlink:actuate=\"onRequest\" xlink:href=\"psysml:ffd50afc-9abd-4dce-afc7-dff7922af1b1\" xlink:show=\"new\" xlink:title=\"psysml:ffd50afc-9abd-4dce-afc7-dff7922af1b1\" xlink:type=\"simple\"><path d=\"M65,100.44 C65,115.87 65,133.47 65,146.98 \" fill=\"none\" id=\"E4&lt;-E5\" style=\"stroke: #383838; stroke-width: 1.0;\"/><polygon fill=\"#383838\" points=\"65,87.06,61,93.06,65,99.06,69,93.06,65,87.06\" style=\"stroke: #383838; stroke-width: 1.0;\"/></a><!--MD5=[4d04597e094823993443e26e810f578a]\n",
       "@startuml\r\n",
       "top to bottom direction\r\n",
       "skinparam monochrome true\r\n",
       "skinparam classbackgroundcolor white\r\n",
       "skinparam shadowing false\r\n",
       "skinparam wrapWidth 300\r\n",
       "hide circle\r\n",
       "\r\n",
       "package \"Q\" as E1  [[psysml:8fe83ee3-fcec-497a-a9db-5b3b84baea71 ]]  {\r\n",
       "comp usage \"f\" as E2  <<(T,blue)part>> [[psysml:c953ea8a-4e0b-4404-8471-1de142ee019c ]] {\r\n",
       "}\r\n",
       "comp usage \"a\" as E3  <<(T,blue)part>> [[psysml:c747f0dc-049c-42e5-8830-b905b214a6d2 ]] {\r\n",
       "}\r\n",
       "comp def \"C\" as E4  <<(T,blue)part def>> [[psysml:1d5dfbac-e0d0-4dae-a20f-d178674246aa ]] {\r\n",
       "}\r\n",
       "comp usage \"g\" as E5  <<(T,blue)part>> [[psysml:31443893-624e-4834-b51f-adb4e581d804 ]] {\r\n",
       "}\r\n",
       "E2 *- - E3 [[psysml:144a9ea2-c14f-46d2-8ece-b06edd35cf79 ]] \r\n",
       "E4 *- - E5 [[psysml:ffd50afc-9abd-4dce-afc7-dff7922af1b1 ]] \r\n",
       "}\r\n",
       "@enduml\r\n",
       "\n",
       "PlantUML version 1.2020.13(Sat Jun 13 12:26:38 UTC 2020)\n",
       "(EPL source distribution)\n",
       "Java Runtime: OpenJDK Runtime Environment\n",
       "JVM: OpenJDK 64-Bit Server VM\n",
       "Default Encoding: UTF-8\n",
       "Language: en\n",
       "Country: null\n",
       "--></g></svg>"
      ]
     },
     "execution_count": 44,
     "metadata": {},
     "output_type": "execute_result"
    }
   ],
   "source": [
    "%viz --style=\"TB\" --view=\"Default\" \"Q\""
   ]
  },
  {
   "cell_type": "code",
   "execution_count": 45,
   "id": "38e748e9",
   "metadata": {
    "execution": {
     "iopub.execute_input": "2021-04-20T07:21:53.098839Z",
     "iopub.status.busy": "2021-04-20T07:21:53.098418Z",
     "iopub.status.idle": "2021-04-20T07:21:53.129435Z",
     "shell.execute_reply": "2021-04-20T07:21:53.127226Z"
    }
   },
   "outputs": [
    {
     "data": {
      "image/svg+xml": [
       "<?xml version=\"1.0\" encoding=\"UTF-8\" standalone=\"no\"?><svg xmlns=\"http://www.w3.org/2000/svg\" xmlns:xlink=\"http://www.w3.org/1999/xlink\" contentScriptType=\"application/ecmascript\" contentStyleType=\"text/css\" height=\"221px\" preserveAspectRatio=\"none\" style=\"width:213px;height:221px;\" version=\"1.1\" viewBox=\"0 0 213 221\" width=\"213px\" zoomAndPan=\"magnify\"><defs/><g><!--MD5=[fbc87193dbaf4d95561dea2c320d4a47]\n",
       "cluster E1--><a href=\"psysml:8fe83ee3-fcec-497a-a9db-5b3b84baea71\" target=\"_top\" title=\"psysml:8fe83ee3-fcec-497a-a9db-5b3b84baea71\" xlink:actuate=\"onRequest\" xlink:href=\"psysml:8fe83ee3-fcec-497a-a9db-5b3b84baea71\" xlink:show=\"new\" xlink:title=\"psysml:8fe83ee3-fcec-497a-a9db-5b3b84baea71\" xlink:type=\"simple\"><polygon fill=\"#FFFFFF\" points=\"16,6,34,6,41,28.2969,191,28.2969,191,209,16,209,16,6\" style=\"stroke: #000000; stroke-width: 1.5;\"/><line style=\"stroke: #000000; stroke-width: 1.5;\" x1=\"16\" x2=\"41\" y1=\"28.2969\" y2=\"28.2969\"/><text fill=\"#000000\" font-family=\"sans-serif\" font-size=\"14\" font-weight=\"bold\" lengthAdjust=\"spacingAndGlyphs\" textLength=\"12\" x=\"20\" y=\"20.9951\">Q</text></a><!--MD5=[b4997ac47864f28c2f74865a473b2911]\n",
       "class E2--><a href=\"psysml:c953ea8a-4e0b-4404-8471-1de142ee019c\" target=\"_top\" title=\"psysml:c953ea8a-4e0b-4404-8471-1de142ee019c\" xlink:actuate=\"onRequest\" xlink:href=\"psysml:c953ea8a-4e0b-4404-8471-1de142ee019c\" xlink:show=\"new\" xlink:title=\"psysml:c953ea8a-4e0b-4404-8471-1de142ee019c\" xlink:type=\"simple\"><rect fill=\"#FFFFFF\" height=\"45.9375\" id=\"E2\" rx=\"10\" ry=\"10\" style=\"stroke: #383838; stroke-width: 1.5;\" width=\"42\" x=\"133\" y=\"41\"/><text fill=\"#000000\" font-family=\"sans-serif\" font-size=\"12\" font-style=\"italic\" lengthAdjust=\"spacingAndGlyphs\" textLength=\"40\" x=\"134\" y=\"57.1387\">«part»</text><text fill=\"#000000\" font-family=\"sans-serif\" font-size=\"12\" lengthAdjust=\"spacingAndGlyphs\" textLength=\"4\" x=\"152\" y=\"71.1074\">f</text><line style=\"stroke: #383838; stroke-width: 1.5;\" x1=\"134\" x2=\"174\" y1=\"78.9375\" y2=\"78.9375\"/></a><!--MD5=[09b614a08d8cba4a07c9adeb5e0fee81]\n",
       "class E3--><a href=\"psysml:c747f0dc-049c-42e5-8830-b905b214a6d2\" target=\"_top\" title=\"psysml:c747f0dc-049c-42e5-8830-b905b214a6d2\" xlink:actuate=\"onRequest\" xlink:href=\"psysml:c747f0dc-049c-42e5-8830-b905b214a6d2\" xlink:show=\"new\" xlink:title=\"psysml:c747f0dc-049c-42e5-8830-b905b214a6d2\" xlink:type=\"simple\"><rect fill=\"#FFFFFF\" height=\"45.9375\" id=\"E3\" rx=\"10\" ry=\"10\" style=\"stroke: #383838; stroke-width: 1.5;\" width=\"42\" x=\"133\" y=\"147\"/><text fill=\"#000000\" font-family=\"sans-serif\" font-size=\"12\" font-style=\"italic\" lengthAdjust=\"spacingAndGlyphs\" textLength=\"40\" x=\"134\" y=\"163.1387\">«part»</text><text fill=\"#000000\" font-family=\"sans-serif\" font-size=\"12\" lengthAdjust=\"spacingAndGlyphs\" textLength=\"8\" x=\"150\" y=\"177.1074\">a</text><line style=\"stroke: #383838; stroke-width: 1.5;\" x1=\"134\" x2=\"174\" y1=\"184.9375\" y2=\"184.9375\"/></a><!--MD5=[ebbe1d658d1005bcc118a6aa81145e00]\n",
       "class E4--><a href=\"psysml:1d5dfbac-e0d0-4dae-a20f-d178674246aa\" target=\"_top\" title=\"psysml:1d5dfbac-e0d0-4dae-a20f-d178674246aa\" xlink:actuate=\"onRequest\" xlink:href=\"psysml:1d5dfbac-e0d0-4dae-a20f-d178674246aa\" xlink:show=\"new\" xlink:title=\"psysml:1d5dfbac-e0d0-4dae-a20f-d178674246aa\" xlink:type=\"simple\"><rect fill=\"#FFFFFF\" height=\"45.9375\" id=\"E4\" style=\"stroke: #383838; stroke-width: 1.5;\" width=\"66\" x=\"32\" y=\"41\"/><text fill=\"#000000\" font-family=\"sans-serif\" font-size=\"12\" font-style=\"italic\" lengthAdjust=\"spacingAndGlyphs\" textLength=\"64\" x=\"33\" y=\"57.1387\">«part def»</text><text fill=\"#000000\" font-family=\"sans-serif\" font-size=\"12\" lengthAdjust=\"spacingAndGlyphs\" textLength=\"8\" x=\"61\" y=\"71.1074\">C</text><line style=\"stroke: #383838; stroke-width: 1.5;\" x1=\"33\" x2=\"97\" y1=\"78.9375\" y2=\"78.9375\"/></a><!--MD5=[270fce915f116d4de14055a7c1d9a0f3]\n",
       "class E5--><a href=\"psysml:31443893-624e-4834-b51f-adb4e581d804\" target=\"_top\" title=\"psysml:31443893-624e-4834-b51f-adb4e581d804\" xlink:actuate=\"onRequest\" xlink:href=\"psysml:31443893-624e-4834-b51f-adb4e581d804\" xlink:show=\"new\" xlink:title=\"psysml:31443893-624e-4834-b51f-adb4e581d804\" xlink:type=\"simple\"><rect fill=\"#FFFFFF\" height=\"45.9375\" id=\"E5\" rx=\"10\" ry=\"10\" style=\"stroke: #383838; stroke-width: 1.5;\" width=\"42\" x=\"44\" y=\"147\"/><text fill=\"#000000\" font-family=\"sans-serif\" font-size=\"12\" font-style=\"italic\" lengthAdjust=\"spacingAndGlyphs\" textLength=\"40\" x=\"45\" y=\"163.1387\">«part»</text><text fill=\"#000000\" font-family=\"sans-serif\" font-size=\"12\" lengthAdjust=\"spacingAndGlyphs\" textLength=\"8\" x=\"61\" y=\"177.1074\">g</text><line style=\"stroke: #383838; stroke-width: 1.5;\" x1=\"45\" x2=\"85\" y1=\"184.9375\" y2=\"184.9375\"/></a><!--MD5=[209b3feb70ccb6233bfe1053d122c12c]\n",
       "reverse link E2 to E3--><a href=\"psysml:144a9ea2-c14f-46d2-8ece-b06edd35cf79\" target=\"_top\" title=\"psysml:144a9ea2-c14f-46d2-8ece-b06edd35cf79\" xlink:actuate=\"onRequest\" xlink:href=\"psysml:144a9ea2-c14f-46d2-8ece-b06edd35cf79\" xlink:show=\"new\" xlink:title=\"psysml:144a9ea2-c14f-46d2-8ece-b06edd35cf79\" xlink:type=\"simple\"><path d=\"M154,100.44 C154,115.87 154,133.47 154,146.98 \" fill=\"none\" id=\"E2&lt;-E3\" style=\"stroke: #383838; stroke-width: 1.0;\"/><polygon fill=\"#383838\" points=\"154,87.06,150,93.06,154,99.06,158,93.06,154,87.06\" style=\"stroke: #383838; stroke-width: 1.0;\"/></a><!--MD5=[62aa6af11e70f752912c1cb0466f24f7]\n",
       "reverse link E4 to E5--><a href=\"psysml:ffd50afc-9abd-4dce-afc7-dff7922af1b1\" target=\"_top\" title=\"psysml:ffd50afc-9abd-4dce-afc7-dff7922af1b1\" xlink:actuate=\"onRequest\" xlink:href=\"psysml:ffd50afc-9abd-4dce-afc7-dff7922af1b1\" xlink:show=\"new\" xlink:title=\"psysml:ffd50afc-9abd-4dce-afc7-dff7922af1b1\" xlink:type=\"simple\"><path d=\"M65,100.44 C65,115.87 65,133.47 65,146.98 \" fill=\"none\" id=\"E4&lt;-E5\" style=\"stroke: #383838; stroke-width: 1.0;\"/><polygon fill=\"#383838\" points=\"65,87.06,61,93.06,65,99.06,69,93.06,65,87.06\" style=\"stroke: #383838; stroke-width: 1.0;\"/></a><!--MD5=[4d04597e094823993443e26e810f578a]\n",
       "@startuml\r\n",
       "top to bottom direction\r\n",
       "skinparam monochrome true\r\n",
       "skinparam classbackgroundcolor white\r\n",
       "skinparam shadowing false\r\n",
       "skinparam wrapWidth 300\r\n",
       "hide circle\r\n",
       "\r\n",
       "package \"Q\" as E1  [[psysml:8fe83ee3-fcec-497a-a9db-5b3b84baea71 ]]  {\r\n",
       "comp usage \"f\" as E2  <<(T,blue)part>> [[psysml:c953ea8a-4e0b-4404-8471-1de142ee019c ]] {\r\n",
       "}\r\n",
       "comp usage \"a\" as E3  <<(T,blue)part>> [[psysml:c747f0dc-049c-42e5-8830-b905b214a6d2 ]] {\r\n",
       "}\r\n",
       "comp def \"C\" as E4  <<(T,blue)part def>> [[psysml:1d5dfbac-e0d0-4dae-a20f-d178674246aa ]] {\r\n",
       "}\r\n",
       "comp usage \"g\" as E5  <<(T,blue)part>> [[psysml:31443893-624e-4834-b51f-adb4e581d804 ]] {\r\n",
       "}\r\n",
       "E2 *- - E3 [[psysml:144a9ea2-c14f-46d2-8ece-b06edd35cf79 ]] \r\n",
       "E4 *- - E5 [[psysml:ffd50afc-9abd-4dce-afc7-dff7922af1b1 ]] \r\n",
       "}\r\n",
       "@enduml\r\n",
       "\n",
       "PlantUML version 1.2020.13(Sat Jun 13 12:26:38 UTC 2020)\n",
       "(EPL source distribution)\n",
       "Java Runtime: OpenJDK Runtime Environment\n",
       "JVM: OpenJDK 64-Bit Server VM\n",
       "Default Encoding: UTF-8\n",
       "Language: en\n",
       "Country: null\n",
       "--></g></svg>"
      ]
     },
     "execution_count": 45,
     "metadata": {},
     "output_type": "execute_result"
    }
   ],
   "source": [
    "%viz --style=\"TB\" --view=\"Tree\" \"Q\""
   ]
  },
  {
   "cell_type": "code",
   "execution_count": 46,
   "id": "04259577",
   "metadata": {
    "execution": {
     "iopub.execute_input": "2021-04-20T07:21:53.181882Z",
     "iopub.status.busy": "2021-04-20T07:21:53.181315Z",
     "iopub.status.idle": "2021-04-20T07:21:53.187115Z",
     "shell.execute_reply": "2021-04-20T07:21:53.186804Z"
    }
   },
   "outputs": [
    {
     "data": {
      "image/svg+xml": [
       "<?xml version=\"1.0\" encoding=\"UTF-8\" standalone=\"no\"?><svg xmlns=\"http://www.w3.org/2000/svg\" xmlns:xlink=\"http://www.w3.org/1999/xlink\" contentScriptType=\"application/ecmascript\" contentStyleType=\"text/css\" height=\"12px\" preserveAspectRatio=\"none\" style=\"width:12px;height:12px;\" version=\"1.1\" viewBox=\"0 0 12 12\" width=\"12px\" zoomAndPan=\"magnify\"><defs/><g><!--MD5=[f4ee21bc66e489b5061b7c3e9601fdef]\n",
       "@startuml\r\n",
       "top to bottom direction\r\n",
       "skinparam monochrome true\r\n",
       "skinparam classbackgroundcolor white\r\n",
       "skinparam shadowing false\r\n",
       "skinparam wrapWidth 300\r\n",
       "hide circle\r\n",
       "\r\n",
       "@enduml\r\n",
       "\n",
       "PlantUML version 1.2020.13(Sat Jun 13 12:26:38 UTC 2020)\n",
       "(EPL source distribution)\n",
       "Java Runtime: OpenJDK Runtime Environment\n",
       "JVM: OpenJDK 64-Bit Server VM\n",
       "Default Encoding: UTF-8\n",
       "Language: en\n",
       "Country: null\n",
       "--></g></svg>"
      ]
     },
     "execution_count": 46,
     "metadata": {},
     "output_type": "execute_result"
    }
   ],
   "source": [
    "%viz --style=\"TB\" --view=\"State\" \"Q\""
   ]
  },
  {
   "cell_type": "code",
   "execution_count": 47,
   "id": "539bb569",
   "metadata": {
    "execution": {
     "iopub.execute_input": "2021-04-20T07:21:53.240054Z",
     "iopub.status.busy": "2021-04-20T07:21:53.238341Z",
     "iopub.status.idle": "2021-04-20T07:21:53.268623Z",
     "shell.execute_reply": "2021-04-20T07:21:53.268283Z"
    }
   },
   "outputs": [
    {
     "data": {
      "image/svg+xml": [
       "<?xml version=\"1.0\" encoding=\"UTF-8\" standalone=\"no\"?><svg xmlns=\"http://www.w3.org/2000/svg\" xmlns:xlink=\"http://www.w3.org/1999/xlink\" contentScriptType=\"application/ecmascript\" contentStyleType=\"text/css\" height=\"192px\" preserveAspectRatio=\"none\" style=\"width:286px;height:192px;\" version=\"1.1\" viewBox=\"0 0 286 192\" width=\"286px\" zoomAndPan=\"magnify\"><defs/><g><!--MD5=[fbc87193dbaf4d95561dea2c320d4a47]\n",
       "cluster E1--><a href=\"psysml:8fe83ee3-fcec-497a-a9db-5b3b84baea71\" target=\"_top\" title=\"psysml:8fe83ee3-fcec-497a-a9db-5b3b84baea71\" xlink:actuate=\"onRequest\" xlink:href=\"psysml:8fe83ee3-fcec-497a-a9db-5b3b84baea71\" xlink:show=\"new\" xlink:title=\"psysml:8fe83ee3-fcec-497a-a9db-5b3b84baea71\" xlink:type=\"simple\"><polygon fill=\"#FFFFFF\" points=\"16,6,34,6,41,28.2969,264,28.2969,264,180,16,180,16,6\" style=\"stroke: #000000; stroke-width: 1.5;\"/><line style=\"stroke: #000000; stroke-width: 1.5;\" x1=\"16\" x2=\"41\" y1=\"28.2969\" y2=\"28.2969\"/><text fill=\"#000000\" font-family=\"sans-serif\" font-size=\"14\" font-weight=\"bold\" lengthAdjust=\"spacingAndGlyphs\" textLength=\"12\" x=\"20\" y=\"20.9951\">Q</text></a><!--MD5=[e4f7fae6ed58524ba242bb0b0d3be6b7]\n",
       "cluster E2--><a href=\"psysml:c953ea8a-4e0b-4404-8471-1de142ee019c\" target=\"_top\" title=\"psysml:c953ea8a-4e0b-4404-8471-1de142ee019c\" xlink:actuate=\"onRequest\" xlink:href=\"psysml:c953ea8a-4e0b-4404-8471-1de142ee019c\" xlink:show=\"new\" xlink:title=\"psysml:c953ea8a-4e0b-4404-8471-1de142ee019c\" xlink:type=\"simple\"><rect fill=\"#FFFFFF\" height=\"91\" id=\"E2\" rx=\"10\" ry=\"10\" style=\"stroke: #383838; stroke-width: 1.5;\" width=\"82\" x=\"158\" y=\"65\"/><rect fill=\"#F8F8F8\" height=\"23.9688\" rx=\"10\" ry=\"10\" style=\"stroke: #F8F8F8; stroke-width: 1.5;\" width=\"82\" x=\"158\" y=\"65\"/><rect fill=\"#F8F8F8\" height=\"10\" style=\"stroke: #F8F8F8; stroke-width: 1.5;\" width=\"82\" x=\"158\" y=\"78.9688\"/><rect fill=\"none\" height=\"91\" id=\"E2\" rx=\"10\" ry=\"10\" style=\"stroke: #383838; stroke-width: 1.5;\" width=\"82\" x=\"158\" y=\"65\"/><text fill=\"#000000\" font-family=\"sans-serif\" font-size=\"12\" lengthAdjust=\"spacingAndGlyphs\" textLength=\"4\" x=\"197\" y=\"81.1387\">f</text><line style=\"stroke: #383838; stroke-width: 1.0;\" x1=\"158\" x2=\"240\" y1=\"88.9688\" y2=\"88.9688\"/></a><!--MD5=[f6df4d0ebaf0b5dfb2ced0ae5af7c670]\n",
       "cluster E4--><a href=\"psysml:1d5dfbac-e0d0-4dae-a20f-d178674246aa\" target=\"_top\" title=\"psysml:1d5dfbac-e0d0-4dae-a20f-d178674246aa\" xlink:actuate=\"onRequest\" xlink:href=\"psysml:1d5dfbac-e0d0-4dae-a20f-d178674246aa\" xlink:show=\"new\" xlink:title=\"psysml:1d5dfbac-e0d0-4dae-a20f-d178674246aa\" xlink:type=\"simple\"><rect fill=\"#FFFFFF\" height=\"107\" id=\"E4\" style=\"stroke: #383838; stroke-width: 1.5;\" width=\"94\" x=\"40\" y=\"49\"/><rect fill=\"#F8F8F8\" height=\"37.9375\" style=\"stroke: #383838; stroke-width: 1.5;\" width=\"94\" x=\"40\" y=\"49\"/><text fill=\"#000000\" font-family=\"sans-serif\" font-size=\"12\" font-style=\"italic\" lengthAdjust=\"spacingAndGlyphs\" textLength=\"64\" x=\"55\" y=\"65.1387\">«part def»</text><text fill=\"#000000\" font-family=\"sans-serif\" font-size=\"12\" lengthAdjust=\"spacingAndGlyphs\" textLength=\"8\" x=\"83\" y=\"79.1074\">C</text></a><g id=\"E1.E2.E3\"><a href=\"psysml:c747f0dc-049c-42e5-8830-b905b214a6d2\" target=\"_top\" title=\"psysml:c747f0dc-049c-42e5-8830-b905b214a6d2\" xlink:actuate=\"onRequest\" xlink:href=\"psysml:c747f0dc-049c-42e5-8830-b905b214a6d2\" xlink:show=\"new\" xlink:title=\"psysml:c747f0dc-049c-42e5-8830-b905b214a6d2\" xlink:type=\"simple\"><rect fill=\"#FFFFFF\" height=\"40\" id=\"E3\" rx=\"10\" ry=\"10\" style=\"stroke: #383838; stroke-width: 1.5;\" width=\"50\" x=\"174\" y=\"100\"/><rect fill=\"#F8F8F8\" height=\"23.9688\" rx=\"10\" ry=\"10\" style=\"stroke: #F8F8F8; stroke-width: 1.5;\" width=\"50\" x=\"174\" y=\"100\"/><rect fill=\"#F8F8F8\" height=\"10\" style=\"stroke: #F8F8F8; stroke-width: 1.5;\" width=\"50\" x=\"174\" y=\"113.9688\"/><rect fill=\"none\" height=\"40\" id=\"E3\" rx=\"10\" ry=\"10\" style=\"stroke: #383838; stroke-width: 1.5;\" width=\"50\" x=\"174\" y=\"100\"/><text fill=\"#000000\" font-family=\"sans-serif\" font-size=\"12\" lengthAdjust=\"spacingAndGlyphs\" textLength=\"8\" x=\"195\" y=\"116.1387\">a</text></a></g><g id=\"E1.E4.E5\"><a href=\"psysml:31443893-624e-4834-b51f-adb4e581d804\" target=\"_top\" title=\"psysml:31443893-624e-4834-b51f-adb4e581d804\" xlink:actuate=\"onRequest\" xlink:href=\"psysml:31443893-624e-4834-b51f-adb4e581d804\" xlink:show=\"new\" xlink:title=\"psysml:31443893-624e-4834-b51f-adb4e581d804\" xlink:type=\"simple\"><rect fill=\"#FFFFFF\" height=\"40\" id=\"E5\" rx=\"10\" ry=\"10\" style=\"stroke: #383838; stroke-width: 1.5;\" width=\"61\" x=\"56.5\" y=\"100\"/><rect fill=\"#F8F8F8\" height=\"23.9688\" rx=\"10\" ry=\"10\" style=\"stroke: #F8F8F8; stroke-width: 1.5;\" width=\"61\" x=\"56.5\" y=\"100\"/><rect fill=\"#F8F8F8\" height=\"10\" style=\"stroke: #F8F8F8; stroke-width: 1.5;\" width=\"61\" x=\"56.5\" y=\"113.9688\"/><rect fill=\"none\" height=\"40\" id=\"E5\" rx=\"10\" ry=\"10\" style=\"stroke: #383838; stroke-width: 1.5;\" width=\"61\" x=\"56.5\" y=\"100\"/><text fill=\"#000000\" font-family=\"sans-serif\" font-size=\"12\" lengthAdjust=\"spacingAndGlyphs\" textLength=\"46\" x=\"62\" y=\"116.1387\">g=./f/a;</text></a></g><!--MD5=[64da6f6321aa12537949c9d3b7375407]\n",
       "@startuml\r\n",
       "skinparam ranksep 10\r\n",
       "skinparam rectangle {\r\n",
       " backgroundColor<<block>> LightGreen\r\n",
       "}\r\n",
       "top to bottom direction\r\n",
       "skinparam monochrome true\r\n",
       "skinparam classbackgroundcolor white\r\n",
       "skinparam shadowing false\r\n",
       "skinparam wrapWidth 300\r\n",
       "hide circle\r\n",
       "\r\n",
       "package \"Q\" as E1  [[psysml:8fe83ee3-fcec-497a-a9db-5b3b84baea71 ]]  {\r\n",
       "rec usage \"f\" as E2  [[psysml:c953ea8a-4e0b-4404-8471-1de142ee019c ]] {\r\n",
       "rec usage \"a\" as E3  [[psysml:c747f0dc-049c-42e5-8830-b905b214a6d2 ]] {\r\n",
       "}\r\n",
       "}\r\n",
       "rec def \"C\" as E4  <<(T,blue)part def>> [[psysml:1d5dfbac-e0d0-4dae-a20f-d178674246aa ]] {\r\n",
       "rec usage \"g=./f/a; \" as E5  [[psysml:31443893-624e-4834-b51f-adb4e581d804 ]] {\r\n",
       "}\r\n",
       "}\r\n",
       "}\r\n",
       "@enduml\r\n",
       "\n",
       "PlantUML version 1.2020.13(Sat Jun 13 12:26:38 UTC 2020)\n",
       "(EPL source distribution)\n",
       "Java Runtime: OpenJDK Runtime Environment\n",
       "JVM: OpenJDK 64-Bit Server VM\n",
       "Default Encoding: UTF-8\n",
       "Language: en\n",
       "Country: null\n",
       "--></g></svg>"
      ]
     },
     "execution_count": 47,
     "metadata": {},
     "output_type": "execute_result"
    }
   ],
   "source": [
    "%viz --style=\"TB\" --view=\"Interconnection\" \"Q\""
   ]
  },
  {
   "cell_type": "code",
   "execution_count": 48,
   "id": "ca1705b7",
   "metadata": {
    "execution": {
     "iopub.execute_input": "2021-04-20T07:21:53.320119Z",
     "iopub.status.busy": "2021-04-20T07:21:53.319557Z",
     "iopub.status.idle": "2021-04-20T07:21:53.325029Z",
     "shell.execute_reply": "2021-04-20T07:21:53.324567Z"
    }
   },
   "outputs": [
    {
     "data": {
      "image/svg+xml": [
       "<?xml version=\"1.0\" encoding=\"UTF-8\" standalone=\"no\"?><svg xmlns=\"http://www.w3.org/2000/svg\" xmlns:xlink=\"http://www.w3.org/1999/xlink\" contentScriptType=\"application/ecmascript\" contentStyleType=\"text/css\" height=\"12px\" preserveAspectRatio=\"none\" style=\"width:12px;height:12px;\" version=\"1.1\" viewBox=\"0 0 12 12\" width=\"12px\" zoomAndPan=\"magnify\"><defs/><g><!--MD5=[06afc254b03ac5e9d9fb7773b07d0800]\n",
       "@startuml\r\n",
       "skinparam ranksep 8\r\n",
       "top to bottom direction\r\n",
       "skinparam monochrome true\r\n",
       "skinparam classbackgroundcolor white\r\n",
       "skinparam shadowing false\r\n",
       "skinparam wrapWidth 300\r\n",
       "hide circle\r\n",
       "\r\n",
       "@enduml\r\n",
       "\n",
       "PlantUML version 1.2020.13(Sat Jun 13 12:26:38 UTC 2020)\n",
       "(EPL source distribution)\n",
       "Java Runtime: OpenJDK Runtime Environment\n",
       "JVM: OpenJDK 64-Bit Server VM\n",
       "Default Encoding: UTF-8\n",
       "Language: en\n",
       "Country: null\n",
       "--></g></svg>"
      ]
     },
     "execution_count": 48,
     "metadata": {},
     "output_type": "execute_result"
    }
   ],
   "source": [
    "%viz --style=\"TB\" --view=\"Action\" \"Q\""
   ]
  },
  {
   "cell_type": "code",
   "execution_count": 49,
   "id": "4fb0e60c",
   "metadata": {
    "execution": {
     "iopub.execute_input": "2021-04-20T07:21:53.377308Z",
     "iopub.status.busy": "2021-04-20T07:21:53.376697Z",
     "iopub.status.idle": "2021-04-20T07:21:53.404537Z",
     "shell.execute_reply": "2021-04-20T07:21:53.403393Z"
    }
   },
   "outputs": [
    {
     "data": {
      "image/svg+xml": [
       "<?xml version=\"1.0\" encoding=\"UTF-8\" standalone=\"no\"?><svg xmlns=\"http://www.w3.org/2000/svg\" xmlns:xlink=\"http://www.w3.org/1999/xlink\" contentScriptType=\"application/ecmascript\" contentStyleType=\"text/css\" height=\"221px\" preserveAspectRatio=\"none\" style=\"width:213px;height:221px;\" version=\"1.1\" viewBox=\"0 0 213 221\" width=\"213px\" zoomAndPan=\"magnify\"><defs/><g><!--MD5=[fbc87193dbaf4d95561dea2c320d4a47]\n",
       "cluster E1--><a href=\"psysml:8fe83ee3-fcec-497a-a9db-5b3b84baea71\" target=\"_top\" title=\"psysml:8fe83ee3-fcec-497a-a9db-5b3b84baea71\" xlink:actuate=\"onRequest\" xlink:href=\"psysml:8fe83ee3-fcec-497a-a9db-5b3b84baea71\" xlink:show=\"new\" xlink:title=\"psysml:8fe83ee3-fcec-497a-a9db-5b3b84baea71\" xlink:type=\"simple\"><polygon fill=\"#FFFFFF\" points=\"16,6,34,6,41,28.2969,191,28.2969,191,209,16,209,16,6\" style=\"stroke: #000000; stroke-width: 1.5;\"/><line style=\"stroke: #000000; stroke-width: 1.5;\" x1=\"16\" x2=\"41\" y1=\"28.2969\" y2=\"28.2969\"/><text fill=\"#000000\" font-family=\"sans-serif\" font-size=\"14\" font-weight=\"bold\" lengthAdjust=\"spacingAndGlyphs\" textLength=\"12\" x=\"20\" y=\"20.9951\">Q</text></a><!--MD5=[b4997ac47864f28c2f74865a473b2911]\n",
       "class E2--><a href=\"psysml:c953ea8a-4e0b-4404-8471-1de142ee019c\" target=\"_top\" title=\"psysml:c953ea8a-4e0b-4404-8471-1de142ee019c\" xlink:actuate=\"onRequest\" xlink:href=\"psysml:c953ea8a-4e0b-4404-8471-1de142ee019c\" xlink:show=\"new\" xlink:title=\"psysml:c953ea8a-4e0b-4404-8471-1de142ee019c\" xlink:type=\"simple\"><rect fill=\"#FFFFFF\" height=\"45.9375\" id=\"E2\" rx=\"10\" ry=\"10\" style=\"stroke: #383838; stroke-width: 1.5;\" width=\"42\" x=\"133\" y=\"41\"/><text fill=\"#000000\" font-family=\"sans-serif\" font-size=\"12\" font-style=\"italic\" lengthAdjust=\"spacingAndGlyphs\" textLength=\"40\" x=\"134\" y=\"57.1387\">«part»</text><text fill=\"#000000\" font-family=\"sans-serif\" font-size=\"12\" lengthAdjust=\"spacingAndGlyphs\" textLength=\"4\" x=\"152\" y=\"71.1074\">f</text><line style=\"stroke: #383838; stroke-width: 1.5;\" x1=\"134\" x2=\"174\" y1=\"78.9375\" y2=\"78.9375\"/></a><!--MD5=[09b614a08d8cba4a07c9adeb5e0fee81]\n",
       "class E3--><a href=\"psysml:c747f0dc-049c-42e5-8830-b905b214a6d2\" target=\"_top\" title=\"psysml:c747f0dc-049c-42e5-8830-b905b214a6d2\" xlink:actuate=\"onRequest\" xlink:href=\"psysml:c747f0dc-049c-42e5-8830-b905b214a6d2\" xlink:show=\"new\" xlink:title=\"psysml:c747f0dc-049c-42e5-8830-b905b214a6d2\" xlink:type=\"simple\"><rect fill=\"#FFFFFF\" height=\"45.9375\" id=\"E3\" rx=\"10\" ry=\"10\" style=\"stroke: #383838; stroke-width: 1.5;\" width=\"42\" x=\"133\" y=\"147\"/><text fill=\"#000000\" font-family=\"sans-serif\" font-size=\"12\" font-style=\"italic\" lengthAdjust=\"spacingAndGlyphs\" textLength=\"40\" x=\"134\" y=\"163.1387\">«part»</text><text fill=\"#000000\" font-family=\"sans-serif\" font-size=\"12\" lengthAdjust=\"spacingAndGlyphs\" textLength=\"8\" x=\"150\" y=\"177.1074\">a</text><line style=\"stroke: #383838; stroke-width: 1.5;\" x1=\"134\" x2=\"174\" y1=\"184.9375\" y2=\"184.9375\"/></a><!--MD5=[ebbe1d658d1005bcc118a6aa81145e00]\n",
       "class E4--><a href=\"psysml:1d5dfbac-e0d0-4dae-a20f-d178674246aa\" target=\"_top\" title=\"psysml:1d5dfbac-e0d0-4dae-a20f-d178674246aa\" xlink:actuate=\"onRequest\" xlink:href=\"psysml:1d5dfbac-e0d0-4dae-a20f-d178674246aa\" xlink:show=\"new\" xlink:title=\"psysml:1d5dfbac-e0d0-4dae-a20f-d178674246aa\" xlink:type=\"simple\"><rect fill=\"#FFFFFF\" height=\"45.9375\" id=\"E4\" style=\"stroke: #383838; stroke-width: 1.5;\" width=\"66\" x=\"32\" y=\"41\"/><text fill=\"#000000\" font-family=\"sans-serif\" font-size=\"12\" font-style=\"italic\" lengthAdjust=\"spacingAndGlyphs\" textLength=\"64\" x=\"33\" y=\"57.1387\">«part def»</text><text fill=\"#000000\" font-family=\"sans-serif\" font-size=\"12\" lengthAdjust=\"spacingAndGlyphs\" textLength=\"8\" x=\"61\" y=\"71.1074\">C</text><line style=\"stroke: #383838; stroke-width: 1.5;\" x1=\"33\" x2=\"97\" y1=\"78.9375\" y2=\"78.9375\"/></a><!--MD5=[270fce915f116d4de14055a7c1d9a0f3]\n",
       "class E5--><a href=\"psysml:31443893-624e-4834-b51f-adb4e581d804\" target=\"_top\" title=\"psysml:31443893-624e-4834-b51f-adb4e581d804\" xlink:actuate=\"onRequest\" xlink:href=\"psysml:31443893-624e-4834-b51f-adb4e581d804\" xlink:show=\"new\" xlink:title=\"psysml:31443893-624e-4834-b51f-adb4e581d804\" xlink:type=\"simple\"><rect fill=\"#FFFFFF\" height=\"45.9375\" id=\"E5\" rx=\"10\" ry=\"10\" style=\"stroke: #383838; stroke-width: 1.5;\" width=\"42\" x=\"44\" y=\"147\"/><text fill=\"#000000\" font-family=\"sans-serif\" font-size=\"12\" font-style=\"italic\" lengthAdjust=\"spacingAndGlyphs\" textLength=\"40\" x=\"45\" y=\"163.1387\">«part»</text><text fill=\"#000000\" font-family=\"sans-serif\" font-size=\"12\" lengthAdjust=\"spacingAndGlyphs\" textLength=\"8\" x=\"61\" y=\"177.1074\">g</text><line style=\"stroke: #383838; stroke-width: 1.5;\" x1=\"45\" x2=\"85\" y1=\"184.9375\" y2=\"184.9375\"/></a><!--MD5=[209b3feb70ccb6233bfe1053d122c12c]\n",
       "reverse link E2 to E3--><a href=\"psysml:144a9ea2-c14f-46d2-8ece-b06edd35cf79\" target=\"_top\" title=\"psysml:144a9ea2-c14f-46d2-8ece-b06edd35cf79\" xlink:actuate=\"onRequest\" xlink:href=\"psysml:144a9ea2-c14f-46d2-8ece-b06edd35cf79\" xlink:show=\"new\" xlink:title=\"psysml:144a9ea2-c14f-46d2-8ece-b06edd35cf79\" xlink:type=\"simple\"><path d=\"M154,100.44 C154,115.87 154,133.47 154,146.98 \" fill=\"none\" id=\"E2&lt;-E3\" style=\"stroke: #383838; stroke-width: 1.0;\"/><polygon fill=\"#383838\" points=\"154,87.06,150,93.06,154,99.06,158,93.06,154,87.06\" style=\"stroke: #383838; stroke-width: 1.0;\"/></a><!--MD5=[62aa6af11e70f752912c1cb0466f24f7]\n",
       "reverse link E4 to E5--><a href=\"psysml:ffd50afc-9abd-4dce-afc7-dff7922af1b1\" target=\"_top\" title=\"psysml:ffd50afc-9abd-4dce-afc7-dff7922af1b1\" xlink:actuate=\"onRequest\" xlink:href=\"psysml:ffd50afc-9abd-4dce-afc7-dff7922af1b1\" xlink:show=\"new\" xlink:title=\"psysml:ffd50afc-9abd-4dce-afc7-dff7922af1b1\" xlink:type=\"simple\"><path d=\"M65,100.44 C65,115.87 65,133.47 65,146.98 \" fill=\"none\" id=\"E4&lt;-E5\" style=\"stroke: #383838; stroke-width: 1.0;\"/><polygon fill=\"#383838\" points=\"65,87.06,61,93.06,65,99.06,69,93.06,65,87.06\" style=\"stroke: #383838; stroke-width: 1.0;\"/></a><!--MD5=[4d04597e094823993443e26e810f578a]\n",
       "@startuml\r\n",
       "top to bottom direction\r\n",
       "skinparam monochrome true\r\n",
       "skinparam classbackgroundcolor white\r\n",
       "skinparam shadowing false\r\n",
       "skinparam wrapWidth 300\r\n",
       "hide circle\r\n",
       "\r\n",
       "package \"Q\" as E1  [[psysml:8fe83ee3-fcec-497a-a9db-5b3b84baea71 ]]  {\r\n",
       "comp usage \"f\" as E2  <<(T,blue)part>> [[psysml:c953ea8a-4e0b-4404-8471-1de142ee019c ]] {\r\n",
       "}\r\n",
       "comp usage \"a\" as E3  <<(T,blue)part>> [[psysml:c747f0dc-049c-42e5-8830-b905b214a6d2 ]] {\r\n",
       "}\r\n",
       "comp def \"C\" as E4  <<(T,blue)part def>> [[psysml:1d5dfbac-e0d0-4dae-a20f-d178674246aa ]] {\r\n",
       "}\r\n",
       "comp usage \"g\" as E5  <<(T,blue)part>> [[psysml:31443893-624e-4834-b51f-adb4e581d804 ]] {\r\n",
       "}\r\n",
       "E2 *- - E3 [[psysml:144a9ea2-c14f-46d2-8ece-b06edd35cf79 ]] \r\n",
       "E4 *- - E5 [[psysml:ffd50afc-9abd-4dce-afc7-dff7922af1b1 ]] \r\n",
       "}\r\n",
       "@enduml\r\n",
       "\n",
       "PlantUML version 1.2020.13(Sat Jun 13 12:26:38 UTC 2020)\n",
       "(EPL source distribution)\n",
       "Java Runtime: OpenJDK Runtime Environment\n",
       "JVM: OpenJDK 64-Bit Server VM\n",
       "Default Encoding: UTF-8\n",
       "Language: en\n",
       "Country: null\n",
       "--></g></svg>"
      ]
     },
     "execution_count": 49,
     "metadata": {},
     "output_type": "execute_result"
    }
   ],
   "source": [
    "%viz --style=\"TB\" --view=\"Sequence\" \"Q\""
   ]
  },
  {
   "cell_type": "code",
   "execution_count": 50,
   "id": "747e3202",
   "metadata": {
    "execution": {
     "iopub.execute_input": "2021-04-20T07:21:53.456700Z",
     "iopub.status.busy": "2021-04-20T07:21:53.456045Z",
     "iopub.status.idle": "2021-04-20T07:21:53.484565Z",
     "shell.execute_reply": "2021-04-20T07:21:53.482567Z"
    }
   },
   "outputs": [
    {
     "data": {
      "image/svg+xml": [
       "<?xml version=\"1.0\" encoding=\"UTF-8\" standalone=\"no\"?><svg xmlns=\"http://www.w3.org/2000/svg\" xmlns:xlink=\"http://www.w3.org/1999/xlink\" contentScriptType=\"application/ecmascript\" contentStyleType=\"text/css\" height=\"221px\" preserveAspectRatio=\"none\" style=\"width:213px;height:221px;\" version=\"1.1\" viewBox=\"0 0 213 221\" width=\"213px\" zoomAndPan=\"magnify\"><defs/><g><!--MD5=[fbc87193dbaf4d95561dea2c320d4a47]\n",
       "cluster E1--><a href=\"psysml:8fe83ee3-fcec-497a-a9db-5b3b84baea71\" target=\"_top\" title=\"psysml:8fe83ee3-fcec-497a-a9db-5b3b84baea71\" xlink:actuate=\"onRequest\" xlink:href=\"psysml:8fe83ee3-fcec-497a-a9db-5b3b84baea71\" xlink:show=\"new\" xlink:title=\"psysml:8fe83ee3-fcec-497a-a9db-5b3b84baea71\" xlink:type=\"simple\"><polygon fill=\"#FFFFFF\" points=\"16,6,34,6,41,28.2969,191,28.2969,191,209,16,209,16,6\" style=\"stroke: #000000; stroke-width: 1.5;\"/><line style=\"stroke: #000000; stroke-width: 1.5;\" x1=\"16\" x2=\"41\" y1=\"28.2969\" y2=\"28.2969\"/><text fill=\"#000000\" font-family=\"sans-serif\" font-size=\"14\" font-weight=\"bold\" lengthAdjust=\"spacingAndGlyphs\" textLength=\"12\" x=\"20\" y=\"20.9951\">Q</text></a><!--MD5=[b4997ac47864f28c2f74865a473b2911]\n",
       "class E2--><a href=\"psysml:c953ea8a-4e0b-4404-8471-1de142ee019c\" target=\"_top\" title=\"psysml:c953ea8a-4e0b-4404-8471-1de142ee019c\" xlink:actuate=\"onRequest\" xlink:href=\"psysml:c953ea8a-4e0b-4404-8471-1de142ee019c\" xlink:show=\"new\" xlink:title=\"psysml:c953ea8a-4e0b-4404-8471-1de142ee019c\" xlink:type=\"simple\"><rect fill=\"#FFFFFF\" height=\"45.9375\" id=\"E2\" rx=\"10\" ry=\"10\" style=\"stroke: #383838; stroke-width: 1.5;\" width=\"42\" x=\"133\" y=\"41\"/><text fill=\"#000000\" font-family=\"sans-serif\" font-size=\"12\" font-style=\"italic\" lengthAdjust=\"spacingAndGlyphs\" textLength=\"40\" x=\"134\" y=\"57.1387\">«part»</text><text fill=\"#000000\" font-family=\"sans-serif\" font-size=\"12\" lengthAdjust=\"spacingAndGlyphs\" textLength=\"4\" x=\"152\" y=\"71.1074\">f</text><line style=\"stroke: #383838; stroke-width: 1.5;\" x1=\"134\" x2=\"174\" y1=\"78.9375\" y2=\"78.9375\"/></a><!--MD5=[09b614a08d8cba4a07c9adeb5e0fee81]\n",
       "class E3--><a href=\"psysml:c747f0dc-049c-42e5-8830-b905b214a6d2\" target=\"_top\" title=\"psysml:c747f0dc-049c-42e5-8830-b905b214a6d2\" xlink:actuate=\"onRequest\" xlink:href=\"psysml:c747f0dc-049c-42e5-8830-b905b214a6d2\" xlink:show=\"new\" xlink:title=\"psysml:c747f0dc-049c-42e5-8830-b905b214a6d2\" xlink:type=\"simple\"><rect fill=\"#FFFFFF\" height=\"45.9375\" id=\"E3\" rx=\"10\" ry=\"10\" style=\"stroke: #383838; stroke-width: 1.5;\" width=\"42\" x=\"133\" y=\"147\"/><text fill=\"#000000\" font-family=\"sans-serif\" font-size=\"12\" font-style=\"italic\" lengthAdjust=\"spacingAndGlyphs\" textLength=\"40\" x=\"134\" y=\"163.1387\">«part»</text><text fill=\"#000000\" font-family=\"sans-serif\" font-size=\"12\" lengthAdjust=\"spacingAndGlyphs\" textLength=\"8\" x=\"150\" y=\"177.1074\">a</text><line style=\"stroke: #383838; stroke-width: 1.5;\" x1=\"134\" x2=\"174\" y1=\"184.9375\" y2=\"184.9375\"/></a><!--MD5=[ebbe1d658d1005bcc118a6aa81145e00]\n",
       "class E4--><a href=\"psysml:1d5dfbac-e0d0-4dae-a20f-d178674246aa\" target=\"_top\" title=\"psysml:1d5dfbac-e0d0-4dae-a20f-d178674246aa\" xlink:actuate=\"onRequest\" xlink:href=\"psysml:1d5dfbac-e0d0-4dae-a20f-d178674246aa\" xlink:show=\"new\" xlink:title=\"psysml:1d5dfbac-e0d0-4dae-a20f-d178674246aa\" xlink:type=\"simple\"><rect fill=\"#FFFFFF\" height=\"45.9375\" id=\"E4\" style=\"stroke: #383838; stroke-width: 1.5;\" width=\"66\" x=\"32\" y=\"41\"/><text fill=\"#000000\" font-family=\"sans-serif\" font-size=\"12\" font-style=\"italic\" lengthAdjust=\"spacingAndGlyphs\" textLength=\"64\" x=\"33\" y=\"57.1387\">«part def»</text><text fill=\"#000000\" font-family=\"sans-serif\" font-size=\"12\" lengthAdjust=\"spacingAndGlyphs\" textLength=\"8\" x=\"61\" y=\"71.1074\">C</text><line style=\"stroke: #383838; stroke-width: 1.5;\" x1=\"33\" x2=\"97\" y1=\"78.9375\" y2=\"78.9375\"/></a><!--MD5=[270fce915f116d4de14055a7c1d9a0f3]\n",
       "class E5--><a href=\"psysml:31443893-624e-4834-b51f-adb4e581d804\" target=\"_top\" title=\"psysml:31443893-624e-4834-b51f-adb4e581d804\" xlink:actuate=\"onRequest\" xlink:href=\"psysml:31443893-624e-4834-b51f-adb4e581d804\" xlink:show=\"new\" xlink:title=\"psysml:31443893-624e-4834-b51f-adb4e581d804\" xlink:type=\"simple\"><rect fill=\"#FFFFFF\" height=\"45.9375\" id=\"E5\" rx=\"10\" ry=\"10\" style=\"stroke: #383838; stroke-width: 1.5;\" width=\"42\" x=\"44\" y=\"147\"/><text fill=\"#000000\" font-family=\"sans-serif\" font-size=\"12\" font-style=\"italic\" lengthAdjust=\"spacingAndGlyphs\" textLength=\"40\" x=\"45\" y=\"163.1387\">«part»</text><text fill=\"#000000\" font-family=\"sans-serif\" font-size=\"12\" lengthAdjust=\"spacingAndGlyphs\" textLength=\"8\" x=\"61\" y=\"177.1074\">g</text><line style=\"stroke: #383838; stroke-width: 1.5;\" x1=\"45\" x2=\"85\" y1=\"184.9375\" y2=\"184.9375\"/></a><!--MD5=[209b3feb70ccb6233bfe1053d122c12c]\n",
       "reverse link E2 to E3--><a href=\"psysml:144a9ea2-c14f-46d2-8ece-b06edd35cf79\" target=\"_top\" title=\"psysml:144a9ea2-c14f-46d2-8ece-b06edd35cf79\" xlink:actuate=\"onRequest\" xlink:href=\"psysml:144a9ea2-c14f-46d2-8ece-b06edd35cf79\" xlink:show=\"new\" xlink:title=\"psysml:144a9ea2-c14f-46d2-8ece-b06edd35cf79\" xlink:type=\"simple\"><path d=\"M154,100.44 C154,115.87 154,133.47 154,146.98 \" fill=\"none\" id=\"E2&lt;-E3\" style=\"stroke: #383838; stroke-width: 1.0;\"/><polygon fill=\"#383838\" points=\"154,87.06,150,93.06,154,99.06,158,93.06,154,87.06\" style=\"stroke: #383838; stroke-width: 1.0;\"/></a><!--MD5=[62aa6af11e70f752912c1cb0466f24f7]\n",
       "reverse link E4 to E5--><a href=\"psysml:ffd50afc-9abd-4dce-afc7-dff7922af1b1\" target=\"_top\" title=\"psysml:ffd50afc-9abd-4dce-afc7-dff7922af1b1\" xlink:actuate=\"onRequest\" xlink:href=\"psysml:ffd50afc-9abd-4dce-afc7-dff7922af1b1\" xlink:show=\"new\" xlink:title=\"psysml:ffd50afc-9abd-4dce-afc7-dff7922af1b1\" xlink:type=\"simple\"><path d=\"M65,100.44 C65,115.87 65,133.47 65,146.98 \" fill=\"none\" id=\"E4&lt;-E5\" style=\"stroke: #383838; stroke-width: 1.0;\"/><polygon fill=\"#383838\" points=\"65,87.06,61,93.06,65,99.06,69,93.06,65,87.06\" style=\"stroke: #383838; stroke-width: 1.0;\"/></a><!--MD5=[4d04597e094823993443e26e810f578a]\n",
       "@startuml\r\n",
       "top to bottom direction\r\n",
       "skinparam monochrome true\r\n",
       "skinparam classbackgroundcolor white\r\n",
       "skinparam shadowing false\r\n",
       "skinparam wrapWidth 300\r\n",
       "hide circle\r\n",
       "\r\n",
       "package \"Q\" as E1  [[psysml:8fe83ee3-fcec-497a-a9db-5b3b84baea71 ]]  {\r\n",
       "comp usage \"f\" as E2  <<(T,blue)part>> [[psysml:c953ea8a-4e0b-4404-8471-1de142ee019c ]] {\r\n",
       "}\r\n",
       "comp usage \"a\" as E3  <<(T,blue)part>> [[psysml:c747f0dc-049c-42e5-8830-b905b214a6d2 ]] {\r\n",
       "}\r\n",
       "comp def \"C\" as E4  <<(T,blue)part def>> [[psysml:1d5dfbac-e0d0-4dae-a20f-d178674246aa ]] {\r\n",
       "}\r\n",
       "comp usage \"g\" as E5  <<(T,blue)part>> [[psysml:31443893-624e-4834-b51f-adb4e581d804 ]] {\r\n",
       "}\r\n",
       "E2 *- - E3 [[psysml:144a9ea2-c14f-46d2-8ece-b06edd35cf79 ]] \r\n",
       "E4 *- - E5 [[psysml:ffd50afc-9abd-4dce-afc7-dff7922af1b1 ]] \r\n",
       "}\r\n",
       "@enduml\r\n",
       "\n",
       "PlantUML version 1.2020.13(Sat Jun 13 12:26:38 UTC 2020)\n",
       "(EPL source distribution)\n",
       "Java Runtime: OpenJDK Runtime Environment\n",
       "JVM: OpenJDK 64-Bit Server VM\n",
       "Default Encoding: UTF-8\n",
       "Language: en\n",
       "Country: null\n",
       "--></g></svg>"
      ]
     },
     "execution_count": 50,
     "metadata": {},
     "output_type": "execute_result"
    }
   ],
   "source": [
    "%viz --style=\"TB\" --view=\"MIXED\" \"Q\""
   ]
  },
  {
   "cell_type": "code",
   "execution_count": 51,
   "id": "f0fd753d",
   "metadata": {
    "execution": {
     "iopub.execute_input": "2021-04-20T07:21:53.535927Z",
     "iopub.status.busy": "2021-04-20T07:21:53.535559Z",
     "iopub.status.idle": "2021-04-20T07:21:53.561108Z",
     "shell.execute_reply": "2021-04-20T07:21:53.559956Z"
    }
   },
   "outputs": [
    {
     "data": {
      "image/svg+xml": [
       "<?xml version=\"1.0\" encoding=\"UTF-8\" standalone=\"no\"?><svg xmlns=\"http://www.w3.org/2000/svg\" xmlns:xlink=\"http://www.w3.org/1999/xlink\" contentScriptType=\"application/ecmascript\" contentStyleType=\"text/css\" height=\"221px\" preserveAspectRatio=\"none\" style=\"width:213px;height:221px;\" version=\"1.1\" viewBox=\"0 0 213 221\" width=\"213px\" zoomAndPan=\"magnify\"><defs/><g><!--MD5=[fbc87193dbaf4d95561dea2c320d4a47]\n",
       "cluster E1--><a href=\"psysml:8fe83ee3-fcec-497a-a9db-5b3b84baea71\" target=\"_top\" title=\"psysml:8fe83ee3-fcec-497a-a9db-5b3b84baea71\" xlink:actuate=\"onRequest\" xlink:href=\"psysml:8fe83ee3-fcec-497a-a9db-5b3b84baea71\" xlink:show=\"new\" xlink:title=\"psysml:8fe83ee3-fcec-497a-a9db-5b3b84baea71\" xlink:type=\"simple\"><polygon fill=\"#FFFFFF\" points=\"16,6,34,6,41,28.2969,191,28.2969,191,209,16,209,16,6\" style=\"stroke: #000000; stroke-width: 1.5;\"/><line style=\"stroke: #000000; stroke-width: 1.5;\" x1=\"16\" x2=\"41\" y1=\"28.2969\" y2=\"28.2969\"/><text fill=\"#000000\" font-family=\"sans-serif\" font-size=\"14\" font-weight=\"bold\" lengthAdjust=\"spacingAndGlyphs\" textLength=\"12\" x=\"20\" y=\"20.9951\">Q</text></a><!--MD5=[b4997ac47864f28c2f74865a473b2911]\n",
       "class E2--><a href=\"psysml:c953ea8a-4e0b-4404-8471-1de142ee019c\" target=\"_top\" title=\"psysml:c953ea8a-4e0b-4404-8471-1de142ee019c\" xlink:actuate=\"onRequest\" xlink:href=\"psysml:c953ea8a-4e0b-4404-8471-1de142ee019c\" xlink:show=\"new\" xlink:title=\"psysml:c953ea8a-4e0b-4404-8471-1de142ee019c\" xlink:type=\"simple\"><rect fill=\"#FFFFFF\" height=\"45.9375\" id=\"E2\" rx=\"10\" ry=\"10\" style=\"stroke: #383838; stroke-width: 1.5;\" width=\"42\" x=\"133\" y=\"41\"/><text fill=\"#000000\" font-family=\"sans-serif\" font-size=\"12\" font-style=\"italic\" lengthAdjust=\"spacingAndGlyphs\" textLength=\"40\" x=\"134\" y=\"57.1387\">«part»</text><text fill=\"#000000\" font-family=\"sans-serif\" font-size=\"12\" lengthAdjust=\"spacingAndGlyphs\" textLength=\"4\" x=\"152\" y=\"71.1074\">f</text><line style=\"stroke: #383838; stroke-width: 1.5;\" x1=\"134\" x2=\"174\" y1=\"78.9375\" y2=\"78.9375\"/></a><!--MD5=[09b614a08d8cba4a07c9adeb5e0fee81]\n",
       "class E3--><a href=\"psysml:c747f0dc-049c-42e5-8830-b905b214a6d2\" target=\"_top\" title=\"psysml:c747f0dc-049c-42e5-8830-b905b214a6d2\" xlink:actuate=\"onRequest\" xlink:href=\"psysml:c747f0dc-049c-42e5-8830-b905b214a6d2\" xlink:show=\"new\" xlink:title=\"psysml:c747f0dc-049c-42e5-8830-b905b214a6d2\" xlink:type=\"simple\"><rect fill=\"#FFFFFF\" height=\"45.9375\" id=\"E3\" rx=\"10\" ry=\"10\" style=\"stroke: #383838; stroke-width: 1.5;\" width=\"42\" x=\"133\" y=\"147\"/><text fill=\"#000000\" font-family=\"sans-serif\" font-size=\"12\" font-style=\"italic\" lengthAdjust=\"spacingAndGlyphs\" textLength=\"40\" x=\"134\" y=\"163.1387\">«part»</text><text fill=\"#000000\" font-family=\"sans-serif\" font-size=\"12\" lengthAdjust=\"spacingAndGlyphs\" textLength=\"8\" x=\"150\" y=\"177.1074\">a</text><line style=\"stroke: #383838; stroke-width: 1.5;\" x1=\"134\" x2=\"174\" y1=\"184.9375\" y2=\"184.9375\"/></a><!--MD5=[ebbe1d658d1005bcc118a6aa81145e00]\n",
       "class E4--><a href=\"psysml:1d5dfbac-e0d0-4dae-a20f-d178674246aa\" target=\"_top\" title=\"psysml:1d5dfbac-e0d0-4dae-a20f-d178674246aa\" xlink:actuate=\"onRequest\" xlink:href=\"psysml:1d5dfbac-e0d0-4dae-a20f-d178674246aa\" xlink:show=\"new\" xlink:title=\"psysml:1d5dfbac-e0d0-4dae-a20f-d178674246aa\" xlink:type=\"simple\"><rect fill=\"#FFFFFF\" height=\"45.9375\" id=\"E4\" style=\"stroke: #383838; stroke-width: 1.5;\" width=\"66\" x=\"32\" y=\"41\"/><text fill=\"#000000\" font-family=\"sans-serif\" font-size=\"12\" font-style=\"italic\" lengthAdjust=\"spacingAndGlyphs\" textLength=\"64\" x=\"33\" y=\"57.1387\">«part def»</text><text fill=\"#000000\" font-family=\"sans-serif\" font-size=\"12\" lengthAdjust=\"spacingAndGlyphs\" textLength=\"8\" x=\"61\" y=\"71.1074\">C</text><line style=\"stroke: #383838; stroke-width: 1.5;\" x1=\"33\" x2=\"97\" y1=\"78.9375\" y2=\"78.9375\"/></a><!--MD5=[270fce915f116d4de14055a7c1d9a0f3]\n",
       "class E5--><a href=\"psysml:31443893-624e-4834-b51f-adb4e581d804\" target=\"_top\" title=\"psysml:31443893-624e-4834-b51f-adb4e581d804\" xlink:actuate=\"onRequest\" xlink:href=\"psysml:31443893-624e-4834-b51f-adb4e581d804\" xlink:show=\"new\" xlink:title=\"psysml:31443893-624e-4834-b51f-adb4e581d804\" xlink:type=\"simple\"><rect fill=\"#FFFFFF\" height=\"45.9375\" id=\"E5\" rx=\"10\" ry=\"10\" style=\"stroke: #383838; stroke-width: 1.5;\" width=\"42\" x=\"44\" y=\"147\"/><text fill=\"#000000\" font-family=\"sans-serif\" font-size=\"12\" font-style=\"italic\" lengthAdjust=\"spacingAndGlyphs\" textLength=\"40\" x=\"45\" y=\"163.1387\">«part»</text><text fill=\"#000000\" font-family=\"sans-serif\" font-size=\"12\" lengthAdjust=\"spacingAndGlyphs\" textLength=\"8\" x=\"61\" y=\"177.1074\">g</text><line style=\"stroke: #383838; stroke-width: 1.5;\" x1=\"45\" x2=\"85\" y1=\"184.9375\" y2=\"184.9375\"/></a><!--MD5=[209b3feb70ccb6233bfe1053d122c12c]\n",
       "reverse link E2 to E3--><a href=\"psysml:144a9ea2-c14f-46d2-8ece-b06edd35cf79\" target=\"_top\" title=\"psysml:144a9ea2-c14f-46d2-8ece-b06edd35cf79\" xlink:actuate=\"onRequest\" xlink:href=\"psysml:144a9ea2-c14f-46d2-8ece-b06edd35cf79\" xlink:show=\"new\" xlink:title=\"psysml:144a9ea2-c14f-46d2-8ece-b06edd35cf79\" xlink:type=\"simple\"><path d=\"M154,100 C154,100 154,146.68 154,146.68 \" fill=\"none\" id=\"E2&lt;-E3\" style=\"stroke: #383838; stroke-width: 1.0;\"/><polygon fill=\"#383838\" points=\"154,87,150,93,154,99,158,93,154,87\" style=\"stroke: #383838; stroke-width: 1.0;\"/></a><!--MD5=[62aa6af11e70f752912c1cb0466f24f7]\n",
       "reverse link E4 to E5--><a href=\"psysml:ffd50afc-9abd-4dce-afc7-dff7922af1b1\" target=\"_top\" title=\"psysml:ffd50afc-9abd-4dce-afc7-dff7922af1b1\" xlink:actuate=\"onRequest\" xlink:href=\"psysml:ffd50afc-9abd-4dce-afc7-dff7922af1b1\" xlink:show=\"new\" xlink:title=\"psysml:ffd50afc-9abd-4dce-afc7-dff7922af1b1\" xlink:type=\"simple\"><path d=\"M65,100 C65,100 65,146.68 65,146.68 \" fill=\"none\" id=\"E4&lt;-E5\" style=\"stroke: #383838; stroke-width: 1.0;\"/><polygon fill=\"#383838\" points=\"65,87,61,93,65,99,69,93,65,87\" style=\"stroke: #383838; stroke-width: 1.0;\"/></a><!--MD5=[5edbf546fba0a708f8b5aba14f9121ea]\n",
       "@startuml\r\n",
       "skinparam linetype ortho\r\n",
       "skinparam monochrome true\r\n",
       "skinparam classbackgroundcolor white\r\n",
       "skinparam shadowing false\r\n",
       "skinparam wrapWidth 300\r\n",
       "hide circle\r\n",
       "\r\n",
       "package \"Q\" as E1  [[psysml:8fe83ee3-fcec-497a-a9db-5b3b84baea71 ]]  {\r\n",
       "comp usage \"f\" as E2  <<(T,blue)part>> [[psysml:c953ea8a-4e0b-4404-8471-1de142ee019c ]] {\r\n",
       "}\r\n",
       "comp usage \"a\" as E3  <<(T,blue)part>> [[psysml:c747f0dc-049c-42e5-8830-b905b214a6d2 ]] {\r\n",
       "}\r\n",
       "comp def \"C\" as E4  <<(T,blue)part def>> [[psysml:1d5dfbac-e0d0-4dae-a20f-d178674246aa ]] {\r\n",
       "}\r\n",
       "comp usage \"g\" as E5  <<(T,blue)part>> [[psysml:31443893-624e-4834-b51f-adb4e581d804 ]] {\r\n",
       "}\r\n",
       "E2 *- - E3 [[psysml:144a9ea2-c14f-46d2-8ece-b06edd35cf79 ]] \r\n",
       "E4 *- - E5 [[psysml:ffd50afc-9abd-4dce-afc7-dff7922af1b1 ]] \r\n",
       "}\r\n",
       "@enduml\r\n",
       "\n",
       "PlantUML version 1.2020.13(Sat Jun 13 12:26:38 UTC 2020)\n",
       "(EPL source distribution)\n",
       "Java Runtime: OpenJDK Runtime Environment\n",
       "JVM: OpenJDK 64-Bit Server VM\n",
       "Default Encoding: UTF-8\n",
       "Language: en\n",
       "Country: null\n",
       "--></g></svg>"
      ]
     },
     "execution_count": 51,
     "metadata": {},
     "output_type": "execute_result"
    }
   ],
   "source": [
    "%viz --style=\"ORTHOLINE\" --view=\"Default\" \"Q\""
   ]
  },
  {
   "cell_type": "code",
   "execution_count": 52,
   "id": "9a279c01",
   "metadata": {
    "execution": {
     "iopub.execute_input": "2021-04-20T07:21:53.611366Z",
     "iopub.status.busy": "2021-04-20T07:21:53.610983Z",
     "iopub.status.idle": "2021-04-20T07:21:53.637695Z",
     "shell.execute_reply": "2021-04-20T07:21:53.636185Z"
    }
   },
   "outputs": [
    {
     "data": {
      "image/svg+xml": [
       "<?xml version=\"1.0\" encoding=\"UTF-8\" standalone=\"no\"?><svg xmlns=\"http://www.w3.org/2000/svg\" xmlns:xlink=\"http://www.w3.org/1999/xlink\" contentScriptType=\"application/ecmascript\" contentStyleType=\"text/css\" height=\"221px\" preserveAspectRatio=\"none\" style=\"width:213px;height:221px;\" version=\"1.1\" viewBox=\"0 0 213 221\" width=\"213px\" zoomAndPan=\"magnify\"><defs/><g><!--MD5=[fbc87193dbaf4d95561dea2c320d4a47]\n",
       "cluster E1--><a href=\"psysml:8fe83ee3-fcec-497a-a9db-5b3b84baea71\" target=\"_top\" title=\"psysml:8fe83ee3-fcec-497a-a9db-5b3b84baea71\" xlink:actuate=\"onRequest\" xlink:href=\"psysml:8fe83ee3-fcec-497a-a9db-5b3b84baea71\" xlink:show=\"new\" xlink:title=\"psysml:8fe83ee3-fcec-497a-a9db-5b3b84baea71\" xlink:type=\"simple\"><polygon fill=\"#FFFFFF\" points=\"16,6,34,6,41,28.2969,191,28.2969,191,209,16,209,16,6\" style=\"stroke: #000000; stroke-width: 1.5;\"/><line style=\"stroke: #000000; stroke-width: 1.5;\" x1=\"16\" x2=\"41\" y1=\"28.2969\" y2=\"28.2969\"/><text fill=\"#000000\" font-family=\"sans-serif\" font-size=\"14\" font-weight=\"bold\" lengthAdjust=\"spacingAndGlyphs\" textLength=\"12\" x=\"20\" y=\"20.9951\">Q</text></a><!--MD5=[b4997ac47864f28c2f74865a473b2911]\n",
       "class E2--><a href=\"psysml:c953ea8a-4e0b-4404-8471-1de142ee019c\" target=\"_top\" title=\"psysml:c953ea8a-4e0b-4404-8471-1de142ee019c\" xlink:actuate=\"onRequest\" xlink:href=\"psysml:c953ea8a-4e0b-4404-8471-1de142ee019c\" xlink:show=\"new\" xlink:title=\"psysml:c953ea8a-4e0b-4404-8471-1de142ee019c\" xlink:type=\"simple\"><rect fill=\"#FFFFFF\" height=\"45.9375\" id=\"E2\" rx=\"10\" ry=\"10\" style=\"stroke: #383838; stroke-width: 1.5;\" width=\"42\" x=\"133\" y=\"41\"/><text fill=\"#000000\" font-family=\"sans-serif\" font-size=\"12\" font-style=\"italic\" lengthAdjust=\"spacingAndGlyphs\" textLength=\"40\" x=\"134\" y=\"57.1387\">«part»</text><text fill=\"#000000\" font-family=\"sans-serif\" font-size=\"12\" lengthAdjust=\"spacingAndGlyphs\" textLength=\"4\" x=\"152\" y=\"71.1074\">f</text><line style=\"stroke: #383838; stroke-width: 1.5;\" x1=\"134\" x2=\"174\" y1=\"78.9375\" y2=\"78.9375\"/></a><!--MD5=[09b614a08d8cba4a07c9adeb5e0fee81]\n",
       "class E3--><a href=\"psysml:c747f0dc-049c-42e5-8830-b905b214a6d2\" target=\"_top\" title=\"psysml:c747f0dc-049c-42e5-8830-b905b214a6d2\" xlink:actuate=\"onRequest\" xlink:href=\"psysml:c747f0dc-049c-42e5-8830-b905b214a6d2\" xlink:show=\"new\" xlink:title=\"psysml:c747f0dc-049c-42e5-8830-b905b214a6d2\" xlink:type=\"simple\"><rect fill=\"#FFFFFF\" height=\"45.9375\" id=\"E3\" rx=\"10\" ry=\"10\" style=\"stroke: #383838; stroke-width: 1.5;\" width=\"42\" x=\"133\" y=\"147\"/><text fill=\"#000000\" font-family=\"sans-serif\" font-size=\"12\" font-style=\"italic\" lengthAdjust=\"spacingAndGlyphs\" textLength=\"40\" x=\"134\" y=\"163.1387\">«part»</text><text fill=\"#000000\" font-family=\"sans-serif\" font-size=\"12\" lengthAdjust=\"spacingAndGlyphs\" textLength=\"8\" x=\"150\" y=\"177.1074\">a</text><line style=\"stroke: #383838; stroke-width: 1.5;\" x1=\"134\" x2=\"174\" y1=\"184.9375\" y2=\"184.9375\"/></a><!--MD5=[ebbe1d658d1005bcc118a6aa81145e00]\n",
       "class E4--><a href=\"psysml:1d5dfbac-e0d0-4dae-a20f-d178674246aa\" target=\"_top\" title=\"psysml:1d5dfbac-e0d0-4dae-a20f-d178674246aa\" xlink:actuate=\"onRequest\" xlink:href=\"psysml:1d5dfbac-e0d0-4dae-a20f-d178674246aa\" xlink:show=\"new\" xlink:title=\"psysml:1d5dfbac-e0d0-4dae-a20f-d178674246aa\" xlink:type=\"simple\"><rect fill=\"#FFFFFF\" height=\"45.9375\" id=\"E4\" style=\"stroke: #383838; stroke-width: 1.5;\" width=\"66\" x=\"32\" y=\"41\"/><text fill=\"#000000\" font-family=\"sans-serif\" font-size=\"12\" font-style=\"italic\" lengthAdjust=\"spacingAndGlyphs\" textLength=\"64\" x=\"33\" y=\"57.1387\">«part def»</text><text fill=\"#000000\" font-family=\"sans-serif\" font-size=\"12\" lengthAdjust=\"spacingAndGlyphs\" textLength=\"8\" x=\"61\" y=\"71.1074\">C</text><line style=\"stroke: #383838; stroke-width: 1.5;\" x1=\"33\" x2=\"97\" y1=\"78.9375\" y2=\"78.9375\"/></a><!--MD5=[270fce915f116d4de14055a7c1d9a0f3]\n",
       "class E5--><a href=\"psysml:31443893-624e-4834-b51f-adb4e581d804\" target=\"_top\" title=\"psysml:31443893-624e-4834-b51f-adb4e581d804\" xlink:actuate=\"onRequest\" xlink:href=\"psysml:31443893-624e-4834-b51f-adb4e581d804\" xlink:show=\"new\" xlink:title=\"psysml:31443893-624e-4834-b51f-adb4e581d804\" xlink:type=\"simple\"><rect fill=\"#FFFFFF\" height=\"45.9375\" id=\"E5\" rx=\"10\" ry=\"10\" style=\"stroke: #383838; stroke-width: 1.5;\" width=\"42\" x=\"44\" y=\"147\"/><text fill=\"#000000\" font-family=\"sans-serif\" font-size=\"12\" font-style=\"italic\" lengthAdjust=\"spacingAndGlyphs\" textLength=\"40\" x=\"45\" y=\"163.1387\">«part»</text><text fill=\"#000000\" font-family=\"sans-serif\" font-size=\"12\" lengthAdjust=\"spacingAndGlyphs\" textLength=\"8\" x=\"61\" y=\"177.1074\">g</text><line style=\"stroke: #383838; stroke-width: 1.5;\" x1=\"45\" x2=\"85\" y1=\"184.9375\" y2=\"184.9375\"/></a><!--MD5=[209b3feb70ccb6233bfe1053d122c12c]\n",
       "reverse link E2 to E3--><a href=\"psysml:144a9ea2-c14f-46d2-8ece-b06edd35cf79\" target=\"_top\" title=\"psysml:144a9ea2-c14f-46d2-8ece-b06edd35cf79\" xlink:actuate=\"onRequest\" xlink:href=\"psysml:144a9ea2-c14f-46d2-8ece-b06edd35cf79\" xlink:show=\"new\" xlink:title=\"psysml:144a9ea2-c14f-46d2-8ece-b06edd35cf79\" xlink:type=\"simple\"><path d=\"M154,100 C154,100 154,146.68 154,146.68 \" fill=\"none\" id=\"E2&lt;-E3\" style=\"stroke: #383838; stroke-width: 1.0;\"/><polygon fill=\"#383838\" points=\"154,87,150,93,154,99,158,93,154,87\" style=\"stroke: #383838; stroke-width: 1.0;\"/></a><!--MD5=[62aa6af11e70f752912c1cb0466f24f7]\n",
       "reverse link E4 to E5--><a href=\"psysml:ffd50afc-9abd-4dce-afc7-dff7922af1b1\" target=\"_top\" title=\"psysml:ffd50afc-9abd-4dce-afc7-dff7922af1b1\" xlink:actuate=\"onRequest\" xlink:href=\"psysml:ffd50afc-9abd-4dce-afc7-dff7922af1b1\" xlink:show=\"new\" xlink:title=\"psysml:ffd50afc-9abd-4dce-afc7-dff7922af1b1\" xlink:type=\"simple\"><path d=\"M65,100 C65,100 65,146.68 65,146.68 \" fill=\"none\" id=\"E4&lt;-E5\" style=\"stroke: #383838; stroke-width: 1.0;\"/><polygon fill=\"#383838\" points=\"65,87,61,93,65,99,69,93,65,87\" style=\"stroke: #383838; stroke-width: 1.0;\"/></a><!--MD5=[5edbf546fba0a708f8b5aba14f9121ea]\n",
       "@startuml\r\n",
       "skinparam linetype ortho\r\n",
       "skinparam monochrome true\r\n",
       "skinparam classbackgroundcolor white\r\n",
       "skinparam shadowing false\r\n",
       "skinparam wrapWidth 300\r\n",
       "hide circle\r\n",
       "\r\n",
       "package \"Q\" as E1  [[psysml:8fe83ee3-fcec-497a-a9db-5b3b84baea71 ]]  {\r\n",
       "comp usage \"f\" as E2  <<(T,blue)part>> [[psysml:c953ea8a-4e0b-4404-8471-1de142ee019c ]] {\r\n",
       "}\r\n",
       "comp usage \"a\" as E3  <<(T,blue)part>> [[psysml:c747f0dc-049c-42e5-8830-b905b214a6d2 ]] {\r\n",
       "}\r\n",
       "comp def \"C\" as E4  <<(T,blue)part def>> [[psysml:1d5dfbac-e0d0-4dae-a20f-d178674246aa ]] {\r\n",
       "}\r\n",
       "comp usage \"g\" as E5  <<(T,blue)part>> [[psysml:31443893-624e-4834-b51f-adb4e581d804 ]] {\r\n",
       "}\r\n",
       "E2 *- - E3 [[psysml:144a9ea2-c14f-46d2-8ece-b06edd35cf79 ]] \r\n",
       "E4 *- - E5 [[psysml:ffd50afc-9abd-4dce-afc7-dff7922af1b1 ]] \r\n",
       "}\r\n",
       "@enduml\r\n",
       "\n",
       "PlantUML version 1.2020.13(Sat Jun 13 12:26:38 UTC 2020)\n",
       "(EPL source distribution)\n",
       "Java Runtime: OpenJDK Runtime Environment\n",
       "JVM: OpenJDK 64-Bit Server VM\n",
       "Default Encoding: UTF-8\n",
       "Language: en\n",
       "Country: null\n",
       "--></g></svg>"
      ]
     },
     "execution_count": 52,
     "metadata": {},
     "output_type": "execute_result"
    }
   ],
   "source": [
    "%viz --style=\"ORTHOLINE\" --view=\"Tree\" \"Q\""
   ]
  },
  {
   "cell_type": "code",
   "execution_count": 53,
   "id": "4b6d9a2c",
   "metadata": {
    "execution": {
     "iopub.execute_input": "2021-04-20T07:21:53.688577Z",
     "iopub.status.busy": "2021-04-20T07:21:53.688215Z",
     "iopub.status.idle": "2021-04-20T07:21:53.693305Z",
     "shell.execute_reply": "2021-04-20T07:21:53.692544Z"
    }
   },
   "outputs": [
    {
     "data": {
      "image/svg+xml": [
       "<?xml version=\"1.0\" encoding=\"UTF-8\" standalone=\"no\"?><svg xmlns=\"http://www.w3.org/2000/svg\" xmlns:xlink=\"http://www.w3.org/1999/xlink\" contentScriptType=\"application/ecmascript\" contentStyleType=\"text/css\" height=\"12px\" preserveAspectRatio=\"none\" style=\"width:12px;height:12px;\" version=\"1.1\" viewBox=\"0 0 12 12\" width=\"12px\" zoomAndPan=\"magnify\"><defs/><g><!--MD5=[97d6f38768b311333d388e66b2b27985]\n",
       "@startuml\r\n",
       "skinparam linetype ortho\r\n",
       "skinparam monochrome true\r\n",
       "skinparam classbackgroundcolor white\r\n",
       "skinparam shadowing false\r\n",
       "skinparam wrapWidth 300\r\n",
       "hide circle\r\n",
       "\r\n",
       "@enduml\r\n",
       "\n",
       "PlantUML version 1.2020.13(Sat Jun 13 12:26:38 UTC 2020)\n",
       "(EPL source distribution)\n",
       "Java Runtime: OpenJDK Runtime Environment\n",
       "JVM: OpenJDK 64-Bit Server VM\n",
       "Default Encoding: UTF-8\n",
       "Language: en\n",
       "Country: null\n",
       "--></g></svg>"
      ]
     },
     "execution_count": 53,
     "metadata": {},
     "output_type": "execute_result"
    }
   ],
   "source": [
    "%viz --style=\"ORTHOLINE\" --view=\"State\" \"Q\""
   ]
  },
  {
   "cell_type": "code",
   "execution_count": 54,
   "id": "b58dff60",
   "metadata": {
    "execution": {
     "iopub.execute_input": "2021-04-20T07:21:53.744899Z",
     "iopub.status.busy": "2021-04-20T07:21:53.744529Z",
     "iopub.status.idle": "2021-04-20T07:21:53.772886Z",
     "shell.execute_reply": "2021-04-20T07:21:53.771205Z"
    }
   },
   "outputs": [
    {
     "data": {
      "image/svg+xml": [
       "<?xml version=\"1.0\" encoding=\"UTF-8\" standalone=\"no\"?><svg xmlns=\"http://www.w3.org/2000/svg\" xmlns:xlink=\"http://www.w3.org/1999/xlink\" contentScriptType=\"application/ecmascript\" contentStyleType=\"text/css\" height=\"192px\" preserveAspectRatio=\"none\" style=\"width:286px;height:192px;\" version=\"1.1\" viewBox=\"0 0 286 192\" width=\"286px\" zoomAndPan=\"magnify\"><defs/><g><!--MD5=[fbc87193dbaf4d95561dea2c320d4a47]\n",
       "cluster E1--><a href=\"psysml:8fe83ee3-fcec-497a-a9db-5b3b84baea71\" target=\"_top\" title=\"psysml:8fe83ee3-fcec-497a-a9db-5b3b84baea71\" xlink:actuate=\"onRequest\" xlink:href=\"psysml:8fe83ee3-fcec-497a-a9db-5b3b84baea71\" xlink:show=\"new\" xlink:title=\"psysml:8fe83ee3-fcec-497a-a9db-5b3b84baea71\" xlink:type=\"simple\"><polygon fill=\"#FFFFFF\" points=\"16,6,34,6,41,28.2969,264,28.2969,264,180,16,180,16,6\" style=\"stroke: #000000; stroke-width: 1.5;\"/><line style=\"stroke: #000000; stroke-width: 1.5;\" x1=\"16\" x2=\"41\" y1=\"28.2969\" y2=\"28.2969\"/><text fill=\"#000000\" font-family=\"sans-serif\" font-size=\"14\" font-weight=\"bold\" lengthAdjust=\"spacingAndGlyphs\" textLength=\"12\" x=\"20\" y=\"20.9951\">Q</text></a><!--MD5=[e4f7fae6ed58524ba242bb0b0d3be6b7]\n",
       "cluster E2--><a href=\"psysml:c953ea8a-4e0b-4404-8471-1de142ee019c\" target=\"_top\" title=\"psysml:c953ea8a-4e0b-4404-8471-1de142ee019c\" xlink:actuate=\"onRequest\" xlink:href=\"psysml:c953ea8a-4e0b-4404-8471-1de142ee019c\" xlink:show=\"new\" xlink:title=\"psysml:c953ea8a-4e0b-4404-8471-1de142ee019c\" xlink:type=\"simple\"><rect fill=\"#FFFFFF\" height=\"91\" id=\"E2\" rx=\"10\" ry=\"10\" style=\"stroke: #383838; stroke-width: 1.5;\" width=\"82\" x=\"158\" y=\"65\"/><rect fill=\"#F8F8F8\" height=\"23.9688\" rx=\"10\" ry=\"10\" style=\"stroke: #F8F8F8; stroke-width: 1.5;\" width=\"82\" x=\"158\" y=\"65\"/><rect fill=\"#F8F8F8\" height=\"10\" style=\"stroke: #F8F8F8; stroke-width: 1.5;\" width=\"82\" x=\"158\" y=\"78.9688\"/><rect fill=\"none\" height=\"91\" id=\"E2\" rx=\"10\" ry=\"10\" style=\"stroke: #383838; stroke-width: 1.5;\" width=\"82\" x=\"158\" y=\"65\"/><text fill=\"#000000\" font-family=\"sans-serif\" font-size=\"12\" lengthAdjust=\"spacingAndGlyphs\" textLength=\"4\" x=\"197\" y=\"81.1387\">f</text><line style=\"stroke: #383838; stroke-width: 1.0;\" x1=\"158\" x2=\"240\" y1=\"88.9688\" y2=\"88.9688\"/></a><!--MD5=[f6df4d0ebaf0b5dfb2ced0ae5af7c670]\n",
       "cluster E4--><a href=\"psysml:1d5dfbac-e0d0-4dae-a20f-d178674246aa\" target=\"_top\" title=\"psysml:1d5dfbac-e0d0-4dae-a20f-d178674246aa\" xlink:actuate=\"onRequest\" xlink:href=\"psysml:1d5dfbac-e0d0-4dae-a20f-d178674246aa\" xlink:show=\"new\" xlink:title=\"psysml:1d5dfbac-e0d0-4dae-a20f-d178674246aa\" xlink:type=\"simple\"><rect fill=\"#FFFFFF\" height=\"107\" id=\"E4\" style=\"stroke: #383838; stroke-width: 1.5;\" width=\"94\" x=\"40\" y=\"49\"/><rect fill=\"#F8F8F8\" height=\"37.9375\" style=\"stroke: #383838; stroke-width: 1.5;\" width=\"94\" x=\"40\" y=\"49\"/><text fill=\"#000000\" font-family=\"sans-serif\" font-size=\"12\" font-style=\"italic\" lengthAdjust=\"spacingAndGlyphs\" textLength=\"64\" x=\"55\" y=\"65.1387\">«part def»</text><text fill=\"#000000\" font-family=\"sans-serif\" font-size=\"12\" lengthAdjust=\"spacingAndGlyphs\" textLength=\"8\" x=\"83\" y=\"79.1074\">C</text></a><g id=\"E1.E2.E3\"><a href=\"psysml:c747f0dc-049c-42e5-8830-b905b214a6d2\" target=\"_top\" title=\"psysml:c747f0dc-049c-42e5-8830-b905b214a6d2\" xlink:actuate=\"onRequest\" xlink:href=\"psysml:c747f0dc-049c-42e5-8830-b905b214a6d2\" xlink:show=\"new\" xlink:title=\"psysml:c747f0dc-049c-42e5-8830-b905b214a6d2\" xlink:type=\"simple\"><rect fill=\"#FFFFFF\" height=\"40\" id=\"E3\" rx=\"10\" ry=\"10\" style=\"stroke: #383838; stroke-width: 1.5;\" width=\"50\" x=\"174\" y=\"100\"/><rect fill=\"#F8F8F8\" height=\"23.9688\" rx=\"10\" ry=\"10\" style=\"stroke: #F8F8F8; stroke-width: 1.5;\" width=\"50\" x=\"174\" y=\"100\"/><rect fill=\"#F8F8F8\" height=\"10\" style=\"stroke: #F8F8F8; stroke-width: 1.5;\" width=\"50\" x=\"174\" y=\"113.9688\"/><rect fill=\"none\" height=\"40\" id=\"E3\" rx=\"10\" ry=\"10\" style=\"stroke: #383838; stroke-width: 1.5;\" width=\"50\" x=\"174\" y=\"100\"/><text fill=\"#000000\" font-family=\"sans-serif\" font-size=\"12\" lengthAdjust=\"spacingAndGlyphs\" textLength=\"8\" x=\"195\" y=\"116.1387\">a</text></a></g><g id=\"E1.E4.E5\"><a href=\"psysml:31443893-624e-4834-b51f-adb4e581d804\" target=\"_top\" title=\"psysml:31443893-624e-4834-b51f-adb4e581d804\" xlink:actuate=\"onRequest\" xlink:href=\"psysml:31443893-624e-4834-b51f-adb4e581d804\" xlink:show=\"new\" xlink:title=\"psysml:31443893-624e-4834-b51f-adb4e581d804\" xlink:type=\"simple\"><rect fill=\"#FFFFFF\" height=\"40\" id=\"E5\" rx=\"10\" ry=\"10\" style=\"stroke: #383838; stroke-width: 1.5;\" width=\"61\" x=\"56.5\" y=\"100\"/><rect fill=\"#F8F8F8\" height=\"23.9688\" rx=\"10\" ry=\"10\" style=\"stroke: #F8F8F8; stroke-width: 1.5;\" width=\"61\" x=\"56.5\" y=\"100\"/><rect fill=\"#F8F8F8\" height=\"10\" style=\"stroke: #F8F8F8; stroke-width: 1.5;\" width=\"61\" x=\"56.5\" y=\"113.9688\"/><rect fill=\"none\" height=\"40\" id=\"E5\" rx=\"10\" ry=\"10\" style=\"stroke: #383838; stroke-width: 1.5;\" width=\"61\" x=\"56.5\" y=\"100\"/><text fill=\"#000000\" font-family=\"sans-serif\" font-size=\"12\" lengthAdjust=\"spacingAndGlyphs\" textLength=\"46\" x=\"62\" y=\"116.1387\">g=./f/a;</text></a></g><!--MD5=[443bc6a32945ff4f82fbbef54a247da9]\n",
       "@startuml\r\n",
       "skinparam ranksep 10\r\n",
       "skinparam rectangle {\r\n",
       " backgroundColor<<block>> LightGreen\r\n",
       "}\r\n",
       "skinparam linetype ortho\r\n",
       "skinparam monochrome true\r\n",
       "skinparam classbackgroundcolor white\r\n",
       "skinparam shadowing false\r\n",
       "skinparam wrapWidth 300\r\n",
       "hide circle\r\n",
       "\r\n",
       "package \"Q\" as E1  [[psysml:8fe83ee3-fcec-497a-a9db-5b3b84baea71 ]]  {\r\n",
       "rec usage \"f\" as E2  [[psysml:c953ea8a-4e0b-4404-8471-1de142ee019c ]] {\r\n",
       "rec usage \"a\" as E3  [[psysml:c747f0dc-049c-42e5-8830-b905b214a6d2 ]] {\r\n",
       "}\r\n",
       "}\r\n",
       "rec def \"C\" as E4  <<(T,blue)part def>> [[psysml:1d5dfbac-e0d0-4dae-a20f-d178674246aa ]] {\r\n",
       "rec usage \"g=./f/a; \" as E5  [[psysml:31443893-624e-4834-b51f-adb4e581d804 ]] {\r\n",
       "}\r\n",
       "}\r\n",
       "}\r\n",
       "@enduml\r\n",
       "\n",
       "PlantUML version 1.2020.13(Sat Jun 13 12:26:38 UTC 2020)\n",
       "(EPL source distribution)\n",
       "Java Runtime: OpenJDK Runtime Environment\n",
       "JVM: OpenJDK 64-Bit Server VM\n",
       "Default Encoding: UTF-8\n",
       "Language: en\n",
       "Country: null\n",
       "--></g></svg>"
      ]
     },
     "execution_count": 54,
     "metadata": {},
     "output_type": "execute_result"
    }
   ],
   "source": [
    "%viz --style=\"ORTHOLINE\" --view=\"Interconnection\" \"Q\""
   ]
  },
  {
   "cell_type": "code",
   "execution_count": 55,
   "id": "488d02b8",
   "metadata": {
    "execution": {
     "iopub.execute_input": "2021-04-20T07:21:53.825032Z",
     "iopub.status.busy": "2021-04-20T07:21:53.824547Z",
     "iopub.status.idle": "2021-04-20T07:21:53.831383Z",
     "shell.execute_reply": "2021-04-20T07:21:53.831052Z"
    }
   },
   "outputs": [
    {
     "data": {
      "image/svg+xml": [
       "<?xml version=\"1.0\" encoding=\"UTF-8\" standalone=\"no\"?><svg xmlns=\"http://www.w3.org/2000/svg\" xmlns:xlink=\"http://www.w3.org/1999/xlink\" contentScriptType=\"application/ecmascript\" contentStyleType=\"text/css\" height=\"12px\" preserveAspectRatio=\"none\" style=\"width:12px;height:12px;\" version=\"1.1\" viewBox=\"0 0 12 12\" width=\"12px\" zoomAndPan=\"magnify\"><defs/><g><!--MD5=[72934c63077099a26744516a776b4749]\n",
       "@startuml\r\n",
       "skinparam ranksep 8\r\n",
       "skinparam linetype ortho\r\n",
       "skinparam monochrome true\r\n",
       "skinparam classbackgroundcolor white\r\n",
       "skinparam shadowing false\r\n",
       "skinparam wrapWidth 300\r\n",
       "hide circle\r\n",
       "\r\n",
       "@enduml\r\n",
       "\n",
       "PlantUML version 1.2020.13(Sat Jun 13 12:26:38 UTC 2020)\n",
       "(EPL source distribution)\n",
       "Java Runtime: OpenJDK Runtime Environment\n",
       "JVM: OpenJDK 64-Bit Server VM\n",
       "Default Encoding: UTF-8\n",
       "Language: en\n",
       "Country: null\n",
       "--></g></svg>"
      ]
     },
     "execution_count": 55,
     "metadata": {},
     "output_type": "execute_result"
    }
   ],
   "source": [
    "%viz --style=\"ORTHOLINE\" --view=\"Action\" \"Q\""
   ]
  },
  {
   "cell_type": "code",
   "execution_count": 56,
   "id": "4595b3b6",
   "metadata": {
    "execution": {
     "iopub.execute_input": "2021-04-20T07:21:53.883357Z",
     "iopub.status.busy": "2021-04-20T07:21:53.882830Z",
     "iopub.status.idle": "2021-04-20T07:21:53.912139Z",
     "shell.execute_reply": "2021-04-20T07:21:53.911642Z"
    }
   },
   "outputs": [
    {
     "data": {
      "image/svg+xml": [
       "<?xml version=\"1.0\" encoding=\"UTF-8\" standalone=\"no\"?><svg xmlns=\"http://www.w3.org/2000/svg\" xmlns:xlink=\"http://www.w3.org/1999/xlink\" contentScriptType=\"application/ecmascript\" contentStyleType=\"text/css\" height=\"221px\" preserveAspectRatio=\"none\" style=\"width:213px;height:221px;\" version=\"1.1\" viewBox=\"0 0 213 221\" width=\"213px\" zoomAndPan=\"magnify\"><defs/><g><!--MD5=[fbc87193dbaf4d95561dea2c320d4a47]\n",
       "cluster E1--><a href=\"psysml:8fe83ee3-fcec-497a-a9db-5b3b84baea71\" target=\"_top\" title=\"psysml:8fe83ee3-fcec-497a-a9db-5b3b84baea71\" xlink:actuate=\"onRequest\" xlink:href=\"psysml:8fe83ee3-fcec-497a-a9db-5b3b84baea71\" xlink:show=\"new\" xlink:title=\"psysml:8fe83ee3-fcec-497a-a9db-5b3b84baea71\" xlink:type=\"simple\"><polygon fill=\"#FFFFFF\" points=\"16,6,34,6,41,28.2969,191,28.2969,191,209,16,209,16,6\" style=\"stroke: #000000; stroke-width: 1.5;\"/><line style=\"stroke: #000000; stroke-width: 1.5;\" x1=\"16\" x2=\"41\" y1=\"28.2969\" y2=\"28.2969\"/><text fill=\"#000000\" font-family=\"sans-serif\" font-size=\"14\" font-weight=\"bold\" lengthAdjust=\"spacingAndGlyphs\" textLength=\"12\" x=\"20\" y=\"20.9951\">Q</text></a><!--MD5=[b4997ac47864f28c2f74865a473b2911]\n",
       "class E2--><a href=\"psysml:c953ea8a-4e0b-4404-8471-1de142ee019c\" target=\"_top\" title=\"psysml:c953ea8a-4e0b-4404-8471-1de142ee019c\" xlink:actuate=\"onRequest\" xlink:href=\"psysml:c953ea8a-4e0b-4404-8471-1de142ee019c\" xlink:show=\"new\" xlink:title=\"psysml:c953ea8a-4e0b-4404-8471-1de142ee019c\" xlink:type=\"simple\"><rect fill=\"#FFFFFF\" height=\"45.9375\" id=\"E2\" rx=\"10\" ry=\"10\" style=\"stroke: #383838; stroke-width: 1.5;\" width=\"42\" x=\"133\" y=\"41\"/><text fill=\"#000000\" font-family=\"sans-serif\" font-size=\"12\" font-style=\"italic\" lengthAdjust=\"spacingAndGlyphs\" textLength=\"40\" x=\"134\" y=\"57.1387\">«part»</text><text fill=\"#000000\" font-family=\"sans-serif\" font-size=\"12\" lengthAdjust=\"spacingAndGlyphs\" textLength=\"4\" x=\"152\" y=\"71.1074\">f</text><line style=\"stroke: #383838; stroke-width: 1.5;\" x1=\"134\" x2=\"174\" y1=\"78.9375\" y2=\"78.9375\"/></a><!--MD5=[09b614a08d8cba4a07c9adeb5e0fee81]\n",
       "class E3--><a href=\"psysml:c747f0dc-049c-42e5-8830-b905b214a6d2\" target=\"_top\" title=\"psysml:c747f0dc-049c-42e5-8830-b905b214a6d2\" xlink:actuate=\"onRequest\" xlink:href=\"psysml:c747f0dc-049c-42e5-8830-b905b214a6d2\" xlink:show=\"new\" xlink:title=\"psysml:c747f0dc-049c-42e5-8830-b905b214a6d2\" xlink:type=\"simple\"><rect fill=\"#FFFFFF\" height=\"45.9375\" id=\"E3\" rx=\"10\" ry=\"10\" style=\"stroke: #383838; stroke-width: 1.5;\" width=\"42\" x=\"133\" y=\"147\"/><text fill=\"#000000\" font-family=\"sans-serif\" font-size=\"12\" font-style=\"italic\" lengthAdjust=\"spacingAndGlyphs\" textLength=\"40\" x=\"134\" y=\"163.1387\">«part»</text><text fill=\"#000000\" font-family=\"sans-serif\" font-size=\"12\" lengthAdjust=\"spacingAndGlyphs\" textLength=\"8\" x=\"150\" y=\"177.1074\">a</text><line style=\"stroke: #383838; stroke-width: 1.5;\" x1=\"134\" x2=\"174\" y1=\"184.9375\" y2=\"184.9375\"/></a><!--MD5=[ebbe1d658d1005bcc118a6aa81145e00]\n",
       "class E4--><a href=\"psysml:1d5dfbac-e0d0-4dae-a20f-d178674246aa\" target=\"_top\" title=\"psysml:1d5dfbac-e0d0-4dae-a20f-d178674246aa\" xlink:actuate=\"onRequest\" xlink:href=\"psysml:1d5dfbac-e0d0-4dae-a20f-d178674246aa\" xlink:show=\"new\" xlink:title=\"psysml:1d5dfbac-e0d0-4dae-a20f-d178674246aa\" xlink:type=\"simple\"><rect fill=\"#FFFFFF\" height=\"45.9375\" id=\"E4\" style=\"stroke: #383838; stroke-width: 1.5;\" width=\"66\" x=\"32\" y=\"41\"/><text fill=\"#000000\" font-family=\"sans-serif\" font-size=\"12\" font-style=\"italic\" lengthAdjust=\"spacingAndGlyphs\" textLength=\"64\" x=\"33\" y=\"57.1387\">«part def»</text><text fill=\"#000000\" font-family=\"sans-serif\" font-size=\"12\" lengthAdjust=\"spacingAndGlyphs\" textLength=\"8\" x=\"61\" y=\"71.1074\">C</text><line style=\"stroke: #383838; stroke-width: 1.5;\" x1=\"33\" x2=\"97\" y1=\"78.9375\" y2=\"78.9375\"/></a><!--MD5=[270fce915f116d4de14055a7c1d9a0f3]\n",
       "class E5--><a href=\"psysml:31443893-624e-4834-b51f-adb4e581d804\" target=\"_top\" title=\"psysml:31443893-624e-4834-b51f-adb4e581d804\" xlink:actuate=\"onRequest\" xlink:href=\"psysml:31443893-624e-4834-b51f-adb4e581d804\" xlink:show=\"new\" xlink:title=\"psysml:31443893-624e-4834-b51f-adb4e581d804\" xlink:type=\"simple\"><rect fill=\"#FFFFFF\" height=\"45.9375\" id=\"E5\" rx=\"10\" ry=\"10\" style=\"stroke: #383838; stroke-width: 1.5;\" width=\"42\" x=\"44\" y=\"147\"/><text fill=\"#000000\" font-family=\"sans-serif\" font-size=\"12\" font-style=\"italic\" lengthAdjust=\"spacingAndGlyphs\" textLength=\"40\" x=\"45\" y=\"163.1387\">«part»</text><text fill=\"#000000\" font-family=\"sans-serif\" font-size=\"12\" lengthAdjust=\"spacingAndGlyphs\" textLength=\"8\" x=\"61\" y=\"177.1074\">g</text><line style=\"stroke: #383838; stroke-width: 1.5;\" x1=\"45\" x2=\"85\" y1=\"184.9375\" y2=\"184.9375\"/></a><!--MD5=[209b3feb70ccb6233bfe1053d122c12c]\n",
       "reverse link E2 to E3--><a href=\"psysml:144a9ea2-c14f-46d2-8ece-b06edd35cf79\" target=\"_top\" title=\"psysml:144a9ea2-c14f-46d2-8ece-b06edd35cf79\" xlink:actuate=\"onRequest\" xlink:href=\"psysml:144a9ea2-c14f-46d2-8ece-b06edd35cf79\" xlink:show=\"new\" xlink:title=\"psysml:144a9ea2-c14f-46d2-8ece-b06edd35cf79\" xlink:type=\"simple\"><path d=\"M154,100 C154,100 154,146.68 154,146.68 \" fill=\"none\" id=\"E2&lt;-E3\" style=\"stroke: #383838; stroke-width: 1.0;\"/><polygon fill=\"#383838\" points=\"154,87,150,93,154,99,158,93,154,87\" style=\"stroke: #383838; stroke-width: 1.0;\"/></a><!--MD5=[62aa6af11e70f752912c1cb0466f24f7]\n",
       "reverse link E4 to E5--><a href=\"psysml:ffd50afc-9abd-4dce-afc7-dff7922af1b1\" target=\"_top\" title=\"psysml:ffd50afc-9abd-4dce-afc7-dff7922af1b1\" xlink:actuate=\"onRequest\" xlink:href=\"psysml:ffd50afc-9abd-4dce-afc7-dff7922af1b1\" xlink:show=\"new\" xlink:title=\"psysml:ffd50afc-9abd-4dce-afc7-dff7922af1b1\" xlink:type=\"simple\"><path d=\"M65,100 C65,100 65,146.68 65,146.68 \" fill=\"none\" id=\"E4&lt;-E5\" style=\"stroke: #383838; stroke-width: 1.0;\"/><polygon fill=\"#383838\" points=\"65,87,61,93,65,99,69,93,65,87\" style=\"stroke: #383838; stroke-width: 1.0;\"/></a><!--MD5=[5edbf546fba0a708f8b5aba14f9121ea]\n",
       "@startuml\r\n",
       "skinparam linetype ortho\r\n",
       "skinparam monochrome true\r\n",
       "skinparam classbackgroundcolor white\r\n",
       "skinparam shadowing false\r\n",
       "skinparam wrapWidth 300\r\n",
       "hide circle\r\n",
       "\r\n",
       "package \"Q\" as E1  [[psysml:8fe83ee3-fcec-497a-a9db-5b3b84baea71 ]]  {\r\n",
       "comp usage \"f\" as E2  <<(T,blue)part>> [[psysml:c953ea8a-4e0b-4404-8471-1de142ee019c ]] {\r\n",
       "}\r\n",
       "comp usage \"a\" as E3  <<(T,blue)part>> [[psysml:c747f0dc-049c-42e5-8830-b905b214a6d2 ]] {\r\n",
       "}\r\n",
       "comp def \"C\" as E4  <<(T,blue)part def>> [[psysml:1d5dfbac-e0d0-4dae-a20f-d178674246aa ]] {\r\n",
       "}\r\n",
       "comp usage \"g\" as E5  <<(T,blue)part>> [[psysml:31443893-624e-4834-b51f-adb4e581d804 ]] {\r\n",
       "}\r\n",
       "E2 *- - E3 [[psysml:144a9ea2-c14f-46d2-8ece-b06edd35cf79 ]] \r\n",
       "E4 *- - E5 [[psysml:ffd50afc-9abd-4dce-afc7-dff7922af1b1 ]] \r\n",
       "}\r\n",
       "@enduml\r\n",
       "\n",
       "PlantUML version 1.2020.13(Sat Jun 13 12:26:38 UTC 2020)\n",
       "(EPL source distribution)\n",
       "Java Runtime: OpenJDK Runtime Environment\n",
       "JVM: OpenJDK 64-Bit Server VM\n",
       "Default Encoding: UTF-8\n",
       "Language: en\n",
       "Country: null\n",
       "--></g></svg>"
      ]
     },
     "execution_count": 56,
     "metadata": {},
     "output_type": "execute_result"
    }
   ],
   "source": [
    "%viz --style=\"ORTHOLINE\" --view=\"Sequence\" \"Q\""
   ]
  },
  {
   "cell_type": "code",
   "execution_count": 57,
   "id": "76662ef9",
   "metadata": {
    "execution": {
     "iopub.execute_input": "2021-04-20T07:21:53.964302Z",
     "iopub.status.busy": "2021-04-20T07:21:53.963721Z",
     "iopub.status.idle": "2021-04-20T07:21:53.995524Z",
     "shell.execute_reply": "2021-04-20T07:21:53.994338Z"
    }
   },
   "outputs": [
    {
     "data": {
      "image/svg+xml": [
       "<?xml version=\"1.0\" encoding=\"UTF-8\" standalone=\"no\"?><svg xmlns=\"http://www.w3.org/2000/svg\" xmlns:xlink=\"http://www.w3.org/1999/xlink\" contentScriptType=\"application/ecmascript\" contentStyleType=\"text/css\" height=\"221px\" preserveAspectRatio=\"none\" style=\"width:213px;height:221px;\" version=\"1.1\" viewBox=\"0 0 213 221\" width=\"213px\" zoomAndPan=\"magnify\"><defs/><g><!--MD5=[fbc87193dbaf4d95561dea2c320d4a47]\n",
       "cluster E1--><a href=\"psysml:8fe83ee3-fcec-497a-a9db-5b3b84baea71\" target=\"_top\" title=\"psysml:8fe83ee3-fcec-497a-a9db-5b3b84baea71\" xlink:actuate=\"onRequest\" xlink:href=\"psysml:8fe83ee3-fcec-497a-a9db-5b3b84baea71\" xlink:show=\"new\" xlink:title=\"psysml:8fe83ee3-fcec-497a-a9db-5b3b84baea71\" xlink:type=\"simple\"><polygon fill=\"#FFFFFF\" points=\"16,6,34,6,41,28.2969,191,28.2969,191,209,16,209,16,6\" style=\"stroke: #000000; stroke-width: 1.5;\"/><line style=\"stroke: #000000; stroke-width: 1.5;\" x1=\"16\" x2=\"41\" y1=\"28.2969\" y2=\"28.2969\"/><text fill=\"#000000\" font-family=\"sans-serif\" font-size=\"14\" font-weight=\"bold\" lengthAdjust=\"spacingAndGlyphs\" textLength=\"12\" x=\"20\" y=\"20.9951\">Q</text></a><!--MD5=[b4997ac47864f28c2f74865a473b2911]\n",
       "class E2--><a href=\"psysml:c953ea8a-4e0b-4404-8471-1de142ee019c\" target=\"_top\" title=\"psysml:c953ea8a-4e0b-4404-8471-1de142ee019c\" xlink:actuate=\"onRequest\" xlink:href=\"psysml:c953ea8a-4e0b-4404-8471-1de142ee019c\" xlink:show=\"new\" xlink:title=\"psysml:c953ea8a-4e0b-4404-8471-1de142ee019c\" xlink:type=\"simple\"><rect fill=\"#FFFFFF\" height=\"45.9375\" id=\"E2\" rx=\"10\" ry=\"10\" style=\"stroke: #383838; stroke-width: 1.5;\" width=\"42\" x=\"133\" y=\"41\"/><text fill=\"#000000\" font-family=\"sans-serif\" font-size=\"12\" font-style=\"italic\" lengthAdjust=\"spacingAndGlyphs\" textLength=\"40\" x=\"134\" y=\"57.1387\">«part»</text><text fill=\"#000000\" font-family=\"sans-serif\" font-size=\"12\" lengthAdjust=\"spacingAndGlyphs\" textLength=\"4\" x=\"152\" y=\"71.1074\">f</text><line style=\"stroke: #383838; stroke-width: 1.5;\" x1=\"134\" x2=\"174\" y1=\"78.9375\" y2=\"78.9375\"/></a><!--MD5=[09b614a08d8cba4a07c9adeb5e0fee81]\n",
       "class E3--><a href=\"psysml:c747f0dc-049c-42e5-8830-b905b214a6d2\" target=\"_top\" title=\"psysml:c747f0dc-049c-42e5-8830-b905b214a6d2\" xlink:actuate=\"onRequest\" xlink:href=\"psysml:c747f0dc-049c-42e5-8830-b905b214a6d2\" xlink:show=\"new\" xlink:title=\"psysml:c747f0dc-049c-42e5-8830-b905b214a6d2\" xlink:type=\"simple\"><rect fill=\"#FFFFFF\" height=\"45.9375\" id=\"E3\" rx=\"10\" ry=\"10\" style=\"stroke: #383838; stroke-width: 1.5;\" width=\"42\" x=\"133\" y=\"147\"/><text fill=\"#000000\" font-family=\"sans-serif\" font-size=\"12\" font-style=\"italic\" lengthAdjust=\"spacingAndGlyphs\" textLength=\"40\" x=\"134\" y=\"163.1387\">«part»</text><text fill=\"#000000\" font-family=\"sans-serif\" font-size=\"12\" lengthAdjust=\"spacingAndGlyphs\" textLength=\"8\" x=\"150\" y=\"177.1074\">a</text><line style=\"stroke: #383838; stroke-width: 1.5;\" x1=\"134\" x2=\"174\" y1=\"184.9375\" y2=\"184.9375\"/></a><!--MD5=[ebbe1d658d1005bcc118a6aa81145e00]\n",
       "class E4--><a href=\"psysml:1d5dfbac-e0d0-4dae-a20f-d178674246aa\" target=\"_top\" title=\"psysml:1d5dfbac-e0d0-4dae-a20f-d178674246aa\" xlink:actuate=\"onRequest\" xlink:href=\"psysml:1d5dfbac-e0d0-4dae-a20f-d178674246aa\" xlink:show=\"new\" xlink:title=\"psysml:1d5dfbac-e0d0-4dae-a20f-d178674246aa\" xlink:type=\"simple\"><rect fill=\"#FFFFFF\" height=\"45.9375\" id=\"E4\" style=\"stroke: #383838; stroke-width: 1.5;\" width=\"66\" x=\"32\" y=\"41\"/><text fill=\"#000000\" font-family=\"sans-serif\" font-size=\"12\" font-style=\"italic\" lengthAdjust=\"spacingAndGlyphs\" textLength=\"64\" x=\"33\" y=\"57.1387\">«part def»</text><text fill=\"#000000\" font-family=\"sans-serif\" font-size=\"12\" lengthAdjust=\"spacingAndGlyphs\" textLength=\"8\" x=\"61\" y=\"71.1074\">C</text><line style=\"stroke: #383838; stroke-width: 1.5;\" x1=\"33\" x2=\"97\" y1=\"78.9375\" y2=\"78.9375\"/></a><!--MD5=[270fce915f116d4de14055a7c1d9a0f3]\n",
       "class E5--><a href=\"psysml:31443893-624e-4834-b51f-adb4e581d804\" target=\"_top\" title=\"psysml:31443893-624e-4834-b51f-adb4e581d804\" xlink:actuate=\"onRequest\" xlink:href=\"psysml:31443893-624e-4834-b51f-adb4e581d804\" xlink:show=\"new\" xlink:title=\"psysml:31443893-624e-4834-b51f-adb4e581d804\" xlink:type=\"simple\"><rect fill=\"#FFFFFF\" height=\"45.9375\" id=\"E5\" rx=\"10\" ry=\"10\" style=\"stroke: #383838; stroke-width: 1.5;\" width=\"42\" x=\"44\" y=\"147\"/><text fill=\"#000000\" font-family=\"sans-serif\" font-size=\"12\" font-style=\"italic\" lengthAdjust=\"spacingAndGlyphs\" textLength=\"40\" x=\"45\" y=\"163.1387\">«part»</text><text fill=\"#000000\" font-family=\"sans-serif\" font-size=\"12\" lengthAdjust=\"spacingAndGlyphs\" textLength=\"8\" x=\"61\" y=\"177.1074\">g</text><line style=\"stroke: #383838; stroke-width: 1.5;\" x1=\"45\" x2=\"85\" y1=\"184.9375\" y2=\"184.9375\"/></a><!--MD5=[209b3feb70ccb6233bfe1053d122c12c]\n",
       "reverse link E2 to E3--><a href=\"psysml:144a9ea2-c14f-46d2-8ece-b06edd35cf79\" target=\"_top\" title=\"psysml:144a9ea2-c14f-46d2-8ece-b06edd35cf79\" xlink:actuate=\"onRequest\" xlink:href=\"psysml:144a9ea2-c14f-46d2-8ece-b06edd35cf79\" xlink:show=\"new\" xlink:title=\"psysml:144a9ea2-c14f-46d2-8ece-b06edd35cf79\" xlink:type=\"simple\"><path d=\"M154,100 C154,100 154,146.68 154,146.68 \" fill=\"none\" id=\"E2&lt;-E3\" style=\"stroke: #383838; stroke-width: 1.0;\"/><polygon fill=\"#383838\" points=\"154,87,150,93,154,99,158,93,154,87\" style=\"stroke: #383838; stroke-width: 1.0;\"/></a><!--MD5=[62aa6af11e70f752912c1cb0466f24f7]\n",
       "reverse link E4 to E5--><a href=\"psysml:ffd50afc-9abd-4dce-afc7-dff7922af1b1\" target=\"_top\" title=\"psysml:ffd50afc-9abd-4dce-afc7-dff7922af1b1\" xlink:actuate=\"onRequest\" xlink:href=\"psysml:ffd50afc-9abd-4dce-afc7-dff7922af1b1\" xlink:show=\"new\" xlink:title=\"psysml:ffd50afc-9abd-4dce-afc7-dff7922af1b1\" xlink:type=\"simple\"><path d=\"M65,100 C65,100 65,146.68 65,146.68 \" fill=\"none\" id=\"E4&lt;-E5\" style=\"stroke: #383838; stroke-width: 1.0;\"/><polygon fill=\"#383838\" points=\"65,87,61,93,65,99,69,93,65,87\" style=\"stroke: #383838; stroke-width: 1.0;\"/></a><!--MD5=[5edbf546fba0a708f8b5aba14f9121ea]\n",
       "@startuml\r\n",
       "skinparam linetype ortho\r\n",
       "skinparam monochrome true\r\n",
       "skinparam classbackgroundcolor white\r\n",
       "skinparam shadowing false\r\n",
       "skinparam wrapWidth 300\r\n",
       "hide circle\r\n",
       "\r\n",
       "package \"Q\" as E1  [[psysml:8fe83ee3-fcec-497a-a9db-5b3b84baea71 ]]  {\r\n",
       "comp usage \"f\" as E2  <<(T,blue)part>> [[psysml:c953ea8a-4e0b-4404-8471-1de142ee019c ]] {\r\n",
       "}\r\n",
       "comp usage \"a\" as E3  <<(T,blue)part>> [[psysml:c747f0dc-049c-42e5-8830-b905b214a6d2 ]] {\r\n",
       "}\r\n",
       "comp def \"C\" as E4  <<(T,blue)part def>> [[psysml:1d5dfbac-e0d0-4dae-a20f-d178674246aa ]] {\r\n",
       "}\r\n",
       "comp usage \"g\" as E5  <<(T,blue)part>> [[psysml:31443893-624e-4834-b51f-adb4e581d804 ]] {\r\n",
       "}\r\n",
       "E2 *- - E3 [[psysml:144a9ea2-c14f-46d2-8ece-b06edd35cf79 ]] \r\n",
       "E4 *- - E5 [[psysml:ffd50afc-9abd-4dce-afc7-dff7922af1b1 ]] \r\n",
       "}\r\n",
       "@enduml\r\n",
       "\n",
       "PlantUML version 1.2020.13(Sat Jun 13 12:26:38 UTC 2020)\n",
       "(EPL source distribution)\n",
       "Java Runtime: OpenJDK Runtime Environment\n",
       "JVM: OpenJDK 64-Bit Server VM\n",
       "Default Encoding: UTF-8\n",
       "Language: en\n",
       "Country: null\n",
       "--></g></svg>"
      ]
     },
     "execution_count": 57,
     "metadata": {},
     "output_type": "execute_result"
    }
   ],
   "source": [
    "%viz --style=\"ORTHOLINE\" --view=\"MIXED\" \"Q\""
   ]
  }
 ],
 "metadata": {
  "kernelspec": {
   "display_name": "SysML",
   "language": "sysml",
   "name": "sysml"
  },
  "language_info": {
   "codemirror_mode": "sysml",
   "file_extension": ".sysml",
   "mimetype": "text/x-sysml",
   "name": "SysML",
   "pygments_lexer": "java",
   "version": "1.0.0"
  }
 },
 "nbformat": 4,
 "nbformat_minor": 5
}
