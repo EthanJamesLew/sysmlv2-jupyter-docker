{
 "cells": [
  {
   "cell_type": "markdown",
   "id": "709c9d06",
   "metadata": {},
   "source": [
    "# SysML v2 Test Suite\n",
    "\n",
    "This can notebook can be cleared using menu `Edit --> Clear All Outputs` and then all cells can be\n",
    "run using menu `Run --> Run All Cells`.\n",
    "\n",
    "**WARNING**: This file is generated, all modifications here will be ignored.\n"
   ]
  },
  {
   "cell_type": "markdown",
   "id": "b1c72afa",
   "metadata": {},
   "source": [
    "## File: ../../sysml/src/examples/Simple Tests/QPETest.sysml"
   ]
  },
  {
   "cell_type": "code",
   "execution_count": 1,
   "id": "52f3763b",
   "metadata": {
    "execution": {
     "iopub.execute_input": "2021-06-30T09:16:21.402605Z",
     "iopub.status.busy": "2021-06-30T09:16:21.397476Z",
     "iopub.status.idle": "2021-06-30T09:16:21.926879Z",
     "shell.execute_reply": "2021-06-30T09:16:21.924221Z"
    }
   },
   "outputs": [
    {
     "name": "stderr",
     "output_type": "stream",
     "text": [
      "ERROR:For input string: \".\" (1.sysml line : 6 column : 14)\n"
     ]
    },
    {
     "data": {
      "text/plain": []
     },
     "execution_count": 1,
     "metadata": {},
     "output_type": "execute_result"
    }
   ],
   "source": [
    "package Q {\n",
    "  part f {\n",
    "  \tpart a;\n",
    "  }\n",
    "  part def C {\n",
    "    part g = ./f/a; \n",
    "  }\n",
    "}\n"
   ]
  },
  {
   "cell_type": "code",
   "execution_count": 2,
   "id": "993d0b4f",
   "metadata": {
    "execution": {
     "iopub.execute_input": "2021-06-30T09:16:21.981273Z",
     "iopub.status.busy": "2021-06-30T09:16:21.980226Z",
     "iopub.status.idle": "2021-06-30T09:16:22.003077Z",
     "shell.execute_reply": "2021-06-30T09:16:22.002564Z"
    }
   },
   "outputs": [
    {
     "data": {
      "text/plain": [
       "ERROR:Couldn't resolve reference to Element 'Q'\n"
      ]
     },
     "execution_count": 2,
     "metadata": {},
     "output_type": "execute_result"
    }
   ],
   "source": [
    "%viz --style=\"COMPTREE\" --view=\"Default\" \"Q\""
   ]
  },
  {
   "cell_type": "code",
   "execution_count": 3,
   "id": "044c193c",
   "metadata": {
    "execution": {
     "iopub.execute_input": "2021-06-30T09:16:22.054579Z",
     "iopub.status.busy": "2021-06-30T09:16:22.053932Z",
     "iopub.status.idle": "2021-06-30T09:16:22.060930Z",
     "shell.execute_reply": "2021-06-30T09:16:22.059487Z"
    }
   },
   "outputs": [
    {
     "data": {
      "text/plain": [
       "ERROR:Couldn't resolve reference to Element 'Q'\n"
      ]
     },
     "execution_count": 3,
     "metadata": {},
     "output_type": "execute_result"
    }
   ],
   "source": [
    "%viz --style=\"COMPTREE\" --view=\"Tree\" \"Q\""
   ]
  },
  {
   "cell_type": "code",
   "execution_count": 4,
   "id": "77cc65df",
   "metadata": {
    "execution": {
     "iopub.execute_input": "2021-06-30T09:16:22.115963Z",
     "iopub.status.busy": "2021-06-30T09:16:22.114341Z",
     "iopub.status.idle": "2021-06-30T09:16:22.142220Z",
     "shell.execute_reply": "2021-06-30T09:16:22.139448Z"
    }
   },
   "outputs": [
    {
     "data": {
      "text/plain": [
       "ERROR:Couldn't resolve reference to Element 'Q'\n"
      ]
     },
     "execution_count": 4,
     "metadata": {},
     "output_type": "execute_result"
    }
   ],
   "source": [
    "%viz --style=\"COMPTREE\" --view=\"State\" \"Q\""
   ]
  },
  {
   "cell_type": "code",
   "execution_count": 5,
   "id": "5aff52a9",
   "metadata": {
    "execution": {
     "iopub.execute_input": "2021-06-30T09:16:22.191766Z",
     "iopub.status.busy": "2021-06-30T09:16:22.190559Z",
     "iopub.status.idle": "2021-06-30T09:16:22.195683Z",
     "shell.execute_reply": "2021-06-30T09:16:22.195044Z"
    }
   },
   "outputs": [
    {
     "data": {
      "text/plain": [
       "ERROR:Couldn't resolve reference to Element 'Q'\n"
      ]
     },
     "execution_count": 5,
     "metadata": {},
     "output_type": "execute_result"
    }
   ],
   "source": [
    "%viz --style=\"COMPTREE\" --view=\"Interconnection\" \"Q\""
   ]
  },
  {
   "cell_type": "code",
   "execution_count": 6,
   "id": "1dd4d180",
   "metadata": {
    "execution": {
     "iopub.execute_input": "2021-06-30T09:16:22.264857Z",
     "iopub.status.busy": "2021-06-30T09:16:22.263438Z",
     "iopub.status.idle": "2021-06-30T09:16:22.266323Z",
     "shell.execute_reply": "2021-06-30T09:16:22.264349Z"
    }
   },
   "outputs": [
    {
     "data": {
      "text/plain": [
       "ERROR:Couldn't resolve reference to Element 'Q'\n"
      ]
     },
     "execution_count": 6,
     "metadata": {},
     "output_type": "execute_result"
    }
   ],
   "source": [
    "%viz --style=\"COMPTREE\" --view=\"Action\" \"Q\""
   ]
  },
  {
   "cell_type": "code",
   "execution_count": 7,
   "id": "7608391d",
   "metadata": {
    "execution": {
     "iopub.execute_input": "2021-06-30T09:16:22.317135Z",
     "iopub.status.busy": "2021-06-30T09:16:22.316501Z",
     "iopub.status.idle": "2021-06-30T09:16:22.318938Z",
     "shell.execute_reply": "2021-06-30T09:16:22.317539Z"
    }
   },
   "outputs": [
    {
     "data": {
      "text/plain": [
       "ERROR:Couldn't resolve reference to Element 'Q'\n"
      ]
     },
     "execution_count": 7,
     "metadata": {},
     "output_type": "execute_result"
    }
   ],
   "source": [
    "%viz --style=\"COMPTREE\" --view=\"Sequence\" \"Q\""
   ]
  },
  {
   "cell_type": "code",
   "execution_count": 8,
   "id": "a51e623e",
   "metadata": {
    "execution": {
     "iopub.execute_input": "2021-06-30T09:16:22.369703Z",
     "iopub.status.busy": "2021-06-30T09:16:22.369188Z",
     "iopub.status.idle": "2021-06-30T09:16:22.371800Z",
     "shell.execute_reply": "2021-06-30T09:16:22.371413Z"
    }
   },
   "outputs": [
    {
     "data": {
      "text/plain": [
       "ERROR:Couldn't resolve reference to Element 'Q'\n"
      ]
     },
     "execution_count": 8,
     "metadata": {},
     "output_type": "execute_result"
    }
   ],
   "source": [
    "%viz --style=\"COMPTREE\" --view=\"MIXED\" \"Q\""
   ]
  },
  {
   "cell_type": "code",
   "execution_count": 9,
   "id": "d802f409",
   "metadata": {
    "execution": {
     "iopub.execute_input": "2021-06-30T09:16:22.429864Z",
     "iopub.status.busy": "2021-06-30T09:16:22.427643Z",
     "iopub.status.idle": "2021-06-30T09:16:22.436009Z",
     "shell.execute_reply": "2021-06-30T09:16:22.432369Z"
    }
   },
   "outputs": [
    {
     "data": {
      "text/plain": [
       "ERROR:Couldn't resolve reference to Element 'Q'\n"
      ]
     },
     "execution_count": 9,
     "metadata": {},
     "output_type": "execute_result"
    }
   ],
   "source": [
    "%viz --style=\"POLYLINE\" --view=\"Default\" \"Q\""
   ]
  },
  {
   "cell_type": "code",
   "execution_count": 10,
   "id": "bfe410a7",
   "metadata": {
    "execution": {
     "iopub.execute_input": "2021-06-30T09:16:22.483926Z",
     "iopub.status.busy": "2021-06-30T09:16:22.482589Z",
     "iopub.status.idle": "2021-06-30T09:16:22.486714Z",
     "shell.execute_reply": "2021-06-30T09:16:22.485944Z"
    }
   },
   "outputs": [
    {
     "data": {
      "text/plain": [
       "ERROR:Couldn't resolve reference to Element 'Q'\n"
      ]
     },
     "execution_count": 10,
     "metadata": {},
     "output_type": "execute_result"
    }
   ],
   "source": [
    "%viz --style=\"POLYLINE\" --view=\"Tree\" \"Q\""
   ]
  },
  {
   "cell_type": "code",
   "execution_count": 11,
   "id": "73ccb2eb",
   "metadata": {
    "execution": {
     "iopub.execute_input": "2021-06-30T09:16:22.543288Z",
     "iopub.status.busy": "2021-06-30T09:16:22.542392Z",
     "iopub.status.idle": "2021-06-30T09:16:22.546503Z",
     "shell.execute_reply": "2021-06-30T09:16:22.545630Z"
    }
   },
   "outputs": [
    {
     "data": {
      "text/plain": [
       "ERROR:Couldn't resolve reference to Element 'Q'\n"
      ]
     },
     "execution_count": 11,
     "metadata": {},
     "output_type": "execute_result"
    }
   ],
   "source": [
    "%viz --style=\"POLYLINE\" --view=\"State\" \"Q\""
   ]
  },
  {
   "cell_type": "code",
   "execution_count": 12,
   "id": "33243502",
   "metadata": {
    "execution": {
     "iopub.execute_input": "2021-06-30T09:16:22.600618Z",
     "iopub.status.busy": "2021-06-30T09:16:22.600128Z",
     "iopub.status.idle": "2021-06-30T09:16:22.603334Z",
     "shell.execute_reply": "2021-06-30T09:16:22.602773Z"
    }
   },
   "outputs": [
    {
     "data": {
      "text/plain": [
       "ERROR:Couldn't resolve reference to Element 'Q'\n"
      ]
     },
     "execution_count": 12,
     "metadata": {},
     "output_type": "execute_result"
    }
   ],
   "source": [
    "%viz --style=\"POLYLINE\" --view=\"Interconnection\" \"Q\""
   ]
  },
  {
   "cell_type": "code",
   "execution_count": 13,
   "id": "ee2c1fcd",
   "metadata": {
    "execution": {
     "iopub.execute_input": "2021-06-30T09:16:22.655240Z",
     "iopub.status.busy": "2021-06-30T09:16:22.654138Z",
     "iopub.status.idle": "2021-06-30T09:16:22.661296Z",
     "shell.execute_reply": "2021-06-30T09:16:22.660332Z"
    }
   },
   "outputs": [
    {
     "data": {
      "text/plain": [
       "ERROR:Couldn't resolve reference to Element 'Q'\n"
      ]
     },
     "execution_count": 13,
     "metadata": {},
     "output_type": "execute_result"
    }
   ],
   "source": [
    "%viz --style=\"POLYLINE\" --view=\"Action\" \"Q\""
   ]
  },
  {
   "cell_type": "code",
   "execution_count": 14,
   "id": "6d57dcef",
   "metadata": {
    "execution": {
     "iopub.execute_input": "2021-06-30T09:16:22.719412Z",
     "iopub.status.busy": "2021-06-30T09:16:22.718023Z",
     "iopub.status.idle": "2021-06-30T09:16:22.721788Z",
     "shell.execute_reply": "2021-06-30T09:16:22.720072Z"
    }
   },
   "outputs": [
    {
     "data": {
      "text/plain": [
       "ERROR:Couldn't resolve reference to Element 'Q'\n"
      ]
     },
     "execution_count": 14,
     "metadata": {},
     "output_type": "execute_result"
    }
   ],
   "source": [
    "%viz --style=\"POLYLINE\" --view=\"Sequence\" \"Q\""
   ]
  },
  {
   "cell_type": "code",
   "execution_count": 15,
   "id": "388e5374",
   "metadata": {
    "execution": {
     "iopub.execute_input": "2021-06-30T09:16:22.774617Z",
     "iopub.status.busy": "2021-06-30T09:16:22.772545Z",
     "iopub.status.idle": "2021-06-30T09:16:22.780176Z",
     "shell.execute_reply": "2021-06-30T09:16:22.778653Z"
    }
   },
   "outputs": [
    {
     "data": {
      "text/plain": [
       "ERROR:Couldn't resolve reference to Element 'Q'\n"
      ]
     },
     "execution_count": 15,
     "metadata": {},
     "output_type": "execute_result"
    }
   ],
   "source": [
    "%viz --style=\"POLYLINE\" --view=\"MIXED\" \"Q\""
   ]
  },
  {
   "cell_type": "code",
   "execution_count": 16,
   "id": "8281cd41",
   "metadata": {
    "execution": {
     "iopub.execute_input": "2021-06-30T09:16:22.832908Z",
     "iopub.status.busy": "2021-06-30T09:16:22.831843Z",
     "iopub.status.idle": "2021-06-30T09:16:22.836036Z",
     "shell.execute_reply": "2021-06-30T09:16:22.835202Z"
    }
   },
   "outputs": [
    {
     "data": {
      "text/plain": [
       "ERROR:Couldn't resolve reference to Element 'Q'\n"
      ]
     },
     "execution_count": 16,
     "metadata": {},
     "output_type": "execute_result"
    }
   ],
   "source": [
    "%viz --style=\"LR\" --view=\"Default\" \"Q\""
   ]
  },
  {
   "cell_type": "code",
   "execution_count": 17,
   "id": "c6e093f1",
   "metadata": {
    "execution": {
     "iopub.execute_input": "2021-06-30T09:16:22.893716Z",
     "iopub.status.busy": "2021-06-30T09:16:22.891879Z",
     "iopub.status.idle": "2021-06-30T09:16:22.895748Z",
     "shell.execute_reply": "2021-06-30T09:16:22.896377Z"
    }
   },
   "outputs": [
    {
     "data": {
      "text/plain": [
       "ERROR:Couldn't resolve reference to Element 'Q'\n"
      ]
     },
     "execution_count": 17,
     "metadata": {},
     "output_type": "execute_result"
    }
   ],
   "source": [
    "%viz --style=\"LR\" --view=\"Tree\" \"Q\""
   ]
  },
  {
   "cell_type": "code",
   "execution_count": 18,
   "id": "f89db792",
   "metadata": {
    "execution": {
     "iopub.execute_input": "2021-06-30T09:16:22.952640Z",
     "iopub.status.busy": "2021-06-30T09:16:22.950715Z",
     "iopub.status.idle": "2021-06-30T09:16:22.955312Z",
     "shell.execute_reply": "2021-06-30T09:16:22.954548Z"
    }
   },
   "outputs": [
    {
     "data": {
      "text/plain": [
       "ERROR:Couldn't resolve reference to Element 'Q'\n"
      ]
     },
     "execution_count": 18,
     "metadata": {},
     "output_type": "execute_result"
    }
   ],
   "source": [
    "%viz --style=\"LR\" --view=\"State\" \"Q\""
   ]
  },
  {
   "cell_type": "code",
   "execution_count": 19,
   "id": "8eef7b7b",
   "metadata": {
    "execution": {
     "iopub.execute_input": "2021-06-30T09:16:23.006265Z",
     "iopub.status.busy": "2021-06-30T09:16:23.005527Z",
     "iopub.status.idle": "2021-06-30T09:16:23.010012Z",
     "shell.execute_reply": "2021-06-30T09:16:23.009388Z"
    }
   },
   "outputs": [
    {
     "data": {
      "text/plain": [
       "ERROR:Couldn't resolve reference to Element 'Q'\n"
      ]
     },
     "execution_count": 19,
     "metadata": {},
     "output_type": "execute_result"
    }
   ],
   "source": [
    "%viz --style=\"LR\" --view=\"Interconnection\" \"Q\""
   ]
  },
  {
   "cell_type": "code",
   "execution_count": 20,
   "id": "95388858",
   "metadata": {
    "execution": {
     "iopub.execute_input": "2021-06-30T09:16:23.061706Z",
     "iopub.status.busy": "2021-06-30T09:16:23.060387Z",
     "iopub.status.idle": "2021-06-30T09:16:23.064979Z",
     "shell.execute_reply": "2021-06-30T09:16:23.064441Z"
    }
   },
   "outputs": [
    {
     "data": {
      "text/plain": [
       "ERROR:Couldn't resolve reference to Element 'Q'\n"
      ]
     },
     "execution_count": 20,
     "metadata": {},
     "output_type": "execute_result"
    }
   ],
   "source": [
    "%viz --style=\"LR\" --view=\"Action\" \"Q\""
   ]
  },
  {
   "cell_type": "code",
   "execution_count": 21,
   "id": "6cf3c617",
   "metadata": {
    "execution": {
     "iopub.execute_input": "2021-06-30T09:16:23.120424Z",
     "iopub.status.busy": "2021-06-30T09:16:23.119270Z",
     "iopub.status.idle": "2021-06-30T09:16:23.122673Z",
     "shell.execute_reply": "2021-06-30T09:16:23.122151Z"
    }
   },
   "outputs": [
    {
     "data": {
      "text/plain": [
       "ERROR:Couldn't resolve reference to Element 'Q'\n"
      ]
     },
     "execution_count": 21,
     "metadata": {},
     "output_type": "execute_result"
    }
   ],
   "source": [
    "%viz --style=\"LR\" --view=\"Sequence\" \"Q\""
   ]
  },
  {
   "cell_type": "code",
   "execution_count": 22,
   "id": "ae077d74",
   "metadata": {
    "execution": {
     "iopub.execute_input": "2021-06-30T09:16:23.174798Z",
     "iopub.status.busy": "2021-06-30T09:16:23.174009Z",
     "iopub.status.idle": "2021-06-30T09:16:23.179767Z",
     "shell.execute_reply": "2021-06-30T09:16:23.179181Z"
    }
   },
   "outputs": [
    {
     "data": {
      "text/plain": [
       "ERROR:Couldn't resolve reference to Element 'Q'\n"
      ]
     },
     "execution_count": 22,
     "metadata": {},
     "output_type": "execute_result"
    }
   ],
   "source": [
    "%viz --style=\"LR\" --view=\"MIXED\" \"Q\""
   ]
  },
  {
   "cell_type": "code",
   "execution_count": 23,
   "id": "ba769791",
   "metadata": {
    "execution": {
     "iopub.execute_input": "2021-06-30T09:16:23.231228Z",
     "iopub.status.busy": "2021-06-30T09:16:23.229906Z",
     "iopub.status.idle": "2021-06-30T09:16:23.233059Z",
     "shell.execute_reply": "2021-06-30T09:16:23.231689Z"
    }
   },
   "outputs": [
    {
     "data": {
      "text/plain": [
       "ERROR:Couldn't resolve reference to Element 'Q'\n"
      ]
     },
     "execution_count": 23,
     "metadata": {},
     "output_type": "execute_result"
    }
   ],
   "source": [
    "%viz --style=\"STDCOLOR\" --view=\"Default\" \"Q\""
   ]
  },
  {
   "cell_type": "code",
   "execution_count": 24,
   "id": "66ae5090",
   "metadata": {
    "execution": {
     "iopub.execute_input": "2021-06-30T09:16:23.285341Z",
     "iopub.status.busy": "2021-06-30T09:16:23.284390Z",
     "iopub.status.idle": "2021-06-30T09:16:23.287579Z",
     "shell.execute_reply": "2021-06-30T09:16:23.287081Z"
    }
   },
   "outputs": [
    {
     "data": {
      "text/plain": [
       "ERROR:Couldn't resolve reference to Element 'Q'\n"
      ]
     },
     "execution_count": 24,
     "metadata": {},
     "output_type": "execute_result"
    }
   ],
   "source": [
    "%viz --style=\"STDCOLOR\" --view=\"Tree\" \"Q\""
   ]
  },
  {
   "cell_type": "code",
   "execution_count": 25,
   "id": "ef7968b2",
   "metadata": {
    "execution": {
     "iopub.execute_input": "2021-06-30T09:16:23.340857Z",
     "iopub.status.busy": "2021-06-30T09:16:23.339991Z",
     "iopub.status.idle": "2021-06-30T09:16:23.342772Z",
     "shell.execute_reply": "2021-06-30T09:16:23.342344Z"
    }
   },
   "outputs": [
    {
     "data": {
      "text/plain": [
       "ERROR:Couldn't resolve reference to Element 'Q'\n"
      ]
     },
     "execution_count": 25,
     "metadata": {},
     "output_type": "execute_result"
    }
   ],
   "source": [
    "%viz --style=\"STDCOLOR\" --view=\"State\" \"Q\""
   ]
  },
  {
   "cell_type": "code",
   "execution_count": 26,
   "id": "c3c68018",
   "metadata": {
    "execution": {
     "iopub.execute_input": "2021-06-30T09:16:23.396093Z",
     "iopub.status.busy": "2021-06-30T09:16:23.395380Z",
     "iopub.status.idle": "2021-06-30T09:16:23.399572Z",
     "shell.execute_reply": "2021-06-30T09:16:23.399134Z"
    }
   },
   "outputs": [
    {
     "data": {
      "text/plain": [
       "ERROR:Couldn't resolve reference to Element 'Q'\n"
      ]
     },
     "execution_count": 26,
     "metadata": {},
     "output_type": "execute_result"
    }
   ],
   "source": [
    "%viz --style=\"STDCOLOR\" --view=\"Interconnection\" \"Q\""
   ]
  },
  {
   "cell_type": "code",
   "execution_count": 27,
   "id": "0c24f7cb",
   "metadata": {
    "execution": {
     "iopub.execute_input": "2021-06-30T09:16:23.449389Z",
     "iopub.status.busy": "2021-06-30T09:16:23.448493Z",
     "iopub.status.idle": "2021-06-30T09:16:23.451350Z",
     "shell.execute_reply": "2021-06-30T09:16:23.450900Z"
    }
   },
   "outputs": [
    {
     "data": {
      "text/plain": [
       "ERROR:Couldn't resolve reference to Element 'Q'\n"
      ]
     },
     "execution_count": 27,
     "metadata": {},
     "output_type": "execute_result"
    }
   ],
   "source": [
    "%viz --style=\"STDCOLOR\" --view=\"Action\" \"Q\""
   ]
  },
  {
   "cell_type": "code",
   "execution_count": 28,
   "id": "f8890c83",
   "metadata": {
    "execution": {
     "iopub.execute_input": "2021-06-30T09:16:23.503666Z",
     "iopub.status.busy": "2021-06-30T09:16:23.502994Z",
     "iopub.status.idle": "2021-06-30T09:16:23.505309Z",
     "shell.execute_reply": "2021-06-30T09:16:23.504885Z"
    }
   },
   "outputs": [
    {
     "data": {
      "text/plain": [
       "ERROR:Couldn't resolve reference to Element 'Q'\n"
      ]
     },
     "execution_count": 28,
     "metadata": {},
     "output_type": "execute_result"
    }
   ],
   "source": [
    "%viz --style=\"STDCOLOR\" --view=\"Sequence\" \"Q\""
   ]
  },
  {
   "cell_type": "code",
   "execution_count": 29,
   "id": "b4cd7287",
   "metadata": {
    "execution": {
     "iopub.execute_input": "2021-06-30T09:16:23.559289Z",
     "iopub.status.busy": "2021-06-30T09:16:23.558476Z",
     "iopub.status.idle": "2021-06-30T09:16:23.561271Z",
     "shell.execute_reply": "2021-06-30T09:16:23.560794Z"
    }
   },
   "outputs": [
    {
     "data": {
      "text/plain": [
       "ERROR:Couldn't resolve reference to Element 'Q'\n"
      ]
     },
     "execution_count": 29,
     "metadata": {},
     "output_type": "execute_result"
    }
   ],
   "source": [
    "%viz --style=\"STDCOLOR\" --view=\"MIXED\" \"Q\""
   ]
  },
  {
   "cell_type": "code",
   "execution_count": 30,
   "id": "e2c3caa9",
   "metadata": {
    "execution": {
     "iopub.execute_input": "2021-06-30T09:16:23.614597Z",
     "iopub.status.busy": "2021-06-30T09:16:23.613608Z",
     "iopub.status.idle": "2021-06-30T09:16:23.616456Z",
     "shell.execute_reply": "2021-06-30T09:16:23.616025Z"
    }
   },
   "outputs": [
    {
     "data": {
      "text/plain": [
       "ERROR:Couldn't resolve reference to Element 'Q'\n"
      ]
     },
     "execution_count": 30,
     "metadata": {},
     "output_type": "execute_result"
    }
   ],
   "source": [
    "%viz --style=\"PLANTUML\" --view=\"Default\" \"Q\""
   ]
  },
  {
   "cell_type": "code",
   "execution_count": 31,
   "id": "fd1b2391",
   "metadata": {
    "execution": {
     "iopub.execute_input": "2021-06-30T09:16:23.668011Z",
     "iopub.status.busy": "2021-06-30T09:16:23.667327Z",
     "iopub.status.idle": "2021-06-30T09:16:23.670165Z",
     "shell.execute_reply": "2021-06-30T09:16:23.669647Z"
    }
   },
   "outputs": [
    {
     "data": {
      "text/plain": [
       "ERROR:Couldn't resolve reference to Element 'Q'\n"
      ]
     },
     "execution_count": 31,
     "metadata": {},
     "output_type": "execute_result"
    }
   ],
   "source": [
    "%viz --style=\"PLANTUML\" --view=\"Tree\" \"Q\""
   ]
  },
  {
   "cell_type": "code",
   "execution_count": 32,
   "id": "e77b309a",
   "metadata": {
    "execution": {
     "iopub.execute_input": "2021-06-30T09:16:23.725198Z",
     "iopub.status.busy": "2021-06-30T09:16:23.723605Z",
     "iopub.status.idle": "2021-06-30T09:16:23.727963Z",
     "shell.execute_reply": "2021-06-30T09:16:23.727491Z"
    }
   },
   "outputs": [
    {
     "data": {
      "text/plain": [
       "ERROR:Couldn't resolve reference to Element 'Q'\n"
      ]
     },
     "execution_count": 32,
     "metadata": {},
     "output_type": "execute_result"
    }
   ],
   "source": [
    "%viz --style=\"PLANTUML\" --view=\"State\" \"Q\""
   ]
  },
  {
   "cell_type": "code",
   "execution_count": 33,
   "id": "655c36ae",
   "metadata": {
    "execution": {
     "iopub.execute_input": "2021-06-30T09:16:23.782676Z",
     "iopub.status.busy": "2021-06-30T09:16:23.780759Z",
     "iopub.status.idle": "2021-06-30T09:16:23.786441Z",
     "shell.execute_reply": "2021-06-30T09:16:23.785823Z"
    }
   },
   "outputs": [
    {
     "data": {
      "text/plain": [
       "ERROR:Couldn't resolve reference to Element 'Q'\n"
      ]
     },
     "execution_count": 33,
     "metadata": {},
     "output_type": "execute_result"
    }
   ],
   "source": [
    "%viz --style=\"PLANTUML\" --view=\"Interconnection\" \"Q\""
   ]
  },
  {
   "cell_type": "code",
   "execution_count": 34,
   "id": "303a77c4",
   "metadata": {
    "execution": {
     "iopub.execute_input": "2021-06-30T09:16:23.839037Z",
     "iopub.status.busy": "2021-06-30T09:16:23.837952Z",
     "iopub.status.idle": "2021-06-30T09:16:23.841499Z",
     "shell.execute_reply": "2021-06-30T09:16:23.840945Z"
    }
   },
   "outputs": [
    {
     "data": {
      "text/plain": [
       "ERROR:Couldn't resolve reference to Element 'Q'\n"
      ]
     },
     "execution_count": 34,
     "metadata": {},
     "output_type": "execute_result"
    }
   ],
   "source": [
    "%viz --style=\"PLANTUML\" --view=\"Action\" \"Q\""
   ]
  },
  {
   "cell_type": "code",
   "execution_count": 35,
   "id": "3f99da06",
   "metadata": {
    "execution": {
     "iopub.execute_input": "2021-06-30T09:16:23.894561Z",
     "iopub.status.busy": "2021-06-30T09:16:23.893894Z",
     "iopub.status.idle": "2021-06-30T09:16:23.896361Z",
     "shell.execute_reply": "2021-06-30T09:16:23.895933Z"
    }
   },
   "outputs": [
    {
     "data": {
      "text/plain": [
       "ERROR:Couldn't resolve reference to Element 'Q'\n"
      ]
     },
     "execution_count": 35,
     "metadata": {},
     "output_type": "execute_result"
    }
   ],
   "source": [
    "%viz --style=\"PLANTUML\" --view=\"Sequence\" \"Q\""
   ]
  },
  {
   "cell_type": "code",
   "execution_count": 36,
   "id": "80a2a845",
   "metadata": {
    "execution": {
     "iopub.execute_input": "2021-06-30T09:16:23.947774Z",
     "iopub.status.busy": "2021-06-30T09:16:23.947116Z",
     "iopub.status.idle": "2021-06-30T09:16:23.949448Z",
     "shell.execute_reply": "2021-06-30T09:16:23.948275Z"
    }
   },
   "outputs": [
    {
     "data": {
      "text/plain": [
       "ERROR:Couldn't resolve reference to Element 'Q'\n"
      ]
     },
     "execution_count": 36,
     "metadata": {},
     "output_type": "execute_result"
    }
   ],
   "source": [
    "%viz --style=\"PLANTUML\" --view=\"MIXED\" \"Q\""
   ]
  },
  {
   "cell_type": "code",
   "execution_count": 37,
   "id": "06bdcb65",
   "metadata": {
    "execution": {
     "iopub.execute_input": "2021-06-30T09:16:24.001759Z",
     "iopub.status.busy": "2021-06-30T09:16:24.001021Z",
     "iopub.status.idle": "2021-06-30T09:16:24.003758Z",
     "shell.execute_reply": "2021-06-30T09:16:24.002273Z"
    }
   },
   "outputs": [
    {
     "data": {
      "text/plain": [
       "ERROR:Couldn't resolve reference to Element 'Q'\n"
      ]
     },
     "execution_count": 37,
     "metadata": {},
     "output_type": "execute_result"
    }
   ],
   "source": [
    "%viz --style=\"DEFAULT\" --view=\"Default\" \"Q\""
   ]
  },
  {
   "cell_type": "code",
   "execution_count": 38,
   "id": "5d9520c8",
   "metadata": {
    "execution": {
     "iopub.execute_input": "2021-06-30T09:16:24.058064Z",
     "iopub.status.busy": "2021-06-30T09:16:24.056999Z",
     "iopub.status.idle": "2021-06-30T09:16:24.059589Z",
     "shell.execute_reply": "2021-06-30T09:16:24.058440Z"
    }
   },
   "outputs": [
    {
     "data": {
      "text/plain": [
       "ERROR:Couldn't resolve reference to Element 'Q'\n"
      ]
     },
     "execution_count": 38,
     "metadata": {},
     "output_type": "execute_result"
    }
   ],
   "source": [
    "%viz --style=\"DEFAULT\" --view=\"Tree\" \"Q\""
   ]
  },
  {
   "cell_type": "code",
   "execution_count": 39,
   "id": "71358c8a",
   "metadata": {
    "execution": {
     "iopub.execute_input": "2021-06-30T09:16:24.113457Z",
     "iopub.status.busy": "2021-06-30T09:16:24.112146Z",
     "iopub.status.idle": "2021-06-30T09:16:24.116042Z",
     "shell.execute_reply": "2021-06-30T09:16:24.114296Z"
    }
   },
   "outputs": [
    {
     "data": {
      "text/plain": [
       "ERROR:Couldn't resolve reference to Element 'Q'\n"
      ]
     },
     "execution_count": 39,
     "metadata": {},
     "output_type": "execute_result"
    }
   ],
   "source": [
    "%viz --style=\"DEFAULT\" --view=\"State\" \"Q\""
   ]
  },
  {
   "cell_type": "code",
   "execution_count": 40,
   "id": "8dd83cc8",
   "metadata": {
    "execution": {
     "iopub.execute_input": "2021-06-30T09:16:24.169139Z",
     "iopub.status.busy": "2021-06-30T09:16:24.168229Z",
     "iopub.status.idle": "2021-06-30T09:16:24.172809Z",
     "shell.execute_reply": "2021-06-30T09:16:24.172295Z"
    }
   },
   "outputs": [
    {
     "data": {
      "text/plain": [
       "ERROR:Couldn't resolve reference to Element 'Q'\n"
      ]
     },
     "execution_count": 40,
     "metadata": {},
     "output_type": "execute_result"
    }
   ],
   "source": [
    "%viz --style=\"DEFAULT\" --view=\"Interconnection\" \"Q\""
   ]
  },
  {
   "cell_type": "code",
   "execution_count": 41,
   "id": "bda42052",
   "metadata": {
    "execution": {
     "iopub.execute_input": "2021-06-30T09:16:24.224256Z",
     "iopub.status.busy": "2021-06-30T09:16:24.223114Z",
     "iopub.status.idle": "2021-06-30T09:16:24.227319Z",
     "shell.execute_reply": "2021-06-30T09:16:24.227866Z"
    }
   },
   "outputs": [
    {
     "data": {
      "text/plain": [
       "ERROR:Couldn't resolve reference to Element 'Q'\n"
      ]
     },
     "execution_count": 41,
     "metadata": {},
     "output_type": "execute_result"
    }
   ],
   "source": [
    "%viz --style=\"DEFAULT\" --view=\"Action\" \"Q\""
   ]
  },
  {
   "cell_type": "code",
   "execution_count": 42,
   "id": "abcea255",
   "metadata": {
    "execution": {
     "iopub.execute_input": "2021-06-30T09:16:24.277196Z",
     "iopub.status.busy": "2021-06-30T09:16:24.276386Z",
     "iopub.status.idle": "2021-06-30T09:16:24.278316Z",
     "shell.execute_reply": "2021-06-30T09:16:24.276757Z"
    }
   },
   "outputs": [
    {
     "data": {
      "text/plain": [
       "ERROR:Couldn't resolve reference to Element 'Q'\n"
      ]
     },
     "execution_count": 42,
     "metadata": {},
     "output_type": "execute_result"
    }
   ],
   "source": [
    "%viz --style=\"DEFAULT\" --view=\"Sequence\" \"Q\""
   ]
  },
  {
   "cell_type": "code",
   "execution_count": 43,
   "id": "32db37ba",
   "metadata": {
    "execution": {
     "iopub.execute_input": "2021-06-30T09:16:24.329976Z",
     "iopub.status.busy": "2021-06-30T09:16:24.329352Z",
     "iopub.status.idle": "2021-06-30T09:16:24.331496Z",
     "shell.execute_reply": "2021-06-30T09:16:24.330402Z"
    }
   },
   "outputs": [
    {
     "data": {
      "text/plain": [
       "ERROR:Couldn't resolve reference to Element 'Q'\n"
      ]
     },
     "execution_count": 43,
     "metadata": {},
     "output_type": "execute_result"
    }
   ],
   "source": [
    "%viz --style=\"DEFAULT\" --view=\"MIXED\" \"Q\""
   ]
  },
  {
   "cell_type": "code",
   "execution_count": 44,
   "id": "054abff5",
   "metadata": {
    "execution": {
     "iopub.execute_input": "2021-06-30T09:16:24.383477Z",
     "iopub.status.busy": "2021-06-30T09:16:24.382621Z",
     "iopub.status.idle": "2021-06-30T09:16:24.385021Z",
     "shell.execute_reply": "2021-06-30T09:16:24.383865Z"
    }
   },
   "outputs": [
    {
     "data": {
      "text/plain": [
       "ERROR:Couldn't resolve reference to Element 'Q'\n"
      ]
     },
     "execution_count": 44,
     "metadata": {},
     "output_type": "execute_result"
    }
   ],
   "source": [
    "%viz --style=\"TB\" --view=\"Default\" \"Q\""
   ]
  },
  {
   "cell_type": "code",
   "execution_count": 45,
   "id": "0830cc66",
   "metadata": {
    "execution": {
     "iopub.execute_input": "2021-06-30T09:16:24.438517Z",
     "iopub.status.busy": "2021-06-30T09:16:24.437890Z",
     "iopub.status.idle": "2021-06-30T09:16:24.439953Z",
     "shell.execute_reply": "2021-06-30T09:16:24.438884Z"
    }
   },
   "outputs": [
    {
     "data": {
      "text/plain": [
       "ERROR:Couldn't resolve reference to Element 'Q'\n"
      ]
     },
     "execution_count": 45,
     "metadata": {},
     "output_type": "execute_result"
    }
   ],
   "source": [
    "%viz --style=\"TB\" --view=\"Tree\" \"Q\""
   ]
  },
  {
   "cell_type": "code",
   "execution_count": 46,
   "id": "5fd975f0",
   "metadata": {
    "execution": {
     "iopub.execute_input": "2021-06-30T09:16:24.495783Z",
     "iopub.status.busy": "2021-06-30T09:16:24.494282Z",
     "iopub.status.idle": "2021-06-30T09:16:24.498251Z",
     "shell.execute_reply": "2021-06-30T09:16:24.496491Z"
    }
   },
   "outputs": [
    {
     "data": {
      "text/plain": [
       "ERROR:Couldn't resolve reference to Element 'Q'\n"
      ]
     },
     "execution_count": 46,
     "metadata": {},
     "output_type": "execute_result"
    }
   ],
   "source": [
    "%viz --style=\"TB\" --view=\"State\" \"Q\""
   ]
  },
  {
   "cell_type": "code",
   "execution_count": 47,
   "id": "e626001c",
   "metadata": {
    "execution": {
     "iopub.execute_input": "2021-06-30T09:16:24.547979Z",
     "iopub.status.busy": "2021-06-30T09:16:24.547342Z",
     "iopub.status.idle": "2021-06-30T09:16:24.549483Z",
     "shell.execute_reply": "2021-06-30T09:16:24.548371Z"
    }
   },
   "outputs": [
    {
     "data": {
      "text/plain": [
       "ERROR:Couldn't resolve reference to Element 'Q'\n"
      ]
     },
     "execution_count": 47,
     "metadata": {},
     "output_type": "execute_result"
    }
   ],
   "source": [
    "%viz --style=\"TB\" --view=\"Interconnection\" \"Q\""
   ]
  },
  {
   "cell_type": "code",
   "execution_count": 48,
   "id": "a9983989",
   "metadata": {
    "execution": {
     "iopub.execute_input": "2021-06-30T09:16:24.600987Z",
     "iopub.status.busy": "2021-06-30T09:16:24.600236Z",
     "iopub.status.idle": "2021-06-30T09:16:24.602597Z",
     "shell.execute_reply": "2021-06-30T09:16:24.601491Z"
    }
   },
   "outputs": [
    {
     "data": {
      "text/plain": [
       "ERROR:Couldn't resolve reference to Element 'Q'\n"
      ]
     },
     "execution_count": 48,
     "metadata": {},
     "output_type": "execute_result"
    }
   ],
   "source": [
    "%viz --style=\"TB\" --view=\"Action\" \"Q\""
   ]
  },
  {
   "cell_type": "code",
   "execution_count": 49,
   "id": "8dde7059",
   "metadata": {
    "execution": {
     "iopub.execute_input": "2021-06-30T09:16:24.653891Z",
     "iopub.status.busy": "2021-06-30T09:16:24.653294Z",
     "iopub.status.idle": "2021-06-30T09:16:24.655376Z",
     "shell.execute_reply": "2021-06-30T09:16:24.654280Z"
    }
   },
   "outputs": [
    {
     "data": {
      "text/plain": [
       "ERROR:Couldn't resolve reference to Element 'Q'\n"
      ]
     },
     "execution_count": 49,
     "metadata": {},
     "output_type": "execute_result"
    }
   ],
   "source": [
    "%viz --style=\"TB\" --view=\"Sequence\" \"Q\""
   ]
  },
  {
   "cell_type": "code",
   "execution_count": 50,
   "id": "6192c42f",
   "metadata": {
    "execution": {
     "iopub.execute_input": "2021-06-30T09:16:24.707501Z",
     "iopub.status.busy": "2021-06-30T09:16:24.706891Z",
     "iopub.status.idle": "2021-06-30T09:16:24.709461Z",
     "shell.execute_reply": "2021-06-30T09:16:24.707920Z"
    }
   },
   "outputs": [
    {
     "data": {
      "text/plain": [
       "ERROR:Couldn't resolve reference to Element 'Q'\n"
      ]
     },
     "execution_count": 50,
     "metadata": {},
     "output_type": "execute_result"
    }
   ],
   "source": [
    "%viz --style=\"TB\" --view=\"MIXED\" \"Q\""
   ]
  },
  {
   "cell_type": "code",
   "execution_count": 51,
   "id": "368fc89d",
   "metadata": {
    "execution": {
     "iopub.execute_input": "2021-06-30T09:16:24.760333Z",
     "iopub.status.busy": "2021-06-30T09:16:24.759612Z",
     "iopub.status.idle": "2021-06-30T09:16:24.761792Z",
     "shell.execute_reply": "2021-06-30T09:16:24.760711Z"
    }
   },
   "outputs": [
    {
     "data": {
      "text/plain": [
       "ERROR:Couldn't resolve reference to Element 'Q'\n"
      ]
     },
     "execution_count": 51,
     "metadata": {},
     "output_type": "execute_result"
    }
   ],
   "source": [
    "%viz --style=\"ORTHOLINE\" --view=\"Default\" \"Q\""
   ]
  },
  {
   "cell_type": "code",
   "execution_count": 52,
   "id": "64ae41e0",
   "metadata": {
    "execution": {
     "iopub.execute_input": "2021-06-30T09:16:24.813722Z",
     "iopub.status.busy": "2021-06-30T09:16:24.812864Z",
     "iopub.status.idle": "2021-06-30T09:16:24.815231Z",
     "shell.execute_reply": "2021-06-30T09:16:24.814145Z"
    }
   },
   "outputs": [
    {
     "data": {
      "text/plain": [
       "ERROR:Couldn't resolve reference to Element 'Q'\n"
      ]
     },
     "execution_count": 52,
     "metadata": {},
     "output_type": "execute_result"
    }
   ],
   "source": [
    "%viz --style=\"ORTHOLINE\" --view=\"Tree\" \"Q\""
   ]
  },
  {
   "cell_type": "code",
   "execution_count": 53,
   "id": "ef452678",
   "metadata": {
    "execution": {
     "iopub.execute_input": "2021-06-30T09:16:24.867504Z",
     "iopub.status.busy": "2021-06-30T09:16:24.866705Z",
     "iopub.status.idle": "2021-06-30T09:16:24.869081Z",
     "shell.execute_reply": "2021-06-30T09:16:24.868008Z"
    }
   },
   "outputs": [
    {
     "data": {
      "text/plain": [
       "ERROR:Couldn't resolve reference to Element 'Q'\n"
      ]
     },
     "execution_count": 53,
     "metadata": {},
     "output_type": "execute_result"
    }
   ],
   "source": [
    "%viz --style=\"ORTHOLINE\" --view=\"State\" \"Q\""
   ]
  },
  {
   "cell_type": "code",
   "execution_count": 54,
   "id": "bf6e4745",
   "metadata": {
    "execution": {
     "iopub.execute_input": "2021-06-30T09:16:24.923585Z",
     "iopub.status.busy": "2021-06-30T09:16:24.922317Z",
     "iopub.status.idle": "2021-06-30T09:16:24.925514Z",
     "shell.execute_reply": "2021-06-30T09:16:24.924146Z"
    }
   },
   "outputs": [
    {
     "data": {
      "text/plain": [
       "ERROR:Couldn't resolve reference to Element 'Q'\n"
      ]
     },
     "execution_count": 54,
     "metadata": {},
     "output_type": "execute_result"
    }
   ],
   "source": [
    "%viz --style=\"ORTHOLINE\" --view=\"Interconnection\" \"Q\""
   ]
  },
  {
   "cell_type": "code",
   "execution_count": 55,
   "id": "e3de0b72",
   "metadata": {
    "execution": {
     "iopub.execute_input": "2021-06-30T09:16:24.981253Z",
     "iopub.status.busy": "2021-06-30T09:16:24.980376Z",
     "iopub.status.idle": "2021-06-30T09:16:24.983117Z",
     "shell.execute_reply": "2021-06-30T09:16:24.981733Z"
    }
   },
   "outputs": [
    {
     "data": {
      "text/plain": [
       "ERROR:Couldn't resolve reference to Element 'Q'\n"
      ]
     },
     "execution_count": 55,
     "metadata": {},
     "output_type": "execute_result"
    }
   ],
   "source": [
    "%viz --style=\"ORTHOLINE\" --view=\"Action\" \"Q\""
   ]
  },
  {
   "cell_type": "code",
   "execution_count": 56,
   "id": "73cfb527",
   "metadata": {
    "execution": {
     "iopub.execute_input": "2021-06-30T09:16:25.037201Z",
     "iopub.status.busy": "2021-06-30T09:16:25.035654Z",
     "iopub.status.idle": "2021-06-30T09:16:25.039118Z",
     "shell.execute_reply": "2021-06-30T09:16:25.037744Z"
    }
   },
   "outputs": [
    {
     "data": {
      "text/plain": [
       "ERROR:Couldn't resolve reference to Element 'Q'\n"
      ]
     },
     "execution_count": 56,
     "metadata": {},
     "output_type": "execute_result"
    }
   ],
   "source": [
    "%viz --style=\"ORTHOLINE\" --view=\"Sequence\" \"Q\""
   ]
  },
  {
   "cell_type": "code",
   "execution_count": 57,
   "id": "517d8b4f",
   "metadata": {
    "execution": {
     "iopub.execute_input": "2021-06-30T09:16:25.093559Z",
     "iopub.status.busy": "2021-06-30T09:16:25.090759Z",
     "iopub.status.idle": "2021-06-30T09:16:25.098382Z",
     "shell.execute_reply": "2021-06-30T09:16:25.095222Z"
    }
   },
   "outputs": [
    {
     "data": {
      "text/plain": [
       "ERROR:Couldn't resolve reference to Element 'Q'\n"
      ]
     },
     "execution_count": 57,
     "metadata": {},
     "output_type": "execute_result"
    }
   ],
   "source": [
    "%viz --style=\"ORTHOLINE\" --view=\"MIXED\" \"Q\""
   ]
  }
 ],
 "metadata": {
  "kernelspec": {
   "display_name": "SysML",
   "language": "sysml",
   "name": "sysml"
  },
  "language_info": {
   "codemirror_mode": "sysml",
   "file_extension": ".sysml",
   "mimetype": "text/x-sysml",
   "name": "SysML",
   "pygments_lexer": "java",
   "version": "1.0.0"
  }
 },
 "nbformat": 4,
 "nbformat_minor": 5
}
