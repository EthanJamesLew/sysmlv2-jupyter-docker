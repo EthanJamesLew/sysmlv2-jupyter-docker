{
 "cells": [
  {
   "cell_type": "markdown",
   "id": "192e1207",
   "metadata": {},
   "source": [
    "# SysML v2 Test Suite\n",
    "\n",
    "This can notebook can be cleared using menu `Edit --> Clear All Outputs` and then all cells can be\n",
    "run using menu `Run --> Run All Cells`.\n",
    "\n",
    "**WARNING**: This file is generated, all modifications here will be ignored.\n"
   ]
  },
  {
   "cell_type": "markdown",
   "id": "6c28c8ff",
   "metadata": {},
   "source": [
    "## File: ../../sysml/src/examples/Import Tests/QualifiedNameImportTest.sysml"
   ]
  },
  {
   "cell_type": "code",
   "execution_count": 1,
   "id": "cd3b1b4f",
   "metadata": {
    "execution": {
     "iopub.execute_input": "2022-07-23T10:53:59.784109Z",
     "iopub.status.busy": "2022-07-23T10:53:59.783049Z",
     "iopub.status.idle": "2022-07-23T10:54:00.021610Z",
     "shell.execute_reply": "2022-07-23T10:54:00.020808Z"
    }
   },
   "outputs": [
    {
     "data": {
      "text/plain": [
       "Package QualifiedNameImportTest (5126b6fb-a0df-489e-901c-12bad15fd52c)\n"
      ]
     },
     "execution_count": 1,
     "metadata": {},
     "output_type": "execute_result"
    }
   ],
   "source": [
    "package QualifiedNameImportTest {\n",
    "\tpackage P1 {\n",
    "\t\tpart def A;\n",
    "\t}\n",
    "\tpackage P2 {\n",
    "\t\tpackage P2a {\n",
    "\t\t\timport P1::*;\n",
    "\t\t}\n",
    "\t\t// The following should not fail.\n",
    "\t\t// A is a member of P2a because of the import.\n",
    "\t\tpart x: P2a::A;\n",
    "\t}\n",
    "}"
   ]
  },
  {
   "cell_type": "code",
   "execution_count": 2,
   "id": "dedf16a8",
   "metadata": {
    "execution": {
     "iopub.execute_input": "2022-07-23T10:54:00.072713Z",
     "iopub.status.busy": "2022-07-23T10:54:00.072441Z",
     "iopub.status.idle": "2022-07-23T10:54:00.509040Z",
     "shell.execute_reply": "2022-07-23T10:54:00.508102Z"
    }
   },
   "outputs": [
    {
     "data": {
      "image/svg+xml": [
       "<?xml version=\"1.0\" encoding=\"UTF-8\" standalone=\"no\"?><svg xmlns=\"http://www.w3.org/2000/svg\" xmlns:xlink=\"http://www.w3.org/1999/xlink\" contentScriptType=\"application/ecmascript\" contentStyleType=\"text/css\" height=\"367px\" preserveAspectRatio=\"none\" style=\"width:243px;height:367px;\" version=\"1.1\" viewBox=\"0 0 243 367\" width=\"243px\" zoomAndPan=\"magnify\"><defs/><g><!--MD5=[fbc87193dbaf4d95561dea2c320d4a47]\n",
       "cluster E1--><a href=\"psysml:5126b6fb-a0df-489e-901c-12bad15fd52c\" target=\"_top\" title=\"psysml:5126b6fb-a0df-489e-901c-12bad15fd52c\" xlink:actuate=\"onRequest\" xlink:href=\"psysml:5126b6fb-a0df-489e-901c-12bad15fd52c\" xlink:show=\"new\" xlink:title=\"psysml:5126b6fb-a0df-489e-901c-12bad15fd52c\" xlink:type=\"simple\"><polygon fill=\"#FFFFFF\" points=\"16,6,196,6,203,28.2969,219,28.2969,219,355,16,355,16,6\" style=\"stroke: #000000; stroke-width: 1.5;\"/><line style=\"stroke: #000000; stroke-width: 1.5;\" x1=\"16\" x2=\"203\" y1=\"28.2969\" y2=\"28.2969\"/><text fill=\"#000000\" font-family=\"sans-serif\" font-size=\"14\" font-weight=\"bold\" lengthAdjust=\"spacingAndGlyphs\" textLength=\"174\" x=\"20\" y=\"20.9951\">QualifiedNameImportTest</text></a><!--MD5=[e4f7fae6ed58524ba242bb0b0d3be6b7]\n",
       "cluster E2--><a href=\"psysml:4671c392-f153-4102-94c6-e9de6b11f3b3\" target=\"_top\" title=\"psysml:4671c392-f153-4102-94c6-e9de6b11f3b3\" xlink:actuate=\"onRequest\" xlink:href=\"psysml:4671c392-f153-4102-94c6-e9de6b11f3b3\" xlink:show=\"new\" xlink:title=\"psysml:4671c392-f153-4102-94c6-e9de6b11f3b3\" xlink:type=\"simple\"><polygon fill=\"#FFFFFF\" points=\"48,210,72,210,79,232.2969,185,232.2969,185,323,48,323,48,210\" style=\"stroke: #000000; stroke-width: 1.5;\"/><line style=\"stroke: #000000; stroke-width: 1.5;\" x1=\"48\" x2=\"79\" y1=\"232.2969\" y2=\"232.2969\"/><text fill=\"#000000\" font-family=\"sans-serif\" font-size=\"14\" font-weight=\"bold\" lengthAdjust=\"spacingAndGlyphs\" textLength=\"18\" x=\"52\" y=\"224.9951\">P1</text></a><!--MD5=[f6df4d0ebaf0b5dfb2ced0ae5af7c670]\n",
       "cluster E4--><a href=\"psysml:b774f6e1-b4cc-4027-a413-e3d948253bea\" target=\"_top\" title=\"psysml:b774f6e1-b4cc-4027-a413-e3d948253bea\" xlink:actuate=\"onRequest\" xlink:href=\"psysml:b774f6e1-b4cc-4027-a413-e3d948253bea\" xlink:show=\"new\" xlink:title=\"psysml:b774f6e1-b4cc-4027-a413-e3d948253bea\" xlink:type=\"simple\"><polygon fill=\"#FFFFFF\" points=\"40,49,64,49,71,71.2969,195,71.2969,195,153,40,153,40,49\" style=\"stroke: #000000; stroke-width: 1.5;\"/><line style=\"stroke: #000000; stroke-width: 1.5;\" x1=\"40\" x2=\"71\" y1=\"71.2969\" y2=\"71.2969\"/><text fill=\"#000000\" font-family=\"sans-serif\" font-size=\"14\" font-weight=\"bold\" lengthAdjust=\"spacingAndGlyphs\" textLength=\"18\" x=\"44\" y=\"63.9951\">P2</text></a><!--MD5=[09b614a08d8cba4a07c9adeb5e0fee81]\n",
       "class E3--><a href=\"psysml:d43e5a90-a5b9-40ed-82e3-14a3538b6850\" target=\"_top\" title=\"psysml:d43e5a90-a5b9-40ed-82e3-14a3538b6850\" xlink:actuate=\"onRequest\" xlink:href=\"psysml:d43e5a90-a5b9-40ed-82e3-14a3538b6850\" xlink:show=\"new\" xlink:title=\"psysml:d43e5a90-a5b9-40ed-82e3-14a3538b6850\" xlink:type=\"simple\"><rect fill=\"#FFFFFF\" height=\"45.9375\" id=\"E3\" style=\"stroke: #383838; stroke-width: 1.5;\" width=\"70\" x=\"72\" y=\"253\"/><text fill=\"#000000\" font-family=\"sans-serif\" font-size=\"12\" font-style=\"italic\" lengthAdjust=\"spacingAndGlyphs\" textLength=\"68\" x=\"73\" y=\"269.1387\">«part  def»</text><text fill=\"#000000\" font-family=\"sans-serif\" font-size=\"12\" lengthAdjust=\"spacingAndGlyphs\" textLength=\"8\" x=\"103\" y=\"283.1074\">A</text><line style=\"stroke: #383838; stroke-width: 1.5;\" x1=\"73\" x2=\"141\" y1=\"290.9375\" y2=\"290.9375\"/></a><!--MD5=[60a26617385b1d2d0262a64233df1f8d]\n",
       "class E6--><a href=\"psysml:76906768-adb2-44e4-864a-c9b21a4611cd\" target=\"_top\" title=\"psysml:76906768-adb2-44e4-864a-c9b21a4611cd\" xlink:actuate=\"onRequest\" xlink:href=\"psysml:76906768-adb2-44e4-864a-c9b21a4611cd\" xlink:show=\"new\" xlink:title=\"psysml:76906768-adb2-44e4-864a-c9b21a4611cd\" xlink:type=\"simple\"><rect fill=\"#FFFFFF\" height=\"45.9375\" id=\"E6\" rx=\"10\" ry=\"10\" style=\"stroke: #383838; stroke-width: 1.5;\" width=\"42\" x=\"56\" y=\"87.5\"/><text fill=\"#000000\" font-family=\"sans-serif\" font-size=\"12\" font-style=\"italic\" lengthAdjust=\"spacingAndGlyphs\" textLength=\"40\" x=\"57\" y=\"103.6387\">«part»</text><text fill=\"#000000\" font-family=\"sans-serif\" font-size=\"12\" lengthAdjust=\"spacingAndGlyphs\" textLength=\"22\" x=\"64\" y=\"117.6074\">x: A</text><line style=\"stroke: #383838; stroke-width: 1.5;\" x1=\"57\" x2=\"97\" y1=\"125.4375\" y2=\"125.4375\"/></a><a href=\"psysml:c40d8d93-4b48-4997-9b6b-7328d49803fe\" target=\"_top\" title=\"psysml:c40d8d93-4b48-4997-9b6b-7328d49803fe\" xlink:actuate=\"onRequest\" xlink:href=\"psysml:c40d8d93-4b48-4997-9b6b-7328d49803fe\" xlink:show=\"new\" xlink:title=\"psysml:c40d8d93-4b48-4997-9b6b-7328d49803fe\" xlink:type=\"simple\"><polygon fill=\"#FFFFFF\" points=\"133,84,165,84,172,106.2969,179,106.2969,179,136.5938,133,136.5938,133,84\" style=\"stroke: #000000; stroke-width: 1.5;\"/><line style=\"stroke: #000000; stroke-width: 1.5;\" x1=\"133\" x2=\"172\" y1=\"106.2969\" y2=\"106.2969\"/><text fill=\"#000000\" font-family=\"sans-serif\" font-size=\"14\" font-weight=\"bold\" lengthAdjust=\"spacingAndGlyphs\" textLength=\"26\" x=\"137\" y=\"98.9951\">P2a</text></a><!--MD5=[15ebcb19ae302d9b601edb458606d402]\n",
       "link E5 to E2--><a href=\"psysml:9ee57c7f-7f65-4593-a505-e714f10a5bde\" target=\"_top\" title=\"psysml:9ee57c7f-7f65-4593-a505-e714f10a5bde\" xlink:actuate=\"onRequest\" xlink:href=\"psysml:9ee57c7f-7f65-4593-a505-e714f10a5bde\" xlink:show=\"new\" xlink:title=\"psysml:9ee57c7f-7f65-4593-a505-e714f10a5bde\" xlink:type=\"simple\"><path d=\"M159.28,137.05 C160.735,148.365 162.5469,162.4656 164.4519,177.2955 C165.4044,184.7104 166.3802,192.3076 167.3463,199.8301 C167.5878,201.7107 167.8287,203.5867 168.0685,205.4539 C168.1884,206.3876 168.308,207.319 168.4273,208.2478 C168.4869,208.7122 168.5465,209.1759 168.6059,209.6389 \" fill=\"none\" id=\"E5-&gt;E2\" style=\"stroke: #383838; stroke-width: 1.0; stroke-dasharray: 7.0,7.0;\"/><polygon fill=\"#383838\" points=\"168.6059,209.6389,171.427,200.2027,167.9691,204.6796,163.4922,201.2217,168.6059,209.6389\" style=\"stroke: #383838; stroke-width: 1.0;\"/><text fill=\"#000000\" font-family=\"sans-serif\" font-size=\"13\" lengthAdjust=\"spacingAndGlyphs\" textLength=\"65\" x=\"166\" y=\"182.0669\">«import»*</text></a><!--MD5=[a717450b82c80b9240a525fa862496af]\n",
       "link E6 to E3--><a href=\"psysml:79dc21aa-3f25-4d04-bc8e-220599d338b9\" target=\"_top\" title=\"psysml:79dc21aa-3f25-4d04-bc8e-220599d338b9\" xlink:actuate=\"onRequest\" xlink:href=\"psysml:79dc21aa-3f25-4d04-bc8e-220599d338b9\" xlink:show=\"new\" xlink:title=\"psysml:79dc21aa-3f25-4d04-bc8e-220599d338b9\" xlink:type=\"simple\"><path d=\"M81.05,133.55 C85.7,158.9 93.44,201.1 99.26,232.83 \" fill=\"none\" id=\"E6-&gt;E3\" style=\"stroke: #383838; stroke-width: 1.0;\"/><polygon fill=\"#FFFFFF\" points=\"102.92,252.78,92.6018,235.3578,106.3713,232.8278,102.92,252.78\" style=\"stroke: #383838; stroke-width: 1.0;\"/><ellipse cx=\"93.5388\" cy=\"229.3902\" fill=\"#383838\" rx=\"2\" ry=\"2\" style=\"stroke: #383838; stroke-width: 1.0;\"/><ellipse cx=\"103.3742\" cy=\"227.5831\" fill=\"#383838\" rx=\"2\" ry=\"2\" style=\"stroke: #383838; stroke-width: 1.0;\"/></a><!--MD5=[04d8d78121c0266259bf65148e685b47]\n",
       "@startuml\r\n",
       " skinparam monochrome true\r\n",
       "skinparam classbackgroundcolor white\r\n",
       "skinparam shadowing false\r\n",
       "skinparam wrapWidth 300\r\n",
       "hide circle\r\n",
       "\r\n",
       "package \"QualifiedNameImportTest\" as E1  [[psysml:5126b6fb-a0df-489e-901c-12bad15fd52c ]]  {\r\n",
       "package \"P1\" as E2  [[psysml:4671c392-f153-4102-94c6-e9de6b11f3b3 ]]  {\r\n",
       "comp def \"A\" as E3  <<(T,blue) part  def>> [[psysml:d43e5a90-a5b9-40ed-82e3-14a3538b6850 ]] {\r\n",
       "}\r\n",
       "}\r\n",
       "package \"P2\" as E4  [[psysml:b774f6e1-b4cc-4027-a413-e3d948253bea ]]  {\r\n",
       "package \"P2a\" as E5  [[psysml:c40d8d93-4b48-4997-9b6b-7328d49803fe ]]  {\r\n",
       "}\r\n",
       "comp usage \"x: A \" as E6  <<(T,blue) part>> [[psysml:76906768-adb2-44e4-864a-c9b21a4611cd ]] {\r\n",
       "}\r\n",
       "}\r\n",
       "}\r\n",
       "E5 ..> E2 [[psysml:9ee57c7f-7f65-4593-a505-e714f10a5bde ]] : <<import>>*\r\n",
       "E6 - -:|> E3 [[psysml:79dc21aa-3f25-4d04-bc8e-220599d338b9 ]] \r\n",
       "@enduml\r\n",
       "\n",
       "PlantUML version 1.2020.13(Sat Jun 13 12:26:38 UTC 2020)\n",
       "(EPL source distribution)\n",
       "Java Runtime: OpenJDK Runtime Environment\n",
       "JVM: OpenJDK 64-Bit Server VM\n",
       "Default Encoding: UTF-8\n",
       "Language: en\n",
       "Country: null\n",
       "--></g></svg>"
      ]
     },
     "execution_count": 2,
     "metadata": {},
     "output_type": "execute_result"
    }
   ],
   "source": [
    "%viz --style=\"COMPTREE\" --view=\"Default\" \"QualifiedNameImportTest\""
   ]
  },
  {
   "cell_type": "code",
   "execution_count": 3,
   "id": "dbee3635",
   "metadata": {
    "execution": {
     "iopub.execute_input": "2022-07-23T10:54:00.559329Z",
     "iopub.status.busy": "2022-07-23T10:54:00.558929Z",
     "iopub.status.idle": "2022-07-23T10:54:00.607499Z",
     "shell.execute_reply": "2022-07-23T10:54:00.607051Z"
    }
   },
   "outputs": [
    {
     "data": {
      "image/svg+xml": [
       "<?xml version=\"1.0\" encoding=\"UTF-8\" standalone=\"no\"?><svg xmlns=\"http://www.w3.org/2000/svg\" xmlns:xlink=\"http://www.w3.org/1999/xlink\" contentScriptType=\"application/ecmascript\" contentStyleType=\"text/css\" height=\"367px\" preserveAspectRatio=\"none\" style=\"width:243px;height:367px;\" version=\"1.1\" viewBox=\"0 0 243 367\" width=\"243px\" zoomAndPan=\"magnify\"><defs/><g><!--MD5=[fbc87193dbaf4d95561dea2c320d4a47]\n",
       "cluster E1--><a href=\"psysml:5126b6fb-a0df-489e-901c-12bad15fd52c\" target=\"_top\" title=\"psysml:5126b6fb-a0df-489e-901c-12bad15fd52c\" xlink:actuate=\"onRequest\" xlink:href=\"psysml:5126b6fb-a0df-489e-901c-12bad15fd52c\" xlink:show=\"new\" xlink:title=\"psysml:5126b6fb-a0df-489e-901c-12bad15fd52c\" xlink:type=\"simple\"><polygon fill=\"#FFFFFF\" points=\"16,6,196,6,203,28.2969,219,28.2969,219,355,16,355,16,6\" style=\"stroke: #000000; stroke-width: 1.5;\"/><line style=\"stroke: #000000; stroke-width: 1.5;\" x1=\"16\" x2=\"203\" y1=\"28.2969\" y2=\"28.2969\"/><text fill=\"#000000\" font-family=\"sans-serif\" font-size=\"14\" font-weight=\"bold\" lengthAdjust=\"spacingAndGlyphs\" textLength=\"174\" x=\"20\" y=\"20.9951\">QualifiedNameImportTest</text></a><!--MD5=[e4f7fae6ed58524ba242bb0b0d3be6b7]\n",
       "cluster E2--><a href=\"psysml:4671c392-f153-4102-94c6-e9de6b11f3b3\" target=\"_top\" title=\"psysml:4671c392-f153-4102-94c6-e9de6b11f3b3\" xlink:actuate=\"onRequest\" xlink:href=\"psysml:4671c392-f153-4102-94c6-e9de6b11f3b3\" xlink:show=\"new\" xlink:title=\"psysml:4671c392-f153-4102-94c6-e9de6b11f3b3\" xlink:type=\"simple\"><polygon fill=\"#FFFFFF\" points=\"48,210,72,210,79,232.2969,185,232.2969,185,323,48,323,48,210\" style=\"stroke: #000000; stroke-width: 1.5;\"/><line style=\"stroke: #000000; stroke-width: 1.5;\" x1=\"48\" x2=\"79\" y1=\"232.2969\" y2=\"232.2969\"/><text fill=\"#000000\" font-family=\"sans-serif\" font-size=\"14\" font-weight=\"bold\" lengthAdjust=\"spacingAndGlyphs\" textLength=\"18\" x=\"52\" y=\"224.9951\">P1</text></a><!--MD5=[f6df4d0ebaf0b5dfb2ced0ae5af7c670]\n",
       "cluster E4--><a href=\"psysml:b774f6e1-b4cc-4027-a413-e3d948253bea\" target=\"_top\" title=\"psysml:b774f6e1-b4cc-4027-a413-e3d948253bea\" xlink:actuate=\"onRequest\" xlink:href=\"psysml:b774f6e1-b4cc-4027-a413-e3d948253bea\" xlink:show=\"new\" xlink:title=\"psysml:b774f6e1-b4cc-4027-a413-e3d948253bea\" xlink:type=\"simple\"><polygon fill=\"#FFFFFF\" points=\"40,49,64,49,71,71.2969,195,71.2969,195,153,40,153,40,49\" style=\"stroke: #000000; stroke-width: 1.5;\"/><line style=\"stroke: #000000; stroke-width: 1.5;\" x1=\"40\" x2=\"71\" y1=\"71.2969\" y2=\"71.2969\"/><text fill=\"#000000\" font-family=\"sans-serif\" font-size=\"14\" font-weight=\"bold\" lengthAdjust=\"spacingAndGlyphs\" textLength=\"18\" x=\"44\" y=\"63.9951\">P2</text></a><!--MD5=[09b614a08d8cba4a07c9adeb5e0fee81]\n",
       "class E3--><a href=\"psysml:d43e5a90-a5b9-40ed-82e3-14a3538b6850\" target=\"_top\" title=\"psysml:d43e5a90-a5b9-40ed-82e3-14a3538b6850\" xlink:actuate=\"onRequest\" xlink:href=\"psysml:d43e5a90-a5b9-40ed-82e3-14a3538b6850\" xlink:show=\"new\" xlink:title=\"psysml:d43e5a90-a5b9-40ed-82e3-14a3538b6850\" xlink:type=\"simple\"><rect fill=\"#FFFFFF\" height=\"45.9375\" id=\"E3\" style=\"stroke: #383838; stroke-width: 1.5;\" width=\"70\" x=\"72\" y=\"253\"/><text fill=\"#000000\" font-family=\"sans-serif\" font-size=\"12\" font-style=\"italic\" lengthAdjust=\"spacingAndGlyphs\" textLength=\"68\" x=\"73\" y=\"269.1387\">«part  def»</text><text fill=\"#000000\" font-family=\"sans-serif\" font-size=\"12\" lengthAdjust=\"spacingAndGlyphs\" textLength=\"8\" x=\"103\" y=\"283.1074\">A</text><line style=\"stroke: #383838; stroke-width: 1.5;\" x1=\"73\" x2=\"141\" y1=\"290.9375\" y2=\"290.9375\"/></a><!--MD5=[60a26617385b1d2d0262a64233df1f8d]\n",
       "class E6--><a href=\"psysml:76906768-adb2-44e4-864a-c9b21a4611cd\" target=\"_top\" title=\"psysml:76906768-adb2-44e4-864a-c9b21a4611cd\" xlink:actuate=\"onRequest\" xlink:href=\"psysml:76906768-adb2-44e4-864a-c9b21a4611cd\" xlink:show=\"new\" xlink:title=\"psysml:76906768-adb2-44e4-864a-c9b21a4611cd\" xlink:type=\"simple\"><rect fill=\"#FFFFFF\" height=\"45.9375\" id=\"E6\" rx=\"10\" ry=\"10\" style=\"stroke: #383838; stroke-width: 1.5;\" width=\"42\" x=\"56\" y=\"87.5\"/><text fill=\"#000000\" font-family=\"sans-serif\" font-size=\"12\" font-style=\"italic\" lengthAdjust=\"spacingAndGlyphs\" textLength=\"40\" x=\"57\" y=\"103.6387\">«part»</text><text fill=\"#000000\" font-family=\"sans-serif\" font-size=\"12\" lengthAdjust=\"spacingAndGlyphs\" textLength=\"22\" x=\"64\" y=\"117.6074\">x: A</text><line style=\"stroke: #383838; stroke-width: 1.5;\" x1=\"57\" x2=\"97\" y1=\"125.4375\" y2=\"125.4375\"/></a><a href=\"psysml:c40d8d93-4b48-4997-9b6b-7328d49803fe\" target=\"_top\" title=\"psysml:c40d8d93-4b48-4997-9b6b-7328d49803fe\" xlink:actuate=\"onRequest\" xlink:href=\"psysml:c40d8d93-4b48-4997-9b6b-7328d49803fe\" xlink:show=\"new\" xlink:title=\"psysml:c40d8d93-4b48-4997-9b6b-7328d49803fe\" xlink:type=\"simple\"><polygon fill=\"#FFFFFF\" points=\"133,84,165,84,172,106.2969,179,106.2969,179,136.5938,133,136.5938,133,84\" style=\"stroke: #000000; stroke-width: 1.5;\"/><line style=\"stroke: #000000; stroke-width: 1.5;\" x1=\"133\" x2=\"172\" y1=\"106.2969\" y2=\"106.2969\"/><text fill=\"#000000\" font-family=\"sans-serif\" font-size=\"14\" font-weight=\"bold\" lengthAdjust=\"spacingAndGlyphs\" textLength=\"26\" x=\"137\" y=\"98.9951\">P2a</text></a><!--MD5=[15ebcb19ae302d9b601edb458606d402]\n",
       "link E5 to E2--><a href=\"psysml:9ee57c7f-7f65-4593-a505-e714f10a5bde\" target=\"_top\" title=\"psysml:9ee57c7f-7f65-4593-a505-e714f10a5bde\" xlink:actuate=\"onRequest\" xlink:href=\"psysml:9ee57c7f-7f65-4593-a505-e714f10a5bde\" xlink:show=\"new\" xlink:title=\"psysml:9ee57c7f-7f65-4593-a505-e714f10a5bde\" xlink:type=\"simple\"><path d=\"M159.28,137.05 C160.735,148.365 162.5469,162.4656 164.4519,177.2955 C165.4044,184.7104 166.3802,192.3076 167.3463,199.8301 C167.5878,201.7107 167.8287,203.5867 168.0685,205.4539 C168.1884,206.3876 168.308,207.319 168.4273,208.2478 C168.4869,208.7122 168.5465,209.1759 168.6059,209.6389 \" fill=\"none\" id=\"E5-&gt;E2\" style=\"stroke: #383838; stroke-width: 1.0; stroke-dasharray: 7.0,7.0;\"/><polygon fill=\"#383838\" points=\"168.6059,209.6389,171.427,200.2027,167.9691,204.6796,163.4922,201.2217,168.6059,209.6389\" style=\"stroke: #383838; stroke-width: 1.0;\"/><text fill=\"#000000\" font-family=\"sans-serif\" font-size=\"13\" lengthAdjust=\"spacingAndGlyphs\" textLength=\"65\" x=\"166\" y=\"182.0669\">«import»*</text></a><!--MD5=[a717450b82c80b9240a525fa862496af]\n",
       "link E6 to E3--><a href=\"psysml:79dc21aa-3f25-4d04-bc8e-220599d338b9\" target=\"_top\" title=\"psysml:79dc21aa-3f25-4d04-bc8e-220599d338b9\" xlink:actuate=\"onRequest\" xlink:href=\"psysml:79dc21aa-3f25-4d04-bc8e-220599d338b9\" xlink:show=\"new\" xlink:title=\"psysml:79dc21aa-3f25-4d04-bc8e-220599d338b9\" xlink:type=\"simple\"><path d=\"M81.05,133.55 C85.7,158.9 93.44,201.1 99.26,232.83 \" fill=\"none\" id=\"E6-&gt;E3\" style=\"stroke: #383838; stroke-width: 1.0;\"/><polygon fill=\"#FFFFFF\" points=\"102.92,252.78,92.6018,235.3578,106.3713,232.8278,102.92,252.78\" style=\"stroke: #383838; stroke-width: 1.0;\"/><ellipse cx=\"93.5388\" cy=\"229.3902\" fill=\"#383838\" rx=\"2\" ry=\"2\" style=\"stroke: #383838; stroke-width: 1.0;\"/><ellipse cx=\"103.3742\" cy=\"227.5831\" fill=\"#383838\" rx=\"2\" ry=\"2\" style=\"stroke: #383838; stroke-width: 1.0;\"/></a><!--MD5=[04d8d78121c0266259bf65148e685b47]\n",
       "@startuml\r\n",
       " skinparam monochrome true\r\n",
       "skinparam classbackgroundcolor white\r\n",
       "skinparam shadowing false\r\n",
       "skinparam wrapWidth 300\r\n",
       "hide circle\r\n",
       "\r\n",
       "package \"QualifiedNameImportTest\" as E1  [[psysml:5126b6fb-a0df-489e-901c-12bad15fd52c ]]  {\r\n",
       "package \"P1\" as E2  [[psysml:4671c392-f153-4102-94c6-e9de6b11f3b3 ]]  {\r\n",
       "comp def \"A\" as E3  <<(T,blue) part  def>> [[psysml:d43e5a90-a5b9-40ed-82e3-14a3538b6850 ]] {\r\n",
       "}\r\n",
       "}\r\n",
       "package \"P2\" as E4  [[psysml:b774f6e1-b4cc-4027-a413-e3d948253bea ]]  {\r\n",
       "package \"P2a\" as E5  [[psysml:c40d8d93-4b48-4997-9b6b-7328d49803fe ]]  {\r\n",
       "}\r\n",
       "comp usage \"x: A \" as E6  <<(T,blue) part>> [[psysml:76906768-adb2-44e4-864a-c9b21a4611cd ]] {\r\n",
       "}\r\n",
       "}\r\n",
       "}\r\n",
       "E5 ..> E2 [[psysml:9ee57c7f-7f65-4593-a505-e714f10a5bde ]] : <<import>>*\r\n",
       "E6 - -:|> E3 [[psysml:79dc21aa-3f25-4d04-bc8e-220599d338b9 ]] \r\n",
       "@enduml\r\n",
       "\n",
       "PlantUML version 1.2020.13(Sat Jun 13 12:26:38 UTC 2020)\n",
       "(EPL source distribution)\n",
       "Java Runtime: OpenJDK Runtime Environment\n",
       "JVM: OpenJDK 64-Bit Server VM\n",
       "Default Encoding: UTF-8\n",
       "Language: en\n",
       "Country: null\n",
       "--></g></svg>"
      ]
     },
     "execution_count": 3,
     "metadata": {},
     "output_type": "execute_result"
    }
   ],
   "source": [
    "%viz --style=\"COMPTREE\" --view=\"Tree\" \"QualifiedNameImportTest\""
   ]
  },
  {
   "cell_type": "code",
   "execution_count": 4,
   "id": "329325c7",
   "metadata": {
    "execution": {
     "iopub.execute_input": "2022-07-23T10:54:00.658366Z",
     "iopub.status.busy": "2022-07-23T10:54:00.657628Z",
     "iopub.status.idle": "2022-07-23T10:54:00.667221Z",
     "shell.execute_reply": "2022-07-23T10:54:00.667571Z"
    }
   },
   "outputs": [
    {
     "data": {
      "image/svg+xml": [
       "<?xml version=\"1.0\" encoding=\"UTF-8\" standalone=\"no\"?><svg xmlns=\"http://www.w3.org/2000/svg\" xmlns:xlink=\"http://www.w3.org/1999/xlink\" contentScriptType=\"application/ecmascript\" contentStyleType=\"text/css\" height=\"12px\" preserveAspectRatio=\"none\" style=\"width:12px;height:12px;\" version=\"1.1\" viewBox=\"0 0 12 12\" width=\"12px\" zoomAndPan=\"magnify\"><defs/><g><!--MD5=[f19188ef49e11757b5c46753f95d9edc]\n",
       "@startuml\r\n",
       " skinparam monochrome true\r\n",
       "skinparam classbackgroundcolor white\r\n",
       "skinparam shadowing false\r\n",
       "skinparam wrapWidth 300\r\n",
       "hide circle\r\n",
       "\r\n",
       "@enduml\r\n",
       "\n",
       "PlantUML version 1.2020.13(Sat Jun 13 12:26:38 UTC 2020)\n",
       "(EPL source distribution)\n",
       "Java Runtime: OpenJDK Runtime Environment\n",
       "JVM: OpenJDK 64-Bit Server VM\n",
       "Default Encoding: UTF-8\n",
       "Language: en\n",
       "Country: null\n",
       "--></g></svg>"
      ]
     },
     "execution_count": 4,
     "metadata": {},
     "output_type": "execute_result"
    }
   ],
   "source": [
    "%viz --style=\"COMPTREE\" --view=\"State\" \"QualifiedNameImportTest\""
   ]
  },
  {
   "cell_type": "code",
   "execution_count": 5,
   "id": "e99eb75d",
   "metadata": {
    "execution": {
     "iopub.execute_input": "2022-07-23T10:54:00.718134Z",
     "iopub.status.busy": "2022-07-23T10:54:00.717474Z",
     "iopub.status.idle": "2022-07-23T10:54:00.757827Z",
     "shell.execute_reply": "2022-07-23T10:54:00.757403Z"
    }
   },
   "outputs": [
    {
     "data": {
      "image/svg+xml": [
       "<?xml version=\"1.0\" encoding=\"UTF-8\" standalone=\"no\"?><svg xmlns=\"http://www.w3.org/2000/svg\" xmlns:xlink=\"http://www.w3.org/1999/xlink\" contentScriptType=\"application/ecmascript\" contentStyleType=\"text/css\" height=\"364px\" preserveAspectRatio=\"none\" style=\"width:249px;height:364px;\" version=\"1.1\" viewBox=\"0 0 249 364\" width=\"249px\" zoomAndPan=\"magnify\"><defs/><g><!--MD5=[fbc87193dbaf4d95561dea2c320d4a47]\n",
       "cluster E1--><a href=\"psysml:5126b6fb-a0df-489e-901c-12bad15fd52c\" target=\"_top\" title=\"psysml:5126b6fb-a0df-489e-901c-12bad15fd52c\" xlink:actuate=\"onRequest\" xlink:href=\"psysml:5126b6fb-a0df-489e-901c-12bad15fd52c\" xlink:show=\"new\" xlink:title=\"psysml:5126b6fb-a0df-489e-901c-12bad15fd52c\" xlink:type=\"simple\"><polygon fill=\"#FFFFFF\" points=\"16,6,196,6,203,28.2969,227,28.2969,227,352,16,352,16,6\" style=\"stroke: #000000; stroke-width: 1.5;\"/><line style=\"stroke: #000000; stroke-width: 1.5;\" x1=\"16\" x2=\"203\" y1=\"28.2969\" y2=\"28.2969\"/><text fill=\"#000000\" font-family=\"sans-serif\" font-size=\"14\" font-weight=\"bold\" lengthAdjust=\"spacingAndGlyphs\" textLength=\"174\" x=\"20\" y=\"20.9951\">QualifiedNameImportTest</text></a><!--MD5=[e4f7fae6ed58524ba242bb0b0d3be6b7]\n",
       "cluster E2--><a href=\"psysml:4671c392-f153-4102-94c6-e9de6b11f3b3\" target=\"_top\" title=\"psysml:4671c392-f153-4102-94c6-e9de6b11f3b3\" xlink:actuate=\"onRequest\" xlink:href=\"psysml:4671c392-f153-4102-94c6-e9de6b11f3b3\" xlink:show=\"new\" xlink:title=\"psysml:4671c392-f153-4102-94c6-e9de6b11f3b3\" xlink:type=\"simple\"><polygon fill=\"#FFFFFF\" points=\"53,210,77,210,84,232.2969,195,232.2969,195,320,53,320,53,210\" style=\"stroke: #000000; stroke-width: 1.5;\"/><line style=\"stroke: #000000; stroke-width: 1.5;\" x1=\"53\" x2=\"84\" y1=\"232.2969\" y2=\"232.2969\"/><text fill=\"#000000\" font-family=\"sans-serif\" font-size=\"14\" font-weight=\"bold\" lengthAdjust=\"spacingAndGlyphs\" textLength=\"18\" x=\"57\" y=\"224.9951\">P1</text></a><!--MD5=[f6df4d0ebaf0b5dfb2ced0ae5af7c670]\n",
       "cluster E4--><a href=\"psysml:b774f6e1-b4cc-4027-a413-e3d948253bea\" target=\"_top\" title=\"psysml:b774f6e1-b4cc-4027-a413-e3d948253bea\" xlink:actuate=\"onRequest\" xlink:href=\"psysml:b774f6e1-b4cc-4027-a413-e3d948253bea\" xlink:show=\"new\" xlink:title=\"psysml:b774f6e1-b4cc-4027-a413-e3d948253bea\" xlink:type=\"simple\"><polygon fill=\"#FFFFFF\" points=\"40,49,64,49,71,71.2969,203,71.2969,203,153,40,153,40,49\" style=\"stroke: #000000; stroke-width: 1.5;\"/><line style=\"stroke: #000000; stroke-width: 1.5;\" x1=\"40\" x2=\"71\" y1=\"71.2969\" y2=\"71.2969\"/><text fill=\"#000000\" font-family=\"sans-serif\" font-size=\"14\" font-weight=\"bold\" lengthAdjust=\"spacingAndGlyphs\" textLength=\"18\" x=\"44\" y=\"63.9951\">P2</text></a><g id=\"E1.E2.E3\"><a href=\"psysml:d43e5a90-a5b9-40ed-82e3-14a3538b6850\" target=\"_top\" title=\"psysml:d43e5a90-a5b9-40ed-82e3-14a3538b6850\" xlink:actuate=\"onRequest\" xlink:href=\"psysml:d43e5a90-a5b9-40ed-82e3-14a3538b6850\" xlink:show=\"new\" xlink:title=\"psysml:d43e5a90-a5b9-40ed-82e3-14a3538b6850\" xlink:type=\"simple\"><rect fill=\"#FFFFFF\" height=\"42.9375\" id=\"E3\" style=\"stroke: #383838; stroke-width: 1.5;\" width=\"75\" x=\"96.5\" y=\"253\"/><rect fill=\"#F8F8F8\" height=\"37.9375\" style=\"stroke: #383838; stroke-width: 1.5;\" width=\"75\" x=\"96.5\" y=\"253\"/><text fill=\"#000000\" font-family=\"sans-serif\" font-size=\"12\" font-style=\"italic\" lengthAdjust=\"spacingAndGlyphs\" textLength=\"68\" x=\"100\" y=\"269.1387\">«part  def»</text><text fill=\"#000000\" font-family=\"sans-serif\" font-size=\"12\" lengthAdjust=\"spacingAndGlyphs\" textLength=\"8\" x=\"130\" y=\"283.1074\">A</text></a></g><a href=\"psysml:c40d8d93-4b48-4997-9b6b-7328d49803fe\" target=\"_top\" title=\"psysml:c40d8d93-4b48-4997-9b6b-7328d49803fe\" xlink:actuate=\"onRequest\" xlink:href=\"psysml:c40d8d93-4b48-4997-9b6b-7328d49803fe\" xlink:show=\"new\" xlink:title=\"psysml:c40d8d93-4b48-4997-9b6b-7328d49803fe\" xlink:type=\"simple\"><polygon fill=\"#FFFFFF\" points=\"56,84,88,84,95,106.2969,102,106.2969,102,136.5938,56,136.5938,56,84\" style=\"stroke: #000000; stroke-width: 1.5;\"/><line style=\"stroke: #000000; stroke-width: 1.5;\" x1=\"56\" x2=\"95\" y1=\"106.2969\" y2=\"106.2969\"/><text fill=\"#000000\" font-family=\"sans-serif\" font-size=\"14\" font-weight=\"bold\" lengthAdjust=\"spacingAndGlyphs\" textLength=\"26\" x=\"60\" y=\"98.9951\">P2a</text></a><g id=\"E1.E4.E6\"><a href=\"psysml:76906768-adb2-44e4-864a-c9b21a4611cd\" target=\"_top\" title=\"psysml:76906768-adb2-44e4-864a-c9b21a4611cd\" xlink:actuate=\"onRequest\" xlink:href=\"psysml:76906768-adb2-44e4-864a-c9b21a4611cd\" xlink:show=\"new\" xlink:title=\"psysml:76906768-adb2-44e4-864a-c9b21a4611cd\" xlink:type=\"simple\"><rect fill=\"#FFFFFF\" height=\"40\" id=\"E6\" rx=\"10\" ry=\"10\" style=\"stroke: #383838; stroke-width: 1.5;\" width=\"50\" x=\"137\" y=\"90.5\"/><rect fill=\"#F8F8F8\" height=\"23.9688\" rx=\"10\" ry=\"10\" style=\"stroke: #F8F8F8; stroke-width: 1.5;\" width=\"50\" x=\"137\" y=\"90.5\"/><rect fill=\"#F8F8F8\" height=\"10\" style=\"stroke: #F8F8F8; stroke-width: 1.5;\" width=\"50\" x=\"137\" y=\"104.4688\"/><rect fill=\"none\" height=\"40\" id=\"E6\" rx=\"10\" ry=\"10\" style=\"stroke: #383838; stroke-width: 1.5;\" width=\"50\" x=\"137\" y=\"90.5\"/><text fill=\"#000000\" font-family=\"sans-serif\" font-size=\"12\" lengthAdjust=\"spacingAndGlyphs\" textLength=\"22\" x=\"151\" y=\"106.6387\">x: A</text></a></g><!--MD5=[15ebcb19ae302d9b601edb458606d402]\n",
       "link E5 to E2--><a href=\"psysml:9ee57c7f-7f65-4593-a505-e714f10a5bde\" target=\"_top\" title=\"psysml:9ee57c7f-7f65-4593-a505-e714f10a5bde\" xlink:actuate=\"onRequest\" xlink:href=\"psysml:9ee57c7f-7f65-4593-a505-e714f10a5bde\" xlink:show=\"new\" xlink:title=\"psysml:9ee57c7f-7f65-4593-a505-e714f10a5bde\" xlink:type=\"simple\"><path d=\"M76.15,137.17 C74.9,148.4125 73.3475,162.3781 71.7172,177.0456 C70.902,184.3794 70.0674,191.8886 69.2414,199.3206 C69.035,201.1786 68.829,203.0318 68.624,204.8762 C68.5215,205.7984 68.4193,206.7184 68.3173,207.6358 C68.2664,208.0944 68.2155,208.5524 68.1647,209.0097 C68.1393,209.2383 68.1139,209.4668 68.0885,209.695 \" fill=\"none\" id=\"E5-&gt;E2\" style=\"stroke: #383838; stroke-width: 1.0; stroke-dasharray: 7.0,7.0;\"/><polygon fill=\"#383838\" points=\"68.0885,209.695,73.0581,201.1919,68.6408,204.7256,65.107,200.3083,68.0885,209.695\" style=\"stroke: #383838; stroke-width: 1.0;\"/><text fill=\"#000000\" font-family=\"sans-serif\" font-size=\"13\" lengthAdjust=\"spacingAndGlyphs\" textLength=\"65\" x=\"73\" y=\"182.0669\">«import»*</text></a><!--MD5=[a717450b82c80b9240a525fa862496af]\n",
       "link E6 to E3--><a href=\"psysml:79dc21aa-3f25-4d04-bc8e-220599d338b9\" target=\"_top\" title=\"psysml:79dc21aa-3f25-4d04-bc8e-220599d338b9\" xlink:actuate=\"onRequest\" xlink:href=\"psysml:79dc21aa-3f25-4d04-bc8e-220599d338b9\" xlink:show=\"new\" xlink:title=\"psysml:79dc21aa-3f25-4d04-bc8e-220599d338b9\" xlink:type=\"simple\"><path d=\"M158.68,130.72 C154.35,155.76 146.67,200.21 141.02,232.87 \" fill=\"none\" id=\"E6-&gt;E3\" style=\"stroke: #383838; stroke-width: 1.0;\"/><polygon fill=\"#FFFFFF\" points=\"137.58,252.77,133.925,232.8542,147.7196,235.2432,137.58,252.77\" style=\"stroke: #383838; stroke-width: 1.0;\"/><ellipse cx=\"136.8683\" cy=\"227.5791\" fill=\"#383838\" rx=\"2\" ry=\"2\" style=\"stroke: #383838; stroke-width: 1.0;\"/><ellipse cx=\"146.7217\" cy=\"229.2855\" fill=\"#383838\" rx=\"2\" ry=\"2\" style=\"stroke: #383838; stroke-width: 1.0;\"/></a><!--MD5=[6bf4706b06733792a7016c2cc2480903]\n",
       "@startuml\r\n",
       "skinparam ranksep 10\r\n",
       "skinparam rectangle {\r\n",
       " backgroundColor<<block>> LightGreen\r\n",
       "}\r\n",
       " skinparam monochrome true\r\n",
       "skinparam classbackgroundcolor white\r\n",
       "skinparam shadowing false\r\n",
       "skinparam wrapWidth 300\r\n",
       "hide circle\r\n",
       "\r\n",
       "package \"QualifiedNameImportTest\" as E1  [[psysml:5126b6fb-a0df-489e-901c-12bad15fd52c ]]  {\r\n",
       "package \"P1\" as E2  [[psysml:4671c392-f153-4102-94c6-e9de6b11f3b3 ]]  {\r\n",
       "rec def \"A\" as E3  <<(T,blue) part  def>> [[psysml:d43e5a90-a5b9-40ed-82e3-14a3538b6850 ]] {\r\n",
       "}\r\n",
       "}\r\n",
       "package \"P2\" as E4  [[psysml:b774f6e1-b4cc-4027-a413-e3d948253bea ]]  {\r\n",
       "package \"P2a\" as E5  [[psysml:c40d8d93-4b48-4997-9b6b-7328d49803fe ]]  {\r\n",
       "}\r\n",
       "rec usage \"x: A\" as E6  [[psysml:76906768-adb2-44e4-864a-c9b21a4611cd ]] {\r\n",
       "}\r\n",
       "}\r\n",
       "}\r\n",
       "E5 ..> E2 [[psysml:9ee57c7f-7f65-4593-a505-e714f10a5bde ]] : <<import>>*\r\n",
       "E6 - -:|> E3 [[psysml:79dc21aa-3f25-4d04-bc8e-220599d338b9 ]] \r\n",
       "@enduml\r\n",
       "\n",
       "PlantUML version 1.2020.13(Sat Jun 13 12:26:38 UTC 2020)\n",
       "(EPL source distribution)\n",
       "Java Runtime: OpenJDK Runtime Environment\n",
       "JVM: OpenJDK 64-Bit Server VM\n",
       "Default Encoding: UTF-8\n",
       "Language: en\n",
       "Country: null\n",
       "--></g></svg>"
      ]
     },
     "execution_count": 5,
     "metadata": {},
     "output_type": "execute_result"
    }
   ],
   "source": [
    "%viz --style=\"COMPTREE\" --view=\"Interconnection\" \"QualifiedNameImportTest\""
   ]
  },
  {
   "cell_type": "code",
   "execution_count": 6,
   "id": "dfb201f4",
   "metadata": {
    "execution": {
     "iopub.execute_input": "2022-07-23T10:54:00.807189Z",
     "iopub.status.busy": "2022-07-23T10:54:00.806728Z",
     "iopub.status.idle": "2022-07-23T10:54:00.813454Z",
     "shell.execute_reply": "2022-07-23T10:54:00.813772Z"
    }
   },
   "outputs": [
    {
     "data": {
      "image/svg+xml": [
       "<?xml version=\"1.0\" encoding=\"UTF-8\" standalone=\"no\"?><svg xmlns=\"http://www.w3.org/2000/svg\" xmlns:xlink=\"http://www.w3.org/1999/xlink\" contentScriptType=\"application/ecmascript\" contentStyleType=\"text/css\" height=\"12px\" preserveAspectRatio=\"none\" style=\"width:12px;height:12px;\" version=\"1.1\" viewBox=\"0 0 12 12\" width=\"12px\" zoomAndPan=\"magnify\"><defs/><g><!--MD5=[655b888544ca4751ea36af1068543f84]\n",
       "@startuml\r\n",
       "skinparam ranksep 8\r\n",
       " skinparam monochrome true\r\n",
       "skinparam classbackgroundcolor white\r\n",
       "skinparam shadowing false\r\n",
       "skinparam wrapWidth 300\r\n",
       "hide circle\r\n",
       "\r\n",
       "@enduml\r\n",
       "\n",
       "PlantUML version 1.2020.13(Sat Jun 13 12:26:38 UTC 2020)\n",
       "(EPL source distribution)\n",
       "Java Runtime: OpenJDK Runtime Environment\n",
       "JVM: OpenJDK 64-Bit Server VM\n",
       "Default Encoding: UTF-8\n",
       "Language: en\n",
       "Country: null\n",
       "--></g></svg>"
      ]
     },
     "execution_count": 6,
     "metadata": {},
     "output_type": "execute_result"
    }
   ],
   "source": [
    "%viz --style=\"COMPTREE\" --view=\"Action\" \"QualifiedNameImportTest\""
   ]
  },
  {
   "cell_type": "code",
   "execution_count": 7,
   "id": "b054b8a0",
   "metadata": {
    "execution": {
     "iopub.execute_input": "2022-07-23T10:54:00.864240Z",
     "iopub.status.busy": "2022-07-23T10:54:00.863784Z",
     "iopub.status.idle": "2022-07-23T10:54:00.884972Z",
     "shell.execute_reply": "2022-07-23T10:54:00.884558Z"
    }
   },
   "outputs": [
    {
     "data": {
      "image/svg+xml": [
       "<?xml version=\"1.0\" encoding=\"UTF-8\" standalone=\"no\"?><svg xmlns=\"http://www.w3.org/2000/svg\" xmlns:xlink=\"http://www.w3.org/1999/xlink\" contentScriptType=\"application/ecmascript\" contentStyleType=\"text/css\" height=\"12px\" preserveAspectRatio=\"none\" style=\"width:12px;height:12px;\" version=\"1.1\" viewBox=\"0 0 12 12\" width=\"12px\" zoomAndPan=\"magnify\"><defs/><g><!--MD5=[803fc46c337be7a5c8a9831e35356779]\n",
       "@startuml\r\n",
       "skinparam roundcorner 20\r\n",
       "skinparam BoxPadding 20\r\n",
       "skinparam SequenceBoxBackgroundColor #white\r\n",
       "skinparam style strictuml\r\n",
       "skinparam maxMessageSize 100\r\n",
       " skinparam monochrome true\r\n",
       "skinparam classbackgroundcolor white\r\n",
       "skinparam shadowing false\r\n",
       "skinparam wrapWidth 300\r\n",
       "hide circle\r\n",
       "\r\n",
       "@enduml\r\n",
       "\n",
       "PlantUML version 1.2020.13(Sat Jun 13 12:26:38 UTC 2020)\n",
       "(EPL source distribution)\n",
       "Java Runtime: OpenJDK Runtime Environment\n",
       "JVM: OpenJDK 64-Bit Server VM\n",
       "Default Encoding: UTF-8\n",
       "Language: en\n",
       "Country: null\n",
       "--></g></svg>"
      ]
     },
     "execution_count": 7,
     "metadata": {},
     "output_type": "execute_result"
    }
   ],
   "source": [
    "%viz --style=\"COMPTREE\" --view=\"Sequence\" \"QualifiedNameImportTest\""
   ]
  },
  {
   "cell_type": "code",
   "execution_count": 8,
   "id": "3413cf60",
   "metadata": {
    "execution": {
     "iopub.execute_input": "2022-07-23T10:54:00.934517Z",
     "iopub.status.busy": "2022-07-23T10:54:00.934068Z",
     "iopub.status.idle": "2022-07-23T10:54:00.966829Z",
     "shell.execute_reply": "2022-07-23T10:54:00.966420Z"
    }
   },
   "outputs": [
    {
     "data": {
      "image/svg+xml": [
       "<?xml version=\"1.0\" encoding=\"UTF-8\" standalone=\"no\"?><svg xmlns=\"http://www.w3.org/2000/svg\" xmlns:xlink=\"http://www.w3.org/1999/xlink\" contentScriptType=\"application/ecmascript\" contentStyleType=\"text/css\" height=\"367px\" preserveAspectRatio=\"none\" style=\"width:243px;height:367px;\" version=\"1.1\" viewBox=\"0 0 243 367\" width=\"243px\" zoomAndPan=\"magnify\"><defs/><g><!--MD5=[fbc87193dbaf4d95561dea2c320d4a47]\n",
       "cluster E1--><a href=\"psysml:5126b6fb-a0df-489e-901c-12bad15fd52c\" target=\"_top\" title=\"psysml:5126b6fb-a0df-489e-901c-12bad15fd52c\" xlink:actuate=\"onRequest\" xlink:href=\"psysml:5126b6fb-a0df-489e-901c-12bad15fd52c\" xlink:show=\"new\" xlink:title=\"psysml:5126b6fb-a0df-489e-901c-12bad15fd52c\" xlink:type=\"simple\"><polygon fill=\"#FFFFFF\" points=\"16,6,196,6,203,28.2969,219,28.2969,219,355,16,355,16,6\" style=\"stroke: #000000; stroke-width: 1.5;\"/><line style=\"stroke: #000000; stroke-width: 1.5;\" x1=\"16\" x2=\"203\" y1=\"28.2969\" y2=\"28.2969\"/><text fill=\"#000000\" font-family=\"sans-serif\" font-size=\"14\" font-weight=\"bold\" lengthAdjust=\"spacingAndGlyphs\" textLength=\"174\" x=\"20\" y=\"20.9951\">QualifiedNameImportTest</text></a><!--MD5=[e4f7fae6ed58524ba242bb0b0d3be6b7]\n",
       "cluster E2--><a href=\"psysml:4671c392-f153-4102-94c6-e9de6b11f3b3\" target=\"_top\" title=\"psysml:4671c392-f153-4102-94c6-e9de6b11f3b3\" xlink:actuate=\"onRequest\" xlink:href=\"psysml:4671c392-f153-4102-94c6-e9de6b11f3b3\" xlink:show=\"new\" xlink:title=\"psysml:4671c392-f153-4102-94c6-e9de6b11f3b3\" xlink:type=\"simple\"><polygon fill=\"#FFFFFF\" points=\"48,210,72,210,79,232.2969,185,232.2969,185,323,48,323,48,210\" style=\"stroke: #000000; stroke-width: 1.5;\"/><line style=\"stroke: #000000; stroke-width: 1.5;\" x1=\"48\" x2=\"79\" y1=\"232.2969\" y2=\"232.2969\"/><text fill=\"#000000\" font-family=\"sans-serif\" font-size=\"14\" font-weight=\"bold\" lengthAdjust=\"spacingAndGlyphs\" textLength=\"18\" x=\"52\" y=\"224.9951\">P1</text></a><!--MD5=[f6df4d0ebaf0b5dfb2ced0ae5af7c670]\n",
       "cluster E4--><a href=\"psysml:b774f6e1-b4cc-4027-a413-e3d948253bea\" target=\"_top\" title=\"psysml:b774f6e1-b4cc-4027-a413-e3d948253bea\" xlink:actuate=\"onRequest\" xlink:href=\"psysml:b774f6e1-b4cc-4027-a413-e3d948253bea\" xlink:show=\"new\" xlink:title=\"psysml:b774f6e1-b4cc-4027-a413-e3d948253bea\" xlink:type=\"simple\"><polygon fill=\"#FFFFFF\" points=\"40,49,64,49,71,71.2969,195,71.2969,195,153,40,153,40,49\" style=\"stroke: #000000; stroke-width: 1.5;\"/><line style=\"stroke: #000000; stroke-width: 1.5;\" x1=\"40\" x2=\"71\" y1=\"71.2969\" y2=\"71.2969\"/><text fill=\"#000000\" font-family=\"sans-serif\" font-size=\"14\" font-weight=\"bold\" lengthAdjust=\"spacingAndGlyphs\" textLength=\"18\" x=\"44\" y=\"63.9951\">P2</text></a><!--MD5=[09b614a08d8cba4a07c9adeb5e0fee81]\n",
       "class E3--><a href=\"psysml:d43e5a90-a5b9-40ed-82e3-14a3538b6850\" target=\"_top\" title=\"psysml:d43e5a90-a5b9-40ed-82e3-14a3538b6850\" xlink:actuate=\"onRequest\" xlink:href=\"psysml:d43e5a90-a5b9-40ed-82e3-14a3538b6850\" xlink:show=\"new\" xlink:title=\"psysml:d43e5a90-a5b9-40ed-82e3-14a3538b6850\" xlink:type=\"simple\"><rect fill=\"#FFFFFF\" height=\"45.9375\" id=\"E3\" style=\"stroke: #383838; stroke-width: 1.5;\" width=\"70\" x=\"72\" y=\"253\"/><text fill=\"#000000\" font-family=\"sans-serif\" font-size=\"12\" font-style=\"italic\" lengthAdjust=\"spacingAndGlyphs\" textLength=\"68\" x=\"73\" y=\"269.1387\">«part  def»</text><text fill=\"#000000\" font-family=\"sans-serif\" font-size=\"12\" lengthAdjust=\"spacingAndGlyphs\" textLength=\"8\" x=\"103\" y=\"283.1074\">A</text><line style=\"stroke: #383838; stroke-width: 1.5;\" x1=\"73\" x2=\"141\" y1=\"290.9375\" y2=\"290.9375\"/></a><!--MD5=[60a26617385b1d2d0262a64233df1f8d]\n",
       "class E6--><a href=\"psysml:76906768-adb2-44e4-864a-c9b21a4611cd\" target=\"_top\" title=\"psysml:76906768-adb2-44e4-864a-c9b21a4611cd\" xlink:actuate=\"onRequest\" xlink:href=\"psysml:76906768-adb2-44e4-864a-c9b21a4611cd\" xlink:show=\"new\" xlink:title=\"psysml:76906768-adb2-44e4-864a-c9b21a4611cd\" xlink:type=\"simple\"><rect fill=\"#FFFFFF\" height=\"45.9375\" id=\"E6\" rx=\"10\" ry=\"10\" style=\"stroke: #383838; stroke-width: 1.5;\" width=\"42\" x=\"56\" y=\"87.5\"/><text fill=\"#000000\" font-family=\"sans-serif\" font-size=\"12\" font-style=\"italic\" lengthAdjust=\"spacingAndGlyphs\" textLength=\"40\" x=\"57\" y=\"103.6387\">«part»</text><text fill=\"#000000\" font-family=\"sans-serif\" font-size=\"12\" lengthAdjust=\"spacingAndGlyphs\" textLength=\"22\" x=\"64\" y=\"117.6074\">x: A</text><line style=\"stroke: #383838; stroke-width: 1.5;\" x1=\"57\" x2=\"97\" y1=\"125.4375\" y2=\"125.4375\"/></a><a href=\"psysml:c40d8d93-4b48-4997-9b6b-7328d49803fe\" target=\"_top\" title=\"psysml:c40d8d93-4b48-4997-9b6b-7328d49803fe\" xlink:actuate=\"onRequest\" xlink:href=\"psysml:c40d8d93-4b48-4997-9b6b-7328d49803fe\" xlink:show=\"new\" xlink:title=\"psysml:c40d8d93-4b48-4997-9b6b-7328d49803fe\" xlink:type=\"simple\"><polygon fill=\"#FFFFFF\" points=\"133,84,165,84,172,106.2969,179,106.2969,179,136.5938,133,136.5938,133,84\" style=\"stroke: #000000; stroke-width: 1.5;\"/><line style=\"stroke: #000000; stroke-width: 1.5;\" x1=\"133\" x2=\"172\" y1=\"106.2969\" y2=\"106.2969\"/><text fill=\"#000000\" font-family=\"sans-serif\" font-size=\"14\" font-weight=\"bold\" lengthAdjust=\"spacingAndGlyphs\" textLength=\"26\" x=\"137\" y=\"98.9951\">P2a</text></a><!--MD5=[15ebcb19ae302d9b601edb458606d402]\n",
       "link E5 to E2--><a href=\"psysml:9ee57c7f-7f65-4593-a505-e714f10a5bde\" target=\"_top\" title=\"psysml:9ee57c7f-7f65-4593-a505-e714f10a5bde\" xlink:actuate=\"onRequest\" xlink:href=\"psysml:9ee57c7f-7f65-4593-a505-e714f10a5bde\" xlink:show=\"new\" xlink:title=\"psysml:9ee57c7f-7f65-4593-a505-e714f10a5bde\" xlink:type=\"simple\"><path d=\"M159.28,137.05 C160.735,148.365 162.5469,162.4656 164.4519,177.2955 C165.4044,184.7104 166.3802,192.3076 167.3463,199.8301 C167.5878,201.7107 167.8287,203.5867 168.0685,205.4539 C168.1884,206.3876 168.308,207.319 168.4273,208.2478 C168.4869,208.7122 168.5465,209.1759 168.6059,209.6389 \" fill=\"none\" id=\"E5-&gt;E2\" style=\"stroke: #383838; stroke-width: 1.0; stroke-dasharray: 7.0,7.0;\"/><polygon fill=\"#383838\" points=\"168.6059,209.6389,171.427,200.2027,167.9691,204.6796,163.4922,201.2217,168.6059,209.6389\" style=\"stroke: #383838; stroke-width: 1.0;\"/><text fill=\"#000000\" font-family=\"sans-serif\" font-size=\"13\" lengthAdjust=\"spacingAndGlyphs\" textLength=\"65\" x=\"166\" y=\"182.0669\">«import»*</text></a><!--MD5=[a717450b82c80b9240a525fa862496af]\n",
       "link E6 to E3--><a href=\"psysml:79dc21aa-3f25-4d04-bc8e-220599d338b9\" target=\"_top\" title=\"psysml:79dc21aa-3f25-4d04-bc8e-220599d338b9\" xlink:actuate=\"onRequest\" xlink:href=\"psysml:79dc21aa-3f25-4d04-bc8e-220599d338b9\" xlink:show=\"new\" xlink:title=\"psysml:79dc21aa-3f25-4d04-bc8e-220599d338b9\" xlink:type=\"simple\"><path d=\"M81.05,133.55 C85.7,158.9 93.44,201.1 99.26,232.83 \" fill=\"none\" id=\"E6-&gt;E3\" style=\"stroke: #383838; stroke-width: 1.0;\"/><polygon fill=\"#FFFFFF\" points=\"102.92,252.78,92.6018,235.3578,106.3713,232.8278,102.92,252.78\" style=\"stroke: #383838; stroke-width: 1.0;\"/><ellipse cx=\"93.5388\" cy=\"229.3902\" fill=\"#383838\" rx=\"2\" ry=\"2\" style=\"stroke: #383838; stroke-width: 1.0;\"/><ellipse cx=\"103.3742\" cy=\"227.5831\" fill=\"#383838\" rx=\"2\" ry=\"2\" style=\"stroke: #383838; stroke-width: 1.0;\"/></a><!--MD5=[04d8d78121c0266259bf65148e685b47]\n",
       "@startuml\r\n",
       " skinparam monochrome true\r\n",
       "skinparam classbackgroundcolor white\r\n",
       "skinparam shadowing false\r\n",
       "skinparam wrapWidth 300\r\n",
       "hide circle\r\n",
       "\r\n",
       "package \"QualifiedNameImportTest\" as E1  [[psysml:5126b6fb-a0df-489e-901c-12bad15fd52c ]]  {\r\n",
       "package \"P1\" as E2  [[psysml:4671c392-f153-4102-94c6-e9de6b11f3b3 ]]  {\r\n",
       "comp def \"A\" as E3  <<(T,blue) part  def>> [[psysml:d43e5a90-a5b9-40ed-82e3-14a3538b6850 ]] {\r\n",
       "}\r\n",
       "}\r\n",
       "package \"P2\" as E4  [[psysml:b774f6e1-b4cc-4027-a413-e3d948253bea ]]  {\r\n",
       "package \"P2a\" as E5  [[psysml:c40d8d93-4b48-4997-9b6b-7328d49803fe ]]  {\r\n",
       "}\r\n",
       "comp usage \"x: A \" as E6  <<(T,blue) part>> [[psysml:76906768-adb2-44e4-864a-c9b21a4611cd ]] {\r\n",
       "}\r\n",
       "}\r\n",
       "}\r\n",
       "E5 ..> E2 [[psysml:9ee57c7f-7f65-4593-a505-e714f10a5bde ]] : <<import>>*\r\n",
       "E6 - -:|> E3 [[psysml:79dc21aa-3f25-4d04-bc8e-220599d338b9 ]] \r\n",
       "@enduml\r\n",
       "\n",
       "PlantUML version 1.2020.13(Sat Jun 13 12:26:38 UTC 2020)\n",
       "(EPL source distribution)\n",
       "Java Runtime: OpenJDK Runtime Environment\n",
       "JVM: OpenJDK 64-Bit Server VM\n",
       "Default Encoding: UTF-8\n",
       "Language: en\n",
       "Country: null\n",
       "--></g></svg>"
      ]
     },
     "execution_count": 8,
     "metadata": {},
     "output_type": "execute_result"
    }
   ],
   "source": [
    "%viz --style=\"COMPTREE\" --view=\"MIXED\" \"QualifiedNameImportTest\""
   ]
  },
  {
   "cell_type": "code",
   "execution_count": 9,
   "id": "ddef5bbb",
   "metadata": {
    "execution": {
     "iopub.execute_input": "2022-07-23T10:54:01.016570Z",
     "iopub.status.busy": "2022-07-23T10:54:01.016085Z",
     "iopub.status.idle": "2022-07-23T10:54:01.044862Z",
     "shell.execute_reply": "2022-07-23T10:54:01.045126Z"
    }
   },
   "outputs": [
    {
     "data": {
      "image/svg+xml": [
       "<?xml version=\"1.0\" encoding=\"UTF-8\" standalone=\"no\"?><svg xmlns=\"http://www.w3.org/2000/svg\" xmlns:xlink=\"http://www.w3.org/1999/xlink\" contentScriptType=\"application/ecmascript\" contentStyleType=\"text/css\" height=\"367px\" preserveAspectRatio=\"none\" style=\"width:243px;height:367px;\" version=\"1.1\" viewBox=\"0 0 243 367\" width=\"243px\" zoomAndPan=\"magnify\"><defs/><g><!--MD5=[fbc87193dbaf4d95561dea2c320d4a47]\n",
       "cluster E1--><a href=\"psysml:5126b6fb-a0df-489e-901c-12bad15fd52c\" target=\"_top\" title=\"psysml:5126b6fb-a0df-489e-901c-12bad15fd52c\" xlink:actuate=\"onRequest\" xlink:href=\"psysml:5126b6fb-a0df-489e-901c-12bad15fd52c\" xlink:show=\"new\" xlink:title=\"psysml:5126b6fb-a0df-489e-901c-12bad15fd52c\" xlink:type=\"simple\"><polygon fill=\"#FFFFFF\" points=\"16,6,196,6,203,28.2969,219,28.2969,219,355,16,355,16,6\" style=\"stroke: #000000; stroke-width: 1.5;\"/><line style=\"stroke: #000000; stroke-width: 1.5;\" x1=\"16\" x2=\"203\" y1=\"28.2969\" y2=\"28.2969\"/><text fill=\"#000000\" font-family=\"sans-serif\" font-size=\"14\" font-weight=\"bold\" lengthAdjust=\"spacingAndGlyphs\" textLength=\"174\" x=\"20\" y=\"20.9951\">QualifiedNameImportTest</text></a><!--MD5=[e4f7fae6ed58524ba242bb0b0d3be6b7]\n",
       "cluster E2--><a href=\"psysml:4671c392-f153-4102-94c6-e9de6b11f3b3\" target=\"_top\" title=\"psysml:4671c392-f153-4102-94c6-e9de6b11f3b3\" xlink:actuate=\"onRequest\" xlink:href=\"psysml:4671c392-f153-4102-94c6-e9de6b11f3b3\" xlink:show=\"new\" xlink:title=\"psysml:4671c392-f153-4102-94c6-e9de6b11f3b3\" xlink:type=\"simple\"><polygon fill=\"#FFFFFF\" points=\"48,210,72,210,79,232.2969,185,232.2969,185,323,48,323,48,210\" style=\"stroke: #000000; stroke-width: 1.5;\"/><line style=\"stroke: #000000; stroke-width: 1.5;\" x1=\"48\" x2=\"79\" y1=\"232.2969\" y2=\"232.2969\"/><text fill=\"#000000\" font-family=\"sans-serif\" font-size=\"14\" font-weight=\"bold\" lengthAdjust=\"spacingAndGlyphs\" textLength=\"18\" x=\"52\" y=\"224.9951\">P1</text></a><!--MD5=[f6df4d0ebaf0b5dfb2ced0ae5af7c670]\n",
       "cluster E4--><a href=\"psysml:b774f6e1-b4cc-4027-a413-e3d948253bea\" target=\"_top\" title=\"psysml:b774f6e1-b4cc-4027-a413-e3d948253bea\" xlink:actuate=\"onRequest\" xlink:href=\"psysml:b774f6e1-b4cc-4027-a413-e3d948253bea\" xlink:show=\"new\" xlink:title=\"psysml:b774f6e1-b4cc-4027-a413-e3d948253bea\" xlink:type=\"simple\"><polygon fill=\"#FFFFFF\" points=\"40,49,64,49,71,71.2969,195,71.2969,195,153,40,153,40,49\" style=\"stroke: #000000; stroke-width: 1.5;\"/><line style=\"stroke: #000000; stroke-width: 1.5;\" x1=\"40\" x2=\"71\" y1=\"71.2969\" y2=\"71.2969\"/><text fill=\"#000000\" font-family=\"sans-serif\" font-size=\"14\" font-weight=\"bold\" lengthAdjust=\"spacingAndGlyphs\" textLength=\"18\" x=\"44\" y=\"63.9951\">P2</text></a><!--MD5=[09b614a08d8cba4a07c9adeb5e0fee81]\n",
       "class E3--><a href=\"psysml:d43e5a90-a5b9-40ed-82e3-14a3538b6850\" target=\"_top\" title=\"psysml:d43e5a90-a5b9-40ed-82e3-14a3538b6850\" xlink:actuate=\"onRequest\" xlink:href=\"psysml:d43e5a90-a5b9-40ed-82e3-14a3538b6850\" xlink:show=\"new\" xlink:title=\"psysml:d43e5a90-a5b9-40ed-82e3-14a3538b6850\" xlink:type=\"simple\"><rect fill=\"#FFFFFF\" height=\"45.9375\" id=\"E3\" style=\"stroke: #383838; stroke-width: 1.5;\" width=\"70\" x=\"72\" y=\"253\"/><text fill=\"#000000\" font-family=\"sans-serif\" font-size=\"12\" font-style=\"italic\" lengthAdjust=\"spacingAndGlyphs\" textLength=\"68\" x=\"73\" y=\"269.1387\">«part  def»</text><text fill=\"#000000\" font-family=\"sans-serif\" font-size=\"12\" lengthAdjust=\"spacingAndGlyphs\" textLength=\"8\" x=\"103\" y=\"283.1074\">A</text><line style=\"stroke: #383838; stroke-width: 1.5;\" x1=\"73\" x2=\"141\" y1=\"290.9375\" y2=\"290.9375\"/></a><!--MD5=[60a26617385b1d2d0262a64233df1f8d]\n",
       "class E6--><a href=\"psysml:76906768-adb2-44e4-864a-c9b21a4611cd\" target=\"_top\" title=\"psysml:76906768-adb2-44e4-864a-c9b21a4611cd\" xlink:actuate=\"onRequest\" xlink:href=\"psysml:76906768-adb2-44e4-864a-c9b21a4611cd\" xlink:show=\"new\" xlink:title=\"psysml:76906768-adb2-44e4-864a-c9b21a4611cd\" xlink:type=\"simple\"><rect fill=\"#FFFFFF\" height=\"45.9375\" id=\"E6\" rx=\"10\" ry=\"10\" style=\"stroke: #383838; stroke-width: 1.5;\" width=\"42\" x=\"56\" y=\"87.5\"/><text fill=\"#000000\" font-family=\"sans-serif\" font-size=\"12\" font-style=\"italic\" lengthAdjust=\"spacingAndGlyphs\" textLength=\"40\" x=\"57\" y=\"103.6387\">«part»</text><text fill=\"#000000\" font-family=\"sans-serif\" font-size=\"12\" lengthAdjust=\"spacingAndGlyphs\" textLength=\"22\" x=\"64\" y=\"117.6074\">x: A</text><line style=\"stroke: #383838; stroke-width: 1.5;\" x1=\"57\" x2=\"97\" y1=\"125.4375\" y2=\"125.4375\"/></a><a href=\"psysml:c40d8d93-4b48-4997-9b6b-7328d49803fe\" target=\"_top\" title=\"psysml:c40d8d93-4b48-4997-9b6b-7328d49803fe\" xlink:actuate=\"onRequest\" xlink:href=\"psysml:c40d8d93-4b48-4997-9b6b-7328d49803fe\" xlink:show=\"new\" xlink:title=\"psysml:c40d8d93-4b48-4997-9b6b-7328d49803fe\" xlink:type=\"simple\"><polygon fill=\"#FFFFFF\" points=\"133,84,165,84,172,106.2969,179,106.2969,179,136.5938,133,136.5938,133,84\" style=\"stroke: #000000; stroke-width: 1.5;\"/><line style=\"stroke: #000000; stroke-width: 1.5;\" x1=\"133\" x2=\"172\" y1=\"106.2969\" y2=\"106.2969\"/><text fill=\"#000000\" font-family=\"sans-serif\" font-size=\"14\" font-weight=\"bold\" lengthAdjust=\"spacingAndGlyphs\" textLength=\"26\" x=\"137\" y=\"98.9951\">P2a</text></a><!--MD5=[15ebcb19ae302d9b601edb458606d402]\n",
       "link E5 to E2--><a href=\"psysml:9ee57c7f-7f65-4593-a505-e714f10a5bde\" target=\"_top\" title=\"psysml:9ee57c7f-7f65-4593-a505-e714f10a5bde\" xlink:actuate=\"onRequest\" xlink:href=\"psysml:9ee57c7f-7f65-4593-a505-e714f10a5bde\" xlink:show=\"new\" xlink:title=\"psysml:9ee57c7f-7f65-4593-a505-e714f10a5bde\" xlink:type=\"simple\"><path d=\"M159.28,137.05 C160.735,148.365 162.5469,162.4656 164.4519,177.2955 C165.4044,184.7104 166.3802,192.3076 167.3463,199.8301 C167.5878,201.7107 167.8287,203.5867 168.0685,205.4539 C168.1884,206.3876 168.308,207.319 168.4273,208.2478 C168.4869,208.7122 168.5465,209.1759 168.6059,209.6389 \" fill=\"none\" id=\"E5-&gt;E2\" style=\"stroke: #383838; stroke-width: 1.0; stroke-dasharray: 7.0,7.0;\"/><polygon fill=\"#383838\" points=\"168.6059,209.6389,171.427,200.2027,167.9691,204.6796,163.4922,201.2217,168.6059,209.6389\" style=\"stroke: #383838; stroke-width: 1.0;\"/><text fill=\"#000000\" font-family=\"sans-serif\" font-size=\"13\" lengthAdjust=\"spacingAndGlyphs\" textLength=\"65\" x=\"166\" y=\"182.0669\">«import»*</text></a><!--MD5=[a717450b82c80b9240a525fa862496af]\n",
       "link E6 to E3--><a href=\"psysml:79dc21aa-3f25-4d04-bc8e-220599d338b9\" target=\"_top\" title=\"psysml:79dc21aa-3f25-4d04-bc8e-220599d338b9\" xlink:actuate=\"onRequest\" xlink:href=\"psysml:79dc21aa-3f25-4d04-bc8e-220599d338b9\" xlink:show=\"new\" xlink:title=\"psysml:79dc21aa-3f25-4d04-bc8e-220599d338b9\" xlink:type=\"simple\"><path d=\"M81.05,133.55 C85.7,158.9 93.44,201.1 99.26,232.83 \" fill=\"none\" id=\"E6-&gt;E3\" style=\"stroke: #383838; stroke-width: 1.0;\"/><polygon fill=\"#FFFFFF\" points=\"102.92,252.78,92.6018,235.3578,106.3713,232.8278,102.92,252.78\" style=\"stroke: #383838; stroke-width: 1.0;\"/><ellipse cx=\"93.5388\" cy=\"229.3902\" fill=\"#383838\" rx=\"2\" ry=\"2\" style=\"stroke: #383838; stroke-width: 1.0;\"/><ellipse cx=\"103.3742\" cy=\"227.5831\" fill=\"#383838\" rx=\"2\" ry=\"2\" style=\"stroke: #383838; stroke-width: 1.0;\"/></a><!--MD5=[14325ca08a1ed48b02dfa4773f02a4a4]\n",
       "@startuml\r\n",
       "skinparam linetype polyline\r\n",
       "skinparam monochrome true\r\n",
       "skinparam classbackgroundcolor white\r\n",
       "skinparam shadowing false\r\n",
       "skinparam wrapWidth 300\r\n",
       "hide circle\r\n",
       "\r\n",
       "package \"QualifiedNameImportTest\" as E1  [[psysml:5126b6fb-a0df-489e-901c-12bad15fd52c ]]  {\r\n",
       "package \"P1\" as E2  [[psysml:4671c392-f153-4102-94c6-e9de6b11f3b3 ]]  {\r\n",
       "comp def \"A\" as E3  <<(T,blue) part  def>> [[psysml:d43e5a90-a5b9-40ed-82e3-14a3538b6850 ]] {\r\n",
       "}\r\n",
       "}\r\n",
       "package \"P2\" as E4  [[psysml:b774f6e1-b4cc-4027-a413-e3d948253bea ]]  {\r\n",
       "package \"P2a\" as E5  [[psysml:c40d8d93-4b48-4997-9b6b-7328d49803fe ]]  {\r\n",
       "}\r\n",
       "comp usage \"x: A \" as E6  <<(T,blue) part>> [[psysml:76906768-adb2-44e4-864a-c9b21a4611cd ]] {\r\n",
       "}\r\n",
       "}\r\n",
       "}\r\n",
       "E5 ..> E2 [[psysml:9ee57c7f-7f65-4593-a505-e714f10a5bde ]] : <<import>>*\r\n",
       "E6 - -:|> E3 [[psysml:79dc21aa-3f25-4d04-bc8e-220599d338b9 ]] \r\n",
       "@enduml\r\n",
       "\n",
       "PlantUML version 1.2020.13(Sat Jun 13 12:26:38 UTC 2020)\n",
       "(EPL source distribution)\n",
       "Java Runtime: OpenJDK Runtime Environment\n",
       "JVM: OpenJDK 64-Bit Server VM\n",
       "Default Encoding: UTF-8\n",
       "Language: en\n",
       "Country: null\n",
       "--></g></svg>"
      ]
     },
     "execution_count": 9,
     "metadata": {},
     "output_type": "execute_result"
    }
   ],
   "source": [
    "%viz --style=\"POLYLINE\" --view=\"Default\" \"QualifiedNameImportTest\""
   ]
  },
  {
   "cell_type": "code",
   "execution_count": 10,
   "id": "3aef5b9d",
   "metadata": {
    "execution": {
     "iopub.execute_input": "2022-07-23T10:54:01.095673Z",
     "iopub.status.busy": "2022-07-23T10:54:01.095157Z",
     "iopub.status.idle": "2022-07-23T10:54:01.142939Z",
     "shell.execute_reply": "2022-07-23T10:54:01.141442Z"
    }
   },
   "outputs": [
    {
     "data": {
      "image/svg+xml": [
       "<?xml version=\"1.0\" encoding=\"UTF-8\" standalone=\"no\"?><svg xmlns=\"http://www.w3.org/2000/svg\" xmlns:xlink=\"http://www.w3.org/1999/xlink\" contentScriptType=\"application/ecmascript\" contentStyleType=\"text/css\" height=\"367px\" preserveAspectRatio=\"none\" style=\"width:243px;height:367px;\" version=\"1.1\" viewBox=\"0 0 243 367\" width=\"243px\" zoomAndPan=\"magnify\"><defs/><g><!--MD5=[fbc87193dbaf4d95561dea2c320d4a47]\n",
       "cluster E1--><a href=\"psysml:5126b6fb-a0df-489e-901c-12bad15fd52c\" target=\"_top\" title=\"psysml:5126b6fb-a0df-489e-901c-12bad15fd52c\" xlink:actuate=\"onRequest\" xlink:href=\"psysml:5126b6fb-a0df-489e-901c-12bad15fd52c\" xlink:show=\"new\" xlink:title=\"psysml:5126b6fb-a0df-489e-901c-12bad15fd52c\" xlink:type=\"simple\"><polygon fill=\"#FFFFFF\" points=\"16,6,196,6,203,28.2969,219,28.2969,219,355,16,355,16,6\" style=\"stroke: #000000; stroke-width: 1.5;\"/><line style=\"stroke: #000000; stroke-width: 1.5;\" x1=\"16\" x2=\"203\" y1=\"28.2969\" y2=\"28.2969\"/><text fill=\"#000000\" font-family=\"sans-serif\" font-size=\"14\" font-weight=\"bold\" lengthAdjust=\"spacingAndGlyphs\" textLength=\"174\" x=\"20\" y=\"20.9951\">QualifiedNameImportTest</text></a><!--MD5=[e4f7fae6ed58524ba242bb0b0d3be6b7]\n",
       "cluster E2--><a href=\"psysml:4671c392-f153-4102-94c6-e9de6b11f3b3\" target=\"_top\" title=\"psysml:4671c392-f153-4102-94c6-e9de6b11f3b3\" xlink:actuate=\"onRequest\" xlink:href=\"psysml:4671c392-f153-4102-94c6-e9de6b11f3b3\" xlink:show=\"new\" xlink:title=\"psysml:4671c392-f153-4102-94c6-e9de6b11f3b3\" xlink:type=\"simple\"><polygon fill=\"#FFFFFF\" points=\"48,210,72,210,79,232.2969,185,232.2969,185,323,48,323,48,210\" style=\"stroke: #000000; stroke-width: 1.5;\"/><line style=\"stroke: #000000; stroke-width: 1.5;\" x1=\"48\" x2=\"79\" y1=\"232.2969\" y2=\"232.2969\"/><text fill=\"#000000\" font-family=\"sans-serif\" font-size=\"14\" font-weight=\"bold\" lengthAdjust=\"spacingAndGlyphs\" textLength=\"18\" x=\"52\" y=\"224.9951\">P1</text></a><!--MD5=[f6df4d0ebaf0b5dfb2ced0ae5af7c670]\n",
       "cluster E4--><a href=\"psysml:b774f6e1-b4cc-4027-a413-e3d948253bea\" target=\"_top\" title=\"psysml:b774f6e1-b4cc-4027-a413-e3d948253bea\" xlink:actuate=\"onRequest\" xlink:href=\"psysml:b774f6e1-b4cc-4027-a413-e3d948253bea\" xlink:show=\"new\" xlink:title=\"psysml:b774f6e1-b4cc-4027-a413-e3d948253bea\" xlink:type=\"simple\"><polygon fill=\"#FFFFFF\" points=\"40,49,64,49,71,71.2969,195,71.2969,195,153,40,153,40,49\" style=\"stroke: #000000; stroke-width: 1.5;\"/><line style=\"stroke: #000000; stroke-width: 1.5;\" x1=\"40\" x2=\"71\" y1=\"71.2969\" y2=\"71.2969\"/><text fill=\"#000000\" font-family=\"sans-serif\" font-size=\"14\" font-weight=\"bold\" lengthAdjust=\"spacingAndGlyphs\" textLength=\"18\" x=\"44\" y=\"63.9951\">P2</text></a><!--MD5=[09b614a08d8cba4a07c9adeb5e0fee81]\n",
       "class E3--><a href=\"psysml:d43e5a90-a5b9-40ed-82e3-14a3538b6850\" target=\"_top\" title=\"psysml:d43e5a90-a5b9-40ed-82e3-14a3538b6850\" xlink:actuate=\"onRequest\" xlink:href=\"psysml:d43e5a90-a5b9-40ed-82e3-14a3538b6850\" xlink:show=\"new\" xlink:title=\"psysml:d43e5a90-a5b9-40ed-82e3-14a3538b6850\" xlink:type=\"simple\"><rect fill=\"#FFFFFF\" height=\"45.9375\" id=\"E3\" style=\"stroke: #383838; stroke-width: 1.5;\" width=\"70\" x=\"72\" y=\"253\"/><text fill=\"#000000\" font-family=\"sans-serif\" font-size=\"12\" font-style=\"italic\" lengthAdjust=\"spacingAndGlyphs\" textLength=\"68\" x=\"73\" y=\"269.1387\">«part  def»</text><text fill=\"#000000\" font-family=\"sans-serif\" font-size=\"12\" lengthAdjust=\"spacingAndGlyphs\" textLength=\"8\" x=\"103\" y=\"283.1074\">A</text><line style=\"stroke: #383838; stroke-width: 1.5;\" x1=\"73\" x2=\"141\" y1=\"290.9375\" y2=\"290.9375\"/></a><!--MD5=[60a26617385b1d2d0262a64233df1f8d]\n",
       "class E6--><a href=\"psysml:76906768-adb2-44e4-864a-c9b21a4611cd\" target=\"_top\" title=\"psysml:76906768-adb2-44e4-864a-c9b21a4611cd\" xlink:actuate=\"onRequest\" xlink:href=\"psysml:76906768-adb2-44e4-864a-c9b21a4611cd\" xlink:show=\"new\" xlink:title=\"psysml:76906768-adb2-44e4-864a-c9b21a4611cd\" xlink:type=\"simple\"><rect fill=\"#FFFFFF\" height=\"45.9375\" id=\"E6\" rx=\"10\" ry=\"10\" style=\"stroke: #383838; stroke-width: 1.5;\" width=\"42\" x=\"56\" y=\"87.5\"/><text fill=\"#000000\" font-family=\"sans-serif\" font-size=\"12\" font-style=\"italic\" lengthAdjust=\"spacingAndGlyphs\" textLength=\"40\" x=\"57\" y=\"103.6387\">«part»</text><text fill=\"#000000\" font-family=\"sans-serif\" font-size=\"12\" lengthAdjust=\"spacingAndGlyphs\" textLength=\"22\" x=\"64\" y=\"117.6074\">x: A</text><line style=\"stroke: #383838; stroke-width: 1.5;\" x1=\"57\" x2=\"97\" y1=\"125.4375\" y2=\"125.4375\"/></a><a href=\"psysml:c40d8d93-4b48-4997-9b6b-7328d49803fe\" target=\"_top\" title=\"psysml:c40d8d93-4b48-4997-9b6b-7328d49803fe\" xlink:actuate=\"onRequest\" xlink:href=\"psysml:c40d8d93-4b48-4997-9b6b-7328d49803fe\" xlink:show=\"new\" xlink:title=\"psysml:c40d8d93-4b48-4997-9b6b-7328d49803fe\" xlink:type=\"simple\"><polygon fill=\"#FFFFFF\" points=\"133,84,165,84,172,106.2969,179,106.2969,179,136.5938,133,136.5938,133,84\" style=\"stroke: #000000; stroke-width: 1.5;\"/><line style=\"stroke: #000000; stroke-width: 1.5;\" x1=\"133\" x2=\"172\" y1=\"106.2969\" y2=\"106.2969\"/><text fill=\"#000000\" font-family=\"sans-serif\" font-size=\"14\" font-weight=\"bold\" lengthAdjust=\"spacingAndGlyphs\" textLength=\"26\" x=\"137\" y=\"98.9951\">P2a</text></a><!--MD5=[15ebcb19ae302d9b601edb458606d402]\n",
       "link E5 to E2--><a href=\"psysml:9ee57c7f-7f65-4593-a505-e714f10a5bde\" target=\"_top\" title=\"psysml:9ee57c7f-7f65-4593-a505-e714f10a5bde\" xlink:actuate=\"onRequest\" xlink:href=\"psysml:9ee57c7f-7f65-4593-a505-e714f10a5bde\" xlink:show=\"new\" xlink:title=\"psysml:9ee57c7f-7f65-4593-a505-e714f10a5bde\" xlink:type=\"simple\"><path d=\"M159.28,137.05 C160.735,148.365 162.5469,162.4656 164.4519,177.2955 C165.4044,184.7104 166.3802,192.3076 167.3463,199.8301 C167.5878,201.7107 167.8287,203.5867 168.0685,205.4539 C168.1884,206.3876 168.308,207.319 168.4273,208.2478 C168.4869,208.7122 168.5465,209.1759 168.6059,209.6389 \" fill=\"none\" id=\"E5-&gt;E2\" style=\"stroke: #383838; stroke-width: 1.0; stroke-dasharray: 7.0,7.0;\"/><polygon fill=\"#383838\" points=\"168.6059,209.6389,171.427,200.2027,167.9691,204.6796,163.4922,201.2217,168.6059,209.6389\" style=\"stroke: #383838; stroke-width: 1.0;\"/><text fill=\"#000000\" font-family=\"sans-serif\" font-size=\"13\" lengthAdjust=\"spacingAndGlyphs\" textLength=\"65\" x=\"166\" y=\"182.0669\">«import»*</text></a><!--MD5=[a717450b82c80b9240a525fa862496af]\n",
       "link E6 to E3--><a href=\"psysml:79dc21aa-3f25-4d04-bc8e-220599d338b9\" target=\"_top\" title=\"psysml:79dc21aa-3f25-4d04-bc8e-220599d338b9\" xlink:actuate=\"onRequest\" xlink:href=\"psysml:79dc21aa-3f25-4d04-bc8e-220599d338b9\" xlink:show=\"new\" xlink:title=\"psysml:79dc21aa-3f25-4d04-bc8e-220599d338b9\" xlink:type=\"simple\"><path d=\"M81.05,133.55 C85.7,158.9 93.44,201.1 99.26,232.83 \" fill=\"none\" id=\"E6-&gt;E3\" style=\"stroke: #383838; stroke-width: 1.0;\"/><polygon fill=\"#FFFFFF\" points=\"102.92,252.78,92.6018,235.3578,106.3713,232.8278,102.92,252.78\" style=\"stroke: #383838; stroke-width: 1.0;\"/><ellipse cx=\"93.5388\" cy=\"229.3902\" fill=\"#383838\" rx=\"2\" ry=\"2\" style=\"stroke: #383838; stroke-width: 1.0;\"/><ellipse cx=\"103.3742\" cy=\"227.5831\" fill=\"#383838\" rx=\"2\" ry=\"2\" style=\"stroke: #383838; stroke-width: 1.0;\"/></a><!--MD5=[14325ca08a1ed48b02dfa4773f02a4a4]\n",
       "@startuml\r\n",
       "skinparam linetype polyline\r\n",
       "skinparam monochrome true\r\n",
       "skinparam classbackgroundcolor white\r\n",
       "skinparam shadowing false\r\n",
       "skinparam wrapWidth 300\r\n",
       "hide circle\r\n",
       "\r\n",
       "package \"QualifiedNameImportTest\" as E1  [[psysml:5126b6fb-a0df-489e-901c-12bad15fd52c ]]  {\r\n",
       "package \"P1\" as E2  [[psysml:4671c392-f153-4102-94c6-e9de6b11f3b3 ]]  {\r\n",
       "comp def \"A\" as E3  <<(T,blue) part  def>> [[psysml:d43e5a90-a5b9-40ed-82e3-14a3538b6850 ]] {\r\n",
       "}\r\n",
       "}\r\n",
       "package \"P2\" as E4  [[psysml:b774f6e1-b4cc-4027-a413-e3d948253bea ]]  {\r\n",
       "package \"P2a\" as E5  [[psysml:c40d8d93-4b48-4997-9b6b-7328d49803fe ]]  {\r\n",
       "}\r\n",
       "comp usage \"x: A \" as E6  <<(T,blue) part>> [[psysml:76906768-adb2-44e4-864a-c9b21a4611cd ]] {\r\n",
       "}\r\n",
       "}\r\n",
       "}\r\n",
       "E5 ..> E2 [[psysml:9ee57c7f-7f65-4593-a505-e714f10a5bde ]] : <<import>>*\r\n",
       "E6 - -:|> E3 [[psysml:79dc21aa-3f25-4d04-bc8e-220599d338b9 ]] \r\n",
       "@enduml\r\n",
       "\n",
       "PlantUML version 1.2020.13(Sat Jun 13 12:26:38 UTC 2020)\n",
       "(EPL source distribution)\n",
       "Java Runtime: OpenJDK Runtime Environment\n",
       "JVM: OpenJDK 64-Bit Server VM\n",
       "Default Encoding: UTF-8\n",
       "Language: en\n",
       "Country: null\n",
       "--></g></svg>"
      ]
     },
     "execution_count": 10,
     "metadata": {},
     "output_type": "execute_result"
    }
   ],
   "source": [
    "%viz --style=\"POLYLINE\" --view=\"Tree\" \"QualifiedNameImportTest\""
   ]
  },
  {
   "cell_type": "code",
   "execution_count": 11,
   "id": "4105e346",
   "metadata": {
    "execution": {
     "iopub.execute_input": "2022-07-23T10:54:01.192403Z",
     "iopub.status.busy": "2022-07-23T10:54:01.191933Z",
     "iopub.status.idle": "2022-07-23T10:54:01.197914Z",
     "shell.execute_reply": "2022-07-23T10:54:01.198238Z"
    }
   },
   "outputs": [
    {
     "data": {
      "image/svg+xml": [
       "<?xml version=\"1.0\" encoding=\"UTF-8\" standalone=\"no\"?><svg xmlns=\"http://www.w3.org/2000/svg\" xmlns:xlink=\"http://www.w3.org/1999/xlink\" contentScriptType=\"application/ecmascript\" contentStyleType=\"text/css\" height=\"12px\" preserveAspectRatio=\"none\" style=\"width:12px;height:12px;\" version=\"1.1\" viewBox=\"0 0 12 12\" width=\"12px\" zoomAndPan=\"magnify\"><defs/><g><!--MD5=[896ac0e7a515d8dd7765a661cb4ee08b]\n",
       "@startuml\r\n",
       "skinparam linetype polyline\r\n",
       "skinparam monochrome true\r\n",
       "skinparam classbackgroundcolor white\r\n",
       "skinparam shadowing false\r\n",
       "skinparam wrapWidth 300\r\n",
       "hide circle\r\n",
       "\r\n",
       "@enduml\r\n",
       "\n",
       "PlantUML version 1.2020.13(Sat Jun 13 12:26:38 UTC 2020)\n",
       "(EPL source distribution)\n",
       "Java Runtime: OpenJDK Runtime Environment\n",
       "JVM: OpenJDK 64-Bit Server VM\n",
       "Default Encoding: UTF-8\n",
       "Language: en\n",
       "Country: null\n",
       "--></g></svg>"
      ]
     },
     "execution_count": 11,
     "metadata": {},
     "output_type": "execute_result"
    }
   ],
   "source": [
    "%viz --style=\"POLYLINE\" --view=\"State\" \"QualifiedNameImportTest\""
   ]
  },
  {
   "cell_type": "code",
   "execution_count": 12,
   "id": "98221ee5",
   "metadata": {
    "execution": {
     "iopub.execute_input": "2022-07-23T10:54:01.248497Z",
     "iopub.status.busy": "2022-07-23T10:54:01.248023Z",
     "iopub.status.idle": "2022-07-23T10:54:01.284255Z",
     "shell.execute_reply": "2022-07-23T10:54:01.283789Z"
    }
   },
   "outputs": [
    {
     "data": {
      "image/svg+xml": [
       "<?xml version=\"1.0\" encoding=\"UTF-8\" standalone=\"no\"?><svg xmlns=\"http://www.w3.org/2000/svg\" xmlns:xlink=\"http://www.w3.org/1999/xlink\" contentScriptType=\"application/ecmascript\" contentStyleType=\"text/css\" height=\"364px\" preserveAspectRatio=\"none\" style=\"width:249px;height:364px;\" version=\"1.1\" viewBox=\"0 0 249 364\" width=\"249px\" zoomAndPan=\"magnify\"><defs/><g><!--MD5=[fbc87193dbaf4d95561dea2c320d4a47]\n",
       "cluster E1--><a href=\"psysml:5126b6fb-a0df-489e-901c-12bad15fd52c\" target=\"_top\" title=\"psysml:5126b6fb-a0df-489e-901c-12bad15fd52c\" xlink:actuate=\"onRequest\" xlink:href=\"psysml:5126b6fb-a0df-489e-901c-12bad15fd52c\" xlink:show=\"new\" xlink:title=\"psysml:5126b6fb-a0df-489e-901c-12bad15fd52c\" xlink:type=\"simple\"><polygon fill=\"#FFFFFF\" points=\"16,6,196,6,203,28.2969,227,28.2969,227,352,16,352,16,6\" style=\"stroke: #000000; stroke-width: 1.5;\"/><line style=\"stroke: #000000; stroke-width: 1.5;\" x1=\"16\" x2=\"203\" y1=\"28.2969\" y2=\"28.2969\"/><text fill=\"#000000\" font-family=\"sans-serif\" font-size=\"14\" font-weight=\"bold\" lengthAdjust=\"spacingAndGlyphs\" textLength=\"174\" x=\"20\" y=\"20.9951\">QualifiedNameImportTest</text></a><!--MD5=[e4f7fae6ed58524ba242bb0b0d3be6b7]\n",
       "cluster E2--><a href=\"psysml:4671c392-f153-4102-94c6-e9de6b11f3b3\" target=\"_top\" title=\"psysml:4671c392-f153-4102-94c6-e9de6b11f3b3\" xlink:actuate=\"onRequest\" xlink:href=\"psysml:4671c392-f153-4102-94c6-e9de6b11f3b3\" xlink:show=\"new\" xlink:title=\"psysml:4671c392-f153-4102-94c6-e9de6b11f3b3\" xlink:type=\"simple\"><polygon fill=\"#FFFFFF\" points=\"53,210,77,210,84,232.2969,195,232.2969,195,320,53,320,53,210\" style=\"stroke: #000000; stroke-width: 1.5;\"/><line style=\"stroke: #000000; stroke-width: 1.5;\" x1=\"53\" x2=\"84\" y1=\"232.2969\" y2=\"232.2969\"/><text fill=\"#000000\" font-family=\"sans-serif\" font-size=\"14\" font-weight=\"bold\" lengthAdjust=\"spacingAndGlyphs\" textLength=\"18\" x=\"57\" y=\"224.9951\">P1</text></a><!--MD5=[f6df4d0ebaf0b5dfb2ced0ae5af7c670]\n",
       "cluster E4--><a href=\"psysml:b774f6e1-b4cc-4027-a413-e3d948253bea\" target=\"_top\" title=\"psysml:b774f6e1-b4cc-4027-a413-e3d948253bea\" xlink:actuate=\"onRequest\" xlink:href=\"psysml:b774f6e1-b4cc-4027-a413-e3d948253bea\" xlink:show=\"new\" xlink:title=\"psysml:b774f6e1-b4cc-4027-a413-e3d948253bea\" xlink:type=\"simple\"><polygon fill=\"#FFFFFF\" points=\"40,49,64,49,71,71.2969,203,71.2969,203,153,40,153,40,49\" style=\"stroke: #000000; stroke-width: 1.5;\"/><line style=\"stroke: #000000; stroke-width: 1.5;\" x1=\"40\" x2=\"71\" y1=\"71.2969\" y2=\"71.2969\"/><text fill=\"#000000\" font-family=\"sans-serif\" font-size=\"14\" font-weight=\"bold\" lengthAdjust=\"spacingAndGlyphs\" textLength=\"18\" x=\"44\" y=\"63.9951\">P2</text></a><g id=\"E1.E2.E3\"><a href=\"psysml:d43e5a90-a5b9-40ed-82e3-14a3538b6850\" target=\"_top\" title=\"psysml:d43e5a90-a5b9-40ed-82e3-14a3538b6850\" xlink:actuate=\"onRequest\" xlink:href=\"psysml:d43e5a90-a5b9-40ed-82e3-14a3538b6850\" xlink:show=\"new\" xlink:title=\"psysml:d43e5a90-a5b9-40ed-82e3-14a3538b6850\" xlink:type=\"simple\"><rect fill=\"#FFFFFF\" height=\"42.9375\" id=\"E3\" style=\"stroke: #383838; stroke-width: 1.5;\" width=\"75\" x=\"96.5\" y=\"253\"/><rect fill=\"#F8F8F8\" height=\"37.9375\" style=\"stroke: #383838; stroke-width: 1.5;\" width=\"75\" x=\"96.5\" y=\"253\"/><text fill=\"#000000\" font-family=\"sans-serif\" font-size=\"12\" font-style=\"italic\" lengthAdjust=\"spacingAndGlyphs\" textLength=\"68\" x=\"100\" y=\"269.1387\">«part  def»</text><text fill=\"#000000\" font-family=\"sans-serif\" font-size=\"12\" lengthAdjust=\"spacingAndGlyphs\" textLength=\"8\" x=\"130\" y=\"283.1074\">A</text></a></g><a href=\"psysml:c40d8d93-4b48-4997-9b6b-7328d49803fe\" target=\"_top\" title=\"psysml:c40d8d93-4b48-4997-9b6b-7328d49803fe\" xlink:actuate=\"onRequest\" xlink:href=\"psysml:c40d8d93-4b48-4997-9b6b-7328d49803fe\" xlink:show=\"new\" xlink:title=\"psysml:c40d8d93-4b48-4997-9b6b-7328d49803fe\" xlink:type=\"simple\"><polygon fill=\"#FFFFFF\" points=\"56,84,88,84,95,106.2969,102,106.2969,102,136.5938,56,136.5938,56,84\" style=\"stroke: #000000; stroke-width: 1.5;\"/><line style=\"stroke: #000000; stroke-width: 1.5;\" x1=\"56\" x2=\"95\" y1=\"106.2969\" y2=\"106.2969\"/><text fill=\"#000000\" font-family=\"sans-serif\" font-size=\"14\" font-weight=\"bold\" lengthAdjust=\"spacingAndGlyphs\" textLength=\"26\" x=\"60\" y=\"98.9951\">P2a</text></a><g id=\"E1.E4.E6\"><a href=\"psysml:76906768-adb2-44e4-864a-c9b21a4611cd\" target=\"_top\" title=\"psysml:76906768-adb2-44e4-864a-c9b21a4611cd\" xlink:actuate=\"onRequest\" xlink:href=\"psysml:76906768-adb2-44e4-864a-c9b21a4611cd\" xlink:show=\"new\" xlink:title=\"psysml:76906768-adb2-44e4-864a-c9b21a4611cd\" xlink:type=\"simple\"><rect fill=\"#FFFFFF\" height=\"40\" id=\"E6\" rx=\"10\" ry=\"10\" style=\"stroke: #383838; stroke-width: 1.5;\" width=\"50\" x=\"137\" y=\"90.5\"/><rect fill=\"#F8F8F8\" height=\"23.9688\" rx=\"10\" ry=\"10\" style=\"stroke: #F8F8F8; stroke-width: 1.5;\" width=\"50\" x=\"137\" y=\"90.5\"/><rect fill=\"#F8F8F8\" height=\"10\" style=\"stroke: #F8F8F8; stroke-width: 1.5;\" width=\"50\" x=\"137\" y=\"104.4688\"/><rect fill=\"none\" height=\"40\" id=\"E6\" rx=\"10\" ry=\"10\" style=\"stroke: #383838; stroke-width: 1.5;\" width=\"50\" x=\"137\" y=\"90.5\"/><text fill=\"#000000\" font-family=\"sans-serif\" font-size=\"12\" lengthAdjust=\"spacingAndGlyphs\" textLength=\"22\" x=\"151\" y=\"106.6387\">x: A</text></a></g><!--MD5=[15ebcb19ae302d9b601edb458606d402]\n",
       "link E5 to E2--><a href=\"psysml:9ee57c7f-7f65-4593-a505-e714f10a5bde\" target=\"_top\" title=\"psysml:9ee57c7f-7f65-4593-a505-e714f10a5bde\" xlink:actuate=\"onRequest\" xlink:href=\"psysml:9ee57c7f-7f65-4593-a505-e714f10a5bde\" xlink:show=\"new\" xlink:title=\"psysml:9ee57c7f-7f65-4593-a505-e714f10a5bde\" xlink:type=\"simple\"><path d=\"M76.15,137.17 C74.9,148.4125 73.3475,162.3781 71.7172,177.0456 C70.902,184.3794 70.0674,191.8886 69.2414,199.3206 C69.035,201.1786 68.829,203.0318 68.624,204.8762 C68.5215,205.7984 68.4193,206.7184 68.3173,207.6358 C68.2664,208.0944 68.2155,208.5524 68.1647,209.0097 C68.1393,209.2383 68.1139,209.4668 68.0885,209.695 \" fill=\"none\" id=\"E5-&gt;E2\" style=\"stroke: #383838; stroke-width: 1.0; stroke-dasharray: 7.0,7.0;\"/><polygon fill=\"#383838\" points=\"68.0885,209.695,73.0581,201.1919,68.6408,204.7256,65.107,200.3083,68.0885,209.695\" style=\"stroke: #383838; stroke-width: 1.0;\"/><text fill=\"#000000\" font-family=\"sans-serif\" font-size=\"13\" lengthAdjust=\"spacingAndGlyphs\" textLength=\"65\" x=\"73\" y=\"182.0669\">«import»*</text></a><!--MD5=[a717450b82c80b9240a525fa862496af]\n",
       "link E6 to E3--><a href=\"psysml:79dc21aa-3f25-4d04-bc8e-220599d338b9\" target=\"_top\" title=\"psysml:79dc21aa-3f25-4d04-bc8e-220599d338b9\" xlink:actuate=\"onRequest\" xlink:href=\"psysml:79dc21aa-3f25-4d04-bc8e-220599d338b9\" xlink:show=\"new\" xlink:title=\"psysml:79dc21aa-3f25-4d04-bc8e-220599d338b9\" xlink:type=\"simple\"><path d=\"M158.68,130.72 C154.35,155.76 146.67,200.21 141.02,232.87 \" fill=\"none\" id=\"E6-&gt;E3\" style=\"stroke: #383838; stroke-width: 1.0;\"/><polygon fill=\"#FFFFFF\" points=\"137.58,252.77,133.925,232.8542,147.7196,235.2432,137.58,252.77\" style=\"stroke: #383838; stroke-width: 1.0;\"/><ellipse cx=\"136.8683\" cy=\"227.5791\" fill=\"#383838\" rx=\"2\" ry=\"2\" style=\"stroke: #383838; stroke-width: 1.0;\"/><ellipse cx=\"146.7217\" cy=\"229.2855\" fill=\"#383838\" rx=\"2\" ry=\"2\" style=\"stroke: #383838; stroke-width: 1.0;\"/></a><!--MD5=[50030a19f42edee85508fda3aa9a399b]\n",
       "@startuml\r\n",
       "skinparam ranksep 10\r\n",
       "skinparam rectangle {\r\n",
       " backgroundColor<<block>> LightGreen\r\n",
       "}\r\n",
       "skinparam linetype polyline\r\n",
       "skinparam monochrome true\r\n",
       "skinparam classbackgroundcolor white\r\n",
       "skinparam shadowing false\r\n",
       "skinparam wrapWidth 300\r\n",
       "hide circle\r\n",
       "\r\n",
       "package \"QualifiedNameImportTest\" as E1  [[psysml:5126b6fb-a0df-489e-901c-12bad15fd52c ]]  {\r\n",
       "package \"P1\" as E2  [[psysml:4671c392-f153-4102-94c6-e9de6b11f3b3 ]]  {\r\n",
       "rec def \"A\" as E3  <<(T,blue) part  def>> [[psysml:d43e5a90-a5b9-40ed-82e3-14a3538b6850 ]] {\r\n",
       "}\r\n",
       "}\r\n",
       "package \"P2\" as E4  [[psysml:b774f6e1-b4cc-4027-a413-e3d948253bea ]]  {\r\n",
       "package \"P2a\" as E5  [[psysml:c40d8d93-4b48-4997-9b6b-7328d49803fe ]]  {\r\n",
       "}\r\n",
       "rec usage \"x: A\" as E6  [[psysml:76906768-adb2-44e4-864a-c9b21a4611cd ]] {\r\n",
       "}\r\n",
       "}\r\n",
       "}\r\n",
       "E5 ..> E2 [[psysml:9ee57c7f-7f65-4593-a505-e714f10a5bde ]] : <<import>>*\r\n",
       "E6 - -:|> E3 [[psysml:79dc21aa-3f25-4d04-bc8e-220599d338b9 ]] \r\n",
       "@enduml\r\n",
       "\n",
       "PlantUML version 1.2020.13(Sat Jun 13 12:26:38 UTC 2020)\n",
       "(EPL source distribution)\n",
       "Java Runtime: OpenJDK Runtime Environment\n",
       "JVM: OpenJDK 64-Bit Server VM\n",
       "Default Encoding: UTF-8\n",
       "Language: en\n",
       "Country: null\n",
       "--></g></svg>"
      ]
     },
     "execution_count": 12,
     "metadata": {},
     "output_type": "execute_result"
    }
   ],
   "source": [
    "%viz --style=\"POLYLINE\" --view=\"Interconnection\" \"QualifiedNameImportTest\""
   ]
  },
  {
   "cell_type": "code",
   "execution_count": 13,
   "id": "d50d66be",
   "metadata": {
    "execution": {
     "iopub.execute_input": "2022-07-23T10:54:01.334134Z",
     "iopub.status.busy": "2022-07-23T10:54:01.333657Z",
     "iopub.status.idle": "2022-07-23T10:54:01.339614Z",
     "shell.execute_reply": "2022-07-23T10:54:01.339945Z"
    }
   },
   "outputs": [
    {
     "data": {
      "image/svg+xml": [
       "<?xml version=\"1.0\" encoding=\"UTF-8\" standalone=\"no\"?><svg xmlns=\"http://www.w3.org/2000/svg\" xmlns:xlink=\"http://www.w3.org/1999/xlink\" contentScriptType=\"application/ecmascript\" contentStyleType=\"text/css\" height=\"12px\" preserveAspectRatio=\"none\" style=\"width:12px;height:12px;\" version=\"1.1\" viewBox=\"0 0 12 12\" width=\"12px\" zoomAndPan=\"magnify\"><defs/><g><!--MD5=[97bbf32f66ccd50cbc40d92ea8f5a65e]\n",
       "@startuml\r\n",
       "skinparam ranksep 8\r\n",
       "skinparam linetype polyline\r\n",
       "skinparam monochrome true\r\n",
       "skinparam classbackgroundcolor white\r\n",
       "skinparam shadowing false\r\n",
       "skinparam wrapWidth 300\r\n",
       "hide circle\r\n",
       "\r\n",
       "@enduml\r\n",
       "\n",
       "PlantUML version 1.2020.13(Sat Jun 13 12:26:38 UTC 2020)\n",
       "(EPL source distribution)\n",
       "Java Runtime: OpenJDK Runtime Environment\n",
       "JVM: OpenJDK 64-Bit Server VM\n",
       "Default Encoding: UTF-8\n",
       "Language: en\n",
       "Country: null\n",
       "--></g></svg>"
      ]
     },
     "execution_count": 13,
     "metadata": {},
     "output_type": "execute_result"
    }
   ],
   "source": [
    "%viz --style=\"POLYLINE\" --view=\"Action\" \"QualifiedNameImportTest\""
   ]
  },
  {
   "cell_type": "code",
   "execution_count": 14,
   "id": "ff5bc199",
   "metadata": {
    "execution": {
     "iopub.execute_input": "2022-07-23T10:54:01.390276Z",
     "iopub.status.busy": "2022-07-23T10:54:01.389777Z",
     "iopub.status.idle": "2022-07-23T10:54:01.396035Z",
     "shell.execute_reply": "2022-07-23T10:54:01.396372Z"
    }
   },
   "outputs": [
    {
     "data": {
      "image/svg+xml": [
       "<?xml version=\"1.0\" encoding=\"UTF-8\" standalone=\"no\"?><svg xmlns=\"http://www.w3.org/2000/svg\" xmlns:xlink=\"http://www.w3.org/1999/xlink\" contentScriptType=\"application/ecmascript\" contentStyleType=\"text/css\" height=\"12px\" preserveAspectRatio=\"none\" style=\"width:12px;height:12px;\" version=\"1.1\" viewBox=\"0 0 12 12\" width=\"12px\" zoomAndPan=\"magnify\"><defs/><g><!--MD5=[dc938048236c351797870c36b62f92ad]\n",
       "@startuml\r\n",
       "skinparam roundcorner 20\r\n",
       "skinparam BoxPadding 20\r\n",
       "skinparam SequenceBoxBackgroundColor #white\r\n",
       "skinparam style strictuml\r\n",
       "skinparam maxMessageSize 100\r\n",
       "skinparam linetype polyline\r\n",
       "skinparam monochrome true\r\n",
       "skinparam classbackgroundcolor white\r\n",
       "skinparam shadowing false\r\n",
       "skinparam wrapWidth 300\r\n",
       "hide circle\r\n",
       "\r\n",
       "@enduml\r\n",
       "\n",
       "PlantUML version 1.2020.13(Sat Jun 13 12:26:38 UTC 2020)\n",
       "(EPL source distribution)\n",
       "Java Runtime: OpenJDK Runtime Environment\n",
       "JVM: OpenJDK 64-Bit Server VM\n",
       "Default Encoding: UTF-8\n",
       "Language: en\n",
       "Country: null\n",
       "--></g></svg>"
      ]
     },
     "execution_count": 14,
     "metadata": {},
     "output_type": "execute_result"
    }
   ],
   "source": [
    "%viz --style=\"POLYLINE\" --view=\"Sequence\" \"QualifiedNameImportTest\""
   ]
  },
  {
   "cell_type": "code",
   "execution_count": 15,
   "id": "978d130c",
   "metadata": {
    "execution": {
     "iopub.execute_input": "2022-07-23T10:54:01.446265Z",
     "iopub.status.busy": "2022-07-23T10:54:01.445777Z",
     "iopub.status.idle": "2022-07-23T10:54:01.483747Z",
     "shell.execute_reply": "2022-07-23T10:54:01.483146Z"
    }
   },
   "outputs": [
    {
     "data": {
      "image/svg+xml": [
       "<?xml version=\"1.0\" encoding=\"UTF-8\" standalone=\"no\"?><svg xmlns=\"http://www.w3.org/2000/svg\" xmlns:xlink=\"http://www.w3.org/1999/xlink\" contentScriptType=\"application/ecmascript\" contentStyleType=\"text/css\" height=\"367px\" preserveAspectRatio=\"none\" style=\"width:243px;height:367px;\" version=\"1.1\" viewBox=\"0 0 243 367\" width=\"243px\" zoomAndPan=\"magnify\"><defs/><g><!--MD5=[fbc87193dbaf4d95561dea2c320d4a47]\n",
       "cluster E1--><a href=\"psysml:5126b6fb-a0df-489e-901c-12bad15fd52c\" target=\"_top\" title=\"psysml:5126b6fb-a0df-489e-901c-12bad15fd52c\" xlink:actuate=\"onRequest\" xlink:href=\"psysml:5126b6fb-a0df-489e-901c-12bad15fd52c\" xlink:show=\"new\" xlink:title=\"psysml:5126b6fb-a0df-489e-901c-12bad15fd52c\" xlink:type=\"simple\"><polygon fill=\"#FFFFFF\" points=\"16,6,196,6,203,28.2969,219,28.2969,219,355,16,355,16,6\" style=\"stroke: #000000; stroke-width: 1.5;\"/><line style=\"stroke: #000000; stroke-width: 1.5;\" x1=\"16\" x2=\"203\" y1=\"28.2969\" y2=\"28.2969\"/><text fill=\"#000000\" font-family=\"sans-serif\" font-size=\"14\" font-weight=\"bold\" lengthAdjust=\"spacingAndGlyphs\" textLength=\"174\" x=\"20\" y=\"20.9951\">QualifiedNameImportTest</text></a><!--MD5=[e4f7fae6ed58524ba242bb0b0d3be6b7]\n",
       "cluster E2--><a href=\"psysml:4671c392-f153-4102-94c6-e9de6b11f3b3\" target=\"_top\" title=\"psysml:4671c392-f153-4102-94c6-e9de6b11f3b3\" xlink:actuate=\"onRequest\" xlink:href=\"psysml:4671c392-f153-4102-94c6-e9de6b11f3b3\" xlink:show=\"new\" xlink:title=\"psysml:4671c392-f153-4102-94c6-e9de6b11f3b3\" xlink:type=\"simple\"><polygon fill=\"#FFFFFF\" points=\"48,210,72,210,79,232.2969,185,232.2969,185,323,48,323,48,210\" style=\"stroke: #000000; stroke-width: 1.5;\"/><line style=\"stroke: #000000; stroke-width: 1.5;\" x1=\"48\" x2=\"79\" y1=\"232.2969\" y2=\"232.2969\"/><text fill=\"#000000\" font-family=\"sans-serif\" font-size=\"14\" font-weight=\"bold\" lengthAdjust=\"spacingAndGlyphs\" textLength=\"18\" x=\"52\" y=\"224.9951\">P1</text></a><!--MD5=[f6df4d0ebaf0b5dfb2ced0ae5af7c670]\n",
       "cluster E4--><a href=\"psysml:b774f6e1-b4cc-4027-a413-e3d948253bea\" target=\"_top\" title=\"psysml:b774f6e1-b4cc-4027-a413-e3d948253bea\" xlink:actuate=\"onRequest\" xlink:href=\"psysml:b774f6e1-b4cc-4027-a413-e3d948253bea\" xlink:show=\"new\" xlink:title=\"psysml:b774f6e1-b4cc-4027-a413-e3d948253bea\" xlink:type=\"simple\"><polygon fill=\"#FFFFFF\" points=\"40,49,64,49,71,71.2969,195,71.2969,195,153,40,153,40,49\" style=\"stroke: #000000; stroke-width: 1.5;\"/><line style=\"stroke: #000000; stroke-width: 1.5;\" x1=\"40\" x2=\"71\" y1=\"71.2969\" y2=\"71.2969\"/><text fill=\"#000000\" font-family=\"sans-serif\" font-size=\"14\" font-weight=\"bold\" lengthAdjust=\"spacingAndGlyphs\" textLength=\"18\" x=\"44\" y=\"63.9951\">P2</text></a><!--MD5=[09b614a08d8cba4a07c9adeb5e0fee81]\n",
       "class E3--><a href=\"psysml:d43e5a90-a5b9-40ed-82e3-14a3538b6850\" target=\"_top\" title=\"psysml:d43e5a90-a5b9-40ed-82e3-14a3538b6850\" xlink:actuate=\"onRequest\" xlink:href=\"psysml:d43e5a90-a5b9-40ed-82e3-14a3538b6850\" xlink:show=\"new\" xlink:title=\"psysml:d43e5a90-a5b9-40ed-82e3-14a3538b6850\" xlink:type=\"simple\"><rect fill=\"#FFFFFF\" height=\"45.9375\" id=\"E3\" style=\"stroke: #383838; stroke-width: 1.5;\" width=\"70\" x=\"72\" y=\"253\"/><text fill=\"#000000\" font-family=\"sans-serif\" font-size=\"12\" font-style=\"italic\" lengthAdjust=\"spacingAndGlyphs\" textLength=\"68\" x=\"73\" y=\"269.1387\">«part  def»</text><text fill=\"#000000\" font-family=\"sans-serif\" font-size=\"12\" lengthAdjust=\"spacingAndGlyphs\" textLength=\"8\" x=\"103\" y=\"283.1074\">A</text><line style=\"stroke: #383838; stroke-width: 1.5;\" x1=\"73\" x2=\"141\" y1=\"290.9375\" y2=\"290.9375\"/></a><!--MD5=[60a26617385b1d2d0262a64233df1f8d]\n",
       "class E6--><a href=\"psysml:76906768-adb2-44e4-864a-c9b21a4611cd\" target=\"_top\" title=\"psysml:76906768-adb2-44e4-864a-c9b21a4611cd\" xlink:actuate=\"onRequest\" xlink:href=\"psysml:76906768-adb2-44e4-864a-c9b21a4611cd\" xlink:show=\"new\" xlink:title=\"psysml:76906768-adb2-44e4-864a-c9b21a4611cd\" xlink:type=\"simple\"><rect fill=\"#FFFFFF\" height=\"45.9375\" id=\"E6\" rx=\"10\" ry=\"10\" style=\"stroke: #383838; stroke-width: 1.5;\" width=\"42\" x=\"56\" y=\"87.5\"/><text fill=\"#000000\" font-family=\"sans-serif\" font-size=\"12\" font-style=\"italic\" lengthAdjust=\"spacingAndGlyphs\" textLength=\"40\" x=\"57\" y=\"103.6387\">«part»</text><text fill=\"#000000\" font-family=\"sans-serif\" font-size=\"12\" lengthAdjust=\"spacingAndGlyphs\" textLength=\"22\" x=\"64\" y=\"117.6074\">x: A</text><line style=\"stroke: #383838; stroke-width: 1.5;\" x1=\"57\" x2=\"97\" y1=\"125.4375\" y2=\"125.4375\"/></a><a href=\"psysml:c40d8d93-4b48-4997-9b6b-7328d49803fe\" target=\"_top\" title=\"psysml:c40d8d93-4b48-4997-9b6b-7328d49803fe\" xlink:actuate=\"onRequest\" xlink:href=\"psysml:c40d8d93-4b48-4997-9b6b-7328d49803fe\" xlink:show=\"new\" xlink:title=\"psysml:c40d8d93-4b48-4997-9b6b-7328d49803fe\" xlink:type=\"simple\"><polygon fill=\"#FFFFFF\" points=\"133,84,165,84,172,106.2969,179,106.2969,179,136.5938,133,136.5938,133,84\" style=\"stroke: #000000; stroke-width: 1.5;\"/><line style=\"stroke: #000000; stroke-width: 1.5;\" x1=\"133\" x2=\"172\" y1=\"106.2969\" y2=\"106.2969\"/><text fill=\"#000000\" font-family=\"sans-serif\" font-size=\"14\" font-weight=\"bold\" lengthAdjust=\"spacingAndGlyphs\" textLength=\"26\" x=\"137\" y=\"98.9951\">P2a</text></a><!--MD5=[15ebcb19ae302d9b601edb458606d402]\n",
       "link E5 to E2--><a href=\"psysml:9ee57c7f-7f65-4593-a505-e714f10a5bde\" target=\"_top\" title=\"psysml:9ee57c7f-7f65-4593-a505-e714f10a5bde\" xlink:actuate=\"onRequest\" xlink:href=\"psysml:9ee57c7f-7f65-4593-a505-e714f10a5bde\" xlink:show=\"new\" xlink:title=\"psysml:9ee57c7f-7f65-4593-a505-e714f10a5bde\" xlink:type=\"simple\"><path d=\"M159.28,137.05 C160.735,148.365 162.5469,162.4656 164.4519,177.2955 C165.4044,184.7104 166.3802,192.3076 167.3463,199.8301 C167.5878,201.7107 167.8287,203.5867 168.0685,205.4539 C168.1884,206.3876 168.308,207.319 168.4273,208.2478 C168.4869,208.7122 168.5465,209.1759 168.6059,209.6389 \" fill=\"none\" id=\"E5-&gt;E2\" style=\"stroke: #383838; stroke-width: 1.0; stroke-dasharray: 7.0,7.0;\"/><polygon fill=\"#383838\" points=\"168.6059,209.6389,171.427,200.2027,167.9691,204.6796,163.4922,201.2217,168.6059,209.6389\" style=\"stroke: #383838; stroke-width: 1.0;\"/><text fill=\"#000000\" font-family=\"sans-serif\" font-size=\"13\" lengthAdjust=\"spacingAndGlyphs\" textLength=\"65\" x=\"166\" y=\"182.0669\">«import»*</text></a><!--MD5=[a717450b82c80b9240a525fa862496af]\n",
       "link E6 to E3--><a href=\"psysml:79dc21aa-3f25-4d04-bc8e-220599d338b9\" target=\"_top\" title=\"psysml:79dc21aa-3f25-4d04-bc8e-220599d338b9\" xlink:actuate=\"onRequest\" xlink:href=\"psysml:79dc21aa-3f25-4d04-bc8e-220599d338b9\" xlink:show=\"new\" xlink:title=\"psysml:79dc21aa-3f25-4d04-bc8e-220599d338b9\" xlink:type=\"simple\"><path d=\"M81.05,133.55 C85.7,158.9 93.44,201.1 99.26,232.83 \" fill=\"none\" id=\"E6-&gt;E3\" style=\"stroke: #383838; stroke-width: 1.0;\"/><polygon fill=\"#FFFFFF\" points=\"102.92,252.78,92.6018,235.3578,106.3713,232.8278,102.92,252.78\" style=\"stroke: #383838; stroke-width: 1.0;\"/><ellipse cx=\"93.5388\" cy=\"229.3902\" fill=\"#383838\" rx=\"2\" ry=\"2\" style=\"stroke: #383838; stroke-width: 1.0;\"/><ellipse cx=\"103.3742\" cy=\"227.5831\" fill=\"#383838\" rx=\"2\" ry=\"2\" style=\"stroke: #383838; stroke-width: 1.0;\"/></a><!--MD5=[14325ca08a1ed48b02dfa4773f02a4a4]\n",
       "@startuml\r\n",
       "skinparam linetype polyline\r\n",
       "skinparam monochrome true\r\n",
       "skinparam classbackgroundcolor white\r\n",
       "skinparam shadowing false\r\n",
       "skinparam wrapWidth 300\r\n",
       "hide circle\r\n",
       "\r\n",
       "package \"QualifiedNameImportTest\" as E1  [[psysml:5126b6fb-a0df-489e-901c-12bad15fd52c ]]  {\r\n",
       "package \"P1\" as E2  [[psysml:4671c392-f153-4102-94c6-e9de6b11f3b3 ]]  {\r\n",
       "comp def \"A\" as E3  <<(T,blue) part  def>> [[psysml:d43e5a90-a5b9-40ed-82e3-14a3538b6850 ]] {\r\n",
       "}\r\n",
       "}\r\n",
       "package \"P2\" as E4  [[psysml:b774f6e1-b4cc-4027-a413-e3d948253bea ]]  {\r\n",
       "package \"P2a\" as E5  [[psysml:c40d8d93-4b48-4997-9b6b-7328d49803fe ]]  {\r\n",
       "}\r\n",
       "comp usage \"x: A \" as E6  <<(T,blue) part>> [[psysml:76906768-adb2-44e4-864a-c9b21a4611cd ]] {\r\n",
       "}\r\n",
       "}\r\n",
       "}\r\n",
       "E5 ..> E2 [[psysml:9ee57c7f-7f65-4593-a505-e714f10a5bde ]] : <<import>>*\r\n",
       "E6 - -:|> E3 [[psysml:79dc21aa-3f25-4d04-bc8e-220599d338b9 ]] \r\n",
       "@enduml\r\n",
       "\n",
       "PlantUML version 1.2020.13(Sat Jun 13 12:26:38 UTC 2020)\n",
       "(EPL source distribution)\n",
       "Java Runtime: OpenJDK Runtime Environment\n",
       "JVM: OpenJDK 64-Bit Server VM\n",
       "Default Encoding: UTF-8\n",
       "Language: en\n",
       "Country: null\n",
       "--></g></svg>"
      ]
     },
     "execution_count": 15,
     "metadata": {},
     "output_type": "execute_result"
    }
   ],
   "source": [
    "%viz --style=\"POLYLINE\" --view=\"MIXED\" \"QualifiedNameImportTest\""
   ]
  },
  {
   "cell_type": "code",
   "execution_count": 16,
   "id": "4d2087ce",
   "metadata": {
    "execution": {
     "iopub.execute_input": "2022-07-23T10:54:01.533482Z",
     "iopub.status.busy": "2022-07-23T10:54:01.532977Z",
     "iopub.status.idle": "2022-07-23T10:54:01.568455Z",
     "shell.execute_reply": "2022-07-23T10:54:01.568043Z"
    }
   },
   "outputs": [
    {
     "data": {
      "image/svg+xml": [
       "<?xml version=\"1.0\" encoding=\"UTF-8\" standalone=\"no\"?><svg xmlns=\"http://www.w3.org/2000/svg\" xmlns:xlink=\"http://www.w3.org/1999/xlink\" contentScriptType=\"application/ecmascript\" contentStyleType=\"text/css\" height=\"271px\" preserveAspectRatio=\"none\" style=\"width:397px;height:271px;\" version=\"1.1\" viewBox=\"0 0 397 271\" width=\"397px\" zoomAndPan=\"magnify\"><defs/><g><!--MD5=[fbc87193dbaf4d95561dea2c320d4a47]\n",
       "cluster E1--><a href=\"psysml:5126b6fb-a0df-489e-901c-12bad15fd52c\" target=\"_top\" title=\"psysml:5126b6fb-a0df-489e-901c-12bad15fd52c\" xlink:actuate=\"onRequest\" xlink:href=\"psysml:5126b6fb-a0df-489e-901c-12bad15fd52c\" xlink:show=\"new\" xlink:title=\"psysml:5126b6fb-a0df-489e-901c-12bad15fd52c\" xlink:type=\"simple\"><polygon fill=\"#FFFFFF\" points=\"16,6,196,6,203,28.2969,375,28.2969,375,259,16,259,16,6\" style=\"stroke: #000000; stroke-width: 1.5;\"/><line style=\"stroke: #000000; stroke-width: 1.5;\" x1=\"16\" x2=\"203\" y1=\"28.2969\" y2=\"28.2969\"/><text fill=\"#000000\" font-family=\"sans-serif\" font-size=\"14\" font-weight=\"bold\" lengthAdjust=\"spacingAndGlyphs\" textLength=\"174\" x=\"20\" y=\"20.9951\">QualifiedNameImportTest</text></a><!--MD5=[e4f7fae6ed58524ba242bb0b0d3be6b7]\n",
       "cluster E2--><a href=\"psysml:4671c392-f153-4102-94c6-e9de6b11f3b3\" target=\"_top\" title=\"psysml:4671c392-f153-4102-94c6-e9de6b11f3b3\" xlink:actuate=\"onRequest\" xlink:href=\"psysml:4671c392-f153-4102-94c6-e9de6b11f3b3\" xlink:show=\"new\" xlink:title=\"psysml:4671c392-f153-4102-94c6-e9de6b11f3b3\" xlink:type=\"simple\"><polygon fill=\"#FFFFFF\" points=\"225,90,249,90,256,112.2969,343,112.2969,343,222,225,222,225,90\" style=\"stroke: #000000; stroke-width: 1.5;\"/><line style=\"stroke: #000000; stroke-width: 1.5;\" x1=\"225\" x2=\"256\" y1=\"112.2969\" y2=\"112.2969\"/><text fill=\"#000000\" font-family=\"sans-serif\" font-size=\"14\" font-weight=\"bold\" lengthAdjust=\"spacingAndGlyphs\" textLength=\"18\" x=\"229\" y=\"104.9951\">P1</text></a><!--MD5=[f6df4d0ebaf0b5dfb2ced0ae5af7c670]\n",
       "cluster E4--><a href=\"psysml:b774f6e1-b4cc-4027-a413-e3d948253bea\" target=\"_top\" title=\"psysml:b774f6e1-b4cc-4027-a413-e3d948253bea\" xlink:actuate=\"onRequest\" xlink:href=\"psysml:b774f6e1-b4cc-4027-a413-e3d948253bea\" xlink:show=\"new\" xlink:title=\"psysml:b774f6e1-b4cc-4027-a413-e3d948253bea\" xlink:type=\"simple\"><polygon fill=\"#FFFFFF\" points=\"40,49,64,49,71,71.2969,118,71.2969,118,235,40,235,40,49\" style=\"stroke: #000000; stroke-width: 1.5;\"/><line style=\"stroke: #000000; stroke-width: 1.5;\" x1=\"40\" x2=\"71\" y1=\"71.2969\" y2=\"71.2969\"/><text fill=\"#000000\" font-family=\"sans-serif\" font-size=\"14\" font-weight=\"bold\" lengthAdjust=\"spacingAndGlyphs\" textLength=\"18\" x=\"44\" y=\"63.9951\">P2</text></a><!--MD5=[09b614a08d8cba4a07c9adeb5e0fee81]\n",
       "class E3--><a href=\"psysml:d43e5a90-a5b9-40ed-82e3-14a3538b6850\" target=\"_top\" title=\"psysml:d43e5a90-a5b9-40ed-82e3-14a3538b6850\" xlink:actuate=\"onRequest\" xlink:href=\"psysml:d43e5a90-a5b9-40ed-82e3-14a3538b6850\" xlink:show=\"new\" xlink:title=\"psysml:d43e5a90-a5b9-40ed-82e3-14a3538b6850\" xlink:type=\"simple\"><rect fill=\"#FFFFFF\" height=\"45.9375\" id=\"E3\" style=\"stroke: #383838; stroke-width: 1.5;\" width=\"70\" x=\"249\" y=\"152\"/><text fill=\"#000000\" font-family=\"sans-serif\" font-size=\"12\" font-style=\"italic\" lengthAdjust=\"spacingAndGlyphs\" textLength=\"68\" x=\"250\" y=\"168.1387\">«part  def»</text><text fill=\"#000000\" font-family=\"sans-serif\" font-size=\"12\" lengthAdjust=\"spacingAndGlyphs\" textLength=\"8\" x=\"280\" y=\"182.1074\">A</text><line style=\"stroke: #383838; stroke-width: 1.5;\" x1=\"250\" x2=\"318\" y1=\"189.9375\" y2=\"189.9375\"/></a><!--MD5=[60a26617385b1d2d0262a64233df1f8d]\n",
       "class E6--><a href=\"psysml:76906768-adb2-44e4-864a-c9b21a4611cd\" target=\"_top\" title=\"psysml:76906768-adb2-44e4-864a-c9b21a4611cd\" xlink:actuate=\"onRequest\" xlink:href=\"psysml:76906768-adb2-44e4-864a-c9b21a4611cd\" xlink:show=\"new\" xlink:title=\"psysml:76906768-adb2-44e4-864a-c9b21a4611cd\" xlink:type=\"simple\"><rect fill=\"#FFFFFF\" height=\"45.9375\" id=\"E6\" rx=\"10\" ry=\"10\" style=\"stroke: #383838; stroke-width: 1.5;\" width=\"42\" x=\"58\" y=\"173\"/><text fill=\"#000000\" font-family=\"sans-serif\" font-size=\"12\" font-style=\"italic\" lengthAdjust=\"spacingAndGlyphs\" textLength=\"40\" x=\"59\" y=\"189.1387\">«part»</text><text fill=\"#000000\" font-family=\"sans-serif\" font-size=\"12\" lengthAdjust=\"spacingAndGlyphs\" textLength=\"22\" x=\"66\" y=\"203.1074\">x: A</text><line style=\"stroke: #383838; stroke-width: 1.5;\" x1=\"59\" x2=\"99\" y1=\"210.9375\" y2=\"210.9375\"/></a><a href=\"psysml:c40d8d93-4b48-4997-9b6b-7328d49803fe\" target=\"_top\" title=\"psysml:c40d8d93-4b48-4997-9b6b-7328d49803fe\" xlink:actuate=\"onRequest\" xlink:href=\"psysml:c40d8d93-4b48-4997-9b6b-7328d49803fe\" xlink:show=\"new\" xlink:title=\"psysml:c40d8d93-4b48-4997-9b6b-7328d49803fe\" xlink:type=\"simple\"><polygon fill=\"#FFFFFF\" points=\"56,84.5,88,84.5,95,106.7969,102,106.7969,102,137.0938,56,137.0938,56,84.5\" style=\"stroke: #000000; stroke-width: 1.5;\"/><line style=\"stroke: #000000; stroke-width: 1.5;\" x1=\"56\" x2=\"95\" y1=\"106.7969\" y2=\"106.7969\"/><text fill=\"#000000\" font-family=\"sans-serif\" font-size=\"14\" font-weight=\"bold\" lengthAdjust=\"spacingAndGlyphs\" textLength=\"26\" x=\"60\" y=\"99.4951\">P2a</text></a><!--MD5=[15ebcb19ae302d9b601edb458606d402]\n",
       "link E5 to E2--><a href=\"psysml:9ee57c7f-7f65-4593-a505-e714f10a5bde\" target=\"_top\" title=\"psysml:9ee57c7f-7f65-4593-a505-e714f10a5bde\" xlink:actuate=\"onRequest\" xlink:href=\"psysml:9ee57c7f-7f65-4593-a505-e714f10a5bde\" xlink:show=\"new\" xlink:title=\"psysml:9ee57c7f-7f65-4593-a505-e714f10a5bde\" xlink:type=\"simple\"><path d=\"M102.11,111.65 C128.005,112.415 172.23,113.7225 210.4688,114.8538 C215.2486,114.9952 219.9349,115.1338 224.4802,115.2683 \" fill=\"none\" id=\"E5-&gt;E2\" style=\"stroke: #383838; stroke-width: 1.0; stroke-dasharray: 7.0,7.0;\"/><polygon fill=\"#383838\" points=\"224.4802,115.2683,215.6024,111.0039,219.4824,115.1204,215.3658,119.0004,224.4802,115.2683\" style=\"stroke: #383838; stroke-width: 1.0;\"/><text fill=\"#000000\" font-family=\"sans-serif\" font-size=\"13\" lengthAdjust=\"spacingAndGlyphs\" textLength=\"65\" x=\"135\" y=\"109.0669\">«import»*</text></a><!--MD5=[a717450b82c80b9240a525fa862496af]\n",
       "link E6 to E3--><a href=\"psysml:79dc21aa-3f25-4d04-bc8e-220599d338b9\" target=\"_top\" title=\"psysml:79dc21aa-3f25-4d04-bc8e-220599d338b9\" xlink:actuate=\"onRequest\" xlink:href=\"psysml:79dc21aa-3f25-4d04-bc8e-220599d338b9\" xlink:show=\"new\" xlink:title=\"psysml:79dc21aa-3f25-4d04-bc8e-220599d338b9\" xlink:type=\"simple\"><path d=\"M100.21,193.91 C129.89,190.84 186.34,185 228.7,180.62 \" fill=\"none\" id=\"E6-&gt;E3\" style=\"stroke: #383838; stroke-width: 1.0;\"/><polygon fill=\"#FFFFFF\" points=\"248.76,178.54,230.5811,187.4579,229.1406,173.5322,248.76,178.54\" style=\"stroke: #383838; stroke-width: 1.0;\"/><ellipse cx=\"224.7056\" cy=\"186.0551\" fill=\"#383838\" rx=\"2\" ry=\"2\" style=\"stroke: #383838; stroke-width: 1.0;\"/><ellipse cx=\"223.6766\" cy=\"176.1082\" fill=\"#383838\" rx=\"2\" ry=\"2\" style=\"stroke: #383838; stroke-width: 1.0;\"/></a><!--MD5=[24a3774453ec766a8e8fa02b5d7c6822]\n",
       "@startuml\r\n",
       "left to right direction\r\n",
       "skinparam monochrome true\r\n",
       "skinparam classbackgroundcolor white\r\n",
       "skinparam shadowing false\r\n",
       "skinparam wrapWidth 300\r\n",
       "hide circle\r\n",
       "\r\n",
       "package \"QualifiedNameImportTest\" as E1  [[psysml:5126b6fb-a0df-489e-901c-12bad15fd52c ]]  {\r\n",
       "package \"P1\" as E2  [[psysml:4671c392-f153-4102-94c6-e9de6b11f3b3 ]]  {\r\n",
       "comp def \"A\" as E3  <<(T,blue) part  def>> [[psysml:d43e5a90-a5b9-40ed-82e3-14a3538b6850 ]] {\r\n",
       "}\r\n",
       "}\r\n",
       "package \"P2\" as E4  [[psysml:b774f6e1-b4cc-4027-a413-e3d948253bea ]]  {\r\n",
       "package \"P2a\" as E5  [[psysml:c40d8d93-4b48-4997-9b6b-7328d49803fe ]]  {\r\n",
       "}\r\n",
       "comp usage \"x: A \" as E6  <<(T,blue) part>> [[psysml:76906768-adb2-44e4-864a-c9b21a4611cd ]] {\r\n",
       "}\r\n",
       "}\r\n",
       "}\r\n",
       "E5 ..> E2 [[psysml:9ee57c7f-7f65-4593-a505-e714f10a5bde ]] : <<import>>*\r\n",
       "E6 - -:|> E3 [[psysml:79dc21aa-3f25-4d04-bc8e-220599d338b9 ]] \r\n",
       "@enduml\r\n",
       "\n",
       "PlantUML version 1.2020.13(Sat Jun 13 12:26:38 UTC 2020)\n",
       "(EPL source distribution)\n",
       "Java Runtime: OpenJDK Runtime Environment\n",
       "JVM: OpenJDK 64-Bit Server VM\n",
       "Default Encoding: UTF-8\n",
       "Language: en\n",
       "Country: null\n",
       "--></g></svg>"
      ]
     },
     "execution_count": 16,
     "metadata": {},
     "output_type": "execute_result"
    }
   ],
   "source": [
    "%viz --style=\"LR\" --view=\"Default\" \"QualifiedNameImportTest\""
   ]
  },
  {
   "cell_type": "code",
   "execution_count": 17,
   "id": "afed64ce",
   "metadata": {
    "execution": {
     "iopub.execute_input": "2022-07-23T10:54:01.618494Z",
     "iopub.status.busy": "2022-07-23T10:54:01.617950Z",
     "iopub.status.idle": "2022-07-23T10:54:01.651565Z",
     "shell.execute_reply": "2022-07-23T10:54:01.649484Z"
    }
   },
   "outputs": [
    {
     "data": {
      "image/svg+xml": [
       "<?xml version=\"1.0\" encoding=\"UTF-8\" standalone=\"no\"?><svg xmlns=\"http://www.w3.org/2000/svg\" xmlns:xlink=\"http://www.w3.org/1999/xlink\" contentScriptType=\"application/ecmascript\" contentStyleType=\"text/css\" height=\"271px\" preserveAspectRatio=\"none\" style=\"width:397px;height:271px;\" version=\"1.1\" viewBox=\"0 0 397 271\" width=\"397px\" zoomAndPan=\"magnify\"><defs/><g><!--MD5=[fbc87193dbaf4d95561dea2c320d4a47]\n",
       "cluster E1--><a href=\"psysml:5126b6fb-a0df-489e-901c-12bad15fd52c\" target=\"_top\" title=\"psysml:5126b6fb-a0df-489e-901c-12bad15fd52c\" xlink:actuate=\"onRequest\" xlink:href=\"psysml:5126b6fb-a0df-489e-901c-12bad15fd52c\" xlink:show=\"new\" xlink:title=\"psysml:5126b6fb-a0df-489e-901c-12bad15fd52c\" xlink:type=\"simple\"><polygon fill=\"#FFFFFF\" points=\"16,6,196,6,203,28.2969,375,28.2969,375,259,16,259,16,6\" style=\"stroke: #000000; stroke-width: 1.5;\"/><line style=\"stroke: #000000; stroke-width: 1.5;\" x1=\"16\" x2=\"203\" y1=\"28.2969\" y2=\"28.2969\"/><text fill=\"#000000\" font-family=\"sans-serif\" font-size=\"14\" font-weight=\"bold\" lengthAdjust=\"spacingAndGlyphs\" textLength=\"174\" x=\"20\" y=\"20.9951\">QualifiedNameImportTest</text></a><!--MD5=[e4f7fae6ed58524ba242bb0b0d3be6b7]\n",
       "cluster E2--><a href=\"psysml:4671c392-f153-4102-94c6-e9de6b11f3b3\" target=\"_top\" title=\"psysml:4671c392-f153-4102-94c6-e9de6b11f3b3\" xlink:actuate=\"onRequest\" xlink:href=\"psysml:4671c392-f153-4102-94c6-e9de6b11f3b3\" xlink:show=\"new\" xlink:title=\"psysml:4671c392-f153-4102-94c6-e9de6b11f3b3\" xlink:type=\"simple\"><polygon fill=\"#FFFFFF\" points=\"225,90,249,90,256,112.2969,343,112.2969,343,222,225,222,225,90\" style=\"stroke: #000000; stroke-width: 1.5;\"/><line style=\"stroke: #000000; stroke-width: 1.5;\" x1=\"225\" x2=\"256\" y1=\"112.2969\" y2=\"112.2969\"/><text fill=\"#000000\" font-family=\"sans-serif\" font-size=\"14\" font-weight=\"bold\" lengthAdjust=\"spacingAndGlyphs\" textLength=\"18\" x=\"229\" y=\"104.9951\">P1</text></a><!--MD5=[f6df4d0ebaf0b5dfb2ced0ae5af7c670]\n",
       "cluster E4--><a href=\"psysml:b774f6e1-b4cc-4027-a413-e3d948253bea\" target=\"_top\" title=\"psysml:b774f6e1-b4cc-4027-a413-e3d948253bea\" xlink:actuate=\"onRequest\" xlink:href=\"psysml:b774f6e1-b4cc-4027-a413-e3d948253bea\" xlink:show=\"new\" xlink:title=\"psysml:b774f6e1-b4cc-4027-a413-e3d948253bea\" xlink:type=\"simple\"><polygon fill=\"#FFFFFF\" points=\"40,49,64,49,71,71.2969,118,71.2969,118,235,40,235,40,49\" style=\"stroke: #000000; stroke-width: 1.5;\"/><line style=\"stroke: #000000; stroke-width: 1.5;\" x1=\"40\" x2=\"71\" y1=\"71.2969\" y2=\"71.2969\"/><text fill=\"#000000\" font-family=\"sans-serif\" font-size=\"14\" font-weight=\"bold\" lengthAdjust=\"spacingAndGlyphs\" textLength=\"18\" x=\"44\" y=\"63.9951\">P2</text></a><!--MD5=[09b614a08d8cba4a07c9adeb5e0fee81]\n",
       "class E3--><a href=\"psysml:d43e5a90-a5b9-40ed-82e3-14a3538b6850\" target=\"_top\" title=\"psysml:d43e5a90-a5b9-40ed-82e3-14a3538b6850\" xlink:actuate=\"onRequest\" xlink:href=\"psysml:d43e5a90-a5b9-40ed-82e3-14a3538b6850\" xlink:show=\"new\" xlink:title=\"psysml:d43e5a90-a5b9-40ed-82e3-14a3538b6850\" xlink:type=\"simple\"><rect fill=\"#FFFFFF\" height=\"45.9375\" id=\"E3\" style=\"stroke: #383838; stroke-width: 1.5;\" width=\"70\" x=\"249\" y=\"152\"/><text fill=\"#000000\" font-family=\"sans-serif\" font-size=\"12\" font-style=\"italic\" lengthAdjust=\"spacingAndGlyphs\" textLength=\"68\" x=\"250\" y=\"168.1387\">«part  def»</text><text fill=\"#000000\" font-family=\"sans-serif\" font-size=\"12\" lengthAdjust=\"spacingAndGlyphs\" textLength=\"8\" x=\"280\" y=\"182.1074\">A</text><line style=\"stroke: #383838; stroke-width: 1.5;\" x1=\"250\" x2=\"318\" y1=\"189.9375\" y2=\"189.9375\"/></a><!--MD5=[60a26617385b1d2d0262a64233df1f8d]\n",
       "class E6--><a href=\"psysml:76906768-adb2-44e4-864a-c9b21a4611cd\" target=\"_top\" title=\"psysml:76906768-adb2-44e4-864a-c9b21a4611cd\" xlink:actuate=\"onRequest\" xlink:href=\"psysml:76906768-adb2-44e4-864a-c9b21a4611cd\" xlink:show=\"new\" xlink:title=\"psysml:76906768-adb2-44e4-864a-c9b21a4611cd\" xlink:type=\"simple\"><rect fill=\"#FFFFFF\" height=\"45.9375\" id=\"E6\" rx=\"10\" ry=\"10\" style=\"stroke: #383838; stroke-width: 1.5;\" width=\"42\" x=\"58\" y=\"173\"/><text fill=\"#000000\" font-family=\"sans-serif\" font-size=\"12\" font-style=\"italic\" lengthAdjust=\"spacingAndGlyphs\" textLength=\"40\" x=\"59\" y=\"189.1387\">«part»</text><text fill=\"#000000\" font-family=\"sans-serif\" font-size=\"12\" lengthAdjust=\"spacingAndGlyphs\" textLength=\"22\" x=\"66\" y=\"203.1074\">x: A</text><line style=\"stroke: #383838; stroke-width: 1.5;\" x1=\"59\" x2=\"99\" y1=\"210.9375\" y2=\"210.9375\"/></a><a href=\"psysml:c40d8d93-4b48-4997-9b6b-7328d49803fe\" target=\"_top\" title=\"psysml:c40d8d93-4b48-4997-9b6b-7328d49803fe\" xlink:actuate=\"onRequest\" xlink:href=\"psysml:c40d8d93-4b48-4997-9b6b-7328d49803fe\" xlink:show=\"new\" xlink:title=\"psysml:c40d8d93-4b48-4997-9b6b-7328d49803fe\" xlink:type=\"simple\"><polygon fill=\"#FFFFFF\" points=\"56,84.5,88,84.5,95,106.7969,102,106.7969,102,137.0938,56,137.0938,56,84.5\" style=\"stroke: #000000; stroke-width: 1.5;\"/><line style=\"stroke: #000000; stroke-width: 1.5;\" x1=\"56\" x2=\"95\" y1=\"106.7969\" y2=\"106.7969\"/><text fill=\"#000000\" font-family=\"sans-serif\" font-size=\"14\" font-weight=\"bold\" lengthAdjust=\"spacingAndGlyphs\" textLength=\"26\" x=\"60\" y=\"99.4951\">P2a</text></a><!--MD5=[15ebcb19ae302d9b601edb458606d402]\n",
       "link E5 to E2--><a href=\"psysml:9ee57c7f-7f65-4593-a505-e714f10a5bde\" target=\"_top\" title=\"psysml:9ee57c7f-7f65-4593-a505-e714f10a5bde\" xlink:actuate=\"onRequest\" xlink:href=\"psysml:9ee57c7f-7f65-4593-a505-e714f10a5bde\" xlink:show=\"new\" xlink:title=\"psysml:9ee57c7f-7f65-4593-a505-e714f10a5bde\" xlink:type=\"simple\"><path d=\"M102.11,111.65 C128.005,112.415 172.23,113.7225 210.4688,114.8538 C215.2486,114.9952 219.9349,115.1338 224.4802,115.2683 \" fill=\"none\" id=\"E5-&gt;E2\" style=\"stroke: #383838; stroke-width: 1.0; stroke-dasharray: 7.0,7.0;\"/><polygon fill=\"#383838\" points=\"224.4802,115.2683,215.6024,111.0039,219.4824,115.1204,215.3658,119.0004,224.4802,115.2683\" style=\"stroke: #383838; stroke-width: 1.0;\"/><text fill=\"#000000\" font-family=\"sans-serif\" font-size=\"13\" lengthAdjust=\"spacingAndGlyphs\" textLength=\"65\" x=\"135\" y=\"109.0669\">«import»*</text></a><!--MD5=[a717450b82c80b9240a525fa862496af]\n",
       "link E6 to E3--><a href=\"psysml:79dc21aa-3f25-4d04-bc8e-220599d338b9\" target=\"_top\" title=\"psysml:79dc21aa-3f25-4d04-bc8e-220599d338b9\" xlink:actuate=\"onRequest\" xlink:href=\"psysml:79dc21aa-3f25-4d04-bc8e-220599d338b9\" xlink:show=\"new\" xlink:title=\"psysml:79dc21aa-3f25-4d04-bc8e-220599d338b9\" xlink:type=\"simple\"><path d=\"M100.21,193.91 C129.89,190.84 186.34,185 228.7,180.62 \" fill=\"none\" id=\"E6-&gt;E3\" style=\"stroke: #383838; stroke-width: 1.0;\"/><polygon fill=\"#FFFFFF\" points=\"248.76,178.54,230.5811,187.4579,229.1406,173.5322,248.76,178.54\" style=\"stroke: #383838; stroke-width: 1.0;\"/><ellipse cx=\"224.7056\" cy=\"186.0551\" fill=\"#383838\" rx=\"2\" ry=\"2\" style=\"stroke: #383838; stroke-width: 1.0;\"/><ellipse cx=\"223.6766\" cy=\"176.1082\" fill=\"#383838\" rx=\"2\" ry=\"2\" style=\"stroke: #383838; stroke-width: 1.0;\"/></a><!--MD5=[24a3774453ec766a8e8fa02b5d7c6822]\n",
       "@startuml\r\n",
       "left to right direction\r\n",
       "skinparam monochrome true\r\n",
       "skinparam classbackgroundcolor white\r\n",
       "skinparam shadowing false\r\n",
       "skinparam wrapWidth 300\r\n",
       "hide circle\r\n",
       "\r\n",
       "package \"QualifiedNameImportTest\" as E1  [[psysml:5126b6fb-a0df-489e-901c-12bad15fd52c ]]  {\r\n",
       "package \"P1\" as E2  [[psysml:4671c392-f153-4102-94c6-e9de6b11f3b3 ]]  {\r\n",
       "comp def \"A\" as E3  <<(T,blue) part  def>> [[psysml:d43e5a90-a5b9-40ed-82e3-14a3538b6850 ]] {\r\n",
       "}\r\n",
       "}\r\n",
       "package \"P2\" as E4  [[psysml:b774f6e1-b4cc-4027-a413-e3d948253bea ]]  {\r\n",
       "package \"P2a\" as E5  [[psysml:c40d8d93-4b48-4997-9b6b-7328d49803fe ]]  {\r\n",
       "}\r\n",
       "comp usage \"x: A \" as E6  <<(T,blue) part>> [[psysml:76906768-adb2-44e4-864a-c9b21a4611cd ]] {\r\n",
       "}\r\n",
       "}\r\n",
       "}\r\n",
       "E5 ..> E2 [[psysml:9ee57c7f-7f65-4593-a505-e714f10a5bde ]] : <<import>>*\r\n",
       "E6 - -:|> E3 [[psysml:79dc21aa-3f25-4d04-bc8e-220599d338b9 ]] \r\n",
       "@enduml\r\n",
       "\n",
       "PlantUML version 1.2020.13(Sat Jun 13 12:26:38 UTC 2020)\n",
       "(EPL source distribution)\n",
       "Java Runtime: OpenJDK Runtime Environment\n",
       "JVM: OpenJDK 64-Bit Server VM\n",
       "Default Encoding: UTF-8\n",
       "Language: en\n",
       "Country: null\n",
       "--></g></svg>"
      ]
     },
     "execution_count": 17,
     "metadata": {},
     "output_type": "execute_result"
    }
   ],
   "source": [
    "%viz --style=\"LR\" --view=\"Tree\" \"QualifiedNameImportTest\""
   ]
  },
  {
   "cell_type": "code",
   "execution_count": 18,
   "id": "203a140f",
   "metadata": {
    "execution": {
     "iopub.execute_input": "2022-07-23T10:54:01.700673Z",
     "iopub.status.busy": "2022-07-23T10:54:01.700101Z",
     "iopub.status.idle": "2022-07-23T10:54:01.705721Z",
     "shell.execute_reply": "2022-07-23T10:54:01.705240Z"
    }
   },
   "outputs": [
    {
     "data": {
      "image/svg+xml": [
       "<?xml version=\"1.0\" encoding=\"UTF-8\" standalone=\"no\"?><svg xmlns=\"http://www.w3.org/2000/svg\" xmlns:xlink=\"http://www.w3.org/1999/xlink\" contentScriptType=\"application/ecmascript\" contentStyleType=\"text/css\" height=\"12px\" preserveAspectRatio=\"none\" style=\"width:12px;height:12px;\" version=\"1.1\" viewBox=\"0 0 12 12\" width=\"12px\" zoomAndPan=\"magnify\"><defs/><g><!--MD5=[19d285c9d72a204eba4e2cd117d745e8]\n",
       "@startuml\r\n",
       "left to right direction\r\n",
       "skinparam monochrome true\r\n",
       "skinparam classbackgroundcolor white\r\n",
       "skinparam shadowing false\r\n",
       "skinparam wrapWidth 300\r\n",
       "hide circle\r\n",
       "\r\n",
       "@enduml\r\n",
       "\n",
       "PlantUML version 1.2020.13(Sat Jun 13 12:26:38 UTC 2020)\n",
       "(EPL source distribution)\n",
       "Java Runtime: OpenJDK Runtime Environment\n",
       "JVM: OpenJDK 64-Bit Server VM\n",
       "Default Encoding: UTF-8\n",
       "Language: en\n",
       "Country: null\n",
       "--></g></svg>"
      ]
     },
     "execution_count": 18,
     "metadata": {},
     "output_type": "execute_result"
    }
   ],
   "source": [
    "%viz --style=\"LR\" --view=\"State\" \"QualifiedNameImportTest\""
   ]
  },
  {
   "cell_type": "code",
   "execution_count": 19,
   "id": "3733a8e5",
   "metadata": {
    "execution": {
     "iopub.execute_input": "2022-07-23T10:54:01.755269Z",
     "iopub.status.busy": "2022-07-23T10:54:01.754790Z",
     "iopub.status.idle": "2022-07-23T10:54:01.790394Z",
     "shell.execute_reply": "2022-07-23T10:54:01.789834Z"
    }
   },
   "outputs": [
    {
     "data": {
      "image/svg+xml": [
       "<?xml version=\"1.0\" encoding=\"UTF-8\" standalone=\"no\"?><svg xmlns=\"http://www.w3.org/2000/svg\" xmlns:xlink=\"http://www.w3.org/1999/xlink\" contentScriptType=\"application/ecmascript\" contentStyleType=\"text/css\" height=\"265px\" preserveAspectRatio=\"none\" style=\"width:406px;height:265px;\" version=\"1.1\" viewBox=\"0 0 406 265\" width=\"406px\" zoomAndPan=\"magnify\"><defs/><g><!--MD5=[fbc87193dbaf4d95561dea2c320d4a47]\n",
       "cluster E1--><a href=\"psysml:5126b6fb-a0df-489e-901c-12bad15fd52c\" target=\"_top\" title=\"psysml:5126b6fb-a0df-489e-901c-12bad15fd52c\" xlink:actuate=\"onRequest\" xlink:href=\"psysml:5126b6fb-a0df-489e-901c-12bad15fd52c\" xlink:show=\"new\" xlink:title=\"psysml:5126b6fb-a0df-489e-901c-12bad15fd52c\" xlink:type=\"simple\"><polygon fill=\"#FFFFFF\" points=\"16,6,196,6,203,28.2969,384,28.2969,384,253,16,253,16,6\" style=\"stroke: #000000; stroke-width: 1.5;\"/><line style=\"stroke: #000000; stroke-width: 1.5;\" x1=\"16\" x2=\"203\" y1=\"28.2969\" y2=\"28.2969\"/><text fill=\"#000000\" font-family=\"sans-serif\" font-size=\"14\" font-weight=\"bold\" lengthAdjust=\"spacingAndGlyphs\" textLength=\"174\" x=\"20\" y=\"20.9951\">QualifiedNameImportTest</text></a><!--MD5=[e4f7fae6ed58524ba242bb0b0d3be6b7]\n",
       "cluster E2--><a href=\"psysml:4671c392-f153-4102-94c6-e9de6b11f3b3\" target=\"_top\" title=\"psysml:4671c392-f153-4102-94c6-e9de6b11f3b3\" xlink:actuate=\"onRequest\" xlink:href=\"psysml:4671c392-f153-4102-94c6-e9de6b11f3b3\" xlink:show=\"new\" xlink:title=\"psysml:4671c392-f153-4102-94c6-e9de6b11f3b3\" xlink:type=\"simple\"><polygon fill=\"#FFFFFF\" points=\"229,59,253,59,260,81.2969,352,81.2969,352,189,229,189,229,59\" style=\"stroke: #000000; stroke-width: 1.5;\"/><line style=\"stroke: #000000; stroke-width: 1.5;\" x1=\"229\" x2=\"260\" y1=\"81.2969\" y2=\"81.2969\"/><text fill=\"#000000\" font-family=\"sans-serif\" font-size=\"14\" font-weight=\"bold\" lengthAdjust=\"spacingAndGlyphs\" textLength=\"18\" x=\"233\" y=\"73.9951\">P1</text></a><!--MD5=[f6df4d0ebaf0b5dfb2ced0ae5af7c670]\n",
       "cluster E4--><a href=\"psysml:b774f6e1-b4cc-4027-a413-e3d948253bea\" target=\"_top\" title=\"psysml:b774f6e1-b4cc-4027-a413-e3d948253bea\" xlink:actuate=\"onRequest\" xlink:href=\"psysml:b774f6e1-b4cc-4027-a413-e3d948253bea\" xlink:show=\"new\" xlink:title=\"psysml:b774f6e1-b4cc-4027-a413-e3d948253bea\" xlink:type=\"simple\"><polygon fill=\"#FFFFFF\" points=\"40,49,64,49,71,71.2969,122,71.2969,122,229,40,229,40,49\" style=\"stroke: #000000; stroke-width: 1.5;\"/><line style=\"stroke: #000000; stroke-width: 1.5;\" x1=\"40\" x2=\"71\" y1=\"71.2969\" y2=\"71.2969\"/><text fill=\"#000000\" font-family=\"sans-serif\" font-size=\"14\" font-weight=\"bold\" lengthAdjust=\"spacingAndGlyphs\" textLength=\"18\" x=\"44\" y=\"63.9951\">P2</text></a><g id=\"E1.E2.E3\"><a href=\"psysml:d43e5a90-a5b9-40ed-82e3-14a3538b6850\" target=\"_top\" title=\"psysml:d43e5a90-a5b9-40ed-82e3-14a3538b6850\" xlink:actuate=\"onRequest\" xlink:href=\"psysml:d43e5a90-a5b9-40ed-82e3-14a3538b6850\" xlink:show=\"new\" xlink:title=\"psysml:d43e5a90-a5b9-40ed-82e3-14a3538b6850\" xlink:type=\"simple\"><rect fill=\"#FFFFFF\" height=\"42.9375\" id=\"E3\" style=\"stroke: #383838; stroke-width: 1.5;\" width=\"75\" x=\"253\" y=\"102.5\"/><rect fill=\"#F8F8F8\" height=\"37.9375\" style=\"stroke: #383838; stroke-width: 1.5;\" width=\"75\" x=\"253\" y=\"102.5\"/><text fill=\"#000000\" font-family=\"sans-serif\" font-size=\"12\" font-style=\"italic\" lengthAdjust=\"spacingAndGlyphs\" textLength=\"68\" x=\"256.5\" y=\"118.6387\">«part  def»</text><text fill=\"#000000\" font-family=\"sans-serif\" font-size=\"12\" lengthAdjust=\"spacingAndGlyphs\" textLength=\"8\" x=\"286.5\" y=\"132.6074\">A</text></a></g><a href=\"psysml:c40d8d93-4b48-4997-9b6b-7328d49803fe\" target=\"_top\" title=\"psysml:c40d8d93-4b48-4997-9b6b-7328d49803fe\" xlink:actuate=\"onRequest\" xlink:href=\"psysml:c40d8d93-4b48-4997-9b6b-7328d49803fe\" xlink:show=\"new\" xlink:title=\"psysml:c40d8d93-4b48-4997-9b6b-7328d49803fe\" xlink:type=\"simple\"><polygon fill=\"#FFFFFF\" points=\"58,159.5,90,159.5,97,181.7969,104,181.7969,104,212.0938,58,212.0938,58,159.5\" style=\"stroke: #000000; stroke-width: 1.5;\"/><line style=\"stroke: #000000; stroke-width: 1.5;\" x1=\"58\" x2=\"97\" y1=\"181.7969\" y2=\"181.7969\"/><text fill=\"#000000\" font-family=\"sans-serif\" font-size=\"14\" font-weight=\"bold\" lengthAdjust=\"spacingAndGlyphs\" textLength=\"26\" x=\"62\" y=\"174.4951\">P2a</text></a><g id=\"E1.E4.E6\"><a href=\"psysml:76906768-adb2-44e4-864a-c9b21a4611cd\" target=\"_top\" title=\"psysml:76906768-adb2-44e4-864a-c9b21a4611cd\" xlink:actuate=\"onRequest\" xlink:href=\"psysml:76906768-adb2-44e4-864a-c9b21a4611cd\" xlink:show=\"new\" xlink:title=\"psysml:76906768-adb2-44e4-864a-c9b21a4611cd\" xlink:type=\"simple\"><rect fill=\"#FFFFFF\" height=\"40\" id=\"E6\" rx=\"10\" ry=\"10\" style=\"stroke: #383838; stroke-width: 1.5;\" width=\"50\" x=\"56\" y=\"84\"/><rect fill=\"#F8F8F8\" height=\"23.9688\" rx=\"10\" ry=\"10\" style=\"stroke: #F8F8F8; stroke-width: 1.5;\" width=\"50\" x=\"56\" y=\"84\"/><rect fill=\"#F8F8F8\" height=\"10\" style=\"stroke: #F8F8F8; stroke-width: 1.5;\" width=\"50\" x=\"56\" y=\"97.9688\"/><rect fill=\"none\" height=\"40\" id=\"E6\" rx=\"10\" ry=\"10\" style=\"stroke: #383838; stroke-width: 1.5;\" width=\"50\" x=\"56\" y=\"84\"/><text fill=\"#000000\" font-family=\"sans-serif\" font-size=\"12\" lengthAdjust=\"spacingAndGlyphs\" textLength=\"22\" x=\"70\" y=\"100.1387\">x: A</text></a></g><!--MD5=[15ebcb19ae302d9b601edb458606d402]\n",
       "link E5 to E2--><a href=\"psysml:9ee57c7f-7f65-4593-a505-e714f10a5bde\" target=\"_top\" title=\"psysml:9ee57c7f-7f65-4593-a505-e714f10a5bde\" xlink:actuate=\"onRequest\" xlink:href=\"psysml:9ee57c7f-7f65-4593-a505-e714f10a5bde\" xlink:show=\"new\" xlink:title=\"psysml:9ee57c7f-7f65-4593-a505-e714f10a5bde\" xlink:type=\"simple\"><path d=\"M104.21,185.46 C130.555,184.83 175.8525,183.74 215.0637,182.795 C217.5145,182.7359 219.9414,182.6774 222.3384,182.6197 C223.5369,182.5908 224.728,182.5621 225.9108,182.5335 C226.5022,182.5193 227.0916,182.5051 227.6788,182.4909 C227.9723,182.4838 228.2654,182.4768 228.5579,182.4697 \" fill=\"none\" id=\"E5-&gt;E2\" style=\"stroke: #383838; stroke-width: 1.0; stroke-dasharray: 7.0,7.0;\"/><polygon fill=\"#383838\" points=\"228.5579,182.4697,219.4641,178.6878,223.5594,182.5902,219.6569,186.6855,228.5579,182.4697\" style=\"stroke: #383838; stroke-width: 1.0;\"/><text fill=\"#000000\" font-family=\"sans-serif\" font-size=\"13\" lengthAdjust=\"spacingAndGlyphs\" textLength=\"65\" x=\"139\" y=\"180.0669\">«import»*</text></a><!--MD5=[a717450b82c80b9240a525fa862496af]\n",
       "link E6 to E3--><a href=\"psysml:79dc21aa-3f25-4d04-bc8e-220599d338b9\" target=\"_top\" title=\"psysml:79dc21aa-3f25-4d04-bc8e-220599d338b9\" xlink:actuate=\"onRequest\" xlink:href=\"psysml:79dc21aa-3f25-4d04-bc8e-220599d338b9\" xlink:show=\"new\" xlink:title=\"psysml:79dc21aa-3f25-4d04-bc8e-220599d338b9\" xlink:type=\"simple\"><path d=\"M106.21,106.33 C137.05,109.31 191.33,114.54 232.84,118.54 \" fill=\"none\" id=\"E6-&gt;E3\" style=\"stroke: #383838; stroke-width: 1.0;\"/><polygon fill=\"#FFFFFF\" points=\"252.9,120.47,233.3134,125.6046,234.6638,111.6699,252.9,120.47\" style=\"stroke: #383838; stroke-width: 1.0;\"/><ellipse cx=\"227.8329\" cy=\"123.0641\" fill=\"#383838\" rx=\"2\" ry=\"2\" style=\"stroke: #383838; stroke-width: 1.0;\"/><ellipse cx=\"228.7975\" cy=\"113.1107\" fill=\"#383838\" rx=\"2\" ry=\"2\" style=\"stroke: #383838; stroke-width: 1.0;\"/></a><!--MD5=[adfe5a33db0353801b87407c471c4e13]\n",
       "@startuml\r\n",
       "skinparam ranksep 10\r\n",
       "skinparam rectangle {\r\n",
       " backgroundColor<<block>> LightGreen\r\n",
       "}\r\n",
       "left to right direction\r\n",
       "skinparam monochrome true\r\n",
       "skinparam classbackgroundcolor white\r\n",
       "skinparam shadowing false\r\n",
       "skinparam wrapWidth 300\r\n",
       "hide circle\r\n",
       "\r\n",
       "package \"QualifiedNameImportTest\" as E1  [[psysml:5126b6fb-a0df-489e-901c-12bad15fd52c ]]  {\r\n",
       "package \"P1\" as E2  [[psysml:4671c392-f153-4102-94c6-e9de6b11f3b3 ]]  {\r\n",
       "rec def \"A\" as E3  <<(T,blue) part  def>> [[psysml:d43e5a90-a5b9-40ed-82e3-14a3538b6850 ]] {\r\n",
       "}\r\n",
       "}\r\n",
       "package \"P2\" as E4  [[psysml:b774f6e1-b4cc-4027-a413-e3d948253bea ]]  {\r\n",
       "package \"P2a\" as E5  [[psysml:c40d8d93-4b48-4997-9b6b-7328d49803fe ]]  {\r\n",
       "}\r\n",
       "rec usage \"x: A\" as E6  [[psysml:76906768-adb2-44e4-864a-c9b21a4611cd ]] {\r\n",
       "}\r\n",
       "}\r\n",
       "}\r\n",
       "E5 ..> E2 [[psysml:9ee57c7f-7f65-4593-a505-e714f10a5bde ]] : <<import>>*\r\n",
       "E6 - -:|> E3 [[psysml:79dc21aa-3f25-4d04-bc8e-220599d338b9 ]] \r\n",
       "@enduml\r\n",
       "\n",
       "PlantUML version 1.2020.13(Sat Jun 13 12:26:38 UTC 2020)\n",
       "(EPL source distribution)\n",
       "Java Runtime: OpenJDK Runtime Environment\n",
       "JVM: OpenJDK 64-Bit Server VM\n",
       "Default Encoding: UTF-8\n",
       "Language: en\n",
       "Country: null\n",
       "--></g></svg>"
      ]
     },
     "execution_count": 19,
     "metadata": {},
     "output_type": "execute_result"
    }
   ],
   "source": [
    "%viz --style=\"LR\" --view=\"Interconnection\" \"QualifiedNameImportTest\""
   ]
  },
  {
   "cell_type": "code",
   "execution_count": 20,
   "id": "29eaf0fd",
   "metadata": {
    "execution": {
     "iopub.execute_input": "2022-07-23T10:54:01.839629Z",
     "iopub.status.busy": "2022-07-23T10:54:01.839079Z",
     "iopub.status.idle": "2022-07-23T10:54:01.845060Z",
     "shell.execute_reply": "2022-07-23T10:54:01.845277Z"
    }
   },
   "outputs": [
    {
     "data": {
      "image/svg+xml": [
       "<?xml version=\"1.0\" encoding=\"UTF-8\" standalone=\"no\"?><svg xmlns=\"http://www.w3.org/2000/svg\" xmlns:xlink=\"http://www.w3.org/1999/xlink\" contentScriptType=\"application/ecmascript\" contentStyleType=\"text/css\" height=\"12px\" preserveAspectRatio=\"none\" style=\"width:12px;height:12px;\" version=\"1.1\" viewBox=\"0 0 12 12\" width=\"12px\" zoomAndPan=\"magnify\"><defs/><g><!--MD5=[7aeb398939421629f6affaa4a1a7b125]\n",
       "@startuml\r\n",
       "skinparam ranksep 8\r\n",
       "left to right direction\r\n",
       "skinparam monochrome true\r\n",
       "skinparam classbackgroundcolor white\r\n",
       "skinparam shadowing false\r\n",
       "skinparam wrapWidth 300\r\n",
       "hide circle\r\n",
       "\r\n",
       "@enduml\r\n",
       "\n",
       "PlantUML version 1.2020.13(Sat Jun 13 12:26:38 UTC 2020)\n",
       "(EPL source distribution)\n",
       "Java Runtime: OpenJDK Runtime Environment\n",
       "JVM: OpenJDK 64-Bit Server VM\n",
       "Default Encoding: UTF-8\n",
       "Language: en\n",
       "Country: null\n",
       "--></g></svg>"
      ]
     },
     "execution_count": 20,
     "metadata": {},
     "output_type": "execute_result"
    }
   ],
   "source": [
    "%viz --style=\"LR\" --view=\"Action\" \"QualifiedNameImportTest\""
   ]
  },
  {
   "cell_type": "code",
   "execution_count": 21,
   "id": "399e62f8",
   "metadata": {
    "execution": {
     "iopub.execute_input": "2022-07-23T10:54:01.895894Z",
     "iopub.status.busy": "2022-07-23T10:54:01.895544Z",
     "iopub.status.idle": "2022-07-23T10:54:01.901744Z",
     "shell.execute_reply": "2022-07-23T10:54:01.901454Z"
    }
   },
   "outputs": [
    {
     "data": {
      "image/svg+xml": [
       "<?xml version=\"1.0\" encoding=\"UTF-8\" standalone=\"no\"?><svg xmlns=\"http://www.w3.org/2000/svg\" xmlns:xlink=\"http://www.w3.org/1999/xlink\" contentScriptType=\"application/ecmascript\" contentStyleType=\"text/css\" height=\"12px\" preserveAspectRatio=\"none\" style=\"width:12px;height:12px;\" version=\"1.1\" viewBox=\"0 0 12 12\" width=\"12px\" zoomAndPan=\"magnify\"><defs/><g><!--MD5=[238c11ea2002f03115ad6b49a457d50e]\n",
       "@startuml\r\n",
       "skinparam roundcorner 20\r\n",
       "skinparam BoxPadding 20\r\n",
       "skinparam SequenceBoxBackgroundColor #white\r\n",
       "skinparam style strictuml\r\n",
       "skinparam maxMessageSize 100\r\n",
       "left to right direction\r\n",
       "skinparam monochrome true\r\n",
       "skinparam classbackgroundcolor white\r\n",
       "skinparam shadowing false\r\n",
       "skinparam wrapWidth 300\r\n",
       "hide circle\r\n",
       "\r\n",
       "@enduml\r\n",
       "\n",
       "PlantUML version 1.2020.13(Sat Jun 13 12:26:38 UTC 2020)\n",
       "(EPL source distribution)\n",
       "Java Runtime: OpenJDK Runtime Environment\n",
       "JVM: OpenJDK 64-Bit Server VM\n",
       "Default Encoding: UTF-8\n",
       "Language: en\n",
       "Country: null\n",
       "--></g></svg>"
      ]
     },
     "execution_count": 21,
     "metadata": {},
     "output_type": "execute_result"
    }
   ],
   "source": [
    "%viz --style=\"LR\" --view=\"Sequence\" \"QualifiedNameImportTest\""
   ]
  },
  {
   "cell_type": "code",
   "execution_count": 22,
   "id": "522c2e62",
   "metadata": {
    "execution": {
     "iopub.execute_input": "2022-07-23T10:54:01.952022Z",
     "iopub.status.busy": "2022-07-23T10:54:01.951759Z",
     "iopub.status.idle": "2022-07-23T10:54:01.986868Z",
     "shell.execute_reply": "2022-07-23T10:54:01.986649Z"
    }
   },
   "outputs": [
    {
     "data": {
      "image/svg+xml": [
       "<?xml version=\"1.0\" encoding=\"UTF-8\" standalone=\"no\"?><svg xmlns=\"http://www.w3.org/2000/svg\" xmlns:xlink=\"http://www.w3.org/1999/xlink\" contentScriptType=\"application/ecmascript\" contentStyleType=\"text/css\" height=\"271px\" preserveAspectRatio=\"none\" style=\"width:397px;height:271px;\" version=\"1.1\" viewBox=\"0 0 397 271\" width=\"397px\" zoomAndPan=\"magnify\"><defs/><g><!--MD5=[fbc87193dbaf4d95561dea2c320d4a47]\n",
       "cluster E1--><a href=\"psysml:5126b6fb-a0df-489e-901c-12bad15fd52c\" target=\"_top\" title=\"psysml:5126b6fb-a0df-489e-901c-12bad15fd52c\" xlink:actuate=\"onRequest\" xlink:href=\"psysml:5126b6fb-a0df-489e-901c-12bad15fd52c\" xlink:show=\"new\" xlink:title=\"psysml:5126b6fb-a0df-489e-901c-12bad15fd52c\" xlink:type=\"simple\"><polygon fill=\"#FFFFFF\" points=\"16,6,196,6,203,28.2969,375,28.2969,375,259,16,259,16,6\" style=\"stroke: #000000; stroke-width: 1.5;\"/><line style=\"stroke: #000000; stroke-width: 1.5;\" x1=\"16\" x2=\"203\" y1=\"28.2969\" y2=\"28.2969\"/><text fill=\"#000000\" font-family=\"sans-serif\" font-size=\"14\" font-weight=\"bold\" lengthAdjust=\"spacingAndGlyphs\" textLength=\"174\" x=\"20\" y=\"20.9951\">QualifiedNameImportTest</text></a><!--MD5=[e4f7fae6ed58524ba242bb0b0d3be6b7]\n",
       "cluster E2--><a href=\"psysml:4671c392-f153-4102-94c6-e9de6b11f3b3\" target=\"_top\" title=\"psysml:4671c392-f153-4102-94c6-e9de6b11f3b3\" xlink:actuate=\"onRequest\" xlink:href=\"psysml:4671c392-f153-4102-94c6-e9de6b11f3b3\" xlink:show=\"new\" xlink:title=\"psysml:4671c392-f153-4102-94c6-e9de6b11f3b3\" xlink:type=\"simple\"><polygon fill=\"#FFFFFF\" points=\"225,90,249,90,256,112.2969,343,112.2969,343,222,225,222,225,90\" style=\"stroke: #000000; stroke-width: 1.5;\"/><line style=\"stroke: #000000; stroke-width: 1.5;\" x1=\"225\" x2=\"256\" y1=\"112.2969\" y2=\"112.2969\"/><text fill=\"#000000\" font-family=\"sans-serif\" font-size=\"14\" font-weight=\"bold\" lengthAdjust=\"spacingAndGlyphs\" textLength=\"18\" x=\"229\" y=\"104.9951\">P1</text></a><!--MD5=[f6df4d0ebaf0b5dfb2ced0ae5af7c670]\n",
       "cluster E4--><a href=\"psysml:b774f6e1-b4cc-4027-a413-e3d948253bea\" target=\"_top\" title=\"psysml:b774f6e1-b4cc-4027-a413-e3d948253bea\" xlink:actuate=\"onRequest\" xlink:href=\"psysml:b774f6e1-b4cc-4027-a413-e3d948253bea\" xlink:show=\"new\" xlink:title=\"psysml:b774f6e1-b4cc-4027-a413-e3d948253bea\" xlink:type=\"simple\"><polygon fill=\"#FFFFFF\" points=\"40,49,64,49,71,71.2969,118,71.2969,118,235,40,235,40,49\" style=\"stroke: #000000; stroke-width: 1.5;\"/><line style=\"stroke: #000000; stroke-width: 1.5;\" x1=\"40\" x2=\"71\" y1=\"71.2969\" y2=\"71.2969\"/><text fill=\"#000000\" font-family=\"sans-serif\" font-size=\"14\" font-weight=\"bold\" lengthAdjust=\"spacingAndGlyphs\" textLength=\"18\" x=\"44\" y=\"63.9951\">P2</text></a><!--MD5=[09b614a08d8cba4a07c9adeb5e0fee81]\n",
       "class E3--><a href=\"psysml:d43e5a90-a5b9-40ed-82e3-14a3538b6850\" target=\"_top\" title=\"psysml:d43e5a90-a5b9-40ed-82e3-14a3538b6850\" xlink:actuate=\"onRequest\" xlink:href=\"psysml:d43e5a90-a5b9-40ed-82e3-14a3538b6850\" xlink:show=\"new\" xlink:title=\"psysml:d43e5a90-a5b9-40ed-82e3-14a3538b6850\" xlink:type=\"simple\"><rect fill=\"#FFFFFF\" height=\"45.9375\" id=\"E3\" style=\"stroke: #383838; stroke-width: 1.5;\" width=\"70\" x=\"249\" y=\"152\"/><text fill=\"#000000\" font-family=\"sans-serif\" font-size=\"12\" font-style=\"italic\" lengthAdjust=\"spacingAndGlyphs\" textLength=\"68\" x=\"250\" y=\"168.1387\">«part  def»</text><text fill=\"#000000\" font-family=\"sans-serif\" font-size=\"12\" lengthAdjust=\"spacingAndGlyphs\" textLength=\"8\" x=\"280\" y=\"182.1074\">A</text><line style=\"stroke: #383838; stroke-width: 1.5;\" x1=\"250\" x2=\"318\" y1=\"189.9375\" y2=\"189.9375\"/></a><!--MD5=[60a26617385b1d2d0262a64233df1f8d]\n",
       "class E6--><a href=\"psysml:76906768-adb2-44e4-864a-c9b21a4611cd\" target=\"_top\" title=\"psysml:76906768-adb2-44e4-864a-c9b21a4611cd\" xlink:actuate=\"onRequest\" xlink:href=\"psysml:76906768-adb2-44e4-864a-c9b21a4611cd\" xlink:show=\"new\" xlink:title=\"psysml:76906768-adb2-44e4-864a-c9b21a4611cd\" xlink:type=\"simple\"><rect fill=\"#FFFFFF\" height=\"45.9375\" id=\"E6\" rx=\"10\" ry=\"10\" style=\"stroke: #383838; stroke-width: 1.5;\" width=\"42\" x=\"58\" y=\"173\"/><text fill=\"#000000\" font-family=\"sans-serif\" font-size=\"12\" font-style=\"italic\" lengthAdjust=\"spacingAndGlyphs\" textLength=\"40\" x=\"59\" y=\"189.1387\">«part»</text><text fill=\"#000000\" font-family=\"sans-serif\" font-size=\"12\" lengthAdjust=\"spacingAndGlyphs\" textLength=\"22\" x=\"66\" y=\"203.1074\">x: A</text><line style=\"stroke: #383838; stroke-width: 1.5;\" x1=\"59\" x2=\"99\" y1=\"210.9375\" y2=\"210.9375\"/></a><a href=\"psysml:c40d8d93-4b48-4997-9b6b-7328d49803fe\" target=\"_top\" title=\"psysml:c40d8d93-4b48-4997-9b6b-7328d49803fe\" xlink:actuate=\"onRequest\" xlink:href=\"psysml:c40d8d93-4b48-4997-9b6b-7328d49803fe\" xlink:show=\"new\" xlink:title=\"psysml:c40d8d93-4b48-4997-9b6b-7328d49803fe\" xlink:type=\"simple\"><polygon fill=\"#FFFFFF\" points=\"56,84.5,88,84.5,95,106.7969,102,106.7969,102,137.0938,56,137.0938,56,84.5\" style=\"stroke: #000000; stroke-width: 1.5;\"/><line style=\"stroke: #000000; stroke-width: 1.5;\" x1=\"56\" x2=\"95\" y1=\"106.7969\" y2=\"106.7969\"/><text fill=\"#000000\" font-family=\"sans-serif\" font-size=\"14\" font-weight=\"bold\" lengthAdjust=\"spacingAndGlyphs\" textLength=\"26\" x=\"60\" y=\"99.4951\">P2a</text></a><!--MD5=[15ebcb19ae302d9b601edb458606d402]\n",
       "link E5 to E2--><a href=\"psysml:9ee57c7f-7f65-4593-a505-e714f10a5bde\" target=\"_top\" title=\"psysml:9ee57c7f-7f65-4593-a505-e714f10a5bde\" xlink:actuate=\"onRequest\" xlink:href=\"psysml:9ee57c7f-7f65-4593-a505-e714f10a5bde\" xlink:show=\"new\" xlink:title=\"psysml:9ee57c7f-7f65-4593-a505-e714f10a5bde\" xlink:type=\"simple\"><path d=\"M102.11,111.65 C128.005,112.415 172.23,113.7225 210.4688,114.8538 C215.2486,114.9952 219.9349,115.1338 224.4802,115.2683 \" fill=\"none\" id=\"E5-&gt;E2\" style=\"stroke: #383838; stroke-width: 1.0; stroke-dasharray: 7.0,7.0;\"/><polygon fill=\"#383838\" points=\"224.4802,115.2683,215.6024,111.0039,219.4824,115.1204,215.3658,119.0004,224.4802,115.2683\" style=\"stroke: #383838; stroke-width: 1.0;\"/><text fill=\"#000000\" font-family=\"sans-serif\" font-size=\"13\" lengthAdjust=\"spacingAndGlyphs\" textLength=\"65\" x=\"135\" y=\"109.0669\">«import»*</text></a><!--MD5=[a717450b82c80b9240a525fa862496af]\n",
       "link E6 to E3--><a href=\"psysml:79dc21aa-3f25-4d04-bc8e-220599d338b9\" target=\"_top\" title=\"psysml:79dc21aa-3f25-4d04-bc8e-220599d338b9\" xlink:actuate=\"onRequest\" xlink:href=\"psysml:79dc21aa-3f25-4d04-bc8e-220599d338b9\" xlink:show=\"new\" xlink:title=\"psysml:79dc21aa-3f25-4d04-bc8e-220599d338b9\" xlink:type=\"simple\"><path d=\"M100.21,193.91 C129.89,190.84 186.34,185 228.7,180.62 \" fill=\"none\" id=\"E6-&gt;E3\" style=\"stroke: #383838; stroke-width: 1.0;\"/><polygon fill=\"#FFFFFF\" points=\"248.76,178.54,230.5811,187.4579,229.1406,173.5322,248.76,178.54\" style=\"stroke: #383838; stroke-width: 1.0;\"/><ellipse cx=\"224.7056\" cy=\"186.0551\" fill=\"#383838\" rx=\"2\" ry=\"2\" style=\"stroke: #383838; stroke-width: 1.0;\"/><ellipse cx=\"223.6766\" cy=\"176.1082\" fill=\"#383838\" rx=\"2\" ry=\"2\" style=\"stroke: #383838; stroke-width: 1.0;\"/></a><!--MD5=[24a3774453ec766a8e8fa02b5d7c6822]\n",
       "@startuml\r\n",
       "left to right direction\r\n",
       "skinparam monochrome true\r\n",
       "skinparam classbackgroundcolor white\r\n",
       "skinparam shadowing false\r\n",
       "skinparam wrapWidth 300\r\n",
       "hide circle\r\n",
       "\r\n",
       "package \"QualifiedNameImportTest\" as E1  [[psysml:5126b6fb-a0df-489e-901c-12bad15fd52c ]]  {\r\n",
       "package \"P1\" as E2  [[psysml:4671c392-f153-4102-94c6-e9de6b11f3b3 ]]  {\r\n",
       "comp def \"A\" as E3  <<(T,blue) part  def>> [[psysml:d43e5a90-a5b9-40ed-82e3-14a3538b6850 ]] {\r\n",
       "}\r\n",
       "}\r\n",
       "package \"P2\" as E4  [[psysml:b774f6e1-b4cc-4027-a413-e3d948253bea ]]  {\r\n",
       "package \"P2a\" as E5  [[psysml:c40d8d93-4b48-4997-9b6b-7328d49803fe ]]  {\r\n",
       "}\r\n",
       "comp usage \"x: A \" as E6  <<(T,blue) part>> [[psysml:76906768-adb2-44e4-864a-c9b21a4611cd ]] {\r\n",
       "}\r\n",
       "}\r\n",
       "}\r\n",
       "E5 ..> E2 [[psysml:9ee57c7f-7f65-4593-a505-e714f10a5bde ]] : <<import>>*\r\n",
       "E6 - -:|> E3 [[psysml:79dc21aa-3f25-4d04-bc8e-220599d338b9 ]] \r\n",
       "@enduml\r\n",
       "\n",
       "PlantUML version 1.2020.13(Sat Jun 13 12:26:38 UTC 2020)\n",
       "(EPL source distribution)\n",
       "Java Runtime: OpenJDK Runtime Environment\n",
       "JVM: OpenJDK 64-Bit Server VM\n",
       "Default Encoding: UTF-8\n",
       "Language: en\n",
       "Country: null\n",
       "--></g></svg>"
      ]
     },
     "execution_count": 22,
     "metadata": {},
     "output_type": "execute_result"
    }
   ],
   "source": [
    "%viz --style=\"LR\" --view=\"MIXED\" \"QualifiedNameImportTest\""
   ]
  },
  {
   "cell_type": "code",
   "execution_count": 23,
   "id": "bddb666a",
   "metadata": {
    "execution": {
     "iopub.execute_input": "2022-07-23T10:54:02.036763Z",
     "iopub.status.busy": "2022-07-23T10:54:02.036538Z",
     "iopub.status.idle": "2022-07-23T10:54:02.071237Z",
     "shell.execute_reply": "2022-07-23T10:54:02.070897Z"
    }
   },
   "outputs": [
    {
     "data": {
      "image/svg+xml": [
       "<?xml version=\"1.0\" encoding=\"UTF-8\" standalone=\"no\"?><svg xmlns=\"http://www.w3.org/2000/svg\" xmlns:xlink=\"http://www.w3.org/1999/xlink\" contentScriptType=\"application/ecmascript\" contentStyleType=\"text/css\" height=\"367px\" preserveAspectRatio=\"none\" style=\"width:243px;height:367px;\" version=\"1.1\" viewBox=\"0 0 243 367\" width=\"243px\" zoomAndPan=\"magnify\"><defs><filter height=\"300%\" id=\"f18231btxqi1xu\" width=\"300%\" x=\"-1\" y=\"-1\"><feGaussianBlur result=\"blurOut\" stdDeviation=\"2.0\"/><feColorMatrix in=\"blurOut\" result=\"blurOut2\" type=\"matrix\" values=\"0 0 0 0 0 0 0 0 0 0 0 0 0 0 0 0 0 0 .4 0\"/><feOffset dx=\"4.0\" dy=\"4.0\" in=\"blurOut2\" result=\"blurOut3\"/><feBlend in=\"SourceGraphic\" in2=\"blurOut3\" mode=\"normal\"/></filter></defs><g><!--MD5=[fbc87193dbaf4d95561dea2c320d4a47]\n",
       "cluster E1--><a href=\"psysml:5126b6fb-a0df-489e-901c-12bad15fd52c\" target=\"_top\" title=\"psysml:5126b6fb-a0df-489e-901c-12bad15fd52c\" xlink:actuate=\"onRequest\" xlink:href=\"psysml:5126b6fb-a0df-489e-901c-12bad15fd52c\" xlink:show=\"new\" xlink:title=\"psysml:5126b6fb-a0df-489e-901c-12bad15fd52c\" xlink:type=\"simple\"><polygon fill=\"#FFFFFF\" filter=\"url(#f18231btxqi1xu)\" points=\"16,6,196,6,203,28.2969,219,28.2969,219,355,16,355,16,6\" style=\"stroke: #000000; stroke-width: 1.5;\"/><line style=\"stroke: #000000; stroke-width: 1.5;\" x1=\"16\" x2=\"203\" y1=\"28.2969\" y2=\"28.2969\"/><text fill=\"#000000\" font-family=\"sans-serif\" font-size=\"14\" font-weight=\"bold\" lengthAdjust=\"spacingAndGlyphs\" textLength=\"174\" x=\"20\" y=\"20.9951\">QualifiedNameImportTest</text></a><!--MD5=[e4f7fae6ed58524ba242bb0b0d3be6b7]\n",
       "cluster E2--><a href=\"psysml:4671c392-f153-4102-94c6-e9de6b11f3b3\" target=\"_top\" title=\"psysml:4671c392-f153-4102-94c6-e9de6b11f3b3\" xlink:actuate=\"onRequest\" xlink:href=\"psysml:4671c392-f153-4102-94c6-e9de6b11f3b3\" xlink:show=\"new\" xlink:title=\"psysml:4671c392-f153-4102-94c6-e9de6b11f3b3\" xlink:type=\"simple\"><polygon fill=\"#FFFFFF\" filter=\"url(#f18231btxqi1xu)\" points=\"48,210,72,210,79,232.2969,185,232.2969,185,323,48,323,48,210\" style=\"stroke: #000000; stroke-width: 1.5;\"/><line style=\"stroke: #000000; stroke-width: 1.5;\" x1=\"48\" x2=\"79\" y1=\"232.2969\" y2=\"232.2969\"/><text fill=\"#000000\" font-family=\"sans-serif\" font-size=\"14\" font-weight=\"bold\" lengthAdjust=\"spacingAndGlyphs\" textLength=\"18\" x=\"52\" y=\"224.9951\">P1</text></a><!--MD5=[f6df4d0ebaf0b5dfb2ced0ae5af7c670]\n",
       "cluster E4--><a href=\"psysml:b774f6e1-b4cc-4027-a413-e3d948253bea\" target=\"_top\" title=\"psysml:b774f6e1-b4cc-4027-a413-e3d948253bea\" xlink:actuate=\"onRequest\" xlink:href=\"psysml:b774f6e1-b4cc-4027-a413-e3d948253bea\" xlink:show=\"new\" xlink:title=\"psysml:b774f6e1-b4cc-4027-a413-e3d948253bea\" xlink:type=\"simple\"><polygon fill=\"#FFFFFF\" filter=\"url(#f18231btxqi1xu)\" points=\"40,49,64,49,71,71.2969,195,71.2969,195,153,40,153,40,49\" style=\"stroke: #000000; stroke-width: 1.5;\"/><line style=\"stroke: #000000; stroke-width: 1.5;\" x1=\"40\" x2=\"71\" y1=\"71.2969\" y2=\"71.2969\"/><text fill=\"#000000\" font-family=\"sans-serif\" font-size=\"14\" font-weight=\"bold\" lengthAdjust=\"spacingAndGlyphs\" textLength=\"18\" x=\"44\" y=\"63.9951\">P2</text></a><!--MD5=[09b614a08d8cba4a07c9adeb5e0fee81]\n",
       "class E3--><a href=\"psysml:d43e5a90-a5b9-40ed-82e3-14a3538b6850\" target=\"_top\" title=\"psysml:d43e5a90-a5b9-40ed-82e3-14a3538b6850\" xlink:actuate=\"onRequest\" xlink:href=\"psysml:d43e5a90-a5b9-40ed-82e3-14a3538b6850\" xlink:show=\"new\" xlink:title=\"psysml:d43e5a90-a5b9-40ed-82e3-14a3538b6850\" xlink:type=\"simple\"><rect fill=\"#FEFECE\" filter=\"url(#f18231btxqi1xu)\" height=\"45.9375\" id=\"E3\" style=\"stroke: #A80036; stroke-width: 1.5;\" width=\"70\" x=\"72\" y=\"253\"/><text fill=\"#000000\" font-family=\"sans-serif\" font-size=\"12\" font-style=\"italic\" lengthAdjust=\"spacingAndGlyphs\" textLength=\"68\" x=\"73\" y=\"269.1387\">«part  def»</text><text fill=\"#000000\" font-family=\"sans-serif\" font-size=\"12\" lengthAdjust=\"spacingAndGlyphs\" textLength=\"8\" x=\"103\" y=\"283.1074\">A</text><line style=\"stroke: #A80036; stroke-width: 1.5;\" x1=\"73\" x2=\"141\" y1=\"290.9375\" y2=\"290.9375\"/></a><!--MD5=[60a26617385b1d2d0262a64233df1f8d]\n",
       "class E6--><a href=\"psysml:76906768-adb2-44e4-864a-c9b21a4611cd\" target=\"_top\" title=\"psysml:76906768-adb2-44e4-864a-c9b21a4611cd\" xlink:actuate=\"onRequest\" xlink:href=\"psysml:76906768-adb2-44e4-864a-c9b21a4611cd\" xlink:show=\"new\" xlink:title=\"psysml:76906768-adb2-44e4-864a-c9b21a4611cd\" xlink:type=\"simple\"><rect fill=\"#FEFECE\" filter=\"url(#f18231btxqi1xu)\" height=\"45.9375\" id=\"E6\" rx=\"10\" ry=\"10\" style=\"stroke: #A80036; stroke-width: 1.5;\" width=\"42\" x=\"56\" y=\"87.5\"/><text fill=\"#000000\" font-family=\"sans-serif\" font-size=\"12\" font-style=\"italic\" lengthAdjust=\"spacingAndGlyphs\" textLength=\"40\" x=\"57\" y=\"103.6387\">«part»</text><text fill=\"#000000\" font-family=\"sans-serif\" font-size=\"12\" lengthAdjust=\"spacingAndGlyphs\" textLength=\"22\" x=\"64\" y=\"117.6074\">x: A</text><line style=\"stroke: #A80036; stroke-width: 1.5;\" x1=\"57\" x2=\"97\" y1=\"125.4375\" y2=\"125.4375\"/></a><a href=\"psysml:c40d8d93-4b48-4997-9b6b-7328d49803fe\" target=\"_top\" title=\"psysml:c40d8d93-4b48-4997-9b6b-7328d49803fe\" xlink:actuate=\"onRequest\" xlink:href=\"psysml:c40d8d93-4b48-4997-9b6b-7328d49803fe\" xlink:show=\"new\" xlink:title=\"psysml:c40d8d93-4b48-4997-9b6b-7328d49803fe\" xlink:type=\"simple\"><polygon fill=\"#FFFFFF\" filter=\"url(#f18231btxqi1xu)\" points=\"133,84,165,84,172,106.2969,179,106.2969,179,136.5938,133,136.5938,133,84\" style=\"stroke: #000000; stroke-width: 1.5;\"/><line style=\"stroke: #000000; stroke-width: 1.5;\" x1=\"133\" x2=\"172\" y1=\"106.2969\" y2=\"106.2969\"/><text fill=\"#000000\" font-family=\"sans-serif\" font-size=\"14\" font-weight=\"bold\" lengthAdjust=\"spacingAndGlyphs\" textLength=\"26\" x=\"137\" y=\"98.9951\">P2a</text></a><!--MD5=[15ebcb19ae302d9b601edb458606d402]\n",
       "link E5 to E2--><a href=\"psysml:9ee57c7f-7f65-4593-a505-e714f10a5bde\" target=\"_top\" title=\"psysml:9ee57c7f-7f65-4593-a505-e714f10a5bde\" xlink:actuate=\"onRequest\" xlink:href=\"psysml:9ee57c7f-7f65-4593-a505-e714f10a5bde\" xlink:show=\"new\" xlink:title=\"psysml:9ee57c7f-7f65-4593-a505-e714f10a5bde\" xlink:type=\"simple\"><path d=\"M159.28,137.05 C160.735,148.365 162.5469,162.4656 164.4519,177.2955 C165.4044,184.7104 166.3802,192.3076 167.3463,199.8301 C167.5878,201.7107 167.8287,203.5867 168.0685,205.4539 C168.1884,206.3876 168.308,207.319 168.4273,208.2478 C168.4869,208.7122 168.5465,209.1759 168.6059,209.6389 \" fill=\"none\" id=\"E5-&gt;E2\" style=\"stroke: #A80036; stroke-width: 1.0; stroke-dasharray: 7.0,7.0;\"/><polygon fill=\"#A80036\" points=\"168.6059,209.6389,171.427,200.2027,167.9691,204.6796,163.4922,201.2217,168.6059,209.6389\" style=\"stroke: #A80036; stroke-width: 1.0;\"/><text fill=\"#000000\" font-family=\"sans-serif\" font-size=\"13\" lengthAdjust=\"spacingAndGlyphs\" textLength=\"65\" x=\"166\" y=\"182.0669\">«import»*</text></a><!--MD5=[a717450b82c80b9240a525fa862496af]\n",
       "link E6 to E3--><a href=\"psysml:79dc21aa-3f25-4d04-bc8e-220599d338b9\" target=\"_top\" title=\"psysml:79dc21aa-3f25-4d04-bc8e-220599d338b9\" xlink:actuate=\"onRequest\" xlink:href=\"psysml:79dc21aa-3f25-4d04-bc8e-220599d338b9\" xlink:show=\"new\" xlink:title=\"psysml:79dc21aa-3f25-4d04-bc8e-220599d338b9\" xlink:type=\"simple\"><path d=\"M81.05,133.55 C85.7,158.9 93.44,201.1 99.26,232.83 \" fill=\"none\" id=\"E6-&gt;E3\" style=\"stroke: #A80036; stroke-width: 1.0;\"/><polygon fill=\"#FFFFFF\" points=\"102.92,252.78,92.6018,235.3578,106.3713,232.8278,102.92,252.78\" style=\"stroke: #A80036; stroke-width: 1.0;\"/><ellipse cx=\"93.5388\" cy=\"229.3902\" fill=\"#A80036\" rx=\"2\" ry=\"2\" style=\"stroke: #A80036; stroke-width: 1.0;\"/><ellipse cx=\"103.3742\" cy=\"227.5831\" fill=\"#A80036\" rx=\"2\" ry=\"2\" style=\"stroke: #A80036; stroke-width: 1.0;\"/></a><!--MD5=[74e56058b200c372de52d9dd795b53ac]\n",
       "@startuml\r\n",
       "skinparam wrapWidth 300\r\n",
       "hide circle\r\n",
       "\r\n",
       "package \"QualifiedNameImportTest\" as E1  [[psysml:5126b6fb-a0df-489e-901c-12bad15fd52c ]]  {\r\n",
       "package \"P1\" as E2  [[psysml:4671c392-f153-4102-94c6-e9de6b11f3b3 ]]  {\r\n",
       "comp def \"A\" as E3  <<(T,blue) part  def>> [[psysml:d43e5a90-a5b9-40ed-82e3-14a3538b6850 ]] {\r\n",
       "}\r\n",
       "}\r\n",
       "package \"P2\" as E4  [[psysml:b774f6e1-b4cc-4027-a413-e3d948253bea ]]  {\r\n",
       "package \"P2a\" as E5  [[psysml:c40d8d93-4b48-4997-9b6b-7328d49803fe ]]  {\r\n",
       "}\r\n",
       "comp usage \"x: A \" as E6  <<(T,blue) part>> [[psysml:76906768-adb2-44e4-864a-c9b21a4611cd ]] {\r\n",
       "}\r\n",
       "}\r\n",
       "}\r\n",
       "E5 ..> E2 [[psysml:9ee57c7f-7f65-4593-a505-e714f10a5bde ]] : <<import>>*\r\n",
       "E6 - -:|> E3 [[psysml:79dc21aa-3f25-4d04-bc8e-220599d338b9 ]] \r\n",
       "@enduml\r\n",
       "\n",
       "PlantUML version 1.2020.13(Sat Jun 13 12:26:38 UTC 2020)\n",
       "(EPL source distribution)\n",
       "Java Runtime: OpenJDK Runtime Environment\n",
       "JVM: OpenJDK 64-Bit Server VM\n",
       "Default Encoding: UTF-8\n",
       "Language: en\n",
       "Country: null\n",
       "--></g></svg>"
      ]
     },
     "execution_count": 23,
     "metadata": {},
     "output_type": "execute_result"
    }
   ],
   "source": [
    "%viz --style=\"STDCOLOR\" --view=\"Default\" \"QualifiedNameImportTest\""
   ]
  },
  {
   "cell_type": "code",
   "execution_count": 24,
   "id": "99c12cca",
   "metadata": {
    "execution": {
     "iopub.execute_input": "2022-07-23T10:54:02.121031Z",
     "iopub.status.busy": "2022-07-23T10:54:02.120670Z",
     "iopub.status.idle": "2022-07-23T10:54:02.154621Z",
     "shell.execute_reply": "2022-07-23T10:54:02.154202Z"
    }
   },
   "outputs": [
    {
     "data": {
      "image/svg+xml": [
       "<?xml version=\"1.0\" encoding=\"UTF-8\" standalone=\"no\"?><svg xmlns=\"http://www.w3.org/2000/svg\" xmlns:xlink=\"http://www.w3.org/1999/xlink\" contentScriptType=\"application/ecmascript\" contentStyleType=\"text/css\" height=\"367px\" preserveAspectRatio=\"none\" style=\"width:243px;height:367px;\" version=\"1.1\" viewBox=\"0 0 243 367\" width=\"243px\" zoomAndPan=\"magnify\"><defs><filter height=\"300%\" id=\"f18231btxqi1xu\" width=\"300%\" x=\"-1\" y=\"-1\"><feGaussianBlur result=\"blurOut\" stdDeviation=\"2.0\"/><feColorMatrix in=\"blurOut\" result=\"blurOut2\" type=\"matrix\" values=\"0 0 0 0 0 0 0 0 0 0 0 0 0 0 0 0 0 0 .4 0\"/><feOffset dx=\"4.0\" dy=\"4.0\" in=\"blurOut2\" result=\"blurOut3\"/><feBlend in=\"SourceGraphic\" in2=\"blurOut3\" mode=\"normal\"/></filter></defs><g><!--MD5=[fbc87193dbaf4d95561dea2c320d4a47]\n",
       "cluster E1--><a href=\"psysml:5126b6fb-a0df-489e-901c-12bad15fd52c\" target=\"_top\" title=\"psysml:5126b6fb-a0df-489e-901c-12bad15fd52c\" xlink:actuate=\"onRequest\" xlink:href=\"psysml:5126b6fb-a0df-489e-901c-12bad15fd52c\" xlink:show=\"new\" xlink:title=\"psysml:5126b6fb-a0df-489e-901c-12bad15fd52c\" xlink:type=\"simple\"><polygon fill=\"#FFFFFF\" filter=\"url(#f18231btxqi1xu)\" points=\"16,6,196,6,203,28.2969,219,28.2969,219,355,16,355,16,6\" style=\"stroke: #000000; stroke-width: 1.5;\"/><line style=\"stroke: #000000; stroke-width: 1.5;\" x1=\"16\" x2=\"203\" y1=\"28.2969\" y2=\"28.2969\"/><text fill=\"#000000\" font-family=\"sans-serif\" font-size=\"14\" font-weight=\"bold\" lengthAdjust=\"spacingAndGlyphs\" textLength=\"174\" x=\"20\" y=\"20.9951\">QualifiedNameImportTest</text></a><!--MD5=[e4f7fae6ed58524ba242bb0b0d3be6b7]\n",
       "cluster E2--><a href=\"psysml:4671c392-f153-4102-94c6-e9de6b11f3b3\" target=\"_top\" title=\"psysml:4671c392-f153-4102-94c6-e9de6b11f3b3\" xlink:actuate=\"onRequest\" xlink:href=\"psysml:4671c392-f153-4102-94c6-e9de6b11f3b3\" xlink:show=\"new\" xlink:title=\"psysml:4671c392-f153-4102-94c6-e9de6b11f3b3\" xlink:type=\"simple\"><polygon fill=\"#FFFFFF\" filter=\"url(#f18231btxqi1xu)\" points=\"48,210,72,210,79,232.2969,185,232.2969,185,323,48,323,48,210\" style=\"stroke: #000000; stroke-width: 1.5;\"/><line style=\"stroke: #000000; stroke-width: 1.5;\" x1=\"48\" x2=\"79\" y1=\"232.2969\" y2=\"232.2969\"/><text fill=\"#000000\" font-family=\"sans-serif\" font-size=\"14\" font-weight=\"bold\" lengthAdjust=\"spacingAndGlyphs\" textLength=\"18\" x=\"52\" y=\"224.9951\">P1</text></a><!--MD5=[f6df4d0ebaf0b5dfb2ced0ae5af7c670]\n",
       "cluster E4--><a href=\"psysml:b774f6e1-b4cc-4027-a413-e3d948253bea\" target=\"_top\" title=\"psysml:b774f6e1-b4cc-4027-a413-e3d948253bea\" xlink:actuate=\"onRequest\" xlink:href=\"psysml:b774f6e1-b4cc-4027-a413-e3d948253bea\" xlink:show=\"new\" xlink:title=\"psysml:b774f6e1-b4cc-4027-a413-e3d948253bea\" xlink:type=\"simple\"><polygon fill=\"#FFFFFF\" filter=\"url(#f18231btxqi1xu)\" points=\"40,49,64,49,71,71.2969,195,71.2969,195,153,40,153,40,49\" style=\"stroke: #000000; stroke-width: 1.5;\"/><line style=\"stroke: #000000; stroke-width: 1.5;\" x1=\"40\" x2=\"71\" y1=\"71.2969\" y2=\"71.2969\"/><text fill=\"#000000\" font-family=\"sans-serif\" font-size=\"14\" font-weight=\"bold\" lengthAdjust=\"spacingAndGlyphs\" textLength=\"18\" x=\"44\" y=\"63.9951\">P2</text></a><!--MD5=[09b614a08d8cba4a07c9adeb5e0fee81]\n",
       "class E3--><a href=\"psysml:d43e5a90-a5b9-40ed-82e3-14a3538b6850\" target=\"_top\" title=\"psysml:d43e5a90-a5b9-40ed-82e3-14a3538b6850\" xlink:actuate=\"onRequest\" xlink:href=\"psysml:d43e5a90-a5b9-40ed-82e3-14a3538b6850\" xlink:show=\"new\" xlink:title=\"psysml:d43e5a90-a5b9-40ed-82e3-14a3538b6850\" xlink:type=\"simple\"><rect fill=\"#FEFECE\" filter=\"url(#f18231btxqi1xu)\" height=\"45.9375\" id=\"E3\" style=\"stroke: #A80036; stroke-width: 1.5;\" width=\"70\" x=\"72\" y=\"253\"/><text fill=\"#000000\" font-family=\"sans-serif\" font-size=\"12\" font-style=\"italic\" lengthAdjust=\"spacingAndGlyphs\" textLength=\"68\" x=\"73\" y=\"269.1387\">«part  def»</text><text fill=\"#000000\" font-family=\"sans-serif\" font-size=\"12\" lengthAdjust=\"spacingAndGlyphs\" textLength=\"8\" x=\"103\" y=\"283.1074\">A</text><line style=\"stroke: #A80036; stroke-width: 1.5;\" x1=\"73\" x2=\"141\" y1=\"290.9375\" y2=\"290.9375\"/></a><!--MD5=[60a26617385b1d2d0262a64233df1f8d]\n",
       "class E6--><a href=\"psysml:76906768-adb2-44e4-864a-c9b21a4611cd\" target=\"_top\" title=\"psysml:76906768-adb2-44e4-864a-c9b21a4611cd\" xlink:actuate=\"onRequest\" xlink:href=\"psysml:76906768-adb2-44e4-864a-c9b21a4611cd\" xlink:show=\"new\" xlink:title=\"psysml:76906768-adb2-44e4-864a-c9b21a4611cd\" xlink:type=\"simple\"><rect fill=\"#FEFECE\" filter=\"url(#f18231btxqi1xu)\" height=\"45.9375\" id=\"E6\" rx=\"10\" ry=\"10\" style=\"stroke: #A80036; stroke-width: 1.5;\" width=\"42\" x=\"56\" y=\"87.5\"/><text fill=\"#000000\" font-family=\"sans-serif\" font-size=\"12\" font-style=\"italic\" lengthAdjust=\"spacingAndGlyphs\" textLength=\"40\" x=\"57\" y=\"103.6387\">«part»</text><text fill=\"#000000\" font-family=\"sans-serif\" font-size=\"12\" lengthAdjust=\"spacingAndGlyphs\" textLength=\"22\" x=\"64\" y=\"117.6074\">x: A</text><line style=\"stroke: #A80036; stroke-width: 1.5;\" x1=\"57\" x2=\"97\" y1=\"125.4375\" y2=\"125.4375\"/></a><a href=\"psysml:c40d8d93-4b48-4997-9b6b-7328d49803fe\" target=\"_top\" title=\"psysml:c40d8d93-4b48-4997-9b6b-7328d49803fe\" xlink:actuate=\"onRequest\" xlink:href=\"psysml:c40d8d93-4b48-4997-9b6b-7328d49803fe\" xlink:show=\"new\" xlink:title=\"psysml:c40d8d93-4b48-4997-9b6b-7328d49803fe\" xlink:type=\"simple\"><polygon fill=\"#FFFFFF\" filter=\"url(#f18231btxqi1xu)\" points=\"133,84,165,84,172,106.2969,179,106.2969,179,136.5938,133,136.5938,133,84\" style=\"stroke: #000000; stroke-width: 1.5;\"/><line style=\"stroke: #000000; stroke-width: 1.5;\" x1=\"133\" x2=\"172\" y1=\"106.2969\" y2=\"106.2969\"/><text fill=\"#000000\" font-family=\"sans-serif\" font-size=\"14\" font-weight=\"bold\" lengthAdjust=\"spacingAndGlyphs\" textLength=\"26\" x=\"137\" y=\"98.9951\">P2a</text></a><!--MD5=[15ebcb19ae302d9b601edb458606d402]\n",
       "link E5 to E2--><a href=\"psysml:9ee57c7f-7f65-4593-a505-e714f10a5bde\" target=\"_top\" title=\"psysml:9ee57c7f-7f65-4593-a505-e714f10a5bde\" xlink:actuate=\"onRequest\" xlink:href=\"psysml:9ee57c7f-7f65-4593-a505-e714f10a5bde\" xlink:show=\"new\" xlink:title=\"psysml:9ee57c7f-7f65-4593-a505-e714f10a5bde\" xlink:type=\"simple\"><path d=\"M159.28,137.05 C160.735,148.365 162.5469,162.4656 164.4519,177.2955 C165.4044,184.7104 166.3802,192.3076 167.3463,199.8301 C167.5878,201.7107 167.8287,203.5867 168.0685,205.4539 C168.1884,206.3876 168.308,207.319 168.4273,208.2478 C168.4869,208.7122 168.5465,209.1759 168.6059,209.6389 \" fill=\"none\" id=\"E5-&gt;E2\" style=\"stroke: #A80036; stroke-width: 1.0; stroke-dasharray: 7.0,7.0;\"/><polygon fill=\"#A80036\" points=\"168.6059,209.6389,171.427,200.2027,167.9691,204.6796,163.4922,201.2217,168.6059,209.6389\" style=\"stroke: #A80036; stroke-width: 1.0;\"/><text fill=\"#000000\" font-family=\"sans-serif\" font-size=\"13\" lengthAdjust=\"spacingAndGlyphs\" textLength=\"65\" x=\"166\" y=\"182.0669\">«import»*</text></a><!--MD5=[a717450b82c80b9240a525fa862496af]\n",
       "link E6 to E3--><a href=\"psysml:79dc21aa-3f25-4d04-bc8e-220599d338b9\" target=\"_top\" title=\"psysml:79dc21aa-3f25-4d04-bc8e-220599d338b9\" xlink:actuate=\"onRequest\" xlink:href=\"psysml:79dc21aa-3f25-4d04-bc8e-220599d338b9\" xlink:show=\"new\" xlink:title=\"psysml:79dc21aa-3f25-4d04-bc8e-220599d338b9\" xlink:type=\"simple\"><path d=\"M81.05,133.55 C85.7,158.9 93.44,201.1 99.26,232.83 \" fill=\"none\" id=\"E6-&gt;E3\" style=\"stroke: #A80036; stroke-width: 1.0;\"/><polygon fill=\"#FFFFFF\" points=\"102.92,252.78,92.6018,235.3578,106.3713,232.8278,102.92,252.78\" style=\"stroke: #A80036; stroke-width: 1.0;\"/><ellipse cx=\"93.5388\" cy=\"229.3902\" fill=\"#A80036\" rx=\"2\" ry=\"2\" style=\"stroke: #A80036; stroke-width: 1.0;\"/><ellipse cx=\"103.3742\" cy=\"227.5831\" fill=\"#A80036\" rx=\"2\" ry=\"2\" style=\"stroke: #A80036; stroke-width: 1.0;\"/></a><!--MD5=[74e56058b200c372de52d9dd795b53ac]\n",
       "@startuml\r\n",
       "skinparam wrapWidth 300\r\n",
       "hide circle\r\n",
       "\r\n",
       "package \"QualifiedNameImportTest\" as E1  [[psysml:5126b6fb-a0df-489e-901c-12bad15fd52c ]]  {\r\n",
       "package \"P1\" as E2  [[psysml:4671c392-f153-4102-94c6-e9de6b11f3b3 ]]  {\r\n",
       "comp def \"A\" as E3  <<(T,blue) part  def>> [[psysml:d43e5a90-a5b9-40ed-82e3-14a3538b6850 ]] {\r\n",
       "}\r\n",
       "}\r\n",
       "package \"P2\" as E4  [[psysml:b774f6e1-b4cc-4027-a413-e3d948253bea ]]  {\r\n",
       "package \"P2a\" as E5  [[psysml:c40d8d93-4b48-4997-9b6b-7328d49803fe ]]  {\r\n",
       "}\r\n",
       "comp usage \"x: A \" as E6  <<(T,blue) part>> [[psysml:76906768-adb2-44e4-864a-c9b21a4611cd ]] {\r\n",
       "}\r\n",
       "}\r\n",
       "}\r\n",
       "E5 ..> E2 [[psysml:9ee57c7f-7f65-4593-a505-e714f10a5bde ]] : <<import>>*\r\n",
       "E6 - -:|> E3 [[psysml:79dc21aa-3f25-4d04-bc8e-220599d338b9 ]] \r\n",
       "@enduml\r\n",
       "\n",
       "PlantUML version 1.2020.13(Sat Jun 13 12:26:38 UTC 2020)\n",
       "(EPL source distribution)\n",
       "Java Runtime: OpenJDK Runtime Environment\n",
       "JVM: OpenJDK 64-Bit Server VM\n",
       "Default Encoding: UTF-8\n",
       "Language: en\n",
       "Country: null\n",
       "--></g></svg>"
      ]
     },
     "execution_count": 24,
     "metadata": {},
     "output_type": "execute_result"
    }
   ],
   "source": [
    "%viz --style=\"STDCOLOR\" --view=\"Tree\" \"QualifiedNameImportTest\""
   ]
  },
  {
   "cell_type": "code",
   "execution_count": 25,
   "id": "9f2df18a",
   "metadata": {
    "execution": {
     "iopub.execute_input": "2022-07-23T10:54:02.204072Z",
     "iopub.status.busy": "2022-07-23T10:54:02.203617Z",
     "iopub.status.idle": "2022-07-23T10:54:02.208287Z",
     "shell.execute_reply": "2022-07-23T10:54:02.208588Z"
    }
   },
   "outputs": [
    {
     "data": {
      "image/svg+xml": [
       "<?xml version=\"1.0\" encoding=\"UTF-8\" standalone=\"no\"?><svg xmlns=\"http://www.w3.org/2000/svg\" xmlns:xlink=\"http://www.w3.org/1999/xlink\" contentScriptType=\"application/ecmascript\" contentStyleType=\"text/css\" height=\"12px\" preserveAspectRatio=\"none\" style=\"width:12px;height:12px;\" version=\"1.1\" viewBox=\"0 0 12 12\" width=\"12px\" zoomAndPan=\"magnify\"><defs/><g><!--MD5=[aeeef50f102b80d730deb6443d14f702]\n",
       "@startuml\r\n",
       "skinparam wrapWidth 300\r\n",
       "hide circle\r\n",
       "\r\n",
       "@enduml\r\n",
       "\n",
       "PlantUML version 1.2020.13(Sat Jun 13 12:26:38 UTC 2020)\n",
       "(EPL source distribution)\n",
       "Java Runtime: OpenJDK Runtime Environment\n",
       "JVM: OpenJDK 64-Bit Server VM\n",
       "Default Encoding: UTF-8\n",
       "Language: en\n",
       "Country: null\n",
       "--></g></svg>"
      ]
     },
     "execution_count": 25,
     "metadata": {},
     "output_type": "execute_result"
    }
   ],
   "source": [
    "%viz --style=\"STDCOLOR\" --view=\"State\" \"QualifiedNameImportTest\""
   ]
  },
  {
   "cell_type": "code",
   "execution_count": 26,
   "id": "4c65820b",
   "metadata": {
    "execution": {
     "iopub.execute_input": "2022-07-23T10:54:02.258609Z",
     "iopub.status.busy": "2022-07-23T10:54:02.258159Z",
     "iopub.status.idle": "2022-07-23T10:54:02.289701Z",
     "shell.execute_reply": "2022-07-23T10:54:02.289061Z"
    }
   },
   "outputs": [
    {
     "data": {
      "image/svg+xml": [
       "<?xml version=\"1.0\" encoding=\"UTF-8\" standalone=\"no\"?><svg xmlns=\"http://www.w3.org/2000/svg\" xmlns:xlink=\"http://www.w3.org/1999/xlink\" contentScriptType=\"application/ecmascript\" contentStyleType=\"text/css\" height=\"364px\" preserveAspectRatio=\"none\" style=\"width:249px;height:364px;\" version=\"1.1\" viewBox=\"0 0 249 364\" width=\"249px\" zoomAndPan=\"magnify\"><defs><filter height=\"300%\" id=\"f5g0ad4o2qqtf\" width=\"300%\" x=\"-1\" y=\"-1\"><feGaussianBlur result=\"blurOut\" stdDeviation=\"2.0\"/><feColorMatrix in=\"blurOut\" result=\"blurOut2\" type=\"matrix\" values=\"0 0 0 0 0 0 0 0 0 0 0 0 0 0 0 0 0 0 .4 0\"/><feOffset dx=\"4.0\" dy=\"4.0\" in=\"blurOut2\" result=\"blurOut3\"/><feBlend in=\"SourceGraphic\" in2=\"blurOut3\" mode=\"normal\"/></filter></defs><g><!--MD5=[fbc87193dbaf4d95561dea2c320d4a47]\n",
       "cluster E1--><a href=\"psysml:5126b6fb-a0df-489e-901c-12bad15fd52c\" target=\"_top\" title=\"psysml:5126b6fb-a0df-489e-901c-12bad15fd52c\" xlink:actuate=\"onRequest\" xlink:href=\"psysml:5126b6fb-a0df-489e-901c-12bad15fd52c\" xlink:show=\"new\" xlink:title=\"psysml:5126b6fb-a0df-489e-901c-12bad15fd52c\" xlink:type=\"simple\"><polygon fill=\"#FFFFFF\" filter=\"url(#f5g0ad4o2qqtf)\" points=\"16,6,196,6,203,28.2969,227,28.2969,227,352,16,352,16,6\" style=\"stroke: #000000; stroke-width: 1.5;\"/><line style=\"stroke: #000000; stroke-width: 1.5;\" x1=\"16\" x2=\"203\" y1=\"28.2969\" y2=\"28.2969\"/><text fill=\"#000000\" font-family=\"sans-serif\" font-size=\"14\" font-weight=\"bold\" lengthAdjust=\"spacingAndGlyphs\" textLength=\"174\" x=\"20\" y=\"20.9951\">QualifiedNameImportTest</text></a><!--MD5=[e4f7fae6ed58524ba242bb0b0d3be6b7]\n",
       "cluster E2--><a href=\"psysml:4671c392-f153-4102-94c6-e9de6b11f3b3\" target=\"_top\" title=\"psysml:4671c392-f153-4102-94c6-e9de6b11f3b3\" xlink:actuate=\"onRequest\" xlink:href=\"psysml:4671c392-f153-4102-94c6-e9de6b11f3b3\" xlink:show=\"new\" xlink:title=\"psysml:4671c392-f153-4102-94c6-e9de6b11f3b3\" xlink:type=\"simple\"><polygon fill=\"#FFFFFF\" filter=\"url(#f5g0ad4o2qqtf)\" points=\"53,210,77,210,84,232.2969,195,232.2969,195,320,53,320,53,210\" style=\"stroke: #000000; stroke-width: 1.5;\"/><line style=\"stroke: #000000; stroke-width: 1.5;\" x1=\"53\" x2=\"84\" y1=\"232.2969\" y2=\"232.2969\"/><text fill=\"#000000\" font-family=\"sans-serif\" font-size=\"14\" font-weight=\"bold\" lengthAdjust=\"spacingAndGlyphs\" textLength=\"18\" x=\"57\" y=\"224.9951\">P1</text></a><!--MD5=[f6df4d0ebaf0b5dfb2ced0ae5af7c670]\n",
       "cluster E4--><a href=\"psysml:b774f6e1-b4cc-4027-a413-e3d948253bea\" target=\"_top\" title=\"psysml:b774f6e1-b4cc-4027-a413-e3d948253bea\" xlink:actuate=\"onRequest\" xlink:href=\"psysml:b774f6e1-b4cc-4027-a413-e3d948253bea\" xlink:show=\"new\" xlink:title=\"psysml:b774f6e1-b4cc-4027-a413-e3d948253bea\" xlink:type=\"simple\"><polygon fill=\"#FFFFFF\" filter=\"url(#f5g0ad4o2qqtf)\" points=\"40,49,64,49,71,71.2969,203,71.2969,203,153,40,153,40,49\" style=\"stroke: #000000; stroke-width: 1.5;\"/><line style=\"stroke: #000000; stroke-width: 1.5;\" x1=\"40\" x2=\"71\" y1=\"71.2969\" y2=\"71.2969\"/><text fill=\"#000000\" font-family=\"sans-serif\" font-size=\"14\" font-weight=\"bold\" lengthAdjust=\"spacingAndGlyphs\" textLength=\"18\" x=\"44\" y=\"63.9951\">P2</text></a><g id=\"E1.E2.E3\"><a href=\"psysml:d43e5a90-a5b9-40ed-82e3-14a3538b6850\" target=\"_top\" title=\"psysml:d43e5a90-a5b9-40ed-82e3-14a3538b6850\" xlink:actuate=\"onRequest\" xlink:href=\"psysml:d43e5a90-a5b9-40ed-82e3-14a3538b6850\" xlink:show=\"new\" xlink:title=\"psysml:d43e5a90-a5b9-40ed-82e3-14a3538b6850\" xlink:type=\"simple\"><rect fill=\"#FEFECE\" filter=\"url(#f5g0ad4o2qqtf)\" height=\"42.9375\" id=\"E3\" style=\"stroke: #A80036; stroke-width: 1.5;\" width=\"75\" x=\"96.5\" y=\"253\"/><text fill=\"#000000\" font-family=\"sans-serif\" font-size=\"12\" font-style=\"italic\" lengthAdjust=\"spacingAndGlyphs\" textLength=\"68\" x=\"100\" y=\"269.1387\">«part  def»</text><text fill=\"#000000\" font-family=\"sans-serif\" font-size=\"12\" lengthAdjust=\"spacingAndGlyphs\" textLength=\"8\" x=\"130\" y=\"283.1074\">A</text></a></g><a href=\"psysml:c40d8d93-4b48-4997-9b6b-7328d49803fe\" target=\"_top\" title=\"psysml:c40d8d93-4b48-4997-9b6b-7328d49803fe\" xlink:actuate=\"onRequest\" xlink:href=\"psysml:c40d8d93-4b48-4997-9b6b-7328d49803fe\" xlink:show=\"new\" xlink:title=\"psysml:c40d8d93-4b48-4997-9b6b-7328d49803fe\" xlink:type=\"simple\"><polygon fill=\"#FFFFFF\" filter=\"url(#f5g0ad4o2qqtf)\" points=\"56,84,88,84,95,106.2969,102,106.2969,102,136.5938,56,136.5938,56,84\" style=\"stroke: #000000; stroke-width: 1.5;\"/><line style=\"stroke: #000000; stroke-width: 1.5;\" x1=\"56\" x2=\"95\" y1=\"106.2969\" y2=\"106.2969\"/><text fill=\"#000000\" font-family=\"sans-serif\" font-size=\"14\" font-weight=\"bold\" lengthAdjust=\"spacingAndGlyphs\" textLength=\"26\" x=\"60\" y=\"98.9951\">P2a</text></a><g id=\"E1.E4.E6\"><a href=\"psysml:76906768-adb2-44e4-864a-c9b21a4611cd\" target=\"_top\" title=\"psysml:76906768-adb2-44e4-864a-c9b21a4611cd\" xlink:actuate=\"onRequest\" xlink:href=\"psysml:76906768-adb2-44e4-864a-c9b21a4611cd\" xlink:show=\"new\" xlink:title=\"psysml:76906768-adb2-44e4-864a-c9b21a4611cd\" xlink:type=\"simple\"><rect fill=\"#FEFECE\" filter=\"url(#f5g0ad4o2qqtf)\" height=\"40\" id=\"E6\" rx=\"10\" ry=\"10\" style=\"stroke: #A80036; stroke-width: 1.5;\" width=\"50\" x=\"137\" y=\"90.5\"/><text fill=\"#000000\" font-family=\"sans-serif\" font-size=\"12\" lengthAdjust=\"spacingAndGlyphs\" textLength=\"22\" x=\"151\" y=\"106.6387\">x: A</text></a></g><!--MD5=[15ebcb19ae302d9b601edb458606d402]\n",
       "link E5 to E2--><a href=\"psysml:9ee57c7f-7f65-4593-a505-e714f10a5bde\" target=\"_top\" title=\"psysml:9ee57c7f-7f65-4593-a505-e714f10a5bde\" xlink:actuate=\"onRequest\" xlink:href=\"psysml:9ee57c7f-7f65-4593-a505-e714f10a5bde\" xlink:show=\"new\" xlink:title=\"psysml:9ee57c7f-7f65-4593-a505-e714f10a5bde\" xlink:type=\"simple\"><path d=\"M76.15,137.17 C74.9,148.4125 73.3475,162.3781 71.7172,177.0456 C70.902,184.3794 70.0674,191.8886 69.2414,199.3206 C69.035,201.1786 68.829,203.0318 68.624,204.8762 C68.5215,205.7984 68.4193,206.7184 68.3173,207.6358 C68.2664,208.0944 68.2155,208.5524 68.1647,209.0097 C68.1393,209.2383 68.1139,209.4668 68.0885,209.695 \" fill=\"none\" id=\"E5-&gt;E2\" style=\"stroke: #A80036; stroke-width: 1.0; stroke-dasharray: 7.0,7.0;\"/><polygon fill=\"#A80036\" points=\"68.0885,209.695,73.0581,201.1919,68.6408,204.7256,65.107,200.3083,68.0885,209.695\" style=\"stroke: #A80036; stroke-width: 1.0;\"/><text fill=\"#000000\" font-family=\"sans-serif\" font-size=\"13\" lengthAdjust=\"spacingAndGlyphs\" textLength=\"65\" x=\"73\" y=\"182.0669\">«import»*</text></a><!--MD5=[a717450b82c80b9240a525fa862496af]\n",
       "link E6 to E3--><a href=\"psysml:79dc21aa-3f25-4d04-bc8e-220599d338b9\" target=\"_top\" title=\"psysml:79dc21aa-3f25-4d04-bc8e-220599d338b9\" xlink:actuate=\"onRequest\" xlink:href=\"psysml:79dc21aa-3f25-4d04-bc8e-220599d338b9\" xlink:show=\"new\" xlink:title=\"psysml:79dc21aa-3f25-4d04-bc8e-220599d338b9\" xlink:type=\"simple\"><path d=\"M158.68,130.72 C154.35,155.76 146.67,200.21 141.02,232.87 \" fill=\"none\" id=\"E6-&gt;E3\" style=\"stroke: #A80036; stroke-width: 1.0;\"/><polygon fill=\"#FFFFFF\" points=\"137.58,252.77,133.925,232.8542,147.7196,235.2432,137.58,252.77\" style=\"stroke: #A80036; stroke-width: 1.0;\"/><ellipse cx=\"136.8683\" cy=\"227.5791\" fill=\"#A80036\" rx=\"2\" ry=\"2\" style=\"stroke: #A80036; stroke-width: 1.0;\"/><ellipse cx=\"146.7217\" cy=\"229.2855\" fill=\"#A80036\" rx=\"2\" ry=\"2\" style=\"stroke: #A80036; stroke-width: 1.0;\"/></a><!--MD5=[69abb082aedcd73853d2b44dd8b93b2f]\n",
       "@startuml\r\n",
       "skinparam ranksep 10\r\n",
       "skinparam rectangle {\r\n",
       " backgroundColor<<block>> LightGreen\r\n",
       "}\r\n",
       "skinparam wrapWidth 300\r\n",
       "hide circle\r\n",
       "\r\n",
       "package \"QualifiedNameImportTest\" as E1  [[psysml:5126b6fb-a0df-489e-901c-12bad15fd52c ]]  {\r\n",
       "package \"P1\" as E2  [[psysml:4671c392-f153-4102-94c6-e9de6b11f3b3 ]]  {\r\n",
       "rec def \"A\" as E3  <<(T,blue) part  def>> [[psysml:d43e5a90-a5b9-40ed-82e3-14a3538b6850 ]] {\r\n",
       "}\r\n",
       "}\r\n",
       "package \"P2\" as E4  [[psysml:b774f6e1-b4cc-4027-a413-e3d948253bea ]]  {\r\n",
       "package \"P2a\" as E5  [[psysml:c40d8d93-4b48-4997-9b6b-7328d49803fe ]]  {\r\n",
       "}\r\n",
       "rec usage \"x: A\" as E6  [[psysml:76906768-adb2-44e4-864a-c9b21a4611cd ]] {\r\n",
       "}\r\n",
       "}\r\n",
       "}\r\n",
       "E5 ..> E2 [[psysml:9ee57c7f-7f65-4593-a505-e714f10a5bde ]] : <<import>>*\r\n",
       "E6 - -:|> E3 [[psysml:79dc21aa-3f25-4d04-bc8e-220599d338b9 ]] \r\n",
       "@enduml\r\n",
       "\n",
       "PlantUML version 1.2020.13(Sat Jun 13 12:26:38 UTC 2020)\n",
       "(EPL source distribution)\n",
       "Java Runtime: OpenJDK Runtime Environment\n",
       "JVM: OpenJDK 64-Bit Server VM\n",
       "Default Encoding: UTF-8\n",
       "Language: en\n",
       "Country: null\n",
       "--></g></svg>"
      ]
     },
     "execution_count": 26,
     "metadata": {},
     "output_type": "execute_result"
    }
   ],
   "source": [
    "%viz --style=\"STDCOLOR\" --view=\"Interconnection\" \"QualifiedNameImportTest\""
   ]
  },
  {
   "cell_type": "code",
   "execution_count": 27,
   "id": "cfbf7e75",
   "metadata": {
    "execution": {
     "iopub.execute_input": "2022-07-23T10:54:02.339093Z",
     "iopub.status.busy": "2022-07-23T10:54:02.338453Z",
     "iopub.status.idle": "2022-07-23T10:54:02.343741Z",
     "shell.execute_reply": "2022-07-23T10:54:02.343206Z"
    }
   },
   "outputs": [
    {
     "data": {
      "image/svg+xml": [
       "<?xml version=\"1.0\" encoding=\"UTF-8\" standalone=\"no\"?><svg xmlns=\"http://www.w3.org/2000/svg\" xmlns:xlink=\"http://www.w3.org/1999/xlink\" contentScriptType=\"application/ecmascript\" contentStyleType=\"text/css\" height=\"12px\" preserveAspectRatio=\"none\" style=\"width:12px;height:12px;\" version=\"1.1\" viewBox=\"0 0 12 12\" width=\"12px\" zoomAndPan=\"magnify\"><defs/><g><!--MD5=[9863325348a96a77dacc89509d8ee65e]\n",
       "@startuml\r\n",
       "skinparam ranksep 8\r\n",
       "skinparam wrapWidth 300\r\n",
       "hide circle\r\n",
       "\r\n",
       "@enduml\r\n",
       "\n",
       "PlantUML version 1.2020.13(Sat Jun 13 12:26:38 UTC 2020)\n",
       "(EPL source distribution)\n",
       "Java Runtime: OpenJDK Runtime Environment\n",
       "JVM: OpenJDK 64-Bit Server VM\n",
       "Default Encoding: UTF-8\n",
       "Language: en\n",
       "Country: null\n",
       "--></g></svg>"
      ]
     },
     "execution_count": 27,
     "metadata": {},
     "output_type": "execute_result"
    }
   ],
   "source": [
    "%viz --style=\"STDCOLOR\" --view=\"Action\" \"QualifiedNameImportTest\""
   ]
  },
  {
   "cell_type": "code",
   "execution_count": 28,
   "id": "45cf7473",
   "metadata": {
    "execution": {
     "iopub.execute_input": "2022-07-23T10:54:02.393302Z",
     "iopub.status.busy": "2022-07-23T10:54:02.393030Z",
     "iopub.status.idle": "2022-07-23T10:54:02.398471Z",
     "shell.execute_reply": "2022-07-23T10:54:02.398146Z"
    }
   },
   "outputs": [
    {
     "data": {
      "image/svg+xml": [
       "<?xml version=\"1.0\" encoding=\"UTF-8\" standalone=\"no\"?><svg xmlns=\"http://www.w3.org/2000/svg\" xmlns:xlink=\"http://www.w3.org/1999/xlink\" contentScriptType=\"application/ecmascript\" contentStyleType=\"text/css\" height=\"12px\" preserveAspectRatio=\"none\" style=\"width:12px;height:12px;\" version=\"1.1\" viewBox=\"0 0 12 12\" width=\"12px\" zoomAndPan=\"magnify\"><defs/><g><!--MD5=[6c4bca67b4d71758159a5a7f1f1e1fc2]\n",
       "@startuml\r\n",
       "skinparam roundcorner 20\r\n",
       "skinparam BoxPadding 20\r\n",
       "skinparam SequenceBoxBackgroundColor #white\r\n",
       "skinparam style strictuml\r\n",
       "skinparam maxMessageSize 100\r\n",
       "skinparam wrapWidth 300\r\n",
       "hide circle\r\n",
       "\r\n",
       "@enduml\r\n",
       "\n",
       "PlantUML version 1.2020.13(Sat Jun 13 12:26:38 UTC 2020)\n",
       "(EPL source distribution)\n",
       "Java Runtime: OpenJDK Runtime Environment\n",
       "JVM: OpenJDK 64-Bit Server VM\n",
       "Default Encoding: UTF-8\n",
       "Language: en\n",
       "Country: null\n",
       "--></g></svg>"
      ]
     },
     "execution_count": 28,
     "metadata": {},
     "output_type": "execute_result"
    }
   ],
   "source": [
    "%viz --style=\"STDCOLOR\" --view=\"Sequence\" \"QualifiedNameImportTest\""
   ]
  },
  {
   "cell_type": "code",
   "execution_count": 29,
   "id": "defc8f7e",
   "metadata": {
    "execution": {
     "iopub.execute_input": "2022-07-23T10:54:02.448559Z",
     "iopub.status.busy": "2022-07-23T10:54:02.448304Z",
     "iopub.status.idle": "2022-07-23T10:54:02.484650Z",
     "shell.execute_reply": "2022-07-23T10:54:02.483139Z"
    }
   },
   "outputs": [
    {
     "data": {
      "image/svg+xml": [
       "<?xml version=\"1.0\" encoding=\"UTF-8\" standalone=\"no\"?><svg xmlns=\"http://www.w3.org/2000/svg\" xmlns:xlink=\"http://www.w3.org/1999/xlink\" contentScriptType=\"application/ecmascript\" contentStyleType=\"text/css\" height=\"367px\" preserveAspectRatio=\"none\" style=\"width:243px;height:367px;\" version=\"1.1\" viewBox=\"0 0 243 367\" width=\"243px\" zoomAndPan=\"magnify\"><defs><filter height=\"300%\" id=\"f18231btxqi1xu\" width=\"300%\" x=\"-1\" y=\"-1\"><feGaussianBlur result=\"blurOut\" stdDeviation=\"2.0\"/><feColorMatrix in=\"blurOut\" result=\"blurOut2\" type=\"matrix\" values=\"0 0 0 0 0 0 0 0 0 0 0 0 0 0 0 0 0 0 .4 0\"/><feOffset dx=\"4.0\" dy=\"4.0\" in=\"blurOut2\" result=\"blurOut3\"/><feBlend in=\"SourceGraphic\" in2=\"blurOut3\" mode=\"normal\"/></filter></defs><g><!--MD5=[fbc87193dbaf4d95561dea2c320d4a47]\n",
       "cluster E1--><a href=\"psysml:5126b6fb-a0df-489e-901c-12bad15fd52c\" target=\"_top\" title=\"psysml:5126b6fb-a0df-489e-901c-12bad15fd52c\" xlink:actuate=\"onRequest\" xlink:href=\"psysml:5126b6fb-a0df-489e-901c-12bad15fd52c\" xlink:show=\"new\" xlink:title=\"psysml:5126b6fb-a0df-489e-901c-12bad15fd52c\" xlink:type=\"simple\"><polygon fill=\"#FFFFFF\" filter=\"url(#f18231btxqi1xu)\" points=\"16,6,196,6,203,28.2969,219,28.2969,219,355,16,355,16,6\" style=\"stroke: #000000; stroke-width: 1.5;\"/><line style=\"stroke: #000000; stroke-width: 1.5;\" x1=\"16\" x2=\"203\" y1=\"28.2969\" y2=\"28.2969\"/><text fill=\"#000000\" font-family=\"sans-serif\" font-size=\"14\" font-weight=\"bold\" lengthAdjust=\"spacingAndGlyphs\" textLength=\"174\" x=\"20\" y=\"20.9951\">QualifiedNameImportTest</text></a><!--MD5=[e4f7fae6ed58524ba242bb0b0d3be6b7]\n",
       "cluster E2--><a href=\"psysml:4671c392-f153-4102-94c6-e9de6b11f3b3\" target=\"_top\" title=\"psysml:4671c392-f153-4102-94c6-e9de6b11f3b3\" xlink:actuate=\"onRequest\" xlink:href=\"psysml:4671c392-f153-4102-94c6-e9de6b11f3b3\" xlink:show=\"new\" xlink:title=\"psysml:4671c392-f153-4102-94c6-e9de6b11f3b3\" xlink:type=\"simple\"><polygon fill=\"#FFFFFF\" filter=\"url(#f18231btxqi1xu)\" points=\"48,210,72,210,79,232.2969,185,232.2969,185,323,48,323,48,210\" style=\"stroke: #000000; stroke-width: 1.5;\"/><line style=\"stroke: #000000; stroke-width: 1.5;\" x1=\"48\" x2=\"79\" y1=\"232.2969\" y2=\"232.2969\"/><text fill=\"#000000\" font-family=\"sans-serif\" font-size=\"14\" font-weight=\"bold\" lengthAdjust=\"spacingAndGlyphs\" textLength=\"18\" x=\"52\" y=\"224.9951\">P1</text></a><!--MD5=[f6df4d0ebaf0b5dfb2ced0ae5af7c670]\n",
       "cluster E4--><a href=\"psysml:b774f6e1-b4cc-4027-a413-e3d948253bea\" target=\"_top\" title=\"psysml:b774f6e1-b4cc-4027-a413-e3d948253bea\" xlink:actuate=\"onRequest\" xlink:href=\"psysml:b774f6e1-b4cc-4027-a413-e3d948253bea\" xlink:show=\"new\" xlink:title=\"psysml:b774f6e1-b4cc-4027-a413-e3d948253bea\" xlink:type=\"simple\"><polygon fill=\"#FFFFFF\" filter=\"url(#f18231btxqi1xu)\" points=\"40,49,64,49,71,71.2969,195,71.2969,195,153,40,153,40,49\" style=\"stroke: #000000; stroke-width: 1.5;\"/><line style=\"stroke: #000000; stroke-width: 1.5;\" x1=\"40\" x2=\"71\" y1=\"71.2969\" y2=\"71.2969\"/><text fill=\"#000000\" font-family=\"sans-serif\" font-size=\"14\" font-weight=\"bold\" lengthAdjust=\"spacingAndGlyphs\" textLength=\"18\" x=\"44\" y=\"63.9951\">P2</text></a><!--MD5=[09b614a08d8cba4a07c9adeb5e0fee81]\n",
       "class E3--><a href=\"psysml:d43e5a90-a5b9-40ed-82e3-14a3538b6850\" target=\"_top\" title=\"psysml:d43e5a90-a5b9-40ed-82e3-14a3538b6850\" xlink:actuate=\"onRequest\" xlink:href=\"psysml:d43e5a90-a5b9-40ed-82e3-14a3538b6850\" xlink:show=\"new\" xlink:title=\"psysml:d43e5a90-a5b9-40ed-82e3-14a3538b6850\" xlink:type=\"simple\"><rect fill=\"#FEFECE\" filter=\"url(#f18231btxqi1xu)\" height=\"45.9375\" id=\"E3\" style=\"stroke: #A80036; stroke-width: 1.5;\" width=\"70\" x=\"72\" y=\"253\"/><text fill=\"#000000\" font-family=\"sans-serif\" font-size=\"12\" font-style=\"italic\" lengthAdjust=\"spacingAndGlyphs\" textLength=\"68\" x=\"73\" y=\"269.1387\">«part  def»</text><text fill=\"#000000\" font-family=\"sans-serif\" font-size=\"12\" lengthAdjust=\"spacingAndGlyphs\" textLength=\"8\" x=\"103\" y=\"283.1074\">A</text><line style=\"stroke: #A80036; stroke-width: 1.5;\" x1=\"73\" x2=\"141\" y1=\"290.9375\" y2=\"290.9375\"/></a><!--MD5=[60a26617385b1d2d0262a64233df1f8d]\n",
       "class E6--><a href=\"psysml:76906768-adb2-44e4-864a-c9b21a4611cd\" target=\"_top\" title=\"psysml:76906768-adb2-44e4-864a-c9b21a4611cd\" xlink:actuate=\"onRequest\" xlink:href=\"psysml:76906768-adb2-44e4-864a-c9b21a4611cd\" xlink:show=\"new\" xlink:title=\"psysml:76906768-adb2-44e4-864a-c9b21a4611cd\" xlink:type=\"simple\"><rect fill=\"#FEFECE\" filter=\"url(#f18231btxqi1xu)\" height=\"45.9375\" id=\"E6\" rx=\"10\" ry=\"10\" style=\"stroke: #A80036; stroke-width: 1.5;\" width=\"42\" x=\"56\" y=\"87.5\"/><text fill=\"#000000\" font-family=\"sans-serif\" font-size=\"12\" font-style=\"italic\" lengthAdjust=\"spacingAndGlyphs\" textLength=\"40\" x=\"57\" y=\"103.6387\">«part»</text><text fill=\"#000000\" font-family=\"sans-serif\" font-size=\"12\" lengthAdjust=\"spacingAndGlyphs\" textLength=\"22\" x=\"64\" y=\"117.6074\">x: A</text><line style=\"stroke: #A80036; stroke-width: 1.5;\" x1=\"57\" x2=\"97\" y1=\"125.4375\" y2=\"125.4375\"/></a><a href=\"psysml:c40d8d93-4b48-4997-9b6b-7328d49803fe\" target=\"_top\" title=\"psysml:c40d8d93-4b48-4997-9b6b-7328d49803fe\" xlink:actuate=\"onRequest\" xlink:href=\"psysml:c40d8d93-4b48-4997-9b6b-7328d49803fe\" xlink:show=\"new\" xlink:title=\"psysml:c40d8d93-4b48-4997-9b6b-7328d49803fe\" xlink:type=\"simple\"><polygon fill=\"#FFFFFF\" filter=\"url(#f18231btxqi1xu)\" points=\"133,84,165,84,172,106.2969,179,106.2969,179,136.5938,133,136.5938,133,84\" style=\"stroke: #000000; stroke-width: 1.5;\"/><line style=\"stroke: #000000; stroke-width: 1.5;\" x1=\"133\" x2=\"172\" y1=\"106.2969\" y2=\"106.2969\"/><text fill=\"#000000\" font-family=\"sans-serif\" font-size=\"14\" font-weight=\"bold\" lengthAdjust=\"spacingAndGlyphs\" textLength=\"26\" x=\"137\" y=\"98.9951\">P2a</text></a><!--MD5=[15ebcb19ae302d9b601edb458606d402]\n",
       "link E5 to E2--><a href=\"psysml:9ee57c7f-7f65-4593-a505-e714f10a5bde\" target=\"_top\" title=\"psysml:9ee57c7f-7f65-4593-a505-e714f10a5bde\" xlink:actuate=\"onRequest\" xlink:href=\"psysml:9ee57c7f-7f65-4593-a505-e714f10a5bde\" xlink:show=\"new\" xlink:title=\"psysml:9ee57c7f-7f65-4593-a505-e714f10a5bde\" xlink:type=\"simple\"><path d=\"M159.28,137.05 C160.735,148.365 162.5469,162.4656 164.4519,177.2955 C165.4044,184.7104 166.3802,192.3076 167.3463,199.8301 C167.5878,201.7107 167.8287,203.5867 168.0685,205.4539 C168.1884,206.3876 168.308,207.319 168.4273,208.2478 C168.4869,208.7122 168.5465,209.1759 168.6059,209.6389 \" fill=\"none\" id=\"E5-&gt;E2\" style=\"stroke: #A80036; stroke-width: 1.0; stroke-dasharray: 7.0,7.0;\"/><polygon fill=\"#A80036\" points=\"168.6059,209.6389,171.427,200.2027,167.9691,204.6796,163.4922,201.2217,168.6059,209.6389\" style=\"stroke: #A80036; stroke-width: 1.0;\"/><text fill=\"#000000\" font-family=\"sans-serif\" font-size=\"13\" lengthAdjust=\"spacingAndGlyphs\" textLength=\"65\" x=\"166\" y=\"182.0669\">«import»*</text></a><!--MD5=[a717450b82c80b9240a525fa862496af]\n",
       "link E6 to E3--><a href=\"psysml:79dc21aa-3f25-4d04-bc8e-220599d338b9\" target=\"_top\" title=\"psysml:79dc21aa-3f25-4d04-bc8e-220599d338b9\" xlink:actuate=\"onRequest\" xlink:href=\"psysml:79dc21aa-3f25-4d04-bc8e-220599d338b9\" xlink:show=\"new\" xlink:title=\"psysml:79dc21aa-3f25-4d04-bc8e-220599d338b9\" xlink:type=\"simple\"><path d=\"M81.05,133.55 C85.7,158.9 93.44,201.1 99.26,232.83 \" fill=\"none\" id=\"E6-&gt;E3\" style=\"stroke: #A80036; stroke-width: 1.0;\"/><polygon fill=\"#FFFFFF\" points=\"102.92,252.78,92.6018,235.3578,106.3713,232.8278,102.92,252.78\" style=\"stroke: #A80036; stroke-width: 1.0;\"/><ellipse cx=\"93.5388\" cy=\"229.3902\" fill=\"#A80036\" rx=\"2\" ry=\"2\" style=\"stroke: #A80036; stroke-width: 1.0;\"/><ellipse cx=\"103.3742\" cy=\"227.5831\" fill=\"#A80036\" rx=\"2\" ry=\"2\" style=\"stroke: #A80036; stroke-width: 1.0;\"/></a><!--MD5=[74e56058b200c372de52d9dd795b53ac]\n",
       "@startuml\r\n",
       "skinparam wrapWidth 300\r\n",
       "hide circle\r\n",
       "\r\n",
       "package \"QualifiedNameImportTest\" as E1  [[psysml:5126b6fb-a0df-489e-901c-12bad15fd52c ]]  {\r\n",
       "package \"P1\" as E2  [[psysml:4671c392-f153-4102-94c6-e9de6b11f3b3 ]]  {\r\n",
       "comp def \"A\" as E3  <<(T,blue) part  def>> [[psysml:d43e5a90-a5b9-40ed-82e3-14a3538b6850 ]] {\r\n",
       "}\r\n",
       "}\r\n",
       "package \"P2\" as E4  [[psysml:b774f6e1-b4cc-4027-a413-e3d948253bea ]]  {\r\n",
       "package \"P2a\" as E5  [[psysml:c40d8d93-4b48-4997-9b6b-7328d49803fe ]]  {\r\n",
       "}\r\n",
       "comp usage \"x: A \" as E6  <<(T,blue) part>> [[psysml:76906768-adb2-44e4-864a-c9b21a4611cd ]] {\r\n",
       "}\r\n",
       "}\r\n",
       "}\r\n",
       "E5 ..> E2 [[psysml:9ee57c7f-7f65-4593-a505-e714f10a5bde ]] : <<import>>*\r\n",
       "E6 - -:|> E3 [[psysml:79dc21aa-3f25-4d04-bc8e-220599d338b9 ]] \r\n",
       "@enduml\r\n",
       "\n",
       "PlantUML version 1.2020.13(Sat Jun 13 12:26:38 UTC 2020)\n",
       "(EPL source distribution)\n",
       "Java Runtime: OpenJDK Runtime Environment\n",
       "JVM: OpenJDK 64-Bit Server VM\n",
       "Default Encoding: UTF-8\n",
       "Language: en\n",
       "Country: null\n",
       "--></g></svg>"
      ]
     },
     "execution_count": 29,
     "metadata": {},
     "output_type": "execute_result"
    }
   ],
   "source": [
    "%viz --style=\"STDCOLOR\" --view=\"MIXED\" \"QualifiedNameImportTest\""
   ]
  },
  {
   "cell_type": "code",
   "execution_count": 30,
   "id": "2751b267",
   "metadata": {
    "execution": {
     "iopub.execute_input": "2022-07-23T10:54:02.534040Z",
     "iopub.status.busy": "2022-07-23T10:54:02.533575Z",
     "iopub.status.idle": "2022-07-23T10:54:02.583756Z",
     "shell.execute_reply": "2022-07-23T10:54:02.583309Z"
    }
   },
   "outputs": [
    {
     "data": {
      "image/svg+xml": [
       "<?xml version=\"1.0\" encoding=\"UTF-8\" standalone=\"no\"?><svg xmlns=\"http://www.w3.org/2000/svg\" xmlns:xlink=\"http://www.w3.org/1999/xlink\" contentScriptType=\"application/ecmascript\" contentStyleType=\"text/css\" height=\"361px\" preserveAspectRatio=\"none\" style=\"width:267px;height:361px;\" version=\"1.1\" viewBox=\"0 0 267 361\" width=\"267px\" zoomAndPan=\"magnify\"><defs><filter height=\"300%\" id=\"f1n8qglahtsv88\" width=\"300%\" x=\"-1\" y=\"-1\"><feGaussianBlur result=\"blurOut\" stdDeviation=\"2.0\"/><feColorMatrix in=\"blurOut\" result=\"blurOut2\" type=\"matrix\" values=\"0 0 0 0 0 0 0 0 0 0 0 0 0 0 0 0 0 0 .4 0\"/><feOffset dx=\"4.0\" dy=\"4.0\" in=\"blurOut2\" result=\"blurOut3\"/><feBlend in=\"SourceGraphic\" in2=\"blurOut3\" mode=\"normal\"/></filter></defs><g><!--MD5=[fbc87193dbaf4d95561dea2c320d4a47]\n",
       "cluster E1--><a href=\"psysml:5126b6fb-a0df-489e-901c-12bad15fd52c\" target=\"_top\" title=\"psysml:5126b6fb-a0df-489e-901c-12bad15fd52c\" xlink:actuate=\"onRequest\" xlink:href=\"psysml:5126b6fb-a0df-489e-901c-12bad15fd52c\" xlink:show=\"new\" xlink:title=\"psysml:5126b6fb-a0df-489e-901c-12bad15fd52c\" xlink:type=\"simple\"><polygon fill=\"#FFFFFF\" filter=\"url(#f1n8qglahtsv88)\" points=\"16,6,196,6,203,28.2969,245,28.2969,245,349,16,349,16,6\" style=\"stroke: #000000; stroke-width: 1.5;\"/><line style=\"stroke: #000000; stroke-width: 1.5;\" x1=\"16\" x2=\"203\" y1=\"28.2969\" y2=\"28.2969\"/><text fill=\"#000000\" font-family=\"sans-serif\" font-size=\"14\" font-weight=\"bold\" lengthAdjust=\"spacingAndGlyphs\" textLength=\"174\" x=\"20\" y=\"20.9951\">QualifiedNameImportTest</text></a><!--MD5=[e4f7fae6ed58524ba242bb0b0d3be6b7]\n",
       "cluster E2--><a href=\"psysml:4671c392-f153-4102-94c6-e9de6b11f3b3\" target=\"_top\" title=\"psysml:4671c392-f153-4102-94c6-e9de6b11f3b3\" xlink:actuate=\"onRequest\" xlink:href=\"psysml:4671c392-f153-4102-94c6-e9de6b11f3b3\" xlink:show=\"new\" xlink:title=\"psysml:4671c392-f153-4102-94c6-e9de6b11f3b3\" xlink:type=\"simple\"><polygon fill=\"#FFFFFF\" filter=\"url(#f1n8qglahtsv88)\" points=\"55,210,79,210,86,232.2969,162,232.2969,162,317,55,317,55,210\" style=\"stroke: #000000; stroke-width: 1.5;\"/><line style=\"stroke: #000000; stroke-width: 1.5;\" x1=\"55\" x2=\"86\" y1=\"232.2969\" y2=\"232.2969\"/><text fill=\"#000000\" font-family=\"sans-serif\" font-size=\"14\" font-weight=\"bold\" lengthAdjust=\"spacingAndGlyphs\" textLength=\"18\" x=\"59\" y=\"224.9951\">P1</text></a><!--MD5=[f6df4d0ebaf0b5dfb2ced0ae5af7c670]\n",
       "cluster E4--><a href=\"psysml:b774f6e1-b4cc-4027-a413-e3d948253bea\" target=\"_top\" title=\"psysml:b774f6e1-b4cc-4027-a413-e3d948253bea\" xlink:actuate=\"onRequest\" xlink:href=\"psysml:b774f6e1-b4cc-4027-a413-e3d948253bea\" xlink:show=\"new\" xlink:title=\"psysml:b774f6e1-b4cc-4027-a413-e3d948253bea\" xlink:type=\"simple\"><polygon fill=\"#FFFFFF\" filter=\"url(#f1n8qglahtsv88)\" points=\"40,49,64,49,71,71.2969,221,71.2969,221,153,40,153,40,49\" style=\"stroke: #000000; stroke-width: 1.5;\"/><line style=\"stroke: #000000; stroke-width: 1.5;\" x1=\"40\" x2=\"71\" y1=\"71.2969\" y2=\"71.2969\"/><text fill=\"#000000\" font-family=\"sans-serif\" font-size=\"14\" font-weight=\"bold\" lengthAdjust=\"spacingAndGlyphs\" textLength=\"18\" x=\"44\" y=\"63.9951\">P2</text></a><!--MD5=[09b614a08d8cba4a07c9adeb5e0fee81]\n",
       "class E3--><a href=\"psysml:d43e5a90-a5b9-40ed-82e3-14a3538b6850\" target=\"_top\" title=\"psysml:d43e5a90-a5b9-40ed-82e3-14a3538b6850\" xlink:actuate=\"onRequest\" xlink:href=\"psysml:d43e5a90-a5b9-40ed-82e3-14a3538b6850\" xlink:show=\"new\" xlink:title=\"psysml:d43e5a90-a5b9-40ed-82e3-14a3538b6850\" xlink:type=\"simple\"><rect fill=\"#FEFECE\" filter=\"url(#f1n8qglahtsv88)\" height=\"40\" id=\"E3\" style=\"stroke: #A80036; stroke-width: 1.5;\" width=\"40\" x=\"79\" y=\"253\"/><ellipse cx=\"94\" cy=\"269\" fill=\"#008000\" rx=\"11\" ry=\"11\" style=\"stroke: #A80036; stroke-width: 1.0;\"/><path d=\"M90.875,274 L90.875,263.4063 L94.1094,263.4063 Q96.0156,263.4063 96.9219,264.1563 Q97.8438,264.9063 97.8438,266.0781 Q97.8438,266.7656 97.4531,267.4219 Q97.0781,268.0781 96.3594,268.375 Q97.2188,268.75 97.7344,269.4375 Q98.25,270.125 98.25,270.9375 Q98.25,272.3125 97.2188,273.1563 Q96.2031,274 94.0938,274 L90.875,274 Z M92.7969,267.6406 L93.9531,267.6406 Q95.0781,267.6406 95.4844,267.2656 Q95.9063,266.875 95.9063,266.25 Q95.9063,265.6719 95.4844,265.3125 Q95.0625,264.9531 94.125,264.9531 L92.7969,264.9531 L92.7969,267.6406 Z M92.7969,272.4219 L94.2969,272.4219 Q95.2031,272.4219 95.7344,272.0313 Q96.2656,271.6406 96.2656,270.8906 Q96.2656,270.125 95.7656,269.6563 Q95.2656,269.1719 94,269.1719 L92.7969,269.1719 L92.7969,272.4219 Z \"/><text fill=\"#000000\" font-family=\"sans-serif\" font-size=\"12\" lengthAdjust=\"spacingAndGlyphs\" textLength=\"8\" x=\"108\" y=\"273.1543\">A</text><line style=\"stroke: #A80036; stroke-width: 1.5;\" x1=\"80\" x2=\"118\" y1=\"285\" y2=\"285\"/></a><!--MD5=[60a26617385b1d2d0262a64233df1f8d]\n",
       "class E6--><a href=\"psysml:76906768-adb2-44e4-864a-c9b21a4611cd\" target=\"_top\" title=\"psysml:76906768-adb2-44e4-864a-c9b21a4611cd\" xlink:actuate=\"onRequest\" xlink:href=\"psysml:76906768-adb2-44e4-864a-c9b21a4611cd\" xlink:show=\"new\" xlink:title=\"psysml:76906768-adb2-44e4-864a-c9b21a4611cd\" xlink:type=\"simple\"><rect fill=\"#FEFECE\" filter=\"url(#f1n8qglahtsv88)\" height=\"45.9375\" id=\"E6\" rx=\"10\" ry=\"10\" style=\"stroke: #A80036; stroke-width: 1.5;\" width=\"68\" x=\"56\" y=\"87.5\"/><ellipse cx=\"71\" cy=\"106.4688\" fill=\"#32CD32\" rx=\"11\" ry=\"11\" style=\"stroke: #A80036; stroke-width: 1.0;\"/><path d=\"M67.8125,111.4688 L67.8125,100.875 L71.4219,100.875 Q72.6406,100.875 73.4375,101.3125 Q74.2344,101.7344 74.6094,102.4375 Q75,103.1406 75,103.9844 Q75,104.8281 74.625,105.5156 Q74.2656,106.2031 73.4688,106.625 Q72.6875,107.0313 71.5,107.0313 L69.7656,107.0313 L69.7656,111.4688 L67.8125,111.4688 Z M69.7656,105.4375 L71.375,105.4375 Q72.1875,105.4375 72.6094,105.0313 Q73.0313,104.625 73.0313,103.9844 Q73.0313,103.3594 72.6094,102.9531 Q72.1875,102.5469 71.3906,102.5469 L69.7656,102.5469 L69.7656,105.4375 Z \"/><text fill=\"#000000\" font-family=\"sans-serif\" font-size=\"12\" font-style=\"italic\" lengthAdjust=\"spacingAndGlyphs\" textLength=\"40\" x=\"83\" y=\"103.6387\">«part»</text><text fill=\"#000000\" font-family=\"sans-serif\" font-size=\"12\" lengthAdjust=\"spacingAndGlyphs\" textLength=\"22\" x=\"90\" y=\"117.6074\">x: A</text><line style=\"stroke: #A80036; stroke-width: 1.5;\" x1=\"57\" x2=\"123\" y1=\"125.4375\" y2=\"125.4375\"/></a><a href=\"psysml:c40d8d93-4b48-4997-9b6b-7328d49803fe\" target=\"_top\" title=\"psysml:c40d8d93-4b48-4997-9b6b-7328d49803fe\" xlink:actuate=\"onRequest\" xlink:href=\"psysml:c40d8d93-4b48-4997-9b6b-7328d49803fe\" xlink:show=\"new\" xlink:title=\"psysml:c40d8d93-4b48-4997-9b6b-7328d49803fe\" xlink:type=\"simple\"><polygon fill=\"#FFFFFF\" filter=\"url(#f1n8qglahtsv88)\" points=\"159,84,191,84,198,106.2969,205,106.2969,205,136.5938,159,136.5938,159,84\" style=\"stroke: #000000; stroke-width: 1.5;\"/><line style=\"stroke: #000000; stroke-width: 1.5;\" x1=\"159\" x2=\"198\" y1=\"106.2969\" y2=\"106.2969\"/><text fill=\"#000000\" font-family=\"sans-serif\" font-size=\"14\" font-weight=\"bold\" lengthAdjust=\"spacingAndGlyphs\" textLength=\"26\" x=\"163\" y=\"98.9951\">P2a</text></a><!--MD5=[15ebcb19ae302d9b601edb458606d402]\n",
       "link E5 to E2--><a href=\"psysml:9ee57c7f-7f65-4593-a505-e714f10a5bde\" target=\"_top\" title=\"psysml:9ee57c7f-7f65-4593-a505-e714f10a5bde\" xlink:actuate=\"onRequest\" xlink:href=\"psysml:9ee57c7f-7f65-4593-a505-e714f10a5bde\" xlink:show=\"new\" xlink:title=\"psysml:9ee57c7f-7f65-4593-a505-e714f10a5bde\" xlink:type=\"simple\"><path d=\"M177.5,137.29 C173.605,159.62 167.8525,192.6025 163.0138,220.3425 C162.7113,222.0763 162.4125,223.7895 162.1179,225.4784 C162.081,225.6895 162.0443,225.9003 162.0076,226.1106 \" fill=\"none\" id=\"E5-&gt;E2\" style=\"stroke: #A80036; stroke-width: 1.0; stroke-dasharray: 7.0,7.0;\"/><polygon fill=\"#A80036\" points=\"162.0076,226.1106,167.4947,217.9319,162.8668,221.185,159.6137,216.5571,162.0076,226.1106\" style=\"stroke: #A80036; stroke-width: 1.0;\"/><text fill=\"#000000\" font-family=\"sans-serif\" font-size=\"13\" lengthAdjust=\"spacingAndGlyphs\" textLength=\"65\" x=\"172\" y=\"182.0669\">«import»*</text></a><!--MD5=[a717450b82c80b9240a525fa862496af]\n",
       "link E6 to E3--><a href=\"psysml:79dc21aa-3f25-4d04-bc8e-220599d338b9\" target=\"_top\" title=\"psysml:79dc21aa-3f25-4d04-bc8e-220599d338b9\" xlink:actuate=\"onRequest\" xlink:href=\"psysml:79dc21aa-3f25-4d04-bc8e-220599d338b9\" xlink:show=\"new\" xlink:title=\"psysml:79dc21aa-3f25-4d04-bc8e-220599d338b9\" xlink:type=\"simple\"><path d=\"M91.25,133.82 C92.68,159.32 95.05,201.55 96.79,232.62 \" fill=\"none\" id=\"E6-&gt;E3\" style=\"stroke: #A80036; stroke-width: 1.0;\"/><polygon fill=\"#FFFFFF\" points=\"97.93,252.88,89.8824,234.2995,103.8607,233.5196,97.93,252.88\" style=\"stroke: #A80036; stroke-width: 1.0;\"/><ellipse cx=\"91.5618\" cy=\"228.4969\" fill=\"#A80036\" rx=\"2\" ry=\"2\" style=\"stroke: #A80036; stroke-width: 1.0;\"/><ellipse cx=\"101.5463\" cy=\"227.9398\" fill=\"#A80036\" rx=\"2\" ry=\"2\" style=\"stroke: #A80036; stroke-width: 1.0;\"/></a><!--MD5=[cbb079c38f88cbef5a50a8ed4bbe2093]\n",
       "@startuml\r\n",
       " \r\n",
       "package \"QualifiedNameImportTest\" as E1  [[psysml:5126b6fb-a0df-489e-901c-12bad15fd52c ]]  {\r\n",
       "package \"P1\" as E2  [[psysml:4671c392-f153-4102-94c6-e9de6b11f3b3 ]]  {\r\n",
       "comp def \"A\" as E3 << << (B,green) >> [[psysml:d43e5a90-a5b9-40ed-82e3-14a3538b6850 ]] {\r\n",
       "}\r\n",
       "}\r\n",
       "package \"P2\" as E4  [[psysml:b774f6e1-b4cc-4027-a413-e3d948253bea ]]  {\r\n",
       "package \"P2a\" as E5  [[psysml:c40d8d93-4b48-4997-9b6b-7328d49803fe ]]  {\r\n",
       "}\r\n",
       "comp usage \"x: A \" as E6 << << (P,limegreen) part>> [[psysml:76906768-adb2-44e4-864a-c9b21a4611cd ]] {\r\n",
       "}\r\n",
       "}\r\n",
       "}\r\n",
       "E5 ..> E2 [[psysml:9ee57c7f-7f65-4593-a505-e714f10a5bde ]] : <<import>>*\r\n",
       "E6 - -:|> E3 [[psysml:79dc21aa-3f25-4d04-bc8e-220599d338b9 ]] \r\n",
       "@enduml\r\n",
       "\n",
       "PlantUML version 1.2020.13(Sat Jun 13 12:26:38 UTC 2020)\n",
       "(EPL source distribution)\n",
       "Java Runtime: OpenJDK Runtime Environment\n",
       "JVM: OpenJDK 64-Bit Server VM\n",
       "Default Encoding: UTF-8\n",
       "Language: en\n",
       "Country: null\n",
       "--></g></svg>"
      ]
     },
     "execution_count": 30,
     "metadata": {},
     "output_type": "execute_result"
    }
   ],
   "source": [
    "%viz --style=\"PLANTUML\" --view=\"Default\" \"QualifiedNameImportTest\""
   ]
  },
  {
   "cell_type": "code",
   "execution_count": 31,
   "id": "9abd06f8",
   "metadata": {
    "execution": {
     "iopub.execute_input": "2022-07-23T10:54:02.633261Z",
     "iopub.status.busy": "2022-07-23T10:54:02.632793Z",
     "iopub.status.idle": "2022-07-23T10:54:02.663409Z",
     "shell.execute_reply": "2022-07-23T10:54:02.662836Z"
    }
   },
   "outputs": [
    {
     "data": {
      "image/svg+xml": [
       "<?xml version=\"1.0\" encoding=\"UTF-8\" standalone=\"no\"?><svg xmlns=\"http://www.w3.org/2000/svg\" xmlns:xlink=\"http://www.w3.org/1999/xlink\" contentScriptType=\"application/ecmascript\" contentStyleType=\"text/css\" height=\"361px\" preserveAspectRatio=\"none\" style=\"width:267px;height:361px;\" version=\"1.1\" viewBox=\"0 0 267 361\" width=\"267px\" zoomAndPan=\"magnify\"><defs><filter height=\"300%\" id=\"f1n8qglahtsv88\" width=\"300%\" x=\"-1\" y=\"-1\"><feGaussianBlur result=\"blurOut\" stdDeviation=\"2.0\"/><feColorMatrix in=\"blurOut\" result=\"blurOut2\" type=\"matrix\" values=\"0 0 0 0 0 0 0 0 0 0 0 0 0 0 0 0 0 0 .4 0\"/><feOffset dx=\"4.0\" dy=\"4.0\" in=\"blurOut2\" result=\"blurOut3\"/><feBlend in=\"SourceGraphic\" in2=\"blurOut3\" mode=\"normal\"/></filter></defs><g><!--MD5=[fbc87193dbaf4d95561dea2c320d4a47]\n",
       "cluster E1--><a href=\"psysml:5126b6fb-a0df-489e-901c-12bad15fd52c\" target=\"_top\" title=\"psysml:5126b6fb-a0df-489e-901c-12bad15fd52c\" xlink:actuate=\"onRequest\" xlink:href=\"psysml:5126b6fb-a0df-489e-901c-12bad15fd52c\" xlink:show=\"new\" xlink:title=\"psysml:5126b6fb-a0df-489e-901c-12bad15fd52c\" xlink:type=\"simple\"><polygon fill=\"#FFFFFF\" filter=\"url(#f1n8qglahtsv88)\" points=\"16,6,196,6,203,28.2969,245,28.2969,245,349,16,349,16,6\" style=\"stroke: #000000; stroke-width: 1.5;\"/><line style=\"stroke: #000000; stroke-width: 1.5;\" x1=\"16\" x2=\"203\" y1=\"28.2969\" y2=\"28.2969\"/><text fill=\"#000000\" font-family=\"sans-serif\" font-size=\"14\" font-weight=\"bold\" lengthAdjust=\"spacingAndGlyphs\" textLength=\"174\" x=\"20\" y=\"20.9951\">QualifiedNameImportTest</text></a><!--MD5=[e4f7fae6ed58524ba242bb0b0d3be6b7]\n",
       "cluster E2--><a href=\"psysml:4671c392-f153-4102-94c6-e9de6b11f3b3\" target=\"_top\" title=\"psysml:4671c392-f153-4102-94c6-e9de6b11f3b3\" xlink:actuate=\"onRequest\" xlink:href=\"psysml:4671c392-f153-4102-94c6-e9de6b11f3b3\" xlink:show=\"new\" xlink:title=\"psysml:4671c392-f153-4102-94c6-e9de6b11f3b3\" xlink:type=\"simple\"><polygon fill=\"#FFFFFF\" filter=\"url(#f1n8qglahtsv88)\" points=\"55,210,79,210,86,232.2969,162,232.2969,162,317,55,317,55,210\" style=\"stroke: #000000; stroke-width: 1.5;\"/><line style=\"stroke: #000000; stroke-width: 1.5;\" x1=\"55\" x2=\"86\" y1=\"232.2969\" y2=\"232.2969\"/><text fill=\"#000000\" font-family=\"sans-serif\" font-size=\"14\" font-weight=\"bold\" lengthAdjust=\"spacingAndGlyphs\" textLength=\"18\" x=\"59\" y=\"224.9951\">P1</text></a><!--MD5=[f6df4d0ebaf0b5dfb2ced0ae5af7c670]\n",
       "cluster E4--><a href=\"psysml:b774f6e1-b4cc-4027-a413-e3d948253bea\" target=\"_top\" title=\"psysml:b774f6e1-b4cc-4027-a413-e3d948253bea\" xlink:actuate=\"onRequest\" xlink:href=\"psysml:b774f6e1-b4cc-4027-a413-e3d948253bea\" xlink:show=\"new\" xlink:title=\"psysml:b774f6e1-b4cc-4027-a413-e3d948253bea\" xlink:type=\"simple\"><polygon fill=\"#FFFFFF\" filter=\"url(#f1n8qglahtsv88)\" points=\"40,49,64,49,71,71.2969,221,71.2969,221,153,40,153,40,49\" style=\"stroke: #000000; stroke-width: 1.5;\"/><line style=\"stroke: #000000; stroke-width: 1.5;\" x1=\"40\" x2=\"71\" y1=\"71.2969\" y2=\"71.2969\"/><text fill=\"#000000\" font-family=\"sans-serif\" font-size=\"14\" font-weight=\"bold\" lengthAdjust=\"spacingAndGlyphs\" textLength=\"18\" x=\"44\" y=\"63.9951\">P2</text></a><!--MD5=[09b614a08d8cba4a07c9adeb5e0fee81]\n",
       "class E3--><a href=\"psysml:d43e5a90-a5b9-40ed-82e3-14a3538b6850\" target=\"_top\" title=\"psysml:d43e5a90-a5b9-40ed-82e3-14a3538b6850\" xlink:actuate=\"onRequest\" xlink:href=\"psysml:d43e5a90-a5b9-40ed-82e3-14a3538b6850\" xlink:show=\"new\" xlink:title=\"psysml:d43e5a90-a5b9-40ed-82e3-14a3538b6850\" xlink:type=\"simple\"><rect fill=\"#FEFECE\" filter=\"url(#f1n8qglahtsv88)\" height=\"40\" id=\"E3\" style=\"stroke: #A80036; stroke-width: 1.5;\" width=\"40\" x=\"79\" y=\"253\"/><ellipse cx=\"94\" cy=\"269\" fill=\"#008000\" rx=\"11\" ry=\"11\" style=\"stroke: #A80036; stroke-width: 1.0;\"/><path d=\"M90.875,274 L90.875,263.4063 L94.1094,263.4063 Q96.0156,263.4063 96.9219,264.1563 Q97.8438,264.9063 97.8438,266.0781 Q97.8438,266.7656 97.4531,267.4219 Q97.0781,268.0781 96.3594,268.375 Q97.2188,268.75 97.7344,269.4375 Q98.25,270.125 98.25,270.9375 Q98.25,272.3125 97.2188,273.1563 Q96.2031,274 94.0938,274 L90.875,274 Z M92.7969,267.6406 L93.9531,267.6406 Q95.0781,267.6406 95.4844,267.2656 Q95.9063,266.875 95.9063,266.25 Q95.9063,265.6719 95.4844,265.3125 Q95.0625,264.9531 94.125,264.9531 L92.7969,264.9531 L92.7969,267.6406 Z M92.7969,272.4219 L94.2969,272.4219 Q95.2031,272.4219 95.7344,272.0313 Q96.2656,271.6406 96.2656,270.8906 Q96.2656,270.125 95.7656,269.6563 Q95.2656,269.1719 94,269.1719 L92.7969,269.1719 L92.7969,272.4219 Z \"/><text fill=\"#000000\" font-family=\"sans-serif\" font-size=\"12\" lengthAdjust=\"spacingAndGlyphs\" textLength=\"8\" x=\"108\" y=\"273.1543\">A</text><line style=\"stroke: #A80036; stroke-width: 1.5;\" x1=\"80\" x2=\"118\" y1=\"285\" y2=\"285\"/></a><!--MD5=[60a26617385b1d2d0262a64233df1f8d]\n",
       "class E6--><a href=\"psysml:76906768-adb2-44e4-864a-c9b21a4611cd\" target=\"_top\" title=\"psysml:76906768-adb2-44e4-864a-c9b21a4611cd\" xlink:actuate=\"onRequest\" xlink:href=\"psysml:76906768-adb2-44e4-864a-c9b21a4611cd\" xlink:show=\"new\" xlink:title=\"psysml:76906768-adb2-44e4-864a-c9b21a4611cd\" xlink:type=\"simple\"><rect fill=\"#FEFECE\" filter=\"url(#f1n8qglahtsv88)\" height=\"45.9375\" id=\"E6\" rx=\"10\" ry=\"10\" style=\"stroke: #A80036; stroke-width: 1.5;\" width=\"68\" x=\"56\" y=\"87.5\"/><ellipse cx=\"71\" cy=\"106.4688\" fill=\"#32CD32\" rx=\"11\" ry=\"11\" style=\"stroke: #A80036; stroke-width: 1.0;\"/><path d=\"M67.8125,111.4688 L67.8125,100.875 L71.4219,100.875 Q72.6406,100.875 73.4375,101.3125 Q74.2344,101.7344 74.6094,102.4375 Q75,103.1406 75,103.9844 Q75,104.8281 74.625,105.5156 Q74.2656,106.2031 73.4688,106.625 Q72.6875,107.0313 71.5,107.0313 L69.7656,107.0313 L69.7656,111.4688 L67.8125,111.4688 Z M69.7656,105.4375 L71.375,105.4375 Q72.1875,105.4375 72.6094,105.0313 Q73.0313,104.625 73.0313,103.9844 Q73.0313,103.3594 72.6094,102.9531 Q72.1875,102.5469 71.3906,102.5469 L69.7656,102.5469 L69.7656,105.4375 Z \"/><text fill=\"#000000\" font-family=\"sans-serif\" font-size=\"12\" font-style=\"italic\" lengthAdjust=\"spacingAndGlyphs\" textLength=\"40\" x=\"83\" y=\"103.6387\">«part»</text><text fill=\"#000000\" font-family=\"sans-serif\" font-size=\"12\" lengthAdjust=\"spacingAndGlyphs\" textLength=\"22\" x=\"90\" y=\"117.6074\">x: A</text><line style=\"stroke: #A80036; stroke-width: 1.5;\" x1=\"57\" x2=\"123\" y1=\"125.4375\" y2=\"125.4375\"/></a><a href=\"psysml:c40d8d93-4b48-4997-9b6b-7328d49803fe\" target=\"_top\" title=\"psysml:c40d8d93-4b48-4997-9b6b-7328d49803fe\" xlink:actuate=\"onRequest\" xlink:href=\"psysml:c40d8d93-4b48-4997-9b6b-7328d49803fe\" xlink:show=\"new\" xlink:title=\"psysml:c40d8d93-4b48-4997-9b6b-7328d49803fe\" xlink:type=\"simple\"><polygon fill=\"#FFFFFF\" filter=\"url(#f1n8qglahtsv88)\" points=\"159,84,191,84,198,106.2969,205,106.2969,205,136.5938,159,136.5938,159,84\" style=\"stroke: #000000; stroke-width: 1.5;\"/><line style=\"stroke: #000000; stroke-width: 1.5;\" x1=\"159\" x2=\"198\" y1=\"106.2969\" y2=\"106.2969\"/><text fill=\"#000000\" font-family=\"sans-serif\" font-size=\"14\" font-weight=\"bold\" lengthAdjust=\"spacingAndGlyphs\" textLength=\"26\" x=\"163\" y=\"98.9951\">P2a</text></a><!--MD5=[15ebcb19ae302d9b601edb458606d402]\n",
       "link E5 to E2--><a href=\"psysml:9ee57c7f-7f65-4593-a505-e714f10a5bde\" target=\"_top\" title=\"psysml:9ee57c7f-7f65-4593-a505-e714f10a5bde\" xlink:actuate=\"onRequest\" xlink:href=\"psysml:9ee57c7f-7f65-4593-a505-e714f10a5bde\" xlink:show=\"new\" xlink:title=\"psysml:9ee57c7f-7f65-4593-a505-e714f10a5bde\" xlink:type=\"simple\"><path d=\"M177.5,137.29 C173.605,159.62 167.8525,192.6025 163.0138,220.3425 C162.7113,222.0763 162.4125,223.7895 162.1179,225.4784 C162.081,225.6895 162.0443,225.9003 162.0076,226.1106 \" fill=\"none\" id=\"E5-&gt;E2\" style=\"stroke: #A80036; stroke-width: 1.0; stroke-dasharray: 7.0,7.0;\"/><polygon fill=\"#A80036\" points=\"162.0076,226.1106,167.4947,217.9319,162.8668,221.185,159.6137,216.5571,162.0076,226.1106\" style=\"stroke: #A80036; stroke-width: 1.0;\"/><text fill=\"#000000\" font-family=\"sans-serif\" font-size=\"13\" lengthAdjust=\"spacingAndGlyphs\" textLength=\"65\" x=\"172\" y=\"182.0669\">«import»*</text></a><!--MD5=[a717450b82c80b9240a525fa862496af]\n",
       "link E6 to E3--><a href=\"psysml:79dc21aa-3f25-4d04-bc8e-220599d338b9\" target=\"_top\" title=\"psysml:79dc21aa-3f25-4d04-bc8e-220599d338b9\" xlink:actuate=\"onRequest\" xlink:href=\"psysml:79dc21aa-3f25-4d04-bc8e-220599d338b9\" xlink:show=\"new\" xlink:title=\"psysml:79dc21aa-3f25-4d04-bc8e-220599d338b9\" xlink:type=\"simple\"><path d=\"M91.25,133.82 C92.68,159.32 95.05,201.55 96.79,232.62 \" fill=\"none\" id=\"E6-&gt;E3\" style=\"stroke: #A80036; stroke-width: 1.0;\"/><polygon fill=\"#FFFFFF\" points=\"97.93,252.88,89.8824,234.2995,103.8607,233.5196,97.93,252.88\" style=\"stroke: #A80036; stroke-width: 1.0;\"/><ellipse cx=\"91.5618\" cy=\"228.4969\" fill=\"#A80036\" rx=\"2\" ry=\"2\" style=\"stroke: #A80036; stroke-width: 1.0;\"/><ellipse cx=\"101.5463\" cy=\"227.9398\" fill=\"#A80036\" rx=\"2\" ry=\"2\" style=\"stroke: #A80036; stroke-width: 1.0;\"/></a><!--MD5=[cbb079c38f88cbef5a50a8ed4bbe2093]\n",
       "@startuml\r\n",
       " \r\n",
       "package \"QualifiedNameImportTest\" as E1  [[psysml:5126b6fb-a0df-489e-901c-12bad15fd52c ]]  {\r\n",
       "package \"P1\" as E2  [[psysml:4671c392-f153-4102-94c6-e9de6b11f3b3 ]]  {\r\n",
       "comp def \"A\" as E3 << << (B,green) >> [[psysml:d43e5a90-a5b9-40ed-82e3-14a3538b6850 ]] {\r\n",
       "}\r\n",
       "}\r\n",
       "package \"P2\" as E4  [[psysml:b774f6e1-b4cc-4027-a413-e3d948253bea ]]  {\r\n",
       "package \"P2a\" as E5  [[psysml:c40d8d93-4b48-4997-9b6b-7328d49803fe ]]  {\r\n",
       "}\r\n",
       "comp usage \"x: A \" as E6 << << (P,limegreen) part>> [[psysml:76906768-adb2-44e4-864a-c9b21a4611cd ]] {\r\n",
       "}\r\n",
       "}\r\n",
       "}\r\n",
       "E5 ..> E2 [[psysml:9ee57c7f-7f65-4593-a505-e714f10a5bde ]] : <<import>>*\r\n",
       "E6 - -:|> E3 [[psysml:79dc21aa-3f25-4d04-bc8e-220599d338b9 ]] \r\n",
       "@enduml\r\n",
       "\n",
       "PlantUML version 1.2020.13(Sat Jun 13 12:26:38 UTC 2020)\n",
       "(EPL source distribution)\n",
       "Java Runtime: OpenJDK Runtime Environment\n",
       "JVM: OpenJDK 64-Bit Server VM\n",
       "Default Encoding: UTF-8\n",
       "Language: en\n",
       "Country: null\n",
       "--></g></svg>"
      ]
     },
     "execution_count": 31,
     "metadata": {},
     "output_type": "execute_result"
    }
   ],
   "source": [
    "%viz --style=\"PLANTUML\" --view=\"Tree\" \"QualifiedNameImportTest\""
   ]
  },
  {
   "cell_type": "code",
   "execution_count": 32,
   "id": "46a24ea7",
   "metadata": {
    "execution": {
     "iopub.execute_input": "2022-07-23T10:54:02.712302Z",
     "iopub.status.busy": "2022-07-23T10:54:02.711823Z",
     "iopub.status.idle": "2022-07-23T10:54:02.803000Z",
     "shell.execute_reply": "2022-07-23T10:54:02.802185Z"
    }
   },
   "outputs": [
    {
     "data": {
      "image/svg+xml": [
       "<?xml version=\"1.0\" encoding=\"UTF-8\" standalone=\"no\"?><svg xmlns=\"http://www.w3.org/2000/svg\" xmlns:xlink=\"http://www.w3.org/1999/xlink\" contentScriptType=\"application/ecmascript\" contentStyleType=\"text/css\" height=\"300px\" preserveAspectRatio=\"none\" style=\"width:603px;height:300px;background:#000000;\" version=\"1.1\" viewBox=\"0 0 603 300\" width=\"603px\" zoomAndPan=\"magnify\"><defs/><g><rect fill=\"#15121D\" height=\"1\" style=\"stroke: #15121D; stroke-width: 1.0;\" width=\"1\" x=\"0\" y=\"0\"/><rect fill=\"#FFFFFF\" height=\"202.8012\" style=\"stroke: #FFFFFF; stroke-width: 1.0;\" width=\"602\" x=\"0\" y=\"0\"/><text fill=\"#000000\" font-family=\"sans-serif\" font-size=\"12\" font-weight=\"bold\" lengthAdjust=\"spacingAndGlyphs\" textLength=\"139\" x=\"5\" y=\"16.1387\">Welcome to PlantUML!</text><text fill=\"#000000\" font-family=\"sans-serif\" font-size=\"12\" lengthAdjust=\"spacingAndGlyphs\" textLength=\"0\" x=\"9\" y=\"30.1074\"/><text fill=\"#000000\" font-family=\"sans-serif\" font-size=\"12\" lengthAdjust=\"spacingAndGlyphs\" textLength=\"293\" x=\"5\" y=\"44.0762\">If you use this software, you accept its license.</text><text fill=\"#000000\" font-family=\"sans-serif\" font-size=\"12\" lengthAdjust=\"spacingAndGlyphs\" textLength=\"107\" x=\"5\" y=\"58.0449\">(details by typing</text><text fill=\"#000000\" font-family=\"monospace\" font-size=\"12\" lengthAdjust=\"spacingAndGlyphs\" textLength=\"42\" x=\"116\" y=\"58.595\">license</text><text fill=\"#000000\" font-family=\"sans-serif\" font-size=\"12\" lengthAdjust=\"spacingAndGlyphs\" textLength=\"56\" x=\"162\" y=\"58.0449\">keyword)</text><text fill=\"#000000\" font-family=\"sans-serif\" font-size=\"12\" lengthAdjust=\"spacingAndGlyphs\" textLength=\"0\" x=\"9\" y=\"72.0137\"/><text fill=\"#000000\" font-family=\"sans-serif\" font-size=\"12\" lengthAdjust=\"spacingAndGlyphs\" textLength=\"283\" x=\"5\" y=\"85.9824\">You can start with a simple UML Diagram like:</text><text fill=\"#000000\" font-family=\"sans-serif\" font-size=\"12\" lengthAdjust=\"spacingAndGlyphs\" textLength=\"0\" x=\"9\" y=\"99.9512\"/><text fill=\"#000000\" font-family=\"monospace\" font-size=\"12\" lengthAdjust=\"spacingAndGlyphs\" textLength=\"102\" x=\"5\" y=\"113.0893\">Bob-&gt;Alice: Hello</text><text fill=\"#000000\" font-family=\"sans-serif\" font-size=\"12\" lengthAdjust=\"spacingAndGlyphs\" textLength=\"0\" x=\"9\" y=\"126.508\"/><text fill=\"#000000\" font-family=\"sans-serif\" font-size=\"12\" lengthAdjust=\"spacingAndGlyphs\" textLength=\"14\" x=\"5\" y=\"140.4768\">Or</text><text fill=\"#000000\" font-family=\"sans-serif\" font-size=\"12\" lengthAdjust=\"spacingAndGlyphs\" textLength=\"0\" x=\"9\" y=\"154.4455\"/><text fill=\"#000000\" font-family=\"monospace\" font-size=\"12\" lengthAdjust=\"spacingAndGlyphs\" textLength=\"78\" x=\"5\" y=\"167.5837\">class Example</text><text fill=\"#000000\" font-family=\"sans-serif\" font-size=\"12\" lengthAdjust=\"spacingAndGlyphs\" textLength=\"0\" x=\"9\" y=\"181.0023\"/><text fill=\"#000000\" font-family=\"sans-serif\" font-size=\"12\" lengthAdjust=\"spacingAndGlyphs\" textLength=\"349\" x=\"5\" y=\"194.9711\">You will find more information about PlantUML syntax on</text><text fill=\"#000000\" font-family=\"sans-serif\" font-size=\"12\" lengthAdjust=\"spacingAndGlyphs\" text-decoration=\"underline\" textLength=\"129\" x=\"358\" y=\"194.9711\">https://plantuml.com</text><image height=\"71\" width=\"80\" x=\"516\" xlink:href=\"data:image/png;base64,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\" y=\"6\"/><rect fill=\"#000000\" height=\"96.4844\" style=\"stroke: #000000; stroke-width: 1.0;\" width=\"602\" x=\"0\" y=\"202.8012\"/><rect fill=\"#33FF02\" height=\"21.2969\" style=\"stroke: #33FF02; stroke-width: 1.0;\" width=\"145\" x=\"5\" y=\"207.8012\"/><text fill=\"#000000\" font-family=\"sans-serif\" font-size=\"14\" font-weight=\"bold\" lengthAdjust=\"spacingAndGlyphs\" textLength=\"143\" x=\"6\" y=\"222.8012\">[From string (line 2) ]</text><text fill=\"#33FF02\" font-family=\"sans-serif\" font-size=\"14\" font-weight=\"bold\" lengthAdjust=\"spacingAndGlyphs\" textLength=\"0\" x=\"9\" y=\"243.0981\"/><text fill=\"#33FF02\" font-family=\"sans-serif\" font-size=\"14\" font-weight=\"bold\" lengthAdjust=\"spacingAndGlyphs\" textLength=\"70\" x=\"5\" y=\"259.3949\">@startuml</text><text fill=\"#33FF02\" font-family=\"sans-serif\" font-size=\"14\" font-weight=\"bold\" lengthAdjust=\"spacingAndGlyphs\" textLength=\"0\" x=\"9\" y=\"275.6918\"/><text fill=\"#FF0000\" font-family=\"sans-serif\" font-size=\"14\" font-weight=\"bold\" lengthAdjust=\"spacingAndGlyphs\" textLength=\"124\" x=\"9\" y=\"291.9887\">Empty description</text><!--MD5=[f59edd8218d337f74d0c332fc6737304]\n",
       "@startuml\r\n",
       " \r\n",
       "@enduml\r\n",
       "\n",
       "PlantUML version 1.2020.13(Sat Jun 13 12:26:38 UTC 2020)\n",
       "(EPL source distribution)\n",
       "Java Runtime: OpenJDK Runtime Environment\n",
       "JVM: OpenJDK 64-Bit Server VM\n",
       "Default Encoding: UTF-8\n",
       "Language: en\n",
       "Country: null\n",
       "--></g></svg>"
      ]
     },
     "execution_count": 32,
     "metadata": {},
     "output_type": "execute_result"
    }
   ],
   "source": [
    "%viz --style=\"PLANTUML\" --view=\"State\" \"QualifiedNameImportTest\""
   ]
  },
  {
   "cell_type": "code",
   "execution_count": 33,
   "id": "3773746f",
   "metadata": {
    "execution": {
     "iopub.execute_input": "2022-07-23T10:54:02.852811Z",
     "iopub.status.busy": "2022-07-23T10:54:02.852466Z",
     "iopub.status.idle": "2022-07-23T10:54:02.880013Z",
     "shell.execute_reply": "2022-07-23T10:54:02.879587Z"
    }
   },
   "outputs": [
    {
     "data": {
      "image/svg+xml": [
       "<?xml version=\"1.0\" encoding=\"UTF-8\" standalone=\"no\"?><svg xmlns=\"http://www.w3.org/2000/svg\" xmlns:xlink=\"http://www.w3.org/1999/xlink\" contentScriptType=\"application/ecmascript\" contentStyleType=\"text/css\" height=\"361px\" preserveAspectRatio=\"none\" style=\"width:259px;height:361px;\" version=\"1.1\" viewBox=\"0 0 259 361\" width=\"259px\" zoomAndPan=\"magnify\"><defs><filter height=\"300%\" id=\"f82061x49xbvn\" width=\"300%\" x=\"-1\" y=\"-1\"><feGaussianBlur result=\"blurOut\" stdDeviation=\"2.0\"/><feColorMatrix in=\"blurOut\" result=\"blurOut2\" type=\"matrix\" values=\"0 0 0 0 0 0 0 0 0 0 0 0 0 0 0 0 0 0 .4 0\"/><feOffset dx=\"4.0\" dy=\"4.0\" in=\"blurOut2\" result=\"blurOut3\"/><feBlend in=\"SourceGraphic\" in2=\"blurOut3\" mode=\"normal\"/></filter></defs><g><!--MD5=[fbc87193dbaf4d95561dea2c320d4a47]\n",
       "cluster E1--><a href=\"psysml:5126b6fb-a0df-489e-901c-12bad15fd52c\" target=\"_top\" title=\"psysml:5126b6fb-a0df-489e-901c-12bad15fd52c\" xlink:actuate=\"onRequest\" xlink:href=\"psysml:5126b6fb-a0df-489e-901c-12bad15fd52c\" xlink:show=\"new\" xlink:title=\"psysml:5126b6fb-a0df-489e-901c-12bad15fd52c\" xlink:type=\"simple\"><polygon fill=\"#FFFFFF\" filter=\"url(#f82061x49xbvn)\" points=\"16,6,196,6,203,28.2969,237,28.2969,237,349,16,349,16,6\" style=\"stroke: #000000; stroke-width: 1.5;\"/><line style=\"stroke: #000000; stroke-width: 1.5;\" x1=\"16\" x2=\"203\" y1=\"28.2969\" y2=\"28.2969\"/><text fill=\"#000000\" font-family=\"sans-serif\" font-size=\"14\" font-weight=\"bold\" lengthAdjust=\"spacingAndGlyphs\" textLength=\"174\" x=\"20\" y=\"20.9951\">QualifiedNameImportTest</text></a><!--MD5=[e4f7fae6ed58524ba242bb0b0d3be6b7]\n",
       "cluster E2--><a href=\"psysml:4671c392-f153-4102-94c6-e9de6b11f3b3\" target=\"_top\" title=\"psysml:4671c392-f153-4102-94c6-e9de6b11f3b3\" xlink:actuate=\"onRequest\" xlink:href=\"psysml:4671c392-f153-4102-94c6-e9de6b11f3b3\" xlink:show=\"new\" xlink:title=\"psysml:4671c392-f153-4102-94c6-e9de6b11f3b3\" xlink:type=\"simple\"><polygon fill=\"#FFFFFF\" filter=\"url(#f82061x49xbvn)\" points=\"83,210,107,210,114,232.2969,200,232.2969,200,317,83,317,83,210\" style=\"stroke: #000000; stroke-width: 1.5;\"/><line style=\"stroke: #000000; stroke-width: 1.5;\" x1=\"83\" x2=\"114\" y1=\"232.2969\" y2=\"232.2969\"/><text fill=\"#000000\" font-family=\"sans-serif\" font-size=\"14\" font-weight=\"bold\" lengthAdjust=\"spacingAndGlyphs\" textLength=\"18\" x=\"87\" y=\"224.9951\">P1</text></a><!--MD5=[f6df4d0ebaf0b5dfb2ced0ae5af7c670]\n",
       "cluster E4--><a href=\"psysml:b774f6e1-b4cc-4027-a413-e3d948253bea\" target=\"_top\" title=\"psysml:b774f6e1-b4cc-4027-a413-e3d948253bea\" xlink:actuate=\"onRequest\" xlink:href=\"psysml:b774f6e1-b4cc-4027-a413-e3d948253bea\" xlink:show=\"new\" xlink:title=\"psysml:b774f6e1-b4cc-4027-a413-e3d948253bea\" xlink:type=\"simple\"><polygon fill=\"#FFFFFF\" filter=\"url(#f82061x49xbvn)\" points=\"40,49,64,49,71,71.2969,213,71.2969,213,153,40,153,40,49\" style=\"stroke: #000000; stroke-width: 1.5;\"/><line style=\"stroke: #000000; stroke-width: 1.5;\" x1=\"40\" x2=\"71\" y1=\"71.2969\" y2=\"71.2969\"/><text fill=\"#000000\" font-family=\"sans-serif\" font-size=\"14\" font-weight=\"bold\" lengthAdjust=\"spacingAndGlyphs\" textLength=\"18\" x=\"44\" y=\"63.9951\">P2</text></a><g id=\"E1.E2.E3\"><a href=\"psysml:d43e5a90-a5b9-40ed-82e3-14a3538b6850\" target=\"_top\" title=\"psysml:d43e5a90-a5b9-40ed-82e3-14a3538b6850\" xlink:actuate=\"onRequest\" xlink:href=\"psysml:d43e5a90-a5b9-40ed-82e3-14a3538b6850\" xlink:show=\"new\" xlink:title=\"psysml:d43e5a90-a5b9-40ed-82e3-14a3538b6850\" xlink:type=\"simple\"><rect fill=\"#FEFECE\" filter=\"url(#f82061x49xbvn)\" height=\"40\" id=\"E3\" style=\"stroke: #A80036; stroke-width: 1.5;\" width=\"50\" x=\"126\" y=\"253\"/><ellipse cx=\"145.5\" cy=\"269\" fill=\"#008000\" rx=\"11\" ry=\"11\" style=\"stroke: #A80036; stroke-width: 1.0;\"/><path d=\"M142.375,274 L142.375,263.4063 L145.6094,263.4063 Q147.5156,263.4063 148.4219,264.1563 Q149.3438,264.9063 149.3438,266.0781 Q149.3438,266.7656 148.9531,267.4219 Q148.5781,268.0781 147.8594,268.375 Q148.7188,268.75 149.2344,269.4375 Q149.75,270.125 149.75,270.9375 Q149.75,272.3125 148.7188,273.1563 Q147.7031,274 145.5938,274 L142.375,274 Z M144.2969,267.6406 L145.4531,267.6406 Q146.5781,267.6406 146.9844,267.2656 Q147.4063,266.875 147.4063,266.25 Q147.4063,265.6719 146.9844,265.3125 Q146.5625,264.9531 145.625,264.9531 L144.2969,264.9531 L144.2969,267.6406 Z M144.2969,272.4219 L145.7969,272.4219 Q146.7031,272.4219 147.2344,272.0313 Q147.7656,271.6406 147.7656,270.8906 Q147.7656,270.125 147.2656,269.6563 Q146.7656,269.1719 145.5,269.1719 L144.2969,269.1719 L144.2969,272.4219 Z \"/><text fill=\"#000000\" font-family=\"sans-serif\" font-size=\"12\" lengthAdjust=\"spacingAndGlyphs\" textLength=\"8\" x=\"160.5\" y=\"273.1543\">A</text></a></g><a href=\"psysml:c40d8d93-4b48-4997-9b6b-7328d49803fe\" target=\"_top\" title=\"psysml:c40d8d93-4b48-4997-9b6b-7328d49803fe\" xlink:actuate=\"onRequest\" xlink:href=\"psysml:c40d8d93-4b48-4997-9b6b-7328d49803fe\" xlink:show=\"new\" xlink:title=\"psysml:c40d8d93-4b48-4997-9b6b-7328d49803fe\" xlink:type=\"simple\"><polygon fill=\"#FFFFFF\" filter=\"url(#f82061x49xbvn)\" points=\"56,84,88,84,95,106.2969,102,106.2969,102,136.5938,56,136.5938,56,84\" style=\"stroke: #000000; stroke-width: 1.5;\"/><line style=\"stroke: #000000; stroke-width: 1.5;\" x1=\"56\" x2=\"95\" y1=\"106.2969\" y2=\"106.2969\"/><text fill=\"#000000\" font-family=\"sans-serif\" font-size=\"14\" font-weight=\"bold\" lengthAdjust=\"spacingAndGlyphs\" textLength=\"26\" x=\"60\" y=\"98.9951\">P2a</text></a><g id=\"E1.E4.E6\"><a href=\"psysml:76906768-adb2-44e4-864a-c9b21a4611cd\" target=\"_top\" title=\"psysml:76906768-adb2-44e4-864a-c9b21a4611cd\" xlink:actuate=\"onRequest\" xlink:href=\"psysml:76906768-adb2-44e4-864a-c9b21a4611cd\" xlink:show=\"new\" xlink:title=\"psysml:76906768-adb2-44e4-864a-c9b21a4611cd\" xlink:type=\"simple\"><rect fill=\"#FEFECE\" filter=\"url(#f82061x49xbvn)\" height=\"40\" id=\"E6\" rx=\"10\" ry=\"10\" style=\"stroke: #A80036; stroke-width: 1.5;\" width=\"59\" x=\"137.5\" y=\"90.5\"/><ellipse cx=\"154.75\" cy=\"106.5\" fill=\"#B6DBBB\" rx=\"11\" ry=\"11\" style=\"stroke: #A80036; stroke-width: 1.0;\"/><path d=\"M154.5,111.9688 Q152.75,111.9688 151.7969,110.9375 Q150.8594,109.8906 150.8594,108.0469 L150.8594,101.1563 L152.9219,101.1563 L152.9219,101.3125 Q152.8281,101.4063 152.7969,101.5469 Q152.7813,101.6719 152.7813,101.9375 L152.7813,108.0625 Q152.7813,109.1563 153.1563,109.7813 Q153.5313,110.4063 154.5156,110.4063 Q155.5,110.4063 155.8906,109.7813 Q156.2813,109.1563 156.2813,108.0156 L156.2813,101.1563 L158.1563,101.1563 L158.1563,108 Q158.1563,110.0313 157.125,111 Q156.1094,111.9688 154.5,111.9688 Z \"/><text fill=\"#000000\" font-family=\"sans-serif\" font-size=\"12\" lengthAdjust=\"spacingAndGlyphs\" textLength=\"22\" x=\"169.25\" y=\"110.6543\">x: A</text></a></g><!--MD5=[15ebcb19ae302d9b601edb458606d402]\n",
       "link E5 to E2--><a href=\"psysml:9ee57c7f-7f65-4593-a505-e714f10a5bde\" target=\"_top\" title=\"psysml:9ee57c7f-7f65-4593-a505-e714f10a5bde\" xlink:actuate=\"onRequest\" xlink:href=\"psysml:9ee57c7f-7f65-4593-a505-e714f10a5bde\" xlink:show=\"new\" xlink:title=\"psysml:9ee57c7f-7f65-4593-a505-e714f10a5bde\" xlink:type=\"simple\"><path d=\"M80.93,137.29 C81.765,148.455 82.7988,162.2831 83.883,176.7875 C84.4251,184.0397 84.9798,191.4609 85.5286,198.8029 C85.803,202.4739 86.0759,206.125 86.3451,209.7253 \" fill=\"none\" id=\"E5-&gt;E2\" style=\"stroke: #A80036; stroke-width: 1.0; stroke-dasharray: 7.0,7.0;\"/><polygon fill=\"#A80036\" points=\"86.3451,209.7253,89.663,200.4522,85.9724,204.7392,81.6853,201.0485,86.3451,209.7253\" style=\"stroke: #A80036; stroke-width: 1.0;\"/><text fill=\"#000000\" font-family=\"sans-serif\" font-size=\"13\" lengthAdjust=\"spacingAndGlyphs\" textLength=\"65\" x=\"85\" y=\"182.0669\">«import»*</text></a><!--MD5=[a717450b82c80b9240a525fa862496af]\n",
       "link E6 to E3--><a href=\"psysml:79dc21aa-3f25-4d04-bc8e-220599d338b9\" target=\"_top\" title=\"psysml:79dc21aa-3f25-4d04-bc8e-220599d338b9\" xlink:actuate=\"onRequest\" xlink:href=\"psysml:79dc21aa-3f25-4d04-bc8e-220599d338b9\" xlink:show=\"new\" xlink:title=\"psysml:79dc21aa-3f25-4d04-bc8e-220599d338b9\" xlink:type=\"simple\"><path d=\"M165.1,130.54 C162.6,155.64 158.14,200.4 154.9,232.87 \" fill=\"none\" id=\"E6-&gt;E3\" style=\"stroke: #A80036; stroke-width: 1.0;\"/><polygon fill=\"#FFFFFF\" points=\"152.9,252.98,147.8197,233.3792,161.7507,234.7683,152.9,252.98\" style=\"stroke: #A80036; stroke-width: 1.0;\"/><ellipse cx=\"150.3754\" cy=\"227.9058\" fill=\"#A80036\" rx=\"2\" ry=\"2\" style=\"stroke: #A80036; stroke-width: 1.0;\"/><ellipse cx=\"160.3261\" cy=\"228.898\" fill=\"#A80036\" rx=\"2\" ry=\"2\" style=\"stroke: #A80036; stroke-width: 1.0;\"/></a><!--MD5=[56fb79ea3e8746b0cbd686ffbf02be7e]\n",
       "@startuml\r\n",
       "skinparam ranksep 10\r\n",
       "skinparam rectangle {\r\n",
       " backgroundColor<<block>> LightGreen\r\n",
       "}\r\n",
       " \r\n",
       "package \"QualifiedNameImportTest\" as E1  [[psysml:5126b6fb-a0df-489e-901c-12bad15fd52c ]]  {\r\n",
       "package \"P1\" as E2  [[psysml:4671c392-f153-4102-94c6-e9de6b11f3b3 ]]  {\r\n",
       "rec def \"A\" as E3 << << (B,green) >> [[psysml:d43e5a90-a5b9-40ed-82e3-14a3538b6850 ]] {\r\n",
       "}\r\n",
       "}\r\n",
       "package \"P2\" as E4  [[psysml:b774f6e1-b4cc-4027-a413-e3d948253bea ]]  {\r\n",
       "package \"P2a\" as E5  [[psysml:c40d8d93-4b48-4997-9b6b-7328d49803fe ]]  {\r\n",
       "}\r\n",
       "rec usage \"x: A\" as E6  [[psysml:76906768-adb2-44e4-864a-c9b21a4611cd ]] {\r\n",
       "}\r\n",
       "}\r\n",
       "}\r\n",
       "E5 ..> E2 [[psysml:9ee57c7f-7f65-4593-a505-e714f10a5bde ]] : <<import>>*\r\n",
       "E6 - -:|> E3 [[psysml:79dc21aa-3f25-4d04-bc8e-220599d338b9 ]] \r\n",
       "@enduml\r\n",
       "\n",
       "PlantUML version 1.2020.13(Sat Jun 13 12:26:38 UTC 2020)\n",
       "(EPL source distribution)\n",
       "Java Runtime: OpenJDK Runtime Environment\n",
       "JVM: OpenJDK 64-Bit Server VM\n",
       "Default Encoding: UTF-8\n",
       "Language: en\n",
       "Country: null\n",
       "--></g></svg>"
      ]
     },
     "execution_count": 33,
     "metadata": {},
     "output_type": "execute_result"
    }
   ],
   "source": [
    "%viz --style=\"PLANTUML\" --view=\"Interconnection\" \"QualifiedNameImportTest\""
   ]
  },
  {
   "cell_type": "code",
   "execution_count": 34,
   "id": "4572b6f4",
   "metadata": {
    "execution": {
     "iopub.execute_input": "2022-07-23T10:54:02.929497Z",
     "iopub.status.busy": "2022-07-23T10:54:02.929045Z",
     "iopub.status.idle": "2022-07-23T10:54:02.933665Z",
     "shell.execute_reply": "2022-07-23T10:54:02.933984Z"
    }
   },
   "outputs": [
    {
     "data": {
      "image/svg+xml": [
       "<?xml version=\"1.0\" encoding=\"UTF-8\" standalone=\"no\"?><svg xmlns=\"http://www.w3.org/2000/svg\" xmlns:xlink=\"http://www.w3.org/1999/xlink\" contentScriptType=\"application/ecmascript\" contentStyleType=\"text/css\" height=\"12px\" preserveAspectRatio=\"none\" style=\"width:12px;height:12px;\" version=\"1.1\" viewBox=\"0 0 12 12\" width=\"12px\" zoomAndPan=\"magnify\"><defs/><g><!--MD5=[6a4cb978cab31700e1ce5529f947a75d]\n",
       "@startuml\r\n",
       "skinparam ranksep 8\r\n",
       " \r\n",
       "@enduml\r\n",
       "\n",
       "PlantUML version 1.2020.13(Sat Jun 13 12:26:38 UTC 2020)\n",
       "(EPL source distribution)\n",
       "Java Runtime: OpenJDK Runtime Environment\n",
       "JVM: OpenJDK 64-Bit Server VM\n",
       "Default Encoding: UTF-8\n",
       "Language: en\n",
       "Country: null\n",
       "--></g></svg>"
      ]
     },
     "execution_count": 34,
     "metadata": {},
     "output_type": "execute_result"
    }
   ],
   "source": [
    "%viz --style=\"PLANTUML\" --view=\"Action\" \"QualifiedNameImportTest\""
   ]
  },
  {
   "cell_type": "code",
   "execution_count": 35,
   "id": "c79cf71f",
   "metadata": {
    "execution": {
     "iopub.execute_input": "2022-07-23T10:54:02.984217Z",
     "iopub.status.busy": "2022-07-23T10:54:02.983691Z",
     "iopub.status.idle": "2022-07-23T10:54:02.989352Z",
     "shell.execute_reply": "2022-07-23T10:54:02.988966Z"
    }
   },
   "outputs": [
    {
     "data": {
      "image/svg+xml": [
       "<?xml version=\"1.0\" encoding=\"UTF-8\" standalone=\"no\"?><svg xmlns=\"http://www.w3.org/2000/svg\" xmlns:xlink=\"http://www.w3.org/1999/xlink\" contentScriptType=\"application/ecmascript\" contentStyleType=\"text/css\" height=\"12px\" preserveAspectRatio=\"none\" style=\"width:12px;height:12px;\" version=\"1.1\" viewBox=\"0 0 12 12\" width=\"12px\" zoomAndPan=\"magnify\"><defs/><g><!--MD5=[ca4faa0b02def275ea33c14ea7a1a98d]\n",
       "@startuml\r\n",
       "skinparam roundcorner 20\r\n",
       "skinparam BoxPadding 20\r\n",
       "skinparam SequenceBoxBackgroundColor #white\r\n",
       "skinparam style strictuml\r\n",
       "skinparam maxMessageSize 100\r\n",
       " \r\n",
       "@enduml\r\n",
       "\n",
       "PlantUML version 1.2020.13(Sat Jun 13 12:26:38 UTC 2020)\n",
       "(EPL source distribution)\n",
       "Java Runtime: OpenJDK Runtime Environment\n",
       "JVM: OpenJDK 64-Bit Server VM\n",
       "Default Encoding: UTF-8\n",
       "Language: en\n",
       "Country: null\n",
       "--></g></svg>"
      ]
     },
     "execution_count": 35,
     "metadata": {},
     "output_type": "execute_result"
    }
   ],
   "source": [
    "%viz --style=\"PLANTUML\" --view=\"Sequence\" \"QualifiedNameImportTest\""
   ]
  },
  {
   "cell_type": "code",
   "execution_count": 36,
   "id": "a7bf3e4e",
   "metadata": {
    "execution": {
     "iopub.execute_input": "2022-07-23T10:54:03.039149Z",
     "iopub.status.busy": "2022-07-23T10:54:03.038670Z",
     "iopub.status.idle": "2022-07-23T10:54:03.067480Z",
     "shell.execute_reply": "2022-07-23T10:54:03.067069Z"
    }
   },
   "outputs": [
    {
     "data": {
      "image/svg+xml": [
       "<?xml version=\"1.0\" encoding=\"UTF-8\" standalone=\"no\"?><svg xmlns=\"http://www.w3.org/2000/svg\" xmlns:xlink=\"http://www.w3.org/1999/xlink\" contentScriptType=\"application/ecmascript\" contentStyleType=\"text/css\" height=\"361px\" preserveAspectRatio=\"none\" style=\"width:267px;height:361px;\" version=\"1.1\" viewBox=\"0 0 267 361\" width=\"267px\" zoomAndPan=\"magnify\"><defs><filter height=\"300%\" id=\"f1n8qglahtsv88\" width=\"300%\" x=\"-1\" y=\"-1\"><feGaussianBlur result=\"blurOut\" stdDeviation=\"2.0\"/><feColorMatrix in=\"blurOut\" result=\"blurOut2\" type=\"matrix\" values=\"0 0 0 0 0 0 0 0 0 0 0 0 0 0 0 0 0 0 .4 0\"/><feOffset dx=\"4.0\" dy=\"4.0\" in=\"blurOut2\" result=\"blurOut3\"/><feBlend in=\"SourceGraphic\" in2=\"blurOut3\" mode=\"normal\"/></filter></defs><g><!--MD5=[fbc87193dbaf4d95561dea2c320d4a47]\n",
       "cluster E1--><a href=\"psysml:5126b6fb-a0df-489e-901c-12bad15fd52c\" target=\"_top\" title=\"psysml:5126b6fb-a0df-489e-901c-12bad15fd52c\" xlink:actuate=\"onRequest\" xlink:href=\"psysml:5126b6fb-a0df-489e-901c-12bad15fd52c\" xlink:show=\"new\" xlink:title=\"psysml:5126b6fb-a0df-489e-901c-12bad15fd52c\" xlink:type=\"simple\"><polygon fill=\"#FFFFFF\" filter=\"url(#f1n8qglahtsv88)\" points=\"16,6,196,6,203,28.2969,245,28.2969,245,349,16,349,16,6\" style=\"stroke: #000000; stroke-width: 1.5;\"/><line style=\"stroke: #000000; stroke-width: 1.5;\" x1=\"16\" x2=\"203\" y1=\"28.2969\" y2=\"28.2969\"/><text fill=\"#000000\" font-family=\"sans-serif\" font-size=\"14\" font-weight=\"bold\" lengthAdjust=\"spacingAndGlyphs\" textLength=\"174\" x=\"20\" y=\"20.9951\">QualifiedNameImportTest</text></a><!--MD5=[e4f7fae6ed58524ba242bb0b0d3be6b7]\n",
       "cluster E2--><a href=\"psysml:4671c392-f153-4102-94c6-e9de6b11f3b3\" target=\"_top\" title=\"psysml:4671c392-f153-4102-94c6-e9de6b11f3b3\" xlink:actuate=\"onRequest\" xlink:href=\"psysml:4671c392-f153-4102-94c6-e9de6b11f3b3\" xlink:show=\"new\" xlink:title=\"psysml:4671c392-f153-4102-94c6-e9de6b11f3b3\" xlink:type=\"simple\"><polygon fill=\"#FFFFFF\" filter=\"url(#f1n8qglahtsv88)\" points=\"55,210,79,210,86,232.2969,162,232.2969,162,317,55,317,55,210\" style=\"stroke: #000000; stroke-width: 1.5;\"/><line style=\"stroke: #000000; stroke-width: 1.5;\" x1=\"55\" x2=\"86\" y1=\"232.2969\" y2=\"232.2969\"/><text fill=\"#000000\" font-family=\"sans-serif\" font-size=\"14\" font-weight=\"bold\" lengthAdjust=\"spacingAndGlyphs\" textLength=\"18\" x=\"59\" y=\"224.9951\">P1</text></a><!--MD5=[f6df4d0ebaf0b5dfb2ced0ae5af7c670]\n",
       "cluster E4--><a href=\"psysml:b774f6e1-b4cc-4027-a413-e3d948253bea\" target=\"_top\" title=\"psysml:b774f6e1-b4cc-4027-a413-e3d948253bea\" xlink:actuate=\"onRequest\" xlink:href=\"psysml:b774f6e1-b4cc-4027-a413-e3d948253bea\" xlink:show=\"new\" xlink:title=\"psysml:b774f6e1-b4cc-4027-a413-e3d948253bea\" xlink:type=\"simple\"><polygon fill=\"#FFFFFF\" filter=\"url(#f1n8qglahtsv88)\" points=\"40,49,64,49,71,71.2969,221,71.2969,221,153,40,153,40,49\" style=\"stroke: #000000; stroke-width: 1.5;\"/><line style=\"stroke: #000000; stroke-width: 1.5;\" x1=\"40\" x2=\"71\" y1=\"71.2969\" y2=\"71.2969\"/><text fill=\"#000000\" font-family=\"sans-serif\" font-size=\"14\" font-weight=\"bold\" lengthAdjust=\"spacingAndGlyphs\" textLength=\"18\" x=\"44\" y=\"63.9951\">P2</text></a><!--MD5=[09b614a08d8cba4a07c9adeb5e0fee81]\n",
       "class E3--><a href=\"psysml:d43e5a90-a5b9-40ed-82e3-14a3538b6850\" target=\"_top\" title=\"psysml:d43e5a90-a5b9-40ed-82e3-14a3538b6850\" xlink:actuate=\"onRequest\" xlink:href=\"psysml:d43e5a90-a5b9-40ed-82e3-14a3538b6850\" xlink:show=\"new\" xlink:title=\"psysml:d43e5a90-a5b9-40ed-82e3-14a3538b6850\" xlink:type=\"simple\"><rect fill=\"#FEFECE\" filter=\"url(#f1n8qglahtsv88)\" height=\"40\" id=\"E3\" style=\"stroke: #A80036; stroke-width: 1.5;\" width=\"40\" x=\"79\" y=\"253\"/><ellipse cx=\"94\" cy=\"269\" fill=\"#008000\" rx=\"11\" ry=\"11\" style=\"stroke: #A80036; stroke-width: 1.0;\"/><path d=\"M90.875,274 L90.875,263.4063 L94.1094,263.4063 Q96.0156,263.4063 96.9219,264.1563 Q97.8438,264.9063 97.8438,266.0781 Q97.8438,266.7656 97.4531,267.4219 Q97.0781,268.0781 96.3594,268.375 Q97.2188,268.75 97.7344,269.4375 Q98.25,270.125 98.25,270.9375 Q98.25,272.3125 97.2188,273.1563 Q96.2031,274 94.0938,274 L90.875,274 Z M92.7969,267.6406 L93.9531,267.6406 Q95.0781,267.6406 95.4844,267.2656 Q95.9063,266.875 95.9063,266.25 Q95.9063,265.6719 95.4844,265.3125 Q95.0625,264.9531 94.125,264.9531 L92.7969,264.9531 L92.7969,267.6406 Z M92.7969,272.4219 L94.2969,272.4219 Q95.2031,272.4219 95.7344,272.0313 Q96.2656,271.6406 96.2656,270.8906 Q96.2656,270.125 95.7656,269.6563 Q95.2656,269.1719 94,269.1719 L92.7969,269.1719 L92.7969,272.4219 Z \"/><text fill=\"#000000\" font-family=\"sans-serif\" font-size=\"12\" lengthAdjust=\"spacingAndGlyphs\" textLength=\"8\" x=\"108\" y=\"273.1543\">A</text><line style=\"stroke: #A80036; stroke-width: 1.5;\" x1=\"80\" x2=\"118\" y1=\"285\" y2=\"285\"/></a><!--MD5=[60a26617385b1d2d0262a64233df1f8d]\n",
       "class E6--><a href=\"psysml:76906768-adb2-44e4-864a-c9b21a4611cd\" target=\"_top\" title=\"psysml:76906768-adb2-44e4-864a-c9b21a4611cd\" xlink:actuate=\"onRequest\" xlink:href=\"psysml:76906768-adb2-44e4-864a-c9b21a4611cd\" xlink:show=\"new\" xlink:title=\"psysml:76906768-adb2-44e4-864a-c9b21a4611cd\" xlink:type=\"simple\"><rect fill=\"#FEFECE\" filter=\"url(#f1n8qglahtsv88)\" height=\"45.9375\" id=\"E6\" rx=\"10\" ry=\"10\" style=\"stroke: #A80036; stroke-width: 1.5;\" width=\"68\" x=\"56\" y=\"87.5\"/><ellipse cx=\"71\" cy=\"106.4688\" fill=\"#32CD32\" rx=\"11\" ry=\"11\" style=\"stroke: #A80036; stroke-width: 1.0;\"/><path d=\"M67.8125,111.4688 L67.8125,100.875 L71.4219,100.875 Q72.6406,100.875 73.4375,101.3125 Q74.2344,101.7344 74.6094,102.4375 Q75,103.1406 75,103.9844 Q75,104.8281 74.625,105.5156 Q74.2656,106.2031 73.4688,106.625 Q72.6875,107.0313 71.5,107.0313 L69.7656,107.0313 L69.7656,111.4688 L67.8125,111.4688 Z M69.7656,105.4375 L71.375,105.4375 Q72.1875,105.4375 72.6094,105.0313 Q73.0313,104.625 73.0313,103.9844 Q73.0313,103.3594 72.6094,102.9531 Q72.1875,102.5469 71.3906,102.5469 L69.7656,102.5469 L69.7656,105.4375 Z \"/><text fill=\"#000000\" font-family=\"sans-serif\" font-size=\"12\" font-style=\"italic\" lengthAdjust=\"spacingAndGlyphs\" textLength=\"40\" x=\"83\" y=\"103.6387\">«part»</text><text fill=\"#000000\" font-family=\"sans-serif\" font-size=\"12\" lengthAdjust=\"spacingAndGlyphs\" textLength=\"22\" x=\"90\" y=\"117.6074\">x: A</text><line style=\"stroke: #A80036; stroke-width: 1.5;\" x1=\"57\" x2=\"123\" y1=\"125.4375\" y2=\"125.4375\"/></a><a href=\"psysml:c40d8d93-4b48-4997-9b6b-7328d49803fe\" target=\"_top\" title=\"psysml:c40d8d93-4b48-4997-9b6b-7328d49803fe\" xlink:actuate=\"onRequest\" xlink:href=\"psysml:c40d8d93-4b48-4997-9b6b-7328d49803fe\" xlink:show=\"new\" xlink:title=\"psysml:c40d8d93-4b48-4997-9b6b-7328d49803fe\" xlink:type=\"simple\"><polygon fill=\"#FFFFFF\" filter=\"url(#f1n8qglahtsv88)\" points=\"159,84,191,84,198,106.2969,205,106.2969,205,136.5938,159,136.5938,159,84\" style=\"stroke: #000000; stroke-width: 1.5;\"/><line style=\"stroke: #000000; stroke-width: 1.5;\" x1=\"159\" x2=\"198\" y1=\"106.2969\" y2=\"106.2969\"/><text fill=\"#000000\" font-family=\"sans-serif\" font-size=\"14\" font-weight=\"bold\" lengthAdjust=\"spacingAndGlyphs\" textLength=\"26\" x=\"163\" y=\"98.9951\">P2a</text></a><!--MD5=[15ebcb19ae302d9b601edb458606d402]\n",
       "link E5 to E2--><a href=\"psysml:9ee57c7f-7f65-4593-a505-e714f10a5bde\" target=\"_top\" title=\"psysml:9ee57c7f-7f65-4593-a505-e714f10a5bde\" xlink:actuate=\"onRequest\" xlink:href=\"psysml:9ee57c7f-7f65-4593-a505-e714f10a5bde\" xlink:show=\"new\" xlink:title=\"psysml:9ee57c7f-7f65-4593-a505-e714f10a5bde\" xlink:type=\"simple\"><path d=\"M177.5,137.29 C173.605,159.62 167.8525,192.6025 163.0138,220.3425 C162.7113,222.0763 162.4125,223.7895 162.1179,225.4784 C162.081,225.6895 162.0443,225.9003 162.0076,226.1106 \" fill=\"none\" id=\"E5-&gt;E2\" style=\"stroke: #A80036; stroke-width: 1.0; stroke-dasharray: 7.0,7.0;\"/><polygon fill=\"#A80036\" points=\"162.0076,226.1106,167.4947,217.9319,162.8668,221.185,159.6137,216.5571,162.0076,226.1106\" style=\"stroke: #A80036; stroke-width: 1.0;\"/><text fill=\"#000000\" font-family=\"sans-serif\" font-size=\"13\" lengthAdjust=\"spacingAndGlyphs\" textLength=\"65\" x=\"172\" y=\"182.0669\">«import»*</text></a><!--MD5=[a717450b82c80b9240a525fa862496af]\n",
       "link E6 to E3--><a href=\"psysml:79dc21aa-3f25-4d04-bc8e-220599d338b9\" target=\"_top\" title=\"psysml:79dc21aa-3f25-4d04-bc8e-220599d338b9\" xlink:actuate=\"onRequest\" xlink:href=\"psysml:79dc21aa-3f25-4d04-bc8e-220599d338b9\" xlink:show=\"new\" xlink:title=\"psysml:79dc21aa-3f25-4d04-bc8e-220599d338b9\" xlink:type=\"simple\"><path d=\"M91.25,133.82 C92.68,159.32 95.05,201.55 96.79,232.62 \" fill=\"none\" id=\"E6-&gt;E3\" style=\"stroke: #A80036; stroke-width: 1.0;\"/><polygon fill=\"#FFFFFF\" points=\"97.93,252.88,89.8824,234.2995,103.8607,233.5196,97.93,252.88\" style=\"stroke: #A80036; stroke-width: 1.0;\"/><ellipse cx=\"91.5618\" cy=\"228.4969\" fill=\"#A80036\" rx=\"2\" ry=\"2\" style=\"stroke: #A80036; stroke-width: 1.0;\"/><ellipse cx=\"101.5463\" cy=\"227.9398\" fill=\"#A80036\" rx=\"2\" ry=\"2\" style=\"stroke: #A80036; stroke-width: 1.0;\"/></a><!--MD5=[cbb079c38f88cbef5a50a8ed4bbe2093]\n",
       "@startuml\r\n",
       " \r\n",
       "package \"QualifiedNameImportTest\" as E1  [[psysml:5126b6fb-a0df-489e-901c-12bad15fd52c ]]  {\r\n",
       "package \"P1\" as E2  [[psysml:4671c392-f153-4102-94c6-e9de6b11f3b3 ]]  {\r\n",
       "comp def \"A\" as E3 << << (B,green) >> [[psysml:d43e5a90-a5b9-40ed-82e3-14a3538b6850 ]] {\r\n",
       "}\r\n",
       "}\r\n",
       "package \"P2\" as E4  [[psysml:b774f6e1-b4cc-4027-a413-e3d948253bea ]]  {\r\n",
       "package \"P2a\" as E5  [[psysml:c40d8d93-4b48-4997-9b6b-7328d49803fe ]]  {\r\n",
       "}\r\n",
       "comp usage \"x: A \" as E6 << << (P,limegreen) part>> [[psysml:76906768-adb2-44e4-864a-c9b21a4611cd ]] {\r\n",
       "}\r\n",
       "}\r\n",
       "}\r\n",
       "E5 ..> E2 [[psysml:9ee57c7f-7f65-4593-a505-e714f10a5bde ]] : <<import>>*\r\n",
       "E6 - -:|> E3 [[psysml:79dc21aa-3f25-4d04-bc8e-220599d338b9 ]] \r\n",
       "@enduml\r\n",
       "\n",
       "PlantUML version 1.2020.13(Sat Jun 13 12:26:38 UTC 2020)\n",
       "(EPL source distribution)\n",
       "Java Runtime: OpenJDK Runtime Environment\n",
       "JVM: OpenJDK 64-Bit Server VM\n",
       "Default Encoding: UTF-8\n",
       "Language: en\n",
       "Country: null\n",
       "--></g></svg>"
      ]
     },
     "execution_count": 36,
     "metadata": {},
     "output_type": "execute_result"
    }
   ],
   "source": [
    "%viz --style=\"PLANTUML\" --view=\"MIXED\" \"QualifiedNameImportTest\""
   ]
  },
  {
   "cell_type": "code",
   "execution_count": 37,
   "id": "ad1025a1",
   "metadata": {
    "execution": {
     "iopub.execute_input": "2022-07-23T10:54:03.117349Z",
     "iopub.status.busy": "2022-07-23T10:54:03.116897Z",
     "iopub.status.idle": "2022-07-23T10:54:03.145216Z",
     "shell.execute_reply": "2022-07-23T10:54:03.144806Z"
    }
   },
   "outputs": [
    {
     "data": {
      "image/svg+xml": [
       "<?xml version=\"1.0\" encoding=\"UTF-8\" standalone=\"no\"?><svg xmlns=\"http://www.w3.org/2000/svg\" xmlns:xlink=\"http://www.w3.org/1999/xlink\" contentScriptType=\"application/ecmascript\" contentStyleType=\"text/css\" height=\"367px\" preserveAspectRatio=\"none\" style=\"width:243px;height:367px;\" version=\"1.1\" viewBox=\"0 0 243 367\" width=\"243px\" zoomAndPan=\"magnify\"><defs/><g><!--MD5=[fbc87193dbaf4d95561dea2c320d4a47]\n",
       "cluster E1--><a href=\"psysml:5126b6fb-a0df-489e-901c-12bad15fd52c\" target=\"_top\" title=\"psysml:5126b6fb-a0df-489e-901c-12bad15fd52c\" xlink:actuate=\"onRequest\" xlink:href=\"psysml:5126b6fb-a0df-489e-901c-12bad15fd52c\" xlink:show=\"new\" xlink:title=\"psysml:5126b6fb-a0df-489e-901c-12bad15fd52c\" xlink:type=\"simple\"><polygon fill=\"#FFFFFF\" points=\"16,6,196,6,203,28.2969,219,28.2969,219,355,16,355,16,6\" style=\"stroke: #000000; stroke-width: 1.5;\"/><line style=\"stroke: #000000; stroke-width: 1.5;\" x1=\"16\" x2=\"203\" y1=\"28.2969\" y2=\"28.2969\"/><text fill=\"#000000\" font-family=\"sans-serif\" font-size=\"14\" font-weight=\"bold\" lengthAdjust=\"spacingAndGlyphs\" textLength=\"174\" x=\"20\" y=\"20.9951\">QualifiedNameImportTest</text></a><!--MD5=[e4f7fae6ed58524ba242bb0b0d3be6b7]\n",
       "cluster E2--><a href=\"psysml:4671c392-f153-4102-94c6-e9de6b11f3b3\" target=\"_top\" title=\"psysml:4671c392-f153-4102-94c6-e9de6b11f3b3\" xlink:actuate=\"onRequest\" xlink:href=\"psysml:4671c392-f153-4102-94c6-e9de6b11f3b3\" xlink:show=\"new\" xlink:title=\"psysml:4671c392-f153-4102-94c6-e9de6b11f3b3\" xlink:type=\"simple\"><polygon fill=\"#FFFFFF\" points=\"48,210,72,210,79,232.2969,185,232.2969,185,323,48,323,48,210\" style=\"stroke: #000000; stroke-width: 1.5;\"/><line style=\"stroke: #000000; stroke-width: 1.5;\" x1=\"48\" x2=\"79\" y1=\"232.2969\" y2=\"232.2969\"/><text fill=\"#000000\" font-family=\"sans-serif\" font-size=\"14\" font-weight=\"bold\" lengthAdjust=\"spacingAndGlyphs\" textLength=\"18\" x=\"52\" y=\"224.9951\">P1</text></a><!--MD5=[f6df4d0ebaf0b5dfb2ced0ae5af7c670]\n",
       "cluster E4--><a href=\"psysml:b774f6e1-b4cc-4027-a413-e3d948253bea\" target=\"_top\" title=\"psysml:b774f6e1-b4cc-4027-a413-e3d948253bea\" xlink:actuate=\"onRequest\" xlink:href=\"psysml:b774f6e1-b4cc-4027-a413-e3d948253bea\" xlink:show=\"new\" xlink:title=\"psysml:b774f6e1-b4cc-4027-a413-e3d948253bea\" xlink:type=\"simple\"><polygon fill=\"#FFFFFF\" points=\"40,49,64,49,71,71.2969,195,71.2969,195,153,40,153,40,49\" style=\"stroke: #000000; stroke-width: 1.5;\"/><line style=\"stroke: #000000; stroke-width: 1.5;\" x1=\"40\" x2=\"71\" y1=\"71.2969\" y2=\"71.2969\"/><text fill=\"#000000\" font-family=\"sans-serif\" font-size=\"14\" font-weight=\"bold\" lengthAdjust=\"spacingAndGlyphs\" textLength=\"18\" x=\"44\" y=\"63.9951\">P2</text></a><!--MD5=[09b614a08d8cba4a07c9adeb5e0fee81]\n",
       "class E3--><a href=\"psysml:d43e5a90-a5b9-40ed-82e3-14a3538b6850\" target=\"_top\" title=\"psysml:d43e5a90-a5b9-40ed-82e3-14a3538b6850\" xlink:actuate=\"onRequest\" xlink:href=\"psysml:d43e5a90-a5b9-40ed-82e3-14a3538b6850\" xlink:show=\"new\" xlink:title=\"psysml:d43e5a90-a5b9-40ed-82e3-14a3538b6850\" xlink:type=\"simple\"><rect fill=\"#FFFFFF\" height=\"45.9375\" id=\"E3\" style=\"stroke: #383838; stroke-width: 1.5;\" width=\"70\" x=\"72\" y=\"253\"/><text fill=\"#000000\" font-family=\"sans-serif\" font-size=\"12\" font-style=\"italic\" lengthAdjust=\"spacingAndGlyphs\" textLength=\"68\" x=\"73\" y=\"269.1387\">«part  def»</text><text fill=\"#000000\" font-family=\"sans-serif\" font-size=\"12\" lengthAdjust=\"spacingAndGlyphs\" textLength=\"8\" x=\"103\" y=\"283.1074\">A</text><line style=\"stroke: #383838; stroke-width: 1.5;\" x1=\"73\" x2=\"141\" y1=\"290.9375\" y2=\"290.9375\"/></a><!--MD5=[60a26617385b1d2d0262a64233df1f8d]\n",
       "class E6--><a href=\"psysml:76906768-adb2-44e4-864a-c9b21a4611cd\" target=\"_top\" title=\"psysml:76906768-adb2-44e4-864a-c9b21a4611cd\" xlink:actuate=\"onRequest\" xlink:href=\"psysml:76906768-adb2-44e4-864a-c9b21a4611cd\" xlink:show=\"new\" xlink:title=\"psysml:76906768-adb2-44e4-864a-c9b21a4611cd\" xlink:type=\"simple\"><rect fill=\"#FFFFFF\" height=\"45.9375\" id=\"E6\" rx=\"10\" ry=\"10\" style=\"stroke: #383838; stroke-width: 1.5;\" width=\"42\" x=\"56\" y=\"87.5\"/><text fill=\"#000000\" font-family=\"sans-serif\" font-size=\"12\" font-style=\"italic\" lengthAdjust=\"spacingAndGlyphs\" textLength=\"40\" x=\"57\" y=\"103.6387\">«part»</text><text fill=\"#000000\" font-family=\"sans-serif\" font-size=\"12\" lengthAdjust=\"spacingAndGlyphs\" textLength=\"22\" x=\"64\" y=\"117.6074\">x: A</text><line style=\"stroke: #383838; stroke-width: 1.5;\" x1=\"57\" x2=\"97\" y1=\"125.4375\" y2=\"125.4375\"/></a><a href=\"psysml:c40d8d93-4b48-4997-9b6b-7328d49803fe\" target=\"_top\" title=\"psysml:c40d8d93-4b48-4997-9b6b-7328d49803fe\" xlink:actuate=\"onRequest\" xlink:href=\"psysml:c40d8d93-4b48-4997-9b6b-7328d49803fe\" xlink:show=\"new\" xlink:title=\"psysml:c40d8d93-4b48-4997-9b6b-7328d49803fe\" xlink:type=\"simple\"><polygon fill=\"#FFFFFF\" points=\"133,84,165,84,172,106.2969,179,106.2969,179,136.5938,133,136.5938,133,84\" style=\"stroke: #000000; stroke-width: 1.5;\"/><line style=\"stroke: #000000; stroke-width: 1.5;\" x1=\"133\" x2=\"172\" y1=\"106.2969\" y2=\"106.2969\"/><text fill=\"#000000\" font-family=\"sans-serif\" font-size=\"14\" font-weight=\"bold\" lengthAdjust=\"spacingAndGlyphs\" textLength=\"26\" x=\"137\" y=\"98.9951\">P2a</text></a><!--MD5=[15ebcb19ae302d9b601edb458606d402]\n",
       "link E5 to E2--><a href=\"psysml:9ee57c7f-7f65-4593-a505-e714f10a5bde\" target=\"_top\" title=\"psysml:9ee57c7f-7f65-4593-a505-e714f10a5bde\" xlink:actuate=\"onRequest\" xlink:href=\"psysml:9ee57c7f-7f65-4593-a505-e714f10a5bde\" xlink:show=\"new\" xlink:title=\"psysml:9ee57c7f-7f65-4593-a505-e714f10a5bde\" xlink:type=\"simple\"><path d=\"M159.28,137.05 C160.735,148.365 162.5469,162.4656 164.4519,177.2955 C165.4044,184.7104 166.3802,192.3076 167.3463,199.8301 C167.5878,201.7107 167.8287,203.5867 168.0685,205.4539 C168.1884,206.3876 168.308,207.319 168.4273,208.2478 C168.4869,208.7122 168.5465,209.1759 168.6059,209.6389 \" fill=\"none\" id=\"E5-&gt;E2\" style=\"stroke: #383838; stroke-width: 1.0; stroke-dasharray: 7.0,7.0;\"/><polygon fill=\"#383838\" points=\"168.6059,209.6389,171.427,200.2027,167.9691,204.6796,163.4922,201.2217,168.6059,209.6389\" style=\"stroke: #383838; stroke-width: 1.0;\"/><text fill=\"#000000\" font-family=\"sans-serif\" font-size=\"13\" lengthAdjust=\"spacingAndGlyphs\" textLength=\"65\" x=\"166\" y=\"182.0669\">«import»*</text></a><!--MD5=[a717450b82c80b9240a525fa862496af]\n",
       "link E6 to E3--><a href=\"psysml:79dc21aa-3f25-4d04-bc8e-220599d338b9\" target=\"_top\" title=\"psysml:79dc21aa-3f25-4d04-bc8e-220599d338b9\" xlink:actuate=\"onRequest\" xlink:href=\"psysml:79dc21aa-3f25-4d04-bc8e-220599d338b9\" xlink:show=\"new\" xlink:title=\"psysml:79dc21aa-3f25-4d04-bc8e-220599d338b9\" xlink:type=\"simple\"><path d=\"M81.05,133.55 C85.7,158.9 93.44,201.1 99.26,232.83 \" fill=\"none\" id=\"E6-&gt;E3\" style=\"stroke: #383838; stroke-width: 1.0;\"/><polygon fill=\"#FFFFFF\" points=\"102.92,252.78,92.6018,235.3578,106.3713,232.8278,102.92,252.78\" style=\"stroke: #383838; stroke-width: 1.0;\"/><ellipse cx=\"93.5388\" cy=\"229.3902\" fill=\"#383838\" rx=\"2\" ry=\"2\" style=\"stroke: #383838; stroke-width: 1.0;\"/><ellipse cx=\"103.3742\" cy=\"227.5831\" fill=\"#383838\" rx=\"2\" ry=\"2\" style=\"stroke: #383838; stroke-width: 1.0;\"/></a><!--MD5=[782070f4152991f4c6c0bd07224a4c23]\n",
       "@startuml\r\n",
       "skinparam monochrome true\r\n",
       "skinparam classbackgroundcolor white\r\n",
       "skinparam shadowing false\r\n",
       "skinparam wrapWidth 300\r\n",
       "hide circle\r\n",
       "\r\n",
       "package \"QualifiedNameImportTest\" as E1  [[psysml:5126b6fb-a0df-489e-901c-12bad15fd52c ]]  {\r\n",
       "package \"P1\" as E2  [[psysml:4671c392-f153-4102-94c6-e9de6b11f3b3 ]]  {\r\n",
       "comp def \"A\" as E3  <<(T,blue) part  def>> [[psysml:d43e5a90-a5b9-40ed-82e3-14a3538b6850 ]] {\r\n",
       "}\r\n",
       "}\r\n",
       "package \"P2\" as E4  [[psysml:b774f6e1-b4cc-4027-a413-e3d948253bea ]]  {\r\n",
       "package \"P2a\" as E5  [[psysml:c40d8d93-4b48-4997-9b6b-7328d49803fe ]]  {\r\n",
       "}\r\n",
       "comp usage \"x: A \" as E6  <<(T,blue) part>> [[psysml:76906768-adb2-44e4-864a-c9b21a4611cd ]] {\r\n",
       "}\r\n",
       "}\r\n",
       "}\r\n",
       "E5 ..> E2 [[psysml:9ee57c7f-7f65-4593-a505-e714f10a5bde ]] : <<import>>*\r\n",
       "E6 - -:|> E3 [[psysml:79dc21aa-3f25-4d04-bc8e-220599d338b9 ]] \r\n",
       "@enduml\r\n",
       "\n",
       "PlantUML version 1.2020.13(Sat Jun 13 12:26:38 UTC 2020)\n",
       "(EPL source distribution)\n",
       "Java Runtime: OpenJDK Runtime Environment\n",
       "JVM: OpenJDK 64-Bit Server VM\n",
       "Default Encoding: UTF-8\n",
       "Language: en\n",
       "Country: null\n",
       "--></g></svg>"
      ]
     },
     "execution_count": 37,
     "metadata": {},
     "output_type": "execute_result"
    }
   ],
   "source": [
    "%viz --style=\"DEFAULT\" --view=\"Default\" \"QualifiedNameImportTest\""
   ]
  },
  {
   "cell_type": "code",
   "execution_count": 38,
   "id": "ae650a3f",
   "metadata": {
    "execution": {
     "iopub.execute_input": "2022-07-23T10:54:03.194917Z",
     "iopub.status.busy": "2022-07-23T10:54:03.194465Z",
     "iopub.status.idle": "2022-07-23T10:54:03.222464Z",
     "shell.execute_reply": "2022-07-23T10:54:03.222049Z"
    }
   },
   "outputs": [
    {
     "data": {
      "image/svg+xml": [
       "<?xml version=\"1.0\" encoding=\"UTF-8\" standalone=\"no\"?><svg xmlns=\"http://www.w3.org/2000/svg\" xmlns:xlink=\"http://www.w3.org/1999/xlink\" contentScriptType=\"application/ecmascript\" contentStyleType=\"text/css\" height=\"367px\" preserveAspectRatio=\"none\" style=\"width:243px;height:367px;\" version=\"1.1\" viewBox=\"0 0 243 367\" width=\"243px\" zoomAndPan=\"magnify\"><defs/><g><!--MD5=[fbc87193dbaf4d95561dea2c320d4a47]\n",
       "cluster E1--><a href=\"psysml:5126b6fb-a0df-489e-901c-12bad15fd52c\" target=\"_top\" title=\"psysml:5126b6fb-a0df-489e-901c-12bad15fd52c\" xlink:actuate=\"onRequest\" xlink:href=\"psysml:5126b6fb-a0df-489e-901c-12bad15fd52c\" xlink:show=\"new\" xlink:title=\"psysml:5126b6fb-a0df-489e-901c-12bad15fd52c\" xlink:type=\"simple\"><polygon fill=\"#FFFFFF\" points=\"16,6,196,6,203,28.2969,219,28.2969,219,355,16,355,16,6\" style=\"stroke: #000000; stroke-width: 1.5;\"/><line style=\"stroke: #000000; stroke-width: 1.5;\" x1=\"16\" x2=\"203\" y1=\"28.2969\" y2=\"28.2969\"/><text fill=\"#000000\" font-family=\"sans-serif\" font-size=\"14\" font-weight=\"bold\" lengthAdjust=\"spacingAndGlyphs\" textLength=\"174\" x=\"20\" y=\"20.9951\">QualifiedNameImportTest</text></a><!--MD5=[e4f7fae6ed58524ba242bb0b0d3be6b7]\n",
       "cluster E2--><a href=\"psysml:4671c392-f153-4102-94c6-e9de6b11f3b3\" target=\"_top\" title=\"psysml:4671c392-f153-4102-94c6-e9de6b11f3b3\" xlink:actuate=\"onRequest\" xlink:href=\"psysml:4671c392-f153-4102-94c6-e9de6b11f3b3\" xlink:show=\"new\" xlink:title=\"psysml:4671c392-f153-4102-94c6-e9de6b11f3b3\" xlink:type=\"simple\"><polygon fill=\"#FFFFFF\" points=\"48,210,72,210,79,232.2969,185,232.2969,185,323,48,323,48,210\" style=\"stroke: #000000; stroke-width: 1.5;\"/><line style=\"stroke: #000000; stroke-width: 1.5;\" x1=\"48\" x2=\"79\" y1=\"232.2969\" y2=\"232.2969\"/><text fill=\"#000000\" font-family=\"sans-serif\" font-size=\"14\" font-weight=\"bold\" lengthAdjust=\"spacingAndGlyphs\" textLength=\"18\" x=\"52\" y=\"224.9951\">P1</text></a><!--MD5=[f6df4d0ebaf0b5dfb2ced0ae5af7c670]\n",
       "cluster E4--><a href=\"psysml:b774f6e1-b4cc-4027-a413-e3d948253bea\" target=\"_top\" title=\"psysml:b774f6e1-b4cc-4027-a413-e3d948253bea\" xlink:actuate=\"onRequest\" xlink:href=\"psysml:b774f6e1-b4cc-4027-a413-e3d948253bea\" xlink:show=\"new\" xlink:title=\"psysml:b774f6e1-b4cc-4027-a413-e3d948253bea\" xlink:type=\"simple\"><polygon fill=\"#FFFFFF\" points=\"40,49,64,49,71,71.2969,195,71.2969,195,153,40,153,40,49\" style=\"stroke: #000000; stroke-width: 1.5;\"/><line style=\"stroke: #000000; stroke-width: 1.5;\" x1=\"40\" x2=\"71\" y1=\"71.2969\" y2=\"71.2969\"/><text fill=\"#000000\" font-family=\"sans-serif\" font-size=\"14\" font-weight=\"bold\" lengthAdjust=\"spacingAndGlyphs\" textLength=\"18\" x=\"44\" y=\"63.9951\">P2</text></a><!--MD5=[09b614a08d8cba4a07c9adeb5e0fee81]\n",
       "class E3--><a href=\"psysml:d43e5a90-a5b9-40ed-82e3-14a3538b6850\" target=\"_top\" title=\"psysml:d43e5a90-a5b9-40ed-82e3-14a3538b6850\" xlink:actuate=\"onRequest\" xlink:href=\"psysml:d43e5a90-a5b9-40ed-82e3-14a3538b6850\" xlink:show=\"new\" xlink:title=\"psysml:d43e5a90-a5b9-40ed-82e3-14a3538b6850\" xlink:type=\"simple\"><rect fill=\"#FFFFFF\" height=\"45.9375\" id=\"E3\" style=\"stroke: #383838; stroke-width: 1.5;\" width=\"70\" x=\"72\" y=\"253\"/><text fill=\"#000000\" font-family=\"sans-serif\" font-size=\"12\" font-style=\"italic\" lengthAdjust=\"spacingAndGlyphs\" textLength=\"68\" x=\"73\" y=\"269.1387\">«part  def»</text><text fill=\"#000000\" font-family=\"sans-serif\" font-size=\"12\" lengthAdjust=\"spacingAndGlyphs\" textLength=\"8\" x=\"103\" y=\"283.1074\">A</text><line style=\"stroke: #383838; stroke-width: 1.5;\" x1=\"73\" x2=\"141\" y1=\"290.9375\" y2=\"290.9375\"/></a><!--MD5=[60a26617385b1d2d0262a64233df1f8d]\n",
       "class E6--><a href=\"psysml:76906768-adb2-44e4-864a-c9b21a4611cd\" target=\"_top\" title=\"psysml:76906768-adb2-44e4-864a-c9b21a4611cd\" xlink:actuate=\"onRequest\" xlink:href=\"psysml:76906768-adb2-44e4-864a-c9b21a4611cd\" xlink:show=\"new\" xlink:title=\"psysml:76906768-adb2-44e4-864a-c9b21a4611cd\" xlink:type=\"simple\"><rect fill=\"#FFFFFF\" height=\"45.9375\" id=\"E6\" rx=\"10\" ry=\"10\" style=\"stroke: #383838; stroke-width: 1.5;\" width=\"42\" x=\"56\" y=\"87.5\"/><text fill=\"#000000\" font-family=\"sans-serif\" font-size=\"12\" font-style=\"italic\" lengthAdjust=\"spacingAndGlyphs\" textLength=\"40\" x=\"57\" y=\"103.6387\">«part»</text><text fill=\"#000000\" font-family=\"sans-serif\" font-size=\"12\" lengthAdjust=\"spacingAndGlyphs\" textLength=\"22\" x=\"64\" y=\"117.6074\">x: A</text><line style=\"stroke: #383838; stroke-width: 1.5;\" x1=\"57\" x2=\"97\" y1=\"125.4375\" y2=\"125.4375\"/></a><a href=\"psysml:c40d8d93-4b48-4997-9b6b-7328d49803fe\" target=\"_top\" title=\"psysml:c40d8d93-4b48-4997-9b6b-7328d49803fe\" xlink:actuate=\"onRequest\" xlink:href=\"psysml:c40d8d93-4b48-4997-9b6b-7328d49803fe\" xlink:show=\"new\" xlink:title=\"psysml:c40d8d93-4b48-4997-9b6b-7328d49803fe\" xlink:type=\"simple\"><polygon fill=\"#FFFFFF\" points=\"133,84,165,84,172,106.2969,179,106.2969,179,136.5938,133,136.5938,133,84\" style=\"stroke: #000000; stroke-width: 1.5;\"/><line style=\"stroke: #000000; stroke-width: 1.5;\" x1=\"133\" x2=\"172\" y1=\"106.2969\" y2=\"106.2969\"/><text fill=\"#000000\" font-family=\"sans-serif\" font-size=\"14\" font-weight=\"bold\" lengthAdjust=\"spacingAndGlyphs\" textLength=\"26\" x=\"137\" y=\"98.9951\">P2a</text></a><!--MD5=[15ebcb19ae302d9b601edb458606d402]\n",
       "link E5 to E2--><a href=\"psysml:9ee57c7f-7f65-4593-a505-e714f10a5bde\" target=\"_top\" title=\"psysml:9ee57c7f-7f65-4593-a505-e714f10a5bde\" xlink:actuate=\"onRequest\" xlink:href=\"psysml:9ee57c7f-7f65-4593-a505-e714f10a5bde\" xlink:show=\"new\" xlink:title=\"psysml:9ee57c7f-7f65-4593-a505-e714f10a5bde\" xlink:type=\"simple\"><path d=\"M159.28,137.05 C160.735,148.365 162.5469,162.4656 164.4519,177.2955 C165.4044,184.7104 166.3802,192.3076 167.3463,199.8301 C167.5878,201.7107 167.8287,203.5867 168.0685,205.4539 C168.1884,206.3876 168.308,207.319 168.4273,208.2478 C168.4869,208.7122 168.5465,209.1759 168.6059,209.6389 \" fill=\"none\" id=\"E5-&gt;E2\" style=\"stroke: #383838; stroke-width: 1.0; stroke-dasharray: 7.0,7.0;\"/><polygon fill=\"#383838\" points=\"168.6059,209.6389,171.427,200.2027,167.9691,204.6796,163.4922,201.2217,168.6059,209.6389\" style=\"stroke: #383838; stroke-width: 1.0;\"/><text fill=\"#000000\" font-family=\"sans-serif\" font-size=\"13\" lengthAdjust=\"spacingAndGlyphs\" textLength=\"65\" x=\"166\" y=\"182.0669\">«import»*</text></a><!--MD5=[a717450b82c80b9240a525fa862496af]\n",
       "link E6 to E3--><a href=\"psysml:79dc21aa-3f25-4d04-bc8e-220599d338b9\" target=\"_top\" title=\"psysml:79dc21aa-3f25-4d04-bc8e-220599d338b9\" xlink:actuate=\"onRequest\" xlink:href=\"psysml:79dc21aa-3f25-4d04-bc8e-220599d338b9\" xlink:show=\"new\" xlink:title=\"psysml:79dc21aa-3f25-4d04-bc8e-220599d338b9\" xlink:type=\"simple\"><path d=\"M81.05,133.55 C85.7,158.9 93.44,201.1 99.26,232.83 \" fill=\"none\" id=\"E6-&gt;E3\" style=\"stroke: #383838; stroke-width: 1.0;\"/><polygon fill=\"#FFFFFF\" points=\"102.92,252.78,92.6018,235.3578,106.3713,232.8278,102.92,252.78\" style=\"stroke: #383838; stroke-width: 1.0;\"/><ellipse cx=\"93.5388\" cy=\"229.3902\" fill=\"#383838\" rx=\"2\" ry=\"2\" style=\"stroke: #383838; stroke-width: 1.0;\"/><ellipse cx=\"103.3742\" cy=\"227.5831\" fill=\"#383838\" rx=\"2\" ry=\"2\" style=\"stroke: #383838; stroke-width: 1.0;\"/></a><!--MD5=[782070f4152991f4c6c0bd07224a4c23]\n",
       "@startuml\r\n",
       "skinparam monochrome true\r\n",
       "skinparam classbackgroundcolor white\r\n",
       "skinparam shadowing false\r\n",
       "skinparam wrapWidth 300\r\n",
       "hide circle\r\n",
       "\r\n",
       "package \"QualifiedNameImportTest\" as E1  [[psysml:5126b6fb-a0df-489e-901c-12bad15fd52c ]]  {\r\n",
       "package \"P1\" as E2  [[psysml:4671c392-f153-4102-94c6-e9de6b11f3b3 ]]  {\r\n",
       "comp def \"A\" as E3  <<(T,blue) part  def>> [[psysml:d43e5a90-a5b9-40ed-82e3-14a3538b6850 ]] {\r\n",
       "}\r\n",
       "}\r\n",
       "package \"P2\" as E4  [[psysml:b774f6e1-b4cc-4027-a413-e3d948253bea ]]  {\r\n",
       "package \"P2a\" as E5  [[psysml:c40d8d93-4b48-4997-9b6b-7328d49803fe ]]  {\r\n",
       "}\r\n",
       "comp usage \"x: A \" as E6  <<(T,blue) part>> [[psysml:76906768-adb2-44e4-864a-c9b21a4611cd ]] {\r\n",
       "}\r\n",
       "}\r\n",
       "}\r\n",
       "E5 ..> E2 [[psysml:9ee57c7f-7f65-4593-a505-e714f10a5bde ]] : <<import>>*\r\n",
       "E6 - -:|> E3 [[psysml:79dc21aa-3f25-4d04-bc8e-220599d338b9 ]] \r\n",
       "@enduml\r\n",
       "\n",
       "PlantUML version 1.2020.13(Sat Jun 13 12:26:38 UTC 2020)\n",
       "(EPL source distribution)\n",
       "Java Runtime: OpenJDK Runtime Environment\n",
       "JVM: OpenJDK 64-Bit Server VM\n",
       "Default Encoding: UTF-8\n",
       "Language: en\n",
       "Country: null\n",
       "--></g></svg>"
      ]
     },
     "execution_count": 38,
     "metadata": {},
     "output_type": "execute_result"
    }
   ],
   "source": [
    "%viz --style=\"DEFAULT\" --view=\"Tree\" \"QualifiedNameImportTest\""
   ]
  },
  {
   "cell_type": "code",
   "execution_count": 39,
   "id": "b8e7ba61",
   "metadata": {
    "execution": {
     "iopub.execute_input": "2022-07-23T10:54:03.272025Z",
     "iopub.status.busy": "2022-07-23T10:54:03.271572Z",
     "iopub.status.idle": "2022-07-23T10:54:03.275620Z",
     "shell.execute_reply": "2022-07-23T10:54:03.275941Z"
    }
   },
   "outputs": [
    {
     "data": {
      "image/svg+xml": [
       "<?xml version=\"1.0\" encoding=\"UTF-8\" standalone=\"no\"?><svg xmlns=\"http://www.w3.org/2000/svg\" xmlns:xlink=\"http://www.w3.org/1999/xlink\" contentScriptType=\"application/ecmascript\" contentStyleType=\"text/css\" height=\"12px\" preserveAspectRatio=\"none\" style=\"width:12px;height:12px;\" version=\"1.1\" viewBox=\"0 0 12 12\" width=\"12px\" zoomAndPan=\"magnify\"><defs/><g><!--MD5=[c5f280e076d0d61ccf4b0f27871bda1d]\n",
       "@startuml\r\n",
       "skinparam monochrome true\r\n",
       "skinparam classbackgroundcolor white\r\n",
       "skinparam shadowing false\r\n",
       "skinparam wrapWidth 300\r\n",
       "hide circle\r\n",
       "\r\n",
       "@enduml\r\n",
       "\n",
       "PlantUML version 1.2020.13(Sat Jun 13 12:26:38 UTC 2020)\n",
       "(EPL source distribution)\n",
       "Java Runtime: OpenJDK Runtime Environment\n",
       "JVM: OpenJDK 64-Bit Server VM\n",
       "Default Encoding: UTF-8\n",
       "Language: en\n",
       "Country: null\n",
       "--></g></svg>"
      ]
     },
     "execution_count": 39,
     "metadata": {},
     "output_type": "execute_result"
    }
   ],
   "source": [
    "%viz --style=\"DEFAULT\" --view=\"State\" \"QualifiedNameImportTest\""
   ]
  },
  {
   "cell_type": "code",
   "execution_count": 40,
   "id": "fda96195",
   "metadata": {
    "execution": {
     "iopub.execute_input": "2022-07-23T10:54:03.325956Z",
     "iopub.status.busy": "2022-07-23T10:54:03.325503Z",
     "iopub.status.idle": "2022-07-23T10:54:03.353159Z",
     "shell.execute_reply": "2022-07-23T10:54:03.352758Z"
    }
   },
   "outputs": [
    {
     "data": {
      "image/svg+xml": [
       "<?xml version=\"1.0\" encoding=\"UTF-8\" standalone=\"no\"?><svg xmlns=\"http://www.w3.org/2000/svg\" xmlns:xlink=\"http://www.w3.org/1999/xlink\" contentScriptType=\"application/ecmascript\" contentStyleType=\"text/css\" height=\"364px\" preserveAspectRatio=\"none\" style=\"width:249px;height:364px;\" version=\"1.1\" viewBox=\"0 0 249 364\" width=\"249px\" zoomAndPan=\"magnify\"><defs/><g><!--MD5=[fbc87193dbaf4d95561dea2c320d4a47]\n",
       "cluster E1--><a href=\"psysml:5126b6fb-a0df-489e-901c-12bad15fd52c\" target=\"_top\" title=\"psysml:5126b6fb-a0df-489e-901c-12bad15fd52c\" xlink:actuate=\"onRequest\" xlink:href=\"psysml:5126b6fb-a0df-489e-901c-12bad15fd52c\" xlink:show=\"new\" xlink:title=\"psysml:5126b6fb-a0df-489e-901c-12bad15fd52c\" xlink:type=\"simple\"><polygon fill=\"#FFFFFF\" points=\"16,6,196,6,203,28.2969,227,28.2969,227,352,16,352,16,6\" style=\"stroke: #000000; stroke-width: 1.5;\"/><line style=\"stroke: #000000; stroke-width: 1.5;\" x1=\"16\" x2=\"203\" y1=\"28.2969\" y2=\"28.2969\"/><text fill=\"#000000\" font-family=\"sans-serif\" font-size=\"14\" font-weight=\"bold\" lengthAdjust=\"spacingAndGlyphs\" textLength=\"174\" x=\"20\" y=\"20.9951\">QualifiedNameImportTest</text></a><!--MD5=[e4f7fae6ed58524ba242bb0b0d3be6b7]\n",
       "cluster E2--><a href=\"psysml:4671c392-f153-4102-94c6-e9de6b11f3b3\" target=\"_top\" title=\"psysml:4671c392-f153-4102-94c6-e9de6b11f3b3\" xlink:actuate=\"onRequest\" xlink:href=\"psysml:4671c392-f153-4102-94c6-e9de6b11f3b3\" xlink:show=\"new\" xlink:title=\"psysml:4671c392-f153-4102-94c6-e9de6b11f3b3\" xlink:type=\"simple\"><polygon fill=\"#FFFFFF\" points=\"53,210,77,210,84,232.2969,195,232.2969,195,320,53,320,53,210\" style=\"stroke: #000000; stroke-width: 1.5;\"/><line style=\"stroke: #000000; stroke-width: 1.5;\" x1=\"53\" x2=\"84\" y1=\"232.2969\" y2=\"232.2969\"/><text fill=\"#000000\" font-family=\"sans-serif\" font-size=\"14\" font-weight=\"bold\" lengthAdjust=\"spacingAndGlyphs\" textLength=\"18\" x=\"57\" y=\"224.9951\">P1</text></a><!--MD5=[f6df4d0ebaf0b5dfb2ced0ae5af7c670]\n",
       "cluster E4--><a href=\"psysml:b774f6e1-b4cc-4027-a413-e3d948253bea\" target=\"_top\" title=\"psysml:b774f6e1-b4cc-4027-a413-e3d948253bea\" xlink:actuate=\"onRequest\" xlink:href=\"psysml:b774f6e1-b4cc-4027-a413-e3d948253bea\" xlink:show=\"new\" xlink:title=\"psysml:b774f6e1-b4cc-4027-a413-e3d948253bea\" xlink:type=\"simple\"><polygon fill=\"#FFFFFF\" points=\"40,49,64,49,71,71.2969,203,71.2969,203,153,40,153,40,49\" style=\"stroke: #000000; stroke-width: 1.5;\"/><line style=\"stroke: #000000; stroke-width: 1.5;\" x1=\"40\" x2=\"71\" y1=\"71.2969\" y2=\"71.2969\"/><text fill=\"#000000\" font-family=\"sans-serif\" font-size=\"14\" font-weight=\"bold\" lengthAdjust=\"spacingAndGlyphs\" textLength=\"18\" x=\"44\" y=\"63.9951\">P2</text></a><g id=\"E1.E2.E3\"><a href=\"psysml:d43e5a90-a5b9-40ed-82e3-14a3538b6850\" target=\"_top\" title=\"psysml:d43e5a90-a5b9-40ed-82e3-14a3538b6850\" xlink:actuate=\"onRequest\" xlink:href=\"psysml:d43e5a90-a5b9-40ed-82e3-14a3538b6850\" xlink:show=\"new\" xlink:title=\"psysml:d43e5a90-a5b9-40ed-82e3-14a3538b6850\" xlink:type=\"simple\"><rect fill=\"#FFFFFF\" height=\"42.9375\" id=\"E3\" style=\"stroke: #383838; stroke-width: 1.5;\" width=\"75\" x=\"96.5\" y=\"253\"/><rect fill=\"#F8F8F8\" height=\"37.9375\" style=\"stroke: #383838; stroke-width: 1.5;\" width=\"75\" x=\"96.5\" y=\"253\"/><text fill=\"#000000\" font-family=\"sans-serif\" font-size=\"12\" font-style=\"italic\" lengthAdjust=\"spacingAndGlyphs\" textLength=\"68\" x=\"100\" y=\"269.1387\">«part  def»</text><text fill=\"#000000\" font-family=\"sans-serif\" font-size=\"12\" lengthAdjust=\"spacingAndGlyphs\" textLength=\"8\" x=\"130\" y=\"283.1074\">A</text></a></g><a href=\"psysml:c40d8d93-4b48-4997-9b6b-7328d49803fe\" target=\"_top\" title=\"psysml:c40d8d93-4b48-4997-9b6b-7328d49803fe\" xlink:actuate=\"onRequest\" xlink:href=\"psysml:c40d8d93-4b48-4997-9b6b-7328d49803fe\" xlink:show=\"new\" xlink:title=\"psysml:c40d8d93-4b48-4997-9b6b-7328d49803fe\" xlink:type=\"simple\"><polygon fill=\"#FFFFFF\" points=\"56,84,88,84,95,106.2969,102,106.2969,102,136.5938,56,136.5938,56,84\" style=\"stroke: #000000; stroke-width: 1.5;\"/><line style=\"stroke: #000000; stroke-width: 1.5;\" x1=\"56\" x2=\"95\" y1=\"106.2969\" y2=\"106.2969\"/><text fill=\"#000000\" font-family=\"sans-serif\" font-size=\"14\" font-weight=\"bold\" lengthAdjust=\"spacingAndGlyphs\" textLength=\"26\" x=\"60\" y=\"98.9951\">P2a</text></a><g id=\"E1.E4.E6\"><a href=\"psysml:76906768-adb2-44e4-864a-c9b21a4611cd\" target=\"_top\" title=\"psysml:76906768-adb2-44e4-864a-c9b21a4611cd\" xlink:actuate=\"onRequest\" xlink:href=\"psysml:76906768-adb2-44e4-864a-c9b21a4611cd\" xlink:show=\"new\" xlink:title=\"psysml:76906768-adb2-44e4-864a-c9b21a4611cd\" xlink:type=\"simple\"><rect fill=\"#FFFFFF\" height=\"40\" id=\"E6\" rx=\"10\" ry=\"10\" style=\"stroke: #383838; stroke-width: 1.5;\" width=\"50\" x=\"137\" y=\"90.5\"/><rect fill=\"#F8F8F8\" height=\"23.9688\" rx=\"10\" ry=\"10\" style=\"stroke: #F8F8F8; stroke-width: 1.5;\" width=\"50\" x=\"137\" y=\"90.5\"/><rect fill=\"#F8F8F8\" height=\"10\" style=\"stroke: #F8F8F8; stroke-width: 1.5;\" width=\"50\" x=\"137\" y=\"104.4688\"/><rect fill=\"none\" height=\"40\" id=\"E6\" rx=\"10\" ry=\"10\" style=\"stroke: #383838; stroke-width: 1.5;\" width=\"50\" x=\"137\" y=\"90.5\"/><text fill=\"#000000\" font-family=\"sans-serif\" font-size=\"12\" lengthAdjust=\"spacingAndGlyphs\" textLength=\"22\" x=\"151\" y=\"106.6387\">x: A</text></a></g><!--MD5=[15ebcb19ae302d9b601edb458606d402]\n",
       "link E5 to E2--><a href=\"psysml:9ee57c7f-7f65-4593-a505-e714f10a5bde\" target=\"_top\" title=\"psysml:9ee57c7f-7f65-4593-a505-e714f10a5bde\" xlink:actuate=\"onRequest\" xlink:href=\"psysml:9ee57c7f-7f65-4593-a505-e714f10a5bde\" xlink:show=\"new\" xlink:title=\"psysml:9ee57c7f-7f65-4593-a505-e714f10a5bde\" xlink:type=\"simple\"><path d=\"M76.15,137.17 C74.9,148.4125 73.3475,162.3781 71.7172,177.0456 C70.902,184.3794 70.0674,191.8886 69.2414,199.3206 C69.035,201.1786 68.829,203.0318 68.624,204.8762 C68.5215,205.7984 68.4193,206.7184 68.3173,207.6358 C68.2664,208.0944 68.2155,208.5524 68.1647,209.0097 C68.1393,209.2383 68.1139,209.4668 68.0885,209.695 \" fill=\"none\" id=\"E5-&gt;E2\" style=\"stroke: #383838; stroke-width: 1.0; stroke-dasharray: 7.0,7.0;\"/><polygon fill=\"#383838\" points=\"68.0885,209.695,73.0581,201.1919,68.6408,204.7256,65.107,200.3083,68.0885,209.695\" style=\"stroke: #383838; stroke-width: 1.0;\"/><text fill=\"#000000\" font-family=\"sans-serif\" font-size=\"13\" lengthAdjust=\"spacingAndGlyphs\" textLength=\"65\" x=\"73\" y=\"182.0669\">«import»*</text></a><!--MD5=[a717450b82c80b9240a525fa862496af]\n",
       "link E6 to E3--><a href=\"psysml:79dc21aa-3f25-4d04-bc8e-220599d338b9\" target=\"_top\" title=\"psysml:79dc21aa-3f25-4d04-bc8e-220599d338b9\" xlink:actuate=\"onRequest\" xlink:href=\"psysml:79dc21aa-3f25-4d04-bc8e-220599d338b9\" xlink:show=\"new\" xlink:title=\"psysml:79dc21aa-3f25-4d04-bc8e-220599d338b9\" xlink:type=\"simple\"><path d=\"M158.68,130.72 C154.35,155.76 146.67,200.21 141.02,232.87 \" fill=\"none\" id=\"E6-&gt;E3\" style=\"stroke: #383838; stroke-width: 1.0;\"/><polygon fill=\"#FFFFFF\" points=\"137.58,252.77,133.925,232.8542,147.7196,235.2432,137.58,252.77\" style=\"stroke: #383838; stroke-width: 1.0;\"/><ellipse cx=\"136.8683\" cy=\"227.5791\" fill=\"#383838\" rx=\"2\" ry=\"2\" style=\"stroke: #383838; stroke-width: 1.0;\"/><ellipse cx=\"146.7217\" cy=\"229.2855\" fill=\"#383838\" rx=\"2\" ry=\"2\" style=\"stroke: #383838; stroke-width: 1.0;\"/></a><!--MD5=[70c8430cd8d22e2a51930591713e344a]\n",
       "@startuml\r\n",
       "skinparam ranksep 10\r\n",
       "skinparam rectangle {\r\n",
       " backgroundColor<<block>> LightGreen\r\n",
       "}\r\n",
       "skinparam monochrome true\r\n",
       "skinparam classbackgroundcolor white\r\n",
       "skinparam shadowing false\r\n",
       "skinparam wrapWidth 300\r\n",
       "hide circle\r\n",
       "\r\n",
       "package \"QualifiedNameImportTest\" as E1  [[psysml:5126b6fb-a0df-489e-901c-12bad15fd52c ]]  {\r\n",
       "package \"P1\" as E2  [[psysml:4671c392-f153-4102-94c6-e9de6b11f3b3 ]]  {\r\n",
       "rec def \"A\" as E3  <<(T,blue) part  def>> [[psysml:d43e5a90-a5b9-40ed-82e3-14a3538b6850 ]] {\r\n",
       "}\r\n",
       "}\r\n",
       "package \"P2\" as E4  [[psysml:b774f6e1-b4cc-4027-a413-e3d948253bea ]]  {\r\n",
       "package \"P2a\" as E5  [[psysml:c40d8d93-4b48-4997-9b6b-7328d49803fe ]]  {\r\n",
       "}\r\n",
       "rec usage \"x: A\" as E6  [[psysml:76906768-adb2-44e4-864a-c9b21a4611cd ]] {\r\n",
       "}\r\n",
       "}\r\n",
       "}\r\n",
       "E5 ..> E2 [[psysml:9ee57c7f-7f65-4593-a505-e714f10a5bde ]] : <<import>>*\r\n",
       "E6 - -:|> E3 [[psysml:79dc21aa-3f25-4d04-bc8e-220599d338b9 ]] \r\n",
       "@enduml\r\n",
       "\n",
       "PlantUML version 1.2020.13(Sat Jun 13 12:26:38 UTC 2020)\n",
       "(EPL source distribution)\n",
       "Java Runtime: OpenJDK Runtime Environment\n",
       "JVM: OpenJDK 64-Bit Server VM\n",
       "Default Encoding: UTF-8\n",
       "Language: en\n",
       "Country: null\n",
       "--></g></svg>"
      ]
     },
     "execution_count": 40,
     "metadata": {},
     "output_type": "execute_result"
    }
   ],
   "source": [
    "%viz --style=\"DEFAULT\" --view=\"Interconnection\" \"QualifiedNameImportTest\""
   ]
  },
  {
   "cell_type": "code",
   "execution_count": 41,
   "id": "090d39f6",
   "metadata": {
    "execution": {
     "iopub.execute_input": "2022-07-23T10:54:03.402929Z",
     "iopub.status.busy": "2022-07-23T10:54:03.402481Z",
     "iopub.status.idle": "2022-07-23T10:54:03.407129Z",
     "shell.execute_reply": "2022-07-23T10:54:03.407423Z"
    }
   },
   "outputs": [
    {
     "data": {
      "image/svg+xml": [
       "<?xml version=\"1.0\" encoding=\"UTF-8\" standalone=\"no\"?><svg xmlns=\"http://www.w3.org/2000/svg\" xmlns:xlink=\"http://www.w3.org/1999/xlink\" contentScriptType=\"application/ecmascript\" contentStyleType=\"text/css\" height=\"12px\" preserveAspectRatio=\"none\" style=\"width:12px;height:12px;\" version=\"1.1\" viewBox=\"0 0 12 12\" width=\"12px\" zoomAndPan=\"magnify\"><defs/><g><!--MD5=[388f21188e31bfdd97050473b19af356]\n",
       "@startuml\r\n",
       "skinparam ranksep 8\r\n",
       "skinparam monochrome true\r\n",
       "skinparam classbackgroundcolor white\r\n",
       "skinparam shadowing false\r\n",
       "skinparam wrapWidth 300\r\n",
       "hide circle\r\n",
       "\r\n",
       "@enduml\r\n",
       "\n",
       "PlantUML version 1.2020.13(Sat Jun 13 12:26:38 UTC 2020)\n",
       "(EPL source distribution)\n",
       "Java Runtime: OpenJDK Runtime Environment\n",
       "JVM: OpenJDK 64-Bit Server VM\n",
       "Default Encoding: UTF-8\n",
       "Language: en\n",
       "Country: null\n",
       "--></g></svg>"
      ]
     },
     "execution_count": 41,
     "metadata": {},
     "output_type": "execute_result"
    }
   ],
   "source": [
    "%viz --style=\"DEFAULT\" --view=\"Action\" \"QualifiedNameImportTest\""
   ]
  },
  {
   "cell_type": "code",
   "execution_count": 42,
   "id": "cfebeaed",
   "metadata": {
    "execution": {
     "iopub.execute_input": "2022-07-23T10:54:03.457519Z",
     "iopub.status.busy": "2022-07-23T10:54:03.457071Z",
     "iopub.status.idle": "2022-07-23T10:54:03.462075Z",
     "shell.execute_reply": "2022-07-23T10:54:03.462393Z"
    }
   },
   "outputs": [
    {
     "data": {
      "image/svg+xml": [
       "<?xml version=\"1.0\" encoding=\"UTF-8\" standalone=\"no\"?><svg xmlns=\"http://www.w3.org/2000/svg\" xmlns:xlink=\"http://www.w3.org/1999/xlink\" contentScriptType=\"application/ecmascript\" contentStyleType=\"text/css\" height=\"12px\" preserveAspectRatio=\"none\" style=\"width:12px;height:12px;\" version=\"1.1\" viewBox=\"0 0 12 12\" width=\"12px\" zoomAndPan=\"magnify\"><defs/><g><!--MD5=[0b72472770326784bf6c2b53246e1e64]\n",
       "@startuml\r\n",
       "skinparam roundcorner 20\r\n",
       "skinparam BoxPadding 20\r\n",
       "skinparam SequenceBoxBackgroundColor #white\r\n",
       "skinparam style strictuml\r\n",
       "skinparam maxMessageSize 100\r\n",
       "skinparam monochrome true\r\n",
       "skinparam classbackgroundcolor white\r\n",
       "skinparam shadowing false\r\n",
       "skinparam wrapWidth 300\r\n",
       "hide circle\r\n",
       "\r\n",
       "@enduml\r\n",
       "\n",
       "PlantUML version 1.2020.13(Sat Jun 13 12:26:38 UTC 2020)\n",
       "(EPL source distribution)\n",
       "Java Runtime: OpenJDK Runtime Environment\n",
       "JVM: OpenJDK 64-Bit Server VM\n",
       "Default Encoding: UTF-8\n",
       "Language: en\n",
       "Country: null\n",
       "--></g></svg>"
      ]
     },
     "execution_count": 42,
     "metadata": {},
     "output_type": "execute_result"
    }
   ],
   "source": [
    "%viz --style=\"DEFAULT\" --view=\"Sequence\" \"QualifiedNameImportTest\""
   ]
  },
  {
   "cell_type": "code",
   "execution_count": 43,
   "id": "46b7acea",
   "metadata": {
    "execution": {
     "iopub.execute_input": "2022-07-23T10:54:03.512411Z",
     "iopub.status.busy": "2022-07-23T10:54:03.511958Z",
     "iopub.status.idle": "2022-07-23T10:54:03.539826Z",
     "shell.execute_reply": "2022-07-23T10:54:03.539417Z"
    }
   },
   "outputs": [
    {
     "data": {
      "image/svg+xml": [
       "<?xml version=\"1.0\" encoding=\"UTF-8\" standalone=\"no\"?><svg xmlns=\"http://www.w3.org/2000/svg\" xmlns:xlink=\"http://www.w3.org/1999/xlink\" contentScriptType=\"application/ecmascript\" contentStyleType=\"text/css\" height=\"367px\" preserveAspectRatio=\"none\" style=\"width:243px;height:367px;\" version=\"1.1\" viewBox=\"0 0 243 367\" width=\"243px\" zoomAndPan=\"magnify\"><defs/><g><!--MD5=[fbc87193dbaf4d95561dea2c320d4a47]\n",
       "cluster E1--><a href=\"psysml:5126b6fb-a0df-489e-901c-12bad15fd52c\" target=\"_top\" title=\"psysml:5126b6fb-a0df-489e-901c-12bad15fd52c\" xlink:actuate=\"onRequest\" xlink:href=\"psysml:5126b6fb-a0df-489e-901c-12bad15fd52c\" xlink:show=\"new\" xlink:title=\"psysml:5126b6fb-a0df-489e-901c-12bad15fd52c\" xlink:type=\"simple\"><polygon fill=\"#FFFFFF\" points=\"16,6,196,6,203,28.2969,219,28.2969,219,355,16,355,16,6\" style=\"stroke: #000000; stroke-width: 1.5;\"/><line style=\"stroke: #000000; stroke-width: 1.5;\" x1=\"16\" x2=\"203\" y1=\"28.2969\" y2=\"28.2969\"/><text fill=\"#000000\" font-family=\"sans-serif\" font-size=\"14\" font-weight=\"bold\" lengthAdjust=\"spacingAndGlyphs\" textLength=\"174\" x=\"20\" y=\"20.9951\">QualifiedNameImportTest</text></a><!--MD5=[e4f7fae6ed58524ba242bb0b0d3be6b7]\n",
       "cluster E2--><a href=\"psysml:4671c392-f153-4102-94c6-e9de6b11f3b3\" target=\"_top\" title=\"psysml:4671c392-f153-4102-94c6-e9de6b11f3b3\" xlink:actuate=\"onRequest\" xlink:href=\"psysml:4671c392-f153-4102-94c6-e9de6b11f3b3\" xlink:show=\"new\" xlink:title=\"psysml:4671c392-f153-4102-94c6-e9de6b11f3b3\" xlink:type=\"simple\"><polygon fill=\"#FFFFFF\" points=\"48,210,72,210,79,232.2969,185,232.2969,185,323,48,323,48,210\" style=\"stroke: #000000; stroke-width: 1.5;\"/><line style=\"stroke: #000000; stroke-width: 1.5;\" x1=\"48\" x2=\"79\" y1=\"232.2969\" y2=\"232.2969\"/><text fill=\"#000000\" font-family=\"sans-serif\" font-size=\"14\" font-weight=\"bold\" lengthAdjust=\"spacingAndGlyphs\" textLength=\"18\" x=\"52\" y=\"224.9951\">P1</text></a><!--MD5=[f6df4d0ebaf0b5dfb2ced0ae5af7c670]\n",
       "cluster E4--><a href=\"psysml:b774f6e1-b4cc-4027-a413-e3d948253bea\" target=\"_top\" title=\"psysml:b774f6e1-b4cc-4027-a413-e3d948253bea\" xlink:actuate=\"onRequest\" xlink:href=\"psysml:b774f6e1-b4cc-4027-a413-e3d948253bea\" xlink:show=\"new\" xlink:title=\"psysml:b774f6e1-b4cc-4027-a413-e3d948253bea\" xlink:type=\"simple\"><polygon fill=\"#FFFFFF\" points=\"40,49,64,49,71,71.2969,195,71.2969,195,153,40,153,40,49\" style=\"stroke: #000000; stroke-width: 1.5;\"/><line style=\"stroke: #000000; stroke-width: 1.5;\" x1=\"40\" x2=\"71\" y1=\"71.2969\" y2=\"71.2969\"/><text fill=\"#000000\" font-family=\"sans-serif\" font-size=\"14\" font-weight=\"bold\" lengthAdjust=\"spacingAndGlyphs\" textLength=\"18\" x=\"44\" y=\"63.9951\">P2</text></a><!--MD5=[09b614a08d8cba4a07c9adeb5e0fee81]\n",
       "class E3--><a href=\"psysml:d43e5a90-a5b9-40ed-82e3-14a3538b6850\" target=\"_top\" title=\"psysml:d43e5a90-a5b9-40ed-82e3-14a3538b6850\" xlink:actuate=\"onRequest\" xlink:href=\"psysml:d43e5a90-a5b9-40ed-82e3-14a3538b6850\" xlink:show=\"new\" xlink:title=\"psysml:d43e5a90-a5b9-40ed-82e3-14a3538b6850\" xlink:type=\"simple\"><rect fill=\"#FFFFFF\" height=\"45.9375\" id=\"E3\" style=\"stroke: #383838; stroke-width: 1.5;\" width=\"70\" x=\"72\" y=\"253\"/><text fill=\"#000000\" font-family=\"sans-serif\" font-size=\"12\" font-style=\"italic\" lengthAdjust=\"spacingAndGlyphs\" textLength=\"68\" x=\"73\" y=\"269.1387\">«part  def»</text><text fill=\"#000000\" font-family=\"sans-serif\" font-size=\"12\" lengthAdjust=\"spacingAndGlyphs\" textLength=\"8\" x=\"103\" y=\"283.1074\">A</text><line style=\"stroke: #383838; stroke-width: 1.5;\" x1=\"73\" x2=\"141\" y1=\"290.9375\" y2=\"290.9375\"/></a><!--MD5=[60a26617385b1d2d0262a64233df1f8d]\n",
       "class E6--><a href=\"psysml:76906768-adb2-44e4-864a-c9b21a4611cd\" target=\"_top\" title=\"psysml:76906768-adb2-44e4-864a-c9b21a4611cd\" xlink:actuate=\"onRequest\" xlink:href=\"psysml:76906768-adb2-44e4-864a-c9b21a4611cd\" xlink:show=\"new\" xlink:title=\"psysml:76906768-adb2-44e4-864a-c9b21a4611cd\" xlink:type=\"simple\"><rect fill=\"#FFFFFF\" height=\"45.9375\" id=\"E6\" rx=\"10\" ry=\"10\" style=\"stroke: #383838; stroke-width: 1.5;\" width=\"42\" x=\"56\" y=\"87.5\"/><text fill=\"#000000\" font-family=\"sans-serif\" font-size=\"12\" font-style=\"italic\" lengthAdjust=\"spacingAndGlyphs\" textLength=\"40\" x=\"57\" y=\"103.6387\">«part»</text><text fill=\"#000000\" font-family=\"sans-serif\" font-size=\"12\" lengthAdjust=\"spacingAndGlyphs\" textLength=\"22\" x=\"64\" y=\"117.6074\">x: A</text><line style=\"stroke: #383838; stroke-width: 1.5;\" x1=\"57\" x2=\"97\" y1=\"125.4375\" y2=\"125.4375\"/></a><a href=\"psysml:c40d8d93-4b48-4997-9b6b-7328d49803fe\" target=\"_top\" title=\"psysml:c40d8d93-4b48-4997-9b6b-7328d49803fe\" xlink:actuate=\"onRequest\" xlink:href=\"psysml:c40d8d93-4b48-4997-9b6b-7328d49803fe\" xlink:show=\"new\" xlink:title=\"psysml:c40d8d93-4b48-4997-9b6b-7328d49803fe\" xlink:type=\"simple\"><polygon fill=\"#FFFFFF\" points=\"133,84,165,84,172,106.2969,179,106.2969,179,136.5938,133,136.5938,133,84\" style=\"stroke: #000000; stroke-width: 1.5;\"/><line style=\"stroke: #000000; stroke-width: 1.5;\" x1=\"133\" x2=\"172\" y1=\"106.2969\" y2=\"106.2969\"/><text fill=\"#000000\" font-family=\"sans-serif\" font-size=\"14\" font-weight=\"bold\" lengthAdjust=\"spacingAndGlyphs\" textLength=\"26\" x=\"137\" y=\"98.9951\">P2a</text></a><!--MD5=[15ebcb19ae302d9b601edb458606d402]\n",
       "link E5 to E2--><a href=\"psysml:9ee57c7f-7f65-4593-a505-e714f10a5bde\" target=\"_top\" title=\"psysml:9ee57c7f-7f65-4593-a505-e714f10a5bde\" xlink:actuate=\"onRequest\" xlink:href=\"psysml:9ee57c7f-7f65-4593-a505-e714f10a5bde\" xlink:show=\"new\" xlink:title=\"psysml:9ee57c7f-7f65-4593-a505-e714f10a5bde\" xlink:type=\"simple\"><path d=\"M159.28,137.05 C160.735,148.365 162.5469,162.4656 164.4519,177.2955 C165.4044,184.7104 166.3802,192.3076 167.3463,199.8301 C167.5878,201.7107 167.8287,203.5867 168.0685,205.4539 C168.1884,206.3876 168.308,207.319 168.4273,208.2478 C168.4869,208.7122 168.5465,209.1759 168.6059,209.6389 \" fill=\"none\" id=\"E5-&gt;E2\" style=\"stroke: #383838; stroke-width: 1.0; stroke-dasharray: 7.0,7.0;\"/><polygon fill=\"#383838\" points=\"168.6059,209.6389,171.427,200.2027,167.9691,204.6796,163.4922,201.2217,168.6059,209.6389\" style=\"stroke: #383838; stroke-width: 1.0;\"/><text fill=\"#000000\" font-family=\"sans-serif\" font-size=\"13\" lengthAdjust=\"spacingAndGlyphs\" textLength=\"65\" x=\"166\" y=\"182.0669\">«import»*</text></a><!--MD5=[a717450b82c80b9240a525fa862496af]\n",
       "link E6 to E3--><a href=\"psysml:79dc21aa-3f25-4d04-bc8e-220599d338b9\" target=\"_top\" title=\"psysml:79dc21aa-3f25-4d04-bc8e-220599d338b9\" xlink:actuate=\"onRequest\" xlink:href=\"psysml:79dc21aa-3f25-4d04-bc8e-220599d338b9\" xlink:show=\"new\" xlink:title=\"psysml:79dc21aa-3f25-4d04-bc8e-220599d338b9\" xlink:type=\"simple\"><path d=\"M81.05,133.55 C85.7,158.9 93.44,201.1 99.26,232.83 \" fill=\"none\" id=\"E6-&gt;E3\" style=\"stroke: #383838; stroke-width: 1.0;\"/><polygon fill=\"#FFFFFF\" points=\"102.92,252.78,92.6018,235.3578,106.3713,232.8278,102.92,252.78\" style=\"stroke: #383838; stroke-width: 1.0;\"/><ellipse cx=\"93.5388\" cy=\"229.3902\" fill=\"#383838\" rx=\"2\" ry=\"2\" style=\"stroke: #383838; stroke-width: 1.0;\"/><ellipse cx=\"103.3742\" cy=\"227.5831\" fill=\"#383838\" rx=\"2\" ry=\"2\" style=\"stroke: #383838; stroke-width: 1.0;\"/></a><!--MD5=[782070f4152991f4c6c0bd07224a4c23]\n",
       "@startuml\r\n",
       "skinparam monochrome true\r\n",
       "skinparam classbackgroundcolor white\r\n",
       "skinparam shadowing false\r\n",
       "skinparam wrapWidth 300\r\n",
       "hide circle\r\n",
       "\r\n",
       "package \"QualifiedNameImportTest\" as E1  [[psysml:5126b6fb-a0df-489e-901c-12bad15fd52c ]]  {\r\n",
       "package \"P1\" as E2  [[psysml:4671c392-f153-4102-94c6-e9de6b11f3b3 ]]  {\r\n",
       "comp def \"A\" as E3  <<(T,blue) part  def>> [[psysml:d43e5a90-a5b9-40ed-82e3-14a3538b6850 ]] {\r\n",
       "}\r\n",
       "}\r\n",
       "package \"P2\" as E4  [[psysml:b774f6e1-b4cc-4027-a413-e3d948253bea ]]  {\r\n",
       "package \"P2a\" as E5  [[psysml:c40d8d93-4b48-4997-9b6b-7328d49803fe ]]  {\r\n",
       "}\r\n",
       "comp usage \"x: A \" as E6  <<(T,blue) part>> [[psysml:76906768-adb2-44e4-864a-c9b21a4611cd ]] {\r\n",
       "}\r\n",
       "}\r\n",
       "}\r\n",
       "E5 ..> E2 [[psysml:9ee57c7f-7f65-4593-a505-e714f10a5bde ]] : <<import>>*\r\n",
       "E6 - -:|> E3 [[psysml:79dc21aa-3f25-4d04-bc8e-220599d338b9 ]] \r\n",
       "@enduml\r\n",
       "\n",
       "PlantUML version 1.2020.13(Sat Jun 13 12:26:38 UTC 2020)\n",
       "(EPL source distribution)\n",
       "Java Runtime: OpenJDK Runtime Environment\n",
       "JVM: OpenJDK 64-Bit Server VM\n",
       "Default Encoding: UTF-8\n",
       "Language: en\n",
       "Country: null\n",
       "--></g></svg>"
      ]
     },
     "execution_count": 43,
     "metadata": {},
     "output_type": "execute_result"
    }
   ],
   "source": [
    "%viz --style=\"DEFAULT\" --view=\"MIXED\" \"QualifiedNameImportTest\""
   ]
  },
  {
   "cell_type": "code",
   "execution_count": 44,
   "id": "2486b42b",
   "metadata": {
    "execution": {
     "iopub.execute_input": "2022-07-23T10:54:03.589735Z",
     "iopub.status.busy": "2022-07-23T10:54:03.589286Z",
     "iopub.status.idle": "2022-07-23T10:54:03.617251Z",
     "shell.execute_reply": "2022-07-23T10:54:03.615740Z"
    }
   },
   "outputs": [
    {
     "data": {
      "image/svg+xml": [
       "<?xml version=\"1.0\" encoding=\"UTF-8\" standalone=\"no\"?><svg xmlns=\"http://www.w3.org/2000/svg\" xmlns:xlink=\"http://www.w3.org/1999/xlink\" contentScriptType=\"application/ecmascript\" contentStyleType=\"text/css\" height=\"367px\" preserveAspectRatio=\"none\" style=\"width:243px;height:367px;\" version=\"1.1\" viewBox=\"0 0 243 367\" width=\"243px\" zoomAndPan=\"magnify\"><defs/><g><!--MD5=[fbc87193dbaf4d95561dea2c320d4a47]\n",
       "cluster E1--><a href=\"psysml:5126b6fb-a0df-489e-901c-12bad15fd52c\" target=\"_top\" title=\"psysml:5126b6fb-a0df-489e-901c-12bad15fd52c\" xlink:actuate=\"onRequest\" xlink:href=\"psysml:5126b6fb-a0df-489e-901c-12bad15fd52c\" xlink:show=\"new\" xlink:title=\"psysml:5126b6fb-a0df-489e-901c-12bad15fd52c\" xlink:type=\"simple\"><polygon fill=\"#FFFFFF\" points=\"16,6,196,6,203,28.2969,219,28.2969,219,355,16,355,16,6\" style=\"stroke: #000000; stroke-width: 1.5;\"/><line style=\"stroke: #000000; stroke-width: 1.5;\" x1=\"16\" x2=\"203\" y1=\"28.2969\" y2=\"28.2969\"/><text fill=\"#000000\" font-family=\"sans-serif\" font-size=\"14\" font-weight=\"bold\" lengthAdjust=\"spacingAndGlyphs\" textLength=\"174\" x=\"20\" y=\"20.9951\">QualifiedNameImportTest</text></a><!--MD5=[e4f7fae6ed58524ba242bb0b0d3be6b7]\n",
       "cluster E2--><a href=\"psysml:4671c392-f153-4102-94c6-e9de6b11f3b3\" target=\"_top\" title=\"psysml:4671c392-f153-4102-94c6-e9de6b11f3b3\" xlink:actuate=\"onRequest\" xlink:href=\"psysml:4671c392-f153-4102-94c6-e9de6b11f3b3\" xlink:show=\"new\" xlink:title=\"psysml:4671c392-f153-4102-94c6-e9de6b11f3b3\" xlink:type=\"simple\"><polygon fill=\"#FFFFFF\" points=\"48,210,72,210,79,232.2969,185,232.2969,185,323,48,323,48,210\" style=\"stroke: #000000; stroke-width: 1.5;\"/><line style=\"stroke: #000000; stroke-width: 1.5;\" x1=\"48\" x2=\"79\" y1=\"232.2969\" y2=\"232.2969\"/><text fill=\"#000000\" font-family=\"sans-serif\" font-size=\"14\" font-weight=\"bold\" lengthAdjust=\"spacingAndGlyphs\" textLength=\"18\" x=\"52\" y=\"224.9951\">P1</text></a><!--MD5=[f6df4d0ebaf0b5dfb2ced0ae5af7c670]\n",
       "cluster E4--><a href=\"psysml:b774f6e1-b4cc-4027-a413-e3d948253bea\" target=\"_top\" title=\"psysml:b774f6e1-b4cc-4027-a413-e3d948253bea\" xlink:actuate=\"onRequest\" xlink:href=\"psysml:b774f6e1-b4cc-4027-a413-e3d948253bea\" xlink:show=\"new\" xlink:title=\"psysml:b774f6e1-b4cc-4027-a413-e3d948253bea\" xlink:type=\"simple\"><polygon fill=\"#FFFFFF\" points=\"40,49,64,49,71,71.2969,195,71.2969,195,153,40,153,40,49\" style=\"stroke: #000000; stroke-width: 1.5;\"/><line style=\"stroke: #000000; stroke-width: 1.5;\" x1=\"40\" x2=\"71\" y1=\"71.2969\" y2=\"71.2969\"/><text fill=\"#000000\" font-family=\"sans-serif\" font-size=\"14\" font-weight=\"bold\" lengthAdjust=\"spacingAndGlyphs\" textLength=\"18\" x=\"44\" y=\"63.9951\">P2</text></a><!--MD5=[09b614a08d8cba4a07c9adeb5e0fee81]\n",
       "class E3--><a href=\"psysml:d43e5a90-a5b9-40ed-82e3-14a3538b6850\" target=\"_top\" title=\"psysml:d43e5a90-a5b9-40ed-82e3-14a3538b6850\" xlink:actuate=\"onRequest\" xlink:href=\"psysml:d43e5a90-a5b9-40ed-82e3-14a3538b6850\" xlink:show=\"new\" xlink:title=\"psysml:d43e5a90-a5b9-40ed-82e3-14a3538b6850\" xlink:type=\"simple\"><rect fill=\"#FFFFFF\" height=\"45.9375\" id=\"E3\" style=\"stroke: #383838; stroke-width: 1.5;\" width=\"70\" x=\"72\" y=\"253\"/><text fill=\"#000000\" font-family=\"sans-serif\" font-size=\"12\" font-style=\"italic\" lengthAdjust=\"spacingAndGlyphs\" textLength=\"68\" x=\"73\" y=\"269.1387\">«part  def»</text><text fill=\"#000000\" font-family=\"sans-serif\" font-size=\"12\" lengthAdjust=\"spacingAndGlyphs\" textLength=\"8\" x=\"103\" y=\"283.1074\">A</text><line style=\"stroke: #383838; stroke-width: 1.5;\" x1=\"73\" x2=\"141\" y1=\"290.9375\" y2=\"290.9375\"/></a><!--MD5=[60a26617385b1d2d0262a64233df1f8d]\n",
       "class E6--><a href=\"psysml:76906768-adb2-44e4-864a-c9b21a4611cd\" target=\"_top\" title=\"psysml:76906768-adb2-44e4-864a-c9b21a4611cd\" xlink:actuate=\"onRequest\" xlink:href=\"psysml:76906768-adb2-44e4-864a-c9b21a4611cd\" xlink:show=\"new\" xlink:title=\"psysml:76906768-adb2-44e4-864a-c9b21a4611cd\" xlink:type=\"simple\"><rect fill=\"#FFFFFF\" height=\"45.9375\" id=\"E6\" rx=\"10\" ry=\"10\" style=\"stroke: #383838; stroke-width: 1.5;\" width=\"42\" x=\"56\" y=\"87.5\"/><text fill=\"#000000\" font-family=\"sans-serif\" font-size=\"12\" font-style=\"italic\" lengthAdjust=\"spacingAndGlyphs\" textLength=\"40\" x=\"57\" y=\"103.6387\">«part»</text><text fill=\"#000000\" font-family=\"sans-serif\" font-size=\"12\" lengthAdjust=\"spacingAndGlyphs\" textLength=\"22\" x=\"64\" y=\"117.6074\">x: A</text><line style=\"stroke: #383838; stroke-width: 1.5;\" x1=\"57\" x2=\"97\" y1=\"125.4375\" y2=\"125.4375\"/></a><a href=\"psysml:c40d8d93-4b48-4997-9b6b-7328d49803fe\" target=\"_top\" title=\"psysml:c40d8d93-4b48-4997-9b6b-7328d49803fe\" xlink:actuate=\"onRequest\" xlink:href=\"psysml:c40d8d93-4b48-4997-9b6b-7328d49803fe\" xlink:show=\"new\" xlink:title=\"psysml:c40d8d93-4b48-4997-9b6b-7328d49803fe\" xlink:type=\"simple\"><polygon fill=\"#FFFFFF\" points=\"133,84,165,84,172,106.2969,179,106.2969,179,136.5938,133,136.5938,133,84\" style=\"stroke: #000000; stroke-width: 1.5;\"/><line style=\"stroke: #000000; stroke-width: 1.5;\" x1=\"133\" x2=\"172\" y1=\"106.2969\" y2=\"106.2969\"/><text fill=\"#000000\" font-family=\"sans-serif\" font-size=\"14\" font-weight=\"bold\" lengthAdjust=\"spacingAndGlyphs\" textLength=\"26\" x=\"137\" y=\"98.9951\">P2a</text></a><!--MD5=[15ebcb19ae302d9b601edb458606d402]\n",
       "link E5 to E2--><a href=\"psysml:9ee57c7f-7f65-4593-a505-e714f10a5bde\" target=\"_top\" title=\"psysml:9ee57c7f-7f65-4593-a505-e714f10a5bde\" xlink:actuate=\"onRequest\" xlink:href=\"psysml:9ee57c7f-7f65-4593-a505-e714f10a5bde\" xlink:show=\"new\" xlink:title=\"psysml:9ee57c7f-7f65-4593-a505-e714f10a5bde\" xlink:type=\"simple\"><path d=\"M159.28,137.05 C160.735,148.365 162.5469,162.4656 164.4519,177.2955 C165.4044,184.7104 166.3802,192.3076 167.3463,199.8301 C167.5878,201.7107 167.8287,203.5867 168.0685,205.4539 C168.1884,206.3876 168.308,207.319 168.4273,208.2478 C168.4869,208.7122 168.5465,209.1759 168.6059,209.6389 \" fill=\"none\" id=\"E5-&gt;E2\" style=\"stroke: #383838; stroke-width: 1.0; stroke-dasharray: 7.0,7.0;\"/><polygon fill=\"#383838\" points=\"168.6059,209.6389,171.427,200.2027,167.9691,204.6796,163.4922,201.2217,168.6059,209.6389\" style=\"stroke: #383838; stroke-width: 1.0;\"/><text fill=\"#000000\" font-family=\"sans-serif\" font-size=\"13\" lengthAdjust=\"spacingAndGlyphs\" textLength=\"65\" x=\"166\" y=\"182.0669\">«import»*</text></a><!--MD5=[a717450b82c80b9240a525fa862496af]\n",
       "link E6 to E3--><a href=\"psysml:79dc21aa-3f25-4d04-bc8e-220599d338b9\" target=\"_top\" title=\"psysml:79dc21aa-3f25-4d04-bc8e-220599d338b9\" xlink:actuate=\"onRequest\" xlink:href=\"psysml:79dc21aa-3f25-4d04-bc8e-220599d338b9\" xlink:show=\"new\" xlink:title=\"psysml:79dc21aa-3f25-4d04-bc8e-220599d338b9\" xlink:type=\"simple\"><path d=\"M81.05,133.55 C85.7,158.9 93.44,201.1 99.26,232.83 \" fill=\"none\" id=\"E6-&gt;E3\" style=\"stroke: #383838; stroke-width: 1.0;\"/><polygon fill=\"#FFFFFF\" points=\"102.92,252.78,92.6018,235.3578,106.3713,232.8278,102.92,252.78\" style=\"stroke: #383838; stroke-width: 1.0;\"/><ellipse cx=\"93.5388\" cy=\"229.3902\" fill=\"#383838\" rx=\"2\" ry=\"2\" style=\"stroke: #383838; stroke-width: 1.0;\"/><ellipse cx=\"103.3742\" cy=\"227.5831\" fill=\"#383838\" rx=\"2\" ry=\"2\" style=\"stroke: #383838; stroke-width: 1.0;\"/></a><!--MD5=[20dd6781617942f9cb935d41f662edd2]\n",
       "@startuml\r\n",
       "top to bottom direction\r\n",
       "skinparam monochrome true\r\n",
       "skinparam classbackgroundcolor white\r\n",
       "skinparam shadowing false\r\n",
       "skinparam wrapWidth 300\r\n",
       "hide circle\r\n",
       "\r\n",
       "package \"QualifiedNameImportTest\" as E1  [[psysml:5126b6fb-a0df-489e-901c-12bad15fd52c ]]  {\r\n",
       "package \"P1\" as E2  [[psysml:4671c392-f153-4102-94c6-e9de6b11f3b3 ]]  {\r\n",
       "comp def \"A\" as E3  <<(T,blue) part  def>> [[psysml:d43e5a90-a5b9-40ed-82e3-14a3538b6850 ]] {\r\n",
       "}\r\n",
       "}\r\n",
       "package \"P2\" as E4  [[psysml:b774f6e1-b4cc-4027-a413-e3d948253bea ]]  {\r\n",
       "package \"P2a\" as E5  [[psysml:c40d8d93-4b48-4997-9b6b-7328d49803fe ]]  {\r\n",
       "}\r\n",
       "comp usage \"x: A \" as E6  <<(T,blue) part>> [[psysml:76906768-adb2-44e4-864a-c9b21a4611cd ]] {\r\n",
       "}\r\n",
       "}\r\n",
       "}\r\n",
       "E5 ..> E2 [[psysml:9ee57c7f-7f65-4593-a505-e714f10a5bde ]] : <<import>>*\r\n",
       "E6 - -:|> E3 [[psysml:79dc21aa-3f25-4d04-bc8e-220599d338b9 ]] \r\n",
       "@enduml\r\n",
       "\n",
       "PlantUML version 1.2020.13(Sat Jun 13 12:26:38 UTC 2020)\n",
       "(EPL source distribution)\n",
       "Java Runtime: OpenJDK Runtime Environment\n",
       "JVM: OpenJDK 64-Bit Server VM\n",
       "Default Encoding: UTF-8\n",
       "Language: en\n",
       "Country: null\n",
       "--></g></svg>"
      ]
     },
     "execution_count": 44,
     "metadata": {},
     "output_type": "execute_result"
    }
   ],
   "source": [
    "%viz --style=\"TB\" --view=\"Default\" \"QualifiedNameImportTest\""
   ]
  },
  {
   "cell_type": "code",
   "execution_count": 45,
   "id": "744ad74e",
   "metadata": {
    "execution": {
     "iopub.execute_input": "2022-07-23T10:54:03.666580Z",
     "iopub.status.busy": "2022-07-23T10:54:03.666109Z",
     "iopub.status.idle": "2022-07-23T10:54:03.695027Z",
     "shell.execute_reply": "2022-07-23T10:54:03.693560Z"
    }
   },
   "outputs": [
    {
     "data": {
      "image/svg+xml": [
       "<?xml version=\"1.0\" encoding=\"UTF-8\" standalone=\"no\"?><svg xmlns=\"http://www.w3.org/2000/svg\" xmlns:xlink=\"http://www.w3.org/1999/xlink\" contentScriptType=\"application/ecmascript\" contentStyleType=\"text/css\" height=\"367px\" preserveAspectRatio=\"none\" style=\"width:243px;height:367px;\" version=\"1.1\" viewBox=\"0 0 243 367\" width=\"243px\" zoomAndPan=\"magnify\"><defs/><g><!--MD5=[fbc87193dbaf4d95561dea2c320d4a47]\n",
       "cluster E1--><a href=\"psysml:5126b6fb-a0df-489e-901c-12bad15fd52c\" target=\"_top\" title=\"psysml:5126b6fb-a0df-489e-901c-12bad15fd52c\" xlink:actuate=\"onRequest\" xlink:href=\"psysml:5126b6fb-a0df-489e-901c-12bad15fd52c\" xlink:show=\"new\" xlink:title=\"psysml:5126b6fb-a0df-489e-901c-12bad15fd52c\" xlink:type=\"simple\"><polygon fill=\"#FFFFFF\" points=\"16,6,196,6,203,28.2969,219,28.2969,219,355,16,355,16,6\" style=\"stroke: #000000; stroke-width: 1.5;\"/><line style=\"stroke: #000000; stroke-width: 1.5;\" x1=\"16\" x2=\"203\" y1=\"28.2969\" y2=\"28.2969\"/><text fill=\"#000000\" font-family=\"sans-serif\" font-size=\"14\" font-weight=\"bold\" lengthAdjust=\"spacingAndGlyphs\" textLength=\"174\" x=\"20\" y=\"20.9951\">QualifiedNameImportTest</text></a><!--MD5=[e4f7fae6ed58524ba242bb0b0d3be6b7]\n",
       "cluster E2--><a href=\"psysml:4671c392-f153-4102-94c6-e9de6b11f3b3\" target=\"_top\" title=\"psysml:4671c392-f153-4102-94c6-e9de6b11f3b3\" xlink:actuate=\"onRequest\" xlink:href=\"psysml:4671c392-f153-4102-94c6-e9de6b11f3b3\" xlink:show=\"new\" xlink:title=\"psysml:4671c392-f153-4102-94c6-e9de6b11f3b3\" xlink:type=\"simple\"><polygon fill=\"#FFFFFF\" points=\"48,210,72,210,79,232.2969,185,232.2969,185,323,48,323,48,210\" style=\"stroke: #000000; stroke-width: 1.5;\"/><line style=\"stroke: #000000; stroke-width: 1.5;\" x1=\"48\" x2=\"79\" y1=\"232.2969\" y2=\"232.2969\"/><text fill=\"#000000\" font-family=\"sans-serif\" font-size=\"14\" font-weight=\"bold\" lengthAdjust=\"spacingAndGlyphs\" textLength=\"18\" x=\"52\" y=\"224.9951\">P1</text></a><!--MD5=[f6df4d0ebaf0b5dfb2ced0ae5af7c670]\n",
       "cluster E4--><a href=\"psysml:b774f6e1-b4cc-4027-a413-e3d948253bea\" target=\"_top\" title=\"psysml:b774f6e1-b4cc-4027-a413-e3d948253bea\" xlink:actuate=\"onRequest\" xlink:href=\"psysml:b774f6e1-b4cc-4027-a413-e3d948253bea\" xlink:show=\"new\" xlink:title=\"psysml:b774f6e1-b4cc-4027-a413-e3d948253bea\" xlink:type=\"simple\"><polygon fill=\"#FFFFFF\" points=\"40,49,64,49,71,71.2969,195,71.2969,195,153,40,153,40,49\" style=\"stroke: #000000; stroke-width: 1.5;\"/><line style=\"stroke: #000000; stroke-width: 1.5;\" x1=\"40\" x2=\"71\" y1=\"71.2969\" y2=\"71.2969\"/><text fill=\"#000000\" font-family=\"sans-serif\" font-size=\"14\" font-weight=\"bold\" lengthAdjust=\"spacingAndGlyphs\" textLength=\"18\" x=\"44\" y=\"63.9951\">P2</text></a><!--MD5=[09b614a08d8cba4a07c9adeb5e0fee81]\n",
       "class E3--><a href=\"psysml:d43e5a90-a5b9-40ed-82e3-14a3538b6850\" target=\"_top\" title=\"psysml:d43e5a90-a5b9-40ed-82e3-14a3538b6850\" xlink:actuate=\"onRequest\" xlink:href=\"psysml:d43e5a90-a5b9-40ed-82e3-14a3538b6850\" xlink:show=\"new\" xlink:title=\"psysml:d43e5a90-a5b9-40ed-82e3-14a3538b6850\" xlink:type=\"simple\"><rect fill=\"#FFFFFF\" height=\"45.9375\" id=\"E3\" style=\"stroke: #383838; stroke-width: 1.5;\" width=\"70\" x=\"72\" y=\"253\"/><text fill=\"#000000\" font-family=\"sans-serif\" font-size=\"12\" font-style=\"italic\" lengthAdjust=\"spacingAndGlyphs\" textLength=\"68\" x=\"73\" y=\"269.1387\">«part  def»</text><text fill=\"#000000\" font-family=\"sans-serif\" font-size=\"12\" lengthAdjust=\"spacingAndGlyphs\" textLength=\"8\" x=\"103\" y=\"283.1074\">A</text><line style=\"stroke: #383838; stroke-width: 1.5;\" x1=\"73\" x2=\"141\" y1=\"290.9375\" y2=\"290.9375\"/></a><!--MD5=[60a26617385b1d2d0262a64233df1f8d]\n",
       "class E6--><a href=\"psysml:76906768-adb2-44e4-864a-c9b21a4611cd\" target=\"_top\" title=\"psysml:76906768-adb2-44e4-864a-c9b21a4611cd\" xlink:actuate=\"onRequest\" xlink:href=\"psysml:76906768-adb2-44e4-864a-c9b21a4611cd\" xlink:show=\"new\" xlink:title=\"psysml:76906768-adb2-44e4-864a-c9b21a4611cd\" xlink:type=\"simple\"><rect fill=\"#FFFFFF\" height=\"45.9375\" id=\"E6\" rx=\"10\" ry=\"10\" style=\"stroke: #383838; stroke-width: 1.5;\" width=\"42\" x=\"56\" y=\"87.5\"/><text fill=\"#000000\" font-family=\"sans-serif\" font-size=\"12\" font-style=\"italic\" lengthAdjust=\"spacingAndGlyphs\" textLength=\"40\" x=\"57\" y=\"103.6387\">«part»</text><text fill=\"#000000\" font-family=\"sans-serif\" font-size=\"12\" lengthAdjust=\"spacingAndGlyphs\" textLength=\"22\" x=\"64\" y=\"117.6074\">x: A</text><line style=\"stroke: #383838; stroke-width: 1.5;\" x1=\"57\" x2=\"97\" y1=\"125.4375\" y2=\"125.4375\"/></a><a href=\"psysml:c40d8d93-4b48-4997-9b6b-7328d49803fe\" target=\"_top\" title=\"psysml:c40d8d93-4b48-4997-9b6b-7328d49803fe\" xlink:actuate=\"onRequest\" xlink:href=\"psysml:c40d8d93-4b48-4997-9b6b-7328d49803fe\" xlink:show=\"new\" xlink:title=\"psysml:c40d8d93-4b48-4997-9b6b-7328d49803fe\" xlink:type=\"simple\"><polygon fill=\"#FFFFFF\" points=\"133,84,165,84,172,106.2969,179,106.2969,179,136.5938,133,136.5938,133,84\" style=\"stroke: #000000; stroke-width: 1.5;\"/><line style=\"stroke: #000000; stroke-width: 1.5;\" x1=\"133\" x2=\"172\" y1=\"106.2969\" y2=\"106.2969\"/><text fill=\"#000000\" font-family=\"sans-serif\" font-size=\"14\" font-weight=\"bold\" lengthAdjust=\"spacingAndGlyphs\" textLength=\"26\" x=\"137\" y=\"98.9951\">P2a</text></a><!--MD5=[15ebcb19ae302d9b601edb458606d402]\n",
       "link E5 to E2--><a href=\"psysml:9ee57c7f-7f65-4593-a505-e714f10a5bde\" target=\"_top\" title=\"psysml:9ee57c7f-7f65-4593-a505-e714f10a5bde\" xlink:actuate=\"onRequest\" xlink:href=\"psysml:9ee57c7f-7f65-4593-a505-e714f10a5bde\" xlink:show=\"new\" xlink:title=\"psysml:9ee57c7f-7f65-4593-a505-e714f10a5bde\" xlink:type=\"simple\"><path d=\"M159.28,137.05 C160.735,148.365 162.5469,162.4656 164.4519,177.2955 C165.4044,184.7104 166.3802,192.3076 167.3463,199.8301 C167.5878,201.7107 167.8287,203.5867 168.0685,205.4539 C168.1884,206.3876 168.308,207.319 168.4273,208.2478 C168.4869,208.7122 168.5465,209.1759 168.6059,209.6389 \" fill=\"none\" id=\"E5-&gt;E2\" style=\"stroke: #383838; stroke-width: 1.0; stroke-dasharray: 7.0,7.0;\"/><polygon fill=\"#383838\" points=\"168.6059,209.6389,171.427,200.2027,167.9691,204.6796,163.4922,201.2217,168.6059,209.6389\" style=\"stroke: #383838; stroke-width: 1.0;\"/><text fill=\"#000000\" font-family=\"sans-serif\" font-size=\"13\" lengthAdjust=\"spacingAndGlyphs\" textLength=\"65\" x=\"166\" y=\"182.0669\">«import»*</text></a><!--MD5=[a717450b82c80b9240a525fa862496af]\n",
       "link E6 to E3--><a href=\"psysml:79dc21aa-3f25-4d04-bc8e-220599d338b9\" target=\"_top\" title=\"psysml:79dc21aa-3f25-4d04-bc8e-220599d338b9\" xlink:actuate=\"onRequest\" xlink:href=\"psysml:79dc21aa-3f25-4d04-bc8e-220599d338b9\" xlink:show=\"new\" xlink:title=\"psysml:79dc21aa-3f25-4d04-bc8e-220599d338b9\" xlink:type=\"simple\"><path d=\"M81.05,133.55 C85.7,158.9 93.44,201.1 99.26,232.83 \" fill=\"none\" id=\"E6-&gt;E3\" style=\"stroke: #383838; stroke-width: 1.0;\"/><polygon fill=\"#FFFFFF\" points=\"102.92,252.78,92.6018,235.3578,106.3713,232.8278,102.92,252.78\" style=\"stroke: #383838; stroke-width: 1.0;\"/><ellipse cx=\"93.5388\" cy=\"229.3902\" fill=\"#383838\" rx=\"2\" ry=\"2\" style=\"stroke: #383838; stroke-width: 1.0;\"/><ellipse cx=\"103.3742\" cy=\"227.5831\" fill=\"#383838\" rx=\"2\" ry=\"2\" style=\"stroke: #383838; stroke-width: 1.0;\"/></a><!--MD5=[20dd6781617942f9cb935d41f662edd2]\n",
       "@startuml\r\n",
       "top to bottom direction\r\n",
       "skinparam monochrome true\r\n",
       "skinparam classbackgroundcolor white\r\n",
       "skinparam shadowing false\r\n",
       "skinparam wrapWidth 300\r\n",
       "hide circle\r\n",
       "\r\n",
       "package \"QualifiedNameImportTest\" as E1  [[psysml:5126b6fb-a0df-489e-901c-12bad15fd52c ]]  {\r\n",
       "package \"P1\" as E2  [[psysml:4671c392-f153-4102-94c6-e9de6b11f3b3 ]]  {\r\n",
       "comp def \"A\" as E3  <<(T,blue) part  def>> [[psysml:d43e5a90-a5b9-40ed-82e3-14a3538b6850 ]] {\r\n",
       "}\r\n",
       "}\r\n",
       "package \"P2\" as E4  [[psysml:b774f6e1-b4cc-4027-a413-e3d948253bea ]]  {\r\n",
       "package \"P2a\" as E5  [[psysml:c40d8d93-4b48-4997-9b6b-7328d49803fe ]]  {\r\n",
       "}\r\n",
       "comp usage \"x: A \" as E6  <<(T,blue) part>> [[psysml:76906768-adb2-44e4-864a-c9b21a4611cd ]] {\r\n",
       "}\r\n",
       "}\r\n",
       "}\r\n",
       "E5 ..> E2 [[psysml:9ee57c7f-7f65-4593-a505-e714f10a5bde ]] : <<import>>*\r\n",
       "E6 - -:|> E3 [[psysml:79dc21aa-3f25-4d04-bc8e-220599d338b9 ]] \r\n",
       "@enduml\r\n",
       "\n",
       "PlantUML version 1.2020.13(Sat Jun 13 12:26:38 UTC 2020)\n",
       "(EPL source distribution)\n",
       "Java Runtime: OpenJDK Runtime Environment\n",
       "JVM: OpenJDK 64-Bit Server VM\n",
       "Default Encoding: UTF-8\n",
       "Language: en\n",
       "Country: null\n",
       "--></g></svg>"
      ]
     },
     "execution_count": 45,
     "metadata": {},
     "output_type": "execute_result"
    }
   ],
   "source": [
    "%viz --style=\"TB\" --view=\"Tree\" \"QualifiedNameImportTest\""
   ]
  },
  {
   "cell_type": "code",
   "execution_count": 46,
   "id": "220e13ba",
   "metadata": {
    "execution": {
     "iopub.execute_input": "2022-07-23T10:54:03.744486Z",
     "iopub.status.busy": "2022-07-23T10:54:03.744003Z",
     "iopub.status.idle": "2022-07-23T10:54:03.749191Z",
     "shell.execute_reply": "2022-07-23T10:54:03.748786Z"
    }
   },
   "outputs": [
    {
     "data": {
      "image/svg+xml": [
       "<?xml version=\"1.0\" encoding=\"UTF-8\" standalone=\"no\"?><svg xmlns=\"http://www.w3.org/2000/svg\" xmlns:xlink=\"http://www.w3.org/1999/xlink\" contentScriptType=\"application/ecmascript\" contentStyleType=\"text/css\" height=\"12px\" preserveAspectRatio=\"none\" style=\"width:12px;height:12px;\" version=\"1.1\" viewBox=\"0 0 12 12\" width=\"12px\" zoomAndPan=\"magnify\"><defs/><g><!--MD5=[f4ee21bc66e489b5061b7c3e9601fdef]\n",
       "@startuml\r\n",
       "top to bottom direction\r\n",
       "skinparam monochrome true\r\n",
       "skinparam classbackgroundcolor white\r\n",
       "skinparam shadowing false\r\n",
       "skinparam wrapWidth 300\r\n",
       "hide circle\r\n",
       "\r\n",
       "@enduml\r\n",
       "\n",
       "PlantUML version 1.2020.13(Sat Jun 13 12:26:38 UTC 2020)\n",
       "(EPL source distribution)\n",
       "Java Runtime: OpenJDK Runtime Environment\n",
       "JVM: OpenJDK 64-Bit Server VM\n",
       "Default Encoding: UTF-8\n",
       "Language: en\n",
       "Country: null\n",
       "--></g></svg>"
      ]
     },
     "execution_count": 46,
     "metadata": {},
     "output_type": "execute_result"
    }
   ],
   "source": [
    "%viz --style=\"TB\" --view=\"State\" \"QualifiedNameImportTest\""
   ]
  },
  {
   "cell_type": "code",
   "execution_count": 47,
   "id": "9d00b23e",
   "metadata": {
    "execution": {
     "iopub.execute_input": "2022-07-23T10:54:03.799123Z",
     "iopub.status.busy": "2022-07-23T10:54:03.798658Z",
     "iopub.status.idle": "2022-07-23T10:54:03.826526Z",
     "shell.execute_reply": "2022-07-23T10:54:03.826105Z"
    }
   },
   "outputs": [
    {
     "data": {
      "image/svg+xml": [
       "<?xml version=\"1.0\" encoding=\"UTF-8\" standalone=\"no\"?><svg xmlns=\"http://www.w3.org/2000/svg\" xmlns:xlink=\"http://www.w3.org/1999/xlink\" contentScriptType=\"application/ecmascript\" contentStyleType=\"text/css\" height=\"364px\" preserveAspectRatio=\"none\" style=\"width:249px;height:364px;\" version=\"1.1\" viewBox=\"0 0 249 364\" width=\"249px\" zoomAndPan=\"magnify\"><defs/><g><!--MD5=[fbc87193dbaf4d95561dea2c320d4a47]\n",
       "cluster E1--><a href=\"psysml:5126b6fb-a0df-489e-901c-12bad15fd52c\" target=\"_top\" title=\"psysml:5126b6fb-a0df-489e-901c-12bad15fd52c\" xlink:actuate=\"onRequest\" xlink:href=\"psysml:5126b6fb-a0df-489e-901c-12bad15fd52c\" xlink:show=\"new\" xlink:title=\"psysml:5126b6fb-a0df-489e-901c-12bad15fd52c\" xlink:type=\"simple\"><polygon fill=\"#FFFFFF\" points=\"16,6,196,6,203,28.2969,227,28.2969,227,352,16,352,16,6\" style=\"stroke: #000000; stroke-width: 1.5;\"/><line style=\"stroke: #000000; stroke-width: 1.5;\" x1=\"16\" x2=\"203\" y1=\"28.2969\" y2=\"28.2969\"/><text fill=\"#000000\" font-family=\"sans-serif\" font-size=\"14\" font-weight=\"bold\" lengthAdjust=\"spacingAndGlyphs\" textLength=\"174\" x=\"20\" y=\"20.9951\">QualifiedNameImportTest</text></a><!--MD5=[e4f7fae6ed58524ba242bb0b0d3be6b7]\n",
       "cluster E2--><a href=\"psysml:4671c392-f153-4102-94c6-e9de6b11f3b3\" target=\"_top\" title=\"psysml:4671c392-f153-4102-94c6-e9de6b11f3b3\" xlink:actuate=\"onRequest\" xlink:href=\"psysml:4671c392-f153-4102-94c6-e9de6b11f3b3\" xlink:show=\"new\" xlink:title=\"psysml:4671c392-f153-4102-94c6-e9de6b11f3b3\" xlink:type=\"simple\"><polygon fill=\"#FFFFFF\" points=\"53,210,77,210,84,232.2969,195,232.2969,195,320,53,320,53,210\" style=\"stroke: #000000; stroke-width: 1.5;\"/><line style=\"stroke: #000000; stroke-width: 1.5;\" x1=\"53\" x2=\"84\" y1=\"232.2969\" y2=\"232.2969\"/><text fill=\"#000000\" font-family=\"sans-serif\" font-size=\"14\" font-weight=\"bold\" lengthAdjust=\"spacingAndGlyphs\" textLength=\"18\" x=\"57\" y=\"224.9951\">P1</text></a><!--MD5=[f6df4d0ebaf0b5dfb2ced0ae5af7c670]\n",
       "cluster E4--><a href=\"psysml:b774f6e1-b4cc-4027-a413-e3d948253bea\" target=\"_top\" title=\"psysml:b774f6e1-b4cc-4027-a413-e3d948253bea\" xlink:actuate=\"onRequest\" xlink:href=\"psysml:b774f6e1-b4cc-4027-a413-e3d948253bea\" xlink:show=\"new\" xlink:title=\"psysml:b774f6e1-b4cc-4027-a413-e3d948253bea\" xlink:type=\"simple\"><polygon fill=\"#FFFFFF\" points=\"40,49,64,49,71,71.2969,203,71.2969,203,153,40,153,40,49\" style=\"stroke: #000000; stroke-width: 1.5;\"/><line style=\"stroke: #000000; stroke-width: 1.5;\" x1=\"40\" x2=\"71\" y1=\"71.2969\" y2=\"71.2969\"/><text fill=\"#000000\" font-family=\"sans-serif\" font-size=\"14\" font-weight=\"bold\" lengthAdjust=\"spacingAndGlyphs\" textLength=\"18\" x=\"44\" y=\"63.9951\">P2</text></a><g id=\"E1.E2.E3\"><a href=\"psysml:d43e5a90-a5b9-40ed-82e3-14a3538b6850\" target=\"_top\" title=\"psysml:d43e5a90-a5b9-40ed-82e3-14a3538b6850\" xlink:actuate=\"onRequest\" xlink:href=\"psysml:d43e5a90-a5b9-40ed-82e3-14a3538b6850\" xlink:show=\"new\" xlink:title=\"psysml:d43e5a90-a5b9-40ed-82e3-14a3538b6850\" xlink:type=\"simple\"><rect fill=\"#FFFFFF\" height=\"42.9375\" id=\"E3\" style=\"stroke: #383838; stroke-width: 1.5;\" width=\"75\" x=\"96.5\" y=\"253\"/><rect fill=\"#F8F8F8\" height=\"37.9375\" style=\"stroke: #383838; stroke-width: 1.5;\" width=\"75\" x=\"96.5\" y=\"253\"/><text fill=\"#000000\" font-family=\"sans-serif\" font-size=\"12\" font-style=\"italic\" lengthAdjust=\"spacingAndGlyphs\" textLength=\"68\" x=\"100\" y=\"269.1387\">«part  def»</text><text fill=\"#000000\" font-family=\"sans-serif\" font-size=\"12\" lengthAdjust=\"spacingAndGlyphs\" textLength=\"8\" x=\"130\" y=\"283.1074\">A</text></a></g><a href=\"psysml:c40d8d93-4b48-4997-9b6b-7328d49803fe\" target=\"_top\" title=\"psysml:c40d8d93-4b48-4997-9b6b-7328d49803fe\" xlink:actuate=\"onRequest\" xlink:href=\"psysml:c40d8d93-4b48-4997-9b6b-7328d49803fe\" xlink:show=\"new\" xlink:title=\"psysml:c40d8d93-4b48-4997-9b6b-7328d49803fe\" xlink:type=\"simple\"><polygon fill=\"#FFFFFF\" points=\"56,84,88,84,95,106.2969,102,106.2969,102,136.5938,56,136.5938,56,84\" style=\"stroke: #000000; stroke-width: 1.5;\"/><line style=\"stroke: #000000; stroke-width: 1.5;\" x1=\"56\" x2=\"95\" y1=\"106.2969\" y2=\"106.2969\"/><text fill=\"#000000\" font-family=\"sans-serif\" font-size=\"14\" font-weight=\"bold\" lengthAdjust=\"spacingAndGlyphs\" textLength=\"26\" x=\"60\" y=\"98.9951\">P2a</text></a><g id=\"E1.E4.E6\"><a href=\"psysml:76906768-adb2-44e4-864a-c9b21a4611cd\" target=\"_top\" title=\"psysml:76906768-adb2-44e4-864a-c9b21a4611cd\" xlink:actuate=\"onRequest\" xlink:href=\"psysml:76906768-adb2-44e4-864a-c9b21a4611cd\" xlink:show=\"new\" xlink:title=\"psysml:76906768-adb2-44e4-864a-c9b21a4611cd\" xlink:type=\"simple\"><rect fill=\"#FFFFFF\" height=\"40\" id=\"E6\" rx=\"10\" ry=\"10\" style=\"stroke: #383838; stroke-width: 1.5;\" width=\"50\" x=\"137\" y=\"90.5\"/><rect fill=\"#F8F8F8\" height=\"23.9688\" rx=\"10\" ry=\"10\" style=\"stroke: #F8F8F8; stroke-width: 1.5;\" width=\"50\" x=\"137\" y=\"90.5\"/><rect fill=\"#F8F8F8\" height=\"10\" style=\"stroke: #F8F8F8; stroke-width: 1.5;\" width=\"50\" x=\"137\" y=\"104.4688\"/><rect fill=\"none\" height=\"40\" id=\"E6\" rx=\"10\" ry=\"10\" style=\"stroke: #383838; stroke-width: 1.5;\" width=\"50\" x=\"137\" y=\"90.5\"/><text fill=\"#000000\" font-family=\"sans-serif\" font-size=\"12\" lengthAdjust=\"spacingAndGlyphs\" textLength=\"22\" x=\"151\" y=\"106.6387\">x: A</text></a></g><!--MD5=[15ebcb19ae302d9b601edb458606d402]\n",
       "link E5 to E2--><a href=\"psysml:9ee57c7f-7f65-4593-a505-e714f10a5bde\" target=\"_top\" title=\"psysml:9ee57c7f-7f65-4593-a505-e714f10a5bde\" xlink:actuate=\"onRequest\" xlink:href=\"psysml:9ee57c7f-7f65-4593-a505-e714f10a5bde\" xlink:show=\"new\" xlink:title=\"psysml:9ee57c7f-7f65-4593-a505-e714f10a5bde\" xlink:type=\"simple\"><path d=\"M76.15,137.17 C74.9,148.4125 73.3475,162.3781 71.7172,177.0456 C70.902,184.3794 70.0674,191.8886 69.2414,199.3206 C69.035,201.1786 68.829,203.0318 68.624,204.8762 C68.5215,205.7984 68.4193,206.7184 68.3173,207.6358 C68.2664,208.0944 68.2155,208.5524 68.1647,209.0097 C68.1393,209.2383 68.1139,209.4668 68.0885,209.695 \" fill=\"none\" id=\"E5-&gt;E2\" style=\"stroke: #383838; stroke-width: 1.0; stroke-dasharray: 7.0,7.0;\"/><polygon fill=\"#383838\" points=\"68.0885,209.695,73.0581,201.1919,68.6408,204.7256,65.107,200.3083,68.0885,209.695\" style=\"stroke: #383838; stroke-width: 1.0;\"/><text fill=\"#000000\" font-family=\"sans-serif\" font-size=\"13\" lengthAdjust=\"spacingAndGlyphs\" textLength=\"65\" x=\"73\" y=\"182.0669\">«import»*</text></a><!--MD5=[a717450b82c80b9240a525fa862496af]\n",
       "link E6 to E3--><a href=\"psysml:79dc21aa-3f25-4d04-bc8e-220599d338b9\" target=\"_top\" title=\"psysml:79dc21aa-3f25-4d04-bc8e-220599d338b9\" xlink:actuate=\"onRequest\" xlink:href=\"psysml:79dc21aa-3f25-4d04-bc8e-220599d338b9\" xlink:show=\"new\" xlink:title=\"psysml:79dc21aa-3f25-4d04-bc8e-220599d338b9\" xlink:type=\"simple\"><path d=\"M158.68,130.72 C154.35,155.76 146.67,200.21 141.02,232.87 \" fill=\"none\" id=\"E6-&gt;E3\" style=\"stroke: #383838; stroke-width: 1.0;\"/><polygon fill=\"#FFFFFF\" points=\"137.58,252.77,133.925,232.8542,147.7196,235.2432,137.58,252.77\" style=\"stroke: #383838; stroke-width: 1.0;\"/><ellipse cx=\"136.8683\" cy=\"227.5791\" fill=\"#383838\" rx=\"2\" ry=\"2\" style=\"stroke: #383838; stroke-width: 1.0;\"/><ellipse cx=\"146.7217\" cy=\"229.2855\" fill=\"#383838\" rx=\"2\" ry=\"2\" style=\"stroke: #383838; stroke-width: 1.0;\"/></a><!--MD5=[ef25a2bc4d1cc39246f05f93e78aae5f]\n",
       "@startuml\r\n",
       "skinparam ranksep 10\r\n",
       "skinparam rectangle {\r\n",
       " backgroundColor<<block>> LightGreen\r\n",
       "}\r\n",
       "top to bottom direction\r\n",
       "skinparam monochrome true\r\n",
       "skinparam classbackgroundcolor white\r\n",
       "skinparam shadowing false\r\n",
       "skinparam wrapWidth 300\r\n",
       "hide circle\r\n",
       "\r\n",
       "package \"QualifiedNameImportTest\" as E1  [[psysml:5126b6fb-a0df-489e-901c-12bad15fd52c ]]  {\r\n",
       "package \"P1\" as E2  [[psysml:4671c392-f153-4102-94c6-e9de6b11f3b3 ]]  {\r\n",
       "rec def \"A\" as E3  <<(T,blue) part  def>> [[psysml:d43e5a90-a5b9-40ed-82e3-14a3538b6850 ]] {\r\n",
       "}\r\n",
       "}\r\n",
       "package \"P2\" as E4  [[psysml:b774f6e1-b4cc-4027-a413-e3d948253bea ]]  {\r\n",
       "package \"P2a\" as E5  [[psysml:c40d8d93-4b48-4997-9b6b-7328d49803fe ]]  {\r\n",
       "}\r\n",
       "rec usage \"x: A\" as E6  [[psysml:76906768-adb2-44e4-864a-c9b21a4611cd ]] {\r\n",
       "}\r\n",
       "}\r\n",
       "}\r\n",
       "E5 ..> E2 [[psysml:9ee57c7f-7f65-4593-a505-e714f10a5bde ]] : <<import>>*\r\n",
       "E6 - -:|> E3 [[psysml:79dc21aa-3f25-4d04-bc8e-220599d338b9 ]] \r\n",
       "@enduml\r\n",
       "\n",
       "PlantUML version 1.2020.13(Sat Jun 13 12:26:38 UTC 2020)\n",
       "(EPL source distribution)\n",
       "Java Runtime: OpenJDK Runtime Environment\n",
       "JVM: OpenJDK 64-Bit Server VM\n",
       "Default Encoding: UTF-8\n",
       "Language: en\n",
       "Country: null\n",
       "--></g></svg>"
      ]
     },
     "execution_count": 47,
     "metadata": {},
     "output_type": "execute_result"
    }
   ],
   "source": [
    "%viz --style=\"TB\" --view=\"Interconnection\" \"QualifiedNameImportTest\""
   ]
  },
  {
   "cell_type": "code",
   "execution_count": 48,
   "id": "4282634a",
   "metadata": {
    "execution": {
     "iopub.execute_input": "2022-07-23T10:54:03.876388Z",
     "iopub.status.busy": "2022-07-23T10:54:03.875934Z",
     "iopub.status.idle": "2022-07-23T10:54:03.880848Z",
     "shell.execute_reply": "2022-07-23T10:54:03.881169Z"
    }
   },
   "outputs": [
    {
     "data": {
      "image/svg+xml": [
       "<?xml version=\"1.0\" encoding=\"UTF-8\" standalone=\"no\"?><svg xmlns=\"http://www.w3.org/2000/svg\" xmlns:xlink=\"http://www.w3.org/1999/xlink\" contentScriptType=\"application/ecmascript\" contentStyleType=\"text/css\" height=\"12px\" preserveAspectRatio=\"none\" style=\"width:12px;height:12px;\" version=\"1.1\" viewBox=\"0 0 12 12\" width=\"12px\" zoomAndPan=\"magnify\"><defs/><g><!--MD5=[06afc254b03ac5e9d9fb7773b07d0800]\n",
       "@startuml\r\n",
       "skinparam ranksep 8\r\n",
       "top to bottom direction\r\n",
       "skinparam monochrome true\r\n",
       "skinparam classbackgroundcolor white\r\n",
       "skinparam shadowing false\r\n",
       "skinparam wrapWidth 300\r\n",
       "hide circle\r\n",
       "\r\n",
       "@enduml\r\n",
       "\n",
       "PlantUML version 1.2020.13(Sat Jun 13 12:26:38 UTC 2020)\n",
       "(EPL source distribution)\n",
       "Java Runtime: OpenJDK Runtime Environment\n",
       "JVM: OpenJDK 64-Bit Server VM\n",
       "Default Encoding: UTF-8\n",
       "Language: en\n",
       "Country: null\n",
       "--></g></svg>"
      ]
     },
     "execution_count": 48,
     "metadata": {},
     "output_type": "execute_result"
    }
   ],
   "source": [
    "%viz --style=\"TB\" --view=\"Action\" \"QualifiedNameImportTest\""
   ]
  },
  {
   "cell_type": "code",
   "execution_count": 49,
   "id": "c98d4c80",
   "metadata": {
    "execution": {
     "iopub.execute_input": "2022-07-23T10:54:03.931453Z",
     "iopub.status.busy": "2022-07-23T10:54:03.931003Z",
     "iopub.status.idle": "2022-07-23T10:54:03.936066Z",
     "shell.execute_reply": "2022-07-23T10:54:03.935660Z"
    }
   },
   "outputs": [
    {
     "data": {
      "image/svg+xml": [
       "<?xml version=\"1.0\" encoding=\"UTF-8\" standalone=\"no\"?><svg xmlns=\"http://www.w3.org/2000/svg\" xmlns:xlink=\"http://www.w3.org/1999/xlink\" contentScriptType=\"application/ecmascript\" contentStyleType=\"text/css\" height=\"12px\" preserveAspectRatio=\"none\" style=\"width:12px;height:12px;\" version=\"1.1\" viewBox=\"0 0 12 12\" width=\"12px\" zoomAndPan=\"magnify\"><defs/><g><!--MD5=[e1ab0c84c44d2fef8bf5f140f2689906]\n",
       "@startuml\r\n",
       "skinparam roundcorner 20\r\n",
       "skinparam BoxPadding 20\r\n",
       "skinparam SequenceBoxBackgroundColor #white\r\n",
       "skinparam style strictuml\r\n",
       "skinparam maxMessageSize 100\r\n",
       "top to bottom direction\r\n",
       "skinparam monochrome true\r\n",
       "skinparam classbackgroundcolor white\r\n",
       "skinparam shadowing false\r\n",
       "skinparam wrapWidth 300\r\n",
       "hide circle\r\n",
       "\r\n",
       "@enduml\r\n",
       "\n",
       "PlantUML version 1.2020.13(Sat Jun 13 12:26:38 UTC 2020)\n",
       "(EPL source distribution)\n",
       "Java Runtime: OpenJDK Runtime Environment\n",
       "JVM: OpenJDK 64-Bit Server VM\n",
       "Default Encoding: UTF-8\n",
       "Language: en\n",
       "Country: null\n",
       "--></g></svg>"
      ]
     },
     "execution_count": 49,
     "metadata": {},
     "output_type": "execute_result"
    }
   ],
   "source": [
    "%viz --style=\"TB\" --view=\"Sequence\" \"QualifiedNameImportTest\""
   ]
  },
  {
   "cell_type": "code",
   "execution_count": 50,
   "id": "bd6626ef",
   "metadata": {
    "execution": {
     "iopub.execute_input": "2022-07-23T10:54:03.985867Z",
     "iopub.status.busy": "2022-07-23T10:54:03.985407Z",
     "iopub.status.idle": "2022-07-23T10:54:04.013005Z",
     "shell.execute_reply": "2022-07-23T10:54:04.011616Z"
    }
   },
   "outputs": [
    {
     "data": {
      "image/svg+xml": [
       "<?xml version=\"1.0\" encoding=\"UTF-8\" standalone=\"no\"?><svg xmlns=\"http://www.w3.org/2000/svg\" xmlns:xlink=\"http://www.w3.org/1999/xlink\" contentScriptType=\"application/ecmascript\" contentStyleType=\"text/css\" height=\"367px\" preserveAspectRatio=\"none\" style=\"width:243px;height:367px;\" version=\"1.1\" viewBox=\"0 0 243 367\" width=\"243px\" zoomAndPan=\"magnify\"><defs/><g><!--MD5=[fbc87193dbaf4d95561dea2c320d4a47]\n",
       "cluster E1--><a href=\"psysml:5126b6fb-a0df-489e-901c-12bad15fd52c\" target=\"_top\" title=\"psysml:5126b6fb-a0df-489e-901c-12bad15fd52c\" xlink:actuate=\"onRequest\" xlink:href=\"psysml:5126b6fb-a0df-489e-901c-12bad15fd52c\" xlink:show=\"new\" xlink:title=\"psysml:5126b6fb-a0df-489e-901c-12bad15fd52c\" xlink:type=\"simple\"><polygon fill=\"#FFFFFF\" points=\"16,6,196,6,203,28.2969,219,28.2969,219,355,16,355,16,6\" style=\"stroke: #000000; stroke-width: 1.5;\"/><line style=\"stroke: #000000; stroke-width: 1.5;\" x1=\"16\" x2=\"203\" y1=\"28.2969\" y2=\"28.2969\"/><text fill=\"#000000\" font-family=\"sans-serif\" font-size=\"14\" font-weight=\"bold\" lengthAdjust=\"spacingAndGlyphs\" textLength=\"174\" x=\"20\" y=\"20.9951\">QualifiedNameImportTest</text></a><!--MD5=[e4f7fae6ed58524ba242bb0b0d3be6b7]\n",
       "cluster E2--><a href=\"psysml:4671c392-f153-4102-94c6-e9de6b11f3b3\" target=\"_top\" title=\"psysml:4671c392-f153-4102-94c6-e9de6b11f3b3\" xlink:actuate=\"onRequest\" xlink:href=\"psysml:4671c392-f153-4102-94c6-e9de6b11f3b3\" xlink:show=\"new\" xlink:title=\"psysml:4671c392-f153-4102-94c6-e9de6b11f3b3\" xlink:type=\"simple\"><polygon fill=\"#FFFFFF\" points=\"48,210,72,210,79,232.2969,185,232.2969,185,323,48,323,48,210\" style=\"stroke: #000000; stroke-width: 1.5;\"/><line style=\"stroke: #000000; stroke-width: 1.5;\" x1=\"48\" x2=\"79\" y1=\"232.2969\" y2=\"232.2969\"/><text fill=\"#000000\" font-family=\"sans-serif\" font-size=\"14\" font-weight=\"bold\" lengthAdjust=\"spacingAndGlyphs\" textLength=\"18\" x=\"52\" y=\"224.9951\">P1</text></a><!--MD5=[f6df4d0ebaf0b5dfb2ced0ae5af7c670]\n",
       "cluster E4--><a href=\"psysml:b774f6e1-b4cc-4027-a413-e3d948253bea\" target=\"_top\" title=\"psysml:b774f6e1-b4cc-4027-a413-e3d948253bea\" xlink:actuate=\"onRequest\" xlink:href=\"psysml:b774f6e1-b4cc-4027-a413-e3d948253bea\" xlink:show=\"new\" xlink:title=\"psysml:b774f6e1-b4cc-4027-a413-e3d948253bea\" xlink:type=\"simple\"><polygon fill=\"#FFFFFF\" points=\"40,49,64,49,71,71.2969,195,71.2969,195,153,40,153,40,49\" style=\"stroke: #000000; stroke-width: 1.5;\"/><line style=\"stroke: #000000; stroke-width: 1.5;\" x1=\"40\" x2=\"71\" y1=\"71.2969\" y2=\"71.2969\"/><text fill=\"#000000\" font-family=\"sans-serif\" font-size=\"14\" font-weight=\"bold\" lengthAdjust=\"spacingAndGlyphs\" textLength=\"18\" x=\"44\" y=\"63.9951\">P2</text></a><!--MD5=[09b614a08d8cba4a07c9adeb5e0fee81]\n",
       "class E3--><a href=\"psysml:d43e5a90-a5b9-40ed-82e3-14a3538b6850\" target=\"_top\" title=\"psysml:d43e5a90-a5b9-40ed-82e3-14a3538b6850\" xlink:actuate=\"onRequest\" xlink:href=\"psysml:d43e5a90-a5b9-40ed-82e3-14a3538b6850\" xlink:show=\"new\" xlink:title=\"psysml:d43e5a90-a5b9-40ed-82e3-14a3538b6850\" xlink:type=\"simple\"><rect fill=\"#FFFFFF\" height=\"45.9375\" id=\"E3\" style=\"stroke: #383838; stroke-width: 1.5;\" width=\"70\" x=\"72\" y=\"253\"/><text fill=\"#000000\" font-family=\"sans-serif\" font-size=\"12\" font-style=\"italic\" lengthAdjust=\"spacingAndGlyphs\" textLength=\"68\" x=\"73\" y=\"269.1387\">«part  def»</text><text fill=\"#000000\" font-family=\"sans-serif\" font-size=\"12\" lengthAdjust=\"spacingAndGlyphs\" textLength=\"8\" x=\"103\" y=\"283.1074\">A</text><line style=\"stroke: #383838; stroke-width: 1.5;\" x1=\"73\" x2=\"141\" y1=\"290.9375\" y2=\"290.9375\"/></a><!--MD5=[60a26617385b1d2d0262a64233df1f8d]\n",
       "class E6--><a href=\"psysml:76906768-adb2-44e4-864a-c9b21a4611cd\" target=\"_top\" title=\"psysml:76906768-adb2-44e4-864a-c9b21a4611cd\" xlink:actuate=\"onRequest\" xlink:href=\"psysml:76906768-adb2-44e4-864a-c9b21a4611cd\" xlink:show=\"new\" xlink:title=\"psysml:76906768-adb2-44e4-864a-c9b21a4611cd\" xlink:type=\"simple\"><rect fill=\"#FFFFFF\" height=\"45.9375\" id=\"E6\" rx=\"10\" ry=\"10\" style=\"stroke: #383838; stroke-width: 1.5;\" width=\"42\" x=\"56\" y=\"87.5\"/><text fill=\"#000000\" font-family=\"sans-serif\" font-size=\"12\" font-style=\"italic\" lengthAdjust=\"spacingAndGlyphs\" textLength=\"40\" x=\"57\" y=\"103.6387\">«part»</text><text fill=\"#000000\" font-family=\"sans-serif\" font-size=\"12\" lengthAdjust=\"spacingAndGlyphs\" textLength=\"22\" x=\"64\" y=\"117.6074\">x: A</text><line style=\"stroke: #383838; stroke-width: 1.5;\" x1=\"57\" x2=\"97\" y1=\"125.4375\" y2=\"125.4375\"/></a><a href=\"psysml:c40d8d93-4b48-4997-9b6b-7328d49803fe\" target=\"_top\" title=\"psysml:c40d8d93-4b48-4997-9b6b-7328d49803fe\" xlink:actuate=\"onRequest\" xlink:href=\"psysml:c40d8d93-4b48-4997-9b6b-7328d49803fe\" xlink:show=\"new\" xlink:title=\"psysml:c40d8d93-4b48-4997-9b6b-7328d49803fe\" xlink:type=\"simple\"><polygon fill=\"#FFFFFF\" points=\"133,84,165,84,172,106.2969,179,106.2969,179,136.5938,133,136.5938,133,84\" style=\"stroke: #000000; stroke-width: 1.5;\"/><line style=\"stroke: #000000; stroke-width: 1.5;\" x1=\"133\" x2=\"172\" y1=\"106.2969\" y2=\"106.2969\"/><text fill=\"#000000\" font-family=\"sans-serif\" font-size=\"14\" font-weight=\"bold\" lengthAdjust=\"spacingAndGlyphs\" textLength=\"26\" x=\"137\" y=\"98.9951\">P2a</text></a><!--MD5=[15ebcb19ae302d9b601edb458606d402]\n",
       "link E5 to E2--><a href=\"psysml:9ee57c7f-7f65-4593-a505-e714f10a5bde\" target=\"_top\" title=\"psysml:9ee57c7f-7f65-4593-a505-e714f10a5bde\" xlink:actuate=\"onRequest\" xlink:href=\"psysml:9ee57c7f-7f65-4593-a505-e714f10a5bde\" xlink:show=\"new\" xlink:title=\"psysml:9ee57c7f-7f65-4593-a505-e714f10a5bde\" xlink:type=\"simple\"><path d=\"M159.28,137.05 C160.735,148.365 162.5469,162.4656 164.4519,177.2955 C165.4044,184.7104 166.3802,192.3076 167.3463,199.8301 C167.5878,201.7107 167.8287,203.5867 168.0685,205.4539 C168.1884,206.3876 168.308,207.319 168.4273,208.2478 C168.4869,208.7122 168.5465,209.1759 168.6059,209.6389 \" fill=\"none\" id=\"E5-&gt;E2\" style=\"stroke: #383838; stroke-width: 1.0; stroke-dasharray: 7.0,7.0;\"/><polygon fill=\"#383838\" points=\"168.6059,209.6389,171.427,200.2027,167.9691,204.6796,163.4922,201.2217,168.6059,209.6389\" style=\"stroke: #383838; stroke-width: 1.0;\"/><text fill=\"#000000\" font-family=\"sans-serif\" font-size=\"13\" lengthAdjust=\"spacingAndGlyphs\" textLength=\"65\" x=\"166\" y=\"182.0669\">«import»*</text></a><!--MD5=[a717450b82c80b9240a525fa862496af]\n",
       "link E6 to E3--><a href=\"psysml:79dc21aa-3f25-4d04-bc8e-220599d338b9\" target=\"_top\" title=\"psysml:79dc21aa-3f25-4d04-bc8e-220599d338b9\" xlink:actuate=\"onRequest\" xlink:href=\"psysml:79dc21aa-3f25-4d04-bc8e-220599d338b9\" xlink:show=\"new\" xlink:title=\"psysml:79dc21aa-3f25-4d04-bc8e-220599d338b9\" xlink:type=\"simple\"><path d=\"M81.05,133.55 C85.7,158.9 93.44,201.1 99.26,232.83 \" fill=\"none\" id=\"E6-&gt;E3\" style=\"stroke: #383838; stroke-width: 1.0;\"/><polygon fill=\"#FFFFFF\" points=\"102.92,252.78,92.6018,235.3578,106.3713,232.8278,102.92,252.78\" style=\"stroke: #383838; stroke-width: 1.0;\"/><ellipse cx=\"93.5388\" cy=\"229.3902\" fill=\"#383838\" rx=\"2\" ry=\"2\" style=\"stroke: #383838; stroke-width: 1.0;\"/><ellipse cx=\"103.3742\" cy=\"227.5831\" fill=\"#383838\" rx=\"2\" ry=\"2\" style=\"stroke: #383838; stroke-width: 1.0;\"/></a><!--MD5=[20dd6781617942f9cb935d41f662edd2]\n",
       "@startuml\r\n",
       "top to bottom direction\r\n",
       "skinparam monochrome true\r\n",
       "skinparam classbackgroundcolor white\r\n",
       "skinparam shadowing false\r\n",
       "skinparam wrapWidth 300\r\n",
       "hide circle\r\n",
       "\r\n",
       "package \"QualifiedNameImportTest\" as E1  [[psysml:5126b6fb-a0df-489e-901c-12bad15fd52c ]]  {\r\n",
       "package \"P1\" as E2  [[psysml:4671c392-f153-4102-94c6-e9de6b11f3b3 ]]  {\r\n",
       "comp def \"A\" as E3  <<(T,blue) part  def>> [[psysml:d43e5a90-a5b9-40ed-82e3-14a3538b6850 ]] {\r\n",
       "}\r\n",
       "}\r\n",
       "package \"P2\" as E4  [[psysml:b774f6e1-b4cc-4027-a413-e3d948253bea ]]  {\r\n",
       "package \"P2a\" as E5  [[psysml:c40d8d93-4b48-4997-9b6b-7328d49803fe ]]  {\r\n",
       "}\r\n",
       "comp usage \"x: A \" as E6  <<(T,blue) part>> [[psysml:76906768-adb2-44e4-864a-c9b21a4611cd ]] {\r\n",
       "}\r\n",
       "}\r\n",
       "}\r\n",
       "E5 ..> E2 [[psysml:9ee57c7f-7f65-4593-a505-e714f10a5bde ]] : <<import>>*\r\n",
       "E6 - -:|> E3 [[psysml:79dc21aa-3f25-4d04-bc8e-220599d338b9 ]] \r\n",
       "@enduml\r\n",
       "\n",
       "PlantUML version 1.2020.13(Sat Jun 13 12:26:38 UTC 2020)\n",
       "(EPL source distribution)\n",
       "Java Runtime: OpenJDK Runtime Environment\n",
       "JVM: OpenJDK 64-Bit Server VM\n",
       "Default Encoding: UTF-8\n",
       "Language: en\n",
       "Country: null\n",
       "--></g></svg>"
      ]
     },
     "execution_count": 50,
     "metadata": {},
     "output_type": "execute_result"
    }
   ],
   "source": [
    "%viz --style=\"TB\" --view=\"MIXED\" \"QualifiedNameImportTest\""
   ]
  },
  {
   "cell_type": "code",
   "execution_count": 51,
   "id": "9379c2b3",
   "metadata": {
    "execution": {
     "iopub.execute_input": "2022-07-23T10:54:04.062427Z",
     "iopub.status.busy": "2022-07-23T10:54:04.061978Z",
     "iopub.status.idle": "2022-07-23T10:54:04.089826Z",
     "shell.execute_reply": "2022-07-23T10:54:04.089389Z"
    }
   },
   "outputs": [
    {
     "data": {
      "image/svg+xml": [
       "<?xml version=\"1.0\" encoding=\"UTF-8\" standalone=\"no\"?><svg xmlns=\"http://www.w3.org/2000/svg\" xmlns:xlink=\"http://www.w3.org/1999/xlink\" contentScriptType=\"application/ecmascript\" contentStyleType=\"text/css\" height=\"367px\" preserveAspectRatio=\"none\" style=\"width:241px;height:367px;\" version=\"1.1\" viewBox=\"0 0 241 367\" width=\"241px\" zoomAndPan=\"magnify\"><defs/><g><!--MD5=[fbc87193dbaf4d95561dea2c320d4a47]\n",
       "cluster E1--><a href=\"psysml:5126b6fb-a0df-489e-901c-12bad15fd52c\" target=\"_top\" title=\"psysml:5126b6fb-a0df-489e-901c-12bad15fd52c\" xlink:actuate=\"onRequest\" xlink:href=\"psysml:5126b6fb-a0df-489e-901c-12bad15fd52c\" xlink:show=\"new\" xlink:title=\"psysml:5126b6fb-a0df-489e-901c-12bad15fd52c\" xlink:type=\"simple\"><polygon fill=\"#FFFFFF\" points=\"16,6,196,6,203,28.2969,219,28.2969,219,355,16,355,16,6\" style=\"stroke: #000000; stroke-width: 1.5;\"/><line style=\"stroke: #000000; stroke-width: 1.5;\" x1=\"16\" x2=\"203\" y1=\"28.2969\" y2=\"28.2969\"/><text fill=\"#000000\" font-family=\"sans-serif\" font-size=\"14\" font-weight=\"bold\" lengthAdjust=\"spacingAndGlyphs\" textLength=\"174\" x=\"20\" y=\"20.9951\">QualifiedNameImportTest</text></a><!--MD5=[e4f7fae6ed58524ba242bb0b0d3be6b7]\n",
       "cluster E2--><a href=\"psysml:4671c392-f153-4102-94c6-e9de6b11f3b3\" target=\"_top\" title=\"psysml:4671c392-f153-4102-94c6-e9de6b11f3b3\" xlink:actuate=\"onRequest\" xlink:href=\"psysml:4671c392-f153-4102-94c6-e9de6b11f3b3\" xlink:show=\"new\" xlink:title=\"psysml:4671c392-f153-4102-94c6-e9de6b11f3b3\" xlink:type=\"simple\"><polygon fill=\"#FFFFFF\" points=\"48,210,72,210,79,232.2969,185,232.2969,185,323,48,323,48,210\" style=\"stroke: #000000; stroke-width: 1.5;\"/><line style=\"stroke: #000000; stroke-width: 1.5;\" x1=\"48\" x2=\"79\" y1=\"232.2969\" y2=\"232.2969\"/><text fill=\"#000000\" font-family=\"sans-serif\" font-size=\"14\" font-weight=\"bold\" lengthAdjust=\"spacingAndGlyphs\" textLength=\"18\" x=\"52\" y=\"224.9951\">P1</text></a><!--MD5=[f6df4d0ebaf0b5dfb2ced0ae5af7c670]\n",
       "cluster E4--><a href=\"psysml:b774f6e1-b4cc-4027-a413-e3d948253bea\" target=\"_top\" title=\"psysml:b774f6e1-b4cc-4027-a413-e3d948253bea\" xlink:actuate=\"onRequest\" xlink:href=\"psysml:b774f6e1-b4cc-4027-a413-e3d948253bea\" xlink:show=\"new\" xlink:title=\"psysml:b774f6e1-b4cc-4027-a413-e3d948253bea\" xlink:type=\"simple\"><polygon fill=\"#FFFFFF\" points=\"40,49,64,49,71,71.2969,195,71.2969,195,153,40,153,40,49\" style=\"stroke: #000000; stroke-width: 1.5;\"/><line style=\"stroke: #000000; stroke-width: 1.5;\" x1=\"40\" x2=\"71\" y1=\"71.2969\" y2=\"71.2969\"/><text fill=\"#000000\" font-family=\"sans-serif\" font-size=\"14\" font-weight=\"bold\" lengthAdjust=\"spacingAndGlyphs\" textLength=\"18\" x=\"44\" y=\"63.9951\">P2</text></a><!--MD5=[09b614a08d8cba4a07c9adeb5e0fee81]\n",
       "class E3--><a href=\"psysml:d43e5a90-a5b9-40ed-82e3-14a3538b6850\" target=\"_top\" title=\"psysml:d43e5a90-a5b9-40ed-82e3-14a3538b6850\" xlink:actuate=\"onRequest\" xlink:href=\"psysml:d43e5a90-a5b9-40ed-82e3-14a3538b6850\" xlink:show=\"new\" xlink:title=\"psysml:d43e5a90-a5b9-40ed-82e3-14a3538b6850\" xlink:type=\"simple\"><rect fill=\"#FFFFFF\" height=\"45.9375\" id=\"E3\" style=\"stroke: #383838; stroke-width: 1.5;\" width=\"70\" x=\"72\" y=\"253\"/><text fill=\"#000000\" font-family=\"sans-serif\" font-size=\"12\" font-style=\"italic\" lengthAdjust=\"spacingAndGlyphs\" textLength=\"68\" x=\"73\" y=\"269.1387\">«part  def»</text><text fill=\"#000000\" font-family=\"sans-serif\" font-size=\"12\" lengthAdjust=\"spacingAndGlyphs\" textLength=\"8\" x=\"103\" y=\"283.1074\">A</text><line style=\"stroke: #383838; stroke-width: 1.5;\" x1=\"73\" x2=\"141\" y1=\"290.9375\" y2=\"290.9375\"/></a><!--MD5=[60a26617385b1d2d0262a64233df1f8d]\n",
       "class E6--><a href=\"psysml:76906768-adb2-44e4-864a-c9b21a4611cd\" target=\"_top\" title=\"psysml:76906768-adb2-44e4-864a-c9b21a4611cd\" xlink:actuate=\"onRequest\" xlink:href=\"psysml:76906768-adb2-44e4-864a-c9b21a4611cd\" xlink:show=\"new\" xlink:title=\"psysml:76906768-adb2-44e4-864a-c9b21a4611cd\" xlink:type=\"simple\"><rect fill=\"#FFFFFF\" height=\"45.9375\" id=\"E6\" rx=\"10\" ry=\"10\" style=\"stroke: #383838; stroke-width: 1.5;\" width=\"42\" x=\"56\" y=\"87.5\"/><text fill=\"#000000\" font-family=\"sans-serif\" font-size=\"12\" font-style=\"italic\" lengthAdjust=\"spacingAndGlyphs\" textLength=\"40\" x=\"57\" y=\"103.6387\">«part»</text><text fill=\"#000000\" font-family=\"sans-serif\" font-size=\"12\" lengthAdjust=\"spacingAndGlyphs\" textLength=\"22\" x=\"64\" y=\"117.6074\">x: A</text><line style=\"stroke: #383838; stroke-width: 1.5;\" x1=\"57\" x2=\"97\" y1=\"125.4375\" y2=\"125.4375\"/></a><a href=\"psysml:c40d8d93-4b48-4997-9b6b-7328d49803fe\" target=\"_top\" title=\"psysml:c40d8d93-4b48-4997-9b6b-7328d49803fe\" xlink:actuate=\"onRequest\" xlink:href=\"psysml:c40d8d93-4b48-4997-9b6b-7328d49803fe\" xlink:show=\"new\" xlink:title=\"psysml:c40d8d93-4b48-4997-9b6b-7328d49803fe\" xlink:type=\"simple\"><polygon fill=\"#FFFFFF\" points=\"133,84,165,84,172,106.2969,179,106.2969,179,136.5938,133,136.5938,133,84\" style=\"stroke: #000000; stroke-width: 1.5;\"/><line style=\"stroke: #000000; stroke-width: 1.5;\" x1=\"133\" x2=\"172\" y1=\"106.2969\" y2=\"106.2969\"/><text fill=\"#000000\" font-family=\"sans-serif\" font-size=\"14\" font-weight=\"bold\" lengthAdjust=\"spacingAndGlyphs\" textLength=\"26\" x=\"137\" y=\"98.9951\">P2a</text></a><!--MD5=[15ebcb19ae302d9b601edb458606d402]\n",
       "link E5 to E2--><a href=\"psysml:9ee57c7f-7f65-4593-a505-e714f10a5bde\" target=\"_top\" title=\"psysml:9ee57c7f-7f65-4593-a505-e714f10a5bde\" xlink:actuate=\"onRequest\" xlink:href=\"psysml:9ee57c7f-7f65-4593-a505-e714f10a5bde\" xlink:show=\"new\" xlink:title=\"psysml:9ee57c7f-7f65-4593-a505-e714f10a5bde\" xlink:type=\"simple\"><path d=\"M177,137.09 C177,148.2375 177,161.9594 177,176.3959 C177,183.6142 177,191.0112 177,198.3543 C177,202.0259 177,205.6841 177,209.2997 C177,209.5257 177,209.7515 177,209.9771 \" fill=\"none\" id=\"E5-&gt;E2\" style=\"stroke: #383838; stroke-width: 1.0; stroke-dasharray: 7.0,7.0;\"/><polygon fill=\"#383838\" points=\"177,209.9771,181,200.9771,177,204.9771,173,200.9771,177,209.9771\" style=\"stroke: #383838; stroke-width: 1.0;\"/><text fill=\"#000000\" font-family=\"sans-serif\" font-size=\"13\" lengthAdjust=\"spacingAndGlyphs\" textLength=\"65\" x=\"137\" y=\"182.0669\">«import»*</text></a><!--MD5=[a717450b82c80b9240a525fa862496af]\n",
       "link E6 to E3--><a href=\"psysml:79dc21aa-3f25-4d04-bc8e-220599d338b9\" target=\"_top\" title=\"psysml:79dc21aa-3f25-4d04-bc8e-220599d338b9\" xlink:actuate=\"onRequest\" xlink:href=\"psysml:79dc21aa-3f25-4d04-bc8e-220599d338b9\" xlink:show=\"new\" xlink:title=\"psysml:79dc21aa-3f25-4d04-bc8e-220599d338b9\" xlink:type=\"simple\"><path d=\"M85,133.51 C85,133.51 85,232.92 85,232.92 \" fill=\"none\" id=\"E6-&gt;E3\" style=\"stroke: #383838; stroke-width: 1.0;\"/><polygon fill=\"#FFFFFF\" points=\"85,252.92,78,233.92,92,233.92,85,252.92\" style=\"stroke: #383838; stroke-width: 1.0;\"/><ellipse cx=\"80\" cy=\"228.22\" fill=\"#383838\" rx=\"2\" ry=\"2\" style=\"stroke: #383838; stroke-width: 1.0;\"/><ellipse cx=\"90\" cy=\"228.22\" fill=\"#383838\" rx=\"2\" ry=\"2\" style=\"stroke: #383838; stroke-width: 1.0;\"/></a><!--MD5=[6dc55c587136d87338d29598b7b17d2f]\n",
       "@startuml\r\n",
       "skinparam linetype ortho\r\n",
       "skinparam monochrome true\r\n",
       "skinparam classbackgroundcolor white\r\n",
       "skinparam shadowing false\r\n",
       "skinparam wrapWidth 300\r\n",
       "hide circle\r\n",
       "\r\n",
       "package \"QualifiedNameImportTest\" as E1  [[psysml:5126b6fb-a0df-489e-901c-12bad15fd52c ]]  {\r\n",
       "package \"P1\" as E2  [[psysml:4671c392-f153-4102-94c6-e9de6b11f3b3 ]]  {\r\n",
       "comp def \"A\" as E3  <<(T,blue) part  def>> [[psysml:d43e5a90-a5b9-40ed-82e3-14a3538b6850 ]] {\r\n",
       "}\r\n",
       "}\r\n",
       "package \"P2\" as E4  [[psysml:b774f6e1-b4cc-4027-a413-e3d948253bea ]]  {\r\n",
       "package \"P2a\" as E5  [[psysml:c40d8d93-4b48-4997-9b6b-7328d49803fe ]]  {\r\n",
       "}\r\n",
       "comp usage \"x: A \" as E6  <<(T,blue) part>> [[psysml:76906768-adb2-44e4-864a-c9b21a4611cd ]] {\r\n",
       "}\r\n",
       "}\r\n",
       "}\r\n",
       "E5 ..> E2 [[psysml:9ee57c7f-7f65-4593-a505-e714f10a5bde ]] : <<import>>*\r\n",
       "E6 - -:|> E3 [[psysml:79dc21aa-3f25-4d04-bc8e-220599d338b9 ]] \r\n",
       "@enduml\r\n",
       "\n",
       "PlantUML version 1.2020.13(Sat Jun 13 12:26:38 UTC 2020)\n",
       "(EPL source distribution)\n",
       "Java Runtime: OpenJDK Runtime Environment\n",
       "JVM: OpenJDK 64-Bit Server VM\n",
       "Default Encoding: UTF-8\n",
       "Language: en\n",
       "Country: null\n",
       "--></g></svg>"
      ]
     },
     "execution_count": 51,
     "metadata": {},
     "output_type": "execute_result"
    }
   ],
   "source": [
    "%viz --style=\"ORTHOLINE\" --view=\"Default\" \"QualifiedNameImportTest\""
   ]
  },
  {
   "cell_type": "code",
   "execution_count": 52,
   "id": "11d1c9ac",
   "metadata": {
    "execution": {
     "iopub.execute_input": "2022-07-23T10:54:04.139268Z",
     "iopub.status.busy": "2022-07-23T10:54:04.138821Z",
     "iopub.status.idle": "2022-07-23T10:54:04.166374Z",
     "shell.execute_reply": "2022-07-23T10:54:04.165935Z"
    }
   },
   "outputs": [
    {
     "data": {
      "image/svg+xml": [
       "<?xml version=\"1.0\" encoding=\"UTF-8\" standalone=\"no\"?><svg xmlns=\"http://www.w3.org/2000/svg\" xmlns:xlink=\"http://www.w3.org/1999/xlink\" contentScriptType=\"application/ecmascript\" contentStyleType=\"text/css\" height=\"367px\" preserveAspectRatio=\"none\" style=\"width:241px;height:367px;\" version=\"1.1\" viewBox=\"0 0 241 367\" width=\"241px\" zoomAndPan=\"magnify\"><defs/><g><!--MD5=[fbc87193dbaf4d95561dea2c320d4a47]\n",
       "cluster E1--><a href=\"psysml:5126b6fb-a0df-489e-901c-12bad15fd52c\" target=\"_top\" title=\"psysml:5126b6fb-a0df-489e-901c-12bad15fd52c\" xlink:actuate=\"onRequest\" xlink:href=\"psysml:5126b6fb-a0df-489e-901c-12bad15fd52c\" xlink:show=\"new\" xlink:title=\"psysml:5126b6fb-a0df-489e-901c-12bad15fd52c\" xlink:type=\"simple\"><polygon fill=\"#FFFFFF\" points=\"16,6,196,6,203,28.2969,219,28.2969,219,355,16,355,16,6\" style=\"stroke: #000000; stroke-width: 1.5;\"/><line style=\"stroke: #000000; stroke-width: 1.5;\" x1=\"16\" x2=\"203\" y1=\"28.2969\" y2=\"28.2969\"/><text fill=\"#000000\" font-family=\"sans-serif\" font-size=\"14\" font-weight=\"bold\" lengthAdjust=\"spacingAndGlyphs\" textLength=\"174\" x=\"20\" y=\"20.9951\">QualifiedNameImportTest</text></a><!--MD5=[e4f7fae6ed58524ba242bb0b0d3be6b7]\n",
       "cluster E2--><a href=\"psysml:4671c392-f153-4102-94c6-e9de6b11f3b3\" target=\"_top\" title=\"psysml:4671c392-f153-4102-94c6-e9de6b11f3b3\" xlink:actuate=\"onRequest\" xlink:href=\"psysml:4671c392-f153-4102-94c6-e9de6b11f3b3\" xlink:show=\"new\" xlink:title=\"psysml:4671c392-f153-4102-94c6-e9de6b11f3b3\" xlink:type=\"simple\"><polygon fill=\"#FFFFFF\" points=\"48,210,72,210,79,232.2969,185,232.2969,185,323,48,323,48,210\" style=\"stroke: #000000; stroke-width: 1.5;\"/><line style=\"stroke: #000000; stroke-width: 1.5;\" x1=\"48\" x2=\"79\" y1=\"232.2969\" y2=\"232.2969\"/><text fill=\"#000000\" font-family=\"sans-serif\" font-size=\"14\" font-weight=\"bold\" lengthAdjust=\"spacingAndGlyphs\" textLength=\"18\" x=\"52\" y=\"224.9951\">P1</text></a><!--MD5=[f6df4d0ebaf0b5dfb2ced0ae5af7c670]\n",
       "cluster E4--><a href=\"psysml:b774f6e1-b4cc-4027-a413-e3d948253bea\" target=\"_top\" title=\"psysml:b774f6e1-b4cc-4027-a413-e3d948253bea\" xlink:actuate=\"onRequest\" xlink:href=\"psysml:b774f6e1-b4cc-4027-a413-e3d948253bea\" xlink:show=\"new\" xlink:title=\"psysml:b774f6e1-b4cc-4027-a413-e3d948253bea\" xlink:type=\"simple\"><polygon fill=\"#FFFFFF\" points=\"40,49,64,49,71,71.2969,195,71.2969,195,153,40,153,40,49\" style=\"stroke: #000000; stroke-width: 1.5;\"/><line style=\"stroke: #000000; stroke-width: 1.5;\" x1=\"40\" x2=\"71\" y1=\"71.2969\" y2=\"71.2969\"/><text fill=\"#000000\" font-family=\"sans-serif\" font-size=\"14\" font-weight=\"bold\" lengthAdjust=\"spacingAndGlyphs\" textLength=\"18\" x=\"44\" y=\"63.9951\">P2</text></a><!--MD5=[09b614a08d8cba4a07c9adeb5e0fee81]\n",
       "class E3--><a href=\"psysml:d43e5a90-a5b9-40ed-82e3-14a3538b6850\" target=\"_top\" title=\"psysml:d43e5a90-a5b9-40ed-82e3-14a3538b6850\" xlink:actuate=\"onRequest\" xlink:href=\"psysml:d43e5a90-a5b9-40ed-82e3-14a3538b6850\" xlink:show=\"new\" xlink:title=\"psysml:d43e5a90-a5b9-40ed-82e3-14a3538b6850\" xlink:type=\"simple\"><rect fill=\"#FFFFFF\" height=\"45.9375\" id=\"E3\" style=\"stroke: #383838; stroke-width: 1.5;\" width=\"70\" x=\"72\" y=\"253\"/><text fill=\"#000000\" font-family=\"sans-serif\" font-size=\"12\" font-style=\"italic\" lengthAdjust=\"spacingAndGlyphs\" textLength=\"68\" x=\"73\" y=\"269.1387\">«part  def»</text><text fill=\"#000000\" font-family=\"sans-serif\" font-size=\"12\" lengthAdjust=\"spacingAndGlyphs\" textLength=\"8\" x=\"103\" y=\"283.1074\">A</text><line style=\"stroke: #383838; stroke-width: 1.5;\" x1=\"73\" x2=\"141\" y1=\"290.9375\" y2=\"290.9375\"/></a><!--MD5=[60a26617385b1d2d0262a64233df1f8d]\n",
       "class E6--><a href=\"psysml:76906768-adb2-44e4-864a-c9b21a4611cd\" target=\"_top\" title=\"psysml:76906768-adb2-44e4-864a-c9b21a4611cd\" xlink:actuate=\"onRequest\" xlink:href=\"psysml:76906768-adb2-44e4-864a-c9b21a4611cd\" xlink:show=\"new\" xlink:title=\"psysml:76906768-adb2-44e4-864a-c9b21a4611cd\" xlink:type=\"simple\"><rect fill=\"#FFFFFF\" height=\"45.9375\" id=\"E6\" rx=\"10\" ry=\"10\" style=\"stroke: #383838; stroke-width: 1.5;\" width=\"42\" x=\"56\" y=\"87.5\"/><text fill=\"#000000\" font-family=\"sans-serif\" font-size=\"12\" font-style=\"italic\" lengthAdjust=\"spacingAndGlyphs\" textLength=\"40\" x=\"57\" y=\"103.6387\">«part»</text><text fill=\"#000000\" font-family=\"sans-serif\" font-size=\"12\" lengthAdjust=\"spacingAndGlyphs\" textLength=\"22\" x=\"64\" y=\"117.6074\">x: A</text><line style=\"stroke: #383838; stroke-width: 1.5;\" x1=\"57\" x2=\"97\" y1=\"125.4375\" y2=\"125.4375\"/></a><a href=\"psysml:c40d8d93-4b48-4997-9b6b-7328d49803fe\" target=\"_top\" title=\"psysml:c40d8d93-4b48-4997-9b6b-7328d49803fe\" xlink:actuate=\"onRequest\" xlink:href=\"psysml:c40d8d93-4b48-4997-9b6b-7328d49803fe\" xlink:show=\"new\" xlink:title=\"psysml:c40d8d93-4b48-4997-9b6b-7328d49803fe\" xlink:type=\"simple\"><polygon fill=\"#FFFFFF\" points=\"133,84,165,84,172,106.2969,179,106.2969,179,136.5938,133,136.5938,133,84\" style=\"stroke: #000000; stroke-width: 1.5;\"/><line style=\"stroke: #000000; stroke-width: 1.5;\" x1=\"133\" x2=\"172\" y1=\"106.2969\" y2=\"106.2969\"/><text fill=\"#000000\" font-family=\"sans-serif\" font-size=\"14\" font-weight=\"bold\" lengthAdjust=\"spacingAndGlyphs\" textLength=\"26\" x=\"137\" y=\"98.9951\">P2a</text></a><!--MD5=[15ebcb19ae302d9b601edb458606d402]\n",
       "link E5 to E2--><a href=\"psysml:9ee57c7f-7f65-4593-a505-e714f10a5bde\" target=\"_top\" title=\"psysml:9ee57c7f-7f65-4593-a505-e714f10a5bde\" xlink:actuate=\"onRequest\" xlink:href=\"psysml:9ee57c7f-7f65-4593-a505-e714f10a5bde\" xlink:show=\"new\" xlink:title=\"psysml:9ee57c7f-7f65-4593-a505-e714f10a5bde\" xlink:type=\"simple\"><path d=\"M177,137.09 C177,148.2375 177,161.9594 177,176.3959 C177,183.6142 177,191.0112 177,198.3543 C177,202.0259 177,205.6841 177,209.2997 C177,209.5257 177,209.7515 177,209.9771 \" fill=\"none\" id=\"E5-&gt;E2\" style=\"stroke: #383838; stroke-width: 1.0; stroke-dasharray: 7.0,7.0;\"/><polygon fill=\"#383838\" points=\"177,209.9771,181,200.9771,177,204.9771,173,200.9771,177,209.9771\" style=\"stroke: #383838; stroke-width: 1.0;\"/><text fill=\"#000000\" font-family=\"sans-serif\" font-size=\"13\" lengthAdjust=\"spacingAndGlyphs\" textLength=\"65\" x=\"137\" y=\"182.0669\">«import»*</text></a><!--MD5=[a717450b82c80b9240a525fa862496af]\n",
       "link E6 to E3--><a href=\"psysml:79dc21aa-3f25-4d04-bc8e-220599d338b9\" target=\"_top\" title=\"psysml:79dc21aa-3f25-4d04-bc8e-220599d338b9\" xlink:actuate=\"onRequest\" xlink:href=\"psysml:79dc21aa-3f25-4d04-bc8e-220599d338b9\" xlink:show=\"new\" xlink:title=\"psysml:79dc21aa-3f25-4d04-bc8e-220599d338b9\" xlink:type=\"simple\"><path d=\"M85,133.51 C85,133.51 85,232.92 85,232.92 \" fill=\"none\" id=\"E6-&gt;E3\" style=\"stroke: #383838; stroke-width: 1.0;\"/><polygon fill=\"#FFFFFF\" points=\"85,252.92,78,233.92,92,233.92,85,252.92\" style=\"stroke: #383838; stroke-width: 1.0;\"/><ellipse cx=\"80\" cy=\"228.22\" fill=\"#383838\" rx=\"2\" ry=\"2\" style=\"stroke: #383838; stroke-width: 1.0;\"/><ellipse cx=\"90\" cy=\"228.22\" fill=\"#383838\" rx=\"2\" ry=\"2\" style=\"stroke: #383838; stroke-width: 1.0;\"/></a><!--MD5=[6dc55c587136d87338d29598b7b17d2f]\n",
       "@startuml\r\n",
       "skinparam linetype ortho\r\n",
       "skinparam monochrome true\r\n",
       "skinparam classbackgroundcolor white\r\n",
       "skinparam shadowing false\r\n",
       "skinparam wrapWidth 300\r\n",
       "hide circle\r\n",
       "\r\n",
       "package \"QualifiedNameImportTest\" as E1  [[psysml:5126b6fb-a0df-489e-901c-12bad15fd52c ]]  {\r\n",
       "package \"P1\" as E2  [[psysml:4671c392-f153-4102-94c6-e9de6b11f3b3 ]]  {\r\n",
       "comp def \"A\" as E3  <<(T,blue) part  def>> [[psysml:d43e5a90-a5b9-40ed-82e3-14a3538b6850 ]] {\r\n",
       "}\r\n",
       "}\r\n",
       "package \"P2\" as E4  [[psysml:b774f6e1-b4cc-4027-a413-e3d948253bea ]]  {\r\n",
       "package \"P2a\" as E5  [[psysml:c40d8d93-4b48-4997-9b6b-7328d49803fe ]]  {\r\n",
       "}\r\n",
       "comp usage \"x: A \" as E6  <<(T,blue) part>> [[psysml:76906768-adb2-44e4-864a-c9b21a4611cd ]] {\r\n",
       "}\r\n",
       "}\r\n",
       "}\r\n",
       "E5 ..> E2 [[psysml:9ee57c7f-7f65-4593-a505-e714f10a5bde ]] : <<import>>*\r\n",
       "E6 - -:|> E3 [[psysml:79dc21aa-3f25-4d04-bc8e-220599d338b9 ]] \r\n",
       "@enduml\r\n",
       "\n",
       "PlantUML version 1.2020.13(Sat Jun 13 12:26:38 UTC 2020)\n",
       "(EPL source distribution)\n",
       "Java Runtime: OpenJDK Runtime Environment\n",
       "JVM: OpenJDK 64-Bit Server VM\n",
       "Default Encoding: UTF-8\n",
       "Language: en\n",
       "Country: null\n",
       "--></g></svg>"
      ]
     },
     "execution_count": 52,
     "metadata": {},
     "output_type": "execute_result"
    }
   ],
   "source": [
    "%viz --style=\"ORTHOLINE\" --view=\"Tree\" \"QualifiedNameImportTest\""
   ]
  },
  {
   "cell_type": "code",
   "execution_count": 53,
   "id": "dd7ddf53",
   "metadata": {
    "execution": {
     "iopub.execute_input": "2022-07-23T10:54:04.215802Z",
     "iopub.status.busy": "2022-07-23T10:54:04.215334Z",
     "iopub.status.idle": "2022-07-23T10:54:04.222748Z",
     "shell.execute_reply": "2022-07-23T10:54:04.222300Z"
    }
   },
   "outputs": [
    {
     "data": {
      "image/svg+xml": [
       "<?xml version=\"1.0\" encoding=\"UTF-8\" standalone=\"no\"?><svg xmlns=\"http://www.w3.org/2000/svg\" xmlns:xlink=\"http://www.w3.org/1999/xlink\" contentScriptType=\"application/ecmascript\" contentStyleType=\"text/css\" height=\"12px\" preserveAspectRatio=\"none\" style=\"width:12px;height:12px;\" version=\"1.1\" viewBox=\"0 0 12 12\" width=\"12px\" zoomAndPan=\"magnify\"><defs/><g><!--MD5=[97d6f38768b311333d388e66b2b27985]\n",
       "@startuml\r\n",
       "skinparam linetype ortho\r\n",
       "skinparam monochrome true\r\n",
       "skinparam classbackgroundcolor white\r\n",
       "skinparam shadowing false\r\n",
       "skinparam wrapWidth 300\r\n",
       "hide circle\r\n",
       "\r\n",
       "@enduml\r\n",
       "\n",
       "PlantUML version 1.2020.13(Sat Jun 13 12:26:38 UTC 2020)\n",
       "(EPL source distribution)\n",
       "Java Runtime: OpenJDK Runtime Environment\n",
       "JVM: OpenJDK 64-Bit Server VM\n",
       "Default Encoding: UTF-8\n",
       "Language: en\n",
       "Country: null\n",
       "--></g></svg>"
      ]
     },
     "execution_count": 53,
     "metadata": {},
     "output_type": "execute_result"
    }
   ],
   "source": [
    "%viz --style=\"ORTHOLINE\" --view=\"State\" \"QualifiedNameImportTest\""
   ]
  },
  {
   "cell_type": "code",
   "execution_count": 54,
   "id": "3b9fc589",
   "metadata": {
    "execution": {
     "iopub.execute_input": "2022-07-23T10:54:04.270057Z",
     "iopub.status.busy": "2022-07-23T10:54:04.269597Z",
     "iopub.status.idle": "2022-07-23T10:54:04.305588Z",
     "shell.execute_reply": "2022-07-23T10:54:04.304121Z"
    }
   },
   "outputs": [
    {
     "data": {
      "image/svg+xml": [
       "<?xml version=\"1.0\" encoding=\"UTF-8\" standalone=\"no\"?><svg xmlns=\"http://www.w3.org/2000/svg\" xmlns:xlink=\"http://www.w3.org/1999/xlink\" contentScriptType=\"application/ecmascript\" contentStyleType=\"text/css\" height=\"364px\" preserveAspectRatio=\"none\" style=\"width:249px;height:364px;\" version=\"1.1\" viewBox=\"0 0 249 364\" width=\"249px\" zoomAndPan=\"magnify\"><defs/><g><!--MD5=[fbc87193dbaf4d95561dea2c320d4a47]\n",
       "cluster E1--><a href=\"psysml:5126b6fb-a0df-489e-901c-12bad15fd52c\" target=\"_top\" title=\"psysml:5126b6fb-a0df-489e-901c-12bad15fd52c\" xlink:actuate=\"onRequest\" xlink:href=\"psysml:5126b6fb-a0df-489e-901c-12bad15fd52c\" xlink:show=\"new\" xlink:title=\"psysml:5126b6fb-a0df-489e-901c-12bad15fd52c\" xlink:type=\"simple\"><polygon fill=\"#FFFFFF\" points=\"16,6,196,6,203,28.2969,227,28.2969,227,352,16,352,16,6\" style=\"stroke: #000000; stroke-width: 1.5;\"/><line style=\"stroke: #000000; stroke-width: 1.5;\" x1=\"16\" x2=\"203\" y1=\"28.2969\" y2=\"28.2969\"/><text fill=\"#000000\" font-family=\"sans-serif\" font-size=\"14\" font-weight=\"bold\" lengthAdjust=\"spacingAndGlyphs\" textLength=\"174\" x=\"20\" y=\"20.9951\">QualifiedNameImportTest</text></a><!--MD5=[e4f7fae6ed58524ba242bb0b0d3be6b7]\n",
       "cluster E2--><a href=\"psysml:4671c392-f153-4102-94c6-e9de6b11f3b3\" target=\"_top\" title=\"psysml:4671c392-f153-4102-94c6-e9de6b11f3b3\" xlink:actuate=\"onRequest\" xlink:href=\"psysml:4671c392-f153-4102-94c6-e9de6b11f3b3\" xlink:show=\"new\" xlink:title=\"psysml:4671c392-f153-4102-94c6-e9de6b11f3b3\" xlink:type=\"simple\"><polygon fill=\"#FFFFFF\" points=\"53,210,77,210,84,232.2969,195,232.2969,195,320,53,320,53,210\" style=\"stroke: #000000; stroke-width: 1.5;\"/><line style=\"stroke: #000000; stroke-width: 1.5;\" x1=\"53\" x2=\"84\" y1=\"232.2969\" y2=\"232.2969\"/><text fill=\"#000000\" font-family=\"sans-serif\" font-size=\"14\" font-weight=\"bold\" lengthAdjust=\"spacingAndGlyphs\" textLength=\"18\" x=\"57\" y=\"224.9951\">P1</text></a><!--MD5=[f6df4d0ebaf0b5dfb2ced0ae5af7c670]\n",
       "cluster E4--><a href=\"psysml:b774f6e1-b4cc-4027-a413-e3d948253bea\" target=\"_top\" title=\"psysml:b774f6e1-b4cc-4027-a413-e3d948253bea\" xlink:actuate=\"onRequest\" xlink:href=\"psysml:b774f6e1-b4cc-4027-a413-e3d948253bea\" xlink:show=\"new\" xlink:title=\"psysml:b774f6e1-b4cc-4027-a413-e3d948253bea\" xlink:type=\"simple\"><polygon fill=\"#FFFFFF\" points=\"40,49,64,49,71,71.2969,203,71.2969,203,153,40,153,40,49\" style=\"stroke: #000000; stroke-width: 1.5;\"/><line style=\"stroke: #000000; stroke-width: 1.5;\" x1=\"40\" x2=\"71\" y1=\"71.2969\" y2=\"71.2969\"/><text fill=\"#000000\" font-family=\"sans-serif\" font-size=\"14\" font-weight=\"bold\" lengthAdjust=\"spacingAndGlyphs\" textLength=\"18\" x=\"44\" y=\"63.9951\">P2</text></a><g id=\"E1.E2.E3\"><a href=\"psysml:d43e5a90-a5b9-40ed-82e3-14a3538b6850\" target=\"_top\" title=\"psysml:d43e5a90-a5b9-40ed-82e3-14a3538b6850\" xlink:actuate=\"onRequest\" xlink:href=\"psysml:d43e5a90-a5b9-40ed-82e3-14a3538b6850\" xlink:show=\"new\" xlink:title=\"psysml:d43e5a90-a5b9-40ed-82e3-14a3538b6850\" xlink:type=\"simple\"><rect fill=\"#FFFFFF\" height=\"42.9375\" id=\"E3\" style=\"stroke: #383838; stroke-width: 1.5;\" width=\"75\" x=\"96.5\" y=\"253\"/><rect fill=\"#F8F8F8\" height=\"37.9375\" style=\"stroke: #383838; stroke-width: 1.5;\" width=\"75\" x=\"96.5\" y=\"253\"/><text fill=\"#000000\" font-family=\"sans-serif\" font-size=\"12\" font-style=\"italic\" lengthAdjust=\"spacingAndGlyphs\" textLength=\"68\" x=\"100\" y=\"269.1387\">«part  def»</text><text fill=\"#000000\" font-family=\"sans-serif\" font-size=\"12\" lengthAdjust=\"spacingAndGlyphs\" textLength=\"8\" x=\"130\" y=\"283.1074\">A</text></a></g><a href=\"psysml:c40d8d93-4b48-4997-9b6b-7328d49803fe\" target=\"_top\" title=\"psysml:c40d8d93-4b48-4997-9b6b-7328d49803fe\" xlink:actuate=\"onRequest\" xlink:href=\"psysml:c40d8d93-4b48-4997-9b6b-7328d49803fe\" xlink:show=\"new\" xlink:title=\"psysml:c40d8d93-4b48-4997-9b6b-7328d49803fe\" xlink:type=\"simple\"><polygon fill=\"#FFFFFF\" points=\"56,84,88,84,95,106.2969,102,106.2969,102,136.5938,56,136.5938,56,84\" style=\"stroke: #000000; stroke-width: 1.5;\"/><line style=\"stroke: #000000; stroke-width: 1.5;\" x1=\"56\" x2=\"95\" y1=\"106.2969\" y2=\"106.2969\"/><text fill=\"#000000\" font-family=\"sans-serif\" font-size=\"14\" font-weight=\"bold\" lengthAdjust=\"spacingAndGlyphs\" textLength=\"26\" x=\"60\" y=\"98.9951\">P2a</text></a><g id=\"E1.E4.E6\"><a href=\"psysml:76906768-adb2-44e4-864a-c9b21a4611cd\" target=\"_top\" title=\"psysml:76906768-adb2-44e4-864a-c9b21a4611cd\" xlink:actuate=\"onRequest\" xlink:href=\"psysml:76906768-adb2-44e4-864a-c9b21a4611cd\" xlink:show=\"new\" xlink:title=\"psysml:76906768-adb2-44e4-864a-c9b21a4611cd\" xlink:type=\"simple\"><rect fill=\"#FFFFFF\" height=\"40\" id=\"E6\" rx=\"10\" ry=\"10\" style=\"stroke: #383838; stroke-width: 1.5;\" width=\"50\" x=\"137\" y=\"90.5\"/><rect fill=\"#F8F8F8\" height=\"23.9688\" rx=\"10\" ry=\"10\" style=\"stroke: #F8F8F8; stroke-width: 1.5;\" width=\"50\" x=\"137\" y=\"90.5\"/><rect fill=\"#F8F8F8\" height=\"10\" style=\"stroke: #F8F8F8; stroke-width: 1.5;\" width=\"50\" x=\"137\" y=\"104.4688\"/><rect fill=\"none\" height=\"40\" id=\"E6\" rx=\"10\" ry=\"10\" style=\"stroke: #383838; stroke-width: 1.5;\" width=\"50\" x=\"137\" y=\"90.5\"/><text fill=\"#000000\" font-family=\"sans-serif\" font-size=\"12\" lengthAdjust=\"spacingAndGlyphs\" textLength=\"22\" x=\"151\" y=\"106.6387\">x: A</text></a></g><!--MD5=[15ebcb19ae302d9b601edb458606d402]\n",
       "link E5 to E2--><a href=\"psysml:9ee57c7f-7f65-4593-a505-e714f10a5bde\" target=\"_top\" title=\"psysml:9ee57c7f-7f65-4593-a505-e714f10a5bde\" xlink:actuate=\"onRequest\" xlink:href=\"psysml:9ee57c7f-7f65-4593-a505-e714f10a5bde\" xlink:show=\"new\" xlink:title=\"psysml:9ee57c7f-7f65-4593-a505-e714f10a5bde\" xlink:type=\"simple\"><path d=\"M61,137.21 C61,148.285 61,161.8769 61,176.1575 C61,183.2978 61,190.6103 61,197.8665 C61,201.4946 61,205.1086 61,208.6799 C61,208.9031 61,209.1262 61,209.3491 \" fill=\"none\" id=\"E5-&gt;E2\" style=\"stroke: #383838; stroke-width: 1.0; stroke-dasharray: 7.0,7.0;\"/><polygon fill=\"#383838\" points=\"61,209.3491,65,200.3491,61,204.3491,57,200.3491,61,209.3491\" style=\"stroke: #383838; stroke-width: 1.0;\"/><text fill=\"#000000\" font-family=\"sans-serif\" font-size=\"13\" lengthAdjust=\"spacingAndGlyphs\" textLength=\"65\" x=\"74\" y=\"182.0669\">«import»*</text></a><!--MD5=[a717450b82c80b9240a525fa862496af]\n",
       "link E6 to E3--><a href=\"psysml:79dc21aa-3f25-4d04-bc8e-220599d338b9\" target=\"_top\" title=\"psysml:79dc21aa-3f25-4d04-bc8e-220599d338b9\" xlink:actuate=\"onRequest\" xlink:href=\"psysml:79dc21aa-3f25-4d04-bc8e-220599d338b9\" xlink:show=\"new\" xlink:title=\"psysml:79dc21aa-3f25-4d04-bc8e-220599d338b9\" xlink:type=\"simple\"><path d=\"M154.25,130.61 C154.25,130.61 154.25,232.92 154.25,232.92 \" fill=\"none\" id=\"E6-&gt;E3\" style=\"stroke: #383838; stroke-width: 1.0;\"/><polygon fill=\"#FFFFFF\" points=\"154.25,252.92,147.25,233.92,161.25,233.92,154.25,252.92\" style=\"stroke: #383838; stroke-width: 1.0;\"/><ellipse cx=\"149.25\" cy=\"228.22\" fill=\"#383838\" rx=\"2\" ry=\"2\" style=\"stroke: #383838; stroke-width: 1.0;\"/><ellipse cx=\"159.25\" cy=\"228.22\" fill=\"#383838\" rx=\"2\" ry=\"2\" style=\"stroke: #383838; stroke-width: 1.0;\"/></a><!--MD5=[de4fa5fd9402f2b3a4dbc739c9c82487]\n",
       "@startuml\r\n",
       "skinparam ranksep 10\r\n",
       "skinparam rectangle {\r\n",
       " backgroundColor<<block>> LightGreen\r\n",
       "}\r\n",
       "skinparam linetype ortho\r\n",
       "skinparam monochrome true\r\n",
       "skinparam classbackgroundcolor white\r\n",
       "skinparam shadowing false\r\n",
       "skinparam wrapWidth 300\r\n",
       "hide circle\r\n",
       "\r\n",
       "package \"QualifiedNameImportTest\" as E1  [[psysml:5126b6fb-a0df-489e-901c-12bad15fd52c ]]  {\r\n",
       "package \"P1\" as E2  [[psysml:4671c392-f153-4102-94c6-e9de6b11f3b3 ]]  {\r\n",
       "rec def \"A\" as E3  <<(T,blue) part  def>> [[psysml:d43e5a90-a5b9-40ed-82e3-14a3538b6850 ]] {\r\n",
       "}\r\n",
       "}\r\n",
       "package \"P2\" as E4  [[psysml:b774f6e1-b4cc-4027-a413-e3d948253bea ]]  {\r\n",
       "package \"P2a\" as E5  [[psysml:c40d8d93-4b48-4997-9b6b-7328d49803fe ]]  {\r\n",
       "}\r\n",
       "rec usage \"x: A\" as E6  [[psysml:76906768-adb2-44e4-864a-c9b21a4611cd ]] {\r\n",
       "}\r\n",
       "}\r\n",
       "}\r\n",
       "E5 ..> E2 [[psysml:9ee57c7f-7f65-4593-a505-e714f10a5bde ]] : <<import>>*\r\n",
       "E6 - -:|> E3 [[psysml:79dc21aa-3f25-4d04-bc8e-220599d338b9 ]] \r\n",
       "@enduml\r\n",
       "\n",
       "PlantUML version 1.2020.13(Sat Jun 13 12:26:38 UTC 2020)\n",
       "(EPL source distribution)\n",
       "Java Runtime: OpenJDK Runtime Environment\n",
       "JVM: OpenJDK 64-Bit Server VM\n",
       "Default Encoding: UTF-8\n",
       "Language: en\n",
       "Country: null\n",
       "--></g></svg>"
      ]
     },
     "execution_count": 54,
     "metadata": {},
     "output_type": "execute_result"
    }
   ],
   "source": [
    "%viz --style=\"ORTHOLINE\" --view=\"Interconnection\" \"QualifiedNameImportTest\""
   ]
  },
  {
   "cell_type": "code",
   "execution_count": 55,
   "id": "438da799",
   "metadata": {
    "execution": {
     "iopub.execute_input": "2022-07-23T10:54:04.354781Z",
     "iopub.status.busy": "2022-07-23T10:54:04.354331Z",
     "iopub.status.idle": "2022-07-23T10:54:04.359046Z",
     "shell.execute_reply": "2022-07-23T10:54:04.358647Z"
    }
   },
   "outputs": [
    {
     "data": {
      "image/svg+xml": [
       "<?xml version=\"1.0\" encoding=\"UTF-8\" standalone=\"no\"?><svg xmlns=\"http://www.w3.org/2000/svg\" xmlns:xlink=\"http://www.w3.org/1999/xlink\" contentScriptType=\"application/ecmascript\" contentStyleType=\"text/css\" height=\"12px\" preserveAspectRatio=\"none\" style=\"width:12px;height:12px;\" version=\"1.1\" viewBox=\"0 0 12 12\" width=\"12px\" zoomAndPan=\"magnify\"><defs/><g><!--MD5=[72934c63077099a26744516a776b4749]\n",
       "@startuml\r\n",
       "skinparam ranksep 8\r\n",
       "skinparam linetype ortho\r\n",
       "skinparam monochrome true\r\n",
       "skinparam classbackgroundcolor white\r\n",
       "skinparam shadowing false\r\n",
       "skinparam wrapWidth 300\r\n",
       "hide circle\r\n",
       "\r\n",
       "@enduml\r\n",
       "\n",
       "PlantUML version 1.2020.13(Sat Jun 13 12:26:38 UTC 2020)\n",
       "(EPL source distribution)\n",
       "Java Runtime: OpenJDK Runtime Environment\n",
       "JVM: OpenJDK 64-Bit Server VM\n",
       "Default Encoding: UTF-8\n",
       "Language: en\n",
       "Country: null\n",
       "--></g></svg>"
      ]
     },
     "execution_count": 55,
     "metadata": {},
     "output_type": "execute_result"
    }
   ],
   "source": [
    "%viz --style=\"ORTHOLINE\" --view=\"Action\" \"QualifiedNameImportTest\""
   ]
  },
  {
   "cell_type": "code",
   "execution_count": 56,
   "id": "81487db2",
   "metadata": {
    "execution": {
     "iopub.execute_input": "2022-07-23T10:54:04.408879Z",
     "iopub.status.busy": "2022-07-23T10:54:04.408424Z",
     "iopub.status.idle": "2022-07-23T10:54:04.413276Z",
     "shell.execute_reply": "2022-07-23T10:54:04.412897Z"
    }
   },
   "outputs": [
    {
     "data": {
      "image/svg+xml": [
       "<?xml version=\"1.0\" encoding=\"UTF-8\" standalone=\"no\"?><svg xmlns=\"http://www.w3.org/2000/svg\" xmlns:xlink=\"http://www.w3.org/1999/xlink\" contentScriptType=\"application/ecmascript\" contentStyleType=\"text/css\" height=\"12px\" preserveAspectRatio=\"none\" style=\"width:12px;height:12px;\" version=\"1.1\" viewBox=\"0 0 12 12\" width=\"12px\" zoomAndPan=\"magnify\"><defs/><g><!--MD5=[30fc1de5121c5abddedd55b44417fde8]\n",
       "@startuml\r\n",
       "skinparam roundcorner 20\r\n",
       "skinparam BoxPadding 20\r\n",
       "skinparam SequenceBoxBackgroundColor #white\r\n",
       "skinparam style strictuml\r\n",
       "skinparam maxMessageSize 100\r\n",
       "skinparam linetype ortho\r\n",
       "skinparam monochrome true\r\n",
       "skinparam classbackgroundcolor white\r\n",
       "skinparam shadowing false\r\n",
       "skinparam wrapWidth 300\r\n",
       "hide circle\r\n",
       "\r\n",
       "@enduml\r\n",
       "\n",
       "PlantUML version 1.2020.13(Sat Jun 13 12:26:38 UTC 2020)\n",
       "(EPL source distribution)\n",
       "Java Runtime: OpenJDK Runtime Environment\n",
       "JVM: OpenJDK 64-Bit Server VM\n",
       "Default Encoding: UTF-8\n",
       "Language: en\n",
       "Country: null\n",
       "--></g></svg>"
      ]
     },
     "execution_count": 56,
     "metadata": {},
     "output_type": "execute_result"
    }
   ],
   "source": [
    "%viz --style=\"ORTHOLINE\" --view=\"Sequence\" \"QualifiedNameImportTest\""
   ]
  },
  {
   "cell_type": "code",
   "execution_count": 57,
   "id": "04cd1957",
   "metadata": {
    "execution": {
     "iopub.execute_input": "2022-07-23T10:54:04.463123Z",
     "iopub.status.busy": "2022-07-23T10:54:04.462678Z",
     "iopub.status.idle": "2022-07-23T10:54:04.489586Z",
     "shell.execute_reply": "2022-07-23T10:54:04.489175Z"
    }
   },
   "outputs": [
    {
     "data": {
      "image/svg+xml": [
       "<?xml version=\"1.0\" encoding=\"UTF-8\" standalone=\"no\"?><svg xmlns=\"http://www.w3.org/2000/svg\" xmlns:xlink=\"http://www.w3.org/1999/xlink\" contentScriptType=\"application/ecmascript\" contentStyleType=\"text/css\" height=\"367px\" preserveAspectRatio=\"none\" style=\"width:241px;height:367px;\" version=\"1.1\" viewBox=\"0 0 241 367\" width=\"241px\" zoomAndPan=\"magnify\"><defs/><g><!--MD5=[fbc87193dbaf4d95561dea2c320d4a47]\n",
       "cluster E1--><a href=\"psysml:5126b6fb-a0df-489e-901c-12bad15fd52c\" target=\"_top\" title=\"psysml:5126b6fb-a0df-489e-901c-12bad15fd52c\" xlink:actuate=\"onRequest\" xlink:href=\"psysml:5126b6fb-a0df-489e-901c-12bad15fd52c\" xlink:show=\"new\" xlink:title=\"psysml:5126b6fb-a0df-489e-901c-12bad15fd52c\" xlink:type=\"simple\"><polygon fill=\"#FFFFFF\" points=\"16,6,196,6,203,28.2969,219,28.2969,219,355,16,355,16,6\" style=\"stroke: #000000; stroke-width: 1.5;\"/><line style=\"stroke: #000000; stroke-width: 1.5;\" x1=\"16\" x2=\"203\" y1=\"28.2969\" y2=\"28.2969\"/><text fill=\"#000000\" font-family=\"sans-serif\" font-size=\"14\" font-weight=\"bold\" lengthAdjust=\"spacingAndGlyphs\" textLength=\"174\" x=\"20\" y=\"20.9951\">QualifiedNameImportTest</text></a><!--MD5=[e4f7fae6ed58524ba242bb0b0d3be6b7]\n",
       "cluster E2--><a href=\"psysml:4671c392-f153-4102-94c6-e9de6b11f3b3\" target=\"_top\" title=\"psysml:4671c392-f153-4102-94c6-e9de6b11f3b3\" xlink:actuate=\"onRequest\" xlink:href=\"psysml:4671c392-f153-4102-94c6-e9de6b11f3b3\" xlink:show=\"new\" xlink:title=\"psysml:4671c392-f153-4102-94c6-e9de6b11f3b3\" xlink:type=\"simple\"><polygon fill=\"#FFFFFF\" points=\"48,210,72,210,79,232.2969,185,232.2969,185,323,48,323,48,210\" style=\"stroke: #000000; stroke-width: 1.5;\"/><line style=\"stroke: #000000; stroke-width: 1.5;\" x1=\"48\" x2=\"79\" y1=\"232.2969\" y2=\"232.2969\"/><text fill=\"#000000\" font-family=\"sans-serif\" font-size=\"14\" font-weight=\"bold\" lengthAdjust=\"spacingAndGlyphs\" textLength=\"18\" x=\"52\" y=\"224.9951\">P1</text></a><!--MD5=[f6df4d0ebaf0b5dfb2ced0ae5af7c670]\n",
       "cluster E4--><a href=\"psysml:b774f6e1-b4cc-4027-a413-e3d948253bea\" target=\"_top\" title=\"psysml:b774f6e1-b4cc-4027-a413-e3d948253bea\" xlink:actuate=\"onRequest\" xlink:href=\"psysml:b774f6e1-b4cc-4027-a413-e3d948253bea\" xlink:show=\"new\" xlink:title=\"psysml:b774f6e1-b4cc-4027-a413-e3d948253bea\" xlink:type=\"simple\"><polygon fill=\"#FFFFFF\" points=\"40,49,64,49,71,71.2969,195,71.2969,195,153,40,153,40,49\" style=\"stroke: #000000; stroke-width: 1.5;\"/><line style=\"stroke: #000000; stroke-width: 1.5;\" x1=\"40\" x2=\"71\" y1=\"71.2969\" y2=\"71.2969\"/><text fill=\"#000000\" font-family=\"sans-serif\" font-size=\"14\" font-weight=\"bold\" lengthAdjust=\"spacingAndGlyphs\" textLength=\"18\" x=\"44\" y=\"63.9951\">P2</text></a><!--MD5=[09b614a08d8cba4a07c9adeb5e0fee81]\n",
       "class E3--><a href=\"psysml:d43e5a90-a5b9-40ed-82e3-14a3538b6850\" target=\"_top\" title=\"psysml:d43e5a90-a5b9-40ed-82e3-14a3538b6850\" xlink:actuate=\"onRequest\" xlink:href=\"psysml:d43e5a90-a5b9-40ed-82e3-14a3538b6850\" xlink:show=\"new\" xlink:title=\"psysml:d43e5a90-a5b9-40ed-82e3-14a3538b6850\" xlink:type=\"simple\"><rect fill=\"#FFFFFF\" height=\"45.9375\" id=\"E3\" style=\"stroke: #383838; stroke-width: 1.5;\" width=\"70\" x=\"72\" y=\"253\"/><text fill=\"#000000\" font-family=\"sans-serif\" font-size=\"12\" font-style=\"italic\" lengthAdjust=\"spacingAndGlyphs\" textLength=\"68\" x=\"73\" y=\"269.1387\">«part  def»</text><text fill=\"#000000\" font-family=\"sans-serif\" font-size=\"12\" lengthAdjust=\"spacingAndGlyphs\" textLength=\"8\" x=\"103\" y=\"283.1074\">A</text><line style=\"stroke: #383838; stroke-width: 1.5;\" x1=\"73\" x2=\"141\" y1=\"290.9375\" y2=\"290.9375\"/></a><!--MD5=[60a26617385b1d2d0262a64233df1f8d]\n",
       "class E6--><a href=\"psysml:76906768-adb2-44e4-864a-c9b21a4611cd\" target=\"_top\" title=\"psysml:76906768-adb2-44e4-864a-c9b21a4611cd\" xlink:actuate=\"onRequest\" xlink:href=\"psysml:76906768-adb2-44e4-864a-c9b21a4611cd\" xlink:show=\"new\" xlink:title=\"psysml:76906768-adb2-44e4-864a-c9b21a4611cd\" xlink:type=\"simple\"><rect fill=\"#FFFFFF\" height=\"45.9375\" id=\"E6\" rx=\"10\" ry=\"10\" style=\"stroke: #383838; stroke-width: 1.5;\" width=\"42\" x=\"56\" y=\"87.5\"/><text fill=\"#000000\" font-family=\"sans-serif\" font-size=\"12\" font-style=\"italic\" lengthAdjust=\"spacingAndGlyphs\" textLength=\"40\" x=\"57\" y=\"103.6387\">«part»</text><text fill=\"#000000\" font-family=\"sans-serif\" font-size=\"12\" lengthAdjust=\"spacingAndGlyphs\" textLength=\"22\" x=\"64\" y=\"117.6074\">x: A</text><line style=\"stroke: #383838; stroke-width: 1.5;\" x1=\"57\" x2=\"97\" y1=\"125.4375\" y2=\"125.4375\"/></a><a href=\"psysml:c40d8d93-4b48-4997-9b6b-7328d49803fe\" target=\"_top\" title=\"psysml:c40d8d93-4b48-4997-9b6b-7328d49803fe\" xlink:actuate=\"onRequest\" xlink:href=\"psysml:c40d8d93-4b48-4997-9b6b-7328d49803fe\" xlink:show=\"new\" xlink:title=\"psysml:c40d8d93-4b48-4997-9b6b-7328d49803fe\" xlink:type=\"simple\"><polygon fill=\"#FFFFFF\" points=\"133,84,165,84,172,106.2969,179,106.2969,179,136.5938,133,136.5938,133,84\" style=\"stroke: #000000; stroke-width: 1.5;\"/><line style=\"stroke: #000000; stroke-width: 1.5;\" x1=\"133\" x2=\"172\" y1=\"106.2969\" y2=\"106.2969\"/><text fill=\"#000000\" font-family=\"sans-serif\" font-size=\"14\" font-weight=\"bold\" lengthAdjust=\"spacingAndGlyphs\" textLength=\"26\" x=\"137\" y=\"98.9951\">P2a</text></a><!--MD5=[15ebcb19ae302d9b601edb458606d402]\n",
       "link E5 to E2--><a href=\"psysml:9ee57c7f-7f65-4593-a505-e714f10a5bde\" target=\"_top\" title=\"psysml:9ee57c7f-7f65-4593-a505-e714f10a5bde\" xlink:actuate=\"onRequest\" xlink:href=\"psysml:9ee57c7f-7f65-4593-a505-e714f10a5bde\" xlink:show=\"new\" xlink:title=\"psysml:9ee57c7f-7f65-4593-a505-e714f10a5bde\" xlink:type=\"simple\"><path d=\"M177,137.09 C177,148.2375 177,161.9594 177,176.3959 C177,183.6142 177,191.0112 177,198.3543 C177,202.0259 177,205.6841 177,209.2997 C177,209.5257 177,209.7515 177,209.9771 \" fill=\"none\" id=\"E5-&gt;E2\" style=\"stroke: #383838; stroke-width: 1.0; stroke-dasharray: 7.0,7.0;\"/><polygon fill=\"#383838\" points=\"177,209.9771,181,200.9771,177,204.9771,173,200.9771,177,209.9771\" style=\"stroke: #383838; stroke-width: 1.0;\"/><text fill=\"#000000\" font-family=\"sans-serif\" font-size=\"13\" lengthAdjust=\"spacingAndGlyphs\" textLength=\"65\" x=\"137\" y=\"182.0669\">«import»*</text></a><!--MD5=[a717450b82c80b9240a525fa862496af]\n",
       "link E6 to E3--><a href=\"psysml:79dc21aa-3f25-4d04-bc8e-220599d338b9\" target=\"_top\" title=\"psysml:79dc21aa-3f25-4d04-bc8e-220599d338b9\" xlink:actuate=\"onRequest\" xlink:href=\"psysml:79dc21aa-3f25-4d04-bc8e-220599d338b9\" xlink:show=\"new\" xlink:title=\"psysml:79dc21aa-3f25-4d04-bc8e-220599d338b9\" xlink:type=\"simple\"><path d=\"M85,133.51 C85,133.51 85,232.92 85,232.92 \" fill=\"none\" id=\"E6-&gt;E3\" style=\"stroke: #383838; stroke-width: 1.0;\"/><polygon fill=\"#FFFFFF\" points=\"85,252.92,78,233.92,92,233.92,85,252.92\" style=\"stroke: #383838; stroke-width: 1.0;\"/><ellipse cx=\"80\" cy=\"228.22\" fill=\"#383838\" rx=\"2\" ry=\"2\" style=\"stroke: #383838; stroke-width: 1.0;\"/><ellipse cx=\"90\" cy=\"228.22\" fill=\"#383838\" rx=\"2\" ry=\"2\" style=\"stroke: #383838; stroke-width: 1.0;\"/></a><!--MD5=[6dc55c587136d87338d29598b7b17d2f]\n",
       "@startuml\r\n",
       "skinparam linetype ortho\r\n",
       "skinparam monochrome true\r\n",
       "skinparam classbackgroundcolor white\r\n",
       "skinparam shadowing false\r\n",
       "skinparam wrapWidth 300\r\n",
       "hide circle\r\n",
       "\r\n",
       "package \"QualifiedNameImportTest\" as E1  [[psysml:5126b6fb-a0df-489e-901c-12bad15fd52c ]]  {\r\n",
       "package \"P1\" as E2  [[psysml:4671c392-f153-4102-94c6-e9de6b11f3b3 ]]  {\r\n",
       "comp def \"A\" as E3  <<(T,blue) part  def>> [[psysml:d43e5a90-a5b9-40ed-82e3-14a3538b6850 ]] {\r\n",
       "}\r\n",
       "}\r\n",
       "package \"P2\" as E4  [[psysml:b774f6e1-b4cc-4027-a413-e3d948253bea ]]  {\r\n",
       "package \"P2a\" as E5  [[psysml:c40d8d93-4b48-4997-9b6b-7328d49803fe ]]  {\r\n",
       "}\r\n",
       "comp usage \"x: A \" as E6  <<(T,blue) part>> [[psysml:76906768-adb2-44e4-864a-c9b21a4611cd ]] {\r\n",
       "}\r\n",
       "}\r\n",
       "}\r\n",
       "E5 ..> E2 [[psysml:9ee57c7f-7f65-4593-a505-e714f10a5bde ]] : <<import>>*\r\n",
       "E6 - -:|> E3 [[psysml:79dc21aa-3f25-4d04-bc8e-220599d338b9 ]] \r\n",
       "@enduml\r\n",
       "\n",
       "PlantUML version 1.2020.13(Sat Jun 13 12:26:38 UTC 2020)\n",
       "(EPL source distribution)\n",
       "Java Runtime: OpenJDK Runtime Environment\n",
       "JVM: OpenJDK 64-Bit Server VM\n",
       "Default Encoding: UTF-8\n",
       "Language: en\n",
       "Country: null\n",
       "--></g></svg>"
      ]
     },
     "execution_count": 57,
     "metadata": {},
     "output_type": "execute_result"
    }
   ],
   "source": [
    "%viz --style=\"ORTHOLINE\" --view=\"MIXED\" \"QualifiedNameImportTest\""
   ]
  }
 ],
 "metadata": {
  "kernelspec": {
   "display_name": "SysML",
   "language": "sysml",
   "name": "sysml"
  },
  "language_info": {
   "codemirror_mode": "sysml",
   "file_extension": ".sysml",
   "mimetype": "text/x-sysml",
   "name": "SysML",
   "pygments_lexer": "java",
   "version": "1.0.0"
  }
 },
 "nbformat": 4,
 "nbformat_minor": 5
}
