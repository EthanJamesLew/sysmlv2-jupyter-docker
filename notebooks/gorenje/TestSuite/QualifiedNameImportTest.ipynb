{
 "cells": [
  {
   "cell_type": "markdown",
   "id": "ee9a4bb4",
   "metadata": {},
   "source": [
    "# SysML v2 Test Suite\n",
    "\n",
    "This can notebook can be cleared using menu `Edit --> Clear All Outputs` and then all cells can be\n",
    "run using menu `Run --> Run All Cells`.\n",
    "\n",
    "**WARNING**: This file is generated, all modifications here will be ignored.\n"
   ]
  },
  {
   "cell_type": "markdown",
   "id": "253f7585",
   "metadata": {},
   "source": [
    "## File: ../../sysml/src/examples/Import Tests/QualifiedNameImportTest.sysml"
   ]
  },
  {
   "cell_type": "code",
   "execution_count": 1,
   "id": "761ee8e8",
   "metadata": {
    "execution": {
     "iopub.execute_input": "2022-02-05T16:55:50.473299Z",
     "iopub.status.busy": "2022-02-05T16:55:50.472292Z",
     "iopub.status.idle": "2022-02-05T16:55:50.571269Z",
     "shell.execute_reply": "2022-02-05T16:55:50.571750Z"
    }
   },
   "outputs": [
    {
     "data": {
      "text/plain": [
       "Package QualifiedNameImportTest (5ba6cf0a-8284-4382-aa98-e2cacf267fa5)\n"
      ]
     },
     "execution_count": 1,
     "metadata": {},
     "output_type": "execute_result"
    }
   ],
   "source": [
    "package QualifiedNameImportTest {\n",
    "\tpackage P1 {\n",
    "\t\tpart def A;\n",
    "\t}\n",
    "\tpackage P2 {\n",
    "\t\tpackage P2a {\n",
    "\t\t\timport P1::*;\n",
    "\t\t}\n",
    "\t\t// The following should not fail.\n",
    "\t\t// A is a member of P2a because of the import.\n",
    "\t\tpart x: P2a::A;\n",
    "\t}\n",
    "}"
   ]
  },
  {
   "cell_type": "code",
   "execution_count": 2,
   "id": "2a9f24fe",
   "metadata": {
    "execution": {
     "iopub.execute_input": "2022-02-05T16:55:50.622588Z",
     "iopub.status.busy": "2022-02-05T16:55:50.622170Z",
     "iopub.status.idle": "2022-02-05T16:55:51.064870Z",
     "shell.execute_reply": "2022-02-05T16:55:51.063183Z"
    }
   },
   "outputs": [
    {
     "data": {
      "image/svg+xml": [
       "<?xml version=\"1.0\" encoding=\"UTF-8\" standalone=\"no\"?><svg xmlns=\"http://www.w3.org/2000/svg\" xmlns:xlink=\"http://www.w3.org/1999/xlink\" contentScriptType=\"application/ecmascript\" contentStyleType=\"text/css\" height=\"310px\" preserveAspectRatio=\"none\" style=\"width:241px;height:310px;\" version=\"1.1\" viewBox=\"0 0 241 310\" width=\"241px\" zoomAndPan=\"magnify\"><defs/><g><!--MD5=[fbc87193dbaf4d95561dea2c320d4a47]\n",
       "cluster E1--><a href=\"psysml:3ae9698c-7b02-4bda-a9f9-90d299fbd69b\" target=\"_top\" title=\"psysml:3ae9698c-7b02-4bda-a9f9-90d299fbd69b\" xlink:actuate=\"onRequest\" xlink:href=\"psysml:3ae9698c-7b02-4bda-a9f9-90d299fbd69b\" xlink:show=\"new\" xlink:title=\"psysml:3ae9698c-7b02-4bda-a9f9-90d299fbd69b\" xlink:type=\"simple\"><polygon fill=\"#FFFFFF\" points=\"16,6,196,6,203,28.2969,219,28.2969,219,298,16,298,16,6\" style=\"stroke: #000000; stroke-width: 1.5;\"/><line style=\"stroke: #000000; stroke-width: 1.5;\" x1=\"16\" x2=\"203\" y1=\"28.2969\" y2=\"28.2969\"/><text fill=\"#000000\" font-family=\"sans-serif\" font-size=\"14\" font-weight=\"bold\" lengthAdjust=\"spacingAndGlyphs\" textLength=\"174\" x=\"20\" y=\"20.9951\">QualifiedNameImportTest</text></a><!--MD5=[e4f7fae6ed58524ba242bb0b0d3be6b7]\n",
       "cluster E2--><a href=\"psysml:1cd01716-9110-4b9f-8aee-0302fbd4d98f\" target=\"_top\" title=\"psysml:1cd01716-9110-4b9f-8aee-0302fbd4d98f\" xlink:actuate=\"onRequest\" xlink:href=\"psysml:1cd01716-9110-4b9f-8aee-0302fbd4d98f\" xlink:show=\"new\" xlink:title=\"psysml:1cd01716-9110-4b9f-8aee-0302fbd4d98f\" xlink:type=\"simple\"><polygon fill=\"#FFFFFF\" points=\"93,177,117,177,124,199.2969,195,199.2969,195,274,93,274,93,177\" style=\"stroke: #000000; stroke-width: 1.5;\"/><line style=\"stroke: #000000; stroke-width: 1.5;\" x1=\"93\" x2=\"124\" y1=\"199.2969\" y2=\"199.2969\"/><text fill=\"#000000\" font-family=\"sans-serif\" font-size=\"14\" font-weight=\"bold\" lengthAdjust=\"spacingAndGlyphs\" textLength=\"18\" x=\"97\" y=\"191.9951\">P1</text></a><!--MD5=[f6df4d0ebaf0b5dfb2ced0ae5af7c670]\n",
       "cluster E4--><a href=\"psysml:41fe529f-0d81-4eb7-adf7-d3411e3f84fb\" target=\"_top\" title=\"psysml:41fe529f-0d81-4eb7-adf7-d3411e3f84fb\" xlink:actuate=\"onRequest\" xlink:href=\"psysml:41fe529f-0d81-4eb7-adf7-d3411e3f84fb\" xlink:show=\"new\" xlink:title=\"psysml:41fe529f-0d81-4eb7-adf7-d3411e3f84fb\" xlink:type=\"simple\"><polygon fill=\"#FFFFFF\" points=\"40,49,64,49,71,71.2969,195,71.2969,195,153,40,153,40,49\" style=\"stroke: #000000; stroke-width: 1.5;\"/><line style=\"stroke: #000000; stroke-width: 1.5;\" x1=\"40\" x2=\"71\" y1=\"71.2969\" y2=\"71.2969\"/><text fill=\"#000000\" font-family=\"sans-serif\" font-size=\"14\" font-weight=\"bold\" lengthAdjust=\"spacingAndGlyphs\" textLength=\"18\" x=\"44\" y=\"63.9951\">P2</text></a><!--MD5=[09b614a08d8cba4a07c9adeb5e0fee81]\n",
       "class E3--><a href=\"psysml:9b3dc75b-1d88-4bb0-99bb-db4dbafde32b\" target=\"_top\" title=\"psysml:9b3dc75b-1d88-4bb0-99bb-db4dbafde32b\" xlink:actuate=\"onRequest\" xlink:href=\"psysml:9b3dc75b-1d88-4bb0-99bb-db4dbafde32b\" xlink:show=\"new\" xlink:title=\"psysml:9b3dc75b-1d88-4bb0-99bb-db4dbafde32b\" xlink:type=\"simple\"><rect fill=\"#FFFFFF\" height=\"45.9375\" id=\"E3\" style=\"stroke: #383838; stroke-width: 1.5;\" width=\"70\" x=\"109\" y=\"212\"/><text fill=\"#000000\" font-family=\"sans-serif\" font-size=\"12\" font-style=\"italic\" lengthAdjust=\"spacingAndGlyphs\" textLength=\"68\" x=\"110\" y=\"228.1387\">«part  def»</text><text fill=\"#000000\" font-family=\"sans-serif\" font-size=\"12\" lengthAdjust=\"spacingAndGlyphs\" textLength=\"8\" x=\"140\" y=\"242.1074\">A</text><line style=\"stroke: #383838; stroke-width: 1.5;\" x1=\"110\" x2=\"178\" y1=\"249.9375\" y2=\"249.9375\"/></a><!--MD5=[60a26617385b1d2d0262a64233df1f8d]\n",
       "class E6--><a href=\"psysml:06f81dae-fa7a-4401-9cfd-15cc868431a4\" target=\"_top\" title=\"psysml:06f81dae-fa7a-4401-9cfd-15cc868431a4\" xlink:actuate=\"onRequest\" xlink:href=\"psysml:06f81dae-fa7a-4401-9cfd-15cc868431a4\" xlink:show=\"new\" xlink:title=\"psysml:06f81dae-fa7a-4401-9cfd-15cc868431a4\" xlink:type=\"simple\"><rect fill=\"#FFFFFF\" height=\"45.9375\" id=\"E6\" rx=\"10\" ry=\"10\" style=\"stroke: #383838; stroke-width: 1.5;\" width=\"42\" x=\"137\" y=\"87.5\"/><text fill=\"#000000\" font-family=\"sans-serif\" font-size=\"12\" font-style=\"italic\" lengthAdjust=\"spacingAndGlyphs\" textLength=\"40\" x=\"138\" y=\"103.6387\">«part»</text><text fill=\"#000000\" font-family=\"sans-serif\" font-size=\"12\" lengthAdjust=\"spacingAndGlyphs\" textLength=\"22\" x=\"145\" y=\"117.6074\">x: A</text><line style=\"stroke: #383838; stroke-width: 1.5;\" x1=\"138\" x2=\"178\" y1=\"125.4375\" y2=\"125.4375\"/></a><a href=\"psysml:f3db2951-3782-436b-a6ad-64914b64a485\" target=\"_top\" title=\"psysml:f3db2951-3782-436b-a6ad-64914b64a485\" xlink:actuate=\"onRequest\" xlink:href=\"psysml:f3db2951-3782-436b-a6ad-64914b64a485\" xlink:show=\"new\" xlink:title=\"psysml:f3db2951-3782-436b-a6ad-64914b64a485\" xlink:type=\"simple\"><polygon fill=\"#FFFFFF\" points=\"56,84,88,84,95,106.2969,102,106.2969,102,136.5938,56,136.5938,56,84\" style=\"stroke: #000000; stroke-width: 1.5;\"/><line style=\"stroke: #000000; stroke-width: 1.5;\" x1=\"56\" x2=\"95\" y1=\"106.2969\" y2=\"106.2969\"/><text fill=\"#000000\" font-family=\"sans-serif\" font-size=\"14\" font-weight=\"bold\" lengthAdjust=\"spacingAndGlyphs\" textLength=\"26\" x=\"60\" y=\"98.9951\">P2a</text></a><!--MD5=[a717450b82c80b9240a525fa862496af]\n",
       "link E6 to E3--><a href=\"psysml:7ae3fb41-5537-4752-a539-fb13bd5d368f\" target=\"_top\" title=\"psysml:7ae3fb41-5537-4752-a539-fb13bd5d368f\" xlink:actuate=\"onRequest\" xlink:href=\"psysml:7ae3fb41-5537-4752-a539-fb13bd5d368f\" xlink:show=\"new\" xlink:title=\"psysml:7ae3fb41-5537-4752-a539-fb13bd5d368f\" xlink:type=\"simple\"><path d=\"M155.46,133.68 C153.61,149.9 151.04,172.39 148.8,191.96 \" fill=\"none\" id=\"E6-&gt;E3\" style=\"stroke: #383838; stroke-width: 1.0;\"/><polygon fill=\"#FFFFFF\" points=\"146.52,211.98,141.7231,192.308,155.6325,193.8979,146.52,211.98\" style=\"stroke: #383838; stroke-width: 1.0;\"/><ellipse cx=\"144.3574\" cy=\"186.872\" fill=\"#383838\" rx=\"2\" ry=\"2\" style=\"stroke: #383838; stroke-width: 1.0;\"/><ellipse cx=\"154.2928\" cy=\"188.0076\" fill=\"#383838\" rx=\"2\" ry=\"2\" style=\"stroke: #383838; stroke-width: 1.0;\"/></a><!--MD5=[135a58a1259509996e19d92995275f4f]\n",
       "@startuml\r\n",
       " skinparam monochrome true\r\n",
       "skinparam classbackgroundcolor white\r\n",
       "skinparam shadowing false\r\n",
       "skinparam wrapWidth 300\r\n",
       "hide circle\r\n",
       "\r\n",
       "package \"QualifiedNameImportTest\" as E1  [[psysml:3ae9698c-7b02-4bda-a9f9-90d299fbd69b ]]  {\r\n",
       "package \"P1\" as E2  [[psysml:1cd01716-9110-4b9f-8aee-0302fbd4d98f ]]  {\r\n",
       "comp def \"A\" as E3  <<(T,blue) part  def>> [[psysml:9b3dc75b-1d88-4bb0-99bb-db4dbafde32b ]] {\r\n",
       "}\r\n",
       "}\r\n",
       "package \"P2\" as E4  [[psysml:41fe529f-0d81-4eb7-adf7-d3411e3f84fb ]]  {\r\n",
       "package \"P2a\" as E5  [[psysml:f3db2951-3782-436b-a6ad-64914b64a485 ]]  {\r\n",
       "}\r\n",
       "comp usage \"x: A \" as E6  <<(T,blue) part>> [[psysml:06f81dae-fa7a-4401-9cfd-15cc868431a4 ]] {\r\n",
       "}\r\n",
       "}\r\n",
       "}\r\n",
       "E6 - -:|> E3 [[psysml:7ae3fb41-5537-4752-a539-fb13bd5d368f ]] \r\n",
       "@enduml\r\n",
       "\n",
       "PlantUML version 1.2020.13(Sat Jun 13 12:26:38 UTC 2020)\n",
       "(EPL source distribution)\n",
       "Java Runtime: OpenJDK Runtime Environment\n",
       "JVM: OpenJDK 64-Bit Server VM\n",
       "Default Encoding: UTF-8\n",
       "Language: en\n",
       "Country: null\n",
       "--></g></svg>"
      ]
     },
     "execution_count": 2,
     "metadata": {},
     "output_type": "execute_result"
    }
   ],
   "source": [
    "%viz --style=\"COMPTREE\" --view=\"Default\" \"QualifiedNameImportTest\""
   ]
  },
  {
   "cell_type": "code",
   "execution_count": 3,
   "id": "4b68aa2b",
   "metadata": {
    "execution": {
     "iopub.execute_input": "2022-02-05T16:55:51.114501Z",
     "iopub.status.busy": "2022-02-05T16:55:51.113887Z",
     "iopub.status.idle": "2022-02-05T16:55:51.162367Z",
     "shell.execute_reply": "2022-02-05T16:55:51.160483Z"
    }
   },
   "outputs": [
    {
     "data": {
      "image/svg+xml": [
       "<?xml version=\"1.0\" encoding=\"UTF-8\" standalone=\"no\"?><svg xmlns=\"http://www.w3.org/2000/svg\" xmlns:xlink=\"http://www.w3.org/1999/xlink\" contentScriptType=\"application/ecmascript\" contentStyleType=\"text/css\" height=\"310px\" preserveAspectRatio=\"none\" style=\"width:241px;height:310px;\" version=\"1.1\" viewBox=\"0 0 241 310\" width=\"241px\" zoomAndPan=\"magnify\"><defs/><g><!--MD5=[fbc87193dbaf4d95561dea2c320d4a47]\n",
       "cluster E1--><a href=\"psysml:3ae9698c-7b02-4bda-a9f9-90d299fbd69b\" target=\"_top\" title=\"psysml:3ae9698c-7b02-4bda-a9f9-90d299fbd69b\" xlink:actuate=\"onRequest\" xlink:href=\"psysml:3ae9698c-7b02-4bda-a9f9-90d299fbd69b\" xlink:show=\"new\" xlink:title=\"psysml:3ae9698c-7b02-4bda-a9f9-90d299fbd69b\" xlink:type=\"simple\"><polygon fill=\"#FFFFFF\" points=\"16,6,196,6,203,28.2969,219,28.2969,219,298,16,298,16,6\" style=\"stroke: #000000; stroke-width: 1.5;\"/><line style=\"stroke: #000000; stroke-width: 1.5;\" x1=\"16\" x2=\"203\" y1=\"28.2969\" y2=\"28.2969\"/><text fill=\"#000000\" font-family=\"sans-serif\" font-size=\"14\" font-weight=\"bold\" lengthAdjust=\"spacingAndGlyphs\" textLength=\"174\" x=\"20\" y=\"20.9951\">QualifiedNameImportTest</text></a><!--MD5=[e4f7fae6ed58524ba242bb0b0d3be6b7]\n",
       "cluster E2--><a href=\"psysml:1cd01716-9110-4b9f-8aee-0302fbd4d98f\" target=\"_top\" title=\"psysml:1cd01716-9110-4b9f-8aee-0302fbd4d98f\" xlink:actuate=\"onRequest\" xlink:href=\"psysml:1cd01716-9110-4b9f-8aee-0302fbd4d98f\" xlink:show=\"new\" xlink:title=\"psysml:1cd01716-9110-4b9f-8aee-0302fbd4d98f\" xlink:type=\"simple\"><polygon fill=\"#FFFFFF\" points=\"93,177,117,177,124,199.2969,195,199.2969,195,274,93,274,93,177\" style=\"stroke: #000000; stroke-width: 1.5;\"/><line style=\"stroke: #000000; stroke-width: 1.5;\" x1=\"93\" x2=\"124\" y1=\"199.2969\" y2=\"199.2969\"/><text fill=\"#000000\" font-family=\"sans-serif\" font-size=\"14\" font-weight=\"bold\" lengthAdjust=\"spacingAndGlyphs\" textLength=\"18\" x=\"97\" y=\"191.9951\">P1</text></a><!--MD5=[f6df4d0ebaf0b5dfb2ced0ae5af7c670]\n",
       "cluster E4--><a href=\"psysml:41fe529f-0d81-4eb7-adf7-d3411e3f84fb\" target=\"_top\" title=\"psysml:41fe529f-0d81-4eb7-adf7-d3411e3f84fb\" xlink:actuate=\"onRequest\" xlink:href=\"psysml:41fe529f-0d81-4eb7-adf7-d3411e3f84fb\" xlink:show=\"new\" xlink:title=\"psysml:41fe529f-0d81-4eb7-adf7-d3411e3f84fb\" xlink:type=\"simple\"><polygon fill=\"#FFFFFF\" points=\"40,49,64,49,71,71.2969,195,71.2969,195,153,40,153,40,49\" style=\"stroke: #000000; stroke-width: 1.5;\"/><line style=\"stroke: #000000; stroke-width: 1.5;\" x1=\"40\" x2=\"71\" y1=\"71.2969\" y2=\"71.2969\"/><text fill=\"#000000\" font-family=\"sans-serif\" font-size=\"14\" font-weight=\"bold\" lengthAdjust=\"spacingAndGlyphs\" textLength=\"18\" x=\"44\" y=\"63.9951\">P2</text></a><!--MD5=[09b614a08d8cba4a07c9adeb5e0fee81]\n",
       "class E3--><a href=\"psysml:9b3dc75b-1d88-4bb0-99bb-db4dbafde32b\" target=\"_top\" title=\"psysml:9b3dc75b-1d88-4bb0-99bb-db4dbafde32b\" xlink:actuate=\"onRequest\" xlink:href=\"psysml:9b3dc75b-1d88-4bb0-99bb-db4dbafde32b\" xlink:show=\"new\" xlink:title=\"psysml:9b3dc75b-1d88-4bb0-99bb-db4dbafde32b\" xlink:type=\"simple\"><rect fill=\"#FFFFFF\" height=\"45.9375\" id=\"E3\" style=\"stroke: #383838; stroke-width: 1.5;\" width=\"70\" x=\"109\" y=\"212\"/><text fill=\"#000000\" font-family=\"sans-serif\" font-size=\"12\" font-style=\"italic\" lengthAdjust=\"spacingAndGlyphs\" textLength=\"68\" x=\"110\" y=\"228.1387\">«part  def»</text><text fill=\"#000000\" font-family=\"sans-serif\" font-size=\"12\" lengthAdjust=\"spacingAndGlyphs\" textLength=\"8\" x=\"140\" y=\"242.1074\">A</text><line style=\"stroke: #383838; stroke-width: 1.5;\" x1=\"110\" x2=\"178\" y1=\"249.9375\" y2=\"249.9375\"/></a><!--MD5=[60a26617385b1d2d0262a64233df1f8d]\n",
       "class E6--><a href=\"psysml:06f81dae-fa7a-4401-9cfd-15cc868431a4\" target=\"_top\" title=\"psysml:06f81dae-fa7a-4401-9cfd-15cc868431a4\" xlink:actuate=\"onRequest\" xlink:href=\"psysml:06f81dae-fa7a-4401-9cfd-15cc868431a4\" xlink:show=\"new\" xlink:title=\"psysml:06f81dae-fa7a-4401-9cfd-15cc868431a4\" xlink:type=\"simple\"><rect fill=\"#FFFFFF\" height=\"45.9375\" id=\"E6\" rx=\"10\" ry=\"10\" style=\"stroke: #383838; stroke-width: 1.5;\" width=\"42\" x=\"137\" y=\"87.5\"/><text fill=\"#000000\" font-family=\"sans-serif\" font-size=\"12\" font-style=\"italic\" lengthAdjust=\"spacingAndGlyphs\" textLength=\"40\" x=\"138\" y=\"103.6387\">«part»</text><text fill=\"#000000\" font-family=\"sans-serif\" font-size=\"12\" lengthAdjust=\"spacingAndGlyphs\" textLength=\"22\" x=\"145\" y=\"117.6074\">x: A</text><line style=\"stroke: #383838; stroke-width: 1.5;\" x1=\"138\" x2=\"178\" y1=\"125.4375\" y2=\"125.4375\"/></a><a href=\"psysml:f3db2951-3782-436b-a6ad-64914b64a485\" target=\"_top\" title=\"psysml:f3db2951-3782-436b-a6ad-64914b64a485\" xlink:actuate=\"onRequest\" xlink:href=\"psysml:f3db2951-3782-436b-a6ad-64914b64a485\" xlink:show=\"new\" xlink:title=\"psysml:f3db2951-3782-436b-a6ad-64914b64a485\" xlink:type=\"simple\"><polygon fill=\"#FFFFFF\" points=\"56,84,88,84,95,106.2969,102,106.2969,102,136.5938,56,136.5938,56,84\" style=\"stroke: #000000; stroke-width: 1.5;\"/><line style=\"stroke: #000000; stroke-width: 1.5;\" x1=\"56\" x2=\"95\" y1=\"106.2969\" y2=\"106.2969\"/><text fill=\"#000000\" font-family=\"sans-serif\" font-size=\"14\" font-weight=\"bold\" lengthAdjust=\"spacingAndGlyphs\" textLength=\"26\" x=\"60\" y=\"98.9951\">P2a</text></a><!--MD5=[a717450b82c80b9240a525fa862496af]\n",
       "link E6 to E3--><a href=\"psysml:7ae3fb41-5537-4752-a539-fb13bd5d368f\" target=\"_top\" title=\"psysml:7ae3fb41-5537-4752-a539-fb13bd5d368f\" xlink:actuate=\"onRequest\" xlink:href=\"psysml:7ae3fb41-5537-4752-a539-fb13bd5d368f\" xlink:show=\"new\" xlink:title=\"psysml:7ae3fb41-5537-4752-a539-fb13bd5d368f\" xlink:type=\"simple\"><path d=\"M155.46,133.68 C153.61,149.9 151.04,172.39 148.8,191.96 \" fill=\"none\" id=\"E6-&gt;E3\" style=\"stroke: #383838; stroke-width: 1.0;\"/><polygon fill=\"#FFFFFF\" points=\"146.52,211.98,141.7231,192.308,155.6325,193.8979,146.52,211.98\" style=\"stroke: #383838; stroke-width: 1.0;\"/><ellipse cx=\"144.3574\" cy=\"186.872\" fill=\"#383838\" rx=\"2\" ry=\"2\" style=\"stroke: #383838; stroke-width: 1.0;\"/><ellipse cx=\"154.2928\" cy=\"188.0076\" fill=\"#383838\" rx=\"2\" ry=\"2\" style=\"stroke: #383838; stroke-width: 1.0;\"/></a><!--MD5=[135a58a1259509996e19d92995275f4f]\n",
       "@startuml\r\n",
       " skinparam monochrome true\r\n",
       "skinparam classbackgroundcolor white\r\n",
       "skinparam shadowing false\r\n",
       "skinparam wrapWidth 300\r\n",
       "hide circle\r\n",
       "\r\n",
       "package \"QualifiedNameImportTest\" as E1  [[psysml:3ae9698c-7b02-4bda-a9f9-90d299fbd69b ]]  {\r\n",
       "package \"P1\" as E2  [[psysml:1cd01716-9110-4b9f-8aee-0302fbd4d98f ]]  {\r\n",
       "comp def \"A\" as E3  <<(T,blue) part  def>> [[psysml:9b3dc75b-1d88-4bb0-99bb-db4dbafde32b ]] {\r\n",
       "}\r\n",
       "}\r\n",
       "package \"P2\" as E4  [[psysml:41fe529f-0d81-4eb7-adf7-d3411e3f84fb ]]  {\r\n",
       "package \"P2a\" as E5  [[psysml:f3db2951-3782-436b-a6ad-64914b64a485 ]]  {\r\n",
       "}\r\n",
       "comp usage \"x: A \" as E6  <<(T,blue) part>> [[psysml:06f81dae-fa7a-4401-9cfd-15cc868431a4 ]] {\r\n",
       "}\r\n",
       "}\r\n",
       "}\r\n",
       "E6 - -:|> E3 [[psysml:7ae3fb41-5537-4752-a539-fb13bd5d368f ]] \r\n",
       "@enduml\r\n",
       "\n",
       "PlantUML version 1.2020.13(Sat Jun 13 12:26:38 UTC 2020)\n",
       "(EPL source distribution)\n",
       "Java Runtime: OpenJDK Runtime Environment\n",
       "JVM: OpenJDK 64-Bit Server VM\n",
       "Default Encoding: UTF-8\n",
       "Language: en\n",
       "Country: null\n",
       "--></g></svg>"
      ]
     },
     "execution_count": 3,
     "metadata": {},
     "output_type": "execute_result"
    }
   ],
   "source": [
    "%viz --style=\"COMPTREE\" --view=\"Tree\" \"QualifiedNameImportTest\""
   ]
  },
  {
   "cell_type": "code",
   "execution_count": 4,
   "id": "f9d1f2ed",
   "metadata": {
    "execution": {
     "iopub.execute_input": "2022-02-05T16:55:51.211287Z",
     "iopub.status.busy": "2022-02-05T16:55:51.210832Z",
     "iopub.status.idle": "2022-02-05T16:55:51.216833Z",
     "shell.execute_reply": "2022-02-05T16:55:51.217162Z"
    }
   },
   "outputs": [
    {
     "data": {
      "image/svg+xml": [
       "<?xml version=\"1.0\" encoding=\"UTF-8\" standalone=\"no\"?><svg xmlns=\"http://www.w3.org/2000/svg\" xmlns:xlink=\"http://www.w3.org/1999/xlink\" contentScriptType=\"application/ecmascript\" contentStyleType=\"text/css\" height=\"12px\" preserveAspectRatio=\"none\" style=\"width:12px;height:12px;\" version=\"1.1\" viewBox=\"0 0 12 12\" width=\"12px\" zoomAndPan=\"magnify\"><defs/><g><!--MD5=[f19188ef49e11757b5c46753f95d9edc]\n",
       "@startuml\r\n",
       " skinparam monochrome true\r\n",
       "skinparam classbackgroundcolor white\r\n",
       "skinparam shadowing false\r\n",
       "skinparam wrapWidth 300\r\n",
       "hide circle\r\n",
       "\r\n",
       "@enduml\r\n",
       "\n",
       "PlantUML version 1.2020.13(Sat Jun 13 12:26:38 UTC 2020)\n",
       "(EPL source distribution)\n",
       "Java Runtime: OpenJDK Runtime Environment\n",
       "JVM: OpenJDK 64-Bit Server VM\n",
       "Default Encoding: UTF-8\n",
       "Language: en\n",
       "Country: null\n",
       "--></g></svg>"
      ]
     },
     "execution_count": 4,
     "metadata": {},
     "output_type": "execute_result"
    }
   ],
   "source": [
    "%viz --style=\"COMPTREE\" --view=\"State\" \"QualifiedNameImportTest\""
   ]
  },
  {
   "cell_type": "code",
   "execution_count": 5,
   "id": "25f89eee",
   "metadata": {
    "execution": {
     "iopub.execute_input": "2022-02-05T16:55:51.267495Z",
     "iopub.status.busy": "2022-02-05T16:55:51.267070Z",
     "iopub.status.idle": "2022-02-05T16:55:51.313990Z",
     "shell.execute_reply": "2022-02-05T16:55:51.313636Z"
    }
   },
   "outputs": [
    {
     "data": {
      "image/svg+xml": [
       "<?xml version=\"1.0\" encoding=\"UTF-8\" standalone=\"no\"?><svg xmlns=\"http://www.w3.org/2000/svg\" xmlns:xlink=\"http://www.w3.org/1999/xlink\" contentScriptType=\"application/ecmascript\" contentStyleType=\"text/css\" height=\"189px\" preserveAspectRatio=\"none\" style=\"width:379px;height:189px;\" version=\"1.1\" viewBox=\"0 0 379 189\" width=\"379px\" zoomAndPan=\"magnify\"><defs/><g><!--MD5=[fbc87193dbaf4d95561dea2c320d4a47]\n",
       "cluster E1--><a href=\"psysml:3ae9698c-7b02-4bda-a9f9-90d299fbd69b\" target=\"_top\" title=\"psysml:3ae9698c-7b02-4bda-a9f9-90d299fbd69b\" xlink:actuate=\"onRequest\" xlink:href=\"psysml:3ae9698c-7b02-4bda-a9f9-90d299fbd69b\" xlink:show=\"new\" xlink:title=\"psysml:3ae9698c-7b02-4bda-a9f9-90d299fbd69b\" xlink:type=\"simple\"><polygon fill=\"#FFFFFF\" points=\"16,6,196,6,203,28.2969,357,28.2969,357,177,16,177,16,6\" style=\"stroke: #000000; stroke-width: 1.5;\"/><line style=\"stroke: #000000; stroke-width: 1.5;\" x1=\"16\" x2=\"203\" y1=\"28.2969\" y2=\"28.2969\"/><text fill=\"#000000\" font-family=\"sans-serif\" font-size=\"14\" font-weight=\"bold\" lengthAdjust=\"spacingAndGlyphs\" textLength=\"174\" x=\"20\" y=\"20.9951\">QualifiedNameImportTest</text></a><!--MD5=[e4f7fae6ed58524ba242bb0b0d3be6b7]\n",
       "cluster E2--><a href=\"psysml:1cd01716-9110-4b9f-8aee-0302fbd4d98f\" target=\"_top\" title=\"psysml:1cd01716-9110-4b9f-8aee-0302fbd4d98f\" xlink:actuate=\"onRequest\" xlink:href=\"psysml:1cd01716-9110-4b9f-8aee-0302fbd4d98f\" xlink:show=\"new\" xlink:title=\"psysml:1cd01716-9110-4b9f-8aee-0302fbd4d98f\" xlink:type=\"simple\"><polygon fill=\"#FFFFFF\" points=\"227,54,251,54,258,76.2969,333,76.2969,333,148,227,148,227,54\" style=\"stroke: #000000; stroke-width: 1.5;\"/><line style=\"stroke: #000000; stroke-width: 1.5;\" x1=\"227\" x2=\"258\" y1=\"76.2969\" y2=\"76.2969\"/><text fill=\"#000000\" font-family=\"sans-serif\" font-size=\"14\" font-weight=\"bold\" lengthAdjust=\"spacingAndGlyphs\" textLength=\"18\" x=\"231\" y=\"68.9951\">P1</text></a><!--MD5=[f6df4d0ebaf0b5dfb2ced0ae5af7c670]\n",
       "cluster E4--><a href=\"psysml:41fe529f-0d81-4eb7-adf7-d3411e3f84fb\" target=\"_top\" title=\"psysml:41fe529f-0d81-4eb7-adf7-d3411e3f84fb\" xlink:actuate=\"onRequest\" xlink:href=\"psysml:41fe529f-0d81-4eb7-adf7-d3411e3f84fb\" xlink:show=\"new\" xlink:title=\"psysml:41fe529f-0d81-4eb7-adf7-d3411e3f84fb\" xlink:type=\"simple\"><polygon fill=\"#FFFFFF\" points=\"40,49,64,49,71,71.2969,203,71.2969,203,153,40,153,40,49\" style=\"stroke: #000000; stroke-width: 1.5;\"/><line style=\"stroke: #000000; stroke-width: 1.5;\" x1=\"40\" x2=\"71\" y1=\"71.2969\" y2=\"71.2969\"/><text fill=\"#000000\" font-family=\"sans-serif\" font-size=\"14\" font-weight=\"bold\" lengthAdjust=\"spacingAndGlyphs\" textLength=\"18\" x=\"44\" y=\"63.9951\">P2</text></a><g id=\"E1.E2.E3\"><a href=\"psysml:9b3dc75b-1d88-4bb0-99bb-db4dbafde32b\" target=\"_top\" title=\"psysml:9b3dc75b-1d88-4bb0-99bb-db4dbafde32b\" xlink:actuate=\"onRequest\" xlink:href=\"psysml:9b3dc75b-1d88-4bb0-99bb-db4dbafde32b\" xlink:show=\"new\" xlink:title=\"psysml:9b3dc75b-1d88-4bb0-99bb-db4dbafde32b\" xlink:type=\"simple\"><rect fill=\"#FFFFFF\" height=\"42.9375\" id=\"E3\" style=\"stroke: #383838; stroke-width: 1.5;\" width=\"75\" x=\"242.5\" y=\"89\"/><rect fill=\"#F8F8F8\" height=\"37.9375\" style=\"stroke: #383838; stroke-width: 1.5;\" width=\"75\" x=\"242.5\" y=\"89\"/><text fill=\"#000000\" font-family=\"sans-serif\" font-size=\"12\" font-style=\"italic\" lengthAdjust=\"spacingAndGlyphs\" textLength=\"68\" x=\"246\" y=\"105.1387\">«part  def»</text><text fill=\"#000000\" font-family=\"sans-serif\" font-size=\"12\" lengthAdjust=\"spacingAndGlyphs\" textLength=\"8\" x=\"276\" y=\"119.1074\">A</text></a></g><a href=\"psysml:f3db2951-3782-436b-a6ad-64914b64a485\" target=\"_top\" title=\"psysml:f3db2951-3782-436b-a6ad-64914b64a485\" xlink:actuate=\"onRequest\" xlink:href=\"psysml:f3db2951-3782-436b-a6ad-64914b64a485\" xlink:show=\"new\" xlink:title=\"psysml:f3db2951-3782-436b-a6ad-64914b64a485\" xlink:type=\"simple\"><polygon fill=\"#FFFFFF\" points=\"141,84,173,84,180,106.2969,187,106.2969,187,136.5938,141,136.5938,141,84\" style=\"stroke: #000000; stroke-width: 1.5;\"/><line style=\"stroke: #000000; stroke-width: 1.5;\" x1=\"141\" x2=\"180\" y1=\"106.2969\" y2=\"106.2969\"/><text fill=\"#000000\" font-family=\"sans-serif\" font-size=\"14\" font-weight=\"bold\" lengthAdjust=\"spacingAndGlyphs\" textLength=\"26\" x=\"145\" y=\"98.9951\">P2a</text></a><g id=\"E1.E4.E6\"><a href=\"psysml:06f81dae-fa7a-4401-9cfd-15cc868431a4\" target=\"_top\" title=\"psysml:06f81dae-fa7a-4401-9cfd-15cc868431a4\" xlink:actuate=\"onRequest\" xlink:href=\"psysml:06f81dae-fa7a-4401-9cfd-15cc868431a4\" xlink:show=\"new\" xlink:title=\"psysml:06f81dae-fa7a-4401-9cfd-15cc868431a4\" xlink:type=\"simple\"><rect fill=\"#FFFFFF\" height=\"40\" id=\"E6\" rx=\"10\" ry=\"10\" style=\"stroke: #383838; stroke-width: 1.5;\" width=\"50\" x=\"56\" y=\"90.5\"/><rect fill=\"#F8F8F8\" height=\"23.9688\" rx=\"10\" ry=\"10\" style=\"stroke: #F8F8F8; stroke-width: 1.5;\" width=\"50\" x=\"56\" y=\"90.5\"/><rect fill=\"#F8F8F8\" height=\"10\" style=\"stroke: #F8F8F8; stroke-width: 1.5;\" width=\"50\" x=\"56\" y=\"104.4688\"/><rect fill=\"none\" height=\"40\" id=\"E6\" rx=\"10\" ry=\"10\" style=\"stroke: #383838; stroke-width: 1.5;\" width=\"50\" x=\"56\" y=\"90.5\"/><text fill=\"#000000\" font-family=\"sans-serif\" font-size=\"12\" lengthAdjust=\"spacingAndGlyphs\" textLength=\"22\" x=\"70\" y=\"106.6387\">x: A</text></a></g><!--MD5=[9691bbd789022c9bb3d33877db9e07bf]\n",
       "@startuml\r\n",
       "skinparam ranksep 10\r\n",
       "skinparam rectangle {\r\n",
       " backgroundColor<<block>> LightGreen\r\n",
       "}\r\n",
       " skinparam monochrome true\r\n",
       "skinparam classbackgroundcolor white\r\n",
       "skinparam shadowing false\r\n",
       "skinparam wrapWidth 300\r\n",
       "hide circle\r\n",
       "\r\n",
       "package \"QualifiedNameImportTest\" as E1  [[psysml:3ae9698c-7b02-4bda-a9f9-90d299fbd69b ]]  {\r\n",
       "package \"P1\" as E2  [[psysml:1cd01716-9110-4b9f-8aee-0302fbd4d98f ]]  {\r\n",
       "rec def \"A\" as E3  <<(T,blue) part  def>> [[psysml:9b3dc75b-1d88-4bb0-99bb-db4dbafde32b ]] {\r\n",
       "}\r\n",
       "}\r\n",
       "package \"P2\" as E4  [[psysml:41fe529f-0d81-4eb7-adf7-d3411e3f84fb ]]  {\r\n",
       "package \"P2a\" as E5  [[psysml:f3db2951-3782-436b-a6ad-64914b64a485 ]]  {\r\n",
       "}\r\n",
       "rec usage \"x: A\" as E6  [[psysml:06f81dae-fa7a-4401-9cfd-15cc868431a4 ]] {\r\n",
       "}\r\n",
       "}\r\n",
       "}\r\n",
       "@enduml\r\n",
       "\n",
       "PlantUML version 1.2020.13(Sat Jun 13 12:26:38 UTC 2020)\n",
       "(EPL source distribution)\n",
       "Java Runtime: OpenJDK Runtime Environment\n",
       "JVM: OpenJDK 64-Bit Server VM\n",
       "Default Encoding: UTF-8\n",
       "Language: en\n",
       "Country: null\n",
       "--></g></svg>"
      ]
     },
     "execution_count": 5,
     "metadata": {},
     "output_type": "execute_result"
    }
   ],
   "source": [
    "%viz --style=\"COMPTREE\" --view=\"Interconnection\" \"QualifiedNameImportTest\""
   ]
  },
  {
   "cell_type": "code",
   "execution_count": 6,
   "id": "c90d0bbc",
   "metadata": {
    "execution": {
     "iopub.execute_input": "2022-02-05T16:55:51.364067Z",
     "iopub.status.busy": "2022-02-05T16:55:51.363656Z",
     "iopub.status.idle": "2022-02-05T16:55:51.370702Z",
     "shell.execute_reply": "2022-02-05T16:55:51.371017Z"
    }
   },
   "outputs": [
    {
     "data": {
      "image/svg+xml": [
       "<?xml version=\"1.0\" encoding=\"UTF-8\" standalone=\"no\"?><svg xmlns=\"http://www.w3.org/2000/svg\" xmlns:xlink=\"http://www.w3.org/1999/xlink\" contentScriptType=\"application/ecmascript\" contentStyleType=\"text/css\" height=\"12px\" preserveAspectRatio=\"none\" style=\"width:12px;height:12px;\" version=\"1.1\" viewBox=\"0 0 12 12\" width=\"12px\" zoomAndPan=\"magnify\"><defs/><g><!--MD5=[655b888544ca4751ea36af1068543f84]\n",
       "@startuml\r\n",
       "skinparam ranksep 8\r\n",
       " skinparam monochrome true\r\n",
       "skinparam classbackgroundcolor white\r\n",
       "skinparam shadowing false\r\n",
       "skinparam wrapWidth 300\r\n",
       "hide circle\r\n",
       "\r\n",
       "@enduml\r\n",
       "\n",
       "PlantUML version 1.2020.13(Sat Jun 13 12:26:38 UTC 2020)\n",
       "(EPL source distribution)\n",
       "Java Runtime: OpenJDK Runtime Environment\n",
       "JVM: OpenJDK 64-Bit Server VM\n",
       "Default Encoding: UTF-8\n",
       "Language: en\n",
       "Country: null\n",
       "--></g></svg>"
      ]
     },
     "execution_count": 6,
     "metadata": {},
     "output_type": "execute_result"
    }
   ],
   "source": [
    "%viz --style=\"COMPTREE\" --view=\"Action\" \"QualifiedNameImportTest\""
   ]
  },
  {
   "cell_type": "code",
   "execution_count": 7,
   "id": "fbcf1caa",
   "metadata": {
    "execution": {
     "iopub.execute_input": "2022-02-05T16:55:51.421928Z",
     "iopub.status.busy": "2022-02-05T16:55:51.421378Z",
     "iopub.status.idle": "2022-02-05T16:55:51.433419Z",
     "shell.execute_reply": "2022-02-05T16:55:51.433866Z"
    }
   },
   "outputs": [
    {
     "data": {
      "image/svg+xml": [
       "<?xml version=\"1.0\" encoding=\"UTF-8\" standalone=\"no\"?><svg xmlns=\"http://www.w3.org/2000/svg\" xmlns:xlink=\"http://www.w3.org/1999/xlink\" contentScriptType=\"application/ecmascript\" contentStyleType=\"text/css\" height=\"12px\" preserveAspectRatio=\"none\" style=\"width:12px;height:12px;\" version=\"1.1\" viewBox=\"0 0 12 12\" width=\"12px\" zoomAndPan=\"magnify\"><defs/><g><!--MD5=[803fc46c337be7a5c8a9831e35356779]\n",
       "@startuml\r\n",
       "skinparam roundcorner 20\r\n",
       "skinparam BoxPadding 20\r\n",
       "skinparam SequenceBoxBackgroundColor #white\r\n",
       "skinparam style strictuml\r\n",
       "skinparam maxMessageSize 100\r\n",
       " skinparam monochrome true\r\n",
       "skinparam classbackgroundcolor white\r\n",
       "skinparam shadowing false\r\n",
       "skinparam wrapWidth 300\r\n",
       "hide circle\r\n",
       "\r\n",
       "@enduml\r\n",
       "\n",
       "PlantUML version 1.2020.13(Sat Jun 13 12:26:38 UTC 2020)\n",
       "(EPL source distribution)\n",
       "Java Runtime: OpenJDK Runtime Environment\n",
       "JVM: OpenJDK 64-Bit Server VM\n",
       "Default Encoding: UTF-8\n",
       "Language: en\n",
       "Country: null\n",
       "--></g></svg>"
      ]
     },
     "execution_count": 7,
     "metadata": {},
     "output_type": "execute_result"
    }
   ],
   "source": [
    "%viz --style=\"COMPTREE\" --view=\"Sequence\" \"QualifiedNameImportTest\""
   ]
  },
  {
   "cell_type": "code",
   "execution_count": 8,
   "id": "29dfb7f1",
   "metadata": {
    "execution": {
     "iopub.execute_input": "2022-02-05T16:55:51.483751Z",
     "iopub.status.busy": "2022-02-05T16:55:51.483334Z",
     "iopub.status.idle": "2022-02-05T16:55:51.523006Z",
     "shell.execute_reply": "2022-02-05T16:55:51.522513Z"
    }
   },
   "outputs": [
    {
     "data": {
      "image/svg+xml": [
       "<?xml version=\"1.0\" encoding=\"UTF-8\" standalone=\"no\"?><svg xmlns=\"http://www.w3.org/2000/svg\" xmlns:xlink=\"http://www.w3.org/1999/xlink\" contentScriptType=\"application/ecmascript\" contentStyleType=\"text/css\" height=\"310px\" preserveAspectRatio=\"none\" style=\"width:241px;height:310px;\" version=\"1.1\" viewBox=\"0 0 241 310\" width=\"241px\" zoomAndPan=\"magnify\"><defs/><g><!--MD5=[fbc87193dbaf4d95561dea2c320d4a47]\n",
       "cluster E1--><a href=\"psysml:3ae9698c-7b02-4bda-a9f9-90d299fbd69b\" target=\"_top\" title=\"psysml:3ae9698c-7b02-4bda-a9f9-90d299fbd69b\" xlink:actuate=\"onRequest\" xlink:href=\"psysml:3ae9698c-7b02-4bda-a9f9-90d299fbd69b\" xlink:show=\"new\" xlink:title=\"psysml:3ae9698c-7b02-4bda-a9f9-90d299fbd69b\" xlink:type=\"simple\"><polygon fill=\"#FFFFFF\" points=\"16,6,196,6,203,28.2969,219,28.2969,219,298,16,298,16,6\" style=\"stroke: #000000; stroke-width: 1.5;\"/><line style=\"stroke: #000000; stroke-width: 1.5;\" x1=\"16\" x2=\"203\" y1=\"28.2969\" y2=\"28.2969\"/><text fill=\"#000000\" font-family=\"sans-serif\" font-size=\"14\" font-weight=\"bold\" lengthAdjust=\"spacingAndGlyphs\" textLength=\"174\" x=\"20\" y=\"20.9951\">QualifiedNameImportTest</text></a><!--MD5=[e4f7fae6ed58524ba242bb0b0d3be6b7]\n",
       "cluster E2--><a href=\"psysml:1cd01716-9110-4b9f-8aee-0302fbd4d98f\" target=\"_top\" title=\"psysml:1cd01716-9110-4b9f-8aee-0302fbd4d98f\" xlink:actuate=\"onRequest\" xlink:href=\"psysml:1cd01716-9110-4b9f-8aee-0302fbd4d98f\" xlink:show=\"new\" xlink:title=\"psysml:1cd01716-9110-4b9f-8aee-0302fbd4d98f\" xlink:type=\"simple\"><polygon fill=\"#FFFFFF\" points=\"93,177,117,177,124,199.2969,195,199.2969,195,274,93,274,93,177\" style=\"stroke: #000000; stroke-width: 1.5;\"/><line style=\"stroke: #000000; stroke-width: 1.5;\" x1=\"93\" x2=\"124\" y1=\"199.2969\" y2=\"199.2969\"/><text fill=\"#000000\" font-family=\"sans-serif\" font-size=\"14\" font-weight=\"bold\" lengthAdjust=\"spacingAndGlyphs\" textLength=\"18\" x=\"97\" y=\"191.9951\">P1</text></a><!--MD5=[f6df4d0ebaf0b5dfb2ced0ae5af7c670]\n",
       "cluster E4--><a href=\"psysml:41fe529f-0d81-4eb7-adf7-d3411e3f84fb\" target=\"_top\" title=\"psysml:41fe529f-0d81-4eb7-adf7-d3411e3f84fb\" xlink:actuate=\"onRequest\" xlink:href=\"psysml:41fe529f-0d81-4eb7-adf7-d3411e3f84fb\" xlink:show=\"new\" xlink:title=\"psysml:41fe529f-0d81-4eb7-adf7-d3411e3f84fb\" xlink:type=\"simple\"><polygon fill=\"#FFFFFF\" points=\"40,49,64,49,71,71.2969,195,71.2969,195,153,40,153,40,49\" style=\"stroke: #000000; stroke-width: 1.5;\"/><line style=\"stroke: #000000; stroke-width: 1.5;\" x1=\"40\" x2=\"71\" y1=\"71.2969\" y2=\"71.2969\"/><text fill=\"#000000\" font-family=\"sans-serif\" font-size=\"14\" font-weight=\"bold\" lengthAdjust=\"spacingAndGlyphs\" textLength=\"18\" x=\"44\" y=\"63.9951\">P2</text></a><!--MD5=[09b614a08d8cba4a07c9adeb5e0fee81]\n",
       "class E3--><a href=\"psysml:9b3dc75b-1d88-4bb0-99bb-db4dbafde32b\" target=\"_top\" title=\"psysml:9b3dc75b-1d88-4bb0-99bb-db4dbafde32b\" xlink:actuate=\"onRequest\" xlink:href=\"psysml:9b3dc75b-1d88-4bb0-99bb-db4dbafde32b\" xlink:show=\"new\" xlink:title=\"psysml:9b3dc75b-1d88-4bb0-99bb-db4dbafde32b\" xlink:type=\"simple\"><rect fill=\"#FFFFFF\" height=\"45.9375\" id=\"E3\" style=\"stroke: #383838; stroke-width: 1.5;\" width=\"70\" x=\"109\" y=\"212\"/><text fill=\"#000000\" font-family=\"sans-serif\" font-size=\"12\" font-style=\"italic\" lengthAdjust=\"spacingAndGlyphs\" textLength=\"68\" x=\"110\" y=\"228.1387\">«part  def»</text><text fill=\"#000000\" font-family=\"sans-serif\" font-size=\"12\" lengthAdjust=\"spacingAndGlyphs\" textLength=\"8\" x=\"140\" y=\"242.1074\">A</text><line style=\"stroke: #383838; stroke-width: 1.5;\" x1=\"110\" x2=\"178\" y1=\"249.9375\" y2=\"249.9375\"/></a><!--MD5=[60a26617385b1d2d0262a64233df1f8d]\n",
       "class E6--><a href=\"psysml:06f81dae-fa7a-4401-9cfd-15cc868431a4\" target=\"_top\" title=\"psysml:06f81dae-fa7a-4401-9cfd-15cc868431a4\" xlink:actuate=\"onRequest\" xlink:href=\"psysml:06f81dae-fa7a-4401-9cfd-15cc868431a4\" xlink:show=\"new\" xlink:title=\"psysml:06f81dae-fa7a-4401-9cfd-15cc868431a4\" xlink:type=\"simple\"><rect fill=\"#FFFFFF\" height=\"45.9375\" id=\"E6\" rx=\"10\" ry=\"10\" style=\"stroke: #383838; stroke-width: 1.5;\" width=\"42\" x=\"137\" y=\"87.5\"/><text fill=\"#000000\" font-family=\"sans-serif\" font-size=\"12\" font-style=\"italic\" lengthAdjust=\"spacingAndGlyphs\" textLength=\"40\" x=\"138\" y=\"103.6387\">«part»</text><text fill=\"#000000\" font-family=\"sans-serif\" font-size=\"12\" lengthAdjust=\"spacingAndGlyphs\" textLength=\"22\" x=\"145\" y=\"117.6074\">x: A</text><line style=\"stroke: #383838; stroke-width: 1.5;\" x1=\"138\" x2=\"178\" y1=\"125.4375\" y2=\"125.4375\"/></a><a href=\"psysml:f3db2951-3782-436b-a6ad-64914b64a485\" target=\"_top\" title=\"psysml:f3db2951-3782-436b-a6ad-64914b64a485\" xlink:actuate=\"onRequest\" xlink:href=\"psysml:f3db2951-3782-436b-a6ad-64914b64a485\" xlink:show=\"new\" xlink:title=\"psysml:f3db2951-3782-436b-a6ad-64914b64a485\" xlink:type=\"simple\"><polygon fill=\"#FFFFFF\" points=\"56,84,88,84,95,106.2969,102,106.2969,102,136.5938,56,136.5938,56,84\" style=\"stroke: #000000; stroke-width: 1.5;\"/><line style=\"stroke: #000000; stroke-width: 1.5;\" x1=\"56\" x2=\"95\" y1=\"106.2969\" y2=\"106.2969\"/><text fill=\"#000000\" font-family=\"sans-serif\" font-size=\"14\" font-weight=\"bold\" lengthAdjust=\"spacingAndGlyphs\" textLength=\"26\" x=\"60\" y=\"98.9951\">P2a</text></a><!--MD5=[a717450b82c80b9240a525fa862496af]\n",
       "link E6 to E3--><a href=\"psysml:7ae3fb41-5537-4752-a539-fb13bd5d368f\" target=\"_top\" title=\"psysml:7ae3fb41-5537-4752-a539-fb13bd5d368f\" xlink:actuate=\"onRequest\" xlink:href=\"psysml:7ae3fb41-5537-4752-a539-fb13bd5d368f\" xlink:show=\"new\" xlink:title=\"psysml:7ae3fb41-5537-4752-a539-fb13bd5d368f\" xlink:type=\"simple\"><path d=\"M155.46,133.68 C153.61,149.9 151.04,172.39 148.8,191.96 \" fill=\"none\" id=\"E6-&gt;E3\" style=\"stroke: #383838; stroke-width: 1.0;\"/><polygon fill=\"#FFFFFF\" points=\"146.52,211.98,141.7231,192.308,155.6325,193.8979,146.52,211.98\" style=\"stroke: #383838; stroke-width: 1.0;\"/><ellipse cx=\"144.3574\" cy=\"186.872\" fill=\"#383838\" rx=\"2\" ry=\"2\" style=\"stroke: #383838; stroke-width: 1.0;\"/><ellipse cx=\"154.2928\" cy=\"188.0076\" fill=\"#383838\" rx=\"2\" ry=\"2\" style=\"stroke: #383838; stroke-width: 1.0;\"/></a><!--MD5=[135a58a1259509996e19d92995275f4f]\n",
       "@startuml\r\n",
       " skinparam monochrome true\r\n",
       "skinparam classbackgroundcolor white\r\n",
       "skinparam shadowing false\r\n",
       "skinparam wrapWidth 300\r\n",
       "hide circle\r\n",
       "\r\n",
       "package \"QualifiedNameImportTest\" as E1  [[psysml:3ae9698c-7b02-4bda-a9f9-90d299fbd69b ]]  {\r\n",
       "package \"P1\" as E2  [[psysml:1cd01716-9110-4b9f-8aee-0302fbd4d98f ]]  {\r\n",
       "comp def \"A\" as E3  <<(T,blue) part  def>> [[psysml:9b3dc75b-1d88-4bb0-99bb-db4dbafde32b ]] {\r\n",
       "}\r\n",
       "}\r\n",
       "package \"P2\" as E4  [[psysml:41fe529f-0d81-4eb7-adf7-d3411e3f84fb ]]  {\r\n",
       "package \"P2a\" as E5  [[psysml:f3db2951-3782-436b-a6ad-64914b64a485 ]]  {\r\n",
       "}\r\n",
       "comp usage \"x: A \" as E6  <<(T,blue) part>> [[psysml:06f81dae-fa7a-4401-9cfd-15cc868431a4 ]] {\r\n",
       "}\r\n",
       "}\r\n",
       "}\r\n",
       "E6 - -:|> E3 [[psysml:7ae3fb41-5537-4752-a539-fb13bd5d368f ]] \r\n",
       "@enduml\r\n",
       "\n",
       "PlantUML version 1.2020.13(Sat Jun 13 12:26:38 UTC 2020)\n",
       "(EPL source distribution)\n",
       "Java Runtime: OpenJDK Runtime Environment\n",
       "JVM: OpenJDK 64-Bit Server VM\n",
       "Default Encoding: UTF-8\n",
       "Language: en\n",
       "Country: null\n",
       "--></g></svg>"
      ]
     },
     "execution_count": 8,
     "metadata": {},
     "output_type": "execute_result"
    }
   ],
   "source": [
    "%viz --style=\"COMPTREE\" --view=\"MIXED\" \"QualifiedNameImportTest\""
   ]
  },
  {
   "cell_type": "code",
   "execution_count": 9,
   "id": "261ba9d6",
   "metadata": {
    "execution": {
     "iopub.execute_input": "2022-02-05T16:55:51.572243Z",
     "iopub.status.busy": "2022-02-05T16:55:51.572004Z",
     "iopub.status.idle": "2022-02-05T16:55:51.608135Z",
     "shell.execute_reply": "2022-02-05T16:55:51.607873Z"
    }
   },
   "outputs": [
    {
     "data": {
      "image/svg+xml": [
       "<?xml version=\"1.0\" encoding=\"UTF-8\" standalone=\"no\"?><svg xmlns=\"http://www.w3.org/2000/svg\" xmlns:xlink=\"http://www.w3.org/1999/xlink\" contentScriptType=\"application/ecmascript\" contentStyleType=\"text/css\" height=\"310px\" preserveAspectRatio=\"none\" style=\"width:241px;height:310px;\" version=\"1.1\" viewBox=\"0 0 241 310\" width=\"241px\" zoomAndPan=\"magnify\"><defs/><g><!--MD5=[fbc87193dbaf4d95561dea2c320d4a47]\n",
       "cluster E1--><a href=\"psysml:3ae9698c-7b02-4bda-a9f9-90d299fbd69b\" target=\"_top\" title=\"psysml:3ae9698c-7b02-4bda-a9f9-90d299fbd69b\" xlink:actuate=\"onRequest\" xlink:href=\"psysml:3ae9698c-7b02-4bda-a9f9-90d299fbd69b\" xlink:show=\"new\" xlink:title=\"psysml:3ae9698c-7b02-4bda-a9f9-90d299fbd69b\" xlink:type=\"simple\"><polygon fill=\"#FFFFFF\" points=\"16,6,196,6,203,28.2969,219,28.2969,219,298,16,298,16,6\" style=\"stroke: #000000; stroke-width: 1.5;\"/><line style=\"stroke: #000000; stroke-width: 1.5;\" x1=\"16\" x2=\"203\" y1=\"28.2969\" y2=\"28.2969\"/><text fill=\"#000000\" font-family=\"sans-serif\" font-size=\"14\" font-weight=\"bold\" lengthAdjust=\"spacingAndGlyphs\" textLength=\"174\" x=\"20\" y=\"20.9951\">QualifiedNameImportTest</text></a><!--MD5=[e4f7fae6ed58524ba242bb0b0d3be6b7]\n",
       "cluster E2--><a href=\"psysml:1cd01716-9110-4b9f-8aee-0302fbd4d98f\" target=\"_top\" title=\"psysml:1cd01716-9110-4b9f-8aee-0302fbd4d98f\" xlink:actuate=\"onRequest\" xlink:href=\"psysml:1cd01716-9110-4b9f-8aee-0302fbd4d98f\" xlink:show=\"new\" xlink:title=\"psysml:1cd01716-9110-4b9f-8aee-0302fbd4d98f\" xlink:type=\"simple\"><polygon fill=\"#FFFFFF\" points=\"93,177,117,177,124,199.2969,195,199.2969,195,274,93,274,93,177\" style=\"stroke: #000000; stroke-width: 1.5;\"/><line style=\"stroke: #000000; stroke-width: 1.5;\" x1=\"93\" x2=\"124\" y1=\"199.2969\" y2=\"199.2969\"/><text fill=\"#000000\" font-family=\"sans-serif\" font-size=\"14\" font-weight=\"bold\" lengthAdjust=\"spacingAndGlyphs\" textLength=\"18\" x=\"97\" y=\"191.9951\">P1</text></a><!--MD5=[f6df4d0ebaf0b5dfb2ced0ae5af7c670]\n",
       "cluster E4--><a href=\"psysml:41fe529f-0d81-4eb7-adf7-d3411e3f84fb\" target=\"_top\" title=\"psysml:41fe529f-0d81-4eb7-adf7-d3411e3f84fb\" xlink:actuate=\"onRequest\" xlink:href=\"psysml:41fe529f-0d81-4eb7-adf7-d3411e3f84fb\" xlink:show=\"new\" xlink:title=\"psysml:41fe529f-0d81-4eb7-adf7-d3411e3f84fb\" xlink:type=\"simple\"><polygon fill=\"#FFFFFF\" points=\"40,49,64,49,71,71.2969,195,71.2969,195,153,40,153,40,49\" style=\"stroke: #000000; stroke-width: 1.5;\"/><line style=\"stroke: #000000; stroke-width: 1.5;\" x1=\"40\" x2=\"71\" y1=\"71.2969\" y2=\"71.2969\"/><text fill=\"#000000\" font-family=\"sans-serif\" font-size=\"14\" font-weight=\"bold\" lengthAdjust=\"spacingAndGlyphs\" textLength=\"18\" x=\"44\" y=\"63.9951\">P2</text></a><!--MD5=[09b614a08d8cba4a07c9adeb5e0fee81]\n",
       "class E3--><a href=\"psysml:9b3dc75b-1d88-4bb0-99bb-db4dbafde32b\" target=\"_top\" title=\"psysml:9b3dc75b-1d88-4bb0-99bb-db4dbafde32b\" xlink:actuate=\"onRequest\" xlink:href=\"psysml:9b3dc75b-1d88-4bb0-99bb-db4dbafde32b\" xlink:show=\"new\" xlink:title=\"psysml:9b3dc75b-1d88-4bb0-99bb-db4dbafde32b\" xlink:type=\"simple\"><rect fill=\"#FFFFFF\" height=\"45.9375\" id=\"E3\" style=\"stroke: #383838; stroke-width: 1.5;\" width=\"70\" x=\"109\" y=\"212\"/><text fill=\"#000000\" font-family=\"sans-serif\" font-size=\"12\" font-style=\"italic\" lengthAdjust=\"spacingAndGlyphs\" textLength=\"68\" x=\"110\" y=\"228.1387\">«part  def»</text><text fill=\"#000000\" font-family=\"sans-serif\" font-size=\"12\" lengthAdjust=\"spacingAndGlyphs\" textLength=\"8\" x=\"140\" y=\"242.1074\">A</text><line style=\"stroke: #383838; stroke-width: 1.5;\" x1=\"110\" x2=\"178\" y1=\"249.9375\" y2=\"249.9375\"/></a><!--MD5=[60a26617385b1d2d0262a64233df1f8d]\n",
       "class E6--><a href=\"psysml:06f81dae-fa7a-4401-9cfd-15cc868431a4\" target=\"_top\" title=\"psysml:06f81dae-fa7a-4401-9cfd-15cc868431a4\" xlink:actuate=\"onRequest\" xlink:href=\"psysml:06f81dae-fa7a-4401-9cfd-15cc868431a4\" xlink:show=\"new\" xlink:title=\"psysml:06f81dae-fa7a-4401-9cfd-15cc868431a4\" xlink:type=\"simple\"><rect fill=\"#FFFFFF\" height=\"45.9375\" id=\"E6\" rx=\"10\" ry=\"10\" style=\"stroke: #383838; stroke-width: 1.5;\" width=\"42\" x=\"137\" y=\"87.5\"/><text fill=\"#000000\" font-family=\"sans-serif\" font-size=\"12\" font-style=\"italic\" lengthAdjust=\"spacingAndGlyphs\" textLength=\"40\" x=\"138\" y=\"103.6387\">«part»</text><text fill=\"#000000\" font-family=\"sans-serif\" font-size=\"12\" lengthAdjust=\"spacingAndGlyphs\" textLength=\"22\" x=\"145\" y=\"117.6074\">x: A</text><line style=\"stroke: #383838; stroke-width: 1.5;\" x1=\"138\" x2=\"178\" y1=\"125.4375\" y2=\"125.4375\"/></a><a href=\"psysml:f3db2951-3782-436b-a6ad-64914b64a485\" target=\"_top\" title=\"psysml:f3db2951-3782-436b-a6ad-64914b64a485\" xlink:actuate=\"onRequest\" xlink:href=\"psysml:f3db2951-3782-436b-a6ad-64914b64a485\" xlink:show=\"new\" xlink:title=\"psysml:f3db2951-3782-436b-a6ad-64914b64a485\" xlink:type=\"simple\"><polygon fill=\"#FFFFFF\" points=\"56,84,88,84,95,106.2969,102,106.2969,102,136.5938,56,136.5938,56,84\" style=\"stroke: #000000; stroke-width: 1.5;\"/><line style=\"stroke: #000000; stroke-width: 1.5;\" x1=\"56\" x2=\"95\" y1=\"106.2969\" y2=\"106.2969\"/><text fill=\"#000000\" font-family=\"sans-serif\" font-size=\"14\" font-weight=\"bold\" lengthAdjust=\"spacingAndGlyphs\" textLength=\"26\" x=\"60\" y=\"98.9951\">P2a</text></a><!--MD5=[a717450b82c80b9240a525fa862496af]\n",
       "link E6 to E3--><a href=\"psysml:7ae3fb41-5537-4752-a539-fb13bd5d368f\" target=\"_top\" title=\"psysml:7ae3fb41-5537-4752-a539-fb13bd5d368f\" xlink:actuate=\"onRequest\" xlink:href=\"psysml:7ae3fb41-5537-4752-a539-fb13bd5d368f\" xlink:show=\"new\" xlink:title=\"psysml:7ae3fb41-5537-4752-a539-fb13bd5d368f\" xlink:type=\"simple\"><path d=\"M155.46,133.68 C153.61,149.9 151.04,172.39 148.8,191.96 \" fill=\"none\" id=\"E6-&gt;E3\" style=\"stroke: #383838; stroke-width: 1.0;\"/><polygon fill=\"#FFFFFF\" points=\"146.52,211.98,141.7231,192.308,155.6325,193.8979,146.52,211.98\" style=\"stroke: #383838; stroke-width: 1.0;\"/><ellipse cx=\"144.3574\" cy=\"186.872\" fill=\"#383838\" rx=\"2\" ry=\"2\" style=\"stroke: #383838; stroke-width: 1.0;\"/><ellipse cx=\"154.2928\" cy=\"188.0076\" fill=\"#383838\" rx=\"2\" ry=\"2\" style=\"stroke: #383838; stroke-width: 1.0;\"/></a><!--MD5=[a148515e3c7c55c530dd8a83f24af658]\n",
       "@startuml\r\n",
       "skinparam linetype polyline\r\n",
       "skinparam monochrome true\r\n",
       "skinparam classbackgroundcolor white\r\n",
       "skinparam shadowing false\r\n",
       "skinparam wrapWidth 300\r\n",
       "hide circle\r\n",
       "\r\n",
       "package \"QualifiedNameImportTest\" as E1  [[psysml:3ae9698c-7b02-4bda-a9f9-90d299fbd69b ]]  {\r\n",
       "package \"P1\" as E2  [[psysml:1cd01716-9110-4b9f-8aee-0302fbd4d98f ]]  {\r\n",
       "comp def \"A\" as E3  <<(T,blue) part  def>> [[psysml:9b3dc75b-1d88-4bb0-99bb-db4dbafde32b ]] {\r\n",
       "}\r\n",
       "}\r\n",
       "package \"P2\" as E4  [[psysml:41fe529f-0d81-4eb7-adf7-d3411e3f84fb ]]  {\r\n",
       "package \"P2a\" as E5  [[psysml:f3db2951-3782-436b-a6ad-64914b64a485 ]]  {\r\n",
       "}\r\n",
       "comp usage \"x: A \" as E6  <<(T,blue) part>> [[psysml:06f81dae-fa7a-4401-9cfd-15cc868431a4 ]] {\r\n",
       "}\r\n",
       "}\r\n",
       "}\r\n",
       "E6 - -:|> E3 [[psysml:7ae3fb41-5537-4752-a539-fb13bd5d368f ]] \r\n",
       "@enduml\r\n",
       "\n",
       "PlantUML version 1.2020.13(Sat Jun 13 12:26:38 UTC 2020)\n",
       "(EPL source distribution)\n",
       "Java Runtime: OpenJDK Runtime Environment\n",
       "JVM: OpenJDK 64-Bit Server VM\n",
       "Default Encoding: UTF-8\n",
       "Language: en\n",
       "Country: null\n",
       "--></g></svg>"
      ]
     },
     "execution_count": 9,
     "metadata": {},
     "output_type": "execute_result"
    }
   ],
   "source": [
    "%viz --style=\"POLYLINE\" --view=\"Default\" \"QualifiedNameImportTest\""
   ]
  },
  {
   "cell_type": "code",
   "execution_count": 10,
   "id": "f9331d88",
   "metadata": {
    "execution": {
     "iopub.execute_input": "2022-02-05T16:55:51.658455Z",
     "iopub.status.busy": "2022-02-05T16:55:51.658055Z",
     "iopub.status.idle": "2022-02-05T16:55:51.696052Z",
     "shell.execute_reply": "2022-02-05T16:55:51.695843Z"
    }
   },
   "outputs": [
    {
     "data": {
      "image/svg+xml": [
       "<?xml version=\"1.0\" encoding=\"UTF-8\" standalone=\"no\"?><svg xmlns=\"http://www.w3.org/2000/svg\" xmlns:xlink=\"http://www.w3.org/1999/xlink\" contentScriptType=\"application/ecmascript\" contentStyleType=\"text/css\" height=\"310px\" preserveAspectRatio=\"none\" style=\"width:241px;height:310px;\" version=\"1.1\" viewBox=\"0 0 241 310\" width=\"241px\" zoomAndPan=\"magnify\"><defs/><g><!--MD5=[fbc87193dbaf4d95561dea2c320d4a47]\n",
       "cluster E1--><a href=\"psysml:3ae9698c-7b02-4bda-a9f9-90d299fbd69b\" target=\"_top\" title=\"psysml:3ae9698c-7b02-4bda-a9f9-90d299fbd69b\" xlink:actuate=\"onRequest\" xlink:href=\"psysml:3ae9698c-7b02-4bda-a9f9-90d299fbd69b\" xlink:show=\"new\" xlink:title=\"psysml:3ae9698c-7b02-4bda-a9f9-90d299fbd69b\" xlink:type=\"simple\"><polygon fill=\"#FFFFFF\" points=\"16,6,196,6,203,28.2969,219,28.2969,219,298,16,298,16,6\" style=\"stroke: #000000; stroke-width: 1.5;\"/><line style=\"stroke: #000000; stroke-width: 1.5;\" x1=\"16\" x2=\"203\" y1=\"28.2969\" y2=\"28.2969\"/><text fill=\"#000000\" font-family=\"sans-serif\" font-size=\"14\" font-weight=\"bold\" lengthAdjust=\"spacingAndGlyphs\" textLength=\"174\" x=\"20\" y=\"20.9951\">QualifiedNameImportTest</text></a><!--MD5=[e4f7fae6ed58524ba242bb0b0d3be6b7]\n",
       "cluster E2--><a href=\"psysml:1cd01716-9110-4b9f-8aee-0302fbd4d98f\" target=\"_top\" title=\"psysml:1cd01716-9110-4b9f-8aee-0302fbd4d98f\" xlink:actuate=\"onRequest\" xlink:href=\"psysml:1cd01716-9110-4b9f-8aee-0302fbd4d98f\" xlink:show=\"new\" xlink:title=\"psysml:1cd01716-9110-4b9f-8aee-0302fbd4d98f\" xlink:type=\"simple\"><polygon fill=\"#FFFFFF\" points=\"93,177,117,177,124,199.2969,195,199.2969,195,274,93,274,93,177\" style=\"stroke: #000000; stroke-width: 1.5;\"/><line style=\"stroke: #000000; stroke-width: 1.5;\" x1=\"93\" x2=\"124\" y1=\"199.2969\" y2=\"199.2969\"/><text fill=\"#000000\" font-family=\"sans-serif\" font-size=\"14\" font-weight=\"bold\" lengthAdjust=\"spacingAndGlyphs\" textLength=\"18\" x=\"97\" y=\"191.9951\">P1</text></a><!--MD5=[f6df4d0ebaf0b5dfb2ced0ae5af7c670]\n",
       "cluster E4--><a href=\"psysml:41fe529f-0d81-4eb7-adf7-d3411e3f84fb\" target=\"_top\" title=\"psysml:41fe529f-0d81-4eb7-adf7-d3411e3f84fb\" xlink:actuate=\"onRequest\" xlink:href=\"psysml:41fe529f-0d81-4eb7-adf7-d3411e3f84fb\" xlink:show=\"new\" xlink:title=\"psysml:41fe529f-0d81-4eb7-adf7-d3411e3f84fb\" xlink:type=\"simple\"><polygon fill=\"#FFFFFF\" points=\"40,49,64,49,71,71.2969,195,71.2969,195,153,40,153,40,49\" style=\"stroke: #000000; stroke-width: 1.5;\"/><line style=\"stroke: #000000; stroke-width: 1.5;\" x1=\"40\" x2=\"71\" y1=\"71.2969\" y2=\"71.2969\"/><text fill=\"#000000\" font-family=\"sans-serif\" font-size=\"14\" font-weight=\"bold\" lengthAdjust=\"spacingAndGlyphs\" textLength=\"18\" x=\"44\" y=\"63.9951\">P2</text></a><!--MD5=[09b614a08d8cba4a07c9adeb5e0fee81]\n",
       "class E3--><a href=\"psysml:9b3dc75b-1d88-4bb0-99bb-db4dbafde32b\" target=\"_top\" title=\"psysml:9b3dc75b-1d88-4bb0-99bb-db4dbafde32b\" xlink:actuate=\"onRequest\" xlink:href=\"psysml:9b3dc75b-1d88-4bb0-99bb-db4dbafde32b\" xlink:show=\"new\" xlink:title=\"psysml:9b3dc75b-1d88-4bb0-99bb-db4dbafde32b\" xlink:type=\"simple\"><rect fill=\"#FFFFFF\" height=\"45.9375\" id=\"E3\" style=\"stroke: #383838; stroke-width: 1.5;\" width=\"70\" x=\"109\" y=\"212\"/><text fill=\"#000000\" font-family=\"sans-serif\" font-size=\"12\" font-style=\"italic\" lengthAdjust=\"spacingAndGlyphs\" textLength=\"68\" x=\"110\" y=\"228.1387\">«part  def»</text><text fill=\"#000000\" font-family=\"sans-serif\" font-size=\"12\" lengthAdjust=\"spacingAndGlyphs\" textLength=\"8\" x=\"140\" y=\"242.1074\">A</text><line style=\"stroke: #383838; stroke-width: 1.5;\" x1=\"110\" x2=\"178\" y1=\"249.9375\" y2=\"249.9375\"/></a><!--MD5=[60a26617385b1d2d0262a64233df1f8d]\n",
       "class E6--><a href=\"psysml:06f81dae-fa7a-4401-9cfd-15cc868431a4\" target=\"_top\" title=\"psysml:06f81dae-fa7a-4401-9cfd-15cc868431a4\" xlink:actuate=\"onRequest\" xlink:href=\"psysml:06f81dae-fa7a-4401-9cfd-15cc868431a4\" xlink:show=\"new\" xlink:title=\"psysml:06f81dae-fa7a-4401-9cfd-15cc868431a4\" xlink:type=\"simple\"><rect fill=\"#FFFFFF\" height=\"45.9375\" id=\"E6\" rx=\"10\" ry=\"10\" style=\"stroke: #383838; stroke-width: 1.5;\" width=\"42\" x=\"137\" y=\"87.5\"/><text fill=\"#000000\" font-family=\"sans-serif\" font-size=\"12\" font-style=\"italic\" lengthAdjust=\"spacingAndGlyphs\" textLength=\"40\" x=\"138\" y=\"103.6387\">«part»</text><text fill=\"#000000\" font-family=\"sans-serif\" font-size=\"12\" lengthAdjust=\"spacingAndGlyphs\" textLength=\"22\" x=\"145\" y=\"117.6074\">x: A</text><line style=\"stroke: #383838; stroke-width: 1.5;\" x1=\"138\" x2=\"178\" y1=\"125.4375\" y2=\"125.4375\"/></a><a href=\"psysml:f3db2951-3782-436b-a6ad-64914b64a485\" target=\"_top\" title=\"psysml:f3db2951-3782-436b-a6ad-64914b64a485\" xlink:actuate=\"onRequest\" xlink:href=\"psysml:f3db2951-3782-436b-a6ad-64914b64a485\" xlink:show=\"new\" xlink:title=\"psysml:f3db2951-3782-436b-a6ad-64914b64a485\" xlink:type=\"simple\"><polygon fill=\"#FFFFFF\" points=\"56,84,88,84,95,106.2969,102,106.2969,102,136.5938,56,136.5938,56,84\" style=\"stroke: #000000; stroke-width: 1.5;\"/><line style=\"stroke: #000000; stroke-width: 1.5;\" x1=\"56\" x2=\"95\" y1=\"106.2969\" y2=\"106.2969\"/><text fill=\"#000000\" font-family=\"sans-serif\" font-size=\"14\" font-weight=\"bold\" lengthAdjust=\"spacingAndGlyphs\" textLength=\"26\" x=\"60\" y=\"98.9951\">P2a</text></a><!--MD5=[a717450b82c80b9240a525fa862496af]\n",
       "link E6 to E3--><a href=\"psysml:7ae3fb41-5537-4752-a539-fb13bd5d368f\" target=\"_top\" title=\"psysml:7ae3fb41-5537-4752-a539-fb13bd5d368f\" xlink:actuate=\"onRequest\" xlink:href=\"psysml:7ae3fb41-5537-4752-a539-fb13bd5d368f\" xlink:show=\"new\" xlink:title=\"psysml:7ae3fb41-5537-4752-a539-fb13bd5d368f\" xlink:type=\"simple\"><path d=\"M155.46,133.68 C153.61,149.9 151.04,172.39 148.8,191.96 \" fill=\"none\" id=\"E6-&gt;E3\" style=\"stroke: #383838; stroke-width: 1.0;\"/><polygon fill=\"#FFFFFF\" points=\"146.52,211.98,141.7231,192.308,155.6325,193.8979,146.52,211.98\" style=\"stroke: #383838; stroke-width: 1.0;\"/><ellipse cx=\"144.3574\" cy=\"186.872\" fill=\"#383838\" rx=\"2\" ry=\"2\" style=\"stroke: #383838; stroke-width: 1.0;\"/><ellipse cx=\"154.2928\" cy=\"188.0076\" fill=\"#383838\" rx=\"2\" ry=\"2\" style=\"stroke: #383838; stroke-width: 1.0;\"/></a><!--MD5=[a148515e3c7c55c530dd8a83f24af658]\n",
       "@startuml\r\n",
       "skinparam linetype polyline\r\n",
       "skinparam monochrome true\r\n",
       "skinparam classbackgroundcolor white\r\n",
       "skinparam shadowing false\r\n",
       "skinparam wrapWidth 300\r\n",
       "hide circle\r\n",
       "\r\n",
       "package \"QualifiedNameImportTest\" as E1  [[psysml:3ae9698c-7b02-4bda-a9f9-90d299fbd69b ]]  {\r\n",
       "package \"P1\" as E2  [[psysml:1cd01716-9110-4b9f-8aee-0302fbd4d98f ]]  {\r\n",
       "comp def \"A\" as E3  <<(T,blue) part  def>> [[psysml:9b3dc75b-1d88-4bb0-99bb-db4dbafde32b ]] {\r\n",
       "}\r\n",
       "}\r\n",
       "package \"P2\" as E4  [[psysml:41fe529f-0d81-4eb7-adf7-d3411e3f84fb ]]  {\r\n",
       "package \"P2a\" as E5  [[psysml:f3db2951-3782-436b-a6ad-64914b64a485 ]]  {\r\n",
       "}\r\n",
       "comp usage \"x: A \" as E6  <<(T,blue) part>> [[psysml:06f81dae-fa7a-4401-9cfd-15cc868431a4 ]] {\r\n",
       "}\r\n",
       "}\r\n",
       "}\r\n",
       "E6 - -:|> E3 [[psysml:7ae3fb41-5537-4752-a539-fb13bd5d368f ]] \r\n",
       "@enduml\r\n",
       "\n",
       "PlantUML version 1.2020.13(Sat Jun 13 12:26:38 UTC 2020)\n",
       "(EPL source distribution)\n",
       "Java Runtime: OpenJDK Runtime Environment\n",
       "JVM: OpenJDK 64-Bit Server VM\n",
       "Default Encoding: UTF-8\n",
       "Language: en\n",
       "Country: null\n",
       "--></g></svg>"
      ]
     },
     "execution_count": 10,
     "metadata": {},
     "output_type": "execute_result"
    }
   ],
   "source": [
    "%viz --style=\"POLYLINE\" --view=\"Tree\" \"QualifiedNameImportTest\""
   ]
  },
  {
   "cell_type": "code",
   "execution_count": 11,
   "id": "27abaf3c",
   "metadata": {
    "execution": {
     "iopub.execute_input": "2022-02-05T16:55:51.746190Z",
     "iopub.status.busy": "2022-02-05T16:55:51.745968Z",
     "iopub.status.idle": "2022-02-05T16:55:51.752959Z",
     "shell.execute_reply": "2022-02-05T16:55:51.753402Z"
    }
   },
   "outputs": [
    {
     "data": {
      "image/svg+xml": [
       "<?xml version=\"1.0\" encoding=\"UTF-8\" standalone=\"no\"?><svg xmlns=\"http://www.w3.org/2000/svg\" xmlns:xlink=\"http://www.w3.org/1999/xlink\" contentScriptType=\"application/ecmascript\" contentStyleType=\"text/css\" height=\"12px\" preserveAspectRatio=\"none\" style=\"width:12px;height:12px;\" version=\"1.1\" viewBox=\"0 0 12 12\" width=\"12px\" zoomAndPan=\"magnify\"><defs/><g><!--MD5=[896ac0e7a515d8dd7765a661cb4ee08b]\n",
       "@startuml\r\n",
       "skinparam linetype polyline\r\n",
       "skinparam monochrome true\r\n",
       "skinparam classbackgroundcolor white\r\n",
       "skinparam shadowing false\r\n",
       "skinparam wrapWidth 300\r\n",
       "hide circle\r\n",
       "\r\n",
       "@enduml\r\n",
       "\n",
       "PlantUML version 1.2020.13(Sat Jun 13 12:26:38 UTC 2020)\n",
       "(EPL source distribution)\n",
       "Java Runtime: OpenJDK Runtime Environment\n",
       "JVM: OpenJDK 64-Bit Server VM\n",
       "Default Encoding: UTF-8\n",
       "Language: en\n",
       "Country: null\n",
       "--></g></svg>"
      ]
     },
     "execution_count": 11,
     "metadata": {},
     "output_type": "execute_result"
    }
   ],
   "source": [
    "%viz --style=\"POLYLINE\" --view=\"State\" \"QualifiedNameImportTest\""
   ]
  },
  {
   "cell_type": "code",
   "execution_count": 12,
   "id": "dcc2dab2",
   "metadata": {
    "execution": {
     "iopub.execute_input": "2022-02-05T16:55:51.803242Z",
     "iopub.status.busy": "2022-02-05T16:55:51.802808Z",
     "iopub.status.idle": "2022-02-05T16:55:51.852924Z",
     "shell.execute_reply": "2022-02-05T16:55:51.851109Z"
    }
   },
   "outputs": [
    {
     "data": {
      "image/svg+xml": [
       "<?xml version=\"1.0\" encoding=\"UTF-8\" standalone=\"no\"?><svg xmlns=\"http://www.w3.org/2000/svg\" xmlns:xlink=\"http://www.w3.org/1999/xlink\" contentScriptType=\"application/ecmascript\" contentStyleType=\"text/css\" height=\"189px\" preserveAspectRatio=\"none\" style=\"width:379px;height:189px;\" version=\"1.1\" viewBox=\"0 0 379 189\" width=\"379px\" zoomAndPan=\"magnify\"><defs/><g><!--MD5=[fbc87193dbaf4d95561dea2c320d4a47]\n",
       "cluster E1--><a href=\"psysml:3ae9698c-7b02-4bda-a9f9-90d299fbd69b\" target=\"_top\" title=\"psysml:3ae9698c-7b02-4bda-a9f9-90d299fbd69b\" xlink:actuate=\"onRequest\" xlink:href=\"psysml:3ae9698c-7b02-4bda-a9f9-90d299fbd69b\" xlink:show=\"new\" xlink:title=\"psysml:3ae9698c-7b02-4bda-a9f9-90d299fbd69b\" xlink:type=\"simple\"><polygon fill=\"#FFFFFF\" points=\"16,6,196,6,203,28.2969,357,28.2969,357,177,16,177,16,6\" style=\"stroke: #000000; stroke-width: 1.5;\"/><line style=\"stroke: #000000; stroke-width: 1.5;\" x1=\"16\" x2=\"203\" y1=\"28.2969\" y2=\"28.2969\"/><text fill=\"#000000\" font-family=\"sans-serif\" font-size=\"14\" font-weight=\"bold\" lengthAdjust=\"spacingAndGlyphs\" textLength=\"174\" x=\"20\" y=\"20.9951\">QualifiedNameImportTest</text></a><!--MD5=[e4f7fae6ed58524ba242bb0b0d3be6b7]\n",
       "cluster E2--><a href=\"psysml:1cd01716-9110-4b9f-8aee-0302fbd4d98f\" target=\"_top\" title=\"psysml:1cd01716-9110-4b9f-8aee-0302fbd4d98f\" xlink:actuate=\"onRequest\" xlink:href=\"psysml:1cd01716-9110-4b9f-8aee-0302fbd4d98f\" xlink:show=\"new\" xlink:title=\"psysml:1cd01716-9110-4b9f-8aee-0302fbd4d98f\" xlink:type=\"simple\"><polygon fill=\"#FFFFFF\" points=\"227,54,251,54,258,76.2969,333,76.2969,333,148,227,148,227,54\" style=\"stroke: #000000; stroke-width: 1.5;\"/><line style=\"stroke: #000000; stroke-width: 1.5;\" x1=\"227\" x2=\"258\" y1=\"76.2969\" y2=\"76.2969\"/><text fill=\"#000000\" font-family=\"sans-serif\" font-size=\"14\" font-weight=\"bold\" lengthAdjust=\"spacingAndGlyphs\" textLength=\"18\" x=\"231\" y=\"68.9951\">P1</text></a><!--MD5=[f6df4d0ebaf0b5dfb2ced0ae5af7c670]\n",
       "cluster E4--><a href=\"psysml:41fe529f-0d81-4eb7-adf7-d3411e3f84fb\" target=\"_top\" title=\"psysml:41fe529f-0d81-4eb7-adf7-d3411e3f84fb\" xlink:actuate=\"onRequest\" xlink:href=\"psysml:41fe529f-0d81-4eb7-adf7-d3411e3f84fb\" xlink:show=\"new\" xlink:title=\"psysml:41fe529f-0d81-4eb7-adf7-d3411e3f84fb\" xlink:type=\"simple\"><polygon fill=\"#FFFFFF\" points=\"40,49,64,49,71,71.2969,203,71.2969,203,153,40,153,40,49\" style=\"stroke: #000000; stroke-width: 1.5;\"/><line style=\"stroke: #000000; stroke-width: 1.5;\" x1=\"40\" x2=\"71\" y1=\"71.2969\" y2=\"71.2969\"/><text fill=\"#000000\" font-family=\"sans-serif\" font-size=\"14\" font-weight=\"bold\" lengthAdjust=\"spacingAndGlyphs\" textLength=\"18\" x=\"44\" y=\"63.9951\">P2</text></a><g id=\"E1.E2.E3\"><a href=\"psysml:9b3dc75b-1d88-4bb0-99bb-db4dbafde32b\" target=\"_top\" title=\"psysml:9b3dc75b-1d88-4bb0-99bb-db4dbafde32b\" xlink:actuate=\"onRequest\" xlink:href=\"psysml:9b3dc75b-1d88-4bb0-99bb-db4dbafde32b\" xlink:show=\"new\" xlink:title=\"psysml:9b3dc75b-1d88-4bb0-99bb-db4dbafde32b\" xlink:type=\"simple\"><rect fill=\"#FFFFFF\" height=\"42.9375\" id=\"E3\" style=\"stroke: #383838; stroke-width: 1.5;\" width=\"75\" x=\"242.5\" y=\"89\"/><rect fill=\"#F8F8F8\" height=\"37.9375\" style=\"stroke: #383838; stroke-width: 1.5;\" width=\"75\" x=\"242.5\" y=\"89\"/><text fill=\"#000000\" font-family=\"sans-serif\" font-size=\"12\" font-style=\"italic\" lengthAdjust=\"spacingAndGlyphs\" textLength=\"68\" x=\"246\" y=\"105.1387\">«part  def»</text><text fill=\"#000000\" font-family=\"sans-serif\" font-size=\"12\" lengthAdjust=\"spacingAndGlyphs\" textLength=\"8\" x=\"276\" y=\"119.1074\">A</text></a></g><a href=\"psysml:f3db2951-3782-436b-a6ad-64914b64a485\" target=\"_top\" title=\"psysml:f3db2951-3782-436b-a6ad-64914b64a485\" xlink:actuate=\"onRequest\" xlink:href=\"psysml:f3db2951-3782-436b-a6ad-64914b64a485\" xlink:show=\"new\" xlink:title=\"psysml:f3db2951-3782-436b-a6ad-64914b64a485\" xlink:type=\"simple\"><polygon fill=\"#FFFFFF\" points=\"141,84,173,84,180,106.2969,187,106.2969,187,136.5938,141,136.5938,141,84\" style=\"stroke: #000000; stroke-width: 1.5;\"/><line style=\"stroke: #000000; stroke-width: 1.5;\" x1=\"141\" x2=\"180\" y1=\"106.2969\" y2=\"106.2969\"/><text fill=\"#000000\" font-family=\"sans-serif\" font-size=\"14\" font-weight=\"bold\" lengthAdjust=\"spacingAndGlyphs\" textLength=\"26\" x=\"145\" y=\"98.9951\">P2a</text></a><g id=\"E1.E4.E6\"><a href=\"psysml:06f81dae-fa7a-4401-9cfd-15cc868431a4\" target=\"_top\" title=\"psysml:06f81dae-fa7a-4401-9cfd-15cc868431a4\" xlink:actuate=\"onRequest\" xlink:href=\"psysml:06f81dae-fa7a-4401-9cfd-15cc868431a4\" xlink:show=\"new\" xlink:title=\"psysml:06f81dae-fa7a-4401-9cfd-15cc868431a4\" xlink:type=\"simple\"><rect fill=\"#FFFFFF\" height=\"40\" id=\"E6\" rx=\"10\" ry=\"10\" style=\"stroke: #383838; stroke-width: 1.5;\" width=\"50\" x=\"56\" y=\"90.5\"/><rect fill=\"#F8F8F8\" height=\"23.9688\" rx=\"10\" ry=\"10\" style=\"stroke: #F8F8F8; stroke-width: 1.5;\" width=\"50\" x=\"56\" y=\"90.5\"/><rect fill=\"#F8F8F8\" height=\"10\" style=\"stroke: #F8F8F8; stroke-width: 1.5;\" width=\"50\" x=\"56\" y=\"104.4688\"/><rect fill=\"none\" height=\"40\" id=\"E6\" rx=\"10\" ry=\"10\" style=\"stroke: #383838; stroke-width: 1.5;\" width=\"50\" x=\"56\" y=\"90.5\"/><text fill=\"#000000\" font-family=\"sans-serif\" font-size=\"12\" lengthAdjust=\"spacingAndGlyphs\" textLength=\"22\" x=\"70\" y=\"106.6387\">x: A</text></a></g><!--MD5=[39d7c49b1f844988bcc17544190bcba0]\n",
       "@startuml\r\n",
       "skinparam ranksep 10\r\n",
       "skinparam rectangle {\r\n",
       " backgroundColor<<block>> LightGreen\r\n",
       "}\r\n",
       "skinparam linetype polyline\r\n",
       "skinparam monochrome true\r\n",
       "skinparam classbackgroundcolor white\r\n",
       "skinparam shadowing false\r\n",
       "skinparam wrapWidth 300\r\n",
       "hide circle\r\n",
       "\r\n",
       "package \"QualifiedNameImportTest\" as E1  [[psysml:3ae9698c-7b02-4bda-a9f9-90d299fbd69b ]]  {\r\n",
       "package \"P1\" as E2  [[psysml:1cd01716-9110-4b9f-8aee-0302fbd4d98f ]]  {\r\n",
       "rec def \"A\" as E3  <<(T,blue) part  def>> [[psysml:9b3dc75b-1d88-4bb0-99bb-db4dbafde32b ]] {\r\n",
       "}\r\n",
       "}\r\n",
       "package \"P2\" as E4  [[psysml:41fe529f-0d81-4eb7-adf7-d3411e3f84fb ]]  {\r\n",
       "package \"P2a\" as E5  [[psysml:f3db2951-3782-436b-a6ad-64914b64a485 ]]  {\r\n",
       "}\r\n",
       "rec usage \"x: A\" as E6  [[psysml:06f81dae-fa7a-4401-9cfd-15cc868431a4 ]] {\r\n",
       "}\r\n",
       "}\r\n",
       "}\r\n",
       "@enduml\r\n",
       "\n",
       "PlantUML version 1.2020.13(Sat Jun 13 12:26:38 UTC 2020)\n",
       "(EPL source distribution)\n",
       "Java Runtime: OpenJDK Runtime Environment\n",
       "JVM: OpenJDK 64-Bit Server VM\n",
       "Default Encoding: UTF-8\n",
       "Language: en\n",
       "Country: null\n",
       "--></g></svg>"
      ]
     },
     "execution_count": 12,
     "metadata": {},
     "output_type": "execute_result"
    }
   ],
   "source": [
    "%viz --style=\"POLYLINE\" --view=\"Interconnection\" \"QualifiedNameImportTest\""
   ]
  },
  {
   "cell_type": "code",
   "execution_count": 13,
   "id": "28507bf0",
   "metadata": {
    "execution": {
     "iopub.execute_input": "2022-02-05T16:55:51.902466Z",
     "iopub.status.busy": "2022-02-05T16:55:51.901990Z",
     "iopub.status.idle": "2022-02-05T16:55:51.907888Z",
     "shell.execute_reply": "2022-02-05T16:55:51.908263Z"
    }
   },
   "outputs": [
    {
     "data": {
      "image/svg+xml": [
       "<?xml version=\"1.0\" encoding=\"UTF-8\" standalone=\"no\"?><svg xmlns=\"http://www.w3.org/2000/svg\" xmlns:xlink=\"http://www.w3.org/1999/xlink\" contentScriptType=\"application/ecmascript\" contentStyleType=\"text/css\" height=\"12px\" preserveAspectRatio=\"none\" style=\"width:12px;height:12px;\" version=\"1.1\" viewBox=\"0 0 12 12\" width=\"12px\" zoomAndPan=\"magnify\"><defs/><g><!--MD5=[97bbf32f66ccd50cbc40d92ea8f5a65e]\n",
       "@startuml\r\n",
       "skinparam ranksep 8\r\n",
       "skinparam linetype polyline\r\n",
       "skinparam monochrome true\r\n",
       "skinparam classbackgroundcolor white\r\n",
       "skinparam shadowing false\r\n",
       "skinparam wrapWidth 300\r\n",
       "hide circle\r\n",
       "\r\n",
       "@enduml\r\n",
       "\n",
       "PlantUML version 1.2020.13(Sat Jun 13 12:26:38 UTC 2020)\n",
       "(EPL source distribution)\n",
       "Java Runtime: OpenJDK Runtime Environment\n",
       "JVM: OpenJDK 64-Bit Server VM\n",
       "Default Encoding: UTF-8\n",
       "Language: en\n",
       "Country: null\n",
       "--></g></svg>"
      ]
     },
     "execution_count": 13,
     "metadata": {},
     "output_type": "execute_result"
    }
   ],
   "source": [
    "%viz --style=\"POLYLINE\" --view=\"Action\" \"QualifiedNameImportTest\""
   ]
  },
  {
   "cell_type": "code",
   "execution_count": 14,
   "id": "606a00b0",
   "metadata": {
    "execution": {
     "iopub.execute_input": "2022-02-05T16:55:51.958279Z",
     "iopub.status.busy": "2022-02-05T16:55:51.957868Z",
     "iopub.status.idle": "2022-02-05T16:55:51.962474Z",
     "shell.execute_reply": "2022-02-05T16:55:51.961934Z"
    }
   },
   "outputs": [
    {
     "data": {
      "image/svg+xml": [
       "<?xml version=\"1.0\" encoding=\"UTF-8\" standalone=\"no\"?><svg xmlns=\"http://www.w3.org/2000/svg\" xmlns:xlink=\"http://www.w3.org/1999/xlink\" contentScriptType=\"application/ecmascript\" contentStyleType=\"text/css\" height=\"12px\" preserveAspectRatio=\"none\" style=\"width:12px;height:12px;\" version=\"1.1\" viewBox=\"0 0 12 12\" width=\"12px\" zoomAndPan=\"magnify\"><defs/><g><!--MD5=[dc938048236c351797870c36b62f92ad]\n",
       "@startuml\r\n",
       "skinparam roundcorner 20\r\n",
       "skinparam BoxPadding 20\r\n",
       "skinparam SequenceBoxBackgroundColor #white\r\n",
       "skinparam style strictuml\r\n",
       "skinparam maxMessageSize 100\r\n",
       "skinparam linetype polyline\r\n",
       "skinparam monochrome true\r\n",
       "skinparam classbackgroundcolor white\r\n",
       "skinparam shadowing false\r\n",
       "skinparam wrapWidth 300\r\n",
       "hide circle\r\n",
       "\r\n",
       "@enduml\r\n",
       "\n",
       "PlantUML version 1.2020.13(Sat Jun 13 12:26:38 UTC 2020)\n",
       "(EPL source distribution)\n",
       "Java Runtime: OpenJDK Runtime Environment\n",
       "JVM: OpenJDK 64-Bit Server VM\n",
       "Default Encoding: UTF-8\n",
       "Language: en\n",
       "Country: null\n",
       "--></g></svg>"
      ]
     },
     "execution_count": 14,
     "metadata": {},
     "output_type": "execute_result"
    }
   ],
   "source": [
    "%viz --style=\"POLYLINE\" --view=\"Sequence\" \"QualifiedNameImportTest\""
   ]
  },
  {
   "cell_type": "code",
   "execution_count": 15,
   "id": "789a3928",
   "metadata": {
    "execution": {
     "iopub.execute_input": "2022-02-05T16:55:52.011818Z",
     "iopub.status.busy": "2022-02-05T16:55:52.011372Z",
     "iopub.status.idle": "2022-02-05T16:55:52.045088Z",
     "shell.execute_reply": "2022-02-05T16:55:52.044719Z"
    }
   },
   "outputs": [
    {
     "data": {
      "image/svg+xml": [
       "<?xml version=\"1.0\" encoding=\"UTF-8\" standalone=\"no\"?><svg xmlns=\"http://www.w3.org/2000/svg\" xmlns:xlink=\"http://www.w3.org/1999/xlink\" contentScriptType=\"application/ecmascript\" contentStyleType=\"text/css\" height=\"310px\" preserveAspectRatio=\"none\" style=\"width:241px;height:310px;\" version=\"1.1\" viewBox=\"0 0 241 310\" width=\"241px\" zoomAndPan=\"magnify\"><defs/><g><!--MD5=[fbc87193dbaf4d95561dea2c320d4a47]\n",
       "cluster E1--><a href=\"psysml:3ae9698c-7b02-4bda-a9f9-90d299fbd69b\" target=\"_top\" title=\"psysml:3ae9698c-7b02-4bda-a9f9-90d299fbd69b\" xlink:actuate=\"onRequest\" xlink:href=\"psysml:3ae9698c-7b02-4bda-a9f9-90d299fbd69b\" xlink:show=\"new\" xlink:title=\"psysml:3ae9698c-7b02-4bda-a9f9-90d299fbd69b\" xlink:type=\"simple\"><polygon fill=\"#FFFFFF\" points=\"16,6,196,6,203,28.2969,219,28.2969,219,298,16,298,16,6\" style=\"stroke: #000000; stroke-width: 1.5;\"/><line style=\"stroke: #000000; stroke-width: 1.5;\" x1=\"16\" x2=\"203\" y1=\"28.2969\" y2=\"28.2969\"/><text fill=\"#000000\" font-family=\"sans-serif\" font-size=\"14\" font-weight=\"bold\" lengthAdjust=\"spacingAndGlyphs\" textLength=\"174\" x=\"20\" y=\"20.9951\">QualifiedNameImportTest</text></a><!--MD5=[e4f7fae6ed58524ba242bb0b0d3be6b7]\n",
       "cluster E2--><a href=\"psysml:1cd01716-9110-4b9f-8aee-0302fbd4d98f\" target=\"_top\" title=\"psysml:1cd01716-9110-4b9f-8aee-0302fbd4d98f\" xlink:actuate=\"onRequest\" xlink:href=\"psysml:1cd01716-9110-4b9f-8aee-0302fbd4d98f\" xlink:show=\"new\" xlink:title=\"psysml:1cd01716-9110-4b9f-8aee-0302fbd4d98f\" xlink:type=\"simple\"><polygon fill=\"#FFFFFF\" points=\"93,177,117,177,124,199.2969,195,199.2969,195,274,93,274,93,177\" style=\"stroke: #000000; stroke-width: 1.5;\"/><line style=\"stroke: #000000; stroke-width: 1.5;\" x1=\"93\" x2=\"124\" y1=\"199.2969\" y2=\"199.2969\"/><text fill=\"#000000\" font-family=\"sans-serif\" font-size=\"14\" font-weight=\"bold\" lengthAdjust=\"spacingAndGlyphs\" textLength=\"18\" x=\"97\" y=\"191.9951\">P1</text></a><!--MD5=[f6df4d0ebaf0b5dfb2ced0ae5af7c670]\n",
       "cluster E4--><a href=\"psysml:41fe529f-0d81-4eb7-adf7-d3411e3f84fb\" target=\"_top\" title=\"psysml:41fe529f-0d81-4eb7-adf7-d3411e3f84fb\" xlink:actuate=\"onRequest\" xlink:href=\"psysml:41fe529f-0d81-4eb7-adf7-d3411e3f84fb\" xlink:show=\"new\" xlink:title=\"psysml:41fe529f-0d81-4eb7-adf7-d3411e3f84fb\" xlink:type=\"simple\"><polygon fill=\"#FFFFFF\" points=\"40,49,64,49,71,71.2969,195,71.2969,195,153,40,153,40,49\" style=\"stroke: #000000; stroke-width: 1.5;\"/><line style=\"stroke: #000000; stroke-width: 1.5;\" x1=\"40\" x2=\"71\" y1=\"71.2969\" y2=\"71.2969\"/><text fill=\"#000000\" font-family=\"sans-serif\" font-size=\"14\" font-weight=\"bold\" lengthAdjust=\"spacingAndGlyphs\" textLength=\"18\" x=\"44\" y=\"63.9951\">P2</text></a><!--MD5=[09b614a08d8cba4a07c9adeb5e0fee81]\n",
       "class E3--><a href=\"psysml:9b3dc75b-1d88-4bb0-99bb-db4dbafde32b\" target=\"_top\" title=\"psysml:9b3dc75b-1d88-4bb0-99bb-db4dbafde32b\" xlink:actuate=\"onRequest\" xlink:href=\"psysml:9b3dc75b-1d88-4bb0-99bb-db4dbafde32b\" xlink:show=\"new\" xlink:title=\"psysml:9b3dc75b-1d88-4bb0-99bb-db4dbafde32b\" xlink:type=\"simple\"><rect fill=\"#FFFFFF\" height=\"45.9375\" id=\"E3\" style=\"stroke: #383838; stroke-width: 1.5;\" width=\"70\" x=\"109\" y=\"212\"/><text fill=\"#000000\" font-family=\"sans-serif\" font-size=\"12\" font-style=\"italic\" lengthAdjust=\"spacingAndGlyphs\" textLength=\"68\" x=\"110\" y=\"228.1387\">«part  def»</text><text fill=\"#000000\" font-family=\"sans-serif\" font-size=\"12\" lengthAdjust=\"spacingAndGlyphs\" textLength=\"8\" x=\"140\" y=\"242.1074\">A</text><line style=\"stroke: #383838; stroke-width: 1.5;\" x1=\"110\" x2=\"178\" y1=\"249.9375\" y2=\"249.9375\"/></a><!--MD5=[60a26617385b1d2d0262a64233df1f8d]\n",
       "class E6--><a href=\"psysml:06f81dae-fa7a-4401-9cfd-15cc868431a4\" target=\"_top\" title=\"psysml:06f81dae-fa7a-4401-9cfd-15cc868431a4\" xlink:actuate=\"onRequest\" xlink:href=\"psysml:06f81dae-fa7a-4401-9cfd-15cc868431a4\" xlink:show=\"new\" xlink:title=\"psysml:06f81dae-fa7a-4401-9cfd-15cc868431a4\" xlink:type=\"simple\"><rect fill=\"#FFFFFF\" height=\"45.9375\" id=\"E6\" rx=\"10\" ry=\"10\" style=\"stroke: #383838; stroke-width: 1.5;\" width=\"42\" x=\"137\" y=\"87.5\"/><text fill=\"#000000\" font-family=\"sans-serif\" font-size=\"12\" font-style=\"italic\" lengthAdjust=\"spacingAndGlyphs\" textLength=\"40\" x=\"138\" y=\"103.6387\">«part»</text><text fill=\"#000000\" font-family=\"sans-serif\" font-size=\"12\" lengthAdjust=\"spacingAndGlyphs\" textLength=\"22\" x=\"145\" y=\"117.6074\">x: A</text><line style=\"stroke: #383838; stroke-width: 1.5;\" x1=\"138\" x2=\"178\" y1=\"125.4375\" y2=\"125.4375\"/></a><a href=\"psysml:f3db2951-3782-436b-a6ad-64914b64a485\" target=\"_top\" title=\"psysml:f3db2951-3782-436b-a6ad-64914b64a485\" xlink:actuate=\"onRequest\" xlink:href=\"psysml:f3db2951-3782-436b-a6ad-64914b64a485\" xlink:show=\"new\" xlink:title=\"psysml:f3db2951-3782-436b-a6ad-64914b64a485\" xlink:type=\"simple\"><polygon fill=\"#FFFFFF\" points=\"56,84,88,84,95,106.2969,102,106.2969,102,136.5938,56,136.5938,56,84\" style=\"stroke: #000000; stroke-width: 1.5;\"/><line style=\"stroke: #000000; stroke-width: 1.5;\" x1=\"56\" x2=\"95\" y1=\"106.2969\" y2=\"106.2969\"/><text fill=\"#000000\" font-family=\"sans-serif\" font-size=\"14\" font-weight=\"bold\" lengthAdjust=\"spacingAndGlyphs\" textLength=\"26\" x=\"60\" y=\"98.9951\">P2a</text></a><!--MD5=[a717450b82c80b9240a525fa862496af]\n",
       "link E6 to E3--><a href=\"psysml:7ae3fb41-5537-4752-a539-fb13bd5d368f\" target=\"_top\" title=\"psysml:7ae3fb41-5537-4752-a539-fb13bd5d368f\" xlink:actuate=\"onRequest\" xlink:href=\"psysml:7ae3fb41-5537-4752-a539-fb13bd5d368f\" xlink:show=\"new\" xlink:title=\"psysml:7ae3fb41-5537-4752-a539-fb13bd5d368f\" xlink:type=\"simple\"><path d=\"M155.46,133.68 C153.61,149.9 151.04,172.39 148.8,191.96 \" fill=\"none\" id=\"E6-&gt;E3\" style=\"stroke: #383838; stroke-width: 1.0;\"/><polygon fill=\"#FFFFFF\" points=\"146.52,211.98,141.7231,192.308,155.6325,193.8979,146.52,211.98\" style=\"stroke: #383838; stroke-width: 1.0;\"/><ellipse cx=\"144.3574\" cy=\"186.872\" fill=\"#383838\" rx=\"2\" ry=\"2\" style=\"stroke: #383838; stroke-width: 1.0;\"/><ellipse cx=\"154.2928\" cy=\"188.0076\" fill=\"#383838\" rx=\"2\" ry=\"2\" style=\"stroke: #383838; stroke-width: 1.0;\"/></a><!--MD5=[a148515e3c7c55c530dd8a83f24af658]\n",
       "@startuml\r\n",
       "skinparam linetype polyline\r\n",
       "skinparam monochrome true\r\n",
       "skinparam classbackgroundcolor white\r\n",
       "skinparam shadowing false\r\n",
       "skinparam wrapWidth 300\r\n",
       "hide circle\r\n",
       "\r\n",
       "package \"QualifiedNameImportTest\" as E1  [[psysml:3ae9698c-7b02-4bda-a9f9-90d299fbd69b ]]  {\r\n",
       "package \"P1\" as E2  [[psysml:1cd01716-9110-4b9f-8aee-0302fbd4d98f ]]  {\r\n",
       "comp def \"A\" as E3  <<(T,blue) part  def>> [[psysml:9b3dc75b-1d88-4bb0-99bb-db4dbafde32b ]] {\r\n",
       "}\r\n",
       "}\r\n",
       "package \"P2\" as E4  [[psysml:41fe529f-0d81-4eb7-adf7-d3411e3f84fb ]]  {\r\n",
       "package \"P2a\" as E5  [[psysml:f3db2951-3782-436b-a6ad-64914b64a485 ]]  {\r\n",
       "}\r\n",
       "comp usage \"x: A \" as E6  <<(T,blue) part>> [[psysml:06f81dae-fa7a-4401-9cfd-15cc868431a4 ]] {\r\n",
       "}\r\n",
       "}\r\n",
       "}\r\n",
       "E6 - -:|> E3 [[psysml:7ae3fb41-5537-4752-a539-fb13bd5d368f ]] \r\n",
       "@enduml\r\n",
       "\n",
       "PlantUML version 1.2020.13(Sat Jun 13 12:26:38 UTC 2020)\n",
       "(EPL source distribution)\n",
       "Java Runtime: OpenJDK Runtime Environment\n",
       "JVM: OpenJDK 64-Bit Server VM\n",
       "Default Encoding: UTF-8\n",
       "Language: en\n",
       "Country: null\n",
       "--></g></svg>"
      ]
     },
     "execution_count": 15,
     "metadata": {},
     "output_type": "execute_result"
    }
   ],
   "source": [
    "%viz --style=\"POLYLINE\" --view=\"MIXED\" \"QualifiedNameImportTest\""
   ]
  },
  {
   "cell_type": "code",
   "execution_count": 16,
   "id": "b4c9f60e",
   "metadata": {
    "execution": {
     "iopub.execute_input": "2022-02-05T16:55:52.095198Z",
     "iopub.status.busy": "2022-02-05T16:55:52.094787Z",
     "iopub.status.idle": "2022-02-05T16:55:52.128929Z",
     "shell.execute_reply": "2022-02-05T16:55:52.128564Z"
    }
   },
   "outputs": [
    {
     "data": {
      "image/svg+xml": [
       "<?xml version=\"1.0\" encoding=\"UTF-8\" standalone=\"no\"?><svg xmlns=\"http://www.w3.org/2000/svg\" xmlns:xlink=\"http://www.w3.org/1999/xlink\" contentScriptType=\"application/ecmascript\" contentStyleType=\"text/css\" height=\"271px\" preserveAspectRatio=\"none\" style=\"width:294px;height:271px;\" version=\"1.1\" viewBox=\"0 0 294 271\" width=\"294px\" zoomAndPan=\"magnify\"><defs/><g><!--MD5=[fbc87193dbaf4d95561dea2c320d4a47]\n",
       "cluster E1--><a href=\"psysml:3ae9698c-7b02-4bda-a9f9-90d299fbd69b\" target=\"_top\" title=\"psysml:3ae9698c-7b02-4bda-a9f9-90d299fbd69b\" xlink:actuate=\"onRequest\" xlink:href=\"psysml:3ae9698c-7b02-4bda-a9f9-90d299fbd69b\" xlink:show=\"new\" xlink:title=\"psysml:3ae9698c-7b02-4bda-a9f9-90d299fbd69b\" xlink:type=\"simple\"><polygon fill=\"#FFFFFF\" points=\"16,6,196,6,203,28.2969,272,28.2969,272,259,16,259,16,6\" style=\"stroke: #000000; stroke-width: 1.5;\"/><line style=\"stroke: #000000; stroke-width: 1.5;\" x1=\"16\" x2=\"203\" y1=\"28.2969\" y2=\"28.2969\"/><text fill=\"#000000\" font-family=\"sans-serif\" font-size=\"14\" font-weight=\"bold\" lengthAdjust=\"spacingAndGlyphs\" textLength=\"174\" x=\"20\" y=\"20.9951\">QualifiedNameImportTest</text></a><!--MD5=[e4f7fae6ed58524ba242bb0b0d3be6b7]\n",
       "cluster E2--><a href=\"psysml:1cd01716-9110-4b9f-8aee-0302fbd4d98f\" target=\"_top\" title=\"psysml:1cd01716-9110-4b9f-8aee-0302fbd4d98f\" xlink:actuate=\"onRequest\" xlink:href=\"psysml:1cd01716-9110-4b9f-8aee-0302fbd4d98f\" xlink:show=\"new\" xlink:title=\"psysml:1cd01716-9110-4b9f-8aee-0302fbd4d98f\" xlink:type=\"simple\"><polygon fill=\"#FFFFFF\" points=\"146,49,170,49,177,71.2969,248,71.2969,248,146,146,146,146,49\" style=\"stroke: #000000; stroke-width: 1.5;\"/><line style=\"stroke: #000000; stroke-width: 1.5;\" x1=\"146\" x2=\"177\" y1=\"71.2969\" y2=\"71.2969\"/><text fill=\"#000000\" font-family=\"sans-serif\" font-size=\"14\" font-weight=\"bold\" lengthAdjust=\"spacingAndGlyphs\" textLength=\"18\" x=\"150\" y=\"63.9951\">P1</text></a><!--MD5=[f6df4d0ebaf0b5dfb2ced0ae5af7c670]\n",
       "cluster E4--><a href=\"psysml:41fe529f-0d81-4eb7-adf7-d3411e3f84fb\" target=\"_top\" title=\"psysml:41fe529f-0d81-4eb7-adf7-d3411e3f84fb\" xlink:actuate=\"onRequest\" xlink:href=\"psysml:41fe529f-0d81-4eb7-adf7-d3411e3f84fb\" xlink:show=\"new\" xlink:title=\"psysml:41fe529f-0d81-4eb7-adf7-d3411e3f84fb\" xlink:type=\"simple\"><polygon fill=\"#FFFFFF\" points=\"40,49,64,49,71,71.2969,118,71.2969,118,235,40,235,40,49\" style=\"stroke: #000000; stroke-width: 1.5;\"/><line style=\"stroke: #000000; stroke-width: 1.5;\" x1=\"40\" x2=\"71\" y1=\"71.2969\" y2=\"71.2969\"/><text fill=\"#000000\" font-family=\"sans-serif\" font-size=\"14\" font-weight=\"bold\" lengthAdjust=\"spacingAndGlyphs\" textLength=\"18\" x=\"44\" y=\"63.9951\">P2</text></a><!--MD5=[09b614a08d8cba4a07c9adeb5e0fee81]\n",
       "class E3--><a href=\"psysml:9b3dc75b-1d88-4bb0-99bb-db4dbafde32b\" target=\"_top\" title=\"psysml:9b3dc75b-1d88-4bb0-99bb-db4dbafde32b\" xlink:actuate=\"onRequest\" xlink:href=\"psysml:9b3dc75b-1d88-4bb0-99bb-db4dbafde32b\" xlink:show=\"new\" xlink:title=\"psysml:9b3dc75b-1d88-4bb0-99bb-db4dbafde32b\" xlink:type=\"simple\"><rect fill=\"#FFFFFF\" height=\"45.9375\" id=\"E3\" style=\"stroke: #383838; stroke-width: 1.5;\" width=\"70\" x=\"162\" y=\"84\"/><text fill=\"#000000\" font-family=\"sans-serif\" font-size=\"12\" font-style=\"italic\" lengthAdjust=\"spacingAndGlyphs\" textLength=\"68\" x=\"163\" y=\"100.1387\">«part  def»</text><text fill=\"#000000\" font-family=\"sans-serif\" font-size=\"12\" lengthAdjust=\"spacingAndGlyphs\" textLength=\"8\" x=\"193\" y=\"114.1074\">A</text><line style=\"stroke: #383838; stroke-width: 1.5;\" x1=\"163\" x2=\"231\" y1=\"121.9375\" y2=\"121.9375\"/></a><!--MD5=[60a26617385b1d2d0262a64233df1f8d]\n",
       "class E6--><a href=\"psysml:06f81dae-fa7a-4401-9cfd-15cc868431a4\" target=\"_top\" title=\"psysml:06f81dae-fa7a-4401-9cfd-15cc868431a4\" xlink:actuate=\"onRequest\" xlink:href=\"psysml:06f81dae-fa7a-4401-9cfd-15cc868431a4\" xlink:show=\"new\" xlink:title=\"psysml:06f81dae-fa7a-4401-9cfd-15cc868431a4\" xlink:type=\"simple\"><rect fill=\"#FFFFFF\" height=\"45.9375\" id=\"E6\" rx=\"10\" ry=\"10\" style=\"stroke: #383838; stroke-width: 1.5;\" width=\"42\" x=\"58\" y=\"84\"/><text fill=\"#000000\" font-family=\"sans-serif\" font-size=\"12\" font-style=\"italic\" lengthAdjust=\"spacingAndGlyphs\" textLength=\"40\" x=\"59\" y=\"100.1387\">«part»</text><text fill=\"#000000\" font-family=\"sans-serif\" font-size=\"12\" lengthAdjust=\"spacingAndGlyphs\" textLength=\"22\" x=\"66\" y=\"114.1074\">x: A</text><line style=\"stroke: #383838; stroke-width: 1.5;\" x1=\"59\" x2=\"99\" y1=\"121.9375\" y2=\"121.9375\"/></a><a href=\"psysml:f3db2951-3782-436b-a6ad-64914b64a485\" target=\"_top\" title=\"psysml:f3db2951-3782-436b-a6ad-64914b64a485\" xlink:actuate=\"onRequest\" xlink:href=\"psysml:f3db2951-3782-436b-a6ad-64914b64a485\" xlink:show=\"new\" xlink:title=\"psysml:f3db2951-3782-436b-a6ad-64914b64a485\" xlink:type=\"simple\"><polygon fill=\"#FFFFFF\" points=\"56,165.5,88,165.5,95,187.7969,102,187.7969,102,218.0938,56,218.0938,56,165.5\" style=\"stroke: #000000; stroke-width: 1.5;\"/><line style=\"stroke: #000000; stroke-width: 1.5;\" x1=\"56\" x2=\"95\" y1=\"187.7969\" y2=\"187.7969\"/><text fill=\"#000000\" font-family=\"sans-serif\" font-size=\"14\" font-weight=\"bold\" lengthAdjust=\"spacingAndGlyphs\" textLength=\"26\" x=\"60\" y=\"180.4951\">P2a</text></a><!--MD5=[a717450b82c80b9240a525fa862496af]\n",
       "link E6 to E3--><a href=\"psysml:7ae3fb41-5537-4752-a539-fb13bd5d368f\" target=\"_top\" title=\"psysml:7ae3fb41-5537-4752-a539-fb13bd5d368f\" xlink:actuate=\"onRequest\" xlink:href=\"psysml:7ae3fb41-5537-4752-a539-fb13bd5d368f\" xlink:show=\"new\" xlink:title=\"psysml:7ae3fb41-5537-4752-a539-fb13bd5d368f\" xlink:type=\"simple\"><path d=\"M100.21,107 C111.83,107 127.05,107 141.91,107 \" fill=\"none\" id=\"E6-&gt;E3\" style=\"stroke: #383838; stroke-width: 1.0;\"/><polygon fill=\"#FFFFFF\" points=\"161.95,107,142.95,114,142.95,100,161.95,107\" style=\"stroke: #383838; stroke-width: 1.0;\"/><ellipse cx=\"137.25\" cy=\"112\" fill=\"#383838\" rx=\"2\" ry=\"2\" style=\"stroke: #383838; stroke-width: 1.0;\"/><ellipse cx=\"137.25\" cy=\"102\" fill=\"#383838\" rx=\"2\" ry=\"2\" style=\"stroke: #383838; stroke-width: 1.0;\"/></a><!--MD5=[666f310ba620ea8b5da74be06ac41642]\n",
       "@startuml\r\n",
       "left to right direction\r\n",
       "skinparam monochrome true\r\n",
       "skinparam classbackgroundcolor white\r\n",
       "skinparam shadowing false\r\n",
       "skinparam wrapWidth 300\r\n",
       "hide circle\r\n",
       "\r\n",
       "package \"QualifiedNameImportTest\" as E1  [[psysml:3ae9698c-7b02-4bda-a9f9-90d299fbd69b ]]  {\r\n",
       "package \"P1\" as E2  [[psysml:1cd01716-9110-4b9f-8aee-0302fbd4d98f ]]  {\r\n",
       "comp def \"A\" as E3  <<(T,blue) part  def>> [[psysml:9b3dc75b-1d88-4bb0-99bb-db4dbafde32b ]] {\r\n",
       "}\r\n",
       "}\r\n",
       "package \"P2\" as E4  [[psysml:41fe529f-0d81-4eb7-adf7-d3411e3f84fb ]]  {\r\n",
       "package \"P2a\" as E5  [[psysml:f3db2951-3782-436b-a6ad-64914b64a485 ]]  {\r\n",
       "}\r\n",
       "comp usage \"x: A \" as E6  <<(T,blue) part>> [[psysml:06f81dae-fa7a-4401-9cfd-15cc868431a4 ]] {\r\n",
       "}\r\n",
       "}\r\n",
       "}\r\n",
       "E6 - -:|> E3 [[psysml:7ae3fb41-5537-4752-a539-fb13bd5d368f ]] \r\n",
       "@enduml\r\n",
       "\n",
       "PlantUML version 1.2020.13(Sat Jun 13 12:26:38 UTC 2020)\n",
       "(EPL source distribution)\n",
       "Java Runtime: OpenJDK Runtime Environment\n",
       "JVM: OpenJDK 64-Bit Server VM\n",
       "Default Encoding: UTF-8\n",
       "Language: en\n",
       "Country: null\n",
       "--></g></svg>"
      ]
     },
     "execution_count": 16,
     "metadata": {},
     "output_type": "execute_result"
    }
   ],
   "source": [
    "%viz --style=\"LR\" --view=\"Default\" \"QualifiedNameImportTest\""
   ]
  },
  {
   "cell_type": "code",
   "execution_count": 17,
   "id": "e00c5543",
   "metadata": {
    "execution": {
     "iopub.execute_input": "2022-02-05T16:55:52.178607Z",
     "iopub.status.busy": "2022-02-05T16:55:52.178202Z",
     "iopub.status.idle": "2022-02-05T16:55:52.212072Z",
     "shell.execute_reply": "2022-02-05T16:55:52.211705Z"
    }
   },
   "outputs": [
    {
     "data": {
      "image/svg+xml": [
       "<?xml version=\"1.0\" encoding=\"UTF-8\" standalone=\"no\"?><svg xmlns=\"http://www.w3.org/2000/svg\" xmlns:xlink=\"http://www.w3.org/1999/xlink\" contentScriptType=\"application/ecmascript\" contentStyleType=\"text/css\" height=\"271px\" preserveAspectRatio=\"none\" style=\"width:294px;height:271px;\" version=\"1.1\" viewBox=\"0 0 294 271\" width=\"294px\" zoomAndPan=\"magnify\"><defs/><g><!--MD5=[fbc87193dbaf4d95561dea2c320d4a47]\n",
       "cluster E1--><a href=\"psysml:3ae9698c-7b02-4bda-a9f9-90d299fbd69b\" target=\"_top\" title=\"psysml:3ae9698c-7b02-4bda-a9f9-90d299fbd69b\" xlink:actuate=\"onRequest\" xlink:href=\"psysml:3ae9698c-7b02-4bda-a9f9-90d299fbd69b\" xlink:show=\"new\" xlink:title=\"psysml:3ae9698c-7b02-4bda-a9f9-90d299fbd69b\" xlink:type=\"simple\"><polygon fill=\"#FFFFFF\" points=\"16,6,196,6,203,28.2969,272,28.2969,272,259,16,259,16,6\" style=\"stroke: #000000; stroke-width: 1.5;\"/><line style=\"stroke: #000000; stroke-width: 1.5;\" x1=\"16\" x2=\"203\" y1=\"28.2969\" y2=\"28.2969\"/><text fill=\"#000000\" font-family=\"sans-serif\" font-size=\"14\" font-weight=\"bold\" lengthAdjust=\"spacingAndGlyphs\" textLength=\"174\" x=\"20\" y=\"20.9951\">QualifiedNameImportTest</text></a><!--MD5=[e4f7fae6ed58524ba242bb0b0d3be6b7]\n",
       "cluster E2--><a href=\"psysml:1cd01716-9110-4b9f-8aee-0302fbd4d98f\" target=\"_top\" title=\"psysml:1cd01716-9110-4b9f-8aee-0302fbd4d98f\" xlink:actuate=\"onRequest\" xlink:href=\"psysml:1cd01716-9110-4b9f-8aee-0302fbd4d98f\" xlink:show=\"new\" xlink:title=\"psysml:1cd01716-9110-4b9f-8aee-0302fbd4d98f\" xlink:type=\"simple\"><polygon fill=\"#FFFFFF\" points=\"146,49,170,49,177,71.2969,248,71.2969,248,146,146,146,146,49\" style=\"stroke: #000000; stroke-width: 1.5;\"/><line style=\"stroke: #000000; stroke-width: 1.5;\" x1=\"146\" x2=\"177\" y1=\"71.2969\" y2=\"71.2969\"/><text fill=\"#000000\" font-family=\"sans-serif\" font-size=\"14\" font-weight=\"bold\" lengthAdjust=\"spacingAndGlyphs\" textLength=\"18\" x=\"150\" y=\"63.9951\">P1</text></a><!--MD5=[f6df4d0ebaf0b5dfb2ced0ae5af7c670]\n",
       "cluster E4--><a href=\"psysml:41fe529f-0d81-4eb7-adf7-d3411e3f84fb\" target=\"_top\" title=\"psysml:41fe529f-0d81-4eb7-adf7-d3411e3f84fb\" xlink:actuate=\"onRequest\" xlink:href=\"psysml:41fe529f-0d81-4eb7-adf7-d3411e3f84fb\" xlink:show=\"new\" xlink:title=\"psysml:41fe529f-0d81-4eb7-adf7-d3411e3f84fb\" xlink:type=\"simple\"><polygon fill=\"#FFFFFF\" points=\"40,49,64,49,71,71.2969,118,71.2969,118,235,40,235,40,49\" style=\"stroke: #000000; stroke-width: 1.5;\"/><line style=\"stroke: #000000; stroke-width: 1.5;\" x1=\"40\" x2=\"71\" y1=\"71.2969\" y2=\"71.2969\"/><text fill=\"#000000\" font-family=\"sans-serif\" font-size=\"14\" font-weight=\"bold\" lengthAdjust=\"spacingAndGlyphs\" textLength=\"18\" x=\"44\" y=\"63.9951\">P2</text></a><!--MD5=[09b614a08d8cba4a07c9adeb5e0fee81]\n",
       "class E3--><a href=\"psysml:9b3dc75b-1d88-4bb0-99bb-db4dbafde32b\" target=\"_top\" title=\"psysml:9b3dc75b-1d88-4bb0-99bb-db4dbafde32b\" xlink:actuate=\"onRequest\" xlink:href=\"psysml:9b3dc75b-1d88-4bb0-99bb-db4dbafde32b\" xlink:show=\"new\" xlink:title=\"psysml:9b3dc75b-1d88-4bb0-99bb-db4dbafde32b\" xlink:type=\"simple\"><rect fill=\"#FFFFFF\" height=\"45.9375\" id=\"E3\" style=\"stroke: #383838; stroke-width: 1.5;\" width=\"70\" x=\"162\" y=\"84\"/><text fill=\"#000000\" font-family=\"sans-serif\" font-size=\"12\" font-style=\"italic\" lengthAdjust=\"spacingAndGlyphs\" textLength=\"68\" x=\"163\" y=\"100.1387\">«part  def»</text><text fill=\"#000000\" font-family=\"sans-serif\" font-size=\"12\" lengthAdjust=\"spacingAndGlyphs\" textLength=\"8\" x=\"193\" y=\"114.1074\">A</text><line style=\"stroke: #383838; stroke-width: 1.5;\" x1=\"163\" x2=\"231\" y1=\"121.9375\" y2=\"121.9375\"/></a><!--MD5=[60a26617385b1d2d0262a64233df1f8d]\n",
       "class E6--><a href=\"psysml:06f81dae-fa7a-4401-9cfd-15cc868431a4\" target=\"_top\" title=\"psysml:06f81dae-fa7a-4401-9cfd-15cc868431a4\" xlink:actuate=\"onRequest\" xlink:href=\"psysml:06f81dae-fa7a-4401-9cfd-15cc868431a4\" xlink:show=\"new\" xlink:title=\"psysml:06f81dae-fa7a-4401-9cfd-15cc868431a4\" xlink:type=\"simple\"><rect fill=\"#FFFFFF\" height=\"45.9375\" id=\"E6\" rx=\"10\" ry=\"10\" style=\"stroke: #383838; stroke-width: 1.5;\" width=\"42\" x=\"58\" y=\"84\"/><text fill=\"#000000\" font-family=\"sans-serif\" font-size=\"12\" font-style=\"italic\" lengthAdjust=\"spacingAndGlyphs\" textLength=\"40\" x=\"59\" y=\"100.1387\">«part»</text><text fill=\"#000000\" font-family=\"sans-serif\" font-size=\"12\" lengthAdjust=\"spacingAndGlyphs\" textLength=\"22\" x=\"66\" y=\"114.1074\">x: A</text><line style=\"stroke: #383838; stroke-width: 1.5;\" x1=\"59\" x2=\"99\" y1=\"121.9375\" y2=\"121.9375\"/></a><a href=\"psysml:f3db2951-3782-436b-a6ad-64914b64a485\" target=\"_top\" title=\"psysml:f3db2951-3782-436b-a6ad-64914b64a485\" xlink:actuate=\"onRequest\" xlink:href=\"psysml:f3db2951-3782-436b-a6ad-64914b64a485\" xlink:show=\"new\" xlink:title=\"psysml:f3db2951-3782-436b-a6ad-64914b64a485\" xlink:type=\"simple\"><polygon fill=\"#FFFFFF\" points=\"56,165.5,88,165.5,95,187.7969,102,187.7969,102,218.0938,56,218.0938,56,165.5\" style=\"stroke: #000000; stroke-width: 1.5;\"/><line style=\"stroke: #000000; stroke-width: 1.5;\" x1=\"56\" x2=\"95\" y1=\"187.7969\" y2=\"187.7969\"/><text fill=\"#000000\" font-family=\"sans-serif\" font-size=\"14\" font-weight=\"bold\" lengthAdjust=\"spacingAndGlyphs\" textLength=\"26\" x=\"60\" y=\"180.4951\">P2a</text></a><!--MD5=[a717450b82c80b9240a525fa862496af]\n",
       "link E6 to E3--><a href=\"psysml:7ae3fb41-5537-4752-a539-fb13bd5d368f\" target=\"_top\" title=\"psysml:7ae3fb41-5537-4752-a539-fb13bd5d368f\" xlink:actuate=\"onRequest\" xlink:href=\"psysml:7ae3fb41-5537-4752-a539-fb13bd5d368f\" xlink:show=\"new\" xlink:title=\"psysml:7ae3fb41-5537-4752-a539-fb13bd5d368f\" xlink:type=\"simple\"><path d=\"M100.21,107 C111.83,107 127.05,107 141.91,107 \" fill=\"none\" id=\"E6-&gt;E3\" style=\"stroke: #383838; stroke-width: 1.0;\"/><polygon fill=\"#FFFFFF\" points=\"161.95,107,142.95,114,142.95,100,161.95,107\" style=\"stroke: #383838; stroke-width: 1.0;\"/><ellipse cx=\"137.25\" cy=\"112\" fill=\"#383838\" rx=\"2\" ry=\"2\" style=\"stroke: #383838; stroke-width: 1.0;\"/><ellipse cx=\"137.25\" cy=\"102\" fill=\"#383838\" rx=\"2\" ry=\"2\" style=\"stroke: #383838; stroke-width: 1.0;\"/></a><!--MD5=[666f310ba620ea8b5da74be06ac41642]\n",
       "@startuml\r\n",
       "left to right direction\r\n",
       "skinparam monochrome true\r\n",
       "skinparam classbackgroundcolor white\r\n",
       "skinparam shadowing false\r\n",
       "skinparam wrapWidth 300\r\n",
       "hide circle\r\n",
       "\r\n",
       "package \"QualifiedNameImportTest\" as E1  [[psysml:3ae9698c-7b02-4bda-a9f9-90d299fbd69b ]]  {\r\n",
       "package \"P1\" as E2  [[psysml:1cd01716-9110-4b9f-8aee-0302fbd4d98f ]]  {\r\n",
       "comp def \"A\" as E3  <<(T,blue) part  def>> [[psysml:9b3dc75b-1d88-4bb0-99bb-db4dbafde32b ]] {\r\n",
       "}\r\n",
       "}\r\n",
       "package \"P2\" as E4  [[psysml:41fe529f-0d81-4eb7-adf7-d3411e3f84fb ]]  {\r\n",
       "package \"P2a\" as E5  [[psysml:f3db2951-3782-436b-a6ad-64914b64a485 ]]  {\r\n",
       "}\r\n",
       "comp usage \"x: A \" as E6  <<(T,blue) part>> [[psysml:06f81dae-fa7a-4401-9cfd-15cc868431a4 ]] {\r\n",
       "}\r\n",
       "}\r\n",
       "}\r\n",
       "E6 - -:|> E3 [[psysml:7ae3fb41-5537-4752-a539-fb13bd5d368f ]] \r\n",
       "@enduml\r\n",
       "\n",
       "PlantUML version 1.2020.13(Sat Jun 13 12:26:38 UTC 2020)\n",
       "(EPL source distribution)\n",
       "Java Runtime: OpenJDK Runtime Environment\n",
       "JVM: OpenJDK 64-Bit Server VM\n",
       "Default Encoding: UTF-8\n",
       "Language: en\n",
       "Country: null\n",
       "--></g></svg>"
      ]
     },
     "execution_count": 17,
     "metadata": {},
     "output_type": "execute_result"
    }
   ],
   "source": [
    "%viz --style=\"LR\" --view=\"Tree\" \"QualifiedNameImportTest\""
   ]
  },
  {
   "cell_type": "code",
   "execution_count": 18,
   "id": "4107d6a7",
   "metadata": {
    "execution": {
     "iopub.execute_input": "2022-02-05T16:55:52.262085Z",
     "iopub.status.busy": "2022-02-05T16:55:52.261669Z",
     "iopub.status.idle": "2022-02-05T16:55:52.267676Z",
     "shell.execute_reply": "2022-02-05T16:55:52.267998Z"
    }
   },
   "outputs": [
    {
     "data": {
      "image/svg+xml": [
       "<?xml version=\"1.0\" encoding=\"UTF-8\" standalone=\"no\"?><svg xmlns=\"http://www.w3.org/2000/svg\" xmlns:xlink=\"http://www.w3.org/1999/xlink\" contentScriptType=\"application/ecmascript\" contentStyleType=\"text/css\" height=\"12px\" preserveAspectRatio=\"none\" style=\"width:12px;height:12px;\" version=\"1.1\" viewBox=\"0 0 12 12\" width=\"12px\" zoomAndPan=\"magnify\"><defs/><g><!--MD5=[19d285c9d72a204eba4e2cd117d745e8]\n",
       "@startuml\r\n",
       "left to right direction\r\n",
       "skinparam monochrome true\r\n",
       "skinparam classbackgroundcolor white\r\n",
       "skinparam shadowing false\r\n",
       "skinparam wrapWidth 300\r\n",
       "hide circle\r\n",
       "\r\n",
       "@enduml\r\n",
       "\n",
       "PlantUML version 1.2020.13(Sat Jun 13 12:26:38 UTC 2020)\n",
       "(EPL source distribution)\n",
       "Java Runtime: OpenJDK Runtime Environment\n",
       "JVM: OpenJDK 64-Bit Server VM\n",
       "Default Encoding: UTF-8\n",
       "Language: en\n",
       "Country: null\n",
       "--></g></svg>"
      ]
     },
     "execution_count": 18,
     "metadata": {},
     "output_type": "execute_result"
    }
   ],
   "source": [
    "%viz --style=\"LR\" --view=\"State\" \"QualifiedNameImportTest\""
   ]
  },
  {
   "cell_type": "code",
   "execution_count": 19,
   "id": "a3d5aff6",
   "metadata": {
    "execution": {
     "iopub.execute_input": "2022-02-05T16:55:52.318234Z",
     "iopub.status.busy": "2022-02-05T16:55:52.317819Z",
     "iopub.status.idle": "2022-02-05T16:55:52.348889Z",
     "shell.execute_reply": "2022-02-05T16:55:52.348521Z"
    }
   },
   "outputs": [
    {
     "data": {
      "image/svg+xml": [
       "<?xml version=\"1.0\" encoding=\"UTF-8\" standalone=\"no\"?><svg xmlns=\"http://www.w3.org/2000/svg\" xmlns:xlink=\"http://www.w3.org/1999/xlink\" contentScriptType=\"application/ecmascript\" contentStyleType=\"text/css\" height=\"384px\" preserveAspectRatio=\"none\" style=\"width:228px;height:384px;\" version=\"1.1\" viewBox=\"0 0 228 384\" width=\"228px\" zoomAndPan=\"magnify\"><defs/><g><!--MD5=[fbc87193dbaf4d95561dea2c320d4a47]\n",
       "cluster E1--><a href=\"psysml:3ae9698c-7b02-4bda-a9f9-90d299fbd69b\" target=\"_top\" title=\"psysml:3ae9698c-7b02-4bda-a9f9-90d299fbd69b\" xlink:actuate=\"onRequest\" xlink:href=\"psysml:3ae9698c-7b02-4bda-a9f9-90d299fbd69b\" xlink:show=\"new\" xlink:title=\"psysml:3ae9698c-7b02-4bda-a9f9-90d299fbd69b\" xlink:type=\"simple\"><polygon fill=\"#FFFFFF\" points=\"16,6,196,6,203,28.2969,206,28.2969,206,372,16,372,16,6\" style=\"stroke: #000000; stroke-width: 1.5;\"/><line style=\"stroke: #000000; stroke-width: 1.5;\" x1=\"16\" x2=\"203\" y1=\"28.2969\" y2=\"28.2969\"/><text fill=\"#000000\" font-family=\"sans-serif\" font-size=\"14\" font-weight=\"bold\" lengthAdjust=\"spacingAndGlyphs\" textLength=\"174\" x=\"20\" y=\"20.9951\">QualifiedNameImportTest</text></a><!--MD5=[e4f7fae6ed58524ba242bb0b0d3be6b7]\n",
       "cluster E2--><a href=\"psysml:1cd01716-9110-4b9f-8aee-0302fbd4d98f\" target=\"_top\" title=\"psysml:1cd01716-9110-4b9f-8aee-0302fbd4d98f\" xlink:actuate=\"onRequest\" xlink:href=\"psysml:1cd01716-9110-4b9f-8aee-0302fbd4d98f\" xlink:show=\"new\" xlink:title=\"psysml:1cd01716-9110-4b9f-8aee-0302fbd4d98f\" xlink:type=\"simple\"><polygon fill=\"#FFFFFF\" points=\"57,49,81,49,88,71.2969,164,71.2969,164,144,57,144,57,49\" style=\"stroke: #000000; stroke-width: 1.5;\"/><line style=\"stroke: #000000; stroke-width: 1.5;\" x1=\"57\" x2=\"88\" y1=\"71.2969\" y2=\"71.2969\"/><text fill=\"#000000\" font-family=\"sans-serif\" font-size=\"14\" font-weight=\"bold\" lengthAdjust=\"spacingAndGlyphs\" textLength=\"18\" x=\"61\" y=\"63.9951\">P1</text></a><!--MD5=[f6df4d0ebaf0b5dfb2ced0ae5af7c670]\n",
       "cluster E4--><a href=\"psysml:41fe529f-0d81-4eb7-adf7-d3411e3f84fb\" target=\"_top\" title=\"psysml:41fe529f-0d81-4eb7-adf7-d3411e3f84fb\" xlink:actuate=\"onRequest\" xlink:href=\"psysml:41fe529f-0d81-4eb7-adf7-d3411e3f84fb\" xlink:show=\"new\" xlink:title=\"psysml:41fe529f-0d81-4eb7-adf7-d3411e3f84fb\" xlink:type=\"simple\"><polygon fill=\"#FFFFFF\" points=\"69.5,168,93.5,168,100.5,190.2969,151.5,190.2969,151.5,348,69.5,348,69.5,168\" style=\"stroke: #000000; stroke-width: 1.5;\"/><line style=\"stroke: #000000; stroke-width: 1.5;\" x1=\"69.5\" x2=\"100.5\" y1=\"190.2969\" y2=\"190.2969\"/><text fill=\"#000000\" font-family=\"sans-serif\" font-size=\"14\" font-weight=\"bold\" lengthAdjust=\"spacingAndGlyphs\" textLength=\"18\" x=\"73.5\" y=\"182.9951\">P2</text></a><g id=\"E1.E2.E3\"><a href=\"psysml:9b3dc75b-1d88-4bb0-99bb-db4dbafde32b\" target=\"_top\" title=\"psysml:9b3dc75b-1d88-4bb0-99bb-db4dbafde32b\" xlink:actuate=\"onRequest\" xlink:href=\"psysml:9b3dc75b-1d88-4bb0-99bb-db4dbafde32b\" xlink:show=\"new\" xlink:title=\"psysml:9b3dc75b-1d88-4bb0-99bb-db4dbafde32b\" xlink:type=\"simple\"><rect fill=\"#FFFFFF\" height=\"42.9375\" id=\"E3\" style=\"stroke: #383838; stroke-width: 1.5;\" width=\"75\" x=\"73\" y=\"84.5\"/><rect fill=\"#F8F8F8\" height=\"37.9375\" style=\"stroke: #383838; stroke-width: 1.5;\" width=\"75\" x=\"73\" y=\"84.5\"/><text fill=\"#000000\" font-family=\"sans-serif\" font-size=\"12\" font-style=\"italic\" lengthAdjust=\"spacingAndGlyphs\" textLength=\"68\" x=\"76.5\" y=\"100.6387\">«part  def»</text><text fill=\"#000000\" font-family=\"sans-serif\" font-size=\"12\" lengthAdjust=\"spacingAndGlyphs\" textLength=\"8\" x=\"106.5\" y=\"114.6074\">A</text></a></g><a href=\"psysml:f3db2951-3782-436b-a6ad-64914b64a485\" target=\"_top\" title=\"psysml:f3db2951-3782-436b-a6ad-64914b64a485\" xlink:actuate=\"onRequest\" xlink:href=\"psysml:f3db2951-3782-436b-a6ad-64914b64a485\" xlink:show=\"new\" xlink:title=\"psysml:f3db2951-3782-436b-a6ad-64914b64a485\" xlink:type=\"simple\"><polygon fill=\"#FFFFFF\" points=\"87.5,203.5,119.5,203.5,126.5,225.7969,133.5,225.7969,133.5,256.0938,87.5,256.0938,87.5,203.5\" style=\"stroke: #000000; stroke-width: 1.5;\"/><line style=\"stroke: #000000; stroke-width: 1.5;\" x1=\"87.5\" x2=\"126.5\" y1=\"225.7969\" y2=\"225.7969\"/><text fill=\"#000000\" font-family=\"sans-serif\" font-size=\"14\" font-weight=\"bold\" lengthAdjust=\"spacingAndGlyphs\" textLength=\"26\" x=\"91.5\" y=\"218.4951\">P2a</text></a><g id=\"E1.E4.E6\"><a href=\"psysml:06f81dae-fa7a-4401-9cfd-15cc868431a4\" target=\"_top\" title=\"psysml:06f81dae-fa7a-4401-9cfd-15cc868431a4\" xlink:actuate=\"onRequest\" xlink:href=\"psysml:06f81dae-fa7a-4401-9cfd-15cc868431a4\" xlink:show=\"new\" xlink:title=\"psysml:06f81dae-fa7a-4401-9cfd-15cc868431a4\" xlink:type=\"simple\"><rect fill=\"#FFFFFF\" height=\"40\" id=\"E6\" rx=\"10\" ry=\"10\" style=\"stroke: #383838; stroke-width: 1.5;\" width=\"50\" x=\"85.5\" y=\"292\"/><rect fill=\"#F8F8F8\" height=\"23.9688\" rx=\"10\" ry=\"10\" style=\"stroke: #F8F8F8; stroke-width: 1.5;\" width=\"50\" x=\"85.5\" y=\"292\"/><rect fill=\"#F8F8F8\" height=\"10\" style=\"stroke: #F8F8F8; stroke-width: 1.5;\" width=\"50\" x=\"85.5\" y=\"305.9688\"/><rect fill=\"none\" height=\"40\" id=\"E6\" rx=\"10\" ry=\"10\" style=\"stroke: #383838; stroke-width: 1.5;\" width=\"50\" x=\"85.5\" y=\"292\"/><text fill=\"#000000\" font-family=\"sans-serif\" font-size=\"12\" lengthAdjust=\"spacingAndGlyphs\" textLength=\"22\" x=\"99.5\" y=\"308.1387\">x: A</text></a></g><!--MD5=[d7453e9c5226b389a18436f27e2699e9]\n",
       "@startuml\r\n",
       "skinparam ranksep 10\r\n",
       "skinparam rectangle {\r\n",
       " backgroundColor<<block>> LightGreen\r\n",
       "}\r\n",
       "left to right direction\r\n",
       "skinparam monochrome true\r\n",
       "skinparam classbackgroundcolor white\r\n",
       "skinparam shadowing false\r\n",
       "skinparam wrapWidth 300\r\n",
       "hide circle\r\n",
       "\r\n",
       "package \"QualifiedNameImportTest\" as E1  [[psysml:3ae9698c-7b02-4bda-a9f9-90d299fbd69b ]]  {\r\n",
       "package \"P1\" as E2  [[psysml:1cd01716-9110-4b9f-8aee-0302fbd4d98f ]]  {\r\n",
       "rec def \"A\" as E3  <<(T,blue) part  def>> [[psysml:9b3dc75b-1d88-4bb0-99bb-db4dbafde32b ]] {\r\n",
       "}\r\n",
       "}\r\n",
       "package \"P2\" as E4  [[psysml:41fe529f-0d81-4eb7-adf7-d3411e3f84fb ]]  {\r\n",
       "package \"P2a\" as E5  [[psysml:f3db2951-3782-436b-a6ad-64914b64a485 ]]  {\r\n",
       "}\r\n",
       "rec usage \"x: A\" as E6  [[psysml:06f81dae-fa7a-4401-9cfd-15cc868431a4 ]] {\r\n",
       "}\r\n",
       "}\r\n",
       "}\r\n",
       "@enduml\r\n",
       "\n",
       "PlantUML version 1.2020.13(Sat Jun 13 12:26:38 UTC 2020)\n",
       "(EPL source distribution)\n",
       "Java Runtime: OpenJDK Runtime Environment\n",
       "JVM: OpenJDK 64-Bit Server VM\n",
       "Default Encoding: UTF-8\n",
       "Language: en\n",
       "Country: null\n",
       "--></g></svg>"
      ]
     },
     "execution_count": 19,
     "metadata": {},
     "output_type": "execute_result"
    }
   ],
   "source": [
    "%viz --style=\"LR\" --view=\"Interconnection\" \"QualifiedNameImportTest\""
   ]
  },
  {
   "cell_type": "code",
   "execution_count": 20,
   "id": "95e3ed6e",
   "metadata": {
    "execution": {
     "iopub.execute_input": "2022-02-05T16:55:52.398692Z",
     "iopub.status.busy": "2022-02-05T16:55:52.398279Z",
     "iopub.status.idle": "2022-02-05T16:55:52.403460Z",
     "shell.execute_reply": "2022-02-05T16:55:52.403778Z"
    }
   },
   "outputs": [
    {
     "data": {
      "image/svg+xml": [
       "<?xml version=\"1.0\" encoding=\"UTF-8\" standalone=\"no\"?><svg xmlns=\"http://www.w3.org/2000/svg\" xmlns:xlink=\"http://www.w3.org/1999/xlink\" contentScriptType=\"application/ecmascript\" contentStyleType=\"text/css\" height=\"12px\" preserveAspectRatio=\"none\" style=\"width:12px;height:12px;\" version=\"1.1\" viewBox=\"0 0 12 12\" width=\"12px\" zoomAndPan=\"magnify\"><defs/><g><!--MD5=[7aeb398939421629f6affaa4a1a7b125]\n",
       "@startuml\r\n",
       "skinparam ranksep 8\r\n",
       "left to right direction\r\n",
       "skinparam monochrome true\r\n",
       "skinparam classbackgroundcolor white\r\n",
       "skinparam shadowing false\r\n",
       "skinparam wrapWidth 300\r\n",
       "hide circle\r\n",
       "\r\n",
       "@enduml\r\n",
       "\n",
       "PlantUML version 1.2020.13(Sat Jun 13 12:26:38 UTC 2020)\n",
       "(EPL source distribution)\n",
       "Java Runtime: OpenJDK Runtime Environment\n",
       "JVM: OpenJDK 64-Bit Server VM\n",
       "Default Encoding: UTF-8\n",
       "Language: en\n",
       "Country: null\n",
       "--></g></svg>"
      ]
     },
     "execution_count": 20,
     "metadata": {},
     "output_type": "execute_result"
    }
   ],
   "source": [
    "%viz --style=\"LR\" --view=\"Action\" \"QualifiedNameImportTest\""
   ]
  },
  {
   "cell_type": "code",
   "execution_count": 21,
   "id": "d783de75",
   "metadata": {
    "execution": {
     "iopub.execute_input": "2022-02-05T16:55:52.453993Z",
     "iopub.status.busy": "2022-02-05T16:55:52.453586Z",
     "iopub.status.idle": "2022-02-05T16:55:52.459344Z",
     "shell.execute_reply": "2022-02-05T16:55:52.459663Z"
    }
   },
   "outputs": [
    {
     "data": {
      "image/svg+xml": [
       "<?xml version=\"1.0\" encoding=\"UTF-8\" standalone=\"no\"?><svg xmlns=\"http://www.w3.org/2000/svg\" xmlns:xlink=\"http://www.w3.org/1999/xlink\" contentScriptType=\"application/ecmascript\" contentStyleType=\"text/css\" height=\"12px\" preserveAspectRatio=\"none\" style=\"width:12px;height:12px;\" version=\"1.1\" viewBox=\"0 0 12 12\" width=\"12px\" zoomAndPan=\"magnify\"><defs/><g><!--MD5=[238c11ea2002f03115ad6b49a457d50e]\n",
       "@startuml\r\n",
       "skinparam roundcorner 20\r\n",
       "skinparam BoxPadding 20\r\n",
       "skinparam SequenceBoxBackgroundColor #white\r\n",
       "skinparam style strictuml\r\n",
       "skinparam maxMessageSize 100\r\n",
       "left to right direction\r\n",
       "skinparam monochrome true\r\n",
       "skinparam classbackgroundcolor white\r\n",
       "skinparam shadowing false\r\n",
       "skinparam wrapWidth 300\r\n",
       "hide circle\r\n",
       "\r\n",
       "@enduml\r\n",
       "\n",
       "PlantUML version 1.2020.13(Sat Jun 13 12:26:38 UTC 2020)\n",
       "(EPL source distribution)\n",
       "Java Runtime: OpenJDK Runtime Environment\n",
       "JVM: OpenJDK 64-Bit Server VM\n",
       "Default Encoding: UTF-8\n",
       "Language: en\n",
       "Country: null\n",
       "--></g></svg>"
      ]
     },
     "execution_count": 21,
     "metadata": {},
     "output_type": "execute_result"
    }
   ],
   "source": [
    "%viz --style=\"LR\" --view=\"Sequence\" \"QualifiedNameImportTest\""
   ]
  },
  {
   "cell_type": "code",
   "execution_count": 22,
   "id": "d57f451a",
   "metadata": {
    "execution": {
     "iopub.execute_input": "2022-02-05T16:55:52.509901Z",
     "iopub.status.busy": "2022-02-05T16:55:52.509489Z",
     "iopub.status.idle": "2022-02-05T16:55:52.543545Z",
     "shell.execute_reply": "2022-02-05T16:55:52.543155Z"
    }
   },
   "outputs": [
    {
     "data": {
      "image/svg+xml": [
       "<?xml version=\"1.0\" encoding=\"UTF-8\" standalone=\"no\"?><svg xmlns=\"http://www.w3.org/2000/svg\" xmlns:xlink=\"http://www.w3.org/1999/xlink\" contentScriptType=\"application/ecmascript\" contentStyleType=\"text/css\" height=\"271px\" preserveAspectRatio=\"none\" style=\"width:294px;height:271px;\" version=\"1.1\" viewBox=\"0 0 294 271\" width=\"294px\" zoomAndPan=\"magnify\"><defs/><g><!--MD5=[fbc87193dbaf4d95561dea2c320d4a47]\n",
       "cluster E1--><a href=\"psysml:3ae9698c-7b02-4bda-a9f9-90d299fbd69b\" target=\"_top\" title=\"psysml:3ae9698c-7b02-4bda-a9f9-90d299fbd69b\" xlink:actuate=\"onRequest\" xlink:href=\"psysml:3ae9698c-7b02-4bda-a9f9-90d299fbd69b\" xlink:show=\"new\" xlink:title=\"psysml:3ae9698c-7b02-4bda-a9f9-90d299fbd69b\" xlink:type=\"simple\"><polygon fill=\"#FFFFFF\" points=\"16,6,196,6,203,28.2969,272,28.2969,272,259,16,259,16,6\" style=\"stroke: #000000; stroke-width: 1.5;\"/><line style=\"stroke: #000000; stroke-width: 1.5;\" x1=\"16\" x2=\"203\" y1=\"28.2969\" y2=\"28.2969\"/><text fill=\"#000000\" font-family=\"sans-serif\" font-size=\"14\" font-weight=\"bold\" lengthAdjust=\"spacingAndGlyphs\" textLength=\"174\" x=\"20\" y=\"20.9951\">QualifiedNameImportTest</text></a><!--MD5=[e4f7fae6ed58524ba242bb0b0d3be6b7]\n",
       "cluster E2--><a href=\"psysml:1cd01716-9110-4b9f-8aee-0302fbd4d98f\" target=\"_top\" title=\"psysml:1cd01716-9110-4b9f-8aee-0302fbd4d98f\" xlink:actuate=\"onRequest\" xlink:href=\"psysml:1cd01716-9110-4b9f-8aee-0302fbd4d98f\" xlink:show=\"new\" xlink:title=\"psysml:1cd01716-9110-4b9f-8aee-0302fbd4d98f\" xlink:type=\"simple\"><polygon fill=\"#FFFFFF\" points=\"146,49,170,49,177,71.2969,248,71.2969,248,146,146,146,146,49\" style=\"stroke: #000000; stroke-width: 1.5;\"/><line style=\"stroke: #000000; stroke-width: 1.5;\" x1=\"146\" x2=\"177\" y1=\"71.2969\" y2=\"71.2969\"/><text fill=\"#000000\" font-family=\"sans-serif\" font-size=\"14\" font-weight=\"bold\" lengthAdjust=\"spacingAndGlyphs\" textLength=\"18\" x=\"150\" y=\"63.9951\">P1</text></a><!--MD5=[f6df4d0ebaf0b5dfb2ced0ae5af7c670]\n",
       "cluster E4--><a href=\"psysml:41fe529f-0d81-4eb7-adf7-d3411e3f84fb\" target=\"_top\" title=\"psysml:41fe529f-0d81-4eb7-adf7-d3411e3f84fb\" xlink:actuate=\"onRequest\" xlink:href=\"psysml:41fe529f-0d81-4eb7-adf7-d3411e3f84fb\" xlink:show=\"new\" xlink:title=\"psysml:41fe529f-0d81-4eb7-adf7-d3411e3f84fb\" xlink:type=\"simple\"><polygon fill=\"#FFFFFF\" points=\"40,49,64,49,71,71.2969,118,71.2969,118,235,40,235,40,49\" style=\"stroke: #000000; stroke-width: 1.5;\"/><line style=\"stroke: #000000; stroke-width: 1.5;\" x1=\"40\" x2=\"71\" y1=\"71.2969\" y2=\"71.2969\"/><text fill=\"#000000\" font-family=\"sans-serif\" font-size=\"14\" font-weight=\"bold\" lengthAdjust=\"spacingAndGlyphs\" textLength=\"18\" x=\"44\" y=\"63.9951\">P2</text></a><!--MD5=[09b614a08d8cba4a07c9adeb5e0fee81]\n",
       "class E3--><a href=\"psysml:9b3dc75b-1d88-4bb0-99bb-db4dbafde32b\" target=\"_top\" title=\"psysml:9b3dc75b-1d88-4bb0-99bb-db4dbafde32b\" xlink:actuate=\"onRequest\" xlink:href=\"psysml:9b3dc75b-1d88-4bb0-99bb-db4dbafde32b\" xlink:show=\"new\" xlink:title=\"psysml:9b3dc75b-1d88-4bb0-99bb-db4dbafde32b\" xlink:type=\"simple\"><rect fill=\"#FFFFFF\" height=\"45.9375\" id=\"E3\" style=\"stroke: #383838; stroke-width: 1.5;\" width=\"70\" x=\"162\" y=\"84\"/><text fill=\"#000000\" font-family=\"sans-serif\" font-size=\"12\" font-style=\"italic\" lengthAdjust=\"spacingAndGlyphs\" textLength=\"68\" x=\"163\" y=\"100.1387\">«part  def»</text><text fill=\"#000000\" font-family=\"sans-serif\" font-size=\"12\" lengthAdjust=\"spacingAndGlyphs\" textLength=\"8\" x=\"193\" y=\"114.1074\">A</text><line style=\"stroke: #383838; stroke-width: 1.5;\" x1=\"163\" x2=\"231\" y1=\"121.9375\" y2=\"121.9375\"/></a><!--MD5=[60a26617385b1d2d0262a64233df1f8d]\n",
       "class E6--><a href=\"psysml:06f81dae-fa7a-4401-9cfd-15cc868431a4\" target=\"_top\" title=\"psysml:06f81dae-fa7a-4401-9cfd-15cc868431a4\" xlink:actuate=\"onRequest\" xlink:href=\"psysml:06f81dae-fa7a-4401-9cfd-15cc868431a4\" xlink:show=\"new\" xlink:title=\"psysml:06f81dae-fa7a-4401-9cfd-15cc868431a4\" xlink:type=\"simple\"><rect fill=\"#FFFFFF\" height=\"45.9375\" id=\"E6\" rx=\"10\" ry=\"10\" style=\"stroke: #383838; stroke-width: 1.5;\" width=\"42\" x=\"58\" y=\"84\"/><text fill=\"#000000\" font-family=\"sans-serif\" font-size=\"12\" font-style=\"italic\" lengthAdjust=\"spacingAndGlyphs\" textLength=\"40\" x=\"59\" y=\"100.1387\">«part»</text><text fill=\"#000000\" font-family=\"sans-serif\" font-size=\"12\" lengthAdjust=\"spacingAndGlyphs\" textLength=\"22\" x=\"66\" y=\"114.1074\">x: A</text><line style=\"stroke: #383838; stroke-width: 1.5;\" x1=\"59\" x2=\"99\" y1=\"121.9375\" y2=\"121.9375\"/></a><a href=\"psysml:f3db2951-3782-436b-a6ad-64914b64a485\" target=\"_top\" title=\"psysml:f3db2951-3782-436b-a6ad-64914b64a485\" xlink:actuate=\"onRequest\" xlink:href=\"psysml:f3db2951-3782-436b-a6ad-64914b64a485\" xlink:show=\"new\" xlink:title=\"psysml:f3db2951-3782-436b-a6ad-64914b64a485\" xlink:type=\"simple\"><polygon fill=\"#FFFFFF\" points=\"56,165.5,88,165.5,95,187.7969,102,187.7969,102,218.0938,56,218.0938,56,165.5\" style=\"stroke: #000000; stroke-width: 1.5;\"/><line style=\"stroke: #000000; stroke-width: 1.5;\" x1=\"56\" x2=\"95\" y1=\"187.7969\" y2=\"187.7969\"/><text fill=\"#000000\" font-family=\"sans-serif\" font-size=\"14\" font-weight=\"bold\" lengthAdjust=\"spacingAndGlyphs\" textLength=\"26\" x=\"60\" y=\"180.4951\">P2a</text></a><!--MD5=[a717450b82c80b9240a525fa862496af]\n",
       "link E6 to E3--><a href=\"psysml:7ae3fb41-5537-4752-a539-fb13bd5d368f\" target=\"_top\" title=\"psysml:7ae3fb41-5537-4752-a539-fb13bd5d368f\" xlink:actuate=\"onRequest\" xlink:href=\"psysml:7ae3fb41-5537-4752-a539-fb13bd5d368f\" xlink:show=\"new\" xlink:title=\"psysml:7ae3fb41-5537-4752-a539-fb13bd5d368f\" xlink:type=\"simple\"><path d=\"M100.21,107 C111.83,107 127.05,107 141.91,107 \" fill=\"none\" id=\"E6-&gt;E3\" style=\"stroke: #383838; stroke-width: 1.0;\"/><polygon fill=\"#FFFFFF\" points=\"161.95,107,142.95,114,142.95,100,161.95,107\" style=\"stroke: #383838; stroke-width: 1.0;\"/><ellipse cx=\"137.25\" cy=\"112\" fill=\"#383838\" rx=\"2\" ry=\"2\" style=\"stroke: #383838; stroke-width: 1.0;\"/><ellipse cx=\"137.25\" cy=\"102\" fill=\"#383838\" rx=\"2\" ry=\"2\" style=\"stroke: #383838; stroke-width: 1.0;\"/></a><!--MD5=[666f310ba620ea8b5da74be06ac41642]\n",
       "@startuml\r\n",
       "left to right direction\r\n",
       "skinparam monochrome true\r\n",
       "skinparam classbackgroundcolor white\r\n",
       "skinparam shadowing false\r\n",
       "skinparam wrapWidth 300\r\n",
       "hide circle\r\n",
       "\r\n",
       "package \"QualifiedNameImportTest\" as E1  [[psysml:3ae9698c-7b02-4bda-a9f9-90d299fbd69b ]]  {\r\n",
       "package \"P1\" as E2  [[psysml:1cd01716-9110-4b9f-8aee-0302fbd4d98f ]]  {\r\n",
       "comp def \"A\" as E3  <<(T,blue) part  def>> [[psysml:9b3dc75b-1d88-4bb0-99bb-db4dbafde32b ]] {\r\n",
       "}\r\n",
       "}\r\n",
       "package \"P2\" as E4  [[psysml:41fe529f-0d81-4eb7-adf7-d3411e3f84fb ]]  {\r\n",
       "package \"P2a\" as E5  [[psysml:f3db2951-3782-436b-a6ad-64914b64a485 ]]  {\r\n",
       "}\r\n",
       "comp usage \"x: A \" as E6  <<(T,blue) part>> [[psysml:06f81dae-fa7a-4401-9cfd-15cc868431a4 ]] {\r\n",
       "}\r\n",
       "}\r\n",
       "}\r\n",
       "E6 - -:|> E3 [[psysml:7ae3fb41-5537-4752-a539-fb13bd5d368f ]] \r\n",
       "@enduml\r\n",
       "\n",
       "PlantUML version 1.2020.13(Sat Jun 13 12:26:38 UTC 2020)\n",
       "(EPL source distribution)\n",
       "Java Runtime: OpenJDK Runtime Environment\n",
       "JVM: OpenJDK 64-Bit Server VM\n",
       "Default Encoding: UTF-8\n",
       "Language: en\n",
       "Country: null\n",
       "--></g></svg>"
      ]
     },
     "execution_count": 22,
     "metadata": {},
     "output_type": "execute_result"
    }
   ],
   "source": [
    "%viz --style=\"LR\" --view=\"MIXED\" \"QualifiedNameImportTest\""
   ]
  },
  {
   "cell_type": "code",
   "execution_count": 23,
   "id": "72be3ab9",
   "metadata": {
    "execution": {
     "iopub.execute_input": "2022-02-05T16:55:52.593211Z",
     "iopub.status.busy": "2022-02-05T16:55:52.592802Z",
     "iopub.status.idle": "2022-02-05T16:55:52.623273Z",
     "shell.execute_reply": "2022-02-05T16:55:52.622892Z"
    }
   },
   "outputs": [
    {
     "data": {
      "image/svg+xml": [
       "<?xml version=\"1.0\" encoding=\"UTF-8\" standalone=\"no\"?><svg xmlns=\"http://www.w3.org/2000/svg\" xmlns:xlink=\"http://www.w3.org/1999/xlink\" contentScriptType=\"application/ecmascript\" contentStyleType=\"text/css\" height=\"310px\" preserveAspectRatio=\"none\" style=\"width:241px;height:310px;\" version=\"1.1\" viewBox=\"0 0 241 310\" width=\"241px\" zoomAndPan=\"magnify\"><defs><filter height=\"300%\" id=\"fe1suw7pc38gy\" width=\"300%\" x=\"-1\" y=\"-1\"><feGaussianBlur result=\"blurOut\" stdDeviation=\"2.0\"/><feColorMatrix in=\"blurOut\" result=\"blurOut2\" type=\"matrix\" values=\"0 0 0 0 0 0 0 0 0 0 0 0 0 0 0 0 0 0 .4 0\"/><feOffset dx=\"4.0\" dy=\"4.0\" in=\"blurOut2\" result=\"blurOut3\"/><feBlend in=\"SourceGraphic\" in2=\"blurOut3\" mode=\"normal\"/></filter></defs><g><!--MD5=[fbc87193dbaf4d95561dea2c320d4a47]\n",
       "cluster E1--><a href=\"psysml:3ae9698c-7b02-4bda-a9f9-90d299fbd69b\" target=\"_top\" title=\"psysml:3ae9698c-7b02-4bda-a9f9-90d299fbd69b\" xlink:actuate=\"onRequest\" xlink:href=\"psysml:3ae9698c-7b02-4bda-a9f9-90d299fbd69b\" xlink:show=\"new\" xlink:title=\"psysml:3ae9698c-7b02-4bda-a9f9-90d299fbd69b\" xlink:type=\"simple\"><polygon fill=\"#FFFFFF\" filter=\"url(#fe1suw7pc38gy)\" points=\"16,6,196,6,203,28.2969,219,28.2969,219,298,16,298,16,6\" style=\"stroke: #000000; stroke-width: 1.5;\"/><line style=\"stroke: #000000; stroke-width: 1.5;\" x1=\"16\" x2=\"203\" y1=\"28.2969\" y2=\"28.2969\"/><text fill=\"#000000\" font-family=\"sans-serif\" font-size=\"14\" font-weight=\"bold\" lengthAdjust=\"spacingAndGlyphs\" textLength=\"174\" x=\"20\" y=\"20.9951\">QualifiedNameImportTest</text></a><!--MD5=[e4f7fae6ed58524ba242bb0b0d3be6b7]\n",
       "cluster E2--><a href=\"psysml:1cd01716-9110-4b9f-8aee-0302fbd4d98f\" target=\"_top\" title=\"psysml:1cd01716-9110-4b9f-8aee-0302fbd4d98f\" xlink:actuate=\"onRequest\" xlink:href=\"psysml:1cd01716-9110-4b9f-8aee-0302fbd4d98f\" xlink:show=\"new\" xlink:title=\"psysml:1cd01716-9110-4b9f-8aee-0302fbd4d98f\" xlink:type=\"simple\"><polygon fill=\"#FFFFFF\" filter=\"url(#fe1suw7pc38gy)\" points=\"93,177,117,177,124,199.2969,195,199.2969,195,274,93,274,93,177\" style=\"stroke: #000000; stroke-width: 1.5;\"/><line style=\"stroke: #000000; stroke-width: 1.5;\" x1=\"93\" x2=\"124\" y1=\"199.2969\" y2=\"199.2969\"/><text fill=\"#000000\" font-family=\"sans-serif\" font-size=\"14\" font-weight=\"bold\" lengthAdjust=\"spacingAndGlyphs\" textLength=\"18\" x=\"97\" y=\"191.9951\">P1</text></a><!--MD5=[f6df4d0ebaf0b5dfb2ced0ae5af7c670]\n",
       "cluster E4--><a href=\"psysml:41fe529f-0d81-4eb7-adf7-d3411e3f84fb\" target=\"_top\" title=\"psysml:41fe529f-0d81-4eb7-adf7-d3411e3f84fb\" xlink:actuate=\"onRequest\" xlink:href=\"psysml:41fe529f-0d81-4eb7-adf7-d3411e3f84fb\" xlink:show=\"new\" xlink:title=\"psysml:41fe529f-0d81-4eb7-adf7-d3411e3f84fb\" xlink:type=\"simple\"><polygon fill=\"#FFFFFF\" filter=\"url(#fe1suw7pc38gy)\" points=\"40,49,64,49,71,71.2969,195,71.2969,195,153,40,153,40,49\" style=\"stroke: #000000; stroke-width: 1.5;\"/><line style=\"stroke: #000000; stroke-width: 1.5;\" x1=\"40\" x2=\"71\" y1=\"71.2969\" y2=\"71.2969\"/><text fill=\"#000000\" font-family=\"sans-serif\" font-size=\"14\" font-weight=\"bold\" lengthAdjust=\"spacingAndGlyphs\" textLength=\"18\" x=\"44\" y=\"63.9951\">P2</text></a><!--MD5=[09b614a08d8cba4a07c9adeb5e0fee81]\n",
       "class E3--><a href=\"psysml:9b3dc75b-1d88-4bb0-99bb-db4dbafde32b\" target=\"_top\" title=\"psysml:9b3dc75b-1d88-4bb0-99bb-db4dbafde32b\" xlink:actuate=\"onRequest\" xlink:href=\"psysml:9b3dc75b-1d88-4bb0-99bb-db4dbafde32b\" xlink:show=\"new\" xlink:title=\"psysml:9b3dc75b-1d88-4bb0-99bb-db4dbafde32b\" xlink:type=\"simple\"><rect fill=\"#FEFECE\" filter=\"url(#fe1suw7pc38gy)\" height=\"45.9375\" id=\"E3\" style=\"stroke: #A80036; stroke-width: 1.5;\" width=\"70\" x=\"109\" y=\"212\"/><text fill=\"#000000\" font-family=\"sans-serif\" font-size=\"12\" font-style=\"italic\" lengthAdjust=\"spacingAndGlyphs\" textLength=\"68\" x=\"110\" y=\"228.1387\">«part  def»</text><text fill=\"#000000\" font-family=\"sans-serif\" font-size=\"12\" lengthAdjust=\"spacingAndGlyphs\" textLength=\"8\" x=\"140\" y=\"242.1074\">A</text><line style=\"stroke: #A80036; stroke-width: 1.5;\" x1=\"110\" x2=\"178\" y1=\"249.9375\" y2=\"249.9375\"/></a><!--MD5=[60a26617385b1d2d0262a64233df1f8d]\n",
       "class E6--><a href=\"psysml:06f81dae-fa7a-4401-9cfd-15cc868431a4\" target=\"_top\" title=\"psysml:06f81dae-fa7a-4401-9cfd-15cc868431a4\" xlink:actuate=\"onRequest\" xlink:href=\"psysml:06f81dae-fa7a-4401-9cfd-15cc868431a4\" xlink:show=\"new\" xlink:title=\"psysml:06f81dae-fa7a-4401-9cfd-15cc868431a4\" xlink:type=\"simple\"><rect fill=\"#FEFECE\" filter=\"url(#fe1suw7pc38gy)\" height=\"45.9375\" id=\"E6\" rx=\"10\" ry=\"10\" style=\"stroke: #A80036; stroke-width: 1.5;\" width=\"42\" x=\"137\" y=\"87.5\"/><text fill=\"#000000\" font-family=\"sans-serif\" font-size=\"12\" font-style=\"italic\" lengthAdjust=\"spacingAndGlyphs\" textLength=\"40\" x=\"138\" y=\"103.6387\">«part»</text><text fill=\"#000000\" font-family=\"sans-serif\" font-size=\"12\" lengthAdjust=\"spacingAndGlyphs\" textLength=\"22\" x=\"145\" y=\"117.6074\">x: A</text><line style=\"stroke: #A80036; stroke-width: 1.5;\" x1=\"138\" x2=\"178\" y1=\"125.4375\" y2=\"125.4375\"/></a><a href=\"psysml:f3db2951-3782-436b-a6ad-64914b64a485\" target=\"_top\" title=\"psysml:f3db2951-3782-436b-a6ad-64914b64a485\" xlink:actuate=\"onRequest\" xlink:href=\"psysml:f3db2951-3782-436b-a6ad-64914b64a485\" xlink:show=\"new\" xlink:title=\"psysml:f3db2951-3782-436b-a6ad-64914b64a485\" xlink:type=\"simple\"><polygon fill=\"#FFFFFF\" filter=\"url(#fe1suw7pc38gy)\" points=\"56,84,88,84,95,106.2969,102,106.2969,102,136.5938,56,136.5938,56,84\" style=\"stroke: #000000; stroke-width: 1.5;\"/><line style=\"stroke: #000000; stroke-width: 1.5;\" x1=\"56\" x2=\"95\" y1=\"106.2969\" y2=\"106.2969\"/><text fill=\"#000000\" font-family=\"sans-serif\" font-size=\"14\" font-weight=\"bold\" lengthAdjust=\"spacingAndGlyphs\" textLength=\"26\" x=\"60\" y=\"98.9951\">P2a</text></a><!--MD5=[a717450b82c80b9240a525fa862496af]\n",
       "link E6 to E3--><a href=\"psysml:7ae3fb41-5537-4752-a539-fb13bd5d368f\" target=\"_top\" title=\"psysml:7ae3fb41-5537-4752-a539-fb13bd5d368f\" xlink:actuate=\"onRequest\" xlink:href=\"psysml:7ae3fb41-5537-4752-a539-fb13bd5d368f\" xlink:show=\"new\" xlink:title=\"psysml:7ae3fb41-5537-4752-a539-fb13bd5d368f\" xlink:type=\"simple\"><path d=\"M155.46,133.68 C153.61,149.9 151.04,172.39 148.8,191.96 \" fill=\"none\" id=\"E6-&gt;E3\" style=\"stroke: #A80036; stroke-width: 1.0;\"/><polygon fill=\"#FFFFFF\" points=\"146.52,211.98,141.7231,192.308,155.6325,193.8979,146.52,211.98\" style=\"stroke: #A80036; stroke-width: 1.0;\"/><ellipse cx=\"144.3574\" cy=\"186.872\" fill=\"#A80036\" rx=\"2\" ry=\"2\" style=\"stroke: #A80036; stroke-width: 1.0;\"/><ellipse cx=\"154.2928\" cy=\"188.0076\" fill=\"#A80036\" rx=\"2\" ry=\"2\" style=\"stroke: #A80036; stroke-width: 1.0;\"/></a><!--MD5=[d14f27fa922d99dedbef5009c035adf4]\n",
       "@startuml\r\n",
       "skinparam wrapWidth 300\r\n",
       "hide circle\r\n",
       "\r\n",
       "package \"QualifiedNameImportTest\" as E1  [[psysml:3ae9698c-7b02-4bda-a9f9-90d299fbd69b ]]  {\r\n",
       "package \"P1\" as E2  [[psysml:1cd01716-9110-4b9f-8aee-0302fbd4d98f ]]  {\r\n",
       "comp def \"A\" as E3  <<(T,blue) part  def>> [[psysml:9b3dc75b-1d88-4bb0-99bb-db4dbafde32b ]] {\r\n",
       "}\r\n",
       "}\r\n",
       "package \"P2\" as E4  [[psysml:41fe529f-0d81-4eb7-adf7-d3411e3f84fb ]]  {\r\n",
       "package \"P2a\" as E5  [[psysml:f3db2951-3782-436b-a6ad-64914b64a485 ]]  {\r\n",
       "}\r\n",
       "comp usage \"x: A \" as E6  <<(T,blue) part>> [[psysml:06f81dae-fa7a-4401-9cfd-15cc868431a4 ]] {\r\n",
       "}\r\n",
       "}\r\n",
       "}\r\n",
       "E6 - -:|> E3 [[psysml:7ae3fb41-5537-4752-a539-fb13bd5d368f ]] \r\n",
       "@enduml\r\n",
       "\n",
       "PlantUML version 1.2020.13(Sat Jun 13 12:26:38 UTC 2020)\n",
       "(EPL source distribution)\n",
       "Java Runtime: OpenJDK Runtime Environment\n",
       "JVM: OpenJDK 64-Bit Server VM\n",
       "Default Encoding: UTF-8\n",
       "Language: en\n",
       "Country: null\n",
       "--></g></svg>"
      ]
     },
     "execution_count": 23,
     "metadata": {},
     "output_type": "execute_result"
    }
   ],
   "source": [
    "%viz --style=\"STDCOLOR\" --view=\"Default\" \"QualifiedNameImportTest\""
   ]
  },
  {
   "cell_type": "code",
   "execution_count": 24,
   "id": "2d4b6679",
   "metadata": {
    "execution": {
     "iopub.execute_input": "2022-02-05T16:55:52.673129Z",
     "iopub.status.busy": "2022-02-05T16:55:52.672711Z",
     "iopub.status.idle": "2022-02-05T16:55:52.703454Z",
     "shell.execute_reply": "2022-02-05T16:55:52.703078Z"
    }
   },
   "outputs": [
    {
     "data": {
      "image/svg+xml": [
       "<?xml version=\"1.0\" encoding=\"UTF-8\" standalone=\"no\"?><svg xmlns=\"http://www.w3.org/2000/svg\" xmlns:xlink=\"http://www.w3.org/1999/xlink\" contentScriptType=\"application/ecmascript\" contentStyleType=\"text/css\" height=\"310px\" preserveAspectRatio=\"none\" style=\"width:241px;height:310px;\" version=\"1.1\" viewBox=\"0 0 241 310\" width=\"241px\" zoomAndPan=\"magnify\"><defs><filter height=\"300%\" id=\"fe1suw7pc38gy\" width=\"300%\" x=\"-1\" y=\"-1\"><feGaussianBlur result=\"blurOut\" stdDeviation=\"2.0\"/><feColorMatrix in=\"blurOut\" result=\"blurOut2\" type=\"matrix\" values=\"0 0 0 0 0 0 0 0 0 0 0 0 0 0 0 0 0 0 .4 0\"/><feOffset dx=\"4.0\" dy=\"4.0\" in=\"blurOut2\" result=\"blurOut3\"/><feBlend in=\"SourceGraphic\" in2=\"blurOut3\" mode=\"normal\"/></filter></defs><g><!--MD5=[fbc87193dbaf4d95561dea2c320d4a47]\n",
       "cluster E1--><a href=\"psysml:3ae9698c-7b02-4bda-a9f9-90d299fbd69b\" target=\"_top\" title=\"psysml:3ae9698c-7b02-4bda-a9f9-90d299fbd69b\" xlink:actuate=\"onRequest\" xlink:href=\"psysml:3ae9698c-7b02-4bda-a9f9-90d299fbd69b\" xlink:show=\"new\" xlink:title=\"psysml:3ae9698c-7b02-4bda-a9f9-90d299fbd69b\" xlink:type=\"simple\"><polygon fill=\"#FFFFFF\" filter=\"url(#fe1suw7pc38gy)\" points=\"16,6,196,6,203,28.2969,219,28.2969,219,298,16,298,16,6\" style=\"stroke: #000000; stroke-width: 1.5;\"/><line style=\"stroke: #000000; stroke-width: 1.5;\" x1=\"16\" x2=\"203\" y1=\"28.2969\" y2=\"28.2969\"/><text fill=\"#000000\" font-family=\"sans-serif\" font-size=\"14\" font-weight=\"bold\" lengthAdjust=\"spacingAndGlyphs\" textLength=\"174\" x=\"20\" y=\"20.9951\">QualifiedNameImportTest</text></a><!--MD5=[e4f7fae6ed58524ba242bb0b0d3be6b7]\n",
       "cluster E2--><a href=\"psysml:1cd01716-9110-4b9f-8aee-0302fbd4d98f\" target=\"_top\" title=\"psysml:1cd01716-9110-4b9f-8aee-0302fbd4d98f\" xlink:actuate=\"onRequest\" xlink:href=\"psysml:1cd01716-9110-4b9f-8aee-0302fbd4d98f\" xlink:show=\"new\" xlink:title=\"psysml:1cd01716-9110-4b9f-8aee-0302fbd4d98f\" xlink:type=\"simple\"><polygon fill=\"#FFFFFF\" filter=\"url(#fe1suw7pc38gy)\" points=\"93,177,117,177,124,199.2969,195,199.2969,195,274,93,274,93,177\" style=\"stroke: #000000; stroke-width: 1.5;\"/><line style=\"stroke: #000000; stroke-width: 1.5;\" x1=\"93\" x2=\"124\" y1=\"199.2969\" y2=\"199.2969\"/><text fill=\"#000000\" font-family=\"sans-serif\" font-size=\"14\" font-weight=\"bold\" lengthAdjust=\"spacingAndGlyphs\" textLength=\"18\" x=\"97\" y=\"191.9951\">P1</text></a><!--MD5=[f6df4d0ebaf0b5dfb2ced0ae5af7c670]\n",
       "cluster E4--><a href=\"psysml:41fe529f-0d81-4eb7-adf7-d3411e3f84fb\" target=\"_top\" title=\"psysml:41fe529f-0d81-4eb7-adf7-d3411e3f84fb\" xlink:actuate=\"onRequest\" xlink:href=\"psysml:41fe529f-0d81-4eb7-adf7-d3411e3f84fb\" xlink:show=\"new\" xlink:title=\"psysml:41fe529f-0d81-4eb7-adf7-d3411e3f84fb\" xlink:type=\"simple\"><polygon fill=\"#FFFFFF\" filter=\"url(#fe1suw7pc38gy)\" points=\"40,49,64,49,71,71.2969,195,71.2969,195,153,40,153,40,49\" style=\"stroke: #000000; stroke-width: 1.5;\"/><line style=\"stroke: #000000; stroke-width: 1.5;\" x1=\"40\" x2=\"71\" y1=\"71.2969\" y2=\"71.2969\"/><text fill=\"#000000\" font-family=\"sans-serif\" font-size=\"14\" font-weight=\"bold\" lengthAdjust=\"spacingAndGlyphs\" textLength=\"18\" x=\"44\" y=\"63.9951\">P2</text></a><!--MD5=[09b614a08d8cba4a07c9adeb5e0fee81]\n",
       "class E3--><a href=\"psysml:9b3dc75b-1d88-4bb0-99bb-db4dbafde32b\" target=\"_top\" title=\"psysml:9b3dc75b-1d88-4bb0-99bb-db4dbafde32b\" xlink:actuate=\"onRequest\" xlink:href=\"psysml:9b3dc75b-1d88-4bb0-99bb-db4dbafde32b\" xlink:show=\"new\" xlink:title=\"psysml:9b3dc75b-1d88-4bb0-99bb-db4dbafde32b\" xlink:type=\"simple\"><rect fill=\"#FEFECE\" filter=\"url(#fe1suw7pc38gy)\" height=\"45.9375\" id=\"E3\" style=\"stroke: #A80036; stroke-width: 1.5;\" width=\"70\" x=\"109\" y=\"212\"/><text fill=\"#000000\" font-family=\"sans-serif\" font-size=\"12\" font-style=\"italic\" lengthAdjust=\"spacingAndGlyphs\" textLength=\"68\" x=\"110\" y=\"228.1387\">«part  def»</text><text fill=\"#000000\" font-family=\"sans-serif\" font-size=\"12\" lengthAdjust=\"spacingAndGlyphs\" textLength=\"8\" x=\"140\" y=\"242.1074\">A</text><line style=\"stroke: #A80036; stroke-width: 1.5;\" x1=\"110\" x2=\"178\" y1=\"249.9375\" y2=\"249.9375\"/></a><!--MD5=[60a26617385b1d2d0262a64233df1f8d]\n",
       "class E6--><a href=\"psysml:06f81dae-fa7a-4401-9cfd-15cc868431a4\" target=\"_top\" title=\"psysml:06f81dae-fa7a-4401-9cfd-15cc868431a4\" xlink:actuate=\"onRequest\" xlink:href=\"psysml:06f81dae-fa7a-4401-9cfd-15cc868431a4\" xlink:show=\"new\" xlink:title=\"psysml:06f81dae-fa7a-4401-9cfd-15cc868431a4\" xlink:type=\"simple\"><rect fill=\"#FEFECE\" filter=\"url(#fe1suw7pc38gy)\" height=\"45.9375\" id=\"E6\" rx=\"10\" ry=\"10\" style=\"stroke: #A80036; stroke-width: 1.5;\" width=\"42\" x=\"137\" y=\"87.5\"/><text fill=\"#000000\" font-family=\"sans-serif\" font-size=\"12\" font-style=\"italic\" lengthAdjust=\"spacingAndGlyphs\" textLength=\"40\" x=\"138\" y=\"103.6387\">«part»</text><text fill=\"#000000\" font-family=\"sans-serif\" font-size=\"12\" lengthAdjust=\"spacingAndGlyphs\" textLength=\"22\" x=\"145\" y=\"117.6074\">x: A</text><line style=\"stroke: #A80036; stroke-width: 1.5;\" x1=\"138\" x2=\"178\" y1=\"125.4375\" y2=\"125.4375\"/></a><a href=\"psysml:f3db2951-3782-436b-a6ad-64914b64a485\" target=\"_top\" title=\"psysml:f3db2951-3782-436b-a6ad-64914b64a485\" xlink:actuate=\"onRequest\" xlink:href=\"psysml:f3db2951-3782-436b-a6ad-64914b64a485\" xlink:show=\"new\" xlink:title=\"psysml:f3db2951-3782-436b-a6ad-64914b64a485\" xlink:type=\"simple\"><polygon fill=\"#FFFFFF\" filter=\"url(#fe1suw7pc38gy)\" points=\"56,84,88,84,95,106.2969,102,106.2969,102,136.5938,56,136.5938,56,84\" style=\"stroke: #000000; stroke-width: 1.5;\"/><line style=\"stroke: #000000; stroke-width: 1.5;\" x1=\"56\" x2=\"95\" y1=\"106.2969\" y2=\"106.2969\"/><text fill=\"#000000\" font-family=\"sans-serif\" font-size=\"14\" font-weight=\"bold\" lengthAdjust=\"spacingAndGlyphs\" textLength=\"26\" x=\"60\" y=\"98.9951\">P2a</text></a><!--MD5=[a717450b82c80b9240a525fa862496af]\n",
       "link E6 to E3--><a href=\"psysml:7ae3fb41-5537-4752-a539-fb13bd5d368f\" target=\"_top\" title=\"psysml:7ae3fb41-5537-4752-a539-fb13bd5d368f\" xlink:actuate=\"onRequest\" xlink:href=\"psysml:7ae3fb41-5537-4752-a539-fb13bd5d368f\" xlink:show=\"new\" xlink:title=\"psysml:7ae3fb41-5537-4752-a539-fb13bd5d368f\" xlink:type=\"simple\"><path d=\"M155.46,133.68 C153.61,149.9 151.04,172.39 148.8,191.96 \" fill=\"none\" id=\"E6-&gt;E3\" style=\"stroke: #A80036; stroke-width: 1.0;\"/><polygon fill=\"#FFFFFF\" points=\"146.52,211.98,141.7231,192.308,155.6325,193.8979,146.52,211.98\" style=\"stroke: #A80036; stroke-width: 1.0;\"/><ellipse cx=\"144.3574\" cy=\"186.872\" fill=\"#A80036\" rx=\"2\" ry=\"2\" style=\"stroke: #A80036; stroke-width: 1.0;\"/><ellipse cx=\"154.2928\" cy=\"188.0076\" fill=\"#A80036\" rx=\"2\" ry=\"2\" style=\"stroke: #A80036; stroke-width: 1.0;\"/></a><!--MD5=[d14f27fa922d99dedbef5009c035adf4]\n",
       "@startuml\r\n",
       "skinparam wrapWidth 300\r\n",
       "hide circle\r\n",
       "\r\n",
       "package \"QualifiedNameImportTest\" as E1  [[psysml:3ae9698c-7b02-4bda-a9f9-90d299fbd69b ]]  {\r\n",
       "package \"P1\" as E2  [[psysml:1cd01716-9110-4b9f-8aee-0302fbd4d98f ]]  {\r\n",
       "comp def \"A\" as E3  <<(T,blue) part  def>> [[psysml:9b3dc75b-1d88-4bb0-99bb-db4dbafde32b ]] {\r\n",
       "}\r\n",
       "}\r\n",
       "package \"P2\" as E4  [[psysml:41fe529f-0d81-4eb7-adf7-d3411e3f84fb ]]  {\r\n",
       "package \"P2a\" as E5  [[psysml:f3db2951-3782-436b-a6ad-64914b64a485 ]]  {\r\n",
       "}\r\n",
       "comp usage \"x: A \" as E6  <<(T,blue) part>> [[psysml:06f81dae-fa7a-4401-9cfd-15cc868431a4 ]] {\r\n",
       "}\r\n",
       "}\r\n",
       "}\r\n",
       "E6 - -:|> E3 [[psysml:7ae3fb41-5537-4752-a539-fb13bd5d368f ]] \r\n",
       "@enduml\r\n",
       "\n",
       "PlantUML version 1.2020.13(Sat Jun 13 12:26:38 UTC 2020)\n",
       "(EPL source distribution)\n",
       "Java Runtime: OpenJDK Runtime Environment\n",
       "JVM: OpenJDK 64-Bit Server VM\n",
       "Default Encoding: UTF-8\n",
       "Language: en\n",
       "Country: null\n",
       "--></g></svg>"
      ]
     },
     "execution_count": 24,
     "metadata": {},
     "output_type": "execute_result"
    }
   ],
   "source": [
    "%viz --style=\"STDCOLOR\" --view=\"Tree\" \"QualifiedNameImportTest\""
   ]
  },
  {
   "cell_type": "code",
   "execution_count": 25,
   "id": "9ecbdf88",
   "metadata": {
    "execution": {
     "iopub.execute_input": "2022-02-05T16:55:52.753098Z",
     "iopub.status.busy": "2022-02-05T16:55:52.752690Z",
     "iopub.status.idle": "2022-02-05T16:55:52.757516Z",
     "shell.execute_reply": "2022-02-05T16:55:52.757831Z"
    }
   },
   "outputs": [
    {
     "data": {
      "image/svg+xml": [
       "<?xml version=\"1.0\" encoding=\"UTF-8\" standalone=\"no\"?><svg xmlns=\"http://www.w3.org/2000/svg\" xmlns:xlink=\"http://www.w3.org/1999/xlink\" contentScriptType=\"application/ecmascript\" contentStyleType=\"text/css\" height=\"12px\" preserveAspectRatio=\"none\" style=\"width:12px;height:12px;\" version=\"1.1\" viewBox=\"0 0 12 12\" width=\"12px\" zoomAndPan=\"magnify\"><defs/><g><!--MD5=[aeeef50f102b80d730deb6443d14f702]\n",
       "@startuml\r\n",
       "skinparam wrapWidth 300\r\n",
       "hide circle\r\n",
       "\r\n",
       "@enduml\r\n",
       "\n",
       "PlantUML version 1.2020.13(Sat Jun 13 12:26:38 UTC 2020)\n",
       "(EPL source distribution)\n",
       "Java Runtime: OpenJDK Runtime Environment\n",
       "JVM: OpenJDK 64-Bit Server VM\n",
       "Default Encoding: UTF-8\n",
       "Language: en\n",
       "Country: null\n",
       "--></g></svg>"
      ]
     },
     "execution_count": 25,
     "metadata": {},
     "output_type": "execute_result"
    }
   ],
   "source": [
    "%viz --style=\"STDCOLOR\" --view=\"State\" \"QualifiedNameImportTest\""
   ]
  },
  {
   "cell_type": "code",
   "execution_count": 26,
   "id": "e7cf16e4",
   "metadata": {
    "execution": {
     "iopub.execute_input": "2022-02-05T16:55:52.807941Z",
     "iopub.status.busy": "2022-02-05T16:55:52.807535Z",
     "iopub.status.idle": "2022-02-05T16:55:52.835248Z",
     "shell.execute_reply": "2022-02-05T16:55:52.834877Z"
    }
   },
   "outputs": [
    {
     "data": {
      "image/svg+xml": [
       "<?xml version=\"1.0\" encoding=\"UTF-8\" standalone=\"no\"?><svg xmlns=\"http://www.w3.org/2000/svg\" xmlns:xlink=\"http://www.w3.org/1999/xlink\" contentScriptType=\"application/ecmascript\" contentStyleType=\"text/css\" height=\"189px\" preserveAspectRatio=\"none\" style=\"width:379px;height:189px;\" version=\"1.1\" viewBox=\"0 0 379 189\" width=\"379px\" zoomAndPan=\"magnify\"><defs><filter height=\"300%\" id=\"fdgak7de5ohvy\" width=\"300%\" x=\"-1\" y=\"-1\"><feGaussianBlur result=\"blurOut\" stdDeviation=\"2.0\"/><feColorMatrix in=\"blurOut\" result=\"blurOut2\" type=\"matrix\" values=\"0 0 0 0 0 0 0 0 0 0 0 0 0 0 0 0 0 0 .4 0\"/><feOffset dx=\"4.0\" dy=\"4.0\" in=\"blurOut2\" result=\"blurOut3\"/><feBlend in=\"SourceGraphic\" in2=\"blurOut3\" mode=\"normal\"/></filter></defs><g><!--MD5=[fbc87193dbaf4d95561dea2c320d4a47]\n",
       "cluster E1--><a href=\"psysml:3ae9698c-7b02-4bda-a9f9-90d299fbd69b\" target=\"_top\" title=\"psysml:3ae9698c-7b02-4bda-a9f9-90d299fbd69b\" xlink:actuate=\"onRequest\" xlink:href=\"psysml:3ae9698c-7b02-4bda-a9f9-90d299fbd69b\" xlink:show=\"new\" xlink:title=\"psysml:3ae9698c-7b02-4bda-a9f9-90d299fbd69b\" xlink:type=\"simple\"><polygon fill=\"#FFFFFF\" filter=\"url(#fdgak7de5ohvy)\" points=\"16,6,196,6,203,28.2969,357,28.2969,357,177,16,177,16,6\" style=\"stroke: #000000; stroke-width: 1.5;\"/><line style=\"stroke: #000000; stroke-width: 1.5;\" x1=\"16\" x2=\"203\" y1=\"28.2969\" y2=\"28.2969\"/><text fill=\"#000000\" font-family=\"sans-serif\" font-size=\"14\" font-weight=\"bold\" lengthAdjust=\"spacingAndGlyphs\" textLength=\"174\" x=\"20\" y=\"20.9951\">QualifiedNameImportTest</text></a><!--MD5=[e4f7fae6ed58524ba242bb0b0d3be6b7]\n",
       "cluster E2--><a href=\"psysml:1cd01716-9110-4b9f-8aee-0302fbd4d98f\" target=\"_top\" title=\"psysml:1cd01716-9110-4b9f-8aee-0302fbd4d98f\" xlink:actuate=\"onRequest\" xlink:href=\"psysml:1cd01716-9110-4b9f-8aee-0302fbd4d98f\" xlink:show=\"new\" xlink:title=\"psysml:1cd01716-9110-4b9f-8aee-0302fbd4d98f\" xlink:type=\"simple\"><polygon fill=\"#FFFFFF\" filter=\"url(#fdgak7de5ohvy)\" points=\"227,54,251,54,258,76.2969,333,76.2969,333,148,227,148,227,54\" style=\"stroke: #000000; stroke-width: 1.5;\"/><line style=\"stroke: #000000; stroke-width: 1.5;\" x1=\"227\" x2=\"258\" y1=\"76.2969\" y2=\"76.2969\"/><text fill=\"#000000\" font-family=\"sans-serif\" font-size=\"14\" font-weight=\"bold\" lengthAdjust=\"spacingAndGlyphs\" textLength=\"18\" x=\"231\" y=\"68.9951\">P1</text></a><!--MD5=[f6df4d0ebaf0b5dfb2ced0ae5af7c670]\n",
       "cluster E4--><a href=\"psysml:41fe529f-0d81-4eb7-adf7-d3411e3f84fb\" target=\"_top\" title=\"psysml:41fe529f-0d81-4eb7-adf7-d3411e3f84fb\" xlink:actuate=\"onRequest\" xlink:href=\"psysml:41fe529f-0d81-4eb7-adf7-d3411e3f84fb\" xlink:show=\"new\" xlink:title=\"psysml:41fe529f-0d81-4eb7-adf7-d3411e3f84fb\" xlink:type=\"simple\"><polygon fill=\"#FFFFFF\" filter=\"url(#fdgak7de5ohvy)\" points=\"40,49,64,49,71,71.2969,203,71.2969,203,153,40,153,40,49\" style=\"stroke: #000000; stroke-width: 1.5;\"/><line style=\"stroke: #000000; stroke-width: 1.5;\" x1=\"40\" x2=\"71\" y1=\"71.2969\" y2=\"71.2969\"/><text fill=\"#000000\" font-family=\"sans-serif\" font-size=\"14\" font-weight=\"bold\" lengthAdjust=\"spacingAndGlyphs\" textLength=\"18\" x=\"44\" y=\"63.9951\">P2</text></a><g id=\"E1.E2.E3\"><a href=\"psysml:9b3dc75b-1d88-4bb0-99bb-db4dbafde32b\" target=\"_top\" title=\"psysml:9b3dc75b-1d88-4bb0-99bb-db4dbafde32b\" xlink:actuate=\"onRequest\" xlink:href=\"psysml:9b3dc75b-1d88-4bb0-99bb-db4dbafde32b\" xlink:show=\"new\" xlink:title=\"psysml:9b3dc75b-1d88-4bb0-99bb-db4dbafde32b\" xlink:type=\"simple\"><rect fill=\"#FEFECE\" filter=\"url(#fdgak7de5ohvy)\" height=\"42.9375\" id=\"E3\" style=\"stroke: #A80036; stroke-width: 1.5;\" width=\"75\" x=\"242.5\" y=\"89\"/><text fill=\"#000000\" font-family=\"sans-serif\" font-size=\"12\" font-style=\"italic\" lengthAdjust=\"spacingAndGlyphs\" textLength=\"68\" x=\"246\" y=\"105.1387\">«part  def»</text><text fill=\"#000000\" font-family=\"sans-serif\" font-size=\"12\" lengthAdjust=\"spacingAndGlyphs\" textLength=\"8\" x=\"276\" y=\"119.1074\">A</text></a></g><a href=\"psysml:f3db2951-3782-436b-a6ad-64914b64a485\" target=\"_top\" title=\"psysml:f3db2951-3782-436b-a6ad-64914b64a485\" xlink:actuate=\"onRequest\" xlink:href=\"psysml:f3db2951-3782-436b-a6ad-64914b64a485\" xlink:show=\"new\" xlink:title=\"psysml:f3db2951-3782-436b-a6ad-64914b64a485\" xlink:type=\"simple\"><polygon fill=\"#FFFFFF\" filter=\"url(#fdgak7de5ohvy)\" points=\"141,84,173,84,180,106.2969,187,106.2969,187,136.5938,141,136.5938,141,84\" style=\"stroke: #000000; stroke-width: 1.5;\"/><line style=\"stroke: #000000; stroke-width: 1.5;\" x1=\"141\" x2=\"180\" y1=\"106.2969\" y2=\"106.2969\"/><text fill=\"#000000\" font-family=\"sans-serif\" font-size=\"14\" font-weight=\"bold\" lengthAdjust=\"spacingAndGlyphs\" textLength=\"26\" x=\"145\" y=\"98.9951\">P2a</text></a><g id=\"E1.E4.E6\"><a href=\"psysml:06f81dae-fa7a-4401-9cfd-15cc868431a4\" target=\"_top\" title=\"psysml:06f81dae-fa7a-4401-9cfd-15cc868431a4\" xlink:actuate=\"onRequest\" xlink:href=\"psysml:06f81dae-fa7a-4401-9cfd-15cc868431a4\" xlink:show=\"new\" xlink:title=\"psysml:06f81dae-fa7a-4401-9cfd-15cc868431a4\" xlink:type=\"simple\"><rect fill=\"#FEFECE\" filter=\"url(#fdgak7de5ohvy)\" height=\"40\" id=\"E6\" rx=\"10\" ry=\"10\" style=\"stroke: #A80036; stroke-width: 1.5;\" width=\"50\" x=\"56\" y=\"90.5\"/><text fill=\"#000000\" font-family=\"sans-serif\" font-size=\"12\" lengthAdjust=\"spacingAndGlyphs\" textLength=\"22\" x=\"70\" y=\"106.6387\">x: A</text></a></g><!--MD5=[5bc6c7e68f2a01a1313f1ffcc220814e]\n",
       "@startuml\r\n",
       "skinparam ranksep 10\r\n",
       "skinparam rectangle {\r\n",
       " backgroundColor<<block>> LightGreen\r\n",
       "}\r\n",
       "skinparam wrapWidth 300\r\n",
       "hide circle\r\n",
       "\r\n",
       "package \"QualifiedNameImportTest\" as E1  [[psysml:3ae9698c-7b02-4bda-a9f9-90d299fbd69b ]]  {\r\n",
       "package \"P1\" as E2  [[psysml:1cd01716-9110-4b9f-8aee-0302fbd4d98f ]]  {\r\n",
       "rec def \"A\" as E3  <<(T,blue) part  def>> [[psysml:9b3dc75b-1d88-4bb0-99bb-db4dbafde32b ]] {\r\n",
       "}\r\n",
       "}\r\n",
       "package \"P2\" as E4  [[psysml:41fe529f-0d81-4eb7-adf7-d3411e3f84fb ]]  {\r\n",
       "package \"P2a\" as E5  [[psysml:f3db2951-3782-436b-a6ad-64914b64a485 ]]  {\r\n",
       "}\r\n",
       "rec usage \"x: A\" as E6  [[psysml:06f81dae-fa7a-4401-9cfd-15cc868431a4 ]] {\r\n",
       "}\r\n",
       "}\r\n",
       "}\r\n",
       "@enduml\r\n",
       "\n",
       "PlantUML version 1.2020.13(Sat Jun 13 12:26:38 UTC 2020)\n",
       "(EPL source distribution)\n",
       "Java Runtime: OpenJDK Runtime Environment\n",
       "JVM: OpenJDK 64-Bit Server VM\n",
       "Default Encoding: UTF-8\n",
       "Language: en\n",
       "Country: null\n",
       "--></g></svg>"
      ]
     },
     "execution_count": 26,
     "metadata": {},
     "output_type": "execute_result"
    }
   ],
   "source": [
    "%viz --style=\"STDCOLOR\" --view=\"Interconnection\" \"QualifiedNameImportTest\""
   ]
  },
  {
   "cell_type": "code",
   "execution_count": 27,
   "id": "5387f6d8",
   "metadata": {
    "execution": {
     "iopub.execute_input": "2022-02-05T16:55:52.884844Z",
     "iopub.status.busy": "2022-02-05T16:55:52.884431Z",
     "iopub.status.idle": "2022-02-05T16:55:52.889127Z",
     "shell.execute_reply": "2022-02-05T16:55:52.889440Z"
    }
   },
   "outputs": [
    {
     "data": {
      "image/svg+xml": [
       "<?xml version=\"1.0\" encoding=\"UTF-8\" standalone=\"no\"?><svg xmlns=\"http://www.w3.org/2000/svg\" xmlns:xlink=\"http://www.w3.org/1999/xlink\" contentScriptType=\"application/ecmascript\" contentStyleType=\"text/css\" height=\"12px\" preserveAspectRatio=\"none\" style=\"width:12px;height:12px;\" version=\"1.1\" viewBox=\"0 0 12 12\" width=\"12px\" zoomAndPan=\"magnify\"><defs/><g><!--MD5=[9863325348a96a77dacc89509d8ee65e]\n",
       "@startuml\r\n",
       "skinparam ranksep 8\r\n",
       "skinparam wrapWidth 300\r\n",
       "hide circle\r\n",
       "\r\n",
       "@enduml\r\n",
       "\n",
       "PlantUML version 1.2020.13(Sat Jun 13 12:26:38 UTC 2020)\n",
       "(EPL source distribution)\n",
       "Java Runtime: OpenJDK Runtime Environment\n",
       "JVM: OpenJDK 64-Bit Server VM\n",
       "Default Encoding: UTF-8\n",
       "Language: en\n",
       "Country: null\n",
       "--></g></svg>"
      ]
     },
     "execution_count": 27,
     "metadata": {},
     "output_type": "execute_result"
    }
   ],
   "source": [
    "%viz --style=\"STDCOLOR\" --view=\"Action\" \"QualifiedNameImportTest\""
   ]
  },
  {
   "cell_type": "code",
   "execution_count": 28,
   "id": "097937bf",
   "metadata": {
    "execution": {
     "iopub.execute_input": "2022-02-05T16:55:52.939588Z",
     "iopub.status.busy": "2022-02-05T16:55:52.939149Z",
     "iopub.status.idle": "2022-02-05T16:55:52.944612Z",
     "shell.execute_reply": "2022-02-05T16:55:52.944271Z"
    }
   },
   "outputs": [
    {
     "data": {
      "image/svg+xml": [
       "<?xml version=\"1.0\" encoding=\"UTF-8\" standalone=\"no\"?><svg xmlns=\"http://www.w3.org/2000/svg\" xmlns:xlink=\"http://www.w3.org/1999/xlink\" contentScriptType=\"application/ecmascript\" contentStyleType=\"text/css\" height=\"12px\" preserveAspectRatio=\"none\" style=\"width:12px;height:12px;\" version=\"1.1\" viewBox=\"0 0 12 12\" width=\"12px\" zoomAndPan=\"magnify\"><defs/><g><!--MD5=[6c4bca67b4d71758159a5a7f1f1e1fc2]\n",
       "@startuml\r\n",
       "skinparam roundcorner 20\r\n",
       "skinparam BoxPadding 20\r\n",
       "skinparam SequenceBoxBackgroundColor #white\r\n",
       "skinparam style strictuml\r\n",
       "skinparam maxMessageSize 100\r\n",
       "skinparam wrapWidth 300\r\n",
       "hide circle\r\n",
       "\r\n",
       "@enduml\r\n",
       "\n",
       "PlantUML version 1.2020.13(Sat Jun 13 12:26:38 UTC 2020)\n",
       "(EPL source distribution)\n",
       "Java Runtime: OpenJDK Runtime Environment\n",
       "JVM: OpenJDK 64-Bit Server VM\n",
       "Default Encoding: UTF-8\n",
       "Language: en\n",
       "Country: null\n",
       "--></g></svg>"
      ]
     },
     "execution_count": 28,
     "metadata": {},
     "output_type": "execute_result"
    }
   ],
   "source": [
    "%viz --style=\"STDCOLOR\" --view=\"Sequence\" \"QualifiedNameImportTest\""
   ]
  },
  {
   "cell_type": "code",
   "execution_count": 29,
   "id": "ca98ab3e",
   "metadata": {
    "execution": {
     "iopub.execute_input": "2022-02-05T16:55:52.994599Z",
     "iopub.status.busy": "2022-02-05T16:55:52.994185Z",
     "iopub.status.idle": "2022-02-05T16:55:53.023424Z",
     "shell.execute_reply": "2022-02-05T16:55:53.023047Z"
    }
   },
   "outputs": [
    {
     "data": {
      "image/svg+xml": [
       "<?xml version=\"1.0\" encoding=\"UTF-8\" standalone=\"no\"?><svg xmlns=\"http://www.w3.org/2000/svg\" xmlns:xlink=\"http://www.w3.org/1999/xlink\" contentScriptType=\"application/ecmascript\" contentStyleType=\"text/css\" height=\"310px\" preserveAspectRatio=\"none\" style=\"width:241px;height:310px;\" version=\"1.1\" viewBox=\"0 0 241 310\" width=\"241px\" zoomAndPan=\"magnify\"><defs><filter height=\"300%\" id=\"fe1suw7pc38gy\" width=\"300%\" x=\"-1\" y=\"-1\"><feGaussianBlur result=\"blurOut\" stdDeviation=\"2.0\"/><feColorMatrix in=\"blurOut\" result=\"blurOut2\" type=\"matrix\" values=\"0 0 0 0 0 0 0 0 0 0 0 0 0 0 0 0 0 0 .4 0\"/><feOffset dx=\"4.0\" dy=\"4.0\" in=\"blurOut2\" result=\"blurOut3\"/><feBlend in=\"SourceGraphic\" in2=\"blurOut3\" mode=\"normal\"/></filter></defs><g><!--MD5=[fbc87193dbaf4d95561dea2c320d4a47]\n",
       "cluster E1--><a href=\"psysml:3ae9698c-7b02-4bda-a9f9-90d299fbd69b\" target=\"_top\" title=\"psysml:3ae9698c-7b02-4bda-a9f9-90d299fbd69b\" xlink:actuate=\"onRequest\" xlink:href=\"psysml:3ae9698c-7b02-4bda-a9f9-90d299fbd69b\" xlink:show=\"new\" xlink:title=\"psysml:3ae9698c-7b02-4bda-a9f9-90d299fbd69b\" xlink:type=\"simple\"><polygon fill=\"#FFFFFF\" filter=\"url(#fe1suw7pc38gy)\" points=\"16,6,196,6,203,28.2969,219,28.2969,219,298,16,298,16,6\" style=\"stroke: #000000; stroke-width: 1.5;\"/><line style=\"stroke: #000000; stroke-width: 1.5;\" x1=\"16\" x2=\"203\" y1=\"28.2969\" y2=\"28.2969\"/><text fill=\"#000000\" font-family=\"sans-serif\" font-size=\"14\" font-weight=\"bold\" lengthAdjust=\"spacingAndGlyphs\" textLength=\"174\" x=\"20\" y=\"20.9951\">QualifiedNameImportTest</text></a><!--MD5=[e4f7fae6ed58524ba242bb0b0d3be6b7]\n",
       "cluster E2--><a href=\"psysml:1cd01716-9110-4b9f-8aee-0302fbd4d98f\" target=\"_top\" title=\"psysml:1cd01716-9110-4b9f-8aee-0302fbd4d98f\" xlink:actuate=\"onRequest\" xlink:href=\"psysml:1cd01716-9110-4b9f-8aee-0302fbd4d98f\" xlink:show=\"new\" xlink:title=\"psysml:1cd01716-9110-4b9f-8aee-0302fbd4d98f\" xlink:type=\"simple\"><polygon fill=\"#FFFFFF\" filter=\"url(#fe1suw7pc38gy)\" points=\"93,177,117,177,124,199.2969,195,199.2969,195,274,93,274,93,177\" style=\"stroke: #000000; stroke-width: 1.5;\"/><line style=\"stroke: #000000; stroke-width: 1.5;\" x1=\"93\" x2=\"124\" y1=\"199.2969\" y2=\"199.2969\"/><text fill=\"#000000\" font-family=\"sans-serif\" font-size=\"14\" font-weight=\"bold\" lengthAdjust=\"spacingAndGlyphs\" textLength=\"18\" x=\"97\" y=\"191.9951\">P1</text></a><!--MD5=[f6df4d0ebaf0b5dfb2ced0ae5af7c670]\n",
       "cluster E4--><a href=\"psysml:41fe529f-0d81-4eb7-adf7-d3411e3f84fb\" target=\"_top\" title=\"psysml:41fe529f-0d81-4eb7-adf7-d3411e3f84fb\" xlink:actuate=\"onRequest\" xlink:href=\"psysml:41fe529f-0d81-4eb7-adf7-d3411e3f84fb\" xlink:show=\"new\" xlink:title=\"psysml:41fe529f-0d81-4eb7-adf7-d3411e3f84fb\" xlink:type=\"simple\"><polygon fill=\"#FFFFFF\" filter=\"url(#fe1suw7pc38gy)\" points=\"40,49,64,49,71,71.2969,195,71.2969,195,153,40,153,40,49\" style=\"stroke: #000000; stroke-width: 1.5;\"/><line style=\"stroke: #000000; stroke-width: 1.5;\" x1=\"40\" x2=\"71\" y1=\"71.2969\" y2=\"71.2969\"/><text fill=\"#000000\" font-family=\"sans-serif\" font-size=\"14\" font-weight=\"bold\" lengthAdjust=\"spacingAndGlyphs\" textLength=\"18\" x=\"44\" y=\"63.9951\">P2</text></a><!--MD5=[09b614a08d8cba4a07c9adeb5e0fee81]\n",
       "class E3--><a href=\"psysml:9b3dc75b-1d88-4bb0-99bb-db4dbafde32b\" target=\"_top\" title=\"psysml:9b3dc75b-1d88-4bb0-99bb-db4dbafde32b\" xlink:actuate=\"onRequest\" xlink:href=\"psysml:9b3dc75b-1d88-4bb0-99bb-db4dbafde32b\" xlink:show=\"new\" xlink:title=\"psysml:9b3dc75b-1d88-4bb0-99bb-db4dbafde32b\" xlink:type=\"simple\"><rect fill=\"#FEFECE\" filter=\"url(#fe1suw7pc38gy)\" height=\"45.9375\" id=\"E3\" style=\"stroke: #A80036; stroke-width: 1.5;\" width=\"70\" x=\"109\" y=\"212\"/><text fill=\"#000000\" font-family=\"sans-serif\" font-size=\"12\" font-style=\"italic\" lengthAdjust=\"spacingAndGlyphs\" textLength=\"68\" x=\"110\" y=\"228.1387\">«part  def»</text><text fill=\"#000000\" font-family=\"sans-serif\" font-size=\"12\" lengthAdjust=\"spacingAndGlyphs\" textLength=\"8\" x=\"140\" y=\"242.1074\">A</text><line style=\"stroke: #A80036; stroke-width: 1.5;\" x1=\"110\" x2=\"178\" y1=\"249.9375\" y2=\"249.9375\"/></a><!--MD5=[60a26617385b1d2d0262a64233df1f8d]\n",
       "class E6--><a href=\"psysml:06f81dae-fa7a-4401-9cfd-15cc868431a4\" target=\"_top\" title=\"psysml:06f81dae-fa7a-4401-9cfd-15cc868431a4\" xlink:actuate=\"onRequest\" xlink:href=\"psysml:06f81dae-fa7a-4401-9cfd-15cc868431a4\" xlink:show=\"new\" xlink:title=\"psysml:06f81dae-fa7a-4401-9cfd-15cc868431a4\" xlink:type=\"simple\"><rect fill=\"#FEFECE\" filter=\"url(#fe1suw7pc38gy)\" height=\"45.9375\" id=\"E6\" rx=\"10\" ry=\"10\" style=\"stroke: #A80036; stroke-width: 1.5;\" width=\"42\" x=\"137\" y=\"87.5\"/><text fill=\"#000000\" font-family=\"sans-serif\" font-size=\"12\" font-style=\"italic\" lengthAdjust=\"spacingAndGlyphs\" textLength=\"40\" x=\"138\" y=\"103.6387\">«part»</text><text fill=\"#000000\" font-family=\"sans-serif\" font-size=\"12\" lengthAdjust=\"spacingAndGlyphs\" textLength=\"22\" x=\"145\" y=\"117.6074\">x: A</text><line style=\"stroke: #A80036; stroke-width: 1.5;\" x1=\"138\" x2=\"178\" y1=\"125.4375\" y2=\"125.4375\"/></a><a href=\"psysml:f3db2951-3782-436b-a6ad-64914b64a485\" target=\"_top\" title=\"psysml:f3db2951-3782-436b-a6ad-64914b64a485\" xlink:actuate=\"onRequest\" xlink:href=\"psysml:f3db2951-3782-436b-a6ad-64914b64a485\" xlink:show=\"new\" xlink:title=\"psysml:f3db2951-3782-436b-a6ad-64914b64a485\" xlink:type=\"simple\"><polygon fill=\"#FFFFFF\" filter=\"url(#fe1suw7pc38gy)\" points=\"56,84,88,84,95,106.2969,102,106.2969,102,136.5938,56,136.5938,56,84\" style=\"stroke: #000000; stroke-width: 1.5;\"/><line style=\"stroke: #000000; stroke-width: 1.5;\" x1=\"56\" x2=\"95\" y1=\"106.2969\" y2=\"106.2969\"/><text fill=\"#000000\" font-family=\"sans-serif\" font-size=\"14\" font-weight=\"bold\" lengthAdjust=\"spacingAndGlyphs\" textLength=\"26\" x=\"60\" y=\"98.9951\">P2a</text></a><!--MD5=[a717450b82c80b9240a525fa862496af]\n",
       "link E6 to E3--><a href=\"psysml:7ae3fb41-5537-4752-a539-fb13bd5d368f\" target=\"_top\" title=\"psysml:7ae3fb41-5537-4752-a539-fb13bd5d368f\" xlink:actuate=\"onRequest\" xlink:href=\"psysml:7ae3fb41-5537-4752-a539-fb13bd5d368f\" xlink:show=\"new\" xlink:title=\"psysml:7ae3fb41-5537-4752-a539-fb13bd5d368f\" xlink:type=\"simple\"><path d=\"M155.46,133.68 C153.61,149.9 151.04,172.39 148.8,191.96 \" fill=\"none\" id=\"E6-&gt;E3\" style=\"stroke: #A80036; stroke-width: 1.0;\"/><polygon fill=\"#FFFFFF\" points=\"146.52,211.98,141.7231,192.308,155.6325,193.8979,146.52,211.98\" style=\"stroke: #A80036; stroke-width: 1.0;\"/><ellipse cx=\"144.3574\" cy=\"186.872\" fill=\"#A80036\" rx=\"2\" ry=\"2\" style=\"stroke: #A80036; stroke-width: 1.0;\"/><ellipse cx=\"154.2928\" cy=\"188.0076\" fill=\"#A80036\" rx=\"2\" ry=\"2\" style=\"stroke: #A80036; stroke-width: 1.0;\"/></a><!--MD5=[d14f27fa922d99dedbef5009c035adf4]\n",
       "@startuml\r\n",
       "skinparam wrapWidth 300\r\n",
       "hide circle\r\n",
       "\r\n",
       "package \"QualifiedNameImportTest\" as E1  [[psysml:3ae9698c-7b02-4bda-a9f9-90d299fbd69b ]]  {\r\n",
       "package \"P1\" as E2  [[psysml:1cd01716-9110-4b9f-8aee-0302fbd4d98f ]]  {\r\n",
       "comp def \"A\" as E3  <<(T,blue) part  def>> [[psysml:9b3dc75b-1d88-4bb0-99bb-db4dbafde32b ]] {\r\n",
       "}\r\n",
       "}\r\n",
       "package \"P2\" as E4  [[psysml:41fe529f-0d81-4eb7-adf7-d3411e3f84fb ]]  {\r\n",
       "package \"P2a\" as E5  [[psysml:f3db2951-3782-436b-a6ad-64914b64a485 ]]  {\r\n",
       "}\r\n",
       "comp usage \"x: A \" as E6  <<(T,blue) part>> [[psysml:06f81dae-fa7a-4401-9cfd-15cc868431a4 ]] {\r\n",
       "}\r\n",
       "}\r\n",
       "}\r\n",
       "E6 - -:|> E3 [[psysml:7ae3fb41-5537-4752-a539-fb13bd5d368f ]] \r\n",
       "@enduml\r\n",
       "\n",
       "PlantUML version 1.2020.13(Sat Jun 13 12:26:38 UTC 2020)\n",
       "(EPL source distribution)\n",
       "Java Runtime: OpenJDK Runtime Environment\n",
       "JVM: OpenJDK 64-Bit Server VM\n",
       "Default Encoding: UTF-8\n",
       "Language: en\n",
       "Country: null\n",
       "--></g></svg>"
      ]
     },
     "execution_count": 29,
     "metadata": {},
     "output_type": "execute_result"
    }
   ],
   "source": [
    "%viz --style=\"STDCOLOR\" --view=\"MIXED\" \"QualifiedNameImportTest\""
   ]
  },
  {
   "cell_type": "code",
   "execution_count": 30,
   "id": "e13af1ab",
   "metadata": {
    "execution": {
     "iopub.execute_input": "2022-02-05T16:55:53.072937Z",
     "iopub.status.busy": "2022-02-05T16:55:53.072532Z",
     "iopub.status.idle": "2022-02-05T16:55:53.122775Z",
     "shell.execute_reply": "2022-02-05T16:55:53.122411Z"
    }
   },
   "outputs": [
    {
     "data": {
      "image/svg+xml": [
       "<?xml version=\"1.0\" encoding=\"UTF-8\" standalone=\"no\"?><svg xmlns=\"http://www.w3.org/2000/svg\" xmlns:xlink=\"http://www.w3.org/1999/xlink\" contentScriptType=\"application/ecmascript\" contentStyleType=\"text/css\" height=\"304px\" preserveAspectRatio=\"none\" style=\"width:267px;height:304px;\" version=\"1.1\" viewBox=\"0 0 267 304\" width=\"267px\" zoomAndPan=\"magnify\"><defs><filter height=\"300%\" id=\"f1kmi2ssm6yi0q\" width=\"300%\" x=\"-1\" y=\"-1\"><feGaussianBlur result=\"blurOut\" stdDeviation=\"2.0\"/><feColorMatrix in=\"blurOut\" result=\"blurOut2\" type=\"matrix\" values=\"0 0 0 0 0 0 0 0 0 0 0 0 0 0 0 0 0 0 .4 0\"/><feOffset dx=\"4.0\" dy=\"4.0\" in=\"blurOut2\" result=\"blurOut3\"/><feBlend in=\"SourceGraphic\" in2=\"blurOut3\" mode=\"normal\"/></filter></defs><g><!--MD5=[fbc87193dbaf4d95561dea2c320d4a47]\n",
       "cluster E1--><a href=\"psysml:3ae9698c-7b02-4bda-a9f9-90d299fbd69b\" target=\"_top\" title=\"psysml:3ae9698c-7b02-4bda-a9f9-90d299fbd69b\" xlink:actuate=\"onRequest\" xlink:href=\"psysml:3ae9698c-7b02-4bda-a9f9-90d299fbd69b\" xlink:show=\"new\" xlink:title=\"psysml:3ae9698c-7b02-4bda-a9f9-90d299fbd69b\" xlink:type=\"simple\"><polygon fill=\"#FFFFFF\" filter=\"url(#f1kmi2ssm6yi0q)\" points=\"16,6,196,6,203,28.2969,245,28.2969,245,292,16,292,16,6\" style=\"stroke: #000000; stroke-width: 1.5;\"/><line style=\"stroke: #000000; stroke-width: 1.5;\" x1=\"16\" x2=\"203\" y1=\"28.2969\" y2=\"28.2969\"/><text fill=\"#000000\" font-family=\"sans-serif\" font-size=\"14\" font-weight=\"bold\" lengthAdjust=\"spacingAndGlyphs\" textLength=\"174\" x=\"20\" y=\"20.9951\">QualifiedNameImportTest</text></a><!--MD5=[e4f7fae6ed58524ba242bb0b0d3be6b7]\n",
       "cluster E2--><a href=\"psysml:1cd01716-9110-4b9f-8aee-0302fbd4d98f\" target=\"_top\" title=\"psysml:1cd01716-9110-4b9f-8aee-0302fbd4d98f\" xlink:actuate=\"onRequest\" xlink:href=\"psysml:1cd01716-9110-4b9f-8aee-0302fbd4d98f\" xlink:show=\"new\" xlink:title=\"psysml:1cd01716-9110-4b9f-8aee-0302fbd4d98f\" xlink:type=\"simple\"><polygon fill=\"#FFFFFF\" filter=\"url(#f1kmi2ssm6yi0q)\" points=\"135,177,159,177,166,199.2969,207,199.2969,207,268,135,268,135,177\" style=\"stroke: #000000; stroke-width: 1.5;\"/><line style=\"stroke: #000000; stroke-width: 1.5;\" x1=\"135\" x2=\"166\" y1=\"199.2969\" y2=\"199.2969\"/><text fill=\"#000000\" font-family=\"sans-serif\" font-size=\"14\" font-weight=\"bold\" lengthAdjust=\"spacingAndGlyphs\" textLength=\"18\" x=\"139\" y=\"191.9951\">P1</text></a><!--MD5=[f6df4d0ebaf0b5dfb2ced0ae5af7c670]\n",
       "cluster E4--><a href=\"psysml:41fe529f-0d81-4eb7-adf7-d3411e3f84fb\" target=\"_top\" title=\"psysml:41fe529f-0d81-4eb7-adf7-d3411e3f84fb\" xlink:actuate=\"onRequest\" xlink:href=\"psysml:41fe529f-0d81-4eb7-adf7-d3411e3f84fb\" xlink:show=\"new\" xlink:title=\"psysml:41fe529f-0d81-4eb7-adf7-d3411e3f84fb\" xlink:type=\"simple\"><polygon fill=\"#FFFFFF\" filter=\"url(#f1kmi2ssm6yi0q)\" points=\"40,49,64,49,71,71.2969,221,71.2969,221,153,40,153,40,49\" style=\"stroke: #000000; stroke-width: 1.5;\"/><line style=\"stroke: #000000; stroke-width: 1.5;\" x1=\"40\" x2=\"71\" y1=\"71.2969\" y2=\"71.2969\"/><text fill=\"#000000\" font-family=\"sans-serif\" font-size=\"14\" font-weight=\"bold\" lengthAdjust=\"spacingAndGlyphs\" textLength=\"18\" x=\"44\" y=\"63.9951\">P2</text></a><!--MD5=[09b614a08d8cba4a07c9adeb5e0fee81]\n",
       "class E3--><a href=\"psysml:9b3dc75b-1d88-4bb0-99bb-db4dbafde32b\" target=\"_top\" title=\"psysml:9b3dc75b-1d88-4bb0-99bb-db4dbafde32b\" xlink:actuate=\"onRequest\" xlink:href=\"psysml:9b3dc75b-1d88-4bb0-99bb-db4dbafde32b\" xlink:show=\"new\" xlink:title=\"psysml:9b3dc75b-1d88-4bb0-99bb-db4dbafde32b\" xlink:type=\"simple\"><rect fill=\"#FEFECE\" filter=\"url(#f1kmi2ssm6yi0q)\" height=\"40\" id=\"E3\" style=\"stroke: #A80036; stroke-width: 1.5;\" width=\"40\" x=\"151\" y=\"212\"/><ellipse cx=\"166\" cy=\"228\" fill=\"#008000\" rx=\"11\" ry=\"11\" style=\"stroke: #A80036; stroke-width: 1.0;\"/><path d=\"M162.875,233 L162.875,222.4063 L166.1094,222.4063 Q168.0156,222.4063 168.9219,223.1563 Q169.8438,223.9063 169.8438,225.0781 Q169.8438,225.7656 169.4531,226.4219 Q169.0781,227.0781 168.3594,227.375 Q169.2188,227.75 169.7344,228.4375 Q170.25,229.125 170.25,229.9375 Q170.25,231.3125 169.2188,232.1563 Q168.2031,233 166.0938,233 L162.875,233 Z M164.7969,226.6406 L165.9531,226.6406 Q167.0781,226.6406 167.4844,226.2656 Q167.9063,225.875 167.9063,225.25 Q167.9063,224.6719 167.4844,224.3125 Q167.0625,223.9531 166.125,223.9531 L164.7969,223.9531 L164.7969,226.6406 Z M164.7969,231.4219 L166.2969,231.4219 Q167.2031,231.4219 167.7344,231.0313 Q168.2656,230.6406 168.2656,229.8906 Q168.2656,229.125 167.7656,228.6563 Q167.2656,228.1719 166,228.1719 L164.7969,228.1719 L164.7969,231.4219 Z \"/><text fill=\"#000000\" font-family=\"sans-serif\" font-size=\"12\" lengthAdjust=\"spacingAndGlyphs\" textLength=\"8\" x=\"180\" y=\"232.1543\">A</text><line style=\"stroke: #A80036; stroke-width: 1.5;\" x1=\"152\" x2=\"190\" y1=\"244\" y2=\"244\"/></a><!--MD5=[60a26617385b1d2d0262a64233df1f8d]\n",
       "class E6--><a href=\"psysml:06f81dae-fa7a-4401-9cfd-15cc868431a4\" target=\"_top\" title=\"psysml:06f81dae-fa7a-4401-9cfd-15cc868431a4\" xlink:actuate=\"onRequest\" xlink:href=\"psysml:06f81dae-fa7a-4401-9cfd-15cc868431a4\" xlink:show=\"new\" xlink:title=\"psysml:06f81dae-fa7a-4401-9cfd-15cc868431a4\" xlink:type=\"simple\"><rect fill=\"#FEFECE\" filter=\"url(#f1kmi2ssm6yi0q)\" height=\"45.9375\" id=\"E6\" rx=\"10\" ry=\"10\" style=\"stroke: #A80036; stroke-width: 1.5;\" width=\"68\" x=\"137\" y=\"87.5\"/><ellipse cx=\"152\" cy=\"106.4688\" fill=\"#32CD32\" rx=\"11\" ry=\"11\" style=\"stroke: #A80036; stroke-width: 1.0;\"/><path d=\"M148.8125,111.4688 L148.8125,100.875 L152.4219,100.875 Q153.6406,100.875 154.4375,101.3125 Q155.2344,101.7344 155.6094,102.4375 Q156,103.1406 156,103.9844 Q156,104.8281 155.625,105.5156 Q155.2656,106.2031 154.4688,106.625 Q153.6875,107.0313 152.5,107.0313 L150.7656,107.0313 L150.7656,111.4688 L148.8125,111.4688 Z M150.7656,105.4375 L152.375,105.4375 Q153.1875,105.4375 153.6094,105.0313 Q154.0313,104.625 154.0313,103.9844 Q154.0313,103.3594 153.6094,102.9531 Q153.1875,102.5469 152.3906,102.5469 L150.7656,102.5469 L150.7656,105.4375 Z \"/><text fill=\"#000000\" font-family=\"sans-serif\" font-size=\"12\" font-style=\"italic\" lengthAdjust=\"spacingAndGlyphs\" textLength=\"40\" x=\"164\" y=\"103.6387\">«part»</text><text fill=\"#000000\" font-family=\"sans-serif\" font-size=\"12\" lengthAdjust=\"spacingAndGlyphs\" textLength=\"22\" x=\"171\" y=\"117.6074\">x: A</text><line style=\"stroke: #A80036; stroke-width: 1.5;\" x1=\"138\" x2=\"204\" y1=\"125.4375\" y2=\"125.4375\"/></a><a href=\"psysml:f3db2951-3782-436b-a6ad-64914b64a485\" target=\"_top\" title=\"psysml:f3db2951-3782-436b-a6ad-64914b64a485\" xlink:actuate=\"onRequest\" xlink:href=\"psysml:f3db2951-3782-436b-a6ad-64914b64a485\" xlink:show=\"new\" xlink:title=\"psysml:f3db2951-3782-436b-a6ad-64914b64a485\" xlink:type=\"simple\"><polygon fill=\"#FFFFFF\" filter=\"url(#f1kmi2ssm6yi0q)\" points=\"56,84,88,84,95,106.2969,102,106.2969,102,136.5938,56,136.5938,56,84\" style=\"stroke: #000000; stroke-width: 1.5;\"/><line style=\"stroke: #000000; stroke-width: 1.5;\" x1=\"56\" x2=\"95\" y1=\"106.2969\" y2=\"106.2969\"/><text fill=\"#000000\" font-family=\"sans-serif\" font-size=\"14\" font-weight=\"bold\" lengthAdjust=\"spacingAndGlyphs\" textLength=\"26\" x=\"60\" y=\"98.9951\">P2a</text></a><!--MD5=[a717450b82c80b9240a525fa862496af]\n",
       "link E6 to E3--><a href=\"psysml:7ae3fb41-5537-4752-a539-fb13bd5d368f\" target=\"_top\" title=\"psysml:7ae3fb41-5537-4752-a539-fb13bd5d368f\" xlink:actuate=\"onRequest\" xlink:href=\"psysml:7ae3fb41-5537-4752-a539-fb13bd5d368f\" xlink:show=\"new\" xlink:title=\"psysml:7ae3fb41-5537-4752-a539-fb13bd5d368f\" xlink:type=\"simple\"><path d=\"M171,133.7 C171,149.89 171,172.27 171,191.49 \" fill=\"none\" id=\"E6-&gt;E3\" style=\"stroke: #A80036; stroke-width: 1.0;\"/><polygon fill=\"#FFFFFF\" points=\"171,211.69,164,192.69,178,192.69,171,211.69\" style=\"stroke: #A80036; stroke-width: 1.0;\"/><ellipse cx=\"166\" cy=\"186.99\" fill=\"#A80036\" rx=\"2\" ry=\"2\" style=\"stroke: #A80036; stroke-width: 1.0;\"/><ellipse cx=\"176\" cy=\"186.99\" fill=\"#A80036\" rx=\"2\" ry=\"2\" style=\"stroke: #A80036; stroke-width: 1.0;\"/></a><!--MD5=[6a7a77077cfb1a4e39eb716777040263]\n",
       "@startuml\r\n",
       " \r\n",
       "package \"QualifiedNameImportTest\" as E1  [[psysml:3ae9698c-7b02-4bda-a9f9-90d299fbd69b ]]  {\r\n",
       "package \"P1\" as E2  [[psysml:1cd01716-9110-4b9f-8aee-0302fbd4d98f ]]  {\r\n",
       "comp def \"A\" as E3 << << (B,green) >> [[psysml:9b3dc75b-1d88-4bb0-99bb-db4dbafde32b ]] {\r\n",
       "}\r\n",
       "}\r\n",
       "package \"P2\" as E4  [[psysml:41fe529f-0d81-4eb7-adf7-d3411e3f84fb ]]  {\r\n",
       "package \"P2a\" as E5  [[psysml:f3db2951-3782-436b-a6ad-64914b64a485 ]]  {\r\n",
       "}\r\n",
       "comp usage \"x: A \" as E6 << << (P,limegreen) part>> [[psysml:06f81dae-fa7a-4401-9cfd-15cc868431a4 ]] {\r\n",
       "}\r\n",
       "}\r\n",
       "}\r\n",
       "E6 - -:|> E3 [[psysml:7ae3fb41-5537-4752-a539-fb13bd5d368f ]] \r\n",
       "@enduml\r\n",
       "\n",
       "PlantUML version 1.2020.13(Sat Jun 13 12:26:38 UTC 2020)\n",
       "(EPL source distribution)\n",
       "Java Runtime: OpenJDK Runtime Environment\n",
       "JVM: OpenJDK 64-Bit Server VM\n",
       "Default Encoding: UTF-8\n",
       "Language: en\n",
       "Country: null\n",
       "--></g></svg>"
      ]
     },
     "execution_count": 30,
     "metadata": {},
     "output_type": "execute_result"
    }
   ],
   "source": [
    "%viz --style=\"PLANTUML\" --view=\"Default\" \"QualifiedNameImportTest\""
   ]
  },
  {
   "cell_type": "code",
   "execution_count": 31,
   "id": "71de5a56",
   "metadata": {
    "execution": {
     "iopub.execute_input": "2022-02-05T16:55:53.172231Z",
     "iopub.status.busy": "2022-02-05T16:55:53.171824Z",
     "iopub.status.idle": "2022-02-05T16:55:53.201094Z",
     "shell.execute_reply": "2022-02-05T16:55:53.200730Z"
    }
   },
   "outputs": [
    {
     "data": {
      "image/svg+xml": [
       "<?xml version=\"1.0\" encoding=\"UTF-8\" standalone=\"no\"?><svg xmlns=\"http://www.w3.org/2000/svg\" xmlns:xlink=\"http://www.w3.org/1999/xlink\" contentScriptType=\"application/ecmascript\" contentStyleType=\"text/css\" height=\"304px\" preserveAspectRatio=\"none\" style=\"width:267px;height:304px;\" version=\"1.1\" viewBox=\"0 0 267 304\" width=\"267px\" zoomAndPan=\"magnify\"><defs><filter height=\"300%\" id=\"f1kmi2ssm6yi0q\" width=\"300%\" x=\"-1\" y=\"-1\"><feGaussianBlur result=\"blurOut\" stdDeviation=\"2.0\"/><feColorMatrix in=\"blurOut\" result=\"blurOut2\" type=\"matrix\" values=\"0 0 0 0 0 0 0 0 0 0 0 0 0 0 0 0 0 0 .4 0\"/><feOffset dx=\"4.0\" dy=\"4.0\" in=\"blurOut2\" result=\"blurOut3\"/><feBlend in=\"SourceGraphic\" in2=\"blurOut3\" mode=\"normal\"/></filter></defs><g><!--MD5=[fbc87193dbaf4d95561dea2c320d4a47]\n",
       "cluster E1--><a href=\"psysml:3ae9698c-7b02-4bda-a9f9-90d299fbd69b\" target=\"_top\" title=\"psysml:3ae9698c-7b02-4bda-a9f9-90d299fbd69b\" xlink:actuate=\"onRequest\" xlink:href=\"psysml:3ae9698c-7b02-4bda-a9f9-90d299fbd69b\" xlink:show=\"new\" xlink:title=\"psysml:3ae9698c-7b02-4bda-a9f9-90d299fbd69b\" xlink:type=\"simple\"><polygon fill=\"#FFFFFF\" filter=\"url(#f1kmi2ssm6yi0q)\" points=\"16,6,196,6,203,28.2969,245,28.2969,245,292,16,292,16,6\" style=\"stroke: #000000; stroke-width: 1.5;\"/><line style=\"stroke: #000000; stroke-width: 1.5;\" x1=\"16\" x2=\"203\" y1=\"28.2969\" y2=\"28.2969\"/><text fill=\"#000000\" font-family=\"sans-serif\" font-size=\"14\" font-weight=\"bold\" lengthAdjust=\"spacingAndGlyphs\" textLength=\"174\" x=\"20\" y=\"20.9951\">QualifiedNameImportTest</text></a><!--MD5=[e4f7fae6ed58524ba242bb0b0d3be6b7]\n",
       "cluster E2--><a href=\"psysml:1cd01716-9110-4b9f-8aee-0302fbd4d98f\" target=\"_top\" title=\"psysml:1cd01716-9110-4b9f-8aee-0302fbd4d98f\" xlink:actuate=\"onRequest\" xlink:href=\"psysml:1cd01716-9110-4b9f-8aee-0302fbd4d98f\" xlink:show=\"new\" xlink:title=\"psysml:1cd01716-9110-4b9f-8aee-0302fbd4d98f\" xlink:type=\"simple\"><polygon fill=\"#FFFFFF\" filter=\"url(#f1kmi2ssm6yi0q)\" points=\"135,177,159,177,166,199.2969,207,199.2969,207,268,135,268,135,177\" style=\"stroke: #000000; stroke-width: 1.5;\"/><line style=\"stroke: #000000; stroke-width: 1.5;\" x1=\"135\" x2=\"166\" y1=\"199.2969\" y2=\"199.2969\"/><text fill=\"#000000\" font-family=\"sans-serif\" font-size=\"14\" font-weight=\"bold\" lengthAdjust=\"spacingAndGlyphs\" textLength=\"18\" x=\"139\" y=\"191.9951\">P1</text></a><!--MD5=[f6df4d0ebaf0b5dfb2ced0ae5af7c670]\n",
       "cluster E4--><a href=\"psysml:41fe529f-0d81-4eb7-adf7-d3411e3f84fb\" target=\"_top\" title=\"psysml:41fe529f-0d81-4eb7-adf7-d3411e3f84fb\" xlink:actuate=\"onRequest\" xlink:href=\"psysml:41fe529f-0d81-4eb7-adf7-d3411e3f84fb\" xlink:show=\"new\" xlink:title=\"psysml:41fe529f-0d81-4eb7-adf7-d3411e3f84fb\" xlink:type=\"simple\"><polygon fill=\"#FFFFFF\" filter=\"url(#f1kmi2ssm6yi0q)\" points=\"40,49,64,49,71,71.2969,221,71.2969,221,153,40,153,40,49\" style=\"stroke: #000000; stroke-width: 1.5;\"/><line style=\"stroke: #000000; stroke-width: 1.5;\" x1=\"40\" x2=\"71\" y1=\"71.2969\" y2=\"71.2969\"/><text fill=\"#000000\" font-family=\"sans-serif\" font-size=\"14\" font-weight=\"bold\" lengthAdjust=\"spacingAndGlyphs\" textLength=\"18\" x=\"44\" y=\"63.9951\">P2</text></a><!--MD5=[09b614a08d8cba4a07c9adeb5e0fee81]\n",
       "class E3--><a href=\"psysml:9b3dc75b-1d88-4bb0-99bb-db4dbafde32b\" target=\"_top\" title=\"psysml:9b3dc75b-1d88-4bb0-99bb-db4dbafde32b\" xlink:actuate=\"onRequest\" xlink:href=\"psysml:9b3dc75b-1d88-4bb0-99bb-db4dbafde32b\" xlink:show=\"new\" xlink:title=\"psysml:9b3dc75b-1d88-4bb0-99bb-db4dbafde32b\" xlink:type=\"simple\"><rect fill=\"#FEFECE\" filter=\"url(#f1kmi2ssm6yi0q)\" height=\"40\" id=\"E3\" style=\"stroke: #A80036; stroke-width: 1.5;\" width=\"40\" x=\"151\" y=\"212\"/><ellipse cx=\"166\" cy=\"228\" fill=\"#008000\" rx=\"11\" ry=\"11\" style=\"stroke: #A80036; stroke-width: 1.0;\"/><path d=\"M162.875,233 L162.875,222.4063 L166.1094,222.4063 Q168.0156,222.4063 168.9219,223.1563 Q169.8438,223.9063 169.8438,225.0781 Q169.8438,225.7656 169.4531,226.4219 Q169.0781,227.0781 168.3594,227.375 Q169.2188,227.75 169.7344,228.4375 Q170.25,229.125 170.25,229.9375 Q170.25,231.3125 169.2188,232.1563 Q168.2031,233 166.0938,233 L162.875,233 Z M164.7969,226.6406 L165.9531,226.6406 Q167.0781,226.6406 167.4844,226.2656 Q167.9063,225.875 167.9063,225.25 Q167.9063,224.6719 167.4844,224.3125 Q167.0625,223.9531 166.125,223.9531 L164.7969,223.9531 L164.7969,226.6406 Z M164.7969,231.4219 L166.2969,231.4219 Q167.2031,231.4219 167.7344,231.0313 Q168.2656,230.6406 168.2656,229.8906 Q168.2656,229.125 167.7656,228.6563 Q167.2656,228.1719 166,228.1719 L164.7969,228.1719 L164.7969,231.4219 Z \"/><text fill=\"#000000\" font-family=\"sans-serif\" font-size=\"12\" lengthAdjust=\"spacingAndGlyphs\" textLength=\"8\" x=\"180\" y=\"232.1543\">A</text><line style=\"stroke: #A80036; stroke-width: 1.5;\" x1=\"152\" x2=\"190\" y1=\"244\" y2=\"244\"/></a><!--MD5=[60a26617385b1d2d0262a64233df1f8d]\n",
       "class E6--><a href=\"psysml:06f81dae-fa7a-4401-9cfd-15cc868431a4\" target=\"_top\" title=\"psysml:06f81dae-fa7a-4401-9cfd-15cc868431a4\" xlink:actuate=\"onRequest\" xlink:href=\"psysml:06f81dae-fa7a-4401-9cfd-15cc868431a4\" xlink:show=\"new\" xlink:title=\"psysml:06f81dae-fa7a-4401-9cfd-15cc868431a4\" xlink:type=\"simple\"><rect fill=\"#FEFECE\" filter=\"url(#f1kmi2ssm6yi0q)\" height=\"45.9375\" id=\"E6\" rx=\"10\" ry=\"10\" style=\"stroke: #A80036; stroke-width: 1.5;\" width=\"68\" x=\"137\" y=\"87.5\"/><ellipse cx=\"152\" cy=\"106.4688\" fill=\"#32CD32\" rx=\"11\" ry=\"11\" style=\"stroke: #A80036; stroke-width: 1.0;\"/><path d=\"M148.8125,111.4688 L148.8125,100.875 L152.4219,100.875 Q153.6406,100.875 154.4375,101.3125 Q155.2344,101.7344 155.6094,102.4375 Q156,103.1406 156,103.9844 Q156,104.8281 155.625,105.5156 Q155.2656,106.2031 154.4688,106.625 Q153.6875,107.0313 152.5,107.0313 L150.7656,107.0313 L150.7656,111.4688 L148.8125,111.4688 Z M150.7656,105.4375 L152.375,105.4375 Q153.1875,105.4375 153.6094,105.0313 Q154.0313,104.625 154.0313,103.9844 Q154.0313,103.3594 153.6094,102.9531 Q153.1875,102.5469 152.3906,102.5469 L150.7656,102.5469 L150.7656,105.4375 Z \"/><text fill=\"#000000\" font-family=\"sans-serif\" font-size=\"12\" font-style=\"italic\" lengthAdjust=\"spacingAndGlyphs\" textLength=\"40\" x=\"164\" y=\"103.6387\">«part»</text><text fill=\"#000000\" font-family=\"sans-serif\" font-size=\"12\" lengthAdjust=\"spacingAndGlyphs\" textLength=\"22\" x=\"171\" y=\"117.6074\">x: A</text><line style=\"stroke: #A80036; stroke-width: 1.5;\" x1=\"138\" x2=\"204\" y1=\"125.4375\" y2=\"125.4375\"/></a><a href=\"psysml:f3db2951-3782-436b-a6ad-64914b64a485\" target=\"_top\" title=\"psysml:f3db2951-3782-436b-a6ad-64914b64a485\" xlink:actuate=\"onRequest\" xlink:href=\"psysml:f3db2951-3782-436b-a6ad-64914b64a485\" xlink:show=\"new\" xlink:title=\"psysml:f3db2951-3782-436b-a6ad-64914b64a485\" xlink:type=\"simple\"><polygon fill=\"#FFFFFF\" filter=\"url(#f1kmi2ssm6yi0q)\" points=\"56,84,88,84,95,106.2969,102,106.2969,102,136.5938,56,136.5938,56,84\" style=\"stroke: #000000; stroke-width: 1.5;\"/><line style=\"stroke: #000000; stroke-width: 1.5;\" x1=\"56\" x2=\"95\" y1=\"106.2969\" y2=\"106.2969\"/><text fill=\"#000000\" font-family=\"sans-serif\" font-size=\"14\" font-weight=\"bold\" lengthAdjust=\"spacingAndGlyphs\" textLength=\"26\" x=\"60\" y=\"98.9951\">P2a</text></a><!--MD5=[a717450b82c80b9240a525fa862496af]\n",
       "link E6 to E3--><a href=\"psysml:7ae3fb41-5537-4752-a539-fb13bd5d368f\" target=\"_top\" title=\"psysml:7ae3fb41-5537-4752-a539-fb13bd5d368f\" xlink:actuate=\"onRequest\" xlink:href=\"psysml:7ae3fb41-5537-4752-a539-fb13bd5d368f\" xlink:show=\"new\" xlink:title=\"psysml:7ae3fb41-5537-4752-a539-fb13bd5d368f\" xlink:type=\"simple\"><path d=\"M171,133.7 C171,149.89 171,172.27 171,191.49 \" fill=\"none\" id=\"E6-&gt;E3\" style=\"stroke: #A80036; stroke-width: 1.0;\"/><polygon fill=\"#FFFFFF\" points=\"171,211.69,164,192.69,178,192.69,171,211.69\" style=\"stroke: #A80036; stroke-width: 1.0;\"/><ellipse cx=\"166\" cy=\"186.99\" fill=\"#A80036\" rx=\"2\" ry=\"2\" style=\"stroke: #A80036; stroke-width: 1.0;\"/><ellipse cx=\"176\" cy=\"186.99\" fill=\"#A80036\" rx=\"2\" ry=\"2\" style=\"stroke: #A80036; stroke-width: 1.0;\"/></a><!--MD5=[6a7a77077cfb1a4e39eb716777040263]\n",
       "@startuml\r\n",
       " \r\n",
       "package \"QualifiedNameImportTest\" as E1  [[psysml:3ae9698c-7b02-4bda-a9f9-90d299fbd69b ]]  {\r\n",
       "package \"P1\" as E2  [[psysml:1cd01716-9110-4b9f-8aee-0302fbd4d98f ]]  {\r\n",
       "comp def \"A\" as E3 << << (B,green) >> [[psysml:9b3dc75b-1d88-4bb0-99bb-db4dbafde32b ]] {\r\n",
       "}\r\n",
       "}\r\n",
       "package \"P2\" as E4  [[psysml:41fe529f-0d81-4eb7-adf7-d3411e3f84fb ]]  {\r\n",
       "package \"P2a\" as E5  [[psysml:f3db2951-3782-436b-a6ad-64914b64a485 ]]  {\r\n",
       "}\r\n",
       "comp usage \"x: A \" as E6 << << (P,limegreen) part>> [[psysml:06f81dae-fa7a-4401-9cfd-15cc868431a4 ]] {\r\n",
       "}\r\n",
       "}\r\n",
       "}\r\n",
       "E6 - -:|> E3 [[psysml:7ae3fb41-5537-4752-a539-fb13bd5d368f ]] \r\n",
       "@enduml\r\n",
       "\n",
       "PlantUML version 1.2020.13(Sat Jun 13 12:26:38 UTC 2020)\n",
       "(EPL source distribution)\n",
       "Java Runtime: OpenJDK Runtime Environment\n",
       "JVM: OpenJDK 64-Bit Server VM\n",
       "Default Encoding: UTF-8\n",
       "Language: en\n",
       "Country: null\n",
       "--></g></svg>"
      ]
     },
     "execution_count": 31,
     "metadata": {},
     "output_type": "execute_result"
    }
   ],
   "source": [
    "%viz --style=\"PLANTUML\" --view=\"Tree\" \"QualifiedNameImportTest\""
   ]
  },
  {
   "cell_type": "code",
   "execution_count": 32,
   "id": "ac7dcc75",
   "metadata": {
    "execution": {
     "iopub.execute_input": "2022-02-05T16:55:53.250660Z",
     "iopub.status.busy": "2022-02-05T16:55:53.250250Z",
     "iopub.status.idle": "2022-02-05T16:55:53.414188Z",
     "shell.execute_reply": "2022-02-05T16:55:53.412160Z"
    }
   },
   "outputs": [
    {
     "data": {
      "image/svg+xml": [
       "<?xml version=\"1.0\" encoding=\"UTF-8\" standalone=\"no\"?><svg xmlns=\"http://www.w3.org/2000/svg\" xmlns:xlink=\"http://www.w3.org/1999/xlink\" contentScriptType=\"application/ecmascript\" contentStyleType=\"text/css\" height=\"407px\" preserveAspectRatio=\"none\" style=\"width:603px;height:407px;background:#000000;\" version=\"1.1\" viewBox=\"0 0 603 407\" width=\"603px\" zoomAndPan=\"magnify\"><defs/><g><rect fill=\"#170217\" height=\"1\" style=\"stroke: #170217; stroke-width: 1.0;\" width=\"1\" x=\"0\" y=\"0\"/><rect fill=\"#FFFFFF\" height=\"53\" style=\"stroke: #FFFFFF; stroke-width: 1.0;\" width=\"602\" x=\"0\" y=\"0\"/><image height=\"53\" width=\"450\" x=\"1\" xlink:href=\"data:image/png;base64,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\" y=\"1\"/><rect fill=\"#FFFFFF\" height=\"202.8012\" style=\"stroke: #FFFFFF; stroke-width: 1.0;\" width=\"602\" x=\"0\" y=\"53\"/><text fill=\"#000000\" font-family=\"sans-serif\" font-size=\"12\" font-weight=\"bold\" lengthAdjust=\"spacingAndGlyphs\" textLength=\"139\" x=\"5\" y=\"69.1387\">Welcome to PlantUML!</text><text fill=\"#000000\" font-family=\"sans-serif\" font-size=\"12\" lengthAdjust=\"spacingAndGlyphs\" textLength=\"0\" x=\"9\" y=\"83.1074\"/><text fill=\"#000000\" font-family=\"sans-serif\" font-size=\"12\" lengthAdjust=\"spacingAndGlyphs\" textLength=\"293\" x=\"5\" y=\"97.0762\">If you use this software, you accept its license.</text><text fill=\"#000000\" font-family=\"sans-serif\" font-size=\"12\" lengthAdjust=\"spacingAndGlyphs\" textLength=\"107\" x=\"5\" y=\"111.0449\">(details by typing</text><text fill=\"#000000\" font-family=\"monospace\" font-size=\"12\" lengthAdjust=\"spacingAndGlyphs\" textLength=\"42\" x=\"116\" y=\"111.595\">license</text><text fill=\"#000000\" font-family=\"sans-serif\" font-size=\"12\" lengthAdjust=\"spacingAndGlyphs\" textLength=\"56\" x=\"162\" y=\"111.0449\">keyword)</text><text fill=\"#000000\" font-family=\"sans-serif\" font-size=\"12\" lengthAdjust=\"spacingAndGlyphs\" textLength=\"0\" x=\"9\" y=\"125.0137\"/><text fill=\"#000000\" font-family=\"sans-serif\" font-size=\"12\" lengthAdjust=\"spacingAndGlyphs\" textLength=\"283\" x=\"5\" y=\"138.9824\">You can start with a simple UML Diagram like:</text><text fill=\"#000000\" font-family=\"sans-serif\" font-size=\"12\" lengthAdjust=\"spacingAndGlyphs\" textLength=\"0\" x=\"9\" y=\"152.9512\"/><text fill=\"#000000\" font-family=\"monospace\" font-size=\"12\" lengthAdjust=\"spacingAndGlyphs\" textLength=\"102\" x=\"5\" y=\"166.0893\">Bob-&gt;Alice: Hello</text><text fill=\"#000000\" font-family=\"sans-serif\" font-size=\"12\" lengthAdjust=\"spacingAndGlyphs\" textLength=\"0\" x=\"9\" y=\"179.508\"/><text fill=\"#000000\" font-family=\"sans-serif\" font-size=\"12\" lengthAdjust=\"spacingAndGlyphs\" textLength=\"14\" x=\"5\" y=\"193.4768\">Or</text><text fill=\"#000000\" font-family=\"sans-serif\" font-size=\"12\" lengthAdjust=\"spacingAndGlyphs\" textLength=\"0\" x=\"9\" y=\"207.4455\"/><text fill=\"#000000\" font-family=\"monospace\" font-size=\"12\" lengthAdjust=\"spacingAndGlyphs\" textLength=\"78\" x=\"5\" y=\"220.5837\">class Example</text><text fill=\"#000000\" font-family=\"sans-serif\" font-size=\"12\" lengthAdjust=\"spacingAndGlyphs\" textLength=\"0\" x=\"9\" y=\"234.0023\"/><text fill=\"#000000\" font-family=\"sans-serif\" font-size=\"12\" lengthAdjust=\"spacingAndGlyphs\" textLength=\"349\" x=\"5\" y=\"247.9711\">You will find more information about PlantUML syntax on</text><text fill=\"#000000\" font-family=\"sans-serif\" font-size=\"12\" lengthAdjust=\"spacingAndGlyphs\" text-decoration=\"underline\" textLength=\"129\" x=\"358\" y=\"247.9711\">https://plantuml.com</text><image height=\"71\" width=\"80\" x=\"516\" xlink:href=\"data:image/png;base64,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\" y=\"59\"/><rect fill=\"#000000\" height=\"96.4844\" style=\"stroke: #000000; stroke-width: 1.0;\" width=\"602\" x=\"0\" y=\"255.8012\"/><rect fill=\"#33FF02\" height=\"21.2969\" style=\"stroke: #33FF02; stroke-width: 1.0;\" width=\"145\" x=\"5\" y=\"260.8012\"/><text fill=\"#000000\" font-family=\"sans-serif\" font-size=\"14\" font-weight=\"bold\" lengthAdjust=\"spacingAndGlyphs\" textLength=\"143\" x=\"6\" y=\"275.8012\">[From string (line 2) ]</text><text fill=\"#33FF02\" font-family=\"sans-serif\" font-size=\"14\" font-weight=\"bold\" lengthAdjust=\"spacingAndGlyphs\" textLength=\"0\" x=\"9\" y=\"296.0981\"/><text fill=\"#33FF02\" font-family=\"sans-serif\" font-size=\"14\" font-weight=\"bold\" lengthAdjust=\"spacingAndGlyphs\" textLength=\"70\" x=\"5\" y=\"312.3949\">@startuml</text><text fill=\"#33FF02\" font-family=\"sans-serif\" font-size=\"14\" font-weight=\"bold\" lengthAdjust=\"spacingAndGlyphs\" textLength=\"0\" x=\"9\" y=\"328.6918\"/><text fill=\"#FF0000\" font-family=\"sans-serif\" font-size=\"14\" font-weight=\"bold\" lengthAdjust=\"spacingAndGlyphs\" textLength=\"124\" x=\"9\" y=\"344.9887\">Empty description</text><rect fill=\"#FFFFFF\" height=\"53\" style=\"stroke: #FFFFFF; stroke-width: 1.0;\" width=\"602\" x=\"0\" y=\"352.2856\"/><image height=\"53\" width=\"450\" x=\"1\" xlink:href=\"data:image/png;base64,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\" y=\"353.2856\"/><!--MD5=[f59edd8218d337f74d0c332fc6737304]\n",
       "@startuml\r\n",
       " \r\n",
       "@enduml\r\n",
       "\n",
       "PlantUML version 1.2020.13(Sat Jun 13 12:26:38 UTC 2020)\n",
       "(EPL source distribution)\n",
       "Java Runtime: OpenJDK Runtime Environment\n",
       "JVM: OpenJDK 64-Bit Server VM\n",
       "Default Encoding: UTF-8\n",
       "Language: en\n",
       "Country: null\n",
       "--></g></svg>"
      ]
     },
     "execution_count": 32,
     "metadata": {},
     "output_type": "execute_result"
    }
   ],
   "source": [
    "%viz --style=\"PLANTUML\" --view=\"State\" \"QualifiedNameImportTest\""
   ]
  },
  {
   "cell_type": "code",
   "execution_count": 33,
   "id": "c70cb475",
   "metadata": {
    "execution": {
     "iopub.execute_input": "2022-02-05T16:55:53.462656Z",
     "iopub.status.busy": "2022-02-05T16:55:53.462367Z",
     "iopub.status.idle": "2022-02-05T16:55:53.486362Z",
     "shell.execute_reply": "2022-02-05T16:55:53.486159Z"
    }
   },
   "outputs": [
    {
     "data": {
      "image/svg+xml": [
       "<?xml version=\"1.0\" encoding=\"UTF-8\" standalone=\"no\"?><svg xmlns=\"http://www.w3.org/2000/svg\" xmlns:xlink=\"http://www.w3.org/1999/xlink\" contentScriptType=\"application/ecmascript\" contentStyleType=\"text/css\" height=\"189px\" preserveAspectRatio=\"none\" style=\"width:365px;height:189px;\" version=\"1.1\" viewBox=\"0 0 365 189\" width=\"365px\" zoomAndPan=\"magnify\"><defs><filter height=\"300%\" id=\"f19fl2ebu2lu7u\" width=\"300%\" x=\"-1\" y=\"-1\"><feGaussianBlur result=\"blurOut\" stdDeviation=\"2.0\"/><feColorMatrix in=\"blurOut\" result=\"blurOut2\" type=\"matrix\" values=\"0 0 0 0 0 0 0 0 0 0 0 0 0 0 0 0 0 0 .4 0\"/><feOffset dx=\"4.0\" dy=\"4.0\" in=\"blurOut2\" result=\"blurOut3\"/><feBlend in=\"SourceGraphic\" in2=\"blurOut3\" mode=\"normal\"/></filter></defs><g><!--MD5=[fbc87193dbaf4d95561dea2c320d4a47]\n",
       "cluster E1--><a href=\"psysml:3ae9698c-7b02-4bda-a9f9-90d299fbd69b\" target=\"_top\" title=\"psysml:3ae9698c-7b02-4bda-a9f9-90d299fbd69b\" xlink:actuate=\"onRequest\" xlink:href=\"psysml:3ae9698c-7b02-4bda-a9f9-90d299fbd69b\" xlink:show=\"new\" xlink:title=\"psysml:3ae9698c-7b02-4bda-a9f9-90d299fbd69b\" xlink:type=\"simple\"><polygon fill=\"#FFFFFF\" filter=\"url(#f19fl2ebu2lu7u)\" points=\"16,6,196,6,203,28.2969,343,28.2969,343,177,16,177,16,6\" style=\"stroke: #000000; stroke-width: 1.5;\"/><line style=\"stroke: #000000; stroke-width: 1.5;\" x1=\"16\" x2=\"203\" y1=\"28.2969\" y2=\"28.2969\"/><text fill=\"#000000\" font-family=\"sans-serif\" font-size=\"14\" font-weight=\"bold\" lengthAdjust=\"spacingAndGlyphs\" textLength=\"174\" x=\"20\" y=\"20.9951\">QualifiedNameImportTest</text></a><!--MD5=[e4f7fae6ed58524ba242bb0b0d3be6b7]\n",
       "cluster E2--><a href=\"psysml:1cd01716-9110-4b9f-8aee-0302fbd4d98f\" target=\"_top\" title=\"psysml:1cd01716-9110-4b9f-8aee-0302fbd4d98f\" xlink:actuate=\"onRequest\" xlink:href=\"psysml:1cd01716-9110-4b9f-8aee-0302fbd4d98f\" xlink:show=\"new\" xlink:title=\"psysml:1cd01716-9110-4b9f-8aee-0302fbd4d98f\" xlink:type=\"simple\"><polygon fill=\"#FFFFFF\" filter=\"url(#f19fl2ebu2lu7u)\" points=\"237,55.5,261,55.5,268,77.7969,319,77.7969,319,146.5,237,146.5,237,55.5\" style=\"stroke: #000000; stroke-width: 1.5;\"/><line style=\"stroke: #000000; stroke-width: 1.5;\" x1=\"237\" x2=\"268\" y1=\"77.7969\" y2=\"77.7969\"/><text fill=\"#000000\" font-family=\"sans-serif\" font-size=\"14\" font-weight=\"bold\" lengthAdjust=\"spacingAndGlyphs\" textLength=\"18\" x=\"241\" y=\"70.4951\">P1</text></a><!--MD5=[f6df4d0ebaf0b5dfb2ced0ae5af7c670]\n",
       "cluster E4--><a href=\"psysml:41fe529f-0d81-4eb7-adf7-d3411e3f84fb\" target=\"_top\" title=\"psysml:41fe529f-0d81-4eb7-adf7-d3411e3f84fb\" xlink:actuate=\"onRequest\" xlink:href=\"psysml:41fe529f-0d81-4eb7-adf7-d3411e3f84fb\" xlink:show=\"new\" xlink:title=\"psysml:41fe529f-0d81-4eb7-adf7-d3411e3f84fb\" xlink:type=\"simple\"><polygon fill=\"#FFFFFF\" filter=\"url(#f19fl2ebu2lu7u)\" points=\"40,49,64,49,71,71.2969,213,71.2969,213,153,40,153,40,49\" style=\"stroke: #000000; stroke-width: 1.5;\"/><line style=\"stroke: #000000; stroke-width: 1.5;\" x1=\"40\" x2=\"71\" y1=\"71.2969\" y2=\"71.2969\"/><text fill=\"#000000\" font-family=\"sans-serif\" font-size=\"14\" font-weight=\"bold\" lengthAdjust=\"spacingAndGlyphs\" textLength=\"18\" x=\"44\" y=\"63.9951\">P2</text></a><g id=\"E1.E2.E3\"><a href=\"psysml:9b3dc75b-1d88-4bb0-99bb-db4dbafde32b\" target=\"_top\" title=\"psysml:9b3dc75b-1d88-4bb0-99bb-db4dbafde32b\" xlink:actuate=\"onRequest\" xlink:href=\"psysml:9b3dc75b-1d88-4bb0-99bb-db4dbafde32b\" xlink:show=\"new\" xlink:title=\"psysml:9b3dc75b-1d88-4bb0-99bb-db4dbafde32b\" xlink:type=\"simple\"><rect fill=\"#FEFECE\" filter=\"url(#f19fl2ebu2lu7u)\" height=\"40\" id=\"E3\" style=\"stroke: #A80036; stroke-width: 1.5;\" width=\"50\" x=\"253\" y=\"90.5\"/><ellipse cx=\"272.5\" cy=\"106.5\" fill=\"#008000\" rx=\"11\" ry=\"11\" style=\"stroke: #A80036; stroke-width: 1.0;\"/><path d=\"M269.375,111.5 L269.375,100.9063 L272.6094,100.9063 Q274.5156,100.9063 275.4219,101.6563 Q276.3438,102.4063 276.3438,103.5781 Q276.3438,104.2656 275.9531,104.9219 Q275.5781,105.5781 274.8594,105.875 Q275.7188,106.25 276.2344,106.9375 Q276.75,107.625 276.75,108.4375 Q276.75,109.8125 275.7188,110.6563 Q274.7031,111.5 272.5938,111.5 L269.375,111.5 Z M271.2969,105.1406 L272.4531,105.1406 Q273.5781,105.1406 273.9844,104.7656 Q274.4063,104.375 274.4063,103.75 Q274.4063,103.1719 273.9844,102.8125 Q273.5625,102.4531 272.625,102.4531 L271.2969,102.4531 L271.2969,105.1406 Z M271.2969,109.9219 L272.7969,109.9219 Q273.7031,109.9219 274.2344,109.5313 Q274.7656,109.1406 274.7656,108.3906 Q274.7656,107.625 274.2656,107.1563 Q273.7656,106.6719 272.5,106.6719 L271.2969,106.6719 L271.2969,109.9219 Z \"/><text fill=\"#000000\" font-family=\"sans-serif\" font-size=\"12\" lengthAdjust=\"spacingAndGlyphs\" textLength=\"8\" x=\"287.5\" y=\"110.6543\">A</text></a></g><a href=\"psysml:f3db2951-3782-436b-a6ad-64914b64a485\" target=\"_top\" title=\"psysml:f3db2951-3782-436b-a6ad-64914b64a485\" xlink:actuate=\"onRequest\" xlink:href=\"psysml:f3db2951-3782-436b-a6ad-64914b64a485\" xlink:show=\"new\" xlink:title=\"psysml:f3db2951-3782-436b-a6ad-64914b64a485\" xlink:type=\"simple\"><polygon fill=\"#FFFFFF\" filter=\"url(#f19fl2ebu2lu7u)\" points=\"151,84,183,84,190,106.2969,197,106.2969,197,136.5938,151,136.5938,151,84\" style=\"stroke: #000000; stroke-width: 1.5;\"/><line style=\"stroke: #000000; stroke-width: 1.5;\" x1=\"151\" x2=\"190\" y1=\"106.2969\" y2=\"106.2969\"/><text fill=\"#000000\" font-family=\"sans-serif\" font-size=\"14\" font-weight=\"bold\" lengthAdjust=\"spacingAndGlyphs\" textLength=\"26\" x=\"155\" y=\"98.9951\">P2a</text></a><g id=\"E1.E4.E6\"><a href=\"psysml:06f81dae-fa7a-4401-9cfd-15cc868431a4\" target=\"_top\" title=\"psysml:06f81dae-fa7a-4401-9cfd-15cc868431a4\" xlink:actuate=\"onRequest\" xlink:href=\"psysml:06f81dae-fa7a-4401-9cfd-15cc868431a4\" xlink:show=\"new\" xlink:title=\"psysml:06f81dae-fa7a-4401-9cfd-15cc868431a4\" xlink:type=\"simple\"><rect fill=\"#FEFECE\" filter=\"url(#f19fl2ebu2lu7u)\" height=\"40\" id=\"E6\" rx=\"10\" ry=\"10\" style=\"stroke: #A80036; stroke-width: 1.5;\" width=\"59\" x=\"56.5\" y=\"90.5\"/><ellipse cx=\"73.75\" cy=\"106.5\" fill=\"#B6DBBB\" rx=\"11\" ry=\"11\" style=\"stroke: #A80036; stroke-width: 1.0;\"/><path d=\"M73.5,111.9688 Q71.75,111.9688 70.7969,110.9375 Q69.8594,109.8906 69.8594,108.0469 L69.8594,101.1563 L71.9219,101.1563 L71.9219,101.3125 Q71.8281,101.4063 71.7969,101.5469 Q71.7813,101.6719 71.7813,101.9375 L71.7813,108.0625 Q71.7813,109.1563 72.1563,109.7813 Q72.5313,110.4063 73.5156,110.4063 Q74.5,110.4063 74.8906,109.7813 Q75.2813,109.1563 75.2813,108.0156 L75.2813,101.1563 L77.1563,101.1563 L77.1563,108 Q77.1563,110.0313 76.125,111 Q75.1094,111.9688 73.5,111.9688 Z \"/><text fill=\"#000000\" font-family=\"sans-serif\" font-size=\"12\" lengthAdjust=\"spacingAndGlyphs\" textLength=\"22\" x=\"88.25\" y=\"110.6543\">x: A</text></a></g><!--MD5=[b817a7fe62c3ff033f79c5554dad795f]\n",
       "@startuml\r\n",
       "skinparam ranksep 10\r\n",
       "skinparam rectangle {\r\n",
       " backgroundColor<<block>> LightGreen\r\n",
       "}\r\n",
       " \r\n",
       "package \"QualifiedNameImportTest\" as E1  [[psysml:3ae9698c-7b02-4bda-a9f9-90d299fbd69b ]]  {\r\n",
       "package \"P1\" as E2  [[psysml:1cd01716-9110-4b9f-8aee-0302fbd4d98f ]]  {\r\n",
       "rec def \"A\" as E3 << << (B,green) >> [[psysml:9b3dc75b-1d88-4bb0-99bb-db4dbafde32b ]] {\r\n",
       "}\r\n",
       "}\r\n",
       "package \"P2\" as E4  [[psysml:41fe529f-0d81-4eb7-adf7-d3411e3f84fb ]]  {\r\n",
       "package \"P2a\" as E5  [[psysml:f3db2951-3782-436b-a6ad-64914b64a485 ]]  {\r\n",
       "}\r\n",
       "rec usage \"x: A\" as E6  [[psysml:06f81dae-fa7a-4401-9cfd-15cc868431a4 ]] {\r\n",
       "}\r\n",
       "}\r\n",
       "}\r\n",
       "@enduml\r\n",
       "\n",
       "PlantUML version 1.2020.13(Sat Jun 13 12:26:38 UTC 2020)\n",
       "(EPL source distribution)\n",
       "Java Runtime: OpenJDK Runtime Environment\n",
       "JVM: OpenJDK 64-Bit Server VM\n",
       "Default Encoding: UTF-8\n",
       "Language: en\n",
       "Country: null\n",
       "--></g></svg>"
      ]
     },
     "execution_count": 33,
     "metadata": {},
     "output_type": "execute_result"
    }
   ],
   "source": [
    "%viz --style=\"PLANTUML\" --view=\"Interconnection\" \"QualifiedNameImportTest\""
   ]
  },
  {
   "cell_type": "code",
   "execution_count": 34,
   "id": "2a9d5c83",
   "metadata": {
    "execution": {
     "iopub.execute_input": "2022-02-05T16:55:53.536271Z",
     "iopub.status.busy": "2022-02-05T16:55:53.536040Z",
     "iopub.status.idle": "2022-02-05T16:55:53.541113Z",
     "shell.execute_reply": "2022-02-05T16:55:53.540824Z"
    }
   },
   "outputs": [
    {
     "data": {
      "image/svg+xml": [
       "<?xml version=\"1.0\" encoding=\"UTF-8\" standalone=\"no\"?><svg xmlns=\"http://www.w3.org/2000/svg\" xmlns:xlink=\"http://www.w3.org/1999/xlink\" contentScriptType=\"application/ecmascript\" contentStyleType=\"text/css\" height=\"12px\" preserveAspectRatio=\"none\" style=\"width:12px;height:12px;\" version=\"1.1\" viewBox=\"0 0 12 12\" width=\"12px\" zoomAndPan=\"magnify\"><defs/><g><!--MD5=[6a4cb978cab31700e1ce5529f947a75d]\n",
       "@startuml\r\n",
       "skinparam ranksep 8\r\n",
       " \r\n",
       "@enduml\r\n",
       "\n",
       "PlantUML version 1.2020.13(Sat Jun 13 12:26:38 UTC 2020)\n",
       "(EPL source distribution)\n",
       "Java Runtime: OpenJDK Runtime Environment\n",
       "JVM: OpenJDK 64-Bit Server VM\n",
       "Default Encoding: UTF-8\n",
       "Language: en\n",
       "Country: null\n",
       "--></g></svg>"
      ]
     },
     "execution_count": 34,
     "metadata": {},
     "output_type": "execute_result"
    }
   ],
   "source": [
    "%viz --style=\"PLANTUML\" --view=\"Action\" \"QualifiedNameImportTest\""
   ]
  },
  {
   "cell_type": "code",
   "execution_count": 35,
   "id": "99a3247b",
   "metadata": {
    "execution": {
     "iopub.execute_input": "2022-02-05T16:55:53.591334Z",
     "iopub.status.busy": "2022-02-05T16:55:53.590901Z",
     "iopub.status.idle": "2022-02-05T16:55:53.595655Z",
     "shell.execute_reply": "2022-02-05T16:55:53.595955Z"
    }
   },
   "outputs": [
    {
     "data": {
      "image/svg+xml": [
       "<?xml version=\"1.0\" encoding=\"UTF-8\" standalone=\"no\"?><svg xmlns=\"http://www.w3.org/2000/svg\" xmlns:xlink=\"http://www.w3.org/1999/xlink\" contentScriptType=\"application/ecmascript\" contentStyleType=\"text/css\" height=\"12px\" preserveAspectRatio=\"none\" style=\"width:12px;height:12px;\" version=\"1.1\" viewBox=\"0 0 12 12\" width=\"12px\" zoomAndPan=\"magnify\"><defs/><g><!--MD5=[ca4faa0b02def275ea33c14ea7a1a98d]\n",
       "@startuml\r\n",
       "skinparam roundcorner 20\r\n",
       "skinparam BoxPadding 20\r\n",
       "skinparam SequenceBoxBackgroundColor #white\r\n",
       "skinparam style strictuml\r\n",
       "skinparam maxMessageSize 100\r\n",
       " \r\n",
       "@enduml\r\n",
       "\n",
       "PlantUML version 1.2020.13(Sat Jun 13 12:26:38 UTC 2020)\n",
       "(EPL source distribution)\n",
       "Java Runtime: OpenJDK Runtime Environment\n",
       "JVM: OpenJDK 64-Bit Server VM\n",
       "Default Encoding: UTF-8\n",
       "Language: en\n",
       "Country: null\n",
       "--></g></svg>"
      ]
     },
     "execution_count": 35,
     "metadata": {},
     "output_type": "execute_result"
    }
   ],
   "source": [
    "%viz --style=\"PLANTUML\" --view=\"Sequence\" \"QualifiedNameImportTest\""
   ]
  },
  {
   "cell_type": "code",
   "execution_count": 36,
   "id": "4f2eace8",
   "metadata": {
    "execution": {
     "iopub.execute_input": "2022-02-05T16:55:53.646010Z",
     "iopub.status.busy": "2022-02-05T16:55:53.645596Z",
     "iopub.status.idle": "2022-02-05T16:55:53.673663Z",
     "shell.execute_reply": "2022-02-05T16:55:53.671945Z"
    }
   },
   "outputs": [
    {
     "data": {
      "image/svg+xml": [
       "<?xml version=\"1.0\" encoding=\"UTF-8\" standalone=\"no\"?><svg xmlns=\"http://www.w3.org/2000/svg\" xmlns:xlink=\"http://www.w3.org/1999/xlink\" contentScriptType=\"application/ecmascript\" contentStyleType=\"text/css\" height=\"304px\" preserveAspectRatio=\"none\" style=\"width:267px;height:304px;\" version=\"1.1\" viewBox=\"0 0 267 304\" width=\"267px\" zoomAndPan=\"magnify\"><defs><filter height=\"300%\" id=\"f1kmi2ssm6yi0q\" width=\"300%\" x=\"-1\" y=\"-1\"><feGaussianBlur result=\"blurOut\" stdDeviation=\"2.0\"/><feColorMatrix in=\"blurOut\" result=\"blurOut2\" type=\"matrix\" values=\"0 0 0 0 0 0 0 0 0 0 0 0 0 0 0 0 0 0 .4 0\"/><feOffset dx=\"4.0\" dy=\"4.0\" in=\"blurOut2\" result=\"blurOut3\"/><feBlend in=\"SourceGraphic\" in2=\"blurOut3\" mode=\"normal\"/></filter></defs><g><!--MD5=[fbc87193dbaf4d95561dea2c320d4a47]\n",
       "cluster E1--><a href=\"psysml:3ae9698c-7b02-4bda-a9f9-90d299fbd69b\" target=\"_top\" title=\"psysml:3ae9698c-7b02-4bda-a9f9-90d299fbd69b\" xlink:actuate=\"onRequest\" xlink:href=\"psysml:3ae9698c-7b02-4bda-a9f9-90d299fbd69b\" xlink:show=\"new\" xlink:title=\"psysml:3ae9698c-7b02-4bda-a9f9-90d299fbd69b\" xlink:type=\"simple\"><polygon fill=\"#FFFFFF\" filter=\"url(#f1kmi2ssm6yi0q)\" points=\"16,6,196,6,203,28.2969,245,28.2969,245,292,16,292,16,6\" style=\"stroke: #000000; stroke-width: 1.5;\"/><line style=\"stroke: #000000; stroke-width: 1.5;\" x1=\"16\" x2=\"203\" y1=\"28.2969\" y2=\"28.2969\"/><text fill=\"#000000\" font-family=\"sans-serif\" font-size=\"14\" font-weight=\"bold\" lengthAdjust=\"spacingAndGlyphs\" textLength=\"174\" x=\"20\" y=\"20.9951\">QualifiedNameImportTest</text></a><!--MD5=[e4f7fae6ed58524ba242bb0b0d3be6b7]\n",
       "cluster E2--><a href=\"psysml:1cd01716-9110-4b9f-8aee-0302fbd4d98f\" target=\"_top\" title=\"psysml:1cd01716-9110-4b9f-8aee-0302fbd4d98f\" xlink:actuate=\"onRequest\" xlink:href=\"psysml:1cd01716-9110-4b9f-8aee-0302fbd4d98f\" xlink:show=\"new\" xlink:title=\"psysml:1cd01716-9110-4b9f-8aee-0302fbd4d98f\" xlink:type=\"simple\"><polygon fill=\"#FFFFFF\" filter=\"url(#f1kmi2ssm6yi0q)\" points=\"135,177,159,177,166,199.2969,207,199.2969,207,268,135,268,135,177\" style=\"stroke: #000000; stroke-width: 1.5;\"/><line style=\"stroke: #000000; stroke-width: 1.5;\" x1=\"135\" x2=\"166\" y1=\"199.2969\" y2=\"199.2969\"/><text fill=\"#000000\" font-family=\"sans-serif\" font-size=\"14\" font-weight=\"bold\" lengthAdjust=\"spacingAndGlyphs\" textLength=\"18\" x=\"139\" y=\"191.9951\">P1</text></a><!--MD5=[f6df4d0ebaf0b5dfb2ced0ae5af7c670]\n",
       "cluster E4--><a href=\"psysml:41fe529f-0d81-4eb7-adf7-d3411e3f84fb\" target=\"_top\" title=\"psysml:41fe529f-0d81-4eb7-adf7-d3411e3f84fb\" xlink:actuate=\"onRequest\" xlink:href=\"psysml:41fe529f-0d81-4eb7-adf7-d3411e3f84fb\" xlink:show=\"new\" xlink:title=\"psysml:41fe529f-0d81-4eb7-adf7-d3411e3f84fb\" xlink:type=\"simple\"><polygon fill=\"#FFFFFF\" filter=\"url(#f1kmi2ssm6yi0q)\" points=\"40,49,64,49,71,71.2969,221,71.2969,221,153,40,153,40,49\" style=\"stroke: #000000; stroke-width: 1.5;\"/><line style=\"stroke: #000000; stroke-width: 1.5;\" x1=\"40\" x2=\"71\" y1=\"71.2969\" y2=\"71.2969\"/><text fill=\"#000000\" font-family=\"sans-serif\" font-size=\"14\" font-weight=\"bold\" lengthAdjust=\"spacingAndGlyphs\" textLength=\"18\" x=\"44\" y=\"63.9951\">P2</text></a><!--MD5=[09b614a08d8cba4a07c9adeb5e0fee81]\n",
       "class E3--><a href=\"psysml:9b3dc75b-1d88-4bb0-99bb-db4dbafde32b\" target=\"_top\" title=\"psysml:9b3dc75b-1d88-4bb0-99bb-db4dbafde32b\" xlink:actuate=\"onRequest\" xlink:href=\"psysml:9b3dc75b-1d88-4bb0-99bb-db4dbafde32b\" xlink:show=\"new\" xlink:title=\"psysml:9b3dc75b-1d88-4bb0-99bb-db4dbafde32b\" xlink:type=\"simple\"><rect fill=\"#FEFECE\" filter=\"url(#f1kmi2ssm6yi0q)\" height=\"40\" id=\"E3\" style=\"stroke: #A80036; stroke-width: 1.5;\" width=\"40\" x=\"151\" y=\"212\"/><ellipse cx=\"166\" cy=\"228\" fill=\"#008000\" rx=\"11\" ry=\"11\" style=\"stroke: #A80036; stroke-width: 1.0;\"/><path d=\"M162.875,233 L162.875,222.4063 L166.1094,222.4063 Q168.0156,222.4063 168.9219,223.1563 Q169.8438,223.9063 169.8438,225.0781 Q169.8438,225.7656 169.4531,226.4219 Q169.0781,227.0781 168.3594,227.375 Q169.2188,227.75 169.7344,228.4375 Q170.25,229.125 170.25,229.9375 Q170.25,231.3125 169.2188,232.1563 Q168.2031,233 166.0938,233 L162.875,233 Z M164.7969,226.6406 L165.9531,226.6406 Q167.0781,226.6406 167.4844,226.2656 Q167.9063,225.875 167.9063,225.25 Q167.9063,224.6719 167.4844,224.3125 Q167.0625,223.9531 166.125,223.9531 L164.7969,223.9531 L164.7969,226.6406 Z M164.7969,231.4219 L166.2969,231.4219 Q167.2031,231.4219 167.7344,231.0313 Q168.2656,230.6406 168.2656,229.8906 Q168.2656,229.125 167.7656,228.6563 Q167.2656,228.1719 166,228.1719 L164.7969,228.1719 L164.7969,231.4219 Z \"/><text fill=\"#000000\" font-family=\"sans-serif\" font-size=\"12\" lengthAdjust=\"spacingAndGlyphs\" textLength=\"8\" x=\"180\" y=\"232.1543\">A</text><line style=\"stroke: #A80036; stroke-width: 1.5;\" x1=\"152\" x2=\"190\" y1=\"244\" y2=\"244\"/></a><!--MD5=[60a26617385b1d2d0262a64233df1f8d]\n",
       "class E6--><a href=\"psysml:06f81dae-fa7a-4401-9cfd-15cc868431a4\" target=\"_top\" title=\"psysml:06f81dae-fa7a-4401-9cfd-15cc868431a4\" xlink:actuate=\"onRequest\" xlink:href=\"psysml:06f81dae-fa7a-4401-9cfd-15cc868431a4\" xlink:show=\"new\" xlink:title=\"psysml:06f81dae-fa7a-4401-9cfd-15cc868431a4\" xlink:type=\"simple\"><rect fill=\"#FEFECE\" filter=\"url(#f1kmi2ssm6yi0q)\" height=\"45.9375\" id=\"E6\" rx=\"10\" ry=\"10\" style=\"stroke: #A80036; stroke-width: 1.5;\" width=\"68\" x=\"137\" y=\"87.5\"/><ellipse cx=\"152\" cy=\"106.4688\" fill=\"#32CD32\" rx=\"11\" ry=\"11\" style=\"stroke: #A80036; stroke-width: 1.0;\"/><path d=\"M148.8125,111.4688 L148.8125,100.875 L152.4219,100.875 Q153.6406,100.875 154.4375,101.3125 Q155.2344,101.7344 155.6094,102.4375 Q156,103.1406 156,103.9844 Q156,104.8281 155.625,105.5156 Q155.2656,106.2031 154.4688,106.625 Q153.6875,107.0313 152.5,107.0313 L150.7656,107.0313 L150.7656,111.4688 L148.8125,111.4688 Z M150.7656,105.4375 L152.375,105.4375 Q153.1875,105.4375 153.6094,105.0313 Q154.0313,104.625 154.0313,103.9844 Q154.0313,103.3594 153.6094,102.9531 Q153.1875,102.5469 152.3906,102.5469 L150.7656,102.5469 L150.7656,105.4375 Z \"/><text fill=\"#000000\" font-family=\"sans-serif\" font-size=\"12\" font-style=\"italic\" lengthAdjust=\"spacingAndGlyphs\" textLength=\"40\" x=\"164\" y=\"103.6387\">«part»</text><text fill=\"#000000\" font-family=\"sans-serif\" font-size=\"12\" lengthAdjust=\"spacingAndGlyphs\" textLength=\"22\" x=\"171\" y=\"117.6074\">x: A</text><line style=\"stroke: #A80036; stroke-width: 1.5;\" x1=\"138\" x2=\"204\" y1=\"125.4375\" y2=\"125.4375\"/></a><a href=\"psysml:f3db2951-3782-436b-a6ad-64914b64a485\" target=\"_top\" title=\"psysml:f3db2951-3782-436b-a6ad-64914b64a485\" xlink:actuate=\"onRequest\" xlink:href=\"psysml:f3db2951-3782-436b-a6ad-64914b64a485\" xlink:show=\"new\" xlink:title=\"psysml:f3db2951-3782-436b-a6ad-64914b64a485\" xlink:type=\"simple\"><polygon fill=\"#FFFFFF\" filter=\"url(#f1kmi2ssm6yi0q)\" points=\"56,84,88,84,95,106.2969,102,106.2969,102,136.5938,56,136.5938,56,84\" style=\"stroke: #000000; stroke-width: 1.5;\"/><line style=\"stroke: #000000; stroke-width: 1.5;\" x1=\"56\" x2=\"95\" y1=\"106.2969\" y2=\"106.2969\"/><text fill=\"#000000\" font-family=\"sans-serif\" font-size=\"14\" font-weight=\"bold\" lengthAdjust=\"spacingAndGlyphs\" textLength=\"26\" x=\"60\" y=\"98.9951\">P2a</text></a><!--MD5=[a717450b82c80b9240a525fa862496af]\n",
       "link E6 to E3--><a href=\"psysml:7ae3fb41-5537-4752-a539-fb13bd5d368f\" target=\"_top\" title=\"psysml:7ae3fb41-5537-4752-a539-fb13bd5d368f\" xlink:actuate=\"onRequest\" xlink:href=\"psysml:7ae3fb41-5537-4752-a539-fb13bd5d368f\" xlink:show=\"new\" xlink:title=\"psysml:7ae3fb41-5537-4752-a539-fb13bd5d368f\" xlink:type=\"simple\"><path d=\"M171,133.7 C171,149.89 171,172.27 171,191.49 \" fill=\"none\" id=\"E6-&gt;E3\" style=\"stroke: #A80036; stroke-width: 1.0;\"/><polygon fill=\"#FFFFFF\" points=\"171,211.69,164,192.69,178,192.69,171,211.69\" style=\"stroke: #A80036; stroke-width: 1.0;\"/><ellipse cx=\"166\" cy=\"186.99\" fill=\"#A80036\" rx=\"2\" ry=\"2\" style=\"stroke: #A80036; stroke-width: 1.0;\"/><ellipse cx=\"176\" cy=\"186.99\" fill=\"#A80036\" rx=\"2\" ry=\"2\" style=\"stroke: #A80036; stroke-width: 1.0;\"/></a><!--MD5=[6a7a77077cfb1a4e39eb716777040263]\n",
       "@startuml\r\n",
       " \r\n",
       "package \"QualifiedNameImportTest\" as E1  [[psysml:3ae9698c-7b02-4bda-a9f9-90d299fbd69b ]]  {\r\n",
       "package \"P1\" as E2  [[psysml:1cd01716-9110-4b9f-8aee-0302fbd4d98f ]]  {\r\n",
       "comp def \"A\" as E3 << << (B,green) >> [[psysml:9b3dc75b-1d88-4bb0-99bb-db4dbafde32b ]] {\r\n",
       "}\r\n",
       "}\r\n",
       "package \"P2\" as E4  [[psysml:41fe529f-0d81-4eb7-adf7-d3411e3f84fb ]]  {\r\n",
       "package \"P2a\" as E5  [[psysml:f3db2951-3782-436b-a6ad-64914b64a485 ]]  {\r\n",
       "}\r\n",
       "comp usage \"x: A \" as E6 << << (P,limegreen) part>> [[psysml:06f81dae-fa7a-4401-9cfd-15cc868431a4 ]] {\r\n",
       "}\r\n",
       "}\r\n",
       "}\r\n",
       "E6 - -:|> E3 [[psysml:7ae3fb41-5537-4752-a539-fb13bd5d368f ]] \r\n",
       "@enduml\r\n",
       "\n",
       "PlantUML version 1.2020.13(Sat Jun 13 12:26:38 UTC 2020)\n",
       "(EPL source distribution)\n",
       "Java Runtime: OpenJDK Runtime Environment\n",
       "JVM: OpenJDK 64-Bit Server VM\n",
       "Default Encoding: UTF-8\n",
       "Language: en\n",
       "Country: null\n",
       "--></g></svg>"
      ]
     },
     "execution_count": 36,
     "metadata": {},
     "output_type": "execute_result"
    }
   ],
   "source": [
    "%viz --style=\"PLANTUML\" --view=\"MIXED\" \"QualifiedNameImportTest\""
   ]
  },
  {
   "cell_type": "code",
   "execution_count": 37,
   "id": "4c05d2c5",
   "metadata": {
    "execution": {
     "iopub.execute_input": "2022-02-05T16:55:53.722836Z",
     "iopub.status.busy": "2022-02-05T16:55:53.722418Z",
     "iopub.status.idle": "2022-02-05T16:55:53.750559Z",
     "shell.execute_reply": "2022-02-05T16:55:53.750185Z"
    }
   },
   "outputs": [
    {
     "data": {
      "image/svg+xml": [
       "<?xml version=\"1.0\" encoding=\"UTF-8\" standalone=\"no\"?><svg xmlns=\"http://www.w3.org/2000/svg\" xmlns:xlink=\"http://www.w3.org/1999/xlink\" contentScriptType=\"application/ecmascript\" contentStyleType=\"text/css\" height=\"310px\" preserveAspectRatio=\"none\" style=\"width:241px;height:310px;\" version=\"1.1\" viewBox=\"0 0 241 310\" width=\"241px\" zoomAndPan=\"magnify\"><defs/><g><!--MD5=[fbc87193dbaf4d95561dea2c320d4a47]\n",
       "cluster E1--><a href=\"psysml:3ae9698c-7b02-4bda-a9f9-90d299fbd69b\" target=\"_top\" title=\"psysml:3ae9698c-7b02-4bda-a9f9-90d299fbd69b\" xlink:actuate=\"onRequest\" xlink:href=\"psysml:3ae9698c-7b02-4bda-a9f9-90d299fbd69b\" xlink:show=\"new\" xlink:title=\"psysml:3ae9698c-7b02-4bda-a9f9-90d299fbd69b\" xlink:type=\"simple\"><polygon fill=\"#FFFFFF\" points=\"16,6,196,6,203,28.2969,219,28.2969,219,298,16,298,16,6\" style=\"stroke: #000000; stroke-width: 1.5;\"/><line style=\"stroke: #000000; stroke-width: 1.5;\" x1=\"16\" x2=\"203\" y1=\"28.2969\" y2=\"28.2969\"/><text fill=\"#000000\" font-family=\"sans-serif\" font-size=\"14\" font-weight=\"bold\" lengthAdjust=\"spacingAndGlyphs\" textLength=\"174\" x=\"20\" y=\"20.9951\">QualifiedNameImportTest</text></a><!--MD5=[e4f7fae6ed58524ba242bb0b0d3be6b7]\n",
       "cluster E2--><a href=\"psysml:1cd01716-9110-4b9f-8aee-0302fbd4d98f\" target=\"_top\" title=\"psysml:1cd01716-9110-4b9f-8aee-0302fbd4d98f\" xlink:actuate=\"onRequest\" xlink:href=\"psysml:1cd01716-9110-4b9f-8aee-0302fbd4d98f\" xlink:show=\"new\" xlink:title=\"psysml:1cd01716-9110-4b9f-8aee-0302fbd4d98f\" xlink:type=\"simple\"><polygon fill=\"#FFFFFF\" points=\"93,177,117,177,124,199.2969,195,199.2969,195,274,93,274,93,177\" style=\"stroke: #000000; stroke-width: 1.5;\"/><line style=\"stroke: #000000; stroke-width: 1.5;\" x1=\"93\" x2=\"124\" y1=\"199.2969\" y2=\"199.2969\"/><text fill=\"#000000\" font-family=\"sans-serif\" font-size=\"14\" font-weight=\"bold\" lengthAdjust=\"spacingAndGlyphs\" textLength=\"18\" x=\"97\" y=\"191.9951\">P1</text></a><!--MD5=[f6df4d0ebaf0b5dfb2ced0ae5af7c670]\n",
       "cluster E4--><a href=\"psysml:41fe529f-0d81-4eb7-adf7-d3411e3f84fb\" target=\"_top\" title=\"psysml:41fe529f-0d81-4eb7-adf7-d3411e3f84fb\" xlink:actuate=\"onRequest\" xlink:href=\"psysml:41fe529f-0d81-4eb7-adf7-d3411e3f84fb\" xlink:show=\"new\" xlink:title=\"psysml:41fe529f-0d81-4eb7-adf7-d3411e3f84fb\" xlink:type=\"simple\"><polygon fill=\"#FFFFFF\" points=\"40,49,64,49,71,71.2969,195,71.2969,195,153,40,153,40,49\" style=\"stroke: #000000; stroke-width: 1.5;\"/><line style=\"stroke: #000000; stroke-width: 1.5;\" x1=\"40\" x2=\"71\" y1=\"71.2969\" y2=\"71.2969\"/><text fill=\"#000000\" font-family=\"sans-serif\" font-size=\"14\" font-weight=\"bold\" lengthAdjust=\"spacingAndGlyphs\" textLength=\"18\" x=\"44\" y=\"63.9951\">P2</text></a><!--MD5=[09b614a08d8cba4a07c9adeb5e0fee81]\n",
       "class E3--><a href=\"psysml:9b3dc75b-1d88-4bb0-99bb-db4dbafde32b\" target=\"_top\" title=\"psysml:9b3dc75b-1d88-4bb0-99bb-db4dbafde32b\" xlink:actuate=\"onRequest\" xlink:href=\"psysml:9b3dc75b-1d88-4bb0-99bb-db4dbafde32b\" xlink:show=\"new\" xlink:title=\"psysml:9b3dc75b-1d88-4bb0-99bb-db4dbafde32b\" xlink:type=\"simple\"><rect fill=\"#FFFFFF\" height=\"45.9375\" id=\"E3\" style=\"stroke: #383838; stroke-width: 1.5;\" width=\"70\" x=\"109\" y=\"212\"/><text fill=\"#000000\" font-family=\"sans-serif\" font-size=\"12\" font-style=\"italic\" lengthAdjust=\"spacingAndGlyphs\" textLength=\"68\" x=\"110\" y=\"228.1387\">«part  def»</text><text fill=\"#000000\" font-family=\"sans-serif\" font-size=\"12\" lengthAdjust=\"spacingAndGlyphs\" textLength=\"8\" x=\"140\" y=\"242.1074\">A</text><line style=\"stroke: #383838; stroke-width: 1.5;\" x1=\"110\" x2=\"178\" y1=\"249.9375\" y2=\"249.9375\"/></a><!--MD5=[60a26617385b1d2d0262a64233df1f8d]\n",
       "class E6--><a href=\"psysml:06f81dae-fa7a-4401-9cfd-15cc868431a4\" target=\"_top\" title=\"psysml:06f81dae-fa7a-4401-9cfd-15cc868431a4\" xlink:actuate=\"onRequest\" xlink:href=\"psysml:06f81dae-fa7a-4401-9cfd-15cc868431a4\" xlink:show=\"new\" xlink:title=\"psysml:06f81dae-fa7a-4401-9cfd-15cc868431a4\" xlink:type=\"simple\"><rect fill=\"#FFFFFF\" height=\"45.9375\" id=\"E6\" rx=\"10\" ry=\"10\" style=\"stroke: #383838; stroke-width: 1.5;\" width=\"42\" x=\"137\" y=\"87.5\"/><text fill=\"#000000\" font-family=\"sans-serif\" font-size=\"12\" font-style=\"italic\" lengthAdjust=\"spacingAndGlyphs\" textLength=\"40\" x=\"138\" y=\"103.6387\">«part»</text><text fill=\"#000000\" font-family=\"sans-serif\" font-size=\"12\" lengthAdjust=\"spacingAndGlyphs\" textLength=\"22\" x=\"145\" y=\"117.6074\">x: A</text><line style=\"stroke: #383838; stroke-width: 1.5;\" x1=\"138\" x2=\"178\" y1=\"125.4375\" y2=\"125.4375\"/></a><a href=\"psysml:f3db2951-3782-436b-a6ad-64914b64a485\" target=\"_top\" title=\"psysml:f3db2951-3782-436b-a6ad-64914b64a485\" xlink:actuate=\"onRequest\" xlink:href=\"psysml:f3db2951-3782-436b-a6ad-64914b64a485\" xlink:show=\"new\" xlink:title=\"psysml:f3db2951-3782-436b-a6ad-64914b64a485\" xlink:type=\"simple\"><polygon fill=\"#FFFFFF\" points=\"56,84,88,84,95,106.2969,102,106.2969,102,136.5938,56,136.5938,56,84\" style=\"stroke: #000000; stroke-width: 1.5;\"/><line style=\"stroke: #000000; stroke-width: 1.5;\" x1=\"56\" x2=\"95\" y1=\"106.2969\" y2=\"106.2969\"/><text fill=\"#000000\" font-family=\"sans-serif\" font-size=\"14\" font-weight=\"bold\" lengthAdjust=\"spacingAndGlyphs\" textLength=\"26\" x=\"60\" y=\"98.9951\">P2a</text></a><!--MD5=[a717450b82c80b9240a525fa862496af]\n",
       "link E6 to E3--><a href=\"psysml:7ae3fb41-5537-4752-a539-fb13bd5d368f\" target=\"_top\" title=\"psysml:7ae3fb41-5537-4752-a539-fb13bd5d368f\" xlink:actuate=\"onRequest\" xlink:href=\"psysml:7ae3fb41-5537-4752-a539-fb13bd5d368f\" xlink:show=\"new\" xlink:title=\"psysml:7ae3fb41-5537-4752-a539-fb13bd5d368f\" xlink:type=\"simple\"><path d=\"M155.46,133.68 C153.61,149.9 151.04,172.39 148.8,191.96 \" fill=\"none\" id=\"E6-&gt;E3\" style=\"stroke: #383838; stroke-width: 1.0;\"/><polygon fill=\"#FFFFFF\" points=\"146.52,211.98,141.7231,192.308,155.6325,193.8979,146.52,211.98\" style=\"stroke: #383838; stroke-width: 1.0;\"/><ellipse cx=\"144.3574\" cy=\"186.872\" fill=\"#383838\" rx=\"2\" ry=\"2\" style=\"stroke: #383838; stroke-width: 1.0;\"/><ellipse cx=\"154.2928\" cy=\"188.0076\" fill=\"#383838\" rx=\"2\" ry=\"2\" style=\"stroke: #383838; stroke-width: 1.0;\"/></a><!--MD5=[9f1b9926ac44ea90569e0aff7394d9fe]\n",
       "@startuml\r\n",
       "skinparam monochrome true\r\n",
       "skinparam classbackgroundcolor white\r\n",
       "skinparam shadowing false\r\n",
       "skinparam wrapWidth 300\r\n",
       "hide circle\r\n",
       "\r\n",
       "package \"QualifiedNameImportTest\" as E1  [[psysml:3ae9698c-7b02-4bda-a9f9-90d299fbd69b ]]  {\r\n",
       "package \"P1\" as E2  [[psysml:1cd01716-9110-4b9f-8aee-0302fbd4d98f ]]  {\r\n",
       "comp def \"A\" as E3  <<(T,blue) part  def>> [[psysml:9b3dc75b-1d88-4bb0-99bb-db4dbafde32b ]] {\r\n",
       "}\r\n",
       "}\r\n",
       "package \"P2\" as E4  [[psysml:41fe529f-0d81-4eb7-adf7-d3411e3f84fb ]]  {\r\n",
       "package \"P2a\" as E5  [[psysml:f3db2951-3782-436b-a6ad-64914b64a485 ]]  {\r\n",
       "}\r\n",
       "comp usage \"x: A \" as E6  <<(T,blue) part>> [[psysml:06f81dae-fa7a-4401-9cfd-15cc868431a4 ]] {\r\n",
       "}\r\n",
       "}\r\n",
       "}\r\n",
       "E6 - -:|> E3 [[psysml:7ae3fb41-5537-4752-a539-fb13bd5d368f ]] \r\n",
       "@enduml\r\n",
       "\n",
       "PlantUML version 1.2020.13(Sat Jun 13 12:26:38 UTC 2020)\n",
       "(EPL source distribution)\n",
       "Java Runtime: OpenJDK Runtime Environment\n",
       "JVM: OpenJDK 64-Bit Server VM\n",
       "Default Encoding: UTF-8\n",
       "Language: en\n",
       "Country: null\n",
       "--></g></svg>"
      ]
     },
     "execution_count": 37,
     "metadata": {},
     "output_type": "execute_result"
    }
   ],
   "source": [
    "%viz --style=\"DEFAULT\" --view=\"Default\" \"QualifiedNameImportTest\""
   ]
  },
  {
   "cell_type": "code",
   "execution_count": 38,
   "id": "30244d70",
   "metadata": {
    "execution": {
     "iopub.execute_input": "2022-02-05T16:55:53.800142Z",
     "iopub.status.busy": "2022-02-05T16:55:53.799720Z",
     "iopub.status.idle": "2022-02-05T16:55:53.828684Z",
     "shell.execute_reply": "2022-02-05T16:55:53.828311Z"
    }
   },
   "outputs": [
    {
     "data": {
      "image/svg+xml": [
       "<?xml version=\"1.0\" encoding=\"UTF-8\" standalone=\"no\"?><svg xmlns=\"http://www.w3.org/2000/svg\" xmlns:xlink=\"http://www.w3.org/1999/xlink\" contentScriptType=\"application/ecmascript\" contentStyleType=\"text/css\" height=\"310px\" preserveAspectRatio=\"none\" style=\"width:241px;height:310px;\" version=\"1.1\" viewBox=\"0 0 241 310\" width=\"241px\" zoomAndPan=\"magnify\"><defs/><g><!--MD5=[fbc87193dbaf4d95561dea2c320d4a47]\n",
       "cluster E1--><a href=\"psysml:3ae9698c-7b02-4bda-a9f9-90d299fbd69b\" target=\"_top\" title=\"psysml:3ae9698c-7b02-4bda-a9f9-90d299fbd69b\" xlink:actuate=\"onRequest\" xlink:href=\"psysml:3ae9698c-7b02-4bda-a9f9-90d299fbd69b\" xlink:show=\"new\" xlink:title=\"psysml:3ae9698c-7b02-4bda-a9f9-90d299fbd69b\" xlink:type=\"simple\"><polygon fill=\"#FFFFFF\" points=\"16,6,196,6,203,28.2969,219,28.2969,219,298,16,298,16,6\" style=\"stroke: #000000; stroke-width: 1.5;\"/><line style=\"stroke: #000000; stroke-width: 1.5;\" x1=\"16\" x2=\"203\" y1=\"28.2969\" y2=\"28.2969\"/><text fill=\"#000000\" font-family=\"sans-serif\" font-size=\"14\" font-weight=\"bold\" lengthAdjust=\"spacingAndGlyphs\" textLength=\"174\" x=\"20\" y=\"20.9951\">QualifiedNameImportTest</text></a><!--MD5=[e4f7fae6ed58524ba242bb0b0d3be6b7]\n",
       "cluster E2--><a href=\"psysml:1cd01716-9110-4b9f-8aee-0302fbd4d98f\" target=\"_top\" title=\"psysml:1cd01716-9110-4b9f-8aee-0302fbd4d98f\" xlink:actuate=\"onRequest\" xlink:href=\"psysml:1cd01716-9110-4b9f-8aee-0302fbd4d98f\" xlink:show=\"new\" xlink:title=\"psysml:1cd01716-9110-4b9f-8aee-0302fbd4d98f\" xlink:type=\"simple\"><polygon fill=\"#FFFFFF\" points=\"93,177,117,177,124,199.2969,195,199.2969,195,274,93,274,93,177\" style=\"stroke: #000000; stroke-width: 1.5;\"/><line style=\"stroke: #000000; stroke-width: 1.5;\" x1=\"93\" x2=\"124\" y1=\"199.2969\" y2=\"199.2969\"/><text fill=\"#000000\" font-family=\"sans-serif\" font-size=\"14\" font-weight=\"bold\" lengthAdjust=\"spacingAndGlyphs\" textLength=\"18\" x=\"97\" y=\"191.9951\">P1</text></a><!--MD5=[f6df4d0ebaf0b5dfb2ced0ae5af7c670]\n",
       "cluster E4--><a href=\"psysml:41fe529f-0d81-4eb7-adf7-d3411e3f84fb\" target=\"_top\" title=\"psysml:41fe529f-0d81-4eb7-adf7-d3411e3f84fb\" xlink:actuate=\"onRequest\" xlink:href=\"psysml:41fe529f-0d81-4eb7-adf7-d3411e3f84fb\" xlink:show=\"new\" xlink:title=\"psysml:41fe529f-0d81-4eb7-adf7-d3411e3f84fb\" xlink:type=\"simple\"><polygon fill=\"#FFFFFF\" points=\"40,49,64,49,71,71.2969,195,71.2969,195,153,40,153,40,49\" style=\"stroke: #000000; stroke-width: 1.5;\"/><line style=\"stroke: #000000; stroke-width: 1.5;\" x1=\"40\" x2=\"71\" y1=\"71.2969\" y2=\"71.2969\"/><text fill=\"#000000\" font-family=\"sans-serif\" font-size=\"14\" font-weight=\"bold\" lengthAdjust=\"spacingAndGlyphs\" textLength=\"18\" x=\"44\" y=\"63.9951\">P2</text></a><!--MD5=[09b614a08d8cba4a07c9adeb5e0fee81]\n",
       "class E3--><a href=\"psysml:9b3dc75b-1d88-4bb0-99bb-db4dbafde32b\" target=\"_top\" title=\"psysml:9b3dc75b-1d88-4bb0-99bb-db4dbafde32b\" xlink:actuate=\"onRequest\" xlink:href=\"psysml:9b3dc75b-1d88-4bb0-99bb-db4dbafde32b\" xlink:show=\"new\" xlink:title=\"psysml:9b3dc75b-1d88-4bb0-99bb-db4dbafde32b\" xlink:type=\"simple\"><rect fill=\"#FFFFFF\" height=\"45.9375\" id=\"E3\" style=\"stroke: #383838; stroke-width: 1.5;\" width=\"70\" x=\"109\" y=\"212\"/><text fill=\"#000000\" font-family=\"sans-serif\" font-size=\"12\" font-style=\"italic\" lengthAdjust=\"spacingAndGlyphs\" textLength=\"68\" x=\"110\" y=\"228.1387\">«part  def»</text><text fill=\"#000000\" font-family=\"sans-serif\" font-size=\"12\" lengthAdjust=\"spacingAndGlyphs\" textLength=\"8\" x=\"140\" y=\"242.1074\">A</text><line style=\"stroke: #383838; stroke-width: 1.5;\" x1=\"110\" x2=\"178\" y1=\"249.9375\" y2=\"249.9375\"/></a><!--MD5=[60a26617385b1d2d0262a64233df1f8d]\n",
       "class E6--><a href=\"psysml:06f81dae-fa7a-4401-9cfd-15cc868431a4\" target=\"_top\" title=\"psysml:06f81dae-fa7a-4401-9cfd-15cc868431a4\" xlink:actuate=\"onRequest\" xlink:href=\"psysml:06f81dae-fa7a-4401-9cfd-15cc868431a4\" xlink:show=\"new\" xlink:title=\"psysml:06f81dae-fa7a-4401-9cfd-15cc868431a4\" xlink:type=\"simple\"><rect fill=\"#FFFFFF\" height=\"45.9375\" id=\"E6\" rx=\"10\" ry=\"10\" style=\"stroke: #383838; stroke-width: 1.5;\" width=\"42\" x=\"137\" y=\"87.5\"/><text fill=\"#000000\" font-family=\"sans-serif\" font-size=\"12\" font-style=\"italic\" lengthAdjust=\"spacingAndGlyphs\" textLength=\"40\" x=\"138\" y=\"103.6387\">«part»</text><text fill=\"#000000\" font-family=\"sans-serif\" font-size=\"12\" lengthAdjust=\"spacingAndGlyphs\" textLength=\"22\" x=\"145\" y=\"117.6074\">x: A</text><line style=\"stroke: #383838; stroke-width: 1.5;\" x1=\"138\" x2=\"178\" y1=\"125.4375\" y2=\"125.4375\"/></a><a href=\"psysml:f3db2951-3782-436b-a6ad-64914b64a485\" target=\"_top\" title=\"psysml:f3db2951-3782-436b-a6ad-64914b64a485\" xlink:actuate=\"onRequest\" xlink:href=\"psysml:f3db2951-3782-436b-a6ad-64914b64a485\" xlink:show=\"new\" xlink:title=\"psysml:f3db2951-3782-436b-a6ad-64914b64a485\" xlink:type=\"simple\"><polygon fill=\"#FFFFFF\" points=\"56,84,88,84,95,106.2969,102,106.2969,102,136.5938,56,136.5938,56,84\" style=\"stroke: #000000; stroke-width: 1.5;\"/><line style=\"stroke: #000000; stroke-width: 1.5;\" x1=\"56\" x2=\"95\" y1=\"106.2969\" y2=\"106.2969\"/><text fill=\"#000000\" font-family=\"sans-serif\" font-size=\"14\" font-weight=\"bold\" lengthAdjust=\"spacingAndGlyphs\" textLength=\"26\" x=\"60\" y=\"98.9951\">P2a</text></a><!--MD5=[a717450b82c80b9240a525fa862496af]\n",
       "link E6 to E3--><a href=\"psysml:7ae3fb41-5537-4752-a539-fb13bd5d368f\" target=\"_top\" title=\"psysml:7ae3fb41-5537-4752-a539-fb13bd5d368f\" xlink:actuate=\"onRequest\" xlink:href=\"psysml:7ae3fb41-5537-4752-a539-fb13bd5d368f\" xlink:show=\"new\" xlink:title=\"psysml:7ae3fb41-5537-4752-a539-fb13bd5d368f\" xlink:type=\"simple\"><path d=\"M155.46,133.68 C153.61,149.9 151.04,172.39 148.8,191.96 \" fill=\"none\" id=\"E6-&gt;E3\" style=\"stroke: #383838; stroke-width: 1.0;\"/><polygon fill=\"#FFFFFF\" points=\"146.52,211.98,141.7231,192.308,155.6325,193.8979,146.52,211.98\" style=\"stroke: #383838; stroke-width: 1.0;\"/><ellipse cx=\"144.3574\" cy=\"186.872\" fill=\"#383838\" rx=\"2\" ry=\"2\" style=\"stroke: #383838; stroke-width: 1.0;\"/><ellipse cx=\"154.2928\" cy=\"188.0076\" fill=\"#383838\" rx=\"2\" ry=\"2\" style=\"stroke: #383838; stroke-width: 1.0;\"/></a><!--MD5=[9f1b9926ac44ea90569e0aff7394d9fe]\n",
       "@startuml\r\n",
       "skinparam monochrome true\r\n",
       "skinparam classbackgroundcolor white\r\n",
       "skinparam shadowing false\r\n",
       "skinparam wrapWidth 300\r\n",
       "hide circle\r\n",
       "\r\n",
       "package \"QualifiedNameImportTest\" as E1  [[psysml:3ae9698c-7b02-4bda-a9f9-90d299fbd69b ]]  {\r\n",
       "package \"P1\" as E2  [[psysml:1cd01716-9110-4b9f-8aee-0302fbd4d98f ]]  {\r\n",
       "comp def \"A\" as E3  <<(T,blue) part  def>> [[psysml:9b3dc75b-1d88-4bb0-99bb-db4dbafde32b ]] {\r\n",
       "}\r\n",
       "}\r\n",
       "package \"P2\" as E4  [[psysml:41fe529f-0d81-4eb7-adf7-d3411e3f84fb ]]  {\r\n",
       "package \"P2a\" as E5  [[psysml:f3db2951-3782-436b-a6ad-64914b64a485 ]]  {\r\n",
       "}\r\n",
       "comp usage \"x: A \" as E6  <<(T,blue) part>> [[psysml:06f81dae-fa7a-4401-9cfd-15cc868431a4 ]] {\r\n",
       "}\r\n",
       "}\r\n",
       "}\r\n",
       "E6 - -:|> E3 [[psysml:7ae3fb41-5537-4752-a539-fb13bd5d368f ]] \r\n",
       "@enduml\r\n",
       "\n",
       "PlantUML version 1.2020.13(Sat Jun 13 12:26:38 UTC 2020)\n",
       "(EPL source distribution)\n",
       "Java Runtime: OpenJDK Runtime Environment\n",
       "JVM: OpenJDK 64-Bit Server VM\n",
       "Default Encoding: UTF-8\n",
       "Language: en\n",
       "Country: null\n",
       "--></g></svg>"
      ]
     },
     "execution_count": 38,
     "metadata": {},
     "output_type": "execute_result"
    }
   ],
   "source": [
    "%viz --style=\"DEFAULT\" --view=\"Tree\" \"QualifiedNameImportTest\""
   ]
  },
  {
   "cell_type": "code",
   "execution_count": 39,
   "id": "008c80ad",
   "metadata": {
    "execution": {
     "iopub.execute_input": "2022-02-05T16:55:53.878326Z",
     "iopub.status.busy": "2022-02-05T16:55:53.877910Z",
     "iopub.status.idle": "2022-02-05T16:55:53.882357Z",
     "shell.execute_reply": "2022-02-05T16:55:53.882677Z"
    }
   },
   "outputs": [
    {
     "data": {
      "image/svg+xml": [
       "<?xml version=\"1.0\" encoding=\"UTF-8\" standalone=\"no\"?><svg xmlns=\"http://www.w3.org/2000/svg\" xmlns:xlink=\"http://www.w3.org/1999/xlink\" contentScriptType=\"application/ecmascript\" contentStyleType=\"text/css\" height=\"12px\" preserveAspectRatio=\"none\" style=\"width:12px;height:12px;\" version=\"1.1\" viewBox=\"0 0 12 12\" width=\"12px\" zoomAndPan=\"magnify\"><defs/><g><!--MD5=[c5f280e076d0d61ccf4b0f27871bda1d]\n",
       "@startuml\r\n",
       "skinparam monochrome true\r\n",
       "skinparam classbackgroundcolor white\r\n",
       "skinparam shadowing false\r\n",
       "skinparam wrapWidth 300\r\n",
       "hide circle\r\n",
       "\r\n",
       "@enduml\r\n",
       "\n",
       "PlantUML version 1.2020.13(Sat Jun 13 12:26:38 UTC 2020)\n",
       "(EPL source distribution)\n",
       "Java Runtime: OpenJDK Runtime Environment\n",
       "JVM: OpenJDK 64-Bit Server VM\n",
       "Default Encoding: UTF-8\n",
       "Language: en\n",
       "Country: null\n",
       "--></g></svg>"
      ]
     },
     "execution_count": 39,
     "metadata": {},
     "output_type": "execute_result"
    }
   ],
   "source": [
    "%viz --style=\"DEFAULT\" --view=\"State\" \"QualifiedNameImportTest\""
   ]
  },
  {
   "cell_type": "code",
   "execution_count": 40,
   "id": "9497e969",
   "metadata": {
    "execution": {
     "iopub.execute_input": "2022-02-05T16:55:53.932674Z",
     "iopub.status.busy": "2022-02-05T16:55:53.932260Z",
     "iopub.status.idle": "2022-02-05T16:55:53.959382Z",
     "shell.execute_reply": "2022-02-05T16:55:53.959062Z"
    }
   },
   "outputs": [
    {
     "data": {
      "image/svg+xml": [
       "<?xml version=\"1.0\" encoding=\"UTF-8\" standalone=\"no\"?><svg xmlns=\"http://www.w3.org/2000/svg\" xmlns:xlink=\"http://www.w3.org/1999/xlink\" contentScriptType=\"application/ecmascript\" contentStyleType=\"text/css\" height=\"189px\" preserveAspectRatio=\"none\" style=\"width:379px;height:189px;\" version=\"1.1\" viewBox=\"0 0 379 189\" width=\"379px\" zoomAndPan=\"magnify\"><defs/><g><!--MD5=[fbc87193dbaf4d95561dea2c320d4a47]\n",
       "cluster E1--><a href=\"psysml:3ae9698c-7b02-4bda-a9f9-90d299fbd69b\" target=\"_top\" title=\"psysml:3ae9698c-7b02-4bda-a9f9-90d299fbd69b\" xlink:actuate=\"onRequest\" xlink:href=\"psysml:3ae9698c-7b02-4bda-a9f9-90d299fbd69b\" xlink:show=\"new\" xlink:title=\"psysml:3ae9698c-7b02-4bda-a9f9-90d299fbd69b\" xlink:type=\"simple\"><polygon fill=\"#FFFFFF\" points=\"16,6,196,6,203,28.2969,357,28.2969,357,177,16,177,16,6\" style=\"stroke: #000000; stroke-width: 1.5;\"/><line style=\"stroke: #000000; stroke-width: 1.5;\" x1=\"16\" x2=\"203\" y1=\"28.2969\" y2=\"28.2969\"/><text fill=\"#000000\" font-family=\"sans-serif\" font-size=\"14\" font-weight=\"bold\" lengthAdjust=\"spacingAndGlyphs\" textLength=\"174\" x=\"20\" y=\"20.9951\">QualifiedNameImportTest</text></a><!--MD5=[e4f7fae6ed58524ba242bb0b0d3be6b7]\n",
       "cluster E2--><a href=\"psysml:1cd01716-9110-4b9f-8aee-0302fbd4d98f\" target=\"_top\" title=\"psysml:1cd01716-9110-4b9f-8aee-0302fbd4d98f\" xlink:actuate=\"onRequest\" xlink:href=\"psysml:1cd01716-9110-4b9f-8aee-0302fbd4d98f\" xlink:show=\"new\" xlink:title=\"psysml:1cd01716-9110-4b9f-8aee-0302fbd4d98f\" xlink:type=\"simple\"><polygon fill=\"#FFFFFF\" points=\"227,54,251,54,258,76.2969,333,76.2969,333,148,227,148,227,54\" style=\"stroke: #000000; stroke-width: 1.5;\"/><line style=\"stroke: #000000; stroke-width: 1.5;\" x1=\"227\" x2=\"258\" y1=\"76.2969\" y2=\"76.2969\"/><text fill=\"#000000\" font-family=\"sans-serif\" font-size=\"14\" font-weight=\"bold\" lengthAdjust=\"spacingAndGlyphs\" textLength=\"18\" x=\"231\" y=\"68.9951\">P1</text></a><!--MD5=[f6df4d0ebaf0b5dfb2ced0ae5af7c670]\n",
       "cluster E4--><a href=\"psysml:41fe529f-0d81-4eb7-adf7-d3411e3f84fb\" target=\"_top\" title=\"psysml:41fe529f-0d81-4eb7-adf7-d3411e3f84fb\" xlink:actuate=\"onRequest\" xlink:href=\"psysml:41fe529f-0d81-4eb7-adf7-d3411e3f84fb\" xlink:show=\"new\" xlink:title=\"psysml:41fe529f-0d81-4eb7-adf7-d3411e3f84fb\" xlink:type=\"simple\"><polygon fill=\"#FFFFFF\" points=\"40,49,64,49,71,71.2969,203,71.2969,203,153,40,153,40,49\" style=\"stroke: #000000; stroke-width: 1.5;\"/><line style=\"stroke: #000000; stroke-width: 1.5;\" x1=\"40\" x2=\"71\" y1=\"71.2969\" y2=\"71.2969\"/><text fill=\"#000000\" font-family=\"sans-serif\" font-size=\"14\" font-weight=\"bold\" lengthAdjust=\"spacingAndGlyphs\" textLength=\"18\" x=\"44\" y=\"63.9951\">P2</text></a><g id=\"E1.E2.E3\"><a href=\"psysml:9b3dc75b-1d88-4bb0-99bb-db4dbafde32b\" target=\"_top\" title=\"psysml:9b3dc75b-1d88-4bb0-99bb-db4dbafde32b\" xlink:actuate=\"onRequest\" xlink:href=\"psysml:9b3dc75b-1d88-4bb0-99bb-db4dbafde32b\" xlink:show=\"new\" xlink:title=\"psysml:9b3dc75b-1d88-4bb0-99bb-db4dbafde32b\" xlink:type=\"simple\"><rect fill=\"#FFFFFF\" height=\"42.9375\" id=\"E3\" style=\"stroke: #383838; stroke-width: 1.5;\" width=\"75\" x=\"242.5\" y=\"89\"/><rect fill=\"#F8F8F8\" height=\"37.9375\" style=\"stroke: #383838; stroke-width: 1.5;\" width=\"75\" x=\"242.5\" y=\"89\"/><text fill=\"#000000\" font-family=\"sans-serif\" font-size=\"12\" font-style=\"italic\" lengthAdjust=\"spacingAndGlyphs\" textLength=\"68\" x=\"246\" y=\"105.1387\">«part  def»</text><text fill=\"#000000\" font-family=\"sans-serif\" font-size=\"12\" lengthAdjust=\"spacingAndGlyphs\" textLength=\"8\" x=\"276\" y=\"119.1074\">A</text></a></g><a href=\"psysml:f3db2951-3782-436b-a6ad-64914b64a485\" target=\"_top\" title=\"psysml:f3db2951-3782-436b-a6ad-64914b64a485\" xlink:actuate=\"onRequest\" xlink:href=\"psysml:f3db2951-3782-436b-a6ad-64914b64a485\" xlink:show=\"new\" xlink:title=\"psysml:f3db2951-3782-436b-a6ad-64914b64a485\" xlink:type=\"simple\"><polygon fill=\"#FFFFFF\" points=\"141,84,173,84,180,106.2969,187,106.2969,187,136.5938,141,136.5938,141,84\" style=\"stroke: #000000; stroke-width: 1.5;\"/><line style=\"stroke: #000000; stroke-width: 1.5;\" x1=\"141\" x2=\"180\" y1=\"106.2969\" y2=\"106.2969\"/><text fill=\"#000000\" font-family=\"sans-serif\" font-size=\"14\" font-weight=\"bold\" lengthAdjust=\"spacingAndGlyphs\" textLength=\"26\" x=\"145\" y=\"98.9951\">P2a</text></a><g id=\"E1.E4.E6\"><a href=\"psysml:06f81dae-fa7a-4401-9cfd-15cc868431a4\" target=\"_top\" title=\"psysml:06f81dae-fa7a-4401-9cfd-15cc868431a4\" xlink:actuate=\"onRequest\" xlink:href=\"psysml:06f81dae-fa7a-4401-9cfd-15cc868431a4\" xlink:show=\"new\" xlink:title=\"psysml:06f81dae-fa7a-4401-9cfd-15cc868431a4\" xlink:type=\"simple\"><rect fill=\"#FFFFFF\" height=\"40\" id=\"E6\" rx=\"10\" ry=\"10\" style=\"stroke: #383838; stroke-width: 1.5;\" width=\"50\" x=\"56\" y=\"90.5\"/><rect fill=\"#F8F8F8\" height=\"23.9688\" rx=\"10\" ry=\"10\" style=\"stroke: #F8F8F8; stroke-width: 1.5;\" width=\"50\" x=\"56\" y=\"90.5\"/><rect fill=\"#F8F8F8\" height=\"10\" style=\"stroke: #F8F8F8; stroke-width: 1.5;\" width=\"50\" x=\"56\" y=\"104.4688\"/><rect fill=\"none\" height=\"40\" id=\"E6\" rx=\"10\" ry=\"10\" style=\"stroke: #383838; stroke-width: 1.5;\" width=\"50\" x=\"56\" y=\"90.5\"/><text fill=\"#000000\" font-family=\"sans-serif\" font-size=\"12\" lengthAdjust=\"spacingAndGlyphs\" textLength=\"22\" x=\"70\" y=\"106.6387\">x: A</text></a></g><!--MD5=[6d57a6b74cc25c162d82d307f85c1eaf]\n",
       "@startuml\r\n",
       "skinparam ranksep 10\r\n",
       "skinparam rectangle {\r\n",
       " backgroundColor<<block>> LightGreen\r\n",
       "}\r\n",
       "skinparam monochrome true\r\n",
       "skinparam classbackgroundcolor white\r\n",
       "skinparam shadowing false\r\n",
       "skinparam wrapWidth 300\r\n",
       "hide circle\r\n",
       "\r\n",
       "package \"QualifiedNameImportTest\" as E1  [[psysml:3ae9698c-7b02-4bda-a9f9-90d299fbd69b ]]  {\r\n",
       "package \"P1\" as E2  [[psysml:1cd01716-9110-4b9f-8aee-0302fbd4d98f ]]  {\r\n",
       "rec def \"A\" as E3  <<(T,blue) part  def>> [[psysml:9b3dc75b-1d88-4bb0-99bb-db4dbafde32b ]] {\r\n",
       "}\r\n",
       "}\r\n",
       "package \"P2\" as E4  [[psysml:41fe529f-0d81-4eb7-adf7-d3411e3f84fb ]]  {\r\n",
       "package \"P2a\" as E5  [[psysml:f3db2951-3782-436b-a6ad-64914b64a485 ]]  {\r\n",
       "}\r\n",
       "rec usage \"x: A\" as E6  [[psysml:06f81dae-fa7a-4401-9cfd-15cc868431a4 ]] {\r\n",
       "}\r\n",
       "}\r\n",
       "}\r\n",
       "@enduml\r\n",
       "\n",
       "PlantUML version 1.2020.13(Sat Jun 13 12:26:38 UTC 2020)\n",
       "(EPL source distribution)\n",
       "Java Runtime: OpenJDK Runtime Environment\n",
       "JVM: OpenJDK 64-Bit Server VM\n",
       "Default Encoding: UTF-8\n",
       "Language: en\n",
       "Country: null\n",
       "--></g></svg>"
      ]
     },
     "execution_count": 40,
     "metadata": {},
     "output_type": "execute_result"
    }
   ],
   "source": [
    "%viz --style=\"DEFAULT\" --view=\"Interconnection\" \"QualifiedNameImportTest\""
   ]
  },
  {
   "cell_type": "code",
   "execution_count": 41,
   "id": "0b50e13a",
   "metadata": {
    "execution": {
     "iopub.execute_input": "2022-02-05T16:55:54.009290Z",
     "iopub.status.busy": "2022-02-05T16:55:54.008864Z",
     "iopub.status.idle": "2022-02-05T16:55:54.014061Z",
     "shell.execute_reply": "2022-02-05T16:55:54.013711Z"
    }
   },
   "outputs": [
    {
     "data": {
      "image/svg+xml": [
       "<?xml version=\"1.0\" encoding=\"UTF-8\" standalone=\"no\"?><svg xmlns=\"http://www.w3.org/2000/svg\" xmlns:xlink=\"http://www.w3.org/1999/xlink\" contentScriptType=\"application/ecmascript\" contentStyleType=\"text/css\" height=\"12px\" preserveAspectRatio=\"none\" style=\"width:12px;height:12px;\" version=\"1.1\" viewBox=\"0 0 12 12\" width=\"12px\" zoomAndPan=\"magnify\"><defs/><g><!--MD5=[388f21188e31bfdd97050473b19af356]\n",
       "@startuml\r\n",
       "skinparam ranksep 8\r\n",
       "skinparam monochrome true\r\n",
       "skinparam classbackgroundcolor white\r\n",
       "skinparam shadowing false\r\n",
       "skinparam wrapWidth 300\r\n",
       "hide circle\r\n",
       "\r\n",
       "@enduml\r\n",
       "\n",
       "PlantUML version 1.2020.13(Sat Jun 13 12:26:38 UTC 2020)\n",
       "(EPL source distribution)\n",
       "Java Runtime: OpenJDK Runtime Environment\n",
       "JVM: OpenJDK 64-Bit Server VM\n",
       "Default Encoding: UTF-8\n",
       "Language: en\n",
       "Country: null\n",
       "--></g></svg>"
      ]
     },
     "execution_count": 41,
     "metadata": {},
     "output_type": "execute_result"
    }
   ],
   "source": [
    "%viz --style=\"DEFAULT\" --view=\"Action\" \"QualifiedNameImportTest\""
   ]
  },
  {
   "cell_type": "code",
   "execution_count": 42,
   "id": "97e3e4e9",
   "metadata": {
    "execution": {
     "iopub.execute_input": "2022-02-05T16:55:54.063967Z",
     "iopub.status.busy": "2022-02-05T16:55:54.063549Z",
     "iopub.status.idle": "2022-02-05T16:55:54.069006Z",
     "shell.execute_reply": "2022-02-05T16:55:54.068642Z"
    }
   },
   "outputs": [
    {
     "data": {
      "image/svg+xml": [
       "<?xml version=\"1.0\" encoding=\"UTF-8\" standalone=\"no\"?><svg xmlns=\"http://www.w3.org/2000/svg\" xmlns:xlink=\"http://www.w3.org/1999/xlink\" contentScriptType=\"application/ecmascript\" contentStyleType=\"text/css\" height=\"12px\" preserveAspectRatio=\"none\" style=\"width:12px;height:12px;\" version=\"1.1\" viewBox=\"0 0 12 12\" width=\"12px\" zoomAndPan=\"magnify\"><defs/><g><!--MD5=[0b72472770326784bf6c2b53246e1e64]\n",
       "@startuml\r\n",
       "skinparam roundcorner 20\r\n",
       "skinparam BoxPadding 20\r\n",
       "skinparam SequenceBoxBackgroundColor #white\r\n",
       "skinparam style strictuml\r\n",
       "skinparam maxMessageSize 100\r\n",
       "skinparam monochrome true\r\n",
       "skinparam classbackgroundcolor white\r\n",
       "skinparam shadowing false\r\n",
       "skinparam wrapWidth 300\r\n",
       "hide circle\r\n",
       "\r\n",
       "@enduml\r\n",
       "\n",
       "PlantUML version 1.2020.13(Sat Jun 13 12:26:38 UTC 2020)\n",
       "(EPL source distribution)\n",
       "Java Runtime: OpenJDK Runtime Environment\n",
       "JVM: OpenJDK 64-Bit Server VM\n",
       "Default Encoding: UTF-8\n",
       "Language: en\n",
       "Country: null\n",
       "--></g></svg>"
      ]
     },
     "execution_count": 42,
     "metadata": {},
     "output_type": "execute_result"
    }
   ],
   "source": [
    "%viz --style=\"DEFAULT\" --view=\"Sequence\" \"QualifiedNameImportTest\""
   ]
  },
  {
   "cell_type": "code",
   "execution_count": 43,
   "id": "5939650a",
   "metadata": {
    "execution": {
     "iopub.execute_input": "2022-02-05T16:55:54.118933Z",
     "iopub.status.busy": "2022-02-05T16:55:54.118511Z",
     "iopub.status.idle": "2022-02-05T16:55:54.146094Z",
     "shell.execute_reply": "2022-02-05T16:55:54.144764Z"
    }
   },
   "outputs": [
    {
     "data": {
      "image/svg+xml": [
       "<?xml version=\"1.0\" encoding=\"UTF-8\" standalone=\"no\"?><svg xmlns=\"http://www.w3.org/2000/svg\" xmlns:xlink=\"http://www.w3.org/1999/xlink\" contentScriptType=\"application/ecmascript\" contentStyleType=\"text/css\" height=\"310px\" preserveAspectRatio=\"none\" style=\"width:241px;height:310px;\" version=\"1.1\" viewBox=\"0 0 241 310\" width=\"241px\" zoomAndPan=\"magnify\"><defs/><g><!--MD5=[fbc87193dbaf4d95561dea2c320d4a47]\n",
       "cluster E1--><a href=\"psysml:3ae9698c-7b02-4bda-a9f9-90d299fbd69b\" target=\"_top\" title=\"psysml:3ae9698c-7b02-4bda-a9f9-90d299fbd69b\" xlink:actuate=\"onRequest\" xlink:href=\"psysml:3ae9698c-7b02-4bda-a9f9-90d299fbd69b\" xlink:show=\"new\" xlink:title=\"psysml:3ae9698c-7b02-4bda-a9f9-90d299fbd69b\" xlink:type=\"simple\"><polygon fill=\"#FFFFFF\" points=\"16,6,196,6,203,28.2969,219,28.2969,219,298,16,298,16,6\" style=\"stroke: #000000; stroke-width: 1.5;\"/><line style=\"stroke: #000000; stroke-width: 1.5;\" x1=\"16\" x2=\"203\" y1=\"28.2969\" y2=\"28.2969\"/><text fill=\"#000000\" font-family=\"sans-serif\" font-size=\"14\" font-weight=\"bold\" lengthAdjust=\"spacingAndGlyphs\" textLength=\"174\" x=\"20\" y=\"20.9951\">QualifiedNameImportTest</text></a><!--MD5=[e4f7fae6ed58524ba242bb0b0d3be6b7]\n",
       "cluster E2--><a href=\"psysml:1cd01716-9110-4b9f-8aee-0302fbd4d98f\" target=\"_top\" title=\"psysml:1cd01716-9110-4b9f-8aee-0302fbd4d98f\" xlink:actuate=\"onRequest\" xlink:href=\"psysml:1cd01716-9110-4b9f-8aee-0302fbd4d98f\" xlink:show=\"new\" xlink:title=\"psysml:1cd01716-9110-4b9f-8aee-0302fbd4d98f\" xlink:type=\"simple\"><polygon fill=\"#FFFFFF\" points=\"93,177,117,177,124,199.2969,195,199.2969,195,274,93,274,93,177\" style=\"stroke: #000000; stroke-width: 1.5;\"/><line style=\"stroke: #000000; stroke-width: 1.5;\" x1=\"93\" x2=\"124\" y1=\"199.2969\" y2=\"199.2969\"/><text fill=\"#000000\" font-family=\"sans-serif\" font-size=\"14\" font-weight=\"bold\" lengthAdjust=\"spacingAndGlyphs\" textLength=\"18\" x=\"97\" y=\"191.9951\">P1</text></a><!--MD5=[f6df4d0ebaf0b5dfb2ced0ae5af7c670]\n",
       "cluster E4--><a href=\"psysml:41fe529f-0d81-4eb7-adf7-d3411e3f84fb\" target=\"_top\" title=\"psysml:41fe529f-0d81-4eb7-adf7-d3411e3f84fb\" xlink:actuate=\"onRequest\" xlink:href=\"psysml:41fe529f-0d81-4eb7-adf7-d3411e3f84fb\" xlink:show=\"new\" xlink:title=\"psysml:41fe529f-0d81-4eb7-adf7-d3411e3f84fb\" xlink:type=\"simple\"><polygon fill=\"#FFFFFF\" points=\"40,49,64,49,71,71.2969,195,71.2969,195,153,40,153,40,49\" style=\"stroke: #000000; stroke-width: 1.5;\"/><line style=\"stroke: #000000; stroke-width: 1.5;\" x1=\"40\" x2=\"71\" y1=\"71.2969\" y2=\"71.2969\"/><text fill=\"#000000\" font-family=\"sans-serif\" font-size=\"14\" font-weight=\"bold\" lengthAdjust=\"spacingAndGlyphs\" textLength=\"18\" x=\"44\" y=\"63.9951\">P2</text></a><!--MD5=[09b614a08d8cba4a07c9adeb5e0fee81]\n",
       "class E3--><a href=\"psysml:9b3dc75b-1d88-4bb0-99bb-db4dbafde32b\" target=\"_top\" title=\"psysml:9b3dc75b-1d88-4bb0-99bb-db4dbafde32b\" xlink:actuate=\"onRequest\" xlink:href=\"psysml:9b3dc75b-1d88-4bb0-99bb-db4dbafde32b\" xlink:show=\"new\" xlink:title=\"psysml:9b3dc75b-1d88-4bb0-99bb-db4dbafde32b\" xlink:type=\"simple\"><rect fill=\"#FFFFFF\" height=\"45.9375\" id=\"E3\" style=\"stroke: #383838; stroke-width: 1.5;\" width=\"70\" x=\"109\" y=\"212\"/><text fill=\"#000000\" font-family=\"sans-serif\" font-size=\"12\" font-style=\"italic\" lengthAdjust=\"spacingAndGlyphs\" textLength=\"68\" x=\"110\" y=\"228.1387\">«part  def»</text><text fill=\"#000000\" font-family=\"sans-serif\" font-size=\"12\" lengthAdjust=\"spacingAndGlyphs\" textLength=\"8\" x=\"140\" y=\"242.1074\">A</text><line style=\"stroke: #383838; stroke-width: 1.5;\" x1=\"110\" x2=\"178\" y1=\"249.9375\" y2=\"249.9375\"/></a><!--MD5=[60a26617385b1d2d0262a64233df1f8d]\n",
       "class E6--><a href=\"psysml:06f81dae-fa7a-4401-9cfd-15cc868431a4\" target=\"_top\" title=\"psysml:06f81dae-fa7a-4401-9cfd-15cc868431a4\" xlink:actuate=\"onRequest\" xlink:href=\"psysml:06f81dae-fa7a-4401-9cfd-15cc868431a4\" xlink:show=\"new\" xlink:title=\"psysml:06f81dae-fa7a-4401-9cfd-15cc868431a4\" xlink:type=\"simple\"><rect fill=\"#FFFFFF\" height=\"45.9375\" id=\"E6\" rx=\"10\" ry=\"10\" style=\"stroke: #383838; stroke-width: 1.5;\" width=\"42\" x=\"137\" y=\"87.5\"/><text fill=\"#000000\" font-family=\"sans-serif\" font-size=\"12\" font-style=\"italic\" lengthAdjust=\"spacingAndGlyphs\" textLength=\"40\" x=\"138\" y=\"103.6387\">«part»</text><text fill=\"#000000\" font-family=\"sans-serif\" font-size=\"12\" lengthAdjust=\"spacingAndGlyphs\" textLength=\"22\" x=\"145\" y=\"117.6074\">x: A</text><line style=\"stroke: #383838; stroke-width: 1.5;\" x1=\"138\" x2=\"178\" y1=\"125.4375\" y2=\"125.4375\"/></a><a href=\"psysml:f3db2951-3782-436b-a6ad-64914b64a485\" target=\"_top\" title=\"psysml:f3db2951-3782-436b-a6ad-64914b64a485\" xlink:actuate=\"onRequest\" xlink:href=\"psysml:f3db2951-3782-436b-a6ad-64914b64a485\" xlink:show=\"new\" xlink:title=\"psysml:f3db2951-3782-436b-a6ad-64914b64a485\" xlink:type=\"simple\"><polygon fill=\"#FFFFFF\" points=\"56,84,88,84,95,106.2969,102,106.2969,102,136.5938,56,136.5938,56,84\" style=\"stroke: #000000; stroke-width: 1.5;\"/><line style=\"stroke: #000000; stroke-width: 1.5;\" x1=\"56\" x2=\"95\" y1=\"106.2969\" y2=\"106.2969\"/><text fill=\"#000000\" font-family=\"sans-serif\" font-size=\"14\" font-weight=\"bold\" lengthAdjust=\"spacingAndGlyphs\" textLength=\"26\" x=\"60\" y=\"98.9951\">P2a</text></a><!--MD5=[a717450b82c80b9240a525fa862496af]\n",
       "link E6 to E3--><a href=\"psysml:7ae3fb41-5537-4752-a539-fb13bd5d368f\" target=\"_top\" title=\"psysml:7ae3fb41-5537-4752-a539-fb13bd5d368f\" xlink:actuate=\"onRequest\" xlink:href=\"psysml:7ae3fb41-5537-4752-a539-fb13bd5d368f\" xlink:show=\"new\" xlink:title=\"psysml:7ae3fb41-5537-4752-a539-fb13bd5d368f\" xlink:type=\"simple\"><path d=\"M155.46,133.68 C153.61,149.9 151.04,172.39 148.8,191.96 \" fill=\"none\" id=\"E6-&gt;E3\" style=\"stroke: #383838; stroke-width: 1.0;\"/><polygon fill=\"#FFFFFF\" points=\"146.52,211.98,141.7231,192.308,155.6325,193.8979,146.52,211.98\" style=\"stroke: #383838; stroke-width: 1.0;\"/><ellipse cx=\"144.3574\" cy=\"186.872\" fill=\"#383838\" rx=\"2\" ry=\"2\" style=\"stroke: #383838; stroke-width: 1.0;\"/><ellipse cx=\"154.2928\" cy=\"188.0076\" fill=\"#383838\" rx=\"2\" ry=\"2\" style=\"stroke: #383838; stroke-width: 1.0;\"/></a><!--MD5=[9f1b9926ac44ea90569e0aff7394d9fe]\n",
       "@startuml\r\n",
       "skinparam monochrome true\r\n",
       "skinparam classbackgroundcolor white\r\n",
       "skinparam shadowing false\r\n",
       "skinparam wrapWidth 300\r\n",
       "hide circle\r\n",
       "\r\n",
       "package \"QualifiedNameImportTest\" as E1  [[psysml:3ae9698c-7b02-4bda-a9f9-90d299fbd69b ]]  {\r\n",
       "package \"P1\" as E2  [[psysml:1cd01716-9110-4b9f-8aee-0302fbd4d98f ]]  {\r\n",
       "comp def \"A\" as E3  <<(T,blue) part  def>> [[psysml:9b3dc75b-1d88-4bb0-99bb-db4dbafde32b ]] {\r\n",
       "}\r\n",
       "}\r\n",
       "package \"P2\" as E4  [[psysml:41fe529f-0d81-4eb7-adf7-d3411e3f84fb ]]  {\r\n",
       "package \"P2a\" as E5  [[psysml:f3db2951-3782-436b-a6ad-64914b64a485 ]]  {\r\n",
       "}\r\n",
       "comp usage \"x: A \" as E6  <<(T,blue) part>> [[psysml:06f81dae-fa7a-4401-9cfd-15cc868431a4 ]] {\r\n",
       "}\r\n",
       "}\r\n",
       "}\r\n",
       "E6 - -:|> E3 [[psysml:7ae3fb41-5537-4752-a539-fb13bd5d368f ]] \r\n",
       "@enduml\r\n",
       "\n",
       "PlantUML version 1.2020.13(Sat Jun 13 12:26:38 UTC 2020)\n",
       "(EPL source distribution)\n",
       "Java Runtime: OpenJDK Runtime Environment\n",
       "JVM: OpenJDK 64-Bit Server VM\n",
       "Default Encoding: UTF-8\n",
       "Language: en\n",
       "Country: null\n",
       "--></g></svg>"
      ]
     },
     "execution_count": 43,
     "metadata": {},
     "output_type": "execute_result"
    }
   ],
   "source": [
    "%viz --style=\"DEFAULT\" --view=\"MIXED\" \"QualifiedNameImportTest\""
   ]
  },
  {
   "cell_type": "code",
   "execution_count": 44,
   "id": "b6c1343b",
   "metadata": {
    "execution": {
     "iopub.execute_input": "2022-02-05T16:55:54.195557Z",
     "iopub.status.busy": "2022-02-05T16:55:54.195129Z",
     "iopub.status.idle": "2022-02-05T16:55:54.222011Z",
     "shell.execute_reply": "2022-02-05T16:55:54.220694Z"
    }
   },
   "outputs": [
    {
     "data": {
      "image/svg+xml": [
       "<?xml version=\"1.0\" encoding=\"UTF-8\" standalone=\"no\"?><svg xmlns=\"http://www.w3.org/2000/svg\" xmlns:xlink=\"http://www.w3.org/1999/xlink\" contentScriptType=\"application/ecmascript\" contentStyleType=\"text/css\" height=\"310px\" preserveAspectRatio=\"none\" style=\"width:241px;height:310px;\" version=\"1.1\" viewBox=\"0 0 241 310\" width=\"241px\" zoomAndPan=\"magnify\"><defs/><g><!--MD5=[fbc87193dbaf4d95561dea2c320d4a47]\n",
       "cluster E1--><a href=\"psysml:3ae9698c-7b02-4bda-a9f9-90d299fbd69b\" target=\"_top\" title=\"psysml:3ae9698c-7b02-4bda-a9f9-90d299fbd69b\" xlink:actuate=\"onRequest\" xlink:href=\"psysml:3ae9698c-7b02-4bda-a9f9-90d299fbd69b\" xlink:show=\"new\" xlink:title=\"psysml:3ae9698c-7b02-4bda-a9f9-90d299fbd69b\" xlink:type=\"simple\"><polygon fill=\"#FFFFFF\" points=\"16,6,196,6,203,28.2969,219,28.2969,219,298,16,298,16,6\" style=\"stroke: #000000; stroke-width: 1.5;\"/><line style=\"stroke: #000000; stroke-width: 1.5;\" x1=\"16\" x2=\"203\" y1=\"28.2969\" y2=\"28.2969\"/><text fill=\"#000000\" font-family=\"sans-serif\" font-size=\"14\" font-weight=\"bold\" lengthAdjust=\"spacingAndGlyphs\" textLength=\"174\" x=\"20\" y=\"20.9951\">QualifiedNameImportTest</text></a><!--MD5=[e4f7fae6ed58524ba242bb0b0d3be6b7]\n",
       "cluster E2--><a href=\"psysml:1cd01716-9110-4b9f-8aee-0302fbd4d98f\" target=\"_top\" title=\"psysml:1cd01716-9110-4b9f-8aee-0302fbd4d98f\" xlink:actuate=\"onRequest\" xlink:href=\"psysml:1cd01716-9110-4b9f-8aee-0302fbd4d98f\" xlink:show=\"new\" xlink:title=\"psysml:1cd01716-9110-4b9f-8aee-0302fbd4d98f\" xlink:type=\"simple\"><polygon fill=\"#FFFFFF\" points=\"93,177,117,177,124,199.2969,195,199.2969,195,274,93,274,93,177\" style=\"stroke: #000000; stroke-width: 1.5;\"/><line style=\"stroke: #000000; stroke-width: 1.5;\" x1=\"93\" x2=\"124\" y1=\"199.2969\" y2=\"199.2969\"/><text fill=\"#000000\" font-family=\"sans-serif\" font-size=\"14\" font-weight=\"bold\" lengthAdjust=\"spacingAndGlyphs\" textLength=\"18\" x=\"97\" y=\"191.9951\">P1</text></a><!--MD5=[f6df4d0ebaf0b5dfb2ced0ae5af7c670]\n",
       "cluster E4--><a href=\"psysml:41fe529f-0d81-4eb7-adf7-d3411e3f84fb\" target=\"_top\" title=\"psysml:41fe529f-0d81-4eb7-adf7-d3411e3f84fb\" xlink:actuate=\"onRequest\" xlink:href=\"psysml:41fe529f-0d81-4eb7-adf7-d3411e3f84fb\" xlink:show=\"new\" xlink:title=\"psysml:41fe529f-0d81-4eb7-adf7-d3411e3f84fb\" xlink:type=\"simple\"><polygon fill=\"#FFFFFF\" points=\"40,49,64,49,71,71.2969,195,71.2969,195,153,40,153,40,49\" style=\"stroke: #000000; stroke-width: 1.5;\"/><line style=\"stroke: #000000; stroke-width: 1.5;\" x1=\"40\" x2=\"71\" y1=\"71.2969\" y2=\"71.2969\"/><text fill=\"#000000\" font-family=\"sans-serif\" font-size=\"14\" font-weight=\"bold\" lengthAdjust=\"spacingAndGlyphs\" textLength=\"18\" x=\"44\" y=\"63.9951\">P2</text></a><!--MD5=[09b614a08d8cba4a07c9adeb5e0fee81]\n",
       "class E3--><a href=\"psysml:9b3dc75b-1d88-4bb0-99bb-db4dbafde32b\" target=\"_top\" title=\"psysml:9b3dc75b-1d88-4bb0-99bb-db4dbafde32b\" xlink:actuate=\"onRequest\" xlink:href=\"psysml:9b3dc75b-1d88-4bb0-99bb-db4dbafde32b\" xlink:show=\"new\" xlink:title=\"psysml:9b3dc75b-1d88-4bb0-99bb-db4dbafde32b\" xlink:type=\"simple\"><rect fill=\"#FFFFFF\" height=\"45.9375\" id=\"E3\" style=\"stroke: #383838; stroke-width: 1.5;\" width=\"70\" x=\"109\" y=\"212\"/><text fill=\"#000000\" font-family=\"sans-serif\" font-size=\"12\" font-style=\"italic\" lengthAdjust=\"spacingAndGlyphs\" textLength=\"68\" x=\"110\" y=\"228.1387\">«part  def»</text><text fill=\"#000000\" font-family=\"sans-serif\" font-size=\"12\" lengthAdjust=\"spacingAndGlyphs\" textLength=\"8\" x=\"140\" y=\"242.1074\">A</text><line style=\"stroke: #383838; stroke-width: 1.5;\" x1=\"110\" x2=\"178\" y1=\"249.9375\" y2=\"249.9375\"/></a><!--MD5=[60a26617385b1d2d0262a64233df1f8d]\n",
       "class E6--><a href=\"psysml:06f81dae-fa7a-4401-9cfd-15cc868431a4\" target=\"_top\" title=\"psysml:06f81dae-fa7a-4401-9cfd-15cc868431a4\" xlink:actuate=\"onRequest\" xlink:href=\"psysml:06f81dae-fa7a-4401-9cfd-15cc868431a4\" xlink:show=\"new\" xlink:title=\"psysml:06f81dae-fa7a-4401-9cfd-15cc868431a4\" xlink:type=\"simple\"><rect fill=\"#FFFFFF\" height=\"45.9375\" id=\"E6\" rx=\"10\" ry=\"10\" style=\"stroke: #383838; stroke-width: 1.5;\" width=\"42\" x=\"137\" y=\"87.5\"/><text fill=\"#000000\" font-family=\"sans-serif\" font-size=\"12\" font-style=\"italic\" lengthAdjust=\"spacingAndGlyphs\" textLength=\"40\" x=\"138\" y=\"103.6387\">«part»</text><text fill=\"#000000\" font-family=\"sans-serif\" font-size=\"12\" lengthAdjust=\"spacingAndGlyphs\" textLength=\"22\" x=\"145\" y=\"117.6074\">x: A</text><line style=\"stroke: #383838; stroke-width: 1.5;\" x1=\"138\" x2=\"178\" y1=\"125.4375\" y2=\"125.4375\"/></a><a href=\"psysml:f3db2951-3782-436b-a6ad-64914b64a485\" target=\"_top\" title=\"psysml:f3db2951-3782-436b-a6ad-64914b64a485\" xlink:actuate=\"onRequest\" xlink:href=\"psysml:f3db2951-3782-436b-a6ad-64914b64a485\" xlink:show=\"new\" xlink:title=\"psysml:f3db2951-3782-436b-a6ad-64914b64a485\" xlink:type=\"simple\"><polygon fill=\"#FFFFFF\" points=\"56,84,88,84,95,106.2969,102,106.2969,102,136.5938,56,136.5938,56,84\" style=\"stroke: #000000; stroke-width: 1.5;\"/><line style=\"stroke: #000000; stroke-width: 1.5;\" x1=\"56\" x2=\"95\" y1=\"106.2969\" y2=\"106.2969\"/><text fill=\"#000000\" font-family=\"sans-serif\" font-size=\"14\" font-weight=\"bold\" lengthAdjust=\"spacingAndGlyphs\" textLength=\"26\" x=\"60\" y=\"98.9951\">P2a</text></a><!--MD5=[a717450b82c80b9240a525fa862496af]\n",
       "link E6 to E3--><a href=\"psysml:7ae3fb41-5537-4752-a539-fb13bd5d368f\" target=\"_top\" title=\"psysml:7ae3fb41-5537-4752-a539-fb13bd5d368f\" xlink:actuate=\"onRequest\" xlink:href=\"psysml:7ae3fb41-5537-4752-a539-fb13bd5d368f\" xlink:show=\"new\" xlink:title=\"psysml:7ae3fb41-5537-4752-a539-fb13bd5d368f\" xlink:type=\"simple\"><path d=\"M155.46,133.68 C153.61,149.9 151.04,172.39 148.8,191.96 \" fill=\"none\" id=\"E6-&gt;E3\" style=\"stroke: #383838; stroke-width: 1.0;\"/><polygon fill=\"#FFFFFF\" points=\"146.52,211.98,141.7231,192.308,155.6325,193.8979,146.52,211.98\" style=\"stroke: #383838; stroke-width: 1.0;\"/><ellipse cx=\"144.3574\" cy=\"186.872\" fill=\"#383838\" rx=\"2\" ry=\"2\" style=\"stroke: #383838; stroke-width: 1.0;\"/><ellipse cx=\"154.2928\" cy=\"188.0076\" fill=\"#383838\" rx=\"2\" ry=\"2\" style=\"stroke: #383838; stroke-width: 1.0;\"/></a><!--MD5=[85af77fa23d9f3cccaa4dc6f1ebae80b]\n",
       "@startuml\r\n",
       "top to bottom direction\r\n",
       "skinparam monochrome true\r\n",
       "skinparam classbackgroundcolor white\r\n",
       "skinparam shadowing false\r\n",
       "skinparam wrapWidth 300\r\n",
       "hide circle\r\n",
       "\r\n",
       "package \"QualifiedNameImportTest\" as E1  [[psysml:3ae9698c-7b02-4bda-a9f9-90d299fbd69b ]]  {\r\n",
       "package \"P1\" as E2  [[psysml:1cd01716-9110-4b9f-8aee-0302fbd4d98f ]]  {\r\n",
       "comp def \"A\" as E3  <<(T,blue) part  def>> [[psysml:9b3dc75b-1d88-4bb0-99bb-db4dbafde32b ]] {\r\n",
       "}\r\n",
       "}\r\n",
       "package \"P2\" as E4  [[psysml:41fe529f-0d81-4eb7-adf7-d3411e3f84fb ]]  {\r\n",
       "package \"P2a\" as E5  [[psysml:f3db2951-3782-436b-a6ad-64914b64a485 ]]  {\r\n",
       "}\r\n",
       "comp usage \"x: A \" as E6  <<(T,blue) part>> [[psysml:06f81dae-fa7a-4401-9cfd-15cc868431a4 ]] {\r\n",
       "}\r\n",
       "}\r\n",
       "}\r\n",
       "E6 - -:|> E3 [[psysml:7ae3fb41-5537-4752-a539-fb13bd5d368f ]] \r\n",
       "@enduml\r\n",
       "\n",
       "PlantUML version 1.2020.13(Sat Jun 13 12:26:38 UTC 2020)\n",
       "(EPL source distribution)\n",
       "Java Runtime: OpenJDK Runtime Environment\n",
       "JVM: OpenJDK 64-Bit Server VM\n",
       "Default Encoding: UTF-8\n",
       "Language: en\n",
       "Country: null\n",
       "--></g></svg>"
      ]
     },
     "execution_count": 44,
     "metadata": {},
     "output_type": "execute_result"
    }
   ],
   "source": [
    "%viz --style=\"TB\" --view=\"Default\" \"QualifiedNameImportTest\""
   ]
  },
  {
   "cell_type": "code",
   "execution_count": 45,
   "id": "ae98525a",
   "metadata": {
    "execution": {
     "iopub.execute_input": "2022-02-05T16:55:54.271572Z",
     "iopub.status.busy": "2022-02-05T16:55:54.271138Z",
     "iopub.status.idle": "2022-02-05T16:55:54.298426Z",
     "shell.execute_reply": "2022-02-05T16:55:54.297120Z"
    }
   },
   "outputs": [
    {
     "data": {
      "image/svg+xml": [
       "<?xml version=\"1.0\" encoding=\"UTF-8\" standalone=\"no\"?><svg xmlns=\"http://www.w3.org/2000/svg\" xmlns:xlink=\"http://www.w3.org/1999/xlink\" contentScriptType=\"application/ecmascript\" contentStyleType=\"text/css\" height=\"310px\" preserveAspectRatio=\"none\" style=\"width:241px;height:310px;\" version=\"1.1\" viewBox=\"0 0 241 310\" width=\"241px\" zoomAndPan=\"magnify\"><defs/><g><!--MD5=[fbc87193dbaf4d95561dea2c320d4a47]\n",
       "cluster E1--><a href=\"psysml:3ae9698c-7b02-4bda-a9f9-90d299fbd69b\" target=\"_top\" title=\"psysml:3ae9698c-7b02-4bda-a9f9-90d299fbd69b\" xlink:actuate=\"onRequest\" xlink:href=\"psysml:3ae9698c-7b02-4bda-a9f9-90d299fbd69b\" xlink:show=\"new\" xlink:title=\"psysml:3ae9698c-7b02-4bda-a9f9-90d299fbd69b\" xlink:type=\"simple\"><polygon fill=\"#FFFFFF\" points=\"16,6,196,6,203,28.2969,219,28.2969,219,298,16,298,16,6\" style=\"stroke: #000000; stroke-width: 1.5;\"/><line style=\"stroke: #000000; stroke-width: 1.5;\" x1=\"16\" x2=\"203\" y1=\"28.2969\" y2=\"28.2969\"/><text fill=\"#000000\" font-family=\"sans-serif\" font-size=\"14\" font-weight=\"bold\" lengthAdjust=\"spacingAndGlyphs\" textLength=\"174\" x=\"20\" y=\"20.9951\">QualifiedNameImportTest</text></a><!--MD5=[e4f7fae6ed58524ba242bb0b0d3be6b7]\n",
       "cluster E2--><a href=\"psysml:1cd01716-9110-4b9f-8aee-0302fbd4d98f\" target=\"_top\" title=\"psysml:1cd01716-9110-4b9f-8aee-0302fbd4d98f\" xlink:actuate=\"onRequest\" xlink:href=\"psysml:1cd01716-9110-4b9f-8aee-0302fbd4d98f\" xlink:show=\"new\" xlink:title=\"psysml:1cd01716-9110-4b9f-8aee-0302fbd4d98f\" xlink:type=\"simple\"><polygon fill=\"#FFFFFF\" points=\"93,177,117,177,124,199.2969,195,199.2969,195,274,93,274,93,177\" style=\"stroke: #000000; stroke-width: 1.5;\"/><line style=\"stroke: #000000; stroke-width: 1.5;\" x1=\"93\" x2=\"124\" y1=\"199.2969\" y2=\"199.2969\"/><text fill=\"#000000\" font-family=\"sans-serif\" font-size=\"14\" font-weight=\"bold\" lengthAdjust=\"spacingAndGlyphs\" textLength=\"18\" x=\"97\" y=\"191.9951\">P1</text></a><!--MD5=[f6df4d0ebaf0b5dfb2ced0ae5af7c670]\n",
       "cluster E4--><a href=\"psysml:41fe529f-0d81-4eb7-adf7-d3411e3f84fb\" target=\"_top\" title=\"psysml:41fe529f-0d81-4eb7-adf7-d3411e3f84fb\" xlink:actuate=\"onRequest\" xlink:href=\"psysml:41fe529f-0d81-4eb7-adf7-d3411e3f84fb\" xlink:show=\"new\" xlink:title=\"psysml:41fe529f-0d81-4eb7-adf7-d3411e3f84fb\" xlink:type=\"simple\"><polygon fill=\"#FFFFFF\" points=\"40,49,64,49,71,71.2969,195,71.2969,195,153,40,153,40,49\" style=\"stroke: #000000; stroke-width: 1.5;\"/><line style=\"stroke: #000000; stroke-width: 1.5;\" x1=\"40\" x2=\"71\" y1=\"71.2969\" y2=\"71.2969\"/><text fill=\"#000000\" font-family=\"sans-serif\" font-size=\"14\" font-weight=\"bold\" lengthAdjust=\"spacingAndGlyphs\" textLength=\"18\" x=\"44\" y=\"63.9951\">P2</text></a><!--MD5=[09b614a08d8cba4a07c9adeb5e0fee81]\n",
       "class E3--><a href=\"psysml:9b3dc75b-1d88-4bb0-99bb-db4dbafde32b\" target=\"_top\" title=\"psysml:9b3dc75b-1d88-4bb0-99bb-db4dbafde32b\" xlink:actuate=\"onRequest\" xlink:href=\"psysml:9b3dc75b-1d88-4bb0-99bb-db4dbafde32b\" xlink:show=\"new\" xlink:title=\"psysml:9b3dc75b-1d88-4bb0-99bb-db4dbafde32b\" xlink:type=\"simple\"><rect fill=\"#FFFFFF\" height=\"45.9375\" id=\"E3\" style=\"stroke: #383838; stroke-width: 1.5;\" width=\"70\" x=\"109\" y=\"212\"/><text fill=\"#000000\" font-family=\"sans-serif\" font-size=\"12\" font-style=\"italic\" lengthAdjust=\"spacingAndGlyphs\" textLength=\"68\" x=\"110\" y=\"228.1387\">«part  def»</text><text fill=\"#000000\" font-family=\"sans-serif\" font-size=\"12\" lengthAdjust=\"spacingAndGlyphs\" textLength=\"8\" x=\"140\" y=\"242.1074\">A</text><line style=\"stroke: #383838; stroke-width: 1.5;\" x1=\"110\" x2=\"178\" y1=\"249.9375\" y2=\"249.9375\"/></a><!--MD5=[60a26617385b1d2d0262a64233df1f8d]\n",
       "class E6--><a href=\"psysml:06f81dae-fa7a-4401-9cfd-15cc868431a4\" target=\"_top\" title=\"psysml:06f81dae-fa7a-4401-9cfd-15cc868431a4\" xlink:actuate=\"onRequest\" xlink:href=\"psysml:06f81dae-fa7a-4401-9cfd-15cc868431a4\" xlink:show=\"new\" xlink:title=\"psysml:06f81dae-fa7a-4401-9cfd-15cc868431a4\" xlink:type=\"simple\"><rect fill=\"#FFFFFF\" height=\"45.9375\" id=\"E6\" rx=\"10\" ry=\"10\" style=\"stroke: #383838; stroke-width: 1.5;\" width=\"42\" x=\"137\" y=\"87.5\"/><text fill=\"#000000\" font-family=\"sans-serif\" font-size=\"12\" font-style=\"italic\" lengthAdjust=\"spacingAndGlyphs\" textLength=\"40\" x=\"138\" y=\"103.6387\">«part»</text><text fill=\"#000000\" font-family=\"sans-serif\" font-size=\"12\" lengthAdjust=\"spacingAndGlyphs\" textLength=\"22\" x=\"145\" y=\"117.6074\">x: A</text><line style=\"stroke: #383838; stroke-width: 1.5;\" x1=\"138\" x2=\"178\" y1=\"125.4375\" y2=\"125.4375\"/></a><a href=\"psysml:f3db2951-3782-436b-a6ad-64914b64a485\" target=\"_top\" title=\"psysml:f3db2951-3782-436b-a6ad-64914b64a485\" xlink:actuate=\"onRequest\" xlink:href=\"psysml:f3db2951-3782-436b-a6ad-64914b64a485\" xlink:show=\"new\" xlink:title=\"psysml:f3db2951-3782-436b-a6ad-64914b64a485\" xlink:type=\"simple\"><polygon fill=\"#FFFFFF\" points=\"56,84,88,84,95,106.2969,102,106.2969,102,136.5938,56,136.5938,56,84\" style=\"stroke: #000000; stroke-width: 1.5;\"/><line style=\"stroke: #000000; stroke-width: 1.5;\" x1=\"56\" x2=\"95\" y1=\"106.2969\" y2=\"106.2969\"/><text fill=\"#000000\" font-family=\"sans-serif\" font-size=\"14\" font-weight=\"bold\" lengthAdjust=\"spacingAndGlyphs\" textLength=\"26\" x=\"60\" y=\"98.9951\">P2a</text></a><!--MD5=[a717450b82c80b9240a525fa862496af]\n",
       "link E6 to E3--><a href=\"psysml:7ae3fb41-5537-4752-a539-fb13bd5d368f\" target=\"_top\" title=\"psysml:7ae3fb41-5537-4752-a539-fb13bd5d368f\" xlink:actuate=\"onRequest\" xlink:href=\"psysml:7ae3fb41-5537-4752-a539-fb13bd5d368f\" xlink:show=\"new\" xlink:title=\"psysml:7ae3fb41-5537-4752-a539-fb13bd5d368f\" xlink:type=\"simple\"><path d=\"M155.46,133.68 C153.61,149.9 151.04,172.39 148.8,191.96 \" fill=\"none\" id=\"E6-&gt;E3\" style=\"stroke: #383838; stroke-width: 1.0;\"/><polygon fill=\"#FFFFFF\" points=\"146.52,211.98,141.7231,192.308,155.6325,193.8979,146.52,211.98\" style=\"stroke: #383838; stroke-width: 1.0;\"/><ellipse cx=\"144.3574\" cy=\"186.872\" fill=\"#383838\" rx=\"2\" ry=\"2\" style=\"stroke: #383838; stroke-width: 1.0;\"/><ellipse cx=\"154.2928\" cy=\"188.0076\" fill=\"#383838\" rx=\"2\" ry=\"2\" style=\"stroke: #383838; stroke-width: 1.0;\"/></a><!--MD5=[85af77fa23d9f3cccaa4dc6f1ebae80b]\n",
       "@startuml\r\n",
       "top to bottom direction\r\n",
       "skinparam monochrome true\r\n",
       "skinparam classbackgroundcolor white\r\n",
       "skinparam shadowing false\r\n",
       "skinparam wrapWidth 300\r\n",
       "hide circle\r\n",
       "\r\n",
       "package \"QualifiedNameImportTest\" as E1  [[psysml:3ae9698c-7b02-4bda-a9f9-90d299fbd69b ]]  {\r\n",
       "package \"P1\" as E2  [[psysml:1cd01716-9110-4b9f-8aee-0302fbd4d98f ]]  {\r\n",
       "comp def \"A\" as E3  <<(T,blue) part  def>> [[psysml:9b3dc75b-1d88-4bb0-99bb-db4dbafde32b ]] {\r\n",
       "}\r\n",
       "}\r\n",
       "package \"P2\" as E4  [[psysml:41fe529f-0d81-4eb7-adf7-d3411e3f84fb ]]  {\r\n",
       "package \"P2a\" as E5  [[psysml:f3db2951-3782-436b-a6ad-64914b64a485 ]]  {\r\n",
       "}\r\n",
       "comp usage \"x: A \" as E6  <<(T,blue) part>> [[psysml:06f81dae-fa7a-4401-9cfd-15cc868431a4 ]] {\r\n",
       "}\r\n",
       "}\r\n",
       "}\r\n",
       "E6 - -:|> E3 [[psysml:7ae3fb41-5537-4752-a539-fb13bd5d368f ]] \r\n",
       "@enduml\r\n",
       "\n",
       "PlantUML version 1.2020.13(Sat Jun 13 12:26:38 UTC 2020)\n",
       "(EPL source distribution)\n",
       "Java Runtime: OpenJDK Runtime Environment\n",
       "JVM: OpenJDK 64-Bit Server VM\n",
       "Default Encoding: UTF-8\n",
       "Language: en\n",
       "Country: null\n",
       "--></g></svg>"
      ]
     },
     "execution_count": 45,
     "metadata": {},
     "output_type": "execute_result"
    }
   ],
   "source": [
    "%viz --style=\"TB\" --view=\"Tree\" \"QualifiedNameImportTest\""
   ]
  },
  {
   "cell_type": "code",
   "execution_count": 46,
   "id": "9f715023",
   "metadata": {
    "execution": {
     "iopub.execute_input": "2022-02-05T16:55:54.347836Z",
     "iopub.status.busy": "2022-02-05T16:55:54.347429Z",
     "iopub.status.idle": "2022-02-05T16:55:54.351999Z",
     "shell.execute_reply": "2022-02-05T16:55:54.351651Z"
    }
   },
   "outputs": [
    {
     "data": {
      "image/svg+xml": [
       "<?xml version=\"1.0\" encoding=\"UTF-8\" standalone=\"no\"?><svg xmlns=\"http://www.w3.org/2000/svg\" xmlns:xlink=\"http://www.w3.org/1999/xlink\" contentScriptType=\"application/ecmascript\" contentStyleType=\"text/css\" height=\"12px\" preserveAspectRatio=\"none\" style=\"width:12px;height:12px;\" version=\"1.1\" viewBox=\"0 0 12 12\" width=\"12px\" zoomAndPan=\"magnify\"><defs/><g><!--MD5=[f4ee21bc66e489b5061b7c3e9601fdef]\n",
       "@startuml\r\n",
       "top to bottom direction\r\n",
       "skinparam monochrome true\r\n",
       "skinparam classbackgroundcolor white\r\n",
       "skinparam shadowing false\r\n",
       "skinparam wrapWidth 300\r\n",
       "hide circle\r\n",
       "\r\n",
       "@enduml\r\n",
       "\n",
       "PlantUML version 1.2020.13(Sat Jun 13 12:26:38 UTC 2020)\n",
       "(EPL source distribution)\n",
       "Java Runtime: OpenJDK Runtime Environment\n",
       "JVM: OpenJDK 64-Bit Server VM\n",
       "Default Encoding: UTF-8\n",
       "Language: en\n",
       "Country: null\n",
       "--></g></svg>"
      ]
     },
     "execution_count": 46,
     "metadata": {},
     "output_type": "execute_result"
    }
   ],
   "source": [
    "%viz --style=\"TB\" --view=\"State\" \"QualifiedNameImportTest\""
   ]
  },
  {
   "cell_type": "code",
   "execution_count": 47,
   "id": "e8b13903",
   "metadata": {
    "execution": {
     "iopub.execute_input": "2022-02-05T16:55:54.401915Z",
     "iopub.status.busy": "2022-02-05T16:55:54.401509Z",
     "iopub.status.idle": "2022-02-05T16:55:54.427043Z",
     "shell.execute_reply": "2022-02-05T16:55:54.426568Z"
    }
   },
   "outputs": [
    {
     "data": {
      "image/svg+xml": [
       "<?xml version=\"1.0\" encoding=\"UTF-8\" standalone=\"no\"?><svg xmlns=\"http://www.w3.org/2000/svg\" xmlns:xlink=\"http://www.w3.org/1999/xlink\" contentScriptType=\"application/ecmascript\" contentStyleType=\"text/css\" height=\"189px\" preserveAspectRatio=\"none\" style=\"width:379px;height:189px;\" version=\"1.1\" viewBox=\"0 0 379 189\" width=\"379px\" zoomAndPan=\"magnify\"><defs/><g><!--MD5=[fbc87193dbaf4d95561dea2c320d4a47]\n",
       "cluster E1--><a href=\"psysml:3ae9698c-7b02-4bda-a9f9-90d299fbd69b\" target=\"_top\" title=\"psysml:3ae9698c-7b02-4bda-a9f9-90d299fbd69b\" xlink:actuate=\"onRequest\" xlink:href=\"psysml:3ae9698c-7b02-4bda-a9f9-90d299fbd69b\" xlink:show=\"new\" xlink:title=\"psysml:3ae9698c-7b02-4bda-a9f9-90d299fbd69b\" xlink:type=\"simple\"><polygon fill=\"#FFFFFF\" points=\"16,6,196,6,203,28.2969,357,28.2969,357,177,16,177,16,6\" style=\"stroke: #000000; stroke-width: 1.5;\"/><line style=\"stroke: #000000; stroke-width: 1.5;\" x1=\"16\" x2=\"203\" y1=\"28.2969\" y2=\"28.2969\"/><text fill=\"#000000\" font-family=\"sans-serif\" font-size=\"14\" font-weight=\"bold\" lengthAdjust=\"spacingAndGlyphs\" textLength=\"174\" x=\"20\" y=\"20.9951\">QualifiedNameImportTest</text></a><!--MD5=[e4f7fae6ed58524ba242bb0b0d3be6b7]\n",
       "cluster E2--><a href=\"psysml:1cd01716-9110-4b9f-8aee-0302fbd4d98f\" target=\"_top\" title=\"psysml:1cd01716-9110-4b9f-8aee-0302fbd4d98f\" xlink:actuate=\"onRequest\" xlink:href=\"psysml:1cd01716-9110-4b9f-8aee-0302fbd4d98f\" xlink:show=\"new\" xlink:title=\"psysml:1cd01716-9110-4b9f-8aee-0302fbd4d98f\" xlink:type=\"simple\"><polygon fill=\"#FFFFFF\" points=\"227,54,251,54,258,76.2969,333,76.2969,333,148,227,148,227,54\" style=\"stroke: #000000; stroke-width: 1.5;\"/><line style=\"stroke: #000000; stroke-width: 1.5;\" x1=\"227\" x2=\"258\" y1=\"76.2969\" y2=\"76.2969\"/><text fill=\"#000000\" font-family=\"sans-serif\" font-size=\"14\" font-weight=\"bold\" lengthAdjust=\"spacingAndGlyphs\" textLength=\"18\" x=\"231\" y=\"68.9951\">P1</text></a><!--MD5=[f6df4d0ebaf0b5dfb2ced0ae5af7c670]\n",
       "cluster E4--><a href=\"psysml:41fe529f-0d81-4eb7-adf7-d3411e3f84fb\" target=\"_top\" title=\"psysml:41fe529f-0d81-4eb7-adf7-d3411e3f84fb\" xlink:actuate=\"onRequest\" xlink:href=\"psysml:41fe529f-0d81-4eb7-adf7-d3411e3f84fb\" xlink:show=\"new\" xlink:title=\"psysml:41fe529f-0d81-4eb7-adf7-d3411e3f84fb\" xlink:type=\"simple\"><polygon fill=\"#FFFFFF\" points=\"40,49,64,49,71,71.2969,203,71.2969,203,153,40,153,40,49\" style=\"stroke: #000000; stroke-width: 1.5;\"/><line style=\"stroke: #000000; stroke-width: 1.5;\" x1=\"40\" x2=\"71\" y1=\"71.2969\" y2=\"71.2969\"/><text fill=\"#000000\" font-family=\"sans-serif\" font-size=\"14\" font-weight=\"bold\" lengthAdjust=\"spacingAndGlyphs\" textLength=\"18\" x=\"44\" y=\"63.9951\">P2</text></a><g id=\"E1.E2.E3\"><a href=\"psysml:9b3dc75b-1d88-4bb0-99bb-db4dbafde32b\" target=\"_top\" title=\"psysml:9b3dc75b-1d88-4bb0-99bb-db4dbafde32b\" xlink:actuate=\"onRequest\" xlink:href=\"psysml:9b3dc75b-1d88-4bb0-99bb-db4dbafde32b\" xlink:show=\"new\" xlink:title=\"psysml:9b3dc75b-1d88-4bb0-99bb-db4dbafde32b\" xlink:type=\"simple\"><rect fill=\"#FFFFFF\" height=\"42.9375\" id=\"E3\" style=\"stroke: #383838; stroke-width: 1.5;\" width=\"75\" x=\"242.5\" y=\"89\"/><rect fill=\"#F8F8F8\" height=\"37.9375\" style=\"stroke: #383838; stroke-width: 1.5;\" width=\"75\" x=\"242.5\" y=\"89\"/><text fill=\"#000000\" font-family=\"sans-serif\" font-size=\"12\" font-style=\"italic\" lengthAdjust=\"spacingAndGlyphs\" textLength=\"68\" x=\"246\" y=\"105.1387\">«part  def»</text><text fill=\"#000000\" font-family=\"sans-serif\" font-size=\"12\" lengthAdjust=\"spacingAndGlyphs\" textLength=\"8\" x=\"276\" y=\"119.1074\">A</text></a></g><a href=\"psysml:f3db2951-3782-436b-a6ad-64914b64a485\" target=\"_top\" title=\"psysml:f3db2951-3782-436b-a6ad-64914b64a485\" xlink:actuate=\"onRequest\" xlink:href=\"psysml:f3db2951-3782-436b-a6ad-64914b64a485\" xlink:show=\"new\" xlink:title=\"psysml:f3db2951-3782-436b-a6ad-64914b64a485\" xlink:type=\"simple\"><polygon fill=\"#FFFFFF\" points=\"141,84,173,84,180,106.2969,187,106.2969,187,136.5938,141,136.5938,141,84\" style=\"stroke: #000000; stroke-width: 1.5;\"/><line style=\"stroke: #000000; stroke-width: 1.5;\" x1=\"141\" x2=\"180\" y1=\"106.2969\" y2=\"106.2969\"/><text fill=\"#000000\" font-family=\"sans-serif\" font-size=\"14\" font-weight=\"bold\" lengthAdjust=\"spacingAndGlyphs\" textLength=\"26\" x=\"145\" y=\"98.9951\">P2a</text></a><g id=\"E1.E4.E6\"><a href=\"psysml:06f81dae-fa7a-4401-9cfd-15cc868431a4\" target=\"_top\" title=\"psysml:06f81dae-fa7a-4401-9cfd-15cc868431a4\" xlink:actuate=\"onRequest\" xlink:href=\"psysml:06f81dae-fa7a-4401-9cfd-15cc868431a4\" xlink:show=\"new\" xlink:title=\"psysml:06f81dae-fa7a-4401-9cfd-15cc868431a4\" xlink:type=\"simple\"><rect fill=\"#FFFFFF\" height=\"40\" id=\"E6\" rx=\"10\" ry=\"10\" style=\"stroke: #383838; stroke-width: 1.5;\" width=\"50\" x=\"56\" y=\"90.5\"/><rect fill=\"#F8F8F8\" height=\"23.9688\" rx=\"10\" ry=\"10\" style=\"stroke: #F8F8F8; stroke-width: 1.5;\" width=\"50\" x=\"56\" y=\"90.5\"/><rect fill=\"#F8F8F8\" height=\"10\" style=\"stroke: #F8F8F8; stroke-width: 1.5;\" width=\"50\" x=\"56\" y=\"104.4688\"/><rect fill=\"none\" height=\"40\" id=\"E6\" rx=\"10\" ry=\"10\" style=\"stroke: #383838; stroke-width: 1.5;\" width=\"50\" x=\"56\" y=\"90.5\"/><text fill=\"#000000\" font-family=\"sans-serif\" font-size=\"12\" lengthAdjust=\"spacingAndGlyphs\" textLength=\"22\" x=\"70\" y=\"106.6387\">x: A</text></a></g><!--MD5=[3d331ff4e58015b9654a1c1db9a84d51]\n",
       "@startuml\r\n",
       "skinparam ranksep 10\r\n",
       "skinparam rectangle {\r\n",
       " backgroundColor<<block>> LightGreen\r\n",
       "}\r\n",
       "top to bottom direction\r\n",
       "skinparam monochrome true\r\n",
       "skinparam classbackgroundcolor white\r\n",
       "skinparam shadowing false\r\n",
       "skinparam wrapWidth 300\r\n",
       "hide circle\r\n",
       "\r\n",
       "package \"QualifiedNameImportTest\" as E1  [[psysml:3ae9698c-7b02-4bda-a9f9-90d299fbd69b ]]  {\r\n",
       "package \"P1\" as E2  [[psysml:1cd01716-9110-4b9f-8aee-0302fbd4d98f ]]  {\r\n",
       "rec def \"A\" as E3  <<(T,blue) part  def>> [[psysml:9b3dc75b-1d88-4bb0-99bb-db4dbafde32b ]] {\r\n",
       "}\r\n",
       "}\r\n",
       "package \"P2\" as E4  [[psysml:41fe529f-0d81-4eb7-adf7-d3411e3f84fb ]]  {\r\n",
       "package \"P2a\" as E5  [[psysml:f3db2951-3782-436b-a6ad-64914b64a485 ]]  {\r\n",
       "}\r\n",
       "rec usage \"x: A\" as E6  [[psysml:06f81dae-fa7a-4401-9cfd-15cc868431a4 ]] {\r\n",
       "}\r\n",
       "}\r\n",
       "}\r\n",
       "@enduml\r\n",
       "\n",
       "PlantUML version 1.2020.13(Sat Jun 13 12:26:38 UTC 2020)\n",
       "(EPL source distribution)\n",
       "Java Runtime: OpenJDK Runtime Environment\n",
       "JVM: OpenJDK 64-Bit Server VM\n",
       "Default Encoding: UTF-8\n",
       "Language: en\n",
       "Country: null\n",
       "--></g></svg>"
      ]
     },
     "execution_count": 47,
     "metadata": {},
     "output_type": "execute_result"
    }
   ],
   "source": [
    "%viz --style=\"TB\" --view=\"Interconnection\" \"QualifiedNameImportTest\""
   ]
  },
  {
   "cell_type": "code",
   "execution_count": 48,
   "id": "9fc28c6f",
   "metadata": {
    "execution": {
     "iopub.execute_input": "2022-02-05T16:55:54.476599Z",
     "iopub.status.busy": "2022-02-05T16:55:54.476084Z",
     "iopub.status.idle": "2022-02-05T16:55:54.480813Z",
     "shell.execute_reply": "2022-02-05T16:55:54.480461Z"
    }
   },
   "outputs": [
    {
     "data": {
      "image/svg+xml": [
       "<?xml version=\"1.0\" encoding=\"UTF-8\" standalone=\"no\"?><svg xmlns=\"http://www.w3.org/2000/svg\" xmlns:xlink=\"http://www.w3.org/1999/xlink\" contentScriptType=\"application/ecmascript\" contentStyleType=\"text/css\" height=\"12px\" preserveAspectRatio=\"none\" style=\"width:12px;height:12px;\" version=\"1.1\" viewBox=\"0 0 12 12\" width=\"12px\" zoomAndPan=\"magnify\"><defs/><g><!--MD5=[06afc254b03ac5e9d9fb7773b07d0800]\n",
       "@startuml\r\n",
       "skinparam ranksep 8\r\n",
       "top to bottom direction\r\n",
       "skinparam monochrome true\r\n",
       "skinparam classbackgroundcolor white\r\n",
       "skinparam shadowing false\r\n",
       "skinparam wrapWidth 300\r\n",
       "hide circle\r\n",
       "\r\n",
       "@enduml\r\n",
       "\n",
       "PlantUML version 1.2020.13(Sat Jun 13 12:26:38 UTC 2020)\n",
       "(EPL source distribution)\n",
       "Java Runtime: OpenJDK Runtime Environment\n",
       "JVM: OpenJDK 64-Bit Server VM\n",
       "Default Encoding: UTF-8\n",
       "Language: en\n",
       "Country: null\n",
       "--></g></svg>"
      ]
     },
     "execution_count": 48,
     "metadata": {},
     "output_type": "execute_result"
    }
   ],
   "source": [
    "%viz --style=\"TB\" --view=\"Action\" \"QualifiedNameImportTest\""
   ]
  },
  {
   "cell_type": "code",
   "execution_count": 49,
   "id": "12932bed",
   "metadata": {
    "execution": {
     "iopub.execute_input": "2022-02-05T16:55:54.530767Z",
     "iopub.status.busy": "2022-02-05T16:55:54.530360Z",
     "iopub.status.idle": "2022-02-05T16:55:54.535269Z",
     "shell.execute_reply": "2022-02-05T16:55:54.535590Z"
    }
   },
   "outputs": [
    {
     "data": {
      "image/svg+xml": [
       "<?xml version=\"1.0\" encoding=\"UTF-8\" standalone=\"no\"?><svg xmlns=\"http://www.w3.org/2000/svg\" xmlns:xlink=\"http://www.w3.org/1999/xlink\" contentScriptType=\"application/ecmascript\" contentStyleType=\"text/css\" height=\"12px\" preserveAspectRatio=\"none\" style=\"width:12px;height:12px;\" version=\"1.1\" viewBox=\"0 0 12 12\" width=\"12px\" zoomAndPan=\"magnify\"><defs/><g><!--MD5=[e1ab0c84c44d2fef8bf5f140f2689906]\n",
       "@startuml\r\n",
       "skinparam roundcorner 20\r\n",
       "skinparam BoxPadding 20\r\n",
       "skinparam SequenceBoxBackgroundColor #white\r\n",
       "skinparam style strictuml\r\n",
       "skinparam maxMessageSize 100\r\n",
       "top to bottom direction\r\n",
       "skinparam monochrome true\r\n",
       "skinparam classbackgroundcolor white\r\n",
       "skinparam shadowing false\r\n",
       "skinparam wrapWidth 300\r\n",
       "hide circle\r\n",
       "\r\n",
       "@enduml\r\n",
       "\n",
       "PlantUML version 1.2020.13(Sat Jun 13 12:26:38 UTC 2020)\n",
       "(EPL source distribution)\n",
       "Java Runtime: OpenJDK Runtime Environment\n",
       "JVM: OpenJDK 64-Bit Server VM\n",
       "Default Encoding: UTF-8\n",
       "Language: en\n",
       "Country: null\n",
       "--></g></svg>"
      ]
     },
     "execution_count": 49,
     "metadata": {},
     "output_type": "execute_result"
    }
   ],
   "source": [
    "%viz --style=\"TB\" --view=\"Sequence\" \"QualifiedNameImportTest\""
   ]
  },
  {
   "cell_type": "code",
   "execution_count": 50,
   "id": "f78b8382",
   "metadata": {
    "execution": {
     "iopub.execute_input": "2022-02-05T16:55:54.585785Z",
     "iopub.status.busy": "2022-02-05T16:55:54.585383Z",
     "iopub.status.idle": "2022-02-05T16:55:54.612124Z",
     "shell.execute_reply": "2022-02-05T16:55:54.611774Z"
    }
   },
   "outputs": [
    {
     "data": {
      "image/svg+xml": [
       "<?xml version=\"1.0\" encoding=\"UTF-8\" standalone=\"no\"?><svg xmlns=\"http://www.w3.org/2000/svg\" xmlns:xlink=\"http://www.w3.org/1999/xlink\" contentScriptType=\"application/ecmascript\" contentStyleType=\"text/css\" height=\"310px\" preserveAspectRatio=\"none\" style=\"width:241px;height:310px;\" version=\"1.1\" viewBox=\"0 0 241 310\" width=\"241px\" zoomAndPan=\"magnify\"><defs/><g><!--MD5=[fbc87193dbaf4d95561dea2c320d4a47]\n",
       "cluster E1--><a href=\"psysml:3ae9698c-7b02-4bda-a9f9-90d299fbd69b\" target=\"_top\" title=\"psysml:3ae9698c-7b02-4bda-a9f9-90d299fbd69b\" xlink:actuate=\"onRequest\" xlink:href=\"psysml:3ae9698c-7b02-4bda-a9f9-90d299fbd69b\" xlink:show=\"new\" xlink:title=\"psysml:3ae9698c-7b02-4bda-a9f9-90d299fbd69b\" xlink:type=\"simple\"><polygon fill=\"#FFFFFF\" points=\"16,6,196,6,203,28.2969,219,28.2969,219,298,16,298,16,6\" style=\"stroke: #000000; stroke-width: 1.5;\"/><line style=\"stroke: #000000; stroke-width: 1.5;\" x1=\"16\" x2=\"203\" y1=\"28.2969\" y2=\"28.2969\"/><text fill=\"#000000\" font-family=\"sans-serif\" font-size=\"14\" font-weight=\"bold\" lengthAdjust=\"spacingAndGlyphs\" textLength=\"174\" x=\"20\" y=\"20.9951\">QualifiedNameImportTest</text></a><!--MD5=[e4f7fae6ed58524ba242bb0b0d3be6b7]\n",
       "cluster E2--><a href=\"psysml:1cd01716-9110-4b9f-8aee-0302fbd4d98f\" target=\"_top\" title=\"psysml:1cd01716-9110-4b9f-8aee-0302fbd4d98f\" xlink:actuate=\"onRequest\" xlink:href=\"psysml:1cd01716-9110-4b9f-8aee-0302fbd4d98f\" xlink:show=\"new\" xlink:title=\"psysml:1cd01716-9110-4b9f-8aee-0302fbd4d98f\" xlink:type=\"simple\"><polygon fill=\"#FFFFFF\" points=\"93,177,117,177,124,199.2969,195,199.2969,195,274,93,274,93,177\" style=\"stroke: #000000; stroke-width: 1.5;\"/><line style=\"stroke: #000000; stroke-width: 1.5;\" x1=\"93\" x2=\"124\" y1=\"199.2969\" y2=\"199.2969\"/><text fill=\"#000000\" font-family=\"sans-serif\" font-size=\"14\" font-weight=\"bold\" lengthAdjust=\"spacingAndGlyphs\" textLength=\"18\" x=\"97\" y=\"191.9951\">P1</text></a><!--MD5=[f6df4d0ebaf0b5dfb2ced0ae5af7c670]\n",
       "cluster E4--><a href=\"psysml:41fe529f-0d81-4eb7-adf7-d3411e3f84fb\" target=\"_top\" title=\"psysml:41fe529f-0d81-4eb7-adf7-d3411e3f84fb\" xlink:actuate=\"onRequest\" xlink:href=\"psysml:41fe529f-0d81-4eb7-adf7-d3411e3f84fb\" xlink:show=\"new\" xlink:title=\"psysml:41fe529f-0d81-4eb7-adf7-d3411e3f84fb\" xlink:type=\"simple\"><polygon fill=\"#FFFFFF\" points=\"40,49,64,49,71,71.2969,195,71.2969,195,153,40,153,40,49\" style=\"stroke: #000000; stroke-width: 1.5;\"/><line style=\"stroke: #000000; stroke-width: 1.5;\" x1=\"40\" x2=\"71\" y1=\"71.2969\" y2=\"71.2969\"/><text fill=\"#000000\" font-family=\"sans-serif\" font-size=\"14\" font-weight=\"bold\" lengthAdjust=\"spacingAndGlyphs\" textLength=\"18\" x=\"44\" y=\"63.9951\">P2</text></a><!--MD5=[09b614a08d8cba4a07c9adeb5e0fee81]\n",
       "class E3--><a href=\"psysml:9b3dc75b-1d88-4bb0-99bb-db4dbafde32b\" target=\"_top\" title=\"psysml:9b3dc75b-1d88-4bb0-99bb-db4dbafde32b\" xlink:actuate=\"onRequest\" xlink:href=\"psysml:9b3dc75b-1d88-4bb0-99bb-db4dbafde32b\" xlink:show=\"new\" xlink:title=\"psysml:9b3dc75b-1d88-4bb0-99bb-db4dbafde32b\" xlink:type=\"simple\"><rect fill=\"#FFFFFF\" height=\"45.9375\" id=\"E3\" style=\"stroke: #383838; stroke-width: 1.5;\" width=\"70\" x=\"109\" y=\"212\"/><text fill=\"#000000\" font-family=\"sans-serif\" font-size=\"12\" font-style=\"italic\" lengthAdjust=\"spacingAndGlyphs\" textLength=\"68\" x=\"110\" y=\"228.1387\">«part  def»</text><text fill=\"#000000\" font-family=\"sans-serif\" font-size=\"12\" lengthAdjust=\"spacingAndGlyphs\" textLength=\"8\" x=\"140\" y=\"242.1074\">A</text><line style=\"stroke: #383838; stroke-width: 1.5;\" x1=\"110\" x2=\"178\" y1=\"249.9375\" y2=\"249.9375\"/></a><!--MD5=[60a26617385b1d2d0262a64233df1f8d]\n",
       "class E6--><a href=\"psysml:06f81dae-fa7a-4401-9cfd-15cc868431a4\" target=\"_top\" title=\"psysml:06f81dae-fa7a-4401-9cfd-15cc868431a4\" xlink:actuate=\"onRequest\" xlink:href=\"psysml:06f81dae-fa7a-4401-9cfd-15cc868431a4\" xlink:show=\"new\" xlink:title=\"psysml:06f81dae-fa7a-4401-9cfd-15cc868431a4\" xlink:type=\"simple\"><rect fill=\"#FFFFFF\" height=\"45.9375\" id=\"E6\" rx=\"10\" ry=\"10\" style=\"stroke: #383838; stroke-width: 1.5;\" width=\"42\" x=\"137\" y=\"87.5\"/><text fill=\"#000000\" font-family=\"sans-serif\" font-size=\"12\" font-style=\"italic\" lengthAdjust=\"spacingAndGlyphs\" textLength=\"40\" x=\"138\" y=\"103.6387\">«part»</text><text fill=\"#000000\" font-family=\"sans-serif\" font-size=\"12\" lengthAdjust=\"spacingAndGlyphs\" textLength=\"22\" x=\"145\" y=\"117.6074\">x: A</text><line style=\"stroke: #383838; stroke-width: 1.5;\" x1=\"138\" x2=\"178\" y1=\"125.4375\" y2=\"125.4375\"/></a><a href=\"psysml:f3db2951-3782-436b-a6ad-64914b64a485\" target=\"_top\" title=\"psysml:f3db2951-3782-436b-a6ad-64914b64a485\" xlink:actuate=\"onRequest\" xlink:href=\"psysml:f3db2951-3782-436b-a6ad-64914b64a485\" xlink:show=\"new\" xlink:title=\"psysml:f3db2951-3782-436b-a6ad-64914b64a485\" xlink:type=\"simple\"><polygon fill=\"#FFFFFF\" points=\"56,84,88,84,95,106.2969,102,106.2969,102,136.5938,56,136.5938,56,84\" style=\"stroke: #000000; stroke-width: 1.5;\"/><line style=\"stroke: #000000; stroke-width: 1.5;\" x1=\"56\" x2=\"95\" y1=\"106.2969\" y2=\"106.2969\"/><text fill=\"#000000\" font-family=\"sans-serif\" font-size=\"14\" font-weight=\"bold\" lengthAdjust=\"spacingAndGlyphs\" textLength=\"26\" x=\"60\" y=\"98.9951\">P2a</text></a><!--MD5=[a717450b82c80b9240a525fa862496af]\n",
       "link E6 to E3--><a href=\"psysml:7ae3fb41-5537-4752-a539-fb13bd5d368f\" target=\"_top\" title=\"psysml:7ae3fb41-5537-4752-a539-fb13bd5d368f\" xlink:actuate=\"onRequest\" xlink:href=\"psysml:7ae3fb41-5537-4752-a539-fb13bd5d368f\" xlink:show=\"new\" xlink:title=\"psysml:7ae3fb41-5537-4752-a539-fb13bd5d368f\" xlink:type=\"simple\"><path d=\"M155.46,133.68 C153.61,149.9 151.04,172.39 148.8,191.96 \" fill=\"none\" id=\"E6-&gt;E3\" style=\"stroke: #383838; stroke-width: 1.0;\"/><polygon fill=\"#FFFFFF\" points=\"146.52,211.98,141.7231,192.308,155.6325,193.8979,146.52,211.98\" style=\"stroke: #383838; stroke-width: 1.0;\"/><ellipse cx=\"144.3574\" cy=\"186.872\" fill=\"#383838\" rx=\"2\" ry=\"2\" style=\"stroke: #383838; stroke-width: 1.0;\"/><ellipse cx=\"154.2928\" cy=\"188.0076\" fill=\"#383838\" rx=\"2\" ry=\"2\" style=\"stroke: #383838; stroke-width: 1.0;\"/></a><!--MD5=[85af77fa23d9f3cccaa4dc6f1ebae80b]\n",
       "@startuml\r\n",
       "top to bottom direction\r\n",
       "skinparam monochrome true\r\n",
       "skinparam classbackgroundcolor white\r\n",
       "skinparam shadowing false\r\n",
       "skinparam wrapWidth 300\r\n",
       "hide circle\r\n",
       "\r\n",
       "package \"QualifiedNameImportTest\" as E1  [[psysml:3ae9698c-7b02-4bda-a9f9-90d299fbd69b ]]  {\r\n",
       "package \"P1\" as E2  [[psysml:1cd01716-9110-4b9f-8aee-0302fbd4d98f ]]  {\r\n",
       "comp def \"A\" as E3  <<(T,blue) part  def>> [[psysml:9b3dc75b-1d88-4bb0-99bb-db4dbafde32b ]] {\r\n",
       "}\r\n",
       "}\r\n",
       "package \"P2\" as E4  [[psysml:41fe529f-0d81-4eb7-adf7-d3411e3f84fb ]]  {\r\n",
       "package \"P2a\" as E5  [[psysml:f3db2951-3782-436b-a6ad-64914b64a485 ]]  {\r\n",
       "}\r\n",
       "comp usage \"x: A \" as E6  <<(T,blue) part>> [[psysml:06f81dae-fa7a-4401-9cfd-15cc868431a4 ]] {\r\n",
       "}\r\n",
       "}\r\n",
       "}\r\n",
       "E6 - -:|> E3 [[psysml:7ae3fb41-5537-4752-a539-fb13bd5d368f ]] \r\n",
       "@enduml\r\n",
       "\n",
       "PlantUML version 1.2020.13(Sat Jun 13 12:26:38 UTC 2020)\n",
       "(EPL source distribution)\n",
       "Java Runtime: OpenJDK Runtime Environment\n",
       "JVM: OpenJDK 64-Bit Server VM\n",
       "Default Encoding: UTF-8\n",
       "Language: en\n",
       "Country: null\n",
       "--></g></svg>"
      ]
     },
     "execution_count": 50,
     "metadata": {},
     "output_type": "execute_result"
    }
   ],
   "source": [
    "%viz --style=\"TB\" --view=\"MIXED\" \"QualifiedNameImportTest\""
   ]
  },
  {
   "cell_type": "code",
   "execution_count": 51,
   "id": "b2e1ef2d",
   "metadata": {
    "execution": {
     "iopub.execute_input": "2022-02-05T16:55:54.661798Z",
     "iopub.status.busy": "2022-02-05T16:55:54.661394Z",
     "iopub.status.idle": "2022-02-05T16:55:54.689536Z",
     "shell.execute_reply": "2022-02-05T16:55:54.689147Z"
    }
   },
   "outputs": [
    {
     "data": {
      "image/svg+xml": [
       "<?xml version=\"1.0\" encoding=\"UTF-8\" standalone=\"no\"?><svg xmlns=\"http://www.w3.org/2000/svg\" xmlns:xlink=\"http://www.w3.org/1999/xlink\" contentScriptType=\"application/ecmascript\" contentStyleType=\"text/css\" height=\"310px\" preserveAspectRatio=\"none\" style=\"width:241px;height:310px;\" version=\"1.1\" viewBox=\"0 0 241 310\" width=\"241px\" zoomAndPan=\"magnify\"><defs/><g><!--MD5=[fbc87193dbaf4d95561dea2c320d4a47]\n",
       "cluster E1--><a href=\"psysml:3ae9698c-7b02-4bda-a9f9-90d299fbd69b\" target=\"_top\" title=\"psysml:3ae9698c-7b02-4bda-a9f9-90d299fbd69b\" xlink:actuate=\"onRequest\" xlink:href=\"psysml:3ae9698c-7b02-4bda-a9f9-90d299fbd69b\" xlink:show=\"new\" xlink:title=\"psysml:3ae9698c-7b02-4bda-a9f9-90d299fbd69b\" xlink:type=\"simple\"><polygon fill=\"#FFFFFF\" points=\"16,6,196,6,203,28.2969,219,28.2969,219,298,16,298,16,6\" style=\"stroke: #000000; stroke-width: 1.5;\"/><line style=\"stroke: #000000; stroke-width: 1.5;\" x1=\"16\" x2=\"203\" y1=\"28.2969\" y2=\"28.2969\"/><text fill=\"#000000\" font-family=\"sans-serif\" font-size=\"14\" font-weight=\"bold\" lengthAdjust=\"spacingAndGlyphs\" textLength=\"174\" x=\"20\" y=\"20.9951\">QualifiedNameImportTest</text></a><!--MD5=[e4f7fae6ed58524ba242bb0b0d3be6b7]\n",
       "cluster E2--><a href=\"psysml:1cd01716-9110-4b9f-8aee-0302fbd4d98f\" target=\"_top\" title=\"psysml:1cd01716-9110-4b9f-8aee-0302fbd4d98f\" xlink:actuate=\"onRequest\" xlink:href=\"psysml:1cd01716-9110-4b9f-8aee-0302fbd4d98f\" xlink:show=\"new\" xlink:title=\"psysml:1cd01716-9110-4b9f-8aee-0302fbd4d98f\" xlink:type=\"simple\"><polygon fill=\"#FFFFFF\" points=\"93,177,117,177,124,199.2969,195,199.2969,195,274,93,274,93,177\" style=\"stroke: #000000; stroke-width: 1.5;\"/><line style=\"stroke: #000000; stroke-width: 1.5;\" x1=\"93\" x2=\"124\" y1=\"199.2969\" y2=\"199.2969\"/><text fill=\"#000000\" font-family=\"sans-serif\" font-size=\"14\" font-weight=\"bold\" lengthAdjust=\"spacingAndGlyphs\" textLength=\"18\" x=\"97\" y=\"191.9951\">P1</text></a><!--MD5=[f6df4d0ebaf0b5dfb2ced0ae5af7c670]\n",
       "cluster E4--><a href=\"psysml:41fe529f-0d81-4eb7-adf7-d3411e3f84fb\" target=\"_top\" title=\"psysml:41fe529f-0d81-4eb7-adf7-d3411e3f84fb\" xlink:actuate=\"onRequest\" xlink:href=\"psysml:41fe529f-0d81-4eb7-adf7-d3411e3f84fb\" xlink:show=\"new\" xlink:title=\"psysml:41fe529f-0d81-4eb7-adf7-d3411e3f84fb\" xlink:type=\"simple\"><polygon fill=\"#FFFFFF\" points=\"40,49,64,49,71,71.2969,195,71.2969,195,153,40,153,40,49\" style=\"stroke: #000000; stroke-width: 1.5;\"/><line style=\"stroke: #000000; stroke-width: 1.5;\" x1=\"40\" x2=\"71\" y1=\"71.2969\" y2=\"71.2969\"/><text fill=\"#000000\" font-family=\"sans-serif\" font-size=\"14\" font-weight=\"bold\" lengthAdjust=\"spacingAndGlyphs\" textLength=\"18\" x=\"44\" y=\"63.9951\">P2</text></a><!--MD5=[09b614a08d8cba4a07c9adeb5e0fee81]\n",
       "class E3--><a href=\"psysml:9b3dc75b-1d88-4bb0-99bb-db4dbafde32b\" target=\"_top\" title=\"psysml:9b3dc75b-1d88-4bb0-99bb-db4dbafde32b\" xlink:actuate=\"onRequest\" xlink:href=\"psysml:9b3dc75b-1d88-4bb0-99bb-db4dbafde32b\" xlink:show=\"new\" xlink:title=\"psysml:9b3dc75b-1d88-4bb0-99bb-db4dbafde32b\" xlink:type=\"simple\"><rect fill=\"#FFFFFF\" height=\"45.9375\" id=\"E3\" style=\"stroke: #383838; stroke-width: 1.5;\" width=\"70\" x=\"109\" y=\"212\"/><text fill=\"#000000\" font-family=\"sans-serif\" font-size=\"12\" font-style=\"italic\" lengthAdjust=\"spacingAndGlyphs\" textLength=\"68\" x=\"110\" y=\"228.1387\">«part  def»</text><text fill=\"#000000\" font-family=\"sans-serif\" font-size=\"12\" lengthAdjust=\"spacingAndGlyphs\" textLength=\"8\" x=\"140\" y=\"242.1074\">A</text><line style=\"stroke: #383838; stroke-width: 1.5;\" x1=\"110\" x2=\"178\" y1=\"249.9375\" y2=\"249.9375\"/></a><!--MD5=[60a26617385b1d2d0262a64233df1f8d]\n",
       "class E6--><a href=\"psysml:06f81dae-fa7a-4401-9cfd-15cc868431a4\" target=\"_top\" title=\"psysml:06f81dae-fa7a-4401-9cfd-15cc868431a4\" xlink:actuate=\"onRequest\" xlink:href=\"psysml:06f81dae-fa7a-4401-9cfd-15cc868431a4\" xlink:show=\"new\" xlink:title=\"psysml:06f81dae-fa7a-4401-9cfd-15cc868431a4\" xlink:type=\"simple\"><rect fill=\"#FFFFFF\" height=\"45.9375\" id=\"E6\" rx=\"10\" ry=\"10\" style=\"stroke: #383838; stroke-width: 1.5;\" width=\"42\" x=\"137\" y=\"87.5\"/><text fill=\"#000000\" font-family=\"sans-serif\" font-size=\"12\" font-style=\"italic\" lengthAdjust=\"spacingAndGlyphs\" textLength=\"40\" x=\"138\" y=\"103.6387\">«part»</text><text fill=\"#000000\" font-family=\"sans-serif\" font-size=\"12\" lengthAdjust=\"spacingAndGlyphs\" textLength=\"22\" x=\"145\" y=\"117.6074\">x: A</text><line style=\"stroke: #383838; stroke-width: 1.5;\" x1=\"138\" x2=\"178\" y1=\"125.4375\" y2=\"125.4375\"/></a><a href=\"psysml:f3db2951-3782-436b-a6ad-64914b64a485\" target=\"_top\" title=\"psysml:f3db2951-3782-436b-a6ad-64914b64a485\" xlink:actuate=\"onRequest\" xlink:href=\"psysml:f3db2951-3782-436b-a6ad-64914b64a485\" xlink:show=\"new\" xlink:title=\"psysml:f3db2951-3782-436b-a6ad-64914b64a485\" xlink:type=\"simple\"><polygon fill=\"#FFFFFF\" points=\"56,84,88,84,95,106.2969,102,106.2969,102,136.5938,56,136.5938,56,84\" style=\"stroke: #000000; stroke-width: 1.5;\"/><line style=\"stroke: #000000; stroke-width: 1.5;\" x1=\"56\" x2=\"95\" y1=\"106.2969\" y2=\"106.2969\"/><text fill=\"#000000\" font-family=\"sans-serif\" font-size=\"14\" font-weight=\"bold\" lengthAdjust=\"spacingAndGlyphs\" textLength=\"26\" x=\"60\" y=\"98.9951\">P2a</text></a><!--MD5=[a717450b82c80b9240a525fa862496af]\n",
       "link E6 to E3--><a href=\"psysml:7ae3fb41-5537-4752-a539-fb13bd5d368f\" target=\"_top\" title=\"psysml:7ae3fb41-5537-4752-a539-fb13bd5d368f\" xlink:actuate=\"onRequest\" xlink:href=\"psysml:7ae3fb41-5537-4752-a539-fb13bd5d368f\" xlink:show=\"new\" xlink:title=\"psysml:7ae3fb41-5537-4752-a539-fb13bd5d368f\" xlink:type=\"simple\"><path d=\"M158,133.63 C158,133.63 158,192 158,192 \" fill=\"none\" id=\"E6-&gt;E3\" style=\"stroke: #383838; stroke-width: 1.0;\"/><polygon fill=\"#FFFFFF\" points=\"158,212,151,193,165,193,158,212\" style=\"stroke: #383838; stroke-width: 1.0;\"/><ellipse cx=\"153\" cy=\"187.3\" fill=\"#383838\" rx=\"2\" ry=\"2\" style=\"stroke: #383838; stroke-width: 1.0;\"/><ellipse cx=\"163\" cy=\"187.3\" fill=\"#383838\" rx=\"2\" ry=\"2\" style=\"stroke: #383838; stroke-width: 1.0;\"/></a><!--MD5=[f0adb08f46078250a1a95bf4c4aae197]\n",
       "@startuml\r\n",
       "skinparam linetype ortho\r\n",
       "skinparam monochrome true\r\n",
       "skinparam classbackgroundcolor white\r\n",
       "skinparam shadowing false\r\n",
       "skinparam wrapWidth 300\r\n",
       "hide circle\r\n",
       "\r\n",
       "package \"QualifiedNameImportTest\" as E1  [[psysml:3ae9698c-7b02-4bda-a9f9-90d299fbd69b ]]  {\r\n",
       "package \"P1\" as E2  [[psysml:1cd01716-9110-4b9f-8aee-0302fbd4d98f ]]  {\r\n",
       "comp def \"A\" as E3  <<(T,blue) part  def>> [[psysml:9b3dc75b-1d88-4bb0-99bb-db4dbafde32b ]] {\r\n",
       "}\r\n",
       "}\r\n",
       "package \"P2\" as E4  [[psysml:41fe529f-0d81-4eb7-adf7-d3411e3f84fb ]]  {\r\n",
       "package \"P2a\" as E5  [[psysml:f3db2951-3782-436b-a6ad-64914b64a485 ]]  {\r\n",
       "}\r\n",
       "comp usage \"x: A \" as E6  <<(T,blue) part>> [[psysml:06f81dae-fa7a-4401-9cfd-15cc868431a4 ]] {\r\n",
       "}\r\n",
       "}\r\n",
       "}\r\n",
       "E6 - -:|> E3 [[psysml:7ae3fb41-5537-4752-a539-fb13bd5d368f ]] \r\n",
       "@enduml\r\n",
       "\n",
       "PlantUML version 1.2020.13(Sat Jun 13 12:26:38 UTC 2020)\n",
       "(EPL source distribution)\n",
       "Java Runtime: OpenJDK Runtime Environment\n",
       "JVM: OpenJDK 64-Bit Server VM\n",
       "Default Encoding: UTF-8\n",
       "Language: en\n",
       "Country: null\n",
       "--></g></svg>"
      ]
     },
     "execution_count": 51,
     "metadata": {},
     "output_type": "execute_result"
    }
   ],
   "source": [
    "%viz --style=\"ORTHOLINE\" --view=\"Default\" \"QualifiedNameImportTest\""
   ]
  },
  {
   "cell_type": "code",
   "execution_count": 52,
   "id": "0766e809",
   "metadata": {
    "execution": {
     "iopub.execute_input": "2022-02-05T16:55:54.739023Z",
     "iopub.status.busy": "2022-02-05T16:55:54.738621Z",
     "iopub.status.idle": "2022-02-05T16:55:54.765161Z",
     "shell.execute_reply": "2022-02-05T16:55:54.763887Z"
    }
   },
   "outputs": [
    {
     "data": {
      "image/svg+xml": [
       "<?xml version=\"1.0\" encoding=\"UTF-8\" standalone=\"no\"?><svg xmlns=\"http://www.w3.org/2000/svg\" xmlns:xlink=\"http://www.w3.org/1999/xlink\" contentScriptType=\"application/ecmascript\" contentStyleType=\"text/css\" height=\"310px\" preserveAspectRatio=\"none\" style=\"width:241px;height:310px;\" version=\"1.1\" viewBox=\"0 0 241 310\" width=\"241px\" zoomAndPan=\"magnify\"><defs/><g><!--MD5=[fbc87193dbaf4d95561dea2c320d4a47]\n",
       "cluster E1--><a href=\"psysml:3ae9698c-7b02-4bda-a9f9-90d299fbd69b\" target=\"_top\" title=\"psysml:3ae9698c-7b02-4bda-a9f9-90d299fbd69b\" xlink:actuate=\"onRequest\" xlink:href=\"psysml:3ae9698c-7b02-4bda-a9f9-90d299fbd69b\" xlink:show=\"new\" xlink:title=\"psysml:3ae9698c-7b02-4bda-a9f9-90d299fbd69b\" xlink:type=\"simple\"><polygon fill=\"#FFFFFF\" points=\"16,6,196,6,203,28.2969,219,28.2969,219,298,16,298,16,6\" style=\"stroke: #000000; stroke-width: 1.5;\"/><line style=\"stroke: #000000; stroke-width: 1.5;\" x1=\"16\" x2=\"203\" y1=\"28.2969\" y2=\"28.2969\"/><text fill=\"#000000\" font-family=\"sans-serif\" font-size=\"14\" font-weight=\"bold\" lengthAdjust=\"spacingAndGlyphs\" textLength=\"174\" x=\"20\" y=\"20.9951\">QualifiedNameImportTest</text></a><!--MD5=[e4f7fae6ed58524ba242bb0b0d3be6b7]\n",
       "cluster E2--><a href=\"psysml:1cd01716-9110-4b9f-8aee-0302fbd4d98f\" target=\"_top\" title=\"psysml:1cd01716-9110-4b9f-8aee-0302fbd4d98f\" xlink:actuate=\"onRequest\" xlink:href=\"psysml:1cd01716-9110-4b9f-8aee-0302fbd4d98f\" xlink:show=\"new\" xlink:title=\"psysml:1cd01716-9110-4b9f-8aee-0302fbd4d98f\" xlink:type=\"simple\"><polygon fill=\"#FFFFFF\" points=\"93,177,117,177,124,199.2969,195,199.2969,195,274,93,274,93,177\" style=\"stroke: #000000; stroke-width: 1.5;\"/><line style=\"stroke: #000000; stroke-width: 1.5;\" x1=\"93\" x2=\"124\" y1=\"199.2969\" y2=\"199.2969\"/><text fill=\"#000000\" font-family=\"sans-serif\" font-size=\"14\" font-weight=\"bold\" lengthAdjust=\"spacingAndGlyphs\" textLength=\"18\" x=\"97\" y=\"191.9951\">P1</text></a><!--MD5=[f6df4d0ebaf0b5dfb2ced0ae5af7c670]\n",
       "cluster E4--><a href=\"psysml:41fe529f-0d81-4eb7-adf7-d3411e3f84fb\" target=\"_top\" title=\"psysml:41fe529f-0d81-4eb7-adf7-d3411e3f84fb\" xlink:actuate=\"onRequest\" xlink:href=\"psysml:41fe529f-0d81-4eb7-adf7-d3411e3f84fb\" xlink:show=\"new\" xlink:title=\"psysml:41fe529f-0d81-4eb7-adf7-d3411e3f84fb\" xlink:type=\"simple\"><polygon fill=\"#FFFFFF\" points=\"40,49,64,49,71,71.2969,195,71.2969,195,153,40,153,40,49\" style=\"stroke: #000000; stroke-width: 1.5;\"/><line style=\"stroke: #000000; stroke-width: 1.5;\" x1=\"40\" x2=\"71\" y1=\"71.2969\" y2=\"71.2969\"/><text fill=\"#000000\" font-family=\"sans-serif\" font-size=\"14\" font-weight=\"bold\" lengthAdjust=\"spacingAndGlyphs\" textLength=\"18\" x=\"44\" y=\"63.9951\">P2</text></a><!--MD5=[09b614a08d8cba4a07c9adeb5e0fee81]\n",
       "class E3--><a href=\"psysml:9b3dc75b-1d88-4bb0-99bb-db4dbafde32b\" target=\"_top\" title=\"psysml:9b3dc75b-1d88-4bb0-99bb-db4dbafde32b\" xlink:actuate=\"onRequest\" xlink:href=\"psysml:9b3dc75b-1d88-4bb0-99bb-db4dbafde32b\" xlink:show=\"new\" xlink:title=\"psysml:9b3dc75b-1d88-4bb0-99bb-db4dbafde32b\" xlink:type=\"simple\"><rect fill=\"#FFFFFF\" height=\"45.9375\" id=\"E3\" style=\"stroke: #383838; stroke-width: 1.5;\" width=\"70\" x=\"109\" y=\"212\"/><text fill=\"#000000\" font-family=\"sans-serif\" font-size=\"12\" font-style=\"italic\" lengthAdjust=\"spacingAndGlyphs\" textLength=\"68\" x=\"110\" y=\"228.1387\">«part  def»</text><text fill=\"#000000\" font-family=\"sans-serif\" font-size=\"12\" lengthAdjust=\"spacingAndGlyphs\" textLength=\"8\" x=\"140\" y=\"242.1074\">A</text><line style=\"stroke: #383838; stroke-width: 1.5;\" x1=\"110\" x2=\"178\" y1=\"249.9375\" y2=\"249.9375\"/></a><!--MD5=[60a26617385b1d2d0262a64233df1f8d]\n",
       "class E6--><a href=\"psysml:06f81dae-fa7a-4401-9cfd-15cc868431a4\" target=\"_top\" title=\"psysml:06f81dae-fa7a-4401-9cfd-15cc868431a4\" xlink:actuate=\"onRequest\" xlink:href=\"psysml:06f81dae-fa7a-4401-9cfd-15cc868431a4\" xlink:show=\"new\" xlink:title=\"psysml:06f81dae-fa7a-4401-9cfd-15cc868431a4\" xlink:type=\"simple\"><rect fill=\"#FFFFFF\" height=\"45.9375\" id=\"E6\" rx=\"10\" ry=\"10\" style=\"stroke: #383838; stroke-width: 1.5;\" width=\"42\" x=\"137\" y=\"87.5\"/><text fill=\"#000000\" font-family=\"sans-serif\" font-size=\"12\" font-style=\"italic\" lengthAdjust=\"spacingAndGlyphs\" textLength=\"40\" x=\"138\" y=\"103.6387\">«part»</text><text fill=\"#000000\" font-family=\"sans-serif\" font-size=\"12\" lengthAdjust=\"spacingAndGlyphs\" textLength=\"22\" x=\"145\" y=\"117.6074\">x: A</text><line style=\"stroke: #383838; stroke-width: 1.5;\" x1=\"138\" x2=\"178\" y1=\"125.4375\" y2=\"125.4375\"/></a><a href=\"psysml:f3db2951-3782-436b-a6ad-64914b64a485\" target=\"_top\" title=\"psysml:f3db2951-3782-436b-a6ad-64914b64a485\" xlink:actuate=\"onRequest\" xlink:href=\"psysml:f3db2951-3782-436b-a6ad-64914b64a485\" xlink:show=\"new\" xlink:title=\"psysml:f3db2951-3782-436b-a6ad-64914b64a485\" xlink:type=\"simple\"><polygon fill=\"#FFFFFF\" points=\"56,84,88,84,95,106.2969,102,106.2969,102,136.5938,56,136.5938,56,84\" style=\"stroke: #000000; stroke-width: 1.5;\"/><line style=\"stroke: #000000; stroke-width: 1.5;\" x1=\"56\" x2=\"95\" y1=\"106.2969\" y2=\"106.2969\"/><text fill=\"#000000\" font-family=\"sans-serif\" font-size=\"14\" font-weight=\"bold\" lengthAdjust=\"spacingAndGlyphs\" textLength=\"26\" x=\"60\" y=\"98.9951\">P2a</text></a><!--MD5=[a717450b82c80b9240a525fa862496af]\n",
       "link E6 to E3--><a href=\"psysml:7ae3fb41-5537-4752-a539-fb13bd5d368f\" target=\"_top\" title=\"psysml:7ae3fb41-5537-4752-a539-fb13bd5d368f\" xlink:actuate=\"onRequest\" xlink:href=\"psysml:7ae3fb41-5537-4752-a539-fb13bd5d368f\" xlink:show=\"new\" xlink:title=\"psysml:7ae3fb41-5537-4752-a539-fb13bd5d368f\" xlink:type=\"simple\"><path d=\"M158,133.63 C158,133.63 158,192 158,192 \" fill=\"none\" id=\"E6-&gt;E3\" style=\"stroke: #383838; stroke-width: 1.0;\"/><polygon fill=\"#FFFFFF\" points=\"158,212,151,193,165,193,158,212\" style=\"stroke: #383838; stroke-width: 1.0;\"/><ellipse cx=\"153\" cy=\"187.3\" fill=\"#383838\" rx=\"2\" ry=\"2\" style=\"stroke: #383838; stroke-width: 1.0;\"/><ellipse cx=\"163\" cy=\"187.3\" fill=\"#383838\" rx=\"2\" ry=\"2\" style=\"stroke: #383838; stroke-width: 1.0;\"/></a><!--MD5=[f0adb08f46078250a1a95bf4c4aae197]\n",
       "@startuml\r\n",
       "skinparam linetype ortho\r\n",
       "skinparam monochrome true\r\n",
       "skinparam classbackgroundcolor white\r\n",
       "skinparam shadowing false\r\n",
       "skinparam wrapWidth 300\r\n",
       "hide circle\r\n",
       "\r\n",
       "package \"QualifiedNameImportTest\" as E1  [[psysml:3ae9698c-7b02-4bda-a9f9-90d299fbd69b ]]  {\r\n",
       "package \"P1\" as E2  [[psysml:1cd01716-9110-4b9f-8aee-0302fbd4d98f ]]  {\r\n",
       "comp def \"A\" as E3  <<(T,blue) part  def>> [[psysml:9b3dc75b-1d88-4bb0-99bb-db4dbafde32b ]] {\r\n",
       "}\r\n",
       "}\r\n",
       "package \"P2\" as E4  [[psysml:41fe529f-0d81-4eb7-adf7-d3411e3f84fb ]]  {\r\n",
       "package \"P2a\" as E5  [[psysml:f3db2951-3782-436b-a6ad-64914b64a485 ]]  {\r\n",
       "}\r\n",
       "comp usage \"x: A \" as E6  <<(T,blue) part>> [[psysml:06f81dae-fa7a-4401-9cfd-15cc868431a4 ]] {\r\n",
       "}\r\n",
       "}\r\n",
       "}\r\n",
       "E6 - -:|> E3 [[psysml:7ae3fb41-5537-4752-a539-fb13bd5d368f ]] \r\n",
       "@enduml\r\n",
       "\n",
       "PlantUML version 1.2020.13(Sat Jun 13 12:26:38 UTC 2020)\n",
       "(EPL source distribution)\n",
       "Java Runtime: OpenJDK Runtime Environment\n",
       "JVM: OpenJDK 64-Bit Server VM\n",
       "Default Encoding: UTF-8\n",
       "Language: en\n",
       "Country: null\n",
       "--></g></svg>"
      ]
     },
     "execution_count": 52,
     "metadata": {},
     "output_type": "execute_result"
    }
   ],
   "source": [
    "%viz --style=\"ORTHOLINE\" --view=\"Tree\" \"QualifiedNameImportTest\""
   ]
  },
  {
   "cell_type": "code",
   "execution_count": 53,
   "id": "1db905e4",
   "metadata": {
    "execution": {
     "iopub.execute_input": "2022-02-05T16:55:54.814707Z",
     "iopub.status.busy": "2022-02-05T16:55:54.814305Z",
     "iopub.status.idle": "2022-02-05T16:55:54.819175Z",
     "shell.execute_reply": "2022-02-05T16:55:54.819481Z"
    }
   },
   "outputs": [
    {
     "data": {
      "image/svg+xml": [
       "<?xml version=\"1.0\" encoding=\"UTF-8\" standalone=\"no\"?><svg xmlns=\"http://www.w3.org/2000/svg\" xmlns:xlink=\"http://www.w3.org/1999/xlink\" contentScriptType=\"application/ecmascript\" contentStyleType=\"text/css\" height=\"12px\" preserveAspectRatio=\"none\" style=\"width:12px;height:12px;\" version=\"1.1\" viewBox=\"0 0 12 12\" width=\"12px\" zoomAndPan=\"magnify\"><defs/><g><!--MD5=[97d6f38768b311333d388e66b2b27985]\n",
       "@startuml\r\n",
       "skinparam linetype ortho\r\n",
       "skinparam monochrome true\r\n",
       "skinparam classbackgroundcolor white\r\n",
       "skinparam shadowing false\r\n",
       "skinparam wrapWidth 300\r\n",
       "hide circle\r\n",
       "\r\n",
       "@enduml\r\n",
       "\n",
       "PlantUML version 1.2020.13(Sat Jun 13 12:26:38 UTC 2020)\n",
       "(EPL source distribution)\n",
       "Java Runtime: OpenJDK Runtime Environment\n",
       "JVM: OpenJDK 64-Bit Server VM\n",
       "Default Encoding: UTF-8\n",
       "Language: en\n",
       "Country: null\n",
       "--></g></svg>"
      ]
     },
     "execution_count": 53,
     "metadata": {},
     "output_type": "execute_result"
    }
   ],
   "source": [
    "%viz --style=\"ORTHOLINE\" --view=\"State\" \"QualifiedNameImportTest\""
   ]
  },
  {
   "cell_type": "code",
   "execution_count": 54,
   "id": "1c65ee7a",
   "metadata": {
    "execution": {
     "iopub.execute_input": "2022-02-05T16:55:54.869417Z",
     "iopub.status.busy": "2022-02-05T16:55:54.869011Z",
     "iopub.status.idle": "2022-02-05T16:55:54.898219Z",
     "shell.execute_reply": "2022-02-05T16:55:54.897826Z"
    }
   },
   "outputs": [
    {
     "data": {
      "image/svg+xml": [
       "<?xml version=\"1.0\" encoding=\"UTF-8\" standalone=\"no\"?><svg xmlns=\"http://www.w3.org/2000/svg\" xmlns:xlink=\"http://www.w3.org/1999/xlink\" contentScriptType=\"application/ecmascript\" contentStyleType=\"text/css\" height=\"189px\" preserveAspectRatio=\"none\" style=\"width:379px;height:189px;\" version=\"1.1\" viewBox=\"0 0 379 189\" width=\"379px\" zoomAndPan=\"magnify\"><defs/><g><!--MD5=[fbc87193dbaf4d95561dea2c320d4a47]\n",
       "cluster E1--><a href=\"psysml:3ae9698c-7b02-4bda-a9f9-90d299fbd69b\" target=\"_top\" title=\"psysml:3ae9698c-7b02-4bda-a9f9-90d299fbd69b\" xlink:actuate=\"onRequest\" xlink:href=\"psysml:3ae9698c-7b02-4bda-a9f9-90d299fbd69b\" xlink:show=\"new\" xlink:title=\"psysml:3ae9698c-7b02-4bda-a9f9-90d299fbd69b\" xlink:type=\"simple\"><polygon fill=\"#FFFFFF\" points=\"16,6,196,6,203,28.2969,357,28.2969,357,177,16,177,16,6\" style=\"stroke: #000000; stroke-width: 1.5;\"/><line style=\"stroke: #000000; stroke-width: 1.5;\" x1=\"16\" x2=\"203\" y1=\"28.2969\" y2=\"28.2969\"/><text fill=\"#000000\" font-family=\"sans-serif\" font-size=\"14\" font-weight=\"bold\" lengthAdjust=\"spacingAndGlyphs\" textLength=\"174\" x=\"20\" y=\"20.9951\">QualifiedNameImportTest</text></a><!--MD5=[e4f7fae6ed58524ba242bb0b0d3be6b7]\n",
       "cluster E2--><a href=\"psysml:1cd01716-9110-4b9f-8aee-0302fbd4d98f\" target=\"_top\" title=\"psysml:1cd01716-9110-4b9f-8aee-0302fbd4d98f\" xlink:actuate=\"onRequest\" xlink:href=\"psysml:1cd01716-9110-4b9f-8aee-0302fbd4d98f\" xlink:show=\"new\" xlink:title=\"psysml:1cd01716-9110-4b9f-8aee-0302fbd4d98f\" xlink:type=\"simple\"><polygon fill=\"#FFFFFF\" points=\"227,54,251,54,258,76.2969,333,76.2969,333,148,227,148,227,54\" style=\"stroke: #000000; stroke-width: 1.5;\"/><line style=\"stroke: #000000; stroke-width: 1.5;\" x1=\"227\" x2=\"258\" y1=\"76.2969\" y2=\"76.2969\"/><text fill=\"#000000\" font-family=\"sans-serif\" font-size=\"14\" font-weight=\"bold\" lengthAdjust=\"spacingAndGlyphs\" textLength=\"18\" x=\"231\" y=\"68.9951\">P1</text></a><!--MD5=[f6df4d0ebaf0b5dfb2ced0ae5af7c670]\n",
       "cluster E4--><a href=\"psysml:41fe529f-0d81-4eb7-adf7-d3411e3f84fb\" target=\"_top\" title=\"psysml:41fe529f-0d81-4eb7-adf7-d3411e3f84fb\" xlink:actuate=\"onRequest\" xlink:href=\"psysml:41fe529f-0d81-4eb7-adf7-d3411e3f84fb\" xlink:show=\"new\" xlink:title=\"psysml:41fe529f-0d81-4eb7-adf7-d3411e3f84fb\" xlink:type=\"simple\"><polygon fill=\"#FFFFFF\" points=\"40,49,64,49,71,71.2969,203,71.2969,203,153,40,153,40,49\" style=\"stroke: #000000; stroke-width: 1.5;\"/><line style=\"stroke: #000000; stroke-width: 1.5;\" x1=\"40\" x2=\"71\" y1=\"71.2969\" y2=\"71.2969\"/><text fill=\"#000000\" font-family=\"sans-serif\" font-size=\"14\" font-weight=\"bold\" lengthAdjust=\"spacingAndGlyphs\" textLength=\"18\" x=\"44\" y=\"63.9951\">P2</text></a><g id=\"E1.E2.E3\"><a href=\"psysml:9b3dc75b-1d88-4bb0-99bb-db4dbafde32b\" target=\"_top\" title=\"psysml:9b3dc75b-1d88-4bb0-99bb-db4dbafde32b\" xlink:actuate=\"onRequest\" xlink:href=\"psysml:9b3dc75b-1d88-4bb0-99bb-db4dbafde32b\" xlink:show=\"new\" xlink:title=\"psysml:9b3dc75b-1d88-4bb0-99bb-db4dbafde32b\" xlink:type=\"simple\"><rect fill=\"#FFFFFF\" height=\"42.9375\" id=\"E3\" style=\"stroke: #383838; stroke-width: 1.5;\" width=\"75\" x=\"242.5\" y=\"89\"/><rect fill=\"#F8F8F8\" height=\"37.9375\" style=\"stroke: #383838; stroke-width: 1.5;\" width=\"75\" x=\"242.5\" y=\"89\"/><text fill=\"#000000\" font-family=\"sans-serif\" font-size=\"12\" font-style=\"italic\" lengthAdjust=\"spacingAndGlyphs\" textLength=\"68\" x=\"246\" y=\"105.1387\">«part  def»</text><text fill=\"#000000\" font-family=\"sans-serif\" font-size=\"12\" lengthAdjust=\"spacingAndGlyphs\" textLength=\"8\" x=\"276\" y=\"119.1074\">A</text></a></g><a href=\"psysml:f3db2951-3782-436b-a6ad-64914b64a485\" target=\"_top\" title=\"psysml:f3db2951-3782-436b-a6ad-64914b64a485\" xlink:actuate=\"onRequest\" xlink:href=\"psysml:f3db2951-3782-436b-a6ad-64914b64a485\" xlink:show=\"new\" xlink:title=\"psysml:f3db2951-3782-436b-a6ad-64914b64a485\" xlink:type=\"simple\"><polygon fill=\"#FFFFFF\" points=\"141,84,173,84,180,106.2969,187,106.2969,187,136.5938,141,136.5938,141,84\" style=\"stroke: #000000; stroke-width: 1.5;\"/><line style=\"stroke: #000000; stroke-width: 1.5;\" x1=\"141\" x2=\"180\" y1=\"106.2969\" y2=\"106.2969\"/><text fill=\"#000000\" font-family=\"sans-serif\" font-size=\"14\" font-weight=\"bold\" lengthAdjust=\"spacingAndGlyphs\" textLength=\"26\" x=\"145\" y=\"98.9951\">P2a</text></a><g id=\"E1.E4.E6\"><a href=\"psysml:06f81dae-fa7a-4401-9cfd-15cc868431a4\" target=\"_top\" title=\"psysml:06f81dae-fa7a-4401-9cfd-15cc868431a4\" xlink:actuate=\"onRequest\" xlink:href=\"psysml:06f81dae-fa7a-4401-9cfd-15cc868431a4\" xlink:show=\"new\" xlink:title=\"psysml:06f81dae-fa7a-4401-9cfd-15cc868431a4\" xlink:type=\"simple\"><rect fill=\"#FFFFFF\" height=\"40\" id=\"E6\" rx=\"10\" ry=\"10\" style=\"stroke: #383838; stroke-width: 1.5;\" width=\"50\" x=\"56\" y=\"90.5\"/><rect fill=\"#F8F8F8\" height=\"23.9688\" rx=\"10\" ry=\"10\" style=\"stroke: #F8F8F8; stroke-width: 1.5;\" width=\"50\" x=\"56\" y=\"90.5\"/><rect fill=\"#F8F8F8\" height=\"10\" style=\"stroke: #F8F8F8; stroke-width: 1.5;\" width=\"50\" x=\"56\" y=\"104.4688\"/><rect fill=\"none\" height=\"40\" id=\"E6\" rx=\"10\" ry=\"10\" style=\"stroke: #383838; stroke-width: 1.5;\" width=\"50\" x=\"56\" y=\"90.5\"/><text fill=\"#000000\" font-family=\"sans-serif\" font-size=\"12\" lengthAdjust=\"spacingAndGlyphs\" textLength=\"22\" x=\"70\" y=\"106.6387\">x: A</text></a></g><!--MD5=[75fefb11968032617f6b4e7e39031627]\n",
       "@startuml\r\n",
       "skinparam ranksep 10\r\n",
       "skinparam rectangle {\r\n",
       " backgroundColor<<block>> LightGreen\r\n",
       "}\r\n",
       "skinparam linetype ortho\r\n",
       "skinparam monochrome true\r\n",
       "skinparam classbackgroundcolor white\r\n",
       "skinparam shadowing false\r\n",
       "skinparam wrapWidth 300\r\n",
       "hide circle\r\n",
       "\r\n",
       "package \"QualifiedNameImportTest\" as E1  [[psysml:3ae9698c-7b02-4bda-a9f9-90d299fbd69b ]]  {\r\n",
       "package \"P1\" as E2  [[psysml:1cd01716-9110-4b9f-8aee-0302fbd4d98f ]]  {\r\n",
       "rec def \"A\" as E3  <<(T,blue) part  def>> [[psysml:9b3dc75b-1d88-4bb0-99bb-db4dbafde32b ]] {\r\n",
       "}\r\n",
       "}\r\n",
       "package \"P2\" as E4  [[psysml:41fe529f-0d81-4eb7-adf7-d3411e3f84fb ]]  {\r\n",
       "package \"P2a\" as E5  [[psysml:f3db2951-3782-436b-a6ad-64914b64a485 ]]  {\r\n",
       "}\r\n",
       "rec usage \"x: A\" as E6  [[psysml:06f81dae-fa7a-4401-9cfd-15cc868431a4 ]] {\r\n",
       "}\r\n",
       "}\r\n",
       "}\r\n",
       "@enduml\r\n",
       "\n",
       "PlantUML version 1.2020.13(Sat Jun 13 12:26:38 UTC 2020)\n",
       "(EPL source distribution)\n",
       "Java Runtime: OpenJDK Runtime Environment\n",
       "JVM: OpenJDK 64-Bit Server VM\n",
       "Default Encoding: UTF-8\n",
       "Language: en\n",
       "Country: null\n",
       "--></g></svg>"
      ]
     },
     "execution_count": 54,
     "metadata": {},
     "output_type": "execute_result"
    }
   ],
   "source": [
    "%viz --style=\"ORTHOLINE\" --view=\"Interconnection\" \"QualifiedNameImportTest\""
   ]
  },
  {
   "cell_type": "code",
   "execution_count": 55,
   "id": "dc60bf91",
   "metadata": {
    "execution": {
     "iopub.execute_input": "2022-02-05T16:55:54.947353Z",
     "iopub.status.busy": "2022-02-05T16:55:54.946924Z",
     "iopub.status.idle": "2022-02-05T16:55:54.951312Z",
     "shell.execute_reply": "2022-02-05T16:55:54.951628Z"
    }
   },
   "outputs": [
    {
     "data": {
      "image/svg+xml": [
       "<?xml version=\"1.0\" encoding=\"UTF-8\" standalone=\"no\"?><svg xmlns=\"http://www.w3.org/2000/svg\" xmlns:xlink=\"http://www.w3.org/1999/xlink\" contentScriptType=\"application/ecmascript\" contentStyleType=\"text/css\" height=\"12px\" preserveAspectRatio=\"none\" style=\"width:12px;height:12px;\" version=\"1.1\" viewBox=\"0 0 12 12\" width=\"12px\" zoomAndPan=\"magnify\"><defs/><g><!--MD5=[72934c63077099a26744516a776b4749]\n",
       "@startuml\r\n",
       "skinparam ranksep 8\r\n",
       "skinparam linetype ortho\r\n",
       "skinparam monochrome true\r\n",
       "skinparam classbackgroundcolor white\r\n",
       "skinparam shadowing false\r\n",
       "skinparam wrapWidth 300\r\n",
       "hide circle\r\n",
       "\r\n",
       "@enduml\r\n",
       "\n",
       "PlantUML version 1.2020.13(Sat Jun 13 12:26:38 UTC 2020)\n",
       "(EPL source distribution)\n",
       "Java Runtime: OpenJDK Runtime Environment\n",
       "JVM: OpenJDK 64-Bit Server VM\n",
       "Default Encoding: UTF-8\n",
       "Language: en\n",
       "Country: null\n",
       "--></g></svg>"
      ]
     },
     "execution_count": 55,
     "metadata": {},
     "output_type": "execute_result"
    }
   ],
   "source": [
    "%viz --style=\"ORTHOLINE\" --view=\"Action\" \"QualifiedNameImportTest\""
   ]
  },
  {
   "cell_type": "code",
   "execution_count": 56,
   "id": "95f5e466",
   "metadata": {
    "execution": {
     "iopub.execute_input": "2022-02-05T16:55:55.001473Z",
     "iopub.status.busy": "2022-02-05T16:55:55.001069Z",
     "iopub.status.idle": "2022-02-05T16:55:55.006815Z",
     "shell.execute_reply": "2022-02-05T16:55:55.006483Z"
    }
   },
   "outputs": [
    {
     "data": {
      "image/svg+xml": [
       "<?xml version=\"1.0\" encoding=\"UTF-8\" standalone=\"no\"?><svg xmlns=\"http://www.w3.org/2000/svg\" xmlns:xlink=\"http://www.w3.org/1999/xlink\" contentScriptType=\"application/ecmascript\" contentStyleType=\"text/css\" height=\"12px\" preserveAspectRatio=\"none\" style=\"width:12px;height:12px;\" version=\"1.1\" viewBox=\"0 0 12 12\" width=\"12px\" zoomAndPan=\"magnify\"><defs/><g><!--MD5=[30fc1de5121c5abddedd55b44417fde8]\n",
       "@startuml\r\n",
       "skinparam roundcorner 20\r\n",
       "skinparam BoxPadding 20\r\n",
       "skinparam SequenceBoxBackgroundColor #white\r\n",
       "skinparam style strictuml\r\n",
       "skinparam maxMessageSize 100\r\n",
       "skinparam linetype ortho\r\n",
       "skinparam monochrome true\r\n",
       "skinparam classbackgroundcolor white\r\n",
       "skinparam shadowing false\r\n",
       "skinparam wrapWidth 300\r\n",
       "hide circle\r\n",
       "\r\n",
       "@enduml\r\n",
       "\n",
       "PlantUML version 1.2020.13(Sat Jun 13 12:26:38 UTC 2020)\n",
       "(EPL source distribution)\n",
       "Java Runtime: OpenJDK Runtime Environment\n",
       "JVM: OpenJDK 64-Bit Server VM\n",
       "Default Encoding: UTF-8\n",
       "Language: en\n",
       "Country: null\n",
       "--></g></svg>"
      ]
     },
     "execution_count": 56,
     "metadata": {},
     "output_type": "execute_result"
    }
   ],
   "source": [
    "%viz --style=\"ORTHOLINE\" --view=\"Sequence\" \"QualifiedNameImportTest\""
   ]
  },
  {
   "cell_type": "code",
   "execution_count": 57,
   "id": "c85ef856",
   "metadata": {
    "execution": {
     "iopub.execute_input": "2022-02-05T16:55:55.056660Z",
     "iopub.status.busy": "2022-02-05T16:55:55.056258Z",
     "iopub.status.idle": "2022-02-05T16:55:55.084519Z",
     "shell.execute_reply": "2022-02-05T16:55:55.084164Z"
    }
   },
   "outputs": [
    {
     "data": {
      "image/svg+xml": [
       "<?xml version=\"1.0\" encoding=\"UTF-8\" standalone=\"no\"?><svg xmlns=\"http://www.w3.org/2000/svg\" xmlns:xlink=\"http://www.w3.org/1999/xlink\" contentScriptType=\"application/ecmascript\" contentStyleType=\"text/css\" height=\"310px\" preserveAspectRatio=\"none\" style=\"width:241px;height:310px;\" version=\"1.1\" viewBox=\"0 0 241 310\" width=\"241px\" zoomAndPan=\"magnify\"><defs/><g><!--MD5=[fbc87193dbaf4d95561dea2c320d4a47]\n",
       "cluster E1--><a href=\"psysml:3ae9698c-7b02-4bda-a9f9-90d299fbd69b\" target=\"_top\" title=\"psysml:3ae9698c-7b02-4bda-a9f9-90d299fbd69b\" xlink:actuate=\"onRequest\" xlink:href=\"psysml:3ae9698c-7b02-4bda-a9f9-90d299fbd69b\" xlink:show=\"new\" xlink:title=\"psysml:3ae9698c-7b02-4bda-a9f9-90d299fbd69b\" xlink:type=\"simple\"><polygon fill=\"#FFFFFF\" points=\"16,6,196,6,203,28.2969,219,28.2969,219,298,16,298,16,6\" style=\"stroke: #000000; stroke-width: 1.5;\"/><line style=\"stroke: #000000; stroke-width: 1.5;\" x1=\"16\" x2=\"203\" y1=\"28.2969\" y2=\"28.2969\"/><text fill=\"#000000\" font-family=\"sans-serif\" font-size=\"14\" font-weight=\"bold\" lengthAdjust=\"spacingAndGlyphs\" textLength=\"174\" x=\"20\" y=\"20.9951\">QualifiedNameImportTest</text></a><!--MD5=[e4f7fae6ed58524ba242bb0b0d3be6b7]\n",
       "cluster E2--><a href=\"psysml:1cd01716-9110-4b9f-8aee-0302fbd4d98f\" target=\"_top\" title=\"psysml:1cd01716-9110-4b9f-8aee-0302fbd4d98f\" xlink:actuate=\"onRequest\" xlink:href=\"psysml:1cd01716-9110-4b9f-8aee-0302fbd4d98f\" xlink:show=\"new\" xlink:title=\"psysml:1cd01716-9110-4b9f-8aee-0302fbd4d98f\" xlink:type=\"simple\"><polygon fill=\"#FFFFFF\" points=\"93,177,117,177,124,199.2969,195,199.2969,195,274,93,274,93,177\" style=\"stroke: #000000; stroke-width: 1.5;\"/><line style=\"stroke: #000000; stroke-width: 1.5;\" x1=\"93\" x2=\"124\" y1=\"199.2969\" y2=\"199.2969\"/><text fill=\"#000000\" font-family=\"sans-serif\" font-size=\"14\" font-weight=\"bold\" lengthAdjust=\"spacingAndGlyphs\" textLength=\"18\" x=\"97\" y=\"191.9951\">P1</text></a><!--MD5=[f6df4d0ebaf0b5dfb2ced0ae5af7c670]\n",
       "cluster E4--><a href=\"psysml:41fe529f-0d81-4eb7-adf7-d3411e3f84fb\" target=\"_top\" title=\"psysml:41fe529f-0d81-4eb7-adf7-d3411e3f84fb\" xlink:actuate=\"onRequest\" xlink:href=\"psysml:41fe529f-0d81-4eb7-adf7-d3411e3f84fb\" xlink:show=\"new\" xlink:title=\"psysml:41fe529f-0d81-4eb7-adf7-d3411e3f84fb\" xlink:type=\"simple\"><polygon fill=\"#FFFFFF\" points=\"40,49,64,49,71,71.2969,195,71.2969,195,153,40,153,40,49\" style=\"stroke: #000000; stroke-width: 1.5;\"/><line style=\"stroke: #000000; stroke-width: 1.5;\" x1=\"40\" x2=\"71\" y1=\"71.2969\" y2=\"71.2969\"/><text fill=\"#000000\" font-family=\"sans-serif\" font-size=\"14\" font-weight=\"bold\" lengthAdjust=\"spacingAndGlyphs\" textLength=\"18\" x=\"44\" y=\"63.9951\">P2</text></a><!--MD5=[09b614a08d8cba4a07c9adeb5e0fee81]\n",
       "class E3--><a href=\"psysml:9b3dc75b-1d88-4bb0-99bb-db4dbafde32b\" target=\"_top\" title=\"psysml:9b3dc75b-1d88-4bb0-99bb-db4dbafde32b\" xlink:actuate=\"onRequest\" xlink:href=\"psysml:9b3dc75b-1d88-4bb0-99bb-db4dbafde32b\" xlink:show=\"new\" xlink:title=\"psysml:9b3dc75b-1d88-4bb0-99bb-db4dbafde32b\" xlink:type=\"simple\"><rect fill=\"#FFFFFF\" height=\"45.9375\" id=\"E3\" style=\"stroke: #383838; stroke-width: 1.5;\" width=\"70\" x=\"109\" y=\"212\"/><text fill=\"#000000\" font-family=\"sans-serif\" font-size=\"12\" font-style=\"italic\" lengthAdjust=\"spacingAndGlyphs\" textLength=\"68\" x=\"110\" y=\"228.1387\">«part  def»</text><text fill=\"#000000\" font-family=\"sans-serif\" font-size=\"12\" lengthAdjust=\"spacingAndGlyphs\" textLength=\"8\" x=\"140\" y=\"242.1074\">A</text><line style=\"stroke: #383838; stroke-width: 1.5;\" x1=\"110\" x2=\"178\" y1=\"249.9375\" y2=\"249.9375\"/></a><!--MD5=[60a26617385b1d2d0262a64233df1f8d]\n",
       "class E6--><a href=\"psysml:06f81dae-fa7a-4401-9cfd-15cc868431a4\" target=\"_top\" title=\"psysml:06f81dae-fa7a-4401-9cfd-15cc868431a4\" xlink:actuate=\"onRequest\" xlink:href=\"psysml:06f81dae-fa7a-4401-9cfd-15cc868431a4\" xlink:show=\"new\" xlink:title=\"psysml:06f81dae-fa7a-4401-9cfd-15cc868431a4\" xlink:type=\"simple\"><rect fill=\"#FFFFFF\" height=\"45.9375\" id=\"E6\" rx=\"10\" ry=\"10\" style=\"stroke: #383838; stroke-width: 1.5;\" width=\"42\" x=\"137\" y=\"87.5\"/><text fill=\"#000000\" font-family=\"sans-serif\" font-size=\"12\" font-style=\"italic\" lengthAdjust=\"spacingAndGlyphs\" textLength=\"40\" x=\"138\" y=\"103.6387\">«part»</text><text fill=\"#000000\" font-family=\"sans-serif\" font-size=\"12\" lengthAdjust=\"spacingAndGlyphs\" textLength=\"22\" x=\"145\" y=\"117.6074\">x: A</text><line style=\"stroke: #383838; stroke-width: 1.5;\" x1=\"138\" x2=\"178\" y1=\"125.4375\" y2=\"125.4375\"/></a><a href=\"psysml:f3db2951-3782-436b-a6ad-64914b64a485\" target=\"_top\" title=\"psysml:f3db2951-3782-436b-a6ad-64914b64a485\" xlink:actuate=\"onRequest\" xlink:href=\"psysml:f3db2951-3782-436b-a6ad-64914b64a485\" xlink:show=\"new\" xlink:title=\"psysml:f3db2951-3782-436b-a6ad-64914b64a485\" xlink:type=\"simple\"><polygon fill=\"#FFFFFF\" points=\"56,84,88,84,95,106.2969,102,106.2969,102,136.5938,56,136.5938,56,84\" style=\"stroke: #000000; stroke-width: 1.5;\"/><line style=\"stroke: #000000; stroke-width: 1.5;\" x1=\"56\" x2=\"95\" y1=\"106.2969\" y2=\"106.2969\"/><text fill=\"#000000\" font-family=\"sans-serif\" font-size=\"14\" font-weight=\"bold\" lengthAdjust=\"spacingAndGlyphs\" textLength=\"26\" x=\"60\" y=\"98.9951\">P2a</text></a><!--MD5=[a717450b82c80b9240a525fa862496af]\n",
       "link E6 to E3--><a href=\"psysml:7ae3fb41-5537-4752-a539-fb13bd5d368f\" target=\"_top\" title=\"psysml:7ae3fb41-5537-4752-a539-fb13bd5d368f\" xlink:actuate=\"onRequest\" xlink:href=\"psysml:7ae3fb41-5537-4752-a539-fb13bd5d368f\" xlink:show=\"new\" xlink:title=\"psysml:7ae3fb41-5537-4752-a539-fb13bd5d368f\" xlink:type=\"simple\"><path d=\"M158,133.63 C158,133.63 158,192 158,192 \" fill=\"none\" id=\"E6-&gt;E3\" style=\"stroke: #383838; stroke-width: 1.0;\"/><polygon fill=\"#FFFFFF\" points=\"158,212,151,193,165,193,158,212\" style=\"stroke: #383838; stroke-width: 1.0;\"/><ellipse cx=\"153\" cy=\"187.3\" fill=\"#383838\" rx=\"2\" ry=\"2\" style=\"stroke: #383838; stroke-width: 1.0;\"/><ellipse cx=\"163\" cy=\"187.3\" fill=\"#383838\" rx=\"2\" ry=\"2\" style=\"stroke: #383838; stroke-width: 1.0;\"/></a><!--MD5=[f0adb08f46078250a1a95bf4c4aae197]\n",
       "@startuml\r\n",
       "skinparam linetype ortho\r\n",
       "skinparam monochrome true\r\n",
       "skinparam classbackgroundcolor white\r\n",
       "skinparam shadowing false\r\n",
       "skinparam wrapWidth 300\r\n",
       "hide circle\r\n",
       "\r\n",
       "package \"QualifiedNameImportTest\" as E1  [[psysml:3ae9698c-7b02-4bda-a9f9-90d299fbd69b ]]  {\r\n",
       "package \"P1\" as E2  [[psysml:1cd01716-9110-4b9f-8aee-0302fbd4d98f ]]  {\r\n",
       "comp def \"A\" as E3  <<(T,blue) part  def>> [[psysml:9b3dc75b-1d88-4bb0-99bb-db4dbafde32b ]] {\r\n",
       "}\r\n",
       "}\r\n",
       "package \"P2\" as E4  [[psysml:41fe529f-0d81-4eb7-adf7-d3411e3f84fb ]]  {\r\n",
       "package \"P2a\" as E5  [[psysml:f3db2951-3782-436b-a6ad-64914b64a485 ]]  {\r\n",
       "}\r\n",
       "comp usage \"x: A \" as E6  <<(T,blue) part>> [[psysml:06f81dae-fa7a-4401-9cfd-15cc868431a4 ]] {\r\n",
       "}\r\n",
       "}\r\n",
       "}\r\n",
       "E6 - -:|> E3 [[psysml:7ae3fb41-5537-4752-a539-fb13bd5d368f ]] \r\n",
       "@enduml\r\n",
       "\n",
       "PlantUML version 1.2020.13(Sat Jun 13 12:26:38 UTC 2020)\n",
       "(EPL source distribution)\n",
       "Java Runtime: OpenJDK Runtime Environment\n",
       "JVM: OpenJDK 64-Bit Server VM\n",
       "Default Encoding: UTF-8\n",
       "Language: en\n",
       "Country: null\n",
       "--></g></svg>"
      ]
     },
     "execution_count": 57,
     "metadata": {},
     "output_type": "execute_result"
    }
   ],
   "source": [
    "%viz --style=\"ORTHOLINE\" --view=\"MIXED\" \"QualifiedNameImportTest\""
   ]
  }
 ],
 "metadata": {
  "kernelspec": {
   "display_name": "SysML",
   "language": "sysml",
   "name": "sysml"
  },
  "language_info": {
   "codemirror_mode": "sysml",
   "file_extension": ".sysml",
   "mimetype": "text/x-sysml",
   "name": "SysML",
   "pygments_lexer": "java",
   "version": "1.0.0"
  }
 },
 "nbformat": 4,
 "nbformat_minor": 5
}
