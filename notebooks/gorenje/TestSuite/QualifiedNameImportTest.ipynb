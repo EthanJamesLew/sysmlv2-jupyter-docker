{
 "cells": [
  {
   "cell_type": "markdown",
   "id": "7f828750",
   "metadata": {},
   "source": [
    "# SysML v2 Test Suite\n",
    "\n",
    "This can notebook can be cleared using menu `Edit --> Clear All Outputs` and then all cells can be\n",
    "run using menu `Run --> Run All Cells`.\n",
    "\n",
    "**WARNING**: This file is generated, all modifications here will be ignored.\n"
   ]
  },
  {
   "cell_type": "markdown",
   "id": "a8c8b45e",
   "metadata": {},
   "source": [
    "## File: ../../sysml/src/examples/Import Tests/QualifiedNameImportTest.sysml"
   ]
  },
  {
   "cell_type": "code",
   "execution_count": 1,
   "id": "24fe5016",
   "metadata": {
    "execution": {
     "iopub.execute_input": "2021-11-13T13:01:02.319623Z",
     "iopub.status.busy": "2021-11-13T13:01:02.318390Z",
     "iopub.status.idle": "2021-11-13T13:01:02.436915Z",
     "shell.execute_reply": "2021-11-13T13:01:02.437254Z"
    }
   },
   "outputs": [
    {
     "data": {
      "text/plain": [
       "Package QualifiedNameImportTest (36092aa2-3437-4ecf-a88b-e5011b223062)\n"
      ]
     },
     "execution_count": 1,
     "metadata": {},
     "output_type": "execute_result"
    }
   ],
   "source": [
    "package QualifiedNameImportTest {\n",
    "\tpackage P1 {\n",
    "\t\tpart def A;\n",
    "\t}\n",
    "\tpackage P2 {\n",
    "\t\tpackage P2a {\n",
    "\t\t\timport P1::*;\n",
    "\t\t}\n",
    "\t\t// The following should not fail.\n",
    "\t\t// A is a member of P2a because of the import.\n",
    "\t\tpart x: P2a::A;\n",
    "\t}\n",
    "}"
   ]
  },
  {
   "cell_type": "code",
   "execution_count": 2,
   "id": "f6ad54d8",
   "metadata": {
    "execution": {
     "iopub.execute_input": "2021-11-13T13:01:02.488080Z",
     "iopub.status.busy": "2021-11-13T13:01:02.487605Z",
     "iopub.status.idle": "2021-11-13T13:01:02.908418Z",
     "shell.execute_reply": "2021-11-13T13:01:02.905871Z"
    }
   },
   "outputs": [
    {
     "data": {
      "image/svg+xml": [
       "<?xml version=\"1.0\" encoding=\"UTF-8\" standalone=\"no\"?><svg xmlns=\"http://www.w3.org/2000/svg\" xmlns:xlink=\"http://www.w3.org/1999/xlink\" contentScriptType=\"application/ecmascript\" contentStyleType=\"text/css\" height=\"310px\" preserveAspectRatio=\"none\" style=\"width:241px;height:310px;\" version=\"1.1\" viewBox=\"0 0 241 310\" width=\"241px\" zoomAndPan=\"magnify\"><defs/><g><!--MD5=[fbc87193dbaf4d95561dea2c320d4a47]\n",
       "cluster E1--><a href=\"psysml:d6589951-d792-47be-8c0b-0f7f96c74b54\" target=\"_top\" title=\"psysml:d6589951-d792-47be-8c0b-0f7f96c74b54\" xlink:actuate=\"onRequest\" xlink:href=\"psysml:d6589951-d792-47be-8c0b-0f7f96c74b54\" xlink:show=\"new\" xlink:title=\"psysml:d6589951-d792-47be-8c0b-0f7f96c74b54\" xlink:type=\"simple\"><polygon fill=\"#FFFFFF\" points=\"16,6,196,6,203,28.2969,219,28.2969,219,298,16,298,16,6\" style=\"stroke: #000000; stroke-width: 1.5;\"/><line style=\"stroke: #000000; stroke-width: 1.5;\" x1=\"16\" x2=\"203\" y1=\"28.2969\" y2=\"28.2969\"/><text fill=\"#000000\" font-family=\"sans-serif\" font-size=\"14\" font-weight=\"bold\" lengthAdjust=\"spacingAndGlyphs\" textLength=\"174\" x=\"20\" y=\"20.9951\">QualifiedNameImportTest</text></a><!--MD5=[e4f7fae6ed58524ba242bb0b0d3be6b7]\n",
       "cluster E2--><a href=\"psysml:4f86bdc9-c02e-4b3c-80e5-19e64e9caefb\" target=\"_top\" title=\"psysml:4f86bdc9-c02e-4b3c-80e5-19e64e9caefb\" xlink:actuate=\"onRequest\" xlink:href=\"psysml:4f86bdc9-c02e-4b3c-80e5-19e64e9caefb\" xlink:show=\"new\" xlink:title=\"psysml:4f86bdc9-c02e-4b3c-80e5-19e64e9caefb\" xlink:type=\"simple\"><polygon fill=\"#FFFFFF\" points=\"93,177,117,177,124,199.2969,195,199.2969,195,274,93,274,93,177\" style=\"stroke: #000000; stroke-width: 1.5;\"/><line style=\"stroke: #000000; stroke-width: 1.5;\" x1=\"93\" x2=\"124\" y1=\"199.2969\" y2=\"199.2969\"/><text fill=\"#000000\" font-family=\"sans-serif\" font-size=\"14\" font-weight=\"bold\" lengthAdjust=\"spacingAndGlyphs\" textLength=\"18\" x=\"97\" y=\"191.9951\">P1</text></a><!--MD5=[f6df4d0ebaf0b5dfb2ced0ae5af7c670]\n",
       "cluster E4--><a href=\"psysml:eca2a432-2e72-4cdf-a8b0-841fc7787b6c\" target=\"_top\" title=\"psysml:eca2a432-2e72-4cdf-a8b0-841fc7787b6c\" xlink:actuate=\"onRequest\" xlink:href=\"psysml:eca2a432-2e72-4cdf-a8b0-841fc7787b6c\" xlink:show=\"new\" xlink:title=\"psysml:eca2a432-2e72-4cdf-a8b0-841fc7787b6c\" xlink:type=\"simple\"><polygon fill=\"#FFFFFF\" points=\"40,49,64,49,71,71.2969,195,71.2969,195,153,40,153,40,49\" style=\"stroke: #000000; stroke-width: 1.5;\"/><line style=\"stroke: #000000; stroke-width: 1.5;\" x1=\"40\" x2=\"71\" y1=\"71.2969\" y2=\"71.2969\"/><text fill=\"#000000\" font-family=\"sans-serif\" font-size=\"14\" font-weight=\"bold\" lengthAdjust=\"spacingAndGlyphs\" textLength=\"18\" x=\"44\" y=\"63.9951\">P2</text></a><!--MD5=[09b614a08d8cba4a07c9adeb5e0fee81]\n",
       "class E3--><a href=\"psysml:0e402542-8392-49a3-8c29-2ec692a245e7\" target=\"_top\" title=\"psysml:0e402542-8392-49a3-8c29-2ec692a245e7\" xlink:actuate=\"onRequest\" xlink:href=\"psysml:0e402542-8392-49a3-8c29-2ec692a245e7\" xlink:show=\"new\" xlink:title=\"psysml:0e402542-8392-49a3-8c29-2ec692a245e7\" xlink:type=\"simple\"><rect fill=\"#FFFFFF\" height=\"45.9375\" id=\"E3\" style=\"stroke: #383838; stroke-width: 1.5;\" width=\"70\" x=\"109\" y=\"212\"/><text fill=\"#000000\" font-family=\"sans-serif\" font-size=\"12\" font-style=\"italic\" lengthAdjust=\"spacingAndGlyphs\" textLength=\"68\" x=\"110\" y=\"228.1387\">«part  def»</text><text fill=\"#000000\" font-family=\"sans-serif\" font-size=\"12\" lengthAdjust=\"spacingAndGlyphs\" textLength=\"8\" x=\"140\" y=\"242.1074\">A</text><line style=\"stroke: #383838; stroke-width: 1.5;\" x1=\"110\" x2=\"178\" y1=\"249.9375\" y2=\"249.9375\"/></a><!--MD5=[60a26617385b1d2d0262a64233df1f8d]\n",
       "class E6--><a href=\"psysml:79981dbc-2c5c-48be-a1ca-65e6b97acee9\" target=\"_top\" title=\"psysml:79981dbc-2c5c-48be-a1ca-65e6b97acee9\" xlink:actuate=\"onRequest\" xlink:href=\"psysml:79981dbc-2c5c-48be-a1ca-65e6b97acee9\" xlink:show=\"new\" xlink:title=\"psysml:79981dbc-2c5c-48be-a1ca-65e6b97acee9\" xlink:type=\"simple\"><rect fill=\"#FFFFFF\" height=\"45.9375\" id=\"E6\" rx=\"10\" ry=\"10\" style=\"stroke: #383838; stroke-width: 1.5;\" width=\"42\" x=\"137\" y=\"87.5\"/><text fill=\"#000000\" font-family=\"sans-serif\" font-size=\"12\" font-style=\"italic\" lengthAdjust=\"spacingAndGlyphs\" textLength=\"40\" x=\"138\" y=\"103.6387\">«part»</text><text fill=\"#000000\" font-family=\"sans-serif\" font-size=\"12\" lengthAdjust=\"spacingAndGlyphs\" textLength=\"22\" x=\"145\" y=\"117.6074\">x: A</text><line style=\"stroke: #383838; stroke-width: 1.5;\" x1=\"138\" x2=\"178\" y1=\"125.4375\" y2=\"125.4375\"/></a><a href=\"psysml:c8033d1b-23e3-49c1-96df-e9838fdb206a\" target=\"_top\" title=\"psysml:c8033d1b-23e3-49c1-96df-e9838fdb206a\" xlink:actuate=\"onRequest\" xlink:href=\"psysml:c8033d1b-23e3-49c1-96df-e9838fdb206a\" xlink:show=\"new\" xlink:title=\"psysml:c8033d1b-23e3-49c1-96df-e9838fdb206a\" xlink:type=\"simple\"><polygon fill=\"#FFFFFF\" points=\"56,84,88,84,95,106.2969,102,106.2969,102,136.5938,56,136.5938,56,84\" style=\"stroke: #000000; stroke-width: 1.5;\"/><line style=\"stroke: #000000; stroke-width: 1.5;\" x1=\"56\" x2=\"95\" y1=\"106.2969\" y2=\"106.2969\"/><text fill=\"#000000\" font-family=\"sans-serif\" font-size=\"14\" font-weight=\"bold\" lengthAdjust=\"spacingAndGlyphs\" textLength=\"26\" x=\"60\" y=\"98.9951\">P2a</text></a><!--MD5=[a717450b82c80b9240a525fa862496af]\n",
       "link E6 to E3--><a href=\"psysml:c58b2e1b-d15c-43ed-8c88-ba21dc2bc4d9\" target=\"_top\" title=\"psysml:c58b2e1b-d15c-43ed-8c88-ba21dc2bc4d9\" xlink:actuate=\"onRequest\" xlink:href=\"psysml:c58b2e1b-d15c-43ed-8c88-ba21dc2bc4d9\" xlink:show=\"new\" xlink:title=\"psysml:c58b2e1b-d15c-43ed-8c88-ba21dc2bc4d9\" xlink:type=\"simple\"><path d=\"M155.46,133.68 C153.61,149.9 151.04,172.39 148.8,191.96 \" fill=\"none\" id=\"E6-&gt;E3\" style=\"stroke: #383838; stroke-width: 1.0;\"/><polygon fill=\"#FFFFFF\" points=\"146.52,211.98,141.7231,192.308,155.6325,193.8979,146.52,211.98\" style=\"stroke: #383838; stroke-width: 1.0;\"/><ellipse cx=\"144.3574\" cy=\"186.872\" fill=\"#383838\" rx=\"2\" ry=\"2\" style=\"stroke: #383838; stroke-width: 1.0;\"/><ellipse cx=\"154.2928\" cy=\"188.0076\" fill=\"#383838\" rx=\"2\" ry=\"2\" style=\"stroke: #383838; stroke-width: 1.0;\"/></a><!--MD5=[50e08b5c2e00a9cd96e6e20344a0af85]\n",
       "@startuml\r\n",
       " skinparam monochrome true\r\n",
       "skinparam classbackgroundcolor white\r\n",
       "skinparam shadowing false\r\n",
       "skinparam wrapWidth 300\r\n",
       "hide circle\r\n",
       "\r\n",
       "package \"QualifiedNameImportTest\" as E1  [[psysml:d6589951-d792-47be-8c0b-0f7f96c74b54 ]]  {\r\n",
       "package \"P1\" as E2  [[psysml:4f86bdc9-c02e-4b3c-80e5-19e64e9caefb ]]  {\r\n",
       "comp def \"A\" as E3  <<(T,blue) part  def>> [[psysml:0e402542-8392-49a3-8c29-2ec692a245e7 ]] {\r\n",
       "}\r\n",
       "}\r\n",
       "package \"P2\" as E4  [[psysml:eca2a432-2e72-4cdf-a8b0-841fc7787b6c ]]  {\r\n",
       "package \"P2a\" as E5  [[psysml:c8033d1b-23e3-49c1-96df-e9838fdb206a ]]  {\r\n",
       "}\r\n",
       "comp usage \"x: A \" as E6  <<(T,blue) part>> [[psysml:79981dbc-2c5c-48be-a1ca-65e6b97acee9 ]] {\r\n",
       "}\r\n",
       "}\r\n",
       "}\r\n",
       "E6 - -:|> E3 [[psysml:c58b2e1b-d15c-43ed-8c88-ba21dc2bc4d9 ]] \r\n",
       "@enduml\r\n",
       "\n",
       "PlantUML version 1.2020.13(Sat Jun 13 12:26:38 UTC 2020)\n",
       "(EPL source distribution)\n",
       "Java Runtime: OpenJDK Runtime Environment\n",
       "JVM: OpenJDK 64-Bit Server VM\n",
       "Default Encoding: UTF-8\n",
       "Language: en\n",
       "Country: null\n",
       "--></g></svg>"
      ]
     },
     "execution_count": 2,
     "metadata": {},
     "output_type": "execute_result"
    }
   ],
   "source": [
    "%viz --style=\"COMPTREE\" --view=\"Default\" \"QualifiedNameImportTest\""
   ]
  },
  {
   "cell_type": "code",
   "execution_count": 3,
   "id": "5bd3dd2b",
   "metadata": {
    "execution": {
     "iopub.execute_input": "2021-11-13T13:01:02.956529Z",
     "iopub.status.busy": "2021-11-13T13:01:02.956205Z",
     "iopub.status.idle": "2021-11-13T13:01:03.004878Z",
     "shell.execute_reply": "2021-11-13T13:01:03.003456Z"
    }
   },
   "outputs": [
    {
     "data": {
      "image/svg+xml": [
       "<?xml version=\"1.0\" encoding=\"UTF-8\" standalone=\"no\"?><svg xmlns=\"http://www.w3.org/2000/svg\" xmlns:xlink=\"http://www.w3.org/1999/xlink\" contentScriptType=\"application/ecmascript\" contentStyleType=\"text/css\" height=\"310px\" preserveAspectRatio=\"none\" style=\"width:241px;height:310px;\" version=\"1.1\" viewBox=\"0 0 241 310\" width=\"241px\" zoomAndPan=\"magnify\"><defs/><g><!--MD5=[fbc87193dbaf4d95561dea2c320d4a47]\n",
       "cluster E1--><a href=\"psysml:d6589951-d792-47be-8c0b-0f7f96c74b54\" target=\"_top\" title=\"psysml:d6589951-d792-47be-8c0b-0f7f96c74b54\" xlink:actuate=\"onRequest\" xlink:href=\"psysml:d6589951-d792-47be-8c0b-0f7f96c74b54\" xlink:show=\"new\" xlink:title=\"psysml:d6589951-d792-47be-8c0b-0f7f96c74b54\" xlink:type=\"simple\"><polygon fill=\"#FFFFFF\" points=\"16,6,196,6,203,28.2969,219,28.2969,219,298,16,298,16,6\" style=\"stroke: #000000; stroke-width: 1.5;\"/><line style=\"stroke: #000000; stroke-width: 1.5;\" x1=\"16\" x2=\"203\" y1=\"28.2969\" y2=\"28.2969\"/><text fill=\"#000000\" font-family=\"sans-serif\" font-size=\"14\" font-weight=\"bold\" lengthAdjust=\"spacingAndGlyphs\" textLength=\"174\" x=\"20\" y=\"20.9951\">QualifiedNameImportTest</text></a><!--MD5=[e4f7fae6ed58524ba242bb0b0d3be6b7]\n",
       "cluster E2--><a href=\"psysml:4f86bdc9-c02e-4b3c-80e5-19e64e9caefb\" target=\"_top\" title=\"psysml:4f86bdc9-c02e-4b3c-80e5-19e64e9caefb\" xlink:actuate=\"onRequest\" xlink:href=\"psysml:4f86bdc9-c02e-4b3c-80e5-19e64e9caefb\" xlink:show=\"new\" xlink:title=\"psysml:4f86bdc9-c02e-4b3c-80e5-19e64e9caefb\" xlink:type=\"simple\"><polygon fill=\"#FFFFFF\" points=\"93,177,117,177,124,199.2969,195,199.2969,195,274,93,274,93,177\" style=\"stroke: #000000; stroke-width: 1.5;\"/><line style=\"stroke: #000000; stroke-width: 1.5;\" x1=\"93\" x2=\"124\" y1=\"199.2969\" y2=\"199.2969\"/><text fill=\"#000000\" font-family=\"sans-serif\" font-size=\"14\" font-weight=\"bold\" lengthAdjust=\"spacingAndGlyphs\" textLength=\"18\" x=\"97\" y=\"191.9951\">P1</text></a><!--MD5=[f6df4d0ebaf0b5dfb2ced0ae5af7c670]\n",
       "cluster E4--><a href=\"psysml:eca2a432-2e72-4cdf-a8b0-841fc7787b6c\" target=\"_top\" title=\"psysml:eca2a432-2e72-4cdf-a8b0-841fc7787b6c\" xlink:actuate=\"onRequest\" xlink:href=\"psysml:eca2a432-2e72-4cdf-a8b0-841fc7787b6c\" xlink:show=\"new\" xlink:title=\"psysml:eca2a432-2e72-4cdf-a8b0-841fc7787b6c\" xlink:type=\"simple\"><polygon fill=\"#FFFFFF\" points=\"40,49,64,49,71,71.2969,195,71.2969,195,153,40,153,40,49\" style=\"stroke: #000000; stroke-width: 1.5;\"/><line style=\"stroke: #000000; stroke-width: 1.5;\" x1=\"40\" x2=\"71\" y1=\"71.2969\" y2=\"71.2969\"/><text fill=\"#000000\" font-family=\"sans-serif\" font-size=\"14\" font-weight=\"bold\" lengthAdjust=\"spacingAndGlyphs\" textLength=\"18\" x=\"44\" y=\"63.9951\">P2</text></a><!--MD5=[09b614a08d8cba4a07c9adeb5e0fee81]\n",
       "class E3--><a href=\"psysml:0e402542-8392-49a3-8c29-2ec692a245e7\" target=\"_top\" title=\"psysml:0e402542-8392-49a3-8c29-2ec692a245e7\" xlink:actuate=\"onRequest\" xlink:href=\"psysml:0e402542-8392-49a3-8c29-2ec692a245e7\" xlink:show=\"new\" xlink:title=\"psysml:0e402542-8392-49a3-8c29-2ec692a245e7\" xlink:type=\"simple\"><rect fill=\"#FFFFFF\" height=\"45.9375\" id=\"E3\" style=\"stroke: #383838; stroke-width: 1.5;\" width=\"70\" x=\"109\" y=\"212\"/><text fill=\"#000000\" font-family=\"sans-serif\" font-size=\"12\" font-style=\"italic\" lengthAdjust=\"spacingAndGlyphs\" textLength=\"68\" x=\"110\" y=\"228.1387\">«part  def»</text><text fill=\"#000000\" font-family=\"sans-serif\" font-size=\"12\" lengthAdjust=\"spacingAndGlyphs\" textLength=\"8\" x=\"140\" y=\"242.1074\">A</text><line style=\"stroke: #383838; stroke-width: 1.5;\" x1=\"110\" x2=\"178\" y1=\"249.9375\" y2=\"249.9375\"/></a><!--MD5=[60a26617385b1d2d0262a64233df1f8d]\n",
       "class E6--><a href=\"psysml:79981dbc-2c5c-48be-a1ca-65e6b97acee9\" target=\"_top\" title=\"psysml:79981dbc-2c5c-48be-a1ca-65e6b97acee9\" xlink:actuate=\"onRequest\" xlink:href=\"psysml:79981dbc-2c5c-48be-a1ca-65e6b97acee9\" xlink:show=\"new\" xlink:title=\"psysml:79981dbc-2c5c-48be-a1ca-65e6b97acee9\" xlink:type=\"simple\"><rect fill=\"#FFFFFF\" height=\"45.9375\" id=\"E6\" rx=\"10\" ry=\"10\" style=\"stroke: #383838; stroke-width: 1.5;\" width=\"42\" x=\"137\" y=\"87.5\"/><text fill=\"#000000\" font-family=\"sans-serif\" font-size=\"12\" font-style=\"italic\" lengthAdjust=\"spacingAndGlyphs\" textLength=\"40\" x=\"138\" y=\"103.6387\">«part»</text><text fill=\"#000000\" font-family=\"sans-serif\" font-size=\"12\" lengthAdjust=\"spacingAndGlyphs\" textLength=\"22\" x=\"145\" y=\"117.6074\">x: A</text><line style=\"stroke: #383838; stroke-width: 1.5;\" x1=\"138\" x2=\"178\" y1=\"125.4375\" y2=\"125.4375\"/></a><a href=\"psysml:c8033d1b-23e3-49c1-96df-e9838fdb206a\" target=\"_top\" title=\"psysml:c8033d1b-23e3-49c1-96df-e9838fdb206a\" xlink:actuate=\"onRequest\" xlink:href=\"psysml:c8033d1b-23e3-49c1-96df-e9838fdb206a\" xlink:show=\"new\" xlink:title=\"psysml:c8033d1b-23e3-49c1-96df-e9838fdb206a\" xlink:type=\"simple\"><polygon fill=\"#FFFFFF\" points=\"56,84,88,84,95,106.2969,102,106.2969,102,136.5938,56,136.5938,56,84\" style=\"stroke: #000000; stroke-width: 1.5;\"/><line style=\"stroke: #000000; stroke-width: 1.5;\" x1=\"56\" x2=\"95\" y1=\"106.2969\" y2=\"106.2969\"/><text fill=\"#000000\" font-family=\"sans-serif\" font-size=\"14\" font-weight=\"bold\" lengthAdjust=\"spacingAndGlyphs\" textLength=\"26\" x=\"60\" y=\"98.9951\">P2a</text></a><!--MD5=[a717450b82c80b9240a525fa862496af]\n",
       "link E6 to E3--><a href=\"psysml:c58b2e1b-d15c-43ed-8c88-ba21dc2bc4d9\" target=\"_top\" title=\"psysml:c58b2e1b-d15c-43ed-8c88-ba21dc2bc4d9\" xlink:actuate=\"onRequest\" xlink:href=\"psysml:c58b2e1b-d15c-43ed-8c88-ba21dc2bc4d9\" xlink:show=\"new\" xlink:title=\"psysml:c58b2e1b-d15c-43ed-8c88-ba21dc2bc4d9\" xlink:type=\"simple\"><path d=\"M155.46,133.68 C153.61,149.9 151.04,172.39 148.8,191.96 \" fill=\"none\" id=\"E6-&gt;E3\" style=\"stroke: #383838; stroke-width: 1.0;\"/><polygon fill=\"#FFFFFF\" points=\"146.52,211.98,141.7231,192.308,155.6325,193.8979,146.52,211.98\" style=\"stroke: #383838; stroke-width: 1.0;\"/><ellipse cx=\"144.3574\" cy=\"186.872\" fill=\"#383838\" rx=\"2\" ry=\"2\" style=\"stroke: #383838; stroke-width: 1.0;\"/><ellipse cx=\"154.2928\" cy=\"188.0076\" fill=\"#383838\" rx=\"2\" ry=\"2\" style=\"stroke: #383838; stroke-width: 1.0;\"/></a><!--MD5=[50e08b5c2e00a9cd96e6e20344a0af85]\n",
       "@startuml\r\n",
       " skinparam monochrome true\r\n",
       "skinparam classbackgroundcolor white\r\n",
       "skinparam shadowing false\r\n",
       "skinparam wrapWidth 300\r\n",
       "hide circle\r\n",
       "\r\n",
       "package \"QualifiedNameImportTest\" as E1  [[psysml:d6589951-d792-47be-8c0b-0f7f96c74b54 ]]  {\r\n",
       "package \"P1\" as E2  [[psysml:4f86bdc9-c02e-4b3c-80e5-19e64e9caefb ]]  {\r\n",
       "comp def \"A\" as E3  <<(T,blue) part  def>> [[psysml:0e402542-8392-49a3-8c29-2ec692a245e7 ]] {\r\n",
       "}\r\n",
       "}\r\n",
       "package \"P2\" as E4  [[psysml:eca2a432-2e72-4cdf-a8b0-841fc7787b6c ]]  {\r\n",
       "package \"P2a\" as E5  [[psysml:c8033d1b-23e3-49c1-96df-e9838fdb206a ]]  {\r\n",
       "}\r\n",
       "comp usage \"x: A \" as E6  <<(T,blue) part>> [[psysml:79981dbc-2c5c-48be-a1ca-65e6b97acee9 ]] {\r\n",
       "}\r\n",
       "}\r\n",
       "}\r\n",
       "E6 - -:|> E3 [[psysml:c58b2e1b-d15c-43ed-8c88-ba21dc2bc4d9 ]] \r\n",
       "@enduml\r\n",
       "\n",
       "PlantUML version 1.2020.13(Sat Jun 13 12:26:38 UTC 2020)\n",
       "(EPL source distribution)\n",
       "Java Runtime: OpenJDK Runtime Environment\n",
       "JVM: OpenJDK 64-Bit Server VM\n",
       "Default Encoding: UTF-8\n",
       "Language: en\n",
       "Country: null\n",
       "--></g></svg>"
      ]
     },
     "execution_count": 3,
     "metadata": {},
     "output_type": "execute_result"
    }
   ],
   "source": [
    "%viz --style=\"COMPTREE\" --view=\"Tree\" \"QualifiedNameImportTest\""
   ]
  },
  {
   "cell_type": "code",
   "execution_count": 4,
   "id": "1ad4f7c0",
   "metadata": {
    "execution": {
     "iopub.execute_input": "2021-11-13T13:01:03.055054Z",
     "iopub.status.busy": "2021-11-13T13:01:03.054729Z",
     "iopub.status.idle": "2021-11-13T13:01:03.063689Z",
     "shell.execute_reply": "2021-11-13T13:01:03.063931Z"
    }
   },
   "outputs": [
    {
     "data": {
      "image/svg+xml": [
       "<?xml version=\"1.0\" encoding=\"UTF-8\" standalone=\"no\"?><svg xmlns=\"http://www.w3.org/2000/svg\" xmlns:xlink=\"http://www.w3.org/1999/xlink\" contentScriptType=\"application/ecmascript\" contentStyleType=\"text/css\" height=\"12px\" preserveAspectRatio=\"none\" style=\"width:12px;height:12px;\" version=\"1.1\" viewBox=\"0 0 12 12\" width=\"12px\" zoomAndPan=\"magnify\"><defs/><g><!--MD5=[f19188ef49e11757b5c46753f95d9edc]\n",
       "@startuml\r\n",
       " skinparam monochrome true\r\n",
       "skinparam classbackgroundcolor white\r\n",
       "skinparam shadowing false\r\n",
       "skinparam wrapWidth 300\r\n",
       "hide circle\r\n",
       "\r\n",
       "@enduml\r\n",
       "\n",
       "PlantUML version 1.2020.13(Sat Jun 13 12:26:38 UTC 2020)\n",
       "(EPL source distribution)\n",
       "Java Runtime: OpenJDK Runtime Environment\n",
       "JVM: OpenJDK 64-Bit Server VM\n",
       "Default Encoding: UTF-8\n",
       "Language: en\n",
       "Country: null\n",
       "--></g></svg>"
      ]
     },
     "execution_count": 4,
     "metadata": {},
     "output_type": "execute_result"
    }
   ],
   "source": [
    "%viz --style=\"COMPTREE\" --view=\"State\" \"QualifiedNameImportTest\""
   ]
  },
  {
   "cell_type": "code",
   "execution_count": 5,
   "id": "7490c8bf",
   "metadata": {
    "execution": {
     "iopub.execute_input": "2021-11-13T13:01:03.114415Z",
     "iopub.status.busy": "2021-11-13T13:01:03.114174Z",
     "iopub.status.idle": "2021-11-13T13:01:03.159939Z",
     "shell.execute_reply": "2021-11-13T13:01:03.159550Z"
    }
   },
   "outputs": [
    {
     "data": {
      "image/svg+xml": [
       "<?xml version=\"1.0\" encoding=\"UTF-8\" standalone=\"no\"?><svg xmlns=\"http://www.w3.org/2000/svg\" xmlns:xlink=\"http://www.w3.org/1999/xlink\" contentScriptType=\"application/ecmascript\" contentStyleType=\"text/css\" height=\"189px\" preserveAspectRatio=\"none\" style=\"width:379px;height:189px;\" version=\"1.1\" viewBox=\"0 0 379 189\" width=\"379px\" zoomAndPan=\"magnify\"><defs/><g><!--MD5=[fbc87193dbaf4d95561dea2c320d4a47]\n",
       "cluster E1--><a href=\"psysml:d6589951-d792-47be-8c0b-0f7f96c74b54\" target=\"_top\" title=\"psysml:d6589951-d792-47be-8c0b-0f7f96c74b54\" xlink:actuate=\"onRequest\" xlink:href=\"psysml:d6589951-d792-47be-8c0b-0f7f96c74b54\" xlink:show=\"new\" xlink:title=\"psysml:d6589951-d792-47be-8c0b-0f7f96c74b54\" xlink:type=\"simple\"><polygon fill=\"#FFFFFF\" points=\"16,6,196,6,203,28.2969,357,28.2969,357,177,16,177,16,6\" style=\"stroke: #000000; stroke-width: 1.5;\"/><line style=\"stroke: #000000; stroke-width: 1.5;\" x1=\"16\" x2=\"203\" y1=\"28.2969\" y2=\"28.2969\"/><text fill=\"#000000\" font-family=\"sans-serif\" font-size=\"14\" font-weight=\"bold\" lengthAdjust=\"spacingAndGlyphs\" textLength=\"174\" x=\"20\" y=\"20.9951\">QualifiedNameImportTest</text></a><!--MD5=[e4f7fae6ed58524ba242bb0b0d3be6b7]\n",
       "cluster E2--><a href=\"psysml:4f86bdc9-c02e-4b3c-80e5-19e64e9caefb\" target=\"_top\" title=\"psysml:4f86bdc9-c02e-4b3c-80e5-19e64e9caefb\" xlink:actuate=\"onRequest\" xlink:href=\"psysml:4f86bdc9-c02e-4b3c-80e5-19e64e9caefb\" xlink:show=\"new\" xlink:title=\"psysml:4f86bdc9-c02e-4b3c-80e5-19e64e9caefb\" xlink:type=\"simple\"><polygon fill=\"#FFFFFF\" points=\"227,54,251,54,258,76.2969,333,76.2969,333,148,227,148,227,54\" style=\"stroke: #000000; stroke-width: 1.5;\"/><line style=\"stroke: #000000; stroke-width: 1.5;\" x1=\"227\" x2=\"258\" y1=\"76.2969\" y2=\"76.2969\"/><text fill=\"#000000\" font-family=\"sans-serif\" font-size=\"14\" font-weight=\"bold\" lengthAdjust=\"spacingAndGlyphs\" textLength=\"18\" x=\"231\" y=\"68.9951\">P1</text></a><!--MD5=[f6df4d0ebaf0b5dfb2ced0ae5af7c670]\n",
       "cluster E4--><a href=\"psysml:eca2a432-2e72-4cdf-a8b0-841fc7787b6c\" target=\"_top\" title=\"psysml:eca2a432-2e72-4cdf-a8b0-841fc7787b6c\" xlink:actuate=\"onRequest\" xlink:href=\"psysml:eca2a432-2e72-4cdf-a8b0-841fc7787b6c\" xlink:show=\"new\" xlink:title=\"psysml:eca2a432-2e72-4cdf-a8b0-841fc7787b6c\" xlink:type=\"simple\"><polygon fill=\"#FFFFFF\" points=\"40,49,64,49,71,71.2969,203,71.2969,203,153,40,153,40,49\" style=\"stroke: #000000; stroke-width: 1.5;\"/><line style=\"stroke: #000000; stroke-width: 1.5;\" x1=\"40\" x2=\"71\" y1=\"71.2969\" y2=\"71.2969\"/><text fill=\"#000000\" font-family=\"sans-serif\" font-size=\"14\" font-weight=\"bold\" lengthAdjust=\"spacingAndGlyphs\" textLength=\"18\" x=\"44\" y=\"63.9951\">P2</text></a><g id=\"E1.E2.E3\"><a href=\"psysml:0e402542-8392-49a3-8c29-2ec692a245e7\" target=\"_top\" title=\"psysml:0e402542-8392-49a3-8c29-2ec692a245e7\" xlink:actuate=\"onRequest\" xlink:href=\"psysml:0e402542-8392-49a3-8c29-2ec692a245e7\" xlink:show=\"new\" xlink:title=\"psysml:0e402542-8392-49a3-8c29-2ec692a245e7\" xlink:type=\"simple\"><rect fill=\"#FFFFFF\" height=\"42.9375\" id=\"E3\" style=\"stroke: #383838; stroke-width: 1.5;\" width=\"75\" x=\"242.5\" y=\"89\"/><rect fill=\"#F8F8F8\" height=\"37.9375\" style=\"stroke: #383838; stroke-width: 1.5;\" width=\"75\" x=\"242.5\" y=\"89\"/><text fill=\"#000000\" font-family=\"sans-serif\" font-size=\"12\" font-style=\"italic\" lengthAdjust=\"spacingAndGlyphs\" textLength=\"68\" x=\"246\" y=\"105.1387\">«part  def»</text><text fill=\"#000000\" font-family=\"sans-serif\" font-size=\"12\" lengthAdjust=\"spacingAndGlyphs\" textLength=\"8\" x=\"276\" y=\"119.1074\">A</text></a></g><a href=\"psysml:c8033d1b-23e3-49c1-96df-e9838fdb206a\" target=\"_top\" title=\"psysml:c8033d1b-23e3-49c1-96df-e9838fdb206a\" xlink:actuate=\"onRequest\" xlink:href=\"psysml:c8033d1b-23e3-49c1-96df-e9838fdb206a\" xlink:show=\"new\" xlink:title=\"psysml:c8033d1b-23e3-49c1-96df-e9838fdb206a\" xlink:type=\"simple\"><polygon fill=\"#FFFFFF\" points=\"141,84,173,84,180,106.2969,187,106.2969,187,136.5938,141,136.5938,141,84\" style=\"stroke: #000000; stroke-width: 1.5;\"/><line style=\"stroke: #000000; stroke-width: 1.5;\" x1=\"141\" x2=\"180\" y1=\"106.2969\" y2=\"106.2969\"/><text fill=\"#000000\" font-family=\"sans-serif\" font-size=\"14\" font-weight=\"bold\" lengthAdjust=\"spacingAndGlyphs\" textLength=\"26\" x=\"145\" y=\"98.9951\">P2a</text></a><g id=\"E1.E4.E6\"><a href=\"psysml:79981dbc-2c5c-48be-a1ca-65e6b97acee9\" target=\"_top\" title=\"psysml:79981dbc-2c5c-48be-a1ca-65e6b97acee9\" xlink:actuate=\"onRequest\" xlink:href=\"psysml:79981dbc-2c5c-48be-a1ca-65e6b97acee9\" xlink:show=\"new\" xlink:title=\"psysml:79981dbc-2c5c-48be-a1ca-65e6b97acee9\" xlink:type=\"simple\"><rect fill=\"#FFFFFF\" height=\"40\" id=\"E6\" rx=\"10\" ry=\"10\" style=\"stroke: #383838; stroke-width: 1.5;\" width=\"50\" x=\"56\" y=\"90.5\"/><rect fill=\"#F8F8F8\" height=\"23.9688\" rx=\"10\" ry=\"10\" style=\"stroke: #F8F8F8; stroke-width: 1.5;\" width=\"50\" x=\"56\" y=\"90.5\"/><rect fill=\"#F8F8F8\" height=\"10\" style=\"stroke: #F8F8F8; stroke-width: 1.5;\" width=\"50\" x=\"56\" y=\"104.4688\"/><rect fill=\"none\" height=\"40\" id=\"E6\" rx=\"10\" ry=\"10\" style=\"stroke: #383838; stroke-width: 1.5;\" width=\"50\" x=\"56\" y=\"90.5\"/><text fill=\"#000000\" font-family=\"sans-serif\" font-size=\"12\" lengthAdjust=\"spacingAndGlyphs\" textLength=\"22\" x=\"70\" y=\"106.6387\">x: A</text></a></g><!--MD5=[ea2c51fc853a9379a4dcac8cb059f518]\n",
       "@startuml\r\n",
       "skinparam ranksep 10\r\n",
       "skinparam rectangle {\r\n",
       " backgroundColor<<block>> LightGreen\r\n",
       "}\r\n",
       " skinparam monochrome true\r\n",
       "skinparam classbackgroundcolor white\r\n",
       "skinparam shadowing false\r\n",
       "skinparam wrapWidth 300\r\n",
       "hide circle\r\n",
       "\r\n",
       "package \"QualifiedNameImportTest\" as E1  [[psysml:d6589951-d792-47be-8c0b-0f7f96c74b54 ]]  {\r\n",
       "package \"P1\" as E2  [[psysml:4f86bdc9-c02e-4b3c-80e5-19e64e9caefb ]]  {\r\n",
       "rec def \"A\" as E3  <<(T,blue) part  def>> [[psysml:0e402542-8392-49a3-8c29-2ec692a245e7 ]] {\r\n",
       "}\r\n",
       "}\r\n",
       "package \"P2\" as E4  [[psysml:eca2a432-2e72-4cdf-a8b0-841fc7787b6c ]]  {\r\n",
       "package \"P2a\" as E5  [[psysml:c8033d1b-23e3-49c1-96df-e9838fdb206a ]]  {\r\n",
       "}\r\n",
       "rec usage \"x: A\" as E6  [[psysml:79981dbc-2c5c-48be-a1ca-65e6b97acee9 ]] {\r\n",
       "}\r\n",
       "}\r\n",
       "}\r\n",
       "@enduml\r\n",
       "\n",
       "PlantUML version 1.2020.13(Sat Jun 13 12:26:38 UTC 2020)\n",
       "(EPL source distribution)\n",
       "Java Runtime: OpenJDK Runtime Environment\n",
       "JVM: OpenJDK 64-Bit Server VM\n",
       "Default Encoding: UTF-8\n",
       "Language: en\n",
       "Country: null\n",
       "--></g></svg>"
      ]
     },
     "execution_count": 5,
     "metadata": {},
     "output_type": "execute_result"
    }
   ],
   "source": [
    "%viz --style=\"COMPTREE\" --view=\"Interconnection\" \"QualifiedNameImportTest\""
   ]
  },
  {
   "cell_type": "code",
   "execution_count": 6,
   "id": "04322989",
   "metadata": {
    "execution": {
     "iopub.execute_input": "2021-11-13T13:01:03.209282Z",
     "iopub.status.busy": "2021-11-13T13:01:03.208867Z",
     "iopub.status.idle": "2021-11-13T13:01:03.216732Z",
     "shell.execute_reply": "2021-11-13T13:01:03.217057Z"
    }
   },
   "outputs": [
    {
     "data": {
      "image/svg+xml": [
       "<?xml version=\"1.0\" encoding=\"UTF-8\" standalone=\"no\"?><svg xmlns=\"http://www.w3.org/2000/svg\" xmlns:xlink=\"http://www.w3.org/1999/xlink\" contentScriptType=\"application/ecmascript\" contentStyleType=\"text/css\" height=\"12px\" preserveAspectRatio=\"none\" style=\"width:12px;height:12px;\" version=\"1.1\" viewBox=\"0 0 12 12\" width=\"12px\" zoomAndPan=\"magnify\"><defs/><g><!--MD5=[655b888544ca4751ea36af1068543f84]\n",
       "@startuml\r\n",
       "skinparam ranksep 8\r\n",
       " skinparam monochrome true\r\n",
       "skinparam classbackgroundcolor white\r\n",
       "skinparam shadowing false\r\n",
       "skinparam wrapWidth 300\r\n",
       "hide circle\r\n",
       "\r\n",
       "@enduml\r\n",
       "\n",
       "PlantUML version 1.2020.13(Sat Jun 13 12:26:38 UTC 2020)\n",
       "(EPL source distribution)\n",
       "Java Runtime: OpenJDK Runtime Environment\n",
       "JVM: OpenJDK 64-Bit Server VM\n",
       "Default Encoding: UTF-8\n",
       "Language: en\n",
       "Country: null\n",
       "--></g></svg>"
      ]
     },
     "execution_count": 6,
     "metadata": {},
     "output_type": "execute_result"
    }
   ],
   "source": [
    "%viz --style=\"COMPTREE\" --view=\"Action\" \"QualifiedNameImportTest\""
   ]
  },
  {
   "cell_type": "code",
   "execution_count": 7,
   "id": "74509839",
   "metadata": {
    "execution": {
     "iopub.execute_input": "2021-11-13T13:01:03.267061Z",
     "iopub.status.busy": "2021-11-13T13:01:03.266647Z",
     "iopub.status.idle": "2021-11-13T13:01:03.279151Z",
     "shell.execute_reply": "2021-11-13T13:01:03.279474Z"
    }
   },
   "outputs": [
    {
     "data": {
      "image/svg+xml": [
       "<?xml version=\"1.0\" encoding=\"UTF-8\" standalone=\"no\"?><svg xmlns=\"http://www.w3.org/2000/svg\" xmlns:xlink=\"http://www.w3.org/1999/xlink\" contentScriptType=\"application/ecmascript\" contentStyleType=\"text/css\" height=\"12px\" preserveAspectRatio=\"none\" style=\"width:12px;height:12px;\" version=\"1.1\" viewBox=\"0 0 12 12\" width=\"12px\" zoomAndPan=\"magnify\"><defs/><g><!--MD5=[803fc46c337be7a5c8a9831e35356779]\n",
       "@startuml\r\n",
       "skinparam roundcorner 20\r\n",
       "skinparam BoxPadding 20\r\n",
       "skinparam SequenceBoxBackgroundColor #white\r\n",
       "skinparam style strictuml\r\n",
       "skinparam maxMessageSize 100\r\n",
       " skinparam monochrome true\r\n",
       "skinparam classbackgroundcolor white\r\n",
       "skinparam shadowing false\r\n",
       "skinparam wrapWidth 300\r\n",
       "hide circle\r\n",
       "\r\n",
       "@enduml\r\n",
       "\n",
       "PlantUML version 1.2020.13(Sat Jun 13 12:26:38 UTC 2020)\n",
       "(EPL source distribution)\n",
       "Java Runtime: OpenJDK Runtime Environment\n",
       "JVM: OpenJDK 64-Bit Server VM\n",
       "Default Encoding: UTF-8\n",
       "Language: en\n",
       "Country: null\n",
       "--></g></svg>"
      ]
     },
     "execution_count": 7,
     "metadata": {},
     "output_type": "execute_result"
    }
   ],
   "source": [
    "%viz --style=\"COMPTREE\" --view=\"Sequence\" \"QualifiedNameImportTest\""
   ]
  },
  {
   "cell_type": "code",
   "execution_count": 8,
   "id": "8ac39fd5",
   "metadata": {
    "execution": {
     "iopub.execute_input": "2021-11-13T13:01:03.329230Z",
     "iopub.status.busy": "2021-11-13T13:01:03.328825Z",
     "iopub.status.idle": "2021-11-13T13:01:03.369477Z",
     "shell.execute_reply": "2021-11-13T13:01:03.369102Z"
    }
   },
   "outputs": [
    {
     "data": {
      "image/svg+xml": [
       "<?xml version=\"1.0\" encoding=\"UTF-8\" standalone=\"no\"?><svg xmlns=\"http://www.w3.org/2000/svg\" xmlns:xlink=\"http://www.w3.org/1999/xlink\" contentScriptType=\"application/ecmascript\" contentStyleType=\"text/css\" height=\"310px\" preserveAspectRatio=\"none\" style=\"width:241px;height:310px;\" version=\"1.1\" viewBox=\"0 0 241 310\" width=\"241px\" zoomAndPan=\"magnify\"><defs/><g><!--MD5=[fbc87193dbaf4d95561dea2c320d4a47]\n",
       "cluster E1--><a href=\"psysml:d6589951-d792-47be-8c0b-0f7f96c74b54\" target=\"_top\" title=\"psysml:d6589951-d792-47be-8c0b-0f7f96c74b54\" xlink:actuate=\"onRequest\" xlink:href=\"psysml:d6589951-d792-47be-8c0b-0f7f96c74b54\" xlink:show=\"new\" xlink:title=\"psysml:d6589951-d792-47be-8c0b-0f7f96c74b54\" xlink:type=\"simple\"><polygon fill=\"#FFFFFF\" points=\"16,6,196,6,203,28.2969,219,28.2969,219,298,16,298,16,6\" style=\"stroke: #000000; stroke-width: 1.5;\"/><line style=\"stroke: #000000; stroke-width: 1.5;\" x1=\"16\" x2=\"203\" y1=\"28.2969\" y2=\"28.2969\"/><text fill=\"#000000\" font-family=\"sans-serif\" font-size=\"14\" font-weight=\"bold\" lengthAdjust=\"spacingAndGlyphs\" textLength=\"174\" x=\"20\" y=\"20.9951\">QualifiedNameImportTest</text></a><!--MD5=[e4f7fae6ed58524ba242bb0b0d3be6b7]\n",
       "cluster E2--><a href=\"psysml:4f86bdc9-c02e-4b3c-80e5-19e64e9caefb\" target=\"_top\" title=\"psysml:4f86bdc9-c02e-4b3c-80e5-19e64e9caefb\" xlink:actuate=\"onRequest\" xlink:href=\"psysml:4f86bdc9-c02e-4b3c-80e5-19e64e9caefb\" xlink:show=\"new\" xlink:title=\"psysml:4f86bdc9-c02e-4b3c-80e5-19e64e9caefb\" xlink:type=\"simple\"><polygon fill=\"#FFFFFF\" points=\"93,177,117,177,124,199.2969,195,199.2969,195,274,93,274,93,177\" style=\"stroke: #000000; stroke-width: 1.5;\"/><line style=\"stroke: #000000; stroke-width: 1.5;\" x1=\"93\" x2=\"124\" y1=\"199.2969\" y2=\"199.2969\"/><text fill=\"#000000\" font-family=\"sans-serif\" font-size=\"14\" font-weight=\"bold\" lengthAdjust=\"spacingAndGlyphs\" textLength=\"18\" x=\"97\" y=\"191.9951\">P1</text></a><!--MD5=[f6df4d0ebaf0b5dfb2ced0ae5af7c670]\n",
       "cluster E4--><a href=\"psysml:eca2a432-2e72-4cdf-a8b0-841fc7787b6c\" target=\"_top\" title=\"psysml:eca2a432-2e72-4cdf-a8b0-841fc7787b6c\" xlink:actuate=\"onRequest\" xlink:href=\"psysml:eca2a432-2e72-4cdf-a8b0-841fc7787b6c\" xlink:show=\"new\" xlink:title=\"psysml:eca2a432-2e72-4cdf-a8b0-841fc7787b6c\" xlink:type=\"simple\"><polygon fill=\"#FFFFFF\" points=\"40,49,64,49,71,71.2969,195,71.2969,195,153,40,153,40,49\" style=\"stroke: #000000; stroke-width: 1.5;\"/><line style=\"stroke: #000000; stroke-width: 1.5;\" x1=\"40\" x2=\"71\" y1=\"71.2969\" y2=\"71.2969\"/><text fill=\"#000000\" font-family=\"sans-serif\" font-size=\"14\" font-weight=\"bold\" lengthAdjust=\"spacingAndGlyphs\" textLength=\"18\" x=\"44\" y=\"63.9951\">P2</text></a><!--MD5=[09b614a08d8cba4a07c9adeb5e0fee81]\n",
       "class E3--><a href=\"psysml:0e402542-8392-49a3-8c29-2ec692a245e7\" target=\"_top\" title=\"psysml:0e402542-8392-49a3-8c29-2ec692a245e7\" xlink:actuate=\"onRequest\" xlink:href=\"psysml:0e402542-8392-49a3-8c29-2ec692a245e7\" xlink:show=\"new\" xlink:title=\"psysml:0e402542-8392-49a3-8c29-2ec692a245e7\" xlink:type=\"simple\"><rect fill=\"#FFFFFF\" height=\"45.9375\" id=\"E3\" style=\"stroke: #383838; stroke-width: 1.5;\" width=\"70\" x=\"109\" y=\"212\"/><text fill=\"#000000\" font-family=\"sans-serif\" font-size=\"12\" font-style=\"italic\" lengthAdjust=\"spacingAndGlyphs\" textLength=\"68\" x=\"110\" y=\"228.1387\">«part  def»</text><text fill=\"#000000\" font-family=\"sans-serif\" font-size=\"12\" lengthAdjust=\"spacingAndGlyphs\" textLength=\"8\" x=\"140\" y=\"242.1074\">A</text><line style=\"stroke: #383838; stroke-width: 1.5;\" x1=\"110\" x2=\"178\" y1=\"249.9375\" y2=\"249.9375\"/></a><!--MD5=[60a26617385b1d2d0262a64233df1f8d]\n",
       "class E6--><a href=\"psysml:79981dbc-2c5c-48be-a1ca-65e6b97acee9\" target=\"_top\" title=\"psysml:79981dbc-2c5c-48be-a1ca-65e6b97acee9\" xlink:actuate=\"onRequest\" xlink:href=\"psysml:79981dbc-2c5c-48be-a1ca-65e6b97acee9\" xlink:show=\"new\" xlink:title=\"psysml:79981dbc-2c5c-48be-a1ca-65e6b97acee9\" xlink:type=\"simple\"><rect fill=\"#FFFFFF\" height=\"45.9375\" id=\"E6\" rx=\"10\" ry=\"10\" style=\"stroke: #383838; stroke-width: 1.5;\" width=\"42\" x=\"137\" y=\"87.5\"/><text fill=\"#000000\" font-family=\"sans-serif\" font-size=\"12\" font-style=\"italic\" lengthAdjust=\"spacingAndGlyphs\" textLength=\"40\" x=\"138\" y=\"103.6387\">«part»</text><text fill=\"#000000\" font-family=\"sans-serif\" font-size=\"12\" lengthAdjust=\"spacingAndGlyphs\" textLength=\"22\" x=\"145\" y=\"117.6074\">x: A</text><line style=\"stroke: #383838; stroke-width: 1.5;\" x1=\"138\" x2=\"178\" y1=\"125.4375\" y2=\"125.4375\"/></a><a href=\"psysml:c8033d1b-23e3-49c1-96df-e9838fdb206a\" target=\"_top\" title=\"psysml:c8033d1b-23e3-49c1-96df-e9838fdb206a\" xlink:actuate=\"onRequest\" xlink:href=\"psysml:c8033d1b-23e3-49c1-96df-e9838fdb206a\" xlink:show=\"new\" xlink:title=\"psysml:c8033d1b-23e3-49c1-96df-e9838fdb206a\" xlink:type=\"simple\"><polygon fill=\"#FFFFFF\" points=\"56,84,88,84,95,106.2969,102,106.2969,102,136.5938,56,136.5938,56,84\" style=\"stroke: #000000; stroke-width: 1.5;\"/><line style=\"stroke: #000000; stroke-width: 1.5;\" x1=\"56\" x2=\"95\" y1=\"106.2969\" y2=\"106.2969\"/><text fill=\"#000000\" font-family=\"sans-serif\" font-size=\"14\" font-weight=\"bold\" lengthAdjust=\"spacingAndGlyphs\" textLength=\"26\" x=\"60\" y=\"98.9951\">P2a</text></a><!--MD5=[a717450b82c80b9240a525fa862496af]\n",
       "link E6 to E3--><a href=\"psysml:c58b2e1b-d15c-43ed-8c88-ba21dc2bc4d9\" target=\"_top\" title=\"psysml:c58b2e1b-d15c-43ed-8c88-ba21dc2bc4d9\" xlink:actuate=\"onRequest\" xlink:href=\"psysml:c58b2e1b-d15c-43ed-8c88-ba21dc2bc4d9\" xlink:show=\"new\" xlink:title=\"psysml:c58b2e1b-d15c-43ed-8c88-ba21dc2bc4d9\" xlink:type=\"simple\"><path d=\"M155.46,133.68 C153.61,149.9 151.04,172.39 148.8,191.96 \" fill=\"none\" id=\"E6-&gt;E3\" style=\"stroke: #383838; stroke-width: 1.0;\"/><polygon fill=\"#FFFFFF\" points=\"146.52,211.98,141.7231,192.308,155.6325,193.8979,146.52,211.98\" style=\"stroke: #383838; stroke-width: 1.0;\"/><ellipse cx=\"144.3574\" cy=\"186.872\" fill=\"#383838\" rx=\"2\" ry=\"2\" style=\"stroke: #383838; stroke-width: 1.0;\"/><ellipse cx=\"154.2928\" cy=\"188.0076\" fill=\"#383838\" rx=\"2\" ry=\"2\" style=\"stroke: #383838; stroke-width: 1.0;\"/></a><!--MD5=[50e08b5c2e00a9cd96e6e20344a0af85]\n",
       "@startuml\r\n",
       " skinparam monochrome true\r\n",
       "skinparam classbackgroundcolor white\r\n",
       "skinparam shadowing false\r\n",
       "skinparam wrapWidth 300\r\n",
       "hide circle\r\n",
       "\r\n",
       "package \"QualifiedNameImportTest\" as E1  [[psysml:d6589951-d792-47be-8c0b-0f7f96c74b54 ]]  {\r\n",
       "package \"P1\" as E2  [[psysml:4f86bdc9-c02e-4b3c-80e5-19e64e9caefb ]]  {\r\n",
       "comp def \"A\" as E3  <<(T,blue) part  def>> [[psysml:0e402542-8392-49a3-8c29-2ec692a245e7 ]] {\r\n",
       "}\r\n",
       "}\r\n",
       "package \"P2\" as E4  [[psysml:eca2a432-2e72-4cdf-a8b0-841fc7787b6c ]]  {\r\n",
       "package \"P2a\" as E5  [[psysml:c8033d1b-23e3-49c1-96df-e9838fdb206a ]]  {\r\n",
       "}\r\n",
       "comp usage \"x: A \" as E6  <<(T,blue) part>> [[psysml:79981dbc-2c5c-48be-a1ca-65e6b97acee9 ]] {\r\n",
       "}\r\n",
       "}\r\n",
       "}\r\n",
       "E6 - -:|> E3 [[psysml:c58b2e1b-d15c-43ed-8c88-ba21dc2bc4d9 ]] \r\n",
       "@enduml\r\n",
       "\n",
       "PlantUML version 1.2020.13(Sat Jun 13 12:26:38 UTC 2020)\n",
       "(EPL source distribution)\n",
       "Java Runtime: OpenJDK Runtime Environment\n",
       "JVM: OpenJDK 64-Bit Server VM\n",
       "Default Encoding: UTF-8\n",
       "Language: en\n",
       "Country: null\n",
       "--></g></svg>"
      ]
     },
     "execution_count": 8,
     "metadata": {},
     "output_type": "execute_result"
    }
   ],
   "source": [
    "%viz --style=\"COMPTREE\" --view=\"MIXED\" \"QualifiedNameImportTest\""
   ]
  },
  {
   "cell_type": "code",
   "execution_count": 9,
   "id": "f4b0068f",
   "metadata": {
    "execution": {
     "iopub.execute_input": "2021-11-13T13:01:03.419095Z",
     "iopub.status.busy": "2021-11-13T13:01:03.418670Z",
     "iopub.status.idle": "2021-11-13T13:01:03.456569Z",
     "shell.execute_reply": "2021-11-13T13:01:03.456865Z"
    }
   },
   "outputs": [
    {
     "data": {
      "image/svg+xml": [
       "<?xml version=\"1.0\" encoding=\"UTF-8\" standalone=\"no\"?><svg xmlns=\"http://www.w3.org/2000/svg\" xmlns:xlink=\"http://www.w3.org/1999/xlink\" contentScriptType=\"application/ecmascript\" contentStyleType=\"text/css\" height=\"310px\" preserveAspectRatio=\"none\" style=\"width:241px;height:310px;\" version=\"1.1\" viewBox=\"0 0 241 310\" width=\"241px\" zoomAndPan=\"magnify\"><defs/><g><!--MD5=[fbc87193dbaf4d95561dea2c320d4a47]\n",
       "cluster E1--><a href=\"psysml:d6589951-d792-47be-8c0b-0f7f96c74b54\" target=\"_top\" title=\"psysml:d6589951-d792-47be-8c0b-0f7f96c74b54\" xlink:actuate=\"onRequest\" xlink:href=\"psysml:d6589951-d792-47be-8c0b-0f7f96c74b54\" xlink:show=\"new\" xlink:title=\"psysml:d6589951-d792-47be-8c0b-0f7f96c74b54\" xlink:type=\"simple\"><polygon fill=\"#FFFFFF\" points=\"16,6,196,6,203,28.2969,219,28.2969,219,298,16,298,16,6\" style=\"stroke: #000000; stroke-width: 1.5;\"/><line style=\"stroke: #000000; stroke-width: 1.5;\" x1=\"16\" x2=\"203\" y1=\"28.2969\" y2=\"28.2969\"/><text fill=\"#000000\" font-family=\"sans-serif\" font-size=\"14\" font-weight=\"bold\" lengthAdjust=\"spacingAndGlyphs\" textLength=\"174\" x=\"20\" y=\"20.9951\">QualifiedNameImportTest</text></a><!--MD5=[e4f7fae6ed58524ba242bb0b0d3be6b7]\n",
       "cluster E2--><a href=\"psysml:4f86bdc9-c02e-4b3c-80e5-19e64e9caefb\" target=\"_top\" title=\"psysml:4f86bdc9-c02e-4b3c-80e5-19e64e9caefb\" xlink:actuate=\"onRequest\" xlink:href=\"psysml:4f86bdc9-c02e-4b3c-80e5-19e64e9caefb\" xlink:show=\"new\" xlink:title=\"psysml:4f86bdc9-c02e-4b3c-80e5-19e64e9caefb\" xlink:type=\"simple\"><polygon fill=\"#FFFFFF\" points=\"93,177,117,177,124,199.2969,195,199.2969,195,274,93,274,93,177\" style=\"stroke: #000000; stroke-width: 1.5;\"/><line style=\"stroke: #000000; stroke-width: 1.5;\" x1=\"93\" x2=\"124\" y1=\"199.2969\" y2=\"199.2969\"/><text fill=\"#000000\" font-family=\"sans-serif\" font-size=\"14\" font-weight=\"bold\" lengthAdjust=\"spacingAndGlyphs\" textLength=\"18\" x=\"97\" y=\"191.9951\">P1</text></a><!--MD5=[f6df4d0ebaf0b5dfb2ced0ae5af7c670]\n",
       "cluster E4--><a href=\"psysml:eca2a432-2e72-4cdf-a8b0-841fc7787b6c\" target=\"_top\" title=\"psysml:eca2a432-2e72-4cdf-a8b0-841fc7787b6c\" xlink:actuate=\"onRequest\" xlink:href=\"psysml:eca2a432-2e72-4cdf-a8b0-841fc7787b6c\" xlink:show=\"new\" xlink:title=\"psysml:eca2a432-2e72-4cdf-a8b0-841fc7787b6c\" xlink:type=\"simple\"><polygon fill=\"#FFFFFF\" points=\"40,49,64,49,71,71.2969,195,71.2969,195,153,40,153,40,49\" style=\"stroke: #000000; stroke-width: 1.5;\"/><line style=\"stroke: #000000; stroke-width: 1.5;\" x1=\"40\" x2=\"71\" y1=\"71.2969\" y2=\"71.2969\"/><text fill=\"#000000\" font-family=\"sans-serif\" font-size=\"14\" font-weight=\"bold\" lengthAdjust=\"spacingAndGlyphs\" textLength=\"18\" x=\"44\" y=\"63.9951\">P2</text></a><!--MD5=[09b614a08d8cba4a07c9adeb5e0fee81]\n",
       "class E3--><a href=\"psysml:0e402542-8392-49a3-8c29-2ec692a245e7\" target=\"_top\" title=\"psysml:0e402542-8392-49a3-8c29-2ec692a245e7\" xlink:actuate=\"onRequest\" xlink:href=\"psysml:0e402542-8392-49a3-8c29-2ec692a245e7\" xlink:show=\"new\" xlink:title=\"psysml:0e402542-8392-49a3-8c29-2ec692a245e7\" xlink:type=\"simple\"><rect fill=\"#FFFFFF\" height=\"45.9375\" id=\"E3\" style=\"stroke: #383838; stroke-width: 1.5;\" width=\"70\" x=\"109\" y=\"212\"/><text fill=\"#000000\" font-family=\"sans-serif\" font-size=\"12\" font-style=\"italic\" lengthAdjust=\"spacingAndGlyphs\" textLength=\"68\" x=\"110\" y=\"228.1387\">«part  def»</text><text fill=\"#000000\" font-family=\"sans-serif\" font-size=\"12\" lengthAdjust=\"spacingAndGlyphs\" textLength=\"8\" x=\"140\" y=\"242.1074\">A</text><line style=\"stroke: #383838; stroke-width: 1.5;\" x1=\"110\" x2=\"178\" y1=\"249.9375\" y2=\"249.9375\"/></a><!--MD5=[60a26617385b1d2d0262a64233df1f8d]\n",
       "class E6--><a href=\"psysml:79981dbc-2c5c-48be-a1ca-65e6b97acee9\" target=\"_top\" title=\"psysml:79981dbc-2c5c-48be-a1ca-65e6b97acee9\" xlink:actuate=\"onRequest\" xlink:href=\"psysml:79981dbc-2c5c-48be-a1ca-65e6b97acee9\" xlink:show=\"new\" xlink:title=\"psysml:79981dbc-2c5c-48be-a1ca-65e6b97acee9\" xlink:type=\"simple\"><rect fill=\"#FFFFFF\" height=\"45.9375\" id=\"E6\" rx=\"10\" ry=\"10\" style=\"stroke: #383838; stroke-width: 1.5;\" width=\"42\" x=\"137\" y=\"87.5\"/><text fill=\"#000000\" font-family=\"sans-serif\" font-size=\"12\" font-style=\"italic\" lengthAdjust=\"spacingAndGlyphs\" textLength=\"40\" x=\"138\" y=\"103.6387\">«part»</text><text fill=\"#000000\" font-family=\"sans-serif\" font-size=\"12\" lengthAdjust=\"spacingAndGlyphs\" textLength=\"22\" x=\"145\" y=\"117.6074\">x: A</text><line style=\"stroke: #383838; stroke-width: 1.5;\" x1=\"138\" x2=\"178\" y1=\"125.4375\" y2=\"125.4375\"/></a><a href=\"psysml:c8033d1b-23e3-49c1-96df-e9838fdb206a\" target=\"_top\" title=\"psysml:c8033d1b-23e3-49c1-96df-e9838fdb206a\" xlink:actuate=\"onRequest\" xlink:href=\"psysml:c8033d1b-23e3-49c1-96df-e9838fdb206a\" xlink:show=\"new\" xlink:title=\"psysml:c8033d1b-23e3-49c1-96df-e9838fdb206a\" xlink:type=\"simple\"><polygon fill=\"#FFFFFF\" points=\"56,84,88,84,95,106.2969,102,106.2969,102,136.5938,56,136.5938,56,84\" style=\"stroke: #000000; stroke-width: 1.5;\"/><line style=\"stroke: #000000; stroke-width: 1.5;\" x1=\"56\" x2=\"95\" y1=\"106.2969\" y2=\"106.2969\"/><text fill=\"#000000\" font-family=\"sans-serif\" font-size=\"14\" font-weight=\"bold\" lengthAdjust=\"spacingAndGlyphs\" textLength=\"26\" x=\"60\" y=\"98.9951\">P2a</text></a><!--MD5=[a717450b82c80b9240a525fa862496af]\n",
       "link E6 to E3--><a href=\"psysml:c58b2e1b-d15c-43ed-8c88-ba21dc2bc4d9\" target=\"_top\" title=\"psysml:c58b2e1b-d15c-43ed-8c88-ba21dc2bc4d9\" xlink:actuate=\"onRequest\" xlink:href=\"psysml:c58b2e1b-d15c-43ed-8c88-ba21dc2bc4d9\" xlink:show=\"new\" xlink:title=\"psysml:c58b2e1b-d15c-43ed-8c88-ba21dc2bc4d9\" xlink:type=\"simple\"><path d=\"M155.46,133.68 C153.61,149.9 151.04,172.39 148.8,191.96 \" fill=\"none\" id=\"E6-&gt;E3\" style=\"stroke: #383838; stroke-width: 1.0;\"/><polygon fill=\"#FFFFFF\" points=\"146.52,211.98,141.7231,192.308,155.6325,193.8979,146.52,211.98\" style=\"stroke: #383838; stroke-width: 1.0;\"/><ellipse cx=\"144.3574\" cy=\"186.872\" fill=\"#383838\" rx=\"2\" ry=\"2\" style=\"stroke: #383838; stroke-width: 1.0;\"/><ellipse cx=\"154.2928\" cy=\"188.0076\" fill=\"#383838\" rx=\"2\" ry=\"2\" style=\"stroke: #383838; stroke-width: 1.0;\"/></a><!--MD5=[b5ac11dacc3183115a797662d6d42872]\n",
       "@startuml\r\n",
       "skinparam linetype polyline\r\n",
       "skinparam monochrome true\r\n",
       "skinparam classbackgroundcolor white\r\n",
       "skinparam shadowing false\r\n",
       "skinparam wrapWidth 300\r\n",
       "hide circle\r\n",
       "\r\n",
       "package \"QualifiedNameImportTest\" as E1  [[psysml:d6589951-d792-47be-8c0b-0f7f96c74b54 ]]  {\r\n",
       "package \"P1\" as E2  [[psysml:4f86bdc9-c02e-4b3c-80e5-19e64e9caefb ]]  {\r\n",
       "comp def \"A\" as E3  <<(T,blue) part  def>> [[psysml:0e402542-8392-49a3-8c29-2ec692a245e7 ]] {\r\n",
       "}\r\n",
       "}\r\n",
       "package \"P2\" as E4  [[psysml:eca2a432-2e72-4cdf-a8b0-841fc7787b6c ]]  {\r\n",
       "package \"P2a\" as E5  [[psysml:c8033d1b-23e3-49c1-96df-e9838fdb206a ]]  {\r\n",
       "}\r\n",
       "comp usage \"x: A \" as E6  <<(T,blue) part>> [[psysml:79981dbc-2c5c-48be-a1ca-65e6b97acee9 ]] {\r\n",
       "}\r\n",
       "}\r\n",
       "}\r\n",
       "E6 - -:|> E3 [[psysml:c58b2e1b-d15c-43ed-8c88-ba21dc2bc4d9 ]] \r\n",
       "@enduml\r\n",
       "\n",
       "PlantUML version 1.2020.13(Sat Jun 13 12:26:38 UTC 2020)\n",
       "(EPL source distribution)\n",
       "Java Runtime: OpenJDK Runtime Environment\n",
       "JVM: OpenJDK 64-Bit Server VM\n",
       "Default Encoding: UTF-8\n",
       "Language: en\n",
       "Country: null\n",
       "--></g></svg>"
      ]
     },
     "execution_count": 9,
     "metadata": {},
     "output_type": "execute_result"
    }
   ],
   "source": [
    "%viz --style=\"POLYLINE\" --view=\"Default\" \"QualifiedNameImportTest\""
   ]
  },
  {
   "cell_type": "code",
   "execution_count": 10,
   "id": "aed73a81",
   "metadata": {
    "execution": {
     "iopub.execute_input": "2021-11-13T13:01:03.506235Z",
     "iopub.status.busy": "2021-11-13T13:01:03.505837Z",
     "iopub.status.idle": "2021-11-13T13:01:03.543982Z",
     "shell.execute_reply": "2021-11-13T13:01:03.543601Z"
    }
   },
   "outputs": [
    {
     "data": {
      "image/svg+xml": [
       "<?xml version=\"1.0\" encoding=\"UTF-8\" standalone=\"no\"?><svg xmlns=\"http://www.w3.org/2000/svg\" xmlns:xlink=\"http://www.w3.org/1999/xlink\" contentScriptType=\"application/ecmascript\" contentStyleType=\"text/css\" height=\"310px\" preserveAspectRatio=\"none\" style=\"width:241px;height:310px;\" version=\"1.1\" viewBox=\"0 0 241 310\" width=\"241px\" zoomAndPan=\"magnify\"><defs/><g><!--MD5=[fbc87193dbaf4d95561dea2c320d4a47]\n",
       "cluster E1--><a href=\"psysml:d6589951-d792-47be-8c0b-0f7f96c74b54\" target=\"_top\" title=\"psysml:d6589951-d792-47be-8c0b-0f7f96c74b54\" xlink:actuate=\"onRequest\" xlink:href=\"psysml:d6589951-d792-47be-8c0b-0f7f96c74b54\" xlink:show=\"new\" xlink:title=\"psysml:d6589951-d792-47be-8c0b-0f7f96c74b54\" xlink:type=\"simple\"><polygon fill=\"#FFFFFF\" points=\"16,6,196,6,203,28.2969,219,28.2969,219,298,16,298,16,6\" style=\"stroke: #000000; stroke-width: 1.5;\"/><line style=\"stroke: #000000; stroke-width: 1.5;\" x1=\"16\" x2=\"203\" y1=\"28.2969\" y2=\"28.2969\"/><text fill=\"#000000\" font-family=\"sans-serif\" font-size=\"14\" font-weight=\"bold\" lengthAdjust=\"spacingAndGlyphs\" textLength=\"174\" x=\"20\" y=\"20.9951\">QualifiedNameImportTest</text></a><!--MD5=[e4f7fae6ed58524ba242bb0b0d3be6b7]\n",
       "cluster E2--><a href=\"psysml:4f86bdc9-c02e-4b3c-80e5-19e64e9caefb\" target=\"_top\" title=\"psysml:4f86bdc9-c02e-4b3c-80e5-19e64e9caefb\" xlink:actuate=\"onRequest\" xlink:href=\"psysml:4f86bdc9-c02e-4b3c-80e5-19e64e9caefb\" xlink:show=\"new\" xlink:title=\"psysml:4f86bdc9-c02e-4b3c-80e5-19e64e9caefb\" xlink:type=\"simple\"><polygon fill=\"#FFFFFF\" points=\"93,177,117,177,124,199.2969,195,199.2969,195,274,93,274,93,177\" style=\"stroke: #000000; stroke-width: 1.5;\"/><line style=\"stroke: #000000; stroke-width: 1.5;\" x1=\"93\" x2=\"124\" y1=\"199.2969\" y2=\"199.2969\"/><text fill=\"#000000\" font-family=\"sans-serif\" font-size=\"14\" font-weight=\"bold\" lengthAdjust=\"spacingAndGlyphs\" textLength=\"18\" x=\"97\" y=\"191.9951\">P1</text></a><!--MD5=[f6df4d0ebaf0b5dfb2ced0ae5af7c670]\n",
       "cluster E4--><a href=\"psysml:eca2a432-2e72-4cdf-a8b0-841fc7787b6c\" target=\"_top\" title=\"psysml:eca2a432-2e72-4cdf-a8b0-841fc7787b6c\" xlink:actuate=\"onRequest\" xlink:href=\"psysml:eca2a432-2e72-4cdf-a8b0-841fc7787b6c\" xlink:show=\"new\" xlink:title=\"psysml:eca2a432-2e72-4cdf-a8b0-841fc7787b6c\" xlink:type=\"simple\"><polygon fill=\"#FFFFFF\" points=\"40,49,64,49,71,71.2969,195,71.2969,195,153,40,153,40,49\" style=\"stroke: #000000; stroke-width: 1.5;\"/><line style=\"stroke: #000000; stroke-width: 1.5;\" x1=\"40\" x2=\"71\" y1=\"71.2969\" y2=\"71.2969\"/><text fill=\"#000000\" font-family=\"sans-serif\" font-size=\"14\" font-weight=\"bold\" lengthAdjust=\"spacingAndGlyphs\" textLength=\"18\" x=\"44\" y=\"63.9951\">P2</text></a><!--MD5=[09b614a08d8cba4a07c9adeb5e0fee81]\n",
       "class E3--><a href=\"psysml:0e402542-8392-49a3-8c29-2ec692a245e7\" target=\"_top\" title=\"psysml:0e402542-8392-49a3-8c29-2ec692a245e7\" xlink:actuate=\"onRequest\" xlink:href=\"psysml:0e402542-8392-49a3-8c29-2ec692a245e7\" xlink:show=\"new\" xlink:title=\"psysml:0e402542-8392-49a3-8c29-2ec692a245e7\" xlink:type=\"simple\"><rect fill=\"#FFFFFF\" height=\"45.9375\" id=\"E3\" style=\"stroke: #383838; stroke-width: 1.5;\" width=\"70\" x=\"109\" y=\"212\"/><text fill=\"#000000\" font-family=\"sans-serif\" font-size=\"12\" font-style=\"italic\" lengthAdjust=\"spacingAndGlyphs\" textLength=\"68\" x=\"110\" y=\"228.1387\">«part  def»</text><text fill=\"#000000\" font-family=\"sans-serif\" font-size=\"12\" lengthAdjust=\"spacingAndGlyphs\" textLength=\"8\" x=\"140\" y=\"242.1074\">A</text><line style=\"stroke: #383838; stroke-width: 1.5;\" x1=\"110\" x2=\"178\" y1=\"249.9375\" y2=\"249.9375\"/></a><!--MD5=[60a26617385b1d2d0262a64233df1f8d]\n",
       "class E6--><a href=\"psysml:79981dbc-2c5c-48be-a1ca-65e6b97acee9\" target=\"_top\" title=\"psysml:79981dbc-2c5c-48be-a1ca-65e6b97acee9\" xlink:actuate=\"onRequest\" xlink:href=\"psysml:79981dbc-2c5c-48be-a1ca-65e6b97acee9\" xlink:show=\"new\" xlink:title=\"psysml:79981dbc-2c5c-48be-a1ca-65e6b97acee9\" xlink:type=\"simple\"><rect fill=\"#FFFFFF\" height=\"45.9375\" id=\"E6\" rx=\"10\" ry=\"10\" style=\"stroke: #383838; stroke-width: 1.5;\" width=\"42\" x=\"137\" y=\"87.5\"/><text fill=\"#000000\" font-family=\"sans-serif\" font-size=\"12\" font-style=\"italic\" lengthAdjust=\"spacingAndGlyphs\" textLength=\"40\" x=\"138\" y=\"103.6387\">«part»</text><text fill=\"#000000\" font-family=\"sans-serif\" font-size=\"12\" lengthAdjust=\"spacingAndGlyphs\" textLength=\"22\" x=\"145\" y=\"117.6074\">x: A</text><line style=\"stroke: #383838; stroke-width: 1.5;\" x1=\"138\" x2=\"178\" y1=\"125.4375\" y2=\"125.4375\"/></a><a href=\"psysml:c8033d1b-23e3-49c1-96df-e9838fdb206a\" target=\"_top\" title=\"psysml:c8033d1b-23e3-49c1-96df-e9838fdb206a\" xlink:actuate=\"onRequest\" xlink:href=\"psysml:c8033d1b-23e3-49c1-96df-e9838fdb206a\" xlink:show=\"new\" xlink:title=\"psysml:c8033d1b-23e3-49c1-96df-e9838fdb206a\" xlink:type=\"simple\"><polygon fill=\"#FFFFFF\" points=\"56,84,88,84,95,106.2969,102,106.2969,102,136.5938,56,136.5938,56,84\" style=\"stroke: #000000; stroke-width: 1.5;\"/><line style=\"stroke: #000000; stroke-width: 1.5;\" x1=\"56\" x2=\"95\" y1=\"106.2969\" y2=\"106.2969\"/><text fill=\"#000000\" font-family=\"sans-serif\" font-size=\"14\" font-weight=\"bold\" lengthAdjust=\"spacingAndGlyphs\" textLength=\"26\" x=\"60\" y=\"98.9951\">P2a</text></a><!--MD5=[a717450b82c80b9240a525fa862496af]\n",
       "link E6 to E3--><a href=\"psysml:c58b2e1b-d15c-43ed-8c88-ba21dc2bc4d9\" target=\"_top\" title=\"psysml:c58b2e1b-d15c-43ed-8c88-ba21dc2bc4d9\" xlink:actuate=\"onRequest\" xlink:href=\"psysml:c58b2e1b-d15c-43ed-8c88-ba21dc2bc4d9\" xlink:show=\"new\" xlink:title=\"psysml:c58b2e1b-d15c-43ed-8c88-ba21dc2bc4d9\" xlink:type=\"simple\"><path d=\"M155.46,133.68 C153.61,149.9 151.04,172.39 148.8,191.96 \" fill=\"none\" id=\"E6-&gt;E3\" style=\"stroke: #383838; stroke-width: 1.0;\"/><polygon fill=\"#FFFFFF\" points=\"146.52,211.98,141.7231,192.308,155.6325,193.8979,146.52,211.98\" style=\"stroke: #383838; stroke-width: 1.0;\"/><ellipse cx=\"144.3574\" cy=\"186.872\" fill=\"#383838\" rx=\"2\" ry=\"2\" style=\"stroke: #383838; stroke-width: 1.0;\"/><ellipse cx=\"154.2928\" cy=\"188.0076\" fill=\"#383838\" rx=\"2\" ry=\"2\" style=\"stroke: #383838; stroke-width: 1.0;\"/></a><!--MD5=[b5ac11dacc3183115a797662d6d42872]\n",
       "@startuml\r\n",
       "skinparam linetype polyline\r\n",
       "skinparam monochrome true\r\n",
       "skinparam classbackgroundcolor white\r\n",
       "skinparam shadowing false\r\n",
       "skinparam wrapWidth 300\r\n",
       "hide circle\r\n",
       "\r\n",
       "package \"QualifiedNameImportTest\" as E1  [[psysml:d6589951-d792-47be-8c0b-0f7f96c74b54 ]]  {\r\n",
       "package \"P1\" as E2  [[psysml:4f86bdc9-c02e-4b3c-80e5-19e64e9caefb ]]  {\r\n",
       "comp def \"A\" as E3  <<(T,blue) part  def>> [[psysml:0e402542-8392-49a3-8c29-2ec692a245e7 ]] {\r\n",
       "}\r\n",
       "}\r\n",
       "package \"P2\" as E4  [[psysml:eca2a432-2e72-4cdf-a8b0-841fc7787b6c ]]  {\r\n",
       "package \"P2a\" as E5  [[psysml:c8033d1b-23e3-49c1-96df-e9838fdb206a ]]  {\r\n",
       "}\r\n",
       "comp usage \"x: A \" as E6  <<(T,blue) part>> [[psysml:79981dbc-2c5c-48be-a1ca-65e6b97acee9 ]] {\r\n",
       "}\r\n",
       "}\r\n",
       "}\r\n",
       "E6 - -:|> E3 [[psysml:c58b2e1b-d15c-43ed-8c88-ba21dc2bc4d9 ]] \r\n",
       "@enduml\r\n",
       "\n",
       "PlantUML version 1.2020.13(Sat Jun 13 12:26:38 UTC 2020)\n",
       "(EPL source distribution)\n",
       "Java Runtime: OpenJDK Runtime Environment\n",
       "JVM: OpenJDK 64-Bit Server VM\n",
       "Default Encoding: UTF-8\n",
       "Language: en\n",
       "Country: null\n",
       "--></g></svg>"
      ]
     },
     "execution_count": 10,
     "metadata": {},
     "output_type": "execute_result"
    }
   ],
   "source": [
    "%viz --style=\"POLYLINE\" --view=\"Tree\" \"QualifiedNameImportTest\""
   ]
  },
  {
   "cell_type": "code",
   "execution_count": 11,
   "id": "3df2d75f",
   "metadata": {
    "execution": {
     "iopub.execute_input": "2021-11-13T13:01:03.593218Z",
     "iopub.status.busy": "2021-11-13T13:01:03.592814Z",
     "iopub.status.idle": "2021-11-13T13:01:03.600371Z",
     "shell.execute_reply": "2021-11-13T13:01:03.600695Z"
    }
   },
   "outputs": [
    {
     "data": {
      "image/svg+xml": [
       "<?xml version=\"1.0\" encoding=\"UTF-8\" standalone=\"no\"?><svg xmlns=\"http://www.w3.org/2000/svg\" xmlns:xlink=\"http://www.w3.org/1999/xlink\" contentScriptType=\"application/ecmascript\" contentStyleType=\"text/css\" height=\"12px\" preserveAspectRatio=\"none\" style=\"width:12px;height:12px;\" version=\"1.1\" viewBox=\"0 0 12 12\" width=\"12px\" zoomAndPan=\"magnify\"><defs/><g><!--MD5=[896ac0e7a515d8dd7765a661cb4ee08b]\n",
       "@startuml\r\n",
       "skinparam linetype polyline\r\n",
       "skinparam monochrome true\r\n",
       "skinparam classbackgroundcolor white\r\n",
       "skinparam shadowing false\r\n",
       "skinparam wrapWidth 300\r\n",
       "hide circle\r\n",
       "\r\n",
       "@enduml\r\n",
       "\n",
       "PlantUML version 1.2020.13(Sat Jun 13 12:26:38 UTC 2020)\n",
       "(EPL source distribution)\n",
       "Java Runtime: OpenJDK Runtime Environment\n",
       "JVM: OpenJDK 64-Bit Server VM\n",
       "Default Encoding: UTF-8\n",
       "Language: en\n",
       "Country: null\n",
       "--></g></svg>"
      ]
     },
     "execution_count": 11,
     "metadata": {},
     "output_type": "execute_result"
    }
   ],
   "source": [
    "%viz --style=\"POLYLINE\" --view=\"State\" \"QualifiedNameImportTest\""
   ]
  },
  {
   "cell_type": "code",
   "execution_count": 12,
   "id": "5ba3b1a0",
   "metadata": {
    "execution": {
     "iopub.execute_input": "2021-11-13T13:01:03.650492Z",
     "iopub.status.busy": "2021-11-13T13:01:03.650085Z",
     "iopub.status.idle": "2021-11-13T13:01:03.684287Z",
     "shell.execute_reply": "2021-11-13T13:01:03.683923Z"
    }
   },
   "outputs": [
    {
     "data": {
      "image/svg+xml": [
       "<?xml version=\"1.0\" encoding=\"UTF-8\" standalone=\"no\"?><svg xmlns=\"http://www.w3.org/2000/svg\" xmlns:xlink=\"http://www.w3.org/1999/xlink\" contentScriptType=\"application/ecmascript\" contentStyleType=\"text/css\" height=\"189px\" preserveAspectRatio=\"none\" style=\"width:379px;height:189px;\" version=\"1.1\" viewBox=\"0 0 379 189\" width=\"379px\" zoomAndPan=\"magnify\"><defs/><g><!--MD5=[fbc87193dbaf4d95561dea2c320d4a47]\n",
       "cluster E1--><a href=\"psysml:d6589951-d792-47be-8c0b-0f7f96c74b54\" target=\"_top\" title=\"psysml:d6589951-d792-47be-8c0b-0f7f96c74b54\" xlink:actuate=\"onRequest\" xlink:href=\"psysml:d6589951-d792-47be-8c0b-0f7f96c74b54\" xlink:show=\"new\" xlink:title=\"psysml:d6589951-d792-47be-8c0b-0f7f96c74b54\" xlink:type=\"simple\"><polygon fill=\"#FFFFFF\" points=\"16,6,196,6,203,28.2969,357,28.2969,357,177,16,177,16,6\" style=\"stroke: #000000; stroke-width: 1.5;\"/><line style=\"stroke: #000000; stroke-width: 1.5;\" x1=\"16\" x2=\"203\" y1=\"28.2969\" y2=\"28.2969\"/><text fill=\"#000000\" font-family=\"sans-serif\" font-size=\"14\" font-weight=\"bold\" lengthAdjust=\"spacingAndGlyphs\" textLength=\"174\" x=\"20\" y=\"20.9951\">QualifiedNameImportTest</text></a><!--MD5=[e4f7fae6ed58524ba242bb0b0d3be6b7]\n",
       "cluster E2--><a href=\"psysml:4f86bdc9-c02e-4b3c-80e5-19e64e9caefb\" target=\"_top\" title=\"psysml:4f86bdc9-c02e-4b3c-80e5-19e64e9caefb\" xlink:actuate=\"onRequest\" xlink:href=\"psysml:4f86bdc9-c02e-4b3c-80e5-19e64e9caefb\" xlink:show=\"new\" xlink:title=\"psysml:4f86bdc9-c02e-4b3c-80e5-19e64e9caefb\" xlink:type=\"simple\"><polygon fill=\"#FFFFFF\" points=\"227,54,251,54,258,76.2969,333,76.2969,333,148,227,148,227,54\" style=\"stroke: #000000; stroke-width: 1.5;\"/><line style=\"stroke: #000000; stroke-width: 1.5;\" x1=\"227\" x2=\"258\" y1=\"76.2969\" y2=\"76.2969\"/><text fill=\"#000000\" font-family=\"sans-serif\" font-size=\"14\" font-weight=\"bold\" lengthAdjust=\"spacingAndGlyphs\" textLength=\"18\" x=\"231\" y=\"68.9951\">P1</text></a><!--MD5=[f6df4d0ebaf0b5dfb2ced0ae5af7c670]\n",
       "cluster E4--><a href=\"psysml:eca2a432-2e72-4cdf-a8b0-841fc7787b6c\" target=\"_top\" title=\"psysml:eca2a432-2e72-4cdf-a8b0-841fc7787b6c\" xlink:actuate=\"onRequest\" xlink:href=\"psysml:eca2a432-2e72-4cdf-a8b0-841fc7787b6c\" xlink:show=\"new\" xlink:title=\"psysml:eca2a432-2e72-4cdf-a8b0-841fc7787b6c\" xlink:type=\"simple\"><polygon fill=\"#FFFFFF\" points=\"40,49,64,49,71,71.2969,203,71.2969,203,153,40,153,40,49\" style=\"stroke: #000000; stroke-width: 1.5;\"/><line style=\"stroke: #000000; stroke-width: 1.5;\" x1=\"40\" x2=\"71\" y1=\"71.2969\" y2=\"71.2969\"/><text fill=\"#000000\" font-family=\"sans-serif\" font-size=\"14\" font-weight=\"bold\" lengthAdjust=\"spacingAndGlyphs\" textLength=\"18\" x=\"44\" y=\"63.9951\">P2</text></a><g id=\"E1.E2.E3\"><a href=\"psysml:0e402542-8392-49a3-8c29-2ec692a245e7\" target=\"_top\" title=\"psysml:0e402542-8392-49a3-8c29-2ec692a245e7\" xlink:actuate=\"onRequest\" xlink:href=\"psysml:0e402542-8392-49a3-8c29-2ec692a245e7\" xlink:show=\"new\" xlink:title=\"psysml:0e402542-8392-49a3-8c29-2ec692a245e7\" xlink:type=\"simple\"><rect fill=\"#FFFFFF\" height=\"42.9375\" id=\"E3\" style=\"stroke: #383838; stroke-width: 1.5;\" width=\"75\" x=\"242.5\" y=\"89\"/><rect fill=\"#F8F8F8\" height=\"37.9375\" style=\"stroke: #383838; stroke-width: 1.5;\" width=\"75\" x=\"242.5\" y=\"89\"/><text fill=\"#000000\" font-family=\"sans-serif\" font-size=\"12\" font-style=\"italic\" lengthAdjust=\"spacingAndGlyphs\" textLength=\"68\" x=\"246\" y=\"105.1387\">«part  def»</text><text fill=\"#000000\" font-family=\"sans-serif\" font-size=\"12\" lengthAdjust=\"spacingAndGlyphs\" textLength=\"8\" x=\"276\" y=\"119.1074\">A</text></a></g><a href=\"psysml:c8033d1b-23e3-49c1-96df-e9838fdb206a\" target=\"_top\" title=\"psysml:c8033d1b-23e3-49c1-96df-e9838fdb206a\" xlink:actuate=\"onRequest\" xlink:href=\"psysml:c8033d1b-23e3-49c1-96df-e9838fdb206a\" xlink:show=\"new\" xlink:title=\"psysml:c8033d1b-23e3-49c1-96df-e9838fdb206a\" xlink:type=\"simple\"><polygon fill=\"#FFFFFF\" points=\"141,84,173,84,180,106.2969,187,106.2969,187,136.5938,141,136.5938,141,84\" style=\"stroke: #000000; stroke-width: 1.5;\"/><line style=\"stroke: #000000; stroke-width: 1.5;\" x1=\"141\" x2=\"180\" y1=\"106.2969\" y2=\"106.2969\"/><text fill=\"#000000\" font-family=\"sans-serif\" font-size=\"14\" font-weight=\"bold\" lengthAdjust=\"spacingAndGlyphs\" textLength=\"26\" x=\"145\" y=\"98.9951\">P2a</text></a><g id=\"E1.E4.E6\"><a href=\"psysml:79981dbc-2c5c-48be-a1ca-65e6b97acee9\" target=\"_top\" title=\"psysml:79981dbc-2c5c-48be-a1ca-65e6b97acee9\" xlink:actuate=\"onRequest\" xlink:href=\"psysml:79981dbc-2c5c-48be-a1ca-65e6b97acee9\" xlink:show=\"new\" xlink:title=\"psysml:79981dbc-2c5c-48be-a1ca-65e6b97acee9\" xlink:type=\"simple\"><rect fill=\"#FFFFFF\" height=\"40\" id=\"E6\" rx=\"10\" ry=\"10\" style=\"stroke: #383838; stroke-width: 1.5;\" width=\"50\" x=\"56\" y=\"90.5\"/><rect fill=\"#F8F8F8\" height=\"23.9688\" rx=\"10\" ry=\"10\" style=\"stroke: #F8F8F8; stroke-width: 1.5;\" width=\"50\" x=\"56\" y=\"90.5\"/><rect fill=\"#F8F8F8\" height=\"10\" style=\"stroke: #F8F8F8; stroke-width: 1.5;\" width=\"50\" x=\"56\" y=\"104.4688\"/><rect fill=\"none\" height=\"40\" id=\"E6\" rx=\"10\" ry=\"10\" style=\"stroke: #383838; stroke-width: 1.5;\" width=\"50\" x=\"56\" y=\"90.5\"/><text fill=\"#000000\" font-family=\"sans-serif\" font-size=\"12\" lengthAdjust=\"spacingAndGlyphs\" textLength=\"22\" x=\"70\" y=\"106.6387\">x: A</text></a></g><!--MD5=[de81717f03e03d3fea00459019dc84b0]\n",
       "@startuml\r\n",
       "skinparam ranksep 10\r\n",
       "skinparam rectangle {\r\n",
       " backgroundColor<<block>> LightGreen\r\n",
       "}\r\n",
       "skinparam linetype polyline\r\n",
       "skinparam monochrome true\r\n",
       "skinparam classbackgroundcolor white\r\n",
       "skinparam shadowing false\r\n",
       "skinparam wrapWidth 300\r\n",
       "hide circle\r\n",
       "\r\n",
       "package \"QualifiedNameImportTest\" as E1  [[psysml:d6589951-d792-47be-8c0b-0f7f96c74b54 ]]  {\r\n",
       "package \"P1\" as E2  [[psysml:4f86bdc9-c02e-4b3c-80e5-19e64e9caefb ]]  {\r\n",
       "rec def \"A\" as E3  <<(T,blue) part  def>> [[psysml:0e402542-8392-49a3-8c29-2ec692a245e7 ]] {\r\n",
       "}\r\n",
       "}\r\n",
       "package \"P2\" as E4  [[psysml:eca2a432-2e72-4cdf-a8b0-841fc7787b6c ]]  {\r\n",
       "package \"P2a\" as E5  [[psysml:c8033d1b-23e3-49c1-96df-e9838fdb206a ]]  {\r\n",
       "}\r\n",
       "rec usage \"x: A\" as E6  [[psysml:79981dbc-2c5c-48be-a1ca-65e6b97acee9 ]] {\r\n",
       "}\r\n",
       "}\r\n",
       "}\r\n",
       "@enduml\r\n",
       "\n",
       "PlantUML version 1.2020.13(Sat Jun 13 12:26:38 UTC 2020)\n",
       "(EPL source distribution)\n",
       "Java Runtime: OpenJDK Runtime Environment\n",
       "JVM: OpenJDK 64-Bit Server VM\n",
       "Default Encoding: UTF-8\n",
       "Language: en\n",
       "Country: null\n",
       "--></g></svg>"
      ]
     },
     "execution_count": 12,
     "metadata": {},
     "output_type": "execute_result"
    }
   ],
   "source": [
    "%viz --style=\"POLYLINE\" --view=\"Interconnection\" \"QualifiedNameImportTest\""
   ]
  },
  {
   "cell_type": "code",
   "execution_count": 13,
   "id": "69ea3854",
   "metadata": {
    "execution": {
     "iopub.execute_input": "2021-11-13T13:01:03.733797Z",
     "iopub.status.busy": "2021-11-13T13:01:03.733389Z",
     "iopub.status.idle": "2021-11-13T13:01:03.739804Z",
     "shell.execute_reply": "2021-11-13T13:01:03.740122Z"
    }
   },
   "outputs": [
    {
     "data": {
      "image/svg+xml": [
       "<?xml version=\"1.0\" encoding=\"UTF-8\" standalone=\"no\"?><svg xmlns=\"http://www.w3.org/2000/svg\" xmlns:xlink=\"http://www.w3.org/1999/xlink\" contentScriptType=\"application/ecmascript\" contentStyleType=\"text/css\" height=\"12px\" preserveAspectRatio=\"none\" style=\"width:12px;height:12px;\" version=\"1.1\" viewBox=\"0 0 12 12\" width=\"12px\" zoomAndPan=\"magnify\"><defs/><g><!--MD5=[97bbf32f66ccd50cbc40d92ea8f5a65e]\n",
       "@startuml\r\n",
       "skinparam ranksep 8\r\n",
       "skinparam linetype polyline\r\n",
       "skinparam monochrome true\r\n",
       "skinparam classbackgroundcolor white\r\n",
       "skinparam shadowing false\r\n",
       "skinparam wrapWidth 300\r\n",
       "hide circle\r\n",
       "\r\n",
       "@enduml\r\n",
       "\n",
       "PlantUML version 1.2020.13(Sat Jun 13 12:26:38 UTC 2020)\n",
       "(EPL source distribution)\n",
       "Java Runtime: OpenJDK Runtime Environment\n",
       "JVM: OpenJDK 64-Bit Server VM\n",
       "Default Encoding: UTF-8\n",
       "Language: en\n",
       "Country: null\n",
       "--></g></svg>"
      ]
     },
     "execution_count": 13,
     "metadata": {},
     "output_type": "execute_result"
    }
   ],
   "source": [
    "%viz --style=\"POLYLINE\" --view=\"Action\" \"QualifiedNameImportTest\""
   ]
  },
  {
   "cell_type": "code",
   "execution_count": 14,
   "id": "67631ff1",
   "metadata": {
    "execution": {
     "iopub.execute_input": "2021-11-13T13:01:03.789987Z",
     "iopub.status.busy": "2021-11-13T13:01:03.789577Z",
     "iopub.status.idle": "2021-11-13T13:01:03.796104Z",
     "shell.execute_reply": "2021-11-13T13:01:03.796417Z"
    }
   },
   "outputs": [
    {
     "data": {
      "image/svg+xml": [
       "<?xml version=\"1.0\" encoding=\"UTF-8\" standalone=\"no\"?><svg xmlns=\"http://www.w3.org/2000/svg\" xmlns:xlink=\"http://www.w3.org/1999/xlink\" contentScriptType=\"application/ecmascript\" contentStyleType=\"text/css\" height=\"12px\" preserveAspectRatio=\"none\" style=\"width:12px;height:12px;\" version=\"1.1\" viewBox=\"0 0 12 12\" width=\"12px\" zoomAndPan=\"magnify\"><defs/><g><!--MD5=[dc938048236c351797870c36b62f92ad]\n",
       "@startuml\r\n",
       "skinparam roundcorner 20\r\n",
       "skinparam BoxPadding 20\r\n",
       "skinparam SequenceBoxBackgroundColor #white\r\n",
       "skinparam style strictuml\r\n",
       "skinparam maxMessageSize 100\r\n",
       "skinparam linetype polyline\r\n",
       "skinparam monochrome true\r\n",
       "skinparam classbackgroundcolor white\r\n",
       "skinparam shadowing false\r\n",
       "skinparam wrapWidth 300\r\n",
       "hide circle\r\n",
       "\r\n",
       "@enduml\r\n",
       "\n",
       "PlantUML version 1.2020.13(Sat Jun 13 12:26:38 UTC 2020)\n",
       "(EPL source distribution)\n",
       "Java Runtime: OpenJDK Runtime Environment\n",
       "JVM: OpenJDK 64-Bit Server VM\n",
       "Default Encoding: UTF-8\n",
       "Language: en\n",
       "Country: null\n",
       "--></g></svg>"
      ]
     },
     "execution_count": 14,
     "metadata": {},
     "output_type": "execute_result"
    }
   ],
   "source": [
    "%viz --style=\"POLYLINE\" --view=\"Sequence\" \"QualifiedNameImportTest\""
   ]
  },
  {
   "cell_type": "code",
   "execution_count": 15,
   "id": "458d7169",
   "metadata": {
    "execution": {
     "iopub.execute_input": "2021-11-13T13:01:03.846479Z",
     "iopub.status.busy": "2021-11-13T13:01:03.846080Z",
     "iopub.status.idle": "2021-11-13T13:01:03.880877Z",
     "shell.execute_reply": "2021-11-13T13:01:03.879245Z"
    }
   },
   "outputs": [
    {
     "data": {
      "image/svg+xml": [
       "<?xml version=\"1.0\" encoding=\"UTF-8\" standalone=\"no\"?><svg xmlns=\"http://www.w3.org/2000/svg\" xmlns:xlink=\"http://www.w3.org/1999/xlink\" contentScriptType=\"application/ecmascript\" contentStyleType=\"text/css\" height=\"310px\" preserveAspectRatio=\"none\" style=\"width:241px;height:310px;\" version=\"1.1\" viewBox=\"0 0 241 310\" width=\"241px\" zoomAndPan=\"magnify\"><defs/><g><!--MD5=[fbc87193dbaf4d95561dea2c320d4a47]\n",
       "cluster E1--><a href=\"psysml:d6589951-d792-47be-8c0b-0f7f96c74b54\" target=\"_top\" title=\"psysml:d6589951-d792-47be-8c0b-0f7f96c74b54\" xlink:actuate=\"onRequest\" xlink:href=\"psysml:d6589951-d792-47be-8c0b-0f7f96c74b54\" xlink:show=\"new\" xlink:title=\"psysml:d6589951-d792-47be-8c0b-0f7f96c74b54\" xlink:type=\"simple\"><polygon fill=\"#FFFFFF\" points=\"16,6,196,6,203,28.2969,219,28.2969,219,298,16,298,16,6\" style=\"stroke: #000000; stroke-width: 1.5;\"/><line style=\"stroke: #000000; stroke-width: 1.5;\" x1=\"16\" x2=\"203\" y1=\"28.2969\" y2=\"28.2969\"/><text fill=\"#000000\" font-family=\"sans-serif\" font-size=\"14\" font-weight=\"bold\" lengthAdjust=\"spacingAndGlyphs\" textLength=\"174\" x=\"20\" y=\"20.9951\">QualifiedNameImportTest</text></a><!--MD5=[e4f7fae6ed58524ba242bb0b0d3be6b7]\n",
       "cluster E2--><a href=\"psysml:4f86bdc9-c02e-4b3c-80e5-19e64e9caefb\" target=\"_top\" title=\"psysml:4f86bdc9-c02e-4b3c-80e5-19e64e9caefb\" xlink:actuate=\"onRequest\" xlink:href=\"psysml:4f86bdc9-c02e-4b3c-80e5-19e64e9caefb\" xlink:show=\"new\" xlink:title=\"psysml:4f86bdc9-c02e-4b3c-80e5-19e64e9caefb\" xlink:type=\"simple\"><polygon fill=\"#FFFFFF\" points=\"93,177,117,177,124,199.2969,195,199.2969,195,274,93,274,93,177\" style=\"stroke: #000000; stroke-width: 1.5;\"/><line style=\"stroke: #000000; stroke-width: 1.5;\" x1=\"93\" x2=\"124\" y1=\"199.2969\" y2=\"199.2969\"/><text fill=\"#000000\" font-family=\"sans-serif\" font-size=\"14\" font-weight=\"bold\" lengthAdjust=\"spacingAndGlyphs\" textLength=\"18\" x=\"97\" y=\"191.9951\">P1</text></a><!--MD5=[f6df4d0ebaf0b5dfb2ced0ae5af7c670]\n",
       "cluster E4--><a href=\"psysml:eca2a432-2e72-4cdf-a8b0-841fc7787b6c\" target=\"_top\" title=\"psysml:eca2a432-2e72-4cdf-a8b0-841fc7787b6c\" xlink:actuate=\"onRequest\" xlink:href=\"psysml:eca2a432-2e72-4cdf-a8b0-841fc7787b6c\" xlink:show=\"new\" xlink:title=\"psysml:eca2a432-2e72-4cdf-a8b0-841fc7787b6c\" xlink:type=\"simple\"><polygon fill=\"#FFFFFF\" points=\"40,49,64,49,71,71.2969,195,71.2969,195,153,40,153,40,49\" style=\"stroke: #000000; stroke-width: 1.5;\"/><line style=\"stroke: #000000; stroke-width: 1.5;\" x1=\"40\" x2=\"71\" y1=\"71.2969\" y2=\"71.2969\"/><text fill=\"#000000\" font-family=\"sans-serif\" font-size=\"14\" font-weight=\"bold\" lengthAdjust=\"spacingAndGlyphs\" textLength=\"18\" x=\"44\" y=\"63.9951\">P2</text></a><!--MD5=[09b614a08d8cba4a07c9adeb5e0fee81]\n",
       "class E3--><a href=\"psysml:0e402542-8392-49a3-8c29-2ec692a245e7\" target=\"_top\" title=\"psysml:0e402542-8392-49a3-8c29-2ec692a245e7\" xlink:actuate=\"onRequest\" xlink:href=\"psysml:0e402542-8392-49a3-8c29-2ec692a245e7\" xlink:show=\"new\" xlink:title=\"psysml:0e402542-8392-49a3-8c29-2ec692a245e7\" xlink:type=\"simple\"><rect fill=\"#FFFFFF\" height=\"45.9375\" id=\"E3\" style=\"stroke: #383838; stroke-width: 1.5;\" width=\"70\" x=\"109\" y=\"212\"/><text fill=\"#000000\" font-family=\"sans-serif\" font-size=\"12\" font-style=\"italic\" lengthAdjust=\"spacingAndGlyphs\" textLength=\"68\" x=\"110\" y=\"228.1387\">«part  def»</text><text fill=\"#000000\" font-family=\"sans-serif\" font-size=\"12\" lengthAdjust=\"spacingAndGlyphs\" textLength=\"8\" x=\"140\" y=\"242.1074\">A</text><line style=\"stroke: #383838; stroke-width: 1.5;\" x1=\"110\" x2=\"178\" y1=\"249.9375\" y2=\"249.9375\"/></a><!--MD5=[60a26617385b1d2d0262a64233df1f8d]\n",
       "class E6--><a href=\"psysml:79981dbc-2c5c-48be-a1ca-65e6b97acee9\" target=\"_top\" title=\"psysml:79981dbc-2c5c-48be-a1ca-65e6b97acee9\" xlink:actuate=\"onRequest\" xlink:href=\"psysml:79981dbc-2c5c-48be-a1ca-65e6b97acee9\" xlink:show=\"new\" xlink:title=\"psysml:79981dbc-2c5c-48be-a1ca-65e6b97acee9\" xlink:type=\"simple\"><rect fill=\"#FFFFFF\" height=\"45.9375\" id=\"E6\" rx=\"10\" ry=\"10\" style=\"stroke: #383838; stroke-width: 1.5;\" width=\"42\" x=\"137\" y=\"87.5\"/><text fill=\"#000000\" font-family=\"sans-serif\" font-size=\"12\" font-style=\"italic\" lengthAdjust=\"spacingAndGlyphs\" textLength=\"40\" x=\"138\" y=\"103.6387\">«part»</text><text fill=\"#000000\" font-family=\"sans-serif\" font-size=\"12\" lengthAdjust=\"spacingAndGlyphs\" textLength=\"22\" x=\"145\" y=\"117.6074\">x: A</text><line style=\"stroke: #383838; stroke-width: 1.5;\" x1=\"138\" x2=\"178\" y1=\"125.4375\" y2=\"125.4375\"/></a><a href=\"psysml:c8033d1b-23e3-49c1-96df-e9838fdb206a\" target=\"_top\" title=\"psysml:c8033d1b-23e3-49c1-96df-e9838fdb206a\" xlink:actuate=\"onRequest\" xlink:href=\"psysml:c8033d1b-23e3-49c1-96df-e9838fdb206a\" xlink:show=\"new\" xlink:title=\"psysml:c8033d1b-23e3-49c1-96df-e9838fdb206a\" xlink:type=\"simple\"><polygon fill=\"#FFFFFF\" points=\"56,84,88,84,95,106.2969,102,106.2969,102,136.5938,56,136.5938,56,84\" style=\"stroke: #000000; stroke-width: 1.5;\"/><line style=\"stroke: #000000; stroke-width: 1.5;\" x1=\"56\" x2=\"95\" y1=\"106.2969\" y2=\"106.2969\"/><text fill=\"#000000\" font-family=\"sans-serif\" font-size=\"14\" font-weight=\"bold\" lengthAdjust=\"spacingAndGlyphs\" textLength=\"26\" x=\"60\" y=\"98.9951\">P2a</text></a><!--MD5=[a717450b82c80b9240a525fa862496af]\n",
       "link E6 to E3--><a href=\"psysml:c58b2e1b-d15c-43ed-8c88-ba21dc2bc4d9\" target=\"_top\" title=\"psysml:c58b2e1b-d15c-43ed-8c88-ba21dc2bc4d9\" xlink:actuate=\"onRequest\" xlink:href=\"psysml:c58b2e1b-d15c-43ed-8c88-ba21dc2bc4d9\" xlink:show=\"new\" xlink:title=\"psysml:c58b2e1b-d15c-43ed-8c88-ba21dc2bc4d9\" xlink:type=\"simple\"><path d=\"M155.46,133.68 C153.61,149.9 151.04,172.39 148.8,191.96 \" fill=\"none\" id=\"E6-&gt;E3\" style=\"stroke: #383838; stroke-width: 1.0;\"/><polygon fill=\"#FFFFFF\" points=\"146.52,211.98,141.7231,192.308,155.6325,193.8979,146.52,211.98\" style=\"stroke: #383838; stroke-width: 1.0;\"/><ellipse cx=\"144.3574\" cy=\"186.872\" fill=\"#383838\" rx=\"2\" ry=\"2\" style=\"stroke: #383838; stroke-width: 1.0;\"/><ellipse cx=\"154.2928\" cy=\"188.0076\" fill=\"#383838\" rx=\"2\" ry=\"2\" style=\"stroke: #383838; stroke-width: 1.0;\"/></a><!--MD5=[b5ac11dacc3183115a797662d6d42872]\n",
       "@startuml\r\n",
       "skinparam linetype polyline\r\n",
       "skinparam monochrome true\r\n",
       "skinparam classbackgroundcolor white\r\n",
       "skinparam shadowing false\r\n",
       "skinparam wrapWidth 300\r\n",
       "hide circle\r\n",
       "\r\n",
       "package \"QualifiedNameImportTest\" as E1  [[psysml:d6589951-d792-47be-8c0b-0f7f96c74b54 ]]  {\r\n",
       "package \"P1\" as E2  [[psysml:4f86bdc9-c02e-4b3c-80e5-19e64e9caefb ]]  {\r\n",
       "comp def \"A\" as E3  <<(T,blue) part  def>> [[psysml:0e402542-8392-49a3-8c29-2ec692a245e7 ]] {\r\n",
       "}\r\n",
       "}\r\n",
       "package \"P2\" as E4  [[psysml:eca2a432-2e72-4cdf-a8b0-841fc7787b6c ]]  {\r\n",
       "package \"P2a\" as E5  [[psysml:c8033d1b-23e3-49c1-96df-e9838fdb206a ]]  {\r\n",
       "}\r\n",
       "comp usage \"x: A \" as E6  <<(T,blue) part>> [[psysml:79981dbc-2c5c-48be-a1ca-65e6b97acee9 ]] {\r\n",
       "}\r\n",
       "}\r\n",
       "}\r\n",
       "E6 - -:|> E3 [[psysml:c58b2e1b-d15c-43ed-8c88-ba21dc2bc4d9 ]] \r\n",
       "@enduml\r\n",
       "\n",
       "PlantUML version 1.2020.13(Sat Jun 13 12:26:38 UTC 2020)\n",
       "(EPL source distribution)\n",
       "Java Runtime: OpenJDK Runtime Environment\n",
       "JVM: OpenJDK 64-Bit Server VM\n",
       "Default Encoding: UTF-8\n",
       "Language: en\n",
       "Country: null\n",
       "--></g></svg>"
      ]
     },
     "execution_count": 15,
     "metadata": {},
     "output_type": "execute_result"
    }
   ],
   "source": [
    "%viz --style=\"POLYLINE\" --view=\"MIXED\" \"QualifiedNameImportTest\""
   ]
  },
  {
   "cell_type": "code",
   "execution_count": 16,
   "id": "96cea83c",
   "metadata": {
    "execution": {
     "iopub.execute_input": "2021-11-13T13:01:03.930614Z",
     "iopub.status.busy": "2021-11-13T13:01:03.930212Z",
     "iopub.status.idle": "2021-11-13T13:01:03.964471Z",
     "shell.execute_reply": "2021-11-13T13:01:03.964120Z"
    }
   },
   "outputs": [
    {
     "data": {
      "image/svg+xml": [
       "<?xml version=\"1.0\" encoding=\"UTF-8\" standalone=\"no\"?><svg xmlns=\"http://www.w3.org/2000/svg\" xmlns:xlink=\"http://www.w3.org/1999/xlink\" contentScriptType=\"application/ecmascript\" contentStyleType=\"text/css\" height=\"271px\" preserveAspectRatio=\"none\" style=\"width:294px;height:271px;\" version=\"1.1\" viewBox=\"0 0 294 271\" width=\"294px\" zoomAndPan=\"magnify\"><defs/><g><!--MD5=[fbc87193dbaf4d95561dea2c320d4a47]\n",
       "cluster E1--><a href=\"psysml:d6589951-d792-47be-8c0b-0f7f96c74b54\" target=\"_top\" title=\"psysml:d6589951-d792-47be-8c0b-0f7f96c74b54\" xlink:actuate=\"onRequest\" xlink:href=\"psysml:d6589951-d792-47be-8c0b-0f7f96c74b54\" xlink:show=\"new\" xlink:title=\"psysml:d6589951-d792-47be-8c0b-0f7f96c74b54\" xlink:type=\"simple\"><polygon fill=\"#FFFFFF\" points=\"16,6,196,6,203,28.2969,272,28.2969,272,259,16,259,16,6\" style=\"stroke: #000000; stroke-width: 1.5;\"/><line style=\"stroke: #000000; stroke-width: 1.5;\" x1=\"16\" x2=\"203\" y1=\"28.2969\" y2=\"28.2969\"/><text fill=\"#000000\" font-family=\"sans-serif\" font-size=\"14\" font-weight=\"bold\" lengthAdjust=\"spacingAndGlyphs\" textLength=\"174\" x=\"20\" y=\"20.9951\">QualifiedNameImportTest</text></a><!--MD5=[e4f7fae6ed58524ba242bb0b0d3be6b7]\n",
       "cluster E2--><a href=\"psysml:4f86bdc9-c02e-4b3c-80e5-19e64e9caefb\" target=\"_top\" title=\"psysml:4f86bdc9-c02e-4b3c-80e5-19e64e9caefb\" xlink:actuate=\"onRequest\" xlink:href=\"psysml:4f86bdc9-c02e-4b3c-80e5-19e64e9caefb\" xlink:show=\"new\" xlink:title=\"psysml:4f86bdc9-c02e-4b3c-80e5-19e64e9caefb\" xlink:type=\"simple\"><polygon fill=\"#FFFFFF\" points=\"146,49,170,49,177,71.2969,248,71.2969,248,146,146,146,146,49\" style=\"stroke: #000000; stroke-width: 1.5;\"/><line style=\"stroke: #000000; stroke-width: 1.5;\" x1=\"146\" x2=\"177\" y1=\"71.2969\" y2=\"71.2969\"/><text fill=\"#000000\" font-family=\"sans-serif\" font-size=\"14\" font-weight=\"bold\" lengthAdjust=\"spacingAndGlyphs\" textLength=\"18\" x=\"150\" y=\"63.9951\">P1</text></a><!--MD5=[f6df4d0ebaf0b5dfb2ced0ae5af7c670]\n",
       "cluster E4--><a href=\"psysml:eca2a432-2e72-4cdf-a8b0-841fc7787b6c\" target=\"_top\" title=\"psysml:eca2a432-2e72-4cdf-a8b0-841fc7787b6c\" xlink:actuate=\"onRequest\" xlink:href=\"psysml:eca2a432-2e72-4cdf-a8b0-841fc7787b6c\" xlink:show=\"new\" xlink:title=\"psysml:eca2a432-2e72-4cdf-a8b0-841fc7787b6c\" xlink:type=\"simple\"><polygon fill=\"#FFFFFF\" points=\"40,49,64,49,71,71.2969,118,71.2969,118,235,40,235,40,49\" style=\"stroke: #000000; stroke-width: 1.5;\"/><line style=\"stroke: #000000; stroke-width: 1.5;\" x1=\"40\" x2=\"71\" y1=\"71.2969\" y2=\"71.2969\"/><text fill=\"#000000\" font-family=\"sans-serif\" font-size=\"14\" font-weight=\"bold\" lengthAdjust=\"spacingAndGlyphs\" textLength=\"18\" x=\"44\" y=\"63.9951\">P2</text></a><!--MD5=[09b614a08d8cba4a07c9adeb5e0fee81]\n",
       "class E3--><a href=\"psysml:0e402542-8392-49a3-8c29-2ec692a245e7\" target=\"_top\" title=\"psysml:0e402542-8392-49a3-8c29-2ec692a245e7\" xlink:actuate=\"onRequest\" xlink:href=\"psysml:0e402542-8392-49a3-8c29-2ec692a245e7\" xlink:show=\"new\" xlink:title=\"psysml:0e402542-8392-49a3-8c29-2ec692a245e7\" xlink:type=\"simple\"><rect fill=\"#FFFFFF\" height=\"45.9375\" id=\"E3\" style=\"stroke: #383838; stroke-width: 1.5;\" width=\"70\" x=\"162\" y=\"84\"/><text fill=\"#000000\" font-family=\"sans-serif\" font-size=\"12\" font-style=\"italic\" lengthAdjust=\"spacingAndGlyphs\" textLength=\"68\" x=\"163\" y=\"100.1387\">«part  def»</text><text fill=\"#000000\" font-family=\"sans-serif\" font-size=\"12\" lengthAdjust=\"spacingAndGlyphs\" textLength=\"8\" x=\"193\" y=\"114.1074\">A</text><line style=\"stroke: #383838; stroke-width: 1.5;\" x1=\"163\" x2=\"231\" y1=\"121.9375\" y2=\"121.9375\"/></a><!--MD5=[60a26617385b1d2d0262a64233df1f8d]\n",
       "class E6--><a href=\"psysml:79981dbc-2c5c-48be-a1ca-65e6b97acee9\" target=\"_top\" title=\"psysml:79981dbc-2c5c-48be-a1ca-65e6b97acee9\" xlink:actuate=\"onRequest\" xlink:href=\"psysml:79981dbc-2c5c-48be-a1ca-65e6b97acee9\" xlink:show=\"new\" xlink:title=\"psysml:79981dbc-2c5c-48be-a1ca-65e6b97acee9\" xlink:type=\"simple\"><rect fill=\"#FFFFFF\" height=\"45.9375\" id=\"E6\" rx=\"10\" ry=\"10\" style=\"stroke: #383838; stroke-width: 1.5;\" width=\"42\" x=\"58\" y=\"84\"/><text fill=\"#000000\" font-family=\"sans-serif\" font-size=\"12\" font-style=\"italic\" lengthAdjust=\"spacingAndGlyphs\" textLength=\"40\" x=\"59\" y=\"100.1387\">«part»</text><text fill=\"#000000\" font-family=\"sans-serif\" font-size=\"12\" lengthAdjust=\"spacingAndGlyphs\" textLength=\"22\" x=\"66\" y=\"114.1074\">x: A</text><line style=\"stroke: #383838; stroke-width: 1.5;\" x1=\"59\" x2=\"99\" y1=\"121.9375\" y2=\"121.9375\"/></a><a href=\"psysml:c8033d1b-23e3-49c1-96df-e9838fdb206a\" target=\"_top\" title=\"psysml:c8033d1b-23e3-49c1-96df-e9838fdb206a\" xlink:actuate=\"onRequest\" xlink:href=\"psysml:c8033d1b-23e3-49c1-96df-e9838fdb206a\" xlink:show=\"new\" xlink:title=\"psysml:c8033d1b-23e3-49c1-96df-e9838fdb206a\" xlink:type=\"simple\"><polygon fill=\"#FFFFFF\" points=\"56,165.5,88,165.5,95,187.7969,102,187.7969,102,218.0938,56,218.0938,56,165.5\" style=\"stroke: #000000; stroke-width: 1.5;\"/><line style=\"stroke: #000000; stroke-width: 1.5;\" x1=\"56\" x2=\"95\" y1=\"187.7969\" y2=\"187.7969\"/><text fill=\"#000000\" font-family=\"sans-serif\" font-size=\"14\" font-weight=\"bold\" lengthAdjust=\"spacingAndGlyphs\" textLength=\"26\" x=\"60\" y=\"180.4951\">P2a</text></a><!--MD5=[a717450b82c80b9240a525fa862496af]\n",
       "link E6 to E3--><a href=\"psysml:c58b2e1b-d15c-43ed-8c88-ba21dc2bc4d9\" target=\"_top\" title=\"psysml:c58b2e1b-d15c-43ed-8c88-ba21dc2bc4d9\" xlink:actuate=\"onRequest\" xlink:href=\"psysml:c58b2e1b-d15c-43ed-8c88-ba21dc2bc4d9\" xlink:show=\"new\" xlink:title=\"psysml:c58b2e1b-d15c-43ed-8c88-ba21dc2bc4d9\" xlink:type=\"simple\"><path d=\"M100.21,107 C111.83,107 127.05,107 141.91,107 \" fill=\"none\" id=\"E6-&gt;E3\" style=\"stroke: #383838; stroke-width: 1.0;\"/><polygon fill=\"#FFFFFF\" points=\"161.95,107,142.95,114,142.95,100,161.95,107\" style=\"stroke: #383838; stroke-width: 1.0;\"/><ellipse cx=\"137.25\" cy=\"112\" fill=\"#383838\" rx=\"2\" ry=\"2\" style=\"stroke: #383838; stroke-width: 1.0;\"/><ellipse cx=\"137.25\" cy=\"102\" fill=\"#383838\" rx=\"2\" ry=\"2\" style=\"stroke: #383838; stroke-width: 1.0;\"/></a><!--MD5=[efa5b9a13b6d02101cac709f83a47fcb]\n",
       "@startuml\r\n",
       "left to right direction\r\n",
       "skinparam monochrome true\r\n",
       "skinparam classbackgroundcolor white\r\n",
       "skinparam shadowing false\r\n",
       "skinparam wrapWidth 300\r\n",
       "hide circle\r\n",
       "\r\n",
       "package \"QualifiedNameImportTest\" as E1  [[psysml:d6589951-d792-47be-8c0b-0f7f96c74b54 ]]  {\r\n",
       "package \"P1\" as E2  [[psysml:4f86bdc9-c02e-4b3c-80e5-19e64e9caefb ]]  {\r\n",
       "comp def \"A\" as E3  <<(T,blue) part  def>> [[psysml:0e402542-8392-49a3-8c29-2ec692a245e7 ]] {\r\n",
       "}\r\n",
       "}\r\n",
       "package \"P2\" as E4  [[psysml:eca2a432-2e72-4cdf-a8b0-841fc7787b6c ]]  {\r\n",
       "package \"P2a\" as E5  [[psysml:c8033d1b-23e3-49c1-96df-e9838fdb206a ]]  {\r\n",
       "}\r\n",
       "comp usage \"x: A \" as E6  <<(T,blue) part>> [[psysml:79981dbc-2c5c-48be-a1ca-65e6b97acee9 ]] {\r\n",
       "}\r\n",
       "}\r\n",
       "}\r\n",
       "E6 - -:|> E3 [[psysml:c58b2e1b-d15c-43ed-8c88-ba21dc2bc4d9 ]] \r\n",
       "@enduml\r\n",
       "\n",
       "PlantUML version 1.2020.13(Sat Jun 13 12:26:38 UTC 2020)\n",
       "(EPL source distribution)\n",
       "Java Runtime: OpenJDK Runtime Environment\n",
       "JVM: OpenJDK 64-Bit Server VM\n",
       "Default Encoding: UTF-8\n",
       "Language: en\n",
       "Country: null\n",
       "--></g></svg>"
      ]
     },
     "execution_count": 16,
     "metadata": {},
     "output_type": "execute_result"
    }
   ],
   "source": [
    "%viz --style=\"LR\" --view=\"Default\" \"QualifiedNameImportTest\""
   ]
  },
  {
   "cell_type": "code",
   "execution_count": 17,
   "id": "54cc1549",
   "metadata": {
    "execution": {
     "iopub.execute_input": "2021-11-13T13:01:04.014034Z",
     "iopub.status.busy": "2021-11-13T13:01:04.013633Z",
     "iopub.status.idle": "2021-11-13T13:01:04.048569Z",
     "shell.execute_reply": "2021-11-13T13:01:04.048213Z"
    }
   },
   "outputs": [
    {
     "data": {
      "image/svg+xml": [
       "<?xml version=\"1.0\" encoding=\"UTF-8\" standalone=\"no\"?><svg xmlns=\"http://www.w3.org/2000/svg\" xmlns:xlink=\"http://www.w3.org/1999/xlink\" contentScriptType=\"application/ecmascript\" contentStyleType=\"text/css\" height=\"271px\" preserveAspectRatio=\"none\" style=\"width:294px;height:271px;\" version=\"1.1\" viewBox=\"0 0 294 271\" width=\"294px\" zoomAndPan=\"magnify\"><defs/><g><!--MD5=[fbc87193dbaf4d95561dea2c320d4a47]\n",
       "cluster E1--><a href=\"psysml:d6589951-d792-47be-8c0b-0f7f96c74b54\" target=\"_top\" title=\"psysml:d6589951-d792-47be-8c0b-0f7f96c74b54\" xlink:actuate=\"onRequest\" xlink:href=\"psysml:d6589951-d792-47be-8c0b-0f7f96c74b54\" xlink:show=\"new\" xlink:title=\"psysml:d6589951-d792-47be-8c0b-0f7f96c74b54\" xlink:type=\"simple\"><polygon fill=\"#FFFFFF\" points=\"16,6,196,6,203,28.2969,272,28.2969,272,259,16,259,16,6\" style=\"stroke: #000000; stroke-width: 1.5;\"/><line style=\"stroke: #000000; stroke-width: 1.5;\" x1=\"16\" x2=\"203\" y1=\"28.2969\" y2=\"28.2969\"/><text fill=\"#000000\" font-family=\"sans-serif\" font-size=\"14\" font-weight=\"bold\" lengthAdjust=\"spacingAndGlyphs\" textLength=\"174\" x=\"20\" y=\"20.9951\">QualifiedNameImportTest</text></a><!--MD5=[e4f7fae6ed58524ba242bb0b0d3be6b7]\n",
       "cluster E2--><a href=\"psysml:4f86bdc9-c02e-4b3c-80e5-19e64e9caefb\" target=\"_top\" title=\"psysml:4f86bdc9-c02e-4b3c-80e5-19e64e9caefb\" xlink:actuate=\"onRequest\" xlink:href=\"psysml:4f86bdc9-c02e-4b3c-80e5-19e64e9caefb\" xlink:show=\"new\" xlink:title=\"psysml:4f86bdc9-c02e-4b3c-80e5-19e64e9caefb\" xlink:type=\"simple\"><polygon fill=\"#FFFFFF\" points=\"146,49,170,49,177,71.2969,248,71.2969,248,146,146,146,146,49\" style=\"stroke: #000000; stroke-width: 1.5;\"/><line style=\"stroke: #000000; stroke-width: 1.5;\" x1=\"146\" x2=\"177\" y1=\"71.2969\" y2=\"71.2969\"/><text fill=\"#000000\" font-family=\"sans-serif\" font-size=\"14\" font-weight=\"bold\" lengthAdjust=\"spacingAndGlyphs\" textLength=\"18\" x=\"150\" y=\"63.9951\">P1</text></a><!--MD5=[f6df4d0ebaf0b5dfb2ced0ae5af7c670]\n",
       "cluster E4--><a href=\"psysml:eca2a432-2e72-4cdf-a8b0-841fc7787b6c\" target=\"_top\" title=\"psysml:eca2a432-2e72-4cdf-a8b0-841fc7787b6c\" xlink:actuate=\"onRequest\" xlink:href=\"psysml:eca2a432-2e72-4cdf-a8b0-841fc7787b6c\" xlink:show=\"new\" xlink:title=\"psysml:eca2a432-2e72-4cdf-a8b0-841fc7787b6c\" xlink:type=\"simple\"><polygon fill=\"#FFFFFF\" points=\"40,49,64,49,71,71.2969,118,71.2969,118,235,40,235,40,49\" style=\"stroke: #000000; stroke-width: 1.5;\"/><line style=\"stroke: #000000; stroke-width: 1.5;\" x1=\"40\" x2=\"71\" y1=\"71.2969\" y2=\"71.2969\"/><text fill=\"#000000\" font-family=\"sans-serif\" font-size=\"14\" font-weight=\"bold\" lengthAdjust=\"spacingAndGlyphs\" textLength=\"18\" x=\"44\" y=\"63.9951\">P2</text></a><!--MD5=[09b614a08d8cba4a07c9adeb5e0fee81]\n",
       "class E3--><a href=\"psysml:0e402542-8392-49a3-8c29-2ec692a245e7\" target=\"_top\" title=\"psysml:0e402542-8392-49a3-8c29-2ec692a245e7\" xlink:actuate=\"onRequest\" xlink:href=\"psysml:0e402542-8392-49a3-8c29-2ec692a245e7\" xlink:show=\"new\" xlink:title=\"psysml:0e402542-8392-49a3-8c29-2ec692a245e7\" xlink:type=\"simple\"><rect fill=\"#FFFFFF\" height=\"45.9375\" id=\"E3\" style=\"stroke: #383838; stroke-width: 1.5;\" width=\"70\" x=\"162\" y=\"84\"/><text fill=\"#000000\" font-family=\"sans-serif\" font-size=\"12\" font-style=\"italic\" lengthAdjust=\"spacingAndGlyphs\" textLength=\"68\" x=\"163\" y=\"100.1387\">«part  def»</text><text fill=\"#000000\" font-family=\"sans-serif\" font-size=\"12\" lengthAdjust=\"spacingAndGlyphs\" textLength=\"8\" x=\"193\" y=\"114.1074\">A</text><line style=\"stroke: #383838; stroke-width: 1.5;\" x1=\"163\" x2=\"231\" y1=\"121.9375\" y2=\"121.9375\"/></a><!--MD5=[60a26617385b1d2d0262a64233df1f8d]\n",
       "class E6--><a href=\"psysml:79981dbc-2c5c-48be-a1ca-65e6b97acee9\" target=\"_top\" title=\"psysml:79981dbc-2c5c-48be-a1ca-65e6b97acee9\" xlink:actuate=\"onRequest\" xlink:href=\"psysml:79981dbc-2c5c-48be-a1ca-65e6b97acee9\" xlink:show=\"new\" xlink:title=\"psysml:79981dbc-2c5c-48be-a1ca-65e6b97acee9\" xlink:type=\"simple\"><rect fill=\"#FFFFFF\" height=\"45.9375\" id=\"E6\" rx=\"10\" ry=\"10\" style=\"stroke: #383838; stroke-width: 1.5;\" width=\"42\" x=\"58\" y=\"84\"/><text fill=\"#000000\" font-family=\"sans-serif\" font-size=\"12\" font-style=\"italic\" lengthAdjust=\"spacingAndGlyphs\" textLength=\"40\" x=\"59\" y=\"100.1387\">«part»</text><text fill=\"#000000\" font-family=\"sans-serif\" font-size=\"12\" lengthAdjust=\"spacingAndGlyphs\" textLength=\"22\" x=\"66\" y=\"114.1074\">x: A</text><line style=\"stroke: #383838; stroke-width: 1.5;\" x1=\"59\" x2=\"99\" y1=\"121.9375\" y2=\"121.9375\"/></a><a href=\"psysml:c8033d1b-23e3-49c1-96df-e9838fdb206a\" target=\"_top\" title=\"psysml:c8033d1b-23e3-49c1-96df-e9838fdb206a\" xlink:actuate=\"onRequest\" xlink:href=\"psysml:c8033d1b-23e3-49c1-96df-e9838fdb206a\" xlink:show=\"new\" xlink:title=\"psysml:c8033d1b-23e3-49c1-96df-e9838fdb206a\" xlink:type=\"simple\"><polygon fill=\"#FFFFFF\" points=\"56,165.5,88,165.5,95,187.7969,102,187.7969,102,218.0938,56,218.0938,56,165.5\" style=\"stroke: #000000; stroke-width: 1.5;\"/><line style=\"stroke: #000000; stroke-width: 1.5;\" x1=\"56\" x2=\"95\" y1=\"187.7969\" y2=\"187.7969\"/><text fill=\"#000000\" font-family=\"sans-serif\" font-size=\"14\" font-weight=\"bold\" lengthAdjust=\"spacingAndGlyphs\" textLength=\"26\" x=\"60\" y=\"180.4951\">P2a</text></a><!--MD5=[a717450b82c80b9240a525fa862496af]\n",
       "link E6 to E3--><a href=\"psysml:c58b2e1b-d15c-43ed-8c88-ba21dc2bc4d9\" target=\"_top\" title=\"psysml:c58b2e1b-d15c-43ed-8c88-ba21dc2bc4d9\" xlink:actuate=\"onRequest\" xlink:href=\"psysml:c58b2e1b-d15c-43ed-8c88-ba21dc2bc4d9\" xlink:show=\"new\" xlink:title=\"psysml:c58b2e1b-d15c-43ed-8c88-ba21dc2bc4d9\" xlink:type=\"simple\"><path d=\"M100.21,107 C111.83,107 127.05,107 141.91,107 \" fill=\"none\" id=\"E6-&gt;E3\" style=\"stroke: #383838; stroke-width: 1.0;\"/><polygon fill=\"#FFFFFF\" points=\"161.95,107,142.95,114,142.95,100,161.95,107\" style=\"stroke: #383838; stroke-width: 1.0;\"/><ellipse cx=\"137.25\" cy=\"112\" fill=\"#383838\" rx=\"2\" ry=\"2\" style=\"stroke: #383838; stroke-width: 1.0;\"/><ellipse cx=\"137.25\" cy=\"102\" fill=\"#383838\" rx=\"2\" ry=\"2\" style=\"stroke: #383838; stroke-width: 1.0;\"/></a><!--MD5=[efa5b9a13b6d02101cac709f83a47fcb]\n",
       "@startuml\r\n",
       "left to right direction\r\n",
       "skinparam monochrome true\r\n",
       "skinparam classbackgroundcolor white\r\n",
       "skinparam shadowing false\r\n",
       "skinparam wrapWidth 300\r\n",
       "hide circle\r\n",
       "\r\n",
       "package \"QualifiedNameImportTest\" as E1  [[psysml:d6589951-d792-47be-8c0b-0f7f96c74b54 ]]  {\r\n",
       "package \"P1\" as E2  [[psysml:4f86bdc9-c02e-4b3c-80e5-19e64e9caefb ]]  {\r\n",
       "comp def \"A\" as E3  <<(T,blue) part  def>> [[psysml:0e402542-8392-49a3-8c29-2ec692a245e7 ]] {\r\n",
       "}\r\n",
       "}\r\n",
       "package \"P2\" as E4  [[psysml:eca2a432-2e72-4cdf-a8b0-841fc7787b6c ]]  {\r\n",
       "package \"P2a\" as E5  [[psysml:c8033d1b-23e3-49c1-96df-e9838fdb206a ]]  {\r\n",
       "}\r\n",
       "comp usage \"x: A \" as E6  <<(T,blue) part>> [[psysml:79981dbc-2c5c-48be-a1ca-65e6b97acee9 ]] {\r\n",
       "}\r\n",
       "}\r\n",
       "}\r\n",
       "E6 - -:|> E3 [[psysml:c58b2e1b-d15c-43ed-8c88-ba21dc2bc4d9 ]] \r\n",
       "@enduml\r\n",
       "\n",
       "PlantUML version 1.2020.13(Sat Jun 13 12:26:38 UTC 2020)\n",
       "(EPL source distribution)\n",
       "Java Runtime: OpenJDK Runtime Environment\n",
       "JVM: OpenJDK 64-Bit Server VM\n",
       "Default Encoding: UTF-8\n",
       "Language: en\n",
       "Country: null\n",
       "--></g></svg>"
      ]
     },
     "execution_count": 17,
     "metadata": {},
     "output_type": "execute_result"
    }
   ],
   "source": [
    "%viz --style=\"LR\" --view=\"Tree\" \"QualifiedNameImportTest\""
   ]
  },
  {
   "cell_type": "code",
   "execution_count": 18,
   "id": "b2aa398d",
   "metadata": {
    "execution": {
     "iopub.execute_input": "2021-11-13T13:01:04.097929Z",
     "iopub.status.busy": "2021-11-13T13:01:04.097463Z",
     "iopub.status.idle": "2021-11-13T13:01:04.103779Z",
     "shell.execute_reply": "2021-11-13T13:01:04.104090Z"
    }
   },
   "outputs": [
    {
     "data": {
      "image/svg+xml": [
       "<?xml version=\"1.0\" encoding=\"UTF-8\" standalone=\"no\"?><svg xmlns=\"http://www.w3.org/2000/svg\" xmlns:xlink=\"http://www.w3.org/1999/xlink\" contentScriptType=\"application/ecmascript\" contentStyleType=\"text/css\" height=\"12px\" preserveAspectRatio=\"none\" style=\"width:12px;height:12px;\" version=\"1.1\" viewBox=\"0 0 12 12\" width=\"12px\" zoomAndPan=\"magnify\"><defs/><g><!--MD5=[19d285c9d72a204eba4e2cd117d745e8]\n",
       "@startuml\r\n",
       "left to right direction\r\n",
       "skinparam monochrome true\r\n",
       "skinparam classbackgroundcolor white\r\n",
       "skinparam shadowing false\r\n",
       "skinparam wrapWidth 300\r\n",
       "hide circle\r\n",
       "\r\n",
       "@enduml\r\n",
       "\n",
       "PlantUML version 1.2020.13(Sat Jun 13 12:26:38 UTC 2020)\n",
       "(EPL source distribution)\n",
       "Java Runtime: OpenJDK Runtime Environment\n",
       "JVM: OpenJDK 64-Bit Server VM\n",
       "Default Encoding: UTF-8\n",
       "Language: en\n",
       "Country: null\n",
       "--></g></svg>"
      ]
     },
     "execution_count": 18,
     "metadata": {},
     "output_type": "execute_result"
    }
   ],
   "source": [
    "%viz --style=\"LR\" --view=\"State\" \"QualifiedNameImportTest\""
   ]
  },
  {
   "cell_type": "code",
   "execution_count": 19,
   "id": "efe780aa",
   "metadata": {
    "execution": {
     "iopub.execute_input": "2021-11-13T13:01:04.153923Z",
     "iopub.status.busy": "2021-11-13T13:01:04.153532Z",
     "iopub.status.idle": "2021-11-13T13:01:04.184986Z",
     "shell.execute_reply": "2021-11-13T13:01:04.184633Z"
    }
   },
   "outputs": [
    {
     "data": {
      "image/svg+xml": [
       "<?xml version=\"1.0\" encoding=\"UTF-8\" standalone=\"no\"?><svg xmlns=\"http://www.w3.org/2000/svg\" xmlns:xlink=\"http://www.w3.org/1999/xlink\" contentScriptType=\"application/ecmascript\" contentStyleType=\"text/css\" height=\"384px\" preserveAspectRatio=\"none\" style=\"width:228px;height:384px;\" version=\"1.1\" viewBox=\"0 0 228 384\" width=\"228px\" zoomAndPan=\"magnify\"><defs/><g><!--MD5=[fbc87193dbaf4d95561dea2c320d4a47]\n",
       "cluster E1--><a href=\"psysml:d6589951-d792-47be-8c0b-0f7f96c74b54\" target=\"_top\" title=\"psysml:d6589951-d792-47be-8c0b-0f7f96c74b54\" xlink:actuate=\"onRequest\" xlink:href=\"psysml:d6589951-d792-47be-8c0b-0f7f96c74b54\" xlink:show=\"new\" xlink:title=\"psysml:d6589951-d792-47be-8c0b-0f7f96c74b54\" xlink:type=\"simple\"><polygon fill=\"#FFFFFF\" points=\"16,6,196,6,203,28.2969,206,28.2969,206,372,16,372,16,6\" style=\"stroke: #000000; stroke-width: 1.5;\"/><line style=\"stroke: #000000; stroke-width: 1.5;\" x1=\"16\" x2=\"203\" y1=\"28.2969\" y2=\"28.2969\"/><text fill=\"#000000\" font-family=\"sans-serif\" font-size=\"14\" font-weight=\"bold\" lengthAdjust=\"spacingAndGlyphs\" textLength=\"174\" x=\"20\" y=\"20.9951\">QualifiedNameImportTest</text></a><!--MD5=[e4f7fae6ed58524ba242bb0b0d3be6b7]\n",
       "cluster E2--><a href=\"psysml:4f86bdc9-c02e-4b3c-80e5-19e64e9caefb\" target=\"_top\" title=\"psysml:4f86bdc9-c02e-4b3c-80e5-19e64e9caefb\" xlink:actuate=\"onRequest\" xlink:href=\"psysml:4f86bdc9-c02e-4b3c-80e5-19e64e9caefb\" xlink:show=\"new\" xlink:title=\"psysml:4f86bdc9-c02e-4b3c-80e5-19e64e9caefb\" xlink:type=\"simple\"><polygon fill=\"#FFFFFF\" points=\"57,49,81,49,88,71.2969,164,71.2969,164,144,57,144,57,49\" style=\"stroke: #000000; stroke-width: 1.5;\"/><line style=\"stroke: #000000; stroke-width: 1.5;\" x1=\"57\" x2=\"88\" y1=\"71.2969\" y2=\"71.2969\"/><text fill=\"#000000\" font-family=\"sans-serif\" font-size=\"14\" font-weight=\"bold\" lengthAdjust=\"spacingAndGlyphs\" textLength=\"18\" x=\"61\" y=\"63.9951\">P1</text></a><!--MD5=[f6df4d0ebaf0b5dfb2ced0ae5af7c670]\n",
       "cluster E4--><a href=\"psysml:eca2a432-2e72-4cdf-a8b0-841fc7787b6c\" target=\"_top\" title=\"psysml:eca2a432-2e72-4cdf-a8b0-841fc7787b6c\" xlink:actuate=\"onRequest\" xlink:href=\"psysml:eca2a432-2e72-4cdf-a8b0-841fc7787b6c\" xlink:show=\"new\" xlink:title=\"psysml:eca2a432-2e72-4cdf-a8b0-841fc7787b6c\" xlink:type=\"simple\"><polygon fill=\"#FFFFFF\" points=\"69.5,168,93.5,168,100.5,190.2969,151.5,190.2969,151.5,348,69.5,348,69.5,168\" style=\"stroke: #000000; stroke-width: 1.5;\"/><line style=\"stroke: #000000; stroke-width: 1.5;\" x1=\"69.5\" x2=\"100.5\" y1=\"190.2969\" y2=\"190.2969\"/><text fill=\"#000000\" font-family=\"sans-serif\" font-size=\"14\" font-weight=\"bold\" lengthAdjust=\"spacingAndGlyphs\" textLength=\"18\" x=\"73.5\" y=\"182.9951\">P2</text></a><g id=\"E1.E2.E3\"><a href=\"psysml:0e402542-8392-49a3-8c29-2ec692a245e7\" target=\"_top\" title=\"psysml:0e402542-8392-49a3-8c29-2ec692a245e7\" xlink:actuate=\"onRequest\" xlink:href=\"psysml:0e402542-8392-49a3-8c29-2ec692a245e7\" xlink:show=\"new\" xlink:title=\"psysml:0e402542-8392-49a3-8c29-2ec692a245e7\" xlink:type=\"simple\"><rect fill=\"#FFFFFF\" height=\"42.9375\" id=\"E3\" style=\"stroke: #383838; stroke-width: 1.5;\" width=\"75\" x=\"73\" y=\"84.5\"/><rect fill=\"#F8F8F8\" height=\"37.9375\" style=\"stroke: #383838; stroke-width: 1.5;\" width=\"75\" x=\"73\" y=\"84.5\"/><text fill=\"#000000\" font-family=\"sans-serif\" font-size=\"12\" font-style=\"italic\" lengthAdjust=\"spacingAndGlyphs\" textLength=\"68\" x=\"76.5\" y=\"100.6387\">«part  def»</text><text fill=\"#000000\" font-family=\"sans-serif\" font-size=\"12\" lengthAdjust=\"spacingAndGlyphs\" textLength=\"8\" x=\"106.5\" y=\"114.6074\">A</text></a></g><a href=\"psysml:c8033d1b-23e3-49c1-96df-e9838fdb206a\" target=\"_top\" title=\"psysml:c8033d1b-23e3-49c1-96df-e9838fdb206a\" xlink:actuate=\"onRequest\" xlink:href=\"psysml:c8033d1b-23e3-49c1-96df-e9838fdb206a\" xlink:show=\"new\" xlink:title=\"psysml:c8033d1b-23e3-49c1-96df-e9838fdb206a\" xlink:type=\"simple\"><polygon fill=\"#FFFFFF\" points=\"87.5,203.5,119.5,203.5,126.5,225.7969,133.5,225.7969,133.5,256.0938,87.5,256.0938,87.5,203.5\" style=\"stroke: #000000; stroke-width: 1.5;\"/><line style=\"stroke: #000000; stroke-width: 1.5;\" x1=\"87.5\" x2=\"126.5\" y1=\"225.7969\" y2=\"225.7969\"/><text fill=\"#000000\" font-family=\"sans-serif\" font-size=\"14\" font-weight=\"bold\" lengthAdjust=\"spacingAndGlyphs\" textLength=\"26\" x=\"91.5\" y=\"218.4951\">P2a</text></a><g id=\"E1.E4.E6\"><a href=\"psysml:79981dbc-2c5c-48be-a1ca-65e6b97acee9\" target=\"_top\" title=\"psysml:79981dbc-2c5c-48be-a1ca-65e6b97acee9\" xlink:actuate=\"onRequest\" xlink:href=\"psysml:79981dbc-2c5c-48be-a1ca-65e6b97acee9\" xlink:show=\"new\" xlink:title=\"psysml:79981dbc-2c5c-48be-a1ca-65e6b97acee9\" xlink:type=\"simple\"><rect fill=\"#FFFFFF\" height=\"40\" id=\"E6\" rx=\"10\" ry=\"10\" style=\"stroke: #383838; stroke-width: 1.5;\" width=\"50\" x=\"85.5\" y=\"292\"/><rect fill=\"#F8F8F8\" height=\"23.9688\" rx=\"10\" ry=\"10\" style=\"stroke: #F8F8F8; stroke-width: 1.5;\" width=\"50\" x=\"85.5\" y=\"292\"/><rect fill=\"#F8F8F8\" height=\"10\" style=\"stroke: #F8F8F8; stroke-width: 1.5;\" width=\"50\" x=\"85.5\" y=\"305.9688\"/><rect fill=\"none\" height=\"40\" id=\"E6\" rx=\"10\" ry=\"10\" style=\"stroke: #383838; stroke-width: 1.5;\" width=\"50\" x=\"85.5\" y=\"292\"/><text fill=\"#000000\" font-family=\"sans-serif\" font-size=\"12\" lengthAdjust=\"spacingAndGlyphs\" textLength=\"22\" x=\"99.5\" y=\"308.1387\">x: A</text></a></g><!--MD5=[db02b2e259f80abb5b89bade6a5eee96]\n",
       "@startuml\r\n",
       "skinparam ranksep 10\r\n",
       "skinparam rectangle {\r\n",
       " backgroundColor<<block>> LightGreen\r\n",
       "}\r\n",
       "left to right direction\r\n",
       "skinparam monochrome true\r\n",
       "skinparam classbackgroundcolor white\r\n",
       "skinparam shadowing false\r\n",
       "skinparam wrapWidth 300\r\n",
       "hide circle\r\n",
       "\r\n",
       "package \"QualifiedNameImportTest\" as E1  [[psysml:d6589951-d792-47be-8c0b-0f7f96c74b54 ]]  {\r\n",
       "package \"P1\" as E2  [[psysml:4f86bdc9-c02e-4b3c-80e5-19e64e9caefb ]]  {\r\n",
       "rec def \"A\" as E3  <<(T,blue) part  def>> [[psysml:0e402542-8392-49a3-8c29-2ec692a245e7 ]] {\r\n",
       "}\r\n",
       "}\r\n",
       "package \"P2\" as E4  [[psysml:eca2a432-2e72-4cdf-a8b0-841fc7787b6c ]]  {\r\n",
       "package \"P2a\" as E5  [[psysml:c8033d1b-23e3-49c1-96df-e9838fdb206a ]]  {\r\n",
       "}\r\n",
       "rec usage \"x: A\" as E6  [[psysml:79981dbc-2c5c-48be-a1ca-65e6b97acee9 ]] {\r\n",
       "}\r\n",
       "}\r\n",
       "}\r\n",
       "@enduml\r\n",
       "\n",
       "PlantUML version 1.2020.13(Sat Jun 13 12:26:38 UTC 2020)\n",
       "(EPL source distribution)\n",
       "Java Runtime: OpenJDK Runtime Environment\n",
       "JVM: OpenJDK 64-Bit Server VM\n",
       "Default Encoding: UTF-8\n",
       "Language: en\n",
       "Country: null\n",
       "--></g></svg>"
      ]
     },
     "execution_count": 19,
     "metadata": {},
     "output_type": "execute_result"
    }
   ],
   "source": [
    "%viz --style=\"LR\" --view=\"Interconnection\" \"QualifiedNameImportTest\""
   ]
  },
  {
   "cell_type": "code",
   "execution_count": 20,
   "id": "1a7ace27",
   "metadata": {
    "execution": {
     "iopub.execute_input": "2021-11-13T13:01:04.234423Z",
     "iopub.status.busy": "2021-11-13T13:01:04.234023Z",
     "iopub.status.idle": "2021-11-13T13:01:04.239391Z",
     "shell.execute_reply": "2021-11-13T13:01:04.239700Z"
    }
   },
   "outputs": [
    {
     "data": {
      "image/svg+xml": [
       "<?xml version=\"1.0\" encoding=\"UTF-8\" standalone=\"no\"?><svg xmlns=\"http://www.w3.org/2000/svg\" xmlns:xlink=\"http://www.w3.org/1999/xlink\" contentScriptType=\"application/ecmascript\" contentStyleType=\"text/css\" height=\"12px\" preserveAspectRatio=\"none\" style=\"width:12px;height:12px;\" version=\"1.1\" viewBox=\"0 0 12 12\" width=\"12px\" zoomAndPan=\"magnify\"><defs/><g><!--MD5=[7aeb398939421629f6affaa4a1a7b125]\n",
       "@startuml\r\n",
       "skinparam ranksep 8\r\n",
       "left to right direction\r\n",
       "skinparam monochrome true\r\n",
       "skinparam classbackgroundcolor white\r\n",
       "skinparam shadowing false\r\n",
       "skinparam wrapWidth 300\r\n",
       "hide circle\r\n",
       "\r\n",
       "@enduml\r\n",
       "\n",
       "PlantUML version 1.2020.13(Sat Jun 13 12:26:38 UTC 2020)\n",
       "(EPL source distribution)\n",
       "Java Runtime: OpenJDK Runtime Environment\n",
       "JVM: OpenJDK 64-Bit Server VM\n",
       "Default Encoding: UTF-8\n",
       "Language: en\n",
       "Country: null\n",
       "--></g></svg>"
      ]
     },
     "execution_count": 20,
     "metadata": {},
     "output_type": "execute_result"
    }
   ],
   "source": [
    "%viz --style=\"LR\" --view=\"Action\" \"QualifiedNameImportTest\""
   ]
  },
  {
   "cell_type": "code",
   "execution_count": 21,
   "id": "d6db9f3c",
   "metadata": {
    "execution": {
     "iopub.execute_input": "2021-11-13T13:01:04.289588Z",
     "iopub.status.busy": "2021-11-13T13:01:04.289156Z",
     "iopub.status.idle": "2021-11-13T13:01:04.294908Z",
     "shell.execute_reply": "2021-11-13T13:01:04.295223Z"
    }
   },
   "outputs": [
    {
     "data": {
      "image/svg+xml": [
       "<?xml version=\"1.0\" encoding=\"UTF-8\" standalone=\"no\"?><svg xmlns=\"http://www.w3.org/2000/svg\" xmlns:xlink=\"http://www.w3.org/1999/xlink\" contentScriptType=\"application/ecmascript\" contentStyleType=\"text/css\" height=\"12px\" preserveAspectRatio=\"none\" style=\"width:12px;height:12px;\" version=\"1.1\" viewBox=\"0 0 12 12\" width=\"12px\" zoomAndPan=\"magnify\"><defs/><g><!--MD5=[238c11ea2002f03115ad6b49a457d50e]\n",
       "@startuml\r\n",
       "skinparam roundcorner 20\r\n",
       "skinparam BoxPadding 20\r\n",
       "skinparam SequenceBoxBackgroundColor #white\r\n",
       "skinparam style strictuml\r\n",
       "skinparam maxMessageSize 100\r\n",
       "left to right direction\r\n",
       "skinparam monochrome true\r\n",
       "skinparam classbackgroundcolor white\r\n",
       "skinparam shadowing false\r\n",
       "skinparam wrapWidth 300\r\n",
       "hide circle\r\n",
       "\r\n",
       "@enduml\r\n",
       "\n",
       "PlantUML version 1.2020.13(Sat Jun 13 12:26:38 UTC 2020)\n",
       "(EPL source distribution)\n",
       "Java Runtime: OpenJDK Runtime Environment\n",
       "JVM: OpenJDK 64-Bit Server VM\n",
       "Default Encoding: UTF-8\n",
       "Language: en\n",
       "Country: null\n",
       "--></g></svg>"
      ]
     },
     "execution_count": 21,
     "metadata": {},
     "output_type": "execute_result"
    }
   ],
   "source": [
    "%viz --style=\"LR\" --view=\"Sequence\" \"QualifiedNameImportTest\""
   ]
  },
  {
   "cell_type": "code",
   "execution_count": 22,
   "id": "2989bef5",
   "metadata": {
    "execution": {
     "iopub.execute_input": "2021-11-13T13:01:04.344980Z",
     "iopub.status.busy": "2021-11-13T13:01:04.344560Z",
     "iopub.status.idle": "2021-11-13T13:01:04.378212Z",
     "shell.execute_reply": "2021-11-13T13:01:04.376458Z"
    }
   },
   "outputs": [
    {
     "data": {
      "image/svg+xml": [
       "<?xml version=\"1.0\" encoding=\"UTF-8\" standalone=\"no\"?><svg xmlns=\"http://www.w3.org/2000/svg\" xmlns:xlink=\"http://www.w3.org/1999/xlink\" contentScriptType=\"application/ecmascript\" contentStyleType=\"text/css\" height=\"271px\" preserveAspectRatio=\"none\" style=\"width:294px;height:271px;\" version=\"1.1\" viewBox=\"0 0 294 271\" width=\"294px\" zoomAndPan=\"magnify\"><defs/><g><!--MD5=[fbc87193dbaf4d95561dea2c320d4a47]\n",
       "cluster E1--><a href=\"psysml:d6589951-d792-47be-8c0b-0f7f96c74b54\" target=\"_top\" title=\"psysml:d6589951-d792-47be-8c0b-0f7f96c74b54\" xlink:actuate=\"onRequest\" xlink:href=\"psysml:d6589951-d792-47be-8c0b-0f7f96c74b54\" xlink:show=\"new\" xlink:title=\"psysml:d6589951-d792-47be-8c0b-0f7f96c74b54\" xlink:type=\"simple\"><polygon fill=\"#FFFFFF\" points=\"16,6,196,6,203,28.2969,272,28.2969,272,259,16,259,16,6\" style=\"stroke: #000000; stroke-width: 1.5;\"/><line style=\"stroke: #000000; stroke-width: 1.5;\" x1=\"16\" x2=\"203\" y1=\"28.2969\" y2=\"28.2969\"/><text fill=\"#000000\" font-family=\"sans-serif\" font-size=\"14\" font-weight=\"bold\" lengthAdjust=\"spacingAndGlyphs\" textLength=\"174\" x=\"20\" y=\"20.9951\">QualifiedNameImportTest</text></a><!--MD5=[e4f7fae6ed58524ba242bb0b0d3be6b7]\n",
       "cluster E2--><a href=\"psysml:4f86bdc9-c02e-4b3c-80e5-19e64e9caefb\" target=\"_top\" title=\"psysml:4f86bdc9-c02e-4b3c-80e5-19e64e9caefb\" xlink:actuate=\"onRequest\" xlink:href=\"psysml:4f86bdc9-c02e-4b3c-80e5-19e64e9caefb\" xlink:show=\"new\" xlink:title=\"psysml:4f86bdc9-c02e-4b3c-80e5-19e64e9caefb\" xlink:type=\"simple\"><polygon fill=\"#FFFFFF\" points=\"146,49,170,49,177,71.2969,248,71.2969,248,146,146,146,146,49\" style=\"stroke: #000000; stroke-width: 1.5;\"/><line style=\"stroke: #000000; stroke-width: 1.5;\" x1=\"146\" x2=\"177\" y1=\"71.2969\" y2=\"71.2969\"/><text fill=\"#000000\" font-family=\"sans-serif\" font-size=\"14\" font-weight=\"bold\" lengthAdjust=\"spacingAndGlyphs\" textLength=\"18\" x=\"150\" y=\"63.9951\">P1</text></a><!--MD5=[f6df4d0ebaf0b5dfb2ced0ae5af7c670]\n",
       "cluster E4--><a href=\"psysml:eca2a432-2e72-4cdf-a8b0-841fc7787b6c\" target=\"_top\" title=\"psysml:eca2a432-2e72-4cdf-a8b0-841fc7787b6c\" xlink:actuate=\"onRequest\" xlink:href=\"psysml:eca2a432-2e72-4cdf-a8b0-841fc7787b6c\" xlink:show=\"new\" xlink:title=\"psysml:eca2a432-2e72-4cdf-a8b0-841fc7787b6c\" xlink:type=\"simple\"><polygon fill=\"#FFFFFF\" points=\"40,49,64,49,71,71.2969,118,71.2969,118,235,40,235,40,49\" style=\"stroke: #000000; stroke-width: 1.5;\"/><line style=\"stroke: #000000; stroke-width: 1.5;\" x1=\"40\" x2=\"71\" y1=\"71.2969\" y2=\"71.2969\"/><text fill=\"#000000\" font-family=\"sans-serif\" font-size=\"14\" font-weight=\"bold\" lengthAdjust=\"spacingAndGlyphs\" textLength=\"18\" x=\"44\" y=\"63.9951\">P2</text></a><!--MD5=[09b614a08d8cba4a07c9adeb5e0fee81]\n",
       "class E3--><a href=\"psysml:0e402542-8392-49a3-8c29-2ec692a245e7\" target=\"_top\" title=\"psysml:0e402542-8392-49a3-8c29-2ec692a245e7\" xlink:actuate=\"onRequest\" xlink:href=\"psysml:0e402542-8392-49a3-8c29-2ec692a245e7\" xlink:show=\"new\" xlink:title=\"psysml:0e402542-8392-49a3-8c29-2ec692a245e7\" xlink:type=\"simple\"><rect fill=\"#FFFFFF\" height=\"45.9375\" id=\"E3\" style=\"stroke: #383838; stroke-width: 1.5;\" width=\"70\" x=\"162\" y=\"84\"/><text fill=\"#000000\" font-family=\"sans-serif\" font-size=\"12\" font-style=\"italic\" lengthAdjust=\"spacingAndGlyphs\" textLength=\"68\" x=\"163\" y=\"100.1387\">«part  def»</text><text fill=\"#000000\" font-family=\"sans-serif\" font-size=\"12\" lengthAdjust=\"spacingAndGlyphs\" textLength=\"8\" x=\"193\" y=\"114.1074\">A</text><line style=\"stroke: #383838; stroke-width: 1.5;\" x1=\"163\" x2=\"231\" y1=\"121.9375\" y2=\"121.9375\"/></a><!--MD5=[60a26617385b1d2d0262a64233df1f8d]\n",
       "class E6--><a href=\"psysml:79981dbc-2c5c-48be-a1ca-65e6b97acee9\" target=\"_top\" title=\"psysml:79981dbc-2c5c-48be-a1ca-65e6b97acee9\" xlink:actuate=\"onRequest\" xlink:href=\"psysml:79981dbc-2c5c-48be-a1ca-65e6b97acee9\" xlink:show=\"new\" xlink:title=\"psysml:79981dbc-2c5c-48be-a1ca-65e6b97acee9\" xlink:type=\"simple\"><rect fill=\"#FFFFFF\" height=\"45.9375\" id=\"E6\" rx=\"10\" ry=\"10\" style=\"stroke: #383838; stroke-width: 1.5;\" width=\"42\" x=\"58\" y=\"84\"/><text fill=\"#000000\" font-family=\"sans-serif\" font-size=\"12\" font-style=\"italic\" lengthAdjust=\"spacingAndGlyphs\" textLength=\"40\" x=\"59\" y=\"100.1387\">«part»</text><text fill=\"#000000\" font-family=\"sans-serif\" font-size=\"12\" lengthAdjust=\"spacingAndGlyphs\" textLength=\"22\" x=\"66\" y=\"114.1074\">x: A</text><line style=\"stroke: #383838; stroke-width: 1.5;\" x1=\"59\" x2=\"99\" y1=\"121.9375\" y2=\"121.9375\"/></a><a href=\"psysml:c8033d1b-23e3-49c1-96df-e9838fdb206a\" target=\"_top\" title=\"psysml:c8033d1b-23e3-49c1-96df-e9838fdb206a\" xlink:actuate=\"onRequest\" xlink:href=\"psysml:c8033d1b-23e3-49c1-96df-e9838fdb206a\" xlink:show=\"new\" xlink:title=\"psysml:c8033d1b-23e3-49c1-96df-e9838fdb206a\" xlink:type=\"simple\"><polygon fill=\"#FFFFFF\" points=\"56,165.5,88,165.5,95,187.7969,102,187.7969,102,218.0938,56,218.0938,56,165.5\" style=\"stroke: #000000; stroke-width: 1.5;\"/><line style=\"stroke: #000000; stroke-width: 1.5;\" x1=\"56\" x2=\"95\" y1=\"187.7969\" y2=\"187.7969\"/><text fill=\"#000000\" font-family=\"sans-serif\" font-size=\"14\" font-weight=\"bold\" lengthAdjust=\"spacingAndGlyphs\" textLength=\"26\" x=\"60\" y=\"180.4951\">P2a</text></a><!--MD5=[a717450b82c80b9240a525fa862496af]\n",
       "link E6 to E3--><a href=\"psysml:c58b2e1b-d15c-43ed-8c88-ba21dc2bc4d9\" target=\"_top\" title=\"psysml:c58b2e1b-d15c-43ed-8c88-ba21dc2bc4d9\" xlink:actuate=\"onRequest\" xlink:href=\"psysml:c58b2e1b-d15c-43ed-8c88-ba21dc2bc4d9\" xlink:show=\"new\" xlink:title=\"psysml:c58b2e1b-d15c-43ed-8c88-ba21dc2bc4d9\" xlink:type=\"simple\"><path d=\"M100.21,107 C111.83,107 127.05,107 141.91,107 \" fill=\"none\" id=\"E6-&gt;E3\" style=\"stroke: #383838; stroke-width: 1.0;\"/><polygon fill=\"#FFFFFF\" points=\"161.95,107,142.95,114,142.95,100,161.95,107\" style=\"stroke: #383838; stroke-width: 1.0;\"/><ellipse cx=\"137.25\" cy=\"112\" fill=\"#383838\" rx=\"2\" ry=\"2\" style=\"stroke: #383838; stroke-width: 1.0;\"/><ellipse cx=\"137.25\" cy=\"102\" fill=\"#383838\" rx=\"2\" ry=\"2\" style=\"stroke: #383838; stroke-width: 1.0;\"/></a><!--MD5=[efa5b9a13b6d02101cac709f83a47fcb]\n",
       "@startuml\r\n",
       "left to right direction\r\n",
       "skinparam monochrome true\r\n",
       "skinparam classbackgroundcolor white\r\n",
       "skinparam shadowing false\r\n",
       "skinparam wrapWidth 300\r\n",
       "hide circle\r\n",
       "\r\n",
       "package \"QualifiedNameImportTest\" as E1  [[psysml:d6589951-d792-47be-8c0b-0f7f96c74b54 ]]  {\r\n",
       "package \"P1\" as E2  [[psysml:4f86bdc9-c02e-4b3c-80e5-19e64e9caefb ]]  {\r\n",
       "comp def \"A\" as E3  <<(T,blue) part  def>> [[psysml:0e402542-8392-49a3-8c29-2ec692a245e7 ]] {\r\n",
       "}\r\n",
       "}\r\n",
       "package \"P2\" as E4  [[psysml:eca2a432-2e72-4cdf-a8b0-841fc7787b6c ]]  {\r\n",
       "package \"P2a\" as E5  [[psysml:c8033d1b-23e3-49c1-96df-e9838fdb206a ]]  {\r\n",
       "}\r\n",
       "comp usage \"x: A \" as E6  <<(T,blue) part>> [[psysml:79981dbc-2c5c-48be-a1ca-65e6b97acee9 ]] {\r\n",
       "}\r\n",
       "}\r\n",
       "}\r\n",
       "E6 - -:|> E3 [[psysml:c58b2e1b-d15c-43ed-8c88-ba21dc2bc4d9 ]] \r\n",
       "@enduml\r\n",
       "\n",
       "PlantUML version 1.2020.13(Sat Jun 13 12:26:38 UTC 2020)\n",
       "(EPL source distribution)\n",
       "Java Runtime: OpenJDK Runtime Environment\n",
       "JVM: OpenJDK 64-Bit Server VM\n",
       "Default Encoding: UTF-8\n",
       "Language: en\n",
       "Country: null\n",
       "--></g></svg>"
      ]
     },
     "execution_count": 22,
     "metadata": {},
     "output_type": "execute_result"
    }
   ],
   "source": [
    "%viz --style=\"LR\" --view=\"MIXED\" \"QualifiedNameImportTest\""
   ]
  },
  {
   "cell_type": "code",
   "execution_count": 23,
   "id": "ba676963",
   "metadata": {
    "execution": {
     "iopub.execute_input": "2021-11-13T13:01:04.427531Z",
     "iopub.status.busy": "2021-11-13T13:01:04.427116Z",
     "iopub.status.idle": "2021-11-13T13:01:04.455311Z",
     "shell.execute_reply": "2021-11-13T13:01:04.454953Z"
    }
   },
   "outputs": [
    {
     "data": {
      "image/svg+xml": [
       "<?xml version=\"1.0\" encoding=\"UTF-8\" standalone=\"no\"?><svg xmlns=\"http://www.w3.org/2000/svg\" xmlns:xlink=\"http://www.w3.org/1999/xlink\" contentScriptType=\"application/ecmascript\" contentStyleType=\"text/css\" height=\"310px\" preserveAspectRatio=\"none\" style=\"width:241px;height:310px;\" version=\"1.1\" viewBox=\"0 0 241 310\" width=\"241px\" zoomAndPan=\"magnify\"><defs><filter height=\"300%\" id=\"f3j2syyezyuqs\" width=\"300%\" x=\"-1\" y=\"-1\"><feGaussianBlur result=\"blurOut\" stdDeviation=\"2.0\"/><feColorMatrix in=\"blurOut\" result=\"blurOut2\" type=\"matrix\" values=\"0 0 0 0 0 0 0 0 0 0 0 0 0 0 0 0 0 0 .4 0\"/><feOffset dx=\"4.0\" dy=\"4.0\" in=\"blurOut2\" result=\"blurOut3\"/><feBlend in=\"SourceGraphic\" in2=\"blurOut3\" mode=\"normal\"/></filter></defs><g><!--MD5=[fbc87193dbaf4d95561dea2c320d4a47]\n",
       "cluster E1--><a href=\"psysml:d6589951-d792-47be-8c0b-0f7f96c74b54\" target=\"_top\" title=\"psysml:d6589951-d792-47be-8c0b-0f7f96c74b54\" xlink:actuate=\"onRequest\" xlink:href=\"psysml:d6589951-d792-47be-8c0b-0f7f96c74b54\" xlink:show=\"new\" xlink:title=\"psysml:d6589951-d792-47be-8c0b-0f7f96c74b54\" xlink:type=\"simple\"><polygon fill=\"#FFFFFF\" filter=\"url(#f3j2syyezyuqs)\" points=\"16,6,196,6,203,28.2969,219,28.2969,219,298,16,298,16,6\" style=\"stroke: #000000; stroke-width: 1.5;\"/><line style=\"stroke: #000000; stroke-width: 1.5;\" x1=\"16\" x2=\"203\" y1=\"28.2969\" y2=\"28.2969\"/><text fill=\"#000000\" font-family=\"sans-serif\" font-size=\"14\" font-weight=\"bold\" lengthAdjust=\"spacingAndGlyphs\" textLength=\"174\" x=\"20\" y=\"20.9951\">QualifiedNameImportTest</text></a><!--MD5=[e4f7fae6ed58524ba242bb0b0d3be6b7]\n",
       "cluster E2--><a href=\"psysml:4f86bdc9-c02e-4b3c-80e5-19e64e9caefb\" target=\"_top\" title=\"psysml:4f86bdc9-c02e-4b3c-80e5-19e64e9caefb\" xlink:actuate=\"onRequest\" xlink:href=\"psysml:4f86bdc9-c02e-4b3c-80e5-19e64e9caefb\" xlink:show=\"new\" xlink:title=\"psysml:4f86bdc9-c02e-4b3c-80e5-19e64e9caefb\" xlink:type=\"simple\"><polygon fill=\"#FFFFFF\" filter=\"url(#f3j2syyezyuqs)\" points=\"93,177,117,177,124,199.2969,195,199.2969,195,274,93,274,93,177\" style=\"stroke: #000000; stroke-width: 1.5;\"/><line style=\"stroke: #000000; stroke-width: 1.5;\" x1=\"93\" x2=\"124\" y1=\"199.2969\" y2=\"199.2969\"/><text fill=\"#000000\" font-family=\"sans-serif\" font-size=\"14\" font-weight=\"bold\" lengthAdjust=\"spacingAndGlyphs\" textLength=\"18\" x=\"97\" y=\"191.9951\">P1</text></a><!--MD5=[f6df4d0ebaf0b5dfb2ced0ae5af7c670]\n",
       "cluster E4--><a href=\"psysml:eca2a432-2e72-4cdf-a8b0-841fc7787b6c\" target=\"_top\" title=\"psysml:eca2a432-2e72-4cdf-a8b0-841fc7787b6c\" xlink:actuate=\"onRequest\" xlink:href=\"psysml:eca2a432-2e72-4cdf-a8b0-841fc7787b6c\" xlink:show=\"new\" xlink:title=\"psysml:eca2a432-2e72-4cdf-a8b0-841fc7787b6c\" xlink:type=\"simple\"><polygon fill=\"#FFFFFF\" filter=\"url(#f3j2syyezyuqs)\" points=\"40,49,64,49,71,71.2969,195,71.2969,195,153,40,153,40,49\" style=\"stroke: #000000; stroke-width: 1.5;\"/><line style=\"stroke: #000000; stroke-width: 1.5;\" x1=\"40\" x2=\"71\" y1=\"71.2969\" y2=\"71.2969\"/><text fill=\"#000000\" font-family=\"sans-serif\" font-size=\"14\" font-weight=\"bold\" lengthAdjust=\"spacingAndGlyphs\" textLength=\"18\" x=\"44\" y=\"63.9951\">P2</text></a><!--MD5=[09b614a08d8cba4a07c9adeb5e0fee81]\n",
       "class E3--><a href=\"psysml:0e402542-8392-49a3-8c29-2ec692a245e7\" target=\"_top\" title=\"psysml:0e402542-8392-49a3-8c29-2ec692a245e7\" xlink:actuate=\"onRequest\" xlink:href=\"psysml:0e402542-8392-49a3-8c29-2ec692a245e7\" xlink:show=\"new\" xlink:title=\"psysml:0e402542-8392-49a3-8c29-2ec692a245e7\" xlink:type=\"simple\"><rect fill=\"#FEFECE\" filter=\"url(#f3j2syyezyuqs)\" height=\"45.9375\" id=\"E3\" style=\"stroke: #A80036; stroke-width: 1.5;\" width=\"70\" x=\"109\" y=\"212\"/><text fill=\"#000000\" font-family=\"sans-serif\" font-size=\"12\" font-style=\"italic\" lengthAdjust=\"spacingAndGlyphs\" textLength=\"68\" x=\"110\" y=\"228.1387\">«part  def»</text><text fill=\"#000000\" font-family=\"sans-serif\" font-size=\"12\" lengthAdjust=\"spacingAndGlyphs\" textLength=\"8\" x=\"140\" y=\"242.1074\">A</text><line style=\"stroke: #A80036; stroke-width: 1.5;\" x1=\"110\" x2=\"178\" y1=\"249.9375\" y2=\"249.9375\"/></a><!--MD5=[60a26617385b1d2d0262a64233df1f8d]\n",
       "class E6--><a href=\"psysml:79981dbc-2c5c-48be-a1ca-65e6b97acee9\" target=\"_top\" title=\"psysml:79981dbc-2c5c-48be-a1ca-65e6b97acee9\" xlink:actuate=\"onRequest\" xlink:href=\"psysml:79981dbc-2c5c-48be-a1ca-65e6b97acee9\" xlink:show=\"new\" xlink:title=\"psysml:79981dbc-2c5c-48be-a1ca-65e6b97acee9\" xlink:type=\"simple\"><rect fill=\"#FEFECE\" filter=\"url(#f3j2syyezyuqs)\" height=\"45.9375\" id=\"E6\" rx=\"10\" ry=\"10\" style=\"stroke: #A80036; stroke-width: 1.5;\" width=\"42\" x=\"137\" y=\"87.5\"/><text fill=\"#000000\" font-family=\"sans-serif\" font-size=\"12\" font-style=\"italic\" lengthAdjust=\"spacingAndGlyphs\" textLength=\"40\" x=\"138\" y=\"103.6387\">«part»</text><text fill=\"#000000\" font-family=\"sans-serif\" font-size=\"12\" lengthAdjust=\"spacingAndGlyphs\" textLength=\"22\" x=\"145\" y=\"117.6074\">x: A</text><line style=\"stroke: #A80036; stroke-width: 1.5;\" x1=\"138\" x2=\"178\" y1=\"125.4375\" y2=\"125.4375\"/></a><a href=\"psysml:c8033d1b-23e3-49c1-96df-e9838fdb206a\" target=\"_top\" title=\"psysml:c8033d1b-23e3-49c1-96df-e9838fdb206a\" xlink:actuate=\"onRequest\" xlink:href=\"psysml:c8033d1b-23e3-49c1-96df-e9838fdb206a\" xlink:show=\"new\" xlink:title=\"psysml:c8033d1b-23e3-49c1-96df-e9838fdb206a\" xlink:type=\"simple\"><polygon fill=\"#FFFFFF\" filter=\"url(#f3j2syyezyuqs)\" points=\"56,84,88,84,95,106.2969,102,106.2969,102,136.5938,56,136.5938,56,84\" style=\"stroke: #000000; stroke-width: 1.5;\"/><line style=\"stroke: #000000; stroke-width: 1.5;\" x1=\"56\" x2=\"95\" y1=\"106.2969\" y2=\"106.2969\"/><text fill=\"#000000\" font-family=\"sans-serif\" font-size=\"14\" font-weight=\"bold\" lengthAdjust=\"spacingAndGlyphs\" textLength=\"26\" x=\"60\" y=\"98.9951\">P2a</text></a><!--MD5=[a717450b82c80b9240a525fa862496af]\n",
       "link E6 to E3--><a href=\"psysml:c58b2e1b-d15c-43ed-8c88-ba21dc2bc4d9\" target=\"_top\" title=\"psysml:c58b2e1b-d15c-43ed-8c88-ba21dc2bc4d9\" xlink:actuate=\"onRequest\" xlink:href=\"psysml:c58b2e1b-d15c-43ed-8c88-ba21dc2bc4d9\" xlink:show=\"new\" xlink:title=\"psysml:c58b2e1b-d15c-43ed-8c88-ba21dc2bc4d9\" xlink:type=\"simple\"><path d=\"M155.46,133.68 C153.61,149.9 151.04,172.39 148.8,191.96 \" fill=\"none\" id=\"E6-&gt;E3\" style=\"stroke: #A80036; stroke-width: 1.0;\"/><polygon fill=\"#FFFFFF\" points=\"146.52,211.98,141.7231,192.308,155.6325,193.8979,146.52,211.98\" style=\"stroke: #A80036; stroke-width: 1.0;\"/><ellipse cx=\"144.3574\" cy=\"186.872\" fill=\"#A80036\" rx=\"2\" ry=\"2\" style=\"stroke: #A80036; stroke-width: 1.0;\"/><ellipse cx=\"154.2928\" cy=\"188.0076\" fill=\"#A80036\" rx=\"2\" ry=\"2\" style=\"stroke: #A80036; stroke-width: 1.0;\"/></a><!--MD5=[45d4248ed092f26c1842bd25a4b33f94]\n",
       "@startuml\r\n",
       "skinparam wrapWidth 300\r\n",
       "hide circle\r\n",
       "\r\n",
       "package \"QualifiedNameImportTest\" as E1  [[psysml:d6589951-d792-47be-8c0b-0f7f96c74b54 ]]  {\r\n",
       "package \"P1\" as E2  [[psysml:4f86bdc9-c02e-4b3c-80e5-19e64e9caefb ]]  {\r\n",
       "comp def \"A\" as E3  <<(T,blue) part  def>> [[psysml:0e402542-8392-49a3-8c29-2ec692a245e7 ]] {\r\n",
       "}\r\n",
       "}\r\n",
       "package \"P2\" as E4  [[psysml:eca2a432-2e72-4cdf-a8b0-841fc7787b6c ]]  {\r\n",
       "package \"P2a\" as E5  [[psysml:c8033d1b-23e3-49c1-96df-e9838fdb206a ]]  {\r\n",
       "}\r\n",
       "comp usage \"x: A \" as E6  <<(T,blue) part>> [[psysml:79981dbc-2c5c-48be-a1ca-65e6b97acee9 ]] {\r\n",
       "}\r\n",
       "}\r\n",
       "}\r\n",
       "E6 - -:|> E3 [[psysml:c58b2e1b-d15c-43ed-8c88-ba21dc2bc4d9 ]] \r\n",
       "@enduml\r\n",
       "\n",
       "PlantUML version 1.2020.13(Sat Jun 13 12:26:38 UTC 2020)\n",
       "(EPL source distribution)\n",
       "Java Runtime: OpenJDK Runtime Environment\n",
       "JVM: OpenJDK 64-Bit Server VM\n",
       "Default Encoding: UTF-8\n",
       "Language: en\n",
       "Country: null\n",
       "--></g></svg>"
      ]
     },
     "execution_count": 23,
     "metadata": {},
     "output_type": "execute_result"
    }
   ],
   "source": [
    "%viz --style=\"STDCOLOR\" --view=\"Default\" \"QualifiedNameImportTest\""
   ]
  },
  {
   "cell_type": "code",
   "execution_count": 24,
   "id": "e78e95e9",
   "metadata": {
    "execution": {
     "iopub.execute_input": "2021-11-13T13:01:04.504692Z",
     "iopub.status.busy": "2021-11-13T13:01:04.504296Z",
     "iopub.status.idle": "2021-11-13T13:01:04.541169Z",
     "shell.execute_reply": "2021-11-13T13:01:04.540815Z"
    }
   },
   "outputs": [
    {
     "data": {
      "image/svg+xml": [
       "<?xml version=\"1.0\" encoding=\"UTF-8\" standalone=\"no\"?><svg xmlns=\"http://www.w3.org/2000/svg\" xmlns:xlink=\"http://www.w3.org/1999/xlink\" contentScriptType=\"application/ecmascript\" contentStyleType=\"text/css\" height=\"310px\" preserveAspectRatio=\"none\" style=\"width:241px;height:310px;\" version=\"1.1\" viewBox=\"0 0 241 310\" width=\"241px\" zoomAndPan=\"magnify\"><defs><filter height=\"300%\" id=\"f3j2syyezyuqs\" width=\"300%\" x=\"-1\" y=\"-1\"><feGaussianBlur result=\"blurOut\" stdDeviation=\"2.0\"/><feColorMatrix in=\"blurOut\" result=\"blurOut2\" type=\"matrix\" values=\"0 0 0 0 0 0 0 0 0 0 0 0 0 0 0 0 0 0 .4 0\"/><feOffset dx=\"4.0\" dy=\"4.0\" in=\"blurOut2\" result=\"blurOut3\"/><feBlend in=\"SourceGraphic\" in2=\"blurOut3\" mode=\"normal\"/></filter></defs><g><!--MD5=[fbc87193dbaf4d95561dea2c320d4a47]\n",
       "cluster E1--><a href=\"psysml:d6589951-d792-47be-8c0b-0f7f96c74b54\" target=\"_top\" title=\"psysml:d6589951-d792-47be-8c0b-0f7f96c74b54\" xlink:actuate=\"onRequest\" xlink:href=\"psysml:d6589951-d792-47be-8c0b-0f7f96c74b54\" xlink:show=\"new\" xlink:title=\"psysml:d6589951-d792-47be-8c0b-0f7f96c74b54\" xlink:type=\"simple\"><polygon fill=\"#FFFFFF\" filter=\"url(#f3j2syyezyuqs)\" points=\"16,6,196,6,203,28.2969,219,28.2969,219,298,16,298,16,6\" style=\"stroke: #000000; stroke-width: 1.5;\"/><line style=\"stroke: #000000; stroke-width: 1.5;\" x1=\"16\" x2=\"203\" y1=\"28.2969\" y2=\"28.2969\"/><text fill=\"#000000\" font-family=\"sans-serif\" font-size=\"14\" font-weight=\"bold\" lengthAdjust=\"spacingAndGlyphs\" textLength=\"174\" x=\"20\" y=\"20.9951\">QualifiedNameImportTest</text></a><!--MD5=[e4f7fae6ed58524ba242bb0b0d3be6b7]\n",
       "cluster E2--><a href=\"psysml:4f86bdc9-c02e-4b3c-80e5-19e64e9caefb\" target=\"_top\" title=\"psysml:4f86bdc9-c02e-4b3c-80e5-19e64e9caefb\" xlink:actuate=\"onRequest\" xlink:href=\"psysml:4f86bdc9-c02e-4b3c-80e5-19e64e9caefb\" xlink:show=\"new\" xlink:title=\"psysml:4f86bdc9-c02e-4b3c-80e5-19e64e9caefb\" xlink:type=\"simple\"><polygon fill=\"#FFFFFF\" filter=\"url(#f3j2syyezyuqs)\" points=\"93,177,117,177,124,199.2969,195,199.2969,195,274,93,274,93,177\" style=\"stroke: #000000; stroke-width: 1.5;\"/><line style=\"stroke: #000000; stroke-width: 1.5;\" x1=\"93\" x2=\"124\" y1=\"199.2969\" y2=\"199.2969\"/><text fill=\"#000000\" font-family=\"sans-serif\" font-size=\"14\" font-weight=\"bold\" lengthAdjust=\"spacingAndGlyphs\" textLength=\"18\" x=\"97\" y=\"191.9951\">P1</text></a><!--MD5=[f6df4d0ebaf0b5dfb2ced0ae5af7c670]\n",
       "cluster E4--><a href=\"psysml:eca2a432-2e72-4cdf-a8b0-841fc7787b6c\" target=\"_top\" title=\"psysml:eca2a432-2e72-4cdf-a8b0-841fc7787b6c\" xlink:actuate=\"onRequest\" xlink:href=\"psysml:eca2a432-2e72-4cdf-a8b0-841fc7787b6c\" xlink:show=\"new\" xlink:title=\"psysml:eca2a432-2e72-4cdf-a8b0-841fc7787b6c\" xlink:type=\"simple\"><polygon fill=\"#FFFFFF\" filter=\"url(#f3j2syyezyuqs)\" points=\"40,49,64,49,71,71.2969,195,71.2969,195,153,40,153,40,49\" style=\"stroke: #000000; stroke-width: 1.5;\"/><line style=\"stroke: #000000; stroke-width: 1.5;\" x1=\"40\" x2=\"71\" y1=\"71.2969\" y2=\"71.2969\"/><text fill=\"#000000\" font-family=\"sans-serif\" font-size=\"14\" font-weight=\"bold\" lengthAdjust=\"spacingAndGlyphs\" textLength=\"18\" x=\"44\" y=\"63.9951\">P2</text></a><!--MD5=[09b614a08d8cba4a07c9adeb5e0fee81]\n",
       "class E3--><a href=\"psysml:0e402542-8392-49a3-8c29-2ec692a245e7\" target=\"_top\" title=\"psysml:0e402542-8392-49a3-8c29-2ec692a245e7\" xlink:actuate=\"onRequest\" xlink:href=\"psysml:0e402542-8392-49a3-8c29-2ec692a245e7\" xlink:show=\"new\" xlink:title=\"psysml:0e402542-8392-49a3-8c29-2ec692a245e7\" xlink:type=\"simple\"><rect fill=\"#FEFECE\" filter=\"url(#f3j2syyezyuqs)\" height=\"45.9375\" id=\"E3\" style=\"stroke: #A80036; stroke-width: 1.5;\" width=\"70\" x=\"109\" y=\"212\"/><text fill=\"#000000\" font-family=\"sans-serif\" font-size=\"12\" font-style=\"italic\" lengthAdjust=\"spacingAndGlyphs\" textLength=\"68\" x=\"110\" y=\"228.1387\">«part  def»</text><text fill=\"#000000\" font-family=\"sans-serif\" font-size=\"12\" lengthAdjust=\"spacingAndGlyphs\" textLength=\"8\" x=\"140\" y=\"242.1074\">A</text><line style=\"stroke: #A80036; stroke-width: 1.5;\" x1=\"110\" x2=\"178\" y1=\"249.9375\" y2=\"249.9375\"/></a><!--MD5=[60a26617385b1d2d0262a64233df1f8d]\n",
       "class E6--><a href=\"psysml:79981dbc-2c5c-48be-a1ca-65e6b97acee9\" target=\"_top\" title=\"psysml:79981dbc-2c5c-48be-a1ca-65e6b97acee9\" xlink:actuate=\"onRequest\" xlink:href=\"psysml:79981dbc-2c5c-48be-a1ca-65e6b97acee9\" xlink:show=\"new\" xlink:title=\"psysml:79981dbc-2c5c-48be-a1ca-65e6b97acee9\" xlink:type=\"simple\"><rect fill=\"#FEFECE\" filter=\"url(#f3j2syyezyuqs)\" height=\"45.9375\" id=\"E6\" rx=\"10\" ry=\"10\" style=\"stroke: #A80036; stroke-width: 1.5;\" width=\"42\" x=\"137\" y=\"87.5\"/><text fill=\"#000000\" font-family=\"sans-serif\" font-size=\"12\" font-style=\"italic\" lengthAdjust=\"spacingAndGlyphs\" textLength=\"40\" x=\"138\" y=\"103.6387\">«part»</text><text fill=\"#000000\" font-family=\"sans-serif\" font-size=\"12\" lengthAdjust=\"spacingAndGlyphs\" textLength=\"22\" x=\"145\" y=\"117.6074\">x: A</text><line style=\"stroke: #A80036; stroke-width: 1.5;\" x1=\"138\" x2=\"178\" y1=\"125.4375\" y2=\"125.4375\"/></a><a href=\"psysml:c8033d1b-23e3-49c1-96df-e9838fdb206a\" target=\"_top\" title=\"psysml:c8033d1b-23e3-49c1-96df-e9838fdb206a\" xlink:actuate=\"onRequest\" xlink:href=\"psysml:c8033d1b-23e3-49c1-96df-e9838fdb206a\" xlink:show=\"new\" xlink:title=\"psysml:c8033d1b-23e3-49c1-96df-e9838fdb206a\" xlink:type=\"simple\"><polygon fill=\"#FFFFFF\" filter=\"url(#f3j2syyezyuqs)\" points=\"56,84,88,84,95,106.2969,102,106.2969,102,136.5938,56,136.5938,56,84\" style=\"stroke: #000000; stroke-width: 1.5;\"/><line style=\"stroke: #000000; stroke-width: 1.5;\" x1=\"56\" x2=\"95\" y1=\"106.2969\" y2=\"106.2969\"/><text fill=\"#000000\" font-family=\"sans-serif\" font-size=\"14\" font-weight=\"bold\" lengthAdjust=\"spacingAndGlyphs\" textLength=\"26\" x=\"60\" y=\"98.9951\">P2a</text></a><!--MD5=[a717450b82c80b9240a525fa862496af]\n",
       "link E6 to E3--><a href=\"psysml:c58b2e1b-d15c-43ed-8c88-ba21dc2bc4d9\" target=\"_top\" title=\"psysml:c58b2e1b-d15c-43ed-8c88-ba21dc2bc4d9\" xlink:actuate=\"onRequest\" xlink:href=\"psysml:c58b2e1b-d15c-43ed-8c88-ba21dc2bc4d9\" xlink:show=\"new\" xlink:title=\"psysml:c58b2e1b-d15c-43ed-8c88-ba21dc2bc4d9\" xlink:type=\"simple\"><path d=\"M155.46,133.68 C153.61,149.9 151.04,172.39 148.8,191.96 \" fill=\"none\" id=\"E6-&gt;E3\" style=\"stroke: #A80036; stroke-width: 1.0;\"/><polygon fill=\"#FFFFFF\" points=\"146.52,211.98,141.7231,192.308,155.6325,193.8979,146.52,211.98\" style=\"stroke: #A80036; stroke-width: 1.0;\"/><ellipse cx=\"144.3574\" cy=\"186.872\" fill=\"#A80036\" rx=\"2\" ry=\"2\" style=\"stroke: #A80036; stroke-width: 1.0;\"/><ellipse cx=\"154.2928\" cy=\"188.0076\" fill=\"#A80036\" rx=\"2\" ry=\"2\" style=\"stroke: #A80036; stroke-width: 1.0;\"/></a><!--MD5=[45d4248ed092f26c1842bd25a4b33f94]\n",
       "@startuml\r\n",
       "skinparam wrapWidth 300\r\n",
       "hide circle\r\n",
       "\r\n",
       "package \"QualifiedNameImportTest\" as E1  [[psysml:d6589951-d792-47be-8c0b-0f7f96c74b54 ]]  {\r\n",
       "package \"P1\" as E2  [[psysml:4f86bdc9-c02e-4b3c-80e5-19e64e9caefb ]]  {\r\n",
       "comp def \"A\" as E3  <<(T,blue) part  def>> [[psysml:0e402542-8392-49a3-8c29-2ec692a245e7 ]] {\r\n",
       "}\r\n",
       "}\r\n",
       "package \"P2\" as E4  [[psysml:eca2a432-2e72-4cdf-a8b0-841fc7787b6c ]]  {\r\n",
       "package \"P2a\" as E5  [[psysml:c8033d1b-23e3-49c1-96df-e9838fdb206a ]]  {\r\n",
       "}\r\n",
       "comp usage \"x: A \" as E6  <<(T,blue) part>> [[psysml:79981dbc-2c5c-48be-a1ca-65e6b97acee9 ]] {\r\n",
       "}\r\n",
       "}\r\n",
       "}\r\n",
       "E6 - -:|> E3 [[psysml:c58b2e1b-d15c-43ed-8c88-ba21dc2bc4d9 ]] \r\n",
       "@enduml\r\n",
       "\n",
       "PlantUML version 1.2020.13(Sat Jun 13 12:26:38 UTC 2020)\n",
       "(EPL source distribution)\n",
       "Java Runtime: OpenJDK Runtime Environment\n",
       "JVM: OpenJDK 64-Bit Server VM\n",
       "Default Encoding: UTF-8\n",
       "Language: en\n",
       "Country: null\n",
       "--></g></svg>"
      ]
     },
     "execution_count": 24,
     "metadata": {},
     "output_type": "execute_result"
    }
   ],
   "source": [
    "%viz --style=\"STDCOLOR\" --view=\"Tree\" \"QualifiedNameImportTest\""
   ]
  },
  {
   "cell_type": "code",
   "execution_count": 25,
   "id": "85163f3c",
   "metadata": {
    "execution": {
     "iopub.execute_input": "2021-11-13T13:01:04.590637Z",
     "iopub.status.busy": "2021-11-13T13:01:04.590239Z",
     "iopub.status.idle": "2021-11-13T13:01:04.595624Z",
     "shell.execute_reply": "2021-11-13T13:01:04.595957Z"
    }
   },
   "outputs": [
    {
     "data": {
      "image/svg+xml": [
       "<?xml version=\"1.0\" encoding=\"UTF-8\" standalone=\"no\"?><svg xmlns=\"http://www.w3.org/2000/svg\" xmlns:xlink=\"http://www.w3.org/1999/xlink\" contentScriptType=\"application/ecmascript\" contentStyleType=\"text/css\" height=\"12px\" preserveAspectRatio=\"none\" style=\"width:12px;height:12px;\" version=\"1.1\" viewBox=\"0 0 12 12\" width=\"12px\" zoomAndPan=\"magnify\"><defs/><g><!--MD5=[aeeef50f102b80d730deb6443d14f702]\n",
       "@startuml\r\n",
       "skinparam wrapWidth 300\r\n",
       "hide circle\r\n",
       "\r\n",
       "@enduml\r\n",
       "\n",
       "PlantUML version 1.2020.13(Sat Jun 13 12:26:38 UTC 2020)\n",
       "(EPL source distribution)\n",
       "Java Runtime: OpenJDK Runtime Environment\n",
       "JVM: OpenJDK 64-Bit Server VM\n",
       "Default Encoding: UTF-8\n",
       "Language: en\n",
       "Country: null\n",
       "--></g></svg>"
      ]
     },
     "execution_count": 25,
     "metadata": {},
     "output_type": "execute_result"
    }
   ],
   "source": [
    "%viz --style=\"STDCOLOR\" --view=\"State\" \"QualifiedNameImportTest\""
   ]
  },
  {
   "cell_type": "code",
   "execution_count": 26,
   "id": "f1909c7d",
   "metadata": {
    "execution": {
     "iopub.execute_input": "2021-11-13T13:01:04.645658Z",
     "iopub.status.busy": "2021-11-13T13:01:04.645262Z",
     "iopub.status.idle": "2021-11-13T13:01:04.677507Z",
     "shell.execute_reply": "2021-11-13T13:01:04.677102Z"
    }
   },
   "outputs": [
    {
     "data": {
      "image/svg+xml": [
       "<?xml version=\"1.0\" encoding=\"UTF-8\" standalone=\"no\"?><svg xmlns=\"http://www.w3.org/2000/svg\" xmlns:xlink=\"http://www.w3.org/1999/xlink\" contentScriptType=\"application/ecmascript\" contentStyleType=\"text/css\" height=\"189px\" preserveAspectRatio=\"none\" style=\"width:379px;height:189px;\" version=\"1.1\" viewBox=\"0 0 379 189\" width=\"379px\" zoomAndPan=\"magnify\"><defs><filter height=\"300%\" id=\"f10ash3i23cx8o\" width=\"300%\" x=\"-1\" y=\"-1\"><feGaussianBlur result=\"blurOut\" stdDeviation=\"2.0\"/><feColorMatrix in=\"blurOut\" result=\"blurOut2\" type=\"matrix\" values=\"0 0 0 0 0 0 0 0 0 0 0 0 0 0 0 0 0 0 .4 0\"/><feOffset dx=\"4.0\" dy=\"4.0\" in=\"blurOut2\" result=\"blurOut3\"/><feBlend in=\"SourceGraphic\" in2=\"blurOut3\" mode=\"normal\"/></filter></defs><g><!--MD5=[fbc87193dbaf4d95561dea2c320d4a47]\n",
       "cluster E1--><a href=\"psysml:d6589951-d792-47be-8c0b-0f7f96c74b54\" target=\"_top\" title=\"psysml:d6589951-d792-47be-8c0b-0f7f96c74b54\" xlink:actuate=\"onRequest\" xlink:href=\"psysml:d6589951-d792-47be-8c0b-0f7f96c74b54\" xlink:show=\"new\" xlink:title=\"psysml:d6589951-d792-47be-8c0b-0f7f96c74b54\" xlink:type=\"simple\"><polygon fill=\"#FFFFFF\" filter=\"url(#f10ash3i23cx8o)\" points=\"16,6,196,6,203,28.2969,357,28.2969,357,177,16,177,16,6\" style=\"stroke: #000000; stroke-width: 1.5;\"/><line style=\"stroke: #000000; stroke-width: 1.5;\" x1=\"16\" x2=\"203\" y1=\"28.2969\" y2=\"28.2969\"/><text fill=\"#000000\" font-family=\"sans-serif\" font-size=\"14\" font-weight=\"bold\" lengthAdjust=\"spacingAndGlyphs\" textLength=\"174\" x=\"20\" y=\"20.9951\">QualifiedNameImportTest</text></a><!--MD5=[e4f7fae6ed58524ba242bb0b0d3be6b7]\n",
       "cluster E2--><a href=\"psysml:4f86bdc9-c02e-4b3c-80e5-19e64e9caefb\" target=\"_top\" title=\"psysml:4f86bdc9-c02e-4b3c-80e5-19e64e9caefb\" xlink:actuate=\"onRequest\" xlink:href=\"psysml:4f86bdc9-c02e-4b3c-80e5-19e64e9caefb\" xlink:show=\"new\" xlink:title=\"psysml:4f86bdc9-c02e-4b3c-80e5-19e64e9caefb\" xlink:type=\"simple\"><polygon fill=\"#FFFFFF\" filter=\"url(#f10ash3i23cx8o)\" points=\"227,54,251,54,258,76.2969,333,76.2969,333,148,227,148,227,54\" style=\"stroke: #000000; stroke-width: 1.5;\"/><line style=\"stroke: #000000; stroke-width: 1.5;\" x1=\"227\" x2=\"258\" y1=\"76.2969\" y2=\"76.2969\"/><text fill=\"#000000\" font-family=\"sans-serif\" font-size=\"14\" font-weight=\"bold\" lengthAdjust=\"spacingAndGlyphs\" textLength=\"18\" x=\"231\" y=\"68.9951\">P1</text></a><!--MD5=[f6df4d0ebaf0b5dfb2ced0ae5af7c670]\n",
       "cluster E4--><a href=\"psysml:eca2a432-2e72-4cdf-a8b0-841fc7787b6c\" target=\"_top\" title=\"psysml:eca2a432-2e72-4cdf-a8b0-841fc7787b6c\" xlink:actuate=\"onRequest\" xlink:href=\"psysml:eca2a432-2e72-4cdf-a8b0-841fc7787b6c\" xlink:show=\"new\" xlink:title=\"psysml:eca2a432-2e72-4cdf-a8b0-841fc7787b6c\" xlink:type=\"simple\"><polygon fill=\"#FFFFFF\" filter=\"url(#f10ash3i23cx8o)\" points=\"40,49,64,49,71,71.2969,203,71.2969,203,153,40,153,40,49\" style=\"stroke: #000000; stroke-width: 1.5;\"/><line style=\"stroke: #000000; stroke-width: 1.5;\" x1=\"40\" x2=\"71\" y1=\"71.2969\" y2=\"71.2969\"/><text fill=\"#000000\" font-family=\"sans-serif\" font-size=\"14\" font-weight=\"bold\" lengthAdjust=\"spacingAndGlyphs\" textLength=\"18\" x=\"44\" y=\"63.9951\">P2</text></a><g id=\"E1.E2.E3\"><a href=\"psysml:0e402542-8392-49a3-8c29-2ec692a245e7\" target=\"_top\" title=\"psysml:0e402542-8392-49a3-8c29-2ec692a245e7\" xlink:actuate=\"onRequest\" xlink:href=\"psysml:0e402542-8392-49a3-8c29-2ec692a245e7\" xlink:show=\"new\" xlink:title=\"psysml:0e402542-8392-49a3-8c29-2ec692a245e7\" xlink:type=\"simple\"><rect fill=\"#FEFECE\" filter=\"url(#f10ash3i23cx8o)\" height=\"42.9375\" id=\"E3\" style=\"stroke: #A80036; stroke-width: 1.5;\" width=\"75\" x=\"242.5\" y=\"89\"/><text fill=\"#000000\" font-family=\"sans-serif\" font-size=\"12\" font-style=\"italic\" lengthAdjust=\"spacingAndGlyphs\" textLength=\"68\" x=\"246\" y=\"105.1387\">«part  def»</text><text fill=\"#000000\" font-family=\"sans-serif\" font-size=\"12\" lengthAdjust=\"spacingAndGlyphs\" textLength=\"8\" x=\"276\" y=\"119.1074\">A</text></a></g><a href=\"psysml:c8033d1b-23e3-49c1-96df-e9838fdb206a\" target=\"_top\" title=\"psysml:c8033d1b-23e3-49c1-96df-e9838fdb206a\" xlink:actuate=\"onRequest\" xlink:href=\"psysml:c8033d1b-23e3-49c1-96df-e9838fdb206a\" xlink:show=\"new\" xlink:title=\"psysml:c8033d1b-23e3-49c1-96df-e9838fdb206a\" xlink:type=\"simple\"><polygon fill=\"#FFFFFF\" filter=\"url(#f10ash3i23cx8o)\" points=\"141,84,173,84,180,106.2969,187,106.2969,187,136.5938,141,136.5938,141,84\" style=\"stroke: #000000; stroke-width: 1.5;\"/><line style=\"stroke: #000000; stroke-width: 1.5;\" x1=\"141\" x2=\"180\" y1=\"106.2969\" y2=\"106.2969\"/><text fill=\"#000000\" font-family=\"sans-serif\" font-size=\"14\" font-weight=\"bold\" lengthAdjust=\"spacingAndGlyphs\" textLength=\"26\" x=\"145\" y=\"98.9951\">P2a</text></a><g id=\"E1.E4.E6\"><a href=\"psysml:79981dbc-2c5c-48be-a1ca-65e6b97acee9\" target=\"_top\" title=\"psysml:79981dbc-2c5c-48be-a1ca-65e6b97acee9\" xlink:actuate=\"onRequest\" xlink:href=\"psysml:79981dbc-2c5c-48be-a1ca-65e6b97acee9\" xlink:show=\"new\" xlink:title=\"psysml:79981dbc-2c5c-48be-a1ca-65e6b97acee9\" xlink:type=\"simple\"><rect fill=\"#FEFECE\" filter=\"url(#f10ash3i23cx8o)\" height=\"40\" id=\"E6\" rx=\"10\" ry=\"10\" style=\"stroke: #A80036; stroke-width: 1.5;\" width=\"50\" x=\"56\" y=\"90.5\"/><text fill=\"#000000\" font-family=\"sans-serif\" font-size=\"12\" lengthAdjust=\"spacingAndGlyphs\" textLength=\"22\" x=\"70\" y=\"106.6387\">x: A</text></a></g><!--MD5=[5d0da96b5f69759f9a0eb82787fd51f9]\n",
       "@startuml\r\n",
       "skinparam ranksep 10\r\n",
       "skinparam rectangle {\r\n",
       " backgroundColor<<block>> LightGreen\r\n",
       "}\r\n",
       "skinparam wrapWidth 300\r\n",
       "hide circle\r\n",
       "\r\n",
       "package \"QualifiedNameImportTest\" as E1  [[psysml:d6589951-d792-47be-8c0b-0f7f96c74b54 ]]  {\r\n",
       "package \"P1\" as E2  [[psysml:4f86bdc9-c02e-4b3c-80e5-19e64e9caefb ]]  {\r\n",
       "rec def \"A\" as E3  <<(T,blue) part  def>> [[psysml:0e402542-8392-49a3-8c29-2ec692a245e7 ]] {\r\n",
       "}\r\n",
       "}\r\n",
       "package \"P2\" as E4  [[psysml:eca2a432-2e72-4cdf-a8b0-841fc7787b6c ]]  {\r\n",
       "package \"P2a\" as E5  [[psysml:c8033d1b-23e3-49c1-96df-e9838fdb206a ]]  {\r\n",
       "}\r\n",
       "rec usage \"x: A\" as E6  [[psysml:79981dbc-2c5c-48be-a1ca-65e6b97acee9 ]] {\r\n",
       "}\r\n",
       "}\r\n",
       "}\r\n",
       "@enduml\r\n",
       "\n",
       "PlantUML version 1.2020.13(Sat Jun 13 12:26:38 UTC 2020)\n",
       "(EPL source distribution)\n",
       "Java Runtime: OpenJDK Runtime Environment\n",
       "JVM: OpenJDK 64-Bit Server VM\n",
       "Default Encoding: UTF-8\n",
       "Language: en\n",
       "Country: null\n",
       "--></g></svg>"
      ]
     },
     "execution_count": 26,
     "metadata": {},
     "output_type": "execute_result"
    }
   ],
   "source": [
    "%viz --style=\"STDCOLOR\" --view=\"Interconnection\" \"QualifiedNameImportTest\""
   ]
  },
  {
   "cell_type": "code",
   "execution_count": 27,
   "id": "41d5edf5",
   "metadata": {
    "execution": {
     "iopub.execute_input": "2021-11-13T13:01:04.726642Z",
     "iopub.status.busy": "2021-11-13T13:01:04.726244Z",
     "iopub.status.idle": "2021-11-13T13:01:04.731316Z",
     "shell.execute_reply": "2021-11-13T13:01:04.731625Z"
    }
   },
   "outputs": [
    {
     "data": {
      "image/svg+xml": [
       "<?xml version=\"1.0\" encoding=\"UTF-8\" standalone=\"no\"?><svg xmlns=\"http://www.w3.org/2000/svg\" xmlns:xlink=\"http://www.w3.org/1999/xlink\" contentScriptType=\"application/ecmascript\" contentStyleType=\"text/css\" height=\"12px\" preserveAspectRatio=\"none\" style=\"width:12px;height:12px;\" version=\"1.1\" viewBox=\"0 0 12 12\" width=\"12px\" zoomAndPan=\"magnify\"><defs/><g><!--MD5=[9863325348a96a77dacc89509d8ee65e]\n",
       "@startuml\r\n",
       "skinparam ranksep 8\r\n",
       "skinparam wrapWidth 300\r\n",
       "hide circle\r\n",
       "\r\n",
       "@enduml\r\n",
       "\n",
       "PlantUML version 1.2020.13(Sat Jun 13 12:26:38 UTC 2020)\n",
       "(EPL source distribution)\n",
       "Java Runtime: OpenJDK Runtime Environment\n",
       "JVM: OpenJDK 64-Bit Server VM\n",
       "Default Encoding: UTF-8\n",
       "Language: en\n",
       "Country: null\n",
       "--></g></svg>"
      ]
     },
     "execution_count": 27,
     "metadata": {},
     "output_type": "execute_result"
    }
   ],
   "source": [
    "%viz --style=\"STDCOLOR\" --view=\"Action\" \"QualifiedNameImportTest\""
   ]
  },
  {
   "cell_type": "code",
   "execution_count": 28,
   "id": "9d5d84ba",
   "metadata": {
    "execution": {
     "iopub.execute_input": "2021-11-13T13:01:04.781342Z",
     "iopub.status.busy": "2021-11-13T13:01:04.780945Z",
     "iopub.status.idle": "2021-11-13T13:01:04.786478Z",
     "shell.execute_reply": "2021-11-13T13:01:04.786787Z"
    }
   },
   "outputs": [
    {
     "data": {
      "image/svg+xml": [
       "<?xml version=\"1.0\" encoding=\"UTF-8\" standalone=\"no\"?><svg xmlns=\"http://www.w3.org/2000/svg\" xmlns:xlink=\"http://www.w3.org/1999/xlink\" contentScriptType=\"application/ecmascript\" contentStyleType=\"text/css\" height=\"12px\" preserveAspectRatio=\"none\" style=\"width:12px;height:12px;\" version=\"1.1\" viewBox=\"0 0 12 12\" width=\"12px\" zoomAndPan=\"magnify\"><defs/><g><!--MD5=[6c4bca67b4d71758159a5a7f1f1e1fc2]\n",
       "@startuml\r\n",
       "skinparam roundcorner 20\r\n",
       "skinparam BoxPadding 20\r\n",
       "skinparam SequenceBoxBackgroundColor #white\r\n",
       "skinparam style strictuml\r\n",
       "skinparam maxMessageSize 100\r\n",
       "skinparam wrapWidth 300\r\n",
       "hide circle\r\n",
       "\r\n",
       "@enduml\r\n",
       "\n",
       "PlantUML version 1.2020.13(Sat Jun 13 12:26:38 UTC 2020)\n",
       "(EPL source distribution)\n",
       "Java Runtime: OpenJDK Runtime Environment\n",
       "JVM: OpenJDK 64-Bit Server VM\n",
       "Default Encoding: UTF-8\n",
       "Language: en\n",
       "Country: null\n",
       "--></g></svg>"
      ]
     },
     "execution_count": 28,
     "metadata": {},
     "output_type": "execute_result"
    }
   ],
   "source": [
    "%viz --style=\"STDCOLOR\" --view=\"Sequence\" \"QualifiedNameImportTest\""
   ]
  },
  {
   "cell_type": "code",
   "execution_count": 29,
   "id": "b9d5b12d",
   "metadata": {
    "execution": {
     "iopub.execute_input": "2021-11-13T13:01:04.836560Z",
     "iopub.status.busy": "2021-11-13T13:01:04.836169Z",
     "iopub.status.idle": "2021-11-13T13:01:04.872305Z",
     "shell.execute_reply": "2021-11-13T13:01:04.871945Z"
    }
   },
   "outputs": [
    {
     "data": {
      "image/svg+xml": [
       "<?xml version=\"1.0\" encoding=\"UTF-8\" standalone=\"no\"?><svg xmlns=\"http://www.w3.org/2000/svg\" xmlns:xlink=\"http://www.w3.org/1999/xlink\" contentScriptType=\"application/ecmascript\" contentStyleType=\"text/css\" height=\"310px\" preserveAspectRatio=\"none\" style=\"width:241px;height:310px;\" version=\"1.1\" viewBox=\"0 0 241 310\" width=\"241px\" zoomAndPan=\"magnify\"><defs><filter height=\"300%\" id=\"f3j2syyezyuqs\" width=\"300%\" x=\"-1\" y=\"-1\"><feGaussianBlur result=\"blurOut\" stdDeviation=\"2.0\"/><feColorMatrix in=\"blurOut\" result=\"blurOut2\" type=\"matrix\" values=\"0 0 0 0 0 0 0 0 0 0 0 0 0 0 0 0 0 0 .4 0\"/><feOffset dx=\"4.0\" dy=\"4.0\" in=\"blurOut2\" result=\"blurOut3\"/><feBlend in=\"SourceGraphic\" in2=\"blurOut3\" mode=\"normal\"/></filter></defs><g><!--MD5=[fbc87193dbaf4d95561dea2c320d4a47]\n",
       "cluster E1--><a href=\"psysml:d6589951-d792-47be-8c0b-0f7f96c74b54\" target=\"_top\" title=\"psysml:d6589951-d792-47be-8c0b-0f7f96c74b54\" xlink:actuate=\"onRequest\" xlink:href=\"psysml:d6589951-d792-47be-8c0b-0f7f96c74b54\" xlink:show=\"new\" xlink:title=\"psysml:d6589951-d792-47be-8c0b-0f7f96c74b54\" xlink:type=\"simple\"><polygon fill=\"#FFFFFF\" filter=\"url(#f3j2syyezyuqs)\" points=\"16,6,196,6,203,28.2969,219,28.2969,219,298,16,298,16,6\" style=\"stroke: #000000; stroke-width: 1.5;\"/><line style=\"stroke: #000000; stroke-width: 1.5;\" x1=\"16\" x2=\"203\" y1=\"28.2969\" y2=\"28.2969\"/><text fill=\"#000000\" font-family=\"sans-serif\" font-size=\"14\" font-weight=\"bold\" lengthAdjust=\"spacingAndGlyphs\" textLength=\"174\" x=\"20\" y=\"20.9951\">QualifiedNameImportTest</text></a><!--MD5=[e4f7fae6ed58524ba242bb0b0d3be6b7]\n",
       "cluster E2--><a href=\"psysml:4f86bdc9-c02e-4b3c-80e5-19e64e9caefb\" target=\"_top\" title=\"psysml:4f86bdc9-c02e-4b3c-80e5-19e64e9caefb\" xlink:actuate=\"onRequest\" xlink:href=\"psysml:4f86bdc9-c02e-4b3c-80e5-19e64e9caefb\" xlink:show=\"new\" xlink:title=\"psysml:4f86bdc9-c02e-4b3c-80e5-19e64e9caefb\" xlink:type=\"simple\"><polygon fill=\"#FFFFFF\" filter=\"url(#f3j2syyezyuqs)\" points=\"93,177,117,177,124,199.2969,195,199.2969,195,274,93,274,93,177\" style=\"stroke: #000000; stroke-width: 1.5;\"/><line style=\"stroke: #000000; stroke-width: 1.5;\" x1=\"93\" x2=\"124\" y1=\"199.2969\" y2=\"199.2969\"/><text fill=\"#000000\" font-family=\"sans-serif\" font-size=\"14\" font-weight=\"bold\" lengthAdjust=\"spacingAndGlyphs\" textLength=\"18\" x=\"97\" y=\"191.9951\">P1</text></a><!--MD5=[f6df4d0ebaf0b5dfb2ced0ae5af7c670]\n",
       "cluster E4--><a href=\"psysml:eca2a432-2e72-4cdf-a8b0-841fc7787b6c\" target=\"_top\" title=\"psysml:eca2a432-2e72-4cdf-a8b0-841fc7787b6c\" xlink:actuate=\"onRequest\" xlink:href=\"psysml:eca2a432-2e72-4cdf-a8b0-841fc7787b6c\" xlink:show=\"new\" xlink:title=\"psysml:eca2a432-2e72-4cdf-a8b0-841fc7787b6c\" xlink:type=\"simple\"><polygon fill=\"#FFFFFF\" filter=\"url(#f3j2syyezyuqs)\" points=\"40,49,64,49,71,71.2969,195,71.2969,195,153,40,153,40,49\" style=\"stroke: #000000; stroke-width: 1.5;\"/><line style=\"stroke: #000000; stroke-width: 1.5;\" x1=\"40\" x2=\"71\" y1=\"71.2969\" y2=\"71.2969\"/><text fill=\"#000000\" font-family=\"sans-serif\" font-size=\"14\" font-weight=\"bold\" lengthAdjust=\"spacingAndGlyphs\" textLength=\"18\" x=\"44\" y=\"63.9951\">P2</text></a><!--MD5=[09b614a08d8cba4a07c9adeb5e0fee81]\n",
       "class E3--><a href=\"psysml:0e402542-8392-49a3-8c29-2ec692a245e7\" target=\"_top\" title=\"psysml:0e402542-8392-49a3-8c29-2ec692a245e7\" xlink:actuate=\"onRequest\" xlink:href=\"psysml:0e402542-8392-49a3-8c29-2ec692a245e7\" xlink:show=\"new\" xlink:title=\"psysml:0e402542-8392-49a3-8c29-2ec692a245e7\" xlink:type=\"simple\"><rect fill=\"#FEFECE\" filter=\"url(#f3j2syyezyuqs)\" height=\"45.9375\" id=\"E3\" style=\"stroke: #A80036; stroke-width: 1.5;\" width=\"70\" x=\"109\" y=\"212\"/><text fill=\"#000000\" font-family=\"sans-serif\" font-size=\"12\" font-style=\"italic\" lengthAdjust=\"spacingAndGlyphs\" textLength=\"68\" x=\"110\" y=\"228.1387\">«part  def»</text><text fill=\"#000000\" font-family=\"sans-serif\" font-size=\"12\" lengthAdjust=\"spacingAndGlyphs\" textLength=\"8\" x=\"140\" y=\"242.1074\">A</text><line style=\"stroke: #A80036; stroke-width: 1.5;\" x1=\"110\" x2=\"178\" y1=\"249.9375\" y2=\"249.9375\"/></a><!--MD5=[60a26617385b1d2d0262a64233df1f8d]\n",
       "class E6--><a href=\"psysml:79981dbc-2c5c-48be-a1ca-65e6b97acee9\" target=\"_top\" title=\"psysml:79981dbc-2c5c-48be-a1ca-65e6b97acee9\" xlink:actuate=\"onRequest\" xlink:href=\"psysml:79981dbc-2c5c-48be-a1ca-65e6b97acee9\" xlink:show=\"new\" xlink:title=\"psysml:79981dbc-2c5c-48be-a1ca-65e6b97acee9\" xlink:type=\"simple\"><rect fill=\"#FEFECE\" filter=\"url(#f3j2syyezyuqs)\" height=\"45.9375\" id=\"E6\" rx=\"10\" ry=\"10\" style=\"stroke: #A80036; stroke-width: 1.5;\" width=\"42\" x=\"137\" y=\"87.5\"/><text fill=\"#000000\" font-family=\"sans-serif\" font-size=\"12\" font-style=\"italic\" lengthAdjust=\"spacingAndGlyphs\" textLength=\"40\" x=\"138\" y=\"103.6387\">«part»</text><text fill=\"#000000\" font-family=\"sans-serif\" font-size=\"12\" lengthAdjust=\"spacingAndGlyphs\" textLength=\"22\" x=\"145\" y=\"117.6074\">x: A</text><line style=\"stroke: #A80036; stroke-width: 1.5;\" x1=\"138\" x2=\"178\" y1=\"125.4375\" y2=\"125.4375\"/></a><a href=\"psysml:c8033d1b-23e3-49c1-96df-e9838fdb206a\" target=\"_top\" title=\"psysml:c8033d1b-23e3-49c1-96df-e9838fdb206a\" xlink:actuate=\"onRequest\" xlink:href=\"psysml:c8033d1b-23e3-49c1-96df-e9838fdb206a\" xlink:show=\"new\" xlink:title=\"psysml:c8033d1b-23e3-49c1-96df-e9838fdb206a\" xlink:type=\"simple\"><polygon fill=\"#FFFFFF\" filter=\"url(#f3j2syyezyuqs)\" points=\"56,84,88,84,95,106.2969,102,106.2969,102,136.5938,56,136.5938,56,84\" style=\"stroke: #000000; stroke-width: 1.5;\"/><line style=\"stroke: #000000; stroke-width: 1.5;\" x1=\"56\" x2=\"95\" y1=\"106.2969\" y2=\"106.2969\"/><text fill=\"#000000\" font-family=\"sans-serif\" font-size=\"14\" font-weight=\"bold\" lengthAdjust=\"spacingAndGlyphs\" textLength=\"26\" x=\"60\" y=\"98.9951\">P2a</text></a><!--MD5=[a717450b82c80b9240a525fa862496af]\n",
       "link E6 to E3--><a href=\"psysml:c58b2e1b-d15c-43ed-8c88-ba21dc2bc4d9\" target=\"_top\" title=\"psysml:c58b2e1b-d15c-43ed-8c88-ba21dc2bc4d9\" xlink:actuate=\"onRequest\" xlink:href=\"psysml:c58b2e1b-d15c-43ed-8c88-ba21dc2bc4d9\" xlink:show=\"new\" xlink:title=\"psysml:c58b2e1b-d15c-43ed-8c88-ba21dc2bc4d9\" xlink:type=\"simple\"><path d=\"M155.46,133.68 C153.61,149.9 151.04,172.39 148.8,191.96 \" fill=\"none\" id=\"E6-&gt;E3\" style=\"stroke: #A80036; stroke-width: 1.0;\"/><polygon fill=\"#FFFFFF\" points=\"146.52,211.98,141.7231,192.308,155.6325,193.8979,146.52,211.98\" style=\"stroke: #A80036; stroke-width: 1.0;\"/><ellipse cx=\"144.3574\" cy=\"186.872\" fill=\"#A80036\" rx=\"2\" ry=\"2\" style=\"stroke: #A80036; stroke-width: 1.0;\"/><ellipse cx=\"154.2928\" cy=\"188.0076\" fill=\"#A80036\" rx=\"2\" ry=\"2\" style=\"stroke: #A80036; stroke-width: 1.0;\"/></a><!--MD5=[45d4248ed092f26c1842bd25a4b33f94]\n",
       "@startuml\r\n",
       "skinparam wrapWidth 300\r\n",
       "hide circle\r\n",
       "\r\n",
       "package \"QualifiedNameImportTest\" as E1  [[psysml:d6589951-d792-47be-8c0b-0f7f96c74b54 ]]  {\r\n",
       "package \"P1\" as E2  [[psysml:4f86bdc9-c02e-4b3c-80e5-19e64e9caefb ]]  {\r\n",
       "comp def \"A\" as E3  <<(T,blue) part  def>> [[psysml:0e402542-8392-49a3-8c29-2ec692a245e7 ]] {\r\n",
       "}\r\n",
       "}\r\n",
       "package \"P2\" as E4  [[psysml:eca2a432-2e72-4cdf-a8b0-841fc7787b6c ]]  {\r\n",
       "package \"P2a\" as E5  [[psysml:c8033d1b-23e3-49c1-96df-e9838fdb206a ]]  {\r\n",
       "}\r\n",
       "comp usage \"x: A \" as E6  <<(T,blue) part>> [[psysml:79981dbc-2c5c-48be-a1ca-65e6b97acee9 ]] {\r\n",
       "}\r\n",
       "}\r\n",
       "}\r\n",
       "E6 - -:|> E3 [[psysml:c58b2e1b-d15c-43ed-8c88-ba21dc2bc4d9 ]] \r\n",
       "@enduml\r\n",
       "\n",
       "PlantUML version 1.2020.13(Sat Jun 13 12:26:38 UTC 2020)\n",
       "(EPL source distribution)\n",
       "Java Runtime: OpenJDK Runtime Environment\n",
       "JVM: OpenJDK 64-Bit Server VM\n",
       "Default Encoding: UTF-8\n",
       "Language: en\n",
       "Country: null\n",
       "--></g></svg>"
      ]
     },
     "execution_count": 29,
     "metadata": {},
     "output_type": "execute_result"
    }
   ],
   "source": [
    "%viz --style=\"STDCOLOR\" --view=\"MIXED\" \"QualifiedNameImportTest\""
   ]
  },
  {
   "cell_type": "code",
   "execution_count": 30,
   "id": "1ca4b76b",
   "metadata": {
    "execution": {
     "iopub.execute_input": "2021-11-13T13:01:04.921788Z",
     "iopub.status.busy": "2021-11-13T13:01:04.921392Z",
     "iopub.status.idle": "2021-11-13T13:01:04.977378Z",
     "shell.execute_reply": "2021-11-13T13:01:04.977674Z"
    }
   },
   "outputs": [
    {
     "data": {
      "image/svg+xml": [
       "<?xml version=\"1.0\" encoding=\"UTF-8\" standalone=\"no\"?><svg xmlns=\"http://www.w3.org/2000/svg\" xmlns:xlink=\"http://www.w3.org/1999/xlink\" contentScriptType=\"application/ecmascript\" contentStyleType=\"text/css\" height=\"304px\" preserveAspectRatio=\"none\" style=\"width:267px;height:304px;\" version=\"1.1\" viewBox=\"0 0 267 304\" width=\"267px\" zoomAndPan=\"magnify\"><defs><filter height=\"300%\" id=\"f4b6eid5cb8l4\" width=\"300%\" x=\"-1\" y=\"-1\"><feGaussianBlur result=\"blurOut\" stdDeviation=\"2.0\"/><feColorMatrix in=\"blurOut\" result=\"blurOut2\" type=\"matrix\" values=\"0 0 0 0 0 0 0 0 0 0 0 0 0 0 0 0 0 0 .4 0\"/><feOffset dx=\"4.0\" dy=\"4.0\" in=\"blurOut2\" result=\"blurOut3\"/><feBlend in=\"SourceGraphic\" in2=\"blurOut3\" mode=\"normal\"/></filter></defs><g><!--MD5=[fbc87193dbaf4d95561dea2c320d4a47]\n",
       "cluster E1--><a href=\"psysml:d6589951-d792-47be-8c0b-0f7f96c74b54\" target=\"_top\" title=\"psysml:d6589951-d792-47be-8c0b-0f7f96c74b54\" xlink:actuate=\"onRequest\" xlink:href=\"psysml:d6589951-d792-47be-8c0b-0f7f96c74b54\" xlink:show=\"new\" xlink:title=\"psysml:d6589951-d792-47be-8c0b-0f7f96c74b54\" xlink:type=\"simple\"><polygon fill=\"#FFFFFF\" filter=\"url(#f4b6eid5cb8l4)\" points=\"16,6,196,6,203,28.2969,245,28.2969,245,292,16,292,16,6\" style=\"stroke: #000000; stroke-width: 1.5;\"/><line style=\"stroke: #000000; stroke-width: 1.5;\" x1=\"16\" x2=\"203\" y1=\"28.2969\" y2=\"28.2969\"/><text fill=\"#000000\" font-family=\"sans-serif\" font-size=\"14\" font-weight=\"bold\" lengthAdjust=\"spacingAndGlyphs\" textLength=\"174\" x=\"20\" y=\"20.9951\">QualifiedNameImportTest</text></a><!--MD5=[e4f7fae6ed58524ba242bb0b0d3be6b7]\n",
       "cluster E2--><a href=\"psysml:4f86bdc9-c02e-4b3c-80e5-19e64e9caefb\" target=\"_top\" title=\"psysml:4f86bdc9-c02e-4b3c-80e5-19e64e9caefb\" xlink:actuate=\"onRequest\" xlink:href=\"psysml:4f86bdc9-c02e-4b3c-80e5-19e64e9caefb\" xlink:show=\"new\" xlink:title=\"psysml:4f86bdc9-c02e-4b3c-80e5-19e64e9caefb\" xlink:type=\"simple\"><polygon fill=\"#FFFFFF\" filter=\"url(#f4b6eid5cb8l4)\" points=\"135,177,159,177,166,199.2969,207,199.2969,207,268,135,268,135,177\" style=\"stroke: #000000; stroke-width: 1.5;\"/><line style=\"stroke: #000000; stroke-width: 1.5;\" x1=\"135\" x2=\"166\" y1=\"199.2969\" y2=\"199.2969\"/><text fill=\"#000000\" font-family=\"sans-serif\" font-size=\"14\" font-weight=\"bold\" lengthAdjust=\"spacingAndGlyphs\" textLength=\"18\" x=\"139\" y=\"191.9951\">P1</text></a><!--MD5=[f6df4d0ebaf0b5dfb2ced0ae5af7c670]\n",
       "cluster E4--><a href=\"psysml:eca2a432-2e72-4cdf-a8b0-841fc7787b6c\" target=\"_top\" title=\"psysml:eca2a432-2e72-4cdf-a8b0-841fc7787b6c\" xlink:actuate=\"onRequest\" xlink:href=\"psysml:eca2a432-2e72-4cdf-a8b0-841fc7787b6c\" xlink:show=\"new\" xlink:title=\"psysml:eca2a432-2e72-4cdf-a8b0-841fc7787b6c\" xlink:type=\"simple\"><polygon fill=\"#FFFFFF\" filter=\"url(#f4b6eid5cb8l4)\" points=\"40,49,64,49,71,71.2969,221,71.2969,221,153,40,153,40,49\" style=\"stroke: #000000; stroke-width: 1.5;\"/><line style=\"stroke: #000000; stroke-width: 1.5;\" x1=\"40\" x2=\"71\" y1=\"71.2969\" y2=\"71.2969\"/><text fill=\"#000000\" font-family=\"sans-serif\" font-size=\"14\" font-weight=\"bold\" lengthAdjust=\"spacingAndGlyphs\" textLength=\"18\" x=\"44\" y=\"63.9951\">P2</text></a><!--MD5=[09b614a08d8cba4a07c9adeb5e0fee81]\n",
       "class E3--><a href=\"psysml:0e402542-8392-49a3-8c29-2ec692a245e7\" target=\"_top\" title=\"psysml:0e402542-8392-49a3-8c29-2ec692a245e7\" xlink:actuate=\"onRequest\" xlink:href=\"psysml:0e402542-8392-49a3-8c29-2ec692a245e7\" xlink:show=\"new\" xlink:title=\"psysml:0e402542-8392-49a3-8c29-2ec692a245e7\" xlink:type=\"simple\"><rect fill=\"#FEFECE\" filter=\"url(#f4b6eid5cb8l4)\" height=\"40\" id=\"E3\" style=\"stroke: #A80036; stroke-width: 1.5;\" width=\"40\" x=\"151\" y=\"212\"/><ellipse cx=\"166\" cy=\"228\" fill=\"#008000\" rx=\"11\" ry=\"11\" style=\"stroke: #A80036; stroke-width: 1.0;\"/><path d=\"M162.875,233 L162.875,222.4063 L166.1094,222.4063 Q168.0156,222.4063 168.9219,223.1563 Q169.8438,223.9063 169.8438,225.0781 Q169.8438,225.7656 169.4531,226.4219 Q169.0781,227.0781 168.3594,227.375 Q169.2188,227.75 169.7344,228.4375 Q170.25,229.125 170.25,229.9375 Q170.25,231.3125 169.2188,232.1563 Q168.2031,233 166.0938,233 L162.875,233 Z M164.7969,226.6406 L165.9531,226.6406 Q167.0781,226.6406 167.4844,226.2656 Q167.9063,225.875 167.9063,225.25 Q167.9063,224.6719 167.4844,224.3125 Q167.0625,223.9531 166.125,223.9531 L164.7969,223.9531 L164.7969,226.6406 Z M164.7969,231.4219 L166.2969,231.4219 Q167.2031,231.4219 167.7344,231.0313 Q168.2656,230.6406 168.2656,229.8906 Q168.2656,229.125 167.7656,228.6563 Q167.2656,228.1719 166,228.1719 L164.7969,228.1719 L164.7969,231.4219 Z \"/><text fill=\"#000000\" font-family=\"sans-serif\" font-size=\"12\" lengthAdjust=\"spacingAndGlyphs\" textLength=\"8\" x=\"180\" y=\"232.1543\">A</text><line style=\"stroke: #A80036; stroke-width: 1.5;\" x1=\"152\" x2=\"190\" y1=\"244\" y2=\"244\"/></a><!--MD5=[60a26617385b1d2d0262a64233df1f8d]\n",
       "class E6--><a href=\"psysml:79981dbc-2c5c-48be-a1ca-65e6b97acee9\" target=\"_top\" title=\"psysml:79981dbc-2c5c-48be-a1ca-65e6b97acee9\" xlink:actuate=\"onRequest\" xlink:href=\"psysml:79981dbc-2c5c-48be-a1ca-65e6b97acee9\" xlink:show=\"new\" xlink:title=\"psysml:79981dbc-2c5c-48be-a1ca-65e6b97acee9\" xlink:type=\"simple\"><rect fill=\"#FEFECE\" filter=\"url(#f4b6eid5cb8l4)\" height=\"45.9375\" id=\"E6\" rx=\"10\" ry=\"10\" style=\"stroke: #A80036; stroke-width: 1.5;\" width=\"68\" x=\"137\" y=\"87.5\"/><ellipse cx=\"152\" cy=\"106.4688\" fill=\"#32CD32\" rx=\"11\" ry=\"11\" style=\"stroke: #A80036; stroke-width: 1.0;\"/><path d=\"M148.8125,111.4688 L148.8125,100.875 L152.4219,100.875 Q153.6406,100.875 154.4375,101.3125 Q155.2344,101.7344 155.6094,102.4375 Q156,103.1406 156,103.9844 Q156,104.8281 155.625,105.5156 Q155.2656,106.2031 154.4688,106.625 Q153.6875,107.0313 152.5,107.0313 L150.7656,107.0313 L150.7656,111.4688 L148.8125,111.4688 Z M150.7656,105.4375 L152.375,105.4375 Q153.1875,105.4375 153.6094,105.0313 Q154.0313,104.625 154.0313,103.9844 Q154.0313,103.3594 153.6094,102.9531 Q153.1875,102.5469 152.3906,102.5469 L150.7656,102.5469 L150.7656,105.4375 Z \"/><text fill=\"#000000\" font-family=\"sans-serif\" font-size=\"12\" font-style=\"italic\" lengthAdjust=\"spacingAndGlyphs\" textLength=\"40\" x=\"164\" y=\"103.6387\">«part»</text><text fill=\"#000000\" font-family=\"sans-serif\" font-size=\"12\" lengthAdjust=\"spacingAndGlyphs\" textLength=\"22\" x=\"171\" y=\"117.6074\">x: A</text><line style=\"stroke: #A80036; stroke-width: 1.5;\" x1=\"138\" x2=\"204\" y1=\"125.4375\" y2=\"125.4375\"/></a><a href=\"psysml:c8033d1b-23e3-49c1-96df-e9838fdb206a\" target=\"_top\" title=\"psysml:c8033d1b-23e3-49c1-96df-e9838fdb206a\" xlink:actuate=\"onRequest\" xlink:href=\"psysml:c8033d1b-23e3-49c1-96df-e9838fdb206a\" xlink:show=\"new\" xlink:title=\"psysml:c8033d1b-23e3-49c1-96df-e9838fdb206a\" xlink:type=\"simple\"><polygon fill=\"#FFFFFF\" filter=\"url(#f4b6eid5cb8l4)\" points=\"56,84,88,84,95,106.2969,102,106.2969,102,136.5938,56,136.5938,56,84\" style=\"stroke: #000000; stroke-width: 1.5;\"/><line style=\"stroke: #000000; stroke-width: 1.5;\" x1=\"56\" x2=\"95\" y1=\"106.2969\" y2=\"106.2969\"/><text fill=\"#000000\" font-family=\"sans-serif\" font-size=\"14\" font-weight=\"bold\" lengthAdjust=\"spacingAndGlyphs\" textLength=\"26\" x=\"60\" y=\"98.9951\">P2a</text></a><!--MD5=[a717450b82c80b9240a525fa862496af]\n",
       "link E6 to E3--><a href=\"psysml:c58b2e1b-d15c-43ed-8c88-ba21dc2bc4d9\" target=\"_top\" title=\"psysml:c58b2e1b-d15c-43ed-8c88-ba21dc2bc4d9\" xlink:actuate=\"onRequest\" xlink:href=\"psysml:c58b2e1b-d15c-43ed-8c88-ba21dc2bc4d9\" xlink:show=\"new\" xlink:title=\"psysml:c58b2e1b-d15c-43ed-8c88-ba21dc2bc4d9\" xlink:type=\"simple\"><path d=\"M171,133.7 C171,149.89 171,172.27 171,191.49 \" fill=\"none\" id=\"E6-&gt;E3\" style=\"stroke: #A80036; stroke-width: 1.0;\"/><polygon fill=\"#FFFFFF\" points=\"171,211.69,164,192.69,178,192.69,171,211.69\" style=\"stroke: #A80036; stroke-width: 1.0;\"/><ellipse cx=\"166\" cy=\"186.99\" fill=\"#A80036\" rx=\"2\" ry=\"2\" style=\"stroke: #A80036; stroke-width: 1.0;\"/><ellipse cx=\"176\" cy=\"186.99\" fill=\"#A80036\" rx=\"2\" ry=\"2\" style=\"stroke: #A80036; stroke-width: 1.0;\"/></a><!--MD5=[eebe322201246469de11ce01c017eb5c]\n",
       "@startuml\r\n",
       " \r\n",
       "package \"QualifiedNameImportTest\" as E1  [[psysml:d6589951-d792-47be-8c0b-0f7f96c74b54 ]]  {\r\n",
       "package \"P1\" as E2  [[psysml:4f86bdc9-c02e-4b3c-80e5-19e64e9caefb ]]  {\r\n",
       "comp def \"A\" as E3 << << (B,green) >> [[psysml:0e402542-8392-49a3-8c29-2ec692a245e7 ]] {\r\n",
       "}\r\n",
       "}\r\n",
       "package \"P2\" as E4  [[psysml:eca2a432-2e72-4cdf-a8b0-841fc7787b6c ]]  {\r\n",
       "package \"P2a\" as E5  [[psysml:c8033d1b-23e3-49c1-96df-e9838fdb206a ]]  {\r\n",
       "}\r\n",
       "comp usage \"x: A \" as E6 << << (P,limegreen) part>> [[psysml:79981dbc-2c5c-48be-a1ca-65e6b97acee9 ]] {\r\n",
       "}\r\n",
       "}\r\n",
       "}\r\n",
       "E6 - -:|> E3 [[psysml:c58b2e1b-d15c-43ed-8c88-ba21dc2bc4d9 ]] \r\n",
       "@enduml\r\n",
       "\n",
       "PlantUML version 1.2020.13(Sat Jun 13 12:26:38 UTC 2020)\n",
       "(EPL source distribution)\n",
       "Java Runtime: OpenJDK Runtime Environment\n",
       "JVM: OpenJDK 64-Bit Server VM\n",
       "Default Encoding: UTF-8\n",
       "Language: en\n",
       "Country: null\n",
       "--></g></svg>"
      ]
     },
     "execution_count": 30,
     "metadata": {},
     "output_type": "execute_result"
    }
   ],
   "source": [
    "%viz --style=\"PLANTUML\" --view=\"Default\" \"QualifiedNameImportTest\""
   ]
  },
  {
   "cell_type": "code",
   "execution_count": 31,
   "id": "68cfbd5d",
   "metadata": {
    "execution": {
     "iopub.execute_input": "2021-11-13T13:01:05.027307Z",
     "iopub.status.busy": "2021-11-13T13:01:05.026906Z",
     "iopub.status.idle": "2021-11-13T13:01:05.052871Z",
     "shell.execute_reply": "2021-11-13T13:01:05.052514Z"
    }
   },
   "outputs": [
    {
     "data": {
      "image/svg+xml": [
       "<?xml version=\"1.0\" encoding=\"UTF-8\" standalone=\"no\"?><svg xmlns=\"http://www.w3.org/2000/svg\" xmlns:xlink=\"http://www.w3.org/1999/xlink\" contentScriptType=\"application/ecmascript\" contentStyleType=\"text/css\" height=\"304px\" preserveAspectRatio=\"none\" style=\"width:267px;height:304px;\" version=\"1.1\" viewBox=\"0 0 267 304\" width=\"267px\" zoomAndPan=\"magnify\"><defs><filter height=\"300%\" id=\"f4b6eid5cb8l4\" width=\"300%\" x=\"-1\" y=\"-1\"><feGaussianBlur result=\"blurOut\" stdDeviation=\"2.0\"/><feColorMatrix in=\"blurOut\" result=\"blurOut2\" type=\"matrix\" values=\"0 0 0 0 0 0 0 0 0 0 0 0 0 0 0 0 0 0 .4 0\"/><feOffset dx=\"4.0\" dy=\"4.0\" in=\"blurOut2\" result=\"blurOut3\"/><feBlend in=\"SourceGraphic\" in2=\"blurOut3\" mode=\"normal\"/></filter></defs><g><!--MD5=[fbc87193dbaf4d95561dea2c320d4a47]\n",
       "cluster E1--><a href=\"psysml:d6589951-d792-47be-8c0b-0f7f96c74b54\" target=\"_top\" title=\"psysml:d6589951-d792-47be-8c0b-0f7f96c74b54\" xlink:actuate=\"onRequest\" xlink:href=\"psysml:d6589951-d792-47be-8c0b-0f7f96c74b54\" xlink:show=\"new\" xlink:title=\"psysml:d6589951-d792-47be-8c0b-0f7f96c74b54\" xlink:type=\"simple\"><polygon fill=\"#FFFFFF\" filter=\"url(#f4b6eid5cb8l4)\" points=\"16,6,196,6,203,28.2969,245,28.2969,245,292,16,292,16,6\" style=\"stroke: #000000; stroke-width: 1.5;\"/><line style=\"stroke: #000000; stroke-width: 1.5;\" x1=\"16\" x2=\"203\" y1=\"28.2969\" y2=\"28.2969\"/><text fill=\"#000000\" font-family=\"sans-serif\" font-size=\"14\" font-weight=\"bold\" lengthAdjust=\"spacingAndGlyphs\" textLength=\"174\" x=\"20\" y=\"20.9951\">QualifiedNameImportTest</text></a><!--MD5=[e4f7fae6ed58524ba242bb0b0d3be6b7]\n",
       "cluster E2--><a href=\"psysml:4f86bdc9-c02e-4b3c-80e5-19e64e9caefb\" target=\"_top\" title=\"psysml:4f86bdc9-c02e-4b3c-80e5-19e64e9caefb\" xlink:actuate=\"onRequest\" xlink:href=\"psysml:4f86bdc9-c02e-4b3c-80e5-19e64e9caefb\" xlink:show=\"new\" xlink:title=\"psysml:4f86bdc9-c02e-4b3c-80e5-19e64e9caefb\" xlink:type=\"simple\"><polygon fill=\"#FFFFFF\" filter=\"url(#f4b6eid5cb8l4)\" points=\"135,177,159,177,166,199.2969,207,199.2969,207,268,135,268,135,177\" style=\"stroke: #000000; stroke-width: 1.5;\"/><line style=\"stroke: #000000; stroke-width: 1.5;\" x1=\"135\" x2=\"166\" y1=\"199.2969\" y2=\"199.2969\"/><text fill=\"#000000\" font-family=\"sans-serif\" font-size=\"14\" font-weight=\"bold\" lengthAdjust=\"spacingAndGlyphs\" textLength=\"18\" x=\"139\" y=\"191.9951\">P1</text></a><!--MD5=[f6df4d0ebaf0b5dfb2ced0ae5af7c670]\n",
       "cluster E4--><a href=\"psysml:eca2a432-2e72-4cdf-a8b0-841fc7787b6c\" target=\"_top\" title=\"psysml:eca2a432-2e72-4cdf-a8b0-841fc7787b6c\" xlink:actuate=\"onRequest\" xlink:href=\"psysml:eca2a432-2e72-4cdf-a8b0-841fc7787b6c\" xlink:show=\"new\" xlink:title=\"psysml:eca2a432-2e72-4cdf-a8b0-841fc7787b6c\" xlink:type=\"simple\"><polygon fill=\"#FFFFFF\" filter=\"url(#f4b6eid5cb8l4)\" points=\"40,49,64,49,71,71.2969,221,71.2969,221,153,40,153,40,49\" style=\"stroke: #000000; stroke-width: 1.5;\"/><line style=\"stroke: #000000; stroke-width: 1.5;\" x1=\"40\" x2=\"71\" y1=\"71.2969\" y2=\"71.2969\"/><text fill=\"#000000\" font-family=\"sans-serif\" font-size=\"14\" font-weight=\"bold\" lengthAdjust=\"spacingAndGlyphs\" textLength=\"18\" x=\"44\" y=\"63.9951\">P2</text></a><!--MD5=[09b614a08d8cba4a07c9adeb5e0fee81]\n",
       "class E3--><a href=\"psysml:0e402542-8392-49a3-8c29-2ec692a245e7\" target=\"_top\" title=\"psysml:0e402542-8392-49a3-8c29-2ec692a245e7\" xlink:actuate=\"onRequest\" xlink:href=\"psysml:0e402542-8392-49a3-8c29-2ec692a245e7\" xlink:show=\"new\" xlink:title=\"psysml:0e402542-8392-49a3-8c29-2ec692a245e7\" xlink:type=\"simple\"><rect fill=\"#FEFECE\" filter=\"url(#f4b6eid5cb8l4)\" height=\"40\" id=\"E3\" style=\"stroke: #A80036; stroke-width: 1.5;\" width=\"40\" x=\"151\" y=\"212\"/><ellipse cx=\"166\" cy=\"228\" fill=\"#008000\" rx=\"11\" ry=\"11\" style=\"stroke: #A80036; stroke-width: 1.0;\"/><path d=\"M162.875,233 L162.875,222.4063 L166.1094,222.4063 Q168.0156,222.4063 168.9219,223.1563 Q169.8438,223.9063 169.8438,225.0781 Q169.8438,225.7656 169.4531,226.4219 Q169.0781,227.0781 168.3594,227.375 Q169.2188,227.75 169.7344,228.4375 Q170.25,229.125 170.25,229.9375 Q170.25,231.3125 169.2188,232.1563 Q168.2031,233 166.0938,233 L162.875,233 Z M164.7969,226.6406 L165.9531,226.6406 Q167.0781,226.6406 167.4844,226.2656 Q167.9063,225.875 167.9063,225.25 Q167.9063,224.6719 167.4844,224.3125 Q167.0625,223.9531 166.125,223.9531 L164.7969,223.9531 L164.7969,226.6406 Z M164.7969,231.4219 L166.2969,231.4219 Q167.2031,231.4219 167.7344,231.0313 Q168.2656,230.6406 168.2656,229.8906 Q168.2656,229.125 167.7656,228.6563 Q167.2656,228.1719 166,228.1719 L164.7969,228.1719 L164.7969,231.4219 Z \"/><text fill=\"#000000\" font-family=\"sans-serif\" font-size=\"12\" lengthAdjust=\"spacingAndGlyphs\" textLength=\"8\" x=\"180\" y=\"232.1543\">A</text><line style=\"stroke: #A80036; stroke-width: 1.5;\" x1=\"152\" x2=\"190\" y1=\"244\" y2=\"244\"/></a><!--MD5=[60a26617385b1d2d0262a64233df1f8d]\n",
       "class E6--><a href=\"psysml:79981dbc-2c5c-48be-a1ca-65e6b97acee9\" target=\"_top\" title=\"psysml:79981dbc-2c5c-48be-a1ca-65e6b97acee9\" xlink:actuate=\"onRequest\" xlink:href=\"psysml:79981dbc-2c5c-48be-a1ca-65e6b97acee9\" xlink:show=\"new\" xlink:title=\"psysml:79981dbc-2c5c-48be-a1ca-65e6b97acee9\" xlink:type=\"simple\"><rect fill=\"#FEFECE\" filter=\"url(#f4b6eid5cb8l4)\" height=\"45.9375\" id=\"E6\" rx=\"10\" ry=\"10\" style=\"stroke: #A80036; stroke-width: 1.5;\" width=\"68\" x=\"137\" y=\"87.5\"/><ellipse cx=\"152\" cy=\"106.4688\" fill=\"#32CD32\" rx=\"11\" ry=\"11\" style=\"stroke: #A80036; stroke-width: 1.0;\"/><path d=\"M148.8125,111.4688 L148.8125,100.875 L152.4219,100.875 Q153.6406,100.875 154.4375,101.3125 Q155.2344,101.7344 155.6094,102.4375 Q156,103.1406 156,103.9844 Q156,104.8281 155.625,105.5156 Q155.2656,106.2031 154.4688,106.625 Q153.6875,107.0313 152.5,107.0313 L150.7656,107.0313 L150.7656,111.4688 L148.8125,111.4688 Z M150.7656,105.4375 L152.375,105.4375 Q153.1875,105.4375 153.6094,105.0313 Q154.0313,104.625 154.0313,103.9844 Q154.0313,103.3594 153.6094,102.9531 Q153.1875,102.5469 152.3906,102.5469 L150.7656,102.5469 L150.7656,105.4375 Z \"/><text fill=\"#000000\" font-family=\"sans-serif\" font-size=\"12\" font-style=\"italic\" lengthAdjust=\"spacingAndGlyphs\" textLength=\"40\" x=\"164\" y=\"103.6387\">«part»</text><text fill=\"#000000\" font-family=\"sans-serif\" font-size=\"12\" lengthAdjust=\"spacingAndGlyphs\" textLength=\"22\" x=\"171\" y=\"117.6074\">x: A</text><line style=\"stroke: #A80036; stroke-width: 1.5;\" x1=\"138\" x2=\"204\" y1=\"125.4375\" y2=\"125.4375\"/></a><a href=\"psysml:c8033d1b-23e3-49c1-96df-e9838fdb206a\" target=\"_top\" title=\"psysml:c8033d1b-23e3-49c1-96df-e9838fdb206a\" xlink:actuate=\"onRequest\" xlink:href=\"psysml:c8033d1b-23e3-49c1-96df-e9838fdb206a\" xlink:show=\"new\" xlink:title=\"psysml:c8033d1b-23e3-49c1-96df-e9838fdb206a\" xlink:type=\"simple\"><polygon fill=\"#FFFFFF\" filter=\"url(#f4b6eid5cb8l4)\" points=\"56,84,88,84,95,106.2969,102,106.2969,102,136.5938,56,136.5938,56,84\" style=\"stroke: #000000; stroke-width: 1.5;\"/><line style=\"stroke: #000000; stroke-width: 1.5;\" x1=\"56\" x2=\"95\" y1=\"106.2969\" y2=\"106.2969\"/><text fill=\"#000000\" font-family=\"sans-serif\" font-size=\"14\" font-weight=\"bold\" lengthAdjust=\"spacingAndGlyphs\" textLength=\"26\" x=\"60\" y=\"98.9951\">P2a</text></a><!--MD5=[a717450b82c80b9240a525fa862496af]\n",
       "link E6 to E3--><a href=\"psysml:c58b2e1b-d15c-43ed-8c88-ba21dc2bc4d9\" target=\"_top\" title=\"psysml:c58b2e1b-d15c-43ed-8c88-ba21dc2bc4d9\" xlink:actuate=\"onRequest\" xlink:href=\"psysml:c58b2e1b-d15c-43ed-8c88-ba21dc2bc4d9\" xlink:show=\"new\" xlink:title=\"psysml:c58b2e1b-d15c-43ed-8c88-ba21dc2bc4d9\" xlink:type=\"simple\"><path d=\"M171,133.7 C171,149.89 171,172.27 171,191.49 \" fill=\"none\" id=\"E6-&gt;E3\" style=\"stroke: #A80036; stroke-width: 1.0;\"/><polygon fill=\"#FFFFFF\" points=\"171,211.69,164,192.69,178,192.69,171,211.69\" style=\"stroke: #A80036; stroke-width: 1.0;\"/><ellipse cx=\"166\" cy=\"186.99\" fill=\"#A80036\" rx=\"2\" ry=\"2\" style=\"stroke: #A80036; stroke-width: 1.0;\"/><ellipse cx=\"176\" cy=\"186.99\" fill=\"#A80036\" rx=\"2\" ry=\"2\" style=\"stroke: #A80036; stroke-width: 1.0;\"/></a><!--MD5=[eebe322201246469de11ce01c017eb5c]\n",
       "@startuml\r\n",
       " \r\n",
       "package \"QualifiedNameImportTest\" as E1  [[psysml:d6589951-d792-47be-8c0b-0f7f96c74b54 ]]  {\r\n",
       "package \"P1\" as E2  [[psysml:4f86bdc9-c02e-4b3c-80e5-19e64e9caefb ]]  {\r\n",
       "comp def \"A\" as E3 << << (B,green) >> [[psysml:0e402542-8392-49a3-8c29-2ec692a245e7 ]] {\r\n",
       "}\r\n",
       "}\r\n",
       "package \"P2\" as E4  [[psysml:eca2a432-2e72-4cdf-a8b0-841fc7787b6c ]]  {\r\n",
       "package \"P2a\" as E5  [[psysml:c8033d1b-23e3-49c1-96df-e9838fdb206a ]]  {\r\n",
       "}\r\n",
       "comp usage \"x: A \" as E6 << << (P,limegreen) part>> [[psysml:79981dbc-2c5c-48be-a1ca-65e6b97acee9 ]] {\r\n",
       "}\r\n",
       "}\r\n",
       "}\r\n",
       "E6 - -:|> E3 [[psysml:c58b2e1b-d15c-43ed-8c88-ba21dc2bc4d9 ]] \r\n",
       "@enduml\r\n",
       "\n",
       "PlantUML version 1.2020.13(Sat Jun 13 12:26:38 UTC 2020)\n",
       "(EPL source distribution)\n",
       "Java Runtime: OpenJDK Runtime Environment\n",
       "JVM: OpenJDK 64-Bit Server VM\n",
       "Default Encoding: UTF-8\n",
       "Language: en\n",
       "Country: null\n",
       "--></g></svg>"
      ]
     },
     "execution_count": 31,
     "metadata": {},
     "output_type": "execute_result"
    }
   ],
   "source": [
    "%viz --style=\"PLANTUML\" --view=\"Tree\" \"QualifiedNameImportTest\""
   ]
  },
  {
   "cell_type": "code",
   "execution_count": 32,
   "id": "8f2cef50",
   "metadata": {
    "execution": {
     "iopub.execute_input": "2021-11-13T13:01:05.101958Z",
     "iopub.status.busy": "2021-11-13T13:01:05.101562Z",
     "iopub.status.idle": "2021-11-13T13:01:05.249271Z",
     "shell.execute_reply": "2021-11-13T13:01:05.247382Z"
    }
   },
   "outputs": [
    {
     "data": {
      "image/svg+xml": [
       "<?xml version=\"1.0\" encoding=\"UTF-8\" standalone=\"no\"?><svg xmlns=\"http://www.w3.org/2000/svg\" xmlns:xlink=\"http://www.w3.org/1999/xlink\" contentScriptType=\"application/ecmascript\" contentStyleType=\"text/css\" height=\"407px\" preserveAspectRatio=\"none\" style=\"width:603px;height:407px;background:#000000;\" version=\"1.1\" viewBox=\"0 0 603 407\" width=\"603px\" zoomAndPan=\"magnify\"><defs/><g><rect fill=\"#121B1E\" height=\"1\" style=\"stroke: #121B1E; stroke-width: 1.0;\" width=\"1\" x=\"0\" y=\"0\"/><rect fill=\"#FFFFFF\" height=\"53\" style=\"stroke: #FFFFFF; stroke-width: 1.0;\" width=\"602\" x=\"0\" y=\"0\"/><image height=\"53\" width=\"450\" x=\"1\" xlink:href=\"data:image/png;base64,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\" y=\"1\"/><rect fill=\"#FFFFFF\" height=\"202.8012\" style=\"stroke: #FFFFFF; stroke-width: 1.0;\" width=\"602\" x=\"0\" y=\"53\"/><text fill=\"#000000\" font-family=\"sans-serif\" font-size=\"12\" font-weight=\"bold\" lengthAdjust=\"spacingAndGlyphs\" textLength=\"139\" x=\"5\" y=\"69.1387\">Welcome to PlantUML!</text><text fill=\"#000000\" font-family=\"sans-serif\" font-size=\"12\" lengthAdjust=\"spacingAndGlyphs\" textLength=\"0\" x=\"9\" y=\"83.1074\"/><text fill=\"#000000\" font-family=\"sans-serif\" font-size=\"12\" lengthAdjust=\"spacingAndGlyphs\" textLength=\"293\" x=\"5\" y=\"97.0762\">If you use this software, you accept its license.</text><text fill=\"#000000\" font-family=\"sans-serif\" font-size=\"12\" lengthAdjust=\"spacingAndGlyphs\" textLength=\"107\" x=\"5\" y=\"111.0449\">(details by typing</text><text fill=\"#000000\" font-family=\"monospace\" font-size=\"12\" lengthAdjust=\"spacingAndGlyphs\" textLength=\"42\" x=\"116\" y=\"111.595\">license</text><text fill=\"#000000\" font-family=\"sans-serif\" font-size=\"12\" lengthAdjust=\"spacingAndGlyphs\" textLength=\"56\" x=\"162\" y=\"111.0449\">keyword)</text><text fill=\"#000000\" font-family=\"sans-serif\" font-size=\"12\" lengthAdjust=\"spacingAndGlyphs\" textLength=\"0\" x=\"9\" y=\"125.0137\"/><text fill=\"#000000\" font-family=\"sans-serif\" font-size=\"12\" lengthAdjust=\"spacingAndGlyphs\" textLength=\"283\" x=\"5\" y=\"138.9824\">You can start with a simple UML Diagram like:</text><text fill=\"#000000\" font-family=\"sans-serif\" font-size=\"12\" lengthAdjust=\"spacingAndGlyphs\" textLength=\"0\" x=\"9\" y=\"152.9512\"/><text fill=\"#000000\" font-family=\"monospace\" font-size=\"12\" lengthAdjust=\"spacingAndGlyphs\" textLength=\"102\" x=\"5\" y=\"166.0893\">Bob-&gt;Alice: Hello</text><text fill=\"#000000\" font-family=\"sans-serif\" font-size=\"12\" lengthAdjust=\"spacingAndGlyphs\" textLength=\"0\" x=\"9\" y=\"179.508\"/><text fill=\"#000000\" font-family=\"sans-serif\" font-size=\"12\" lengthAdjust=\"spacingAndGlyphs\" textLength=\"14\" x=\"5\" y=\"193.4768\">Or</text><text fill=\"#000000\" font-family=\"sans-serif\" font-size=\"12\" lengthAdjust=\"spacingAndGlyphs\" textLength=\"0\" x=\"9\" y=\"207.4455\"/><text fill=\"#000000\" font-family=\"monospace\" font-size=\"12\" lengthAdjust=\"spacingAndGlyphs\" textLength=\"78\" x=\"5\" y=\"220.5837\">class Example</text><text fill=\"#000000\" font-family=\"sans-serif\" font-size=\"12\" lengthAdjust=\"spacingAndGlyphs\" textLength=\"0\" x=\"9\" y=\"234.0023\"/><text fill=\"#000000\" font-family=\"sans-serif\" font-size=\"12\" lengthAdjust=\"spacingAndGlyphs\" textLength=\"349\" x=\"5\" y=\"247.9711\">You will find more information about PlantUML syntax on</text><text fill=\"#000000\" font-family=\"sans-serif\" font-size=\"12\" lengthAdjust=\"spacingAndGlyphs\" text-decoration=\"underline\" textLength=\"129\" x=\"358\" y=\"247.9711\">https://plantuml.com</text><image height=\"71\" width=\"80\" x=\"516\" xlink:href=\"data:image/png;base64,iVBORw0KGgoAAAANSUhEUgAAAFAAAABHCAMAAACnHDC8AAADAFBMVEX///+BpbvD3u/f7vfPz8+nz+g3ksuZEDkWADr/ujlvsdpTodLCwsOLwOEbg8T//v6pqamZETnLysvT09To5+jqLS4VATj9/f27u7vDw8MTfsK+v7/j4+SOweJprdjL4/KxsbEri8jk8PgXa57c29uUETez1utQoNJ1tNtEmc9cptWBut6ayOW/3O6YEDjY6vUfhcXBwcHs7Ozw9/v83t79uTn7+/vX19ehoaHx8fG2tLXHx8fuVlfrNTYaBjn/vUH5+fmko6WXl5f/+fn95ub+9PT+8PD3qKidmaMxIUrnqDWcFj7n5eX09PTu7u2SkpKfnZ6rq6z0lJTm4tzJrHUfDT339/eFGDn6tjcrEzOvrbBuZ3l4eomSMS7Hz9Smpqasu8SFiYuQETfa2du1m6OOM051J0NWTWL5xse4uLj6zc33r6/4vb7ydHXqLi/72dntTE3tR0ijbn5jW3C+u8NANVQrG0XFubqRVGZza4GQGT2VaS7a0NPJtI6IJj/zszrfqkXXzr/Hw8cgC0LUqltOQ2JsSC5bTGjOpFafSi2+iDGtyt14m7TJhTCPJUSwoIG/qa+ikHiIgpCRHjI9j8KXbnaQH0FLf6FGPlp0cnYyKE2rg49Wj7dFXHmcwtrp6uu+xMjvYWLvW1z97e3sPD3sP0DuUlP709PYzdDPmzqZWWySRVygfHHd1smWkZ+PgnibETqsl260q5fLuppJLC/dpj2HPFLTtHv/ujrTwJy5s6iWjIi0iD3joTTCmU3trjuvZS2zlFvjq0HSyLbYp0qRts10XGxEKC9yPVBQZIOPdlNvMk2NeYNqRlujtcCVrr3j5eY1gK9Qn9GLp7lbeJXRxrCkiZDaozyukoJ+H0B3rc+OYy+iprJkYXdhmr6ee0afs79xq9BikrGKjI3FomEiLFO0ay6nfIm4pZXRjTFuhZSZWm0zcZyJN0KNTk4eebNfdIGGlZ93h5kcED5nOVYyRWbziIk9dJ4kerE5ZYxRUnLG1d7p8PTvY2PtTk/1nZ1ycV/bAAAFx0lEQVR4Xu1Ye1BUVRg/e3dhl4csKyxqPlBJQVETF2icAY13GogkEFqizqRRpoBpTCIapaUOhWNjUdOMSBpqJYZTg4KigFKADzSIVZ4qD5VFluXhLgvbPee+r49R7v2z3+zcc77fOfPb7zvfPd85uwCIhwT4wPisANwPAuIKHnbHH1I+KwAXDA18ShDW58CneCEnXl8JGwmfHylCPSvlZ/FWxh8YIRIxTWkZAEofkTz8sNq7tAqE2gODOB6GYZobVaH20SVZ4oQcdmXV0L7c4b8OFvJHRoYwdVIoyPX3gxtFDA+V8e6mM8pBoCjij4wQiWo/ALzV/kpkifBi13p4waZuGrJEECycixcEVSbYgFwUozg4/qSraOxrP7O8Eogj2HDxyMWmzpk6823+yIjhvR7fLOpDsCuGhwC0WfbkjQq8A0MWC0EgIYzPCYMymM8Iwcvz6K4IWw8skTrgq3iPMIQnxdfKrvyedpyvbSsyBQt6zcH6OxXmjqYxg9PbgXBBveK6aRAXNEl1Ssc+hz7Bgntyohb/ggQlNrrdzfIuoYKSb79067PrRoLmGo25SeghJRn1yMrSbPTptZaoBlwtlWbBHspxiW+mW8+46ereVnMXGxbFQ+mjofiHZTrclJn5E14UEgdrO9tRVph0HDJlYlRsLv4XFA7RBA1kK5ogBb7gtn08AvxWymc2b+YzLHC3nnOCNHvdayUsZpnnwnPqGf+yGKcPKlv92vtJC209zGyRWJmgyd16sSGGT/AmM2rdKZKZHxwCz7KUodLzJOO8th4OBqxdo0c2tfUkNr3QlJkZQWWMBP0uwBHvmQQb3zRVCMnsMO6ATazf3f0kkza0HTaPCdIhpyTknqP61Te1eV2gRpr1FUn4xtxRT72pDHhj09/UnBLjiv72p4d8FEtlLibBd7Qg0xK5+XfS9q2AzxSVHPnNIMBS8BQPw8N1W4glQWj0mtp4+nSHhvKYOM4GL6vH1jGTcDQ3p1979AQPI5agXEDYwuS5awknJ73rHU56RyLAr6ACpO5iMRGvp3XykjImgs4Fgm2/7URc8dhbeD9jdhYVNon0mdFcAjTIXbmC75VrmVHcQ+JDIXbuNmYUYlZoYx6XcWjKTWavYXd1WzU9OEh9wLFfEVFza5PEhVhDAvfLx60cWM3ePMa9hyZG5DNr6DbQiCUcYU0AKGzGyYxlkf+wxnCk+wdwCbA/TkWH7Dbgoq8dcmKNssQQ3F/JmMxlIj/fzo/7s9OIwUMebbYzbh2zLfk7ehBGzIau6OeO+xzGKlBRwCGAXNaCFgYbRoKG+hMTfMff4M6h0LYxpmv/92ym9tIxc4uRzawynCEWGhum7odf9/75vh8zg0bKijX5AMxhMacsK8pBxaJihtnQqr1KG8yFMzq/dutJ2iKwNCbXA7Yamsm2Xn0XtgtowY3Xy8rpYc4NNqon8eM49k+NtzU55GtMleGAkNR6oldDMhH+e9EX0JB+UYKv4WgLZrLCjHV7wnyYlzJZvYV6A6d1w6xEph842UUyTkjGIbzwRA/JIOBJKSt88yglqND1h6TpiQqQV99wmJ7nknQcgIIHqd00EwSzgudigGYQUHE4qFMcGJb22kp7lNop8p6znStvg5S2e1TVRti56w/zj8fZzKLiDa317MqBQFbs+J3dcbSgo+H4D0kLOokJ82/NR8KZbp9eIZgllwKR8Ec1ejIX827POk/06HpYffGd5dkoZJXMqDAVXd1Nbhavlx4OyuAiPcyAF3Ick8faXAuE5WToApkMxykL1PbNRJ91SDkXOyymPFR1UMlw9GjRPKCrPsRSvUnbzbkELj2PSSRkQLiH1AvROTutlpryLHQAoCD+C2BBP4npMwd9zsIgzgaDsK+bctmVw3hetai5t9RS4PEqub4QnCvxteGzOZyQXxjscxkhHisWKMi72+T0p1dxGeGYkG0ez+eeG7In/n/oNOexC9fzIiLvPxVtKp84iza+AAAAAElFTkSuQmCC\" y=\"59\"/><rect fill=\"#000000\" height=\"96.4844\" style=\"stroke: #000000; stroke-width: 1.0;\" width=\"602\" x=\"0\" y=\"255.8012\"/><rect fill=\"#33FF02\" height=\"21.2969\" style=\"stroke: #33FF02; stroke-width: 1.0;\" width=\"145\" x=\"5\" y=\"260.8012\"/><text fill=\"#000000\" font-family=\"sans-serif\" font-size=\"14\" font-weight=\"bold\" lengthAdjust=\"spacingAndGlyphs\" textLength=\"143\" x=\"6\" y=\"275.8012\">[From string (line 2) ]</text><text fill=\"#33FF02\" font-family=\"sans-serif\" font-size=\"14\" font-weight=\"bold\" lengthAdjust=\"spacingAndGlyphs\" textLength=\"0\" x=\"9\" y=\"296.0981\"/><text fill=\"#33FF02\" font-family=\"sans-serif\" font-size=\"14\" font-weight=\"bold\" lengthAdjust=\"spacingAndGlyphs\" textLength=\"70\" x=\"5\" y=\"312.3949\">@startuml</text><text fill=\"#33FF02\" font-family=\"sans-serif\" font-size=\"14\" font-weight=\"bold\" lengthAdjust=\"spacingAndGlyphs\" textLength=\"0\" x=\"9\" y=\"328.6918\"/><text fill=\"#FF0000\" font-family=\"sans-serif\" font-size=\"14\" font-weight=\"bold\" lengthAdjust=\"spacingAndGlyphs\" textLength=\"124\" x=\"9\" y=\"344.9887\">Empty description</text><rect fill=\"#FFFFFF\" height=\"53\" style=\"stroke: #FFFFFF; stroke-width: 1.0;\" width=\"602\" x=\"0\" y=\"352.2856\"/><image height=\"53\" width=\"450\" x=\"1\" xlink:href=\"data:image/png;base64,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\" y=\"353.2856\"/><!--MD5=[f59edd8218d337f74d0c332fc6737304]\n",
       "@startuml\r\n",
       " \r\n",
       "@enduml\r\n",
       "\n",
       "PlantUML version 1.2020.13(Sat Jun 13 12:26:38 UTC 2020)\n",
       "(EPL source distribution)\n",
       "Java Runtime: OpenJDK Runtime Environment\n",
       "JVM: OpenJDK 64-Bit Server VM\n",
       "Default Encoding: UTF-8\n",
       "Language: en\n",
       "Country: null\n",
       "--></g></svg>"
      ]
     },
     "execution_count": 32,
     "metadata": {},
     "output_type": "execute_result"
    }
   ],
   "source": [
    "%viz --style=\"PLANTUML\" --view=\"State\" \"QualifiedNameImportTest\""
   ]
  },
  {
   "cell_type": "code",
   "execution_count": 33,
   "id": "e7f3156e",
   "metadata": {
    "execution": {
     "iopub.execute_input": "2021-11-13T13:01:05.297846Z",
     "iopub.status.busy": "2021-11-13T13:01:05.297447Z",
     "iopub.status.idle": "2021-11-13T13:01:05.324405Z",
     "shell.execute_reply": "2021-11-13T13:01:05.324050Z"
    }
   },
   "outputs": [
    {
     "data": {
      "image/svg+xml": [
       "<?xml version=\"1.0\" encoding=\"UTF-8\" standalone=\"no\"?><svg xmlns=\"http://www.w3.org/2000/svg\" xmlns:xlink=\"http://www.w3.org/1999/xlink\" contentScriptType=\"application/ecmascript\" contentStyleType=\"text/css\" height=\"189px\" preserveAspectRatio=\"none\" style=\"width:365px;height:189px;\" version=\"1.1\" viewBox=\"0 0 365 189\" width=\"365px\" zoomAndPan=\"magnify\"><defs><filter height=\"300%\" id=\"f4rj3fbirzilw\" width=\"300%\" x=\"-1\" y=\"-1\"><feGaussianBlur result=\"blurOut\" stdDeviation=\"2.0\"/><feColorMatrix in=\"blurOut\" result=\"blurOut2\" type=\"matrix\" values=\"0 0 0 0 0 0 0 0 0 0 0 0 0 0 0 0 0 0 .4 0\"/><feOffset dx=\"4.0\" dy=\"4.0\" in=\"blurOut2\" result=\"blurOut3\"/><feBlend in=\"SourceGraphic\" in2=\"blurOut3\" mode=\"normal\"/></filter></defs><g><!--MD5=[fbc87193dbaf4d95561dea2c320d4a47]\n",
       "cluster E1--><a href=\"psysml:d6589951-d792-47be-8c0b-0f7f96c74b54\" target=\"_top\" title=\"psysml:d6589951-d792-47be-8c0b-0f7f96c74b54\" xlink:actuate=\"onRequest\" xlink:href=\"psysml:d6589951-d792-47be-8c0b-0f7f96c74b54\" xlink:show=\"new\" xlink:title=\"psysml:d6589951-d792-47be-8c0b-0f7f96c74b54\" xlink:type=\"simple\"><polygon fill=\"#FFFFFF\" filter=\"url(#f4rj3fbirzilw)\" points=\"16,6,196,6,203,28.2969,343,28.2969,343,177,16,177,16,6\" style=\"stroke: #000000; stroke-width: 1.5;\"/><line style=\"stroke: #000000; stroke-width: 1.5;\" x1=\"16\" x2=\"203\" y1=\"28.2969\" y2=\"28.2969\"/><text fill=\"#000000\" font-family=\"sans-serif\" font-size=\"14\" font-weight=\"bold\" lengthAdjust=\"spacingAndGlyphs\" textLength=\"174\" x=\"20\" y=\"20.9951\">QualifiedNameImportTest</text></a><!--MD5=[e4f7fae6ed58524ba242bb0b0d3be6b7]\n",
       "cluster E2--><a href=\"psysml:4f86bdc9-c02e-4b3c-80e5-19e64e9caefb\" target=\"_top\" title=\"psysml:4f86bdc9-c02e-4b3c-80e5-19e64e9caefb\" xlink:actuate=\"onRequest\" xlink:href=\"psysml:4f86bdc9-c02e-4b3c-80e5-19e64e9caefb\" xlink:show=\"new\" xlink:title=\"psysml:4f86bdc9-c02e-4b3c-80e5-19e64e9caefb\" xlink:type=\"simple\"><polygon fill=\"#FFFFFF\" filter=\"url(#f4rj3fbirzilw)\" points=\"237,55.5,261,55.5,268,77.7969,319,77.7969,319,146.5,237,146.5,237,55.5\" style=\"stroke: #000000; stroke-width: 1.5;\"/><line style=\"stroke: #000000; stroke-width: 1.5;\" x1=\"237\" x2=\"268\" y1=\"77.7969\" y2=\"77.7969\"/><text fill=\"#000000\" font-family=\"sans-serif\" font-size=\"14\" font-weight=\"bold\" lengthAdjust=\"spacingAndGlyphs\" textLength=\"18\" x=\"241\" y=\"70.4951\">P1</text></a><!--MD5=[f6df4d0ebaf0b5dfb2ced0ae5af7c670]\n",
       "cluster E4--><a href=\"psysml:eca2a432-2e72-4cdf-a8b0-841fc7787b6c\" target=\"_top\" title=\"psysml:eca2a432-2e72-4cdf-a8b0-841fc7787b6c\" xlink:actuate=\"onRequest\" xlink:href=\"psysml:eca2a432-2e72-4cdf-a8b0-841fc7787b6c\" xlink:show=\"new\" xlink:title=\"psysml:eca2a432-2e72-4cdf-a8b0-841fc7787b6c\" xlink:type=\"simple\"><polygon fill=\"#FFFFFF\" filter=\"url(#f4rj3fbirzilw)\" points=\"40,49,64,49,71,71.2969,213,71.2969,213,153,40,153,40,49\" style=\"stroke: #000000; stroke-width: 1.5;\"/><line style=\"stroke: #000000; stroke-width: 1.5;\" x1=\"40\" x2=\"71\" y1=\"71.2969\" y2=\"71.2969\"/><text fill=\"#000000\" font-family=\"sans-serif\" font-size=\"14\" font-weight=\"bold\" lengthAdjust=\"spacingAndGlyphs\" textLength=\"18\" x=\"44\" y=\"63.9951\">P2</text></a><g id=\"E1.E2.E3\"><a href=\"psysml:0e402542-8392-49a3-8c29-2ec692a245e7\" target=\"_top\" title=\"psysml:0e402542-8392-49a3-8c29-2ec692a245e7\" xlink:actuate=\"onRequest\" xlink:href=\"psysml:0e402542-8392-49a3-8c29-2ec692a245e7\" xlink:show=\"new\" xlink:title=\"psysml:0e402542-8392-49a3-8c29-2ec692a245e7\" xlink:type=\"simple\"><rect fill=\"#FEFECE\" filter=\"url(#f4rj3fbirzilw)\" height=\"40\" id=\"E3\" style=\"stroke: #A80036; stroke-width: 1.5;\" width=\"50\" x=\"253\" y=\"90.5\"/><ellipse cx=\"272.5\" cy=\"106.5\" fill=\"#008000\" rx=\"11\" ry=\"11\" style=\"stroke: #A80036; stroke-width: 1.0;\"/><path d=\"M269.375,111.5 L269.375,100.9063 L272.6094,100.9063 Q274.5156,100.9063 275.4219,101.6563 Q276.3438,102.4063 276.3438,103.5781 Q276.3438,104.2656 275.9531,104.9219 Q275.5781,105.5781 274.8594,105.875 Q275.7188,106.25 276.2344,106.9375 Q276.75,107.625 276.75,108.4375 Q276.75,109.8125 275.7188,110.6563 Q274.7031,111.5 272.5938,111.5 L269.375,111.5 Z M271.2969,105.1406 L272.4531,105.1406 Q273.5781,105.1406 273.9844,104.7656 Q274.4063,104.375 274.4063,103.75 Q274.4063,103.1719 273.9844,102.8125 Q273.5625,102.4531 272.625,102.4531 L271.2969,102.4531 L271.2969,105.1406 Z M271.2969,109.9219 L272.7969,109.9219 Q273.7031,109.9219 274.2344,109.5313 Q274.7656,109.1406 274.7656,108.3906 Q274.7656,107.625 274.2656,107.1563 Q273.7656,106.6719 272.5,106.6719 L271.2969,106.6719 L271.2969,109.9219 Z \"/><text fill=\"#000000\" font-family=\"sans-serif\" font-size=\"12\" lengthAdjust=\"spacingAndGlyphs\" textLength=\"8\" x=\"287.5\" y=\"110.6543\">A</text></a></g><a href=\"psysml:c8033d1b-23e3-49c1-96df-e9838fdb206a\" target=\"_top\" title=\"psysml:c8033d1b-23e3-49c1-96df-e9838fdb206a\" xlink:actuate=\"onRequest\" xlink:href=\"psysml:c8033d1b-23e3-49c1-96df-e9838fdb206a\" xlink:show=\"new\" xlink:title=\"psysml:c8033d1b-23e3-49c1-96df-e9838fdb206a\" xlink:type=\"simple\"><polygon fill=\"#FFFFFF\" filter=\"url(#f4rj3fbirzilw)\" points=\"151,84,183,84,190,106.2969,197,106.2969,197,136.5938,151,136.5938,151,84\" style=\"stroke: #000000; stroke-width: 1.5;\"/><line style=\"stroke: #000000; stroke-width: 1.5;\" x1=\"151\" x2=\"190\" y1=\"106.2969\" y2=\"106.2969\"/><text fill=\"#000000\" font-family=\"sans-serif\" font-size=\"14\" font-weight=\"bold\" lengthAdjust=\"spacingAndGlyphs\" textLength=\"26\" x=\"155\" y=\"98.9951\">P2a</text></a><g id=\"E1.E4.E6\"><a href=\"psysml:79981dbc-2c5c-48be-a1ca-65e6b97acee9\" target=\"_top\" title=\"psysml:79981dbc-2c5c-48be-a1ca-65e6b97acee9\" xlink:actuate=\"onRequest\" xlink:href=\"psysml:79981dbc-2c5c-48be-a1ca-65e6b97acee9\" xlink:show=\"new\" xlink:title=\"psysml:79981dbc-2c5c-48be-a1ca-65e6b97acee9\" xlink:type=\"simple\"><rect fill=\"#FEFECE\" filter=\"url(#f4rj3fbirzilw)\" height=\"40\" id=\"E6\" rx=\"10\" ry=\"10\" style=\"stroke: #A80036; stroke-width: 1.5;\" width=\"59\" x=\"56.5\" y=\"90.5\"/><ellipse cx=\"73.75\" cy=\"106.5\" fill=\"#B6DBBB\" rx=\"11\" ry=\"11\" style=\"stroke: #A80036; stroke-width: 1.0;\"/><path d=\"M73.5,111.9688 Q71.75,111.9688 70.7969,110.9375 Q69.8594,109.8906 69.8594,108.0469 L69.8594,101.1563 L71.9219,101.1563 L71.9219,101.3125 Q71.8281,101.4063 71.7969,101.5469 Q71.7813,101.6719 71.7813,101.9375 L71.7813,108.0625 Q71.7813,109.1563 72.1563,109.7813 Q72.5313,110.4063 73.5156,110.4063 Q74.5,110.4063 74.8906,109.7813 Q75.2813,109.1563 75.2813,108.0156 L75.2813,101.1563 L77.1563,101.1563 L77.1563,108 Q77.1563,110.0313 76.125,111 Q75.1094,111.9688 73.5,111.9688 Z \"/><text fill=\"#000000\" font-family=\"sans-serif\" font-size=\"12\" lengthAdjust=\"spacingAndGlyphs\" textLength=\"22\" x=\"88.25\" y=\"110.6543\">x: A</text></a></g><!--MD5=[bcc86ffe639dc8d86877db13cc49322f]\n",
       "@startuml\r\n",
       "skinparam ranksep 10\r\n",
       "skinparam rectangle {\r\n",
       " backgroundColor<<block>> LightGreen\r\n",
       "}\r\n",
       " \r\n",
       "package \"QualifiedNameImportTest\" as E1  [[psysml:d6589951-d792-47be-8c0b-0f7f96c74b54 ]]  {\r\n",
       "package \"P1\" as E2  [[psysml:4f86bdc9-c02e-4b3c-80e5-19e64e9caefb ]]  {\r\n",
       "rec def \"A\" as E3 << << (B,green) >> [[psysml:0e402542-8392-49a3-8c29-2ec692a245e7 ]] {\r\n",
       "}\r\n",
       "}\r\n",
       "package \"P2\" as E4  [[psysml:eca2a432-2e72-4cdf-a8b0-841fc7787b6c ]]  {\r\n",
       "package \"P2a\" as E5  [[psysml:c8033d1b-23e3-49c1-96df-e9838fdb206a ]]  {\r\n",
       "}\r\n",
       "rec usage \"x: A\" as E6  [[psysml:79981dbc-2c5c-48be-a1ca-65e6b97acee9 ]] {\r\n",
       "}\r\n",
       "}\r\n",
       "}\r\n",
       "@enduml\r\n",
       "\n",
       "PlantUML version 1.2020.13(Sat Jun 13 12:26:38 UTC 2020)\n",
       "(EPL source distribution)\n",
       "Java Runtime: OpenJDK Runtime Environment\n",
       "JVM: OpenJDK 64-Bit Server VM\n",
       "Default Encoding: UTF-8\n",
       "Language: en\n",
       "Country: null\n",
       "--></g></svg>"
      ]
     },
     "execution_count": 33,
     "metadata": {},
     "output_type": "execute_result"
    }
   ],
   "source": [
    "%viz --style=\"PLANTUML\" --view=\"Interconnection\" \"QualifiedNameImportTest\""
   ]
  },
  {
   "cell_type": "code",
   "execution_count": 34,
   "id": "a68959f3",
   "metadata": {
    "execution": {
     "iopub.execute_input": "2021-11-13T13:01:05.373888Z",
     "iopub.status.busy": "2021-11-13T13:01:05.373489Z",
     "iopub.status.idle": "2021-11-13T13:01:05.378287Z",
     "shell.execute_reply": "2021-11-13T13:01:05.378598Z"
    }
   },
   "outputs": [
    {
     "data": {
      "image/svg+xml": [
       "<?xml version=\"1.0\" encoding=\"UTF-8\" standalone=\"no\"?><svg xmlns=\"http://www.w3.org/2000/svg\" xmlns:xlink=\"http://www.w3.org/1999/xlink\" contentScriptType=\"application/ecmascript\" contentStyleType=\"text/css\" height=\"12px\" preserveAspectRatio=\"none\" style=\"width:12px;height:12px;\" version=\"1.1\" viewBox=\"0 0 12 12\" width=\"12px\" zoomAndPan=\"magnify\"><defs/><g><!--MD5=[6a4cb978cab31700e1ce5529f947a75d]\n",
       "@startuml\r\n",
       "skinparam ranksep 8\r\n",
       " \r\n",
       "@enduml\r\n",
       "\n",
       "PlantUML version 1.2020.13(Sat Jun 13 12:26:38 UTC 2020)\n",
       "(EPL source distribution)\n",
       "Java Runtime: OpenJDK Runtime Environment\n",
       "JVM: OpenJDK 64-Bit Server VM\n",
       "Default Encoding: UTF-8\n",
       "Language: en\n",
       "Country: null\n",
       "--></g></svg>"
      ]
     },
     "execution_count": 34,
     "metadata": {},
     "output_type": "execute_result"
    }
   ],
   "source": [
    "%viz --style=\"PLANTUML\" --view=\"Action\" \"QualifiedNameImportTest\""
   ]
  },
  {
   "cell_type": "code",
   "execution_count": 35,
   "id": "793b6490",
   "metadata": {
    "execution": {
     "iopub.execute_input": "2021-11-13T13:01:05.428332Z",
     "iopub.status.busy": "2021-11-13T13:01:05.427935Z",
     "iopub.status.idle": "2021-11-13T13:01:05.435410Z",
     "shell.execute_reply": "2021-11-13T13:01:05.435770Z"
    }
   },
   "outputs": [
    {
     "data": {
      "image/svg+xml": [
       "<?xml version=\"1.0\" encoding=\"UTF-8\" standalone=\"no\"?><svg xmlns=\"http://www.w3.org/2000/svg\" xmlns:xlink=\"http://www.w3.org/1999/xlink\" contentScriptType=\"application/ecmascript\" contentStyleType=\"text/css\" height=\"12px\" preserveAspectRatio=\"none\" style=\"width:12px;height:12px;\" version=\"1.1\" viewBox=\"0 0 12 12\" width=\"12px\" zoomAndPan=\"magnify\"><defs/><g><!--MD5=[ca4faa0b02def275ea33c14ea7a1a98d]\n",
       "@startuml\r\n",
       "skinparam roundcorner 20\r\n",
       "skinparam BoxPadding 20\r\n",
       "skinparam SequenceBoxBackgroundColor #white\r\n",
       "skinparam style strictuml\r\n",
       "skinparam maxMessageSize 100\r\n",
       " \r\n",
       "@enduml\r\n",
       "\n",
       "PlantUML version 1.2020.13(Sat Jun 13 12:26:38 UTC 2020)\n",
       "(EPL source distribution)\n",
       "Java Runtime: OpenJDK Runtime Environment\n",
       "JVM: OpenJDK 64-Bit Server VM\n",
       "Default Encoding: UTF-8\n",
       "Language: en\n",
       "Country: null\n",
       "--></g></svg>"
      ]
     },
     "execution_count": 35,
     "metadata": {},
     "output_type": "execute_result"
    }
   ],
   "source": [
    "%viz --style=\"PLANTUML\" --view=\"Sequence\" \"QualifiedNameImportTest\""
   ]
  },
  {
   "cell_type": "code",
   "execution_count": 36,
   "id": "65350435",
   "metadata": {
    "execution": {
     "iopub.execute_input": "2021-11-13T13:01:05.483009Z",
     "iopub.status.busy": "2021-11-13T13:01:05.482600Z",
     "iopub.status.idle": "2021-11-13T13:01:05.510680Z",
     "shell.execute_reply": "2021-11-13T13:01:05.508954Z"
    }
   },
   "outputs": [
    {
     "data": {
      "image/svg+xml": [
       "<?xml version=\"1.0\" encoding=\"UTF-8\" standalone=\"no\"?><svg xmlns=\"http://www.w3.org/2000/svg\" xmlns:xlink=\"http://www.w3.org/1999/xlink\" contentScriptType=\"application/ecmascript\" contentStyleType=\"text/css\" height=\"304px\" preserveAspectRatio=\"none\" style=\"width:267px;height:304px;\" version=\"1.1\" viewBox=\"0 0 267 304\" width=\"267px\" zoomAndPan=\"magnify\"><defs><filter height=\"300%\" id=\"f4b6eid5cb8l4\" width=\"300%\" x=\"-1\" y=\"-1\"><feGaussianBlur result=\"blurOut\" stdDeviation=\"2.0\"/><feColorMatrix in=\"blurOut\" result=\"blurOut2\" type=\"matrix\" values=\"0 0 0 0 0 0 0 0 0 0 0 0 0 0 0 0 0 0 .4 0\"/><feOffset dx=\"4.0\" dy=\"4.0\" in=\"blurOut2\" result=\"blurOut3\"/><feBlend in=\"SourceGraphic\" in2=\"blurOut3\" mode=\"normal\"/></filter></defs><g><!--MD5=[fbc87193dbaf4d95561dea2c320d4a47]\n",
       "cluster E1--><a href=\"psysml:d6589951-d792-47be-8c0b-0f7f96c74b54\" target=\"_top\" title=\"psysml:d6589951-d792-47be-8c0b-0f7f96c74b54\" xlink:actuate=\"onRequest\" xlink:href=\"psysml:d6589951-d792-47be-8c0b-0f7f96c74b54\" xlink:show=\"new\" xlink:title=\"psysml:d6589951-d792-47be-8c0b-0f7f96c74b54\" xlink:type=\"simple\"><polygon fill=\"#FFFFFF\" filter=\"url(#f4b6eid5cb8l4)\" points=\"16,6,196,6,203,28.2969,245,28.2969,245,292,16,292,16,6\" style=\"stroke: #000000; stroke-width: 1.5;\"/><line style=\"stroke: #000000; stroke-width: 1.5;\" x1=\"16\" x2=\"203\" y1=\"28.2969\" y2=\"28.2969\"/><text fill=\"#000000\" font-family=\"sans-serif\" font-size=\"14\" font-weight=\"bold\" lengthAdjust=\"spacingAndGlyphs\" textLength=\"174\" x=\"20\" y=\"20.9951\">QualifiedNameImportTest</text></a><!--MD5=[e4f7fae6ed58524ba242bb0b0d3be6b7]\n",
       "cluster E2--><a href=\"psysml:4f86bdc9-c02e-4b3c-80e5-19e64e9caefb\" target=\"_top\" title=\"psysml:4f86bdc9-c02e-4b3c-80e5-19e64e9caefb\" xlink:actuate=\"onRequest\" xlink:href=\"psysml:4f86bdc9-c02e-4b3c-80e5-19e64e9caefb\" xlink:show=\"new\" xlink:title=\"psysml:4f86bdc9-c02e-4b3c-80e5-19e64e9caefb\" xlink:type=\"simple\"><polygon fill=\"#FFFFFF\" filter=\"url(#f4b6eid5cb8l4)\" points=\"135,177,159,177,166,199.2969,207,199.2969,207,268,135,268,135,177\" style=\"stroke: #000000; stroke-width: 1.5;\"/><line style=\"stroke: #000000; stroke-width: 1.5;\" x1=\"135\" x2=\"166\" y1=\"199.2969\" y2=\"199.2969\"/><text fill=\"#000000\" font-family=\"sans-serif\" font-size=\"14\" font-weight=\"bold\" lengthAdjust=\"spacingAndGlyphs\" textLength=\"18\" x=\"139\" y=\"191.9951\">P1</text></a><!--MD5=[f6df4d0ebaf0b5dfb2ced0ae5af7c670]\n",
       "cluster E4--><a href=\"psysml:eca2a432-2e72-4cdf-a8b0-841fc7787b6c\" target=\"_top\" title=\"psysml:eca2a432-2e72-4cdf-a8b0-841fc7787b6c\" xlink:actuate=\"onRequest\" xlink:href=\"psysml:eca2a432-2e72-4cdf-a8b0-841fc7787b6c\" xlink:show=\"new\" xlink:title=\"psysml:eca2a432-2e72-4cdf-a8b0-841fc7787b6c\" xlink:type=\"simple\"><polygon fill=\"#FFFFFF\" filter=\"url(#f4b6eid5cb8l4)\" points=\"40,49,64,49,71,71.2969,221,71.2969,221,153,40,153,40,49\" style=\"stroke: #000000; stroke-width: 1.5;\"/><line style=\"stroke: #000000; stroke-width: 1.5;\" x1=\"40\" x2=\"71\" y1=\"71.2969\" y2=\"71.2969\"/><text fill=\"#000000\" font-family=\"sans-serif\" font-size=\"14\" font-weight=\"bold\" lengthAdjust=\"spacingAndGlyphs\" textLength=\"18\" x=\"44\" y=\"63.9951\">P2</text></a><!--MD5=[09b614a08d8cba4a07c9adeb5e0fee81]\n",
       "class E3--><a href=\"psysml:0e402542-8392-49a3-8c29-2ec692a245e7\" target=\"_top\" title=\"psysml:0e402542-8392-49a3-8c29-2ec692a245e7\" xlink:actuate=\"onRequest\" xlink:href=\"psysml:0e402542-8392-49a3-8c29-2ec692a245e7\" xlink:show=\"new\" xlink:title=\"psysml:0e402542-8392-49a3-8c29-2ec692a245e7\" xlink:type=\"simple\"><rect fill=\"#FEFECE\" filter=\"url(#f4b6eid5cb8l4)\" height=\"40\" id=\"E3\" style=\"stroke: #A80036; stroke-width: 1.5;\" width=\"40\" x=\"151\" y=\"212\"/><ellipse cx=\"166\" cy=\"228\" fill=\"#008000\" rx=\"11\" ry=\"11\" style=\"stroke: #A80036; stroke-width: 1.0;\"/><path d=\"M162.875,233 L162.875,222.4063 L166.1094,222.4063 Q168.0156,222.4063 168.9219,223.1563 Q169.8438,223.9063 169.8438,225.0781 Q169.8438,225.7656 169.4531,226.4219 Q169.0781,227.0781 168.3594,227.375 Q169.2188,227.75 169.7344,228.4375 Q170.25,229.125 170.25,229.9375 Q170.25,231.3125 169.2188,232.1563 Q168.2031,233 166.0938,233 L162.875,233 Z M164.7969,226.6406 L165.9531,226.6406 Q167.0781,226.6406 167.4844,226.2656 Q167.9063,225.875 167.9063,225.25 Q167.9063,224.6719 167.4844,224.3125 Q167.0625,223.9531 166.125,223.9531 L164.7969,223.9531 L164.7969,226.6406 Z M164.7969,231.4219 L166.2969,231.4219 Q167.2031,231.4219 167.7344,231.0313 Q168.2656,230.6406 168.2656,229.8906 Q168.2656,229.125 167.7656,228.6563 Q167.2656,228.1719 166,228.1719 L164.7969,228.1719 L164.7969,231.4219 Z \"/><text fill=\"#000000\" font-family=\"sans-serif\" font-size=\"12\" lengthAdjust=\"spacingAndGlyphs\" textLength=\"8\" x=\"180\" y=\"232.1543\">A</text><line style=\"stroke: #A80036; stroke-width: 1.5;\" x1=\"152\" x2=\"190\" y1=\"244\" y2=\"244\"/></a><!--MD5=[60a26617385b1d2d0262a64233df1f8d]\n",
       "class E6--><a href=\"psysml:79981dbc-2c5c-48be-a1ca-65e6b97acee9\" target=\"_top\" title=\"psysml:79981dbc-2c5c-48be-a1ca-65e6b97acee9\" xlink:actuate=\"onRequest\" xlink:href=\"psysml:79981dbc-2c5c-48be-a1ca-65e6b97acee9\" xlink:show=\"new\" xlink:title=\"psysml:79981dbc-2c5c-48be-a1ca-65e6b97acee9\" xlink:type=\"simple\"><rect fill=\"#FEFECE\" filter=\"url(#f4b6eid5cb8l4)\" height=\"45.9375\" id=\"E6\" rx=\"10\" ry=\"10\" style=\"stroke: #A80036; stroke-width: 1.5;\" width=\"68\" x=\"137\" y=\"87.5\"/><ellipse cx=\"152\" cy=\"106.4688\" fill=\"#32CD32\" rx=\"11\" ry=\"11\" style=\"stroke: #A80036; stroke-width: 1.0;\"/><path d=\"M148.8125,111.4688 L148.8125,100.875 L152.4219,100.875 Q153.6406,100.875 154.4375,101.3125 Q155.2344,101.7344 155.6094,102.4375 Q156,103.1406 156,103.9844 Q156,104.8281 155.625,105.5156 Q155.2656,106.2031 154.4688,106.625 Q153.6875,107.0313 152.5,107.0313 L150.7656,107.0313 L150.7656,111.4688 L148.8125,111.4688 Z M150.7656,105.4375 L152.375,105.4375 Q153.1875,105.4375 153.6094,105.0313 Q154.0313,104.625 154.0313,103.9844 Q154.0313,103.3594 153.6094,102.9531 Q153.1875,102.5469 152.3906,102.5469 L150.7656,102.5469 L150.7656,105.4375 Z \"/><text fill=\"#000000\" font-family=\"sans-serif\" font-size=\"12\" font-style=\"italic\" lengthAdjust=\"spacingAndGlyphs\" textLength=\"40\" x=\"164\" y=\"103.6387\">«part»</text><text fill=\"#000000\" font-family=\"sans-serif\" font-size=\"12\" lengthAdjust=\"spacingAndGlyphs\" textLength=\"22\" x=\"171\" y=\"117.6074\">x: A</text><line style=\"stroke: #A80036; stroke-width: 1.5;\" x1=\"138\" x2=\"204\" y1=\"125.4375\" y2=\"125.4375\"/></a><a href=\"psysml:c8033d1b-23e3-49c1-96df-e9838fdb206a\" target=\"_top\" title=\"psysml:c8033d1b-23e3-49c1-96df-e9838fdb206a\" xlink:actuate=\"onRequest\" xlink:href=\"psysml:c8033d1b-23e3-49c1-96df-e9838fdb206a\" xlink:show=\"new\" xlink:title=\"psysml:c8033d1b-23e3-49c1-96df-e9838fdb206a\" xlink:type=\"simple\"><polygon fill=\"#FFFFFF\" filter=\"url(#f4b6eid5cb8l4)\" points=\"56,84,88,84,95,106.2969,102,106.2969,102,136.5938,56,136.5938,56,84\" style=\"stroke: #000000; stroke-width: 1.5;\"/><line style=\"stroke: #000000; stroke-width: 1.5;\" x1=\"56\" x2=\"95\" y1=\"106.2969\" y2=\"106.2969\"/><text fill=\"#000000\" font-family=\"sans-serif\" font-size=\"14\" font-weight=\"bold\" lengthAdjust=\"spacingAndGlyphs\" textLength=\"26\" x=\"60\" y=\"98.9951\">P2a</text></a><!--MD5=[a717450b82c80b9240a525fa862496af]\n",
       "link E6 to E3--><a href=\"psysml:c58b2e1b-d15c-43ed-8c88-ba21dc2bc4d9\" target=\"_top\" title=\"psysml:c58b2e1b-d15c-43ed-8c88-ba21dc2bc4d9\" xlink:actuate=\"onRequest\" xlink:href=\"psysml:c58b2e1b-d15c-43ed-8c88-ba21dc2bc4d9\" xlink:show=\"new\" xlink:title=\"psysml:c58b2e1b-d15c-43ed-8c88-ba21dc2bc4d9\" xlink:type=\"simple\"><path d=\"M171,133.7 C171,149.89 171,172.27 171,191.49 \" fill=\"none\" id=\"E6-&gt;E3\" style=\"stroke: #A80036; stroke-width: 1.0;\"/><polygon fill=\"#FFFFFF\" points=\"171,211.69,164,192.69,178,192.69,171,211.69\" style=\"stroke: #A80036; stroke-width: 1.0;\"/><ellipse cx=\"166\" cy=\"186.99\" fill=\"#A80036\" rx=\"2\" ry=\"2\" style=\"stroke: #A80036; stroke-width: 1.0;\"/><ellipse cx=\"176\" cy=\"186.99\" fill=\"#A80036\" rx=\"2\" ry=\"2\" style=\"stroke: #A80036; stroke-width: 1.0;\"/></a><!--MD5=[eebe322201246469de11ce01c017eb5c]\n",
       "@startuml\r\n",
       " \r\n",
       "package \"QualifiedNameImportTest\" as E1  [[psysml:d6589951-d792-47be-8c0b-0f7f96c74b54 ]]  {\r\n",
       "package \"P1\" as E2  [[psysml:4f86bdc9-c02e-4b3c-80e5-19e64e9caefb ]]  {\r\n",
       "comp def \"A\" as E3 << << (B,green) >> [[psysml:0e402542-8392-49a3-8c29-2ec692a245e7 ]] {\r\n",
       "}\r\n",
       "}\r\n",
       "package \"P2\" as E4  [[psysml:eca2a432-2e72-4cdf-a8b0-841fc7787b6c ]]  {\r\n",
       "package \"P2a\" as E5  [[psysml:c8033d1b-23e3-49c1-96df-e9838fdb206a ]]  {\r\n",
       "}\r\n",
       "comp usage \"x: A \" as E6 << << (P,limegreen) part>> [[psysml:79981dbc-2c5c-48be-a1ca-65e6b97acee9 ]] {\r\n",
       "}\r\n",
       "}\r\n",
       "}\r\n",
       "E6 - -:|> E3 [[psysml:c58b2e1b-d15c-43ed-8c88-ba21dc2bc4d9 ]] \r\n",
       "@enduml\r\n",
       "\n",
       "PlantUML version 1.2020.13(Sat Jun 13 12:26:38 UTC 2020)\n",
       "(EPL source distribution)\n",
       "Java Runtime: OpenJDK Runtime Environment\n",
       "JVM: OpenJDK 64-Bit Server VM\n",
       "Default Encoding: UTF-8\n",
       "Language: en\n",
       "Country: null\n",
       "--></g></svg>"
      ]
     },
     "execution_count": 36,
     "metadata": {},
     "output_type": "execute_result"
    }
   ],
   "source": [
    "%viz --style=\"PLANTUML\" --view=\"MIXED\" \"QualifiedNameImportTest\""
   ]
  },
  {
   "cell_type": "code",
   "execution_count": 37,
   "id": "cb87f94b",
   "metadata": {
    "execution": {
     "iopub.execute_input": "2021-11-13T13:01:05.560184Z",
     "iopub.status.busy": "2021-11-13T13:01:05.559747Z",
     "iopub.status.idle": "2021-11-13T13:01:05.586202Z",
     "shell.execute_reply": "2021-11-13T13:01:05.585855Z"
    }
   },
   "outputs": [
    {
     "data": {
      "image/svg+xml": [
       "<?xml version=\"1.0\" encoding=\"UTF-8\" standalone=\"no\"?><svg xmlns=\"http://www.w3.org/2000/svg\" xmlns:xlink=\"http://www.w3.org/1999/xlink\" contentScriptType=\"application/ecmascript\" contentStyleType=\"text/css\" height=\"310px\" preserveAspectRatio=\"none\" style=\"width:241px;height:310px;\" version=\"1.1\" viewBox=\"0 0 241 310\" width=\"241px\" zoomAndPan=\"magnify\"><defs/><g><!--MD5=[fbc87193dbaf4d95561dea2c320d4a47]\n",
       "cluster E1--><a href=\"psysml:d6589951-d792-47be-8c0b-0f7f96c74b54\" target=\"_top\" title=\"psysml:d6589951-d792-47be-8c0b-0f7f96c74b54\" xlink:actuate=\"onRequest\" xlink:href=\"psysml:d6589951-d792-47be-8c0b-0f7f96c74b54\" xlink:show=\"new\" xlink:title=\"psysml:d6589951-d792-47be-8c0b-0f7f96c74b54\" xlink:type=\"simple\"><polygon fill=\"#FFFFFF\" points=\"16,6,196,6,203,28.2969,219,28.2969,219,298,16,298,16,6\" style=\"stroke: #000000; stroke-width: 1.5;\"/><line style=\"stroke: #000000; stroke-width: 1.5;\" x1=\"16\" x2=\"203\" y1=\"28.2969\" y2=\"28.2969\"/><text fill=\"#000000\" font-family=\"sans-serif\" font-size=\"14\" font-weight=\"bold\" lengthAdjust=\"spacingAndGlyphs\" textLength=\"174\" x=\"20\" y=\"20.9951\">QualifiedNameImportTest</text></a><!--MD5=[e4f7fae6ed58524ba242bb0b0d3be6b7]\n",
       "cluster E2--><a href=\"psysml:4f86bdc9-c02e-4b3c-80e5-19e64e9caefb\" target=\"_top\" title=\"psysml:4f86bdc9-c02e-4b3c-80e5-19e64e9caefb\" xlink:actuate=\"onRequest\" xlink:href=\"psysml:4f86bdc9-c02e-4b3c-80e5-19e64e9caefb\" xlink:show=\"new\" xlink:title=\"psysml:4f86bdc9-c02e-4b3c-80e5-19e64e9caefb\" xlink:type=\"simple\"><polygon fill=\"#FFFFFF\" points=\"93,177,117,177,124,199.2969,195,199.2969,195,274,93,274,93,177\" style=\"stroke: #000000; stroke-width: 1.5;\"/><line style=\"stroke: #000000; stroke-width: 1.5;\" x1=\"93\" x2=\"124\" y1=\"199.2969\" y2=\"199.2969\"/><text fill=\"#000000\" font-family=\"sans-serif\" font-size=\"14\" font-weight=\"bold\" lengthAdjust=\"spacingAndGlyphs\" textLength=\"18\" x=\"97\" y=\"191.9951\">P1</text></a><!--MD5=[f6df4d0ebaf0b5dfb2ced0ae5af7c670]\n",
       "cluster E4--><a href=\"psysml:eca2a432-2e72-4cdf-a8b0-841fc7787b6c\" target=\"_top\" title=\"psysml:eca2a432-2e72-4cdf-a8b0-841fc7787b6c\" xlink:actuate=\"onRequest\" xlink:href=\"psysml:eca2a432-2e72-4cdf-a8b0-841fc7787b6c\" xlink:show=\"new\" xlink:title=\"psysml:eca2a432-2e72-4cdf-a8b0-841fc7787b6c\" xlink:type=\"simple\"><polygon fill=\"#FFFFFF\" points=\"40,49,64,49,71,71.2969,195,71.2969,195,153,40,153,40,49\" style=\"stroke: #000000; stroke-width: 1.5;\"/><line style=\"stroke: #000000; stroke-width: 1.5;\" x1=\"40\" x2=\"71\" y1=\"71.2969\" y2=\"71.2969\"/><text fill=\"#000000\" font-family=\"sans-serif\" font-size=\"14\" font-weight=\"bold\" lengthAdjust=\"spacingAndGlyphs\" textLength=\"18\" x=\"44\" y=\"63.9951\">P2</text></a><!--MD5=[09b614a08d8cba4a07c9adeb5e0fee81]\n",
       "class E3--><a href=\"psysml:0e402542-8392-49a3-8c29-2ec692a245e7\" target=\"_top\" title=\"psysml:0e402542-8392-49a3-8c29-2ec692a245e7\" xlink:actuate=\"onRequest\" xlink:href=\"psysml:0e402542-8392-49a3-8c29-2ec692a245e7\" xlink:show=\"new\" xlink:title=\"psysml:0e402542-8392-49a3-8c29-2ec692a245e7\" xlink:type=\"simple\"><rect fill=\"#FFFFFF\" height=\"45.9375\" id=\"E3\" style=\"stroke: #383838; stroke-width: 1.5;\" width=\"70\" x=\"109\" y=\"212\"/><text fill=\"#000000\" font-family=\"sans-serif\" font-size=\"12\" font-style=\"italic\" lengthAdjust=\"spacingAndGlyphs\" textLength=\"68\" x=\"110\" y=\"228.1387\">«part  def»</text><text fill=\"#000000\" font-family=\"sans-serif\" font-size=\"12\" lengthAdjust=\"spacingAndGlyphs\" textLength=\"8\" x=\"140\" y=\"242.1074\">A</text><line style=\"stroke: #383838; stroke-width: 1.5;\" x1=\"110\" x2=\"178\" y1=\"249.9375\" y2=\"249.9375\"/></a><!--MD5=[60a26617385b1d2d0262a64233df1f8d]\n",
       "class E6--><a href=\"psysml:79981dbc-2c5c-48be-a1ca-65e6b97acee9\" target=\"_top\" title=\"psysml:79981dbc-2c5c-48be-a1ca-65e6b97acee9\" xlink:actuate=\"onRequest\" xlink:href=\"psysml:79981dbc-2c5c-48be-a1ca-65e6b97acee9\" xlink:show=\"new\" xlink:title=\"psysml:79981dbc-2c5c-48be-a1ca-65e6b97acee9\" xlink:type=\"simple\"><rect fill=\"#FFFFFF\" height=\"45.9375\" id=\"E6\" rx=\"10\" ry=\"10\" style=\"stroke: #383838; stroke-width: 1.5;\" width=\"42\" x=\"137\" y=\"87.5\"/><text fill=\"#000000\" font-family=\"sans-serif\" font-size=\"12\" font-style=\"italic\" lengthAdjust=\"spacingAndGlyphs\" textLength=\"40\" x=\"138\" y=\"103.6387\">«part»</text><text fill=\"#000000\" font-family=\"sans-serif\" font-size=\"12\" lengthAdjust=\"spacingAndGlyphs\" textLength=\"22\" x=\"145\" y=\"117.6074\">x: A</text><line style=\"stroke: #383838; stroke-width: 1.5;\" x1=\"138\" x2=\"178\" y1=\"125.4375\" y2=\"125.4375\"/></a><a href=\"psysml:c8033d1b-23e3-49c1-96df-e9838fdb206a\" target=\"_top\" title=\"psysml:c8033d1b-23e3-49c1-96df-e9838fdb206a\" xlink:actuate=\"onRequest\" xlink:href=\"psysml:c8033d1b-23e3-49c1-96df-e9838fdb206a\" xlink:show=\"new\" xlink:title=\"psysml:c8033d1b-23e3-49c1-96df-e9838fdb206a\" xlink:type=\"simple\"><polygon fill=\"#FFFFFF\" points=\"56,84,88,84,95,106.2969,102,106.2969,102,136.5938,56,136.5938,56,84\" style=\"stroke: #000000; stroke-width: 1.5;\"/><line style=\"stroke: #000000; stroke-width: 1.5;\" x1=\"56\" x2=\"95\" y1=\"106.2969\" y2=\"106.2969\"/><text fill=\"#000000\" font-family=\"sans-serif\" font-size=\"14\" font-weight=\"bold\" lengthAdjust=\"spacingAndGlyphs\" textLength=\"26\" x=\"60\" y=\"98.9951\">P2a</text></a><!--MD5=[a717450b82c80b9240a525fa862496af]\n",
       "link E6 to E3--><a href=\"psysml:c58b2e1b-d15c-43ed-8c88-ba21dc2bc4d9\" target=\"_top\" title=\"psysml:c58b2e1b-d15c-43ed-8c88-ba21dc2bc4d9\" xlink:actuate=\"onRequest\" xlink:href=\"psysml:c58b2e1b-d15c-43ed-8c88-ba21dc2bc4d9\" xlink:show=\"new\" xlink:title=\"psysml:c58b2e1b-d15c-43ed-8c88-ba21dc2bc4d9\" xlink:type=\"simple\"><path d=\"M155.46,133.68 C153.61,149.9 151.04,172.39 148.8,191.96 \" fill=\"none\" id=\"E6-&gt;E3\" style=\"stroke: #383838; stroke-width: 1.0;\"/><polygon fill=\"#FFFFFF\" points=\"146.52,211.98,141.7231,192.308,155.6325,193.8979,146.52,211.98\" style=\"stroke: #383838; stroke-width: 1.0;\"/><ellipse cx=\"144.3574\" cy=\"186.872\" fill=\"#383838\" rx=\"2\" ry=\"2\" style=\"stroke: #383838; stroke-width: 1.0;\"/><ellipse cx=\"154.2928\" cy=\"188.0076\" fill=\"#383838\" rx=\"2\" ry=\"2\" style=\"stroke: #383838; stroke-width: 1.0;\"/></a><!--MD5=[5bcc5a1aecfeaa8689acca1219a9cb21]\n",
       "@startuml\r\n",
       "skinparam monochrome true\r\n",
       "skinparam classbackgroundcolor white\r\n",
       "skinparam shadowing false\r\n",
       "skinparam wrapWidth 300\r\n",
       "hide circle\r\n",
       "\r\n",
       "package \"QualifiedNameImportTest\" as E1  [[psysml:d6589951-d792-47be-8c0b-0f7f96c74b54 ]]  {\r\n",
       "package \"P1\" as E2  [[psysml:4f86bdc9-c02e-4b3c-80e5-19e64e9caefb ]]  {\r\n",
       "comp def \"A\" as E3  <<(T,blue) part  def>> [[psysml:0e402542-8392-49a3-8c29-2ec692a245e7 ]] {\r\n",
       "}\r\n",
       "}\r\n",
       "package \"P2\" as E4  [[psysml:eca2a432-2e72-4cdf-a8b0-841fc7787b6c ]]  {\r\n",
       "package \"P2a\" as E5  [[psysml:c8033d1b-23e3-49c1-96df-e9838fdb206a ]]  {\r\n",
       "}\r\n",
       "comp usage \"x: A \" as E6  <<(T,blue) part>> [[psysml:79981dbc-2c5c-48be-a1ca-65e6b97acee9 ]] {\r\n",
       "}\r\n",
       "}\r\n",
       "}\r\n",
       "E6 - -:|> E3 [[psysml:c58b2e1b-d15c-43ed-8c88-ba21dc2bc4d9 ]] \r\n",
       "@enduml\r\n",
       "\n",
       "PlantUML version 1.2020.13(Sat Jun 13 12:26:38 UTC 2020)\n",
       "(EPL source distribution)\n",
       "Java Runtime: OpenJDK Runtime Environment\n",
       "JVM: OpenJDK 64-Bit Server VM\n",
       "Default Encoding: UTF-8\n",
       "Language: en\n",
       "Country: null\n",
       "--></g></svg>"
      ]
     },
     "execution_count": 37,
     "metadata": {},
     "output_type": "execute_result"
    }
   ],
   "source": [
    "%viz --style=\"DEFAULT\" --view=\"Default\" \"QualifiedNameImportTest\""
   ]
  },
  {
   "cell_type": "code",
   "execution_count": 38,
   "id": "5961f064",
   "metadata": {
    "execution": {
     "iopub.execute_input": "2021-11-13T13:01:05.635552Z",
     "iopub.status.busy": "2021-11-13T13:01:05.635123Z",
     "iopub.status.idle": "2021-11-13T13:01:05.660427Z",
     "shell.execute_reply": "2021-11-13T13:01:05.660057Z"
    }
   },
   "outputs": [
    {
     "data": {
      "image/svg+xml": [
       "<?xml version=\"1.0\" encoding=\"UTF-8\" standalone=\"no\"?><svg xmlns=\"http://www.w3.org/2000/svg\" xmlns:xlink=\"http://www.w3.org/1999/xlink\" contentScriptType=\"application/ecmascript\" contentStyleType=\"text/css\" height=\"310px\" preserveAspectRatio=\"none\" style=\"width:241px;height:310px;\" version=\"1.1\" viewBox=\"0 0 241 310\" width=\"241px\" zoomAndPan=\"magnify\"><defs/><g><!--MD5=[fbc87193dbaf4d95561dea2c320d4a47]\n",
       "cluster E1--><a href=\"psysml:d6589951-d792-47be-8c0b-0f7f96c74b54\" target=\"_top\" title=\"psysml:d6589951-d792-47be-8c0b-0f7f96c74b54\" xlink:actuate=\"onRequest\" xlink:href=\"psysml:d6589951-d792-47be-8c0b-0f7f96c74b54\" xlink:show=\"new\" xlink:title=\"psysml:d6589951-d792-47be-8c0b-0f7f96c74b54\" xlink:type=\"simple\"><polygon fill=\"#FFFFFF\" points=\"16,6,196,6,203,28.2969,219,28.2969,219,298,16,298,16,6\" style=\"stroke: #000000; stroke-width: 1.5;\"/><line style=\"stroke: #000000; stroke-width: 1.5;\" x1=\"16\" x2=\"203\" y1=\"28.2969\" y2=\"28.2969\"/><text fill=\"#000000\" font-family=\"sans-serif\" font-size=\"14\" font-weight=\"bold\" lengthAdjust=\"spacingAndGlyphs\" textLength=\"174\" x=\"20\" y=\"20.9951\">QualifiedNameImportTest</text></a><!--MD5=[e4f7fae6ed58524ba242bb0b0d3be6b7]\n",
       "cluster E2--><a href=\"psysml:4f86bdc9-c02e-4b3c-80e5-19e64e9caefb\" target=\"_top\" title=\"psysml:4f86bdc9-c02e-4b3c-80e5-19e64e9caefb\" xlink:actuate=\"onRequest\" xlink:href=\"psysml:4f86bdc9-c02e-4b3c-80e5-19e64e9caefb\" xlink:show=\"new\" xlink:title=\"psysml:4f86bdc9-c02e-4b3c-80e5-19e64e9caefb\" xlink:type=\"simple\"><polygon fill=\"#FFFFFF\" points=\"93,177,117,177,124,199.2969,195,199.2969,195,274,93,274,93,177\" style=\"stroke: #000000; stroke-width: 1.5;\"/><line style=\"stroke: #000000; stroke-width: 1.5;\" x1=\"93\" x2=\"124\" y1=\"199.2969\" y2=\"199.2969\"/><text fill=\"#000000\" font-family=\"sans-serif\" font-size=\"14\" font-weight=\"bold\" lengthAdjust=\"spacingAndGlyphs\" textLength=\"18\" x=\"97\" y=\"191.9951\">P1</text></a><!--MD5=[f6df4d0ebaf0b5dfb2ced0ae5af7c670]\n",
       "cluster E4--><a href=\"psysml:eca2a432-2e72-4cdf-a8b0-841fc7787b6c\" target=\"_top\" title=\"psysml:eca2a432-2e72-4cdf-a8b0-841fc7787b6c\" xlink:actuate=\"onRequest\" xlink:href=\"psysml:eca2a432-2e72-4cdf-a8b0-841fc7787b6c\" xlink:show=\"new\" xlink:title=\"psysml:eca2a432-2e72-4cdf-a8b0-841fc7787b6c\" xlink:type=\"simple\"><polygon fill=\"#FFFFFF\" points=\"40,49,64,49,71,71.2969,195,71.2969,195,153,40,153,40,49\" style=\"stroke: #000000; stroke-width: 1.5;\"/><line style=\"stroke: #000000; stroke-width: 1.5;\" x1=\"40\" x2=\"71\" y1=\"71.2969\" y2=\"71.2969\"/><text fill=\"#000000\" font-family=\"sans-serif\" font-size=\"14\" font-weight=\"bold\" lengthAdjust=\"spacingAndGlyphs\" textLength=\"18\" x=\"44\" y=\"63.9951\">P2</text></a><!--MD5=[09b614a08d8cba4a07c9adeb5e0fee81]\n",
       "class E3--><a href=\"psysml:0e402542-8392-49a3-8c29-2ec692a245e7\" target=\"_top\" title=\"psysml:0e402542-8392-49a3-8c29-2ec692a245e7\" xlink:actuate=\"onRequest\" xlink:href=\"psysml:0e402542-8392-49a3-8c29-2ec692a245e7\" xlink:show=\"new\" xlink:title=\"psysml:0e402542-8392-49a3-8c29-2ec692a245e7\" xlink:type=\"simple\"><rect fill=\"#FFFFFF\" height=\"45.9375\" id=\"E3\" style=\"stroke: #383838; stroke-width: 1.5;\" width=\"70\" x=\"109\" y=\"212\"/><text fill=\"#000000\" font-family=\"sans-serif\" font-size=\"12\" font-style=\"italic\" lengthAdjust=\"spacingAndGlyphs\" textLength=\"68\" x=\"110\" y=\"228.1387\">«part  def»</text><text fill=\"#000000\" font-family=\"sans-serif\" font-size=\"12\" lengthAdjust=\"spacingAndGlyphs\" textLength=\"8\" x=\"140\" y=\"242.1074\">A</text><line style=\"stroke: #383838; stroke-width: 1.5;\" x1=\"110\" x2=\"178\" y1=\"249.9375\" y2=\"249.9375\"/></a><!--MD5=[60a26617385b1d2d0262a64233df1f8d]\n",
       "class E6--><a href=\"psysml:79981dbc-2c5c-48be-a1ca-65e6b97acee9\" target=\"_top\" title=\"psysml:79981dbc-2c5c-48be-a1ca-65e6b97acee9\" xlink:actuate=\"onRequest\" xlink:href=\"psysml:79981dbc-2c5c-48be-a1ca-65e6b97acee9\" xlink:show=\"new\" xlink:title=\"psysml:79981dbc-2c5c-48be-a1ca-65e6b97acee9\" xlink:type=\"simple\"><rect fill=\"#FFFFFF\" height=\"45.9375\" id=\"E6\" rx=\"10\" ry=\"10\" style=\"stroke: #383838; stroke-width: 1.5;\" width=\"42\" x=\"137\" y=\"87.5\"/><text fill=\"#000000\" font-family=\"sans-serif\" font-size=\"12\" font-style=\"italic\" lengthAdjust=\"spacingAndGlyphs\" textLength=\"40\" x=\"138\" y=\"103.6387\">«part»</text><text fill=\"#000000\" font-family=\"sans-serif\" font-size=\"12\" lengthAdjust=\"spacingAndGlyphs\" textLength=\"22\" x=\"145\" y=\"117.6074\">x: A</text><line style=\"stroke: #383838; stroke-width: 1.5;\" x1=\"138\" x2=\"178\" y1=\"125.4375\" y2=\"125.4375\"/></a><a href=\"psysml:c8033d1b-23e3-49c1-96df-e9838fdb206a\" target=\"_top\" title=\"psysml:c8033d1b-23e3-49c1-96df-e9838fdb206a\" xlink:actuate=\"onRequest\" xlink:href=\"psysml:c8033d1b-23e3-49c1-96df-e9838fdb206a\" xlink:show=\"new\" xlink:title=\"psysml:c8033d1b-23e3-49c1-96df-e9838fdb206a\" xlink:type=\"simple\"><polygon fill=\"#FFFFFF\" points=\"56,84,88,84,95,106.2969,102,106.2969,102,136.5938,56,136.5938,56,84\" style=\"stroke: #000000; stroke-width: 1.5;\"/><line style=\"stroke: #000000; stroke-width: 1.5;\" x1=\"56\" x2=\"95\" y1=\"106.2969\" y2=\"106.2969\"/><text fill=\"#000000\" font-family=\"sans-serif\" font-size=\"14\" font-weight=\"bold\" lengthAdjust=\"spacingAndGlyphs\" textLength=\"26\" x=\"60\" y=\"98.9951\">P2a</text></a><!--MD5=[a717450b82c80b9240a525fa862496af]\n",
       "link E6 to E3--><a href=\"psysml:c58b2e1b-d15c-43ed-8c88-ba21dc2bc4d9\" target=\"_top\" title=\"psysml:c58b2e1b-d15c-43ed-8c88-ba21dc2bc4d9\" xlink:actuate=\"onRequest\" xlink:href=\"psysml:c58b2e1b-d15c-43ed-8c88-ba21dc2bc4d9\" xlink:show=\"new\" xlink:title=\"psysml:c58b2e1b-d15c-43ed-8c88-ba21dc2bc4d9\" xlink:type=\"simple\"><path d=\"M155.46,133.68 C153.61,149.9 151.04,172.39 148.8,191.96 \" fill=\"none\" id=\"E6-&gt;E3\" style=\"stroke: #383838; stroke-width: 1.0;\"/><polygon fill=\"#FFFFFF\" points=\"146.52,211.98,141.7231,192.308,155.6325,193.8979,146.52,211.98\" style=\"stroke: #383838; stroke-width: 1.0;\"/><ellipse cx=\"144.3574\" cy=\"186.872\" fill=\"#383838\" rx=\"2\" ry=\"2\" style=\"stroke: #383838; stroke-width: 1.0;\"/><ellipse cx=\"154.2928\" cy=\"188.0076\" fill=\"#383838\" rx=\"2\" ry=\"2\" style=\"stroke: #383838; stroke-width: 1.0;\"/></a><!--MD5=[5bcc5a1aecfeaa8689acca1219a9cb21]\n",
       "@startuml\r\n",
       "skinparam monochrome true\r\n",
       "skinparam classbackgroundcolor white\r\n",
       "skinparam shadowing false\r\n",
       "skinparam wrapWidth 300\r\n",
       "hide circle\r\n",
       "\r\n",
       "package \"QualifiedNameImportTest\" as E1  [[psysml:d6589951-d792-47be-8c0b-0f7f96c74b54 ]]  {\r\n",
       "package \"P1\" as E2  [[psysml:4f86bdc9-c02e-4b3c-80e5-19e64e9caefb ]]  {\r\n",
       "comp def \"A\" as E3  <<(T,blue) part  def>> [[psysml:0e402542-8392-49a3-8c29-2ec692a245e7 ]] {\r\n",
       "}\r\n",
       "}\r\n",
       "package \"P2\" as E4  [[psysml:eca2a432-2e72-4cdf-a8b0-841fc7787b6c ]]  {\r\n",
       "package \"P2a\" as E5  [[psysml:c8033d1b-23e3-49c1-96df-e9838fdb206a ]]  {\r\n",
       "}\r\n",
       "comp usage \"x: A \" as E6  <<(T,blue) part>> [[psysml:79981dbc-2c5c-48be-a1ca-65e6b97acee9 ]] {\r\n",
       "}\r\n",
       "}\r\n",
       "}\r\n",
       "E6 - -:|> E3 [[psysml:c58b2e1b-d15c-43ed-8c88-ba21dc2bc4d9 ]] \r\n",
       "@enduml\r\n",
       "\n",
       "PlantUML version 1.2020.13(Sat Jun 13 12:26:38 UTC 2020)\n",
       "(EPL source distribution)\n",
       "Java Runtime: OpenJDK Runtime Environment\n",
       "JVM: OpenJDK 64-Bit Server VM\n",
       "Default Encoding: UTF-8\n",
       "Language: en\n",
       "Country: null\n",
       "--></g></svg>"
      ]
     },
     "execution_count": 38,
     "metadata": {},
     "output_type": "execute_result"
    }
   ],
   "source": [
    "%viz --style=\"DEFAULT\" --view=\"Tree\" \"QualifiedNameImportTest\""
   ]
  },
  {
   "cell_type": "code",
   "execution_count": 39,
   "id": "49a1cf90",
   "metadata": {
    "execution": {
     "iopub.execute_input": "2021-11-13T13:01:05.709532Z",
     "iopub.status.busy": "2021-11-13T13:01:05.709115Z",
     "iopub.status.idle": "2021-11-13T13:01:05.712663Z",
     "shell.execute_reply": "2021-11-13T13:01:05.712326Z"
    }
   },
   "outputs": [
    {
     "data": {
      "image/svg+xml": [
       "<?xml version=\"1.0\" encoding=\"UTF-8\" standalone=\"no\"?><svg xmlns=\"http://www.w3.org/2000/svg\" xmlns:xlink=\"http://www.w3.org/1999/xlink\" contentScriptType=\"application/ecmascript\" contentStyleType=\"text/css\" height=\"12px\" preserveAspectRatio=\"none\" style=\"width:12px;height:12px;\" version=\"1.1\" viewBox=\"0 0 12 12\" width=\"12px\" zoomAndPan=\"magnify\"><defs/><g><!--MD5=[c5f280e076d0d61ccf4b0f27871bda1d]\n",
       "@startuml\r\n",
       "skinparam monochrome true\r\n",
       "skinparam classbackgroundcolor white\r\n",
       "skinparam shadowing false\r\n",
       "skinparam wrapWidth 300\r\n",
       "hide circle\r\n",
       "\r\n",
       "@enduml\r\n",
       "\n",
       "PlantUML version 1.2020.13(Sat Jun 13 12:26:38 UTC 2020)\n",
       "(EPL source distribution)\n",
       "Java Runtime: OpenJDK Runtime Environment\n",
       "JVM: OpenJDK 64-Bit Server VM\n",
       "Default Encoding: UTF-8\n",
       "Language: en\n",
       "Country: null\n",
       "--></g></svg>"
      ]
     },
     "execution_count": 39,
     "metadata": {},
     "output_type": "execute_result"
    }
   ],
   "source": [
    "%viz --style=\"DEFAULT\" --view=\"State\" \"QualifiedNameImportTest\""
   ]
  },
  {
   "cell_type": "code",
   "execution_count": 40,
   "id": "586a8204",
   "metadata": {
    "execution": {
     "iopub.execute_input": "2021-11-13T13:01:05.762103Z",
     "iopub.status.busy": "2021-11-13T13:01:05.761694Z",
     "iopub.status.idle": "2021-11-13T13:01:05.785717Z",
     "shell.execute_reply": "2021-11-13T13:01:05.785363Z"
    }
   },
   "outputs": [
    {
     "data": {
      "image/svg+xml": [
       "<?xml version=\"1.0\" encoding=\"UTF-8\" standalone=\"no\"?><svg xmlns=\"http://www.w3.org/2000/svg\" xmlns:xlink=\"http://www.w3.org/1999/xlink\" contentScriptType=\"application/ecmascript\" contentStyleType=\"text/css\" height=\"189px\" preserveAspectRatio=\"none\" style=\"width:379px;height:189px;\" version=\"1.1\" viewBox=\"0 0 379 189\" width=\"379px\" zoomAndPan=\"magnify\"><defs/><g><!--MD5=[fbc87193dbaf4d95561dea2c320d4a47]\n",
       "cluster E1--><a href=\"psysml:d6589951-d792-47be-8c0b-0f7f96c74b54\" target=\"_top\" title=\"psysml:d6589951-d792-47be-8c0b-0f7f96c74b54\" xlink:actuate=\"onRequest\" xlink:href=\"psysml:d6589951-d792-47be-8c0b-0f7f96c74b54\" xlink:show=\"new\" xlink:title=\"psysml:d6589951-d792-47be-8c0b-0f7f96c74b54\" xlink:type=\"simple\"><polygon fill=\"#FFFFFF\" points=\"16,6,196,6,203,28.2969,357,28.2969,357,177,16,177,16,6\" style=\"stroke: #000000; stroke-width: 1.5;\"/><line style=\"stroke: #000000; stroke-width: 1.5;\" x1=\"16\" x2=\"203\" y1=\"28.2969\" y2=\"28.2969\"/><text fill=\"#000000\" font-family=\"sans-serif\" font-size=\"14\" font-weight=\"bold\" lengthAdjust=\"spacingAndGlyphs\" textLength=\"174\" x=\"20\" y=\"20.9951\">QualifiedNameImportTest</text></a><!--MD5=[e4f7fae6ed58524ba242bb0b0d3be6b7]\n",
       "cluster E2--><a href=\"psysml:4f86bdc9-c02e-4b3c-80e5-19e64e9caefb\" target=\"_top\" title=\"psysml:4f86bdc9-c02e-4b3c-80e5-19e64e9caefb\" xlink:actuate=\"onRequest\" xlink:href=\"psysml:4f86bdc9-c02e-4b3c-80e5-19e64e9caefb\" xlink:show=\"new\" xlink:title=\"psysml:4f86bdc9-c02e-4b3c-80e5-19e64e9caefb\" xlink:type=\"simple\"><polygon fill=\"#FFFFFF\" points=\"227,54,251,54,258,76.2969,333,76.2969,333,148,227,148,227,54\" style=\"stroke: #000000; stroke-width: 1.5;\"/><line style=\"stroke: #000000; stroke-width: 1.5;\" x1=\"227\" x2=\"258\" y1=\"76.2969\" y2=\"76.2969\"/><text fill=\"#000000\" font-family=\"sans-serif\" font-size=\"14\" font-weight=\"bold\" lengthAdjust=\"spacingAndGlyphs\" textLength=\"18\" x=\"231\" y=\"68.9951\">P1</text></a><!--MD5=[f6df4d0ebaf0b5dfb2ced0ae5af7c670]\n",
       "cluster E4--><a href=\"psysml:eca2a432-2e72-4cdf-a8b0-841fc7787b6c\" target=\"_top\" title=\"psysml:eca2a432-2e72-4cdf-a8b0-841fc7787b6c\" xlink:actuate=\"onRequest\" xlink:href=\"psysml:eca2a432-2e72-4cdf-a8b0-841fc7787b6c\" xlink:show=\"new\" xlink:title=\"psysml:eca2a432-2e72-4cdf-a8b0-841fc7787b6c\" xlink:type=\"simple\"><polygon fill=\"#FFFFFF\" points=\"40,49,64,49,71,71.2969,203,71.2969,203,153,40,153,40,49\" style=\"stroke: #000000; stroke-width: 1.5;\"/><line style=\"stroke: #000000; stroke-width: 1.5;\" x1=\"40\" x2=\"71\" y1=\"71.2969\" y2=\"71.2969\"/><text fill=\"#000000\" font-family=\"sans-serif\" font-size=\"14\" font-weight=\"bold\" lengthAdjust=\"spacingAndGlyphs\" textLength=\"18\" x=\"44\" y=\"63.9951\">P2</text></a><g id=\"E1.E2.E3\"><a href=\"psysml:0e402542-8392-49a3-8c29-2ec692a245e7\" target=\"_top\" title=\"psysml:0e402542-8392-49a3-8c29-2ec692a245e7\" xlink:actuate=\"onRequest\" xlink:href=\"psysml:0e402542-8392-49a3-8c29-2ec692a245e7\" xlink:show=\"new\" xlink:title=\"psysml:0e402542-8392-49a3-8c29-2ec692a245e7\" xlink:type=\"simple\"><rect fill=\"#FFFFFF\" height=\"42.9375\" id=\"E3\" style=\"stroke: #383838; stroke-width: 1.5;\" width=\"75\" x=\"242.5\" y=\"89\"/><rect fill=\"#F8F8F8\" height=\"37.9375\" style=\"stroke: #383838; stroke-width: 1.5;\" width=\"75\" x=\"242.5\" y=\"89\"/><text fill=\"#000000\" font-family=\"sans-serif\" font-size=\"12\" font-style=\"italic\" lengthAdjust=\"spacingAndGlyphs\" textLength=\"68\" x=\"246\" y=\"105.1387\">«part  def»</text><text fill=\"#000000\" font-family=\"sans-serif\" font-size=\"12\" lengthAdjust=\"spacingAndGlyphs\" textLength=\"8\" x=\"276\" y=\"119.1074\">A</text></a></g><a href=\"psysml:c8033d1b-23e3-49c1-96df-e9838fdb206a\" target=\"_top\" title=\"psysml:c8033d1b-23e3-49c1-96df-e9838fdb206a\" xlink:actuate=\"onRequest\" xlink:href=\"psysml:c8033d1b-23e3-49c1-96df-e9838fdb206a\" xlink:show=\"new\" xlink:title=\"psysml:c8033d1b-23e3-49c1-96df-e9838fdb206a\" xlink:type=\"simple\"><polygon fill=\"#FFFFFF\" points=\"141,84,173,84,180,106.2969,187,106.2969,187,136.5938,141,136.5938,141,84\" style=\"stroke: #000000; stroke-width: 1.5;\"/><line style=\"stroke: #000000; stroke-width: 1.5;\" x1=\"141\" x2=\"180\" y1=\"106.2969\" y2=\"106.2969\"/><text fill=\"#000000\" font-family=\"sans-serif\" font-size=\"14\" font-weight=\"bold\" lengthAdjust=\"spacingAndGlyphs\" textLength=\"26\" x=\"145\" y=\"98.9951\">P2a</text></a><g id=\"E1.E4.E6\"><a href=\"psysml:79981dbc-2c5c-48be-a1ca-65e6b97acee9\" target=\"_top\" title=\"psysml:79981dbc-2c5c-48be-a1ca-65e6b97acee9\" xlink:actuate=\"onRequest\" xlink:href=\"psysml:79981dbc-2c5c-48be-a1ca-65e6b97acee9\" xlink:show=\"new\" xlink:title=\"psysml:79981dbc-2c5c-48be-a1ca-65e6b97acee9\" xlink:type=\"simple\"><rect fill=\"#FFFFFF\" height=\"40\" id=\"E6\" rx=\"10\" ry=\"10\" style=\"stroke: #383838; stroke-width: 1.5;\" width=\"50\" x=\"56\" y=\"90.5\"/><rect fill=\"#F8F8F8\" height=\"23.9688\" rx=\"10\" ry=\"10\" style=\"stroke: #F8F8F8; stroke-width: 1.5;\" width=\"50\" x=\"56\" y=\"90.5\"/><rect fill=\"#F8F8F8\" height=\"10\" style=\"stroke: #F8F8F8; stroke-width: 1.5;\" width=\"50\" x=\"56\" y=\"104.4688\"/><rect fill=\"none\" height=\"40\" id=\"E6\" rx=\"10\" ry=\"10\" style=\"stroke: #383838; stroke-width: 1.5;\" width=\"50\" x=\"56\" y=\"90.5\"/><text fill=\"#000000\" font-family=\"sans-serif\" font-size=\"12\" lengthAdjust=\"spacingAndGlyphs\" textLength=\"22\" x=\"70\" y=\"106.6387\">x: A</text></a></g><!--MD5=[b15efeb12f8f96871adbdfa295e0d23d]\n",
       "@startuml\r\n",
       "skinparam ranksep 10\r\n",
       "skinparam rectangle {\r\n",
       " backgroundColor<<block>> LightGreen\r\n",
       "}\r\n",
       "skinparam monochrome true\r\n",
       "skinparam classbackgroundcolor white\r\n",
       "skinparam shadowing false\r\n",
       "skinparam wrapWidth 300\r\n",
       "hide circle\r\n",
       "\r\n",
       "package \"QualifiedNameImportTest\" as E1  [[psysml:d6589951-d792-47be-8c0b-0f7f96c74b54 ]]  {\r\n",
       "package \"P1\" as E2  [[psysml:4f86bdc9-c02e-4b3c-80e5-19e64e9caefb ]]  {\r\n",
       "rec def \"A\" as E3  <<(T,blue) part  def>> [[psysml:0e402542-8392-49a3-8c29-2ec692a245e7 ]] {\r\n",
       "}\r\n",
       "}\r\n",
       "package \"P2\" as E4  [[psysml:eca2a432-2e72-4cdf-a8b0-841fc7787b6c ]]  {\r\n",
       "package \"P2a\" as E5  [[psysml:c8033d1b-23e3-49c1-96df-e9838fdb206a ]]  {\r\n",
       "}\r\n",
       "rec usage \"x: A\" as E6  [[psysml:79981dbc-2c5c-48be-a1ca-65e6b97acee9 ]] {\r\n",
       "}\r\n",
       "}\r\n",
       "}\r\n",
       "@enduml\r\n",
       "\n",
       "PlantUML version 1.2020.13(Sat Jun 13 12:26:38 UTC 2020)\n",
       "(EPL source distribution)\n",
       "Java Runtime: OpenJDK Runtime Environment\n",
       "JVM: OpenJDK 64-Bit Server VM\n",
       "Default Encoding: UTF-8\n",
       "Language: en\n",
       "Country: null\n",
       "--></g></svg>"
      ]
     },
     "execution_count": 40,
     "metadata": {},
     "output_type": "execute_result"
    }
   ],
   "source": [
    "%viz --style=\"DEFAULT\" --view=\"Interconnection\" \"QualifiedNameImportTest\""
   ]
  },
  {
   "cell_type": "code",
   "execution_count": 41,
   "id": "56445fa4",
   "metadata": {
    "execution": {
     "iopub.execute_input": "2021-11-13T13:01:05.835290Z",
     "iopub.status.busy": "2021-11-13T13:01:05.834885Z",
     "iopub.status.idle": "2021-11-13T13:01:05.839916Z",
     "shell.execute_reply": "2021-11-13T13:01:05.840233Z"
    }
   },
   "outputs": [
    {
     "data": {
      "image/svg+xml": [
       "<?xml version=\"1.0\" encoding=\"UTF-8\" standalone=\"no\"?><svg xmlns=\"http://www.w3.org/2000/svg\" xmlns:xlink=\"http://www.w3.org/1999/xlink\" contentScriptType=\"application/ecmascript\" contentStyleType=\"text/css\" height=\"12px\" preserveAspectRatio=\"none\" style=\"width:12px;height:12px;\" version=\"1.1\" viewBox=\"0 0 12 12\" width=\"12px\" zoomAndPan=\"magnify\"><defs/><g><!--MD5=[388f21188e31bfdd97050473b19af356]\n",
       "@startuml\r\n",
       "skinparam ranksep 8\r\n",
       "skinparam monochrome true\r\n",
       "skinparam classbackgroundcolor white\r\n",
       "skinparam shadowing false\r\n",
       "skinparam wrapWidth 300\r\n",
       "hide circle\r\n",
       "\r\n",
       "@enduml\r\n",
       "\n",
       "PlantUML version 1.2020.13(Sat Jun 13 12:26:38 UTC 2020)\n",
       "(EPL source distribution)\n",
       "Java Runtime: OpenJDK Runtime Environment\n",
       "JVM: OpenJDK 64-Bit Server VM\n",
       "Default Encoding: UTF-8\n",
       "Language: en\n",
       "Country: null\n",
       "--></g></svg>"
      ]
     },
     "execution_count": 41,
     "metadata": {},
     "output_type": "execute_result"
    }
   ],
   "source": [
    "%viz --style=\"DEFAULT\" --view=\"Action\" \"QualifiedNameImportTest\""
   ]
  },
  {
   "cell_type": "code",
   "execution_count": 42,
   "id": "82abd5c7",
   "metadata": {
    "execution": {
     "iopub.execute_input": "2021-11-13T13:01:05.889709Z",
     "iopub.status.busy": "2021-11-13T13:01:05.889313Z",
     "iopub.status.idle": "2021-11-13T13:01:05.894649Z",
     "shell.execute_reply": "2021-11-13T13:01:05.894962Z"
    }
   },
   "outputs": [
    {
     "data": {
      "image/svg+xml": [
       "<?xml version=\"1.0\" encoding=\"UTF-8\" standalone=\"no\"?><svg xmlns=\"http://www.w3.org/2000/svg\" xmlns:xlink=\"http://www.w3.org/1999/xlink\" contentScriptType=\"application/ecmascript\" contentStyleType=\"text/css\" height=\"12px\" preserveAspectRatio=\"none\" style=\"width:12px;height:12px;\" version=\"1.1\" viewBox=\"0 0 12 12\" width=\"12px\" zoomAndPan=\"magnify\"><defs/><g><!--MD5=[0b72472770326784bf6c2b53246e1e64]\n",
       "@startuml\r\n",
       "skinparam roundcorner 20\r\n",
       "skinparam BoxPadding 20\r\n",
       "skinparam SequenceBoxBackgroundColor #white\r\n",
       "skinparam style strictuml\r\n",
       "skinparam maxMessageSize 100\r\n",
       "skinparam monochrome true\r\n",
       "skinparam classbackgroundcolor white\r\n",
       "skinparam shadowing false\r\n",
       "skinparam wrapWidth 300\r\n",
       "hide circle\r\n",
       "\r\n",
       "@enduml\r\n",
       "\n",
       "PlantUML version 1.2020.13(Sat Jun 13 12:26:38 UTC 2020)\n",
       "(EPL source distribution)\n",
       "Java Runtime: OpenJDK Runtime Environment\n",
       "JVM: OpenJDK 64-Bit Server VM\n",
       "Default Encoding: UTF-8\n",
       "Language: en\n",
       "Country: null\n",
       "--></g></svg>"
      ]
     },
     "execution_count": 42,
     "metadata": {},
     "output_type": "execute_result"
    }
   ],
   "source": [
    "%viz --style=\"DEFAULT\" --view=\"Sequence\" \"QualifiedNameImportTest\""
   ]
  },
  {
   "cell_type": "code",
   "execution_count": 43,
   "id": "48b8d2f2",
   "metadata": {
    "execution": {
     "iopub.execute_input": "2021-11-13T13:01:05.944576Z",
     "iopub.status.busy": "2021-11-13T13:01:05.944175Z",
     "iopub.status.idle": "2021-11-13T13:01:05.970671Z",
     "shell.execute_reply": "2021-11-13T13:01:05.968992Z"
    }
   },
   "outputs": [
    {
     "data": {
      "image/svg+xml": [
       "<?xml version=\"1.0\" encoding=\"UTF-8\" standalone=\"no\"?><svg xmlns=\"http://www.w3.org/2000/svg\" xmlns:xlink=\"http://www.w3.org/1999/xlink\" contentScriptType=\"application/ecmascript\" contentStyleType=\"text/css\" height=\"310px\" preserveAspectRatio=\"none\" style=\"width:241px;height:310px;\" version=\"1.1\" viewBox=\"0 0 241 310\" width=\"241px\" zoomAndPan=\"magnify\"><defs/><g><!--MD5=[fbc87193dbaf4d95561dea2c320d4a47]\n",
       "cluster E1--><a href=\"psysml:d6589951-d792-47be-8c0b-0f7f96c74b54\" target=\"_top\" title=\"psysml:d6589951-d792-47be-8c0b-0f7f96c74b54\" xlink:actuate=\"onRequest\" xlink:href=\"psysml:d6589951-d792-47be-8c0b-0f7f96c74b54\" xlink:show=\"new\" xlink:title=\"psysml:d6589951-d792-47be-8c0b-0f7f96c74b54\" xlink:type=\"simple\"><polygon fill=\"#FFFFFF\" points=\"16,6,196,6,203,28.2969,219,28.2969,219,298,16,298,16,6\" style=\"stroke: #000000; stroke-width: 1.5;\"/><line style=\"stroke: #000000; stroke-width: 1.5;\" x1=\"16\" x2=\"203\" y1=\"28.2969\" y2=\"28.2969\"/><text fill=\"#000000\" font-family=\"sans-serif\" font-size=\"14\" font-weight=\"bold\" lengthAdjust=\"spacingAndGlyphs\" textLength=\"174\" x=\"20\" y=\"20.9951\">QualifiedNameImportTest</text></a><!--MD5=[e4f7fae6ed58524ba242bb0b0d3be6b7]\n",
       "cluster E2--><a href=\"psysml:4f86bdc9-c02e-4b3c-80e5-19e64e9caefb\" target=\"_top\" title=\"psysml:4f86bdc9-c02e-4b3c-80e5-19e64e9caefb\" xlink:actuate=\"onRequest\" xlink:href=\"psysml:4f86bdc9-c02e-4b3c-80e5-19e64e9caefb\" xlink:show=\"new\" xlink:title=\"psysml:4f86bdc9-c02e-4b3c-80e5-19e64e9caefb\" xlink:type=\"simple\"><polygon fill=\"#FFFFFF\" points=\"93,177,117,177,124,199.2969,195,199.2969,195,274,93,274,93,177\" style=\"stroke: #000000; stroke-width: 1.5;\"/><line style=\"stroke: #000000; stroke-width: 1.5;\" x1=\"93\" x2=\"124\" y1=\"199.2969\" y2=\"199.2969\"/><text fill=\"#000000\" font-family=\"sans-serif\" font-size=\"14\" font-weight=\"bold\" lengthAdjust=\"spacingAndGlyphs\" textLength=\"18\" x=\"97\" y=\"191.9951\">P1</text></a><!--MD5=[f6df4d0ebaf0b5dfb2ced0ae5af7c670]\n",
       "cluster E4--><a href=\"psysml:eca2a432-2e72-4cdf-a8b0-841fc7787b6c\" target=\"_top\" title=\"psysml:eca2a432-2e72-4cdf-a8b0-841fc7787b6c\" xlink:actuate=\"onRequest\" xlink:href=\"psysml:eca2a432-2e72-4cdf-a8b0-841fc7787b6c\" xlink:show=\"new\" xlink:title=\"psysml:eca2a432-2e72-4cdf-a8b0-841fc7787b6c\" xlink:type=\"simple\"><polygon fill=\"#FFFFFF\" points=\"40,49,64,49,71,71.2969,195,71.2969,195,153,40,153,40,49\" style=\"stroke: #000000; stroke-width: 1.5;\"/><line style=\"stroke: #000000; stroke-width: 1.5;\" x1=\"40\" x2=\"71\" y1=\"71.2969\" y2=\"71.2969\"/><text fill=\"#000000\" font-family=\"sans-serif\" font-size=\"14\" font-weight=\"bold\" lengthAdjust=\"spacingAndGlyphs\" textLength=\"18\" x=\"44\" y=\"63.9951\">P2</text></a><!--MD5=[09b614a08d8cba4a07c9adeb5e0fee81]\n",
       "class E3--><a href=\"psysml:0e402542-8392-49a3-8c29-2ec692a245e7\" target=\"_top\" title=\"psysml:0e402542-8392-49a3-8c29-2ec692a245e7\" xlink:actuate=\"onRequest\" xlink:href=\"psysml:0e402542-8392-49a3-8c29-2ec692a245e7\" xlink:show=\"new\" xlink:title=\"psysml:0e402542-8392-49a3-8c29-2ec692a245e7\" xlink:type=\"simple\"><rect fill=\"#FFFFFF\" height=\"45.9375\" id=\"E3\" style=\"stroke: #383838; stroke-width: 1.5;\" width=\"70\" x=\"109\" y=\"212\"/><text fill=\"#000000\" font-family=\"sans-serif\" font-size=\"12\" font-style=\"italic\" lengthAdjust=\"spacingAndGlyphs\" textLength=\"68\" x=\"110\" y=\"228.1387\">«part  def»</text><text fill=\"#000000\" font-family=\"sans-serif\" font-size=\"12\" lengthAdjust=\"spacingAndGlyphs\" textLength=\"8\" x=\"140\" y=\"242.1074\">A</text><line style=\"stroke: #383838; stroke-width: 1.5;\" x1=\"110\" x2=\"178\" y1=\"249.9375\" y2=\"249.9375\"/></a><!--MD5=[60a26617385b1d2d0262a64233df1f8d]\n",
       "class E6--><a href=\"psysml:79981dbc-2c5c-48be-a1ca-65e6b97acee9\" target=\"_top\" title=\"psysml:79981dbc-2c5c-48be-a1ca-65e6b97acee9\" xlink:actuate=\"onRequest\" xlink:href=\"psysml:79981dbc-2c5c-48be-a1ca-65e6b97acee9\" xlink:show=\"new\" xlink:title=\"psysml:79981dbc-2c5c-48be-a1ca-65e6b97acee9\" xlink:type=\"simple\"><rect fill=\"#FFFFFF\" height=\"45.9375\" id=\"E6\" rx=\"10\" ry=\"10\" style=\"stroke: #383838; stroke-width: 1.5;\" width=\"42\" x=\"137\" y=\"87.5\"/><text fill=\"#000000\" font-family=\"sans-serif\" font-size=\"12\" font-style=\"italic\" lengthAdjust=\"spacingAndGlyphs\" textLength=\"40\" x=\"138\" y=\"103.6387\">«part»</text><text fill=\"#000000\" font-family=\"sans-serif\" font-size=\"12\" lengthAdjust=\"spacingAndGlyphs\" textLength=\"22\" x=\"145\" y=\"117.6074\">x: A</text><line style=\"stroke: #383838; stroke-width: 1.5;\" x1=\"138\" x2=\"178\" y1=\"125.4375\" y2=\"125.4375\"/></a><a href=\"psysml:c8033d1b-23e3-49c1-96df-e9838fdb206a\" target=\"_top\" title=\"psysml:c8033d1b-23e3-49c1-96df-e9838fdb206a\" xlink:actuate=\"onRequest\" xlink:href=\"psysml:c8033d1b-23e3-49c1-96df-e9838fdb206a\" xlink:show=\"new\" xlink:title=\"psysml:c8033d1b-23e3-49c1-96df-e9838fdb206a\" xlink:type=\"simple\"><polygon fill=\"#FFFFFF\" points=\"56,84,88,84,95,106.2969,102,106.2969,102,136.5938,56,136.5938,56,84\" style=\"stroke: #000000; stroke-width: 1.5;\"/><line style=\"stroke: #000000; stroke-width: 1.5;\" x1=\"56\" x2=\"95\" y1=\"106.2969\" y2=\"106.2969\"/><text fill=\"#000000\" font-family=\"sans-serif\" font-size=\"14\" font-weight=\"bold\" lengthAdjust=\"spacingAndGlyphs\" textLength=\"26\" x=\"60\" y=\"98.9951\">P2a</text></a><!--MD5=[a717450b82c80b9240a525fa862496af]\n",
       "link E6 to E3--><a href=\"psysml:c58b2e1b-d15c-43ed-8c88-ba21dc2bc4d9\" target=\"_top\" title=\"psysml:c58b2e1b-d15c-43ed-8c88-ba21dc2bc4d9\" xlink:actuate=\"onRequest\" xlink:href=\"psysml:c58b2e1b-d15c-43ed-8c88-ba21dc2bc4d9\" xlink:show=\"new\" xlink:title=\"psysml:c58b2e1b-d15c-43ed-8c88-ba21dc2bc4d9\" xlink:type=\"simple\"><path d=\"M155.46,133.68 C153.61,149.9 151.04,172.39 148.8,191.96 \" fill=\"none\" id=\"E6-&gt;E3\" style=\"stroke: #383838; stroke-width: 1.0;\"/><polygon fill=\"#FFFFFF\" points=\"146.52,211.98,141.7231,192.308,155.6325,193.8979,146.52,211.98\" style=\"stroke: #383838; stroke-width: 1.0;\"/><ellipse cx=\"144.3574\" cy=\"186.872\" fill=\"#383838\" rx=\"2\" ry=\"2\" style=\"stroke: #383838; stroke-width: 1.0;\"/><ellipse cx=\"154.2928\" cy=\"188.0076\" fill=\"#383838\" rx=\"2\" ry=\"2\" style=\"stroke: #383838; stroke-width: 1.0;\"/></a><!--MD5=[5bcc5a1aecfeaa8689acca1219a9cb21]\n",
       "@startuml\r\n",
       "skinparam monochrome true\r\n",
       "skinparam classbackgroundcolor white\r\n",
       "skinparam shadowing false\r\n",
       "skinparam wrapWidth 300\r\n",
       "hide circle\r\n",
       "\r\n",
       "package \"QualifiedNameImportTest\" as E1  [[psysml:d6589951-d792-47be-8c0b-0f7f96c74b54 ]]  {\r\n",
       "package \"P1\" as E2  [[psysml:4f86bdc9-c02e-4b3c-80e5-19e64e9caefb ]]  {\r\n",
       "comp def \"A\" as E3  <<(T,blue) part  def>> [[psysml:0e402542-8392-49a3-8c29-2ec692a245e7 ]] {\r\n",
       "}\r\n",
       "}\r\n",
       "package \"P2\" as E4  [[psysml:eca2a432-2e72-4cdf-a8b0-841fc7787b6c ]]  {\r\n",
       "package \"P2a\" as E5  [[psysml:c8033d1b-23e3-49c1-96df-e9838fdb206a ]]  {\r\n",
       "}\r\n",
       "comp usage \"x: A \" as E6  <<(T,blue) part>> [[psysml:79981dbc-2c5c-48be-a1ca-65e6b97acee9 ]] {\r\n",
       "}\r\n",
       "}\r\n",
       "}\r\n",
       "E6 - -:|> E3 [[psysml:c58b2e1b-d15c-43ed-8c88-ba21dc2bc4d9 ]] \r\n",
       "@enduml\r\n",
       "\n",
       "PlantUML version 1.2020.13(Sat Jun 13 12:26:38 UTC 2020)\n",
       "(EPL source distribution)\n",
       "Java Runtime: OpenJDK Runtime Environment\n",
       "JVM: OpenJDK 64-Bit Server VM\n",
       "Default Encoding: UTF-8\n",
       "Language: en\n",
       "Country: null\n",
       "--></g></svg>"
      ]
     },
     "execution_count": 43,
     "metadata": {},
     "output_type": "execute_result"
    }
   ],
   "source": [
    "%viz --style=\"DEFAULT\" --view=\"MIXED\" \"QualifiedNameImportTest\""
   ]
  },
  {
   "cell_type": "code",
   "execution_count": 44,
   "id": "4a6a555a",
   "metadata": {
    "execution": {
     "iopub.execute_input": "2021-11-13T13:01:06.019997Z",
     "iopub.status.busy": "2021-11-13T13:01:06.019585Z",
     "iopub.status.idle": "2021-11-13T13:01:06.046526Z",
     "shell.execute_reply": "2021-11-13T13:01:06.046163Z"
    }
   },
   "outputs": [
    {
     "data": {
      "image/svg+xml": [
       "<?xml version=\"1.0\" encoding=\"UTF-8\" standalone=\"no\"?><svg xmlns=\"http://www.w3.org/2000/svg\" xmlns:xlink=\"http://www.w3.org/1999/xlink\" contentScriptType=\"application/ecmascript\" contentStyleType=\"text/css\" height=\"310px\" preserveAspectRatio=\"none\" style=\"width:241px;height:310px;\" version=\"1.1\" viewBox=\"0 0 241 310\" width=\"241px\" zoomAndPan=\"magnify\"><defs/><g><!--MD5=[fbc87193dbaf4d95561dea2c320d4a47]\n",
       "cluster E1--><a href=\"psysml:d6589951-d792-47be-8c0b-0f7f96c74b54\" target=\"_top\" title=\"psysml:d6589951-d792-47be-8c0b-0f7f96c74b54\" xlink:actuate=\"onRequest\" xlink:href=\"psysml:d6589951-d792-47be-8c0b-0f7f96c74b54\" xlink:show=\"new\" xlink:title=\"psysml:d6589951-d792-47be-8c0b-0f7f96c74b54\" xlink:type=\"simple\"><polygon fill=\"#FFFFFF\" points=\"16,6,196,6,203,28.2969,219,28.2969,219,298,16,298,16,6\" style=\"stroke: #000000; stroke-width: 1.5;\"/><line style=\"stroke: #000000; stroke-width: 1.5;\" x1=\"16\" x2=\"203\" y1=\"28.2969\" y2=\"28.2969\"/><text fill=\"#000000\" font-family=\"sans-serif\" font-size=\"14\" font-weight=\"bold\" lengthAdjust=\"spacingAndGlyphs\" textLength=\"174\" x=\"20\" y=\"20.9951\">QualifiedNameImportTest</text></a><!--MD5=[e4f7fae6ed58524ba242bb0b0d3be6b7]\n",
       "cluster E2--><a href=\"psysml:4f86bdc9-c02e-4b3c-80e5-19e64e9caefb\" target=\"_top\" title=\"psysml:4f86bdc9-c02e-4b3c-80e5-19e64e9caefb\" xlink:actuate=\"onRequest\" xlink:href=\"psysml:4f86bdc9-c02e-4b3c-80e5-19e64e9caefb\" xlink:show=\"new\" xlink:title=\"psysml:4f86bdc9-c02e-4b3c-80e5-19e64e9caefb\" xlink:type=\"simple\"><polygon fill=\"#FFFFFF\" points=\"93,177,117,177,124,199.2969,195,199.2969,195,274,93,274,93,177\" style=\"stroke: #000000; stroke-width: 1.5;\"/><line style=\"stroke: #000000; stroke-width: 1.5;\" x1=\"93\" x2=\"124\" y1=\"199.2969\" y2=\"199.2969\"/><text fill=\"#000000\" font-family=\"sans-serif\" font-size=\"14\" font-weight=\"bold\" lengthAdjust=\"spacingAndGlyphs\" textLength=\"18\" x=\"97\" y=\"191.9951\">P1</text></a><!--MD5=[f6df4d0ebaf0b5dfb2ced0ae5af7c670]\n",
       "cluster E4--><a href=\"psysml:eca2a432-2e72-4cdf-a8b0-841fc7787b6c\" target=\"_top\" title=\"psysml:eca2a432-2e72-4cdf-a8b0-841fc7787b6c\" xlink:actuate=\"onRequest\" xlink:href=\"psysml:eca2a432-2e72-4cdf-a8b0-841fc7787b6c\" xlink:show=\"new\" xlink:title=\"psysml:eca2a432-2e72-4cdf-a8b0-841fc7787b6c\" xlink:type=\"simple\"><polygon fill=\"#FFFFFF\" points=\"40,49,64,49,71,71.2969,195,71.2969,195,153,40,153,40,49\" style=\"stroke: #000000; stroke-width: 1.5;\"/><line style=\"stroke: #000000; stroke-width: 1.5;\" x1=\"40\" x2=\"71\" y1=\"71.2969\" y2=\"71.2969\"/><text fill=\"#000000\" font-family=\"sans-serif\" font-size=\"14\" font-weight=\"bold\" lengthAdjust=\"spacingAndGlyphs\" textLength=\"18\" x=\"44\" y=\"63.9951\">P2</text></a><!--MD5=[09b614a08d8cba4a07c9adeb5e0fee81]\n",
       "class E3--><a href=\"psysml:0e402542-8392-49a3-8c29-2ec692a245e7\" target=\"_top\" title=\"psysml:0e402542-8392-49a3-8c29-2ec692a245e7\" xlink:actuate=\"onRequest\" xlink:href=\"psysml:0e402542-8392-49a3-8c29-2ec692a245e7\" xlink:show=\"new\" xlink:title=\"psysml:0e402542-8392-49a3-8c29-2ec692a245e7\" xlink:type=\"simple\"><rect fill=\"#FFFFFF\" height=\"45.9375\" id=\"E3\" style=\"stroke: #383838; stroke-width: 1.5;\" width=\"70\" x=\"109\" y=\"212\"/><text fill=\"#000000\" font-family=\"sans-serif\" font-size=\"12\" font-style=\"italic\" lengthAdjust=\"spacingAndGlyphs\" textLength=\"68\" x=\"110\" y=\"228.1387\">«part  def»</text><text fill=\"#000000\" font-family=\"sans-serif\" font-size=\"12\" lengthAdjust=\"spacingAndGlyphs\" textLength=\"8\" x=\"140\" y=\"242.1074\">A</text><line style=\"stroke: #383838; stroke-width: 1.5;\" x1=\"110\" x2=\"178\" y1=\"249.9375\" y2=\"249.9375\"/></a><!--MD5=[60a26617385b1d2d0262a64233df1f8d]\n",
       "class E6--><a href=\"psysml:79981dbc-2c5c-48be-a1ca-65e6b97acee9\" target=\"_top\" title=\"psysml:79981dbc-2c5c-48be-a1ca-65e6b97acee9\" xlink:actuate=\"onRequest\" xlink:href=\"psysml:79981dbc-2c5c-48be-a1ca-65e6b97acee9\" xlink:show=\"new\" xlink:title=\"psysml:79981dbc-2c5c-48be-a1ca-65e6b97acee9\" xlink:type=\"simple\"><rect fill=\"#FFFFFF\" height=\"45.9375\" id=\"E6\" rx=\"10\" ry=\"10\" style=\"stroke: #383838; stroke-width: 1.5;\" width=\"42\" x=\"137\" y=\"87.5\"/><text fill=\"#000000\" font-family=\"sans-serif\" font-size=\"12\" font-style=\"italic\" lengthAdjust=\"spacingAndGlyphs\" textLength=\"40\" x=\"138\" y=\"103.6387\">«part»</text><text fill=\"#000000\" font-family=\"sans-serif\" font-size=\"12\" lengthAdjust=\"spacingAndGlyphs\" textLength=\"22\" x=\"145\" y=\"117.6074\">x: A</text><line style=\"stroke: #383838; stroke-width: 1.5;\" x1=\"138\" x2=\"178\" y1=\"125.4375\" y2=\"125.4375\"/></a><a href=\"psysml:c8033d1b-23e3-49c1-96df-e9838fdb206a\" target=\"_top\" title=\"psysml:c8033d1b-23e3-49c1-96df-e9838fdb206a\" xlink:actuate=\"onRequest\" xlink:href=\"psysml:c8033d1b-23e3-49c1-96df-e9838fdb206a\" xlink:show=\"new\" xlink:title=\"psysml:c8033d1b-23e3-49c1-96df-e9838fdb206a\" xlink:type=\"simple\"><polygon fill=\"#FFFFFF\" points=\"56,84,88,84,95,106.2969,102,106.2969,102,136.5938,56,136.5938,56,84\" style=\"stroke: #000000; stroke-width: 1.5;\"/><line style=\"stroke: #000000; stroke-width: 1.5;\" x1=\"56\" x2=\"95\" y1=\"106.2969\" y2=\"106.2969\"/><text fill=\"#000000\" font-family=\"sans-serif\" font-size=\"14\" font-weight=\"bold\" lengthAdjust=\"spacingAndGlyphs\" textLength=\"26\" x=\"60\" y=\"98.9951\">P2a</text></a><!--MD5=[a717450b82c80b9240a525fa862496af]\n",
       "link E6 to E3--><a href=\"psysml:c58b2e1b-d15c-43ed-8c88-ba21dc2bc4d9\" target=\"_top\" title=\"psysml:c58b2e1b-d15c-43ed-8c88-ba21dc2bc4d9\" xlink:actuate=\"onRequest\" xlink:href=\"psysml:c58b2e1b-d15c-43ed-8c88-ba21dc2bc4d9\" xlink:show=\"new\" xlink:title=\"psysml:c58b2e1b-d15c-43ed-8c88-ba21dc2bc4d9\" xlink:type=\"simple\"><path d=\"M155.46,133.68 C153.61,149.9 151.04,172.39 148.8,191.96 \" fill=\"none\" id=\"E6-&gt;E3\" style=\"stroke: #383838; stroke-width: 1.0;\"/><polygon fill=\"#FFFFFF\" points=\"146.52,211.98,141.7231,192.308,155.6325,193.8979,146.52,211.98\" style=\"stroke: #383838; stroke-width: 1.0;\"/><ellipse cx=\"144.3574\" cy=\"186.872\" fill=\"#383838\" rx=\"2\" ry=\"2\" style=\"stroke: #383838; stroke-width: 1.0;\"/><ellipse cx=\"154.2928\" cy=\"188.0076\" fill=\"#383838\" rx=\"2\" ry=\"2\" style=\"stroke: #383838; stroke-width: 1.0;\"/></a><!--MD5=[0304c060f6c68a0cec6fa3afcff40756]\n",
       "@startuml\r\n",
       "top to bottom direction\r\n",
       "skinparam monochrome true\r\n",
       "skinparam classbackgroundcolor white\r\n",
       "skinparam shadowing false\r\n",
       "skinparam wrapWidth 300\r\n",
       "hide circle\r\n",
       "\r\n",
       "package \"QualifiedNameImportTest\" as E1  [[psysml:d6589951-d792-47be-8c0b-0f7f96c74b54 ]]  {\r\n",
       "package \"P1\" as E2  [[psysml:4f86bdc9-c02e-4b3c-80e5-19e64e9caefb ]]  {\r\n",
       "comp def \"A\" as E3  <<(T,blue) part  def>> [[psysml:0e402542-8392-49a3-8c29-2ec692a245e7 ]] {\r\n",
       "}\r\n",
       "}\r\n",
       "package \"P2\" as E4  [[psysml:eca2a432-2e72-4cdf-a8b0-841fc7787b6c ]]  {\r\n",
       "package \"P2a\" as E5  [[psysml:c8033d1b-23e3-49c1-96df-e9838fdb206a ]]  {\r\n",
       "}\r\n",
       "comp usage \"x: A \" as E6  <<(T,blue) part>> [[psysml:79981dbc-2c5c-48be-a1ca-65e6b97acee9 ]] {\r\n",
       "}\r\n",
       "}\r\n",
       "}\r\n",
       "E6 - -:|> E3 [[psysml:c58b2e1b-d15c-43ed-8c88-ba21dc2bc4d9 ]] \r\n",
       "@enduml\r\n",
       "\n",
       "PlantUML version 1.2020.13(Sat Jun 13 12:26:38 UTC 2020)\n",
       "(EPL source distribution)\n",
       "Java Runtime: OpenJDK Runtime Environment\n",
       "JVM: OpenJDK 64-Bit Server VM\n",
       "Default Encoding: UTF-8\n",
       "Language: en\n",
       "Country: null\n",
       "--></g></svg>"
      ]
     },
     "execution_count": 44,
     "metadata": {},
     "output_type": "execute_result"
    }
   ],
   "source": [
    "%viz --style=\"TB\" --view=\"Default\" \"QualifiedNameImportTest\""
   ]
  },
  {
   "cell_type": "code",
   "execution_count": 45,
   "id": "94dbdc70",
   "metadata": {
    "execution": {
     "iopub.execute_input": "2021-11-13T13:01:06.095869Z",
     "iopub.status.busy": "2021-11-13T13:01:06.095452Z",
     "iopub.status.idle": "2021-11-13T13:01:06.122116Z",
     "shell.execute_reply": "2021-11-13T13:01:06.120432Z"
    }
   },
   "outputs": [
    {
     "data": {
      "image/svg+xml": [
       "<?xml version=\"1.0\" encoding=\"UTF-8\" standalone=\"no\"?><svg xmlns=\"http://www.w3.org/2000/svg\" xmlns:xlink=\"http://www.w3.org/1999/xlink\" contentScriptType=\"application/ecmascript\" contentStyleType=\"text/css\" height=\"310px\" preserveAspectRatio=\"none\" style=\"width:241px;height:310px;\" version=\"1.1\" viewBox=\"0 0 241 310\" width=\"241px\" zoomAndPan=\"magnify\"><defs/><g><!--MD5=[fbc87193dbaf4d95561dea2c320d4a47]\n",
       "cluster E1--><a href=\"psysml:d6589951-d792-47be-8c0b-0f7f96c74b54\" target=\"_top\" title=\"psysml:d6589951-d792-47be-8c0b-0f7f96c74b54\" xlink:actuate=\"onRequest\" xlink:href=\"psysml:d6589951-d792-47be-8c0b-0f7f96c74b54\" xlink:show=\"new\" xlink:title=\"psysml:d6589951-d792-47be-8c0b-0f7f96c74b54\" xlink:type=\"simple\"><polygon fill=\"#FFFFFF\" points=\"16,6,196,6,203,28.2969,219,28.2969,219,298,16,298,16,6\" style=\"stroke: #000000; stroke-width: 1.5;\"/><line style=\"stroke: #000000; stroke-width: 1.5;\" x1=\"16\" x2=\"203\" y1=\"28.2969\" y2=\"28.2969\"/><text fill=\"#000000\" font-family=\"sans-serif\" font-size=\"14\" font-weight=\"bold\" lengthAdjust=\"spacingAndGlyphs\" textLength=\"174\" x=\"20\" y=\"20.9951\">QualifiedNameImportTest</text></a><!--MD5=[e4f7fae6ed58524ba242bb0b0d3be6b7]\n",
       "cluster E2--><a href=\"psysml:4f86bdc9-c02e-4b3c-80e5-19e64e9caefb\" target=\"_top\" title=\"psysml:4f86bdc9-c02e-4b3c-80e5-19e64e9caefb\" xlink:actuate=\"onRequest\" xlink:href=\"psysml:4f86bdc9-c02e-4b3c-80e5-19e64e9caefb\" xlink:show=\"new\" xlink:title=\"psysml:4f86bdc9-c02e-4b3c-80e5-19e64e9caefb\" xlink:type=\"simple\"><polygon fill=\"#FFFFFF\" points=\"93,177,117,177,124,199.2969,195,199.2969,195,274,93,274,93,177\" style=\"stroke: #000000; stroke-width: 1.5;\"/><line style=\"stroke: #000000; stroke-width: 1.5;\" x1=\"93\" x2=\"124\" y1=\"199.2969\" y2=\"199.2969\"/><text fill=\"#000000\" font-family=\"sans-serif\" font-size=\"14\" font-weight=\"bold\" lengthAdjust=\"spacingAndGlyphs\" textLength=\"18\" x=\"97\" y=\"191.9951\">P1</text></a><!--MD5=[f6df4d0ebaf0b5dfb2ced0ae5af7c670]\n",
       "cluster E4--><a href=\"psysml:eca2a432-2e72-4cdf-a8b0-841fc7787b6c\" target=\"_top\" title=\"psysml:eca2a432-2e72-4cdf-a8b0-841fc7787b6c\" xlink:actuate=\"onRequest\" xlink:href=\"psysml:eca2a432-2e72-4cdf-a8b0-841fc7787b6c\" xlink:show=\"new\" xlink:title=\"psysml:eca2a432-2e72-4cdf-a8b0-841fc7787b6c\" xlink:type=\"simple\"><polygon fill=\"#FFFFFF\" points=\"40,49,64,49,71,71.2969,195,71.2969,195,153,40,153,40,49\" style=\"stroke: #000000; stroke-width: 1.5;\"/><line style=\"stroke: #000000; stroke-width: 1.5;\" x1=\"40\" x2=\"71\" y1=\"71.2969\" y2=\"71.2969\"/><text fill=\"#000000\" font-family=\"sans-serif\" font-size=\"14\" font-weight=\"bold\" lengthAdjust=\"spacingAndGlyphs\" textLength=\"18\" x=\"44\" y=\"63.9951\">P2</text></a><!--MD5=[09b614a08d8cba4a07c9adeb5e0fee81]\n",
       "class E3--><a href=\"psysml:0e402542-8392-49a3-8c29-2ec692a245e7\" target=\"_top\" title=\"psysml:0e402542-8392-49a3-8c29-2ec692a245e7\" xlink:actuate=\"onRequest\" xlink:href=\"psysml:0e402542-8392-49a3-8c29-2ec692a245e7\" xlink:show=\"new\" xlink:title=\"psysml:0e402542-8392-49a3-8c29-2ec692a245e7\" xlink:type=\"simple\"><rect fill=\"#FFFFFF\" height=\"45.9375\" id=\"E3\" style=\"stroke: #383838; stroke-width: 1.5;\" width=\"70\" x=\"109\" y=\"212\"/><text fill=\"#000000\" font-family=\"sans-serif\" font-size=\"12\" font-style=\"italic\" lengthAdjust=\"spacingAndGlyphs\" textLength=\"68\" x=\"110\" y=\"228.1387\">«part  def»</text><text fill=\"#000000\" font-family=\"sans-serif\" font-size=\"12\" lengthAdjust=\"spacingAndGlyphs\" textLength=\"8\" x=\"140\" y=\"242.1074\">A</text><line style=\"stroke: #383838; stroke-width: 1.5;\" x1=\"110\" x2=\"178\" y1=\"249.9375\" y2=\"249.9375\"/></a><!--MD5=[60a26617385b1d2d0262a64233df1f8d]\n",
       "class E6--><a href=\"psysml:79981dbc-2c5c-48be-a1ca-65e6b97acee9\" target=\"_top\" title=\"psysml:79981dbc-2c5c-48be-a1ca-65e6b97acee9\" xlink:actuate=\"onRequest\" xlink:href=\"psysml:79981dbc-2c5c-48be-a1ca-65e6b97acee9\" xlink:show=\"new\" xlink:title=\"psysml:79981dbc-2c5c-48be-a1ca-65e6b97acee9\" xlink:type=\"simple\"><rect fill=\"#FFFFFF\" height=\"45.9375\" id=\"E6\" rx=\"10\" ry=\"10\" style=\"stroke: #383838; stroke-width: 1.5;\" width=\"42\" x=\"137\" y=\"87.5\"/><text fill=\"#000000\" font-family=\"sans-serif\" font-size=\"12\" font-style=\"italic\" lengthAdjust=\"spacingAndGlyphs\" textLength=\"40\" x=\"138\" y=\"103.6387\">«part»</text><text fill=\"#000000\" font-family=\"sans-serif\" font-size=\"12\" lengthAdjust=\"spacingAndGlyphs\" textLength=\"22\" x=\"145\" y=\"117.6074\">x: A</text><line style=\"stroke: #383838; stroke-width: 1.5;\" x1=\"138\" x2=\"178\" y1=\"125.4375\" y2=\"125.4375\"/></a><a href=\"psysml:c8033d1b-23e3-49c1-96df-e9838fdb206a\" target=\"_top\" title=\"psysml:c8033d1b-23e3-49c1-96df-e9838fdb206a\" xlink:actuate=\"onRequest\" xlink:href=\"psysml:c8033d1b-23e3-49c1-96df-e9838fdb206a\" xlink:show=\"new\" xlink:title=\"psysml:c8033d1b-23e3-49c1-96df-e9838fdb206a\" xlink:type=\"simple\"><polygon fill=\"#FFFFFF\" points=\"56,84,88,84,95,106.2969,102,106.2969,102,136.5938,56,136.5938,56,84\" style=\"stroke: #000000; stroke-width: 1.5;\"/><line style=\"stroke: #000000; stroke-width: 1.5;\" x1=\"56\" x2=\"95\" y1=\"106.2969\" y2=\"106.2969\"/><text fill=\"#000000\" font-family=\"sans-serif\" font-size=\"14\" font-weight=\"bold\" lengthAdjust=\"spacingAndGlyphs\" textLength=\"26\" x=\"60\" y=\"98.9951\">P2a</text></a><!--MD5=[a717450b82c80b9240a525fa862496af]\n",
       "link E6 to E3--><a href=\"psysml:c58b2e1b-d15c-43ed-8c88-ba21dc2bc4d9\" target=\"_top\" title=\"psysml:c58b2e1b-d15c-43ed-8c88-ba21dc2bc4d9\" xlink:actuate=\"onRequest\" xlink:href=\"psysml:c58b2e1b-d15c-43ed-8c88-ba21dc2bc4d9\" xlink:show=\"new\" xlink:title=\"psysml:c58b2e1b-d15c-43ed-8c88-ba21dc2bc4d9\" xlink:type=\"simple\"><path d=\"M155.46,133.68 C153.61,149.9 151.04,172.39 148.8,191.96 \" fill=\"none\" id=\"E6-&gt;E3\" style=\"stroke: #383838; stroke-width: 1.0;\"/><polygon fill=\"#FFFFFF\" points=\"146.52,211.98,141.7231,192.308,155.6325,193.8979,146.52,211.98\" style=\"stroke: #383838; stroke-width: 1.0;\"/><ellipse cx=\"144.3574\" cy=\"186.872\" fill=\"#383838\" rx=\"2\" ry=\"2\" style=\"stroke: #383838; stroke-width: 1.0;\"/><ellipse cx=\"154.2928\" cy=\"188.0076\" fill=\"#383838\" rx=\"2\" ry=\"2\" style=\"stroke: #383838; stroke-width: 1.0;\"/></a><!--MD5=[0304c060f6c68a0cec6fa3afcff40756]\n",
       "@startuml\r\n",
       "top to bottom direction\r\n",
       "skinparam monochrome true\r\n",
       "skinparam classbackgroundcolor white\r\n",
       "skinparam shadowing false\r\n",
       "skinparam wrapWidth 300\r\n",
       "hide circle\r\n",
       "\r\n",
       "package \"QualifiedNameImportTest\" as E1  [[psysml:d6589951-d792-47be-8c0b-0f7f96c74b54 ]]  {\r\n",
       "package \"P1\" as E2  [[psysml:4f86bdc9-c02e-4b3c-80e5-19e64e9caefb ]]  {\r\n",
       "comp def \"A\" as E3  <<(T,blue) part  def>> [[psysml:0e402542-8392-49a3-8c29-2ec692a245e7 ]] {\r\n",
       "}\r\n",
       "}\r\n",
       "package \"P2\" as E4  [[psysml:eca2a432-2e72-4cdf-a8b0-841fc7787b6c ]]  {\r\n",
       "package \"P2a\" as E5  [[psysml:c8033d1b-23e3-49c1-96df-e9838fdb206a ]]  {\r\n",
       "}\r\n",
       "comp usage \"x: A \" as E6  <<(T,blue) part>> [[psysml:79981dbc-2c5c-48be-a1ca-65e6b97acee9 ]] {\r\n",
       "}\r\n",
       "}\r\n",
       "}\r\n",
       "E6 - -:|> E3 [[psysml:c58b2e1b-d15c-43ed-8c88-ba21dc2bc4d9 ]] \r\n",
       "@enduml\r\n",
       "\n",
       "PlantUML version 1.2020.13(Sat Jun 13 12:26:38 UTC 2020)\n",
       "(EPL source distribution)\n",
       "Java Runtime: OpenJDK Runtime Environment\n",
       "JVM: OpenJDK 64-Bit Server VM\n",
       "Default Encoding: UTF-8\n",
       "Language: en\n",
       "Country: null\n",
       "--></g></svg>"
      ]
     },
     "execution_count": 45,
     "metadata": {},
     "output_type": "execute_result"
    }
   ],
   "source": [
    "%viz --style=\"TB\" --view=\"Tree\" \"QualifiedNameImportTest\""
   ]
  },
  {
   "cell_type": "code",
   "execution_count": 46,
   "id": "be57039a",
   "metadata": {
    "execution": {
     "iopub.execute_input": "2021-11-13T13:01:06.171291Z",
     "iopub.status.busy": "2021-11-13T13:01:06.170891Z",
     "iopub.status.idle": "2021-11-13T13:01:06.176059Z",
     "shell.execute_reply": "2021-11-13T13:01:06.175724Z"
    }
   },
   "outputs": [
    {
     "data": {
      "image/svg+xml": [
       "<?xml version=\"1.0\" encoding=\"UTF-8\" standalone=\"no\"?><svg xmlns=\"http://www.w3.org/2000/svg\" xmlns:xlink=\"http://www.w3.org/1999/xlink\" contentScriptType=\"application/ecmascript\" contentStyleType=\"text/css\" height=\"12px\" preserveAspectRatio=\"none\" style=\"width:12px;height:12px;\" version=\"1.1\" viewBox=\"0 0 12 12\" width=\"12px\" zoomAndPan=\"magnify\"><defs/><g><!--MD5=[f4ee21bc66e489b5061b7c3e9601fdef]\n",
       "@startuml\r\n",
       "top to bottom direction\r\n",
       "skinparam monochrome true\r\n",
       "skinparam classbackgroundcolor white\r\n",
       "skinparam shadowing false\r\n",
       "skinparam wrapWidth 300\r\n",
       "hide circle\r\n",
       "\r\n",
       "@enduml\r\n",
       "\n",
       "PlantUML version 1.2020.13(Sat Jun 13 12:26:38 UTC 2020)\n",
       "(EPL source distribution)\n",
       "Java Runtime: OpenJDK Runtime Environment\n",
       "JVM: OpenJDK 64-Bit Server VM\n",
       "Default Encoding: UTF-8\n",
       "Language: en\n",
       "Country: null\n",
       "--></g></svg>"
      ]
     },
     "execution_count": 46,
     "metadata": {},
     "output_type": "execute_result"
    }
   ],
   "source": [
    "%viz --style=\"TB\" --view=\"State\" \"QualifiedNameImportTest\""
   ]
  },
  {
   "cell_type": "code",
   "execution_count": 47,
   "id": "aaa991ee",
   "metadata": {
    "execution": {
     "iopub.execute_input": "2021-11-13T13:01:06.225691Z",
     "iopub.status.busy": "2021-11-13T13:01:06.225275Z",
     "iopub.status.idle": "2021-11-13T13:01:06.250313Z",
     "shell.execute_reply": "2021-11-13T13:01:06.249953Z"
    }
   },
   "outputs": [
    {
     "data": {
      "image/svg+xml": [
       "<?xml version=\"1.0\" encoding=\"UTF-8\" standalone=\"no\"?><svg xmlns=\"http://www.w3.org/2000/svg\" xmlns:xlink=\"http://www.w3.org/1999/xlink\" contentScriptType=\"application/ecmascript\" contentStyleType=\"text/css\" height=\"189px\" preserveAspectRatio=\"none\" style=\"width:379px;height:189px;\" version=\"1.1\" viewBox=\"0 0 379 189\" width=\"379px\" zoomAndPan=\"magnify\"><defs/><g><!--MD5=[fbc87193dbaf4d95561dea2c320d4a47]\n",
       "cluster E1--><a href=\"psysml:d6589951-d792-47be-8c0b-0f7f96c74b54\" target=\"_top\" title=\"psysml:d6589951-d792-47be-8c0b-0f7f96c74b54\" xlink:actuate=\"onRequest\" xlink:href=\"psysml:d6589951-d792-47be-8c0b-0f7f96c74b54\" xlink:show=\"new\" xlink:title=\"psysml:d6589951-d792-47be-8c0b-0f7f96c74b54\" xlink:type=\"simple\"><polygon fill=\"#FFFFFF\" points=\"16,6,196,6,203,28.2969,357,28.2969,357,177,16,177,16,6\" style=\"stroke: #000000; stroke-width: 1.5;\"/><line style=\"stroke: #000000; stroke-width: 1.5;\" x1=\"16\" x2=\"203\" y1=\"28.2969\" y2=\"28.2969\"/><text fill=\"#000000\" font-family=\"sans-serif\" font-size=\"14\" font-weight=\"bold\" lengthAdjust=\"spacingAndGlyphs\" textLength=\"174\" x=\"20\" y=\"20.9951\">QualifiedNameImportTest</text></a><!--MD5=[e4f7fae6ed58524ba242bb0b0d3be6b7]\n",
       "cluster E2--><a href=\"psysml:4f86bdc9-c02e-4b3c-80e5-19e64e9caefb\" target=\"_top\" title=\"psysml:4f86bdc9-c02e-4b3c-80e5-19e64e9caefb\" xlink:actuate=\"onRequest\" xlink:href=\"psysml:4f86bdc9-c02e-4b3c-80e5-19e64e9caefb\" xlink:show=\"new\" xlink:title=\"psysml:4f86bdc9-c02e-4b3c-80e5-19e64e9caefb\" xlink:type=\"simple\"><polygon fill=\"#FFFFFF\" points=\"227,54,251,54,258,76.2969,333,76.2969,333,148,227,148,227,54\" style=\"stroke: #000000; stroke-width: 1.5;\"/><line style=\"stroke: #000000; stroke-width: 1.5;\" x1=\"227\" x2=\"258\" y1=\"76.2969\" y2=\"76.2969\"/><text fill=\"#000000\" font-family=\"sans-serif\" font-size=\"14\" font-weight=\"bold\" lengthAdjust=\"spacingAndGlyphs\" textLength=\"18\" x=\"231\" y=\"68.9951\">P1</text></a><!--MD5=[f6df4d0ebaf0b5dfb2ced0ae5af7c670]\n",
       "cluster E4--><a href=\"psysml:eca2a432-2e72-4cdf-a8b0-841fc7787b6c\" target=\"_top\" title=\"psysml:eca2a432-2e72-4cdf-a8b0-841fc7787b6c\" xlink:actuate=\"onRequest\" xlink:href=\"psysml:eca2a432-2e72-4cdf-a8b0-841fc7787b6c\" xlink:show=\"new\" xlink:title=\"psysml:eca2a432-2e72-4cdf-a8b0-841fc7787b6c\" xlink:type=\"simple\"><polygon fill=\"#FFFFFF\" points=\"40,49,64,49,71,71.2969,203,71.2969,203,153,40,153,40,49\" style=\"stroke: #000000; stroke-width: 1.5;\"/><line style=\"stroke: #000000; stroke-width: 1.5;\" x1=\"40\" x2=\"71\" y1=\"71.2969\" y2=\"71.2969\"/><text fill=\"#000000\" font-family=\"sans-serif\" font-size=\"14\" font-weight=\"bold\" lengthAdjust=\"spacingAndGlyphs\" textLength=\"18\" x=\"44\" y=\"63.9951\">P2</text></a><g id=\"E1.E2.E3\"><a href=\"psysml:0e402542-8392-49a3-8c29-2ec692a245e7\" target=\"_top\" title=\"psysml:0e402542-8392-49a3-8c29-2ec692a245e7\" xlink:actuate=\"onRequest\" xlink:href=\"psysml:0e402542-8392-49a3-8c29-2ec692a245e7\" xlink:show=\"new\" xlink:title=\"psysml:0e402542-8392-49a3-8c29-2ec692a245e7\" xlink:type=\"simple\"><rect fill=\"#FFFFFF\" height=\"42.9375\" id=\"E3\" style=\"stroke: #383838; stroke-width: 1.5;\" width=\"75\" x=\"242.5\" y=\"89\"/><rect fill=\"#F8F8F8\" height=\"37.9375\" style=\"stroke: #383838; stroke-width: 1.5;\" width=\"75\" x=\"242.5\" y=\"89\"/><text fill=\"#000000\" font-family=\"sans-serif\" font-size=\"12\" font-style=\"italic\" lengthAdjust=\"spacingAndGlyphs\" textLength=\"68\" x=\"246\" y=\"105.1387\">«part  def»</text><text fill=\"#000000\" font-family=\"sans-serif\" font-size=\"12\" lengthAdjust=\"spacingAndGlyphs\" textLength=\"8\" x=\"276\" y=\"119.1074\">A</text></a></g><a href=\"psysml:c8033d1b-23e3-49c1-96df-e9838fdb206a\" target=\"_top\" title=\"psysml:c8033d1b-23e3-49c1-96df-e9838fdb206a\" xlink:actuate=\"onRequest\" xlink:href=\"psysml:c8033d1b-23e3-49c1-96df-e9838fdb206a\" xlink:show=\"new\" xlink:title=\"psysml:c8033d1b-23e3-49c1-96df-e9838fdb206a\" xlink:type=\"simple\"><polygon fill=\"#FFFFFF\" points=\"141,84,173,84,180,106.2969,187,106.2969,187,136.5938,141,136.5938,141,84\" style=\"stroke: #000000; stroke-width: 1.5;\"/><line style=\"stroke: #000000; stroke-width: 1.5;\" x1=\"141\" x2=\"180\" y1=\"106.2969\" y2=\"106.2969\"/><text fill=\"#000000\" font-family=\"sans-serif\" font-size=\"14\" font-weight=\"bold\" lengthAdjust=\"spacingAndGlyphs\" textLength=\"26\" x=\"145\" y=\"98.9951\">P2a</text></a><g id=\"E1.E4.E6\"><a href=\"psysml:79981dbc-2c5c-48be-a1ca-65e6b97acee9\" target=\"_top\" title=\"psysml:79981dbc-2c5c-48be-a1ca-65e6b97acee9\" xlink:actuate=\"onRequest\" xlink:href=\"psysml:79981dbc-2c5c-48be-a1ca-65e6b97acee9\" xlink:show=\"new\" xlink:title=\"psysml:79981dbc-2c5c-48be-a1ca-65e6b97acee9\" xlink:type=\"simple\"><rect fill=\"#FFFFFF\" height=\"40\" id=\"E6\" rx=\"10\" ry=\"10\" style=\"stroke: #383838; stroke-width: 1.5;\" width=\"50\" x=\"56\" y=\"90.5\"/><rect fill=\"#F8F8F8\" height=\"23.9688\" rx=\"10\" ry=\"10\" style=\"stroke: #F8F8F8; stroke-width: 1.5;\" width=\"50\" x=\"56\" y=\"90.5\"/><rect fill=\"#F8F8F8\" height=\"10\" style=\"stroke: #F8F8F8; stroke-width: 1.5;\" width=\"50\" x=\"56\" y=\"104.4688\"/><rect fill=\"none\" height=\"40\" id=\"E6\" rx=\"10\" ry=\"10\" style=\"stroke: #383838; stroke-width: 1.5;\" width=\"50\" x=\"56\" y=\"90.5\"/><text fill=\"#000000\" font-family=\"sans-serif\" font-size=\"12\" lengthAdjust=\"spacingAndGlyphs\" textLength=\"22\" x=\"70\" y=\"106.6387\">x: A</text></a></g><!--MD5=[954bcb5d408cac3ef7e235ec71d8df35]\n",
       "@startuml\r\n",
       "skinparam ranksep 10\r\n",
       "skinparam rectangle {\r\n",
       " backgroundColor<<block>> LightGreen\r\n",
       "}\r\n",
       "top to bottom direction\r\n",
       "skinparam monochrome true\r\n",
       "skinparam classbackgroundcolor white\r\n",
       "skinparam shadowing false\r\n",
       "skinparam wrapWidth 300\r\n",
       "hide circle\r\n",
       "\r\n",
       "package \"QualifiedNameImportTest\" as E1  [[psysml:d6589951-d792-47be-8c0b-0f7f96c74b54 ]]  {\r\n",
       "package \"P1\" as E2  [[psysml:4f86bdc9-c02e-4b3c-80e5-19e64e9caefb ]]  {\r\n",
       "rec def \"A\" as E3  <<(T,blue) part  def>> [[psysml:0e402542-8392-49a3-8c29-2ec692a245e7 ]] {\r\n",
       "}\r\n",
       "}\r\n",
       "package \"P2\" as E4  [[psysml:eca2a432-2e72-4cdf-a8b0-841fc7787b6c ]]  {\r\n",
       "package \"P2a\" as E5  [[psysml:c8033d1b-23e3-49c1-96df-e9838fdb206a ]]  {\r\n",
       "}\r\n",
       "rec usage \"x: A\" as E6  [[psysml:79981dbc-2c5c-48be-a1ca-65e6b97acee9 ]] {\r\n",
       "}\r\n",
       "}\r\n",
       "}\r\n",
       "@enduml\r\n",
       "\n",
       "PlantUML version 1.2020.13(Sat Jun 13 12:26:38 UTC 2020)\n",
       "(EPL source distribution)\n",
       "Java Runtime: OpenJDK Runtime Environment\n",
       "JVM: OpenJDK 64-Bit Server VM\n",
       "Default Encoding: UTF-8\n",
       "Language: en\n",
       "Country: null\n",
       "--></g></svg>"
      ]
     },
     "execution_count": 47,
     "metadata": {},
     "output_type": "execute_result"
    }
   ],
   "source": [
    "%viz --style=\"TB\" --view=\"Interconnection\" \"QualifiedNameImportTest\""
   ]
  },
  {
   "cell_type": "code",
   "execution_count": 48,
   "id": "0c654d3c",
   "metadata": {
    "execution": {
     "iopub.execute_input": "2021-11-13T13:01:06.299650Z",
     "iopub.status.busy": "2021-11-13T13:01:06.299251Z",
     "iopub.status.idle": "2021-11-13T13:01:06.303937Z",
     "shell.execute_reply": "2021-11-13T13:01:06.304252Z"
    }
   },
   "outputs": [
    {
     "data": {
      "image/svg+xml": [
       "<?xml version=\"1.0\" encoding=\"UTF-8\" standalone=\"no\"?><svg xmlns=\"http://www.w3.org/2000/svg\" xmlns:xlink=\"http://www.w3.org/1999/xlink\" contentScriptType=\"application/ecmascript\" contentStyleType=\"text/css\" height=\"12px\" preserveAspectRatio=\"none\" style=\"width:12px;height:12px;\" version=\"1.1\" viewBox=\"0 0 12 12\" width=\"12px\" zoomAndPan=\"magnify\"><defs/><g><!--MD5=[06afc254b03ac5e9d9fb7773b07d0800]\n",
       "@startuml\r\n",
       "skinparam ranksep 8\r\n",
       "top to bottom direction\r\n",
       "skinparam monochrome true\r\n",
       "skinparam classbackgroundcolor white\r\n",
       "skinparam shadowing false\r\n",
       "skinparam wrapWidth 300\r\n",
       "hide circle\r\n",
       "\r\n",
       "@enduml\r\n",
       "\n",
       "PlantUML version 1.2020.13(Sat Jun 13 12:26:38 UTC 2020)\n",
       "(EPL source distribution)\n",
       "Java Runtime: OpenJDK Runtime Environment\n",
       "JVM: OpenJDK 64-Bit Server VM\n",
       "Default Encoding: UTF-8\n",
       "Language: en\n",
       "Country: null\n",
       "--></g></svg>"
      ]
     },
     "execution_count": 48,
     "metadata": {},
     "output_type": "execute_result"
    }
   ],
   "source": [
    "%viz --style=\"TB\" --view=\"Action\" \"QualifiedNameImportTest\""
   ]
  },
  {
   "cell_type": "code",
   "execution_count": 49,
   "id": "78ddd00d",
   "metadata": {
    "execution": {
     "iopub.execute_input": "2021-11-13T13:01:06.354000Z",
     "iopub.status.busy": "2021-11-13T13:01:06.353596Z",
     "iopub.status.idle": "2021-11-13T13:01:06.358511Z",
     "shell.execute_reply": "2021-11-13T13:01:06.358826Z"
    }
   },
   "outputs": [
    {
     "data": {
      "image/svg+xml": [
       "<?xml version=\"1.0\" encoding=\"UTF-8\" standalone=\"no\"?><svg xmlns=\"http://www.w3.org/2000/svg\" xmlns:xlink=\"http://www.w3.org/1999/xlink\" contentScriptType=\"application/ecmascript\" contentStyleType=\"text/css\" height=\"12px\" preserveAspectRatio=\"none\" style=\"width:12px;height:12px;\" version=\"1.1\" viewBox=\"0 0 12 12\" width=\"12px\" zoomAndPan=\"magnify\"><defs/><g><!--MD5=[e1ab0c84c44d2fef8bf5f140f2689906]\n",
       "@startuml\r\n",
       "skinparam roundcorner 20\r\n",
       "skinparam BoxPadding 20\r\n",
       "skinparam SequenceBoxBackgroundColor #white\r\n",
       "skinparam style strictuml\r\n",
       "skinparam maxMessageSize 100\r\n",
       "top to bottom direction\r\n",
       "skinparam monochrome true\r\n",
       "skinparam classbackgroundcolor white\r\n",
       "skinparam shadowing false\r\n",
       "skinparam wrapWidth 300\r\n",
       "hide circle\r\n",
       "\r\n",
       "@enduml\r\n",
       "\n",
       "PlantUML version 1.2020.13(Sat Jun 13 12:26:38 UTC 2020)\n",
       "(EPL source distribution)\n",
       "Java Runtime: OpenJDK Runtime Environment\n",
       "JVM: OpenJDK 64-Bit Server VM\n",
       "Default Encoding: UTF-8\n",
       "Language: en\n",
       "Country: null\n",
       "--></g></svg>"
      ]
     },
     "execution_count": 49,
     "metadata": {},
     "output_type": "execute_result"
    }
   ],
   "source": [
    "%viz --style=\"TB\" --view=\"Sequence\" \"QualifiedNameImportTest\""
   ]
  },
  {
   "cell_type": "code",
   "execution_count": 50,
   "id": "8a00cea3",
   "metadata": {
    "execution": {
     "iopub.execute_input": "2021-11-13T13:01:06.408651Z",
     "iopub.status.busy": "2021-11-13T13:01:06.408254Z",
     "iopub.status.idle": "2021-11-13T13:01:06.433689Z",
     "shell.execute_reply": "2021-11-13T13:01:06.433336Z"
    }
   },
   "outputs": [
    {
     "data": {
      "image/svg+xml": [
       "<?xml version=\"1.0\" encoding=\"UTF-8\" standalone=\"no\"?><svg xmlns=\"http://www.w3.org/2000/svg\" xmlns:xlink=\"http://www.w3.org/1999/xlink\" contentScriptType=\"application/ecmascript\" contentStyleType=\"text/css\" height=\"310px\" preserveAspectRatio=\"none\" style=\"width:241px;height:310px;\" version=\"1.1\" viewBox=\"0 0 241 310\" width=\"241px\" zoomAndPan=\"magnify\"><defs/><g><!--MD5=[fbc87193dbaf4d95561dea2c320d4a47]\n",
       "cluster E1--><a href=\"psysml:d6589951-d792-47be-8c0b-0f7f96c74b54\" target=\"_top\" title=\"psysml:d6589951-d792-47be-8c0b-0f7f96c74b54\" xlink:actuate=\"onRequest\" xlink:href=\"psysml:d6589951-d792-47be-8c0b-0f7f96c74b54\" xlink:show=\"new\" xlink:title=\"psysml:d6589951-d792-47be-8c0b-0f7f96c74b54\" xlink:type=\"simple\"><polygon fill=\"#FFFFFF\" points=\"16,6,196,6,203,28.2969,219,28.2969,219,298,16,298,16,6\" style=\"stroke: #000000; stroke-width: 1.5;\"/><line style=\"stroke: #000000; stroke-width: 1.5;\" x1=\"16\" x2=\"203\" y1=\"28.2969\" y2=\"28.2969\"/><text fill=\"#000000\" font-family=\"sans-serif\" font-size=\"14\" font-weight=\"bold\" lengthAdjust=\"spacingAndGlyphs\" textLength=\"174\" x=\"20\" y=\"20.9951\">QualifiedNameImportTest</text></a><!--MD5=[e4f7fae6ed58524ba242bb0b0d3be6b7]\n",
       "cluster E2--><a href=\"psysml:4f86bdc9-c02e-4b3c-80e5-19e64e9caefb\" target=\"_top\" title=\"psysml:4f86bdc9-c02e-4b3c-80e5-19e64e9caefb\" xlink:actuate=\"onRequest\" xlink:href=\"psysml:4f86bdc9-c02e-4b3c-80e5-19e64e9caefb\" xlink:show=\"new\" xlink:title=\"psysml:4f86bdc9-c02e-4b3c-80e5-19e64e9caefb\" xlink:type=\"simple\"><polygon fill=\"#FFFFFF\" points=\"93,177,117,177,124,199.2969,195,199.2969,195,274,93,274,93,177\" style=\"stroke: #000000; stroke-width: 1.5;\"/><line style=\"stroke: #000000; stroke-width: 1.5;\" x1=\"93\" x2=\"124\" y1=\"199.2969\" y2=\"199.2969\"/><text fill=\"#000000\" font-family=\"sans-serif\" font-size=\"14\" font-weight=\"bold\" lengthAdjust=\"spacingAndGlyphs\" textLength=\"18\" x=\"97\" y=\"191.9951\">P1</text></a><!--MD5=[f6df4d0ebaf0b5dfb2ced0ae5af7c670]\n",
       "cluster E4--><a href=\"psysml:eca2a432-2e72-4cdf-a8b0-841fc7787b6c\" target=\"_top\" title=\"psysml:eca2a432-2e72-4cdf-a8b0-841fc7787b6c\" xlink:actuate=\"onRequest\" xlink:href=\"psysml:eca2a432-2e72-4cdf-a8b0-841fc7787b6c\" xlink:show=\"new\" xlink:title=\"psysml:eca2a432-2e72-4cdf-a8b0-841fc7787b6c\" xlink:type=\"simple\"><polygon fill=\"#FFFFFF\" points=\"40,49,64,49,71,71.2969,195,71.2969,195,153,40,153,40,49\" style=\"stroke: #000000; stroke-width: 1.5;\"/><line style=\"stroke: #000000; stroke-width: 1.5;\" x1=\"40\" x2=\"71\" y1=\"71.2969\" y2=\"71.2969\"/><text fill=\"#000000\" font-family=\"sans-serif\" font-size=\"14\" font-weight=\"bold\" lengthAdjust=\"spacingAndGlyphs\" textLength=\"18\" x=\"44\" y=\"63.9951\">P2</text></a><!--MD5=[09b614a08d8cba4a07c9adeb5e0fee81]\n",
       "class E3--><a href=\"psysml:0e402542-8392-49a3-8c29-2ec692a245e7\" target=\"_top\" title=\"psysml:0e402542-8392-49a3-8c29-2ec692a245e7\" xlink:actuate=\"onRequest\" xlink:href=\"psysml:0e402542-8392-49a3-8c29-2ec692a245e7\" xlink:show=\"new\" xlink:title=\"psysml:0e402542-8392-49a3-8c29-2ec692a245e7\" xlink:type=\"simple\"><rect fill=\"#FFFFFF\" height=\"45.9375\" id=\"E3\" style=\"stroke: #383838; stroke-width: 1.5;\" width=\"70\" x=\"109\" y=\"212\"/><text fill=\"#000000\" font-family=\"sans-serif\" font-size=\"12\" font-style=\"italic\" lengthAdjust=\"spacingAndGlyphs\" textLength=\"68\" x=\"110\" y=\"228.1387\">«part  def»</text><text fill=\"#000000\" font-family=\"sans-serif\" font-size=\"12\" lengthAdjust=\"spacingAndGlyphs\" textLength=\"8\" x=\"140\" y=\"242.1074\">A</text><line style=\"stroke: #383838; stroke-width: 1.5;\" x1=\"110\" x2=\"178\" y1=\"249.9375\" y2=\"249.9375\"/></a><!--MD5=[60a26617385b1d2d0262a64233df1f8d]\n",
       "class E6--><a href=\"psysml:79981dbc-2c5c-48be-a1ca-65e6b97acee9\" target=\"_top\" title=\"psysml:79981dbc-2c5c-48be-a1ca-65e6b97acee9\" xlink:actuate=\"onRequest\" xlink:href=\"psysml:79981dbc-2c5c-48be-a1ca-65e6b97acee9\" xlink:show=\"new\" xlink:title=\"psysml:79981dbc-2c5c-48be-a1ca-65e6b97acee9\" xlink:type=\"simple\"><rect fill=\"#FFFFFF\" height=\"45.9375\" id=\"E6\" rx=\"10\" ry=\"10\" style=\"stroke: #383838; stroke-width: 1.5;\" width=\"42\" x=\"137\" y=\"87.5\"/><text fill=\"#000000\" font-family=\"sans-serif\" font-size=\"12\" font-style=\"italic\" lengthAdjust=\"spacingAndGlyphs\" textLength=\"40\" x=\"138\" y=\"103.6387\">«part»</text><text fill=\"#000000\" font-family=\"sans-serif\" font-size=\"12\" lengthAdjust=\"spacingAndGlyphs\" textLength=\"22\" x=\"145\" y=\"117.6074\">x: A</text><line style=\"stroke: #383838; stroke-width: 1.5;\" x1=\"138\" x2=\"178\" y1=\"125.4375\" y2=\"125.4375\"/></a><a href=\"psysml:c8033d1b-23e3-49c1-96df-e9838fdb206a\" target=\"_top\" title=\"psysml:c8033d1b-23e3-49c1-96df-e9838fdb206a\" xlink:actuate=\"onRequest\" xlink:href=\"psysml:c8033d1b-23e3-49c1-96df-e9838fdb206a\" xlink:show=\"new\" xlink:title=\"psysml:c8033d1b-23e3-49c1-96df-e9838fdb206a\" xlink:type=\"simple\"><polygon fill=\"#FFFFFF\" points=\"56,84,88,84,95,106.2969,102,106.2969,102,136.5938,56,136.5938,56,84\" style=\"stroke: #000000; stroke-width: 1.5;\"/><line style=\"stroke: #000000; stroke-width: 1.5;\" x1=\"56\" x2=\"95\" y1=\"106.2969\" y2=\"106.2969\"/><text fill=\"#000000\" font-family=\"sans-serif\" font-size=\"14\" font-weight=\"bold\" lengthAdjust=\"spacingAndGlyphs\" textLength=\"26\" x=\"60\" y=\"98.9951\">P2a</text></a><!--MD5=[a717450b82c80b9240a525fa862496af]\n",
       "link E6 to E3--><a href=\"psysml:c58b2e1b-d15c-43ed-8c88-ba21dc2bc4d9\" target=\"_top\" title=\"psysml:c58b2e1b-d15c-43ed-8c88-ba21dc2bc4d9\" xlink:actuate=\"onRequest\" xlink:href=\"psysml:c58b2e1b-d15c-43ed-8c88-ba21dc2bc4d9\" xlink:show=\"new\" xlink:title=\"psysml:c58b2e1b-d15c-43ed-8c88-ba21dc2bc4d9\" xlink:type=\"simple\"><path d=\"M155.46,133.68 C153.61,149.9 151.04,172.39 148.8,191.96 \" fill=\"none\" id=\"E6-&gt;E3\" style=\"stroke: #383838; stroke-width: 1.0;\"/><polygon fill=\"#FFFFFF\" points=\"146.52,211.98,141.7231,192.308,155.6325,193.8979,146.52,211.98\" style=\"stroke: #383838; stroke-width: 1.0;\"/><ellipse cx=\"144.3574\" cy=\"186.872\" fill=\"#383838\" rx=\"2\" ry=\"2\" style=\"stroke: #383838; stroke-width: 1.0;\"/><ellipse cx=\"154.2928\" cy=\"188.0076\" fill=\"#383838\" rx=\"2\" ry=\"2\" style=\"stroke: #383838; stroke-width: 1.0;\"/></a><!--MD5=[0304c060f6c68a0cec6fa3afcff40756]\n",
       "@startuml\r\n",
       "top to bottom direction\r\n",
       "skinparam monochrome true\r\n",
       "skinparam classbackgroundcolor white\r\n",
       "skinparam shadowing false\r\n",
       "skinparam wrapWidth 300\r\n",
       "hide circle\r\n",
       "\r\n",
       "package \"QualifiedNameImportTest\" as E1  [[psysml:d6589951-d792-47be-8c0b-0f7f96c74b54 ]]  {\r\n",
       "package \"P1\" as E2  [[psysml:4f86bdc9-c02e-4b3c-80e5-19e64e9caefb ]]  {\r\n",
       "comp def \"A\" as E3  <<(T,blue) part  def>> [[psysml:0e402542-8392-49a3-8c29-2ec692a245e7 ]] {\r\n",
       "}\r\n",
       "}\r\n",
       "package \"P2\" as E4  [[psysml:eca2a432-2e72-4cdf-a8b0-841fc7787b6c ]]  {\r\n",
       "package \"P2a\" as E5  [[psysml:c8033d1b-23e3-49c1-96df-e9838fdb206a ]]  {\r\n",
       "}\r\n",
       "comp usage \"x: A \" as E6  <<(T,blue) part>> [[psysml:79981dbc-2c5c-48be-a1ca-65e6b97acee9 ]] {\r\n",
       "}\r\n",
       "}\r\n",
       "}\r\n",
       "E6 - -:|> E3 [[psysml:c58b2e1b-d15c-43ed-8c88-ba21dc2bc4d9 ]] \r\n",
       "@enduml\r\n",
       "\n",
       "PlantUML version 1.2020.13(Sat Jun 13 12:26:38 UTC 2020)\n",
       "(EPL source distribution)\n",
       "Java Runtime: OpenJDK Runtime Environment\n",
       "JVM: OpenJDK 64-Bit Server VM\n",
       "Default Encoding: UTF-8\n",
       "Language: en\n",
       "Country: null\n",
       "--></g></svg>"
      ]
     },
     "execution_count": 50,
     "metadata": {},
     "output_type": "execute_result"
    }
   ],
   "source": [
    "%viz --style=\"TB\" --view=\"MIXED\" \"QualifiedNameImportTest\""
   ]
  },
  {
   "cell_type": "code",
   "execution_count": 51,
   "id": "d2b1a2ce",
   "metadata": {
    "execution": {
     "iopub.execute_input": "2021-11-13T13:01:06.482955Z",
     "iopub.status.busy": "2021-11-13T13:01:06.482553Z",
     "iopub.status.idle": "2021-11-13T13:01:06.508646Z",
     "shell.execute_reply": "2021-11-13T13:01:06.506939Z"
    }
   },
   "outputs": [
    {
     "data": {
      "image/svg+xml": [
       "<?xml version=\"1.0\" encoding=\"UTF-8\" standalone=\"no\"?><svg xmlns=\"http://www.w3.org/2000/svg\" xmlns:xlink=\"http://www.w3.org/1999/xlink\" contentScriptType=\"application/ecmascript\" contentStyleType=\"text/css\" height=\"310px\" preserveAspectRatio=\"none\" style=\"width:241px;height:310px;\" version=\"1.1\" viewBox=\"0 0 241 310\" width=\"241px\" zoomAndPan=\"magnify\"><defs/><g><!--MD5=[fbc87193dbaf4d95561dea2c320d4a47]\n",
       "cluster E1--><a href=\"psysml:d6589951-d792-47be-8c0b-0f7f96c74b54\" target=\"_top\" title=\"psysml:d6589951-d792-47be-8c0b-0f7f96c74b54\" xlink:actuate=\"onRequest\" xlink:href=\"psysml:d6589951-d792-47be-8c0b-0f7f96c74b54\" xlink:show=\"new\" xlink:title=\"psysml:d6589951-d792-47be-8c0b-0f7f96c74b54\" xlink:type=\"simple\"><polygon fill=\"#FFFFFF\" points=\"16,6,196,6,203,28.2969,219,28.2969,219,298,16,298,16,6\" style=\"stroke: #000000; stroke-width: 1.5;\"/><line style=\"stroke: #000000; stroke-width: 1.5;\" x1=\"16\" x2=\"203\" y1=\"28.2969\" y2=\"28.2969\"/><text fill=\"#000000\" font-family=\"sans-serif\" font-size=\"14\" font-weight=\"bold\" lengthAdjust=\"spacingAndGlyphs\" textLength=\"174\" x=\"20\" y=\"20.9951\">QualifiedNameImportTest</text></a><!--MD5=[e4f7fae6ed58524ba242bb0b0d3be6b7]\n",
       "cluster E2--><a href=\"psysml:4f86bdc9-c02e-4b3c-80e5-19e64e9caefb\" target=\"_top\" title=\"psysml:4f86bdc9-c02e-4b3c-80e5-19e64e9caefb\" xlink:actuate=\"onRequest\" xlink:href=\"psysml:4f86bdc9-c02e-4b3c-80e5-19e64e9caefb\" xlink:show=\"new\" xlink:title=\"psysml:4f86bdc9-c02e-4b3c-80e5-19e64e9caefb\" xlink:type=\"simple\"><polygon fill=\"#FFFFFF\" points=\"93,177,117,177,124,199.2969,195,199.2969,195,274,93,274,93,177\" style=\"stroke: #000000; stroke-width: 1.5;\"/><line style=\"stroke: #000000; stroke-width: 1.5;\" x1=\"93\" x2=\"124\" y1=\"199.2969\" y2=\"199.2969\"/><text fill=\"#000000\" font-family=\"sans-serif\" font-size=\"14\" font-weight=\"bold\" lengthAdjust=\"spacingAndGlyphs\" textLength=\"18\" x=\"97\" y=\"191.9951\">P1</text></a><!--MD5=[f6df4d0ebaf0b5dfb2ced0ae5af7c670]\n",
       "cluster E4--><a href=\"psysml:eca2a432-2e72-4cdf-a8b0-841fc7787b6c\" target=\"_top\" title=\"psysml:eca2a432-2e72-4cdf-a8b0-841fc7787b6c\" xlink:actuate=\"onRequest\" xlink:href=\"psysml:eca2a432-2e72-4cdf-a8b0-841fc7787b6c\" xlink:show=\"new\" xlink:title=\"psysml:eca2a432-2e72-4cdf-a8b0-841fc7787b6c\" xlink:type=\"simple\"><polygon fill=\"#FFFFFF\" points=\"40,49,64,49,71,71.2969,195,71.2969,195,153,40,153,40,49\" style=\"stroke: #000000; stroke-width: 1.5;\"/><line style=\"stroke: #000000; stroke-width: 1.5;\" x1=\"40\" x2=\"71\" y1=\"71.2969\" y2=\"71.2969\"/><text fill=\"#000000\" font-family=\"sans-serif\" font-size=\"14\" font-weight=\"bold\" lengthAdjust=\"spacingAndGlyphs\" textLength=\"18\" x=\"44\" y=\"63.9951\">P2</text></a><!--MD5=[09b614a08d8cba4a07c9adeb5e0fee81]\n",
       "class E3--><a href=\"psysml:0e402542-8392-49a3-8c29-2ec692a245e7\" target=\"_top\" title=\"psysml:0e402542-8392-49a3-8c29-2ec692a245e7\" xlink:actuate=\"onRequest\" xlink:href=\"psysml:0e402542-8392-49a3-8c29-2ec692a245e7\" xlink:show=\"new\" xlink:title=\"psysml:0e402542-8392-49a3-8c29-2ec692a245e7\" xlink:type=\"simple\"><rect fill=\"#FFFFFF\" height=\"45.9375\" id=\"E3\" style=\"stroke: #383838; stroke-width: 1.5;\" width=\"70\" x=\"109\" y=\"212\"/><text fill=\"#000000\" font-family=\"sans-serif\" font-size=\"12\" font-style=\"italic\" lengthAdjust=\"spacingAndGlyphs\" textLength=\"68\" x=\"110\" y=\"228.1387\">«part  def»</text><text fill=\"#000000\" font-family=\"sans-serif\" font-size=\"12\" lengthAdjust=\"spacingAndGlyphs\" textLength=\"8\" x=\"140\" y=\"242.1074\">A</text><line style=\"stroke: #383838; stroke-width: 1.5;\" x1=\"110\" x2=\"178\" y1=\"249.9375\" y2=\"249.9375\"/></a><!--MD5=[60a26617385b1d2d0262a64233df1f8d]\n",
       "class E6--><a href=\"psysml:79981dbc-2c5c-48be-a1ca-65e6b97acee9\" target=\"_top\" title=\"psysml:79981dbc-2c5c-48be-a1ca-65e6b97acee9\" xlink:actuate=\"onRequest\" xlink:href=\"psysml:79981dbc-2c5c-48be-a1ca-65e6b97acee9\" xlink:show=\"new\" xlink:title=\"psysml:79981dbc-2c5c-48be-a1ca-65e6b97acee9\" xlink:type=\"simple\"><rect fill=\"#FFFFFF\" height=\"45.9375\" id=\"E6\" rx=\"10\" ry=\"10\" style=\"stroke: #383838; stroke-width: 1.5;\" width=\"42\" x=\"137\" y=\"87.5\"/><text fill=\"#000000\" font-family=\"sans-serif\" font-size=\"12\" font-style=\"italic\" lengthAdjust=\"spacingAndGlyphs\" textLength=\"40\" x=\"138\" y=\"103.6387\">«part»</text><text fill=\"#000000\" font-family=\"sans-serif\" font-size=\"12\" lengthAdjust=\"spacingAndGlyphs\" textLength=\"22\" x=\"145\" y=\"117.6074\">x: A</text><line style=\"stroke: #383838; stroke-width: 1.5;\" x1=\"138\" x2=\"178\" y1=\"125.4375\" y2=\"125.4375\"/></a><a href=\"psysml:c8033d1b-23e3-49c1-96df-e9838fdb206a\" target=\"_top\" title=\"psysml:c8033d1b-23e3-49c1-96df-e9838fdb206a\" xlink:actuate=\"onRequest\" xlink:href=\"psysml:c8033d1b-23e3-49c1-96df-e9838fdb206a\" xlink:show=\"new\" xlink:title=\"psysml:c8033d1b-23e3-49c1-96df-e9838fdb206a\" xlink:type=\"simple\"><polygon fill=\"#FFFFFF\" points=\"56,84,88,84,95,106.2969,102,106.2969,102,136.5938,56,136.5938,56,84\" style=\"stroke: #000000; stroke-width: 1.5;\"/><line style=\"stroke: #000000; stroke-width: 1.5;\" x1=\"56\" x2=\"95\" y1=\"106.2969\" y2=\"106.2969\"/><text fill=\"#000000\" font-family=\"sans-serif\" font-size=\"14\" font-weight=\"bold\" lengthAdjust=\"spacingAndGlyphs\" textLength=\"26\" x=\"60\" y=\"98.9951\">P2a</text></a><!--MD5=[a717450b82c80b9240a525fa862496af]\n",
       "link E6 to E3--><a href=\"psysml:c58b2e1b-d15c-43ed-8c88-ba21dc2bc4d9\" target=\"_top\" title=\"psysml:c58b2e1b-d15c-43ed-8c88-ba21dc2bc4d9\" xlink:actuate=\"onRequest\" xlink:href=\"psysml:c58b2e1b-d15c-43ed-8c88-ba21dc2bc4d9\" xlink:show=\"new\" xlink:title=\"psysml:c58b2e1b-d15c-43ed-8c88-ba21dc2bc4d9\" xlink:type=\"simple\"><path d=\"M158,133.63 C158,133.63 158,192 158,192 \" fill=\"none\" id=\"E6-&gt;E3\" style=\"stroke: #383838; stroke-width: 1.0;\"/><polygon fill=\"#FFFFFF\" points=\"158,212,151,193,165,193,158,212\" style=\"stroke: #383838; stroke-width: 1.0;\"/><ellipse cx=\"153\" cy=\"187.3\" fill=\"#383838\" rx=\"2\" ry=\"2\" style=\"stroke: #383838; stroke-width: 1.0;\"/><ellipse cx=\"163\" cy=\"187.3\" fill=\"#383838\" rx=\"2\" ry=\"2\" style=\"stroke: #383838; stroke-width: 1.0;\"/></a><!--MD5=[669c6f2fdfdf6903598e20148004c733]\n",
       "@startuml\r\n",
       "skinparam linetype ortho\r\n",
       "skinparam monochrome true\r\n",
       "skinparam classbackgroundcolor white\r\n",
       "skinparam shadowing false\r\n",
       "skinparam wrapWidth 300\r\n",
       "hide circle\r\n",
       "\r\n",
       "package \"QualifiedNameImportTest\" as E1  [[psysml:d6589951-d792-47be-8c0b-0f7f96c74b54 ]]  {\r\n",
       "package \"P1\" as E2  [[psysml:4f86bdc9-c02e-4b3c-80e5-19e64e9caefb ]]  {\r\n",
       "comp def \"A\" as E3  <<(T,blue) part  def>> [[psysml:0e402542-8392-49a3-8c29-2ec692a245e7 ]] {\r\n",
       "}\r\n",
       "}\r\n",
       "package \"P2\" as E4  [[psysml:eca2a432-2e72-4cdf-a8b0-841fc7787b6c ]]  {\r\n",
       "package \"P2a\" as E5  [[psysml:c8033d1b-23e3-49c1-96df-e9838fdb206a ]]  {\r\n",
       "}\r\n",
       "comp usage \"x: A \" as E6  <<(T,blue) part>> [[psysml:79981dbc-2c5c-48be-a1ca-65e6b97acee9 ]] {\r\n",
       "}\r\n",
       "}\r\n",
       "}\r\n",
       "E6 - -:|> E3 [[psysml:c58b2e1b-d15c-43ed-8c88-ba21dc2bc4d9 ]] \r\n",
       "@enduml\r\n",
       "\n",
       "PlantUML version 1.2020.13(Sat Jun 13 12:26:38 UTC 2020)\n",
       "(EPL source distribution)\n",
       "Java Runtime: OpenJDK Runtime Environment\n",
       "JVM: OpenJDK 64-Bit Server VM\n",
       "Default Encoding: UTF-8\n",
       "Language: en\n",
       "Country: null\n",
       "--></g></svg>"
      ]
     },
     "execution_count": 51,
     "metadata": {},
     "output_type": "execute_result"
    }
   ],
   "source": [
    "%viz --style=\"ORTHOLINE\" --view=\"Default\" \"QualifiedNameImportTest\""
   ]
  },
  {
   "cell_type": "code",
   "execution_count": 52,
   "id": "830c9267",
   "metadata": {
    "execution": {
     "iopub.execute_input": "2021-11-13T13:01:06.557715Z",
     "iopub.status.busy": "2021-11-13T13:01:06.557316Z",
     "iopub.status.idle": "2021-11-13T13:01:06.582456Z",
     "shell.execute_reply": "2021-11-13T13:01:06.580832Z"
    }
   },
   "outputs": [
    {
     "data": {
      "image/svg+xml": [
       "<?xml version=\"1.0\" encoding=\"UTF-8\" standalone=\"no\"?><svg xmlns=\"http://www.w3.org/2000/svg\" xmlns:xlink=\"http://www.w3.org/1999/xlink\" contentScriptType=\"application/ecmascript\" contentStyleType=\"text/css\" height=\"310px\" preserveAspectRatio=\"none\" style=\"width:241px;height:310px;\" version=\"1.1\" viewBox=\"0 0 241 310\" width=\"241px\" zoomAndPan=\"magnify\"><defs/><g><!--MD5=[fbc87193dbaf4d95561dea2c320d4a47]\n",
       "cluster E1--><a href=\"psysml:d6589951-d792-47be-8c0b-0f7f96c74b54\" target=\"_top\" title=\"psysml:d6589951-d792-47be-8c0b-0f7f96c74b54\" xlink:actuate=\"onRequest\" xlink:href=\"psysml:d6589951-d792-47be-8c0b-0f7f96c74b54\" xlink:show=\"new\" xlink:title=\"psysml:d6589951-d792-47be-8c0b-0f7f96c74b54\" xlink:type=\"simple\"><polygon fill=\"#FFFFFF\" points=\"16,6,196,6,203,28.2969,219,28.2969,219,298,16,298,16,6\" style=\"stroke: #000000; stroke-width: 1.5;\"/><line style=\"stroke: #000000; stroke-width: 1.5;\" x1=\"16\" x2=\"203\" y1=\"28.2969\" y2=\"28.2969\"/><text fill=\"#000000\" font-family=\"sans-serif\" font-size=\"14\" font-weight=\"bold\" lengthAdjust=\"spacingAndGlyphs\" textLength=\"174\" x=\"20\" y=\"20.9951\">QualifiedNameImportTest</text></a><!--MD5=[e4f7fae6ed58524ba242bb0b0d3be6b7]\n",
       "cluster E2--><a href=\"psysml:4f86bdc9-c02e-4b3c-80e5-19e64e9caefb\" target=\"_top\" title=\"psysml:4f86bdc9-c02e-4b3c-80e5-19e64e9caefb\" xlink:actuate=\"onRequest\" xlink:href=\"psysml:4f86bdc9-c02e-4b3c-80e5-19e64e9caefb\" xlink:show=\"new\" xlink:title=\"psysml:4f86bdc9-c02e-4b3c-80e5-19e64e9caefb\" xlink:type=\"simple\"><polygon fill=\"#FFFFFF\" points=\"93,177,117,177,124,199.2969,195,199.2969,195,274,93,274,93,177\" style=\"stroke: #000000; stroke-width: 1.5;\"/><line style=\"stroke: #000000; stroke-width: 1.5;\" x1=\"93\" x2=\"124\" y1=\"199.2969\" y2=\"199.2969\"/><text fill=\"#000000\" font-family=\"sans-serif\" font-size=\"14\" font-weight=\"bold\" lengthAdjust=\"spacingAndGlyphs\" textLength=\"18\" x=\"97\" y=\"191.9951\">P1</text></a><!--MD5=[f6df4d0ebaf0b5dfb2ced0ae5af7c670]\n",
       "cluster E4--><a href=\"psysml:eca2a432-2e72-4cdf-a8b0-841fc7787b6c\" target=\"_top\" title=\"psysml:eca2a432-2e72-4cdf-a8b0-841fc7787b6c\" xlink:actuate=\"onRequest\" xlink:href=\"psysml:eca2a432-2e72-4cdf-a8b0-841fc7787b6c\" xlink:show=\"new\" xlink:title=\"psysml:eca2a432-2e72-4cdf-a8b0-841fc7787b6c\" xlink:type=\"simple\"><polygon fill=\"#FFFFFF\" points=\"40,49,64,49,71,71.2969,195,71.2969,195,153,40,153,40,49\" style=\"stroke: #000000; stroke-width: 1.5;\"/><line style=\"stroke: #000000; stroke-width: 1.5;\" x1=\"40\" x2=\"71\" y1=\"71.2969\" y2=\"71.2969\"/><text fill=\"#000000\" font-family=\"sans-serif\" font-size=\"14\" font-weight=\"bold\" lengthAdjust=\"spacingAndGlyphs\" textLength=\"18\" x=\"44\" y=\"63.9951\">P2</text></a><!--MD5=[09b614a08d8cba4a07c9adeb5e0fee81]\n",
       "class E3--><a href=\"psysml:0e402542-8392-49a3-8c29-2ec692a245e7\" target=\"_top\" title=\"psysml:0e402542-8392-49a3-8c29-2ec692a245e7\" xlink:actuate=\"onRequest\" xlink:href=\"psysml:0e402542-8392-49a3-8c29-2ec692a245e7\" xlink:show=\"new\" xlink:title=\"psysml:0e402542-8392-49a3-8c29-2ec692a245e7\" xlink:type=\"simple\"><rect fill=\"#FFFFFF\" height=\"45.9375\" id=\"E3\" style=\"stroke: #383838; stroke-width: 1.5;\" width=\"70\" x=\"109\" y=\"212\"/><text fill=\"#000000\" font-family=\"sans-serif\" font-size=\"12\" font-style=\"italic\" lengthAdjust=\"spacingAndGlyphs\" textLength=\"68\" x=\"110\" y=\"228.1387\">«part  def»</text><text fill=\"#000000\" font-family=\"sans-serif\" font-size=\"12\" lengthAdjust=\"spacingAndGlyphs\" textLength=\"8\" x=\"140\" y=\"242.1074\">A</text><line style=\"stroke: #383838; stroke-width: 1.5;\" x1=\"110\" x2=\"178\" y1=\"249.9375\" y2=\"249.9375\"/></a><!--MD5=[60a26617385b1d2d0262a64233df1f8d]\n",
       "class E6--><a href=\"psysml:79981dbc-2c5c-48be-a1ca-65e6b97acee9\" target=\"_top\" title=\"psysml:79981dbc-2c5c-48be-a1ca-65e6b97acee9\" xlink:actuate=\"onRequest\" xlink:href=\"psysml:79981dbc-2c5c-48be-a1ca-65e6b97acee9\" xlink:show=\"new\" xlink:title=\"psysml:79981dbc-2c5c-48be-a1ca-65e6b97acee9\" xlink:type=\"simple\"><rect fill=\"#FFFFFF\" height=\"45.9375\" id=\"E6\" rx=\"10\" ry=\"10\" style=\"stroke: #383838; stroke-width: 1.5;\" width=\"42\" x=\"137\" y=\"87.5\"/><text fill=\"#000000\" font-family=\"sans-serif\" font-size=\"12\" font-style=\"italic\" lengthAdjust=\"spacingAndGlyphs\" textLength=\"40\" x=\"138\" y=\"103.6387\">«part»</text><text fill=\"#000000\" font-family=\"sans-serif\" font-size=\"12\" lengthAdjust=\"spacingAndGlyphs\" textLength=\"22\" x=\"145\" y=\"117.6074\">x: A</text><line style=\"stroke: #383838; stroke-width: 1.5;\" x1=\"138\" x2=\"178\" y1=\"125.4375\" y2=\"125.4375\"/></a><a href=\"psysml:c8033d1b-23e3-49c1-96df-e9838fdb206a\" target=\"_top\" title=\"psysml:c8033d1b-23e3-49c1-96df-e9838fdb206a\" xlink:actuate=\"onRequest\" xlink:href=\"psysml:c8033d1b-23e3-49c1-96df-e9838fdb206a\" xlink:show=\"new\" xlink:title=\"psysml:c8033d1b-23e3-49c1-96df-e9838fdb206a\" xlink:type=\"simple\"><polygon fill=\"#FFFFFF\" points=\"56,84,88,84,95,106.2969,102,106.2969,102,136.5938,56,136.5938,56,84\" style=\"stroke: #000000; stroke-width: 1.5;\"/><line style=\"stroke: #000000; stroke-width: 1.5;\" x1=\"56\" x2=\"95\" y1=\"106.2969\" y2=\"106.2969\"/><text fill=\"#000000\" font-family=\"sans-serif\" font-size=\"14\" font-weight=\"bold\" lengthAdjust=\"spacingAndGlyphs\" textLength=\"26\" x=\"60\" y=\"98.9951\">P2a</text></a><!--MD5=[a717450b82c80b9240a525fa862496af]\n",
       "link E6 to E3--><a href=\"psysml:c58b2e1b-d15c-43ed-8c88-ba21dc2bc4d9\" target=\"_top\" title=\"psysml:c58b2e1b-d15c-43ed-8c88-ba21dc2bc4d9\" xlink:actuate=\"onRequest\" xlink:href=\"psysml:c58b2e1b-d15c-43ed-8c88-ba21dc2bc4d9\" xlink:show=\"new\" xlink:title=\"psysml:c58b2e1b-d15c-43ed-8c88-ba21dc2bc4d9\" xlink:type=\"simple\"><path d=\"M158,133.63 C158,133.63 158,192 158,192 \" fill=\"none\" id=\"E6-&gt;E3\" style=\"stroke: #383838; stroke-width: 1.0;\"/><polygon fill=\"#FFFFFF\" points=\"158,212,151,193,165,193,158,212\" style=\"stroke: #383838; stroke-width: 1.0;\"/><ellipse cx=\"153\" cy=\"187.3\" fill=\"#383838\" rx=\"2\" ry=\"2\" style=\"stroke: #383838; stroke-width: 1.0;\"/><ellipse cx=\"163\" cy=\"187.3\" fill=\"#383838\" rx=\"2\" ry=\"2\" style=\"stroke: #383838; stroke-width: 1.0;\"/></a><!--MD5=[669c6f2fdfdf6903598e20148004c733]\n",
       "@startuml\r\n",
       "skinparam linetype ortho\r\n",
       "skinparam monochrome true\r\n",
       "skinparam classbackgroundcolor white\r\n",
       "skinparam shadowing false\r\n",
       "skinparam wrapWidth 300\r\n",
       "hide circle\r\n",
       "\r\n",
       "package \"QualifiedNameImportTest\" as E1  [[psysml:d6589951-d792-47be-8c0b-0f7f96c74b54 ]]  {\r\n",
       "package \"P1\" as E2  [[psysml:4f86bdc9-c02e-4b3c-80e5-19e64e9caefb ]]  {\r\n",
       "comp def \"A\" as E3  <<(T,blue) part  def>> [[psysml:0e402542-8392-49a3-8c29-2ec692a245e7 ]] {\r\n",
       "}\r\n",
       "}\r\n",
       "package \"P2\" as E4  [[psysml:eca2a432-2e72-4cdf-a8b0-841fc7787b6c ]]  {\r\n",
       "package \"P2a\" as E5  [[psysml:c8033d1b-23e3-49c1-96df-e9838fdb206a ]]  {\r\n",
       "}\r\n",
       "comp usage \"x: A \" as E6  <<(T,blue) part>> [[psysml:79981dbc-2c5c-48be-a1ca-65e6b97acee9 ]] {\r\n",
       "}\r\n",
       "}\r\n",
       "}\r\n",
       "E6 - -:|> E3 [[psysml:c58b2e1b-d15c-43ed-8c88-ba21dc2bc4d9 ]] \r\n",
       "@enduml\r\n",
       "\n",
       "PlantUML version 1.2020.13(Sat Jun 13 12:26:38 UTC 2020)\n",
       "(EPL source distribution)\n",
       "Java Runtime: OpenJDK Runtime Environment\n",
       "JVM: OpenJDK 64-Bit Server VM\n",
       "Default Encoding: UTF-8\n",
       "Language: en\n",
       "Country: null\n",
       "--></g></svg>"
      ]
     },
     "execution_count": 52,
     "metadata": {},
     "output_type": "execute_result"
    }
   ],
   "source": [
    "%viz --style=\"ORTHOLINE\" --view=\"Tree\" \"QualifiedNameImportTest\""
   ]
  },
  {
   "cell_type": "code",
   "execution_count": 53,
   "id": "78016e47",
   "metadata": {
    "execution": {
     "iopub.execute_input": "2021-11-13T13:01:06.631697Z",
     "iopub.status.busy": "2021-11-13T13:01:06.631291Z",
     "iopub.status.idle": "2021-11-13T13:01:06.636342Z",
     "shell.execute_reply": "2021-11-13T13:01:06.635985Z"
    }
   },
   "outputs": [
    {
     "data": {
      "image/svg+xml": [
       "<?xml version=\"1.0\" encoding=\"UTF-8\" standalone=\"no\"?><svg xmlns=\"http://www.w3.org/2000/svg\" xmlns:xlink=\"http://www.w3.org/1999/xlink\" contentScriptType=\"application/ecmascript\" contentStyleType=\"text/css\" height=\"12px\" preserveAspectRatio=\"none\" style=\"width:12px;height:12px;\" version=\"1.1\" viewBox=\"0 0 12 12\" width=\"12px\" zoomAndPan=\"magnify\"><defs/><g><!--MD5=[97d6f38768b311333d388e66b2b27985]\n",
       "@startuml\r\n",
       "skinparam linetype ortho\r\n",
       "skinparam monochrome true\r\n",
       "skinparam classbackgroundcolor white\r\n",
       "skinparam shadowing false\r\n",
       "skinparam wrapWidth 300\r\n",
       "hide circle\r\n",
       "\r\n",
       "@enduml\r\n",
       "\n",
       "PlantUML version 1.2020.13(Sat Jun 13 12:26:38 UTC 2020)\n",
       "(EPL source distribution)\n",
       "Java Runtime: OpenJDK Runtime Environment\n",
       "JVM: OpenJDK 64-Bit Server VM\n",
       "Default Encoding: UTF-8\n",
       "Language: en\n",
       "Country: null\n",
       "--></g></svg>"
      ]
     },
     "execution_count": 53,
     "metadata": {},
     "output_type": "execute_result"
    }
   ],
   "source": [
    "%viz --style=\"ORTHOLINE\" --view=\"State\" \"QualifiedNameImportTest\""
   ]
  },
  {
   "cell_type": "code",
   "execution_count": 54,
   "id": "165cf1e8",
   "metadata": {
    "execution": {
     "iopub.execute_input": "2021-11-13T13:01:06.685384Z",
     "iopub.status.busy": "2021-11-13T13:01:06.684979Z",
     "iopub.status.idle": "2021-11-13T13:01:06.708974Z",
     "shell.execute_reply": "2021-11-13T13:01:06.707287Z"
    }
   },
   "outputs": [
    {
     "data": {
      "image/svg+xml": [
       "<?xml version=\"1.0\" encoding=\"UTF-8\" standalone=\"no\"?><svg xmlns=\"http://www.w3.org/2000/svg\" xmlns:xlink=\"http://www.w3.org/1999/xlink\" contentScriptType=\"application/ecmascript\" contentStyleType=\"text/css\" height=\"189px\" preserveAspectRatio=\"none\" style=\"width:379px;height:189px;\" version=\"1.1\" viewBox=\"0 0 379 189\" width=\"379px\" zoomAndPan=\"magnify\"><defs/><g><!--MD5=[fbc87193dbaf4d95561dea2c320d4a47]\n",
       "cluster E1--><a href=\"psysml:d6589951-d792-47be-8c0b-0f7f96c74b54\" target=\"_top\" title=\"psysml:d6589951-d792-47be-8c0b-0f7f96c74b54\" xlink:actuate=\"onRequest\" xlink:href=\"psysml:d6589951-d792-47be-8c0b-0f7f96c74b54\" xlink:show=\"new\" xlink:title=\"psysml:d6589951-d792-47be-8c0b-0f7f96c74b54\" xlink:type=\"simple\"><polygon fill=\"#FFFFFF\" points=\"16,6,196,6,203,28.2969,357,28.2969,357,177,16,177,16,6\" style=\"stroke: #000000; stroke-width: 1.5;\"/><line style=\"stroke: #000000; stroke-width: 1.5;\" x1=\"16\" x2=\"203\" y1=\"28.2969\" y2=\"28.2969\"/><text fill=\"#000000\" font-family=\"sans-serif\" font-size=\"14\" font-weight=\"bold\" lengthAdjust=\"spacingAndGlyphs\" textLength=\"174\" x=\"20\" y=\"20.9951\">QualifiedNameImportTest</text></a><!--MD5=[e4f7fae6ed58524ba242bb0b0d3be6b7]\n",
       "cluster E2--><a href=\"psysml:4f86bdc9-c02e-4b3c-80e5-19e64e9caefb\" target=\"_top\" title=\"psysml:4f86bdc9-c02e-4b3c-80e5-19e64e9caefb\" xlink:actuate=\"onRequest\" xlink:href=\"psysml:4f86bdc9-c02e-4b3c-80e5-19e64e9caefb\" xlink:show=\"new\" xlink:title=\"psysml:4f86bdc9-c02e-4b3c-80e5-19e64e9caefb\" xlink:type=\"simple\"><polygon fill=\"#FFFFFF\" points=\"227,54,251,54,258,76.2969,333,76.2969,333,148,227,148,227,54\" style=\"stroke: #000000; stroke-width: 1.5;\"/><line style=\"stroke: #000000; stroke-width: 1.5;\" x1=\"227\" x2=\"258\" y1=\"76.2969\" y2=\"76.2969\"/><text fill=\"#000000\" font-family=\"sans-serif\" font-size=\"14\" font-weight=\"bold\" lengthAdjust=\"spacingAndGlyphs\" textLength=\"18\" x=\"231\" y=\"68.9951\">P1</text></a><!--MD5=[f6df4d0ebaf0b5dfb2ced0ae5af7c670]\n",
       "cluster E4--><a href=\"psysml:eca2a432-2e72-4cdf-a8b0-841fc7787b6c\" target=\"_top\" title=\"psysml:eca2a432-2e72-4cdf-a8b0-841fc7787b6c\" xlink:actuate=\"onRequest\" xlink:href=\"psysml:eca2a432-2e72-4cdf-a8b0-841fc7787b6c\" xlink:show=\"new\" xlink:title=\"psysml:eca2a432-2e72-4cdf-a8b0-841fc7787b6c\" xlink:type=\"simple\"><polygon fill=\"#FFFFFF\" points=\"40,49,64,49,71,71.2969,203,71.2969,203,153,40,153,40,49\" style=\"stroke: #000000; stroke-width: 1.5;\"/><line style=\"stroke: #000000; stroke-width: 1.5;\" x1=\"40\" x2=\"71\" y1=\"71.2969\" y2=\"71.2969\"/><text fill=\"#000000\" font-family=\"sans-serif\" font-size=\"14\" font-weight=\"bold\" lengthAdjust=\"spacingAndGlyphs\" textLength=\"18\" x=\"44\" y=\"63.9951\">P2</text></a><g id=\"E1.E2.E3\"><a href=\"psysml:0e402542-8392-49a3-8c29-2ec692a245e7\" target=\"_top\" title=\"psysml:0e402542-8392-49a3-8c29-2ec692a245e7\" xlink:actuate=\"onRequest\" xlink:href=\"psysml:0e402542-8392-49a3-8c29-2ec692a245e7\" xlink:show=\"new\" xlink:title=\"psysml:0e402542-8392-49a3-8c29-2ec692a245e7\" xlink:type=\"simple\"><rect fill=\"#FFFFFF\" height=\"42.9375\" id=\"E3\" style=\"stroke: #383838; stroke-width: 1.5;\" width=\"75\" x=\"242.5\" y=\"89\"/><rect fill=\"#F8F8F8\" height=\"37.9375\" style=\"stroke: #383838; stroke-width: 1.5;\" width=\"75\" x=\"242.5\" y=\"89\"/><text fill=\"#000000\" font-family=\"sans-serif\" font-size=\"12\" font-style=\"italic\" lengthAdjust=\"spacingAndGlyphs\" textLength=\"68\" x=\"246\" y=\"105.1387\">«part  def»</text><text fill=\"#000000\" font-family=\"sans-serif\" font-size=\"12\" lengthAdjust=\"spacingAndGlyphs\" textLength=\"8\" x=\"276\" y=\"119.1074\">A</text></a></g><a href=\"psysml:c8033d1b-23e3-49c1-96df-e9838fdb206a\" target=\"_top\" title=\"psysml:c8033d1b-23e3-49c1-96df-e9838fdb206a\" xlink:actuate=\"onRequest\" xlink:href=\"psysml:c8033d1b-23e3-49c1-96df-e9838fdb206a\" xlink:show=\"new\" xlink:title=\"psysml:c8033d1b-23e3-49c1-96df-e9838fdb206a\" xlink:type=\"simple\"><polygon fill=\"#FFFFFF\" points=\"141,84,173,84,180,106.2969,187,106.2969,187,136.5938,141,136.5938,141,84\" style=\"stroke: #000000; stroke-width: 1.5;\"/><line style=\"stroke: #000000; stroke-width: 1.5;\" x1=\"141\" x2=\"180\" y1=\"106.2969\" y2=\"106.2969\"/><text fill=\"#000000\" font-family=\"sans-serif\" font-size=\"14\" font-weight=\"bold\" lengthAdjust=\"spacingAndGlyphs\" textLength=\"26\" x=\"145\" y=\"98.9951\">P2a</text></a><g id=\"E1.E4.E6\"><a href=\"psysml:79981dbc-2c5c-48be-a1ca-65e6b97acee9\" target=\"_top\" title=\"psysml:79981dbc-2c5c-48be-a1ca-65e6b97acee9\" xlink:actuate=\"onRequest\" xlink:href=\"psysml:79981dbc-2c5c-48be-a1ca-65e6b97acee9\" xlink:show=\"new\" xlink:title=\"psysml:79981dbc-2c5c-48be-a1ca-65e6b97acee9\" xlink:type=\"simple\"><rect fill=\"#FFFFFF\" height=\"40\" id=\"E6\" rx=\"10\" ry=\"10\" style=\"stroke: #383838; stroke-width: 1.5;\" width=\"50\" x=\"56\" y=\"90.5\"/><rect fill=\"#F8F8F8\" height=\"23.9688\" rx=\"10\" ry=\"10\" style=\"stroke: #F8F8F8; stroke-width: 1.5;\" width=\"50\" x=\"56\" y=\"90.5\"/><rect fill=\"#F8F8F8\" height=\"10\" style=\"stroke: #F8F8F8; stroke-width: 1.5;\" width=\"50\" x=\"56\" y=\"104.4688\"/><rect fill=\"none\" height=\"40\" id=\"E6\" rx=\"10\" ry=\"10\" style=\"stroke: #383838; stroke-width: 1.5;\" width=\"50\" x=\"56\" y=\"90.5\"/><text fill=\"#000000\" font-family=\"sans-serif\" font-size=\"12\" lengthAdjust=\"spacingAndGlyphs\" textLength=\"22\" x=\"70\" y=\"106.6387\">x: A</text></a></g><!--MD5=[febec8c4ecbb0a0242964827a427607a]\n",
       "@startuml\r\n",
       "skinparam ranksep 10\r\n",
       "skinparam rectangle {\r\n",
       " backgroundColor<<block>> LightGreen\r\n",
       "}\r\n",
       "skinparam linetype ortho\r\n",
       "skinparam monochrome true\r\n",
       "skinparam classbackgroundcolor white\r\n",
       "skinparam shadowing false\r\n",
       "skinparam wrapWidth 300\r\n",
       "hide circle\r\n",
       "\r\n",
       "package \"QualifiedNameImportTest\" as E1  [[psysml:d6589951-d792-47be-8c0b-0f7f96c74b54 ]]  {\r\n",
       "package \"P1\" as E2  [[psysml:4f86bdc9-c02e-4b3c-80e5-19e64e9caefb ]]  {\r\n",
       "rec def \"A\" as E3  <<(T,blue) part  def>> [[psysml:0e402542-8392-49a3-8c29-2ec692a245e7 ]] {\r\n",
       "}\r\n",
       "}\r\n",
       "package \"P2\" as E4  [[psysml:eca2a432-2e72-4cdf-a8b0-841fc7787b6c ]]  {\r\n",
       "package \"P2a\" as E5  [[psysml:c8033d1b-23e3-49c1-96df-e9838fdb206a ]]  {\r\n",
       "}\r\n",
       "rec usage \"x: A\" as E6  [[psysml:79981dbc-2c5c-48be-a1ca-65e6b97acee9 ]] {\r\n",
       "}\r\n",
       "}\r\n",
       "}\r\n",
       "@enduml\r\n",
       "\n",
       "PlantUML version 1.2020.13(Sat Jun 13 12:26:38 UTC 2020)\n",
       "(EPL source distribution)\n",
       "Java Runtime: OpenJDK Runtime Environment\n",
       "JVM: OpenJDK 64-Bit Server VM\n",
       "Default Encoding: UTF-8\n",
       "Language: en\n",
       "Country: null\n",
       "--></g></svg>"
      ]
     },
     "execution_count": 54,
     "metadata": {},
     "output_type": "execute_result"
    }
   ],
   "source": [
    "%viz --style=\"ORTHOLINE\" --view=\"Interconnection\" \"QualifiedNameImportTest\""
   ]
  },
  {
   "cell_type": "code",
   "execution_count": 55,
   "id": "feb2825e",
   "metadata": {
    "execution": {
     "iopub.execute_input": "2021-11-13T13:01:06.758180Z",
     "iopub.status.busy": "2021-11-13T13:01:06.757767Z",
     "iopub.status.idle": "2021-11-13T13:01:06.762735Z",
     "shell.execute_reply": "2021-11-13T13:01:06.762374Z"
    }
   },
   "outputs": [
    {
     "data": {
      "image/svg+xml": [
       "<?xml version=\"1.0\" encoding=\"UTF-8\" standalone=\"no\"?><svg xmlns=\"http://www.w3.org/2000/svg\" xmlns:xlink=\"http://www.w3.org/1999/xlink\" contentScriptType=\"application/ecmascript\" contentStyleType=\"text/css\" height=\"12px\" preserveAspectRatio=\"none\" style=\"width:12px;height:12px;\" version=\"1.1\" viewBox=\"0 0 12 12\" width=\"12px\" zoomAndPan=\"magnify\"><defs/><g><!--MD5=[72934c63077099a26744516a776b4749]\n",
       "@startuml\r\n",
       "skinparam ranksep 8\r\n",
       "skinparam linetype ortho\r\n",
       "skinparam monochrome true\r\n",
       "skinparam classbackgroundcolor white\r\n",
       "skinparam shadowing false\r\n",
       "skinparam wrapWidth 300\r\n",
       "hide circle\r\n",
       "\r\n",
       "@enduml\r\n",
       "\n",
       "PlantUML version 1.2020.13(Sat Jun 13 12:26:38 UTC 2020)\n",
       "(EPL source distribution)\n",
       "Java Runtime: OpenJDK Runtime Environment\n",
       "JVM: OpenJDK 64-Bit Server VM\n",
       "Default Encoding: UTF-8\n",
       "Language: en\n",
       "Country: null\n",
       "--></g></svg>"
      ]
     },
     "execution_count": 55,
     "metadata": {},
     "output_type": "execute_result"
    }
   ],
   "source": [
    "%viz --style=\"ORTHOLINE\" --view=\"Action\" \"QualifiedNameImportTest\""
   ]
  },
  {
   "cell_type": "code",
   "execution_count": 56,
   "id": "dce39d97",
   "metadata": {
    "execution": {
     "iopub.execute_input": "2021-11-13T13:01:06.812090Z",
     "iopub.status.busy": "2021-11-13T13:01:06.811674Z",
     "iopub.status.idle": "2021-11-13T13:01:06.816889Z",
     "shell.execute_reply": "2021-11-13T13:01:06.816507Z"
    }
   },
   "outputs": [
    {
     "data": {
      "image/svg+xml": [
       "<?xml version=\"1.0\" encoding=\"UTF-8\" standalone=\"no\"?><svg xmlns=\"http://www.w3.org/2000/svg\" xmlns:xlink=\"http://www.w3.org/1999/xlink\" contentScriptType=\"application/ecmascript\" contentStyleType=\"text/css\" height=\"12px\" preserveAspectRatio=\"none\" style=\"width:12px;height:12px;\" version=\"1.1\" viewBox=\"0 0 12 12\" width=\"12px\" zoomAndPan=\"magnify\"><defs/><g><!--MD5=[30fc1de5121c5abddedd55b44417fde8]\n",
       "@startuml\r\n",
       "skinparam roundcorner 20\r\n",
       "skinparam BoxPadding 20\r\n",
       "skinparam SequenceBoxBackgroundColor #white\r\n",
       "skinparam style strictuml\r\n",
       "skinparam maxMessageSize 100\r\n",
       "skinparam linetype ortho\r\n",
       "skinparam monochrome true\r\n",
       "skinparam classbackgroundcolor white\r\n",
       "skinparam shadowing false\r\n",
       "skinparam wrapWidth 300\r\n",
       "hide circle\r\n",
       "\r\n",
       "@enduml\r\n",
       "\n",
       "PlantUML version 1.2020.13(Sat Jun 13 12:26:38 UTC 2020)\n",
       "(EPL source distribution)\n",
       "Java Runtime: OpenJDK Runtime Environment\n",
       "JVM: OpenJDK 64-Bit Server VM\n",
       "Default Encoding: UTF-8\n",
       "Language: en\n",
       "Country: null\n",
       "--></g></svg>"
      ]
     },
     "execution_count": 56,
     "metadata": {},
     "output_type": "execute_result"
    }
   ],
   "source": [
    "%viz --style=\"ORTHOLINE\" --view=\"Sequence\" \"QualifiedNameImportTest\""
   ]
  },
  {
   "cell_type": "code",
   "execution_count": 57,
   "id": "e6b4bb33",
   "metadata": {
    "execution": {
     "iopub.execute_input": "2021-11-13T13:01:06.866085Z",
     "iopub.status.busy": "2021-11-13T13:01:06.865688Z",
     "iopub.status.idle": "2021-11-13T13:01:06.891427Z",
     "shell.execute_reply": "2021-11-13T13:01:06.891070Z"
    }
   },
   "outputs": [
    {
     "data": {
      "image/svg+xml": [
       "<?xml version=\"1.0\" encoding=\"UTF-8\" standalone=\"no\"?><svg xmlns=\"http://www.w3.org/2000/svg\" xmlns:xlink=\"http://www.w3.org/1999/xlink\" contentScriptType=\"application/ecmascript\" contentStyleType=\"text/css\" height=\"310px\" preserveAspectRatio=\"none\" style=\"width:241px;height:310px;\" version=\"1.1\" viewBox=\"0 0 241 310\" width=\"241px\" zoomAndPan=\"magnify\"><defs/><g><!--MD5=[fbc87193dbaf4d95561dea2c320d4a47]\n",
       "cluster E1--><a href=\"psysml:d6589951-d792-47be-8c0b-0f7f96c74b54\" target=\"_top\" title=\"psysml:d6589951-d792-47be-8c0b-0f7f96c74b54\" xlink:actuate=\"onRequest\" xlink:href=\"psysml:d6589951-d792-47be-8c0b-0f7f96c74b54\" xlink:show=\"new\" xlink:title=\"psysml:d6589951-d792-47be-8c0b-0f7f96c74b54\" xlink:type=\"simple\"><polygon fill=\"#FFFFFF\" points=\"16,6,196,6,203,28.2969,219,28.2969,219,298,16,298,16,6\" style=\"stroke: #000000; stroke-width: 1.5;\"/><line style=\"stroke: #000000; stroke-width: 1.5;\" x1=\"16\" x2=\"203\" y1=\"28.2969\" y2=\"28.2969\"/><text fill=\"#000000\" font-family=\"sans-serif\" font-size=\"14\" font-weight=\"bold\" lengthAdjust=\"spacingAndGlyphs\" textLength=\"174\" x=\"20\" y=\"20.9951\">QualifiedNameImportTest</text></a><!--MD5=[e4f7fae6ed58524ba242bb0b0d3be6b7]\n",
       "cluster E2--><a href=\"psysml:4f86bdc9-c02e-4b3c-80e5-19e64e9caefb\" target=\"_top\" title=\"psysml:4f86bdc9-c02e-4b3c-80e5-19e64e9caefb\" xlink:actuate=\"onRequest\" xlink:href=\"psysml:4f86bdc9-c02e-4b3c-80e5-19e64e9caefb\" xlink:show=\"new\" xlink:title=\"psysml:4f86bdc9-c02e-4b3c-80e5-19e64e9caefb\" xlink:type=\"simple\"><polygon fill=\"#FFFFFF\" points=\"93,177,117,177,124,199.2969,195,199.2969,195,274,93,274,93,177\" style=\"stroke: #000000; stroke-width: 1.5;\"/><line style=\"stroke: #000000; stroke-width: 1.5;\" x1=\"93\" x2=\"124\" y1=\"199.2969\" y2=\"199.2969\"/><text fill=\"#000000\" font-family=\"sans-serif\" font-size=\"14\" font-weight=\"bold\" lengthAdjust=\"spacingAndGlyphs\" textLength=\"18\" x=\"97\" y=\"191.9951\">P1</text></a><!--MD5=[f6df4d0ebaf0b5dfb2ced0ae5af7c670]\n",
       "cluster E4--><a href=\"psysml:eca2a432-2e72-4cdf-a8b0-841fc7787b6c\" target=\"_top\" title=\"psysml:eca2a432-2e72-4cdf-a8b0-841fc7787b6c\" xlink:actuate=\"onRequest\" xlink:href=\"psysml:eca2a432-2e72-4cdf-a8b0-841fc7787b6c\" xlink:show=\"new\" xlink:title=\"psysml:eca2a432-2e72-4cdf-a8b0-841fc7787b6c\" xlink:type=\"simple\"><polygon fill=\"#FFFFFF\" points=\"40,49,64,49,71,71.2969,195,71.2969,195,153,40,153,40,49\" style=\"stroke: #000000; stroke-width: 1.5;\"/><line style=\"stroke: #000000; stroke-width: 1.5;\" x1=\"40\" x2=\"71\" y1=\"71.2969\" y2=\"71.2969\"/><text fill=\"#000000\" font-family=\"sans-serif\" font-size=\"14\" font-weight=\"bold\" lengthAdjust=\"spacingAndGlyphs\" textLength=\"18\" x=\"44\" y=\"63.9951\">P2</text></a><!--MD5=[09b614a08d8cba4a07c9adeb5e0fee81]\n",
       "class E3--><a href=\"psysml:0e402542-8392-49a3-8c29-2ec692a245e7\" target=\"_top\" title=\"psysml:0e402542-8392-49a3-8c29-2ec692a245e7\" xlink:actuate=\"onRequest\" xlink:href=\"psysml:0e402542-8392-49a3-8c29-2ec692a245e7\" xlink:show=\"new\" xlink:title=\"psysml:0e402542-8392-49a3-8c29-2ec692a245e7\" xlink:type=\"simple\"><rect fill=\"#FFFFFF\" height=\"45.9375\" id=\"E3\" style=\"stroke: #383838; stroke-width: 1.5;\" width=\"70\" x=\"109\" y=\"212\"/><text fill=\"#000000\" font-family=\"sans-serif\" font-size=\"12\" font-style=\"italic\" lengthAdjust=\"spacingAndGlyphs\" textLength=\"68\" x=\"110\" y=\"228.1387\">«part  def»</text><text fill=\"#000000\" font-family=\"sans-serif\" font-size=\"12\" lengthAdjust=\"spacingAndGlyphs\" textLength=\"8\" x=\"140\" y=\"242.1074\">A</text><line style=\"stroke: #383838; stroke-width: 1.5;\" x1=\"110\" x2=\"178\" y1=\"249.9375\" y2=\"249.9375\"/></a><!--MD5=[60a26617385b1d2d0262a64233df1f8d]\n",
       "class E6--><a href=\"psysml:79981dbc-2c5c-48be-a1ca-65e6b97acee9\" target=\"_top\" title=\"psysml:79981dbc-2c5c-48be-a1ca-65e6b97acee9\" xlink:actuate=\"onRequest\" xlink:href=\"psysml:79981dbc-2c5c-48be-a1ca-65e6b97acee9\" xlink:show=\"new\" xlink:title=\"psysml:79981dbc-2c5c-48be-a1ca-65e6b97acee9\" xlink:type=\"simple\"><rect fill=\"#FFFFFF\" height=\"45.9375\" id=\"E6\" rx=\"10\" ry=\"10\" style=\"stroke: #383838; stroke-width: 1.5;\" width=\"42\" x=\"137\" y=\"87.5\"/><text fill=\"#000000\" font-family=\"sans-serif\" font-size=\"12\" font-style=\"italic\" lengthAdjust=\"spacingAndGlyphs\" textLength=\"40\" x=\"138\" y=\"103.6387\">«part»</text><text fill=\"#000000\" font-family=\"sans-serif\" font-size=\"12\" lengthAdjust=\"spacingAndGlyphs\" textLength=\"22\" x=\"145\" y=\"117.6074\">x: A</text><line style=\"stroke: #383838; stroke-width: 1.5;\" x1=\"138\" x2=\"178\" y1=\"125.4375\" y2=\"125.4375\"/></a><a href=\"psysml:c8033d1b-23e3-49c1-96df-e9838fdb206a\" target=\"_top\" title=\"psysml:c8033d1b-23e3-49c1-96df-e9838fdb206a\" xlink:actuate=\"onRequest\" xlink:href=\"psysml:c8033d1b-23e3-49c1-96df-e9838fdb206a\" xlink:show=\"new\" xlink:title=\"psysml:c8033d1b-23e3-49c1-96df-e9838fdb206a\" xlink:type=\"simple\"><polygon fill=\"#FFFFFF\" points=\"56,84,88,84,95,106.2969,102,106.2969,102,136.5938,56,136.5938,56,84\" style=\"stroke: #000000; stroke-width: 1.5;\"/><line style=\"stroke: #000000; stroke-width: 1.5;\" x1=\"56\" x2=\"95\" y1=\"106.2969\" y2=\"106.2969\"/><text fill=\"#000000\" font-family=\"sans-serif\" font-size=\"14\" font-weight=\"bold\" lengthAdjust=\"spacingAndGlyphs\" textLength=\"26\" x=\"60\" y=\"98.9951\">P2a</text></a><!--MD5=[a717450b82c80b9240a525fa862496af]\n",
       "link E6 to E3--><a href=\"psysml:c58b2e1b-d15c-43ed-8c88-ba21dc2bc4d9\" target=\"_top\" title=\"psysml:c58b2e1b-d15c-43ed-8c88-ba21dc2bc4d9\" xlink:actuate=\"onRequest\" xlink:href=\"psysml:c58b2e1b-d15c-43ed-8c88-ba21dc2bc4d9\" xlink:show=\"new\" xlink:title=\"psysml:c58b2e1b-d15c-43ed-8c88-ba21dc2bc4d9\" xlink:type=\"simple\"><path d=\"M158,133.63 C158,133.63 158,192 158,192 \" fill=\"none\" id=\"E6-&gt;E3\" style=\"stroke: #383838; stroke-width: 1.0;\"/><polygon fill=\"#FFFFFF\" points=\"158,212,151,193,165,193,158,212\" style=\"stroke: #383838; stroke-width: 1.0;\"/><ellipse cx=\"153\" cy=\"187.3\" fill=\"#383838\" rx=\"2\" ry=\"2\" style=\"stroke: #383838; stroke-width: 1.0;\"/><ellipse cx=\"163\" cy=\"187.3\" fill=\"#383838\" rx=\"2\" ry=\"2\" style=\"stroke: #383838; stroke-width: 1.0;\"/></a><!--MD5=[669c6f2fdfdf6903598e20148004c733]\n",
       "@startuml\r\n",
       "skinparam linetype ortho\r\n",
       "skinparam monochrome true\r\n",
       "skinparam classbackgroundcolor white\r\n",
       "skinparam shadowing false\r\n",
       "skinparam wrapWidth 300\r\n",
       "hide circle\r\n",
       "\r\n",
       "package \"QualifiedNameImportTest\" as E1  [[psysml:d6589951-d792-47be-8c0b-0f7f96c74b54 ]]  {\r\n",
       "package \"P1\" as E2  [[psysml:4f86bdc9-c02e-4b3c-80e5-19e64e9caefb ]]  {\r\n",
       "comp def \"A\" as E3  <<(T,blue) part  def>> [[psysml:0e402542-8392-49a3-8c29-2ec692a245e7 ]] {\r\n",
       "}\r\n",
       "}\r\n",
       "package \"P2\" as E4  [[psysml:eca2a432-2e72-4cdf-a8b0-841fc7787b6c ]]  {\r\n",
       "package \"P2a\" as E5  [[psysml:c8033d1b-23e3-49c1-96df-e9838fdb206a ]]  {\r\n",
       "}\r\n",
       "comp usage \"x: A \" as E6  <<(T,blue) part>> [[psysml:79981dbc-2c5c-48be-a1ca-65e6b97acee9 ]] {\r\n",
       "}\r\n",
       "}\r\n",
       "}\r\n",
       "E6 - -:|> E3 [[psysml:c58b2e1b-d15c-43ed-8c88-ba21dc2bc4d9 ]] \r\n",
       "@enduml\r\n",
       "\n",
       "PlantUML version 1.2020.13(Sat Jun 13 12:26:38 UTC 2020)\n",
       "(EPL source distribution)\n",
       "Java Runtime: OpenJDK Runtime Environment\n",
       "JVM: OpenJDK 64-Bit Server VM\n",
       "Default Encoding: UTF-8\n",
       "Language: en\n",
       "Country: null\n",
       "--></g></svg>"
      ]
     },
     "execution_count": 57,
     "metadata": {},
     "output_type": "execute_result"
    }
   ],
   "source": [
    "%viz --style=\"ORTHOLINE\" --view=\"MIXED\" \"QualifiedNameImportTest\""
   ]
  }
 ],
 "metadata": {
  "kernelspec": {
   "display_name": "SysML",
   "language": "sysml",
   "name": "sysml"
  },
  "language_info": {
   "codemirror_mode": "sysml",
   "file_extension": ".sysml",
   "mimetype": "text/x-sysml",
   "name": "SysML",
   "pygments_lexer": "java",
   "version": "1.0.0"
  }
 },
 "nbformat": 4,
 "nbformat_minor": 5
}
