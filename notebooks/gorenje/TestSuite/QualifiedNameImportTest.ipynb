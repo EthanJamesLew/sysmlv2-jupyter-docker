{
 "cells": [
  {
   "cell_type": "markdown",
   "id": "46ba5d92",
   "metadata": {},
   "source": [
    "# SysML v2 Test Suite\n",
    "\n",
    "This can notebook can be cleared using menu `Edit --> Clear All Outputs` and then all cells can be\n",
    "run using menu `Run --> Run All Cells`.\n",
    "\n",
    "**WARNING**: This file is generated, all modifications here will be ignored.\n"
   ]
  },
  {
   "cell_type": "markdown",
   "id": "09302abb",
   "metadata": {},
   "source": [
    "## File: ../../sysml/src/examples/Import Tests/QualifiedNameImportTest.sysml"
   ]
  },
  {
   "cell_type": "code",
   "execution_count": 1,
   "id": "c68b00ca",
   "metadata": {
    "execution": {
     "iopub.execute_input": "2022-03-21T07:52:05.950562Z",
     "iopub.status.busy": "2022-03-21T07:52:05.949132Z",
     "iopub.status.idle": "2022-03-21T07:52:06.061655Z",
     "shell.execute_reply": "2022-03-21T07:52:06.062127Z"
    }
   },
   "outputs": [
    {
     "data": {
      "text/plain": [
       "Package QualifiedNameImportTest (1907c411-75cb-476b-b2f6-4ddee3b56cf4)\n"
      ]
     },
     "execution_count": 1,
     "metadata": {},
     "output_type": "execute_result"
    }
   ],
   "source": [
    "package QualifiedNameImportTest {\n",
    "\tpackage P1 {\n",
    "\t\tpart def A;\n",
    "\t}\n",
    "\tpackage P2 {\n",
    "\t\tpackage P2a {\n",
    "\t\t\timport P1::*;\n",
    "\t\t}\n",
    "\t\t// The following should not fail.\n",
    "\t\t// A is a member of P2a because of the import.\n",
    "\t\tpart x: P2a::A;\n",
    "\t}\n",
    "}"
   ]
  },
  {
   "cell_type": "code",
   "execution_count": 2,
   "id": "5ace7e4a",
   "metadata": {
    "execution": {
     "iopub.execute_input": "2022-03-21T07:52:06.111696Z",
     "iopub.status.busy": "2022-03-21T07:52:06.111430Z",
     "iopub.status.idle": "2022-03-21T07:52:06.537935Z",
     "shell.execute_reply": "2022-03-21T07:52:06.536834Z"
    }
   },
   "outputs": [
    {
     "data": {
      "image/svg+xml": [
       "<?xml version=\"1.0\" encoding=\"UTF-8\" standalone=\"no\"?><svg xmlns=\"http://www.w3.org/2000/svg\" xmlns:xlink=\"http://www.w3.org/1999/xlink\" contentScriptType=\"application/ecmascript\" contentStyleType=\"text/css\" height=\"367px\" preserveAspectRatio=\"none\" style=\"width:243px;height:367px;\" version=\"1.1\" viewBox=\"0 0 243 367\" width=\"243px\" zoomAndPan=\"magnify\"><defs/><g><!--MD5=[fbc87193dbaf4d95561dea2c320d4a47]\n",
       "cluster E1--><a href=\"psysml:da4cdfd0-3825-4b53-8eea-757999b665bd\" target=\"_top\" title=\"psysml:da4cdfd0-3825-4b53-8eea-757999b665bd\" xlink:actuate=\"onRequest\" xlink:href=\"psysml:da4cdfd0-3825-4b53-8eea-757999b665bd\" xlink:show=\"new\" xlink:title=\"psysml:da4cdfd0-3825-4b53-8eea-757999b665bd\" xlink:type=\"simple\"><polygon fill=\"#FFFFFF\" points=\"16,6,196,6,203,28.2969,219,28.2969,219,355,16,355,16,6\" style=\"stroke: #000000; stroke-width: 1.5;\"/><line style=\"stroke: #000000; stroke-width: 1.5;\" x1=\"16\" x2=\"203\" y1=\"28.2969\" y2=\"28.2969\"/><text fill=\"#000000\" font-family=\"sans-serif\" font-size=\"14\" font-weight=\"bold\" lengthAdjust=\"spacingAndGlyphs\" textLength=\"174\" x=\"20\" y=\"20.9951\">QualifiedNameImportTest</text></a><!--MD5=[e4f7fae6ed58524ba242bb0b0d3be6b7]\n",
       "cluster E2--><a href=\"psysml:4a6c4eec-a299-4799-849a-0f6e2ae74607\" target=\"_top\" title=\"psysml:4a6c4eec-a299-4799-849a-0f6e2ae74607\" xlink:actuate=\"onRequest\" xlink:href=\"psysml:4a6c4eec-a299-4799-849a-0f6e2ae74607\" xlink:show=\"new\" xlink:title=\"psysml:4a6c4eec-a299-4799-849a-0f6e2ae74607\" xlink:type=\"simple\"><polygon fill=\"#FFFFFF\" points=\"48,210,72,210,79,232.2969,185,232.2969,185,323,48,323,48,210\" style=\"stroke: #000000; stroke-width: 1.5;\"/><line style=\"stroke: #000000; stroke-width: 1.5;\" x1=\"48\" x2=\"79\" y1=\"232.2969\" y2=\"232.2969\"/><text fill=\"#000000\" font-family=\"sans-serif\" font-size=\"14\" font-weight=\"bold\" lengthAdjust=\"spacingAndGlyphs\" textLength=\"18\" x=\"52\" y=\"224.9951\">P1</text></a><!--MD5=[f6df4d0ebaf0b5dfb2ced0ae5af7c670]\n",
       "cluster E4--><a href=\"psysml:eb8258b7-0b9d-4f0f-ab00-8538318b7623\" target=\"_top\" title=\"psysml:eb8258b7-0b9d-4f0f-ab00-8538318b7623\" xlink:actuate=\"onRequest\" xlink:href=\"psysml:eb8258b7-0b9d-4f0f-ab00-8538318b7623\" xlink:show=\"new\" xlink:title=\"psysml:eb8258b7-0b9d-4f0f-ab00-8538318b7623\" xlink:type=\"simple\"><polygon fill=\"#FFFFFF\" points=\"40,49,64,49,71,71.2969,195,71.2969,195,153,40,153,40,49\" style=\"stroke: #000000; stroke-width: 1.5;\"/><line style=\"stroke: #000000; stroke-width: 1.5;\" x1=\"40\" x2=\"71\" y1=\"71.2969\" y2=\"71.2969\"/><text fill=\"#000000\" font-family=\"sans-serif\" font-size=\"14\" font-weight=\"bold\" lengthAdjust=\"spacingAndGlyphs\" textLength=\"18\" x=\"44\" y=\"63.9951\">P2</text></a><!--MD5=[09b614a08d8cba4a07c9adeb5e0fee81]\n",
       "class E3--><a href=\"psysml:c3954339-5488-4b4b-b1b9-8dc0f4000655\" target=\"_top\" title=\"psysml:c3954339-5488-4b4b-b1b9-8dc0f4000655\" xlink:actuate=\"onRequest\" xlink:href=\"psysml:c3954339-5488-4b4b-b1b9-8dc0f4000655\" xlink:show=\"new\" xlink:title=\"psysml:c3954339-5488-4b4b-b1b9-8dc0f4000655\" xlink:type=\"simple\"><rect fill=\"#FFFFFF\" height=\"45.9375\" id=\"E3\" style=\"stroke: #383838; stroke-width: 1.5;\" width=\"70\" x=\"72\" y=\"253\"/><text fill=\"#000000\" font-family=\"sans-serif\" font-size=\"12\" font-style=\"italic\" lengthAdjust=\"spacingAndGlyphs\" textLength=\"68\" x=\"73\" y=\"269.1387\">«part  def»</text><text fill=\"#000000\" font-family=\"sans-serif\" font-size=\"12\" lengthAdjust=\"spacingAndGlyphs\" textLength=\"8\" x=\"103\" y=\"283.1074\">A</text><line style=\"stroke: #383838; stroke-width: 1.5;\" x1=\"73\" x2=\"141\" y1=\"290.9375\" y2=\"290.9375\"/></a><!--MD5=[60a26617385b1d2d0262a64233df1f8d]\n",
       "class E6--><a href=\"psysml:a72efec8-2b60-4f71-833a-33d401001ef7\" target=\"_top\" title=\"psysml:a72efec8-2b60-4f71-833a-33d401001ef7\" xlink:actuate=\"onRequest\" xlink:href=\"psysml:a72efec8-2b60-4f71-833a-33d401001ef7\" xlink:show=\"new\" xlink:title=\"psysml:a72efec8-2b60-4f71-833a-33d401001ef7\" xlink:type=\"simple\"><rect fill=\"#FFFFFF\" height=\"45.9375\" id=\"E6\" rx=\"10\" ry=\"10\" style=\"stroke: #383838; stroke-width: 1.5;\" width=\"42\" x=\"56\" y=\"87.5\"/><text fill=\"#000000\" font-family=\"sans-serif\" font-size=\"12\" font-style=\"italic\" lengthAdjust=\"spacingAndGlyphs\" textLength=\"40\" x=\"57\" y=\"103.6387\">«part»</text><text fill=\"#000000\" font-family=\"sans-serif\" font-size=\"12\" lengthAdjust=\"spacingAndGlyphs\" textLength=\"22\" x=\"64\" y=\"117.6074\">x: A</text><line style=\"stroke: #383838; stroke-width: 1.5;\" x1=\"57\" x2=\"97\" y1=\"125.4375\" y2=\"125.4375\"/></a><a href=\"psysml:18e68ffc-3c50-485f-abff-3c07b29f1978\" target=\"_top\" title=\"psysml:18e68ffc-3c50-485f-abff-3c07b29f1978\" xlink:actuate=\"onRequest\" xlink:href=\"psysml:18e68ffc-3c50-485f-abff-3c07b29f1978\" xlink:show=\"new\" xlink:title=\"psysml:18e68ffc-3c50-485f-abff-3c07b29f1978\" xlink:type=\"simple\"><polygon fill=\"#FFFFFF\" points=\"133,84,165,84,172,106.2969,179,106.2969,179,136.5938,133,136.5938,133,84\" style=\"stroke: #000000; stroke-width: 1.5;\"/><line style=\"stroke: #000000; stroke-width: 1.5;\" x1=\"133\" x2=\"172\" y1=\"106.2969\" y2=\"106.2969\"/><text fill=\"#000000\" font-family=\"sans-serif\" font-size=\"14\" font-weight=\"bold\" lengthAdjust=\"spacingAndGlyphs\" textLength=\"26\" x=\"137\" y=\"98.9951\">P2a</text></a><!--MD5=[15ebcb19ae302d9b601edb458606d402]\n",
       "link E5 to E2--><a href=\"psysml:dfd16e59-ab91-470e-8369-8533004051f7\" target=\"_top\" title=\"psysml:dfd16e59-ab91-470e-8369-8533004051f7\" xlink:actuate=\"onRequest\" xlink:href=\"psysml:dfd16e59-ab91-470e-8369-8533004051f7\" xlink:show=\"new\" xlink:title=\"psysml:dfd16e59-ab91-470e-8369-8533004051f7\" xlink:type=\"simple\"><path d=\"M159.28,137.05 C160.735,148.365 162.5469,162.4656 164.4519,177.2955 C165.4044,184.7104 166.3802,192.3076 167.3463,199.8301 C167.5878,201.7107 167.8287,203.5867 168.0685,205.4539 C168.1884,206.3876 168.308,207.319 168.4273,208.2478 C168.4869,208.7122 168.5465,209.1759 168.6059,209.6389 \" fill=\"none\" id=\"E5-&gt;E2\" style=\"stroke: #383838; stroke-width: 1.0; stroke-dasharray: 7.0,7.0;\"/><polygon fill=\"#383838\" points=\"168.6059,209.6389,171.427,200.2027,167.9691,204.6796,163.4922,201.2217,168.6059,209.6389\" style=\"stroke: #383838; stroke-width: 1.0;\"/><text fill=\"#000000\" font-family=\"sans-serif\" font-size=\"13\" lengthAdjust=\"spacingAndGlyphs\" textLength=\"65\" x=\"166\" y=\"182.0669\">«import»*</text></a><!--MD5=[a717450b82c80b9240a525fa862496af]\n",
       "link E6 to E3--><a href=\"psysml:08f34eb1-8ff4-422d-a9a6-5096bc1237f4\" target=\"_top\" title=\"psysml:08f34eb1-8ff4-422d-a9a6-5096bc1237f4\" xlink:actuate=\"onRequest\" xlink:href=\"psysml:08f34eb1-8ff4-422d-a9a6-5096bc1237f4\" xlink:show=\"new\" xlink:title=\"psysml:08f34eb1-8ff4-422d-a9a6-5096bc1237f4\" xlink:type=\"simple\"><path d=\"M81.05,133.55 C85.7,158.9 93.44,201.1 99.26,232.83 \" fill=\"none\" id=\"E6-&gt;E3\" style=\"stroke: #383838; stroke-width: 1.0;\"/><polygon fill=\"#FFFFFF\" points=\"102.92,252.78,92.6018,235.3578,106.3713,232.8278,102.92,252.78\" style=\"stroke: #383838; stroke-width: 1.0;\"/><ellipse cx=\"93.5388\" cy=\"229.3902\" fill=\"#383838\" rx=\"2\" ry=\"2\" style=\"stroke: #383838; stroke-width: 1.0;\"/><ellipse cx=\"103.3742\" cy=\"227.5831\" fill=\"#383838\" rx=\"2\" ry=\"2\" style=\"stroke: #383838; stroke-width: 1.0;\"/></a><!--MD5=[705e8c98971ec1edc9fe3c7689a1bdd1]\n",
       "@startuml\r\n",
       " skinparam monochrome true\r\n",
       "skinparam classbackgroundcolor white\r\n",
       "skinparam shadowing false\r\n",
       "skinparam wrapWidth 300\r\n",
       "hide circle\r\n",
       "\r\n",
       "package \"QualifiedNameImportTest\" as E1  [[psysml:da4cdfd0-3825-4b53-8eea-757999b665bd ]]  {\r\n",
       "package \"P1\" as E2  [[psysml:4a6c4eec-a299-4799-849a-0f6e2ae74607 ]]  {\r\n",
       "comp def \"A\" as E3  <<(T,blue) part  def>> [[psysml:c3954339-5488-4b4b-b1b9-8dc0f4000655 ]] {\r\n",
       "}\r\n",
       "}\r\n",
       "package \"P2\" as E4  [[psysml:eb8258b7-0b9d-4f0f-ab00-8538318b7623 ]]  {\r\n",
       "package \"P2a\" as E5  [[psysml:18e68ffc-3c50-485f-abff-3c07b29f1978 ]]  {\r\n",
       "}\r\n",
       "comp usage \"x: A \" as E6  <<(T,blue) part>> [[psysml:a72efec8-2b60-4f71-833a-33d401001ef7 ]] {\r\n",
       "}\r\n",
       "}\r\n",
       "}\r\n",
       "E5 ..> E2 [[psysml:dfd16e59-ab91-470e-8369-8533004051f7 ]] : <<import>>*\r\n",
       "E6 - -:|> E3 [[psysml:08f34eb1-8ff4-422d-a9a6-5096bc1237f4 ]] \r\n",
       "@enduml\r\n",
       "\n",
       "PlantUML version 1.2020.13(Sat Jun 13 12:26:38 UTC 2020)\n",
       "(EPL source distribution)\n",
       "Java Runtime: OpenJDK Runtime Environment\n",
       "JVM: OpenJDK 64-Bit Server VM\n",
       "Default Encoding: UTF-8\n",
       "Language: en\n",
       "Country: null\n",
       "--></g></svg>"
      ]
     },
     "execution_count": 2,
     "metadata": {},
     "output_type": "execute_result"
    }
   ],
   "source": [
    "%viz --style=\"COMPTREE\" --view=\"Default\" \"QualifiedNameImportTest\""
   ]
  },
  {
   "cell_type": "code",
   "execution_count": 3,
   "id": "7cf17f10",
   "metadata": {
    "execution": {
     "iopub.execute_input": "2022-03-21T07:52:06.587955Z",
     "iopub.status.busy": "2022-03-21T07:52:06.587639Z",
     "iopub.status.idle": "2022-03-21T07:52:06.635029Z",
     "shell.execute_reply": "2022-03-21T07:52:06.633966Z"
    }
   },
   "outputs": [
    {
     "data": {
      "image/svg+xml": [
       "<?xml version=\"1.0\" encoding=\"UTF-8\" standalone=\"no\"?><svg xmlns=\"http://www.w3.org/2000/svg\" xmlns:xlink=\"http://www.w3.org/1999/xlink\" contentScriptType=\"application/ecmascript\" contentStyleType=\"text/css\" height=\"367px\" preserveAspectRatio=\"none\" style=\"width:243px;height:367px;\" version=\"1.1\" viewBox=\"0 0 243 367\" width=\"243px\" zoomAndPan=\"magnify\"><defs/><g><!--MD5=[fbc87193dbaf4d95561dea2c320d4a47]\n",
       "cluster E1--><a href=\"psysml:da4cdfd0-3825-4b53-8eea-757999b665bd\" target=\"_top\" title=\"psysml:da4cdfd0-3825-4b53-8eea-757999b665bd\" xlink:actuate=\"onRequest\" xlink:href=\"psysml:da4cdfd0-3825-4b53-8eea-757999b665bd\" xlink:show=\"new\" xlink:title=\"psysml:da4cdfd0-3825-4b53-8eea-757999b665bd\" xlink:type=\"simple\"><polygon fill=\"#FFFFFF\" points=\"16,6,196,6,203,28.2969,219,28.2969,219,355,16,355,16,6\" style=\"stroke: #000000; stroke-width: 1.5;\"/><line style=\"stroke: #000000; stroke-width: 1.5;\" x1=\"16\" x2=\"203\" y1=\"28.2969\" y2=\"28.2969\"/><text fill=\"#000000\" font-family=\"sans-serif\" font-size=\"14\" font-weight=\"bold\" lengthAdjust=\"spacingAndGlyphs\" textLength=\"174\" x=\"20\" y=\"20.9951\">QualifiedNameImportTest</text></a><!--MD5=[e4f7fae6ed58524ba242bb0b0d3be6b7]\n",
       "cluster E2--><a href=\"psysml:4a6c4eec-a299-4799-849a-0f6e2ae74607\" target=\"_top\" title=\"psysml:4a6c4eec-a299-4799-849a-0f6e2ae74607\" xlink:actuate=\"onRequest\" xlink:href=\"psysml:4a6c4eec-a299-4799-849a-0f6e2ae74607\" xlink:show=\"new\" xlink:title=\"psysml:4a6c4eec-a299-4799-849a-0f6e2ae74607\" xlink:type=\"simple\"><polygon fill=\"#FFFFFF\" points=\"48,210,72,210,79,232.2969,185,232.2969,185,323,48,323,48,210\" style=\"stroke: #000000; stroke-width: 1.5;\"/><line style=\"stroke: #000000; stroke-width: 1.5;\" x1=\"48\" x2=\"79\" y1=\"232.2969\" y2=\"232.2969\"/><text fill=\"#000000\" font-family=\"sans-serif\" font-size=\"14\" font-weight=\"bold\" lengthAdjust=\"spacingAndGlyphs\" textLength=\"18\" x=\"52\" y=\"224.9951\">P1</text></a><!--MD5=[f6df4d0ebaf0b5dfb2ced0ae5af7c670]\n",
       "cluster E4--><a href=\"psysml:eb8258b7-0b9d-4f0f-ab00-8538318b7623\" target=\"_top\" title=\"psysml:eb8258b7-0b9d-4f0f-ab00-8538318b7623\" xlink:actuate=\"onRequest\" xlink:href=\"psysml:eb8258b7-0b9d-4f0f-ab00-8538318b7623\" xlink:show=\"new\" xlink:title=\"psysml:eb8258b7-0b9d-4f0f-ab00-8538318b7623\" xlink:type=\"simple\"><polygon fill=\"#FFFFFF\" points=\"40,49,64,49,71,71.2969,195,71.2969,195,153,40,153,40,49\" style=\"stroke: #000000; stroke-width: 1.5;\"/><line style=\"stroke: #000000; stroke-width: 1.5;\" x1=\"40\" x2=\"71\" y1=\"71.2969\" y2=\"71.2969\"/><text fill=\"#000000\" font-family=\"sans-serif\" font-size=\"14\" font-weight=\"bold\" lengthAdjust=\"spacingAndGlyphs\" textLength=\"18\" x=\"44\" y=\"63.9951\">P2</text></a><!--MD5=[09b614a08d8cba4a07c9adeb5e0fee81]\n",
       "class E3--><a href=\"psysml:c3954339-5488-4b4b-b1b9-8dc0f4000655\" target=\"_top\" title=\"psysml:c3954339-5488-4b4b-b1b9-8dc0f4000655\" xlink:actuate=\"onRequest\" xlink:href=\"psysml:c3954339-5488-4b4b-b1b9-8dc0f4000655\" xlink:show=\"new\" xlink:title=\"psysml:c3954339-5488-4b4b-b1b9-8dc0f4000655\" xlink:type=\"simple\"><rect fill=\"#FFFFFF\" height=\"45.9375\" id=\"E3\" style=\"stroke: #383838; stroke-width: 1.5;\" width=\"70\" x=\"72\" y=\"253\"/><text fill=\"#000000\" font-family=\"sans-serif\" font-size=\"12\" font-style=\"italic\" lengthAdjust=\"spacingAndGlyphs\" textLength=\"68\" x=\"73\" y=\"269.1387\">«part  def»</text><text fill=\"#000000\" font-family=\"sans-serif\" font-size=\"12\" lengthAdjust=\"spacingAndGlyphs\" textLength=\"8\" x=\"103\" y=\"283.1074\">A</text><line style=\"stroke: #383838; stroke-width: 1.5;\" x1=\"73\" x2=\"141\" y1=\"290.9375\" y2=\"290.9375\"/></a><!--MD5=[60a26617385b1d2d0262a64233df1f8d]\n",
       "class E6--><a href=\"psysml:a72efec8-2b60-4f71-833a-33d401001ef7\" target=\"_top\" title=\"psysml:a72efec8-2b60-4f71-833a-33d401001ef7\" xlink:actuate=\"onRequest\" xlink:href=\"psysml:a72efec8-2b60-4f71-833a-33d401001ef7\" xlink:show=\"new\" xlink:title=\"psysml:a72efec8-2b60-4f71-833a-33d401001ef7\" xlink:type=\"simple\"><rect fill=\"#FFFFFF\" height=\"45.9375\" id=\"E6\" rx=\"10\" ry=\"10\" style=\"stroke: #383838; stroke-width: 1.5;\" width=\"42\" x=\"56\" y=\"87.5\"/><text fill=\"#000000\" font-family=\"sans-serif\" font-size=\"12\" font-style=\"italic\" lengthAdjust=\"spacingAndGlyphs\" textLength=\"40\" x=\"57\" y=\"103.6387\">«part»</text><text fill=\"#000000\" font-family=\"sans-serif\" font-size=\"12\" lengthAdjust=\"spacingAndGlyphs\" textLength=\"22\" x=\"64\" y=\"117.6074\">x: A</text><line style=\"stroke: #383838; stroke-width: 1.5;\" x1=\"57\" x2=\"97\" y1=\"125.4375\" y2=\"125.4375\"/></a><a href=\"psysml:18e68ffc-3c50-485f-abff-3c07b29f1978\" target=\"_top\" title=\"psysml:18e68ffc-3c50-485f-abff-3c07b29f1978\" xlink:actuate=\"onRequest\" xlink:href=\"psysml:18e68ffc-3c50-485f-abff-3c07b29f1978\" xlink:show=\"new\" xlink:title=\"psysml:18e68ffc-3c50-485f-abff-3c07b29f1978\" xlink:type=\"simple\"><polygon fill=\"#FFFFFF\" points=\"133,84,165,84,172,106.2969,179,106.2969,179,136.5938,133,136.5938,133,84\" style=\"stroke: #000000; stroke-width: 1.5;\"/><line style=\"stroke: #000000; stroke-width: 1.5;\" x1=\"133\" x2=\"172\" y1=\"106.2969\" y2=\"106.2969\"/><text fill=\"#000000\" font-family=\"sans-serif\" font-size=\"14\" font-weight=\"bold\" lengthAdjust=\"spacingAndGlyphs\" textLength=\"26\" x=\"137\" y=\"98.9951\">P2a</text></a><!--MD5=[15ebcb19ae302d9b601edb458606d402]\n",
       "link E5 to E2--><a href=\"psysml:dfd16e59-ab91-470e-8369-8533004051f7\" target=\"_top\" title=\"psysml:dfd16e59-ab91-470e-8369-8533004051f7\" xlink:actuate=\"onRequest\" xlink:href=\"psysml:dfd16e59-ab91-470e-8369-8533004051f7\" xlink:show=\"new\" xlink:title=\"psysml:dfd16e59-ab91-470e-8369-8533004051f7\" xlink:type=\"simple\"><path d=\"M159.28,137.05 C160.735,148.365 162.5469,162.4656 164.4519,177.2955 C165.4044,184.7104 166.3802,192.3076 167.3463,199.8301 C167.5878,201.7107 167.8287,203.5867 168.0685,205.4539 C168.1884,206.3876 168.308,207.319 168.4273,208.2478 C168.4869,208.7122 168.5465,209.1759 168.6059,209.6389 \" fill=\"none\" id=\"E5-&gt;E2\" style=\"stroke: #383838; stroke-width: 1.0; stroke-dasharray: 7.0,7.0;\"/><polygon fill=\"#383838\" points=\"168.6059,209.6389,171.427,200.2027,167.9691,204.6796,163.4922,201.2217,168.6059,209.6389\" style=\"stroke: #383838; stroke-width: 1.0;\"/><text fill=\"#000000\" font-family=\"sans-serif\" font-size=\"13\" lengthAdjust=\"spacingAndGlyphs\" textLength=\"65\" x=\"166\" y=\"182.0669\">«import»*</text></a><!--MD5=[a717450b82c80b9240a525fa862496af]\n",
       "link E6 to E3--><a href=\"psysml:08f34eb1-8ff4-422d-a9a6-5096bc1237f4\" target=\"_top\" title=\"psysml:08f34eb1-8ff4-422d-a9a6-5096bc1237f4\" xlink:actuate=\"onRequest\" xlink:href=\"psysml:08f34eb1-8ff4-422d-a9a6-5096bc1237f4\" xlink:show=\"new\" xlink:title=\"psysml:08f34eb1-8ff4-422d-a9a6-5096bc1237f4\" xlink:type=\"simple\"><path d=\"M81.05,133.55 C85.7,158.9 93.44,201.1 99.26,232.83 \" fill=\"none\" id=\"E6-&gt;E3\" style=\"stroke: #383838; stroke-width: 1.0;\"/><polygon fill=\"#FFFFFF\" points=\"102.92,252.78,92.6018,235.3578,106.3713,232.8278,102.92,252.78\" style=\"stroke: #383838; stroke-width: 1.0;\"/><ellipse cx=\"93.5388\" cy=\"229.3902\" fill=\"#383838\" rx=\"2\" ry=\"2\" style=\"stroke: #383838; stroke-width: 1.0;\"/><ellipse cx=\"103.3742\" cy=\"227.5831\" fill=\"#383838\" rx=\"2\" ry=\"2\" style=\"stroke: #383838; stroke-width: 1.0;\"/></a><!--MD5=[705e8c98971ec1edc9fe3c7689a1bdd1]\n",
       "@startuml\r\n",
       " skinparam monochrome true\r\n",
       "skinparam classbackgroundcolor white\r\n",
       "skinparam shadowing false\r\n",
       "skinparam wrapWidth 300\r\n",
       "hide circle\r\n",
       "\r\n",
       "package \"QualifiedNameImportTest\" as E1  [[psysml:da4cdfd0-3825-4b53-8eea-757999b665bd ]]  {\r\n",
       "package \"P1\" as E2  [[psysml:4a6c4eec-a299-4799-849a-0f6e2ae74607 ]]  {\r\n",
       "comp def \"A\" as E3  <<(T,blue) part  def>> [[psysml:c3954339-5488-4b4b-b1b9-8dc0f4000655 ]] {\r\n",
       "}\r\n",
       "}\r\n",
       "package \"P2\" as E4  [[psysml:eb8258b7-0b9d-4f0f-ab00-8538318b7623 ]]  {\r\n",
       "package \"P2a\" as E5  [[psysml:18e68ffc-3c50-485f-abff-3c07b29f1978 ]]  {\r\n",
       "}\r\n",
       "comp usage \"x: A \" as E6  <<(T,blue) part>> [[psysml:a72efec8-2b60-4f71-833a-33d401001ef7 ]] {\r\n",
       "}\r\n",
       "}\r\n",
       "}\r\n",
       "E5 ..> E2 [[psysml:dfd16e59-ab91-470e-8369-8533004051f7 ]] : <<import>>*\r\n",
       "E6 - -:|> E3 [[psysml:08f34eb1-8ff4-422d-a9a6-5096bc1237f4 ]] \r\n",
       "@enduml\r\n",
       "\n",
       "PlantUML version 1.2020.13(Sat Jun 13 12:26:38 UTC 2020)\n",
       "(EPL source distribution)\n",
       "Java Runtime: OpenJDK Runtime Environment\n",
       "JVM: OpenJDK 64-Bit Server VM\n",
       "Default Encoding: UTF-8\n",
       "Language: en\n",
       "Country: null\n",
       "--></g></svg>"
      ]
     },
     "execution_count": 3,
     "metadata": {},
     "output_type": "execute_result"
    }
   ],
   "source": [
    "%viz --style=\"COMPTREE\" --view=\"Tree\" \"QualifiedNameImportTest\""
   ]
  },
  {
   "cell_type": "code",
   "execution_count": 4,
   "id": "8d75adc4",
   "metadata": {
    "execution": {
     "iopub.execute_input": "2022-03-21T07:52:06.685627Z",
     "iopub.status.busy": "2022-03-21T07:52:06.685302Z",
     "iopub.status.idle": "2022-03-21T07:52:06.692741Z",
     "shell.execute_reply": "2022-03-21T07:52:06.692446Z"
    }
   },
   "outputs": [
    {
     "data": {
      "image/svg+xml": [
       "<?xml version=\"1.0\" encoding=\"UTF-8\" standalone=\"no\"?><svg xmlns=\"http://www.w3.org/2000/svg\" xmlns:xlink=\"http://www.w3.org/1999/xlink\" contentScriptType=\"application/ecmascript\" contentStyleType=\"text/css\" height=\"12px\" preserveAspectRatio=\"none\" style=\"width:12px;height:12px;\" version=\"1.1\" viewBox=\"0 0 12 12\" width=\"12px\" zoomAndPan=\"magnify\"><defs/><g><!--MD5=[f19188ef49e11757b5c46753f95d9edc]\n",
       "@startuml\r\n",
       " skinparam monochrome true\r\n",
       "skinparam classbackgroundcolor white\r\n",
       "skinparam shadowing false\r\n",
       "skinparam wrapWidth 300\r\n",
       "hide circle\r\n",
       "\r\n",
       "@enduml\r\n",
       "\n",
       "PlantUML version 1.2020.13(Sat Jun 13 12:26:38 UTC 2020)\n",
       "(EPL source distribution)\n",
       "Java Runtime: OpenJDK Runtime Environment\n",
       "JVM: OpenJDK 64-Bit Server VM\n",
       "Default Encoding: UTF-8\n",
       "Language: en\n",
       "Country: null\n",
       "--></g></svg>"
      ]
     },
     "execution_count": 4,
     "metadata": {},
     "output_type": "execute_result"
    }
   ],
   "source": [
    "%viz --style=\"COMPTREE\" --view=\"State\" \"QualifiedNameImportTest\""
   ]
  },
  {
   "cell_type": "code",
   "execution_count": 5,
   "id": "d126d51f",
   "metadata": {
    "execution": {
     "iopub.execute_input": "2022-03-21T07:52:06.744124Z",
     "iopub.status.busy": "2022-03-21T07:52:06.743881Z",
     "iopub.status.idle": "2022-03-21T07:52:06.791825Z",
     "shell.execute_reply": "2022-03-21T07:52:06.791472Z"
    }
   },
   "outputs": [
    {
     "data": {
      "image/svg+xml": [
       "<?xml version=\"1.0\" encoding=\"UTF-8\" standalone=\"no\"?><svg xmlns=\"http://www.w3.org/2000/svg\" xmlns:xlink=\"http://www.w3.org/1999/xlink\" contentScriptType=\"application/ecmascript\" contentStyleType=\"text/css\" height=\"364px\" preserveAspectRatio=\"none\" style=\"width:249px;height:364px;\" version=\"1.1\" viewBox=\"0 0 249 364\" width=\"249px\" zoomAndPan=\"magnify\"><defs/><g><!--MD5=[fbc87193dbaf4d95561dea2c320d4a47]\n",
       "cluster E1--><a href=\"psysml:da4cdfd0-3825-4b53-8eea-757999b665bd\" target=\"_top\" title=\"psysml:da4cdfd0-3825-4b53-8eea-757999b665bd\" xlink:actuate=\"onRequest\" xlink:href=\"psysml:da4cdfd0-3825-4b53-8eea-757999b665bd\" xlink:show=\"new\" xlink:title=\"psysml:da4cdfd0-3825-4b53-8eea-757999b665bd\" xlink:type=\"simple\"><polygon fill=\"#FFFFFF\" points=\"16,6,196,6,203,28.2969,227,28.2969,227,352,16,352,16,6\" style=\"stroke: #000000; stroke-width: 1.5;\"/><line style=\"stroke: #000000; stroke-width: 1.5;\" x1=\"16\" x2=\"203\" y1=\"28.2969\" y2=\"28.2969\"/><text fill=\"#000000\" font-family=\"sans-serif\" font-size=\"14\" font-weight=\"bold\" lengthAdjust=\"spacingAndGlyphs\" textLength=\"174\" x=\"20\" y=\"20.9951\">QualifiedNameImportTest</text></a><!--MD5=[e4f7fae6ed58524ba242bb0b0d3be6b7]\n",
       "cluster E2--><a href=\"psysml:4a6c4eec-a299-4799-849a-0f6e2ae74607\" target=\"_top\" title=\"psysml:4a6c4eec-a299-4799-849a-0f6e2ae74607\" xlink:actuate=\"onRequest\" xlink:href=\"psysml:4a6c4eec-a299-4799-849a-0f6e2ae74607\" xlink:show=\"new\" xlink:title=\"psysml:4a6c4eec-a299-4799-849a-0f6e2ae74607\" xlink:type=\"simple\"><polygon fill=\"#FFFFFF\" points=\"53,210,77,210,84,232.2969,195,232.2969,195,320,53,320,53,210\" style=\"stroke: #000000; stroke-width: 1.5;\"/><line style=\"stroke: #000000; stroke-width: 1.5;\" x1=\"53\" x2=\"84\" y1=\"232.2969\" y2=\"232.2969\"/><text fill=\"#000000\" font-family=\"sans-serif\" font-size=\"14\" font-weight=\"bold\" lengthAdjust=\"spacingAndGlyphs\" textLength=\"18\" x=\"57\" y=\"224.9951\">P1</text></a><!--MD5=[f6df4d0ebaf0b5dfb2ced0ae5af7c670]\n",
       "cluster E4--><a href=\"psysml:eb8258b7-0b9d-4f0f-ab00-8538318b7623\" target=\"_top\" title=\"psysml:eb8258b7-0b9d-4f0f-ab00-8538318b7623\" xlink:actuate=\"onRequest\" xlink:href=\"psysml:eb8258b7-0b9d-4f0f-ab00-8538318b7623\" xlink:show=\"new\" xlink:title=\"psysml:eb8258b7-0b9d-4f0f-ab00-8538318b7623\" xlink:type=\"simple\"><polygon fill=\"#FFFFFF\" points=\"40,49,64,49,71,71.2969,203,71.2969,203,153,40,153,40,49\" style=\"stroke: #000000; stroke-width: 1.5;\"/><line style=\"stroke: #000000; stroke-width: 1.5;\" x1=\"40\" x2=\"71\" y1=\"71.2969\" y2=\"71.2969\"/><text fill=\"#000000\" font-family=\"sans-serif\" font-size=\"14\" font-weight=\"bold\" lengthAdjust=\"spacingAndGlyphs\" textLength=\"18\" x=\"44\" y=\"63.9951\">P2</text></a><g id=\"E1.E2.E3\"><a href=\"psysml:c3954339-5488-4b4b-b1b9-8dc0f4000655\" target=\"_top\" title=\"psysml:c3954339-5488-4b4b-b1b9-8dc0f4000655\" xlink:actuate=\"onRequest\" xlink:href=\"psysml:c3954339-5488-4b4b-b1b9-8dc0f4000655\" xlink:show=\"new\" xlink:title=\"psysml:c3954339-5488-4b4b-b1b9-8dc0f4000655\" xlink:type=\"simple\"><rect fill=\"#FFFFFF\" height=\"42.9375\" id=\"E3\" style=\"stroke: #383838; stroke-width: 1.5;\" width=\"75\" x=\"96.5\" y=\"253\"/><rect fill=\"#F8F8F8\" height=\"37.9375\" style=\"stroke: #383838; stroke-width: 1.5;\" width=\"75\" x=\"96.5\" y=\"253\"/><text fill=\"#000000\" font-family=\"sans-serif\" font-size=\"12\" font-style=\"italic\" lengthAdjust=\"spacingAndGlyphs\" textLength=\"68\" x=\"100\" y=\"269.1387\">«part  def»</text><text fill=\"#000000\" font-family=\"sans-serif\" font-size=\"12\" lengthAdjust=\"spacingAndGlyphs\" textLength=\"8\" x=\"130\" y=\"283.1074\">A</text></a></g><a href=\"psysml:18e68ffc-3c50-485f-abff-3c07b29f1978\" target=\"_top\" title=\"psysml:18e68ffc-3c50-485f-abff-3c07b29f1978\" xlink:actuate=\"onRequest\" xlink:href=\"psysml:18e68ffc-3c50-485f-abff-3c07b29f1978\" xlink:show=\"new\" xlink:title=\"psysml:18e68ffc-3c50-485f-abff-3c07b29f1978\" xlink:type=\"simple\"><polygon fill=\"#FFFFFF\" points=\"141,84,173,84,180,106.2969,187,106.2969,187,136.5938,141,136.5938,141,84\" style=\"stroke: #000000; stroke-width: 1.5;\"/><line style=\"stroke: #000000; stroke-width: 1.5;\" x1=\"141\" x2=\"180\" y1=\"106.2969\" y2=\"106.2969\"/><text fill=\"#000000\" font-family=\"sans-serif\" font-size=\"14\" font-weight=\"bold\" lengthAdjust=\"spacingAndGlyphs\" textLength=\"26\" x=\"145\" y=\"98.9951\">P2a</text></a><g id=\"E1.E4.E6\"><a href=\"psysml:a72efec8-2b60-4f71-833a-33d401001ef7\" target=\"_top\" title=\"psysml:a72efec8-2b60-4f71-833a-33d401001ef7\" xlink:actuate=\"onRequest\" xlink:href=\"psysml:a72efec8-2b60-4f71-833a-33d401001ef7\" xlink:show=\"new\" xlink:title=\"psysml:a72efec8-2b60-4f71-833a-33d401001ef7\" xlink:type=\"simple\"><rect fill=\"#FFFFFF\" height=\"40\" id=\"E6\" rx=\"10\" ry=\"10\" style=\"stroke: #383838; stroke-width: 1.5;\" width=\"50\" x=\"56\" y=\"90.5\"/><rect fill=\"#F8F8F8\" height=\"23.9688\" rx=\"10\" ry=\"10\" style=\"stroke: #F8F8F8; stroke-width: 1.5;\" width=\"50\" x=\"56\" y=\"90.5\"/><rect fill=\"#F8F8F8\" height=\"10\" style=\"stroke: #F8F8F8; stroke-width: 1.5;\" width=\"50\" x=\"56\" y=\"104.4688\"/><rect fill=\"none\" height=\"40\" id=\"E6\" rx=\"10\" ry=\"10\" style=\"stroke: #383838; stroke-width: 1.5;\" width=\"50\" x=\"56\" y=\"90.5\"/><text fill=\"#000000\" font-family=\"sans-serif\" font-size=\"12\" lengthAdjust=\"spacingAndGlyphs\" textLength=\"22\" x=\"70\" y=\"106.6387\">x: A</text></a></g><!--MD5=[15ebcb19ae302d9b601edb458606d402]\n",
       "link E5 to E2--><a href=\"psysml:dfd16e59-ab91-470e-8369-8533004051f7\" target=\"_top\" title=\"psysml:dfd16e59-ab91-470e-8369-8533004051f7\" xlink:actuate=\"onRequest\" xlink:href=\"psysml:dfd16e59-ab91-470e-8369-8533004051f7\" xlink:show=\"new\" xlink:title=\"psysml:dfd16e59-ab91-470e-8369-8533004051f7\" xlink:type=\"simple\"><path d=\"M145.15,137.17 C138.8,145.15 131.44,153.75 124,161 C106.75,177.82 94.23,173.87 81,194 C78.5775,197.6875 76.4484,201.6477 74.5773,205.7604 C74.1095,206.7885 73.6578,207.8263 73.2217,208.8716 C73.1127,209.133 73.0046,209.3948 72.8975,209.6571 \" fill=\"none\" id=\"E5-&gt;E2\" style=\"stroke: #383838; stroke-width: 1.0; stroke-dasharray: 7.0,7.0;\"/><polygon fill=\"#383838\" points=\"72.8975,209.6571,80.0029,202.837,74.7876,205.0281,72.5965,199.8128,72.8975,209.6571\" style=\"stroke: #383838; stroke-width: 1.0;\"/><text fill=\"#000000\" font-family=\"sans-serif\" font-size=\"13\" lengthAdjust=\"spacingAndGlyphs\" textLength=\"65\" x=\"114\" y=\"182.0669\">«import»*</text></a><!--MD5=[b231a69b6cc970f25b37d91d035a1741]\n",
       "@startuml\r\n",
       "skinparam ranksep 10\r\n",
       "skinparam rectangle {\r\n",
       " backgroundColor<<block>> LightGreen\r\n",
       "}\r\n",
       " skinparam monochrome true\r\n",
       "skinparam classbackgroundcolor white\r\n",
       "skinparam shadowing false\r\n",
       "skinparam wrapWidth 300\r\n",
       "hide circle\r\n",
       "\r\n",
       "package \"QualifiedNameImportTest\" as E1  [[psysml:da4cdfd0-3825-4b53-8eea-757999b665bd ]]  {\r\n",
       "package \"P1\" as E2  [[psysml:4a6c4eec-a299-4799-849a-0f6e2ae74607 ]]  {\r\n",
       "rec def \"A\" as E3  <<(T,blue) part  def>> [[psysml:c3954339-5488-4b4b-b1b9-8dc0f4000655 ]] {\r\n",
       "}\r\n",
       "}\r\n",
       "package \"P2\" as E4  [[psysml:eb8258b7-0b9d-4f0f-ab00-8538318b7623 ]]  {\r\n",
       "package \"P2a\" as E5  [[psysml:18e68ffc-3c50-485f-abff-3c07b29f1978 ]]  {\r\n",
       "}\r\n",
       "rec usage \"x: A\" as E6  [[psysml:a72efec8-2b60-4f71-833a-33d401001ef7 ]] {\r\n",
       "}\r\n",
       "}\r\n",
       "}\r\n",
       "E5 ..> E2 [[psysml:dfd16e59-ab91-470e-8369-8533004051f7 ]] : <<import>>*\r\n",
       "@enduml\r\n",
       "\n",
       "PlantUML version 1.2020.13(Sat Jun 13 12:26:38 UTC 2020)\n",
       "(EPL source distribution)\n",
       "Java Runtime: OpenJDK Runtime Environment\n",
       "JVM: OpenJDK 64-Bit Server VM\n",
       "Default Encoding: UTF-8\n",
       "Language: en\n",
       "Country: null\n",
       "--></g></svg>"
      ]
     },
     "execution_count": 5,
     "metadata": {},
     "output_type": "execute_result"
    }
   ],
   "source": [
    "%viz --style=\"COMPTREE\" --view=\"Interconnection\" \"QualifiedNameImportTest\""
   ]
  },
  {
   "cell_type": "code",
   "execution_count": 6,
   "id": "1970c2f7",
   "metadata": {
    "execution": {
     "iopub.execute_input": "2022-03-21T07:52:06.841575Z",
     "iopub.status.busy": "2022-03-21T07:52:06.841166Z",
     "iopub.status.idle": "2022-03-21T07:52:06.848632Z",
     "shell.execute_reply": "2022-03-21T07:52:06.849031Z"
    }
   },
   "outputs": [
    {
     "data": {
      "image/svg+xml": [
       "<?xml version=\"1.0\" encoding=\"UTF-8\" standalone=\"no\"?><svg xmlns=\"http://www.w3.org/2000/svg\" xmlns:xlink=\"http://www.w3.org/1999/xlink\" contentScriptType=\"application/ecmascript\" contentStyleType=\"text/css\" height=\"12px\" preserveAspectRatio=\"none\" style=\"width:12px;height:12px;\" version=\"1.1\" viewBox=\"0 0 12 12\" width=\"12px\" zoomAndPan=\"magnify\"><defs/><g><!--MD5=[655b888544ca4751ea36af1068543f84]\n",
       "@startuml\r\n",
       "skinparam ranksep 8\r\n",
       " skinparam monochrome true\r\n",
       "skinparam classbackgroundcolor white\r\n",
       "skinparam shadowing false\r\n",
       "skinparam wrapWidth 300\r\n",
       "hide circle\r\n",
       "\r\n",
       "@enduml\r\n",
       "\n",
       "PlantUML version 1.2020.13(Sat Jun 13 12:26:38 UTC 2020)\n",
       "(EPL source distribution)\n",
       "Java Runtime: OpenJDK Runtime Environment\n",
       "JVM: OpenJDK 64-Bit Server VM\n",
       "Default Encoding: UTF-8\n",
       "Language: en\n",
       "Country: null\n",
       "--></g></svg>"
      ]
     },
     "execution_count": 6,
     "metadata": {},
     "output_type": "execute_result"
    }
   ],
   "source": [
    "%viz --style=\"COMPTREE\" --view=\"Action\" \"QualifiedNameImportTest\""
   ]
  },
  {
   "cell_type": "code",
   "execution_count": 7,
   "id": "d0f05445",
   "metadata": {
    "execution": {
     "iopub.execute_input": "2022-03-21T07:52:06.899627Z",
     "iopub.status.busy": "2022-03-21T07:52:06.899135Z",
     "iopub.status.idle": "2022-03-21T07:52:06.911593Z",
     "shell.execute_reply": "2022-03-21T07:52:06.911910Z"
    }
   },
   "outputs": [
    {
     "data": {
      "image/svg+xml": [
       "<?xml version=\"1.0\" encoding=\"UTF-8\" standalone=\"no\"?><svg xmlns=\"http://www.w3.org/2000/svg\" xmlns:xlink=\"http://www.w3.org/1999/xlink\" contentScriptType=\"application/ecmascript\" contentStyleType=\"text/css\" height=\"12px\" preserveAspectRatio=\"none\" style=\"width:12px;height:12px;\" version=\"1.1\" viewBox=\"0 0 12 12\" width=\"12px\" zoomAndPan=\"magnify\"><defs/><g><!--MD5=[803fc46c337be7a5c8a9831e35356779]\n",
       "@startuml\r\n",
       "skinparam roundcorner 20\r\n",
       "skinparam BoxPadding 20\r\n",
       "skinparam SequenceBoxBackgroundColor #white\r\n",
       "skinparam style strictuml\r\n",
       "skinparam maxMessageSize 100\r\n",
       " skinparam monochrome true\r\n",
       "skinparam classbackgroundcolor white\r\n",
       "skinparam shadowing false\r\n",
       "skinparam wrapWidth 300\r\n",
       "hide circle\r\n",
       "\r\n",
       "@enduml\r\n",
       "\n",
       "PlantUML version 1.2020.13(Sat Jun 13 12:26:38 UTC 2020)\n",
       "(EPL source distribution)\n",
       "Java Runtime: OpenJDK Runtime Environment\n",
       "JVM: OpenJDK 64-Bit Server VM\n",
       "Default Encoding: UTF-8\n",
       "Language: en\n",
       "Country: null\n",
       "--></g></svg>"
      ]
     },
     "execution_count": 7,
     "metadata": {},
     "output_type": "execute_result"
    }
   ],
   "source": [
    "%viz --style=\"COMPTREE\" --view=\"Sequence\" \"QualifiedNameImportTest\""
   ]
  },
  {
   "cell_type": "code",
   "execution_count": 8,
   "id": "d9431a1f",
   "metadata": {
    "execution": {
     "iopub.execute_input": "2022-03-21T07:52:06.962219Z",
     "iopub.status.busy": "2022-03-21T07:52:06.961803Z",
     "iopub.status.idle": "2022-03-21T07:52:07.004300Z",
     "shell.execute_reply": "2022-03-21T07:52:07.003930Z"
    }
   },
   "outputs": [
    {
     "data": {
      "image/svg+xml": [
       "<?xml version=\"1.0\" encoding=\"UTF-8\" standalone=\"no\"?><svg xmlns=\"http://www.w3.org/2000/svg\" xmlns:xlink=\"http://www.w3.org/1999/xlink\" contentScriptType=\"application/ecmascript\" contentStyleType=\"text/css\" height=\"367px\" preserveAspectRatio=\"none\" style=\"width:243px;height:367px;\" version=\"1.1\" viewBox=\"0 0 243 367\" width=\"243px\" zoomAndPan=\"magnify\"><defs/><g><!--MD5=[fbc87193dbaf4d95561dea2c320d4a47]\n",
       "cluster E1--><a href=\"psysml:da4cdfd0-3825-4b53-8eea-757999b665bd\" target=\"_top\" title=\"psysml:da4cdfd0-3825-4b53-8eea-757999b665bd\" xlink:actuate=\"onRequest\" xlink:href=\"psysml:da4cdfd0-3825-4b53-8eea-757999b665bd\" xlink:show=\"new\" xlink:title=\"psysml:da4cdfd0-3825-4b53-8eea-757999b665bd\" xlink:type=\"simple\"><polygon fill=\"#FFFFFF\" points=\"16,6,196,6,203,28.2969,219,28.2969,219,355,16,355,16,6\" style=\"stroke: #000000; stroke-width: 1.5;\"/><line style=\"stroke: #000000; stroke-width: 1.5;\" x1=\"16\" x2=\"203\" y1=\"28.2969\" y2=\"28.2969\"/><text fill=\"#000000\" font-family=\"sans-serif\" font-size=\"14\" font-weight=\"bold\" lengthAdjust=\"spacingAndGlyphs\" textLength=\"174\" x=\"20\" y=\"20.9951\">QualifiedNameImportTest</text></a><!--MD5=[e4f7fae6ed58524ba242bb0b0d3be6b7]\n",
       "cluster E2--><a href=\"psysml:4a6c4eec-a299-4799-849a-0f6e2ae74607\" target=\"_top\" title=\"psysml:4a6c4eec-a299-4799-849a-0f6e2ae74607\" xlink:actuate=\"onRequest\" xlink:href=\"psysml:4a6c4eec-a299-4799-849a-0f6e2ae74607\" xlink:show=\"new\" xlink:title=\"psysml:4a6c4eec-a299-4799-849a-0f6e2ae74607\" xlink:type=\"simple\"><polygon fill=\"#FFFFFF\" points=\"48,210,72,210,79,232.2969,185,232.2969,185,323,48,323,48,210\" style=\"stroke: #000000; stroke-width: 1.5;\"/><line style=\"stroke: #000000; stroke-width: 1.5;\" x1=\"48\" x2=\"79\" y1=\"232.2969\" y2=\"232.2969\"/><text fill=\"#000000\" font-family=\"sans-serif\" font-size=\"14\" font-weight=\"bold\" lengthAdjust=\"spacingAndGlyphs\" textLength=\"18\" x=\"52\" y=\"224.9951\">P1</text></a><!--MD5=[f6df4d0ebaf0b5dfb2ced0ae5af7c670]\n",
       "cluster E4--><a href=\"psysml:eb8258b7-0b9d-4f0f-ab00-8538318b7623\" target=\"_top\" title=\"psysml:eb8258b7-0b9d-4f0f-ab00-8538318b7623\" xlink:actuate=\"onRequest\" xlink:href=\"psysml:eb8258b7-0b9d-4f0f-ab00-8538318b7623\" xlink:show=\"new\" xlink:title=\"psysml:eb8258b7-0b9d-4f0f-ab00-8538318b7623\" xlink:type=\"simple\"><polygon fill=\"#FFFFFF\" points=\"40,49,64,49,71,71.2969,195,71.2969,195,153,40,153,40,49\" style=\"stroke: #000000; stroke-width: 1.5;\"/><line style=\"stroke: #000000; stroke-width: 1.5;\" x1=\"40\" x2=\"71\" y1=\"71.2969\" y2=\"71.2969\"/><text fill=\"#000000\" font-family=\"sans-serif\" font-size=\"14\" font-weight=\"bold\" lengthAdjust=\"spacingAndGlyphs\" textLength=\"18\" x=\"44\" y=\"63.9951\">P2</text></a><!--MD5=[09b614a08d8cba4a07c9adeb5e0fee81]\n",
       "class E3--><a href=\"psysml:c3954339-5488-4b4b-b1b9-8dc0f4000655\" target=\"_top\" title=\"psysml:c3954339-5488-4b4b-b1b9-8dc0f4000655\" xlink:actuate=\"onRequest\" xlink:href=\"psysml:c3954339-5488-4b4b-b1b9-8dc0f4000655\" xlink:show=\"new\" xlink:title=\"psysml:c3954339-5488-4b4b-b1b9-8dc0f4000655\" xlink:type=\"simple\"><rect fill=\"#FFFFFF\" height=\"45.9375\" id=\"E3\" style=\"stroke: #383838; stroke-width: 1.5;\" width=\"70\" x=\"72\" y=\"253\"/><text fill=\"#000000\" font-family=\"sans-serif\" font-size=\"12\" font-style=\"italic\" lengthAdjust=\"spacingAndGlyphs\" textLength=\"68\" x=\"73\" y=\"269.1387\">«part  def»</text><text fill=\"#000000\" font-family=\"sans-serif\" font-size=\"12\" lengthAdjust=\"spacingAndGlyphs\" textLength=\"8\" x=\"103\" y=\"283.1074\">A</text><line style=\"stroke: #383838; stroke-width: 1.5;\" x1=\"73\" x2=\"141\" y1=\"290.9375\" y2=\"290.9375\"/></a><!--MD5=[60a26617385b1d2d0262a64233df1f8d]\n",
       "class E6--><a href=\"psysml:a72efec8-2b60-4f71-833a-33d401001ef7\" target=\"_top\" title=\"psysml:a72efec8-2b60-4f71-833a-33d401001ef7\" xlink:actuate=\"onRequest\" xlink:href=\"psysml:a72efec8-2b60-4f71-833a-33d401001ef7\" xlink:show=\"new\" xlink:title=\"psysml:a72efec8-2b60-4f71-833a-33d401001ef7\" xlink:type=\"simple\"><rect fill=\"#FFFFFF\" height=\"45.9375\" id=\"E6\" rx=\"10\" ry=\"10\" style=\"stroke: #383838; stroke-width: 1.5;\" width=\"42\" x=\"56\" y=\"87.5\"/><text fill=\"#000000\" font-family=\"sans-serif\" font-size=\"12\" font-style=\"italic\" lengthAdjust=\"spacingAndGlyphs\" textLength=\"40\" x=\"57\" y=\"103.6387\">«part»</text><text fill=\"#000000\" font-family=\"sans-serif\" font-size=\"12\" lengthAdjust=\"spacingAndGlyphs\" textLength=\"22\" x=\"64\" y=\"117.6074\">x: A</text><line style=\"stroke: #383838; stroke-width: 1.5;\" x1=\"57\" x2=\"97\" y1=\"125.4375\" y2=\"125.4375\"/></a><a href=\"psysml:18e68ffc-3c50-485f-abff-3c07b29f1978\" target=\"_top\" title=\"psysml:18e68ffc-3c50-485f-abff-3c07b29f1978\" xlink:actuate=\"onRequest\" xlink:href=\"psysml:18e68ffc-3c50-485f-abff-3c07b29f1978\" xlink:show=\"new\" xlink:title=\"psysml:18e68ffc-3c50-485f-abff-3c07b29f1978\" xlink:type=\"simple\"><polygon fill=\"#FFFFFF\" points=\"133,84,165,84,172,106.2969,179,106.2969,179,136.5938,133,136.5938,133,84\" style=\"stroke: #000000; stroke-width: 1.5;\"/><line style=\"stroke: #000000; stroke-width: 1.5;\" x1=\"133\" x2=\"172\" y1=\"106.2969\" y2=\"106.2969\"/><text fill=\"#000000\" font-family=\"sans-serif\" font-size=\"14\" font-weight=\"bold\" lengthAdjust=\"spacingAndGlyphs\" textLength=\"26\" x=\"137\" y=\"98.9951\">P2a</text></a><!--MD5=[15ebcb19ae302d9b601edb458606d402]\n",
       "link E5 to E2--><a href=\"psysml:dfd16e59-ab91-470e-8369-8533004051f7\" target=\"_top\" title=\"psysml:dfd16e59-ab91-470e-8369-8533004051f7\" xlink:actuate=\"onRequest\" xlink:href=\"psysml:dfd16e59-ab91-470e-8369-8533004051f7\" xlink:show=\"new\" xlink:title=\"psysml:dfd16e59-ab91-470e-8369-8533004051f7\" xlink:type=\"simple\"><path d=\"M159.28,137.05 C160.735,148.365 162.5469,162.4656 164.4519,177.2955 C165.4044,184.7104 166.3802,192.3076 167.3463,199.8301 C167.5878,201.7107 167.8287,203.5867 168.0685,205.4539 C168.1884,206.3876 168.308,207.319 168.4273,208.2478 C168.4869,208.7122 168.5465,209.1759 168.6059,209.6389 \" fill=\"none\" id=\"E5-&gt;E2\" style=\"stroke: #383838; stroke-width: 1.0; stroke-dasharray: 7.0,7.0;\"/><polygon fill=\"#383838\" points=\"168.6059,209.6389,171.427,200.2027,167.9691,204.6796,163.4922,201.2217,168.6059,209.6389\" style=\"stroke: #383838; stroke-width: 1.0;\"/><text fill=\"#000000\" font-family=\"sans-serif\" font-size=\"13\" lengthAdjust=\"spacingAndGlyphs\" textLength=\"65\" x=\"166\" y=\"182.0669\">«import»*</text></a><!--MD5=[a717450b82c80b9240a525fa862496af]\n",
       "link E6 to E3--><a href=\"psysml:08f34eb1-8ff4-422d-a9a6-5096bc1237f4\" target=\"_top\" title=\"psysml:08f34eb1-8ff4-422d-a9a6-5096bc1237f4\" xlink:actuate=\"onRequest\" xlink:href=\"psysml:08f34eb1-8ff4-422d-a9a6-5096bc1237f4\" xlink:show=\"new\" xlink:title=\"psysml:08f34eb1-8ff4-422d-a9a6-5096bc1237f4\" xlink:type=\"simple\"><path d=\"M81.05,133.55 C85.7,158.9 93.44,201.1 99.26,232.83 \" fill=\"none\" id=\"E6-&gt;E3\" style=\"stroke: #383838; stroke-width: 1.0;\"/><polygon fill=\"#FFFFFF\" points=\"102.92,252.78,92.6018,235.3578,106.3713,232.8278,102.92,252.78\" style=\"stroke: #383838; stroke-width: 1.0;\"/><ellipse cx=\"93.5388\" cy=\"229.3902\" fill=\"#383838\" rx=\"2\" ry=\"2\" style=\"stroke: #383838; stroke-width: 1.0;\"/><ellipse cx=\"103.3742\" cy=\"227.5831\" fill=\"#383838\" rx=\"2\" ry=\"2\" style=\"stroke: #383838; stroke-width: 1.0;\"/></a><!--MD5=[705e8c98971ec1edc9fe3c7689a1bdd1]\n",
       "@startuml\r\n",
       " skinparam monochrome true\r\n",
       "skinparam classbackgroundcolor white\r\n",
       "skinparam shadowing false\r\n",
       "skinparam wrapWidth 300\r\n",
       "hide circle\r\n",
       "\r\n",
       "package \"QualifiedNameImportTest\" as E1  [[psysml:da4cdfd0-3825-4b53-8eea-757999b665bd ]]  {\r\n",
       "package \"P1\" as E2  [[psysml:4a6c4eec-a299-4799-849a-0f6e2ae74607 ]]  {\r\n",
       "comp def \"A\" as E3  <<(T,blue) part  def>> [[psysml:c3954339-5488-4b4b-b1b9-8dc0f4000655 ]] {\r\n",
       "}\r\n",
       "}\r\n",
       "package \"P2\" as E4  [[psysml:eb8258b7-0b9d-4f0f-ab00-8538318b7623 ]]  {\r\n",
       "package \"P2a\" as E5  [[psysml:18e68ffc-3c50-485f-abff-3c07b29f1978 ]]  {\r\n",
       "}\r\n",
       "comp usage \"x: A \" as E6  <<(T,blue) part>> [[psysml:a72efec8-2b60-4f71-833a-33d401001ef7 ]] {\r\n",
       "}\r\n",
       "}\r\n",
       "}\r\n",
       "E5 ..> E2 [[psysml:dfd16e59-ab91-470e-8369-8533004051f7 ]] : <<import>>*\r\n",
       "E6 - -:|> E3 [[psysml:08f34eb1-8ff4-422d-a9a6-5096bc1237f4 ]] \r\n",
       "@enduml\r\n",
       "\n",
       "PlantUML version 1.2020.13(Sat Jun 13 12:26:38 UTC 2020)\n",
       "(EPL source distribution)\n",
       "Java Runtime: OpenJDK Runtime Environment\n",
       "JVM: OpenJDK 64-Bit Server VM\n",
       "Default Encoding: UTF-8\n",
       "Language: en\n",
       "Country: null\n",
       "--></g></svg>"
      ]
     },
     "execution_count": 8,
     "metadata": {},
     "output_type": "execute_result"
    }
   ],
   "source": [
    "%viz --style=\"COMPTREE\" --view=\"MIXED\" \"QualifiedNameImportTest\""
   ]
  },
  {
   "cell_type": "code",
   "execution_count": 9,
   "id": "95cf81a9",
   "metadata": {
    "execution": {
     "iopub.execute_input": "2022-03-21T07:52:07.054268Z",
     "iopub.status.busy": "2022-03-21T07:52:07.053784Z",
     "iopub.status.idle": "2022-03-21T07:52:07.090938Z",
     "shell.execute_reply": "2022-03-21T07:52:07.090556Z"
    }
   },
   "outputs": [
    {
     "data": {
      "image/svg+xml": [
       "<?xml version=\"1.0\" encoding=\"UTF-8\" standalone=\"no\"?><svg xmlns=\"http://www.w3.org/2000/svg\" xmlns:xlink=\"http://www.w3.org/1999/xlink\" contentScriptType=\"application/ecmascript\" contentStyleType=\"text/css\" height=\"367px\" preserveAspectRatio=\"none\" style=\"width:243px;height:367px;\" version=\"1.1\" viewBox=\"0 0 243 367\" width=\"243px\" zoomAndPan=\"magnify\"><defs/><g><!--MD5=[fbc87193dbaf4d95561dea2c320d4a47]\n",
       "cluster E1--><a href=\"psysml:da4cdfd0-3825-4b53-8eea-757999b665bd\" target=\"_top\" title=\"psysml:da4cdfd0-3825-4b53-8eea-757999b665bd\" xlink:actuate=\"onRequest\" xlink:href=\"psysml:da4cdfd0-3825-4b53-8eea-757999b665bd\" xlink:show=\"new\" xlink:title=\"psysml:da4cdfd0-3825-4b53-8eea-757999b665bd\" xlink:type=\"simple\"><polygon fill=\"#FFFFFF\" points=\"16,6,196,6,203,28.2969,219,28.2969,219,355,16,355,16,6\" style=\"stroke: #000000; stroke-width: 1.5;\"/><line style=\"stroke: #000000; stroke-width: 1.5;\" x1=\"16\" x2=\"203\" y1=\"28.2969\" y2=\"28.2969\"/><text fill=\"#000000\" font-family=\"sans-serif\" font-size=\"14\" font-weight=\"bold\" lengthAdjust=\"spacingAndGlyphs\" textLength=\"174\" x=\"20\" y=\"20.9951\">QualifiedNameImportTest</text></a><!--MD5=[e4f7fae6ed58524ba242bb0b0d3be6b7]\n",
       "cluster E2--><a href=\"psysml:4a6c4eec-a299-4799-849a-0f6e2ae74607\" target=\"_top\" title=\"psysml:4a6c4eec-a299-4799-849a-0f6e2ae74607\" xlink:actuate=\"onRequest\" xlink:href=\"psysml:4a6c4eec-a299-4799-849a-0f6e2ae74607\" xlink:show=\"new\" xlink:title=\"psysml:4a6c4eec-a299-4799-849a-0f6e2ae74607\" xlink:type=\"simple\"><polygon fill=\"#FFFFFF\" points=\"48,210,72,210,79,232.2969,185,232.2969,185,323,48,323,48,210\" style=\"stroke: #000000; stroke-width: 1.5;\"/><line style=\"stroke: #000000; stroke-width: 1.5;\" x1=\"48\" x2=\"79\" y1=\"232.2969\" y2=\"232.2969\"/><text fill=\"#000000\" font-family=\"sans-serif\" font-size=\"14\" font-weight=\"bold\" lengthAdjust=\"spacingAndGlyphs\" textLength=\"18\" x=\"52\" y=\"224.9951\">P1</text></a><!--MD5=[f6df4d0ebaf0b5dfb2ced0ae5af7c670]\n",
       "cluster E4--><a href=\"psysml:eb8258b7-0b9d-4f0f-ab00-8538318b7623\" target=\"_top\" title=\"psysml:eb8258b7-0b9d-4f0f-ab00-8538318b7623\" xlink:actuate=\"onRequest\" xlink:href=\"psysml:eb8258b7-0b9d-4f0f-ab00-8538318b7623\" xlink:show=\"new\" xlink:title=\"psysml:eb8258b7-0b9d-4f0f-ab00-8538318b7623\" xlink:type=\"simple\"><polygon fill=\"#FFFFFF\" points=\"40,49,64,49,71,71.2969,195,71.2969,195,153,40,153,40,49\" style=\"stroke: #000000; stroke-width: 1.5;\"/><line style=\"stroke: #000000; stroke-width: 1.5;\" x1=\"40\" x2=\"71\" y1=\"71.2969\" y2=\"71.2969\"/><text fill=\"#000000\" font-family=\"sans-serif\" font-size=\"14\" font-weight=\"bold\" lengthAdjust=\"spacingAndGlyphs\" textLength=\"18\" x=\"44\" y=\"63.9951\">P2</text></a><!--MD5=[09b614a08d8cba4a07c9adeb5e0fee81]\n",
       "class E3--><a href=\"psysml:c3954339-5488-4b4b-b1b9-8dc0f4000655\" target=\"_top\" title=\"psysml:c3954339-5488-4b4b-b1b9-8dc0f4000655\" xlink:actuate=\"onRequest\" xlink:href=\"psysml:c3954339-5488-4b4b-b1b9-8dc0f4000655\" xlink:show=\"new\" xlink:title=\"psysml:c3954339-5488-4b4b-b1b9-8dc0f4000655\" xlink:type=\"simple\"><rect fill=\"#FFFFFF\" height=\"45.9375\" id=\"E3\" style=\"stroke: #383838; stroke-width: 1.5;\" width=\"70\" x=\"72\" y=\"253\"/><text fill=\"#000000\" font-family=\"sans-serif\" font-size=\"12\" font-style=\"italic\" lengthAdjust=\"spacingAndGlyphs\" textLength=\"68\" x=\"73\" y=\"269.1387\">«part  def»</text><text fill=\"#000000\" font-family=\"sans-serif\" font-size=\"12\" lengthAdjust=\"spacingAndGlyphs\" textLength=\"8\" x=\"103\" y=\"283.1074\">A</text><line style=\"stroke: #383838; stroke-width: 1.5;\" x1=\"73\" x2=\"141\" y1=\"290.9375\" y2=\"290.9375\"/></a><!--MD5=[60a26617385b1d2d0262a64233df1f8d]\n",
       "class E6--><a href=\"psysml:a72efec8-2b60-4f71-833a-33d401001ef7\" target=\"_top\" title=\"psysml:a72efec8-2b60-4f71-833a-33d401001ef7\" xlink:actuate=\"onRequest\" xlink:href=\"psysml:a72efec8-2b60-4f71-833a-33d401001ef7\" xlink:show=\"new\" xlink:title=\"psysml:a72efec8-2b60-4f71-833a-33d401001ef7\" xlink:type=\"simple\"><rect fill=\"#FFFFFF\" height=\"45.9375\" id=\"E6\" rx=\"10\" ry=\"10\" style=\"stroke: #383838; stroke-width: 1.5;\" width=\"42\" x=\"56\" y=\"87.5\"/><text fill=\"#000000\" font-family=\"sans-serif\" font-size=\"12\" font-style=\"italic\" lengthAdjust=\"spacingAndGlyphs\" textLength=\"40\" x=\"57\" y=\"103.6387\">«part»</text><text fill=\"#000000\" font-family=\"sans-serif\" font-size=\"12\" lengthAdjust=\"spacingAndGlyphs\" textLength=\"22\" x=\"64\" y=\"117.6074\">x: A</text><line style=\"stroke: #383838; stroke-width: 1.5;\" x1=\"57\" x2=\"97\" y1=\"125.4375\" y2=\"125.4375\"/></a><a href=\"psysml:18e68ffc-3c50-485f-abff-3c07b29f1978\" target=\"_top\" title=\"psysml:18e68ffc-3c50-485f-abff-3c07b29f1978\" xlink:actuate=\"onRequest\" xlink:href=\"psysml:18e68ffc-3c50-485f-abff-3c07b29f1978\" xlink:show=\"new\" xlink:title=\"psysml:18e68ffc-3c50-485f-abff-3c07b29f1978\" xlink:type=\"simple\"><polygon fill=\"#FFFFFF\" points=\"133,84,165,84,172,106.2969,179,106.2969,179,136.5938,133,136.5938,133,84\" style=\"stroke: #000000; stroke-width: 1.5;\"/><line style=\"stroke: #000000; stroke-width: 1.5;\" x1=\"133\" x2=\"172\" y1=\"106.2969\" y2=\"106.2969\"/><text fill=\"#000000\" font-family=\"sans-serif\" font-size=\"14\" font-weight=\"bold\" lengthAdjust=\"spacingAndGlyphs\" textLength=\"26\" x=\"137\" y=\"98.9951\">P2a</text></a><!--MD5=[15ebcb19ae302d9b601edb458606d402]\n",
       "link E5 to E2--><a href=\"psysml:dfd16e59-ab91-470e-8369-8533004051f7\" target=\"_top\" title=\"psysml:dfd16e59-ab91-470e-8369-8533004051f7\" xlink:actuate=\"onRequest\" xlink:href=\"psysml:dfd16e59-ab91-470e-8369-8533004051f7\" xlink:show=\"new\" xlink:title=\"psysml:dfd16e59-ab91-470e-8369-8533004051f7\" xlink:type=\"simple\"><path d=\"M159.28,137.05 C160.735,148.365 162.5469,162.4656 164.4519,177.2955 C165.4044,184.7104 166.3802,192.3076 167.3463,199.8301 C167.5878,201.7107 167.8287,203.5867 168.0685,205.4539 C168.1884,206.3876 168.308,207.319 168.4273,208.2478 C168.4869,208.7122 168.5465,209.1759 168.6059,209.6389 \" fill=\"none\" id=\"E5-&gt;E2\" style=\"stroke: #383838; stroke-width: 1.0; stroke-dasharray: 7.0,7.0;\"/><polygon fill=\"#383838\" points=\"168.6059,209.6389,171.427,200.2027,167.9691,204.6796,163.4922,201.2217,168.6059,209.6389\" style=\"stroke: #383838; stroke-width: 1.0;\"/><text fill=\"#000000\" font-family=\"sans-serif\" font-size=\"13\" lengthAdjust=\"spacingAndGlyphs\" textLength=\"65\" x=\"166\" y=\"182.0669\">«import»*</text></a><!--MD5=[a717450b82c80b9240a525fa862496af]\n",
       "link E6 to E3--><a href=\"psysml:08f34eb1-8ff4-422d-a9a6-5096bc1237f4\" target=\"_top\" title=\"psysml:08f34eb1-8ff4-422d-a9a6-5096bc1237f4\" xlink:actuate=\"onRequest\" xlink:href=\"psysml:08f34eb1-8ff4-422d-a9a6-5096bc1237f4\" xlink:show=\"new\" xlink:title=\"psysml:08f34eb1-8ff4-422d-a9a6-5096bc1237f4\" xlink:type=\"simple\"><path d=\"M81.05,133.55 C85.7,158.9 93.44,201.1 99.26,232.83 \" fill=\"none\" id=\"E6-&gt;E3\" style=\"stroke: #383838; stroke-width: 1.0;\"/><polygon fill=\"#FFFFFF\" points=\"102.92,252.78,92.6018,235.3578,106.3713,232.8278,102.92,252.78\" style=\"stroke: #383838; stroke-width: 1.0;\"/><ellipse cx=\"93.5388\" cy=\"229.3902\" fill=\"#383838\" rx=\"2\" ry=\"2\" style=\"stroke: #383838; stroke-width: 1.0;\"/><ellipse cx=\"103.3742\" cy=\"227.5831\" fill=\"#383838\" rx=\"2\" ry=\"2\" style=\"stroke: #383838; stroke-width: 1.0;\"/></a><!--MD5=[876f7038ecf551d50776289d4043f72a]\n",
       "@startuml\r\n",
       "skinparam linetype polyline\r\n",
       "skinparam monochrome true\r\n",
       "skinparam classbackgroundcolor white\r\n",
       "skinparam shadowing false\r\n",
       "skinparam wrapWidth 300\r\n",
       "hide circle\r\n",
       "\r\n",
       "package \"QualifiedNameImportTest\" as E1  [[psysml:da4cdfd0-3825-4b53-8eea-757999b665bd ]]  {\r\n",
       "package \"P1\" as E2  [[psysml:4a6c4eec-a299-4799-849a-0f6e2ae74607 ]]  {\r\n",
       "comp def \"A\" as E3  <<(T,blue) part  def>> [[psysml:c3954339-5488-4b4b-b1b9-8dc0f4000655 ]] {\r\n",
       "}\r\n",
       "}\r\n",
       "package \"P2\" as E4  [[psysml:eb8258b7-0b9d-4f0f-ab00-8538318b7623 ]]  {\r\n",
       "package \"P2a\" as E5  [[psysml:18e68ffc-3c50-485f-abff-3c07b29f1978 ]]  {\r\n",
       "}\r\n",
       "comp usage \"x: A \" as E6  <<(T,blue) part>> [[psysml:a72efec8-2b60-4f71-833a-33d401001ef7 ]] {\r\n",
       "}\r\n",
       "}\r\n",
       "}\r\n",
       "E5 ..> E2 [[psysml:dfd16e59-ab91-470e-8369-8533004051f7 ]] : <<import>>*\r\n",
       "E6 - -:|> E3 [[psysml:08f34eb1-8ff4-422d-a9a6-5096bc1237f4 ]] \r\n",
       "@enduml\r\n",
       "\n",
       "PlantUML version 1.2020.13(Sat Jun 13 12:26:38 UTC 2020)\n",
       "(EPL source distribution)\n",
       "Java Runtime: OpenJDK Runtime Environment\n",
       "JVM: OpenJDK 64-Bit Server VM\n",
       "Default Encoding: UTF-8\n",
       "Language: en\n",
       "Country: null\n",
       "--></g></svg>"
      ]
     },
     "execution_count": 9,
     "metadata": {},
     "output_type": "execute_result"
    }
   ],
   "source": [
    "%viz --style=\"POLYLINE\" --view=\"Default\" \"QualifiedNameImportTest\""
   ]
  },
  {
   "cell_type": "code",
   "execution_count": 10,
   "id": "ebcc04ba",
   "metadata": {
    "execution": {
     "iopub.execute_input": "2022-03-21T07:52:07.140759Z",
     "iopub.status.busy": "2022-03-21T07:52:07.140313Z",
     "iopub.status.idle": "2022-03-21T07:52:07.180297Z",
     "shell.execute_reply": "2022-03-21T07:52:07.179938Z"
    }
   },
   "outputs": [
    {
     "data": {
      "image/svg+xml": [
       "<?xml version=\"1.0\" encoding=\"UTF-8\" standalone=\"no\"?><svg xmlns=\"http://www.w3.org/2000/svg\" xmlns:xlink=\"http://www.w3.org/1999/xlink\" contentScriptType=\"application/ecmascript\" contentStyleType=\"text/css\" height=\"367px\" preserveAspectRatio=\"none\" style=\"width:243px;height:367px;\" version=\"1.1\" viewBox=\"0 0 243 367\" width=\"243px\" zoomAndPan=\"magnify\"><defs/><g><!--MD5=[fbc87193dbaf4d95561dea2c320d4a47]\n",
       "cluster E1--><a href=\"psysml:da4cdfd0-3825-4b53-8eea-757999b665bd\" target=\"_top\" title=\"psysml:da4cdfd0-3825-4b53-8eea-757999b665bd\" xlink:actuate=\"onRequest\" xlink:href=\"psysml:da4cdfd0-3825-4b53-8eea-757999b665bd\" xlink:show=\"new\" xlink:title=\"psysml:da4cdfd0-3825-4b53-8eea-757999b665bd\" xlink:type=\"simple\"><polygon fill=\"#FFFFFF\" points=\"16,6,196,6,203,28.2969,219,28.2969,219,355,16,355,16,6\" style=\"stroke: #000000; stroke-width: 1.5;\"/><line style=\"stroke: #000000; stroke-width: 1.5;\" x1=\"16\" x2=\"203\" y1=\"28.2969\" y2=\"28.2969\"/><text fill=\"#000000\" font-family=\"sans-serif\" font-size=\"14\" font-weight=\"bold\" lengthAdjust=\"spacingAndGlyphs\" textLength=\"174\" x=\"20\" y=\"20.9951\">QualifiedNameImportTest</text></a><!--MD5=[e4f7fae6ed58524ba242bb0b0d3be6b7]\n",
       "cluster E2--><a href=\"psysml:4a6c4eec-a299-4799-849a-0f6e2ae74607\" target=\"_top\" title=\"psysml:4a6c4eec-a299-4799-849a-0f6e2ae74607\" xlink:actuate=\"onRequest\" xlink:href=\"psysml:4a6c4eec-a299-4799-849a-0f6e2ae74607\" xlink:show=\"new\" xlink:title=\"psysml:4a6c4eec-a299-4799-849a-0f6e2ae74607\" xlink:type=\"simple\"><polygon fill=\"#FFFFFF\" points=\"48,210,72,210,79,232.2969,185,232.2969,185,323,48,323,48,210\" style=\"stroke: #000000; stroke-width: 1.5;\"/><line style=\"stroke: #000000; stroke-width: 1.5;\" x1=\"48\" x2=\"79\" y1=\"232.2969\" y2=\"232.2969\"/><text fill=\"#000000\" font-family=\"sans-serif\" font-size=\"14\" font-weight=\"bold\" lengthAdjust=\"spacingAndGlyphs\" textLength=\"18\" x=\"52\" y=\"224.9951\">P1</text></a><!--MD5=[f6df4d0ebaf0b5dfb2ced0ae5af7c670]\n",
       "cluster E4--><a href=\"psysml:eb8258b7-0b9d-4f0f-ab00-8538318b7623\" target=\"_top\" title=\"psysml:eb8258b7-0b9d-4f0f-ab00-8538318b7623\" xlink:actuate=\"onRequest\" xlink:href=\"psysml:eb8258b7-0b9d-4f0f-ab00-8538318b7623\" xlink:show=\"new\" xlink:title=\"psysml:eb8258b7-0b9d-4f0f-ab00-8538318b7623\" xlink:type=\"simple\"><polygon fill=\"#FFFFFF\" points=\"40,49,64,49,71,71.2969,195,71.2969,195,153,40,153,40,49\" style=\"stroke: #000000; stroke-width: 1.5;\"/><line style=\"stroke: #000000; stroke-width: 1.5;\" x1=\"40\" x2=\"71\" y1=\"71.2969\" y2=\"71.2969\"/><text fill=\"#000000\" font-family=\"sans-serif\" font-size=\"14\" font-weight=\"bold\" lengthAdjust=\"spacingAndGlyphs\" textLength=\"18\" x=\"44\" y=\"63.9951\">P2</text></a><!--MD5=[09b614a08d8cba4a07c9adeb5e0fee81]\n",
       "class E3--><a href=\"psysml:c3954339-5488-4b4b-b1b9-8dc0f4000655\" target=\"_top\" title=\"psysml:c3954339-5488-4b4b-b1b9-8dc0f4000655\" xlink:actuate=\"onRequest\" xlink:href=\"psysml:c3954339-5488-4b4b-b1b9-8dc0f4000655\" xlink:show=\"new\" xlink:title=\"psysml:c3954339-5488-4b4b-b1b9-8dc0f4000655\" xlink:type=\"simple\"><rect fill=\"#FFFFFF\" height=\"45.9375\" id=\"E3\" style=\"stroke: #383838; stroke-width: 1.5;\" width=\"70\" x=\"72\" y=\"253\"/><text fill=\"#000000\" font-family=\"sans-serif\" font-size=\"12\" font-style=\"italic\" lengthAdjust=\"spacingAndGlyphs\" textLength=\"68\" x=\"73\" y=\"269.1387\">«part  def»</text><text fill=\"#000000\" font-family=\"sans-serif\" font-size=\"12\" lengthAdjust=\"spacingAndGlyphs\" textLength=\"8\" x=\"103\" y=\"283.1074\">A</text><line style=\"stroke: #383838; stroke-width: 1.5;\" x1=\"73\" x2=\"141\" y1=\"290.9375\" y2=\"290.9375\"/></a><!--MD5=[60a26617385b1d2d0262a64233df1f8d]\n",
       "class E6--><a href=\"psysml:a72efec8-2b60-4f71-833a-33d401001ef7\" target=\"_top\" title=\"psysml:a72efec8-2b60-4f71-833a-33d401001ef7\" xlink:actuate=\"onRequest\" xlink:href=\"psysml:a72efec8-2b60-4f71-833a-33d401001ef7\" xlink:show=\"new\" xlink:title=\"psysml:a72efec8-2b60-4f71-833a-33d401001ef7\" xlink:type=\"simple\"><rect fill=\"#FFFFFF\" height=\"45.9375\" id=\"E6\" rx=\"10\" ry=\"10\" style=\"stroke: #383838; stroke-width: 1.5;\" width=\"42\" x=\"56\" y=\"87.5\"/><text fill=\"#000000\" font-family=\"sans-serif\" font-size=\"12\" font-style=\"italic\" lengthAdjust=\"spacingAndGlyphs\" textLength=\"40\" x=\"57\" y=\"103.6387\">«part»</text><text fill=\"#000000\" font-family=\"sans-serif\" font-size=\"12\" lengthAdjust=\"spacingAndGlyphs\" textLength=\"22\" x=\"64\" y=\"117.6074\">x: A</text><line style=\"stroke: #383838; stroke-width: 1.5;\" x1=\"57\" x2=\"97\" y1=\"125.4375\" y2=\"125.4375\"/></a><a href=\"psysml:18e68ffc-3c50-485f-abff-3c07b29f1978\" target=\"_top\" title=\"psysml:18e68ffc-3c50-485f-abff-3c07b29f1978\" xlink:actuate=\"onRequest\" xlink:href=\"psysml:18e68ffc-3c50-485f-abff-3c07b29f1978\" xlink:show=\"new\" xlink:title=\"psysml:18e68ffc-3c50-485f-abff-3c07b29f1978\" xlink:type=\"simple\"><polygon fill=\"#FFFFFF\" points=\"133,84,165,84,172,106.2969,179,106.2969,179,136.5938,133,136.5938,133,84\" style=\"stroke: #000000; stroke-width: 1.5;\"/><line style=\"stroke: #000000; stroke-width: 1.5;\" x1=\"133\" x2=\"172\" y1=\"106.2969\" y2=\"106.2969\"/><text fill=\"#000000\" font-family=\"sans-serif\" font-size=\"14\" font-weight=\"bold\" lengthAdjust=\"spacingAndGlyphs\" textLength=\"26\" x=\"137\" y=\"98.9951\">P2a</text></a><!--MD5=[15ebcb19ae302d9b601edb458606d402]\n",
       "link E5 to E2--><a href=\"psysml:dfd16e59-ab91-470e-8369-8533004051f7\" target=\"_top\" title=\"psysml:dfd16e59-ab91-470e-8369-8533004051f7\" xlink:actuate=\"onRequest\" xlink:href=\"psysml:dfd16e59-ab91-470e-8369-8533004051f7\" xlink:show=\"new\" xlink:title=\"psysml:dfd16e59-ab91-470e-8369-8533004051f7\" xlink:type=\"simple\"><path d=\"M159.28,137.05 C160.735,148.365 162.5469,162.4656 164.4519,177.2955 C165.4044,184.7104 166.3802,192.3076 167.3463,199.8301 C167.5878,201.7107 167.8287,203.5867 168.0685,205.4539 C168.1884,206.3876 168.308,207.319 168.4273,208.2478 C168.4869,208.7122 168.5465,209.1759 168.6059,209.6389 \" fill=\"none\" id=\"E5-&gt;E2\" style=\"stroke: #383838; stroke-width: 1.0; stroke-dasharray: 7.0,7.0;\"/><polygon fill=\"#383838\" points=\"168.6059,209.6389,171.427,200.2027,167.9691,204.6796,163.4922,201.2217,168.6059,209.6389\" style=\"stroke: #383838; stroke-width: 1.0;\"/><text fill=\"#000000\" font-family=\"sans-serif\" font-size=\"13\" lengthAdjust=\"spacingAndGlyphs\" textLength=\"65\" x=\"166\" y=\"182.0669\">«import»*</text></a><!--MD5=[a717450b82c80b9240a525fa862496af]\n",
       "link E6 to E3--><a href=\"psysml:08f34eb1-8ff4-422d-a9a6-5096bc1237f4\" target=\"_top\" title=\"psysml:08f34eb1-8ff4-422d-a9a6-5096bc1237f4\" xlink:actuate=\"onRequest\" xlink:href=\"psysml:08f34eb1-8ff4-422d-a9a6-5096bc1237f4\" xlink:show=\"new\" xlink:title=\"psysml:08f34eb1-8ff4-422d-a9a6-5096bc1237f4\" xlink:type=\"simple\"><path d=\"M81.05,133.55 C85.7,158.9 93.44,201.1 99.26,232.83 \" fill=\"none\" id=\"E6-&gt;E3\" style=\"stroke: #383838; stroke-width: 1.0;\"/><polygon fill=\"#FFFFFF\" points=\"102.92,252.78,92.6018,235.3578,106.3713,232.8278,102.92,252.78\" style=\"stroke: #383838; stroke-width: 1.0;\"/><ellipse cx=\"93.5388\" cy=\"229.3902\" fill=\"#383838\" rx=\"2\" ry=\"2\" style=\"stroke: #383838; stroke-width: 1.0;\"/><ellipse cx=\"103.3742\" cy=\"227.5831\" fill=\"#383838\" rx=\"2\" ry=\"2\" style=\"stroke: #383838; stroke-width: 1.0;\"/></a><!--MD5=[876f7038ecf551d50776289d4043f72a]\n",
       "@startuml\r\n",
       "skinparam linetype polyline\r\n",
       "skinparam monochrome true\r\n",
       "skinparam classbackgroundcolor white\r\n",
       "skinparam shadowing false\r\n",
       "skinparam wrapWidth 300\r\n",
       "hide circle\r\n",
       "\r\n",
       "package \"QualifiedNameImportTest\" as E1  [[psysml:da4cdfd0-3825-4b53-8eea-757999b665bd ]]  {\r\n",
       "package \"P1\" as E2  [[psysml:4a6c4eec-a299-4799-849a-0f6e2ae74607 ]]  {\r\n",
       "comp def \"A\" as E3  <<(T,blue) part  def>> [[psysml:c3954339-5488-4b4b-b1b9-8dc0f4000655 ]] {\r\n",
       "}\r\n",
       "}\r\n",
       "package \"P2\" as E4  [[psysml:eb8258b7-0b9d-4f0f-ab00-8538318b7623 ]]  {\r\n",
       "package \"P2a\" as E5  [[psysml:18e68ffc-3c50-485f-abff-3c07b29f1978 ]]  {\r\n",
       "}\r\n",
       "comp usage \"x: A \" as E6  <<(T,blue) part>> [[psysml:a72efec8-2b60-4f71-833a-33d401001ef7 ]] {\r\n",
       "}\r\n",
       "}\r\n",
       "}\r\n",
       "E5 ..> E2 [[psysml:dfd16e59-ab91-470e-8369-8533004051f7 ]] : <<import>>*\r\n",
       "E6 - -:|> E3 [[psysml:08f34eb1-8ff4-422d-a9a6-5096bc1237f4 ]] \r\n",
       "@enduml\r\n",
       "\n",
       "PlantUML version 1.2020.13(Sat Jun 13 12:26:38 UTC 2020)\n",
       "(EPL source distribution)\n",
       "Java Runtime: OpenJDK Runtime Environment\n",
       "JVM: OpenJDK 64-Bit Server VM\n",
       "Default Encoding: UTF-8\n",
       "Language: en\n",
       "Country: null\n",
       "--></g></svg>"
      ]
     },
     "execution_count": 10,
     "metadata": {},
     "output_type": "execute_result"
    }
   ],
   "source": [
    "%viz --style=\"POLYLINE\" --view=\"Tree\" \"QualifiedNameImportTest\""
   ]
  },
  {
   "cell_type": "code",
   "execution_count": 11,
   "id": "cb6f296a",
   "metadata": {
    "execution": {
     "iopub.execute_input": "2022-03-21T07:52:07.230375Z",
     "iopub.status.busy": "2022-03-21T07:52:07.229844Z",
     "iopub.status.idle": "2022-03-21T07:52:07.236348Z",
     "shell.execute_reply": "2022-03-21T07:52:07.236733Z"
    }
   },
   "outputs": [
    {
     "data": {
      "image/svg+xml": [
       "<?xml version=\"1.0\" encoding=\"UTF-8\" standalone=\"no\"?><svg xmlns=\"http://www.w3.org/2000/svg\" xmlns:xlink=\"http://www.w3.org/1999/xlink\" contentScriptType=\"application/ecmascript\" contentStyleType=\"text/css\" height=\"12px\" preserveAspectRatio=\"none\" style=\"width:12px;height:12px;\" version=\"1.1\" viewBox=\"0 0 12 12\" width=\"12px\" zoomAndPan=\"magnify\"><defs/><g><!--MD5=[896ac0e7a515d8dd7765a661cb4ee08b]\n",
       "@startuml\r\n",
       "skinparam linetype polyline\r\n",
       "skinparam monochrome true\r\n",
       "skinparam classbackgroundcolor white\r\n",
       "skinparam shadowing false\r\n",
       "skinparam wrapWidth 300\r\n",
       "hide circle\r\n",
       "\r\n",
       "@enduml\r\n",
       "\n",
       "PlantUML version 1.2020.13(Sat Jun 13 12:26:38 UTC 2020)\n",
       "(EPL source distribution)\n",
       "Java Runtime: OpenJDK Runtime Environment\n",
       "JVM: OpenJDK 64-Bit Server VM\n",
       "Default Encoding: UTF-8\n",
       "Language: en\n",
       "Country: null\n",
       "--></g></svg>"
      ]
     },
     "execution_count": 11,
     "metadata": {},
     "output_type": "execute_result"
    }
   ],
   "source": [
    "%viz --style=\"POLYLINE\" --view=\"State\" \"QualifiedNameImportTest\""
   ]
  },
  {
   "cell_type": "code",
   "execution_count": 12,
   "id": "66952db8",
   "metadata": {
    "execution": {
     "iopub.execute_input": "2022-03-21T07:52:07.286865Z",
     "iopub.status.busy": "2022-03-21T07:52:07.286448Z",
     "iopub.status.idle": "2022-03-21T07:52:07.339253Z",
     "shell.execute_reply": "2022-03-21T07:52:07.338861Z"
    }
   },
   "outputs": [
    {
     "data": {
      "image/svg+xml": [
       "<?xml version=\"1.0\" encoding=\"UTF-8\" standalone=\"no\"?><svg xmlns=\"http://www.w3.org/2000/svg\" xmlns:xlink=\"http://www.w3.org/1999/xlink\" contentScriptType=\"application/ecmascript\" contentStyleType=\"text/css\" height=\"364px\" preserveAspectRatio=\"none\" style=\"width:249px;height:364px;\" version=\"1.1\" viewBox=\"0 0 249 364\" width=\"249px\" zoomAndPan=\"magnify\"><defs/><g><!--MD5=[fbc87193dbaf4d95561dea2c320d4a47]\n",
       "cluster E1--><a href=\"psysml:da4cdfd0-3825-4b53-8eea-757999b665bd\" target=\"_top\" title=\"psysml:da4cdfd0-3825-4b53-8eea-757999b665bd\" xlink:actuate=\"onRequest\" xlink:href=\"psysml:da4cdfd0-3825-4b53-8eea-757999b665bd\" xlink:show=\"new\" xlink:title=\"psysml:da4cdfd0-3825-4b53-8eea-757999b665bd\" xlink:type=\"simple\"><polygon fill=\"#FFFFFF\" points=\"16,6,196,6,203,28.2969,227,28.2969,227,352,16,352,16,6\" style=\"stroke: #000000; stroke-width: 1.5;\"/><line style=\"stroke: #000000; stroke-width: 1.5;\" x1=\"16\" x2=\"203\" y1=\"28.2969\" y2=\"28.2969\"/><text fill=\"#000000\" font-family=\"sans-serif\" font-size=\"14\" font-weight=\"bold\" lengthAdjust=\"spacingAndGlyphs\" textLength=\"174\" x=\"20\" y=\"20.9951\">QualifiedNameImportTest</text></a><!--MD5=[e4f7fae6ed58524ba242bb0b0d3be6b7]\n",
       "cluster E2--><a href=\"psysml:4a6c4eec-a299-4799-849a-0f6e2ae74607\" target=\"_top\" title=\"psysml:4a6c4eec-a299-4799-849a-0f6e2ae74607\" xlink:actuate=\"onRequest\" xlink:href=\"psysml:4a6c4eec-a299-4799-849a-0f6e2ae74607\" xlink:show=\"new\" xlink:title=\"psysml:4a6c4eec-a299-4799-849a-0f6e2ae74607\" xlink:type=\"simple\"><polygon fill=\"#FFFFFF\" points=\"53,210,77,210,84,232.2969,195,232.2969,195,320,53,320,53,210\" style=\"stroke: #000000; stroke-width: 1.5;\"/><line style=\"stroke: #000000; stroke-width: 1.5;\" x1=\"53\" x2=\"84\" y1=\"232.2969\" y2=\"232.2969\"/><text fill=\"#000000\" font-family=\"sans-serif\" font-size=\"14\" font-weight=\"bold\" lengthAdjust=\"spacingAndGlyphs\" textLength=\"18\" x=\"57\" y=\"224.9951\">P1</text></a><!--MD5=[f6df4d0ebaf0b5dfb2ced0ae5af7c670]\n",
       "cluster E4--><a href=\"psysml:eb8258b7-0b9d-4f0f-ab00-8538318b7623\" target=\"_top\" title=\"psysml:eb8258b7-0b9d-4f0f-ab00-8538318b7623\" xlink:actuate=\"onRequest\" xlink:href=\"psysml:eb8258b7-0b9d-4f0f-ab00-8538318b7623\" xlink:show=\"new\" xlink:title=\"psysml:eb8258b7-0b9d-4f0f-ab00-8538318b7623\" xlink:type=\"simple\"><polygon fill=\"#FFFFFF\" points=\"40,49,64,49,71,71.2969,203,71.2969,203,153,40,153,40,49\" style=\"stroke: #000000; stroke-width: 1.5;\"/><line style=\"stroke: #000000; stroke-width: 1.5;\" x1=\"40\" x2=\"71\" y1=\"71.2969\" y2=\"71.2969\"/><text fill=\"#000000\" font-family=\"sans-serif\" font-size=\"14\" font-weight=\"bold\" lengthAdjust=\"spacingAndGlyphs\" textLength=\"18\" x=\"44\" y=\"63.9951\">P2</text></a><g id=\"E1.E2.E3\"><a href=\"psysml:c3954339-5488-4b4b-b1b9-8dc0f4000655\" target=\"_top\" title=\"psysml:c3954339-5488-4b4b-b1b9-8dc0f4000655\" xlink:actuate=\"onRequest\" xlink:href=\"psysml:c3954339-5488-4b4b-b1b9-8dc0f4000655\" xlink:show=\"new\" xlink:title=\"psysml:c3954339-5488-4b4b-b1b9-8dc0f4000655\" xlink:type=\"simple\"><rect fill=\"#FFFFFF\" height=\"42.9375\" id=\"E3\" style=\"stroke: #383838; stroke-width: 1.5;\" width=\"75\" x=\"96.5\" y=\"253\"/><rect fill=\"#F8F8F8\" height=\"37.9375\" style=\"stroke: #383838; stroke-width: 1.5;\" width=\"75\" x=\"96.5\" y=\"253\"/><text fill=\"#000000\" font-family=\"sans-serif\" font-size=\"12\" font-style=\"italic\" lengthAdjust=\"spacingAndGlyphs\" textLength=\"68\" x=\"100\" y=\"269.1387\">«part  def»</text><text fill=\"#000000\" font-family=\"sans-serif\" font-size=\"12\" lengthAdjust=\"spacingAndGlyphs\" textLength=\"8\" x=\"130\" y=\"283.1074\">A</text></a></g><a href=\"psysml:18e68ffc-3c50-485f-abff-3c07b29f1978\" target=\"_top\" title=\"psysml:18e68ffc-3c50-485f-abff-3c07b29f1978\" xlink:actuate=\"onRequest\" xlink:href=\"psysml:18e68ffc-3c50-485f-abff-3c07b29f1978\" xlink:show=\"new\" xlink:title=\"psysml:18e68ffc-3c50-485f-abff-3c07b29f1978\" xlink:type=\"simple\"><polygon fill=\"#FFFFFF\" points=\"141,84,173,84,180,106.2969,187,106.2969,187,136.5938,141,136.5938,141,84\" style=\"stroke: #000000; stroke-width: 1.5;\"/><line style=\"stroke: #000000; stroke-width: 1.5;\" x1=\"141\" x2=\"180\" y1=\"106.2969\" y2=\"106.2969\"/><text fill=\"#000000\" font-family=\"sans-serif\" font-size=\"14\" font-weight=\"bold\" lengthAdjust=\"spacingAndGlyphs\" textLength=\"26\" x=\"145\" y=\"98.9951\">P2a</text></a><g id=\"E1.E4.E6\"><a href=\"psysml:a72efec8-2b60-4f71-833a-33d401001ef7\" target=\"_top\" title=\"psysml:a72efec8-2b60-4f71-833a-33d401001ef7\" xlink:actuate=\"onRequest\" xlink:href=\"psysml:a72efec8-2b60-4f71-833a-33d401001ef7\" xlink:show=\"new\" xlink:title=\"psysml:a72efec8-2b60-4f71-833a-33d401001ef7\" xlink:type=\"simple\"><rect fill=\"#FFFFFF\" height=\"40\" id=\"E6\" rx=\"10\" ry=\"10\" style=\"stroke: #383838; stroke-width: 1.5;\" width=\"50\" x=\"56\" y=\"90.5\"/><rect fill=\"#F8F8F8\" height=\"23.9688\" rx=\"10\" ry=\"10\" style=\"stroke: #F8F8F8; stroke-width: 1.5;\" width=\"50\" x=\"56\" y=\"90.5\"/><rect fill=\"#F8F8F8\" height=\"10\" style=\"stroke: #F8F8F8; stroke-width: 1.5;\" width=\"50\" x=\"56\" y=\"104.4688\"/><rect fill=\"none\" height=\"40\" id=\"E6\" rx=\"10\" ry=\"10\" style=\"stroke: #383838; stroke-width: 1.5;\" width=\"50\" x=\"56\" y=\"90.5\"/><text fill=\"#000000\" font-family=\"sans-serif\" font-size=\"12\" lengthAdjust=\"spacingAndGlyphs\" textLength=\"22\" x=\"70\" y=\"106.6387\">x: A</text></a></g><!--MD5=[15ebcb19ae302d9b601edb458606d402]\n",
       "link E5 to E2--><a href=\"psysml:dfd16e59-ab91-470e-8369-8533004051f7\" target=\"_top\" title=\"psysml:dfd16e59-ab91-470e-8369-8533004051f7\" xlink:actuate=\"onRequest\" xlink:href=\"psysml:dfd16e59-ab91-470e-8369-8533004051f7\" xlink:show=\"new\" xlink:title=\"psysml:dfd16e59-ab91-470e-8369-8533004051f7\" xlink:type=\"simple\"><path d=\"M143.3,137.12 C133.54,149.2 124,161 124,161 C124,161 81,194 81,194 C81,194 79.7888,198.815 77.9623,206.075 C77.734,206.9825 77.4961,207.9282 77.2498,208.9075 C77.1882,209.1523 77.1261,209.3992 77.0634,209.6482 \" fill=\"none\" id=\"E5-&gt;E2\" style=\"stroke: #383838; stroke-width: 1.0; stroke-dasharray: 7.0,7.0;\"/><polygon fill=\"#383838\" points=\"77.0634,209.6482,83.1383,201.896,78.2833,204.7993,75.3801,199.9442,77.0634,209.6482\" style=\"stroke: #383838; stroke-width: 1.0;\"/><text fill=\"#000000\" font-family=\"sans-serif\" font-size=\"13\" lengthAdjust=\"spacingAndGlyphs\" textLength=\"65\" x=\"113\" y=\"182.0669\">«import»*</text></a><!--MD5=[4196fccccf7ca44e1aa2bb6823853ebd]\n",
       "@startuml\r\n",
       "skinparam ranksep 10\r\n",
       "skinparam rectangle {\r\n",
       " backgroundColor<<block>> LightGreen\r\n",
       "}\r\n",
       "skinparam linetype polyline\r\n",
       "skinparam monochrome true\r\n",
       "skinparam classbackgroundcolor white\r\n",
       "skinparam shadowing false\r\n",
       "skinparam wrapWidth 300\r\n",
       "hide circle\r\n",
       "\r\n",
       "package \"QualifiedNameImportTest\" as E1  [[psysml:da4cdfd0-3825-4b53-8eea-757999b665bd ]]  {\r\n",
       "package \"P1\" as E2  [[psysml:4a6c4eec-a299-4799-849a-0f6e2ae74607 ]]  {\r\n",
       "rec def \"A\" as E3  <<(T,blue) part  def>> [[psysml:c3954339-5488-4b4b-b1b9-8dc0f4000655 ]] {\r\n",
       "}\r\n",
       "}\r\n",
       "package \"P2\" as E4  [[psysml:eb8258b7-0b9d-4f0f-ab00-8538318b7623 ]]  {\r\n",
       "package \"P2a\" as E5  [[psysml:18e68ffc-3c50-485f-abff-3c07b29f1978 ]]  {\r\n",
       "}\r\n",
       "rec usage \"x: A\" as E6  [[psysml:a72efec8-2b60-4f71-833a-33d401001ef7 ]] {\r\n",
       "}\r\n",
       "}\r\n",
       "}\r\n",
       "E5 ..> E2 [[psysml:dfd16e59-ab91-470e-8369-8533004051f7 ]] : <<import>>*\r\n",
       "@enduml\r\n",
       "\n",
       "PlantUML version 1.2020.13(Sat Jun 13 12:26:38 UTC 2020)\n",
       "(EPL source distribution)\n",
       "Java Runtime: OpenJDK Runtime Environment\n",
       "JVM: OpenJDK 64-Bit Server VM\n",
       "Default Encoding: UTF-8\n",
       "Language: en\n",
       "Country: null\n",
       "--></g></svg>"
      ]
     },
     "execution_count": 12,
     "metadata": {},
     "output_type": "execute_result"
    }
   ],
   "source": [
    "%viz --style=\"POLYLINE\" --view=\"Interconnection\" \"QualifiedNameImportTest\""
   ]
  },
  {
   "cell_type": "code",
   "execution_count": 13,
   "id": "12663100",
   "metadata": {
    "execution": {
     "iopub.execute_input": "2022-03-21T07:52:07.389478Z",
     "iopub.status.busy": "2022-03-21T07:52:07.389073Z",
     "iopub.status.idle": "2022-03-21T07:52:07.395063Z",
     "shell.execute_reply": "2022-03-21T07:52:07.395386Z"
    }
   },
   "outputs": [
    {
     "data": {
      "image/svg+xml": [
       "<?xml version=\"1.0\" encoding=\"UTF-8\" standalone=\"no\"?><svg xmlns=\"http://www.w3.org/2000/svg\" xmlns:xlink=\"http://www.w3.org/1999/xlink\" contentScriptType=\"application/ecmascript\" contentStyleType=\"text/css\" height=\"12px\" preserveAspectRatio=\"none\" style=\"width:12px;height:12px;\" version=\"1.1\" viewBox=\"0 0 12 12\" width=\"12px\" zoomAndPan=\"magnify\"><defs/><g><!--MD5=[97bbf32f66ccd50cbc40d92ea8f5a65e]\n",
       "@startuml\r\n",
       "skinparam ranksep 8\r\n",
       "skinparam linetype polyline\r\n",
       "skinparam monochrome true\r\n",
       "skinparam classbackgroundcolor white\r\n",
       "skinparam shadowing false\r\n",
       "skinparam wrapWidth 300\r\n",
       "hide circle\r\n",
       "\r\n",
       "@enduml\r\n",
       "\n",
       "PlantUML version 1.2020.13(Sat Jun 13 12:26:38 UTC 2020)\n",
       "(EPL source distribution)\n",
       "Java Runtime: OpenJDK Runtime Environment\n",
       "JVM: OpenJDK 64-Bit Server VM\n",
       "Default Encoding: UTF-8\n",
       "Language: en\n",
       "Country: null\n",
       "--></g></svg>"
      ]
     },
     "execution_count": 13,
     "metadata": {},
     "output_type": "execute_result"
    }
   ],
   "source": [
    "%viz --style=\"POLYLINE\" --view=\"Action\" \"QualifiedNameImportTest\""
   ]
  },
  {
   "cell_type": "code",
   "execution_count": 14,
   "id": "c172fa61",
   "metadata": {
    "execution": {
     "iopub.execute_input": "2022-03-21T07:52:07.445795Z",
     "iopub.status.busy": "2022-03-21T07:52:07.445402Z",
     "iopub.status.idle": "2022-03-21T07:52:07.451715Z",
     "shell.execute_reply": "2022-03-21T07:52:07.452025Z"
    }
   },
   "outputs": [
    {
     "data": {
      "image/svg+xml": [
       "<?xml version=\"1.0\" encoding=\"UTF-8\" standalone=\"no\"?><svg xmlns=\"http://www.w3.org/2000/svg\" xmlns:xlink=\"http://www.w3.org/1999/xlink\" contentScriptType=\"application/ecmascript\" contentStyleType=\"text/css\" height=\"12px\" preserveAspectRatio=\"none\" style=\"width:12px;height:12px;\" version=\"1.1\" viewBox=\"0 0 12 12\" width=\"12px\" zoomAndPan=\"magnify\"><defs/><g><!--MD5=[dc938048236c351797870c36b62f92ad]\n",
       "@startuml\r\n",
       "skinparam roundcorner 20\r\n",
       "skinparam BoxPadding 20\r\n",
       "skinparam SequenceBoxBackgroundColor #white\r\n",
       "skinparam style strictuml\r\n",
       "skinparam maxMessageSize 100\r\n",
       "skinparam linetype polyline\r\n",
       "skinparam monochrome true\r\n",
       "skinparam classbackgroundcolor white\r\n",
       "skinparam shadowing false\r\n",
       "skinparam wrapWidth 300\r\n",
       "hide circle\r\n",
       "\r\n",
       "@enduml\r\n",
       "\n",
       "PlantUML version 1.2020.13(Sat Jun 13 12:26:38 UTC 2020)\n",
       "(EPL source distribution)\n",
       "Java Runtime: OpenJDK Runtime Environment\n",
       "JVM: OpenJDK 64-Bit Server VM\n",
       "Default Encoding: UTF-8\n",
       "Language: en\n",
       "Country: null\n",
       "--></g></svg>"
      ]
     },
     "execution_count": 14,
     "metadata": {},
     "output_type": "execute_result"
    }
   ],
   "source": [
    "%viz --style=\"POLYLINE\" --view=\"Sequence\" \"QualifiedNameImportTest\""
   ]
  },
  {
   "cell_type": "code",
   "execution_count": 15,
   "id": "593e4371",
   "metadata": {
    "execution": {
     "iopub.execute_input": "2022-03-21T07:52:07.502451Z",
     "iopub.status.busy": "2022-03-21T07:52:07.502054Z",
     "iopub.status.idle": "2022-03-21T07:52:07.542779Z",
     "shell.execute_reply": "2022-03-21T07:52:07.543112Z"
    }
   },
   "outputs": [
    {
     "data": {
      "image/svg+xml": [
       "<?xml version=\"1.0\" encoding=\"UTF-8\" standalone=\"no\"?><svg xmlns=\"http://www.w3.org/2000/svg\" xmlns:xlink=\"http://www.w3.org/1999/xlink\" contentScriptType=\"application/ecmascript\" contentStyleType=\"text/css\" height=\"367px\" preserveAspectRatio=\"none\" style=\"width:243px;height:367px;\" version=\"1.1\" viewBox=\"0 0 243 367\" width=\"243px\" zoomAndPan=\"magnify\"><defs/><g><!--MD5=[fbc87193dbaf4d95561dea2c320d4a47]\n",
       "cluster E1--><a href=\"psysml:da4cdfd0-3825-4b53-8eea-757999b665bd\" target=\"_top\" title=\"psysml:da4cdfd0-3825-4b53-8eea-757999b665bd\" xlink:actuate=\"onRequest\" xlink:href=\"psysml:da4cdfd0-3825-4b53-8eea-757999b665bd\" xlink:show=\"new\" xlink:title=\"psysml:da4cdfd0-3825-4b53-8eea-757999b665bd\" xlink:type=\"simple\"><polygon fill=\"#FFFFFF\" points=\"16,6,196,6,203,28.2969,219,28.2969,219,355,16,355,16,6\" style=\"stroke: #000000; stroke-width: 1.5;\"/><line style=\"stroke: #000000; stroke-width: 1.5;\" x1=\"16\" x2=\"203\" y1=\"28.2969\" y2=\"28.2969\"/><text fill=\"#000000\" font-family=\"sans-serif\" font-size=\"14\" font-weight=\"bold\" lengthAdjust=\"spacingAndGlyphs\" textLength=\"174\" x=\"20\" y=\"20.9951\">QualifiedNameImportTest</text></a><!--MD5=[e4f7fae6ed58524ba242bb0b0d3be6b7]\n",
       "cluster E2--><a href=\"psysml:4a6c4eec-a299-4799-849a-0f6e2ae74607\" target=\"_top\" title=\"psysml:4a6c4eec-a299-4799-849a-0f6e2ae74607\" xlink:actuate=\"onRequest\" xlink:href=\"psysml:4a6c4eec-a299-4799-849a-0f6e2ae74607\" xlink:show=\"new\" xlink:title=\"psysml:4a6c4eec-a299-4799-849a-0f6e2ae74607\" xlink:type=\"simple\"><polygon fill=\"#FFFFFF\" points=\"48,210,72,210,79,232.2969,185,232.2969,185,323,48,323,48,210\" style=\"stroke: #000000; stroke-width: 1.5;\"/><line style=\"stroke: #000000; stroke-width: 1.5;\" x1=\"48\" x2=\"79\" y1=\"232.2969\" y2=\"232.2969\"/><text fill=\"#000000\" font-family=\"sans-serif\" font-size=\"14\" font-weight=\"bold\" lengthAdjust=\"spacingAndGlyphs\" textLength=\"18\" x=\"52\" y=\"224.9951\">P1</text></a><!--MD5=[f6df4d0ebaf0b5dfb2ced0ae5af7c670]\n",
       "cluster E4--><a href=\"psysml:eb8258b7-0b9d-4f0f-ab00-8538318b7623\" target=\"_top\" title=\"psysml:eb8258b7-0b9d-4f0f-ab00-8538318b7623\" xlink:actuate=\"onRequest\" xlink:href=\"psysml:eb8258b7-0b9d-4f0f-ab00-8538318b7623\" xlink:show=\"new\" xlink:title=\"psysml:eb8258b7-0b9d-4f0f-ab00-8538318b7623\" xlink:type=\"simple\"><polygon fill=\"#FFFFFF\" points=\"40,49,64,49,71,71.2969,195,71.2969,195,153,40,153,40,49\" style=\"stroke: #000000; stroke-width: 1.5;\"/><line style=\"stroke: #000000; stroke-width: 1.5;\" x1=\"40\" x2=\"71\" y1=\"71.2969\" y2=\"71.2969\"/><text fill=\"#000000\" font-family=\"sans-serif\" font-size=\"14\" font-weight=\"bold\" lengthAdjust=\"spacingAndGlyphs\" textLength=\"18\" x=\"44\" y=\"63.9951\">P2</text></a><!--MD5=[09b614a08d8cba4a07c9adeb5e0fee81]\n",
       "class E3--><a href=\"psysml:c3954339-5488-4b4b-b1b9-8dc0f4000655\" target=\"_top\" title=\"psysml:c3954339-5488-4b4b-b1b9-8dc0f4000655\" xlink:actuate=\"onRequest\" xlink:href=\"psysml:c3954339-5488-4b4b-b1b9-8dc0f4000655\" xlink:show=\"new\" xlink:title=\"psysml:c3954339-5488-4b4b-b1b9-8dc0f4000655\" xlink:type=\"simple\"><rect fill=\"#FFFFFF\" height=\"45.9375\" id=\"E3\" style=\"stroke: #383838; stroke-width: 1.5;\" width=\"70\" x=\"72\" y=\"253\"/><text fill=\"#000000\" font-family=\"sans-serif\" font-size=\"12\" font-style=\"italic\" lengthAdjust=\"spacingAndGlyphs\" textLength=\"68\" x=\"73\" y=\"269.1387\">«part  def»</text><text fill=\"#000000\" font-family=\"sans-serif\" font-size=\"12\" lengthAdjust=\"spacingAndGlyphs\" textLength=\"8\" x=\"103\" y=\"283.1074\">A</text><line style=\"stroke: #383838; stroke-width: 1.5;\" x1=\"73\" x2=\"141\" y1=\"290.9375\" y2=\"290.9375\"/></a><!--MD5=[60a26617385b1d2d0262a64233df1f8d]\n",
       "class E6--><a href=\"psysml:a72efec8-2b60-4f71-833a-33d401001ef7\" target=\"_top\" title=\"psysml:a72efec8-2b60-4f71-833a-33d401001ef7\" xlink:actuate=\"onRequest\" xlink:href=\"psysml:a72efec8-2b60-4f71-833a-33d401001ef7\" xlink:show=\"new\" xlink:title=\"psysml:a72efec8-2b60-4f71-833a-33d401001ef7\" xlink:type=\"simple\"><rect fill=\"#FFFFFF\" height=\"45.9375\" id=\"E6\" rx=\"10\" ry=\"10\" style=\"stroke: #383838; stroke-width: 1.5;\" width=\"42\" x=\"56\" y=\"87.5\"/><text fill=\"#000000\" font-family=\"sans-serif\" font-size=\"12\" font-style=\"italic\" lengthAdjust=\"spacingAndGlyphs\" textLength=\"40\" x=\"57\" y=\"103.6387\">«part»</text><text fill=\"#000000\" font-family=\"sans-serif\" font-size=\"12\" lengthAdjust=\"spacingAndGlyphs\" textLength=\"22\" x=\"64\" y=\"117.6074\">x: A</text><line style=\"stroke: #383838; stroke-width: 1.5;\" x1=\"57\" x2=\"97\" y1=\"125.4375\" y2=\"125.4375\"/></a><a href=\"psysml:18e68ffc-3c50-485f-abff-3c07b29f1978\" target=\"_top\" title=\"psysml:18e68ffc-3c50-485f-abff-3c07b29f1978\" xlink:actuate=\"onRequest\" xlink:href=\"psysml:18e68ffc-3c50-485f-abff-3c07b29f1978\" xlink:show=\"new\" xlink:title=\"psysml:18e68ffc-3c50-485f-abff-3c07b29f1978\" xlink:type=\"simple\"><polygon fill=\"#FFFFFF\" points=\"133,84,165,84,172,106.2969,179,106.2969,179,136.5938,133,136.5938,133,84\" style=\"stroke: #000000; stroke-width: 1.5;\"/><line style=\"stroke: #000000; stroke-width: 1.5;\" x1=\"133\" x2=\"172\" y1=\"106.2969\" y2=\"106.2969\"/><text fill=\"#000000\" font-family=\"sans-serif\" font-size=\"14\" font-weight=\"bold\" lengthAdjust=\"spacingAndGlyphs\" textLength=\"26\" x=\"137\" y=\"98.9951\">P2a</text></a><!--MD5=[15ebcb19ae302d9b601edb458606d402]\n",
       "link E5 to E2--><a href=\"psysml:dfd16e59-ab91-470e-8369-8533004051f7\" target=\"_top\" title=\"psysml:dfd16e59-ab91-470e-8369-8533004051f7\" xlink:actuate=\"onRequest\" xlink:href=\"psysml:dfd16e59-ab91-470e-8369-8533004051f7\" xlink:show=\"new\" xlink:title=\"psysml:dfd16e59-ab91-470e-8369-8533004051f7\" xlink:type=\"simple\"><path d=\"M159.28,137.05 C160.735,148.365 162.5469,162.4656 164.4519,177.2955 C165.4044,184.7104 166.3802,192.3076 167.3463,199.8301 C167.5878,201.7107 167.8287,203.5867 168.0685,205.4539 C168.1884,206.3876 168.308,207.319 168.4273,208.2478 C168.4869,208.7122 168.5465,209.1759 168.6059,209.6389 \" fill=\"none\" id=\"E5-&gt;E2\" style=\"stroke: #383838; stroke-width: 1.0; stroke-dasharray: 7.0,7.0;\"/><polygon fill=\"#383838\" points=\"168.6059,209.6389,171.427,200.2027,167.9691,204.6796,163.4922,201.2217,168.6059,209.6389\" style=\"stroke: #383838; stroke-width: 1.0;\"/><text fill=\"#000000\" font-family=\"sans-serif\" font-size=\"13\" lengthAdjust=\"spacingAndGlyphs\" textLength=\"65\" x=\"166\" y=\"182.0669\">«import»*</text></a><!--MD5=[a717450b82c80b9240a525fa862496af]\n",
       "link E6 to E3--><a href=\"psysml:08f34eb1-8ff4-422d-a9a6-5096bc1237f4\" target=\"_top\" title=\"psysml:08f34eb1-8ff4-422d-a9a6-5096bc1237f4\" xlink:actuate=\"onRequest\" xlink:href=\"psysml:08f34eb1-8ff4-422d-a9a6-5096bc1237f4\" xlink:show=\"new\" xlink:title=\"psysml:08f34eb1-8ff4-422d-a9a6-5096bc1237f4\" xlink:type=\"simple\"><path d=\"M81.05,133.55 C85.7,158.9 93.44,201.1 99.26,232.83 \" fill=\"none\" id=\"E6-&gt;E3\" style=\"stroke: #383838; stroke-width: 1.0;\"/><polygon fill=\"#FFFFFF\" points=\"102.92,252.78,92.6018,235.3578,106.3713,232.8278,102.92,252.78\" style=\"stroke: #383838; stroke-width: 1.0;\"/><ellipse cx=\"93.5388\" cy=\"229.3902\" fill=\"#383838\" rx=\"2\" ry=\"2\" style=\"stroke: #383838; stroke-width: 1.0;\"/><ellipse cx=\"103.3742\" cy=\"227.5831\" fill=\"#383838\" rx=\"2\" ry=\"2\" style=\"stroke: #383838; stroke-width: 1.0;\"/></a><!--MD5=[876f7038ecf551d50776289d4043f72a]\n",
       "@startuml\r\n",
       "skinparam linetype polyline\r\n",
       "skinparam monochrome true\r\n",
       "skinparam classbackgroundcolor white\r\n",
       "skinparam shadowing false\r\n",
       "skinparam wrapWidth 300\r\n",
       "hide circle\r\n",
       "\r\n",
       "package \"QualifiedNameImportTest\" as E1  [[psysml:da4cdfd0-3825-4b53-8eea-757999b665bd ]]  {\r\n",
       "package \"P1\" as E2  [[psysml:4a6c4eec-a299-4799-849a-0f6e2ae74607 ]]  {\r\n",
       "comp def \"A\" as E3  <<(T,blue) part  def>> [[psysml:c3954339-5488-4b4b-b1b9-8dc0f4000655 ]] {\r\n",
       "}\r\n",
       "}\r\n",
       "package \"P2\" as E4  [[psysml:eb8258b7-0b9d-4f0f-ab00-8538318b7623 ]]  {\r\n",
       "package \"P2a\" as E5  [[psysml:18e68ffc-3c50-485f-abff-3c07b29f1978 ]]  {\r\n",
       "}\r\n",
       "comp usage \"x: A \" as E6  <<(T,blue) part>> [[psysml:a72efec8-2b60-4f71-833a-33d401001ef7 ]] {\r\n",
       "}\r\n",
       "}\r\n",
       "}\r\n",
       "E5 ..> E2 [[psysml:dfd16e59-ab91-470e-8369-8533004051f7 ]] : <<import>>*\r\n",
       "E6 - -:|> E3 [[psysml:08f34eb1-8ff4-422d-a9a6-5096bc1237f4 ]] \r\n",
       "@enduml\r\n",
       "\n",
       "PlantUML version 1.2020.13(Sat Jun 13 12:26:38 UTC 2020)\n",
       "(EPL source distribution)\n",
       "Java Runtime: OpenJDK Runtime Environment\n",
       "JVM: OpenJDK 64-Bit Server VM\n",
       "Default Encoding: UTF-8\n",
       "Language: en\n",
       "Country: null\n",
       "--></g></svg>"
      ]
     },
     "execution_count": 15,
     "metadata": {},
     "output_type": "execute_result"
    }
   ],
   "source": [
    "%viz --style=\"POLYLINE\" --view=\"MIXED\" \"QualifiedNameImportTest\""
   ]
  },
  {
   "cell_type": "code",
   "execution_count": 16,
   "id": "7e42eb07",
   "metadata": {
    "execution": {
     "iopub.execute_input": "2022-03-21T07:52:07.593881Z",
     "iopub.status.busy": "2022-03-21T07:52:07.593453Z",
     "iopub.status.idle": "2022-03-21T07:52:07.629098Z",
     "shell.execute_reply": "2022-03-21T07:52:07.629391Z"
    }
   },
   "outputs": [
    {
     "data": {
      "image/svg+xml": [
       "<?xml version=\"1.0\" encoding=\"UTF-8\" standalone=\"no\"?><svg xmlns=\"http://www.w3.org/2000/svg\" xmlns:xlink=\"http://www.w3.org/1999/xlink\" contentScriptType=\"application/ecmascript\" contentStyleType=\"text/css\" height=\"271px\" preserveAspectRatio=\"none\" style=\"width:397px;height:271px;\" version=\"1.1\" viewBox=\"0 0 397 271\" width=\"397px\" zoomAndPan=\"magnify\"><defs/><g><!--MD5=[fbc87193dbaf4d95561dea2c320d4a47]\n",
       "cluster E1--><a href=\"psysml:da4cdfd0-3825-4b53-8eea-757999b665bd\" target=\"_top\" title=\"psysml:da4cdfd0-3825-4b53-8eea-757999b665bd\" xlink:actuate=\"onRequest\" xlink:href=\"psysml:da4cdfd0-3825-4b53-8eea-757999b665bd\" xlink:show=\"new\" xlink:title=\"psysml:da4cdfd0-3825-4b53-8eea-757999b665bd\" xlink:type=\"simple\"><polygon fill=\"#FFFFFF\" points=\"16,6,196,6,203,28.2969,375,28.2969,375,259,16,259,16,6\" style=\"stroke: #000000; stroke-width: 1.5;\"/><line style=\"stroke: #000000; stroke-width: 1.5;\" x1=\"16\" x2=\"203\" y1=\"28.2969\" y2=\"28.2969\"/><text fill=\"#000000\" font-family=\"sans-serif\" font-size=\"14\" font-weight=\"bold\" lengthAdjust=\"spacingAndGlyphs\" textLength=\"174\" x=\"20\" y=\"20.9951\">QualifiedNameImportTest</text></a><!--MD5=[e4f7fae6ed58524ba242bb0b0d3be6b7]\n",
       "cluster E2--><a href=\"psysml:4a6c4eec-a299-4799-849a-0f6e2ae74607\" target=\"_top\" title=\"psysml:4a6c4eec-a299-4799-849a-0f6e2ae74607\" xlink:actuate=\"onRequest\" xlink:href=\"psysml:4a6c4eec-a299-4799-849a-0f6e2ae74607\" xlink:show=\"new\" xlink:title=\"psysml:4a6c4eec-a299-4799-849a-0f6e2ae74607\" xlink:type=\"simple\"><polygon fill=\"#FFFFFF\" points=\"225,90,249,90,256,112.2969,343,112.2969,343,222,225,222,225,90\" style=\"stroke: #000000; stroke-width: 1.5;\"/><line style=\"stroke: #000000; stroke-width: 1.5;\" x1=\"225\" x2=\"256\" y1=\"112.2969\" y2=\"112.2969\"/><text fill=\"#000000\" font-family=\"sans-serif\" font-size=\"14\" font-weight=\"bold\" lengthAdjust=\"spacingAndGlyphs\" textLength=\"18\" x=\"229\" y=\"104.9951\">P1</text></a><!--MD5=[f6df4d0ebaf0b5dfb2ced0ae5af7c670]\n",
       "cluster E4--><a href=\"psysml:eb8258b7-0b9d-4f0f-ab00-8538318b7623\" target=\"_top\" title=\"psysml:eb8258b7-0b9d-4f0f-ab00-8538318b7623\" xlink:actuate=\"onRequest\" xlink:href=\"psysml:eb8258b7-0b9d-4f0f-ab00-8538318b7623\" xlink:show=\"new\" xlink:title=\"psysml:eb8258b7-0b9d-4f0f-ab00-8538318b7623\" xlink:type=\"simple\"><polygon fill=\"#FFFFFF\" points=\"40,49,64,49,71,71.2969,118,71.2969,118,235,40,235,40,49\" style=\"stroke: #000000; stroke-width: 1.5;\"/><line style=\"stroke: #000000; stroke-width: 1.5;\" x1=\"40\" x2=\"71\" y1=\"71.2969\" y2=\"71.2969\"/><text fill=\"#000000\" font-family=\"sans-serif\" font-size=\"14\" font-weight=\"bold\" lengthAdjust=\"spacingAndGlyphs\" textLength=\"18\" x=\"44\" y=\"63.9951\">P2</text></a><!--MD5=[09b614a08d8cba4a07c9adeb5e0fee81]\n",
       "class E3--><a href=\"psysml:c3954339-5488-4b4b-b1b9-8dc0f4000655\" target=\"_top\" title=\"psysml:c3954339-5488-4b4b-b1b9-8dc0f4000655\" xlink:actuate=\"onRequest\" xlink:href=\"psysml:c3954339-5488-4b4b-b1b9-8dc0f4000655\" xlink:show=\"new\" xlink:title=\"psysml:c3954339-5488-4b4b-b1b9-8dc0f4000655\" xlink:type=\"simple\"><rect fill=\"#FFFFFF\" height=\"45.9375\" id=\"E3\" style=\"stroke: #383838; stroke-width: 1.5;\" width=\"70\" x=\"249\" y=\"152\"/><text fill=\"#000000\" font-family=\"sans-serif\" font-size=\"12\" font-style=\"italic\" lengthAdjust=\"spacingAndGlyphs\" textLength=\"68\" x=\"250\" y=\"168.1387\">«part  def»</text><text fill=\"#000000\" font-family=\"sans-serif\" font-size=\"12\" lengthAdjust=\"spacingAndGlyphs\" textLength=\"8\" x=\"280\" y=\"182.1074\">A</text><line style=\"stroke: #383838; stroke-width: 1.5;\" x1=\"250\" x2=\"318\" y1=\"189.9375\" y2=\"189.9375\"/></a><!--MD5=[60a26617385b1d2d0262a64233df1f8d]\n",
       "class E6--><a href=\"psysml:a72efec8-2b60-4f71-833a-33d401001ef7\" target=\"_top\" title=\"psysml:a72efec8-2b60-4f71-833a-33d401001ef7\" xlink:actuate=\"onRequest\" xlink:href=\"psysml:a72efec8-2b60-4f71-833a-33d401001ef7\" xlink:show=\"new\" xlink:title=\"psysml:a72efec8-2b60-4f71-833a-33d401001ef7\" xlink:type=\"simple\"><rect fill=\"#FFFFFF\" height=\"45.9375\" id=\"E6\" rx=\"10\" ry=\"10\" style=\"stroke: #383838; stroke-width: 1.5;\" width=\"42\" x=\"58\" y=\"173\"/><text fill=\"#000000\" font-family=\"sans-serif\" font-size=\"12\" font-style=\"italic\" lengthAdjust=\"spacingAndGlyphs\" textLength=\"40\" x=\"59\" y=\"189.1387\">«part»</text><text fill=\"#000000\" font-family=\"sans-serif\" font-size=\"12\" lengthAdjust=\"spacingAndGlyphs\" textLength=\"22\" x=\"66\" y=\"203.1074\">x: A</text><line style=\"stroke: #383838; stroke-width: 1.5;\" x1=\"59\" x2=\"99\" y1=\"210.9375\" y2=\"210.9375\"/></a><a href=\"psysml:18e68ffc-3c50-485f-abff-3c07b29f1978\" target=\"_top\" title=\"psysml:18e68ffc-3c50-485f-abff-3c07b29f1978\" xlink:actuate=\"onRequest\" xlink:href=\"psysml:18e68ffc-3c50-485f-abff-3c07b29f1978\" xlink:show=\"new\" xlink:title=\"psysml:18e68ffc-3c50-485f-abff-3c07b29f1978\" xlink:type=\"simple\"><polygon fill=\"#FFFFFF\" points=\"56,84.5,88,84.5,95,106.7969,102,106.7969,102,137.0938,56,137.0938,56,84.5\" style=\"stroke: #000000; stroke-width: 1.5;\"/><line style=\"stroke: #000000; stroke-width: 1.5;\" x1=\"56\" x2=\"95\" y1=\"106.7969\" y2=\"106.7969\"/><text fill=\"#000000\" font-family=\"sans-serif\" font-size=\"14\" font-weight=\"bold\" lengthAdjust=\"spacingAndGlyphs\" textLength=\"26\" x=\"60\" y=\"99.4951\">P2a</text></a><!--MD5=[15ebcb19ae302d9b601edb458606d402]\n",
       "link E5 to E2--><a href=\"psysml:dfd16e59-ab91-470e-8369-8533004051f7\" target=\"_top\" title=\"psysml:dfd16e59-ab91-470e-8369-8533004051f7\" xlink:actuate=\"onRequest\" xlink:href=\"psysml:dfd16e59-ab91-470e-8369-8533004051f7\" xlink:show=\"new\" xlink:title=\"psysml:dfd16e59-ab91-470e-8369-8533004051f7\" xlink:type=\"simple\"><path d=\"M102.11,111.65 C128.005,112.415 172.23,113.7225 210.4688,114.8538 C215.2486,114.9952 219.9349,115.1338 224.4802,115.2683 \" fill=\"none\" id=\"E5-&gt;E2\" style=\"stroke: #383838; stroke-width: 1.0; stroke-dasharray: 7.0,7.0;\"/><polygon fill=\"#383838\" points=\"224.4802,115.2683,215.6024,111.0039,219.4824,115.1204,215.3658,119.0004,224.4802,115.2683\" style=\"stroke: #383838; stroke-width: 1.0;\"/><text fill=\"#000000\" font-family=\"sans-serif\" font-size=\"13\" lengthAdjust=\"spacingAndGlyphs\" textLength=\"65\" x=\"135\" y=\"109.0669\">«import»*</text></a><!--MD5=[a717450b82c80b9240a525fa862496af]\n",
       "link E6 to E3--><a href=\"psysml:08f34eb1-8ff4-422d-a9a6-5096bc1237f4\" target=\"_top\" title=\"psysml:08f34eb1-8ff4-422d-a9a6-5096bc1237f4\" xlink:actuate=\"onRequest\" xlink:href=\"psysml:08f34eb1-8ff4-422d-a9a6-5096bc1237f4\" xlink:show=\"new\" xlink:title=\"psysml:08f34eb1-8ff4-422d-a9a6-5096bc1237f4\" xlink:type=\"simple\"><path d=\"M100.21,193.91 C129.89,190.84 186.34,185 228.7,180.62 \" fill=\"none\" id=\"E6-&gt;E3\" style=\"stroke: #383838; stroke-width: 1.0;\"/><polygon fill=\"#FFFFFF\" points=\"248.76,178.54,230.5811,187.4579,229.1406,173.5322,248.76,178.54\" style=\"stroke: #383838; stroke-width: 1.0;\"/><ellipse cx=\"224.7056\" cy=\"186.0551\" fill=\"#383838\" rx=\"2\" ry=\"2\" style=\"stroke: #383838; stroke-width: 1.0;\"/><ellipse cx=\"223.6766\" cy=\"176.1082\" fill=\"#383838\" rx=\"2\" ry=\"2\" style=\"stroke: #383838; stroke-width: 1.0;\"/></a><!--MD5=[0de1ba82a4f0a2957da5bb73a53c772d]\n",
       "@startuml\r\n",
       "left to right direction\r\n",
       "skinparam monochrome true\r\n",
       "skinparam classbackgroundcolor white\r\n",
       "skinparam shadowing false\r\n",
       "skinparam wrapWidth 300\r\n",
       "hide circle\r\n",
       "\r\n",
       "package \"QualifiedNameImportTest\" as E1  [[psysml:da4cdfd0-3825-4b53-8eea-757999b665bd ]]  {\r\n",
       "package \"P1\" as E2  [[psysml:4a6c4eec-a299-4799-849a-0f6e2ae74607 ]]  {\r\n",
       "comp def \"A\" as E3  <<(T,blue) part  def>> [[psysml:c3954339-5488-4b4b-b1b9-8dc0f4000655 ]] {\r\n",
       "}\r\n",
       "}\r\n",
       "package \"P2\" as E4  [[psysml:eb8258b7-0b9d-4f0f-ab00-8538318b7623 ]]  {\r\n",
       "package \"P2a\" as E5  [[psysml:18e68ffc-3c50-485f-abff-3c07b29f1978 ]]  {\r\n",
       "}\r\n",
       "comp usage \"x: A \" as E6  <<(T,blue) part>> [[psysml:a72efec8-2b60-4f71-833a-33d401001ef7 ]] {\r\n",
       "}\r\n",
       "}\r\n",
       "}\r\n",
       "E5 ..> E2 [[psysml:dfd16e59-ab91-470e-8369-8533004051f7 ]] : <<import>>*\r\n",
       "E6 - -:|> E3 [[psysml:08f34eb1-8ff4-422d-a9a6-5096bc1237f4 ]] \r\n",
       "@enduml\r\n",
       "\n",
       "PlantUML version 1.2020.13(Sat Jun 13 12:26:38 UTC 2020)\n",
       "(EPL source distribution)\n",
       "Java Runtime: OpenJDK Runtime Environment\n",
       "JVM: OpenJDK 64-Bit Server VM\n",
       "Default Encoding: UTF-8\n",
       "Language: en\n",
       "Country: null\n",
       "--></g></svg>"
      ]
     },
     "execution_count": 16,
     "metadata": {},
     "output_type": "execute_result"
    }
   ],
   "source": [
    "%viz --style=\"LR\" --view=\"Default\" \"QualifiedNameImportTest\""
   ]
  },
  {
   "cell_type": "code",
   "execution_count": 17,
   "id": "d4ce0cfa",
   "metadata": {
    "execution": {
     "iopub.execute_input": "2022-03-21T07:52:07.679397Z",
     "iopub.status.busy": "2022-03-21T07:52:07.679003Z",
     "iopub.status.idle": "2022-03-21T07:52:07.721865Z",
     "shell.execute_reply": "2022-03-21T07:52:07.722180Z"
    }
   },
   "outputs": [
    {
     "data": {
      "image/svg+xml": [
       "<?xml version=\"1.0\" encoding=\"UTF-8\" standalone=\"no\"?><svg xmlns=\"http://www.w3.org/2000/svg\" xmlns:xlink=\"http://www.w3.org/1999/xlink\" contentScriptType=\"application/ecmascript\" contentStyleType=\"text/css\" height=\"271px\" preserveAspectRatio=\"none\" style=\"width:397px;height:271px;\" version=\"1.1\" viewBox=\"0 0 397 271\" width=\"397px\" zoomAndPan=\"magnify\"><defs/><g><!--MD5=[fbc87193dbaf4d95561dea2c320d4a47]\n",
       "cluster E1--><a href=\"psysml:da4cdfd0-3825-4b53-8eea-757999b665bd\" target=\"_top\" title=\"psysml:da4cdfd0-3825-4b53-8eea-757999b665bd\" xlink:actuate=\"onRequest\" xlink:href=\"psysml:da4cdfd0-3825-4b53-8eea-757999b665bd\" xlink:show=\"new\" xlink:title=\"psysml:da4cdfd0-3825-4b53-8eea-757999b665bd\" xlink:type=\"simple\"><polygon fill=\"#FFFFFF\" points=\"16,6,196,6,203,28.2969,375,28.2969,375,259,16,259,16,6\" style=\"stroke: #000000; stroke-width: 1.5;\"/><line style=\"stroke: #000000; stroke-width: 1.5;\" x1=\"16\" x2=\"203\" y1=\"28.2969\" y2=\"28.2969\"/><text fill=\"#000000\" font-family=\"sans-serif\" font-size=\"14\" font-weight=\"bold\" lengthAdjust=\"spacingAndGlyphs\" textLength=\"174\" x=\"20\" y=\"20.9951\">QualifiedNameImportTest</text></a><!--MD5=[e4f7fae6ed58524ba242bb0b0d3be6b7]\n",
       "cluster E2--><a href=\"psysml:4a6c4eec-a299-4799-849a-0f6e2ae74607\" target=\"_top\" title=\"psysml:4a6c4eec-a299-4799-849a-0f6e2ae74607\" xlink:actuate=\"onRequest\" xlink:href=\"psysml:4a6c4eec-a299-4799-849a-0f6e2ae74607\" xlink:show=\"new\" xlink:title=\"psysml:4a6c4eec-a299-4799-849a-0f6e2ae74607\" xlink:type=\"simple\"><polygon fill=\"#FFFFFF\" points=\"225,90,249,90,256,112.2969,343,112.2969,343,222,225,222,225,90\" style=\"stroke: #000000; stroke-width: 1.5;\"/><line style=\"stroke: #000000; stroke-width: 1.5;\" x1=\"225\" x2=\"256\" y1=\"112.2969\" y2=\"112.2969\"/><text fill=\"#000000\" font-family=\"sans-serif\" font-size=\"14\" font-weight=\"bold\" lengthAdjust=\"spacingAndGlyphs\" textLength=\"18\" x=\"229\" y=\"104.9951\">P1</text></a><!--MD5=[f6df4d0ebaf0b5dfb2ced0ae5af7c670]\n",
       "cluster E4--><a href=\"psysml:eb8258b7-0b9d-4f0f-ab00-8538318b7623\" target=\"_top\" title=\"psysml:eb8258b7-0b9d-4f0f-ab00-8538318b7623\" xlink:actuate=\"onRequest\" xlink:href=\"psysml:eb8258b7-0b9d-4f0f-ab00-8538318b7623\" xlink:show=\"new\" xlink:title=\"psysml:eb8258b7-0b9d-4f0f-ab00-8538318b7623\" xlink:type=\"simple\"><polygon fill=\"#FFFFFF\" points=\"40,49,64,49,71,71.2969,118,71.2969,118,235,40,235,40,49\" style=\"stroke: #000000; stroke-width: 1.5;\"/><line style=\"stroke: #000000; stroke-width: 1.5;\" x1=\"40\" x2=\"71\" y1=\"71.2969\" y2=\"71.2969\"/><text fill=\"#000000\" font-family=\"sans-serif\" font-size=\"14\" font-weight=\"bold\" lengthAdjust=\"spacingAndGlyphs\" textLength=\"18\" x=\"44\" y=\"63.9951\">P2</text></a><!--MD5=[09b614a08d8cba4a07c9adeb5e0fee81]\n",
       "class E3--><a href=\"psysml:c3954339-5488-4b4b-b1b9-8dc0f4000655\" target=\"_top\" title=\"psysml:c3954339-5488-4b4b-b1b9-8dc0f4000655\" xlink:actuate=\"onRequest\" xlink:href=\"psysml:c3954339-5488-4b4b-b1b9-8dc0f4000655\" xlink:show=\"new\" xlink:title=\"psysml:c3954339-5488-4b4b-b1b9-8dc0f4000655\" xlink:type=\"simple\"><rect fill=\"#FFFFFF\" height=\"45.9375\" id=\"E3\" style=\"stroke: #383838; stroke-width: 1.5;\" width=\"70\" x=\"249\" y=\"152\"/><text fill=\"#000000\" font-family=\"sans-serif\" font-size=\"12\" font-style=\"italic\" lengthAdjust=\"spacingAndGlyphs\" textLength=\"68\" x=\"250\" y=\"168.1387\">«part  def»</text><text fill=\"#000000\" font-family=\"sans-serif\" font-size=\"12\" lengthAdjust=\"spacingAndGlyphs\" textLength=\"8\" x=\"280\" y=\"182.1074\">A</text><line style=\"stroke: #383838; stroke-width: 1.5;\" x1=\"250\" x2=\"318\" y1=\"189.9375\" y2=\"189.9375\"/></a><!--MD5=[60a26617385b1d2d0262a64233df1f8d]\n",
       "class E6--><a href=\"psysml:a72efec8-2b60-4f71-833a-33d401001ef7\" target=\"_top\" title=\"psysml:a72efec8-2b60-4f71-833a-33d401001ef7\" xlink:actuate=\"onRequest\" xlink:href=\"psysml:a72efec8-2b60-4f71-833a-33d401001ef7\" xlink:show=\"new\" xlink:title=\"psysml:a72efec8-2b60-4f71-833a-33d401001ef7\" xlink:type=\"simple\"><rect fill=\"#FFFFFF\" height=\"45.9375\" id=\"E6\" rx=\"10\" ry=\"10\" style=\"stroke: #383838; stroke-width: 1.5;\" width=\"42\" x=\"58\" y=\"173\"/><text fill=\"#000000\" font-family=\"sans-serif\" font-size=\"12\" font-style=\"italic\" lengthAdjust=\"spacingAndGlyphs\" textLength=\"40\" x=\"59\" y=\"189.1387\">«part»</text><text fill=\"#000000\" font-family=\"sans-serif\" font-size=\"12\" lengthAdjust=\"spacingAndGlyphs\" textLength=\"22\" x=\"66\" y=\"203.1074\">x: A</text><line style=\"stroke: #383838; stroke-width: 1.5;\" x1=\"59\" x2=\"99\" y1=\"210.9375\" y2=\"210.9375\"/></a><a href=\"psysml:18e68ffc-3c50-485f-abff-3c07b29f1978\" target=\"_top\" title=\"psysml:18e68ffc-3c50-485f-abff-3c07b29f1978\" xlink:actuate=\"onRequest\" xlink:href=\"psysml:18e68ffc-3c50-485f-abff-3c07b29f1978\" xlink:show=\"new\" xlink:title=\"psysml:18e68ffc-3c50-485f-abff-3c07b29f1978\" xlink:type=\"simple\"><polygon fill=\"#FFFFFF\" points=\"56,84.5,88,84.5,95,106.7969,102,106.7969,102,137.0938,56,137.0938,56,84.5\" style=\"stroke: #000000; stroke-width: 1.5;\"/><line style=\"stroke: #000000; stroke-width: 1.5;\" x1=\"56\" x2=\"95\" y1=\"106.7969\" y2=\"106.7969\"/><text fill=\"#000000\" font-family=\"sans-serif\" font-size=\"14\" font-weight=\"bold\" lengthAdjust=\"spacingAndGlyphs\" textLength=\"26\" x=\"60\" y=\"99.4951\">P2a</text></a><!--MD5=[15ebcb19ae302d9b601edb458606d402]\n",
       "link E5 to E2--><a href=\"psysml:dfd16e59-ab91-470e-8369-8533004051f7\" target=\"_top\" title=\"psysml:dfd16e59-ab91-470e-8369-8533004051f7\" xlink:actuate=\"onRequest\" xlink:href=\"psysml:dfd16e59-ab91-470e-8369-8533004051f7\" xlink:show=\"new\" xlink:title=\"psysml:dfd16e59-ab91-470e-8369-8533004051f7\" xlink:type=\"simple\"><path d=\"M102.11,111.65 C128.005,112.415 172.23,113.7225 210.4688,114.8538 C215.2486,114.9952 219.9349,115.1338 224.4802,115.2683 \" fill=\"none\" id=\"E5-&gt;E2\" style=\"stroke: #383838; stroke-width: 1.0; stroke-dasharray: 7.0,7.0;\"/><polygon fill=\"#383838\" points=\"224.4802,115.2683,215.6024,111.0039,219.4824,115.1204,215.3658,119.0004,224.4802,115.2683\" style=\"stroke: #383838; stroke-width: 1.0;\"/><text fill=\"#000000\" font-family=\"sans-serif\" font-size=\"13\" lengthAdjust=\"spacingAndGlyphs\" textLength=\"65\" x=\"135\" y=\"109.0669\">«import»*</text></a><!--MD5=[a717450b82c80b9240a525fa862496af]\n",
       "link E6 to E3--><a href=\"psysml:08f34eb1-8ff4-422d-a9a6-5096bc1237f4\" target=\"_top\" title=\"psysml:08f34eb1-8ff4-422d-a9a6-5096bc1237f4\" xlink:actuate=\"onRequest\" xlink:href=\"psysml:08f34eb1-8ff4-422d-a9a6-5096bc1237f4\" xlink:show=\"new\" xlink:title=\"psysml:08f34eb1-8ff4-422d-a9a6-5096bc1237f4\" xlink:type=\"simple\"><path d=\"M100.21,193.91 C129.89,190.84 186.34,185 228.7,180.62 \" fill=\"none\" id=\"E6-&gt;E3\" style=\"stroke: #383838; stroke-width: 1.0;\"/><polygon fill=\"#FFFFFF\" points=\"248.76,178.54,230.5811,187.4579,229.1406,173.5322,248.76,178.54\" style=\"stroke: #383838; stroke-width: 1.0;\"/><ellipse cx=\"224.7056\" cy=\"186.0551\" fill=\"#383838\" rx=\"2\" ry=\"2\" style=\"stroke: #383838; stroke-width: 1.0;\"/><ellipse cx=\"223.6766\" cy=\"176.1082\" fill=\"#383838\" rx=\"2\" ry=\"2\" style=\"stroke: #383838; stroke-width: 1.0;\"/></a><!--MD5=[0de1ba82a4f0a2957da5bb73a53c772d]\n",
       "@startuml\r\n",
       "left to right direction\r\n",
       "skinparam monochrome true\r\n",
       "skinparam classbackgroundcolor white\r\n",
       "skinparam shadowing false\r\n",
       "skinparam wrapWidth 300\r\n",
       "hide circle\r\n",
       "\r\n",
       "package \"QualifiedNameImportTest\" as E1  [[psysml:da4cdfd0-3825-4b53-8eea-757999b665bd ]]  {\r\n",
       "package \"P1\" as E2  [[psysml:4a6c4eec-a299-4799-849a-0f6e2ae74607 ]]  {\r\n",
       "comp def \"A\" as E3  <<(T,blue) part  def>> [[psysml:c3954339-5488-4b4b-b1b9-8dc0f4000655 ]] {\r\n",
       "}\r\n",
       "}\r\n",
       "package \"P2\" as E4  [[psysml:eb8258b7-0b9d-4f0f-ab00-8538318b7623 ]]  {\r\n",
       "package \"P2a\" as E5  [[psysml:18e68ffc-3c50-485f-abff-3c07b29f1978 ]]  {\r\n",
       "}\r\n",
       "comp usage \"x: A \" as E6  <<(T,blue) part>> [[psysml:a72efec8-2b60-4f71-833a-33d401001ef7 ]] {\r\n",
       "}\r\n",
       "}\r\n",
       "}\r\n",
       "E5 ..> E2 [[psysml:dfd16e59-ab91-470e-8369-8533004051f7 ]] : <<import>>*\r\n",
       "E6 - -:|> E3 [[psysml:08f34eb1-8ff4-422d-a9a6-5096bc1237f4 ]] \r\n",
       "@enduml\r\n",
       "\n",
       "PlantUML version 1.2020.13(Sat Jun 13 12:26:38 UTC 2020)\n",
       "(EPL source distribution)\n",
       "Java Runtime: OpenJDK Runtime Environment\n",
       "JVM: OpenJDK 64-Bit Server VM\n",
       "Default Encoding: UTF-8\n",
       "Language: en\n",
       "Country: null\n",
       "--></g></svg>"
      ]
     },
     "execution_count": 17,
     "metadata": {},
     "output_type": "execute_result"
    }
   ],
   "source": [
    "%viz --style=\"LR\" --view=\"Tree\" \"QualifiedNameImportTest\""
   ]
  },
  {
   "cell_type": "code",
   "execution_count": 18,
   "id": "25da08a5",
   "metadata": {
    "execution": {
     "iopub.execute_input": "2022-03-21T07:52:07.772078Z",
     "iopub.status.busy": "2022-03-21T07:52:07.771676Z",
     "iopub.status.idle": "2022-03-21T07:52:07.778019Z",
     "shell.execute_reply": "2022-03-21T07:52:07.778332Z"
    }
   },
   "outputs": [
    {
     "data": {
      "image/svg+xml": [
       "<?xml version=\"1.0\" encoding=\"UTF-8\" standalone=\"no\"?><svg xmlns=\"http://www.w3.org/2000/svg\" xmlns:xlink=\"http://www.w3.org/1999/xlink\" contentScriptType=\"application/ecmascript\" contentStyleType=\"text/css\" height=\"12px\" preserveAspectRatio=\"none\" style=\"width:12px;height:12px;\" version=\"1.1\" viewBox=\"0 0 12 12\" width=\"12px\" zoomAndPan=\"magnify\"><defs/><g><!--MD5=[19d285c9d72a204eba4e2cd117d745e8]\n",
       "@startuml\r\n",
       "left to right direction\r\n",
       "skinparam monochrome true\r\n",
       "skinparam classbackgroundcolor white\r\n",
       "skinparam shadowing false\r\n",
       "skinparam wrapWidth 300\r\n",
       "hide circle\r\n",
       "\r\n",
       "@enduml\r\n",
       "\n",
       "PlantUML version 1.2020.13(Sat Jun 13 12:26:38 UTC 2020)\n",
       "(EPL source distribution)\n",
       "Java Runtime: OpenJDK Runtime Environment\n",
       "JVM: OpenJDK 64-Bit Server VM\n",
       "Default Encoding: UTF-8\n",
       "Language: en\n",
       "Country: null\n",
       "--></g></svg>"
      ]
     },
     "execution_count": 18,
     "metadata": {},
     "output_type": "execute_result"
    }
   ],
   "source": [
    "%viz --style=\"LR\" --view=\"State\" \"QualifiedNameImportTest\""
   ]
  },
  {
   "cell_type": "code",
   "execution_count": 19,
   "id": "3df35c31",
   "metadata": {
    "execution": {
     "iopub.execute_input": "2022-03-21T07:52:07.828659Z",
     "iopub.status.busy": "2022-03-21T07:52:07.828261Z",
     "iopub.status.idle": "2022-03-21T07:52:07.861121Z",
     "shell.execute_reply": "2022-03-21T07:52:07.861370Z"
    }
   },
   "outputs": [
    {
     "data": {
      "image/svg+xml": [
       "<?xml version=\"1.0\" encoding=\"UTF-8\" standalone=\"no\"?><svg xmlns=\"http://www.w3.org/2000/svg\" xmlns:xlink=\"http://www.w3.org/1999/xlink\" contentScriptType=\"application/ecmascript\" contentStyleType=\"text/css\" height=\"265px\" preserveAspectRatio=\"none\" style=\"width:406px;height:265px;\" version=\"1.1\" viewBox=\"0 0 406 265\" width=\"406px\" zoomAndPan=\"magnify\"><defs/><g><!--MD5=[fbc87193dbaf4d95561dea2c320d4a47]\n",
       "cluster E1--><a href=\"psysml:da4cdfd0-3825-4b53-8eea-757999b665bd\" target=\"_top\" title=\"psysml:da4cdfd0-3825-4b53-8eea-757999b665bd\" xlink:actuate=\"onRequest\" xlink:href=\"psysml:da4cdfd0-3825-4b53-8eea-757999b665bd\" xlink:show=\"new\" xlink:title=\"psysml:da4cdfd0-3825-4b53-8eea-757999b665bd\" xlink:type=\"simple\"><polygon fill=\"#FFFFFF\" points=\"16,6,196,6,203,28.2969,384,28.2969,384,253,16,253,16,6\" style=\"stroke: #000000; stroke-width: 1.5;\"/><line style=\"stroke: #000000; stroke-width: 1.5;\" x1=\"16\" x2=\"203\" y1=\"28.2969\" y2=\"28.2969\"/><text fill=\"#000000\" font-family=\"sans-serif\" font-size=\"14\" font-weight=\"bold\" lengthAdjust=\"spacingAndGlyphs\" textLength=\"174\" x=\"20\" y=\"20.9951\">QualifiedNameImportTest</text></a><!--MD5=[e4f7fae6ed58524ba242bb0b0d3be6b7]\n",
       "cluster E2--><a href=\"psysml:4a6c4eec-a299-4799-849a-0f6e2ae74607\" target=\"_top\" title=\"psysml:4a6c4eec-a299-4799-849a-0f6e2ae74607\" xlink:actuate=\"onRequest\" xlink:href=\"psysml:4a6c4eec-a299-4799-849a-0f6e2ae74607\" xlink:show=\"new\" xlink:title=\"psysml:4a6c4eec-a299-4799-849a-0f6e2ae74607\" xlink:type=\"simple\"><polygon fill=\"#FFFFFF\" points=\"229,57,253,57,260,79.2969,352,79.2969,352,187,229,187,229,57\" style=\"stroke: #000000; stroke-width: 1.5;\"/><line style=\"stroke: #000000; stroke-width: 1.5;\" x1=\"229\" x2=\"260\" y1=\"79.2969\" y2=\"79.2969\"/><text fill=\"#000000\" font-family=\"sans-serif\" font-size=\"14\" font-weight=\"bold\" lengthAdjust=\"spacingAndGlyphs\" textLength=\"18\" x=\"233\" y=\"71.9951\">P1</text></a><!--MD5=[f6df4d0ebaf0b5dfb2ced0ae5af7c670]\n",
       "cluster E4--><a href=\"psysml:eb8258b7-0b9d-4f0f-ab00-8538318b7623\" target=\"_top\" title=\"psysml:eb8258b7-0b9d-4f0f-ab00-8538318b7623\" xlink:actuate=\"onRequest\" xlink:href=\"psysml:eb8258b7-0b9d-4f0f-ab00-8538318b7623\" xlink:show=\"new\" xlink:title=\"psysml:eb8258b7-0b9d-4f0f-ab00-8538318b7623\" xlink:type=\"simple\"><polygon fill=\"#FFFFFF\" points=\"40,49,64,49,71,71.2969,122,71.2969,122,229,40,229,40,49\" style=\"stroke: #000000; stroke-width: 1.5;\"/><line style=\"stroke: #000000; stroke-width: 1.5;\" x1=\"40\" x2=\"71\" y1=\"71.2969\" y2=\"71.2969\"/><text fill=\"#000000\" font-family=\"sans-serif\" font-size=\"14\" font-weight=\"bold\" lengthAdjust=\"spacingAndGlyphs\" textLength=\"18\" x=\"44\" y=\"63.9951\">P2</text></a><g id=\"E1.E2.E3\"><a href=\"psysml:c3954339-5488-4b4b-b1b9-8dc0f4000655\" target=\"_top\" title=\"psysml:c3954339-5488-4b4b-b1b9-8dc0f4000655\" xlink:actuate=\"onRequest\" xlink:href=\"psysml:c3954339-5488-4b4b-b1b9-8dc0f4000655\" xlink:show=\"new\" xlink:title=\"psysml:c3954339-5488-4b4b-b1b9-8dc0f4000655\" xlink:type=\"simple\"><rect fill=\"#FFFFFF\" height=\"42.9375\" id=\"E3\" style=\"stroke: #383838; stroke-width: 1.5;\" width=\"75\" x=\"253\" y=\"100.5\"/><rect fill=\"#F8F8F8\" height=\"37.9375\" style=\"stroke: #383838; stroke-width: 1.5;\" width=\"75\" x=\"253\" y=\"100.5\"/><text fill=\"#000000\" font-family=\"sans-serif\" font-size=\"12\" font-style=\"italic\" lengthAdjust=\"spacingAndGlyphs\" textLength=\"68\" x=\"256.5\" y=\"116.6387\">«part  def»</text><text fill=\"#000000\" font-family=\"sans-serif\" font-size=\"12\" lengthAdjust=\"spacingAndGlyphs\" textLength=\"8\" x=\"286.5\" y=\"130.6074\">A</text></a></g><a href=\"psysml:18e68ffc-3c50-485f-abff-3c07b29f1978\" target=\"_top\" title=\"psysml:18e68ffc-3c50-485f-abff-3c07b29f1978\" xlink:actuate=\"onRequest\" xlink:href=\"psysml:18e68ffc-3c50-485f-abff-3c07b29f1978\" xlink:show=\"new\" xlink:title=\"psysml:18e68ffc-3c50-485f-abff-3c07b29f1978\" xlink:type=\"simple\"><polygon fill=\"#FFFFFF\" points=\"58,84.5,90,84.5,97,106.7969,104,106.7969,104,137.0938,58,137.0938,58,84.5\" style=\"stroke: #000000; stroke-width: 1.5;\"/><line style=\"stroke: #000000; stroke-width: 1.5;\" x1=\"58\" x2=\"97\" y1=\"106.7969\" y2=\"106.7969\"/><text fill=\"#000000\" font-family=\"sans-serif\" font-size=\"14\" font-weight=\"bold\" lengthAdjust=\"spacingAndGlyphs\" textLength=\"26\" x=\"62\" y=\"99.4951\">P2a</text></a><g id=\"E1.E4.E6\"><a href=\"psysml:a72efec8-2b60-4f71-833a-33d401001ef7\" target=\"_top\" title=\"psysml:a72efec8-2b60-4f71-833a-33d401001ef7\" xlink:actuate=\"onRequest\" xlink:href=\"psysml:a72efec8-2b60-4f71-833a-33d401001ef7\" xlink:show=\"new\" xlink:title=\"psysml:a72efec8-2b60-4f71-833a-33d401001ef7\" xlink:type=\"simple\"><rect fill=\"#FFFFFF\" height=\"40\" id=\"E6\" rx=\"10\" ry=\"10\" style=\"stroke: #383838; stroke-width: 1.5;\" width=\"50\" x=\"56\" y=\"173\"/><rect fill=\"#F8F8F8\" height=\"23.9688\" rx=\"10\" ry=\"10\" style=\"stroke: #F8F8F8; stroke-width: 1.5;\" width=\"50\" x=\"56\" y=\"173\"/><rect fill=\"#F8F8F8\" height=\"10\" style=\"stroke: #F8F8F8; stroke-width: 1.5;\" width=\"50\" x=\"56\" y=\"186.9688\"/><rect fill=\"none\" height=\"40\" id=\"E6\" rx=\"10\" ry=\"10\" style=\"stroke: #383838; stroke-width: 1.5;\" width=\"50\" x=\"56\" y=\"173\"/><text fill=\"#000000\" font-family=\"sans-serif\" font-size=\"12\" lengthAdjust=\"spacingAndGlyphs\" textLength=\"22\" x=\"70\" y=\"189.1387\">x: A</text></a></g><!--MD5=[15ebcb19ae302d9b601edb458606d402]\n",
       "link E5 to E2--><a href=\"psysml:dfd16e59-ab91-470e-8369-8533004051f7\" target=\"_top\" title=\"psysml:dfd16e59-ab91-470e-8369-8533004051f7\" xlink:actuate=\"onRequest\" xlink:href=\"psysml:dfd16e59-ab91-470e-8369-8533004051f7\" xlink:show=\"new\" xlink:title=\"psysml:dfd16e59-ab91-470e-8369-8533004051f7\" xlink:type=\"simple\"><path d=\"M104.45,120.29 C130.32,130.8 174.27,147.99 213,160 C217.0525,161.2563 221.2453,162.4869 225.485,163.6796 C226.545,163.9778 227.6078,164.2737 228.6722,164.5669 \" fill=\"none\" id=\"E5-&gt;E2\" style=\"stroke: #383838; stroke-width: 1.0; stroke-dasharray: 7.0,7.0;\"/><polygon fill=\"#383838\" points=\"228.6722,164.5669,221.0581,158.3199,223.8518,163.2387,218.933,166.0324,228.6722,164.5669\" style=\"stroke: #383838; stroke-width: 1.0;\"/><text fill=\"#000000\" font-family=\"sans-serif\" font-size=\"13\" lengthAdjust=\"spacingAndGlyphs\" textLength=\"65\" x=\"139\" y=\"131.0669\">«import»*</text></a><!--MD5=[a154ae72f7518fb30b76715915b9b7dd]\n",
       "@startuml\r\n",
       "skinparam ranksep 10\r\n",
       "skinparam rectangle {\r\n",
       " backgroundColor<<block>> LightGreen\r\n",
       "}\r\n",
       "left to right direction\r\n",
       "skinparam monochrome true\r\n",
       "skinparam classbackgroundcolor white\r\n",
       "skinparam shadowing false\r\n",
       "skinparam wrapWidth 300\r\n",
       "hide circle\r\n",
       "\r\n",
       "package \"QualifiedNameImportTest\" as E1  [[psysml:da4cdfd0-3825-4b53-8eea-757999b665bd ]]  {\r\n",
       "package \"P1\" as E2  [[psysml:4a6c4eec-a299-4799-849a-0f6e2ae74607 ]]  {\r\n",
       "rec def \"A\" as E3  <<(T,blue) part  def>> [[psysml:c3954339-5488-4b4b-b1b9-8dc0f4000655 ]] {\r\n",
       "}\r\n",
       "}\r\n",
       "package \"P2\" as E4  [[psysml:eb8258b7-0b9d-4f0f-ab00-8538318b7623 ]]  {\r\n",
       "package \"P2a\" as E5  [[psysml:18e68ffc-3c50-485f-abff-3c07b29f1978 ]]  {\r\n",
       "}\r\n",
       "rec usage \"x: A\" as E6  [[psysml:a72efec8-2b60-4f71-833a-33d401001ef7 ]] {\r\n",
       "}\r\n",
       "}\r\n",
       "}\r\n",
       "E5 ..> E2 [[psysml:dfd16e59-ab91-470e-8369-8533004051f7 ]] : <<import>>*\r\n",
       "@enduml\r\n",
       "\n",
       "PlantUML version 1.2020.13(Sat Jun 13 12:26:38 UTC 2020)\n",
       "(EPL source distribution)\n",
       "Java Runtime: OpenJDK Runtime Environment\n",
       "JVM: OpenJDK 64-Bit Server VM\n",
       "Default Encoding: UTF-8\n",
       "Language: en\n",
       "Country: null\n",
       "--></g></svg>"
      ]
     },
     "execution_count": 19,
     "metadata": {},
     "output_type": "execute_result"
    }
   ],
   "source": [
    "%viz --style=\"LR\" --view=\"Interconnection\" \"QualifiedNameImportTest\""
   ]
  },
  {
   "cell_type": "code",
   "execution_count": 20,
   "id": "d0e271cc",
   "metadata": {
    "execution": {
     "iopub.execute_input": "2022-03-21T07:52:07.911807Z",
     "iopub.status.busy": "2022-03-21T07:52:07.911406Z",
     "iopub.status.idle": "2022-03-21T07:52:07.918185Z",
     "shell.execute_reply": "2022-03-21T07:52:07.918496Z"
    }
   },
   "outputs": [
    {
     "data": {
      "image/svg+xml": [
       "<?xml version=\"1.0\" encoding=\"UTF-8\" standalone=\"no\"?><svg xmlns=\"http://www.w3.org/2000/svg\" xmlns:xlink=\"http://www.w3.org/1999/xlink\" contentScriptType=\"application/ecmascript\" contentStyleType=\"text/css\" height=\"12px\" preserveAspectRatio=\"none\" style=\"width:12px;height:12px;\" version=\"1.1\" viewBox=\"0 0 12 12\" width=\"12px\" zoomAndPan=\"magnify\"><defs/><g><!--MD5=[7aeb398939421629f6affaa4a1a7b125]\n",
       "@startuml\r\n",
       "skinparam ranksep 8\r\n",
       "left to right direction\r\n",
       "skinparam monochrome true\r\n",
       "skinparam classbackgroundcolor white\r\n",
       "skinparam shadowing false\r\n",
       "skinparam wrapWidth 300\r\n",
       "hide circle\r\n",
       "\r\n",
       "@enduml\r\n",
       "\n",
       "PlantUML version 1.2020.13(Sat Jun 13 12:26:38 UTC 2020)\n",
       "(EPL source distribution)\n",
       "Java Runtime: OpenJDK Runtime Environment\n",
       "JVM: OpenJDK 64-Bit Server VM\n",
       "Default Encoding: UTF-8\n",
       "Language: en\n",
       "Country: null\n",
       "--></g></svg>"
      ]
     },
     "execution_count": 20,
     "metadata": {},
     "output_type": "execute_result"
    }
   ],
   "source": [
    "%viz --style=\"LR\" --view=\"Action\" \"QualifiedNameImportTest\""
   ]
  },
  {
   "cell_type": "code",
   "execution_count": 21,
   "id": "a496e98c",
   "metadata": {
    "execution": {
     "iopub.execute_input": "2022-03-21T07:52:07.968804Z",
     "iopub.status.busy": "2022-03-21T07:52:07.968405Z",
     "iopub.status.idle": "2022-03-21T07:52:07.974171Z",
     "shell.execute_reply": "2022-03-21T07:52:07.974491Z"
    }
   },
   "outputs": [
    {
     "data": {
      "image/svg+xml": [
       "<?xml version=\"1.0\" encoding=\"UTF-8\" standalone=\"no\"?><svg xmlns=\"http://www.w3.org/2000/svg\" xmlns:xlink=\"http://www.w3.org/1999/xlink\" contentScriptType=\"application/ecmascript\" contentStyleType=\"text/css\" height=\"12px\" preserveAspectRatio=\"none\" style=\"width:12px;height:12px;\" version=\"1.1\" viewBox=\"0 0 12 12\" width=\"12px\" zoomAndPan=\"magnify\"><defs/><g><!--MD5=[238c11ea2002f03115ad6b49a457d50e]\n",
       "@startuml\r\n",
       "skinparam roundcorner 20\r\n",
       "skinparam BoxPadding 20\r\n",
       "skinparam SequenceBoxBackgroundColor #white\r\n",
       "skinparam style strictuml\r\n",
       "skinparam maxMessageSize 100\r\n",
       "left to right direction\r\n",
       "skinparam monochrome true\r\n",
       "skinparam classbackgroundcolor white\r\n",
       "skinparam shadowing false\r\n",
       "skinparam wrapWidth 300\r\n",
       "hide circle\r\n",
       "\r\n",
       "@enduml\r\n",
       "\n",
       "PlantUML version 1.2020.13(Sat Jun 13 12:26:38 UTC 2020)\n",
       "(EPL source distribution)\n",
       "Java Runtime: OpenJDK Runtime Environment\n",
       "JVM: OpenJDK 64-Bit Server VM\n",
       "Default Encoding: UTF-8\n",
       "Language: en\n",
       "Country: null\n",
       "--></g></svg>"
      ]
     },
     "execution_count": 21,
     "metadata": {},
     "output_type": "execute_result"
    }
   ],
   "source": [
    "%viz --style=\"LR\" --view=\"Sequence\" \"QualifiedNameImportTest\""
   ]
  },
  {
   "cell_type": "code",
   "execution_count": 22,
   "id": "b458d6ea",
   "metadata": {
    "execution": {
     "iopub.execute_input": "2022-03-21T07:52:08.024873Z",
     "iopub.status.busy": "2022-03-21T07:52:08.024455Z",
     "iopub.status.idle": "2022-03-21T07:52:08.051483Z",
     "shell.execute_reply": "2022-03-21T07:52:08.051118Z"
    }
   },
   "outputs": [
    {
     "data": {
      "image/svg+xml": [
       "<?xml version=\"1.0\" encoding=\"UTF-8\" standalone=\"no\"?><svg xmlns=\"http://www.w3.org/2000/svg\" xmlns:xlink=\"http://www.w3.org/1999/xlink\" contentScriptType=\"application/ecmascript\" contentStyleType=\"text/css\" height=\"271px\" preserveAspectRatio=\"none\" style=\"width:397px;height:271px;\" version=\"1.1\" viewBox=\"0 0 397 271\" width=\"397px\" zoomAndPan=\"magnify\"><defs/><g><!--MD5=[fbc87193dbaf4d95561dea2c320d4a47]\n",
       "cluster E1--><a href=\"psysml:da4cdfd0-3825-4b53-8eea-757999b665bd\" target=\"_top\" title=\"psysml:da4cdfd0-3825-4b53-8eea-757999b665bd\" xlink:actuate=\"onRequest\" xlink:href=\"psysml:da4cdfd0-3825-4b53-8eea-757999b665bd\" xlink:show=\"new\" xlink:title=\"psysml:da4cdfd0-3825-4b53-8eea-757999b665bd\" xlink:type=\"simple\"><polygon fill=\"#FFFFFF\" points=\"16,6,196,6,203,28.2969,375,28.2969,375,259,16,259,16,6\" style=\"stroke: #000000; stroke-width: 1.5;\"/><line style=\"stroke: #000000; stroke-width: 1.5;\" x1=\"16\" x2=\"203\" y1=\"28.2969\" y2=\"28.2969\"/><text fill=\"#000000\" font-family=\"sans-serif\" font-size=\"14\" font-weight=\"bold\" lengthAdjust=\"spacingAndGlyphs\" textLength=\"174\" x=\"20\" y=\"20.9951\">QualifiedNameImportTest</text></a><!--MD5=[e4f7fae6ed58524ba242bb0b0d3be6b7]\n",
       "cluster E2--><a href=\"psysml:4a6c4eec-a299-4799-849a-0f6e2ae74607\" target=\"_top\" title=\"psysml:4a6c4eec-a299-4799-849a-0f6e2ae74607\" xlink:actuate=\"onRequest\" xlink:href=\"psysml:4a6c4eec-a299-4799-849a-0f6e2ae74607\" xlink:show=\"new\" xlink:title=\"psysml:4a6c4eec-a299-4799-849a-0f6e2ae74607\" xlink:type=\"simple\"><polygon fill=\"#FFFFFF\" points=\"225,90,249,90,256,112.2969,343,112.2969,343,222,225,222,225,90\" style=\"stroke: #000000; stroke-width: 1.5;\"/><line style=\"stroke: #000000; stroke-width: 1.5;\" x1=\"225\" x2=\"256\" y1=\"112.2969\" y2=\"112.2969\"/><text fill=\"#000000\" font-family=\"sans-serif\" font-size=\"14\" font-weight=\"bold\" lengthAdjust=\"spacingAndGlyphs\" textLength=\"18\" x=\"229\" y=\"104.9951\">P1</text></a><!--MD5=[f6df4d0ebaf0b5dfb2ced0ae5af7c670]\n",
       "cluster E4--><a href=\"psysml:eb8258b7-0b9d-4f0f-ab00-8538318b7623\" target=\"_top\" title=\"psysml:eb8258b7-0b9d-4f0f-ab00-8538318b7623\" xlink:actuate=\"onRequest\" xlink:href=\"psysml:eb8258b7-0b9d-4f0f-ab00-8538318b7623\" xlink:show=\"new\" xlink:title=\"psysml:eb8258b7-0b9d-4f0f-ab00-8538318b7623\" xlink:type=\"simple\"><polygon fill=\"#FFFFFF\" points=\"40,49,64,49,71,71.2969,118,71.2969,118,235,40,235,40,49\" style=\"stroke: #000000; stroke-width: 1.5;\"/><line style=\"stroke: #000000; stroke-width: 1.5;\" x1=\"40\" x2=\"71\" y1=\"71.2969\" y2=\"71.2969\"/><text fill=\"#000000\" font-family=\"sans-serif\" font-size=\"14\" font-weight=\"bold\" lengthAdjust=\"spacingAndGlyphs\" textLength=\"18\" x=\"44\" y=\"63.9951\">P2</text></a><!--MD5=[09b614a08d8cba4a07c9adeb5e0fee81]\n",
       "class E3--><a href=\"psysml:c3954339-5488-4b4b-b1b9-8dc0f4000655\" target=\"_top\" title=\"psysml:c3954339-5488-4b4b-b1b9-8dc0f4000655\" xlink:actuate=\"onRequest\" xlink:href=\"psysml:c3954339-5488-4b4b-b1b9-8dc0f4000655\" xlink:show=\"new\" xlink:title=\"psysml:c3954339-5488-4b4b-b1b9-8dc0f4000655\" xlink:type=\"simple\"><rect fill=\"#FFFFFF\" height=\"45.9375\" id=\"E3\" style=\"stroke: #383838; stroke-width: 1.5;\" width=\"70\" x=\"249\" y=\"152\"/><text fill=\"#000000\" font-family=\"sans-serif\" font-size=\"12\" font-style=\"italic\" lengthAdjust=\"spacingAndGlyphs\" textLength=\"68\" x=\"250\" y=\"168.1387\">«part  def»</text><text fill=\"#000000\" font-family=\"sans-serif\" font-size=\"12\" lengthAdjust=\"spacingAndGlyphs\" textLength=\"8\" x=\"280\" y=\"182.1074\">A</text><line style=\"stroke: #383838; stroke-width: 1.5;\" x1=\"250\" x2=\"318\" y1=\"189.9375\" y2=\"189.9375\"/></a><!--MD5=[60a26617385b1d2d0262a64233df1f8d]\n",
       "class E6--><a href=\"psysml:a72efec8-2b60-4f71-833a-33d401001ef7\" target=\"_top\" title=\"psysml:a72efec8-2b60-4f71-833a-33d401001ef7\" xlink:actuate=\"onRequest\" xlink:href=\"psysml:a72efec8-2b60-4f71-833a-33d401001ef7\" xlink:show=\"new\" xlink:title=\"psysml:a72efec8-2b60-4f71-833a-33d401001ef7\" xlink:type=\"simple\"><rect fill=\"#FFFFFF\" height=\"45.9375\" id=\"E6\" rx=\"10\" ry=\"10\" style=\"stroke: #383838; stroke-width: 1.5;\" width=\"42\" x=\"58\" y=\"173\"/><text fill=\"#000000\" font-family=\"sans-serif\" font-size=\"12\" font-style=\"italic\" lengthAdjust=\"spacingAndGlyphs\" textLength=\"40\" x=\"59\" y=\"189.1387\">«part»</text><text fill=\"#000000\" font-family=\"sans-serif\" font-size=\"12\" lengthAdjust=\"spacingAndGlyphs\" textLength=\"22\" x=\"66\" y=\"203.1074\">x: A</text><line style=\"stroke: #383838; stroke-width: 1.5;\" x1=\"59\" x2=\"99\" y1=\"210.9375\" y2=\"210.9375\"/></a><a href=\"psysml:18e68ffc-3c50-485f-abff-3c07b29f1978\" target=\"_top\" title=\"psysml:18e68ffc-3c50-485f-abff-3c07b29f1978\" xlink:actuate=\"onRequest\" xlink:href=\"psysml:18e68ffc-3c50-485f-abff-3c07b29f1978\" xlink:show=\"new\" xlink:title=\"psysml:18e68ffc-3c50-485f-abff-3c07b29f1978\" xlink:type=\"simple\"><polygon fill=\"#FFFFFF\" points=\"56,84.5,88,84.5,95,106.7969,102,106.7969,102,137.0938,56,137.0938,56,84.5\" style=\"stroke: #000000; stroke-width: 1.5;\"/><line style=\"stroke: #000000; stroke-width: 1.5;\" x1=\"56\" x2=\"95\" y1=\"106.7969\" y2=\"106.7969\"/><text fill=\"#000000\" font-family=\"sans-serif\" font-size=\"14\" font-weight=\"bold\" lengthAdjust=\"spacingAndGlyphs\" textLength=\"26\" x=\"60\" y=\"99.4951\">P2a</text></a><!--MD5=[15ebcb19ae302d9b601edb458606d402]\n",
       "link E5 to E2--><a href=\"psysml:dfd16e59-ab91-470e-8369-8533004051f7\" target=\"_top\" title=\"psysml:dfd16e59-ab91-470e-8369-8533004051f7\" xlink:actuate=\"onRequest\" xlink:href=\"psysml:dfd16e59-ab91-470e-8369-8533004051f7\" xlink:show=\"new\" xlink:title=\"psysml:dfd16e59-ab91-470e-8369-8533004051f7\" xlink:type=\"simple\"><path d=\"M102.11,111.65 C128.005,112.415 172.23,113.7225 210.4688,114.8538 C215.2486,114.9952 219.9349,115.1338 224.4802,115.2683 \" fill=\"none\" id=\"E5-&gt;E2\" style=\"stroke: #383838; stroke-width: 1.0; stroke-dasharray: 7.0,7.0;\"/><polygon fill=\"#383838\" points=\"224.4802,115.2683,215.6024,111.0039,219.4824,115.1204,215.3658,119.0004,224.4802,115.2683\" style=\"stroke: #383838; stroke-width: 1.0;\"/><text fill=\"#000000\" font-family=\"sans-serif\" font-size=\"13\" lengthAdjust=\"spacingAndGlyphs\" textLength=\"65\" x=\"135\" y=\"109.0669\">«import»*</text></a><!--MD5=[a717450b82c80b9240a525fa862496af]\n",
       "link E6 to E3--><a href=\"psysml:08f34eb1-8ff4-422d-a9a6-5096bc1237f4\" target=\"_top\" title=\"psysml:08f34eb1-8ff4-422d-a9a6-5096bc1237f4\" xlink:actuate=\"onRequest\" xlink:href=\"psysml:08f34eb1-8ff4-422d-a9a6-5096bc1237f4\" xlink:show=\"new\" xlink:title=\"psysml:08f34eb1-8ff4-422d-a9a6-5096bc1237f4\" xlink:type=\"simple\"><path d=\"M100.21,193.91 C129.89,190.84 186.34,185 228.7,180.62 \" fill=\"none\" id=\"E6-&gt;E3\" style=\"stroke: #383838; stroke-width: 1.0;\"/><polygon fill=\"#FFFFFF\" points=\"248.76,178.54,230.5811,187.4579,229.1406,173.5322,248.76,178.54\" style=\"stroke: #383838; stroke-width: 1.0;\"/><ellipse cx=\"224.7056\" cy=\"186.0551\" fill=\"#383838\" rx=\"2\" ry=\"2\" style=\"stroke: #383838; stroke-width: 1.0;\"/><ellipse cx=\"223.6766\" cy=\"176.1082\" fill=\"#383838\" rx=\"2\" ry=\"2\" style=\"stroke: #383838; stroke-width: 1.0;\"/></a><!--MD5=[0de1ba82a4f0a2957da5bb73a53c772d]\n",
       "@startuml\r\n",
       "left to right direction\r\n",
       "skinparam monochrome true\r\n",
       "skinparam classbackgroundcolor white\r\n",
       "skinparam shadowing false\r\n",
       "skinparam wrapWidth 300\r\n",
       "hide circle\r\n",
       "\r\n",
       "package \"QualifiedNameImportTest\" as E1  [[psysml:da4cdfd0-3825-4b53-8eea-757999b665bd ]]  {\r\n",
       "package \"P1\" as E2  [[psysml:4a6c4eec-a299-4799-849a-0f6e2ae74607 ]]  {\r\n",
       "comp def \"A\" as E3  <<(T,blue) part  def>> [[psysml:c3954339-5488-4b4b-b1b9-8dc0f4000655 ]] {\r\n",
       "}\r\n",
       "}\r\n",
       "package \"P2\" as E4  [[psysml:eb8258b7-0b9d-4f0f-ab00-8538318b7623 ]]  {\r\n",
       "package \"P2a\" as E5  [[psysml:18e68ffc-3c50-485f-abff-3c07b29f1978 ]]  {\r\n",
       "}\r\n",
       "comp usage \"x: A \" as E6  <<(T,blue) part>> [[psysml:a72efec8-2b60-4f71-833a-33d401001ef7 ]] {\r\n",
       "}\r\n",
       "}\r\n",
       "}\r\n",
       "E5 ..> E2 [[psysml:dfd16e59-ab91-470e-8369-8533004051f7 ]] : <<import>>*\r\n",
       "E6 - -:|> E3 [[psysml:08f34eb1-8ff4-422d-a9a6-5096bc1237f4 ]] \r\n",
       "@enduml\r\n",
       "\n",
       "PlantUML version 1.2020.13(Sat Jun 13 12:26:38 UTC 2020)\n",
       "(EPL source distribution)\n",
       "Java Runtime: OpenJDK Runtime Environment\n",
       "JVM: OpenJDK 64-Bit Server VM\n",
       "Default Encoding: UTF-8\n",
       "Language: en\n",
       "Country: null\n",
       "--></g></svg>"
      ]
     },
     "execution_count": 22,
     "metadata": {},
     "output_type": "execute_result"
    }
   ],
   "source": [
    "%viz --style=\"LR\" --view=\"MIXED\" \"QualifiedNameImportTest\""
   ]
  },
  {
   "cell_type": "code",
   "execution_count": 23,
   "id": "aba002e5",
   "metadata": {
    "execution": {
     "iopub.execute_input": "2022-03-21T07:52:08.101061Z",
     "iopub.status.busy": "2022-03-21T07:52:08.100658Z",
     "iopub.status.idle": "2022-03-21T07:52:08.123288Z",
     "shell.execute_reply": "2022-03-21T07:52:08.122905Z"
    }
   },
   "outputs": [
    {
     "data": {
      "image/svg+xml": [
       "<?xml version=\"1.0\" encoding=\"UTF-8\" standalone=\"no\"?><svg xmlns=\"http://www.w3.org/2000/svg\" xmlns:xlink=\"http://www.w3.org/1999/xlink\" contentScriptType=\"application/ecmascript\" contentStyleType=\"text/css\" height=\"367px\" preserveAspectRatio=\"none\" style=\"width:243px;height:367px;\" version=\"1.1\" viewBox=\"0 0 243 367\" width=\"243px\" zoomAndPan=\"magnify\"><defs><filter height=\"300%\" id=\"f1peew8rae266h\" width=\"300%\" x=\"-1\" y=\"-1\"><feGaussianBlur result=\"blurOut\" stdDeviation=\"2.0\"/><feColorMatrix in=\"blurOut\" result=\"blurOut2\" type=\"matrix\" values=\"0 0 0 0 0 0 0 0 0 0 0 0 0 0 0 0 0 0 .4 0\"/><feOffset dx=\"4.0\" dy=\"4.0\" in=\"blurOut2\" result=\"blurOut3\"/><feBlend in=\"SourceGraphic\" in2=\"blurOut3\" mode=\"normal\"/></filter></defs><g><!--MD5=[fbc87193dbaf4d95561dea2c320d4a47]\n",
       "cluster E1--><a href=\"psysml:da4cdfd0-3825-4b53-8eea-757999b665bd\" target=\"_top\" title=\"psysml:da4cdfd0-3825-4b53-8eea-757999b665bd\" xlink:actuate=\"onRequest\" xlink:href=\"psysml:da4cdfd0-3825-4b53-8eea-757999b665bd\" xlink:show=\"new\" xlink:title=\"psysml:da4cdfd0-3825-4b53-8eea-757999b665bd\" xlink:type=\"simple\"><polygon fill=\"#FFFFFF\" filter=\"url(#f1peew8rae266h)\" points=\"16,6,196,6,203,28.2969,219,28.2969,219,355,16,355,16,6\" style=\"stroke: #000000; stroke-width: 1.5;\"/><line style=\"stroke: #000000; stroke-width: 1.5;\" x1=\"16\" x2=\"203\" y1=\"28.2969\" y2=\"28.2969\"/><text fill=\"#000000\" font-family=\"sans-serif\" font-size=\"14\" font-weight=\"bold\" lengthAdjust=\"spacingAndGlyphs\" textLength=\"174\" x=\"20\" y=\"20.9951\">QualifiedNameImportTest</text></a><!--MD5=[e4f7fae6ed58524ba242bb0b0d3be6b7]\n",
       "cluster E2--><a href=\"psysml:4a6c4eec-a299-4799-849a-0f6e2ae74607\" target=\"_top\" title=\"psysml:4a6c4eec-a299-4799-849a-0f6e2ae74607\" xlink:actuate=\"onRequest\" xlink:href=\"psysml:4a6c4eec-a299-4799-849a-0f6e2ae74607\" xlink:show=\"new\" xlink:title=\"psysml:4a6c4eec-a299-4799-849a-0f6e2ae74607\" xlink:type=\"simple\"><polygon fill=\"#FFFFFF\" filter=\"url(#f1peew8rae266h)\" points=\"48,210,72,210,79,232.2969,185,232.2969,185,323,48,323,48,210\" style=\"stroke: #000000; stroke-width: 1.5;\"/><line style=\"stroke: #000000; stroke-width: 1.5;\" x1=\"48\" x2=\"79\" y1=\"232.2969\" y2=\"232.2969\"/><text fill=\"#000000\" font-family=\"sans-serif\" font-size=\"14\" font-weight=\"bold\" lengthAdjust=\"spacingAndGlyphs\" textLength=\"18\" x=\"52\" y=\"224.9951\">P1</text></a><!--MD5=[f6df4d0ebaf0b5dfb2ced0ae5af7c670]\n",
       "cluster E4--><a href=\"psysml:eb8258b7-0b9d-4f0f-ab00-8538318b7623\" target=\"_top\" title=\"psysml:eb8258b7-0b9d-4f0f-ab00-8538318b7623\" xlink:actuate=\"onRequest\" xlink:href=\"psysml:eb8258b7-0b9d-4f0f-ab00-8538318b7623\" xlink:show=\"new\" xlink:title=\"psysml:eb8258b7-0b9d-4f0f-ab00-8538318b7623\" xlink:type=\"simple\"><polygon fill=\"#FFFFFF\" filter=\"url(#f1peew8rae266h)\" points=\"40,49,64,49,71,71.2969,195,71.2969,195,153,40,153,40,49\" style=\"stroke: #000000; stroke-width: 1.5;\"/><line style=\"stroke: #000000; stroke-width: 1.5;\" x1=\"40\" x2=\"71\" y1=\"71.2969\" y2=\"71.2969\"/><text fill=\"#000000\" font-family=\"sans-serif\" font-size=\"14\" font-weight=\"bold\" lengthAdjust=\"spacingAndGlyphs\" textLength=\"18\" x=\"44\" y=\"63.9951\">P2</text></a><!--MD5=[09b614a08d8cba4a07c9adeb5e0fee81]\n",
       "class E3--><a href=\"psysml:c3954339-5488-4b4b-b1b9-8dc0f4000655\" target=\"_top\" title=\"psysml:c3954339-5488-4b4b-b1b9-8dc0f4000655\" xlink:actuate=\"onRequest\" xlink:href=\"psysml:c3954339-5488-4b4b-b1b9-8dc0f4000655\" xlink:show=\"new\" xlink:title=\"psysml:c3954339-5488-4b4b-b1b9-8dc0f4000655\" xlink:type=\"simple\"><rect fill=\"#FEFECE\" filter=\"url(#f1peew8rae266h)\" height=\"45.9375\" id=\"E3\" style=\"stroke: #A80036; stroke-width: 1.5;\" width=\"70\" x=\"72\" y=\"253\"/><text fill=\"#000000\" font-family=\"sans-serif\" font-size=\"12\" font-style=\"italic\" lengthAdjust=\"spacingAndGlyphs\" textLength=\"68\" x=\"73\" y=\"269.1387\">«part  def»</text><text fill=\"#000000\" font-family=\"sans-serif\" font-size=\"12\" lengthAdjust=\"spacingAndGlyphs\" textLength=\"8\" x=\"103\" y=\"283.1074\">A</text><line style=\"stroke: #A80036; stroke-width: 1.5;\" x1=\"73\" x2=\"141\" y1=\"290.9375\" y2=\"290.9375\"/></a><!--MD5=[60a26617385b1d2d0262a64233df1f8d]\n",
       "class E6--><a href=\"psysml:a72efec8-2b60-4f71-833a-33d401001ef7\" target=\"_top\" title=\"psysml:a72efec8-2b60-4f71-833a-33d401001ef7\" xlink:actuate=\"onRequest\" xlink:href=\"psysml:a72efec8-2b60-4f71-833a-33d401001ef7\" xlink:show=\"new\" xlink:title=\"psysml:a72efec8-2b60-4f71-833a-33d401001ef7\" xlink:type=\"simple\"><rect fill=\"#FEFECE\" filter=\"url(#f1peew8rae266h)\" height=\"45.9375\" id=\"E6\" rx=\"10\" ry=\"10\" style=\"stroke: #A80036; stroke-width: 1.5;\" width=\"42\" x=\"56\" y=\"87.5\"/><text fill=\"#000000\" font-family=\"sans-serif\" font-size=\"12\" font-style=\"italic\" lengthAdjust=\"spacingAndGlyphs\" textLength=\"40\" x=\"57\" y=\"103.6387\">«part»</text><text fill=\"#000000\" font-family=\"sans-serif\" font-size=\"12\" lengthAdjust=\"spacingAndGlyphs\" textLength=\"22\" x=\"64\" y=\"117.6074\">x: A</text><line style=\"stroke: #A80036; stroke-width: 1.5;\" x1=\"57\" x2=\"97\" y1=\"125.4375\" y2=\"125.4375\"/></a><a href=\"psysml:18e68ffc-3c50-485f-abff-3c07b29f1978\" target=\"_top\" title=\"psysml:18e68ffc-3c50-485f-abff-3c07b29f1978\" xlink:actuate=\"onRequest\" xlink:href=\"psysml:18e68ffc-3c50-485f-abff-3c07b29f1978\" xlink:show=\"new\" xlink:title=\"psysml:18e68ffc-3c50-485f-abff-3c07b29f1978\" xlink:type=\"simple\"><polygon fill=\"#FFFFFF\" filter=\"url(#f1peew8rae266h)\" points=\"133,84,165,84,172,106.2969,179,106.2969,179,136.5938,133,136.5938,133,84\" style=\"stroke: #000000; stroke-width: 1.5;\"/><line style=\"stroke: #000000; stroke-width: 1.5;\" x1=\"133\" x2=\"172\" y1=\"106.2969\" y2=\"106.2969\"/><text fill=\"#000000\" font-family=\"sans-serif\" font-size=\"14\" font-weight=\"bold\" lengthAdjust=\"spacingAndGlyphs\" textLength=\"26\" x=\"137\" y=\"98.9951\">P2a</text></a><!--MD5=[15ebcb19ae302d9b601edb458606d402]\n",
       "link E5 to E2--><a href=\"psysml:dfd16e59-ab91-470e-8369-8533004051f7\" target=\"_top\" title=\"psysml:dfd16e59-ab91-470e-8369-8533004051f7\" xlink:actuate=\"onRequest\" xlink:href=\"psysml:dfd16e59-ab91-470e-8369-8533004051f7\" xlink:show=\"new\" xlink:title=\"psysml:dfd16e59-ab91-470e-8369-8533004051f7\" xlink:type=\"simple\"><path d=\"M159.28,137.05 C160.735,148.365 162.5469,162.4656 164.4519,177.2955 C165.4044,184.7104 166.3802,192.3076 167.3463,199.8301 C167.5878,201.7107 167.8287,203.5867 168.0685,205.4539 C168.1884,206.3876 168.308,207.319 168.4273,208.2478 C168.4869,208.7122 168.5465,209.1759 168.6059,209.6389 \" fill=\"none\" id=\"E5-&gt;E2\" style=\"stroke: #A80036; stroke-width: 1.0; stroke-dasharray: 7.0,7.0;\"/><polygon fill=\"#A80036\" points=\"168.6059,209.6389,171.427,200.2027,167.9691,204.6796,163.4922,201.2217,168.6059,209.6389\" style=\"stroke: #A80036; stroke-width: 1.0;\"/><text fill=\"#000000\" font-family=\"sans-serif\" font-size=\"13\" lengthAdjust=\"spacingAndGlyphs\" textLength=\"65\" x=\"166\" y=\"182.0669\">«import»*</text></a><!--MD5=[a717450b82c80b9240a525fa862496af]\n",
       "link E6 to E3--><a href=\"psysml:08f34eb1-8ff4-422d-a9a6-5096bc1237f4\" target=\"_top\" title=\"psysml:08f34eb1-8ff4-422d-a9a6-5096bc1237f4\" xlink:actuate=\"onRequest\" xlink:href=\"psysml:08f34eb1-8ff4-422d-a9a6-5096bc1237f4\" xlink:show=\"new\" xlink:title=\"psysml:08f34eb1-8ff4-422d-a9a6-5096bc1237f4\" xlink:type=\"simple\"><path d=\"M81.05,133.55 C85.7,158.9 93.44,201.1 99.26,232.83 \" fill=\"none\" id=\"E6-&gt;E3\" style=\"stroke: #A80036; stroke-width: 1.0;\"/><polygon fill=\"#FFFFFF\" points=\"102.92,252.78,92.6018,235.3578,106.3713,232.8278,102.92,252.78\" style=\"stroke: #A80036; stroke-width: 1.0;\"/><ellipse cx=\"93.5388\" cy=\"229.3902\" fill=\"#A80036\" rx=\"2\" ry=\"2\" style=\"stroke: #A80036; stroke-width: 1.0;\"/><ellipse cx=\"103.3742\" cy=\"227.5831\" fill=\"#A80036\" rx=\"2\" ry=\"2\" style=\"stroke: #A80036; stroke-width: 1.0;\"/></a><!--MD5=[0375d54f492b7b5683392cebd3a8c5f8]\n",
       "@startuml\r\n",
       "skinparam wrapWidth 300\r\n",
       "hide circle\r\n",
       "\r\n",
       "package \"QualifiedNameImportTest\" as E1  [[psysml:da4cdfd0-3825-4b53-8eea-757999b665bd ]]  {\r\n",
       "package \"P1\" as E2  [[psysml:4a6c4eec-a299-4799-849a-0f6e2ae74607 ]]  {\r\n",
       "comp def \"A\" as E3  <<(T,blue) part  def>> [[psysml:c3954339-5488-4b4b-b1b9-8dc0f4000655 ]] {\r\n",
       "}\r\n",
       "}\r\n",
       "package \"P2\" as E4  [[psysml:eb8258b7-0b9d-4f0f-ab00-8538318b7623 ]]  {\r\n",
       "package \"P2a\" as E5  [[psysml:18e68ffc-3c50-485f-abff-3c07b29f1978 ]]  {\r\n",
       "}\r\n",
       "comp usage \"x: A \" as E6  <<(T,blue) part>> [[psysml:a72efec8-2b60-4f71-833a-33d401001ef7 ]] {\r\n",
       "}\r\n",
       "}\r\n",
       "}\r\n",
       "E5 ..> E2 [[psysml:dfd16e59-ab91-470e-8369-8533004051f7 ]] : <<import>>*\r\n",
       "E6 - -:|> E3 [[psysml:08f34eb1-8ff4-422d-a9a6-5096bc1237f4 ]] \r\n",
       "@enduml\r\n",
       "\n",
       "PlantUML version 1.2020.13(Sat Jun 13 12:26:38 UTC 2020)\n",
       "(EPL source distribution)\n",
       "Java Runtime: OpenJDK Runtime Environment\n",
       "JVM: OpenJDK 64-Bit Server VM\n",
       "Default Encoding: UTF-8\n",
       "Language: en\n",
       "Country: null\n",
       "--></g></svg>"
      ]
     },
     "execution_count": 23,
     "metadata": {},
     "output_type": "execute_result"
    }
   ],
   "source": [
    "%viz --style=\"STDCOLOR\" --view=\"Default\" \"QualifiedNameImportTest\""
   ]
  },
  {
   "cell_type": "code",
   "execution_count": 24,
   "id": "53b34b7c",
   "metadata": {
    "execution": {
     "iopub.execute_input": "2022-03-21T07:52:08.172747Z",
     "iopub.status.busy": "2022-03-21T07:52:08.172350Z",
     "iopub.status.idle": "2022-03-21T07:52:08.191343Z",
     "shell.execute_reply": "2022-03-21T07:52:08.190995Z"
    }
   },
   "outputs": [
    {
     "data": {
      "image/svg+xml": [
       "<?xml version=\"1.0\" encoding=\"UTF-8\" standalone=\"no\"?><svg xmlns=\"http://www.w3.org/2000/svg\" xmlns:xlink=\"http://www.w3.org/1999/xlink\" contentScriptType=\"application/ecmascript\" contentStyleType=\"text/css\" height=\"367px\" preserveAspectRatio=\"none\" style=\"width:243px;height:367px;\" version=\"1.1\" viewBox=\"0 0 243 367\" width=\"243px\" zoomAndPan=\"magnify\"><defs><filter height=\"300%\" id=\"f1peew8rae266h\" width=\"300%\" x=\"-1\" y=\"-1\"><feGaussianBlur result=\"blurOut\" stdDeviation=\"2.0\"/><feColorMatrix in=\"blurOut\" result=\"blurOut2\" type=\"matrix\" values=\"0 0 0 0 0 0 0 0 0 0 0 0 0 0 0 0 0 0 .4 0\"/><feOffset dx=\"4.0\" dy=\"4.0\" in=\"blurOut2\" result=\"blurOut3\"/><feBlend in=\"SourceGraphic\" in2=\"blurOut3\" mode=\"normal\"/></filter></defs><g><!--MD5=[fbc87193dbaf4d95561dea2c320d4a47]\n",
       "cluster E1--><a href=\"psysml:da4cdfd0-3825-4b53-8eea-757999b665bd\" target=\"_top\" title=\"psysml:da4cdfd0-3825-4b53-8eea-757999b665bd\" xlink:actuate=\"onRequest\" xlink:href=\"psysml:da4cdfd0-3825-4b53-8eea-757999b665bd\" xlink:show=\"new\" xlink:title=\"psysml:da4cdfd0-3825-4b53-8eea-757999b665bd\" xlink:type=\"simple\"><polygon fill=\"#FFFFFF\" filter=\"url(#f1peew8rae266h)\" points=\"16,6,196,6,203,28.2969,219,28.2969,219,355,16,355,16,6\" style=\"stroke: #000000; stroke-width: 1.5;\"/><line style=\"stroke: #000000; stroke-width: 1.5;\" x1=\"16\" x2=\"203\" y1=\"28.2969\" y2=\"28.2969\"/><text fill=\"#000000\" font-family=\"sans-serif\" font-size=\"14\" font-weight=\"bold\" lengthAdjust=\"spacingAndGlyphs\" textLength=\"174\" x=\"20\" y=\"20.9951\">QualifiedNameImportTest</text></a><!--MD5=[e4f7fae6ed58524ba242bb0b0d3be6b7]\n",
       "cluster E2--><a href=\"psysml:4a6c4eec-a299-4799-849a-0f6e2ae74607\" target=\"_top\" title=\"psysml:4a6c4eec-a299-4799-849a-0f6e2ae74607\" xlink:actuate=\"onRequest\" xlink:href=\"psysml:4a6c4eec-a299-4799-849a-0f6e2ae74607\" xlink:show=\"new\" xlink:title=\"psysml:4a6c4eec-a299-4799-849a-0f6e2ae74607\" xlink:type=\"simple\"><polygon fill=\"#FFFFFF\" filter=\"url(#f1peew8rae266h)\" points=\"48,210,72,210,79,232.2969,185,232.2969,185,323,48,323,48,210\" style=\"stroke: #000000; stroke-width: 1.5;\"/><line style=\"stroke: #000000; stroke-width: 1.5;\" x1=\"48\" x2=\"79\" y1=\"232.2969\" y2=\"232.2969\"/><text fill=\"#000000\" font-family=\"sans-serif\" font-size=\"14\" font-weight=\"bold\" lengthAdjust=\"spacingAndGlyphs\" textLength=\"18\" x=\"52\" y=\"224.9951\">P1</text></a><!--MD5=[f6df4d0ebaf0b5dfb2ced0ae5af7c670]\n",
       "cluster E4--><a href=\"psysml:eb8258b7-0b9d-4f0f-ab00-8538318b7623\" target=\"_top\" title=\"psysml:eb8258b7-0b9d-4f0f-ab00-8538318b7623\" xlink:actuate=\"onRequest\" xlink:href=\"psysml:eb8258b7-0b9d-4f0f-ab00-8538318b7623\" xlink:show=\"new\" xlink:title=\"psysml:eb8258b7-0b9d-4f0f-ab00-8538318b7623\" xlink:type=\"simple\"><polygon fill=\"#FFFFFF\" filter=\"url(#f1peew8rae266h)\" points=\"40,49,64,49,71,71.2969,195,71.2969,195,153,40,153,40,49\" style=\"stroke: #000000; stroke-width: 1.5;\"/><line style=\"stroke: #000000; stroke-width: 1.5;\" x1=\"40\" x2=\"71\" y1=\"71.2969\" y2=\"71.2969\"/><text fill=\"#000000\" font-family=\"sans-serif\" font-size=\"14\" font-weight=\"bold\" lengthAdjust=\"spacingAndGlyphs\" textLength=\"18\" x=\"44\" y=\"63.9951\">P2</text></a><!--MD5=[09b614a08d8cba4a07c9adeb5e0fee81]\n",
       "class E3--><a href=\"psysml:c3954339-5488-4b4b-b1b9-8dc0f4000655\" target=\"_top\" title=\"psysml:c3954339-5488-4b4b-b1b9-8dc0f4000655\" xlink:actuate=\"onRequest\" xlink:href=\"psysml:c3954339-5488-4b4b-b1b9-8dc0f4000655\" xlink:show=\"new\" xlink:title=\"psysml:c3954339-5488-4b4b-b1b9-8dc0f4000655\" xlink:type=\"simple\"><rect fill=\"#FEFECE\" filter=\"url(#f1peew8rae266h)\" height=\"45.9375\" id=\"E3\" style=\"stroke: #A80036; stroke-width: 1.5;\" width=\"70\" x=\"72\" y=\"253\"/><text fill=\"#000000\" font-family=\"sans-serif\" font-size=\"12\" font-style=\"italic\" lengthAdjust=\"spacingAndGlyphs\" textLength=\"68\" x=\"73\" y=\"269.1387\">«part  def»</text><text fill=\"#000000\" font-family=\"sans-serif\" font-size=\"12\" lengthAdjust=\"spacingAndGlyphs\" textLength=\"8\" x=\"103\" y=\"283.1074\">A</text><line style=\"stroke: #A80036; stroke-width: 1.5;\" x1=\"73\" x2=\"141\" y1=\"290.9375\" y2=\"290.9375\"/></a><!--MD5=[60a26617385b1d2d0262a64233df1f8d]\n",
       "class E6--><a href=\"psysml:a72efec8-2b60-4f71-833a-33d401001ef7\" target=\"_top\" title=\"psysml:a72efec8-2b60-4f71-833a-33d401001ef7\" xlink:actuate=\"onRequest\" xlink:href=\"psysml:a72efec8-2b60-4f71-833a-33d401001ef7\" xlink:show=\"new\" xlink:title=\"psysml:a72efec8-2b60-4f71-833a-33d401001ef7\" xlink:type=\"simple\"><rect fill=\"#FEFECE\" filter=\"url(#f1peew8rae266h)\" height=\"45.9375\" id=\"E6\" rx=\"10\" ry=\"10\" style=\"stroke: #A80036; stroke-width: 1.5;\" width=\"42\" x=\"56\" y=\"87.5\"/><text fill=\"#000000\" font-family=\"sans-serif\" font-size=\"12\" font-style=\"italic\" lengthAdjust=\"spacingAndGlyphs\" textLength=\"40\" x=\"57\" y=\"103.6387\">«part»</text><text fill=\"#000000\" font-family=\"sans-serif\" font-size=\"12\" lengthAdjust=\"spacingAndGlyphs\" textLength=\"22\" x=\"64\" y=\"117.6074\">x: A</text><line style=\"stroke: #A80036; stroke-width: 1.5;\" x1=\"57\" x2=\"97\" y1=\"125.4375\" y2=\"125.4375\"/></a><a href=\"psysml:18e68ffc-3c50-485f-abff-3c07b29f1978\" target=\"_top\" title=\"psysml:18e68ffc-3c50-485f-abff-3c07b29f1978\" xlink:actuate=\"onRequest\" xlink:href=\"psysml:18e68ffc-3c50-485f-abff-3c07b29f1978\" xlink:show=\"new\" xlink:title=\"psysml:18e68ffc-3c50-485f-abff-3c07b29f1978\" xlink:type=\"simple\"><polygon fill=\"#FFFFFF\" filter=\"url(#f1peew8rae266h)\" points=\"133,84,165,84,172,106.2969,179,106.2969,179,136.5938,133,136.5938,133,84\" style=\"stroke: #000000; stroke-width: 1.5;\"/><line style=\"stroke: #000000; stroke-width: 1.5;\" x1=\"133\" x2=\"172\" y1=\"106.2969\" y2=\"106.2969\"/><text fill=\"#000000\" font-family=\"sans-serif\" font-size=\"14\" font-weight=\"bold\" lengthAdjust=\"spacingAndGlyphs\" textLength=\"26\" x=\"137\" y=\"98.9951\">P2a</text></a><!--MD5=[15ebcb19ae302d9b601edb458606d402]\n",
       "link E5 to E2--><a href=\"psysml:dfd16e59-ab91-470e-8369-8533004051f7\" target=\"_top\" title=\"psysml:dfd16e59-ab91-470e-8369-8533004051f7\" xlink:actuate=\"onRequest\" xlink:href=\"psysml:dfd16e59-ab91-470e-8369-8533004051f7\" xlink:show=\"new\" xlink:title=\"psysml:dfd16e59-ab91-470e-8369-8533004051f7\" xlink:type=\"simple\"><path d=\"M159.28,137.05 C160.735,148.365 162.5469,162.4656 164.4519,177.2955 C165.4044,184.7104 166.3802,192.3076 167.3463,199.8301 C167.5878,201.7107 167.8287,203.5867 168.0685,205.4539 C168.1884,206.3876 168.308,207.319 168.4273,208.2478 C168.4869,208.7122 168.5465,209.1759 168.6059,209.6389 \" fill=\"none\" id=\"E5-&gt;E2\" style=\"stroke: #A80036; stroke-width: 1.0; stroke-dasharray: 7.0,7.0;\"/><polygon fill=\"#A80036\" points=\"168.6059,209.6389,171.427,200.2027,167.9691,204.6796,163.4922,201.2217,168.6059,209.6389\" style=\"stroke: #A80036; stroke-width: 1.0;\"/><text fill=\"#000000\" font-family=\"sans-serif\" font-size=\"13\" lengthAdjust=\"spacingAndGlyphs\" textLength=\"65\" x=\"166\" y=\"182.0669\">«import»*</text></a><!--MD5=[a717450b82c80b9240a525fa862496af]\n",
       "link E6 to E3--><a href=\"psysml:08f34eb1-8ff4-422d-a9a6-5096bc1237f4\" target=\"_top\" title=\"psysml:08f34eb1-8ff4-422d-a9a6-5096bc1237f4\" xlink:actuate=\"onRequest\" xlink:href=\"psysml:08f34eb1-8ff4-422d-a9a6-5096bc1237f4\" xlink:show=\"new\" xlink:title=\"psysml:08f34eb1-8ff4-422d-a9a6-5096bc1237f4\" xlink:type=\"simple\"><path d=\"M81.05,133.55 C85.7,158.9 93.44,201.1 99.26,232.83 \" fill=\"none\" id=\"E6-&gt;E3\" style=\"stroke: #A80036; stroke-width: 1.0;\"/><polygon fill=\"#FFFFFF\" points=\"102.92,252.78,92.6018,235.3578,106.3713,232.8278,102.92,252.78\" style=\"stroke: #A80036; stroke-width: 1.0;\"/><ellipse cx=\"93.5388\" cy=\"229.3902\" fill=\"#A80036\" rx=\"2\" ry=\"2\" style=\"stroke: #A80036; stroke-width: 1.0;\"/><ellipse cx=\"103.3742\" cy=\"227.5831\" fill=\"#A80036\" rx=\"2\" ry=\"2\" style=\"stroke: #A80036; stroke-width: 1.0;\"/></a><!--MD5=[0375d54f492b7b5683392cebd3a8c5f8]\n",
       "@startuml\r\n",
       "skinparam wrapWidth 300\r\n",
       "hide circle\r\n",
       "\r\n",
       "package \"QualifiedNameImportTest\" as E1  [[psysml:da4cdfd0-3825-4b53-8eea-757999b665bd ]]  {\r\n",
       "package \"P1\" as E2  [[psysml:4a6c4eec-a299-4799-849a-0f6e2ae74607 ]]  {\r\n",
       "comp def \"A\" as E3  <<(T,blue) part  def>> [[psysml:c3954339-5488-4b4b-b1b9-8dc0f4000655 ]] {\r\n",
       "}\r\n",
       "}\r\n",
       "package \"P2\" as E4  [[psysml:eb8258b7-0b9d-4f0f-ab00-8538318b7623 ]]  {\r\n",
       "package \"P2a\" as E5  [[psysml:18e68ffc-3c50-485f-abff-3c07b29f1978 ]]  {\r\n",
       "}\r\n",
       "comp usage \"x: A \" as E6  <<(T,blue) part>> [[psysml:a72efec8-2b60-4f71-833a-33d401001ef7 ]] {\r\n",
       "}\r\n",
       "}\r\n",
       "}\r\n",
       "E5 ..> E2 [[psysml:dfd16e59-ab91-470e-8369-8533004051f7 ]] : <<import>>*\r\n",
       "E6 - -:|> E3 [[psysml:08f34eb1-8ff4-422d-a9a6-5096bc1237f4 ]] \r\n",
       "@enduml\r\n",
       "\n",
       "PlantUML version 1.2020.13(Sat Jun 13 12:26:38 UTC 2020)\n",
       "(EPL source distribution)\n",
       "Java Runtime: OpenJDK Runtime Environment\n",
       "JVM: OpenJDK 64-Bit Server VM\n",
       "Default Encoding: UTF-8\n",
       "Language: en\n",
       "Country: null\n",
       "--></g></svg>"
      ]
     },
     "execution_count": 24,
     "metadata": {},
     "output_type": "execute_result"
    }
   ],
   "source": [
    "%viz --style=\"STDCOLOR\" --view=\"Tree\" \"QualifiedNameImportTest\""
   ]
  },
  {
   "cell_type": "code",
   "execution_count": 25,
   "id": "c09534e2",
   "metadata": {
    "execution": {
     "iopub.execute_input": "2022-03-21T07:52:08.240909Z",
     "iopub.status.busy": "2022-03-21T07:52:08.240516Z",
     "iopub.status.idle": "2022-03-21T07:52:08.243956Z",
     "shell.execute_reply": "2022-03-21T07:52:08.243633Z"
    }
   },
   "outputs": [
    {
     "data": {
      "image/svg+xml": [
       "<?xml version=\"1.0\" encoding=\"UTF-8\" standalone=\"no\"?><svg xmlns=\"http://www.w3.org/2000/svg\" xmlns:xlink=\"http://www.w3.org/1999/xlink\" contentScriptType=\"application/ecmascript\" contentStyleType=\"text/css\" height=\"12px\" preserveAspectRatio=\"none\" style=\"width:12px;height:12px;\" version=\"1.1\" viewBox=\"0 0 12 12\" width=\"12px\" zoomAndPan=\"magnify\"><defs/><g><!--MD5=[aeeef50f102b80d730deb6443d14f702]\n",
       "@startuml\r\n",
       "skinparam wrapWidth 300\r\n",
       "hide circle\r\n",
       "\r\n",
       "@enduml\r\n",
       "\n",
       "PlantUML version 1.2020.13(Sat Jun 13 12:26:38 UTC 2020)\n",
       "(EPL source distribution)\n",
       "Java Runtime: OpenJDK Runtime Environment\n",
       "JVM: OpenJDK 64-Bit Server VM\n",
       "Default Encoding: UTF-8\n",
       "Language: en\n",
       "Country: null\n",
       "--></g></svg>"
      ]
     },
     "execution_count": 25,
     "metadata": {},
     "output_type": "execute_result"
    }
   ],
   "source": [
    "%viz --style=\"STDCOLOR\" --view=\"State\" \"QualifiedNameImportTest\""
   ]
  },
  {
   "cell_type": "code",
   "execution_count": 26,
   "id": "cec94506",
   "metadata": {
    "execution": {
     "iopub.execute_input": "2022-03-21T07:52:08.293857Z",
     "iopub.status.busy": "2022-03-21T07:52:08.293462Z",
     "iopub.status.idle": "2022-03-21T07:52:08.322922Z",
     "shell.execute_reply": "2022-03-21T07:52:08.322573Z"
    }
   },
   "outputs": [
    {
     "data": {
      "image/svg+xml": [
       "<?xml version=\"1.0\" encoding=\"UTF-8\" standalone=\"no\"?><svg xmlns=\"http://www.w3.org/2000/svg\" xmlns:xlink=\"http://www.w3.org/1999/xlink\" contentScriptType=\"application/ecmascript\" contentStyleType=\"text/css\" height=\"364px\" preserveAspectRatio=\"none\" style=\"width:249px;height:364px;\" version=\"1.1\" viewBox=\"0 0 249 364\" width=\"249px\" zoomAndPan=\"magnify\"><defs><filter height=\"300%\" id=\"fqej5vosu2da4\" width=\"300%\" x=\"-1\" y=\"-1\"><feGaussianBlur result=\"blurOut\" stdDeviation=\"2.0\"/><feColorMatrix in=\"blurOut\" result=\"blurOut2\" type=\"matrix\" values=\"0 0 0 0 0 0 0 0 0 0 0 0 0 0 0 0 0 0 .4 0\"/><feOffset dx=\"4.0\" dy=\"4.0\" in=\"blurOut2\" result=\"blurOut3\"/><feBlend in=\"SourceGraphic\" in2=\"blurOut3\" mode=\"normal\"/></filter></defs><g><!--MD5=[fbc87193dbaf4d95561dea2c320d4a47]\n",
       "cluster E1--><a href=\"psysml:da4cdfd0-3825-4b53-8eea-757999b665bd\" target=\"_top\" title=\"psysml:da4cdfd0-3825-4b53-8eea-757999b665bd\" xlink:actuate=\"onRequest\" xlink:href=\"psysml:da4cdfd0-3825-4b53-8eea-757999b665bd\" xlink:show=\"new\" xlink:title=\"psysml:da4cdfd0-3825-4b53-8eea-757999b665bd\" xlink:type=\"simple\"><polygon fill=\"#FFFFFF\" filter=\"url(#fqej5vosu2da4)\" points=\"16,6,196,6,203,28.2969,227,28.2969,227,352,16,352,16,6\" style=\"stroke: #000000; stroke-width: 1.5;\"/><line style=\"stroke: #000000; stroke-width: 1.5;\" x1=\"16\" x2=\"203\" y1=\"28.2969\" y2=\"28.2969\"/><text fill=\"#000000\" font-family=\"sans-serif\" font-size=\"14\" font-weight=\"bold\" lengthAdjust=\"spacingAndGlyphs\" textLength=\"174\" x=\"20\" y=\"20.9951\">QualifiedNameImportTest</text></a><!--MD5=[e4f7fae6ed58524ba242bb0b0d3be6b7]\n",
       "cluster E2--><a href=\"psysml:4a6c4eec-a299-4799-849a-0f6e2ae74607\" target=\"_top\" title=\"psysml:4a6c4eec-a299-4799-849a-0f6e2ae74607\" xlink:actuate=\"onRequest\" xlink:href=\"psysml:4a6c4eec-a299-4799-849a-0f6e2ae74607\" xlink:show=\"new\" xlink:title=\"psysml:4a6c4eec-a299-4799-849a-0f6e2ae74607\" xlink:type=\"simple\"><polygon fill=\"#FFFFFF\" filter=\"url(#fqej5vosu2da4)\" points=\"53,210,77,210,84,232.2969,195,232.2969,195,320,53,320,53,210\" style=\"stroke: #000000; stroke-width: 1.5;\"/><line style=\"stroke: #000000; stroke-width: 1.5;\" x1=\"53\" x2=\"84\" y1=\"232.2969\" y2=\"232.2969\"/><text fill=\"#000000\" font-family=\"sans-serif\" font-size=\"14\" font-weight=\"bold\" lengthAdjust=\"spacingAndGlyphs\" textLength=\"18\" x=\"57\" y=\"224.9951\">P1</text></a><!--MD5=[f6df4d0ebaf0b5dfb2ced0ae5af7c670]\n",
       "cluster E4--><a href=\"psysml:eb8258b7-0b9d-4f0f-ab00-8538318b7623\" target=\"_top\" title=\"psysml:eb8258b7-0b9d-4f0f-ab00-8538318b7623\" xlink:actuate=\"onRequest\" xlink:href=\"psysml:eb8258b7-0b9d-4f0f-ab00-8538318b7623\" xlink:show=\"new\" xlink:title=\"psysml:eb8258b7-0b9d-4f0f-ab00-8538318b7623\" xlink:type=\"simple\"><polygon fill=\"#FFFFFF\" filter=\"url(#fqej5vosu2da4)\" points=\"40,49,64,49,71,71.2969,203,71.2969,203,153,40,153,40,49\" style=\"stroke: #000000; stroke-width: 1.5;\"/><line style=\"stroke: #000000; stroke-width: 1.5;\" x1=\"40\" x2=\"71\" y1=\"71.2969\" y2=\"71.2969\"/><text fill=\"#000000\" font-family=\"sans-serif\" font-size=\"14\" font-weight=\"bold\" lengthAdjust=\"spacingAndGlyphs\" textLength=\"18\" x=\"44\" y=\"63.9951\">P2</text></a><g id=\"E1.E2.E3\"><a href=\"psysml:c3954339-5488-4b4b-b1b9-8dc0f4000655\" target=\"_top\" title=\"psysml:c3954339-5488-4b4b-b1b9-8dc0f4000655\" xlink:actuate=\"onRequest\" xlink:href=\"psysml:c3954339-5488-4b4b-b1b9-8dc0f4000655\" xlink:show=\"new\" xlink:title=\"psysml:c3954339-5488-4b4b-b1b9-8dc0f4000655\" xlink:type=\"simple\"><rect fill=\"#FEFECE\" filter=\"url(#fqej5vosu2da4)\" height=\"42.9375\" id=\"E3\" style=\"stroke: #A80036; stroke-width: 1.5;\" width=\"75\" x=\"96.5\" y=\"253\"/><text fill=\"#000000\" font-family=\"sans-serif\" font-size=\"12\" font-style=\"italic\" lengthAdjust=\"spacingAndGlyphs\" textLength=\"68\" x=\"100\" y=\"269.1387\">«part  def»</text><text fill=\"#000000\" font-family=\"sans-serif\" font-size=\"12\" lengthAdjust=\"spacingAndGlyphs\" textLength=\"8\" x=\"130\" y=\"283.1074\">A</text></a></g><a href=\"psysml:18e68ffc-3c50-485f-abff-3c07b29f1978\" target=\"_top\" title=\"psysml:18e68ffc-3c50-485f-abff-3c07b29f1978\" xlink:actuate=\"onRequest\" xlink:href=\"psysml:18e68ffc-3c50-485f-abff-3c07b29f1978\" xlink:show=\"new\" xlink:title=\"psysml:18e68ffc-3c50-485f-abff-3c07b29f1978\" xlink:type=\"simple\"><polygon fill=\"#FFFFFF\" filter=\"url(#fqej5vosu2da4)\" points=\"141,84,173,84,180,106.2969,187,106.2969,187,136.5938,141,136.5938,141,84\" style=\"stroke: #000000; stroke-width: 1.5;\"/><line style=\"stroke: #000000; stroke-width: 1.5;\" x1=\"141\" x2=\"180\" y1=\"106.2969\" y2=\"106.2969\"/><text fill=\"#000000\" font-family=\"sans-serif\" font-size=\"14\" font-weight=\"bold\" lengthAdjust=\"spacingAndGlyphs\" textLength=\"26\" x=\"145\" y=\"98.9951\">P2a</text></a><g id=\"E1.E4.E6\"><a href=\"psysml:a72efec8-2b60-4f71-833a-33d401001ef7\" target=\"_top\" title=\"psysml:a72efec8-2b60-4f71-833a-33d401001ef7\" xlink:actuate=\"onRequest\" xlink:href=\"psysml:a72efec8-2b60-4f71-833a-33d401001ef7\" xlink:show=\"new\" xlink:title=\"psysml:a72efec8-2b60-4f71-833a-33d401001ef7\" xlink:type=\"simple\"><rect fill=\"#FEFECE\" filter=\"url(#fqej5vosu2da4)\" height=\"40\" id=\"E6\" rx=\"10\" ry=\"10\" style=\"stroke: #A80036; stroke-width: 1.5;\" width=\"50\" x=\"56\" y=\"90.5\"/><text fill=\"#000000\" font-family=\"sans-serif\" font-size=\"12\" lengthAdjust=\"spacingAndGlyphs\" textLength=\"22\" x=\"70\" y=\"106.6387\">x: A</text></a></g><!--MD5=[15ebcb19ae302d9b601edb458606d402]\n",
       "link E5 to E2--><a href=\"psysml:dfd16e59-ab91-470e-8369-8533004051f7\" target=\"_top\" title=\"psysml:dfd16e59-ab91-470e-8369-8533004051f7\" xlink:actuate=\"onRequest\" xlink:href=\"psysml:dfd16e59-ab91-470e-8369-8533004051f7\" xlink:show=\"new\" xlink:title=\"psysml:dfd16e59-ab91-470e-8369-8533004051f7\" xlink:type=\"simple\"><path d=\"M145.15,137.17 C138.8,145.15 131.44,153.75 124,161 C106.75,177.82 94.23,173.87 81,194 C78.5775,197.6875 76.4484,201.6477 74.5773,205.7604 C74.1095,206.7885 73.6578,207.8263 73.2217,208.8716 C73.1127,209.133 73.0046,209.3948 72.8975,209.6571 \" fill=\"none\" id=\"E5-&gt;E2\" style=\"stroke: #A80036; stroke-width: 1.0; stroke-dasharray: 7.0,7.0;\"/><polygon fill=\"#A80036\" points=\"72.8975,209.6571,80.0029,202.837,74.7876,205.0281,72.5965,199.8128,72.8975,209.6571\" style=\"stroke: #A80036; stroke-width: 1.0;\"/><text fill=\"#000000\" font-family=\"sans-serif\" font-size=\"13\" lengthAdjust=\"spacingAndGlyphs\" textLength=\"65\" x=\"114\" y=\"182.0669\">«import»*</text></a><!--MD5=[28a3027665d7b62e01c8b7eea1ffa1c1]\n",
       "@startuml\r\n",
       "skinparam ranksep 10\r\n",
       "skinparam rectangle {\r\n",
       " backgroundColor<<block>> LightGreen\r\n",
       "}\r\n",
       "skinparam wrapWidth 300\r\n",
       "hide circle\r\n",
       "\r\n",
       "package \"QualifiedNameImportTest\" as E1  [[psysml:da4cdfd0-3825-4b53-8eea-757999b665bd ]]  {\r\n",
       "package \"P1\" as E2  [[psysml:4a6c4eec-a299-4799-849a-0f6e2ae74607 ]]  {\r\n",
       "rec def \"A\" as E3  <<(T,blue) part  def>> [[psysml:c3954339-5488-4b4b-b1b9-8dc0f4000655 ]] {\r\n",
       "}\r\n",
       "}\r\n",
       "package \"P2\" as E4  [[psysml:eb8258b7-0b9d-4f0f-ab00-8538318b7623 ]]  {\r\n",
       "package \"P2a\" as E5  [[psysml:18e68ffc-3c50-485f-abff-3c07b29f1978 ]]  {\r\n",
       "}\r\n",
       "rec usage \"x: A\" as E6  [[psysml:a72efec8-2b60-4f71-833a-33d401001ef7 ]] {\r\n",
       "}\r\n",
       "}\r\n",
       "}\r\n",
       "E5 ..> E2 [[psysml:dfd16e59-ab91-470e-8369-8533004051f7 ]] : <<import>>*\r\n",
       "@enduml\r\n",
       "\n",
       "PlantUML version 1.2020.13(Sat Jun 13 12:26:38 UTC 2020)\n",
       "(EPL source distribution)\n",
       "Java Runtime: OpenJDK Runtime Environment\n",
       "JVM: OpenJDK 64-Bit Server VM\n",
       "Default Encoding: UTF-8\n",
       "Language: en\n",
       "Country: null\n",
       "--></g></svg>"
      ]
     },
     "execution_count": 26,
     "metadata": {},
     "output_type": "execute_result"
    }
   ],
   "source": [
    "%viz --style=\"STDCOLOR\" --view=\"Interconnection\" \"QualifiedNameImportTest\""
   ]
  },
  {
   "cell_type": "code",
   "execution_count": 27,
   "id": "c2f57123",
   "metadata": {
    "execution": {
     "iopub.execute_input": "2022-03-21T07:52:08.372786Z",
     "iopub.status.busy": "2022-03-21T07:52:08.372389Z",
     "iopub.status.idle": "2022-03-21T07:52:08.377211Z",
     "shell.execute_reply": "2022-03-21T07:52:08.377521Z"
    }
   },
   "outputs": [
    {
     "data": {
      "image/svg+xml": [
       "<?xml version=\"1.0\" encoding=\"UTF-8\" standalone=\"no\"?><svg xmlns=\"http://www.w3.org/2000/svg\" xmlns:xlink=\"http://www.w3.org/1999/xlink\" contentScriptType=\"application/ecmascript\" contentStyleType=\"text/css\" height=\"12px\" preserveAspectRatio=\"none\" style=\"width:12px;height:12px;\" version=\"1.1\" viewBox=\"0 0 12 12\" width=\"12px\" zoomAndPan=\"magnify\"><defs/><g><!--MD5=[9863325348a96a77dacc89509d8ee65e]\n",
       "@startuml\r\n",
       "skinparam ranksep 8\r\n",
       "skinparam wrapWidth 300\r\n",
       "hide circle\r\n",
       "\r\n",
       "@enduml\r\n",
       "\n",
       "PlantUML version 1.2020.13(Sat Jun 13 12:26:38 UTC 2020)\n",
       "(EPL source distribution)\n",
       "Java Runtime: OpenJDK Runtime Environment\n",
       "JVM: OpenJDK 64-Bit Server VM\n",
       "Default Encoding: UTF-8\n",
       "Language: en\n",
       "Country: null\n",
       "--></g></svg>"
      ]
     },
     "execution_count": 27,
     "metadata": {},
     "output_type": "execute_result"
    }
   ],
   "source": [
    "%viz --style=\"STDCOLOR\" --view=\"Action\" \"QualifiedNameImportTest\""
   ]
  },
  {
   "cell_type": "code",
   "execution_count": 28,
   "id": "85e48667",
   "metadata": {
    "execution": {
     "iopub.execute_input": "2022-03-21T07:52:08.427772Z",
     "iopub.status.busy": "2022-03-21T07:52:08.427375Z",
     "iopub.status.idle": "2022-03-21T07:52:08.432104Z",
     "shell.execute_reply": "2022-03-21T07:52:08.432412Z"
    }
   },
   "outputs": [
    {
     "data": {
      "image/svg+xml": [
       "<?xml version=\"1.0\" encoding=\"UTF-8\" standalone=\"no\"?><svg xmlns=\"http://www.w3.org/2000/svg\" xmlns:xlink=\"http://www.w3.org/1999/xlink\" contentScriptType=\"application/ecmascript\" contentStyleType=\"text/css\" height=\"12px\" preserveAspectRatio=\"none\" style=\"width:12px;height:12px;\" version=\"1.1\" viewBox=\"0 0 12 12\" width=\"12px\" zoomAndPan=\"magnify\"><defs/><g><!--MD5=[6c4bca67b4d71758159a5a7f1f1e1fc2]\n",
       "@startuml\r\n",
       "skinparam roundcorner 20\r\n",
       "skinparam BoxPadding 20\r\n",
       "skinparam SequenceBoxBackgroundColor #white\r\n",
       "skinparam style strictuml\r\n",
       "skinparam maxMessageSize 100\r\n",
       "skinparam wrapWidth 300\r\n",
       "hide circle\r\n",
       "\r\n",
       "@enduml\r\n",
       "\n",
       "PlantUML version 1.2020.13(Sat Jun 13 12:26:38 UTC 2020)\n",
       "(EPL source distribution)\n",
       "Java Runtime: OpenJDK Runtime Environment\n",
       "JVM: OpenJDK 64-Bit Server VM\n",
       "Default Encoding: UTF-8\n",
       "Language: en\n",
       "Country: null\n",
       "--></g></svg>"
      ]
     },
     "execution_count": 28,
     "metadata": {},
     "output_type": "execute_result"
    }
   ],
   "source": [
    "%viz --style=\"STDCOLOR\" --view=\"Sequence\" \"QualifiedNameImportTest\""
   ]
  },
  {
   "cell_type": "code",
   "execution_count": 29,
   "id": "819b4878",
   "metadata": {
    "execution": {
     "iopub.execute_input": "2022-03-21T07:52:08.482558Z",
     "iopub.status.busy": "2022-03-21T07:52:08.482163Z",
     "iopub.status.idle": "2022-03-21T07:52:08.513594Z",
     "shell.execute_reply": "2022-03-21T07:52:08.513246Z"
    }
   },
   "outputs": [
    {
     "data": {
      "image/svg+xml": [
       "<?xml version=\"1.0\" encoding=\"UTF-8\" standalone=\"no\"?><svg xmlns=\"http://www.w3.org/2000/svg\" xmlns:xlink=\"http://www.w3.org/1999/xlink\" contentScriptType=\"application/ecmascript\" contentStyleType=\"text/css\" height=\"367px\" preserveAspectRatio=\"none\" style=\"width:243px;height:367px;\" version=\"1.1\" viewBox=\"0 0 243 367\" width=\"243px\" zoomAndPan=\"magnify\"><defs><filter height=\"300%\" id=\"f1peew8rae266h\" width=\"300%\" x=\"-1\" y=\"-1\"><feGaussianBlur result=\"blurOut\" stdDeviation=\"2.0\"/><feColorMatrix in=\"blurOut\" result=\"blurOut2\" type=\"matrix\" values=\"0 0 0 0 0 0 0 0 0 0 0 0 0 0 0 0 0 0 .4 0\"/><feOffset dx=\"4.0\" dy=\"4.0\" in=\"blurOut2\" result=\"blurOut3\"/><feBlend in=\"SourceGraphic\" in2=\"blurOut3\" mode=\"normal\"/></filter></defs><g><!--MD5=[fbc87193dbaf4d95561dea2c320d4a47]\n",
       "cluster E1--><a href=\"psysml:da4cdfd0-3825-4b53-8eea-757999b665bd\" target=\"_top\" title=\"psysml:da4cdfd0-3825-4b53-8eea-757999b665bd\" xlink:actuate=\"onRequest\" xlink:href=\"psysml:da4cdfd0-3825-4b53-8eea-757999b665bd\" xlink:show=\"new\" xlink:title=\"psysml:da4cdfd0-3825-4b53-8eea-757999b665bd\" xlink:type=\"simple\"><polygon fill=\"#FFFFFF\" filter=\"url(#f1peew8rae266h)\" points=\"16,6,196,6,203,28.2969,219,28.2969,219,355,16,355,16,6\" style=\"stroke: #000000; stroke-width: 1.5;\"/><line style=\"stroke: #000000; stroke-width: 1.5;\" x1=\"16\" x2=\"203\" y1=\"28.2969\" y2=\"28.2969\"/><text fill=\"#000000\" font-family=\"sans-serif\" font-size=\"14\" font-weight=\"bold\" lengthAdjust=\"spacingAndGlyphs\" textLength=\"174\" x=\"20\" y=\"20.9951\">QualifiedNameImportTest</text></a><!--MD5=[e4f7fae6ed58524ba242bb0b0d3be6b7]\n",
       "cluster E2--><a href=\"psysml:4a6c4eec-a299-4799-849a-0f6e2ae74607\" target=\"_top\" title=\"psysml:4a6c4eec-a299-4799-849a-0f6e2ae74607\" xlink:actuate=\"onRequest\" xlink:href=\"psysml:4a6c4eec-a299-4799-849a-0f6e2ae74607\" xlink:show=\"new\" xlink:title=\"psysml:4a6c4eec-a299-4799-849a-0f6e2ae74607\" xlink:type=\"simple\"><polygon fill=\"#FFFFFF\" filter=\"url(#f1peew8rae266h)\" points=\"48,210,72,210,79,232.2969,185,232.2969,185,323,48,323,48,210\" style=\"stroke: #000000; stroke-width: 1.5;\"/><line style=\"stroke: #000000; stroke-width: 1.5;\" x1=\"48\" x2=\"79\" y1=\"232.2969\" y2=\"232.2969\"/><text fill=\"#000000\" font-family=\"sans-serif\" font-size=\"14\" font-weight=\"bold\" lengthAdjust=\"spacingAndGlyphs\" textLength=\"18\" x=\"52\" y=\"224.9951\">P1</text></a><!--MD5=[f6df4d0ebaf0b5dfb2ced0ae5af7c670]\n",
       "cluster E4--><a href=\"psysml:eb8258b7-0b9d-4f0f-ab00-8538318b7623\" target=\"_top\" title=\"psysml:eb8258b7-0b9d-4f0f-ab00-8538318b7623\" xlink:actuate=\"onRequest\" xlink:href=\"psysml:eb8258b7-0b9d-4f0f-ab00-8538318b7623\" xlink:show=\"new\" xlink:title=\"psysml:eb8258b7-0b9d-4f0f-ab00-8538318b7623\" xlink:type=\"simple\"><polygon fill=\"#FFFFFF\" filter=\"url(#f1peew8rae266h)\" points=\"40,49,64,49,71,71.2969,195,71.2969,195,153,40,153,40,49\" style=\"stroke: #000000; stroke-width: 1.5;\"/><line style=\"stroke: #000000; stroke-width: 1.5;\" x1=\"40\" x2=\"71\" y1=\"71.2969\" y2=\"71.2969\"/><text fill=\"#000000\" font-family=\"sans-serif\" font-size=\"14\" font-weight=\"bold\" lengthAdjust=\"spacingAndGlyphs\" textLength=\"18\" x=\"44\" y=\"63.9951\">P2</text></a><!--MD5=[09b614a08d8cba4a07c9adeb5e0fee81]\n",
       "class E3--><a href=\"psysml:c3954339-5488-4b4b-b1b9-8dc0f4000655\" target=\"_top\" title=\"psysml:c3954339-5488-4b4b-b1b9-8dc0f4000655\" xlink:actuate=\"onRequest\" xlink:href=\"psysml:c3954339-5488-4b4b-b1b9-8dc0f4000655\" xlink:show=\"new\" xlink:title=\"psysml:c3954339-5488-4b4b-b1b9-8dc0f4000655\" xlink:type=\"simple\"><rect fill=\"#FEFECE\" filter=\"url(#f1peew8rae266h)\" height=\"45.9375\" id=\"E3\" style=\"stroke: #A80036; stroke-width: 1.5;\" width=\"70\" x=\"72\" y=\"253\"/><text fill=\"#000000\" font-family=\"sans-serif\" font-size=\"12\" font-style=\"italic\" lengthAdjust=\"spacingAndGlyphs\" textLength=\"68\" x=\"73\" y=\"269.1387\">«part  def»</text><text fill=\"#000000\" font-family=\"sans-serif\" font-size=\"12\" lengthAdjust=\"spacingAndGlyphs\" textLength=\"8\" x=\"103\" y=\"283.1074\">A</text><line style=\"stroke: #A80036; stroke-width: 1.5;\" x1=\"73\" x2=\"141\" y1=\"290.9375\" y2=\"290.9375\"/></a><!--MD5=[60a26617385b1d2d0262a64233df1f8d]\n",
       "class E6--><a href=\"psysml:a72efec8-2b60-4f71-833a-33d401001ef7\" target=\"_top\" title=\"psysml:a72efec8-2b60-4f71-833a-33d401001ef7\" xlink:actuate=\"onRequest\" xlink:href=\"psysml:a72efec8-2b60-4f71-833a-33d401001ef7\" xlink:show=\"new\" xlink:title=\"psysml:a72efec8-2b60-4f71-833a-33d401001ef7\" xlink:type=\"simple\"><rect fill=\"#FEFECE\" filter=\"url(#f1peew8rae266h)\" height=\"45.9375\" id=\"E6\" rx=\"10\" ry=\"10\" style=\"stroke: #A80036; stroke-width: 1.5;\" width=\"42\" x=\"56\" y=\"87.5\"/><text fill=\"#000000\" font-family=\"sans-serif\" font-size=\"12\" font-style=\"italic\" lengthAdjust=\"spacingAndGlyphs\" textLength=\"40\" x=\"57\" y=\"103.6387\">«part»</text><text fill=\"#000000\" font-family=\"sans-serif\" font-size=\"12\" lengthAdjust=\"spacingAndGlyphs\" textLength=\"22\" x=\"64\" y=\"117.6074\">x: A</text><line style=\"stroke: #A80036; stroke-width: 1.5;\" x1=\"57\" x2=\"97\" y1=\"125.4375\" y2=\"125.4375\"/></a><a href=\"psysml:18e68ffc-3c50-485f-abff-3c07b29f1978\" target=\"_top\" title=\"psysml:18e68ffc-3c50-485f-abff-3c07b29f1978\" xlink:actuate=\"onRequest\" xlink:href=\"psysml:18e68ffc-3c50-485f-abff-3c07b29f1978\" xlink:show=\"new\" xlink:title=\"psysml:18e68ffc-3c50-485f-abff-3c07b29f1978\" xlink:type=\"simple\"><polygon fill=\"#FFFFFF\" filter=\"url(#f1peew8rae266h)\" points=\"133,84,165,84,172,106.2969,179,106.2969,179,136.5938,133,136.5938,133,84\" style=\"stroke: #000000; stroke-width: 1.5;\"/><line style=\"stroke: #000000; stroke-width: 1.5;\" x1=\"133\" x2=\"172\" y1=\"106.2969\" y2=\"106.2969\"/><text fill=\"#000000\" font-family=\"sans-serif\" font-size=\"14\" font-weight=\"bold\" lengthAdjust=\"spacingAndGlyphs\" textLength=\"26\" x=\"137\" y=\"98.9951\">P2a</text></a><!--MD5=[15ebcb19ae302d9b601edb458606d402]\n",
       "link E5 to E2--><a href=\"psysml:dfd16e59-ab91-470e-8369-8533004051f7\" target=\"_top\" title=\"psysml:dfd16e59-ab91-470e-8369-8533004051f7\" xlink:actuate=\"onRequest\" xlink:href=\"psysml:dfd16e59-ab91-470e-8369-8533004051f7\" xlink:show=\"new\" xlink:title=\"psysml:dfd16e59-ab91-470e-8369-8533004051f7\" xlink:type=\"simple\"><path d=\"M159.28,137.05 C160.735,148.365 162.5469,162.4656 164.4519,177.2955 C165.4044,184.7104 166.3802,192.3076 167.3463,199.8301 C167.5878,201.7107 167.8287,203.5867 168.0685,205.4539 C168.1884,206.3876 168.308,207.319 168.4273,208.2478 C168.4869,208.7122 168.5465,209.1759 168.6059,209.6389 \" fill=\"none\" id=\"E5-&gt;E2\" style=\"stroke: #A80036; stroke-width: 1.0; stroke-dasharray: 7.0,7.0;\"/><polygon fill=\"#A80036\" points=\"168.6059,209.6389,171.427,200.2027,167.9691,204.6796,163.4922,201.2217,168.6059,209.6389\" style=\"stroke: #A80036; stroke-width: 1.0;\"/><text fill=\"#000000\" font-family=\"sans-serif\" font-size=\"13\" lengthAdjust=\"spacingAndGlyphs\" textLength=\"65\" x=\"166\" y=\"182.0669\">«import»*</text></a><!--MD5=[a717450b82c80b9240a525fa862496af]\n",
       "link E6 to E3--><a href=\"psysml:08f34eb1-8ff4-422d-a9a6-5096bc1237f4\" target=\"_top\" title=\"psysml:08f34eb1-8ff4-422d-a9a6-5096bc1237f4\" xlink:actuate=\"onRequest\" xlink:href=\"psysml:08f34eb1-8ff4-422d-a9a6-5096bc1237f4\" xlink:show=\"new\" xlink:title=\"psysml:08f34eb1-8ff4-422d-a9a6-5096bc1237f4\" xlink:type=\"simple\"><path d=\"M81.05,133.55 C85.7,158.9 93.44,201.1 99.26,232.83 \" fill=\"none\" id=\"E6-&gt;E3\" style=\"stroke: #A80036; stroke-width: 1.0;\"/><polygon fill=\"#FFFFFF\" points=\"102.92,252.78,92.6018,235.3578,106.3713,232.8278,102.92,252.78\" style=\"stroke: #A80036; stroke-width: 1.0;\"/><ellipse cx=\"93.5388\" cy=\"229.3902\" fill=\"#A80036\" rx=\"2\" ry=\"2\" style=\"stroke: #A80036; stroke-width: 1.0;\"/><ellipse cx=\"103.3742\" cy=\"227.5831\" fill=\"#A80036\" rx=\"2\" ry=\"2\" style=\"stroke: #A80036; stroke-width: 1.0;\"/></a><!--MD5=[0375d54f492b7b5683392cebd3a8c5f8]\n",
       "@startuml\r\n",
       "skinparam wrapWidth 300\r\n",
       "hide circle\r\n",
       "\r\n",
       "package \"QualifiedNameImportTest\" as E1  [[psysml:da4cdfd0-3825-4b53-8eea-757999b665bd ]]  {\r\n",
       "package \"P1\" as E2  [[psysml:4a6c4eec-a299-4799-849a-0f6e2ae74607 ]]  {\r\n",
       "comp def \"A\" as E3  <<(T,blue) part  def>> [[psysml:c3954339-5488-4b4b-b1b9-8dc0f4000655 ]] {\r\n",
       "}\r\n",
       "}\r\n",
       "package \"P2\" as E4  [[psysml:eb8258b7-0b9d-4f0f-ab00-8538318b7623 ]]  {\r\n",
       "package \"P2a\" as E5  [[psysml:18e68ffc-3c50-485f-abff-3c07b29f1978 ]]  {\r\n",
       "}\r\n",
       "comp usage \"x: A \" as E6  <<(T,blue) part>> [[psysml:a72efec8-2b60-4f71-833a-33d401001ef7 ]] {\r\n",
       "}\r\n",
       "}\r\n",
       "}\r\n",
       "E5 ..> E2 [[psysml:dfd16e59-ab91-470e-8369-8533004051f7 ]] : <<import>>*\r\n",
       "E6 - -:|> E3 [[psysml:08f34eb1-8ff4-422d-a9a6-5096bc1237f4 ]] \r\n",
       "@enduml\r\n",
       "\n",
       "PlantUML version 1.2020.13(Sat Jun 13 12:26:38 UTC 2020)\n",
       "(EPL source distribution)\n",
       "Java Runtime: OpenJDK Runtime Environment\n",
       "JVM: OpenJDK 64-Bit Server VM\n",
       "Default Encoding: UTF-8\n",
       "Language: en\n",
       "Country: null\n",
       "--></g></svg>"
      ]
     },
     "execution_count": 29,
     "metadata": {},
     "output_type": "execute_result"
    }
   ],
   "source": [
    "%viz --style=\"STDCOLOR\" --view=\"MIXED\" \"QualifiedNameImportTest\""
   ]
  },
  {
   "cell_type": "code",
   "execution_count": 30,
   "id": "9b7a0263",
   "metadata": {
    "execution": {
     "iopub.execute_input": "2022-03-21T07:52:08.563484Z",
     "iopub.status.busy": "2022-03-21T07:52:08.563085Z",
     "iopub.status.idle": "2022-03-21T07:52:08.617806Z",
     "shell.execute_reply": "2022-03-21T07:52:08.615957Z"
    }
   },
   "outputs": [
    {
     "data": {
      "image/svg+xml": [
       "<?xml version=\"1.0\" encoding=\"UTF-8\" standalone=\"no\"?><svg xmlns=\"http://www.w3.org/2000/svg\" xmlns:xlink=\"http://www.w3.org/1999/xlink\" contentScriptType=\"application/ecmascript\" contentStyleType=\"text/css\" height=\"361px\" preserveAspectRatio=\"none\" style=\"width:267px;height:361px;\" version=\"1.1\" viewBox=\"0 0 267 361\" width=\"267px\" zoomAndPan=\"magnify\"><defs><filter height=\"300%\" id=\"f1w304jrt77xmv\" width=\"300%\" x=\"-1\" y=\"-1\"><feGaussianBlur result=\"blurOut\" stdDeviation=\"2.0\"/><feColorMatrix in=\"blurOut\" result=\"blurOut2\" type=\"matrix\" values=\"0 0 0 0 0 0 0 0 0 0 0 0 0 0 0 0 0 0 .4 0\"/><feOffset dx=\"4.0\" dy=\"4.0\" in=\"blurOut2\" result=\"blurOut3\"/><feBlend in=\"SourceGraphic\" in2=\"blurOut3\" mode=\"normal\"/></filter></defs><g><!--MD5=[fbc87193dbaf4d95561dea2c320d4a47]\n",
       "cluster E1--><a href=\"psysml:da4cdfd0-3825-4b53-8eea-757999b665bd\" target=\"_top\" title=\"psysml:da4cdfd0-3825-4b53-8eea-757999b665bd\" xlink:actuate=\"onRequest\" xlink:href=\"psysml:da4cdfd0-3825-4b53-8eea-757999b665bd\" xlink:show=\"new\" xlink:title=\"psysml:da4cdfd0-3825-4b53-8eea-757999b665bd\" xlink:type=\"simple\"><polygon fill=\"#FFFFFF\" filter=\"url(#f1w304jrt77xmv)\" points=\"16,6,196,6,203,28.2969,245,28.2969,245,349,16,349,16,6\" style=\"stroke: #000000; stroke-width: 1.5;\"/><line style=\"stroke: #000000; stroke-width: 1.5;\" x1=\"16\" x2=\"203\" y1=\"28.2969\" y2=\"28.2969\"/><text fill=\"#000000\" font-family=\"sans-serif\" font-size=\"14\" font-weight=\"bold\" lengthAdjust=\"spacingAndGlyphs\" textLength=\"174\" x=\"20\" y=\"20.9951\">QualifiedNameImportTest</text></a><!--MD5=[e4f7fae6ed58524ba242bb0b0d3be6b7]\n",
       "cluster E2--><a href=\"psysml:4a6c4eec-a299-4799-849a-0f6e2ae74607\" target=\"_top\" title=\"psysml:4a6c4eec-a299-4799-849a-0f6e2ae74607\" xlink:actuate=\"onRequest\" xlink:href=\"psysml:4a6c4eec-a299-4799-849a-0f6e2ae74607\" xlink:show=\"new\" xlink:title=\"psysml:4a6c4eec-a299-4799-849a-0f6e2ae74607\" xlink:type=\"simple\"><polygon fill=\"#FFFFFF\" filter=\"url(#f1w304jrt77xmv)\" points=\"55,210,79,210,86,232.2969,162,232.2969,162,317,55,317,55,210\" style=\"stroke: #000000; stroke-width: 1.5;\"/><line style=\"stroke: #000000; stroke-width: 1.5;\" x1=\"55\" x2=\"86\" y1=\"232.2969\" y2=\"232.2969\"/><text fill=\"#000000\" font-family=\"sans-serif\" font-size=\"14\" font-weight=\"bold\" lengthAdjust=\"spacingAndGlyphs\" textLength=\"18\" x=\"59\" y=\"224.9951\">P1</text></a><!--MD5=[f6df4d0ebaf0b5dfb2ced0ae5af7c670]\n",
       "cluster E4--><a href=\"psysml:eb8258b7-0b9d-4f0f-ab00-8538318b7623\" target=\"_top\" title=\"psysml:eb8258b7-0b9d-4f0f-ab00-8538318b7623\" xlink:actuate=\"onRequest\" xlink:href=\"psysml:eb8258b7-0b9d-4f0f-ab00-8538318b7623\" xlink:show=\"new\" xlink:title=\"psysml:eb8258b7-0b9d-4f0f-ab00-8538318b7623\" xlink:type=\"simple\"><polygon fill=\"#FFFFFF\" filter=\"url(#f1w304jrt77xmv)\" points=\"40,49,64,49,71,71.2969,221,71.2969,221,153,40,153,40,49\" style=\"stroke: #000000; stroke-width: 1.5;\"/><line style=\"stroke: #000000; stroke-width: 1.5;\" x1=\"40\" x2=\"71\" y1=\"71.2969\" y2=\"71.2969\"/><text fill=\"#000000\" font-family=\"sans-serif\" font-size=\"14\" font-weight=\"bold\" lengthAdjust=\"spacingAndGlyphs\" textLength=\"18\" x=\"44\" y=\"63.9951\">P2</text></a><!--MD5=[09b614a08d8cba4a07c9adeb5e0fee81]\n",
       "class E3--><a href=\"psysml:c3954339-5488-4b4b-b1b9-8dc0f4000655\" target=\"_top\" title=\"psysml:c3954339-5488-4b4b-b1b9-8dc0f4000655\" xlink:actuate=\"onRequest\" xlink:href=\"psysml:c3954339-5488-4b4b-b1b9-8dc0f4000655\" xlink:show=\"new\" xlink:title=\"psysml:c3954339-5488-4b4b-b1b9-8dc0f4000655\" xlink:type=\"simple\"><rect fill=\"#FEFECE\" filter=\"url(#f1w304jrt77xmv)\" height=\"40\" id=\"E3\" style=\"stroke: #A80036; stroke-width: 1.5;\" width=\"40\" x=\"79\" y=\"253\"/><ellipse cx=\"94\" cy=\"269\" fill=\"#008000\" rx=\"11\" ry=\"11\" style=\"stroke: #A80036; stroke-width: 1.0;\"/><path d=\"M90.875,274 L90.875,263.4063 L94.1094,263.4063 Q96.0156,263.4063 96.9219,264.1563 Q97.8438,264.9063 97.8438,266.0781 Q97.8438,266.7656 97.4531,267.4219 Q97.0781,268.0781 96.3594,268.375 Q97.2188,268.75 97.7344,269.4375 Q98.25,270.125 98.25,270.9375 Q98.25,272.3125 97.2188,273.1563 Q96.2031,274 94.0938,274 L90.875,274 Z M92.7969,267.6406 L93.9531,267.6406 Q95.0781,267.6406 95.4844,267.2656 Q95.9063,266.875 95.9063,266.25 Q95.9063,265.6719 95.4844,265.3125 Q95.0625,264.9531 94.125,264.9531 L92.7969,264.9531 L92.7969,267.6406 Z M92.7969,272.4219 L94.2969,272.4219 Q95.2031,272.4219 95.7344,272.0313 Q96.2656,271.6406 96.2656,270.8906 Q96.2656,270.125 95.7656,269.6563 Q95.2656,269.1719 94,269.1719 L92.7969,269.1719 L92.7969,272.4219 Z \"/><text fill=\"#000000\" font-family=\"sans-serif\" font-size=\"12\" lengthAdjust=\"spacingAndGlyphs\" textLength=\"8\" x=\"108\" y=\"273.1543\">A</text><line style=\"stroke: #A80036; stroke-width: 1.5;\" x1=\"80\" x2=\"118\" y1=\"285\" y2=\"285\"/></a><!--MD5=[60a26617385b1d2d0262a64233df1f8d]\n",
       "class E6--><a href=\"psysml:a72efec8-2b60-4f71-833a-33d401001ef7\" target=\"_top\" title=\"psysml:a72efec8-2b60-4f71-833a-33d401001ef7\" xlink:actuate=\"onRequest\" xlink:href=\"psysml:a72efec8-2b60-4f71-833a-33d401001ef7\" xlink:show=\"new\" xlink:title=\"psysml:a72efec8-2b60-4f71-833a-33d401001ef7\" xlink:type=\"simple\"><rect fill=\"#FEFECE\" filter=\"url(#f1w304jrt77xmv)\" height=\"45.9375\" id=\"E6\" rx=\"10\" ry=\"10\" style=\"stroke: #A80036; stroke-width: 1.5;\" width=\"68\" x=\"56\" y=\"87.5\"/><ellipse cx=\"71\" cy=\"106.4688\" fill=\"#32CD32\" rx=\"11\" ry=\"11\" style=\"stroke: #A80036; stroke-width: 1.0;\"/><path d=\"M67.8125,111.4688 L67.8125,100.875 L71.4219,100.875 Q72.6406,100.875 73.4375,101.3125 Q74.2344,101.7344 74.6094,102.4375 Q75,103.1406 75,103.9844 Q75,104.8281 74.625,105.5156 Q74.2656,106.2031 73.4688,106.625 Q72.6875,107.0313 71.5,107.0313 L69.7656,107.0313 L69.7656,111.4688 L67.8125,111.4688 Z M69.7656,105.4375 L71.375,105.4375 Q72.1875,105.4375 72.6094,105.0313 Q73.0313,104.625 73.0313,103.9844 Q73.0313,103.3594 72.6094,102.9531 Q72.1875,102.5469 71.3906,102.5469 L69.7656,102.5469 L69.7656,105.4375 Z \"/><text fill=\"#000000\" font-family=\"sans-serif\" font-size=\"12\" font-style=\"italic\" lengthAdjust=\"spacingAndGlyphs\" textLength=\"40\" x=\"83\" y=\"103.6387\">«part»</text><text fill=\"#000000\" font-family=\"sans-serif\" font-size=\"12\" lengthAdjust=\"spacingAndGlyphs\" textLength=\"22\" x=\"90\" y=\"117.6074\">x: A</text><line style=\"stroke: #A80036; stroke-width: 1.5;\" x1=\"57\" x2=\"123\" y1=\"125.4375\" y2=\"125.4375\"/></a><a href=\"psysml:18e68ffc-3c50-485f-abff-3c07b29f1978\" target=\"_top\" title=\"psysml:18e68ffc-3c50-485f-abff-3c07b29f1978\" xlink:actuate=\"onRequest\" xlink:href=\"psysml:18e68ffc-3c50-485f-abff-3c07b29f1978\" xlink:show=\"new\" xlink:title=\"psysml:18e68ffc-3c50-485f-abff-3c07b29f1978\" xlink:type=\"simple\"><polygon fill=\"#FFFFFF\" filter=\"url(#f1w304jrt77xmv)\" points=\"159,84,191,84,198,106.2969,205,106.2969,205,136.5938,159,136.5938,159,84\" style=\"stroke: #000000; stroke-width: 1.5;\"/><line style=\"stroke: #000000; stroke-width: 1.5;\" x1=\"159\" x2=\"198\" y1=\"106.2969\" y2=\"106.2969\"/><text fill=\"#000000\" font-family=\"sans-serif\" font-size=\"14\" font-weight=\"bold\" lengthAdjust=\"spacingAndGlyphs\" textLength=\"26\" x=\"163\" y=\"98.9951\">P2a</text></a><!--MD5=[15ebcb19ae302d9b601edb458606d402]\n",
       "link E5 to E2--><a href=\"psysml:dfd16e59-ab91-470e-8369-8533004051f7\" target=\"_top\" title=\"psysml:dfd16e59-ab91-470e-8369-8533004051f7\" xlink:actuate=\"onRequest\" xlink:href=\"psysml:dfd16e59-ab91-470e-8369-8533004051f7\" xlink:show=\"new\" xlink:title=\"psysml:dfd16e59-ab91-470e-8369-8533004051f7\" xlink:type=\"simple\"><path d=\"M177.5,137.29 C173.605,159.62 167.8525,192.6025 163.0138,220.3425 C162.7113,222.0763 162.4125,223.7895 162.1179,225.4784 C162.081,225.6895 162.0443,225.9003 162.0076,226.1106 \" fill=\"none\" id=\"E5-&gt;E2\" style=\"stroke: #A80036; stroke-width: 1.0; stroke-dasharray: 7.0,7.0;\"/><polygon fill=\"#A80036\" points=\"162.0076,226.1106,167.4947,217.9319,162.8668,221.185,159.6137,216.5571,162.0076,226.1106\" style=\"stroke: #A80036; stroke-width: 1.0;\"/><text fill=\"#000000\" font-family=\"sans-serif\" font-size=\"13\" lengthAdjust=\"spacingAndGlyphs\" textLength=\"65\" x=\"172\" y=\"182.0669\">«import»*</text></a><!--MD5=[a717450b82c80b9240a525fa862496af]\n",
       "link E6 to E3--><a href=\"psysml:08f34eb1-8ff4-422d-a9a6-5096bc1237f4\" target=\"_top\" title=\"psysml:08f34eb1-8ff4-422d-a9a6-5096bc1237f4\" xlink:actuate=\"onRequest\" xlink:href=\"psysml:08f34eb1-8ff4-422d-a9a6-5096bc1237f4\" xlink:show=\"new\" xlink:title=\"psysml:08f34eb1-8ff4-422d-a9a6-5096bc1237f4\" xlink:type=\"simple\"><path d=\"M91.25,133.82 C92.68,159.32 95.05,201.55 96.79,232.62 \" fill=\"none\" id=\"E6-&gt;E3\" style=\"stroke: #A80036; stroke-width: 1.0;\"/><polygon fill=\"#FFFFFF\" points=\"97.93,252.88,89.8824,234.2995,103.8607,233.5196,97.93,252.88\" style=\"stroke: #A80036; stroke-width: 1.0;\"/><ellipse cx=\"91.5618\" cy=\"228.4969\" fill=\"#A80036\" rx=\"2\" ry=\"2\" style=\"stroke: #A80036; stroke-width: 1.0;\"/><ellipse cx=\"101.5463\" cy=\"227.9398\" fill=\"#A80036\" rx=\"2\" ry=\"2\" style=\"stroke: #A80036; stroke-width: 1.0;\"/></a><!--MD5=[4cfd84072c45f5dae25979a21363e58a]\n",
       "@startuml\r\n",
       " \r\n",
       "package \"QualifiedNameImportTest\" as E1  [[psysml:da4cdfd0-3825-4b53-8eea-757999b665bd ]]  {\r\n",
       "package \"P1\" as E2  [[psysml:4a6c4eec-a299-4799-849a-0f6e2ae74607 ]]  {\r\n",
       "comp def \"A\" as E3 << << (B,green) >> [[psysml:c3954339-5488-4b4b-b1b9-8dc0f4000655 ]] {\r\n",
       "}\r\n",
       "}\r\n",
       "package \"P2\" as E4  [[psysml:eb8258b7-0b9d-4f0f-ab00-8538318b7623 ]]  {\r\n",
       "package \"P2a\" as E5  [[psysml:18e68ffc-3c50-485f-abff-3c07b29f1978 ]]  {\r\n",
       "}\r\n",
       "comp usage \"x: A \" as E6 << << (P,limegreen) part>> [[psysml:a72efec8-2b60-4f71-833a-33d401001ef7 ]] {\r\n",
       "}\r\n",
       "}\r\n",
       "}\r\n",
       "E5 ..> E2 [[psysml:dfd16e59-ab91-470e-8369-8533004051f7 ]] : <<import>>*\r\n",
       "E6 - -:|> E3 [[psysml:08f34eb1-8ff4-422d-a9a6-5096bc1237f4 ]] \r\n",
       "@enduml\r\n",
       "\n",
       "PlantUML version 1.2020.13(Sat Jun 13 12:26:38 UTC 2020)\n",
       "(EPL source distribution)\n",
       "Java Runtime: OpenJDK Runtime Environment\n",
       "JVM: OpenJDK 64-Bit Server VM\n",
       "Default Encoding: UTF-8\n",
       "Language: en\n",
       "Country: null\n",
       "--></g></svg>"
      ]
     },
     "execution_count": 30,
     "metadata": {},
     "output_type": "execute_result"
    }
   ],
   "source": [
    "%viz --style=\"PLANTUML\" --view=\"Default\" \"QualifiedNameImportTest\""
   ]
  },
  {
   "cell_type": "code",
   "execution_count": 31,
   "id": "bf5c26de",
   "metadata": {
    "execution": {
     "iopub.execute_input": "2022-03-21T07:52:08.666572Z",
     "iopub.status.busy": "2022-03-21T07:52:08.666145Z",
     "iopub.status.idle": "2022-03-21T07:52:08.693323Z",
     "shell.execute_reply": "2022-03-21T07:52:08.692808Z"
    }
   },
   "outputs": [
    {
     "data": {
      "image/svg+xml": [
       "<?xml version=\"1.0\" encoding=\"UTF-8\" standalone=\"no\"?><svg xmlns=\"http://www.w3.org/2000/svg\" xmlns:xlink=\"http://www.w3.org/1999/xlink\" contentScriptType=\"application/ecmascript\" contentStyleType=\"text/css\" height=\"361px\" preserveAspectRatio=\"none\" style=\"width:267px;height:361px;\" version=\"1.1\" viewBox=\"0 0 267 361\" width=\"267px\" zoomAndPan=\"magnify\"><defs><filter height=\"300%\" id=\"f1w304jrt77xmv\" width=\"300%\" x=\"-1\" y=\"-1\"><feGaussianBlur result=\"blurOut\" stdDeviation=\"2.0\"/><feColorMatrix in=\"blurOut\" result=\"blurOut2\" type=\"matrix\" values=\"0 0 0 0 0 0 0 0 0 0 0 0 0 0 0 0 0 0 .4 0\"/><feOffset dx=\"4.0\" dy=\"4.0\" in=\"blurOut2\" result=\"blurOut3\"/><feBlend in=\"SourceGraphic\" in2=\"blurOut3\" mode=\"normal\"/></filter></defs><g><!--MD5=[fbc87193dbaf4d95561dea2c320d4a47]\n",
       "cluster E1--><a href=\"psysml:da4cdfd0-3825-4b53-8eea-757999b665bd\" target=\"_top\" title=\"psysml:da4cdfd0-3825-4b53-8eea-757999b665bd\" xlink:actuate=\"onRequest\" xlink:href=\"psysml:da4cdfd0-3825-4b53-8eea-757999b665bd\" xlink:show=\"new\" xlink:title=\"psysml:da4cdfd0-3825-4b53-8eea-757999b665bd\" xlink:type=\"simple\"><polygon fill=\"#FFFFFF\" filter=\"url(#f1w304jrt77xmv)\" points=\"16,6,196,6,203,28.2969,245,28.2969,245,349,16,349,16,6\" style=\"stroke: #000000; stroke-width: 1.5;\"/><line style=\"stroke: #000000; stroke-width: 1.5;\" x1=\"16\" x2=\"203\" y1=\"28.2969\" y2=\"28.2969\"/><text fill=\"#000000\" font-family=\"sans-serif\" font-size=\"14\" font-weight=\"bold\" lengthAdjust=\"spacingAndGlyphs\" textLength=\"174\" x=\"20\" y=\"20.9951\">QualifiedNameImportTest</text></a><!--MD5=[e4f7fae6ed58524ba242bb0b0d3be6b7]\n",
       "cluster E2--><a href=\"psysml:4a6c4eec-a299-4799-849a-0f6e2ae74607\" target=\"_top\" title=\"psysml:4a6c4eec-a299-4799-849a-0f6e2ae74607\" xlink:actuate=\"onRequest\" xlink:href=\"psysml:4a6c4eec-a299-4799-849a-0f6e2ae74607\" xlink:show=\"new\" xlink:title=\"psysml:4a6c4eec-a299-4799-849a-0f6e2ae74607\" xlink:type=\"simple\"><polygon fill=\"#FFFFFF\" filter=\"url(#f1w304jrt77xmv)\" points=\"55,210,79,210,86,232.2969,162,232.2969,162,317,55,317,55,210\" style=\"stroke: #000000; stroke-width: 1.5;\"/><line style=\"stroke: #000000; stroke-width: 1.5;\" x1=\"55\" x2=\"86\" y1=\"232.2969\" y2=\"232.2969\"/><text fill=\"#000000\" font-family=\"sans-serif\" font-size=\"14\" font-weight=\"bold\" lengthAdjust=\"spacingAndGlyphs\" textLength=\"18\" x=\"59\" y=\"224.9951\">P1</text></a><!--MD5=[f6df4d0ebaf0b5dfb2ced0ae5af7c670]\n",
       "cluster E4--><a href=\"psysml:eb8258b7-0b9d-4f0f-ab00-8538318b7623\" target=\"_top\" title=\"psysml:eb8258b7-0b9d-4f0f-ab00-8538318b7623\" xlink:actuate=\"onRequest\" xlink:href=\"psysml:eb8258b7-0b9d-4f0f-ab00-8538318b7623\" xlink:show=\"new\" xlink:title=\"psysml:eb8258b7-0b9d-4f0f-ab00-8538318b7623\" xlink:type=\"simple\"><polygon fill=\"#FFFFFF\" filter=\"url(#f1w304jrt77xmv)\" points=\"40,49,64,49,71,71.2969,221,71.2969,221,153,40,153,40,49\" style=\"stroke: #000000; stroke-width: 1.5;\"/><line style=\"stroke: #000000; stroke-width: 1.5;\" x1=\"40\" x2=\"71\" y1=\"71.2969\" y2=\"71.2969\"/><text fill=\"#000000\" font-family=\"sans-serif\" font-size=\"14\" font-weight=\"bold\" lengthAdjust=\"spacingAndGlyphs\" textLength=\"18\" x=\"44\" y=\"63.9951\">P2</text></a><!--MD5=[09b614a08d8cba4a07c9adeb5e0fee81]\n",
       "class E3--><a href=\"psysml:c3954339-5488-4b4b-b1b9-8dc0f4000655\" target=\"_top\" title=\"psysml:c3954339-5488-4b4b-b1b9-8dc0f4000655\" xlink:actuate=\"onRequest\" xlink:href=\"psysml:c3954339-5488-4b4b-b1b9-8dc0f4000655\" xlink:show=\"new\" xlink:title=\"psysml:c3954339-5488-4b4b-b1b9-8dc0f4000655\" xlink:type=\"simple\"><rect fill=\"#FEFECE\" filter=\"url(#f1w304jrt77xmv)\" height=\"40\" id=\"E3\" style=\"stroke: #A80036; stroke-width: 1.5;\" width=\"40\" x=\"79\" y=\"253\"/><ellipse cx=\"94\" cy=\"269\" fill=\"#008000\" rx=\"11\" ry=\"11\" style=\"stroke: #A80036; stroke-width: 1.0;\"/><path d=\"M90.875,274 L90.875,263.4063 L94.1094,263.4063 Q96.0156,263.4063 96.9219,264.1563 Q97.8438,264.9063 97.8438,266.0781 Q97.8438,266.7656 97.4531,267.4219 Q97.0781,268.0781 96.3594,268.375 Q97.2188,268.75 97.7344,269.4375 Q98.25,270.125 98.25,270.9375 Q98.25,272.3125 97.2188,273.1563 Q96.2031,274 94.0938,274 L90.875,274 Z M92.7969,267.6406 L93.9531,267.6406 Q95.0781,267.6406 95.4844,267.2656 Q95.9063,266.875 95.9063,266.25 Q95.9063,265.6719 95.4844,265.3125 Q95.0625,264.9531 94.125,264.9531 L92.7969,264.9531 L92.7969,267.6406 Z M92.7969,272.4219 L94.2969,272.4219 Q95.2031,272.4219 95.7344,272.0313 Q96.2656,271.6406 96.2656,270.8906 Q96.2656,270.125 95.7656,269.6563 Q95.2656,269.1719 94,269.1719 L92.7969,269.1719 L92.7969,272.4219 Z \"/><text fill=\"#000000\" font-family=\"sans-serif\" font-size=\"12\" lengthAdjust=\"spacingAndGlyphs\" textLength=\"8\" x=\"108\" y=\"273.1543\">A</text><line style=\"stroke: #A80036; stroke-width: 1.5;\" x1=\"80\" x2=\"118\" y1=\"285\" y2=\"285\"/></a><!--MD5=[60a26617385b1d2d0262a64233df1f8d]\n",
       "class E6--><a href=\"psysml:a72efec8-2b60-4f71-833a-33d401001ef7\" target=\"_top\" title=\"psysml:a72efec8-2b60-4f71-833a-33d401001ef7\" xlink:actuate=\"onRequest\" xlink:href=\"psysml:a72efec8-2b60-4f71-833a-33d401001ef7\" xlink:show=\"new\" xlink:title=\"psysml:a72efec8-2b60-4f71-833a-33d401001ef7\" xlink:type=\"simple\"><rect fill=\"#FEFECE\" filter=\"url(#f1w304jrt77xmv)\" height=\"45.9375\" id=\"E6\" rx=\"10\" ry=\"10\" style=\"stroke: #A80036; stroke-width: 1.5;\" width=\"68\" x=\"56\" y=\"87.5\"/><ellipse cx=\"71\" cy=\"106.4688\" fill=\"#32CD32\" rx=\"11\" ry=\"11\" style=\"stroke: #A80036; stroke-width: 1.0;\"/><path d=\"M67.8125,111.4688 L67.8125,100.875 L71.4219,100.875 Q72.6406,100.875 73.4375,101.3125 Q74.2344,101.7344 74.6094,102.4375 Q75,103.1406 75,103.9844 Q75,104.8281 74.625,105.5156 Q74.2656,106.2031 73.4688,106.625 Q72.6875,107.0313 71.5,107.0313 L69.7656,107.0313 L69.7656,111.4688 L67.8125,111.4688 Z M69.7656,105.4375 L71.375,105.4375 Q72.1875,105.4375 72.6094,105.0313 Q73.0313,104.625 73.0313,103.9844 Q73.0313,103.3594 72.6094,102.9531 Q72.1875,102.5469 71.3906,102.5469 L69.7656,102.5469 L69.7656,105.4375 Z \"/><text fill=\"#000000\" font-family=\"sans-serif\" font-size=\"12\" font-style=\"italic\" lengthAdjust=\"spacingAndGlyphs\" textLength=\"40\" x=\"83\" y=\"103.6387\">«part»</text><text fill=\"#000000\" font-family=\"sans-serif\" font-size=\"12\" lengthAdjust=\"spacingAndGlyphs\" textLength=\"22\" x=\"90\" y=\"117.6074\">x: A</text><line style=\"stroke: #A80036; stroke-width: 1.5;\" x1=\"57\" x2=\"123\" y1=\"125.4375\" y2=\"125.4375\"/></a><a href=\"psysml:18e68ffc-3c50-485f-abff-3c07b29f1978\" target=\"_top\" title=\"psysml:18e68ffc-3c50-485f-abff-3c07b29f1978\" xlink:actuate=\"onRequest\" xlink:href=\"psysml:18e68ffc-3c50-485f-abff-3c07b29f1978\" xlink:show=\"new\" xlink:title=\"psysml:18e68ffc-3c50-485f-abff-3c07b29f1978\" xlink:type=\"simple\"><polygon fill=\"#FFFFFF\" filter=\"url(#f1w304jrt77xmv)\" points=\"159,84,191,84,198,106.2969,205,106.2969,205,136.5938,159,136.5938,159,84\" style=\"stroke: #000000; stroke-width: 1.5;\"/><line style=\"stroke: #000000; stroke-width: 1.5;\" x1=\"159\" x2=\"198\" y1=\"106.2969\" y2=\"106.2969\"/><text fill=\"#000000\" font-family=\"sans-serif\" font-size=\"14\" font-weight=\"bold\" lengthAdjust=\"spacingAndGlyphs\" textLength=\"26\" x=\"163\" y=\"98.9951\">P2a</text></a><!--MD5=[15ebcb19ae302d9b601edb458606d402]\n",
       "link E5 to E2--><a href=\"psysml:dfd16e59-ab91-470e-8369-8533004051f7\" target=\"_top\" title=\"psysml:dfd16e59-ab91-470e-8369-8533004051f7\" xlink:actuate=\"onRequest\" xlink:href=\"psysml:dfd16e59-ab91-470e-8369-8533004051f7\" xlink:show=\"new\" xlink:title=\"psysml:dfd16e59-ab91-470e-8369-8533004051f7\" xlink:type=\"simple\"><path d=\"M177.5,137.29 C173.605,159.62 167.8525,192.6025 163.0138,220.3425 C162.7113,222.0763 162.4125,223.7895 162.1179,225.4784 C162.081,225.6895 162.0443,225.9003 162.0076,226.1106 \" fill=\"none\" id=\"E5-&gt;E2\" style=\"stroke: #A80036; stroke-width: 1.0; stroke-dasharray: 7.0,7.0;\"/><polygon fill=\"#A80036\" points=\"162.0076,226.1106,167.4947,217.9319,162.8668,221.185,159.6137,216.5571,162.0076,226.1106\" style=\"stroke: #A80036; stroke-width: 1.0;\"/><text fill=\"#000000\" font-family=\"sans-serif\" font-size=\"13\" lengthAdjust=\"spacingAndGlyphs\" textLength=\"65\" x=\"172\" y=\"182.0669\">«import»*</text></a><!--MD5=[a717450b82c80b9240a525fa862496af]\n",
       "link E6 to E3--><a href=\"psysml:08f34eb1-8ff4-422d-a9a6-5096bc1237f4\" target=\"_top\" title=\"psysml:08f34eb1-8ff4-422d-a9a6-5096bc1237f4\" xlink:actuate=\"onRequest\" xlink:href=\"psysml:08f34eb1-8ff4-422d-a9a6-5096bc1237f4\" xlink:show=\"new\" xlink:title=\"psysml:08f34eb1-8ff4-422d-a9a6-5096bc1237f4\" xlink:type=\"simple\"><path d=\"M91.25,133.82 C92.68,159.32 95.05,201.55 96.79,232.62 \" fill=\"none\" id=\"E6-&gt;E3\" style=\"stroke: #A80036; stroke-width: 1.0;\"/><polygon fill=\"#FFFFFF\" points=\"97.93,252.88,89.8824,234.2995,103.8607,233.5196,97.93,252.88\" style=\"stroke: #A80036; stroke-width: 1.0;\"/><ellipse cx=\"91.5618\" cy=\"228.4969\" fill=\"#A80036\" rx=\"2\" ry=\"2\" style=\"stroke: #A80036; stroke-width: 1.0;\"/><ellipse cx=\"101.5463\" cy=\"227.9398\" fill=\"#A80036\" rx=\"2\" ry=\"2\" style=\"stroke: #A80036; stroke-width: 1.0;\"/></a><!--MD5=[4cfd84072c45f5dae25979a21363e58a]\n",
       "@startuml\r\n",
       " \r\n",
       "package \"QualifiedNameImportTest\" as E1  [[psysml:da4cdfd0-3825-4b53-8eea-757999b665bd ]]  {\r\n",
       "package \"P1\" as E2  [[psysml:4a6c4eec-a299-4799-849a-0f6e2ae74607 ]]  {\r\n",
       "comp def \"A\" as E3 << << (B,green) >> [[psysml:c3954339-5488-4b4b-b1b9-8dc0f4000655 ]] {\r\n",
       "}\r\n",
       "}\r\n",
       "package \"P2\" as E4  [[psysml:eb8258b7-0b9d-4f0f-ab00-8538318b7623 ]]  {\r\n",
       "package \"P2a\" as E5  [[psysml:18e68ffc-3c50-485f-abff-3c07b29f1978 ]]  {\r\n",
       "}\r\n",
       "comp usage \"x: A \" as E6 << << (P,limegreen) part>> [[psysml:a72efec8-2b60-4f71-833a-33d401001ef7 ]] {\r\n",
       "}\r\n",
       "}\r\n",
       "}\r\n",
       "E5 ..> E2 [[psysml:dfd16e59-ab91-470e-8369-8533004051f7 ]] : <<import>>*\r\n",
       "E6 - -:|> E3 [[psysml:08f34eb1-8ff4-422d-a9a6-5096bc1237f4 ]] \r\n",
       "@enduml\r\n",
       "\n",
       "PlantUML version 1.2020.13(Sat Jun 13 12:26:38 UTC 2020)\n",
       "(EPL source distribution)\n",
       "Java Runtime: OpenJDK Runtime Environment\n",
       "JVM: OpenJDK 64-Bit Server VM\n",
       "Default Encoding: UTF-8\n",
       "Language: en\n",
       "Country: null\n",
       "--></g></svg>"
      ]
     },
     "execution_count": 31,
     "metadata": {},
     "output_type": "execute_result"
    }
   ],
   "source": [
    "%viz --style=\"PLANTUML\" --view=\"Tree\" \"QualifiedNameImportTest\""
   ]
  },
  {
   "cell_type": "code",
   "execution_count": 32,
   "id": "3eb15686",
   "metadata": {
    "execution": {
     "iopub.execute_input": "2022-03-21T07:52:08.742527Z",
     "iopub.status.busy": "2022-03-21T07:52:08.742114Z",
     "iopub.status.idle": "2022-03-21T07:52:08.848480Z",
     "shell.execute_reply": "2022-03-21T07:52:08.846981Z"
    }
   },
   "outputs": [
    {
     "data": {
      "image/svg+xml": [
       "<?xml version=\"1.0\" encoding=\"UTF-8\" standalone=\"no\"?><svg xmlns=\"http://www.w3.org/2000/svg\" xmlns:xlink=\"http://www.w3.org/1999/xlink\" contentScriptType=\"application/ecmascript\" contentStyleType=\"text/css\" height=\"300px\" preserveAspectRatio=\"none\" style=\"width:603px;height:300px;background:#000000;\" version=\"1.1\" viewBox=\"0 0 603 300\" width=\"603px\" zoomAndPan=\"magnify\"><defs/><g><rect fill=\"#1C2303\" height=\"1\" style=\"stroke: #1C2303; stroke-width: 1.0;\" width=\"1\" x=\"0\" y=\"0\"/><rect fill=\"#FFFFFF\" height=\"202.8012\" style=\"stroke: #FFFFFF; stroke-width: 1.0;\" width=\"602\" x=\"0\" y=\"0\"/><text fill=\"#000000\" font-family=\"sans-serif\" font-size=\"12\" font-weight=\"bold\" lengthAdjust=\"spacingAndGlyphs\" textLength=\"139\" x=\"5\" y=\"16.1387\">Welcome to PlantUML!</text><text fill=\"#000000\" font-family=\"sans-serif\" font-size=\"12\" lengthAdjust=\"spacingAndGlyphs\" textLength=\"0\" x=\"9\" y=\"30.1074\"/><text fill=\"#000000\" font-family=\"sans-serif\" font-size=\"12\" lengthAdjust=\"spacingAndGlyphs\" textLength=\"293\" x=\"5\" y=\"44.0762\">If you use this software, you accept its license.</text><text fill=\"#000000\" font-family=\"sans-serif\" font-size=\"12\" lengthAdjust=\"spacingAndGlyphs\" textLength=\"107\" x=\"5\" y=\"58.0449\">(details by typing</text><text fill=\"#000000\" font-family=\"monospace\" font-size=\"12\" lengthAdjust=\"spacingAndGlyphs\" textLength=\"42\" x=\"116\" y=\"58.595\">license</text><text fill=\"#000000\" font-family=\"sans-serif\" font-size=\"12\" lengthAdjust=\"spacingAndGlyphs\" textLength=\"56\" x=\"162\" y=\"58.0449\">keyword)</text><text fill=\"#000000\" font-family=\"sans-serif\" font-size=\"12\" lengthAdjust=\"spacingAndGlyphs\" textLength=\"0\" x=\"9\" y=\"72.0137\"/><text fill=\"#000000\" font-family=\"sans-serif\" font-size=\"12\" lengthAdjust=\"spacingAndGlyphs\" textLength=\"283\" x=\"5\" y=\"85.9824\">You can start with a simple UML Diagram like:</text><text fill=\"#000000\" font-family=\"sans-serif\" font-size=\"12\" lengthAdjust=\"spacingAndGlyphs\" textLength=\"0\" x=\"9\" y=\"99.9512\"/><text fill=\"#000000\" font-family=\"monospace\" font-size=\"12\" lengthAdjust=\"spacingAndGlyphs\" textLength=\"102\" x=\"5\" y=\"113.0893\">Bob-&gt;Alice: Hello</text><text fill=\"#000000\" font-family=\"sans-serif\" font-size=\"12\" lengthAdjust=\"spacingAndGlyphs\" textLength=\"0\" x=\"9\" y=\"126.508\"/><text fill=\"#000000\" font-family=\"sans-serif\" font-size=\"12\" lengthAdjust=\"spacingAndGlyphs\" textLength=\"14\" x=\"5\" y=\"140.4768\">Or</text><text fill=\"#000000\" font-family=\"sans-serif\" font-size=\"12\" lengthAdjust=\"spacingAndGlyphs\" textLength=\"0\" x=\"9\" y=\"154.4455\"/><text fill=\"#000000\" font-family=\"monospace\" font-size=\"12\" lengthAdjust=\"spacingAndGlyphs\" textLength=\"78\" x=\"5\" y=\"167.5837\">class Example</text><text fill=\"#000000\" font-family=\"sans-serif\" font-size=\"12\" lengthAdjust=\"spacingAndGlyphs\" textLength=\"0\" x=\"9\" y=\"181.0023\"/><text fill=\"#000000\" font-family=\"sans-serif\" font-size=\"12\" lengthAdjust=\"spacingAndGlyphs\" textLength=\"349\" x=\"5\" y=\"194.9711\">You will find more information about PlantUML syntax on</text><text fill=\"#000000\" font-family=\"sans-serif\" font-size=\"12\" lengthAdjust=\"spacingAndGlyphs\" text-decoration=\"underline\" textLength=\"129\" x=\"358\" y=\"194.9711\">https://plantuml.com</text><image height=\"71\" width=\"80\" x=\"516\" xlink:href=\"data:image/png;base64,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\" y=\"6\"/><rect fill=\"#000000\" height=\"96.4844\" style=\"stroke: #000000; stroke-width: 1.0;\" width=\"602\" x=\"0\" y=\"202.8012\"/><rect fill=\"#33FF02\" height=\"21.2969\" style=\"stroke: #33FF02; stroke-width: 1.0;\" width=\"145\" x=\"5\" y=\"207.8012\"/><text fill=\"#000000\" font-family=\"sans-serif\" font-size=\"14\" font-weight=\"bold\" lengthAdjust=\"spacingAndGlyphs\" textLength=\"143\" x=\"6\" y=\"222.8012\">[From string (line 2) ]</text><text fill=\"#33FF02\" font-family=\"sans-serif\" font-size=\"14\" font-weight=\"bold\" lengthAdjust=\"spacingAndGlyphs\" textLength=\"0\" x=\"9\" y=\"243.0981\"/><text fill=\"#33FF02\" font-family=\"sans-serif\" font-size=\"14\" font-weight=\"bold\" lengthAdjust=\"spacingAndGlyphs\" textLength=\"70\" x=\"5\" y=\"259.3949\">@startuml</text><text fill=\"#33FF02\" font-family=\"sans-serif\" font-size=\"14\" font-weight=\"bold\" lengthAdjust=\"spacingAndGlyphs\" textLength=\"0\" x=\"9\" y=\"275.6918\"/><text fill=\"#FF0000\" font-family=\"sans-serif\" font-size=\"14\" font-weight=\"bold\" lengthAdjust=\"spacingAndGlyphs\" textLength=\"124\" x=\"9\" y=\"291.9887\">Empty description</text><!--MD5=[f59edd8218d337f74d0c332fc6737304]\n",
       "@startuml\r\n",
       " \r\n",
       "@enduml\r\n",
       "\n",
       "PlantUML version 1.2020.13(Sat Jun 13 12:26:38 UTC 2020)\n",
       "(EPL source distribution)\n",
       "Java Runtime: OpenJDK Runtime Environment\n",
       "JVM: OpenJDK 64-Bit Server VM\n",
       "Default Encoding: UTF-8\n",
       "Language: en\n",
       "Country: null\n",
       "--></g></svg>"
      ]
     },
     "execution_count": 32,
     "metadata": {},
     "output_type": "execute_result"
    }
   ],
   "source": [
    "%viz --style=\"PLANTUML\" --view=\"State\" \"QualifiedNameImportTest\""
   ]
  },
  {
   "cell_type": "code",
   "execution_count": 33,
   "id": "225c3337",
   "metadata": {
    "execution": {
     "iopub.execute_input": "2022-03-21T07:52:08.897244Z",
     "iopub.status.busy": "2022-03-21T07:52:08.896825Z",
     "iopub.status.idle": "2022-03-21T07:52:08.922901Z",
     "shell.execute_reply": "2022-03-21T07:52:08.922399Z"
    }
   },
   "outputs": [
    {
     "data": {
      "image/svg+xml": [
       "<?xml version=\"1.0\" encoding=\"UTF-8\" standalone=\"no\"?><svg xmlns=\"http://www.w3.org/2000/svg\" xmlns:xlink=\"http://www.w3.org/1999/xlink\" contentScriptType=\"application/ecmascript\" contentStyleType=\"text/css\" height=\"361px\" preserveAspectRatio=\"none\" style=\"width:259px;height:361px;\" version=\"1.1\" viewBox=\"0 0 259 361\" width=\"259px\" zoomAndPan=\"magnify\"><defs><filter height=\"300%\" id=\"fztarvo01wcyy\" width=\"300%\" x=\"-1\" y=\"-1\"><feGaussianBlur result=\"blurOut\" stdDeviation=\"2.0\"/><feColorMatrix in=\"blurOut\" result=\"blurOut2\" type=\"matrix\" values=\"0 0 0 0 0 0 0 0 0 0 0 0 0 0 0 0 0 0 .4 0\"/><feOffset dx=\"4.0\" dy=\"4.0\" in=\"blurOut2\" result=\"blurOut3\"/><feBlend in=\"SourceGraphic\" in2=\"blurOut3\" mode=\"normal\"/></filter></defs><g><!--MD5=[fbc87193dbaf4d95561dea2c320d4a47]\n",
       "cluster E1--><a href=\"psysml:da4cdfd0-3825-4b53-8eea-757999b665bd\" target=\"_top\" title=\"psysml:da4cdfd0-3825-4b53-8eea-757999b665bd\" xlink:actuate=\"onRequest\" xlink:href=\"psysml:da4cdfd0-3825-4b53-8eea-757999b665bd\" xlink:show=\"new\" xlink:title=\"psysml:da4cdfd0-3825-4b53-8eea-757999b665bd\" xlink:type=\"simple\"><polygon fill=\"#FFFFFF\" filter=\"url(#fztarvo01wcyy)\" points=\"16,6,196,6,203,28.2969,237,28.2969,237,349,16,349,16,6\" style=\"stroke: #000000; stroke-width: 1.5;\"/><line style=\"stroke: #000000; stroke-width: 1.5;\" x1=\"16\" x2=\"203\" y1=\"28.2969\" y2=\"28.2969\"/><text fill=\"#000000\" font-family=\"sans-serif\" font-size=\"14\" font-weight=\"bold\" lengthAdjust=\"spacingAndGlyphs\" textLength=\"174\" x=\"20\" y=\"20.9951\">QualifiedNameImportTest</text></a><!--MD5=[e4f7fae6ed58524ba242bb0b0d3be6b7]\n",
       "cluster E2--><a href=\"psysml:4a6c4eec-a299-4799-849a-0f6e2ae74607\" target=\"_top\" title=\"psysml:4a6c4eec-a299-4799-849a-0f6e2ae74607\" xlink:actuate=\"onRequest\" xlink:href=\"psysml:4a6c4eec-a299-4799-849a-0f6e2ae74607\" xlink:show=\"new\" xlink:title=\"psysml:4a6c4eec-a299-4799-849a-0f6e2ae74607\" xlink:type=\"simple\"><polygon fill=\"#FFFFFF\" filter=\"url(#fztarvo01wcyy)\" points=\"88,210,112,210,119,232.2969,205,232.2969,205,317,88,317,88,210\" style=\"stroke: #000000; stroke-width: 1.5;\"/><line style=\"stroke: #000000; stroke-width: 1.5;\" x1=\"88\" x2=\"119\" y1=\"232.2969\" y2=\"232.2969\"/><text fill=\"#000000\" font-family=\"sans-serif\" font-size=\"14\" font-weight=\"bold\" lengthAdjust=\"spacingAndGlyphs\" textLength=\"18\" x=\"92\" y=\"224.9951\">P1</text></a><!--MD5=[f6df4d0ebaf0b5dfb2ced0ae5af7c670]\n",
       "cluster E4--><a href=\"psysml:eb8258b7-0b9d-4f0f-ab00-8538318b7623\" target=\"_top\" title=\"psysml:eb8258b7-0b9d-4f0f-ab00-8538318b7623\" xlink:actuate=\"onRequest\" xlink:href=\"psysml:eb8258b7-0b9d-4f0f-ab00-8538318b7623\" xlink:show=\"new\" xlink:title=\"psysml:eb8258b7-0b9d-4f0f-ab00-8538318b7623\" xlink:type=\"simple\"><polygon fill=\"#FFFFFF\" filter=\"url(#fztarvo01wcyy)\" points=\"40,49,64,49,71,71.2969,213,71.2969,213,153,40,153,40,49\" style=\"stroke: #000000; stroke-width: 1.5;\"/><line style=\"stroke: #000000; stroke-width: 1.5;\" x1=\"40\" x2=\"71\" y1=\"71.2969\" y2=\"71.2969\"/><text fill=\"#000000\" font-family=\"sans-serif\" font-size=\"14\" font-weight=\"bold\" lengthAdjust=\"spacingAndGlyphs\" textLength=\"18\" x=\"44\" y=\"63.9951\">P2</text></a><g id=\"E1.E2.E3\"><a href=\"psysml:c3954339-5488-4b4b-b1b9-8dc0f4000655\" target=\"_top\" title=\"psysml:c3954339-5488-4b4b-b1b9-8dc0f4000655\" xlink:actuate=\"onRequest\" xlink:href=\"psysml:c3954339-5488-4b4b-b1b9-8dc0f4000655\" xlink:show=\"new\" xlink:title=\"psysml:c3954339-5488-4b4b-b1b9-8dc0f4000655\" xlink:type=\"simple\"><rect fill=\"#FEFECE\" filter=\"url(#fztarvo01wcyy)\" height=\"40\" id=\"E3\" style=\"stroke: #A80036; stroke-width: 1.5;\" width=\"50\" x=\"131\" y=\"253\"/><ellipse cx=\"150.5\" cy=\"269\" fill=\"#008000\" rx=\"11\" ry=\"11\" style=\"stroke: #A80036; stroke-width: 1.0;\"/><path d=\"M147.375,274 L147.375,263.4063 L150.6094,263.4063 Q152.5156,263.4063 153.4219,264.1563 Q154.3438,264.9063 154.3438,266.0781 Q154.3438,266.7656 153.9531,267.4219 Q153.5781,268.0781 152.8594,268.375 Q153.7188,268.75 154.2344,269.4375 Q154.75,270.125 154.75,270.9375 Q154.75,272.3125 153.7188,273.1563 Q152.7031,274 150.5938,274 L147.375,274 Z M149.2969,267.6406 L150.4531,267.6406 Q151.5781,267.6406 151.9844,267.2656 Q152.4063,266.875 152.4063,266.25 Q152.4063,265.6719 151.9844,265.3125 Q151.5625,264.9531 150.625,264.9531 L149.2969,264.9531 L149.2969,267.6406 Z M149.2969,272.4219 L150.7969,272.4219 Q151.7031,272.4219 152.2344,272.0313 Q152.7656,271.6406 152.7656,270.8906 Q152.7656,270.125 152.2656,269.6563 Q151.7656,269.1719 150.5,269.1719 L149.2969,269.1719 L149.2969,272.4219 Z \"/><text fill=\"#000000\" font-family=\"sans-serif\" font-size=\"12\" lengthAdjust=\"spacingAndGlyphs\" textLength=\"8\" x=\"165.5\" y=\"273.1543\">A</text></a></g><a href=\"psysml:18e68ffc-3c50-485f-abff-3c07b29f1978\" target=\"_top\" title=\"psysml:18e68ffc-3c50-485f-abff-3c07b29f1978\" xlink:actuate=\"onRequest\" xlink:href=\"psysml:18e68ffc-3c50-485f-abff-3c07b29f1978\" xlink:show=\"new\" xlink:title=\"psysml:18e68ffc-3c50-485f-abff-3c07b29f1978\" xlink:type=\"simple\"><polygon fill=\"#FFFFFF\" filter=\"url(#fztarvo01wcyy)\" points=\"151,84,183,84,190,106.2969,197,106.2969,197,136.5938,151,136.5938,151,84\" style=\"stroke: #000000; stroke-width: 1.5;\"/><line style=\"stroke: #000000; stroke-width: 1.5;\" x1=\"151\" x2=\"190\" y1=\"106.2969\" y2=\"106.2969\"/><text fill=\"#000000\" font-family=\"sans-serif\" font-size=\"14\" font-weight=\"bold\" lengthAdjust=\"spacingAndGlyphs\" textLength=\"26\" x=\"155\" y=\"98.9951\">P2a</text></a><g id=\"E1.E4.E6\"><a href=\"psysml:a72efec8-2b60-4f71-833a-33d401001ef7\" target=\"_top\" title=\"psysml:a72efec8-2b60-4f71-833a-33d401001ef7\" xlink:actuate=\"onRequest\" xlink:href=\"psysml:a72efec8-2b60-4f71-833a-33d401001ef7\" xlink:show=\"new\" xlink:title=\"psysml:a72efec8-2b60-4f71-833a-33d401001ef7\" xlink:type=\"simple\"><rect fill=\"#FEFECE\" filter=\"url(#fztarvo01wcyy)\" height=\"40\" id=\"E6\" rx=\"10\" ry=\"10\" style=\"stroke: #A80036; stroke-width: 1.5;\" width=\"59\" x=\"56.5\" y=\"90.5\"/><ellipse cx=\"73.75\" cy=\"106.5\" fill=\"#B6DBBB\" rx=\"11\" ry=\"11\" style=\"stroke: #A80036; stroke-width: 1.0;\"/><path d=\"M73.5,111.9688 Q71.75,111.9688 70.7969,110.9375 Q69.8594,109.8906 69.8594,108.0469 L69.8594,101.1563 L71.9219,101.1563 L71.9219,101.3125 Q71.8281,101.4063 71.7969,101.5469 Q71.7813,101.6719 71.7813,101.9375 L71.7813,108.0625 Q71.7813,109.1563 72.1563,109.7813 Q72.5313,110.4063 73.5156,110.4063 Q74.5,110.4063 74.8906,109.7813 Q75.2813,109.1563 75.2813,108.0156 L75.2813,101.1563 L77.1563,101.1563 L77.1563,108 Q77.1563,110.0313 76.125,111 Q75.1094,111.9688 73.5,111.9688 Z \"/><text fill=\"#000000\" font-family=\"sans-serif\" font-size=\"12\" lengthAdjust=\"spacingAndGlyphs\" textLength=\"22\" x=\"88.25\" y=\"110.6543\">x: A</text></a></g><!--MD5=[15ebcb19ae302d9b601edb458606d402]\n",
       "link E5 to E2--><a href=\"psysml:dfd16e59-ab91-470e-8369-8533004051f7\" target=\"_top\" title=\"psysml:dfd16e59-ab91-470e-8369-8533004051f7\" xlink:actuate=\"onRequest\" xlink:href=\"psysml:dfd16e59-ab91-470e-8369-8533004051f7\" xlink:show=\"new\" xlink:title=\"psysml:dfd16e59-ab91-470e-8369-8533004051f7\" xlink:type=\"simple\"><path d=\"M151.84,137.02 C139.37,152.56 124.47,173.35 115,194 C113.1988,197.9275 111.5552,202.0475 110.0574,206.2558 C109.683,207.3079 109.3177,208.3655 108.9613,209.427 C108.9168,209.5596 108.8724,209.6924 108.8281,209.8252 \" fill=\"none\" id=\"E5-&gt;E2\" style=\"stroke: #A80036; stroke-width: 1.0; stroke-dasharray: 7.0,7.0;\"/><polygon fill=\"#A80036\" points=\"108.8281,209.8252,115.4689,202.552,110.4093,205.0818,107.8794,200.0221,108.8281,209.8252\" style=\"stroke: #A80036; stroke-width: 1.0;\"/><text fill=\"#000000\" font-family=\"sans-serif\" font-size=\"13\" lengthAdjust=\"spacingAndGlyphs\" textLength=\"65\" x=\"129\" y=\"182.0669\">«import»*</text></a><!--MD5=[3dfc5949d1b6e4bd857f44116378eabc]\n",
       "@startuml\r\n",
       "skinparam ranksep 10\r\n",
       "skinparam rectangle {\r\n",
       " backgroundColor<<block>> LightGreen\r\n",
       "}\r\n",
       " \r\n",
       "package \"QualifiedNameImportTest\" as E1  [[psysml:da4cdfd0-3825-4b53-8eea-757999b665bd ]]  {\r\n",
       "package \"P1\" as E2  [[psysml:4a6c4eec-a299-4799-849a-0f6e2ae74607 ]]  {\r\n",
       "rec def \"A\" as E3 << << (B,green) >> [[psysml:c3954339-5488-4b4b-b1b9-8dc0f4000655 ]] {\r\n",
       "}\r\n",
       "}\r\n",
       "package \"P2\" as E4  [[psysml:eb8258b7-0b9d-4f0f-ab00-8538318b7623 ]]  {\r\n",
       "package \"P2a\" as E5  [[psysml:18e68ffc-3c50-485f-abff-3c07b29f1978 ]]  {\r\n",
       "}\r\n",
       "rec usage \"x: A\" as E6  [[psysml:a72efec8-2b60-4f71-833a-33d401001ef7 ]] {\r\n",
       "}\r\n",
       "}\r\n",
       "}\r\n",
       "E5 ..> E2 [[psysml:dfd16e59-ab91-470e-8369-8533004051f7 ]] : <<import>>*\r\n",
       "@enduml\r\n",
       "\n",
       "PlantUML version 1.2020.13(Sat Jun 13 12:26:38 UTC 2020)\n",
       "(EPL source distribution)\n",
       "Java Runtime: OpenJDK Runtime Environment\n",
       "JVM: OpenJDK 64-Bit Server VM\n",
       "Default Encoding: UTF-8\n",
       "Language: en\n",
       "Country: null\n",
       "--></g></svg>"
      ]
     },
     "execution_count": 33,
     "metadata": {},
     "output_type": "execute_result"
    }
   ],
   "source": [
    "%viz --style=\"PLANTUML\" --view=\"Interconnection\" \"QualifiedNameImportTest\""
   ]
  },
  {
   "cell_type": "code",
   "execution_count": 34,
   "id": "9cae2436",
   "metadata": {
    "execution": {
     "iopub.execute_input": "2022-03-21T07:52:08.972042Z",
     "iopub.status.busy": "2022-03-21T07:52:08.971589Z",
     "iopub.status.idle": "2022-03-21T07:52:08.975457Z",
     "shell.execute_reply": "2022-03-21T07:52:08.975779Z"
    }
   },
   "outputs": [
    {
     "data": {
      "image/svg+xml": [
       "<?xml version=\"1.0\" encoding=\"UTF-8\" standalone=\"no\"?><svg xmlns=\"http://www.w3.org/2000/svg\" xmlns:xlink=\"http://www.w3.org/1999/xlink\" contentScriptType=\"application/ecmascript\" contentStyleType=\"text/css\" height=\"12px\" preserveAspectRatio=\"none\" style=\"width:12px;height:12px;\" version=\"1.1\" viewBox=\"0 0 12 12\" width=\"12px\" zoomAndPan=\"magnify\"><defs/><g><!--MD5=[6a4cb978cab31700e1ce5529f947a75d]\n",
       "@startuml\r\n",
       "skinparam ranksep 8\r\n",
       " \r\n",
       "@enduml\r\n",
       "\n",
       "PlantUML version 1.2020.13(Sat Jun 13 12:26:38 UTC 2020)\n",
       "(EPL source distribution)\n",
       "Java Runtime: OpenJDK Runtime Environment\n",
       "JVM: OpenJDK 64-Bit Server VM\n",
       "Default Encoding: UTF-8\n",
       "Language: en\n",
       "Country: null\n",
       "--></g></svg>"
      ]
     },
     "execution_count": 34,
     "metadata": {},
     "output_type": "execute_result"
    }
   ],
   "source": [
    "%viz --style=\"PLANTUML\" --view=\"Action\" \"QualifiedNameImportTest\""
   ]
  },
  {
   "cell_type": "code",
   "execution_count": 35,
   "id": "3d6a6610",
   "metadata": {
    "execution": {
     "iopub.execute_input": "2022-03-21T07:52:09.025757Z",
     "iopub.status.busy": "2022-03-21T07:52:09.025326Z",
     "iopub.status.idle": "2022-03-21T07:52:09.030684Z",
     "shell.execute_reply": "2022-03-21T07:52:09.030161Z"
    }
   },
   "outputs": [
    {
     "data": {
      "image/svg+xml": [
       "<?xml version=\"1.0\" encoding=\"UTF-8\" standalone=\"no\"?><svg xmlns=\"http://www.w3.org/2000/svg\" xmlns:xlink=\"http://www.w3.org/1999/xlink\" contentScriptType=\"application/ecmascript\" contentStyleType=\"text/css\" height=\"12px\" preserveAspectRatio=\"none\" style=\"width:12px;height:12px;\" version=\"1.1\" viewBox=\"0 0 12 12\" width=\"12px\" zoomAndPan=\"magnify\"><defs/><g><!--MD5=[ca4faa0b02def275ea33c14ea7a1a98d]\n",
       "@startuml\r\n",
       "skinparam roundcorner 20\r\n",
       "skinparam BoxPadding 20\r\n",
       "skinparam SequenceBoxBackgroundColor #white\r\n",
       "skinparam style strictuml\r\n",
       "skinparam maxMessageSize 100\r\n",
       " \r\n",
       "@enduml\r\n",
       "\n",
       "PlantUML version 1.2020.13(Sat Jun 13 12:26:38 UTC 2020)\n",
       "(EPL source distribution)\n",
       "Java Runtime: OpenJDK Runtime Environment\n",
       "JVM: OpenJDK 64-Bit Server VM\n",
       "Default Encoding: UTF-8\n",
       "Language: en\n",
       "Country: null\n",
       "--></g></svg>"
      ]
     },
     "execution_count": 35,
     "metadata": {},
     "output_type": "execute_result"
    }
   ],
   "source": [
    "%viz --style=\"PLANTUML\" --view=\"Sequence\" \"QualifiedNameImportTest\""
   ]
  },
  {
   "cell_type": "code",
   "execution_count": 36,
   "id": "6ca8474e",
   "metadata": {
    "execution": {
     "iopub.execute_input": "2022-03-21T07:52:09.079695Z",
     "iopub.status.busy": "2022-03-21T07:52:09.079263Z",
     "iopub.status.idle": "2022-03-21T07:52:09.112774Z",
     "shell.execute_reply": "2022-03-21T07:52:09.110827Z"
    }
   },
   "outputs": [
    {
     "data": {
      "image/svg+xml": [
       "<?xml version=\"1.0\" encoding=\"UTF-8\" standalone=\"no\"?><svg xmlns=\"http://www.w3.org/2000/svg\" xmlns:xlink=\"http://www.w3.org/1999/xlink\" contentScriptType=\"application/ecmascript\" contentStyleType=\"text/css\" height=\"361px\" preserveAspectRatio=\"none\" style=\"width:267px;height:361px;\" version=\"1.1\" viewBox=\"0 0 267 361\" width=\"267px\" zoomAndPan=\"magnify\"><defs><filter height=\"300%\" id=\"f1w304jrt77xmv\" width=\"300%\" x=\"-1\" y=\"-1\"><feGaussianBlur result=\"blurOut\" stdDeviation=\"2.0\"/><feColorMatrix in=\"blurOut\" result=\"blurOut2\" type=\"matrix\" values=\"0 0 0 0 0 0 0 0 0 0 0 0 0 0 0 0 0 0 .4 0\"/><feOffset dx=\"4.0\" dy=\"4.0\" in=\"blurOut2\" result=\"blurOut3\"/><feBlend in=\"SourceGraphic\" in2=\"blurOut3\" mode=\"normal\"/></filter></defs><g><!--MD5=[fbc87193dbaf4d95561dea2c320d4a47]\n",
       "cluster E1--><a href=\"psysml:da4cdfd0-3825-4b53-8eea-757999b665bd\" target=\"_top\" title=\"psysml:da4cdfd0-3825-4b53-8eea-757999b665bd\" xlink:actuate=\"onRequest\" xlink:href=\"psysml:da4cdfd0-3825-4b53-8eea-757999b665bd\" xlink:show=\"new\" xlink:title=\"psysml:da4cdfd0-3825-4b53-8eea-757999b665bd\" xlink:type=\"simple\"><polygon fill=\"#FFFFFF\" filter=\"url(#f1w304jrt77xmv)\" points=\"16,6,196,6,203,28.2969,245,28.2969,245,349,16,349,16,6\" style=\"stroke: #000000; stroke-width: 1.5;\"/><line style=\"stroke: #000000; stroke-width: 1.5;\" x1=\"16\" x2=\"203\" y1=\"28.2969\" y2=\"28.2969\"/><text fill=\"#000000\" font-family=\"sans-serif\" font-size=\"14\" font-weight=\"bold\" lengthAdjust=\"spacingAndGlyphs\" textLength=\"174\" x=\"20\" y=\"20.9951\">QualifiedNameImportTest</text></a><!--MD5=[e4f7fae6ed58524ba242bb0b0d3be6b7]\n",
       "cluster E2--><a href=\"psysml:4a6c4eec-a299-4799-849a-0f6e2ae74607\" target=\"_top\" title=\"psysml:4a6c4eec-a299-4799-849a-0f6e2ae74607\" xlink:actuate=\"onRequest\" xlink:href=\"psysml:4a6c4eec-a299-4799-849a-0f6e2ae74607\" xlink:show=\"new\" xlink:title=\"psysml:4a6c4eec-a299-4799-849a-0f6e2ae74607\" xlink:type=\"simple\"><polygon fill=\"#FFFFFF\" filter=\"url(#f1w304jrt77xmv)\" points=\"55,210,79,210,86,232.2969,162,232.2969,162,317,55,317,55,210\" style=\"stroke: #000000; stroke-width: 1.5;\"/><line style=\"stroke: #000000; stroke-width: 1.5;\" x1=\"55\" x2=\"86\" y1=\"232.2969\" y2=\"232.2969\"/><text fill=\"#000000\" font-family=\"sans-serif\" font-size=\"14\" font-weight=\"bold\" lengthAdjust=\"spacingAndGlyphs\" textLength=\"18\" x=\"59\" y=\"224.9951\">P1</text></a><!--MD5=[f6df4d0ebaf0b5dfb2ced0ae5af7c670]\n",
       "cluster E4--><a href=\"psysml:eb8258b7-0b9d-4f0f-ab00-8538318b7623\" target=\"_top\" title=\"psysml:eb8258b7-0b9d-4f0f-ab00-8538318b7623\" xlink:actuate=\"onRequest\" xlink:href=\"psysml:eb8258b7-0b9d-4f0f-ab00-8538318b7623\" xlink:show=\"new\" xlink:title=\"psysml:eb8258b7-0b9d-4f0f-ab00-8538318b7623\" xlink:type=\"simple\"><polygon fill=\"#FFFFFF\" filter=\"url(#f1w304jrt77xmv)\" points=\"40,49,64,49,71,71.2969,221,71.2969,221,153,40,153,40,49\" style=\"stroke: #000000; stroke-width: 1.5;\"/><line style=\"stroke: #000000; stroke-width: 1.5;\" x1=\"40\" x2=\"71\" y1=\"71.2969\" y2=\"71.2969\"/><text fill=\"#000000\" font-family=\"sans-serif\" font-size=\"14\" font-weight=\"bold\" lengthAdjust=\"spacingAndGlyphs\" textLength=\"18\" x=\"44\" y=\"63.9951\">P2</text></a><!--MD5=[09b614a08d8cba4a07c9adeb5e0fee81]\n",
       "class E3--><a href=\"psysml:c3954339-5488-4b4b-b1b9-8dc0f4000655\" target=\"_top\" title=\"psysml:c3954339-5488-4b4b-b1b9-8dc0f4000655\" xlink:actuate=\"onRequest\" xlink:href=\"psysml:c3954339-5488-4b4b-b1b9-8dc0f4000655\" xlink:show=\"new\" xlink:title=\"psysml:c3954339-5488-4b4b-b1b9-8dc0f4000655\" xlink:type=\"simple\"><rect fill=\"#FEFECE\" filter=\"url(#f1w304jrt77xmv)\" height=\"40\" id=\"E3\" style=\"stroke: #A80036; stroke-width: 1.5;\" width=\"40\" x=\"79\" y=\"253\"/><ellipse cx=\"94\" cy=\"269\" fill=\"#008000\" rx=\"11\" ry=\"11\" style=\"stroke: #A80036; stroke-width: 1.0;\"/><path d=\"M90.875,274 L90.875,263.4063 L94.1094,263.4063 Q96.0156,263.4063 96.9219,264.1563 Q97.8438,264.9063 97.8438,266.0781 Q97.8438,266.7656 97.4531,267.4219 Q97.0781,268.0781 96.3594,268.375 Q97.2188,268.75 97.7344,269.4375 Q98.25,270.125 98.25,270.9375 Q98.25,272.3125 97.2188,273.1563 Q96.2031,274 94.0938,274 L90.875,274 Z M92.7969,267.6406 L93.9531,267.6406 Q95.0781,267.6406 95.4844,267.2656 Q95.9063,266.875 95.9063,266.25 Q95.9063,265.6719 95.4844,265.3125 Q95.0625,264.9531 94.125,264.9531 L92.7969,264.9531 L92.7969,267.6406 Z M92.7969,272.4219 L94.2969,272.4219 Q95.2031,272.4219 95.7344,272.0313 Q96.2656,271.6406 96.2656,270.8906 Q96.2656,270.125 95.7656,269.6563 Q95.2656,269.1719 94,269.1719 L92.7969,269.1719 L92.7969,272.4219 Z \"/><text fill=\"#000000\" font-family=\"sans-serif\" font-size=\"12\" lengthAdjust=\"spacingAndGlyphs\" textLength=\"8\" x=\"108\" y=\"273.1543\">A</text><line style=\"stroke: #A80036; stroke-width: 1.5;\" x1=\"80\" x2=\"118\" y1=\"285\" y2=\"285\"/></a><!--MD5=[60a26617385b1d2d0262a64233df1f8d]\n",
       "class E6--><a href=\"psysml:a72efec8-2b60-4f71-833a-33d401001ef7\" target=\"_top\" title=\"psysml:a72efec8-2b60-4f71-833a-33d401001ef7\" xlink:actuate=\"onRequest\" xlink:href=\"psysml:a72efec8-2b60-4f71-833a-33d401001ef7\" xlink:show=\"new\" xlink:title=\"psysml:a72efec8-2b60-4f71-833a-33d401001ef7\" xlink:type=\"simple\"><rect fill=\"#FEFECE\" filter=\"url(#f1w304jrt77xmv)\" height=\"45.9375\" id=\"E6\" rx=\"10\" ry=\"10\" style=\"stroke: #A80036; stroke-width: 1.5;\" width=\"68\" x=\"56\" y=\"87.5\"/><ellipse cx=\"71\" cy=\"106.4688\" fill=\"#32CD32\" rx=\"11\" ry=\"11\" style=\"stroke: #A80036; stroke-width: 1.0;\"/><path d=\"M67.8125,111.4688 L67.8125,100.875 L71.4219,100.875 Q72.6406,100.875 73.4375,101.3125 Q74.2344,101.7344 74.6094,102.4375 Q75,103.1406 75,103.9844 Q75,104.8281 74.625,105.5156 Q74.2656,106.2031 73.4688,106.625 Q72.6875,107.0313 71.5,107.0313 L69.7656,107.0313 L69.7656,111.4688 L67.8125,111.4688 Z M69.7656,105.4375 L71.375,105.4375 Q72.1875,105.4375 72.6094,105.0313 Q73.0313,104.625 73.0313,103.9844 Q73.0313,103.3594 72.6094,102.9531 Q72.1875,102.5469 71.3906,102.5469 L69.7656,102.5469 L69.7656,105.4375 Z \"/><text fill=\"#000000\" font-family=\"sans-serif\" font-size=\"12\" font-style=\"italic\" lengthAdjust=\"spacingAndGlyphs\" textLength=\"40\" x=\"83\" y=\"103.6387\">«part»</text><text fill=\"#000000\" font-family=\"sans-serif\" font-size=\"12\" lengthAdjust=\"spacingAndGlyphs\" textLength=\"22\" x=\"90\" y=\"117.6074\">x: A</text><line style=\"stroke: #A80036; stroke-width: 1.5;\" x1=\"57\" x2=\"123\" y1=\"125.4375\" y2=\"125.4375\"/></a><a href=\"psysml:18e68ffc-3c50-485f-abff-3c07b29f1978\" target=\"_top\" title=\"psysml:18e68ffc-3c50-485f-abff-3c07b29f1978\" xlink:actuate=\"onRequest\" xlink:href=\"psysml:18e68ffc-3c50-485f-abff-3c07b29f1978\" xlink:show=\"new\" xlink:title=\"psysml:18e68ffc-3c50-485f-abff-3c07b29f1978\" xlink:type=\"simple\"><polygon fill=\"#FFFFFF\" filter=\"url(#f1w304jrt77xmv)\" points=\"159,84,191,84,198,106.2969,205,106.2969,205,136.5938,159,136.5938,159,84\" style=\"stroke: #000000; stroke-width: 1.5;\"/><line style=\"stroke: #000000; stroke-width: 1.5;\" x1=\"159\" x2=\"198\" y1=\"106.2969\" y2=\"106.2969\"/><text fill=\"#000000\" font-family=\"sans-serif\" font-size=\"14\" font-weight=\"bold\" lengthAdjust=\"spacingAndGlyphs\" textLength=\"26\" x=\"163\" y=\"98.9951\">P2a</text></a><!--MD5=[15ebcb19ae302d9b601edb458606d402]\n",
       "link E5 to E2--><a href=\"psysml:dfd16e59-ab91-470e-8369-8533004051f7\" target=\"_top\" title=\"psysml:dfd16e59-ab91-470e-8369-8533004051f7\" xlink:actuate=\"onRequest\" xlink:href=\"psysml:dfd16e59-ab91-470e-8369-8533004051f7\" xlink:show=\"new\" xlink:title=\"psysml:dfd16e59-ab91-470e-8369-8533004051f7\" xlink:type=\"simple\"><path d=\"M177.5,137.29 C173.605,159.62 167.8525,192.6025 163.0138,220.3425 C162.7113,222.0763 162.4125,223.7895 162.1179,225.4784 C162.081,225.6895 162.0443,225.9003 162.0076,226.1106 \" fill=\"none\" id=\"E5-&gt;E2\" style=\"stroke: #A80036; stroke-width: 1.0; stroke-dasharray: 7.0,7.0;\"/><polygon fill=\"#A80036\" points=\"162.0076,226.1106,167.4947,217.9319,162.8668,221.185,159.6137,216.5571,162.0076,226.1106\" style=\"stroke: #A80036; stroke-width: 1.0;\"/><text fill=\"#000000\" font-family=\"sans-serif\" font-size=\"13\" lengthAdjust=\"spacingAndGlyphs\" textLength=\"65\" x=\"172\" y=\"182.0669\">«import»*</text></a><!--MD5=[a717450b82c80b9240a525fa862496af]\n",
       "link E6 to E3--><a href=\"psysml:08f34eb1-8ff4-422d-a9a6-5096bc1237f4\" target=\"_top\" title=\"psysml:08f34eb1-8ff4-422d-a9a6-5096bc1237f4\" xlink:actuate=\"onRequest\" xlink:href=\"psysml:08f34eb1-8ff4-422d-a9a6-5096bc1237f4\" xlink:show=\"new\" xlink:title=\"psysml:08f34eb1-8ff4-422d-a9a6-5096bc1237f4\" xlink:type=\"simple\"><path d=\"M91.25,133.82 C92.68,159.32 95.05,201.55 96.79,232.62 \" fill=\"none\" id=\"E6-&gt;E3\" style=\"stroke: #A80036; stroke-width: 1.0;\"/><polygon fill=\"#FFFFFF\" points=\"97.93,252.88,89.8824,234.2995,103.8607,233.5196,97.93,252.88\" style=\"stroke: #A80036; stroke-width: 1.0;\"/><ellipse cx=\"91.5618\" cy=\"228.4969\" fill=\"#A80036\" rx=\"2\" ry=\"2\" style=\"stroke: #A80036; stroke-width: 1.0;\"/><ellipse cx=\"101.5463\" cy=\"227.9398\" fill=\"#A80036\" rx=\"2\" ry=\"2\" style=\"stroke: #A80036; stroke-width: 1.0;\"/></a><!--MD5=[4cfd84072c45f5dae25979a21363e58a]\n",
       "@startuml\r\n",
       " \r\n",
       "package \"QualifiedNameImportTest\" as E1  [[psysml:da4cdfd0-3825-4b53-8eea-757999b665bd ]]  {\r\n",
       "package \"P1\" as E2  [[psysml:4a6c4eec-a299-4799-849a-0f6e2ae74607 ]]  {\r\n",
       "comp def \"A\" as E3 << << (B,green) >> [[psysml:c3954339-5488-4b4b-b1b9-8dc0f4000655 ]] {\r\n",
       "}\r\n",
       "}\r\n",
       "package \"P2\" as E4  [[psysml:eb8258b7-0b9d-4f0f-ab00-8538318b7623 ]]  {\r\n",
       "package \"P2a\" as E5  [[psysml:18e68ffc-3c50-485f-abff-3c07b29f1978 ]]  {\r\n",
       "}\r\n",
       "comp usage \"x: A \" as E6 << << (P,limegreen) part>> [[psysml:a72efec8-2b60-4f71-833a-33d401001ef7 ]] {\r\n",
       "}\r\n",
       "}\r\n",
       "}\r\n",
       "E5 ..> E2 [[psysml:dfd16e59-ab91-470e-8369-8533004051f7 ]] : <<import>>*\r\n",
       "E6 - -:|> E3 [[psysml:08f34eb1-8ff4-422d-a9a6-5096bc1237f4 ]] \r\n",
       "@enduml\r\n",
       "\n",
       "PlantUML version 1.2020.13(Sat Jun 13 12:26:38 UTC 2020)\n",
       "(EPL source distribution)\n",
       "Java Runtime: OpenJDK Runtime Environment\n",
       "JVM: OpenJDK 64-Bit Server VM\n",
       "Default Encoding: UTF-8\n",
       "Language: en\n",
       "Country: null\n",
       "--></g></svg>"
      ]
     },
     "execution_count": 36,
     "metadata": {},
     "output_type": "execute_result"
    }
   ],
   "source": [
    "%viz --style=\"PLANTUML\" --view=\"MIXED\" \"QualifiedNameImportTest\""
   ]
  },
  {
   "cell_type": "code",
   "execution_count": 37,
   "id": "5f2368ea",
   "metadata": {
    "execution": {
     "iopub.execute_input": "2022-03-21T07:52:09.161953Z",
     "iopub.status.busy": "2022-03-21T07:52:09.161248Z",
     "iopub.status.idle": "2022-03-21T07:52:09.194157Z",
     "shell.execute_reply": "2022-03-21T07:52:09.193653Z"
    }
   },
   "outputs": [
    {
     "data": {
      "image/svg+xml": [
       "<?xml version=\"1.0\" encoding=\"UTF-8\" standalone=\"no\"?><svg xmlns=\"http://www.w3.org/2000/svg\" xmlns:xlink=\"http://www.w3.org/1999/xlink\" contentScriptType=\"application/ecmascript\" contentStyleType=\"text/css\" height=\"367px\" preserveAspectRatio=\"none\" style=\"width:243px;height:367px;\" version=\"1.1\" viewBox=\"0 0 243 367\" width=\"243px\" zoomAndPan=\"magnify\"><defs/><g><!--MD5=[fbc87193dbaf4d95561dea2c320d4a47]\n",
       "cluster E1--><a href=\"psysml:da4cdfd0-3825-4b53-8eea-757999b665bd\" target=\"_top\" title=\"psysml:da4cdfd0-3825-4b53-8eea-757999b665bd\" xlink:actuate=\"onRequest\" xlink:href=\"psysml:da4cdfd0-3825-4b53-8eea-757999b665bd\" xlink:show=\"new\" xlink:title=\"psysml:da4cdfd0-3825-4b53-8eea-757999b665bd\" xlink:type=\"simple\"><polygon fill=\"#FFFFFF\" points=\"16,6,196,6,203,28.2969,219,28.2969,219,355,16,355,16,6\" style=\"stroke: #000000; stroke-width: 1.5;\"/><line style=\"stroke: #000000; stroke-width: 1.5;\" x1=\"16\" x2=\"203\" y1=\"28.2969\" y2=\"28.2969\"/><text fill=\"#000000\" font-family=\"sans-serif\" font-size=\"14\" font-weight=\"bold\" lengthAdjust=\"spacingAndGlyphs\" textLength=\"174\" x=\"20\" y=\"20.9951\">QualifiedNameImportTest</text></a><!--MD5=[e4f7fae6ed58524ba242bb0b0d3be6b7]\n",
       "cluster E2--><a href=\"psysml:4a6c4eec-a299-4799-849a-0f6e2ae74607\" target=\"_top\" title=\"psysml:4a6c4eec-a299-4799-849a-0f6e2ae74607\" xlink:actuate=\"onRequest\" xlink:href=\"psysml:4a6c4eec-a299-4799-849a-0f6e2ae74607\" xlink:show=\"new\" xlink:title=\"psysml:4a6c4eec-a299-4799-849a-0f6e2ae74607\" xlink:type=\"simple\"><polygon fill=\"#FFFFFF\" points=\"48,210,72,210,79,232.2969,185,232.2969,185,323,48,323,48,210\" style=\"stroke: #000000; stroke-width: 1.5;\"/><line style=\"stroke: #000000; stroke-width: 1.5;\" x1=\"48\" x2=\"79\" y1=\"232.2969\" y2=\"232.2969\"/><text fill=\"#000000\" font-family=\"sans-serif\" font-size=\"14\" font-weight=\"bold\" lengthAdjust=\"spacingAndGlyphs\" textLength=\"18\" x=\"52\" y=\"224.9951\">P1</text></a><!--MD5=[f6df4d0ebaf0b5dfb2ced0ae5af7c670]\n",
       "cluster E4--><a href=\"psysml:eb8258b7-0b9d-4f0f-ab00-8538318b7623\" target=\"_top\" title=\"psysml:eb8258b7-0b9d-4f0f-ab00-8538318b7623\" xlink:actuate=\"onRequest\" xlink:href=\"psysml:eb8258b7-0b9d-4f0f-ab00-8538318b7623\" xlink:show=\"new\" xlink:title=\"psysml:eb8258b7-0b9d-4f0f-ab00-8538318b7623\" xlink:type=\"simple\"><polygon fill=\"#FFFFFF\" points=\"40,49,64,49,71,71.2969,195,71.2969,195,153,40,153,40,49\" style=\"stroke: #000000; stroke-width: 1.5;\"/><line style=\"stroke: #000000; stroke-width: 1.5;\" x1=\"40\" x2=\"71\" y1=\"71.2969\" y2=\"71.2969\"/><text fill=\"#000000\" font-family=\"sans-serif\" font-size=\"14\" font-weight=\"bold\" lengthAdjust=\"spacingAndGlyphs\" textLength=\"18\" x=\"44\" y=\"63.9951\">P2</text></a><!--MD5=[09b614a08d8cba4a07c9adeb5e0fee81]\n",
       "class E3--><a href=\"psysml:c3954339-5488-4b4b-b1b9-8dc0f4000655\" target=\"_top\" title=\"psysml:c3954339-5488-4b4b-b1b9-8dc0f4000655\" xlink:actuate=\"onRequest\" xlink:href=\"psysml:c3954339-5488-4b4b-b1b9-8dc0f4000655\" xlink:show=\"new\" xlink:title=\"psysml:c3954339-5488-4b4b-b1b9-8dc0f4000655\" xlink:type=\"simple\"><rect fill=\"#FFFFFF\" height=\"45.9375\" id=\"E3\" style=\"stroke: #383838; stroke-width: 1.5;\" width=\"70\" x=\"72\" y=\"253\"/><text fill=\"#000000\" font-family=\"sans-serif\" font-size=\"12\" font-style=\"italic\" lengthAdjust=\"spacingAndGlyphs\" textLength=\"68\" x=\"73\" y=\"269.1387\">«part  def»</text><text fill=\"#000000\" font-family=\"sans-serif\" font-size=\"12\" lengthAdjust=\"spacingAndGlyphs\" textLength=\"8\" x=\"103\" y=\"283.1074\">A</text><line style=\"stroke: #383838; stroke-width: 1.5;\" x1=\"73\" x2=\"141\" y1=\"290.9375\" y2=\"290.9375\"/></a><!--MD5=[60a26617385b1d2d0262a64233df1f8d]\n",
       "class E6--><a href=\"psysml:a72efec8-2b60-4f71-833a-33d401001ef7\" target=\"_top\" title=\"psysml:a72efec8-2b60-4f71-833a-33d401001ef7\" xlink:actuate=\"onRequest\" xlink:href=\"psysml:a72efec8-2b60-4f71-833a-33d401001ef7\" xlink:show=\"new\" xlink:title=\"psysml:a72efec8-2b60-4f71-833a-33d401001ef7\" xlink:type=\"simple\"><rect fill=\"#FFFFFF\" height=\"45.9375\" id=\"E6\" rx=\"10\" ry=\"10\" style=\"stroke: #383838; stroke-width: 1.5;\" width=\"42\" x=\"56\" y=\"87.5\"/><text fill=\"#000000\" font-family=\"sans-serif\" font-size=\"12\" font-style=\"italic\" lengthAdjust=\"spacingAndGlyphs\" textLength=\"40\" x=\"57\" y=\"103.6387\">«part»</text><text fill=\"#000000\" font-family=\"sans-serif\" font-size=\"12\" lengthAdjust=\"spacingAndGlyphs\" textLength=\"22\" x=\"64\" y=\"117.6074\">x: A</text><line style=\"stroke: #383838; stroke-width: 1.5;\" x1=\"57\" x2=\"97\" y1=\"125.4375\" y2=\"125.4375\"/></a><a href=\"psysml:18e68ffc-3c50-485f-abff-3c07b29f1978\" target=\"_top\" title=\"psysml:18e68ffc-3c50-485f-abff-3c07b29f1978\" xlink:actuate=\"onRequest\" xlink:href=\"psysml:18e68ffc-3c50-485f-abff-3c07b29f1978\" xlink:show=\"new\" xlink:title=\"psysml:18e68ffc-3c50-485f-abff-3c07b29f1978\" xlink:type=\"simple\"><polygon fill=\"#FFFFFF\" points=\"133,84,165,84,172,106.2969,179,106.2969,179,136.5938,133,136.5938,133,84\" style=\"stroke: #000000; stroke-width: 1.5;\"/><line style=\"stroke: #000000; stroke-width: 1.5;\" x1=\"133\" x2=\"172\" y1=\"106.2969\" y2=\"106.2969\"/><text fill=\"#000000\" font-family=\"sans-serif\" font-size=\"14\" font-weight=\"bold\" lengthAdjust=\"spacingAndGlyphs\" textLength=\"26\" x=\"137\" y=\"98.9951\">P2a</text></a><!--MD5=[15ebcb19ae302d9b601edb458606d402]\n",
       "link E5 to E2--><a href=\"psysml:dfd16e59-ab91-470e-8369-8533004051f7\" target=\"_top\" title=\"psysml:dfd16e59-ab91-470e-8369-8533004051f7\" xlink:actuate=\"onRequest\" xlink:href=\"psysml:dfd16e59-ab91-470e-8369-8533004051f7\" xlink:show=\"new\" xlink:title=\"psysml:dfd16e59-ab91-470e-8369-8533004051f7\" xlink:type=\"simple\"><path d=\"M159.28,137.05 C160.735,148.365 162.5469,162.4656 164.4519,177.2955 C165.4044,184.7104 166.3802,192.3076 167.3463,199.8301 C167.5878,201.7107 167.8287,203.5867 168.0685,205.4539 C168.1884,206.3876 168.308,207.319 168.4273,208.2478 C168.4869,208.7122 168.5465,209.1759 168.6059,209.6389 \" fill=\"none\" id=\"E5-&gt;E2\" style=\"stroke: #383838; stroke-width: 1.0; stroke-dasharray: 7.0,7.0;\"/><polygon fill=\"#383838\" points=\"168.6059,209.6389,171.427,200.2027,167.9691,204.6796,163.4922,201.2217,168.6059,209.6389\" style=\"stroke: #383838; stroke-width: 1.0;\"/><text fill=\"#000000\" font-family=\"sans-serif\" font-size=\"13\" lengthAdjust=\"spacingAndGlyphs\" textLength=\"65\" x=\"166\" y=\"182.0669\">«import»*</text></a><!--MD5=[a717450b82c80b9240a525fa862496af]\n",
       "link E6 to E3--><a href=\"psysml:08f34eb1-8ff4-422d-a9a6-5096bc1237f4\" target=\"_top\" title=\"psysml:08f34eb1-8ff4-422d-a9a6-5096bc1237f4\" xlink:actuate=\"onRequest\" xlink:href=\"psysml:08f34eb1-8ff4-422d-a9a6-5096bc1237f4\" xlink:show=\"new\" xlink:title=\"psysml:08f34eb1-8ff4-422d-a9a6-5096bc1237f4\" xlink:type=\"simple\"><path d=\"M81.05,133.55 C85.7,158.9 93.44,201.1 99.26,232.83 \" fill=\"none\" id=\"E6-&gt;E3\" style=\"stroke: #383838; stroke-width: 1.0;\"/><polygon fill=\"#FFFFFF\" points=\"102.92,252.78,92.6018,235.3578,106.3713,232.8278,102.92,252.78\" style=\"stroke: #383838; stroke-width: 1.0;\"/><ellipse cx=\"93.5388\" cy=\"229.3902\" fill=\"#383838\" rx=\"2\" ry=\"2\" style=\"stroke: #383838; stroke-width: 1.0;\"/><ellipse cx=\"103.3742\" cy=\"227.5831\" fill=\"#383838\" rx=\"2\" ry=\"2\" style=\"stroke: #383838; stroke-width: 1.0;\"/></a><!--MD5=[602ee162b90ed56355587000428a6c92]\n",
       "@startuml\r\n",
       "skinparam monochrome true\r\n",
       "skinparam classbackgroundcolor white\r\n",
       "skinparam shadowing false\r\n",
       "skinparam wrapWidth 300\r\n",
       "hide circle\r\n",
       "\r\n",
       "package \"QualifiedNameImportTest\" as E1  [[psysml:da4cdfd0-3825-4b53-8eea-757999b665bd ]]  {\r\n",
       "package \"P1\" as E2  [[psysml:4a6c4eec-a299-4799-849a-0f6e2ae74607 ]]  {\r\n",
       "comp def \"A\" as E3  <<(T,blue) part  def>> [[psysml:c3954339-5488-4b4b-b1b9-8dc0f4000655 ]] {\r\n",
       "}\r\n",
       "}\r\n",
       "package \"P2\" as E4  [[psysml:eb8258b7-0b9d-4f0f-ab00-8538318b7623 ]]  {\r\n",
       "package \"P2a\" as E5  [[psysml:18e68ffc-3c50-485f-abff-3c07b29f1978 ]]  {\r\n",
       "}\r\n",
       "comp usage \"x: A \" as E6  <<(T,blue) part>> [[psysml:a72efec8-2b60-4f71-833a-33d401001ef7 ]] {\r\n",
       "}\r\n",
       "}\r\n",
       "}\r\n",
       "E5 ..> E2 [[psysml:dfd16e59-ab91-470e-8369-8533004051f7 ]] : <<import>>*\r\n",
       "E6 - -:|> E3 [[psysml:08f34eb1-8ff4-422d-a9a6-5096bc1237f4 ]] \r\n",
       "@enduml\r\n",
       "\n",
       "PlantUML version 1.2020.13(Sat Jun 13 12:26:38 UTC 2020)\n",
       "(EPL source distribution)\n",
       "Java Runtime: OpenJDK Runtime Environment\n",
       "JVM: OpenJDK 64-Bit Server VM\n",
       "Default Encoding: UTF-8\n",
       "Language: en\n",
       "Country: null\n",
       "--></g></svg>"
      ]
     },
     "execution_count": 37,
     "metadata": {},
     "output_type": "execute_result"
    }
   ],
   "source": [
    "%viz --style=\"DEFAULT\" --view=\"Default\" \"QualifiedNameImportTest\""
   ]
  },
  {
   "cell_type": "code",
   "execution_count": 38,
   "id": "a87c4171",
   "metadata": {
    "execution": {
     "iopub.execute_input": "2022-03-21T07:52:09.243491Z",
     "iopub.status.busy": "2022-03-21T07:52:09.243019Z",
     "iopub.status.idle": "2022-03-21T07:52:09.275304Z",
     "shell.execute_reply": "2022-03-21T07:52:09.274669Z"
    }
   },
   "outputs": [
    {
     "data": {
      "image/svg+xml": [
       "<?xml version=\"1.0\" encoding=\"UTF-8\" standalone=\"no\"?><svg xmlns=\"http://www.w3.org/2000/svg\" xmlns:xlink=\"http://www.w3.org/1999/xlink\" contentScriptType=\"application/ecmascript\" contentStyleType=\"text/css\" height=\"367px\" preserveAspectRatio=\"none\" style=\"width:243px;height:367px;\" version=\"1.1\" viewBox=\"0 0 243 367\" width=\"243px\" zoomAndPan=\"magnify\"><defs/><g><!--MD5=[fbc87193dbaf4d95561dea2c320d4a47]\n",
       "cluster E1--><a href=\"psysml:da4cdfd0-3825-4b53-8eea-757999b665bd\" target=\"_top\" title=\"psysml:da4cdfd0-3825-4b53-8eea-757999b665bd\" xlink:actuate=\"onRequest\" xlink:href=\"psysml:da4cdfd0-3825-4b53-8eea-757999b665bd\" xlink:show=\"new\" xlink:title=\"psysml:da4cdfd0-3825-4b53-8eea-757999b665bd\" xlink:type=\"simple\"><polygon fill=\"#FFFFFF\" points=\"16,6,196,6,203,28.2969,219,28.2969,219,355,16,355,16,6\" style=\"stroke: #000000; stroke-width: 1.5;\"/><line style=\"stroke: #000000; stroke-width: 1.5;\" x1=\"16\" x2=\"203\" y1=\"28.2969\" y2=\"28.2969\"/><text fill=\"#000000\" font-family=\"sans-serif\" font-size=\"14\" font-weight=\"bold\" lengthAdjust=\"spacingAndGlyphs\" textLength=\"174\" x=\"20\" y=\"20.9951\">QualifiedNameImportTest</text></a><!--MD5=[e4f7fae6ed58524ba242bb0b0d3be6b7]\n",
       "cluster E2--><a href=\"psysml:4a6c4eec-a299-4799-849a-0f6e2ae74607\" target=\"_top\" title=\"psysml:4a6c4eec-a299-4799-849a-0f6e2ae74607\" xlink:actuate=\"onRequest\" xlink:href=\"psysml:4a6c4eec-a299-4799-849a-0f6e2ae74607\" xlink:show=\"new\" xlink:title=\"psysml:4a6c4eec-a299-4799-849a-0f6e2ae74607\" xlink:type=\"simple\"><polygon fill=\"#FFFFFF\" points=\"48,210,72,210,79,232.2969,185,232.2969,185,323,48,323,48,210\" style=\"stroke: #000000; stroke-width: 1.5;\"/><line style=\"stroke: #000000; stroke-width: 1.5;\" x1=\"48\" x2=\"79\" y1=\"232.2969\" y2=\"232.2969\"/><text fill=\"#000000\" font-family=\"sans-serif\" font-size=\"14\" font-weight=\"bold\" lengthAdjust=\"spacingAndGlyphs\" textLength=\"18\" x=\"52\" y=\"224.9951\">P1</text></a><!--MD5=[f6df4d0ebaf0b5dfb2ced0ae5af7c670]\n",
       "cluster E4--><a href=\"psysml:eb8258b7-0b9d-4f0f-ab00-8538318b7623\" target=\"_top\" title=\"psysml:eb8258b7-0b9d-4f0f-ab00-8538318b7623\" xlink:actuate=\"onRequest\" xlink:href=\"psysml:eb8258b7-0b9d-4f0f-ab00-8538318b7623\" xlink:show=\"new\" xlink:title=\"psysml:eb8258b7-0b9d-4f0f-ab00-8538318b7623\" xlink:type=\"simple\"><polygon fill=\"#FFFFFF\" points=\"40,49,64,49,71,71.2969,195,71.2969,195,153,40,153,40,49\" style=\"stroke: #000000; stroke-width: 1.5;\"/><line style=\"stroke: #000000; stroke-width: 1.5;\" x1=\"40\" x2=\"71\" y1=\"71.2969\" y2=\"71.2969\"/><text fill=\"#000000\" font-family=\"sans-serif\" font-size=\"14\" font-weight=\"bold\" lengthAdjust=\"spacingAndGlyphs\" textLength=\"18\" x=\"44\" y=\"63.9951\">P2</text></a><!--MD5=[09b614a08d8cba4a07c9adeb5e0fee81]\n",
       "class E3--><a href=\"psysml:c3954339-5488-4b4b-b1b9-8dc0f4000655\" target=\"_top\" title=\"psysml:c3954339-5488-4b4b-b1b9-8dc0f4000655\" xlink:actuate=\"onRequest\" xlink:href=\"psysml:c3954339-5488-4b4b-b1b9-8dc0f4000655\" xlink:show=\"new\" xlink:title=\"psysml:c3954339-5488-4b4b-b1b9-8dc0f4000655\" xlink:type=\"simple\"><rect fill=\"#FFFFFF\" height=\"45.9375\" id=\"E3\" style=\"stroke: #383838; stroke-width: 1.5;\" width=\"70\" x=\"72\" y=\"253\"/><text fill=\"#000000\" font-family=\"sans-serif\" font-size=\"12\" font-style=\"italic\" lengthAdjust=\"spacingAndGlyphs\" textLength=\"68\" x=\"73\" y=\"269.1387\">«part  def»</text><text fill=\"#000000\" font-family=\"sans-serif\" font-size=\"12\" lengthAdjust=\"spacingAndGlyphs\" textLength=\"8\" x=\"103\" y=\"283.1074\">A</text><line style=\"stroke: #383838; stroke-width: 1.5;\" x1=\"73\" x2=\"141\" y1=\"290.9375\" y2=\"290.9375\"/></a><!--MD5=[60a26617385b1d2d0262a64233df1f8d]\n",
       "class E6--><a href=\"psysml:a72efec8-2b60-4f71-833a-33d401001ef7\" target=\"_top\" title=\"psysml:a72efec8-2b60-4f71-833a-33d401001ef7\" xlink:actuate=\"onRequest\" xlink:href=\"psysml:a72efec8-2b60-4f71-833a-33d401001ef7\" xlink:show=\"new\" xlink:title=\"psysml:a72efec8-2b60-4f71-833a-33d401001ef7\" xlink:type=\"simple\"><rect fill=\"#FFFFFF\" height=\"45.9375\" id=\"E6\" rx=\"10\" ry=\"10\" style=\"stroke: #383838; stroke-width: 1.5;\" width=\"42\" x=\"56\" y=\"87.5\"/><text fill=\"#000000\" font-family=\"sans-serif\" font-size=\"12\" font-style=\"italic\" lengthAdjust=\"spacingAndGlyphs\" textLength=\"40\" x=\"57\" y=\"103.6387\">«part»</text><text fill=\"#000000\" font-family=\"sans-serif\" font-size=\"12\" lengthAdjust=\"spacingAndGlyphs\" textLength=\"22\" x=\"64\" y=\"117.6074\">x: A</text><line style=\"stroke: #383838; stroke-width: 1.5;\" x1=\"57\" x2=\"97\" y1=\"125.4375\" y2=\"125.4375\"/></a><a href=\"psysml:18e68ffc-3c50-485f-abff-3c07b29f1978\" target=\"_top\" title=\"psysml:18e68ffc-3c50-485f-abff-3c07b29f1978\" xlink:actuate=\"onRequest\" xlink:href=\"psysml:18e68ffc-3c50-485f-abff-3c07b29f1978\" xlink:show=\"new\" xlink:title=\"psysml:18e68ffc-3c50-485f-abff-3c07b29f1978\" xlink:type=\"simple\"><polygon fill=\"#FFFFFF\" points=\"133,84,165,84,172,106.2969,179,106.2969,179,136.5938,133,136.5938,133,84\" style=\"stroke: #000000; stroke-width: 1.5;\"/><line style=\"stroke: #000000; stroke-width: 1.5;\" x1=\"133\" x2=\"172\" y1=\"106.2969\" y2=\"106.2969\"/><text fill=\"#000000\" font-family=\"sans-serif\" font-size=\"14\" font-weight=\"bold\" lengthAdjust=\"spacingAndGlyphs\" textLength=\"26\" x=\"137\" y=\"98.9951\">P2a</text></a><!--MD5=[15ebcb19ae302d9b601edb458606d402]\n",
       "link E5 to E2--><a href=\"psysml:dfd16e59-ab91-470e-8369-8533004051f7\" target=\"_top\" title=\"psysml:dfd16e59-ab91-470e-8369-8533004051f7\" xlink:actuate=\"onRequest\" xlink:href=\"psysml:dfd16e59-ab91-470e-8369-8533004051f7\" xlink:show=\"new\" xlink:title=\"psysml:dfd16e59-ab91-470e-8369-8533004051f7\" xlink:type=\"simple\"><path d=\"M159.28,137.05 C160.735,148.365 162.5469,162.4656 164.4519,177.2955 C165.4044,184.7104 166.3802,192.3076 167.3463,199.8301 C167.5878,201.7107 167.8287,203.5867 168.0685,205.4539 C168.1884,206.3876 168.308,207.319 168.4273,208.2478 C168.4869,208.7122 168.5465,209.1759 168.6059,209.6389 \" fill=\"none\" id=\"E5-&gt;E2\" style=\"stroke: #383838; stroke-width: 1.0; stroke-dasharray: 7.0,7.0;\"/><polygon fill=\"#383838\" points=\"168.6059,209.6389,171.427,200.2027,167.9691,204.6796,163.4922,201.2217,168.6059,209.6389\" style=\"stroke: #383838; stroke-width: 1.0;\"/><text fill=\"#000000\" font-family=\"sans-serif\" font-size=\"13\" lengthAdjust=\"spacingAndGlyphs\" textLength=\"65\" x=\"166\" y=\"182.0669\">«import»*</text></a><!--MD5=[a717450b82c80b9240a525fa862496af]\n",
       "link E6 to E3--><a href=\"psysml:08f34eb1-8ff4-422d-a9a6-5096bc1237f4\" target=\"_top\" title=\"psysml:08f34eb1-8ff4-422d-a9a6-5096bc1237f4\" xlink:actuate=\"onRequest\" xlink:href=\"psysml:08f34eb1-8ff4-422d-a9a6-5096bc1237f4\" xlink:show=\"new\" xlink:title=\"psysml:08f34eb1-8ff4-422d-a9a6-5096bc1237f4\" xlink:type=\"simple\"><path d=\"M81.05,133.55 C85.7,158.9 93.44,201.1 99.26,232.83 \" fill=\"none\" id=\"E6-&gt;E3\" style=\"stroke: #383838; stroke-width: 1.0;\"/><polygon fill=\"#FFFFFF\" points=\"102.92,252.78,92.6018,235.3578,106.3713,232.8278,102.92,252.78\" style=\"stroke: #383838; stroke-width: 1.0;\"/><ellipse cx=\"93.5388\" cy=\"229.3902\" fill=\"#383838\" rx=\"2\" ry=\"2\" style=\"stroke: #383838; stroke-width: 1.0;\"/><ellipse cx=\"103.3742\" cy=\"227.5831\" fill=\"#383838\" rx=\"2\" ry=\"2\" style=\"stroke: #383838; stroke-width: 1.0;\"/></a><!--MD5=[602ee162b90ed56355587000428a6c92]\n",
       "@startuml\r\n",
       "skinparam monochrome true\r\n",
       "skinparam classbackgroundcolor white\r\n",
       "skinparam shadowing false\r\n",
       "skinparam wrapWidth 300\r\n",
       "hide circle\r\n",
       "\r\n",
       "package \"QualifiedNameImportTest\" as E1  [[psysml:da4cdfd0-3825-4b53-8eea-757999b665bd ]]  {\r\n",
       "package \"P1\" as E2  [[psysml:4a6c4eec-a299-4799-849a-0f6e2ae74607 ]]  {\r\n",
       "comp def \"A\" as E3  <<(T,blue) part  def>> [[psysml:c3954339-5488-4b4b-b1b9-8dc0f4000655 ]] {\r\n",
       "}\r\n",
       "}\r\n",
       "package \"P2\" as E4  [[psysml:eb8258b7-0b9d-4f0f-ab00-8538318b7623 ]]  {\r\n",
       "package \"P2a\" as E5  [[psysml:18e68ffc-3c50-485f-abff-3c07b29f1978 ]]  {\r\n",
       "}\r\n",
       "comp usage \"x: A \" as E6  <<(T,blue) part>> [[psysml:a72efec8-2b60-4f71-833a-33d401001ef7 ]] {\r\n",
       "}\r\n",
       "}\r\n",
       "}\r\n",
       "E5 ..> E2 [[psysml:dfd16e59-ab91-470e-8369-8533004051f7 ]] : <<import>>*\r\n",
       "E6 - -:|> E3 [[psysml:08f34eb1-8ff4-422d-a9a6-5096bc1237f4 ]] \r\n",
       "@enduml\r\n",
       "\n",
       "PlantUML version 1.2020.13(Sat Jun 13 12:26:38 UTC 2020)\n",
       "(EPL source distribution)\n",
       "Java Runtime: OpenJDK Runtime Environment\n",
       "JVM: OpenJDK 64-Bit Server VM\n",
       "Default Encoding: UTF-8\n",
       "Language: en\n",
       "Country: null\n",
       "--></g></svg>"
      ]
     },
     "execution_count": 38,
     "metadata": {},
     "output_type": "execute_result"
    }
   ],
   "source": [
    "%viz --style=\"DEFAULT\" --view=\"Tree\" \"QualifiedNameImportTest\""
   ]
  },
  {
   "cell_type": "code",
   "execution_count": 39,
   "id": "ec6aab83",
   "metadata": {
    "execution": {
     "iopub.execute_input": "2022-03-21T07:52:09.324102Z",
     "iopub.status.busy": "2022-03-21T07:52:09.323475Z",
     "iopub.status.idle": "2022-03-21T07:52:09.328400Z",
     "shell.execute_reply": "2022-03-21T07:52:09.327899Z"
    }
   },
   "outputs": [
    {
     "data": {
      "image/svg+xml": [
       "<?xml version=\"1.0\" encoding=\"UTF-8\" standalone=\"no\"?><svg xmlns=\"http://www.w3.org/2000/svg\" xmlns:xlink=\"http://www.w3.org/1999/xlink\" contentScriptType=\"application/ecmascript\" contentStyleType=\"text/css\" height=\"12px\" preserveAspectRatio=\"none\" style=\"width:12px;height:12px;\" version=\"1.1\" viewBox=\"0 0 12 12\" width=\"12px\" zoomAndPan=\"magnify\"><defs/><g><!--MD5=[c5f280e076d0d61ccf4b0f27871bda1d]\n",
       "@startuml\r\n",
       "skinparam monochrome true\r\n",
       "skinparam classbackgroundcolor white\r\n",
       "skinparam shadowing false\r\n",
       "skinparam wrapWidth 300\r\n",
       "hide circle\r\n",
       "\r\n",
       "@enduml\r\n",
       "\n",
       "PlantUML version 1.2020.13(Sat Jun 13 12:26:38 UTC 2020)\n",
       "(EPL source distribution)\n",
       "Java Runtime: OpenJDK Runtime Environment\n",
       "JVM: OpenJDK 64-Bit Server VM\n",
       "Default Encoding: UTF-8\n",
       "Language: en\n",
       "Country: null\n",
       "--></g></svg>"
      ]
     },
     "execution_count": 39,
     "metadata": {},
     "output_type": "execute_result"
    }
   ],
   "source": [
    "%viz --style=\"DEFAULT\" --view=\"State\" \"QualifiedNameImportTest\""
   ]
  },
  {
   "cell_type": "code",
   "execution_count": 40,
   "id": "b025d1fd",
   "metadata": {
    "execution": {
     "iopub.execute_input": "2022-03-21T07:52:09.378162Z",
     "iopub.status.busy": "2022-03-21T07:52:09.377522Z",
     "iopub.status.idle": "2022-03-21T07:52:09.405090Z",
     "shell.execute_reply": "2022-03-21T07:52:09.405429Z"
    }
   },
   "outputs": [
    {
     "data": {
      "image/svg+xml": [
       "<?xml version=\"1.0\" encoding=\"UTF-8\" standalone=\"no\"?><svg xmlns=\"http://www.w3.org/2000/svg\" xmlns:xlink=\"http://www.w3.org/1999/xlink\" contentScriptType=\"application/ecmascript\" contentStyleType=\"text/css\" height=\"364px\" preserveAspectRatio=\"none\" style=\"width:249px;height:364px;\" version=\"1.1\" viewBox=\"0 0 249 364\" width=\"249px\" zoomAndPan=\"magnify\"><defs/><g><!--MD5=[fbc87193dbaf4d95561dea2c320d4a47]\n",
       "cluster E1--><a href=\"psysml:da4cdfd0-3825-4b53-8eea-757999b665bd\" target=\"_top\" title=\"psysml:da4cdfd0-3825-4b53-8eea-757999b665bd\" xlink:actuate=\"onRequest\" xlink:href=\"psysml:da4cdfd0-3825-4b53-8eea-757999b665bd\" xlink:show=\"new\" xlink:title=\"psysml:da4cdfd0-3825-4b53-8eea-757999b665bd\" xlink:type=\"simple\"><polygon fill=\"#FFFFFF\" points=\"16,6,196,6,203,28.2969,227,28.2969,227,352,16,352,16,6\" style=\"stroke: #000000; stroke-width: 1.5;\"/><line style=\"stroke: #000000; stroke-width: 1.5;\" x1=\"16\" x2=\"203\" y1=\"28.2969\" y2=\"28.2969\"/><text fill=\"#000000\" font-family=\"sans-serif\" font-size=\"14\" font-weight=\"bold\" lengthAdjust=\"spacingAndGlyphs\" textLength=\"174\" x=\"20\" y=\"20.9951\">QualifiedNameImportTest</text></a><!--MD5=[e4f7fae6ed58524ba242bb0b0d3be6b7]\n",
       "cluster E2--><a href=\"psysml:4a6c4eec-a299-4799-849a-0f6e2ae74607\" target=\"_top\" title=\"psysml:4a6c4eec-a299-4799-849a-0f6e2ae74607\" xlink:actuate=\"onRequest\" xlink:href=\"psysml:4a6c4eec-a299-4799-849a-0f6e2ae74607\" xlink:show=\"new\" xlink:title=\"psysml:4a6c4eec-a299-4799-849a-0f6e2ae74607\" xlink:type=\"simple\"><polygon fill=\"#FFFFFF\" points=\"53,210,77,210,84,232.2969,195,232.2969,195,320,53,320,53,210\" style=\"stroke: #000000; stroke-width: 1.5;\"/><line style=\"stroke: #000000; stroke-width: 1.5;\" x1=\"53\" x2=\"84\" y1=\"232.2969\" y2=\"232.2969\"/><text fill=\"#000000\" font-family=\"sans-serif\" font-size=\"14\" font-weight=\"bold\" lengthAdjust=\"spacingAndGlyphs\" textLength=\"18\" x=\"57\" y=\"224.9951\">P1</text></a><!--MD5=[f6df4d0ebaf0b5dfb2ced0ae5af7c670]\n",
       "cluster E4--><a href=\"psysml:eb8258b7-0b9d-4f0f-ab00-8538318b7623\" target=\"_top\" title=\"psysml:eb8258b7-0b9d-4f0f-ab00-8538318b7623\" xlink:actuate=\"onRequest\" xlink:href=\"psysml:eb8258b7-0b9d-4f0f-ab00-8538318b7623\" xlink:show=\"new\" xlink:title=\"psysml:eb8258b7-0b9d-4f0f-ab00-8538318b7623\" xlink:type=\"simple\"><polygon fill=\"#FFFFFF\" points=\"40,49,64,49,71,71.2969,203,71.2969,203,153,40,153,40,49\" style=\"stroke: #000000; stroke-width: 1.5;\"/><line style=\"stroke: #000000; stroke-width: 1.5;\" x1=\"40\" x2=\"71\" y1=\"71.2969\" y2=\"71.2969\"/><text fill=\"#000000\" font-family=\"sans-serif\" font-size=\"14\" font-weight=\"bold\" lengthAdjust=\"spacingAndGlyphs\" textLength=\"18\" x=\"44\" y=\"63.9951\">P2</text></a><g id=\"E1.E2.E3\"><a href=\"psysml:c3954339-5488-4b4b-b1b9-8dc0f4000655\" target=\"_top\" title=\"psysml:c3954339-5488-4b4b-b1b9-8dc0f4000655\" xlink:actuate=\"onRequest\" xlink:href=\"psysml:c3954339-5488-4b4b-b1b9-8dc0f4000655\" xlink:show=\"new\" xlink:title=\"psysml:c3954339-5488-4b4b-b1b9-8dc0f4000655\" xlink:type=\"simple\"><rect fill=\"#FFFFFF\" height=\"42.9375\" id=\"E3\" style=\"stroke: #383838; stroke-width: 1.5;\" width=\"75\" x=\"96.5\" y=\"253\"/><rect fill=\"#F8F8F8\" height=\"37.9375\" style=\"stroke: #383838; stroke-width: 1.5;\" width=\"75\" x=\"96.5\" y=\"253\"/><text fill=\"#000000\" font-family=\"sans-serif\" font-size=\"12\" font-style=\"italic\" lengthAdjust=\"spacingAndGlyphs\" textLength=\"68\" x=\"100\" y=\"269.1387\">«part  def»</text><text fill=\"#000000\" font-family=\"sans-serif\" font-size=\"12\" lengthAdjust=\"spacingAndGlyphs\" textLength=\"8\" x=\"130\" y=\"283.1074\">A</text></a></g><a href=\"psysml:18e68ffc-3c50-485f-abff-3c07b29f1978\" target=\"_top\" title=\"psysml:18e68ffc-3c50-485f-abff-3c07b29f1978\" xlink:actuate=\"onRequest\" xlink:href=\"psysml:18e68ffc-3c50-485f-abff-3c07b29f1978\" xlink:show=\"new\" xlink:title=\"psysml:18e68ffc-3c50-485f-abff-3c07b29f1978\" xlink:type=\"simple\"><polygon fill=\"#FFFFFF\" points=\"141,84,173,84,180,106.2969,187,106.2969,187,136.5938,141,136.5938,141,84\" style=\"stroke: #000000; stroke-width: 1.5;\"/><line style=\"stroke: #000000; stroke-width: 1.5;\" x1=\"141\" x2=\"180\" y1=\"106.2969\" y2=\"106.2969\"/><text fill=\"#000000\" font-family=\"sans-serif\" font-size=\"14\" font-weight=\"bold\" lengthAdjust=\"spacingAndGlyphs\" textLength=\"26\" x=\"145\" y=\"98.9951\">P2a</text></a><g id=\"E1.E4.E6\"><a href=\"psysml:a72efec8-2b60-4f71-833a-33d401001ef7\" target=\"_top\" title=\"psysml:a72efec8-2b60-4f71-833a-33d401001ef7\" xlink:actuate=\"onRequest\" xlink:href=\"psysml:a72efec8-2b60-4f71-833a-33d401001ef7\" xlink:show=\"new\" xlink:title=\"psysml:a72efec8-2b60-4f71-833a-33d401001ef7\" xlink:type=\"simple\"><rect fill=\"#FFFFFF\" height=\"40\" id=\"E6\" rx=\"10\" ry=\"10\" style=\"stroke: #383838; stroke-width: 1.5;\" width=\"50\" x=\"56\" y=\"90.5\"/><rect fill=\"#F8F8F8\" height=\"23.9688\" rx=\"10\" ry=\"10\" style=\"stroke: #F8F8F8; stroke-width: 1.5;\" width=\"50\" x=\"56\" y=\"90.5\"/><rect fill=\"#F8F8F8\" height=\"10\" style=\"stroke: #F8F8F8; stroke-width: 1.5;\" width=\"50\" x=\"56\" y=\"104.4688\"/><rect fill=\"none\" height=\"40\" id=\"E6\" rx=\"10\" ry=\"10\" style=\"stroke: #383838; stroke-width: 1.5;\" width=\"50\" x=\"56\" y=\"90.5\"/><text fill=\"#000000\" font-family=\"sans-serif\" font-size=\"12\" lengthAdjust=\"spacingAndGlyphs\" textLength=\"22\" x=\"70\" y=\"106.6387\">x: A</text></a></g><!--MD5=[15ebcb19ae302d9b601edb458606d402]\n",
       "link E5 to E2--><a href=\"psysml:dfd16e59-ab91-470e-8369-8533004051f7\" target=\"_top\" title=\"psysml:dfd16e59-ab91-470e-8369-8533004051f7\" xlink:actuate=\"onRequest\" xlink:href=\"psysml:dfd16e59-ab91-470e-8369-8533004051f7\" xlink:show=\"new\" xlink:title=\"psysml:dfd16e59-ab91-470e-8369-8533004051f7\" xlink:type=\"simple\"><path d=\"M145.15,137.17 C138.8,145.15 131.44,153.75 124,161 C106.75,177.82 94.23,173.87 81,194 C78.5775,197.6875 76.4484,201.6477 74.5773,205.7604 C74.1095,206.7885 73.6578,207.8263 73.2217,208.8716 C73.1127,209.133 73.0046,209.3948 72.8975,209.6571 \" fill=\"none\" id=\"E5-&gt;E2\" style=\"stroke: #383838; stroke-width: 1.0; stroke-dasharray: 7.0,7.0;\"/><polygon fill=\"#383838\" points=\"72.8975,209.6571,80.0029,202.837,74.7876,205.0281,72.5965,199.8128,72.8975,209.6571\" style=\"stroke: #383838; stroke-width: 1.0;\"/><text fill=\"#000000\" font-family=\"sans-serif\" font-size=\"13\" lengthAdjust=\"spacingAndGlyphs\" textLength=\"65\" x=\"114\" y=\"182.0669\">«import»*</text></a><!--MD5=[2e93ac4bb71d2c5133a6de5b4b0a3ac9]\n",
       "@startuml\r\n",
       "skinparam ranksep 10\r\n",
       "skinparam rectangle {\r\n",
       " backgroundColor<<block>> LightGreen\r\n",
       "}\r\n",
       "skinparam monochrome true\r\n",
       "skinparam classbackgroundcolor white\r\n",
       "skinparam shadowing false\r\n",
       "skinparam wrapWidth 300\r\n",
       "hide circle\r\n",
       "\r\n",
       "package \"QualifiedNameImportTest\" as E1  [[psysml:da4cdfd0-3825-4b53-8eea-757999b665bd ]]  {\r\n",
       "package \"P1\" as E2  [[psysml:4a6c4eec-a299-4799-849a-0f6e2ae74607 ]]  {\r\n",
       "rec def \"A\" as E3  <<(T,blue) part  def>> [[psysml:c3954339-5488-4b4b-b1b9-8dc0f4000655 ]] {\r\n",
       "}\r\n",
       "}\r\n",
       "package \"P2\" as E4  [[psysml:eb8258b7-0b9d-4f0f-ab00-8538318b7623 ]]  {\r\n",
       "package \"P2a\" as E5  [[psysml:18e68ffc-3c50-485f-abff-3c07b29f1978 ]]  {\r\n",
       "}\r\n",
       "rec usage \"x: A\" as E6  [[psysml:a72efec8-2b60-4f71-833a-33d401001ef7 ]] {\r\n",
       "}\r\n",
       "}\r\n",
       "}\r\n",
       "E5 ..> E2 [[psysml:dfd16e59-ab91-470e-8369-8533004051f7 ]] : <<import>>*\r\n",
       "@enduml\r\n",
       "\n",
       "PlantUML version 1.2020.13(Sat Jun 13 12:26:38 UTC 2020)\n",
       "(EPL source distribution)\n",
       "Java Runtime: OpenJDK Runtime Environment\n",
       "JVM: OpenJDK 64-Bit Server VM\n",
       "Default Encoding: UTF-8\n",
       "Language: en\n",
       "Country: null\n",
       "--></g></svg>"
      ]
     },
     "execution_count": 40,
     "metadata": {},
     "output_type": "execute_result"
    }
   ],
   "source": [
    "%viz --style=\"DEFAULT\" --view=\"Interconnection\" \"QualifiedNameImportTest\""
   ]
  },
  {
   "cell_type": "code",
   "execution_count": 41,
   "id": "9d041423",
   "metadata": {
    "execution": {
     "iopub.execute_input": "2022-03-21T07:52:09.455313Z",
     "iopub.status.busy": "2022-03-21T07:52:09.454884Z",
     "iopub.status.idle": "2022-03-21T07:52:09.460038Z",
     "shell.execute_reply": "2022-03-21T07:52:09.460360Z"
    }
   },
   "outputs": [
    {
     "data": {
      "image/svg+xml": [
       "<?xml version=\"1.0\" encoding=\"UTF-8\" standalone=\"no\"?><svg xmlns=\"http://www.w3.org/2000/svg\" xmlns:xlink=\"http://www.w3.org/1999/xlink\" contentScriptType=\"application/ecmascript\" contentStyleType=\"text/css\" height=\"12px\" preserveAspectRatio=\"none\" style=\"width:12px;height:12px;\" version=\"1.1\" viewBox=\"0 0 12 12\" width=\"12px\" zoomAndPan=\"magnify\"><defs/><g><!--MD5=[388f21188e31bfdd97050473b19af356]\n",
       "@startuml\r\n",
       "skinparam ranksep 8\r\n",
       "skinparam monochrome true\r\n",
       "skinparam classbackgroundcolor white\r\n",
       "skinparam shadowing false\r\n",
       "skinparam wrapWidth 300\r\n",
       "hide circle\r\n",
       "\r\n",
       "@enduml\r\n",
       "\n",
       "PlantUML version 1.2020.13(Sat Jun 13 12:26:38 UTC 2020)\n",
       "(EPL source distribution)\n",
       "Java Runtime: OpenJDK Runtime Environment\n",
       "JVM: OpenJDK 64-Bit Server VM\n",
       "Default Encoding: UTF-8\n",
       "Language: en\n",
       "Country: null\n",
       "--></g></svg>"
      ]
     },
     "execution_count": 41,
     "metadata": {},
     "output_type": "execute_result"
    }
   ],
   "source": [
    "%viz --style=\"DEFAULT\" --view=\"Action\" \"QualifiedNameImportTest\""
   ]
  },
  {
   "cell_type": "code",
   "execution_count": 42,
   "id": "dee5794e",
   "metadata": {
    "execution": {
     "iopub.execute_input": "2022-03-21T07:52:09.510701Z",
     "iopub.status.busy": "2022-03-21T07:52:09.510292Z",
     "iopub.status.idle": "2022-03-21T07:52:09.516793Z",
     "shell.execute_reply": "2022-03-21T07:52:09.517113Z"
    }
   },
   "outputs": [
    {
     "data": {
      "image/svg+xml": [
       "<?xml version=\"1.0\" encoding=\"UTF-8\" standalone=\"no\"?><svg xmlns=\"http://www.w3.org/2000/svg\" xmlns:xlink=\"http://www.w3.org/1999/xlink\" contentScriptType=\"application/ecmascript\" contentStyleType=\"text/css\" height=\"12px\" preserveAspectRatio=\"none\" style=\"width:12px;height:12px;\" version=\"1.1\" viewBox=\"0 0 12 12\" width=\"12px\" zoomAndPan=\"magnify\"><defs/><g><!--MD5=[0b72472770326784bf6c2b53246e1e64]\n",
       "@startuml\r\n",
       "skinparam roundcorner 20\r\n",
       "skinparam BoxPadding 20\r\n",
       "skinparam SequenceBoxBackgroundColor #white\r\n",
       "skinparam style strictuml\r\n",
       "skinparam maxMessageSize 100\r\n",
       "skinparam monochrome true\r\n",
       "skinparam classbackgroundcolor white\r\n",
       "skinparam shadowing false\r\n",
       "skinparam wrapWidth 300\r\n",
       "hide circle\r\n",
       "\r\n",
       "@enduml\r\n",
       "\n",
       "PlantUML version 1.2020.13(Sat Jun 13 12:26:38 UTC 2020)\n",
       "(EPL source distribution)\n",
       "Java Runtime: OpenJDK Runtime Environment\n",
       "JVM: OpenJDK 64-Bit Server VM\n",
       "Default Encoding: UTF-8\n",
       "Language: en\n",
       "Country: null\n",
       "--></g></svg>"
      ]
     },
     "execution_count": 42,
     "metadata": {},
     "output_type": "execute_result"
    }
   ],
   "source": [
    "%viz --style=\"DEFAULT\" --view=\"Sequence\" \"QualifiedNameImportTest\""
   ]
  },
  {
   "cell_type": "code",
   "execution_count": 43,
   "id": "150c98f0",
   "metadata": {
    "execution": {
     "iopub.execute_input": "2022-03-21T07:52:09.567531Z",
     "iopub.status.busy": "2022-03-21T07:52:09.567111Z",
     "iopub.status.idle": "2022-03-21T07:52:09.598229Z",
     "shell.execute_reply": "2022-03-21T07:52:09.597820Z"
    }
   },
   "outputs": [
    {
     "data": {
      "image/svg+xml": [
       "<?xml version=\"1.0\" encoding=\"UTF-8\" standalone=\"no\"?><svg xmlns=\"http://www.w3.org/2000/svg\" xmlns:xlink=\"http://www.w3.org/1999/xlink\" contentScriptType=\"application/ecmascript\" contentStyleType=\"text/css\" height=\"367px\" preserveAspectRatio=\"none\" style=\"width:243px;height:367px;\" version=\"1.1\" viewBox=\"0 0 243 367\" width=\"243px\" zoomAndPan=\"magnify\"><defs/><g><!--MD5=[fbc87193dbaf4d95561dea2c320d4a47]\n",
       "cluster E1--><a href=\"psysml:da4cdfd0-3825-4b53-8eea-757999b665bd\" target=\"_top\" title=\"psysml:da4cdfd0-3825-4b53-8eea-757999b665bd\" xlink:actuate=\"onRequest\" xlink:href=\"psysml:da4cdfd0-3825-4b53-8eea-757999b665bd\" xlink:show=\"new\" xlink:title=\"psysml:da4cdfd0-3825-4b53-8eea-757999b665bd\" xlink:type=\"simple\"><polygon fill=\"#FFFFFF\" points=\"16,6,196,6,203,28.2969,219,28.2969,219,355,16,355,16,6\" style=\"stroke: #000000; stroke-width: 1.5;\"/><line style=\"stroke: #000000; stroke-width: 1.5;\" x1=\"16\" x2=\"203\" y1=\"28.2969\" y2=\"28.2969\"/><text fill=\"#000000\" font-family=\"sans-serif\" font-size=\"14\" font-weight=\"bold\" lengthAdjust=\"spacingAndGlyphs\" textLength=\"174\" x=\"20\" y=\"20.9951\">QualifiedNameImportTest</text></a><!--MD5=[e4f7fae6ed58524ba242bb0b0d3be6b7]\n",
       "cluster E2--><a href=\"psysml:4a6c4eec-a299-4799-849a-0f6e2ae74607\" target=\"_top\" title=\"psysml:4a6c4eec-a299-4799-849a-0f6e2ae74607\" xlink:actuate=\"onRequest\" xlink:href=\"psysml:4a6c4eec-a299-4799-849a-0f6e2ae74607\" xlink:show=\"new\" xlink:title=\"psysml:4a6c4eec-a299-4799-849a-0f6e2ae74607\" xlink:type=\"simple\"><polygon fill=\"#FFFFFF\" points=\"48,210,72,210,79,232.2969,185,232.2969,185,323,48,323,48,210\" style=\"stroke: #000000; stroke-width: 1.5;\"/><line style=\"stroke: #000000; stroke-width: 1.5;\" x1=\"48\" x2=\"79\" y1=\"232.2969\" y2=\"232.2969\"/><text fill=\"#000000\" font-family=\"sans-serif\" font-size=\"14\" font-weight=\"bold\" lengthAdjust=\"spacingAndGlyphs\" textLength=\"18\" x=\"52\" y=\"224.9951\">P1</text></a><!--MD5=[f6df4d0ebaf0b5dfb2ced0ae5af7c670]\n",
       "cluster E4--><a href=\"psysml:eb8258b7-0b9d-4f0f-ab00-8538318b7623\" target=\"_top\" title=\"psysml:eb8258b7-0b9d-4f0f-ab00-8538318b7623\" xlink:actuate=\"onRequest\" xlink:href=\"psysml:eb8258b7-0b9d-4f0f-ab00-8538318b7623\" xlink:show=\"new\" xlink:title=\"psysml:eb8258b7-0b9d-4f0f-ab00-8538318b7623\" xlink:type=\"simple\"><polygon fill=\"#FFFFFF\" points=\"40,49,64,49,71,71.2969,195,71.2969,195,153,40,153,40,49\" style=\"stroke: #000000; stroke-width: 1.5;\"/><line style=\"stroke: #000000; stroke-width: 1.5;\" x1=\"40\" x2=\"71\" y1=\"71.2969\" y2=\"71.2969\"/><text fill=\"#000000\" font-family=\"sans-serif\" font-size=\"14\" font-weight=\"bold\" lengthAdjust=\"spacingAndGlyphs\" textLength=\"18\" x=\"44\" y=\"63.9951\">P2</text></a><!--MD5=[09b614a08d8cba4a07c9adeb5e0fee81]\n",
       "class E3--><a href=\"psysml:c3954339-5488-4b4b-b1b9-8dc0f4000655\" target=\"_top\" title=\"psysml:c3954339-5488-4b4b-b1b9-8dc0f4000655\" xlink:actuate=\"onRequest\" xlink:href=\"psysml:c3954339-5488-4b4b-b1b9-8dc0f4000655\" xlink:show=\"new\" xlink:title=\"psysml:c3954339-5488-4b4b-b1b9-8dc0f4000655\" xlink:type=\"simple\"><rect fill=\"#FFFFFF\" height=\"45.9375\" id=\"E3\" style=\"stroke: #383838; stroke-width: 1.5;\" width=\"70\" x=\"72\" y=\"253\"/><text fill=\"#000000\" font-family=\"sans-serif\" font-size=\"12\" font-style=\"italic\" lengthAdjust=\"spacingAndGlyphs\" textLength=\"68\" x=\"73\" y=\"269.1387\">«part  def»</text><text fill=\"#000000\" font-family=\"sans-serif\" font-size=\"12\" lengthAdjust=\"spacingAndGlyphs\" textLength=\"8\" x=\"103\" y=\"283.1074\">A</text><line style=\"stroke: #383838; stroke-width: 1.5;\" x1=\"73\" x2=\"141\" y1=\"290.9375\" y2=\"290.9375\"/></a><!--MD5=[60a26617385b1d2d0262a64233df1f8d]\n",
       "class E6--><a href=\"psysml:a72efec8-2b60-4f71-833a-33d401001ef7\" target=\"_top\" title=\"psysml:a72efec8-2b60-4f71-833a-33d401001ef7\" xlink:actuate=\"onRequest\" xlink:href=\"psysml:a72efec8-2b60-4f71-833a-33d401001ef7\" xlink:show=\"new\" xlink:title=\"psysml:a72efec8-2b60-4f71-833a-33d401001ef7\" xlink:type=\"simple\"><rect fill=\"#FFFFFF\" height=\"45.9375\" id=\"E6\" rx=\"10\" ry=\"10\" style=\"stroke: #383838; stroke-width: 1.5;\" width=\"42\" x=\"56\" y=\"87.5\"/><text fill=\"#000000\" font-family=\"sans-serif\" font-size=\"12\" font-style=\"italic\" lengthAdjust=\"spacingAndGlyphs\" textLength=\"40\" x=\"57\" y=\"103.6387\">«part»</text><text fill=\"#000000\" font-family=\"sans-serif\" font-size=\"12\" lengthAdjust=\"spacingAndGlyphs\" textLength=\"22\" x=\"64\" y=\"117.6074\">x: A</text><line style=\"stroke: #383838; stroke-width: 1.5;\" x1=\"57\" x2=\"97\" y1=\"125.4375\" y2=\"125.4375\"/></a><a href=\"psysml:18e68ffc-3c50-485f-abff-3c07b29f1978\" target=\"_top\" title=\"psysml:18e68ffc-3c50-485f-abff-3c07b29f1978\" xlink:actuate=\"onRequest\" xlink:href=\"psysml:18e68ffc-3c50-485f-abff-3c07b29f1978\" xlink:show=\"new\" xlink:title=\"psysml:18e68ffc-3c50-485f-abff-3c07b29f1978\" xlink:type=\"simple\"><polygon fill=\"#FFFFFF\" points=\"133,84,165,84,172,106.2969,179,106.2969,179,136.5938,133,136.5938,133,84\" style=\"stroke: #000000; stroke-width: 1.5;\"/><line style=\"stroke: #000000; stroke-width: 1.5;\" x1=\"133\" x2=\"172\" y1=\"106.2969\" y2=\"106.2969\"/><text fill=\"#000000\" font-family=\"sans-serif\" font-size=\"14\" font-weight=\"bold\" lengthAdjust=\"spacingAndGlyphs\" textLength=\"26\" x=\"137\" y=\"98.9951\">P2a</text></a><!--MD5=[15ebcb19ae302d9b601edb458606d402]\n",
       "link E5 to E2--><a href=\"psysml:dfd16e59-ab91-470e-8369-8533004051f7\" target=\"_top\" title=\"psysml:dfd16e59-ab91-470e-8369-8533004051f7\" xlink:actuate=\"onRequest\" xlink:href=\"psysml:dfd16e59-ab91-470e-8369-8533004051f7\" xlink:show=\"new\" xlink:title=\"psysml:dfd16e59-ab91-470e-8369-8533004051f7\" xlink:type=\"simple\"><path d=\"M159.28,137.05 C160.735,148.365 162.5469,162.4656 164.4519,177.2955 C165.4044,184.7104 166.3802,192.3076 167.3463,199.8301 C167.5878,201.7107 167.8287,203.5867 168.0685,205.4539 C168.1884,206.3876 168.308,207.319 168.4273,208.2478 C168.4869,208.7122 168.5465,209.1759 168.6059,209.6389 \" fill=\"none\" id=\"E5-&gt;E2\" style=\"stroke: #383838; stroke-width: 1.0; stroke-dasharray: 7.0,7.0;\"/><polygon fill=\"#383838\" points=\"168.6059,209.6389,171.427,200.2027,167.9691,204.6796,163.4922,201.2217,168.6059,209.6389\" style=\"stroke: #383838; stroke-width: 1.0;\"/><text fill=\"#000000\" font-family=\"sans-serif\" font-size=\"13\" lengthAdjust=\"spacingAndGlyphs\" textLength=\"65\" x=\"166\" y=\"182.0669\">«import»*</text></a><!--MD5=[a717450b82c80b9240a525fa862496af]\n",
       "link E6 to E3--><a href=\"psysml:08f34eb1-8ff4-422d-a9a6-5096bc1237f4\" target=\"_top\" title=\"psysml:08f34eb1-8ff4-422d-a9a6-5096bc1237f4\" xlink:actuate=\"onRequest\" xlink:href=\"psysml:08f34eb1-8ff4-422d-a9a6-5096bc1237f4\" xlink:show=\"new\" xlink:title=\"psysml:08f34eb1-8ff4-422d-a9a6-5096bc1237f4\" xlink:type=\"simple\"><path d=\"M81.05,133.55 C85.7,158.9 93.44,201.1 99.26,232.83 \" fill=\"none\" id=\"E6-&gt;E3\" style=\"stroke: #383838; stroke-width: 1.0;\"/><polygon fill=\"#FFFFFF\" points=\"102.92,252.78,92.6018,235.3578,106.3713,232.8278,102.92,252.78\" style=\"stroke: #383838; stroke-width: 1.0;\"/><ellipse cx=\"93.5388\" cy=\"229.3902\" fill=\"#383838\" rx=\"2\" ry=\"2\" style=\"stroke: #383838; stroke-width: 1.0;\"/><ellipse cx=\"103.3742\" cy=\"227.5831\" fill=\"#383838\" rx=\"2\" ry=\"2\" style=\"stroke: #383838; stroke-width: 1.0;\"/></a><!--MD5=[602ee162b90ed56355587000428a6c92]\n",
       "@startuml\r\n",
       "skinparam monochrome true\r\n",
       "skinparam classbackgroundcolor white\r\n",
       "skinparam shadowing false\r\n",
       "skinparam wrapWidth 300\r\n",
       "hide circle\r\n",
       "\r\n",
       "package \"QualifiedNameImportTest\" as E1  [[psysml:da4cdfd0-3825-4b53-8eea-757999b665bd ]]  {\r\n",
       "package \"P1\" as E2  [[psysml:4a6c4eec-a299-4799-849a-0f6e2ae74607 ]]  {\r\n",
       "comp def \"A\" as E3  <<(T,blue) part  def>> [[psysml:c3954339-5488-4b4b-b1b9-8dc0f4000655 ]] {\r\n",
       "}\r\n",
       "}\r\n",
       "package \"P2\" as E4  [[psysml:eb8258b7-0b9d-4f0f-ab00-8538318b7623 ]]  {\r\n",
       "package \"P2a\" as E5  [[psysml:18e68ffc-3c50-485f-abff-3c07b29f1978 ]]  {\r\n",
       "}\r\n",
       "comp usage \"x: A \" as E6  <<(T,blue) part>> [[psysml:a72efec8-2b60-4f71-833a-33d401001ef7 ]] {\r\n",
       "}\r\n",
       "}\r\n",
       "}\r\n",
       "E5 ..> E2 [[psysml:dfd16e59-ab91-470e-8369-8533004051f7 ]] : <<import>>*\r\n",
       "E6 - -:|> E3 [[psysml:08f34eb1-8ff4-422d-a9a6-5096bc1237f4 ]] \r\n",
       "@enduml\r\n",
       "\n",
       "PlantUML version 1.2020.13(Sat Jun 13 12:26:38 UTC 2020)\n",
       "(EPL source distribution)\n",
       "Java Runtime: OpenJDK Runtime Environment\n",
       "JVM: OpenJDK 64-Bit Server VM\n",
       "Default Encoding: UTF-8\n",
       "Language: en\n",
       "Country: null\n",
       "--></g></svg>"
      ]
     },
     "execution_count": 43,
     "metadata": {},
     "output_type": "execute_result"
    }
   ],
   "source": [
    "%viz --style=\"DEFAULT\" --view=\"MIXED\" \"QualifiedNameImportTest\""
   ]
  },
  {
   "cell_type": "code",
   "execution_count": 44,
   "id": "51cf9d03",
   "metadata": {
    "execution": {
     "iopub.execute_input": "2022-03-21T07:52:09.647783Z",
     "iopub.status.busy": "2022-03-21T07:52:09.647367Z",
     "iopub.status.idle": "2022-03-21T07:52:09.676396Z",
     "shell.execute_reply": "2022-03-21T07:52:09.676038Z"
    }
   },
   "outputs": [
    {
     "data": {
      "image/svg+xml": [
       "<?xml version=\"1.0\" encoding=\"UTF-8\" standalone=\"no\"?><svg xmlns=\"http://www.w3.org/2000/svg\" xmlns:xlink=\"http://www.w3.org/1999/xlink\" contentScriptType=\"application/ecmascript\" contentStyleType=\"text/css\" height=\"367px\" preserveAspectRatio=\"none\" style=\"width:243px;height:367px;\" version=\"1.1\" viewBox=\"0 0 243 367\" width=\"243px\" zoomAndPan=\"magnify\"><defs/><g><!--MD5=[fbc87193dbaf4d95561dea2c320d4a47]\n",
       "cluster E1--><a href=\"psysml:da4cdfd0-3825-4b53-8eea-757999b665bd\" target=\"_top\" title=\"psysml:da4cdfd0-3825-4b53-8eea-757999b665bd\" xlink:actuate=\"onRequest\" xlink:href=\"psysml:da4cdfd0-3825-4b53-8eea-757999b665bd\" xlink:show=\"new\" xlink:title=\"psysml:da4cdfd0-3825-4b53-8eea-757999b665bd\" xlink:type=\"simple\"><polygon fill=\"#FFFFFF\" points=\"16,6,196,6,203,28.2969,219,28.2969,219,355,16,355,16,6\" style=\"stroke: #000000; stroke-width: 1.5;\"/><line style=\"stroke: #000000; stroke-width: 1.5;\" x1=\"16\" x2=\"203\" y1=\"28.2969\" y2=\"28.2969\"/><text fill=\"#000000\" font-family=\"sans-serif\" font-size=\"14\" font-weight=\"bold\" lengthAdjust=\"spacingAndGlyphs\" textLength=\"174\" x=\"20\" y=\"20.9951\">QualifiedNameImportTest</text></a><!--MD5=[e4f7fae6ed58524ba242bb0b0d3be6b7]\n",
       "cluster E2--><a href=\"psysml:4a6c4eec-a299-4799-849a-0f6e2ae74607\" target=\"_top\" title=\"psysml:4a6c4eec-a299-4799-849a-0f6e2ae74607\" xlink:actuate=\"onRequest\" xlink:href=\"psysml:4a6c4eec-a299-4799-849a-0f6e2ae74607\" xlink:show=\"new\" xlink:title=\"psysml:4a6c4eec-a299-4799-849a-0f6e2ae74607\" xlink:type=\"simple\"><polygon fill=\"#FFFFFF\" points=\"48,210,72,210,79,232.2969,185,232.2969,185,323,48,323,48,210\" style=\"stroke: #000000; stroke-width: 1.5;\"/><line style=\"stroke: #000000; stroke-width: 1.5;\" x1=\"48\" x2=\"79\" y1=\"232.2969\" y2=\"232.2969\"/><text fill=\"#000000\" font-family=\"sans-serif\" font-size=\"14\" font-weight=\"bold\" lengthAdjust=\"spacingAndGlyphs\" textLength=\"18\" x=\"52\" y=\"224.9951\">P1</text></a><!--MD5=[f6df4d0ebaf0b5dfb2ced0ae5af7c670]\n",
       "cluster E4--><a href=\"psysml:eb8258b7-0b9d-4f0f-ab00-8538318b7623\" target=\"_top\" title=\"psysml:eb8258b7-0b9d-4f0f-ab00-8538318b7623\" xlink:actuate=\"onRequest\" xlink:href=\"psysml:eb8258b7-0b9d-4f0f-ab00-8538318b7623\" xlink:show=\"new\" xlink:title=\"psysml:eb8258b7-0b9d-4f0f-ab00-8538318b7623\" xlink:type=\"simple\"><polygon fill=\"#FFFFFF\" points=\"40,49,64,49,71,71.2969,195,71.2969,195,153,40,153,40,49\" style=\"stroke: #000000; stroke-width: 1.5;\"/><line style=\"stroke: #000000; stroke-width: 1.5;\" x1=\"40\" x2=\"71\" y1=\"71.2969\" y2=\"71.2969\"/><text fill=\"#000000\" font-family=\"sans-serif\" font-size=\"14\" font-weight=\"bold\" lengthAdjust=\"spacingAndGlyphs\" textLength=\"18\" x=\"44\" y=\"63.9951\">P2</text></a><!--MD5=[09b614a08d8cba4a07c9adeb5e0fee81]\n",
       "class E3--><a href=\"psysml:c3954339-5488-4b4b-b1b9-8dc0f4000655\" target=\"_top\" title=\"psysml:c3954339-5488-4b4b-b1b9-8dc0f4000655\" xlink:actuate=\"onRequest\" xlink:href=\"psysml:c3954339-5488-4b4b-b1b9-8dc0f4000655\" xlink:show=\"new\" xlink:title=\"psysml:c3954339-5488-4b4b-b1b9-8dc0f4000655\" xlink:type=\"simple\"><rect fill=\"#FFFFFF\" height=\"45.9375\" id=\"E3\" style=\"stroke: #383838; stroke-width: 1.5;\" width=\"70\" x=\"72\" y=\"253\"/><text fill=\"#000000\" font-family=\"sans-serif\" font-size=\"12\" font-style=\"italic\" lengthAdjust=\"spacingAndGlyphs\" textLength=\"68\" x=\"73\" y=\"269.1387\">«part  def»</text><text fill=\"#000000\" font-family=\"sans-serif\" font-size=\"12\" lengthAdjust=\"spacingAndGlyphs\" textLength=\"8\" x=\"103\" y=\"283.1074\">A</text><line style=\"stroke: #383838; stroke-width: 1.5;\" x1=\"73\" x2=\"141\" y1=\"290.9375\" y2=\"290.9375\"/></a><!--MD5=[60a26617385b1d2d0262a64233df1f8d]\n",
       "class E6--><a href=\"psysml:a72efec8-2b60-4f71-833a-33d401001ef7\" target=\"_top\" title=\"psysml:a72efec8-2b60-4f71-833a-33d401001ef7\" xlink:actuate=\"onRequest\" xlink:href=\"psysml:a72efec8-2b60-4f71-833a-33d401001ef7\" xlink:show=\"new\" xlink:title=\"psysml:a72efec8-2b60-4f71-833a-33d401001ef7\" xlink:type=\"simple\"><rect fill=\"#FFFFFF\" height=\"45.9375\" id=\"E6\" rx=\"10\" ry=\"10\" style=\"stroke: #383838; stroke-width: 1.5;\" width=\"42\" x=\"56\" y=\"87.5\"/><text fill=\"#000000\" font-family=\"sans-serif\" font-size=\"12\" font-style=\"italic\" lengthAdjust=\"spacingAndGlyphs\" textLength=\"40\" x=\"57\" y=\"103.6387\">«part»</text><text fill=\"#000000\" font-family=\"sans-serif\" font-size=\"12\" lengthAdjust=\"spacingAndGlyphs\" textLength=\"22\" x=\"64\" y=\"117.6074\">x: A</text><line style=\"stroke: #383838; stroke-width: 1.5;\" x1=\"57\" x2=\"97\" y1=\"125.4375\" y2=\"125.4375\"/></a><a href=\"psysml:18e68ffc-3c50-485f-abff-3c07b29f1978\" target=\"_top\" title=\"psysml:18e68ffc-3c50-485f-abff-3c07b29f1978\" xlink:actuate=\"onRequest\" xlink:href=\"psysml:18e68ffc-3c50-485f-abff-3c07b29f1978\" xlink:show=\"new\" xlink:title=\"psysml:18e68ffc-3c50-485f-abff-3c07b29f1978\" xlink:type=\"simple\"><polygon fill=\"#FFFFFF\" points=\"133,84,165,84,172,106.2969,179,106.2969,179,136.5938,133,136.5938,133,84\" style=\"stroke: #000000; stroke-width: 1.5;\"/><line style=\"stroke: #000000; stroke-width: 1.5;\" x1=\"133\" x2=\"172\" y1=\"106.2969\" y2=\"106.2969\"/><text fill=\"#000000\" font-family=\"sans-serif\" font-size=\"14\" font-weight=\"bold\" lengthAdjust=\"spacingAndGlyphs\" textLength=\"26\" x=\"137\" y=\"98.9951\">P2a</text></a><!--MD5=[15ebcb19ae302d9b601edb458606d402]\n",
       "link E5 to E2--><a href=\"psysml:dfd16e59-ab91-470e-8369-8533004051f7\" target=\"_top\" title=\"psysml:dfd16e59-ab91-470e-8369-8533004051f7\" xlink:actuate=\"onRequest\" xlink:href=\"psysml:dfd16e59-ab91-470e-8369-8533004051f7\" xlink:show=\"new\" xlink:title=\"psysml:dfd16e59-ab91-470e-8369-8533004051f7\" xlink:type=\"simple\"><path d=\"M159.28,137.05 C160.735,148.365 162.5469,162.4656 164.4519,177.2955 C165.4044,184.7104 166.3802,192.3076 167.3463,199.8301 C167.5878,201.7107 167.8287,203.5867 168.0685,205.4539 C168.1884,206.3876 168.308,207.319 168.4273,208.2478 C168.4869,208.7122 168.5465,209.1759 168.6059,209.6389 \" fill=\"none\" id=\"E5-&gt;E2\" style=\"stroke: #383838; stroke-width: 1.0; stroke-dasharray: 7.0,7.0;\"/><polygon fill=\"#383838\" points=\"168.6059,209.6389,171.427,200.2027,167.9691,204.6796,163.4922,201.2217,168.6059,209.6389\" style=\"stroke: #383838; stroke-width: 1.0;\"/><text fill=\"#000000\" font-family=\"sans-serif\" font-size=\"13\" lengthAdjust=\"spacingAndGlyphs\" textLength=\"65\" x=\"166\" y=\"182.0669\">«import»*</text></a><!--MD5=[a717450b82c80b9240a525fa862496af]\n",
       "link E6 to E3--><a href=\"psysml:08f34eb1-8ff4-422d-a9a6-5096bc1237f4\" target=\"_top\" title=\"psysml:08f34eb1-8ff4-422d-a9a6-5096bc1237f4\" xlink:actuate=\"onRequest\" xlink:href=\"psysml:08f34eb1-8ff4-422d-a9a6-5096bc1237f4\" xlink:show=\"new\" xlink:title=\"psysml:08f34eb1-8ff4-422d-a9a6-5096bc1237f4\" xlink:type=\"simple\"><path d=\"M81.05,133.55 C85.7,158.9 93.44,201.1 99.26,232.83 \" fill=\"none\" id=\"E6-&gt;E3\" style=\"stroke: #383838; stroke-width: 1.0;\"/><polygon fill=\"#FFFFFF\" points=\"102.92,252.78,92.6018,235.3578,106.3713,232.8278,102.92,252.78\" style=\"stroke: #383838; stroke-width: 1.0;\"/><ellipse cx=\"93.5388\" cy=\"229.3902\" fill=\"#383838\" rx=\"2\" ry=\"2\" style=\"stroke: #383838; stroke-width: 1.0;\"/><ellipse cx=\"103.3742\" cy=\"227.5831\" fill=\"#383838\" rx=\"2\" ry=\"2\" style=\"stroke: #383838; stroke-width: 1.0;\"/></a><!--MD5=[be76641074ce4c1ccd2451d528d76218]\n",
       "@startuml\r\n",
       "top to bottom direction\r\n",
       "skinparam monochrome true\r\n",
       "skinparam classbackgroundcolor white\r\n",
       "skinparam shadowing false\r\n",
       "skinparam wrapWidth 300\r\n",
       "hide circle\r\n",
       "\r\n",
       "package \"QualifiedNameImportTest\" as E1  [[psysml:da4cdfd0-3825-4b53-8eea-757999b665bd ]]  {\r\n",
       "package \"P1\" as E2  [[psysml:4a6c4eec-a299-4799-849a-0f6e2ae74607 ]]  {\r\n",
       "comp def \"A\" as E3  <<(T,blue) part  def>> [[psysml:c3954339-5488-4b4b-b1b9-8dc0f4000655 ]] {\r\n",
       "}\r\n",
       "}\r\n",
       "package \"P2\" as E4  [[psysml:eb8258b7-0b9d-4f0f-ab00-8538318b7623 ]]  {\r\n",
       "package \"P2a\" as E5  [[psysml:18e68ffc-3c50-485f-abff-3c07b29f1978 ]]  {\r\n",
       "}\r\n",
       "comp usage \"x: A \" as E6  <<(T,blue) part>> [[psysml:a72efec8-2b60-4f71-833a-33d401001ef7 ]] {\r\n",
       "}\r\n",
       "}\r\n",
       "}\r\n",
       "E5 ..> E2 [[psysml:dfd16e59-ab91-470e-8369-8533004051f7 ]] : <<import>>*\r\n",
       "E6 - -:|> E3 [[psysml:08f34eb1-8ff4-422d-a9a6-5096bc1237f4 ]] \r\n",
       "@enduml\r\n",
       "\n",
       "PlantUML version 1.2020.13(Sat Jun 13 12:26:38 UTC 2020)\n",
       "(EPL source distribution)\n",
       "Java Runtime: OpenJDK Runtime Environment\n",
       "JVM: OpenJDK 64-Bit Server VM\n",
       "Default Encoding: UTF-8\n",
       "Language: en\n",
       "Country: null\n",
       "--></g></svg>"
      ]
     },
     "execution_count": 44,
     "metadata": {},
     "output_type": "execute_result"
    }
   ],
   "source": [
    "%viz --style=\"TB\" --view=\"Default\" \"QualifiedNameImportTest\""
   ]
  },
  {
   "cell_type": "code",
   "execution_count": 45,
   "id": "83a8831c",
   "metadata": {
    "execution": {
     "iopub.execute_input": "2022-03-21T07:52:09.726106Z",
     "iopub.status.busy": "2022-03-21T07:52:09.725700Z",
     "iopub.status.idle": "2022-03-21T07:52:09.754327Z",
     "shell.execute_reply": "2022-03-21T07:52:09.753970Z"
    }
   },
   "outputs": [
    {
     "data": {
      "image/svg+xml": [
       "<?xml version=\"1.0\" encoding=\"UTF-8\" standalone=\"no\"?><svg xmlns=\"http://www.w3.org/2000/svg\" xmlns:xlink=\"http://www.w3.org/1999/xlink\" contentScriptType=\"application/ecmascript\" contentStyleType=\"text/css\" height=\"367px\" preserveAspectRatio=\"none\" style=\"width:243px;height:367px;\" version=\"1.1\" viewBox=\"0 0 243 367\" width=\"243px\" zoomAndPan=\"magnify\"><defs/><g><!--MD5=[fbc87193dbaf4d95561dea2c320d4a47]\n",
       "cluster E1--><a href=\"psysml:da4cdfd0-3825-4b53-8eea-757999b665bd\" target=\"_top\" title=\"psysml:da4cdfd0-3825-4b53-8eea-757999b665bd\" xlink:actuate=\"onRequest\" xlink:href=\"psysml:da4cdfd0-3825-4b53-8eea-757999b665bd\" xlink:show=\"new\" xlink:title=\"psysml:da4cdfd0-3825-4b53-8eea-757999b665bd\" xlink:type=\"simple\"><polygon fill=\"#FFFFFF\" points=\"16,6,196,6,203,28.2969,219,28.2969,219,355,16,355,16,6\" style=\"stroke: #000000; stroke-width: 1.5;\"/><line style=\"stroke: #000000; stroke-width: 1.5;\" x1=\"16\" x2=\"203\" y1=\"28.2969\" y2=\"28.2969\"/><text fill=\"#000000\" font-family=\"sans-serif\" font-size=\"14\" font-weight=\"bold\" lengthAdjust=\"spacingAndGlyphs\" textLength=\"174\" x=\"20\" y=\"20.9951\">QualifiedNameImportTest</text></a><!--MD5=[e4f7fae6ed58524ba242bb0b0d3be6b7]\n",
       "cluster E2--><a href=\"psysml:4a6c4eec-a299-4799-849a-0f6e2ae74607\" target=\"_top\" title=\"psysml:4a6c4eec-a299-4799-849a-0f6e2ae74607\" xlink:actuate=\"onRequest\" xlink:href=\"psysml:4a6c4eec-a299-4799-849a-0f6e2ae74607\" xlink:show=\"new\" xlink:title=\"psysml:4a6c4eec-a299-4799-849a-0f6e2ae74607\" xlink:type=\"simple\"><polygon fill=\"#FFFFFF\" points=\"48,210,72,210,79,232.2969,185,232.2969,185,323,48,323,48,210\" style=\"stroke: #000000; stroke-width: 1.5;\"/><line style=\"stroke: #000000; stroke-width: 1.5;\" x1=\"48\" x2=\"79\" y1=\"232.2969\" y2=\"232.2969\"/><text fill=\"#000000\" font-family=\"sans-serif\" font-size=\"14\" font-weight=\"bold\" lengthAdjust=\"spacingAndGlyphs\" textLength=\"18\" x=\"52\" y=\"224.9951\">P1</text></a><!--MD5=[f6df4d0ebaf0b5dfb2ced0ae5af7c670]\n",
       "cluster E4--><a href=\"psysml:eb8258b7-0b9d-4f0f-ab00-8538318b7623\" target=\"_top\" title=\"psysml:eb8258b7-0b9d-4f0f-ab00-8538318b7623\" xlink:actuate=\"onRequest\" xlink:href=\"psysml:eb8258b7-0b9d-4f0f-ab00-8538318b7623\" xlink:show=\"new\" xlink:title=\"psysml:eb8258b7-0b9d-4f0f-ab00-8538318b7623\" xlink:type=\"simple\"><polygon fill=\"#FFFFFF\" points=\"40,49,64,49,71,71.2969,195,71.2969,195,153,40,153,40,49\" style=\"stroke: #000000; stroke-width: 1.5;\"/><line style=\"stroke: #000000; stroke-width: 1.5;\" x1=\"40\" x2=\"71\" y1=\"71.2969\" y2=\"71.2969\"/><text fill=\"#000000\" font-family=\"sans-serif\" font-size=\"14\" font-weight=\"bold\" lengthAdjust=\"spacingAndGlyphs\" textLength=\"18\" x=\"44\" y=\"63.9951\">P2</text></a><!--MD5=[09b614a08d8cba4a07c9adeb5e0fee81]\n",
       "class E3--><a href=\"psysml:c3954339-5488-4b4b-b1b9-8dc0f4000655\" target=\"_top\" title=\"psysml:c3954339-5488-4b4b-b1b9-8dc0f4000655\" xlink:actuate=\"onRequest\" xlink:href=\"psysml:c3954339-5488-4b4b-b1b9-8dc0f4000655\" xlink:show=\"new\" xlink:title=\"psysml:c3954339-5488-4b4b-b1b9-8dc0f4000655\" xlink:type=\"simple\"><rect fill=\"#FFFFFF\" height=\"45.9375\" id=\"E3\" style=\"stroke: #383838; stroke-width: 1.5;\" width=\"70\" x=\"72\" y=\"253\"/><text fill=\"#000000\" font-family=\"sans-serif\" font-size=\"12\" font-style=\"italic\" lengthAdjust=\"spacingAndGlyphs\" textLength=\"68\" x=\"73\" y=\"269.1387\">«part  def»</text><text fill=\"#000000\" font-family=\"sans-serif\" font-size=\"12\" lengthAdjust=\"spacingAndGlyphs\" textLength=\"8\" x=\"103\" y=\"283.1074\">A</text><line style=\"stroke: #383838; stroke-width: 1.5;\" x1=\"73\" x2=\"141\" y1=\"290.9375\" y2=\"290.9375\"/></a><!--MD5=[60a26617385b1d2d0262a64233df1f8d]\n",
       "class E6--><a href=\"psysml:a72efec8-2b60-4f71-833a-33d401001ef7\" target=\"_top\" title=\"psysml:a72efec8-2b60-4f71-833a-33d401001ef7\" xlink:actuate=\"onRequest\" xlink:href=\"psysml:a72efec8-2b60-4f71-833a-33d401001ef7\" xlink:show=\"new\" xlink:title=\"psysml:a72efec8-2b60-4f71-833a-33d401001ef7\" xlink:type=\"simple\"><rect fill=\"#FFFFFF\" height=\"45.9375\" id=\"E6\" rx=\"10\" ry=\"10\" style=\"stroke: #383838; stroke-width: 1.5;\" width=\"42\" x=\"56\" y=\"87.5\"/><text fill=\"#000000\" font-family=\"sans-serif\" font-size=\"12\" font-style=\"italic\" lengthAdjust=\"spacingAndGlyphs\" textLength=\"40\" x=\"57\" y=\"103.6387\">«part»</text><text fill=\"#000000\" font-family=\"sans-serif\" font-size=\"12\" lengthAdjust=\"spacingAndGlyphs\" textLength=\"22\" x=\"64\" y=\"117.6074\">x: A</text><line style=\"stroke: #383838; stroke-width: 1.5;\" x1=\"57\" x2=\"97\" y1=\"125.4375\" y2=\"125.4375\"/></a><a href=\"psysml:18e68ffc-3c50-485f-abff-3c07b29f1978\" target=\"_top\" title=\"psysml:18e68ffc-3c50-485f-abff-3c07b29f1978\" xlink:actuate=\"onRequest\" xlink:href=\"psysml:18e68ffc-3c50-485f-abff-3c07b29f1978\" xlink:show=\"new\" xlink:title=\"psysml:18e68ffc-3c50-485f-abff-3c07b29f1978\" xlink:type=\"simple\"><polygon fill=\"#FFFFFF\" points=\"133,84,165,84,172,106.2969,179,106.2969,179,136.5938,133,136.5938,133,84\" style=\"stroke: #000000; stroke-width: 1.5;\"/><line style=\"stroke: #000000; stroke-width: 1.5;\" x1=\"133\" x2=\"172\" y1=\"106.2969\" y2=\"106.2969\"/><text fill=\"#000000\" font-family=\"sans-serif\" font-size=\"14\" font-weight=\"bold\" lengthAdjust=\"spacingAndGlyphs\" textLength=\"26\" x=\"137\" y=\"98.9951\">P2a</text></a><!--MD5=[15ebcb19ae302d9b601edb458606d402]\n",
       "link E5 to E2--><a href=\"psysml:dfd16e59-ab91-470e-8369-8533004051f7\" target=\"_top\" title=\"psysml:dfd16e59-ab91-470e-8369-8533004051f7\" xlink:actuate=\"onRequest\" xlink:href=\"psysml:dfd16e59-ab91-470e-8369-8533004051f7\" xlink:show=\"new\" xlink:title=\"psysml:dfd16e59-ab91-470e-8369-8533004051f7\" xlink:type=\"simple\"><path d=\"M159.28,137.05 C160.735,148.365 162.5469,162.4656 164.4519,177.2955 C165.4044,184.7104 166.3802,192.3076 167.3463,199.8301 C167.5878,201.7107 167.8287,203.5867 168.0685,205.4539 C168.1884,206.3876 168.308,207.319 168.4273,208.2478 C168.4869,208.7122 168.5465,209.1759 168.6059,209.6389 \" fill=\"none\" id=\"E5-&gt;E2\" style=\"stroke: #383838; stroke-width: 1.0; stroke-dasharray: 7.0,7.0;\"/><polygon fill=\"#383838\" points=\"168.6059,209.6389,171.427,200.2027,167.9691,204.6796,163.4922,201.2217,168.6059,209.6389\" style=\"stroke: #383838; stroke-width: 1.0;\"/><text fill=\"#000000\" font-family=\"sans-serif\" font-size=\"13\" lengthAdjust=\"spacingAndGlyphs\" textLength=\"65\" x=\"166\" y=\"182.0669\">«import»*</text></a><!--MD5=[a717450b82c80b9240a525fa862496af]\n",
       "link E6 to E3--><a href=\"psysml:08f34eb1-8ff4-422d-a9a6-5096bc1237f4\" target=\"_top\" title=\"psysml:08f34eb1-8ff4-422d-a9a6-5096bc1237f4\" xlink:actuate=\"onRequest\" xlink:href=\"psysml:08f34eb1-8ff4-422d-a9a6-5096bc1237f4\" xlink:show=\"new\" xlink:title=\"psysml:08f34eb1-8ff4-422d-a9a6-5096bc1237f4\" xlink:type=\"simple\"><path d=\"M81.05,133.55 C85.7,158.9 93.44,201.1 99.26,232.83 \" fill=\"none\" id=\"E6-&gt;E3\" style=\"stroke: #383838; stroke-width: 1.0;\"/><polygon fill=\"#FFFFFF\" points=\"102.92,252.78,92.6018,235.3578,106.3713,232.8278,102.92,252.78\" style=\"stroke: #383838; stroke-width: 1.0;\"/><ellipse cx=\"93.5388\" cy=\"229.3902\" fill=\"#383838\" rx=\"2\" ry=\"2\" style=\"stroke: #383838; stroke-width: 1.0;\"/><ellipse cx=\"103.3742\" cy=\"227.5831\" fill=\"#383838\" rx=\"2\" ry=\"2\" style=\"stroke: #383838; stroke-width: 1.0;\"/></a><!--MD5=[be76641074ce4c1ccd2451d528d76218]\n",
       "@startuml\r\n",
       "top to bottom direction\r\n",
       "skinparam monochrome true\r\n",
       "skinparam classbackgroundcolor white\r\n",
       "skinparam shadowing false\r\n",
       "skinparam wrapWidth 300\r\n",
       "hide circle\r\n",
       "\r\n",
       "package \"QualifiedNameImportTest\" as E1  [[psysml:da4cdfd0-3825-4b53-8eea-757999b665bd ]]  {\r\n",
       "package \"P1\" as E2  [[psysml:4a6c4eec-a299-4799-849a-0f6e2ae74607 ]]  {\r\n",
       "comp def \"A\" as E3  <<(T,blue) part  def>> [[psysml:c3954339-5488-4b4b-b1b9-8dc0f4000655 ]] {\r\n",
       "}\r\n",
       "}\r\n",
       "package \"P2\" as E4  [[psysml:eb8258b7-0b9d-4f0f-ab00-8538318b7623 ]]  {\r\n",
       "package \"P2a\" as E5  [[psysml:18e68ffc-3c50-485f-abff-3c07b29f1978 ]]  {\r\n",
       "}\r\n",
       "comp usage \"x: A \" as E6  <<(T,blue) part>> [[psysml:a72efec8-2b60-4f71-833a-33d401001ef7 ]] {\r\n",
       "}\r\n",
       "}\r\n",
       "}\r\n",
       "E5 ..> E2 [[psysml:dfd16e59-ab91-470e-8369-8533004051f7 ]] : <<import>>*\r\n",
       "E6 - -:|> E3 [[psysml:08f34eb1-8ff4-422d-a9a6-5096bc1237f4 ]] \r\n",
       "@enduml\r\n",
       "\n",
       "PlantUML version 1.2020.13(Sat Jun 13 12:26:38 UTC 2020)\n",
       "(EPL source distribution)\n",
       "Java Runtime: OpenJDK Runtime Environment\n",
       "JVM: OpenJDK 64-Bit Server VM\n",
       "Default Encoding: UTF-8\n",
       "Language: en\n",
       "Country: null\n",
       "--></g></svg>"
      ]
     },
     "execution_count": 45,
     "metadata": {},
     "output_type": "execute_result"
    }
   ],
   "source": [
    "%viz --style=\"TB\" --view=\"Tree\" \"QualifiedNameImportTest\""
   ]
  },
  {
   "cell_type": "code",
   "execution_count": 46,
   "id": "fbbb0201",
   "metadata": {
    "execution": {
     "iopub.execute_input": "2022-03-21T07:52:09.804105Z",
     "iopub.status.busy": "2022-03-21T07:52:09.803704Z",
     "iopub.status.idle": "2022-03-21T07:52:09.807678Z",
     "shell.execute_reply": "2022-03-21T07:52:09.807971Z"
    }
   },
   "outputs": [
    {
     "data": {
      "image/svg+xml": [
       "<?xml version=\"1.0\" encoding=\"UTF-8\" standalone=\"no\"?><svg xmlns=\"http://www.w3.org/2000/svg\" xmlns:xlink=\"http://www.w3.org/1999/xlink\" contentScriptType=\"application/ecmascript\" contentStyleType=\"text/css\" height=\"12px\" preserveAspectRatio=\"none\" style=\"width:12px;height:12px;\" version=\"1.1\" viewBox=\"0 0 12 12\" width=\"12px\" zoomAndPan=\"magnify\"><defs/><g><!--MD5=[f4ee21bc66e489b5061b7c3e9601fdef]\n",
       "@startuml\r\n",
       "top to bottom direction\r\n",
       "skinparam monochrome true\r\n",
       "skinparam classbackgroundcolor white\r\n",
       "skinparam shadowing false\r\n",
       "skinparam wrapWidth 300\r\n",
       "hide circle\r\n",
       "\r\n",
       "@enduml\r\n",
       "\n",
       "PlantUML version 1.2020.13(Sat Jun 13 12:26:38 UTC 2020)\n",
       "(EPL source distribution)\n",
       "Java Runtime: OpenJDK Runtime Environment\n",
       "JVM: OpenJDK 64-Bit Server VM\n",
       "Default Encoding: UTF-8\n",
       "Language: en\n",
       "Country: null\n",
       "--></g></svg>"
      ]
     },
     "execution_count": 46,
     "metadata": {},
     "output_type": "execute_result"
    }
   ],
   "source": [
    "%viz --style=\"TB\" --view=\"State\" \"QualifiedNameImportTest\""
   ]
  },
  {
   "cell_type": "code",
   "execution_count": 47,
   "id": "3402c183",
   "metadata": {
    "execution": {
     "iopub.execute_input": "2022-03-21T07:52:09.857900Z",
     "iopub.status.busy": "2022-03-21T07:52:09.857493Z",
     "iopub.status.idle": "2022-03-21T07:52:09.885419Z",
     "shell.execute_reply": "2022-03-21T07:52:09.885067Z"
    }
   },
   "outputs": [
    {
     "data": {
      "image/svg+xml": [
       "<?xml version=\"1.0\" encoding=\"UTF-8\" standalone=\"no\"?><svg xmlns=\"http://www.w3.org/2000/svg\" xmlns:xlink=\"http://www.w3.org/1999/xlink\" contentScriptType=\"application/ecmascript\" contentStyleType=\"text/css\" height=\"364px\" preserveAspectRatio=\"none\" style=\"width:249px;height:364px;\" version=\"1.1\" viewBox=\"0 0 249 364\" width=\"249px\" zoomAndPan=\"magnify\"><defs/><g><!--MD5=[fbc87193dbaf4d95561dea2c320d4a47]\n",
       "cluster E1--><a href=\"psysml:da4cdfd0-3825-4b53-8eea-757999b665bd\" target=\"_top\" title=\"psysml:da4cdfd0-3825-4b53-8eea-757999b665bd\" xlink:actuate=\"onRequest\" xlink:href=\"psysml:da4cdfd0-3825-4b53-8eea-757999b665bd\" xlink:show=\"new\" xlink:title=\"psysml:da4cdfd0-3825-4b53-8eea-757999b665bd\" xlink:type=\"simple\"><polygon fill=\"#FFFFFF\" points=\"16,6,196,6,203,28.2969,227,28.2969,227,352,16,352,16,6\" style=\"stroke: #000000; stroke-width: 1.5;\"/><line style=\"stroke: #000000; stroke-width: 1.5;\" x1=\"16\" x2=\"203\" y1=\"28.2969\" y2=\"28.2969\"/><text fill=\"#000000\" font-family=\"sans-serif\" font-size=\"14\" font-weight=\"bold\" lengthAdjust=\"spacingAndGlyphs\" textLength=\"174\" x=\"20\" y=\"20.9951\">QualifiedNameImportTest</text></a><!--MD5=[e4f7fae6ed58524ba242bb0b0d3be6b7]\n",
       "cluster E2--><a href=\"psysml:4a6c4eec-a299-4799-849a-0f6e2ae74607\" target=\"_top\" title=\"psysml:4a6c4eec-a299-4799-849a-0f6e2ae74607\" xlink:actuate=\"onRequest\" xlink:href=\"psysml:4a6c4eec-a299-4799-849a-0f6e2ae74607\" xlink:show=\"new\" xlink:title=\"psysml:4a6c4eec-a299-4799-849a-0f6e2ae74607\" xlink:type=\"simple\"><polygon fill=\"#FFFFFF\" points=\"53,210,77,210,84,232.2969,195,232.2969,195,320,53,320,53,210\" style=\"stroke: #000000; stroke-width: 1.5;\"/><line style=\"stroke: #000000; stroke-width: 1.5;\" x1=\"53\" x2=\"84\" y1=\"232.2969\" y2=\"232.2969\"/><text fill=\"#000000\" font-family=\"sans-serif\" font-size=\"14\" font-weight=\"bold\" lengthAdjust=\"spacingAndGlyphs\" textLength=\"18\" x=\"57\" y=\"224.9951\">P1</text></a><!--MD5=[f6df4d0ebaf0b5dfb2ced0ae5af7c670]\n",
       "cluster E4--><a href=\"psysml:eb8258b7-0b9d-4f0f-ab00-8538318b7623\" target=\"_top\" title=\"psysml:eb8258b7-0b9d-4f0f-ab00-8538318b7623\" xlink:actuate=\"onRequest\" xlink:href=\"psysml:eb8258b7-0b9d-4f0f-ab00-8538318b7623\" xlink:show=\"new\" xlink:title=\"psysml:eb8258b7-0b9d-4f0f-ab00-8538318b7623\" xlink:type=\"simple\"><polygon fill=\"#FFFFFF\" points=\"40,49,64,49,71,71.2969,203,71.2969,203,153,40,153,40,49\" style=\"stroke: #000000; stroke-width: 1.5;\"/><line style=\"stroke: #000000; stroke-width: 1.5;\" x1=\"40\" x2=\"71\" y1=\"71.2969\" y2=\"71.2969\"/><text fill=\"#000000\" font-family=\"sans-serif\" font-size=\"14\" font-weight=\"bold\" lengthAdjust=\"spacingAndGlyphs\" textLength=\"18\" x=\"44\" y=\"63.9951\">P2</text></a><g id=\"E1.E2.E3\"><a href=\"psysml:c3954339-5488-4b4b-b1b9-8dc0f4000655\" target=\"_top\" title=\"psysml:c3954339-5488-4b4b-b1b9-8dc0f4000655\" xlink:actuate=\"onRequest\" xlink:href=\"psysml:c3954339-5488-4b4b-b1b9-8dc0f4000655\" xlink:show=\"new\" xlink:title=\"psysml:c3954339-5488-4b4b-b1b9-8dc0f4000655\" xlink:type=\"simple\"><rect fill=\"#FFFFFF\" height=\"42.9375\" id=\"E3\" style=\"stroke: #383838; stroke-width: 1.5;\" width=\"75\" x=\"96.5\" y=\"253\"/><rect fill=\"#F8F8F8\" height=\"37.9375\" style=\"stroke: #383838; stroke-width: 1.5;\" width=\"75\" x=\"96.5\" y=\"253\"/><text fill=\"#000000\" font-family=\"sans-serif\" font-size=\"12\" font-style=\"italic\" lengthAdjust=\"spacingAndGlyphs\" textLength=\"68\" x=\"100\" y=\"269.1387\">«part  def»</text><text fill=\"#000000\" font-family=\"sans-serif\" font-size=\"12\" lengthAdjust=\"spacingAndGlyphs\" textLength=\"8\" x=\"130\" y=\"283.1074\">A</text></a></g><a href=\"psysml:18e68ffc-3c50-485f-abff-3c07b29f1978\" target=\"_top\" title=\"psysml:18e68ffc-3c50-485f-abff-3c07b29f1978\" xlink:actuate=\"onRequest\" xlink:href=\"psysml:18e68ffc-3c50-485f-abff-3c07b29f1978\" xlink:show=\"new\" xlink:title=\"psysml:18e68ffc-3c50-485f-abff-3c07b29f1978\" xlink:type=\"simple\"><polygon fill=\"#FFFFFF\" points=\"141,84,173,84,180,106.2969,187,106.2969,187,136.5938,141,136.5938,141,84\" style=\"stroke: #000000; stroke-width: 1.5;\"/><line style=\"stroke: #000000; stroke-width: 1.5;\" x1=\"141\" x2=\"180\" y1=\"106.2969\" y2=\"106.2969\"/><text fill=\"#000000\" font-family=\"sans-serif\" font-size=\"14\" font-weight=\"bold\" lengthAdjust=\"spacingAndGlyphs\" textLength=\"26\" x=\"145\" y=\"98.9951\">P2a</text></a><g id=\"E1.E4.E6\"><a href=\"psysml:a72efec8-2b60-4f71-833a-33d401001ef7\" target=\"_top\" title=\"psysml:a72efec8-2b60-4f71-833a-33d401001ef7\" xlink:actuate=\"onRequest\" xlink:href=\"psysml:a72efec8-2b60-4f71-833a-33d401001ef7\" xlink:show=\"new\" xlink:title=\"psysml:a72efec8-2b60-4f71-833a-33d401001ef7\" xlink:type=\"simple\"><rect fill=\"#FFFFFF\" height=\"40\" id=\"E6\" rx=\"10\" ry=\"10\" style=\"stroke: #383838; stroke-width: 1.5;\" width=\"50\" x=\"56\" y=\"90.5\"/><rect fill=\"#F8F8F8\" height=\"23.9688\" rx=\"10\" ry=\"10\" style=\"stroke: #F8F8F8; stroke-width: 1.5;\" width=\"50\" x=\"56\" y=\"90.5\"/><rect fill=\"#F8F8F8\" height=\"10\" style=\"stroke: #F8F8F8; stroke-width: 1.5;\" width=\"50\" x=\"56\" y=\"104.4688\"/><rect fill=\"none\" height=\"40\" id=\"E6\" rx=\"10\" ry=\"10\" style=\"stroke: #383838; stroke-width: 1.5;\" width=\"50\" x=\"56\" y=\"90.5\"/><text fill=\"#000000\" font-family=\"sans-serif\" font-size=\"12\" lengthAdjust=\"spacingAndGlyphs\" textLength=\"22\" x=\"70\" y=\"106.6387\">x: A</text></a></g><!--MD5=[15ebcb19ae302d9b601edb458606d402]\n",
       "link E5 to E2--><a href=\"psysml:dfd16e59-ab91-470e-8369-8533004051f7\" target=\"_top\" title=\"psysml:dfd16e59-ab91-470e-8369-8533004051f7\" xlink:actuate=\"onRequest\" xlink:href=\"psysml:dfd16e59-ab91-470e-8369-8533004051f7\" xlink:show=\"new\" xlink:title=\"psysml:dfd16e59-ab91-470e-8369-8533004051f7\" xlink:type=\"simple\"><path d=\"M145.15,137.17 C138.8,145.15 131.44,153.75 124,161 C106.75,177.82 94.23,173.87 81,194 C78.5775,197.6875 76.4484,201.6477 74.5773,205.7604 C74.1095,206.7885 73.6578,207.8263 73.2217,208.8716 C73.1127,209.133 73.0046,209.3948 72.8975,209.6571 \" fill=\"none\" id=\"E5-&gt;E2\" style=\"stroke: #383838; stroke-width: 1.0; stroke-dasharray: 7.0,7.0;\"/><polygon fill=\"#383838\" points=\"72.8975,209.6571,80.0029,202.837,74.7876,205.0281,72.5965,199.8128,72.8975,209.6571\" style=\"stroke: #383838; stroke-width: 1.0;\"/><text fill=\"#000000\" font-family=\"sans-serif\" font-size=\"13\" lengthAdjust=\"spacingAndGlyphs\" textLength=\"65\" x=\"114\" y=\"182.0669\">«import»*</text></a><!--MD5=[ddc797370aee755881f19dcc232f78c3]\n",
       "@startuml\r\n",
       "skinparam ranksep 10\r\n",
       "skinparam rectangle {\r\n",
       " backgroundColor<<block>> LightGreen\r\n",
       "}\r\n",
       "top to bottom direction\r\n",
       "skinparam monochrome true\r\n",
       "skinparam classbackgroundcolor white\r\n",
       "skinparam shadowing false\r\n",
       "skinparam wrapWidth 300\r\n",
       "hide circle\r\n",
       "\r\n",
       "package \"QualifiedNameImportTest\" as E1  [[psysml:da4cdfd0-3825-4b53-8eea-757999b665bd ]]  {\r\n",
       "package \"P1\" as E2  [[psysml:4a6c4eec-a299-4799-849a-0f6e2ae74607 ]]  {\r\n",
       "rec def \"A\" as E3  <<(T,blue) part  def>> [[psysml:c3954339-5488-4b4b-b1b9-8dc0f4000655 ]] {\r\n",
       "}\r\n",
       "}\r\n",
       "package \"P2\" as E4  [[psysml:eb8258b7-0b9d-4f0f-ab00-8538318b7623 ]]  {\r\n",
       "package \"P2a\" as E5  [[psysml:18e68ffc-3c50-485f-abff-3c07b29f1978 ]]  {\r\n",
       "}\r\n",
       "rec usage \"x: A\" as E6  [[psysml:a72efec8-2b60-4f71-833a-33d401001ef7 ]] {\r\n",
       "}\r\n",
       "}\r\n",
       "}\r\n",
       "E5 ..> E2 [[psysml:dfd16e59-ab91-470e-8369-8533004051f7 ]] : <<import>>*\r\n",
       "@enduml\r\n",
       "\n",
       "PlantUML version 1.2020.13(Sat Jun 13 12:26:38 UTC 2020)\n",
       "(EPL source distribution)\n",
       "Java Runtime: OpenJDK Runtime Environment\n",
       "JVM: OpenJDK 64-Bit Server VM\n",
       "Default Encoding: UTF-8\n",
       "Language: en\n",
       "Country: null\n",
       "--></g></svg>"
      ]
     },
     "execution_count": 47,
     "metadata": {},
     "output_type": "execute_result"
    }
   ],
   "source": [
    "%viz --style=\"TB\" --view=\"Interconnection\" \"QualifiedNameImportTest\""
   ]
  },
  {
   "cell_type": "code",
   "execution_count": 48,
   "id": "e070fdf8",
   "metadata": {
    "execution": {
     "iopub.execute_input": "2022-03-21T07:52:09.935402Z",
     "iopub.status.busy": "2022-03-21T07:52:09.935002Z",
     "iopub.status.idle": "2022-03-21T07:52:09.939575Z",
     "shell.execute_reply": "2022-03-21T07:52:09.939886Z"
    }
   },
   "outputs": [
    {
     "data": {
      "image/svg+xml": [
       "<?xml version=\"1.0\" encoding=\"UTF-8\" standalone=\"no\"?><svg xmlns=\"http://www.w3.org/2000/svg\" xmlns:xlink=\"http://www.w3.org/1999/xlink\" contentScriptType=\"application/ecmascript\" contentStyleType=\"text/css\" height=\"12px\" preserveAspectRatio=\"none\" style=\"width:12px;height:12px;\" version=\"1.1\" viewBox=\"0 0 12 12\" width=\"12px\" zoomAndPan=\"magnify\"><defs/><g><!--MD5=[06afc254b03ac5e9d9fb7773b07d0800]\n",
       "@startuml\r\n",
       "skinparam ranksep 8\r\n",
       "top to bottom direction\r\n",
       "skinparam monochrome true\r\n",
       "skinparam classbackgroundcolor white\r\n",
       "skinparam shadowing false\r\n",
       "skinparam wrapWidth 300\r\n",
       "hide circle\r\n",
       "\r\n",
       "@enduml\r\n",
       "\n",
       "PlantUML version 1.2020.13(Sat Jun 13 12:26:38 UTC 2020)\n",
       "(EPL source distribution)\n",
       "Java Runtime: OpenJDK Runtime Environment\n",
       "JVM: OpenJDK 64-Bit Server VM\n",
       "Default Encoding: UTF-8\n",
       "Language: en\n",
       "Country: null\n",
       "--></g></svg>"
      ]
     },
     "execution_count": 48,
     "metadata": {},
     "output_type": "execute_result"
    }
   ],
   "source": [
    "%viz --style=\"TB\" --view=\"Action\" \"QualifiedNameImportTest\""
   ]
  },
  {
   "cell_type": "code",
   "execution_count": 49,
   "id": "9249841e",
   "metadata": {
    "execution": {
     "iopub.execute_input": "2022-03-21T07:52:09.989859Z",
     "iopub.status.busy": "2022-03-21T07:52:09.989456Z",
     "iopub.status.idle": "2022-03-21T07:52:09.994188Z",
     "shell.execute_reply": "2022-03-21T07:52:09.993860Z"
    }
   },
   "outputs": [
    {
     "data": {
      "image/svg+xml": [
       "<?xml version=\"1.0\" encoding=\"UTF-8\" standalone=\"no\"?><svg xmlns=\"http://www.w3.org/2000/svg\" xmlns:xlink=\"http://www.w3.org/1999/xlink\" contentScriptType=\"application/ecmascript\" contentStyleType=\"text/css\" height=\"12px\" preserveAspectRatio=\"none\" style=\"width:12px;height:12px;\" version=\"1.1\" viewBox=\"0 0 12 12\" width=\"12px\" zoomAndPan=\"magnify\"><defs/><g><!--MD5=[e1ab0c84c44d2fef8bf5f140f2689906]\n",
       "@startuml\r\n",
       "skinparam roundcorner 20\r\n",
       "skinparam BoxPadding 20\r\n",
       "skinparam SequenceBoxBackgroundColor #white\r\n",
       "skinparam style strictuml\r\n",
       "skinparam maxMessageSize 100\r\n",
       "top to bottom direction\r\n",
       "skinparam monochrome true\r\n",
       "skinparam classbackgroundcolor white\r\n",
       "skinparam shadowing false\r\n",
       "skinparam wrapWidth 300\r\n",
       "hide circle\r\n",
       "\r\n",
       "@enduml\r\n",
       "\n",
       "PlantUML version 1.2020.13(Sat Jun 13 12:26:38 UTC 2020)\n",
       "(EPL source distribution)\n",
       "Java Runtime: OpenJDK Runtime Environment\n",
       "JVM: OpenJDK 64-Bit Server VM\n",
       "Default Encoding: UTF-8\n",
       "Language: en\n",
       "Country: null\n",
       "--></g></svg>"
      ]
     },
     "execution_count": 49,
     "metadata": {},
     "output_type": "execute_result"
    }
   ],
   "source": [
    "%viz --style=\"TB\" --view=\"Sequence\" \"QualifiedNameImportTest\""
   ]
  },
  {
   "cell_type": "code",
   "execution_count": 50,
   "id": "ccb99a9b",
   "metadata": {
    "execution": {
     "iopub.execute_input": "2022-03-21T07:52:10.044203Z",
     "iopub.status.busy": "2022-03-21T07:52:10.043812Z",
     "iopub.status.idle": "2022-03-21T07:52:10.069890Z",
     "shell.execute_reply": "2022-03-21T07:52:10.069496Z"
    }
   },
   "outputs": [
    {
     "data": {
      "image/svg+xml": [
       "<?xml version=\"1.0\" encoding=\"UTF-8\" standalone=\"no\"?><svg xmlns=\"http://www.w3.org/2000/svg\" xmlns:xlink=\"http://www.w3.org/1999/xlink\" contentScriptType=\"application/ecmascript\" contentStyleType=\"text/css\" height=\"367px\" preserveAspectRatio=\"none\" style=\"width:243px;height:367px;\" version=\"1.1\" viewBox=\"0 0 243 367\" width=\"243px\" zoomAndPan=\"magnify\"><defs/><g><!--MD5=[fbc87193dbaf4d95561dea2c320d4a47]\n",
       "cluster E1--><a href=\"psysml:da4cdfd0-3825-4b53-8eea-757999b665bd\" target=\"_top\" title=\"psysml:da4cdfd0-3825-4b53-8eea-757999b665bd\" xlink:actuate=\"onRequest\" xlink:href=\"psysml:da4cdfd0-3825-4b53-8eea-757999b665bd\" xlink:show=\"new\" xlink:title=\"psysml:da4cdfd0-3825-4b53-8eea-757999b665bd\" xlink:type=\"simple\"><polygon fill=\"#FFFFFF\" points=\"16,6,196,6,203,28.2969,219,28.2969,219,355,16,355,16,6\" style=\"stroke: #000000; stroke-width: 1.5;\"/><line style=\"stroke: #000000; stroke-width: 1.5;\" x1=\"16\" x2=\"203\" y1=\"28.2969\" y2=\"28.2969\"/><text fill=\"#000000\" font-family=\"sans-serif\" font-size=\"14\" font-weight=\"bold\" lengthAdjust=\"spacingAndGlyphs\" textLength=\"174\" x=\"20\" y=\"20.9951\">QualifiedNameImportTest</text></a><!--MD5=[e4f7fae6ed58524ba242bb0b0d3be6b7]\n",
       "cluster E2--><a href=\"psysml:4a6c4eec-a299-4799-849a-0f6e2ae74607\" target=\"_top\" title=\"psysml:4a6c4eec-a299-4799-849a-0f6e2ae74607\" xlink:actuate=\"onRequest\" xlink:href=\"psysml:4a6c4eec-a299-4799-849a-0f6e2ae74607\" xlink:show=\"new\" xlink:title=\"psysml:4a6c4eec-a299-4799-849a-0f6e2ae74607\" xlink:type=\"simple\"><polygon fill=\"#FFFFFF\" points=\"48,210,72,210,79,232.2969,185,232.2969,185,323,48,323,48,210\" style=\"stroke: #000000; stroke-width: 1.5;\"/><line style=\"stroke: #000000; stroke-width: 1.5;\" x1=\"48\" x2=\"79\" y1=\"232.2969\" y2=\"232.2969\"/><text fill=\"#000000\" font-family=\"sans-serif\" font-size=\"14\" font-weight=\"bold\" lengthAdjust=\"spacingAndGlyphs\" textLength=\"18\" x=\"52\" y=\"224.9951\">P1</text></a><!--MD5=[f6df4d0ebaf0b5dfb2ced0ae5af7c670]\n",
       "cluster E4--><a href=\"psysml:eb8258b7-0b9d-4f0f-ab00-8538318b7623\" target=\"_top\" title=\"psysml:eb8258b7-0b9d-4f0f-ab00-8538318b7623\" xlink:actuate=\"onRequest\" xlink:href=\"psysml:eb8258b7-0b9d-4f0f-ab00-8538318b7623\" xlink:show=\"new\" xlink:title=\"psysml:eb8258b7-0b9d-4f0f-ab00-8538318b7623\" xlink:type=\"simple\"><polygon fill=\"#FFFFFF\" points=\"40,49,64,49,71,71.2969,195,71.2969,195,153,40,153,40,49\" style=\"stroke: #000000; stroke-width: 1.5;\"/><line style=\"stroke: #000000; stroke-width: 1.5;\" x1=\"40\" x2=\"71\" y1=\"71.2969\" y2=\"71.2969\"/><text fill=\"#000000\" font-family=\"sans-serif\" font-size=\"14\" font-weight=\"bold\" lengthAdjust=\"spacingAndGlyphs\" textLength=\"18\" x=\"44\" y=\"63.9951\">P2</text></a><!--MD5=[09b614a08d8cba4a07c9adeb5e0fee81]\n",
       "class E3--><a href=\"psysml:c3954339-5488-4b4b-b1b9-8dc0f4000655\" target=\"_top\" title=\"psysml:c3954339-5488-4b4b-b1b9-8dc0f4000655\" xlink:actuate=\"onRequest\" xlink:href=\"psysml:c3954339-5488-4b4b-b1b9-8dc0f4000655\" xlink:show=\"new\" xlink:title=\"psysml:c3954339-5488-4b4b-b1b9-8dc0f4000655\" xlink:type=\"simple\"><rect fill=\"#FFFFFF\" height=\"45.9375\" id=\"E3\" style=\"stroke: #383838; stroke-width: 1.5;\" width=\"70\" x=\"72\" y=\"253\"/><text fill=\"#000000\" font-family=\"sans-serif\" font-size=\"12\" font-style=\"italic\" lengthAdjust=\"spacingAndGlyphs\" textLength=\"68\" x=\"73\" y=\"269.1387\">«part  def»</text><text fill=\"#000000\" font-family=\"sans-serif\" font-size=\"12\" lengthAdjust=\"spacingAndGlyphs\" textLength=\"8\" x=\"103\" y=\"283.1074\">A</text><line style=\"stroke: #383838; stroke-width: 1.5;\" x1=\"73\" x2=\"141\" y1=\"290.9375\" y2=\"290.9375\"/></a><!--MD5=[60a26617385b1d2d0262a64233df1f8d]\n",
       "class E6--><a href=\"psysml:a72efec8-2b60-4f71-833a-33d401001ef7\" target=\"_top\" title=\"psysml:a72efec8-2b60-4f71-833a-33d401001ef7\" xlink:actuate=\"onRequest\" xlink:href=\"psysml:a72efec8-2b60-4f71-833a-33d401001ef7\" xlink:show=\"new\" xlink:title=\"psysml:a72efec8-2b60-4f71-833a-33d401001ef7\" xlink:type=\"simple\"><rect fill=\"#FFFFFF\" height=\"45.9375\" id=\"E6\" rx=\"10\" ry=\"10\" style=\"stroke: #383838; stroke-width: 1.5;\" width=\"42\" x=\"56\" y=\"87.5\"/><text fill=\"#000000\" font-family=\"sans-serif\" font-size=\"12\" font-style=\"italic\" lengthAdjust=\"spacingAndGlyphs\" textLength=\"40\" x=\"57\" y=\"103.6387\">«part»</text><text fill=\"#000000\" font-family=\"sans-serif\" font-size=\"12\" lengthAdjust=\"spacingAndGlyphs\" textLength=\"22\" x=\"64\" y=\"117.6074\">x: A</text><line style=\"stroke: #383838; stroke-width: 1.5;\" x1=\"57\" x2=\"97\" y1=\"125.4375\" y2=\"125.4375\"/></a><a href=\"psysml:18e68ffc-3c50-485f-abff-3c07b29f1978\" target=\"_top\" title=\"psysml:18e68ffc-3c50-485f-abff-3c07b29f1978\" xlink:actuate=\"onRequest\" xlink:href=\"psysml:18e68ffc-3c50-485f-abff-3c07b29f1978\" xlink:show=\"new\" xlink:title=\"psysml:18e68ffc-3c50-485f-abff-3c07b29f1978\" xlink:type=\"simple\"><polygon fill=\"#FFFFFF\" points=\"133,84,165,84,172,106.2969,179,106.2969,179,136.5938,133,136.5938,133,84\" style=\"stroke: #000000; stroke-width: 1.5;\"/><line style=\"stroke: #000000; stroke-width: 1.5;\" x1=\"133\" x2=\"172\" y1=\"106.2969\" y2=\"106.2969\"/><text fill=\"#000000\" font-family=\"sans-serif\" font-size=\"14\" font-weight=\"bold\" lengthAdjust=\"spacingAndGlyphs\" textLength=\"26\" x=\"137\" y=\"98.9951\">P2a</text></a><!--MD5=[15ebcb19ae302d9b601edb458606d402]\n",
       "link E5 to E2--><a href=\"psysml:dfd16e59-ab91-470e-8369-8533004051f7\" target=\"_top\" title=\"psysml:dfd16e59-ab91-470e-8369-8533004051f7\" xlink:actuate=\"onRequest\" xlink:href=\"psysml:dfd16e59-ab91-470e-8369-8533004051f7\" xlink:show=\"new\" xlink:title=\"psysml:dfd16e59-ab91-470e-8369-8533004051f7\" xlink:type=\"simple\"><path d=\"M159.28,137.05 C160.735,148.365 162.5469,162.4656 164.4519,177.2955 C165.4044,184.7104 166.3802,192.3076 167.3463,199.8301 C167.5878,201.7107 167.8287,203.5867 168.0685,205.4539 C168.1884,206.3876 168.308,207.319 168.4273,208.2478 C168.4869,208.7122 168.5465,209.1759 168.6059,209.6389 \" fill=\"none\" id=\"E5-&gt;E2\" style=\"stroke: #383838; stroke-width: 1.0; stroke-dasharray: 7.0,7.0;\"/><polygon fill=\"#383838\" points=\"168.6059,209.6389,171.427,200.2027,167.9691,204.6796,163.4922,201.2217,168.6059,209.6389\" style=\"stroke: #383838; stroke-width: 1.0;\"/><text fill=\"#000000\" font-family=\"sans-serif\" font-size=\"13\" lengthAdjust=\"spacingAndGlyphs\" textLength=\"65\" x=\"166\" y=\"182.0669\">«import»*</text></a><!--MD5=[a717450b82c80b9240a525fa862496af]\n",
       "link E6 to E3--><a href=\"psysml:08f34eb1-8ff4-422d-a9a6-5096bc1237f4\" target=\"_top\" title=\"psysml:08f34eb1-8ff4-422d-a9a6-5096bc1237f4\" xlink:actuate=\"onRequest\" xlink:href=\"psysml:08f34eb1-8ff4-422d-a9a6-5096bc1237f4\" xlink:show=\"new\" xlink:title=\"psysml:08f34eb1-8ff4-422d-a9a6-5096bc1237f4\" xlink:type=\"simple\"><path d=\"M81.05,133.55 C85.7,158.9 93.44,201.1 99.26,232.83 \" fill=\"none\" id=\"E6-&gt;E3\" style=\"stroke: #383838; stroke-width: 1.0;\"/><polygon fill=\"#FFFFFF\" points=\"102.92,252.78,92.6018,235.3578,106.3713,232.8278,102.92,252.78\" style=\"stroke: #383838; stroke-width: 1.0;\"/><ellipse cx=\"93.5388\" cy=\"229.3902\" fill=\"#383838\" rx=\"2\" ry=\"2\" style=\"stroke: #383838; stroke-width: 1.0;\"/><ellipse cx=\"103.3742\" cy=\"227.5831\" fill=\"#383838\" rx=\"2\" ry=\"2\" style=\"stroke: #383838; stroke-width: 1.0;\"/></a><!--MD5=[be76641074ce4c1ccd2451d528d76218]\n",
       "@startuml\r\n",
       "top to bottom direction\r\n",
       "skinparam monochrome true\r\n",
       "skinparam classbackgroundcolor white\r\n",
       "skinparam shadowing false\r\n",
       "skinparam wrapWidth 300\r\n",
       "hide circle\r\n",
       "\r\n",
       "package \"QualifiedNameImportTest\" as E1  [[psysml:da4cdfd0-3825-4b53-8eea-757999b665bd ]]  {\r\n",
       "package \"P1\" as E2  [[psysml:4a6c4eec-a299-4799-849a-0f6e2ae74607 ]]  {\r\n",
       "comp def \"A\" as E3  <<(T,blue) part  def>> [[psysml:c3954339-5488-4b4b-b1b9-8dc0f4000655 ]] {\r\n",
       "}\r\n",
       "}\r\n",
       "package \"P2\" as E4  [[psysml:eb8258b7-0b9d-4f0f-ab00-8538318b7623 ]]  {\r\n",
       "package \"P2a\" as E5  [[psysml:18e68ffc-3c50-485f-abff-3c07b29f1978 ]]  {\r\n",
       "}\r\n",
       "comp usage \"x: A \" as E6  <<(T,blue) part>> [[psysml:a72efec8-2b60-4f71-833a-33d401001ef7 ]] {\r\n",
       "}\r\n",
       "}\r\n",
       "}\r\n",
       "E5 ..> E2 [[psysml:dfd16e59-ab91-470e-8369-8533004051f7 ]] : <<import>>*\r\n",
       "E6 - -:|> E3 [[psysml:08f34eb1-8ff4-422d-a9a6-5096bc1237f4 ]] \r\n",
       "@enduml\r\n",
       "\n",
       "PlantUML version 1.2020.13(Sat Jun 13 12:26:38 UTC 2020)\n",
       "(EPL source distribution)\n",
       "Java Runtime: OpenJDK Runtime Environment\n",
       "JVM: OpenJDK 64-Bit Server VM\n",
       "Default Encoding: UTF-8\n",
       "Language: en\n",
       "Country: null\n",
       "--></g></svg>"
      ]
     },
     "execution_count": 50,
     "metadata": {},
     "output_type": "execute_result"
    }
   ],
   "source": [
    "%viz --style=\"TB\" --view=\"MIXED\" \"QualifiedNameImportTest\""
   ]
  },
  {
   "cell_type": "code",
   "execution_count": 51,
   "id": "c7ae7b58",
   "metadata": {
    "execution": {
     "iopub.execute_input": "2022-03-21T07:52:10.119566Z",
     "iopub.status.busy": "2022-03-21T07:52:10.119153Z",
     "iopub.status.idle": "2022-03-21T07:52:10.146034Z",
     "shell.execute_reply": "2022-03-21T07:52:10.144792Z"
    }
   },
   "outputs": [
    {
     "data": {
      "image/svg+xml": [
       "<?xml version=\"1.0\" encoding=\"UTF-8\" standalone=\"no\"?><svg xmlns=\"http://www.w3.org/2000/svg\" xmlns:xlink=\"http://www.w3.org/1999/xlink\" contentScriptType=\"application/ecmascript\" contentStyleType=\"text/css\" height=\"367px\" preserveAspectRatio=\"none\" style=\"width:241px;height:367px;\" version=\"1.1\" viewBox=\"0 0 241 367\" width=\"241px\" zoomAndPan=\"magnify\"><defs/><g><!--MD5=[fbc87193dbaf4d95561dea2c320d4a47]\n",
       "cluster E1--><a href=\"psysml:da4cdfd0-3825-4b53-8eea-757999b665bd\" target=\"_top\" title=\"psysml:da4cdfd0-3825-4b53-8eea-757999b665bd\" xlink:actuate=\"onRequest\" xlink:href=\"psysml:da4cdfd0-3825-4b53-8eea-757999b665bd\" xlink:show=\"new\" xlink:title=\"psysml:da4cdfd0-3825-4b53-8eea-757999b665bd\" xlink:type=\"simple\"><polygon fill=\"#FFFFFF\" points=\"16,6,196,6,203,28.2969,219,28.2969,219,355,16,355,16,6\" style=\"stroke: #000000; stroke-width: 1.5;\"/><line style=\"stroke: #000000; stroke-width: 1.5;\" x1=\"16\" x2=\"203\" y1=\"28.2969\" y2=\"28.2969\"/><text fill=\"#000000\" font-family=\"sans-serif\" font-size=\"14\" font-weight=\"bold\" lengthAdjust=\"spacingAndGlyphs\" textLength=\"174\" x=\"20\" y=\"20.9951\">QualifiedNameImportTest</text></a><!--MD5=[e4f7fae6ed58524ba242bb0b0d3be6b7]\n",
       "cluster E2--><a href=\"psysml:4a6c4eec-a299-4799-849a-0f6e2ae74607\" target=\"_top\" title=\"psysml:4a6c4eec-a299-4799-849a-0f6e2ae74607\" xlink:actuate=\"onRequest\" xlink:href=\"psysml:4a6c4eec-a299-4799-849a-0f6e2ae74607\" xlink:show=\"new\" xlink:title=\"psysml:4a6c4eec-a299-4799-849a-0f6e2ae74607\" xlink:type=\"simple\"><polygon fill=\"#FFFFFF\" points=\"48,210,72,210,79,232.2969,185,232.2969,185,323,48,323,48,210\" style=\"stroke: #000000; stroke-width: 1.5;\"/><line style=\"stroke: #000000; stroke-width: 1.5;\" x1=\"48\" x2=\"79\" y1=\"232.2969\" y2=\"232.2969\"/><text fill=\"#000000\" font-family=\"sans-serif\" font-size=\"14\" font-weight=\"bold\" lengthAdjust=\"spacingAndGlyphs\" textLength=\"18\" x=\"52\" y=\"224.9951\">P1</text></a><!--MD5=[f6df4d0ebaf0b5dfb2ced0ae5af7c670]\n",
       "cluster E4--><a href=\"psysml:eb8258b7-0b9d-4f0f-ab00-8538318b7623\" target=\"_top\" title=\"psysml:eb8258b7-0b9d-4f0f-ab00-8538318b7623\" xlink:actuate=\"onRequest\" xlink:href=\"psysml:eb8258b7-0b9d-4f0f-ab00-8538318b7623\" xlink:show=\"new\" xlink:title=\"psysml:eb8258b7-0b9d-4f0f-ab00-8538318b7623\" xlink:type=\"simple\"><polygon fill=\"#FFFFFF\" points=\"40,49,64,49,71,71.2969,195,71.2969,195,153,40,153,40,49\" style=\"stroke: #000000; stroke-width: 1.5;\"/><line style=\"stroke: #000000; stroke-width: 1.5;\" x1=\"40\" x2=\"71\" y1=\"71.2969\" y2=\"71.2969\"/><text fill=\"#000000\" font-family=\"sans-serif\" font-size=\"14\" font-weight=\"bold\" lengthAdjust=\"spacingAndGlyphs\" textLength=\"18\" x=\"44\" y=\"63.9951\">P2</text></a><!--MD5=[09b614a08d8cba4a07c9adeb5e0fee81]\n",
       "class E3--><a href=\"psysml:c3954339-5488-4b4b-b1b9-8dc0f4000655\" target=\"_top\" title=\"psysml:c3954339-5488-4b4b-b1b9-8dc0f4000655\" xlink:actuate=\"onRequest\" xlink:href=\"psysml:c3954339-5488-4b4b-b1b9-8dc0f4000655\" xlink:show=\"new\" xlink:title=\"psysml:c3954339-5488-4b4b-b1b9-8dc0f4000655\" xlink:type=\"simple\"><rect fill=\"#FFFFFF\" height=\"45.9375\" id=\"E3\" style=\"stroke: #383838; stroke-width: 1.5;\" width=\"70\" x=\"72\" y=\"253\"/><text fill=\"#000000\" font-family=\"sans-serif\" font-size=\"12\" font-style=\"italic\" lengthAdjust=\"spacingAndGlyphs\" textLength=\"68\" x=\"73\" y=\"269.1387\">«part  def»</text><text fill=\"#000000\" font-family=\"sans-serif\" font-size=\"12\" lengthAdjust=\"spacingAndGlyphs\" textLength=\"8\" x=\"103\" y=\"283.1074\">A</text><line style=\"stroke: #383838; stroke-width: 1.5;\" x1=\"73\" x2=\"141\" y1=\"290.9375\" y2=\"290.9375\"/></a><!--MD5=[60a26617385b1d2d0262a64233df1f8d]\n",
       "class E6--><a href=\"psysml:a72efec8-2b60-4f71-833a-33d401001ef7\" target=\"_top\" title=\"psysml:a72efec8-2b60-4f71-833a-33d401001ef7\" xlink:actuate=\"onRequest\" xlink:href=\"psysml:a72efec8-2b60-4f71-833a-33d401001ef7\" xlink:show=\"new\" xlink:title=\"psysml:a72efec8-2b60-4f71-833a-33d401001ef7\" xlink:type=\"simple\"><rect fill=\"#FFFFFF\" height=\"45.9375\" id=\"E6\" rx=\"10\" ry=\"10\" style=\"stroke: #383838; stroke-width: 1.5;\" width=\"42\" x=\"56\" y=\"87.5\"/><text fill=\"#000000\" font-family=\"sans-serif\" font-size=\"12\" font-style=\"italic\" lengthAdjust=\"spacingAndGlyphs\" textLength=\"40\" x=\"57\" y=\"103.6387\">«part»</text><text fill=\"#000000\" font-family=\"sans-serif\" font-size=\"12\" lengthAdjust=\"spacingAndGlyphs\" textLength=\"22\" x=\"64\" y=\"117.6074\">x: A</text><line style=\"stroke: #383838; stroke-width: 1.5;\" x1=\"57\" x2=\"97\" y1=\"125.4375\" y2=\"125.4375\"/></a><a href=\"psysml:18e68ffc-3c50-485f-abff-3c07b29f1978\" target=\"_top\" title=\"psysml:18e68ffc-3c50-485f-abff-3c07b29f1978\" xlink:actuate=\"onRequest\" xlink:href=\"psysml:18e68ffc-3c50-485f-abff-3c07b29f1978\" xlink:show=\"new\" xlink:title=\"psysml:18e68ffc-3c50-485f-abff-3c07b29f1978\" xlink:type=\"simple\"><polygon fill=\"#FFFFFF\" points=\"133,84,165,84,172,106.2969,179,106.2969,179,136.5938,133,136.5938,133,84\" style=\"stroke: #000000; stroke-width: 1.5;\"/><line style=\"stroke: #000000; stroke-width: 1.5;\" x1=\"133\" x2=\"172\" y1=\"106.2969\" y2=\"106.2969\"/><text fill=\"#000000\" font-family=\"sans-serif\" font-size=\"14\" font-weight=\"bold\" lengthAdjust=\"spacingAndGlyphs\" textLength=\"26\" x=\"137\" y=\"98.9951\">P2a</text></a><!--MD5=[15ebcb19ae302d9b601edb458606d402]\n",
       "link E5 to E2--><a href=\"psysml:dfd16e59-ab91-470e-8369-8533004051f7\" target=\"_top\" title=\"psysml:dfd16e59-ab91-470e-8369-8533004051f7\" xlink:actuate=\"onRequest\" xlink:href=\"psysml:dfd16e59-ab91-470e-8369-8533004051f7\" xlink:show=\"new\" xlink:title=\"psysml:dfd16e59-ab91-470e-8369-8533004051f7\" xlink:type=\"simple\"><path d=\"M177,137.09 C177,148.2375 177,161.9594 177,176.3959 C177,183.6142 177,191.0112 177,198.3543 C177,202.0259 177,205.6841 177,209.2997 C177,209.5257 177,209.7515 177,209.9771 \" fill=\"none\" id=\"E5-&gt;E2\" style=\"stroke: #383838; stroke-width: 1.0; stroke-dasharray: 7.0,7.0;\"/><polygon fill=\"#383838\" points=\"177,209.9771,181,200.9771,177,204.9771,173,200.9771,177,209.9771\" style=\"stroke: #383838; stroke-width: 1.0;\"/><text fill=\"#000000\" font-family=\"sans-serif\" font-size=\"13\" lengthAdjust=\"spacingAndGlyphs\" textLength=\"65\" x=\"137\" y=\"182.0669\">«import»*</text></a><!--MD5=[a717450b82c80b9240a525fa862496af]\n",
       "link E6 to E3--><a href=\"psysml:08f34eb1-8ff4-422d-a9a6-5096bc1237f4\" target=\"_top\" title=\"psysml:08f34eb1-8ff4-422d-a9a6-5096bc1237f4\" xlink:actuate=\"onRequest\" xlink:href=\"psysml:08f34eb1-8ff4-422d-a9a6-5096bc1237f4\" xlink:show=\"new\" xlink:title=\"psysml:08f34eb1-8ff4-422d-a9a6-5096bc1237f4\" xlink:type=\"simple\"><path d=\"M85,133.51 C85,133.51 85,232.92 85,232.92 \" fill=\"none\" id=\"E6-&gt;E3\" style=\"stroke: #383838; stroke-width: 1.0;\"/><polygon fill=\"#FFFFFF\" points=\"85,252.92,78,233.92,92,233.92,85,252.92\" style=\"stroke: #383838; stroke-width: 1.0;\"/><ellipse cx=\"80\" cy=\"228.22\" fill=\"#383838\" rx=\"2\" ry=\"2\" style=\"stroke: #383838; stroke-width: 1.0;\"/><ellipse cx=\"90\" cy=\"228.22\" fill=\"#383838\" rx=\"2\" ry=\"2\" style=\"stroke: #383838; stroke-width: 1.0;\"/></a><!--MD5=[cf61c5954e336aceb12777d01d453bd9]\n",
       "@startuml\r\n",
       "skinparam linetype ortho\r\n",
       "skinparam monochrome true\r\n",
       "skinparam classbackgroundcolor white\r\n",
       "skinparam shadowing false\r\n",
       "skinparam wrapWidth 300\r\n",
       "hide circle\r\n",
       "\r\n",
       "package \"QualifiedNameImportTest\" as E1  [[psysml:da4cdfd0-3825-4b53-8eea-757999b665bd ]]  {\r\n",
       "package \"P1\" as E2  [[psysml:4a6c4eec-a299-4799-849a-0f6e2ae74607 ]]  {\r\n",
       "comp def \"A\" as E3  <<(T,blue) part  def>> [[psysml:c3954339-5488-4b4b-b1b9-8dc0f4000655 ]] {\r\n",
       "}\r\n",
       "}\r\n",
       "package \"P2\" as E4  [[psysml:eb8258b7-0b9d-4f0f-ab00-8538318b7623 ]]  {\r\n",
       "package \"P2a\" as E5  [[psysml:18e68ffc-3c50-485f-abff-3c07b29f1978 ]]  {\r\n",
       "}\r\n",
       "comp usage \"x: A \" as E6  <<(T,blue) part>> [[psysml:a72efec8-2b60-4f71-833a-33d401001ef7 ]] {\r\n",
       "}\r\n",
       "}\r\n",
       "}\r\n",
       "E5 ..> E2 [[psysml:dfd16e59-ab91-470e-8369-8533004051f7 ]] : <<import>>*\r\n",
       "E6 - -:|> E3 [[psysml:08f34eb1-8ff4-422d-a9a6-5096bc1237f4 ]] \r\n",
       "@enduml\r\n",
       "\n",
       "PlantUML version 1.2020.13(Sat Jun 13 12:26:38 UTC 2020)\n",
       "(EPL source distribution)\n",
       "Java Runtime: OpenJDK Runtime Environment\n",
       "JVM: OpenJDK 64-Bit Server VM\n",
       "Default Encoding: UTF-8\n",
       "Language: en\n",
       "Country: null\n",
       "--></g></svg>"
      ]
     },
     "execution_count": 51,
     "metadata": {},
     "output_type": "execute_result"
    }
   ],
   "source": [
    "%viz --style=\"ORTHOLINE\" --view=\"Default\" \"QualifiedNameImportTest\""
   ]
  },
  {
   "cell_type": "code",
   "execution_count": 52,
   "id": "0e4368e1",
   "metadata": {
    "execution": {
     "iopub.execute_input": "2022-03-21T07:52:10.195601Z",
     "iopub.status.busy": "2022-03-21T07:52:10.195201Z",
     "iopub.status.idle": "2022-03-21T07:52:10.220611Z",
     "shell.execute_reply": "2022-03-21T07:52:10.220234Z"
    }
   },
   "outputs": [
    {
     "data": {
      "image/svg+xml": [
       "<?xml version=\"1.0\" encoding=\"UTF-8\" standalone=\"no\"?><svg xmlns=\"http://www.w3.org/2000/svg\" xmlns:xlink=\"http://www.w3.org/1999/xlink\" contentScriptType=\"application/ecmascript\" contentStyleType=\"text/css\" height=\"367px\" preserveAspectRatio=\"none\" style=\"width:241px;height:367px;\" version=\"1.1\" viewBox=\"0 0 241 367\" width=\"241px\" zoomAndPan=\"magnify\"><defs/><g><!--MD5=[fbc87193dbaf4d95561dea2c320d4a47]\n",
       "cluster E1--><a href=\"psysml:da4cdfd0-3825-4b53-8eea-757999b665bd\" target=\"_top\" title=\"psysml:da4cdfd0-3825-4b53-8eea-757999b665bd\" xlink:actuate=\"onRequest\" xlink:href=\"psysml:da4cdfd0-3825-4b53-8eea-757999b665bd\" xlink:show=\"new\" xlink:title=\"psysml:da4cdfd0-3825-4b53-8eea-757999b665bd\" xlink:type=\"simple\"><polygon fill=\"#FFFFFF\" points=\"16,6,196,6,203,28.2969,219,28.2969,219,355,16,355,16,6\" style=\"stroke: #000000; stroke-width: 1.5;\"/><line style=\"stroke: #000000; stroke-width: 1.5;\" x1=\"16\" x2=\"203\" y1=\"28.2969\" y2=\"28.2969\"/><text fill=\"#000000\" font-family=\"sans-serif\" font-size=\"14\" font-weight=\"bold\" lengthAdjust=\"spacingAndGlyphs\" textLength=\"174\" x=\"20\" y=\"20.9951\">QualifiedNameImportTest</text></a><!--MD5=[e4f7fae6ed58524ba242bb0b0d3be6b7]\n",
       "cluster E2--><a href=\"psysml:4a6c4eec-a299-4799-849a-0f6e2ae74607\" target=\"_top\" title=\"psysml:4a6c4eec-a299-4799-849a-0f6e2ae74607\" xlink:actuate=\"onRequest\" xlink:href=\"psysml:4a6c4eec-a299-4799-849a-0f6e2ae74607\" xlink:show=\"new\" xlink:title=\"psysml:4a6c4eec-a299-4799-849a-0f6e2ae74607\" xlink:type=\"simple\"><polygon fill=\"#FFFFFF\" points=\"48,210,72,210,79,232.2969,185,232.2969,185,323,48,323,48,210\" style=\"stroke: #000000; stroke-width: 1.5;\"/><line style=\"stroke: #000000; stroke-width: 1.5;\" x1=\"48\" x2=\"79\" y1=\"232.2969\" y2=\"232.2969\"/><text fill=\"#000000\" font-family=\"sans-serif\" font-size=\"14\" font-weight=\"bold\" lengthAdjust=\"spacingAndGlyphs\" textLength=\"18\" x=\"52\" y=\"224.9951\">P1</text></a><!--MD5=[f6df4d0ebaf0b5dfb2ced0ae5af7c670]\n",
       "cluster E4--><a href=\"psysml:eb8258b7-0b9d-4f0f-ab00-8538318b7623\" target=\"_top\" title=\"psysml:eb8258b7-0b9d-4f0f-ab00-8538318b7623\" xlink:actuate=\"onRequest\" xlink:href=\"psysml:eb8258b7-0b9d-4f0f-ab00-8538318b7623\" xlink:show=\"new\" xlink:title=\"psysml:eb8258b7-0b9d-4f0f-ab00-8538318b7623\" xlink:type=\"simple\"><polygon fill=\"#FFFFFF\" points=\"40,49,64,49,71,71.2969,195,71.2969,195,153,40,153,40,49\" style=\"stroke: #000000; stroke-width: 1.5;\"/><line style=\"stroke: #000000; stroke-width: 1.5;\" x1=\"40\" x2=\"71\" y1=\"71.2969\" y2=\"71.2969\"/><text fill=\"#000000\" font-family=\"sans-serif\" font-size=\"14\" font-weight=\"bold\" lengthAdjust=\"spacingAndGlyphs\" textLength=\"18\" x=\"44\" y=\"63.9951\">P2</text></a><!--MD5=[09b614a08d8cba4a07c9adeb5e0fee81]\n",
       "class E3--><a href=\"psysml:c3954339-5488-4b4b-b1b9-8dc0f4000655\" target=\"_top\" title=\"psysml:c3954339-5488-4b4b-b1b9-8dc0f4000655\" xlink:actuate=\"onRequest\" xlink:href=\"psysml:c3954339-5488-4b4b-b1b9-8dc0f4000655\" xlink:show=\"new\" xlink:title=\"psysml:c3954339-5488-4b4b-b1b9-8dc0f4000655\" xlink:type=\"simple\"><rect fill=\"#FFFFFF\" height=\"45.9375\" id=\"E3\" style=\"stroke: #383838; stroke-width: 1.5;\" width=\"70\" x=\"72\" y=\"253\"/><text fill=\"#000000\" font-family=\"sans-serif\" font-size=\"12\" font-style=\"italic\" lengthAdjust=\"spacingAndGlyphs\" textLength=\"68\" x=\"73\" y=\"269.1387\">«part  def»</text><text fill=\"#000000\" font-family=\"sans-serif\" font-size=\"12\" lengthAdjust=\"spacingAndGlyphs\" textLength=\"8\" x=\"103\" y=\"283.1074\">A</text><line style=\"stroke: #383838; stroke-width: 1.5;\" x1=\"73\" x2=\"141\" y1=\"290.9375\" y2=\"290.9375\"/></a><!--MD5=[60a26617385b1d2d0262a64233df1f8d]\n",
       "class E6--><a href=\"psysml:a72efec8-2b60-4f71-833a-33d401001ef7\" target=\"_top\" title=\"psysml:a72efec8-2b60-4f71-833a-33d401001ef7\" xlink:actuate=\"onRequest\" xlink:href=\"psysml:a72efec8-2b60-4f71-833a-33d401001ef7\" xlink:show=\"new\" xlink:title=\"psysml:a72efec8-2b60-4f71-833a-33d401001ef7\" xlink:type=\"simple\"><rect fill=\"#FFFFFF\" height=\"45.9375\" id=\"E6\" rx=\"10\" ry=\"10\" style=\"stroke: #383838; stroke-width: 1.5;\" width=\"42\" x=\"56\" y=\"87.5\"/><text fill=\"#000000\" font-family=\"sans-serif\" font-size=\"12\" font-style=\"italic\" lengthAdjust=\"spacingAndGlyphs\" textLength=\"40\" x=\"57\" y=\"103.6387\">«part»</text><text fill=\"#000000\" font-family=\"sans-serif\" font-size=\"12\" lengthAdjust=\"spacingAndGlyphs\" textLength=\"22\" x=\"64\" y=\"117.6074\">x: A</text><line style=\"stroke: #383838; stroke-width: 1.5;\" x1=\"57\" x2=\"97\" y1=\"125.4375\" y2=\"125.4375\"/></a><a href=\"psysml:18e68ffc-3c50-485f-abff-3c07b29f1978\" target=\"_top\" title=\"psysml:18e68ffc-3c50-485f-abff-3c07b29f1978\" xlink:actuate=\"onRequest\" xlink:href=\"psysml:18e68ffc-3c50-485f-abff-3c07b29f1978\" xlink:show=\"new\" xlink:title=\"psysml:18e68ffc-3c50-485f-abff-3c07b29f1978\" xlink:type=\"simple\"><polygon fill=\"#FFFFFF\" points=\"133,84,165,84,172,106.2969,179,106.2969,179,136.5938,133,136.5938,133,84\" style=\"stroke: #000000; stroke-width: 1.5;\"/><line style=\"stroke: #000000; stroke-width: 1.5;\" x1=\"133\" x2=\"172\" y1=\"106.2969\" y2=\"106.2969\"/><text fill=\"#000000\" font-family=\"sans-serif\" font-size=\"14\" font-weight=\"bold\" lengthAdjust=\"spacingAndGlyphs\" textLength=\"26\" x=\"137\" y=\"98.9951\">P2a</text></a><!--MD5=[15ebcb19ae302d9b601edb458606d402]\n",
       "link E5 to E2--><a href=\"psysml:dfd16e59-ab91-470e-8369-8533004051f7\" target=\"_top\" title=\"psysml:dfd16e59-ab91-470e-8369-8533004051f7\" xlink:actuate=\"onRequest\" xlink:href=\"psysml:dfd16e59-ab91-470e-8369-8533004051f7\" xlink:show=\"new\" xlink:title=\"psysml:dfd16e59-ab91-470e-8369-8533004051f7\" xlink:type=\"simple\"><path d=\"M177,137.09 C177,148.2375 177,161.9594 177,176.3959 C177,183.6142 177,191.0112 177,198.3543 C177,202.0259 177,205.6841 177,209.2997 C177,209.5257 177,209.7515 177,209.9771 \" fill=\"none\" id=\"E5-&gt;E2\" style=\"stroke: #383838; stroke-width: 1.0; stroke-dasharray: 7.0,7.0;\"/><polygon fill=\"#383838\" points=\"177,209.9771,181,200.9771,177,204.9771,173,200.9771,177,209.9771\" style=\"stroke: #383838; stroke-width: 1.0;\"/><text fill=\"#000000\" font-family=\"sans-serif\" font-size=\"13\" lengthAdjust=\"spacingAndGlyphs\" textLength=\"65\" x=\"137\" y=\"182.0669\">«import»*</text></a><!--MD5=[a717450b82c80b9240a525fa862496af]\n",
       "link E6 to E3--><a href=\"psysml:08f34eb1-8ff4-422d-a9a6-5096bc1237f4\" target=\"_top\" title=\"psysml:08f34eb1-8ff4-422d-a9a6-5096bc1237f4\" xlink:actuate=\"onRequest\" xlink:href=\"psysml:08f34eb1-8ff4-422d-a9a6-5096bc1237f4\" xlink:show=\"new\" xlink:title=\"psysml:08f34eb1-8ff4-422d-a9a6-5096bc1237f4\" xlink:type=\"simple\"><path d=\"M85,133.51 C85,133.51 85,232.92 85,232.92 \" fill=\"none\" id=\"E6-&gt;E3\" style=\"stroke: #383838; stroke-width: 1.0;\"/><polygon fill=\"#FFFFFF\" points=\"85,252.92,78,233.92,92,233.92,85,252.92\" style=\"stroke: #383838; stroke-width: 1.0;\"/><ellipse cx=\"80\" cy=\"228.22\" fill=\"#383838\" rx=\"2\" ry=\"2\" style=\"stroke: #383838; stroke-width: 1.0;\"/><ellipse cx=\"90\" cy=\"228.22\" fill=\"#383838\" rx=\"2\" ry=\"2\" style=\"stroke: #383838; stroke-width: 1.0;\"/></a><!--MD5=[cf61c5954e336aceb12777d01d453bd9]\n",
       "@startuml\r\n",
       "skinparam linetype ortho\r\n",
       "skinparam monochrome true\r\n",
       "skinparam classbackgroundcolor white\r\n",
       "skinparam shadowing false\r\n",
       "skinparam wrapWidth 300\r\n",
       "hide circle\r\n",
       "\r\n",
       "package \"QualifiedNameImportTest\" as E1  [[psysml:da4cdfd0-3825-4b53-8eea-757999b665bd ]]  {\r\n",
       "package \"P1\" as E2  [[psysml:4a6c4eec-a299-4799-849a-0f6e2ae74607 ]]  {\r\n",
       "comp def \"A\" as E3  <<(T,blue) part  def>> [[psysml:c3954339-5488-4b4b-b1b9-8dc0f4000655 ]] {\r\n",
       "}\r\n",
       "}\r\n",
       "package \"P2\" as E4  [[psysml:eb8258b7-0b9d-4f0f-ab00-8538318b7623 ]]  {\r\n",
       "package \"P2a\" as E5  [[psysml:18e68ffc-3c50-485f-abff-3c07b29f1978 ]]  {\r\n",
       "}\r\n",
       "comp usage \"x: A \" as E6  <<(T,blue) part>> [[psysml:a72efec8-2b60-4f71-833a-33d401001ef7 ]] {\r\n",
       "}\r\n",
       "}\r\n",
       "}\r\n",
       "E5 ..> E2 [[psysml:dfd16e59-ab91-470e-8369-8533004051f7 ]] : <<import>>*\r\n",
       "E6 - -:|> E3 [[psysml:08f34eb1-8ff4-422d-a9a6-5096bc1237f4 ]] \r\n",
       "@enduml\r\n",
       "\n",
       "PlantUML version 1.2020.13(Sat Jun 13 12:26:38 UTC 2020)\n",
       "(EPL source distribution)\n",
       "Java Runtime: OpenJDK Runtime Environment\n",
       "JVM: OpenJDK 64-Bit Server VM\n",
       "Default Encoding: UTF-8\n",
       "Language: en\n",
       "Country: null\n",
       "--></g></svg>"
      ]
     },
     "execution_count": 52,
     "metadata": {},
     "output_type": "execute_result"
    }
   ],
   "source": [
    "%viz --style=\"ORTHOLINE\" --view=\"Tree\" \"QualifiedNameImportTest\""
   ]
  },
  {
   "cell_type": "code",
   "execution_count": 53,
   "id": "d35ce98c",
   "metadata": {
    "execution": {
     "iopub.execute_input": "2022-03-21T07:52:10.270228Z",
     "iopub.status.busy": "2022-03-21T07:52:10.269830Z",
     "iopub.status.idle": "2022-03-21T07:52:10.274170Z",
     "shell.execute_reply": "2022-03-21T07:52:10.274463Z"
    }
   },
   "outputs": [
    {
     "data": {
      "image/svg+xml": [
       "<?xml version=\"1.0\" encoding=\"UTF-8\" standalone=\"no\"?><svg xmlns=\"http://www.w3.org/2000/svg\" xmlns:xlink=\"http://www.w3.org/1999/xlink\" contentScriptType=\"application/ecmascript\" contentStyleType=\"text/css\" height=\"12px\" preserveAspectRatio=\"none\" style=\"width:12px;height:12px;\" version=\"1.1\" viewBox=\"0 0 12 12\" width=\"12px\" zoomAndPan=\"magnify\"><defs/><g><!--MD5=[97d6f38768b311333d388e66b2b27985]\n",
       "@startuml\r\n",
       "skinparam linetype ortho\r\n",
       "skinparam monochrome true\r\n",
       "skinparam classbackgroundcolor white\r\n",
       "skinparam shadowing false\r\n",
       "skinparam wrapWidth 300\r\n",
       "hide circle\r\n",
       "\r\n",
       "@enduml\r\n",
       "\n",
       "PlantUML version 1.2020.13(Sat Jun 13 12:26:38 UTC 2020)\n",
       "(EPL source distribution)\n",
       "Java Runtime: OpenJDK Runtime Environment\n",
       "JVM: OpenJDK 64-Bit Server VM\n",
       "Default Encoding: UTF-8\n",
       "Language: en\n",
       "Country: null\n",
       "--></g></svg>"
      ]
     },
     "execution_count": 53,
     "metadata": {},
     "output_type": "execute_result"
    }
   ],
   "source": [
    "%viz --style=\"ORTHOLINE\" --view=\"State\" \"QualifiedNameImportTest\""
   ]
  },
  {
   "cell_type": "code",
   "execution_count": 54,
   "id": "ca487e55",
   "metadata": {
    "execution": {
     "iopub.execute_input": "2022-03-21T07:52:10.323993Z",
     "iopub.status.busy": "2022-03-21T07:52:10.323594Z",
     "iopub.status.idle": "2022-03-21T07:52:10.348648Z",
     "shell.execute_reply": "2022-03-21T07:52:10.348296Z"
    }
   },
   "outputs": [
    {
     "data": {
      "image/svg+xml": [
       "<?xml version=\"1.0\" encoding=\"UTF-8\" standalone=\"no\"?><svg xmlns=\"http://www.w3.org/2000/svg\" xmlns:xlink=\"http://www.w3.org/1999/xlink\" contentScriptType=\"application/ecmascript\" contentStyleType=\"text/css\" height=\"364px\" preserveAspectRatio=\"none\" style=\"width:249px;height:364px;\" version=\"1.1\" viewBox=\"0 0 249 364\" width=\"249px\" zoomAndPan=\"magnify\"><defs/><g><!--MD5=[fbc87193dbaf4d95561dea2c320d4a47]\n",
       "cluster E1--><a href=\"psysml:da4cdfd0-3825-4b53-8eea-757999b665bd\" target=\"_top\" title=\"psysml:da4cdfd0-3825-4b53-8eea-757999b665bd\" xlink:actuate=\"onRequest\" xlink:href=\"psysml:da4cdfd0-3825-4b53-8eea-757999b665bd\" xlink:show=\"new\" xlink:title=\"psysml:da4cdfd0-3825-4b53-8eea-757999b665bd\" xlink:type=\"simple\"><polygon fill=\"#FFFFFF\" points=\"16,6,196,6,203,28.2969,227,28.2969,227,352,16,352,16,6\" style=\"stroke: #000000; stroke-width: 1.5;\"/><line style=\"stroke: #000000; stroke-width: 1.5;\" x1=\"16\" x2=\"203\" y1=\"28.2969\" y2=\"28.2969\"/><text fill=\"#000000\" font-family=\"sans-serif\" font-size=\"14\" font-weight=\"bold\" lengthAdjust=\"spacingAndGlyphs\" textLength=\"174\" x=\"20\" y=\"20.9951\">QualifiedNameImportTest</text></a><!--MD5=[e4f7fae6ed58524ba242bb0b0d3be6b7]\n",
       "cluster E2--><a href=\"psysml:4a6c4eec-a299-4799-849a-0f6e2ae74607\" target=\"_top\" title=\"psysml:4a6c4eec-a299-4799-849a-0f6e2ae74607\" xlink:actuate=\"onRequest\" xlink:href=\"psysml:4a6c4eec-a299-4799-849a-0f6e2ae74607\" xlink:show=\"new\" xlink:title=\"psysml:4a6c4eec-a299-4799-849a-0f6e2ae74607\" xlink:type=\"simple\"><polygon fill=\"#FFFFFF\" points=\"53,210,77,210,84,232.2969,195,232.2969,195,320,53,320,53,210\" style=\"stroke: #000000; stroke-width: 1.5;\"/><line style=\"stroke: #000000; stroke-width: 1.5;\" x1=\"53\" x2=\"84\" y1=\"232.2969\" y2=\"232.2969\"/><text fill=\"#000000\" font-family=\"sans-serif\" font-size=\"14\" font-weight=\"bold\" lengthAdjust=\"spacingAndGlyphs\" textLength=\"18\" x=\"57\" y=\"224.9951\">P1</text></a><!--MD5=[f6df4d0ebaf0b5dfb2ced0ae5af7c670]\n",
       "cluster E4--><a href=\"psysml:eb8258b7-0b9d-4f0f-ab00-8538318b7623\" target=\"_top\" title=\"psysml:eb8258b7-0b9d-4f0f-ab00-8538318b7623\" xlink:actuate=\"onRequest\" xlink:href=\"psysml:eb8258b7-0b9d-4f0f-ab00-8538318b7623\" xlink:show=\"new\" xlink:title=\"psysml:eb8258b7-0b9d-4f0f-ab00-8538318b7623\" xlink:type=\"simple\"><polygon fill=\"#FFFFFF\" points=\"40,49,64,49,71,71.2969,203,71.2969,203,153,40,153,40,49\" style=\"stroke: #000000; stroke-width: 1.5;\"/><line style=\"stroke: #000000; stroke-width: 1.5;\" x1=\"40\" x2=\"71\" y1=\"71.2969\" y2=\"71.2969\"/><text fill=\"#000000\" font-family=\"sans-serif\" font-size=\"14\" font-weight=\"bold\" lengthAdjust=\"spacingAndGlyphs\" textLength=\"18\" x=\"44\" y=\"63.9951\">P2</text></a><g id=\"E1.E2.E3\"><a href=\"psysml:c3954339-5488-4b4b-b1b9-8dc0f4000655\" target=\"_top\" title=\"psysml:c3954339-5488-4b4b-b1b9-8dc0f4000655\" xlink:actuate=\"onRequest\" xlink:href=\"psysml:c3954339-5488-4b4b-b1b9-8dc0f4000655\" xlink:show=\"new\" xlink:title=\"psysml:c3954339-5488-4b4b-b1b9-8dc0f4000655\" xlink:type=\"simple\"><rect fill=\"#FFFFFF\" height=\"42.9375\" id=\"E3\" style=\"stroke: #383838; stroke-width: 1.5;\" width=\"75\" x=\"96.5\" y=\"253\"/><rect fill=\"#F8F8F8\" height=\"37.9375\" style=\"stroke: #383838; stroke-width: 1.5;\" width=\"75\" x=\"96.5\" y=\"253\"/><text fill=\"#000000\" font-family=\"sans-serif\" font-size=\"12\" font-style=\"italic\" lengthAdjust=\"spacingAndGlyphs\" textLength=\"68\" x=\"100\" y=\"269.1387\">«part  def»</text><text fill=\"#000000\" font-family=\"sans-serif\" font-size=\"12\" lengthAdjust=\"spacingAndGlyphs\" textLength=\"8\" x=\"130\" y=\"283.1074\">A</text></a></g><a href=\"psysml:18e68ffc-3c50-485f-abff-3c07b29f1978\" target=\"_top\" title=\"psysml:18e68ffc-3c50-485f-abff-3c07b29f1978\" xlink:actuate=\"onRequest\" xlink:href=\"psysml:18e68ffc-3c50-485f-abff-3c07b29f1978\" xlink:show=\"new\" xlink:title=\"psysml:18e68ffc-3c50-485f-abff-3c07b29f1978\" xlink:type=\"simple\"><polygon fill=\"#FFFFFF\" points=\"141,84,173,84,180,106.2969,187,106.2969,187,136.5938,141,136.5938,141,84\" style=\"stroke: #000000; stroke-width: 1.5;\"/><line style=\"stroke: #000000; stroke-width: 1.5;\" x1=\"141\" x2=\"180\" y1=\"106.2969\" y2=\"106.2969\"/><text fill=\"#000000\" font-family=\"sans-serif\" font-size=\"14\" font-weight=\"bold\" lengthAdjust=\"spacingAndGlyphs\" textLength=\"26\" x=\"145\" y=\"98.9951\">P2a</text></a><g id=\"E1.E4.E6\"><a href=\"psysml:a72efec8-2b60-4f71-833a-33d401001ef7\" target=\"_top\" title=\"psysml:a72efec8-2b60-4f71-833a-33d401001ef7\" xlink:actuate=\"onRequest\" xlink:href=\"psysml:a72efec8-2b60-4f71-833a-33d401001ef7\" xlink:show=\"new\" xlink:title=\"psysml:a72efec8-2b60-4f71-833a-33d401001ef7\" xlink:type=\"simple\"><rect fill=\"#FFFFFF\" height=\"40\" id=\"E6\" rx=\"10\" ry=\"10\" style=\"stroke: #383838; stroke-width: 1.5;\" width=\"50\" x=\"56\" y=\"90.5\"/><rect fill=\"#F8F8F8\" height=\"23.9688\" rx=\"10\" ry=\"10\" style=\"stroke: #F8F8F8; stroke-width: 1.5;\" width=\"50\" x=\"56\" y=\"90.5\"/><rect fill=\"#F8F8F8\" height=\"10\" style=\"stroke: #F8F8F8; stroke-width: 1.5;\" width=\"50\" x=\"56\" y=\"104.4688\"/><rect fill=\"none\" height=\"40\" id=\"E6\" rx=\"10\" ry=\"10\" style=\"stroke: #383838; stroke-width: 1.5;\" width=\"50\" x=\"56\" y=\"90.5\"/><text fill=\"#000000\" font-family=\"sans-serif\" font-size=\"12\" lengthAdjust=\"spacingAndGlyphs\" textLength=\"22\" x=\"70\" y=\"106.6387\">x: A</text></a></g><!--MD5=[15ebcb19ae302d9b601edb458606d402]\n",
       "link E5 to E2--><a href=\"psysml:dfd16e59-ab91-470e-8369-8533004051f7\" target=\"_top\" title=\"psysml:dfd16e59-ab91-470e-8369-8533004051f7\" xlink:actuate=\"onRequest\" xlink:href=\"psysml:dfd16e59-ab91-470e-8369-8533004051f7\" xlink:show=\"new\" xlink:title=\"psysml:dfd16e59-ab91-470e-8369-8533004051f7\" xlink:type=\"simple\"><path d=\"M156.25,137.24 C156.25,161.99 156.25,195 156.25,195 C156.25,195 61,195 61,195 C61,195 61,199.5138 61,206.3902 C61,207.2497 61,208.1462 61,209.0754 C61,209.3077 61,209.542 61,209.7783 \" fill=\"none\" id=\"E5-&gt;E2\" style=\"stroke: #383838; stroke-width: 1.0; stroke-dasharray: 7.0,7.0;\"/><polygon fill=\"#383838\" points=\"61,209.7783,65,200.7783,61,204.7783,57,200.7783,61,209.7783\" style=\"stroke: #383838; stroke-width: 1.0;\"/><text fill=\"#000000\" font-family=\"sans-serif\" font-size=\"13\" lengthAdjust=\"spacingAndGlyphs\" textLength=\"65\" x=\"106\" y=\"182.0669\">«import»*</text></a><!--MD5=[780a7cabc72b5fe72f1d6c8ac642a050]\n",
       "@startuml\r\n",
       "skinparam ranksep 10\r\n",
       "skinparam rectangle {\r\n",
       " backgroundColor<<block>> LightGreen\r\n",
       "}\r\n",
       "skinparam linetype ortho\r\n",
       "skinparam monochrome true\r\n",
       "skinparam classbackgroundcolor white\r\n",
       "skinparam shadowing false\r\n",
       "skinparam wrapWidth 300\r\n",
       "hide circle\r\n",
       "\r\n",
       "package \"QualifiedNameImportTest\" as E1  [[psysml:da4cdfd0-3825-4b53-8eea-757999b665bd ]]  {\r\n",
       "package \"P1\" as E2  [[psysml:4a6c4eec-a299-4799-849a-0f6e2ae74607 ]]  {\r\n",
       "rec def \"A\" as E3  <<(T,blue) part  def>> [[psysml:c3954339-5488-4b4b-b1b9-8dc0f4000655 ]] {\r\n",
       "}\r\n",
       "}\r\n",
       "package \"P2\" as E4  [[psysml:eb8258b7-0b9d-4f0f-ab00-8538318b7623 ]]  {\r\n",
       "package \"P2a\" as E5  [[psysml:18e68ffc-3c50-485f-abff-3c07b29f1978 ]]  {\r\n",
       "}\r\n",
       "rec usage \"x: A\" as E6  [[psysml:a72efec8-2b60-4f71-833a-33d401001ef7 ]] {\r\n",
       "}\r\n",
       "}\r\n",
       "}\r\n",
       "E5 ..> E2 [[psysml:dfd16e59-ab91-470e-8369-8533004051f7 ]] : <<import>>*\r\n",
       "@enduml\r\n",
       "\n",
       "PlantUML version 1.2020.13(Sat Jun 13 12:26:38 UTC 2020)\n",
       "(EPL source distribution)\n",
       "Java Runtime: OpenJDK Runtime Environment\n",
       "JVM: OpenJDK 64-Bit Server VM\n",
       "Default Encoding: UTF-8\n",
       "Language: en\n",
       "Country: null\n",
       "--></g></svg>"
      ]
     },
     "execution_count": 54,
     "metadata": {},
     "output_type": "execute_result"
    }
   ],
   "source": [
    "%viz --style=\"ORTHOLINE\" --view=\"Interconnection\" \"QualifiedNameImportTest\""
   ]
  },
  {
   "cell_type": "code",
   "execution_count": 55,
   "id": "206567e2",
   "metadata": {
    "execution": {
     "iopub.execute_input": "2022-03-21T07:52:10.398259Z",
     "iopub.status.busy": "2022-03-21T07:52:10.397859Z",
     "iopub.status.idle": "2022-03-21T07:52:10.402444Z",
     "shell.execute_reply": "2022-03-21T07:52:10.402096Z"
    }
   },
   "outputs": [
    {
     "data": {
      "image/svg+xml": [
       "<?xml version=\"1.0\" encoding=\"UTF-8\" standalone=\"no\"?><svg xmlns=\"http://www.w3.org/2000/svg\" xmlns:xlink=\"http://www.w3.org/1999/xlink\" contentScriptType=\"application/ecmascript\" contentStyleType=\"text/css\" height=\"12px\" preserveAspectRatio=\"none\" style=\"width:12px;height:12px;\" version=\"1.1\" viewBox=\"0 0 12 12\" width=\"12px\" zoomAndPan=\"magnify\"><defs/><g><!--MD5=[72934c63077099a26744516a776b4749]\n",
       "@startuml\r\n",
       "skinparam ranksep 8\r\n",
       "skinparam linetype ortho\r\n",
       "skinparam monochrome true\r\n",
       "skinparam classbackgroundcolor white\r\n",
       "skinparam shadowing false\r\n",
       "skinparam wrapWidth 300\r\n",
       "hide circle\r\n",
       "\r\n",
       "@enduml\r\n",
       "\n",
       "PlantUML version 1.2020.13(Sat Jun 13 12:26:38 UTC 2020)\n",
       "(EPL source distribution)\n",
       "Java Runtime: OpenJDK Runtime Environment\n",
       "JVM: OpenJDK 64-Bit Server VM\n",
       "Default Encoding: UTF-8\n",
       "Language: en\n",
       "Country: null\n",
       "--></g></svg>"
      ]
     },
     "execution_count": 55,
     "metadata": {},
     "output_type": "execute_result"
    }
   ],
   "source": [
    "%viz --style=\"ORTHOLINE\" --view=\"Action\" \"QualifiedNameImportTest\""
   ]
  },
  {
   "cell_type": "code",
   "execution_count": 56,
   "id": "a6c7f832",
   "metadata": {
    "execution": {
     "iopub.execute_input": "2022-03-21T07:52:10.452182Z",
     "iopub.status.busy": "2022-03-21T07:52:10.451787Z",
     "iopub.status.idle": "2022-03-21T07:52:10.456388Z",
     "shell.execute_reply": "2022-03-21T07:52:10.456035Z"
    }
   },
   "outputs": [
    {
     "data": {
      "image/svg+xml": [
       "<?xml version=\"1.0\" encoding=\"UTF-8\" standalone=\"no\"?><svg xmlns=\"http://www.w3.org/2000/svg\" xmlns:xlink=\"http://www.w3.org/1999/xlink\" contentScriptType=\"application/ecmascript\" contentStyleType=\"text/css\" height=\"12px\" preserveAspectRatio=\"none\" style=\"width:12px;height:12px;\" version=\"1.1\" viewBox=\"0 0 12 12\" width=\"12px\" zoomAndPan=\"magnify\"><defs/><g><!--MD5=[30fc1de5121c5abddedd55b44417fde8]\n",
       "@startuml\r\n",
       "skinparam roundcorner 20\r\n",
       "skinparam BoxPadding 20\r\n",
       "skinparam SequenceBoxBackgroundColor #white\r\n",
       "skinparam style strictuml\r\n",
       "skinparam maxMessageSize 100\r\n",
       "skinparam linetype ortho\r\n",
       "skinparam monochrome true\r\n",
       "skinparam classbackgroundcolor white\r\n",
       "skinparam shadowing false\r\n",
       "skinparam wrapWidth 300\r\n",
       "hide circle\r\n",
       "\r\n",
       "@enduml\r\n",
       "\n",
       "PlantUML version 1.2020.13(Sat Jun 13 12:26:38 UTC 2020)\n",
       "(EPL source distribution)\n",
       "Java Runtime: OpenJDK Runtime Environment\n",
       "JVM: OpenJDK 64-Bit Server VM\n",
       "Default Encoding: UTF-8\n",
       "Language: en\n",
       "Country: null\n",
       "--></g></svg>"
      ]
     },
     "execution_count": 56,
     "metadata": {},
     "output_type": "execute_result"
    }
   ],
   "source": [
    "%viz --style=\"ORTHOLINE\" --view=\"Sequence\" \"QualifiedNameImportTest\""
   ]
  },
  {
   "cell_type": "code",
   "execution_count": 57,
   "id": "bb118e7a",
   "metadata": {
    "execution": {
     "iopub.execute_input": "2022-03-21T07:52:10.506224Z",
     "iopub.status.busy": "2022-03-21T07:52:10.505821Z",
     "iopub.status.idle": "2022-03-21T07:52:10.532855Z",
     "shell.execute_reply": "2022-03-21T07:52:10.532485Z"
    }
   },
   "outputs": [
    {
     "data": {
      "image/svg+xml": [
       "<?xml version=\"1.0\" encoding=\"UTF-8\" standalone=\"no\"?><svg xmlns=\"http://www.w3.org/2000/svg\" xmlns:xlink=\"http://www.w3.org/1999/xlink\" contentScriptType=\"application/ecmascript\" contentStyleType=\"text/css\" height=\"367px\" preserveAspectRatio=\"none\" style=\"width:241px;height:367px;\" version=\"1.1\" viewBox=\"0 0 241 367\" width=\"241px\" zoomAndPan=\"magnify\"><defs/><g><!--MD5=[fbc87193dbaf4d95561dea2c320d4a47]\n",
       "cluster E1--><a href=\"psysml:da4cdfd0-3825-4b53-8eea-757999b665bd\" target=\"_top\" title=\"psysml:da4cdfd0-3825-4b53-8eea-757999b665bd\" xlink:actuate=\"onRequest\" xlink:href=\"psysml:da4cdfd0-3825-4b53-8eea-757999b665bd\" xlink:show=\"new\" xlink:title=\"psysml:da4cdfd0-3825-4b53-8eea-757999b665bd\" xlink:type=\"simple\"><polygon fill=\"#FFFFFF\" points=\"16,6,196,6,203,28.2969,219,28.2969,219,355,16,355,16,6\" style=\"stroke: #000000; stroke-width: 1.5;\"/><line style=\"stroke: #000000; stroke-width: 1.5;\" x1=\"16\" x2=\"203\" y1=\"28.2969\" y2=\"28.2969\"/><text fill=\"#000000\" font-family=\"sans-serif\" font-size=\"14\" font-weight=\"bold\" lengthAdjust=\"spacingAndGlyphs\" textLength=\"174\" x=\"20\" y=\"20.9951\">QualifiedNameImportTest</text></a><!--MD5=[e4f7fae6ed58524ba242bb0b0d3be6b7]\n",
       "cluster E2--><a href=\"psysml:4a6c4eec-a299-4799-849a-0f6e2ae74607\" target=\"_top\" title=\"psysml:4a6c4eec-a299-4799-849a-0f6e2ae74607\" xlink:actuate=\"onRequest\" xlink:href=\"psysml:4a6c4eec-a299-4799-849a-0f6e2ae74607\" xlink:show=\"new\" xlink:title=\"psysml:4a6c4eec-a299-4799-849a-0f6e2ae74607\" xlink:type=\"simple\"><polygon fill=\"#FFFFFF\" points=\"48,210,72,210,79,232.2969,185,232.2969,185,323,48,323,48,210\" style=\"stroke: #000000; stroke-width: 1.5;\"/><line style=\"stroke: #000000; stroke-width: 1.5;\" x1=\"48\" x2=\"79\" y1=\"232.2969\" y2=\"232.2969\"/><text fill=\"#000000\" font-family=\"sans-serif\" font-size=\"14\" font-weight=\"bold\" lengthAdjust=\"spacingAndGlyphs\" textLength=\"18\" x=\"52\" y=\"224.9951\">P1</text></a><!--MD5=[f6df4d0ebaf0b5dfb2ced0ae5af7c670]\n",
       "cluster E4--><a href=\"psysml:eb8258b7-0b9d-4f0f-ab00-8538318b7623\" target=\"_top\" title=\"psysml:eb8258b7-0b9d-4f0f-ab00-8538318b7623\" xlink:actuate=\"onRequest\" xlink:href=\"psysml:eb8258b7-0b9d-4f0f-ab00-8538318b7623\" xlink:show=\"new\" xlink:title=\"psysml:eb8258b7-0b9d-4f0f-ab00-8538318b7623\" xlink:type=\"simple\"><polygon fill=\"#FFFFFF\" points=\"40,49,64,49,71,71.2969,195,71.2969,195,153,40,153,40,49\" style=\"stroke: #000000; stroke-width: 1.5;\"/><line style=\"stroke: #000000; stroke-width: 1.5;\" x1=\"40\" x2=\"71\" y1=\"71.2969\" y2=\"71.2969\"/><text fill=\"#000000\" font-family=\"sans-serif\" font-size=\"14\" font-weight=\"bold\" lengthAdjust=\"spacingAndGlyphs\" textLength=\"18\" x=\"44\" y=\"63.9951\">P2</text></a><!--MD5=[09b614a08d8cba4a07c9adeb5e0fee81]\n",
       "class E3--><a href=\"psysml:c3954339-5488-4b4b-b1b9-8dc0f4000655\" target=\"_top\" title=\"psysml:c3954339-5488-4b4b-b1b9-8dc0f4000655\" xlink:actuate=\"onRequest\" xlink:href=\"psysml:c3954339-5488-4b4b-b1b9-8dc0f4000655\" xlink:show=\"new\" xlink:title=\"psysml:c3954339-5488-4b4b-b1b9-8dc0f4000655\" xlink:type=\"simple\"><rect fill=\"#FFFFFF\" height=\"45.9375\" id=\"E3\" style=\"stroke: #383838; stroke-width: 1.5;\" width=\"70\" x=\"72\" y=\"253\"/><text fill=\"#000000\" font-family=\"sans-serif\" font-size=\"12\" font-style=\"italic\" lengthAdjust=\"spacingAndGlyphs\" textLength=\"68\" x=\"73\" y=\"269.1387\">«part  def»</text><text fill=\"#000000\" font-family=\"sans-serif\" font-size=\"12\" lengthAdjust=\"spacingAndGlyphs\" textLength=\"8\" x=\"103\" y=\"283.1074\">A</text><line style=\"stroke: #383838; stroke-width: 1.5;\" x1=\"73\" x2=\"141\" y1=\"290.9375\" y2=\"290.9375\"/></a><!--MD5=[60a26617385b1d2d0262a64233df1f8d]\n",
       "class E6--><a href=\"psysml:a72efec8-2b60-4f71-833a-33d401001ef7\" target=\"_top\" title=\"psysml:a72efec8-2b60-4f71-833a-33d401001ef7\" xlink:actuate=\"onRequest\" xlink:href=\"psysml:a72efec8-2b60-4f71-833a-33d401001ef7\" xlink:show=\"new\" xlink:title=\"psysml:a72efec8-2b60-4f71-833a-33d401001ef7\" xlink:type=\"simple\"><rect fill=\"#FFFFFF\" height=\"45.9375\" id=\"E6\" rx=\"10\" ry=\"10\" style=\"stroke: #383838; stroke-width: 1.5;\" width=\"42\" x=\"56\" y=\"87.5\"/><text fill=\"#000000\" font-family=\"sans-serif\" font-size=\"12\" font-style=\"italic\" lengthAdjust=\"spacingAndGlyphs\" textLength=\"40\" x=\"57\" y=\"103.6387\">«part»</text><text fill=\"#000000\" font-family=\"sans-serif\" font-size=\"12\" lengthAdjust=\"spacingAndGlyphs\" textLength=\"22\" x=\"64\" y=\"117.6074\">x: A</text><line style=\"stroke: #383838; stroke-width: 1.5;\" x1=\"57\" x2=\"97\" y1=\"125.4375\" y2=\"125.4375\"/></a><a href=\"psysml:18e68ffc-3c50-485f-abff-3c07b29f1978\" target=\"_top\" title=\"psysml:18e68ffc-3c50-485f-abff-3c07b29f1978\" xlink:actuate=\"onRequest\" xlink:href=\"psysml:18e68ffc-3c50-485f-abff-3c07b29f1978\" xlink:show=\"new\" xlink:title=\"psysml:18e68ffc-3c50-485f-abff-3c07b29f1978\" xlink:type=\"simple\"><polygon fill=\"#FFFFFF\" points=\"133,84,165,84,172,106.2969,179,106.2969,179,136.5938,133,136.5938,133,84\" style=\"stroke: #000000; stroke-width: 1.5;\"/><line style=\"stroke: #000000; stroke-width: 1.5;\" x1=\"133\" x2=\"172\" y1=\"106.2969\" y2=\"106.2969\"/><text fill=\"#000000\" font-family=\"sans-serif\" font-size=\"14\" font-weight=\"bold\" lengthAdjust=\"spacingAndGlyphs\" textLength=\"26\" x=\"137\" y=\"98.9951\">P2a</text></a><!--MD5=[15ebcb19ae302d9b601edb458606d402]\n",
       "link E5 to E2--><a href=\"psysml:dfd16e59-ab91-470e-8369-8533004051f7\" target=\"_top\" title=\"psysml:dfd16e59-ab91-470e-8369-8533004051f7\" xlink:actuate=\"onRequest\" xlink:href=\"psysml:dfd16e59-ab91-470e-8369-8533004051f7\" xlink:show=\"new\" xlink:title=\"psysml:dfd16e59-ab91-470e-8369-8533004051f7\" xlink:type=\"simple\"><path d=\"M177,137.09 C177,148.2375 177,161.9594 177,176.3959 C177,183.6142 177,191.0112 177,198.3543 C177,202.0259 177,205.6841 177,209.2997 C177,209.5257 177,209.7515 177,209.9771 \" fill=\"none\" id=\"E5-&gt;E2\" style=\"stroke: #383838; stroke-width: 1.0; stroke-dasharray: 7.0,7.0;\"/><polygon fill=\"#383838\" points=\"177,209.9771,181,200.9771,177,204.9771,173,200.9771,177,209.9771\" style=\"stroke: #383838; stroke-width: 1.0;\"/><text fill=\"#000000\" font-family=\"sans-serif\" font-size=\"13\" lengthAdjust=\"spacingAndGlyphs\" textLength=\"65\" x=\"137\" y=\"182.0669\">«import»*</text></a><!--MD5=[a717450b82c80b9240a525fa862496af]\n",
       "link E6 to E3--><a href=\"psysml:08f34eb1-8ff4-422d-a9a6-5096bc1237f4\" target=\"_top\" title=\"psysml:08f34eb1-8ff4-422d-a9a6-5096bc1237f4\" xlink:actuate=\"onRequest\" xlink:href=\"psysml:08f34eb1-8ff4-422d-a9a6-5096bc1237f4\" xlink:show=\"new\" xlink:title=\"psysml:08f34eb1-8ff4-422d-a9a6-5096bc1237f4\" xlink:type=\"simple\"><path d=\"M85,133.51 C85,133.51 85,232.92 85,232.92 \" fill=\"none\" id=\"E6-&gt;E3\" style=\"stroke: #383838; stroke-width: 1.0;\"/><polygon fill=\"#FFFFFF\" points=\"85,252.92,78,233.92,92,233.92,85,252.92\" style=\"stroke: #383838; stroke-width: 1.0;\"/><ellipse cx=\"80\" cy=\"228.22\" fill=\"#383838\" rx=\"2\" ry=\"2\" style=\"stroke: #383838; stroke-width: 1.0;\"/><ellipse cx=\"90\" cy=\"228.22\" fill=\"#383838\" rx=\"2\" ry=\"2\" style=\"stroke: #383838; stroke-width: 1.0;\"/></a><!--MD5=[cf61c5954e336aceb12777d01d453bd9]\n",
       "@startuml\r\n",
       "skinparam linetype ortho\r\n",
       "skinparam monochrome true\r\n",
       "skinparam classbackgroundcolor white\r\n",
       "skinparam shadowing false\r\n",
       "skinparam wrapWidth 300\r\n",
       "hide circle\r\n",
       "\r\n",
       "package \"QualifiedNameImportTest\" as E1  [[psysml:da4cdfd0-3825-4b53-8eea-757999b665bd ]]  {\r\n",
       "package \"P1\" as E2  [[psysml:4a6c4eec-a299-4799-849a-0f6e2ae74607 ]]  {\r\n",
       "comp def \"A\" as E3  <<(T,blue) part  def>> [[psysml:c3954339-5488-4b4b-b1b9-8dc0f4000655 ]] {\r\n",
       "}\r\n",
       "}\r\n",
       "package \"P2\" as E4  [[psysml:eb8258b7-0b9d-4f0f-ab00-8538318b7623 ]]  {\r\n",
       "package \"P2a\" as E5  [[psysml:18e68ffc-3c50-485f-abff-3c07b29f1978 ]]  {\r\n",
       "}\r\n",
       "comp usage \"x: A \" as E6  <<(T,blue) part>> [[psysml:a72efec8-2b60-4f71-833a-33d401001ef7 ]] {\r\n",
       "}\r\n",
       "}\r\n",
       "}\r\n",
       "E5 ..> E2 [[psysml:dfd16e59-ab91-470e-8369-8533004051f7 ]] : <<import>>*\r\n",
       "E6 - -:|> E3 [[psysml:08f34eb1-8ff4-422d-a9a6-5096bc1237f4 ]] \r\n",
       "@enduml\r\n",
       "\n",
       "PlantUML version 1.2020.13(Sat Jun 13 12:26:38 UTC 2020)\n",
       "(EPL source distribution)\n",
       "Java Runtime: OpenJDK Runtime Environment\n",
       "JVM: OpenJDK 64-Bit Server VM\n",
       "Default Encoding: UTF-8\n",
       "Language: en\n",
       "Country: null\n",
       "--></g></svg>"
      ]
     },
     "execution_count": 57,
     "metadata": {},
     "output_type": "execute_result"
    }
   ],
   "source": [
    "%viz --style=\"ORTHOLINE\" --view=\"MIXED\" \"QualifiedNameImportTest\""
   ]
  }
 ],
 "metadata": {
  "kernelspec": {
   "display_name": "SysML",
   "language": "sysml",
   "name": "sysml"
  },
  "language_info": {
   "codemirror_mode": "sysml",
   "file_extension": ".sysml",
   "mimetype": "text/x-sysml",
   "name": "SysML",
   "pygments_lexer": "java",
   "version": "1.0.0"
  }
 },
 "nbformat": 4,
 "nbformat_minor": 5
}
