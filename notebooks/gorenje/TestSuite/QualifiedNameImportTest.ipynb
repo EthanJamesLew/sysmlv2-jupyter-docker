{
 "cells": [
  {
   "cell_type": "markdown",
   "id": "c6076993",
   "metadata": {},
   "source": [
    "# SysML v2 Test Suite\n",
    "\n",
    "This can notebook can be cleared using menu `Edit --> Clear All Outputs` and then all cells can be\n",
    "run using menu `Run --> Run All Cells`.\n",
    "\n",
    "**WARNING**: This file is generated, all modifications here will be ignored.\n"
   ]
  },
  {
   "cell_type": "markdown",
   "id": "6f5976df",
   "metadata": {},
   "source": [
    "## File: ../../sysml/src/examples/Import Tests/QualifiedNameImportTest.sysml"
   ]
  },
  {
   "cell_type": "code",
   "execution_count": 1,
   "id": "6776c3dd",
   "metadata": {
    "execution": {
     "iopub.execute_input": "2022-04-22T09:51:21.389664Z",
     "iopub.status.busy": "2022-04-22T09:51:21.388573Z",
     "iopub.status.idle": "2022-04-22T09:51:21.510110Z",
     "shell.execute_reply": "2022-04-22T09:51:21.509138Z"
    }
   },
   "outputs": [
    {
     "data": {
      "text/plain": [
       "Package QualifiedNameImportTest (2ed59fa7-18b1-4383-ae10-485c05fd4a67)\n"
      ]
     },
     "execution_count": 1,
     "metadata": {},
     "output_type": "execute_result"
    }
   ],
   "source": [
    "package QualifiedNameImportTest {\n",
    "\tpackage P1 {\n",
    "\t\tpart def A;\n",
    "\t}\n",
    "\tpackage P2 {\n",
    "\t\tpackage P2a {\n",
    "\t\t\timport P1::*;\n",
    "\t\t}\n",
    "\t\t// The following should not fail.\n",
    "\t\t// A is a member of P2a because of the import.\n",
    "\t\tpart x: P2a::A;\n",
    "\t}\n",
    "}"
   ]
  },
  {
   "cell_type": "code",
   "execution_count": 2,
   "id": "4256b362",
   "metadata": {
    "execution": {
     "iopub.execute_input": "2022-04-22T09:51:21.561923Z",
     "iopub.status.busy": "2022-04-22T09:51:21.561286Z",
     "iopub.status.idle": "2022-04-22T09:51:22.010114Z",
     "shell.execute_reply": "2022-04-22T09:51:22.008419Z"
    }
   },
   "outputs": [
    {
     "data": {
      "image/svg+xml": [
       "<?xml version=\"1.0\" encoding=\"UTF-8\" standalone=\"no\"?><svg xmlns=\"http://www.w3.org/2000/svg\" xmlns:xlink=\"http://www.w3.org/1999/xlink\" contentScriptType=\"application/ecmascript\" contentStyleType=\"text/css\" height=\"367px\" preserveAspectRatio=\"none\" style=\"width:243px;height:367px;\" version=\"1.1\" viewBox=\"0 0 243 367\" width=\"243px\" zoomAndPan=\"magnify\"><defs/><g><!--MD5=[fbc87193dbaf4d95561dea2c320d4a47]\n",
       "cluster E1--><a href=\"psysml:50af7fae-c5e9-43d5-b973-e599fd0b94e5\" target=\"_top\" title=\"psysml:50af7fae-c5e9-43d5-b973-e599fd0b94e5\" xlink:actuate=\"onRequest\" xlink:href=\"psysml:50af7fae-c5e9-43d5-b973-e599fd0b94e5\" xlink:show=\"new\" xlink:title=\"psysml:50af7fae-c5e9-43d5-b973-e599fd0b94e5\" xlink:type=\"simple\"><polygon fill=\"#FFFFFF\" points=\"16,6,196,6,203,28.2969,219,28.2969,219,355,16,355,16,6\" style=\"stroke: #000000; stroke-width: 1.5;\"/><line style=\"stroke: #000000; stroke-width: 1.5;\" x1=\"16\" x2=\"203\" y1=\"28.2969\" y2=\"28.2969\"/><text fill=\"#000000\" font-family=\"sans-serif\" font-size=\"14\" font-weight=\"bold\" lengthAdjust=\"spacingAndGlyphs\" textLength=\"174\" x=\"20\" y=\"20.9951\">QualifiedNameImportTest</text></a><!--MD5=[e4f7fae6ed58524ba242bb0b0d3be6b7]\n",
       "cluster E2--><a href=\"psysml:1e9ed716-c57b-44aa-8aaa-ea3379eecc8d\" target=\"_top\" title=\"psysml:1e9ed716-c57b-44aa-8aaa-ea3379eecc8d\" xlink:actuate=\"onRequest\" xlink:href=\"psysml:1e9ed716-c57b-44aa-8aaa-ea3379eecc8d\" xlink:show=\"new\" xlink:title=\"psysml:1e9ed716-c57b-44aa-8aaa-ea3379eecc8d\" xlink:type=\"simple\"><polygon fill=\"#FFFFFF\" points=\"48,210,72,210,79,232.2969,185,232.2969,185,323,48,323,48,210\" style=\"stroke: #000000; stroke-width: 1.5;\"/><line style=\"stroke: #000000; stroke-width: 1.5;\" x1=\"48\" x2=\"79\" y1=\"232.2969\" y2=\"232.2969\"/><text fill=\"#000000\" font-family=\"sans-serif\" font-size=\"14\" font-weight=\"bold\" lengthAdjust=\"spacingAndGlyphs\" textLength=\"18\" x=\"52\" y=\"224.9951\">P1</text></a><!--MD5=[f6df4d0ebaf0b5dfb2ced0ae5af7c670]\n",
       "cluster E4--><a href=\"psysml:04b1b2f0-8c96-40bb-b2e8-2bd575969190\" target=\"_top\" title=\"psysml:04b1b2f0-8c96-40bb-b2e8-2bd575969190\" xlink:actuate=\"onRequest\" xlink:href=\"psysml:04b1b2f0-8c96-40bb-b2e8-2bd575969190\" xlink:show=\"new\" xlink:title=\"psysml:04b1b2f0-8c96-40bb-b2e8-2bd575969190\" xlink:type=\"simple\"><polygon fill=\"#FFFFFF\" points=\"40,49,64,49,71,71.2969,195,71.2969,195,153,40,153,40,49\" style=\"stroke: #000000; stroke-width: 1.5;\"/><line style=\"stroke: #000000; stroke-width: 1.5;\" x1=\"40\" x2=\"71\" y1=\"71.2969\" y2=\"71.2969\"/><text fill=\"#000000\" font-family=\"sans-serif\" font-size=\"14\" font-weight=\"bold\" lengthAdjust=\"spacingAndGlyphs\" textLength=\"18\" x=\"44\" y=\"63.9951\">P2</text></a><!--MD5=[09b614a08d8cba4a07c9adeb5e0fee81]\n",
       "class E3--><a href=\"psysml:4266c5b7-3671-4acf-aa71-02dd8d212457\" target=\"_top\" title=\"psysml:4266c5b7-3671-4acf-aa71-02dd8d212457\" xlink:actuate=\"onRequest\" xlink:href=\"psysml:4266c5b7-3671-4acf-aa71-02dd8d212457\" xlink:show=\"new\" xlink:title=\"psysml:4266c5b7-3671-4acf-aa71-02dd8d212457\" xlink:type=\"simple\"><rect fill=\"#FFFFFF\" height=\"45.9375\" id=\"E3\" style=\"stroke: #383838; stroke-width: 1.5;\" width=\"70\" x=\"72\" y=\"253\"/><text fill=\"#000000\" font-family=\"sans-serif\" font-size=\"12\" font-style=\"italic\" lengthAdjust=\"spacingAndGlyphs\" textLength=\"68\" x=\"73\" y=\"269.1387\">«part  def»</text><text fill=\"#000000\" font-family=\"sans-serif\" font-size=\"12\" lengthAdjust=\"spacingAndGlyphs\" textLength=\"8\" x=\"103\" y=\"283.1074\">A</text><line style=\"stroke: #383838; stroke-width: 1.5;\" x1=\"73\" x2=\"141\" y1=\"290.9375\" y2=\"290.9375\"/></a><!--MD5=[60a26617385b1d2d0262a64233df1f8d]\n",
       "class E6--><a href=\"psysml:d91f8c93-5cf2-41b6-a65a-d41673929b38\" target=\"_top\" title=\"psysml:d91f8c93-5cf2-41b6-a65a-d41673929b38\" xlink:actuate=\"onRequest\" xlink:href=\"psysml:d91f8c93-5cf2-41b6-a65a-d41673929b38\" xlink:show=\"new\" xlink:title=\"psysml:d91f8c93-5cf2-41b6-a65a-d41673929b38\" xlink:type=\"simple\"><rect fill=\"#FFFFFF\" height=\"45.9375\" id=\"E6\" rx=\"10\" ry=\"10\" style=\"stroke: #383838; stroke-width: 1.5;\" width=\"42\" x=\"56\" y=\"87.5\"/><text fill=\"#000000\" font-family=\"sans-serif\" font-size=\"12\" font-style=\"italic\" lengthAdjust=\"spacingAndGlyphs\" textLength=\"40\" x=\"57\" y=\"103.6387\">«part»</text><text fill=\"#000000\" font-family=\"sans-serif\" font-size=\"12\" lengthAdjust=\"spacingAndGlyphs\" textLength=\"22\" x=\"64\" y=\"117.6074\">x: A</text><line style=\"stroke: #383838; stroke-width: 1.5;\" x1=\"57\" x2=\"97\" y1=\"125.4375\" y2=\"125.4375\"/></a><a href=\"psysml:bb8eeef5-ab74-4ee9-8505-e654a7ee43f1\" target=\"_top\" title=\"psysml:bb8eeef5-ab74-4ee9-8505-e654a7ee43f1\" xlink:actuate=\"onRequest\" xlink:href=\"psysml:bb8eeef5-ab74-4ee9-8505-e654a7ee43f1\" xlink:show=\"new\" xlink:title=\"psysml:bb8eeef5-ab74-4ee9-8505-e654a7ee43f1\" xlink:type=\"simple\"><polygon fill=\"#FFFFFF\" points=\"133,84,165,84,172,106.2969,179,106.2969,179,136.5938,133,136.5938,133,84\" style=\"stroke: #000000; stroke-width: 1.5;\"/><line style=\"stroke: #000000; stroke-width: 1.5;\" x1=\"133\" x2=\"172\" y1=\"106.2969\" y2=\"106.2969\"/><text fill=\"#000000\" font-family=\"sans-serif\" font-size=\"14\" font-weight=\"bold\" lengthAdjust=\"spacingAndGlyphs\" textLength=\"26\" x=\"137\" y=\"98.9951\">P2a</text></a><!--MD5=[15ebcb19ae302d9b601edb458606d402]\n",
       "link E5 to E2--><a href=\"psysml:06c75c6a-903d-4e64-8c9a-141a01fc9647\" target=\"_top\" title=\"psysml:06c75c6a-903d-4e64-8c9a-141a01fc9647\" xlink:actuate=\"onRequest\" xlink:href=\"psysml:06c75c6a-903d-4e64-8c9a-141a01fc9647\" xlink:show=\"new\" xlink:title=\"psysml:06c75c6a-903d-4e64-8c9a-141a01fc9647\" xlink:type=\"simple\"><path d=\"M159.28,137.05 C160.735,148.365 162.5469,162.4656 164.4519,177.2955 C165.4044,184.7104 166.3802,192.3076 167.3463,199.8301 C167.5878,201.7107 167.8287,203.5867 168.0685,205.4539 C168.1884,206.3876 168.308,207.319 168.4273,208.2478 C168.4869,208.7122 168.5465,209.1759 168.6059,209.6389 \" fill=\"none\" id=\"E5-&gt;E2\" style=\"stroke: #383838; stroke-width: 1.0; stroke-dasharray: 7.0,7.0;\"/><polygon fill=\"#383838\" points=\"168.6059,209.6389,171.427,200.2027,167.9691,204.6796,163.4922,201.2217,168.6059,209.6389\" style=\"stroke: #383838; stroke-width: 1.0;\"/><text fill=\"#000000\" font-family=\"sans-serif\" font-size=\"13\" lengthAdjust=\"spacingAndGlyphs\" textLength=\"65\" x=\"166\" y=\"182.0669\">«import»*</text></a><!--MD5=[a717450b82c80b9240a525fa862496af]\n",
       "link E6 to E3--><a href=\"psysml:2903afd1-9bf2-47a6-8d72-b5532180e7bb\" target=\"_top\" title=\"psysml:2903afd1-9bf2-47a6-8d72-b5532180e7bb\" xlink:actuate=\"onRequest\" xlink:href=\"psysml:2903afd1-9bf2-47a6-8d72-b5532180e7bb\" xlink:show=\"new\" xlink:title=\"psysml:2903afd1-9bf2-47a6-8d72-b5532180e7bb\" xlink:type=\"simple\"><path d=\"M81.05,133.55 C85.7,158.9 93.44,201.1 99.26,232.83 \" fill=\"none\" id=\"E6-&gt;E3\" style=\"stroke: #383838; stroke-width: 1.0;\"/><polygon fill=\"#FFFFFF\" points=\"102.92,252.78,92.6018,235.3578,106.3713,232.8278,102.92,252.78\" style=\"stroke: #383838; stroke-width: 1.0;\"/><ellipse cx=\"93.5388\" cy=\"229.3902\" fill=\"#383838\" rx=\"2\" ry=\"2\" style=\"stroke: #383838; stroke-width: 1.0;\"/><ellipse cx=\"103.3742\" cy=\"227.5831\" fill=\"#383838\" rx=\"2\" ry=\"2\" style=\"stroke: #383838; stroke-width: 1.0;\"/></a><!--MD5=[d467ec6a4f4b34cbff279adc129409e7]\n",
       "@startuml\r\n",
       " skinparam monochrome true\r\n",
       "skinparam classbackgroundcolor white\r\n",
       "skinparam shadowing false\r\n",
       "skinparam wrapWidth 300\r\n",
       "hide circle\r\n",
       "\r\n",
       "package \"QualifiedNameImportTest\" as E1  [[psysml:50af7fae-c5e9-43d5-b973-e599fd0b94e5 ]]  {\r\n",
       "package \"P1\" as E2  [[psysml:1e9ed716-c57b-44aa-8aaa-ea3379eecc8d ]]  {\r\n",
       "comp def \"A\" as E3  <<(T,blue) part  def>> [[psysml:4266c5b7-3671-4acf-aa71-02dd8d212457 ]] {\r\n",
       "}\r\n",
       "}\r\n",
       "package \"P2\" as E4  [[psysml:04b1b2f0-8c96-40bb-b2e8-2bd575969190 ]]  {\r\n",
       "package \"P2a\" as E5  [[psysml:bb8eeef5-ab74-4ee9-8505-e654a7ee43f1 ]]  {\r\n",
       "}\r\n",
       "comp usage \"x: A \" as E6  <<(T,blue) part>> [[psysml:d91f8c93-5cf2-41b6-a65a-d41673929b38 ]] {\r\n",
       "}\r\n",
       "}\r\n",
       "}\r\n",
       "E5 ..> E2 [[psysml:06c75c6a-903d-4e64-8c9a-141a01fc9647 ]] : <<import>>*\r\n",
       "E6 - -:|> E3 [[psysml:2903afd1-9bf2-47a6-8d72-b5532180e7bb ]] \r\n",
       "@enduml\r\n",
       "\n",
       "PlantUML version 1.2020.13(Sat Jun 13 12:26:38 UTC 2020)\n",
       "(EPL source distribution)\n",
       "Java Runtime: OpenJDK Runtime Environment\n",
       "JVM: OpenJDK 64-Bit Server VM\n",
       "Default Encoding: UTF-8\n",
       "Language: en\n",
       "Country: null\n",
       "--></g></svg>"
      ]
     },
     "execution_count": 2,
     "metadata": {},
     "output_type": "execute_result"
    }
   ],
   "source": [
    "%viz --style=\"COMPTREE\" --view=\"Default\" \"QualifiedNameImportTest\""
   ]
  },
  {
   "cell_type": "code",
   "execution_count": 3,
   "id": "c264772b",
   "metadata": {
    "execution": {
     "iopub.execute_input": "2022-04-22T09:51:22.059389Z",
     "iopub.status.busy": "2022-04-22T09:51:22.058855Z",
     "iopub.status.idle": "2022-04-22T09:51:22.113651Z",
     "shell.execute_reply": "2022-04-22T09:51:22.113224Z"
    }
   },
   "outputs": [
    {
     "data": {
      "image/svg+xml": [
       "<?xml version=\"1.0\" encoding=\"UTF-8\" standalone=\"no\"?><svg xmlns=\"http://www.w3.org/2000/svg\" xmlns:xlink=\"http://www.w3.org/1999/xlink\" contentScriptType=\"application/ecmascript\" contentStyleType=\"text/css\" height=\"367px\" preserveAspectRatio=\"none\" style=\"width:243px;height:367px;\" version=\"1.1\" viewBox=\"0 0 243 367\" width=\"243px\" zoomAndPan=\"magnify\"><defs/><g><!--MD5=[fbc87193dbaf4d95561dea2c320d4a47]\n",
       "cluster E1--><a href=\"psysml:50af7fae-c5e9-43d5-b973-e599fd0b94e5\" target=\"_top\" title=\"psysml:50af7fae-c5e9-43d5-b973-e599fd0b94e5\" xlink:actuate=\"onRequest\" xlink:href=\"psysml:50af7fae-c5e9-43d5-b973-e599fd0b94e5\" xlink:show=\"new\" xlink:title=\"psysml:50af7fae-c5e9-43d5-b973-e599fd0b94e5\" xlink:type=\"simple\"><polygon fill=\"#FFFFFF\" points=\"16,6,196,6,203,28.2969,219,28.2969,219,355,16,355,16,6\" style=\"stroke: #000000; stroke-width: 1.5;\"/><line style=\"stroke: #000000; stroke-width: 1.5;\" x1=\"16\" x2=\"203\" y1=\"28.2969\" y2=\"28.2969\"/><text fill=\"#000000\" font-family=\"sans-serif\" font-size=\"14\" font-weight=\"bold\" lengthAdjust=\"spacingAndGlyphs\" textLength=\"174\" x=\"20\" y=\"20.9951\">QualifiedNameImportTest</text></a><!--MD5=[e4f7fae6ed58524ba242bb0b0d3be6b7]\n",
       "cluster E2--><a href=\"psysml:1e9ed716-c57b-44aa-8aaa-ea3379eecc8d\" target=\"_top\" title=\"psysml:1e9ed716-c57b-44aa-8aaa-ea3379eecc8d\" xlink:actuate=\"onRequest\" xlink:href=\"psysml:1e9ed716-c57b-44aa-8aaa-ea3379eecc8d\" xlink:show=\"new\" xlink:title=\"psysml:1e9ed716-c57b-44aa-8aaa-ea3379eecc8d\" xlink:type=\"simple\"><polygon fill=\"#FFFFFF\" points=\"48,210,72,210,79,232.2969,185,232.2969,185,323,48,323,48,210\" style=\"stroke: #000000; stroke-width: 1.5;\"/><line style=\"stroke: #000000; stroke-width: 1.5;\" x1=\"48\" x2=\"79\" y1=\"232.2969\" y2=\"232.2969\"/><text fill=\"#000000\" font-family=\"sans-serif\" font-size=\"14\" font-weight=\"bold\" lengthAdjust=\"spacingAndGlyphs\" textLength=\"18\" x=\"52\" y=\"224.9951\">P1</text></a><!--MD5=[f6df4d0ebaf0b5dfb2ced0ae5af7c670]\n",
       "cluster E4--><a href=\"psysml:04b1b2f0-8c96-40bb-b2e8-2bd575969190\" target=\"_top\" title=\"psysml:04b1b2f0-8c96-40bb-b2e8-2bd575969190\" xlink:actuate=\"onRequest\" xlink:href=\"psysml:04b1b2f0-8c96-40bb-b2e8-2bd575969190\" xlink:show=\"new\" xlink:title=\"psysml:04b1b2f0-8c96-40bb-b2e8-2bd575969190\" xlink:type=\"simple\"><polygon fill=\"#FFFFFF\" points=\"40,49,64,49,71,71.2969,195,71.2969,195,153,40,153,40,49\" style=\"stroke: #000000; stroke-width: 1.5;\"/><line style=\"stroke: #000000; stroke-width: 1.5;\" x1=\"40\" x2=\"71\" y1=\"71.2969\" y2=\"71.2969\"/><text fill=\"#000000\" font-family=\"sans-serif\" font-size=\"14\" font-weight=\"bold\" lengthAdjust=\"spacingAndGlyphs\" textLength=\"18\" x=\"44\" y=\"63.9951\">P2</text></a><!--MD5=[09b614a08d8cba4a07c9adeb5e0fee81]\n",
       "class E3--><a href=\"psysml:4266c5b7-3671-4acf-aa71-02dd8d212457\" target=\"_top\" title=\"psysml:4266c5b7-3671-4acf-aa71-02dd8d212457\" xlink:actuate=\"onRequest\" xlink:href=\"psysml:4266c5b7-3671-4acf-aa71-02dd8d212457\" xlink:show=\"new\" xlink:title=\"psysml:4266c5b7-3671-4acf-aa71-02dd8d212457\" xlink:type=\"simple\"><rect fill=\"#FFFFFF\" height=\"45.9375\" id=\"E3\" style=\"stroke: #383838; stroke-width: 1.5;\" width=\"70\" x=\"72\" y=\"253\"/><text fill=\"#000000\" font-family=\"sans-serif\" font-size=\"12\" font-style=\"italic\" lengthAdjust=\"spacingAndGlyphs\" textLength=\"68\" x=\"73\" y=\"269.1387\">«part  def»</text><text fill=\"#000000\" font-family=\"sans-serif\" font-size=\"12\" lengthAdjust=\"spacingAndGlyphs\" textLength=\"8\" x=\"103\" y=\"283.1074\">A</text><line style=\"stroke: #383838; stroke-width: 1.5;\" x1=\"73\" x2=\"141\" y1=\"290.9375\" y2=\"290.9375\"/></a><!--MD5=[60a26617385b1d2d0262a64233df1f8d]\n",
       "class E6--><a href=\"psysml:d91f8c93-5cf2-41b6-a65a-d41673929b38\" target=\"_top\" title=\"psysml:d91f8c93-5cf2-41b6-a65a-d41673929b38\" xlink:actuate=\"onRequest\" xlink:href=\"psysml:d91f8c93-5cf2-41b6-a65a-d41673929b38\" xlink:show=\"new\" xlink:title=\"psysml:d91f8c93-5cf2-41b6-a65a-d41673929b38\" xlink:type=\"simple\"><rect fill=\"#FFFFFF\" height=\"45.9375\" id=\"E6\" rx=\"10\" ry=\"10\" style=\"stroke: #383838; stroke-width: 1.5;\" width=\"42\" x=\"56\" y=\"87.5\"/><text fill=\"#000000\" font-family=\"sans-serif\" font-size=\"12\" font-style=\"italic\" lengthAdjust=\"spacingAndGlyphs\" textLength=\"40\" x=\"57\" y=\"103.6387\">«part»</text><text fill=\"#000000\" font-family=\"sans-serif\" font-size=\"12\" lengthAdjust=\"spacingAndGlyphs\" textLength=\"22\" x=\"64\" y=\"117.6074\">x: A</text><line style=\"stroke: #383838; stroke-width: 1.5;\" x1=\"57\" x2=\"97\" y1=\"125.4375\" y2=\"125.4375\"/></a><a href=\"psysml:bb8eeef5-ab74-4ee9-8505-e654a7ee43f1\" target=\"_top\" title=\"psysml:bb8eeef5-ab74-4ee9-8505-e654a7ee43f1\" xlink:actuate=\"onRequest\" xlink:href=\"psysml:bb8eeef5-ab74-4ee9-8505-e654a7ee43f1\" xlink:show=\"new\" xlink:title=\"psysml:bb8eeef5-ab74-4ee9-8505-e654a7ee43f1\" xlink:type=\"simple\"><polygon fill=\"#FFFFFF\" points=\"133,84,165,84,172,106.2969,179,106.2969,179,136.5938,133,136.5938,133,84\" style=\"stroke: #000000; stroke-width: 1.5;\"/><line style=\"stroke: #000000; stroke-width: 1.5;\" x1=\"133\" x2=\"172\" y1=\"106.2969\" y2=\"106.2969\"/><text fill=\"#000000\" font-family=\"sans-serif\" font-size=\"14\" font-weight=\"bold\" lengthAdjust=\"spacingAndGlyphs\" textLength=\"26\" x=\"137\" y=\"98.9951\">P2a</text></a><!--MD5=[15ebcb19ae302d9b601edb458606d402]\n",
       "link E5 to E2--><a href=\"psysml:06c75c6a-903d-4e64-8c9a-141a01fc9647\" target=\"_top\" title=\"psysml:06c75c6a-903d-4e64-8c9a-141a01fc9647\" xlink:actuate=\"onRequest\" xlink:href=\"psysml:06c75c6a-903d-4e64-8c9a-141a01fc9647\" xlink:show=\"new\" xlink:title=\"psysml:06c75c6a-903d-4e64-8c9a-141a01fc9647\" xlink:type=\"simple\"><path d=\"M159.28,137.05 C160.735,148.365 162.5469,162.4656 164.4519,177.2955 C165.4044,184.7104 166.3802,192.3076 167.3463,199.8301 C167.5878,201.7107 167.8287,203.5867 168.0685,205.4539 C168.1884,206.3876 168.308,207.319 168.4273,208.2478 C168.4869,208.7122 168.5465,209.1759 168.6059,209.6389 \" fill=\"none\" id=\"E5-&gt;E2\" style=\"stroke: #383838; stroke-width: 1.0; stroke-dasharray: 7.0,7.0;\"/><polygon fill=\"#383838\" points=\"168.6059,209.6389,171.427,200.2027,167.9691,204.6796,163.4922,201.2217,168.6059,209.6389\" style=\"stroke: #383838; stroke-width: 1.0;\"/><text fill=\"#000000\" font-family=\"sans-serif\" font-size=\"13\" lengthAdjust=\"spacingAndGlyphs\" textLength=\"65\" x=\"166\" y=\"182.0669\">«import»*</text></a><!--MD5=[a717450b82c80b9240a525fa862496af]\n",
       "link E6 to E3--><a href=\"psysml:2903afd1-9bf2-47a6-8d72-b5532180e7bb\" target=\"_top\" title=\"psysml:2903afd1-9bf2-47a6-8d72-b5532180e7bb\" xlink:actuate=\"onRequest\" xlink:href=\"psysml:2903afd1-9bf2-47a6-8d72-b5532180e7bb\" xlink:show=\"new\" xlink:title=\"psysml:2903afd1-9bf2-47a6-8d72-b5532180e7bb\" xlink:type=\"simple\"><path d=\"M81.05,133.55 C85.7,158.9 93.44,201.1 99.26,232.83 \" fill=\"none\" id=\"E6-&gt;E3\" style=\"stroke: #383838; stroke-width: 1.0;\"/><polygon fill=\"#FFFFFF\" points=\"102.92,252.78,92.6018,235.3578,106.3713,232.8278,102.92,252.78\" style=\"stroke: #383838; stroke-width: 1.0;\"/><ellipse cx=\"93.5388\" cy=\"229.3902\" fill=\"#383838\" rx=\"2\" ry=\"2\" style=\"stroke: #383838; stroke-width: 1.0;\"/><ellipse cx=\"103.3742\" cy=\"227.5831\" fill=\"#383838\" rx=\"2\" ry=\"2\" style=\"stroke: #383838; stroke-width: 1.0;\"/></a><!--MD5=[d467ec6a4f4b34cbff279adc129409e7]\n",
       "@startuml\r\n",
       " skinparam monochrome true\r\n",
       "skinparam classbackgroundcolor white\r\n",
       "skinparam shadowing false\r\n",
       "skinparam wrapWidth 300\r\n",
       "hide circle\r\n",
       "\r\n",
       "package \"QualifiedNameImportTest\" as E1  [[psysml:50af7fae-c5e9-43d5-b973-e599fd0b94e5 ]]  {\r\n",
       "package \"P1\" as E2  [[psysml:1e9ed716-c57b-44aa-8aaa-ea3379eecc8d ]]  {\r\n",
       "comp def \"A\" as E3  <<(T,blue) part  def>> [[psysml:4266c5b7-3671-4acf-aa71-02dd8d212457 ]] {\r\n",
       "}\r\n",
       "}\r\n",
       "package \"P2\" as E4  [[psysml:04b1b2f0-8c96-40bb-b2e8-2bd575969190 ]]  {\r\n",
       "package \"P2a\" as E5  [[psysml:bb8eeef5-ab74-4ee9-8505-e654a7ee43f1 ]]  {\r\n",
       "}\r\n",
       "comp usage \"x: A \" as E6  <<(T,blue) part>> [[psysml:d91f8c93-5cf2-41b6-a65a-d41673929b38 ]] {\r\n",
       "}\r\n",
       "}\r\n",
       "}\r\n",
       "E5 ..> E2 [[psysml:06c75c6a-903d-4e64-8c9a-141a01fc9647 ]] : <<import>>*\r\n",
       "E6 - -:|> E3 [[psysml:2903afd1-9bf2-47a6-8d72-b5532180e7bb ]] \r\n",
       "@enduml\r\n",
       "\n",
       "PlantUML version 1.2020.13(Sat Jun 13 12:26:38 UTC 2020)\n",
       "(EPL source distribution)\n",
       "Java Runtime: OpenJDK Runtime Environment\n",
       "JVM: OpenJDK 64-Bit Server VM\n",
       "Default Encoding: UTF-8\n",
       "Language: en\n",
       "Country: null\n",
       "--></g></svg>"
      ]
     },
     "execution_count": 3,
     "metadata": {},
     "output_type": "execute_result"
    }
   ],
   "source": [
    "%viz --style=\"COMPTREE\" --view=\"Tree\" \"QualifiedNameImportTest\""
   ]
  },
  {
   "cell_type": "code",
   "execution_count": 4,
   "id": "36d15f86",
   "metadata": {
    "execution": {
     "iopub.execute_input": "2022-04-22T09:51:22.163762Z",
     "iopub.status.busy": "2022-04-22T09:51:22.163175Z",
     "iopub.status.idle": "2022-04-22T09:51:22.172305Z",
     "shell.execute_reply": "2022-04-22T09:51:22.172638Z"
    }
   },
   "outputs": [
    {
     "data": {
      "image/svg+xml": [
       "<?xml version=\"1.0\" encoding=\"UTF-8\" standalone=\"no\"?><svg xmlns=\"http://www.w3.org/2000/svg\" xmlns:xlink=\"http://www.w3.org/1999/xlink\" contentScriptType=\"application/ecmascript\" contentStyleType=\"text/css\" height=\"12px\" preserveAspectRatio=\"none\" style=\"width:12px;height:12px;\" version=\"1.1\" viewBox=\"0 0 12 12\" width=\"12px\" zoomAndPan=\"magnify\"><defs/><g><!--MD5=[f19188ef49e11757b5c46753f95d9edc]\n",
       "@startuml\r\n",
       " skinparam monochrome true\r\n",
       "skinparam classbackgroundcolor white\r\n",
       "skinparam shadowing false\r\n",
       "skinparam wrapWidth 300\r\n",
       "hide circle\r\n",
       "\r\n",
       "@enduml\r\n",
       "\n",
       "PlantUML version 1.2020.13(Sat Jun 13 12:26:38 UTC 2020)\n",
       "(EPL source distribution)\n",
       "Java Runtime: OpenJDK Runtime Environment\n",
       "JVM: OpenJDK 64-Bit Server VM\n",
       "Default Encoding: UTF-8\n",
       "Language: en\n",
       "Country: null\n",
       "--></g></svg>"
      ]
     },
     "execution_count": 4,
     "metadata": {},
     "output_type": "execute_result"
    }
   ],
   "source": [
    "%viz --style=\"COMPTREE\" --view=\"State\" \"QualifiedNameImportTest\""
   ]
  },
  {
   "cell_type": "code",
   "execution_count": 5,
   "id": "3d0642e4",
   "metadata": {
    "execution": {
     "iopub.execute_input": "2022-04-22T09:51:22.223714Z",
     "iopub.status.busy": "2022-04-22T09:51:22.223086Z",
     "iopub.status.idle": "2022-04-22T09:51:22.271488Z",
     "shell.execute_reply": "2022-04-22T09:51:22.271753Z"
    }
   },
   "outputs": [
    {
     "data": {
      "image/svg+xml": [
       "<?xml version=\"1.0\" encoding=\"UTF-8\" standalone=\"no\"?><svg xmlns=\"http://www.w3.org/2000/svg\" xmlns:xlink=\"http://www.w3.org/1999/xlink\" contentScriptType=\"application/ecmascript\" contentStyleType=\"text/css\" height=\"364px\" preserveAspectRatio=\"none\" style=\"width:249px;height:364px;\" version=\"1.1\" viewBox=\"0 0 249 364\" width=\"249px\" zoomAndPan=\"magnify\"><defs/><g><!--MD5=[fbc87193dbaf4d95561dea2c320d4a47]\n",
       "cluster E1--><a href=\"psysml:50af7fae-c5e9-43d5-b973-e599fd0b94e5\" target=\"_top\" title=\"psysml:50af7fae-c5e9-43d5-b973-e599fd0b94e5\" xlink:actuate=\"onRequest\" xlink:href=\"psysml:50af7fae-c5e9-43d5-b973-e599fd0b94e5\" xlink:show=\"new\" xlink:title=\"psysml:50af7fae-c5e9-43d5-b973-e599fd0b94e5\" xlink:type=\"simple\"><polygon fill=\"#FFFFFF\" points=\"16,6,196,6,203,28.2969,227,28.2969,227,352,16,352,16,6\" style=\"stroke: #000000; stroke-width: 1.5;\"/><line style=\"stroke: #000000; stroke-width: 1.5;\" x1=\"16\" x2=\"203\" y1=\"28.2969\" y2=\"28.2969\"/><text fill=\"#000000\" font-family=\"sans-serif\" font-size=\"14\" font-weight=\"bold\" lengthAdjust=\"spacingAndGlyphs\" textLength=\"174\" x=\"20\" y=\"20.9951\">QualifiedNameImportTest</text></a><!--MD5=[e4f7fae6ed58524ba242bb0b0d3be6b7]\n",
       "cluster E2--><a href=\"psysml:1e9ed716-c57b-44aa-8aaa-ea3379eecc8d\" target=\"_top\" title=\"psysml:1e9ed716-c57b-44aa-8aaa-ea3379eecc8d\" xlink:actuate=\"onRequest\" xlink:href=\"psysml:1e9ed716-c57b-44aa-8aaa-ea3379eecc8d\" xlink:show=\"new\" xlink:title=\"psysml:1e9ed716-c57b-44aa-8aaa-ea3379eecc8d\" xlink:type=\"simple\"><polygon fill=\"#FFFFFF\" points=\"53,210,77,210,84,232.2969,195,232.2969,195,320,53,320,53,210\" style=\"stroke: #000000; stroke-width: 1.5;\"/><line style=\"stroke: #000000; stroke-width: 1.5;\" x1=\"53\" x2=\"84\" y1=\"232.2969\" y2=\"232.2969\"/><text fill=\"#000000\" font-family=\"sans-serif\" font-size=\"14\" font-weight=\"bold\" lengthAdjust=\"spacingAndGlyphs\" textLength=\"18\" x=\"57\" y=\"224.9951\">P1</text></a><!--MD5=[f6df4d0ebaf0b5dfb2ced0ae5af7c670]\n",
       "cluster E4--><a href=\"psysml:04b1b2f0-8c96-40bb-b2e8-2bd575969190\" target=\"_top\" title=\"psysml:04b1b2f0-8c96-40bb-b2e8-2bd575969190\" xlink:actuate=\"onRequest\" xlink:href=\"psysml:04b1b2f0-8c96-40bb-b2e8-2bd575969190\" xlink:show=\"new\" xlink:title=\"psysml:04b1b2f0-8c96-40bb-b2e8-2bd575969190\" xlink:type=\"simple\"><polygon fill=\"#FFFFFF\" points=\"40,49,64,49,71,71.2969,203,71.2969,203,153,40,153,40,49\" style=\"stroke: #000000; stroke-width: 1.5;\"/><line style=\"stroke: #000000; stroke-width: 1.5;\" x1=\"40\" x2=\"71\" y1=\"71.2969\" y2=\"71.2969\"/><text fill=\"#000000\" font-family=\"sans-serif\" font-size=\"14\" font-weight=\"bold\" lengthAdjust=\"spacingAndGlyphs\" textLength=\"18\" x=\"44\" y=\"63.9951\">P2</text></a><g id=\"E1.E2.E3\"><a href=\"psysml:4266c5b7-3671-4acf-aa71-02dd8d212457\" target=\"_top\" title=\"psysml:4266c5b7-3671-4acf-aa71-02dd8d212457\" xlink:actuate=\"onRequest\" xlink:href=\"psysml:4266c5b7-3671-4acf-aa71-02dd8d212457\" xlink:show=\"new\" xlink:title=\"psysml:4266c5b7-3671-4acf-aa71-02dd8d212457\" xlink:type=\"simple\"><rect fill=\"#FFFFFF\" height=\"42.9375\" id=\"E3\" style=\"stroke: #383838; stroke-width: 1.5;\" width=\"75\" x=\"96.5\" y=\"253\"/><rect fill=\"#F8F8F8\" height=\"37.9375\" style=\"stroke: #383838; stroke-width: 1.5;\" width=\"75\" x=\"96.5\" y=\"253\"/><text fill=\"#000000\" font-family=\"sans-serif\" font-size=\"12\" font-style=\"italic\" lengthAdjust=\"spacingAndGlyphs\" textLength=\"68\" x=\"100\" y=\"269.1387\">«part  def»</text><text fill=\"#000000\" font-family=\"sans-serif\" font-size=\"12\" lengthAdjust=\"spacingAndGlyphs\" textLength=\"8\" x=\"130\" y=\"283.1074\">A</text></a></g><a href=\"psysml:bb8eeef5-ab74-4ee9-8505-e654a7ee43f1\" target=\"_top\" title=\"psysml:bb8eeef5-ab74-4ee9-8505-e654a7ee43f1\" xlink:actuate=\"onRequest\" xlink:href=\"psysml:bb8eeef5-ab74-4ee9-8505-e654a7ee43f1\" xlink:show=\"new\" xlink:title=\"psysml:bb8eeef5-ab74-4ee9-8505-e654a7ee43f1\" xlink:type=\"simple\"><polygon fill=\"#FFFFFF\" points=\"56,84,88,84,95,106.2969,102,106.2969,102,136.5938,56,136.5938,56,84\" style=\"stroke: #000000; stroke-width: 1.5;\"/><line style=\"stroke: #000000; stroke-width: 1.5;\" x1=\"56\" x2=\"95\" y1=\"106.2969\" y2=\"106.2969\"/><text fill=\"#000000\" font-family=\"sans-serif\" font-size=\"14\" font-weight=\"bold\" lengthAdjust=\"spacingAndGlyphs\" textLength=\"26\" x=\"60\" y=\"98.9951\">P2a</text></a><g id=\"E1.E4.E6\"><a href=\"psysml:d91f8c93-5cf2-41b6-a65a-d41673929b38\" target=\"_top\" title=\"psysml:d91f8c93-5cf2-41b6-a65a-d41673929b38\" xlink:actuate=\"onRequest\" xlink:href=\"psysml:d91f8c93-5cf2-41b6-a65a-d41673929b38\" xlink:show=\"new\" xlink:title=\"psysml:d91f8c93-5cf2-41b6-a65a-d41673929b38\" xlink:type=\"simple\"><rect fill=\"#FFFFFF\" height=\"40\" id=\"E6\" rx=\"10\" ry=\"10\" style=\"stroke: #383838; stroke-width: 1.5;\" width=\"50\" x=\"137\" y=\"90.5\"/><rect fill=\"#F8F8F8\" height=\"23.9688\" rx=\"10\" ry=\"10\" style=\"stroke: #F8F8F8; stroke-width: 1.5;\" width=\"50\" x=\"137\" y=\"90.5\"/><rect fill=\"#F8F8F8\" height=\"10\" style=\"stroke: #F8F8F8; stroke-width: 1.5;\" width=\"50\" x=\"137\" y=\"104.4688\"/><rect fill=\"none\" height=\"40\" id=\"E6\" rx=\"10\" ry=\"10\" style=\"stroke: #383838; stroke-width: 1.5;\" width=\"50\" x=\"137\" y=\"90.5\"/><text fill=\"#000000\" font-family=\"sans-serif\" font-size=\"12\" lengthAdjust=\"spacingAndGlyphs\" textLength=\"22\" x=\"151\" y=\"106.6387\">x: A</text></a></g><!--MD5=[15ebcb19ae302d9b601edb458606d402]\n",
       "link E5 to E2--><a href=\"psysml:06c75c6a-903d-4e64-8c9a-141a01fc9647\" target=\"_top\" title=\"psysml:06c75c6a-903d-4e64-8c9a-141a01fc9647\" xlink:actuate=\"onRequest\" xlink:href=\"psysml:06c75c6a-903d-4e64-8c9a-141a01fc9647\" xlink:show=\"new\" xlink:title=\"psysml:06c75c6a-903d-4e64-8c9a-141a01fc9647\" xlink:type=\"simple\"><path d=\"M76.15,137.17 C74.9,148.4125 73.3475,162.3781 71.7172,177.0456 C70.902,184.3794 70.0674,191.8886 69.2414,199.3206 C69.035,201.1786 68.829,203.0318 68.624,204.8762 C68.5215,205.7984 68.4193,206.7184 68.3173,207.6358 C68.2664,208.0944 68.2155,208.5524 68.1647,209.0097 C68.1393,209.2383 68.1139,209.4668 68.0885,209.695 \" fill=\"none\" id=\"E5-&gt;E2\" style=\"stroke: #383838; stroke-width: 1.0; stroke-dasharray: 7.0,7.0;\"/><polygon fill=\"#383838\" points=\"68.0885,209.695,73.0581,201.1919,68.6408,204.7256,65.107,200.3083,68.0885,209.695\" style=\"stroke: #383838; stroke-width: 1.0;\"/><text fill=\"#000000\" font-family=\"sans-serif\" font-size=\"13\" lengthAdjust=\"spacingAndGlyphs\" textLength=\"65\" x=\"73\" y=\"182.0669\">«import»*</text></a><!--MD5=[a717450b82c80b9240a525fa862496af]\n",
       "link E6 to E3--><a href=\"psysml:2903afd1-9bf2-47a6-8d72-b5532180e7bb\" target=\"_top\" title=\"psysml:2903afd1-9bf2-47a6-8d72-b5532180e7bb\" xlink:actuate=\"onRequest\" xlink:href=\"psysml:2903afd1-9bf2-47a6-8d72-b5532180e7bb\" xlink:show=\"new\" xlink:title=\"psysml:2903afd1-9bf2-47a6-8d72-b5532180e7bb\" xlink:type=\"simple\"><path d=\"M158.68,130.72 C154.35,155.76 146.67,200.21 141.02,232.87 \" fill=\"none\" id=\"E6-&gt;E3\" style=\"stroke: #383838; stroke-width: 1.0;\"/><polygon fill=\"#FFFFFF\" points=\"137.58,252.77,133.925,232.8542,147.7196,235.2432,137.58,252.77\" style=\"stroke: #383838; stroke-width: 1.0;\"/><ellipse cx=\"136.8683\" cy=\"227.5791\" fill=\"#383838\" rx=\"2\" ry=\"2\" style=\"stroke: #383838; stroke-width: 1.0;\"/><ellipse cx=\"146.7217\" cy=\"229.2855\" fill=\"#383838\" rx=\"2\" ry=\"2\" style=\"stroke: #383838; stroke-width: 1.0;\"/></a><!--MD5=[6a12837a5ef0a42e71e2a8b40b20f7fb]\n",
       "@startuml\r\n",
       "skinparam ranksep 10\r\n",
       "skinparam rectangle {\r\n",
       " backgroundColor<<block>> LightGreen\r\n",
       "}\r\n",
       " skinparam monochrome true\r\n",
       "skinparam classbackgroundcolor white\r\n",
       "skinparam shadowing false\r\n",
       "skinparam wrapWidth 300\r\n",
       "hide circle\r\n",
       "\r\n",
       "package \"QualifiedNameImportTest\" as E1  [[psysml:50af7fae-c5e9-43d5-b973-e599fd0b94e5 ]]  {\r\n",
       "package \"P1\" as E2  [[psysml:1e9ed716-c57b-44aa-8aaa-ea3379eecc8d ]]  {\r\n",
       "rec def \"A\" as E3  <<(T,blue) part  def>> [[psysml:4266c5b7-3671-4acf-aa71-02dd8d212457 ]] {\r\n",
       "}\r\n",
       "}\r\n",
       "package \"P2\" as E4  [[psysml:04b1b2f0-8c96-40bb-b2e8-2bd575969190 ]]  {\r\n",
       "package \"P2a\" as E5  [[psysml:bb8eeef5-ab74-4ee9-8505-e654a7ee43f1 ]]  {\r\n",
       "}\r\n",
       "rec usage \"x: A\" as E6  [[psysml:d91f8c93-5cf2-41b6-a65a-d41673929b38 ]] {\r\n",
       "}\r\n",
       "}\r\n",
       "}\r\n",
       "E5 ..> E2 [[psysml:06c75c6a-903d-4e64-8c9a-141a01fc9647 ]] : <<import>>*\r\n",
       "E6 - -:|> E3 [[psysml:2903afd1-9bf2-47a6-8d72-b5532180e7bb ]] \r\n",
       "@enduml\r\n",
       "\n",
       "PlantUML version 1.2020.13(Sat Jun 13 12:26:38 UTC 2020)\n",
       "(EPL source distribution)\n",
       "Java Runtime: OpenJDK Runtime Environment\n",
       "JVM: OpenJDK 64-Bit Server VM\n",
       "Default Encoding: UTF-8\n",
       "Language: en\n",
       "Country: null\n",
       "--></g></svg>"
      ]
     },
     "execution_count": 5,
     "metadata": {},
     "output_type": "execute_result"
    }
   ],
   "source": [
    "%viz --style=\"COMPTREE\" --view=\"Interconnection\" \"QualifiedNameImportTest\""
   ]
  },
  {
   "cell_type": "code",
   "execution_count": 6,
   "id": "9cd26b44",
   "metadata": {
    "execution": {
     "iopub.execute_input": "2022-04-22T09:51:22.322000Z",
     "iopub.status.busy": "2022-04-22T09:51:22.321651Z",
     "iopub.status.idle": "2022-04-22T09:51:22.328548Z",
     "shell.execute_reply": "2022-04-22T09:51:22.328320Z"
    }
   },
   "outputs": [
    {
     "data": {
      "image/svg+xml": [
       "<?xml version=\"1.0\" encoding=\"UTF-8\" standalone=\"no\"?><svg xmlns=\"http://www.w3.org/2000/svg\" xmlns:xlink=\"http://www.w3.org/1999/xlink\" contentScriptType=\"application/ecmascript\" contentStyleType=\"text/css\" height=\"12px\" preserveAspectRatio=\"none\" style=\"width:12px;height:12px;\" version=\"1.1\" viewBox=\"0 0 12 12\" width=\"12px\" zoomAndPan=\"magnify\"><defs/><g><!--MD5=[655b888544ca4751ea36af1068543f84]\n",
       "@startuml\r\n",
       "skinparam ranksep 8\r\n",
       " skinparam monochrome true\r\n",
       "skinparam classbackgroundcolor white\r\n",
       "skinparam shadowing false\r\n",
       "skinparam wrapWidth 300\r\n",
       "hide circle\r\n",
       "\r\n",
       "@enduml\r\n",
       "\n",
       "PlantUML version 1.2020.13(Sat Jun 13 12:26:38 UTC 2020)\n",
       "(EPL source distribution)\n",
       "Java Runtime: OpenJDK Runtime Environment\n",
       "JVM: OpenJDK 64-Bit Server VM\n",
       "Default Encoding: UTF-8\n",
       "Language: en\n",
       "Country: null\n",
       "--></g></svg>"
      ]
     },
     "execution_count": 6,
     "metadata": {},
     "output_type": "execute_result"
    }
   ],
   "source": [
    "%viz --style=\"COMPTREE\" --view=\"Action\" \"QualifiedNameImportTest\""
   ]
  },
  {
   "cell_type": "code",
   "execution_count": 7,
   "id": "0726e9fa",
   "metadata": {
    "execution": {
     "iopub.execute_input": "2022-04-22T09:51:22.379991Z",
     "iopub.status.busy": "2022-04-22T09:51:22.379661Z",
     "iopub.status.idle": "2022-04-22T09:51:22.391300Z",
     "shell.execute_reply": "2022-04-22T09:51:22.391457Z"
    }
   },
   "outputs": [
    {
     "data": {
      "image/svg+xml": [
       "<?xml version=\"1.0\" encoding=\"UTF-8\" standalone=\"no\"?><svg xmlns=\"http://www.w3.org/2000/svg\" xmlns:xlink=\"http://www.w3.org/1999/xlink\" contentScriptType=\"application/ecmascript\" contentStyleType=\"text/css\" height=\"12px\" preserveAspectRatio=\"none\" style=\"width:12px;height:12px;\" version=\"1.1\" viewBox=\"0 0 12 12\" width=\"12px\" zoomAndPan=\"magnify\"><defs/><g><!--MD5=[803fc46c337be7a5c8a9831e35356779]\n",
       "@startuml\r\n",
       "skinparam roundcorner 20\r\n",
       "skinparam BoxPadding 20\r\n",
       "skinparam SequenceBoxBackgroundColor #white\r\n",
       "skinparam style strictuml\r\n",
       "skinparam maxMessageSize 100\r\n",
       " skinparam monochrome true\r\n",
       "skinparam classbackgroundcolor white\r\n",
       "skinparam shadowing false\r\n",
       "skinparam wrapWidth 300\r\n",
       "hide circle\r\n",
       "\r\n",
       "@enduml\r\n",
       "\n",
       "PlantUML version 1.2020.13(Sat Jun 13 12:26:38 UTC 2020)\n",
       "(EPL source distribution)\n",
       "Java Runtime: OpenJDK Runtime Environment\n",
       "JVM: OpenJDK 64-Bit Server VM\n",
       "Default Encoding: UTF-8\n",
       "Language: en\n",
       "Country: null\n",
       "--></g></svg>"
      ]
     },
     "execution_count": 7,
     "metadata": {},
     "output_type": "execute_result"
    }
   ],
   "source": [
    "%viz --style=\"COMPTREE\" --view=\"Sequence\" \"QualifiedNameImportTest\""
   ]
  },
  {
   "cell_type": "code",
   "execution_count": 8,
   "id": "dd5c7a89",
   "metadata": {
    "execution": {
     "iopub.execute_input": "2022-04-22T09:51:22.442438Z",
     "iopub.status.busy": "2022-04-22T09:51:22.442112Z",
     "iopub.status.idle": "2022-04-22T09:51:22.483493Z",
     "shell.execute_reply": "2022-04-22T09:51:22.483085Z"
    }
   },
   "outputs": [
    {
     "data": {
      "image/svg+xml": [
       "<?xml version=\"1.0\" encoding=\"UTF-8\" standalone=\"no\"?><svg xmlns=\"http://www.w3.org/2000/svg\" xmlns:xlink=\"http://www.w3.org/1999/xlink\" contentScriptType=\"application/ecmascript\" contentStyleType=\"text/css\" height=\"367px\" preserveAspectRatio=\"none\" style=\"width:243px;height:367px;\" version=\"1.1\" viewBox=\"0 0 243 367\" width=\"243px\" zoomAndPan=\"magnify\"><defs/><g><!--MD5=[fbc87193dbaf4d95561dea2c320d4a47]\n",
       "cluster E1--><a href=\"psysml:50af7fae-c5e9-43d5-b973-e599fd0b94e5\" target=\"_top\" title=\"psysml:50af7fae-c5e9-43d5-b973-e599fd0b94e5\" xlink:actuate=\"onRequest\" xlink:href=\"psysml:50af7fae-c5e9-43d5-b973-e599fd0b94e5\" xlink:show=\"new\" xlink:title=\"psysml:50af7fae-c5e9-43d5-b973-e599fd0b94e5\" xlink:type=\"simple\"><polygon fill=\"#FFFFFF\" points=\"16,6,196,6,203,28.2969,219,28.2969,219,355,16,355,16,6\" style=\"stroke: #000000; stroke-width: 1.5;\"/><line style=\"stroke: #000000; stroke-width: 1.5;\" x1=\"16\" x2=\"203\" y1=\"28.2969\" y2=\"28.2969\"/><text fill=\"#000000\" font-family=\"sans-serif\" font-size=\"14\" font-weight=\"bold\" lengthAdjust=\"spacingAndGlyphs\" textLength=\"174\" x=\"20\" y=\"20.9951\">QualifiedNameImportTest</text></a><!--MD5=[e4f7fae6ed58524ba242bb0b0d3be6b7]\n",
       "cluster E2--><a href=\"psysml:1e9ed716-c57b-44aa-8aaa-ea3379eecc8d\" target=\"_top\" title=\"psysml:1e9ed716-c57b-44aa-8aaa-ea3379eecc8d\" xlink:actuate=\"onRequest\" xlink:href=\"psysml:1e9ed716-c57b-44aa-8aaa-ea3379eecc8d\" xlink:show=\"new\" xlink:title=\"psysml:1e9ed716-c57b-44aa-8aaa-ea3379eecc8d\" xlink:type=\"simple\"><polygon fill=\"#FFFFFF\" points=\"48,210,72,210,79,232.2969,185,232.2969,185,323,48,323,48,210\" style=\"stroke: #000000; stroke-width: 1.5;\"/><line style=\"stroke: #000000; stroke-width: 1.5;\" x1=\"48\" x2=\"79\" y1=\"232.2969\" y2=\"232.2969\"/><text fill=\"#000000\" font-family=\"sans-serif\" font-size=\"14\" font-weight=\"bold\" lengthAdjust=\"spacingAndGlyphs\" textLength=\"18\" x=\"52\" y=\"224.9951\">P1</text></a><!--MD5=[f6df4d0ebaf0b5dfb2ced0ae5af7c670]\n",
       "cluster E4--><a href=\"psysml:04b1b2f0-8c96-40bb-b2e8-2bd575969190\" target=\"_top\" title=\"psysml:04b1b2f0-8c96-40bb-b2e8-2bd575969190\" xlink:actuate=\"onRequest\" xlink:href=\"psysml:04b1b2f0-8c96-40bb-b2e8-2bd575969190\" xlink:show=\"new\" xlink:title=\"psysml:04b1b2f0-8c96-40bb-b2e8-2bd575969190\" xlink:type=\"simple\"><polygon fill=\"#FFFFFF\" points=\"40,49,64,49,71,71.2969,195,71.2969,195,153,40,153,40,49\" style=\"stroke: #000000; stroke-width: 1.5;\"/><line style=\"stroke: #000000; stroke-width: 1.5;\" x1=\"40\" x2=\"71\" y1=\"71.2969\" y2=\"71.2969\"/><text fill=\"#000000\" font-family=\"sans-serif\" font-size=\"14\" font-weight=\"bold\" lengthAdjust=\"spacingAndGlyphs\" textLength=\"18\" x=\"44\" y=\"63.9951\">P2</text></a><!--MD5=[09b614a08d8cba4a07c9adeb5e0fee81]\n",
       "class E3--><a href=\"psysml:4266c5b7-3671-4acf-aa71-02dd8d212457\" target=\"_top\" title=\"psysml:4266c5b7-3671-4acf-aa71-02dd8d212457\" xlink:actuate=\"onRequest\" xlink:href=\"psysml:4266c5b7-3671-4acf-aa71-02dd8d212457\" xlink:show=\"new\" xlink:title=\"psysml:4266c5b7-3671-4acf-aa71-02dd8d212457\" xlink:type=\"simple\"><rect fill=\"#FFFFFF\" height=\"45.9375\" id=\"E3\" style=\"stroke: #383838; stroke-width: 1.5;\" width=\"70\" x=\"72\" y=\"253\"/><text fill=\"#000000\" font-family=\"sans-serif\" font-size=\"12\" font-style=\"italic\" lengthAdjust=\"spacingAndGlyphs\" textLength=\"68\" x=\"73\" y=\"269.1387\">«part  def»</text><text fill=\"#000000\" font-family=\"sans-serif\" font-size=\"12\" lengthAdjust=\"spacingAndGlyphs\" textLength=\"8\" x=\"103\" y=\"283.1074\">A</text><line style=\"stroke: #383838; stroke-width: 1.5;\" x1=\"73\" x2=\"141\" y1=\"290.9375\" y2=\"290.9375\"/></a><!--MD5=[60a26617385b1d2d0262a64233df1f8d]\n",
       "class E6--><a href=\"psysml:d91f8c93-5cf2-41b6-a65a-d41673929b38\" target=\"_top\" title=\"psysml:d91f8c93-5cf2-41b6-a65a-d41673929b38\" xlink:actuate=\"onRequest\" xlink:href=\"psysml:d91f8c93-5cf2-41b6-a65a-d41673929b38\" xlink:show=\"new\" xlink:title=\"psysml:d91f8c93-5cf2-41b6-a65a-d41673929b38\" xlink:type=\"simple\"><rect fill=\"#FFFFFF\" height=\"45.9375\" id=\"E6\" rx=\"10\" ry=\"10\" style=\"stroke: #383838; stroke-width: 1.5;\" width=\"42\" x=\"56\" y=\"87.5\"/><text fill=\"#000000\" font-family=\"sans-serif\" font-size=\"12\" font-style=\"italic\" lengthAdjust=\"spacingAndGlyphs\" textLength=\"40\" x=\"57\" y=\"103.6387\">«part»</text><text fill=\"#000000\" font-family=\"sans-serif\" font-size=\"12\" lengthAdjust=\"spacingAndGlyphs\" textLength=\"22\" x=\"64\" y=\"117.6074\">x: A</text><line style=\"stroke: #383838; stroke-width: 1.5;\" x1=\"57\" x2=\"97\" y1=\"125.4375\" y2=\"125.4375\"/></a><a href=\"psysml:bb8eeef5-ab74-4ee9-8505-e654a7ee43f1\" target=\"_top\" title=\"psysml:bb8eeef5-ab74-4ee9-8505-e654a7ee43f1\" xlink:actuate=\"onRequest\" xlink:href=\"psysml:bb8eeef5-ab74-4ee9-8505-e654a7ee43f1\" xlink:show=\"new\" xlink:title=\"psysml:bb8eeef5-ab74-4ee9-8505-e654a7ee43f1\" xlink:type=\"simple\"><polygon fill=\"#FFFFFF\" points=\"133,84,165,84,172,106.2969,179,106.2969,179,136.5938,133,136.5938,133,84\" style=\"stroke: #000000; stroke-width: 1.5;\"/><line style=\"stroke: #000000; stroke-width: 1.5;\" x1=\"133\" x2=\"172\" y1=\"106.2969\" y2=\"106.2969\"/><text fill=\"#000000\" font-family=\"sans-serif\" font-size=\"14\" font-weight=\"bold\" lengthAdjust=\"spacingAndGlyphs\" textLength=\"26\" x=\"137\" y=\"98.9951\">P2a</text></a><!--MD5=[15ebcb19ae302d9b601edb458606d402]\n",
       "link E5 to E2--><a href=\"psysml:06c75c6a-903d-4e64-8c9a-141a01fc9647\" target=\"_top\" title=\"psysml:06c75c6a-903d-4e64-8c9a-141a01fc9647\" xlink:actuate=\"onRequest\" xlink:href=\"psysml:06c75c6a-903d-4e64-8c9a-141a01fc9647\" xlink:show=\"new\" xlink:title=\"psysml:06c75c6a-903d-4e64-8c9a-141a01fc9647\" xlink:type=\"simple\"><path d=\"M159.28,137.05 C160.735,148.365 162.5469,162.4656 164.4519,177.2955 C165.4044,184.7104 166.3802,192.3076 167.3463,199.8301 C167.5878,201.7107 167.8287,203.5867 168.0685,205.4539 C168.1884,206.3876 168.308,207.319 168.4273,208.2478 C168.4869,208.7122 168.5465,209.1759 168.6059,209.6389 \" fill=\"none\" id=\"E5-&gt;E2\" style=\"stroke: #383838; stroke-width: 1.0; stroke-dasharray: 7.0,7.0;\"/><polygon fill=\"#383838\" points=\"168.6059,209.6389,171.427,200.2027,167.9691,204.6796,163.4922,201.2217,168.6059,209.6389\" style=\"stroke: #383838; stroke-width: 1.0;\"/><text fill=\"#000000\" font-family=\"sans-serif\" font-size=\"13\" lengthAdjust=\"spacingAndGlyphs\" textLength=\"65\" x=\"166\" y=\"182.0669\">«import»*</text></a><!--MD5=[a717450b82c80b9240a525fa862496af]\n",
       "link E6 to E3--><a href=\"psysml:2903afd1-9bf2-47a6-8d72-b5532180e7bb\" target=\"_top\" title=\"psysml:2903afd1-9bf2-47a6-8d72-b5532180e7bb\" xlink:actuate=\"onRequest\" xlink:href=\"psysml:2903afd1-9bf2-47a6-8d72-b5532180e7bb\" xlink:show=\"new\" xlink:title=\"psysml:2903afd1-9bf2-47a6-8d72-b5532180e7bb\" xlink:type=\"simple\"><path d=\"M81.05,133.55 C85.7,158.9 93.44,201.1 99.26,232.83 \" fill=\"none\" id=\"E6-&gt;E3\" style=\"stroke: #383838; stroke-width: 1.0;\"/><polygon fill=\"#FFFFFF\" points=\"102.92,252.78,92.6018,235.3578,106.3713,232.8278,102.92,252.78\" style=\"stroke: #383838; stroke-width: 1.0;\"/><ellipse cx=\"93.5388\" cy=\"229.3902\" fill=\"#383838\" rx=\"2\" ry=\"2\" style=\"stroke: #383838; stroke-width: 1.0;\"/><ellipse cx=\"103.3742\" cy=\"227.5831\" fill=\"#383838\" rx=\"2\" ry=\"2\" style=\"stroke: #383838; stroke-width: 1.0;\"/></a><!--MD5=[d467ec6a4f4b34cbff279adc129409e7]\n",
       "@startuml\r\n",
       " skinparam monochrome true\r\n",
       "skinparam classbackgroundcolor white\r\n",
       "skinparam shadowing false\r\n",
       "skinparam wrapWidth 300\r\n",
       "hide circle\r\n",
       "\r\n",
       "package \"QualifiedNameImportTest\" as E1  [[psysml:50af7fae-c5e9-43d5-b973-e599fd0b94e5 ]]  {\r\n",
       "package \"P1\" as E2  [[psysml:1e9ed716-c57b-44aa-8aaa-ea3379eecc8d ]]  {\r\n",
       "comp def \"A\" as E3  <<(T,blue) part  def>> [[psysml:4266c5b7-3671-4acf-aa71-02dd8d212457 ]] {\r\n",
       "}\r\n",
       "}\r\n",
       "package \"P2\" as E4  [[psysml:04b1b2f0-8c96-40bb-b2e8-2bd575969190 ]]  {\r\n",
       "package \"P2a\" as E5  [[psysml:bb8eeef5-ab74-4ee9-8505-e654a7ee43f1 ]]  {\r\n",
       "}\r\n",
       "comp usage \"x: A \" as E6  <<(T,blue) part>> [[psysml:d91f8c93-5cf2-41b6-a65a-d41673929b38 ]] {\r\n",
       "}\r\n",
       "}\r\n",
       "}\r\n",
       "E5 ..> E2 [[psysml:06c75c6a-903d-4e64-8c9a-141a01fc9647 ]] : <<import>>*\r\n",
       "E6 - -:|> E3 [[psysml:2903afd1-9bf2-47a6-8d72-b5532180e7bb ]] \r\n",
       "@enduml\r\n",
       "\n",
       "PlantUML version 1.2020.13(Sat Jun 13 12:26:38 UTC 2020)\n",
       "(EPL source distribution)\n",
       "Java Runtime: OpenJDK Runtime Environment\n",
       "JVM: OpenJDK 64-Bit Server VM\n",
       "Default Encoding: UTF-8\n",
       "Language: en\n",
       "Country: null\n",
       "--></g></svg>"
      ]
     },
     "execution_count": 8,
     "metadata": {},
     "output_type": "execute_result"
    }
   ],
   "source": [
    "%viz --style=\"COMPTREE\" --view=\"MIXED\" \"QualifiedNameImportTest\""
   ]
  },
  {
   "cell_type": "code",
   "execution_count": 9,
   "id": "9f756101",
   "metadata": {
    "execution": {
     "iopub.execute_input": "2022-04-22T09:51:22.533363Z",
     "iopub.status.busy": "2022-04-22T09:51:22.532855Z",
     "iopub.status.idle": "2022-04-22T09:51:22.575644Z",
     "shell.execute_reply": "2022-04-22T09:51:22.574166Z"
    }
   },
   "outputs": [
    {
     "data": {
      "image/svg+xml": [
       "<?xml version=\"1.0\" encoding=\"UTF-8\" standalone=\"no\"?><svg xmlns=\"http://www.w3.org/2000/svg\" xmlns:xlink=\"http://www.w3.org/1999/xlink\" contentScriptType=\"application/ecmascript\" contentStyleType=\"text/css\" height=\"367px\" preserveAspectRatio=\"none\" style=\"width:243px;height:367px;\" version=\"1.1\" viewBox=\"0 0 243 367\" width=\"243px\" zoomAndPan=\"magnify\"><defs/><g><!--MD5=[fbc87193dbaf4d95561dea2c320d4a47]\n",
       "cluster E1--><a href=\"psysml:50af7fae-c5e9-43d5-b973-e599fd0b94e5\" target=\"_top\" title=\"psysml:50af7fae-c5e9-43d5-b973-e599fd0b94e5\" xlink:actuate=\"onRequest\" xlink:href=\"psysml:50af7fae-c5e9-43d5-b973-e599fd0b94e5\" xlink:show=\"new\" xlink:title=\"psysml:50af7fae-c5e9-43d5-b973-e599fd0b94e5\" xlink:type=\"simple\"><polygon fill=\"#FFFFFF\" points=\"16,6,196,6,203,28.2969,219,28.2969,219,355,16,355,16,6\" style=\"stroke: #000000; stroke-width: 1.5;\"/><line style=\"stroke: #000000; stroke-width: 1.5;\" x1=\"16\" x2=\"203\" y1=\"28.2969\" y2=\"28.2969\"/><text fill=\"#000000\" font-family=\"sans-serif\" font-size=\"14\" font-weight=\"bold\" lengthAdjust=\"spacingAndGlyphs\" textLength=\"174\" x=\"20\" y=\"20.9951\">QualifiedNameImportTest</text></a><!--MD5=[e4f7fae6ed58524ba242bb0b0d3be6b7]\n",
       "cluster E2--><a href=\"psysml:1e9ed716-c57b-44aa-8aaa-ea3379eecc8d\" target=\"_top\" title=\"psysml:1e9ed716-c57b-44aa-8aaa-ea3379eecc8d\" xlink:actuate=\"onRequest\" xlink:href=\"psysml:1e9ed716-c57b-44aa-8aaa-ea3379eecc8d\" xlink:show=\"new\" xlink:title=\"psysml:1e9ed716-c57b-44aa-8aaa-ea3379eecc8d\" xlink:type=\"simple\"><polygon fill=\"#FFFFFF\" points=\"48,210,72,210,79,232.2969,185,232.2969,185,323,48,323,48,210\" style=\"stroke: #000000; stroke-width: 1.5;\"/><line style=\"stroke: #000000; stroke-width: 1.5;\" x1=\"48\" x2=\"79\" y1=\"232.2969\" y2=\"232.2969\"/><text fill=\"#000000\" font-family=\"sans-serif\" font-size=\"14\" font-weight=\"bold\" lengthAdjust=\"spacingAndGlyphs\" textLength=\"18\" x=\"52\" y=\"224.9951\">P1</text></a><!--MD5=[f6df4d0ebaf0b5dfb2ced0ae5af7c670]\n",
       "cluster E4--><a href=\"psysml:04b1b2f0-8c96-40bb-b2e8-2bd575969190\" target=\"_top\" title=\"psysml:04b1b2f0-8c96-40bb-b2e8-2bd575969190\" xlink:actuate=\"onRequest\" xlink:href=\"psysml:04b1b2f0-8c96-40bb-b2e8-2bd575969190\" xlink:show=\"new\" xlink:title=\"psysml:04b1b2f0-8c96-40bb-b2e8-2bd575969190\" xlink:type=\"simple\"><polygon fill=\"#FFFFFF\" points=\"40,49,64,49,71,71.2969,195,71.2969,195,153,40,153,40,49\" style=\"stroke: #000000; stroke-width: 1.5;\"/><line style=\"stroke: #000000; stroke-width: 1.5;\" x1=\"40\" x2=\"71\" y1=\"71.2969\" y2=\"71.2969\"/><text fill=\"#000000\" font-family=\"sans-serif\" font-size=\"14\" font-weight=\"bold\" lengthAdjust=\"spacingAndGlyphs\" textLength=\"18\" x=\"44\" y=\"63.9951\">P2</text></a><!--MD5=[09b614a08d8cba4a07c9adeb5e0fee81]\n",
       "class E3--><a href=\"psysml:4266c5b7-3671-4acf-aa71-02dd8d212457\" target=\"_top\" title=\"psysml:4266c5b7-3671-4acf-aa71-02dd8d212457\" xlink:actuate=\"onRequest\" xlink:href=\"psysml:4266c5b7-3671-4acf-aa71-02dd8d212457\" xlink:show=\"new\" xlink:title=\"psysml:4266c5b7-3671-4acf-aa71-02dd8d212457\" xlink:type=\"simple\"><rect fill=\"#FFFFFF\" height=\"45.9375\" id=\"E3\" style=\"stroke: #383838; stroke-width: 1.5;\" width=\"70\" x=\"72\" y=\"253\"/><text fill=\"#000000\" font-family=\"sans-serif\" font-size=\"12\" font-style=\"italic\" lengthAdjust=\"spacingAndGlyphs\" textLength=\"68\" x=\"73\" y=\"269.1387\">«part  def»</text><text fill=\"#000000\" font-family=\"sans-serif\" font-size=\"12\" lengthAdjust=\"spacingAndGlyphs\" textLength=\"8\" x=\"103\" y=\"283.1074\">A</text><line style=\"stroke: #383838; stroke-width: 1.5;\" x1=\"73\" x2=\"141\" y1=\"290.9375\" y2=\"290.9375\"/></a><!--MD5=[60a26617385b1d2d0262a64233df1f8d]\n",
       "class E6--><a href=\"psysml:d91f8c93-5cf2-41b6-a65a-d41673929b38\" target=\"_top\" title=\"psysml:d91f8c93-5cf2-41b6-a65a-d41673929b38\" xlink:actuate=\"onRequest\" xlink:href=\"psysml:d91f8c93-5cf2-41b6-a65a-d41673929b38\" xlink:show=\"new\" xlink:title=\"psysml:d91f8c93-5cf2-41b6-a65a-d41673929b38\" xlink:type=\"simple\"><rect fill=\"#FFFFFF\" height=\"45.9375\" id=\"E6\" rx=\"10\" ry=\"10\" style=\"stroke: #383838; stroke-width: 1.5;\" width=\"42\" x=\"56\" y=\"87.5\"/><text fill=\"#000000\" font-family=\"sans-serif\" font-size=\"12\" font-style=\"italic\" lengthAdjust=\"spacingAndGlyphs\" textLength=\"40\" x=\"57\" y=\"103.6387\">«part»</text><text fill=\"#000000\" font-family=\"sans-serif\" font-size=\"12\" lengthAdjust=\"spacingAndGlyphs\" textLength=\"22\" x=\"64\" y=\"117.6074\">x: A</text><line style=\"stroke: #383838; stroke-width: 1.5;\" x1=\"57\" x2=\"97\" y1=\"125.4375\" y2=\"125.4375\"/></a><a href=\"psysml:bb8eeef5-ab74-4ee9-8505-e654a7ee43f1\" target=\"_top\" title=\"psysml:bb8eeef5-ab74-4ee9-8505-e654a7ee43f1\" xlink:actuate=\"onRequest\" xlink:href=\"psysml:bb8eeef5-ab74-4ee9-8505-e654a7ee43f1\" xlink:show=\"new\" xlink:title=\"psysml:bb8eeef5-ab74-4ee9-8505-e654a7ee43f1\" xlink:type=\"simple\"><polygon fill=\"#FFFFFF\" points=\"133,84,165,84,172,106.2969,179,106.2969,179,136.5938,133,136.5938,133,84\" style=\"stroke: #000000; stroke-width: 1.5;\"/><line style=\"stroke: #000000; stroke-width: 1.5;\" x1=\"133\" x2=\"172\" y1=\"106.2969\" y2=\"106.2969\"/><text fill=\"#000000\" font-family=\"sans-serif\" font-size=\"14\" font-weight=\"bold\" lengthAdjust=\"spacingAndGlyphs\" textLength=\"26\" x=\"137\" y=\"98.9951\">P2a</text></a><!--MD5=[15ebcb19ae302d9b601edb458606d402]\n",
       "link E5 to E2--><a href=\"psysml:06c75c6a-903d-4e64-8c9a-141a01fc9647\" target=\"_top\" title=\"psysml:06c75c6a-903d-4e64-8c9a-141a01fc9647\" xlink:actuate=\"onRequest\" xlink:href=\"psysml:06c75c6a-903d-4e64-8c9a-141a01fc9647\" xlink:show=\"new\" xlink:title=\"psysml:06c75c6a-903d-4e64-8c9a-141a01fc9647\" xlink:type=\"simple\"><path d=\"M159.28,137.05 C160.735,148.365 162.5469,162.4656 164.4519,177.2955 C165.4044,184.7104 166.3802,192.3076 167.3463,199.8301 C167.5878,201.7107 167.8287,203.5867 168.0685,205.4539 C168.1884,206.3876 168.308,207.319 168.4273,208.2478 C168.4869,208.7122 168.5465,209.1759 168.6059,209.6389 \" fill=\"none\" id=\"E5-&gt;E2\" style=\"stroke: #383838; stroke-width: 1.0; stroke-dasharray: 7.0,7.0;\"/><polygon fill=\"#383838\" points=\"168.6059,209.6389,171.427,200.2027,167.9691,204.6796,163.4922,201.2217,168.6059,209.6389\" style=\"stroke: #383838; stroke-width: 1.0;\"/><text fill=\"#000000\" font-family=\"sans-serif\" font-size=\"13\" lengthAdjust=\"spacingAndGlyphs\" textLength=\"65\" x=\"166\" y=\"182.0669\">«import»*</text></a><!--MD5=[a717450b82c80b9240a525fa862496af]\n",
       "link E6 to E3--><a href=\"psysml:2903afd1-9bf2-47a6-8d72-b5532180e7bb\" target=\"_top\" title=\"psysml:2903afd1-9bf2-47a6-8d72-b5532180e7bb\" xlink:actuate=\"onRequest\" xlink:href=\"psysml:2903afd1-9bf2-47a6-8d72-b5532180e7bb\" xlink:show=\"new\" xlink:title=\"psysml:2903afd1-9bf2-47a6-8d72-b5532180e7bb\" xlink:type=\"simple\"><path d=\"M81.05,133.55 C85.7,158.9 93.44,201.1 99.26,232.83 \" fill=\"none\" id=\"E6-&gt;E3\" style=\"stroke: #383838; stroke-width: 1.0;\"/><polygon fill=\"#FFFFFF\" points=\"102.92,252.78,92.6018,235.3578,106.3713,232.8278,102.92,252.78\" style=\"stroke: #383838; stroke-width: 1.0;\"/><ellipse cx=\"93.5388\" cy=\"229.3902\" fill=\"#383838\" rx=\"2\" ry=\"2\" style=\"stroke: #383838; stroke-width: 1.0;\"/><ellipse cx=\"103.3742\" cy=\"227.5831\" fill=\"#383838\" rx=\"2\" ry=\"2\" style=\"stroke: #383838; stroke-width: 1.0;\"/></a><!--MD5=[fb51d32ae957cdb5860ed88240a8becf]\n",
       "@startuml\r\n",
       "skinparam linetype polyline\r\n",
       "skinparam monochrome true\r\n",
       "skinparam classbackgroundcolor white\r\n",
       "skinparam shadowing false\r\n",
       "skinparam wrapWidth 300\r\n",
       "hide circle\r\n",
       "\r\n",
       "package \"QualifiedNameImportTest\" as E1  [[psysml:50af7fae-c5e9-43d5-b973-e599fd0b94e5 ]]  {\r\n",
       "package \"P1\" as E2  [[psysml:1e9ed716-c57b-44aa-8aaa-ea3379eecc8d ]]  {\r\n",
       "comp def \"A\" as E3  <<(T,blue) part  def>> [[psysml:4266c5b7-3671-4acf-aa71-02dd8d212457 ]] {\r\n",
       "}\r\n",
       "}\r\n",
       "package \"P2\" as E4  [[psysml:04b1b2f0-8c96-40bb-b2e8-2bd575969190 ]]  {\r\n",
       "package \"P2a\" as E5  [[psysml:bb8eeef5-ab74-4ee9-8505-e654a7ee43f1 ]]  {\r\n",
       "}\r\n",
       "comp usage \"x: A \" as E6  <<(T,blue) part>> [[psysml:d91f8c93-5cf2-41b6-a65a-d41673929b38 ]] {\r\n",
       "}\r\n",
       "}\r\n",
       "}\r\n",
       "E5 ..> E2 [[psysml:06c75c6a-903d-4e64-8c9a-141a01fc9647 ]] : <<import>>*\r\n",
       "E6 - -:|> E3 [[psysml:2903afd1-9bf2-47a6-8d72-b5532180e7bb ]] \r\n",
       "@enduml\r\n",
       "\n",
       "PlantUML version 1.2020.13(Sat Jun 13 12:26:38 UTC 2020)\n",
       "(EPL source distribution)\n",
       "Java Runtime: OpenJDK Runtime Environment\n",
       "JVM: OpenJDK 64-Bit Server VM\n",
       "Default Encoding: UTF-8\n",
       "Language: en\n",
       "Country: null\n",
       "--></g></svg>"
      ]
     },
     "execution_count": 9,
     "metadata": {},
     "output_type": "execute_result"
    }
   ],
   "source": [
    "%viz --style=\"POLYLINE\" --view=\"Default\" \"QualifiedNameImportTest\""
   ]
  },
  {
   "cell_type": "code",
   "execution_count": 10,
   "id": "30408e63",
   "metadata": {
    "execution": {
     "iopub.execute_input": "2022-04-22T09:51:22.624029Z",
     "iopub.status.busy": "2022-04-22T09:51:22.623562Z",
     "iopub.status.idle": "2022-04-22T09:51:22.663121Z",
     "shell.execute_reply": "2022-04-22T09:51:22.662702Z"
    }
   },
   "outputs": [
    {
     "data": {
      "image/svg+xml": [
       "<?xml version=\"1.0\" encoding=\"UTF-8\" standalone=\"no\"?><svg xmlns=\"http://www.w3.org/2000/svg\" xmlns:xlink=\"http://www.w3.org/1999/xlink\" contentScriptType=\"application/ecmascript\" contentStyleType=\"text/css\" height=\"367px\" preserveAspectRatio=\"none\" style=\"width:243px;height:367px;\" version=\"1.1\" viewBox=\"0 0 243 367\" width=\"243px\" zoomAndPan=\"magnify\"><defs/><g><!--MD5=[fbc87193dbaf4d95561dea2c320d4a47]\n",
       "cluster E1--><a href=\"psysml:50af7fae-c5e9-43d5-b973-e599fd0b94e5\" target=\"_top\" title=\"psysml:50af7fae-c5e9-43d5-b973-e599fd0b94e5\" xlink:actuate=\"onRequest\" xlink:href=\"psysml:50af7fae-c5e9-43d5-b973-e599fd0b94e5\" xlink:show=\"new\" xlink:title=\"psysml:50af7fae-c5e9-43d5-b973-e599fd0b94e5\" xlink:type=\"simple\"><polygon fill=\"#FFFFFF\" points=\"16,6,196,6,203,28.2969,219,28.2969,219,355,16,355,16,6\" style=\"stroke: #000000; stroke-width: 1.5;\"/><line style=\"stroke: #000000; stroke-width: 1.5;\" x1=\"16\" x2=\"203\" y1=\"28.2969\" y2=\"28.2969\"/><text fill=\"#000000\" font-family=\"sans-serif\" font-size=\"14\" font-weight=\"bold\" lengthAdjust=\"spacingAndGlyphs\" textLength=\"174\" x=\"20\" y=\"20.9951\">QualifiedNameImportTest</text></a><!--MD5=[e4f7fae6ed58524ba242bb0b0d3be6b7]\n",
       "cluster E2--><a href=\"psysml:1e9ed716-c57b-44aa-8aaa-ea3379eecc8d\" target=\"_top\" title=\"psysml:1e9ed716-c57b-44aa-8aaa-ea3379eecc8d\" xlink:actuate=\"onRequest\" xlink:href=\"psysml:1e9ed716-c57b-44aa-8aaa-ea3379eecc8d\" xlink:show=\"new\" xlink:title=\"psysml:1e9ed716-c57b-44aa-8aaa-ea3379eecc8d\" xlink:type=\"simple\"><polygon fill=\"#FFFFFF\" points=\"48,210,72,210,79,232.2969,185,232.2969,185,323,48,323,48,210\" style=\"stroke: #000000; stroke-width: 1.5;\"/><line style=\"stroke: #000000; stroke-width: 1.5;\" x1=\"48\" x2=\"79\" y1=\"232.2969\" y2=\"232.2969\"/><text fill=\"#000000\" font-family=\"sans-serif\" font-size=\"14\" font-weight=\"bold\" lengthAdjust=\"spacingAndGlyphs\" textLength=\"18\" x=\"52\" y=\"224.9951\">P1</text></a><!--MD5=[f6df4d0ebaf0b5dfb2ced0ae5af7c670]\n",
       "cluster E4--><a href=\"psysml:04b1b2f0-8c96-40bb-b2e8-2bd575969190\" target=\"_top\" title=\"psysml:04b1b2f0-8c96-40bb-b2e8-2bd575969190\" xlink:actuate=\"onRequest\" xlink:href=\"psysml:04b1b2f0-8c96-40bb-b2e8-2bd575969190\" xlink:show=\"new\" xlink:title=\"psysml:04b1b2f0-8c96-40bb-b2e8-2bd575969190\" xlink:type=\"simple\"><polygon fill=\"#FFFFFF\" points=\"40,49,64,49,71,71.2969,195,71.2969,195,153,40,153,40,49\" style=\"stroke: #000000; stroke-width: 1.5;\"/><line style=\"stroke: #000000; stroke-width: 1.5;\" x1=\"40\" x2=\"71\" y1=\"71.2969\" y2=\"71.2969\"/><text fill=\"#000000\" font-family=\"sans-serif\" font-size=\"14\" font-weight=\"bold\" lengthAdjust=\"spacingAndGlyphs\" textLength=\"18\" x=\"44\" y=\"63.9951\">P2</text></a><!--MD5=[09b614a08d8cba4a07c9adeb5e0fee81]\n",
       "class E3--><a href=\"psysml:4266c5b7-3671-4acf-aa71-02dd8d212457\" target=\"_top\" title=\"psysml:4266c5b7-3671-4acf-aa71-02dd8d212457\" xlink:actuate=\"onRequest\" xlink:href=\"psysml:4266c5b7-3671-4acf-aa71-02dd8d212457\" xlink:show=\"new\" xlink:title=\"psysml:4266c5b7-3671-4acf-aa71-02dd8d212457\" xlink:type=\"simple\"><rect fill=\"#FFFFFF\" height=\"45.9375\" id=\"E3\" style=\"stroke: #383838; stroke-width: 1.5;\" width=\"70\" x=\"72\" y=\"253\"/><text fill=\"#000000\" font-family=\"sans-serif\" font-size=\"12\" font-style=\"italic\" lengthAdjust=\"spacingAndGlyphs\" textLength=\"68\" x=\"73\" y=\"269.1387\">«part  def»</text><text fill=\"#000000\" font-family=\"sans-serif\" font-size=\"12\" lengthAdjust=\"spacingAndGlyphs\" textLength=\"8\" x=\"103\" y=\"283.1074\">A</text><line style=\"stroke: #383838; stroke-width: 1.5;\" x1=\"73\" x2=\"141\" y1=\"290.9375\" y2=\"290.9375\"/></a><!--MD5=[60a26617385b1d2d0262a64233df1f8d]\n",
       "class E6--><a href=\"psysml:d91f8c93-5cf2-41b6-a65a-d41673929b38\" target=\"_top\" title=\"psysml:d91f8c93-5cf2-41b6-a65a-d41673929b38\" xlink:actuate=\"onRequest\" xlink:href=\"psysml:d91f8c93-5cf2-41b6-a65a-d41673929b38\" xlink:show=\"new\" xlink:title=\"psysml:d91f8c93-5cf2-41b6-a65a-d41673929b38\" xlink:type=\"simple\"><rect fill=\"#FFFFFF\" height=\"45.9375\" id=\"E6\" rx=\"10\" ry=\"10\" style=\"stroke: #383838; stroke-width: 1.5;\" width=\"42\" x=\"56\" y=\"87.5\"/><text fill=\"#000000\" font-family=\"sans-serif\" font-size=\"12\" font-style=\"italic\" lengthAdjust=\"spacingAndGlyphs\" textLength=\"40\" x=\"57\" y=\"103.6387\">«part»</text><text fill=\"#000000\" font-family=\"sans-serif\" font-size=\"12\" lengthAdjust=\"spacingAndGlyphs\" textLength=\"22\" x=\"64\" y=\"117.6074\">x: A</text><line style=\"stroke: #383838; stroke-width: 1.5;\" x1=\"57\" x2=\"97\" y1=\"125.4375\" y2=\"125.4375\"/></a><a href=\"psysml:bb8eeef5-ab74-4ee9-8505-e654a7ee43f1\" target=\"_top\" title=\"psysml:bb8eeef5-ab74-4ee9-8505-e654a7ee43f1\" xlink:actuate=\"onRequest\" xlink:href=\"psysml:bb8eeef5-ab74-4ee9-8505-e654a7ee43f1\" xlink:show=\"new\" xlink:title=\"psysml:bb8eeef5-ab74-4ee9-8505-e654a7ee43f1\" xlink:type=\"simple\"><polygon fill=\"#FFFFFF\" points=\"133,84,165,84,172,106.2969,179,106.2969,179,136.5938,133,136.5938,133,84\" style=\"stroke: #000000; stroke-width: 1.5;\"/><line style=\"stroke: #000000; stroke-width: 1.5;\" x1=\"133\" x2=\"172\" y1=\"106.2969\" y2=\"106.2969\"/><text fill=\"#000000\" font-family=\"sans-serif\" font-size=\"14\" font-weight=\"bold\" lengthAdjust=\"spacingAndGlyphs\" textLength=\"26\" x=\"137\" y=\"98.9951\">P2a</text></a><!--MD5=[15ebcb19ae302d9b601edb458606d402]\n",
       "link E5 to E2--><a href=\"psysml:06c75c6a-903d-4e64-8c9a-141a01fc9647\" target=\"_top\" title=\"psysml:06c75c6a-903d-4e64-8c9a-141a01fc9647\" xlink:actuate=\"onRequest\" xlink:href=\"psysml:06c75c6a-903d-4e64-8c9a-141a01fc9647\" xlink:show=\"new\" xlink:title=\"psysml:06c75c6a-903d-4e64-8c9a-141a01fc9647\" xlink:type=\"simple\"><path d=\"M159.28,137.05 C160.735,148.365 162.5469,162.4656 164.4519,177.2955 C165.4044,184.7104 166.3802,192.3076 167.3463,199.8301 C167.5878,201.7107 167.8287,203.5867 168.0685,205.4539 C168.1884,206.3876 168.308,207.319 168.4273,208.2478 C168.4869,208.7122 168.5465,209.1759 168.6059,209.6389 \" fill=\"none\" id=\"E5-&gt;E2\" style=\"stroke: #383838; stroke-width: 1.0; stroke-dasharray: 7.0,7.0;\"/><polygon fill=\"#383838\" points=\"168.6059,209.6389,171.427,200.2027,167.9691,204.6796,163.4922,201.2217,168.6059,209.6389\" style=\"stroke: #383838; stroke-width: 1.0;\"/><text fill=\"#000000\" font-family=\"sans-serif\" font-size=\"13\" lengthAdjust=\"spacingAndGlyphs\" textLength=\"65\" x=\"166\" y=\"182.0669\">«import»*</text></a><!--MD5=[a717450b82c80b9240a525fa862496af]\n",
       "link E6 to E3--><a href=\"psysml:2903afd1-9bf2-47a6-8d72-b5532180e7bb\" target=\"_top\" title=\"psysml:2903afd1-9bf2-47a6-8d72-b5532180e7bb\" xlink:actuate=\"onRequest\" xlink:href=\"psysml:2903afd1-9bf2-47a6-8d72-b5532180e7bb\" xlink:show=\"new\" xlink:title=\"psysml:2903afd1-9bf2-47a6-8d72-b5532180e7bb\" xlink:type=\"simple\"><path d=\"M81.05,133.55 C85.7,158.9 93.44,201.1 99.26,232.83 \" fill=\"none\" id=\"E6-&gt;E3\" style=\"stroke: #383838; stroke-width: 1.0;\"/><polygon fill=\"#FFFFFF\" points=\"102.92,252.78,92.6018,235.3578,106.3713,232.8278,102.92,252.78\" style=\"stroke: #383838; stroke-width: 1.0;\"/><ellipse cx=\"93.5388\" cy=\"229.3902\" fill=\"#383838\" rx=\"2\" ry=\"2\" style=\"stroke: #383838; stroke-width: 1.0;\"/><ellipse cx=\"103.3742\" cy=\"227.5831\" fill=\"#383838\" rx=\"2\" ry=\"2\" style=\"stroke: #383838; stroke-width: 1.0;\"/></a><!--MD5=[fb51d32ae957cdb5860ed88240a8becf]\n",
       "@startuml\r\n",
       "skinparam linetype polyline\r\n",
       "skinparam monochrome true\r\n",
       "skinparam classbackgroundcolor white\r\n",
       "skinparam shadowing false\r\n",
       "skinparam wrapWidth 300\r\n",
       "hide circle\r\n",
       "\r\n",
       "package \"QualifiedNameImportTest\" as E1  [[psysml:50af7fae-c5e9-43d5-b973-e599fd0b94e5 ]]  {\r\n",
       "package \"P1\" as E2  [[psysml:1e9ed716-c57b-44aa-8aaa-ea3379eecc8d ]]  {\r\n",
       "comp def \"A\" as E3  <<(T,blue) part  def>> [[psysml:4266c5b7-3671-4acf-aa71-02dd8d212457 ]] {\r\n",
       "}\r\n",
       "}\r\n",
       "package \"P2\" as E4  [[psysml:04b1b2f0-8c96-40bb-b2e8-2bd575969190 ]]  {\r\n",
       "package \"P2a\" as E5  [[psysml:bb8eeef5-ab74-4ee9-8505-e654a7ee43f1 ]]  {\r\n",
       "}\r\n",
       "comp usage \"x: A \" as E6  <<(T,blue) part>> [[psysml:d91f8c93-5cf2-41b6-a65a-d41673929b38 ]] {\r\n",
       "}\r\n",
       "}\r\n",
       "}\r\n",
       "E5 ..> E2 [[psysml:06c75c6a-903d-4e64-8c9a-141a01fc9647 ]] : <<import>>*\r\n",
       "E6 - -:|> E3 [[psysml:2903afd1-9bf2-47a6-8d72-b5532180e7bb ]] \r\n",
       "@enduml\r\n",
       "\n",
       "PlantUML version 1.2020.13(Sat Jun 13 12:26:38 UTC 2020)\n",
       "(EPL source distribution)\n",
       "Java Runtime: OpenJDK Runtime Environment\n",
       "JVM: OpenJDK 64-Bit Server VM\n",
       "Default Encoding: UTF-8\n",
       "Language: en\n",
       "Country: null\n",
       "--></g></svg>"
      ]
     },
     "execution_count": 10,
     "metadata": {},
     "output_type": "execute_result"
    }
   ],
   "source": [
    "%viz --style=\"POLYLINE\" --view=\"Tree\" \"QualifiedNameImportTest\""
   ]
  },
  {
   "cell_type": "code",
   "execution_count": 11,
   "id": "7e205175",
   "metadata": {
    "execution": {
     "iopub.execute_input": "2022-04-22T09:51:22.712781Z",
     "iopub.status.busy": "2022-04-22T09:51:22.712340Z",
     "iopub.status.idle": "2022-04-22T09:51:22.718570Z",
     "shell.execute_reply": "2022-04-22T09:51:22.718889Z"
    }
   },
   "outputs": [
    {
     "data": {
      "image/svg+xml": [
       "<?xml version=\"1.0\" encoding=\"UTF-8\" standalone=\"no\"?><svg xmlns=\"http://www.w3.org/2000/svg\" xmlns:xlink=\"http://www.w3.org/1999/xlink\" contentScriptType=\"application/ecmascript\" contentStyleType=\"text/css\" height=\"12px\" preserveAspectRatio=\"none\" style=\"width:12px;height:12px;\" version=\"1.1\" viewBox=\"0 0 12 12\" width=\"12px\" zoomAndPan=\"magnify\"><defs/><g><!--MD5=[896ac0e7a515d8dd7765a661cb4ee08b]\n",
       "@startuml\r\n",
       "skinparam linetype polyline\r\n",
       "skinparam monochrome true\r\n",
       "skinparam classbackgroundcolor white\r\n",
       "skinparam shadowing false\r\n",
       "skinparam wrapWidth 300\r\n",
       "hide circle\r\n",
       "\r\n",
       "@enduml\r\n",
       "\n",
       "PlantUML version 1.2020.13(Sat Jun 13 12:26:38 UTC 2020)\n",
       "(EPL source distribution)\n",
       "Java Runtime: OpenJDK Runtime Environment\n",
       "JVM: OpenJDK 64-Bit Server VM\n",
       "Default Encoding: UTF-8\n",
       "Language: en\n",
       "Country: null\n",
       "--></g></svg>"
      ]
     },
     "execution_count": 11,
     "metadata": {},
     "output_type": "execute_result"
    }
   ],
   "source": [
    "%viz --style=\"POLYLINE\" --view=\"State\" \"QualifiedNameImportTest\""
   ]
  },
  {
   "cell_type": "code",
   "execution_count": 12,
   "id": "e49754dc",
   "metadata": {
    "execution": {
     "iopub.execute_input": "2022-04-22T09:51:22.769144Z",
     "iopub.status.busy": "2022-04-22T09:51:22.768728Z",
     "iopub.status.idle": "2022-04-22T09:51:22.805192Z",
     "shell.execute_reply": "2022-04-22T09:51:22.804831Z"
    }
   },
   "outputs": [
    {
     "data": {
      "image/svg+xml": [
       "<?xml version=\"1.0\" encoding=\"UTF-8\" standalone=\"no\"?><svg xmlns=\"http://www.w3.org/2000/svg\" xmlns:xlink=\"http://www.w3.org/1999/xlink\" contentScriptType=\"application/ecmascript\" contentStyleType=\"text/css\" height=\"364px\" preserveAspectRatio=\"none\" style=\"width:249px;height:364px;\" version=\"1.1\" viewBox=\"0 0 249 364\" width=\"249px\" zoomAndPan=\"magnify\"><defs/><g><!--MD5=[fbc87193dbaf4d95561dea2c320d4a47]\n",
       "cluster E1--><a href=\"psysml:50af7fae-c5e9-43d5-b973-e599fd0b94e5\" target=\"_top\" title=\"psysml:50af7fae-c5e9-43d5-b973-e599fd0b94e5\" xlink:actuate=\"onRequest\" xlink:href=\"psysml:50af7fae-c5e9-43d5-b973-e599fd0b94e5\" xlink:show=\"new\" xlink:title=\"psysml:50af7fae-c5e9-43d5-b973-e599fd0b94e5\" xlink:type=\"simple\"><polygon fill=\"#FFFFFF\" points=\"16,6,196,6,203,28.2969,227,28.2969,227,352,16,352,16,6\" style=\"stroke: #000000; stroke-width: 1.5;\"/><line style=\"stroke: #000000; stroke-width: 1.5;\" x1=\"16\" x2=\"203\" y1=\"28.2969\" y2=\"28.2969\"/><text fill=\"#000000\" font-family=\"sans-serif\" font-size=\"14\" font-weight=\"bold\" lengthAdjust=\"spacingAndGlyphs\" textLength=\"174\" x=\"20\" y=\"20.9951\">QualifiedNameImportTest</text></a><!--MD5=[e4f7fae6ed58524ba242bb0b0d3be6b7]\n",
       "cluster E2--><a href=\"psysml:1e9ed716-c57b-44aa-8aaa-ea3379eecc8d\" target=\"_top\" title=\"psysml:1e9ed716-c57b-44aa-8aaa-ea3379eecc8d\" xlink:actuate=\"onRequest\" xlink:href=\"psysml:1e9ed716-c57b-44aa-8aaa-ea3379eecc8d\" xlink:show=\"new\" xlink:title=\"psysml:1e9ed716-c57b-44aa-8aaa-ea3379eecc8d\" xlink:type=\"simple\"><polygon fill=\"#FFFFFF\" points=\"53,210,77,210,84,232.2969,195,232.2969,195,320,53,320,53,210\" style=\"stroke: #000000; stroke-width: 1.5;\"/><line style=\"stroke: #000000; stroke-width: 1.5;\" x1=\"53\" x2=\"84\" y1=\"232.2969\" y2=\"232.2969\"/><text fill=\"#000000\" font-family=\"sans-serif\" font-size=\"14\" font-weight=\"bold\" lengthAdjust=\"spacingAndGlyphs\" textLength=\"18\" x=\"57\" y=\"224.9951\">P1</text></a><!--MD5=[f6df4d0ebaf0b5dfb2ced0ae5af7c670]\n",
       "cluster E4--><a href=\"psysml:04b1b2f0-8c96-40bb-b2e8-2bd575969190\" target=\"_top\" title=\"psysml:04b1b2f0-8c96-40bb-b2e8-2bd575969190\" xlink:actuate=\"onRequest\" xlink:href=\"psysml:04b1b2f0-8c96-40bb-b2e8-2bd575969190\" xlink:show=\"new\" xlink:title=\"psysml:04b1b2f0-8c96-40bb-b2e8-2bd575969190\" xlink:type=\"simple\"><polygon fill=\"#FFFFFF\" points=\"40,49,64,49,71,71.2969,203,71.2969,203,153,40,153,40,49\" style=\"stroke: #000000; stroke-width: 1.5;\"/><line style=\"stroke: #000000; stroke-width: 1.5;\" x1=\"40\" x2=\"71\" y1=\"71.2969\" y2=\"71.2969\"/><text fill=\"#000000\" font-family=\"sans-serif\" font-size=\"14\" font-weight=\"bold\" lengthAdjust=\"spacingAndGlyphs\" textLength=\"18\" x=\"44\" y=\"63.9951\">P2</text></a><g id=\"E1.E2.E3\"><a href=\"psysml:4266c5b7-3671-4acf-aa71-02dd8d212457\" target=\"_top\" title=\"psysml:4266c5b7-3671-4acf-aa71-02dd8d212457\" xlink:actuate=\"onRequest\" xlink:href=\"psysml:4266c5b7-3671-4acf-aa71-02dd8d212457\" xlink:show=\"new\" xlink:title=\"psysml:4266c5b7-3671-4acf-aa71-02dd8d212457\" xlink:type=\"simple\"><rect fill=\"#FFFFFF\" height=\"42.9375\" id=\"E3\" style=\"stroke: #383838; stroke-width: 1.5;\" width=\"75\" x=\"96.5\" y=\"253\"/><rect fill=\"#F8F8F8\" height=\"37.9375\" style=\"stroke: #383838; stroke-width: 1.5;\" width=\"75\" x=\"96.5\" y=\"253\"/><text fill=\"#000000\" font-family=\"sans-serif\" font-size=\"12\" font-style=\"italic\" lengthAdjust=\"spacingAndGlyphs\" textLength=\"68\" x=\"100\" y=\"269.1387\">«part  def»</text><text fill=\"#000000\" font-family=\"sans-serif\" font-size=\"12\" lengthAdjust=\"spacingAndGlyphs\" textLength=\"8\" x=\"130\" y=\"283.1074\">A</text></a></g><a href=\"psysml:bb8eeef5-ab74-4ee9-8505-e654a7ee43f1\" target=\"_top\" title=\"psysml:bb8eeef5-ab74-4ee9-8505-e654a7ee43f1\" xlink:actuate=\"onRequest\" xlink:href=\"psysml:bb8eeef5-ab74-4ee9-8505-e654a7ee43f1\" xlink:show=\"new\" xlink:title=\"psysml:bb8eeef5-ab74-4ee9-8505-e654a7ee43f1\" xlink:type=\"simple\"><polygon fill=\"#FFFFFF\" points=\"56,84,88,84,95,106.2969,102,106.2969,102,136.5938,56,136.5938,56,84\" style=\"stroke: #000000; stroke-width: 1.5;\"/><line style=\"stroke: #000000; stroke-width: 1.5;\" x1=\"56\" x2=\"95\" y1=\"106.2969\" y2=\"106.2969\"/><text fill=\"#000000\" font-family=\"sans-serif\" font-size=\"14\" font-weight=\"bold\" lengthAdjust=\"spacingAndGlyphs\" textLength=\"26\" x=\"60\" y=\"98.9951\">P2a</text></a><g id=\"E1.E4.E6\"><a href=\"psysml:d91f8c93-5cf2-41b6-a65a-d41673929b38\" target=\"_top\" title=\"psysml:d91f8c93-5cf2-41b6-a65a-d41673929b38\" xlink:actuate=\"onRequest\" xlink:href=\"psysml:d91f8c93-5cf2-41b6-a65a-d41673929b38\" xlink:show=\"new\" xlink:title=\"psysml:d91f8c93-5cf2-41b6-a65a-d41673929b38\" xlink:type=\"simple\"><rect fill=\"#FFFFFF\" height=\"40\" id=\"E6\" rx=\"10\" ry=\"10\" style=\"stroke: #383838; stroke-width: 1.5;\" width=\"50\" x=\"137\" y=\"90.5\"/><rect fill=\"#F8F8F8\" height=\"23.9688\" rx=\"10\" ry=\"10\" style=\"stroke: #F8F8F8; stroke-width: 1.5;\" width=\"50\" x=\"137\" y=\"90.5\"/><rect fill=\"#F8F8F8\" height=\"10\" style=\"stroke: #F8F8F8; stroke-width: 1.5;\" width=\"50\" x=\"137\" y=\"104.4688\"/><rect fill=\"none\" height=\"40\" id=\"E6\" rx=\"10\" ry=\"10\" style=\"stroke: #383838; stroke-width: 1.5;\" width=\"50\" x=\"137\" y=\"90.5\"/><text fill=\"#000000\" font-family=\"sans-serif\" font-size=\"12\" lengthAdjust=\"spacingAndGlyphs\" textLength=\"22\" x=\"151\" y=\"106.6387\">x: A</text></a></g><!--MD5=[15ebcb19ae302d9b601edb458606d402]\n",
       "link E5 to E2--><a href=\"psysml:06c75c6a-903d-4e64-8c9a-141a01fc9647\" target=\"_top\" title=\"psysml:06c75c6a-903d-4e64-8c9a-141a01fc9647\" xlink:actuate=\"onRequest\" xlink:href=\"psysml:06c75c6a-903d-4e64-8c9a-141a01fc9647\" xlink:show=\"new\" xlink:title=\"psysml:06c75c6a-903d-4e64-8c9a-141a01fc9647\" xlink:type=\"simple\"><path d=\"M76.15,137.17 C74.9,148.4125 73.3475,162.3781 71.7172,177.0456 C70.902,184.3794 70.0674,191.8886 69.2414,199.3206 C69.035,201.1786 68.829,203.0318 68.624,204.8762 C68.5215,205.7984 68.4193,206.7184 68.3173,207.6358 C68.2664,208.0944 68.2155,208.5524 68.1647,209.0097 C68.1393,209.2383 68.1139,209.4668 68.0885,209.695 \" fill=\"none\" id=\"E5-&gt;E2\" style=\"stroke: #383838; stroke-width: 1.0; stroke-dasharray: 7.0,7.0;\"/><polygon fill=\"#383838\" points=\"68.0885,209.695,73.0581,201.1919,68.6408,204.7256,65.107,200.3083,68.0885,209.695\" style=\"stroke: #383838; stroke-width: 1.0;\"/><text fill=\"#000000\" font-family=\"sans-serif\" font-size=\"13\" lengthAdjust=\"spacingAndGlyphs\" textLength=\"65\" x=\"73\" y=\"182.0669\">«import»*</text></a><!--MD5=[a717450b82c80b9240a525fa862496af]\n",
       "link E6 to E3--><a href=\"psysml:2903afd1-9bf2-47a6-8d72-b5532180e7bb\" target=\"_top\" title=\"psysml:2903afd1-9bf2-47a6-8d72-b5532180e7bb\" xlink:actuate=\"onRequest\" xlink:href=\"psysml:2903afd1-9bf2-47a6-8d72-b5532180e7bb\" xlink:show=\"new\" xlink:title=\"psysml:2903afd1-9bf2-47a6-8d72-b5532180e7bb\" xlink:type=\"simple\"><path d=\"M158.68,130.72 C154.35,155.76 146.67,200.21 141.02,232.87 \" fill=\"none\" id=\"E6-&gt;E3\" style=\"stroke: #383838; stroke-width: 1.0;\"/><polygon fill=\"#FFFFFF\" points=\"137.58,252.77,133.925,232.8542,147.7196,235.2432,137.58,252.77\" style=\"stroke: #383838; stroke-width: 1.0;\"/><ellipse cx=\"136.8683\" cy=\"227.5791\" fill=\"#383838\" rx=\"2\" ry=\"2\" style=\"stroke: #383838; stroke-width: 1.0;\"/><ellipse cx=\"146.7217\" cy=\"229.2855\" fill=\"#383838\" rx=\"2\" ry=\"2\" style=\"stroke: #383838; stroke-width: 1.0;\"/></a><!--MD5=[1ef8ad9aaabe67cf2eb8e9ecb2cf098d]\n",
       "@startuml\r\n",
       "skinparam ranksep 10\r\n",
       "skinparam rectangle {\r\n",
       " backgroundColor<<block>> LightGreen\r\n",
       "}\r\n",
       "skinparam linetype polyline\r\n",
       "skinparam monochrome true\r\n",
       "skinparam classbackgroundcolor white\r\n",
       "skinparam shadowing false\r\n",
       "skinparam wrapWidth 300\r\n",
       "hide circle\r\n",
       "\r\n",
       "package \"QualifiedNameImportTest\" as E1  [[psysml:50af7fae-c5e9-43d5-b973-e599fd0b94e5 ]]  {\r\n",
       "package \"P1\" as E2  [[psysml:1e9ed716-c57b-44aa-8aaa-ea3379eecc8d ]]  {\r\n",
       "rec def \"A\" as E3  <<(T,blue) part  def>> [[psysml:4266c5b7-3671-4acf-aa71-02dd8d212457 ]] {\r\n",
       "}\r\n",
       "}\r\n",
       "package \"P2\" as E4  [[psysml:04b1b2f0-8c96-40bb-b2e8-2bd575969190 ]]  {\r\n",
       "package \"P2a\" as E5  [[psysml:bb8eeef5-ab74-4ee9-8505-e654a7ee43f1 ]]  {\r\n",
       "}\r\n",
       "rec usage \"x: A\" as E6  [[psysml:d91f8c93-5cf2-41b6-a65a-d41673929b38 ]] {\r\n",
       "}\r\n",
       "}\r\n",
       "}\r\n",
       "E5 ..> E2 [[psysml:06c75c6a-903d-4e64-8c9a-141a01fc9647 ]] : <<import>>*\r\n",
       "E6 - -:|> E3 [[psysml:2903afd1-9bf2-47a6-8d72-b5532180e7bb ]] \r\n",
       "@enduml\r\n",
       "\n",
       "PlantUML version 1.2020.13(Sat Jun 13 12:26:38 UTC 2020)\n",
       "(EPL source distribution)\n",
       "Java Runtime: OpenJDK Runtime Environment\n",
       "JVM: OpenJDK 64-Bit Server VM\n",
       "Default Encoding: UTF-8\n",
       "Language: en\n",
       "Country: null\n",
       "--></g></svg>"
      ]
     },
     "execution_count": 12,
     "metadata": {},
     "output_type": "execute_result"
    }
   ],
   "source": [
    "%viz --style=\"POLYLINE\" --view=\"Interconnection\" \"QualifiedNameImportTest\""
   ]
  },
  {
   "cell_type": "code",
   "execution_count": 13,
   "id": "01c59fb6",
   "metadata": {
    "execution": {
     "iopub.execute_input": "2022-04-22T09:51:22.855171Z",
     "iopub.status.busy": "2022-04-22T09:51:22.854759Z",
     "iopub.status.idle": "2022-04-22T09:51:22.860761Z",
     "shell.execute_reply": "2022-04-22T09:51:22.861128Z"
    }
   },
   "outputs": [
    {
     "data": {
      "image/svg+xml": [
       "<?xml version=\"1.0\" encoding=\"UTF-8\" standalone=\"no\"?><svg xmlns=\"http://www.w3.org/2000/svg\" xmlns:xlink=\"http://www.w3.org/1999/xlink\" contentScriptType=\"application/ecmascript\" contentStyleType=\"text/css\" height=\"12px\" preserveAspectRatio=\"none\" style=\"width:12px;height:12px;\" version=\"1.1\" viewBox=\"0 0 12 12\" width=\"12px\" zoomAndPan=\"magnify\"><defs/><g><!--MD5=[97bbf32f66ccd50cbc40d92ea8f5a65e]\n",
       "@startuml\r\n",
       "skinparam ranksep 8\r\n",
       "skinparam linetype polyline\r\n",
       "skinparam monochrome true\r\n",
       "skinparam classbackgroundcolor white\r\n",
       "skinparam shadowing false\r\n",
       "skinparam wrapWidth 300\r\n",
       "hide circle\r\n",
       "\r\n",
       "@enduml\r\n",
       "\n",
       "PlantUML version 1.2020.13(Sat Jun 13 12:26:38 UTC 2020)\n",
       "(EPL source distribution)\n",
       "Java Runtime: OpenJDK Runtime Environment\n",
       "JVM: OpenJDK 64-Bit Server VM\n",
       "Default Encoding: UTF-8\n",
       "Language: en\n",
       "Country: null\n",
       "--></g></svg>"
      ]
     },
     "execution_count": 13,
     "metadata": {},
     "output_type": "execute_result"
    }
   ],
   "source": [
    "%viz --style=\"POLYLINE\" --view=\"Action\" \"QualifiedNameImportTest\""
   ]
  },
  {
   "cell_type": "code",
   "execution_count": 14,
   "id": "6a5c57b6",
   "metadata": {
    "execution": {
     "iopub.execute_input": "2022-04-22T09:51:22.911412Z",
     "iopub.status.busy": "2022-04-22T09:51:22.910905Z",
     "iopub.status.idle": "2022-04-22T09:51:22.916771Z",
     "shell.execute_reply": "2022-04-22T09:51:22.917093Z"
    }
   },
   "outputs": [
    {
     "data": {
      "image/svg+xml": [
       "<?xml version=\"1.0\" encoding=\"UTF-8\" standalone=\"no\"?><svg xmlns=\"http://www.w3.org/2000/svg\" xmlns:xlink=\"http://www.w3.org/1999/xlink\" contentScriptType=\"application/ecmascript\" contentStyleType=\"text/css\" height=\"12px\" preserveAspectRatio=\"none\" style=\"width:12px;height:12px;\" version=\"1.1\" viewBox=\"0 0 12 12\" width=\"12px\" zoomAndPan=\"magnify\"><defs/><g><!--MD5=[dc938048236c351797870c36b62f92ad]\n",
       "@startuml\r\n",
       "skinparam roundcorner 20\r\n",
       "skinparam BoxPadding 20\r\n",
       "skinparam SequenceBoxBackgroundColor #white\r\n",
       "skinparam style strictuml\r\n",
       "skinparam maxMessageSize 100\r\n",
       "skinparam linetype polyline\r\n",
       "skinparam monochrome true\r\n",
       "skinparam classbackgroundcolor white\r\n",
       "skinparam shadowing false\r\n",
       "skinparam wrapWidth 300\r\n",
       "hide circle\r\n",
       "\r\n",
       "@enduml\r\n",
       "\n",
       "PlantUML version 1.2020.13(Sat Jun 13 12:26:38 UTC 2020)\n",
       "(EPL source distribution)\n",
       "Java Runtime: OpenJDK Runtime Environment\n",
       "JVM: OpenJDK 64-Bit Server VM\n",
       "Default Encoding: UTF-8\n",
       "Language: en\n",
       "Country: null\n",
       "--></g></svg>"
      ]
     },
     "execution_count": 14,
     "metadata": {},
     "output_type": "execute_result"
    }
   ],
   "source": [
    "%viz --style=\"POLYLINE\" --view=\"Sequence\" \"QualifiedNameImportTest\""
   ]
  },
  {
   "cell_type": "code",
   "execution_count": 15,
   "id": "2bdea38c",
   "metadata": {
    "execution": {
     "iopub.execute_input": "2022-04-22T09:51:22.967524Z",
     "iopub.status.busy": "2022-04-22T09:51:22.967091Z",
     "iopub.status.idle": "2022-04-22T09:51:23.003237Z",
     "shell.execute_reply": "2022-04-22T09:51:23.002937Z"
    }
   },
   "outputs": [
    {
     "data": {
      "image/svg+xml": [
       "<?xml version=\"1.0\" encoding=\"UTF-8\" standalone=\"no\"?><svg xmlns=\"http://www.w3.org/2000/svg\" xmlns:xlink=\"http://www.w3.org/1999/xlink\" contentScriptType=\"application/ecmascript\" contentStyleType=\"text/css\" height=\"367px\" preserveAspectRatio=\"none\" style=\"width:243px;height:367px;\" version=\"1.1\" viewBox=\"0 0 243 367\" width=\"243px\" zoomAndPan=\"magnify\"><defs/><g><!--MD5=[fbc87193dbaf4d95561dea2c320d4a47]\n",
       "cluster E1--><a href=\"psysml:50af7fae-c5e9-43d5-b973-e599fd0b94e5\" target=\"_top\" title=\"psysml:50af7fae-c5e9-43d5-b973-e599fd0b94e5\" xlink:actuate=\"onRequest\" xlink:href=\"psysml:50af7fae-c5e9-43d5-b973-e599fd0b94e5\" xlink:show=\"new\" xlink:title=\"psysml:50af7fae-c5e9-43d5-b973-e599fd0b94e5\" xlink:type=\"simple\"><polygon fill=\"#FFFFFF\" points=\"16,6,196,6,203,28.2969,219,28.2969,219,355,16,355,16,6\" style=\"stroke: #000000; stroke-width: 1.5;\"/><line style=\"stroke: #000000; stroke-width: 1.5;\" x1=\"16\" x2=\"203\" y1=\"28.2969\" y2=\"28.2969\"/><text fill=\"#000000\" font-family=\"sans-serif\" font-size=\"14\" font-weight=\"bold\" lengthAdjust=\"spacingAndGlyphs\" textLength=\"174\" x=\"20\" y=\"20.9951\">QualifiedNameImportTest</text></a><!--MD5=[e4f7fae6ed58524ba242bb0b0d3be6b7]\n",
       "cluster E2--><a href=\"psysml:1e9ed716-c57b-44aa-8aaa-ea3379eecc8d\" target=\"_top\" title=\"psysml:1e9ed716-c57b-44aa-8aaa-ea3379eecc8d\" xlink:actuate=\"onRequest\" xlink:href=\"psysml:1e9ed716-c57b-44aa-8aaa-ea3379eecc8d\" xlink:show=\"new\" xlink:title=\"psysml:1e9ed716-c57b-44aa-8aaa-ea3379eecc8d\" xlink:type=\"simple\"><polygon fill=\"#FFFFFF\" points=\"48,210,72,210,79,232.2969,185,232.2969,185,323,48,323,48,210\" style=\"stroke: #000000; stroke-width: 1.5;\"/><line style=\"stroke: #000000; stroke-width: 1.5;\" x1=\"48\" x2=\"79\" y1=\"232.2969\" y2=\"232.2969\"/><text fill=\"#000000\" font-family=\"sans-serif\" font-size=\"14\" font-weight=\"bold\" lengthAdjust=\"spacingAndGlyphs\" textLength=\"18\" x=\"52\" y=\"224.9951\">P1</text></a><!--MD5=[f6df4d0ebaf0b5dfb2ced0ae5af7c670]\n",
       "cluster E4--><a href=\"psysml:04b1b2f0-8c96-40bb-b2e8-2bd575969190\" target=\"_top\" title=\"psysml:04b1b2f0-8c96-40bb-b2e8-2bd575969190\" xlink:actuate=\"onRequest\" xlink:href=\"psysml:04b1b2f0-8c96-40bb-b2e8-2bd575969190\" xlink:show=\"new\" xlink:title=\"psysml:04b1b2f0-8c96-40bb-b2e8-2bd575969190\" xlink:type=\"simple\"><polygon fill=\"#FFFFFF\" points=\"40,49,64,49,71,71.2969,195,71.2969,195,153,40,153,40,49\" style=\"stroke: #000000; stroke-width: 1.5;\"/><line style=\"stroke: #000000; stroke-width: 1.5;\" x1=\"40\" x2=\"71\" y1=\"71.2969\" y2=\"71.2969\"/><text fill=\"#000000\" font-family=\"sans-serif\" font-size=\"14\" font-weight=\"bold\" lengthAdjust=\"spacingAndGlyphs\" textLength=\"18\" x=\"44\" y=\"63.9951\">P2</text></a><!--MD5=[09b614a08d8cba4a07c9adeb5e0fee81]\n",
       "class E3--><a href=\"psysml:4266c5b7-3671-4acf-aa71-02dd8d212457\" target=\"_top\" title=\"psysml:4266c5b7-3671-4acf-aa71-02dd8d212457\" xlink:actuate=\"onRequest\" xlink:href=\"psysml:4266c5b7-3671-4acf-aa71-02dd8d212457\" xlink:show=\"new\" xlink:title=\"psysml:4266c5b7-3671-4acf-aa71-02dd8d212457\" xlink:type=\"simple\"><rect fill=\"#FFFFFF\" height=\"45.9375\" id=\"E3\" style=\"stroke: #383838; stroke-width: 1.5;\" width=\"70\" x=\"72\" y=\"253\"/><text fill=\"#000000\" font-family=\"sans-serif\" font-size=\"12\" font-style=\"italic\" lengthAdjust=\"spacingAndGlyphs\" textLength=\"68\" x=\"73\" y=\"269.1387\">«part  def»</text><text fill=\"#000000\" font-family=\"sans-serif\" font-size=\"12\" lengthAdjust=\"spacingAndGlyphs\" textLength=\"8\" x=\"103\" y=\"283.1074\">A</text><line style=\"stroke: #383838; stroke-width: 1.5;\" x1=\"73\" x2=\"141\" y1=\"290.9375\" y2=\"290.9375\"/></a><!--MD5=[60a26617385b1d2d0262a64233df1f8d]\n",
       "class E6--><a href=\"psysml:d91f8c93-5cf2-41b6-a65a-d41673929b38\" target=\"_top\" title=\"psysml:d91f8c93-5cf2-41b6-a65a-d41673929b38\" xlink:actuate=\"onRequest\" xlink:href=\"psysml:d91f8c93-5cf2-41b6-a65a-d41673929b38\" xlink:show=\"new\" xlink:title=\"psysml:d91f8c93-5cf2-41b6-a65a-d41673929b38\" xlink:type=\"simple\"><rect fill=\"#FFFFFF\" height=\"45.9375\" id=\"E6\" rx=\"10\" ry=\"10\" style=\"stroke: #383838; stroke-width: 1.5;\" width=\"42\" x=\"56\" y=\"87.5\"/><text fill=\"#000000\" font-family=\"sans-serif\" font-size=\"12\" font-style=\"italic\" lengthAdjust=\"spacingAndGlyphs\" textLength=\"40\" x=\"57\" y=\"103.6387\">«part»</text><text fill=\"#000000\" font-family=\"sans-serif\" font-size=\"12\" lengthAdjust=\"spacingAndGlyphs\" textLength=\"22\" x=\"64\" y=\"117.6074\">x: A</text><line style=\"stroke: #383838; stroke-width: 1.5;\" x1=\"57\" x2=\"97\" y1=\"125.4375\" y2=\"125.4375\"/></a><a href=\"psysml:bb8eeef5-ab74-4ee9-8505-e654a7ee43f1\" target=\"_top\" title=\"psysml:bb8eeef5-ab74-4ee9-8505-e654a7ee43f1\" xlink:actuate=\"onRequest\" xlink:href=\"psysml:bb8eeef5-ab74-4ee9-8505-e654a7ee43f1\" xlink:show=\"new\" xlink:title=\"psysml:bb8eeef5-ab74-4ee9-8505-e654a7ee43f1\" xlink:type=\"simple\"><polygon fill=\"#FFFFFF\" points=\"133,84,165,84,172,106.2969,179,106.2969,179,136.5938,133,136.5938,133,84\" style=\"stroke: #000000; stroke-width: 1.5;\"/><line style=\"stroke: #000000; stroke-width: 1.5;\" x1=\"133\" x2=\"172\" y1=\"106.2969\" y2=\"106.2969\"/><text fill=\"#000000\" font-family=\"sans-serif\" font-size=\"14\" font-weight=\"bold\" lengthAdjust=\"spacingAndGlyphs\" textLength=\"26\" x=\"137\" y=\"98.9951\">P2a</text></a><!--MD5=[15ebcb19ae302d9b601edb458606d402]\n",
       "link E5 to E2--><a href=\"psysml:06c75c6a-903d-4e64-8c9a-141a01fc9647\" target=\"_top\" title=\"psysml:06c75c6a-903d-4e64-8c9a-141a01fc9647\" xlink:actuate=\"onRequest\" xlink:href=\"psysml:06c75c6a-903d-4e64-8c9a-141a01fc9647\" xlink:show=\"new\" xlink:title=\"psysml:06c75c6a-903d-4e64-8c9a-141a01fc9647\" xlink:type=\"simple\"><path d=\"M159.28,137.05 C160.735,148.365 162.5469,162.4656 164.4519,177.2955 C165.4044,184.7104 166.3802,192.3076 167.3463,199.8301 C167.5878,201.7107 167.8287,203.5867 168.0685,205.4539 C168.1884,206.3876 168.308,207.319 168.4273,208.2478 C168.4869,208.7122 168.5465,209.1759 168.6059,209.6389 \" fill=\"none\" id=\"E5-&gt;E2\" style=\"stroke: #383838; stroke-width: 1.0; stroke-dasharray: 7.0,7.0;\"/><polygon fill=\"#383838\" points=\"168.6059,209.6389,171.427,200.2027,167.9691,204.6796,163.4922,201.2217,168.6059,209.6389\" style=\"stroke: #383838; stroke-width: 1.0;\"/><text fill=\"#000000\" font-family=\"sans-serif\" font-size=\"13\" lengthAdjust=\"spacingAndGlyphs\" textLength=\"65\" x=\"166\" y=\"182.0669\">«import»*</text></a><!--MD5=[a717450b82c80b9240a525fa862496af]\n",
       "link E6 to E3--><a href=\"psysml:2903afd1-9bf2-47a6-8d72-b5532180e7bb\" target=\"_top\" title=\"psysml:2903afd1-9bf2-47a6-8d72-b5532180e7bb\" xlink:actuate=\"onRequest\" xlink:href=\"psysml:2903afd1-9bf2-47a6-8d72-b5532180e7bb\" xlink:show=\"new\" xlink:title=\"psysml:2903afd1-9bf2-47a6-8d72-b5532180e7bb\" xlink:type=\"simple\"><path d=\"M81.05,133.55 C85.7,158.9 93.44,201.1 99.26,232.83 \" fill=\"none\" id=\"E6-&gt;E3\" style=\"stroke: #383838; stroke-width: 1.0;\"/><polygon fill=\"#FFFFFF\" points=\"102.92,252.78,92.6018,235.3578,106.3713,232.8278,102.92,252.78\" style=\"stroke: #383838; stroke-width: 1.0;\"/><ellipse cx=\"93.5388\" cy=\"229.3902\" fill=\"#383838\" rx=\"2\" ry=\"2\" style=\"stroke: #383838; stroke-width: 1.0;\"/><ellipse cx=\"103.3742\" cy=\"227.5831\" fill=\"#383838\" rx=\"2\" ry=\"2\" style=\"stroke: #383838; stroke-width: 1.0;\"/></a><!--MD5=[fb51d32ae957cdb5860ed88240a8becf]\n",
       "@startuml\r\n",
       "skinparam linetype polyline\r\n",
       "skinparam monochrome true\r\n",
       "skinparam classbackgroundcolor white\r\n",
       "skinparam shadowing false\r\n",
       "skinparam wrapWidth 300\r\n",
       "hide circle\r\n",
       "\r\n",
       "package \"QualifiedNameImportTest\" as E1  [[psysml:50af7fae-c5e9-43d5-b973-e599fd0b94e5 ]]  {\r\n",
       "package \"P1\" as E2  [[psysml:1e9ed716-c57b-44aa-8aaa-ea3379eecc8d ]]  {\r\n",
       "comp def \"A\" as E3  <<(T,blue) part  def>> [[psysml:4266c5b7-3671-4acf-aa71-02dd8d212457 ]] {\r\n",
       "}\r\n",
       "}\r\n",
       "package \"P2\" as E4  [[psysml:04b1b2f0-8c96-40bb-b2e8-2bd575969190 ]]  {\r\n",
       "package \"P2a\" as E5  [[psysml:bb8eeef5-ab74-4ee9-8505-e654a7ee43f1 ]]  {\r\n",
       "}\r\n",
       "comp usage \"x: A \" as E6  <<(T,blue) part>> [[psysml:d91f8c93-5cf2-41b6-a65a-d41673929b38 ]] {\r\n",
       "}\r\n",
       "}\r\n",
       "}\r\n",
       "E5 ..> E2 [[psysml:06c75c6a-903d-4e64-8c9a-141a01fc9647 ]] : <<import>>*\r\n",
       "E6 - -:|> E3 [[psysml:2903afd1-9bf2-47a6-8d72-b5532180e7bb ]] \r\n",
       "@enduml\r\n",
       "\n",
       "PlantUML version 1.2020.13(Sat Jun 13 12:26:38 UTC 2020)\n",
       "(EPL source distribution)\n",
       "Java Runtime: OpenJDK Runtime Environment\n",
       "JVM: OpenJDK 64-Bit Server VM\n",
       "Default Encoding: UTF-8\n",
       "Language: en\n",
       "Country: null\n",
       "--></g></svg>"
      ]
     },
     "execution_count": 15,
     "metadata": {},
     "output_type": "execute_result"
    }
   ],
   "source": [
    "%viz --style=\"POLYLINE\" --view=\"MIXED\" \"QualifiedNameImportTest\""
   ]
  },
  {
   "cell_type": "code",
   "execution_count": 16,
   "id": "db12f8fc",
   "metadata": {
    "execution": {
     "iopub.execute_input": "2022-04-22T09:51:23.053759Z",
     "iopub.status.busy": "2022-04-22T09:51:23.053317Z",
     "iopub.status.idle": "2022-04-22T09:51:23.088966Z",
     "shell.execute_reply": "2022-04-22T09:51:23.088595Z"
    }
   },
   "outputs": [
    {
     "data": {
      "image/svg+xml": [
       "<?xml version=\"1.0\" encoding=\"UTF-8\" standalone=\"no\"?><svg xmlns=\"http://www.w3.org/2000/svg\" xmlns:xlink=\"http://www.w3.org/1999/xlink\" contentScriptType=\"application/ecmascript\" contentStyleType=\"text/css\" height=\"271px\" preserveAspectRatio=\"none\" style=\"width:397px;height:271px;\" version=\"1.1\" viewBox=\"0 0 397 271\" width=\"397px\" zoomAndPan=\"magnify\"><defs/><g><!--MD5=[fbc87193dbaf4d95561dea2c320d4a47]\n",
       "cluster E1--><a href=\"psysml:50af7fae-c5e9-43d5-b973-e599fd0b94e5\" target=\"_top\" title=\"psysml:50af7fae-c5e9-43d5-b973-e599fd0b94e5\" xlink:actuate=\"onRequest\" xlink:href=\"psysml:50af7fae-c5e9-43d5-b973-e599fd0b94e5\" xlink:show=\"new\" xlink:title=\"psysml:50af7fae-c5e9-43d5-b973-e599fd0b94e5\" xlink:type=\"simple\"><polygon fill=\"#FFFFFF\" points=\"16,6,196,6,203,28.2969,375,28.2969,375,259,16,259,16,6\" style=\"stroke: #000000; stroke-width: 1.5;\"/><line style=\"stroke: #000000; stroke-width: 1.5;\" x1=\"16\" x2=\"203\" y1=\"28.2969\" y2=\"28.2969\"/><text fill=\"#000000\" font-family=\"sans-serif\" font-size=\"14\" font-weight=\"bold\" lengthAdjust=\"spacingAndGlyphs\" textLength=\"174\" x=\"20\" y=\"20.9951\">QualifiedNameImportTest</text></a><!--MD5=[e4f7fae6ed58524ba242bb0b0d3be6b7]\n",
       "cluster E2--><a href=\"psysml:1e9ed716-c57b-44aa-8aaa-ea3379eecc8d\" target=\"_top\" title=\"psysml:1e9ed716-c57b-44aa-8aaa-ea3379eecc8d\" xlink:actuate=\"onRequest\" xlink:href=\"psysml:1e9ed716-c57b-44aa-8aaa-ea3379eecc8d\" xlink:show=\"new\" xlink:title=\"psysml:1e9ed716-c57b-44aa-8aaa-ea3379eecc8d\" xlink:type=\"simple\"><polygon fill=\"#FFFFFF\" points=\"225,90,249,90,256,112.2969,343,112.2969,343,222,225,222,225,90\" style=\"stroke: #000000; stroke-width: 1.5;\"/><line style=\"stroke: #000000; stroke-width: 1.5;\" x1=\"225\" x2=\"256\" y1=\"112.2969\" y2=\"112.2969\"/><text fill=\"#000000\" font-family=\"sans-serif\" font-size=\"14\" font-weight=\"bold\" lengthAdjust=\"spacingAndGlyphs\" textLength=\"18\" x=\"229\" y=\"104.9951\">P1</text></a><!--MD5=[f6df4d0ebaf0b5dfb2ced0ae5af7c670]\n",
       "cluster E4--><a href=\"psysml:04b1b2f0-8c96-40bb-b2e8-2bd575969190\" target=\"_top\" title=\"psysml:04b1b2f0-8c96-40bb-b2e8-2bd575969190\" xlink:actuate=\"onRequest\" xlink:href=\"psysml:04b1b2f0-8c96-40bb-b2e8-2bd575969190\" xlink:show=\"new\" xlink:title=\"psysml:04b1b2f0-8c96-40bb-b2e8-2bd575969190\" xlink:type=\"simple\"><polygon fill=\"#FFFFFF\" points=\"40,49,64,49,71,71.2969,118,71.2969,118,235,40,235,40,49\" style=\"stroke: #000000; stroke-width: 1.5;\"/><line style=\"stroke: #000000; stroke-width: 1.5;\" x1=\"40\" x2=\"71\" y1=\"71.2969\" y2=\"71.2969\"/><text fill=\"#000000\" font-family=\"sans-serif\" font-size=\"14\" font-weight=\"bold\" lengthAdjust=\"spacingAndGlyphs\" textLength=\"18\" x=\"44\" y=\"63.9951\">P2</text></a><!--MD5=[09b614a08d8cba4a07c9adeb5e0fee81]\n",
       "class E3--><a href=\"psysml:4266c5b7-3671-4acf-aa71-02dd8d212457\" target=\"_top\" title=\"psysml:4266c5b7-3671-4acf-aa71-02dd8d212457\" xlink:actuate=\"onRequest\" xlink:href=\"psysml:4266c5b7-3671-4acf-aa71-02dd8d212457\" xlink:show=\"new\" xlink:title=\"psysml:4266c5b7-3671-4acf-aa71-02dd8d212457\" xlink:type=\"simple\"><rect fill=\"#FFFFFF\" height=\"45.9375\" id=\"E3\" style=\"stroke: #383838; stroke-width: 1.5;\" width=\"70\" x=\"249\" y=\"152\"/><text fill=\"#000000\" font-family=\"sans-serif\" font-size=\"12\" font-style=\"italic\" lengthAdjust=\"spacingAndGlyphs\" textLength=\"68\" x=\"250\" y=\"168.1387\">«part  def»</text><text fill=\"#000000\" font-family=\"sans-serif\" font-size=\"12\" lengthAdjust=\"spacingAndGlyphs\" textLength=\"8\" x=\"280\" y=\"182.1074\">A</text><line style=\"stroke: #383838; stroke-width: 1.5;\" x1=\"250\" x2=\"318\" y1=\"189.9375\" y2=\"189.9375\"/></a><!--MD5=[60a26617385b1d2d0262a64233df1f8d]\n",
       "class E6--><a href=\"psysml:d91f8c93-5cf2-41b6-a65a-d41673929b38\" target=\"_top\" title=\"psysml:d91f8c93-5cf2-41b6-a65a-d41673929b38\" xlink:actuate=\"onRequest\" xlink:href=\"psysml:d91f8c93-5cf2-41b6-a65a-d41673929b38\" xlink:show=\"new\" xlink:title=\"psysml:d91f8c93-5cf2-41b6-a65a-d41673929b38\" xlink:type=\"simple\"><rect fill=\"#FFFFFF\" height=\"45.9375\" id=\"E6\" rx=\"10\" ry=\"10\" style=\"stroke: #383838; stroke-width: 1.5;\" width=\"42\" x=\"58\" y=\"173\"/><text fill=\"#000000\" font-family=\"sans-serif\" font-size=\"12\" font-style=\"italic\" lengthAdjust=\"spacingAndGlyphs\" textLength=\"40\" x=\"59\" y=\"189.1387\">«part»</text><text fill=\"#000000\" font-family=\"sans-serif\" font-size=\"12\" lengthAdjust=\"spacingAndGlyphs\" textLength=\"22\" x=\"66\" y=\"203.1074\">x: A</text><line style=\"stroke: #383838; stroke-width: 1.5;\" x1=\"59\" x2=\"99\" y1=\"210.9375\" y2=\"210.9375\"/></a><a href=\"psysml:bb8eeef5-ab74-4ee9-8505-e654a7ee43f1\" target=\"_top\" title=\"psysml:bb8eeef5-ab74-4ee9-8505-e654a7ee43f1\" xlink:actuate=\"onRequest\" xlink:href=\"psysml:bb8eeef5-ab74-4ee9-8505-e654a7ee43f1\" xlink:show=\"new\" xlink:title=\"psysml:bb8eeef5-ab74-4ee9-8505-e654a7ee43f1\" xlink:type=\"simple\"><polygon fill=\"#FFFFFF\" points=\"56,84.5,88,84.5,95,106.7969,102,106.7969,102,137.0938,56,137.0938,56,84.5\" style=\"stroke: #000000; stroke-width: 1.5;\"/><line style=\"stroke: #000000; stroke-width: 1.5;\" x1=\"56\" x2=\"95\" y1=\"106.7969\" y2=\"106.7969\"/><text fill=\"#000000\" font-family=\"sans-serif\" font-size=\"14\" font-weight=\"bold\" lengthAdjust=\"spacingAndGlyphs\" textLength=\"26\" x=\"60\" y=\"99.4951\">P2a</text></a><!--MD5=[15ebcb19ae302d9b601edb458606d402]\n",
       "link E5 to E2--><a href=\"psysml:06c75c6a-903d-4e64-8c9a-141a01fc9647\" target=\"_top\" title=\"psysml:06c75c6a-903d-4e64-8c9a-141a01fc9647\" xlink:actuate=\"onRequest\" xlink:href=\"psysml:06c75c6a-903d-4e64-8c9a-141a01fc9647\" xlink:show=\"new\" xlink:title=\"psysml:06c75c6a-903d-4e64-8c9a-141a01fc9647\" xlink:type=\"simple\"><path d=\"M102.11,111.65 C128.005,112.415 172.23,113.7225 210.4688,114.8538 C215.2486,114.9952 219.9349,115.1338 224.4802,115.2683 \" fill=\"none\" id=\"E5-&gt;E2\" style=\"stroke: #383838; stroke-width: 1.0; stroke-dasharray: 7.0,7.0;\"/><polygon fill=\"#383838\" points=\"224.4802,115.2683,215.6024,111.0039,219.4824,115.1204,215.3658,119.0004,224.4802,115.2683\" style=\"stroke: #383838; stroke-width: 1.0;\"/><text fill=\"#000000\" font-family=\"sans-serif\" font-size=\"13\" lengthAdjust=\"spacingAndGlyphs\" textLength=\"65\" x=\"135\" y=\"109.0669\">«import»*</text></a><!--MD5=[a717450b82c80b9240a525fa862496af]\n",
       "link E6 to E3--><a href=\"psysml:2903afd1-9bf2-47a6-8d72-b5532180e7bb\" target=\"_top\" title=\"psysml:2903afd1-9bf2-47a6-8d72-b5532180e7bb\" xlink:actuate=\"onRequest\" xlink:href=\"psysml:2903afd1-9bf2-47a6-8d72-b5532180e7bb\" xlink:show=\"new\" xlink:title=\"psysml:2903afd1-9bf2-47a6-8d72-b5532180e7bb\" xlink:type=\"simple\"><path d=\"M100.21,193.91 C129.89,190.84 186.34,185 228.7,180.62 \" fill=\"none\" id=\"E6-&gt;E3\" style=\"stroke: #383838; stroke-width: 1.0;\"/><polygon fill=\"#FFFFFF\" points=\"248.76,178.54,230.5811,187.4579,229.1406,173.5322,248.76,178.54\" style=\"stroke: #383838; stroke-width: 1.0;\"/><ellipse cx=\"224.7056\" cy=\"186.0551\" fill=\"#383838\" rx=\"2\" ry=\"2\" style=\"stroke: #383838; stroke-width: 1.0;\"/><ellipse cx=\"223.6766\" cy=\"176.1082\" fill=\"#383838\" rx=\"2\" ry=\"2\" style=\"stroke: #383838; stroke-width: 1.0;\"/></a><!--MD5=[1ebee750e6d67c7b4c78d1210f61fef3]\n",
       "@startuml\r\n",
       "left to right direction\r\n",
       "skinparam monochrome true\r\n",
       "skinparam classbackgroundcolor white\r\n",
       "skinparam shadowing false\r\n",
       "skinparam wrapWidth 300\r\n",
       "hide circle\r\n",
       "\r\n",
       "package \"QualifiedNameImportTest\" as E1  [[psysml:50af7fae-c5e9-43d5-b973-e599fd0b94e5 ]]  {\r\n",
       "package \"P1\" as E2  [[psysml:1e9ed716-c57b-44aa-8aaa-ea3379eecc8d ]]  {\r\n",
       "comp def \"A\" as E3  <<(T,blue) part  def>> [[psysml:4266c5b7-3671-4acf-aa71-02dd8d212457 ]] {\r\n",
       "}\r\n",
       "}\r\n",
       "package \"P2\" as E4  [[psysml:04b1b2f0-8c96-40bb-b2e8-2bd575969190 ]]  {\r\n",
       "package \"P2a\" as E5  [[psysml:bb8eeef5-ab74-4ee9-8505-e654a7ee43f1 ]]  {\r\n",
       "}\r\n",
       "comp usage \"x: A \" as E6  <<(T,blue) part>> [[psysml:d91f8c93-5cf2-41b6-a65a-d41673929b38 ]] {\r\n",
       "}\r\n",
       "}\r\n",
       "}\r\n",
       "E5 ..> E2 [[psysml:06c75c6a-903d-4e64-8c9a-141a01fc9647 ]] : <<import>>*\r\n",
       "E6 - -:|> E3 [[psysml:2903afd1-9bf2-47a6-8d72-b5532180e7bb ]] \r\n",
       "@enduml\r\n",
       "\n",
       "PlantUML version 1.2020.13(Sat Jun 13 12:26:38 UTC 2020)\n",
       "(EPL source distribution)\n",
       "Java Runtime: OpenJDK Runtime Environment\n",
       "JVM: OpenJDK 64-Bit Server VM\n",
       "Default Encoding: UTF-8\n",
       "Language: en\n",
       "Country: null\n",
       "--></g></svg>"
      ]
     },
     "execution_count": 16,
     "metadata": {},
     "output_type": "execute_result"
    }
   ],
   "source": [
    "%viz --style=\"LR\" --view=\"Default\" \"QualifiedNameImportTest\""
   ]
  },
  {
   "cell_type": "code",
   "execution_count": 17,
   "id": "52cf8bc1",
   "metadata": {
    "execution": {
     "iopub.execute_input": "2022-04-22T09:51:23.138686Z",
     "iopub.status.busy": "2022-04-22T09:51:23.138270Z",
     "iopub.status.idle": "2022-04-22T09:51:23.174286Z",
     "shell.execute_reply": "2022-04-22T09:51:23.173924Z"
    }
   },
   "outputs": [
    {
     "data": {
      "image/svg+xml": [
       "<?xml version=\"1.0\" encoding=\"UTF-8\" standalone=\"no\"?><svg xmlns=\"http://www.w3.org/2000/svg\" xmlns:xlink=\"http://www.w3.org/1999/xlink\" contentScriptType=\"application/ecmascript\" contentStyleType=\"text/css\" height=\"271px\" preserveAspectRatio=\"none\" style=\"width:397px;height:271px;\" version=\"1.1\" viewBox=\"0 0 397 271\" width=\"397px\" zoomAndPan=\"magnify\"><defs/><g><!--MD5=[fbc87193dbaf4d95561dea2c320d4a47]\n",
       "cluster E1--><a href=\"psysml:50af7fae-c5e9-43d5-b973-e599fd0b94e5\" target=\"_top\" title=\"psysml:50af7fae-c5e9-43d5-b973-e599fd0b94e5\" xlink:actuate=\"onRequest\" xlink:href=\"psysml:50af7fae-c5e9-43d5-b973-e599fd0b94e5\" xlink:show=\"new\" xlink:title=\"psysml:50af7fae-c5e9-43d5-b973-e599fd0b94e5\" xlink:type=\"simple\"><polygon fill=\"#FFFFFF\" points=\"16,6,196,6,203,28.2969,375,28.2969,375,259,16,259,16,6\" style=\"stroke: #000000; stroke-width: 1.5;\"/><line style=\"stroke: #000000; stroke-width: 1.5;\" x1=\"16\" x2=\"203\" y1=\"28.2969\" y2=\"28.2969\"/><text fill=\"#000000\" font-family=\"sans-serif\" font-size=\"14\" font-weight=\"bold\" lengthAdjust=\"spacingAndGlyphs\" textLength=\"174\" x=\"20\" y=\"20.9951\">QualifiedNameImportTest</text></a><!--MD5=[e4f7fae6ed58524ba242bb0b0d3be6b7]\n",
       "cluster E2--><a href=\"psysml:1e9ed716-c57b-44aa-8aaa-ea3379eecc8d\" target=\"_top\" title=\"psysml:1e9ed716-c57b-44aa-8aaa-ea3379eecc8d\" xlink:actuate=\"onRequest\" xlink:href=\"psysml:1e9ed716-c57b-44aa-8aaa-ea3379eecc8d\" xlink:show=\"new\" xlink:title=\"psysml:1e9ed716-c57b-44aa-8aaa-ea3379eecc8d\" xlink:type=\"simple\"><polygon fill=\"#FFFFFF\" points=\"225,90,249,90,256,112.2969,343,112.2969,343,222,225,222,225,90\" style=\"stroke: #000000; stroke-width: 1.5;\"/><line style=\"stroke: #000000; stroke-width: 1.5;\" x1=\"225\" x2=\"256\" y1=\"112.2969\" y2=\"112.2969\"/><text fill=\"#000000\" font-family=\"sans-serif\" font-size=\"14\" font-weight=\"bold\" lengthAdjust=\"spacingAndGlyphs\" textLength=\"18\" x=\"229\" y=\"104.9951\">P1</text></a><!--MD5=[f6df4d0ebaf0b5dfb2ced0ae5af7c670]\n",
       "cluster E4--><a href=\"psysml:04b1b2f0-8c96-40bb-b2e8-2bd575969190\" target=\"_top\" title=\"psysml:04b1b2f0-8c96-40bb-b2e8-2bd575969190\" xlink:actuate=\"onRequest\" xlink:href=\"psysml:04b1b2f0-8c96-40bb-b2e8-2bd575969190\" xlink:show=\"new\" xlink:title=\"psysml:04b1b2f0-8c96-40bb-b2e8-2bd575969190\" xlink:type=\"simple\"><polygon fill=\"#FFFFFF\" points=\"40,49,64,49,71,71.2969,118,71.2969,118,235,40,235,40,49\" style=\"stroke: #000000; stroke-width: 1.5;\"/><line style=\"stroke: #000000; stroke-width: 1.5;\" x1=\"40\" x2=\"71\" y1=\"71.2969\" y2=\"71.2969\"/><text fill=\"#000000\" font-family=\"sans-serif\" font-size=\"14\" font-weight=\"bold\" lengthAdjust=\"spacingAndGlyphs\" textLength=\"18\" x=\"44\" y=\"63.9951\">P2</text></a><!--MD5=[09b614a08d8cba4a07c9adeb5e0fee81]\n",
       "class E3--><a href=\"psysml:4266c5b7-3671-4acf-aa71-02dd8d212457\" target=\"_top\" title=\"psysml:4266c5b7-3671-4acf-aa71-02dd8d212457\" xlink:actuate=\"onRequest\" xlink:href=\"psysml:4266c5b7-3671-4acf-aa71-02dd8d212457\" xlink:show=\"new\" xlink:title=\"psysml:4266c5b7-3671-4acf-aa71-02dd8d212457\" xlink:type=\"simple\"><rect fill=\"#FFFFFF\" height=\"45.9375\" id=\"E3\" style=\"stroke: #383838; stroke-width: 1.5;\" width=\"70\" x=\"249\" y=\"152\"/><text fill=\"#000000\" font-family=\"sans-serif\" font-size=\"12\" font-style=\"italic\" lengthAdjust=\"spacingAndGlyphs\" textLength=\"68\" x=\"250\" y=\"168.1387\">«part  def»</text><text fill=\"#000000\" font-family=\"sans-serif\" font-size=\"12\" lengthAdjust=\"spacingAndGlyphs\" textLength=\"8\" x=\"280\" y=\"182.1074\">A</text><line style=\"stroke: #383838; stroke-width: 1.5;\" x1=\"250\" x2=\"318\" y1=\"189.9375\" y2=\"189.9375\"/></a><!--MD5=[60a26617385b1d2d0262a64233df1f8d]\n",
       "class E6--><a href=\"psysml:d91f8c93-5cf2-41b6-a65a-d41673929b38\" target=\"_top\" title=\"psysml:d91f8c93-5cf2-41b6-a65a-d41673929b38\" xlink:actuate=\"onRequest\" xlink:href=\"psysml:d91f8c93-5cf2-41b6-a65a-d41673929b38\" xlink:show=\"new\" xlink:title=\"psysml:d91f8c93-5cf2-41b6-a65a-d41673929b38\" xlink:type=\"simple\"><rect fill=\"#FFFFFF\" height=\"45.9375\" id=\"E6\" rx=\"10\" ry=\"10\" style=\"stroke: #383838; stroke-width: 1.5;\" width=\"42\" x=\"58\" y=\"173\"/><text fill=\"#000000\" font-family=\"sans-serif\" font-size=\"12\" font-style=\"italic\" lengthAdjust=\"spacingAndGlyphs\" textLength=\"40\" x=\"59\" y=\"189.1387\">«part»</text><text fill=\"#000000\" font-family=\"sans-serif\" font-size=\"12\" lengthAdjust=\"spacingAndGlyphs\" textLength=\"22\" x=\"66\" y=\"203.1074\">x: A</text><line style=\"stroke: #383838; stroke-width: 1.5;\" x1=\"59\" x2=\"99\" y1=\"210.9375\" y2=\"210.9375\"/></a><a href=\"psysml:bb8eeef5-ab74-4ee9-8505-e654a7ee43f1\" target=\"_top\" title=\"psysml:bb8eeef5-ab74-4ee9-8505-e654a7ee43f1\" xlink:actuate=\"onRequest\" xlink:href=\"psysml:bb8eeef5-ab74-4ee9-8505-e654a7ee43f1\" xlink:show=\"new\" xlink:title=\"psysml:bb8eeef5-ab74-4ee9-8505-e654a7ee43f1\" xlink:type=\"simple\"><polygon fill=\"#FFFFFF\" points=\"56,84.5,88,84.5,95,106.7969,102,106.7969,102,137.0938,56,137.0938,56,84.5\" style=\"stroke: #000000; stroke-width: 1.5;\"/><line style=\"stroke: #000000; stroke-width: 1.5;\" x1=\"56\" x2=\"95\" y1=\"106.7969\" y2=\"106.7969\"/><text fill=\"#000000\" font-family=\"sans-serif\" font-size=\"14\" font-weight=\"bold\" lengthAdjust=\"spacingAndGlyphs\" textLength=\"26\" x=\"60\" y=\"99.4951\">P2a</text></a><!--MD5=[15ebcb19ae302d9b601edb458606d402]\n",
       "link E5 to E2--><a href=\"psysml:06c75c6a-903d-4e64-8c9a-141a01fc9647\" target=\"_top\" title=\"psysml:06c75c6a-903d-4e64-8c9a-141a01fc9647\" xlink:actuate=\"onRequest\" xlink:href=\"psysml:06c75c6a-903d-4e64-8c9a-141a01fc9647\" xlink:show=\"new\" xlink:title=\"psysml:06c75c6a-903d-4e64-8c9a-141a01fc9647\" xlink:type=\"simple\"><path d=\"M102.11,111.65 C128.005,112.415 172.23,113.7225 210.4688,114.8538 C215.2486,114.9952 219.9349,115.1338 224.4802,115.2683 \" fill=\"none\" id=\"E5-&gt;E2\" style=\"stroke: #383838; stroke-width: 1.0; stroke-dasharray: 7.0,7.0;\"/><polygon fill=\"#383838\" points=\"224.4802,115.2683,215.6024,111.0039,219.4824,115.1204,215.3658,119.0004,224.4802,115.2683\" style=\"stroke: #383838; stroke-width: 1.0;\"/><text fill=\"#000000\" font-family=\"sans-serif\" font-size=\"13\" lengthAdjust=\"spacingAndGlyphs\" textLength=\"65\" x=\"135\" y=\"109.0669\">«import»*</text></a><!--MD5=[a717450b82c80b9240a525fa862496af]\n",
       "link E6 to E3--><a href=\"psysml:2903afd1-9bf2-47a6-8d72-b5532180e7bb\" target=\"_top\" title=\"psysml:2903afd1-9bf2-47a6-8d72-b5532180e7bb\" xlink:actuate=\"onRequest\" xlink:href=\"psysml:2903afd1-9bf2-47a6-8d72-b5532180e7bb\" xlink:show=\"new\" xlink:title=\"psysml:2903afd1-9bf2-47a6-8d72-b5532180e7bb\" xlink:type=\"simple\"><path d=\"M100.21,193.91 C129.89,190.84 186.34,185 228.7,180.62 \" fill=\"none\" id=\"E6-&gt;E3\" style=\"stroke: #383838; stroke-width: 1.0;\"/><polygon fill=\"#FFFFFF\" points=\"248.76,178.54,230.5811,187.4579,229.1406,173.5322,248.76,178.54\" style=\"stroke: #383838; stroke-width: 1.0;\"/><ellipse cx=\"224.7056\" cy=\"186.0551\" fill=\"#383838\" rx=\"2\" ry=\"2\" style=\"stroke: #383838; stroke-width: 1.0;\"/><ellipse cx=\"223.6766\" cy=\"176.1082\" fill=\"#383838\" rx=\"2\" ry=\"2\" style=\"stroke: #383838; stroke-width: 1.0;\"/></a><!--MD5=[1ebee750e6d67c7b4c78d1210f61fef3]\n",
       "@startuml\r\n",
       "left to right direction\r\n",
       "skinparam monochrome true\r\n",
       "skinparam classbackgroundcolor white\r\n",
       "skinparam shadowing false\r\n",
       "skinparam wrapWidth 300\r\n",
       "hide circle\r\n",
       "\r\n",
       "package \"QualifiedNameImportTest\" as E1  [[psysml:50af7fae-c5e9-43d5-b973-e599fd0b94e5 ]]  {\r\n",
       "package \"P1\" as E2  [[psysml:1e9ed716-c57b-44aa-8aaa-ea3379eecc8d ]]  {\r\n",
       "comp def \"A\" as E3  <<(T,blue) part  def>> [[psysml:4266c5b7-3671-4acf-aa71-02dd8d212457 ]] {\r\n",
       "}\r\n",
       "}\r\n",
       "package \"P2\" as E4  [[psysml:04b1b2f0-8c96-40bb-b2e8-2bd575969190 ]]  {\r\n",
       "package \"P2a\" as E5  [[psysml:bb8eeef5-ab74-4ee9-8505-e654a7ee43f1 ]]  {\r\n",
       "}\r\n",
       "comp usage \"x: A \" as E6  <<(T,blue) part>> [[psysml:d91f8c93-5cf2-41b6-a65a-d41673929b38 ]] {\r\n",
       "}\r\n",
       "}\r\n",
       "}\r\n",
       "E5 ..> E2 [[psysml:06c75c6a-903d-4e64-8c9a-141a01fc9647 ]] : <<import>>*\r\n",
       "E6 - -:|> E3 [[psysml:2903afd1-9bf2-47a6-8d72-b5532180e7bb ]] \r\n",
       "@enduml\r\n",
       "\n",
       "PlantUML version 1.2020.13(Sat Jun 13 12:26:38 UTC 2020)\n",
       "(EPL source distribution)\n",
       "Java Runtime: OpenJDK Runtime Environment\n",
       "JVM: OpenJDK 64-Bit Server VM\n",
       "Default Encoding: UTF-8\n",
       "Language: en\n",
       "Country: null\n",
       "--></g></svg>"
      ]
     },
     "execution_count": 17,
     "metadata": {},
     "output_type": "execute_result"
    }
   ],
   "source": [
    "%viz --style=\"LR\" --view=\"Tree\" \"QualifiedNameImportTest\""
   ]
  },
  {
   "cell_type": "code",
   "execution_count": 18,
   "id": "0aedb2ac",
   "metadata": {
    "execution": {
     "iopub.execute_input": "2022-04-22T09:51:23.223601Z",
     "iopub.status.busy": "2022-04-22T09:51:23.223273Z",
     "iopub.status.idle": "2022-04-22T09:51:23.227821Z",
     "shell.execute_reply": "2022-04-22T09:51:23.227976Z"
    }
   },
   "outputs": [
    {
     "data": {
      "image/svg+xml": [
       "<?xml version=\"1.0\" encoding=\"UTF-8\" standalone=\"no\"?><svg xmlns=\"http://www.w3.org/2000/svg\" xmlns:xlink=\"http://www.w3.org/1999/xlink\" contentScriptType=\"application/ecmascript\" contentStyleType=\"text/css\" height=\"12px\" preserveAspectRatio=\"none\" style=\"width:12px;height:12px;\" version=\"1.1\" viewBox=\"0 0 12 12\" width=\"12px\" zoomAndPan=\"magnify\"><defs/><g><!--MD5=[19d285c9d72a204eba4e2cd117d745e8]\n",
       "@startuml\r\n",
       "left to right direction\r\n",
       "skinparam monochrome true\r\n",
       "skinparam classbackgroundcolor white\r\n",
       "skinparam shadowing false\r\n",
       "skinparam wrapWidth 300\r\n",
       "hide circle\r\n",
       "\r\n",
       "@enduml\r\n",
       "\n",
       "PlantUML version 1.2020.13(Sat Jun 13 12:26:38 UTC 2020)\n",
       "(EPL source distribution)\n",
       "Java Runtime: OpenJDK Runtime Environment\n",
       "JVM: OpenJDK 64-Bit Server VM\n",
       "Default Encoding: UTF-8\n",
       "Language: en\n",
       "Country: null\n",
       "--></g></svg>"
      ]
     },
     "execution_count": 18,
     "metadata": {},
     "output_type": "execute_result"
    }
   ],
   "source": [
    "%viz --style=\"LR\" --view=\"State\" \"QualifiedNameImportTest\""
   ]
  },
  {
   "cell_type": "code",
   "execution_count": 19,
   "id": "aa713f57",
   "metadata": {
    "execution": {
     "iopub.execute_input": "2022-04-22T09:51:23.278815Z",
     "iopub.status.busy": "2022-04-22T09:51:23.278488Z",
     "iopub.status.idle": "2022-04-22T09:51:23.415758Z",
     "shell.execute_reply": "2022-04-22T09:51:23.415560Z"
    }
   },
   "outputs": [
    {
     "data": {
      "image/svg+xml": [
       "<?xml version=\"1.0\" encoding=\"UTF-8\" standalone=\"no\"?><svg xmlns=\"http://www.w3.org/2000/svg\" xmlns:xlink=\"http://www.w3.org/1999/xlink\" contentScriptType=\"application/ecmascript\" contentStyleType=\"text/css\" height=\"265px\" preserveAspectRatio=\"none\" style=\"width:406px;height:265px;\" version=\"1.1\" viewBox=\"0 0 406 265\" width=\"406px\" zoomAndPan=\"magnify\"><defs/><g><!--MD5=[fbc87193dbaf4d95561dea2c320d4a47]\n",
       "cluster E1--><a href=\"psysml:50af7fae-c5e9-43d5-b973-e599fd0b94e5\" target=\"_top\" title=\"psysml:50af7fae-c5e9-43d5-b973-e599fd0b94e5\" xlink:actuate=\"onRequest\" xlink:href=\"psysml:50af7fae-c5e9-43d5-b973-e599fd0b94e5\" xlink:show=\"new\" xlink:title=\"psysml:50af7fae-c5e9-43d5-b973-e599fd0b94e5\" xlink:type=\"simple\"><polygon fill=\"#FFFFFF\" points=\"16,6,196,6,203,28.2969,384,28.2969,384,253,16,253,16,6\" style=\"stroke: #000000; stroke-width: 1.5;\"/><line style=\"stroke: #000000; stroke-width: 1.5;\" x1=\"16\" x2=\"203\" y1=\"28.2969\" y2=\"28.2969\"/><text fill=\"#000000\" font-family=\"sans-serif\" font-size=\"14\" font-weight=\"bold\" lengthAdjust=\"spacingAndGlyphs\" textLength=\"174\" x=\"20\" y=\"20.9951\">QualifiedNameImportTest</text></a><!--MD5=[e4f7fae6ed58524ba242bb0b0d3be6b7]\n",
       "cluster E2--><a href=\"psysml:1e9ed716-c57b-44aa-8aaa-ea3379eecc8d\" target=\"_top\" title=\"psysml:1e9ed716-c57b-44aa-8aaa-ea3379eecc8d\" xlink:actuate=\"onRequest\" xlink:href=\"psysml:1e9ed716-c57b-44aa-8aaa-ea3379eecc8d\" xlink:show=\"new\" xlink:title=\"psysml:1e9ed716-c57b-44aa-8aaa-ea3379eecc8d\" xlink:type=\"simple\"><polygon fill=\"#FFFFFF\" points=\"229,59,253,59,260,81.2969,352,81.2969,352,189,229,189,229,59\" style=\"stroke: #000000; stroke-width: 1.5;\"/><line style=\"stroke: #000000; stroke-width: 1.5;\" x1=\"229\" x2=\"260\" y1=\"81.2969\" y2=\"81.2969\"/><text fill=\"#000000\" font-family=\"sans-serif\" font-size=\"14\" font-weight=\"bold\" lengthAdjust=\"spacingAndGlyphs\" textLength=\"18\" x=\"233\" y=\"73.9951\">P1</text></a><!--MD5=[f6df4d0ebaf0b5dfb2ced0ae5af7c670]\n",
       "cluster E4--><a href=\"psysml:04b1b2f0-8c96-40bb-b2e8-2bd575969190\" target=\"_top\" title=\"psysml:04b1b2f0-8c96-40bb-b2e8-2bd575969190\" xlink:actuate=\"onRequest\" xlink:href=\"psysml:04b1b2f0-8c96-40bb-b2e8-2bd575969190\" xlink:show=\"new\" xlink:title=\"psysml:04b1b2f0-8c96-40bb-b2e8-2bd575969190\" xlink:type=\"simple\"><polygon fill=\"#FFFFFF\" points=\"40,49,64,49,71,71.2969,122,71.2969,122,229,40,229,40,49\" style=\"stroke: #000000; stroke-width: 1.5;\"/><line style=\"stroke: #000000; stroke-width: 1.5;\" x1=\"40\" x2=\"71\" y1=\"71.2969\" y2=\"71.2969\"/><text fill=\"#000000\" font-family=\"sans-serif\" font-size=\"14\" font-weight=\"bold\" lengthAdjust=\"spacingAndGlyphs\" textLength=\"18\" x=\"44\" y=\"63.9951\">P2</text></a><g id=\"E1.E2.E3\"><a href=\"psysml:4266c5b7-3671-4acf-aa71-02dd8d212457\" target=\"_top\" title=\"psysml:4266c5b7-3671-4acf-aa71-02dd8d212457\" xlink:actuate=\"onRequest\" xlink:href=\"psysml:4266c5b7-3671-4acf-aa71-02dd8d212457\" xlink:show=\"new\" xlink:title=\"psysml:4266c5b7-3671-4acf-aa71-02dd8d212457\" xlink:type=\"simple\"><rect fill=\"#FFFFFF\" height=\"42.9375\" id=\"E3\" style=\"stroke: #383838; stroke-width: 1.5;\" width=\"75\" x=\"253\" y=\"102.5\"/><rect fill=\"#F8F8F8\" height=\"37.9375\" style=\"stroke: #383838; stroke-width: 1.5;\" width=\"75\" x=\"253\" y=\"102.5\"/><text fill=\"#000000\" font-family=\"sans-serif\" font-size=\"12\" font-style=\"italic\" lengthAdjust=\"spacingAndGlyphs\" textLength=\"68\" x=\"256.5\" y=\"118.6387\">«part  def»</text><text fill=\"#000000\" font-family=\"sans-serif\" font-size=\"12\" lengthAdjust=\"spacingAndGlyphs\" textLength=\"8\" x=\"286.5\" y=\"132.6074\">A</text></a></g><a href=\"psysml:bb8eeef5-ab74-4ee9-8505-e654a7ee43f1\" target=\"_top\" title=\"psysml:bb8eeef5-ab74-4ee9-8505-e654a7ee43f1\" xlink:actuate=\"onRequest\" xlink:href=\"psysml:bb8eeef5-ab74-4ee9-8505-e654a7ee43f1\" xlink:show=\"new\" xlink:title=\"psysml:bb8eeef5-ab74-4ee9-8505-e654a7ee43f1\" xlink:type=\"simple\"><polygon fill=\"#FFFFFF\" points=\"58,159.5,90,159.5,97,181.7969,104,181.7969,104,212.0938,58,212.0938,58,159.5\" style=\"stroke: #000000; stroke-width: 1.5;\"/><line style=\"stroke: #000000; stroke-width: 1.5;\" x1=\"58\" x2=\"97\" y1=\"181.7969\" y2=\"181.7969\"/><text fill=\"#000000\" font-family=\"sans-serif\" font-size=\"14\" font-weight=\"bold\" lengthAdjust=\"spacingAndGlyphs\" textLength=\"26\" x=\"62\" y=\"174.4951\">P2a</text></a><g id=\"E1.E4.E6\"><a href=\"psysml:d91f8c93-5cf2-41b6-a65a-d41673929b38\" target=\"_top\" title=\"psysml:d91f8c93-5cf2-41b6-a65a-d41673929b38\" xlink:actuate=\"onRequest\" xlink:href=\"psysml:d91f8c93-5cf2-41b6-a65a-d41673929b38\" xlink:show=\"new\" xlink:title=\"psysml:d91f8c93-5cf2-41b6-a65a-d41673929b38\" xlink:type=\"simple\"><rect fill=\"#FFFFFF\" height=\"40\" id=\"E6\" rx=\"10\" ry=\"10\" style=\"stroke: #383838; stroke-width: 1.5;\" width=\"50\" x=\"56\" y=\"84\"/><rect fill=\"#F8F8F8\" height=\"23.9688\" rx=\"10\" ry=\"10\" style=\"stroke: #F8F8F8; stroke-width: 1.5;\" width=\"50\" x=\"56\" y=\"84\"/><rect fill=\"#F8F8F8\" height=\"10\" style=\"stroke: #F8F8F8; stroke-width: 1.5;\" width=\"50\" x=\"56\" y=\"97.9688\"/><rect fill=\"none\" height=\"40\" id=\"E6\" rx=\"10\" ry=\"10\" style=\"stroke: #383838; stroke-width: 1.5;\" width=\"50\" x=\"56\" y=\"84\"/><text fill=\"#000000\" font-family=\"sans-serif\" font-size=\"12\" lengthAdjust=\"spacingAndGlyphs\" textLength=\"22\" x=\"70\" y=\"100.1387\">x: A</text></a></g><!--MD5=[15ebcb19ae302d9b601edb458606d402]\n",
       "link E5 to E2--><a href=\"psysml:06c75c6a-903d-4e64-8c9a-141a01fc9647\" target=\"_top\" title=\"psysml:06c75c6a-903d-4e64-8c9a-141a01fc9647\" xlink:actuate=\"onRequest\" xlink:href=\"psysml:06c75c6a-903d-4e64-8c9a-141a01fc9647\" xlink:show=\"new\" xlink:title=\"psysml:06c75c6a-903d-4e64-8c9a-141a01fc9647\" xlink:type=\"simple\"><path d=\"M104.21,185.46 C130.555,184.83 175.8525,183.74 215.0637,182.795 C217.5145,182.7359 219.9414,182.6774 222.3384,182.6197 C223.5369,182.5908 224.728,182.5621 225.9108,182.5335 C226.5022,182.5193 227.0916,182.5051 227.6788,182.4909 C227.9723,182.4838 228.2654,182.4768 228.5579,182.4697 \" fill=\"none\" id=\"E5-&gt;E2\" style=\"stroke: #383838; stroke-width: 1.0; stroke-dasharray: 7.0,7.0;\"/><polygon fill=\"#383838\" points=\"228.5579,182.4697,219.4641,178.6878,223.5594,182.5902,219.6569,186.6855,228.5579,182.4697\" style=\"stroke: #383838; stroke-width: 1.0;\"/><text fill=\"#000000\" font-family=\"sans-serif\" font-size=\"13\" lengthAdjust=\"spacingAndGlyphs\" textLength=\"65\" x=\"139\" y=\"180.0669\">«import»*</text></a><!--MD5=[a717450b82c80b9240a525fa862496af]\n",
       "link E6 to E3--><a href=\"psysml:2903afd1-9bf2-47a6-8d72-b5532180e7bb\" target=\"_top\" title=\"psysml:2903afd1-9bf2-47a6-8d72-b5532180e7bb\" xlink:actuate=\"onRequest\" xlink:href=\"psysml:2903afd1-9bf2-47a6-8d72-b5532180e7bb\" xlink:show=\"new\" xlink:title=\"psysml:2903afd1-9bf2-47a6-8d72-b5532180e7bb\" xlink:type=\"simple\"><path d=\"M106.21,106.33 C137.05,109.31 191.33,114.54 232.84,118.54 \" fill=\"none\" id=\"E6-&gt;E3\" style=\"stroke: #383838; stroke-width: 1.0;\"/><polygon fill=\"#FFFFFF\" points=\"252.9,120.47,233.3134,125.6046,234.6638,111.6699,252.9,120.47\" style=\"stroke: #383838; stroke-width: 1.0;\"/><ellipse cx=\"227.8329\" cy=\"123.0641\" fill=\"#383838\" rx=\"2\" ry=\"2\" style=\"stroke: #383838; stroke-width: 1.0;\"/><ellipse cx=\"228.7975\" cy=\"113.1107\" fill=\"#383838\" rx=\"2\" ry=\"2\" style=\"stroke: #383838; stroke-width: 1.0;\"/></a><!--MD5=[efac820a5158ea1dc6f8f83f163f8823]\n",
       "@startuml\r\n",
       "skinparam ranksep 10\r\n",
       "skinparam rectangle {\r\n",
       " backgroundColor<<block>> LightGreen\r\n",
       "}\r\n",
       "left to right direction\r\n",
       "skinparam monochrome true\r\n",
       "skinparam classbackgroundcolor white\r\n",
       "skinparam shadowing false\r\n",
       "skinparam wrapWidth 300\r\n",
       "hide circle\r\n",
       "\r\n",
       "package \"QualifiedNameImportTest\" as E1  [[psysml:50af7fae-c5e9-43d5-b973-e599fd0b94e5 ]]  {\r\n",
       "package \"P1\" as E2  [[psysml:1e9ed716-c57b-44aa-8aaa-ea3379eecc8d ]]  {\r\n",
       "rec def \"A\" as E3  <<(T,blue) part  def>> [[psysml:4266c5b7-3671-4acf-aa71-02dd8d212457 ]] {\r\n",
       "}\r\n",
       "}\r\n",
       "package \"P2\" as E4  [[psysml:04b1b2f0-8c96-40bb-b2e8-2bd575969190 ]]  {\r\n",
       "package \"P2a\" as E5  [[psysml:bb8eeef5-ab74-4ee9-8505-e654a7ee43f1 ]]  {\r\n",
       "}\r\n",
       "rec usage \"x: A\" as E6  [[psysml:d91f8c93-5cf2-41b6-a65a-d41673929b38 ]] {\r\n",
       "}\r\n",
       "}\r\n",
       "}\r\n",
       "E5 ..> E2 [[psysml:06c75c6a-903d-4e64-8c9a-141a01fc9647 ]] : <<import>>*\r\n",
       "E6 - -:|> E3 [[psysml:2903afd1-9bf2-47a6-8d72-b5532180e7bb ]] \r\n",
       "@enduml\r\n",
       "\n",
       "PlantUML version 1.2020.13(Sat Jun 13 12:26:38 UTC 2020)\n",
       "(EPL source distribution)\n",
       "Java Runtime: OpenJDK Runtime Environment\n",
       "JVM: OpenJDK 64-Bit Server VM\n",
       "Default Encoding: UTF-8\n",
       "Language: en\n",
       "Country: null\n",
       "--></g></svg>"
      ]
     },
     "execution_count": 19,
     "metadata": {},
     "output_type": "execute_result"
    }
   ],
   "source": [
    "%viz --style=\"LR\" --view=\"Interconnection\" \"QualifiedNameImportTest\""
   ]
  },
  {
   "cell_type": "code",
   "execution_count": 20,
   "id": "b328ad2a",
   "metadata": {
    "execution": {
     "iopub.execute_input": "2022-04-22T09:51:23.466485Z",
     "iopub.status.busy": "2022-04-22T09:51:23.466056Z",
     "iopub.status.idle": "2022-04-22T09:51:23.472717Z",
     "shell.execute_reply": "2022-04-22T09:51:23.472372Z"
    }
   },
   "outputs": [
    {
     "data": {
      "image/svg+xml": [
       "<?xml version=\"1.0\" encoding=\"UTF-8\" standalone=\"no\"?><svg xmlns=\"http://www.w3.org/2000/svg\" xmlns:xlink=\"http://www.w3.org/1999/xlink\" contentScriptType=\"application/ecmascript\" contentStyleType=\"text/css\" height=\"12px\" preserveAspectRatio=\"none\" style=\"width:12px;height:12px;\" version=\"1.1\" viewBox=\"0 0 12 12\" width=\"12px\" zoomAndPan=\"magnify\"><defs/><g><!--MD5=[7aeb398939421629f6affaa4a1a7b125]\n",
       "@startuml\r\n",
       "skinparam ranksep 8\r\n",
       "left to right direction\r\n",
       "skinparam monochrome true\r\n",
       "skinparam classbackgroundcolor white\r\n",
       "skinparam shadowing false\r\n",
       "skinparam wrapWidth 300\r\n",
       "hide circle\r\n",
       "\r\n",
       "@enduml\r\n",
       "\n",
       "PlantUML version 1.2020.13(Sat Jun 13 12:26:38 UTC 2020)\n",
       "(EPL source distribution)\n",
       "Java Runtime: OpenJDK Runtime Environment\n",
       "JVM: OpenJDK 64-Bit Server VM\n",
       "Default Encoding: UTF-8\n",
       "Language: en\n",
       "Country: null\n",
       "--></g></svg>"
      ]
     },
     "execution_count": 20,
     "metadata": {},
     "output_type": "execute_result"
    }
   ],
   "source": [
    "%viz --style=\"LR\" --view=\"Action\" \"QualifiedNameImportTest\""
   ]
  },
  {
   "cell_type": "code",
   "execution_count": 21,
   "id": "30c98c41",
   "metadata": {
    "execution": {
     "iopub.execute_input": "2022-04-22T09:51:23.522735Z",
     "iopub.status.busy": "2022-04-22T09:51:23.522328Z",
     "iopub.status.idle": "2022-04-22T09:51:23.528035Z",
     "shell.execute_reply": "2022-04-22T09:51:23.528284Z"
    }
   },
   "outputs": [
    {
     "data": {
      "image/svg+xml": [
       "<?xml version=\"1.0\" encoding=\"UTF-8\" standalone=\"no\"?><svg xmlns=\"http://www.w3.org/2000/svg\" xmlns:xlink=\"http://www.w3.org/1999/xlink\" contentScriptType=\"application/ecmascript\" contentStyleType=\"text/css\" height=\"12px\" preserveAspectRatio=\"none\" style=\"width:12px;height:12px;\" version=\"1.1\" viewBox=\"0 0 12 12\" width=\"12px\" zoomAndPan=\"magnify\"><defs/><g><!--MD5=[238c11ea2002f03115ad6b49a457d50e]\n",
       "@startuml\r\n",
       "skinparam roundcorner 20\r\n",
       "skinparam BoxPadding 20\r\n",
       "skinparam SequenceBoxBackgroundColor #white\r\n",
       "skinparam style strictuml\r\n",
       "skinparam maxMessageSize 100\r\n",
       "left to right direction\r\n",
       "skinparam monochrome true\r\n",
       "skinparam classbackgroundcolor white\r\n",
       "skinparam shadowing false\r\n",
       "skinparam wrapWidth 300\r\n",
       "hide circle\r\n",
       "\r\n",
       "@enduml\r\n",
       "\n",
       "PlantUML version 1.2020.13(Sat Jun 13 12:26:38 UTC 2020)\n",
       "(EPL source distribution)\n",
       "Java Runtime: OpenJDK Runtime Environment\n",
       "JVM: OpenJDK 64-Bit Server VM\n",
       "Default Encoding: UTF-8\n",
       "Language: en\n",
       "Country: null\n",
       "--></g></svg>"
      ]
     },
     "execution_count": 21,
     "metadata": {},
     "output_type": "execute_result"
    }
   ],
   "source": [
    "%viz --style=\"LR\" --view=\"Sequence\" \"QualifiedNameImportTest\""
   ]
  },
  {
   "cell_type": "code",
   "execution_count": 22,
   "id": "2d247b1d",
   "metadata": {
    "execution": {
     "iopub.execute_input": "2022-04-22T09:51:23.579001Z",
     "iopub.status.busy": "2022-04-22T09:51:23.578510Z",
     "iopub.status.idle": "2022-04-22T09:51:23.608514Z",
     "shell.execute_reply": "2022-04-22T09:51:23.608120Z"
    }
   },
   "outputs": [
    {
     "data": {
      "image/svg+xml": [
       "<?xml version=\"1.0\" encoding=\"UTF-8\" standalone=\"no\"?><svg xmlns=\"http://www.w3.org/2000/svg\" xmlns:xlink=\"http://www.w3.org/1999/xlink\" contentScriptType=\"application/ecmascript\" contentStyleType=\"text/css\" height=\"271px\" preserveAspectRatio=\"none\" style=\"width:397px;height:271px;\" version=\"1.1\" viewBox=\"0 0 397 271\" width=\"397px\" zoomAndPan=\"magnify\"><defs/><g><!--MD5=[fbc87193dbaf4d95561dea2c320d4a47]\n",
       "cluster E1--><a href=\"psysml:50af7fae-c5e9-43d5-b973-e599fd0b94e5\" target=\"_top\" title=\"psysml:50af7fae-c5e9-43d5-b973-e599fd0b94e5\" xlink:actuate=\"onRequest\" xlink:href=\"psysml:50af7fae-c5e9-43d5-b973-e599fd0b94e5\" xlink:show=\"new\" xlink:title=\"psysml:50af7fae-c5e9-43d5-b973-e599fd0b94e5\" xlink:type=\"simple\"><polygon fill=\"#FFFFFF\" points=\"16,6,196,6,203,28.2969,375,28.2969,375,259,16,259,16,6\" style=\"stroke: #000000; stroke-width: 1.5;\"/><line style=\"stroke: #000000; stroke-width: 1.5;\" x1=\"16\" x2=\"203\" y1=\"28.2969\" y2=\"28.2969\"/><text fill=\"#000000\" font-family=\"sans-serif\" font-size=\"14\" font-weight=\"bold\" lengthAdjust=\"spacingAndGlyphs\" textLength=\"174\" x=\"20\" y=\"20.9951\">QualifiedNameImportTest</text></a><!--MD5=[e4f7fae6ed58524ba242bb0b0d3be6b7]\n",
       "cluster E2--><a href=\"psysml:1e9ed716-c57b-44aa-8aaa-ea3379eecc8d\" target=\"_top\" title=\"psysml:1e9ed716-c57b-44aa-8aaa-ea3379eecc8d\" xlink:actuate=\"onRequest\" xlink:href=\"psysml:1e9ed716-c57b-44aa-8aaa-ea3379eecc8d\" xlink:show=\"new\" xlink:title=\"psysml:1e9ed716-c57b-44aa-8aaa-ea3379eecc8d\" xlink:type=\"simple\"><polygon fill=\"#FFFFFF\" points=\"225,90,249,90,256,112.2969,343,112.2969,343,222,225,222,225,90\" style=\"stroke: #000000; stroke-width: 1.5;\"/><line style=\"stroke: #000000; stroke-width: 1.5;\" x1=\"225\" x2=\"256\" y1=\"112.2969\" y2=\"112.2969\"/><text fill=\"#000000\" font-family=\"sans-serif\" font-size=\"14\" font-weight=\"bold\" lengthAdjust=\"spacingAndGlyphs\" textLength=\"18\" x=\"229\" y=\"104.9951\">P1</text></a><!--MD5=[f6df4d0ebaf0b5dfb2ced0ae5af7c670]\n",
       "cluster E4--><a href=\"psysml:04b1b2f0-8c96-40bb-b2e8-2bd575969190\" target=\"_top\" title=\"psysml:04b1b2f0-8c96-40bb-b2e8-2bd575969190\" xlink:actuate=\"onRequest\" xlink:href=\"psysml:04b1b2f0-8c96-40bb-b2e8-2bd575969190\" xlink:show=\"new\" xlink:title=\"psysml:04b1b2f0-8c96-40bb-b2e8-2bd575969190\" xlink:type=\"simple\"><polygon fill=\"#FFFFFF\" points=\"40,49,64,49,71,71.2969,118,71.2969,118,235,40,235,40,49\" style=\"stroke: #000000; stroke-width: 1.5;\"/><line style=\"stroke: #000000; stroke-width: 1.5;\" x1=\"40\" x2=\"71\" y1=\"71.2969\" y2=\"71.2969\"/><text fill=\"#000000\" font-family=\"sans-serif\" font-size=\"14\" font-weight=\"bold\" lengthAdjust=\"spacingAndGlyphs\" textLength=\"18\" x=\"44\" y=\"63.9951\">P2</text></a><!--MD5=[09b614a08d8cba4a07c9adeb5e0fee81]\n",
       "class E3--><a href=\"psysml:4266c5b7-3671-4acf-aa71-02dd8d212457\" target=\"_top\" title=\"psysml:4266c5b7-3671-4acf-aa71-02dd8d212457\" xlink:actuate=\"onRequest\" xlink:href=\"psysml:4266c5b7-3671-4acf-aa71-02dd8d212457\" xlink:show=\"new\" xlink:title=\"psysml:4266c5b7-3671-4acf-aa71-02dd8d212457\" xlink:type=\"simple\"><rect fill=\"#FFFFFF\" height=\"45.9375\" id=\"E3\" style=\"stroke: #383838; stroke-width: 1.5;\" width=\"70\" x=\"249\" y=\"152\"/><text fill=\"#000000\" font-family=\"sans-serif\" font-size=\"12\" font-style=\"italic\" lengthAdjust=\"spacingAndGlyphs\" textLength=\"68\" x=\"250\" y=\"168.1387\">«part  def»</text><text fill=\"#000000\" font-family=\"sans-serif\" font-size=\"12\" lengthAdjust=\"spacingAndGlyphs\" textLength=\"8\" x=\"280\" y=\"182.1074\">A</text><line style=\"stroke: #383838; stroke-width: 1.5;\" x1=\"250\" x2=\"318\" y1=\"189.9375\" y2=\"189.9375\"/></a><!--MD5=[60a26617385b1d2d0262a64233df1f8d]\n",
       "class E6--><a href=\"psysml:d91f8c93-5cf2-41b6-a65a-d41673929b38\" target=\"_top\" title=\"psysml:d91f8c93-5cf2-41b6-a65a-d41673929b38\" xlink:actuate=\"onRequest\" xlink:href=\"psysml:d91f8c93-5cf2-41b6-a65a-d41673929b38\" xlink:show=\"new\" xlink:title=\"psysml:d91f8c93-5cf2-41b6-a65a-d41673929b38\" xlink:type=\"simple\"><rect fill=\"#FFFFFF\" height=\"45.9375\" id=\"E6\" rx=\"10\" ry=\"10\" style=\"stroke: #383838; stroke-width: 1.5;\" width=\"42\" x=\"58\" y=\"173\"/><text fill=\"#000000\" font-family=\"sans-serif\" font-size=\"12\" font-style=\"italic\" lengthAdjust=\"spacingAndGlyphs\" textLength=\"40\" x=\"59\" y=\"189.1387\">«part»</text><text fill=\"#000000\" font-family=\"sans-serif\" font-size=\"12\" lengthAdjust=\"spacingAndGlyphs\" textLength=\"22\" x=\"66\" y=\"203.1074\">x: A</text><line style=\"stroke: #383838; stroke-width: 1.5;\" x1=\"59\" x2=\"99\" y1=\"210.9375\" y2=\"210.9375\"/></a><a href=\"psysml:bb8eeef5-ab74-4ee9-8505-e654a7ee43f1\" target=\"_top\" title=\"psysml:bb8eeef5-ab74-4ee9-8505-e654a7ee43f1\" xlink:actuate=\"onRequest\" xlink:href=\"psysml:bb8eeef5-ab74-4ee9-8505-e654a7ee43f1\" xlink:show=\"new\" xlink:title=\"psysml:bb8eeef5-ab74-4ee9-8505-e654a7ee43f1\" xlink:type=\"simple\"><polygon fill=\"#FFFFFF\" points=\"56,84.5,88,84.5,95,106.7969,102,106.7969,102,137.0938,56,137.0938,56,84.5\" style=\"stroke: #000000; stroke-width: 1.5;\"/><line style=\"stroke: #000000; stroke-width: 1.5;\" x1=\"56\" x2=\"95\" y1=\"106.7969\" y2=\"106.7969\"/><text fill=\"#000000\" font-family=\"sans-serif\" font-size=\"14\" font-weight=\"bold\" lengthAdjust=\"spacingAndGlyphs\" textLength=\"26\" x=\"60\" y=\"99.4951\">P2a</text></a><!--MD5=[15ebcb19ae302d9b601edb458606d402]\n",
       "link E5 to E2--><a href=\"psysml:06c75c6a-903d-4e64-8c9a-141a01fc9647\" target=\"_top\" title=\"psysml:06c75c6a-903d-4e64-8c9a-141a01fc9647\" xlink:actuate=\"onRequest\" xlink:href=\"psysml:06c75c6a-903d-4e64-8c9a-141a01fc9647\" xlink:show=\"new\" xlink:title=\"psysml:06c75c6a-903d-4e64-8c9a-141a01fc9647\" xlink:type=\"simple\"><path d=\"M102.11,111.65 C128.005,112.415 172.23,113.7225 210.4688,114.8538 C215.2486,114.9952 219.9349,115.1338 224.4802,115.2683 \" fill=\"none\" id=\"E5-&gt;E2\" style=\"stroke: #383838; stroke-width: 1.0; stroke-dasharray: 7.0,7.0;\"/><polygon fill=\"#383838\" points=\"224.4802,115.2683,215.6024,111.0039,219.4824,115.1204,215.3658,119.0004,224.4802,115.2683\" style=\"stroke: #383838; stroke-width: 1.0;\"/><text fill=\"#000000\" font-family=\"sans-serif\" font-size=\"13\" lengthAdjust=\"spacingAndGlyphs\" textLength=\"65\" x=\"135\" y=\"109.0669\">«import»*</text></a><!--MD5=[a717450b82c80b9240a525fa862496af]\n",
       "link E6 to E3--><a href=\"psysml:2903afd1-9bf2-47a6-8d72-b5532180e7bb\" target=\"_top\" title=\"psysml:2903afd1-9bf2-47a6-8d72-b5532180e7bb\" xlink:actuate=\"onRequest\" xlink:href=\"psysml:2903afd1-9bf2-47a6-8d72-b5532180e7bb\" xlink:show=\"new\" xlink:title=\"psysml:2903afd1-9bf2-47a6-8d72-b5532180e7bb\" xlink:type=\"simple\"><path d=\"M100.21,193.91 C129.89,190.84 186.34,185 228.7,180.62 \" fill=\"none\" id=\"E6-&gt;E3\" style=\"stroke: #383838; stroke-width: 1.0;\"/><polygon fill=\"#FFFFFF\" points=\"248.76,178.54,230.5811,187.4579,229.1406,173.5322,248.76,178.54\" style=\"stroke: #383838; stroke-width: 1.0;\"/><ellipse cx=\"224.7056\" cy=\"186.0551\" fill=\"#383838\" rx=\"2\" ry=\"2\" style=\"stroke: #383838; stroke-width: 1.0;\"/><ellipse cx=\"223.6766\" cy=\"176.1082\" fill=\"#383838\" rx=\"2\" ry=\"2\" style=\"stroke: #383838; stroke-width: 1.0;\"/></a><!--MD5=[1ebee750e6d67c7b4c78d1210f61fef3]\n",
       "@startuml\r\n",
       "left to right direction\r\n",
       "skinparam monochrome true\r\n",
       "skinparam classbackgroundcolor white\r\n",
       "skinparam shadowing false\r\n",
       "skinparam wrapWidth 300\r\n",
       "hide circle\r\n",
       "\r\n",
       "package \"QualifiedNameImportTest\" as E1  [[psysml:50af7fae-c5e9-43d5-b973-e599fd0b94e5 ]]  {\r\n",
       "package \"P1\" as E2  [[psysml:1e9ed716-c57b-44aa-8aaa-ea3379eecc8d ]]  {\r\n",
       "comp def \"A\" as E3  <<(T,blue) part  def>> [[psysml:4266c5b7-3671-4acf-aa71-02dd8d212457 ]] {\r\n",
       "}\r\n",
       "}\r\n",
       "package \"P2\" as E4  [[psysml:04b1b2f0-8c96-40bb-b2e8-2bd575969190 ]]  {\r\n",
       "package \"P2a\" as E5  [[psysml:bb8eeef5-ab74-4ee9-8505-e654a7ee43f1 ]]  {\r\n",
       "}\r\n",
       "comp usage \"x: A \" as E6  <<(T,blue) part>> [[psysml:d91f8c93-5cf2-41b6-a65a-d41673929b38 ]] {\r\n",
       "}\r\n",
       "}\r\n",
       "}\r\n",
       "E5 ..> E2 [[psysml:06c75c6a-903d-4e64-8c9a-141a01fc9647 ]] : <<import>>*\r\n",
       "E6 - -:|> E3 [[psysml:2903afd1-9bf2-47a6-8d72-b5532180e7bb ]] \r\n",
       "@enduml\r\n",
       "\n",
       "PlantUML version 1.2020.13(Sat Jun 13 12:26:38 UTC 2020)\n",
       "(EPL source distribution)\n",
       "Java Runtime: OpenJDK Runtime Environment\n",
       "JVM: OpenJDK 64-Bit Server VM\n",
       "Default Encoding: UTF-8\n",
       "Language: en\n",
       "Country: null\n",
       "--></g></svg>"
      ]
     },
     "execution_count": 22,
     "metadata": {},
     "output_type": "execute_result"
    }
   ],
   "source": [
    "%viz --style=\"LR\" --view=\"MIXED\" \"QualifiedNameImportTest\""
   ]
  },
  {
   "cell_type": "code",
   "execution_count": 23,
   "id": "49572ce2",
   "metadata": {
    "execution": {
     "iopub.execute_input": "2022-04-22T09:51:23.658416Z",
     "iopub.status.busy": "2022-04-22T09:51:23.657964Z",
     "iopub.status.idle": "2022-04-22T09:51:23.693370Z",
     "shell.execute_reply": "2022-04-22T09:51:23.692983Z"
    }
   },
   "outputs": [
    {
     "data": {
      "image/svg+xml": [
       "<?xml version=\"1.0\" encoding=\"UTF-8\" standalone=\"no\"?><svg xmlns=\"http://www.w3.org/2000/svg\" xmlns:xlink=\"http://www.w3.org/1999/xlink\" contentScriptType=\"application/ecmascript\" contentStyleType=\"text/css\" height=\"367px\" preserveAspectRatio=\"none\" style=\"width:243px;height:367px;\" version=\"1.1\" viewBox=\"0 0 243 367\" width=\"243px\" zoomAndPan=\"magnify\"><defs><filter height=\"300%\" id=\"f19jdu7vh1w5d8\" width=\"300%\" x=\"-1\" y=\"-1\"><feGaussianBlur result=\"blurOut\" stdDeviation=\"2.0\"/><feColorMatrix in=\"blurOut\" result=\"blurOut2\" type=\"matrix\" values=\"0 0 0 0 0 0 0 0 0 0 0 0 0 0 0 0 0 0 .4 0\"/><feOffset dx=\"4.0\" dy=\"4.0\" in=\"blurOut2\" result=\"blurOut3\"/><feBlend in=\"SourceGraphic\" in2=\"blurOut3\" mode=\"normal\"/></filter></defs><g><!--MD5=[fbc87193dbaf4d95561dea2c320d4a47]\n",
       "cluster E1--><a href=\"psysml:50af7fae-c5e9-43d5-b973-e599fd0b94e5\" target=\"_top\" title=\"psysml:50af7fae-c5e9-43d5-b973-e599fd0b94e5\" xlink:actuate=\"onRequest\" xlink:href=\"psysml:50af7fae-c5e9-43d5-b973-e599fd0b94e5\" xlink:show=\"new\" xlink:title=\"psysml:50af7fae-c5e9-43d5-b973-e599fd0b94e5\" xlink:type=\"simple\"><polygon fill=\"#FFFFFF\" filter=\"url(#f19jdu7vh1w5d8)\" points=\"16,6,196,6,203,28.2969,219,28.2969,219,355,16,355,16,6\" style=\"stroke: #000000; stroke-width: 1.5;\"/><line style=\"stroke: #000000; stroke-width: 1.5;\" x1=\"16\" x2=\"203\" y1=\"28.2969\" y2=\"28.2969\"/><text fill=\"#000000\" font-family=\"sans-serif\" font-size=\"14\" font-weight=\"bold\" lengthAdjust=\"spacingAndGlyphs\" textLength=\"174\" x=\"20\" y=\"20.9951\">QualifiedNameImportTest</text></a><!--MD5=[e4f7fae6ed58524ba242bb0b0d3be6b7]\n",
       "cluster E2--><a href=\"psysml:1e9ed716-c57b-44aa-8aaa-ea3379eecc8d\" target=\"_top\" title=\"psysml:1e9ed716-c57b-44aa-8aaa-ea3379eecc8d\" xlink:actuate=\"onRequest\" xlink:href=\"psysml:1e9ed716-c57b-44aa-8aaa-ea3379eecc8d\" xlink:show=\"new\" xlink:title=\"psysml:1e9ed716-c57b-44aa-8aaa-ea3379eecc8d\" xlink:type=\"simple\"><polygon fill=\"#FFFFFF\" filter=\"url(#f19jdu7vh1w5d8)\" points=\"48,210,72,210,79,232.2969,185,232.2969,185,323,48,323,48,210\" style=\"stroke: #000000; stroke-width: 1.5;\"/><line style=\"stroke: #000000; stroke-width: 1.5;\" x1=\"48\" x2=\"79\" y1=\"232.2969\" y2=\"232.2969\"/><text fill=\"#000000\" font-family=\"sans-serif\" font-size=\"14\" font-weight=\"bold\" lengthAdjust=\"spacingAndGlyphs\" textLength=\"18\" x=\"52\" y=\"224.9951\">P1</text></a><!--MD5=[f6df4d0ebaf0b5dfb2ced0ae5af7c670]\n",
       "cluster E4--><a href=\"psysml:04b1b2f0-8c96-40bb-b2e8-2bd575969190\" target=\"_top\" title=\"psysml:04b1b2f0-8c96-40bb-b2e8-2bd575969190\" xlink:actuate=\"onRequest\" xlink:href=\"psysml:04b1b2f0-8c96-40bb-b2e8-2bd575969190\" xlink:show=\"new\" xlink:title=\"psysml:04b1b2f0-8c96-40bb-b2e8-2bd575969190\" xlink:type=\"simple\"><polygon fill=\"#FFFFFF\" filter=\"url(#f19jdu7vh1w5d8)\" points=\"40,49,64,49,71,71.2969,195,71.2969,195,153,40,153,40,49\" style=\"stroke: #000000; stroke-width: 1.5;\"/><line style=\"stroke: #000000; stroke-width: 1.5;\" x1=\"40\" x2=\"71\" y1=\"71.2969\" y2=\"71.2969\"/><text fill=\"#000000\" font-family=\"sans-serif\" font-size=\"14\" font-weight=\"bold\" lengthAdjust=\"spacingAndGlyphs\" textLength=\"18\" x=\"44\" y=\"63.9951\">P2</text></a><!--MD5=[09b614a08d8cba4a07c9adeb5e0fee81]\n",
       "class E3--><a href=\"psysml:4266c5b7-3671-4acf-aa71-02dd8d212457\" target=\"_top\" title=\"psysml:4266c5b7-3671-4acf-aa71-02dd8d212457\" xlink:actuate=\"onRequest\" xlink:href=\"psysml:4266c5b7-3671-4acf-aa71-02dd8d212457\" xlink:show=\"new\" xlink:title=\"psysml:4266c5b7-3671-4acf-aa71-02dd8d212457\" xlink:type=\"simple\"><rect fill=\"#FEFECE\" filter=\"url(#f19jdu7vh1w5d8)\" height=\"45.9375\" id=\"E3\" style=\"stroke: #A80036; stroke-width: 1.5;\" width=\"70\" x=\"72\" y=\"253\"/><text fill=\"#000000\" font-family=\"sans-serif\" font-size=\"12\" font-style=\"italic\" lengthAdjust=\"spacingAndGlyphs\" textLength=\"68\" x=\"73\" y=\"269.1387\">«part  def»</text><text fill=\"#000000\" font-family=\"sans-serif\" font-size=\"12\" lengthAdjust=\"spacingAndGlyphs\" textLength=\"8\" x=\"103\" y=\"283.1074\">A</text><line style=\"stroke: #A80036; stroke-width: 1.5;\" x1=\"73\" x2=\"141\" y1=\"290.9375\" y2=\"290.9375\"/></a><!--MD5=[60a26617385b1d2d0262a64233df1f8d]\n",
       "class E6--><a href=\"psysml:d91f8c93-5cf2-41b6-a65a-d41673929b38\" target=\"_top\" title=\"psysml:d91f8c93-5cf2-41b6-a65a-d41673929b38\" xlink:actuate=\"onRequest\" xlink:href=\"psysml:d91f8c93-5cf2-41b6-a65a-d41673929b38\" xlink:show=\"new\" xlink:title=\"psysml:d91f8c93-5cf2-41b6-a65a-d41673929b38\" xlink:type=\"simple\"><rect fill=\"#FEFECE\" filter=\"url(#f19jdu7vh1w5d8)\" height=\"45.9375\" id=\"E6\" rx=\"10\" ry=\"10\" style=\"stroke: #A80036; stroke-width: 1.5;\" width=\"42\" x=\"56\" y=\"87.5\"/><text fill=\"#000000\" font-family=\"sans-serif\" font-size=\"12\" font-style=\"italic\" lengthAdjust=\"spacingAndGlyphs\" textLength=\"40\" x=\"57\" y=\"103.6387\">«part»</text><text fill=\"#000000\" font-family=\"sans-serif\" font-size=\"12\" lengthAdjust=\"spacingAndGlyphs\" textLength=\"22\" x=\"64\" y=\"117.6074\">x: A</text><line style=\"stroke: #A80036; stroke-width: 1.5;\" x1=\"57\" x2=\"97\" y1=\"125.4375\" y2=\"125.4375\"/></a><a href=\"psysml:bb8eeef5-ab74-4ee9-8505-e654a7ee43f1\" target=\"_top\" title=\"psysml:bb8eeef5-ab74-4ee9-8505-e654a7ee43f1\" xlink:actuate=\"onRequest\" xlink:href=\"psysml:bb8eeef5-ab74-4ee9-8505-e654a7ee43f1\" xlink:show=\"new\" xlink:title=\"psysml:bb8eeef5-ab74-4ee9-8505-e654a7ee43f1\" xlink:type=\"simple\"><polygon fill=\"#FFFFFF\" filter=\"url(#f19jdu7vh1w5d8)\" points=\"133,84,165,84,172,106.2969,179,106.2969,179,136.5938,133,136.5938,133,84\" style=\"stroke: #000000; stroke-width: 1.5;\"/><line style=\"stroke: #000000; stroke-width: 1.5;\" x1=\"133\" x2=\"172\" y1=\"106.2969\" y2=\"106.2969\"/><text fill=\"#000000\" font-family=\"sans-serif\" font-size=\"14\" font-weight=\"bold\" lengthAdjust=\"spacingAndGlyphs\" textLength=\"26\" x=\"137\" y=\"98.9951\">P2a</text></a><!--MD5=[15ebcb19ae302d9b601edb458606d402]\n",
       "link E5 to E2--><a href=\"psysml:06c75c6a-903d-4e64-8c9a-141a01fc9647\" target=\"_top\" title=\"psysml:06c75c6a-903d-4e64-8c9a-141a01fc9647\" xlink:actuate=\"onRequest\" xlink:href=\"psysml:06c75c6a-903d-4e64-8c9a-141a01fc9647\" xlink:show=\"new\" xlink:title=\"psysml:06c75c6a-903d-4e64-8c9a-141a01fc9647\" xlink:type=\"simple\"><path d=\"M159.28,137.05 C160.735,148.365 162.5469,162.4656 164.4519,177.2955 C165.4044,184.7104 166.3802,192.3076 167.3463,199.8301 C167.5878,201.7107 167.8287,203.5867 168.0685,205.4539 C168.1884,206.3876 168.308,207.319 168.4273,208.2478 C168.4869,208.7122 168.5465,209.1759 168.6059,209.6389 \" fill=\"none\" id=\"E5-&gt;E2\" style=\"stroke: #A80036; stroke-width: 1.0; stroke-dasharray: 7.0,7.0;\"/><polygon fill=\"#A80036\" points=\"168.6059,209.6389,171.427,200.2027,167.9691,204.6796,163.4922,201.2217,168.6059,209.6389\" style=\"stroke: #A80036; stroke-width: 1.0;\"/><text fill=\"#000000\" font-family=\"sans-serif\" font-size=\"13\" lengthAdjust=\"spacingAndGlyphs\" textLength=\"65\" x=\"166\" y=\"182.0669\">«import»*</text></a><!--MD5=[a717450b82c80b9240a525fa862496af]\n",
       "link E6 to E3--><a href=\"psysml:2903afd1-9bf2-47a6-8d72-b5532180e7bb\" target=\"_top\" title=\"psysml:2903afd1-9bf2-47a6-8d72-b5532180e7bb\" xlink:actuate=\"onRequest\" xlink:href=\"psysml:2903afd1-9bf2-47a6-8d72-b5532180e7bb\" xlink:show=\"new\" xlink:title=\"psysml:2903afd1-9bf2-47a6-8d72-b5532180e7bb\" xlink:type=\"simple\"><path d=\"M81.05,133.55 C85.7,158.9 93.44,201.1 99.26,232.83 \" fill=\"none\" id=\"E6-&gt;E3\" style=\"stroke: #A80036; stroke-width: 1.0;\"/><polygon fill=\"#FFFFFF\" points=\"102.92,252.78,92.6018,235.3578,106.3713,232.8278,102.92,252.78\" style=\"stroke: #A80036; stroke-width: 1.0;\"/><ellipse cx=\"93.5388\" cy=\"229.3902\" fill=\"#A80036\" rx=\"2\" ry=\"2\" style=\"stroke: #A80036; stroke-width: 1.0;\"/><ellipse cx=\"103.3742\" cy=\"227.5831\" fill=\"#A80036\" rx=\"2\" ry=\"2\" style=\"stroke: #A80036; stroke-width: 1.0;\"/></a><!--MD5=[8a8ca58b716e929bf25206cfca16226b]\n",
       "@startuml\r\n",
       "skinparam wrapWidth 300\r\n",
       "hide circle\r\n",
       "\r\n",
       "package \"QualifiedNameImportTest\" as E1  [[psysml:50af7fae-c5e9-43d5-b973-e599fd0b94e5 ]]  {\r\n",
       "package \"P1\" as E2  [[psysml:1e9ed716-c57b-44aa-8aaa-ea3379eecc8d ]]  {\r\n",
       "comp def \"A\" as E3  <<(T,blue) part  def>> [[psysml:4266c5b7-3671-4acf-aa71-02dd8d212457 ]] {\r\n",
       "}\r\n",
       "}\r\n",
       "package \"P2\" as E4  [[psysml:04b1b2f0-8c96-40bb-b2e8-2bd575969190 ]]  {\r\n",
       "package \"P2a\" as E5  [[psysml:bb8eeef5-ab74-4ee9-8505-e654a7ee43f1 ]]  {\r\n",
       "}\r\n",
       "comp usage \"x: A \" as E6  <<(T,blue) part>> [[psysml:d91f8c93-5cf2-41b6-a65a-d41673929b38 ]] {\r\n",
       "}\r\n",
       "}\r\n",
       "}\r\n",
       "E5 ..> E2 [[psysml:06c75c6a-903d-4e64-8c9a-141a01fc9647 ]] : <<import>>*\r\n",
       "E6 - -:|> E3 [[psysml:2903afd1-9bf2-47a6-8d72-b5532180e7bb ]] \r\n",
       "@enduml\r\n",
       "\n",
       "PlantUML version 1.2020.13(Sat Jun 13 12:26:38 UTC 2020)\n",
       "(EPL source distribution)\n",
       "Java Runtime: OpenJDK Runtime Environment\n",
       "JVM: OpenJDK 64-Bit Server VM\n",
       "Default Encoding: UTF-8\n",
       "Language: en\n",
       "Country: null\n",
       "--></g></svg>"
      ]
     },
     "execution_count": 23,
     "metadata": {},
     "output_type": "execute_result"
    }
   ],
   "source": [
    "%viz --style=\"STDCOLOR\" --view=\"Default\" \"QualifiedNameImportTest\""
   ]
  },
  {
   "cell_type": "code",
   "execution_count": 24,
   "id": "cd932e74",
   "metadata": {
    "execution": {
     "iopub.execute_input": "2022-04-22T09:51:23.743150Z",
     "iopub.status.busy": "2022-04-22T09:51:23.742676Z",
     "iopub.status.idle": "2022-04-22T09:51:23.774939Z",
     "shell.execute_reply": "2022-04-22T09:51:23.774517Z"
    }
   },
   "outputs": [
    {
     "data": {
      "image/svg+xml": [
       "<?xml version=\"1.0\" encoding=\"UTF-8\" standalone=\"no\"?><svg xmlns=\"http://www.w3.org/2000/svg\" xmlns:xlink=\"http://www.w3.org/1999/xlink\" contentScriptType=\"application/ecmascript\" contentStyleType=\"text/css\" height=\"367px\" preserveAspectRatio=\"none\" style=\"width:243px;height:367px;\" version=\"1.1\" viewBox=\"0 0 243 367\" width=\"243px\" zoomAndPan=\"magnify\"><defs><filter height=\"300%\" id=\"f19jdu7vh1w5d8\" width=\"300%\" x=\"-1\" y=\"-1\"><feGaussianBlur result=\"blurOut\" stdDeviation=\"2.0\"/><feColorMatrix in=\"blurOut\" result=\"blurOut2\" type=\"matrix\" values=\"0 0 0 0 0 0 0 0 0 0 0 0 0 0 0 0 0 0 .4 0\"/><feOffset dx=\"4.0\" dy=\"4.0\" in=\"blurOut2\" result=\"blurOut3\"/><feBlend in=\"SourceGraphic\" in2=\"blurOut3\" mode=\"normal\"/></filter></defs><g><!--MD5=[fbc87193dbaf4d95561dea2c320d4a47]\n",
       "cluster E1--><a href=\"psysml:50af7fae-c5e9-43d5-b973-e599fd0b94e5\" target=\"_top\" title=\"psysml:50af7fae-c5e9-43d5-b973-e599fd0b94e5\" xlink:actuate=\"onRequest\" xlink:href=\"psysml:50af7fae-c5e9-43d5-b973-e599fd0b94e5\" xlink:show=\"new\" xlink:title=\"psysml:50af7fae-c5e9-43d5-b973-e599fd0b94e5\" xlink:type=\"simple\"><polygon fill=\"#FFFFFF\" filter=\"url(#f19jdu7vh1w5d8)\" points=\"16,6,196,6,203,28.2969,219,28.2969,219,355,16,355,16,6\" style=\"stroke: #000000; stroke-width: 1.5;\"/><line style=\"stroke: #000000; stroke-width: 1.5;\" x1=\"16\" x2=\"203\" y1=\"28.2969\" y2=\"28.2969\"/><text fill=\"#000000\" font-family=\"sans-serif\" font-size=\"14\" font-weight=\"bold\" lengthAdjust=\"spacingAndGlyphs\" textLength=\"174\" x=\"20\" y=\"20.9951\">QualifiedNameImportTest</text></a><!--MD5=[e4f7fae6ed58524ba242bb0b0d3be6b7]\n",
       "cluster E2--><a href=\"psysml:1e9ed716-c57b-44aa-8aaa-ea3379eecc8d\" target=\"_top\" title=\"psysml:1e9ed716-c57b-44aa-8aaa-ea3379eecc8d\" xlink:actuate=\"onRequest\" xlink:href=\"psysml:1e9ed716-c57b-44aa-8aaa-ea3379eecc8d\" xlink:show=\"new\" xlink:title=\"psysml:1e9ed716-c57b-44aa-8aaa-ea3379eecc8d\" xlink:type=\"simple\"><polygon fill=\"#FFFFFF\" filter=\"url(#f19jdu7vh1w5d8)\" points=\"48,210,72,210,79,232.2969,185,232.2969,185,323,48,323,48,210\" style=\"stroke: #000000; stroke-width: 1.5;\"/><line style=\"stroke: #000000; stroke-width: 1.5;\" x1=\"48\" x2=\"79\" y1=\"232.2969\" y2=\"232.2969\"/><text fill=\"#000000\" font-family=\"sans-serif\" font-size=\"14\" font-weight=\"bold\" lengthAdjust=\"spacingAndGlyphs\" textLength=\"18\" x=\"52\" y=\"224.9951\">P1</text></a><!--MD5=[f6df4d0ebaf0b5dfb2ced0ae5af7c670]\n",
       "cluster E4--><a href=\"psysml:04b1b2f0-8c96-40bb-b2e8-2bd575969190\" target=\"_top\" title=\"psysml:04b1b2f0-8c96-40bb-b2e8-2bd575969190\" xlink:actuate=\"onRequest\" xlink:href=\"psysml:04b1b2f0-8c96-40bb-b2e8-2bd575969190\" xlink:show=\"new\" xlink:title=\"psysml:04b1b2f0-8c96-40bb-b2e8-2bd575969190\" xlink:type=\"simple\"><polygon fill=\"#FFFFFF\" filter=\"url(#f19jdu7vh1w5d8)\" points=\"40,49,64,49,71,71.2969,195,71.2969,195,153,40,153,40,49\" style=\"stroke: #000000; stroke-width: 1.5;\"/><line style=\"stroke: #000000; stroke-width: 1.5;\" x1=\"40\" x2=\"71\" y1=\"71.2969\" y2=\"71.2969\"/><text fill=\"#000000\" font-family=\"sans-serif\" font-size=\"14\" font-weight=\"bold\" lengthAdjust=\"spacingAndGlyphs\" textLength=\"18\" x=\"44\" y=\"63.9951\">P2</text></a><!--MD5=[09b614a08d8cba4a07c9adeb5e0fee81]\n",
       "class E3--><a href=\"psysml:4266c5b7-3671-4acf-aa71-02dd8d212457\" target=\"_top\" title=\"psysml:4266c5b7-3671-4acf-aa71-02dd8d212457\" xlink:actuate=\"onRequest\" xlink:href=\"psysml:4266c5b7-3671-4acf-aa71-02dd8d212457\" xlink:show=\"new\" xlink:title=\"psysml:4266c5b7-3671-4acf-aa71-02dd8d212457\" xlink:type=\"simple\"><rect fill=\"#FEFECE\" filter=\"url(#f19jdu7vh1w5d8)\" height=\"45.9375\" id=\"E3\" style=\"stroke: #A80036; stroke-width: 1.5;\" width=\"70\" x=\"72\" y=\"253\"/><text fill=\"#000000\" font-family=\"sans-serif\" font-size=\"12\" font-style=\"italic\" lengthAdjust=\"spacingAndGlyphs\" textLength=\"68\" x=\"73\" y=\"269.1387\">«part  def»</text><text fill=\"#000000\" font-family=\"sans-serif\" font-size=\"12\" lengthAdjust=\"spacingAndGlyphs\" textLength=\"8\" x=\"103\" y=\"283.1074\">A</text><line style=\"stroke: #A80036; stroke-width: 1.5;\" x1=\"73\" x2=\"141\" y1=\"290.9375\" y2=\"290.9375\"/></a><!--MD5=[60a26617385b1d2d0262a64233df1f8d]\n",
       "class E6--><a href=\"psysml:d91f8c93-5cf2-41b6-a65a-d41673929b38\" target=\"_top\" title=\"psysml:d91f8c93-5cf2-41b6-a65a-d41673929b38\" xlink:actuate=\"onRequest\" xlink:href=\"psysml:d91f8c93-5cf2-41b6-a65a-d41673929b38\" xlink:show=\"new\" xlink:title=\"psysml:d91f8c93-5cf2-41b6-a65a-d41673929b38\" xlink:type=\"simple\"><rect fill=\"#FEFECE\" filter=\"url(#f19jdu7vh1w5d8)\" height=\"45.9375\" id=\"E6\" rx=\"10\" ry=\"10\" style=\"stroke: #A80036; stroke-width: 1.5;\" width=\"42\" x=\"56\" y=\"87.5\"/><text fill=\"#000000\" font-family=\"sans-serif\" font-size=\"12\" font-style=\"italic\" lengthAdjust=\"spacingAndGlyphs\" textLength=\"40\" x=\"57\" y=\"103.6387\">«part»</text><text fill=\"#000000\" font-family=\"sans-serif\" font-size=\"12\" lengthAdjust=\"spacingAndGlyphs\" textLength=\"22\" x=\"64\" y=\"117.6074\">x: A</text><line style=\"stroke: #A80036; stroke-width: 1.5;\" x1=\"57\" x2=\"97\" y1=\"125.4375\" y2=\"125.4375\"/></a><a href=\"psysml:bb8eeef5-ab74-4ee9-8505-e654a7ee43f1\" target=\"_top\" title=\"psysml:bb8eeef5-ab74-4ee9-8505-e654a7ee43f1\" xlink:actuate=\"onRequest\" xlink:href=\"psysml:bb8eeef5-ab74-4ee9-8505-e654a7ee43f1\" xlink:show=\"new\" xlink:title=\"psysml:bb8eeef5-ab74-4ee9-8505-e654a7ee43f1\" xlink:type=\"simple\"><polygon fill=\"#FFFFFF\" filter=\"url(#f19jdu7vh1w5d8)\" points=\"133,84,165,84,172,106.2969,179,106.2969,179,136.5938,133,136.5938,133,84\" style=\"stroke: #000000; stroke-width: 1.5;\"/><line style=\"stroke: #000000; stroke-width: 1.5;\" x1=\"133\" x2=\"172\" y1=\"106.2969\" y2=\"106.2969\"/><text fill=\"#000000\" font-family=\"sans-serif\" font-size=\"14\" font-weight=\"bold\" lengthAdjust=\"spacingAndGlyphs\" textLength=\"26\" x=\"137\" y=\"98.9951\">P2a</text></a><!--MD5=[15ebcb19ae302d9b601edb458606d402]\n",
       "link E5 to E2--><a href=\"psysml:06c75c6a-903d-4e64-8c9a-141a01fc9647\" target=\"_top\" title=\"psysml:06c75c6a-903d-4e64-8c9a-141a01fc9647\" xlink:actuate=\"onRequest\" xlink:href=\"psysml:06c75c6a-903d-4e64-8c9a-141a01fc9647\" xlink:show=\"new\" xlink:title=\"psysml:06c75c6a-903d-4e64-8c9a-141a01fc9647\" xlink:type=\"simple\"><path d=\"M159.28,137.05 C160.735,148.365 162.5469,162.4656 164.4519,177.2955 C165.4044,184.7104 166.3802,192.3076 167.3463,199.8301 C167.5878,201.7107 167.8287,203.5867 168.0685,205.4539 C168.1884,206.3876 168.308,207.319 168.4273,208.2478 C168.4869,208.7122 168.5465,209.1759 168.6059,209.6389 \" fill=\"none\" id=\"E5-&gt;E2\" style=\"stroke: #A80036; stroke-width: 1.0; stroke-dasharray: 7.0,7.0;\"/><polygon fill=\"#A80036\" points=\"168.6059,209.6389,171.427,200.2027,167.9691,204.6796,163.4922,201.2217,168.6059,209.6389\" style=\"stroke: #A80036; stroke-width: 1.0;\"/><text fill=\"#000000\" font-family=\"sans-serif\" font-size=\"13\" lengthAdjust=\"spacingAndGlyphs\" textLength=\"65\" x=\"166\" y=\"182.0669\">«import»*</text></a><!--MD5=[a717450b82c80b9240a525fa862496af]\n",
       "link E6 to E3--><a href=\"psysml:2903afd1-9bf2-47a6-8d72-b5532180e7bb\" target=\"_top\" title=\"psysml:2903afd1-9bf2-47a6-8d72-b5532180e7bb\" xlink:actuate=\"onRequest\" xlink:href=\"psysml:2903afd1-9bf2-47a6-8d72-b5532180e7bb\" xlink:show=\"new\" xlink:title=\"psysml:2903afd1-9bf2-47a6-8d72-b5532180e7bb\" xlink:type=\"simple\"><path d=\"M81.05,133.55 C85.7,158.9 93.44,201.1 99.26,232.83 \" fill=\"none\" id=\"E6-&gt;E3\" style=\"stroke: #A80036; stroke-width: 1.0;\"/><polygon fill=\"#FFFFFF\" points=\"102.92,252.78,92.6018,235.3578,106.3713,232.8278,102.92,252.78\" style=\"stroke: #A80036; stroke-width: 1.0;\"/><ellipse cx=\"93.5388\" cy=\"229.3902\" fill=\"#A80036\" rx=\"2\" ry=\"2\" style=\"stroke: #A80036; stroke-width: 1.0;\"/><ellipse cx=\"103.3742\" cy=\"227.5831\" fill=\"#A80036\" rx=\"2\" ry=\"2\" style=\"stroke: #A80036; stroke-width: 1.0;\"/></a><!--MD5=[8a8ca58b716e929bf25206cfca16226b]\n",
       "@startuml\r\n",
       "skinparam wrapWidth 300\r\n",
       "hide circle\r\n",
       "\r\n",
       "package \"QualifiedNameImportTest\" as E1  [[psysml:50af7fae-c5e9-43d5-b973-e599fd0b94e5 ]]  {\r\n",
       "package \"P1\" as E2  [[psysml:1e9ed716-c57b-44aa-8aaa-ea3379eecc8d ]]  {\r\n",
       "comp def \"A\" as E3  <<(T,blue) part  def>> [[psysml:4266c5b7-3671-4acf-aa71-02dd8d212457 ]] {\r\n",
       "}\r\n",
       "}\r\n",
       "package \"P2\" as E4  [[psysml:04b1b2f0-8c96-40bb-b2e8-2bd575969190 ]]  {\r\n",
       "package \"P2a\" as E5  [[psysml:bb8eeef5-ab74-4ee9-8505-e654a7ee43f1 ]]  {\r\n",
       "}\r\n",
       "comp usage \"x: A \" as E6  <<(T,blue) part>> [[psysml:d91f8c93-5cf2-41b6-a65a-d41673929b38 ]] {\r\n",
       "}\r\n",
       "}\r\n",
       "}\r\n",
       "E5 ..> E2 [[psysml:06c75c6a-903d-4e64-8c9a-141a01fc9647 ]] : <<import>>*\r\n",
       "E6 - -:|> E3 [[psysml:2903afd1-9bf2-47a6-8d72-b5532180e7bb ]] \r\n",
       "@enduml\r\n",
       "\n",
       "PlantUML version 1.2020.13(Sat Jun 13 12:26:38 UTC 2020)\n",
       "(EPL source distribution)\n",
       "Java Runtime: OpenJDK Runtime Environment\n",
       "JVM: OpenJDK 64-Bit Server VM\n",
       "Default Encoding: UTF-8\n",
       "Language: en\n",
       "Country: null\n",
       "--></g></svg>"
      ]
     },
     "execution_count": 24,
     "metadata": {},
     "output_type": "execute_result"
    }
   ],
   "source": [
    "%viz --style=\"STDCOLOR\" --view=\"Tree\" \"QualifiedNameImportTest\""
   ]
  },
  {
   "cell_type": "code",
   "execution_count": 25,
   "id": "4e33185a",
   "metadata": {
    "execution": {
     "iopub.execute_input": "2022-04-22T09:51:23.824189Z",
     "iopub.status.busy": "2022-04-22T09:51:23.823773Z",
     "iopub.status.idle": "2022-04-22T09:51:23.828384Z",
     "shell.execute_reply": "2022-04-22T09:51:23.828717Z"
    }
   },
   "outputs": [
    {
     "data": {
      "image/svg+xml": [
       "<?xml version=\"1.0\" encoding=\"UTF-8\" standalone=\"no\"?><svg xmlns=\"http://www.w3.org/2000/svg\" xmlns:xlink=\"http://www.w3.org/1999/xlink\" contentScriptType=\"application/ecmascript\" contentStyleType=\"text/css\" height=\"12px\" preserveAspectRatio=\"none\" style=\"width:12px;height:12px;\" version=\"1.1\" viewBox=\"0 0 12 12\" width=\"12px\" zoomAndPan=\"magnify\"><defs/><g><!--MD5=[aeeef50f102b80d730deb6443d14f702]\n",
       "@startuml\r\n",
       "skinparam wrapWidth 300\r\n",
       "hide circle\r\n",
       "\r\n",
       "@enduml\r\n",
       "\n",
       "PlantUML version 1.2020.13(Sat Jun 13 12:26:38 UTC 2020)\n",
       "(EPL source distribution)\n",
       "Java Runtime: OpenJDK Runtime Environment\n",
       "JVM: OpenJDK 64-Bit Server VM\n",
       "Default Encoding: UTF-8\n",
       "Language: en\n",
       "Country: null\n",
       "--></g></svg>"
      ]
     },
     "execution_count": 25,
     "metadata": {},
     "output_type": "execute_result"
    }
   ],
   "source": [
    "%viz --style=\"STDCOLOR\" --view=\"State\" \"QualifiedNameImportTest\""
   ]
  },
  {
   "cell_type": "code",
   "execution_count": 26,
   "id": "a96c3a23",
   "metadata": {
    "execution": {
     "iopub.execute_input": "2022-04-22T09:51:23.878844Z",
     "iopub.status.busy": "2022-04-22T09:51:23.878421Z",
     "iopub.status.idle": "2022-04-22T09:51:23.908439Z",
     "shell.execute_reply": "2022-04-22T09:51:23.908071Z"
    }
   },
   "outputs": [
    {
     "data": {
      "image/svg+xml": [
       "<?xml version=\"1.0\" encoding=\"UTF-8\" standalone=\"no\"?><svg xmlns=\"http://www.w3.org/2000/svg\" xmlns:xlink=\"http://www.w3.org/1999/xlink\" contentScriptType=\"application/ecmascript\" contentStyleType=\"text/css\" height=\"364px\" preserveAspectRatio=\"none\" style=\"width:249px;height:364px;\" version=\"1.1\" viewBox=\"0 0 249 364\" width=\"249px\" zoomAndPan=\"magnify\"><defs><filter height=\"300%\" id=\"f1kxgptx9xsqtb\" width=\"300%\" x=\"-1\" y=\"-1\"><feGaussianBlur result=\"blurOut\" stdDeviation=\"2.0\"/><feColorMatrix in=\"blurOut\" result=\"blurOut2\" type=\"matrix\" values=\"0 0 0 0 0 0 0 0 0 0 0 0 0 0 0 0 0 0 .4 0\"/><feOffset dx=\"4.0\" dy=\"4.0\" in=\"blurOut2\" result=\"blurOut3\"/><feBlend in=\"SourceGraphic\" in2=\"blurOut3\" mode=\"normal\"/></filter></defs><g><!--MD5=[fbc87193dbaf4d95561dea2c320d4a47]\n",
       "cluster E1--><a href=\"psysml:50af7fae-c5e9-43d5-b973-e599fd0b94e5\" target=\"_top\" title=\"psysml:50af7fae-c5e9-43d5-b973-e599fd0b94e5\" xlink:actuate=\"onRequest\" xlink:href=\"psysml:50af7fae-c5e9-43d5-b973-e599fd0b94e5\" xlink:show=\"new\" xlink:title=\"psysml:50af7fae-c5e9-43d5-b973-e599fd0b94e5\" xlink:type=\"simple\"><polygon fill=\"#FFFFFF\" filter=\"url(#f1kxgptx9xsqtb)\" points=\"16,6,196,6,203,28.2969,227,28.2969,227,352,16,352,16,6\" style=\"stroke: #000000; stroke-width: 1.5;\"/><line style=\"stroke: #000000; stroke-width: 1.5;\" x1=\"16\" x2=\"203\" y1=\"28.2969\" y2=\"28.2969\"/><text fill=\"#000000\" font-family=\"sans-serif\" font-size=\"14\" font-weight=\"bold\" lengthAdjust=\"spacingAndGlyphs\" textLength=\"174\" x=\"20\" y=\"20.9951\">QualifiedNameImportTest</text></a><!--MD5=[e4f7fae6ed58524ba242bb0b0d3be6b7]\n",
       "cluster E2--><a href=\"psysml:1e9ed716-c57b-44aa-8aaa-ea3379eecc8d\" target=\"_top\" title=\"psysml:1e9ed716-c57b-44aa-8aaa-ea3379eecc8d\" xlink:actuate=\"onRequest\" xlink:href=\"psysml:1e9ed716-c57b-44aa-8aaa-ea3379eecc8d\" xlink:show=\"new\" xlink:title=\"psysml:1e9ed716-c57b-44aa-8aaa-ea3379eecc8d\" xlink:type=\"simple\"><polygon fill=\"#FFFFFF\" filter=\"url(#f1kxgptx9xsqtb)\" points=\"53,210,77,210,84,232.2969,195,232.2969,195,320,53,320,53,210\" style=\"stroke: #000000; stroke-width: 1.5;\"/><line style=\"stroke: #000000; stroke-width: 1.5;\" x1=\"53\" x2=\"84\" y1=\"232.2969\" y2=\"232.2969\"/><text fill=\"#000000\" font-family=\"sans-serif\" font-size=\"14\" font-weight=\"bold\" lengthAdjust=\"spacingAndGlyphs\" textLength=\"18\" x=\"57\" y=\"224.9951\">P1</text></a><!--MD5=[f6df4d0ebaf0b5dfb2ced0ae5af7c670]\n",
       "cluster E4--><a href=\"psysml:04b1b2f0-8c96-40bb-b2e8-2bd575969190\" target=\"_top\" title=\"psysml:04b1b2f0-8c96-40bb-b2e8-2bd575969190\" xlink:actuate=\"onRequest\" xlink:href=\"psysml:04b1b2f0-8c96-40bb-b2e8-2bd575969190\" xlink:show=\"new\" xlink:title=\"psysml:04b1b2f0-8c96-40bb-b2e8-2bd575969190\" xlink:type=\"simple\"><polygon fill=\"#FFFFFF\" filter=\"url(#f1kxgptx9xsqtb)\" points=\"40,49,64,49,71,71.2969,203,71.2969,203,153,40,153,40,49\" style=\"stroke: #000000; stroke-width: 1.5;\"/><line style=\"stroke: #000000; stroke-width: 1.5;\" x1=\"40\" x2=\"71\" y1=\"71.2969\" y2=\"71.2969\"/><text fill=\"#000000\" font-family=\"sans-serif\" font-size=\"14\" font-weight=\"bold\" lengthAdjust=\"spacingAndGlyphs\" textLength=\"18\" x=\"44\" y=\"63.9951\">P2</text></a><g id=\"E1.E2.E3\"><a href=\"psysml:4266c5b7-3671-4acf-aa71-02dd8d212457\" target=\"_top\" title=\"psysml:4266c5b7-3671-4acf-aa71-02dd8d212457\" xlink:actuate=\"onRequest\" xlink:href=\"psysml:4266c5b7-3671-4acf-aa71-02dd8d212457\" xlink:show=\"new\" xlink:title=\"psysml:4266c5b7-3671-4acf-aa71-02dd8d212457\" xlink:type=\"simple\"><rect fill=\"#FEFECE\" filter=\"url(#f1kxgptx9xsqtb)\" height=\"42.9375\" id=\"E3\" style=\"stroke: #A80036; stroke-width: 1.5;\" width=\"75\" x=\"96.5\" y=\"253\"/><text fill=\"#000000\" font-family=\"sans-serif\" font-size=\"12\" font-style=\"italic\" lengthAdjust=\"spacingAndGlyphs\" textLength=\"68\" x=\"100\" y=\"269.1387\">«part  def»</text><text fill=\"#000000\" font-family=\"sans-serif\" font-size=\"12\" lengthAdjust=\"spacingAndGlyphs\" textLength=\"8\" x=\"130\" y=\"283.1074\">A</text></a></g><a href=\"psysml:bb8eeef5-ab74-4ee9-8505-e654a7ee43f1\" target=\"_top\" title=\"psysml:bb8eeef5-ab74-4ee9-8505-e654a7ee43f1\" xlink:actuate=\"onRequest\" xlink:href=\"psysml:bb8eeef5-ab74-4ee9-8505-e654a7ee43f1\" xlink:show=\"new\" xlink:title=\"psysml:bb8eeef5-ab74-4ee9-8505-e654a7ee43f1\" xlink:type=\"simple\"><polygon fill=\"#FFFFFF\" filter=\"url(#f1kxgptx9xsqtb)\" points=\"56,84,88,84,95,106.2969,102,106.2969,102,136.5938,56,136.5938,56,84\" style=\"stroke: #000000; stroke-width: 1.5;\"/><line style=\"stroke: #000000; stroke-width: 1.5;\" x1=\"56\" x2=\"95\" y1=\"106.2969\" y2=\"106.2969\"/><text fill=\"#000000\" font-family=\"sans-serif\" font-size=\"14\" font-weight=\"bold\" lengthAdjust=\"spacingAndGlyphs\" textLength=\"26\" x=\"60\" y=\"98.9951\">P2a</text></a><g id=\"E1.E4.E6\"><a href=\"psysml:d91f8c93-5cf2-41b6-a65a-d41673929b38\" target=\"_top\" title=\"psysml:d91f8c93-5cf2-41b6-a65a-d41673929b38\" xlink:actuate=\"onRequest\" xlink:href=\"psysml:d91f8c93-5cf2-41b6-a65a-d41673929b38\" xlink:show=\"new\" xlink:title=\"psysml:d91f8c93-5cf2-41b6-a65a-d41673929b38\" xlink:type=\"simple\"><rect fill=\"#FEFECE\" filter=\"url(#f1kxgptx9xsqtb)\" height=\"40\" id=\"E6\" rx=\"10\" ry=\"10\" style=\"stroke: #A80036; stroke-width: 1.5;\" width=\"50\" x=\"137\" y=\"90.5\"/><text fill=\"#000000\" font-family=\"sans-serif\" font-size=\"12\" lengthAdjust=\"spacingAndGlyphs\" textLength=\"22\" x=\"151\" y=\"106.6387\">x: A</text></a></g><!--MD5=[15ebcb19ae302d9b601edb458606d402]\n",
       "link E5 to E2--><a href=\"psysml:06c75c6a-903d-4e64-8c9a-141a01fc9647\" target=\"_top\" title=\"psysml:06c75c6a-903d-4e64-8c9a-141a01fc9647\" xlink:actuate=\"onRequest\" xlink:href=\"psysml:06c75c6a-903d-4e64-8c9a-141a01fc9647\" xlink:show=\"new\" xlink:title=\"psysml:06c75c6a-903d-4e64-8c9a-141a01fc9647\" xlink:type=\"simple\"><path d=\"M76.15,137.17 C74.9,148.4125 73.3475,162.3781 71.7172,177.0456 C70.902,184.3794 70.0674,191.8886 69.2414,199.3206 C69.035,201.1786 68.829,203.0318 68.624,204.8762 C68.5215,205.7984 68.4193,206.7184 68.3173,207.6358 C68.2664,208.0944 68.2155,208.5524 68.1647,209.0097 C68.1393,209.2383 68.1139,209.4668 68.0885,209.695 \" fill=\"none\" id=\"E5-&gt;E2\" style=\"stroke: #A80036; stroke-width: 1.0; stroke-dasharray: 7.0,7.0;\"/><polygon fill=\"#A80036\" points=\"68.0885,209.695,73.0581,201.1919,68.6408,204.7256,65.107,200.3083,68.0885,209.695\" style=\"stroke: #A80036; stroke-width: 1.0;\"/><text fill=\"#000000\" font-family=\"sans-serif\" font-size=\"13\" lengthAdjust=\"spacingAndGlyphs\" textLength=\"65\" x=\"73\" y=\"182.0669\">«import»*</text></a><!--MD5=[a717450b82c80b9240a525fa862496af]\n",
       "link E6 to E3--><a href=\"psysml:2903afd1-9bf2-47a6-8d72-b5532180e7bb\" target=\"_top\" title=\"psysml:2903afd1-9bf2-47a6-8d72-b5532180e7bb\" xlink:actuate=\"onRequest\" xlink:href=\"psysml:2903afd1-9bf2-47a6-8d72-b5532180e7bb\" xlink:show=\"new\" xlink:title=\"psysml:2903afd1-9bf2-47a6-8d72-b5532180e7bb\" xlink:type=\"simple\"><path d=\"M158.68,130.72 C154.35,155.76 146.67,200.21 141.02,232.87 \" fill=\"none\" id=\"E6-&gt;E3\" style=\"stroke: #A80036; stroke-width: 1.0;\"/><polygon fill=\"#FFFFFF\" points=\"137.58,252.77,133.925,232.8542,147.7196,235.2432,137.58,252.77\" style=\"stroke: #A80036; stroke-width: 1.0;\"/><ellipse cx=\"136.8683\" cy=\"227.5791\" fill=\"#A80036\" rx=\"2\" ry=\"2\" style=\"stroke: #A80036; stroke-width: 1.0;\"/><ellipse cx=\"146.7217\" cy=\"229.2855\" fill=\"#A80036\" rx=\"2\" ry=\"2\" style=\"stroke: #A80036; stroke-width: 1.0;\"/></a><!--MD5=[d8101987d95669481f3079d498696d45]\n",
       "@startuml\r\n",
       "skinparam ranksep 10\r\n",
       "skinparam rectangle {\r\n",
       " backgroundColor<<block>> LightGreen\r\n",
       "}\r\n",
       "skinparam wrapWidth 300\r\n",
       "hide circle\r\n",
       "\r\n",
       "package \"QualifiedNameImportTest\" as E1  [[psysml:50af7fae-c5e9-43d5-b973-e599fd0b94e5 ]]  {\r\n",
       "package \"P1\" as E2  [[psysml:1e9ed716-c57b-44aa-8aaa-ea3379eecc8d ]]  {\r\n",
       "rec def \"A\" as E3  <<(T,blue) part  def>> [[psysml:4266c5b7-3671-4acf-aa71-02dd8d212457 ]] {\r\n",
       "}\r\n",
       "}\r\n",
       "package \"P2\" as E4  [[psysml:04b1b2f0-8c96-40bb-b2e8-2bd575969190 ]]  {\r\n",
       "package \"P2a\" as E5  [[psysml:bb8eeef5-ab74-4ee9-8505-e654a7ee43f1 ]]  {\r\n",
       "}\r\n",
       "rec usage \"x: A\" as E6  [[psysml:d91f8c93-5cf2-41b6-a65a-d41673929b38 ]] {\r\n",
       "}\r\n",
       "}\r\n",
       "}\r\n",
       "E5 ..> E2 [[psysml:06c75c6a-903d-4e64-8c9a-141a01fc9647 ]] : <<import>>*\r\n",
       "E6 - -:|> E3 [[psysml:2903afd1-9bf2-47a6-8d72-b5532180e7bb ]] \r\n",
       "@enduml\r\n",
       "\n",
       "PlantUML version 1.2020.13(Sat Jun 13 12:26:38 UTC 2020)\n",
       "(EPL source distribution)\n",
       "Java Runtime: OpenJDK Runtime Environment\n",
       "JVM: OpenJDK 64-Bit Server VM\n",
       "Default Encoding: UTF-8\n",
       "Language: en\n",
       "Country: null\n",
       "--></g></svg>"
      ]
     },
     "execution_count": 26,
     "metadata": {},
     "output_type": "execute_result"
    }
   ],
   "source": [
    "%viz --style=\"STDCOLOR\" --view=\"Interconnection\" \"QualifiedNameImportTest\""
   ]
  },
  {
   "cell_type": "code",
   "execution_count": 27,
   "id": "4aaf4717",
   "metadata": {
    "execution": {
     "iopub.execute_input": "2022-04-22T09:51:23.958030Z",
     "iopub.status.busy": "2022-04-22T09:51:23.957615Z",
     "iopub.status.idle": "2022-04-22T09:51:23.962981Z",
     "shell.execute_reply": "2022-04-22T09:51:23.962650Z"
    }
   },
   "outputs": [
    {
     "data": {
      "image/svg+xml": [
       "<?xml version=\"1.0\" encoding=\"UTF-8\" standalone=\"no\"?><svg xmlns=\"http://www.w3.org/2000/svg\" xmlns:xlink=\"http://www.w3.org/1999/xlink\" contentScriptType=\"application/ecmascript\" contentStyleType=\"text/css\" height=\"12px\" preserveAspectRatio=\"none\" style=\"width:12px;height:12px;\" version=\"1.1\" viewBox=\"0 0 12 12\" width=\"12px\" zoomAndPan=\"magnify\"><defs/><g><!--MD5=[9863325348a96a77dacc89509d8ee65e]\n",
       "@startuml\r\n",
       "skinparam ranksep 8\r\n",
       "skinparam wrapWidth 300\r\n",
       "hide circle\r\n",
       "\r\n",
       "@enduml\r\n",
       "\n",
       "PlantUML version 1.2020.13(Sat Jun 13 12:26:38 UTC 2020)\n",
       "(EPL source distribution)\n",
       "Java Runtime: OpenJDK Runtime Environment\n",
       "JVM: OpenJDK 64-Bit Server VM\n",
       "Default Encoding: UTF-8\n",
       "Language: en\n",
       "Country: null\n",
       "--></g></svg>"
      ]
     },
     "execution_count": 27,
     "metadata": {},
     "output_type": "execute_result"
    }
   ],
   "source": [
    "%viz --style=\"STDCOLOR\" --view=\"Action\" \"QualifiedNameImportTest\""
   ]
  },
  {
   "cell_type": "code",
   "execution_count": 28,
   "id": "7b266ffc",
   "metadata": {
    "execution": {
     "iopub.execute_input": "2022-04-22T09:51:24.013203Z",
     "iopub.status.busy": "2022-04-22T09:51:24.012734Z",
     "iopub.status.idle": "2022-04-22T09:51:24.018424Z",
     "shell.execute_reply": "2022-04-22T09:51:24.018737Z"
    }
   },
   "outputs": [
    {
     "data": {
      "image/svg+xml": [
       "<?xml version=\"1.0\" encoding=\"UTF-8\" standalone=\"no\"?><svg xmlns=\"http://www.w3.org/2000/svg\" xmlns:xlink=\"http://www.w3.org/1999/xlink\" contentScriptType=\"application/ecmascript\" contentStyleType=\"text/css\" height=\"12px\" preserveAspectRatio=\"none\" style=\"width:12px;height:12px;\" version=\"1.1\" viewBox=\"0 0 12 12\" width=\"12px\" zoomAndPan=\"magnify\"><defs/><g><!--MD5=[6c4bca67b4d71758159a5a7f1f1e1fc2]\n",
       "@startuml\r\n",
       "skinparam roundcorner 20\r\n",
       "skinparam BoxPadding 20\r\n",
       "skinparam SequenceBoxBackgroundColor #white\r\n",
       "skinparam style strictuml\r\n",
       "skinparam maxMessageSize 100\r\n",
       "skinparam wrapWidth 300\r\n",
       "hide circle\r\n",
       "\r\n",
       "@enduml\r\n",
       "\n",
       "PlantUML version 1.2020.13(Sat Jun 13 12:26:38 UTC 2020)\n",
       "(EPL source distribution)\n",
       "Java Runtime: OpenJDK Runtime Environment\n",
       "JVM: OpenJDK 64-Bit Server VM\n",
       "Default Encoding: UTF-8\n",
       "Language: en\n",
       "Country: null\n",
       "--></g></svg>"
      ]
     },
     "execution_count": 28,
     "metadata": {},
     "output_type": "execute_result"
    }
   ],
   "source": [
    "%viz --style=\"STDCOLOR\" --view=\"Sequence\" \"QualifiedNameImportTest\""
   ]
  },
  {
   "cell_type": "code",
   "execution_count": 29,
   "id": "a453fa29",
   "metadata": {
    "execution": {
     "iopub.execute_input": "2022-04-22T09:51:24.068910Z",
     "iopub.status.busy": "2022-04-22T09:51:24.068510Z",
     "iopub.status.idle": "2022-04-22T09:51:24.099083Z",
     "shell.execute_reply": "2022-04-22T09:51:24.098729Z"
    }
   },
   "outputs": [
    {
     "data": {
      "image/svg+xml": [
       "<?xml version=\"1.0\" encoding=\"UTF-8\" standalone=\"no\"?><svg xmlns=\"http://www.w3.org/2000/svg\" xmlns:xlink=\"http://www.w3.org/1999/xlink\" contentScriptType=\"application/ecmascript\" contentStyleType=\"text/css\" height=\"367px\" preserveAspectRatio=\"none\" style=\"width:243px;height:367px;\" version=\"1.1\" viewBox=\"0 0 243 367\" width=\"243px\" zoomAndPan=\"magnify\"><defs><filter height=\"300%\" id=\"f19jdu7vh1w5d8\" width=\"300%\" x=\"-1\" y=\"-1\"><feGaussianBlur result=\"blurOut\" stdDeviation=\"2.0\"/><feColorMatrix in=\"blurOut\" result=\"blurOut2\" type=\"matrix\" values=\"0 0 0 0 0 0 0 0 0 0 0 0 0 0 0 0 0 0 .4 0\"/><feOffset dx=\"4.0\" dy=\"4.0\" in=\"blurOut2\" result=\"blurOut3\"/><feBlend in=\"SourceGraphic\" in2=\"blurOut3\" mode=\"normal\"/></filter></defs><g><!--MD5=[fbc87193dbaf4d95561dea2c320d4a47]\n",
       "cluster E1--><a href=\"psysml:50af7fae-c5e9-43d5-b973-e599fd0b94e5\" target=\"_top\" title=\"psysml:50af7fae-c5e9-43d5-b973-e599fd0b94e5\" xlink:actuate=\"onRequest\" xlink:href=\"psysml:50af7fae-c5e9-43d5-b973-e599fd0b94e5\" xlink:show=\"new\" xlink:title=\"psysml:50af7fae-c5e9-43d5-b973-e599fd0b94e5\" xlink:type=\"simple\"><polygon fill=\"#FFFFFF\" filter=\"url(#f19jdu7vh1w5d8)\" points=\"16,6,196,6,203,28.2969,219,28.2969,219,355,16,355,16,6\" style=\"stroke: #000000; stroke-width: 1.5;\"/><line style=\"stroke: #000000; stroke-width: 1.5;\" x1=\"16\" x2=\"203\" y1=\"28.2969\" y2=\"28.2969\"/><text fill=\"#000000\" font-family=\"sans-serif\" font-size=\"14\" font-weight=\"bold\" lengthAdjust=\"spacingAndGlyphs\" textLength=\"174\" x=\"20\" y=\"20.9951\">QualifiedNameImportTest</text></a><!--MD5=[e4f7fae6ed58524ba242bb0b0d3be6b7]\n",
       "cluster E2--><a href=\"psysml:1e9ed716-c57b-44aa-8aaa-ea3379eecc8d\" target=\"_top\" title=\"psysml:1e9ed716-c57b-44aa-8aaa-ea3379eecc8d\" xlink:actuate=\"onRequest\" xlink:href=\"psysml:1e9ed716-c57b-44aa-8aaa-ea3379eecc8d\" xlink:show=\"new\" xlink:title=\"psysml:1e9ed716-c57b-44aa-8aaa-ea3379eecc8d\" xlink:type=\"simple\"><polygon fill=\"#FFFFFF\" filter=\"url(#f19jdu7vh1w5d8)\" points=\"48,210,72,210,79,232.2969,185,232.2969,185,323,48,323,48,210\" style=\"stroke: #000000; stroke-width: 1.5;\"/><line style=\"stroke: #000000; stroke-width: 1.5;\" x1=\"48\" x2=\"79\" y1=\"232.2969\" y2=\"232.2969\"/><text fill=\"#000000\" font-family=\"sans-serif\" font-size=\"14\" font-weight=\"bold\" lengthAdjust=\"spacingAndGlyphs\" textLength=\"18\" x=\"52\" y=\"224.9951\">P1</text></a><!--MD5=[f6df4d0ebaf0b5dfb2ced0ae5af7c670]\n",
       "cluster E4--><a href=\"psysml:04b1b2f0-8c96-40bb-b2e8-2bd575969190\" target=\"_top\" title=\"psysml:04b1b2f0-8c96-40bb-b2e8-2bd575969190\" xlink:actuate=\"onRequest\" xlink:href=\"psysml:04b1b2f0-8c96-40bb-b2e8-2bd575969190\" xlink:show=\"new\" xlink:title=\"psysml:04b1b2f0-8c96-40bb-b2e8-2bd575969190\" xlink:type=\"simple\"><polygon fill=\"#FFFFFF\" filter=\"url(#f19jdu7vh1w5d8)\" points=\"40,49,64,49,71,71.2969,195,71.2969,195,153,40,153,40,49\" style=\"stroke: #000000; stroke-width: 1.5;\"/><line style=\"stroke: #000000; stroke-width: 1.5;\" x1=\"40\" x2=\"71\" y1=\"71.2969\" y2=\"71.2969\"/><text fill=\"#000000\" font-family=\"sans-serif\" font-size=\"14\" font-weight=\"bold\" lengthAdjust=\"spacingAndGlyphs\" textLength=\"18\" x=\"44\" y=\"63.9951\">P2</text></a><!--MD5=[09b614a08d8cba4a07c9adeb5e0fee81]\n",
       "class E3--><a href=\"psysml:4266c5b7-3671-4acf-aa71-02dd8d212457\" target=\"_top\" title=\"psysml:4266c5b7-3671-4acf-aa71-02dd8d212457\" xlink:actuate=\"onRequest\" xlink:href=\"psysml:4266c5b7-3671-4acf-aa71-02dd8d212457\" xlink:show=\"new\" xlink:title=\"psysml:4266c5b7-3671-4acf-aa71-02dd8d212457\" xlink:type=\"simple\"><rect fill=\"#FEFECE\" filter=\"url(#f19jdu7vh1w5d8)\" height=\"45.9375\" id=\"E3\" style=\"stroke: #A80036; stroke-width: 1.5;\" width=\"70\" x=\"72\" y=\"253\"/><text fill=\"#000000\" font-family=\"sans-serif\" font-size=\"12\" font-style=\"italic\" lengthAdjust=\"spacingAndGlyphs\" textLength=\"68\" x=\"73\" y=\"269.1387\">«part  def»</text><text fill=\"#000000\" font-family=\"sans-serif\" font-size=\"12\" lengthAdjust=\"spacingAndGlyphs\" textLength=\"8\" x=\"103\" y=\"283.1074\">A</text><line style=\"stroke: #A80036; stroke-width: 1.5;\" x1=\"73\" x2=\"141\" y1=\"290.9375\" y2=\"290.9375\"/></a><!--MD5=[60a26617385b1d2d0262a64233df1f8d]\n",
       "class E6--><a href=\"psysml:d91f8c93-5cf2-41b6-a65a-d41673929b38\" target=\"_top\" title=\"psysml:d91f8c93-5cf2-41b6-a65a-d41673929b38\" xlink:actuate=\"onRequest\" xlink:href=\"psysml:d91f8c93-5cf2-41b6-a65a-d41673929b38\" xlink:show=\"new\" xlink:title=\"psysml:d91f8c93-5cf2-41b6-a65a-d41673929b38\" xlink:type=\"simple\"><rect fill=\"#FEFECE\" filter=\"url(#f19jdu7vh1w5d8)\" height=\"45.9375\" id=\"E6\" rx=\"10\" ry=\"10\" style=\"stroke: #A80036; stroke-width: 1.5;\" width=\"42\" x=\"56\" y=\"87.5\"/><text fill=\"#000000\" font-family=\"sans-serif\" font-size=\"12\" font-style=\"italic\" lengthAdjust=\"spacingAndGlyphs\" textLength=\"40\" x=\"57\" y=\"103.6387\">«part»</text><text fill=\"#000000\" font-family=\"sans-serif\" font-size=\"12\" lengthAdjust=\"spacingAndGlyphs\" textLength=\"22\" x=\"64\" y=\"117.6074\">x: A</text><line style=\"stroke: #A80036; stroke-width: 1.5;\" x1=\"57\" x2=\"97\" y1=\"125.4375\" y2=\"125.4375\"/></a><a href=\"psysml:bb8eeef5-ab74-4ee9-8505-e654a7ee43f1\" target=\"_top\" title=\"psysml:bb8eeef5-ab74-4ee9-8505-e654a7ee43f1\" xlink:actuate=\"onRequest\" xlink:href=\"psysml:bb8eeef5-ab74-4ee9-8505-e654a7ee43f1\" xlink:show=\"new\" xlink:title=\"psysml:bb8eeef5-ab74-4ee9-8505-e654a7ee43f1\" xlink:type=\"simple\"><polygon fill=\"#FFFFFF\" filter=\"url(#f19jdu7vh1w5d8)\" points=\"133,84,165,84,172,106.2969,179,106.2969,179,136.5938,133,136.5938,133,84\" style=\"stroke: #000000; stroke-width: 1.5;\"/><line style=\"stroke: #000000; stroke-width: 1.5;\" x1=\"133\" x2=\"172\" y1=\"106.2969\" y2=\"106.2969\"/><text fill=\"#000000\" font-family=\"sans-serif\" font-size=\"14\" font-weight=\"bold\" lengthAdjust=\"spacingAndGlyphs\" textLength=\"26\" x=\"137\" y=\"98.9951\">P2a</text></a><!--MD5=[15ebcb19ae302d9b601edb458606d402]\n",
       "link E5 to E2--><a href=\"psysml:06c75c6a-903d-4e64-8c9a-141a01fc9647\" target=\"_top\" title=\"psysml:06c75c6a-903d-4e64-8c9a-141a01fc9647\" xlink:actuate=\"onRequest\" xlink:href=\"psysml:06c75c6a-903d-4e64-8c9a-141a01fc9647\" xlink:show=\"new\" xlink:title=\"psysml:06c75c6a-903d-4e64-8c9a-141a01fc9647\" xlink:type=\"simple\"><path d=\"M159.28,137.05 C160.735,148.365 162.5469,162.4656 164.4519,177.2955 C165.4044,184.7104 166.3802,192.3076 167.3463,199.8301 C167.5878,201.7107 167.8287,203.5867 168.0685,205.4539 C168.1884,206.3876 168.308,207.319 168.4273,208.2478 C168.4869,208.7122 168.5465,209.1759 168.6059,209.6389 \" fill=\"none\" id=\"E5-&gt;E2\" style=\"stroke: #A80036; stroke-width: 1.0; stroke-dasharray: 7.0,7.0;\"/><polygon fill=\"#A80036\" points=\"168.6059,209.6389,171.427,200.2027,167.9691,204.6796,163.4922,201.2217,168.6059,209.6389\" style=\"stroke: #A80036; stroke-width: 1.0;\"/><text fill=\"#000000\" font-family=\"sans-serif\" font-size=\"13\" lengthAdjust=\"spacingAndGlyphs\" textLength=\"65\" x=\"166\" y=\"182.0669\">«import»*</text></a><!--MD5=[a717450b82c80b9240a525fa862496af]\n",
       "link E6 to E3--><a href=\"psysml:2903afd1-9bf2-47a6-8d72-b5532180e7bb\" target=\"_top\" title=\"psysml:2903afd1-9bf2-47a6-8d72-b5532180e7bb\" xlink:actuate=\"onRequest\" xlink:href=\"psysml:2903afd1-9bf2-47a6-8d72-b5532180e7bb\" xlink:show=\"new\" xlink:title=\"psysml:2903afd1-9bf2-47a6-8d72-b5532180e7bb\" xlink:type=\"simple\"><path d=\"M81.05,133.55 C85.7,158.9 93.44,201.1 99.26,232.83 \" fill=\"none\" id=\"E6-&gt;E3\" style=\"stroke: #A80036; stroke-width: 1.0;\"/><polygon fill=\"#FFFFFF\" points=\"102.92,252.78,92.6018,235.3578,106.3713,232.8278,102.92,252.78\" style=\"stroke: #A80036; stroke-width: 1.0;\"/><ellipse cx=\"93.5388\" cy=\"229.3902\" fill=\"#A80036\" rx=\"2\" ry=\"2\" style=\"stroke: #A80036; stroke-width: 1.0;\"/><ellipse cx=\"103.3742\" cy=\"227.5831\" fill=\"#A80036\" rx=\"2\" ry=\"2\" style=\"stroke: #A80036; stroke-width: 1.0;\"/></a><!--MD5=[8a8ca58b716e929bf25206cfca16226b]\n",
       "@startuml\r\n",
       "skinparam wrapWidth 300\r\n",
       "hide circle\r\n",
       "\r\n",
       "package \"QualifiedNameImportTest\" as E1  [[psysml:50af7fae-c5e9-43d5-b973-e599fd0b94e5 ]]  {\r\n",
       "package \"P1\" as E2  [[psysml:1e9ed716-c57b-44aa-8aaa-ea3379eecc8d ]]  {\r\n",
       "comp def \"A\" as E3  <<(T,blue) part  def>> [[psysml:4266c5b7-3671-4acf-aa71-02dd8d212457 ]] {\r\n",
       "}\r\n",
       "}\r\n",
       "package \"P2\" as E4  [[psysml:04b1b2f0-8c96-40bb-b2e8-2bd575969190 ]]  {\r\n",
       "package \"P2a\" as E5  [[psysml:bb8eeef5-ab74-4ee9-8505-e654a7ee43f1 ]]  {\r\n",
       "}\r\n",
       "comp usage \"x: A \" as E6  <<(T,blue) part>> [[psysml:d91f8c93-5cf2-41b6-a65a-d41673929b38 ]] {\r\n",
       "}\r\n",
       "}\r\n",
       "}\r\n",
       "E5 ..> E2 [[psysml:06c75c6a-903d-4e64-8c9a-141a01fc9647 ]] : <<import>>*\r\n",
       "E6 - -:|> E3 [[psysml:2903afd1-9bf2-47a6-8d72-b5532180e7bb ]] \r\n",
       "@enduml\r\n",
       "\n",
       "PlantUML version 1.2020.13(Sat Jun 13 12:26:38 UTC 2020)\n",
       "(EPL source distribution)\n",
       "Java Runtime: OpenJDK Runtime Environment\n",
       "JVM: OpenJDK 64-Bit Server VM\n",
       "Default Encoding: UTF-8\n",
       "Language: en\n",
       "Country: null\n",
       "--></g></svg>"
      ]
     },
     "execution_count": 29,
     "metadata": {},
     "output_type": "execute_result"
    }
   ],
   "source": [
    "%viz --style=\"STDCOLOR\" --view=\"MIXED\" \"QualifiedNameImportTest\""
   ]
  },
  {
   "cell_type": "code",
   "execution_count": 30,
   "id": "cbcce535",
   "metadata": {
    "execution": {
     "iopub.execute_input": "2022-04-22T09:51:24.148948Z",
     "iopub.status.busy": "2022-04-22T09:51:24.148544Z",
     "iopub.status.idle": "2022-04-22T09:51:24.200971Z",
     "shell.execute_reply": "2022-04-22T09:51:24.200602Z"
    }
   },
   "outputs": [
    {
     "data": {
      "image/svg+xml": [
       "<?xml version=\"1.0\" encoding=\"UTF-8\" standalone=\"no\"?><svg xmlns=\"http://www.w3.org/2000/svg\" xmlns:xlink=\"http://www.w3.org/1999/xlink\" contentScriptType=\"application/ecmascript\" contentStyleType=\"text/css\" height=\"361px\" preserveAspectRatio=\"none\" style=\"width:267px;height:361px;\" version=\"1.1\" viewBox=\"0 0 267 361\" width=\"267px\" zoomAndPan=\"magnify\"><defs><filter height=\"300%\" id=\"fwn21ad46ksgs\" width=\"300%\" x=\"-1\" y=\"-1\"><feGaussianBlur result=\"blurOut\" stdDeviation=\"2.0\"/><feColorMatrix in=\"blurOut\" result=\"blurOut2\" type=\"matrix\" values=\"0 0 0 0 0 0 0 0 0 0 0 0 0 0 0 0 0 0 .4 0\"/><feOffset dx=\"4.0\" dy=\"4.0\" in=\"blurOut2\" result=\"blurOut3\"/><feBlend in=\"SourceGraphic\" in2=\"blurOut3\" mode=\"normal\"/></filter></defs><g><!--MD5=[fbc87193dbaf4d95561dea2c320d4a47]\n",
       "cluster E1--><a href=\"psysml:50af7fae-c5e9-43d5-b973-e599fd0b94e5\" target=\"_top\" title=\"psysml:50af7fae-c5e9-43d5-b973-e599fd0b94e5\" xlink:actuate=\"onRequest\" xlink:href=\"psysml:50af7fae-c5e9-43d5-b973-e599fd0b94e5\" xlink:show=\"new\" xlink:title=\"psysml:50af7fae-c5e9-43d5-b973-e599fd0b94e5\" xlink:type=\"simple\"><polygon fill=\"#FFFFFF\" filter=\"url(#fwn21ad46ksgs)\" points=\"16,6,196,6,203,28.2969,245,28.2969,245,349,16,349,16,6\" style=\"stroke: #000000; stroke-width: 1.5;\"/><line style=\"stroke: #000000; stroke-width: 1.5;\" x1=\"16\" x2=\"203\" y1=\"28.2969\" y2=\"28.2969\"/><text fill=\"#000000\" font-family=\"sans-serif\" font-size=\"14\" font-weight=\"bold\" lengthAdjust=\"spacingAndGlyphs\" textLength=\"174\" x=\"20\" y=\"20.9951\">QualifiedNameImportTest</text></a><!--MD5=[e4f7fae6ed58524ba242bb0b0d3be6b7]\n",
       "cluster E2--><a href=\"psysml:1e9ed716-c57b-44aa-8aaa-ea3379eecc8d\" target=\"_top\" title=\"psysml:1e9ed716-c57b-44aa-8aaa-ea3379eecc8d\" xlink:actuate=\"onRequest\" xlink:href=\"psysml:1e9ed716-c57b-44aa-8aaa-ea3379eecc8d\" xlink:show=\"new\" xlink:title=\"psysml:1e9ed716-c57b-44aa-8aaa-ea3379eecc8d\" xlink:type=\"simple\"><polygon fill=\"#FFFFFF\" filter=\"url(#fwn21ad46ksgs)\" points=\"55,210,79,210,86,232.2969,162,232.2969,162,317,55,317,55,210\" style=\"stroke: #000000; stroke-width: 1.5;\"/><line style=\"stroke: #000000; stroke-width: 1.5;\" x1=\"55\" x2=\"86\" y1=\"232.2969\" y2=\"232.2969\"/><text fill=\"#000000\" font-family=\"sans-serif\" font-size=\"14\" font-weight=\"bold\" lengthAdjust=\"spacingAndGlyphs\" textLength=\"18\" x=\"59\" y=\"224.9951\">P1</text></a><!--MD5=[f6df4d0ebaf0b5dfb2ced0ae5af7c670]\n",
       "cluster E4--><a href=\"psysml:04b1b2f0-8c96-40bb-b2e8-2bd575969190\" target=\"_top\" title=\"psysml:04b1b2f0-8c96-40bb-b2e8-2bd575969190\" xlink:actuate=\"onRequest\" xlink:href=\"psysml:04b1b2f0-8c96-40bb-b2e8-2bd575969190\" xlink:show=\"new\" xlink:title=\"psysml:04b1b2f0-8c96-40bb-b2e8-2bd575969190\" xlink:type=\"simple\"><polygon fill=\"#FFFFFF\" filter=\"url(#fwn21ad46ksgs)\" points=\"40,49,64,49,71,71.2969,221,71.2969,221,153,40,153,40,49\" style=\"stroke: #000000; stroke-width: 1.5;\"/><line style=\"stroke: #000000; stroke-width: 1.5;\" x1=\"40\" x2=\"71\" y1=\"71.2969\" y2=\"71.2969\"/><text fill=\"#000000\" font-family=\"sans-serif\" font-size=\"14\" font-weight=\"bold\" lengthAdjust=\"spacingAndGlyphs\" textLength=\"18\" x=\"44\" y=\"63.9951\">P2</text></a><!--MD5=[09b614a08d8cba4a07c9adeb5e0fee81]\n",
       "class E3--><a href=\"psysml:4266c5b7-3671-4acf-aa71-02dd8d212457\" target=\"_top\" title=\"psysml:4266c5b7-3671-4acf-aa71-02dd8d212457\" xlink:actuate=\"onRequest\" xlink:href=\"psysml:4266c5b7-3671-4acf-aa71-02dd8d212457\" xlink:show=\"new\" xlink:title=\"psysml:4266c5b7-3671-4acf-aa71-02dd8d212457\" xlink:type=\"simple\"><rect fill=\"#FEFECE\" filter=\"url(#fwn21ad46ksgs)\" height=\"40\" id=\"E3\" style=\"stroke: #A80036; stroke-width: 1.5;\" width=\"40\" x=\"79\" y=\"253\"/><ellipse cx=\"94\" cy=\"269\" fill=\"#008000\" rx=\"11\" ry=\"11\" style=\"stroke: #A80036; stroke-width: 1.0;\"/><path d=\"M90.875,274 L90.875,263.4063 L94.1094,263.4063 Q96.0156,263.4063 96.9219,264.1563 Q97.8438,264.9063 97.8438,266.0781 Q97.8438,266.7656 97.4531,267.4219 Q97.0781,268.0781 96.3594,268.375 Q97.2188,268.75 97.7344,269.4375 Q98.25,270.125 98.25,270.9375 Q98.25,272.3125 97.2188,273.1563 Q96.2031,274 94.0938,274 L90.875,274 Z M92.7969,267.6406 L93.9531,267.6406 Q95.0781,267.6406 95.4844,267.2656 Q95.9063,266.875 95.9063,266.25 Q95.9063,265.6719 95.4844,265.3125 Q95.0625,264.9531 94.125,264.9531 L92.7969,264.9531 L92.7969,267.6406 Z M92.7969,272.4219 L94.2969,272.4219 Q95.2031,272.4219 95.7344,272.0313 Q96.2656,271.6406 96.2656,270.8906 Q96.2656,270.125 95.7656,269.6563 Q95.2656,269.1719 94,269.1719 L92.7969,269.1719 L92.7969,272.4219 Z \"/><text fill=\"#000000\" font-family=\"sans-serif\" font-size=\"12\" lengthAdjust=\"spacingAndGlyphs\" textLength=\"8\" x=\"108\" y=\"273.1543\">A</text><line style=\"stroke: #A80036; stroke-width: 1.5;\" x1=\"80\" x2=\"118\" y1=\"285\" y2=\"285\"/></a><!--MD5=[60a26617385b1d2d0262a64233df1f8d]\n",
       "class E6--><a href=\"psysml:d91f8c93-5cf2-41b6-a65a-d41673929b38\" target=\"_top\" title=\"psysml:d91f8c93-5cf2-41b6-a65a-d41673929b38\" xlink:actuate=\"onRequest\" xlink:href=\"psysml:d91f8c93-5cf2-41b6-a65a-d41673929b38\" xlink:show=\"new\" xlink:title=\"psysml:d91f8c93-5cf2-41b6-a65a-d41673929b38\" xlink:type=\"simple\"><rect fill=\"#FEFECE\" filter=\"url(#fwn21ad46ksgs)\" height=\"45.9375\" id=\"E6\" rx=\"10\" ry=\"10\" style=\"stroke: #A80036; stroke-width: 1.5;\" width=\"68\" x=\"56\" y=\"87.5\"/><ellipse cx=\"71\" cy=\"106.4688\" fill=\"#32CD32\" rx=\"11\" ry=\"11\" style=\"stroke: #A80036; stroke-width: 1.0;\"/><path d=\"M67.8125,111.4688 L67.8125,100.875 L71.4219,100.875 Q72.6406,100.875 73.4375,101.3125 Q74.2344,101.7344 74.6094,102.4375 Q75,103.1406 75,103.9844 Q75,104.8281 74.625,105.5156 Q74.2656,106.2031 73.4688,106.625 Q72.6875,107.0313 71.5,107.0313 L69.7656,107.0313 L69.7656,111.4688 L67.8125,111.4688 Z M69.7656,105.4375 L71.375,105.4375 Q72.1875,105.4375 72.6094,105.0313 Q73.0313,104.625 73.0313,103.9844 Q73.0313,103.3594 72.6094,102.9531 Q72.1875,102.5469 71.3906,102.5469 L69.7656,102.5469 L69.7656,105.4375 Z \"/><text fill=\"#000000\" font-family=\"sans-serif\" font-size=\"12\" font-style=\"italic\" lengthAdjust=\"spacingAndGlyphs\" textLength=\"40\" x=\"83\" y=\"103.6387\">«part»</text><text fill=\"#000000\" font-family=\"sans-serif\" font-size=\"12\" lengthAdjust=\"spacingAndGlyphs\" textLength=\"22\" x=\"90\" y=\"117.6074\">x: A</text><line style=\"stroke: #A80036; stroke-width: 1.5;\" x1=\"57\" x2=\"123\" y1=\"125.4375\" y2=\"125.4375\"/></a><a href=\"psysml:bb8eeef5-ab74-4ee9-8505-e654a7ee43f1\" target=\"_top\" title=\"psysml:bb8eeef5-ab74-4ee9-8505-e654a7ee43f1\" xlink:actuate=\"onRequest\" xlink:href=\"psysml:bb8eeef5-ab74-4ee9-8505-e654a7ee43f1\" xlink:show=\"new\" xlink:title=\"psysml:bb8eeef5-ab74-4ee9-8505-e654a7ee43f1\" xlink:type=\"simple\"><polygon fill=\"#FFFFFF\" filter=\"url(#fwn21ad46ksgs)\" points=\"159,84,191,84,198,106.2969,205,106.2969,205,136.5938,159,136.5938,159,84\" style=\"stroke: #000000; stroke-width: 1.5;\"/><line style=\"stroke: #000000; stroke-width: 1.5;\" x1=\"159\" x2=\"198\" y1=\"106.2969\" y2=\"106.2969\"/><text fill=\"#000000\" font-family=\"sans-serif\" font-size=\"14\" font-weight=\"bold\" lengthAdjust=\"spacingAndGlyphs\" textLength=\"26\" x=\"163\" y=\"98.9951\">P2a</text></a><!--MD5=[15ebcb19ae302d9b601edb458606d402]\n",
       "link E5 to E2--><a href=\"psysml:06c75c6a-903d-4e64-8c9a-141a01fc9647\" target=\"_top\" title=\"psysml:06c75c6a-903d-4e64-8c9a-141a01fc9647\" xlink:actuate=\"onRequest\" xlink:href=\"psysml:06c75c6a-903d-4e64-8c9a-141a01fc9647\" xlink:show=\"new\" xlink:title=\"psysml:06c75c6a-903d-4e64-8c9a-141a01fc9647\" xlink:type=\"simple\"><path d=\"M177.5,137.29 C173.605,159.62 167.8525,192.6025 163.0138,220.3425 C162.7113,222.0763 162.4125,223.7895 162.1179,225.4784 C162.081,225.6895 162.0443,225.9003 162.0076,226.1106 \" fill=\"none\" id=\"E5-&gt;E2\" style=\"stroke: #A80036; stroke-width: 1.0; stroke-dasharray: 7.0,7.0;\"/><polygon fill=\"#A80036\" points=\"162.0076,226.1106,167.4947,217.9319,162.8668,221.185,159.6137,216.5571,162.0076,226.1106\" style=\"stroke: #A80036; stroke-width: 1.0;\"/><text fill=\"#000000\" font-family=\"sans-serif\" font-size=\"13\" lengthAdjust=\"spacingAndGlyphs\" textLength=\"65\" x=\"172\" y=\"182.0669\">«import»*</text></a><!--MD5=[a717450b82c80b9240a525fa862496af]\n",
       "link E6 to E3--><a href=\"psysml:2903afd1-9bf2-47a6-8d72-b5532180e7bb\" target=\"_top\" title=\"psysml:2903afd1-9bf2-47a6-8d72-b5532180e7bb\" xlink:actuate=\"onRequest\" xlink:href=\"psysml:2903afd1-9bf2-47a6-8d72-b5532180e7bb\" xlink:show=\"new\" xlink:title=\"psysml:2903afd1-9bf2-47a6-8d72-b5532180e7bb\" xlink:type=\"simple\"><path d=\"M91.25,133.82 C92.68,159.32 95.05,201.55 96.79,232.62 \" fill=\"none\" id=\"E6-&gt;E3\" style=\"stroke: #A80036; stroke-width: 1.0;\"/><polygon fill=\"#FFFFFF\" points=\"97.93,252.88,89.8824,234.2995,103.8607,233.5196,97.93,252.88\" style=\"stroke: #A80036; stroke-width: 1.0;\"/><ellipse cx=\"91.5618\" cy=\"228.4969\" fill=\"#A80036\" rx=\"2\" ry=\"2\" style=\"stroke: #A80036; stroke-width: 1.0;\"/><ellipse cx=\"101.5463\" cy=\"227.9398\" fill=\"#A80036\" rx=\"2\" ry=\"2\" style=\"stroke: #A80036; stroke-width: 1.0;\"/></a><!--MD5=[4eb03a75ee651c3e36bb9d4b8d54b4a3]\n",
       "@startuml\r\n",
       " \r\n",
       "package \"QualifiedNameImportTest\" as E1  [[psysml:50af7fae-c5e9-43d5-b973-e599fd0b94e5 ]]  {\r\n",
       "package \"P1\" as E2  [[psysml:1e9ed716-c57b-44aa-8aaa-ea3379eecc8d ]]  {\r\n",
       "comp def \"A\" as E3 << << (B,green) >> [[psysml:4266c5b7-3671-4acf-aa71-02dd8d212457 ]] {\r\n",
       "}\r\n",
       "}\r\n",
       "package \"P2\" as E4  [[psysml:04b1b2f0-8c96-40bb-b2e8-2bd575969190 ]]  {\r\n",
       "package \"P2a\" as E5  [[psysml:bb8eeef5-ab74-4ee9-8505-e654a7ee43f1 ]]  {\r\n",
       "}\r\n",
       "comp usage \"x: A \" as E6 << << (P,limegreen) part>> [[psysml:d91f8c93-5cf2-41b6-a65a-d41673929b38 ]] {\r\n",
       "}\r\n",
       "}\r\n",
       "}\r\n",
       "E5 ..> E2 [[psysml:06c75c6a-903d-4e64-8c9a-141a01fc9647 ]] : <<import>>*\r\n",
       "E6 - -:|> E3 [[psysml:2903afd1-9bf2-47a6-8d72-b5532180e7bb ]] \r\n",
       "@enduml\r\n",
       "\n",
       "PlantUML version 1.2020.13(Sat Jun 13 12:26:38 UTC 2020)\n",
       "(EPL source distribution)\n",
       "Java Runtime: OpenJDK Runtime Environment\n",
       "JVM: OpenJDK 64-Bit Server VM\n",
       "Default Encoding: UTF-8\n",
       "Language: en\n",
       "Country: null\n",
       "--></g></svg>"
      ]
     },
     "execution_count": 30,
     "metadata": {},
     "output_type": "execute_result"
    }
   ],
   "source": [
    "%viz --style=\"PLANTUML\" --view=\"Default\" \"QualifiedNameImportTest\""
   ]
  },
  {
   "cell_type": "code",
   "execution_count": 31,
   "id": "07e27566",
   "metadata": {
    "execution": {
     "iopub.execute_input": "2022-04-22T09:51:24.250377Z",
     "iopub.status.busy": "2022-04-22T09:51:24.249972Z",
     "iopub.status.idle": "2022-04-22T09:51:24.281156Z",
     "shell.execute_reply": "2022-04-22T09:51:24.281496Z"
    }
   },
   "outputs": [
    {
     "data": {
      "image/svg+xml": [
       "<?xml version=\"1.0\" encoding=\"UTF-8\" standalone=\"no\"?><svg xmlns=\"http://www.w3.org/2000/svg\" xmlns:xlink=\"http://www.w3.org/1999/xlink\" contentScriptType=\"application/ecmascript\" contentStyleType=\"text/css\" height=\"361px\" preserveAspectRatio=\"none\" style=\"width:267px;height:361px;\" version=\"1.1\" viewBox=\"0 0 267 361\" width=\"267px\" zoomAndPan=\"magnify\"><defs><filter height=\"300%\" id=\"fwn21ad46ksgs\" width=\"300%\" x=\"-1\" y=\"-1\"><feGaussianBlur result=\"blurOut\" stdDeviation=\"2.0\"/><feColorMatrix in=\"blurOut\" result=\"blurOut2\" type=\"matrix\" values=\"0 0 0 0 0 0 0 0 0 0 0 0 0 0 0 0 0 0 .4 0\"/><feOffset dx=\"4.0\" dy=\"4.0\" in=\"blurOut2\" result=\"blurOut3\"/><feBlend in=\"SourceGraphic\" in2=\"blurOut3\" mode=\"normal\"/></filter></defs><g><!--MD5=[fbc87193dbaf4d95561dea2c320d4a47]\n",
       "cluster E1--><a href=\"psysml:50af7fae-c5e9-43d5-b973-e599fd0b94e5\" target=\"_top\" title=\"psysml:50af7fae-c5e9-43d5-b973-e599fd0b94e5\" xlink:actuate=\"onRequest\" xlink:href=\"psysml:50af7fae-c5e9-43d5-b973-e599fd0b94e5\" xlink:show=\"new\" xlink:title=\"psysml:50af7fae-c5e9-43d5-b973-e599fd0b94e5\" xlink:type=\"simple\"><polygon fill=\"#FFFFFF\" filter=\"url(#fwn21ad46ksgs)\" points=\"16,6,196,6,203,28.2969,245,28.2969,245,349,16,349,16,6\" style=\"stroke: #000000; stroke-width: 1.5;\"/><line style=\"stroke: #000000; stroke-width: 1.5;\" x1=\"16\" x2=\"203\" y1=\"28.2969\" y2=\"28.2969\"/><text fill=\"#000000\" font-family=\"sans-serif\" font-size=\"14\" font-weight=\"bold\" lengthAdjust=\"spacingAndGlyphs\" textLength=\"174\" x=\"20\" y=\"20.9951\">QualifiedNameImportTest</text></a><!--MD5=[e4f7fae6ed58524ba242bb0b0d3be6b7]\n",
       "cluster E2--><a href=\"psysml:1e9ed716-c57b-44aa-8aaa-ea3379eecc8d\" target=\"_top\" title=\"psysml:1e9ed716-c57b-44aa-8aaa-ea3379eecc8d\" xlink:actuate=\"onRequest\" xlink:href=\"psysml:1e9ed716-c57b-44aa-8aaa-ea3379eecc8d\" xlink:show=\"new\" xlink:title=\"psysml:1e9ed716-c57b-44aa-8aaa-ea3379eecc8d\" xlink:type=\"simple\"><polygon fill=\"#FFFFFF\" filter=\"url(#fwn21ad46ksgs)\" points=\"55,210,79,210,86,232.2969,162,232.2969,162,317,55,317,55,210\" style=\"stroke: #000000; stroke-width: 1.5;\"/><line style=\"stroke: #000000; stroke-width: 1.5;\" x1=\"55\" x2=\"86\" y1=\"232.2969\" y2=\"232.2969\"/><text fill=\"#000000\" font-family=\"sans-serif\" font-size=\"14\" font-weight=\"bold\" lengthAdjust=\"spacingAndGlyphs\" textLength=\"18\" x=\"59\" y=\"224.9951\">P1</text></a><!--MD5=[f6df4d0ebaf0b5dfb2ced0ae5af7c670]\n",
       "cluster E4--><a href=\"psysml:04b1b2f0-8c96-40bb-b2e8-2bd575969190\" target=\"_top\" title=\"psysml:04b1b2f0-8c96-40bb-b2e8-2bd575969190\" xlink:actuate=\"onRequest\" xlink:href=\"psysml:04b1b2f0-8c96-40bb-b2e8-2bd575969190\" xlink:show=\"new\" xlink:title=\"psysml:04b1b2f0-8c96-40bb-b2e8-2bd575969190\" xlink:type=\"simple\"><polygon fill=\"#FFFFFF\" filter=\"url(#fwn21ad46ksgs)\" points=\"40,49,64,49,71,71.2969,221,71.2969,221,153,40,153,40,49\" style=\"stroke: #000000; stroke-width: 1.5;\"/><line style=\"stroke: #000000; stroke-width: 1.5;\" x1=\"40\" x2=\"71\" y1=\"71.2969\" y2=\"71.2969\"/><text fill=\"#000000\" font-family=\"sans-serif\" font-size=\"14\" font-weight=\"bold\" lengthAdjust=\"spacingAndGlyphs\" textLength=\"18\" x=\"44\" y=\"63.9951\">P2</text></a><!--MD5=[09b614a08d8cba4a07c9adeb5e0fee81]\n",
       "class E3--><a href=\"psysml:4266c5b7-3671-4acf-aa71-02dd8d212457\" target=\"_top\" title=\"psysml:4266c5b7-3671-4acf-aa71-02dd8d212457\" xlink:actuate=\"onRequest\" xlink:href=\"psysml:4266c5b7-3671-4acf-aa71-02dd8d212457\" xlink:show=\"new\" xlink:title=\"psysml:4266c5b7-3671-4acf-aa71-02dd8d212457\" xlink:type=\"simple\"><rect fill=\"#FEFECE\" filter=\"url(#fwn21ad46ksgs)\" height=\"40\" id=\"E3\" style=\"stroke: #A80036; stroke-width: 1.5;\" width=\"40\" x=\"79\" y=\"253\"/><ellipse cx=\"94\" cy=\"269\" fill=\"#008000\" rx=\"11\" ry=\"11\" style=\"stroke: #A80036; stroke-width: 1.0;\"/><path d=\"M90.875,274 L90.875,263.4063 L94.1094,263.4063 Q96.0156,263.4063 96.9219,264.1563 Q97.8438,264.9063 97.8438,266.0781 Q97.8438,266.7656 97.4531,267.4219 Q97.0781,268.0781 96.3594,268.375 Q97.2188,268.75 97.7344,269.4375 Q98.25,270.125 98.25,270.9375 Q98.25,272.3125 97.2188,273.1563 Q96.2031,274 94.0938,274 L90.875,274 Z M92.7969,267.6406 L93.9531,267.6406 Q95.0781,267.6406 95.4844,267.2656 Q95.9063,266.875 95.9063,266.25 Q95.9063,265.6719 95.4844,265.3125 Q95.0625,264.9531 94.125,264.9531 L92.7969,264.9531 L92.7969,267.6406 Z M92.7969,272.4219 L94.2969,272.4219 Q95.2031,272.4219 95.7344,272.0313 Q96.2656,271.6406 96.2656,270.8906 Q96.2656,270.125 95.7656,269.6563 Q95.2656,269.1719 94,269.1719 L92.7969,269.1719 L92.7969,272.4219 Z \"/><text fill=\"#000000\" font-family=\"sans-serif\" font-size=\"12\" lengthAdjust=\"spacingAndGlyphs\" textLength=\"8\" x=\"108\" y=\"273.1543\">A</text><line style=\"stroke: #A80036; stroke-width: 1.5;\" x1=\"80\" x2=\"118\" y1=\"285\" y2=\"285\"/></a><!--MD5=[60a26617385b1d2d0262a64233df1f8d]\n",
       "class E6--><a href=\"psysml:d91f8c93-5cf2-41b6-a65a-d41673929b38\" target=\"_top\" title=\"psysml:d91f8c93-5cf2-41b6-a65a-d41673929b38\" xlink:actuate=\"onRequest\" xlink:href=\"psysml:d91f8c93-5cf2-41b6-a65a-d41673929b38\" xlink:show=\"new\" xlink:title=\"psysml:d91f8c93-5cf2-41b6-a65a-d41673929b38\" xlink:type=\"simple\"><rect fill=\"#FEFECE\" filter=\"url(#fwn21ad46ksgs)\" height=\"45.9375\" id=\"E6\" rx=\"10\" ry=\"10\" style=\"stroke: #A80036; stroke-width: 1.5;\" width=\"68\" x=\"56\" y=\"87.5\"/><ellipse cx=\"71\" cy=\"106.4688\" fill=\"#32CD32\" rx=\"11\" ry=\"11\" style=\"stroke: #A80036; stroke-width: 1.0;\"/><path d=\"M67.8125,111.4688 L67.8125,100.875 L71.4219,100.875 Q72.6406,100.875 73.4375,101.3125 Q74.2344,101.7344 74.6094,102.4375 Q75,103.1406 75,103.9844 Q75,104.8281 74.625,105.5156 Q74.2656,106.2031 73.4688,106.625 Q72.6875,107.0313 71.5,107.0313 L69.7656,107.0313 L69.7656,111.4688 L67.8125,111.4688 Z M69.7656,105.4375 L71.375,105.4375 Q72.1875,105.4375 72.6094,105.0313 Q73.0313,104.625 73.0313,103.9844 Q73.0313,103.3594 72.6094,102.9531 Q72.1875,102.5469 71.3906,102.5469 L69.7656,102.5469 L69.7656,105.4375 Z \"/><text fill=\"#000000\" font-family=\"sans-serif\" font-size=\"12\" font-style=\"italic\" lengthAdjust=\"spacingAndGlyphs\" textLength=\"40\" x=\"83\" y=\"103.6387\">«part»</text><text fill=\"#000000\" font-family=\"sans-serif\" font-size=\"12\" lengthAdjust=\"spacingAndGlyphs\" textLength=\"22\" x=\"90\" y=\"117.6074\">x: A</text><line style=\"stroke: #A80036; stroke-width: 1.5;\" x1=\"57\" x2=\"123\" y1=\"125.4375\" y2=\"125.4375\"/></a><a href=\"psysml:bb8eeef5-ab74-4ee9-8505-e654a7ee43f1\" target=\"_top\" title=\"psysml:bb8eeef5-ab74-4ee9-8505-e654a7ee43f1\" xlink:actuate=\"onRequest\" xlink:href=\"psysml:bb8eeef5-ab74-4ee9-8505-e654a7ee43f1\" xlink:show=\"new\" xlink:title=\"psysml:bb8eeef5-ab74-4ee9-8505-e654a7ee43f1\" xlink:type=\"simple\"><polygon fill=\"#FFFFFF\" filter=\"url(#fwn21ad46ksgs)\" points=\"159,84,191,84,198,106.2969,205,106.2969,205,136.5938,159,136.5938,159,84\" style=\"stroke: #000000; stroke-width: 1.5;\"/><line style=\"stroke: #000000; stroke-width: 1.5;\" x1=\"159\" x2=\"198\" y1=\"106.2969\" y2=\"106.2969\"/><text fill=\"#000000\" font-family=\"sans-serif\" font-size=\"14\" font-weight=\"bold\" lengthAdjust=\"spacingAndGlyphs\" textLength=\"26\" x=\"163\" y=\"98.9951\">P2a</text></a><!--MD5=[15ebcb19ae302d9b601edb458606d402]\n",
       "link E5 to E2--><a href=\"psysml:06c75c6a-903d-4e64-8c9a-141a01fc9647\" target=\"_top\" title=\"psysml:06c75c6a-903d-4e64-8c9a-141a01fc9647\" xlink:actuate=\"onRequest\" xlink:href=\"psysml:06c75c6a-903d-4e64-8c9a-141a01fc9647\" xlink:show=\"new\" xlink:title=\"psysml:06c75c6a-903d-4e64-8c9a-141a01fc9647\" xlink:type=\"simple\"><path d=\"M177.5,137.29 C173.605,159.62 167.8525,192.6025 163.0138,220.3425 C162.7113,222.0763 162.4125,223.7895 162.1179,225.4784 C162.081,225.6895 162.0443,225.9003 162.0076,226.1106 \" fill=\"none\" id=\"E5-&gt;E2\" style=\"stroke: #A80036; stroke-width: 1.0; stroke-dasharray: 7.0,7.0;\"/><polygon fill=\"#A80036\" points=\"162.0076,226.1106,167.4947,217.9319,162.8668,221.185,159.6137,216.5571,162.0076,226.1106\" style=\"stroke: #A80036; stroke-width: 1.0;\"/><text fill=\"#000000\" font-family=\"sans-serif\" font-size=\"13\" lengthAdjust=\"spacingAndGlyphs\" textLength=\"65\" x=\"172\" y=\"182.0669\">«import»*</text></a><!--MD5=[a717450b82c80b9240a525fa862496af]\n",
       "link E6 to E3--><a href=\"psysml:2903afd1-9bf2-47a6-8d72-b5532180e7bb\" target=\"_top\" title=\"psysml:2903afd1-9bf2-47a6-8d72-b5532180e7bb\" xlink:actuate=\"onRequest\" xlink:href=\"psysml:2903afd1-9bf2-47a6-8d72-b5532180e7bb\" xlink:show=\"new\" xlink:title=\"psysml:2903afd1-9bf2-47a6-8d72-b5532180e7bb\" xlink:type=\"simple\"><path d=\"M91.25,133.82 C92.68,159.32 95.05,201.55 96.79,232.62 \" fill=\"none\" id=\"E6-&gt;E3\" style=\"stroke: #A80036; stroke-width: 1.0;\"/><polygon fill=\"#FFFFFF\" points=\"97.93,252.88,89.8824,234.2995,103.8607,233.5196,97.93,252.88\" style=\"stroke: #A80036; stroke-width: 1.0;\"/><ellipse cx=\"91.5618\" cy=\"228.4969\" fill=\"#A80036\" rx=\"2\" ry=\"2\" style=\"stroke: #A80036; stroke-width: 1.0;\"/><ellipse cx=\"101.5463\" cy=\"227.9398\" fill=\"#A80036\" rx=\"2\" ry=\"2\" style=\"stroke: #A80036; stroke-width: 1.0;\"/></a><!--MD5=[4eb03a75ee651c3e36bb9d4b8d54b4a3]\n",
       "@startuml\r\n",
       " \r\n",
       "package \"QualifiedNameImportTest\" as E1  [[psysml:50af7fae-c5e9-43d5-b973-e599fd0b94e5 ]]  {\r\n",
       "package \"P1\" as E2  [[psysml:1e9ed716-c57b-44aa-8aaa-ea3379eecc8d ]]  {\r\n",
       "comp def \"A\" as E3 << << (B,green) >> [[psysml:4266c5b7-3671-4acf-aa71-02dd8d212457 ]] {\r\n",
       "}\r\n",
       "}\r\n",
       "package \"P2\" as E4  [[psysml:04b1b2f0-8c96-40bb-b2e8-2bd575969190 ]]  {\r\n",
       "package \"P2a\" as E5  [[psysml:bb8eeef5-ab74-4ee9-8505-e654a7ee43f1 ]]  {\r\n",
       "}\r\n",
       "comp usage \"x: A \" as E6 << << (P,limegreen) part>> [[psysml:d91f8c93-5cf2-41b6-a65a-d41673929b38 ]] {\r\n",
       "}\r\n",
       "}\r\n",
       "}\r\n",
       "E5 ..> E2 [[psysml:06c75c6a-903d-4e64-8c9a-141a01fc9647 ]] : <<import>>*\r\n",
       "E6 - -:|> E3 [[psysml:2903afd1-9bf2-47a6-8d72-b5532180e7bb ]] \r\n",
       "@enduml\r\n",
       "\n",
       "PlantUML version 1.2020.13(Sat Jun 13 12:26:38 UTC 2020)\n",
       "(EPL source distribution)\n",
       "Java Runtime: OpenJDK Runtime Environment\n",
       "JVM: OpenJDK 64-Bit Server VM\n",
       "Default Encoding: UTF-8\n",
       "Language: en\n",
       "Country: null\n",
       "--></g></svg>"
      ]
     },
     "execution_count": 31,
     "metadata": {},
     "output_type": "execute_result"
    }
   ],
   "source": [
    "%viz --style=\"PLANTUML\" --view=\"Tree\" \"QualifiedNameImportTest\""
   ]
  },
  {
   "cell_type": "code",
   "execution_count": 32,
   "id": "ed26a566",
   "metadata": {
    "execution": {
     "iopub.execute_input": "2022-04-22T09:51:24.331403Z",
     "iopub.status.busy": "2022-04-22T09:51:24.331001Z",
     "iopub.status.idle": "2022-04-22T09:51:24.428528Z",
     "shell.execute_reply": "2022-04-22T09:51:24.428082Z"
    }
   },
   "outputs": [
    {
     "data": {
      "image/svg+xml": [
       "<?xml version=\"1.0\" encoding=\"UTF-8\" standalone=\"no\"?><svg xmlns=\"http://www.w3.org/2000/svg\" xmlns:xlink=\"http://www.w3.org/1999/xlink\" contentScriptType=\"application/ecmascript\" contentStyleType=\"text/css\" height=\"300px\" preserveAspectRatio=\"none\" style=\"width:603px;height:300px;background:#000000;\" version=\"1.1\" viewBox=\"0 0 603 300\" width=\"603px\" zoomAndPan=\"magnify\"><defs/><g><rect fill=\"#0C2319\" height=\"1\" style=\"stroke: #0C2319; stroke-width: 1.0;\" width=\"1\" x=\"0\" y=\"0\"/><rect fill=\"#FFFFFF\" height=\"202.8012\" style=\"stroke: #FFFFFF; stroke-width: 1.0;\" width=\"602\" x=\"0\" y=\"0\"/><text fill=\"#000000\" font-family=\"sans-serif\" font-size=\"12\" font-weight=\"bold\" lengthAdjust=\"spacingAndGlyphs\" textLength=\"139\" x=\"5\" y=\"16.1387\">Welcome to PlantUML!</text><text fill=\"#000000\" font-family=\"sans-serif\" font-size=\"12\" lengthAdjust=\"spacingAndGlyphs\" textLength=\"0\" x=\"9\" y=\"30.1074\"/><text fill=\"#000000\" font-family=\"sans-serif\" font-size=\"12\" lengthAdjust=\"spacingAndGlyphs\" textLength=\"293\" x=\"5\" y=\"44.0762\">If you use this software, you accept its license.</text><text fill=\"#000000\" font-family=\"sans-serif\" font-size=\"12\" lengthAdjust=\"spacingAndGlyphs\" textLength=\"107\" x=\"5\" y=\"58.0449\">(details by typing</text><text fill=\"#000000\" font-family=\"monospace\" font-size=\"12\" lengthAdjust=\"spacingAndGlyphs\" textLength=\"42\" x=\"116\" y=\"58.595\">license</text><text fill=\"#000000\" font-family=\"sans-serif\" font-size=\"12\" lengthAdjust=\"spacingAndGlyphs\" textLength=\"56\" x=\"162\" y=\"58.0449\">keyword)</text><text fill=\"#000000\" font-family=\"sans-serif\" font-size=\"12\" lengthAdjust=\"spacingAndGlyphs\" textLength=\"0\" x=\"9\" y=\"72.0137\"/><text fill=\"#000000\" font-family=\"sans-serif\" font-size=\"12\" lengthAdjust=\"spacingAndGlyphs\" textLength=\"283\" x=\"5\" y=\"85.9824\">You can start with a simple UML Diagram like:</text><text fill=\"#000000\" font-family=\"sans-serif\" font-size=\"12\" lengthAdjust=\"spacingAndGlyphs\" textLength=\"0\" x=\"9\" y=\"99.9512\"/><text fill=\"#000000\" font-family=\"monospace\" font-size=\"12\" lengthAdjust=\"spacingAndGlyphs\" textLength=\"102\" x=\"5\" y=\"113.0893\">Bob-&gt;Alice: Hello</text><text fill=\"#000000\" font-family=\"sans-serif\" font-size=\"12\" lengthAdjust=\"spacingAndGlyphs\" textLength=\"0\" x=\"9\" y=\"126.508\"/><text fill=\"#000000\" font-family=\"sans-serif\" font-size=\"12\" lengthAdjust=\"spacingAndGlyphs\" textLength=\"14\" x=\"5\" y=\"140.4768\">Or</text><text fill=\"#000000\" font-family=\"sans-serif\" font-size=\"12\" lengthAdjust=\"spacingAndGlyphs\" textLength=\"0\" x=\"9\" y=\"154.4455\"/><text fill=\"#000000\" font-family=\"monospace\" font-size=\"12\" lengthAdjust=\"spacingAndGlyphs\" textLength=\"78\" x=\"5\" y=\"167.5837\">class Example</text><text fill=\"#000000\" font-family=\"sans-serif\" font-size=\"12\" lengthAdjust=\"spacingAndGlyphs\" textLength=\"0\" x=\"9\" y=\"181.0023\"/><text fill=\"#000000\" font-family=\"sans-serif\" font-size=\"12\" lengthAdjust=\"spacingAndGlyphs\" textLength=\"349\" x=\"5\" y=\"194.9711\">You will find more information about PlantUML syntax on</text><text fill=\"#000000\" font-family=\"sans-serif\" font-size=\"12\" lengthAdjust=\"spacingAndGlyphs\" text-decoration=\"underline\" textLength=\"129\" x=\"358\" y=\"194.9711\">https://plantuml.com</text><image height=\"71\" width=\"80\" x=\"516\" xlink:href=\"data:image/png;base64,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\" y=\"6\"/><rect fill=\"#000000\" height=\"96.4844\" style=\"stroke: #000000; stroke-width: 1.0;\" width=\"602\" x=\"0\" y=\"202.8012\"/><rect fill=\"#33FF02\" height=\"21.2969\" style=\"stroke: #33FF02; stroke-width: 1.0;\" width=\"145\" x=\"5\" y=\"207.8012\"/><text fill=\"#000000\" font-family=\"sans-serif\" font-size=\"14\" font-weight=\"bold\" lengthAdjust=\"spacingAndGlyphs\" textLength=\"143\" x=\"6\" y=\"222.8012\">[From string (line 2) ]</text><text fill=\"#33FF02\" font-family=\"sans-serif\" font-size=\"14\" font-weight=\"bold\" lengthAdjust=\"spacingAndGlyphs\" textLength=\"0\" x=\"9\" y=\"243.0981\"/><text fill=\"#33FF02\" font-family=\"sans-serif\" font-size=\"14\" font-weight=\"bold\" lengthAdjust=\"spacingAndGlyphs\" textLength=\"70\" x=\"5\" y=\"259.3949\">@startuml</text><text fill=\"#33FF02\" font-family=\"sans-serif\" font-size=\"14\" font-weight=\"bold\" lengthAdjust=\"spacingAndGlyphs\" textLength=\"0\" x=\"9\" y=\"275.6918\"/><text fill=\"#FF0000\" font-family=\"sans-serif\" font-size=\"14\" font-weight=\"bold\" lengthAdjust=\"spacingAndGlyphs\" textLength=\"124\" x=\"9\" y=\"291.9887\">Empty description</text><!--MD5=[f59edd8218d337f74d0c332fc6737304]\n",
       "@startuml\r\n",
       " \r\n",
       "@enduml\r\n",
       "\n",
       "PlantUML version 1.2020.13(Sat Jun 13 12:26:38 UTC 2020)\n",
       "(EPL source distribution)\n",
       "Java Runtime: OpenJDK Runtime Environment\n",
       "JVM: OpenJDK 64-Bit Server VM\n",
       "Default Encoding: UTF-8\n",
       "Language: en\n",
       "Country: null\n",
       "--></g></svg>"
      ]
     },
     "execution_count": 32,
     "metadata": {},
     "output_type": "execute_result"
    }
   ],
   "source": [
    "%viz --style=\"PLANTUML\" --view=\"State\" \"QualifiedNameImportTest\""
   ]
  },
  {
   "cell_type": "code",
   "execution_count": 33,
   "id": "4b84d6e6",
   "metadata": {
    "execution": {
     "iopub.execute_input": "2022-04-22T09:51:24.477997Z",
     "iopub.status.busy": "2022-04-22T09:51:24.477458Z",
     "iopub.status.idle": "2022-04-22T09:51:24.505597Z",
     "shell.execute_reply": "2022-04-22T09:51:24.505221Z"
    }
   },
   "outputs": [
    {
     "data": {
      "image/svg+xml": [
       "<?xml version=\"1.0\" encoding=\"UTF-8\" standalone=\"no\"?><svg xmlns=\"http://www.w3.org/2000/svg\" xmlns:xlink=\"http://www.w3.org/1999/xlink\" contentScriptType=\"application/ecmascript\" contentStyleType=\"text/css\" height=\"361px\" preserveAspectRatio=\"none\" style=\"width:259px;height:361px;\" version=\"1.1\" viewBox=\"0 0 259 361\" width=\"259px\" zoomAndPan=\"magnify\"><defs><filter height=\"300%\" id=\"fxnptjthe92dl\" width=\"300%\" x=\"-1\" y=\"-1\"><feGaussianBlur result=\"blurOut\" stdDeviation=\"2.0\"/><feColorMatrix in=\"blurOut\" result=\"blurOut2\" type=\"matrix\" values=\"0 0 0 0 0 0 0 0 0 0 0 0 0 0 0 0 0 0 .4 0\"/><feOffset dx=\"4.0\" dy=\"4.0\" in=\"blurOut2\" result=\"blurOut3\"/><feBlend in=\"SourceGraphic\" in2=\"blurOut3\" mode=\"normal\"/></filter></defs><g><!--MD5=[fbc87193dbaf4d95561dea2c320d4a47]\n",
       "cluster E1--><a href=\"psysml:50af7fae-c5e9-43d5-b973-e599fd0b94e5\" target=\"_top\" title=\"psysml:50af7fae-c5e9-43d5-b973-e599fd0b94e5\" xlink:actuate=\"onRequest\" xlink:href=\"psysml:50af7fae-c5e9-43d5-b973-e599fd0b94e5\" xlink:show=\"new\" xlink:title=\"psysml:50af7fae-c5e9-43d5-b973-e599fd0b94e5\" xlink:type=\"simple\"><polygon fill=\"#FFFFFF\" filter=\"url(#fxnptjthe92dl)\" points=\"16,6,196,6,203,28.2969,237,28.2969,237,349,16,349,16,6\" style=\"stroke: #000000; stroke-width: 1.5;\"/><line style=\"stroke: #000000; stroke-width: 1.5;\" x1=\"16\" x2=\"203\" y1=\"28.2969\" y2=\"28.2969\"/><text fill=\"#000000\" font-family=\"sans-serif\" font-size=\"14\" font-weight=\"bold\" lengthAdjust=\"spacingAndGlyphs\" textLength=\"174\" x=\"20\" y=\"20.9951\">QualifiedNameImportTest</text></a><!--MD5=[e4f7fae6ed58524ba242bb0b0d3be6b7]\n",
       "cluster E2--><a href=\"psysml:1e9ed716-c57b-44aa-8aaa-ea3379eecc8d\" target=\"_top\" title=\"psysml:1e9ed716-c57b-44aa-8aaa-ea3379eecc8d\" xlink:actuate=\"onRequest\" xlink:href=\"psysml:1e9ed716-c57b-44aa-8aaa-ea3379eecc8d\" xlink:show=\"new\" xlink:title=\"psysml:1e9ed716-c57b-44aa-8aaa-ea3379eecc8d\" xlink:type=\"simple\"><polygon fill=\"#FFFFFF\" filter=\"url(#fxnptjthe92dl)\" points=\"83,210,107,210,114,232.2969,200,232.2969,200,317,83,317,83,210\" style=\"stroke: #000000; stroke-width: 1.5;\"/><line style=\"stroke: #000000; stroke-width: 1.5;\" x1=\"83\" x2=\"114\" y1=\"232.2969\" y2=\"232.2969\"/><text fill=\"#000000\" font-family=\"sans-serif\" font-size=\"14\" font-weight=\"bold\" lengthAdjust=\"spacingAndGlyphs\" textLength=\"18\" x=\"87\" y=\"224.9951\">P1</text></a><!--MD5=[f6df4d0ebaf0b5dfb2ced0ae5af7c670]\n",
       "cluster E4--><a href=\"psysml:04b1b2f0-8c96-40bb-b2e8-2bd575969190\" target=\"_top\" title=\"psysml:04b1b2f0-8c96-40bb-b2e8-2bd575969190\" xlink:actuate=\"onRequest\" xlink:href=\"psysml:04b1b2f0-8c96-40bb-b2e8-2bd575969190\" xlink:show=\"new\" xlink:title=\"psysml:04b1b2f0-8c96-40bb-b2e8-2bd575969190\" xlink:type=\"simple\"><polygon fill=\"#FFFFFF\" filter=\"url(#fxnptjthe92dl)\" points=\"40,49,64,49,71,71.2969,213,71.2969,213,153,40,153,40,49\" style=\"stroke: #000000; stroke-width: 1.5;\"/><line style=\"stroke: #000000; stroke-width: 1.5;\" x1=\"40\" x2=\"71\" y1=\"71.2969\" y2=\"71.2969\"/><text fill=\"#000000\" font-family=\"sans-serif\" font-size=\"14\" font-weight=\"bold\" lengthAdjust=\"spacingAndGlyphs\" textLength=\"18\" x=\"44\" y=\"63.9951\">P2</text></a><g id=\"E1.E2.E3\"><a href=\"psysml:4266c5b7-3671-4acf-aa71-02dd8d212457\" target=\"_top\" title=\"psysml:4266c5b7-3671-4acf-aa71-02dd8d212457\" xlink:actuate=\"onRequest\" xlink:href=\"psysml:4266c5b7-3671-4acf-aa71-02dd8d212457\" xlink:show=\"new\" xlink:title=\"psysml:4266c5b7-3671-4acf-aa71-02dd8d212457\" xlink:type=\"simple\"><rect fill=\"#FEFECE\" filter=\"url(#fxnptjthe92dl)\" height=\"40\" id=\"E3\" style=\"stroke: #A80036; stroke-width: 1.5;\" width=\"50\" x=\"126\" y=\"253\"/><ellipse cx=\"145.5\" cy=\"269\" fill=\"#008000\" rx=\"11\" ry=\"11\" style=\"stroke: #A80036; stroke-width: 1.0;\"/><path d=\"M142.375,274 L142.375,263.4063 L145.6094,263.4063 Q147.5156,263.4063 148.4219,264.1563 Q149.3438,264.9063 149.3438,266.0781 Q149.3438,266.7656 148.9531,267.4219 Q148.5781,268.0781 147.8594,268.375 Q148.7188,268.75 149.2344,269.4375 Q149.75,270.125 149.75,270.9375 Q149.75,272.3125 148.7188,273.1563 Q147.7031,274 145.5938,274 L142.375,274 Z M144.2969,267.6406 L145.4531,267.6406 Q146.5781,267.6406 146.9844,267.2656 Q147.4063,266.875 147.4063,266.25 Q147.4063,265.6719 146.9844,265.3125 Q146.5625,264.9531 145.625,264.9531 L144.2969,264.9531 L144.2969,267.6406 Z M144.2969,272.4219 L145.7969,272.4219 Q146.7031,272.4219 147.2344,272.0313 Q147.7656,271.6406 147.7656,270.8906 Q147.7656,270.125 147.2656,269.6563 Q146.7656,269.1719 145.5,269.1719 L144.2969,269.1719 L144.2969,272.4219 Z \"/><text fill=\"#000000\" font-family=\"sans-serif\" font-size=\"12\" lengthAdjust=\"spacingAndGlyphs\" textLength=\"8\" x=\"160.5\" y=\"273.1543\">A</text></a></g><a href=\"psysml:bb8eeef5-ab74-4ee9-8505-e654a7ee43f1\" target=\"_top\" title=\"psysml:bb8eeef5-ab74-4ee9-8505-e654a7ee43f1\" xlink:actuate=\"onRequest\" xlink:href=\"psysml:bb8eeef5-ab74-4ee9-8505-e654a7ee43f1\" xlink:show=\"new\" xlink:title=\"psysml:bb8eeef5-ab74-4ee9-8505-e654a7ee43f1\" xlink:type=\"simple\"><polygon fill=\"#FFFFFF\" filter=\"url(#fxnptjthe92dl)\" points=\"56,84,88,84,95,106.2969,102,106.2969,102,136.5938,56,136.5938,56,84\" style=\"stroke: #000000; stroke-width: 1.5;\"/><line style=\"stroke: #000000; stroke-width: 1.5;\" x1=\"56\" x2=\"95\" y1=\"106.2969\" y2=\"106.2969\"/><text fill=\"#000000\" font-family=\"sans-serif\" font-size=\"14\" font-weight=\"bold\" lengthAdjust=\"spacingAndGlyphs\" textLength=\"26\" x=\"60\" y=\"98.9951\">P2a</text></a><g id=\"E1.E4.E6\"><a href=\"psysml:d91f8c93-5cf2-41b6-a65a-d41673929b38\" target=\"_top\" title=\"psysml:d91f8c93-5cf2-41b6-a65a-d41673929b38\" xlink:actuate=\"onRequest\" xlink:href=\"psysml:d91f8c93-5cf2-41b6-a65a-d41673929b38\" xlink:show=\"new\" xlink:title=\"psysml:d91f8c93-5cf2-41b6-a65a-d41673929b38\" xlink:type=\"simple\"><rect fill=\"#FEFECE\" filter=\"url(#fxnptjthe92dl)\" height=\"40\" id=\"E6\" rx=\"10\" ry=\"10\" style=\"stroke: #A80036; stroke-width: 1.5;\" width=\"59\" x=\"137.5\" y=\"90.5\"/><ellipse cx=\"154.75\" cy=\"106.5\" fill=\"#B6DBBB\" rx=\"11\" ry=\"11\" style=\"stroke: #A80036; stroke-width: 1.0;\"/><path d=\"M154.5,111.9688 Q152.75,111.9688 151.7969,110.9375 Q150.8594,109.8906 150.8594,108.0469 L150.8594,101.1563 L152.9219,101.1563 L152.9219,101.3125 Q152.8281,101.4063 152.7969,101.5469 Q152.7813,101.6719 152.7813,101.9375 L152.7813,108.0625 Q152.7813,109.1563 153.1563,109.7813 Q153.5313,110.4063 154.5156,110.4063 Q155.5,110.4063 155.8906,109.7813 Q156.2813,109.1563 156.2813,108.0156 L156.2813,101.1563 L158.1563,101.1563 L158.1563,108 Q158.1563,110.0313 157.125,111 Q156.1094,111.9688 154.5,111.9688 Z \"/><text fill=\"#000000\" font-family=\"sans-serif\" font-size=\"12\" lengthAdjust=\"spacingAndGlyphs\" textLength=\"22\" x=\"169.25\" y=\"110.6543\">x: A</text></a></g><!--MD5=[15ebcb19ae302d9b601edb458606d402]\n",
       "link E5 to E2--><a href=\"psysml:06c75c6a-903d-4e64-8c9a-141a01fc9647\" target=\"_top\" title=\"psysml:06c75c6a-903d-4e64-8c9a-141a01fc9647\" xlink:actuate=\"onRequest\" xlink:href=\"psysml:06c75c6a-903d-4e64-8c9a-141a01fc9647\" xlink:show=\"new\" xlink:title=\"psysml:06c75c6a-903d-4e64-8c9a-141a01fc9647\" xlink:type=\"simple\"><path d=\"M80.93,137.29 C81.765,148.455 82.7988,162.2831 83.883,176.7875 C84.4251,184.0397 84.9798,191.4609 85.5286,198.8029 C85.803,202.4739 86.0759,206.125 86.3451,209.7253 \" fill=\"none\" id=\"E5-&gt;E2\" style=\"stroke: #A80036; stroke-width: 1.0; stroke-dasharray: 7.0,7.0;\"/><polygon fill=\"#A80036\" points=\"86.3451,209.7253,89.663,200.4522,85.9724,204.7392,81.6853,201.0485,86.3451,209.7253\" style=\"stroke: #A80036; stroke-width: 1.0;\"/><text fill=\"#000000\" font-family=\"sans-serif\" font-size=\"13\" lengthAdjust=\"spacingAndGlyphs\" textLength=\"65\" x=\"85\" y=\"182.0669\">«import»*</text></a><!--MD5=[a717450b82c80b9240a525fa862496af]\n",
       "link E6 to E3--><a href=\"psysml:2903afd1-9bf2-47a6-8d72-b5532180e7bb\" target=\"_top\" title=\"psysml:2903afd1-9bf2-47a6-8d72-b5532180e7bb\" xlink:actuate=\"onRequest\" xlink:href=\"psysml:2903afd1-9bf2-47a6-8d72-b5532180e7bb\" xlink:show=\"new\" xlink:title=\"psysml:2903afd1-9bf2-47a6-8d72-b5532180e7bb\" xlink:type=\"simple\"><path d=\"M165.1,130.54 C162.6,155.64 158.14,200.4 154.9,232.87 \" fill=\"none\" id=\"E6-&gt;E3\" style=\"stroke: #A80036; stroke-width: 1.0;\"/><polygon fill=\"#FFFFFF\" points=\"152.9,252.98,147.8197,233.3792,161.7507,234.7683,152.9,252.98\" style=\"stroke: #A80036; stroke-width: 1.0;\"/><ellipse cx=\"150.3754\" cy=\"227.9058\" fill=\"#A80036\" rx=\"2\" ry=\"2\" style=\"stroke: #A80036; stroke-width: 1.0;\"/><ellipse cx=\"160.3261\" cy=\"228.898\" fill=\"#A80036\" rx=\"2\" ry=\"2\" style=\"stroke: #A80036; stroke-width: 1.0;\"/></a><!--MD5=[fc97f8f67f92999a8b9333926568e69a]\n",
       "@startuml\r\n",
       "skinparam ranksep 10\r\n",
       "skinparam rectangle {\r\n",
       " backgroundColor<<block>> LightGreen\r\n",
       "}\r\n",
       " \r\n",
       "package \"QualifiedNameImportTest\" as E1  [[psysml:50af7fae-c5e9-43d5-b973-e599fd0b94e5 ]]  {\r\n",
       "package \"P1\" as E2  [[psysml:1e9ed716-c57b-44aa-8aaa-ea3379eecc8d ]]  {\r\n",
       "rec def \"A\" as E3 << << (B,green) >> [[psysml:4266c5b7-3671-4acf-aa71-02dd8d212457 ]] {\r\n",
       "}\r\n",
       "}\r\n",
       "package \"P2\" as E4  [[psysml:04b1b2f0-8c96-40bb-b2e8-2bd575969190 ]]  {\r\n",
       "package \"P2a\" as E5  [[psysml:bb8eeef5-ab74-4ee9-8505-e654a7ee43f1 ]]  {\r\n",
       "}\r\n",
       "rec usage \"x: A\" as E6  [[psysml:d91f8c93-5cf2-41b6-a65a-d41673929b38 ]] {\r\n",
       "}\r\n",
       "}\r\n",
       "}\r\n",
       "E5 ..> E2 [[psysml:06c75c6a-903d-4e64-8c9a-141a01fc9647 ]] : <<import>>*\r\n",
       "E6 - -:|> E3 [[psysml:2903afd1-9bf2-47a6-8d72-b5532180e7bb ]] \r\n",
       "@enduml\r\n",
       "\n",
       "PlantUML version 1.2020.13(Sat Jun 13 12:26:38 UTC 2020)\n",
       "(EPL source distribution)\n",
       "Java Runtime: OpenJDK Runtime Environment\n",
       "JVM: OpenJDK 64-Bit Server VM\n",
       "Default Encoding: UTF-8\n",
       "Language: en\n",
       "Country: null\n",
       "--></g></svg>"
      ]
     },
     "execution_count": 33,
     "metadata": {},
     "output_type": "execute_result"
    }
   ],
   "source": [
    "%viz --style=\"PLANTUML\" --view=\"Interconnection\" \"QualifiedNameImportTest\""
   ]
  },
  {
   "cell_type": "code",
   "execution_count": 34,
   "id": "0233c127",
   "metadata": {
    "execution": {
     "iopub.execute_input": "2022-04-22T09:51:24.555359Z",
     "iopub.status.busy": "2022-04-22T09:51:24.554950Z",
     "iopub.status.idle": "2022-04-22T09:51:24.559561Z",
     "shell.execute_reply": "2022-04-22T09:51:24.559943Z"
    }
   },
   "outputs": [
    {
     "data": {
      "image/svg+xml": [
       "<?xml version=\"1.0\" encoding=\"UTF-8\" standalone=\"no\"?><svg xmlns=\"http://www.w3.org/2000/svg\" xmlns:xlink=\"http://www.w3.org/1999/xlink\" contentScriptType=\"application/ecmascript\" contentStyleType=\"text/css\" height=\"12px\" preserveAspectRatio=\"none\" style=\"width:12px;height:12px;\" version=\"1.1\" viewBox=\"0 0 12 12\" width=\"12px\" zoomAndPan=\"magnify\"><defs/><g><!--MD5=[6a4cb978cab31700e1ce5529f947a75d]\n",
       "@startuml\r\n",
       "skinparam ranksep 8\r\n",
       " \r\n",
       "@enduml\r\n",
       "\n",
       "PlantUML version 1.2020.13(Sat Jun 13 12:26:38 UTC 2020)\n",
       "(EPL source distribution)\n",
       "Java Runtime: OpenJDK Runtime Environment\n",
       "JVM: OpenJDK 64-Bit Server VM\n",
       "Default Encoding: UTF-8\n",
       "Language: en\n",
       "Country: null\n",
       "--></g></svg>"
      ]
     },
     "execution_count": 34,
     "metadata": {},
     "output_type": "execute_result"
    }
   ],
   "source": [
    "%viz --style=\"PLANTUML\" --view=\"Action\" \"QualifiedNameImportTest\""
   ]
  },
  {
   "cell_type": "code",
   "execution_count": 35,
   "id": "3014e336",
   "metadata": {
    "execution": {
     "iopub.execute_input": "2022-04-22T09:51:24.609948Z",
     "iopub.status.busy": "2022-04-22T09:51:24.609420Z",
     "iopub.status.idle": "2022-04-22T09:51:24.614767Z",
     "shell.execute_reply": "2022-04-22T09:51:24.614359Z"
    }
   },
   "outputs": [
    {
     "data": {
      "image/svg+xml": [
       "<?xml version=\"1.0\" encoding=\"UTF-8\" standalone=\"no\"?><svg xmlns=\"http://www.w3.org/2000/svg\" xmlns:xlink=\"http://www.w3.org/1999/xlink\" contentScriptType=\"application/ecmascript\" contentStyleType=\"text/css\" height=\"12px\" preserveAspectRatio=\"none\" style=\"width:12px;height:12px;\" version=\"1.1\" viewBox=\"0 0 12 12\" width=\"12px\" zoomAndPan=\"magnify\"><defs/><g><!--MD5=[ca4faa0b02def275ea33c14ea7a1a98d]\n",
       "@startuml\r\n",
       "skinparam roundcorner 20\r\n",
       "skinparam BoxPadding 20\r\n",
       "skinparam SequenceBoxBackgroundColor #white\r\n",
       "skinparam style strictuml\r\n",
       "skinparam maxMessageSize 100\r\n",
       " \r\n",
       "@enduml\r\n",
       "\n",
       "PlantUML version 1.2020.13(Sat Jun 13 12:26:38 UTC 2020)\n",
       "(EPL source distribution)\n",
       "Java Runtime: OpenJDK Runtime Environment\n",
       "JVM: OpenJDK 64-Bit Server VM\n",
       "Default Encoding: UTF-8\n",
       "Language: en\n",
       "Country: null\n",
       "--></g></svg>"
      ]
     },
     "execution_count": 35,
     "metadata": {},
     "output_type": "execute_result"
    }
   ],
   "source": [
    "%viz --style=\"PLANTUML\" --view=\"Sequence\" \"QualifiedNameImportTest\""
   ]
  },
  {
   "cell_type": "code",
   "execution_count": 36,
   "id": "41278aca",
   "metadata": {
    "execution": {
     "iopub.execute_input": "2022-04-22T09:51:24.664242Z",
     "iopub.status.busy": "2022-04-22T09:51:24.663776Z",
     "iopub.status.idle": "2022-04-22T09:51:24.695475Z",
     "shell.execute_reply": "2022-04-22T09:51:24.695099Z"
    }
   },
   "outputs": [
    {
     "data": {
      "image/svg+xml": [
       "<?xml version=\"1.0\" encoding=\"UTF-8\" standalone=\"no\"?><svg xmlns=\"http://www.w3.org/2000/svg\" xmlns:xlink=\"http://www.w3.org/1999/xlink\" contentScriptType=\"application/ecmascript\" contentStyleType=\"text/css\" height=\"361px\" preserveAspectRatio=\"none\" style=\"width:267px;height:361px;\" version=\"1.1\" viewBox=\"0 0 267 361\" width=\"267px\" zoomAndPan=\"magnify\"><defs><filter height=\"300%\" id=\"fwn21ad46ksgs\" width=\"300%\" x=\"-1\" y=\"-1\"><feGaussianBlur result=\"blurOut\" stdDeviation=\"2.0\"/><feColorMatrix in=\"blurOut\" result=\"blurOut2\" type=\"matrix\" values=\"0 0 0 0 0 0 0 0 0 0 0 0 0 0 0 0 0 0 .4 0\"/><feOffset dx=\"4.0\" dy=\"4.0\" in=\"blurOut2\" result=\"blurOut3\"/><feBlend in=\"SourceGraphic\" in2=\"blurOut3\" mode=\"normal\"/></filter></defs><g><!--MD5=[fbc87193dbaf4d95561dea2c320d4a47]\n",
       "cluster E1--><a href=\"psysml:50af7fae-c5e9-43d5-b973-e599fd0b94e5\" target=\"_top\" title=\"psysml:50af7fae-c5e9-43d5-b973-e599fd0b94e5\" xlink:actuate=\"onRequest\" xlink:href=\"psysml:50af7fae-c5e9-43d5-b973-e599fd0b94e5\" xlink:show=\"new\" xlink:title=\"psysml:50af7fae-c5e9-43d5-b973-e599fd0b94e5\" xlink:type=\"simple\"><polygon fill=\"#FFFFFF\" filter=\"url(#fwn21ad46ksgs)\" points=\"16,6,196,6,203,28.2969,245,28.2969,245,349,16,349,16,6\" style=\"stroke: #000000; stroke-width: 1.5;\"/><line style=\"stroke: #000000; stroke-width: 1.5;\" x1=\"16\" x2=\"203\" y1=\"28.2969\" y2=\"28.2969\"/><text fill=\"#000000\" font-family=\"sans-serif\" font-size=\"14\" font-weight=\"bold\" lengthAdjust=\"spacingAndGlyphs\" textLength=\"174\" x=\"20\" y=\"20.9951\">QualifiedNameImportTest</text></a><!--MD5=[e4f7fae6ed58524ba242bb0b0d3be6b7]\n",
       "cluster E2--><a href=\"psysml:1e9ed716-c57b-44aa-8aaa-ea3379eecc8d\" target=\"_top\" title=\"psysml:1e9ed716-c57b-44aa-8aaa-ea3379eecc8d\" xlink:actuate=\"onRequest\" xlink:href=\"psysml:1e9ed716-c57b-44aa-8aaa-ea3379eecc8d\" xlink:show=\"new\" xlink:title=\"psysml:1e9ed716-c57b-44aa-8aaa-ea3379eecc8d\" xlink:type=\"simple\"><polygon fill=\"#FFFFFF\" filter=\"url(#fwn21ad46ksgs)\" points=\"55,210,79,210,86,232.2969,162,232.2969,162,317,55,317,55,210\" style=\"stroke: #000000; stroke-width: 1.5;\"/><line style=\"stroke: #000000; stroke-width: 1.5;\" x1=\"55\" x2=\"86\" y1=\"232.2969\" y2=\"232.2969\"/><text fill=\"#000000\" font-family=\"sans-serif\" font-size=\"14\" font-weight=\"bold\" lengthAdjust=\"spacingAndGlyphs\" textLength=\"18\" x=\"59\" y=\"224.9951\">P1</text></a><!--MD5=[f6df4d0ebaf0b5dfb2ced0ae5af7c670]\n",
       "cluster E4--><a href=\"psysml:04b1b2f0-8c96-40bb-b2e8-2bd575969190\" target=\"_top\" title=\"psysml:04b1b2f0-8c96-40bb-b2e8-2bd575969190\" xlink:actuate=\"onRequest\" xlink:href=\"psysml:04b1b2f0-8c96-40bb-b2e8-2bd575969190\" xlink:show=\"new\" xlink:title=\"psysml:04b1b2f0-8c96-40bb-b2e8-2bd575969190\" xlink:type=\"simple\"><polygon fill=\"#FFFFFF\" filter=\"url(#fwn21ad46ksgs)\" points=\"40,49,64,49,71,71.2969,221,71.2969,221,153,40,153,40,49\" style=\"stroke: #000000; stroke-width: 1.5;\"/><line style=\"stroke: #000000; stroke-width: 1.5;\" x1=\"40\" x2=\"71\" y1=\"71.2969\" y2=\"71.2969\"/><text fill=\"#000000\" font-family=\"sans-serif\" font-size=\"14\" font-weight=\"bold\" lengthAdjust=\"spacingAndGlyphs\" textLength=\"18\" x=\"44\" y=\"63.9951\">P2</text></a><!--MD5=[09b614a08d8cba4a07c9adeb5e0fee81]\n",
       "class E3--><a href=\"psysml:4266c5b7-3671-4acf-aa71-02dd8d212457\" target=\"_top\" title=\"psysml:4266c5b7-3671-4acf-aa71-02dd8d212457\" xlink:actuate=\"onRequest\" xlink:href=\"psysml:4266c5b7-3671-4acf-aa71-02dd8d212457\" xlink:show=\"new\" xlink:title=\"psysml:4266c5b7-3671-4acf-aa71-02dd8d212457\" xlink:type=\"simple\"><rect fill=\"#FEFECE\" filter=\"url(#fwn21ad46ksgs)\" height=\"40\" id=\"E3\" style=\"stroke: #A80036; stroke-width: 1.5;\" width=\"40\" x=\"79\" y=\"253\"/><ellipse cx=\"94\" cy=\"269\" fill=\"#008000\" rx=\"11\" ry=\"11\" style=\"stroke: #A80036; stroke-width: 1.0;\"/><path d=\"M90.875,274 L90.875,263.4063 L94.1094,263.4063 Q96.0156,263.4063 96.9219,264.1563 Q97.8438,264.9063 97.8438,266.0781 Q97.8438,266.7656 97.4531,267.4219 Q97.0781,268.0781 96.3594,268.375 Q97.2188,268.75 97.7344,269.4375 Q98.25,270.125 98.25,270.9375 Q98.25,272.3125 97.2188,273.1563 Q96.2031,274 94.0938,274 L90.875,274 Z M92.7969,267.6406 L93.9531,267.6406 Q95.0781,267.6406 95.4844,267.2656 Q95.9063,266.875 95.9063,266.25 Q95.9063,265.6719 95.4844,265.3125 Q95.0625,264.9531 94.125,264.9531 L92.7969,264.9531 L92.7969,267.6406 Z M92.7969,272.4219 L94.2969,272.4219 Q95.2031,272.4219 95.7344,272.0313 Q96.2656,271.6406 96.2656,270.8906 Q96.2656,270.125 95.7656,269.6563 Q95.2656,269.1719 94,269.1719 L92.7969,269.1719 L92.7969,272.4219 Z \"/><text fill=\"#000000\" font-family=\"sans-serif\" font-size=\"12\" lengthAdjust=\"spacingAndGlyphs\" textLength=\"8\" x=\"108\" y=\"273.1543\">A</text><line style=\"stroke: #A80036; stroke-width: 1.5;\" x1=\"80\" x2=\"118\" y1=\"285\" y2=\"285\"/></a><!--MD5=[60a26617385b1d2d0262a64233df1f8d]\n",
       "class E6--><a href=\"psysml:d91f8c93-5cf2-41b6-a65a-d41673929b38\" target=\"_top\" title=\"psysml:d91f8c93-5cf2-41b6-a65a-d41673929b38\" xlink:actuate=\"onRequest\" xlink:href=\"psysml:d91f8c93-5cf2-41b6-a65a-d41673929b38\" xlink:show=\"new\" xlink:title=\"psysml:d91f8c93-5cf2-41b6-a65a-d41673929b38\" xlink:type=\"simple\"><rect fill=\"#FEFECE\" filter=\"url(#fwn21ad46ksgs)\" height=\"45.9375\" id=\"E6\" rx=\"10\" ry=\"10\" style=\"stroke: #A80036; stroke-width: 1.5;\" width=\"68\" x=\"56\" y=\"87.5\"/><ellipse cx=\"71\" cy=\"106.4688\" fill=\"#32CD32\" rx=\"11\" ry=\"11\" style=\"stroke: #A80036; stroke-width: 1.0;\"/><path d=\"M67.8125,111.4688 L67.8125,100.875 L71.4219,100.875 Q72.6406,100.875 73.4375,101.3125 Q74.2344,101.7344 74.6094,102.4375 Q75,103.1406 75,103.9844 Q75,104.8281 74.625,105.5156 Q74.2656,106.2031 73.4688,106.625 Q72.6875,107.0313 71.5,107.0313 L69.7656,107.0313 L69.7656,111.4688 L67.8125,111.4688 Z M69.7656,105.4375 L71.375,105.4375 Q72.1875,105.4375 72.6094,105.0313 Q73.0313,104.625 73.0313,103.9844 Q73.0313,103.3594 72.6094,102.9531 Q72.1875,102.5469 71.3906,102.5469 L69.7656,102.5469 L69.7656,105.4375 Z \"/><text fill=\"#000000\" font-family=\"sans-serif\" font-size=\"12\" font-style=\"italic\" lengthAdjust=\"spacingAndGlyphs\" textLength=\"40\" x=\"83\" y=\"103.6387\">«part»</text><text fill=\"#000000\" font-family=\"sans-serif\" font-size=\"12\" lengthAdjust=\"spacingAndGlyphs\" textLength=\"22\" x=\"90\" y=\"117.6074\">x: A</text><line style=\"stroke: #A80036; stroke-width: 1.5;\" x1=\"57\" x2=\"123\" y1=\"125.4375\" y2=\"125.4375\"/></a><a href=\"psysml:bb8eeef5-ab74-4ee9-8505-e654a7ee43f1\" target=\"_top\" title=\"psysml:bb8eeef5-ab74-4ee9-8505-e654a7ee43f1\" xlink:actuate=\"onRequest\" xlink:href=\"psysml:bb8eeef5-ab74-4ee9-8505-e654a7ee43f1\" xlink:show=\"new\" xlink:title=\"psysml:bb8eeef5-ab74-4ee9-8505-e654a7ee43f1\" xlink:type=\"simple\"><polygon fill=\"#FFFFFF\" filter=\"url(#fwn21ad46ksgs)\" points=\"159,84,191,84,198,106.2969,205,106.2969,205,136.5938,159,136.5938,159,84\" style=\"stroke: #000000; stroke-width: 1.5;\"/><line style=\"stroke: #000000; stroke-width: 1.5;\" x1=\"159\" x2=\"198\" y1=\"106.2969\" y2=\"106.2969\"/><text fill=\"#000000\" font-family=\"sans-serif\" font-size=\"14\" font-weight=\"bold\" lengthAdjust=\"spacingAndGlyphs\" textLength=\"26\" x=\"163\" y=\"98.9951\">P2a</text></a><!--MD5=[15ebcb19ae302d9b601edb458606d402]\n",
       "link E5 to E2--><a href=\"psysml:06c75c6a-903d-4e64-8c9a-141a01fc9647\" target=\"_top\" title=\"psysml:06c75c6a-903d-4e64-8c9a-141a01fc9647\" xlink:actuate=\"onRequest\" xlink:href=\"psysml:06c75c6a-903d-4e64-8c9a-141a01fc9647\" xlink:show=\"new\" xlink:title=\"psysml:06c75c6a-903d-4e64-8c9a-141a01fc9647\" xlink:type=\"simple\"><path d=\"M177.5,137.29 C173.605,159.62 167.8525,192.6025 163.0138,220.3425 C162.7113,222.0763 162.4125,223.7895 162.1179,225.4784 C162.081,225.6895 162.0443,225.9003 162.0076,226.1106 \" fill=\"none\" id=\"E5-&gt;E2\" style=\"stroke: #A80036; stroke-width: 1.0; stroke-dasharray: 7.0,7.0;\"/><polygon fill=\"#A80036\" points=\"162.0076,226.1106,167.4947,217.9319,162.8668,221.185,159.6137,216.5571,162.0076,226.1106\" style=\"stroke: #A80036; stroke-width: 1.0;\"/><text fill=\"#000000\" font-family=\"sans-serif\" font-size=\"13\" lengthAdjust=\"spacingAndGlyphs\" textLength=\"65\" x=\"172\" y=\"182.0669\">«import»*</text></a><!--MD5=[a717450b82c80b9240a525fa862496af]\n",
       "link E6 to E3--><a href=\"psysml:2903afd1-9bf2-47a6-8d72-b5532180e7bb\" target=\"_top\" title=\"psysml:2903afd1-9bf2-47a6-8d72-b5532180e7bb\" xlink:actuate=\"onRequest\" xlink:href=\"psysml:2903afd1-9bf2-47a6-8d72-b5532180e7bb\" xlink:show=\"new\" xlink:title=\"psysml:2903afd1-9bf2-47a6-8d72-b5532180e7bb\" xlink:type=\"simple\"><path d=\"M91.25,133.82 C92.68,159.32 95.05,201.55 96.79,232.62 \" fill=\"none\" id=\"E6-&gt;E3\" style=\"stroke: #A80036; stroke-width: 1.0;\"/><polygon fill=\"#FFFFFF\" points=\"97.93,252.88,89.8824,234.2995,103.8607,233.5196,97.93,252.88\" style=\"stroke: #A80036; stroke-width: 1.0;\"/><ellipse cx=\"91.5618\" cy=\"228.4969\" fill=\"#A80036\" rx=\"2\" ry=\"2\" style=\"stroke: #A80036; stroke-width: 1.0;\"/><ellipse cx=\"101.5463\" cy=\"227.9398\" fill=\"#A80036\" rx=\"2\" ry=\"2\" style=\"stroke: #A80036; stroke-width: 1.0;\"/></a><!--MD5=[4eb03a75ee651c3e36bb9d4b8d54b4a3]\n",
       "@startuml\r\n",
       " \r\n",
       "package \"QualifiedNameImportTest\" as E1  [[psysml:50af7fae-c5e9-43d5-b973-e599fd0b94e5 ]]  {\r\n",
       "package \"P1\" as E2  [[psysml:1e9ed716-c57b-44aa-8aaa-ea3379eecc8d ]]  {\r\n",
       "comp def \"A\" as E3 << << (B,green) >> [[psysml:4266c5b7-3671-4acf-aa71-02dd8d212457 ]] {\r\n",
       "}\r\n",
       "}\r\n",
       "package \"P2\" as E4  [[psysml:04b1b2f0-8c96-40bb-b2e8-2bd575969190 ]]  {\r\n",
       "package \"P2a\" as E5  [[psysml:bb8eeef5-ab74-4ee9-8505-e654a7ee43f1 ]]  {\r\n",
       "}\r\n",
       "comp usage \"x: A \" as E6 << << (P,limegreen) part>> [[psysml:d91f8c93-5cf2-41b6-a65a-d41673929b38 ]] {\r\n",
       "}\r\n",
       "}\r\n",
       "}\r\n",
       "E5 ..> E2 [[psysml:06c75c6a-903d-4e64-8c9a-141a01fc9647 ]] : <<import>>*\r\n",
       "E6 - -:|> E3 [[psysml:2903afd1-9bf2-47a6-8d72-b5532180e7bb ]] \r\n",
       "@enduml\r\n",
       "\n",
       "PlantUML version 1.2020.13(Sat Jun 13 12:26:38 UTC 2020)\n",
       "(EPL source distribution)\n",
       "Java Runtime: OpenJDK Runtime Environment\n",
       "JVM: OpenJDK 64-Bit Server VM\n",
       "Default Encoding: UTF-8\n",
       "Language: en\n",
       "Country: null\n",
       "--></g></svg>"
      ]
     },
     "execution_count": 36,
     "metadata": {},
     "output_type": "execute_result"
    }
   ],
   "source": [
    "%viz --style=\"PLANTUML\" --view=\"MIXED\" \"QualifiedNameImportTest\""
   ]
  },
  {
   "cell_type": "code",
   "execution_count": 37,
   "id": "97de3e40",
   "metadata": {
    "execution": {
     "iopub.execute_input": "2022-04-22T09:51:24.745453Z",
     "iopub.status.busy": "2022-04-22T09:51:24.744967Z",
     "iopub.status.idle": "2022-04-22T09:51:24.776140Z",
     "shell.execute_reply": "2022-04-22T09:51:24.775722Z"
    }
   },
   "outputs": [
    {
     "data": {
      "image/svg+xml": [
       "<?xml version=\"1.0\" encoding=\"UTF-8\" standalone=\"no\"?><svg xmlns=\"http://www.w3.org/2000/svg\" xmlns:xlink=\"http://www.w3.org/1999/xlink\" contentScriptType=\"application/ecmascript\" contentStyleType=\"text/css\" height=\"367px\" preserveAspectRatio=\"none\" style=\"width:243px;height:367px;\" version=\"1.1\" viewBox=\"0 0 243 367\" width=\"243px\" zoomAndPan=\"magnify\"><defs/><g><!--MD5=[fbc87193dbaf4d95561dea2c320d4a47]\n",
       "cluster E1--><a href=\"psysml:50af7fae-c5e9-43d5-b973-e599fd0b94e5\" target=\"_top\" title=\"psysml:50af7fae-c5e9-43d5-b973-e599fd0b94e5\" xlink:actuate=\"onRequest\" xlink:href=\"psysml:50af7fae-c5e9-43d5-b973-e599fd0b94e5\" xlink:show=\"new\" xlink:title=\"psysml:50af7fae-c5e9-43d5-b973-e599fd0b94e5\" xlink:type=\"simple\"><polygon fill=\"#FFFFFF\" points=\"16,6,196,6,203,28.2969,219,28.2969,219,355,16,355,16,6\" style=\"stroke: #000000; stroke-width: 1.5;\"/><line style=\"stroke: #000000; stroke-width: 1.5;\" x1=\"16\" x2=\"203\" y1=\"28.2969\" y2=\"28.2969\"/><text fill=\"#000000\" font-family=\"sans-serif\" font-size=\"14\" font-weight=\"bold\" lengthAdjust=\"spacingAndGlyphs\" textLength=\"174\" x=\"20\" y=\"20.9951\">QualifiedNameImportTest</text></a><!--MD5=[e4f7fae6ed58524ba242bb0b0d3be6b7]\n",
       "cluster E2--><a href=\"psysml:1e9ed716-c57b-44aa-8aaa-ea3379eecc8d\" target=\"_top\" title=\"psysml:1e9ed716-c57b-44aa-8aaa-ea3379eecc8d\" xlink:actuate=\"onRequest\" xlink:href=\"psysml:1e9ed716-c57b-44aa-8aaa-ea3379eecc8d\" xlink:show=\"new\" xlink:title=\"psysml:1e9ed716-c57b-44aa-8aaa-ea3379eecc8d\" xlink:type=\"simple\"><polygon fill=\"#FFFFFF\" points=\"48,210,72,210,79,232.2969,185,232.2969,185,323,48,323,48,210\" style=\"stroke: #000000; stroke-width: 1.5;\"/><line style=\"stroke: #000000; stroke-width: 1.5;\" x1=\"48\" x2=\"79\" y1=\"232.2969\" y2=\"232.2969\"/><text fill=\"#000000\" font-family=\"sans-serif\" font-size=\"14\" font-weight=\"bold\" lengthAdjust=\"spacingAndGlyphs\" textLength=\"18\" x=\"52\" y=\"224.9951\">P1</text></a><!--MD5=[f6df4d0ebaf0b5dfb2ced0ae5af7c670]\n",
       "cluster E4--><a href=\"psysml:04b1b2f0-8c96-40bb-b2e8-2bd575969190\" target=\"_top\" title=\"psysml:04b1b2f0-8c96-40bb-b2e8-2bd575969190\" xlink:actuate=\"onRequest\" xlink:href=\"psysml:04b1b2f0-8c96-40bb-b2e8-2bd575969190\" xlink:show=\"new\" xlink:title=\"psysml:04b1b2f0-8c96-40bb-b2e8-2bd575969190\" xlink:type=\"simple\"><polygon fill=\"#FFFFFF\" points=\"40,49,64,49,71,71.2969,195,71.2969,195,153,40,153,40,49\" style=\"stroke: #000000; stroke-width: 1.5;\"/><line style=\"stroke: #000000; stroke-width: 1.5;\" x1=\"40\" x2=\"71\" y1=\"71.2969\" y2=\"71.2969\"/><text fill=\"#000000\" font-family=\"sans-serif\" font-size=\"14\" font-weight=\"bold\" lengthAdjust=\"spacingAndGlyphs\" textLength=\"18\" x=\"44\" y=\"63.9951\">P2</text></a><!--MD5=[09b614a08d8cba4a07c9adeb5e0fee81]\n",
       "class E3--><a href=\"psysml:4266c5b7-3671-4acf-aa71-02dd8d212457\" target=\"_top\" title=\"psysml:4266c5b7-3671-4acf-aa71-02dd8d212457\" xlink:actuate=\"onRequest\" xlink:href=\"psysml:4266c5b7-3671-4acf-aa71-02dd8d212457\" xlink:show=\"new\" xlink:title=\"psysml:4266c5b7-3671-4acf-aa71-02dd8d212457\" xlink:type=\"simple\"><rect fill=\"#FFFFFF\" height=\"45.9375\" id=\"E3\" style=\"stroke: #383838; stroke-width: 1.5;\" width=\"70\" x=\"72\" y=\"253\"/><text fill=\"#000000\" font-family=\"sans-serif\" font-size=\"12\" font-style=\"italic\" lengthAdjust=\"spacingAndGlyphs\" textLength=\"68\" x=\"73\" y=\"269.1387\">«part  def»</text><text fill=\"#000000\" font-family=\"sans-serif\" font-size=\"12\" lengthAdjust=\"spacingAndGlyphs\" textLength=\"8\" x=\"103\" y=\"283.1074\">A</text><line style=\"stroke: #383838; stroke-width: 1.5;\" x1=\"73\" x2=\"141\" y1=\"290.9375\" y2=\"290.9375\"/></a><!--MD5=[60a26617385b1d2d0262a64233df1f8d]\n",
       "class E6--><a href=\"psysml:d91f8c93-5cf2-41b6-a65a-d41673929b38\" target=\"_top\" title=\"psysml:d91f8c93-5cf2-41b6-a65a-d41673929b38\" xlink:actuate=\"onRequest\" xlink:href=\"psysml:d91f8c93-5cf2-41b6-a65a-d41673929b38\" xlink:show=\"new\" xlink:title=\"psysml:d91f8c93-5cf2-41b6-a65a-d41673929b38\" xlink:type=\"simple\"><rect fill=\"#FFFFFF\" height=\"45.9375\" id=\"E6\" rx=\"10\" ry=\"10\" style=\"stroke: #383838; stroke-width: 1.5;\" width=\"42\" x=\"56\" y=\"87.5\"/><text fill=\"#000000\" font-family=\"sans-serif\" font-size=\"12\" font-style=\"italic\" lengthAdjust=\"spacingAndGlyphs\" textLength=\"40\" x=\"57\" y=\"103.6387\">«part»</text><text fill=\"#000000\" font-family=\"sans-serif\" font-size=\"12\" lengthAdjust=\"spacingAndGlyphs\" textLength=\"22\" x=\"64\" y=\"117.6074\">x: A</text><line style=\"stroke: #383838; stroke-width: 1.5;\" x1=\"57\" x2=\"97\" y1=\"125.4375\" y2=\"125.4375\"/></a><a href=\"psysml:bb8eeef5-ab74-4ee9-8505-e654a7ee43f1\" target=\"_top\" title=\"psysml:bb8eeef5-ab74-4ee9-8505-e654a7ee43f1\" xlink:actuate=\"onRequest\" xlink:href=\"psysml:bb8eeef5-ab74-4ee9-8505-e654a7ee43f1\" xlink:show=\"new\" xlink:title=\"psysml:bb8eeef5-ab74-4ee9-8505-e654a7ee43f1\" xlink:type=\"simple\"><polygon fill=\"#FFFFFF\" points=\"133,84,165,84,172,106.2969,179,106.2969,179,136.5938,133,136.5938,133,84\" style=\"stroke: #000000; stroke-width: 1.5;\"/><line style=\"stroke: #000000; stroke-width: 1.5;\" x1=\"133\" x2=\"172\" y1=\"106.2969\" y2=\"106.2969\"/><text fill=\"#000000\" font-family=\"sans-serif\" font-size=\"14\" font-weight=\"bold\" lengthAdjust=\"spacingAndGlyphs\" textLength=\"26\" x=\"137\" y=\"98.9951\">P2a</text></a><!--MD5=[15ebcb19ae302d9b601edb458606d402]\n",
       "link E5 to E2--><a href=\"psysml:06c75c6a-903d-4e64-8c9a-141a01fc9647\" target=\"_top\" title=\"psysml:06c75c6a-903d-4e64-8c9a-141a01fc9647\" xlink:actuate=\"onRequest\" xlink:href=\"psysml:06c75c6a-903d-4e64-8c9a-141a01fc9647\" xlink:show=\"new\" xlink:title=\"psysml:06c75c6a-903d-4e64-8c9a-141a01fc9647\" xlink:type=\"simple\"><path d=\"M159.28,137.05 C160.735,148.365 162.5469,162.4656 164.4519,177.2955 C165.4044,184.7104 166.3802,192.3076 167.3463,199.8301 C167.5878,201.7107 167.8287,203.5867 168.0685,205.4539 C168.1884,206.3876 168.308,207.319 168.4273,208.2478 C168.4869,208.7122 168.5465,209.1759 168.6059,209.6389 \" fill=\"none\" id=\"E5-&gt;E2\" style=\"stroke: #383838; stroke-width: 1.0; stroke-dasharray: 7.0,7.0;\"/><polygon fill=\"#383838\" points=\"168.6059,209.6389,171.427,200.2027,167.9691,204.6796,163.4922,201.2217,168.6059,209.6389\" style=\"stroke: #383838; stroke-width: 1.0;\"/><text fill=\"#000000\" font-family=\"sans-serif\" font-size=\"13\" lengthAdjust=\"spacingAndGlyphs\" textLength=\"65\" x=\"166\" y=\"182.0669\">«import»*</text></a><!--MD5=[a717450b82c80b9240a525fa862496af]\n",
       "link E6 to E3--><a href=\"psysml:2903afd1-9bf2-47a6-8d72-b5532180e7bb\" target=\"_top\" title=\"psysml:2903afd1-9bf2-47a6-8d72-b5532180e7bb\" xlink:actuate=\"onRequest\" xlink:href=\"psysml:2903afd1-9bf2-47a6-8d72-b5532180e7bb\" xlink:show=\"new\" xlink:title=\"psysml:2903afd1-9bf2-47a6-8d72-b5532180e7bb\" xlink:type=\"simple\"><path d=\"M81.05,133.55 C85.7,158.9 93.44,201.1 99.26,232.83 \" fill=\"none\" id=\"E6-&gt;E3\" style=\"stroke: #383838; stroke-width: 1.0;\"/><polygon fill=\"#FFFFFF\" points=\"102.92,252.78,92.6018,235.3578,106.3713,232.8278,102.92,252.78\" style=\"stroke: #383838; stroke-width: 1.0;\"/><ellipse cx=\"93.5388\" cy=\"229.3902\" fill=\"#383838\" rx=\"2\" ry=\"2\" style=\"stroke: #383838; stroke-width: 1.0;\"/><ellipse cx=\"103.3742\" cy=\"227.5831\" fill=\"#383838\" rx=\"2\" ry=\"2\" style=\"stroke: #383838; stroke-width: 1.0;\"/></a><!--MD5=[525b576afb8980f27182b1cc3b798b95]\n",
       "@startuml\r\n",
       "skinparam monochrome true\r\n",
       "skinparam classbackgroundcolor white\r\n",
       "skinparam shadowing false\r\n",
       "skinparam wrapWidth 300\r\n",
       "hide circle\r\n",
       "\r\n",
       "package \"QualifiedNameImportTest\" as E1  [[psysml:50af7fae-c5e9-43d5-b973-e599fd0b94e5 ]]  {\r\n",
       "package \"P1\" as E2  [[psysml:1e9ed716-c57b-44aa-8aaa-ea3379eecc8d ]]  {\r\n",
       "comp def \"A\" as E3  <<(T,blue) part  def>> [[psysml:4266c5b7-3671-4acf-aa71-02dd8d212457 ]] {\r\n",
       "}\r\n",
       "}\r\n",
       "package \"P2\" as E4  [[psysml:04b1b2f0-8c96-40bb-b2e8-2bd575969190 ]]  {\r\n",
       "package \"P2a\" as E5  [[psysml:bb8eeef5-ab74-4ee9-8505-e654a7ee43f1 ]]  {\r\n",
       "}\r\n",
       "comp usage \"x: A \" as E6  <<(T,blue) part>> [[psysml:d91f8c93-5cf2-41b6-a65a-d41673929b38 ]] {\r\n",
       "}\r\n",
       "}\r\n",
       "}\r\n",
       "E5 ..> E2 [[psysml:06c75c6a-903d-4e64-8c9a-141a01fc9647 ]] : <<import>>*\r\n",
       "E6 - -:|> E3 [[psysml:2903afd1-9bf2-47a6-8d72-b5532180e7bb ]] \r\n",
       "@enduml\r\n",
       "\n",
       "PlantUML version 1.2020.13(Sat Jun 13 12:26:38 UTC 2020)\n",
       "(EPL source distribution)\n",
       "Java Runtime: OpenJDK Runtime Environment\n",
       "JVM: OpenJDK 64-Bit Server VM\n",
       "Default Encoding: UTF-8\n",
       "Language: en\n",
       "Country: null\n",
       "--></g></svg>"
      ]
     },
     "execution_count": 37,
     "metadata": {},
     "output_type": "execute_result"
    }
   ],
   "source": [
    "%viz --style=\"DEFAULT\" --view=\"Default\" \"QualifiedNameImportTest\""
   ]
  },
  {
   "cell_type": "code",
   "execution_count": 38,
   "id": "e960559c",
   "metadata": {
    "execution": {
     "iopub.execute_input": "2022-04-22T09:51:24.825671Z",
     "iopub.status.busy": "2022-04-22T09:51:24.825230Z",
     "iopub.status.idle": "2022-04-22T09:51:24.856528Z",
     "shell.execute_reply": "2022-04-22T09:51:24.856148Z"
    }
   },
   "outputs": [
    {
     "data": {
      "image/svg+xml": [
       "<?xml version=\"1.0\" encoding=\"UTF-8\" standalone=\"no\"?><svg xmlns=\"http://www.w3.org/2000/svg\" xmlns:xlink=\"http://www.w3.org/1999/xlink\" contentScriptType=\"application/ecmascript\" contentStyleType=\"text/css\" height=\"367px\" preserveAspectRatio=\"none\" style=\"width:243px;height:367px;\" version=\"1.1\" viewBox=\"0 0 243 367\" width=\"243px\" zoomAndPan=\"magnify\"><defs/><g><!--MD5=[fbc87193dbaf4d95561dea2c320d4a47]\n",
       "cluster E1--><a href=\"psysml:50af7fae-c5e9-43d5-b973-e599fd0b94e5\" target=\"_top\" title=\"psysml:50af7fae-c5e9-43d5-b973-e599fd0b94e5\" xlink:actuate=\"onRequest\" xlink:href=\"psysml:50af7fae-c5e9-43d5-b973-e599fd0b94e5\" xlink:show=\"new\" xlink:title=\"psysml:50af7fae-c5e9-43d5-b973-e599fd0b94e5\" xlink:type=\"simple\"><polygon fill=\"#FFFFFF\" points=\"16,6,196,6,203,28.2969,219,28.2969,219,355,16,355,16,6\" style=\"stroke: #000000; stroke-width: 1.5;\"/><line style=\"stroke: #000000; stroke-width: 1.5;\" x1=\"16\" x2=\"203\" y1=\"28.2969\" y2=\"28.2969\"/><text fill=\"#000000\" font-family=\"sans-serif\" font-size=\"14\" font-weight=\"bold\" lengthAdjust=\"spacingAndGlyphs\" textLength=\"174\" x=\"20\" y=\"20.9951\">QualifiedNameImportTest</text></a><!--MD5=[e4f7fae6ed58524ba242bb0b0d3be6b7]\n",
       "cluster E2--><a href=\"psysml:1e9ed716-c57b-44aa-8aaa-ea3379eecc8d\" target=\"_top\" title=\"psysml:1e9ed716-c57b-44aa-8aaa-ea3379eecc8d\" xlink:actuate=\"onRequest\" xlink:href=\"psysml:1e9ed716-c57b-44aa-8aaa-ea3379eecc8d\" xlink:show=\"new\" xlink:title=\"psysml:1e9ed716-c57b-44aa-8aaa-ea3379eecc8d\" xlink:type=\"simple\"><polygon fill=\"#FFFFFF\" points=\"48,210,72,210,79,232.2969,185,232.2969,185,323,48,323,48,210\" style=\"stroke: #000000; stroke-width: 1.5;\"/><line style=\"stroke: #000000; stroke-width: 1.5;\" x1=\"48\" x2=\"79\" y1=\"232.2969\" y2=\"232.2969\"/><text fill=\"#000000\" font-family=\"sans-serif\" font-size=\"14\" font-weight=\"bold\" lengthAdjust=\"spacingAndGlyphs\" textLength=\"18\" x=\"52\" y=\"224.9951\">P1</text></a><!--MD5=[f6df4d0ebaf0b5dfb2ced0ae5af7c670]\n",
       "cluster E4--><a href=\"psysml:04b1b2f0-8c96-40bb-b2e8-2bd575969190\" target=\"_top\" title=\"psysml:04b1b2f0-8c96-40bb-b2e8-2bd575969190\" xlink:actuate=\"onRequest\" xlink:href=\"psysml:04b1b2f0-8c96-40bb-b2e8-2bd575969190\" xlink:show=\"new\" xlink:title=\"psysml:04b1b2f0-8c96-40bb-b2e8-2bd575969190\" xlink:type=\"simple\"><polygon fill=\"#FFFFFF\" points=\"40,49,64,49,71,71.2969,195,71.2969,195,153,40,153,40,49\" style=\"stroke: #000000; stroke-width: 1.5;\"/><line style=\"stroke: #000000; stroke-width: 1.5;\" x1=\"40\" x2=\"71\" y1=\"71.2969\" y2=\"71.2969\"/><text fill=\"#000000\" font-family=\"sans-serif\" font-size=\"14\" font-weight=\"bold\" lengthAdjust=\"spacingAndGlyphs\" textLength=\"18\" x=\"44\" y=\"63.9951\">P2</text></a><!--MD5=[09b614a08d8cba4a07c9adeb5e0fee81]\n",
       "class E3--><a href=\"psysml:4266c5b7-3671-4acf-aa71-02dd8d212457\" target=\"_top\" title=\"psysml:4266c5b7-3671-4acf-aa71-02dd8d212457\" xlink:actuate=\"onRequest\" xlink:href=\"psysml:4266c5b7-3671-4acf-aa71-02dd8d212457\" xlink:show=\"new\" xlink:title=\"psysml:4266c5b7-3671-4acf-aa71-02dd8d212457\" xlink:type=\"simple\"><rect fill=\"#FFFFFF\" height=\"45.9375\" id=\"E3\" style=\"stroke: #383838; stroke-width: 1.5;\" width=\"70\" x=\"72\" y=\"253\"/><text fill=\"#000000\" font-family=\"sans-serif\" font-size=\"12\" font-style=\"italic\" lengthAdjust=\"spacingAndGlyphs\" textLength=\"68\" x=\"73\" y=\"269.1387\">«part  def»</text><text fill=\"#000000\" font-family=\"sans-serif\" font-size=\"12\" lengthAdjust=\"spacingAndGlyphs\" textLength=\"8\" x=\"103\" y=\"283.1074\">A</text><line style=\"stroke: #383838; stroke-width: 1.5;\" x1=\"73\" x2=\"141\" y1=\"290.9375\" y2=\"290.9375\"/></a><!--MD5=[60a26617385b1d2d0262a64233df1f8d]\n",
       "class E6--><a href=\"psysml:d91f8c93-5cf2-41b6-a65a-d41673929b38\" target=\"_top\" title=\"psysml:d91f8c93-5cf2-41b6-a65a-d41673929b38\" xlink:actuate=\"onRequest\" xlink:href=\"psysml:d91f8c93-5cf2-41b6-a65a-d41673929b38\" xlink:show=\"new\" xlink:title=\"psysml:d91f8c93-5cf2-41b6-a65a-d41673929b38\" xlink:type=\"simple\"><rect fill=\"#FFFFFF\" height=\"45.9375\" id=\"E6\" rx=\"10\" ry=\"10\" style=\"stroke: #383838; stroke-width: 1.5;\" width=\"42\" x=\"56\" y=\"87.5\"/><text fill=\"#000000\" font-family=\"sans-serif\" font-size=\"12\" font-style=\"italic\" lengthAdjust=\"spacingAndGlyphs\" textLength=\"40\" x=\"57\" y=\"103.6387\">«part»</text><text fill=\"#000000\" font-family=\"sans-serif\" font-size=\"12\" lengthAdjust=\"spacingAndGlyphs\" textLength=\"22\" x=\"64\" y=\"117.6074\">x: A</text><line style=\"stroke: #383838; stroke-width: 1.5;\" x1=\"57\" x2=\"97\" y1=\"125.4375\" y2=\"125.4375\"/></a><a href=\"psysml:bb8eeef5-ab74-4ee9-8505-e654a7ee43f1\" target=\"_top\" title=\"psysml:bb8eeef5-ab74-4ee9-8505-e654a7ee43f1\" xlink:actuate=\"onRequest\" xlink:href=\"psysml:bb8eeef5-ab74-4ee9-8505-e654a7ee43f1\" xlink:show=\"new\" xlink:title=\"psysml:bb8eeef5-ab74-4ee9-8505-e654a7ee43f1\" xlink:type=\"simple\"><polygon fill=\"#FFFFFF\" points=\"133,84,165,84,172,106.2969,179,106.2969,179,136.5938,133,136.5938,133,84\" style=\"stroke: #000000; stroke-width: 1.5;\"/><line style=\"stroke: #000000; stroke-width: 1.5;\" x1=\"133\" x2=\"172\" y1=\"106.2969\" y2=\"106.2969\"/><text fill=\"#000000\" font-family=\"sans-serif\" font-size=\"14\" font-weight=\"bold\" lengthAdjust=\"spacingAndGlyphs\" textLength=\"26\" x=\"137\" y=\"98.9951\">P2a</text></a><!--MD5=[15ebcb19ae302d9b601edb458606d402]\n",
       "link E5 to E2--><a href=\"psysml:06c75c6a-903d-4e64-8c9a-141a01fc9647\" target=\"_top\" title=\"psysml:06c75c6a-903d-4e64-8c9a-141a01fc9647\" xlink:actuate=\"onRequest\" xlink:href=\"psysml:06c75c6a-903d-4e64-8c9a-141a01fc9647\" xlink:show=\"new\" xlink:title=\"psysml:06c75c6a-903d-4e64-8c9a-141a01fc9647\" xlink:type=\"simple\"><path d=\"M159.28,137.05 C160.735,148.365 162.5469,162.4656 164.4519,177.2955 C165.4044,184.7104 166.3802,192.3076 167.3463,199.8301 C167.5878,201.7107 167.8287,203.5867 168.0685,205.4539 C168.1884,206.3876 168.308,207.319 168.4273,208.2478 C168.4869,208.7122 168.5465,209.1759 168.6059,209.6389 \" fill=\"none\" id=\"E5-&gt;E2\" style=\"stroke: #383838; stroke-width: 1.0; stroke-dasharray: 7.0,7.0;\"/><polygon fill=\"#383838\" points=\"168.6059,209.6389,171.427,200.2027,167.9691,204.6796,163.4922,201.2217,168.6059,209.6389\" style=\"stroke: #383838; stroke-width: 1.0;\"/><text fill=\"#000000\" font-family=\"sans-serif\" font-size=\"13\" lengthAdjust=\"spacingAndGlyphs\" textLength=\"65\" x=\"166\" y=\"182.0669\">«import»*</text></a><!--MD5=[a717450b82c80b9240a525fa862496af]\n",
       "link E6 to E3--><a href=\"psysml:2903afd1-9bf2-47a6-8d72-b5532180e7bb\" target=\"_top\" title=\"psysml:2903afd1-9bf2-47a6-8d72-b5532180e7bb\" xlink:actuate=\"onRequest\" xlink:href=\"psysml:2903afd1-9bf2-47a6-8d72-b5532180e7bb\" xlink:show=\"new\" xlink:title=\"psysml:2903afd1-9bf2-47a6-8d72-b5532180e7bb\" xlink:type=\"simple\"><path d=\"M81.05,133.55 C85.7,158.9 93.44,201.1 99.26,232.83 \" fill=\"none\" id=\"E6-&gt;E3\" style=\"stroke: #383838; stroke-width: 1.0;\"/><polygon fill=\"#FFFFFF\" points=\"102.92,252.78,92.6018,235.3578,106.3713,232.8278,102.92,252.78\" style=\"stroke: #383838; stroke-width: 1.0;\"/><ellipse cx=\"93.5388\" cy=\"229.3902\" fill=\"#383838\" rx=\"2\" ry=\"2\" style=\"stroke: #383838; stroke-width: 1.0;\"/><ellipse cx=\"103.3742\" cy=\"227.5831\" fill=\"#383838\" rx=\"2\" ry=\"2\" style=\"stroke: #383838; stroke-width: 1.0;\"/></a><!--MD5=[525b576afb8980f27182b1cc3b798b95]\n",
       "@startuml\r\n",
       "skinparam monochrome true\r\n",
       "skinparam classbackgroundcolor white\r\n",
       "skinparam shadowing false\r\n",
       "skinparam wrapWidth 300\r\n",
       "hide circle\r\n",
       "\r\n",
       "package \"QualifiedNameImportTest\" as E1  [[psysml:50af7fae-c5e9-43d5-b973-e599fd0b94e5 ]]  {\r\n",
       "package \"P1\" as E2  [[psysml:1e9ed716-c57b-44aa-8aaa-ea3379eecc8d ]]  {\r\n",
       "comp def \"A\" as E3  <<(T,blue) part  def>> [[psysml:4266c5b7-3671-4acf-aa71-02dd8d212457 ]] {\r\n",
       "}\r\n",
       "}\r\n",
       "package \"P2\" as E4  [[psysml:04b1b2f0-8c96-40bb-b2e8-2bd575969190 ]]  {\r\n",
       "package \"P2a\" as E5  [[psysml:bb8eeef5-ab74-4ee9-8505-e654a7ee43f1 ]]  {\r\n",
       "}\r\n",
       "comp usage \"x: A \" as E6  <<(T,blue) part>> [[psysml:d91f8c93-5cf2-41b6-a65a-d41673929b38 ]] {\r\n",
       "}\r\n",
       "}\r\n",
       "}\r\n",
       "E5 ..> E2 [[psysml:06c75c6a-903d-4e64-8c9a-141a01fc9647 ]] : <<import>>*\r\n",
       "E6 - -:|> E3 [[psysml:2903afd1-9bf2-47a6-8d72-b5532180e7bb ]] \r\n",
       "@enduml\r\n",
       "\n",
       "PlantUML version 1.2020.13(Sat Jun 13 12:26:38 UTC 2020)\n",
       "(EPL source distribution)\n",
       "Java Runtime: OpenJDK Runtime Environment\n",
       "JVM: OpenJDK 64-Bit Server VM\n",
       "Default Encoding: UTF-8\n",
       "Language: en\n",
       "Country: null\n",
       "--></g></svg>"
      ]
     },
     "execution_count": 38,
     "metadata": {},
     "output_type": "execute_result"
    }
   ],
   "source": [
    "%viz --style=\"DEFAULT\" --view=\"Tree\" \"QualifiedNameImportTest\""
   ]
  },
  {
   "cell_type": "code",
   "execution_count": 39,
   "id": "adc015e5",
   "metadata": {
    "execution": {
     "iopub.execute_input": "2022-04-22T09:51:24.906298Z",
     "iopub.status.busy": "2022-04-22T09:51:24.905865Z",
     "iopub.status.idle": "2022-04-22T09:51:24.910471Z",
     "shell.execute_reply": "2022-04-22T09:51:24.910791Z"
    }
   },
   "outputs": [
    {
     "data": {
      "image/svg+xml": [
       "<?xml version=\"1.0\" encoding=\"UTF-8\" standalone=\"no\"?><svg xmlns=\"http://www.w3.org/2000/svg\" xmlns:xlink=\"http://www.w3.org/1999/xlink\" contentScriptType=\"application/ecmascript\" contentStyleType=\"text/css\" height=\"12px\" preserveAspectRatio=\"none\" style=\"width:12px;height:12px;\" version=\"1.1\" viewBox=\"0 0 12 12\" width=\"12px\" zoomAndPan=\"magnify\"><defs/><g><!--MD5=[c5f280e076d0d61ccf4b0f27871bda1d]\n",
       "@startuml\r\n",
       "skinparam monochrome true\r\n",
       "skinparam classbackgroundcolor white\r\n",
       "skinparam shadowing false\r\n",
       "skinparam wrapWidth 300\r\n",
       "hide circle\r\n",
       "\r\n",
       "@enduml\r\n",
       "\n",
       "PlantUML version 1.2020.13(Sat Jun 13 12:26:38 UTC 2020)\n",
       "(EPL source distribution)\n",
       "Java Runtime: OpenJDK Runtime Environment\n",
       "JVM: OpenJDK 64-Bit Server VM\n",
       "Default Encoding: UTF-8\n",
       "Language: en\n",
       "Country: null\n",
       "--></g></svg>"
      ]
     },
     "execution_count": 39,
     "metadata": {},
     "output_type": "execute_result"
    }
   ],
   "source": [
    "%viz --style=\"DEFAULT\" --view=\"State\" \"QualifiedNameImportTest\""
   ]
  },
  {
   "cell_type": "code",
   "execution_count": 40,
   "id": "bd24f632",
   "metadata": {
    "execution": {
     "iopub.execute_input": "2022-04-22T09:51:24.960811Z",
     "iopub.status.busy": "2022-04-22T09:51:24.960378Z",
     "iopub.status.idle": "2022-04-22T09:51:24.985636Z",
     "shell.execute_reply": "2022-04-22T09:51:24.985269Z"
    }
   },
   "outputs": [
    {
     "data": {
      "image/svg+xml": [
       "<?xml version=\"1.0\" encoding=\"UTF-8\" standalone=\"no\"?><svg xmlns=\"http://www.w3.org/2000/svg\" xmlns:xlink=\"http://www.w3.org/1999/xlink\" contentScriptType=\"application/ecmascript\" contentStyleType=\"text/css\" height=\"364px\" preserveAspectRatio=\"none\" style=\"width:249px;height:364px;\" version=\"1.1\" viewBox=\"0 0 249 364\" width=\"249px\" zoomAndPan=\"magnify\"><defs/><g><!--MD5=[fbc87193dbaf4d95561dea2c320d4a47]\n",
       "cluster E1--><a href=\"psysml:50af7fae-c5e9-43d5-b973-e599fd0b94e5\" target=\"_top\" title=\"psysml:50af7fae-c5e9-43d5-b973-e599fd0b94e5\" xlink:actuate=\"onRequest\" xlink:href=\"psysml:50af7fae-c5e9-43d5-b973-e599fd0b94e5\" xlink:show=\"new\" xlink:title=\"psysml:50af7fae-c5e9-43d5-b973-e599fd0b94e5\" xlink:type=\"simple\"><polygon fill=\"#FFFFFF\" points=\"16,6,196,6,203,28.2969,227,28.2969,227,352,16,352,16,6\" style=\"stroke: #000000; stroke-width: 1.5;\"/><line style=\"stroke: #000000; stroke-width: 1.5;\" x1=\"16\" x2=\"203\" y1=\"28.2969\" y2=\"28.2969\"/><text fill=\"#000000\" font-family=\"sans-serif\" font-size=\"14\" font-weight=\"bold\" lengthAdjust=\"spacingAndGlyphs\" textLength=\"174\" x=\"20\" y=\"20.9951\">QualifiedNameImportTest</text></a><!--MD5=[e4f7fae6ed58524ba242bb0b0d3be6b7]\n",
       "cluster E2--><a href=\"psysml:1e9ed716-c57b-44aa-8aaa-ea3379eecc8d\" target=\"_top\" title=\"psysml:1e9ed716-c57b-44aa-8aaa-ea3379eecc8d\" xlink:actuate=\"onRequest\" xlink:href=\"psysml:1e9ed716-c57b-44aa-8aaa-ea3379eecc8d\" xlink:show=\"new\" xlink:title=\"psysml:1e9ed716-c57b-44aa-8aaa-ea3379eecc8d\" xlink:type=\"simple\"><polygon fill=\"#FFFFFF\" points=\"53,210,77,210,84,232.2969,195,232.2969,195,320,53,320,53,210\" style=\"stroke: #000000; stroke-width: 1.5;\"/><line style=\"stroke: #000000; stroke-width: 1.5;\" x1=\"53\" x2=\"84\" y1=\"232.2969\" y2=\"232.2969\"/><text fill=\"#000000\" font-family=\"sans-serif\" font-size=\"14\" font-weight=\"bold\" lengthAdjust=\"spacingAndGlyphs\" textLength=\"18\" x=\"57\" y=\"224.9951\">P1</text></a><!--MD5=[f6df4d0ebaf0b5dfb2ced0ae5af7c670]\n",
       "cluster E4--><a href=\"psysml:04b1b2f0-8c96-40bb-b2e8-2bd575969190\" target=\"_top\" title=\"psysml:04b1b2f0-8c96-40bb-b2e8-2bd575969190\" xlink:actuate=\"onRequest\" xlink:href=\"psysml:04b1b2f0-8c96-40bb-b2e8-2bd575969190\" xlink:show=\"new\" xlink:title=\"psysml:04b1b2f0-8c96-40bb-b2e8-2bd575969190\" xlink:type=\"simple\"><polygon fill=\"#FFFFFF\" points=\"40,49,64,49,71,71.2969,203,71.2969,203,153,40,153,40,49\" style=\"stroke: #000000; stroke-width: 1.5;\"/><line style=\"stroke: #000000; stroke-width: 1.5;\" x1=\"40\" x2=\"71\" y1=\"71.2969\" y2=\"71.2969\"/><text fill=\"#000000\" font-family=\"sans-serif\" font-size=\"14\" font-weight=\"bold\" lengthAdjust=\"spacingAndGlyphs\" textLength=\"18\" x=\"44\" y=\"63.9951\">P2</text></a><g id=\"E1.E2.E3\"><a href=\"psysml:4266c5b7-3671-4acf-aa71-02dd8d212457\" target=\"_top\" title=\"psysml:4266c5b7-3671-4acf-aa71-02dd8d212457\" xlink:actuate=\"onRequest\" xlink:href=\"psysml:4266c5b7-3671-4acf-aa71-02dd8d212457\" xlink:show=\"new\" xlink:title=\"psysml:4266c5b7-3671-4acf-aa71-02dd8d212457\" xlink:type=\"simple\"><rect fill=\"#FFFFFF\" height=\"42.9375\" id=\"E3\" style=\"stroke: #383838; stroke-width: 1.5;\" width=\"75\" x=\"96.5\" y=\"253\"/><rect fill=\"#F8F8F8\" height=\"37.9375\" style=\"stroke: #383838; stroke-width: 1.5;\" width=\"75\" x=\"96.5\" y=\"253\"/><text fill=\"#000000\" font-family=\"sans-serif\" font-size=\"12\" font-style=\"italic\" lengthAdjust=\"spacingAndGlyphs\" textLength=\"68\" x=\"100\" y=\"269.1387\">«part  def»</text><text fill=\"#000000\" font-family=\"sans-serif\" font-size=\"12\" lengthAdjust=\"spacingAndGlyphs\" textLength=\"8\" x=\"130\" y=\"283.1074\">A</text></a></g><a href=\"psysml:bb8eeef5-ab74-4ee9-8505-e654a7ee43f1\" target=\"_top\" title=\"psysml:bb8eeef5-ab74-4ee9-8505-e654a7ee43f1\" xlink:actuate=\"onRequest\" xlink:href=\"psysml:bb8eeef5-ab74-4ee9-8505-e654a7ee43f1\" xlink:show=\"new\" xlink:title=\"psysml:bb8eeef5-ab74-4ee9-8505-e654a7ee43f1\" xlink:type=\"simple\"><polygon fill=\"#FFFFFF\" points=\"56,84,88,84,95,106.2969,102,106.2969,102,136.5938,56,136.5938,56,84\" style=\"stroke: #000000; stroke-width: 1.5;\"/><line style=\"stroke: #000000; stroke-width: 1.5;\" x1=\"56\" x2=\"95\" y1=\"106.2969\" y2=\"106.2969\"/><text fill=\"#000000\" font-family=\"sans-serif\" font-size=\"14\" font-weight=\"bold\" lengthAdjust=\"spacingAndGlyphs\" textLength=\"26\" x=\"60\" y=\"98.9951\">P2a</text></a><g id=\"E1.E4.E6\"><a href=\"psysml:d91f8c93-5cf2-41b6-a65a-d41673929b38\" target=\"_top\" title=\"psysml:d91f8c93-5cf2-41b6-a65a-d41673929b38\" xlink:actuate=\"onRequest\" xlink:href=\"psysml:d91f8c93-5cf2-41b6-a65a-d41673929b38\" xlink:show=\"new\" xlink:title=\"psysml:d91f8c93-5cf2-41b6-a65a-d41673929b38\" xlink:type=\"simple\"><rect fill=\"#FFFFFF\" height=\"40\" id=\"E6\" rx=\"10\" ry=\"10\" style=\"stroke: #383838; stroke-width: 1.5;\" width=\"50\" x=\"137\" y=\"90.5\"/><rect fill=\"#F8F8F8\" height=\"23.9688\" rx=\"10\" ry=\"10\" style=\"stroke: #F8F8F8; stroke-width: 1.5;\" width=\"50\" x=\"137\" y=\"90.5\"/><rect fill=\"#F8F8F8\" height=\"10\" style=\"stroke: #F8F8F8; stroke-width: 1.5;\" width=\"50\" x=\"137\" y=\"104.4688\"/><rect fill=\"none\" height=\"40\" id=\"E6\" rx=\"10\" ry=\"10\" style=\"stroke: #383838; stroke-width: 1.5;\" width=\"50\" x=\"137\" y=\"90.5\"/><text fill=\"#000000\" font-family=\"sans-serif\" font-size=\"12\" lengthAdjust=\"spacingAndGlyphs\" textLength=\"22\" x=\"151\" y=\"106.6387\">x: A</text></a></g><!--MD5=[15ebcb19ae302d9b601edb458606d402]\n",
       "link E5 to E2--><a href=\"psysml:06c75c6a-903d-4e64-8c9a-141a01fc9647\" target=\"_top\" title=\"psysml:06c75c6a-903d-4e64-8c9a-141a01fc9647\" xlink:actuate=\"onRequest\" xlink:href=\"psysml:06c75c6a-903d-4e64-8c9a-141a01fc9647\" xlink:show=\"new\" xlink:title=\"psysml:06c75c6a-903d-4e64-8c9a-141a01fc9647\" xlink:type=\"simple\"><path d=\"M76.15,137.17 C74.9,148.4125 73.3475,162.3781 71.7172,177.0456 C70.902,184.3794 70.0674,191.8886 69.2414,199.3206 C69.035,201.1786 68.829,203.0318 68.624,204.8762 C68.5215,205.7984 68.4193,206.7184 68.3173,207.6358 C68.2664,208.0944 68.2155,208.5524 68.1647,209.0097 C68.1393,209.2383 68.1139,209.4668 68.0885,209.695 \" fill=\"none\" id=\"E5-&gt;E2\" style=\"stroke: #383838; stroke-width: 1.0; stroke-dasharray: 7.0,7.0;\"/><polygon fill=\"#383838\" points=\"68.0885,209.695,73.0581,201.1919,68.6408,204.7256,65.107,200.3083,68.0885,209.695\" style=\"stroke: #383838; stroke-width: 1.0;\"/><text fill=\"#000000\" font-family=\"sans-serif\" font-size=\"13\" lengthAdjust=\"spacingAndGlyphs\" textLength=\"65\" x=\"73\" y=\"182.0669\">«import»*</text></a><!--MD5=[a717450b82c80b9240a525fa862496af]\n",
       "link E6 to E3--><a href=\"psysml:2903afd1-9bf2-47a6-8d72-b5532180e7bb\" target=\"_top\" title=\"psysml:2903afd1-9bf2-47a6-8d72-b5532180e7bb\" xlink:actuate=\"onRequest\" xlink:href=\"psysml:2903afd1-9bf2-47a6-8d72-b5532180e7bb\" xlink:show=\"new\" xlink:title=\"psysml:2903afd1-9bf2-47a6-8d72-b5532180e7bb\" xlink:type=\"simple\"><path d=\"M158.68,130.72 C154.35,155.76 146.67,200.21 141.02,232.87 \" fill=\"none\" id=\"E6-&gt;E3\" style=\"stroke: #383838; stroke-width: 1.0;\"/><polygon fill=\"#FFFFFF\" points=\"137.58,252.77,133.925,232.8542,147.7196,235.2432,137.58,252.77\" style=\"stroke: #383838; stroke-width: 1.0;\"/><ellipse cx=\"136.8683\" cy=\"227.5791\" fill=\"#383838\" rx=\"2\" ry=\"2\" style=\"stroke: #383838; stroke-width: 1.0;\"/><ellipse cx=\"146.7217\" cy=\"229.2855\" fill=\"#383838\" rx=\"2\" ry=\"2\" style=\"stroke: #383838; stroke-width: 1.0;\"/></a><!--MD5=[f6da79e5e78c03e64e2c6252d6d6ed22]\n",
       "@startuml\r\n",
       "skinparam ranksep 10\r\n",
       "skinparam rectangle {\r\n",
       " backgroundColor<<block>> LightGreen\r\n",
       "}\r\n",
       "skinparam monochrome true\r\n",
       "skinparam classbackgroundcolor white\r\n",
       "skinparam shadowing false\r\n",
       "skinparam wrapWidth 300\r\n",
       "hide circle\r\n",
       "\r\n",
       "package \"QualifiedNameImportTest\" as E1  [[psysml:50af7fae-c5e9-43d5-b973-e599fd0b94e5 ]]  {\r\n",
       "package \"P1\" as E2  [[psysml:1e9ed716-c57b-44aa-8aaa-ea3379eecc8d ]]  {\r\n",
       "rec def \"A\" as E3  <<(T,blue) part  def>> [[psysml:4266c5b7-3671-4acf-aa71-02dd8d212457 ]] {\r\n",
       "}\r\n",
       "}\r\n",
       "package \"P2\" as E4  [[psysml:04b1b2f0-8c96-40bb-b2e8-2bd575969190 ]]  {\r\n",
       "package \"P2a\" as E5  [[psysml:bb8eeef5-ab74-4ee9-8505-e654a7ee43f1 ]]  {\r\n",
       "}\r\n",
       "rec usage \"x: A\" as E6  [[psysml:d91f8c93-5cf2-41b6-a65a-d41673929b38 ]] {\r\n",
       "}\r\n",
       "}\r\n",
       "}\r\n",
       "E5 ..> E2 [[psysml:06c75c6a-903d-4e64-8c9a-141a01fc9647 ]] : <<import>>*\r\n",
       "E6 - -:|> E3 [[psysml:2903afd1-9bf2-47a6-8d72-b5532180e7bb ]] \r\n",
       "@enduml\r\n",
       "\n",
       "PlantUML version 1.2020.13(Sat Jun 13 12:26:38 UTC 2020)\n",
       "(EPL source distribution)\n",
       "Java Runtime: OpenJDK Runtime Environment\n",
       "JVM: OpenJDK 64-Bit Server VM\n",
       "Default Encoding: UTF-8\n",
       "Language: en\n",
       "Country: null\n",
       "--></g></svg>"
      ]
     },
     "execution_count": 40,
     "metadata": {},
     "output_type": "execute_result"
    }
   ],
   "source": [
    "%viz --style=\"DEFAULT\" --view=\"Interconnection\" \"QualifiedNameImportTest\""
   ]
  },
  {
   "cell_type": "code",
   "execution_count": 41,
   "id": "207c9566",
   "metadata": {
    "execution": {
     "iopub.execute_input": "2022-04-22T09:51:25.035528Z",
     "iopub.status.busy": "2022-04-22T09:51:25.035063Z",
     "iopub.status.idle": "2022-04-22T09:51:25.040196Z",
     "shell.execute_reply": "2022-04-22T09:51:25.039816Z"
    }
   },
   "outputs": [
    {
     "data": {
      "image/svg+xml": [
       "<?xml version=\"1.0\" encoding=\"UTF-8\" standalone=\"no\"?><svg xmlns=\"http://www.w3.org/2000/svg\" xmlns:xlink=\"http://www.w3.org/1999/xlink\" contentScriptType=\"application/ecmascript\" contentStyleType=\"text/css\" height=\"12px\" preserveAspectRatio=\"none\" style=\"width:12px;height:12px;\" version=\"1.1\" viewBox=\"0 0 12 12\" width=\"12px\" zoomAndPan=\"magnify\"><defs/><g><!--MD5=[388f21188e31bfdd97050473b19af356]\n",
       "@startuml\r\n",
       "skinparam ranksep 8\r\n",
       "skinparam monochrome true\r\n",
       "skinparam classbackgroundcolor white\r\n",
       "skinparam shadowing false\r\n",
       "skinparam wrapWidth 300\r\n",
       "hide circle\r\n",
       "\r\n",
       "@enduml\r\n",
       "\n",
       "PlantUML version 1.2020.13(Sat Jun 13 12:26:38 UTC 2020)\n",
       "(EPL source distribution)\n",
       "Java Runtime: OpenJDK Runtime Environment\n",
       "JVM: OpenJDK 64-Bit Server VM\n",
       "Default Encoding: UTF-8\n",
       "Language: en\n",
       "Country: null\n",
       "--></g></svg>"
      ]
     },
     "execution_count": 41,
     "metadata": {},
     "output_type": "execute_result"
    }
   ],
   "source": [
    "%viz --style=\"DEFAULT\" --view=\"Action\" \"QualifiedNameImportTest\""
   ]
  },
  {
   "cell_type": "code",
   "execution_count": 42,
   "id": "35f711e3",
   "metadata": {
    "execution": {
     "iopub.execute_input": "2022-04-22T09:51:25.090185Z",
     "iopub.status.busy": "2022-04-22T09:51:25.089737Z",
     "iopub.status.idle": "2022-04-22T09:51:25.095361Z",
     "shell.execute_reply": "2022-04-22T09:51:25.094965Z"
    }
   },
   "outputs": [
    {
     "data": {
      "image/svg+xml": [
       "<?xml version=\"1.0\" encoding=\"UTF-8\" standalone=\"no\"?><svg xmlns=\"http://www.w3.org/2000/svg\" xmlns:xlink=\"http://www.w3.org/1999/xlink\" contentScriptType=\"application/ecmascript\" contentStyleType=\"text/css\" height=\"12px\" preserveAspectRatio=\"none\" style=\"width:12px;height:12px;\" version=\"1.1\" viewBox=\"0 0 12 12\" width=\"12px\" zoomAndPan=\"magnify\"><defs/><g><!--MD5=[0b72472770326784bf6c2b53246e1e64]\n",
       "@startuml\r\n",
       "skinparam roundcorner 20\r\n",
       "skinparam BoxPadding 20\r\n",
       "skinparam SequenceBoxBackgroundColor #white\r\n",
       "skinparam style strictuml\r\n",
       "skinparam maxMessageSize 100\r\n",
       "skinparam monochrome true\r\n",
       "skinparam classbackgroundcolor white\r\n",
       "skinparam shadowing false\r\n",
       "skinparam wrapWidth 300\r\n",
       "hide circle\r\n",
       "\r\n",
       "@enduml\r\n",
       "\n",
       "PlantUML version 1.2020.13(Sat Jun 13 12:26:38 UTC 2020)\n",
       "(EPL source distribution)\n",
       "Java Runtime: OpenJDK Runtime Environment\n",
       "JVM: OpenJDK 64-Bit Server VM\n",
       "Default Encoding: UTF-8\n",
       "Language: en\n",
       "Country: null\n",
       "--></g></svg>"
      ]
     },
     "execution_count": 42,
     "metadata": {},
     "output_type": "execute_result"
    }
   ],
   "source": [
    "%viz --style=\"DEFAULT\" --view=\"Sequence\" \"QualifiedNameImportTest\""
   ]
  },
  {
   "cell_type": "code",
   "execution_count": 43,
   "id": "4b46fa6e",
   "metadata": {
    "execution": {
     "iopub.execute_input": "2022-04-22T09:51:25.145161Z",
     "iopub.status.busy": "2022-04-22T09:51:25.144712Z",
     "iopub.status.idle": "2022-04-22T09:51:25.173976Z",
     "shell.execute_reply": "2022-04-22T09:51:25.172615Z"
    }
   },
   "outputs": [
    {
     "data": {
      "image/svg+xml": [
       "<?xml version=\"1.0\" encoding=\"UTF-8\" standalone=\"no\"?><svg xmlns=\"http://www.w3.org/2000/svg\" xmlns:xlink=\"http://www.w3.org/1999/xlink\" contentScriptType=\"application/ecmascript\" contentStyleType=\"text/css\" height=\"367px\" preserveAspectRatio=\"none\" style=\"width:243px;height:367px;\" version=\"1.1\" viewBox=\"0 0 243 367\" width=\"243px\" zoomAndPan=\"magnify\"><defs/><g><!--MD5=[fbc87193dbaf4d95561dea2c320d4a47]\n",
       "cluster E1--><a href=\"psysml:50af7fae-c5e9-43d5-b973-e599fd0b94e5\" target=\"_top\" title=\"psysml:50af7fae-c5e9-43d5-b973-e599fd0b94e5\" xlink:actuate=\"onRequest\" xlink:href=\"psysml:50af7fae-c5e9-43d5-b973-e599fd0b94e5\" xlink:show=\"new\" xlink:title=\"psysml:50af7fae-c5e9-43d5-b973-e599fd0b94e5\" xlink:type=\"simple\"><polygon fill=\"#FFFFFF\" points=\"16,6,196,6,203,28.2969,219,28.2969,219,355,16,355,16,6\" style=\"stroke: #000000; stroke-width: 1.5;\"/><line style=\"stroke: #000000; stroke-width: 1.5;\" x1=\"16\" x2=\"203\" y1=\"28.2969\" y2=\"28.2969\"/><text fill=\"#000000\" font-family=\"sans-serif\" font-size=\"14\" font-weight=\"bold\" lengthAdjust=\"spacingAndGlyphs\" textLength=\"174\" x=\"20\" y=\"20.9951\">QualifiedNameImportTest</text></a><!--MD5=[e4f7fae6ed58524ba242bb0b0d3be6b7]\n",
       "cluster E2--><a href=\"psysml:1e9ed716-c57b-44aa-8aaa-ea3379eecc8d\" target=\"_top\" title=\"psysml:1e9ed716-c57b-44aa-8aaa-ea3379eecc8d\" xlink:actuate=\"onRequest\" xlink:href=\"psysml:1e9ed716-c57b-44aa-8aaa-ea3379eecc8d\" xlink:show=\"new\" xlink:title=\"psysml:1e9ed716-c57b-44aa-8aaa-ea3379eecc8d\" xlink:type=\"simple\"><polygon fill=\"#FFFFFF\" points=\"48,210,72,210,79,232.2969,185,232.2969,185,323,48,323,48,210\" style=\"stroke: #000000; stroke-width: 1.5;\"/><line style=\"stroke: #000000; stroke-width: 1.5;\" x1=\"48\" x2=\"79\" y1=\"232.2969\" y2=\"232.2969\"/><text fill=\"#000000\" font-family=\"sans-serif\" font-size=\"14\" font-weight=\"bold\" lengthAdjust=\"spacingAndGlyphs\" textLength=\"18\" x=\"52\" y=\"224.9951\">P1</text></a><!--MD5=[f6df4d0ebaf0b5dfb2ced0ae5af7c670]\n",
       "cluster E4--><a href=\"psysml:04b1b2f0-8c96-40bb-b2e8-2bd575969190\" target=\"_top\" title=\"psysml:04b1b2f0-8c96-40bb-b2e8-2bd575969190\" xlink:actuate=\"onRequest\" xlink:href=\"psysml:04b1b2f0-8c96-40bb-b2e8-2bd575969190\" xlink:show=\"new\" xlink:title=\"psysml:04b1b2f0-8c96-40bb-b2e8-2bd575969190\" xlink:type=\"simple\"><polygon fill=\"#FFFFFF\" points=\"40,49,64,49,71,71.2969,195,71.2969,195,153,40,153,40,49\" style=\"stroke: #000000; stroke-width: 1.5;\"/><line style=\"stroke: #000000; stroke-width: 1.5;\" x1=\"40\" x2=\"71\" y1=\"71.2969\" y2=\"71.2969\"/><text fill=\"#000000\" font-family=\"sans-serif\" font-size=\"14\" font-weight=\"bold\" lengthAdjust=\"spacingAndGlyphs\" textLength=\"18\" x=\"44\" y=\"63.9951\">P2</text></a><!--MD5=[09b614a08d8cba4a07c9adeb5e0fee81]\n",
       "class E3--><a href=\"psysml:4266c5b7-3671-4acf-aa71-02dd8d212457\" target=\"_top\" title=\"psysml:4266c5b7-3671-4acf-aa71-02dd8d212457\" xlink:actuate=\"onRequest\" xlink:href=\"psysml:4266c5b7-3671-4acf-aa71-02dd8d212457\" xlink:show=\"new\" xlink:title=\"psysml:4266c5b7-3671-4acf-aa71-02dd8d212457\" xlink:type=\"simple\"><rect fill=\"#FFFFFF\" height=\"45.9375\" id=\"E3\" style=\"stroke: #383838; stroke-width: 1.5;\" width=\"70\" x=\"72\" y=\"253\"/><text fill=\"#000000\" font-family=\"sans-serif\" font-size=\"12\" font-style=\"italic\" lengthAdjust=\"spacingAndGlyphs\" textLength=\"68\" x=\"73\" y=\"269.1387\">«part  def»</text><text fill=\"#000000\" font-family=\"sans-serif\" font-size=\"12\" lengthAdjust=\"spacingAndGlyphs\" textLength=\"8\" x=\"103\" y=\"283.1074\">A</text><line style=\"stroke: #383838; stroke-width: 1.5;\" x1=\"73\" x2=\"141\" y1=\"290.9375\" y2=\"290.9375\"/></a><!--MD5=[60a26617385b1d2d0262a64233df1f8d]\n",
       "class E6--><a href=\"psysml:d91f8c93-5cf2-41b6-a65a-d41673929b38\" target=\"_top\" title=\"psysml:d91f8c93-5cf2-41b6-a65a-d41673929b38\" xlink:actuate=\"onRequest\" xlink:href=\"psysml:d91f8c93-5cf2-41b6-a65a-d41673929b38\" xlink:show=\"new\" xlink:title=\"psysml:d91f8c93-5cf2-41b6-a65a-d41673929b38\" xlink:type=\"simple\"><rect fill=\"#FFFFFF\" height=\"45.9375\" id=\"E6\" rx=\"10\" ry=\"10\" style=\"stroke: #383838; stroke-width: 1.5;\" width=\"42\" x=\"56\" y=\"87.5\"/><text fill=\"#000000\" font-family=\"sans-serif\" font-size=\"12\" font-style=\"italic\" lengthAdjust=\"spacingAndGlyphs\" textLength=\"40\" x=\"57\" y=\"103.6387\">«part»</text><text fill=\"#000000\" font-family=\"sans-serif\" font-size=\"12\" lengthAdjust=\"spacingAndGlyphs\" textLength=\"22\" x=\"64\" y=\"117.6074\">x: A</text><line style=\"stroke: #383838; stroke-width: 1.5;\" x1=\"57\" x2=\"97\" y1=\"125.4375\" y2=\"125.4375\"/></a><a href=\"psysml:bb8eeef5-ab74-4ee9-8505-e654a7ee43f1\" target=\"_top\" title=\"psysml:bb8eeef5-ab74-4ee9-8505-e654a7ee43f1\" xlink:actuate=\"onRequest\" xlink:href=\"psysml:bb8eeef5-ab74-4ee9-8505-e654a7ee43f1\" xlink:show=\"new\" xlink:title=\"psysml:bb8eeef5-ab74-4ee9-8505-e654a7ee43f1\" xlink:type=\"simple\"><polygon fill=\"#FFFFFF\" points=\"133,84,165,84,172,106.2969,179,106.2969,179,136.5938,133,136.5938,133,84\" style=\"stroke: #000000; stroke-width: 1.5;\"/><line style=\"stroke: #000000; stroke-width: 1.5;\" x1=\"133\" x2=\"172\" y1=\"106.2969\" y2=\"106.2969\"/><text fill=\"#000000\" font-family=\"sans-serif\" font-size=\"14\" font-weight=\"bold\" lengthAdjust=\"spacingAndGlyphs\" textLength=\"26\" x=\"137\" y=\"98.9951\">P2a</text></a><!--MD5=[15ebcb19ae302d9b601edb458606d402]\n",
       "link E5 to E2--><a href=\"psysml:06c75c6a-903d-4e64-8c9a-141a01fc9647\" target=\"_top\" title=\"psysml:06c75c6a-903d-4e64-8c9a-141a01fc9647\" xlink:actuate=\"onRequest\" xlink:href=\"psysml:06c75c6a-903d-4e64-8c9a-141a01fc9647\" xlink:show=\"new\" xlink:title=\"psysml:06c75c6a-903d-4e64-8c9a-141a01fc9647\" xlink:type=\"simple\"><path d=\"M159.28,137.05 C160.735,148.365 162.5469,162.4656 164.4519,177.2955 C165.4044,184.7104 166.3802,192.3076 167.3463,199.8301 C167.5878,201.7107 167.8287,203.5867 168.0685,205.4539 C168.1884,206.3876 168.308,207.319 168.4273,208.2478 C168.4869,208.7122 168.5465,209.1759 168.6059,209.6389 \" fill=\"none\" id=\"E5-&gt;E2\" style=\"stroke: #383838; stroke-width: 1.0; stroke-dasharray: 7.0,7.0;\"/><polygon fill=\"#383838\" points=\"168.6059,209.6389,171.427,200.2027,167.9691,204.6796,163.4922,201.2217,168.6059,209.6389\" style=\"stroke: #383838; stroke-width: 1.0;\"/><text fill=\"#000000\" font-family=\"sans-serif\" font-size=\"13\" lengthAdjust=\"spacingAndGlyphs\" textLength=\"65\" x=\"166\" y=\"182.0669\">«import»*</text></a><!--MD5=[a717450b82c80b9240a525fa862496af]\n",
       "link E6 to E3--><a href=\"psysml:2903afd1-9bf2-47a6-8d72-b5532180e7bb\" target=\"_top\" title=\"psysml:2903afd1-9bf2-47a6-8d72-b5532180e7bb\" xlink:actuate=\"onRequest\" xlink:href=\"psysml:2903afd1-9bf2-47a6-8d72-b5532180e7bb\" xlink:show=\"new\" xlink:title=\"psysml:2903afd1-9bf2-47a6-8d72-b5532180e7bb\" xlink:type=\"simple\"><path d=\"M81.05,133.55 C85.7,158.9 93.44,201.1 99.26,232.83 \" fill=\"none\" id=\"E6-&gt;E3\" style=\"stroke: #383838; stroke-width: 1.0;\"/><polygon fill=\"#FFFFFF\" points=\"102.92,252.78,92.6018,235.3578,106.3713,232.8278,102.92,252.78\" style=\"stroke: #383838; stroke-width: 1.0;\"/><ellipse cx=\"93.5388\" cy=\"229.3902\" fill=\"#383838\" rx=\"2\" ry=\"2\" style=\"stroke: #383838; stroke-width: 1.0;\"/><ellipse cx=\"103.3742\" cy=\"227.5831\" fill=\"#383838\" rx=\"2\" ry=\"2\" style=\"stroke: #383838; stroke-width: 1.0;\"/></a><!--MD5=[525b576afb8980f27182b1cc3b798b95]\n",
       "@startuml\r\n",
       "skinparam monochrome true\r\n",
       "skinparam classbackgroundcolor white\r\n",
       "skinparam shadowing false\r\n",
       "skinparam wrapWidth 300\r\n",
       "hide circle\r\n",
       "\r\n",
       "package \"QualifiedNameImportTest\" as E1  [[psysml:50af7fae-c5e9-43d5-b973-e599fd0b94e5 ]]  {\r\n",
       "package \"P1\" as E2  [[psysml:1e9ed716-c57b-44aa-8aaa-ea3379eecc8d ]]  {\r\n",
       "comp def \"A\" as E3  <<(T,blue) part  def>> [[psysml:4266c5b7-3671-4acf-aa71-02dd8d212457 ]] {\r\n",
       "}\r\n",
       "}\r\n",
       "package \"P2\" as E4  [[psysml:04b1b2f0-8c96-40bb-b2e8-2bd575969190 ]]  {\r\n",
       "package \"P2a\" as E5  [[psysml:bb8eeef5-ab74-4ee9-8505-e654a7ee43f1 ]]  {\r\n",
       "}\r\n",
       "comp usage \"x: A \" as E6  <<(T,blue) part>> [[psysml:d91f8c93-5cf2-41b6-a65a-d41673929b38 ]] {\r\n",
       "}\r\n",
       "}\r\n",
       "}\r\n",
       "E5 ..> E2 [[psysml:06c75c6a-903d-4e64-8c9a-141a01fc9647 ]] : <<import>>*\r\n",
       "E6 - -:|> E3 [[psysml:2903afd1-9bf2-47a6-8d72-b5532180e7bb ]] \r\n",
       "@enduml\r\n",
       "\n",
       "PlantUML version 1.2020.13(Sat Jun 13 12:26:38 UTC 2020)\n",
       "(EPL source distribution)\n",
       "Java Runtime: OpenJDK Runtime Environment\n",
       "JVM: OpenJDK 64-Bit Server VM\n",
       "Default Encoding: UTF-8\n",
       "Language: en\n",
       "Country: null\n",
       "--></g></svg>"
      ]
     },
     "execution_count": 43,
     "metadata": {},
     "output_type": "execute_result"
    }
   ],
   "source": [
    "%viz --style=\"DEFAULT\" --view=\"MIXED\" \"QualifiedNameImportTest\""
   ]
  },
  {
   "cell_type": "code",
   "execution_count": 44,
   "id": "630c1cc1",
   "metadata": {
    "execution": {
     "iopub.execute_input": "2022-04-22T09:51:25.223347Z",
     "iopub.status.busy": "2022-04-22T09:51:25.222923Z",
     "iopub.status.idle": "2022-04-22T09:51:25.253286Z",
     "shell.execute_reply": "2022-04-22T09:51:25.252918Z"
    }
   },
   "outputs": [
    {
     "data": {
      "image/svg+xml": [
       "<?xml version=\"1.0\" encoding=\"UTF-8\" standalone=\"no\"?><svg xmlns=\"http://www.w3.org/2000/svg\" xmlns:xlink=\"http://www.w3.org/1999/xlink\" contentScriptType=\"application/ecmascript\" contentStyleType=\"text/css\" height=\"367px\" preserveAspectRatio=\"none\" style=\"width:243px;height:367px;\" version=\"1.1\" viewBox=\"0 0 243 367\" width=\"243px\" zoomAndPan=\"magnify\"><defs/><g><!--MD5=[fbc87193dbaf4d95561dea2c320d4a47]\n",
       "cluster E1--><a href=\"psysml:50af7fae-c5e9-43d5-b973-e599fd0b94e5\" target=\"_top\" title=\"psysml:50af7fae-c5e9-43d5-b973-e599fd0b94e5\" xlink:actuate=\"onRequest\" xlink:href=\"psysml:50af7fae-c5e9-43d5-b973-e599fd0b94e5\" xlink:show=\"new\" xlink:title=\"psysml:50af7fae-c5e9-43d5-b973-e599fd0b94e5\" xlink:type=\"simple\"><polygon fill=\"#FFFFFF\" points=\"16,6,196,6,203,28.2969,219,28.2969,219,355,16,355,16,6\" style=\"stroke: #000000; stroke-width: 1.5;\"/><line style=\"stroke: #000000; stroke-width: 1.5;\" x1=\"16\" x2=\"203\" y1=\"28.2969\" y2=\"28.2969\"/><text fill=\"#000000\" font-family=\"sans-serif\" font-size=\"14\" font-weight=\"bold\" lengthAdjust=\"spacingAndGlyphs\" textLength=\"174\" x=\"20\" y=\"20.9951\">QualifiedNameImportTest</text></a><!--MD5=[e4f7fae6ed58524ba242bb0b0d3be6b7]\n",
       "cluster E2--><a href=\"psysml:1e9ed716-c57b-44aa-8aaa-ea3379eecc8d\" target=\"_top\" title=\"psysml:1e9ed716-c57b-44aa-8aaa-ea3379eecc8d\" xlink:actuate=\"onRequest\" xlink:href=\"psysml:1e9ed716-c57b-44aa-8aaa-ea3379eecc8d\" xlink:show=\"new\" xlink:title=\"psysml:1e9ed716-c57b-44aa-8aaa-ea3379eecc8d\" xlink:type=\"simple\"><polygon fill=\"#FFFFFF\" points=\"48,210,72,210,79,232.2969,185,232.2969,185,323,48,323,48,210\" style=\"stroke: #000000; stroke-width: 1.5;\"/><line style=\"stroke: #000000; stroke-width: 1.5;\" x1=\"48\" x2=\"79\" y1=\"232.2969\" y2=\"232.2969\"/><text fill=\"#000000\" font-family=\"sans-serif\" font-size=\"14\" font-weight=\"bold\" lengthAdjust=\"spacingAndGlyphs\" textLength=\"18\" x=\"52\" y=\"224.9951\">P1</text></a><!--MD5=[f6df4d0ebaf0b5dfb2ced0ae5af7c670]\n",
       "cluster E4--><a href=\"psysml:04b1b2f0-8c96-40bb-b2e8-2bd575969190\" target=\"_top\" title=\"psysml:04b1b2f0-8c96-40bb-b2e8-2bd575969190\" xlink:actuate=\"onRequest\" xlink:href=\"psysml:04b1b2f0-8c96-40bb-b2e8-2bd575969190\" xlink:show=\"new\" xlink:title=\"psysml:04b1b2f0-8c96-40bb-b2e8-2bd575969190\" xlink:type=\"simple\"><polygon fill=\"#FFFFFF\" points=\"40,49,64,49,71,71.2969,195,71.2969,195,153,40,153,40,49\" style=\"stroke: #000000; stroke-width: 1.5;\"/><line style=\"stroke: #000000; stroke-width: 1.5;\" x1=\"40\" x2=\"71\" y1=\"71.2969\" y2=\"71.2969\"/><text fill=\"#000000\" font-family=\"sans-serif\" font-size=\"14\" font-weight=\"bold\" lengthAdjust=\"spacingAndGlyphs\" textLength=\"18\" x=\"44\" y=\"63.9951\">P2</text></a><!--MD5=[09b614a08d8cba4a07c9adeb5e0fee81]\n",
       "class E3--><a href=\"psysml:4266c5b7-3671-4acf-aa71-02dd8d212457\" target=\"_top\" title=\"psysml:4266c5b7-3671-4acf-aa71-02dd8d212457\" xlink:actuate=\"onRequest\" xlink:href=\"psysml:4266c5b7-3671-4acf-aa71-02dd8d212457\" xlink:show=\"new\" xlink:title=\"psysml:4266c5b7-3671-4acf-aa71-02dd8d212457\" xlink:type=\"simple\"><rect fill=\"#FFFFFF\" height=\"45.9375\" id=\"E3\" style=\"stroke: #383838; stroke-width: 1.5;\" width=\"70\" x=\"72\" y=\"253\"/><text fill=\"#000000\" font-family=\"sans-serif\" font-size=\"12\" font-style=\"italic\" lengthAdjust=\"spacingAndGlyphs\" textLength=\"68\" x=\"73\" y=\"269.1387\">«part  def»</text><text fill=\"#000000\" font-family=\"sans-serif\" font-size=\"12\" lengthAdjust=\"spacingAndGlyphs\" textLength=\"8\" x=\"103\" y=\"283.1074\">A</text><line style=\"stroke: #383838; stroke-width: 1.5;\" x1=\"73\" x2=\"141\" y1=\"290.9375\" y2=\"290.9375\"/></a><!--MD5=[60a26617385b1d2d0262a64233df1f8d]\n",
       "class E6--><a href=\"psysml:d91f8c93-5cf2-41b6-a65a-d41673929b38\" target=\"_top\" title=\"psysml:d91f8c93-5cf2-41b6-a65a-d41673929b38\" xlink:actuate=\"onRequest\" xlink:href=\"psysml:d91f8c93-5cf2-41b6-a65a-d41673929b38\" xlink:show=\"new\" xlink:title=\"psysml:d91f8c93-5cf2-41b6-a65a-d41673929b38\" xlink:type=\"simple\"><rect fill=\"#FFFFFF\" height=\"45.9375\" id=\"E6\" rx=\"10\" ry=\"10\" style=\"stroke: #383838; stroke-width: 1.5;\" width=\"42\" x=\"56\" y=\"87.5\"/><text fill=\"#000000\" font-family=\"sans-serif\" font-size=\"12\" font-style=\"italic\" lengthAdjust=\"spacingAndGlyphs\" textLength=\"40\" x=\"57\" y=\"103.6387\">«part»</text><text fill=\"#000000\" font-family=\"sans-serif\" font-size=\"12\" lengthAdjust=\"spacingAndGlyphs\" textLength=\"22\" x=\"64\" y=\"117.6074\">x: A</text><line style=\"stroke: #383838; stroke-width: 1.5;\" x1=\"57\" x2=\"97\" y1=\"125.4375\" y2=\"125.4375\"/></a><a href=\"psysml:bb8eeef5-ab74-4ee9-8505-e654a7ee43f1\" target=\"_top\" title=\"psysml:bb8eeef5-ab74-4ee9-8505-e654a7ee43f1\" xlink:actuate=\"onRequest\" xlink:href=\"psysml:bb8eeef5-ab74-4ee9-8505-e654a7ee43f1\" xlink:show=\"new\" xlink:title=\"psysml:bb8eeef5-ab74-4ee9-8505-e654a7ee43f1\" xlink:type=\"simple\"><polygon fill=\"#FFFFFF\" points=\"133,84,165,84,172,106.2969,179,106.2969,179,136.5938,133,136.5938,133,84\" style=\"stroke: #000000; stroke-width: 1.5;\"/><line style=\"stroke: #000000; stroke-width: 1.5;\" x1=\"133\" x2=\"172\" y1=\"106.2969\" y2=\"106.2969\"/><text fill=\"#000000\" font-family=\"sans-serif\" font-size=\"14\" font-weight=\"bold\" lengthAdjust=\"spacingAndGlyphs\" textLength=\"26\" x=\"137\" y=\"98.9951\">P2a</text></a><!--MD5=[15ebcb19ae302d9b601edb458606d402]\n",
       "link E5 to E2--><a href=\"psysml:06c75c6a-903d-4e64-8c9a-141a01fc9647\" target=\"_top\" title=\"psysml:06c75c6a-903d-4e64-8c9a-141a01fc9647\" xlink:actuate=\"onRequest\" xlink:href=\"psysml:06c75c6a-903d-4e64-8c9a-141a01fc9647\" xlink:show=\"new\" xlink:title=\"psysml:06c75c6a-903d-4e64-8c9a-141a01fc9647\" xlink:type=\"simple\"><path d=\"M159.28,137.05 C160.735,148.365 162.5469,162.4656 164.4519,177.2955 C165.4044,184.7104 166.3802,192.3076 167.3463,199.8301 C167.5878,201.7107 167.8287,203.5867 168.0685,205.4539 C168.1884,206.3876 168.308,207.319 168.4273,208.2478 C168.4869,208.7122 168.5465,209.1759 168.6059,209.6389 \" fill=\"none\" id=\"E5-&gt;E2\" style=\"stroke: #383838; stroke-width: 1.0; stroke-dasharray: 7.0,7.0;\"/><polygon fill=\"#383838\" points=\"168.6059,209.6389,171.427,200.2027,167.9691,204.6796,163.4922,201.2217,168.6059,209.6389\" style=\"stroke: #383838; stroke-width: 1.0;\"/><text fill=\"#000000\" font-family=\"sans-serif\" font-size=\"13\" lengthAdjust=\"spacingAndGlyphs\" textLength=\"65\" x=\"166\" y=\"182.0669\">«import»*</text></a><!--MD5=[a717450b82c80b9240a525fa862496af]\n",
       "link E6 to E3--><a href=\"psysml:2903afd1-9bf2-47a6-8d72-b5532180e7bb\" target=\"_top\" title=\"psysml:2903afd1-9bf2-47a6-8d72-b5532180e7bb\" xlink:actuate=\"onRequest\" xlink:href=\"psysml:2903afd1-9bf2-47a6-8d72-b5532180e7bb\" xlink:show=\"new\" xlink:title=\"psysml:2903afd1-9bf2-47a6-8d72-b5532180e7bb\" xlink:type=\"simple\"><path d=\"M81.05,133.55 C85.7,158.9 93.44,201.1 99.26,232.83 \" fill=\"none\" id=\"E6-&gt;E3\" style=\"stroke: #383838; stroke-width: 1.0;\"/><polygon fill=\"#FFFFFF\" points=\"102.92,252.78,92.6018,235.3578,106.3713,232.8278,102.92,252.78\" style=\"stroke: #383838; stroke-width: 1.0;\"/><ellipse cx=\"93.5388\" cy=\"229.3902\" fill=\"#383838\" rx=\"2\" ry=\"2\" style=\"stroke: #383838; stroke-width: 1.0;\"/><ellipse cx=\"103.3742\" cy=\"227.5831\" fill=\"#383838\" rx=\"2\" ry=\"2\" style=\"stroke: #383838; stroke-width: 1.0;\"/></a><!--MD5=[52eb8413fda3be456b5808858ad1a697]\n",
       "@startuml\r\n",
       "top to bottom direction\r\n",
       "skinparam monochrome true\r\n",
       "skinparam classbackgroundcolor white\r\n",
       "skinparam shadowing false\r\n",
       "skinparam wrapWidth 300\r\n",
       "hide circle\r\n",
       "\r\n",
       "package \"QualifiedNameImportTest\" as E1  [[psysml:50af7fae-c5e9-43d5-b973-e599fd0b94e5 ]]  {\r\n",
       "package \"P1\" as E2  [[psysml:1e9ed716-c57b-44aa-8aaa-ea3379eecc8d ]]  {\r\n",
       "comp def \"A\" as E3  <<(T,blue) part  def>> [[psysml:4266c5b7-3671-4acf-aa71-02dd8d212457 ]] {\r\n",
       "}\r\n",
       "}\r\n",
       "package \"P2\" as E4  [[psysml:04b1b2f0-8c96-40bb-b2e8-2bd575969190 ]]  {\r\n",
       "package \"P2a\" as E5  [[psysml:bb8eeef5-ab74-4ee9-8505-e654a7ee43f1 ]]  {\r\n",
       "}\r\n",
       "comp usage \"x: A \" as E6  <<(T,blue) part>> [[psysml:d91f8c93-5cf2-41b6-a65a-d41673929b38 ]] {\r\n",
       "}\r\n",
       "}\r\n",
       "}\r\n",
       "E5 ..> E2 [[psysml:06c75c6a-903d-4e64-8c9a-141a01fc9647 ]] : <<import>>*\r\n",
       "E6 - -:|> E3 [[psysml:2903afd1-9bf2-47a6-8d72-b5532180e7bb ]] \r\n",
       "@enduml\r\n",
       "\n",
       "PlantUML version 1.2020.13(Sat Jun 13 12:26:38 UTC 2020)\n",
       "(EPL source distribution)\n",
       "Java Runtime: OpenJDK Runtime Environment\n",
       "JVM: OpenJDK 64-Bit Server VM\n",
       "Default Encoding: UTF-8\n",
       "Language: en\n",
       "Country: null\n",
       "--></g></svg>"
      ]
     },
     "execution_count": 44,
     "metadata": {},
     "output_type": "execute_result"
    }
   ],
   "source": [
    "%viz --style=\"TB\" --view=\"Default\" \"QualifiedNameImportTest\""
   ]
  },
  {
   "cell_type": "code",
   "execution_count": 45,
   "id": "dc0f27a5",
   "metadata": {
    "execution": {
     "iopub.execute_input": "2022-04-22T09:51:25.303258Z",
     "iopub.status.busy": "2022-04-22T09:51:25.302838Z",
     "iopub.status.idle": "2022-04-22T09:51:25.338642Z",
     "shell.execute_reply": "2022-04-22T09:51:25.337276Z"
    }
   },
   "outputs": [
    {
     "data": {
      "image/svg+xml": [
       "<?xml version=\"1.0\" encoding=\"UTF-8\" standalone=\"no\"?><svg xmlns=\"http://www.w3.org/2000/svg\" xmlns:xlink=\"http://www.w3.org/1999/xlink\" contentScriptType=\"application/ecmascript\" contentStyleType=\"text/css\" height=\"367px\" preserveAspectRatio=\"none\" style=\"width:243px;height:367px;\" version=\"1.1\" viewBox=\"0 0 243 367\" width=\"243px\" zoomAndPan=\"magnify\"><defs/><g><!--MD5=[fbc87193dbaf4d95561dea2c320d4a47]\n",
       "cluster E1--><a href=\"psysml:50af7fae-c5e9-43d5-b973-e599fd0b94e5\" target=\"_top\" title=\"psysml:50af7fae-c5e9-43d5-b973-e599fd0b94e5\" xlink:actuate=\"onRequest\" xlink:href=\"psysml:50af7fae-c5e9-43d5-b973-e599fd0b94e5\" xlink:show=\"new\" xlink:title=\"psysml:50af7fae-c5e9-43d5-b973-e599fd0b94e5\" xlink:type=\"simple\"><polygon fill=\"#FFFFFF\" points=\"16,6,196,6,203,28.2969,219,28.2969,219,355,16,355,16,6\" style=\"stroke: #000000; stroke-width: 1.5;\"/><line style=\"stroke: #000000; stroke-width: 1.5;\" x1=\"16\" x2=\"203\" y1=\"28.2969\" y2=\"28.2969\"/><text fill=\"#000000\" font-family=\"sans-serif\" font-size=\"14\" font-weight=\"bold\" lengthAdjust=\"spacingAndGlyphs\" textLength=\"174\" x=\"20\" y=\"20.9951\">QualifiedNameImportTest</text></a><!--MD5=[e4f7fae6ed58524ba242bb0b0d3be6b7]\n",
       "cluster E2--><a href=\"psysml:1e9ed716-c57b-44aa-8aaa-ea3379eecc8d\" target=\"_top\" title=\"psysml:1e9ed716-c57b-44aa-8aaa-ea3379eecc8d\" xlink:actuate=\"onRequest\" xlink:href=\"psysml:1e9ed716-c57b-44aa-8aaa-ea3379eecc8d\" xlink:show=\"new\" xlink:title=\"psysml:1e9ed716-c57b-44aa-8aaa-ea3379eecc8d\" xlink:type=\"simple\"><polygon fill=\"#FFFFFF\" points=\"48,210,72,210,79,232.2969,185,232.2969,185,323,48,323,48,210\" style=\"stroke: #000000; stroke-width: 1.5;\"/><line style=\"stroke: #000000; stroke-width: 1.5;\" x1=\"48\" x2=\"79\" y1=\"232.2969\" y2=\"232.2969\"/><text fill=\"#000000\" font-family=\"sans-serif\" font-size=\"14\" font-weight=\"bold\" lengthAdjust=\"spacingAndGlyphs\" textLength=\"18\" x=\"52\" y=\"224.9951\">P1</text></a><!--MD5=[f6df4d0ebaf0b5dfb2ced0ae5af7c670]\n",
       "cluster E4--><a href=\"psysml:04b1b2f0-8c96-40bb-b2e8-2bd575969190\" target=\"_top\" title=\"psysml:04b1b2f0-8c96-40bb-b2e8-2bd575969190\" xlink:actuate=\"onRequest\" xlink:href=\"psysml:04b1b2f0-8c96-40bb-b2e8-2bd575969190\" xlink:show=\"new\" xlink:title=\"psysml:04b1b2f0-8c96-40bb-b2e8-2bd575969190\" xlink:type=\"simple\"><polygon fill=\"#FFFFFF\" points=\"40,49,64,49,71,71.2969,195,71.2969,195,153,40,153,40,49\" style=\"stroke: #000000; stroke-width: 1.5;\"/><line style=\"stroke: #000000; stroke-width: 1.5;\" x1=\"40\" x2=\"71\" y1=\"71.2969\" y2=\"71.2969\"/><text fill=\"#000000\" font-family=\"sans-serif\" font-size=\"14\" font-weight=\"bold\" lengthAdjust=\"spacingAndGlyphs\" textLength=\"18\" x=\"44\" y=\"63.9951\">P2</text></a><!--MD5=[09b614a08d8cba4a07c9adeb5e0fee81]\n",
       "class E3--><a href=\"psysml:4266c5b7-3671-4acf-aa71-02dd8d212457\" target=\"_top\" title=\"psysml:4266c5b7-3671-4acf-aa71-02dd8d212457\" xlink:actuate=\"onRequest\" xlink:href=\"psysml:4266c5b7-3671-4acf-aa71-02dd8d212457\" xlink:show=\"new\" xlink:title=\"psysml:4266c5b7-3671-4acf-aa71-02dd8d212457\" xlink:type=\"simple\"><rect fill=\"#FFFFFF\" height=\"45.9375\" id=\"E3\" style=\"stroke: #383838; stroke-width: 1.5;\" width=\"70\" x=\"72\" y=\"253\"/><text fill=\"#000000\" font-family=\"sans-serif\" font-size=\"12\" font-style=\"italic\" lengthAdjust=\"spacingAndGlyphs\" textLength=\"68\" x=\"73\" y=\"269.1387\">«part  def»</text><text fill=\"#000000\" font-family=\"sans-serif\" font-size=\"12\" lengthAdjust=\"spacingAndGlyphs\" textLength=\"8\" x=\"103\" y=\"283.1074\">A</text><line style=\"stroke: #383838; stroke-width: 1.5;\" x1=\"73\" x2=\"141\" y1=\"290.9375\" y2=\"290.9375\"/></a><!--MD5=[60a26617385b1d2d0262a64233df1f8d]\n",
       "class E6--><a href=\"psysml:d91f8c93-5cf2-41b6-a65a-d41673929b38\" target=\"_top\" title=\"psysml:d91f8c93-5cf2-41b6-a65a-d41673929b38\" xlink:actuate=\"onRequest\" xlink:href=\"psysml:d91f8c93-5cf2-41b6-a65a-d41673929b38\" xlink:show=\"new\" xlink:title=\"psysml:d91f8c93-5cf2-41b6-a65a-d41673929b38\" xlink:type=\"simple\"><rect fill=\"#FFFFFF\" height=\"45.9375\" id=\"E6\" rx=\"10\" ry=\"10\" style=\"stroke: #383838; stroke-width: 1.5;\" width=\"42\" x=\"56\" y=\"87.5\"/><text fill=\"#000000\" font-family=\"sans-serif\" font-size=\"12\" font-style=\"italic\" lengthAdjust=\"spacingAndGlyphs\" textLength=\"40\" x=\"57\" y=\"103.6387\">«part»</text><text fill=\"#000000\" font-family=\"sans-serif\" font-size=\"12\" lengthAdjust=\"spacingAndGlyphs\" textLength=\"22\" x=\"64\" y=\"117.6074\">x: A</text><line style=\"stroke: #383838; stroke-width: 1.5;\" x1=\"57\" x2=\"97\" y1=\"125.4375\" y2=\"125.4375\"/></a><a href=\"psysml:bb8eeef5-ab74-4ee9-8505-e654a7ee43f1\" target=\"_top\" title=\"psysml:bb8eeef5-ab74-4ee9-8505-e654a7ee43f1\" xlink:actuate=\"onRequest\" xlink:href=\"psysml:bb8eeef5-ab74-4ee9-8505-e654a7ee43f1\" xlink:show=\"new\" xlink:title=\"psysml:bb8eeef5-ab74-4ee9-8505-e654a7ee43f1\" xlink:type=\"simple\"><polygon fill=\"#FFFFFF\" points=\"133,84,165,84,172,106.2969,179,106.2969,179,136.5938,133,136.5938,133,84\" style=\"stroke: #000000; stroke-width: 1.5;\"/><line style=\"stroke: #000000; stroke-width: 1.5;\" x1=\"133\" x2=\"172\" y1=\"106.2969\" y2=\"106.2969\"/><text fill=\"#000000\" font-family=\"sans-serif\" font-size=\"14\" font-weight=\"bold\" lengthAdjust=\"spacingAndGlyphs\" textLength=\"26\" x=\"137\" y=\"98.9951\">P2a</text></a><!--MD5=[15ebcb19ae302d9b601edb458606d402]\n",
       "link E5 to E2--><a href=\"psysml:06c75c6a-903d-4e64-8c9a-141a01fc9647\" target=\"_top\" title=\"psysml:06c75c6a-903d-4e64-8c9a-141a01fc9647\" xlink:actuate=\"onRequest\" xlink:href=\"psysml:06c75c6a-903d-4e64-8c9a-141a01fc9647\" xlink:show=\"new\" xlink:title=\"psysml:06c75c6a-903d-4e64-8c9a-141a01fc9647\" xlink:type=\"simple\"><path d=\"M159.28,137.05 C160.735,148.365 162.5469,162.4656 164.4519,177.2955 C165.4044,184.7104 166.3802,192.3076 167.3463,199.8301 C167.5878,201.7107 167.8287,203.5867 168.0685,205.4539 C168.1884,206.3876 168.308,207.319 168.4273,208.2478 C168.4869,208.7122 168.5465,209.1759 168.6059,209.6389 \" fill=\"none\" id=\"E5-&gt;E2\" style=\"stroke: #383838; stroke-width: 1.0; stroke-dasharray: 7.0,7.0;\"/><polygon fill=\"#383838\" points=\"168.6059,209.6389,171.427,200.2027,167.9691,204.6796,163.4922,201.2217,168.6059,209.6389\" style=\"stroke: #383838; stroke-width: 1.0;\"/><text fill=\"#000000\" font-family=\"sans-serif\" font-size=\"13\" lengthAdjust=\"spacingAndGlyphs\" textLength=\"65\" x=\"166\" y=\"182.0669\">«import»*</text></a><!--MD5=[a717450b82c80b9240a525fa862496af]\n",
       "link E6 to E3--><a href=\"psysml:2903afd1-9bf2-47a6-8d72-b5532180e7bb\" target=\"_top\" title=\"psysml:2903afd1-9bf2-47a6-8d72-b5532180e7bb\" xlink:actuate=\"onRequest\" xlink:href=\"psysml:2903afd1-9bf2-47a6-8d72-b5532180e7bb\" xlink:show=\"new\" xlink:title=\"psysml:2903afd1-9bf2-47a6-8d72-b5532180e7bb\" xlink:type=\"simple\"><path d=\"M81.05,133.55 C85.7,158.9 93.44,201.1 99.26,232.83 \" fill=\"none\" id=\"E6-&gt;E3\" style=\"stroke: #383838; stroke-width: 1.0;\"/><polygon fill=\"#FFFFFF\" points=\"102.92,252.78,92.6018,235.3578,106.3713,232.8278,102.92,252.78\" style=\"stroke: #383838; stroke-width: 1.0;\"/><ellipse cx=\"93.5388\" cy=\"229.3902\" fill=\"#383838\" rx=\"2\" ry=\"2\" style=\"stroke: #383838; stroke-width: 1.0;\"/><ellipse cx=\"103.3742\" cy=\"227.5831\" fill=\"#383838\" rx=\"2\" ry=\"2\" style=\"stroke: #383838; stroke-width: 1.0;\"/></a><!--MD5=[52eb8413fda3be456b5808858ad1a697]\n",
       "@startuml\r\n",
       "top to bottom direction\r\n",
       "skinparam monochrome true\r\n",
       "skinparam classbackgroundcolor white\r\n",
       "skinparam shadowing false\r\n",
       "skinparam wrapWidth 300\r\n",
       "hide circle\r\n",
       "\r\n",
       "package \"QualifiedNameImportTest\" as E1  [[psysml:50af7fae-c5e9-43d5-b973-e599fd0b94e5 ]]  {\r\n",
       "package \"P1\" as E2  [[psysml:1e9ed716-c57b-44aa-8aaa-ea3379eecc8d ]]  {\r\n",
       "comp def \"A\" as E3  <<(T,blue) part  def>> [[psysml:4266c5b7-3671-4acf-aa71-02dd8d212457 ]] {\r\n",
       "}\r\n",
       "}\r\n",
       "package \"P2\" as E4  [[psysml:04b1b2f0-8c96-40bb-b2e8-2bd575969190 ]]  {\r\n",
       "package \"P2a\" as E5  [[psysml:bb8eeef5-ab74-4ee9-8505-e654a7ee43f1 ]]  {\r\n",
       "}\r\n",
       "comp usage \"x: A \" as E6  <<(T,blue) part>> [[psysml:d91f8c93-5cf2-41b6-a65a-d41673929b38 ]] {\r\n",
       "}\r\n",
       "}\r\n",
       "}\r\n",
       "E5 ..> E2 [[psysml:06c75c6a-903d-4e64-8c9a-141a01fc9647 ]] : <<import>>*\r\n",
       "E6 - -:|> E3 [[psysml:2903afd1-9bf2-47a6-8d72-b5532180e7bb ]] \r\n",
       "@enduml\r\n",
       "\n",
       "PlantUML version 1.2020.13(Sat Jun 13 12:26:38 UTC 2020)\n",
       "(EPL source distribution)\n",
       "Java Runtime: OpenJDK Runtime Environment\n",
       "JVM: OpenJDK 64-Bit Server VM\n",
       "Default Encoding: UTF-8\n",
       "Language: en\n",
       "Country: null\n",
       "--></g></svg>"
      ]
     },
     "execution_count": 45,
     "metadata": {},
     "output_type": "execute_result"
    }
   ],
   "source": [
    "%viz --style=\"TB\" --view=\"Tree\" \"QualifiedNameImportTest\""
   ]
  },
  {
   "cell_type": "code",
   "execution_count": 46,
   "id": "e8acaf38",
   "metadata": {
    "execution": {
     "iopub.execute_input": "2022-04-22T09:51:25.388083Z",
     "iopub.status.busy": "2022-04-22T09:51:25.387664Z",
     "iopub.status.idle": "2022-04-22T09:51:25.392530Z",
     "shell.execute_reply": "2022-04-22T09:51:25.392173Z"
    }
   },
   "outputs": [
    {
     "data": {
      "image/svg+xml": [
       "<?xml version=\"1.0\" encoding=\"UTF-8\" standalone=\"no\"?><svg xmlns=\"http://www.w3.org/2000/svg\" xmlns:xlink=\"http://www.w3.org/1999/xlink\" contentScriptType=\"application/ecmascript\" contentStyleType=\"text/css\" height=\"12px\" preserveAspectRatio=\"none\" style=\"width:12px;height:12px;\" version=\"1.1\" viewBox=\"0 0 12 12\" width=\"12px\" zoomAndPan=\"magnify\"><defs/><g><!--MD5=[f4ee21bc66e489b5061b7c3e9601fdef]\n",
       "@startuml\r\n",
       "top to bottom direction\r\n",
       "skinparam monochrome true\r\n",
       "skinparam classbackgroundcolor white\r\n",
       "skinparam shadowing false\r\n",
       "skinparam wrapWidth 300\r\n",
       "hide circle\r\n",
       "\r\n",
       "@enduml\r\n",
       "\n",
       "PlantUML version 1.2020.13(Sat Jun 13 12:26:38 UTC 2020)\n",
       "(EPL source distribution)\n",
       "Java Runtime: OpenJDK Runtime Environment\n",
       "JVM: OpenJDK 64-Bit Server VM\n",
       "Default Encoding: UTF-8\n",
       "Language: en\n",
       "Country: null\n",
       "--></g></svg>"
      ]
     },
     "execution_count": 46,
     "metadata": {},
     "output_type": "execute_result"
    }
   ],
   "source": [
    "%viz --style=\"TB\" --view=\"State\" \"QualifiedNameImportTest\""
   ]
  },
  {
   "cell_type": "code",
   "execution_count": 47,
   "id": "16843a19",
   "metadata": {
    "execution": {
     "iopub.execute_input": "2022-04-22T09:51:25.442560Z",
     "iopub.status.busy": "2022-04-22T09:51:25.442139Z",
     "iopub.status.idle": "2022-04-22T09:51:25.471174Z",
     "shell.execute_reply": "2022-04-22T09:51:25.470814Z"
    }
   },
   "outputs": [
    {
     "data": {
      "image/svg+xml": [
       "<?xml version=\"1.0\" encoding=\"UTF-8\" standalone=\"no\"?><svg xmlns=\"http://www.w3.org/2000/svg\" xmlns:xlink=\"http://www.w3.org/1999/xlink\" contentScriptType=\"application/ecmascript\" contentStyleType=\"text/css\" height=\"364px\" preserveAspectRatio=\"none\" style=\"width:249px;height:364px;\" version=\"1.1\" viewBox=\"0 0 249 364\" width=\"249px\" zoomAndPan=\"magnify\"><defs/><g><!--MD5=[fbc87193dbaf4d95561dea2c320d4a47]\n",
       "cluster E1--><a href=\"psysml:50af7fae-c5e9-43d5-b973-e599fd0b94e5\" target=\"_top\" title=\"psysml:50af7fae-c5e9-43d5-b973-e599fd0b94e5\" xlink:actuate=\"onRequest\" xlink:href=\"psysml:50af7fae-c5e9-43d5-b973-e599fd0b94e5\" xlink:show=\"new\" xlink:title=\"psysml:50af7fae-c5e9-43d5-b973-e599fd0b94e5\" xlink:type=\"simple\"><polygon fill=\"#FFFFFF\" points=\"16,6,196,6,203,28.2969,227,28.2969,227,352,16,352,16,6\" style=\"stroke: #000000; stroke-width: 1.5;\"/><line style=\"stroke: #000000; stroke-width: 1.5;\" x1=\"16\" x2=\"203\" y1=\"28.2969\" y2=\"28.2969\"/><text fill=\"#000000\" font-family=\"sans-serif\" font-size=\"14\" font-weight=\"bold\" lengthAdjust=\"spacingAndGlyphs\" textLength=\"174\" x=\"20\" y=\"20.9951\">QualifiedNameImportTest</text></a><!--MD5=[e4f7fae6ed58524ba242bb0b0d3be6b7]\n",
       "cluster E2--><a href=\"psysml:1e9ed716-c57b-44aa-8aaa-ea3379eecc8d\" target=\"_top\" title=\"psysml:1e9ed716-c57b-44aa-8aaa-ea3379eecc8d\" xlink:actuate=\"onRequest\" xlink:href=\"psysml:1e9ed716-c57b-44aa-8aaa-ea3379eecc8d\" xlink:show=\"new\" xlink:title=\"psysml:1e9ed716-c57b-44aa-8aaa-ea3379eecc8d\" xlink:type=\"simple\"><polygon fill=\"#FFFFFF\" points=\"53,210,77,210,84,232.2969,195,232.2969,195,320,53,320,53,210\" style=\"stroke: #000000; stroke-width: 1.5;\"/><line style=\"stroke: #000000; stroke-width: 1.5;\" x1=\"53\" x2=\"84\" y1=\"232.2969\" y2=\"232.2969\"/><text fill=\"#000000\" font-family=\"sans-serif\" font-size=\"14\" font-weight=\"bold\" lengthAdjust=\"spacingAndGlyphs\" textLength=\"18\" x=\"57\" y=\"224.9951\">P1</text></a><!--MD5=[f6df4d0ebaf0b5dfb2ced0ae5af7c670]\n",
       "cluster E4--><a href=\"psysml:04b1b2f0-8c96-40bb-b2e8-2bd575969190\" target=\"_top\" title=\"psysml:04b1b2f0-8c96-40bb-b2e8-2bd575969190\" xlink:actuate=\"onRequest\" xlink:href=\"psysml:04b1b2f0-8c96-40bb-b2e8-2bd575969190\" xlink:show=\"new\" xlink:title=\"psysml:04b1b2f0-8c96-40bb-b2e8-2bd575969190\" xlink:type=\"simple\"><polygon fill=\"#FFFFFF\" points=\"40,49,64,49,71,71.2969,203,71.2969,203,153,40,153,40,49\" style=\"stroke: #000000; stroke-width: 1.5;\"/><line style=\"stroke: #000000; stroke-width: 1.5;\" x1=\"40\" x2=\"71\" y1=\"71.2969\" y2=\"71.2969\"/><text fill=\"#000000\" font-family=\"sans-serif\" font-size=\"14\" font-weight=\"bold\" lengthAdjust=\"spacingAndGlyphs\" textLength=\"18\" x=\"44\" y=\"63.9951\">P2</text></a><g id=\"E1.E2.E3\"><a href=\"psysml:4266c5b7-3671-4acf-aa71-02dd8d212457\" target=\"_top\" title=\"psysml:4266c5b7-3671-4acf-aa71-02dd8d212457\" xlink:actuate=\"onRequest\" xlink:href=\"psysml:4266c5b7-3671-4acf-aa71-02dd8d212457\" xlink:show=\"new\" xlink:title=\"psysml:4266c5b7-3671-4acf-aa71-02dd8d212457\" xlink:type=\"simple\"><rect fill=\"#FFFFFF\" height=\"42.9375\" id=\"E3\" style=\"stroke: #383838; stroke-width: 1.5;\" width=\"75\" x=\"96.5\" y=\"253\"/><rect fill=\"#F8F8F8\" height=\"37.9375\" style=\"stroke: #383838; stroke-width: 1.5;\" width=\"75\" x=\"96.5\" y=\"253\"/><text fill=\"#000000\" font-family=\"sans-serif\" font-size=\"12\" font-style=\"italic\" lengthAdjust=\"spacingAndGlyphs\" textLength=\"68\" x=\"100\" y=\"269.1387\">«part  def»</text><text fill=\"#000000\" font-family=\"sans-serif\" font-size=\"12\" lengthAdjust=\"spacingAndGlyphs\" textLength=\"8\" x=\"130\" y=\"283.1074\">A</text></a></g><a href=\"psysml:bb8eeef5-ab74-4ee9-8505-e654a7ee43f1\" target=\"_top\" title=\"psysml:bb8eeef5-ab74-4ee9-8505-e654a7ee43f1\" xlink:actuate=\"onRequest\" xlink:href=\"psysml:bb8eeef5-ab74-4ee9-8505-e654a7ee43f1\" xlink:show=\"new\" xlink:title=\"psysml:bb8eeef5-ab74-4ee9-8505-e654a7ee43f1\" xlink:type=\"simple\"><polygon fill=\"#FFFFFF\" points=\"56,84,88,84,95,106.2969,102,106.2969,102,136.5938,56,136.5938,56,84\" style=\"stroke: #000000; stroke-width: 1.5;\"/><line style=\"stroke: #000000; stroke-width: 1.5;\" x1=\"56\" x2=\"95\" y1=\"106.2969\" y2=\"106.2969\"/><text fill=\"#000000\" font-family=\"sans-serif\" font-size=\"14\" font-weight=\"bold\" lengthAdjust=\"spacingAndGlyphs\" textLength=\"26\" x=\"60\" y=\"98.9951\">P2a</text></a><g id=\"E1.E4.E6\"><a href=\"psysml:d91f8c93-5cf2-41b6-a65a-d41673929b38\" target=\"_top\" title=\"psysml:d91f8c93-5cf2-41b6-a65a-d41673929b38\" xlink:actuate=\"onRequest\" xlink:href=\"psysml:d91f8c93-5cf2-41b6-a65a-d41673929b38\" xlink:show=\"new\" xlink:title=\"psysml:d91f8c93-5cf2-41b6-a65a-d41673929b38\" xlink:type=\"simple\"><rect fill=\"#FFFFFF\" height=\"40\" id=\"E6\" rx=\"10\" ry=\"10\" style=\"stroke: #383838; stroke-width: 1.5;\" width=\"50\" x=\"137\" y=\"90.5\"/><rect fill=\"#F8F8F8\" height=\"23.9688\" rx=\"10\" ry=\"10\" style=\"stroke: #F8F8F8; stroke-width: 1.5;\" width=\"50\" x=\"137\" y=\"90.5\"/><rect fill=\"#F8F8F8\" height=\"10\" style=\"stroke: #F8F8F8; stroke-width: 1.5;\" width=\"50\" x=\"137\" y=\"104.4688\"/><rect fill=\"none\" height=\"40\" id=\"E6\" rx=\"10\" ry=\"10\" style=\"stroke: #383838; stroke-width: 1.5;\" width=\"50\" x=\"137\" y=\"90.5\"/><text fill=\"#000000\" font-family=\"sans-serif\" font-size=\"12\" lengthAdjust=\"spacingAndGlyphs\" textLength=\"22\" x=\"151\" y=\"106.6387\">x: A</text></a></g><!--MD5=[15ebcb19ae302d9b601edb458606d402]\n",
       "link E5 to E2--><a href=\"psysml:06c75c6a-903d-4e64-8c9a-141a01fc9647\" target=\"_top\" title=\"psysml:06c75c6a-903d-4e64-8c9a-141a01fc9647\" xlink:actuate=\"onRequest\" xlink:href=\"psysml:06c75c6a-903d-4e64-8c9a-141a01fc9647\" xlink:show=\"new\" xlink:title=\"psysml:06c75c6a-903d-4e64-8c9a-141a01fc9647\" xlink:type=\"simple\"><path d=\"M76.15,137.17 C74.9,148.4125 73.3475,162.3781 71.7172,177.0456 C70.902,184.3794 70.0674,191.8886 69.2414,199.3206 C69.035,201.1786 68.829,203.0318 68.624,204.8762 C68.5215,205.7984 68.4193,206.7184 68.3173,207.6358 C68.2664,208.0944 68.2155,208.5524 68.1647,209.0097 C68.1393,209.2383 68.1139,209.4668 68.0885,209.695 \" fill=\"none\" id=\"E5-&gt;E2\" style=\"stroke: #383838; stroke-width: 1.0; stroke-dasharray: 7.0,7.0;\"/><polygon fill=\"#383838\" points=\"68.0885,209.695,73.0581,201.1919,68.6408,204.7256,65.107,200.3083,68.0885,209.695\" style=\"stroke: #383838; stroke-width: 1.0;\"/><text fill=\"#000000\" font-family=\"sans-serif\" font-size=\"13\" lengthAdjust=\"spacingAndGlyphs\" textLength=\"65\" x=\"73\" y=\"182.0669\">«import»*</text></a><!--MD5=[a717450b82c80b9240a525fa862496af]\n",
       "link E6 to E3--><a href=\"psysml:2903afd1-9bf2-47a6-8d72-b5532180e7bb\" target=\"_top\" title=\"psysml:2903afd1-9bf2-47a6-8d72-b5532180e7bb\" xlink:actuate=\"onRequest\" xlink:href=\"psysml:2903afd1-9bf2-47a6-8d72-b5532180e7bb\" xlink:show=\"new\" xlink:title=\"psysml:2903afd1-9bf2-47a6-8d72-b5532180e7bb\" xlink:type=\"simple\"><path d=\"M158.68,130.72 C154.35,155.76 146.67,200.21 141.02,232.87 \" fill=\"none\" id=\"E6-&gt;E3\" style=\"stroke: #383838; stroke-width: 1.0;\"/><polygon fill=\"#FFFFFF\" points=\"137.58,252.77,133.925,232.8542,147.7196,235.2432,137.58,252.77\" style=\"stroke: #383838; stroke-width: 1.0;\"/><ellipse cx=\"136.8683\" cy=\"227.5791\" fill=\"#383838\" rx=\"2\" ry=\"2\" style=\"stroke: #383838; stroke-width: 1.0;\"/><ellipse cx=\"146.7217\" cy=\"229.2855\" fill=\"#383838\" rx=\"2\" ry=\"2\" style=\"stroke: #383838; stroke-width: 1.0;\"/></a><!--MD5=[dad3fbe9b15013f887ff7635acd7f80c]\n",
       "@startuml\r\n",
       "skinparam ranksep 10\r\n",
       "skinparam rectangle {\r\n",
       " backgroundColor<<block>> LightGreen\r\n",
       "}\r\n",
       "top to bottom direction\r\n",
       "skinparam monochrome true\r\n",
       "skinparam classbackgroundcolor white\r\n",
       "skinparam shadowing false\r\n",
       "skinparam wrapWidth 300\r\n",
       "hide circle\r\n",
       "\r\n",
       "package \"QualifiedNameImportTest\" as E1  [[psysml:50af7fae-c5e9-43d5-b973-e599fd0b94e5 ]]  {\r\n",
       "package \"P1\" as E2  [[psysml:1e9ed716-c57b-44aa-8aaa-ea3379eecc8d ]]  {\r\n",
       "rec def \"A\" as E3  <<(T,blue) part  def>> [[psysml:4266c5b7-3671-4acf-aa71-02dd8d212457 ]] {\r\n",
       "}\r\n",
       "}\r\n",
       "package \"P2\" as E4  [[psysml:04b1b2f0-8c96-40bb-b2e8-2bd575969190 ]]  {\r\n",
       "package \"P2a\" as E5  [[psysml:bb8eeef5-ab74-4ee9-8505-e654a7ee43f1 ]]  {\r\n",
       "}\r\n",
       "rec usage \"x: A\" as E6  [[psysml:d91f8c93-5cf2-41b6-a65a-d41673929b38 ]] {\r\n",
       "}\r\n",
       "}\r\n",
       "}\r\n",
       "E5 ..> E2 [[psysml:06c75c6a-903d-4e64-8c9a-141a01fc9647 ]] : <<import>>*\r\n",
       "E6 - -:|> E3 [[psysml:2903afd1-9bf2-47a6-8d72-b5532180e7bb ]] \r\n",
       "@enduml\r\n",
       "\n",
       "PlantUML version 1.2020.13(Sat Jun 13 12:26:38 UTC 2020)\n",
       "(EPL source distribution)\n",
       "Java Runtime: OpenJDK Runtime Environment\n",
       "JVM: OpenJDK 64-Bit Server VM\n",
       "Default Encoding: UTF-8\n",
       "Language: en\n",
       "Country: null\n",
       "--></g></svg>"
      ]
     },
     "execution_count": 47,
     "metadata": {},
     "output_type": "execute_result"
    }
   ],
   "source": [
    "%viz --style=\"TB\" --view=\"Interconnection\" \"QualifiedNameImportTest\""
   ]
  },
  {
   "cell_type": "code",
   "execution_count": 48,
   "id": "29c79caa",
   "metadata": {
    "execution": {
     "iopub.execute_input": "2022-04-22T09:51:25.521163Z",
     "iopub.status.busy": "2022-04-22T09:51:25.520739Z",
     "iopub.status.idle": "2022-04-22T09:51:25.524946Z",
     "shell.execute_reply": "2022-04-22T09:51:25.525243Z"
    }
   },
   "outputs": [
    {
     "data": {
      "image/svg+xml": [
       "<?xml version=\"1.0\" encoding=\"UTF-8\" standalone=\"no\"?><svg xmlns=\"http://www.w3.org/2000/svg\" xmlns:xlink=\"http://www.w3.org/1999/xlink\" contentScriptType=\"application/ecmascript\" contentStyleType=\"text/css\" height=\"12px\" preserveAspectRatio=\"none\" style=\"width:12px;height:12px;\" version=\"1.1\" viewBox=\"0 0 12 12\" width=\"12px\" zoomAndPan=\"magnify\"><defs/><g><!--MD5=[06afc254b03ac5e9d9fb7773b07d0800]\n",
       "@startuml\r\n",
       "skinparam ranksep 8\r\n",
       "top to bottom direction\r\n",
       "skinparam monochrome true\r\n",
       "skinparam classbackgroundcolor white\r\n",
       "skinparam shadowing false\r\n",
       "skinparam wrapWidth 300\r\n",
       "hide circle\r\n",
       "\r\n",
       "@enduml\r\n",
       "\n",
       "PlantUML version 1.2020.13(Sat Jun 13 12:26:38 UTC 2020)\n",
       "(EPL source distribution)\n",
       "Java Runtime: OpenJDK Runtime Environment\n",
       "JVM: OpenJDK 64-Bit Server VM\n",
       "Default Encoding: UTF-8\n",
       "Language: en\n",
       "Country: null\n",
       "--></g></svg>"
      ]
     },
     "execution_count": 48,
     "metadata": {},
     "output_type": "execute_result"
    }
   ],
   "source": [
    "%viz --style=\"TB\" --view=\"Action\" \"QualifiedNameImportTest\""
   ]
  },
  {
   "cell_type": "code",
   "execution_count": 49,
   "id": "1e408385",
   "metadata": {
    "execution": {
     "iopub.execute_input": "2022-04-22T09:51:25.575367Z",
     "iopub.status.busy": "2022-04-22T09:51:25.574958Z",
     "iopub.status.idle": "2022-04-22T09:51:25.580667Z",
     "shell.execute_reply": "2022-04-22T09:51:25.580262Z"
    }
   },
   "outputs": [
    {
     "data": {
      "image/svg+xml": [
       "<?xml version=\"1.0\" encoding=\"UTF-8\" standalone=\"no\"?><svg xmlns=\"http://www.w3.org/2000/svg\" xmlns:xlink=\"http://www.w3.org/1999/xlink\" contentScriptType=\"application/ecmascript\" contentStyleType=\"text/css\" height=\"12px\" preserveAspectRatio=\"none\" style=\"width:12px;height:12px;\" version=\"1.1\" viewBox=\"0 0 12 12\" width=\"12px\" zoomAndPan=\"magnify\"><defs/><g><!--MD5=[e1ab0c84c44d2fef8bf5f140f2689906]\n",
       "@startuml\r\n",
       "skinparam roundcorner 20\r\n",
       "skinparam BoxPadding 20\r\n",
       "skinparam SequenceBoxBackgroundColor #white\r\n",
       "skinparam style strictuml\r\n",
       "skinparam maxMessageSize 100\r\n",
       "top to bottom direction\r\n",
       "skinparam monochrome true\r\n",
       "skinparam classbackgroundcolor white\r\n",
       "skinparam shadowing false\r\n",
       "skinparam wrapWidth 300\r\n",
       "hide circle\r\n",
       "\r\n",
       "@enduml\r\n",
       "\n",
       "PlantUML version 1.2020.13(Sat Jun 13 12:26:38 UTC 2020)\n",
       "(EPL source distribution)\n",
       "Java Runtime: OpenJDK Runtime Environment\n",
       "JVM: OpenJDK 64-Bit Server VM\n",
       "Default Encoding: UTF-8\n",
       "Language: en\n",
       "Country: null\n",
       "--></g></svg>"
      ]
     },
     "execution_count": 49,
     "metadata": {},
     "output_type": "execute_result"
    }
   ],
   "source": [
    "%viz --style=\"TB\" --view=\"Sequence\" \"QualifiedNameImportTest\""
   ]
  },
  {
   "cell_type": "code",
   "execution_count": 50,
   "id": "a37edf40",
   "metadata": {
    "execution": {
     "iopub.execute_input": "2022-04-22T09:51:25.631107Z",
     "iopub.status.busy": "2022-04-22T09:51:25.630381Z",
     "iopub.status.idle": "2022-04-22T09:51:25.658278Z",
     "shell.execute_reply": "2022-04-22T09:51:25.657904Z"
    }
   },
   "outputs": [
    {
     "data": {
      "image/svg+xml": [
       "<?xml version=\"1.0\" encoding=\"UTF-8\" standalone=\"no\"?><svg xmlns=\"http://www.w3.org/2000/svg\" xmlns:xlink=\"http://www.w3.org/1999/xlink\" contentScriptType=\"application/ecmascript\" contentStyleType=\"text/css\" height=\"367px\" preserveAspectRatio=\"none\" style=\"width:243px;height:367px;\" version=\"1.1\" viewBox=\"0 0 243 367\" width=\"243px\" zoomAndPan=\"magnify\"><defs/><g><!--MD5=[fbc87193dbaf4d95561dea2c320d4a47]\n",
       "cluster E1--><a href=\"psysml:50af7fae-c5e9-43d5-b973-e599fd0b94e5\" target=\"_top\" title=\"psysml:50af7fae-c5e9-43d5-b973-e599fd0b94e5\" xlink:actuate=\"onRequest\" xlink:href=\"psysml:50af7fae-c5e9-43d5-b973-e599fd0b94e5\" xlink:show=\"new\" xlink:title=\"psysml:50af7fae-c5e9-43d5-b973-e599fd0b94e5\" xlink:type=\"simple\"><polygon fill=\"#FFFFFF\" points=\"16,6,196,6,203,28.2969,219,28.2969,219,355,16,355,16,6\" style=\"stroke: #000000; stroke-width: 1.5;\"/><line style=\"stroke: #000000; stroke-width: 1.5;\" x1=\"16\" x2=\"203\" y1=\"28.2969\" y2=\"28.2969\"/><text fill=\"#000000\" font-family=\"sans-serif\" font-size=\"14\" font-weight=\"bold\" lengthAdjust=\"spacingAndGlyphs\" textLength=\"174\" x=\"20\" y=\"20.9951\">QualifiedNameImportTest</text></a><!--MD5=[e4f7fae6ed58524ba242bb0b0d3be6b7]\n",
       "cluster E2--><a href=\"psysml:1e9ed716-c57b-44aa-8aaa-ea3379eecc8d\" target=\"_top\" title=\"psysml:1e9ed716-c57b-44aa-8aaa-ea3379eecc8d\" xlink:actuate=\"onRequest\" xlink:href=\"psysml:1e9ed716-c57b-44aa-8aaa-ea3379eecc8d\" xlink:show=\"new\" xlink:title=\"psysml:1e9ed716-c57b-44aa-8aaa-ea3379eecc8d\" xlink:type=\"simple\"><polygon fill=\"#FFFFFF\" points=\"48,210,72,210,79,232.2969,185,232.2969,185,323,48,323,48,210\" style=\"stroke: #000000; stroke-width: 1.5;\"/><line style=\"stroke: #000000; stroke-width: 1.5;\" x1=\"48\" x2=\"79\" y1=\"232.2969\" y2=\"232.2969\"/><text fill=\"#000000\" font-family=\"sans-serif\" font-size=\"14\" font-weight=\"bold\" lengthAdjust=\"spacingAndGlyphs\" textLength=\"18\" x=\"52\" y=\"224.9951\">P1</text></a><!--MD5=[f6df4d0ebaf0b5dfb2ced0ae5af7c670]\n",
       "cluster E4--><a href=\"psysml:04b1b2f0-8c96-40bb-b2e8-2bd575969190\" target=\"_top\" title=\"psysml:04b1b2f0-8c96-40bb-b2e8-2bd575969190\" xlink:actuate=\"onRequest\" xlink:href=\"psysml:04b1b2f0-8c96-40bb-b2e8-2bd575969190\" xlink:show=\"new\" xlink:title=\"psysml:04b1b2f0-8c96-40bb-b2e8-2bd575969190\" xlink:type=\"simple\"><polygon fill=\"#FFFFFF\" points=\"40,49,64,49,71,71.2969,195,71.2969,195,153,40,153,40,49\" style=\"stroke: #000000; stroke-width: 1.5;\"/><line style=\"stroke: #000000; stroke-width: 1.5;\" x1=\"40\" x2=\"71\" y1=\"71.2969\" y2=\"71.2969\"/><text fill=\"#000000\" font-family=\"sans-serif\" font-size=\"14\" font-weight=\"bold\" lengthAdjust=\"spacingAndGlyphs\" textLength=\"18\" x=\"44\" y=\"63.9951\">P2</text></a><!--MD5=[09b614a08d8cba4a07c9adeb5e0fee81]\n",
       "class E3--><a href=\"psysml:4266c5b7-3671-4acf-aa71-02dd8d212457\" target=\"_top\" title=\"psysml:4266c5b7-3671-4acf-aa71-02dd8d212457\" xlink:actuate=\"onRequest\" xlink:href=\"psysml:4266c5b7-3671-4acf-aa71-02dd8d212457\" xlink:show=\"new\" xlink:title=\"psysml:4266c5b7-3671-4acf-aa71-02dd8d212457\" xlink:type=\"simple\"><rect fill=\"#FFFFFF\" height=\"45.9375\" id=\"E3\" style=\"stroke: #383838; stroke-width: 1.5;\" width=\"70\" x=\"72\" y=\"253\"/><text fill=\"#000000\" font-family=\"sans-serif\" font-size=\"12\" font-style=\"italic\" lengthAdjust=\"spacingAndGlyphs\" textLength=\"68\" x=\"73\" y=\"269.1387\">«part  def»</text><text fill=\"#000000\" font-family=\"sans-serif\" font-size=\"12\" lengthAdjust=\"spacingAndGlyphs\" textLength=\"8\" x=\"103\" y=\"283.1074\">A</text><line style=\"stroke: #383838; stroke-width: 1.5;\" x1=\"73\" x2=\"141\" y1=\"290.9375\" y2=\"290.9375\"/></a><!--MD5=[60a26617385b1d2d0262a64233df1f8d]\n",
       "class E6--><a href=\"psysml:d91f8c93-5cf2-41b6-a65a-d41673929b38\" target=\"_top\" title=\"psysml:d91f8c93-5cf2-41b6-a65a-d41673929b38\" xlink:actuate=\"onRequest\" xlink:href=\"psysml:d91f8c93-5cf2-41b6-a65a-d41673929b38\" xlink:show=\"new\" xlink:title=\"psysml:d91f8c93-5cf2-41b6-a65a-d41673929b38\" xlink:type=\"simple\"><rect fill=\"#FFFFFF\" height=\"45.9375\" id=\"E6\" rx=\"10\" ry=\"10\" style=\"stroke: #383838; stroke-width: 1.5;\" width=\"42\" x=\"56\" y=\"87.5\"/><text fill=\"#000000\" font-family=\"sans-serif\" font-size=\"12\" font-style=\"italic\" lengthAdjust=\"spacingAndGlyphs\" textLength=\"40\" x=\"57\" y=\"103.6387\">«part»</text><text fill=\"#000000\" font-family=\"sans-serif\" font-size=\"12\" lengthAdjust=\"spacingAndGlyphs\" textLength=\"22\" x=\"64\" y=\"117.6074\">x: A</text><line style=\"stroke: #383838; stroke-width: 1.5;\" x1=\"57\" x2=\"97\" y1=\"125.4375\" y2=\"125.4375\"/></a><a href=\"psysml:bb8eeef5-ab74-4ee9-8505-e654a7ee43f1\" target=\"_top\" title=\"psysml:bb8eeef5-ab74-4ee9-8505-e654a7ee43f1\" xlink:actuate=\"onRequest\" xlink:href=\"psysml:bb8eeef5-ab74-4ee9-8505-e654a7ee43f1\" xlink:show=\"new\" xlink:title=\"psysml:bb8eeef5-ab74-4ee9-8505-e654a7ee43f1\" xlink:type=\"simple\"><polygon fill=\"#FFFFFF\" points=\"133,84,165,84,172,106.2969,179,106.2969,179,136.5938,133,136.5938,133,84\" style=\"stroke: #000000; stroke-width: 1.5;\"/><line style=\"stroke: #000000; stroke-width: 1.5;\" x1=\"133\" x2=\"172\" y1=\"106.2969\" y2=\"106.2969\"/><text fill=\"#000000\" font-family=\"sans-serif\" font-size=\"14\" font-weight=\"bold\" lengthAdjust=\"spacingAndGlyphs\" textLength=\"26\" x=\"137\" y=\"98.9951\">P2a</text></a><!--MD5=[15ebcb19ae302d9b601edb458606d402]\n",
       "link E5 to E2--><a href=\"psysml:06c75c6a-903d-4e64-8c9a-141a01fc9647\" target=\"_top\" title=\"psysml:06c75c6a-903d-4e64-8c9a-141a01fc9647\" xlink:actuate=\"onRequest\" xlink:href=\"psysml:06c75c6a-903d-4e64-8c9a-141a01fc9647\" xlink:show=\"new\" xlink:title=\"psysml:06c75c6a-903d-4e64-8c9a-141a01fc9647\" xlink:type=\"simple\"><path d=\"M159.28,137.05 C160.735,148.365 162.5469,162.4656 164.4519,177.2955 C165.4044,184.7104 166.3802,192.3076 167.3463,199.8301 C167.5878,201.7107 167.8287,203.5867 168.0685,205.4539 C168.1884,206.3876 168.308,207.319 168.4273,208.2478 C168.4869,208.7122 168.5465,209.1759 168.6059,209.6389 \" fill=\"none\" id=\"E5-&gt;E2\" style=\"stroke: #383838; stroke-width: 1.0; stroke-dasharray: 7.0,7.0;\"/><polygon fill=\"#383838\" points=\"168.6059,209.6389,171.427,200.2027,167.9691,204.6796,163.4922,201.2217,168.6059,209.6389\" style=\"stroke: #383838; stroke-width: 1.0;\"/><text fill=\"#000000\" font-family=\"sans-serif\" font-size=\"13\" lengthAdjust=\"spacingAndGlyphs\" textLength=\"65\" x=\"166\" y=\"182.0669\">«import»*</text></a><!--MD5=[a717450b82c80b9240a525fa862496af]\n",
       "link E6 to E3--><a href=\"psysml:2903afd1-9bf2-47a6-8d72-b5532180e7bb\" target=\"_top\" title=\"psysml:2903afd1-9bf2-47a6-8d72-b5532180e7bb\" xlink:actuate=\"onRequest\" xlink:href=\"psysml:2903afd1-9bf2-47a6-8d72-b5532180e7bb\" xlink:show=\"new\" xlink:title=\"psysml:2903afd1-9bf2-47a6-8d72-b5532180e7bb\" xlink:type=\"simple\"><path d=\"M81.05,133.55 C85.7,158.9 93.44,201.1 99.26,232.83 \" fill=\"none\" id=\"E6-&gt;E3\" style=\"stroke: #383838; stroke-width: 1.0;\"/><polygon fill=\"#FFFFFF\" points=\"102.92,252.78,92.6018,235.3578,106.3713,232.8278,102.92,252.78\" style=\"stroke: #383838; stroke-width: 1.0;\"/><ellipse cx=\"93.5388\" cy=\"229.3902\" fill=\"#383838\" rx=\"2\" ry=\"2\" style=\"stroke: #383838; stroke-width: 1.0;\"/><ellipse cx=\"103.3742\" cy=\"227.5831\" fill=\"#383838\" rx=\"2\" ry=\"2\" style=\"stroke: #383838; stroke-width: 1.0;\"/></a><!--MD5=[52eb8413fda3be456b5808858ad1a697]\n",
       "@startuml\r\n",
       "top to bottom direction\r\n",
       "skinparam monochrome true\r\n",
       "skinparam classbackgroundcolor white\r\n",
       "skinparam shadowing false\r\n",
       "skinparam wrapWidth 300\r\n",
       "hide circle\r\n",
       "\r\n",
       "package \"QualifiedNameImportTest\" as E1  [[psysml:50af7fae-c5e9-43d5-b973-e599fd0b94e5 ]]  {\r\n",
       "package \"P1\" as E2  [[psysml:1e9ed716-c57b-44aa-8aaa-ea3379eecc8d ]]  {\r\n",
       "comp def \"A\" as E3  <<(T,blue) part  def>> [[psysml:4266c5b7-3671-4acf-aa71-02dd8d212457 ]] {\r\n",
       "}\r\n",
       "}\r\n",
       "package \"P2\" as E4  [[psysml:04b1b2f0-8c96-40bb-b2e8-2bd575969190 ]]  {\r\n",
       "package \"P2a\" as E5  [[psysml:bb8eeef5-ab74-4ee9-8505-e654a7ee43f1 ]]  {\r\n",
       "}\r\n",
       "comp usage \"x: A \" as E6  <<(T,blue) part>> [[psysml:d91f8c93-5cf2-41b6-a65a-d41673929b38 ]] {\r\n",
       "}\r\n",
       "}\r\n",
       "}\r\n",
       "E5 ..> E2 [[psysml:06c75c6a-903d-4e64-8c9a-141a01fc9647 ]] : <<import>>*\r\n",
       "E6 - -:|> E3 [[psysml:2903afd1-9bf2-47a6-8d72-b5532180e7bb ]] \r\n",
       "@enduml\r\n",
       "\n",
       "PlantUML version 1.2020.13(Sat Jun 13 12:26:38 UTC 2020)\n",
       "(EPL source distribution)\n",
       "Java Runtime: OpenJDK Runtime Environment\n",
       "JVM: OpenJDK 64-Bit Server VM\n",
       "Default Encoding: UTF-8\n",
       "Language: en\n",
       "Country: null\n",
       "--></g></svg>"
      ]
     },
     "execution_count": 50,
     "metadata": {},
     "output_type": "execute_result"
    }
   ],
   "source": [
    "%viz --style=\"TB\" --view=\"MIXED\" \"QualifiedNameImportTest\""
   ]
  },
  {
   "cell_type": "code",
   "execution_count": 51,
   "id": "c7a001fa",
   "metadata": {
    "execution": {
     "iopub.execute_input": "2022-04-22T09:51:25.708167Z",
     "iopub.status.busy": "2022-04-22T09:51:25.707513Z",
     "iopub.status.idle": "2022-04-22T09:51:25.735844Z",
     "shell.execute_reply": "2022-04-22T09:51:25.734326Z"
    }
   },
   "outputs": [
    {
     "data": {
      "image/svg+xml": [
       "<?xml version=\"1.0\" encoding=\"UTF-8\" standalone=\"no\"?><svg xmlns=\"http://www.w3.org/2000/svg\" xmlns:xlink=\"http://www.w3.org/1999/xlink\" contentScriptType=\"application/ecmascript\" contentStyleType=\"text/css\" height=\"367px\" preserveAspectRatio=\"none\" style=\"width:241px;height:367px;\" version=\"1.1\" viewBox=\"0 0 241 367\" width=\"241px\" zoomAndPan=\"magnify\"><defs/><g><!--MD5=[fbc87193dbaf4d95561dea2c320d4a47]\n",
       "cluster E1--><a href=\"psysml:50af7fae-c5e9-43d5-b973-e599fd0b94e5\" target=\"_top\" title=\"psysml:50af7fae-c5e9-43d5-b973-e599fd0b94e5\" xlink:actuate=\"onRequest\" xlink:href=\"psysml:50af7fae-c5e9-43d5-b973-e599fd0b94e5\" xlink:show=\"new\" xlink:title=\"psysml:50af7fae-c5e9-43d5-b973-e599fd0b94e5\" xlink:type=\"simple\"><polygon fill=\"#FFFFFF\" points=\"16,6,196,6,203,28.2969,219,28.2969,219,355,16,355,16,6\" style=\"stroke: #000000; stroke-width: 1.5;\"/><line style=\"stroke: #000000; stroke-width: 1.5;\" x1=\"16\" x2=\"203\" y1=\"28.2969\" y2=\"28.2969\"/><text fill=\"#000000\" font-family=\"sans-serif\" font-size=\"14\" font-weight=\"bold\" lengthAdjust=\"spacingAndGlyphs\" textLength=\"174\" x=\"20\" y=\"20.9951\">QualifiedNameImportTest</text></a><!--MD5=[e4f7fae6ed58524ba242bb0b0d3be6b7]\n",
       "cluster E2--><a href=\"psysml:1e9ed716-c57b-44aa-8aaa-ea3379eecc8d\" target=\"_top\" title=\"psysml:1e9ed716-c57b-44aa-8aaa-ea3379eecc8d\" xlink:actuate=\"onRequest\" xlink:href=\"psysml:1e9ed716-c57b-44aa-8aaa-ea3379eecc8d\" xlink:show=\"new\" xlink:title=\"psysml:1e9ed716-c57b-44aa-8aaa-ea3379eecc8d\" xlink:type=\"simple\"><polygon fill=\"#FFFFFF\" points=\"48,210,72,210,79,232.2969,185,232.2969,185,323,48,323,48,210\" style=\"stroke: #000000; stroke-width: 1.5;\"/><line style=\"stroke: #000000; stroke-width: 1.5;\" x1=\"48\" x2=\"79\" y1=\"232.2969\" y2=\"232.2969\"/><text fill=\"#000000\" font-family=\"sans-serif\" font-size=\"14\" font-weight=\"bold\" lengthAdjust=\"spacingAndGlyphs\" textLength=\"18\" x=\"52\" y=\"224.9951\">P1</text></a><!--MD5=[f6df4d0ebaf0b5dfb2ced0ae5af7c670]\n",
       "cluster E4--><a href=\"psysml:04b1b2f0-8c96-40bb-b2e8-2bd575969190\" target=\"_top\" title=\"psysml:04b1b2f0-8c96-40bb-b2e8-2bd575969190\" xlink:actuate=\"onRequest\" xlink:href=\"psysml:04b1b2f0-8c96-40bb-b2e8-2bd575969190\" xlink:show=\"new\" xlink:title=\"psysml:04b1b2f0-8c96-40bb-b2e8-2bd575969190\" xlink:type=\"simple\"><polygon fill=\"#FFFFFF\" points=\"40,49,64,49,71,71.2969,195,71.2969,195,153,40,153,40,49\" style=\"stroke: #000000; stroke-width: 1.5;\"/><line style=\"stroke: #000000; stroke-width: 1.5;\" x1=\"40\" x2=\"71\" y1=\"71.2969\" y2=\"71.2969\"/><text fill=\"#000000\" font-family=\"sans-serif\" font-size=\"14\" font-weight=\"bold\" lengthAdjust=\"spacingAndGlyphs\" textLength=\"18\" x=\"44\" y=\"63.9951\">P2</text></a><!--MD5=[09b614a08d8cba4a07c9adeb5e0fee81]\n",
       "class E3--><a href=\"psysml:4266c5b7-3671-4acf-aa71-02dd8d212457\" target=\"_top\" title=\"psysml:4266c5b7-3671-4acf-aa71-02dd8d212457\" xlink:actuate=\"onRequest\" xlink:href=\"psysml:4266c5b7-3671-4acf-aa71-02dd8d212457\" xlink:show=\"new\" xlink:title=\"psysml:4266c5b7-3671-4acf-aa71-02dd8d212457\" xlink:type=\"simple\"><rect fill=\"#FFFFFF\" height=\"45.9375\" id=\"E3\" style=\"stroke: #383838; stroke-width: 1.5;\" width=\"70\" x=\"72\" y=\"253\"/><text fill=\"#000000\" font-family=\"sans-serif\" font-size=\"12\" font-style=\"italic\" lengthAdjust=\"spacingAndGlyphs\" textLength=\"68\" x=\"73\" y=\"269.1387\">«part  def»</text><text fill=\"#000000\" font-family=\"sans-serif\" font-size=\"12\" lengthAdjust=\"spacingAndGlyphs\" textLength=\"8\" x=\"103\" y=\"283.1074\">A</text><line style=\"stroke: #383838; stroke-width: 1.5;\" x1=\"73\" x2=\"141\" y1=\"290.9375\" y2=\"290.9375\"/></a><!--MD5=[60a26617385b1d2d0262a64233df1f8d]\n",
       "class E6--><a href=\"psysml:d91f8c93-5cf2-41b6-a65a-d41673929b38\" target=\"_top\" title=\"psysml:d91f8c93-5cf2-41b6-a65a-d41673929b38\" xlink:actuate=\"onRequest\" xlink:href=\"psysml:d91f8c93-5cf2-41b6-a65a-d41673929b38\" xlink:show=\"new\" xlink:title=\"psysml:d91f8c93-5cf2-41b6-a65a-d41673929b38\" xlink:type=\"simple\"><rect fill=\"#FFFFFF\" height=\"45.9375\" id=\"E6\" rx=\"10\" ry=\"10\" style=\"stroke: #383838; stroke-width: 1.5;\" width=\"42\" x=\"56\" y=\"87.5\"/><text fill=\"#000000\" font-family=\"sans-serif\" font-size=\"12\" font-style=\"italic\" lengthAdjust=\"spacingAndGlyphs\" textLength=\"40\" x=\"57\" y=\"103.6387\">«part»</text><text fill=\"#000000\" font-family=\"sans-serif\" font-size=\"12\" lengthAdjust=\"spacingAndGlyphs\" textLength=\"22\" x=\"64\" y=\"117.6074\">x: A</text><line style=\"stroke: #383838; stroke-width: 1.5;\" x1=\"57\" x2=\"97\" y1=\"125.4375\" y2=\"125.4375\"/></a><a href=\"psysml:bb8eeef5-ab74-4ee9-8505-e654a7ee43f1\" target=\"_top\" title=\"psysml:bb8eeef5-ab74-4ee9-8505-e654a7ee43f1\" xlink:actuate=\"onRequest\" xlink:href=\"psysml:bb8eeef5-ab74-4ee9-8505-e654a7ee43f1\" xlink:show=\"new\" xlink:title=\"psysml:bb8eeef5-ab74-4ee9-8505-e654a7ee43f1\" xlink:type=\"simple\"><polygon fill=\"#FFFFFF\" points=\"133,84,165,84,172,106.2969,179,106.2969,179,136.5938,133,136.5938,133,84\" style=\"stroke: #000000; stroke-width: 1.5;\"/><line style=\"stroke: #000000; stroke-width: 1.5;\" x1=\"133\" x2=\"172\" y1=\"106.2969\" y2=\"106.2969\"/><text fill=\"#000000\" font-family=\"sans-serif\" font-size=\"14\" font-weight=\"bold\" lengthAdjust=\"spacingAndGlyphs\" textLength=\"26\" x=\"137\" y=\"98.9951\">P2a</text></a><!--MD5=[15ebcb19ae302d9b601edb458606d402]\n",
       "link E5 to E2--><a href=\"psysml:06c75c6a-903d-4e64-8c9a-141a01fc9647\" target=\"_top\" title=\"psysml:06c75c6a-903d-4e64-8c9a-141a01fc9647\" xlink:actuate=\"onRequest\" xlink:href=\"psysml:06c75c6a-903d-4e64-8c9a-141a01fc9647\" xlink:show=\"new\" xlink:title=\"psysml:06c75c6a-903d-4e64-8c9a-141a01fc9647\" xlink:type=\"simple\"><path d=\"M177,137.09 C177,148.2375 177,161.9594 177,176.3959 C177,183.6142 177,191.0112 177,198.3543 C177,202.0259 177,205.6841 177,209.2997 C177,209.5257 177,209.7515 177,209.9771 \" fill=\"none\" id=\"E5-&gt;E2\" style=\"stroke: #383838; stroke-width: 1.0; stroke-dasharray: 7.0,7.0;\"/><polygon fill=\"#383838\" points=\"177,209.9771,181,200.9771,177,204.9771,173,200.9771,177,209.9771\" style=\"stroke: #383838; stroke-width: 1.0;\"/><text fill=\"#000000\" font-family=\"sans-serif\" font-size=\"13\" lengthAdjust=\"spacingAndGlyphs\" textLength=\"65\" x=\"137\" y=\"182.0669\">«import»*</text></a><!--MD5=[a717450b82c80b9240a525fa862496af]\n",
       "link E6 to E3--><a href=\"psysml:2903afd1-9bf2-47a6-8d72-b5532180e7bb\" target=\"_top\" title=\"psysml:2903afd1-9bf2-47a6-8d72-b5532180e7bb\" xlink:actuate=\"onRequest\" xlink:href=\"psysml:2903afd1-9bf2-47a6-8d72-b5532180e7bb\" xlink:show=\"new\" xlink:title=\"psysml:2903afd1-9bf2-47a6-8d72-b5532180e7bb\" xlink:type=\"simple\"><path d=\"M85,133.51 C85,133.51 85,232.92 85,232.92 \" fill=\"none\" id=\"E6-&gt;E3\" style=\"stroke: #383838; stroke-width: 1.0;\"/><polygon fill=\"#FFFFFF\" points=\"85,252.92,78,233.92,92,233.92,85,252.92\" style=\"stroke: #383838; stroke-width: 1.0;\"/><ellipse cx=\"80\" cy=\"228.22\" fill=\"#383838\" rx=\"2\" ry=\"2\" style=\"stroke: #383838; stroke-width: 1.0;\"/><ellipse cx=\"90\" cy=\"228.22\" fill=\"#383838\" rx=\"2\" ry=\"2\" style=\"stroke: #383838; stroke-width: 1.0;\"/></a><!--MD5=[fe7ad2cd3d40217bc7eaaae6ec55a029]\n",
       "@startuml\r\n",
       "skinparam linetype ortho\r\n",
       "skinparam monochrome true\r\n",
       "skinparam classbackgroundcolor white\r\n",
       "skinparam shadowing false\r\n",
       "skinparam wrapWidth 300\r\n",
       "hide circle\r\n",
       "\r\n",
       "package \"QualifiedNameImportTest\" as E1  [[psysml:50af7fae-c5e9-43d5-b973-e599fd0b94e5 ]]  {\r\n",
       "package \"P1\" as E2  [[psysml:1e9ed716-c57b-44aa-8aaa-ea3379eecc8d ]]  {\r\n",
       "comp def \"A\" as E3  <<(T,blue) part  def>> [[psysml:4266c5b7-3671-4acf-aa71-02dd8d212457 ]] {\r\n",
       "}\r\n",
       "}\r\n",
       "package \"P2\" as E4  [[psysml:04b1b2f0-8c96-40bb-b2e8-2bd575969190 ]]  {\r\n",
       "package \"P2a\" as E5  [[psysml:bb8eeef5-ab74-4ee9-8505-e654a7ee43f1 ]]  {\r\n",
       "}\r\n",
       "comp usage \"x: A \" as E6  <<(T,blue) part>> [[psysml:d91f8c93-5cf2-41b6-a65a-d41673929b38 ]] {\r\n",
       "}\r\n",
       "}\r\n",
       "}\r\n",
       "E5 ..> E2 [[psysml:06c75c6a-903d-4e64-8c9a-141a01fc9647 ]] : <<import>>*\r\n",
       "E6 - -:|> E3 [[psysml:2903afd1-9bf2-47a6-8d72-b5532180e7bb ]] \r\n",
       "@enduml\r\n",
       "\n",
       "PlantUML version 1.2020.13(Sat Jun 13 12:26:38 UTC 2020)\n",
       "(EPL source distribution)\n",
       "Java Runtime: OpenJDK Runtime Environment\n",
       "JVM: OpenJDK 64-Bit Server VM\n",
       "Default Encoding: UTF-8\n",
       "Language: en\n",
       "Country: null\n",
       "--></g></svg>"
      ]
     },
     "execution_count": 51,
     "metadata": {},
     "output_type": "execute_result"
    }
   ],
   "source": [
    "%viz --style=\"ORTHOLINE\" --view=\"Default\" \"QualifiedNameImportTest\""
   ]
  },
  {
   "cell_type": "code",
   "execution_count": 52,
   "id": "120a06c7",
   "metadata": {
    "execution": {
     "iopub.execute_input": "2022-04-22T09:51:25.785385Z",
     "iopub.status.busy": "2022-04-22T09:51:25.784726Z",
     "iopub.status.idle": "2022-04-22T09:51:25.813157Z",
     "shell.execute_reply": "2022-04-22T09:51:25.812702Z"
    }
   },
   "outputs": [
    {
     "data": {
      "image/svg+xml": [
       "<?xml version=\"1.0\" encoding=\"UTF-8\" standalone=\"no\"?><svg xmlns=\"http://www.w3.org/2000/svg\" xmlns:xlink=\"http://www.w3.org/1999/xlink\" contentScriptType=\"application/ecmascript\" contentStyleType=\"text/css\" height=\"367px\" preserveAspectRatio=\"none\" style=\"width:241px;height:367px;\" version=\"1.1\" viewBox=\"0 0 241 367\" width=\"241px\" zoomAndPan=\"magnify\"><defs/><g><!--MD5=[fbc87193dbaf4d95561dea2c320d4a47]\n",
       "cluster E1--><a href=\"psysml:50af7fae-c5e9-43d5-b973-e599fd0b94e5\" target=\"_top\" title=\"psysml:50af7fae-c5e9-43d5-b973-e599fd0b94e5\" xlink:actuate=\"onRequest\" xlink:href=\"psysml:50af7fae-c5e9-43d5-b973-e599fd0b94e5\" xlink:show=\"new\" xlink:title=\"psysml:50af7fae-c5e9-43d5-b973-e599fd0b94e5\" xlink:type=\"simple\"><polygon fill=\"#FFFFFF\" points=\"16,6,196,6,203,28.2969,219,28.2969,219,355,16,355,16,6\" style=\"stroke: #000000; stroke-width: 1.5;\"/><line style=\"stroke: #000000; stroke-width: 1.5;\" x1=\"16\" x2=\"203\" y1=\"28.2969\" y2=\"28.2969\"/><text fill=\"#000000\" font-family=\"sans-serif\" font-size=\"14\" font-weight=\"bold\" lengthAdjust=\"spacingAndGlyphs\" textLength=\"174\" x=\"20\" y=\"20.9951\">QualifiedNameImportTest</text></a><!--MD5=[e4f7fae6ed58524ba242bb0b0d3be6b7]\n",
       "cluster E2--><a href=\"psysml:1e9ed716-c57b-44aa-8aaa-ea3379eecc8d\" target=\"_top\" title=\"psysml:1e9ed716-c57b-44aa-8aaa-ea3379eecc8d\" xlink:actuate=\"onRequest\" xlink:href=\"psysml:1e9ed716-c57b-44aa-8aaa-ea3379eecc8d\" xlink:show=\"new\" xlink:title=\"psysml:1e9ed716-c57b-44aa-8aaa-ea3379eecc8d\" xlink:type=\"simple\"><polygon fill=\"#FFFFFF\" points=\"48,210,72,210,79,232.2969,185,232.2969,185,323,48,323,48,210\" style=\"stroke: #000000; stroke-width: 1.5;\"/><line style=\"stroke: #000000; stroke-width: 1.5;\" x1=\"48\" x2=\"79\" y1=\"232.2969\" y2=\"232.2969\"/><text fill=\"#000000\" font-family=\"sans-serif\" font-size=\"14\" font-weight=\"bold\" lengthAdjust=\"spacingAndGlyphs\" textLength=\"18\" x=\"52\" y=\"224.9951\">P1</text></a><!--MD5=[f6df4d0ebaf0b5dfb2ced0ae5af7c670]\n",
       "cluster E4--><a href=\"psysml:04b1b2f0-8c96-40bb-b2e8-2bd575969190\" target=\"_top\" title=\"psysml:04b1b2f0-8c96-40bb-b2e8-2bd575969190\" xlink:actuate=\"onRequest\" xlink:href=\"psysml:04b1b2f0-8c96-40bb-b2e8-2bd575969190\" xlink:show=\"new\" xlink:title=\"psysml:04b1b2f0-8c96-40bb-b2e8-2bd575969190\" xlink:type=\"simple\"><polygon fill=\"#FFFFFF\" points=\"40,49,64,49,71,71.2969,195,71.2969,195,153,40,153,40,49\" style=\"stroke: #000000; stroke-width: 1.5;\"/><line style=\"stroke: #000000; stroke-width: 1.5;\" x1=\"40\" x2=\"71\" y1=\"71.2969\" y2=\"71.2969\"/><text fill=\"#000000\" font-family=\"sans-serif\" font-size=\"14\" font-weight=\"bold\" lengthAdjust=\"spacingAndGlyphs\" textLength=\"18\" x=\"44\" y=\"63.9951\">P2</text></a><!--MD5=[09b614a08d8cba4a07c9adeb5e0fee81]\n",
       "class E3--><a href=\"psysml:4266c5b7-3671-4acf-aa71-02dd8d212457\" target=\"_top\" title=\"psysml:4266c5b7-3671-4acf-aa71-02dd8d212457\" xlink:actuate=\"onRequest\" xlink:href=\"psysml:4266c5b7-3671-4acf-aa71-02dd8d212457\" xlink:show=\"new\" xlink:title=\"psysml:4266c5b7-3671-4acf-aa71-02dd8d212457\" xlink:type=\"simple\"><rect fill=\"#FFFFFF\" height=\"45.9375\" id=\"E3\" style=\"stroke: #383838; stroke-width: 1.5;\" width=\"70\" x=\"72\" y=\"253\"/><text fill=\"#000000\" font-family=\"sans-serif\" font-size=\"12\" font-style=\"italic\" lengthAdjust=\"spacingAndGlyphs\" textLength=\"68\" x=\"73\" y=\"269.1387\">«part  def»</text><text fill=\"#000000\" font-family=\"sans-serif\" font-size=\"12\" lengthAdjust=\"spacingAndGlyphs\" textLength=\"8\" x=\"103\" y=\"283.1074\">A</text><line style=\"stroke: #383838; stroke-width: 1.5;\" x1=\"73\" x2=\"141\" y1=\"290.9375\" y2=\"290.9375\"/></a><!--MD5=[60a26617385b1d2d0262a64233df1f8d]\n",
       "class E6--><a href=\"psysml:d91f8c93-5cf2-41b6-a65a-d41673929b38\" target=\"_top\" title=\"psysml:d91f8c93-5cf2-41b6-a65a-d41673929b38\" xlink:actuate=\"onRequest\" xlink:href=\"psysml:d91f8c93-5cf2-41b6-a65a-d41673929b38\" xlink:show=\"new\" xlink:title=\"psysml:d91f8c93-5cf2-41b6-a65a-d41673929b38\" xlink:type=\"simple\"><rect fill=\"#FFFFFF\" height=\"45.9375\" id=\"E6\" rx=\"10\" ry=\"10\" style=\"stroke: #383838; stroke-width: 1.5;\" width=\"42\" x=\"56\" y=\"87.5\"/><text fill=\"#000000\" font-family=\"sans-serif\" font-size=\"12\" font-style=\"italic\" lengthAdjust=\"spacingAndGlyphs\" textLength=\"40\" x=\"57\" y=\"103.6387\">«part»</text><text fill=\"#000000\" font-family=\"sans-serif\" font-size=\"12\" lengthAdjust=\"spacingAndGlyphs\" textLength=\"22\" x=\"64\" y=\"117.6074\">x: A</text><line style=\"stroke: #383838; stroke-width: 1.5;\" x1=\"57\" x2=\"97\" y1=\"125.4375\" y2=\"125.4375\"/></a><a href=\"psysml:bb8eeef5-ab74-4ee9-8505-e654a7ee43f1\" target=\"_top\" title=\"psysml:bb8eeef5-ab74-4ee9-8505-e654a7ee43f1\" xlink:actuate=\"onRequest\" xlink:href=\"psysml:bb8eeef5-ab74-4ee9-8505-e654a7ee43f1\" xlink:show=\"new\" xlink:title=\"psysml:bb8eeef5-ab74-4ee9-8505-e654a7ee43f1\" xlink:type=\"simple\"><polygon fill=\"#FFFFFF\" points=\"133,84,165,84,172,106.2969,179,106.2969,179,136.5938,133,136.5938,133,84\" style=\"stroke: #000000; stroke-width: 1.5;\"/><line style=\"stroke: #000000; stroke-width: 1.5;\" x1=\"133\" x2=\"172\" y1=\"106.2969\" y2=\"106.2969\"/><text fill=\"#000000\" font-family=\"sans-serif\" font-size=\"14\" font-weight=\"bold\" lengthAdjust=\"spacingAndGlyphs\" textLength=\"26\" x=\"137\" y=\"98.9951\">P2a</text></a><!--MD5=[15ebcb19ae302d9b601edb458606d402]\n",
       "link E5 to E2--><a href=\"psysml:06c75c6a-903d-4e64-8c9a-141a01fc9647\" target=\"_top\" title=\"psysml:06c75c6a-903d-4e64-8c9a-141a01fc9647\" xlink:actuate=\"onRequest\" xlink:href=\"psysml:06c75c6a-903d-4e64-8c9a-141a01fc9647\" xlink:show=\"new\" xlink:title=\"psysml:06c75c6a-903d-4e64-8c9a-141a01fc9647\" xlink:type=\"simple\"><path d=\"M177,137.09 C177,148.2375 177,161.9594 177,176.3959 C177,183.6142 177,191.0112 177,198.3543 C177,202.0259 177,205.6841 177,209.2997 C177,209.5257 177,209.7515 177,209.9771 \" fill=\"none\" id=\"E5-&gt;E2\" style=\"stroke: #383838; stroke-width: 1.0; stroke-dasharray: 7.0,7.0;\"/><polygon fill=\"#383838\" points=\"177,209.9771,181,200.9771,177,204.9771,173,200.9771,177,209.9771\" style=\"stroke: #383838; stroke-width: 1.0;\"/><text fill=\"#000000\" font-family=\"sans-serif\" font-size=\"13\" lengthAdjust=\"spacingAndGlyphs\" textLength=\"65\" x=\"137\" y=\"182.0669\">«import»*</text></a><!--MD5=[a717450b82c80b9240a525fa862496af]\n",
       "link E6 to E3--><a href=\"psysml:2903afd1-9bf2-47a6-8d72-b5532180e7bb\" target=\"_top\" title=\"psysml:2903afd1-9bf2-47a6-8d72-b5532180e7bb\" xlink:actuate=\"onRequest\" xlink:href=\"psysml:2903afd1-9bf2-47a6-8d72-b5532180e7bb\" xlink:show=\"new\" xlink:title=\"psysml:2903afd1-9bf2-47a6-8d72-b5532180e7bb\" xlink:type=\"simple\"><path d=\"M85,133.51 C85,133.51 85,232.92 85,232.92 \" fill=\"none\" id=\"E6-&gt;E3\" style=\"stroke: #383838; stroke-width: 1.0;\"/><polygon fill=\"#FFFFFF\" points=\"85,252.92,78,233.92,92,233.92,85,252.92\" style=\"stroke: #383838; stroke-width: 1.0;\"/><ellipse cx=\"80\" cy=\"228.22\" fill=\"#383838\" rx=\"2\" ry=\"2\" style=\"stroke: #383838; stroke-width: 1.0;\"/><ellipse cx=\"90\" cy=\"228.22\" fill=\"#383838\" rx=\"2\" ry=\"2\" style=\"stroke: #383838; stroke-width: 1.0;\"/></a><!--MD5=[fe7ad2cd3d40217bc7eaaae6ec55a029]\n",
       "@startuml\r\n",
       "skinparam linetype ortho\r\n",
       "skinparam monochrome true\r\n",
       "skinparam classbackgroundcolor white\r\n",
       "skinparam shadowing false\r\n",
       "skinparam wrapWidth 300\r\n",
       "hide circle\r\n",
       "\r\n",
       "package \"QualifiedNameImportTest\" as E1  [[psysml:50af7fae-c5e9-43d5-b973-e599fd0b94e5 ]]  {\r\n",
       "package \"P1\" as E2  [[psysml:1e9ed716-c57b-44aa-8aaa-ea3379eecc8d ]]  {\r\n",
       "comp def \"A\" as E3  <<(T,blue) part  def>> [[psysml:4266c5b7-3671-4acf-aa71-02dd8d212457 ]] {\r\n",
       "}\r\n",
       "}\r\n",
       "package \"P2\" as E4  [[psysml:04b1b2f0-8c96-40bb-b2e8-2bd575969190 ]]  {\r\n",
       "package \"P2a\" as E5  [[psysml:bb8eeef5-ab74-4ee9-8505-e654a7ee43f1 ]]  {\r\n",
       "}\r\n",
       "comp usage \"x: A \" as E6  <<(T,blue) part>> [[psysml:d91f8c93-5cf2-41b6-a65a-d41673929b38 ]] {\r\n",
       "}\r\n",
       "}\r\n",
       "}\r\n",
       "E5 ..> E2 [[psysml:06c75c6a-903d-4e64-8c9a-141a01fc9647 ]] : <<import>>*\r\n",
       "E6 - -:|> E3 [[psysml:2903afd1-9bf2-47a6-8d72-b5532180e7bb ]] \r\n",
       "@enduml\r\n",
       "\n",
       "PlantUML version 1.2020.13(Sat Jun 13 12:26:38 UTC 2020)\n",
       "(EPL source distribution)\n",
       "Java Runtime: OpenJDK Runtime Environment\n",
       "JVM: OpenJDK 64-Bit Server VM\n",
       "Default Encoding: UTF-8\n",
       "Language: en\n",
       "Country: null\n",
       "--></g></svg>"
      ]
     },
     "execution_count": 52,
     "metadata": {},
     "output_type": "execute_result"
    }
   ],
   "source": [
    "%viz --style=\"ORTHOLINE\" --view=\"Tree\" \"QualifiedNameImportTest\""
   ]
  },
  {
   "cell_type": "code",
   "execution_count": 53,
   "id": "766ae0e9",
   "metadata": {
    "execution": {
     "iopub.execute_input": "2022-04-22T09:51:25.862643Z",
     "iopub.status.busy": "2022-04-22T09:51:25.862053Z",
     "iopub.status.idle": "2022-04-22T09:51:25.867574Z",
     "shell.execute_reply": "2022-04-22T09:51:25.867211Z"
    }
   },
   "outputs": [
    {
     "data": {
      "image/svg+xml": [
       "<?xml version=\"1.0\" encoding=\"UTF-8\" standalone=\"no\"?><svg xmlns=\"http://www.w3.org/2000/svg\" xmlns:xlink=\"http://www.w3.org/1999/xlink\" contentScriptType=\"application/ecmascript\" contentStyleType=\"text/css\" height=\"12px\" preserveAspectRatio=\"none\" style=\"width:12px;height:12px;\" version=\"1.1\" viewBox=\"0 0 12 12\" width=\"12px\" zoomAndPan=\"magnify\"><defs/><g><!--MD5=[97d6f38768b311333d388e66b2b27985]\n",
       "@startuml\r\n",
       "skinparam linetype ortho\r\n",
       "skinparam monochrome true\r\n",
       "skinparam classbackgroundcolor white\r\n",
       "skinparam shadowing false\r\n",
       "skinparam wrapWidth 300\r\n",
       "hide circle\r\n",
       "\r\n",
       "@enduml\r\n",
       "\n",
       "PlantUML version 1.2020.13(Sat Jun 13 12:26:38 UTC 2020)\n",
       "(EPL source distribution)\n",
       "Java Runtime: OpenJDK Runtime Environment\n",
       "JVM: OpenJDK 64-Bit Server VM\n",
       "Default Encoding: UTF-8\n",
       "Language: en\n",
       "Country: null\n",
       "--></g></svg>"
      ]
     },
     "execution_count": 53,
     "metadata": {},
     "output_type": "execute_result"
    }
   ],
   "source": [
    "%viz --style=\"ORTHOLINE\" --view=\"State\" \"QualifiedNameImportTest\""
   ]
  },
  {
   "cell_type": "code",
   "execution_count": 54,
   "id": "57258498",
   "metadata": {
    "execution": {
     "iopub.execute_input": "2022-04-22T09:51:25.917318Z",
     "iopub.status.busy": "2022-04-22T09:51:25.916696Z",
     "iopub.status.idle": "2022-04-22T09:51:25.943618Z",
     "shell.execute_reply": "2022-04-22T09:51:25.942291Z"
    }
   },
   "outputs": [
    {
     "data": {
      "image/svg+xml": [
       "<?xml version=\"1.0\" encoding=\"UTF-8\" standalone=\"no\"?><svg xmlns=\"http://www.w3.org/2000/svg\" xmlns:xlink=\"http://www.w3.org/1999/xlink\" contentScriptType=\"application/ecmascript\" contentStyleType=\"text/css\" height=\"364px\" preserveAspectRatio=\"none\" style=\"width:249px;height:364px;\" version=\"1.1\" viewBox=\"0 0 249 364\" width=\"249px\" zoomAndPan=\"magnify\"><defs/><g><!--MD5=[fbc87193dbaf4d95561dea2c320d4a47]\n",
       "cluster E1--><a href=\"psysml:50af7fae-c5e9-43d5-b973-e599fd0b94e5\" target=\"_top\" title=\"psysml:50af7fae-c5e9-43d5-b973-e599fd0b94e5\" xlink:actuate=\"onRequest\" xlink:href=\"psysml:50af7fae-c5e9-43d5-b973-e599fd0b94e5\" xlink:show=\"new\" xlink:title=\"psysml:50af7fae-c5e9-43d5-b973-e599fd0b94e5\" xlink:type=\"simple\"><polygon fill=\"#FFFFFF\" points=\"16,6,196,6,203,28.2969,227,28.2969,227,352,16,352,16,6\" style=\"stroke: #000000; stroke-width: 1.5;\"/><line style=\"stroke: #000000; stroke-width: 1.5;\" x1=\"16\" x2=\"203\" y1=\"28.2969\" y2=\"28.2969\"/><text fill=\"#000000\" font-family=\"sans-serif\" font-size=\"14\" font-weight=\"bold\" lengthAdjust=\"spacingAndGlyphs\" textLength=\"174\" x=\"20\" y=\"20.9951\">QualifiedNameImportTest</text></a><!--MD5=[e4f7fae6ed58524ba242bb0b0d3be6b7]\n",
       "cluster E2--><a href=\"psysml:1e9ed716-c57b-44aa-8aaa-ea3379eecc8d\" target=\"_top\" title=\"psysml:1e9ed716-c57b-44aa-8aaa-ea3379eecc8d\" xlink:actuate=\"onRequest\" xlink:href=\"psysml:1e9ed716-c57b-44aa-8aaa-ea3379eecc8d\" xlink:show=\"new\" xlink:title=\"psysml:1e9ed716-c57b-44aa-8aaa-ea3379eecc8d\" xlink:type=\"simple\"><polygon fill=\"#FFFFFF\" points=\"53,210,77,210,84,232.2969,195,232.2969,195,320,53,320,53,210\" style=\"stroke: #000000; stroke-width: 1.5;\"/><line style=\"stroke: #000000; stroke-width: 1.5;\" x1=\"53\" x2=\"84\" y1=\"232.2969\" y2=\"232.2969\"/><text fill=\"#000000\" font-family=\"sans-serif\" font-size=\"14\" font-weight=\"bold\" lengthAdjust=\"spacingAndGlyphs\" textLength=\"18\" x=\"57\" y=\"224.9951\">P1</text></a><!--MD5=[f6df4d0ebaf0b5dfb2ced0ae5af7c670]\n",
       "cluster E4--><a href=\"psysml:04b1b2f0-8c96-40bb-b2e8-2bd575969190\" target=\"_top\" title=\"psysml:04b1b2f0-8c96-40bb-b2e8-2bd575969190\" xlink:actuate=\"onRequest\" xlink:href=\"psysml:04b1b2f0-8c96-40bb-b2e8-2bd575969190\" xlink:show=\"new\" xlink:title=\"psysml:04b1b2f0-8c96-40bb-b2e8-2bd575969190\" xlink:type=\"simple\"><polygon fill=\"#FFFFFF\" points=\"40,49,64,49,71,71.2969,203,71.2969,203,153,40,153,40,49\" style=\"stroke: #000000; stroke-width: 1.5;\"/><line style=\"stroke: #000000; stroke-width: 1.5;\" x1=\"40\" x2=\"71\" y1=\"71.2969\" y2=\"71.2969\"/><text fill=\"#000000\" font-family=\"sans-serif\" font-size=\"14\" font-weight=\"bold\" lengthAdjust=\"spacingAndGlyphs\" textLength=\"18\" x=\"44\" y=\"63.9951\">P2</text></a><g id=\"E1.E2.E3\"><a href=\"psysml:4266c5b7-3671-4acf-aa71-02dd8d212457\" target=\"_top\" title=\"psysml:4266c5b7-3671-4acf-aa71-02dd8d212457\" xlink:actuate=\"onRequest\" xlink:href=\"psysml:4266c5b7-3671-4acf-aa71-02dd8d212457\" xlink:show=\"new\" xlink:title=\"psysml:4266c5b7-3671-4acf-aa71-02dd8d212457\" xlink:type=\"simple\"><rect fill=\"#FFFFFF\" height=\"42.9375\" id=\"E3\" style=\"stroke: #383838; stroke-width: 1.5;\" width=\"75\" x=\"96.5\" y=\"253\"/><rect fill=\"#F8F8F8\" height=\"37.9375\" style=\"stroke: #383838; stroke-width: 1.5;\" width=\"75\" x=\"96.5\" y=\"253\"/><text fill=\"#000000\" font-family=\"sans-serif\" font-size=\"12\" font-style=\"italic\" lengthAdjust=\"spacingAndGlyphs\" textLength=\"68\" x=\"100\" y=\"269.1387\">«part  def»</text><text fill=\"#000000\" font-family=\"sans-serif\" font-size=\"12\" lengthAdjust=\"spacingAndGlyphs\" textLength=\"8\" x=\"130\" y=\"283.1074\">A</text></a></g><a href=\"psysml:bb8eeef5-ab74-4ee9-8505-e654a7ee43f1\" target=\"_top\" title=\"psysml:bb8eeef5-ab74-4ee9-8505-e654a7ee43f1\" xlink:actuate=\"onRequest\" xlink:href=\"psysml:bb8eeef5-ab74-4ee9-8505-e654a7ee43f1\" xlink:show=\"new\" xlink:title=\"psysml:bb8eeef5-ab74-4ee9-8505-e654a7ee43f1\" xlink:type=\"simple\"><polygon fill=\"#FFFFFF\" points=\"56,84,88,84,95,106.2969,102,106.2969,102,136.5938,56,136.5938,56,84\" style=\"stroke: #000000; stroke-width: 1.5;\"/><line style=\"stroke: #000000; stroke-width: 1.5;\" x1=\"56\" x2=\"95\" y1=\"106.2969\" y2=\"106.2969\"/><text fill=\"#000000\" font-family=\"sans-serif\" font-size=\"14\" font-weight=\"bold\" lengthAdjust=\"spacingAndGlyphs\" textLength=\"26\" x=\"60\" y=\"98.9951\">P2a</text></a><g id=\"E1.E4.E6\"><a href=\"psysml:d91f8c93-5cf2-41b6-a65a-d41673929b38\" target=\"_top\" title=\"psysml:d91f8c93-5cf2-41b6-a65a-d41673929b38\" xlink:actuate=\"onRequest\" xlink:href=\"psysml:d91f8c93-5cf2-41b6-a65a-d41673929b38\" xlink:show=\"new\" xlink:title=\"psysml:d91f8c93-5cf2-41b6-a65a-d41673929b38\" xlink:type=\"simple\"><rect fill=\"#FFFFFF\" height=\"40\" id=\"E6\" rx=\"10\" ry=\"10\" style=\"stroke: #383838; stroke-width: 1.5;\" width=\"50\" x=\"137\" y=\"90.5\"/><rect fill=\"#F8F8F8\" height=\"23.9688\" rx=\"10\" ry=\"10\" style=\"stroke: #F8F8F8; stroke-width: 1.5;\" width=\"50\" x=\"137\" y=\"90.5\"/><rect fill=\"#F8F8F8\" height=\"10\" style=\"stroke: #F8F8F8; stroke-width: 1.5;\" width=\"50\" x=\"137\" y=\"104.4688\"/><rect fill=\"none\" height=\"40\" id=\"E6\" rx=\"10\" ry=\"10\" style=\"stroke: #383838; stroke-width: 1.5;\" width=\"50\" x=\"137\" y=\"90.5\"/><text fill=\"#000000\" font-family=\"sans-serif\" font-size=\"12\" lengthAdjust=\"spacingAndGlyphs\" textLength=\"22\" x=\"151\" y=\"106.6387\">x: A</text></a></g><!--MD5=[15ebcb19ae302d9b601edb458606d402]\n",
       "link E5 to E2--><a href=\"psysml:06c75c6a-903d-4e64-8c9a-141a01fc9647\" target=\"_top\" title=\"psysml:06c75c6a-903d-4e64-8c9a-141a01fc9647\" xlink:actuate=\"onRequest\" xlink:href=\"psysml:06c75c6a-903d-4e64-8c9a-141a01fc9647\" xlink:show=\"new\" xlink:title=\"psysml:06c75c6a-903d-4e64-8c9a-141a01fc9647\" xlink:type=\"simple\"><path d=\"M61,137.21 C61,148.285 61,161.8769 61,176.1575 C61,183.2978 61,190.6103 61,197.8665 C61,201.4946 61,205.1086 61,208.6799 C61,208.9031 61,209.1262 61,209.3491 \" fill=\"none\" id=\"E5-&gt;E2\" style=\"stroke: #383838; stroke-width: 1.0; stroke-dasharray: 7.0,7.0;\"/><polygon fill=\"#383838\" points=\"61,209.3491,65,200.3491,61,204.3491,57,200.3491,61,209.3491\" style=\"stroke: #383838; stroke-width: 1.0;\"/><text fill=\"#000000\" font-family=\"sans-serif\" font-size=\"13\" lengthAdjust=\"spacingAndGlyphs\" textLength=\"65\" x=\"74\" y=\"182.0669\">«import»*</text></a><!--MD5=[a717450b82c80b9240a525fa862496af]\n",
       "link E6 to E3--><a href=\"psysml:2903afd1-9bf2-47a6-8d72-b5532180e7bb\" target=\"_top\" title=\"psysml:2903afd1-9bf2-47a6-8d72-b5532180e7bb\" xlink:actuate=\"onRequest\" xlink:href=\"psysml:2903afd1-9bf2-47a6-8d72-b5532180e7bb\" xlink:show=\"new\" xlink:title=\"psysml:2903afd1-9bf2-47a6-8d72-b5532180e7bb\" xlink:type=\"simple\"><path d=\"M154.25,130.61 C154.25,130.61 154.25,232.92 154.25,232.92 \" fill=\"none\" id=\"E6-&gt;E3\" style=\"stroke: #383838; stroke-width: 1.0;\"/><polygon fill=\"#FFFFFF\" points=\"154.25,252.92,147.25,233.92,161.25,233.92,154.25,252.92\" style=\"stroke: #383838; stroke-width: 1.0;\"/><ellipse cx=\"149.25\" cy=\"228.22\" fill=\"#383838\" rx=\"2\" ry=\"2\" style=\"stroke: #383838; stroke-width: 1.0;\"/><ellipse cx=\"159.25\" cy=\"228.22\" fill=\"#383838\" rx=\"2\" ry=\"2\" style=\"stroke: #383838; stroke-width: 1.0;\"/></a><!--MD5=[b75b790419889cdbd74b39a005b74c58]\n",
       "@startuml\r\n",
       "skinparam ranksep 10\r\n",
       "skinparam rectangle {\r\n",
       " backgroundColor<<block>> LightGreen\r\n",
       "}\r\n",
       "skinparam linetype ortho\r\n",
       "skinparam monochrome true\r\n",
       "skinparam classbackgroundcolor white\r\n",
       "skinparam shadowing false\r\n",
       "skinparam wrapWidth 300\r\n",
       "hide circle\r\n",
       "\r\n",
       "package \"QualifiedNameImportTest\" as E1  [[psysml:50af7fae-c5e9-43d5-b973-e599fd0b94e5 ]]  {\r\n",
       "package \"P1\" as E2  [[psysml:1e9ed716-c57b-44aa-8aaa-ea3379eecc8d ]]  {\r\n",
       "rec def \"A\" as E3  <<(T,blue) part  def>> [[psysml:4266c5b7-3671-4acf-aa71-02dd8d212457 ]] {\r\n",
       "}\r\n",
       "}\r\n",
       "package \"P2\" as E4  [[psysml:04b1b2f0-8c96-40bb-b2e8-2bd575969190 ]]  {\r\n",
       "package \"P2a\" as E5  [[psysml:bb8eeef5-ab74-4ee9-8505-e654a7ee43f1 ]]  {\r\n",
       "}\r\n",
       "rec usage \"x: A\" as E6  [[psysml:d91f8c93-5cf2-41b6-a65a-d41673929b38 ]] {\r\n",
       "}\r\n",
       "}\r\n",
       "}\r\n",
       "E5 ..> E2 [[psysml:06c75c6a-903d-4e64-8c9a-141a01fc9647 ]] : <<import>>*\r\n",
       "E6 - -:|> E3 [[psysml:2903afd1-9bf2-47a6-8d72-b5532180e7bb ]] \r\n",
       "@enduml\r\n",
       "\n",
       "PlantUML version 1.2020.13(Sat Jun 13 12:26:38 UTC 2020)\n",
       "(EPL source distribution)\n",
       "Java Runtime: OpenJDK Runtime Environment\n",
       "JVM: OpenJDK 64-Bit Server VM\n",
       "Default Encoding: UTF-8\n",
       "Language: en\n",
       "Country: null\n",
       "--></g></svg>"
      ]
     },
     "execution_count": 54,
     "metadata": {},
     "output_type": "execute_result"
    }
   ],
   "source": [
    "%viz --style=\"ORTHOLINE\" --view=\"Interconnection\" \"QualifiedNameImportTest\""
   ]
  },
  {
   "cell_type": "code",
   "execution_count": 55,
   "id": "fc29360f",
   "metadata": {
    "execution": {
     "iopub.execute_input": "2022-04-22T09:51:25.993017Z",
     "iopub.status.busy": "2022-04-22T09:51:25.992610Z",
     "iopub.status.idle": "2022-04-22T09:51:25.997808Z",
     "shell.execute_reply": "2022-04-22T09:51:25.997395Z"
    }
   },
   "outputs": [
    {
     "data": {
      "image/svg+xml": [
       "<?xml version=\"1.0\" encoding=\"UTF-8\" standalone=\"no\"?><svg xmlns=\"http://www.w3.org/2000/svg\" xmlns:xlink=\"http://www.w3.org/1999/xlink\" contentScriptType=\"application/ecmascript\" contentStyleType=\"text/css\" height=\"12px\" preserveAspectRatio=\"none\" style=\"width:12px;height:12px;\" version=\"1.1\" viewBox=\"0 0 12 12\" width=\"12px\" zoomAndPan=\"magnify\"><defs/><g><!--MD5=[72934c63077099a26744516a776b4749]\n",
       "@startuml\r\n",
       "skinparam ranksep 8\r\n",
       "skinparam linetype ortho\r\n",
       "skinparam monochrome true\r\n",
       "skinparam classbackgroundcolor white\r\n",
       "skinparam shadowing false\r\n",
       "skinparam wrapWidth 300\r\n",
       "hide circle\r\n",
       "\r\n",
       "@enduml\r\n",
       "\n",
       "PlantUML version 1.2020.13(Sat Jun 13 12:26:38 UTC 2020)\n",
       "(EPL source distribution)\n",
       "Java Runtime: OpenJDK Runtime Environment\n",
       "JVM: OpenJDK 64-Bit Server VM\n",
       "Default Encoding: UTF-8\n",
       "Language: en\n",
       "Country: null\n",
       "--></g></svg>"
      ]
     },
     "execution_count": 55,
     "metadata": {},
     "output_type": "execute_result"
    }
   ],
   "source": [
    "%viz --style=\"ORTHOLINE\" --view=\"Action\" \"QualifiedNameImportTest\""
   ]
  },
  {
   "cell_type": "code",
   "execution_count": 56,
   "id": "6867ac46",
   "metadata": {
    "execution": {
     "iopub.execute_input": "2022-04-22T09:51:26.047674Z",
     "iopub.status.busy": "2022-04-22T09:51:26.047208Z",
     "iopub.status.idle": "2022-04-22T09:51:26.052471Z",
     "shell.execute_reply": "2022-04-22T09:51:26.052114Z"
    }
   },
   "outputs": [
    {
     "data": {
      "image/svg+xml": [
       "<?xml version=\"1.0\" encoding=\"UTF-8\" standalone=\"no\"?><svg xmlns=\"http://www.w3.org/2000/svg\" xmlns:xlink=\"http://www.w3.org/1999/xlink\" contentScriptType=\"application/ecmascript\" contentStyleType=\"text/css\" height=\"12px\" preserveAspectRatio=\"none\" style=\"width:12px;height:12px;\" version=\"1.1\" viewBox=\"0 0 12 12\" width=\"12px\" zoomAndPan=\"magnify\"><defs/><g><!--MD5=[30fc1de5121c5abddedd55b44417fde8]\n",
       "@startuml\r\n",
       "skinparam roundcorner 20\r\n",
       "skinparam BoxPadding 20\r\n",
       "skinparam SequenceBoxBackgroundColor #white\r\n",
       "skinparam style strictuml\r\n",
       "skinparam maxMessageSize 100\r\n",
       "skinparam linetype ortho\r\n",
       "skinparam monochrome true\r\n",
       "skinparam classbackgroundcolor white\r\n",
       "skinparam shadowing false\r\n",
       "skinparam wrapWidth 300\r\n",
       "hide circle\r\n",
       "\r\n",
       "@enduml\r\n",
       "\n",
       "PlantUML version 1.2020.13(Sat Jun 13 12:26:38 UTC 2020)\n",
       "(EPL source distribution)\n",
       "Java Runtime: OpenJDK Runtime Environment\n",
       "JVM: OpenJDK 64-Bit Server VM\n",
       "Default Encoding: UTF-8\n",
       "Language: en\n",
       "Country: null\n",
       "--></g></svg>"
      ]
     },
     "execution_count": 56,
     "metadata": {},
     "output_type": "execute_result"
    }
   ],
   "source": [
    "%viz --style=\"ORTHOLINE\" --view=\"Sequence\" \"QualifiedNameImportTest\""
   ]
  },
  {
   "cell_type": "code",
   "execution_count": 57,
   "id": "1637fa91",
   "metadata": {
    "execution": {
     "iopub.execute_input": "2022-04-22T09:51:26.102369Z",
     "iopub.status.busy": "2022-04-22T09:51:26.101950Z",
     "iopub.status.idle": "2022-04-22T09:51:26.129347Z",
     "shell.execute_reply": "2022-04-22T09:51:26.128906Z"
    }
   },
   "outputs": [
    {
     "data": {
      "image/svg+xml": [
       "<?xml version=\"1.0\" encoding=\"UTF-8\" standalone=\"no\"?><svg xmlns=\"http://www.w3.org/2000/svg\" xmlns:xlink=\"http://www.w3.org/1999/xlink\" contentScriptType=\"application/ecmascript\" contentStyleType=\"text/css\" height=\"367px\" preserveAspectRatio=\"none\" style=\"width:241px;height:367px;\" version=\"1.1\" viewBox=\"0 0 241 367\" width=\"241px\" zoomAndPan=\"magnify\"><defs/><g><!--MD5=[fbc87193dbaf4d95561dea2c320d4a47]\n",
       "cluster E1--><a href=\"psysml:50af7fae-c5e9-43d5-b973-e599fd0b94e5\" target=\"_top\" title=\"psysml:50af7fae-c5e9-43d5-b973-e599fd0b94e5\" xlink:actuate=\"onRequest\" xlink:href=\"psysml:50af7fae-c5e9-43d5-b973-e599fd0b94e5\" xlink:show=\"new\" xlink:title=\"psysml:50af7fae-c5e9-43d5-b973-e599fd0b94e5\" xlink:type=\"simple\"><polygon fill=\"#FFFFFF\" points=\"16,6,196,6,203,28.2969,219,28.2969,219,355,16,355,16,6\" style=\"stroke: #000000; stroke-width: 1.5;\"/><line style=\"stroke: #000000; stroke-width: 1.5;\" x1=\"16\" x2=\"203\" y1=\"28.2969\" y2=\"28.2969\"/><text fill=\"#000000\" font-family=\"sans-serif\" font-size=\"14\" font-weight=\"bold\" lengthAdjust=\"spacingAndGlyphs\" textLength=\"174\" x=\"20\" y=\"20.9951\">QualifiedNameImportTest</text></a><!--MD5=[e4f7fae6ed58524ba242bb0b0d3be6b7]\n",
       "cluster E2--><a href=\"psysml:1e9ed716-c57b-44aa-8aaa-ea3379eecc8d\" target=\"_top\" title=\"psysml:1e9ed716-c57b-44aa-8aaa-ea3379eecc8d\" xlink:actuate=\"onRequest\" xlink:href=\"psysml:1e9ed716-c57b-44aa-8aaa-ea3379eecc8d\" xlink:show=\"new\" xlink:title=\"psysml:1e9ed716-c57b-44aa-8aaa-ea3379eecc8d\" xlink:type=\"simple\"><polygon fill=\"#FFFFFF\" points=\"48,210,72,210,79,232.2969,185,232.2969,185,323,48,323,48,210\" style=\"stroke: #000000; stroke-width: 1.5;\"/><line style=\"stroke: #000000; stroke-width: 1.5;\" x1=\"48\" x2=\"79\" y1=\"232.2969\" y2=\"232.2969\"/><text fill=\"#000000\" font-family=\"sans-serif\" font-size=\"14\" font-weight=\"bold\" lengthAdjust=\"spacingAndGlyphs\" textLength=\"18\" x=\"52\" y=\"224.9951\">P1</text></a><!--MD5=[f6df4d0ebaf0b5dfb2ced0ae5af7c670]\n",
       "cluster E4--><a href=\"psysml:04b1b2f0-8c96-40bb-b2e8-2bd575969190\" target=\"_top\" title=\"psysml:04b1b2f0-8c96-40bb-b2e8-2bd575969190\" xlink:actuate=\"onRequest\" xlink:href=\"psysml:04b1b2f0-8c96-40bb-b2e8-2bd575969190\" xlink:show=\"new\" xlink:title=\"psysml:04b1b2f0-8c96-40bb-b2e8-2bd575969190\" xlink:type=\"simple\"><polygon fill=\"#FFFFFF\" points=\"40,49,64,49,71,71.2969,195,71.2969,195,153,40,153,40,49\" style=\"stroke: #000000; stroke-width: 1.5;\"/><line style=\"stroke: #000000; stroke-width: 1.5;\" x1=\"40\" x2=\"71\" y1=\"71.2969\" y2=\"71.2969\"/><text fill=\"#000000\" font-family=\"sans-serif\" font-size=\"14\" font-weight=\"bold\" lengthAdjust=\"spacingAndGlyphs\" textLength=\"18\" x=\"44\" y=\"63.9951\">P2</text></a><!--MD5=[09b614a08d8cba4a07c9adeb5e0fee81]\n",
       "class E3--><a href=\"psysml:4266c5b7-3671-4acf-aa71-02dd8d212457\" target=\"_top\" title=\"psysml:4266c5b7-3671-4acf-aa71-02dd8d212457\" xlink:actuate=\"onRequest\" xlink:href=\"psysml:4266c5b7-3671-4acf-aa71-02dd8d212457\" xlink:show=\"new\" xlink:title=\"psysml:4266c5b7-3671-4acf-aa71-02dd8d212457\" xlink:type=\"simple\"><rect fill=\"#FFFFFF\" height=\"45.9375\" id=\"E3\" style=\"stroke: #383838; stroke-width: 1.5;\" width=\"70\" x=\"72\" y=\"253\"/><text fill=\"#000000\" font-family=\"sans-serif\" font-size=\"12\" font-style=\"italic\" lengthAdjust=\"spacingAndGlyphs\" textLength=\"68\" x=\"73\" y=\"269.1387\">«part  def»</text><text fill=\"#000000\" font-family=\"sans-serif\" font-size=\"12\" lengthAdjust=\"spacingAndGlyphs\" textLength=\"8\" x=\"103\" y=\"283.1074\">A</text><line style=\"stroke: #383838; stroke-width: 1.5;\" x1=\"73\" x2=\"141\" y1=\"290.9375\" y2=\"290.9375\"/></a><!--MD5=[60a26617385b1d2d0262a64233df1f8d]\n",
       "class E6--><a href=\"psysml:d91f8c93-5cf2-41b6-a65a-d41673929b38\" target=\"_top\" title=\"psysml:d91f8c93-5cf2-41b6-a65a-d41673929b38\" xlink:actuate=\"onRequest\" xlink:href=\"psysml:d91f8c93-5cf2-41b6-a65a-d41673929b38\" xlink:show=\"new\" xlink:title=\"psysml:d91f8c93-5cf2-41b6-a65a-d41673929b38\" xlink:type=\"simple\"><rect fill=\"#FFFFFF\" height=\"45.9375\" id=\"E6\" rx=\"10\" ry=\"10\" style=\"stroke: #383838; stroke-width: 1.5;\" width=\"42\" x=\"56\" y=\"87.5\"/><text fill=\"#000000\" font-family=\"sans-serif\" font-size=\"12\" font-style=\"italic\" lengthAdjust=\"spacingAndGlyphs\" textLength=\"40\" x=\"57\" y=\"103.6387\">«part»</text><text fill=\"#000000\" font-family=\"sans-serif\" font-size=\"12\" lengthAdjust=\"spacingAndGlyphs\" textLength=\"22\" x=\"64\" y=\"117.6074\">x: A</text><line style=\"stroke: #383838; stroke-width: 1.5;\" x1=\"57\" x2=\"97\" y1=\"125.4375\" y2=\"125.4375\"/></a><a href=\"psysml:bb8eeef5-ab74-4ee9-8505-e654a7ee43f1\" target=\"_top\" title=\"psysml:bb8eeef5-ab74-4ee9-8505-e654a7ee43f1\" xlink:actuate=\"onRequest\" xlink:href=\"psysml:bb8eeef5-ab74-4ee9-8505-e654a7ee43f1\" xlink:show=\"new\" xlink:title=\"psysml:bb8eeef5-ab74-4ee9-8505-e654a7ee43f1\" xlink:type=\"simple\"><polygon fill=\"#FFFFFF\" points=\"133,84,165,84,172,106.2969,179,106.2969,179,136.5938,133,136.5938,133,84\" style=\"stroke: #000000; stroke-width: 1.5;\"/><line style=\"stroke: #000000; stroke-width: 1.5;\" x1=\"133\" x2=\"172\" y1=\"106.2969\" y2=\"106.2969\"/><text fill=\"#000000\" font-family=\"sans-serif\" font-size=\"14\" font-weight=\"bold\" lengthAdjust=\"spacingAndGlyphs\" textLength=\"26\" x=\"137\" y=\"98.9951\">P2a</text></a><!--MD5=[15ebcb19ae302d9b601edb458606d402]\n",
       "link E5 to E2--><a href=\"psysml:06c75c6a-903d-4e64-8c9a-141a01fc9647\" target=\"_top\" title=\"psysml:06c75c6a-903d-4e64-8c9a-141a01fc9647\" xlink:actuate=\"onRequest\" xlink:href=\"psysml:06c75c6a-903d-4e64-8c9a-141a01fc9647\" xlink:show=\"new\" xlink:title=\"psysml:06c75c6a-903d-4e64-8c9a-141a01fc9647\" xlink:type=\"simple\"><path d=\"M177,137.09 C177,148.2375 177,161.9594 177,176.3959 C177,183.6142 177,191.0112 177,198.3543 C177,202.0259 177,205.6841 177,209.2997 C177,209.5257 177,209.7515 177,209.9771 \" fill=\"none\" id=\"E5-&gt;E2\" style=\"stroke: #383838; stroke-width: 1.0; stroke-dasharray: 7.0,7.0;\"/><polygon fill=\"#383838\" points=\"177,209.9771,181,200.9771,177,204.9771,173,200.9771,177,209.9771\" style=\"stroke: #383838; stroke-width: 1.0;\"/><text fill=\"#000000\" font-family=\"sans-serif\" font-size=\"13\" lengthAdjust=\"spacingAndGlyphs\" textLength=\"65\" x=\"137\" y=\"182.0669\">«import»*</text></a><!--MD5=[a717450b82c80b9240a525fa862496af]\n",
       "link E6 to E3--><a href=\"psysml:2903afd1-9bf2-47a6-8d72-b5532180e7bb\" target=\"_top\" title=\"psysml:2903afd1-9bf2-47a6-8d72-b5532180e7bb\" xlink:actuate=\"onRequest\" xlink:href=\"psysml:2903afd1-9bf2-47a6-8d72-b5532180e7bb\" xlink:show=\"new\" xlink:title=\"psysml:2903afd1-9bf2-47a6-8d72-b5532180e7bb\" xlink:type=\"simple\"><path d=\"M85,133.51 C85,133.51 85,232.92 85,232.92 \" fill=\"none\" id=\"E6-&gt;E3\" style=\"stroke: #383838; stroke-width: 1.0;\"/><polygon fill=\"#FFFFFF\" points=\"85,252.92,78,233.92,92,233.92,85,252.92\" style=\"stroke: #383838; stroke-width: 1.0;\"/><ellipse cx=\"80\" cy=\"228.22\" fill=\"#383838\" rx=\"2\" ry=\"2\" style=\"stroke: #383838; stroke-width: 1.0;\"/><ellipse cx=\"90\" cy=\"228.22\" fill=\"#383838\" rx=\"2\" ry=\"2\" style=\"stroke: #383838; stroke-width: 1.0;\"/></a><!--MD5=[fe7ad2cd3d40217bc7eaaae6ec55a029]\n",
       "@startuml\r\n",
       "skinparam linetype ortho\r\n",
       "skinparam monochrome true\r\n",
       "skinparam classbackgroundcolor white\r\n",
       "skinparam shadowing false\r\n",
       "skinparam wrapWidth 300\r\n",
       "hide circle\r\n",
       "\r\n",
       "package \"QualifiedNameImportTest\" as E1  [[psysml:50af7fae-c5e9-43d5-b973-e599fd0b94e5 ]]  {\r\n",
       "package \"P1\" as E2  [[psysml:1e9ed716-c57b-44aa-8aaa-ea3379eecc8d ]]  {\r\n",
       "comp def \"A\" as E3  <<(T,blue) part  def>> [[psysml:4266c5b7-3671-4acf-aa71-02dd8d212457 ]] {\r\n",
       "}\r\n",
       "}\r\n",
       "package \"P2\" as E4  [[psysml:04b1b2f0-8c96-40bb-b2e8-2bd575969190 ]]  {\r\n",
       "package \"P2a\" as E5  [[psysml:bb8eeef5-ab74-4ee9-8505-e654a7ee43f1 ]]  {\r\n",
       "}\r\n",
       "comp usage \"x: A \" as E6  <<(T,blue) part>> [[psysml:d91f8c93-5cf2-41b6-a65a-d41673929b38 ]] {\r\n",
       "}\r\n",
       "}\r\n",
       "}\r\n",
       "E5 ..> E2 [[psysml:06c75c6a-903d-4e64-8c9a-141a01fc9647 ]] : <<import>>*\r\n",
       "E6 - -:|> E3 [[psysml:2903afd1-9bf2-47a6-8d72-b5532180e7bb ]] \r\n",
       "@enduml\r\n",
       "\n",
       "PlantUML version 1.2020.13(Sat Jun 13 12:26:38 UTC 2020)\n",
       "(EPL source distribution)\n",
       "Java Runtime: OpenJDK Runtime Environment\n",
       "JVM: OpenJDK 64-Bit Server VM\n",
       "Default Encoding: UTF-8\n",
       "Language: en\n",
       "Country: null\n",
       "--></g></svg>"
      ]
     },
     "execution_count": 57,
     "metadata": {},
     "output_type": "execute_result"
    }
   ],
   "source": [
    "%viz --style=\"ORTHOLINE\" --view=\"MIXED\" \"QualifiedNameImportTest\""
   ]
  }
 ],
 "metadata": {
  "kernelspec": {
   "display_name": "SysML",
   "language": "sysml",
   "name": "sysml"
  },
  "language_info": {
   "codemirror_mode": "sysml",
   "file_extension": ".sysml",
   "mimetype": "text/x-sysml",
   "name": "SysML",
   "pygments_lexer": "java",
   "version": "1.0.0"
  }
 },
 "nbformat": 4,
 "nbformat_minor": 5
}
