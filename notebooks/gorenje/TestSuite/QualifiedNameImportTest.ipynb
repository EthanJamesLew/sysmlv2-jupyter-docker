{
 "cells": [
  {
   "cell_type": "markdown",
   "id": "ff665085",
   "metadata": {},
   "source": [
    "# SysML v2 Test Suite\n",
    "\n",
    "This can notebook can be cleared using menu `Edit --> Clear All Outputs` and then all cells can be\n",
    "run using menu `Run --> Run All Cells`.\n",
    "\n",
    "**WARNING**: This file is generated, all modifications here will be ignored.\n"
   ]
  },
  {
   "cell_type": "markdown",
   "id": "9876dadc",
   "metadata": {},
   "source": [
    "## File: ../../sysml/src/examples/Import Tests/QualifiedNameImportTest.sysml"
   ]
  },
  {
   "cell_type": "code",
   "execution_count": 1,
   "id": "5d8b5c12",
   "metadata": {
    "execution": {
     "iopub.execute_input": "2021-04-20T07:02:38.681414Z",
     "iopub.status.busy": "2021-04-20T07:02:38.680182Z",
     "iopub.status.idle": "2021-04-20T07:02:38.789384Z",
     "shell.execute_reply": "2021-04-20T07:02:38.788672Z"
    }
   },
   "outputs": [
    {
     "data": {
      "text/plain": [
       "Package QualifiedNameImportTest (0fb233d4-4b70-49df-8d30-50767f421b6b)\n"
      ]
     },
     "execution_count": 1,
     "metadata": {},
     "output_type": "execute_result"
    }
   ],
   "source": [
    "package QualifiedNameImportTest {\n",
    "\tpackage P1 {\n",
    "\t\tpart def A;\n",
    "\t}\n",
    "\tpackage P2 {\n",
    "\t\tpackage P2a {\n",
    "\t\t\timport P1::*;\n",
    "\t\t}\n",
    "\t\t// The following should not fail.\n",
    "\t\t// A is a member of P2a because of the import.\n",
    "\t\tpart x: P2a::A;\n",
    "\t}\n",
    "}"
   ]
  },
  {
   "cell_type": "code",
   "execution_count": 2,
   "id": "128c1e10",
   "metadata": {
    "execution": {
     "iopub.execute_input": "2021-04-20T07:02:38.843038Z",
     "iopub.status.busy": "2021-04-20T07:02:38.840818Z",
     "iopub.status.idle": "2021-04-20T07:02:39.436022Z",
     "shell.execute_reply": "2021-04-20T07:02:39.435567Z"
    }
   },
   "outputs": [
    {
     "data": {
      "image/svg+xml": [
       "<?xml version=\"1.0\" encoding=\"UTF-8\" standalone=\"no\"?><svg xmlns=\"http://www.w3.org/2000/svg\" xmlns:xlink=\"http://www.w3.org/1999/xlink\" contentScriptType=\"application/ecmascript\" contentStyleType=\"text/css\" height=\"310px\" preserveAspectRatio=\"none\" style=\"width:253px;height:310px;\" version=\"1.1\" viewBox=\"0 0 253 310\" width=\"253px\" zoomAndPan=\"magnify\"><defs/><g><!--MD5=[fbc87193dbaf4d95561dea2c320d4a47]\n",
       "cluster E1--><a href=\"psysml:986fc1fb-4aef-4106-b1ed-1986834153ab\" target=\"_top\" title=\"psysml:986fc1fb-4aef-4106-b1ed-1986834153ab\" xlink:actuate=\"onRequest\" xlink:href=\"psysml:986fc1fb-4aef-4106-b1ed-1986834153ab\" xlink:show=\"new\" xlink:title=\"psysml:986fc1fb-4aef-4106-b1ed-1986834153ab\" xlink:type=\"simple\"><polygon fill=\"#FFFFFF\" points=\"16,6,221,6,228,28.2969,231,28.2969,231,298,16,298,16,6\" style=\"stroke: #000000; stroke-width: 1.5;\"/><line style=\"stroke: #000000; stroke-width: 1.5;\" x1=\"16\" x2=\"228\" y1=\"28.2969\" y2=\"28.2969\"/><text fill=\"#000000\" font-family=\"sans-serif\" font-size=\"14\" font-weight=\"bold\" lengthAdjust=\"spacingAndGlyphs\" textLength=\"199\" x=\"20\" y=\"20.9951\">QualifiedNameImportTest</text></a><!--MD5=[e4f7fae6ed58524ba242bb0b0d3be6b7]\n",
       "cluster E2--><a href=\"psysml:372b503a-8716-40b4-8b99-cd3a963555f9\" target=\"_top\" title=\"psysml:372b503a-8716-40b4-8b99-cd3a963555f9\" xlink:actuate=\"onRequest\" xlink:href=\"psysml:372b503a-8716-40b4-8b99-cd3a963555f9\" xlink:show=\"new\" xlink:title=\"psysml:372b503a-8716-40b4-8b99-cd3a963555f9\" xlink:type=\"simple\"><polygon fill=\"#FFFFFF\" points=\"105,177,131,177,138,199.2969,203,199.2969,203,274,105,274,105,177\" style=\"stroke: #000000; stroke-width: 1.5;\"/><line style=\"stroke: #000000; stroke-width: 1.5;\" x1=\"105\" x2=\"138\" y1=\"199.2969\" y2=\"199.2969\"/><text fill=\"#000000\" font-family=\"sans-serif\" font-size=\"14\" font-weight=\"bold\" lengthAdjust=\"spacingAndGlyphs\" textLength=\"20\" x=\"109\" y=\"191.9951\">P1</text></a><!--MD5=[f6df4d0ebaf0b5dfb2ced0ae5af7c670]\n",
       "cluster E4--><a href=\"psysml:ae810913-1289-4b59-a95a-360ad08f1101\" target=\"_top\" title=\"psysml:ae810913-1289-4b59-a95a-360ad08f1101\" xlink:actuate=\"onRequest\" xlink:href=\"psysml:ae810913-1289-4b59-a95a-360ad08f1101\" xlink:show=\"new\" xlink:title=\"psysml:ae810913-1289-4b59-a95a-360ad08f1101\" xlink:type=\"simple\"><polygon fill=\"#FFFFFF\" points=\"44,49,70,49,77,71.2969,203,71.2969,203,153,44,153,44,49\" style=\"stroke: #000000; stroke-width: 1.5;\"/><line style=\"stroke: #000000; stroke-width: 1.5;\" x1=\"44\" x2=\"77\" y1=\"71.2969\" y2=\"71.2969\"/><text fill=\"#000000\" font-family=\"sans-serif\" font-size=\"14\" font-weight=\"bold\" lengthAdjust=\"spacingAndGlyphs\" textLength=\"20\" x=\"48\" y=\"63.9951\">P2</text></a><!--MD5=[09b614a08d8cba4a07c9adeb5e0fee81]\n",
       "class E3--><a href=\"psysml:d5e28260-c8b5-4b29-a8f8-2a36a510faa1\" target=\"_top\" title=\"psysml:d5e28260-c8b5-4b29-a8f8-2a36a510faa1\" xlink:actuate=\"onRequest\" xlink:href=\"psysml:d5e28260-c8b5-4b29-a8f8-2a36a510faa1\" xlink:show=\"new\" xlink:title=\"psysml:d5e28260-c8b5-4b29-a8f8-2a36a510faa1\" xlink:type=\"simple\"><rect fill=\"#FFFFFF\" height=\"45.9375\" id=\"E3\" style=\"stroke: #383838; stroke-width: 1.5;\" width=\"66\" x=\"121\" y=\"212\"/><text fill=\"#000000\" font-family=\"sans-serif\" font-size=\"12\" font-style=\"italic\" lengthAdjust=\"spacingAndGlyphs\" textLength=\"64\" x=\"122\" y=\"228.1387\">«part def»</text><text fill=\"#000000\" font-family=\"sans-serif\" font-size=\"12\" lengthAdjust=\"spacingAndGlyphs\" textLength=\"8\" x=\"150\" y=\"242.1074\">A</text><line style=\"stroke: #383838; stroke-width: 1.5;\" x1=\"122\" x2=\"186\" y1=\"249.9375\" y2=\"249.9375\"/></a><!--MD5=[60a26617385b1d2d0262a64233df1f8d]\n",
       "class E6--><a href=\"psysml:9546b5bf-a121-430a-b785-22b0f3c788bb\" target=\"_top\" title=\"psysml:9546b5bf-a121-430a-b785-22b0f3c788bb\" xlink:actuate=\"onRequest\" xlink:href=\"psysml:9546b5bf-a121-430a-b785-22b0f3c788bb\" xlink:show=\"new\" xlink:title=\"psysml:9546b5bf-a121-430a-b785-22b0f3c788bb\" xlink:type=\"simple\"><rect fill=\"#FFFFFF\" height=\"45.9375\" id=\"E6\" rx=\"10\" ry=\"10\" style=\"stroke: #383838; stroke-width: 1.5;\" width=\"42\" x=\"145\" y=\"87.5\"/><text fill=\"#000000\" font-family=\"sans-serif\" font-size=\"12\" font-style=\"italic\" lengthAdjust=\"spacingAndGlyphs\" textLength=\"40\" x=\"146\" y=\"103.6387\">«part»</text><text fill=\"#000000\" font-family=\"sans-serif\" font-size=\"12\" lengthAdjust=\"spacingAndGlyphs\" textLength=\"22\" x=\"155\" y=\"117.6074\">x: A</text><line style=\"stroke: #383838; stroke-width: 1.5;\" x1=\"146\" x2=\"186\" y1=\"125.4375\" y2=\"125.4375\"/></a><a href=\"psysml:b96f1ba5-fc32-4046-b5fe-7b623c9bf90c\" target=\"_top\" title=\"psysml:b96f1ba5-fc32-4046-b5fe-7b623c9bf90c\" xlink:actuate=\"onRequest\" xlink:href=\"psysml:b96f1ba5-fc32-4046-b5fe-7b623c9bf90c\" xlink:show=\"new\" xlink:title=\"psysml:b96f1ba5-fc32-4046-b5fe-7b623c9bf90c\" xlink:type=\"simple\"><polygon fill=\"#FFFFFF\" points=\"60.5,84,95.5,84,102.5,106.2969,109.5,106.2969,109.5,136.5938,60.5,136.5938,60.5,84\" style=\"stroke: #000000; stroke-width: 1.5;\"/><line style=\"stroke: #000000; stroke-width: 1.5;\" x1=\"60.5\" x2=\"102.5\" y1=\"106.2969\" y2=\"106.2969\"/><text fill=\"#000000\" font-family=\"sans-serif\" font-size=\"14\" font-weight=\"bold\" lengthAdjust=\"spacingAndGlyphs\" textLength=\"29\" x=\"64.5\" y=\"98.9951\">P2a</text></a><!--MD5=[a717450b82c80b9240a525fa862496af]\n",
       "link E6 to E3--><a href=\"psysml:4aa795d2-d8a8-4fd3-b09b-984289b8e469\" target=\"_top\" title=\"psysml:4aa795d2-d8a8-4fd3-b09b-984289b8e469\" xlink:actuate=\"onRequest\" xlink:href=\"psysml:4aa795d2-d8a8-4fd3-b09b-984289b8e469\" xlink:show=\"new\" xlink:title=\"psysml:4aa795d2-d8a8-4fd3-b09b-984289b8e469\" xlink:type=\"simple\"><path d=\"M163.83,133.68 C162.24,149.9 160.04,172.39 158.12,191.96 \" fill=\"none\" id=\"E6-&gt;E3\" style=\"stroke: #383838; stroke-width: 1.0;\"/><polygon fill=\"#FFFFFF\" points=\"156.16,211.98,151.0533,192.3861,164.986,193.7564,156.16,211.98\" style=\"stroke: #383838; stroke-width: 1.0;\"/><ellipse cx=\"153.6016\" cy=\"186.9092\" fill=\"#383838\" rx=\"2\" ry=\"2\" style=\"stroke: #383838; stroke-width: 1.0;\"/><ellipse cx=\"163.5535\" cy=\"187.888\" fill=\"#383838\" rx=\"2\" ry=\"2\" style=\"stroke: #383838; stroke-width: 1.0;\"/></a><!--MD5=[a22181cda5804dfb14263faddca7af71]\n",
       "@startuml\r\n",
       " skinparam monochrome true\r\n",
       "skinparam classbackgroundcolor white\r\n",
       "skinparam shadowing false\r\n",
       "skinparam wrapWidth 300\r\n",
       "hide circle\r\n",
       "\r\n",
       "package \"QualifiedNameImportTest\" as E1  [[psysml:986fc1fb-4aef-4106-b1ed-1986834153ab ]]  {\r\n",
       "package \"P1\" as E2  [[psysml:372b503a-8716-40b4-8b99-cd3a963555f9 ]]  {\r\n",
       "comp def \"A\" as E3  <<(T,blue)part def>> [[psysml:d5e28260-c8b5-4b29-a8f8-2a36a510faa1 ]] {\r\n",
       "}\r\n",
       "}\r\n",
       "package \"P2\" as E4  [[psysml:ae810913-1289-4b59-a95a-360ad08f1101 ]]  {\r\n",
       "package \"P2a\" as E5  [[psysml:b96f1ba5-fc32-4046-b5fe-7b623c9bf90c ]]  {\r\n",
       "}\r\n",
       "comp usage \"x: A\" as E6  <<(T,blue)part>> [[psysml:9546b5bf-a121-430a-b785-22b0f3c788bb ]] {\r\n",
       "}\r\n",
       "E6 - -:|> E3 [[psysml:4aa795d2-d8a8-4fd3-b09b-984289b8e469 ]] \r\n",
       "}\r\n",
       "}\r\n",
       "@enduml\r\n",
       "\n",
       "PlantUML version 1.2020.13(Sat Jun 13 12:26:38 UTC 2020)\n",
       "(EPL source distribution)\n",
       "Java Runtime: OpenJDK Runtime Environment\n",
       "JVM: OpenJDK 64-Bit Server VM\n",
       "Default Encoding: UTF-8\n",
       "Language: en\n",
       "Country: null\n",
       "--></g></svg>"
      ]
     },
     "execution_count": 2,
     "metadata": {},
     "output_type": "execute_result"
    }
   ],
   "source": [
    "%viz --style=\"COMPTREE\" --view=\"Default\" \"QualifiedNameImportTest\""
   ]
  },
  {
   "cell_type": "code",
   "execution_count": 3,
   "id": "4cd7c297",
   "metadata": {
    "execution": {
     "iopub.execute_input": "2021-04-20T07:02:39.489063Z",
     "iopub.status.busy": "2021-04-20T07:02:39.488429Z",
     "iopub.status.idle": "2021-04-20T07:02:39.548705Z",
     "shell.execute_reply": "2021-04-20T07:02:39.547038Z"
    }
   },
   "outputs": [
    {
     "data": {
      "image/svg+xml": [
       "<?xml version=\"1.0\" encoding=\"UTF-8\" standalone=\"no\"?><svg xmlns=\"http://www.w3.org/2000/svg\" xmlns:xlink=\"http://www.w3.org/1999/xlink\" contentScriptType=\"application/ecmascript\" contentStyleType=\"text/css\" height=\"310px\" preserveAspectRatio=\"none\" style=\"width:253px;height:310px;\" version=\"1.1\" viewBox=\"0 0 253 310\" width=\"253px\" zoomAndPan=\"magnify\"><defs/><g><!--MD5=[fbc87193dbaf4d95561dea2c320d4a47]\n",
       "cluster E1--><a href=\"psysml:986fc1fb-4aef-4106-b1ed-1986834153ab\" target=\"_top\" title=\"psysml:986fc1fb-4aef-4106-b1ed-1986834153ab\" xlink:actuate=\"onRequest\" xlink:href=\"psysml:986fc1fb-4aef-4106-b1ed-1986834153ab\" xlink:show=\"new\" xlink:title=\"psysml:986fc1fb-4aef-4106-b1ed-1986834153ab\" xlink:type=\"simple\"><polygon fill=\"#FFFFFF\" points=\"16,6,221,6,228,28.2969,231,28.2969,231,298,16,298,16,6\" style=\"stroke: #000000; stroke-width: 1.5;\"/><line style=\"stroke: #000000; stroke-width: 1.5;\" x1=\"16\" x2=\"228\" y1=\"28.2969\" y2=\"28.2969\"/><text fill=\"#000000\" font-family=\"sans-serif\" font-size=\"14\" font-weight=\"bold\" lengthAdjust=\"spacingAndGlyphs\" textLength=\"199\" x=\"20\" y=\"20.9951\">QualifiedNameImportTest</text></a><!--MD5=[e4f7fae6ed58524ba242bb0b0d3be6b7]\n",
       "cluster E2--><a href=\"psysml:372b503a-8716-40b4-8b99-cd3a963555f9\" target=\"_top\" title=\"psysml:372b503a-8716-40b4-8b99-cd3a963555f9\" xlink:actuate=\"onRequest\" xlink:href=\"psysml:372b503a-8716-40b4-8b99-cd3a963555f9\" xlink:show=\"new\" xlink:title=\"psysml:372b503a-8716-40b4-8b99-cd3a963555f9\" xlink:type=\"simple\"><polygon fill=\"#FFFFFF\" points=\"105,177,131,177,138,199.2969,203,199.2969,203,274,105,274,105,177\" style=\"stroke: #000000; stroke-width: 1.5;\"/><line style=\"stroke: #000000; stroke-width: 1.5;\" x1=\"105\" x2=\"138\" y1=\"199.2969\" y2=\"199.2969\"/><text fill=\"#000000\" font-family=\"sans-serif\" font-size=\"14\" font-weight=\"bold\" lengthAdjust=\"spacingAndGlyphs\" textLength=\"20\" x=\"109\" y=\"191.9951\">P1</text></a><!--MD5=[f6df4d0ebaf0b5dfb2ced0ae5af7c670]\n",
       "cluster E4--><a href=\"psysml:ae810913-1289-4b59-a95a-360ad08f1101\" target=\"_top\" title=\"psysml:ae810913-1289-4b59-a95a-360ad08f1101\" xlink:actuate=\"onRequest\" xlink:href=\"psysml:ae810913-1289-4b59-a95a-360ad08f1101\" xlink:show=\"new\" xlink:title=\"psysml:ae810913-1289-4b59-a95a-360ad08f1101\" xlink:type=\"simple\"><polygon fill=\"#FFFFFF\" points=\"44,49,70,49,77,71.2969,203,71.2969,203,153,44,153,44,49\" style=\"stroke: #000000; stroke-width: 1.5;\"/><line style=\"stroke: #000000; stroke-width: 1.5;\" x1=\"44\" x2=\"77\" y1=\"71.2969\" y2=\"71.2969\"/><text fill=\"#000000\" font-family=\"sans-serif\" font-size=\"14\" font-weight=\"bold\" lengthAdjust=\"spacingAndGlyphs\" textLength=\"20\" x=\"48\" y=\"63.9951\">P2</text></a><!--MD5=[09b614a08d8cba4a07c9adeb5e0fee81]\n",
       "class E3--><a href=\"psysml:d5e28260-c8b5-4b29-a8f8-2a36a510faa1\" target=\"_top\" title=\"psysml:d5e28260-c8b5-4b29-a8f8-2a36a510faa1\" xlink:actuate=\"onRequest\" xlink:href=\"psysml:d5e28260-c8b5-4b29-a8f8-2a36a510faa1\" xlink:show=\"new\" xlink:title=\"psysml:d5e28260-c8b5-4b29-a8f8-2a36a510faa1\" xlink:type=\"simple\"><rect fill=\"#FFFFFF\" height=\"45.9375\" id=\"E3\" style=\"stroke: #383838; stroke-width: 1.5;\" width=\"66\" x=\"121\" y=\"212\"/><text fill=\"#000000\" font-family=\"sans-serif\" font-size=\"12\" font-style=\"italic\" lengthAdjust=\"spacingAndGlyphs\" textLength=\"64\" x=\"122\" y=\"228.1387\">«part def»</text><text fill=\"#000000\" font-family=\"sans-serif\" font-size=\"12\" lengthAdjust=\"spacingAndGlyphs\" textLength=\"8\" x=\"150\" y=\"242.1074\">A</text><line style=\"stroke: #383838; stroke-width: 1.5;\" x1=\"122\" x2=\"186\" y1=\"249.9375\" y2=\"249.9375\"/></a><!--MD5=[60a26617385b1d2d0262a64233df1f8d]\n",
       "class E6--><a href=\"psysml:9546b5bf-a121-430a-b785-22b0f3c788bb\" target=\"_top\" title=\"psysml:9546b5bf-a121-430a-b785-22b0f3c788bb\" xlink:actuate=\"onRequest\" xlink:href=\"psysml:9546b5bf-a121-430a-b785-22b0f3c788bb\" xlink:show=\"new\" xlink:title=\"psysml:9546b5bf-a121-430a-b785-22b0f3c788bb\" xlink:type=\"simple\"><rect fill=\"#FFFFFF\" height=\"45.9375\" id=\"E6\" rx=\"10\" ry=\"10\" style=\"stroke: #383838; stroke-width: 1.5;\" width=\"42\" x=\"145\" y=\"87.5\"/><text fill=\"#000000\" font-family=\"sans-serif\" font-size=\"12\" font-style=\"italic\" lengthAdjust=\"spacingAndGlyphs\" textLength=\"40\" x=\"146\" y=\"103.6387\">«part»</text><text fill=\"#000000\" font-family=\"sans-serif\" font-size=\"12\" lengthAdjust=\"spacingAndGlyphs\" textLength=\"22\" x=\"155\" y=\"117.6074\">x: A</text><line style=\"stroke: #383838; stroke-width: 1.5;\" x1=\"146\" x2=\"186\" y1=\"125.4375\" y2=\"125.4375\"/></a><a href=\"psysml:b96f1ba5-fc32-4046-b5fe-7b623c9bf90c\" target=\"_top\" title=\"psysml:b96f1ba5-fc32-4046-b5fe-7b623c9bf90c\" xlink:actuate=\"onRequest\" xlink:href=\"psysml:b96f1ba5-fc32-4046-b5fe-7b623c9bf90c\" xlink:show=\"new\" xlink:title=\"psysml:b96f1ba5-fc32-4046-b5fe-7b623c9bf90c\" xlink:type=\"simple\"><polygon fill=\"#FFFFFF\" points=\"60.5,84,95.5,84,102.5,106.2969,109.5,106.2969,109.5,136.5938,60.5,136.5938,60.5,84\" style=\"stroke: #000000; stroke-width: 1.5;\"/><line style=\"stroke: #000000; stroke-width: 1.5;\" x1=\"60.5\" x2=\"102.5\" y1=\"106.2969\" y2=\"106.2969\"/><text fill=\"#000000\" font-family=\"sans-serif\" font-size=\"14\" font-weight=\"bold\" lengthAdjust=\"spacingAndGlyphs\" textLength=\"29\" x=\"64.5\" y=\"98.9951\">P2a</text></a><!--MD5=[a717450b82c80b9240a525fa862496af]\n",
       "link E6 to E3--><a href=\"psysml:4aa795d2-d8a8-4fd3-b09b-984289b8e469\" target=\"_top\" title=\"psysml:4aa795d2-d8a8-4fd3-b09b-984289b8e469\" xlink:actuate=\"onRequest\" xlink:href=\"psysml:4aa795d2-d8a8-4fd3-b09b-984289b8e469\" xlink:show=\"new\" xlink:title=\"psysml:4aa795d2-d8a8-4fd3-b09b-984289b8e469\" xlink:type=\"simple\"><path d=\"M163.83,133.68 C162.24,149.9 160.04,172.39 158.12,191.96 \" fill=\"none\" id=\"E6-&gt;E3\" style=\"stroke: #383838; stroke-width: 1.0;\"/><polygon fill=\"#FFFFFF\" points=\"156.16,211.98,151.0533,192.3861,164.986,193.7564,156.16,211.98\" style=\"stroke: #383838; stroke-width: 1.0;\"/><ellipse cx=\"153.6016\" cy=\"186.9092\" fill=\"#383838\" rx=\"2\" ry=\"2\" style=\"stroke: #383838; stroke-width: 1.0;\"/><ellipse cx=\"163.5535\" cy=\"187.888\" fill=\"#383838\" rx=\"2\" ry=\"2\" style=\"stroke: #383838; stroke-width: 1.0;\"/></a><!--MD5=[a22181cda5804dfb14263faddca7af71]\n",
       "@startuml\r\n",
       " skinparam monochrome true\r\n",
       "skinparam classbackgroundcolor white\r\n",
       "skinparam shadowing false\r\n",
       "skinparam wrapWidth 300\r\n",
       "hide circle\r\n",
       "\r\n",
       "package \"QualifiedNameImportTest\" as E1  [[psysml:986fc1fb-4aef-4106-b1ed-1986834153ab ]]  {\r\n",
       "package \"P1\" as E2  [[psysml:372b503a-8716-40b4-8b99-cd3a963555f9 ]]  {\r\n",
       "comp def \"A\" as E3  <<(T,blue)part def>> [[psysml:d5e28260-c8b5-4b29-a8f8-2a36a510faa1 ]] {\r\n",
       "}\r\n",
       "}\r\n",
       "package \"P2\" as E4  [[psysml:ae810913-1289-4b59-a95a-360ad08f1101 ]]  {\r\n",
       "package \"P2a\" as E5  [[psysml:b96f1ba5-fc32-4046-b5fe-7b623c9bf90c ]]  {\r\n",
       "}\r\n",
       "comp usage \"x: A\" as E6  <<(T,blue)part>> [[psysml:9546b5bf-a121-430a-b785-22b0f3c788bb ]] {\r\n",
       "}\r\n",
       "E6 - -:|> E3 [[psysml:4aa795d2-d8a8-4fd3-b09b-984289b8e469 ]] \r\n",
       "}\r\n",
       "}\r\n",
       "@enduml\r\n",
       "\n",
       "PlantUML version 1.2020.13(Sat Jun 13 12:26:38 UTC 2020)\n",
       "(EPL source distribution)\n",
       "Java Runtime: OpenJDK Runtime Environment\n",
       "JVM: OpenJDK 64-Bit Server VM\n",
       "Default Encoding: UTF-8\n",
       "Language: en\n",
       "Country: null\n",
       "--></g></svg>"
      ]
     },
     "execution_count": 3,
     "metadata": {},
     "output_type": "execute_result"
    }
   ],
   "source": [
    "%viz --style=\"COMPTREE\" --view=\"Tree\" \"QualifiedNameImportTest\""
   ]
  },
  {
   "cell_type": "code",
   "execution_count": 4,
   "id": "2b9f9fb1",
   "metadata": {
    "execution": {
     "iopub.execute_input": "2021-04-20T07:02:39.599698Z",
     "iopub.status.busy": "2021-04-20T07:02:39.599178Z",
     "iopub.status.idle": "2021-04-20T07:02:39.610429Z",
     "shell.execute_reply": "2021-04-20T07:02:39.610094Z"
    }
   },
   "outputs": [
    {
     "data": {
      "image/svg+xml": [
       "<?xml version=\"1.0\" encoding=\"UTF-8\" standalone=\"no\"?><svg xmlns=\"http://www.w3.org/2000/svg\" xmlns:xlink=\"http://www.w3.org/1999/xlink\" contentScriptType=\"application/ecmascript\" contentStyleType=\"text/css\" height=\"12px\" preserveAspectRatio=\"none\" style=\"width:12px;height:12px;\" version=\"1.1\" viewBox=\"0 0 12 12\" width=\"12px\" zoomAndPan=\"magnify\"><defs/><g><!--MD5=[f19188ef49e11757b5c46753f95d9edc]\n",
       "@startuml\r\n",
       " skinparam monochrome true\r\n",
       "skinparam classbackgroundcolor white\r\n",
       "skinparam shadowing false\r\n",
       "skinparam wrapWidth 300\r\n",
       "hide circle\r\n",
       "\r\n",
       "@enduml\r\n",
       "\n",
       "PlantUML version 1.2020.13(Sat Jun 13 12:26:38 UTC 2020)\n",
       "(EPL source distribution)\n",
       "Java Runtime: OpenJDK Runtime Environment\n",
       "JVM: OpenJDK 64-Bit Server VM\n",
       "Default Encoding: UTF-8\n",
       "Language: en\n",
       "Country: null\n",
       "--></g></svg>"
      ]
     },
     "execution_count": 4,
     "metadata": {},
     "output_type": "execute_result"
    }
   ],
   "source": [
    "%viz --style=\"COMPTREE\" --view=\"State\" \"QualifiedNameImportTest\""
   ]
  },
  {
   "cell_type": "code",
   "execution_count": 5,
   "id": "3fdecb96",
   "metadata": {
    "execution": {
     "iopub.execute_input": "2021-04-20T07:02:39.662222Z",
     "iopub.status.busy": "2021-04-20T07:02:39.661536Z",
     "iopub.status.idle": "2021-04-20T07:02:39.724036Z",
     "shell.execute_reply": "2021-04-20T07:02:39.724372Z"
    }
   },
   "outputs": [
    {
     "data": {
      "image/svg+xml": [
       "<?xml version=\"1.0\" encoding=\"UTF-8\" standalone=\"no\"?><svg xmlns=\"http://www.w3.org/2000/svg\" xmlns:xlink=\"http://www.w3.org/1999/xlink\" contentScriptType=\"application/ecmascript\" contentStyleType=\"text/css\" height=\"189px\" preserveAspectRatio=\"none\" style=\"width:381px;height:189px;\" version=\"1.1\" viewBox=\"0 0 381 189\" width=\"381px\" zoomAndPan=\"magnify\"><defs/><g><!--MD5=[fbc87193dbaf4d95561dea2c320d4a47]\n",
       "cluster E1--><a href=\"psysml:986fc1fb-4aef-4106-b1ed-1986834153ab\" target=\"_top\" title=\"psysml:986fc1fb-4aef-4106-b1ed-1986834153ab\" xlink:actuate=\"onRequest\" xlink:href=\"psysml:986fc1fb-4aef-4106-b1ed-1986834153ab\" xlink:show=\"new\" xlink:title=\"psysml:986fc1fb-4aef-4106-b1ed-1986834153ab\" xlink:type=\"simple\"><polygon fill=\"#FFFFFF\" points=\"16,6,221,6,228,28.2969,359,28.2969,359,177,16,177,16,6\" style=\"stroke: #000000; stroke-width: 1.5;\"/><line style=\"stroke: #000000; stroke-width: 1.5;\" x1=\"16\" x2=\"228\" y1=\"28.2969\" y2=\"28.2969\"/><text fill=\"#000000\" font-family=\"sans-serif\" font-size=\"14\" font-weight=\"bold\" lengthAdjust=\"spacingAndGlyphs\" textLength=\"199\" x=\"20\" y=\"20.9951\">QualifiedNameImportTest</text></a><!--MD5=[e4f7fae6ed58524ba242bb0b0d3be6b7]\n",
       "cluster E2--><a href=\"psysml:372b503a-8716-40b4-8b99-cd3a963555f9\" target=\"_top\" title=\"psysml:372b503a-8716-40b4-8b99-cd3a963555f9\" xlink:actuate=\"onRequest\" xlink:href=\"psysml:372b503a-8716-40b4-8b99-cd3a963555f9\" xlink:show=\"new\" xlink:title=\"psysml:372b503a-8716-40b4-8b99-cd3a963555f9\" xlink:type=\"simple\"><polygon fill=\"#FFFFFF\" points=\"231,54,257,54,264,76.2969,335,76.2969,335,148,231,148,231,54\" style=\"stroke: #000000; stroke-width: 1.5;\"/><line style=\"stroke: #000000; stroke-width: 1.5;\" x1=\"231\" x2=\"264\" y1=\"76.2969\" y2=\"76.2969\"/><text fill=\"#000000\" font-family=\"sans-serif\" font-size=\"14\" font-weight=\"bold\" lengthAdjust=\"spacingAndGlyphs\" textLength=\"20\" x=\"235\" y=\"68.9951\">P1</text></a><!--MD5=[f6df4d0ebaf0b5dfb2ced0ae5af7c670]\n",
       "cluster E4--><a href=\"psysml:ae810913-1289-4b59-a95a-360ad08f1101\" target=\"_top\" title=\"psysml:ae810913-1289-4b59-a95a-360ad08f1101\" xlink:actuate=\"onRequest\" xlink:href=\"psysml:ae810913-1289-4b59-a95a-360ad08f1101\" xlink:show=\"new\" xlink:title=\"psysml:ae810913-1289-4b59-a95a-360ad08f1101\" xlink:type=\"simple\"><polygon fill=\"#FFFFFF\" points=\"40,49,66,49,73,71.2969,207,71.2969,207,153,40,153,40,49\" style=\"stroke: #000000; stroke-width: 1.5;\"/><line style=\"stroke: #000000; stroke-width: 1.5;\" x1=\"40\" x2=\"73\" y1=\"71.2969\" y2=\"71.2969\"/><text fill=\"#000000\" font-family=\"sans-serif\" font-size=\"14\" font-weight=\"bold\" lengthAdjust=\"spacingAndGlyphs\" textLength=\"20\" x=\"44\" y=\"63.9951\">P2</text></a><g id=\"E1.E2.E3\"><a href=\"psysml:d5e28260-c8b5-4b29-a8f8-2a36a510faa1\" target=\"_top\" title=\"psysml:d5e28260-c8b5-4b29-a8f8-2a36a510faa1\" xlink:actuate=\"onRequest\" xlink:href=\"psysml:d5e28260-c8b5-4b29-a8f8-2a36a510faa1\" xlink:show=\"new\" xlink:title=\"psysml:d5e28260-c8b5-4b29-a8f8-2a36a510faa1\" xlink:type=\"simple\"><rect fill=\"#FFFFFF\" height=\"42.9375\" id=\"E3\" style=\"stroke: #383838; stroke-width: 1.5;\" width=\"71\" x=\"247.5\" y=\"89\"/><rect fill=\"#F8F8F8\" height=\"37.9375\" style=\"stroke: #383838; stroke-width: 1.5;\" width=\"71\" x=\"247.5\" y=\"89\"/><text fill=\"#000000\" font-family=\"sans-serif\" font-size=\"12\" font-style=\"italic\" lengthAdjust=\"spacingAndGlyphs\" textLength=\"64\" x=\"251\" y=\"105.1387\">«part def»</text><text fill=\"#000000\" font-family=\"sans-serif\" font-size=\"12\" lengthAdjust=\"spacingAndGlyphs\" textLength=\"8\" x=\"279\" y=\"119.1074\">A</text></a></g><a href=\"psysml:b96f1ba5-fc32-4046-b5fe-7b623c9bf90c\" target=\"_top\" title=\"psysml:b96f1ba5-fc32-4046-b5fe-7b623c9bf90c\" xlink:actuate=\"onRequest\" xlink:href=\"psysml:b96f1ba5-fc32-4046-b5fe-7b623c9bf90c\" xlink:show=\"new\" xlink:title=\"psysml:b96f1ba5-fc32-4046-b5fe-7b623c9bf90c\" xlink:type=\"simple\"><polygon fill=\"#FFFFFF\" points=\"141.5,84,176.5,84,183.5,106.2969,190.5,106.2969,190.5,136.5938,141.5,136.5938,141.5,84\" style=\"stroke: #000000; stroke-width: 1.5;\"/><line style=\"stroke: #000000; stroke-width: 1.5;\" x1=\"141.5\" x2=\"183.5\" y1=\"106.2969\" y2=\"106.2969\"/><text fill=\"#000000\" font-family=\"sans-serif\" font-size=\"14\" font-weight=\"bold\" lengthAdjust=\"spacingAndGlyphs\" textLength=\"29\" x=\"145.5\" y=\"98.9951\">P2a</text></a><g id=\"E1.E4.E6\"><a href=\"psysml:9546b5bf-a121-430a-b785-22b0f3c788bb\" target=\"_top\" title=\"psysml:9546b5bf-a121-430a-b785-22b0f3c788bb\" xlink:actuate=\"onRequest\" xlink:href=\"psysml:9546b5bf-a121-430a-b785-22b0f3c788bb\" xlink:show=\"new\" xlink:title=\"psysml:9546b5bf-a121-430a-b785-22b0f3c788bb\" xlink:type=\"simple\"><rect fill=\"#FFFFFF\" height=\"40\" id=\"E6\" rx=\"10\" ry=\"10\" style=\"stroke: #383838; stroke-width: 1.5;\" width=\"50\" x=\"56\" y=\"90.5\"/><rect fill=\"#F8F8F8\" height=\"23.9688\" rx=\"10\" ry=\"10\" style=\"stroke: #F8F8F8; stroke-width: 1.5;\" width=\"50\" x=\"56\" y=\"90.5\"/><rect fill=\"#F8F8F8\" height=\"10\" style=\"stroke: #F8F8F8; stroke-width: 1.5;\" width=\"50\" x=\"56\" y=\"104.4688\"/><rect fill=\"none\" height=\"40\" id=\"E6\" rx=\"10\" ry=\"10\" style=\"stroke: #383838; stroke-width: 1.5;\" width=\"50\" x=\"56\" y=\"90.5\"/><text fill=\"#000000\" font-family=\"sans-serif\" font-size=\"12\" lengthAdjust=\"spacingAndGlyphs\" textLength=\"22\" x=\"70\" y=\"106.6387\">x: A</text></a></g><!--MD5=[fe9878be0e462c40f7c4842b2eab23a6]\n",
       "@startuml\r\n",
       "skinparam ranksep 10\r\n",
       "skinparam rectangle {\r\n",
       " backgroundColor<<block>> LightGreen\r\n",
       "}\r\n",
       " skinparam monochrome true\r\n",
       "skinparam classbackgroundcolor white\r\n",
       "skinparam shadowing false\r\n",
       "skinparam wrapWidth 300\r\n",
       "hide circle\r\n",
       "\r\n",
       "package \"QualifiedNameImportTest\" as E1  [[psysml:986fc1fb-4aef-4106-b1ed-1986834153ab ]]  {\r\n",
       "package \"P1\" as E2  [[psysml:372b503a-8716-40b4-8b99-cd3a963555f9 ]]  {\r\n",
       "rec def \"A\" as E3  <<(T,blue)part def>> [[psysml:d5e28260-c8b5-4b29-a8f8-2a36a510faa1 ]] {\r\n",
       "}\r\n",
       "}\r\n",
       "package \"P2\" as E4  [[psysml:ae810913-1289-4b59-a95a-360ad08f1101 ]]  {\r\n",
       "package \"P2a\" as E5  [[psysml:b96f1ba5-fc32-4046-b5fe-7b623c9bf90c ]]  {\r\n",
       "}\r\n",
       "rec usage \"x: A\" as E6  [[psysml:9546b5bf-a121-430a-b785-22b0f3c788bb ]] {\r\n",
       "}\r\n",
       "}\r\n",
       "}\r\n",
       "@enduml\r\n",
       "\n",
       "PlantUML version 1.2020.13(Sat Jun 13 12:26:38 UTC 2020)\n",
       "(EPL source distribution)\n",
       "Java Runtime: OpenJDK Runtime Environment\n",
       "JVM: OpenJDK 64-Bit Server VM\n",
       "Default Encoding: UTF-8\n",
       "Language: en\n",
       "Country: null\n",
       "--></g></svg>"
      ]
     },
     "execution_count": 5,
     "metadata": {},
     "output_type": "execute_result"
    }
   ],
   "source": [
    "%viz --style=\"COMPTREE\" --view=\"Interconnection\" \"QualifiedNameImportTest\""
   ]
  },
  {
   "cell_type": "code",
   "execution_count": 6,
   "id": "929e67d1",
   "metadata": {
    "execution": {
     "iopub.execute_input": "2021-04-20T07:02:39.774854Z",
     "iopub.status.busy": "2021-04-20T07:02:39.774453Z",
     "iopub.status.idle": "2021-04-20T07:02:39.780543Z",
     "shell.execute_reply": "2021-04-20T07:02:39.780819Z"
    }
   },
   "outputs": [
    {
     "data": {
      "image/svg+xml": [
       "<?xml version=\"1.0\" encoding=\"UTF-8\" standalone=\"no\"?><svg xmlns=\"http://www.w3.org/2000/svg\" xmlns:xlink=\"http://www.w3.org/1999/xlink\" contentScriptType=\"application/ecmascript\" contentStyleType=\"text/css\" height=\"12px\" preserveAspectRatio=\"none\" style=\"width:12px;height:12px;\" version=\"1.1\" viewBox=\"0 0 12 12\" width=\"12px\" zoomAndPan=\"magnify\"><defs/><g><!--MD5=[655b888544ca4751ea36af1068543f84]\n",
       "@startuml\r\n",
       "skinparam ranksep 8\r\n",
       " skinparam monochrome true\r\n",
       "skinparam classbackgroundcolor white\r\n",
       "skinparam shadowing false\r\n",
       "skinparam wrapWidth 300\r\n",
       "hide circle\r\n",
       "\r\n",
       "@enduml\r\n",
       "\n",
       "PlantUML version 1.2020.13(Sat Jun 13 12:26:38 UTC 2020)\n",
       "(EPL source distribution)\n",
       "Java Runtime: OpenJDK Runtime Environment\n",
       "JVM: OpenJDK 64-Bit Server VM\n",
       "Default Encoding: UTF-8\n",
       "Language: en\n",
       "Country: null\n",
       "--></g></svg>"
      ]
     },
     "execution_count": 6,
     "metadata": {},
     "output_type": "execute_result"
    }
   ],
   "source": [
    "%viz --style=\"COMPTREE\" --view=\"Action\" \"QualifiedNameImportTest\""
   ]
  },
  {
   "cell_type": "code",
   "execution_count": 7,
   "id": "81b8f56a",
   "metadata": {
    "execution": {
     "iopub.execute_input": "2021-04-20T07:02:39.832583Z",
     "iopub.status.busy": "2021-04-20T07:02:39.831863Z",
     "iopub.status.idle": "2021-04-20T07:02:39.877595Z",
     "shell.execute_reply": "2021-04-20T07:02:39.878042Z"
    }
   },
   "outputs": [
    {
     "data": {
      "image/svg+xml": [
       "<?xml version=\"1.0\" encoding=\"UTF-8\" standalone=\"no\"?><svg xmlns=\"http://www.w3.org/2000/svg\" xmlns:xlink=\"http://www.w3.org/1999/xlink\" contentScriptType=\"application/ecmascript\" contentStyleType=\"text/css\" height=\"310px\" preserveAspectRatio=\"none\" style=\"width:253px;height:310px;\" version=\"1.1\" viewBox=\"0 0 253 310\" width=\"253px\" zoomAndPan=\"magnify\"><defs/><g><!--MD5=[fbc87193dbaf4d95561dea2c320d4a47]\n",
       "cluster E1--><a href=\"psysml:986fc1fb-4aef-4106-b1ed-1986834153ab\" target=\"_top\" title=\"psysml:986fc1fb-4aef-4106-b1ed-1986834153ab\" xlink:actuate=\"onRequest\" xlink:href=\"psysml:986fc1fb-4aef-4106-b1ed-1986834153ab\" xlink:show=\"new\" xlink:title=\"psysml:986fc1fb-4aef-4106-b1ed-1986834153ab\" xlink:type=\"simple\"><polygon fill=\"#FFFFFF\" points=\"16,6,221,6,228,28.2969,231,28.2969,231,298,16,298,16,6\" style=\"stroke: #000000; stroke-width: 1.5;\"/><line style=\"stroke: #000000; stroke-width: 1.5;\" x1=\"16\" x2=\"228\" y1=\"28.2969\" y2=\"28.2969\"/><text fill=\"#000000\" font-family=\"sans-serif\" font-size=\"14\" font-weight=\"bold\" lengthAdjust=\"spacingAndGlyphs\" textLength=\"199\" x=\"20\" y=\"20.9951\">QualifiedNameImportTest</text></a><!--MD5=[e4f7fae6ed58524ba242bb0b0d3be6b7]\n",
       "cluster E2--><a href=\"psysml:372b503a-8716-40b4-8b99-cd3a963555f9\" target=\"_top\" title=\"psysml:372b503a-8716-40b4-8b99-cd3a963555f9\" xlink:actuate=\"onRequest\" xlink:href=\"psysml:372b503a-8716-40b4-8b99-cd3a963555f9\" xlink:show=\"new\" xlink:title=\"psysml:372b503a-8716-40b4-8b99-cd3a963555f9\" xlink:type=\"simple\"><polygon fill=\"#FFFFFF\" points=\"105,177,131,177,138,199.2969,203,199.2969,203,274,105,274,105,177\" style=\"stroke: #000000; stroke-width: 1.5;\"/><line style=\"stroke: #000000; stroke-width: 1.5;\" x1=\"105\" x2=\"138\" y1=\"199.2969\" y2=\"199.2969\"/><text fill=\"#000000\" font-family=\"sans-serif\" font-size=\"14\" font-weight=\"bold\" lengthAdjust=\"spacingAndGlyphs\" textLength=\"20\" x=\"109\" y=\"191.9951\">P1</text></a><!--MD5=[f6df4d0ebaf0b5dfb2ced0ae5af7c670]\n",
       "cluster E4--><a href=\"psysml:ae810913-1289-4b59-a95a-360ad08f1101\" target=\"_top\" title=\"psysml:ae810913-1289-4b59-a95a-360ad08f1101\" xlink:actuate=\"onRequest\" xlink:href=\"psysml:ae810913-1289-4b59-a95a-360ad08f1101\" xlink:show=\"new\" xlink:title=\"psysml:ae810913-1289-4b59-a95a-360ad08f1101\" xlink:type=\"simple\"><polygon fill=\"#FFFFFF\" points=\"44,49,70,49,77,71.2969,203,71.2969,203,153,44,153,44,49\" style=\"stroke: #000000; stroke-width: 1.5;\"/><line style=\"stroke: #000000; stroke-width: 1.5;\" x1=\"44\" x2=\"77\" y1=\"71.2969\" y2=\"71.2969\"/><text fill=\"#000000\" font-family=\"sans-serif\" font-size=\"14\" font-weight=\"bold\" lengthAdjust=\"spacingAndGlyphs\" textLength=\"20\" x=\"48\" y=\"63.9951\">P2</text></a><!--MD5=[09b614a08d8cba4a07c9adeb5e0fee81]\n",
       "class E3--><a href=\"psysml:d5e28260-c8b5-4b29-a8f8-2a36a510faa1\" target=\"_top\" title=\"psysml:d5e28260-c8b5-4b29-a8f8-2a36a510faa1\" xlink:actuate=\"onRequest\" xlink:href=\"psysml:d5e28260-c8b5-4b29-a8f8-2a36a510faa1\" xlink:show=\"new\" xlink:title=\"psysml:d5e28260-c8b5-4b29-a8f8-2a36a510faa1\" xlink:type=\"simple\"><rect fill=\"#FFFFFF\" height=\"45.9375\" id=\"E3\" style=\"stroke: #383838; stroke-width: 1.5;\" width=\"66\" x=\"121\" y=\"212\"/><text fill=\"#000000\" font-family=\"sans-serif\" font-size=\"12\" font-style=\"italic\" lengthAdjust=\"spacingAndGlyphs\" textLength=\"64\" x=\"122\" y=\"228.1387\">«part def»</text><text fill=\"#000000\" font-family=\"sans-serif\" font-size=\"12\" lengthAdjust=\"spacingAndGlyphs\" textLength=\"8\" x=\"150\" y=\"242.1074\">A</text><line style=\"stroke: #383838; stroke-width: 1.5;\" x1=\"122\" x2=\"186\" y1=\"249.9375\" y2=\"249.9375\"/></a><!--MD5=[60a26617385b1d2d0262a64233df1f8d]\n",
       "class E6--><a href=\"psysml:9546b5bf-a121-430a-b785-22b0f3c788bb\" target=\"_top\" title=\"psysml:9546b5bf-a121-430a-b785-22b0f3c788bb\" xlink:actuate=\"onRequest\" xlink:href=\"psysml:9546b5bf-a121-430a-b785-22b0f3c788bb\" xlink:show=\"new\" xlink:title=\"psysml:9546b5bf-a121-430a-b785-22b0f3c788bb\" xlink:type=\"simple\"><rect fill=\"#FFFFFF\" height=\"45.9375\" id=\"E6\" rx=\"10\" ry=\"10\" style=\"stroke: #383838; stroke-width: 1.5;\" width=\"42\" x=\"145\" y=\"87.5\"/><text fill=\"#000000\" font-family=\"sans-serif\" font-size=\"12\" font-style=\"italic\" lengthAdjust=\"spacingAndGlyphs\" textLength=\"40\" x=\"146\" y=\"103.6387\">«part»</text><text fill=\"#000000\" font-family=\"sans-serif\" font-size=\"12\" lengthAdjust=\"spacingAndGlyphs\" textLength=\"22\" x=\"155\" y=\"117.6074\">x: A</text><line style=\"stroke: #383838; stroke-width: 1.5;\" x1=\"146\" x2=\"186\" y1=\"125.4375\" y2=\"125.4375\"/></a><a href=\"psysml:b96f1ba5-fc32-4046-b5fe-7b623c9bf90c\" target=\"_top\" title=\"psysml:b96f1ba5-fc32-4046-b5fe-7b623c9bf90c\" xlink:actuate=\"onRequest\" xlink:href=\"psysml:b96f1ba5-fc32-4046-b5fe-7b623c9bf90c\" xlink:show=\"new\" xlink:title=\"psysml:b96f1ba5-fc32-4046-b5fe-7b623c9bf90c\" xlink:type=\"simple\"><polygon fill=\"#FFFFFF\" points=\"60.5,84,95.5,84,102.5,106.2969,109.5,106.2969,109.5,136.5938,60.5,136.5938,60.5,84\" style=\"stroke: #000000; stroke-width: 1.5;\"/><line style=\"stroke: #000000; stroke-width: 1.5;\" x1=\"60.5\" x2=\"102.5\" y1=\"106.2969\" y2=\"106.2969\"/><text fill=\"#000000\" font-family=\"sans-serif\" font-size=\"14\" font-weight=\"bold\" lengthAdjust=\"spacingAndGlyphs\" textLength=\"29\" x=\"64.5\" y=\"98.9951\">P2a</text></a><!--MD5=[a717450b82c80b9240a525fa862496af]\n",
       "link E6 to E3--><a href=\"psysml:4aa795d2-d8a8-4fd3-b09b-984289b8e469\" target=\"_top\" title=\"psysml:4aa795d2-d8a8-4fd3-b09b-984289b8e469\" xlink:actuate=\"onRequest\" xlink:href=\"psysml:4aa795d2-d8a8-4fd3-b09b-984289b8e469\" xlink:show=\"new\" xlink:title=\"psysml:4aa795d2-d8a8-4fd3-b09b-984289b8e469\" xlink:type=\"simple\"><path d=\"M163.83,133.68 C162.24,149.9 160.04,172.39 158.12,191.96 \" fill=\"none\" id=\"E6-&gt;E3\" style=\"stroke: #383838; stroke-width: 1.0;\"/><polygon fill=\"#FFFFFF\" points=\"156.16,211.98,151.0533,192.3861,164.986,193.7564,156.16,211.98\" style=\"stroke: #383838; stroke-width: 1.0;\"/><ellipse cx=\"153.6016\" cy=\"186.9092\" fill=\"#383838\" rx=\"2\" ry=\"2\" style=\"stroke: #383838; stroke-width: 1.0;\"/><ellipse cx=\"163.5535\" cy=\"187.888\" fill=\"#383838\" rx=\"2\" ry=\"2\" style=\"stroke: #383838; stroke-width: 1.0;\"/></a><!--MD5=[a22181cda5804dfb14263faddca7af71]\n",
       "@startuml\r\n",
       " skinparam monochrome true\r\n",
       "skinparam classbackgroundcolor white\r\n",
       "skinparam shadowing false\r\n",
       "skinparam wrapWidth 300\r\n",
       "hide circle\r\n",
       "\r\n",
       "package \"QualifiedNameImportTest\" as E1  [[psysml:986fc1fb-4aef-4106-b1ed-1986834153ab ]]  {\r\n",
       "package \"P1\" as E2  [[psysml:372b503a-8716-40b4-8b99-cd3a963555f9 ]]  {\r\n",
       "comp def \"A\" as E3  <<(T,blue)part def>> [[psysml:d5e28260-c8b5-4b29-a8f8-2a36a510faa1 ]] {\r\n",
       "}\r\n",
       "}\r\n",
       "package \"P2\" as E4  [[psysml:ae810913-1289-4b59-a95a-360ad08f1101 ]]  {\r\n",
       "package \"P2a\" as E5  [[psysml:b96f1ba5-fc32-4046-b5fe-7b623c9bf90c ]]  {\r\n",
       "}\r\n",
       "comp usage \"x: A\" as E6  <<(T,blue)part>> [[psysml:9546b5bf-a121-430a-b785-22b0f3c788bb ]] {\r\n",
       "}\r\n",
       "E6 - -:|> E3 [[psysml:4aa795d2-d8a8-4fd3-b09b-984289b8e469 ]] \r\n",
       "}\r\n",
       "}\r\n",
       "@enduml\r\n",
       "\n",
       "PlantUML version 1.2020.13(Sat Jun 13 12:26:38 UTC 2020)\n",
       "(EPL source distribution)\n",
       "Java Runtime: OpenJDK Runtime Environment\n",
       "JVM: OpenJDK 64-Bit Server VM\n",
       "Default Encoding: UTF-8\n",
       "Language: en\n",
       "Country: null\n",
       "--></g></svg>"
      ]
     },
     "execution_count": 7,
     "metadata": {},
     "output_type": "execute_result"
    }
   ],
   "source": [
    "%viz --style=\"COMPTREE\" --view=\"Sequence\" \"QualifiedNameImportTest\""
   ]
  },
  {
   "cell_type": "code",
   "execution_count": 8,
   "id": "2682b33b",
   "metadata": {
    "execution": {
     "iopub.execute_input": "2021-04-20T07:02:39.928310Z",
     "iopub.status.busy": "2021-04-20T07:02:39.927795Z",
     "iopub.status.idle": "2021-04-20T07:02:39.967924Z",
     "shell.execute_reply": "2021-04-20T07:02:39.968320Z"
    }
   },
   "outputs": [
    {
     "data": {
      "image/svg+xml": [
       "<?xml version=\"1.0\" encoding=\"UTF-8\" standalone=\"no\"?><svg xmlns=\"http://www.w3.org/2000/svg\" xmlns:xlink=\"http://www.w3.org/1999/xlink\" contentScriptType=\"application/ecmascript\" contentStyleType=\"text/css\" height=\"310px\" preserveAspectRatio=\"none\" style=\"width:253px;height:310px;\" version=\"1.1\" viewBox=\"0 0 253 310\" width=\"253px\" zoomAndPan=\"magnify\"><defs/><g><!--MD5=[fbc87193dbaf4d95561dea2c320d4a47]\n",
       "cluster E1--><a href=\"psysml:986fc1fb-4aef-4106-b1ed-1986834153ab\" target=\"_top\" title=\"psysml:986fc1fb-4aef-4106-b1ed-1986834153ab\" xlink:actuate=\"onRequest\" xlink:href=\"psysml:986fc1fb-4aef-4106-b1ed-1986834153ab\" xlink:show=\"new\" xlink:title=\"psysml:986fc1fb-4aef-4106-b1ed-1986834153ab\" xlink:type=\"simple\"><polygon fill=\"#FFFFFF\" points=\"16,6,221,6,228,28.2969,231,28.2969,231,298,16,298,16,6\" style=\"stroke: #000000; stroke-width: 1.5;\"/><line style=\"stroke: #000000; stroke-width: 1.5;\" x1=\"16\" x2=\"228\" y1=\"28.2969\" y2=\"28.2969\"/><text fill=\"#000000\" font-family=\"sans-serif\" font-size=\"14\" font-weight=\"bold\" lengthAdjust=\"spacingAndGlyphs\" textLength=\"199\" x=\"20\" y=\"20.9951\">QualifiedNameImportTest</text></a><!--MD5=[e4f7fae6ed58524ba242bb0b0d3be6b7]\n",
       "cluster E2--><a href=\"psysml:372b503a-8716-40b4-8b99-cd3a963555f9\" target=\"_top\" title=\"psysml:372b503a-8716-40b4-8b99-cd3a963555f9\" xlink:actuate=\"onRequest\" xlink:href=\"psysml:372b503a-8716-40b4-8b99-cd3a963555f9\" xlink:show=\"new\" xlink:title=\"psysml:372b503a-8716-40b4-8b99-cd3a963555f9\" xlink:type=\"simple\"><polygon fill=\"#FFFFFF\" points=\"105,177,131,177,138,199.2969,203,199.2969,203,274,105,274,105,177\" style=\"stroke: #000000; stroke-width: 1.5;\"/><line style=\"stroke: #000000; stroke-width: 1.5;\" x1=\"105\" x2=\"138\" y1=\"199.2969\" y2=\"199.2969\"/><text fill=\"#000000\" font-family=\"sans-serif\" font-size=\"14\" font-weight=\"bold\" lengthAdjust=\"spacingAndGlyphs\" textLength=\"20\" x=\"109\" y=\"191.9951\">P1</text></a><!--MD5=[f6df4d0ebaf0b5dfb2ced0ae5af7c670]\n",
       "cluster E4--><a href=\"psysml:ae810913-1289-4b59-a95a-360ad08f1101\" target=\"_top\" title=\"psysml:ae810913-1289-4b59-a95a-360ad08f1101\" xlink:actuate=\"onRequest\" xlink:href=\"psysml:ae810913-1289-4b59-a95a-360ad08f1101\" xlink:show=\"new\" xlink:title=\"psysml:ae810913-1289-4b59-a95a-360ad08f1101\" xlink:type=\"simple\"><polygon fill=\"#FFFFFF\" points=\"44,49,70,49,77,71.2969,203,71.2969,203,153,44,153,44,49\" style=\"stroke: #000000; stroke-width: 1.5;\"/><line style=\"stroke: #000000; stroke-width: 1.5;\" x1=\"44\" x2=\"77\" y1=\"71.2969\" y2=\"71.2969\"/><text fill=\"#000000\" font-family=\"sans-serif\" font-size=\"14\" font-weight=\"bold\" lengthAdjust=\"spacingAndGlyphs\" textLength=\"20\" x=\"48\" y=\"63.9951\">P2</text></a><!--MD5=[09b614a08d8cba4a07c9adeb5e0fee81]\n",
       "class E3--><a href=\"psysml:d5e28260-c8b5-4b29-a8f8-2a36a510faa1\" target=\"_top\" title=\"psysml:d5e28260-c8b5-4b29-a8f8-2a36a510faa1\" xlink:actuate=\"onRequest\" xlink:href=\"psysml:d5e28260-c8b5-4b29-a8f8-2a36a510faa1\" xlink:show=\"new\" xlink:title=\"psysml:d5e28260-c8b5-4b29-a8f8-2a36a510faa1\" xlink:type=\"simple\"><rect fill=\"#FFFFFF\" height=\"45.9375\" id=\"E3\" style=\"stroke: #383838; stroke-width: 1.5;\" width=\"66\" x=\"121\" y=\"212\"/><text fill=\"#000000\" font-family=\"sans-serif\" font-size=\"12\" font-style=\"italic\" lengthAdjust=\"spacingAndGlyphs\" textLength=\"64\" x=\"122\" y=\"228.1387\">«part def»</text><text fill=\"#000000\" font-family=\"sans-serif\" font-size=\"12\" lengthAdjust=\"spacingAndGlyphs\" textLength=\"8\" x=\"150\" y=\"242.1074\">A</text><line style=\"stroke: #383838; stroke-width: 1.5;\" x1=\"122\" x2=\"186\" y1=\"249.9375\" y2=\"249.9375\"/></a><!--MD5=[60a26617385b1d2d0262a64233df1f8d]\n",
       "class E6--><a href=\"psysml:9546b5bf-a121-430a-b785-22b0f3c788bb\" target=\"_top\" title=\"psysml:9546b5bf-a121-430a-b785-22b0f3c788bb\" xlink:actuate=\"onRequest\" xlink:href=\"psysml:9546b5bf-a121-430a-b785-22b0f3c788bb\" xlink:show=\"new\" xlink:title=\"psysml:9546b5bf-a121-430a-b785-22b0f3c788bb\" xlink:type=\"simple\"><rect fill=\"#FFFFFF\" height=\"45.9375\" id=\"E6\" rx=\"10\" ry=\"10\" style=\"stroke: #383838; stroke-width: 1.5;\" width=\"42\" x=\"145\" y=\"87.5\"/><text fill=\"#000000\" font-family=\"sans-serif\" font-size=\"12\" font-style=\"italic\" lengthAdjust=\"spacingAndGlyphs\" textLength=\"40\" x=\"146\" y=\"103.6387\">«part»</text><text fill=\"#000000\" font-family=\"sans-serif\" font-size=\"12\" lengthAdjust=\"spacingAndGlyphs\" textLength=\"22\" x=\"155\" y=\"117.6074\">x: A</text><line style=\"stroke: #383838; stroke-width: 1.5;\" x1=\"146\" x2=\"186\" y1=\"125.4375\" y2=\"125.4375\"/></a><a href=\"psysml:b96f1ba5-fc32-4046-b5fe-7b623c9bf90c\" target=\"_top\" title=\"psysml:b96f1ba5-fc32-4046-b5fe-7b623c9bf90c\" xlink:actuate=\"onRequest\" xlink:href=\"psysml:b96f1ba5-fc32-4046-b5fe-7b623c9bf90c\" xlink:show=\"new\" xlink:title=\"psysml:b96f1ba5-fc32-4046-b5fe-7b623c9bf90c\" xlink:type=\"simple\"><polygon fill=\"#FFFFFF\" points=\"60.5,84,95.5,84,102.5,106.2969,109.5,106.2969,109.5,136.5938,60.5,136.5938,60.5,84\" style=\"stroke: #000000; stroke-width: 1.5;\"/><line style=\"stroke: #000000; stroke-width: 1.5;\" x1=\"60.5\" x2=\"102.5\" y1=\"106.2969\" y2=\"106.2969\"/><text fill=\"#000000\" font-family=\"sans-serif\" font-size=\"14\" font-weight=\"bold\" lengthAdjust=\"spacingAndGlyphs\" textLength=\"29\" x=\"64.5\" y=\"98.9951\">P2a</text></a><!--MD5=[a717450b82c80b9240a525fa862496af]\n",
       "link E6 to E3--><a href=\"psysml:4aa795d2-d8a8-4fd3-b09b-984289b8e469\" target=\"_top\" title=\"psysml:4aa795d2-d8a8-4fd3-b09b-984289b8e469\" xlink:actuate=\"onRequest\" xlink:href=\"psysml:4aa795d2-d8a8-4fd3-b09b-984289b8e469\" xlink:show=\"new\" xlink:title=\"psysml:4aa795d2-d8a8-4fd3-b09b-984289b8e469\" xlink:type=\"simple\"><path d=\"M163.83,133.68 C162.24,149.9 160.04,172.39 158.12,191.96 \" fill=\"none\" id=\"E6-&gt;E3\" style=\"stroke: #383838; stroke-width: 1.0;\"/><polygon fill=\"#FFFFFF\" points=\"156.16,211.98,151.0533,192.3861,164.986,193.7564,156.16,211.98\" style=\"stroke: #383838; stroke-width: 1.0;\"/><ellipse cx=\"153.6016\" cy=\"186.9092\" fill=\"#383838\" rx=\"2\" ry=\"2\" style=\"stroke: #383838; stroke-width: 1.0;\"/><ellipse cx=\"163.5535\" cy=\"187.888\" fill=\"#383838\" rx=\"2\" ry=\"2\" style=\"stroke: #383838; stroke-width: 1.0;\"/></a><!--MD5=[a22181cda5804dfb14263faddca7af71]\n",
       "@startuml\r\n",
       " skinparam monochrome true\r\n",
       "skinparam classbackgroundcolor white\r\n",
       "skinparam shadowing false\r\n",
       "skinparam wrapWidth 300\r\n",
       "hide circle\r\n",
       "\r\n",
       "package \"QualifiedNameImportTest\" as E1  [[psysml:986fc1fb-4aef-4106-b1ed-1986834153ab ]]  {\r\n",
       "package \"P1\" as E2  [[psysml:372b503a-8716-40b4-8b99-cd3a963555f9 ]]  {\r\n",
       "comp def \"A\" as E3  <<(T,blue)part def>> [[psysml:d5e28260-c8b5-4b29-a8f8-2a36a510faa1 ]] {\r\n",
       "}\r\n",
       "}\r\n",
       "package \"P2\" as E4  [[psysml:ae810913-1289-4b59-a95a-360ad08f1101 ]]  {\r\n",
       "package \"P2a\" as E5  [[psysml:b96f1ba5-fc32-4046-b5fe-7b623c9bf90c ]]  {\r\n",
       "}\r\n",
       "comp usage \"x: A\" as E6  <<(T,blue)part>> [[psysml:9546b5bf-a121-430a-b785-22b0f3c788bb ]] {\r\n",
       "}\r\n",
       "E6 - -:|> E3 [[psysml:4aa795d2-d8a8-4fd3-b09b-984289b8e469 ]] \r\n",
       "}\r\n",
       "}\r\n",
       "@enduml\r\n",
       "\n",
       "PlantUML version 1.2020.13(Sat Jun 13 12:26:38 UTC 2020)\n",
       "(EPL source distribution)\n",
       "Java Runtime: OpenJDK Runtime Environment\n",
       "JVM: OpenJDK 64-Bit Server VM\n",
       "Default Encoding: UTF-8\n",
       "Language: en\n",
       "Country: null\n",
       "--></g></svg>"
      ]
     },
     "execution_count": 8,
     "metadata": {},
     "output_type": "execute_result"
    }
   ],
   "source": [
    "%viz --style=\"COMPTREE\" --view=\"MIXED\" \"QualifiedNameImportTest\""
   ]
  },
  {
   "cell_type": "code",
   "execution_count": 9,
   "id": "3f89e7cf",
   "metadata": {
    "execution": {
     "iopub.execute_input": "2021-04-20T07:02:40.018716Z",
     "iopub.status.busy": "2021-04-20T07:02:40.018264Z",
     "iopub.status.idle": "2021-04-20T07:02:40.054552Z",
     "shell.execute_reply": "2021-04-20T07:02:40.054162Z"
    }
   },
   "outputs": [
    {
     "data": {
      "image/svg+xml": [
       "<?xml version=\"1.0\" encoding=\"UTF-8\" standalone=\"no\"?><svg xmlns=\"http://www.w3.org/2000/svg\" xmlns:xlink=\"http://www.w3.org/1999/xlink\" contentScriptType=\"application/ecmascript\" contentStyleType=\"text/css\" height=\"310px\" preserveAspectRatio=\"none\" style=\"width:253px;height:310px;\" version=\"1.1\" viewBox=\"0 0 253 310\" width=\"253px\" zoomAndPan=\"magnify\"><defs/><g><!--MD5=[fbc87193dbaf4d95561dea2c320d4a47]\n",
       "cluster E1--><a href=\"psysml:986fc1fb-4aef-4106-b1ed-1986834153ab\" target=\"_top\" title=\"psysml:986fc1fb-4aef-4106-b1ed-1986834153ab\" xlink:actuate=\"onRequest\" xlink:href=\"psysml:986fc1fb-4aef-4106-b1ed-1986834153ab\" xlink:show=\"new\" xlink:title=\"psysml:986fc1fb-4aef-4106-b1ed-1986834153ab\" xlink:type=\"simple\"><polygon fill=\"#FFFFFF\" points=\"16,6,221,6,228,28.2969,231,28.2969,231,298,16,298,16,6\" style=\"stroke: #000000; stroke-width: 1.5;\"/><line style=\"stroke: #000000; stroke-width: 1.5;\" x1=\"16\" x2=\"228\" y1=\"28.2969\" y2=\"28.2969\"/><text fill=\"#000000\" font-family=\"sans-serif\" font-size=\"14\" font-weight=\"bold\" lengthAdjust=\"spacingAndGlyphs\" textLength=\"199\" x=\"20\" y=\"20.9951\">QualifiedNameImportTest</text></a><!--MD5=[e4f7fae6ed58524ba242bb0b0d3be6b7]\n",
       "cluster E2--><a href=\"psysml:372b503a-8716-40b4-8b99-cd3a963555f9\" target=\"_top\" title=\"psysml:372b503a-8716-40b4-8b99-cd3a963555f9\" xlink:actuate=\"onRequest\" xlink:href=\"psysml:372b503a-8716-40b4-8b99-cd3a963555f9\" xlink:show=\"new\" xlink:title=\"psysml:372b503a-8716-40b4-8b99-cd3a963555f9\" xlink:type=\"simple\"><polygon fill=\"#FFFFFF\" points=\"105,177,131,177,138,199.2969,203,199.2969,203,274,105,274,105,177\" style=\"stroke: #000000; stroke-width: 1.5;\"/><line style=\"stroke: #000000; stroke-width: 1.5;\" x1=\"105\" x2=\"138\" y1=\"199.2969\" y2=\"199.2969\"/><text fill=\"#000000\" font-family=\"sans-serif\" font-size=\"14\" font-weight=\"bold\" lengthAdjust=\"spacingAndGlyphs\" textLength=\"20\" x=\"109\" y=\"191.9951\">P1</text></a><!--MD5=[f6df4d0ebaf0b5dfb2ced0ae5af7c670]\n",
       "cluster E4--><a href=\"psysml:ae810913-1289-4b59-a95a-360ad08f1101\" target=\"_top\" title=\"psysml:ae810913-1289-4b59-a95a-360ad08f1101\" xlink:actuate=\"onRequest\" xlink:href=\"psysml:ae810913-1289-4b59-a95a-360ad08f1101\" xlink:show=\"new\" xlink:title=\"psysml:ae810913-1289-4b59-a95a-360ad08f1101\" xlink:type=\"simple\"><polygon fill=\"#FFFFFF\" points=\"44,49,70,49,77,71.2969,203,71.2969,203,153,44,153,44,49\" style=\"stroke: #000000; stroke-width: 1.5;\"/><line style=\"stroke: #000000; stroke-width: 1.5;\" x1=\"44\" x2=\"77\" y1=\"71.2969\" y2=\"71.2969\"/><text fill=\"#000000\" font-family=\"sans-serif\" font-size=\"14\" font-weight=\"bold\" lengthAdjust=\"spacingAndGlyphs\" textLength=\"20\" x=\"48\" y=\"63.9951\">P2</text></a><!--MD5=[09b614a08d8cba4a07c9adeb5e0fee81]\n",
       "class E3--><a href=\"psysml:d5e28260-c8b5-4b29-a8f8-2a36a510faa1\" target=\"_top\" title=\"psysml:d5e28260-c8b5-4b29-a8f8-2a36a510faa1\" xlink:actuate=\"onRequest\" xlink:href=\"psysml:d5e28260-c8b5-4b29-a8f8-2a36a510faa1\" xlink:show=\"new\" xlink:title=\"psysml:d5e28260-c8b5-4b29-a8f8-2a36a510faa1\" xlink:type=\"simple\"><rect fill=\"#FFFFFF\" height=\"45.9375\" id=\"E3\" style=\"stroke: #383838; stroke-width: 1.5;\" width=\"66\" x=\"121\" y=\"212\"/><text fill=\"#000000\" font-family=\"sans-serif\" font-size=\"12\" font-style=\"italic\" lengthAdjust=\"spacingAndGlyphs\" textLength=\"64\" x=\"122\" y=\"228.1387\">«part def»</text><text fill=\"#000000\" font-family=\"sans-serif\" font-size=\"12\" lengthAdjust=\"spacingAndGlyphs\" textLength=\"8\" x=\"150\" y=\"242.1074\">A</text><line style=\"stroke: #383838; stroke-width: 1.5;\" x1=\"122\" x2=\"186\" y1=\"249.9375\" y2=\"249.9375\"/></a><!--MD5=[60a26617385b1d2d0262a64233df1f8d]\n",
       "class E6--><a href=\"psysml:9546b5bf-a121-430a-b785-22b0f3c788bb\" target=\"_top\" title=\"psysml:9546b5bf-a121-430a-b785-22b0f3c788bb\" xlink:actuate=\"onRequest\" xlink:href=\"psysml:9546b5bf-a121-430a-b785-22b0f3c788bb\" xlink:show=\"new\" xlink:title=\"psysml:9546b5bf-a121-430a-b785-22b0f3c788bb\" xlink:type=\"simple\"><rect fill=\"#FFFFFF\" height=\"45.9375\" id=\"E6\" rx=\"10\" ry=\"10\" style=\"stroke: #383838; stroke-width: 1.5;\" width=\"42\" x=\"145\" y=\"87.5\"/><text fill=\"#000000\" font-family=\"sans-serif\" font-size=\"12\" font-style=\"italic\" lengthAdjust=\"spacingAndGlyphs\" textLength=\"40\" x=\"146\" y=\"103.6387\">«part»</text><text fill=\"#000000\" font-family=\"sans-serif\" font-size=\"12\" lengthAdjust=\"spacingAndGlyphs\" textLength=\"22\" x=\"155\" y=\"117.6074\">x: A</text><line style=\"stroke: #383838; stroke-width: 1.5;\" x1=\"146\" x2=\"186\" y1=\"125.4375\" y2=\"125.4375\"/></a><a href=\"psysml:b96f1ba5-fc32-4046-b5fe-7b623c9bf90c\" target=\"_top\" title=\"psysml:b96f1ba5-fc32-4046-b5fe-7b623c9bf90c\" xlink:actuate=\"onRequest\" xlink:href=\"psysml:b96f1ba5-fc32-4046-b5fe-7b623c9bf90c\" xlink:show=\"new\" xlink:title=\"psysml:b96f1ba5-fc32-4046-b5fe-7b623c9bf90c\" xlink:type=\"simple\"><polygon fill=\"#FFFFFF\" points=\"60.5,84,95.5,84,102.5,106.2969,109.5,106.2969,109.5,136.5938,60.5,136.5938,60.5,84\" style=\"stroke: #000000; stroke-width: 1.5;\"/><line style=\"stroke: #000000; stroke-width: 1.5;\" x1=\"60.5\" x2=\"102.5\" y1=\"106.2969\" y2=\"106.2969\"/><text fill=\"#000000\" font-family=\"sans-serif\" font-size=\"14\" font-weight=\"bold\" lengthAdjust=\"spacingAndGlyphs\" textLength=\"29\" x=\"64.5\" y=\"98.9951\">P2a</text></a><!--MD5=[a717450b82c80b9240a525fa862496af]\n",
       "link E6 to E3--><a href=\"psysml:4aa795d2-d8a8-4fd3-b09b-984289b8e469\" target=\"_top\" title=\"psysml:4aa795d2-d8a8-4fd3-b09b-984289b8e469\" xlink:actuate=\"onRequest\" xlink:href=\"psysml:4aa795d2-d8a8-4fd3-b09b-984289b8e469\" xlink:show=\"new\" xlink:title=\"psysml:4aa795d2-d8a8-4fd3-b09b-984289b8e469\" xlink:type=\"simple\"><path d=\"M163.83,133.68 C162.24,149.9 160.04,172.39 158.12,191.96 \" fill=\"none\" id=\"E6-&gt;E3\" style=\"stroke: #383838; stroke-width: 1.0;\"/><polygon fill=\"#FFFFFF\" points=\"156.16,211.98,151.0533,192.3861,164.986,193.7564,156.16,211.98\" style=\"stroke: #383838; stroke-width: 1.0;\"/><ellipse cx=\"153.6016\" cy=\"186.9092\" fill=\"#383838\" rx=\"2\" ry=\"2\" style=\"stroke: #383838; stroke-width: 1.0;\"/><ellipse cx=\"163.5535\" cy=\"187.888\" fill=\"#383838\" rx=\"2\" ry=\"2\" style=\"stroke: #383838; stroke-width: 1.0;\"/></a><!--MD5=[db44392c33f6acff0aea09b547e940ac]\n",
       "@startuml\r\n",
       "skinparam linetype polyline\r\n",
       "skinparam monochrome true\r\n",
       "skinparam classbackgroundcolor white\r\n",
       "skinparam shadowing false\r\n",
       "skinparam wrapWidth 300\r\n",
       "hide circle\r\n",
       "\r\n",
       "package \"QualifiedNameImportTest\" as E1  [[psysml:986fc1fb-4aef-4106-b1ed-1986834153ab ]]  {\r\n",
       "package \"P1\" as E2  [[psysml:372b503a-8716-40b4-8b99-cd3a963555f9 ]]  {\r\n",
       "comp def \"A\" as E3  <<(T,blue)part def>> [[psysml:d5e28260-c8b5-4b29-a8f8-2a36a510faa1 ]] {\r\n",
       "}\r\n",
       "}\r\n",
       "package \"P2\" as E4  [[psysml:ae810913-1289-4b59-a95a-360ad08f1101 ]]  {\r\n",
       "package \"P2a\" as E5  [[psysml:b96f1ba5-fc32-4046-b5fe-7b623c9bf90c ]]  {\r\n",
       "}\r\n",
       "comp usage \"x: A\" as E6  <<(T,blue)part>> [[psysml:9546b5bf-a121-430a-b785-22b0f3c788bb ]] {\r\n",
       "}\r\n",
       "E6 - -:|> E3 [[psysml:4aa795d2-d8a8-4fd3-b09b-984289b8e469 ]] \r\n",
       "}\r\n",
       "}\r\n",
       "@enduml\r\n",
       "\n",
       "PlantUML version 1.2020.13(Sat Jun 13 12:26:38 UTC 2020)\n",
       "(EPL source distribution)\n",
       "Java Runtime: OpenJDK Runtime Environment\n",
       "JVM: OpenJDK 64-Bit Server VM\n",
       "Default Encoding: UTF-8\n",
       "Language: en\n",
       "Country: null\n",
       "--></g></svg>"
      ]
     },
     "execution_count": 9,
     "metadata": {},
     "output_type": "execute_result"
    }
   ],
   "source": [
    "%viz --style=\"POLYLINE\" --view=\"Default\" \"QualifiedNameImportTest\""
   ]
  },
  {
   "cell_type": "code",
   "execution_count": 10,
   "id": "3998dc94",
   "metadata": {
    "execution": {
     "iopub.execute_input": "2021-04-20T07:02:40.105937Z",
     "iopub.status.busy": "2021-04-20T07:02:40.105461Z",
     "iopub.status.idle": "2021-04-20T07:02:40.140361Z",
     "shell.execute_reply": "2021-04-20T07:02:40.139120Z"
    }
   },
   "outputs": [
    {
     "data": {
      "image/svg+xml": [
       "<?xml version=\"1.0\" encoding=\"UTF-8\" standalone=\"no\"?><svg xmlns=\"http://www.w3.org/2000/svg\" xmlns:xlink=\"http://www.w3.org/1999/xlink\" contentScriptType=\"application/ecmascript\" contentStyleType=\"text/css\" height=\"310px\" preserveAspectRatio=\"none\" style=\"width:253px;height:310px;\" version=\"1.1\" viewBox=\"0 0 253 310\" width=\"253px\" zoomAndPan=\"magnify\"><defs/><g><!--MD5=[fbc87193dbaf4d95561dea2c320d4a47]\n",
       "cluster E1--><a href=\"psysml:986fc1fb-4aef-4106-b1ed-1986834153ab\" target=\"_top\" title=\"psysml:986fc1fb-4aef-4106-b1ed-1986834153ab\" xlink:actuate=\"onRequest\" xlink:href=\"psysml:986fc1fb-4aef-4106-b1ed-1986834153ab\" xlink:show=\"new\" xlink:title=\"psysml:986fc1fb-4aef-4106-b1ed-1986834153ab\" xlink:type=\"simple\"><polygon fill=\"#FFFFFF\" points=\"16,6,221,6,228,28.2969,231,28.2969,231,298,16,298,16,6\" style=\"stroke: #000000; stroke-width: 1.5;\"/><line style=\"stroke: #000000; stroke-width: 1.5;\" x1=\"16\" x2=\"228\" y1=\"28.2969\" y2=\"28.2969\"/><text fill=\"#000000\" font-family=\"sans-serif\" font-size=\"14\" font-weight=\"bold\" lengthAdjust=\"spacingAndGlyphs\" textLength=\"199\" x=\"20\" y=\"20.9951\">QualifiedNameImportTest</text></a><!--MD5=[e4f7fae6ed58524ba242bb0b0d3be6b7]\n",
       "cluster E2--><a href=\"psysml:372b503a-8716-40b4-8b99-cd3a963555f9\" target=\"_top\" title=\"psysml:372b503a-8716-40b4-8b99-cd3a963555f9\" xlink:actuate=\"onRequest\" xlink:href=\"psysml:372b503a-8716-40b4-8b99-cd3a963555f9\" xlink:show=\"new\" xlink:title=\"psysml:372b503a-8716-40b4-8b99-cd3a963555f9\" xlink:type=\"simple\"><polygon fill=\"#FFFFFF\" points=\"105,177,131,177,138,199.2969,203,199.2969,203,274,105,274,105,177\" style=\"stroke: #000000; stroke-width: 1.5;\"/><line style=\"stroke: #000000; stroke-width: 1.5;\" x1=\"105\" x2=\"138\" y1=\"199.2969\" y2=\"199.2969\"/><text fill=\"#000000\" font-family=\"sans-serif\" font-size=\"14\" font-weight=\"bold\" lengthAdjust=\"spacingAndGlyphs\" textLength=\"20\" x=\"109\" y=\"191.9951\">P1</text></a><!--MD5=[f6df4d0ebaf0b5dfb2ced0ae5af7c670]\n",
       "cluster E4--><a href=\"psysml:ae810913-1289-4b59-a95a-360ad08f1101\" target=\"_top\" title=\"psysml:ae810913-1289-4b59-a95a-360ad08f1101\" xlink:actuate=\"onRequest\" xlink:href=\"psysml:ae810913-1289-4b59-a95a-360ad08f1101\" xlink:show=\"new\" xlink:title=\"psysml:ae810913-1289-4b59-a95a-360ad08f1101\" xlink:type=\"simple\"><polygon fill=\"#FFFFFF\" points=\"44,49,70,49,77,71.2969,203,71.2969,203,153,44,153,44,49\" style=\"stroke: #000000; stroke-width: 1.5;\"/><line style=\"stroke: #000000; stroke-width: 1.5;\" x1=\"44\" x2=\"77\" y1=\"71.2969\" y2=\"71.2969\"/><text fill=\"#000000\" font-family=\"sans-serif\" font-size=\"14\" font-weight=\"bold\" lengthAdjust=\"spacingAndGlyphs\" textLength=\"20\" x=\"48\" y=\"63.9951\">P2</text></a><!--MD5=[09b614a08d8cba4a07c9adeb5e0fee81]\n",
       "class E3--><a href=\"psysml:d5e28260-c8b5-4b29-a8f8-2a36a510faa1\" target=\"_top\" title=\"psysml:d5e28260-c8b5-4b29-a8f8-2a36a510faa1\" xlink:actuate=\"onRequest\" xlink:href=\"psysml:d5e28260-c8b5-4b29-a8f8-2a36a510faa1\" xlink:show=\"new\" xlink:title=\"psysml:d5e28260-c8b5-4b29-a8f8-2a36a510faa1\" xlink:type=\"simple\"><rect fill=\"#FFFFFF\" height=\"45.9375\" id=\"E3\" style=\"stroke: #383838; stroke-width: 1.5;\" width=\"66\" x=\"121\" y=\"212\"/><text fill=\"#000000\" font-family=\"sans-serif\" font-size=\"12\" font-style=\"italic\" lengthAdjust=\"spacingAndGlyphs\" textLength=\"64\" x=\"122\" y=\"228.1387\">«part def»</text><text fill=\"#000000\" font-family=\"sans-serif\" font-size=\"12\" lengthAdjust=\"spacingAndGlyphs\" textLength=\"8\" x=\"150\" y=\"242.1074\">A</text><line style=\"stroke: #383838; stroke-width: 1.5;\" x1=\"122\" x2=\"186\" y1=\"249.9375\" y2=\"249.9375\"/></a><!--MD5=[60a26617385b1d2d0262a64233df1f8d]\n",
       "class E6--><a href=\"psysml:9546b5bf-a121-430a-b785-22b0f3c788bb\" target=\"_top\" title=\"psysml:9546b5bf-a121-430a-b785-22b0f3c788bb\" xlink:actuate=\"onRequest\" xlink:href=\"psysml:9546b5bf-a121-430a-b785-22b0f3c788bb\" xlink:show=\"new\" xlink:title=\"psysml:9546b5bf-a121-430a-b785-22b0f3c788bb\" xlink:type=\"simple\"><rect fill=\"#FFFFFF\" height=\"45.9375\" id=\"E6\" rx=\"10\" ry=\"10\" style=\"stroke: #383838; stroke-width: 1.5;\" width=\"42\" x=\"145\" y=\"87.5\"/><text fill=\"#000000\" font-family=\"sans-serif\" font-size=\"12\" font-style=\"italic\" lengthAdjust=\"spacingAndGlyphs\" textLength=\"40\" x=\"146\" y=\"103.6387\">«part»</text><text fill=\"#000000\" font-family=\"sans-serif\" font-size=\"12\" lengthAdjust=\"spacingAndGlyphs\" textLength=\"22\" x=\"155\" y=\"117.6074\">x: A</text><line style=\"stroke: #383838; stroke-width: 1.5;\" x1=\"146\" x2=\"186\" y1=\"125.4375\" y2=\"125.4375\"/></a><a href=\"psysml:b96f1ba5-fc32-4046-b5fe-7b623c9bf90c\" target=\"_top\" title=\"psysml:b96f1ba5-fc32-4046-b5fe-7b623c9bf90c\" xlink:actuate=\"onRequest\" xlink:href=\"psysml:b96f1ba5-fc32-4046-b5fe-7b623c9bf90c\" xlink:show=\"new\" xlink:title=\"psysml:b96f1ba5-fc32-4046-b5fe-7b623c9bf90c\" xlink:type=\"simple\"><polygon fill=\"#FFFFFF\" points=\"60.5,84,95.5,84,102.5,106.2969,109.5,106.2969,109.5,136.5938,60.5,136.5938,60.5,84\" style=\"stroke: #000000; stroke-width: 1.5;\"/><line style=\"stroke: #000000; stroke-width: 1.5;\" x1=\"60.5\" x2=\"102.5\" y1=\"106.2969\" y2=\"106.2969\"/><text fill=\"#000000\" font-family=\"sans-serif\" font-size=\"14\" font-weight=\"bold\" lengthAdjust=\"spacingAndGlyphs\" textLength=\"29\" x=\"64.5\" y=\"98.9951\">P2a</text></a><!--MD5=[a717450b82c80b9240a525fa862496af]\n",
       "link E6 to E3--><a href=\"psysml:4aa795d2-d8a8-4fd3-b09b-984289b8e469\" target=\"_top\" title=\"psysml:4aa795d2-d8a8-4fd3-b09b-984289b8e469\" xlink:actuate=\"onRequest\" xlink:href=\"psysml:4aa795d2-d8a8-4fd3-b09b-984289b8e469\" xlink:show=\"new\" xlink:title=\"psysml:4aa795d2-d8a8-4fd3-b09b-984289b8e469\" xlink:type=\"simple\"><path d=\"M163.83,133.68 C162.24,149.9 160.04,172.39 158.12,191.96 \" fill=\"none\" id=\"E6-&gt;E3\" style=\"stroke: #383838; stroke-width: 1.0;\"/><polygon fill=\"#FFFFFF\" points=\"156.16,211.98,151.0533,192.3861,164.986,193.7564,156.16,211.98\" style=\"stroke: #383838; stroke-width: 1.0;\"/><ellipse cx=\"153.6016\" cy=\"186.9092\" fill=\"#383838\" rx=\"2\" ry=\"2\" style=\"stroke: #383838; stroke-width: 1.0;\"/><ellipse cx=\"163.5535\" cy=\"187.888\" fill=\"#383838\" rx=\"2\" ry=\"2\" style=\"stroke: #383838; stroke-width: 1.0;\"/></a><!--MD5=[db44392c33f6acff0aea09b547e940ac]\n",
       "@startuml\r\n",
       "skinparam linetype polyline\r\n",
       "skinparam monochrome true\r\n",
       "skinparam classbackgroundcolor white\r\n",
       "skinparam shadowing false\r\n",
       "skinparam wrapWidth 300\r\n",
       "hide circle\r\n",
       "\r\n",
       "package \"QualifiedNameImportTest\" as E1  [[psysml:986fc1fb-4aef-4106-b1ed-1986834153ab ]]  {\r\n",
       "package \"P1\" as E2  [[psysml:372b503a-8716-40b4-8b99-cd3a963555f9 ]]  {\r\n",
       "comp def \"A\" as E3  <<(T,blue)part def>> [[psysml:d5e28260-c8b5-4b29-a8f8-2a36a510faa1 ]] {\r\n",
       "}\r\n",
       "}\r\n",
       "package \"P2\" as E4  [[psysml:ae810913-1289-4b59-a95a-360ad08f1101 ]]  {\r\n",
       "package \"P2a\" as E5  [[psysml:b96f1ba5-fc32-4046-b5fe-7b623c9bf90c ]]  {\r\n",
       "}\r\n",
       "comp usage \"x: A\" as E6  <<(T,blue)part>> [[psysml:9546b5bf-a121-430a-b785-22b0f3c788bb ]] {\r\n",
       "}\r\n",
       "E6 - -:|> E3 [[psysml:4aa795d2-d8a8-4fd3-b09b-984289b8e469 ]] \r\n",
       "}\r\n",
       "}\r\n",
       "@enduml\r\n",
       "\n",
       "PlantUML version 1.2020.13(Sat Jun 13 12:26:38 UTC 2020)\n",
       "(EPL source distribution)\n",
       "Java Runtime: OpenJDK Runtime Environment\n",
       "JVM: OpenJDK 64-Bit Server VM\n",
       "Default Encoding: UTF-8\n",
       "Language: en\n",
       "Country: null\n",
       "--></g></svg>"
      ]
     },
     "execution_count": 10,
     "metadata": {},
     "output_type": "execute_result"
    }
   ],
   "source": [
    "%viz --style=\"POLYLINE\" --view=\"Tree\" \"QualifiedNameImportTest\""
   ]
  },
  {
   "cell_type": "code",
   "execution_count": 11,
   "id": "f3b6022a",
   "metadata": {
    "execution": {
     "iopub.execute_input": "2021-04-20T07:02:40.191898Z",
     "iopub.status.busy": "2021-04-20T07:02:40.191025Z",
     "iopub.status.idle": "2021-04-20T07:02:40.197306Z",
     "shell.execute_reply": "2021-04-20T07:02:40.197637Z"
    }
   },
   "outputs": [
    {
     "data": {
      "image/svg+xml": [
       "<?xml version=\"1.0\" encoding=\"UTF-8\" standalone=\"no\"?><svg xmlns=\"http://www.w3.org/2000/svg\" xmlns:xlink=\"http://www.w3.org/1999/xlink\" contentScriptType=\"application/ecmascript\" contentStyleType=\"text/css\" height=\"12px\" preserveAspectRatio=\"none\" style=\"width:12px;height:12px;\" version=\"1.1\" viewBox=\"0 0 12 12\" width=\"12px\" zoomAndPan=\"magnify\"><defs/><g><!--MD5=[896ac0e7a515d8dd7765a661cb4ee08b]\n",
       "@startuml\r\n",
       "skinparam linetype polyline\r\n",
       "skinparam monochrome true\r\n",
       "skinparam classbackgroundcolor white\r\n",
       "skinparam shadowing false\r\n",
       "skinparam wrapWidth 300\r\n",
       "hide circle\r\n",
       "\r\n",
       "@enduml\r\n",
       "\n",
       "PlantUML version 1.2020.13(Sat Jun 13 12:26:38 UTC 2020)\n",
       "(EPL source distribution)\n",
       "Java Runtime: OpenJDK Runtime Environment\n",
       "JVM: OpenJDK 64-Bit Server VM\n",
       "Default Encoding: UTF-8\n",
       "Language: en\n",
       "Country: null\n",
       "--></g></svg>"
      ]
     },
     "execution_count": 11,
     "metadata": {},
     "output_type": "execute_result"
    }
   ],
   "source": [
    "%viz --style=\"POLYLINE\" --view=\"State\" \"QualifiedNameImportTest\""
   ]
  },
  {
   "cell_type": "code",
   "execution_count": 12,
   "id": "4f4ec5c9",
   "metadata": {
    "execution": {
     "iopub.execute_input": "2021-04-20T07:02:40.249428Z",
     "iopub.status.busy": "2021-04-20T07:02:40.248867Z",
     "iopub.status.idle": "2021-04-20T07:02:40.283363Z",
     "shell.execute_reply": "2021-04-20T07:02:40.282183Z"
    }
   },
   "outputs": [
    {
     "data": {
      "image/svg+xml": [
       "<?xml version=\"1.0\" encoding=\"UTF-8\" standalone=\"no\"?><svg xmlns=\"http://www.w3.org/2000/svg\" xmlns:xlink=\"http://www.w3.org/1999/xlink\" contentScriptType=\"application/ecmascript\" contentStyleType=\"text/css\" height=\"189px\" preserveAspectRatio=\"none\" style=\"width:381px;height:189px;\" version=\"1.1\" viewBox=\"0 0 381 189\" width=\"381px\" zoomAndPan=\"magnify\"><defs/><g><!--MD5=[fbc87193dbaf4d95561dea2c320d4a47]\n",
       "cluster E1--><a href=\"psysml:986fc1fb-4aef-4106-b1ed-1986834153ab\" target=\"_top\" title=\"psysml:986fc1fb-4aef-4106-b1ed-1986834153ab\" xlink:actuate=\"onRequest\" xlink:href=\"psysml:986fc1fb-4aef-4106-b1ed-1986834153ab\" xlink:show=\"new\" xlink:title=\"psysml:986fc1fb-4aef-4106-b1ed-1986834153ab\" xlink:type=\"simple\"><polygon fill=\"#FFFFFF\" points=\"16,6,221,6,228,28.2969,359,28.2969,359,177,16,177,16,6\" style=\"stroke: #000000; stroke-width: 1.5;\"/><line style=\"stroke: #000000; stroke-width: 1.5;\" x1=\"16\" x2=\"228\" y1=\"28.2969\" y2=\"28.2969\"/><text fill=\"#000000\" font-family=\"sans-serif\" font-size=\"14\" font-weight=\"bold\" lengthAdjust=\"spacingAndGlyphs\" textLength=\"199\" x=\"20\" y=\"20.9951\">QualifiedNameImportTest</text></a><!--MD5=[e4f7fae6ed58524ba242bb0b0d3be6b7]\n",
       "cluster E2--><a href=\"psysml:372b503a-8716-40b4-8b99-cd3a963555f9\" target=\"_top\" title=\"psysml:372b503a-8716-40b4-8b99-cd3a963555f9\" xlink:actuate=\"onRequest\" xlink:href=\"psysml:372b503a-8716-40b4-8b99-cd3a963555f9\" xlink:show=\"new\" xlink:title=\"psysml:372b503a-8716-40b4-8b99-cd3a963555f9\" xlink:type=\"simple\"><polygon fill=\"#FFFFFF\" points=\"231,54,257,54,264,76.2969,335,76.2969,335,148,231,148,231,54\" style=\"stroke: #000000; stroke-width: 1.5;\"/><line style=\"stroke: #000000; stroke-width: 1.5;\" x1=\"231\" x2=\"264\" y1=\"76.2969\" y2=\"76.2969\"/><text fill=\"#000000\" font-family=\"sans-serif\" font-size=\"14\" font-weight=\"bold\" lengthAdjust=\"spacingAndGlyphs\" textLength=\"20\" x=\"235\" y=\"68.9951\">P1</text></a><!--MD5=[f6df4d0ebaf0b5dfb2ced0ae5af7c670]\n",
       "cluster E4--><a href=\"psysml:ae810913-1289-4b59-a95a-360ad08f1101\" target=\"_top\" title=\"psysml:ae810913-1289-4b59-a95a-360ad08f1101\" xlink:actuate=\"onRequest\" xlink:href=\"psysml:ae810913-1289-4b59-a95a-360ad08f1101\" xlink:show=\"new\" xlink:title=\"psysml:ae810913-1289-4b59-a95a-360ad08f1101\" xlink:type=\"simple\"><polygon fill=\"#FFFFFF\" points=\"40,49,66,49,73,71.2969,207,71.2969,207,153,40,153,40,49\" style=\"stroke: #000000; stroke-width: 1.5;\"/><line style=\"stroke: #000000; stroke-width: 1.5;\" x1=\"40\" x2=\"73\" y1=\"71.2969\" y2=\"71.2969\"/><text fill=\"#000000\" font-family=\"sans-serif\" font-size=\"14\" font-weight=\"bold\" lengthAdjust=\"spacingAndGlyphs\" textLength=\"20\" x=\"44\" y=\"63.9951\">P2</text></a><g id=\"E1.E2.E3\"><a href=\"psysml:d5e28260-c8b5-4b29-a8f8-2a36a510faa1\" target=\"_top\" title=\"psysml:d5e28260-c8b5-4b29-a8f8-2a36a510faa1\" xlink:actuate=\"onRequest\" xlink:href=\"psysml:d5e28260-c8b5-4b29-a8f8-2a36a510faa1\" xlink:show=\"new\" xlink:title=\"psysml:d5e28260-c8b5-4b29-a8f8-2a36a510faa1\" xlink:type=\"simple\"><rect fill=\"#FFFFFF\" height=\"42.9375\" id=\"E3\" style=\"stroke: #383838; stroke-width: 1.5;\" width=\"71\" x=\"247.5\" y=\"89\"/><rect fill=\"#F8F8F8\" height=\"37.9375\" style=\"stroke: #383838; stroke-width: 1.5;\" width=\"71\" x=\"247.5\" y=\"89\"/><text fill=\"#000000\" font-family=\"sans-serif\" font-size=\"12\" font-style=\"italic\" lengthAdjust=\"spacingAndGlyphs\" textLength=\"64\" x=\"251\" y=\"105.1387\">«part def»</text><text fill=\"#000000\" font-family=\"sans-serif\" font-size=\"12\" lengthAdjust=\"spacingAndGlyphs\" textLength=\"8\" x=\"279\" y=\"119.1074\">A</text></a></g><a href=\"psysml:b96f1ba5-fc32-4046-b5fe-7b623c9bf90c\" target=\"_top\" title=\"psysml:b96f1ba5-fc32-4046-b5fe-7b623c9bf90c\" xlink:actuate=\"onRequest\" xlink:href=\"psysml:b96f1ba5-fc32-4046-b5fe-7b623c9bf90c\" xlink:show=\"new\" xlink:title=\"psysml:b96f1ba5-fc32-4046-b5fe-7b623c9bf90c\" xlink:type=\"simple\"><polygon fill=\"#FFFFFF\" points=\"141.5,84,176.5,84,183.5,106.2969,190.5,106.2969,190.5,136.5938,141.5,136.5938,141.5,84\" style=\"stroke: #000000; stroke-width: 1.5;\"/><line style=\"stroke: #000000; stroke-width: 1.5;\" x1=\"141.5\" x2=\"183.5\" y1=\"106.2969\" y2=\"106.2969\"/><text fill=\"#000000\" font-family=\"sans-serif\" font-size=\"14\" font-weight=\"bold\" lengthAdjust=\"spacingAndGlyphs\" textLength=\"29\" x=\"145.5\" y=\"98.9951\">P2a</text></a><g id=\"E1.E4.E6\"><a href=\"psysml:9546b5bf-a121-430a-b785-22b0f3c788bb\" target=\"_top\" title=\"psysml:9546b5bf-a121-430a-b785-22b0f3c788bb\" xlink:actuate=\"onRequest\" xlink:href=\"psysml:9546b5bf-a121-430a-b785-22b0f3c788bb\" xlink:show=\"new\" xlink:title=\"psysml:9546b5bf-a121-430a-b785-22b0f3c788bb\" xlink:type=\"simple\"><rect fill=\"#FFFFFF\" height=\"40\" id=\"E6\" rx=\"10\" ry=\"10\" style=\"stroke: #383838; stroke-width: 1.5;\" width=\"50\" x=\"56\" y=\"90.5\"/><rect fill=\"#F8F8F8\" height=\"23.9688\" rx=\"10\" ry=\"10\" style=\"stroke: #F8F8F8; stroke-width: 1.5;\" width=\"50\" x=\"56\" y=\"90.5\"/><rect fill=\"#F8F8F8\" height=\"10\" style=\"stroke: #F8F8F8; stroke-width: 1.5;\" width=\"50\" x=\"56\" y=\"104.4688\"/><rect fill=\"none\" height=\"40\" id=\"E6\" rx=\"10\" ry=\"10\" style=\"stroke: #383838; stroke-width: 1.5;\" width=\"50\" x=\"56\" y=\"90.5\"/><text fill=\"#000000\" font-family=\"sans-serif\" font-size=\"12\" lengthAdjust=\"spacingAndGlyphs\" textLength=\"22\" x=\"70\" y=\"106.6387\">x: A</text></a></g><!--MD5=[7ccf69991c4ba8c33a4111265e7bdfbc]\n",
       "@startuml\r\n",
       "skinparam ranksep 10\r\n",
       "skinparam rectangle {\r\n",
       " backgroundColor<<block>> LightGreen\r\n",
       "}\r\n",
       "skinparam linetype polyline\r\n",
       "skinparam monochrome true\r\n",
       "skinparam classbackgroundcolor white\r\n",
       "skinparam shadowing false\r\n",
       "skinparam wrapWidth 300\r\n",
       "hide circle\r\n",
       "\r\n",
       "package \"QualifiedNameImportTest\" as E1  [[psysml:986fc1fb-4aef-4106-b1ed-1986834153ab ]]  {\r\n",
       "package \"P1\" as E2  [[psysml:372b503a-8716-40b4-8b99-cd3a963555f9 ]]  {\r\n",
       "rec def \"A\" as E3  <<(T,blue)part def>> [[psysml:d5e28260-c8b5-4b29-a8f8-2a36a510faa1 ]] {\r\n",
       "}\r\n",
       "}\r\n",
       "package \"P2\" as E4  [[psysml:ae810913-1289-4b59-a95a-360ad08f1101 ]]  {\r\n",
       "package \"P2a\" as E5  [[psysml:b96f1ba5-fc32-4046-b5fe-7b623c9bf90c ]]  {\r\n",
       "}\r\n",
       "rec usage \"x: A\" as E6  [[psysml:9546b5bf-a121-430a-b785-22b0f3c788bb ]] {\r\n",
       "}\r\n",
       "}\r\n",
       "}\r\n",
       "@enduml\r\n",
       "\n",
       "PlantUML version 1.2020.13(Sat Jun 13 12:26:38 UTC 2020)\n",
       "(EPL source distribution)\n",
       "Java Runtime: OpenJDK Runtime Environment\n",
       "JVM: OpenJDK 64-Bit Server VM\n",
       "Default Encoding: UTF-8\n",
       "Language: en\n",
       "Country: null\n",
       "--></g></svg>"
      ]
     },
     "execution_count": 12,
     "metadata": {},
     "output_type": "execute_result"
    }
   ],
   "source": [
    "%viz --style=\"POLYLINE\" --view=\"Interconnection\" \"QualifiedNameImportTest\""
   ]
  },
  {
   "cell_type": "code",
   "execution_count": 13,
   "id": "ce570a0e",
   "metadata": {
    "execution": {
     "iopub.execute_input": "2021-04-20T07:02:40.336605Z",
     "iopub.status.busy": "2021-04-20T07:02:40.335544Z",
     "iopub.status.idle": "2021-04-20T07:02:40.361187Z",
     "shell.execute_reply": "2021-04-20T07:02:40.352148Z"
    }
   },
   "outputs": [
    {
     "data": {
      "image/svg+xml": [
       "<?xml version=\"1.0\" encoding=\"UTF-8\" standalone=\"no\"?><svg xmlns=\"http://www.w3.org/2000/svg\" xmlns:xlink=\"http://www.w3.org/1999/xlink\" contentScriptType=\"application/ecmascript\" contentStyleType=\"text/css\" height=\"12px\" preserveAspectRatio=\"none\" style=\"width:12px;height:12px;\" version=\"1.1\" viewBox=\"0 0 12 12\" width=\"12px\" zoomAndPan=\"magnify\"><defs/><g><!--MD5=[97bbf32f66ccd50cbc40d92ea8f5a65e]\n",
       "@startuml\r\n",
       "skinparam ranksep 8\r\n",
       "skinparam linetype polyline\r\n",
       "skinparam monochrome true\r\n",
       "skinparam classbackgroundcolor white\r\n",
       "skinparam shadowing false\r\n",
       "skinparam wrapWidth 300\r\n",
       "hide circle\r\n",
       "\r\n",
       "@enduml\r\n",
       "\n",
       "PlantUML version 1.2020.13(Sat Jun 13 12:26:38 UTC 2020)\n",
       "(EPL source distribution)\n",
       "Java Runtime: OpenJDK Runtime Environment\n",
       "JVM: OpenJDK 64-Bit Server VM\n",
       "Default Encoding: UTF-8\n",
       "Language: en\n",
       "Country: null\n",
       "--></g></svg>"
      ]
     },
     "execution_count": 13,
     "metadata": {},
     "output_type": "execute_result"
    }
   ],
   "source": [
    "%viz --style=\"POLYLINE\" --view=\"Action\" \"QualifiedNameImportTest\""
   ]
  },
  {
   "cell_type": "code",
   "execution_count": 14,
   "id": "94c208ba",
   "metadata": {
    "execution": {
     "iopub.execute_input": "2021-04-20T07:02:40.413424Z",
     "iopub.status.busy": "2021-04-20T07:02:40.412676Z",
     "iopub.status.idle": "2021-04-20T07:02:40.457279Z",
     "shell.execute_reply": "2021-04-20T07:02:40.455801Z"
    }
   },
   "outputs": [
    {
     "data": {
      "image/svg+xml": [
       "<?xml version=\"1.0\" encoding=\"UTF-8\" standalone=\"no\"?><svg xmlns=\"http://www.w3.org/2000/svg\" xmlns:xlink=\"http://www.w3.org/1999/xlink\" contentScriptType=\"application/ecmascript\" contentStyleType=\"text/css\" height=\"310px\" preserveAspectRatio=\"none\" style=\"width:253px;height:310px;\" version=\"1.1\" viewBox=\"0 0 253 310\" width=\"253px\" zoomAndPan=\"magnify\"><defs/><g><!--MD5=[fbc87193dbaf4d95561dea2c320d4a47]\n",
       "cluster E1--><a href=\"psysml:986fc1fb-4aef-4106-b1ed-1986834153ab\" target=\"_top\" title=\"psysml:986fc1fb-4aef-4106-b1ed-1986834153ab\" xlink:actuate=\"onRequest\" xlink:href=\"psysml:986fc1fb-4aef-4106-b1ed-1986834153ab\" xlink:show=\"new\" xlink:title=\"psysml:986fc1fb-4aef-4106-b1ed-1986834153ab\" xlink:type=\"simple\"><polygon fill=\"#FFFFFF\" points=\"16,6,221,6,228,28.2969,231,28.2969,231,298,16,298,16,6\" style=\"stroke: #000000; stroke-width: 1.5;\"/><line style=\"stroke: #000000; stroke-width: 1.5;\" x1=\"16\" x2=\"228\" y1=\"28.2969\" y2=\"28.2969\"/><text fill=\"#000000\" font-family=\"sans-serif\" font-size=\"14\" font-weight=\"bold\" lengthAdjust=\"spacingAndGlyphs\" textLength=\"199\" x=\"20\" y=\"20.9951\">QualifiedNameImportTest</text></a><!--MD5=[e4f7fae6ed58524ba242bb0b0d3be6b7]\n",
       "cluster E2--><a href=\"psysml:372b503a-8716-40b4-8b99-cd3a963555f9\" target=\"_top\" title=\"psysml:372b503a-8716-40b4-8b99-cd3a963555f9\" xlink:actuate=\"onRequest\" xlink:href=\"psysml:372b503a-8716-40b4-8b99-cd3a963555f9\" xlink:show=\"new\" xlink:title=\"psysml:372b503a-8716-40b4-8b99-cd3a963555f9\" xlink:type=\"simple\"><polygon fill=\"#FFFFFF\" points=\"105,177,131,177,138,199.2969,203,199.2969,203,274,105,274,105,177\" style=\"stroke: #000000; stroke-width: 1.5;\"/><line style=\"stroke: #000000; stroke-width: 1.5;\" x1=\"105\" x2=\"138\" y1=\"199.2969\" y2=\"199.2969\"/><text fill=\"#000000\" font-family=\"sans-serif\" font-size=\"14\" font-weight=\"bold\" lengthAdjust=\"spacingAndGlyphs\" textLength=\"20\" x=\"109\" y=\"191.9951\">P1</text></a><!--MD5=[f6df4d0ebaf0b5dfb2ced0ae5af7c670]\n",
       "cluster E4--><a href=\"psysml:ae810913-1289-4b59-a95a-360ad08f1101\" target=\"_top\" title=\"psysml:ae810913-1289-4b59-a95a-360ad08f1101\" xlink:actuate=\"onRequest\" xlink:href=\"psysml:ae810913-1289-4b59-a95a-360ad08f1101\" xlink:show=\"new\" xlink:title=\"psysml:ae810913-1289-4b59-a95a-360ad08f1101\" xlink:type=\"simple\"><polygon fill=\"#FFFFFF\" points=\"44,49,70,49,77,71.2969,203,71.2969,203,153,44,153,44,49\" style=\"stroke: #000000; stroke-width: 1.5;\"/><line style=\"stroke: #000000; stroke-width: 1.5;\" x1=\"44\" x2=\"77\" y1=\"71.2969\" y2=\"71.2969\"/><text fill=\"#000000\" font-family=\"sans-serif\" font-size=\"14\" font-weight=\"bold\" lengthAdjust=\"spacingAndGlyphs\" textLength=\"20\" x=\"48\" y=\"63.9951\">P2</text></a><!--MD5=[09b614a08d8cba4a07c9adeb5e0fee81]\n",
       "class E3--><a href=\"psysml:d5e28260-c8b5-4b29-a8f8-2a36a510faa1\" target=\"_top\" title=\"psysml:d5e28260-c8b5-4b29-a8f8-2a36a510faa1\" xlink:actuate=\"onRequest\" xlink:href=\"psysml:d5e28260-c8b5-4b29-a8f8-2a36a510faa1\" xlink:show=\"new\" xlink:title=\"psysml:d5e28260-c8b5-4b29-a8f8-2a36a510faa1\" xlink:type=\"simple\"><rect fill=\"#FFFFFF\" height=\"45.9375\" id=\"E3\" style=\"stroke: #383838; stroke-width: 1.5;\" width=\"66\" x=\"121\" y=\"212\"/><text fill=\"#000000\" font-family=\"sans-serif\" font-size=\"12\" font-style=\"italic\" lengthAdjust=\"spacingAndGlyphs\" textLength=\"64\" x=\"122\" y=\"228.1387\">«part def»</text><text fill=\"#000000\" font-family=\"sans-serif\" font-size=\"12\" lengthAdjust=\"spacingAndGlyphs\" textLength=\"8\" x=\"150\" y=\"242.1074\">A</text><line style=\"stroke: #383838; stroke-width: 1.5;\" x1=\"122\" x2=\"186\" y1=\"249.9375\" y2=\"249.9375\"/></a><!--MD5=[60a26617385b1d2d0262a64233df1f8d]\n",
       "class E6--><a href=\"psysml:9546b5bf-a121-430a-b785-22b0f3c788bb\" target=\"_top\" title=\"psysml:9546b5bf-a121-430a-b785-22b0f3c788bb\" xlink:actuate=\"onRequest\" xlink:href=\"psysml:9546b5bf-a121-430a-b785-22b0f3c788bb\" xlink:show=\"new\" xlink:title=\"psysml:9546b5bf-a121-430a-b785-22b0f3c788bb\" xlink:type=\"simple\"><rect fill=\"#FFFFFF\" height=\"45.9375\" id=\"E6\" rx=\"10\" ry=\"10\" style=\"stroke: #383838; stroke-width: 1.5;\" width=\"42\" x=\"145\" y=\"87.5\"/><text fill=\"#000000\" font-family=\"sans-serif\" font-size=\"12\" font-style=\"italic\" lengthAdjust=\"spacingAndGlyphs\" textLength=\"40\" x=\"146\" y=\"103.6387\">«part»</text><text fill=\"#000000\" font-family=\"sans-serif\" font-size=\"12\" lengthAdjust=\"spacingAndGlyphs\" textLength=\"22\" x=\"155\" y=\"117.6074\">x: A</text><line style=\"stroke: #383838; stroke-width: 1.5;\" x1=\"146\" x2=\"186\" y1=\"125.4375\" y2=\"125.4375\"/></a><a href=\"psysml:b96f1ba5-fc32-4046-b5fe-7b623c9bf90c\" target=\"_top\" title=\"psysml:b96f1ba5-fc32-4046-b5fe-7b623c9bf90c\" xlink:actuate=\"onRequest\" xlink:href=\"psysml:b96f1ba5-fc32-4046-b5fe-7b623c9bf90c\" xlink:show=\"new\" xlink:title=\"psysml:b96f1ba5-fc32-4046-b5fe-7b623c9bf90c\" xlink:type=\"simple\"><polygon fill=\"#FFFFFF\" points=\"60.5,84,95.5,84,102.5,106.2969,109.5,106.2969,109.5,136.5938,60.5,136.5938,60.5,84\" style=\"stroke: #000000; stroke-width: 1.5;\"/><line style=\"stroke: #000000; stroke-width: 1.5;\" x1=\"60.5\" x2=\"102.5\" y1=\"106.2969\" y2=\"106.2969\"/><text fill=\"#000000\" font-family=\"sans-serif\" font-size=\"14\" font-weight=\"bold\" lengthAdjust=\"spacingAndGlyphs\" textLength=\"29\" x=\"64.5\" y=\"98.9951\">P2a</text></a><!--MD5=[a717450b82c80b9240a525fa862496af]\n",
       "link E6 to E3--><a href=\"psysml:4aa795d2-d8a8-4fd3-b09b-984289b8e469\" target=\"_top\" title=\"psysml:4aa795d2-d8a8-4fd3-b09b-984289b8e469\" xlink:actuate=\"onRequest\" xlink:href=\"psysml:4aa795d2-d8a8-4fd3-b09b-984289b8e469\" xlink:show=\"new\" xlink:title=\"psysml:4aa795d2-d8a8-4fd3-b09b-984289b8e469\" xlink:type=\"simple\"><path d=\"M163.83,133.68 C162.24,149.9 160.04,172.39 158.12,191.96 \" fill=\"none\" id=\"E6-&gt;E3\" style=\"stroke: #383838; stroke-width: 1.0;\"/><polygon fill=\"#FFFFFF\" points=\"156.16,211.98,151.0533,192.3861,164.986,193.7564,156.16,211.98\" style=\"stroke: #383838; stroke-width: 1.0;\"/><ellipse cx=\"153.6016\" cy=\"186.9092\" fill=\"#383838\" rx=\"2\" ry=\"2\" style=\"stroke: #383838; stroke-width: 1.0;\"/><ellipse cx=\"163.5535\" cy=\"187.888\" fill=\"#383838\" rx=\"2\" ry=\"2\" style=\"stroke: #383838; stroke-width: 1.0;\"/></a><!--MD5=[db44392c33f6acff0aea09b547e940ac]\n",
       "@startuml\r\n",
       "skinparam linetype polyline\r\n",
       "skinparam monochrome true\r\n",
       "skinparam classbackgroundcolor white\r\n",
       "skinparam shadowing false\r\n",
       "skinparam wrapWidth 300\r\n",
       "hide circle\r\n",
       "\r\n",
       "package \"QualifiedNameImportTest\" as E1  [[psysml:986fc1fb-4aef-4106-b1ed-1986834153ab ]]  {\r\n",
       "package \"P1\" as E2  [[psysml:372b503a-8716-40b4-8b99-cd3a963555f9 ]]  {\r\n",
       "comp def \"A\" as E3  <<(T,blue)part def>> [[psysml:d5e28260-c8b5-4b29-a8f8-2a36a510faa1 ]] {\r\n",
       "}\r\n",
       "}\r\n",
       "package \"P2\" as E4  [[psysml:ae810913-1289-4b59-a95a-360ad08f1101 ]]  {\r\n",
       "package \"P2a\" as E5  [[psysml:b96f1ba5-fc32-4046-b5fe-7b623c9bf90c ]]  {\r\n",
       "}\r\n",
       "comp usage \"x: A\" as E6  <<(T,blue)part>> [[psysml:9546b5bf-a121-430a-b785-22b0f3c788bb ]] {\r\n",
       "}\r\n",
       "E6 - -:|> E3 [[psysml:4aa795d2-d8a8-4fd3-b09b-984289b8e469 ]] \r\n",
       "}\r\n",
       "}\r\n",
       "@enduml\r\n",
       "\n",
       "PlantUML version 1.2020.13(Sat Jun 13 12:26:38 UTC 2020)\n",
       "(EPL source distribution)\n",
       "Java Runtime: OpenJDK Runtime Environment\n",
       "JVM: OpenJDK 64-Bit Server VM\n",
       "Default Encoding: UTF-8\n",
       "Language: en\n",
       "Country: null\n",
       "--></g></svg>"
      ]
     },
     "execution_count": 14,
     "metadata": {},
     "output_type": "execute_result"
    }
   ],
   "source": [
    "%viz --style=\"POLYLINE\" --view=\"Sequence\" \"QualifiedNameImportTest\""
   ]
  },
  {
   "cell_type": "code",
   "execution_count": 15,
   "id": "4b2c2b17",
   "metadata": {
    "execution": {
     "iopub.execute_input": "2021-04-20T07:02:40.507886Z",
     "iopub.status.busy": "2021-04-20T07:02:40.507357Z",
     "iopub.status.idle": "2021-04-20T07:02:40.549731Z",
     "shell.execute_reply": "2021-04-20T07:02:40.548385Z"
    }
   },
   "outputs": [
    {
     "data": {
      "image/svg+xml": [
       "<?xml version=\"1.0\" encoding=\"UTF-8\" standalone=\"no\"?><svg xmlns=\"http://www.w3.org/2000/svg\" xmlns:xlink=\"http://www.w3.org/1999/xlink\" contentScriptType=\"application/ecmascript\" contentStyleType=\"text/css\" height=\"310px\" preserveAspectRatio=\"none\" style=\"width:253px;height:310px;\" version=\"1.1\" viewBox=\"0 0 253 310\" width=\"253px\" zoomAndPan=\"magnify\"><defs/><g><!--MD5=[fbc87193dbaf4d95561dea2c320d4a47]\n",
       "cluster E1--><a href=\"psysml:986fc1fb-4aef-4106-b1ed-1986834153ab\" target=\"_top\" title=\"psysml:986fc1fb-4aef-4106-b1ed-1986834153ab\" xlink:actuate=\"onRequest\" xlink:href=\"psysml:986fc1fb-4aef-4106-b1ed-1986834153ab\" xlink:show=\"new\" xlink:title=\"psysml:986fc1fb-4aef-4106-b1ed-1986834153ab\" xlink:type=\"simple\"><polygon fill=\"#FFFFFF\" points=\"16,6,221,6,228,28.2969,231,28.2969,231,298,16,298,16,6\" style=\"stroke: #000000; stroke-width: 1.5;\"/><line style=\"stroke: #000000; stroke-width: 1.5;\" x1=\"16\" x2=\"228\" y1=\"28.2969\" y2=\"28.2969\"/><text fill=\"#000000\" font-family=\"sans-serif\" font-size=\"14\" font-weight=\"bold\" lengthAdjust=\"spacingAndGlyphs\" textLength=\"199\" x=\"20\" y=\"20.9951\">QualifiedNameImportTest</text></a><!--MD5=[e4f7fae6ed58524ba242bb0b0d3be6b7]\n",
       "cluster E2--><a href=\"psysml:372b503a-8716-40b4-8b99-cd3a963555f9\" target=\"_top\" title=\"psysml:372b503a-8716-40b4-8b99-cd3a963555f9\" xlink:actuate=\"onRequest\" xlink:href=\"psysml:372b503a-8716-40b4-8b99-cd3a963555f9\" xlink:show=\"new\" xlink:title=\"psysml:372b503a-8716-40b4-8b99-cd3a963555f9\" xlink:type=\"simple\"><polygon fill=\"#FFFFFF\" points=\"105,177,131,177,138,199.2969,203,199.2969,203,274,105,274,105,177\" style=\"stroke: #000000; stroke-width: 1.5;\"/><line style=\"stroke: #000000; stroke-width: 1.5;\" x1=\"105\" x2=\"138\" y1=\"199.2969\" y2=\"199.2969\"/><text fill=\"#000000\" font-family=\"sans-serif\" font-size=\"14\" font-weight=\"bold\" lengthAdjust=\"spacingAndGlyphs\" textLength=\"20\" x=\"109\" y=\"191.9951\">P1</text></a><!--MD5=[f6df4d0ebaf0b5dfb2ced0ae5af7c670]\n",
       "cluster E4--><a href=\"psysml:ae810913-1289-4b59-a95a-360ad08f1101\" target=\"_top\" title=\"psysml:ae810913-1289-4b59-a95a-360ad08f1101\" xlink:actuate=\"onRequest\" xlink:href=\"psysml:ae810913-1289-4b59-a95a-360ad08f1101\" xlink:show=\"new\" xlink:title=\"psysml:ae810913-1289-4b59-a95a-360ad08f1101\" xlink:type=\"simple\"><polygon fill=\"#FFFFFF\" points=\"44,49,70,49,77,71.2969,203,71.2969,203,153,44,153,44,49\" style=\"stroke: #000000; stroke-width: 1.5;\"/><line style=\"stroke: #000000; stroke-width: 1.5;\" x1=\"44\" x2=\"77\" y1=\"71.2969\" y2=\"71.2969\"/><text fill=\"#000000\" font-family=\"sans-serif\" font-size=\"14\" font-weight=\"bold\" lengthAdjust=\"spacingAndGlyphs\" textLength=\"20\" x=\"48\" y=\"63.9951\">P2</text></a><!--MD5=[09b614a08d8cba4a07c9adeb5e0fee81]\n",
       "class E3--><a href=\"psysml:d5e28260-c8b5-4b29-a8f8-2a36a510faa1\" target=\"_top\" title=\"psysml:d5e28260-c8b5-4b29-a8f8-2a36a510faa1\" xlink:actuate=\"onRequest\" xlink:href=\"psysml:d5e28260-c8b5-4b29-a8f8-2a36a510faa1\" xlink:show=\"new\" xlink:title=\"psysml:d5e28260-c8b5-4b29-a8f8-2a36a510faa1\" xlink:type=\"simple\"><rect fill=\"#FFFFFF\" height=\"45.9375\" id=\"E3\" style=\"stroke: #383838; stroke-width: 1.5;\" width=\"66\" x=\"121\" y=\"212\"/><text fill=\"#000000\" font-family=\"sans-serif\" font-size=\"12\" font-style=\"italic\" lengthAdjust=\"spacingAndGlyphs\" textLength=\"64\" x=\"122\" y=\"228.1387\">«part def»</text><text fill=\"#000000\" font-family=\"sans-serif\" font-size=\"12\" lengthAdjust=\"spacingAndGlyphs\" textLength=\"8\" x=\"150\" y=\"242.1074\">A</text><line style=\"stroke: #383838; stroke-width: 1.5;\" x1=\"122\" x2=\"186\" y1=\"249.9375\" y2=\"249.9375\"/></a><!--MD5=[60a26617385b1d2d0262a64233df1f8d]\n",
       "class E6--><a href=\"psysml:9546b5bf-a121-430a-b785-22b0f3c788bb\" target=\"_top\" title=\"psysml:9546b5bf-a121-430a-b785-22b0f3c788bb\" xlink:actuate=\"onRequest\" xlink:href=\"psysml:9546b5bf-a121-430a-b785-22b0f3c788bb\" xlink:show=\"new\" xlink:title=\"psysml:9546b5bf-a121-430a-b785-22b0f3c788bb\" xlink:type=\"simple\"><rect fill=\"#FFFFFF\" height=\"45.9375\" id=\"E6\" rx=\"10\" ry=\"10\" style=\"stroke: #383838; stroke-width: 1.5;\" width=\"42\" x=\"145\" y=\"87.5\"/><text fill=\"#000000\" font-family=\"sans-serif\" font-size=\"12\" font-style=\"italic\" lengthAdjust=\"spacingAndGlyphs\" textLength=\"40\" x=\"146\" y=\"103.6387\">«part»</text><text fill=\"#000000\" font-family=\"sans-serif\" font-size=\"12\" lengthAdjust=\"spacingAndGlyphs\" textLength=\"22\" x=\"155\" y=\"117.6074\">x: A</text><line style=\"stroke: #383838; stroke-width: 1.5;\" x1=\"146\" x2=\"186\" y1=\"125.4375\" y2=\"125.4375\"/></a><a href=\"psysml:b96f1ba5-fc32-4046-b5fe-7b623c9bf90c\" target=\"_top\" title=\"psysml:b96f1ba5-fc32-4046-b5fe-7b623c9bf90c\" xlink:actuate=\"onRequest\" xlink:href=\"psysml:b96f1ba5-fc32-4046-b5fe-7b623c9bf90c\" xlink:show=\"new\" xlink:title=\"psysml:b96f1ba5-fc32-4046-b5fe-7b623c9bf90c\" xlink:type=\"simple\"><polygon fill=\"#FFFFFF\" points=\"60.5,84,95.5,84,102.5,106.2969,109.5,106.2969,109.5,136.5938,60.5,136.5938,60.5,84\" style=\"stroke: #000000; stroke-width: 1.5;\"/><line style=\"stroke: #000000; stroke-width: 1.5;\" x1=\"60.5\" x2=\"102.5\" y1=\"106.2969\" y2=\"106.2969\"/><text fill=\"#000000\" font-family=\"sans-serif\" font-size=\"14\" font-weight=\"bold\" lengthAdjust=\"spacingAndGlyphs\" textLength=\"29\" x=\"64.5\" y=\"98.9951\">P2a</text></a><!--MD5=[a717450b82c80b9240a525fa862496af]\n",
       "link E6 to E3--><a href=\"psysml:4aa795d2-d8a8-4fd3-b09b-984289b8e469\" target=\"_top\" title=\"psysml:4aa795d2-d8a8-4fd3-b09b-984289b8e469\" xlink:actuate=\"onRequest\" xlink:href=\"psysml:4aa795d2-d8a8-4fd3-b09b-984289b8e469\" xlink:show=\"new\" xlink:title=\"psysml:4aa795d2-d8a8-4fd3-b09b-984289b8e469\" xlink:type=\"simple\"><path d=\"M163.83,133.68 C162.24,149.9 160.04,172.39 158.12,191.96 \" fill=\"none\" id=\"E6-&gt;E3\" style=\"stroke: #383838; stroke-width: 1.0;\"/><polygon fill=\"#FFFFFF\" points=\"156.16,211.98,151.0533,192.3861,164.986,193.7564,156.16,211.98\" style=\"stroke: #383838; stroke-width: 1.0;\"/><ellipse cx=\"153.6016\" cy=\"186.9092\" fill=\"#383838\" rx=\"2\" ry=\"2\" style=\"stroke: #383838; stroke-width: 1.0;\"/><ellipse cx=\"163.5535\" cy=\"187.888\" fill=\"#383838\" rx=\"2\" ry=\"2\" style=\"stroke: #383838; stroke-width: 1.0;\"/></a><!--MD5=[db44392c33f6acff0aea09b547e940ac]\n",
       "@startuml\r\n",
       "skinparam linetype polyline\r\n",
       "skinparam monochrome true\r\n",
       "skinparam classbackgroundcolor white\r\n",
       "skinparam shadowing false\r\n",
       "skinparam wrapWidth 300\r\n",
       "hide circle\r\n",
       "\r\n",
       "package \"QualifiedNameImportTest\" as E1  [[psysml:986fc1fb-4aef-4106-b1ed-1986834153ab ]]  {\r\n",
       "package \"P1\" as E2  [[psysml:372b503a-8716-40b4-8b99-cd3a963555f9 ]]  {\r\n",
       "comp def \"A\" as E3  <<(T,blue)part def>> [[psysml:d5e28260-c8b5-4b29-a8f8-2a36a510faa1 ]] {\r\n",
       "}\r\n",
       "}\r\n",
       "package \"P2\" as E4  [[psysml:ae810913-1289-4b59-a95a-360ad08f1101 ]]  {\r\n",
       "package \"P2a\" as E5  [[psysml:b96f1ba5-fc32-4046-b5fe-7b623c9bf90c ]]  {\r\n",
       "}\r\n",
       "comp usage \"x: A\" as E6  <<(T,blue)part>> [[psysml:9546b5bf-a121-430a-b785-22b0f3c788bb ]] {\r\n",
       "}\r\n",
       "E6 - -:|> E3 [[psysml:4aa795d2-d8a8-4fd3-b09b-984289b8e469 ]] \r\n",
       "}\r\n",
       "}\r\n",
       "@enduml\r\n",
       "\n",
       "PlantUML version 1.2020.13(Sat Jun 13 12:26:38 UTC 2020)\n",
       "(EPL source distribution)\n",
       "Java Runtime: OpenJDK Runtime Environment\n",
       "JVM: OpenJDK 64-Bit Server VM\n",
       "Default Encoding: UTF-8\n",
       "Language: en\n",
       "Country: null\n",
       "--></g></svg>"
      ]
     },
     "execution_count": 15,
     "metadata": {},
     "output_type": "execute_result"
    }
   ],
   "source": [
    "%viz --style=\"POLYLINE\" --view=\"MIXED\" \"QualifiedNameImportTest\""
   ]
  },
  {
   "cell_type": "code",
   "execution_count": 16,
   "id": "dc886967",
   "metadata": {
    "execution": {
     "iopub.execute_input": "2021-04-20T07:02:40.602565Z",
     "iopub.status.busy": "2021-04-20T07:02:40.601893Z",
     "iopub.status.idle": "2021-04-20T07:02:40.639437Z",
     "shell.execute_reply": "2021-04-20T07:02:40.638097Z"
    }
   },
   "outputs": [
    {
     "data": {
      "image/svg+xml": [
       "<?xml version=\"1.0\" encoding=\"UTF-8\" standalone=\"no\"?><svg xmlns=\"http://www.w3.org/2000/svg\" xmlns:xlink=\"http://www.w3.org/1999/xlink\" contentScriptType=\"application/ecmascript\" contentStyleType=\"text/css\" height=\"271px\" preserveAspectRatio=\"none\" style=\"width:293px;height:271px;\" version=\"1.1\" viewBox=\"0 0 293 271\" width=\"293px\" zoomAndPan=\"magnify\"><defs/><g><!--MD5=[fbc87193dbaf4d95561dea2c320d4a47]\n",
       "cluster E1--><a href=\"psysml:986fc1fb-4aef-4106-b1ed-1986834153ab\" target=\"_top\" title=\"psysml:986fc1fb-4aef-4106-b1ed-1986834153ab\" xlink:actuate=\"onRequest\" xlink:href=\"psysml:986fc1fb-4aef-4106-b1ed-1986834153ab\" xlink:show=\"new\" xlink:title=\"psysml:986fc1fb-4aef-4106-b1ed-1986834153ab\" xlink:type=\"simple\"><polygon fill=\"#FFFFFF\" points=\"16,6,221,6,228,28.2969,271,28.2969,271,259,16,259,16,6\" style=\"stroke: #000000; stroke-width: 1.5;\"/><line style=\"stroke: #000000; stroke-width: 1.5;\" x1=\"16\" x2=\"228\" y1=\"28.2969\" y2=\"28.2969\"/><text fill=\"#000000\" font-family=\"sans-serif\" font-size=\"14\" font-weight=\"bold\" lengthAdjust=\"spacingAndGlyphs\" textLength=\"199\" x=\"20\" y=\"20.9951\">QualifiedNameImportTest</text></a><!--MD5=[e4f7fae6ed58524ba242bb0b0d3be6b7]\n",
       "cluster E2--><a href=\"psysml:372b503a-8716-40b4-8b99-cd3a963555f9\" target=\"_top\" title=\"psysml:372b503a-8716-40b4-8b99-cd3a963555f9\" xlink:actuate=\"onRequest\" xlink:href=\"psysml:372b503a-8716-40b4-8b99-cd3a963555f9\" xlink:show=\"new\" xlink:title=\"psysml:372b503a-8716-40b4-8b99-cd3a963555f9\" xlink:type=\"simple\"><polygon fill=\"#FFFFFF\" points=\"149,49,175,49,182,71.2969,247,71.2969,247,146,149,146,149,49\" style=\"stroke: #000000; stroke-width: 1.5;\"/><line style=\"stroke: #000000; stroke-width: 1.5;\" x1=\"149\" x2=\"182\" y1=\"71.2969\" y2=\"71.2969\"/><text fill=\"#000000\" font-family=\"sans-serif\" font-size=\"14\" font-weight=\"bold\" lengthAdjust=\"spacingAndGlyphs\" textLength=\"20\" x=\"153\" y=\"63.9951\">P1</text></a><!--MD5=[f6df4d0ebaf0b5dfb2ced0ae5af7c670]\n",
       "cluster E4--><a href=\"psysml:ae810913-1289-4b59-a95a-360ad08f1101\" target=\"_top\" title=\"psysml:ae810913-1289-4b59-a95a-360ad08f1101\" xlink:actuate=\"onRequest\" xlink:href=\"psysml:ae810913-1289-4b59-a95a-360ad08f1101\" xlink:show=\"new\" xlink:title=\"psysml:ae810913-1289-4b59-a95a-360ad08f1101\" xlink:type=\"simple\"><polygon fill=\"#FFFFFF\" points=\"40,49,66,49,73,71.2969,121,71.2969,121,235,40,235,40,49\" style=\"stroke: #000000; stroke-width: 1.5;\"/><line style=\"stroke: #000000; stroke-width: 1.5;\" x1=\"40\" x2=\"73\" y1=\"71.2969\" y2=\"71.2969\"/><text fill=\"#000000\" font-family=\"sans-serif\" font-size=\"14\" font-weight=\"bold\" lengthAdjust=\"spacingAndGlyphs\" textLength=\"20\" x=\"44\" y=\"63.9951\">P2</text></a><!--MD5=[09b614a08d8cba4a07c9adeb5e0fee81]\n",
       "class E3--><a href=\"psysml:d5e28260-c8b5-4b29-a8f8-2a36a510faa1\" target=\"_top\" title=\"psysml:d5e28260-c8b5-4b29-a8f8-2a36a510faa1\" xlink:actuate=\"onRequest\" xlink:href=\"psysml:d5e28260-c8b5-4b29-a8f8-2a36a510faa1\" xlink:show=\"new\" xlink:title=\"psysml:d5e28260-c8b5-4b29-a8f8-2a36a510faa1\" xlink:type=\"simple\"><rect fill=\"#FFFFFF\" height=\"45.9375\" id=\"E3\" style=\"stroke: #383838; stroke-width: 1.5;\" width=\"66\" x=\"165\" y=\"84\"/><text fill=\"#000000\" font-family=\"sans-serif\" font-size=\"12\" font-style=\"italic\" lengthAdjust=\"spacingAndGlyphs\" textLength=\"64\" x=\"166\" y=\"100.1387\">«part def»</text><text fill=\"#000000\" font-family=\"sans-serif\" font-size=\"12\" lengthAdjust=\"spacingAndGlyphs\" textLength=\"8\" x=\"194\" y=\"114.1074\">A</text><line style=\"stroke: #383838; stroke-width: 1.5;\" x1=\"166\" x2=\"230\" y1=\"121.9375\" y2=\"121.9375\"/></a><!--MD5=[60a26617385b1d2d0262a64233df1f8d]\n",
       "class E6--><a href=\"psysml:9546b5bf-a121-430a-b785-22b0f3c788bb\" target=\"_top\" title=\"psysml:9546b5bf-a121-430a-b785-22b0f3c788bb\" xlink:actuate=\"onRequest\" xlink:href=\"psysml:9546b5bf-a121-430a-b785-22b0f3c788bb\" xlink:show=\"new\" xlink:title=\"psysml:9546b5bf-a121-430a-b785-22b0f3c788bb\" xlink:type=\"simple\"><rect fill=\"#FFFFFF\" height=\"45.9375\" id=\"E6\" rx=\"10\" ry=\"10\" style=\"stroke: #383838; stroke-width: 1.5;\" width=\"42\" x=\"59.5\" y=\"84\"/><text fill=\"#000000\" font-family=\"sans-serif\" font-size=\"12\" font-style=\"italic\" lengthAdjust=\"spacingAndGlyphs\" textLength=\"40\" x=\"60.5\" y=\"100.1387\">«part»</text><text fill=\"#000000\" font-family=\"sans-serif\" font-size=\"12\" lengthAdjust=\"spacingAndGlyphs\" textLength=\"22\" x=\"69.5\" y=\"114.1074\">x: A</text><line style=\"stroke: #383838; stroke-width: 1.5;\" x1=\"60.5\" x2=\"100.5\" y1=\"121.9375\" y2=\"121.9375\"/></a><a href=\"psysml:b96f1ba5-fc32-4046-b5fe-7b623c9bf90c\" target=\"_top\" title=\"psysml:b96f1ba5-fc32-4046-b5fe-7b623c9bf90c\" xlink:actuate=\"onRequest\" xlink:href=\"psysml:b96f1ba5-fc32-4046-b5fe-7b623c9bf90c\" xlink:show=\"new\" xlink:title=\"psysml:b96f1ba5-fc32-4046-b5fe-7b623c9bf90c\" xlink:type=\"simple\"><polygon fill=\"#FFFFFF\" points=\"56,165.5,91,165.5,98,187.7969,105,187.7969,105,218.0938,56,218.0938,56,165.5\" style=\"stroke: #000000; stroke-width: 1.5;\"/><line style=\"stroke: #000000; stroke-width: 1.5;\" x1=\"56\" x2=\"98\" y1=\"187.7969\" y2=\"187.7969\"/><text fill=\"#000000\" font-family=\"sans-serif\" font-size=\"14\" font-weight=\"bold\" lengthAdjust=\"spacingAndGlyphs\" textLength=\"29\" x=\"60\" y=\"180.4951\">P2a</text></a><!--MD5=[a717450b82c80b9240a525fa862496af]\n",
       "link E6 to E3--><a href=\"psysml:4aa795d2-d8a8-4fd3-b09b-984289b8e469\" target=\"_top\" title=\"psysml:4aa795d2-d8a8-4fd3-b09b-984289b8e469\" xlink:actuate=\"onRequest\" xlink:href=\"psysml:4aa795d2-d8a8-4fd3-b09b-984289b8e469\" xlink:show=\"new\" xlink:title=\"psysml:4aa795d2-d8a8-4fd3-b09b-984289b8e469\" xlink:type=\"simple\"><path d=\"M101.62,107 C113.62,107 129.45,107 144.76,107 \" fill=\"none\" id=\"E6-&gt;E3\" style=\"stroke: #383838; stroke-width: 1.0;\"/><polygon fill=\"#FFFFFF\" points=\"164.91,107,145.91,114,145.91,100,164.91,107\" style=\"stroke: #383838; stroke-width: 1.0;\"/><ellipse cx=\"140.21\" cy=\"112\" fill=\"#383838\" rx=\"2\" ry=\"2\" style=\"stroke: #383838; stroke-width: 1.0;\"/><ellipse cx=\"140.21\" cy=\"102\" fill=\"#383838\" rx=\"2\" ry=\"2\" style=\"stroke: #383838; stroke-width: 1.0;\"/></a><!--MD5=[ade6c802c976990e8950314a6ddfa118]\n",
       "@startuml\r\n",
       "left to right direction\r\n",
       "skinparam monochrome true\r\n",
       "skinparam classbackgroundcolor white\r\n",
       "skinparam shadowing false\r\n",
       "skinparam wrapWidth 300\r\n",
       "hide circle\r\n",
       "\r\n",
       "package \"QualifiedNameImportTest\" as E1  [[psysml:986fc1fb-4aef-4106-b1ed-1986834153ab ]]  {\r\n",
       "package \"P1\" as E2  [[psysml:372b503a-8716-40b4-8b99-cd3a963555f9 ]]  {\r\n",
       "comp def \"A\" as E3  <<(T,blue)part def>> [[psysml:d5e28260-c8b5-4b29-a8f8-2a36a510faa1 ]] {\r\n",
       "}\r\n",
       "}\r\n",
       "package \"P2\" as E4  [[psysml:ae810913-1289-4b59-a95a-360ad08f1101 ]]  {\r\n",
       "package \"P2a\" as E5  [[psysml:b96f1ba5-fc32-4046-b5fe-7b623c9bf90c ]]  {\r\n",
       "}\r\n",
       "comp usage \"x: A\" as E6  <<(T,blue)part>> [[psysml:9546b5bf-a121-430a-b785-22b0f3c788bb ]] {\r\n",
       "}\r\n",
       "E6 - -:|> E3 [[psysml:4aa795d2-d8a8-4fd3-b09b-984289b8e469 ]] \r\n",
       "}\r\n",
       "}\r\n",
       "@enduml\r\n",
       "\n",
       "PlantUML version 1.2020.13(Sat Jun 13 12:26:38 UTC 2020)\n",
       "(EPL source distribution)\n",
       "Java Runtime: OpenJDK Runtime Environment\n",
       "JVM: OpenJDK 64-Bit Server VM\n",
       "Default Encoding: UTF-8\n",
       "Language: en\n",
       "Country: null\n",
       "--></g></svg>"
      ]
     },
     "execution_count": 16,
     "metadata": {},
     "output_type": "execute_result"
    }
   ],
   "source": [
    "%viz --style=\"LR\" --view=\"Default\" \"QualifiedNameImportTest\""
   ]
  },
  {
   "cell_type": "code",
   "execution_count": 17,
   "id": "2db9b518",
   "metadata": {
    "execution": {
     "iopub.execute_input": "2021-04-20T07:02:40.690102Z",
     "iopub.status.busy": "2021-04-20T07:02:40.689603Z",
     "iopub.status.idle": "2021-04-20T07:02:40.722071Z",
     "shell.execute_reply": "2021-04-20T07:02:40.720336Z"
    }
   },
   "outputs": [
    {
     "data": {
      "image/svg+xml": [
       "<?xml version=\"1.0\" encoding=\"UTF-8\" standalone=\"no\"?><svg xmlns=\"http://www.w3.org/2000/svg\" xmlns:xlink=\"http://www.w3.org/1999/xlink\" contentScriptType=\"application/ecmascript\" contentStyleType=\"text/css\" height=\"271px\" preserveAspectRatio=\"none\" style=\"width:293px;height:271px;\" version=\"1.1\" viewBox=\"0 0 293 271\" width=\"293px\" zoomAndPan=\"magnify\"><defs/><g><!--MD5=[fbc87193dbaf4d95561dea2c320d4a47]\n",
       "cluster E1--><a href=\"psysml:986fc1fb-4aef-4106-b1ed-1986834153ab\" target=\"_top\" title=\"psysml:986fc1fb-4aef-4106-b1ed-1986834153ab\" xlink:actuate=\"onRequest\" xlink:href=\"psysml:986fc1fb-4aef-4106-b1ed-1986834153ab\" xlink:show=\"new\" xlink:title=\"psysml:986fc1fb-4aef-4106-b1ed-1986834153ab\" xlink:type=\"simple\"><polygon fill=\"#FFFFFF\" points=\"16,6,221,6,228,28.2969,271,28.2969,271,259,16,259,16,6\" style=\"stroke: #000000; stroke-width: 1.5;\"/><line style=\"stroke: #000000; stroke-width: 1.5;\" x1=\"16\" x2=\"228\" y1=\"28.2969\" y2=\"28.2969\"/><text fill=\"#000000\" font-family=\"sans-serif\" font-size=\"14\" font-weight=\"bold\" lengthAdjust=\"spacingAndGlyphs\" textLength=\"199\" x=\"20\" y=\"20.9951\">QualifiedNameImportTest</text></a><!--MD5=[e4f7fae6ed58524ba242bb0b0d3be6b7]\n",
       "cluster E2--><a href=\"psysml:372b503a-8716-40b4-8b99-cd3a963555f9\" target=\"_top\" title=\"psysml:372b503a-8716-40b4-8b99-cd3a963555f9\" xlink:actuate=\"onRequest\" xlink:href=\"psysml:372b503a-8716-40b4-8b99-cd3a963555f9\" xlink:show=\"new\" xlink:title=\"psysml:372b503a-8716-40b4-8b99-cd3a963555f9\" xlink:type=\"simple\"><polygon fill=\"#FFFFFF\" points=\"149,49,175,49,182,71.2969,247,71.2969,247,146,149,146,149,49\" style=\"stroke: #000000; stroke-width: 1.5;\"/><line style=\"stroke: #000000; stroke-width: 1.5;\" x1=\"149\" x2=\"182\" y1=\"71.2969\" y2=\"71.2969\"/><text fill=\"#000000\" font-family=\"sans-serif\" font-size=\"14\" font-weight=\"bold\" lengthAdjust=\"spacingAndGlyphs\" textLength=\"20\" x=\"153\" y=\"63.9951\">P1</text></a><!--MD5=[f6df4d0ebaf0b5dfb2ced0ae5af7c670]\n",
       "cluster E4--><a href=\"psysml:ae810913-1289-4b59-a95a-360ad08f1101\" target=\"_top\" title=\"psysml:ae810913-1289-4b59-a95a-360ad08f1101\" xlink:actuate=\"onRequest\" xlink:href=\"psysml:ae810913-1289-4b59-a95a-360ad08f1101\" xlink:show=\"new\" xlink:title=\"psysml:ae810913-1289-4b59-a95a-360ad08f1101\" xlink:type=\"simple\"><polygon fill=\"#FFFFFF\" points=\"40,49,66,49,73,71.2969,121,71.2969,121,235,40,235,40,49\" style=\"stroke: #000000; stroke-width: 1.5;\"/><line style=\"stroke: #000000; stroke-width: 1.5;\" x1=\"40\" x2=\"73\" y1=\"71.2969\" y2=\"71.2969\"/><text fill=\"#000000\" font-family=\"sans-serif\" font-size=\"14\" font-weight=\"bold\" lengthAdjust=\"spacingAndGlyphs\" textLength=\"20\" x=\"44\" y=\"63.9951\">P2</text></a><!--MD5=[09b614a08d8cba4a07c9adeb5e0fee81]\n",
       "class E3--><a href=\"psysml:d5e28260-c8b5-4b29-a8f8-2a36a510faa1\" target=\"_top\" title=\"psysml:d5e28260-c8b5-4b29-a8f8-2a36a510faa1\" xlink:actuate=\"onRequest\" xlink:href=\"psysml:d5e28260-c8b5-4b29-a8f8-2a36a510faa1\" xlink:show=\"new\" xlink:title=\"psysml:d5e28260-c8b5-4b29-a8f8-2a36a510faa1\" xlink:type=\"simple\"><rect fill=\"#FFFFFF\" height=\"45.9375\" id=\"E3\" style=\"stroke: #383838; stroke-width: 1.5;\" width=\"66\" x=\"165\" y=\"84\"/><text fill=\"#000000\" font-family=\"sans-serif\" font-size=\"12\" font-style=\"italic\" lengthAdjust=\"spacingAndGlyphs\" textLength=\"64\" x=\"166\" y=\"100.1387\">«part def»</text><text fill=\"#000000\" font-family=\"sans-serif\" font-size=\"12\" lengthAdjust=\"spacingAndGlyphs\" textLength=\"8\" x=\"194\" y=\"114.1074\">A</text><line style=\"stroke: #383838; stroke-width: 1.5;\" x1=\"166\" x2=\"230\" y1=\"121.9375\" y2=\"121.9375\"/></a><!--MD5=[60a26617385b1d2d0262a64233df1f8d]\n",
       "class E6--><a href=\"psysml:9546b5bf-a121-430a-b785-22b0f3c788bb\" target=\"_top\" title=\"psysml:9546b5bf-a121-430a-b785-22b0f3c788bb\" xlink:actuate=\"onRequest\" xlink:href=\"psysml:9546b5bf-a121-430a-b785-22b0f3c788bb\" xlink:show=\"new\" xlink:title=\"psysml:9546b5bf-a121-430a-b785-22b0f3c788bb\" xlink:type=\"simple\"><rect fill=\"#FFFFFF\" height=\"45.9375\" id=\"E6\" rx=\"10\" ry=\"10\" style=\"stroke: #383838; stroke-width: 1.5;\" width=\"42\" x=\"59.5\" y=\"84\"/><text fill=\"#000000\" font-family=\"sans-serif\" font-size=\"12\" font-style=\"italic\" lengthAdjust=\"spacingAndGlyphs\" textLength=\"40\" x=\"60.5\" y=\"100.1387\">«part»</text><text fill=\"#000000\" font-family=\"sans-serif\" font-size=\"12\" lengthAdjust=\"spacingAndGlyphs\" textLength=\"22\" x=\"69.5\" y=\"114.1074\">x: A</text><line style=\"stroke: #383838; stroke-width: 1.5;\" x1=\"60.5\" x2=\"100.5\" y1=\"121.9375\" y2=\"121.9375\"/></a><a href=\"psysml:b96f1ba5-fc32-4046-b5fe-7b623c9bf90c\" target=\"_top\" title=\"psysml:b96f1ba5-fc32-4046-b5fe-7b623c9bf90c\" xlink:actuate=\"onRequest\" xlink:href=\"psysml:b96f1ba5-fc32-4046-b5fe-7b623c9bf90c\" xlink:show=\"new\" xlink:title=\"psysml:b96f1ba5-fc32-4046-b5fe-7b623c9bf90c\" xlink:type=\"simple\"><polygon fill=\"#FFFFFF\" points=\"56,165.5,91,165.5,98,187.7969,105,187.7969,105,218.0938,56,218.0938,56,165.5\" style=\"stroke: #000000; stroke-width: 1.5;\"/><line style=\"stroke: #000000; stroke-width: 1.5;\" x1=\"56\" x2=\"98\" y1=\"187.7969\" y2=\"187.7969\"/><text fill=\"#000000\" font-family=\"sans-serif\" font-size=\"14\" font-weight=\"bold\" lengthAdjust=\"spacingAndGlyphs\" textLength=\"29\" x=\"60\" y=\"180.4951\">P2a</text></a><!--MD5=[a717450b82c80b9240a525fa862496af]\n",
       "link E6 to E3--><a href=\"psysml:4aa795d2-d8a8-4fd3-b09b-984289b8e469\" target=\"_top\" title=\"psysml:4aa795d2-d8a8-4fd3-b09b-984289b8e469\" xlink:actuate=\"onRequest\" xlink:href=\"psysml:4aa795d2-d8a8-4fd3-b09b-984289b8e469\" xlink:show=\"new\" xlink:title=\"psysml:4aa795d2-d8a8-4fd3-b09b-984289b8e469\" xlink:type=\"simple\"><path d=\"M101.62,107 C113.62,107 129.45,107 144.76,107 \" fill=\"none\" id=\"E6-&gt;E3\" style=\"stroke: #383838; stroke-width: 1.0;\"/><polygon fill=\"#FFFFFF\" points=\"164.91,107,145.91,114,145.91,100,164.91,107\" style=\"stroke: #383838; stroke-width: 1.0;\"/><ellipse cx=\"140.21\" cy=\"112\" fill=\"#383838\" rx=\"2\" ry=\"2\" style=\"stroke: #383838; stroke-width: 1.0;\"/><ellipse cx=\"140.21\" cy=\"102\" fill=\"#383838\" rx=\"2\" ry=\"2\" style=\"stroke: #383838; stroke-width: 1.0;\"/></a><!--MD5=[ade6c802c976990e8950314a6ddfa118]\n",
       "@startuml\r\n",
       "left to right direction\r\n",
       "skinparam monochrome true\r\n",
       "skinparam classbackgroundcolor white\r\n",
       "skinparam shadowing false\r\n",
       "skinparam wrapWidth 300\r\n",
       "hide circle\r\n",
       "\r\n",
       "package \"QualifiedNameImportTest\" as E1  [[psysml:986fc1fb-4aef-4106-b1ed-1986834153ab ]]  {\r\n",
       "package \"P1\" as E2  [[psysml:372b503a-8716-40b4-8b99-cd3a963555f9 ]]  {\r\n",
       "comp def \"A\" as E3  <<(T,blue)part def>> [[psysml:d5e28260-c8b5-4b29-a8f8-2a36a510faa1 ]] {\r\n",
       "}\r\n",
       "}\r\n",
       "package \"P2\" as E4  [[psysml:ae810913-1289-4b59-a95a-360ad08f1101 ]]  {\r\n",
       "package \"P2a\" as E5  [[psysml:b96f1ba5-fc32-4046-b5fe-7b623c9bf90c ]]  {\r\n",
       "}\r\n",
       "comp usage \"x: A\" as E6  <<(T,blue)part>> [[psysml:9546b5bf-a121-430a-b785-22b0f3c788bb ]] {\r\n",
       "}\r\n",
       "E6 - -:|> E3 [[psysml:4aa795d2-d8a8-4fd3-b09b-984289b8e469 ]] \r\n",
       "}\r\n",
       "}\r\n",
       "@enduml\r\n",
       "\n",
       "PlantUML version 1.2020.13(Sat Jun 13 12:26:38 UTC 2020)\n",
       "(EPL source distribution)\n",
       "Java Runtime: OpenJDK Runtime Environment\n",
       "JVM: OpenJDK 64-Bit Server VM\n",
       "Default Encoding: UTF-8\n",
       "Language: en\n",
       "Country: null\n",
       "--></g></svg>"
      ]
     },
     "execution_count": 17,
     "metadata": {},
     "output_type": "execute_result"
    }
   ],
   "source": [
    "%viz --style=\"LR\" --view=\"Tree\" \"QualifiedNameImportTest\""
   ]
  },
  {
   "cell_type": "code",
   "execution_count": 18,
   "id": "5b110eb6",
   "metadata": {
    "execution": {
     "iopub.execute_input": "2021-04-20T07:02:40.773806Z",
     "iopub.status.busy": "2021-04-20T07:02:40.772936Z",
     "iopub.status.idle": "2021-04-20T07:02:40.779744Z",
     "shell.execute_reply": "2021-04-20T07:02:40.778664Z"
    }
   },
   "outputs": [
    {
     "data": {
      "image/svg+xml": [
       "<?xml version=\"1.0\" encoding=\"UTF-8\" standalone=\"no\"?><svg xmlns=\"http://www.w3.org/2000/svg\" xmlns:xlink=\"http://www.w3.org/1999/xlink\" contentScriptType=\"application/ecmascript\" contentStyleType=\"text/css\" height=\"12px\" preserveAspectRatio=\"none\" style=\"width:12px;height:12px;\" version=\"1.1\" viewBox=\"0 0 12 12\" width=\"12px\" zoomAndPan=\"magnify\"><defs/><g><!--MD5=[19d285c9d72a204eba4e2cd117d745e8]\n",
       "@startuml\r\n",
       "left to right direction\r\n",
       "skinparam monochrome true\r\n",
       "skinparam classbackgroundcolor white\r\n",
       "skinparam shadowing false\r\n",
       "skinparam wrapWidth 300\r\n",
       "hide circle\r\n",
       "\r\n",
       "@enduml\r\n",
       "\n",
       "PlantUML version 1.2020.13(Sat Jun 13 12:26:38 UTC 2020)\n",
       "(EPL source distribution)\n",
       "Java Runtime: OpenJDK Runtime Environment\n",
       "JVM: OpenJDK 64-Bit Server VM\n",
       "Default Encoding: UTF-8\n",
       "Language: en\n",
       "Country: null\n",
       "--></g></svg>"
      ]
     },
     "execution_count": 18,
     "metadata": {},
     "output_type": "execute_result"
    }
   ],
   "source": [
    "%viz --style=\"LR\" --view=\"State\" \"QualifiedNameImportTest\""
   ]
  },
  {
   "cell_type": "code",
   "execution_count": 19,
   "id": "1cbc11f0",
   "metadata": {
    "execution": {
     "iopub.execute_input": "2021-04-20T07:02:40.830653Z",
     "iopub.status.busy": "2021-04-20T07:02:40.830253Z",
     "iopub.status.idle": "2021-04-20T07:02:40.860396Z",
     "shell.execute_reply": "2021-04-20T07:02:40.859331Z"
    }
   },
   "outputs": [
    {
     "data": {
      "image/svg+xml": [
       "<?xml version=\"1.0\" encoding=\"UTF-8\" standalone=\"no\"?><svg xmlns=\"http://www.w3.org/2000/svg\" xmlns:xlink=\"http://www.w3.org/1999/xlink\" contentScriptType=\"application/ecmascript\" contentStyleType=\"text/css\" height=\"384px\" preserveAspectRatio=\"none\" style=\"width:253px;height:384px;\" version=\"1.1\" viewBox=\"0 0 253 384\" width=\"253px\" zoomAndPan=\"magnify\"><defs/><g><!--MD5=[fbc87193dbaf4d95561dea2c320d4a47]\n",
       "cluster E1--><a href=\"psysml:986fc1fb-4aef-4106-b1ed-1986834153ab\" target=\"_top\" title=\"psysml:986fc1fb-4aef-4106-b1ed-1986834153ab\" xlink:actuate=\"onRequest\" xlink:href=\"psysml:986fc1fb-4aef-4106-b1ed-1986834153ab\" xlink:show=\"new\" xlink:title=\"psysml:986fc1fb-4aef-4106-b1ed-1986834153ab\" xlink:type=\"simple\"><polygon fill=\"#FFFFFF\" points=\"16,6,221,6,228,28.2969,231,28.2969,231,372,16,372,16,6\" style=\"stroke: #000000; stroke-width: 1.5;\"/><line style=\"stroke: #000000; stroke-width: 1.5;\" x1=\"16\" x2=\"228\" y1=\"28.2969\" y2=\"28.2969\"/><text fill=\"#000000\" font-family=\"sans-serif\" font-size=\"14\" font-weight=\"bold\" lengthAdjust=\"spacingAndGlyphs\" textLength=\"199\" x=\"20\" y=\"20.9951\">QualifiedNameImportTest</text></a><!--MD5=[e4f7fae6ed58524ba242bb0b0d3be6b7]\n",
       "cluster E2--><a href=\"psysml:372b503a-8716-40b4-8b99-cd3a963555f9\" target=\"_top\" title=\"psysml:372b503a-8716-40b4-8b99-cd3a963555f9\" xlink:actuate=\"onRequest\" xlink:href=\"psysml:372b503a-8716-40b4-8b99-cd3a963555f9\" xlink:show=\"new\" xlink:title=\"psysml:372b503a-8716-40b4-8b99-cd3a963555f9\" xlink:type=\"simple\"><polygon fill=\"#FFFFFF\" points=\"72,49,98,49,105,71.2969,175,71.2969,175,144,72,144,72,49\" style=\"stroke: #000000; stroke-width: 1.5;\"/><line style=\"stroke: #000000; stroke-width: 1.5;\" x1=\"72\" x2=\"105\" y1=\"71.2969\" y2=\"71.2969\"/><text fill=\"#000000\" font-family=\"sans-serif\" font-size=\"14\" font-weight=\"bold\" lengthAdjust=\"spacingAndGlyphs\" textLength=\"20\" x=\"76\" y=\"63.9951\">P1</text></a><!--MD5=[f6df4d0ebaf0b5dfb2ced0ae5af7c670]\n",
       "cluster E4--><a href=\"psysml:ae810913-1289-4b59-a95a-360ad08f1101\" target=\"_top\" title=\"psysml:ae810913-1289-4b59-a95a-360ad08f1101\" xlink:actuate=\"onRequest\" xlink:href=\"psysml:ae810913-1289-4b59-a95a-360ad08f1101\" xlink:show=\"new\" xlink:title=\"psysml:ae810913-1289-4b59-a95a-360ad08f1101\" xlink:type=\"simple\"><polygon fill=\"#FFFFFF\" points=\"82.5,168,108.5,168,115.5,190.2969,164.5,190.2969,164.5,348,82.5,348,82.5,168\" style=\"stroke: #000000; stroke-width: 1.5;\"/><line style=\"stroke: #000000; stroke-width: 1.5;\" x1=\"82.5\" x2=\"115.5\" y1=\"190.2969\" y2=\"190.2969\"/><text fill=\"#000000\" font-family=\"sans-serif\" font-size=\"14\" font-weight=\"bold\" lengthAdjust=\"spacingAndGlyphs\" textLength=\"20\" x=\"86.5\" y=\"182.9951\">P2</text></a><g id=\"E1.E2.E3\"><a href=\"psysml:d5e28260-c8b5-4b29-a8f8-2a36a510faa1\" target=\"_top\" title=\"psysml:d5e28260-c8b5-4b29-a8f8-2a36a510faa1\" xlink:actuate=\"onRequest\" xlink:href=\"psysml:d5e28260-c8b5-4b29-a8f8-2a36a510faa1\" xlink:show=\"new\" xlink:title=\"psysml:d5e28260-c8b5-4b29-a8f8-2a36a510faa1\" xlink:type=\"simple\"><rect fill=\"#FFFFFF\" height=\"42.9375\" id=\"E3\" style=\"stroke: #383838; stroke-width: 1.5;\" width=\"71\" x=\"88\" y=\"84.5\"/><rect fill=\"#F8F8F8\" height=\"37.9375\" style=\"stroke: #383838; stroke-width: 1.5;\" width=\"71\" x=\"88\" y=\"84.5\"/><text fill=\"#000000\" font-family=\"sans-serif\" font-size=\"12\" font-style=\"italic\" lengthAdjust=\"spacingAndGlyphs\" textLength=\"64\" x=\"91.5\" y=\"100.6387\">«part def»</text><text fill=\"#000000\" font-family=\"sans-serif\" font-size=\"12\" lengthAdjust=\"spacingAndGlyphs\" textLength=\"8\" x=\"119.5\" y=\"114.6074\">A</text></a></g><a href=\"psysml:b96f1ba5-fc32-4046-b5fe-7b623c9bf90c\" target=\"_top\" title=\"psysml:b96f1ba5-fc32-4046-b5fe-7b623c9bf90c\" xlink:actuate=\"onRequest\" xlink:href=\"psysml:b96f1ba5-fc32-4046-b5fe-7b623c9bf90c\" xlink:show=\"new\" xlink:title=\"psysml:b96f1ba5-fc32-4046-b5fe-7b623c9bf90c\" xlink:type=\"simple\"><polygon fill=\"#FFFFFF\" points=\"99,203.5,134,203.5,141,225.7969,148,225.7969,148,256.0938,99,256.0938,99,203.5\" style=\"stroke: #000000; stroke-width: 1.5;\"/><line style=\"stroke: #000000; stroke-width: 1.5;\" x1=\"99\" x2=\"141\" y1=\"225.7969\" y2=\"225.7969\"/><text fill=\"#000000\" font-family=\"sans-serif\" font-size=\"14\" font-weight=\"bold\" lengthAdjust=\"spacingAndGlyphs\" textLength=\"29\" x=\"103\" y=\"218.4951\">P2a</text></a><g id=\"E1.E4.E6\"><a href=\"psysml:9546b5bf-a121-430a-b785-22b0f3c788bb\" target=\"_top\" title=\"psysml:9546b5bf-a121-430a-b785-22b0f3c788bb\" xlink:actuate=\"onRequest\" xlink:href=\"psysml:9546b5bf-a121-430a-b785-22b0f3c788bb\" xlink:show=\"new\" xlink:title=\"psysml:9546b5bf-a121-430a-b785-22b0f3c788bb\" xlink:type=\"simple\"><rect fill=\"#FFFFFF\" height=\"40\" id=\"E6\" rx=\"10\" ry=\"10\" style=\"stroke: #383838; stroke-width: 1.5;\" width=\"50\" x=\"98.5\" y=\"292\"/><rect fill=\"#F8F8F8\" height=\"23.9688\" rx=\"10\" ry=\"10\" style=\"stroke: #F8F8F8; stroke-width: 1.5;\" width=\"50\" x=\"98.5\" y=\"292\"/><rect fill=\"#F8F8F8\" height=\"10\" style=\"stroke: #F8F8F8; stroke-width: 1.5;\" width=\"50\" x=\"98.5\" y=\"305.9688\"/><rect fill=\"none\" height=\"40\" id=\"E6\" rx=\"10\" ry=\"10\" style=\"stroke: #383838; stroke-width: 1.5;\" width=\"50\" x=\"98.5\" y=\"292\"/><text fill=\"#000000\" font-family=\"sans-serif\" font-size=\"12\" lengthAdjust=\"spacingAndGlyphs\" textLength=\"22\" x=\"112.5\" y=\"308.1387\">x: A</text></a></g><!--MD5=[487ccb456ac130eded8547dbeff8a94d]\n",
       "@startuml\r\n",
       "skinparam ranksep 10\r\n",
       "skinparam rectangle {\r\n",
       " backgroundColor<<block>> LightGreen\r\n",
       "}\r\n",
       "left to right direction\r\n",
       "skinparam monochrome true\r\n",
       "skinparam classbackgroundcolor white\r\n",
       "skinparam shadowing false\r\n",
       "skinparam wrapWidth 300\r\n",
       "hide circle\r\n",
       "\r\n",
       "package \"QualifiedNameImportTest\" as E1  [[psysml:986fc1fb-4aef-4106-b1ed-1986834153ab ]]  {\r\n",
       "package \"P1\" as E2  [[psysml:372b503a-8716-40b4-8b99-cd3a963555f9 ]]  {\r\n",
       "rec def \"A\" as E3  <<(T,blue)part def>> [[psysml:d5e28260-c8b5-4b29-a8f8-2a36a510faa1 ]] {\r\n",
       "}\r\n",
       "}\r\n",
       "package \"P2\" as E4  [[psysml:ae810913-1289-4b59-a95a-360ad08f1101 ]]  {\r\n",
       "package \"P2a\" as E5  [[psysml:b96f1ba5-fc32-4046-b5fe-7b623c9bf90c ]]  {\r\n",
       "}\r\n",
       "rec usage \"x: A\" as E6  [[psysml:9546b5bf-a121-430a-b785-22b0f3c788bb ]] {\r\n",
       "}\r\n",
       "}\r\n",
       "}\r\n",
       "@enduml\r\n",
       "\n",
       "PlantUML version 1.2020.13(Sat Jun 13 12:26:38 UTC 2020)\n",
       "(EPL source distribution)\n",
       "Java Runtime: OpenJDK Runtime Environment\n",
       "JVM: OpenJDK 64-Bit Server VM\n",
       "Default Encoding: UTF-8\n",
       "Language: en\n",
       "Country: null\n",
       "--></g></svg>"
      ]
     },
     "execution_count": 19,
     "metadata": {},
     "output_type": "execute_result"
    }
   ],
   "source": [
    "%viz --style=\"LR\" --view=\"Interconnection\" \"QualifiedNameImportTest\""
   ]
  },
  {
   "cell_type": "code",
   "execution_count": 20,
   "id": "c781a5a6",
   "metadata": {
    "execution": {
     "iopub.execute_input": "2021-04-20T07:02:40.911415Z",
     "iopub.status.busy": "2021-04-20T07:02:40.910953Z",
     "iopub.status.idle": "2021-04-20T07:02:40.918274Z",
     "shell.execute_reply": "2021-04-20T07:02:40.917958Z"
    }
   },
   "outputs": [
    {
     "data": {
      "image/svg+xml": [
       "<?xml version=\"1.0\" encoding=\"UTF-8\" standalone=\"no\"?><svg xmlns=\"http://www.w3.org/2000/svg\" xmlns:xlink=\"http://www.w3.org/1999/xlink\" contentScriptType=\"application/ecmascript\" contentStyleType=\"text/css\" height=\"12px\" preserveAspectRatio=\"none\" style=\"width:12px;height:12px;\" version=\"1.1\" viewBox=\"0 0 12 12\" width=\"12px\" zoomAndPan=\"magnify\"><defs/><g><!--MD5=[7aeb398939421629f6affaa4a1a7b125]\n",
       "@startuml\r\n",
       "skinparam ranksep 8\r\n",
       "left to right direction\r\n",
       "skinparam monochrome true\r\n",
       "skinparam classbackgroundcolor white\r\n",
       "skinparam shadowing false\r\n",
       "skinparam wrapWidth 300\r\n",
       "hide circle\r\n",
       "\r\n",
       "@enduml\r\n",
       "\n",
       "PlantUML version 1.2020.13(Sat Jun 13 12:26:38 UTC 2020)\n",
       "(EPL source distribution)\n",
       "Java Runtime: OpenJDK Runtime Environment\n",
       "JVM: OpenJDK 64-Bit Server VM\n",
       "Default Encoding: UTF-8\n",
       "Language: en\n",
       "Country: null\n",
       "--></g></svg>"
      ]
     },
     "execution_count": 20,
     "metadata": {},
     "output_type": "execute_result"
    }
   ],
   "source": [
    "%viz --style=\"LR\" --view=\"Action\" \"QualifiedNameImportTest\""
   ]
  },
  {
   "cell_type": "code",
   "execution_count": 21,
   "id": "dbc258ed",
   "metadata": {
    "execution": {
     "iopub.execute_input": "2021-04-20T07:02:40.972512Z",
     "iopub.status.busy": "2021-04-20T07:02:40.969646Z",
     "iopub.status.idle": "2021-04-20T07:02:41.002447Z",
     "shell.execute_reply": "2021-04-20T07:02:41.001168Z"
    }
   },
   "outputs": [
    {
     "data": {
      "image/svg+xml": [
       "<?xml version=\"1.0\" encoding=\"UTF-8\" standalone=\"no\"?><svg xmlns=\"http://www.w3.org/2000/svg\" xmlns:xlink=\"http://www.w3.org/1999/xlink\" contentScriptType=\"application/ecmascript\" contentStyleType=\"text/css\" height=\"271px\" preserveAspectRatio=\"none\" style=\"width:293px;height:271px;\" version=\"1.1\" viewBox=\"0 0 293 271\" width=\"293px\" zoomAndPan=\"magnify\"><defs/><g><!--MD5=[fbc87193dbaf4d95561dea2c320d4a47]\n",
       "cluster E1--><a href=\"psysml:986fc1fb-4aef-4106-b1ed-1986834153ab\" target=\"_top\" title=\"psysml:986fc1fb-4aef-4106-b1ed-1986834153ab\" xlink:actuate=\"onRequest\" xlink:href=\"psysml:986fc1fb-4aef-4106-b1ed-1986834153ab\" xlink:show=\"new\" xlink:title=\"psysml:986fc1fb-4aef-4106-b1ed-1986834153ab\" xlink:type=\"simple\"><polygon fill=\"#FFFFFF\" points=\"16,6,221,6,228,28.2969,271,28.2969,271,259,16,259,16,6\" style=\"stroke: #000000; stroke-width: 1.5;\"/><line style=\"stroke: #000000; stroke-width: 1.5;\" x1=\"16\" x2=\"228\" y1=\"28.2969\" y2=\"28.2969\"/><text fill=\"#000000\" font-family=\"sans-serif\" font-size=\"14\" font-weight=\"bold\" lengthAdjust=\"spacingAndGlyphs\" textLength=\"199\" x=\"20\" y=\"20.9951\">QualifiedNameImportTest</text></a><!--MD5=[e4f7fae6ed58524ba242bb0b0d3be6b7]\n",
       "cluster E2--><a href=\"psysml:372b503a-8716-40b4-8b99-cd3a963555f9\" target=\"_top\" title=\"psysml:372b503a-8716-40b4-8b99-cd3a963555f9\" xlink:actuate=\"onRequest\" xlink:href=\"psysml:372b503a-8716-40b4-8b99-cd3a963555f9\" xlink:show=\"new\" xlink:title=\"psysml:372b503a-8716-40b4-8b99-cd3a963555f9\" xlink:type=\"simple\"><polygon fill=\"#FFFFFF\" points=\"149,49,175,49,182,71.2969,247,71.2969,247,146,149,146,149,49\" style=\"stroke: #000000; stroke-width: 1.5;\"/><line style=\"stroke: #000000; stroke-width: 1.5;\" x1=\"149\" x2=\"182\" y1=\"71.2969\" y2=\"71.2969\"/><text fill=\"#000000\" font-family=\"sans-serif\" font-size=\"14\" font-weight=\"bold\" lengthAdjust=\"spacingAndGlyphs\" textLength=\"20\" x=\"153\" y=\"63.9951\">P1</text></a><!--MD5=[f6df4d0ebaf0b5dfb2ced0ae5af7c670]\n",
       "cluster E4--><a href=\"psysml:ae810913-1289-4b59-a95a-360ad08f1101\" target=\"_top\" title=\"psysml:ae810913-1289-4b59-a95a-360ad08f1101\" xlink:actuate=\"onRequest\" xlink:href=\"psysml:ae810913-1289-4b59-a95a-360ad08f1101\" xlink:show=\"new\" xlink:title=\"psysml:ae810913-1289-4b59-a95a-360ad08f1101\" xlink:type=\"simple\"><polygon fill=\"#FFFFFF\" points=\"40,49,66,49,73,71.2969,121,71.2969,121,235,40,235,40,49\" style=\"stroke: #000000; stroke-width: 1.5;\"/><line style=\"stroke: #000000; stroke-width: 1.5;\" x1=\"40\" x2=\"73\" y1=\"71.2969\" y2=\"71.2969\"/><text fill=\"#000000\" font-family=\"sans-serif\" font-size=\"14\" font-weight=\"bold\" lengthAdjust=\"spacingAndGlyphs\" textLength=\"20\" x=\"44\" y=\"63.9951\">P2</text></a><!--MD5=[09b614a08d8cba4a07c9adeb5e0fee81]\n",
       "class E3--><a href=\"psysml:d5e28260-c8b5-4b29-a8f8-2a36a510faa1\" target=\"_top\" title=\"psysml:d5e28260-c8b5-4b29-a8f8-2a36a510faa1\" xlink:actuate=\"onRequest\" xlink:href=\"psysml:d5e28260-c8b5-4b29-a8f8-2a36a510faa1\" xlink:show=\"new\" xlink:title=\"psysml:d5e28260-c8b5-4b29-a8f8-2a36a510faa1\" xlink:type=\"simple\"><rect fill=\"#FFFFFF\" height=\"45.9375\" id=\"E3\" style=\"stroke: #383838; stroke-width: 1.5;\" width=\"66\" x=\"165\" y=\"84\"/><text fill=\"#000000\" font-family=\"sans-serif\" font-size=\"12\" font-style=\"italic\" lengthAdjust=\"spacingAndGlyphs\" textLength=\"64\" x=\"166\" y=\"100.1387\">«part def»</text><text fill=\"#000000\" font-family=\"sans-serif\" font-size=\"12\" lengthAdjust=\"spacingAndGlyphs\" textLength=\"8\" x=\"194\" y=\"114.1074\">A</text><line style=\"stroke: #383838; stroke-width: 1.5;\" x1=\"166\" x2=\"230\" y1=\"121.9375\" y2=\"121.9375\"/></a><!--MD5=[60a26617385b1d2d0262a64233df1f8d]\n",
       "class E6--><a href=\"psysml:9546b5bf-a121-430a-b785-22b0f3c788bb\" target=\"_top\" title=\"psysml:9546b5bf-a121-430a-b785-22b0f3c788bb\" xlink:actuate=\"onRequest\" xlink:href=\"psysml:9546b5bf-a121-430a-b785-22b0f3c788bb\" xlink:show=\"new\" xlink:title=\"psysml:9546b5bf-a121-430a-b785-22b0f3c788bb\" xlink:type=\"simple\"><rect fill=\"#FFFFFF\" height=\"45.9375\" id=\"E6\" rx=\"10\" ry=\"10\" style=\"stroke: #383838; stroke-width: 1.5;\" width=\"42\" x=\"59.5\" y=\"84\"/><text fill=\"#000000\" font-family=\"sans-serif\" font-size=\"12\" font-style=\"italic\" lengthAdjust=\"spacingAndGlyphs\" textLength=\"40\" x=\"60.5\" y=\"100.1387\">«part»</text><text fill=\"#000000\" font-family=\"sans-serif\" font-size=\"12\" lengthAdjust=\"spacingAndGlyphs\" textLength=\"22\" x=\"69.5\" y=\"114.1074\">x: A</text><line style=\"stroke: #383838; stroke-width: 1.5;\" x1=\"60.5\" x2=\"100.5\" y1=\"121.9375\" y2=\"121.9375\"/></a><a href=\"psysml:b96f1ba5-fc32-4046-b5fe-7b623c9bf90c\" target=\"_top\" title=\"psysml:b96f1ba5-fc32-4046-b5fe-7b623c9bf90c\" xlink:actuate=\"onRequest\" xlink:href=\"psysml:b96f1ba5-fc32-4046-b5fe-7b623c9bf90c\" xlink:show=\"new\" xlink:title=\"psysml:b96f1ba5-fc32-4046-b5fe-7b623c9bf90c\" xlink:type=\"simple\"><polygon fill=\"#FFFFFF\" points=\"56,165.5,91,165.5,98,187.7969,105,187.7969,105,218.0938,56,218.0938,56,165.5\" style=\"stroke: #000000; stroke-width: 1.5;\"/><line style=\"stroke: #000000; stroke-width: 1.5;\" x1=\"56\" x2=\"98\" y1=\"187.7969\" y2=\"187.7969\"/><text fill=\"#000000\" font-family=\"sans-serif\" font-size=\"14\" font-weight=\"bold\" lengthAdjust=\"spacingAndGlyphs\" textLength=\"29\" x=\"60\" y=\"180.4951\">P2a</text></a><!--MD5=[a717450b82c80b9240a525fa862496af]\n",
       "link E6 to E3--><a href=\"psysml:4aa795d2-d8a8-4fd3-b09b-984289b8e469\" target=\"_top\" title=\"psysml:4aa795d2-d8a8-4fd3-b09b-984289b8e469\" xlink:actuate=\"onRequest\" xlink:href=\"psysml:4aa795d2-d8a8-4fd3-b09b-984289b8e469\" xlink:show=\"new\" xlink:title=\"psysml:4aa795d2-d8a8-4fd3-b09b-984289b8e469\" xlink:type=\"simple\"><path d=\"M101.62,107 C113.62,107 129.45,107 144.76,107 \" fill=\"none\" id=\"E6-&gt;E3\" style=\"stroke: #383838; stroke-width: 1.0;\"/><polygon fill=\"#FFFFFF\" points=\"164.91,107,145.91,114,145.91,100,164.91,107\" style=\"stroke: #383838; stroke-width: 1.0;\"/><ellipse cx=\"140.21\" cy=\"112\" fill=\"#383838\" rx=\"2\" ry=\"2\" style=\"stroke: #383838; stroke-width: 1.0;\"/><ellipse cx=\"140.21\" cy=\"102\" fill=\"#383838\" rx=\"2\" ry=\"2\" style=\"stroke: #383838; stroke-width: 1.0;\"/></a><!--MD5=[ade6c802c976990e8950314a6ddfa118]\n",
       "@startuml\r\n",
       "left to right direction\r\n",
       "skinparam monochrome true\r\n",
       "skinparam classbackgroundcolor white\r\n",
       "skinparam shadowing false\r\n",
       "skinparam wrapWidth 300\r\n",
       "hide circle\r\n",
       "\r\n",
       "package \"QualifiedNameImportTest\" as E1  [[psysml:986fc1fb-4aef-4106-b1ed-1986834153ab ]]  {\r\n",
       "package \"P1\" as E2  [[psysml:372b503a-8716-40b4-8b99-cd3a963555f9 ]]  {\r\n",
       "comp def \"A\" as E3  <<(T,blue)part def>> [[psysml:d5e28260-c8b5-4b29-a8f8-2a36a510faa1 ]] {\r\n",
       "}\r\n",
       "}\r\n",
       "package \"P2\" as E4  [[psysml:ae810913-1289-4b59-a95a-360ad08f1101 ]]  {\r\n",
       "package \"P2a\" as E5  [[psysml:b96f1ba5-fc32-4046-b5fe-7b623c9bf90c ]]  {\r\n",
       "}\r\n",
       "comp usage \"x: A\" as E6  <<(T,blue)part>> [[psysml:9546b5bf-a121-430a-b785-22b0f3c788bb ]] {\r\n",
       "}\r\n",
       "E6 - -:|> E3 [[psysml:4aa795d2-d8a8-4fd3-b09b-984289b8e469 ]] \r\n",
       "}\r\n",
       "}\r\n",
       "@enduml\r\n",
       "\n",
       "PlantUML version 1.2020.13(Sat Jun 13 12:26:38 UTC 2020)\n",
       "(EPL source distribution)\n",
       "Java Runtime: OpenJDK Runtime Environment\n",
       "JVM: OpenJDK 64-Bit Server VM\n",
       "Default Encoding: UTF-8\n",
       "Language: en\n",
       "Country: null\n",
       "--></g></svg>"
      ]
     },
     "execution_count": 21,
     "metadata": {},
     "output_type": "execute_result"
    }
   ],
   "source": [
    "%viz --style=\"LR\" --view=\"Sequence\" \"QualifiedNameImportTest\""
   ]
  },
  {
   "cell_type": "code",
   "execution_count": 22,
   "id": "a4c7e3c0",
   "metadata": {
    "execution": {
     "iopub.execute_input": "2021-04-20T07:02:41.053265Z",
     "iopub.status.busy": "2021-04-20T07:02:41.052735Z",
     "iopub.status.idle": "2021-04-20T07:02:41.083860Z",
     "shell.execute_reply": "2021-04-20T07:02:41.083566Z"
    }
   },
   "outputs": [
    {
     "data": {
      "image/svg+xml": [
       "<?xml version=\"1.0\" encoding=\"UTF-8\" standalone=\"no\"?><svg xmlns=\"http://www.w3.org/2000/svg\" xmlns:xlink=\"http://www.w3.org/1999/xlink\" contentScriptType=\"application/ecmascript\" contentStyleType=\"text/css\" height=\"271px\" preserveAspectRatio=\"none\" style=\"width:293px;height:271px;\" version=\"1.1\" viewBox=\"0 0 293 271\" width=\"293px\" zoomAndPan=\"magnify\"><defs/><g><!--MD5=[fbc87193dbaf4d95561dea2c320d4a47]\n",
       "cluster E1--><a href=\"psysml:986fc1fb-4aef-4106-b1ed-1986834153ab\" target=\"_top\" title=\"psysml:986fc1fb-4aef-4106-b1ed-1986834153ab\" xlink:actuate=\"onRequest\" xlink:href=\"psysml:986fc1fb-4aef-4106-b1ed-1986834153ab\" xlink:show=\"new\" xlink:title=\"psysml:986fc1fb-4aef-4106-b1ed-1986834153ab\" xlink:type=\"simple\"><polygon fill=\"#FFFFFF\" points=\"16,6,221,6,228,28.2969,271,28.2969,271,259,16,259,16,6\" style=\"stroke: #000000; stroke-width: 1.5;\"/><line style=\"stroke: #000000; stroke-width: 1.5;\" x1=\"16\" x2=\"228\" y1=\"28.2969\" y2=\"28.2969\"/><text fill=\"#000000\" font-family=\"sans-serif\" font-size=\"14\" font-weight=\"bold\" lengthAdjust=\"spacingAndGlyphs\" textLength=\"199\" x=\"20\" y=\"20.9951\">QualifiedNameImportTest</text></a><!--MD5=[e4f7fae6ed58524ba242bb0b0d3be6b7]\n",
       "cluster E2--><a href=\"psysml:372b503a-8716-40b4-8b99-cd3a963555f9\" target=\"_top\" title=\"psysml:372b503a-8716-40b4-8b99-cd3a963555f9\" xlink:actuate=\"onRequest\" xlink:href=\"psysml:372b503a-8716-40b4-8b99-cd3a963555f9\" xlink:show=\"new\" xlink:title=\"psysml:372b503a-8716-40b4-8b99-cd3a963555f9\" xlink:type=\"simple\"><polygon fill=\"#FFFFFF\" points=\"149,49,175,49,182,71.2969,247,71.2969,247,146,149,146,149,49\" style=\"stroke: #000000; stroke-width: 1.5;\"/><line style=\"stroke: #000000; stroke-width: 1.5;\" x1=\"149\" x2=\"182\" y1=\"71.2969\" y2=\"71.2969\"/><text fill=\"#000000\" font-family=\"sans-serif\" font-size=\"14\" font-weight=\"bold\" lengthAdjust=\"spacingAndGlyphs\" textLength=\"20\" x=\"153\" y=\"63.9951\">P1</text></a><!--MD5=[f6df4d0ebaf0b5dfb2ced0ae5af7c670]\n",
       "cluster E4--><a href=\"psysml:ae810913-1289-4b59-a95a-360ad08f1101\" target=\"_top\" title=\"psysml:ae810913-1289-4b59-a95a-360ad08f1101\" xlink:actuate=\"onRequest\" xlink:href=\"psysml:ae810913-1289-4b59-a95a-360ad08f1101\" xlink:show=\"new\" xlink:title=\"psysml:ae810913-1289-4b59-a95a-360ad08f1101\" xlink:type=\"simple\"><polygon fill=\"#FFFFFF\" points=\"40,49,66,49,73,71.2969,121,71.2969,121,235,40,235,40,49\" style=\"stroke: #000000; stroke-width: 1.5;\"/><line style=\"stroke: #000000; stroke-width: 1.5;\" x1=\"40\" x2=\"73\" y1=\"71.2969\" y2=\"71.2969\"/><text fill=\"#000000\" font-family=\"sans-serif\" font-size=\"14\" font-weight=\"bold\" lengthAdjust=\"spacingAndGlyphs\" textLength=\"20\" x=\"44\" y=\"63.9951\">P2</text></a><!--MD5=[09b614a08d8cba4a07c9adeb5e0fee81]\n",
       "class E3--><a href=\"psysml:d5e28260-c8b5-4b29-a8f8-2a36a510faa1\" target=\"_top\" title=\"psysml:d5e28260-c8b5-4b29-a8f8-2a36a510faa1\" xlink:actuate=\"onRequest\" xlink:href=\"psysml:d5e28260-c8b5-4b29-a8f8-2a36a510faa1\" xlink:show=\"new\" xlink:title=\"psysml:d5e28260-c8b5-4b29-a8f8-2a36a510faa1\" xlink:type=\"simple\"><rect fill=\"#FFFFFF\" height=\"45.9375\" id=\"E3\" style=\"stroke: #383838; stroke-width: 1.5;\" width=\"66\" x=\"165\" y=\"84\"/><text fill=\"#000000\" font-family=\"sans-serif\" font-size=\"12\" font-style=\"italic\" lengthAdjust=\"spacingAndGlyphs\" textLength=\"64\" x=\"166\" y=\"100.1387\">«part def»</text><text fill=\"#000000\" font-family=\"sans-serif\" font-size=\"12\" lengthAdjust=\"spacingAndGlyphs\" textLength=\"8\" x=\"194\" y=\"114.1074\">A</text><line style=\"stroke: #383838; stroke-width: 1.5;\" x1=\"166\" x2=\"230\" y1=\"121.9375\" y2=\"121.9375\"/></a><!--MD5=[60a26617385b1d2d0262a64233df1f8d]\n",
       "class E6--><a href=\"psysml:9546b5bf-a121-430a-b785-22b0f3c788bb\" target=\"_top\" title=\"psysml:9546b5bf-a121-430a-b785-22b0f3c788bb\" xlink:actuate=\"onRequest\" xlink:href=\"psysml:9546b5bf-a121-430a-b785-22b0f3c788bb\" xlink:show=\"new\" xlink:title=\"psysml:9546b5bf-a121-430a-b785-22b0f3c788bb\" xlink:type=\"simple\"><rect fill=\"#FFFFFF\" height=\"45.9375\" id=\"E6\" rx=\"10\" ry=\"10\" style=\"stroke: #383838; stroke-width: 1.5;\" width=\"42\" x=\"59.5\" y=\"84\"/><text fill=\"#000000\" font-family=\"sans-serif\" font-size=\"12\" font-style=\"italic\" lengthAdjust=\"spacingAndGlyphs\" textLength=\"40\" x=\"60.5\" y=\"100.1387\">«part»</text><text fill=\"#000000\" font-family=\"sans-serif\" font-size=\"12\" lengthAdjust=\"spacingAndGlyphs\" textLength=\"22\" x=\"69.5\" y=\"114.1074\">x: A</text><line style=\"stroke: #383838; stroke-width: 1.5;\" x1=\"60.5\" x2=\"100.5\" y1=\"121.9375\" y2=\"121.9375\"/></a><a href=\"psysml:b96f1ba5-fc32-4046-b5fe-7b623c9bf90c\" target=\"_top\" title=\"psysml:b96f1ba5-fc32-4046-b5fe-7b623c9bf90c\" xlink:actuate=\"onRequest\" xlink:href=\"psysml:b96f1ba5-fc32-4046-b5fe-7b623c9bf90c\" xlink:show=\"new\" xlink:title=\"psysml:b96f1ba5-fc32-4046-b5fe-7b623c9bf90c\" xlink:type=\"simple\"><polygon fill=\"#FFFFFF\" points=\"56,165.5,91,165.5,98,187.7969,105,187.7969,105,218.0938,56,218.0938,56,165.5\" style=\"stroke: #000000; stroke-width: 1.5;\"/><line style=\"stroke: #000000; stroke-width: 1.5;\" x1=\"56\" x2=\"98\" y1=\"187.7969\" y2=\"187.7969\"/><text fill=\"#000000\" font-family=\"sans-serif\" font-size=\"14\" font-weight=\"bold\" lengthAdjust=\"spacingAndGlyphs\" textLength=\"29\" x=\"60\" y=\"180.4951\">P2a</text></a><!--MD5=[a717450b82c80b9240a525fa862496af]\n",
       "link E6 to E3--><a href=\"psysml:4aa795d2-d8a8-4fd3-b09b-984289b8e469\" target=\"_top\" title=\"psysml:4aa795d2-d8a8-4fd3-b09b-984289b8e469\" xlink:actuate=\"onRequest\" xlink:href=\"psysml:4aa795d2-d8a8-4fd3-b09b-984289b8e469\" xlink:show=\"new\" xlink:title=\"psysml:4aa795d2-d8a8-4fd3-b09b-984289b8e469\" xlink:type=\"simple\"><path d=\"M101.62,107 C113.62,107 129.45,107 144.76,107 \" fill=\"none\" id=\"E6-&gt;E3\" style=\"stroke: #383838; stroke-width: 1.0;\"/><polygon fill=\"#FFFFFF\" points=\"164.91,107,145.91,114,145.91,100,164.91,107\" style=\"stroke: #383838; stroke-width: 1.0;\"/><ellipse cx=\"140.21\" cy=\"112\" fill=\"#383838\" rx=\"2\" ry=\"2\" style=\"stroke: #383838; stroke-width: 1.0;\"/><ellipse cx=\"140.21\" cy=\"102\" fill=\"#383838\" rx=\"2\" ry=\"2\" style=\"stroke: #383838; stroke-width: 1.0;\"/></a><!--MD5=[ade6c802c976990e8950314a6ddfa118]\n",
       "@startuml\r\n",
       "left to right direction\r\n",
       "skinparam monochrome true\r\n",
       "skinparam classbackgroundcolor white\r\n",
       "skinparam shadowing false\r\n",
       "skinparam wrapWidth 300\r\n",
       "hide circle\r\n",
       "\r\n",
       "package \"QualifiedNameImportTest\" as E1  [[psysml:986fc1fb-4aef-4106-b1ed-1986834153ab ]]  {\r\n",
       "package \"P1\" as E2  [[psysml:372b503a-8716-40b4-8b99-cd3a963555f9 ]]  {\r\n",
       "comp def \"A\" as E3  <<(T,blue)part def>> [[psysml:d5e28260-c8b5-4b29-a8f8-2a36a510faa1 ]] {\r\n",
       "}\r\n",
       "}\r\n",
       "package \"P2\" as E4  [[psysml:ae810913-1289-4b59-a95a-360ad08f1101 ]]  {\r\n",
       "package \"P2a\" as E5  [[psysml:b96f1ba5-fc32-4046-b5fe-7b623c9bf90c ]]  {\r\n",
       "}\r\n",
       "comp usage \"x: A\" as E6  <<(T,blue)part>> [[psysml:9546b5bf-a121-430a-b785-22b0f3c788bb ]] {\r\n",
       "}\r\n",
       "E6 - -:|> E3 [[psysml:4aa795d2-d8a8-4fd3-b09b-984289b8e469 ]] \r\n",
       "}\r\n",
       "}\r\n",
       "@enduml\r\n",
       "\n",
       "PlantUML version 1.2020.13(Sat Jun 13 12:26:38 UTC 2020)\n",
       "(EPL source distribution)\n",
       "Java Runtime: OpenJDK Runtime Environment\n",
       "JVM: OpenJDK 64-Bit Server VM\n",
       "Default Encoding: UTF-8\n",
       "Language: en\n",
       "Country: null\n",
       "--></g></svg>"
      ]
     },
     "execution_count": 22,
     "metadata": {},
     "output_type": "execute_result"
    }
   ],
   "source": [
    "%viz --style=\"LR\" --view=\"MIXED\" \"QualifiedNameImportTest\""
   ]
  },
  {
   "cell_type": "code",
   "execution_count": 23,
   "id": "50109a50",
   "metadata": {
    "execution": {
     "iopub.execute_input": "2021-04-20T07:02:41.135469Z",
     "iopub.status.busy": "2021-04-20T07:02:41.134612Z",
     "iopub.status.idle": "2021-04-20T07:02:41.165782Z",
     "shell.execute_reply": "2021-04-20T07:02:41.165484Z"
    }
   },
   "outputs": [
    {
     "data": {
      "image/svg+xml": [
       "<?xml version=\"1.0\" encoding=\"UTF-8\" standalone=\"no\"?><svg xmlns=\"http://www.w3.org/2000/svg\" xmlns:xlink=\"http://www.w3.org/1999/xlink\" contentScriptType=\"application/ecmascript\" contentStyleType=\"text/css\" height=\"310px\" preserveAspectRatio=\"none\" style=\"width:253px;height:310px;\" version=\"1.1\" viewBox=\"0 0 253 310\" width=\"253px\" zoomAndPan=\"magnify\"><defs><filter height=\"300%\" id=\"f5kd2i4rs59gl\" width=\"300%\" x=\"-1\" y=\"-1\"><feGaussianBlur result=\"blurOut\" stdDeviation=\"2.0\"/><feColorMatrix in=\"blurOut\" result=\"blurOut2\" type=\"matrix\" values=\"0 0 0 0 0 0 0 0 0 0 0 0 0 0 0 0 0 0 .4 0\"/><feOffset dx=\"4.0\" dy=\"4.0\" in=\"blurOut2\" result=\"blurOut3\"/><feBlend in=\"SourceGraphic\" in2=\"blurOut3\" mode=\"normal\"/></filter></defs><g><!--MD5=[fbc87193dbaf4d95561dea2c320d4a47]\n",
       "cluster E1--><a href=\"psysml:986fc1fb-4aef-4106-b1ed-1986834153ab\" target=\"_top\" title=\"psysml:986fc1fb-4aef-4106-b1ed-1986834153ab\" xlink:actuate=\"onRequest\" xlink:href=\"psysml:986fc1fb-4aef-4106-b1ed-1986834153ab\" xlink:show=\"new\" xlink:title=\"psysml:986fc1fb-4aef-4106-b1ed-1986834153ab\" xlink:type=\"simple\"><polygon fill=\"#FFFFFF\" filter=\"url(#f5kd2i4rs59gl)\" points=\"16,6,221,6,228,28.2969,231,28.2969,231,298,16,298,16,6\" style=\"stroke: #000000; stroke-width: 1.5;\"/><line style=\"stroke: #000000; stroke-width: 1.5;\" x1=\"16\" x2=\"228\" y1=\"28.2969\" y2=\"28.2969\"/><text fill=\"#000000\" font-family=\"sans-serif\" font-size=\"14\" font-weight=\"bold\" lengthAdjust=\"spacingAndGlyphs\" textLength=\"199\" x=\"20\" y=\"20.9951\">QualifiedNameImportTest</text></a><!--MD5=[e4f7fae6ed58524ba242bb0b0d3be6b7]\n",
       "cluster E2--><a href=\"psysml:372b503a-8716-40b4-8b99-cd3a963555f9\" target=\"_top\" title=\"psysml:372b503a-8716-40b4-8b99-cd3a963555f9\" xlink:actuate=\"onRequest\" xlink:href=\"psysml:372b503a-8716-40b4-8b99-cd3a963555f9\" xlink:show=\"new\" xlink:title=\"psysml:372b503a-8716-40b4-8b99-cd3a963555f9\" xlink:type=\"simple\"><polygon fill=\"#FFFFFF\" filter=\"url(#f5kd2i4rs59gl)\" points=\"105,177,131,177,138,199.2969,203,199.2969,203,274,105,274,105,177\" style=\"stroke: #000000; stroke-width: 1.5;\"/><line style=\"stroke: #000000; stroke-width: 1.5;\" x1=\"105\" x2=\"138\" y1=\"199.2969\" y2=\"199.2969\"/><text fill=\"#000000\" font-family=\"sans-serif\" font-size=\"14\" font-weight=\"bold\" lengthAdjust=\"spacingAndGlyphs\" textLength=\"20\" x=\"109\" y=\"191.9951\">P1</text></a><!--MD5=[f6df4d0ebaf0b5dfb2ced0ae5af7c670]\n",
       "cluster E4--><a href=\"psysml:ae810913-1289-4b59-a95a-360ad08f1101\" target=\"_top\" title=\"psysml:ae810913-1289-4b59-a95a-360ad08f1101\" xlink:actuate=\"onRequest\" xlink:href=\"psysml:ae810913-1289-4b59-a95a-360ad08f1101\" xlink:show=\"new\" xlink:title=\"psysml:ae810913-1289-4b59-a95a-360ad08f1101\" xlink:type=\"simple\"><polygon fill=\"#FFFFFF\" filter=\"url(#f5kd2i4rs59gl)\" points=\"44,49,70,49,77,71.2969,203,71.2969,203,153,44,153,44,49\" style=\"stroke: #000000; stroke-width: 1.5;\"/><line style=\"stroke: #000000; stroke-width: 1.5;\" x1=\"44\" x2=\"77\" y1=\"71.2969\" y2=\"71.2969\"/><text fill=\"#000000\" font-family=\"sans-serif\" font-size=\"14\" font-weight=\"bold\" lengthAdjust=\"spacingAndGlyphs\" textLength=\"20\" x=\"48\" y=\"63.9951\">P2</text></a><!--MD5=[09b614a08d8cba4a07c9adeb5e0fee81]\n",
       "class E3--><a href=\"psysml:d5e28260-c8b5-4b29-a8f8-2a36a510faa1\" target=\"_top\" title=\"psysml:d5e28260-c8b5-4b29-a8f8-2a36a510faa1\" xlink:actuate=\"onRequest\" xlink:href=\"psysml:d5e28260-c8b5-4b29-a8f8-2a36a510faa1\" xlink:show=\"new\" xlink:title=\"psysml:d5e28260-c8b5-4b29-a8f8-2a36a510faa1\" xlink:type=\"simple\"><rect fill=\"#FEFECE\" filter=\"url(#f5kd2i4rs59gl)\" height=\"45.9375\" id=\"E3\" style=\"stroke: #A80036; stroke-width: 1.5;\" width=\"66\" x=\"121\" y=\"212\"/><text fill=\"#000000\" font-family=\"sans-serif\" font-size=\"12\" font-style=\"italic\" lengthAdjust=\"spacingAndGlyphs\" textLength=\"64\" x=\"122\" y=\"228.1387\">«part def»</text><text fill=\"#000000\" font-family=\"sans-serif\" font-size=\"12\" lengthAdjust=\"spacingAndGlyphs\" textLength=\"8\" x=\"150\" y=\"242.1074\">A</text><line style=\"stroke: #A80036; stroke-width: 1.5;\" x1=\"122\" x2=\"186\" y1=\"249.9375\" y2=\"249.9375\"/></a><!--MD5=[60a26617385b1d2d0262a64233df1f8d]\n",
       "class E6--><a href=\"psysml:9546b5bf-a121-430a-b785-22b0f3c788bb\" target=\"_top\" title=\"psysml:9546b5bf-a121-430a-b785-22b0f3c788bb\" xlink:actuate=\"onRequest\" xlink:href=\"psysml:9546b5bf-a121-430a-b785-22b0f3c788bb\" xlink:show=\"new\" xlink:title=\"psysml:9546b5bf-a121-430a-b785-22b0f3c788bb\" xlink:type=\"simple\"><rect fill=\"#FEFECE\" filter=\"url(#f5kd2i4rs59gl)\" height=\"45.9375\" id=\"E6\" rx=\"10\" ry=\"10\" style=\"stroke: #A80036; stroke-width: 1.5;\" width=\"42\" x=\"145\" y=\"87.5\"/><text fill=\"#000000\" font-family=\"sans-serif\" font-size=\"12\" font-style=\"italic\" lengthAdjust=\"spacingAndGlyphs\" textLength=\"40\" x=\"146\" y=\"103.6387\">«part»</text><text fill=\"#000000\" font-family=\"sans-serif\" font-size=\"12\" lengthAdjust=\"spacingAndGlyphs\" textLength=\"22\" x=\"155\" y=\"117.6074\">x: A</text><line style=\"stroke: #A80036; stroke-width: 1.5;\" x1=\"146\" x2=\"186\" y1=\"125.4375\" y2=\"125.4375\"/></a><a href=\"psysml:b96f1ba5-fc32-4046-b5fe-7b623c9bf90c\" target=\"_top\" title=\"psysml:b96f1ba5-fc32-4046-b5fe-7b623c9bf90c\" xlink:actuate=\"onRequest\" xlink:href=\"psysml:b96f1ba5-fc32-4046-b5fe-7b623c9bf90c\" xlink:show=\"new\" xlink:title=\"psysml:b96f1ba5-fc32-4046-b5fe-7b623c9bf90c\" xlink:type=\"simple\"><polygon fill=\"#FFFFFF\" filter=\"url(#f5kd2i4rs59gl)\" points=\"60.5,84,95.5,84,102.5,106.2969,109.5,106.2969,109.5,136.5938,60.5,136.5938,60.5,84\" style=\"stroke: #000000; stroke-width: 1.5;\"/><line style=\"stroke: #000000; stroke-width: 1.5;\" x1=\"60.5\" x2=\"102.5\" y1=\"106.2969\" y2=\"106.2969\"/><text fill=\"#000000\" font-family=\"sans-serif\" font-size=\"14\" font-weight=\"bold\" lengthAdjust=\"spacingAndGlyphs\" textLength=\"29\" x=\"64.5\" y=\"98.9951\">P2a</text></a><!--MD5=[a717450b82c80b9240a525fa862496af]\n",
       "link E6 to E3--><a href=\"psysml:4aa795d2-d8a8-4fd3-b09b-984289b8e469\" target=\"_top\" title=\"psysml:4aa795d2-d8a8-4fd3-b09b-984289b8e469\" xlink:actuate=\"onRequest\" xlink:href=\"psysml:4aa795d2-d8a8-4fd3-b09b-984289b8e469\" xlink:show=\"new\" xlink:title=\"psysml:4aa795d2-d8a8-4fd3-b09b-984289b8e469\" xlink:type=\"simple\"><path d=\"M163.83,133.68 C162.24,149.9 160.04,172.39 158.12,191.96 \" fill=\"none\" id=\"E6-&gt;E3\" style=\"stroke: #A80036; stroke-width: 1.0;\"/><polygon fill=\"#FFFFFF\" points=\"156.16,211.98,151.0533,192.3861,164.986,193.7564,156.16,211.98\" style=\"stroke: #A80036; stroke-width: 1.0;\"/><ellipse cx=\"153.6016\" cy=\"186.9092\" fill=\"#A80036\" rx=\"2\" ry=\"2\" style=\"stroke: #A80036; stroke-width: 1.0;\"/><ellipse cx=\"163.5535\" cy=\"187.888\" fill=\"#A80036\" rx=\"2\" ry=\"2\" style=\"stroke: #A80036; stroke-width: 1.0;\"/></a><!--MD5=[3862a6f25b0f152e057d75e1e8cf71d6]\n",
       "@startuml\r\n",
       "skinparam wrapWidth 300\r\n",
       "hide circle\r\n",
       "\r\n",
       "package \"QualifiedNameImportTest\" as E1  [[psysml:986fc1fb-4aef-4106-b1ed-1986834153ab ]]  {\r\n",
       "package \"P1\" as E2  [[psysml:372b503a-8716-40b4-8b99-cd3a963555f9 ]]  {\r\n",
       "comp def \"A\" as E3  <<(T,blue)part def>> [[psysml:d5e28260-c8b5-4b29-a8f8-2a36a510faa1 ]] {\r\n",
       "}\r\n",
       "}\r\n",
       "package \"P2\" as E4  [[psysml:ae810913-1289-4b59-a95a-360ad08f1101 ]]  {\r\n",
       "package \"P2a\" as E5  [[psysml:b96f1ba5-fc32-4046-b5fe-7b623c9bf90c ]]  {\r\n",
       "}\r\n",
       "comp usage \"x: A\" as E6  <<(T,blue)part>> [[psysml:9546b5bf-a121-430a-b785-22b0f3c788bb ]] {\r\n",
       "}\r\n",
       "E6 - -:|> E3 [[psysml:4aa795d2-d8a8-4fd3-b09b-984289b8e469 ]] \r\n",
       "}\r\n",
       "}\r\n",
       "@enduml\r\n",
       "\n",
       "PlantUML version 1.2020.13(Sat Jun 13 12:26:38 UTC 2020)\n",
       "(EPL source distribution)\n",
       "Java Runtime: OpenJDK Runtime Environment\n",
       "JVM: OpenJDK 64-Bit Server VM\n",
       "Default Encoding: UTF-8\n",
       "Language: en\n",
       "Country: null\n",
       "--></g></svg>"
      ]
     },
     "execution_count": 23,
     "metadata": {},
     "output_type": "execute_result"
    }
   ],
   "source": [
    "%viz --style=\"STDCOLOR\" --view=\"Default\" \"QualifiedNameImportTest\""
   ]
  },
  {
   "cell_type": "code",
   "execution_count": 24,
   "id": "a14948d1",
   "metadata": {
    "execution": {
     "iopub.execute_input": "2021-04-20T07:02:41.218369Z",
     "iopub.status.busy": "2021-04-20T07:02:41.217809Z",
     "iopub.status.idle": "2021-04-20T07:02:41.260875Z",
     "shell.execute_reply": "2021-04-20T07:02:41.259635Z"
    }
   },
   "outputs": [
    {
     "data": {
      "image/svg+xml": [
       "<?xml version=\"1.0\" encoding=\"UTF-8\" standalone=\"no\"?><svg xmlns=\"http://www.w3.org/2000/svg\" xmlns:xlink=\"http://www.w3.org/1999/xlink\" contentScriptType=\"application/ecmascript\" contentStyleType=\"text/css\" height=\"310px\" preserveAspectRatio=\"none\" style=\"width:253px;height:310px;\" version=\"1.1\" viewBox=\"0 0 253 310\" width=\"253px\" zoomAndPan=\"magnify\"><defs><filter height=\"300%\" id=\"f5kd2i4rs59gl\" width=\"300%\" x=\"-1\" y=\"-1\"><feGaussianBlur result=\"blurOut\" stdDeviation=\"2.0\"/><feColorMatrix in=\"blurOut\" result=\"blurOut2\" type=\"matrix\" values=\"0 0 0 0 0 0 0 0 0 0 0 0 0 0 0 0 0 0 .4 0\"/><feOffset dx=\"4.0\" dy=\"4.0\" in=\"blurOut2\" result=\"blurOut3\"/><feBlend in=\"SourceGraphic\" in2=\"blurOut3\" mode=\"normal\"/></filter></defs><g><!--MD5=[fbc87193dbaf4d95561dea2c320d4a47]\n",
       "cluster E1--><a href=\"psysml:986fc1fb-4aef-4106-b1ed-1986834153ab\" target=\"_top\" title=\"psysml:986fc1fb-4aef-4106-b1ed-1986834153ab\" xlink:actuate=\"onRequest\" xlink:href=\"psysml:986fc1fb-4aef-4106-b1ed-1986834153ab\" xlink:show=\"new\" xlink:title=\"psysml:986fc1fb-4aef-4106-b1ed-1986834153ab\" xlink:type=\"simple\"><polygon fill=\"#FFFFFF\" filter=\"url(#f5kd2i4rs59gl)\" points=\"16,6,221,6,228,28.2969,231,28.2969,231,298,16,298,16,6\" style=\"stroke: #000000; stroke-width: 1.5;\"/><line style=\"stroke: #000000; stroke-width: 1.5;\" x1=\"16\" x2=\"228\" y1=\"28.2969\" y2=\"28.2969\"/><text fill=\"#000000\" font-family=\"sans-serif\" font-size=\"14\" font-weight=\"bold\" lengthAdjust=\"spacingAndGlyphs\" textLength=\"199\" x=\"20\" y=\"20.9951\">QualifiedNameImportTest</text></a><!--MD5=[e4f7fae6ed58524ba242bb0b0d3be6b7]\n",
       "cluster E2--><a href=\"psysml:372b503a-8716-40b4-8b99-cd3a963555f9\" target=\"_top\" title=\"psysml:372b503a-8716-40b4-8b99-cd3a963555f9\" xlink:actuate=\"onRequest\" xlink:href=\"psysml:372b503a-8716-40b4-8b99-cd3a963555f9\" xlink:show=\"new\" xlink:title=\"psysml:372b503a-8716-40b4-8b99-cd3a963555f9\" xlink:type=\"simple\"><polygon fill=\"#FFFFFF\" filter=\"url(#f5kd2i4rs59gl)\" points=\"105,177,131,177,138,199.2969,203,199.2969,203,274,105,274,105,177\" style=\"stroke: #000000; stroke-width: 1.5;\"/><line style=\"stroke: #000000; stroke-width: 1.5;\" x1=\"105\" x2=\"138\" y1=\"199.2969\" y2=\"199.2969\"/><text fill=\"#000000\" font-family=\"sans-serif\" font-size=\"14\" font-weight=\"bold\" lengthAdjust=\"spacingAndGlyphs\" textLength=\"20\" x=\"109\" y=\"191.9951\">P1</text></a><!--MD5=[f6df4d0ebaf0b5dfb2ced0ae5af7c670]\n",
       "cluster E4--><a href=\"psysml:ae810913-1289-4b59-a95a-360ad08f1101\" target=\"_top\" title=\"psysml:ae810913-1289-4b59-a95a-360ad08f1101\" xlink:actuate=\"onRequest\" xlink:href=\"psysml:ae810913-1289-4b59-a95a-360ad08f1101\" xlink:show=\"new\" xlink:title=\"psysml:ae810913-1289-4b59-a95a-360ad08f1101\" xlink:type=\"simple\"><polygon fill=\"#FFFFFF\" filter=\"url(#f5kd2i4rs59gl)\" points=\"44,49,70,49,77,71.2969,203,71.2969,203,153,44,153,44,49\" style=\"stroke: #000000; stroke-width: 1.5;\"/><line style=\"stroke: #000000; stroke-width: 1.5;\" x1=\"44\" x2=\"77\" y1=\"71.2969\" y2=\"71.2969\"/><text fill=\"#000000\" font-family=\"sans-serif\" font-size=\"14\" font-weight=\"bold\" lengthAdjust=\"spacingAndGlyphs\" textLength=\"20\" x=\"48\" y=\"63.9951\">P2</text></a><!--MD5=[09b614a08d8cba4a07c9adeb5e0fee81]\n",
       "class E3--><a href=\"psysml:d5e28260-c8b5-4b29-a8f8-2a36a510faa1\" target=\"_top\" title=\"psysml:d5e28260-c8b5-4b29-a8f8-2a36a510faa1\" xlink:actuate=\"onRequest\" xlink:href=\"psysml:d5e28260-c8b5-4b29-a8f8-2a36a510faa1\" xlink:show=\"new\" xlink:title=\"psysml:d5e28260-c8b5-4b29-a8f8-2a36a510faa1\" xlink:type=\"simple\"><rect fill=\"#FEFECE\" filter=\"url(#f5kd2i4rs59gl)\" height=\"45.9375\" id=\"E3\" style=\"stroke: #A80036; stroke-width: 1.5;\" width=\"66\" x=\"121\" y=\"212\"/><text fill=\"#000000\" font-family=\"sans-serif\" font-size=\"12\" font-style=\"italic\" lengthAdjust=\"spacingAndGlyphs\" textLength=\"64\" x=\"122\" y=\"228.1387\">«part def»</text><text fill=\"#000000\" font-family=\"sans-serif\" font-size=\"12\" lengthAdjust=\"spacingAndGlyphs\" textLength=\"8\" x=\"150\" y=\"242.1074\">A</text><line style=\"stroke: #A80036; stroke-width: 1.5;\" x1=\"122\" x2=\"186\" y1=\"249.9375\" y2=\"249.9375\"/></a><!--MD5=[60a26617385b1d2d0262a64233df1f8d]\n",
       "class E6--><a href=\"psysml:9546b5bf-a121-430a-b785-22b0f3c788bb\" target=\"_top\" title=\"psysml:9546b5bf-a121-430a-b785-22b0f3c788bb\" xlink:actuate=\"onRequest\" xlink:href=\"psysml:9546b5bf-a121-430a-b785-22b0f3c788bb\" xlink:show=\"new\" xlink:title=\"psysml:9546b5bf-a121-430a-b785-22b0f3c788bb\" xlink:type=\"simple\"><rect fill=\"#FEFECE\" filter=\"url(#f5kd2i4rs59gl)\" height=\"45.9375\" id=\"E6\" rx=\"10\" ry=\"10\" style=\"stroke: #A80036; stroke-width: 1.5;\" width=\"42\" x=\"145\" y=\"87.5\"/><text fill=\"#000000\" font-family=\"sans-serif\" font-size=\"12\" font-style=\"italic\" lengthAdjust=\"spacingAndGlyphs\" textLength=\"40\" x=\"146\" y=\"103.6387\">«part»</text><text fill=\"#000000\" font-family=\"sans-serif\" font-size=\"12\" lengthAdjust=\"spacingAndGlyphs\" textLength=\"22\" x=\"155\" y=\"117.6074\">x: A</text><line style=\"stroke: #A80036; stroke-width: 1.5;\" x1=\"146\" x2=\"186\" y1=\"125.4375\" y2=\"125.4375\"/></a><a href=\"psysml:b96f1ba5-fc32-4046-b5fe-7b623c9bf90c\" target=\"_top\" title=\"psysml:b96f1ba5-fc32-4046-b5fe-7b623c9bf90c\" xlink:actuate=\"onRequest\" xlink:href=\"psysml:b96f1ba5-fc32-4046-b5fe-7b623c9bf90c\" xlink:show=\"new\" xlink:title=\"psysml:b96f1ba5-fc32-4046-b5fe-7b623c9bf90c\" xlink:type=\"simple\"><polygon fill=\"#FFFFFF\" filter=\"url(#f5kd2i4rs59gl)\" points=\"60.5,84,95.5,84,102.5,106.2969,109.5,106.2969,109.5,136.5938,60.5,136.5938,60.5,84\" style=\"stroke: #000000; stroke-width: 1.5;\"/><line style=\"stroke: #000000; stroke-width: 1.5;\" x1=\"60.5\" x2=\"102.5\" y1=\"106.2969\" y2=\"106.2969\"/><text fill=\"#000000\" font-family=\"sans-serif\" font-size=\"14\" font-weight=\"bold\" lengthAdjust=\"spacingAndGlyphs\" textLength=\"29\" x=\"64.5\" y=\"98.9951\">P2a</text></a><!--MD5=[a717450b82c80b9240a525fa862496af]\n",
       "link E6 to E3--><a href=\"psysml:4aa795d2-d8a8-4fd3-b09b-984289b8e469\" target=\"_top\" title=\"psysml:4aa795d2-d8a8-4fd3-b09b-984289b8e469\" xlink:actuate=\"onRequest\" xlink:href=\"psysml:4aa795d2-d8a8-4fd3-b09b-984289b8e469\" xlink:show=\"new\" xlink:title=\"psysml:4aa795d2-d8a8-4fd3-b09b-984289b8e469\" xlink:type=\"simple\"><path d=\"M163.83,133.68 C162.24,149.9 160.04,172.39 158.12,191.96 \" fill=\"none\" id=\"E6-&gt;E3\" style=\"stroke: #A80036; stroke-width: 1.0;\"/><polygon fill=\"#FFFFFF\" points=\"156.16,211.98,151.0533,192.3861,164.986,193.7564,156.16,211.98\" style=\"stroke: #A80036; stroke-width: 1.0;\"/><ellipse cx=\"153.6016\" cy=\"186.9092\" fill=\"#A80036\" rx=\"2\" ry=\"2\" style=\"stroke: #A80036; stroke-width: 1.0;\"/><ellipse cx=\"163.5535\" cy=\"187.888\" fill=\"#A80036\" rx=\"2\" ry=\"2\" style=\"stroke: #A80036; stroke-width: 1.0;\"/></a><!--MD5=[3862a6f25b0f152e057d75e1e8cf71d6]\n",
       "@startuml\r\n",
       "skinparam wrapWidth 300\r\n",
       "hide circle\r\n",
       "\r\n",
       "package \"QualifiedNameImportTest\" as E1  [[psysml:986fc1fb-4aef-4106-b1ed-1986834153ab ]]  {\r\n",
       "package \"P1\" as E2  [[psysml:372b503a-8716-40b4-8b99-cd3a963555f9 ]]  {\r\n",
       "comp def \"A\" as E3  <<(T,blue)part def>> [[psysml:d5e28260-c8b5-4b29-a8f8-2a36a510faa1 ]] {\r\n",
       "}\r\n",
       "}\r\n",
       "package \"P2\" as E4  [[psysml:ae810913-1289-4b59-a95a-360ad08f1101 ]]  {\r\n",
       "package \"P2a\" as E5  [[psysml:b96f1ba5-fc32-4046-b5fe-7b623c9bf90c ]]  {\r\n",
       "}\r\n",
       "comp usage \"x: A\" as E6  <<(T,blue)part>> [[psysml:9546b5bf-a121-430a-b785-22b0f3c788bb ]] {\r\n",
       "}\r\n",
       "E6 - -:|> E3 [[psysml:4aa795d2-d8a8-4fd3-b09b-984289b8e469 ]] \r\n",
       "}\r\n",
       "}\r\n",
       "@enduml\r\n",
       "\n",
       "PlantUML version 1.2020.13(Sat Jun 13 12:26:38 UTC 2020)\n",
       "(EPL source distribution)\n",
       "Java Runtime: OpenJDK Runtime Environment\n",
       "JVM: OpenJDK 64-Bit Server VM\n",
       "Default Encoding: UTF-8\n",
       "Language: en\n",
       "Country: null\n",
       "--></g></svg>"
      ]
     },
     "execution_count": 24,
     "metadata": {},
     "output_type": "execute_result"
    }
   ],
   "source": [
    "%viz --style=\"STDCOLOR\" --view=\"Tree\" \"QualifiedNameImportTest\""
   ]
  },
  {
   "cell_type": "code",
   "execution_count": 25,
   "id": "14f9dd5a",
   "metadata": {
    "execution": {
     "iopub.execute_input": "2021-04-20T07:02:41.311818Z",
     "iopub.status.busy": "2021-04-20T07:02:41.311355Z",
     "iopub.status.idle": "2021-04-20T07:02:41.318716Z",
     "shell.execute_reply": "2021-04-20T07:02:41.318386Z"
    }
   },
   "outputs": [
    {
     "data": {
      "image/svg+xml": [
       "<?xml version=\"1.0\" encoding=\"UTF-8\" standalone=\"no\"?><svg xmlns=\"http://www.w3.org/2000/svg\" xmlns:xlink=\"http://www.w3.org/1999/xlink\" contentScriptType=\"application/ecmascript\" contentStyleType=\"text/css\" height=\"12px\" preserveAspectRatio=\"none\" style=\"width:12px;height:12px;\" version=\"1.1\" viewBox=\"0 0 12 12\" width=\"12px\" zoomAndPan=\"magnify\"><defs/><g><!--MD5=[aeeef50f102b80d730deb6443d14f702]\n",
       "@startuml\r\n",
       "skinparam wrapWidth 300\r\n",
       "hide circle\r\n",
       "\r\n",
       "@enduml\r\n",
       "\n",
       "PlantUML version 1.2020.13(Sat Jun 13 12:26:38 UTC 2020)\n",
       "(EPL source distribution)\n",
       "Java Runtime: OpenJDK Runtime Environment\n",
       "JVM: OpenJDK 64-Bit Server VM\n",
       "Default Encoding: UTF-8\n",
       "Language: en\n",
       "Country: null\n",
       "--></g></svg>"
      ]
     },
     "execution_count": 25,
     "metadata": {},
     "output_type": "execute_result"
    }
   ],
   "source": [
    "%viz --style=\"STDCOLOR\" --view=\"State\" \"QualifiedNameImportTest\""
   ]
  },
  {
   "cell_type": "code",
   "execution_count": 26,
   "id": "590a6fb3",
   "metadata": {
    "execution": {
     "iopub.execute_input": "2021-04-20T07:02:41.368698Z",
     "iopub.status.busy": "2021-04-20T07:02:41.368277Z",
     "iopub.status.idle": "2021-04-20T07:02:41.397555Z",
     "shell.execute_reply": "2021-04-20T07:02:41.393456Z"
    }
   },
   "outputs": [
    {
     "data": {
      "image/svg+xml": [
       "<?xml version=\"1.0\" encoding=\"UTF-8\" standalone=\"no\"?><svg xmlns=\"http://www.w3.org/2000/svg\" xmlns:xlink=\"http://www.w3.org/1999/xlink\" contentScriptType=\"application/ecmascript\" contentStyleType=\"text/css\" height=\"189px\" preserveAspectRatio=\"none\" style=\"width:381px;height:189px;\" version=\"1.1\" viewBox=\"0 0 381 189\" width=\"381px\" zoomAndPan=\"magnify\"><defs><filter height=\"300%\" id=\"feui5zrfemov4\" width=\"300%\" x=\"-1\" y=\"-1\"><feGaussianBlur result=\"blurOut\" stdDeviation=\"2.0\"/><feColorMatrix in=\"blurOut\" result=\"blurOut2\" type=\"matrix\" values=\"0 0 0 0 0 0 0 0 0 0 0 0 0 0 0 0 0 0 .4 0\"/><feOffset dx=\"4.0\" dy=\"4.0\" in=\"blurOut2\" result=\"blurOut3\"/><feBlend in=\"SourceGraphic\" in2=\"blurOut3\" mode=\"normal\"/></filter></defs><g><!--MD5=[fbc87193dbaf4d95561dea2c320d4a47]\n",
       "cluster E1--><a href=\"psysml:986fc1fb-4aef-4106-b1ed-1986834153ab\" target=\"_top\" title=\"psysml:986fc1fb-4aef-4106-b1ed-1986834153ab\" xlink:actuate=\"onRequest\" xlink:href=\"psysml:986fc1fb-4aef-4106-b1ed-1986834153ab\" xlink:show=\"new\" xlink:title=\"psysml:986fc1fb-4aef-4106-b1ed-1986834153ab\" xlink:type=\"simple\"><polygon fill=\"#FFFFFF\" filter=\"url(#feui5zrfemov4)\" points=\"16,6,221,6,228,28.2969,359,28.2969,359,177,16,177,16,6\" style=\"stroke: #000000; stroke-width: 1.5;\"/><line style=\"stroke: #000000; stroke-width: 1.5;\" x1=\"16\" x2=\"228\" y1=\"28.2969\" y2=\"28.2969\"/><text fill=\"#000000\" font-family=\"sans-serif\" font-size=\"14\" font-weight=\"bold\" lengthAdjust=\"spacingAndGlyphs\" textLength=\"199\" x=\"20\" y=\"20.9951\">QualifiedNameImportTest</text></a><!--MD5=[e4f7fae6ed58524ba242bb0b0d3be6b7]\n",
       "cluster E2--><a href=\"psysml:372b503a-8716-40b4-8b99-cd3a963555f9\" target=\"_top\" title=\"psysml:372b503a-8716-40b4-8b99-cd3a963555f9\" xlink:actuate=\"onRequest\" xlink:href=\"psysml:372b503a-8716-40b4-8b99-cd3a963555f9\" xlink:show=\"new\" xlink:title=\"psysml:372b503a-8716-40b4-8b99-cd3a963555f9\" xlink:type=\"simple\"><polygon fill=\"#FFFFFF\" filter=\"url(#feui5zrfemov4)\" points=\"231,54,257,54,264,76.2969,335,76.2969,335,148,231,148,231,54\" style=\"stroke: #000000; stroke-width: 1.5;\"/><line style=\"stroke: #000000; stroke-width: 1.5;\" x1=\"231\" x2=\"264\" y1=\"76.2969\" y2=\"76.2969\"/><text fill=\"#000000\" font-family=\"sans-serif\" font-size=\"14\" font-weight=\"bold\" lengthAdjust=\"spacingAndGlyphs\" textLength=\"20\" x=\"235\" y=\"68.9951\">P1</text></a><!--MD5=[f6df4d0ebaf0b5dfb2ced0ae5af7c670]\n",
       "cluster E4--><a href=\"psysml:ae810913-1289-4b59-a95a-360ad08f1101\" target=\"_top\" title=\"psysml:ae810913-1289-4b59-a95a-360ad08f1101\" xlink:actuate=\"onRequest\" xlink:href=\"psysml:ae810913-1289-4b59-a95a-360ad08f1101\" xlink:show=\"new\" xlink:title=\"psysml:ae810913-1289-4b59-a95a-360ad08f1101\" xlink:type=\"simple\"><polygon fill=\"#FFFFFF\" filter=\"url(#feui5zrfemov4)\" points=\"40,49,66,49,73,71.2969,207,71.2969,207,153,40,153,40,49\" style=\"stroke: #000000; stroke-width: 1.5;\"/><line style=\"stroke: #000000; stroke-width: 1.5;\" x1=\"40\" x2=\"73\" y1=\"71.2969\" y2=\"71.2969\"/><text fill=\"#000000\" font-family=\"sans-serif\" font-size=\"14\" font-weight=\"bold\" lengthAdjust=\"spacingAndGlyphs\" textLength=\"20\" x=\"44\" y=\"63.9951\">P2</text></a><g id=\"E1.E2.E3\"><a href=\"psysml:d5e28260-c8b5-4b29-a8f8-2a36a510faa1\" target=\"_top\" title=\"psysml:d5e28260-c8b5-4b29-a8f8-2a36a510faa1\" xlink:actuate=\"onRequest\" xlink:href=\"psysml:d5e28260-c8b5-4b29-a8f8-2a36a510faa1\" xlink:show=\"new\" xlink:title=\"psysml:d5e28260-c8b5-4b29-a8f8-2a36a510faa1\" xlink:type=\"simple\"><rect fill=\"#FEFECE\" filter=\"url(#feui5zrfemov4)\" height=\"42.9375\" id=\"E3\" style=\"stroke: #A80036; stroke-width: 1.5;\" width=\"71\" x=\"247.5\" y=\"89\"/><text fill=\"#000000\" font-family=\"sans-serif\" font-size=\"12\" font-style=\"italic\" lengthAdjust=\"spacingAndGlyphs\" textLength=\"64\" x=\"251\" y=\"105.1387\">«part def»</text><text fill=\"#000000\" font-family=\"sans-serif\" font-size=\"12\" lengthAdjust=\"spacingAndGlyphs\" textLength=\"8\" x=\"279\" y=\"119.1074\">A</text></a></g><a href=\"psysml:b96f1ba5-fc32-4046-b5fe-7b623c9bf90c\" target=\"_top\" title=\"psysml:b96f1ba5-fc32-4046-b5fe-7b623c9bf90c\" xlink:actuate=\"onRequest\" xlink:href=\"psysml:b96f1ba5-fc32-4046-b5fe-7b623c9bf90c\" xlink:show=\"new\" xlink:title=\"psysml:b96f1ba5-fc32-4046-b5fe-7b623c9bf90c\" xlink:type=\"simple\"><polygon fill=\"#FFFFFF\" filter=\"url(#feui5zrfemov4)\" points=\"141.5,84,176.5,84,183.5,106.2969,190.5,106.2969,190.5,136.5938,141.5,136.5938,141.5,84\" style=\"stroke: #000000; stroke-width: 1.5;\"/><line style=\"stroke: #000000; stroke-width: 1.5;\" x1=\"141.5\" x2=\"183.5\" y1=\"106.2969\" y2=\"106.2969\"/><text fill=\"#000000\" font-family=\"sans-serif\" font-size=\"14\" font-weight=\"bold\" lengthAdjust=\"spacingAndGlyphs\" textLength=\"29\" x=\"145.5\" y=\"98.9951\">P2a</text></a><g id=\"E1.E4.E6\"><a href=\"psysml:9546b5bf-a121-430a-b785-22b0f3c788bb\" target=\"_top\" title=\"psysml:9546b5bf-a121-430a-b785-22b0f3c788bb\" xlink:actuate=\"onRequest\" xlink:href=\"psysml:9546b5bf-a121-430a-b785-22b0f3c788bb\" xlink:show=\"new\" xlink:title=\"psysml:9546b5bf-a121-430a-b785-22b0f3c788bb\" xlink:type=\"simple\"><rect fill=\"#FEFECE\" filter=\"url(#feui5zrfemov4)\" height=\"40\" id=\"E6\" rx=\"10\" ry=\"10\" style=\"stroke: #A80036; stroke-width: 1.5;\" width=\"50\" x=\"56\" y=\"90.5\"/><text fill=\"#000000\" font-family=\"sans-serif\" font-size=\"12\" lengthAdjust=\"spacingAndGlyphs\" textLength=\"22\" x=\"70\" y=\"106.6387\">x: A</text></a></g><!--MD5=[1a2f1311e60aacf530d3feb2a4f72b6c]\n",
       "@startuml\r\n",
       "skinparam ranksep 10\r\n",
       "skinparam rectangle {\r\n",
       " backgroundColor<<block>> LightGreen\r\n",
       "}\r\n",
       "skinparam wrapWidth 300\r\n",
       "hide circle\r\n",
       "\r\n",
       "package \"QualifiedNameImportTest\" as E1  [[psysml:986fc1fb-4aef-4106-b1ed-1986834153ab ]]  {\r\n",
       "package \"P1\" as E2  [[psysml:372b503a-8716-40b4-8b99-cd3a963555f9 ]]  {\r\n",
       "rec def \"A\" as E3  <<(T,blue)part def>> [[psysml:d5e28260-c8b5-4b29-a8f8-2a36a510faa1 ]] {\r\n",
       "}\r\n",
       "}\r\n",
       "package \"P2\" as E4  [[psysml:ae810913-1289-4b59-a95a-360ad08f1101 ]]  {\r\n",
       "package \"P2a\" as E5  [[psysml:b96f1ba5-fc32-4046-b5fe-7b623c9bf90c ]]  {\r\n",
       "}\r\n",
       "rec usage \"x: A\" as E6  [[psysml:9546b5bf-a121-430a-b785-22b0f3c788bb ]] {\r\n",
       "}\r\n",
       "}\r\n",
       "}\r\n",
       "@enduml\r\n",
       "\n",
       "PlantUML version 1.2020.13(Sat Jun 13 12:26:38 UTC 2020)\n",
       "(EPL source distribution)\n",
       "Java Runtime: OpenJDK Runtime Environment\n",
       "JVM: OpenJDK 64-Bit Server VM\n",
       "Default Encoding: UTF-8\n",
       "Language: en\n",
       "Country: null\n",
       "--></g></svg>"
      ]
     },
     "execution_count": 26,
     "metadata": {},
     "output_type": "execute_result"
    }
   ],
   "source": [
    "%viz --style=\"STDCOLOR\" --view=\"Interconnection\" \"QualifiedNameImportTest\""
   ]
  },
  {
   "cell_type": "code",
   "execution_count": 27,
   "id": "b4723fc8",
   "metadata": {
    "execution": {
     "iopub.execute_input": "2021-04-20T07:02:41.444159Z",
     "iopub.status.busy": "2021-04-20T07:02:41.443688Z",
     "iopub.status.idle": "2021-04-20T07:02:41.448546Z",
     "shell.execute_reply": "2021-04-20T07:02:41.447912Z"
    }
   },
   "outputs": [
    {
     "data": {
      "image/svg+xml": [
       "<?xml version=\"1.0\" encoding=\"UTF-8\" standalone=\"no\"?><svg xmlns=\"http://www.w3.org/2000/svg\" xmlns:xlink=\"http://www.w3.org/1999/xlink\" contentScriptType=\"application/ecmascript\" contentStyleType=\"text/css\" height=\"12px\" preserveAspectRatio=\"none\" style=\"width:12px;height:12px;\" version=\"1.1\" viewBox=\"0 0 12 12\" width=\"12px\" zoomAndPan=\"magnify\"><defs/><g><!--MD5=[9863325348a96a77dacc89509d8ee65e]\n",
       "@startuml\r\n",
       "skinparam ranksep 8\r\n",
       "skinparam wrapWidth 300\r\n",
       "hide circle\r\n",
       "\r\n",
       "@enduml\r\n",
       "\n",
       "PlantUML version 1.2020.13(Sat Jun 13 12:26:38 UTC 2020)\n",
       "(EPL source distribution)\n",
       "Java Runtime: OpenJDK Runtime Environment\n",
       "JVM: OpenJDK 64-Bit Server VM\n",
       "Default Encoding: UTF-8\n",
       "Language: en\n",
       "Country: null\n",
       "--></g></svg>"
      ]
     },
     "execution_count": 27,
     "metadata": {},
     "output_type": "execute_result"
    }
   ],
   "source": [
    "%viz --style=\"STDCOLOR\" --view=\"Action\" \"QualifiedNameImportTest\""
   ]
  },
  {
   "cell_type": "code",
   "execution_count": 28,
   "id": "ac4442b2",
   "metadata": {
    "execution": {
     "iopub.execute_input": "2021-04-20T07:02:41.500132Z",
     "iopub.status.busy": "2021-04-20T07:02:41.499561Z",
     "iopub.status.idle": "2021-04-20T07:02:41.528266Z",
     "shell.execute_reply": "2021-04-20T07:02:41.527617Z"
    }
   },
   "outputs": [
    {
     "data": {
      "image/svg+xml": [
       "<?xml version=\"1.0\" encoding=\"UTF-8\" standalone=\"no\"?><svg xmlns=\"http://www.w3.org/2000/svg\" xmlns:xlink=\"http://www.w3.org/1999/xlink\" contentScriptType=\"application/ecmascript\" contentStyleType=\"text/css\" height=\"310px\" preserveAspectRatio=\"none\" style=\"width:253px;height:310px;\" version=\"1.1\" viewBox=\"0 0 253 310\" width=\"253px\" zoomAndPan=\"magnify\"><defs><filter height=\"300%\" id=\"f5kd2i4rs59gl\" width=\"300%\" x=\"-1\" y=\"-1\"><feGaussianBlur result=\"blurOut\" stdDeviation=\"2.0\"/><feColorMatrix in=\"blurOut\" result=\"blurOut2\" type=\"matrix\" values=\"0 0 0 0 0 0 0 0 0 0 0 0 0 0 0 0 0 0 .4 0\"/><feOffset dx=\"4.0\" dy=\"4.0\" in=\"blurOut2\" result=\"blurOut3\"/><feBlend in=\"SourceGraphic\" in2=\"blurOut3\" mode=\"normal\"/></filter></defs><g><!--MD5=[fbc87193dbaf4d95561dea2c320d4a47]\n",
       "cluster E1--><a href=\"psysml:986fc1fb-4aef-4106-b1ed-1986834153ab\" target=\"_top\" title=\"psysml:986fc1fb-4aef-4106-b1ed-1986834153ab\" xlink:actuate=\"onRequest\" xlink:href=\"psysml:986fc1fb-4aef-4106-b1ed-1986834153ab\" xlink:show=\"new\" xlink:title=\"psysml:986fc1fb-4aef-4106-b1ed-1986834153ab\" xlink:type=\"simple\"><polygon fill=\"#FFFFFF\" filter=\"url(#f5kd2i4rs59gl)\" points=\"16,6,221,6,228,28.2969,231,28.2969,231,298,16,298,16,6\" style=\"stroke: #000000; stroke-width: 1.5;\"/><line style=\"stroke: #000000; stroke-width: 1.5;\" x1=\"16\" x2=\"228\" y1=\"28.2969\" y2=\"28.2969\"/><text fill=\"#000000\" font-family=\"sans-serif\" font-size=\"14\" font-weight=\"bold\" lengthAdjust=\"spacingAndGlyphs\" textLength=\"199\" x=\"20\" y=\"20.9951\">QualifiedNameImportTest</text></a><!--MD5=[e4f7fae6ed58524ba242bb0b0d3be6b7]\n",
       "cluster E2--><a href=\"psysml:372b503a-8716-40b4-8b99-cd3a963555f9\" target=\"_top\" title=\"psysml:372b503a-8716-40b4-8b99-cd3a963555f9\" xlink:actuate=\"onRequest\" xlink:href=\"psysml:372b503a-8716-40b4-8b99-cd3a963555f9\" xlink:show=\"new\" xlink:title=\"psysml:372b503a-8716-40b4-8b99-cd3a963555f9\" xlink:type=\"simple\"><polygon fill=\"#FFFFFF\" filter=\"url(#f5kd2i4rs59gl)\" points=\"105,177,131,177,138,199.2969,203,199.2969,203,274,105,274,105,177\" style=\"stroke: #000000; stroke-width: 1.5;\"/><line style=\"stroke: #000000; stroke-width: 1.5;\" x1=\"105\" x2=\"138\" y1=\"199.2969\" y2=\"199.2969\"/><text fill=\"#000000\" font-family=\"sans-serif\" font-size=\"14\" font-weight=\"bold\" lengthAdjust=\"spacingAndGlyphs\" textLength=\"20\" x=\"109\" y=\"191.9951\">P1</text></a><!--MD5=[f6df4d0ebaf0b5dfb2ced0ae5af7c670]\n",
       "cluster E4--><a href=\"psysml:ae810913-1289-4b59-a95a-360ad08f1101\" target=\"_top\" title=\"psysml:ae810913-1289-4b59-a95a-360ad08f1101\" xlink:actuate=\"onRequest\" xlink:href=\"psysml:ae810913-1289-4b59-a95a-360ad08f1101\" xlink:show=\"new\" xlink:title=\"psysml:ae810913-1289-4b59-a95a-360ad08f1101\" xlink:type=\"simple\"><polygon fill=\"#FFFFFF\" filter=\"url(#f5kd2i4rs59gl)\" points=\"44,49,70,49,77,71.2969,203,71.2969,203,153,44,153,44,49\" style=\"stroke: #000000; stroke-width: 1.5;\"/><line style=\"stroke: #000000; stroke-width: 1.5;\" x1=\"44\" x2=\"77\" y1=\"71.2969\" y2=\"71.2969\"/><text fill=\"#000000\" font-family=\"sans-serif\" font-size=\"14\" font-weight=\"bold\" lengthAdjust=\"spacingAndGlyphs\" textLength=\"20\" x=\"48\" y=\"63.9951\">P2</text></a><!--MD5=[09b614a08d8cba4a07c9adeb5e0fee81]\n",
       "class E3--><a href=\"psysml:d5e28260-c8b5-4b29-a8f8-2a36a510faa1\" target=\"_top\" title=\"psysml:d5e28260-c8b5-4b29-a8f8-2a36a510faa1\" xlink:actuate=\"onRequest\" xlink:href=\"psysml:d5e28260-c8b5-4b29-a8f8-2a36a510faa1\" xlink:show=\"new\" xlink:title=\"psysml:d5e28260-c8b5-4b29-a8f8-2a36a510faa1\" xlink:type=\"simple\"><rect fill=\"#FEFECE\" filter=\"url(#f5kd2i4rs59gl)\" height=\"45.9375\" id=\"E3\" style=\"stroke: #A80036; stroke-width: 1.5;\" width=\"66\" x=\"121\" y=\"212\"/><text fill=\"#000000\" font-family=\"sans-serif\" font-size=\"12\" font-style=\"italic\" lengthAdjust=\"spacingAndGlyphs\" textLength=\"64\" x=\"122\" y=\"228.1387\">«part def»</text><text fill=\"#000000\" font-family=\"sans-serif\" font-size=\"12\" lengthAdjust=\"spacingAndGlyphs\" textLength=\"8\" x=\"150\" y=\"242.1074\">A</text><line style=\"stroke: #A80036; stroke-width: 1.5;\" x1=\"122\" x2=\"186\" y1=\"249.9375\" y2=\"249.9375\"/></a><!--MD5=[60a26617385b1d2d0262a64233df1f8d]\n",
       "class E6--><a href=\"psysml:9546b5bf-a121-430a-b785-22b0f3c788bb\" target=\"_top\" title=\"psysml:9546b5bf-a121-430a-b785-22b0f3c788bb\" xlink:actuate=\"onRequest\" xlink:href=\"psysml:9546b5bf-a121-430a-b785-22b0f3c788bb\" xlink:show=\"new\" xlink:title=\"psysml:9546b5bf-a121-430a-b785-22b0f3c788bb\" xlink:type=\"simple\"><rect fill=\"#FEFECE\" filter=\"url(#f5kd2i4rs59gl)\" height=\"45.9375\" id=\"E6\" rx=\"10\" ry=\"10\" style=\"stroke: #A80036; stroke-width: 1.5;\" width=\"42\" x=\"145\" y=\"87.5\"/><text fill=\"#000000\" font-family=\"sans-serif\" font-size=\"12\" font-style=\"italic\" lengthAdjust=\"spacingAndGlyphs\" textLength=\"40\" x=\"146\" y=\"103.6387\">«part»</text><text fill=\"#000000\" font-family=\"sans-serif\" font-size=\"12\" lengthAdjust=\"spacingAndGlyphs\" textLength=\"22\" x=\"155\" y=\"117.6074\">x: A</text><line style=\"stroke: #A80036; stroke-width: 1.5;\" x1=\"146\" x2=\"186\" y1=\"125.4375\" y2=\"125.4375\"/></a><a href=\"psysml:b96f1ba5-fc32-4046-b5fe-7b623c9bf90c\" target=\"_top\" title=\"psysml:b96f1ba5-fc32-4046-b5fe-7b623c9bf90c\" xlink:actuate=\"onRequest\" xlink:href=\"psysml:b96f1ba5-fc32-4046-b5fe-7b623c9bf90c\" xlink:show=\"new\" xlink:title=\"psysml:b96f1ba5-fc32-4046-b5fe-7b623c9bf90c\" xlink:type=\"simple\"><polygon fill=\"#FFFFFF\" filter=\"url(#f5kd2i4rs59gl)\" points=\"60.5,84,95.5,84,102.5,106.2969,109.5,106.2969,109.5,136.5938,60.5,136.5938,60.5,84\" style=\"stroke: #000000; stroke-width: 1.5;\"/><line style=\"stroke: #000000; stroke-width: 1.5;\" x1=\"60.5\" x2=\"102.5\" y1=\"106.2969\" y2=\"106.2969\"/><text fill=\"#000000\" font-family=\"sans-serif\" font-size=\"14\" font-weight=\"bold\" lengthAdjust=\"spacingAndGlyphs\" textLength=\"29\" x=\"64.5\" y=\"98.9951\">P2a</text></a><!--MD5=[a717450b82c80b9240a525fa862496af]\n",
       "link E6 to E3--><a href=\"psysml:4aa795d2-d8a8-4fd3-b09b-984289b8e469\" target=\"_top\" title=\"psysml:4aa795d2-d8a8-4fd3-b09b-984289b8e469\" xlink:actuate=\"onRequest\" xlink:href=\"psysml:4aa795d2-d8a8-4fd3-b09b-984289b8e469\" xlink:show=\"new\" xlink:title=\"psysml:4aa795d2-d8a8-4fd3-b09b-984289b8e469\" xlink:type=\"simple\"><path d=\"M163.83,133.68 C162.24,149.9 160.04,172.39 158.12,191.96 \" fill=\"none\" id=\"E6-&gt;E3\" style=\"stroke: #A80036; stroke-width: 1.0;\"/><polygon fill=\"#FFFFFF\" points=\"156.16,211.98,151.0533,192.3861,164.986,193.7564,156.16,211.98\" style=\"stroke: #A80036; stroke-width: 1.0;\"/><ellipse cx=\"153.6016\" cy=\"186.9092\" fill=\"#A80036\" rx=\"2\" ry=\"2\" style=\"stroke: #A80036; stroke-width: 1.0;\"/><ellipse cx=\"163.5535\" cy=\"187.888\" fill=\"#A80036\" rx=\"2\" ry=\"2\" style=\"stroke: #A80036; stroke-width: 1.0;\"/></a><!--MD5=[3862a6f25b0f152e057d75e1e8cf71d6]\n",
       "@startuml\r\n",
       "skinparam wrapWidth 300\r\n",
       "hide circle\r\n",
       "\r\n",
       "package \"QualifiedNameImportTest\" as E1  [[psysml:986fc1fb-4aef-4106-b1ed-1986834153ab ]]  {\r\n",
       "package \"P1\" as E2  [[psysml:372b503a-8716-40b4-8b99-cd3a963555f9 ]]  {\r\n",
       "comp def \"A\" as E3  <<(T,blue)part def>> [[psysml:d5e28260-c8b5-4b29-a8f8-2a36a510faa1 ]] {\r\n",
       "}\r\n",
       "}\r\n",
       "package \"P2\" as E4  [[psysml:ae810913-1289-4b59-a95a-360ad08f1101 ]]  {\r\n",
       "package \"P2a\" as E5  [[psysml:b96f1ba5-fc32-4046-b5fe-7b623c9bf90c ]]  {\r\n",
       "}\r\n",
       "comp usage \"x: A\" as E6  <<(T,blue)part>> [[psysml:9546b5bf-a121-430a-b785-22b0f3c788bb ]] {\r\n",
       "}\r\n",
       "E6 - -:|> E3 [[psysml:4aa795d2-d8a8-4fd3-b09b-984289b8e469 ]] \r\n",
       "}\r\n",
       "}\r\n",
       "@enduml\r\n",
       "\n",
       "PlantUML version 1.2020.13(Sat Jun 13 12:26:38 UTC 2020)\n",
       "(EPL source distribution)\n",
       "Java Runtime: OpenJDK Runtime Environment\n",
       "JVM: OpenJDK 64-Bit Server VM\n",
       "Default Encoding: UTF-8\n",
       "Language: en\n",
       "Country: null\n",
       "--></g></svg>"
      ]
     },
     "execution_count": 28,
     "metadata": {},
     "output_type": "execute_result"
    }
   ],
   "source": [
    "%viz --style=\"STDCOLOR\" --view=\"Sequence\" \"QualifiedNameImportTest\""
   ]
  },
  {
   "cell_type": "code",
   "execution_count": 29,
   "id": "ca95a827",
   "metadata": {
    "execution": {
     "iopub.execute_input": "2021-04-20T07:02:41.578911Z",
     "iopub.status.busy": "2021-04-20T07:02:41.578401Z",
     "iopub.status.idle": "2021-04-20T07:02:41.605172Z",
     "shell.execute_reply": "2021-04-20T07:02:41.603849Z"
    }
   },
   "outputs": [
    {
     "data": {
      "image/svg+xml": [
       "<?xml version=\"1.0\" encoding=\"UTF-8\" standalone=\"no\"?><svg xmlns=\"http://www.w3.org/2000/svg\" xmlns:xlink=\"http://www.w3.org/1999/xlink\" contentScriptType=\"application/ecmascript\" contentStyleType=\"text/css\" height=\"310px\" preserveAspectRatio=\"none\" style=\"width:253px;height:310px;\" version=\"1.1\" viewBox=\"0 0 253 310\" width=\"253px\" zoomAndPan=\"magnify\"><defs><filter height=\"300%\" id=\"f5kd2i4rs59gl\" width=\"300%\" x=\"-1\" y=\"-1\"><feGaussianBlur result=\"blurOut\" stdDeviation=\"2.0\"/><feColorMatrix in=\"blurOut\" result=\"blurOut2\" type=\"matrix\" values=\"0 0 0 0 0 0 0 0 0 0 0 0 0 0 0 0 0 0 .4 0\"/><feOffset dx=\"4.0\" dy=\"4.0\" in=\"blurOut2\" result=\"blurOut3\"/><feBlend in=\"SourceGraphic\" in2=\"blurOut3\" mode=\"normal\"/></filter></defs><g><!--MD5=[fbc87193dbaf4d95561dea2c320d4a47]\n",
       "cluster E1--><a href=\"psysml:986fc1fb-4aef-4106-b1ed-1986834153ab\" target=\"_top\" title=\"psysml:986fc1fb-4aef-4106-b1ed-1986834153ab\" xlink:actuate=\"onRequest\" xlink:href=\"psysml:986fc1fb-4aef-4106-b1ed-1986834153ab\" xlink:show=\"new\" xlink:title=\"psysml:986fc1fb-4aef-4106-b1ed-1986834153ab\" xlink:type=\"simple\"><polygon fill=\"#FFFFFF\" filter=\"url(#f5kd2i4rs59gl)\" points=\"16,6,221,6,228,28.2969,231,28.2969,231,298,16,298,16,6\" style=\"stroke: #000000; stroke-width: 1.5;\"/><line style=\"stroke: #000000; stroke-width: 1.5;\" x1=\"16\" x2=\"228\" y1=\"28.2969\" y2=\"28.2969\"/><text fill=\"#000000\" font-family=\"sans-serif\" font-size=\"14\" font-weight=\"bold\" lengthAdjust=\"spacingAndGlyphs\" textLength=\"199\" x=\"20\" y=\"20.9951\">QualifiedNameImportTest</text></a><!--MD5=[e4f7fae6ed58524ba242bb0b0d3be6b7]\n",
       "cluster E2--><a href=\"psysml:372b503a-8716-40b4-8b99-cd3a963555f9\" target=\"_top\" title=\"psysml:372b503a-8716-40b4-8b99-cd3a963555f9\" xlink:actuate=\"onRequest\" xlink:href=\"psysml:372b503a-8716-40b4-8b99-cd3a963555f9\" xlink:show=\"new\" xlink:title=\"psysml:372b503a-8716-40b4-8b99-cd3a963555f9\" xlink:type=\"simple\"><polygon fill=\"#FFFFFF\" filter=\"url(#f5kd2i4rs59gl)\" points=\"105,177,131,177,138,199.2969,203,199.2969,203,274,105,274,105,177\" style=\"stroke: #000000; stroke-width: 1.5;\"/><line style=\"stroke: #000000; stroke-width: 1.5;\" x1=\"105\" x2=\"138\" y1=\"199.2969\" y2=\"199.2969\"/><text fill=\"#000000\" font-family=\"sans-serif\" font-size=\"14\" font-weight=\"bold\" lengthAdjust=\"spacingAndGlyphs\" textLength=\"20\" x=\"109\" y=\"191.9951\">P1</text></a><!--MD5=[f6df4d0ebaf0b5dfb2ced0ae5af7c670]\n",
       "cluster E4--><a href=\"psysml:ae810913-1289-4b59-a95a-360ad08f1101\" target=\"_top\" title=\"psysml:ae810913-1289-4b59-a95a-360ad08f1101\" xlink:actuate=\"onRequest\" xlink:href=\"psysml:ae810913-1289-4b59-a95a-360ad08f1101\" xlink:show=\"new\" xlink:title=\"psysml:ae810913-1289-4b59-a95a-360ad08f1101\" xlink:type=\"simple\"><polygon fill=\"#FFFFFF\" filter=\"url(#f5kd2i4rs59gl)\" points=\"44,49,70,49,77,71.2969,203,71.2969,203,153,44,153,44,49\" style=\"stroke: #000000; stroke-width: 1.5;\"/><line style=\"stroke: #000000; stroke-width: 1.5;\" x1=\"44\" x2=\"77\" y1=\"71.2969\" y2=\"71.2969\"/><text fill=\"#000000\" font-family=\"sans-serif\" font-size=\"14\" font-weight=\"bold\" lengthAdjust=\"spacingAndGlyphs\" textLength=\"20\" x=\"48\" y=\"63.9951\">P2</text></a><!--MD5=[09b614a08d8cba4a07c9adeb5e0fee81]\n",
       "class E3--><a href=\"psysml:d5e28260-c8b5-4b29-a8f8-2a36a510faa1\" target=\"_top\" title=\"psysml:d5e28260-c8b5-4b29-a8f8-2a36a510faa1\" xlink:actuate=\"onRequest\" xlink:href=\"psysml:d5e28260-c8b5-4b29-a8f8-2a36a510faa1\" xlink:show=\"new\" xlink:title=\"psysml:d5e28260-c8b5-4b29-a8f8-2a36a510faa1\" xlink:type=\"simple\"><rect fill=\"#FEFECE\" filter=\"url(#f5kd2i4rs59gl)\" height=\"45.9375\" id=\"E3\" style=\"stroke: #A80036; stroke-width: 1.5;\" width=\"66\" x=\"121\" y=\"212\"/><text fill=\"#000000\" font-family=\"sans-serif\" font-size=\"12\" font-style=\"italic\" lengthAdjust=\"spacingAndGlyphs\" textLength=\"64\" x=\"122\" y=\"228.1387\">«part def»</text><text fill=\"#000000\" font-family=\"sans-serif\" font-size=\"12\" lengthAdjust=\"spacingAndGlyphs\" textLength=\"8\" x=\"150\" y=\"242.1074\">A</text><line style=\"stroke: #A80036; stroke-width: 1.5;\" x1=\"122\" x2=\"186\" y1=\"249.9375\" y2=\"249.9375\"/></a><!--MD5=[60a26617385b1d2d0262a64233df1f8d]\n",
       "class E6--><a href=\"psysml:9546b5bf-a121-430a-b785-22b0f3c788bb\" target=\"_top\" title=\"psysml:9546b5bf-a121-430a-b785-22b0f3c788bb\" xlink:actuate=\"onRequest\" xlink:href=\"psysml:9546b5bf-a121-430a-b785-22b0f3c788bb\" xlink:show=\"new\" xlink:title=\"psysml:9546b5bf-a121-430a-b785-22b0f3c788bb\" xlink:type=\"simple\"><rect fill=\"#FEFECE\" filter=\"url(#f5kd2i4rs59gl)\" height=\"45.9375\" id=\"E6\" rx=\"10\" ry=\"10\" style=\"stroke: #A80036; stroke-width: 1.5;\" width=\"42\" x=\"145\" y=\"87.5\"/><text fill=\"#000000\" font-family=\"sans-serif\" font-size=\"12\" font-style=\"italic\" lengthAdjust=\"spacingAndGlyphs\" textLength=\"40\" x=\"146\" y=\"103.6387\">«part»</text><text fill=\"#000000\" font-family=\"sans-serif\" font-size=\"12\" lengthAdjust=\"spacingAndGlyphs\" textLength=\"22\" x=\"155\" y=\"117.6074\">x: A</text><line style=\"stroke: #A80036; stroke-width: 1.5;\" x1=\"146\" x2=\"186\" y1=\"125.4375\" y2=\"125.4375\"/></a><a href=\"psysml:b96f1ba5-fc32-4046-b5fe-7b623c9bf90c\" target=\"_top\" title=\"psysml:b96f1ba5-fc32-4046-b5fe-7b623c9bf90c\" xlink:actuate=\"onRequest\" xlink:href=\"psysml:b96f1ba5-fc32-4046-b5fe-7b623c9bf90c\" xlink:show=\"new\" xlink:title=\"psysml:b96f1ba5-fc32-4046-b5fe-7b623c9bf90c\" xlink:type=\"simple\"><polygon fill=\"#FFFFFF\" filter=\"url(#f5kd2i4rs59gl)\" points=\"60.5,84,95.5,84,102.5,106.2969,109.5,106.2969,109.5,136.5938,60.5,136.5938,60.5,84\" style=\"stroke: #000000; stroke-width: 1.5;\"/><line style=\"stroke: #000000; stroke-width: 1.5;\" x1=\"60.5\" x2=\"102.5\" y1=\"106.2969\" y2=\"106.2969\"/><text fill=\"#000000\" font-family=\"sans-serif\" font-size=\"14\" font-weight=\"bold\" lengthAdjust=\"spacingAndGlyphs\" textLength=\"29\" x=\"64.5\" y=\"98.9951\">P2a</text></a><!--MD5=[a717450b82c80b9240a525fa862496af]\n",
       "link E6 to E3--><a href=\"psysml:4aa795d2-d8a8-4fd3-b09b-984289b8e469\" target=\"_top\" title=\"psysml:4aa795d2-d8a8-4fd3-b09b-984289b8e469\" xlink:actuate=\"onRequest\" xlink:href=\"psysml:4aa795d2-d8a8-4fd3-b09b-984289b8e469\" xlink:show=\"new\" xlink:title=\"psysml:4aa795d2-d8a8-4fd3-b09b-984289b8e469\" xlink:type=\"simple\"><path d=\"M163.83,133.68 C162.24,149.9 160.04,172.39 158.12,191.96 \" fill=\"none\" id=\"E6-&gt;E3\" style=\"stroke: #A80036; stroke-width: 1.0;\"/><polygon fill=\"#FFFFFF\" points=\"156.16,211.98,151.0533,192.3861,164.986,193.7564,156.16,211.98\" style=\"stroke: #A80036; stroke-width: 1.0;\"/><ellipse cx=\"153.6016\" cy=\"186.9092\" fill=\"#A80036\" rx=\"2\" ry=\"2\" style=\"stroke: #A80036; stroke-width: 1.0;\"/><ellipse cx=\"163.5535\" cy=\"187.888\" fill=\"#A80036\" rx=\"2\" ry=\"2\" style=\"stroke: #A80036; stroke-width: 1.0;\"/></a><!--MD5=[3862a6f25b0f152e057d75e1e8cf71d6]\n",
       "@startuml\r\n",
       "skinparam wrapWidth 300\r\n",
       "hide circle\r\n",
       "\r\n",
       "package \"QualifiedNameImportTest\" as E1  [[psysml:986fc1fb-4aef-4106-b1ed-1986834153ab ]]  {\r\n",
       "package \"P1\" as E2  [[psysml:372b503a-8716-40b4-8b99-cd3a963555f9 ]]  {\r\n",
       "comp def \"A\" as E3  <<(T,blue)part def>> [[psysml:d5e28260-c8b5-4b29-a8f8-2a36a510faa1 ]] {\r\n",
       "}\r\n",
       "}\r\n",
       "package \"P2\" as E4  [[psysml:ae810913-1289-4b59-a95a-360ad08f1101 ]]  {\r\n",
       "package \"P2a\" as E5  [[psysml:b96f1ba5-fc32-4046-b5fe-7b623c9bf90c ]]  {\r\n",
       "}\r\n",
       "comp usage \"x: A\" as E6  <<(T,blue)part>> [[psysml:9546b5bf-a121-430a-b785-22b0f3c788bb ]] {\r\n",
       "}\r\n",
       "E6 - -:|> E3 [[psysml:4aa795d2-d8a8-4fd3-b09b-984289b8e469 ]] \r\n",
       "}\r\n",
       "}\r\n",
       "@enduml\r\n",
       "\n",
       "PlantUML version 1.2020.13(Sat Jun 13 12:26:38 UTC 2020)\n",
       "(EPL source distribution)\n",
       "Java Runtime: OpenJDK Runtime Environment\n",
       "JVM: OpenJDK 64-Bit Server VM\n",
       "Default Encoding: UTF-8\n",
       "Language: en\n",
       "Country: null\n",
       "--></g></svg>"
      ]
     },
     "execution_count": 29,
     "metadata": {},
     "output_type": "execute_result"
    }
   ],
   "source": [
    "%viz --style=\"STDCOLOR\" --view=\"MIXED\" \"QualifiedNameImportTest\""
   ]
  },
  {
   "cell_type": "code",
   "execution_count": 30,
   "id": "2b8046a2",
   "metadata": {
    "execution": {
     "iopub.execute_input": "2021-04-20T07:02:41.655507Z",
     "iopub.status.busy": "2021-04-20T07:02:41.654803Z",
     "iopub.status.idle": "2021-04-20T07:02:41.709120Z",
     "shell.execute_reply": "2021-04-20T07:02:41.708800Z"
    }
   },
   "outputs": [
    {
     "data": {
      "image/svg+xml": [
       "<?xml version=\"1.0\" encoding=\"UTF-8\" standalone=\"no\"?><svg xmlns=\"http://www.w3.org/2000/svg\" xmlns:xlink=\"http://www.w3.org/1999/xlink\" contentScriptType=\"application/ecmascript\" contentStyleType=\"text/css\" height=\"304px\" preserveAspectRatio=\"none\" style=\"width:271px;height:304px;\" version=\"1.1\" viewBox=\"0 0 271 304\" width=\"271px\" zoomAndPan=\"magnify\"><defs><filter height=\"300%\" id=\"f690j4bcjwll5\" width=\"300%\" x=\"-1\" y=\"-1\"><feGaussianBlur result=\"blurOut\" stdDeviation=\"2.0\"/><feColorMatrix in=\"blurOut\" result=\"blurOut2\" type=\"matrix\" values=\"0 0 0 0 0 0 0 0 0 0 0 0 0 0 0 0 0 0 .4 0\"/><feOffset dx=\"4.0\" dy=\"4.0\" in=\"blurOut2\" result=\"blurOut3\"/><feBlend in=\"SourceGraphic\" in2=\"blurOut3\" mode=\"normal\"/></filter></defs><g><!--MD5=[fbc87193dbaf4d95561dea2c320d4a47]\n",
       "cluster E1--><a href=\"psysml:986fc1fb-4aef-4106-b1ed-1986834153ab\" target=\"_top\" title=\"psysml:986fc1fb-4aef-4106-b1ed-1986834153ab\" xlink:actuate=\"onRequest\" xlink:href=\"psysml:986fc1fb-4aef-4106-b1ed-1986834153ab\" xlink:show=\"new\" xlink:title=\"psysml:986fc1fb-4aef-4106-b1ed-1986834153ab\" xlink:type=\"simple\"><polygon fill=\"#FFFFFF\" filter=\"url(#f690j4bcjwll5)\" points=\"16,6,221,6,228,28.2969,249,28.2969,249,292,16,292,16,6\" style=\"stroke: #000000; stroke-width: 1.5;\"/><line style=\"stroke: #000000; stroke-width: 1.5;\" x1=\"16\" x2=\"228\" y1=\"28.2969\" y2=\"28.2969\"/><text fill=\"#000000\" font-family=\"sans-serif\" font-size=\"14\" font-weight=\"bold\" lengthAdjust=\"spacingAndGlyphs\" textLength=\"199\" x=\"20\" y=\"20.9951\">QualifiedNameImportTest</text></a><!--MD5=[e4f7fae6ed58524ba242bb0b0d3be6b7]\n",
       "cluster E2--><a href=\"psysml:372b503a-8716-40b4-8b99-cd3a963555f9\" target=\"_top\" title=\"psysml:372b503a-8716-40b4-8b99-cd3a963555f9\" xlink:actuate=\"onRequest\" xlink:href=\"psysml:372b503a-8716-40b4-8b99-cd3a963555f9\" xlink:show=\"new\" xlink:title=\"psysml:372b503a-8716-40b4-8b99-cd3a963555f9\" xlink:type=\"simple\"><polygon fill=\"#FFFFFF\" filter=\"url(#f690j4bcjwll5)\" points=\"139,177,165,177,172,199.2969,211,199.2969,211,268,139,268,139,177\" style=\"stroke: #000000; stroke-width: 1.5;\"/><line style=\"stroke: #000000; stroke-width: 1.5;\" x1=\"139\" x2=\"172\" y1=\"199.2969\" y2=\"199.2969\"/><text fill=\"#000000\" font-family=\"sans-serif\" font-size=\"14\" font-weight=\"bold\" lengthAdjust=\"spacingAndGlyphs\" textLength=\"20\" x=\"143\" y=\"191.9951\">P1</text></a><!--MD5=[f6df4d0ebaf0b5dfb2ced0ae5af7c670]\n",
       "cluster E4--><a href=\"psysml:ae810913-1289-4b59-a95a-360ad08f1101\" target=\"_top\" title=\"psysml:ae810913-1289-4b59-a95a-360ad08f1101\" xlink:actuate=\"onRequest\" xlink:href=\"psysml:ae810913-1289-4b59-a95a-360ad08f1101\" xlink:show=\"new\" xlink:title=\"psysml:ae810913-1289-4b59-a95a-360ad08f1101\" xlink:type=\"simple\"><polygon fill=\"#FFFFFF\" filter=\"url(#f690j4bcjwll5)\" points=\"40,49,66,49,73,71.2969,225,71.2969,225,153,40,153,40,49\" style=\"stroke: #000000; stroke-width: 1.5;\"/><line style=\"stroke: #000000; stroke-width: 1.5;\" x1=\"40\" x2=\"73\" y1=\"71.2969\" y2=\"71.2969\"/><text fill=\"#000000\" font-family=\"sans-serif\" font-size=\"14\" font-weight=\"bold\" lengthAdjust=\"spacingAndGlyphs\" textLength=\"20\" x=\"44\" y=\"63.9951\">P2</text></a><!--MD5=[09b614a08d8cba4a07c9adeb5e0fee81]\n",
       "class E3--><a href=\"psysml:d5e28260-c8b5-4b29-a8f8-2a36a510faa1\" target=\"_top\" title=\"psysml:d5e28260-c8b5-4b29-a8f8-2a36a510faa1\" xlink:actuate=\"onRequest\" xlink:href=\"psysml:d5e28260-c8b5-4b29-a8f8-2a36a510faa1\" xlink:show=\"new\" xlink:title=\"psysml:d5e28260-c8b5-4b29-a8f8-2a36a510faa1\" xlink:type=\"simple\"><rect fill=\"#FEFECE\" filter=\"url(#f690j4bcjwll5)\" height=\"40\" id=\"E3\" style=\"stroke: #A80036; stroke-width: 1.5;\" width=\"40\" x=\"155\" y=\"212\"/><ellipse cx=\"170\" cy=\"228\" fill=\"#008000\" rx=\"11\" ry=\"11\" style=\"stroke: #A80036; stroke-width: 1.0;\"/><path d=\"M168.9063,228.375 L168.9063,232.0469 L170.5313,232.0469 Q171.7031,232.0469 172.1719,231.6563 Q172.6406,231.25 172.6406,230.25 Q172.6406,229.25 172.1406,228.8125 Q171.6563,228.375 170.5313,228.375 L168.9063,228.375 Z M168.9063,223.5469 L168.9063,226.4219 L170.5313,226.4219 Q171.4531,226.4219 171.8438,226.0938 Q172.25,225.75 172.25,225 Q172.25,224.2344 171.8438,223.8906 Q171.4375,223.5469 170.5313,223.5469 L168.9063,223.5469 Z M166.5313,221.5938 L170.5313,221.5938 Q172.5938,221.5938 173.6406,222.375 Q174.6875,223.1563 174.6875,224.7188 Q174.6875,225.9219 174.0625,226.5938 Q173.4531,227.2656 172.2656,227.375 Q173.6875,227.5156 174.4063,228.3281 Q175.125,229.1406 175.125,230.5938 Q175.125,232.3906 174.0469,233.2031 Q172.9688,234 170.5313,234 L166.5313,234 L166.5313,221.5938 Z \"/><text fill=\"#000000\" font-family=\"sans-serif\" font-size=\"12\" lengthAdjust=\"spacingAndGlyphs\" textLength=\"8\" x=\"184\" y=\"232.1543\">A</text><line style=\"stroke: #A80036; stroke-width: 1.5;\" x1=\"156\" x2=\"194\" y1=\"244\" y2=\"244\"/></a><!--MD5=[60a26617385b1d2d0262a64233df1f8d]\n",
       "class E6--><a href=\"psysml:9546b5bf-a121-430a-b785-22b0f3c788bb\" target=\"_top\" title=\"psysml:9546b5bf-a121-430a-b785-22b0f3c788bb\" xlink:actuate=\"onRequest\" xlink:href=\"psysml:9546b5bf-a121-430a-b785-22b0f3c788bb\" xlink:show=\"new\" xlink:title=\"psysml:9546b5bf-a121-430a-b785-22b0f3c788bb\" xlink:type=\"simple\"><rect fill=\"#FEFECE\" filter=\"url(#f690j4bcjwll5)\" height=\"45.9375\" id=\"E6\" rx=\"10\" ry=\"10\" style=\"stroke: #A80036; stroke-width: 1.5;\" width=\"68\" x=\"141\" y=\"87.5\"/><ellipse cx=\"156\" cy=\"106.4688\" fill=\"#32CD32\" rx=\"11\" ry=\"11\" style=\"stroke: #A80036; stroke-width: 1.0;\"/><path d=\"M155.7969,102.1406 L155.7969,105.7656 L156.7969,105.7656 Q158,105.7656 158.4844,105.3594 Q158.9688,104.9531 158.9688,103.9531 Q158.9688,102.9531 158.4844,102.5469 Q158,102.1406 156.7969,102.1406 L155.7969,102.1406 Z M153.3438,100.0781 L156.7031,100.0781 Q159.2656,100.0781 160.3906,101 Q161.5156,101.9063 161.5156,103.9531 Q161.5156,106 160.3906,106.9219 Q159.2656,107.8281 156.7031,107.8281 L155.7969,107.8281 L155.7969,112.4688 L153.3438,112.4688 L153.3438,100.0781 Z \"/><text fill=\"#000000\" font-family=\"sans-serif\" font-size=\"12\" font-style=\"italic\" lengthAdjust=\"spacingAndGlyphs\" textLength=\"40\" x=\"168\" y=\"103.6387\">«part»</text><text fill=\"#000000\" font-family=\"sans-serif\" font-size=\"12\" lengthAdjust=\"spacingAndGlyphs\" textLength=\"22\" x=\"177\" y=\"117.6074\">x: A</text><line style=\"stroke: #A80036; stroke-width: 1.5;\" x1=\"142\" x2=\"208\" y1=\"125.4375\" y2=\"125.4375\"/></a><a href=\"psysml:b96f1ba5-fc32-4046-b5fe-7b623c9bf90c\" target=\"_top\" title=\"psysml:b96f1ba5-fc32-4046-b5fe-7b623c9bf90c\" xlink:actuate=\"onRequest\" xlink:href=\"psysml:b96f1ba5-fc32-4046-b5fe-7b623c9bf90c\" xlink:show=\"new\" xlink:title=\"psysml:b96f1ba5-fc32-4046-b5fe-7b623c9bf90c\" xlink:type=\"simple\"><polygon fill=\"#FFFFFF\" filter=\"url(#f690j4bcjwll5)\" points=\"56.5,84,91.5,84,98.5,106.2969,105.5,106.2969,105.5,136.5938,56.5,136.5938,56.5,84\" style=\"stroke: #000000; stroke-width: 1.5;\"/><line style=\"stroke: #000000; stroke-width: 1.5;\" x1=\"56.5\" x2=\"98.5\" y1=\"106.2969\" y2=\"106.2969\"/><text fill=\"#000000\" font-family=\"sans-serif\" font-size=\"14\" font-weight=\"bold\" lengthAdjust=\"spacingAndGlyphs\" textLength=\"29\" x=\"60.5\" y=\"98.9951\">P2a</text></a><!--MD5=[a717450b82c80b9240a525fa862496af]\n",
       "link E6 to E3--><a href=\"psysml:4aa795d2-d8a8-4fd3-b09b-984289b8e469\" target=\"_top\" title=\"psysml:4aa795d2-d8a8-4fd3-b09b-984289b8e469\" xlink:actuate=\"onRequest\" xlink:href=\"psysml:4aa795d2-d8a8-4fd3-b09b-984289b8e469\" xlink:show=\"new\" xlink:title=\"psysml:4aa795d2-d8a8-4fd3-b09b-984289b8e469\" xlink:type=\"simple\"><path d=\"M175,133.7 C175,149.89 175,172.27 175,191.49 \" fill=\"none\" id=\"E6-&gt;E3\" style=\"stroke: #A80036; stroke-width: 1.0;\"/><polygon fill=\"#FFFFFF\" points=\"175,211.69,168,192.69,182,192.69,175,211.69\" style=\"stroke: #A80036; stroke-width: 1.0;\"/><ellipse cx=\"170\" cy=\"186.99\" fill=\"#A80036\" rx=\"2\" ry=\"2\" style=\"stroke: #A80036; stroke-width: 1.0;\"/><ellipse cx=\"180\" cy=\"186.99\" fill=\"#A80036\" rx=\"2\" ry=\"2\" style=\"stroke: #A80036; stroke-width: 1.0;\"/></a><!--MD5=[432cebad3ab7e37715691097e63d57a9]\n",
       "@startuml\r\n",
       " \r\n",
       "package \"QualifiedNameImportTest\" as E1  [[psysml:986fc1fb-4aef-4106-b1ed-1986834153ab ]]  {\r\n",
       "package \"P1\" as E2  [[psysml:372b503a-8716-40b4-8b99-cd3a963555f9 ]]  {\r\n",
       "comp def \"A\" as E3  << (B,green) >> [[psysml:d5e28260-c8b5-4b29-a8f8-2a36a510faa1 ]] {\r\n",
       "}\r\n",
       "}\r\n",
       "package \"P2\" as E4  [[psysml:ae810913-1289-4b59-a95a-360ad08f1101 ]]  {\r\n",
       "package \"P2a\" as E5  [[psysml:b96f1ba5-fc32-4046-b5fe-7b623c9bf90c ]]  {\r\n",
       "}\r\n",
       "comp usage \"x: A\" as E6  << (P,limegreen) part>> [[psysml:9546b5bf-a121-430a-b785-22b0f3c788bb ]] {\r\n",
       "}\r\n",
       "E6 - -:|> E3 [[psysml:4aa795d2-d8a8-4fd3-b09b-984289b8e469 ]] \r\n",
       "}\r\n",
       "}\r\n",
       "@enduml\r\n",
       "\n",
       "PlantUML version 1.2020.13(Sat Jun 13 12:26:38 UTC 2020)\n",
       "(EPL source distribution)\n",
       "Java Runtime: OpenJDK Runtime Environment\n",
       "JVM: OpenJDK 64-Bit Server VM\n",
       "Default Encoding: UTF-8\n",
       "Language: en\n",
       "Country: null\n",
       "--></g></svg>"
      ]
     },
     "execution_count": 30,
     "metadata": {},
     "output_type": "execute_result"
    }
   ],
   "source": [
    "%viz --style=\"PLANTUML\" --view=\"Default\" \"QualifiedNameImportTest\""
   ]
  },
  {
   "cell_type": "code",
   "execution_count": 31,
   "id": "d12f0c3e",
   "metadata": {
    "execution": {
     "iopub.execute_input": "2021-04-20T07:02:41.759907Z",
     "iopub.status.busy": "2021-04-20T07:02:41.759471Z",
     "iopub.status.idle": "2021-04-20T07:02:41.794854Z",
     "shell.execute_reply": "2021-04-20T07:02:41.794494Z"
    }
   },
   "outputs": [
    {
     "data": {
      "image/svg+xml": [
       "<?xml version=\"1.0\" encoding=\"UTF-8\" standalone=\"no\"?><svg xmlns=\"http://www.w3.org/2000/svg\" xmlns:xlink=\"http://www.w3.org/1999/xlink\" contentScriptType=\"application/ecmascript\" contentStyleType=\"text/css\" height=\"304px\" preserveAspectRatio=\"none\" style=\"width:271px;height:304px;\" version=\"1.1\" viewBox=\"0 0 271 304\" width=\"271px\" zoomAndPan=\"magnify\"><defs><filter height=\"300%\" id=\"f690j4bcjwll5\" width=\"300%\" x=\"-1\" y=\"-1\"><feGaussianBlur result=\"blurOut\" stdDeviation=\"2.0\"/><feColorMatrix in=\"blurOut\" result=\"blurOut2\" type=\"matrix\" values=\"0 0 0 0 0 0 0 0 0 0 0 0 0 0 0 0 0 0 .4 0\"/><feOffset dx=\"4.0\" dy=\"4.0\" in=\"blurOut2\" result=\"blurOut3\"/><feBlend in=\"SourceGraphic\" in2=\"blurOut3\" mode=\"normal\"/></filter></defs><g><!--MD5=[fbc87193dbaf4d95561dea2c320d4a47]\n",
       "cluster E1--><a href=\"psysml:986fc1fb-4aef-4106-b1ed-1986834153ab\" target=\"_top\" title=\"psysml:986fc1fb-4aef-4106-b1ed-1986834153ab\" xlink:actuate=\"onRequest\" xlink:href=\"psysml:986fc1fb-4aef-4106-b1ed-1986834153ab\" xlink:show=\"new\" xlink:title=\"psysml:986fc1fb-4aef-4106-b1ed-1986834153ab\" xlink:type=\"simple\"><polygon fill=\"#FFFFFF\" filter=\"url(#f690j4bcjwll5)\" points=\"16,6,221,6,228,28.2969,249,28.2969,249,292,16,292,16,6\" style=\"stroke: #000000; stroke-width: 1.5;\"/><line style=\"stroke: #000000; stroke-width: 1.5;\" x1=\"16\" x2=\"228\" y1=\"28.2969\" y2=\"28.2969\"/><text fill=\"#000000\" font-family=\"sans-serif\" font-size=\"14\" font-weight=\"bold\" lengthAdjust=\"spacingAndGlyphs\" textLength=\"199\" x=\"20\" y=\"20.9951\">QualifiedNameImportTest</text></a><!--MD5=[e4f7fae6ed58524ba242bb0b0d3be6b7]\n",
       "cluster E2--><a href=\"psysml:372b503a-8716-40b4-8b99-cd3a963555f9\" target=\"_top\" title=\"psysml:372b503a-8716-40b4-8b99-cd3a963555f9\" xlink:actuate=\"onRequest\" xlink:href=\"psysml:372b503a-8716-40b4-8b99-cd3a963555f9\" xlink:show=\"new\" xlink:title=\"psysml:372b503a-8716-40b4-8b99-cd3a963555f9\" xlink:type=\"simple\"><polygon fill=\"#FFFFFF\" filter=\"url(#f690j4bcjwll5)\" points=\"139,177,165,177,172,199.2969,211,199.2969,211,268,139,268,139,177\" style=\"stroke: #000000; stroke-width: 1.5;\"/><line style=\"stroke: #000000; stroke-width: 1.5;\" x1=\"139\" x2=\"172\" y1=\"199.2969\" y2=\"199.2969\"/><text fill=\"#000000\" font-family=\"sans-serif\" font-size=\"14\" font-weight=\"bold\" lengthAdjust=\"spacingAndGlyphs\" textLength=\"20\" x=\"143\" y=\"191.9951\">P1</text></a><!--MD5=[f6df4d0ebaf0b5dfb2ced0ae5af7c670]\n",
       "cluster E4--><a href=\"psysml:ae810913-1289-4b59-a95a-360ad08f1101\" target=\"_top\" title=\"psysml:ae810913-1289-4b59-a95a-360ad08f1101\" xlink:actuate=\"onRequest\" xlink:href=\"psysml:ae810913-1289-4b59-a95a-360ad08f1101\" xlink:show=\"new\" xlink:title=\"psysml:ae810913-1289-4b59-a95a-360ad08f1101\" xlink:type=\"simple\"><polygon fill=\"#FFFFFF\" filter=\"url(#f690j4bcjwll5)\" points=\"40,49,66,49,73,71.2969,225,71.2969,225,153,40,153,40,49\" style=\"stroke: #000000; stroke-width: 1.5;\"/><line style=\"stroke: #000000; stroke-width: 1.5;\" x1=\"40\" x2=\"73\" y1=\"71.2969\" y2=\"71.2969\"/><text fill=\"#000000\" font-family=\"sans-serif\" font-size=\"14\" font-weight=\"bold\" lengthAdjust=\"spacingAndGlyphs\" textLength=\"20\" x=\"44\" y=\"63.9951\">P2</text></a><!--MD5=[09b614a08d8cba4a07c9adeb5e0fee81]\n",
       "class E3--><a href=\"psysml:d5e28260-c8b5-4b29-a8f8-2a36a510faa1\" target=\"_top\" title=\"psysml:d5e28260-c8b5-4b29-a8f8-2a36a510faa1\" xlink:actuate=\"onRequest\" xlink:href=\"psysml:d5e28260-c8b5-4b29-a8f8-2a36a510faa1\" xlink:show=\"new\" xlink:title=\"psysml:d5e28260-c8b5-4b29-a8f8-2a36a510faa1\" xlink:type=\"simple\"><rect fill=\"#FEFECE\" filter=\"url(#f690j4bcjwll5)\" height=\"40\" id=\"E3\" style=\"stroke: #A80036; stroke-width: 1.5;\" width=\"40\" x=\"155\" y=\"212\"/><ellipse cx=\"170\" cy=\"228\" fill=\"#008000\" rx=\"11\" ry=\"11\" style=\"stroke: #A80036; stroke-width: 1.0;\"/><path d=\"M168.9063,228.375 L168.9063,232.0469 L170.5313,232.0469 Q171.7031,232.0469 172.1719,231.6563 Q172.6406,231.25 172.6406,230.25 Q172.6406,229.25 172.1406,228.8125 Q171.6563,228.375 170.5313,228.375 L168.9063,228.375 Z M168.9063,223.5469 L168.9063,226.4219 L170.5313,226.4219 Q171.4531,226.4219 171.8438,226.0938 Q172.25,225.75 172.25,225 Q172.25,224.2344 171.8438,223.8906 Q171.4375,223.5469 170.5313,223.5469 L168.9063,223.5469 Z M166.5313,221.5938 L170.5313,221.5938 Q172.5938,221.5938 173.6406,222.375 Q174.6875,223.1563 174.6875,224.7188 Q174.6875,225.9219 174.0625,226.5938 Q173.4531,227.2656 172.2656,227.375 Q173.6875,227.5156 174.4063,228.3281 Q175.125,229.1406 175.125,230.5938 Q175.125,232.3906 174.0469,233.2031 Q172.9688,234 170.5313,234 L166.5313,234 L166.5313,221.5938 Z \"/><text fill=\"#000000\" font-family=\"sans-serif\" font-size=\"12\" lengthAdjust=\"spacingAndGlyphs\" textLength=\"8\" x=\"184\" y=\"232.1543\">A</text><line style=\"stroke: #A80036; stroke-width: 1.5;\" x1=\"156\" x2=\"194\" y1=\"244\" y2=\"244\"/></a><!--MD5=[60a26617385b1d2d0262a64233df1f8d]\n",
       "class E6--><a href=\"psysml:9546b5bf-a121-430a-b785-22b0f3c788bb\" target=\"_top\" title=\"psysml:9546b5bf-a121-430a-b785-22b0f3c788bb\" xlink:actuate=\"onRequest\" xlink:href=\"psysml:9546b5bf-a121-430a-b785-22b0f3c788bb\" xlink:show=\"new\" xlink:title=\"psysml:9546b5bf-a121-430a-b785-22b0f3c788bb\" xlink:type=\"simple\"><rect fill=\"#FEFECE\" filter=\"url(#f690j4bcjwll5)\" height=\"45.9375\" id=\"E6\" rx=\"10\" ry=\"10\" style=\"stroke: #A80036; stroke-width: 1.5;\" width=\"68\" x=\"141\" y=\"87.5\"/><ellipse cx=\"156\" cy=\"106.4688\" fill=\"#32CD32\" rx=\"11\" ry=\"11\" style=\"stroke: #A80036; stroke-width: 1.0;\"/><path d=\"M155.7969,102.1406 L155.7969,105.7656 L156.7969,105.7656 Q158,105.7656 158.4844,105.3594 Q158.9688,104.9531 158.9688,103.9531 Q158.9688,102.9531 158.4844,102.5469 Q158,102.1406 156.7969,102.1406 L155.7969,102.1406 Z M153.3438,100.0781 L156.7031,100.0781 Q159.2656,100.0781 160.3906,101 Q161.5156,101.9063 161.5156,103.9531 Q161.5156,106 160.3906,106.9219 Q159.2656,107.8281 156.7031,107.8281 L155.7969,107.8281 L155.7969,112.4688 L153.3438,112.4688 L153.3438,100.0781 Z \"/><text fill=\"#000000\" font-family=\"sans-serif\" font-size=\"12\" font-style=\"italic\" lengthAdjust=\"spacingAndGlyphs\" textLength=\"40\" x=\"168\" y=\"103.6387\">«part»</text><text fill=\"#000000\" font-family=\"sans-serif\" font-size=\"12\" lengthAdjust=\"spacingAndGlyphs\" textLength=\"22\" x=\"177\" y=\"117.6074\">x: A</text><line style=\"stroke: #A80036; stroke-width: 1.5;\" x1=\"142\" x2=\"208\" y1=\"125.4375\" y2=\"125.4375\"/></a><a href=\"psysml:b96f1ba5-fc32-4046-b5fe-7b623c9bf90c\" target=\"_top\" title=\"psysml:b96f1ba5-fc32-4046-b5fe-7b623c9bf90c\" xlink:actuate=\"onRequest\" xlink:href=\"psysml:b96f1ba5-fc32-4046-b5fe-7b623c9bf90c\" xlink:show=\"new\" xlink:title=\"psysml:b96f1ba5-fc32-4046-b5fe-7b623c9bf90c\" xlink:type=\"simple\"><polygon fill=\"#FFFFFF\" filter=\"url(#f690j4bcjwll5)\" points=\"56.5,84,91.5,84,98.5,106.2969,105.5,106.2969,105.5,136.5938,56.5,136.5938,56.5,84\" style=\"stroke: #000000; stroke-width: 1.5;\"/><line style=\"stroke: #000000; stroke-width: 1.5;\" x1=\"56.5\" x2=\"98.5\" y1=\"106.2969\" y2=\"106.2969\"/><text fill=\"#000000\" font-family=\"sans-serif\" font-size=\"14\" font-weight=\"bold\" lengthAdjust=\"spacingAndGlyphs\" textLength=\"29\" x=\"60.5\" y=\"98.9951\">P2a</text></a><!--MD5=[a717450b82c80b9240a525fa862496af]\n",
       "link E6 to E3--><a href=\"psysml:4aa795d2-d8a8-4fd3-b09b-984289b8e469\" target=\"_top\" title=\"psysml:4aa795d2-d8a8-4fd3-b09b-984289b8e469\" xlink:actuate=\"onRequest\" xlink:href=\"psysml:4aa795d2-d8a8-4fd3-b09b-984289b8e469\" xlink:show=\"new\" xlink:title=\"psysml:4aa795d2-d8a8-4fd3-b09b-984289b8e469\" xlink:type=\"simple\"><path d=\"M175,133.7 C175,149.89 175,172.27 175,191.49 \" fill=\"none\" id=\"E6-&gt;E3\" style=\"stroke: #A80036; stroke-width: 1.0;\"/><polygon fill=\"#FFFFFF\" points=\"175,211.69,168,192.69,182,192.69,175,211.69\" style=\"stroke: #A80036; stroke-width: 1.0;\"/><ellipse cx=\"170\" cy=\"186.99\" fill=\"#A80036\" rx=\"2\" ry=\"2\" style=\"stroke: #A80036; stroke-width: 1.0;\"/><ellipse cx=\"180\" cy=\"186.99\" fill=\"#A80036\" rx=\"2\" ry=\"2\" style=\"stroke: #A80036; stroke-width: 1.0;\"/></a><!--MD5=[432cebad3ab7e37715691097e63d57a9]\n",
       "@startuml\r\n",
       " \r\n",
       "package \"QualifiedNameImportTest\" as E1  [[psysml:986fc1fb-4aef-4106-b1ed-1986834153ab ]]  {\r\n",
       "package \"P1\" as E2  [[psysml:372b503a-8716-40b4-8b99-cd3a963555f9 ]]  {\r\n",
       "comp def \"A\" as E3  << (B,green) >> [[psysml:d5e28260-c8b5-4b29-a8f8-2a36a510faa1 ]] {\r\n",
       "}\r\n",
       "}\r\n",
       "package \"P2\" as E4  [[psysml:ae810913-1289-4b59-a95a-360ad08f1101 ]]  {\r\n",
       "package \"P2a\" as E5  [[psysml:b96f1ba5-fc32-4046-b5fe-7b623c9bf90c ]]  {\r\n",
       "}\r\n",
       "comp usage \"x: A\" as E6  << (P,limegreen) part>> [[psysml:9546b5bf-a121-430a-b785-22b0f3c788bb ]] {\r\n",
       "}\r\n",
       "E6 - -:|> E3 [[psysml:4aa795d2-d8a8-4fd3-b09b-984289b8e469 ]] \r\n",
       "}\r\n",
       "}\r\n",
       "@enduml\r\n",
       "\n",
       "PlantUML version 1.2020.13(Sat Jun 13 12:26:38 UTC 2020)\n",
       "(EPL source distribution)\n",
       "Java Runtime: OpenJDK Runtime Environment\n",
       "JVM: OpenJDK 64-Bit Server VM\n",
       "Default Encoding: UTF-8\n",
       "Language: en\n",
       "Country: null\n",
       "--></g></svg>"
      ]
     },
     "execution_count": 31,
     "metadata": {},
     "output_type": "execute_result"
    }
   ],
   "source": [
    "%viz --style=\"PLANTUML\" --view=\"Tree\" \"QualifiedNameImportTest\""
   ]
  },
  {
   "cell_type": "code",
   "execution_count": 32,
   "id": "16db3c31",
   "metadata": {
    "execution": {
     "iopub.execute_input": "2021-04-20T07:02:41.844739Z",
     "iopub.status.busy": "2021-04-20T07:02:41.844406Z",
     "iopub.status.idle": "2021-04-20T07:02:41.940822Z",
     "shell.execute_reply": "2021-04-20T07:02:41.939681Z"
    }
   },
   "outputs": [
    {
     "data": {
      "image/svg+xml": [
       "<?xml version=\"1.0\" encoding=\"UTF-8\" standalone=\"no\"?><svg xmlns=\"http://www.w3.org/2000/svg\" xmlns:xlink=\"http://www.w3.org/1999/xlink\" contentScriptType=\"application/ecmascript\" contentStyleType=\"text/css\" height=\"303px\" preserveAspectRatio=\"none\" style=\"width:603px;height:303px;background:#000000;\" version=\"1.1\" viewBox=\"0 0 603 303\" width=\"603px\" zoomAndPan=\"magnify\"><defs/><g><rect fill=\"#16100E\" height=\"1\" style=\"stroke: #16100E; stroke-width: 1.0;\" width=\"1\" x=\"0\" y=\"0\"/><rect fill=\"#FFFFFF\" height=\"205.5625\" style=\"stroke: #FFFFFF; stroke-width: 1.0;\" width=\"602\" x=\"0\" y=\"0\"/><text fill=\"#000000\" font-family=\"sans-serif\" font-size=\"12\" font-weight=\"bold\" lengthAdjust=\"spacingAndGlyphs\" textLength=\"159\" x=\"5\" y=\"16.1387\">Welcome to PlantUML!</text><text fill=\"#000000\" font-family=\"sans-serif\" font-size=\"12\" lengthAdjust=\"spacingAndGlyphs\" textLength=\"0\" x=\"9\" y=\"30.1074\"/><text fill=\"#000000\" font-family=\"sans-serif\" font-size=\"12\" lengthAdjust=\"spacingAndGlyphs\" textLength=\"293\" x=\"5\" y=\"44.0762\">If you use this software, you accept its license.</text><text fill=\"#000000\" font-family=\"sans-serif\" font-size=\"12\" lengthAdjust=\"spacingAndGlyphs\" textLength=\"107\" x=\"5\" y=\"58.0449\">(details by typing</text><text fill=\"#000000\" font-family=\"monospace\" font-size=\"12\" lengthAdjust=\"spacingAndGlyphs\" textLength=\"49\" x=\"116\" y=\"58.0449\">license</text><text fill=\"#000000\" font-family=\"sans-serif\" font-size=\"12\" lengthAdjust=\"spacingAndGlyphs\" textLength=\"56\" x=\"169\" y=\"58.0449\">keyword)</text><text fill=\"#000000\" font-family=\"sans-serif\" font-size=\"12\" lengthAdjust=\"spacingAndGlyphs\" textLength=\"0\" x=\"9\" y=\"72.0137\"/><text fill=\"#000000\" font-family=\"sans-serif\" font-size=\"12\" lengthAdjust=\"spacingAndGlyphs\" textLength=\"283\" x=\"5\" y=\"85.9824\">You can start with a simple UML Diagram like:</text><text fill=\"#000000\" font-family=\"sans-serif\" font-size=\"12\" lengthAdjust=\"spacingAndGlyphs\" textLength=\"0\" x=\"9\" y=\"99.9512\"/><text fill=\"#000000\" font-family=\"monospace\" font-size=\"12\" lengthAdjust=\"spacingAndGlyphs\" textLength=\"119\" x=\"5\" y=\"113.9199\">Bob-&gt;Alice: Hello</text><text fill=\"#000000\" font-family=\"sans-serif\" font-size=\"12\" lengthAdjust=\"spacingAndGlyphs\" textLength=\"0\" x=\"9\" y=\"127.8887\"/><text fill=\"#000000\" font-family=\"sans-serif\" font-size=\"12\" lengthAdjust=\"spacingAndGlyphs\" textLength=\"14\" x=\"5\" y=\"141.8574\">Or</text><text fill=\"#000000\" font-family=\"sans-serif\" font-size=\"12\" lengthAdjust=\"spacingAndGlyphs\" textLength=\"0\" x=\"9\" y=\"155.8262\"/><text fill=\"#000000\" font-family=\"monospace\" font-size=\"12\" lengthAdjust=\"spacingAndGlyphs\" textLength=\"91\" x=\"5\" y=\"169.7949\">class Example</text><text fill=\"#000000\" font-family=\"sans-serif\" font-size=\"12\" lengthAdjust=\"spacingAndGlyphs\" textLength=\"0\" x=\"9\" y=\"183.7637\"/><text fill=\"#000000\" font-family=\"sans-serif\" font-size=\"12\" lengthAdjust=\"spacingAndGlyphs\" textLength=\"349\" x=\"5\" y=\"197.7324\">You will find more information about PlantUML syntax on</text><text fill=\"#000000\" font-family=\"sans-serif\" font-size=\"12\" lengthAdjust=\"spacingAndGlyphs\" text-decoration=\"underline\" textLength=\"129\" x=\"358\" y=\"197.7324\">https://plantuml.com</text><image height=\"71\" width=\"80\" x=\"516\" xlink:href=\"data:image/png;base64,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\" y=\"6\"/><rect fill=\"#000000\" height=\"96.4844\" style=\"stroke: #000000; stroke-width: 1.0;\" width=\"602\" x=\"0\" y=\"205.5625\"/><rect fill=\"#33FF02\" height=\"21.2969\" style=\"stroke: #33FF02; stroke-width: 1.0;\" width=\"170\" x=\"5\" y=\"210.5625\"/><text fill=\"#000000\" font-family=\"sans-serif\" font-size=\"14\" font-weight=\"bold\" lengthAdjust=\"spacingAndGlyphs\" textLength=\"168\" x=\"6\" y=\"225.5625\">[From string (line 2) ]</text><text fill=\"#33FF02\" font-family=\"sans-serif\" font-size=\"14\" font-weight=\"bold\" lengthAdjust=\"spacingAndGlyphs\" textLength=\"0\" x=\"10\" y=\"245.8594\"/><text fill=\"#33FF02\" font-family=\"sans-serif\" font-size=\"14\" font-weight=\"bold\" lengthAdjust=\"spacingAndGlyphs\" textLength=\"79\" x=\"5\" y=\"262.1563\">@startuml</text><text fill=\"#33FF02\" font-family=\"sans-serif\" font-size=\"14\" font-weight=\"bold\" lengthAdjust=\"spacingAndGlyphs\" textLength=\"0\" x=\"10\" y=\"278.4531\"/><text fill=\"#FF0000\" font-family=\"sans-serif\" font-size=\"14\" font-weight=\"bold\" lengthAdjust=\"spacingAndGlyphs\" textLength=\"142\" x=\"10\" y=\"294.75\">Empty description</text><!--MD5=[f59edd8218d337f74d0c332fc6737304]\n",
       "@startuml\r\n",
       " \r\n",
       "@enduml\r\n",
       "\n",
       "PlantUML version 1.2020.13(Sat Jun 13 12:26:38 UTC 2020)\n",
       "(EPL source distribution)\n",
       "Java Runtime: OpenJDK Runtime Environment\n",
       "JVM: OpenJDK 64-Bit Server VM\n",
       "Default Encoding: UTF-8\n",
       "Language: en\n",
       "Country: null\n",
       "--></g></svg>"
      ]
     },
     "execution_count": 32,
     "metadata": {},
     "output_type": "execute_result"
    }
   ],
   "source": [
    "%viz --style=\"PLANTUML\" --view=\"State\" \"QualifiedNameImportTest\""
   ]
  },
  {
   "cell_type": "code",
   "execution_count": 33,
   "id": "8dc67759",
   "metadata": {
    "execution": {
     "iopub.execute_input": "2021-04-20T07:02:41.991596Z",
     "iopub.status.busy": "2021-04-20T07:02:41.990745Z",
     "iopub.status.idle": "2021-04-20T07:02:42.024094Z",
     "shell.execute_reply": "2021-04-20T07:02:42.023747Z"
    }
   },
   "outputs": [
    {
     "data": {
      "image/svg+xml": [
       "<?xml version=\"1.0\" encoding=\"UTF-8\" standalone=\"no\"?><svg xmlns=\"http://www.w3.org/2000/svg\" xmlns:xlink=\"http://www.w3.org/1999/xlink\" contentScriptType=\"application/ecmascript\" contentStyleType=\"text/css\" height=\"189px\" preserveAspectRatio=\"none\" style=\"width:368px;height:189px;\" version=\"1.1\" viewBox=\"0 0 368 189\" width=\"368px\" zoomAndPan=\"magnify\"><defs><filter height=\"300%\" id=\"fy5xgyykay0bu\" width=\"300%\" x=\"-1\" y=\"-1\"><feGaussianBlur result=\"blurOut\" stdDeviation=\"2.0\"/><feColorMatrix in=\"blurOut\" result=\"blurOut2\" type=\"matrix\" values=\"0 0 0 0 0 0 0 0 0 0 0 0 0 0 0 0 0 0 .4 0\"/><feOffset dx=\"4.0\" dy=\"4.0\" in=\"blurOut2\" result=\"blurOut3\"/><feBlend in=\"SourceGraphic\" in2=\"blurOut3\" mode=\"normal\"/></filter></defs><g><!--MD5=[fbc87193dbaf4d95561dea2c320d4a47]\n",
       "cluster E1--><a href=\"psysml:986fc1fb-4aef-4106-b1ed-1986834153ab\" target=\"_top\" title=\"psysml:986fc1fb-4aef-4106-b1ed-1986834153ab\" xlink:actuate=\"onRequest\" xlink:href=\"psysml:986fc1fb-4aef-4106-b1ed-1986834153ab\" xlink:show=\"new\" xlink:title=\"psysml:986fc1fb-4aef-4106-b1ed-1986834153ab\" xlink:type=\"simple\"><polygon fill=\"#FFFFFF\" filter=\"url(#fy5xgyykay0bu)\" points=\"16,6,221,6,228,28.2969,346,28.2969,346,177,16,177,16,6\" style=\"stroke: #000000; stroke-width: 1.5;\"/><line style=\"stroke: #000000; stroke-width: 1.5;\" x1=\"16\" x2=\"228\" y1=\"28.2969\" y2=\"28.2969\"/><text fill=\"#000000\" font-family=\"sans-serif\" font-size=\"14\" font-weight=\"bold\" lengthAdjust=\"spacingAndGlyphs\" textLength=\"199\" x=\"20\" y=\"20.9951\">QualifiedNameImportTest</text></a><!--MD5=[e4f7fae6ed58524ba242bb0b0d3be6b7]\n",
       "cluster E2--><a href=\"psysml:372b503a-8716-40b4-8b99-cd3a963555f9\" target=\"_top\" title=\"psysml:372b503a-8716-40b4-8b99-cd3a963555f9\" xlink:actuate=\"onRequest\" xlink:href=\"psysml:372b503a-8716-40b4-8b99-cd3a963555f9\" xlink:show=\"new\" xlink:title=\"psysml:372b503a-8716-40b4-8b99-cd3a963555f9\" xlink:type=\"simple\"><polygon fill=\"#FFFFFF\" filter=\"url(#fy5xgyykay0bu)\" points=\"240,55.5,266,55.5,273,77.7969,322,77.7969,322,146.5,240,146.5,240,55.5\" style=\"stroke: #000000; stroke-width: 1.5;\"/><line style=\"stroke: #000000; stroke-width: 1.5;\" x1=\"240\" x2=\"273\" y1=\"77.7969\" y2=\"77.7969\"/><text fill=\"#000000\" font-family=\"sans-serif\" font-size=\"14\" font-weight=\"bold\" lengthAdjust=\"spacingAndGlyphs\" textLength=\"20\" x=\"244\" y=\"70.4951\">P1</text></a><!--MD5=[f6df4d0ebaf0b5dfb2ced0ae5af7c670]\n",
       "cluster E4--><a href=\"psysml:ae810913-1289-4b59-a95a-360ad08f1101\" target=\"_top\" title=\"psysml:ae810913-1289-4b59-a95a-360ad08f1101\" xlink:actuate=\"onRequest\" xlink:href=\"psysml:ae810913-1289-4b59-a95a-360ad08f1101\" xlink:show=\"new\" xlink:title=\"psysml:ae810913-1289-4b59-a95a-360ad08f1101\" xlink:type=\"simple\"><polygon fill=\"#FFFFFF\" filter=\"url(#fy5xgyykay0bu)\" points=\"40,49,66,49,73,71.2969,216,71.2969,216,153,40,153,40,49\" style=\"stroke: #000000; stroke-width: 1.5;\"/><line style=\"stroke: #000000; stroke-width: 1.5;\" x1=\"40\" x2=\"73\" y1=\"71.2969\" y2=\"71.2969\"/><text fill=\"#000000\" font-family=\"sans-serif\" font-size=\"14\" font-weight=\"bold\" lengthAdjust=\"spacingAndGlyphs\" textLength=\"20\" x=\"44\" y=\"63.9951\">P2</text></a><g id=\"E1.E2.E3\"><a href=\"psysml:d5e28260-c8b5-4b29-a8f8-2a36a510faa1\" target=\"_top\" title=\"psysml:d5e28260-c8b5-4b29-a8f8-2a36a510faa1\" xlink:actuate=\"onRequest\" xlink:href=\"psysml:d5e28260-c8b5-4b29-a8f8-2a36a510faa1\" xlink:show=\"new\" xlink:title=\"psysml:d5e28260-c8b5-4b29-a8f8-2a36a510faa1\" xlink:type=\"simple\"><rect fill=\"#FEFECE\" filter=\"url(#fy5xgyykay0bu)\" height=\"40\" id=\"E3\" style=\"stroke: #A80036; stroke-width: 1.5;\" width=\"50\" x=\"256\" y=\"90.5\"/><ellipse cx=\"275.5\" cy=\"106.5\" fill=\"#008000\" rx=\"11\" ry=\"11\" style=\"stroke: #A80036; stroke-width: 1.0;\"/><path d=\"M274.4063,106.875 L274.4063,110.5469 L276.0313,110.5469 Q277.2031,110.5469 277.6719,110.1563 Q278.1406,109.75 278.1406,108.75 Q278.1406,107.75 277.6406,107.3125 Q277.1563,106.875 276.0313,106.875 L274.4063,106.875 Z M274.4063,102.0469 L274.4063,104.9219 L276.0313,104.9219 Q276.9531,104.9219 277.3438,104.5938 Q277.75,104.25 277.75,103.5 Q277.75,102.7344 277.3438,102.3906 Q276.9375,102.0469 276.0313,102.0469 L274.4063,102.0469 Z M272.0313,100.0938 L276.0313,100.0938 Q278.0938,100.0938 279.1406,100.875 Q280.1875,101.6563 280.1875,103.2188 Q280.1875,104.4219 279.5625,105.0938 Q278.9531,105.7656 277.7656,105.875 Q279.1875,106.0156 279.9063,106.8281 Q280.625,107.6406 280.625,109.0938 Q280.625,110.8906 279.5469,111.7031 Q278.4688,112.5 276.0313,112.5 L272.0313,112.5 L272.0313,100.0938 Z \"/><text fill=\"#000000\" font-family=\"sans-serif\" font-size=\"12\" lengthAdjust=\"spacingAndGlyphs\" textLength=\"8\" x=\"290.5\" y=\"110.6543\">A</text></a></g><a href=\"psysml:b96f1ba5-fc32-4046-b5fe-7b623c9bf90c\" target=\"_top\" title=\"psysml:b96f1ba5-fc32-4046-b5fe-7b623c9bf90c\" xlink:actuate=\"onRequest\" xlink:href=\"psysml:b96f1ba5-fc32-4046-b5fe-7b623c9bf90c\" xlink:show=\"new\" xlink:title=\"psysml:b96f1ba5-fc32-4046-b5fe-7b623c9bf90c\" xlink:type=\"simple\"><polygon fill=\"#FFFFFF\" filter=\"url(#fy5xgyykay0bu)\" points=\"150.5,84,185.5,84,192.5,106.2969,199.5,106.2969,199.5,136.5938,150.5,136.5938,150.5,84\" style=\"stroke: #000000; stroke-width: 1.5;\"/><line style=\"stroke: #000000; stroke-width: 1.5;\" x1=\"150.5\" x2=\"192.5\" y1=\"106.2969\" y2=\"106.2969\"/><text fill=\"#000000\" font-family=\"sans-serif\" font-size=\"14\" font-weight=\"bold\" lengthAdjust=\"spacingAndGlyphs\" textLength=\"29\" x=\"154.5\" y=\"98.9951\">P2a</text></a><g id=\"E1.E4.E6\"><a href=\"psysml:9546b5bf-a121-430a-b785-22b0f3c788bb\" target=\"_top\" title=\"psysml:9546b5bf-a121-430a-b785-22b0f3c788bb\" xlink:actuate=\"onRequest\" xlink:href=\"psysml:9546b5bf-a121-430a-b785-22b0f3c788bb\" xlink:show=\"new\" xlink:title=\"psysml:9546b5bf-a121-430a-b785-22b0f3c788bb\" xlink:type=\"simple\"><rect fill=\"#FEFECE\" filter=\"url(#fy5xgyykay0bu)\" height=\"40\" id=\"E6\" rx=\"10\" ry=\"10\" style=\"stroke: #A80036; stroke-width: 1.5;\" width=\"59\" x=\"56.5\" y=\"90.5\"/><ellipse cx=\"73.75\" cy=\"106.5\" fill=\"#B6DBBB\" rx=\"11\" ry=\"11\" style=\"stroke: #A80036; stroke-width: 1.0;\"/><path d=\"M69.625,108.4219 L69.625,100.6094 L72.0781,100.6094 L72.0781,109.0469 Q72.0781,109.9688 72.5469,110.5 Q73.0313,111.0313 73.8594,111.0313 Q74.7031,111.0313 75.1719,110.5 Q75.6406,109.9688 75.6406,109.0469 L75.6406,100.6094 L78.0938,100.6094 L78.0938,108.4219 Q78.0938,110.9531 77.0938,112.0938 Q76.0938,113.2344 73.8594,113.2344 Q71.6406,113.2344 70.625,112.0938 Q69.625,110.9531 69.625,108.4219 Z \"/><text fill=\"#000000\" font-family=\"sans-serif\" font-size=\"12\" lengthAdjust=\"spacingAndGlyphs\" textLength=\"22\" x=\"88.25\" y=\"110.6543\">x: A</text></a></g><!--MD5=[7f63509fe2720f9711ec16bbdb5a75ee]\n",
       "@startuml\r\n",
       "skinparam ranksep 10\r\n",
       "skinparam rectangle {\r\n",
       " backgroundColor<<block>> LightGreen\r\n",
       "}\r\n",
       " \r\n",
       "package \"QualifiedNameImportTest\" as E1  [[psysml:986fc1fb-4aef-4106-b1ed-1986834153ab ]]  {\r\n",
       "package \"P1\" as E2  [[psysml:372b503a-8716-40b4-8b99-cd3a963555f9 ]]  {\r\n",
       "rec def \"A\" as E3  << (B,green) >> [[psysml:d5e28260-c8b5-4b29-a8f8-2a36a510faa1 ]] {\r\n",
       "}\r\n",
       "}\r\n",
       "package \"P2\" as E4  [[psysml:ae810913-1289-4b59-a95a-360ad08f1101 ]]  {\r\n",
       "package \"P2a\" as E5  [[psysml:b96f1ba5-fc32-4046-b5fe-7b623c9bf90c ]]  {\r\n",
       "}\r\n",
       "rec usage \"x: A\" as E6  [[psysml:9546b5bf-a121-430a-b785-22b0f3c788bb ]] {\r\n",
       "}\r\n",
       "}\r\n",
       "}\r\n",
       "@enduml\r\n",
       "\n",
       "PlantUML version 1.2020.13(Sat Jun 13 12:26:38 UTC 2020)\n",
       "(EPL source distribution)\n",
       "Java Runtime: OpenJDK Runtime Environment\n",
       "JVM: OpenJDK 64-Bit Server VM\n",
       "Default Encoding: UTF-8\n",
       "Language: en\n",
       "Country: null\n",
       "--></g></svg>"
      ]
     },
     "execution_count": 33,
     "metadata": {},
     "output_type": "execute_result"
    }
   ],
   "source": [
    "%viz --style=\"PLANTUML\" --view=\"Interconnection\" \"QualifiedNameImportTest\""
   ]
  },
  {
   "cell_type": "code",
   "execution_count": 34,
   "id": "fe495c78",
   "metadata": {
    "execution": {
     "iopub.execute_input": "2021-04-20T07:02:42.075236Z",
     "iopub.status.busy": "2021-04-20T07:02:42.073927Z",
     "iopub.status.idle": "2021-04-20T07:02:42.079562Z",
     "shell.execute_reply": "2021-04-20T07:02:42.078991Z"
    }
   },
   "outputs": [
    {
     "data": {
      "image/svg+xml": [
       "<?xml version=\"1.0\" encoding=\"UTF-8\" standalone=\"no\"?><svg xmlns=\"http://www.w3.org/2000/svg\" xmlns:xlink=\"http://www.w3.org/1999/xlink\" contentScriptType=\"application/ecmascript\" contentStyleType=\"text/css\" height=\"12px\" preserveAspectRatio=\"none\" style=\"width:12px;height:12px;\" version=\"1.1\" viewBox=\"0 0 12 12\" width=\"12px\" zoomAndPan=\"magnify\"><defs/><g><!--MD5=[6a4cb978cab31700e1ce5529f947a75d]\n",
       "@startuml\r\n",
       "skinparam ranksep 8\r\n",
       " \r\n",
       "@enduml\r\n",
       "\n",
       "PlantUML version 1.2020.13(Sat Jun 13 12:26:38 UTC 2020)\n",
       "(EPL source distribution)\n",
       "Java Runtime: OpenJDK Runtime Environment\n",
       "JVM: OpenJDK 64-Bit Server VM\n",
       "Default Encoding: UTF-8\n",
       "Language: en\n",
       "Country: null\n",
       "--></g></svg>"
      ]
     },
     "execution_count": 34,
     "metadata": {},
     "output_type": "execute_result"
    }
   ],
   "source": [
    "%viz --style=\"PLANTUML\" --view=\"Action\" \"QualifiedNameImportTest\""
   ]
  },
  {
   "cell_type": "code",
   "execution_count": 35,
   "id": "2679e1dc",
   "metadata": {
    "execution": {
     "iopub.execute_input": "2021-04-20T07:02:42.131321Z",
     "iopub.status.busy": "2021-04-20T07:02:42.130861Z",
     "iopub.status.idle": "2021-04-20T07:02:42.158697Z",
     "shell.execute_reply": "2021-04-20T07:02:42.158438Z"
    }
   },
   "outputs": [
    {
     "data": {
      "image/svg+xml": [
       "<?xml version=\"1.0\" encoding=\"UTF-8\" standalone=\"no\"?><svg xmlns=\"http://www.w3.org/2000/svg\" xmlns:xlink=\"http://www.w3.org/1999/xlink\" contentScriptType=\"application/ecmascript\" contentStyleType=\"text/css\" height=\"304px\" preserveAspectRatio=\"none\" style=\"width:271px;height:304px;\" version=\"1.1\" viewBox=\"0 0 271 304\" width=\"271px\" zoomAndPan=\"magnify\"><defs><filter height=\"300%\" id=\"f690j4bcjwll5\" width=\"300%\" x=\"-1\" y=\"-1\"><feGaussianBlur result=\"blurOut\" stdDeviation=\"2.0\"/><feColorMatrix in=\"blurOut\" result=\"blurOut2\" type=\"matrix\" values=\"0 0 0 0 0 0 0 0 0 0 0 0 0 0 0 0 0 0 .4 0\"/><feOffset dx=\"4.0\" dy=\"4.0\" in=\"blurOut2\" result=\"blurOut3\"/><feBlend in=\"SourceGraphic\" in2=\"blurOut3\" mode=\"normal\"/></filter></defs><g><!--MD5=[fbc87193dbaf4d95561dea2c320d4a47]\n",
       "cluster E1--><a href=\"psysml:986fc1fb-4aef-4106-b1ed-1986834153ab\" target=\"_top\" title=\"psysml:986fc1fb-4aef-4106-b1ed-1986834153ab\" xlink:actuate=\"onRequest\" xlink:href=\"psysml:986fc1fb-4aef-4106-b1ed-1986834153ab\" xlink:show=\"new\" xlink:title=\"psysml:986fc1fb-4aef-4106-b1ed-1986834153ab\" xlink:type=\"simple\"><polygon fill=\"#FFFFFF\" filter=\"url(#f690j4bcjwll5)\" points=\"16,6,221,6,228,28.2969,249,28.2969,249,292,16,292,16,6\" style=\"stroke: #000000; stroke-width: 1.5;\"/><line style=\"stroke: #000000; stroke-width: 1.5;\" x1=\"16\" x2=\"228\" y1=\"28.2969\" y2=\"28.2969\"/><text fill=\"#000000\" font-family=\"sans-serif\" font-size=\"14\" font-weight=\"bold\" lengthAdjust=\"spacingAndGlyphs\" textLength=\"199\" x=\"20\" y=\"20.9951\">QualifiedNameImportTest</text></a><!--MD5=[e4f7fae6ed58524ba242bb0b0d3be6b7]\n",
       "cluster E2--><a href=\"psysml:372b503a-8716-40b4-8b99-cd3a963555f9\" target=\"_top\" title=\"psysml:372b503a-8716-40b4-8b99-cd3a963555f9\" xlink:actuate=\"onRequest\" xlink:href=\"psysml:372b503a-8716-40b4-8b99-cd3a963555f9\" xlink:show=\"new\" xlink:title=\"psysml:372b503a-8716-40b4-8b99-cd3a963555f9\" xlink:type=\"simple\"><polygon fill=\"#FFFFFF\" filter=\"url(#f690j4bcjwll5)\" points=\"139,177,165,177,172,199.2969,211,199.2969,211,268,139,268,139,177\" style=\"stroke: #000000; stroke-width: 1.5;\"/><line style=\"stroke: #000000; stroke-width: 1.5;\" x1=\"139\" x2=\"172\" y1=\"199.2969\" y2=\"199.2969\"/><text fill=\"#000000\" font-family=\"sans-serif\" font-size=\"14\" font-weight=\"bold\" lengthAdjust=\"spacingAndGlyphs\" textLength=\"20\" x=\"143\" y=\"191.9951\">P1</text></a><!--MD5=[f6df4d0ebaf0b5dfb2ced0ae5af7c670]\n",
       "cluster E4--><a href=\"psysml:ae810913-1289-4b59-a95a-360ad08f1101\" target=\"_top\" title=\"psysml:ae810913-1289-4b59-a95a-360ad08f1101\" xlink:actuate=\"onRequest\" xlink:href=\"psysml:ae810913-1289-4b59-a95a-360ad08f1101\" xlink:show=\"new\" xlink:title=\"psysml:ae810913-1289-4b59-a95a-360ad08f1101\" xlink:type=\"simple\"><polygon fill=\"#FFFFFF\" filter=\"url(#f690j4bcjwll5)\" points=\"40,49,66,49,73,71.2969,225,71.2969,225,153,40,153,40,49\" style=\"stroke: #000000; stroke-width: 1.5;\"/><line style=\"stroke: #000000; stroke-width: 1.5;\" x1=\"40\" x2=\"73\" y1=\"71.2969\" y2=\"71.2969\"/><text fill=\"#000000\" font-family=\"sans-serif\" font-size=\"14\" font-weight=\"bold\" lengthAdjust=\"spacingAndGlyphs\" textLength=\"20\" x=\"44\" y=\"63.9951\">P2</text></a><!--MD5=[09b614a08d8cba4a07c9adeb5e0fee81]\n",
       "class E3--><a href=\"psysml:d5e28260-c8b5-4b29-a8f8-2a36a510faa1\" target=\"_top\" title=\"psysml:d5e28260-c8b5-4b29-a8f8-2a36a510faa1\" xlink:actuate=\"onRequest\" xlink:href=\"psysml:d5e28260-c8b5-4b29-a8f8-2a36a510faa1\" xlink:show=\"new\" xlink:title=\"psysml:d5e28260-c8b5-4b29-a8f8-2a36a510faa1\" xlink:type=\"simple\"><rect fill=\"#FEFECE\" filter=\"url(#f690j4bcjwll5)\" height=\"40\" id=\"E3\" style=\"stroke: #A80036; stroke-width: 1.5;\" width=\"40\" x=\"155\" y=\"212\"/><ellipse cx=\"170\" cy=\"228\" fill=\"#008000\" rx=\"11\" ry=\"11\" style=\"stroke: #A80036; stroke-width: 1.0;\"/><path d=\"M168.9063,228.375 L168.9063,232.0469 L170.5313,232.0469 Q171.7031,232.0469 172.1719,231.6563 Q172.6406,231.25 172.6406,230.25 Q172.6406,229.25 172.1406,228.8125 Q171.6563,228.375 170.5313,228.375 L168.9063,228.375 Z M168.9063,223.5469 L168.9063,226.4219 L170.5313,226.4219 Q171.4531,226.4219 171.8438,226.0938 Q172.25,225.75 172.25,225 Q172.25,224.2344 171.8438,223.8906 Q171.4375,223.5469 170.5313,223.5469 L168.9063,223.5469 Z M166.5313,221.5938 L170.5313,221.5938 Q172.5938,221.5938 173.6406,222.375 Q174.6875,223.1563 174.6875,224.7188 Q174.6875,225.9219 174.0625,226.5938 Q173.4531,227.2656 172.2656,227.375 Q173.6875,227.5156 174.4063,228.3281 Q175.125,229.1406 175.125,230.5938 Q175.125,232.3906 174.0469,233.2031 Q172.9688,234 170.5313,234 L166.5313,234 L166.5313,221.5938 Z \"/><text fill=\"#000000\" font-family=\"sans-serif\" font-size=\"12\" lengthAdjust=\"spacingAndGlyphs\" textLength=\"8\" x=\"184\" y=\"232.1543\">A</text><line style=\"stroke: #A80036; stroke-width: 1.5;\" x1=\"156\" x2=\"194\" y1=\"244\" y2=\"244\"/></a><!--MD5=[60a26617385b1d2d0262a64233df1f8d]\n",
       "class E6--><a href=\"psysml:9546b5bf-a121-430a-b785-22b0f3c788bb\" target=\"_top\" title=\"psysml:9546b5bf-a121-430a-b785-22b0f3c788bb\" xlink:actuate=\"onRequest\" xlink:href=\"psysml:9546b5bf-a121-430a-b785-22b0f3c788bb\" xlink:show=\"new\" xlink:title=\"psysml:9546b5bf-a121-430a-b785-22b0f3c788bb\" xlink:type=\"simple\"><rect fill=\"#FEFECE\" filter=\"url(#f690j4bcjwll5)\" height=\"45.9375\" id=\"E6\" rx=\"10\" ry=\"10\" style=\"stroke: #A80036; stroke-width: 1.5;\" width=\"68\" x=\"141\" y=\"87.5\"/><ellipse cx=\"156\" cy=\"106.4688\" fill=\"#32CD32\" rx=\"11\" ry=\"11\" style=\"stroke: #A80036; stroke-width: 1.0;\"/><path d=\"M155.7969,102.1406 L155.7969,105.7656 L156.7969,105.7656 Q158,105.7656 158.4844,105.3594 Q158.9688,104.9531 158.9688,103.9531 Q158.9688,102.9531 158.4844,102.5469 Q158,102.1406 156.7969,102.1406 L155.7969,102.1406 Z M153.3438,100.0781 L156.7031,100.0781 Q159.2656,100.0781 160.3906,101 Q161.5156,101.9063 161.5156,103.9531 Q161.5156,106 160.3906,106.9219 Q159.2656,107.8281 156.7031,107.8281 L155.7969,107.8281 L155.7969,112.4688 L153.3438,112.4688 L153.3438,100.0781 Z \"/><text fill=\"#000000\" font-family=\"sans-serif\" font-size=\"12\" font-style=\"italic\" lengthAdjust=\"spacingAndGlyphs\" textLength=\"40\" x=\"168\" y=\"103.6387\">«part»</text><text fill=\"#000000\" font-family=\"sans-serif\" font-size=\"12\" lengthAdjust=\"spacingAndGlyphs\" textLength=\"22\" x=\"177\" y=\"117.6074\">x: A</text><line style=\"stroke: #A80036; stroke-width: 1.5;\" x1=\"142\" x2=\"208\" y1=\"125.4375\" y2=\"125.4375\"/></a><a href=\"psysml:b96f1ba5-fc32-4046-b5fe-7b623c9bf90c\" target=\"_top\" title=\"psysml:b96f1ba5-fc32-4046-b5fe-7b623c9bf90c\" xlink:actuate=\"onRequest\" xlink:href=\"psysml:b96f1ba5-fc32-4046-b5fe-7b623c9bf90c\" xlink:show=\"new\" xlink:title=\"psysml:b96f1ba5-fc32-4046-b5fe-7b623c9bf90c\" xlink:type=\"simple\"><polygon fill=\"#FFFFFF\" filter=\"url(#f690j4bcjwll5)\" points=\"56.5,84,91.5,84,98.5,106.2969,105.5,106.2969,105.5,136.5938,56.5,136.5938,56.5,84\" style=\"stroke: #000000; stroke-width: 1.5;\"/><line style=\"stroke: #000000; stroke-width: 1.5;\" x1=\"56.5\" x2=\"98.5\" y1=\"106.2969\" y2=\"106.2969\"/><text fill=\"#000000\" font-family=\"sans-serif\" font-size=\"14\" font-weight=\"bold\" lengthAdjust=\"spacingAndGlyphs\" textLength=\"29\" x=\"60.5\" y=\"98.9951\">P2a</text></a><!--MD5=[a717450b82c80b9240a525fa862496af]\n",
       "link E6 to E3--><a href=\"psysml:4aa795d2-d8a8-4fd3-b09b-984289b8e469\" target=\"_top\" title=\"psysml:4aa795d2-d8a8-4fd3-b09b-984289b8e469\" xlink:actuate=\"onRequest\" xlink:href=\"psysml:4aa795d2-d8a8-4fd3-b09b-984289b8e469\" xlink:show=\"new\" xlink:title=\"psysml:4aa795d2-d8a8-4fd3-b09b-984289b8e469\" xlink:type=\"simple\"><path d=\"M175,133.7 C175,149.89 175,172.27 175,191.49 \" fill=\"none\" id=\"E6-&gt;E3\" style=\"stroke: #A80036; stroke-width: 1.0;\"/><polygon fill=\"#FFFFFF\" points=\"175,211.69,168,192.69,182,192.69,175,211.69\" style=\"stroke: #A80036; stroke-width: 1.0;\"/><ellipse cx=\"170\" cy=\"186.99\" fill=\"#A80036\" rx=\"2\" ry=\"2\" style=\"stroke: #A80036; stroke-width: 1.0;\"/><ellipse cx=\"180\" cy=\"186.99\" fill=\"#A80036\" rx=\"2\" ry=\"2\" style=\"stroke: #A80036; stroke-width: 1.0;\"/></a><!--MD5=[432cebad3ab7e37715691097e63d57a9]\n",
       "@startuml\r\n",
       " \r\n",
       "package \"QualifiedNameImportTest\" as E1  [[psysml:986fc1fb-4aef-4106-b1ed-1986834153ab ]]  {\r\n",
       "package \"P1\" as E2  [[psysml:372b503a-8716-40b4-8b99-cd3a963555f9 ]]  {\r\n",
       "comp def \"A\" as E3  << (B,green) >> [[psysml:d5e28260-c8b5-4b29-a8f8-2a36a510faa1 ]] {\r\n",
       "}\r\n",
       "}\r\n",
       "package \"P2\" as E4  [[psysml:ae810913-1289-4b59-a95a-360ad08f1101 ]]  {\r\n",
       "package \"P2a\" as E5  [[psysml:b96f1ba5-fc32-4046-b5fe-7b623c9bf90c ]]  {\r\n",
       "}\r\n",
       "comp usage \"x: A\" as E6  << (P,limegreen) part>> [[psysml:9546b5bf-a121-430a-b785-22b0f3c788bb ]] {\r\n",
       "}\r\n",
       "E6 - -:|> E3 [[psysml:4aa795d2-d8a8-4fd3-b09b-984289b8e469 ]] \r\n",
       "}\r\n",
       "}\r\n",
       "@enduml\r\n",
       "\n",
       "PlantUML version 1.2020.13(Sat Jun 13 12:26:38 UTC 2020)\n",
       "(EPL source distribution)\n",
       "Java Runtime: OpenJDK Runtime Environment\n",
       "JVM: OpenJDK 64-Bit Server VM\n",
       "Default Encoding: UTF-8\n",
       "Language: en\n",
       "Country: null\n",
       "--></g></svg>"
      ]
     },
     "execution_count": 35,
     "metadata": {},
     "output_type": "execute_result"
    }
   ],
   "source": [
    "%viz --style=\"PLANTUML\" --view=\"Sequence\" \"QualifiedNameImportTest\""
   ]
  },
  {
   "cell_type": "code",
   "execution_count": 36,
   "id": "c91516b4",
   "metadata": {
    "execution": {
     "iopub.execute_input": "2021-04-20T07:02:42.209354Z",
     "iopub.status.busy": "2021-04-20T07:02:42.208845Z",
     "iopub.status.idle": "2021-04-20T07:02:42.236726Z",
     "shell.execute_reply": "2021-04-20T07:02:42.235403Z"
    }
   },
   "outputs": [
    {
     "data": {
      "image/svg+xml": [
       "<?xml version=\"1.0\" encoding=\"UTF-8\" standalone=\"no\"?><svg xmlns=\"http://www.w3.org/2000/svg\" xmlns:xlink=\"http://www.w3.org/1999/xlink\" contentScriptType=\"application/ecmascript\" contentStyleType=\"text/css\" height=\"304px\" preserveAspectRatio=\"none\" style=\"width:271px;height:304px;\" version=\"1.1\" viewBox=\"0 0 271 304\" width=\"271px\" zoomAndPan=\"magnify\"><defs><filter height=\"300%\" id=\"f690j4bcjwll5\" width=\"300%\" x=\"-1\" y=\"-1\"><feGaussianBlur result=\"blurOut\" stdDeviation=\"2.0\"/><feColorMatrix in=\"blurOut\" result=\"blurOut2\" type=\"matrix\" values=\"0 0 0 0 0 0 0 0 0 0 0 0 0 0 0 0 0 0 .4 0\"/><feOffset dx=\"4.0\" dy=\"4.0\" in=\"blurOut2\" result=\"blurOut3\"/><feBlend in=\"SourceGraphic\" in2=\"blurOut3\" mode=\"normal\"/></filter></defs><g><!--MD5=[fbc87193dbaf4d95561dea2c320d4a47]\n",
       "cluster E1--><a href=\"psysml:986fc1fb-4aef-4106-b1ed-1986834153ab\" target=\"_top\" title=\"psysml:986fc1fb-4aef-4106-b1ed-1986834153ab\" xlink:actuate=\"onRequest\" xlink:href=\"psysml:986fc1fb-4aef-4106-b1ed-1986834153ab\" xlink:show=\"new\" xlink:title=\"psysml:986fc1fb-4aef-4106-b1ed-1986834153ab\" xlink:type=\"simple\"><polygon fill=\"#FFFFFF\" filter=\"url(#f690j4bcjwll5)\" points=\"16,6,221,6,228,28.2969,249,28.2969,249,292,16,292,16,6\" style=\"stroke: #000000; stroke-width: 1.5;\"/><line style=\"stroke: #000000; stroke-width: 1.5;\" x1=\"16\" x2=\"228\" y1=\"28.2969\" y2=\"28.2969\"/><text fill=\"#000000\" font-family=\"sans-serif\" font-size=\"14\" font-weight=\"bold\" lengthAdjust=\"spacingAndGlyphs\" textLength=\"199\" x=\"20\" y=\"20.9951\">QualifiedNameImportTest</text></a><!--MD5=[e4f7fae6ed58524ba242bb0b0d3be6b7]\n",
       "cluster E2--><a href=\"psysml:372b503a-8716-40b4-8b99-cd3a963555f9\" target=\"_top\" title=\"psysml:372b503a-8716-40b4-8b99-cd3a963555f9\" xlink:actuate=\"onRequest\" xlink:href=\"psysml:372b503a-8716-40b4-8b99-cd3a963555f9\" xlink:show=\"new\" xlink:title=\"psysml:372b503a-8716-40b4-8b99-cd3a963555f9\" xlink:type=\"simple\"><polygon fill=\"#FFFFFF\" filter=\"url(#f690j4bcjwll5)\" points=\"139,177,165,177,172,199.2969,211,199.2969,211,268,139,268,139,177\" style=\"stroke: #000000; stroke-width: 1.5;\"/><line style=\"stroke: #000000; stroke-width: 1.5;\" x1=\"139\" x2=\"172\" y1=\"199.2969\" y2=\"199.2969\"/><text fill=\"#000000\" font-family=\"sans-serif\" font-size=\"14\" font-weight=\"bold\" lengthAdjust=\"spacingAndGlyphs\" textLength=\"20\" x=\"143\" y=\"191.9951\">P1</text></a><!--MD5=[f6df4d0ebaf0b5dfb2ced0ae5af7c670]\n",
       "cluster E4--><a href=\"psysml:ae810913-1289-4b59-a95a-360ad08f1101\" target=\"_top\" title=\"psysml:ae810913-1289-4b59-a95a-360ad08f1101\" xlink:actuate=\"onRequest\" xlink:href=\"psysml:ae810913-1289-4b59-a95a-360ad08f1101\" xlink:show=\"new\" xlink:title=\"psysml:ae810913-1289-4b59-a95a-360ad08f1101\" xlink:type=\"simple\"><polygon fill=\"#FFFFFF\" filter=\"url(#f690j4bcjwll5)\" points=\"40,49,66,49,73,71.2969,225,71.2969,225,153,40,153,40,49\" style=\"stroke: #000000; stroke-width: 1.5;\"/><line style=\"stroke: #000000; stroke-width: 1.5;\" x1=\"40\" x2=\"73\" y1=\"71.2969\" y2=\"71.2969\"/><text fill=\"#000000\" font-family=\"sans-serif\" font-size=\"14\" font-weight=\"bold\" lengthAdjust=\"spacingAndGlyphs\" textLength=\"20\" x=\"44\" y=\"63.9951\">P2</text></a><!--MD5=[09b614a08d8cba4a07c9adeb5e0fee81]\n",
       "class E3--><a href=\"psysml:d5e28260-c8b5-4b29-a8f8-2a36a510faa1\" target=\"_top\" title=\"psysml:d5e28260-c8b5-4b29-a8f8-2a36a510faa1\" xlink:actuate=\"onRequest\" xlink:href=\"psysml:d5e28260-c8b5-4b29-a8f8-2a36a510faa1\" xlink:show=\"new\" xlink:title=\"psysml:d5e28260-c8b5-4b29-a8f8-2a36a510faa1\" xlink:type=\"simple\"><rect fill=\"#FEFECE\" filter=\"url(#f690j4bcjwll5)\" height=\"40\" id=\"E3\" style=\"stroke: #A80036; stroke-width: 1.5;\" width=\"40\" x=\"155\" y=\"212\"/><ellipse cx=\"170\" cy=\"228\" fill=\"#008000\" rx=\"11\" ry=\"11\" style=\"stroke: #A80036; stroke-width: 1.0;\"/><path d=\"M168.9063,228.375 L168.9063,232.0469 L170.5313,232.0469 Q171.7031,232.0469 172.1719,231.6563 Q172.6406,231.25 172.6406,230.25 Q172.6406,229.25 172.1406,228.8125 Q171.6563,228.375 170.5313,228.375 L168.9063,228.375 Z M168.9063,223.5469 L168.9063,226.4219 L170.5313,226.4219 Q171.4531,226.4219 171.8438,226.0938 Q172.25,225.75 172.25,225 Q172.25,224.2344 171.8438,223.8906 Q171.4375,223.5469 170.5313,223.5469 L168.9063,223.5469 Z M166.5313,221.5938 L170.5313,221.5938 Q172.5938,221.5938 173.6406,222.375 Q174.6875,223.1563 174.6875,224.7188 Q174.6875,225.9219 174.0625,226.5938 Q173.4531,227.2656 172.2656,227.375 Q173.6875,227.5156 174.4063,228.3281 Q175.125,229.1406 175.125,230.5938 Q175.125,232.3906 174.0469,233.2031 Q172.9688,234 170.5313,234 L166.5313,234 L166.5313,221.5938 Z \"/><text fill=\"#000000\" font-family=\"sans-serif\" font-size=\"12\" lengthAdjust=\"spacingAndGlyphs\" textLength=\"8\" x=\"184\" y=\"232.1543\">A</text><line style=\"stroke: #A80036; stroke-width: 1.5;\" x1=\"156\" x2=\"194\" y1=\"244\" y2=\"244\"/></a><!--MD5=[60a26617385b1d2d0262a64233df1f8d]\n",
       "class E6--><a href=\"psysml:9546b5bf-a121-430a-b785-22b0f3c788bb\" target=\"_top\" title=\"psysml:9546b5bf-a121-430a-b785-22b0f3c788bb\" xlink:actuate=\"onRequest\" xlink:href=\"psysml:9546b5bf-a121-430a-b785-22b0f3c788bb\" xlink:show=\"new\" xlink:title=\"psysml:9546b5bf-a121-430a-b785-22b0f3c788bb\" xlink:type=\"simple\"><rect fill=\"#FEFECE\" filter=\"url(#f690j4bcjwll5)\" height=\"45.9375\" id=\"E6\" rx=\"10\" ry=\"10\" style=\"stroke: #A80036; stroke-width: 1.5;\" width=\"68\" x=\"141\" y=\"87.5\"/><ellipse cx=\"156\" cy=\"106.4688\" fill=\"#32CD32\" rx=\"11\" ry=\"11\" style=\"stroke: #A80036; stroke-width: 1.0;\"/><path d=\"M155.7969,102.1406 L155.7969,105.7656 L156.7969,105.7656 Q158,105.7656 158.4844,105.3594 Q158.9688,104.9531 158.9688,103.9531 Q158.9688,102.9531 158.4844,102.5469 Q158,102.1406 156.7969,102.1406 L155.7969,102.1406 Z M153.3438,100.0781 L156.7031,100.0781 Q159.2656,100.0781 160.3906,101 Q161.5156,101.9063 161.5156,103.9531 Q161.5156,106 160.3906,106.9219 Q159.2656,107.8281 156.7031,107.8281 L155.7969,107.8281 L155.7969,112.4688 L153.3438,112.4688 L153.3438,100.0781 Z \"/><text fill=\"#000000\" font-family=\"sans-serif\" font-size=\"12\" font-style=\"italic\" lengthAdjust=\"spacingAndGlyphs\" textLength=\"40\" x=\"168\" y=\"103.6387\">«part»</text><text fill=\"#000000\" font-family=\"sans-serif\" font-size=\"12\" lengthAdjust=\"spacingAndGlyphs\" textLength=\"22\" x=\"177\" y=\"117.6074\">x: A</text><line style=\"stroke: #A80036; stroke-width: 1.5;\" x1=\"142\" x2=\"208\" y1=\"125.4375\" y2=\"125.4375\"/></a><a href=\"psysml:b96f1ba5-fc32-4046-b5fe-7b623c9bf90c\" target=\"_top\" title=\"psysml:b96f1ba5-fc32-4046-b5fe-7b623c9bf90c\" xlink:actuate=\"onRequest\" xlink:href=\"psysml:b96f1ba5-fc32-4046-b5fe-7b623c9bf90c\" xlink:show=\"new\" xlink:title=\"psysml:b96f1ba5-fc32-4046-b5fe-7b623c9bf90c\" xlink:type=\"simple\"><polygon fill=\"#FFFFFF\" filter=\"url(#f690j4bcjwll5)\" points=\"56.5,84,91.5,84,98.5,106.2969,105.5,106.2969,105.5,136.5938,56.5,136.5938,56.5,84\" style=\"stroke: #000000; stroke-width: 1.5;\"/><line style=\"stroke: #000000; stroke-width: 1.5;\" x1=\"56.5\" x2=\"98.5\" y1=\"106.2969\" y2=\"106.2969\"/><text fill=\"#000000\" font-family=\"sans-serif\" font-size=\"14\" font-weight=\"bold\" lengthAdjust=\"spacingAndGlyphs\" textLength=\"29\" x=\"60.5\" y=\"98.9951\">P2a</text></a><!--MD5=[a717450b82c80b9240a525fa862496af]\n",
       "link E6 to E3--><a href=\"psysml:4aa795d2-d8a8-4fd3-b09b-984289b8e469\" target=\"_top\" title=\"psysml:4aa795d2-d8a8-4fd3-b09b-984289b8e469\" xlink:actuate=\"onRequest\" xlink:href=\"psysml:4aa795d2-d8a8-4fd3-b09b-984289b8e469\" xlink:show=\"new\" xlink:title=\"psysml:4aa795d2-d8a8-4fd3-b09b-984289b8e469\" xlink:type=\"simple\"><path d=\"M175,133.7 C175,149.89 175,172.27 175,191.49 \" fill=\"none\" id=\"E6-&gt;E3\" style=\"stroke: #A80036; stroke-width: 1.0;\"/><polygon fill=\"#FFFFFF\" points=\"175,211.69,168,192.69,182,192.69,175,211.69\" style=\"stroke: #A80036; stroke-width: 1.0;\"/><ellipse cx=\"170\" cy=\"186.99\" fill=\"#A80036\" rx=\"2\" ry=\"2\" style=\"stroke: #A80036; stroke-width: 1.0;\"/><ellipse cx=\"180\" cy=\"186.99\" fill=\"#A80036\" rx=\"2\" ry=\"2\" style=\"stroke: #A80036; stroke-width: 1.0;\"/></a><!--MD5=[432cebad3ab7e37715691097e63d57a9]\n",
       "@startuml\r\n",
       " \r\n",
       "package \"QualifiedNameImportTest\" as E1  [[psysml:986fc1fb-4aef-4106-b1ed-1986834153ab ]]  {\r\n",
       "package \"P1\" as E2  [[psysml:372b503a-8716-40b4-8b99-cd3a963555f9 ]]  {\r\n",
       "comp def \"A\" as E3  << (B,green) >> [[psysml:d5e28260-c8b5-4b29-a8f8-2a36a510faa1 ]] {\r\n",
       "}\r\n",
       "}\r\n",
       "package \"P2\" as E4  [[psysml:ae810913-1289-4b59-a95a-360ad08f1101 ]]  {\r\n",
       "package \"P2a\" as E5  [[psysml:b96f1ba5-fc32-4046-b5fe-7b623c9bf90c ]]  {\r\n",
       "}\r\n",
       "comp usage \"x: A\" as E6  << (P,limegreen) part>> [[psysml:9546b5bf-a121-430a-b785-22b0f3c788bb ]] {\r\n",
       "}\r\n",
       "E6 - -:|> E3 [[psysml:4aa795d2-d8a8-4fd3-b09b-984289b8e469 ]] \r\n",
       "}\r\n",
       "}\r\n",
       "@enduml\r\n",
       "\n",
       "PlantUML version 1.2020.13(Sat Jun 13 12:26:38 UTC 2020)\n",
       "(EPL source distribution)\n",
       "Java Runtime: OpenJDK Runtime Environment\n",
       "JVM: OpenJDK 64-Bit Server VM\n",
       "Default Encoding: UTF-8\n",
       "Language: en\n",
       "Country: null\n",
       "--></g></svg>"
      ]
     },
     "execution_count": 36,
     "metadata": {},
     "output_type": "execute_result"
    }
   ],
   "source": [
    "%viz --style=\"PLANTUML\" --view=\"MIXED\" \"QualifiedNameImportTest\""
   ]
  },
  {
   "cell_type": "code",
   "execution_count": 37,
   "id": "33a15782",
   "metadata": {
    "execution": {
     "iopub.execute_input": "2021-04-20T07:02:42.287742Z",
     "iopub.status.busy": "2021-04-20T07:02:42.287233Z",
     "iopub.status.idle": "2021-04-20T07:02:42.321011Z",
     "shell.execute_reply": "2021-04-20T07:02:42.321269Z"
    }
   },
   "outputs": [
    {
     "data": {
      "image/svg+xml": [
       "<?xml version=\"1.0\" encoding=\"UTF-8\" standalone=\"no\"?><svg xmlns=\"http://www.w3.org/2000/svg\" xmlns:xlink=\"http://www.w3.org/1999/xlink\" contentScriptType=\"application/ecmascript\" contentStyleType=\"text/css\" height=\"310px\" preserveAspectRatio=\"none\" style=\"width:253px;height:310px;\" version=\"1.1\" viewBox=\"0 0 253 310\" width=\"253px\" zoomAndPan=\"magnify\"><defs/><g><!--MD5=[fbc87193dbaf4d95561dea2c320d4a47]\n",
       "cluster E1--><a href=\"psysml:986fc1fb-4aef-4106-b1ed-1986834153ab\" target=\"_top\" title=\"psysml:986fc1fb-4aef-4106-b1ed-1986834153ab\" xlink:actuate=\"onRequest\" xlink:href=\"psysml:986fc1fb-4aef-4106-b1ed-1986834153ab\" xlink:show=\"new\" xlink:title=\"psysml:986fc1fb-4aef-4106-b1ed-1986834153ab\" xlink:type=\"simple\"><polygon fill=\"#FFFFFF\" points=\"16,6,221,6,228,28.2969,231,28.2969,231,298,16,298,16,6\" style=\"stroke: #000000; stroke-width: 1.5;\"/><line style=\"stroke: #000000; stroke-width: 1.5;\" x1=\"16\" x2=\"228\" y1=\"28.2969\" y2=\"28.2969\"/><text fill=\"#000000\" font-family=\"sans-serif\" font-size=\"14\" font-weight=\"bold\" lengthAdjust=\"spacingAndGlyphs\" textLength=\"199\" x=\"20\" y=\"20.9951\">QualifiedNameImportTest</text></a><!--MD5=[e4f7fae6ed58524ba242bb0b0d3be6b7]\n",
       "cluster E2--><a href=\"psysml:372b503a-8716-40b4-8b99-cd3a963555f9\" target=\"_top\" title=\"psysml:372b503a-8716-40b4-8b99-cd3a963555f9\" xlink:actuate=\"onRequest\" xlink:href=\"psysml:372b503a-8716-40b4-8b99-cd3a963555f9\" xlink:show=\"new\" xlink:title=\"psysml:372b503a-8716-40b4-8b99-cd3a963555f9\" xlink:type=\"simple\"><polygon fill=\"#FFFFFF\" points=\"105,177,131,177,138,199.2969,203,199.2969,203,274,105,274,105,177\" style=\"stroke: #000000; stroke-width: 1.5;\"/><line style=\"stroke: #000000; stroke-width: 1.5;\" x1=\"105\" x2=\"138\" y1=\"199.2969\" y2=\"199.2969\"/><text fill=\"#000000\" font-family=\"sans-serif\" font-size=\"14\" font-weight=\"bold\" lengthAdjust=\"spacingAndGlyphs\" textLength=\"20\" x=\"109\" y=\"191.9951\">P1</text></a><!--MD5=[f6df4d0ebaf0b5dfb2ced0ae5af7c670]\n",
       "cluster E4--><a href=\"psysml:ae810913-1289-4b59-a95a-360ad08f1101\" target=\"_top\" title=\"psysml:ae810913-1289-4b59-a95a-360ad08f1101\" xlink:actuate=\"onRequest\" xlink:href=\"psysml:ae810913-1289-4b59-a95a-360ad08f1101\" xlink:show=\"new\" xlink:title=\"psysml:ae810913-1289-4b59-a95a-360ad08f1101\" xlink:type=\"simple\"><polygon fill=\"#FFFFFF\" points=\"44,49,70,49,77,71.2969,203,71.2969,203,153,44,153,44,49\" style=\"stroke: #000000; stroke-width: 1.5;\"/><line style=\"stroke: #000000; stroke-width: 1.5;\" x1=\"44\" x2=\"77\" y1=\"71.2969\" y2=\"71.2969\"/><text fill=\"#000000\" font-family=\"sans-serif\" font-size=\"14\" font-weight=\"bold\" lengthAdjust=\"spacingAndGlyphs\" textLength=\"20\" x=\"48\" y=\"63.9951\">P2</text></a><!--MD5=[09b614a08d8cba4a07c9adeb5e0fee81]\n",
       "class E3--><a href=\"psysml:d5e28260-c8b5-4b29-a8f8-2a36a510faa1\" target=\"_top\" title=\"psysml:d5e28260-c8b5-4b29-a8f8-2a36a510faa1\" xlink:actuate=\"onRequest\" xlink:href=\"psysml:d5e28260-c8b5-4b29-a8f8-2a36a510faa1\" xlink:show=\"new\" xlink:title=\"psysml:d5e28260-c8b5-4b29-a8f8-2a36a510faa1\" xlink:type=\"simple\"><rect fill=\"#FFFFFF\" height=\"45.9375\" id=\"E3\" style=\"stroke: #383838; stroke-width: 1.5;\" width=\"66\" x=\"121\" y=\"212\"/><text fill=\"#000000\" font-family=\"sans-serif\" font-size=\"12\" font-style=\"italic\" lengthAdjust=\"spacingAndGlyphs\" textLength=\"64\" x=\"122\" y=\"228.1387\">«part def»</text><text fill=\"#000000\" font-family=\"sans-serif\" font-size=\"12\" lengthAdjust=\"spacingAndGlyphs\" textLength=\"8\" x=\"150\" y=\"242.1074\">A</text><line style=\"stroke: #383838; stroke-width: 1.5;\" x1=\"122\" x2=\"186\" y1=\"249.9375\" y2=\"249.9375\"/></a><!--MD5=[60a26617385b1d2d0262a64233df1f8d]\n",
       "class E6--><a href=\"psysml:9546b5bf-a121-430a-b785-22b0f3c788bb\" target=\"_top\" title=\"psysml:9546b5bf-a121-430a-b785-22b0f3c788bb\" xlink:actuate=\"onRequest\" xlink:href=\"psysml:9546b5bf-a121-430a-b785-22b0f3c788bb\" xlink:show=\"new\" xlink:title=\"psysml:9546b5bf-a121-430a-b785-22b0f3c788bb\" xlink:type=\"simple\"><rect fill=\"#FFFFFF\" height=\"45.9375\" id=\"E6\" rx=\"10\" ry=\"10\" style=\"stroke: #383838; stroke-width: 1.5;\" width=\"42\" x=\"145\" y=\"87.5\"/><text fill=\"#000000\" font-family=\"sans-serif\" font-size=\"12\" font-style=\"italic\" lengthAdjust=\"spacingAndGlyphs\" textLength=\"40\" x=\"146\" y=\"103.6387\">«part»</text><text fill=\"#000000\" font-family=\"sans-serif\" font-size=\"12\" lengthAdjust=\"spacingAndGlyphs\" textLength=\"22\" x=\"155\" y=\"117.6074\">x: A</text><line style=\"stroke: #383838; stroke-width: 1.5;\" x1=\"146\" x2=\"186\" y1=\"125.4375\" y2=\"125.4375\"/></a><a href=\"psysml:b96f1ba5-fc32-4046-b5fe-7b623c9bf90c\" target=\"_top\" title=\"psysml:b96f1ba5-fc32-4046-b5fe-7b623c9bf90c\" xlink:actuate=\"onRequest\" xlink:href=\"psysml:b96f1ba5-fc32-4046-b5fe-7b623c9bf90c\" xlink:show=\"new\" xlink:title=\"psysml:b96f1ba5-fc32-4046-b5fe-7b623c9bf90c\" xlink:type=\"simple\"><polygon fill=\"#FFFFFF\" points=\"60.5,84,95.5,84,102.5,106.2969,109.5,106.2969,109.5,136.5938,60.5,136.5938,60.5,84\" style=\"stroke: #000000; stroke-width: 1.5;\"/><line style=\"stroke: #000000; stroke-width: 1.5;\" x1=\"60.5\" x2=\"102.5\" y1=\"106.2969\" y2=\"106.2969\"/><text fill=\"#000000\" font-family=\"sans-serif\" font-size=\"14\" font-weight=\"bold\" lengthAdjust=\"spacingAndGlyphs\" textLength=\"29\" x=\"64.5\" y=\"98.9951\">P2a</text></a><!--MD5=[a717450b82c80b9240a525fa862496af]\n",
       "link E6 to E3--><a href=\"psysml:4aa795d2-d8a8-4fd3-b09b-984289b8e469\" target=\"_top\" title=\"psysml:4aa795d2-d8a8-4fd3-b09b-984289b8e469\" xlink:actuate=\"onRequest\" xlink:href=\"psysml:4aa795d2-d8a8-4fd3-b09b-984289b8e469\" xlink:show=\"new\" xlink:title=\"psysml:4aa795d2-d8a8-4fd3-b09b-984289b8e469\" xlink:type=\"simple\"><path d=\"M163.83,133.68 C162.24,149.9 160.04,172.39 158.12,191.96 \" fill=\"none\" id=\"E6-&gt;E3\" style=\"stroke: #383838; stroke-width: 1.0;\"/><polygon fill=\"#FFFFFF\" points=\"156.16,211.98,151.0533,192.3861,164.986,193.7564,156.16,211.98\" style=\"stroke: #383838; stroke-width: 1.0;\"/><ellipse cx=\"153.6016\" cy=\"186.9092\" fill=\"#383838\" rx=\"2\" ry=\"2\" style=\"stroke: #383838; stroke-width: 1.0;\"/><ellipse cx=\"163.5535\" cy=\"187.888\" fill=\"#383838\" rx=\"2\" ry=\"2\" style=\"stroke: #383838; stroke-width: 1.0;\"/></a><!--MD5=[531695f6b8953ce5d0dc7eca5b8a46ed]\n",
       "@startuml\r\n",
       "skinparam monochrome true\r\n",
       "skinparam classbackgroundcolor white\r\n",
       "skinparam shadowing false\r\n",
       "skinparam wrapWidth 300\r\n",
       "hide circle\r\n",
       "\r\n",
       "package \"QualifiedNameImportTest\" as E1  [[psysml:986fc1fb-4aef-4106-b1ed-1986834153ab ]]  {\r\n",
       "package \"P1\" as E2  [[psysml:372b503a-8716-40b4-8b99-cd3a963555f9 ]]  {\r\n",
       "comp def \"A\" as E3  <<(T,blue)part def>> [[psysml:d5e28260-c8b5-4b29-a8f8-2a36a510faa1 ]] {\r\n",
       "}\r\n",
       "}\r\n",
       "package \"P2\" as E4  [[psysml:ae810913-1289-4b59-a95a-360ad08f1101 ]]  {\r\n",
       "package \"P2a\" as E5  [[psysml:b96f1ba5-fc32-4046-b5fe-7b623c9bf90c ]]  {\r\n",
       "}\r\n",
       "comp usage \"x: A\" as E6  <<(T,blue)part>> [[psysml:9546b5bf-a121-430a-b785-22b0f3c788bb ]] {\r\n",
       "}\r\n",
       "E6 - -:|> E3 [[psysml:4aa795d2-d8a8-4fd3-b09b-984289b8e469 ]] \r\n",
       "}\r\n",
       "}\r\n",
       "@enduml\r\n",
       "\n",
       "PlantUML version 1.2020.13(Sat Jun 13 12:26:38 UTC 2020)\n",
       "(EPL source distribution)\n",
       "Java Runtime: OpenJDK Runtime Environment\n",
       "JVM: OpenJDK 64-Bit Server VM\n",
       "Default Encoding: UTF-8\n",
       "Language: en\n",
       "Country: null\n",
       "--></g></svg>"
      ]
     },
     "execution_count": 37,
     "metadata": {},
     "output_type": "execute_result"
    }
   ],
   "source": [
    "%viz --style=\"DEFAULT\" --view=\"Default\" \"QualifiedNameImportTest\""
   ]
  },
  {
   "cell_type": "code",
   "execution_count": 38,
   "id": "3f7200ac",
   "metadata": {
    "execution": {
     "iopub.execute_input": "2021-04-20T07:02:42.372906Z",
     "iopub.status.busy": "2021-04-20T07:02:42.372351Z",
     "iopub.status.idle": "2021-04-20T07:02:42.404378Z",
     "shell.execute_reply": "2021-04-20T07:02:42.404095Z"
    }
   },
   "outputs": [
    {
     "data": {
      "image/svg+xml": [
       "<?xml version=\"1.0\" encoding=\"UTF-8\" standalone=\"no\"?><svg xmlns=\"http://www.w3.org/2000/svg\" xmlns:xlink=\"http://www.w3.org/1999/xlink\" contentScriptType=\"application/ecmascript\" contentStyleType=\"text/css\" height=\"310px\" preserveAspectRatio=\"none\" style=\"width:253px;height:310px;\" version=\"1.1\" viewBox=\"0 0 253 310\" width=\"253px\" zoomAndPan=\"magnify\"><defs/><g><!--MD5=[fbc87193dbaf4d95561dea2c320d4a47]\n",
       "cluster E1--><a href=\"psysml:986fc1fb-4aef-4106-b1ed-1986834153ab\" target=\"_top\" title=\"psysml:986fc1fb-4aef-4106-b1ed-1986834153ab\" xlink:actuate=\"onRequest\" xlink:href=\"psysml:986fc1fb-4aef-4106-b1ed-1986834153ab\" xlink:show=\"new\" xlink:title=\"psysml:986fc1fb-4aef-4106-b1ed-1986834153ab\" xlink:type=\"simple\"><polygon fill=\"#FFFFFF\" points=\"16,6,221,6,228,28.2969,231,28.2969,231,298,16,298,16,6\" style=\"stroke: #000000; stroke-width: 1.5;\"/><line style=\"stroke: #000000; stroke-width: 1.5;\" x1=\"16\" x2=\"228\" y1=\"28.2969\" y2=\"28.2969\"/><text fill=\"#000000\" font-family=\"sans-serif\" font-size=\"14\" font-weight=\"bold\" lengthAdjust=\"spacingAndGlyphs\" textLength=\"199\" x=\"20\" y=\"20.9951\">QualifiedNameImportTest</text></a><!--MD5=[e4f7fae6ed58524ba242bb0b0d3be6b7]\n",
       "cluster E2--><a href=\"psysml:372b503a-8716-40b4-8b99-cd3a963555f9\" target=\"_top\" title=\"psysml:372b503a-8716-40b4-8b99-cd3a963555f9\" xlink:actuate=\"onRequest\" xlink:href=\"psysml:372b503a-8716-40b4-8b99-cd3a963555f9\" xlink:show=\"new\" xlink:title=\"psysml:372b503a-8716-40b4-8b99-cd3a963555f9\" xlink:type=\"simple\"><polygon fill=\"#FFFFFF\" points=\"105,177,131,177,138,199.2969,203,199.2969,203,274,105,274,105,177\" style=\"stroke: #000000; stroke-width: 1.5;\"/><line style=\"stroke: #000000; stroke-width: 1.5;\" x1=\"105\" x2=\"138\" y1=\"199.2969\" y2=\"199.2969\"/><text fill=\"#000000\" font-family=\"sans-serif\" font-size=\"14\" font-weight=\"bold\" lengthAdjust=\"spacingAndGlyphs\" textLength=\"20\" x=\"109\" y=\"191.9951\">P1</text></a><!--MD5=[f6df4d0ebaf0b5dfb2ced0ae5af7c670]\n",
       "cluster E4--><a href=\"psysml:ae810913-1289-4b59-a95a-360ad08f1101\" target=\"_top\" title=\"psysml:ae810913-1289-4b59-a95a-360ad08f1101\" xlink:actuate=\"onRequest\" xlink:href=\"psysml:ae810913-1289-4b59-a95a-360ad08f1101\" xlink:show=\"new\" xlink:title=\"psysml:ae810913-1289-4b59-a95a-360ad08f1101\" xlink:type=\"simple\"><polygon fill=\"#FFFFFF\" points=\"44,49,70,49,77,71.2969,203,71.2969,203,153,44,153,44,49\" style=\"stroke: #000000; stroke-width: 1.5;\"/><line style=\"stroke: #000000; stroke-width: 1.5;\" x1=\"44\" x2=\"77\" y1=\"71.2969\" y2=\"71.2969\"/><text fill=\"#000000\" font-family=\"sans-serif\" font-size=\"14\" font-weight=\"bold\" lengthAdjust=\"spacingAndGlyphs\" textLength=\"20\" x=\"48\" y=\"63.9951\">P2</text></a><!--MD5=[09b614a08d8cba4a07c9adeb5e0fee81]\n",
       "class E3--><a href=\"psysml:d5e28260-c8b5-4b29-a8f8-2a36a510faa1\" target=\"_top\" title=\"psysml:d5e28260-c8b5-4b29-a8f8-2a36a510faa1\" xlink:actuate=\"onRequest\" xlink:href=\"psysml:d5e28260-c8b5-4b29-a8f8-2a36a510faa1\" xlink:show=\"new\" xlink:title=\"psysml:d5e28260-c8b5-4b29-a8f8-2a36a510faa1\" xlink:type=\"simple\"><rect fill=\"#FFFFFF\" height=\"45.9375\" id=\"E3\" style=\"stroke: #383838; stroke-width: 1.5;\" width=\"66\" x=\"121\" y=\"212\"/><text fill=\"#000000\" font-family=\"sans-serif\" font-size=\"12\" font-style=\"italic\" lengthAdjust=\"spacingAndGlyphs\" textLength=\"64\" x=\"122\" y=\"228.1387\">«part def»</text><text fill=\"#000000\" font-family=\"sans-serif\" font-size=\"12\" lengthAdjust=\"spacingAndGlyphs\" textLength=\"8\" x=\"150\" y=\"242.1074\">A</text><line style=\"stroke: #383838; stroke-width: 1.5;\" x1=\"122\" x2=\"186\" y1=\"249.9375\" y2=\"249.9375\"/></a><!--MD5=[60a26617385b1d2d0262a64233df1f8d]\n",
       "class E6--><a href=\"psysml:9546b5bf-a121-430a-b785-22b0f3c788bb\" target=\"_top\" title=\"psysml:9546b5bf-a121-430a-b785-22b0f3c788bb\" xlink:actuate=\"onRequest\" xlink:href=\"psysml:9546b5bf-a121-430a-b785-22b0f3c788bb\" xlink:show=\"new\" xlink:title=\"psysml:9546b5bf-a121-430a-b785-22b0f3c788bb\" xlink:type=\"simple\"><rect fill=\"#FFFFFF\" height=\"45.9375\" id=\"E6\" rx=\"10\" ry=\"10\" style=\"stroke: #383838; stroke-width: 1.5;\" width=\"42\" x=\"145\" y=\"87.5\"/><text fill=\"#000000\" font-family=\"sans-serif\" font-size=\"12\" font-style=\"italic\" lengthAdjust=\"spacingAndGlyphs\" textLength=\"40\" x=\"146\" y=\"103.6387\">«part»</text><text fill=\"#000000\" font-family=\"sans-serif\" font-size=\"12\" lengthAdjust=\"spacingAndGlyphs\" textLength=\"22\" x=\"155\" y=\"117.6074\">x: A</text><line style=\"stroke: #383838; stroke-width: 1.5;\" x1=\"146\" x2=\"186\" y1=\"125.4375\" y2=\"125.4375\"/></a><a href=\"psysml:b96f1ba5-fc32-4046-b5fe-7b623c9bf90c\" target=\"_top\" title=\"psysml:b96f1ba5-fc32-4046-b5fe-7b623c9bf90c\" xlink:actuate=\"onRequest\" xlink:href=\"psysml:b96f1ba5-fc32-4046-b5fe-7b623c9bf90c\" xlink:show=\"new\" xlink:title=\"psysml:b96f1ba5-fc32-4046-b5fe-7b623c9bf90c\" xlink:type=\"simple\"><polygon fill=\"#FFFFFF\" points=\"60.5,84,95.5,84,102.5,106.2969,109.5,106.2969,109.5,136.5938,60.5,136.5938,60.5,84\" style=\"stroke: #000000; stroke-width: 1.5;\"/><line style=\"stroke: #000000; stroke-width: 1.5;\" x1=\"60.5\" x2=\"102.5\" y1=\"106.2969\" y2=\"106.2969\"/><text fill=\"#000000\" font-family=\"sans-serif\" font-size=\"14\" font-weight=\"bold\" lengthAdjust=\"spacingAndGlyphs\" textLength=\"29\" x=\"64.5\" y=\"98.9951\">P2a</text></a><!--MD5=[a717450b82c80b9240a525fa862496af]\n",
       "link E6 to E3--><a href=\"psysml:4aa795d2-d8a8-4fd3-b09b-984289b8e469\" target=\"_top\" title=\"psysml:4aa795d2-d8a8-4fd3-b09b-984289b8e469\" xlink:actuate=\"onRequest\" xlink:href=\"psysml:4aa795d2-d8a8-4fd3-b09b-984289b8e469\" xlink:show=\"new\" xlink:title=\"psysml:4aa795d2-d8a8-4fd3-b09b-984289b8e469\" xlink:type=\"simple\"><path d=\"M163.83,133.68 C162.24,149.9 160.04,172.39 158.12,191.96 \" fill=\"none\" id=\"E6-&gt;E3\" style=\"stroke: #383838; stroke-width: 1.0;\"/><polygon fill=\"#FFFFFF\" points=\"156.16,211.98,151.0533,192.3861,164.986,193.7564,156.16,211.98\" style=\"stroke: #383838; stroke-width: 1.0;\"/><ellipse cx=\"153.6016\" cy=\"186.9092\" fill=\"#383838\" rx=\"2\" ry=\"2\" style=\"stroke: #383838; stroke-width: 1.0;\"/><ellipse cx=\"163.5535\" cy=\"187.888\" fill=\"#383838\" rx=\"2\" ry=\"2\" style=\"stroke: #383838; stroke-width: 1.0;\"/></a><!--MD5=[531695f6b8953ce5d0dc7eca5b8a46ed]\n",
       "@startuml\r\n",
       "skinparam monochrome true\r\n",
       "skinparam classbackgroundcolor white\r\n",
       "skinparam shadowing false\r\n",
       "skinparam wrapWidth 300\r\n",
       "hide circle\r\n",
       "\r\n",
       "package \"QualifiedNameImportTest\" as E1  [[psysml:986fc1fb-4aef-4106-b1ed-1986834153ab ]]  {\r\n",
       "package \"P1\" as E2  [[psysml:372b503a-8716-40b4-8b99-cd3a963555f9 ]]  {\r\n",
       "comp def \"A\" as E3  <<(T,blue)part def>> [[psysml:d5e28260-c8b5-4b29-a8f8-2a36a510faa1 ]] {\r\n",
       "}\r\n",
       "}\r\n",
       "package \"P2\" as E4  [[psysml:ae810913-1289-4b59-a95a-360ad08f1101 ]]  {\r\n",
       "package \"P2a\" as E5  [[psysml:b96f1ba5-fc32-4046-b5fe-7b623c9bf90c ]]  {\r\n",
       "}\r\n",
       "comp usage \"x: A\" as E6  <<(T,blue)part>> [[psysml:9546b5bf-a121-430a-b785-22b0f3c788bb ]] {\r\n",
       "}\r\n",
       "E6 - -:|> E3 [[psysml:4aa795d2-d8a8-4fd3-b09b-984289b8e469 ]] \r\n",
       "}\r\n",
       "}\r\n",
       "@enduml\r\n",
       "\n",
       "PlantUML version 1.2020.13(Sat Jun 13 12:26:38 UTC 2020)\n",
       "(EPL source distribution)\n",
       "Java Runtime: OpenJDK Runtime Environment\n",
       "JVM: OpenJDK 64-Bit Server VM\n",
       "Default Encoding: UTF-8\n",
       "Language: en\n",
       "Country: null\n",
       "--></g></svg>"
      ]
     },
     "execution_count": 38,
     "metadata": {},
     "output_type": "execute_result"
    }
   ],
   "source": [
    "%viz --style=\"DEFAULT\" --view=\"Tree\" \"QualifiedNameImportTest\""
   ]
  },
  {
   "cell_type": "code",
   "execution_count": 39,
   "id": "eb29b4f9",
   "metadata": {
    "execution": {
     "iopub.execute_input": "2021-04-20T07:02:42.455194Z",
     "iopub.status.busy": "2021-04-20T07:02:42.454656Z",
     "iopub.status.idle": "2021-04-20T07:02:42.460269Z",
     "shell.execute_reply": "2021-04-20T07:02:42.459848Z"
    }
   },
   "outputs": [
    {
     "data": {
      "image/svg+xml": [
       "<?xml version=\"1.0\" encoding=\"UTF-8\" standalone=\"no\"?><svg xmlns=\"http://www.w3.org/2000/svg\" xmlns:xlink=\"http://www.w3.org/1999/xlink\" contentScriptType=\"application/ecmascript\" contentStyleType=\"text/css\" height=\"12px\" preserveAspectRatio=\"none\" style=\"width:12px;height:12px;\" version=\"1.1\" viewBox=\"0 0 12 12\" width=\"12px\" zoomAndPan=\"magnify\"><defs/><g><!--MD5=[c5f280e076d0d61ccf4b0f27871bda1d]\n",
       "@startuml\r\n",
       "skinparam monochrome true\r\n",
       "skinparam classbackgroundcolor white\r\n",
       "skinparam shadowing false\r\n",
       "skinparam wrapWidth 300\r\n",
       "hide circle\r\n",
       "\r\n",
       "@enduml\r\n",
       "\n",
       "PlantUML version 1.2020.13(Sat Jun 13 12:26:38 UTC 2020)\n",
       "(EPL source distribution)\n",
       "Java Runtime: OpenJDK Runtime Environment\n",
       "JVM: OpenJDK 64-Bit Server VM\n",
       "Default Encoding: UTF-8\n",
       "Language: en\n",
       "Country: null\n",
       "--></g></svg>"
      ]
     },
     "execution_count": 39,
     "metadata": {},
     "output_type": "execute_result"
    }
   ],
   "source": [
    "%viz --style=\"DEFAULT\" --view=\"State\" \"QualifiedNameImportTest\""
   ]
  },
  {
   "cell_type": "code",
   "execution_count": 40,
   "id": "bbc6f379",
   "metadata": {
    "execution": {
     "iopub.execute_input": "2021-04-20T07:02:42.511173Z",
     "iopub.status.busy": "2021-04-20T07:02:42.510643Z",
     "iopub.status.idle": "2021-04-20T07:02:42.537036Z",
     "shell.execute_reply": "2021-04-20T07:02:42.535688Z"
    }
   },
   "outputs": [
    {
     "data": {
      "image/svg+xml": [
       "<?xml version=\"1.0\" encoding=\"UTF-8\" standalone=\"no\"?><svg xmlns=\"http://www.w3.org/2000/svg\" xmlns:xlink=\"http://www.w3.org/1999/xlink\" contentScriptType=\"application/ecmascript\" contentStyleType=\"text/css\" height=\"189px\" preserveAspectRatio=\"none\" style=\"width:381px;height:189px;\" version=\"1.1\" viewBox=\"0 0 381 189\" width=\"381px\" zoomAndPan=\"magnify\"><defs/><g><!--MD5=[fbc87193dbaf4d95561dea2c320d4a47]\n",
       "cluster E1--><a href=\"psysml:986fc1fb-4aef-4106-b1ed-1986834153ab\" target=\"_top\" title=\"psysml:986fc1fb-4aef-4106-b1ed-1986834153ab\" xlink:actuate=\"onRequest\" xlink:href=\"psysml:986fc1fb-4aef-4106-b1ed-1986834153ab\" xlink:show=\"new\" xlink:title=\"psysml:986fc1fb-4aef-4106-b1ed-1986834153ab\" xlink:type=\"simple\"><polygon fill=\"#FFFFFF\" points=\"16,6,221,6,228,28.2969,359,28.2969,359,177,16,177,16,6\" style=\"stroke: #000000; stroke-width: 1.5;\"/><line style=\"stroke: #000000; stroke-width: 1.5;\" x1=\"16\" x2=\"228\" y1=\"28.2969\" y2=\"28.2969\"/><text fill=\"#000000\" font-family=\"sans-serif\" font-size=\"14\" font-weight=\"bold\" lengthAdjust=\"spacingAndGlyphs\" textLength=\"199\" x=\"20\" y=\"20.9951\">QualifiedNameImportTest</text></a><!--MD5=[e4f7fae6ed58524ba242bb0b0d3be6b7]\n",
       "cluster E2--><a href=\"psysml:372b503a-8716-40b4-8b99-cd3a963555f9\" target=\"_top\" title=\"psysml:372b503a-8716-40b4-8b99-cd3a963555f9\" xlink:actuate=\"onRequest\" xlink:href=\"psysml:372b503a-8716-40b4-8b99-cd3a963555f9\" xlink:show=\"new\" xlink:title=\"psysml:372b503a-8716-40b4-8b99-cd3a963555f9\" xlink:type=\"simple\"><polygon fill=\"#FFFFFF\" points=\"231,54,257,54,264,76.2969,335,76.2969,335,148,231,148,231,54\" style=\"stroke: #000000; stroke-width: 1.5;\"/><line style=\"stroke: #000000; stroke-width: 1.5;\" x1=\"231\" x2=\"264\" y1=\"76.2969\" y2=\"76.2969\"/><text fill=\"#000000\" font-family=\"sans-serif\" font-size=\"14\" font-weight=\"bold\" lengthAdjust=\"spacingAndGlyphs\" textLength=\"20\" x=\"235\" y=\"68.9951\">P1</text></a><!--MD5=[f6df4d0ebaf0b5dfb2ced0ae5af7c670]\n",
       "cluster E4--><a href=\"psysml:ae810913-1289-4b59-a95a-360ad08f1101\" target=\"_top\" title=\"psysml:ae810913-1289-4b59-a95a-360ad08f1101\" xlink:actuate=\"onRequest\" xlink:href=\"psysml:ae810913-1289-4b59-a95a-360ad08f1101\" xlink:show=\"new\" xlink:title=\"psysml:ae810913-1289-4b59-a95a-360ad08f1101\" xlink:type=\"simple\"><polygon fill=\"#FFFFFF\" points=\"40,49,66,49,73,71.2969,207,71.2969,207,153,40,153,40,49\" style=\"stroke: #000000; stroke-width: 1.5;\"/><line style=\"stroke: #000000; stroke-width: 1.5;\" x1=\"40\" x2=\"73\" y1=\"71.2969\" y2=\"71.2969\"/><text fill=\"#000000\" font-family=\"sans-serif\" font-size=\"14\" font-weight=\"bold\" lengthAdjust=\"spacingAndGlyphs\" textLength=\"20\" x=\"44\" y=\"63.9951\">P2</text></a><g id=\"E1.E2.E3\"><a href=\"psysml:d5e28260-c8b5-4b29-a8f8-2a36a510faa1\" target=\"_top\" title=\"psysml:d5e28260-c8b5-4b29-a8f8-2a36a510faa1\" xlink:actuate=\"onRequest\" xlink:href=\"psysml:d5e28260-c8b5-4b29-a8f8-2a36a510faa1\" xlink:show=\"new\" xlink:title=\"psysml:d5e28260-c8b5-4b29-a8f8-2a36a510faa1\" xlink:type=\"simple\"><rect fill=\"#FFFFFF\" height=\"42.9375\" id=\"E3\" style=\"stroke: #383838; stroke-width: 1.5;\" width=\"71\" x=\"247.5\" y=\"89\"/><rect fill=\"#F8F8F8\" height=\"37.9375\" style=\"stroke: #383838; stroke-width: 1.5;\" width=\"71\" x=\"247.5\" y=\"89\"/><text fill=\"#000000\" font-family=\"sans-serif\" font-size=\"12\" font-style=\"italic\" lengthAdjust=\"spacingAndGlyphs\" textLength=\"64\" x=\"251\" y=\"105.1387\">«part def»</text><text fill=\"#000000\" font-family=\"sans-serif\" font-size=\"12\" lengthAdjust=\"spacingAndGlyphs\" textLength=\"8\" x=\"279\" y=\"119.1074\">A</text></a></g><a href=\"psysml:b96f1ba5-fc32-4046-b5fe-7b623c9bf90c\" target=\"_top\" title=\"psysml:b96f1ba5-fc32-4046-b5fe-7b623c9bf90c\" xlink:actuate=\"onRequest\" xlink:href=\"psysml:b96f1ba5-fc32-4046-b5fe-7b623c9bf90c\" xlink:show=\"new\" xlink:title=\"psysml:b96f1ba5-fc32-4046-b5fe-7b623c9bf90c\" xlink:type=\"simple\"><polygon fill=\"#FFFFFF\" points=\"141.5,84,176.5,84,183.5,106.2969,190.5,106.2969,190.5,136.5938,141.5,136.5938,141.5,84\" style=\"stroke: #000000; stroke-width: 1.5;\"/><line style=\"stroke: #000000; stroke-width: 1.5;\" x1=\"141.5\" x2=\"183.5\" y1=\"106.2969\" y2=\"106.2969\"/><text fill=\"#000000\" font-family=\"sans-serif\" font-size=\"14\" font-weight=\"bold\" lengthAdjust=\"spacingAndGlyphs\" textLength=\"29\" x=\"145.5\" y=\"98.9951\">P2a</text></a><g id=\"E1.E4.E6\"><a href=\"psysml:9546b5bf-a121-430a-b785-22b0f3c788bb\" target=\"_top\" title=\"psysml:9546b5bf-a121-430a-b785-22b0f3c788bb\" xlink:actuate=\"onRequest\" xlink:href=\"psysml:9546b5bf-a121-430a-b785-22b0f3c788bb\" xlink:show=\"new\" xlink:title=\"psysml:9546b5bf-a121-430a-b785-22b0f3c788bb\" xlink:type=\"simple\"><rect fill=\"#FFFFFF\" height=\"40\" id=\"E6\" rx=\"10\" ry=\"10\" style=\"stroke: #383838; stroke-width: 1.5;\" width=\"50\" x=\"56\" y=\"90.5\"/><rect fill=\"#F8F8F8\" height=\"23.9688\" rx=\"10\" ry=\"10\" style=\"stroke: #F8F8F8; stroke-width: 1.5;\" width=\"50\" x=\"56\" y=\"90.5\"/><rect fill=\"#F8F8F8\" height=\"10\" style=\"stroke: #F8F8F8; stroke-width: 1.5;\" width=\"50\" x=\"56\" y=\"104.4688\"/><rect fill=\"none\" height=\"40\" id=\"E6\" rx=\"10\" ry=\"10\" style=\"stroke: #383838; stroke-width: 1.5;\" width=\"50\" x=\"56\" y=\"90.5\"/><text fill=\"#000000\" font-family=\"sans-serif\" font-size=\"12\" lengthAdjust=\"spacingAndGlyphs\" textLength=\"22\" x=\"70\" y=\"106.6387\">x: A</text></a></g><!--MD5=[d00325311719575a84f8f65a6e47670f]\n",
       "@startuml\r\n",
       "skinparam ranksep 10\r\n",
       "skinparam rectangle {\r\n",
       " backgroundColor<<block>> LightGreen\r\n",
       "}\r\n",
       "skinparam monochrome true\r\n",
       "skinparam classbackgroundcolor white\r\n",
       "skinparam shadowing false\r\n",
       "skinparam wrapWidth 300\r\n",
       "hide circle\r\n",
       "\r\n",
       "package \"QualifiedNameImportTest\" as E1  [[psysml:986fc1fb-4aef-4106-b1ed-1986834153ab ]]  {\r\n",
       "package \"P1\" as E2  [[psysml:372b503a-8716-40b4-8b99-cd3a963555f9 ]]  {\r\n",
       "rec def \"A\" as E3  <<(T,blue)part def>> [[psysml:d5e28260-c8b5-4b29-a8f8-2a36a510faa1 ]] {\r\n",
       "}\r\n",
       "}\r\n",
       "package \"P2\" as E4  [[psysml:ae810913-1289-4b59-a95a-360ad08f1101 ]]  {\r\n",
       "package \"P2a\" as E5  [[psysml:b96f1ba5-fc32-4046-b5fe-7b623c9bf90c ]]  {\r\n",
       "}\r\n",
       "rec usage \"x: A\" as E6  [[psysml:9546b5bf-a121-430a-b785-22b0f3c788bb ]] {\r\n",
       "}\r\n",
       "}\r\n",
       "}\r\n",
       "@enduml\r\n",
       "\n",
       "PlantUML version 1.2020.13(Sat Jun 13 12:26:38 UTC 2020)\n",
       "(EPL source distribution)\n",
       "Java Runtime: OpenJDK Runtime Environment\n",
       "JVM: OpenJDK 64-Bit Server VM\n",
       "Default Encoding: UTF-8\n",
       "Language: en\n",
       "Country: null\n",
       "--></g></svg>"
      ]
     },
     "execution_count": 40,
     "metadata": {},
     "output_type": "execute_result"
    }
   ],
   "source": [
    "%viz --style=\"DEFAULT\" --view=\"Interconnection\" \"QualifiedNameImportTest\""
   ]
  },
  {
   "cell_type": "code",
   "execution_count": 41,
   "id": "ce17c124",
   "metadata": {
    "execution": {
     "iopub.execute_input": "2021-04-20T07:02:42.587165Z",
     "iopub.status.busy": "2021-04-20T07:02:42.586735Z",
     "iopub.status.idle": "2021-04-20T07:02:42.592063Z",
     "shell.execute_reply": "2021-04-20T07:02:42.591702Z"
    }
   },
   "outputs": [
    {
     "data": {
      "image/svg+xml": [
       "<?xml version=\"1.0\" encoding=\"UTF-8\" standalone=\"no\"?><svg xmlns=\"http://www.w3.org/2000/svg\" xmlns:xlink=\"http://www.w3.org/1999/xlink\" contentScriptType=\"application/ecmascript\" contentStyleType=\"text/css\" height=\"12px\" preserveAspectRatio=\"none\" style=\"width:12px;height:12px;\" version=\"1.1\" viewBox=\"0 0 12 12\" width=\"12px\" zoomAndPan=\"magnify\"><defs/><g><!--MD5=[388f21188e31bfdd97050473b19af356]\n",
       "@startuml\r\n",
       "skinparam ranksep 8\r\n",
       "skinparam monochrome true\r\n",
       "skinparam classbackgroundcolor white\r\n",
       "skinparam shadowing false\r\n",
       "skinparam wrapWidth 300\r\n",
       "hide circle\r\n",
       "\r\n",
       "@enduml\r\n",
       "\n",
       "PlantUML version 1.2020.13(Sat Jun 13 12:26:38 UTC 2020)\n",
       "(EPL source distribution)\n",
       "Java Runtime: OpenJDK Runtime Environment\n",
       "JVM: OpenJDK 64-Bit Server VM\n",
       "Default Encoding: UTF-8\n",
       "Language: en\n",
       "Country: null\n",
       "--></g></svg>"
      ]
     },
     "execution_count": 41,
     "metadata": {},
     "output_type": "execute_result"
    }
   ],
   "source": [
    "%viz --style=\"DEFAULT\" --view=\"Action\" \"QualifiedNameImportTest\""
   ]
  },
  {
   "cell_type": "code",
   "execution_count": 42,
   "id": "820c91ec",
   "metadata": {
    "execution": {
     "iopub.execute_input": "2021-04-20T07:02:42.644197Z",
     "iopub.status.busy": "2021-04-20T07:02:42.643723Z",
     "iopub.status.idle": "2021-04-20T07:02:42.667755Z",
     "shell.execute_reply": "2021-04-20T07:02:42.667408Z"
    }
   },
   "outputs": [
    {
     "data": {
      "image/svg+xml": [
       "<?xml version=\"1.0\" encoding=\"UTF-8\" standalone=\"no\"?><svg xmlns=\"http://www.w3.org/2000/svg\" xmlns:xlink=\"http://www.w3.org/1999/xlink\" contentScriptType=\"application/ecmascript\" contentStyleType=\"text/css\" height=\"310px\" preserveAspectRatio=\"none\" style=\"width:253px;height:310px;\" version=\"1.1\" viewBox=\"0 0 253 310\" width=\"253px\" zoomAndPan=\"magnify\"><defs/><g><!--MD5=[fbc87193dbaf4d95561dea2c320d4a47]\n",
       "cluster E1--><a href=\"psysml:986fc1fb-4aef-4106-b1ed-1986834153ab\" target=\"_top\" title=\"psysml:986fc1fb-4aef-4106-b1ed-1986834153ab\" xlink:actuate=\"onRequest\" xlink:href=\"psysml:986fc1fb-4aef-4106-b1ed-1986834153ab\" xlink:show=\"new\" xlink:title=\"psysml:986fc1fb-4aef-4106-b1ed-1986834153ab\" xlink:type=\"simple\"><polygon fill=\"#FFFFFF\" points=\"16,6,221,6,228,28.2969,231,28.2969,231,298,16,298,16,6\" style=\"stroke: #000000; stroke-width: 1.5;\"/><line style=\"stroke: #000000; stroke-width: 1.5;\" x1=\"16\" x2=\"228\" y1=\"28.2969\" y2=\"28.2969\"/><text fill=\"#000000\" font-family=\"sans-serif\" font-size=\"14\" font-weight=\"bold\" lengthAdjust=\"spacingAndGlyphs\" textLength=\"199\" x=\"20\" y=\"20.9951\">QualifiedNameImportTest</text></a><!--MD5=[e4f7fae6ed58524ba242bb0b0d3be6b7]\n",
       "cluster E2--><a href=\"psysml:372b503a-8716-40b4-8b99-cd3a963555f9\" target=\"_top\" title=\"psysml:372b503a-8716-40b4-8b99-cd3a963555f9\" xlink:actuate=\"onRequest\" xlink:href=\"psysml:372b503a-8716-40b4-8b99-cd3a963555f9\" xlink:show=\"new\" xlink:title=\"psysml:372b503a-8716-40b4-8b99-cd3a963555f9\" xlink:type=\"simple\"><polygon fill=\"#FFFFFF\" points=\"105,177,131,177,138,199.2969,203,199.2969,203,274,105,274,105,177\" style=\"stroke: #000000; stroke-width: 1.5;\"/><line style=\"stroke: #000000; stroke-width: 1.5;\" x1=\"105\" x2=\"138\" y1=\"199.2969\" y2=\"199.2969\"/><text fill=\"#000000\" font-family=\"sans-serif\" font-size=\"14\" font-weight=\"bold\" lengthAdjust=\"spacingAndGlyphs\" textLength=\"20\" x=\"109\" y=\"191.9951\">P1</text></a><!--MD5=[f6df4d0ebaf0b5dfb2ced0ae5af7c670]\n",
       "cluster E4--><a href=\"psysml:ae810913-1289-4b59-a95a-360ad08f1101\" target=\"_top\" title=\"psysml:ae810913-1289-4b59-a95a-360ad08f1101\" xlink:actuate=\"onRequest\" xlink:href=\"psysml:ae810913-1289-4b59-a95a-360ad08f1101\" xlink:show=\"new\" xlink:title=\"psysml:ae810913-1289-4b59-a95a-360ad08f1101\" xlink:type=\"simple\"><polygon fill=\"#FFFFFF\" points=\"44,49,70,49,77,71.2969,203,71.2969,203,153,44,153,44,49\" style=\"stroke: #000000; stroke-width: 1.5;\"/><line style=\"stroke: #000000; stroke-width: 1.5;\" x1=\"44\" x2=\"77\" y1=\"71.2969\" y2=\"71.2969\"/><text fill=\"#000000\" font-family=\"sans-serif\" font-size=\"14\" font-weight=\"bold\" lengthAdjust=\"spacingAndGlyphs\" textLength=\"20\" x=\"48\" y=\"63.9951\">P2</text></a><!--MD5=[09b614a08d8cba4a07c9adeb5e0fee81]\n",
       "class E3--><a href=\"psysml:d5e28260-c8b5-4b29-a8f8-2a36a510faa1\" target=\"_top\" title=\"psysml:d5e28260-c8b5-4b29-a8f8-2a36a510faa1\" xlink:actuate=\"onRequest\" xlink:href=\"psysml:d5e28260-c8b5-4b29-a8f8-2a36a510faa1\" xlink:show=\"new\" xlink:title=\"psysml:d5e28260-c8b5-4b29-a8f8-2a36a510faa1\" xlink:type=\"simple\"><rect fill=\"#FFFFFF\" height=\"45.9375\" id=\"E3\" style=\"stroke: #383838; stroke-width: 1.5;\" width=\"66\" x=\"121\" y=\"212\"/><text fill=\"#000000\" font-family=\"sans-serif\" font-size=\"12\" font-style=\"italic\" lengthAdjust=\"spacingAndGlyphs\" textLength=\"64\" x=\"122\" y=\"228.1387\">«part def»</text><text fill=\"#000000\" font-family=\"sans-serif\" font-size=\"12\" lengthAdjust=\"spacingAndGlyphs\" textLength=\"8\" x=\"150\" y=\"242.1074\">A</text><line style=\"stroke: #383838; stroke-width: 1.5;\" x1=\"122\" x2=\"186\" y1=\"249.9375\" y2=\"249.9375\"/></a><!--MD5=[60a26617385b1d2d0262a64233df1f8d]\n",
       "class E6--><a href=\"psysml:9546b5bf-a121-430a-b785-22b0f3c788bb\" target=\"_top\" title=\"psysml:9546b5bf-a121-430a-b785-22b0f3c788bb\" xlink:actuate=\"onRequest\" xlink:href=\"psysml:9546b5bf-a121-430a-b785-22b0f3c788bb\" xlink:show=\"new\" xlink:title=\"psysml:9546b5bf-a121-430a-b785-22b0f3c788bb\" xlink:type=\"simple\"><rect fill=\"#FFFFFF\" height=\"45.9375\" id=\"E6\" rx=\"10\" ry=\"10\" style=\"stroke: #383838; stroke-width: 1.5;\" width=\"42\" x=\"145\" y=\"87.5\"/><text fill=\"#000000\" font-family=\"sans-serif\" font-size=\"12\" font-style=\"italic\" lengthAdjust=\"spacingAndGlyphs\" textLength=\"40\" x=\"146\" y=\"103.6387\">«part»</text><text fill=\"#000000\" font-family=\"sans-serif\" font-size=\"12\" lengthAdjust=\"spacingAndGlyphs\" textLength=\"22\" x=\"155\" y=\"117.6074\">x: A</text><line style=\"stroke: #383838; stroke-width: 1.5;\" x1=\"146\" x2=\"186\" y1=\"125.4375\" y2=\"125.4375\"/></a><a href=\"psysml:b96f1ba5-fc32-4046-b5fe-7b623c9bf90c\" target=\"_top\" title=\"psysml:b96f1ba5-fc32-4046-b5fe-7b623c9bf90c\" xlink:actuate=\"onRequest\" xlink:href=\"psysml:b96f1ba5-fc32-4046-b5fe-7b623c9bf90c\" xlink:show=\"new\" xlink:title=\"psysml:b96f1ba5-fc32-4046-b5fe-7b623c9bf90c\" xlink:type=\"simple\"><polygon fill=\"#FFFFFF\" points=\"60.5,84,95.5,84,102.5,106.2969,109.5,106.2969,109.5,136.5938,60.5,136.5938,60.5,84\" style=\"stroke: #000000; stroke-width: 1.5;\"/><line style=\"stroke: #000000; stroke-width: 1.5;\" x1=\"60.5\" x2=\"102.5\" y1=\"106.2969\" y2=\"106.2969\"/><text fill=\"#000000\" font-family=\"sans-serif\" font-size=\"14\" font-weight=\"bold\" lengthAdjust=\"spacingAndGlyphs\" textLength=\"29\" x=\"64.5\" y=\"98.9951\">P2a</text></a><!--MD5=[a717450b82c80b9240a525fa862496af]\n",
       "link E6 to E3--><a href=\"psysml:4aa795d2-d8a8-4fd3-b09b-984289b8e469\" target=\"_top\" title=\"psysml:4aa795d2-d8a8-4fd3-b09b-984289b8e469\" xlink:actuate=\"onRequest\" xlink:href=\"psysml:4aa795d2-d8a8-4fd3-b09b-984289b8e469\" xlink:show=\"new\" xlink:title=\"psysml:4aa795d2-d8a8-4fd3-b09b-984289b8e469\" xlink:type=\"simple\"><path d=\"M163.83,133.68 C162.24,149.9 160.04,172.39 158.12,191.96 \" fill=\"none\" id=\"E6-&gt;E3\" style=\"stroke: #383838; stroke-width: 1.0;\"/><polygon fill=\"#FFFFFF\" points=\"156.16,211.98,151.0533,192.3861,164.986,193.7564,156.16,211.98\" style=\"stroke: #383838; stroke-width: 1.0;\"/><ellipse cx=\"153.6016\" cy=\"186.9092\" fill=\"#383838\" rx=\"2\" ry=\"2\" style=\"stroke: #383838; stroke-width: 1.0;\"/><ellipse cx=\"163.5535\" cy=\"187.888\" fill=\"#383838\" rx=\"2\" ry=\"2\" style=\"stroke: #383838; stroke-width: 1.0;\"/></a><!--MD5=[531695f6b8953ce5d0dc7eca5b8a46ed]\n",
       "@startuml\r\n",
       "skinparam monochrome true\r\n",
       "skinparam classbackgroundcolor white\r\n",
       "skinparam shadowing false\r\n",
       "skinparam wrapWidth 300\r\n",
       "hide circle\r\n",
       "\r\n",
       "package \"QualifiedNameImportTest\" as E1  [[psysml:986fc1fb-4aef-4106-b1ed-1986834153ab ]]  {\r\n",
       "package \"P1\" as E2  [[psysml:372b503a-8716-40b4-8b99-cd3a963555f9 ]]  {\r\n",
       "comp def \"A\" as E3  <<(T,blue)part def>> [[psysml:d5e28260-c8b5-4b29-a8f8-2a36a510faa1 ]] {\r\n",
       "}\r\n",
       "}\r\n",
       "package \"P2\" as E4  [[psysml:ae810913-1289-4b59-a95a-360ad08f1101 ]]  {\r\n",
       "package \"P2a\" as E5  [[psysml:b96f1ba5-fc32-4046-b5fe-7b623c9bf90c ]]  {\r\n",
       "}\r\n",
       "comp usage \"x: A\" as E6  <<(T,blue)part>> [[psysml:9546b5bf-a121-430a-b785-22b0f3c788bb ]] {\r\n",
       "}\r\n",
       "E6 - -:|> E3 [[psysml:4aa795d2-d8a8-4fd3-b09b-984289b8e469 ]] \r\n",
       "}\r\n",
       "}\r\n",
       "@enduml\r\n",
       "\n",
       "PlantUML version 1.2020.13(Sat Jun 13 12:26:38 UTC 2020)\n",
       "(EPL source distribution)\n",
       "Java Runtime: OpenJDK Runtime Environment\n",
       "JVM: OpenJDK 64-Bit Server VM\n",
       "Default Encoding: UTF-8\n",
       "Language: en\n",
       "Country: null\n",
       "--></g></svg>"
      ]
     },
     "execution_count": 42,
     "metadata": {},
     "output_type": "execute_result"
    }
   ],
   "source": [
    "%viz --style=\"DEFAULT\" --view=\"Sequence\" \"QualifiedNameImportTest\""
   ]
  },
  {
   "cell_type": "code",
   "execution_count": 43,
   "id": "bb011aa9",
   "metadata": {
    "execution": {
     "iopub.execute_input": "2021-04-20T07:02:42.720099Z",
     "iopub.status.busy": "2021-04-20T07:02:42.719649Z",
     "iopub.status.idle": "2021-04-20T07:02:42.750197Z",
     "shell.execute_reply": "2021-04-20T07:02:42.748922Z"
    }
   },
   "outputs": [
    {
     "data": {
      "image/svg+xml": [
       "<?xml version=\"1.0\" encoding=\"UTF-8\" standalone=\"no\"?><svg xmlns=\"http://www.w3.org/2000/svg\" xmlns:xlink=\"http://www.w3.org/1999/xlink\" contentScriptType=\"application/ecmascript\" contentStyleType=\"text/css\" height=\"310px\" preserveAspectRatio=\"none\" style=\"width:253px;height:310px;\" version=\"1.1\" viewBox=\"0 0 253 310\" width=\"253px\" zoomAndPan=\"magnify\"><defs/><g><!--MD5=[fbc87193dbaf4d95561dea2c320d4a47]\n",
       "cluster E1--><a href=\"psysml:986fc1fb-4aef-4106-b1ed-1986834153ab\" target=\"_top\" title=\"psysml:986fc1fb-4aef-4106-b1ed-1986834153ab\" xlink:actuate=\"onRequest\" xlink:href=\"psysml:986fc1fb-4aef-4106-b1ed-1986834153ab\" xlink:show=\"new\" xlink:title=\"psysml:986fc1fb-4aef-4106-b1ed-1986834153ab\" xlink:type=\"simple\"><polygon fill=\"#FFFFFF\" points=\"16,6,221,6,228,28.2969,231,28.2969,231,298,16,298,16,6\" style=\"stroke: #000000; stroke-width: 1.5;\"/><line style=\"stroke: #000000; stroke-width: 1.5;\" x1=\"16\" x2=\"228\" y1=\"28.2969\" y2=\"28.2969\"/><text fill=\"#000000\" font-family=\"sans-serif\" font-size=\"14\" font-weight=\"bold\" lengthAdjust=\"spacingAndGlyphs\" textLength=\"199\" x=\"20\" y=\"20.9951\">QualifiedNameImportTest</text></a><!--MD5=[e4f7fae6ed58524ba242bb0b0d3be6b7]\n",
       "cluster E2--><a href=\"psysml:372b503a-8716-40b4-8b99-cd3a963555f9\" target=\"_top\" title=\"psysml:372b503a-8716-40b4-8b99-cd3a963555f9\" xlink:actuate=\"onRequest\" xlink:href=\"psysml:372b503a-8716-40b4-8b99-cd3a963555f9\" xlink:show=\"new\" xlink:title=\"psysml:372b503a-8716-40b4-8b99-cd3a963555f9\" xlink:type=\"simple\"><polygon fill=\"#FFFFFF\" points=\"105,177,131,177,138,199.2969,203,199.2969,203,274,105,274,105,177\" style=\"stroke: #000000; stroke-width: 1.5;\"/><line style=\"stroke: #000000; stroke-width: 1.5;\" x1=\"105\" x2=\"138\" y1=\"199.2969\" y2=\"199.2969\"/><text fill=\"#000000\" font-family=\"sans-serif\" font-size=\"14\" font-weight=\"bold\" lengthAdjust=\"spacingAndGlyphs\" textLength=\"20\" x=\"109\" y=\"191.9951\">P1</text></a><!--MD5=[f6df4d0ebaf0b5dfb2ced0ae5af7c670]\n",
       "cluster E4--><a href=\"psysml:ae810913-1289-4b59-a95a-360ad08f1101\" target=\"_top\" title=\"psysml:ae810913-1289-4b59-a95a-360ad08f1101\" xlink:actuate=\"onRequest\" xlink:href=\"psysml:ae810913-1289-4b59-a95a-360ad08f1101\" xlink:show=\"new\" xlink:title=\"psysml:ae810913-1289-4b59-a95a-360ad08f1101\" xlink:type=\"simple\"><polygon fill=\"#FFFFFF\" points=\"44,49,70,49,77,71.2969,203,71.2969,203,153,44,153,44,49\" style=\"stroke: #000000; stroke-width: 1.5;\"/><line style=\"stroke: #000000; stroke-width: 1.5;\" x1=\"44\" x2=\"77\" y1=\"71.2969\" y2=\"71.2969\"/><text fill=\"#000000\" font-family=\"sans-serif\" font-size=\"14\" font-weight=\"bold\" lengthAdjust=\"spacingAndGlyphs\" textLength=\"20\" x=\"48\" y=\"63.9951\">P2</text></a><!--MD5=[09b614a08d8cba4a07c9adeb5e0fee81]\n",
       "class E3--><a href=\"psysml:d5e28260-c8b5-4b29-a8f8-2a36a510faa1\" target=\"_top\" title=\"psysml:d5e28260-c8b5-4b29-a8f8-2a36a510faa1\" xlink:actuate=\"onRequest\" xlink:href=\"psysml:d5e28260-c8b5-4b29-a8f8-2a36a510faa1\" xlink:show=\"new\" xlink:title=\"psysml:d5e28260-c8b5-4b29-a8f8-2a36a510faa1\" xlink:type=\"simple\"><rect fill=\"#FFFFFF\" height=\"45.9375\" id=\"E3\" style=\"stroke: #383838; stroke-width: 1.5;\" width=\"66\" x=\"121\" y=\"212\"/><text fill=\"#000000\" font-family=\"sans-serif\" font-size=\"12\" font-style=\"italic\" lengthAdjust=\"spacingAndGlyphs\" textLength=\"64\" x=\"122\" y=\"228.1387\">«part def»</text><text fill=\"#000000\" font-family=\"sans-serif\" font-size=\"12\" lengthAdjust=\"spacingAndGlyphs\" textLength=\"8\" x=\"150\" y=\"242.1074\">A</text><line style=\"stroke: #383838; stroke-width: 1.5;\" x1=\"122\" x2=\"186\" y1=\"249.9375\" y2=\"249.9375\"/></a><!--MD5=[60a26617385b1d2d0262a64233df1f8d]\n",
       "class E6--><a href=\"psysml:9546b5bf-a121-430a-b785-22b0f3c788bb\" target=\"_top\" title=\"psysml:9546b5bf-a121-430a-b785-22b0f3c788bb\" xlink:actuate=\"onRequest\" xlink:href=\"psysml:9546b5bf-a121-430a-b785-22b0f3c788bb\" xlink:show=\"new\" xlink:title=\"psysml:9546b5bf-a121-430a-b785-22b0f3c788bb\" xlink:type=\"simple\"><rect fill=\"#FFFFFF\" height=\"45.9375\" id=\"E6\" rx=\"10\" ry=\"10\" style=\"stroke: #383838; stroke-width: 1.5;\" width=\"42\" x=\"145\" y=\"87.5\"/><text fill=\"#000000\" font-family=\"sans-serif\" font-size=\"12\" font-style=\"italic\" lengthAdjust=\"spacingAndGlyphs\" textLength=\"40\" x=\"146\" y=\"103.6387\">«part»</text><text fill=\"#000000\" font-family=\"sans-serif\" font-size=\"12\" lengthAdjust=\"spacingAndGlyphs\" textLength=\"22\" x=\"155\" y=\"117.6074\">x: A</text><line style=\"stroke: #383838; stroke-width: 1.5;\" x1=\"146\" x2=\"186\" y1=\"125.4375\" y2=\"125.4375\"/></a><a href=\"psysml:b96f1ba5-fc32-4046-b5fe-7b623c9bf90c\" target=\"_top\" title=\"psysml:b96f1ba5-fc32-4046-b5fe-7b623c9bf90c\" xlink:actuate=\"onRequest\" xlink:href=\"psysml:b96f1ba5-fc32-4046-b5fe-7b623c9bf90c\" xlink:show=\"new\" xlink:title=\"psysml:b96f1ba5-fc32-4046-b5fe-7b623c9bf90c\" xlink:type=\"simple\"><polygon fill=\"#FFFFFF\" points=\"60.5,84,95.5,84,102.5,106.2969,109.5,106.2969,109.5,136.5938,60.5,136.5938,60.5,84\" style=\"stroke: #000000; stroke-width: 1.5;\"/><line style=\"stroke: #000000; stroke-width: 1.5;\" x1=\"60.5\" x2=\"102.5\" y1=\"106.2969\" y2=\"106.2969\"/><text fill=\"#000000\" font-family=\"sans-serif\" font-size=\"14\" font-weight=\"bold\" lengthAdjust=\"spacingAndGlyphs\" textLength=\"29\" x=\"64.5\" y=\"98.9951\">P2a</text></a><!--MD5=[a717450b82c80b9240a525fa862496af]\n",
       "link E6 to E3--><a href=\"psysml:4aa795d2-d8a8-4fd3-b09b-984289b8e469\" target=\"_top\" title=\"psysml:4aa795d2-d8a8-4fd3-b09b-984289b8e469\" xlink:actuate=\"onRequest\" xlink:href=\"psysml:4aa795d2-d8a8-4fd3-b09b-984289b8e469\" xlink:show=\"new\" xlink:title=\"psysml:4aa795d2-d8a8-4fd3-b09b-984289b8e469\" xlink:type=\"simple\"><path d=\"M163.83,133.68 C162.24,149.9 160.04,172.39 158.12,191.96 \" fill=\"none\" id=\"E6-&gt;E3\" style=\"stroke: #383838; stroke-width: 1.0;\"/><polygon fill=\"#FFFFFF\" points=\"156.16,211.98,151.0533,192.3861,164.986,193.7564,156.16,211.98\" style=\"stroke: #383838; stroke-width: 1.0;\"/><ellipse cx=\"153.6016\" cy=\"186.9092\" fill=\"#383838\" rx=\"2\" ry=\"2\" style=\"stroke: #383838; stroke-width: 1.0;\"/><ellipse cx=\"163.5535\" cy=\"187.888\" fill=\"#383838\" rx=\"2\" ry=\"2\" style=\"stroke: #383838; stroke-width: 1.0;\"/></a><!--MD5=[531695f6b8953ce5d0dc7eca5b8a46ed]\n",
       "@startuml\r\n",
       "skinparam monochrome true\r\n",
       "skinparam classbackgroundcolor white\r\n",
       "skinparam shadowing false\r\n",
       "skinparam wrapWidth 300\r\n",
       "hide circle\r\n",
       "\r\n",
       "package \"QualifiedNameImportTest\" as E1  [[psysml:986fc1fb-4aef-4106-b1ed-1986834153ab ]]  {\r\n",
       "package \"P1\" as E2  [[psysml:372b503a-8716-40b4-8b99-cd3a963555f9 ]]  {\r\n",
       "comp def \"A\" as E3  <<(T,blue)part def>> [[psysml:d5e28260-c8b5-4b29-a8f8-2a36a510faa1 ]] {\r\n",
       "}\r\n",
       "}\r\n",
       "package \"P2\" as E4  [[psysml:ae810913-1289-4b59-a95a-360ad08f1101 ]]  {\r\n",
       "package \"P2a\" as E5  [[psysml:b96f1ba5-fc32-4046-b5fe-7b623c9bf90c ]]  {\r\n",
       "}\r\n",
       "comp usage \"x: A\" as E6  <<(T,blue)part>> [[psysml:9546b5bf-a121-430a-b785-22b0f3c788bb ]] {\r\n",
       "}\r\n",
       "E6 - -:|> E3 [[psysml:4aa795d2-d8a8-4fd3-b09b-984289b8e469 ]] \r\n",
       "}\r\n",
       "}\r\n",
       "@enduml\r\n",
       "\n",
       "PlantUML version 1.2020.13(Sat Jun 13 12:26:38 UTC 2020)\n",
       "(EPL source distribution)\n",
       "Java Runtime: OpenJDK Runtime Environment\n",
       "JVM: OpenJDK 64-Bit Server VM\n",
       "Default Encoding: UTF-8\n",
       "Language: en\n",
       "Country: null\n",
       "--></g></svg>"
      ]
     },
     "execution_count": 43,
     "metadata": {},
     "output_type": "execute_result"
    }
   ],
   "source": [
    "%viz --style=\"DEFAULT\" --view=\"MIXED\" \"QualifiedNameImportTest\""
   ]
  },
  {
   "cell_type": "code",
   "execution_count": 44,
   "id": "e8d19139",
   "metadata": {
    "execution": {
     "iopub.execute_input": "2021-04-20T07:02:42.800588Z",
     "iopub.status.busy": "2021-04-20T07:02:42.800113Z",
     "iopub.status.idle": "2021-04-20T07:02:42.826065Z",
     "shell.execute_reply": "2021-04-20T07:02:42.824800Z"
    }
   },
   "outputs": [
    {
     "data": {
      "image/svg+xml": [
       "<?xml version=\"1.0\" encoding=\"UTF-8\" standalone=\"no\"?><svg xmlns=\"http://www.w3.org/2000/svg\" xmlns:xlink=\"http://www.w3.org/1999/xlink\" contentScriptType=\"application/ecmascript\" contentStyleType=\"text/css\" height=\"310px\" preserveAspectRatio=\"none\" style=\"width:253px;height:310px;\" version=\"1.1\" viewBox=\"0 0 253 310\" width=\"253px\" zoomAndPan=\"magnify\"><defs/><g><!--MD5=[fbc87193dbaf4d95561dea2c320d4a47]\n",
       "cluster E1--><a href=\"psysml:986fc1fb-4aef-4106-b1ed-1986834153ab\" target=\"_top\" title=\"psysml:986fc1fb-4aef-4106-b1ed-1986834153ab\" xlink:actuate=\"onRequest\" xlink:href=\"psysml:986fc1fb-4aef-4106-b1ed-1986834153ab\" xlink:show=\"new\" xlink:title=\"psysml:986fc1fb-4aef-4106-b1ed-1986834153ab\" xlink:type=\"simple\"><polygon fill=\"#FFFFFF\" points=\"16,6,221,6,228,28.2969,231,28.2969,231,298,16,298,16,6\" style=\"stroke: #000000; stroke-width: 1.5;\"/><line style=\"stroke: #000000; stroke-width: 1.5;\" x1=\"16\" x2=\"228\" y1=\"28.2969\" y2=\"28.2969\"/><text fill=\"#000000\" font-family=\"sans-serif\" font-size=\"14\" font-weight=\"bold\" lengthAdjust=\"spacingAndGlyphs\" textLength=\"199\" x=\"20\" y=\"20.9951\">QualifiedNameImportTest</text></a><!--MD5=[e4f7fae6ed58524ba242bb0b0d3be6b7]\n",
       "cluster E2--><a href=\"psysml:372b503a-8716-40b4-8b99-cd3a963555f9\" target=\"_top\" title=\"psysml:372b503a-8716-40b4-8b99-cd3a963555f9\" xlink:actuate=\"onRequest\" xlink:href=\"psysml:372b503a-8716-40b4-8b99-cd3a963555f9\" xlink:show=\"new\" xlink:title=\"psysml:372b503a-8716-40b4-8b99-cd3a963555f9\" xlink:type=\"simple\"><polygon fill=\"#FFFFFF\" points=\"105,177,131,177,138,199.2969,203,199.2969,203,274,105,274,105,177\" style=\"stroke: #000000; stroke-width: 1.5;\"/><line style=\"stroke: #000000; stroke-width: 1.5;\" x1=\"105\" x2=\"138\" y1=\"199.2969\" y2=\"199.2969\"/><text fill=\"#000000\" font-family=\"sans-serif\" font-size=\"14\" font-weight=\"bold\" lengthAdjust=\"spacingAndGlyphs\" textLength=\"20\" x=\"109\" y=\"191.9951\">P1</text></a><!--MD5=[f6df4d0ebaf0b5dfb2ced0ae5af7c670]\n",
       "cluster E4--><a href=\"psysml:ae810913-1289-4b59-a95a-360ad08f1101\" target=\"_top\" title=\"psysml:ae810913-1289-4b59-a95a-360ad08f1101\" xlink:actuate=\"onRequest\" xlink:href=\"psysml:ae810913-1289-4b59-a95a-360ad08f1101\" xlink:show=\"new\" xlink:title=\"psysml:ae810913-1289-4b59-a95a-360ad08f1101\" xlink:type=\"simple\"><polygon fill=\"#FFFFFF\" points=\"44,49,70,49,77,71.2969,203,71.2969,203,153,44,153,44,49\" style=\"stroke: #000000; stroke-width: 1.5;\"/><line style=\"stroke: #000000; stroke-width: 1.5;\" x1=\"44\" x2=\"77\" y1=\"71.2969\" y2=\"71.2969\"/><text fill=\"#000000\" font-family=\"sans-serif\" font-size=\"14\" font-weight=\"bold\" lengthAdjust=\"spacingAndGlyphs\" textLength=\"20\" x=\"48\" y=\"63.9951\">P2</text></a><!--MD5=[09b614a08d8cba4a07c9adeb5e0fee81]\n",
       "class E3--><a href=\"psysml:d5e28260-c8b5-4b29-a8f8-2a36a510faa1\" target=\"_top\" title=\"psysml:d5e28260-c8b5-4b29-a8f8-2a36a510faa1\" xlink:actuate=\"onRequest\" xlink:href=\"psysml:d5e28260-c8b5-4b29-a8f8-2a36a510faa1\" xlink:show=\"new\" xlink:title=\"psysml:d5e28260-c8b5-4b29-a8f8-2a36a510faa1\" xlink:type=\"simple\"><rect fill=\"#FFFFFF\" height=\"45.9375\" id=\"E3\" style=\"stroke: #383838; stroke-width: 1.5;\" width=\"66\" x=\"121\" y=\"212\"/><text fill=\"#000000\" font-family=\"sans-serif\" font-size=\"12\" font-style=\"italic\" lengthAdjust=\"spacingAndGlyphs\" textLength=\"64\" x=\"122\" y=\"228.1387\">«part def»</text><text fill=\"#000000\" font-family=\"sans-serif\" font-size=\"12\" lengthAdjust=\"spacingAndGlyphs\" textLength=\"8\" x=\"150\" y=\"242.1074\">A</text><line style=\"stroke: #383838; stroke-width: 1.5;\" x1=\"122\" x2=\"186\" y1=\"249.9375\" y2=\"249.9375\"/></a><!--MD5=[60a26617385b1d2d0262a64233df1f8d]\n",
       "class E6--><a href=\"psysml:9546b5bf-a121-430a-b785-22b0f3c788bb\" target=\"_top\" title=\"psysml:9546b5bf-a121-430a-b785-22b0f3c788bb\" xlink:actuate=\"onRequest\" xlink:href=\"psysml:9546b5bf-a121-430a-b785-22b0f3c788bb\" xlink:show=\"new\" xlink:title=\"psysml:9546b5bf-a121-430a-b785-22b0f3c788bb\" xlink:type=\"simple\"><rect fill=\"#FFFFFF\" height=\"45.9375\" id=\"E6\" rx=\"10\" ry=\"10\" style=\"stroke: #383838; stroke-width: 1.5;\" width=\"42\" x=\"145\" y=\"87.5\"/><text fill=\"#000000\" font-family=\"sans-serif\" font-size=\"12\" font-style=\"italic\" lengthAdjust=\"spacingAndGlyphs\" textLength=\"40\" x=\"146\" y=\"103.6387\">«part»</text><text fill=\"#000000\" font-family=\"sans-serif\" font-size=\"12\" lengthAdjust=\"spacingAndGlyphs\" textLength=\"22\" x=\"155\" y=\"117.6074\">x: A</text><line style=\"stroke: #383838; stroke-width: 1.5;\" x1=\"146\" x2=\"186\" y1=\"125.4375\" y2=\"125.4375\"/></a><a href=\"psysml:b96f1ba5-fc32-4046-b5fe-7b623c9bf90c\" target=\"_top\" title=\"psysml:b96f1ba5-fc32-4046-b5fe-7b623c9bf90c\" xlink:actuate=\"onRequest\" xlink:href=\"psysml:b96f1ba5-fc32-4046-b5fe-7b623c9bf90c\" xlink:show=\"new\" xlink:title=\"psysml:b96f1ba5-fc32-4046-b5fe-7b623c9bf90c\" xlink:type=\"simple\"><polygon fill=\"#FFFFFF\" points=\"60.5,84,95.5,84,102.5,106.2969,109.5,106.2969,109.5,136.5938,60.5,136.5938,60.5,84\" style=\"stroke: #000000; stroke-width: 1.5;\"/><line style=\"stroke: #000000; stroke-width: 1.5;\" x1=\"60.5\" x2=\"102.5\" y1=\"106.2969\" y2=\"106.2969\"/><text fill=\"#000000\" font-family=\"sans-serif\" font-size=\"14\" font-weight=\"bold\" lengthAdjust=\"spacingAndGlyphs\" textLength=\"29\" x=\"64.5\" y=\"98.9951\">P2a</text></a><!--MD5=[a717450b82c80b9240a525fa862496af]\n",
       "link E6 to E3--><a href=\"psysml:4aa795d2-d8a8-4fd3-b09b-984289b8e469\" target=\"_top\" title=\"psysml:4aa795d2-d8a8-4fd3-b09b-984289b8e469\" xlink:actuate=\"onRequest\" xlink:href=\"psysml:4aa795d2-d8a8-4fd3-b09b-984289b8e469\" xlink:show=\"new\" xlink:title=\"psysml:4aa795d2-d8a8-4fd3-b09b-984289b8e469\" xlink:type=\"simple\"><path d=\"M163.83,133.68 C162.24,149.9 160.04,172.39 158.12,191.96 \" fill=\"none\" id=\"E6-&gt;E3\" style=\"stroke: #383838; stroke-width: 1.0;\"/><polygon fill=\"#FFFFFF\" points=\"156.16,211.98,151.0533,192.3861,164.986,193.7564,156.16,211.98\" style=\"stroke: #383838; stroke-width: 1.0;\"/><ellipse cx=\"153.6016\" cy=\"186.9092\" fill=\"#383838\" rx=\"2\" ry=\"2\" style=\"stroke: #383838; stroke-width: 1.0;\"/><ellipse cx=\"163.5535\" cy=\"187.888\" fill=\"#383838\" rx=\"2\" ry=\"2\" style=\"stroke: #383838; stroke-width: 1.0;\"/></a><!--MD5=[5cacdeb45fe4a2c33d5d4ce120dbf05e]\n",
       "@startuml\r\n",
       "top to bottom direction\r\n",
       "skinparam monochrome true\r\n",
       "skinparam classbackgroundcolor white\r\n",
       "skinparam shadowing false\r\n",
       "skinparam wrapWidth 300\r\n",
       "hide circle\r\n",
       "\r\n",
       "package \"QualifiedNameImportTest\" as E1  [[psysml:986fc1fb-4aef-4106-b1ed-1986834153ab ]]  {\r\n",
       "package \"P1\" as E2  [[psysml:372b503a-8716-40b4-8b99-cd3a963555f9 ]]  {\r\n",
       "comp def \"A\" as E3  <<(T,blue)part def>> [[psysml:d5e28260-c8b5-4b29-a8f8-2a36a510faa1 ]] {\r\n",
       "}\r\n",
       "}\r\n",
       "package \"P2\" as E4  [[psysml:ae810913-1289-4b59-a95a-360ad08f1101 ]]  {\r\n",
       "package \"P2a\" as E5  [[psysml:b96f1ba5-fc32-4046-b5fe-7b623c9bf90c ]]  {\r\n",
       "}\r\n",
       "comp usage \"x: A\" as E6  <<(T,blue)part>> [[psysml:9546b5bf-a121-430a-b785-22b0f3c788bb ]] {\r\n",
       "}\r\n",
       "E6 - -:|> E3 [[psysml:4aa795d2-d8a8-4fd3-b09b-984289b8e469 ]] \r\n",
       "}\r\n",
       "}\r\n",
       "@enduml\r\n",
       "\n",
       "PlantUML version 1.2020.13(Sat Jun 13 12:26:38 UTC 2020)\n",
       "(EPL source distribution)\n",
       "Java Runtime: OpenJDK Runtime Environment\n",
       "JVM: OpenJDK 64-Bit Server VM\n",
       "Default Encoding: UTF-8\n",
       "Language: en\n",
       "Country: null\n",
       "--></g></svg>"
      ]
     },
     "execution_count": 44,
     "metadata": {},
     "output_type": "execute_result"
    }
   ],
   "source": [
    "%viz --style=\"TB\" --view=\"Default\" \"QualifiedNameImportTest\""
   ]
  },
  {
   "cell_type": "code",
   "execution_count": 45,
   "id": "e8c8f967",
   "metadata": {
    "execution": {
     "iopub.execute_input": "2021-04-20T07:02:42.877447Z",
     "iopub.status.busy": "2021-04-20T07:02:42.876950Z",
     "iopub.status.idle": "2021-04-20T07:02:42.902083Z",
     "shell.execute_reply": "2021-04-20T07:02:42.900772Z"
    }
   },
   "outputs": [
    {
     "data": {
      "image/svg+xml": [
       "<?xml version=\"1.0\" encoding=\"UTF-8\" standalone=\"no\"?><svg xmlns=\"http://www.w3.org/2000/svg\" xmlns:xlink=\"http://www.w3.org/1999/xlink\" contentScriptType=\"application/ecmascript\" contentStyleType=\"text/css\" height=\"310px\" preserveAspectRatio=\"none\" style=\"width:253px;height:310px;\" version=\"1.1\" viewBox=\"0 0 253 310\" width=\"253px\" zoomAndPan=\"magnify\"><defs/><g><!--MD5=[fbc87193dbaf4d95561dea2c320d4a47]\n",
       "cluster E1--><a href=\"psysml:986fc1fb-4aef-4106-b1ed-1986834153ab\" target=\"_top\" title=\"psysml:986fc1fb-4aef-4106-b1ed-1986834153ab\" xlink:actuate=\"onRequest\" xlink:href=\"psysml:986fc1fb-4aef-4106-b1ed-1986834153ab\" xlink:show=\"new\" xlink:title=\"psysml:986fc1fb-4aef-4106-b1ed-1986834153ab\" xlink:type=\"simple\"><polygon fill=\"#FFFFFF\" points=\"16,6,221,6,228,28.2969,231,28.2969,231,298,16,298,16,6\" style=\"stroke: #000000; stroke-width: 1.5;\"/><line style=\"stroke: #000000; stroke-width: 1.5;\" x1=\"16\" x2=\"228\" y1=\"28.2969\" y2=\"28.2969\"/><text fill=\"#000000\" font-family=\"sans-serif\" font-size=\"14\" font-weight=\"bold\" lengthAdjust=\"spacingAndGlyphs\" textLength=\"199\" x=\"20\" y=\"20.9951\">QualifiedNameImportTest</text></a><!--MD5=[e4f7fae6ed58524ba242bb0b0d3be6b7]\n",
       "cluster E2--><a href=\"psysml:372b503a-8716-40b4-8b99-cd3a963555f9\" target=\"_top\" title=\"psysml:372b503a-8716-40b4-8b99-cd3a963555f9\" xlink:actuate=\"onRequest\" xlink:href=\"psysml:372b503a-8716-40b4-8b99-cd3a963555f9\" xlink:show=\"new\" xlink:title=\"psysml:372b503a-8716-40b4-8b99-cd3a963555f9\" xlink:type=\"simple\"><polygon fill=\"#FFFFFF\" points=\"105,177,131,177,138,199.2969,203,199.2969,203,274,105,274,105,177\" style=\"stroke: #000000; stroke-width: 1.5;\"/><line style=\"stroke: #000000; stroke-width: 1.5;\" x1=\"105\" x2=\"138\" y1=\"199.2969\" y2=\"199.2969\"/><text fill=\"#000000\" font-family=\"sans-serif\" font-size=\"14\" font-weight=\"bold\" lengthAdjust=\"spacingAndGlyphs\" textLength=\"20\" x=\"109\" y=\"191.9951\">P1</text></a><!--MD5=[f6df4d0ebaf0b5dfb2ced0ae5af7c670]\n",
       "cluster E4--><a href=\"psysml:ae810913-1289-4b59-a95a-360ad08f1101\" target=\"_top\" title=\"psysml:ae810913-1289-4b59-a95a-360ad08f1101\" xlink:actuate=\"onRequest\" xlink:href=\"psysml:ae810913-1289-4b59-a95a-360ad08f1101\" xlink:show=\"new\" xlink:title=\"psysml:ae810913-1289-4b59-a95a-360ad08f1101\" xlink:type=\"simple\"><polygon fill=\"#FFFFFF\" points=\"44,49,70,49,77,71.2969,203,71.2969,203,153,44,153,44,49\" style=\"stroke: #000000; stroke-width: 1.5;\"/><line style=\"stroke: #000000; stroke-width: 1.5;\" x1=\"44\" x2=\"77\" y1=\"71.2969\" y2=\"71.2969\"/><text fill=\"#000000\" font-family=\"sans-serif\" font-size=\"14\" font-weight=\"bold\" lengthAdjust=\"spacingAndGlyphs\" textLength=\"20\" x=\"48\" y=\"63.9951\">P2</text></a><!--MD5=[09b614a08d8cba4a07c9adeb5e0fee81]\n",
       "class E3--><a href=\"psysml:d5e28260-c8b5-4b29-a8f8-2a36a510faa1\" target=\"_top\" title=\"psysml:d5e28260-c8b5-4b29-a8f8-2a36a510faa1\" xlink:actuate=\"onRequest\" xlink:href=\"psysml:d5e28260-c8b5-4b29-a8f8-2a36a510faa1\" xlink:show=\"new\" xlink:title=\"psysml:d5e28260-c8b5-4b29-a8f8-2a36a510faa1\" xlink:type=\"simple\"><rect fill=\"#FFFFFF\" height=\"45.9375\" id=\"E3\" style=\"stroke: #383838; stroke-width: 1.5;\" width=\"66\" x=\"121\" y=\"212\"/><text fill=\"#000000\" font-family=\"sans-serif\" font-size=\"12\" font-style=\"italic\" lengthAdjust=\"spacingAndGlyphs\" textLength=\"64\" x=\"122\" y=\"228.1387\">«part def»</text><text fill=\"#000000\" font-family=\"sans-serif\" font-size=\"12\" lengthAdjust=\"spacingAndGlyphs\" textLength=\"8\" x=\"150\" y=\"242.1074\">A</text><line style=\"stroke: #383838; stroke-width: 1.5;\" x1=\"122\" x2=\"186\" y1=\"249.9375\" y2=\"249.9375\"/></a><!--MD5=[60a26617385b1d2d0262a64233df1f8d]\n",
       "class E6--><a href=\"psysml:9546b5bf-a121-430a-b785-22b0f3c788bb\" target=\"_top\" title=\"psysml:9546b5bf-a121-430a-b785-22b0f3c788bb\" xlink:actuate=\"onRequest\" xlink:href=\"psysml:9546b5bf-a121-430a-b785-22b0f3c788bb\" xlink:show=\"new\" xlink:title=\"psysml:9546b5bf-a121-430a-b785-22b0f3c788bb\" xlink:type=\"simple\"><rect fill=\"#FFFFFF\" height=\"45.9375\" id=\"E6\" rx=\"10\" ry=\"10\" style=\"stroke: #383838; stroke-width: 1.5;\" width=\"42\" x=\"145\" y=\"87.5\"/><text fill=\"#000000\" font-family=\"sans-serif\" font-size=\"12\" font-style=\"italic\" lengthAdjust=\"spacingAndGlyphs\" textLength=\"40\" x=\"146\" y=\"103.6387\">«part»</text><text fill=\"#000000\" font-family=\"sans-serif\" font-size=\"12\" lengthAdjust=\"spacingAndGlyphs\" textLength=\"22\" x=\"155\" y=\"117.6074\">x: A</text><line style=\"stroke: #383838; stroke-width: 1.5;\" x1=\"146\" x2=\"186\" y1=\"125.4375\" y2=\"125.4375\"/></a><a href=\"psysml:b96f1ba5-fc32-4046-b5fe-7b623c9bf90c\" target=\"_top\" title=\"psysml:b96f1ba5-fc32-4046-b5fe-7b623c9bf90c\" xlink:actuate=\"onRequest\" xlink:href=\"psysml:b96f1ba5-fc32-4046-b5fe-7b623c9bf90c\" xlink:show=\"new\" xlink:title=\"psysml:b96f1ba5-fc32-4046-b5fe-7b623c9bf90c\" xlink:type=\"simple\"><polygon fill=\"#FFFFFF\" points=\"60.5,84,95.5,84,102.5,106.2969,109.5,106.2969,109.5,136.5938,60.5,136.5938,60.5,84\" style=\"stroke: #000000; stroke-width: 1.5;\"/><line style=\"stroke: #000000; stroke-width: 1.5;\" x1=\"60.5\" x2=\"102.5\" y1=\"106.2969\" y2=\"106.2969\"/><text fill=\"#000000\" font-family=\"sans-serif\" font-size=\"14\" font-weight=\"bold\" lengthAdjust=\"spacingAndGlyphs\" textLength=\"29\" x=\"64.5\" y=\"98.9951\">P2a</text></a><!--MD5=[a717450b82c80b9240a525fa862496af]\n",
       "link E6 to E3--><a href=\"psysml:4aa795d2-d8a8-4fd3-b09b-984289b8e469\" target=\"_top\" title=\"psysml:4aa795d2-d8a8-4fd3-b09b-984289b8e469\" xlink:actuate=\"onRequest\" xlink:href=\"psysml:4aa795d2-d8a8-4fd3-b09b-984289b8e469\" xlink:show=\"new\" xlink:title=\"psysml:4aa795d2-d8a8-4fd3-b09b-984289b8e469\" xlink:type=\"simple\"><path d=\"M163.83,133.68 C162.24,149.9 160.04,172.39 158.12,191.96 \" fill=\"none\" id=\"E6-&gt;E3\" style=\"stroke: #383838; stroke-width: 1.0;\"/><polygon fill=\"#FFFFFF\" points=\"156.16,211.98,151.0533,192.3861,164.986,193.7564,156.16,211.98\" style=\"stroke: #383838; stroke-width: 1.0;\"/><ellipse cx=\"153.6016\" cy=\"186.9092\" fill=\"#383838\" rx=\"2\" ry=\"2\" style=\"stroke: #383838; stroke-width: 1.0;\"/><ellipse cx=\"163.5535\" cy=\"187.888\" fill=\"#383838\" rx=\"2\" ry=\"2\" style=\"stroke: #383838; stroke-width: 1.0;\"/></a><!--MD5=[5cacdeb45fe4a2c33d5d4ce120dbf05e]\n",
       "@startuml\r\n",
       "top to bottom direction\r\n",
       "skinparam monochrome true\r\n",
       "skinparam classbackgroundcolor white\r\n",
       "skinparam shadowing false\r\n",
       "skinparam wrapWidth 300\r\n",
       "hide circle\r\n",
       "\r\n",
       "package \"QualifiedNameImportTest\" as E1  [[psysml:986fc1fb-4aef-4106-b1ed-1986834153ab ]]  {\r\n",
       "package \"P1\" as E2  [[psysml:372b503a-8716-40b4-8b99-cd3a963555f9 ]]  {\r\n",
       "comp def \"A\" as E3  <<(T,blue)part def>> [[psysml:d5e28260-c8b5-4b29-a8f8-2a36a510faa1 ]] {\r\n",
       "}\r\n",
       "}\r\n",
       "package \"P2\" as E4  [[psysml:ae810913-1289-4b59-a95a-360ad08f1101 ]]  {\r\n",
       "package \"P2a\" as E5  [[psysml:b96f1ba5-fc32-4046-b5fe-7b623c9bf90c ]]  {\r\n",
       "}\r\n",
       "comp usage \"x: A\" as E6  <<(T,blue)part>> [[psysml:9546b5bf-a121-430a-b785-22b0f3c788bb ]] {\r\n",
       "}\r\n",
       "E6 - -:|> E3 [[psysml:4aa795d2-d8a8-4fd3-b09b-984289b8e469 ]] \r\n",
       "}\r\n",
       "}\r\n",
       "@enduml\r\n",
       "\n",
       "PlantUML version 1.2020.13(Sat Jun 13 12:26:38 UTC 2020)\n",
       "(EPL source distribution)\n",
       "Java Runtime: OpenJDK Runtime Environment\n",
       "JVM: OpenJDK 64-Bit Server VM\n",
       "Default Encoding: UTF-8\n",
       "Language: en\n",
       "Country: null\n",
       "--></g></svg>"
      ]
     },
     "execution_count": 45,
     "metadata": {},
     "output_type": "execute_result"
    }
   ],
   "source": [
    "%viz --style=\"TB\" --view=\"Tree\" \"QualifiedNameImportTest\""
   ]
  },
  {
   "cell_type": "code",
   "execution_count": 46,
   "id": "ab4a4c67",
   "metadata": {
    "execution": {
     "iopub.execute_input": "2021-04-20T07:02:42.953798Z",
     "iopub.status.busy": "2021-04-20T07:02:42.953325Z",
     "iopub.status.idle": "2021-04-20T07:02:42.959462Z",
     "shell.execute_reply": "2021-04-20T07:02:42.959147Z"
    }
   },
   "outputs": [
    {
     "data": {
      "image/svg+xml": [
       "<?xml version=\"1.0\" encoding=\"UTF-8\" standalone=\"no\"?><svg xmlns=\"http://www.w3.org/2000/svg\" xmlns:xlink=\"http://www.w3.org/1999/xlink\" contentScriptType=\"application/ecmascript\" contentStyleType=\"text/css\" height=\"12px\" preserveAspectRatio=\"none\" style=\"width:12px;height:12px;\" version=\"1.1\" viewBox=\"0 0 12 12\" width=\"12px\" zoomAndPan=\"magnify\"><defs/><g><!--MD5=[f4ee21bc66e489b5061b7c3e9601fdef]\n",
       "@startuml\r\n",
       "top to bottom direction\r\n",
       "skinparam monochrome true\r\n",
       "skinparam classbackgroundcolor white\r\n",
       "skinparam shadowing false\r\n",
       "skinparam wrapWidth 300\r\n",
       "hide circle\r\n",
       "\r\n",
       "@enduml\r\n",
       "\n",
       "PlantUML version 1.2020.13(Sat Jun 13 12:26:38 UTC 2020)\n",
       "(EPL source distribution)\n",
       "Java Runtime: OpenJDK Runtime Environment\n",
       "JVM: OpenJDK 64-Bit Server VM\n",
       "Default Encoding: UTF-8\n",
       "Language: en\n",
       "Country: null\n",
       "--></g></svg>"
      ]
     },
     "execution_count": 46,
     "metadata": {},
     "output_type": "execute_result"
    }
   ],
   "source": [
    "%viz --style=\"TB\" --view=\"State\" \"QualifiedNameImportTest\""
   ]
  },
  {
   "cell_type": "code",
   "execution_count": 47,
   "id": "696e970c",
   "metadata": {
    "execution": {
     "iopub.execute_input": "2021-04-20T07:02:43.012093Z",
     "iopub.status.busy": "2021-04-20T07:02:43.011594Z",
     "iopub.status.idle": "2021-04-20T07:02:43.035312Z",
     "shell.execute_reply": "2021-04-20T07:02:43.034917Z"
    }
   },
   "outputs": [
    {
     "data": {
      "image/svg+xml": [
       "<?xml version=\"1.0\" encoding=\"UTF-8\" standalone=\"no\"?><svg xmlns=\"http://www.w3.org/2000/svg\" xmlns:xlink=\"http://www.w3.org/1999/xlink\" contentScriptType=\"application/ecmascript\" contentStyleType=\"text/css\" height=\"189px\" preserveAspectRatio=\"none\" style=\"width:381px;height:189px;\" version=\"1.1\" viewBox=\"0 0 381 189\" width=\"381px\" zoomAndPan=\"magnify\"><defs/><g><!--MD5=[fbc87193dbaf4d95561dea2c320d4a47]\n",
       "cluster E1--><a href=\"psysml:986fc1fb-4aef-4106-b1ed-1986834153ab\" target=\"_top\" title=\"psysml:986fc1fb-4aef-4106-b1ed-1986834153ab\" xlink:actuate=\"onRequest\" xlink:href=\"psysml:986fc1fb-4aef-4106-b1ed-1986834153ab\" xlink:show=\"new\" xlink:title=\"psysml:986fc1fb-4aef-4106-b1ed-1986834153ab\" xlink:type=\"simple\"><polygon fill=\"#FFFFFF\" points=\"16,6,221,6,228,28.2969,359,28.2969,359,177,16,177,16,6\" style=\"stroke: #000000; stroke-width: 1.5;\"/><line style=\"stroke: #000000; stroke-width: 1.5;\" x1=\"16\" x2=\"228\" y1=\"28.2969\" y2=\"28.2969\"/><text fill=\"#000000\" font-family=\"sans-serif\" font-size=\"14\" font-weight=\"bold\" lengthAdjust=\"spacingAndGlyphs\" textLength=\"199\" x=\"20\" y=\"20.9951\">QualifiedNameImportTest</text></a><!--MD5=[e4f7fae6ed58524ba242bb0b0d3be6b7]\n",
       "cluster E2--><a href=\"psysml:372b503a-8716-40b4-8b99-cd3a963555f9\" target=\"_top\" title=\"psysml:372b503a-8716-40b4-8b99-cd3a963555f9\" xlink:actuate=\"onRequest\" xlink:href=\"psysml:372b503a-8716-40b4-8b99-cd3a963555f9\" xlink:show=\"new\" xlink:title=\"psysml:372b503a-8716-40b4-8b99-cd3a963555f9\" xlink:type=\"simple\"><polygon fill=\"#FFFFFF\" points=\"231,54,257,54,264,76.2969,335,76.2969,335,148,231,148,231,54\" style=\"stroke: #000000; stroke-width: 1.5;\"/><line style=\"stroke: #000000; stroke-width: 1.5;\" x1=\"231\" x2=\"264\" y1=\"76.2969\" y2=\"76.2969\"/><text fill=\"#000000\" font-family=\"sans-serif\" font-size=\"14\" font-weight=\"bold\" lengthAdjust=\"spacingAndGlyphs\" textLength=\"20\" x=\"235\" y=\"68.9951\">P1</text></a><!--MD5=[f6df4d0ebaf0b5dfb2ced0ae5af7c670]\n",
       "cluster E4--><a href=\"psysml:ae810913-1289-4b59-a95a-360ad08f1101\" target=\"_top\" title=\"psysml:ae810913-1289-4b59-a95a-360ad08f1101\" xlink:actuate=\"onRequest\" xlink:href=\"psysml:ae810913-1289-4b59-a95a-360ad08f1101\" xlink:show=\"new\" xlink:title=\"psysml:ae810913-1289-4b59-a95a-360ad08f1101\" xlink:type=\"simple\"><polygon fill=\"#FFFFFF\" points=\"40,49,66,49,73,71.2969,207,71.2969,207,153,40,153,40,49\" style=\"stroke: #000000; stroke-width: 1.5;\"/><line style=\"stroke: #000000; stroke-width: 1.5;\" x1=\"40\" x2=\"73\" y1=\"71.2969\" y2=\"71.2969\"/><text fill=\"#000000\" font-family=\"sans-serif\" font-size=\"14\" font-weight=\"bold\" lengthAdjust=\"spacingAndGlyphs\" textLength=\"20\" x=\"44\" y=\"63.9951\">P2</text></a><g id=\"E1.E2.E3\"><a href=\"psysml:d5e28260-c8b5-4b29-a8f8-2a36a510faa1\" target=\"_top\" title=\"psysml:d5e28260-c8b5-4b29-a8f8-2a36a510faa1\" xlink:actuate=\"onRequest\" xlink:href=\"psysml:d5e28260-c8b5-4b29-a8f8-2a36a510faa1\" xlink:show=\"new\" xlink:title=\"psysml:d5e28260-c8b5-4b29-a8f8-2a36a510faa1\" xlink:type=\"simple\"><rect fill=\"#FFFFFF\" height=\"42.9375\" id=\"E3\" style=\"stroke: #383838; stroke-width: 1.5;\" width=\"71\" x=\"247.5\" y=\"89\"/><rect fill=\"#F8F8F8\" height=\"37.9375\" style=\"stroke: #383838; stroke-width: 1.5;\" width=\"71\" x=\"247.5\" y=\"89\"/><text fill=\"#000000\" font-family=\"sans-serif\" font-size=\"12\" font-style=\"italic\" lengthAdjust=\"spacingAndGlyphs\" textLength=\"64\" x=\"251\" y=\"105.1387\">«part def»</text><text fill=\"#000000\" font-family=\"sans-serif\" font-size=\"12\" lengthAdjust=\"spacingAndGlyphs\" textLength=\"8\" x=\"279\" y=\"119.1074\">A</text></a></g><a href=\"psysml:b96f1ba5-fc32-4046-b5fe-7b623c9bf90c\" target=\"_top\" title=\"psysml:b96f1ba5-fc32-4046-b5fe-7b623c9bf90c\" xlink:actuate=\"onRequest\" xlink:href=\"psysml:b96f1ba5-fc32-4046-b5fe-7b623c9bf90c\" xlink:show=\"new\" xlink:title=\"psysml:b96f1ba5-fc32-4046-b5fe-7b623c9bf90c\" xlink:type=\"simple\"><polygon fill=\"#FFFFFF\" points=\"141.5,84,176.5,84,183.5,106.2969,190.5,106.2969,190.5,136.5938,141.5,136.5938,141.5,84\" style=\"stroke: #000000; stroke-width: 1.5;\"/><line style=\"stroke: #000000; stroke-width: 1.5;\" x1=\"141.5\" x2=\"183.5\" y1=\"106.2969\" y2=\"106.2969\"/><text fill=\"#000000\" font-family=\"sans-serif\" font-size=\"14\" font-weight=\"bold\" lengthAdjust=\"spacingAndGlyphs\" textLength=\"29\" x=\"145.5\" y=\"98.9951\">P2a</text></a><g id=\"E1.E4.E6\"><a href=\"psysml:9546b5bf-a121-430a-b785-22b0f3c788bb\" target=\"_top\" title=\"psysml:9546b5bf-a121-430a-b785-22b0f3c788bb\" xlink:actuate=\"onRequest\" xlink:href=\"psysml:9546b5bf-a121-430a-b785-22b0f3c788bb\" xlink:show=\"new\" xlink:title=\"psysml:9546b5bf-a121-430a-b785-22b0f3c788bb\" xlink:type=\"simple\"><rect fill=\"#FFFFFF\" height=\"40\" id=\"E6\" rx=\"10\" ry=\"10\" style=\"stroke: #383838; stroke-width: 1.5;\" width=\"50\" x=\"56\" y=\"90.5\"/><rect fill=\"#F8F8F8\" height=\"23.9688\" rx=\"10\" ry=\"10\" style=\"stroke: #F8F8F8; stroke-width: 1.5;\" width=\"50\" x=\"56\" y=\"90.5\"/><rect fill=\"#F8F8F8\" height=\"10\" style=\"stroke: #F8F8F8; stroke-width: 1.5;\" width=\"50\" x=\"56\" y=\"104.4688\"/><rect fill=\"none\" height=\"40\" id=\"E6\" rx=\"10\" ry=\"10\" style=\"stroke: #383838; stroke-width: 1.5;\" width=\"50\" x=\"56\" y=\"90.5\"/><text fill=\"#000000\" font-family=\"sans-serif\" font-size=\"12\" lengthAdjust=\"spacingAndGlyphs\" textLength=\"22\" x=\"70\" y=\"106.6387\">x: A</text></a></g><!--MD5=[ce6635688ce00d14c3cf02a570e96dd3]\n",
       "@startuml\r\n",
       "skinparam ranksep 10\r\n",
       "skinparam rectangle {\r\n",
       " backgroundColor<<block>> LightGreen\r\n",
       "}\r\n",
       "top to bottom direction\r\n",
       "skinparam monochrome true\r\n",
       "skinparam classbackgroundcolor white\r\n",
       "skinparam shadowing false\r\n",
       "skinparam wrapWidth 300\r\n",
       "hide circle\r\n",
       "\r\n",
       "package \"QualifiedNameImportTest\" as E1  [[psysml:986fc1fb-4aef-4106-b1ed-1986834153ab ]]  {\r\n",
       "package \"P1\" as E2  [[psysml:372b503a-8716-40b4-8b99-cd3a963555f9 ]]  {\r\n",
       "rec def \"A\" as E3  <<(T,blue)part def>> [[psysml:d5e28260-c8b5-4b29-a8f8-2a36a510faa1 ]] {\r\n",
       "}\r\n",
       "}\r\n",
       "package \"P2\" as E4  [[psysml:ae810913-1289-4b59-a95a-360ad08f1101 ]]  {\r\n",
       "package \"P2a\" as E5  [[psysml:b96f1ba5-fc32-4046-b5fe-7b623c9bf90c ]]  {\r\n",
       "}\r\n",
       "rec usage \"x: A\" as E6  [[psysml:9546b5bf-a121-430a-b785-22b0f3c788bb ]] {\r\n",
       "}\r\n",
       "}\r\n",
       "}\r\n",
       "@enduml\r\n",
       "\n",
       "PlantUML version 1.2020.13(Sat Jun 13 12:26:38 UTC 2020)\n",
       "(EPL source distribution)\n",
       "Java Runtime: OpenJDK Runtime Environment\n",
       "JVM: OpenJDK 64-Bit Server VM\n",
       "Default Encoding: UTF-8\n",
       "Language: en\n",
       "Country: null\n",
       "--></g></svg>"
      ]
     },
     "execution_count": 47,
     "metadata": {},
     "output_type": "execute_result"
    }
   ],
   "source": [
    "%viz --style=\"TB\" --view=\"Interconnection\" \"QualifiedNameImportTest\""
   ]
  },
  {
   "cell_type": "code",
   "execution_count": 48,
   "id": "fa941d15",
   "metadata": {
    "execution": {
     "iopub.execute_input": "2021-04-20T07:02:43.091011Z",
     "iopub.status.busy": "2021-04-20T07:02:43.086527Z",
     "iopub.status.idle": "2021-04-20T07:02:43.095828Z",
     "shell.execute_reply": "2021-04-20T07:02:43.095478Z"
    }
   },
   "outputs": [
    {
     "data": {
      "image/svg+xml": [
       "<?xml version=\"1.0\" encoding=\"UTF-8\" standalone=\"no\"?><svg xmlns=\"http://www.w3.org/2000/svg\" xmlns:xlink=\"http://www.w3.org/1999/xlink\" contentScriptType=\"application/ecmascript\" contentStyleType=\"text/css\" height=\"12px\" preserveAspectRatio=\"none\" style=\"width:12px;height:12px;\" version=\"1.1\" viewBox=\"0 0 12 12\" width=\"12px\" zoomAndPan=\"magnify\"><defs/><g><!--MD5=[06afc254b03ac5e9d9fb7773b07d0800]\n",
       "@startuml\r\n",
       "skinparam ranksep 8\r\n",
       "top to bottom direction\r\n",
       "skinparam monochrome true\r\n",
       "skinparam classbackgroundcolor white\r\n",
       "skinparam shadowing false\r\n",
       "skinparam wrapWidth 300\r\n",
       "hide circle\r\n",
       "\r\n",
       "@enduml\r\n",
       "\n",
       "PlantUML version 1.2020.13(Sat Jun 13 12:26:38 UTC 2020)\n",
       "(EPL source distribution)\n",
       "Java Runtime: OpenJDK Runtime Environment\n",
       "JVM: OpenJDK 64-Bit Server VM\n",
       "Default Encoding: UTF-8\n",
       "Language: en\n",
       "Country: null\n",
       "--></g></svg>"
      ]
     },
     "execution_count": 48,
     "metadata": {},
     "output_type": "execute_result"
    }
   ],
   "source": [
    "%viz --style=\"TB\" --view=\"Action\" \"QualifiedNameImportTest\""
   ]
  },
  {
   "cell_type": "code",
   "execution_count": 49,
   "id": "8a29befd",
   "metadata": {
    "execution": {
     "iopub.execute_input": "2021-04-20T07:02:43.146521Z",
     "iopub.status.busy": "2021-04-20T07:02:43.146040Z",
     "iopub.status.idle": "2021-04-20T07:02:43.170218Z",
     "shell.execute_reply": "2021-04-20T07:02:43.169103Z"
    }
   },
   "outputs": [
    {
     "data": {
      "image/svg+xml": [
       "<?xml version=\"1.0\" encoding=\"UTF-8\" standalone=\"no\"?><svg xmlns=\"http://www.w3.org/2000/svg\" xmlns:xlink=\"http://www.w3.org/1999/xlink\" contentScriptType=\"application/ecmascript\" contentStyleType=\"text/css\" height=\"310px\" preserveAspectRatio=\"none\" style=\"width:253px;height:310px;\" version=\"1.1\" viewBox=\"0 0 253 310\" width=\"253px\" zoomAndPan=\"magnify\"><defs/><g><!--MD5=[fbc87193dbaf4d95561dea2c320d4a47]\n",
       "cluster E1--><a href=\"psysml:986fc1fb-4aef-4106-b1ed-1986834153ab\" target=\"_top\" title=\"psysml:986fc1fb-4aef-4106-b1ed-1986834153ab\" xlink:actuate=\"onRequest\" xlink:href=\"psysml:986fc1fb-4aef-4106-b1ed-1986834153ab\" xlink:show=\"new\" xlink:title=\"psysml:986fc1fb-4aef-4106-b1ed-1986834153ab\" xlink:type=\"simple\"><polygon fill=\"#FFFFFF\" points=\"16,6,221,6,228,28.2969,231,28.2969,231,298,16,298,16,6\" style=\"stroke: #000000; stroke-width: 1.5;\"/><line style=\"stroke: #000000; stroke-width: 1.5;\" x1=\"16\" x2=\"228\" y1=\"28.2969\" y2=\"28.2969\"/><text fill=\"#000000\" font-family=\"sans-serif\" font-size=\"14\" font-weight=\"bold\" lengthAdjust=\"spacingAndGlyphs\" textLength=\"199\" x=\"20\" y=\"20.9951\">QualifiedNameImportTest</text></a><!--MD5=[e4f7fae6ed58524ba242bb0b0d3be6b7]\n",
       "cluster E2--><a href=\"psysml:372b503a-8716-40b4-8b99-cd3a963555f9\" target=\"_top\" title=\"psysml:372b503a-8716-40b4-8b99-cd3a963555f9\" xlink:actuate=\"onRequest\" xlink:href=\"psysml:372b503a-8716-40b4-8b99-cd3a963555f9\" xlink:show=\"new\" xlink:title=\"psysml:372b503a-8716-40b4-8b99-cd3a963555f9\" xlink:type=\"simple\"><polygon fill=\"#FFFFFF\" points=\"105,177,131,177,138,199.2969,203,199.2969,203,274,105,274,105,177\" style=\"stroke: #000000; stroke-width: 1.5;\"/><line style=\"stroke: #000000; stroke-width: 1.5;\" x1=\"105\" x2=\"138\" y1=\"199.2969\" y2=\"199.2969\"/><text fill=\"#000000\" font-family=\"sans-serif\" font-size=\"14\" font-weight=\"bold\" lengthAdjust=\"spacingAndGlyphs\" textLength=\"20\" x=\"109\" y=\"191.9951\">P1</text></a><!--MD5=[f6df4d0ebaf0b5dfb2ced0ae5af7c670]\n",
       "cluster E4--><a href=\"psysml:ae810913-1289-4b59-a95a-360ad08f1101\" target=\"_top\" title=\"psysml:ae810913-1289-4b59-a95a-360ad08f1101\" xlink:actuate=\"onRequest\" xlink:href=\"psysml:ae810913-1289-4b59-a95a-360ad08f1101\" xlink:show=\"new\" xlink:title=\"psysml:ae810913-1289-4b59-a95a-360ad08f1101\" xlink:type=\"simple\"><polygon fill=\"#FFFFFF\" points=\"44,49,70,49,77,71.2969,203,71.2969,203,153,44,153,44,49\" style=\"stroke: #000000; stroke-width: 1.5;\"/><line style=\"stroke: #000000; stroke-width: 1.5;\" x1=\"44\" x2=\"77\" y1=\"71.2969\" y2=\"71.2969\"/><text fill=\"#000000\" font-family=\"sans-serif\" font-size=\"14\" font-weight=\"bold\" lengthAdjust=\"spacingAndGlyphs\" textLength=\"20\" x=\"48\" y=\"63.9951\">P2</text></a><!--MD5=[09b614a08d8cba4a07c9adeb5e0fee81]\n",
       "class E3--><a href=\"psysml:d5e28260-c8b5-4b29-a8f8-2a36a510faa1\" target=\"_top\" title=\"psysml:d5e28260-c8b5-4b29-a8f8-2a36a510faa1\" xlink:actuate=\"onRequest\" xlink:href=\"psysml:d5e28260-c8b5-4b29-a8f8-2a36a510faa1\" xlink:show=\"new\" xlink:title=\"psysml:d5e28260-c8b5-4b29-a8f8-2a36a510faa1\" xlink:type=\"simple\"><rect fill=\"#FFFFFF\" height=\"45.9375\" id=\"E3\" style=\"stroke: #383838; stroke-width: 1.5;\" width=\"66\" x=\"121\" y=\"212\"/><text fill=\"#000000\" font-family=\"sans-serif\" font-size=\"12\" font-style=\"italic\" lengthAdjust=\"spacingAndGlyphs\" textLength=\"64\" x=\"122\" y=\"228.1387\">«part def»</text><text fill=\"#000000\" font-family=\"sans-serif\" font-size=\"12\" lengthAdjust=\"spacingAndGlyphs\" textLength=\"8\" x=\"150\" y=\"242.1074\">A</text><line style=\"stroke: #383838; stroke-width: 1.5;\" x1=\"122\" x2=\"186\" y1=\"249.9375\" y2=\"249.9375\"/></a><!--MD5=[60a26617385b1d2d0262a64233df1f8d]\n",
       "class E6--><a href=\"psysml:9546b5bf-a121-430a-b785-22b0f3c788bb\" target=\"_top\" title=\"psysml:9546b5bf-a121-430a-b785-22b0f3c788bb\" xlink:actuate=\"onRequest\" xlink:href=\"psysml:9546b5bf-a121-430a-b785-22b0f3c788bb\" xlink:show=\"new\" xlink:title=\"psysml:9546b5bf-a121-430a-b785-22b0f3c788bb\" xlink:type=\"simple\"><rect fill=\"#FFFFFF\" height=\"45.9375\" id=\"E6\" rx=\"10\" ry=\"10\" style=\"stroke: #383838; stroke-width: 1.5;\" width=\"42\" x=\"145\" y=\"87.5\"/><text fill=\"#000000\" font-family=\"sans-serif\" font-size=\"12\" font-style=\"italic\" lengthAdjust=\"spacingAndGlyphs\" textLength=\"40\" x=\"146\" y=\"103.6387\">«part»</text><text fill=\"#000000\" font-family=\"sans-serif\" font-size=\"12\" lengthAdjust=\"spacingAndGlyphs\" textLength=\"22\" x=\"155\" y=\"117.6074\">x: A</text><line style=\"stroke: #383838; stroke-width: 1.5;\" x1=\"146\" x2=\"186\" y1=\"125.4375\" y2=\"125.4375\"/></a><a href=\"psysml:b96f1ba5-fc32-4046-b5fe-7b623c9bf90c\" target=\"_top\" title=\"psysml:b96f1ba5-fc32-4046-b5fe-7b623c9bf90c\" xlink:actuate=\"onRequest\" xlink:href=\"psysml:b96f1ba5-fc32-4046-b5fe-7b623c9bf90c\" xlink:show=\"new\" xlink:title=\"psysml:b96f1ba5-fc32-4046-b5fe-7b623c9bf90c\" xlink:type=\"simple\"><polygon fill=\"#FFFFFF\" points=\"60.5,84,95.5,84,102.5,106.2969,109.5,106.2969,109.5,136.5938,60.5,136.5938,60.5,84\" style=\"stroke: #000000; stroke-width: 1.5;\"/><line style=\"stroke: #000000; stroke-width: 1.5;\" x1=\"60.5\" x2=\"102.5\" y1=\"106.2969\" y2=\"106.2969\"/><text fill=\"#000000\" font-family=\"sans-serif\" font-size=\"14\" font-weight=\"bold\" lengthAdjust=\"spacingAndGlyphs\" textLength=\"29\" x=\"64.5\" y=\"98.9951\">P2a</text></a><!--MD5=[a717450b82c80b9240a525fa862496af]\n",
       "link E6 to E3--><a href=\"psysml:4aa795d2-d8a8-4fd3-b09b-984289b8e469\" target=\"_top\" title=\"psysml:4aa795d2-d8a8-4fd3-b09b-984289b8e469\" xlink:actuate=\"onRequest\" xlink:href=\"psysml:4aa795d2-d8a8-4fd3-b09b-984289b8e469\" xlink:show=\"new\" xlink:title=\"psysml:4aa795d2-d8a8-4fd3-b09b-984289b8e469\" xlink:type=\"simple\"><path d=\"M163.83,133.68 C162.24,149.9 160.04,172.39 158.12,191.96 \" fill=\"none\" id=\"E6-&gt;E3\" style=\"stroke: #383838; stroke-width: 1.0;\"/><polygon fill=\"#FFFFFF\" points=\"156.16,211.98,151.0533,192.3861,164.986,193.7564,156.16,211.98\" style=\"stroke: #383838; stroke-width: 1.0;\"/><ellipse cx=\"153.6016\" cy=\"186.9092\" fill=\"#383838\" rx=\"2\" ry=\"2\" style=\"stroke: #383838; stroke-width: 1.0;\"/><ellipse cx=\"163.5535\" cy=\"187.888\" fill=\"#383838\" rx=\"2\" ry=\"2\" style=\"stroke: #383838; stroke-width: 1.0;\"/></a><!--MD5=[5cacdeb45fe4a2c33d5d4ce120dbf05e]\n",
       "@startuml\r\n",
       "top to bottom direction\r\n",
       "skinparam monochrome true\r\n",
       "skinparam classbackgroundcolor white\r\n",
       "skinparam shadowing false\r\n",
       "skinparam wrapWidth 300\r\n",
       "hide circle\r\n",
       "\r\n",
       "package \"QualifiedNameImportTest\" as E1  [[psysml:986fc1fb-4aef-4106-b1ed-1986834153ab ]]  {\r\n",
       "package \"P1\" as E2  [[psysml:372b503a-8716-40b4-8b99-cd3a963555f9 ]]  {\r\n",
       "comp def \"A\" as E3  <<(T,blue)part def>> [[psysml:d5e28260-c8b5-4b29-a8f8-2a36a510faa1 ]] {\r\n",
       "}\r\n",
       "}\r\n",
       "package \"P2\" as E4  [[psysml:ae810913-1289-4b59-a95a-360ad08f1101 ]]  {\r\n",
       "package \"P2a\" as E5  [[psysml:b96f1ba5-fc32-4046-b5fe-7b623c9bf90c ]]  {\r\n",
       "}\r\n",
       "comp usage \"x: A\" as E6  <<(T,blue)part>> [[psysml:9546b5bf-a121-430a-b785-22b0f3c788bb ]] {\r\n",
       "}\r\n",
       "E6 - -:|> E3 [[psysml:4aa795d2-d8a8-4fd3-b09b-984289b8e469 ]] \r\n",
       "}\r\n",
       "}\r\n",
       "@enduml\r\n",
       "\n",
       "PlantUML version 1.2020.13(Sat Jun 13 12:26:38 UTC 2020)\n",
       "(EPL source distribution)\n",
       "Java Runtime: OpenJDK Runtime Environment\n",
       "JVM: OpenJDK 64-Bit Server VM\n",
       "Default Encoding: UTF-8\n",
       "Language: en\n",
       "Country: null\n",
       "--></g></svg>"
      ]
     },
     "execution_count": 49,
     "metadata": {},
     "output_type": "execute_result"
    }
   ],
   "source": [
    "%viz --style=\"TB\" --view=\"Sequence\" \"QualifiedNameImportTest\""
   ]
  },
  {
   "cell_type": "code",
   "execution_count": 50,
   "id": "2aab6508",
   "metadata": {
    "execution": {
     "iopub.execute_input": "2021-04-20T07:02:43.221406Z",
     "iopub.status.busy": "2021-04-20T07:02:43.220849Z",
     "iopub.status.idle": "2021-04-20T07:02:43.245270Z",
     "shell.execute_reply": "2021-04-20T07:02:43.243816Z"
    }
   },
   "outputs": [
    {
     "data": {
      "image/svg+xml": [
       "<?xml version=\"1.0\" encoding=\"UTF-8\" standalone=\"no\"?><svg xmlns=\"http://www.w3.org/2000/svg\" xmlns:xlink=\"http://www.w3.org/1999/xlink\" contentScriptType=\"application/ecmascript\" contentStyleType=\"text/css\" height=\"310px\" preserveAspectRatio=\"none\" style=\"width:253px;height:310px;\" version=\"1.1\" viewBox=\"0 0 253 310\" width=\"253px\" zoomAndPan=\"magnify\"><defs/><g><!--MD5=[fbc87193dbaf4d95561dea2c320d4a47]\n",
       "cluster E1--><a href=\"psysml:986fc1fb-4aef-4106-b1ed-1986834153ab\" target=\"_top\" title=\"psysml:986fc1fb-4aef-4106-b1ed-1986834153ab\" xlink:actuate=\"onRequest\" xlink:href=\"psysml:986fc1fb-4aef-4106-b1ed-1986834153ab\" xlink:show=\"new\" xlink:title=\"psysml:986fc1fb-4aef-4106-b1ed-1986834153ab\" xlink:type=\"simple\"><polygon fill=\"#FFFFFF\" points=\"16,6,221,6,228,28.2969,231,28.2969,231,298,16,298,16,6\" style=\"stroke: #000000; stroke-width: 1.5;\"/><line style=\"stroke: #000000; stroke-width: 1.5;\" x1=\"16\" x2=\"228\" y1=\"28.2969\" y2=\"28.2969\"/><text fill=\"#000000\" font-family=\"sans-serif\" font-size=\"14\" font-weight=\"bold\" lengthAdjust=\"spacingAndGlyphs\" textLength=\"199\" x=\"20\" y=\"20.9951\">QualifiedNameImportTest</text></a><!--MD5=[e4f7fae6ed58524ba242bb0b0d3be6b7]\n",
       "cluster E2--><a href=\"psysml:372b503a-8716-40b4-8b99-cd3a963555f9\" target=\"_top\" title=\"psysml:372b503a-8716-40b4-8b99-cd3a963555f9\" xlink:actuate=\"onRequest\" xlink:href=\"psysml:372b503a-8716-40b4-8b99-cd3a963555f9\" xlink:show=\"new\" xlink:title=\"psysml:372b503a-8716-40b4-8b99-cd3a963555f9\" xlink:type=\"simple\"><polygon fill=\"#FFFFFF\" points=\"105,177,131,177,138,199.2969,203,199.2969,203,274,105,274,105,177\" style=\"stroke: #000000; stroke-width: 1.5;\"/><line style=\"stroke: #000000; stroke-width: 1.5;\" x1=\"105\" x2=\"138\" y1=\"199.2969\" y2=\"199.2969\"/><text fill=\"#000000\" font-family=\"sans-serif\" font-size=\"14\" font-weight=\"bold\" lengthAdjust=\"spacingAndGlyphs\" textLength=\"20\" x=\"109\" y=\"191.9951\">P1</text></a><!--MD5=[f6df4d0ebaf0b5dfb2ced0ae5af7c670]\n",
       "cluster E4--><a href=\"psysml:ae810913-1289-4b59-a95a-360ad08f1101\" target=\"_top\" title=\"psysml:ae810913-1289-4b59-a95a-360ad08f1101\" xlink:actuate=\"onRequest\" xlink:href=\"psysml:ae810913-1289-4b59-a95a-360ad08f1101\" xlink:show=\"new\" xlink:title=\"psysml:ae810913-1289-4b59-a95a-360ad08f1101\" xlink:type=\"simple\"><polygon fill=\"#FFFFFF\" points=\"44,49,70,49,77,71.2969,203,71.2969,203,153,44,153,44,49\" style=\"stroke: #000000; stroke-width: 1.5;\"/><line style=\"stroke: #000000; stroke-width: 1.5;\" x1=\"44\" x2=\"77\" y1=\"71.2969\" y2=\"71.2969\"/><text fill=\"#000000\" font-family=\"sans-serif\" font-size=\"14\" font-weight=\"bold\" lengthAdjust=\"spacingAndGlyphs\" textLength=\"20\" x=\"48\" y=\"63.9951\">P2</text></a><!--MD5=[09b614a08d8cba4a07c9adeb5e0fee81]\n",
       "class E3--><a href=\"psysml:d5e28260-c8b5-4b29-a8f8-2a36a510faa1\" target=\"_top\" title=\"psysml:d5e28260-c8b5-4b29-a8f8-2a36a510faa1\" xlink:actuate=\"onRequest\" xlink:href=\"psysml:d5e28260-c8b5-4b29-a8f8-2a36a510faa1\" xlink:show=\"new\" xlink:title=\"psysml:d5e28260-c8b5-4b29-a8f8-2a36a510faa1\" xlink:type=\"simple\"><rect fill=\"#FFFFFF\" height=\"45.9375\" id=\"E3\" style=\"stroke: #383838; stroke-width: 1.5;\" width=\"66\" x=\"121\" y=\"212\"/><text fill=\"#000000\" font-family=\"sans-serif\" font-size=\"12\" font-style=\"italic\" lengthAdjust=\"spacingAndGlyphs\" textLength=\"64\" x=\"122\" y=\"228.1387\">«part def»</text><text fill=\"#000000\" font-family=\"sans-serif\" font-size=\"12\" lengthAdjust=\"spacingAndGlyphs\" textLength=\"8\" x=\"150\" y=\"242.1074\">A</text><line style=\"stroke: #383838; stroke-width: 1.5;\" x1=\"122\" x2=\"186\" y1=\"249.9375\" y2=\"249.9375\"/></a><!--MD5=[60a26617385b1d2d0262a64233df1f8d]\n",
       "class E6--><a href=\"psysml:9546b5bf-a121-430a-b785-22b0f3c788bb\" target=\"_top\" title=\"psysml:9546b5bf-a121-430a-b785-22b0f3c788bb\" xlink:actuate=\"onRequest\" xlink:href=\"psysml:9546b5bf-a121-430a-b785-22b0f3c788bb\" xlink:show=\"new\" xlink:title=\"psysml:9546b5bf-a121-430a-b785-22b0f3c788bb\" xlink:type=\"simple\"><rect fill=\"#FFFFFF\" height=\"45.9375\" id=\"E6\" rx=\"10\" ry=\"10\" style=\"stroke: #383838; stroke-width: 1.5;\" width=\"42\" x=\"145\" y=\"87.5\"/><text fill=\"#000000\" font-family=\"sans-serif\" font-size=\"12\" font-style=\"italic\" lengthAdjust=\"spacingAndGlyphs\" textLength=\"40\" x=\"146\" y=\"103.6387\">«part»</text><text fill=\"#000000\" font-family=\"sans-serif\" font-size=\"12\" lengthAdjust=\"spacingAndGlyphs\" textLength=\"22\" x=\"155\" y=\"117.6074\">x: A</text><line style=\"stroke: #383838; stroke-width: 1.5;\" x1=\"146\" x2=\"186\" y1=\"125.4375\" y2=\"125.4375\"/></a><a href=\"psysml:b96f1ba5-fc32-4046-b5fe-7b623c9bf90c\" target=\"_top\" title=\"psysml:b96f1ba5-fc32-4046-b5fe-7b623c9bf90c\" xlink:actuate=\"onRequest\" xlink:href=\"psysml:b96f1ba5-fc32-4046-b5fe-7b623c9bf90c\" xlink:show=\"new\" xlink:title=\"psysml:b96f1ba5-fc32-4046-b5fe-7b623c9bf90c\" xlink:type=\"simple\"><polygon fill=\"#FFFFFF\" points=\"60.5,84,95.5,84,102.5,106.2969,109.5,106.2969,109.5,136.5938,60.5,136.5938,60.5,84\" style=\"stroke: #000000; stroke-width: 1.5;\"/><line style=\"stroke: #000000; stroke-width: 1.5;\" x1=\"60.5\" x2=\"102.5\" y1=\"106.2969\" y2=\"106.2969\"/><text fill=\"#000000\" font-family=\"sans-serif\" font-size=\"14\" font-weight=\"bold\" lengthAdjust=\"spacingAndGlyphs\" textLength=\"29\" x=\"64.5\" y=\"98.9951\">P2a</text></a><!--MD5=[a717450b82c80b9240a525fa862496af]\n",
       "link E6 to E3--><a href=\"psysml:4aa795d2-d8a8-4fd3-b09b-984289b8e469\" target=\"_top\" title=\"psysml:4aa795d2-d8a8-4fd3-b09b-984289b8e469\" xlink:actuate=\"onRequest\" xlink:href=\"psysml:4aa795d2-d8a8-4fd3-b09b-984289b8e469\" xlink:show=\"new\" xlink:title=\"psysml:4aa795d2-d8a8-4fd3-b09b-984289b8e469\" xlink:type=\"simple\"><path d=\"M163.83,133.68 C162.24,149.9 160.04,172.39 158.12,191.96 \" fill=\"none\" id=\"E6-&gt;E3\" style=\"stroke: #383838; stroke-width: 1.0;\"/><polygon fill=\"#FFFFFF\" points=\"156.16,211.98,151.0533,192.3861,164.986,193.7564,156.16,211.98\" style=\"stroke: #383838; stroke-width: 1.0;\"/><ellipse cx=\"153.6016\" cy=\"186.9092\" fill=\"#383838\" rx=\"2\" ry=\"2\" style=\"stroke: #383838; stroke-width: 1.0;\"/><ellipse cx=\"163.5535\" cy=\"187.888\" fill=\"#383838\" rx=\"2\" ry=\"2\" style=\"stroke: #383838; stroke-width: 1.0;\"/></a><!--MD5=[5cacdeb45fe4a2c33d5d4ce120dbf05e]\n",
       "@startuml\r\n",
       "top to bottom direction\r\n",
       "skinparam monochrome true\r\n",
       "skinparam classbackgroundcolor white\r\n",
       "skinparam shadowing false\r\n",
       "skinparam wrapWidth 300\r\n",
       "hide circle\r\n",
       "\r\n",
       "package \"QualifiedNameImportTest\" as E1  [[psysml:986fc1fb-4aef-4106-b1ed-1986834153ab ]]  {\r\n",
       "package \"P1\" as E2  [[psysml:372b503a-8716-40b4-8b99-cd3a963555f9 ]]  {\r\n",
       "comp def \"A\" as E3  <<(T,blue)part def>> [[psysml:d5e28260-c8b5-4b29-a8f8-2a36a510faa1 ]] {\r\n",
       "}\r\n",
       "}\r\n",
       "package \"P2\" as E4  [[psysml:ae810913-1289-4b59-a95a-360ad08f1101 ]]  {\r\n",
       "package \"P2a\" as E5  [[psysml:b96f1ba5-fc32-4046-b5fe-7b623c9bf90c ]]  {\r\n",
       "}\r\n",
       "comp usage \"x: A\" as E6  <<(T,blue)part>> [[psysml:9546b5bf-a121-430a-b785-22b0f3c788bb ]] {\r\n",
       "}\r\n",
       "E6 - -:|> E3 [[psysml:4aa795d2-d8a8-4fd3-b09b-984289b8e469 ]] \r\n",
       "}\r\n",
       "}\r\n",
       "@enduml\r\n",
       "\n",
       "PlantUML version 1.2020.13(Sat Jun 13 12:26:38 UTC 2020)\n",
       "(EPL source distribution)\n",
       "Java Runtime: OpenJDK Runtime Environment\n",
       "JVM: OpenJDK 64-Bit Server VM\n",
       "Default Encoding: UTF-8\n",
       "Language: en\n",
       "Country: null\n",
       "--></g></svg>"
      ]
     },
     "execution_count": 50,
     "metadata": {},
     "output_type": "execute_result"
    }
   ],
   "source": [
    "%viz --style=\"TB\" --view=\"MIXED\" \"QualifiedNameImportTest\""
   ]
  },
  {
   "cell_type": "code",
   "execution_count": 51,
   "id": "a9b368fc",
   "metadata": {
    "execution": {
     "iopub.execute_input": "2021-04-20T07:02:43.296650Z",
     "iopub.status.busy": "2021-04-20T07:02:43.296052Z",
     "iopub.status.idle": "2021-04-20T07:02:43.322077Z",
     "shell.execute_reply": "2021-04-20T07:02:43.320927Z"
    }
   },
   "outputs": [
    {
     "data": {
      "image/svg+xml": [
       "<?xml version=\"1.0\" encoding=\"UTF-8\" standalone=\"no\"?><svg xmlns=\"http://www.w3.org/2000/svg\" xmlns:xlink=\"http://www.w3.org/1999/xlink\" contentScriptType=\"application/ecmascript\" contentStyleType=\"text/css\" height=\"310px\" preserveAspectRatio=\"none\" style=\"width:253px;height:310px;\" version=\"1.1\" viewBox=\"0 0 253 310\" width=\"253px\" zoomAndPan=\"magnify\"><defs/><g><!--MD5=[fbc87193dbaf4d95561dea2c320d4a47]\n",
       "cluster E1--><a href=\"psysml:986fc1fb-4aef-4106-b1ed-1986834153ab\" target=\"_top\" title=\"psysml:986fc1fb-4aef-4106-b1ed-1986834153ab\" xlink:actuate=\"onRequest\" xlink:href=\"psysml:986fc1fb-4aef-4106-b1ed-1986834153ab\" xlink:show=\"new\" xlink:title=\"psysml:986fc1fb-4aef-4106-b1ed-1986834153ab\" xlink:type=\"simple\"><polygon fill=\"#FFFFFF\" points=\"16,6,221,6,228,28.2969,231,28.2969,231,298,16,298,16,6\" style=\"stroke: #000000; stroke-width: 1.5;\"/><line style=\"stroke: #000000; stroke-width: 1.5;\" x1=\"16\" x2=\"228\" y1=\"28.2969\" y2=\"28.2969\"/><text fill=\"#000000\" font-family=\"sans-serif\" font-size=\"14\" font-weight=\"bold\" lengthAdjust=\"spacingAndGlyphs\" textLength=\"199\" x=\"20\" y=\"20.9951\">QualifiedNameImportTest</text></a><!--MD5=[e4f7fae6ed58524ba242bb0b0d3be6b7]\n",
       "cluster E2--><a href=\"psysml:372b503a-8716-40b4-8b99-cd3a963555f9\" target=\"_top\" title=\"psysml:372b503a-8716-40b4-8b99-cd3a963555f9\" xlink:actuate=\"onRequest\" xlink:href=\"psysml:372b503a-8716-40b4-8b99-cd3a963555f9\" xlink:show=\"new\" xlink:title=\"psysml:372b503a-8716-40b4-8b99-cd3a963555f9\" xlink:type=\"simple\"><polygon fill=\"#FFFFFF\" points=\"105,177,131,177,138,199.2969,203,199.2969,203,274,105,274,105,177\" style=\"stroke: #000000; stroke-width: 1.5;\"/><line style=\"stroke: #000000; stroke-width: 1.5;\" x1=\"105\" x2=\"138\" y1=\"199.2969\" y2=\"199.2969\"/><text fill=\"#000000\" font-family=\"sans-serif\" font-size=\"14\" font-weight=\"bold\" lengthAdjust=\"spacingAndGlyphs\" textLength=\"20\" x=\"109\" y=\"191.9951\">P1</text></a><!--MD5=[f6df4d0ebaf0b5dfb2ced0ae5af7c670]\n",
       "cluster E4--><a href=\"psysml:ae810913-1289-4b59-a95a-360ad08f1101\" target=\"_top\" title=\"psysml:ae810913-1289-4b59-a95a-360ad08f1101\" xlink:actuate=\"onRequest\" xlink:href=\"psysml:ae810913-1289-4b59-a95a-360ad08f1101\" xlink:show=\"new\" xlink:title=\"psysml:ae810913-1289-4b59-a95a-360ad08f1101\" xlink:type=\"simple\"><polygon fill=\"#FFFFFF\" points=\"44,49,70,49,77,71.2969,203,71.2969,203,153,44,153,44,49\" style=\"stroke: #000000; stroke-width: 1.5;\"/><line style=\"stroke: #000000; stroke-width: 1.5;\" x1=\"44\" x2=\"77\" y1=\"71.2969\" y2=\"71.2969\"/><text fill=\"#000000\" font-family=\"sans-serif\" font-size=\"14\" font-weight=\"bold\" lengthAdjust=\"spacingAndGlyphs\" textLength=\"20\" x=\"48\" y=\"63.9951\">P2</text></a><!--MD5=[09b614a08d8cba4a07c9adeb5e0fee81]\n",
       "class E3--><a href=\"psysml:d5e28260-c8b5-4b29-a8f8-2a36a510faa1\" target=\"_top\" title=\"psysml:d5e28260-c8b5-4b29-a8f8-2a36a510faa1\" xlink:actuate=\"onRequest\" xlink:href=\"psysml:d5e28260-c8b5-4b29-a8f8-2a36a510faa1\" xlink:show=\"new\" xlink:title=\"psysml:d5e28260-c8b5-4b29-a8f8-2a36a510faa1\" xlink:type=\"simple\"><rect fill=\"#FFFFFF\" height=\"45.9375\" id=\"E3\" style=\"stroke: #383838; stroke-width: 1.5;\" width=\"66\" x=\"121\" y=\"212\"/><text fill=\"#000000\" font-family=\"sans-serif\" font-size=\"12\" font-style=\"italic\" lengthAdjust=\"spacingAndGlyphs\" textLength=\"64\" x=\"122\" y=\"228.1387\">«part def»</text><text fill=\"#000000\" font-family=\"sans-serif\" font-size=\"12\" lengthAdjust=\"spacingAndGlyphs\" textLength=\"8\" x=\"150\" y=\"242.1074\">A</text><line style=\"stroke: #383838; stroke-width: 1.5;\" x1=\"122\" x2=\"186\" y1=\"249.9375\" y2=\"249.9375\"/></a><!--MD5=[60a26617385b1d2d0262a64233df1f8d]\n",
       "class E6--><a href=\"psysml:9546b5bf-a121-430a-b785-22b0f3c788bb\" target=\"_top\" title=\"psysml:9546b5bf-a121-430a-b785-22b0f3c788bb\" xlink:actuate=\"onRequest\" xlink:href=\"psysml:9546b5bf-a121-430a-b785-22b0f3c788bb\" xlink:show=\"new\" xlink:title=\"psysml:9546b5bf-a121-430a-b785-22b0f3c788bb\" xlink:type=\"simple\"><rect fill=\"#FFFFFF\" height=\"45.9375\" id=\"E6\" rx=\"10\" ry=\"10\" style=\"stroke: #383838; stroke-width: 1.5;\" width=\"42\" x=\"145\" y=\"87.5\"/><text fill=\"#000000\" font-family=\"sans-serif\" font-size=\"12\" font-style=\"italic\" lengthAdjust=\"spacingAndGlyphs\" textLength=\"40\" x=\"146\" y=\"103.6387\">«part»</text><text fill=\"#000000\" font-family=\"sans-serif\" font-size=\"12\" lengthAdjust=\"spacingAndGlyphs\" textLength=\"22\" x=\"155\" y=\"117.6074\">x: A</text><line style=\"stroke: #383838; stroke-width: 1.5;\" x1=\"146\" x2=\"186\" y1=\"125.4375\" y2=\"125.4375\"/></a><a href=\"psysml:b96f1ba5-fc32-4046-b5fe-7b623c9bf90c\" target=\"_top\" title=\"psysml:b96f1ba5-fc32-4046-b5fe-7b623c9bf90c\" xlink:actuate=\"onRequest\" xlink:href=\"psysml:b96f1ba5-fc32-4046-b5fe-7b623c9bf90c\" xlink:show=\"new\" xlink:title=\"psysml:b96f1ba5-fc32-4046-b5fe-7b623c9bf90c\" xlink:type=\"simple\"><polygon fill=\"#FFFFFF\" points=\"60.5,84,95.5,84,102.5,106.2969,109.5,106.2969,109.5,136.5938,60.5,136.5938,60.5,84\" style=\"stroke: #000000; stroke-width: 1.5;\"/><line style=\"stroke: #000000; stroke-width: 1.5;\" x1=\"60.5\" x2=\"102.5\" y1=\"106.2969\" y2=\"106.2969\"/><text fill=\"#000000\" font-family=\"sans-serif\" font-size=\"14\" font-weight=\"bold\" lengthAdjust=\"spacingAndGlyphs\" textLength=\"29\" x=\"64.5\" y=\"98.9951\">P2a</text></a><!--MD5=[a717450b82c80b9240a525fa862496af]\n",
       "link E6 to E3--><a href=\"psysml:4aa795d2-d8a8-4fd3-b09b-984289b8e469\" target=\"_top\" title=\"psysml:4aa795d2-d8a8-4fd3-b09b-984289b8e469\" xlink:actuate=\"onRequest\" xlink:href=\"psysml:4aa795d2-d8a8-4fd3-b09b-984289b8e469\" xlink:show=\"new\" xlink:title=\"psysml:4aa795d2-d8a8-4fd3-b09b-984289b8e469\" xlink:type=\"simple\"><path d=\"M166,133.63 C166,133.63 166,192 166,192 \" fill=\"none\" id=\"E6-&gt;E3\" style=\"stroke: #383838; stroke-width: 1.0;\"/><polygon fill=\"#FFFFFF\" points=\"166,212,159,193,173,193,166,212\" style=\"stroke: #383838; stroke-width: 1.0;\"/><ellipse cx=\"161\" cy=\"187.3\" fill=\"#383838\" rx=\"2\" ry=\"2\" style=\"stroke: #383838; stroke-width: 1.0;\"/><ellipse cx=\"171\" cy=\"187.3\" fill=\"#383838\" rx=\"2\" ry=\"2\" style=\"stroke: #383838; stroke-width: 1.0;\"/></a><!--MD5=[e0fa13bae7eec42e766cdc529d4b803e]\n",
       "@startuml\r\n",
       "skinparam linetype ortho\r\n",
       "skinparam monochrome true\r\n",
       "skinparam classbackgroundcolor white\r\n",
       "skinparam shadowing false\r\n",
       "skinparam wrapWidth 300\r\n",
       "hide circle\r\n",
       "\r\n",
       "package \"QualifiedNameImportTest\" as E1  [[psysml:986fc1fb-4aef-4106-b1ed-1986834153ab ]]  {\r\n",
       "package \"P1\" as E2  [[psysml:372b503a-8716-40b4-8b99-cd3a963555f9 ]]  {\r\n",
       "comp def \"A\" as E3  <<(T,blue)part def>> [[psysml:d5e28260-c8b5-4b29-a8f8-2a36a510faa1 ]] {\r\n",
       "}\r\n",
       "}\r\n",
       "package \"P2\" as E4  [[psysml:ae810913-1289-4b59-a95a-360ad08f1101 ]]  {\r\n",
       "package \"P2a\" as E5  [[psysml:b96f1ba5-fc32-4046-b5fe-7b623c9bf90c ]]  {\r\n",
       "}\r\n",
       "comp usage \"x: A\" as E6  <<(T,blue)part>> [[psysml:9546b5bf-a121-430a-b785-22b0f3c788bb ]] {\r\n",
       "}\r\n",
       "E6 - -:|> E3 [[psysml:4aa795d2-d8a8-4fd3-b09b-984289b8e469 ]] \r\n",
       "}\r\n",
       "}\r\n",
       "@enduml\r\n",
       "\n",
       "PlantUML version 1.2020.13(Sat Jun 13 12:26:38 UTC 2020)\n",
       "(EPL source distribution)\n",
       "Java Runtime: OpenJDK Runtime Environment\n",
       "JVM: OpenJDK 64-Bit Server VM\n",
       "Default Encoding: UTF-8\n",
       "Language: en\n",
       "Country: null\n",
       "--></g></svg>"
      ]
     },
     "execution_count": 51,
     "metadata": {},
     "output_type": "execute_result"
    }
   ],
   "source": [
    "%viz --style=\"ORTHOLINE\" --view=\"Default\" \"QualifiedNameImportTest\""
   ]
  },
  {
   "cell_type": "code",
   "execution_count": 52,
   "id": "1a804ed5",
   "metadata": {
    "execution": {
     "iopub.execute_input": "2021-04-20T07:02:43.372594Z",
     "iopub.status.busy": "2021-04-20T07:02:43.372110Z",
     "iopub.status.idle": "2021-04-20T07:02:43.396917Z",
     "shell.execute_reply": "2021-04-20T07:02:43.395752Z"
    }
   },
   "outputs": [
    {
     "data": {
      "image/svg+xml": [
       "<?xml version=\"1.0\" encoding=\"UTF-8\" standalone=\"no\"?><svg xmlns=\"http://www.w3.org/2000/svg\" xmlns:xlink=\"http://www.w3.org/1999/xlink\" contentScriptType=\"application/ecmascript\" contentStyleType=\"text/css\" height=\"310px\" preserveAspectRatio=\"none\" style=\"width:253px;height:310px;\" version=\"1.1\" viewBox=\"0 0 253 310\" width=\"253px\" zoomAndPan=\"magnify\"><defs/><g><!--MD5=[fbc87193dbaf4d95561dea2c320d4a47]\n",
       "cluster E1--><a href=\"psysml:986fc1fb-4aef-4106-b1ed-1986834153ab\" target=\"_top\" title=\"psysml:986fc1fb-4aef-4106-b1ed-1986834153ab\" xlink:actuate=\"onRequest\" xlink:href=\"psysml:986fc1fb-4aef-4106-b1ed-1986834153ab\" xlink:show=\"new\" xlink:title=\"psysml:986fc1fb-4aef-4106-b1ed-1986834153ab\" xlink:type=\"simple\"><polygon fill=\"#FFFFFF\" points=\"16,6,221,6,228,28.2969,231,28.2969,231,298,16,298,16,6\" style=\"stroke: #000000; stroke-width: 1.5;\"/><line style=\"stroke: #000000; stroke-width: 1.5;\" x1=\"16\" x2=\"228\" y1=\"28.2969\" y2=\"28.2969\"/><text fill=\"#000000\" font-family=\"sans-serif\" font-size=\"14\" font-weight=\"bold\" lengthAdjust=\"spacingAndGlyphs\" textLength=\"199\" x=\"20\" y=\"20.9951\">QualifiedNameImportTest</text></a><!--MD5=[e4f7fae6ed58524ba242bb0b0d3be6b7]\n",
       "cluster E2--><a href=\"psysml:372b503a-8716-40b4-8b99-cd3a963555f9\" target=\"_top\" title=\"psysml:372b503a-8716-40b4-8b99-cd3a963555f9\" xlink:actuate=\"onRequest\" xlink:href=\"psysml:372b503a-8716-40b4-8b99-cd3a963555f9\" xlink:show=\"new\" xlink:title=\"psysml:372b503a-8716-40b4-8b99-cd3a963555f9\" xlink:type=\"simple\"><polygon fill=\"#FFFFFF\" points=\"105,177,131,177,138,199.2969,203,199.2969,203,274,105,274,105,177\" style=\"stroke: #000000; stroke-width: 1.5;\"/><line style=\"stroke: #000000; stroke-width: 1.5;\" x1=\"105\" x2=\"138\" y1=\"199.2969\" y2=\"199.2969\"/><text fill=\"#000000\" font-family=\"sans-serif\" font-size=\"14\" font-weight=\"bold\" lengthAdjust=\"spacingAndGlyphs\" textLength=\"20\" x=\"109\" y=\"191.9951\">P1</text></a><!--MD5=[f6df4d0ebaf0b5dfb2ced0ae5af7c670]\n",
       "cluster E4--><a href=\"psysml:ae810913-1289-4b59-a95a-360ad08f1101\" target=\"_top\" title=\"psysml:ae810913-1289-4b59-a95a-360ad08f1101\" xlink:actuate=\"onRequest\" xlink:href=\"psysml:ae810913-1289-4b59-a95a-360ad08f1101\" xlink:show=\"new\" xlink:title=\"psysml:ae810913-1289-4b59-a95a-360ad08f1101\" xlink:type=\"simple\"><polygon fill=\"#FFFFFF\" points=\"44,49,70,49,77,71.2969,203,71.2969,203,153,44,153,44,49\" style=\"stroke: #000000; stroke-width: 1.5;\"/><line style=\"stroke: #000000; stroke-width: 1.5;\" x1=\"44\" x2=\"77\" y1=\"71.2969\" y2=\"71.2969\"/><text fill=\"#000000\" font-family=\"sans-serif\" font-size=\"14\" font-weight=\"bold\" lengthAdjust=\"spacingAndGlyphs\" textLength=\"20\" x=\"48\" y=\"63.9951\">P2</text></a><!--MD5=[09b614a08d8cba4a07c9adeb5e0fee81]\n",
       "class E3--><a href=\"psysml:d5e28260-c8b5-4b29-a8f8-2a36a510faa1\" target=\"_top\" title=\"psysml:d5e28260-c8b5-4b29-a8f8-2a36a510faa1\" xlink:actuate=\"onRequest\" xlink:href=\"psysml:d5e28260-c8b5-4b29-a8f8-2a36a510faa1\" xlink:show=\"new\" xlink:title=\"psysml:d5e28260-c8b5-4b29-a8f8-2a36a510faa1\" xlink:type=\"simple\"><rect fill=\"#FFFFFF\" height=\"45.9375\" id=\"E3\" style=\"stroke: #383838; stroke-width: 1.5;\" width=\"66\" x=\"121\" y=\"212\"/><text fill=\"#000000\" font-family=\"sans-serif\" font-size=\"12\" font-style=\"italic\" lengthAdjust=\"spacingAndGlyphs\" textLength=\"64\" x=\"122\" y=\"228.1387\">«part def»</text><text fill=\"#000000\" font-family=\"sans-serif\" font-size=\"12\" lengthAdjust=\"spacingAndGlyphs\" textLength=\"8\" x=\"150\" y=\"242.1074\">A</text><line style=\"stroke: #383838; stroke-width: 1.5;\" x1=\"122\" x2=\"186\" y1=\"249.9375\" y2=\"249.9375\"/></a><!--MD5=[60a26617385b1d2d0262a64233df1f8d]\n",
       "class E6--><a href=\"psysml:9546b5bf-a121-430a-b785-22b0f3c788bb\" target=\"_top\" title=\"psysml:9546b5bf-a121-430a-b785-22b0f3c788bb\" xlink:actuate=\"onRequest\" xlink:href=\"psysml:9546b5bf-a121-430a-b785-22b0f3c788bb\" xlink:show=\"new\" xlink:title=\"psysml:9546b5bf-a121-430a-b785-22b0f3c788bb\" xlink:type=\"simple\"><rect fill=\"#FFFFFF\" height=\"45.9375\" id=\"E6\" rx=\"10\" ry=\"10\" style=\"stroke: #383838; stroke-width: 1.5;\" width=\"42\" x=\"145\" y=\"87.5\"/><text fill=\"#000000\" font-family=\"sans-serif\" font-size=\"12\" font-style=\"italic\" lengthAdjust=\"spacingAndGlyphs\" textLength=\"40\" x=\"146\" y=\"103.6387\">«part»</text><text fill=\"#000000\" font-family=\"sans-serif\" font-size=\"12\" lengthAdjust=\"spacingAndGlyphs\" textLength=\"22\" x=\"155\" y=\"117.6074\">x: A</text><line style=\"stroke: #383838; stroke-width: 1.5;\" x1=\"146\" x2=\"186\" y1=\"125.4375\" y2=\"125.4375\"/></a><a href=\"psysml:b96f1ba5-fc32-4046-b5fe-7b623c9bf90c\" target=\"_top\" title=\"psysml:b96f1ba5-fc32-4046-b5fe-7b623c9bf90c\" xlink:actuate=\"onRequest\" xlink:href=\"psysml:b96f1ba5-fc32-4046-b5fe-7b623c9bf90c\" xlink:show=\"new\" xlink:title=\"psysml:b96f1ba5-fc32-4046-b5fe-7b623c9bf90c\" xlink:type=\"simple\"><polygon fill=\"#FFFFFF\" points=\"60.5,84,95.5,84,102.5,106.2969,109.5,106.2969,109.5,136.5938,60.5,136.5938,60.5,84\" style=\"stroke: #000000; stroke-width: 1.5;\"/><line style=\"stroke: #000000; stroke-width: 1.5;\" x1=\"60.5\" x2=\"102.5\" y1=\"106.2969\" y2=\"106.2969\"/><text fill=\"#000000\" font-family=\"sans-serif\" font-size=\"14\" font-weight=\"bold\" lengthAdjust=\"spacingAndGlyphs\" textLength=\"29\" x=\"64.5\" y=\"98.9951\">P2a</text></a><!--MD5=[a717450b82c80b9240a525fa862496af]\n",
       "link E6 to E3--><a href=\"psysml:4aa795d2-d8a8-4fd3-b09b-984289b8e469\" target=\"_top\" title=\"psysml:4aa795d2-d8a8-4fd3-b09b-984289b8e469\" xlink:actuate=\"onRequest\" xlink:href=\"psysml:4aa795d2-d8a8-4fd3-b09b-984289b8e469\" xlink:show=\"new\" xlink:title=\"psysml:4aa795d2-d8a8-4fd3-b09b-984289b8e469\" xlink:type=\"simple\"><path d=\"M166,133.63 C166,133.63 166,192 166,192 \" fill=\"none\" id=\"E6-&gt;E3\" style=\"stroke: #383838; stroke-width: 1.0;\"/><polygon fill=\"#FFFFFF\" points=\"166,212,159,193,173,193,166,212\" style=\"stroke: #383838; stroke-width: 1.0;\"/><ellipse cx=\"161\" cy=\"187.3\" fill=\"#383838\" rx=\"2\" ry=\"2\" style=\"stroke: #383838; stroke-width: 1.0;\"/><ellipse cx=\"171\" cy=\"187.3\" fill=\"#383838\" rx=\"2\" ry=\"2\" style=\"stroke: #383838; stroke-width: 1.0;\"/></a><!--MD5=[e0fa13bae7eec42e766cdc529d4b803e]\n",
       "@startuml\r\n",
       "skinparam linetype ortho\r\n",
       "skinparam monochrome true\r\n",
       "skinparam classbackgroundcolor white\r\n",
       "skinparam shadowing false\r\n",
       "skinparam wrapWidth 300\r\n",
       "hide circle\r\n",
       "\r\n",
       "package \"QualifiedNameImportTest\" as E1  [[psysml:986fc1fb-4aef-4106-b1ed-1986834153ab ]]  {\r\n",
       "package \"P1\" as E2  [[psysml:372b503a-8716-40b4-8b99-cd3a963555f9 ]]  {\r\n",
       "comp def \"A\" as E3  <<(T,blue)part def>> [[psysml:d5e28260-c8b5-4b29-a8f8-2a36a510faa1 ]] {\r\n",
       "}\r\n",
       "}\r\n",
       "package \"P2\" as E4  [[psysml:ae810913-1289-4b59-a95a-360ad08f1101 ]]  {\r\n",
       "package \"P2a\" as E5  [[psysml:b96f1ba5-fc32-4046-b5fe-7b623c9bf90c ]]  {\r\n",
       "}\r\n",
       "comp usage \"x: A\" as E6  <<(T,blue)part>> [[psysml:9546b5bf-a121-430a-b785-22b0f3c788bb ]] {\r\n",
       "}\r\n",
       "E6 - -:|> E3 [[psysml:4aa795d2-d8a8-4fd3-b09b-984289b8e469 ]] \r\n",
       "}\r\n",
       "}\r\n",
       "@enduml\r\n",
       "\n",
       "PlantUML version 1.2020.13(Sat Jun 13 12:26:38 UTC 2020)\n",
       "(EPL source distribution)\n",
       "Java Runtime: OpenJDK Runtime Environment\n",
       "JVM: OpenJDK 64-Bit Server VM\n",
       "Default Encoding: UTF-8\n",
       "Language: en\n",
       "Country: null\n",
       "--></g></svg>"
      ]
     },
     "execution_count": 52,
     "metadata": {},
     "output_type": "execute_result"
    }
   ],
   "source": [
    "%viz --style=\"ORTHOLINE\" --view=\"Tree\" \"QualifiedNameImportTest\""
   ]
  },
  {
   "cell_type": "code",
   "execution_count": 53,
   "id": "63f3032f",
   "metadata": {
    "execution": {
     "iopub.execute_input": "2021-04-20T07:02:43.447909Z",
     "iopub.status.busy": "2021-04-20T07:02:43.447369Z",
     "iopub.status.idle": "2021-04-20T07:02:43.454210Z",
     "shell.execute_reply": "2021-04-20T07:02:43.453819Z"
    }
   },
   "outputs": [
    {
     "data": {
      "image/svg+xml": [
       "<?xml version=\"1.0\" encoding=\"UTF-8\" standalone=\"no\"?><svg xmlns=\"http://www.w3.org/2000/svg\" xmlns:xlink=\"http://www.w3.org/1999/xlink\" contentScriptType=\"application/ecmascript\" contentStyleType=\"text/css\" height=\"12px\" preserveAspectRatio=\"none\" style=\"width:12px;height:12px;\" version=\"1.1\" viewBox=\"0 0 12 12\" width=\"12px\" zoomAndPan=\"magnify\"><defs/><g><!--MD5=[97d6f38768b311333d388e66b2b27985]\n",
       "@startuml\r\n",
       "skinparam linetype ortho\r\n",
       "skinparam monochrome true\r\n",
       "skinparam classbackgroundcolor white\r\n",
       "skinparam shadowing false\r\n",
       "skinparam wrapWidth 300\r\n",
       "hide circle\r\n",
       "\r\n",
       "@enduml\r\n",
       "\n",
       "PlantUML version 1.2020.13(Sat Jun 13 12:26:38 UTC 2020)\n",
       "(EPL source distribution)\n",
       "Java Runtime: OpenJDK Runtime Environment\n",
       "JVM: OpenJDK 64-Bit Server VM\n",
       "Default Encoding: UTF-8\n",
       "Language: en\n",
       "Country: null\n",
       "--></g></svg>"
      ]
     },
     "execution_count": 53,
     "metadata": {},
     "output_type": "execute_result"
    }
   ],
   "source": [
    "%viz --style=\"ORTHOLINE\" --view=\"State\" \"QualifiedNameImportTest\""
   ]
  },
  {
   "cell_type": "code",
   "execution_count": 54,
   "id": "4d47d890",
   "metadata": {
    "execution": {
     "iopub.execute_input": "2021-04-20T07:02:43.505548Z",
     "iopub.status.busy": "2021-04-20T07:02:43.504851Z",
     "iopub.status.idle": "2021-04-20T07:02:43.528830Z",
     "shell.execute_reply": "2021-04-20T07:02:43.527691Z"
    }
   },
   "outputs": [
    {
     "data": {
      "image/svg+xml": [
       "<?xml version=\"1.0\" encoding=\"UTF-8\" standalone=\"no\"?><svg xmlns=\"http://www.w3.org/2000/svg\" xmlns:xlink=\"http://www.w3.org/1999/xlink\" contentScriptType=\"application/ecmascript\" contentStyleType=\"text/css\" height=\"189px\" preserveAspectRatio=\"none\" style=\"width:381px;height:189px;\" version=\"1.1\" viewBox=\"0 0 381 189\" width=\"381px\" zoomAndPan=\"magnify\"><defs/><g><!--MD5=[fbc87193dbaf4d95561dea2c320d4a47]\n",
       "cluster E1--><a href=\"psysml:986fc1fb-4aef-4106-b1ed-1986834153ab\" target=\"_top\" title=\"psysml:986fc1fb-4aef-4106-b1ed-1986834153ab\" xlink:actuate=\"onRequest\" xlink:href=\"psysml:986fc1fb-4aef-4106-b1ed-1986834153ab\" xlink:show=\"new\" xlink:title=\"psysml:986fc1fb-4aef-4106-b1ed-1986834153ab\" xlink:type=\"simple\"><polygon fill=\"#FFFFFF\" points=\"16,6,221,6,228,28.2969,359,28.2969,359,177,16,177,16,6\" style=\"stroke: #000000; stroke-width: 1.5;\"/><line style=\"stroke: #000000; stroke-width: 1.5;\" x1=\"16\" x2=\"228\" y1=\"28.2969\" y2=\"28.2969\"/><text fill=\"#000000\" font-family=\"sans-serif\" font-size=\"14\" font-weight=\"bold\" lengthAdjust=\"spacingAndGlyphs\" textLength=\"199\" x=\"20\" y=\"20.9951\">QualifiedNameImportTest</text></a><!--MD5=[e4f7fae6ed58524ba242bb0b0d3be6b7]\n",
       "cluster E2--><a href=\"psysml:372b503a-8716-40b4-8b99-cd3a963555f9\" target=\"_top\" title=\"psysml:372b503a-8716-40b4-8b99-cd3a963555f9\" xlink:actuate=\"onRequest\" xlink:href=\"psysml:372b503a-8716-40b4-8b99-cd3a963555f9\" xlink:show=\"new\" xlink:title=\"psysml:372b503a-8716-40b4-8b99-cd3a963555f9\" xlink:type=\"simple\"><polygon fill=\"#FFFFFF\" points=\"231,54,257,54,264,76.2969,335,76.2969,335,148,231,148,231,54\" style=\"stroke: #000000; stroke-width: 1.5;\"/><line style=\"stroke: #000000; stroke-width: 1.5;\" x1=\"231\" x2=\"264\" y1=\"76.2969\" y2=\"76.2969\"/><text fill=\"#000000\" font-family=\"sans-serif\" font-size=\"14\" font-weight=\"bold\" lengthAdjust=\"spacingAndGlyphs\" textLength=\"20\" x=\"235\" y=\"68.9951\">P1</text></a><!--MD5=[f6df4d0ebaf0b5dfb2ced0ae5af7c670]\n",
       "cluster E4--><a href=\"psysml:ae810913-1289-4b59-a95a-360ad08f1101\" target=\"_top\" title=\"psysml:ae810913-1289-4b59-a95a-360ad08f1101\" xlink:actuate=\"onRequest\" xlink:href=\"psysml:ae810913-1289-4b59-a95a-360ad08f1101\" xlink:show=\"new\" xlink:title=\"psysml:ae810913-1289-4b59-a95a-360ad08f1101\" xlink:type=\"simple\"><polygon fill=\"#FFFFFF\" points=\"40,49,66,49,73,71.2969,207,71.2969,207,153,40,153,40,49\" style=\"stroke: #000000; stroke-width: 1.5;\"/><line style=\"stroke: #000000; stroke-width: 1.5;\" x1=\"40\" x2=\"73\" y1=\"71.2969\" y2=\"71.2969\"/><text fill=\"#000000\" font-family=\"sans-serif\" font-size=\"14\" font-weight=\"bold\" lengthAdjust=\"spacingAndGlyphs\" textLength=\"20\" x=\"44\" y=\"63.9951\">P2</text></a><g id=\"E1.E2.E3\"><a href=\"psysml:d5e28260-c8b5-4b29-a8f8-2a36a510faa1\" target=\"_top\" title=\"psysml:d5e28260-c8b5-4b29-a8f8-2a36a510faa1\" xlink:actuate=\"onRequest\" xlink:href=\"psysml:d5e28260-c8b5-4b29-a8f8-2a36a510faa1\" xlink:show=\"new\" xlink:title=\"psysml:d5e28260-c8b5-4b29-a8f8-2a36a510faa1\" xlink:type=\"simple\"><rect fill=\"#FFFFFF\" height=\"42.9375\" id=\"E3\" style=\"stroke: #383838; stroke-width: 1.5;\" width=\"71\" x=\"247.5\" y=\"89\"/><rect fill=\"#F8F8F8\" height=\"37.9375\" style=\"stroke: #383838; stroke-width: 1.5;\" width=\"71\" x=\"247.5\" y=\"89\"/><text fill=\"#000000\" font-family=\"sans-serif\" font-size=\"12\" font-style=\"italic\" lengthAdjust=\"spacingAndGlyphs\" textLength=\"64\" x=\"251\" y=\"105.1387\">«part def»</text><text fill=\"#000000\" font-family=\"sans-serif\" font-size=\"12\" lengthAdjust=\"spacingAndGlyphs\" textLength=\"8\" x=\"279\" y=\"119.1074\">A</text></a></g><a href=\"psysml:b96f1ba5-fc32-4046-b5fe-7b623c9bf90c\" target=\"_top\" title=\"psysml:b96f1ba5-fc32-4046-b5fe-7b623c9bf90c\" xlink:actuate=\"onRequest\" xlink:href=\"psysml:b96f1ba5-fc32-4046-b5fe-7b623c9bf90c\" xlink:show=\"new\" xlink:title=\"psysml:b96f1ba5-fc32-4046-b5fe-7b623c9bf90c\" xlink:type=\"simple\"><polygon fill=\"#FFFFFF\" points=\"141.5,84,176.5,84,183.5,106.2969,190.5,106.2969,190.5,136.5938,141.5,136.5938,141.5,84\" style=\"stroke: #000000; stroke-width: 1.5;\"/><line style=\"stroke: #000000; stroke-width: 1.5;\" x1=\"141.5\" x2=\"183.5\" y1=\"106.2969\" y2=\"106.2969\"/><text fill=\"#000000\" font-family=\"sans-serif\" font-size=\"14\" font-weight=\"bold\" lengthAdjust=\"spacingAndGlyphs\" textLength=\"29\" x=\"145.5\" y=\"98.9951\">P2a</text></a><g id=\"E1.E4.E6\"><a href=\"psysml:9546b5bf-a121-430a-b785-22b0f3c788bb\" target=\"_top\" title=\"psysml:9546b5bf-a121-430a-b785-22b0f3c788bb\" xlink:actuate=\"onRequest\" xlink:href=\"psysml:9546b5bf-a121-430a-b785-22b0f3c788bb\" xlink:show=\"new\" xlink:title=\"psysml:9546b5bf-a121-430a-b785-22b0f3c788bb\" xlink:type=\"simple\"><rect fill=\"#FFFFFF\" height=\"40\" id=\"E6\" rx=\"10\" ry=\"10\" style=\"stroke: #383838; stroke-width: 1.5;\" width=\"50\" x=\"56\" y=\"90.5\"/><rect fill=\"#F8F8F8\" height=\"23.9688\" rx=\"10\" ry=\"10\" style=\"stroke: #F8F8F8; stroke-width: 1.5;\" width=\"50\" x=\"56\" y=\"90.5\"/><rect fill=\"#F8F8F8\" height=\"10\" style=\"stroke: #F8F8F8; stroke-width: 1.5;\" width=\"50\" x=\"56\" y=\"104.4688\"/><rect fill=\"none\" height=\"40\" id=\"E6\" rx=\"10\" ry=\"10\" style=\"stroke: #383838; stroke-width: 1.5;\" width=\"50\" x=\"56\" y=\"90.5\"/><text fill=\"#000000\" font-family=\"sans-serif\" font-size=\"12\" lengthAdjust=\"spacingAndGlyphs\" textLength=\"22\" x=\"70\" y=\"106.6387\">x: A</text></a></g><!--MD5=[1f933da0874efe416bd30e8cb082d5e9]\n",
       "@startuml\r\n",
       "skinparam ranksep 10\r\n",
       "skinparam rectangle {\r\n",
       " backgroundColor<<block>> LightGreen\r\n",
       "}\r\n",
       "skinparam linetype ortho\r\n",
       "skinparam monochrome true\r\n",
       "skinparam classbackgroundcolor white\r\n",
       "skinparam shadowing false\r\n",
       "skinparam wrapWidth 300\r\n",
       "hide circle\r\n",
       "\r\n",
       "package \"QualifiedNameImportTest\" as E1  [[psysml:986fc1fb-4aef-4106-b1ed-1986834153ab ]]  {\r\n",
       "package \"P1\" as E2  [[psysml:372b503a-8716-40b4-8b99-cd3a963555f9 ]]  {\r\n",
       "rec def \"A\" as E3  <<(T,blue)part def>> [[psysml:d5e28260-c8b5-4b29-a8f8-2a36a510faa1 ]] {\r\n",
       "}\r\n",
       "}\r\n",
       "package \"P2\" as E4  [[psysml:ae810913-1289-4b59-a95a-360ad08f1101 ]]  {\r\n",
       "package \"P2a\" as E5  [[psysml:b96f1ba5-fc32-4046-b5fe-7b623c9bf90c ]]  {\r\n",
       "}\r\n",
       "rec usage \"x: A\" as E6  [[psysml:9546b5bf-a121-430a-b785-22b0f3c788bb ]] {\r\n",
       "}\r\n",
       "}\r\n",
       "}\r\n",
       "@enduml\r\n",
       "\n",
       "PlantUML version 1.2020.13(Sat Jun 13 12:26:38 UTC 2020)\n",
       "(EPL source distribution)\n",
       "Java Runtime: OpenJDK Runtime Environment\n",
       "JVM: OpenJDK 64-Bit Server VM\n",
       "Default Encoding: UTF-8\n",
       "Language: en\n",
       "Country: null\n",
       "--></g></svg>"
      ]
     },
     "execution_count": 54,
     "metadata": {},
     "output_type": "execute_result"
    }
   ],
   "source": [
    "%viz --style=\"ORTHOLINE\" --view=\"Interconnection\" \"QualifiedNameImportTest\""
   ]
  },
  {
   "cell_type": "code",
   "execution_count": 55,
   "id": "71969fd1",
   "metadata": {
    "execution": {
     "iopub.execute_input": "2021-04-20T07:02:43.579701Z",
     "iopub.status.busy": "2021-04-20T07:02:43.579240Z",
     "iopub.status.idle": "2021-04-20T07:02:43.584275Z",
     "shell.execute_reply": "2021-04-20T07:02:43.583926Z"
    }
   },
   "outputs": [
    {
     "data": {
      "image/svg+xml": [
       "<?xml version=\"1.0\" encoding=\"UTF-8\" standalone=\"no\"?><svg xmlns=\"http://www.w3.org/2000/svg\" xmlns:xlink=\"http://www.w3.org/1999/xlink\" contentScriptType=\"application/ecmascript\" contentStyleType=\"text/css\" height=\"12px\" preserveAspectRatio=\"none\" style=\"width:12px;height:12px;\" version=\"1.1\" viewBox=\"0 0 12 12\" width=\"12px\" zoomAndPan=\"magnify\"><defs/><g><!--MD5=[72934c63077099a26744516a776b4749]\n",
       "@startuml\r\n",
       "skinparam ranksep 8\r\n",
       "skinparam linetype ortho\r\n",
       "skinparam monochrome true\r\n",
       "skinparam classbackgroundcolor white\r\n",
       "skinparam shadowing false\r\n",
       "skinparam wrapWidth 300\r\n",
       "hide circle\r\n",
       "\r\n",
       "@enduml\r\n",
       "\n",
       "PlantUML version 1.2020.13(Sat Jun 13 12:26:38 UTC 2020)\n",
       "(EPL source distribution)\n",
       "Java Runtime: OpenJDK Runtime Environment\n",
       "JVM: OpenJDK 64-Bit Server VM\n",
       "Default Encoding: UTF-8\n",
       "Language: en\n",
       "Country: null\n",
       "--></g></svg>"
      ]
     },
     "execution_count": 55,
     "metadata": {},
     "output_type": "execute_result"
    }
   ],
   "source": [
    "%viz --style=\"ORTHOLINE\" --view=\"Action\" \"QualifiedNameImportTest\""
   ]
  },
  {
   "cell_type": "code",
   "execution_count": 56,
   "id": "41415644",
   "metadata": {
    "execution": {
     "iopub.execute_input": "2021-04-20T07:02:43.635415Z",
     "iopub.status.busy": "2021-04-20T07:02:43.634871Z",
     "iopub.status.idle": "2021-04-20T07:02:43.658389Z",
     "shell.execute_reply": "2021-04-20T07:02:43.657077Z"
    }
   },
   "outputs": [
    {
     "data": {
      "image/svg+xml": [
       "<?xml version=\"1.0\" encoding=\"UTF-8\" standalone=\"no\"?><svg xmlns=\"http://www.w3.org/2000/svg\" xmlns:xlink=\"http://www.w3.org/1999/xlink\" contentScriptType=\"application/ecmascript\" contentStyleType=\"text/css\" height=\"310px\" preserveAspectRatio=\"none\" style=\"width:253px;height:310px;\" version=\"1.1\" viewBox=\"0 0 253 310\" width=\"253px\" zoomAndPan=\"magnify\"><defs/><g><!--MD5=[fbc87193dbaf4d95561dea2c320d4a47]\n",
       "cluster E1--><a href=\"psysml:986fc1fb-4aef-4106-b1ed-1986834153ab\" target=\"_top\" title=\"psysml:986fc1fb-4aef-4106-b1ed-1986834153ab\" xlink:actuate=\"onRequest\" xlink:href=\"psysml:986fc1fb-4aef-4106-b1ed-1986834153ab\" xlink:show=\"new\" xlink:title=\"psysml:986fc1fb-4aef-4106-b1ed-1986834153ab\" xlink:type=\"simple\"><polygon fill=\"#FFFFFF\" points=\"16,6,221,6,228,28.2969,231,28.2969,231,298,16,298,16,6\" style=\"stroke: #000000; stroke-width: 1.5;\"/><line style=\"stroke: #000000; stroke-width: 1.5;\" x1=\"16\" x2=\"228\" y1=\"28.2969\" y2=\"28.2969\"/><text fill=\"#000000\" font-family=\"sans-serif\" font-size=\"14\" font-weight=\"bold\" lengthAdjust=\"spacingAndGlyphs\" textLength=\"199\" x=\"20\" y=\"20.9951\">QualifiedNameImportTest</text></a><!--MD5=[e4f7fae6ed58524ba242bb0b0d3be6b7]\n",
       "cluster E2--><a href=\"psysml:372b503a-8716-40b4-8b99-cd3a963555f9\" target=\"_top\" title=\"psysml:372b503a-8716-40b4-8b99-cd3a963555f9\" xlink:actuate=\"onRequest\" xlink:href=\"psysml:372b503a-8716-40b4-8b99-cd3a963555f9\" xlink:show=\"new\" xlink:title=\"psysml:372b503a-8716-40b4-8b99-cd3a963555f9\" xlink:type=\"simple\"><polygon fill=\"#FFFFFF\" points=\"105,177,131,177,138,199.2969,203,199.2969,203,274,105,274,105,177\" style=\"stroke: #000000; stroke-width: 1.5;\"/><line style=\"stroke: #000000; stroke-width: 1.5;\" x1=\"105\" x2=\"138\" y1=\"199.2969\" y2=\"199.2969\"/><text fill=\"#000000\" font-family=\"sans-serif\" font-size=\"14\" font-weight=\"bold\" lengthAdjust=\"spacingAndGlyphs\" textLength=\"20\" x=\"109\" y=\"191.9951\">P1</text></a><!--MD5=[f6df4d0ebaf0b5dfb2ced0ae5af7c670]\n",
       "cluster E4--><a href=\"psysml:ae810913-1289-4b59-a95a-360ad08f1101\" target=\"_top\" title=\"psysml:ae810913-1289-4b59-a95a-360ad08f1101\" xlink:actuate=\"onRequest\" xlink:href=\"psysml:ae810913-1289-4b59-a95a-360ad08f1101\" xlink:show=\"new\" xlink:title=\"psysml:ae810913-1289-4b59-a95a-360ad08f1101\" xlink:type=\"simple\"><polygon fill=\"#FFFFFF\" points=\"44,49,70,49,77,71.2969,203,71.2969,203,153,44,153,44,49\" style=\"stroke: #000000; stroke-width: 1.5;\"/><line style=\"stroke: #000000; stroke-width: 1.5;\" x1=\"44\" x2=\"77\" y1=\"71.2969\" y2=\"71.2969\"/><text fill=\"#000000\" font-family=\"sans-serif\" font-size=\"14\" font-weight=\"bold\" lengthAdjust=\"spacingAndGlyphs\" textLength=\"20\" x=\"48\" y=\"63.9951\">P2</text></a><!--MD5=[09b614a08d8cba4a07c9adeb5e0fee81]\n",
       "class E3--><a href=\"psysml:d5e28260-c8b5-4b29-a8f8-2a36a510faa1\" target=\"_top\" title=\"psysml:d5e28260-c8b5-4b29-a8f8-2a36a510faa1\" xlink:actuate=\"onRequest\" xlink:href=\"psysml:d5e28260-c8b5-4b29-a8f8-2a36a510faa1\" xlink:show=\"new\" xlink:title=\"psysml:d5e28260-c8b5-4b29-a8f8-2a36a510faa1\" xlink:type=\"simple\"><rect fill=\"#FFFFFF\" height=\"45.9375\" id=\"E3\" style=\"stroke: #383838; stroke-width: 1.5;\" width=\"66\" x=\"121\" y=\"212\"/><text fill=\"#000000\" font-family=\"sans-serif\" font-size=\"12\" font-style=\"italic\" lengthAdjust=\"spacingAndGlyphs\" textLength=\"64\" x=\"122\" y=\"228.1387\">«part def»</text><text fill=\"#000000\" font-family=\"sans-serif\" font-size=\"12\" lengthAdjust=\"spacingAndGlyphs\" textLength=\"8\" x=\"150\" y=\"242.1074\">A</text><line style=\"stroke: #383838; stroke-width: 1.5;\" x1=\"122\" x2=\"186\" y1=\"249.9375\" y2=\"249.9375\"/></a><!--MD5=[60a26617385b1d2d0262a64233df1f8d]\n",
       "class E6--><a href=\"psysml:9546b5bf-a121-430a-b785-22b0f3c788bb\" target=\"_top\" title=\"psysml:9546b5bf-a121-430a-b785-22b0f3c788bb\" xlink:actuate=\"onRequest\" xlink:href=\"psysml:9546b5bf-a121-430a-b785-22b0f3c788bb\" xlink:show=\"new\" xlink:title=\"psysml:9546b5bf-a121-430a-b785-22b0f3c788bb\" xlink:type=\"simple\"><rect fill=\"#FFFFFF\" height=\"45.9375\" id=\"E6\" rx=\"10\" ry=\"10\" style=\"stroke: #383838; stroke-width: 1.5;\" width=\"42\" x=\"145\" y=\"87.5\"/><text fill=\"#000000\" font-family=\"sans-serif\" font-size=\"12\" font-style=\"italic\" lengthAdjust=\"spacingAndGlyphs\" textLength=\"40\" x=\"146\" y=\"103.6387\">«part»</text><text fill=\"#000000\" font-family=\"sans-serif\" font-size=\"12\" lengthAdjust=\"spacingAndGlyphs\" textLength=\"22\" x=\"155\" y=\"117.6074\">x: A</text><line style=\"stroke: #383838; stroke-width: 1.5;\" x1=\"146\" x2=\"186\" y1=\"125.4375\" y2=\"125.4375\"/></a><a href=\"psysml:b96f1ba5-fc32-4046-b5fe-7b623c9bf90c\" target=\"_top\" title=\"psysml:b96f1ba5-fc32-4046-b5fe-7b623c9bf90c\" xlink:actuate=\"onRequest\" xlink:href=\"psysml:b96f1ba5-fc32-4046-b5fe-7b623c9bf90c\" xlink:show=\"new\" xlink:title=\"psysml:b96f1ba5-fc32-4046-b5fe-7b623c9bf90c\" xlink:type=\"simple\"><polygon fill=\"#FFFFFF\" points=\"60.5,84,95.5,84,102.5,106.2969,109.5,106.2969,109.5,136.5938,60.5,136.5938,60.5,84\" style=\"stroke: #000000; stroke-width: 1.5;\"/><line style=\"stroke: #000000; stroke-width: 1.5;\" x1=\"60.5\" x2=\"102.5\" y1=\"106.2969\" y2=\"106.2969\"/><text fill=\"#000000\" font-family=\"sans-serif\" font-size=\"14\" font-weight=\"bold\" lengthAdjust=\"spacingAndGlyphs\" textLength=\"29\" x=\"64.5\" y=\"98.9951\">P2a</text></a><!--MD5=[a717450b82c80b9240a525fa862496af]\n",
       "link E6 to E3--><a href=\"psysml:4aa795d2-d8a8-4fd3-b09b-984289b8e469\" target=\"_top\" title=\"psysml:4aa795d2-d8a8-4fd3-b09b-984289b8e469\" xlink:actuate=\"onRequest\" xlink:href=\"psysml:4aa795d2-d8a8-4fd3-b09b-984289b8e469\" xlink:show=\"new\" xlink:title=\"psysml:4aa795d2-d8a8-4fd3-b09b-984289b8e469\" xlink:type=\"simple\"><path d=\"M166,133.63 C166,133.63 166,192 166,192 \" fill=\"none\" id=\"E6-&gt;E3\" style=\"stroke: #383838; stroke-width: 1.0;\"/><polygon fill=\"#FFFFFF\" points=\"166,212,159,193,173,193,166,212\" style=\"stroke: #383838; stroke-width: 1.0;\"/><ellipse cx=\"161\" cy=\"187.3\" fill=\"#383838\" rx=\"2\" ry=\"2\" style=\"stroke: #383838; stroke-width: 1.0;\"/><ellipse cx=\"171\" cy=\"187.3\" fill=\"#383838\" rx=\"2\" ry=\"2\" style=\"stroke: #383838; stroke-width: 1.0;\"/></a><!--MD5=[e0fa13bae7eec42e766cdc529d4b803e]\n",
       "@startuml\r\n",
       "skinparam linetype ortho\r\n",
       "skinparam monochrome true\r\n",
       "skinparam classbackgroundcolor white\r\n",
       "skinparam shadowing false\r\n",
       "skinparam wrapWidth 300\r\n",
       "hide circle\r\n",
       "\r\n",
       "package \"QualifiedNameImportTest\" as E1  [[psysml:986fc1fb-4aef-4106-b1ed-1986834153ab ]]  {\r\n",
       "package \"P1\" as E2  [[psysml:372b503a-8716-40b4-8b99-cd3a963555f9 ]]  {\r\n",
       "comp def \"A\" as E3  <<(T,blue)part def>> [[psysml:d5e28260-c8b5-4b29-a8f8-2a36a510faa1 ]] {\r\n",
       "}\r\n",
       "}\r\n",
       "package \"P2\" as E4  [[psysml:ae810913-1289-4b59-a95a-360ad08f1101 ]]  {\r\n",
       "package \"P2a\" as E5  [[psysml:b96f1ba5-fc32-4046-b5fe-7b623c9bf90c ]]  {\r\n",
       "}\r\n",
       "comp usage \"x: A\" as E6  <<(T,blue)part>> [[psysml:9546b5bf-a121-430a-b785-22b0f3c788bb ]] {\r\n",
       "}\r\n",
       "E6 - -:|> E3 [[psysml:4aa795d2-d8a8-4fd3-b09b-984289b8e469 ]] \r\n",
       "}\r\n",
       "}\r\n",
       "@enduml\r\n",
       "\n",
       "PlantUML version 1.2020.13(Sat Jun 13 12:26:38 UTC 2020)\n",
       "(EPL source distribution)\n",
       "Java Runtime: OpenJDK Runtime Environment\n",
       "JVM: OpenJDK 64-Bit Server VM\n",
       "Default Encoding: UTF-8\n",
       "Language: en\n",
       "Country: null\n",
       "--></g></svg>"
      ]
     },
     "execution_count": 56,
     "metadata": {},
     "output_type": "execute_result"
    }
   ],
   "source": [
    "%viz --style=\"ORTHOLINE\" --view=\"Sequence\" \"QualifiedNameImportTest\""
   ]
  },
  {
   "cell_type": "code",
   "execution_count": 57,
   "id": "19f9fe1c",
   "metadata": {
    "execution": {
     "iopub.execute_input": "2021-04-20T07:02:43.708761Z",
     "iopub.status.busy": "2021-04-20T07:02:43.708385Z",
     "iopub.status.idle": "2021-04-20T07:02:43.732031Z",
     "shell.execute_reply": "2021-04-20T07:02:43.730807Z"
    }
   },
   "outputs": [
    {
     "data": {
      "image/svg+xml": [
       "<?xml version=\"1.0\" encoding=\"UTF-8\" standalone=\"no\"?><svg xmlns=\"http://www.w3.org/2000/svg\" xmlns:xlink=\"http://www.w3.org/1999/xlink\" contentScriptType=\"application/ecmascript\" contentStyleType=\"text/css\" height=\"310px\" preserveAspectRatio=\"none\" style=\"width:253px;height:310px;\" version=\"1.1\" viewBox=\"0 0 253 310\" width=\"253px\" zoomAndPan=\"magnify\"><defs/><g><!--MD5=[fbc87193dbaf4d95561dea2c320d4a47]\n",
       "cluster E1--><a href=\"psysml:986fc1fb-4aef-4106-b1ed-1986834153ab\" target=\"_top\" title=\"psysml:986fc1fb-4aef-4106-b1ed-1986834153ab\" xlink:actuate=\"onRequest\" xlink:href=\"psysml:986fc1fb-4aef-4106-b1ed-1986834153ab\" xlink:show=\"new\" xlink:title=\"psysml:986fc1fb-4aef-4106-b1ed-1986834153ab\" xlink:type=\"simple\"><polygon fill=\"#FFFFFF\" points=\"16,6,221,6,228,28.2969,231,28.2969,231,298,16,298,16,6\" style=\"stroke: #000000; stroke-width: 1.5;\"/><line style=\"stroke: #000000; stroke-width: 1.5;\" x1=\"16\" x2=\"228\" y1=\"28.2969\" y2=\"28.2969\"/><text fill=\"#000000\" font-family=\"sans-serif\" font-size=\"14\" font-weight=\"bold\" lengthAdjust=\"spacingAndGlyphs\" textLength=\"199\" x=\"20\" y=\"20.9951\">QualifiedNameImportTest</text></a><!--MD5=[e4f7fae6ed58524ba242bb0b0d3be6b7]\n",
       "cluster E2--><a href=\"psysml:372b503a-8716-40b4-8b99-cd3a963555f9\" target=\"_top\" title=\"psysml:372b503a-8716-40b4-8b99-cd3a963555f9\" xlink:actuate=\"onRequest\" xlink:href=\"psysml:372b503a-8716-40b4-8b99-cd3a963555f9\" xlink:show=\"new\" xlink:title=\"psysml:372b503a-8716-40b4-8b99-cd3a963555f9\" xlink:type=\"simple\"><polygon fill=\"#FFFFFF\" points=\"105,177,131,177,138,199.2969,203,199.2969,203,274,105,274,105,177\" style=\"stroke: #000000; stroke-width: 1.5;\"/><line style=\"stroke: #000000; stroke-width: 1.5;\" x1=\"105\" x2=\"138\" y1=\"199.2969\" y2=\"199.2969\"/><text fill=\"#000000\" font-family=\"sans-serif\" font-size=\"14\" font-weight=\"bold\" lengthAdjust=\"spacingAndGlyphs\" textLength=\"20\" x=\"109\" y=\"191.9951\">P1</text></a><!--MD5=[f6df4d0ebaf0b5dfb2ced0ae5af7c670]\n",
       "cluster E4--><a href=\"psysml:ae810913-1289-4b59-a95a-360ad08f1101\" target=\"_top\" title=\"psysml:ae810913-1289-4b59-a95a-360ad08f1101\" xlink:actuate=\"onRequest\" xlink:href=\"psysml:ae810913-1289-4b59-a95a-360ad08f1101\" xlink:show=\"new\" xlink:title=\"psysml:ae810913-1289-4b59-a95a-360ad08f1101\" xlink:type=\"simple\"><polygon fill=\"#FFFFFF\" points=\"44,49,70,49,77,71.2969,203,71.2969,203,153,44,153,44,49\" style=\"stroke: #000000; stroke-width: 1.5;\"/><line style=\"stroke: #000000; stroke-width: 1.5;\" x1=\"44\" x2=\"77\" y1=\"71.2969\" y2=\"71.2969\"/><text fill=\"#000000\" font-family=\"sans-serif\" font-size=\"14\" font-weight=\"bold\" lengthAdjust=\"spacingAndGlyphs\" textLength=\"20\" x=\"48\" y=\"63.9951\">P2</text></a><!--MD5=[09b614a08d8cba4a07c9adeb5e0fee81]\n",
       "class E3--><a href=\"psysml:d5e28260-c8b5-4b29-a8f8-2a36a510faa1\" target=\"_top\" title=\"psysml:d5e28260-c8b5-4b29-a8f8-2a36a510faa1\" xlink:actuate=\"onRequest\" xlink:href=\"psysml:d5e28260-c8b5-4b29-a8f8-2a36a510faa1\" xlink:show=\"new\" xlink:title=\"psysml:d5e28260-c8b5-4b29-a8f8-2a36a510faa1\" xlink:type=\"simple\"><rect fill=\"#FFFFFF\" height=\"45.9375\" id=\"E3\" style=\"stroke: #383838; stroke-width: 1.5;\" width=\"66\" x=\"121\" y=\"212\"/><text fill=\"#000000\" font-family=\"sans-serif\" font-size=\"12\" font-style=\"italic\" lengthAdjust=\"spacingAndGlyphs\" textLength=\"64\" x=\"122\" y=\"228.1387\">«part def»</text><text fill=\"#000000\" font-family=\"sans-serif\" font-size=\"12\" lengthAdjust=\"spacingAndGlyphs\" textLength=\"8\" x=\"150\" y=\"242.1074\">A</text><line style=\"stroke: #383838; stroke-width: 1.5;\" x1=\"122\" x2=\"186\" y1=\"249.9375\" y2=\"249.9375\"/></a><!--MD5=[60a26617385b1d2d0262a64233df1f8d]\n",
       "class E6--><a href=\"psysml:9546b5bf-a121-430a-b785-22b0f3c788bb\" target=\"_top\" title=\"psysml:9546b5bf-a121-430a-b785-22b0f3c788bb\" xlink:actuate=\"onRequest\" xlink:href=\"psysml:9546b5bf-a121-430a-b785-22b0f3c788bb\" xlink:show=\"new\" xlink:title=\"psysml:9546b5bf-a121-430a-b785-22b0f3c788bb\" xlink:type=\"simple\"><rect fill=\"#FFFFFF\" height=\"45.9375\" id=\"E6\" rx=\"10\" ry=\"10\" style=\"stroke: #383838; stroke-width: 1.5;\" width=\"42\" x=\"145\" y=\"87.5\"/><text fill=\"#000000\" font-family=\"sans-serif\" font-size=\"12\" font-style=\"italic\" lengthAdjust=\"spacingAndGlyphs\" textLength=\"40\" x=\"146\" y=\"103.6387\">«part»</text><text fill=\"#000000\" font-family=\"sans-serif\" font-size=\"12\" lengthAdjust=\"spacingAndGlyphs\" textLength=\"22\" x=\"155\" y=\"117.6074\">x: A</text><line style=\"stroke: #383838; stroke-width: 1.5;\" x1=\"146\" x2=\"186\" y1=\"125.4375\" y2=\"125.4375\"/></a><a href=\"psysml:b96f1ba5-fc32-4046-b5fe-7b623c9bf90c\" target=\"_top\" title=\"psysml:b96f1ba5-fc32-4046-b5fe-7b623c9bf90c\" xlink:actuate=\"onRequest\" xlink:href=\"psysml:b96f1ba5-fc32-4046-b5fe-7b623c9bf90c\" xlink:show=\"new\" xlink:title=\"psysml:b96f1ba5-fc32-4046-b5fe-7b623c9bf90c\" xlink:type=\"simple\"><polygon fill=\"#FFFFFF\" points=\"60.5,84,95.5,84,102.5,106.2969,109.5,106.2969,109.5,136.5938,60.5,136.5938,60.5,84\" style=\"stroke: #000000; stroke-width: 1.5;\"/><line style=\"stroke: #000000; stroke-width: 1.5;\" x1=\"60.5\" x2=\"102.5\" y1=\"106.2969\" y2=\"106.2969\"/><text fill=\"#000000\" font-family=\"sans-serif\" font-size=\"14\" font-weight=\"bold\" lengthAdjust=\"spacingAndGlyphs\" textLength=\"29\" x=\"64.5\" y=\"98.9951\">P2a</text></a><!--MD5=[a717450b82c80b9240a525fa862496af]\n",
       "link E6 to E3--><a href=\"psysml:4aa795d2-d8a8-4fd3-b09b-984289b8e469\" target=\"_top\" title=\"psysml:4aa795d2-d8a8-4fd3-b09b-984289b8e469\" xlink:actuate=\"onRequest\" xlink:href=\"psysml:4aa795d2-d8a8-4fd3-b09b-984289b8e469\" xlink:show=\"new\" xlink:title=\"psysml:4aa795d2-d8a8-4fd3-b09b-984289b8e469\" xlink:type=\"simple\"><path d=\"M166,133.63 C166,133.63 166,192 166,192 \" fill=\"none\" id=\"E6-&gt;E3\" style=\"stroke: #383838; stroke-width: 1.0;\"/><polygon fill=\"#FFFFFF\" points=\"166,212,159,193,173,193,166,212\" style=\"stroke: #383838; stroke-width: 1.0;\"/><ellipse cx=\"161\" cy=\"187.3\" fill=\"#383838\" rx=\"2\" ry=\"2\" style=\"stroke: #383838; stroke-width: 1.0;\"/><ellipse cx=\"171\" cy=\"187.3\" fill=\"#383838\" rx=\"2\" ry=\"2\" style=\"stroke: #383838; stroke-width: 1.0;\"/></a><!--MD5=[e0fa13bae7eec42e766cdc529d4b803e]\n",
       "@startuml\r\n",
       "skinparam linetype ortho\r\n",
       "skinparam monochrome true\r\n",
       "skinparam classbackgroundcolor white\r\n",
       "skinparam shadowing false\r\n",
       "skinparam wrapWidth 300\r\n",
       "hide circle\r\n",
       "\r\n",
       "package \"QualifiedNameImportTest\" as E1  [[psysml:986fc1fb-4aef-4106-b1ed-1986834153ab ]]  {\r\n",
       "package \"P1\" as E2  [[psysml:372b503a-8716-40b4-8b99-cd3a963555f9 ]]  {\r\n",
       "comp def \"A\" as E3  <<(T,blue)part def>> [[psysml:d5e28260-c8b5-4b29-a8f8-2a36a510faa1 ]] {\r\n",
       "}\r\n",
       "}\r\n",
       "package \"P2\" as E4  [[psysml:ae810913-1289-4b59-a95a-360ad08f1101 ]]  {\r\n",
       "package \"P2a\" as E5  [[psysml:b96f1ba5-fc32-4046-b5fe-7b623c9bf90c ]]  {\r\n",
       "}\r\n",
       "comp usage \"x: A\" as E6  <<(T,blue)part>> [[psysml:9546b5bf-a121-430a-b785-22b0f3c788bb ]] {\r\n",
       "}\r\n",
       "E6 - -:|> E3 [[psysml:4aa795d2-d8a8-4fd3-b09b-984289b8e469 ]] \r\n",
       "}\r\n",
       "}\r\n",
       "@enduml\r\n",
       "\n",
       "PlantUML version 1.2020.13(Sat Jun 13 12:26:38 UTC 2020)\n",
       "(EPL source distribution)\n",
       "Java Runtime: OpenJDK Runtime Environment\n",
       "JVM: OpenJDK 64-Bit Server VM\n",
       "Default Encoding: UTF-8\n",
       "Language: en\n",
       "Country: null\n",
       "--></g></svg>"
      ]
     },
     "execution_count": 57,
     "metadata": {},
     "output_type": "execute_result"
    }
   ],
   "source": [
    "%viz --style=\"ORTHOLINE\" --view=\"MIXED\" \"QualifiedNameImportTest\""
   ]
  }
 ],
 "metadata": {
  "kernelspec": {
   "display_name": "SysML",
   "language": "sysml",
   "name": "sysml"
  },
  "language_info": {
   "codemirror_mode": "sysml",
   "file_extension": ".sysml",
   "mimetype": "text/x-sysml",
   "name": "SysML",
   "pygments_lexer": "java",
   "version": "1.0.0"
  }
 },
 "nbformat": 4,
 "nbformat_minor": 5
}
