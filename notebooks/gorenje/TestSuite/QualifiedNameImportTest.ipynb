{
 "cells": [
  {
   "cell_type": "markdown",
   "id": "1975b1bf",
   "metadata": {},
   "source": [
    "# SysML v2 Test Suite\n",
    "\n",
    "This can notebook can be cleared using menu `Edit --> Clear All Outputs` and then all cells can be\n",
    "run using menu `Run --> Run All Cells`.\n",
    "\n",
    "**WARNING**: This file is generated, all modifications here will be ignored.\n"
   ]
  },
  {
   "cell_type": "markdown",
   "id": "bda11a49",
   "metadata": {},
   "source": [
    "## File: ../../sysml/src/examples/Import Tests/QualifiedNameImportTest.sysml"
   ]
  },
  {
   "cell_type": "code",
   "execution_count": 1,
   "id": "7bd05937",
   "metadata": {
    "execution": {
     "iopub.execute_input": "2021-09-27T07:18:58.382616Z",
     "iopub.status.busy": "2021-09-27T07:18:58.381394Z",
     "iopub.status.idle": "2021-09-27T07:18:58.506771Z",
     "shell.execute_reply": "2021-09-27T07:18:58.506273Z"
    }
   },
   "outputs": [
    {
     "data": {
      "text/plain": [
       "Package QualifiedNameImportTest (7a4f9552-2099-41d7-ab9b-840c3a6a5ce0)\n"
      ]
     },
     "execution_count": 1,
     "metadata": {},
     "output_type": "execute_result"
    }
   ],
   "source": [
    "package QualifiedNameImportTest {\n",
    "\tpackage P1 {\n",
    "\t\tpart def A;\n",
    "\t}\n",
    "\tpackage P2 {\n",
    "\t\tpackage P2a {\n",
    "\t\t\timport P1::*;\n",
    "\t\t}\n",
    "\t\t// The following should not fail.\n",
    "\t\t// A is a member of P2a because of the import.\n",
    "\t\tpart x: P2a::A;\n",
    "\t}\n",
    "}"
   ]
  },
  {
   "cell_type": "code",
   "execution_count": 2,
   "id": "9582127f",
   "metadata": {
    "execution": {
     "iopub.execute_input": "2021-09-27T07:18:58.557953Z",
     "iopub.status.busy": "2021-09-27T07:18:58.557538Z",
     "iopub.status.idle": "2021-09-27T07:18:58.989139Z",
     "shell.execute_reply": "2021-09-27T07:18:58.988754Z"
    }
   },
   "outputs": [
    {
     "data": {
      "image/svg+xml": [
       "<?xml version=\"1.0\" encoding=\"UTF-8\" standalone=\"no\"?><svg xmlns=\"http://www.w3.org/2000/svg\" xmlns:xlink=\"http://www.w3.org/1999/xlink\" contentScriptType=\"application/ecmascript\" contentStyleType=\"text/css\" height=\"310px\" preserveAspectRatio=\"none\" style=\"width:241px;height:310px;\" version=\"1.1\" viewBox=\"0 0 241 310\" width=\"241px\" zoomAndPan=\"magnify\"><defs/><g><!--MD5=[fbc87193dbaf4d95561dea2c320d4a47]\n",
       "cluster E1--><a href=\"psysml:c8de649d-2dc2-4761-aec9-7bacaacfe515\" target=\"_top\" title=\"psysml:c8de649d-2dc2-4761-aec9-7bacaacfe515\" xlink:actuate=\"onRequest\" xlink:href=\"psysml:c8de649d-2dc2-4761-aec9-7bacaacfe515\" xlink:show=\"new\" xlink:title=\"psysml:c8de649d-2dc2-4761-aec9-7bacaacfe515\" xlink:type=\"simple\"><polygon fill=\"#FFFFFF\" points=\"16,6,196,6,203,28.2969,219,28.2969,219,298,16,298,16,6\" style=\"stroke: #000000; stroke-width: 1.5;\"/><line style=\"stroke: #000000; stroke-width: 1.5;\" x1=\"16\" x2=\"203\" y1=\"28.2969\" y2=\"28.2969\"/><text fill=\"#000000\" font-family=\"sans-serif\" font-size=\"14\" font-weight=\"bold\" lengthAdjust=\"spacingAndGlyphs\" textLength=\"174\" x=\"20\" y=\"20.9951\">QualifiedNameImportTest</text></a><!--MD5=[e4f7fae6ed58524ba242bb0b0d3be6b7]\n",
       "cluster E2--><a href=\"psysml:6cc89760-fc75-419d-8f57-c720b4f2efbc\" target=\"_top\" title=\"psysml:6cc89760-fc75-419d-8f57-c720b4f2efbc\" xlink:actuate=\"onRequest\" xlink:href=\"psysml:6cc89760-fc75-419d-8f57-c720b4f2efbc\" xlink:show=\"new\" xlink:title=\"psysml:6cc89760-fc75-419d-8f57-c720b4f2efbc\" xlink:type=\"simple\"><polygon fill=\"#FFFFFF\" points=\"97,177,121,177,128,199.2969,195,199.2969,195,274,97,274,97,177\" style=\"stroke: #000000; stroke-width: 1.5;\"/><line style=\"stroke: #000000; stroke-width: 1.5;\" x1=\"97\" x2=\"128\" y1=\"199.2969\" y2=\"199.2969\"/><text fill=\"#000000\" font-family=\"sans-serif\" font-size=\"14\" font-weight=\"bold\" lengthAdjust=\"spacingAndGlyphs\" textLength=\"18\" x=\"101\" y=\"191.9951\">P1</text></a><!--MD5=[f6df4d0ebaf0b5dfb2ced0ae5af7c670]\n",
       "cluster E4--><a href=\"psysml:42adecdc-f281-4f00-8fb0-2d405003d942\" target=\"_top\" title=\"psysml:42adecdc-f281-4f00-8fb0-2d405003d942\" xlink:actuate=\"onRequest\" xlink:href=\"psysml:42adecdc-f281-4f00-8fb0-2d405003d942\" xlink:show=\"new\" xlink:title=\"psysml:42adecdc-f281-4f00-8fb0-2d405003d942\" xlink:type=\"simple\"><polygon fill=\"#FFFFFF\" points=\"40,49,64,49,71,71.2969,195,71.2969,195,153,40,153,40,49\" style=\"stroke: #000000; stroke-width: 1.5;\"/><line style=\"stroke: #000000; stroke-width: 1.5;\" x1=\"40\" x2=\"71\" y1=\"71.2969\" y2=\"71.2969\"/><text fill=\"#000000\" font-family=\"sans-serif\" font-size=\"14\" font-weight=\"bold\" lengthAdjust=\"spacingAndGlyphs\" textLength=\"18\" x=\"44\" y=\"63.9951\">P2</text></a><!--MD5=[09b614a08d8cba4a07c9adeb5e0fee81]\n",
       "class E3--><a href=\"psysml:e98f2231-0909-453e-b014-2111b959b184\" target=\"_top\" title=\"psysml:e98f2231-0909-453e-b014-2111b959b184\" xlink:actuate=\"onRequest\" xlink:href=\"psysml:e98f2231-0909-453e-b014-2111b959b184\" xlink:show=\"new\" xlink:title=\"psysml:e98f2231-0909-453e-b014-2111b959b184\" xlink:type=\"simple\"><rect fill=\"#FFFFFF\" height=\"45.9375\" id=\"E3\" style=\"stroke: #383838; stroke-width: 1.5;\" width=\"66\" x=\"113\" y=\"212\"/><text fill=\"#000000\" font-family=\"sans-serif\" font-size=\"12\" font-style=\"italic\" lengthAdjust=\"spacingAndGlyphs\" textLength=\"64\" x=\"114\" y=\"228.1387\">«part def»</text><text fill=\"#000000\" font-family=\"sans-serif\" font-size=\"12\" lengthAdjust=\"spacingAndGlyphs\" textLength=\"8\" x=\"142\" y=\"242.1074\">A</text><line style=\"stroke: #383838; stroke-width: 1.5;\" x1=\"114\" x2=\"178\" y1=\"249.9375\" y2=\"249.9375\"/></a><!--MD5=[60a26617385b1d2d0262a64233df1f8d]\n",
       "class E6--><a href=\"psysml:7d458e03-6011-4476-9c3b-13cd018efbef\" target=\"_top\" title=\"psysml:7d458e03-6011-4476-9c3b-13cd018efbef\" xlink:actuate=\"onRequest\" xlink:href=\"psysml:7d458e03-6011-4476-9c3b-13cd018efbef\" xlink:show=\"new\" xlink:title=\"psysml:7d458e03-6011-4476-9c3b-13cd018efbef\" xlink:type=\"simple\"><rect fill=\"#FFFFFF\" height=\"45.9375\" id=\"E6\" rx=\"10\" ry=\"10\" style=\"stroke: #383838; stroke-width: 1.5;\" width=\"42\" x=\"137\" y=\"87.5\"/><text fill=\"#000000\" font-family=\"sans-serif\" font-size=\"12\" font-style=\"italic\" lengthAdjust=\"spacingAndGlyphs\" textLength=\"40\" x=\"138\" y=\"103.6387\">«part»</text><text fill=\"#000000\" font-family=\"sans-serif\" font-size=\"12\" lengthAdjust=\"spacingAndGlyphs\" textLength=\"22\" x=\"147\" y=\"117.6074\">x: A</text><line style=\"stroke: #383838; stroke-width: 1.5;\" x1=\"138\" x2=\"178\" y1=\"125.4375\" y2=\"125.4375\"/></a><a href=\"psysml:e3978575-11c4-4054-8f35-fdd3c4e4a8ed\" target=\"_top\" title=\"psysml:e3978575-11c4-4054-8f35-fdd3c4e4a8ed\" xlink:actuate=\"onRequest\" xlink:href=\"psysml:e3978575-11c4-4054-8f35-fdd3c4e4a8ed\" xlink:show=\"new\" xlink:title=\"psysml:e3978575-11c4-4054-8f35-fdd3c4e4a8ed\" xlink:type=\"simple\"><polygon fill=\"#FFFFFF\" points=\"56,84,88,84,95,106.2969,102,106.2969,102,136.5938,56,136.5938,56,84\" style=\"stroke: #000000; stroke-width: 1.5;\"/><line style=\"stroke: #000000; stroke-width: 1.5;\" x1=\"56\" x2=\"95\" y1=\"106.2969\" y2=\"106.2969\"/><text fill=\"#000000\" font-family=\"sans-serif\" font-size=\"14\" font-weight=\"bold\" lengthAdjust=\"spacingAndGlyphs\" textLength=\"26\" x=\"60\" y=\"98.9951\">P2a</text></a><!--MD5=[a717450b82c80b9240a525fa862496af]\n",
       "link E6 to E3--><a href=\"psysml:9b235a5a-e1e6-4e2e-a344-8e5fae0ff3e7\" target=\"_top\" title=\"psysml:9b235a5a-e1e6-4e2e-a344-8e5fae0ff3e7\" xlink:actuate=\"onRequest\" xlink:href=\"psysml:9b235a5a-e1e6-4e2e-a344-8e5fae0ff3e7\" xlink:show=\"new\" xlink:title=\"psysml:9b235a5a-e1e6-4e2e-a344-8e5fae0ff3e7\" xlink:type=\"simple\"><path d=\"M155.83,133.68 C154.24,149.9 152.04,172.39 150.12,191.96 \" fill=\"none\" id=\"E6-&gt;E3\" style=\"stroke: #383838; stroke-width: 1.0;\"/><polygon fill=\"#FFFFFF\" points=\"148.16,211.98,143.0533,192.3861,156.986,193.7564,148.16,211.98\" style=\"stroke: #383838; stroke-width: 1.0;\"/><ellipse cx=\"145.6016\" cy=\"186.9092\" fill=\"#383838\" rx=\"2\" ry=\"2\" style=\"stroke: #383838; stroke-width: 1.0;\"/><ellipse cx=\"155.5535\" cy=\"187.888\" fill=\"#383838\" rx=\"2\" ry=\"2\" style=\"stroke: #383838; stroke-width: 1.0;\"/></a><!--MD5=[63f30fb9598b3650aae22a911130017d]\n",
       "@startuml\r\n",
       " skinparam monochrome true\r\n",
       "skinparam classbackgroundcolor white\r\n",
       "skinparam shadowing false\r\n",
       "skinparam wrapWidth 300\r\n",
       "hide circle\r\n",
       "\r\n",
       "package \"QualifiedNameImportTest\" as E1  [[psysml:c8de649d-2dc2-4761-aec9-7bacaacfe515 ]]  {\r\n",
       "package \"P1\" as E2  [[psysml:6cc89760-fc75-419d-8f57-c720b4f2efbc ]]  {\r\n",
       "comp def \"A\" as E3  <<(T,blue) part def>> [[psysml:e98f2231-0909-453e-b014-2111b959b184 ]] {\r\n",
       "}\r\n",
       "}\r\n",
       "package \"P2\" as E4  [[psysml:42adecdc-f281-4f00-8fb0-2d405003d942 ]]  {\r\n",
       "package \"P2a\" as E5  [[psysml:e3978575-11c4-4054-8f35-fdd3c4e4a8ed ]]  {\r\n",
       "}\r\n",
       "comp usage \"x: A\" as E6  <<(T,blue) part>> [[psysml:7d458e03-6011-4476-9c3b-13cd018efbef ]] {\r\n",
       "}\r\n",
       "}\r\n",
       "}\r\n",
       "E6 - -:|> E3 [[psysml:9b235a5a-e1e6-4e2e-a344-8e5fae0ff3e7 ]] \r\n",
       "@enduml\r\n",
       "\n",
       "PlantUML version 1.2020.13(Sat Jun 13 12:26:38 UTC 2020)\n",
       "(EPL source distribution)\n",
       "Java Runtime: OpenJDK Runtime Environment\n",
       "JVM: OpenJDK 64-Bit Server VM\n",
       "Default Encoding: UTF-8\n",
       "Language: en\n",
       "Country: null\n",
       "--></g></svg>"
      ]
     },
     "execution_count": 2,
     "metadata": {},
     "output_type": "execute_result"
    }
   ],
   "source": [
    "%viz --style=\"COMPTREE\" --view=\"Default\" \"QualifiedNameImportTest\""
   ]
  },
  {
   "cell_type": "code",
   "execution_count": 3,
   "id": "eb390607",
   "metadata": {
    "execution": {
     "iopub.execute_input": "2021-09-27T07:18:59.038715Z",
     "iopub.status.busy": "2021-09-27T07:18:59.038290Z",
     "iopub.status.idle": "2021-09-27T07:18:59.072856Z",
     "shell.execute_reply": "2021-09-27T07:18:59.070918Z"
    }
   },
   "outputs": [
    {
     "data": {
      "image/svg+xml": [
       "<?xml version=\"1.0\" encoding=\"UTF-8\" standalone=\"no\"?><svg xmlns=\"http://www.w3.org/2000/svg\" xmlns:xlink=\"http://www.w3.org/1999/xlink\" contentScriptType=\"application/ecmascript\" contentStyleType=\"text/css\" height=\"310px\" preserveAspectRatio=\"none\" style=\"width:241px;height:310px;\" version=\"1.1\" viewBox=\"0 0 241 310\" width=\"241px\" zoomAndPan=\"magnify\"><defs/><g><!--MD5=[fbc87193dbaf4d95561dea2c320d4a47]\n",
       "cluster E1--><a href=\"psysml:c8de649d-2dc2-4761-aec9-7bacaacfe515\" target=\"_top\" title=\"psysml:c8de649d-2dc2-4761-aec9-7bacaacfe515\" xlink:actuate=\"onRequest\" xlink:href=\"psysml:c8de649d-2dc2-4761-aec9-7bacaacfe515\" xlink:show=\"new\" xlink:title=\"psysml:c8de649d-2dc2-4761-aec9-7bacaacfe515\" xlink:type=\"simple\"><polygon fill=\"#FFFFFF\" points=\"16,6,196,6,203,28.2969,219,28.2969,219,298,16,298,16,6\" style=\"stroke: #000000; stroke-width: 1.5;\"/><line style=\"stroke: #000000; stroke-width: 1.5;\" x1=\"16\" x2=\"203\" y1=\"28.2969\" y2=\"28.2969\"/><text fill=\"#000000\" font-family=\"sans-serif\" font-size=\"14\" font-weight=\"bold\" lengthAdjust=\"spacingAndGlyphs\" textLength=\"174\" x=\"20\" y=\"20.9951\">QualifiedNameImportTest</text></a><!--MD5=[e4f7fae6ed58524ba242bb0b0d3be6b7]\n",
       "cluster E2--><a href=\"psysml:6cc89760-fc75-419d-8f57-c720b4f2efbc\" target=\"_top\" title=\"psysml:6cc89760-fc75-419d-8f57-c720b4f2efbc\" xlink:actuate=\"onRequest\" xlink:href=\"psysml:6cc89760-fc75-419d-8f57-c720b4f2efbc\" xlink:show=\"new\" xlink:title=\"psysml:6cc89760-fc75-419d-8f57-c720b4f2efbc\" xlink:type=\"simple\"><polygon fill=\"#FFFFFF\" points=\"97,177,121,177,128,199.2969,195,199.2969,195,274,97,274,97,177\" style=\"stroke: #000000; stroke-width: 1.5;\"/><line style=\"stroke: #000000; stroke-width: 1.5;\" x1=\"97\" x2=\"128\" y1=\"199.2969\" y2=\"199.2969\"/><text fill=\"#000000\" font-family=\"sans-serif\" font-size=\"14\" font-weight=\"bold\" lengthAdjust=\"spacingAndGlyphs\" textLength=\"18\" x=\"101\" y=\"191.9951\">P1</text></a><!--MD5=[f6df4d0ebaf0b5dfb2ced0ae5af7c670]\n",
       "cluster E4--><a href=\"psysml:42adecdc-f281-4f00-8fb0-2d405003d942\" target=\"_top\" title=\"psysml:42adecdc-f281-4f00-8fb0-2d405003d942\" xlink:actuate=\"onRequest\" xlink:href=\"psysml:42adecdc-f281-4f00-8fb0-2d405003d942\" xlink:show=\"new\" xlink:title=\"psysml:42adecdc-f281-4f00-8fb0-2d405003d942\" xlink:type=\"simple\"><polygon fill=\"#FFFFFF\" points=\"40,49,64,49,71,71.2969,195,71.2969,195,153,40,153,40,49\" style=\"stroke: #000000; stroke-width: 1.5;\"/><line style=\"stroke: #000000; stroke-width: 1.5;\" x1=\"40\" x2=\"71\" y1=\"71.2969\" y2=\"71.2969\"/><text fill=\"#000000\" font-family=\"sans-serif\" font-size=\"14\" font-weight=\"bold\" lengthAdjust=\"spacingAndGlyphs\" textLength=\"18\" x=\"44\" y=\"63.9951\">P2</text></a><!--MD5=[09b614a08d8cba4a07c9adeb5e0fee81]\n",
       "class E3--><a href=\"psysml:e98f2231-0909-453e-b014-2111b959b184\" target=\"_top\" title=\"psysml:e98f2231-0909-453e-b014-2111b959b184\" xlink:actuate=\"onRequest\" xlink:href=\"psysml:e98f2231-0909-453e-b014-2111b959b184\" xlink:show=\"new\" xlink:title=\"psysml:e98f2231-0909-453e-b014-2111b959b184\" xlink:type=\"simple\"><rect fill=\"#FFFFFF\" height=\"45.9375\" id=\"E3\" style=\"stroke: #383838; stroke-width: 1.5;\" width=\"66\" x=\"113\" y=\"212\"/><text fill=\"#000000\" font-family=\"sans-serif\" font-size=\"12\" font-style=\"italic\" lengthAdjust=\"spacingAndGlyphs\" textLength=\"64\" x=\"114\" y=\"228.1387\">«part def»</text><text fill=\"#000000\" font-family=\"sans-serif\" font-size=\"12\" lengthAdjust=\"spacingAndGlyphs\" textLength=\"8\" x=\"142\" y=\"242.1074\">A</text><line style=\"stroke: #383838; stroke-width: 1.5;\" x1=\"114\" x2=\"178\" y1=\"249.9375\" y2=\"249.9375\"/></a><!--MD5=[60a26617385b1d2d0262a64233df1f8d]\n",
       "class E6--><a href=\"psysml:7d458e03-6011-4476-9c3b-13cd018efbef\" target=\"_top\" title=\"psysml:7d458e03-6011-4476-9c3b-13cd018efbef\" xlink:actuate=\"onRequest\" xlink:href=\"psysml:7d458e03-6011-4476-9c3b-13cd018efbef\" xlink:show=\"new\" xlink:title=\"psysml:7d458e03-6011-4476-9c3b-13cd018efbef\" xlink:type=\"simple\"><rect fill=\"#FFFFFF\" height=\"45.9375\" id=\"E6\" rx=\"10\" ry=\"10\" style=\"stroke: #383838; stroke-width: 1.5;\" width=\"42\" x=\"137\" y=\"87.5\"/><text fill=\"#000000\" font-family=\"sans-serif\" font-size=\"12\" font-style=\"italic\" lengthAdjust=\"spacingAndGlyphs\" textLength=\"40\" x=\"138\" y=\"103.6387\">«part»</text><text fill=\"#000000\" font-family=\"sans-serif\" font-size=\"12\" lengthAdjust=\"spacingAndGlyphs\" textLength=\"22\" x=\"147\" y=\"117.6074\">x: A</text><line style=\"stroke: #383838; stroke-width: 1.5;\" x1=\"138\" x2=\"178\" y1=\"125.4375\" y2=\"125.4375\"/></a><a href=\"psysml:e3978575-11c4-4054-8f35-fdd3c4e4a8ed\" target=\"_top\" title=\"psysml:e3978575-11c4-4054-8f35-fdd3c4e4a8ed\" xlink:actuate=\"onRequest\" xlink:href=\"psysml:e3978575-11c4-4054-8f35-fdd3c4e4a8ed\" xlink:show=\"new\" xlink:title=\"psysml:e3978575-11c4-4054-8f35-fdd3c4e4a8ed\" xlink:type=\"simple\"><polygon fill=\"#FFFFFF\" points=\"56,84,88,84,95,106.2969,102,106.2969,102,136.5938,56,136.5938,56,84\" style=\"stroke: #000000; stroke-width: 1.5;\"/><line style=\"stroke: #000000; stroke-width: 1.5;\" x1=\"56\" x2=\"95\" y1=\"106.2969\" y2=\"106.2969\"/><text fill=\"#000000\" font-family=\"sans-serif\" font-size=\"14\" font-weight=\"bold\" lengthAdjust=\"spacingAndGlyphs\" textLength=\"26\" x=\"60\" y=\"98.9951\">P2a</text></a><!--MD5=[a717450b82c80b9240a525fa862496af]\n",
       "link E6 to E3--><a href=\"psysml:9b235a5a-e1e6-4e2e-a344-8e5fae0ff3e7\" target=\"_top\" title=\"psysml:9b235a5a-e1e6-4e2e-a344-8e5fae0ff3e7\" xlink:actuate=\"onRequest\" xlink:href=\"psysml:9b235a5a-e1e6-4e2e-a344-8e5fae0ff3e7\" xlink:show=\"new\" xlink:title=\"psysml:9b235a5a-e1e6-4e2e-a344-8e5fae0ff3e7\" xlink:type=\"simple\"><path d=\"M155.83,133.68 C154.24,149.9 152.04,172.39 150.12,191.96 \" fill=\"none\" id=\"E6-&gt;E3\" style=\"stroke: #383838; stroke-width: 1.0;\"/><polygon fill=\"#FFFFFF\" points=\"148.16,211.98,143.0533,192.3861,156.986,193.7564,148.16,211.98\" style=\"stroke: #383838; stroke-width: 1.0;\"/><ellipse cx=\"145.6016\" cy=\"186.9092\" fill=\"#383838\" rx=\"2\" ry=\"2\" style=\"stroke: #383838; stroke-width: 1.0;\"/><ellipse cx=\"155.5535\" cy=\"187.888\" fill=\"#383838\" rx=\"2\" ry=\"2\" style=\"stroke: #383838; stroke-width: 1.0;\"/></a><!--MD5=[63f30fb9598b3650aae22a911130017d]\n",
       "@startuml\r\n",
       " skinparam monochrome true\r\n",
       "skinparam classbackgroundcolor white\r\n",
       "skinparam shadowing false\r\n",
       "skinparam wrapWidth 300\r\n",
       "hide circle\r\n",
       "\r\n",
       "package \"QualifiedNameImportTest\" as E1  [[psysml:c8de649d-2dc2-4761-aec9-7bacaacfe515 ]]  {\r\n",
       "package \"P1\" as E2  [[psysml:6cc89760-fc75-419d-8f57-c720b4f2efbc ]]  {\r\n",
       "comp def \"A\" as E3  <<(T,blue) part def>> [[psysml:e98f2231-0909-453e-b014-2111b959b184 ]] {\r\n",
       "}\r\n",
       "}\r\n",
       "package \"P2\" as E4  [[psysml:42adecdc-f281-4f00-8fb0-2d405003d942 ]]  {\r\n",
       "package \"P2a\" as E5  [[psysml:e3978575-11c4-4054-8f35-fdd3c4e4a8ed ]]  {\r\n",
       "}\r\n",
       "comp usage \"x: A\" as E6  <<(T,blue) part>> [[psysml:7d458e03-6011-4476-9c3b-13cd018efbef ]] {\r\n",
       "}\r\n",
       "}\r\n",
       "}\r\n",
       "E6 - -:|> E3 [[psysml:9b235a5a-e1e6-4e2e-a344-8e5fae0ff3e7 ]] \r\n",
       "@enduml\r\n",
       "\n",
       "PlantUML version 1.2020.13(Sat Jun 13 12:26:38 UTC 2020)\n",
       "(EPL source distribution)\n",
       "Java Runtime: OpenJDK Runtime Environment\n",
       "JVM: OpenJDK 64-Bit Server VM\n",
       "Default Encoding: UTF-8\n",
       "Language: en\n",
       "Country: null\n",
       "--></g></svg>"
      ]
     },
     "execution_count": 3,
     "metadata": {},
     "output_type": "execute_result"
    }
   ],
   "source": [
    "%viz --style=\"COMPTREE\" --view=\"Tree\" \"QualifiedNameImportTest\""
   ]
  },
  {
   "cell_type": "code",
   "execution_count": 4,
   "id": "e43e5648",
   "metadata": {
    "execution": {
     "iopub.execute_input": "2021-09-27T07:18:59.122120Z",
     "iopub.status.busy": "2021-09-27T07:18:59.121667Z",
     "iopub.status.idle": "2021-09-27T07:18:59.127511Z",
     "shell.execute_reply": "2021-09-27T07:18:59.127821Z"
    }
   },
   "outputs": [
    {
     "data": {
      "image/svg+xml": [
       "<?xml version=\"1.0\" encoding=\"UTF-8\" standalone=\"no\"?><svg xmlns=\"http://www.w3.org/2000/svg\" xmlns:xlink=\"http://www.w3.org/1999/xlink\" contentScriptType=\"application/ecmascript\" contentStyleType=\"text/css\" height=\"12px\" preserveAspectRatio=\"none\" style=\"width:12px;height:12px;\" version=\"1.1\" viewBox=\"0 0 12 12\" width=\"12px\" zoomAndPan=\"magnify\"><defs/><g><!--MD5=[f19188ef49e11757b5c46753f95d9edc]\n",
       "@startuml\r\n",
       " skinparam monochrome true\r\n",
       "skinparam classbackgroundcolor white\r\n",
       "skinparam shadowing false\r\n",
       "skinparam wrapWidth 300\r\n",
       "hide circle\r\n",
       "\r\n",
       "@enduml\r\n",
       "\n",
       "PlantUML version 1.2020.13(Sat Jun 13 12:26:38 UTC 2020)\n",
       "(EPL source distribution)\n",
       "Java Runtime: OpenJDK Runtime Environment\n",
       "JVM: OpenJDK 64-Bit Server VM\n",
       "Default Encoding: UTF-8\n",
       "Language: en\n",
       "Country: null\n",
       "--></g></svg>"
      ]
     },
     "execution_count": 4,
     "metadata": {},
     "output_type": "execute_result"
    }
   ],
   "source": [
    "%viz --style=\"COMPTREE\" --view=\"State\" \"QualifiedNameImportTest\""
   ]
  },
  {
   "cell_type": "code",
   "execution_count": 5,
   "id": "f1db81bd",
   "metadata": {
    "execution": {
     "iopub.execute_input": "2021-09-27T07:18:59.178361Z",
     "iopub.status.busy": "2021-09-27T07:18:59.177901Z",
     "iopub.status.idle": "2021-09-27T07:18:59.212180Z",
     "shell.execute_reply": "2021-09-27T07:18:59.211795Z"
    }
   },
   "outputs": [
    {
     "data": {
      "image/svg+xml": [
       "<?xml version=\"1.0\" encoding=\"UTF-8\" standalone=\"no\"?><svg xmlns=\"http://www.w3.org/2000/svg\" xmlns:xlink=\"http://www.w3.org/1999/xlink\" contentScriptType=\"application/ecmascript\" contentStyleType=\"text/css\" height=\"189px\" preserveAspectRatio=\"none\" style=\"width:377px;height:189px;\" version=\"1.1\" viewBox=\"0 0 377 189\" width=\"377px\" zoomAndPan=\"magnify\"><defs/><g><!--MD5=[fbc87193dbaf4d95561dea2c320d4a47]\n",
       "cluster E1--><a href=\"psysml:c8de649d-2dc2-4761-aec9-7bacaacfe515\" target=\"_top\" title=\"psysml:c8de649d-2dc2-4761-aec9-7bacaacfe515\" xlink:actuate=\"onRequest\" xlink:href=\"psysml:c8de649d-2dc2-4761-aec9-7bacaacfe515\" xlink:show=\"new\" xlink:title=\"psysml:c8de649d-2dc2-4761-aec9-7bacaacfe515\" xlink:type=\"simple\"><polygon fill=\"#FFFFFF\" points=\"16,6,196,6,203,28.2969,355,28.2969,355,177,16,177,16,6\" style=\"stroke: #000000; stroke-width: 1.5;\"/><line style=\"stroke: #000000; stroke-width: 1.5;\" x1=\"16\" x2=\"203\" y1=\"28.2969\" y2=\"28.2969\"/><text fill=\"#000000\" font-family=\"sans-serif\" font-size=\"14\" font-weight=\"bold\" lengthAdjust=\"spacingAndGlyphs\" textLength=\"174\" x=\"20\" y=\"20.9951\">QualifiedNameImportTest</text></a><!--MD5=[e4f7fae6ed58524ba242bb0b0d3be6b7]\n",
       "cluster E2--><a href=\"psysml:6cc89760-fc75-419d-8f57-c720b4f2efbc\" target=\"_top\" title=\"psysml:6cc89760-fc75-419d-8f57-c720b4f2efbc\" xlink:actuate=\"onRequest\" xlink:href=\"psysml:6cc89760-fc75-419d-8f57-c720b4f2efbc\" xlink:show=\"new\" xlink:title=\"psysml:6cc89760-fc75-419d-8f57-c720b4f2efbc\" xlink:type=\"simple\"><polygon fill=\"#FFFFFF\" points=\"227,54,251,54,258,76.2969,331,76.2969,331,148,227,148,227,54\" style=\"stroke: #000000; stroke-width: 1.5;\"/><line style=\"stroke: #000000; stroke-width: 1.5;\" x1=\"227\" x2=\"258\" y1=\"76.2969\" y2=\"76.2969\"/><text fill=\"#000000\" font-family=\"sans-serif\" font-size=\"14\" font-weight=\"bold\" lengthAdjust=\"spacingAndGlyphs\" textLength=\"18\" x=\"231\" y=\"68.9951\">P1</text></a><!--MD5=[f6df4d0ebaf0b5dfb2ced0ae5af7c670]\n",
       "cluster E4--><a href=\"psysml:42adecdc-f281-4f00-8fb0-2d405003d942\" target=\"_top\" title=\"psysml:42adecdc-f281-4f00-8fb0-2d405003d942\" xlink:actuate=\"onRequest\" xlink:href=\"psysml:42adecdc-f281-4f00-8fb0-2d405003d942\" xlink:show=\"new\" xlink:title=\"psysml:42adecdc-f281-4f00-8fb0-2d405003d942\" xlink:type=\"simple\"><polygon fill=\"#FFFFFF\" points=\"40,49,64,49,71,71.2969,203,71.2969,203,153,40,153,40,49\" style=\"stroke: #000000; stroke-width: 1.5;\"/><line style=\"stroke: #000000; stroke-width: 1.5;\" x1=\"40\" x2=\"71\" y1=\"71.2969\" y2=\"71.2969\"/><text fill=\"#000000\" font-family=\"sans-serif\" font-size=\"14\" font-weight=\"bold\" lengthAdjust=\"spacingAndGlyphs\" textLength=\"18\" x=\"44\" y=\"63.9951\">P2</text></a><g id=\"E1.E2.E3\"><a href=\"psysml:e98f2231-0909-453e-b014-2111b959b184\" target=\"_top\" title=\"psysml:e98f2231-0909-453e-b014-2111b959b184\" xlink:actuate=\"onRequest\" xlink:href=\"psysml:e98f2231-0909-453e-b014-2111b959b184\" xlink:show=\"new\" xlink:title=\"psysml:e98f2231-0909-453e-b014-2111b959b184\" xlink:type=\"simple\"><rect fill=\"#FFFFFF\" height=\"42.9375\" id=\"E3\" style=\"stroke: #383838; stroke-width: 1.5;\" width=\"71\" x=\"243.5\" y=\"89\"/><rect fill=\"#F8F8F8\" height=\"37.9375\" style=\"stroke: #383838; stroke-width: 1.5;\" width=\"71\" x=\"243.5\" y=\"89\"/><text fill=\"#000000\" font-family=\"sans-serif\" font-size=\"12\" font-style=\"italic\" lengthAdjust=\"spacingAndGlyphs\" textLength=\"64\" x=\"247\" y=\"105.1387\">«part def»</text><text fill=\"#000000\" font-family=\"sans-serif\" font-size=\"12\" lengthAdjust=\"spacingAndGlyphs\" textLength=\"8\" x=\"275\" y=\"119.1074\">A</text></a></g><a href=\"psysml:e3978575-11c4-4054-8f35-fdd3c4e4a8ed\" target=\"_top\" title=\"psysml:e3978575-11c4-4054-8f35-fdd3c4e4a8ed\" xlink:actuate=\"onRequest\" xlink:href=\"psysml:e3978575-11c4-4054-8f35-fdd3c4e4a8ed\" xlink:show=\"new\" xlink:title=\"psysml:e3978575-11c4-4054-8f35-fdd3c4e4a8ed\" xlink:type=\"simple\"><polygon fill=\"#FFFFFF\" points=\"141,84,173,84,180,106.2969,187,106.2969,187,136.5938,141,136.5938,141,84\" style=\"stroke: #000000; stroke-width: 1.5;\"/><line style=\"stroke: #000000; stroke-width: 1.5;\" x1=\"141\" x2=\"180\" y1=\"106.2969\" y2=\"106.2969\"/><text fill=\"#000000\" font-family=\"sans-serif\" font-size=\"14\" font-weight=\"bold\" lengthAdjust=\"spacingAndGlyphs\" textLength=\"26\" x=\"145\" y=\"98.9951\">P2a</text></a><g id=\"E1.E4.E6\"><a href=\"psysml:7d458e03-6011-4476-9c3b-13cd018efbef\" target=\"_top\" title=\"psysml:7d458e03-6011-4476-9c3b-13cd018efbef\" xlink:actuate=\"onRequest\" xlink:href=\"psysml:7d458e03-6011-4476-9c3b-13cd018efbef\" xlink:show=\"new\" xlink:title=\"psysml:7d458e03-6011-4476-9c3b-13cd018efbef\" xlink:type=\"simple\"><rect fill=\"#FFFFFF\" height=\"40\" id=\"E6\" rx=\"10\" ry=\"10\" style=\"stroke: #383838; stroke-width: 1.5;\" width=\"50\" x=\"56\" y=\"90.5\"/><rect fill=\"#F8F8F8\" height=\"23.9688\" rx=\"10\" ry=\"10\" style=\"stroke: #F8F8F8; stroke-width: 1.5;\" width=\"50\" x=\"56\" y=\"90.5\"/><rect fill=\"#F8F8F8\" height=\"10\" style=\"stroke: #F8F8F8; stroke-width: 1.5;\" width=\"50\" x=\"56\" y=\"104.4688\"/><rect fill=\"none\" height=\"40\" id=\"E6\" rx=\"10\" ry=\"10\" style=\"stroke: #383838; stroke-width: 1.5;\" width=\"50\" x=\"56\" y=\"90.5\"/><text fill=\"#000000\" font-family=\"sans-serif\" font-size=\"12\" lengthAdjust=\"spacingAndGlyphs\" textLength=\"22\" x=\"70\" y=\"106.6387\">x: A</text></a></g><!--MD5=[acd1da358f2981c1d6c4cef3b8d3480b]\n",
       "@startuml\r\n",
       "skinparam ranksep 10\r\n",
       "skinparam rectangle {\r\n",
       " backgroundColor<<block>> LightGreen\r\n",
       "}\r\n",
       " skinparam monochrome true\r\n",
       "skinparam classbackgroundcolor white\r\n",
       "skinparam shadowing false\r\n",
       "skinparam wrapWidth 300\r\n",
       "hide circle\r\n",
       "\r\n",
       "package \"QualifiedNameImportTest\" as E1  [[psysml:c8de649d-2dc2-4761-aec9-7bacaacfe515 ]]  {\r\n",
       "package \"P1\" as E2  [[psysml:6cc89760-fc75-419d-8f57-c720b4f2efbc ]]  {\r\n",
       "rec def \"A\" as E3  <<(T,blue) part def>> [[psysml:e98f2231-0909-453e-b014-2111b959b184 ]] {\r\n",
       "}\r\n",
       "}\r\n",
       "package \"P2\" as E4  [[psysml:42adecdc-f281-4f00-8fb0-2d405003d942 ]]  {\r\n",
       "package \"P2a\" as E5  [[psysml:e3978575-11c4-4054-8f35-fdd3c4e4a8ed ]]  {\r\n",
       "}\r\n",
       "rec usage \"x: A\" as E6  [[psysml:7d458e03-6011-4476-9c3b-13cd018efbef ]] {\r\n",
       "}\r\n",
       "}\r\n",
       "}\r\n",
       "@enduml\r\n",
       "\n",
       "PlantUML version 1.2020.13(Sat Jun 13 12:26:38 UTC 2020)\n",
       "(EPL source distribution)\n",
       "Java Runtime: OpenJDK Runtime Environment\n",
       "JVM: OpenJDK 64-Bit Server VM\n",
       "Default Encoding: UTF-8\n",
       "Language: en\n",
       "Country: null\n",
       "--></g></svg>"
      ]
     },
     "execution_count": 5,
     "metadata": {},
     "output_type": "execute_result"
    }
   ],
   "source": [
    "%viz --style=\"COMPTREE\" --view=\"Interconnection\" \"QualifiedNameImportTest\""
   ]
  },
  {
   "cell_type": "code",
   "execution_count": 6,
   "id": "32f9d28d",
   "metadata": {
    "execution": {
     "iopub.execute_input": "2021-09-27T07:18:59.262931Z",
     "iopub.status.busy": "2021-09-27T07:18:59.262347Z",
     "iopub.status.idle": "2021-09-27T07:18:59.270280Z",
     "shell.execute_reply": "2021-09-27T07:18:59.270612Z"
    }
   },
   "outputs": [
    {
     "data": {
      "image/svg+xml": [
       "<?xml version=\"1.0\" encoding=\"UTF-8\" standalone=\"no\"?><svg xmlns=\"http://www.w3.org/2000/svg\" xmlns:xlink=\"http://www.w3.org/1999/xlink\" contentScriptType=\"application/ecmascript\" contentStyleType=\"text/css\" height=\"12px\" preserveAspectRatio=\"none\" style=\"width:12px;height:12px;\" version=\"1.1\" viewBox=\"0 0 12 12\" width=\"12px\" zoomAndPan=\"magnify\"><defs/><g><!--MD5=[655b888544ca4751ea36af1068543f84]\n",
       "@startuml\r\n",
       "skinparam ranksep 8\r\n",
       " skinparam monochrome true\r\n",
       "skinparam classbackgroundcolor white\r\n",
       "skinparam shadowing false\r\n",
       "skinparam wrapWidth 300\r\n",
       "hide circle\r\n",
       "\r\n",
       "@enduml\r\n",
       "\n",
       "PlantUML version 1.2020.13(Sat Jun 13 12:26:38 UTC 2020)\n",
       "(EPL source distribution)\n",
       "Java Runtime: OpenJDK Runtime Environment\n",
       "JVM: OpenJDK 64-Bit Server VM\n",
       "Default Encoding: UTF-8\n",
       "Language: en\n",
       "Country: null\n",
       "--></g></svg>"
      ]
     },
     "execution_count": 6,
     "metadata": {},
     "output_type": "execute_result"
    }
   ],
   "source": [
    "%viz --style=\"COMPTREE\" --view=\"Action\" \"QualifiedNameImportTest\""
   ]
  },
  {
   "cell_type": "code",
   "execution_count": 7,
   "id": "14d72018",
   "metadata": {
    "execution": {
     "iopub.execute_input": "2021-09-27T07:18:59.321311Z",
     "iopub.status.busy": "2021-09-27T07:18:59.320751Z",
     "iopub.status.idle": "2021-09-27T07:18:59.333545Z",
     "shell.execute_reply": "2021-09-27T07:18:59.333173Z"
    }
   },
   "outputs": [
    {
     "data": {
      "image/svg+xml": [
       "<?xml version=\"1.0\" encoding=\"UTF-8\" standalone=\"no\"?><svg xmlns=\"http://www.w3.org/2000/svg\" xmlns:xlink=\"http://www.w3.org/1999/xlink\" contentScriptType=\"application/ecmascript\" contentStyleType=\"text/css\" height=\"12px\" preserveAspectRatio=\"none\" style=\"width:12px;height:12px;\" version=\"1.1\" viewBox=\"0 0 12 12\" width=\"12px\" zoomAndPan=\"magnify\"><defs/><g><!--MD5=[803fc46c337be7a5c8a9831e35356779]\n",
       "@startuml\r\n",
       "skinparam roundcorner 20\r\n",
       "skinparam BoxPadding 20\r\n",
       "skinparam SequenceBoxBackgroundColor #white\r\n",
       "skinparam style strictuml\r\n",
       "skinparam maxMessageSize 100\r\n",
       " skinparam monochrome true\r\n",
       "skinparam classbackgroundcolor white\r\n",
       "skinparam shadowing false\r\n",
       "skinparam wrapWidth 300\r\n",
       "hide circle\r\n",
       "\r\n",
       "@enduml\r\n",
       "\n",
       "PlantUML version 1.2020.13(Sat Jun 13 12:26:38 UTC 2020)\n",
       "(EPL source distribution)\n",
       "Java Runtime: OpenJDK Runtime Environment\n",
       "JVM: OpenJDK 64-Bit Server VM\n",
       "Default Encoding: UTF-8\n",
       "Language: en\n",
       "Country: null\n",
       "--></g></svg>"
      ]
     },
     "execution_count": 7,
     "metadata": {},
     "output_type": "execute_result"
    }
   ],
   "source": [
    "%viz --style=\"COMPTREE\" --view=\"Sequence\" \"QualifiedNameImportTest\""
   ]
  },
  {
   "cell_type": "code",
   "execution_count": 8,
   "id": "75be1043",
   "metadata": {
    "execution": {
     "iopub.execute_input": "2021-09-27T07:18:59.383644Z",
     "iopub.status.busy": "2021-09-27T07:18:59.383215Z",
     "iopub.status.idle": "2021-09-27T07:18:59.430241Z",
     "shell.execute_reply": "2021-09-27T07:18:59.430569Z"
    }
   },
   "outputs": [
    {
     "data": {
      "image/svg+xml": [
       "<?xml version=\"1.0\" encoding=\"UTF-8\" standalone=\"no\"?><svg xmlns=\"http://www.w3.org/2000/svg\" xmlns:xlink=\"http://www.w3.org/1999/xlink\" contentScriptType=\"application/ecmascript\" contentStyleType=\"text/css\" height=\"310px\" preserveAspectRatio=\"none\" style=\"width:241px;height:310px;\" version=\"1.1\" viewBox=\"0 0 241 310\" width=\"241px\" zoomAndPan=\"magnify\"><defs/><g><!--MD5=[fbc87193dbaf4d95561dea2c320d4a47]\n",
       "cluster E1--><a href=\"psysml:c8de649d-2dc2-4761-aec9-7bacaacfe515\" target=\"_top\" title=\"psysml:c8de649d-2dc2-4761-aec9-7bacaacfe515\" xlink:actuate=\"onRequest\" xlink:href=\"psysml:c8de649d-2dc2-4761-aec9-7bacaacfe515\" xlink:show=\"new\" xlink:title=\"psysml:c8de649d-2dc2-4761-aec9-7bacaacfe515\" xlink:type=\"simple\"><polygon fill=\"#FFFFFF\" points=\"16,6,196,6,203,28.2969,219,28.2969,219,298,16,298,16,6\" style=\"stroke: #000000; stroke-width: 1.5;\"/><line style=\"stroke: #000000; stroke-width: 1.5;\" x1=\"16\" x2=\"203\" y1=\"28.2969\" y2=\"28.2969\"/><text fill=\"#000000\" font-family=\"sans-serif\" font-size=\"14\" font-weight=\"bold\" lengthAdjust=\"spacingAndGlyphs\" textLength=\"174\" x=\"20\" y=\"20.9951\">QualifiedNameImportTest</text></a><!--MD5=[e4f7fae6ed58524ba242bb0b0d3be6b7]\n",
       "cluster E2--><a href=\"psysml:6cc89760-fc75-419d-8f57-c720b4f2efbc\" target=\"_top\" title=\"psysml:6cc89760-fc75-419d-8f57-c720b4f2efbc\" xlink:actuate=\"onRequest\" xlink:href=\"psysml:6cc89760-fc75-419d-8f57-c720b4f2efbc\" xlink:show=\"new\" xlink:title=\"psysml:6cc89760-fc75-419d-8f57-c720b4f2efbc\" xlink:type=\"simple\"><polygon fill=\"#FFFFFF\" points=\"97,177,121,177,128,199.2969,195,199.2969,195,274,97,274,97,177\" style=\"stroke: #000000; stroke-width: 1.5;\"/><line style=\"stroke: #000000; stroke-width: 1.5;\" x1=\"97\" x2=\"128\" y1=\"199.2969\" y2=\"199.2969\"/><text fill=\"#000000\" font-family=\"sans-serif\" font-size=\"14\" font-weight=\"bold\" lengthAdjust=\"spacingAndGlyphs\" textLength=\"18\" x=\"101\" y=\"191.9951\">P1</text></a><!--MD5=[f6df4d0ebaf0b5dfb2ced0ae5af7c670]\n",
       "cluster E4--><a href=\"psysml:42adecdc-f281-4f00-8fb0-2d405003d942\" target=\"_top\" title=\"psysml:42adecdc-f281-4f00-8fb0-2d405003d942\" xlink:actuate=\"onRequest\" xlink:href=\"psysml:42adecdc-f281-4f00-8fb0-2d405003d942\" xlink:show=\"new\" xlink:title=\"psysml:42adecdc-f281-4f00-8fb0-2d405003d942\" xlink:type=\"simple\"><polygon fill=\"#FFFFFF\" points=\"40,49,64,49,71,71.2969,195,71.2969,195,153,40,153,40,49\" style=\"stroke: #000000; stroke-width: 1.5;\"/><line style=\"stroke: #000000; stroke-width: 1.5;\" x1=\"40\" x2=\"71\" y1=\"71.2969\" y2=\"71.2969\"/><text fill=\"#000000\" font-family=\"sans-serif\" font-size=\"14\" font-weight=\"bold\" lengthAdjust=\"spacingAndGlyphs\" textLength=\"18\" x=\"44\" y=\"63.9951\">P2</text></a><!--MD5=[09b614a08d8cba4a07c9adeb5e0fee81]\n",
       "class E3--><a href=\"psysml:e98f2231-0909-453e-b014-2111b959b184\" target=\"_top\" title=\"psysml:e98f2231-0909-453e-b014-2111b959b184\" xlink:actuate=\"onRequest\" xlink:href=\"psysml:e98f2231-0909-453e-b014-2111b959b184\" xlink:show=\"new\" xlink:title=\"psysml:e98f2231-0909-453e-b014-2111b959b184\" xlink:type=\"simple\"><rect fill=\"#FFFFFF\" height=\"45.9375\" id=\"E3\" style=\"stroke: #383838; stroke-width: 1.5;\" width=\"66\" x=\"113\" y=\"212\"/><text fill=\"#000000\" font-family=\"sans-serif\" font-size=\"12\" font-style=\"italic\" lengthAdjust=\"spacingAndGlyphs\" textLength=\"64\" x=\"114\" y=\"228.1387\">«part def»</text><text fill=\"#000000\" font-family=\"sans-serif\" font-size=\"12\" lengthAdjust=\"spacingAndGlyphs\" textLength=\"8\" x=\"142\" y=\"242.1074\">A</text><line style=\"stroke: #383838; stroke-width: 1.5;\" x1=\"114\" x2=\"178\" y1=\"249.9375\" y2=\"249.9375\"/></a><!--MD5=[60a26617385b1d2d0262a64233df1f8d]\n",
       "class E6--><a href=\"psysml:7d458e03-6011-4476-9c3b-13cd018efbef\" target=\"_top\" title=\"psysml:7d458e03-6011-4476-9c3b-13cd018efbef\" xlink:actuate=\"onRequest\" xlink:href=\"psysml:7d458e03-6011-4476-9c3b-13cd018efbef\" xlink:show=\"new\" xlink:title=\"psysml:7d458e03-6011-4476-9c3b-13cd018efbef\" xlink:type=\"simple\"><rect fill=\"#FFFFFF\" height=\"45.9375\" id=\"E6\" rx=\"10\" ry=\"10\" style=\"stroke: #383838; stroke-width: 1.5;\" width=\"42\" x=\"137\" y=\"87.5\"/><text fill=\"#000000\" font-family=\"sans-serif\" font-size=\"12\" font-style=\"italic\" lengthAdjust=\"spacingAndGlyphs\" textLength=\"40\" x=\"138\" y=\"103.6387\">«part»</text><text fill=\"#000000\" font-family=\"sans-serif\" font-size=\"12\" lengthAdjust=\"spacingAndGlyphs\" textLength=\"22\" x=\"147\" y=\"117.6074\">x: A</text><line style=\"stroke: #383838; stroke-width: 1.5;\" x1=\"138\" x2=\"178\" y1=\"125.4375\" y2=\"125.4375\"/></a><a href=\"psysml:e3978575-11c4-4054-8f35-fdd3c4e4a8ed\" target=\"_top\" title=\"psysml:e3978575-11c4-4054-8f35-fdd3c4e4a8ed\" xlink:actuate=\"onRequest\" xlink:href=\"psysml:e3978575-11c4-4054-8f35-fdd3c4e4a8ed\" xlink:show=\"new\" xlink:title=\"psysml:e3978575-11c4-4054-8f35-fdd3c4e4a8ed\" xlink:type=\"simple\"><polygon fill=\"#FFFFFF\" points=\"56,84,88,84,95,106.2969,102,106.2969,102,136.5938,56,136.5938,56,84\" style=\"stroke: #000000; stroke-width: 1.5;\"/><line style=\"stroke: #000000; stroke-width: 1.5;\" x1=\"56\" x2=\"95\" y1=\"106.2969\" y2=\"106.2969\"/><text fill=\"#000000\" font-family=\"sans-serif\" font-size=\"14\" font-weight=\"bold\" lengthAdjust=\"spacingAndGlyphs\" textLength=\"26\" x=\"60\" y=\"98.9951\">P2a</text></a><!--MD5=[a717450b82c80b9240a525fa862496af]\n",
       "link E6 to E3--><a href=\"psysml:9b235a5a-e1e6-4e2e-a344-8e5fae0ff3e7\" target=\"_top\" title=\"psysml:9b235a5a-e1e6-4e2e-a344-8e5fae0ff3e7\" xlink:actuate=\"onRequest\" xlink:href=\"psysml:9b235a5a-e1e6-4e2e-a344-8e5fae0ff3e7\" xlink:show=\"new\" xlink:title=\"psysml:9b235a5a-e1e6-4e2e-a344-8e5fae0ff3e7\" xlink:type=\"simple\"><path d=\"M155.83,133.68 C154.24,149.9 152.04,172.39 150.12,191.96 \" fill=\"none\" id=\"E6-&gt;E3\" style=\"stroke: #383838; stroke-width: 1.0;\"/><polygon fill=\"#FFFFFF\" points=\"148.16,211.98,143.0533,192.3861,156.986,193.7564,148.16,211.98\" style=\"stroke: #383838; stroke-width: 1.0;\"/><ellipse cx=\"145.6016\" cy=\"186.9092\" fill=\"#383838\" rx=\"2\" ry=\"2\" style=\"stroke: #383838; stroke-width: 1.0;\"/><ellipse cx=\"155.5535\" cy=\"187.888\" fill=\"#383838\" rx=\"2\" ry=\"2\" style=\"stroke: #383838; stroke-width: 1.0;\"/></a><!--MD5=[63f30fb9598b3650aae22a911130017d]\n",
       "@startuml\r\n",
       " skinparam monochrome true\r\n",
       "skinparam classbackgroundcolor white\r\n",
       "skinparam shadowing false\r\n",
       "skinparam wrapWidth 300\r\n",
       "hide circle\r\n",
       "\r\n",
       "package \"QualifiedNameImportTest\" as E1  [[psysml:c8de649d-2dc2-4761-aec9-7bacaacfe515 ]]  {\r\n",
       "package \"P1\" as E2  [[psysml:6cc89760-fc75-419d-8f57-c720b4f2efbc ]]  {\r\n",
       "comp def \"A\" as E3  <<(T,blue) part def>> [[psysml:e98f2231-0909-453e-b014-2111b959b184 ]] {\r\n",
       "}\r\n",
       "}\r\n",
       "package \"P2\" as E4  [[psysml:42adecdc-f281-4f00-8fb0-2d405003d942 ]]  {\r\n",
       "package \"P2a\" as E5  [[psysml:e3978575-11c4-4054-8f35-fdd3c4e4a8ed ]]  {\r\n",
       "}\r\n",
       "comp usage \"x: A\" as E6  <<(T,blue) part>> [[psysml:7d458e03-6011-4476-9c3b-13cd018efbef ]] {\r\n",
       "}\r\n",
       "}\r\n",
       "}\r\n",
       "E6 - -:|> E3 [[psysml:9b235a5a-e1e6-4e2e-a344-8e5fae0ff3e7 ]] \r\n",
       "@enduml\r\n",
       "\n",
       "PlantUML version 1.2020.13(Sat Jun 13 12:26:38 UTC 2020)\n",
       "(EPL source distribution)\n",
       "Java Runtime: OpenJDK Runtime Environment\n",
       "JVM: OpenJDK 64-Bit Server VM\n",
       "Default Encoding: UTF-8\n",
       "Language: en\n",
       "Country: null\n",
       "--></g></svg>"
      ]
     },
     "execution_count": 8,
     "metadata": {},
     "output_type": "execute_result"
    }
   ],
   "source": [
    "%viz --style=\"COMPTREE\" --view=\"MIXED\" \"QualifiedNameImportTest\""
   ]
  },
  {
   "cell_type": "code",
   "execution_count": 9,
   "id": "ce0aaa48",
   "metadata": {
    "execution": {
     "iopub.execute_input": "2021-09-27T07:18:59.480970Z",
     "iopub.status.busy": "2021-09-27T07:18:59.480555Z",
     "iopub.status.idle": "2021-09-27T07:18:59.516815Z",
     "shell.execute_reply": "2021-09-27T07:18:59.515561Z"
    }
   },
   "outputs": [
    {
     "data": {
      "image/svg+xml": [
       "<?xml version=\"1.0\" encoding=\"UTF-8\" standalone=\"no\"?><svg xmlns=\"http://www.w3.org/2000/svg\" xmlns:xlink=\"http://www.w3.org/1999/xlink\" contentScriptType=\"application/ecmascript\" contentStyleType=\"text/css\" height=\"310px\" preserveAspectRatio=\"none\" style=\"width:241px;height:310px;\" version=\"1.1\" viewBox=\"0 0 241 310\" width=\"241px\" zoomAndPan=\"magnify\"><defs/><g><!--MD5=[fbc87193dbaf4d95561dea2c320d4a47]\n",
       "cluster E1--><a href=\"psysml:c8de649d-2dc2-4761-aec9-7bacaacfe515\" target=\"_top\" title=\"psysml:c8de649d-2dc2-4761-aec9-7bacaacfe515\" xlink:actuate=\"onRequest\" xlink:href=\"psysml:c8de649d-2dc2-4761-aec9-7bacaacfe515\" xlink:show=\"new\" xlink:title=\"psysml:c8de649d-2dc2-4761-aec9-7bacaacfe515\" xlink:type=\"simple\"><polygon fill=\"#FFFFFF\" points=\"16,6,196,6,203,28.2969,219,28.2969,219,298,16,298,16,6\" style=\"stroke: #000000; stroke-width: 1.5;\"/><line style=\"stroke: #000000; stroke-width: 1.5;\" x1=\"16\" x2=\"203\" y1=\"28.2969\" y2=\"28.2969\"/><text fill=\"#000000\" font-family=\"sans-serif\" font-size=\"14\" font-weight=\"bold\" lengthAdjust=\"spacingAndGlyphs\" textLength=\"174\" x=\"20\" y=\"20.9951\">QualifiedNameImportTest</text></a><!--MD5=[e4f7fae6ed58524ba242bb0b0d3be6b7]\n",
       "cluster E2--><a href=\"psysml:6cc89760-fc75-419d-8f57-c720b4f2efbc\" target=\"_top\" title=\"psysml:6cc89760-fc75-419d-8f57-c720b4f2efbc\" xlink:actuate=\"onRequest\" xlink:href=\"psysml:6cc89760-fc75-419d-8f57-c720b4f2efbc\" xlink:show=\"new\" xlink:title=\"psysml:6cc89760-fc75-419d-8f57-c720b4f2efbc\" xlink:type=\"simple\"><polygon fill=\"#FFFFFF\" points=\"97,177,121,177,128,199.2969,195,199.2969,195,274,97,274,97,177\" style=\"stroke: #000000; stroke-width: 1.5;\"/><line style=\"stroke: #000000; stroke-width: 1.5;\" x1=\"97\" x2=\"128\" y1=\"199.2969\" y2=\"199.2969\"/><text fill=\"#000000\" font-family=\"sans-serif\" font-size=\"14\" font-weight=\"bold\" lengthAdjust=\"spacingAndGlyphs\" textLength=\"18\" x=\"101\" y=\"191.9951\">P1</text></a><!--MD5=[f6df4d0ebaf0b5dfb2ced0ae5af7c670]\n",
       "cluster E4--><a href=\"psysml:42adecdc-f281-4f00-8fb0-2d405003d942\" target=\"_top\" title=\"psysml:42adecdc-f281-4f00-8fb0-2d405003d942\" xlink:actuate=\"onRequest\" xlink:href=\"psysml:42adecdc-f281-4f00-8fb0-2d405003d942\" xlink:show=\"new\" xlink:title=\"psysml:42adecdc-f281-4f00-8fb0-2d405003d942\" xlink:type=\"simple\"><polygon fill=\"#FFFFFF\" points=\"40,49,64,49,71,71.2969,195,71.2969,195,153,40,153,40,49\" style=\"stroke: #000000; stroke-width: 1.5;\"/><line style=\"stroke: #000000; stroke-width: 1.5;\" x1=\"40\" x2=\"71\" y1=\"71.2969\" y2=\"71.2969\"/><text fill=\"#000000\" font-family=\"sans-serif\" font-size=\"14\" font-weight=\"bold\" lengthAdjust=\"spacingAndGlyphs\" textLength=\"18\" x=\"44\" y=\"63.9951\">P2</text></a><!--MD5=[09b614a08d8cba4a07c9adeb5e0fee81]\n",
       "class E3--><a href=\"psysml:e98f2231-0909-453e-b014-2111b959b184\" target=\"_top\" title=\"psysml:e98f2231-0909-453e-b014-2111b959b184\" xlink:actuate=\"onRequest\" xlink:href=\"psysml:e98f2231-0909-453e-b014-2111b959b184\" xlink:show=\"new\" xlink:title=\"psysml:e98f2231-0909-453e-b014-2111b959b184\" xlink:type=\"simple\"><rect fill=\"#FFFFFF\" height=\"45.9375\" id=\"E3\" style=\"stroke: #383838; stroke-width: 1.5;\" width=\"66\" x=\"113\" y=\"212\"/><text fill=\"#000000\" font-family=\"sans-serif\" font-size=\"12\" font-style=\"italic\" lengthAdjust=\"spacingAndGlyphs\" textLength=\"64\" x=\"114\" y=\"228.1387\">«part def»</text><text fill=\"#000000\" font-family=\"sans-serif\" font-size=\"12\" lengthAdjust=\"spacingAndGlyphs\" textLength=\"8\" x=\"142\" y=\"242.1074\">A</text><line style=\"stroke: #383838; stroke-width: 1.5;\" x1=\"114\" x2=\"178\" y1=\"249.9375\" y2=\"249.9375\"/></a><!--MD5=[60a26617385b1d2d0262a64233df1f8d]\n",
       "class E6--><a href=\"psysml:7d458e03-6011-4476-9c3b-13cd018efbef\" target=\"_top\" title=\"psysml:7d458e03-6011-4476-9c3b-13cd018efbef\" xlink:actuate=\"onRequest\" xlink:href=\"psysml:7d458e03-6011-4476-9c3b-13cd018efbef\" xlink:show=\"new\" xlink:title=\"psysml:7d458e03-6011-4476-9c3b-13cd018efbef\" xlink:type=\"simple\"><rect fill=\"#FFFFFF\" height=\"45.9375\" id=\"E6\" rx=\"10\" ry=\"10\" style=\"stroke: #383838; stroke-width: 1.5;\" width=\"42\" x=\"137\" y=\"87.5\"/><text fill=\"#000000\" font-family=\"sans-serif\" font-size=\"12\" font-style=\"italic\" lengthAdjust=\"spacingAndGlyphs\" textLength=\"40\" x=\"138\" y=\"103.6387\">«part»</text><text fill=\"#000000\" font-family=\"sans-serif\" font-size=\"12\" lengthAdjust=\"spacingAndGlyphs\" textLength=\"22\" x=\"147\" y=\"117.6074\">x: A</text><line style=\"stroke: #383838; stroke-width: 1.5;\" x1=\"138\" x2=\"178\" y1=\"125.4375\" y2=\"125.4375\"/></a><a href=\"psysml:e3978575-11c4-4054-8f35-fdd3c4e4a8ed\" target=\"_top\" title=\"psysml:e3978575-11c4-4054-8f35-fdd3c4e4a8ed\" xlink:actuate=\"onRequest\" xlink:href=\"psysml:e3978575-11c4-4054-8f35-fdd3c4e4a8ed\" xlink:show=\"new\" xlink:title=\"psysml:e3978575-11c4-4054-8f35-fdd3c4e4a8ed\" xlink:type=\"simple\"><polygon fill=\"#FFFFFF\" points=\"56,84,88,84,95,106.2969,102,106.2969,102,136.5938,56,136.5938,56,84\" style=\"stroke: #000000; stroke-width: 1.5;\"/><line style=\"stroke: #000000; stroke-width: 1.5;\" x1=\"56\" x2=\"95\" y1=\"106.2969\" y2=\"106.2969\"/><text fill=\"#000000\" font-family=\"sans-serif\" font-size=\"14\" font-weight=\"bold\" lengthAdjust=\"spacingAndGlyphs\" textLength=\"26\" x=\"60\" y=\"98.9951\">P2a</text></a><!--MD5=[a717450b82c80b9240a525fa862496af]\n",
       "link E6 to E3--><a href=\"psysml:9b235a5a-e1e6-4e2e-a344-8e5fae0ff3e7\" target=\"_top\" title=\"psysml:9b235a5a-e1e6-4e2e-a344-8e5fae0ff3e7\" xlink:actuate=\"onRequest\" xlink:href=\"psysml:9b235a5a-e1e6-4e2e-a344-8e5fae0ff3e7\" xlink:show=\"new\" xlink:title=\"psysml:9b235a5a-e1e6-4e2e-a344-8e5fae0ff3e7\" xlink:type=\"simple\"><path d=\"M155.83,133.68 C154.24,149.9 152.04,172.39 150.12,191.96 \" fill=\"none\" id=\"E6-&gt;E3\" style=\"stroke: #383838; stroke-width: 1.0;\"/><polygon fill=\"#FFFFFF\" points=\"148.16,211.98,143.0533,192.3861,156.986,193.7564,148.16,211.98\" style=\"stroke: #383838; stroke-width: 1.0;\"/><ellipse cx=\"145.6016\" cy=\"186.9092\" fill=\"#383838\" rx=\"2\" ry=\"2\" style=\"stroke: #383838; stroke-width: 1.0;\"/><ellipse cx=\"155.5535\" cy=\"187.888\" fill=\"#383838\" rx=\"2\" ry=\"2\" style=\"stroke: #383838; stroke-width: 1.0;\"/></a><!--MD5=[d4578190cbb750812543ea334ad69f6c]\n",
       "@startuml\r\n",
       "skinparam linetype polyline\r\n",
       "skinparam monochrome true\r\n",
       "skinparam classbackgroundcolor white\r\n",
       "skinparam shadowing false\r\n",
       "skinparam wrapWidth 300\r\n",
       "hide circle\r\n",
       "\r\n",
       "package \"QualifiedNameImportTest\" as E1  [[psysml:c8de649d-2dc2-4761-aec9-7bacaacfe515 ]]  {\r\n",
       "package \"P1\" as E2  [[psysml:6cc89760-fc75-419d-8f57-c720b4f2efbc ]]  {\r\n",
       "comp def \"A\" as E3  <<(T,blue) part def>> [[psysml:e98f2231-0909-453e-b014-2111b959b184 ]] {\r\n",
       "}\r\n",
       "}\r\n",
       "package \"P2\" as E4  [[psysml:42adecdc-f281-4f00-8fb0-2d405003d942 ]]  {\r\n",
       "package \"P2a\" as E5  [[psysml:e3978575-11c4-4054-8f35-fdd3c4e4a8ed ]]  {\r\n",
       "}\r\n",
       "comp usage \"x: A\" as E6  <<(T,blue) part>> [[psysml:7d458e03-6011-4476-9c3b-13cd018efbef ]] {\r\n",
       "}\r\n",
       "}\r\n",
       "}\r\n",
       "E6 - -:|> E3 [[psysml:9b235a5a-e1e6-4e2e-a344-8e5fae0ff3e7 ]] \r\n",
       "@enduml\r\n",
       "\n",
       "PlantUML version 1.2020.13(Sat Jun 13 12:26:38 UTC 2020)\n",
       "(EPL source distribution)\n",
       "Java Runtime: OpenJDK Runtime Environment\n",
       "JVM: OpenJDK 64-Bit Server VM\n",
       "Default Encoding: UTF-8\n",
       "Language: en\n",
       "Country: null\n",
       "--></g></svg>"
      ]
     },
     "execution_count": 9,
     "metadata": {},
     "output_type": "execute_result"
    }
   ],
   "source": [
    "%viz --style=\"POLYLINE\" --view=\"Default\" \"QualifiedNameImportTest\""
   ]
  },
  {
   "cell_type": "code",
   "execution_count": 10,
   "id": "5e6d2bcb",
   "metadata": {
    "execution": {
     "iopub.execute_input": "2021-09-27T07:18:59.566488Z",
     "iopub.status.busy": "2021-09-27T07:18:59.566081Z",
     "iopub.status.idle": "2021-09-27T07:18:59.599499Z",
     "shell.execute_reply": "2021-09-27T07:18:59.599304Z"
    }
   },
   "outputs": [
    {
     "data": {
      "image/svg+xml": [
       "<?xml version=\"1.0\" encoding=\"UTF-8\" standalone=\"no\"?><svg xmlns=\"http://www.w3.org/2000/svg\" xmlns:xlink=\"http://www.w3.org/1999/xlink\" contentScriptType=\"application/ecmascript\" contentStyleType=\"text/css\" height=\"310px\" preserveAspectRatio=\"none\" style=\"width:241px;height:310px;\" version=\"1.1\" viewBox=\"0 0 241 310\" width=\"241px\" zoomAndPan=\"magnify\"><defs/><g><!--MD5=[fbc87193dbaf4d95561dea2c320d4a47]\n",
       "cluster E1--><a href=\"psysml:c8de649d-2dc2-4761-aec9-7bacaacfe515\" target=\"_top\" title=\"psysml:c8de649d-2dc2-4761-aec9-7bacaacfe515\" xlink:actuate=\"onRequest\" xlink:href=\"psysml:c8de649d-2dc2-4761-aec9-7bacaacfe515\" xlink:show=\"new\" xlink:title=\"psysml:c8de649d-2dc2-4761-aec9-7bacaacfe515\" xlink:type=\"simple\"><polygon fill=\"#FFFFFF\" points=\"16,6,196,6,203,28.2969,219,28.2969,219,298,16,298,16,6\" style=\"stroke: #000000; stroke-width: 1.5;\"/><line style=\"stroke: #000000; stroke-width: 1.5;\" x1=\"16\" x2=\"203\" y1=\"28.2969\" y2=\"28.2969\"/><text fill=\"#000000\" font-family=\"sans-serif\" font-size=\"14\" font-weight=\"bold\" lengthAdjust=\"spacingAndGlyphs\" textLength=\"174\" x=\"20\" y=\"20.9951\">QualifiedNameImportTest</text></a><!--MD5=[e4f7fae6ed58524ba242bb0b0d3be6b7]\n",
       "cluster E2--><a href=\"psysml:6cc89760-fc75-419d-8f57-c720b4f2efbc\" target=\"_top\" title=\"psysml:6cc89760-fc75-419d-8f57-c720b4f2efbc\" xlink:actuate=\"onRequest\" xlink:href=\"psysml:6cc89760-fc75-419d-8f57-c720b4f2efbc\" xlink:show=\"new\" xlink:title=\"psysml:6cc89760-fc75-419d-8f57-c720b4f2efbc\" xlink:type=\"simple\"><polygon fill=\"#FFFFFF\" points=\"97,177,121,177,128,199.2969,195,199.2969,195,274,97,274,97,177\" style=\"stroke: #000000; stroke-width: 1.5;\"/><line style=\"stroke: #000000; stroke-width: 1.5;\" x1=\"97\" x2=\"128\" y1=\"199.2969\" y2=\"199.2969\"/><text fill=\"#000000\" font-family=\"sans-serif\" font-size=\"14\" font-weight=\"bold\" lengthAdjust=\"spacingAndGlyphs\" textLength=\"18\" x=\"101\" y=\"191.9951\">P1</text></a><!--MD5=[f6df4d0ebaf0b5dfb2ced0ae5af7c670]\n",
       "cluster E4--><a href=\"psysml:42adecdc-f281-4f00-8fb0-2d405003d942\" target=\"_top\" title=\"psysml:42adecdc-f281-4f00-8fb0-2d405003d942\" xlink:actuate=\"onRequest\" xlink:href=\"psysml:42adecdc-f281-4f00-8fb0-2d405003d942\" xlink:show=\"new\" xlink:title=\"psysml:42adecdc-f281-4f00-8fb0-2d405003d942\" xlink:type=\"simple\"><polygon fill=\"#FFFFFF\" points=\"40,49,64,49,71,71.2969,195,71.2969,195,153,40,153,40,49\" style=\"stroke: #000000; stroke-width: 1.5;\"/><line style=\"stroke: #000000; stroke-width: 1.5;\" x1=\"40\" x2=\"71\" y1=\"71.2969\" y2=\"71.2969\"/><text fill=\"#000000\" font-family=\"sans-serif\" font-size=\"14\" font-weight=\"bold\" lengthAdjust=\"spacingAndGlyphs\" textLength=\"18\" x=\"44\" y=\"63.9951\">P2</text></a><!--MD5=[09b614a08d8cba4a07c9adeb5e0fee81]\n",
       "class E3--><a href=\"psysml:e98f2231-0909-453e-b014-2111b959b184\" target=\"_top\" title=\"psysml:e98f2231-0909-453e-b014-2111b959b184\" xlink:actuate=\"onRequest\" xlink:href=\"psysml:e98f2231-0909-453e-b014-2111b959b184\" xlink:show=\"new\" xlink:title=\"psysml:e98f2231-0909-453e-b014-2111b959b184\" xlink:type=\"simple\"><rect fill=\"#FFFFFF\" height=\"45.9375\" id=\"E3\" style=\"stroke: #383838; stroke-width: 1.5;\" width=\"66\" x=\"113\" y=\"212\"/><text fill=\"#000000\" font-family=\"sans-serif\" font-size=\"12\" font-style=\"italic\" lengthAdjust=\"spacingAndGlyphs\" textLength=\"64\" x=\"114\" y=\"228.1387\">«part def»</text><text fill=\"#000000\" font-family=\"sans-serif\" font-size=\"12\" lengthAdjust=\"spacingAndGlyphs\" textLength=\"8\" x=\"142\" y=\"242.1074\">A</text><line style=\"stroke: #383838; stroke-width: 1.5;\" x1=\"114\" x2=\"178\" y1=\"249.9375\" y2=\"249.9375\"/></a><!--MD5=[60a26617385b1d2d0262a64233df1f8d]\n",
       "class E6--><a href=\"psysml:7d458e03-6011-4476-9c3b-13cd018efbef\" target=\"_top\" title=\"psysml:7d458e03-6011-4476-9c3b-13cd018efbef\" xlink:actuate=\"onRequest\" xlink:href=\"psysml:7d458e03-6011-4476-9c3b-13cd018efbef\" xlink:show=\"new\" xlink:title=\"psysml:7d458e03-6011-4476-9c3b-13cd018efbef\" xlink:type=\"simple\"><rect fill=\"#FFFFFF\" height=\"45.9375\" id=\"E6\" rx=\"10\" ry=\"10\" style=\"stroke: #383838; stroke-width: 1.5;\" width=\"42\" x=\"137\" y=\"87.5\"/><text fill=\"#000000\" font-family=\"sans-serif\" font-size=\"12\" font-style=\"italic\" lengthAdjust=\"spacingAndGlyphs\" textLength=\"40\" x=\"138\" y=\"103.6387\">«part»</text><text fill=\"#000000\" font-family=\"sans-serif\" font-size=\"12\" lengthAdjust=\"spacingAndGlyphs\" textLength=\"22\" x=\"147\" y=\"117.6074\">x: A</text><line style=\"stroke: #383838; stroke-width: 1.5;\" x1=\"138\" x2=\"178\" y1=\"125.4375\" y2=\"125.4375\"/></a><a href=\"psysml:e3978575-11c4-4054-8f35-fdd3c4e4a8ed\" target=\"_top\" title=\"psysml:e3978575-11c4-4054-8f35-fdd3c4e4a8ed\" xlink:actuate=\"onRequest\" xlink:href=\"psysml:e3978575-11c4-4054-8f35-fdd3c4e4a8ed\" xlink:show=\"new\" xlink:title=\"psysml:e3978575-11c4-4054-8f35-fdd3c4e4a8ed\" xlink:type=\"simple\"><polygon fill=\"#FFFFFF\" points=\"56,84,88,84,95,106.2969,102,106.2969,102,136.5938,56,136.5938,56,84\" style=\"stroke: #000000; stroke-width: 1.5;\"/><line style=\"stroke: #000000; stroke-width: 1.5;\" x1=\"56\" x2=\"95\" y1=\"106.2969\" y2=\"106.2969\"/><text fill=\"#000000\" font-family=\"sans-serif\" font-size=\"14\" font-weight=\"bold\" lengthAdjust=\"spacingAndGlyphs\" textLength=\"26\" x=\"60\" y=\"98.9951\">P2a</text></a><!--MD5=[a717450b82c80b9240a525fa862496af]\n",
       "link E6 to E3--><a href=\"psysml:9b235a5a-e1e6-4e2e-a344-8e5fae0ff3e7\" target=\"_top\" title=\"psysml:9b235a5a-e1e6-4e2e-a344-8e5fae0ff3e7\" xlink:actuate=\"onRequest\" xlink:href=\"psysml:9b235a5a-e1e6-4e2e-a344-8e5fae0ff3e7\" xlink:show=\"new\" xlink:title=\"psysml:9b235a5a-e1e6-4e2e-a344-8e5fae0ff3e7\" xlink:type=\"simple\"><path d=\"M155.83,133.68 C154.24,149.9 152.04,172.39 150.12,191.96 \" fill=\"none\" id=\"E6-&gt;E3\" style=\"stroke: #383838; stroke-width: 1.0;\"/><polygon fill=\"#FFFFFF\" points=\"148.16,211.98,143.0533,192.3861,156.986,193.7564,148.16,211.98\" style=\"stroke: #383838; stroke-width: 1.0;\"/><ellipse cx=\"145.6016\" cy=\"186.9092\" fill=\"#383838\" rx=\"2\" ry=\"2\" style=\"stroke: #383838; stroke-width: 1.0;\"/><ellipse cx=\"155.5535\" cy=\"187.888\" fill=\"#383838\" rx=\"2\" ry=\"2\" style=\"stroke: #383838; stroke-width: 1.0;\"/></a><!--MD5=[d4578190cbb750812543ea334ad69f6c]\n",
       "@startuml\r\n",
       "skinparam linetype polyline\r\n",
       "skinparam monochrome true\r\n",
       "skinparam classbackgroundcolor white\r\n",
       "skinparam shadowing false\r\n",
       "skinparam wrapWidth 300\r\n",
       "hide circle\r\n",
       "\r\n",
       "package \"QualifiedNameImportTest\" as E1  [[psysml:c8de649d-2dc2-4761-aec9-7bacaacfe515 ]]  {\r\n",
       "package \"P1\" as E2  [[psysml:6cc89760-fc75-419d-8f57-c720b4f2efbc ]]  {\r\n",
       "comp def \"A\" as E3  <<(T,blue) part def>> [[psysml:e98f2231-0909-453e-b014-2111b959b184 ]] {\r\n",
       "}\r\n",
       "}\r\n",
       "package \"P2\" as E4  [[psysml:42adecdc-f281-4f00-8fb0-2d405003d942 ]]  {\r\n",
       "package \"P2a\" as E5  [[psysml:e3978575-11c4-4054-8f35-fdd3c4e4a8ed ]]  {\r\n",
       "}\r\n",
       "comp usage \"x: A\" as E6  <<(T,blue) part>> [[psysml:7d458e03-6011-4476-9c3b-13cd018efbef ]] {\r\n",
       "}\r\n",
       "}\r\n",
       "}\r\n",
       "E6 - -:|> E3 [[psysml:9b235a5a-e1e6-4e2e-a344-8e5fae0ff3e7 ]] \r\n",
       "@enduml\r\n",
       "\n",
       "PlantUML version 1.2020.13(Sat Jun 13 12:26:38 UTC 2020)\n",
       "(EPL source distribution)\n",
       "Java Runtime: OpenJDK Runtime Environment\n",
       "JVM: OpenJDK 64-Bit Server VM\n",
       "Default Encoding: UTF-8\n",
       "Language: en\n",
       "Country: null\n",
       "--></g></svg>"
      ]
     },
     "execution_count": 10,
     "metadata": {},
     "output_type": "execute_result"
    }
   ],
   "source": [
    "%viz --style=\"POLYLINE\" --view=\"Tree\" \"QualifiedNameImportTest\""
   ]
  },
  {
   "cell_type": "code",
   "execution_count": 11,
   "id": "ac517111",
   "metadata": {
    "execution": {
     "iopub.execute_input": "2021-09-27T07:18:59.650115Z",
     "iopub.status.busy": "2021-09-27T07:18:59.649677Z",
     "iopub.status.idle": "2021-09-27T07:18:59.656222Z",
     "shell.execute_reply": "2021-09-27T07:18:59.656536Z"
    }
   },
   "outputs": [
    {
     "data": {
      "image/svg+xml": [
       "<?xml version=\"1.0\" encoding=\"UTF-8\" standalone=\"no\"?><svg xmlns=\"http://www.w3.org/2000/svg\" xmlns:xlink=\"http://www.w3.org/1999/xlink\" contentScriptType=\"application/ecmascript\" contentStyleType=\"text/css\" height=\"12px\" preserveAspectRatio=\"none\" style=\"width:12px;height:12px;\" version=\"1.1\" viewBox=\"0 0 12 12\" width=\"12px\" zoomAndPan=\"magnify\"><defs/><g><!--MD5=[896ac0e7a515d8dd7765a661cb4ee08b]\n",
       "@startuml\r\n",
       "skinparam linetype polyline\r\n",
       "skinparam monochrome true\r\n",
       "skinparam classbackgroundcolor white\r\n",
       "skinparam shadowing false\r\n",
       "skinparam wrapWidth 300\r\n",
       "hide circle\r\n",
       "\r\n",
       "@enduml\r\n",
       "\n",
       "PlantUML version 1.2020.13(Sat Jun 13 12:26:38 UTC 2020)\n",
       "(EPL source distribution)\n",
       "Java Runtime: OpenJDK Runtime Environment\n",
       "JVM: OpenJDK 64-Bit Server VM\n",
       "Default Encoding: UTF-8\n",
       "Language: en\n",
       "Country: null\n",
       "--></g></svg>"
      ]
     },
     "execution_count": 11,
     "metadata": {},
     "output_type": "execute_result"
    }
   ],
   "source": [
    "%viz --style=\"POLYLINE\" --view=\"State\" \"QualifiedNameImportTest\""
   ]
  },
  {
   "cell_type": "code",
   "execution_count": 12,
   "id": "66eade39",
   "metadata": {
    "execution": {
     "iopub.execute_input": "2021-09-27T07:18:59.707247Z",
     "iopub.status.busy": "2021-09-27T07:18:59.706835Z",
     "iopub.status.idle": "2021-09-27T07:18:59.742476Z",
     "shell.execute_reply": "2021-09-27T07:18:59.742104Z"
    }
   },
   "outputs": [
    {
     "data": {
      "image/svg+xml": [
       "<?xml version=\"1.0\" encoding=\"UTF-8\" standalone=\"no\"?><svg xmlns=\"http://www.w3.org/2000/svg\" xmlns:xlink=\"http://www.w3.org/1999/xlink\" contentScriptType=\"application/ecmascript\" contentStyleType=\"text/css\" height=\"189px\" preserveAspectRatio=\"none\" style=\"width:377px;height:189px;\" version=\"1.1\" viewBox=\"0 0 377 189\" width=\"377px\" zoomAndPan=\"magnify\"><defs/><g><!--MD5=[fbc87193dbaf4d95561dea2c320d4a47]\n",
       "cluster E1--><a href=\"psysml:c8de649d-2dc2-4761-aec9-7bacaacfe515\" target=\"_top\" title=\"psysml:c8de649d-2dc2-4761-aec9-7bacaacfe515\" xlink:actuate=\"onRequest\" xlink:href=\"psysml:c8de649d-2dc2-4761-aec9-7bacaacfe515\" xlink:show=\"new\" xlink:title=\"psysml:c8de649d-2dc2-4761-aec9-7bacaacfe515\" xlink:type=\"simple\"><polygon fill=\"#FFFFFF\" points=\"16,6,196,6,203,28.2969,355,28.2969,355,177,16,177,16,6\" style=\"stroke: #000000; stroke-width: 1.5;\"/><line style=\"stroke: #000000; stroke-width: 1.5;\" x1=\"16\" x2=\"203\" y1=\"28.2969\" y2=\"28.2969\"/><text fill=\"#000000\" font-family=\"sans-serif\" font-size=\"14\" font-weight=\"bold\" lengthAdjust=\"spacingAndGlyphs\" textLength=\"174\" x=\"20\" y=\"20.9951\">QualifiedNameImportTest</text></a><!--MD5=[e4f7fae6ed58524ba242bb0b0d3be6b7]\n",
       "cluster E2--><a href=\"psysml:6cc89760-fc75-419d-8f57-c720b4f2efbc\" target=\"_top\" title=\"psysml:6cc89760-fc75-419d-8f57-c720b4f2efbc\" xlink:actuate=\"onRequest\" xlink:href=\"psysml:6cc89760-fc75-419d-8f57-c720b4f2efbc\" xlink:show=\"new\" xlink:title=\"psysml:6cc89760-fc75-419d-8f57-c720b4f2efbc\" xlink:type=\"simple\"><polygon fill=\"#FFFFFF\" points=\"227,54,251,54,258,76.2969,331,76.2969,331,148,227,148,227,54\" style=\"stroke: #000000; stroke-width: 1.5;\"/><line style=\"stroke: #000000; stroke-width: 1.5;\" x1=\"227\" x2=\"258\" y1=\"76.2969\" y2=\"76.2969\"/><text fill=\"#000000\" font-family=\"sans-serif\" font-size=\"14\" font-weight=\"bold\" lengthAdjust=\"spacingAndGlyphs\" textLength=\"18\" x=\"231\" y=\"68.9951\">P1</text></a><!--MD5=[f6df4d0ebaf0b5dfb2ced0ae5af7c670]\n",
       "cluster E4--><a href=\"psysml:42adecdc-f281-4f00-8fb0-2d405003d942\" target=\"_top\" title=\"psysml:42adecdc-f281-4f00-8fb0-2d405003d942\" xlink:actuate=\"onRequest\" xlink:href=\"psysml:42adecdc-f281-4f00-8fb0-2d405003d942\" xlink:show=\"new\" xlink:title=\"psysml:42adecdc-f281-4f00-8fb0-2d405003d942\" xlink:type=\"simple\"><polygon fill=\"#FFFFFF\" points=\"40,49,64,49,71,71.2969,203,71.2969,203,153,40,153,40,49\" style=\"stroke: #000000; stroke-width: 1.5;\"/><line style=\"stroke: #000000; stroke-width: 1.5;\" x1=\"40\" x2=\"71\" y1=\"71.2969\" y2=\"71.2969\"/><text fill=\"#000000\" font-family=\"sans-serif\" font-size=\"14\" font-weight=\"bold\" lengthAdjust=\"spacingAndGlyphs\" textLength=\"18\" x=\"44\" y=\"63.9951\">P2</text></a><g id=\"E1.E2.E3\"><a href=\"psysml:e98f2231-0909-453e-b014-2111b959b184\" target=\"_top\" title=\"psysml:e98f2231-0909-453e-b014-2111b959b184\" xlink:actuate=\"onRequest\" xlink:href=\"psysml:e98f2231-0909-453e-b014-2111b959b184\" xlink:show=\"new\" xlink:title=\"psysml:e98f2231-0909-453e-b014-2111b959b184\" xlink:type=\"simple\"><rect fill=\"#FFFFFF\" height=\"42.9375\" id=\"E3\" style=\"stroke: #383838; stroke-width: 1.5;\" width=\"71\" x=\"243.5\" y=\"89\"/><rect fill=\"#F8F8F8\" height=\"37.9375\" style=\"stroke: #383838; stroke-width: 1.5;\" width=\"71\" x=\"243.5\" y=\"89\"/><text fill=\"#000000\" font-family=\"sans-serif\" font-size=\"12\" font-style=\"italic\" lengthAdjust=\"spacingAndGlyphs\" textLength=\"64\" x=\"247\" y=\"105.1387\">«part def»</text><text fill=\"#000000\" font-family=\"sans-serif\" font-size=\"12\" lengthAdjust=\"spacingAndGlyphs\" textLength=\"8\" x=\"275\" y=\"119.1074\">A</text></a></g><a href=\"psysml:e3978575-11c4-4054-8f35-fdd3c4e4a8ed\" target=\"_top\" title=\"psysml:e3978575-11c4-4054-8f35-fdd3c4e4a8ed\" xlink:actuate=\"onRequest\" xlink:href=\"psysml:e3978575-11c4-4054-8f35-fdd3c4e4a8ed\" xlink:show=\"new\" xlink:title=\"psysml:e3978575-11c4-4054-8f35-fdd3c4e4a8ed\" xlink:type=\"simple\"><polygon fill=\"#FFFFFF\" points=\"141,84,173,84,180,106.2969,187,106.2969,187,136.5938,141,136.5938,141,84\" style=\"stroke: #000000; stroke-width: 1.5;\"/><line style=\"stroke: #000000; stroke-width: 1.5;\" x1=\"141\" x2=\"180\" y1=\"106.2969\" y2=\"106.2969\"/><text fill=\"#000000\" font-family=\"sans-serif\" font-size=\"14\" font-weight=\"bold\" lengthAdjust=\"spacingAndGlyphs\" textLength=\"26\" x=\"145\" y=\"98.9951\">P2a</text></a><g id=\"E1.E4.E6\"><a href=\"psysml:7d458e03-6011-4476-9c3b-13cd018efbef\" target=\"_top\" title=\"psysml:7d458e03-6011-4476-9c3b-13cd018efbef\" xlink:actuate=\"onRequest\" xlink:href=\"psysml:7d458e03-6011-4476-9c3b-13cd018efbef\" xlink:show=\"new\" xlink:title=\"psysml:7d458e03-6011-4476-9c3b-13cd018efbef\" xlink:type=\"simple\"><rect fill=\"#FFFFFF\" height=\"40\" id=\"E6\" rx=\"10\" ry=\"10\" style=\"stroke: #383838; stroke-width: 1.5;\" width=\"50\" x=\"56\" y=\"90.5\"/><rect fill=\"#F8F8F8\" height=\"23.9688\" rx=\"10\" ry=\"10\" style=\"stroke: #F8F8F8; stroke-width: 1.5;\" width=\"50\" x=\"56\" y=\"90.5\"/><rect fill=\"#F8F8F8\" height=\"10\" style=\"stroke: #F8F8F8; stroke-width: 1.5;\" width=\"50\" x=\"56\" y=\"104.4688\"/><rect fill=\"none\" height=\"40\" id=\"E6\" rx=\"10\" ry=\"10\" style=\"stroke: #383838; stroke-width: 1.5;\" width=\"50\" x=\"56\" y=\"90.5\"/><text fill=\"#000000\" font-family=\"sans-serif\" font-size=\"12\" lengthAdjust=\"spacingAndGlyphs\" textLength=\"22\" x=\"70\" y=\"106.6387\">x: A</text></a></g><!--MD5=[b3db169e32deb631fcb3f56266c33647]\n",
       "@startuml\r\n",
       "skinparam ranksep 10\r\n",
       "skinparam rectangle {\r\n",
       " backgroundColor<<block>> LightGreen\r\n",
       "}\r\n",
       "skinparam linetype polyline\r\n",
       "skinparam monochrome true\r\n",
       "skinparam classbackgroundcolor white\r\n",
       "skinparam shadowing false\r\n",
       "skinparam wrapWidth 300\r\n",
       "hide circle\r\n",
       "\r\n",
       "package \"QualifiedNameImportTest\" as E1  [[psysml:c8de649d-2dc2-4761-aec9-7bacaacfe515 ]]  {\r\n",
       "package \"P1\" as E2  [[psysml:6cc89760-fc75-419d-8f57-c720b4f2efbc ]]  {\r\n",
       "rec def \"A\" as E3  <<(T,blue) part def>> [[psysml:e98f2231-0909-453e-b014-2111b959b184 ]] {\r\n",
       "}\r\n",
       "}\r\n",
       "package \"P2\" as E4  [[psysml:42adecdc-f281-4f00-8fb0-2d405003d942 ]]  {\r\n",
       "package \"P2a\" as E5  [[psysml:e3978575-11c4-4054-8f35-fdd3c4e4a8ed ]]  {\r\n",
       "}\r\n",
       "rec usage \"x: A\" as E6  [[psysml:7d458e03-6011-4476-9c3b-13cd018efbef ]] {\r\n",
       "}\r\n",
       "}\r\n",
       "}\r\n",
       "@enduml\r\n",
       "\n",
       "PlantUML version 1.2020.13(Sat Jun 13 12:26:38 UTC 2020)\n",
       "(EPL source distribution)\n",
       "Java Runtime: OpenJDK Runtime Environment\n",
       "JVM: OpenJDK 64-Bit Server VM\n",
       "Default Encoding: UTF-8\n",
       "Language: en\n",
       "Country: null\n",
       "--></g></svg>"
      ]
     },
     "execution_count": 12,
     "metadata": {},
     "output_type": "execute_result"
    }
   ],
   "source": [
    "%viz --style=\"POLYLINE\" --view=\"Interconnection\" \"QualifiedNameImportTest\""
   ]
  },
  {
   "cell_type": "code",
   "execution_count": 13,
   "id": "1778bee7",
   "metadata": {
    "execution": {
     "iopub.execute_input": "2021-09-27T07:18:59.792334Z",
     "iopub.status.busy": "2021-09-27T07:18:59.791922Z",
     "iopub.status.idle": "2021-09-27T07:18:59.798361Z",
     "shell.execute_reply": "2021-09-27T07:18:59.798691Z"
    }
   },
   "outputs": [
    {
     "data": {
      "image/svg+xml": [
       "<?xml version=\"1.0\" encoding=\"UTF-8\" standalone=\"no\"?><svg xmlns=\"http://www.w3.org/2000/svg\" xmlns:xlink=\"http://www.w3.org/1999/xlink\" contentScriptType=\"application/ecmascript\" contentStyleType=\"text/css\" height=\"12px\" preserveAspectRatio=\"none\" style=\"width:12px;height:12px;\" version=\"1.1\" viewBox=\"0 0 12 12\" width=\"12px\" zoomAndPan=\"magnify\"><defs/><g><!--MD5=[97bbf32f66ccd50cbc40d92ea8f5a65e]\n",
       "@startuml\r\n",
       "skinparam ranksep 8\r\n",
       "skinparam linetype polyline\r\n",
       "skinparam monochrome true\r\n",
       "skinparam classbackgroundcolor white\r\n",
       "skinparam shadowing false\r\n",
       "skinparam wrapWidth 300\r\n",
       "hide circle\r\n",
       "\r\n",
       "@enduml\r\n",
       "\n",
       "PlantUML version 1.2020.13(Sat Jun 13 12:26:38 UTC 2020)\n",
       "(EPL source distribution)\n",
       "Java Runtime: OpenJDK Runtime Environment\n",
       "JVM: OpenJDK 64-Bit Server VM\n",
       "Default Encoding: UTF-8\n",
       "Language: en\n",
       "Country: null\n",
       "--></g></svg>"
      ]
     },
     "execution_count": 13,
     "metadata": {},
     "output_type": "execute_result"
    }
   ],
   "source": [
    "%viz --style=\"POLYLINE\" --view=\"Action\" \"QualifiedNameImportTest\""
   ]
  },
  {
   "cell_type": "code",
   "execution_count": 14,
   "id": "33f64789",
   "metadata": {
    "execution": {
     "iopub.execute_input": "2021-09-27T07:18:59.848969Z",
     "iopub.status.busy": "2021-09-27T07:18:59.848539Z",
     "iopub.status.idle": "2021-09-27T07:18:59.855827Z",
     "shell.execute_reply": "2021-09-27T07:18:59.856141Z"
    }
   },
   "outputs": [
    {
     "data": {
      "image/svg+xml": [
       "<?xml version=\"1.0\" encoding=\"UTF-8\" standalone=\"no\"?><svg xmlns=\"http://www.w3.org/2000/svg\" xmlns:xlink=\"http://www.w3.org/1999/xlink\" contentScriptType=\"application/ecmascript\" contentStyleType=\"text/css\" height=\"12px\" preserveAspectRatio=\"none\" style=\"width:12px;height:12px;\" version=\"1.1\" viewBox=\"0 0 12 12\" width=\"12px\" zoomAndPan=\"magnify\"><defs/><g><!--MD5=[dc938048236c351797870c36b62f92ad]\n",
       "@startuml\r\n",
       "skinparam roundcorner 20\r\n",
       "skinparam BoxPadding 20\r\n",
       "skinparam SequenceBoxBackgroundColor #white\r\n",
       "skinparam style strictuml\r\n",
       "skinparam maxMessageSize 100\r\n",
       "skinparam linetype polyline\r\n",
       "skinparam monochrome true\r\n",
       "skinparam classbackgroundcolor white\r\n",
       "skinparam shadowing false\r\n",
       "skinparam wrapWidth 300\r\n",
       "hide circle\r\n",
       "\r\n",
       "@enduml\r\n",
       "\n",
       "PlantUML version 1.2020.13(Sat Jun 13 12:26:38 UTC 2020)\n",
       "(EPL source distribution)\n",
       "Java Runtime: OpenJDK Runtime Environment\n",
       "JVM: OpenJDK 64-Bit Server VM\n",
       "Default Encoding: UTF-8\n",
       "Language: en\n",
       "Country: null\n",
       "--></g></svg>"
      ]
     },
     "execution_count": 14,
     "metadata": {},
     "output_type": "execute_result"
    }
   ],
   "source": [
    "%viz --style=\"POLYLINE\" --view=\"Sequence\" \"QualifiedNameImportTest\""
   ]
  },
  {
   "cell_type": "code",
   "execution_count": 15,
   "id": "da288404",
   "metadata": {
    "execution": {
     "iopub.execute_input": "2021-09-27T07:18:59.906400Z",
     "iopub.status.busy": "2021-09-27T07:18:59.905991Z",
     "iopub.status.idle": "2021-09-27T07:18:59.941004Z",
     "shell.execute_reply": "2021-09-27T07:18:59.939771Z"
    }
   },
   "outputs": [
    {
     "data": {
      "image/svg+xml": [
       "<?xml version=\"1.0\" encoding=\"UTF-8\" standalone=\"no\"?><svg xmlns=\"http://www.w3.org/2000/svg\" xmlns:xlink=\"http://www.w3.org/1999/xlink\" contentScriptType=\"application/ecmascript\" contentStyleType=\"text/css\" height=\"310px\" preserveAspectRatio=\"none\" style=\"width:241px;height:310px;\" version=\"1.1\" viewBox=\"0 0 241 310\" width=\"241px\" zoomAndPan=\"magnify\"><defs/><g><!--MD5=[fbc87193dbaf4d95561dea2c320d4a47]\n",
       "cluster E1--><a href=\"psysml:c8de649d-2dc2-4761-aec9-7bacaacfe515\" target=\"_top\" title=\"psysml:c8de649d-2dc2-4761-aec9-7bacaacfe515\" xlink:actuate=\"onRequest\" xlink:href=\"psysml:c8de649d-2dc2-4761-aec9-7bacaacfe515\" xlink:show=\"new\" xlink:title=\"psysml:c8de649d-2dc2-4761-aec9-7bacaacfe515\" xlink:type=\"simple\"><polygon fill=\"#FFFFFF\" points=\"16,6,196,6,203,28.2969,219,28.2969,219,298,16,298,16,6\" style=\"stroke: #000000; stroke-width: 1.5;\"/><line style=\"stroke: #000000; stroke-width: 1.5;\" x1=\"16\" x2=\"203\" y1=\"28.2969\" y2=\"28.2969\"/><text fill=\"#000000\" font-family=\"sans-serif\" font-size=\"14\" font-weight=\"bold\" lengthAdjust=\"spacingAndGlyphs\" textLength=\"174\" x=\"20\" y=\"20.9951\">QualifiedNameImportTest</text></a><!--MD5=[e4f7fae6ed58524ba242bb0b0d3be6b7]\n",
       "cluster E2--><a href=\"psysml:6cc89760-fc75-419d-8f57-c720b4f2efbc\" target=\"_top\" title=\"psysml:6cc89760-fc75-419d-8f57-c720b4f2efbc\" xlink:actuate=\"onRequest\" xlink:href=\"psysml:6cc89760-fc75-419d-8f57-c720b4f2efbc\" xlink:show=\"new\" xlink:title=\"psysml:6cc89760-fc75-419d-8f57-c720b4f2efbc\" xlink:type=\"simple\"><polygon fill=\"#FFFFFF\" points=\"97,177,121,177,128,199.2969,195,199.2969,195,274,97,274,97,177\" style=\"stroke: #000000; stroke-width: 1.5;\"/><line style=\"stroke: #000000; stroke-width: 1.5;\" x1=\"97\" x2=\"128\" y1=\"199.2969\" y2=\"199.2969\"/><text fill=\"#000000\" font-family=\"sans-serif\" font-size=\"14\" font-weight=\"bold\" lengthAdjust=\"spacingAndGlyphs\" textLength=\"18\" x=\"101\" y=\"191.9951\">P1</text></a><!--MD5=[f6df4d0ebaf0b5dfb2ced0ae5af7c670]\n",
       "cluster E4--><a href=\"psysml:42adecdc-f281-4f00-8fb0-2d405003d942\" target=\"_top\" title=\"psysml:42adecdc-f281-4f00-8fb0-2d405003d942\" xlink:actuate=\"onRequest\" xlink:href=\"psysml:42adecdc-f281-4f00-8fb0-2d405003d942\" xlink:show=\"new\" xlink:title=\"psysml:42adecdc-f281-4f00-8fb0-2d405003d942\" xlink:type=\"simple\"><polygon fill=\"#FFFFFF\" points=\"40,49,64,49,71,71.2969,195,71.2969,195,153,40,153,40,49\" style=\"stroke: #000000; stroke-width: 1.5;\"/><line style=\"stroke: #000000; stroke-width: 1.5;\" x1=\"40\" x2=\"71\" y1=\"71.2969\" y2=\"71.2969\"/><text fill=\"#000000\" font-family=\"sans-serif\" font-size=\"14\" font-weight=\"bold\" lengthAdjust=\"spacingAndGlyphs\" textLength=\"18\" x=\"44\" y=\"63.9951\">P2</text></a><!--MD5=[09b614a08d8cba4a07c9adeb5e0fee81]\n",
       "class E3--><a href=\"psysml:e98f2231-0909-453e-b014-2111b959b184\" target=\"_top\" title=\"psysml:e98f2231-0909-453e-b014-2111b959b184\" xlink:actuate=\"onRequest\" xlink:href=\"psysml:e98f2231-0909-453e-b014-2111b959b184\" xlink:show=\"new\" xlink:title=\"psysml:e98f2231-0909-453e-b014-2111b959b184\" xlink:type=\"simple\"><rect fill=\"#FFFFFF\" height=\"45.9375\" id=\"E3\" style=\"stroke: #383838; stroke-width: 1.5;\" width=\"66\" x=\"113\" y=\"212\"/><text fill=\"#000000\" font-family=\"sans-serif\" font-size=\"12\" font-style=\"italic\" lengthAdjust=\"spacingAndGlyphs\" textLength=\"64\" x=\"114\" y=\"228.1387\">«part def»</text><text fill=\"#000000\" font-family=\"sans-serif\" font-size=\"12\" lengthAdjust=\"spacingAndGlyphs\" textLength=\"8\" x=\"142\" y=\"242.1074\">A</text><line style=\"stroke: #383838; stroke-width: 1.5;\" x1=\"114\" x2=\"178\" y1=\"249.9375\" y2=\"249.9375\"/></a><!--MD5=[60a26617385b1d2d0262a64233df1f8d]\n",
       "class E6--><a href=\"psysml:7d458e03-6011-4476-9c3b-13cd018efbef\" target=\"_top\" title=\"psysml:7d458e03-6011-4476-9c3b-13cd018efbef\" xlink:actuate=\"onRequest\" xlink:href=\"psysml:7d458e03-6011-4476-9c3b-13cd018efbef\" xlink:show=\"new\" xlink:title=\"psysml:7d458e03-6011-4476-9c3b-13cd018efbef\" xlink:type=\"simple\"><rect fill=\"#FFFFFF\" height=\"45.9375\" id=\"E6\" rx=\"10\" ry=\"10\" style=\"stroke: #383838; stroke-width: 1.5;\" width=\"42\" x=\"137\" y=\"87.5\"/><text fill=\"#000000\" font-family=\"sans-serif\" font-size=\"12\" font-style=\"italic\" lengthAdjust=\"spacingAndGlyphs\" textLength=\"40\" x=\"138\" y=\"103.6387\">«part»</text><text fill=\"#000000\" font-family=\"sans-serif\" font-size=\"12\" lengthAdjust=\"spacingAndGlyphs\" textLength=\"22\" x=\"147\" y=\"117.6074\">x: A</text><line style=\"stroke: #383838; stroke-width: 1.5;\" x1=\"138\" x2=\"178\" y1=\"125.4375\" y2=\"125.4375\"/></a><a href=\"psysml:e3978575-11c4-4054-8f35-fdd3c4e4a8ed\" target=\"_top\" title=\"psysml:e3978575-11c4-4054-8f35-fdd3c4e4a8ed\" xlink:actuate=\"onRequest\" xlink:href=\"psysml:e3978575-11c4-4054-8f35-fdd3c4e4a8ed\" xlink:show=\"new\" xlink:title=\"psysml:e3978575-11c4-4054-8f35-fdd3c4e4a8ed\" xlink:type=\"simple\"><polygon fill=\"#FFFFFF\" points=\"56,84,88,84,95,106.2969,102,106.2969,102,136.5938,56,136.5938,56,84\" style=\"stroke: #000000; stroke-width: 1.5;\"/><line style=\"stroke: #000000; stroke-width: 1.5;\" x1=\"56\" x2=\"95\" y1=\"106.2969\" y2=\"106.2969\"/><text fill=\"#000000\" font-family=\"sans-serif\" font-size=\"14\" font-weight=\"bold\" lengthAdjust=\"spacingAndGlyphs\" textLength=\"26\" x=\"60\" y=\"98.9951\">P2a</text></a><!--MD5=[a717450b82c80b9240a525fa862496af]\n",
       "link E6 to E3--><a href=\"psysml:9b235a5a-e1e6-4e2e-a344-8e5fae0ff3e7\" target=\"_top\" title=\"psysml:9b235a5a-e1e6-4e2e-a344-8e5fae0ff3e7\" xlink:actuate=\"onRequest\" xlink:href=\"psysml:9b235a5a-e1e6-4e2e-a344-8e5fae0ff3e7\" xlink:show=\"new\" xlink:title=\"psysml:9b235a5a-e1e6-4e2e-a344-8e5fae0ff3e7\" xlink:type=\"simple\"><path d=\"M155.83,133.68 C154.24,149.9 152.04,172.39 150.12,191.96 \" fill=\"none\" id=\"E6-&gt;E3\" style=\"stroke: #383838; stroke-width: 1.0;\"/><polygon fill=\"#FFFFFF\" points=\"148.16,211.98,143.0533,192.3861,156.986,193.7564,148.16,211.98\" style=\"stroke: #383838; stroke-width: 1.0;\"/><ellipse cx=\"145.6016\" cy=\"186.9092\" fill=\"#383838\" rx=\"2\" ry=\"2\" style=\"stroke: #383838; stroke-width: 1.0;\"/><ellipse cx=\"155.5535\" cy=\"187.888\" fill=\"#383838\" rx=\"2\" ry=\"2\" style=\"stroke: #383838; stroke-width: 1.0;\"/></a><!--MD5=[d4578190cbb750812543ea334ad69f6c]\n",
       "@startuml\r\n",
       "skinparam linetype polyline\r\n",
       "skinparam monochrome true\r\n",
       "skinparam classbackgroundcolor white\r\n",
       "skinparam shadowing false\r\n",
       "skinparam wrapWidth 300\r\n",
       "hide circle\r\n",
       "\r\n",
       "package \"QualifiedNameImportTest\" as E1  [[psysml:c8de649d-2dc2-4761-aec9-7bacaacfe515 ]]  {\r\n",
       "package \"P1\" as E2  [[psysml:6cc89760-fc75-419d-8f57-c720b4f2efbc ]]  {\r\n",
       "comp def \"A\" as E3  <<(T,blue) part def>> [[psysml:e98f2231-0909-453e-b014-2111b959b184 ]] {\r\n",
       "}\r\n",
       "}\r\n",
       "package \"P2\" as E4  [[psysml:42adecdc-f281-4f00-8fb0-2d405003d942 ]]  {\r\n",
       "package \"P2a\" as E5  [[psysml:e3978575-11c4-4054-8f35-fdd3c4e4a8ed ]]  {\r\n",
       "}\r\n",
       "comp usage \"x: A\" as E6  <<(T,blue) part>> [[psysml:7d458e03-6011-4476-9c3b-13cd018efbef ]] {\r\n",
       "}\r\n",
       "}\r\n",
       "}\r\n",
       "E6 - -:|> E3 [[psysml:9b235a5a-e1e6-4e2e-a344-8e5fae0ff3e7 ]] \r\n",
       "@enduml\r\n",
       "\n",
       "PlantUML version 1.2020.13(Sat Jun 13 12:26:38 UTC 2020)\n",
       "(EPL source distribution)\n",
       "Java Runtime: OpenJDK Runtime Environment\n",
       "JVM: OpenJDK 64-Bit Server VM\n",
       "Default Encoding: UTF-8\n",
       "Language: en\n",
       "Country: null\n",
       "--></g></svg>"
      ]
     },
     "execution_count": 15,
     "metadata": {},
     "output_type": "execute_result"
    }
   ],
   "source": [
    "%viz --style=\"POLYLINE\" --view=\"MIXED\" \"QualifiedNameImportTest\""
   ]
  },
  {
   "cell_type": "code",
   "execution_count": 16,
   "id": "7eb80130",
   "metadata": {
    "execution": {
     "iopub.execute_input": "2021-09-27T07:18:59.991122Z",
     "iopub.status.busy": "2021-09-27T07:18:59.990694Z",
     "iopub.status.idle": "2021-09-27T07:19:00.024801Z",
     "shell.execute_reply": "2021-09-27T07:19:00.024433Z"
    }
   },
   "outputs": [
    {
     "data": {
      "image/svg+xml": [
       "<?xml version=\"1.0\" encoding=\"UTF-8\" standalone=\"no\"?><svg xmlns=\"http://www.w3.org/2000/svg\" xmlns:xlink=\"http://www.w3.org/1999/xlink\" contentScriptType=\"application/ecmascript\" contentStyleType=\"text/css\" height=\"271px\" preserveAspectRatio=\"none\" style=\"width:290px;height:271px;\" version=\"1.1\" viewBox=\"0 0 290 271\" width=\"290px\" zoomAndPan=\"magnify\"><defs/><g><!--MD5=[fbc87193dbaf4d95561dea2c320d4a47]\n",
       "cluster E1--><a href=\"psysml:c8de649d-2dc2-4761-aec9-7bacaacfe515\" target=\"_top\" title=\"psysml:c8de649d-2dc2-4761-aec9-7bacaacfe515\" xlink:actuate=\"onRequest\" xlink:href=\"psysml:c8de649d-2dc2-4761-aec9-7bacaacfe515\" xlink:show=\"new\" xlink:title=\"psysml:c8de649d-2dc2-4761-aec9-7bacaacfe515\" xlink:type=\"simple\"><polygon fill=\"#FFFFFF\" points=\"16,6,196,6,203,28.2969,268,28.2969,268,259,16,259,16,6\" style=\"stroke: #000000; stroke-width: 1.5;\"/><line style=\"stroke: #000000; stroke-width: 1.5;\" x1=\"16\" x2=\"203\" y1=\"28.2969\" y2=\"28.2969\"/><text fill=\"#000000\" font-family=\"sans-serif\" font-size=\"14\" font-weight=\"bold\" lengthAdjust=\"spacingAndGlyphs\" textLength=\"174\" x=\"20\" y=\"20.9951\">QualifiedNameImportTest</text></a><!--MD5=[e4f7fae6ed58524ba242bb0b0d3be6b7]\n",
       "cluster E2--><a href=\"psysml:6cc89760-fc75-419d-8f57-c720b4f2efbc\" target=\"_top\" title=\"psysml:6cc89760-fc75-419d-8f57-c720b4f2efbc\" xlink:actuate=\"onRequest\" xlink:href=\"psysml:6cc89760-fc75-419d-8f57-c720b4f2efbc\" xlink:show=\"new\" xlink:title=\"psysml:6cc89760-fc75-419d-8f57-c720b4f2efbc\" xlink:type=\"simple\"><polygon fill=\"#FFFFFF\" points=\"146,49,170,49,177,71.2969,244,71.2969,244,146,146,146,146,49\" style=\"stroke: #000000; stroke-width: 1.5;\"/><line style=\"stroke: #000000; stroke-width: 1.5;\" x1=\"146\" x2=\"177\" y1=\"71.2969\" y2=\"71.2969\"/><text fill=\"#000000\" font-family=\"sans-serif\" font-size=\"14\" font-weight=\"bold\" lengthAdjust=\"spacingAndGlyphs\" textLength=\"18\" x=\"150\" y=\"63.9951\">P1</text></a><!--MD5=[f6df4d0ebaf0b5dfb2ced0ae5af7c670]\n",
       "cluster E4--><a href=\"psysml:42adecdc-f281-4f00-8fb0-2d405003d942\" target=\"_top\" title=\"psysml:42adecdc-f281-4f00-8fb0-2d405003d942\" xlink:actuate=\"onRequest\" xlink:href=\"psysml:42adecdc-f281-4f00-8fb0-2d405003d942\" xlink:show=\"new\" xlink:title=\"psysml:42adecdc-f281-4f00-8fb0-2d405003d942\" xlink:type=\"simple\"><polygon fill=\"#FFFFFF\" points=\"40,49,64,49,71,71.2969,118,71.2969,118,235,40,235,40,49\" style=\"stroke: #000000; stroke-width: 1.5;\"/><line style=\"stroke: #000000; stroke-width: 1.5;\" x1=\"40\" x2=\"71\" y1=\"71.2969\" y2=\"71.2969\"/><text fill=\"#000000\" font-family=\"sans-serif\" font-size=\"14\" font-weight=\"bold\" lengthAdjust=\"spacingAndGlyphs\" textLength=\"18\" x=\"44\" y=\"63.9951\">P2</text></a><!--MD5=[09b614a08d8cba4a07c9adeb5e0fee81]\n",
       "class E3--><a href=\"psysml:e98f2231-0909-453e-b014-2111b959b184\" target=\"_top\" title=\"psysml:e98f2231-0909-453e-b014-2111b959b184\" xlink:actuate=\"onRequest\" xlink:href=\"psysml:e98f2231-0909-453e-b014-2111b959b184\" xlink:show=\"new\" xlink:title=\"psysml:e98f2231-0909-453e-b014-2111b959b184\" xlink:type=\"simple\"><rect fill=\"#FFFFFF\" height=\"45.9375\" id=\"E3\" style=\"stroke: #383838; stroke-width: 1.5;\" width=\"66\" x=\"162\" y=\"84\"/><text fill=\"#000000\" font-family=\"sans-serif\" font-size=\"12\" font-style=\"italic\" lengthAdjust=\"spacingAndGlyphs\" textLength=\"64\" x=\"163\" y=\"100.1387\">«part def»</text><text fill=\"#000000\" font-family=\"sans-serif\" font-size=\"12\" lengthAdjust=\"spacingAndGlyphs\" textLength=\"8\" x=\"191\" y=\"114.1074\">A</text><line style=\"stroke: #383838; stroke-width: 1.5;\" x1=\"163\" x2=\"227\" y1=\"121.9375\" y2=\"121.9375\"/></a><!--MD5=[60a26617385b1d2d0262a64233df1f8d]\n",
       "class E6--><a href=\"psysml:7d458e03-6011-4476-9c3b-13cd018efbef\" target=\"_top\" title=\"psysml:7d458e03-6011-4476-9c3b-13cd018efbef\" xlink:actuate=\"onRequest\" xlink:href=\"psysml:7d458e03-6011-4476-9c3b-13cd018efbef\" xlink:show=\"new\" xlink:title=\"psysml:7d458e03-6011-4476-9c3b-13cd018efbef\" xlink:type=\"simple\"><rect fill=\"#FFFFFF\" height=\"45.9375\" id=\"E6\" rx=\"10\" ry=\"10\" style=\"stroke: #383838; stroke-width: 1.5;\" width=\"42\" x=\"58\" y=\"84\"/><text fill=\"#000000\" font-family=\"sans-serif\" font-size=\"12\" font-style=\"italic\" lengthAdjust=\"spacingAndGlyphs\" textLength=\"40\" x=\"59\" y=\"100.1387\">«part»</text><text fill=\"#000000\" font-family=\"sans-serif\" font-size=\"12\" lengthAdjust=\"spacingAndGlyphs\" textLength=\"22\" x=\"68\" y=\"114.1074\">x: A</text><line style=\"stroke: #383838; stroke-width: 1.5;\" x1=\"59\" x2=\"99\" y1=\"121.9375\" y2=\"121.9375\"/></a><a href=\"psysml:e3978575-11c4-4054-8f35-fdd3c4e4a8ed\" target=\"_top\" title=\"psysml:e3978575-11c4-4054-8f35-fdd3c4e4a8ed\" xlink:actuate=\"onRequest\" xlink:href=\"psysml:e3978575-11c4-4054-8f35-fdd3c4e4a8ed\" xlink:show=\"new\" xlink:title=\"psysml:e3978575-11c4-4054-8f35-fdd3c4e4a8ed\" xlink:type=\"simple\"><polygon fill=\"#FFFFFF\" points=\"56,165.5,88,165.5,95,187.7969,102,187.7969,102,218.0938,56,218.0938,56,165.5\" style=\"stroke: #000000; stroke-width: 1.5;\"/><line style=\"stroke: #000000; stroke-width: 1.5;\" x1=\"56\" x2=\"95\" y1=\"187.7969\" y2=\"187.7969\"/><text fill=\"#000000\" font-family=\"sans-serif\" font-size=\"14\" font-weight=\"bold\" lengthAdjust=\"spacingAndGlyphs\" textLength=\"26\" x=\"60\" y=\"180.4951\">P2a</text></a><!--MD5=[a717450b82c80b9240a525fa862496af]\n",
       "link E6 to E3--><a href=\"psysml:9b235a5a-e1e6-4e2e-a344-8e5fae0ff3e7\" target=\"_top\" title=\"psysml:9b235a5a-e1e6-4e2e-a344-8e5fae0ff3e7\" xlink:actuate=\"onRequest\" xlink:href=\"psysml:9b235a5a-e1e6-4e2e-a344-8e5fae0ff3e7\" xlink:show=\"new\" xlink:title=\"psysml:9b235a5a-e1e6-4e2e-a344-8e5fae0ff3e7\" xlink:type=\"simple\"><path d=\"M100.12,107 C111.68,107 126.78,107 141.48,107 \" fill=\"none\" id=\"E6-&gt;E3\" style=\"stroke: #383838; stroke-width: 1.0;\"/><polygon fill=\"#FFFFFF\" points=\"161.58,107,142.58,114,142.58,100,161.58,107\" style=\"stroke: #383838; stroke-width: 1.0;\"/><ellipse cx=\"136.88\" cy=\"112\" fill=\"#383838\" rx=\"2\" ry=\"2\" style=\"stroke: #383838; stroke-width: 1.0;\"/><ellipse cx=\"136.88\" cy=\"102\" fill=\"#383838\" rx=\"2\" ry=\"2\" style=\"stroke: #383838; stroke-width: 1.0;\"/></a><!--MD5=[00c833925fe801a565609d7d5c748888]\n",
       "@startuml\r\n",
       "left to right direction\r\n",
       "skinparam monochrome true\r\n",
       "skinparam classbackgroundcolor white\r\n",
       "skinparam shadowing false\r\n",
       "skinparam wrapWidth 300\r\n",
       "hide circle\r\n",
       "\r\n",
       "package \"QualifiedNameImportTest\" as E1  [[psysml:c8de649d-2dc2-4761-aec9-7bacaacfe515 ]]  {\r\n",
       "package \"P1\" as E2  [[psysml:6cc89760-fc75-419d-8f57-c720b4f2efbc ]]  {\r\n",
       "comp def \"A\" as E3  <<(T,blue) part def>> [[psysml:e98f2231-0909-453e-b014-2111b959b184 ]] {\r\n",
       "}\r\n",
       "}\r\n",
       "package \"P2\" as E4  [[psysml:42adecdc-f281-4f00-8fb0-2d405003d942 ]]  {\r\n",
       "package \"P2a\" as E5  [[psysml:e3978575-11c4-4054-8f35-fdd3c4e4a8ed ]]  {\r\n",
       "}\r\n",
       "comp usage \"x: A\" as E6  <<(T,blue) part>> [[psysml:7d458e03-6011-4476-9c3b-13cd018efbef ]] {\r\n",
       "}\r\n",
       "}\r\n",
       "}\r\n",
       "E6 - -:|> E3 [[psysml:9b235a5a-e1e6-4e2e-a344-8e5fae0ff3e7 ]] \r\n",
       "@enduml\r\n",
       "\n",
       "PlantUML version 1.2020.13(Sat Jun 13 12:26:38 UTC 2020)\n",
       "(EPL source distribution)\n",
       "Java Runtime: OpenJDK Runtime Environment\n",
       "JVM: OpenJDK 64-Bit Server VM\n",
       "Default Encoding: UTF-8\n",
       "Language: en\n",
       "Country: null\n",
       "--></g></svg>"
      ]
     },
     "execution_count": 16,
     "metadata": {},
     "output_type": "execute_result"
    }
   ],
   "source": [
    "%viz --style=\"LR\" --view=\"Default\" \"QualifiedNameImportTest\""
   ]
  },
  {
   "cell_type": "code",
   "execution_count": 17,
   "id": "9f50c147",
   "metadata": {
    "execution": {
     "iopub.execute_input": "2021-09-27T07:19:00.074666Z",
     "iopub.status.busy": "2021-09-27T07:19:00.074235Z",
     "iopub.status.idle": "2021-09-27T07:19:00.110527Z",
     "shell.execute_reply": "2021-09-27T07:19:00.110177Z"
    }
   },
   "outputs": [
    {
     "data": {
      "image/svg+xml": [
       "<?xml version=\"1.0\" encoding=\"UTF-8\" standalone=\"no\"?><svg xmlns=\"http://www.w3.org/2000/svg\" xmlns:xlink=\"http://www.w3.org/1999/xlink\" contentScriptType=\"application/ecmascript\" contentStyleType=\"text/css\" height=\"271px\" preserveAspectRatio=\"none\" style=\"width:290px;height:271px;\" version=\"1.1\" viewBox=\"0 0 290 271\" width=\"290px\" zoomAndPan=\"magnify\"><defs/><g><!--MD5=[fbc87193dbaf4d95561dea2c320d4a47]\n",
       "cluster E1--><a href=\"psysml:c8de649d-2dc2-4761-aec9-7bacaacfe515\" target=\"_top\" title=\"psysml:c8de649d-2dc2-4761-aec9-7bacaacfe515\" xlink:actuate=\"onRequest\" xlink:href=\"psysml:c8de649d-2dc2-4761-aec9-7bacaacfe515\" xlink:show=\"new\" xlink:title=\"psysml:c8de649d-2dc2-4761-aec9-7bacaacfe515\" xlink:type=\"simple\"><polygon fill=\"#FFFFFF\" points=\"16,6,196,6,203,28.2969,268,28.2969,268,259,16,259,16,6\" style=\"stroke: #000000; stroke-width: 1.5;\"/><line style=\"stroke: #000000; stroke-width: 1.5;\" x1=\"16\" x2=\"203\" y1=\"28.2969\" y2=\"28.2969\"/><text fill=\"#000000\" font-family=\"sans-serif\" font-size=\"14\" font-weight=\"bold\" lengthAdjust=\"spacingAndGlyphs\" textLength=\"174\" x=\"20\" y=\"20.9951\">QualifiedNameImportTest</text></a><!--MD5=[e4f7fae6ed58524ba242bb0b0d3be6b7]\n",
       "cluster E2--><a href=\"psysml:6cc89760-fc75-419d-8f57-c720b4f2efbc\" target=\"_top\" title=\"psysml:6cc89760-fc75-419d-8f57-c720b4f2efbc\" xlink:actuate=\"onRequest\" xlink:href=\"psysml:6cc89760-fc75-419d-8f57-c720b4f2efbc\" xlink:show=\"new\" xlink:title=\"psysml:6cc89760-fc75-419d-8f57-c720b4f2efbc\" xlink:type=\"simple\"><polygon fill=\"#FFFFFF\" points=\"146,49,170,49,177,71.2969,244,71.2969,244,146,146,146,146,49\" style=\"stroke: #000000; stroke-width: 1.5;\"/><line style=\"stroke: #000000; stroke-width: 1.5;\" x1=\"146\" x2=\"177\" y1=\"71.2969\" y2=\"71.2969\"/><text fill=\"#000000\" font-family=\"sans-serif\" font-size=\"14\" font-weight=\"bold\" lengthAdjust=\"spacingAndGlyphs\" textLength=\"18\" x=\"150\" y=\"63.9951\">P1</text></a><!--MD5=[f6df4d0ebaf0b5dfb2ced0ae5af7c670]\n",
       "cluster E4--><a href=\"psysml:42adecdc-f281-4f00-8fb0-2d405003d942\" target=\"_top\" title=\"psysml:42adecdc-f281-4f00-8fb0-2d405003d942\" xlink:actuate=\"onRequest\" xlink:href=\"psysml:42adecdc-f281-4f00-8fb0-2d405003d942\" xlink:show=\"new\" xlink:title=\"psysml:42adecdc-f281-4f00-8fb0-2d405003d942\" xlink:type=\"simple\"><polygon fill=\"#FFFFFF\" points=\"40,49,64,49,71,71.2969,118,71.2969,118,235,40,235,40,49\" style=\"stroke: #000000; stroke-width: 1.5;\"/><line style=\"stroke: #000000; stroke-width: 1.5;\" x1=\"40\" x2=\"71\" y1=\"71.2969\" y2=\"71.2969\"/><text fill=\"#000000\" font-family=\"sans-serif\" font-size=\"14\" font-weight=\"bold\" lengthAdjust=\"spacingAndGlyphs\" textLength=\"18\" x=\"44\" y=\"63.9951\">P2</text></a><!--MD5=[09b614a08d8cba4a07c9adeb5e0fee81]\n",
       "class E3--><a href=\"psysml:e98f2231-0909-453e-b014-2111b959b184\" target=\"_top\" title=\"psysml:e98f2231-0909-453e-b014-2111b959b184\" xlink:actuate=\"onRequest\" xlink:href=\"psysml:e98f2231-0909-453e-b014-2111b959b184\" xlink:show=\"new\" xlink:title=\"psysml:e98f2231-0909-453e-b014-2111b959b184\" xlink:type=\"simple\"><rect fill=\"#FFFFFF\" height=\"45.9375\" id=\"E3\" style=\"stroke: #383838; stroke-width: 1.5;\" width=\"66\" x=\"162\" y=\"84\"/><text fill=\"#000000\" font-family=\"sans-serif\" font-size=\"12\" font-style=\"italic\" lengthAdjust=\"spacingAndGlyphs\" textLength=\"64\" x=\"163\" y=\"100.1387\">«part def»</text><text fill=\"#000000\" font-family=\"sans-serif\" font-size=\"12\" lengthAdjust=\"spacingAndGlyphs\" textLength=\"8\" x=\"191\" y=\"114.1074\">A</text><line style=\"stroke: #383838; stroke-width: 1.5;\" x1=\"163\" x2=\"227\" y1=\"121.9375\" y2=\"121.9375\"/></a><!--MD5=[60a26617385b1d2d0262a64233df1f8d]\n",
       "class E6--><a href=\"psysml:7d458e03-6011-4476-9c3b-13cd018efbef\" target=\"_top\" title=\"psysml:7d458e03-6011-4476-9c3b-13cd018efbef\" xlink:actuate=\"onRequest\" xlink:href=\"psysml:7d458e03-6011-4476-9c3b-13cd018efbef\" xlink:show=\"new\" xlink:title=\"psysml:7d458e03-6011-4476-9c3b-13cd018efbef\" xlink:type=\"simple\"><rect fill=\"#FFFFFF\" height=\"45.9375\" id=\"E6\" rx=\"10\" ry=\"10\" style=\"stroke: #383838; stroke-width: 1.5;\" width=\"42\" x=\"58\" y=\"84\"/><text fill=\"#000000\" font-family=\"sans-serif\" font-size=\"12\" font-style=\"italic\" lengthAdjust=\"spacingAndGlyphs\" textLength=\"40\" x=\"59\" y=\"100.1387\">«part»</text><text fill=\"#000000\" font-family=\"sans-serif\" font-size=\"12\" lengthAdjust=\"spacingAndGlyphs\" textLength=\"22\" x=\"68\" y=\"114.1074\">x: A</text><line style=\"stroke: #383838; stroke-width: 1.5;\" x1=\"59\" x2=\"99\" y1=\"121.9375\" y2=\"121.9375\"/></a><a href=\"psysml:e3978575-11c4-4054-8f35-fdd3c4e4a8ed\" target=\"_top\" title=\"psysml:e3978575-11c4-4054-8f35-fdd3c4e4a8ed\" xlink:actuate=\"onRequest\" xlink:href=\"psysml:e3978575-11c4-4054-8f35-fdd3c4e4a8ed\" xlink:show=\"new\" xlink:title=\"psysml:e3978575-11c4-4054-8f35-fdd3c4e4a8ed\" xlink:type=\"simple\"><polygon fill=\"#FFFFFF\" points=\"56,165.5,88,165.5,95,187.7969,102,187.7969,102,218.0938,56,218.0938,56,165.5\" style=\"stroke: #000000; stroke-width: 1.5;\"/><line style=\"stroke: #000000; stroke-width: 1.5;\" x1=\"56\" x2=\"95\" y1=\"187.7969\" y2=\"187.7969\"/><text fill=\"#000000\" font-family=\"sans-serif\" font-size=\"14\" font-weight=\"bold\" lengthAdjust=\"spacingAndGlyphs\" textLength=\"26\" x=\"60\" y=\"180.4951\">P2a</text></a><!--MD5=[a717450b82c80b9240a525fa862496af]\n",
       "link E6 to E3--><a href=\"psysml:9b235a5a-e1e6-4e2e-a344-8e5fae0ff3e7\" target=\"_top\" title=\"psysml:9b235a5a-e1e6-4e2e-a344-8e5fae0ff3e7\" xlink:actuate=\"onRequest\" xlink:href=\"psysml:9b235a5a-e1e6-4e2e-a344-8e5fae0ff3e7\" xlink:show=\"new\" xlink:title=\"psysml:9b235a5a-e1e6-4e2e-a344-8e5fae0ff3e7\" xlink:type=\"simple\"><path d=\"M100.12,107 C111.68,107 126.78,107 141.48,107 \" fill=\"none\" id=\"E6-&gt;E3\" style=\"stroke: #383838; stroke-width: 1.0;\"/><polygon fill=\"#FFFFFF\" points=\"161.58,107,142.58,114,142.58,100,161.58,107\" style=\"stroke: #383838; stroke-width: 1.0;\"/><ellipse cx=\"136.88\" cy=\"112\" fill=\"#383838\" rx=\"2\" ry=\"2\" style=\"stroke: #383838; stroke-width: 1.0;\"/><ellipse cx=\"136.88\" cy=\"102\" fill=\"#383838\" rx=\"2\" ry=\"2\" style=\"stroke: #383838; stroke-width: 1.0;\"/></a><!--MD5=[00c833925fe801a565609d7d5c748888]\n",
       "@startuml\r\n",
       "left to right direction\r\n",
       "skinparam monochrome true\r\n",
       "skinparam classbackgroundcolor white\r\n",
       "skinparam shadowing false\r\n",
       "skinparam wrapWidth 300\r\n",
       "hide circle\r\n",
       "\r\n",
       "package \"QualifiedNameImportTest\" as E1  [[psysml:c8de649d-2dc2-4761-aec9-7bacaacfe515 ]]  {\r\n",
       "package \"P1\" as E2  [[psysml:6cc89760-fc75-419d-8f57-c720b4f2efbc ]]  {\r\n",
       "comp def \"A\" as E3  <<(T,blue) part def>> [[psysml:e98f2231-0909-453e-b014-2111b959b184 ]] {\r\n",
       "}\r\n",
       "}\r\n",
       "package \"P2\" as E4  [[psysml:42adecdc-f281-4f00-8fb0-2d405003d942 ]]  {\r\n",
       "package \"P2a\" as E5  [[psysml:e3978575-11c4-4054-8f35-fdd3c4e4a8ed ]]  {\r\n",
       "}\r\n",
       "comp usage \"x: A\" as E6  <<(T,blue) part>> [[psysml:7d458e03-6011-4476-9c3b-13cd018efbef ]] {\r\n",
       "}\r\n",
       "}\r\n",
       "}\r\n",
       "E6 - -:|> E3 [[psysml:9b235a5a-e1e6-4e2e-a344-8e5fae0ff3e7 ]] \r\n",
       "@enduml\r\n",
       "\n",
       "PlantUML version 1.2020.13(Sat Jun 13 12:26:38 UTC 2020)\n",
       "(EPL source distribution)\n",
       "Java Runtime: OpenJDK Runtime Environment\n",
       "JVM: OpenJDK 64-Bit Server VM\n",
       "Default Encoding: UTF-8\n",
       "Language: en\n",
       "Country: null\n",
       "--></g></svg>"
      ]
     },
     "execution_count": 17,
     "metadata": {},
     "output_type": "execute_result"
    }
   ],
   "source": [
    "%viz --style=\"LR\" --view=\"Tree\" \"QualifiedNameImportTest\""
   ]
  },
  {
   "cell_type": "code",
   "execution_count": 18,
   "id": "9eece113",
   "metadata": {
    "execution": {
     "iopub.execute_input": "2021-09-27T07:19:00.160255Z",
     "iopub.status.busy": "2021-09-27T07:19:00.159822Z",
     "iopub.status.idle": "2021-09-27T07:19:00.163523Z",
     "shell.execute_reply": "2021-09-27T07:19:00.163816Z"
    }
   },
   "outputs": [
    {
     "data": {
      "image/svg+xml": [
       "<?xml version=\"1.0\" encoding=\"UTF-8\" standalone=\"no\"?><svg xmlns=\"http://www.w3.org/2000/svg\" xmlns:xlink=\"http://www.w3.org/1999/xlink\" contentScriptType=\"application/ecmascript\" contentStyleType=\"text/css\" height=\"12px\" preserveAspectRatio=\"none\" style=\"width:12px;height:12px;\" version=\"1.1\" viewBox=\"0 0 12 12\" width=\"12px\" zoomAndPan=\"magnify\"><defs/><g><!--MD5=[19d285c9d72a204eba4e2cd117d745e8]\n",
       "@startuml\r\n",
       "left to right direction\r\n",
       "skinparam monochrome true\r\n",
       "skinparam classbackgroundcolor white\r\n",
       "skinparam shadowing false\r\n",
       "skinparam wrapWidth 300\r\n",
       "hide circle\r\n",
       "\r\n",
       "@enduml\r\n",
       "\n",
       "PlantUML version 1.2020.13(Sat Jun 13 12:26:38 UTC 2020)\n",
       "(EPL source distribution)\n",
       "Java Runtime: OpenJDK Runtime Environment\n",
       "JVM: OpenJDK 64-Bit Server VM\n",
       "Default Encoding: UTF-8\n",
       "Language: en\n",
       "Country: null\n",
       "--></g></svg>"
      ]
     },
     "execution_count": 18,
     "metadata": {},
     "output_type": "execute_result"
    }
   ],
   "source": [
    "%viz --style=\"LR\" --view=\"State\" \"QualifiedNameImportTest\""
   ]
  },
  {
   "cell_type": "code",
   "execution_count": 19,
   "id": "5353085c",
   "metadata": {
    "execution": {
     "iopub.execute_input": "2021-09-27T07:19:00.214165Z",
     "iopub.status.busy": "2021-09-27T07:19:00.213693Z",
     "iopub.status.idle": "2021-09-27T07:19:00.250788Z",
     "shell.execute_reply": "2021-09-27T07:19:00.250404Z"
    }
   },
   "outputs": [
    {
     "data": {
      "image/svg+xml": [
       "<?xml version=\"1.0\" encoding=\"UTF-8\" standalone=\"no\"?><svg xmlns=\"http://www.w3.org/2000/svg\" xmlns:xlink=\"http://www.w3.org/1999/xlink\" contentScriptType=\"application/ecmascript\" contentStyleType=\"text/css\" height=\"384px\" preserveAspectRatio=\"none\" style=\"width:228px;height:384px;\" version=\"1.1\" viewBox=\"0 0 228 384\" width=\"228px\" zoomAndPan=\"magnify\"><defs/><g><!--MD5=[fbc87193dbaf4d95561dea2c320d4a47]\n",
       "cluster E1--><a href=\"psysml:c8de649d-2dc2-4761-aec9-7bacaacfe515\" target=\"_top\" title=\"psysml:c8de649d-2dc2-4761-aec9-7bacaacfe515\" xlink:actuate=\"onRequest\" xlink:href=\"psysml:c8de649d-2dc2-4761-aec9-7bacaacfe515\" xlink:show=\"new\" xlink:title=\"psysml:c8de649d-2dc2-4761-aec9-7bacaacfe515\" xlink:type=\"simple\"><polygon fill=\"#FFFFFF\" points=\"16,6,196,6,203,28.2969,206,28.2969,206,372,16,372,16,6\" style=\"stroke: #000000; stroke-width: 1.5;\"/><line style=\"stroke: #000000; stroke-width: 1.5;\" x1=\"16\" x2=\"203\" y1=\"28.2969\" y2=\"28.2969\"/><text fill=\"#000000\" font-family=\"sans-serif\" font-size=\"14\" font-weight=\"bold\" lengthAdjust=\"spacingAndGlyphs\" textLength=\"174\" x=\"20\" y=\"20.9951\">QualifiedNameImportTest</text></a><!--MD5=[e4f7fae6ed58524ba242bb0b0d3be6b7]\n",
       "cluster E2--><a href=\"psysml:6cc89760-fc75-419d-8f57-c720b4f2efbc\" target=\"_top\" title=\"psysml:6cc89760-fc75-419d-8f57-c720b4f2efbc\" xlink:actuate=\"onRequest\" xlink:href=\"psysml:6cc89760-fc75-419d-8f57-c720b4f2efbc\" xlink:show=\"new\" xlink:title=\"psysml:6cc89760-fc75-419d-8f57-c720b4f2efbc\" xlink:type=\"simple\"><polygon fill=\"#FFFFFF\" points=\"59,49,83,49,90,71.2969,162,71.2969,162,144,59,144,59,49\" style=\"stroke: #000000; stroke-width: 1.5;\"/><line style=\"stroke: #000000; stroke-width: 1.5;\" x1=\"59\" x2=\"90\" y1=\"71.2969\" y2=\"71.2969\"/><text fill=\"#000000\" font-family=\"sans-serif\" font-size=\"14\" font-weight=\"bold\" lengthAdjust=\"spacingAndGlyphs\" textLength=\"18\" x=\"63\" y=\"63.9951\">P1</text></a><!--MD5=[f6df4d0ebaf0b5dfb2ced0ae5af7c670]\n",
       "cluster E4--><a href=\"psysml:42adecdc-f281-4f00-8fb0-2d405003d942\" target=\"_top\" title=\"psysml:42adecdc-f281-4f00-8fb0-2d405003d942\" xlink:actuate=\"onRequest\" xlink:href=\"psysml:42adecdc-f281-4f00-8fb0-2d405003d942\" xlink:show=\"new\" xlink:title=\"psysml:42adecdc-f281-4f00-8fb0-2d405003d942\" xlink:type=\"simple\"><polygon fill=\"#FFFFFF\" points=\"69.5,168,93.5,168,100.5,190.2969,151.5,190.2969,151.5,348,69.5,348,69.5,168\" style=\"stroke: #000000; stroke-width: 1.5;\"/><line style=\"stroke: #000000; stroke-width: 1.5;\" x1=\"69.5\" x2=\"100.5\" y1=\"190.2969\" y2=\"190.2969\"/><text fill=\"#000000\" font-family=\"sans-serif\" font-size=\"14\" font-weight=\"bold\" lengthAdjust=\"spacingAndGlyphs\" textLength=\"18\" x=\"73.5\" y=\"182.9951\">P2</text></a><g id=\"E1.E2.E3\"><a href=\"psysml:e98f2231-0909-453e-b014-2111b959b184\" target=\"_top\" title=\"psysml:e98f2231-0909-453e-b014-2111b959b184\" xlink:actuate=\"onRequest\" xlink:href=\"psysml:e98f2231-0909-453e-b014-2111b959b184\" xlink:show=\"new\" xlink:title=\"psysml:e98f2231-0909-453e-b014-2111b959b184\" xlink:type=\"simple\"><rect fill=\"#FFFFFF\" height=\"42.9375\" id=\"E3\" style=\"stroke: #383838; stroke-width: 1.5;\" width=\"71\" x=\"75\" y=\"84.5\"/><rect fill=\"#F8F8F8\" height=\"37.9375\" style=\"stroke: #383838; stroke-width: 1.5;\" width=\"71\" x=\"75\" y=\"84.5\"/><text fill=\"#000000\" font-family=\"sans-serif\" font-size=\"12\" font-style=\"italic\" lengthAdjust=\"spacingAndGlyphs\" textLength=\"64\" x=\"78.5\" y=\"100.6387\">«part def»</text><text fill=\"#000000\" font-family=\"sans-serif\" font-size=\"12\" lengthAdjust=\"spacingAndGlyphs\" textLength=\"8\" x=\"106.5\" y=\"114.6074\">A</text></a></g><a href=\"psysml:e3978575-11c4-4054-8f35-fdd3c4e4a8ed\" target=\"_top\" title=\"psysml:e3978575-11c4-4054-8f35-fdd3c4e4a8ed\" xlink:actuate=\"onRequest\" xlink:href=\"psysml:e3978575-11c4-4054-8f35-fdd3c4e4a8ed\" xlink:show=\"new\" xlink:title=\"psysml:e3978575-11c4-4054-8f35-fdd3c4e4a8ed\" xlink:type=\"simple\"><polygon fill=\"#FFFFFF\" points=\"87.5,203.5,119.5,203.5,126.5,225.7969,133.5,225.7969,133.5,256.0938,87.5,256.0938,87.5,203.5\" style=\"stroke: #000000; stroke-width: 1.5;\"/><line style=\"stroke: #000000; stroke-width: 1.5;\" x1=\"87.5\" x2=\"126.5\" y1=\"225.7969\" y2=\"225.7969\"/><text fill=\"#000000\" font-family=\"sans-serif\" font-size=\"14\" font-weight=\"bold\" lengthAdjust=\"spacingAndGlyphs\" textLength=\"26\" x=\"91.5\" y=\"218.4951\">P2a</text></a><g id=\"E1.E4.E6\"><a href=\"psysml:7d458e03-6011-4476-9c3b-13cd018efbef\" target=\"_top\" title=\"psysml:7d458e03-6011-4476-9c3b-13cd018efbef\" xlink:actuate=\"onRequest\" xlink:href=\"psysml:7d458e03-6011-4476-9c3b-13cd018efbef\" xlink:show=\"new\" xlink:title=\"psysml:7d458e03-6011-4476-9c3b-13cd018efbef\" xlink:type=\"simple\"><rect fill=\"#FFFFFF\" height=\"40\" id=\"E6\" rx=\"10\" ry=\"10\" style=\"stroke: #383838; stroke-width: 1.5;\" width=\"50\" x=\"85.5\" y=\"292\"/><rect fill=\"#F8F8F8\" height=\"23.9688\" rx=\"10\" ry=\"10\" style=\"stroke: #F8F8F8; stroke-width: 1.5;\" width=\"50\" x=\"85.5\" y=\"292\"/><rect fill=\"#F8F8F8\" height=\"10\" style=\"stroke: #F8F8F8; stroke-width: 1.5;\" width=\"50\" x=\"85.5\" y=\"305.9688\"/><rect fill=\"none\" height=\"40\" id=\"E6\" rx=\"10\" ry=\"10\" style=\"stroke: #383838; stroke-width: 1.5;\" width=\"50\" x=\"85.5\" y=\"292\"/><text fill=\"#000000\" font-family=\"sans-serif\" font-size=\"12\" lengthAdjust=\"spacingAndGlyphs\" textLength=\"22\" x=\"99.5\" y=\"308.1387\">x: A</text></a></g><!--MD5=[09f88b0def951a82731b8318fb5de15c]\n",
       "@startuml\r\n",
       "skinparam ranksep 10\r\n",
       "skinparam rectangle {\r\n",
       " backgroundColor<<block>> LightGreen\r\n",
       "}\r\n",
       "left to right direction\r\n",
       "skinparam monochrome true\r\n",
       "skinparam classbackgroundcolor white\r\n",
       "skinparam shadowing false\r\n",
       "skinparam wrapWidth 300\r\n",
       "hide circle\r\n",
       "\r\n",
       "package \"QualifiedNameImportTest\" as E1  [[psysml:c8de649d-2dc2-4761-aec9-7bacaacfe515 ]]  {\r\n",
       "package \"P1\" as E2  [[psysml:6cc89760-fc75-419d-8f57-c720b4f2efbc ]]  {\r\n",
       "rec def \"A\" as E3  <<(T,blue) part def>> [[psysml:e98f2231-0909-453e-b014-2111b959b184 ]] {\r\n",
       "}\r\n",
       "}\r\n",
       "package \"P2\" as E4  [[psysml:42adecdc-f281-4f00-8fb0-2d405003d942 ]]  {\r\n",
       "package \"P2a\" as E5  [[psysml:e3978575-11c4-4054-8f35-fdd3c4e4a8ed ]]  {\r\n",
       "}\r\n",
       "rec usage \"x: A\" as E6  [[psysml:7d458e03-6011-4476-9c3b-13cd018efbef ]] {\r\n",
       "}\r\n",
       "}\r\n",
       "}\r\n",
       "@enduml\r\n",
       "\n",
       "PlantUML version 1.2020.13(Sat Jun 13 12:26:38 UTC 2020)\n",
       "(EPL source distribution)\n",
       "Java Runtime: OpenJDK Runtime Environment\n",
       "JVM: OpenJDK 64-Bit Server VM\n",
       "Default Encoding: UTF-8\n",
       "Language: en\n",
       "Country: null\n",
       "--></g></svg>"
      ]
     },
     "execution_count": 19,
     "metadata": {},
     "output_type": "execute_result"
    }
   ],
   "source": [
    "%viz --style=\"LR\" --view=\"Interconnection\" \"QualifiedNameImportTest\""
   ]
  },
  {
   "cell_type": "code",
   "execution_count": 20,
   "id": "a4756410",
   "metadata": {
    "execution": {
     "iopub.execute_input": "2021-09-27T07:19:00.300975Z",
     "iopub.status.busy": "2021-09-27T07:19:00.300341Z",
     "iopub.status.idle": "2021-09-27T07:19:00.306696Z",
     "shell.execute_reply": "2021-09-27T07:19:00.306334Z"
    }
   },
   "outputs": [
    {
     "data": {
      "image/svg+xml": [
       "<?xml version=\"1.0\" encoding=\"UTF-8\" standalone=\"no\"?><svg xmlns=\"http://www.w3.org/2000/svg\" xmlns:xlink=\"http://www.w3.org/1999/xlink\" contentScriptType=\"application/ecmascript\" contentStyleType=\"text/css\" height=\"12px\" preserveAspectRatio=\"none\" style=\"width:12px;height:12px;\" version=\"1.1\" viewBox=\"0 0 12 12\" width=\"12px\" zoomAndPan=\"magnify\"><defs/><g><!--MD5=[7aeb398939421629f6affaa4a1a7b125]\n",
       "@startuml\r\n",
       "skinparam ranksep 8\r\n",
       "left to right direction\r\n",
       "skinparam monochrome true\r\n",
       "skinparam classbackgroundcolor white\r\n",
       "skinparam shadowing false\r\n",
       "skinparam wrapWidth 300\r\n",
       "hide circle\r\n",
       "\r\n",
       "@enduml\r\n",
       "\n",
       "PlantUML version 1.2020.13(Sat Jun 13 12:26:38 UTC 2020)\n",
       "(EPL source distribution)\n",
       "Java Runtime: OpenJDK Runtime Environment\n",
       "JVM: OpenJDK 64-Bit Server VM\n",
       "Default Encoding: UTF-8\n",
       "Language: en\n",
       "Country: null\n",
       "--></g></svg>"
      ]
     },
     "execution_count": 20,
     "metadata": {},
     "output_type": "execute_result"
    }
   ],
   "source": [
    "%viz --style=\"LR\" --view=\"Action\" \"QualifiedNameImportTest\""
   ]
  },
  {
   "cell_type": "code",
   "execution_count": 21,
   "id": "448c1ac8",
   "metadata": {
    "execution": {
     "iopub.execute_input": "2021-09-27T07:19:00.357256Z",
     "iopub.status.busy": "2021-09-27T07:19:00.356627Z",
     "iopub.status.idle": "2021-09-27T07:19:00.363469Z",
     "shell.execute_reply": "2021-09-27T07:19:00.363113Z"
    }
   },
   "outputs": [
    {
     "data": {
      "image/svg+xml": [
       "<?xml version=\"1.0\" encoding=\"UTF-8\" standalone=\"no\"?><svg xmlns=\"http://www.w3.org/2000/svg\" xmlns:xlink=\"http://www.w3.org/1999/xlink\" contentScriptType=\"application/ecmascript\" contentStyleType=\"text/css\" height=\"12px\" preserveAspectRatio=\"none\" style=\"width:12px;height:12px;\" version=\"1.1\" viewBox=\"0 0 12 12\" width=\"12px\" zoomAndPan=\"magnify\"><defs/><g><!--MD5=[238c11ea2002f03115ad6b49a457d50e]\n",
       "@startuml\r\n",
       "skinparam roundcorner 20\r\n",
       "skinparam BoxPadding 20\r\n",
       "skinparam SequenceBoxBackgroundColor #white\r\n",
       "skinparam style strictuml\r\n",
       "skinparam maxMessageSize 100\r\n",
       "left to right direction\r\n",
       "skinparam monochrome true\r\n",
       "skinparam classbackgroundcolor white\r\n",
       "skinparam shadowing false\r\n",
       "skinparam wrapWidth 300\r\n",
       "hide circle\r\n",
       "\r\n",
       "@enduml\r\n",
       "\n",
       "PlantUML version 1.2020.13(Sat Jun 13 12:26:38 UTC 2020)\n",
       "(EPL source distribution)\n",
       "Java Runtime: OpenJDK Runtime Environment\n",
       "JVM: OpenJDK 64-Bit Server VM\n",
       "Default Encoding: UTF-8\n",
       "Language: en\n",
       "Country: null\n",
       "--></g></svg>"
      ]
     },
     "execution_count": 21,
     "metadata": {},
     "output_type": "execute_result"
    }
   ],
   "source": [
    "%viz --style=\"LR\" --view=\"Sequence\" \"QualifiedNameImportTest\""
   ]
  },
  {
   "cell_type": "code",
   "execution_count": 22,
   "id": "05eec946",
   "metadata": {
    "execution": {
     "iopub.execute_input": "2021-09-27T07:19:00.413727Z",
     "iopub.status.busy": "2021-09-27T07:19:00.413150Z",
     "iopub.status.idle": "2021-09-27T07:19:00.447324Z",
     "shell.execute_reply": "2021-09-27T07:19:00.446941Z"
    }
   },
   "outputs": [
    {
     "data": {
      "image/svg+xml": [
       "<?xml version=\"1.0\" encoding=\"UTF-8\" standalone=\"no\"?><svg xmlns=\"http://www.w3.org/2000/svg\" xmlns:xlink=\"http://www.w3.org/1999/xlink\" contentScriptType=\"application/ecmascript\" contentStyleType=\"text/css\" height=\"271px\" preserveAspectRatio=\"none\" style=\"width:290px;height:271px;\" version=\"1.1\" viewBox=\"0 0 290 271\" width=\"290px\" zoomAndPan=\"magnify\"><defs/><g><!--MD5=[fbc87193dbaf4d95561dea2c320d4a47]\n",
       "cluster E1--><a href=\"psysml:c8de649d-2dc2-4761-aec9-7bacaacfe515\" target=\"_top\" title=\"psysml:c8de649d-2dc2-4761-aec9-7bacaacfe515\" xlink:actuate=\"onRequest\" xlink:href=\"psysml:c8de649d-2dc2-4761-aec9-7bacaacfe515\" xlink:show=\"new\" xlink:title=\"psysml:c8de649d-2dc2-4761-aec9-7bacaacfe515\" xlink:type=\"simple\"><polygon fill=\"#FFFFFF\" points=\"16,6,196,6,203,28.2969,268,28.2969,268,259,16,259,16,6\" style=\"stroke: #000000; stroke-width: 1.5;\"/><line style=\"stroke: #000000; stroke-width: 1.5;\" x1=\"16\" x2=\"203\" y1=\"28.2969\" y2=\"28.2969\"/><text fill=\"#000000\" font-family=\"sans-serif\" font-size=\"14\" font-weight=\"bold\" lengthAdjust=\"spacingAndGlyphs\" textLength=\"174\" x=\"20\" y=\"20.9951\">QualifiedNameImportTest</text></a><!--MD5=[e4f7fae6ed58524ba242bb0b0d3be6b7]\n",
       "cluster E2--><a href=\"psysml:6cc89760-fc75-419d-8f57-c720b4f2efbc\" target=\"_top\" title=\"psysml:6cc89760-fc75-419d-8f57-c720b4f2efbc\" xlink:actuate=\"onRequest\" xlink:href=\"psysml:6cc89760-fc75-419d-8f57-c720b4f2efbc\" xlink:show=\"new\" xlink:title=\"psysml:6cc89760-fc75-419d-8f57-c720b4f2efbc\" xlink:type=\"simple\"><polygon fill=\"#FFFFFF\" points=\"146,49,170,49,177,71.2969,244,71.2969,244,146,146,146,146,49\" style=\"stroke: #000000; stroke-width: 1.5;\"/><line style=\"stroke: #000000; stroke-width: 1.5;\" x1=\"146\" x2=\"177\" y1=\"71.2969\" y2=\"71.2969\"/><text fill=\"#000000\" font-family=\"sans-serif\" font-size=\"14\" font-weight=\"bold\" lengthAdjust=\"spacingAndGlyphs\" textLength=\"18\" x=\"150\" y=\"63.9951\">P1</text></a><!--MD5=[f6df4d0ebaf0b5dfb2ced0ae5af7c670]\n",
       "cluster E4--><a href=\"psysml:42adecdc-f281-4f00-8fb0-2d405003d942\" target=\"_top\" title=\"psysml:42adecdc-f281-4f00-8fb0-2d405003d942\" xlink:actuate=\"onRequest\" xlink:href=\"psysml:42adecdc-f281-4f00-8fb0-2d405003d942\" xlink:show=\"new\" xlink:title=\"psysml:42adecdc-f281-4f00-8fb0-2d405003d942\" xlink:type=\"simple\"><polygon fill=\"#FFFFFF\" points=\"40,49,64,49,71,71.2969,118,71.2969,118,235,40,235,40,49\" style=\"stroke: #000000; stroke-width: 1.5;\"/><line style=\"stroke: #000000; stroke-width: 1.5;\" x1=\"40\" x2=\"71\" y1=\"71.2969\" y2=\"71.2969\"/><text fill=\"#000000\" font-family=\"sans-serif\" font-size=\"14\" font-weight=\"bold\" lengthAdjust=\"spacingAndGlyphs\" textLength=\"18\" x=\"44\" y=\"63.9951\">P2</text></a><!--MD5=[09b614a08d8cba4a07c9adeb5e0fee81]\n",
       "class E3--><a href=\"psysml:e98f2231-0909-453e-b014-2111b959b184\" target=\"_top\" title=\"psysml:e98f2231-0909-453e-b014-2111b959b184\" xlink:actuate=\"onRequest\" xlink:href=\"psysml:e98f2231-0909-453e-b014-2111b959b184\" xlink:show=\"new\" xlink:title=\"psysml:e98f2231-0909-453e-b014-2111b959b184\" xlink:type=\"simple\"><rect fill=\"#FFFFFF\" height=\"45.9375\" id=\"E3\" style=\"stroke: #383838; stroke-width: 1.5;\" width=\"66\" x=\"162\" y=\"84\"/><text fill=\"#000000\" font-family=\"sans-serif\" font-size=\"12\" font-style=\"italic\" lengthAdjust=\"spacingAndGlyphs\" textLength=\"64\" x=\"163\" y=\"100.1387\">«part def»</text><text fill=\"#000000\" font-family=\"sans-serif\" font-size=\"12\" lengthAdjust=\"spacingAndGlyphs\" textLength=\"8\" x=\"191\" y=\"114.1074\">A</text><line style=\"stroke: #383838; stroke-width: 1.5;\" x1=\"163\" x2=\"227\" y1=\"121.9375\" y2=\"121.9375\"/></a><!--MD5=[60a26617385b1d2d0262a64233df1f8d]\n",
       "class E6--><a href=\"psysml:7d458e03-6011-4476-9c3b-13cd018efbef\" target=\"_top\" title=\"psysml:7d458e03-6011-4476-9c3b-13cd018efbef\" xlink:actuate=\"onRequest\" xlink:href=\"psysml:7d458e03-6011-4476-9c3b-13cd018efbef\" xlink:show=\"new\" xlink:title=\"psysml:7d458e03-6011-4476-9c3b-13cd018efbef\" xlink:type=\"simple\"><rect fill=\"#FFFFFF\" height=\"45.9375\" id=\"E6\" rx=\"10\" ry=\"10\" style=\"stroke: #383838; stroke-width: 1.5;\" width=\"42\" x=\"58\" y=\"84\"/><text fill=\"#000000\" font-family=\"sans-serif\" font-size=\"12\" font-style=\"italic\" lengthAdjust=\"spacingAndGlyphs\" textLength=\"40\" x=\"59\" y=\"100.1387\">«part»</text><text fill=\"#000000\" font-family=\"sans-serif\" font-size=\"12\" lengthAdjust=\"spacingAndGlyphs\" textLength=\"22\" x=\"68\" y=\"114.1074\">x: A</text><line style=\"stroke: #383838; stroke-width: 1.5;\" x1=\"59\" x2=\"99\" y1=\"121.9375\" y2=\"121.9375\"/></a><a href=\"psysml:e3978575-11c4-4054-8f35-fdd3c4e4a8ed\" target=\"_top\" title=\"psysml:e3978575-11c4-4054-8f35-fdd3c4e4a8ed\" xlink:actuate=\"onRequest\" xlink:href=\"psysml:e3978575-11c4-4054-8f35-fdd3c4e4a8ed\" xlink:show=\"new\" xlink:title=\"psysml:e3978575-11c4-4054-8f35-fdd3c4e4a8ed\" xlink:type=\"simple\"><polygon fill=\"#FFFFFF\" points=\"56,165.5,88,165.5,95,187.7969,102,187.7969,102,218.0938,56,218.0938,56,165.5\" style=\"stroke: #000000; stroke-width: 1.5;\"/><line style=\"stroke: #000000; stroke-width: 1.5;\" x1=\"56\" x2=\"95\" y1=\"187.7969\" y2=\"187.7969\"/><text fill=\"#000000\" font-family=\"sans-serif\" font-size=\"14\" font-weight=\"bold\" lengthAdjust=\"spacingAndGlyphs\" textLength=\"26\" x=\"60\" y=\"180.4951\">P2a</text></a><!--MD5=[a717450b82c80b9240a525fa862496af]\n",
       "link E6 to E3--><a href=\"psysml:9b235a5a-e1e6-4e2e-a344-8e5fae0ff3e7\" target=\"_top\" title=\"psysml:9b235a5a-e1e6-4e2e-a344-8e5fae0ff3e7\" xlink:actuate=\"onRequest\" xlink:href=\"psysml:9b235a5a-e1e6-4e2e-a344-8e5fae0ff3e7\" xlink:show=\"new\" xlink:title=\"psysml:9b235a5a-e1e6-4e2e-a344-8e5fae0ff3e7\" xlink:type=\"simple\"><path d=\"M100.12,107 C111.68,107 126.78,107 141.48,107 \" fill=\"none\" id=\"E6-&gt;E3\" style=\"stroke: #383838; stroke-width: 1.0;\"/><polygon fill=\"#FFFFFF\" points=\"161.58,107,142.58,114,142.58,100,161.58,107\" style=\"stroke: #383838; stroke-width: 1.0;\"/><ellipse cx=\"136.88\" cy=\"112\" fill=\"#383838\" rx=\"2\" ry=\"2\" style=\"stroke: #383838; stroke-width: 1.0;\"/><ellipse cx=\"136.88\" cy=\"102\" fill=\"#383838\" rx=\"2\" ry=\"2\" style=\"stroke: #383838; stroke-width: 1.0;\"/></a><!--MD5=[00c833925fe801a565609d7d5c748888]\n",
       "@startuml\r\n",
       "left to right direction\r\n",
       "skinparam monochrome true\r\n",
       "skinparam classbackgroundcolor white\r\n",
       "skinparam shadowing false\r\n",
       "skinparam wrapWidth 300\r\n",
       "hide circle\r\n",
       "\r\n",
       "package \"QualifiedNameImportTest\" as E1  [[psysml:c8de649d-2dc2-4761-aec9-7bacaacfe515 ]]  {\r\n",
       "package \"P1\" as E2  [[psysml:6cc89760-fc75-419d-8f57-c720b4f2efbc ]]  {\r\n",
       "comp def \"A\" as E3  <<(T,blue) part def>> [[psysml:e98f2231-0909-453e-b014-2111b959b184 ]] {\r\n",
       "}\r\n",
       "}\r\n",
       "package \"P2\" as E4  [[psysml:42adecdc-f281-4f00-8fb0-2d405003d942 ]]  {\r\n",
       "package \"P2a\" as E5  [[psysml:e3978575-11c4-4054-8f35-fdd3c4e4a8ed ]]  {\r\n",
       "}\r\n",
       "comp usage \"x: A\" as E6  <<(T,blue) part>> [[psysml:7d458e03-6011-4476-9c3b-13cd018efbef ]] {\r\n",
       "}\r\n",
       "}\r\n",
       "}\r\n",
       "E6 - -:|> E3 [[psysml:9b235a5a-e1e6-4e2e-a344-8e5fae0ff3e7 ]] \r\n",
       "@enduml\r\n",
       "\n",
       "PlantUML version 1.2020.13(Sat Jun 13 12:26:38 UTC 2020)\n",
       "(EPL source distribution)\n",
       "Java Runtime: OpenJDK Runtime Environment\n",
       "JVM: OpenJDK 64-Bit Server VM\n",
       "Default Encoding: UTF-8\n",
       "Language: en\n",
       "Country: null\n",
       "--></g></svg>"
      ]
     },
     "execution_count": 22,
     "metadata": {},
     "output_type": "execute_result"
    }
   ],
   "source": [
    "%viz --style=\"LR\" --view=\"MIXED\" \"QualifiedNameImportTest\""
   ]
  },
  {
   "cell_type": "code",
   "execution_count": 23,
   "id": "f3b38980",
   "metadata": {
    "execution": {
     "iopub.execute_input": "2021-09-27T07:19:00.497327Z",
     "iopub.status.busy": "2021-09-27T07:19:00.496714Z",
     "iopub.status.idle": "2021-09-27T07:19:00.524197Z",
     "shell.execute_reply": "2021-09-27T07:19:00.523824Z"
    }
   },
   "outputs": [
    {
     "data": {
      "image/svg+xml": [
       "<?xml version=\"1.0\" encoding=\"UTF-8\" standalone=\"no\"?><svg xmlns=\"http://www.w3.org/2000/svg\" xmlns:xlink=\"http://www.w3.org/1999/xlink\" contentScriptType=\"application/ecmascript\" contentStyleType=\"text/css\" height=\"310px\" preserveAspectRatio=\"none\" style=\"width:241px;height:310px;\" version=\"1.1\" viewBox=\"0 0 241 310\" width=\"241px\" zoomAndPan=\"magnify\"><defs><filter height=\"300%\" id=\"fxyhd7jsnlthg\" width=\"300%\" x=\"-1\" y=\"-1\"><feGaussianBlur result=\"blurOut\" stdDeviation=\"2.0\"/><feColorMatrix in=\"blurOut\" result=\"blurOut2\" type=\"matrix\" values=\"0 0 0 0 0 0 0 0 0 0 0 0 0 0 0 0 0 0 .4 0\"/><feOffset dx=\"4.0\" dy=\"4.0\" in=\"blurOut2\" result=\"blurOut3\"/><feBlend in=\"SourceGraphic\" in2=\"blurOut3\" mode=\"normal\"/></filter></defs><g><!--MD5=[fbc87193dbaf4d95561dea2c320d4a47]\n",
       "cluster E1--><a href=\"psysml:c8de649d-2dc2-4761-aec9-7bacaacfe515\" target=\"_top\" title=\"psysml:c8de649d-2dc2-4761-aec9-7bacaacfe515\" xlink:actuate=\"onRequest\" xlink:href=\"psysml:c8de649d-2dc2-4761-aec9-7bacaacfe515\" xlink:show=\"new\" xlink:title=\"psysml:c8de649d-2dc2-4761-aec9-7bacaacfe515\" xlink:type=\"simple\"><polygon fill=\"#FFFFFF\" filter=\"url(#fxyhd7jsnlthg)\" points=\"16,6,196,6,203,28.2969,219,28.2969,219,298,16,298,16,6\" style=\"stroke: #000000; stroke-width: 1.5;\"/><line style=\"stroke: #000000; stroke-width: 1.5;\" x1=\"16\" x2=\"203\" y1=\"28.2969\" y2=\"28.2969\"/><text fill=\"#000000\" font-family=\"sans-serif\" font-size=\"14\" font-weight=\"bold\" lengthAdjust=\"spacingAndGlyphs\" textLength=\"174\" x=\"20\" y=\"20.9951\">QualifiedNameImportTest</text></a><!--MD5=[e4f7fae6ed58524ba242bb0b0d3be6b7]\n",
       "cluster E2--><a href=\"psysml:6cc89760-fc75-419d-8f57-c720b4f2efbc\" target=\"_top\" title=\"psysml:6cc89760-fc75-419d-8f57-c720b4f2efbc\" xlink:actuate=\"onRequest\" xlink:href=\"psysml:6cc89760-fc75-419d-8f57-c720b4f2efbc\" xlink:show=\"new\" xlink:title=\"psysml:6cc89760-fc75-419d-8f57-c720b4f2efbc\" xlink:type=\"simple\"><polygon fill=\"#FFFFFF\" filter=\"url(#fxyhd7jsnlthg)\" points=\"97,177,121,177,128,199.2969,195,199.2969,195,274,97,274,97,177\" style=\"stroke: #000000; stroke-width: 1.5;\"/><line style=\"stroke: #000000; stroke-width: 1.5;\" x1=\"97\" x2=\"128\" y1=\"199.2969\" y2=\"199.2969\"/><text fill=\"#000000\" font-family=\"sans-serif\" font-size=\"14\" font-weight=\"bold\" lengthAdjust=\"spacingAndGlyphs\" textLength=\"18\" x=\"101\" y=\"191.9951\">P1</text></a><!--MD5=[f6df4d0ebaf0b5dfb2ced0ae5af7c670]\n",
       "cluster E4--><a href=\"psysml:42adecdc-f281-4f00-8fb0-2d405003d942\" target=\"_top\" title=\"psysml:42adecdc-f281-4f00-8fb0-2d405003d942\" xlink:actuate=\"onRequest\" xlink:href=\"psysml:42adecdc-f281-4f00-8fb0-2d405003d942\" xlink:show=\"new\" xlink:title=\"psysml:42adecdc-f281-4f00-8fb0-2d405003d942\" xlink:type=\"simple\"><polygon fill=\"#FFFFFF\" filter=\"url(#fxyhd7jsnlthg)\" points=\"40,49,64,49,71,71.2969,195,71.2969,195,153,40,153,40,49\" style=\"stroke: #000000; stroke-width: 1.5;\"/><line style=\"stroke: #000000; stroke-width: 1.5;\" x1=\"40\" x2=\"71\" y1=\"71.2969\" y2=\"71.2969\"/><text fill=\"#000000\" font-family=\"sans-serif\" font-size=\"14\" font-weight=\"bold\" lengthAdjust=\"spacingAndGlyphs\" textLength=\"18\" x=\"44\" y=\"63.9951\">P2</text></a><!--MD5=[09b614a08d8cba4a07c9adeb5e0fee81]\n",
       "class E3--><a href=\"psysml:e98f2231-0909-453e-b014-2111b959b184\" target=\"_top\" title=\"psysml:e98f2231-0909-453e-b014-2111b959b184\" xlink:actuate=\"onRequest\" xlink:href=\"psysml:e98f2231-0909-453e-b014-2111b959b184\" xlink:show=\"new\" xlink:title=\"psysml:e98f2231-0909-453e-b014-2111b959b184\" xlink:type=\"simple\"><rect fill=\"#FEFECE\" filter=\"url(#fxyhd7jsnlthg)\" height=\"45.9375\" id=\"E3\" style=\"stroke: #A80036; stroke-width: 1.5;\" width=\"66\" x=\"113\" y=\"212\"/><text fill=\"#000000\" font-family=\"sans-serif\" font-size=\"12\" font-style=\"italic\" lengthAdjust=\"spacingAndGlyphs\" textLength=\"64\" x=\"114\" y=\"228.1387\">«part def»</text><text fill=\"#000000\" font-family=\"sans-serif\" font-size=\"12\" lengthAdjust=\"spacingAndGlyphs\" textLength=\"8\" x=\"142\" y=\"242.1074\">A</text><line style=\"stroke: #A80036; stroke-width: 1.5;\" x1=\"114\" x2=\"178\" y1=\"249.9375\" y2=\"249.9375\"/></a><!--MD5=[60a26617385b1d2d0262a64233df1f8d]\n",
       "class E6--><a href=\"psysml:7d458e03-6011-4476-9c3b-13cd018efbef\" target=\"_top\" title=\"psysml:7d458e03-6011-4476-9c3b-13cd018efbef\" xlink:actuate=\"onRequest\" xlink:href=\"psysml:7d458e03-6011-4476-9c3b-13cd018efbef\" xlink:show=\"new\" xlink:title=\"psysml:7d458e03-6011-4476-9c3b-13cd018efbef\" xlink:type=\"simple\"><rect fill=\"#FEFECE\" filter=\"url(#fxyhd7jsnlthg)\" height=\"45.9375\" id=\"E6\" rx=\"10\" ry=\"10\" style=\"stroke: #A80036; stroke-width: 1.5;\" width=\"42\" x=\"137\" y=\"87.5\"/><text fill=\"#000000\" font-family=\"sans-serif\" font-size=\"12\" font-style=\"italic\" lengthAdjust=\"spacingAndGlyphs\" textLength=\"40\" x=\"138\" y=\"103.6387\">«part»</text><text fill=\"#000000\" font-family=\"sans-serif\" font-size=\"12\" lengthAdjust=\"spacingAndGlyphs\" textLength=\"22\" x=\"147\" y=\"117.6074\">x: A</text><line style=\"stroke: #A80036; stroke-width: 1.5;\" x1=\"138\" x2=\"178\" y1=\"125.4375\" y2=\"125.4375\"/></a><a href=\"psysml:e3978575-11c4-4054-8f35-fdd3c4e4a8ed\" target=\"_top\" title=\"psysml:e3978575-11c4-4054-8f35-fdd3c4e4a8ed\" xlink:actuate=\"onRequest\" xlink:href=\"psysml:e3978575-11c4-4054-8f35-fdd3c4e4a8ed\" xlink:show=\"new\" xlink:title=\"psysml:e3978575-11c4-4054-8f35-fdd3c4e4a8ed\" xlink:type=\"simple\"><polygon fill=\"#FFFFFF\" filter=\"url(#fxyhd7jsnlthg)\" points=\"56,84,88,84,95,106.2969,102,106.2969,102,136.5938,56,136.5938,56,84\" style=\"stroke: #000000; stroke-width: 1.5;\"/><line style=\"stroke: #000000; stroke-width: 1.5;\" x1=\"56\" x2=\"95\" y1=\"106.2969\" y2=\"106.2969\"/><text fill=\"#000000\" font-family=\"sans-serif\" font-size=\"14\" font-weight=\"bold\" lengthAdjust=\"spacingAndGlyphs\" textLength=\"26\" x=\"60\" y=\"98.9951\">P2a</text></a><!--MD5=[a717450b82c80b9240a525fa862496af]\n",
       "link E6 to E3--><a href=\"psysml:9b235a5a-e1e6-4e2e-a344-8e5fae0ff3e7\" target=\"_top\" title=\"psysml:9b235a5a-e1e6-4e2e-a344-8e5fae0ff3e7\" xlink:actuate=\"onRequest\" xlink:href=\"psysml:9b235a5a-e1e6-4e2e-a344-8e5fae0ff3e7\" xlink:show=\"new\" xlink:title=\"psysml:9b235a5a-e1e6-4e2e-a344-8e5fae0ff3e7\" xlink:type=\"simple\"><path d=\"M155.83,133.68 C154.24,149.9 152.04,172.39 150.12,191.96 \" fill=\"none\" id=\"E6-&gt;E3\" style=\"stroke: #A80036; stroke-width: 1.0;\"/><polygon fill=\"#FFFFFF\" points=\"148.16,211.98,143.0533,192.3861,156.986,193.7564,148.16,211.98\" style=\"stroke: #A80036; stroke-width: 1.0;\"/><ellipse cx=\"145.6016\" cy=\"186.9092\" fill=\"#A80036\" rx=\"2\" ry=\"2\" style=\"stroke: #A80036; stroke-width: 1.0;\"/><ellipse cx=\"155.5535\" cy=\"187.888\" fill=\"#A80036\" rx=\"2\" ry=\"2\" style=\"stroke: #A80036; stroke-width: 1.0;\"/></a><!--MD5=[93adfa5346873009f3eff3015b221826]\n",
       "@startuml\r\n",
       "skinparam wrapWidth 300\r\n",
       "hide circle\r\n",
       "\r\n",
       "package \"QualifiedNameImportTest\" as E1  [[psysml:c8de649d-2dc2-4761-aec9-7bacaacfe515 ]]  {\r\n",
       "package \"P1\" as E2  [[psysml:6cc89760-fc75-419d-8f57-c720b4f2efbc ]]  {\r\n",
       "comp def \"A\" as E3  <<(T,blue) part def>> [[psysml:e98f2231-0909-453e-b014-2111b959b184 ]] {\r\n",
       "}\r\n",
       "}\r\n",
       "package \"P2\" as E4  [[psysml:42adecdc-f281-4f00-8fb0-2d405003d942 ]]  {\r\n",
       "package \"P2a\" as E5  [[psysml:e3978575-11c4-4054-8f35-fdd3c4e4a8ed ]]  {\r\n",
       "}\r\n",
       "comp usage \"x: A\" as E6  <<(T,blue) part>> [[psysml:7d458e03-6011-4476-9c3b-13cd018efbef ]] {\r\n",
       "}\r\n",
       "}\r\n",
       "}\r\n",
       "E6 - -:|> E3 [[psysml:9b235a5a-e1e6-4e2e-a344-8e5fae0ff3e7 ]] \r\n",
       "@enduml\r\n",
       "\n",
       "PlantUML version 1.2020.13(Sat Jun 13 12:26:38 UTC 2020)\n",
       "(EPL source distribution)\n",
       "Java Runtime: OpenJDK Runtime Environment\n",
       "JVM: OpenJDK 64-Bit Server VM\n",
       "Default Encoding: UTF-8\n",
       "Language: en\n",
       "Country: null\n",
       "--></g></svg>"
      ]
     },
     "execution_count": 23,
     "metadata": {},
     "output_type": "execute_result"
    }
   ],
   "source": [
    "%viz --style=\"STDCOLOR\" --view=\"Default\" \"QualifiedNameImportTest\""
   ]
  },
  {
   "cell_type": "code",
   "execution_count": 24,
   "id": "58271376",
   "metadata": {
    "execution": {
     "iopub.execute_input": "2021-09-27T07:19:00.574151Z",
     "iopub.status.busy": "2021-09-27T07:19:00.573526Z",
     "iopub.status.idle": "2021-09-27T07:19:00.605098Z",
     "shell.execute_reply": "2021-09-27T07:19:00.604721Z"
    }
   },
   "outputs": [
    {
     "data": {
      "image/svg+xml": [
       "<?xml version=\"1.0\" encoding=\"UTF-8\" standalone=\"no\"?><svg xmlns=\"http://www.w3.org/2000/svg\" xmlns:xlink=\"http://www.w3.org/1999/xlink\" contentScriptType=\"application/ecmascript\" contentStyleType=\"text/css\" height=\"310px\" preserveAspectRatio=\"none\" style=\"width:241px;height:310px;\" version=\"1.1\" viewBox=\"0 0 241 310\" width=\"241px\" zoomAndPan=\"magnify\"><defs><filter height=\"300%\" id=\"fxyhd7jsnlthg\" width=\"300%\" x=\"-1\" y=\"-1\"><feGaussianBlur result=\"blurOut\" stdDeviation=\"2.0\"/><feColorMatrix in=\"blurOut\" result=\"blurOut2\" type=\"matrix\" values=\"0 0 0 0 0 0 0 0 0 0 0 0 0 0 0 0 0 0 .4 0\"/><feOffset dx=\"4.0\" dy=\"4.0\" in=\"blurOut2\" result=\"blurOut3\"/><feBlend in=\"SourceGraphic\" in2=\"blurOut3\" mode=\"normal\"/></filter></defs><g><!--MD5=[fbc87193dbaf4d95561dea2c320d4a47]\n",
       "cluster E1--><a href=\"psysml:c8de649d-2dc2-4761-aec9-7bacaacfe515\" target=\"_top\" title=\"psysml:c8de649d-2dc2-4761-aec9-7bacaacfe515\" xlink:actuate=\"onRequest\" xlink:href=\"psysml:c8de649d-2dc2-4761-aec9-7bacaacfe515\" xlink:show=\"new\" xlink:title=\"psysml:c8de649d-2dc2-4761-aec9-7bacaacfe515\" xlink:type=\"simple\"><polygon fill=\"#FFFFFF\" filter=\"url(#fxyhd7jsnlthg)\" points=\"16,6,196,6,203,28.2969,219,28.2969,219,298,16,298,16,6\" style=\"stroke: #000000; stroke-width: 1.5;\"/><line style=\"stroke: #000000; stroke-width: 1.5;\" x1=\"16\" x2=\"203\" y1=\"28.2969\" y2=\"28.2969\"/><text fill=\"#000000\" font-family=\"sans-serif\" font-size=\"14\" font-weight=\"bold\" lengthAdjust=\"spacingAndGlyphs\" textLength=\"174\" x=\"20\" y=\"20.9951\">QualifiedNameImportTest</text></a><!--MD5=[e4f7fae6ed58524ba242bb0b0d3be6b7]\n",
       "cluster E2--><a href=\"psysml:6cc89760-fc75-419d-8f57-c720b4f2efbc\" target=\"_top\" title=\"psysml:6cc89760-fc75-419d-8f57-c720b4f2efbc\" xlink:actuate=\"onRequest\" xlink:href=\"psysml:6cc89760-fc75-419d-8f57-c720b4f2efbc\" xlink:show=\"new\" xlink:title=\"psysml:6cc89760-fc75-419d-8f57-c720b4f2efbc\" xlink:type=\"simple\"><polygon fill=\"#FFFFFF\" filter=\"url(#fxyhd7jsnlthg)\" points=\"97,177,121,177,128,199.2969,195,199.2969,195,274,97,274,97,177\" style=\"stroke: #000000; stroke-width: 1.5;\"/><line style=\"stroke: #000000; stroke-width: 1.5;\" x1=\"97\" x2=\"128\" y1=\"199.2969\" y2=\"199.2969\"/><text fill=\"#000000\" font-family=\"sans-serif\" font-size=\"14\" font-weight=\"bold\" lengthAdjust=\"spacingAndGlyphs\" textLength=\"18\" x=\"101\" y=\"191.9951\">P1</text></a><!--MD5=[f6df4d0ebaf0b5dfb2ced0ae5af7c670]\n",
       "cluster E4--><a href=\"psysml:42adecdc-f281-4f00-8fb0-2d405003d942\" target=\"_top\" title=\"psysml:42adecdc-f281-4f00-8fb0-2d405003d942\" xlink:actuate=\"onRequest\" xlink:href=\"psysml:42adecdc-f281-4f00-8fb0-2d405003d942\" xlink:show=\"new\" xlink:title=\"psysml:42adecdc-f281-4f00-8fb0-2d405003d942\" xlink:type=\"simple\"><polygon fill=\"#FFFFFF\" filter=\"url(#fxyhd7jsnlthg)\" points=\"40,49,64,49,71,71.2969,195,71.2969,195,153,40,153,40,49\" style=\"stroke: #000000; stroke-width: 1.5;\"/><line style=\"stroke: #000000; stroke-width: 1.5;\" x1=\"40\" x2=\"71\" y1=\"71.2969\" y2=\"71.2969\"/><text fill=\"#000000\" font-family=\"sans-serif\" font-size=\"14\" font-weight=\"bold\" lengthAdjust=\"spacingAndGlyphs\" textLength=\"18\" x=\"44\" y=\"63.9951\">P2</text></a><!--MD5=[09b614a08d8cba4a07c9adeb5e0fee81]\n",
       "class E3--><a href=\"psysml:e98f2231-0909-453e-b014-2111b959b184\" target=\"_top\" title=\"psysml:e98f2231-0909-453e-b014-2111b959b184\" xlink:actuate=\"onRequest\" xlink:href=\"psysml:e98f2231-0909-453e-b014-2111b959b184\" xlink:show=\"new\" xlink:title=\"psysml:e98f2231-0909-453e-b014-2111b959b184\" xlink:type=\"simple\"><rect fill=\"#FEFECE\" filter=\"url(#fxyhd7jsnlthg)\" height=\"45.9375\" id=\"E3\" style=\"stroke: #A80036; stroke-width: 1.5;\" width=\"66\" x=\"113\" y=\"212\"/><text fill=\"#000000\" font-family=\"sans-serif\" font-size=\"12\" font-style=\"italic\" lengthAdjust=\"spacingAndGlyphs\" textLength=\"64\" x=\"114\" y=\"228.1387\">«part def»</text><text fill=\"#000000\" font-family=\"sans-serif\" font-size=\"12\" lengthAdjust=\"spacingAndGlyphs\" textLength=\"8\" x=\"142\" y=\"242.1074\">A</text><line style=\"stroke: #A80036; stroke-width: 1.5;\" x1=\"114\" x2=\"178\" y1=\"249.9375\" y2=\"249.9375\"/></a><!--MD5=[60a26617385b1d2d0262a64233df1f8d]\n",
       "class E6--><a href=\"psysml:7d458e03-6011-4476-9c3b-13cd018efbef\" target=\"_top\" title=\"psysml:7d458e03-6011-4476-9c3b-13cd018efbef\" xlink:actuate=\"onRequest\" xlink:href=\"psysml:7d458e03-6011-4476-9c3b-13cd018efbef\" xlink:show=\"new\" xlink:title=\"psysml:7d458e03-6011-4476-9c3b-13cd018efbef\" xlink:type=\"simple\"><rect fill=\"#FEFECE\" filter=\"url(#fxyhd7jsnlthg)\" height=\"45.9375\" id=\"E6\" rx=\"10\" ry=\"10\" style=\"stroke: #A80036; stroke-width: 1.5;\" width=\"42\" x=\"137\" y=\"87.5\"/><text fill=\"#000000\" font-family=\"sans-serif\" font-size=\"12\" font-style=\"italic\" lengthAdjust=\"spacingAndGlyphs\" textLength=\"40\" x=\"138\" y=\"103.6387\">«part»</text><text fill=\"#000000\" font-family=\"sans-serif\" font-size=\"12\" lengthAdjust=\"spacingAndGlyphs\" textLength=\"22\" x=\"147\" y=\"117.6074\">x: A</text><line style=\"stroke: #A80036; stroke-width: 1.5;\" x1=\"138\" x2=\"178\" y1=\"125.4375\" y2=\"125.4375\"/></a><a href=\"psysml:e3978575-11c4-4054-8f35-fdd3c4e4a8ed\" target=\"_top\" title=\"psysml:e3978575-11c4-4054-8f35-fdd3c4e4a8ed\" xlink:actuate=\"onRequest\" xlink:href=\"psysml:e3978575-11c4-4054-8f35-fdd3c4e4a8ed\" xlink:show=\"new\" xlink:title=\"psysml:e3978575-11c4-4054-8f35-fdd3c4e4a8ed\" xlink:type=\"simple\"><polygon fill=\"#FFFFFF\" filter=\"url(#fxyhd7jsnlthg)\" points=\"56,84,88,84,95,106.2969,102,106.2969,102,136.5938,56,136.5938,56,84\" style=\"stroke: #000000; stroke-width: 1.5;\"/><line style=\"stroke: #000000; stroke-width: 1.5;\" x1=\"56\" x2=\"95\" y1=\"106.2969\" y2=\"106.2969\"/><text fill=\"#000000\" font-family=\"sans-serif\" font-size=\"14\" font-weight=\"bold\" lengthAdjust=\"spacingAndGlyphs\" textLength=\"26\" x=\"60\" y=\"98.9951\">P2a</text></a><!--MD5=[a717450b82c80b9240a525fa862496af]\n",
       "link E6 to E3--><a href=\"psysml:9b235a5a-e1e6-4e2e-a344-8e5fae0ff3e7\" target=\"_top\" title=\"psysml:9b235a5a-e1e6-4e2e-a344-8e5fae0ff3e7\" xlink:actuate=\"onRequest\" xlink:href=\"psysml:9b235a5a-e1e6-4e2e-a344-8e5fae0ff3e7\" xlink:show=\"new\" xlink:title=\"psysml:9b235a5a-e1e6-4e2e-a344-8e5fae0ff3e7\" xlink:type=\"simple\"><path d=\"M155.83,133.68 C154.24,149.9 152.04,172.39 150.12,191.96 \" fill=\"none\" id=\"E6-&gt;E3\" style=\"stroke: #A80036; stroke-width: 1.0;\"/><polygon fill=\"#FFFFFF\" points=\"148.16,211.98,143.0533,192.3861,156.986,193.7564,148.16,211.98\" style=\"stroke: #A80036; stroke-width: 1.0;\"/><ellipse cx=\"145.6016\" cy=\"186.9092\" fill=\"#A80036\" rx=\"2\" ry=\"2\" style=\"stroke: #A80036; stroke-width: 1.0;\"/><ellipse cx=\"155.5535\" cy=\"187.888\" fill=\"#A80036\" rx=\"2\" ry=\"2\" style=\"stroke: #A80036; stroke-width: 1.0;\"/></a><!--MD5=[93adfa5346873009f3eff3015b221826]\n",
       "@startuml\r\n",
       "skinparam wrapWidth 300\r\n",
       "hide circle\r\n",
       "\r\n",
       "package \"QualifiedNameImportTest\" as E1  [[psysml:c8de649d-2dc2-4761-aec9-7bacaacfe515 ]]  {\r\n",
       "package \"P1\" as E2  [[psysml:6cc89760-fc75-419d-8f57-c720b4f2efbc ]]  {\r\n",
       "comp def \"A\" as E3  <<(T,blue) part def>> [[psysml:e98f2231-0909-453e-b014-2111b959b184 ]] {\r\n",
       "}\r\n",
       "}\r\n",
       "package \"P2\" as E4  [[psysml:42adecdc-f281-4f00-8fb0-2d405003d942 ]]  {\r\n",
       "package \"P2a\" as E5  [[psysml:e3978575-11c4-4054-8f35-fdd3c4e4a8ed ]]  {\r\n",
       "}\r\n",
       "comp usage \"x: A\" as E6  <<(T,blue) part>> [[psysml:7d458e03-6011-4476-9c3b-13cd018efbef ]] {\r\n",
       "}\r\n",
       "}\r\n",
       "}\r\n",
       "E6 - -:|> E3 [[psysml:9b235a5a-e1e6-4e2e-a344-8e5fae0ff3e7 ]] \r\n",
       "@enduml\r\n",
       "\n",
       "PlantUML version 1.2020.13(Sat Jun 13 12:26:38 UTC 2020)\n",
       "(EPL source distribution)\n",
       "Java Runtime: OpenJDK Runtime Environment\n",
       "JVM: OpenJDK 64-Bit Server VM\n",
       "Default Encoding: UTF-8\n",
       "Language: en\n",
       "Country: null\n",
       "--></g></svg>"
      ]
     },
     "execution_count": 24,
     "metadata": {},
     "output_type": "execute_result"
    }
   ],
   "source": [
    "%viz --style=\"STDCOLOR\" --view=\"Tree\" \"QualifiedNameImportTest\""
   ]
  },
  {
   "cell_type": "code",
   "execution_count": 25,
   "id": "cd1afd3a",
   "metadata": {
    "execution": {
     "iopub.execute_input": "2021-09-27T07:19:00.654995Z",
     "iopub.status.busy": "2021-09-27T07:19:00.654396Z",
     "iopub.status.idle": "2021-09-27T07:19:00.659599Z",
     "shell.execute_reply": "2021-09-27T07:19:00.659951Z"
    }
   },
   "outputs": [
    {
     "data": {
      "image/svg+xml": [
       "<?xml version=\"1.0\" encoding=\"UTF-8\" standalone=\"no\"?><svg xmlns=\"http://www.w3.org/2000/svg\" xmlns:xlink=\"http://www.w3.org/1999/xlink\" contentScriptType=\"application/ecmascript\" contentStyleType=\"text/css\" height=\"12px\" preserveAspectRatio=\"none\" style=\"width:12px;height:12px;\" version=\"1.1\" viewBox=\"0 0 12 12\" width=\"12px\" zoomAndPan=\"magnify\"><defs/><g><!--MD5=[aeeef50f102b80d730deb6443d14f702]\n",
       "@startuml\r\n",
       "skinparam wrapWidth 300\r\n",
       "hide circle\r\n",
       "\r\n",
       "@enduml\r\n",
       "\n",
       "PlantUML version 1.2020.13(Sat Jun 13 12:26:38 UTC 2020)\n",
       "(EPL source distribution)\n",
       "Java Runtime: OpenJDK Runtime Environment\n",
       "JVM: OpenJDK 64-Bit Server VM\n",
       "Default Encoding: UTF-8\n",
       "Language: en\n",
       "Country: null\n",
       "--></g></svg>"
      ]
     },
     "execution_count": 25,
     "metadata": {},
     "output_type": "execute_result"
    }
   ],
   "source": [
    "%viz --style=\"STDCOLOR\" --view=\"State\" \"QualifiedNameImportTest\""
   ]
  },
  {
   "cell_type": "code",
   "execution_count": 26,
   "id": "fcb99880",
   "metadata": {
    "execution": {
     "iopub.execute_input": "2021-09-27T07:19:00.710301Z",
     "iopub.status.busy": "2021-09-27T07:19:00.709660Z",
     "iopub.status.idle": "2021-09-27T07:19:00.738376Z",
     "shell.execute_reply": "2021-09-27T07:19:00.737973Z"
    }
   },
   "outputs": [
    {
     "data": {
      "image/svg+xml": [
       "<?xml version=\"1.0\" encoding=\"UTF-8\" standalone=\"no\"?><svg xmlns=\"http://www.w3.org/2000/svg\" xmlns:xlink=\"http://www.w3.org/1999/xlink\" contentScriptType=\"application/ecmascript\" contentStyleType=\"text/css\" height=\"189px\" preserveAspectRatio=\"none\" style=\"width:377px;height:189px;\" version=\"1.1\" viewBox=\"0 0 377 189\" width=\"377px\" zoomAndPan=\"magnify\"><defs><filter height=\"300%\" id=\"f1m3ij0hbyp9kv\" width=\"300%\" x=\"-1\" y=\"-1\"><feGaussianBlur result=\"blurOut\" stdDeviation=\"2.0\"/><feColorMatrix in=\"blurOut\" result=\"blurOut2\" type=\"matrix\" values=\"0 0 0 0 0 0 0 0 0 0 0 0 0 0 0 0 0 0 .4 0\"/><feOffset dx=\"4.0\" dy=\"4.0\" in=\"blurOut2\" result=\"blurOut3\"/><feBlend in=\"SourceGraphic\" in2=\"blurOut3\" mode=\"normal\"/></filter></defs><g><!--MD5=[fbc87193dbaf4d95561dea2c320d4a47]\n",
       "cluster E1--><a href=\"psysml:c8de649d-2dc2-4761-aec9-7bacaacfe515\" target=\"_top\" title=\"psysml:c8de649d-2dc2-4761-aec9-7bacaacfe515\" xlink:actuate=\"onRequest\" xlink:href=\"psysml:c8de649d-2dc2-4761-aec9-7bacaacfe515\" xlink:show=\"new\" xlink:title=\"psysml:c8de649d-2dc2-4761-aec9-7bacaacfe515\" xlink:type=\"simple\"><polygon fill=\"#FFFFFF\" filter=\"url(#f1m3ij0hbyp9kv)\" points=\"16,6,196,6,203,28.2969,355,28.2969,355,177,16,177,16,6\" style=\"stroke: #000000; stroke-width: 1.5;\"/><line style=\"stroke: #000000; stroke-width: 1.5;\" x1=\"16\" x2=\"203\" y1=\"28.2969\" y2=\"28.2969\"/><text fill=\"#000000\" font-family=\"sans-serif\" font-size=\"14\" font-weight=\"bold\" lengthAdjust=\"spacingAndGlyphs\" textLength=\"174\" x=\"20\" y=\"20.9951\">QualifiedNameImportTest</text></a><!--MD5=[e4f7fae6ed58524ba242bb0b0d3be6b7]\n",
       "cluster E2--><a href=\"psysml:6cc89760-fc75-419d-8f57-c720b4f2efbc\" target=\"_top\" title=\"psysml:6cc89760-fc75-419d-8f57-c720b4f2efbc\" xlink:actuate=\"onRequest\" xlink:href=\"psysml:6cc89760-fc75-419d-8f57-c720b4f2efbc\" xlink:show=\"new\" xlink:title=\"psysml:6cc89760-fc75-419d-8f57-c720b4f2efbc\" xlink:type=\"simple\"><polygon fill=\"#FFFFFF\" filter=\"url(#f1m3ij0hbyp9kv)\" points=\"227,54,251,54,258,76.2969,331,76.2969,331,148,227,148,227,54\" style=\"stroke: #000000; stroke-width: 1.5;\"/><line style=\"stroke: #000000; stroke-width: 1.5;\" x1=\"227\" x2=\"258\" y1=\"76.2969\" y2=\"76.2969\"/><text fill=\"#000000\" font-family=\"sans-serif\" font-size=\"14\" font-weight=\"bold\" lengthAdjust=\"spacingAndGlyphs\" textLength=\"18\" x=\"231\" y=\"68.9951\">P1</text></a><!--MD5=[f6df4d0ebaf0b5dfb2ced0ae5af7c670]\n",
       "cluster E4--><a href=\"psysml:42adecdc-f281-4f00-8fb0-2d405003d942\" target=\"_top\" title=\"psysml:42adecdc-f281-4f00-8fb0-2d405003d942\" xlink:actuate=\"onRequest\" xlink:href=\"psysml:42adecdc-f281-4f00-8fb0-2d405003d942\" xlink:show=\"new\" xlink:title=\"psysml:42adecdc-f281-4f00-8fb0-2d405003d942\" xlink:type=\"simple\"><polygon fill=\"#FFFFFF\" filter=\"url(#f1m3ij0hbyp9kv)\" points=\"40,49,64,49,71,71.2969,203,71.2969,203,153,40,153,40,49\" style=\"stroke: #000000; stroke-width: 1.5;\"/><line style=\"stroke: #000000; stroke-width: 1.5;\" x1=\"40\" x2=\"71\" y1=\"71.2969\" y2=\"71.2969\"/><text fill=\"#000000\" font-family=\"sans-serif\" font-size=\"14\" font-weight=\"bold\" lengthAdjust=\"spacingAndGlyphs\" textLength=\"18\" x=\"44\" y=\"63.9951\">P2</text></a><g id=\"E1.E2.E3\"><a href=\"psysml:e98f2231-0909-453e-b014-2111b959b184\" target=\"_top\" title=\"psysml:e98f2231-0909-453e-b014-2111b959b184\" xlink:actuate=\"onRequest\" xlink:href=\"psysml:e98f2231-0909-453e-b014-2111b959b184\" xlink:show=\"new\" xlink:title=\"psysml:e98f2231-0909-453e-b014-2111b959b184\" xlink:type=\"simple\"><rect fill=\"#FEFECE\" filter=\"url(#f1m3ij0hbyp9kv)\" height=\"42.9375\" id=\"E3\" style=\"stroke: #A80036; stroke-width: 1.5;\" width=\"71\" x=\"243.5\" y=\"89\"/><text fill=\"#000000\" font-family=\"sans-serif\" font-size=\"12\" font-style=\"italic\" lengthAdjust=\"spacingAndGlyphs\" textLength=\"64\" x=\"247\" y=\"105.1387\">«part def»</text><text fill=\"#000000\" font-family=\"sans-serif\" font-size=\"12\" lengthAdjust=\"spacingAndGlyphs\" textLength=\"8\" x=\"275\" y=\"119.1074\">A</text></a></g><a href=\"psysml:e3978575-11c4-4054-8f35-fdd3c4e4a8ed\" target=\"_top\" title=\"psysml:e3978575-11c4-4054-8f35-fdd3c4e4a8ed\" xlink:actuate=\"onRequest\" xlink:href=\"psysml:e3978575-11c4-4054-8f35-fdd3c4e4a8ed\" xlink:show=\"new\" xlink:title=\"psysml:e3978575-11c4-4054-8f35-fdd3c4e4a8ed\" xlink:type=\"simple\"><polygon fill=\"#FFFFFF\" filter=\"url(#f1m3ij0hbyp9kv)\" points=\"141,84,173,84,180,106.2969,187,106.2969,187,136.5938,141,136.5938,141,84\" style=\"stroke: #000000; stroke-width: 1.5;\"/><line style=\"stroke: #000000; stroke-width: 1.5;\" x1=\"141\" x2=\"180\" y1=\"106.2969\" y2=\"106.2969\"/><text fill=\"#000000\" font-family=\"sans-serif\" font-size=\"14\" font-weight=\"bold\" lengthAdjust=\"spacingAndGlyphs\" textLength=\"26\" x=\"145\" y=\"98.9951\">P2a</text></a><g id=\"E1.E4.E6\"><a href=\"psysml:7d458e03-6011-4476-9c3b-13cd018efbef\" target=\"_top\" title=\"psysml:7d458e03-6011-4476-9c3b-13cd018efbef\" xlink:actuate=\"onRequest\" xlink:href=\"psysml:7d458e03-6011-4476-9c3b-13cd018efbef\" xlink:show=\"new\" xlink:title=\"psysml:7d458e03-6011-4476-9c3b-13cd018efbef\" xlink:type=\"simple\"><rect fill=\"#FEFECE\" filter=\"url(#f1m3ij0hbyp9kv)\" height=\"40\" id=\"E6\" rx=\"10\" ry=\"10\" style=\"stroke: #A80036; stroke-width: 1.5;\" width=\"50\" x=\"56\" y=\"90.5\"/><text fill=\"#000000\" font-family=\"sans-serif\" font-size=\"12\" lengthAdjust=\"spacingAndGlyphs\" textLength=\"22\" x=\"70\" y=\"106.6387\">x: A</text></a></g><!--MD5=[d537d281f4c28d8018f617b7e29accc9]\n",
       "@startuml\r\n",
       "skinparam ranksep 10\r\n",
       "skinparam rectangle {\r\n",
       " backgroundColor<<block>> LightGreen\r\n",
       "}\r\n",
       "skinparam wrapWidth 300\r\n",
       "hide circle\r\n",
       "\r\n",
       "package \"QualifiedNameImportTest\" as E1  [[psysml:c8de649d-2dc2-4761-aec9-7bacaacfe515 ]]  {\r\n",
       "package \"P1\" as E2  [[psysml:6cc89760-fc75-419d-8f57-c720b4f2efbc ]]  {\r\n",
       "rec def \"A\" as E3  <<(T,blue) part def>> [[psysml:e98f2231-0909-453e-b014-2111b959b184 ]] {\r\n",
       "}\r\n",
       "}\r\n",
       "package \"P2\" as E4  [[psysml:42adecdc-f281-4f00-8fb0-2d405003d942 ]]  {\r\n",
       "package \"P2a\" as E5  [[psysml:e3978575-11c4-4054-8f35-fdd3c4e4a8ed ]]  {\r\n",
       "}\r\n",
       "rec usage \"x: A\" as E6  [[psysml:7d458e03-6011-4476-9c3b-13cd018efbef ]] {\r\n",
       "}\r\n",
       "}\r\n",
       "}\r\n",
       "@enduml\r\n",
       "\n",
       "PlantUML version 1.2020.13(Sat Jun 13 12:26:38 UTC 2020)\n",
       "(EPL source distribution)\n",
       "Java Runtime: OpenJDK Runtime Environment\n",
       "JVM: OpenJDK 64-Bit Server VM\n",
       "Default Encoding: UTF-8\n",
       "Language: en\n",
       "Country: null\n",
       "--></g></svg>"
      ]
     },
     "execution_count": 26,
     "metadata": {},
     "output_type": "execute_result"
    }
   ],
   "source": [
    "%viz --style=\"STDCOLOR\" --view=\"Interconnection\" \"QualifiedNameImportTest\""
   ]
  },
  {
   "cell_type": "code",
   "execution_count": 27,
   "id": "e817c525",
   "metadata": {
    "execution": {
     "iopub.execute_input": "2021-09-27T07:19:00.788434Z",
     "iopub.status.busy": "2021-09-27T07:19:00.787827Z",
     "iopub.status.idle": "2021-09-27T07:19:00.793354Z",
     "shell.execute_reply": "2021-09-27T07:19:00.793007Z"
    }
   },
   "outputs": [
    {
     "data": {
      "image/svg+xml": [
       "<?xml version=\"1.0\" encoding=\"UTF-8\" standalone=\"no\"?><svg xmlns=\"http://www.w3.org/2000/svg\" xmlns:xlink=\"http://www.w3.org/1999/xlink\" contentScriptType=\"application/ecmascript\" contentStyleType=\"text/css\" height=\"12px\" preserveAspectRatio=\"none\" style=\"width:12px;height:12px;\" version=\"1.1\" viewBox=\"0 0 12 12\" width=\"12px\" zoomAndPan=\"magnify\"><defs/><g><!--MD5=[9863325348a96a77dacc89509d8ee65e]\n",
       "@startuml\r\n",
       "skinparam ranksep 8\r\n",
       "skinparam wrapWidth 300\r\n",
       "hide circle\r\n",
       "\r\n",
       "@enduml\r\n",
       "\n",
       "PlantUML version 1.2020.13(Sat Jun 13 12:26:38 UTC 2020)\n",
       "(EPL source distribution)\n",
       "Java Runtime: OpenJDK Runtime Environment\n",
       "JVM: OpenJDK 64-Bit Server VM\n",
       "Default Encoding: UTF-8\n",
       "Language: en\n",
       "Country: null\n",
       "--></g></svg>"
      ]
     },
     "execution_count": 27,
     "metadata": {},
     "output_type": "execute_result"
    }
   ],
   "source": [
    "%viz --style=\"STDCOLOR\" --view=\"Action\" \"QualifiedNameImportTest\""
   ]
  },
  {
   "cell_type": "code",
   "execution_count": 28,
   "id": "f1e53fab",
   "metadata": {
    "execution": {
     "iopub.execute_input": "2021-09-27T07:19:00.843712Z",
     "iopub.status.busy": "2021-09-27T07:19:00.843120Z",
     "iopub.status.idle": "2021-09-27T07:19:00.848158Z",
     "shell.execute_reply": "2021-09-27T07:19:00.848455Z"
    }
   },
   "outputs": [
    {
     "data": {
      "image/svg+xml": [
       "<?xml version=\"1.0\" encoding=\"UTF-8\" standalone=\"no\"?><svg xmlns=\"http://www.w3.org/2000/svg\" xmlns:xlink=\"http://www.w3.org/1999/xlink\" contentScriptType=\"application/ecmascript\" contentStyleType=\"text/css\" height=\"12px\" preserveAspectRatio=\"none\" style=\"width:12px;height:12px;\" version=\"1.1\" viewBox=\"0 0 12 12\" width=\"12px\" zoomAndPan=\"magnify\"><defs/><g><!--MD5=[6c4bca67b4d71758159a5a7f1f1e1fc2]\n",
       "@startuml\r\n",
       "skinparam roundcorner 20\r\n",
       "skinparam BoxPadding 20\r\n",
       "skinparam SequenceBoxBackgroundColor #white\r\n",
       "skinparam style strictuml\r\n",
       "skinparam maxMessageSize 100\r\n",
       "skinparam wrapWidth 300\r\n",
       "hide circle\r\n",
       "\r\n",
       "@enduml\r\n",
       "\n",
       "PlantUML version 1.2020.13(Sat Jun 13 12:26:38 UTC 2020)\n",
       "(EPL source distribution)\n",
       "Java Runtime: OpenJDK Runtime Environment\n",
       "JVM: OpenJDK 64-Bit Server VM\n",
       "Default Encoding: UTF-8\n",
       "Language: en\n",
       "Country: null\n",
       "--></g></svg>"
      ]
     },
     "execution_count": 28,
     "metadata": {},
     "output_type": "execute_result"
    }
   ],
   "source": [
    "%viz --style=\"STDCOLOR\" --view=\"Sequence\" \"QualifiedNameImportTest\""
   ]
  },
  {
   "cell_type": "code",
   "execution_count": 29,
   "id": "618bf4d9",
   "metadata": {
    "execution": {
     "iopub.execute_input": "2021-09-27T07:19:00.898960Z",
     "iopub.status.busy": "2021-09-27T07:19:00.898346Z",
     "iopub.status.idle": "2021-09-27T07:19:00.928576Z",
     "shell.execute_reply": "2021-09-27T07:19:00.928206Z"
    }
   },
   "outputs": [
    {
     "data": {
      "image/svg+xml": [
       "<?xml version=\"1.0\" encoding=\"UTF-8\" standalone=\"no\"?><svg xmlns=\"http://www.w3.org/2000/svg\" xmlns:xlink=\"http://www.w3.org/1999/xlink\" contentScriptType=\"application/ecmascript\" contentStyleType=\"text/css\" height=\"310px\" preserveAspectRatio=\"none\" style=\"width:241px;height:310px;\" version=\"1.1\" viewBox=\"0 0 241 310\" width=\"241px\" zoomAndPan=\"magnify\"><defs><filter height=\"300%\" id=\"fxyhd7jsnlthg\" width=\"300%\" x=\"-1\" y=\"-1\"><feGaussianBlur result=\"blurOut\" stdDeviation=\"2.0\"/><feColorMatrix in=\"blurOut\" result=\"blurOut2\" type=\"matrix\" values=\"0 0 0 0 0 0 0 0 0 0 0 0 0 0 0 0 0 0 .4 0\"/><feOffset dx=\"4.0\" dy=\"4.0\" in=\"blurOut2\" result=\"blurOut3\"/><feBlend in=\"SourceGraphic\" in2=\"blurOut3\" mode=\"normal\"/></filter></defs><g><!--MD5=[fbc87193dbaf4d95561dea2c320d4a47]\n",
       "cluster E1--><a href=\"psysml:c8de649d-2dc2-4761-aec9-7bacaacfe515\" target=\"_top\" title=\"psysml:c8de649d-2dc2-4761-aec9-7bacaacfe515\" xlink:actuate=\"onRequest\" xlink:href=\"psysml:c8de649d-2dc2-4761-aec9-7bacaacfe515\" xlink:show=\"new\" xlink:title=\"psysml:c8de649d-2dc2-4761-aec9-7bacaacfe515\" xlink:type=\"simple\"><polygon fill=\"#FFFFFF\" filter=\"url(#fxyhd7jsnlthg)\" points=\"16,6,196,6,203,28.2969,219,28.2969,219,298,16,298,16,6\" style=\"stroke: #000000; stroke-width: 1.5;\"/><line style=\"stroke: #000000; stroke-width: 1.5;\" x1=\"16\" x2=\"203\" y1=\"28.2969\" y2=\"28.2969\"/><text fill=\"#000000\" font-family=\"sans-serif\" font-size=\"14\" font-weight=\"bold\" lengthAdjust=\"spacingAndGlyphs\" textLength=\"174\" x=\"20\" y=\"20.9951\">QualifiedNameImportTest</text></a><!--MD5=[e4f7fae6ed58524ba242bb0b0d3be6b7]\n",
       "cluster E2--><a href=\"psysml:6cc89760-fc75-419d-8f57-c720b4f2efbc\" target=\"_top\" title=\"psysml:6cc89760-fc75-419d-8f57-c720b4f2efbc\" xlink:actuate=\"onRequest\" xlink:href=\"psysml:6cc89760-fc75-419d-8f57-c720b4f2efbc\" xlink:show=\"new\" xlink:title=\"psysml:6cc89760-fc75-419d-8f57-c720b4f2efbc\" xlink:type=\"simple\"><polygon fill=\"#FFFFFF\" filter=\"url(#fxyhd7jsnlthg)\" points=\"97,177,121,177,128,199.2969,195,199.2969,195,274,97,274,97,177\" style=\"stroke: #000000; stroke-width: 1.5;\"/><line style=\"stroke: #000000; stroke-width: 1.5;\" x1=\"97\" x2=\"128\" y1=\"199.2969\" y2=\"199.2969\"/><text fill=\"#000000\" font-family=\"sans-serif\" font-size=\"14\" font-weight=\"bold\" lengthAdjust=\"spacingAndGlyphs\" textLength=\"18\" x=\"101\" y=\"191.9951\">P1</text></a><!--MD5=[f6df4d0ebaf0b5dfb2ced0ae5af7c670]\n",
       "cluster E4--><a href=\"psysml:42adecdc-f281-4f00-8fb0-2d405003d942\" target=\"_top\" title=\"psysml:42adecdc-f281-4f00-8fb0-2d405003d942\" xlink:actuate=\"onRequest\" xlink:href=\"psysml:42adecdc-f281-4f00-8fb0-2d405003d942\" xlink:show=\"new\" xlink:title=\"psysml:42adecdc-f281-4f00-8fb0-2d405003d942\" xlink:type=\"simple\"><polygon fill=\"#FFFFFF\" filter=\"url(#fxyhd7jsnlthg)\" points=\"40,49,64,49,71,71.2969,195,71.2969,195,153,40,153,40,49\" style=\"stroke: #000000; stroke-width: 1.5;\"/><line style=\"stroke: #000000; stroke-width: 1.5;\" x1=\"40\" x2=\"71\" y1=\"71.2969\" y2=\"71.2969\"/><text fill=\"#000000\" font-family=\"sans-serif\" font-size=\"14\" font-weight=\"bold\" lengthAdjust=\"spacingAndGlyphs\" textLength=\"18\" x=\"44\" y=\"63.9951\">P2</text></a><!--MD5=[09b614a08d8cba4a07c9adeb5e0fee81]\n",
       "class E3--><a href=\"psysml:e98f2231-0909-453e-b014-2111b959b184\" target=\"_top\" title=\"psysml:e98f2231-0909-453e-b014-2111b959b184\" xlink:actuate=\"onRequest\" xlink:href=\"psysml:e98f2231-0909-453e-b014-2111b959b184\" xlink:show=\"new\" xlink:title=\"psysml:e98f2231-0909-453e-b014-2111b959b184\" xlink:type=\"simple\"><rect fill=\"#FEFECE\" filter=\"url(#fxyhd7jsnlthg)\" height=\"45.9375\" id=\"E3\" style=\"stroke: #A80036; stroke-width: 1.5;\" width=\"66\" x=\"113\" y=\"212\"/><text fill=\"#000000\" font-family=\"sans-serif\" font-size=\"12\" font-style=\"italic\" lengthAdjust=\"spacingAndGlyphs\" textLength=\"64\" x=\"114\" y=\"228.1387\">«part def»</text><text fill=\"#000000\" font-family=\"sans-serif\" font-size=\"12\" lengthAdjust=\"spacingAndGlyphs\" textLength=\"8\" x=\"142\" y=\"242.1074\">A</text><line style=\"stroke: #A80036; stroke-width: 1.5;\" x1=\"114\" x2=\"178\" y1=\"249.9375\" y2=\"249.9375\"/></a><!--MD5=[60a26617385b1d2d0262a64233df1f8d]\n",
       "class E6--><a href=\"psysml:7d458e03-6011-4476-9c3b-13cd018efbef\" target=\"_top\" title=\"psysml:7d458e03-6011-4476-9c3b-13cd018efbef\" xlink:actuate=\"onRequest\" xlink:href=\"psysml:7d458e03-6011-4476-9c3b-13cd018efbef\" xlink:show=\"new\" xlink:title=\"psysml:7d458e03-6011-4476-9c3b-13cd018efbef\" xlink:type=\"simple\"><rect fill=\"#FEFECE\" filter=\"url(#fxyhd7jsnlthg)\" height=\"45.9375\" id=\"E6\" rx=\"10\" ry=\"10\" style=\"stroke: #A80036; stroke-width: 1.5;\" width=\"42\" x=\"137\" y=\"87.5\"/><text fill=\"#000000\" font-family=\"sans-serif\" font-size=\"12\" font-style=\"italic\" lengthAdjust=\"spacingAndGlyphs\" textLength=\"40\" x=\"138\" y=\"103.6387\">«part»</text><text fill=\"#000000\" font-family=\"sans-serif\" font-size=\"12\" lengthAdjust=\"spacingAndGlyphs\" textLength=\"22\" x=\"147\" y=\"117.6074\">x: A</text><line style=\"stroke: #A80036; stroke-width: 1.5;\" x1=\"138\" x2=\"178\" y1=\"125.4375\" y2=\"125.4375\"/></a><a href=\"psysml:e3978575-11c4-4054-8f35-fdd3c4e4a8ed\" target=\"_top\" title=\"psysml:e3978575-11c4-4054-8f35-fdd3c4e4a8ed\" xlink:actuate=\"onRequest\" xlink:href=\"psysml:e3978575-11c4-4054-8f35-fdd3c4e4a8ed\" xlink:show=\"new\" xlink:title=\"psysml:e3978575-11c4-4054-8f35-fdd3c4e4a8ed\" xlink:type=\"simple\"><polygon fill=\"#FFFFFF\" filter=\"url(#fxyhd7jsnlthg)\" points=\"56,84,88,84,95,106.2969,102,106.2969,102,136.5938,56,136.5938,56,84\" style=\"stroke: #000000; stroke-width: 1.5;\"/><line style=\"stroke: #000000; stroke-width: 1.5;\" x1=\"56\" x2=\"95\" y1=\"106.2969\" y2=\"106.2969\"/><text fill=\"#000000\" font-family=\"sans-serif\" font-size=\"14\" font-weight=\"bold\" lengthAdjust=\"spacingAndGlyphs\" textLength=\"26\" x=\"60\" y=\"98.9951\">P2a</text></a><!--MD5=[a717450b82c80b9240a525fa862496af]\n",
       "link E6 to E3--><a href=\"psysml:9b235a5a-e1e6-4e2e-a344-8e5fae0ff3e7\" target=\"_top\" title=\"psysml:9b235a5a-e1e6-4e2e-a344-8e5fae0ff3e7\" xlink:actuate=\"onRequest\" xlink:href=\"psysml:9b235a5a-e1e6-4e2e-a344-8e5fae0ff3e7\" xlink:show=\"new\" xlink:title=\"psysml:9b235a5a-e1e6-4e2e-a344-8e5fae0ff3e7\" xlink:type=\"simple\"><path d=\"M155.83,133.68 C154.24,149.9 152.04,172.39 150.12,191.96 \" fill=\"none\" id=\"E6-&gt;E3\" style=\"stroke: #A80036; stroke-width: 1.0;\"/><polygon fill=\"#FFFFFF\" points=\"148.16,211.98,143.0533,192.3861,156.986,193.7564,148.16,211.98\" style=\"stroke: #A80036; stroke-width: 1.0;\"/><ellipse cx=\"145.6016\" cy=\"186.9092\" fill=\"#A80036\" rx=\"2\" ry=\"2\" style=\"stroke: #A80036; stroke-width: 1.0;\"/><ellipse cx=\"155.5535\" cy=\"187.888\" fill=\"#A80036\" rx=\"2\" ry=\"2\" style=\"stroke: #A80036; stroke-width: 1.0;\"/></a><!--MD5=[93adfa5346873009f3eff3015b221826]\n",
       "@startuml\r\n",
       "skinparam wrapWidth 300\r\n",
       "hide circle\r\n",
       "\r\n",
       "package \"QualifiedNameImportTest\" as E1  [[psysml:c8de649d-2dc2-4761-aec9-7bacaacfe515 ]]  {\r\n",
       "package \"P1\" as E2  [[psysml:6cc89760-fc75-419d-8f57-c720b4f2efbc ]]  {\r\n",
       "comp def \"A\" as E3  <<(T,blue) part def>> [[psysml:e98f2231-0909-453e-b014-2111b959b184 ]] {\r\n",
       "}\r\n",
       "}\r\n",
       "package \"P2\" as E4  [[psysml:42adecdc-f281-4f00-8fb0-2d405003d942 ]]  {\r\n",
       "package \"P2a\" as E5  [[psysml:e3978575-11c4-4054-8f35-fdd3c4e4a8ed ]]  {\r\n",
       "}\r\n",
       "comp usage \"x: A\" as E6  <<(T,blue) part>> [[psysml:7d458e03-6011-4476-9c3b-13cd018efbef ]] {\r\n",
       "}\r\n",
       "}\r\n",
       "}\r\n",
       "E6 - -:|> E3 [[psysml:9b235a5a-e1e6-4e2e-a344-8e5fae0ff3e7 ]] \r\n",
       "@enduml\r\n",
       "\n",
       "PlantUML version 1.2020.13(Sat Jun 13 12:26:38 UTC 2020)\n",
       "(EPL source distribution)\n",
       "Java Runtime: OpenJDK Runtime Environment\n",
       "JVM: OpenJDK 64-Bit Server VM\n",
       "Default Encoding: UTF-8\n",
       "Language: en\n",
       "Country: null\n",
       "--></g></svg>"
      ]
     },
     "execution_count": 29,
     "metadata": {},
     "output_type": "execute_result"
    }
   ],
   "source": [
    "%viz --style=\"STDCOLOR\" --view=\"MIXED\" \"QualifiedNameImportTest\""
   ]
  },
  {
   "cell_type": "code",
   "execution_count": 30,
   "id": "86031044",
   "metadata": {
    "execution": {
     "iopub.execute_input": "2021-09-27T07:19:00.978461Z",
     "iopub.status.busy": "2021-09-27T07:19:00.977853Z",
     "iopub.status.idle": "2021-09-27T07:19:01.028153Z",
     "shell.execute_reply": "2021-09-27T07:19:01.026853Z"
    }
   },
   "outputs": [
    {
     "data": {
      "image/svg+xml": [
       "<?xml version=\"1.0\" encoding=\"UTF-8\" standalone=\"no\"?><svg xmlns=\"http://www.w3.org/2000/svg\" xmlns:xlink=\"http://www.w3.org/1999/xlink\" contentScriptType=\"application/ecmascript\" contentStyleType=\"text/css\" height=\"304px\" preserveAspectRatio=\"none\" style=\"width:267px;height:304px;\" version=\"1.1\" viewBox=\"0 0 267 304\" width=\"267px\" zoomAndPan=\"magnify\"><defs><filter height=\"300%\" id=\"f1phtvvvmw9ck8\" width=\"300%\" x=\"-1\" y=\"-1\"><feGaussianBlur result=\"blurOut\" stdDeviation=\"2.0\"/><feColorMatrix in=\"blurOut\" result=\"blurOut2\" type=\"matrix\" values=\"0 0 0 0 0 0 0 0 0 0 0 0 0 0 0 0 0 0 .4 0\"/><feOffset dx=\"4.0\" dy=\"4.0\" in=\"blurOut2\" result=\"blurOut3\"/><feBlend in=\"SourceGraphic\" in2=\"blurOut3\" mode=\"normal\"/></filter></defs><g><!--MD5=[fbc87193dbaf4d95561dea2c320d4a47]\n",
       "cluster E1--><a href=\"psysml:c8de649d-2dc2-4761-aec9-7bacaacfe515\" target=\"_top\" title=\"psysml:c8de649d-2dc2-4761-aec9-7bacaacfe515\" xlink:actuate=\"onRequest\" xlink:href=\"psysml:c8de649d-2dc2-4761-aec9-7bacaacfe515\" xlink:show=\"new\" xlink:title=\"psysml:c8de649d-2dc2-4761-aec9-7bacaacfe515\" xlink:type=\"simple\"><polygon fill=\"#FFFFFF\" filter=\"url(#f1phtvvvmw9ck8)\" points=\"16,6,196,6,203,28.2969,245,28.2969,245,292,16,292,16,6\" style=\"stroke: #000000; stroke-width: 1.5;\"/><line style=\"stroke: #000000; stroke-width: 1.5;\" x1=\"16\" x2=\"203\" y1=\"28.2969\" y2=\"28.2969\"/><text fill=\"#000000\" font-family=\"sans-serif\" font-size=\"14\" font-weight=\"bold\" lengthAdjust=\"spacingAndGlyphs\" textLength=\"174\" x=\"20\" y=\"20.9951\">QualifiedNameImportTest</text></a><!--MD5=[e4f7fae6ed58524ba242bb0b0d3be6b7]\n",
       "cluster E2--><a href=\"psysml:6cc89760-fc75-419d-8f57-c720b4f2efbc\" target=\"_top\" title=\"psysml:6cc89760-fc75-419d-8f57-c720b4f2efbc\" xlink:actuate=\"onRequest\" xlink:href=\"psysml:6cc89760-fc75-419d-8f57-c720b4f2efbc\" xlink:show=\"new\" xlink:title=\"psysml:6cc89760-fc75-419d-8f57-c720b4f2efbc\" xlink:type=\"simple\"><polygon fill=\"#FFFFFF\" filter=\"url(#f1phtvvvmw9ck8)\" points=\"135,177,159,177,166,199.2969,207,199.2969,207,268,135,268,135,177\" style=\"stroke: #000000; stroke-width: 1.5;\"/><line style=\"stroke: #000000; stroke-width: 1.5;\" x1=\"135\" x2=\"166\" y1=\"199.2969\" y2=\"199.2969\"/><text fill=\"#000000\" font-family=\"sans-serif\" font-size=\"14\" font-weight=\"bold\" lengthAdjust=\"spacingAndGlyphs\" textLength=\"18\" x=\"139\" y=\"191.9951\">P1</text></a><!--MD5=[f6df4d0ebaf0b5dfb2ced0ae5af7c670]\n",
       "cluster E4--><a href=\"psysml:42adecdc-f281-4f00-8fb0-2d405003d942\" target=\"_top\" title=\"psysml:42adecdc-f281-4f00-8fb0-2d405003d942\" xlink:actuate=\"onRequest\" xlink:href=\"psysml:42adecdc-f281-4f00-8fb0-2d405003d942\" xlink:show=\"new\" xlink:title=\"psysml:42adecdc-f281-4f00-8fb0-2d405003d942\" xlink:type=\"simple\"><polygon fill=\"#FFFFFF\" filter=\"url(#f1phtvvvmw9ck8)\" points=\"40,49,64,49,71,71.2969,221,71.2969,221,153,40,153,40,49\" style=\"stroke: #000000; stroke-width: 1.5;\"/><line style=\"stroke: #000000; stroke-width: 1.5;\" x1=\"40\" x2=\"71\" y1=\"71.2969\" y2=\"71.2969\"/><text fill=\"#000000\" font-family=\"sans-serif\" font-size=\"14\" font-weight=\"bold\" lengthAdjust=\"spacingAndGlyphs\" textLength=\"18\" x=\"44\" y=\"63.9951\">P2</text></a><!--MD5=[09b614a08d8cba4a07c9adeb5e0fee81]\n",
       "class E3--><a href=\"psysml:e98f2231-0909-453e-b014-2111b959b184\" target=\"_top\" title=\"psysml:e98f2231-0909-453e-b014-2111b959b184\" xlink:actuate=\"onRequest\" xlink:href=\"psysml:e98f2231-0909-453e-b014-2111b959b184\" xlink:show=\"new\" xlink:title=\"psysml:e98f2231-0909-453e-b014-2111b959b184\" xlink:type=\"simple\"><rect fill=\"#FEFECE\" filter=\"url(#f1phtvvvmw9ck8)\" height=\"40\" id=\"E3\" style=\"stroke: #A80036; stroke-width: 1.5;\" width=\"40\" x=\"151\" y=\"212\"/><ellipse cx=\"166\" cy=\"228\" fill=\"#008000\" rx=\"11\" ry=\"11\" style=\"stroke: #A80036; stroke-width: 1.0;\"/><path d=\"M162.875,233 L162.875,222.4063 L166.1094,222.4063 Q168.0156,222.4063 168.9219,223.1563 Q169.8438,223.9063 169.8438,225.0781 Q169.8438,225.7656 169.4531,226.4219 Q169.0781,227.0781 168.3594,227.375 Q169.2188,227.75 169.7344,228.4375 Q170.25,229.125 170.25,229.9375 Q170.25,231.3125 169.2188,232.1563 Q168.2031,233 166.0938,233 L162.875,233 Z M164.7969,226.6406 L165.9531,226.6406 Q167.0781,226.6406 167.4844,226.2656 Q167.9063,225.875 167.9063,225.25 Q167.9063,224.6719 167.4844,224.3125 Q167.0625,223.9531 166.125,223.9531 L164.7969,223.9531 L164.7969,226.6406 Z M164.7969,231.4219 L166.2969,231.4219 Q167.2031,231.4219 167.7344,231.0313 Q168.2656,230.6406 168.2656,229.8906 Q168.2656,229.125 167.7656,228.6563 Q167.2656,228.1719 166,228.1719 L164.7969,228.1719 L164.7969,231.4219 Z \"/><text fill=\"#000000\" font-family=\"sans-serif\" font-size=\"12\" lengthAdjust=\"spacingAndGlyphs\" textLength=\"8\" x=\"180\" y=\"232.1543\">A</text><line style=\"stroke: #A80036; stroke-width: 1.5;\" x1=\"152\" x2=\"190\" y1=\"244\" y2=\"244\"/></a><!--MD5=[60a26617385b1d2d0262a64233df1f8d]\n",
       "class E6--><a href=\"psysml:7d458e03-6011-4476-9c3b-13cd018efbef\" target=\"_top\" title=\"psysml:7d458e03-6011-4476-9c3b-13cd018efbef\" xlink:actuate=\"onRequest\" xlink:href=\"psysml:7d458e03-6011-4476-9c3b-13cd018efbef\" xlink:show=\"new\" xlink:title=\"psysml:7d458e03-6011-4476-9c3b-13cd018efbef\" xlink:type=\"simple\"><rect fill=\"#FEFECE\" filter=\"url(#f1phtvvvmw9ck8)\" height=\"45.9375\" id=\"E6\" rx=\"10\" ry=\"10\" style=\"stroke: #A80036; stroke-width: 1.5;\" width=\"68\" x=\"137\" y=\"87.5\"/><ellipse cx=\"152\" cy=\"106.4688\" fill=\"#32CD32\" rx=\"11\" ry=\"11\" style=\"stroke: #A80036; stroke-width: 1.0;\"/><path d=\"M148.8125,111.4688 L148.8125,100.875 L152.4219,100.875 Q153.6406,100.875 154.4375,101.3125 Q155.2344,101.7344 155.6094,102.4375 Q156,103.1406 156,103.9844 Q156,104.8281 155.625,105.5156 Q155.2656,106.2031 154.4688,106.625 Q153.6875,107.0313 152.5,107.0313 L150.7656,107.0313 L150.7656,111.4688 L148.8125,111.4688 Z M150.7656,105.4375 L152.375,105.4375 Q153.1875,105.4375 153.6094,105.0313 Q154.0313,104.625 154.0313,103.9844 Q154.0313,103.3594 153.6094,102.9531 Q153.1875,102.5469 152.3906,102.5469 L150.7656,102.5469 L150.7656,105.4375 Z \"/><text fill=\"#000000\" font-family=\"sans-serif\" font-size=\"12\" font-style=\"italic\" lengthAdjust=\"spacingAndGlyphs\" textLength=\"40\" x=\"164\" y=\"103.6387\">«part»</text><text fill=\"#000000\" font-family=\"sans-serif\" font-size=\"12\" lengthAdjust=\"spacingAndGlyphs\" textLength=\"22\" x=\"173\" y=\"117.6074\">x: A</text><line style=\"stroke: #A80036; stroke-width: 1.5;\" x1=\"138\" x2=\"204\" y1=\"125.4375\" y2=\"125.4375\"/></a><a href=\"psysml:e3978575-11c4-4054-8f35-fdd3c4e4a8ed\" target=\"_top\" title=\"psysml:e3978575-11c4-4054-8f35-fdd3c4e4a8ed\" xlink:actuate=\"onRequest\" xlink:href=\"psysml:e3978575-11c4-4054-8f35-fdd3c4e4a8ed\" xlink:show=\"new\" xlink:title=\"psysml:e3978575-11c4-4054-8f35-fdd3c4e4a8ed\" xlink:type=\"simple\"><polygon fill=\"#FFFFFF\" filter=\"url(#f1phtvvvmw9ck8)\" points=\"56,84,88,84,95,106.2969,102,106.2969,102,136.5938,56,136.5938,56,84\" style=\"stroke: #000000; stroke-width: 1.5;\"/><line style=\"stroke: #000000; stroke-width: 1.5;\" x1=\"56\" x2=\"95\" y1=\"106.2969\" y2=\"106.2969\"/><text fill=\"#000000\" font-family=\"sans-serif\" font-size=\"14\" font-weight=\"bold\" lengthAdjust=\"spacingAndGlyphs\" textLength=\"26\" x=\"60\" y=\"98.9951\">P2a</text></a><!--MD5=[a717450b82c80b9240a525fa862496af]\n",
       "link E6 to E3--><a href=\"psysml:9b235a5a-e1e6-4e2e-a344-8e5fae0ff3e7\" target=\"_top\" title=\"psysml:9b235a5a-e1e6-4e2e-a344-8e5fae0ff3e7\" xlink:actuate=\"onRequest\" xlink:href=\"psysml:9b235a5a-e1e6-4e2e-a344-8e5fae0ff3e7\" xlink:show=\"new\" xlink:title=\"psysml:9b235a5a-e1e6-4e2e-a344-8e5fae0ff3e7\" xlink:type=\"simple\"><path d=\"M171,133.7 C171,149.89 171,172.27 171,191.49 \" fill=\"none\" id=\"E6-&gt;E3\" style=\"stroke: #A80036; stroke-width: 1.0;\"/><polygon fill=\"#FFFFFF\" points=\"171,211.69,164,192.69,178,192.69,171,211.69\" style=\"stroke: #A80036; stroke-width: 1.0;\"/><ellipse cx=\"166\" cy=\"186.99\" fill=\"#A80036\" rx=\"2\" ry=\"2\" style=\"stroke: #A80036; stroke-width: 1.0;\"/><ellipse cx=\"176\" cy=\"186.99\" fill=\"#A80036\" rx=\"2\" ry=\"2\" style=\"stroke: #A80036; stroke-width: 1.0;\"/></a><!--MD5=[441fbc6e34863fc9d763bd9180d3079c]\n",
       "@startuml\r\n",
       " \r\n",
       "package \"QualifiedNameImportTest\" as E1  [[psysml:c8de649d-2dc2-4761-aec9-7bacaacfe515 ]]  {\r\n",
       "package \"P1\" as E2  [[psysml:6cc89760-fc75-419d-8f57-c720b4f2efbc ]]  {\r\n",
       "comp def \"A\" as E3 << << (B,green) >> [[psysml:e98f2231-0909-453e-b014-2111b959b184 ]] {\r\n",
       "}\r\n",
       "}\r\n",
       "package \"P2\" as E4  [[psysml:42adecdc-f281-4f00-8fb0-2d405003d942 ]]  {\r\n",
       "package \"P2a\" as E5  [[psysml:e3978575-11c4-4054-8f35-fdd3c4e4a8ed ]]  {\r\n",
       "}\r\n",
       "comp usage \"x: A\" as E6 << << (P,limegreen) part>> [[psysml:7d458e03-6011-4476-9c3b-13cd018efbef ]] {\r\n",
       "}\r\n",
       "}\r\n",
       "}\r\n",
       "E6 - -:|> E3 [[psysml:9b235a5a-e1e6-4e2e-a344-8e5fae0ff3e7 ]] \r\n",
       "@enduml\r\n",
       "\n",
       "PlantUML version 1.2020.13(Sat Jun 13 12:26:38 UTC 2020)\n",
       "(EPL source distribution)\n",
       "Java Runtime: OpenJDK Runtime Environment\n",
       "JVM: OpenJDK 64-Bit Server VM\n",
       "Default Encoding: UTF-8\n",
       "Language: en\n",
       "Country: null\n",
       "--></g></svg>"
      ]
     },
     "execution_count": 30,
     "metadata": {},
     "output_type": "execute_result"
    }
   ],
   "source": [
    "%viz --style=\"PLANTUML\" --view=\"Default\" \"QualifiedNameImportTest\""
   ]
  },
  {
   "cell_type": "code",
   "execution_count": 31,
   "id": "d5eba7fc",
   "metadata": {
    "execution": {
     "iopub.execute_input": "2021-09-27T07:19:01.077852Z",
     "iopub.status.busy": "2021-09-27T07:19:01.077233Z",
     "iopub.status.idle": "2021-09-27T07:19:01.106713Z",
     "shell.execute_reply": "2021-09-27T07:19:01.106345Z"
    }
   },
   "outputs": [
    {
     "data": {
      "image/svg+xml": [
       "<?xml version=\"1.0\" encoding=\"UTF-8\" standalone=\"no\"?><svg xmlns=\"http://www.w3.org/2000/svg\" xmlns:xlink=\"http://www.w3.org/1999/xlink\" contentScriptType=\"application/ecmascript\" contentStyleType=\"text/css\" height=\"304px\" preserveAspectRatio=\"none\" style=\"width:267px;height:304px;\" version=\"1.1\" viewBox=\"0 0 267 304\" width=\"267px\" zoomAndPan=\"magnify\"><defs><filter height=\"300%\" id=\"f1phtvvvmw9ck8\" width=\"300%\" x=\"-1\" y=\"-1\"><feGaussianBlur result=\"blurOut\" stdDeviation=\"2.0\"/><feColorMatrix in=\"blurOut\" result=\"blurOut2\" type=\"matrix\" values=\"0 0 0 0 0 0 0 0 0 0 0 0 0 0 0 0 0 0 .4 0\"/><feOffset dx=\"4.0\" dy=\"4.0\" in=\"blurOut2\" result=\"blurOut3\"/><feBlend in=\"SourceGraphic\" in2=\"blurOut3\" mode=\"normal\"/></filter></defs><g><!--MD5=[fbc87193dbaf4d95561dea2c320d4a47]\n",
       "cluster E1--><a href=\"psysml:c8de649d-2dc2-4761-aec9-7bacaacfe515\" target=\"_top\" title=\"psysml:c8de649d-2dc2-4761-aec9-7bacaacfe515\" xlink:actuate=\"onRequest\" xlink:href=\"psysml:c8de649d-2dc2-4761-aec9-7bacaacfe515\" xlink:show=\"new\" xlink:title=\"psysml:c8de649d-2dc2-4761-aec9-7bacaacfe515\" xlink:type=\"simple\"><polygon fill=\"#FFFFFF\" filter=\"url(#f1phtvvvmw9ck8)\" points=\"16,6,196,6,203,28.2969,245,28.2969,245,292,16,292,16,6\" style=\"stroke: #000000; stroke-width: 1.5;\"/><line style=\"stroke: #000000; stroke-width: 1.5;\" x1=\"16\" x2=\"203\" y1=\"28.2969\" y2=\"28.2969\"/><text fill=\"#000000\" font-family=\"sans-serif\" font-size=\"14\" font-weight=\"bold\" lengthAdjust=\"spacingAndGlyphs\" textLength=\"174\" x=\"20\" y=\"20.9951\">QualifiedNameImportTest</text></a><!--MD5=[e4f7fae6ed58524ba242bb0b0d3be6b7]\n",
       "cluster E2--><a href=\"psysml:6cc89760-fc75-419d-8f57-c720b4f2efbc\" target=\"_top\" title=\"psysml:6cc89760-fc75-419d-8f57-c720b4f2efbc\" xlink:actuate=\"onRequest\" xlink:href=\"psysml:6cc89760-fc75-419d-8f57-c720b4f2efbc\" xlink:show=\"new\" xlink:title=\"psysml:6cc89760-fc75-419d-8f57-c720b4f2efbc\" xlink:type=\"simple\"><polygon fill=\"#FFFFFF\" filter=\"url(#f1phtvvvmw9ck8)\" points=\"135,177,159,177,166,199.2969,207,199.2969,207,268,135,268,135,177\" style=\"stroke: #000000; stroke-width: 1.5;\"/><line style=\"stroke: #000000; stroke-width: 1.5;\" x1=\"135\" x2=\"166\" y1=\"199.2969\" y2=\"199.2969\"/><text fill=\"#000000\" font-family=\"sans-serif\" font-size=\"14\" font-weight=\"bold\" lengthAdjust=\"spacingAndGlyphs\" textLength=\"18\" x=\"139\" y=\"191.9951\">P1</text></a><!--MD5=[f6df4d0ebaf0b5dfb2ced0ae5af7c670]\n",
       "cluster E4--><a href=\"psysml:42adecdc-f281-4f00-8fb0-2d405003d942\" target=\"_top\" title=\"psysml:42adecdc-f281-4f00-8fb0-2d405003d942\" xlink:actuate=\"onRequest\" xlink:href=\"psysml:42adecdc-f281-4f00-8fb0-2d405003d942\" xlink:show=\"new\" xlink:title=\"psysml:42adecdc-f281-4f00-8fb0-2d405003d942\" xlink:type=\"simple\"><polygon fill=\"#FFFFFF\" filter=\"url(#f1phtvvvmw9ck8)\" points=\"40,49,64,49,71,71.2969,221,71.2969,221,153,40,153,40,49\" style=\"stroke: #000000; stroke-width: 1.5;\"/><line style=\"stroke: #000000; stroke-width: 1.5;\" x1=\"40\" x2=\"71\" y1=\"71.2969\" y2=\"71.2969\"/><text fill=\"#000000\" font-family=\"sans-serif\" font-size=\"14\" font-weight=\"bold\" lengthAdjust=\"spacingAndGlyphs\" textLength=\"18\" x=\"44\" y=\"63.9951\">P2</text></a><!--MD5=[09b614a08d8cba4a07c9adeb5e0fee81]\n",
       "class E3--><a href=\"psysml:e98f2231-0909-453e-b014-2111b959b184\" target=\"_top\" title=\"psysml:e98f2231-0909-453e-b014-2111b959b184\" xlink:actuate=\"onRequest\" xlink:href=\"psysml:e98f2231-0909-453e-b014-2111b959b184\" xlink:show=\"new\" xlink:title=\"psysml:e98f2231-0909-453e-b014-2111b959b184\" xlink:type=\"simple\"><rect fill=\"#FEFECE\" filter=\"url(#f1phtvvvmw9ck8)\" height=\"40\" id=\"E3\" style=\"stroke: #A80036; stroke-width: 1.5;\" width=\"40\" x=\"151\" y=\"212\"/><ellipse cx=\"166\" cy=\"228\" fill=\"#008000\" rx=\"11\" ry=\"11\" style=\"stroke: #A80036; stroke-width: 1.0;\"/><path d=\"M162.875,233 L162.875,222.4063 L166.1094,222.4063 Q168.0156,222.4063 168.9219,223.1563 Q169.8438,223.9063 169.8438,225.0781 Q169.8438,225.7656 169.4531,226.4219 Q169.0781,227.0781 168.3594,227.375 Q169.2188,227.75 169.7344,228.4375 Q170.25,229.125 170.25,229.9375 Q170.25,231.3125 169.2188,232.1563 Q168.2031,233 166.0938,233 L162.875,233 Z M164.7969,226.6406 L165.9531,226.6406 Q167.0781,226.6406 167.4844,226.2656 Q167.9063,225.875 167.9063,225.25 Q167.9063,224.6719 167.4844,224.3125 Q167.0625,223.9531 166.125,223.9531 L164.7969,223.9531 L164.7969,226.6406 Z M164.7969,231.4219 L166.2969,231.4219 Q167.2031,231.4219 167.7344,231.0313 Q168.2656,230.6406 168.2656,229.8906 Q168.2656,229.125 167.7656,228.6563 Q167.2656,228.1719 166,228.1719 L164.7969,228.1719 L164.7969,231.4219 Z \"/><text fill=\"#000000\" font-family=\"sans-serif\" font-size=\"12\" lengthAdjust=\"spacingAndGlyphs\" textLength=\"8\" x=\"180\" y=\"232.1543\">A</text><line style=\"stroke: #A80036; stroke-width: 1.5;\" x1=\"152\" x2=\"190\" y1=\"244\" y2=\"244\"/></a><!--MD5=[60a26617385b1d2d0262a64233df1f8d]\n",
       "class E6--><a href=\"psysml:7d458e03-6011-4476-9c3b-13cd018efbef\" target=\"_top\" title=\"psysml:7d458e03-6011-4476-9c3b-13cd018efbef\" xlink:actuate=\"onRequest\" xlink:href=\"psysml:7d458e03-6011-4476-9c3b-13cd018efbef\" xlink:show=\"new\" xlink:title=\"psysml:7d458e03-6011-4476-9c3b-13cd018efbef\" xlink:type=\"simple\"><rect fill=\"#FEFECE\" filter=\"url(#f1phtvvvmw9ck8)\" height=\"45.9375\" id=\"E6\" rx=\"10\" ry=\"10\" style=\"stroke: #A80036; stroke-width: 1.5;\" width=\"68\" x=\"137\" y=\"87.5\"/><ellipse cx=\"152\" cy=\"106.4688\" fill=\"#32CD32\" rx=\"11\" ry=\"11\" style=\"stroke: #A80036; stroke-width: 1.0;\"/><path d=\"M148.8125,111.4688 L148.8125,100.875 L152.4219,100.875 Q153.6406,100.875 154.4375,101.3125 Q155.2344,101.7344 155.6094,102.4375 Q156,103.1406 156,103.9844 Q156,104.8281 155.625,105.5156 Q155.2656,106.2031 154.4688,106.625 Q153.6875,107.0313 152.5,107.0313 L150.7656,107.0313 L150.7656,111.4688 L148.8125,111.4688 Z M150.7656,105.4375 L152.375,105.4375 Q153.1875,105.4375 153.6094,105.0313 Q154.0313,104.625 154.0313,103.9844 Q154.0313,103.3594 153.6094,102.9531 Q153.1875,102.5469 152.3906,102.5469 L150.7656,102.5469 L150.7656,105.4375 Z \"/><text fill=\"#000000\" font-family=\"sans-serif\" font-size=\"12\" font-style=\"italic\" lengthAdjust=\"spacingAndGlyphs\" textLength=\"40\" x=\"164\" y=\"103.6387\">«part»</text><text fill=\"#000000\" font-family=\"sans-serif\" font-size=\"12\" lengthAdjust=\"spacingAndGlyphs\" textLength=\"22\" x=\"173\" y=\"117.6074\">x: A</text><line style=\"stroke: #A80036; stroke-width: 1.5;\" x1=\"138\" x2=\"204\" y1=\"125.4375\" y2=\"125.4375\"/></a><a href=\"psysml:e3978575-11c4-4054-8f35-fdd3c4e4a8ed\" target=\"_top\" title=\"psysml:e3978575-11c4-4054-8f35-fdd3c4e4a8ed\" xlink:actuate=\"onRequest\" xlink:href=\"psysml:e3978575-11c4-4054-8f35-fdd3c4e4a8ed\" xlink:show=\"new\" xlink:title=\"psysml:e3978575-11c4-4054-8f35-fdd3c4e4a8ed\" xlink:type=\"simple\"><polygon fill=\"#FFFFFF\" filter=\"url(#f1phtvvvmw9ck8)\" points=\"56,84,88,84,95,106.2969,102,106.2969,102,136.5938,56,136.5938,56,84\" style=\"stroke: #000000; stroke-width: 1.5;\"/><line style=\"stroke: #000000; stroke-width: 1.5;\" x1=\"56\" x2=\"95\" y1=\"106.2969\" y2=\"106.2969\"/><text fill=\"#000000\" font-family=\"sans-serif\" font-size=\"14\" font-weight=\"bold\" lengthAdjust=\"spacingAndGlyphs\" textLength=\"26\" x=\"60\" y=\"98.9951\">P2a</text></a><!--MD5=[a717450b82c80b9240a525fa862496af]\n",
       "link E6 to E3--><a href=\"psysml:9b235a5a-e1e6-4e2e-a344-8e5fae0ff3e7\" target=\"_top\" title=\"psysml:9b235a5a-e1e6-4e2e-a344-8e5fae0ff3e7\" xlink:actuate=\"onRequest\" xlink:href=\"psysml:9b235a5a-e1e6-4e2e-a344-8e5fae0ff3e7\" xlink:show=\"new\" xlink:title=\"psysml:9b235a5a-e1e6-4e2e-a344-8e5fae0ff3e7\" xlink:type=\"simple\"><path d=\"M171,133.7 C171,149.89 171,172.27 171,191.49 \" fill=\"none\" id=\"E6-&gt;E3\" style=\"stroke: #A80036; stroke-width: 1.0;\"/><polygon fill=\"#FFFFFF\" points=\"171,211.69,164,192.69,178,192.69,171,211.69\" style=\"stroke: #A80036; stroke-width: 1.0;\"/><ellipse cx=\"166\" cy=\"186.99\" fill=\"#A80036\" rx=\"2\" ry=\"2\" style=\"stroke: #A80036; stroke-width: 1.0;\"/><ellipse cx=\"176\" cy=\"186.99\" fill=\"#A80036\" rx=\"2\" ry=\"2\" style=\"stroke: #A80036; stroke-width: 1.0;\"/></a><!--MD5=[441fbc6e34863fc9d763bd9180d3079c]\n",
       "@startuml\r\n",
       " \r\n",
       "package \"QualifiedNameImportTest\" as E1  [[psysml:c8de649d-2dc2-4761-aec9-7bacaacfe515 ]]  {\r\n",
       "package \"P1\" as E2  [[psysml:6cc89760-fc75-419d-8f57-c720b4f2efbc ]]  {\r\n",
       "comp def \"A\" as E3 << << (B,green) >> [[psysml:e98f2231-0909-453e-b014-2111b959b184 ]] {\r\n",
       "}\r\n",
       "}\r\n",
       "package \"P2\" as E4  [[psysml:42adecdc-f281-4f00-8fb0-2d405003d942 ]]  {\r\n",
       "package \"P2a\" as E5  [[psysml:e3978575-11c4-4054-8f35-fdd3c4e4a8ed ]]  {\r\n",
       "}\r\n",
       "comp usage \"x: A\" as E6 << << (P,limegreen) part>> [[psysml:7d458e03-6011-4476-9c3b-13cd018efbef ]] {\r\n",
       "}\r\n",
       "}\r\n",
       "}\r\n",
       "E6 - -:|> E3 [[psysml:9b235a5a-e1e6-4e2e-a344-8e5fae0ff3e7 ]] \r\n",
       "@enduml\r\n",
       "\n",
       "PlantUML version 1.2020.13(Sat Jun 13 12:26:38 UTC 2020)\n",
       "(EPL source distribution)\n",
       "Java Runtime: OpenJDK Runtime Environment\n",
       "JVM: OpenJDK 64-Bit Server VM\n",
       "Default Encoding: UTF-8\n",
       "Language: en\n",
       "Country: null\n",
       "--></g></svg>"
      ]
     },
     "execution_count": 31,
     "metadata": {},
     "output_type": "execute_result"
    }
   ],
   "source": [
    "%viz --style=\"PLANTUML\" --view=\"Tree\" \"QualifiedNameImportTest\""
   ]
  },
  {
   "cell_type": "code",
   "execution_count": 32,
   "id": "302fc3fd",
   "metadata": {
    "execution": {
     "iopub.execute_input": "2021-09-27T07:19:01.156317Z",
     "iopub.status.busy": "2021-09-27T07:19:01.155888Z",
     "iopub.status.idle": "2021-09-27T07:19:01.257173Z",
     "shell.execute_reply": "2021-09-27T07:19:01.255880Z"
    }
   },
   "outputs": [
    {
     "data": {
      "image/svg+xml": [
       "<?xml version=\"1.0\" encoding=\"UTF-8\" standalone=\"no\"?><svg xmlns=\"http://www.w3.org/2000/svg\" xmlns:xlink=\"http://www.w3.org/1999/xlink\" contentScriptType=\"application/ecmascript\" contentStyleType=\"text/css\" height=\"300px\" preserveAspectRatio=\"none\" style=\"width:603px;height:300px;background:#000000;\" version=\"1.1\" viewBox=\"0 0 603 300\" width=\"603px\" zoomAndPan=\"magnify\"><defs/><g><rect fill=\"#0E000A\" height=\"1\" style=\"stroke: #0E000A; stroke-width: 1.0;\" width=\"1\" x=\"0\" y=\"0\"/><rect fill=\"#FFFFFF\" height=\"202.8012\" style=\"stroke: #FFFFFF; stroke-width: 1.0;\" width=\"602\" x=\"0\" y=\"0\"/><text fill=\"#000000\" font-family=\"sans-serif\" font-size=\"12\" font-weight=\"bold\" lengthAdjust=\"spacingAndGlyphs\" textLength=\"139\" x=\"5\" y=\"16.1387\">Welcome to PlantUML!</text><text fill=\"#000000\" font-family=\"sans-serif\" font-size=\"12\" lengthAdjust=\"spacingAndGlyphs\" textLength=\"0\" x=\"9\" y=\"30.1074\"/><text fill=\"#000000\" font-family=\"sans-serif\" font-size=\"12\" lengthAdjust=\"spacingAndGlyphs\" textLength=\"293\" x=\"5\" y=\"44.0762\">If you use this software, you accept its license.</text><text fill=\"#000000\" font-family=\"sans-serif\" font-size=\"12\" lengthAdjust=\"spacingAndGlyphs\" textLength=\"107\" x=\"5\" y=\"58.0449\">(details by typing</text><text fill=\"#000000\" font-family=\"monospace\" font-size=\"12\" lengthAdjust=\"spacingAndGlyphs\" textLength=\"42\" x=\"116\" y=\"58.595\">license</text><text fill=\"#000000\" font-family=\"sans-serif\" font-size=\"12\" lengthAdjust=\"spacingAndGlyphs\" textLength=\"56\" x=\"162\" y=\"58.0449\">keyword)</text><text fill=\"#000000\" font-family=\"sans-serif\" font-size=\"12\" lengthAdjust=\"spacingAndGlyphs\" textLength=\"0\" x=\"9\" y=\"72.0137\"/><text fill=\"#000000\" font-family=\"sans-serif\" font-size=\"12\" lengthAdjust=\"spacingAndGlyphs\" textLength=\"283\" x=\"5\" y=\"85.9824\">You can start with a simple UML Diagram like:</text><text fill=\"#000000\" font-family=\"sans-serif\" font-size=\"12\" lengthAdjust=\"spacingAndGlyphs\" textLength=\"0\" x=\"9\" y=\"99.9512\"/><text fill=\"#000000\" font-family=\"monospace\" font-size=\"12\" lengthAdjust=\"spacingAndGlyphs\" textLength=\"102\" x=\"5\" y=\"113.0893\">Bob-&gt;Alice: Hello</text><text fill=\"#000000\" font-family=\"sans-serif\" font-size=\"12\" lengthAdjust=\"spacingAndGlyphs\" textLength=\"0\" x=\"9\" y=\"126.508\"/><text fill=\"#000000\" font-family=\"sans-serif\" font-size=\"12\" lengthAdjust=\"spacingAndGlyphs\" textLength=\"14\" x=\"5\" y=\"140.4768\">Or</text><text fill=\"#000000\" font-family=\"sans-serif\" font-size=\"12\" lengthAdjust=\"spacingAndGlyphs\" textLength=\"0\" x=\"9\" y=\"154.4455\"/><text fill=\"#000000\" font-family=\"monospace\" font-size=\"12\" lengthAdjust=\"spacingAndGlyphs\" textLength=\"78\" x=\"5\" y=\"167.5837\">class Example</text><text fill=\"#000000\" font-family=\"sans-serif\" font-size=\"12\" lengthAdjust=\"spacingAndGlyphs\" textLength=\"0\" x=\"9\" y=\"181.0023\"/><text fill=\"#000000\" font-family=\"sans-serif\" font-size=\"12\" lengthAdjust=\"spacingAndGlyphs\" textLength=\"349\" x=\"5\" y=\"194.9711\">You will find more information about PlantUML syntax on</text><text fill=\"#000000\" font-family=\"sans-serif\" font-size=\"12\" lengthAdjust=\"spacingAndGlyphs\" text-decoration=\"underline\" textLength=\"129\" x=\"358\" y=\"194.9711\">https://plantuml.com</text><image height=\"71\" width=\"80\" x=\"516\" xlink:href=\"data:image/png;base64,iVBORw0KGgoAAAANSUhEUgAAAFAAAABHCAMAAACnHDC8AAADAFBMVEX///+BpbvD3u/f7vfPz8+nz+g3ksuZEDkWADr/ujlvsdpTodLCwsOLwOEbg8T//v6pqamZETnLysvT09To5+jqLS4VATj9/f27u7vDw8MTfsK+v7/j4+SOweJprdjL4/KxsbEri8jk8PgXa57c29uUETez1utQoNJ1tNtEmc9cptWBut6ayOW/3O6YEDjY6vUfhcXBwcHs7Ozw9/v83t79uTn7+/vX19ehoaHx8fG2tLXHx8fuVlfrNTYaBjn/vUH5+fmko6WXl5f/+fn95ub+9PT+8PD3qKidmaMxIUrnqDWcFj7n5eX09PTu7u2SkpKfnZ6rq6z0lJTm4tzJrHUfDT339/eFGDn6tjcrEzOvrbBuZ3l4eomSMS7Hz9Smpqasu8SFiYuQETfa2du1m6OOM051J0NWTWL5xse4uLj6zc33r6/4vb7ydHXqLi/72dntTE3tR0ijbn5jW3C+u8NANVQrG0XFubqRVGZza4GQGT2VaS7a0NPJtI6IJj/zszrfqkXXzr/Hw8cgC0LUqltOQ2JsSC5bTGjOpFafSi2+iDGtyt14m7TJhTCPJUSwoIG/qa+ikHiIgpCRHjI9j8KXbnaQH0FLf6FGPlp0cnYyKE2rg49Wj7dFXHmcwtrp6uu+xMjvYWLvW1z97e3sPD3sP0DuUlP709PYzdDPmzqZWWySRVygfHHd1smWkZ+PgnibETqsl260q5fLuppJLC/dpj2HPFLTtHv/ujrTwJy5s6iWjIi0iD3joTTCmU3trjuvZS2zlFvjq0HSyLbYp0qRts10XGxEKC9yPVBQZIOPdlNvMk2NeYNqRlujtcCVrr3j5eY1gK9Qn9GLp7lbeJXRxrCkiZDaozyukoJ+H0B3rc+OYy+iprJkYXdhmr6ee0afs79xq9BikrGKjI3FomEiLFO0ay6nfIm4pZXRjTFuhZSZWm0zcZyJN0KNTk4eebNfdIGGlZ93h5kcED5nOVYyRWbziIk9dJ4kerE5ZYxRUnLG1d7p8PTvY2PtTk/1nZ1ycV/bAAAFx0lEQVR4Xu1Ye1BUVRg/e3dhl4csKyxqPlBJQVETF2icAY13GogkEFqizqRRpoBpTCIapaUOhWNjUdOMSBpqJYZTg4KigFKADzSIVZ4qD5VFluXhLgvbPee+r49R7v2z3+zcc77fOfPb7zvfPd85uwCIhwT4wPisANwPAuIKHnbHH1I+KwAXDA18ShDW58CneCEnXl8JGwmfHylCPSvlZ/FWxh8YIRIxTWkZAEofkTz8sNq7tAqE2gODOB6GYZobVaH20SVZ4oQcdmXV0L7c4b8OFvJHRoYwdVIoyPX3gxtFDA+V8e6mM8pBoCjij4wQiWo/ALzV/kpkifBi13p4waZuGrJEECycixcEVSbYgFwUozg4/qSraOxrP7O8Eogj2HDxyMWmzpk6823+yIjhvR7fLOpDsCuGhwC0WfbkjQq8A0MWC0EgIYzPCYMymM8Iwcvz6K4IWw8skTrgq3iPMIQnxdfKrvyedpyvbSsyBQt6zcH6OxXmjqYxg9PbgXBBveK6aRAXNEl1Ssc+hz7Bgntyohb/ggQlNrrdzfIuoYKSb79067PrRoLmGo25SeghJRn1yMrSbPTptZaoBlwtlWbBHspxiW+mW8+46ereVnMXGxbFQ+mjofiHZTrclJn5E14UEgdrO9tRVph0HDJlYlRsLv4XFA7RBA1kK5ogBb7gtn08AvxWymc2b+YzLHC3nnOCNHvdayUsZpnnwnPqGf+yGKcPKlv92vtJC209zGyRWJmgyd16sSGGT/AmM2rdKZKZHxwCz7KUodLzJOO8th4OBqxdo0c2tfUkNr3QlJkZQWWMBP0uwBHvmQQb3zRVCMnsMO6ATazf3f0kkza0HTaPCdIhpyTknqP61Te1eV2gRpr1FUn4xtxRT72pDHhj09/UnBLjiv72p4d8FEtlLibBd7Qg0xK5+XfS9q2AzxSVHPnNIMBS8BQPw8N1W4glQWj0mtp4+nSHhvKYOM4GL6vH1jGTcDQ3p1979AQPI5agXEDYwuS5awknJ73rHU56RyLAr6ACpO5iMRGvp3XykjImgs4Fgm2/7URc8dhbeD9jdhYVNon0mdFcAjTIXbmC75VrmVHcQ+JDIXbuNmYUYlZoYx6XcWjKTWavYXd1WzU9OEh9wLFfEVFza5PEhVhDAvfLx60cWM3ePMa9hyZG5DNr6DbQiCUcYU0AKGzGyYxlkf+wxnCk+wdwCbA/TkWH7Dbgoq8dcmKNssQQ3F/JmMxlIj/fzo/7s9OIwUMebbYzbh2zLfk7ehBGzIau6OeO+xzGKlBRwCGAXNaCFgYbRoKG+hMTfMff4M6h0LYxpmv/92ym9tIxc4uRzawynCEWGhum7odf9/75vh8zg0bKijX5AMxhMacsK8pBxaJihtnQqr1KG8yFMzq/dutJ2iKwNCbXA7Yamsm2Xn0XtgtowY3Xy8rpYc4NNqon8eM49k+NtzU55GtMleGAkNR6oldDMhH+e9EX0JB+UYKv4WgLZrLCjHV7wnyYlzJZvYV6A6d1w6xEph842UUyTkjGIbzwRA/JIOBJKSt88yglqND1h6TpiQqQV99wmJ7nknQcgIIHqd00EwSzgudigGYQUHE4qFMcGJb22kp7lNop8p6znStvg5S2e1TVRti56w/zj8fZzKLiDa317MqBQFbs+J3dcbSgo+H4D0kLOokJ82/NR8KZbp9eIZgllwKR8Ec1ejIX827POk/06HpYffGd5dkoZJXMqDAVXd1Nbhavlx4OyuAiPcyAF3Ick8faXAuE5WToApkMxykL1PbNRJ91SDkXOyymPFR1UMlw9GjRPKCrPsRSvUnbzbkELj2PSSRkQLiH1AvROTutlpryLHQAoCD+C2BBP4npMwd9zsIgzgaDsK+bctmVw3hetai5t9RS4PEqub4QnCvxteGzOZyQXxjscxkhHisWKMi72+T0p1dxGeGYkG0ez+eeG7In/n/oNOexC9fzIiLvPxVtKp84iza+AAAAAElFTkSuQmCC\" y=\"6\"/><rect fill=\"#000000\" height=\"96.4844\" style=\"stroke: #000000; stroke-width: 1.0;\" width=\"602\" x=\"0\" y=\"202.8012\"/><rect fill=\"#33FF02\" height=\"21.2969\" style=\"stroke: #33FF02; stroke-width: 1.0;\" width=\"145\" x=\"5\" y=\"207.8012\"/><text fill=\"#000000\" font-family=\"sans-serif\" font-size=\"14\" font-weight=\"bold\" lengthAdjust=\"spacingAndGlyphs\" textLength=\"143\" x=\"6\" y=\"222.8012\">[From string (line 2) ]</text><text fill=\"#33FF02\" font-family=\"sans-serif\" font-size=\"14\" font-weight=\"bold\" lengthAdjust=\"spacingAndGlyphs\" textLength=\"0\" x=\"9\" y=\"243.0981\"/><text fill=\"#33FF02\" font-family=\"sans-serif\" font-size=\"14\" font-weight=\"bold\" lengthAdjust=\"spacingAndGlyphs\" textLength=\"70\" x=\"5\" y=\"259.3949\">@startuml</text><text fill=\"#33FF02\" font-family=\"sans-serif\" font-size=\"14\" font-weight=\"bold\" lengthAdjust=\"spacingAndGlyphs\" textLength=\"0\" x=\"9\" y=\"275.6918\"/><text fill=\"#FF0000\" font-family=\"sans-serif\" font-size=\"14\" font-weight=\"bold\" lengthAdjust=\"spacingAndGlyphs\" textLength=\"124\" x=\"9\" y=\"291.9887\">Empty description</text><!--MD5=[f59edd8218d337f74d0c332fc6737304]\n",
       "@startuml\r\n",
       " \r\n",
       "@enduml\r\n",
       "\n",
       "PlantUML version 1.2020.13(Sat Jun 13 12:26:38 UTC 2020)\n",
       "(EPL source distribution)\n",
       "Java Runtime: OpenJDK Runtime Environment\n",
       "JVM: OpenJDK 64-Bit Server VM\n",
       "Default Encoding: UTF-8\n",
       "Language: en\n",
       "Country: null\n",
       "--></g></svg>"
      ]
     },
     "execution_count": 32,
     "metadata": {},
     "output_type": "execute_result"
    }
   ],
   "source": [
    "%viz --style=\"PLANTUML\" --view=\"State\" \"QualifiedNameImportTest\""
   ]
  },
  {
   "cell_type": "code",
   "execution_count": 33,
   "id": "a1da9383",
   "metadata": {
    "execution": {
     "iopub.execute_input": "2021-09-27T07:19:01.306436Z",
     "iopub.status.busy": "2021-09-27T07:19:01.305997Z",
     "iopub.status.idle": "2021-09-27T07:19:01.329006Z",
     "shell.execute_reply": "2021-09-27T07:19:01.328632Z"
    }
   },
   "outputs": [
    {
     "data": {
      "image/svg+xml": [
       "<?xml version=\"1.0\" encoding=\"UTF-8\" standalone=\"no\"?><svg xmlns=\"http://www.w3.org/2000/svg\" xmlns:xlink=\"http://www.w3.org/1999/xlink\" contentScriptType=\"application/ecmascript\" contentStyleType=\"text/css\" height=\"189px\" preserveAspectRatio=\"none\" style=\"width:365px;height:189px;\" version=\"1.1\" viewBox=\"0 0 365 189\" width=\"365px\" zoomAndPan=\"magnify\"><defs><filter height=\"300%\" id=\"fwjehnpvurz4p\" width=\"300%\" x=\"-1\" y=\"-1\"><feGaussianBlur result=\"blurOut\" stdDeviation=\"2.0\"/><feColorMatrix in=\"blurOut\" result=\"blurOut2\" type=\"matrix\" values=\"0 0 0 0 0 0 0 0 0 0 0 0 0 0 0 0 0 0 .4 0\"/><feOffset dx=\"4.0\" dy=\"4.0\" in=\"blurOut2\" result=\"blurOut3\"/><feBlend in=\"SourceGraphic\" in2=\"blurOut3\" mode=\"normal\"/></filter></defs><g><!--MD5=[fbc87193dbaf4d95561dea2c320d4a47]\n",
       "cluster E1--><a href=\"psysml:c8de649d-2dc2-4761-aec9-7bacaacfe515\" target=\"_top\" title=\"psysml:c8de649d-2dc2-4761-aec9-7bacaacfe515\" xlink:actuate=\"onRequest\" xlink:href=\"psysml:c8de649d-2dc2-4761-aec9-7bacaacfe515\" xlink:show=\"new\" xlink:title=\"psysml:c8de649d-2dc2-4761-aec9-7bacaacfe515\" xlink:type=\"simple\"><polygon fill=\"#FFFFFF\" filter=\"url(#fwjehnpvurz4p)\" points=\"16,6,196,6,203,28.2969,343,28.2969,343,177,16,177,16,6\" style=\"stroke: #000000; stroke-width: 1.5;\"/><line style=\"stroke: #000000; stroke-width: 1.5;\" x1=\"16\" x2=\"203\" y1=\"28.2969\" y2=\"28.2969\"/><text fill=\"#000000\" font-family=\"sans-serif\" font-size=\"14\" font-weight=\"bold\" lengthAdjust=\"spacingAndGlyphs\" textLength=\"174\" x=\"20\" y=\"20.9951\">QualifiedNameImportTest</text></a><!--MD5=[e4f7fae6ed58524ba242bb0b0d3be6b7]\n",
       "cluster E2--><a href=\"psysml:6cc89760-fc75-419d-8f57-c720b4f2efbc\" target=\"_top\" title=\"psysml:6cc89760-fc75-419d-8f57-c720b4f2efbc\" xlink:actuate=\"onRequest\" xlink:href=\"psysml:6cc89760-fc75-419d-8f57-c720b4f2efbc\" xlink:show=\"new\" xlink:title=\"psysml:6cc89760-fc75-419d-8f57-c720b4f2efbc\" xlink:type=\"simple\"><polygon fill=\"#FFFFFF\" filter=\"url(#fwjehnpvurz4p)\" points=\"237,55.5,261,55.5,268,77.7969,319,77.7969,319,146.5,237,146.5,237,55.5\" style=\"stroke: #000000; stroke-width: 1.5;\"/><line style=\"stroke: #000000; stroke-width: 1.5;\" x1=\"237\" x2=\"268\" y1=\"77.7969\" y2=\"77.7969\"/><text fill=\"#000000\" font-family=\"sans-serif\" font-size=\"14\" font-weight=\"bold\" lengthAdjust=\"spacingAndGlyphs\" textLength=\"18\" x=\"241\" y=\"70.4951\">P1</text></a><!--MD5=[f6df4d0ebaf0b5dfb2ced0ae5af7c670]\n",
       "cluster E4--><a href=\"psysml:42adecdc-f281-4f00-8fb0-2d405003d942\" target=\"_top\" title=\"psysml:42adecdc-f281-4f00-8fb0-2d405003d942\" xlink:actuate=\"onRequest\" xlink:href=\"psysml:42adecdc-f281-4f00-8fb0-2d405003d942\" xlink:show=\"new\" xlink:title=\"psysml:42adecdc-f281-4f00-8fb0-2d405003d942\" xlink:type=\"simple\"><polygon fill=\"#FFFFFF\" filter=\"url(#fwjehnpvurz4p)\" points=\"40,49,64,49,71,71.2969,213,71.2969,213,153,40,153,40,49\" style=\"stroke: #000000; stroke-width: 1.5;\"/><line style=\"stroke: #000000; stroke-width: 1.5;\" x1=\"40\" x2=\"71\" y1=\"71.2969\" y2=\"71.2969\"/><text fill=\"#000000\" font-family=\"sans-serif\" font-size=\"14\" font-weight=\"bold\" lengthAdjust=\"spacingAndGlyphs\" textLength=\"18\" x=\"44\" y=\"63.9951\">P2</text></a><g id=\"E1.E2.E3\"><a href=\"psysml:e98f2231-0909-453e-b014-2111b959b184\" target=\"_top\" title=\"psysml:e98f2231-0909-453e-b014-2111b959b184\" xlink:actuate=\"onRequest\" xlink:href=\"psysml:e98f2231-0909-453e-b014-2111b959b184\" xlink:show=\"new\" xlink:title=\"psysml:e98f2231-0909-453e-b014-2111b959b184\" xlink:type=\"simple\"><rect fill=\"#FEFECE\" filter=\"url(#fwjehnpvurz4p)\" height=\"40\" id=\"E3\" style=\"stroke: #A80036; stroke-width: 1.5;\" width=\"50\" x=\"253\" y=\"90.5\"/><ellipse cx=\"272.5\" cy=\"106.5\" fill=\"#008000\" rx=\"11\" ry=\"11\" style=\"stroke: #A80036; stroke-width: 1.0;\"/><path d=\"M269.375,111.5 L269.375,100.9063 L272.6094,100.9063 Q274.5156,100.9063 275.4219,101.6563 Q276.3438,102.4063 276.3438,103.5781 Q276.3438,104.2656 275.9531,104.9219 Q275.5781,105.5781 274.8594,105.875 Q275.7188,106.25 276.2344,106.9375 Q276.75,107.625 276.75,108.4375 Q276.75,109.8125 275.7188,110.6563 Q274.7031,111.5 272.5938,111.5 L269.375,111.5 Z M271.2969,105.1406 L272.4531,105.1406 Q273.5781,105.1406 273.9844,104.7656 Q274.4063,104.375 274.4063,103.75 Q274.4063,103.1719 273.9844,102.8125 Q273.5625,102.4531 272.625,102.4531 L271.2969,102.4531 L271.2969,105.1406 Z M271.2969,109.9219 L272.7969,109.9219 Q273.7031,109.9219 274.2344,109.5313 Q274.7656,109.1406 274.7656,108.3906 Q274.7656,107.625 274.2656,107.1563 Q273.7656,106.6719 272.5,106.6719 L271.2969,106.6719 L271.2969,109.9219 Z \"/><text fill=\"#000000\" font-family=\"sans-serif\" font-size=\"12\" lengthAdjust=\"spacingAndGlyphs\" textLength=\"8\" x=\"287.5\" y=\"110.6543\">A</text></a></g><a href=\"psysml:e3978575-11c4-4054-8f35-fdd3c4e4a8ed\" target=\"_top\" title=\"psysml:e3978575-11c4-4054-8f35-fdd3c4e4a8ed\" xlink:actuate=\"onRequest\" xlink:href=\"psysml:e3978575-11c4-4054-8f35-fdd3c4e4a8ed\" xlink:show=\"new\" xlink:title=\"psysml:e3978575-11c4-4054-8f35-fdd3c4e4a8ed\" xlink:type=\"simple\"><polygon fill=\"#FFFFFF\" filter=\"url(#fwjehnpvurz4p)\" points=\"151,84,183,84,190,106.2969,197,106.2969,197,136.5938,151,136.5938,151,84\" style=\"stroke: #000000; stroke-width: 1.5;\"/><line style=\"stroke: #000000; stroke-width: 1.5;\" x1=\"151\" x2=\"190\" y1=\"106.2969\" y2=\"106.2969\"/><text fill=\"#000000\" font-family=\"sans-serif\" font-size=\"14\" font-weight=\"bold\" lengthAdjust=\"spacingAndGlyphs\" textLength=\"26\" x=\"155\" y=\"98.9951\">P2a</text></a><g id=\"E1.E4.E6\"><a href=\"psysml:7d458e03-6011-4476-9c3b-13cd018efbef\" target=\"_top\" title=\"psysml:7d458e03-6011-4476-9c3b-13cd018efbef\" xlink:actuate=\"onRequest\" xlink:href=\"psysml:7d458e03-6011-4476-9c3b-13cd018efbef\" xlink:show=\"new\" xlink:title=\"psysml:7d458e03-6011-4476-9c3b-13cd018efbef\" xlink:type=\"simple\"><rect fill=\"#FEFECE\" filter=\"url(#fwjehnpvurz4p)\" height=\"40\" id=\"E6\" rx=\"10\" ry=\"10\" style=\"stroke: #A80036; stroke-width: 1.5;\" width=\"59\" x=\"56.5\" y=\"90.5\"/><ellipse cx=\"73.75\" cy=\"106.5\" fill=\"#B6DBBB\" rx=\"11\" ry=\"11\" style=\"stroke: #A80036; stroke-width: 1.0;\"/><path d=\"M73.5,111.9688 Q71.75,111.9688 70.7969,110.9375 Q69.8594,109.8906 69.8594,108.0469 L69.8594,101.1563 L71.9219,101.1563 L71.9219,101.3125 Q71.8281,101.4063 71.7969,101.5469 Q71.7813,101.6719 71.7813,101.9375 L71.7813,108.0625 Q71.7813,109.1563 72.1563,109.7813 Q72.5313,110.4063 73.5156,110.4063 Q74.5,110.4063 74.8906,109.7813 Q75.2813,109.1563 75.2813,108.0156 L75.2813,101.1563 L77.1563,101.1563 L77.1563,108 Q77.1563,110.0313 76.125,111 Q75.1094,111.9688 73.5,111.9688 Z \"/><text fill=\"#000000\" font-family=\"sans-serif\" font-size=\"12\" lengthAdjust=\"spacingAndGlyphs\" textLength=\"22\" x=\"88.25\" y=\"110.6543\">x: A</text></a></g><!--MD5=[3609d345337aeee8f825dc294279e90a]\n",
       "@startuml\r\n",
       "skinparam ranksep 10\r\n",
       "skinparam rectangle {\r\n",
       " backgroundColor<<block>> LightGreen\r\n",
       "}\r\n",
       " \r\n",
       "package \"QualifiedNameImportTest\" as E1  [[psysml:c8de649d-2dc2-4761-aec9-7bacaacfe515 ]]  {\r\n",
       "package \"P1\" as E2  [[psysml:6cc89760-fc75-419d-8f57-c720b4f2efbc ]]  {\r\n",
       "rec def \"A\" as E3 << << (B,green) >> [[psysml:e98f2231-0909-453e-b014-2111b959b184 ]] {\r\n",
       "}\r\n",
       "}\r\n",
       "package \"P2\" as E4  [[psysml:42adecdc-f281-4f00-8fb0-2d405003d942 ]]  {\r\n",
       "package \"P2a\" as E5  [[psysml:e3978575-11c4-4054-8f35-fdd3c4e4a8ed ]]  {\r\n",
       "}\r\n",
       "rec usage \"x: A\" as E6  [[psysml:7d458e03-6011-4476-9c3b-13cd018efbef ]] {\r\n",
       "}\r\n",
       "}\r\n",
       "}\r\n",
       "@enduml\r\n",
       "\n",
       "PlantUML version 1.2020.13(Sat Jun 13 12:26:38 UTC 2020)\n",
       "(EPL source distribution)\n",
       "Java Runtime: OpenJDK Runtime Environment\n",
       "JVM: OpenJDK 64-Bit Server VM\n",
       "Default Encoding: UTF-8\n",
       "Language: en\n",
       "Country: null\n",
       "--></g></svg>"
      ]
     },
     "execution_count": 33,
     "metadata": {},
     "output_type": "execute_result"
    }
   ],
   "source": [
    "%viz --style=\"PLANTUML\" --view=\"Interconnection\" \"QualifiedNameImportTest\""
   ]
  },
  {
   "cell_type": "code",
   "execution_count": 34,
   "id": "98ceeed5",
   "metadata": {
    "execution": {
     "iopub.execute_input": "2021-09-27T07:19:01.378566Z",
     "iopub.status.busy": "2021-09-27T07:19:01.378153Z",
     "iopub.status.idle": "2021-09-27T07:19:01.382198Z",
     "shell.execute_reply": "2021-09-27T07:19:01.382516Z"
    }
   },
   "outputs": [
    {
     "data": {
      "image/svg+xml": [
       "<?xml version=\"1.0\" encoding=\"UTF-8\" standalone=\"no\"?><svg xmlns=\"http://www.w3.org/2000/svg\" xmlns:xlink=\"http://www.w3.org/1999/xlink\" contentScriptType=\"application/ecmascript\" contentStyleType=\"text/css\" height=\"12px\" preserveAspectRatio=\"none\" style=\"width:12px;height:12px;\" version=\"1.1\" viewBox=\"0 0 12 12\" width=\"12px\" zoomAndPan=\"magnify\"><defs/><g><!--MD5=[6a4cb978cab31700e1ce5529f947a75d]\n",
       "@startuml\r\n",
       "skinparam ranksep 8\r\n",
       " \r\n",
       "@enduml\r\n",
       "\n",
       "PlantUML version 1.2020.13(Sat Jun 13 12:26:38 UTC 2020)\n",
       "(EPL source distribution)\n",
       "Java Runtime: OpenJDK Runtime Environment\n",
       "JVM: OpenJDK 64-Bit Server VM\n",
       "Default Encoding: UTF-8\n",
       "Language: en\n",
       "Country: null\n",
       "--></g></svg>"
      ]
     },
     "execution_count": 34,
     "metadata": {},
     "output_type": "execute_result"
    }
   ],
   "source": [
    "%viz --style=\"PLANTUML\" --view=\"Action\" \"QualifiedNameImportTest\""
   ]
  },
  {
   "cell_type": "code",
   "execution_count": 35,
   "id": "0912e1de",
   "metadata": {
    "execution": {
     "iopub.execute_input": "2021-09-27T07:19:01.432500Z",
     "iopub.status.busy": "2021-09-27T07:19:01.432062Z",
     "iopub.status.idle": "2021-09-27T07:19:01.436516Z",
     "shell.execute_reply": "2021-09-27T07:19:01.436833Z"
    }
   },
   "outputs": [
    {
     "data": {
      "image/svg+xml": [
       "<?xml version=\"1.0\" encoding=\"UTF-8\" standalone=\"no\"?><svg xmlns=\"http://www.w3.org/2000/svg\" xmlns:xlink=\"http://www.w3.org/1999/xlink\" contentScriptType=\"application/ecmascript\" contentStyleType=\"text/css\" height=\"12px\" preserveAspectRatio=\"none\" style=\"width:12px;height:12px;\" version=\"1.1\" viewBox=\"0 0 12 12\" width=\"12px\" zoomAndPan=\"magnify\"><defs/><g><!--MD5=[ca4faa0b02def275ea33c14ea7a1a98d]\n",
       "@startuml\r\n",
       "skinparam roundcorner 20\r\n",
       "skinparam BoxPadding 20\r\n",
       "skinparam SequenceBoxBackgroundColor #white\r\n",
       "skinparam style strictuml\r\n",
       "skinparam maxMessageSize 100\r\n",
       " \r\n",
       "@enduml\r\n",
       "\n",
       "PlantUML version 1.2020.13(Sat Jun 13 12:26:38 UTC 2020)\n",
       "(EPL source distribution)\n",
       "Java Runtime: OpenJDK Runtime Environment\n",
       "JVM: OpenJDK 64-Bit Server VM\n",
       "Default Encoding: UTF-8\n",
       "Language: en\n",
       "Country: null\n",
       "--></g></svg>"
      ]
     },
     "execution_count": 35,
     "metadata": {},
     "output_type": "execute_result"
    }
   ],
   "source": [
    "%viz --style=\"PLANTUML\" --view=\"Sequence\" \"QualifiedNameImportTest\""
   ]
  },
  {
   "cell_type": "code",
   "execution_count": 36,
   "id": "07c58fb9",
   "metadata": {
    "execution": {
     "iopub.execute_input": "2021-09-27T07:19:01.486678Z",
     "iopub.status.busy": "2021-09-27T07:19:01.486258Z",
     "iopub.status.idle": "2021-09-27T07:19:01.516393Z",
     "shell.execute_reply": "2021-09-27T07:19:01.515122Z"
    }
   },
   "outputs": [
    {
     "data": {
      "image/svg+xml": [
       "<?xml version=\"1.0\" encoding=\"UTF-8\" standalone=\"no\"?><svg xmlns=\"http://www.w3.org/2000/svg\" xmlns:xlink=\"http://www.w3.org/1999/xlink\" contentScriptType=\"application/ecmascript\" contentStyleType=\"text/css\" height=\"304px\" preserveAspectRatio=\"none\" style=\"width:267px;height:304px;\" version=\"1.1\" viewBox=\"0 0 267 304\" width=\"267px\" zoomAndPan=\"magnify\"><defs><filter height=\"300%\" id=\"f1phtvvvmw9ck8\" width=\"300%\" x=\"-1\" y=\"-1\"><feGaussianBlur result=\"blurOut\" stdDeviation=\"2.0\"/><feColorMatrix in=\"blurOut\" result=\"blurOut2\" type=\"matrix\" values=\"0 0 0 0 0 0 0 0 0 0 0 0 0 0 0 0 0 0 .4 0\"/><feOffset dx=\"4.0\" dy=\"4.0\" in=\"blurOut2\" result=\"blurOut3\"/><feBlend in=\"SourceGraphic\" in2=\"blurOut3\" mode=\"normal\"/></filter></defs><g><!--MD5=[fbc87193dbaf4d95561dea2c320d4a47]\n",
       "cluster E1--><a href=\"psysml:c8de649d-2dc2-4761-aec9-7bacaacfe515\" target=\"_top\" title=\"psysml:c8de649d-2dc2-4761-aec9-7bacaacfe515\" xlink:actuate=\"onRequest\" xlink:href=\"psysml:c8de649d-2dc2-4761-aec9-7bacaacfe515\" xlink:show=\"new\" xlink:title=\"psysml:c8de649d-2dc2-4761-aec9-7bacaacfe515\" xlink:type=\"simple\"><polygon fill=\"#FFFFFF\" filter=\"url(#f1phtvvvmw9ck8)\" points=\"16,6,196,6,203,28.2969,245,28.2969,245,292,16,292,16,6\" style=\"stroke: #000000; stroke-width: 1.5;\"/><line style=\"stroke: #000000; stroke-width: 1.5;\" x1=\"16\" x2=\"203\" y1=\"28.2969\" y2=\"28.2969\"/><text fill=\"#000000\" font-family=\"sans-serif\" font-size=\"14\" font-weight=\"bold\" lengthAdjust=\"spacingAndGlyphs\" textLength=\"174\" x=\"20\" y=\"20.9951\">QualifiedNameImportTest</text></a><!--MD5=[e4f7fae6ed58524ba242bb0b0d3be6b7]\n",
       "cluster E2--><a href=\"psysml:6cc89760-fc75-419d-8f57-c720b4f2efbc\" target=\"_top\" title=\"psysml:6cc89760-fc75-419d-8f57-c720b4f2efbc\" xlink:actuate=\"onRequest\" xlink:href=\"psysml:6cc89760-fc75-419d-8f57-c720b4f2efbc\" xlink:show=\"new\" xlink:title=\"psysml:6cc89760-fc75-419d-8f57-c720b4f2efbc\" xlink:type=\"simple\"><polygon fill=\"#FFFFFF\" filter=\"url(#f1phtvvvmw9ck8)\" points=\"135,177,159,177,166,199.2969,207,199.2969,207,268,135,268,135,177\" style=\"stroke: #000000; stroke-width: 1.5;\"/><line style=\"stroke: #000000; stroke-width: 1.5;\" x1=\"135\" x2=\"166\" y1=\"199.2969\" y2=\"199.2969\"/><text fill=\"#000000\" font-family=\"sans-serif\" font-size=\"14\" font-weight=\"bold\" lengthAdjust=\"spacingAndGlyphs\" textLength=\"18\" x=\"139\" y=\"191.9951\">P1</text></a><!--MD5=[f6df4d0ebaf0b5dfb2ced0ae5af7c670]\n",
       "cluster E4--><a href=\"psysml:42adecdc-f281-4f00-8fb0-2d405003d942\" target=\"_top\" title=\"psysml:42adecdc-f281-4f00-8fb0-2d405003d942\" xlink:actuate=\"onRequest\" xlink:href=\"psysml:42adecdc-f281-4f00-8fb0-2d405003d942\" xlink:show=\"new\" xlink:title=\"psysml:42adecdc-f281-4f00-8fb0-2d405003d942\" xlink:type=\"simple\"><polygon fill=\"#FFFFFF\" filter=\"url(#f1phtvvvmw9ck8)\" points=\"40,49,64,49,71,71.2969,221,71.2969,221,153,40,153,40,49\" style=\"stroke: #000000; stroke-width: 1.5;\"/><line style=\"stroke: #000000; stroke-width: 1.5;\" x1=\"40\" x2=\"71\" y1=\"71.2969\" y2=\"71.2969\"/><text fill=\"#000000\" font-family=\"sans-serif\" font-size=\"14\" font-weight=\"bold\" lengthAdjust=\"spacingAndGlyphs\" textLength=\"18\" x=\"44\" y=\"63.9951\">P2</text></a><!--MD5=[09b614a08d8cba4a07c9adeb5e0fee81]\n",
       "class E3--><a href=\"psysml:e98f2231-0909-453e-b014-2111b959b184\" target=\"_top\" title=\"psysml:e98f2231-0909-453e-b014-2111b959b184\" xlink:actuate=\"onRequest\" xlink:href=\"psysml:e98f2231-0909-453e-b014-2111b959b184\" xlink:show=\"new\" xlink:title=\"psysml:e98f2231-0909-453e-b014-2111b959b184\" xlink:type=\"simple\"><rect fill=\"#FEFECE\" filter=\"url(#f1phtvvvmw9ck8)\" height=\"40\" id=\"E3\" style=\"stroke: #A80036; stroke-width: 1.5;\" width=\"40\" x=\"151\" y=\"212\"/><ellipse cx=\"166\" cy=\"228\" fill=\"#008000\" rx=\"11\" ry=\"11\" style=\"stroke: #A80036; stroke-width: 1.0;\"/><path d=\"M162.875,233 L162.875,222.4063 L166.1094,222.4063 Q168.0156,222.4063 168.9219,223.1563 Q169.8438,223.9063 169.8438,225.0781 Q169.8438,225.7656 169.4531,226.4219 Q169.0781,227.0781 168.3594,227.375 Q169.2188,227.75 169.7344,228.4375 Q170.25,229.125 170.25,229.9375 Q170.25,231.3125 169.2188,232.1563 Q168.2031,233 166.0938,233 L162.875,233 Z M164.7969,226.6406 L165.9531,226.6406 Q167.0781,226.6406 167.4844,226.2656 Q167.9063,225.875 167.9063,225.25 Q167.9063,224.6719 167.4844,224.3125 Q167.0625,223.9531 166.125,223.9531 L164.7969,223.9531 L164.7969,226.6406 Z M164.7969,231.4219 L166.2969,231.4219 Q167.2031,231.4219 167.7344,231.0313 Q168.2656,230.6406 168.2656,229.8906 Q168.2656,229.125 167.7656,228.6563 Q167.2656,228.1719 166,228.1719 L164.7969,228.1719 L164.7969,231.4219 Z \"/><text fill=\"#000000\" font-family=\"sans-serif\" font-size=\"12\" lengthAdjust=\"spacingAndGlyphs\" textLength=\"8\" x=\"180\" y=\"232.1543\">A</text><line style=\"stroke: #A80036; stroke-width: 1.5;\" x1=\"152\" x2=\"190\" y1=\"244\" y2=\"244\"/></a><!--MD5=[60a26617385b1d2d0262a64233df1f8d]\n",
       "class E6--><a href=\"psysml:7d458e03-6011-4476-9c3b-13cd018efbef\" target=\"_top\" title=\"psysml:7d458e03-6011-4476-9c3b-13cd018efbef\" xlink:actuate=\"onRequest\" xlink:href=\"psysml:7d458e03-6011-4476-9c3b-13cd018efbef\" xlink:show=\"new\" xlink:title=\"psysml:7d458e03-6011-4476-9c3b-13cd018efbef\" xlink:type=\"simple\"><rect fill=\"#FEFECE\" filter=\"url(#f1phtvvvmw9ck8)\" height=\"45.9375\" id=\"E6\" rx=\"10\" ry=\"10\" style=\"stroke: #A80036; stroke-width: 1.5;\" width=\"68\" x=\"137\" y=\"87.5\"/><ellipse cx=\"152\" cy=\"106.4688\" fill=\"#32CD32\" rx=\"11\" ry=\"11\" style=\"stroke: #A80036; stroke-width: 1.0;\"/><path d=\"M148.8125,111.4688 L148.8125,100.875 L152.4219,100.875 Q153.6406,100.875 154.4375,101.3125 Q155.2344,101.7344 155.6094,102.4375 Q156,103.1406 156,103.9844 Q156,104.8281 155.625,105.5156 Q155.2656,106.2031 154.4688,106.625 Q153.6875,107.0313 152.5,107.0313 L150.7656,107.0313 L150.7656,111.4688 L148.8125,111.4688 Z M150.7656,105.4375 L152.375,105.4375 Q153.1875,105.4375 153.6094,105.0313 Q154.0313,104.625 154.0313,103.9844 Q154.0313,103.3594 153.6094,102.9531 Q153.1875,102.5469 152.3906,102.5469 L150.7656,102.5469 L150.7656,105.4375 Z \"/><text fill=\"#000000\" font-family=\"sans-serif\" font-size=\"12\" font-style=\"italic\" lengthAdjust=\"spacingAndGlyphs\" textLength=\"40\" x=\"164\" y=\"103.6387\">«part»</text><text fill=\"#000000\" font-family=\"sans-serif\" font-size=\"12\" lengthAdjust=\"spacingAndGlyphs\" textLength=\"22\" x=\"173\" y=\"117.6074\">x: A</text><line style=\"stroke: #A80036; stroke-width: 1.5;\" x1=\"138\" x2=\"204\" y1=\"125.4375\" y2=\"125.4375\"/></a><a href=\"psysml:e3978575-11c4-4054-8f35-fdd3c4e4a8ed\" target=\"_top\" title=\"psysml:e3978575-11c4-4054-8f35-fdd3c4e4a8ed\" xlink:actuate=\"onRequest\" xlink:href=\"psysml:e3978575-11c4-4054-8f35-fdd3c4e4a8ed\" xlink:show=\"new\" xlink:title=\"psysml:e3978575-11c4-4054-8f35-fdd3c4e4a8ed\" xlink:type=\"simple\"><polygon fill=\"#FFFFFF\" filter=\"url(#f1phtvvvmw9ck8)\" points=\"56,84,88,84,95,106.2969,102,106.2969,102,136.5938,56,136.5938,56,84\" style=\"stroke: #000000; stroke-width: 1.5;\"/><line style=\"stroke: #000000; stroke-width: 1.5;\" x1=\"56\" x2=\"95\" y1=\"106.2969\" y2=\"106.2969\"/><text fill=\"#000000\" font-family=\"sans-serif\" font-size=\"14\" font-weight=\"bold\" lengthAdjust=\"spacingAndGlyphs\" textLength=\"26\" x=\"60\" y=\"98.9951\">P2a</text></a><!--MD5=[a717450b82c80b9240a525fa862496af]\n",
       "link E6 to E3--><a href=\"psysml:9b235a5a-e1e6-4e2e-a344-8e5fae0ff3e7\" target=\"_top\" title=\"psysml:9b235a5a-e1e6-4e2e-a344-8e5fae0ff3e7\" xlink:actuate=\"onRequest\" xlink:href=\"psysml:9b235a5a-e1e6-4e2e-a344-8e5fae0ff3e7\" xlink:show=\"new\" xlink:title=\"psysml:9b235a5a-e1e6-4e2e-a344-8e5fae0ff3e7\" xlink:type=\"simple\"><path d=\"M171,133.7 C171,149.89 171,172.27 171,191.49 \" fill=\"none\" id=\"E6-&gt;E3\" style=\"stroke: #A80036; stroke-width: 1.0;\"/><polygon fill=\"#FFFFFF\" points=\"171,211.69,164,192.69,178,192.69,171,211.69\" style=\"stroke: #A80036; stroke-width: 1.0;\"/><ellipse cx=\"166\" cy=\"186.99\" fill=\"#A80036\" rx=\"2\" ry=\"2\" style=\"stroke: #A80036; stroke-width: 1.0;\"/><ellipse cx=\"176\" cy=\"186.99\" fill=\"#A80036\" rx=\"2\" ry=\"2\" style=\"stroke: #A80036; stroke-width: 1.0;\"/></a><!--MD5=[441fbc6e34863fc9d763bd9180d3079c]\n",
       "@startuml\r\n",
       " \r\n",
       "package \"QualifiedNameImportTest\" as E1  [[psysml:c8de649d-2dc2-4761-aec9-7bacaacfe515 ]]  {\r\n",
       "package \"P1\" as E2  [[psysml:6cc89760-fc75-419d-8f57-c720b4f2efbc ]]  {\r\n",
       "comp def \"A\" as E3 << << (B,green) >> [[psysml:e98f2231-0909-453e-b014-2111b959b184 ]] {\r\n",
       "}\r\n",
       "}\r\n",
       "package \"P2\" as E4  [[psysml:42adecdc-f281-4f00-8fb0-2d405003d942 ]]  {\r\n",
       "package \"P2a\" as E5  [[psysml:e3978575-11c4-4054-8f35-fdd3c4e4a8ed ]]  {\r\n",
       "}\r\n",
       "comp usage \"x: A\" as E6 << << (P,limegreen) part>> [[psysml:7d458e03-6011-4476-9c3b-13cd018efbef ]] {\r\n",
       "}\r\n",
       "}\r\n",
       "}\r\n",
       "E6 - -:|> E3 [[psysml:9b235a5a-e1e6-4e2e-a344-8e5fae0ff3e7 ]] \r\n",
       "@enduml\r\n",
       "\n",
       "PlantUML version 1.2020.13(Sat Jun 13 12:26:38 UTC 2020)\n",
       "(EPL source distribution)\n",
       "Java Runtime: OpenJDK Runtime Environment\n",
       "JVM: OpenJDK 64-Bit Server VM\n",
       "Default Encoding: UTF-8\n",
       "Language: en\n",
       "Country: null\n",
       "--></g></svg>"
      ]
     },
     "execution_count": 36,
     "metadata": {},
     "output_type": "execute_result"
    }
   ],
   "source": [
    "%viz --style=\"PLANTUML\" --view=\"MIXED\" \"QualifiedNameImportTest\""
   ]
  },
  {
   "cell_type": "code",
   "execution_count": 37,
   "id": "9d5bc930",
   "metadata": {
    "execution": {
     "iopub.execute_input": "2021-09-27T07:19:01.565872Z",
     "iopub.status.busy": "2021-09-27T07:19:01.565451Z",
     "iopub.status.idle": "2021-09-27T07:19:01.593452Z",
     "shell.execute_reply": "2021-09-27T07:19:01.592209Z"
    }
   },
   "outputs": [
    {
     "data": {
      "image/svg+xml": [
       "<?xml version=\"1.0\" encoding=\"UTF-8\" standalone=\"no\"?><svg xmlns=\"http://www.w3.org/2000/svg\" xmlns:xlink=\"http://www.w3.org/1999/xlink\" contentScriptType=\"application/ecmascript\" contentStyleType=\"text/css\" height=\"310px\" preserveAspectRatio=\"none\" style=\"width:241px;height:310px;\" version=\"1.1\" viewBox=\"0 0 241 310\" width=\"241px\" zoomAndPan=\"magnify\"><defs/><g><!--MD5=[fbc87193dbaf4d95561dea2c320d4a47]\n",
       "cluster E1--><a href=\"psysml:c8de649d-2dc2-4761-aec9-7bacaacfe515\" target=\"_top\" title=\"psysml:c8de649d-2dc2-4761-aec9-7bacaacfe515\" xlink:actuate=\"onRequest\" xlink:href=\"psysml:c8de649d-2dc2-4761-aec9-7bacaacfe515\" xlink:show=\"new\" xlink:title=\"psysml:c8de649d-2dc2-4761-aec9-7bacaacfe515\" xlink:type=\"simple\"><polygon fill=\"#FFFFFF\" points=\"16,6,196,6,203,28.2969,219,28.2969,219,298,16,298,16,6\" style=\"stroke: #000000; stroke-width: 1.5;\"/><line style=\"stroke: #000000; stroke-width: 1.5;\" x1=\"16\" x2=\"203\" y1=\"28.2969\" y2=\"28.2969\"/><text fill=\"#000000\" font-family=\"sans-serif\" font-size=\"14\" font-weight=\"bold\" lengthAdjust=\"spacingAndGlyphs\" textLength=\"174\" x=\"20\" y=\"20.9951\">QualifiedNameImportTest</text></a><!--MD5=[e4f7fae6ed58524ba242bb0b0d3be6b7]\n",
       "cluster E2--><a href=\"psysml:6cc89760-fc75-419d-8f57-c720b4f2efbc\" target=\"_top\" title=\"psysml:6cc89760-fc75-419d-8f57-c720b4f2efbc\" xlink:actuate=\"onRequest\" xlink:href=\"psysml:6cc89760-fc75-419d-8f57-c720b4f2efbc\" xlink:show=\"new\" xlink:title=\"psysml:6cc89760-fc75-419d-8f57-c720b4f2efbc\" xlink:type=\"simple\"><polygon fill=\"#FFFFFF\" points=\"97,177,121,177,128,199.2969,195,199.2969,195,274,97,274,97,177\" style=\"stroke: #000000; stroke-width: 1.5;\"/><line style=\"stroke: #000000; stroke-width: 1.5;\" x1=\"97\" x2=\"128\" y1=\"199.2969\" y2=\"199.2969\"/><text fill=\"#000000\" font-family=\"sans-serif\" font-size=\"14\" font-weight=\"bold\" lengthAdjust=\"spacingAndGlyphs\" textLength=\"18\" x=\"101\" y=\"191.9951\">P1</text></a><!--MD5=[f6df4d0ebaf0b5dfb2ced0ae5af7c670]\n",
       "cluster E4--><a href=\"psysml:42adecdc-f281-4f00-8fb0-2d405003d942\" target=\"_top\" title=\"psysml:42adecdc-f281-4f00-8fb0-2d405003d942\" xlink:actuate=\"onRequest\" xlink:href=\"psysml:42adecdc-f281-4f00-8fb0-2d405003d942\" xlink:show=\"new\" xlink:title=\"psysml:42adecdc-f281-4f00-8fb0-2d405003d942\" xlink:type=\"simple\"><polygon fill=\"#FFFFFF\" points=\"40,49,64,49,71,71.2969,195,71.2969,195,153,40,153,40,49\" style=\"stroke: #000000; stroke-width: 1.5;\"/><line style=\"stroke: #000000; stroke-width: 1.5;\" x1=\"40\" x2=\"71\" y1=\"71.2969\" y2=\"71.2969\"/><text fill=\"#000000\" font-family=\"sans-serif\" font-size=\"14\" font-weight=\"bold\" lengthAdjust=\"spacingAndGlyphs\" textLength=\"18\" x=\"44\" y=\"63.9951\">P2</text></a><!--MD5=[09b614a08d8cba4a07c9adeb5e0fee81]\n",
       "class E3--><a href=\"psysml:e98f2231-0909-453e-b014-2111b959b184\" target=\"_top\" title=\"psysml:e98f2231-0909-453e-b014-2111b959b184\" xlink:actuate=\"onRequest\" xlink:href=\"psysml:e98f2231-0909-453e-b014-2111b959b184\" xlink:show=\"new\" xlink:title=\"psysml:e98f2231-0909-453e-b014-2111b959b184\" xlink:type=\"simple\"><rect fill=\"#FFFFFF\" height=\"45.9375\" id=\"E3\" style=\"stroke: #383838; stroke-width: 1.5;\" width=\"66\" x=\"113\" y=\"212\"/><text fill=\"#000000\" font-family=\"sans-serif\" font-size=\"12\" font-style=\"italic\" lengthAdjust=\"spacingAndGlyphs\" textLength=\"64\" x=\"114\" y=\"228.1387\">«part def»</text><text fill=\"#000000\" font-family=\"sans-serif\" font-size=\"12\" lengthAdjust=\"spacingAndGlyphs\" textLength=\"8\" x=\"142\" y=\"242.1074\">A</text><line style=\"stroke: #383838; stroke-width: 1.5;\" x1=\"114\" x2=\"178\" y1=\"249.9375\" y2=\"249.9375\"/></a><!--MD5=[60a26617385b1d2d0262a64233df1f8d]\n",
       "class E6--><a href=\"psysml:7d458e03-6011-4476-9c3b-13cd018efbef\" target=\"_top\" title=\"psysml:7d458e03-6011-4476-9c3b-13cd018efbef\" xlink:actuate=\"onRequest\" xlink:href=\"psysml:7d458e03-6011-4476-9c3b-13cd018efbef\" xlink:show=\"new\" xlink:title=\"psysml:7d458e03-6011-4476-9c3b-13cd018efbef\" xlink:type=\"simple\"><rect fill=\"#FFFFFF\" height=\"45.9375\" id=\"E6\" rx=\"10\" ry=\"10\" style=\"stroke: #383838; stroke-width: 1.5;\" width=\"42\" x=\"137\" y=\"87.5\"/><text fill=\"#000000\" font-family=\"sans-serif\" font-size=\"12\" font-style=\"italic\" lengthAdjust=\"spacingAndGlyphs\" textLength=\"40\" x=\"138\" y=\"103.6387\">«part»</text><text fill=\"#000000\" font-family=\"sans-serif\" font-size=\"12\" lengthAdjust=\"spacingAndGlyphs\" textLength=\"22\" x=\"147\" y=\"117.6074\">x: A</text><line style=\"stroke: #383838; stroke-width: 1.5;\" x1=\"138\" x2=\"178\" y1=\"125.4375\" y2=\"125.4375\"/></a><a href=\"psysml:e3978575-11c4-4054-8f35-fdd3c4e4a8ed\" target=\"_top\" title=\"psysml:e3978575-11c4-4054-8f35-fdd3c4e4a8ed\" xlink:actuate=\"onRequest\" xlink:href=\"psysml:e3978575-11c4-4054-8f35-fdd3c4e4a8ed\" xlink:show=\"new\" xlink:title=\"psysml:e3978575-11c4-4054-8f35-fdd3c4e4a8ed\" xlink:type=\"simple\"><polygon fill=\"#FFFFFF\" points=\"56,84,88,84,95,106.2969,102,106.2969,102,136.5938,56,136.5938,56,84\" style=\"stroke: #000000; stroke-width: 1.5;\"/><line style=\"stroke: #000000; stroke-width: 1.5;\" x1=\"56\" x2=\"95\" y1=\"106.2969\" y2=\"106.2969\"/><text fill=\"#000000\" font-family=\"sans-serif\" font-size=\"14\" font-weight=\"bold\" lengthAdjust=\"spacingAndGlyphs\" textLength=\"26\" x=\"60\" y=\"98.9951\">P2a</text></a><!--MD5=[a717450b82c80b9240a525fa862496af]\n",
       "link E6 to E3--><a href=\"psysml:9b235a5a-e1e6-4e2e-a344-8e5fae0ff3e7\" target=\"_top\" title=\"psysml:9b235a5a-e1e6-4e2e-a344-8e5fae0ff3e7\" xlink:actuate=\"onRequest\" xlink:href=\"psysml:9b235a5a-e1e6-4e2e-a344-8e5fae0ff3e7\" xlink:show=\"new\" xlink:title=\"psysml:9b235a5a-e1e6-4e2e-a344-8e5fae0ff3e7\" xlink:type=\"simple\"><path d=\"M155.83,133.68 C154.24,149.9 152.04,172.39 150.12,191.96 \" fill=\"none\" id=\"E6-&gt;E3\" style=\"stroke: #383838; stroke-width: 1.0;\"/><polygon fill=\"#FFFFFF\" points=\"148.16,211.98,143.0533,192.3861,156.986,193.7564,148.16,211.98\" style=\"stroke: #383838; stroke-width: 1.0;\"/><ellipse cx=\"145.6016\" cy=\"186.9092\" fill=\"#383838\" rx=\"2\" ry=\"2\" style=\"stroke: #383838; stroke-width: 1.0;\"/><ellipse cx=\"155.5535\" cy=\"187.888\" fill=\"#383838\" rx=\"2\" ry=\"2\" style=\"stroke: #383838; stroke-width: 1.0;\"/></a><!--MD5=[1294676a347d44d456bf485cceb9859b]\n",
       "@startuml\r\n",
       "skinparam monochrome true\r\n",
       "skinparam classbackgroundcolor white\r\n",
       "skinparam shadowing false\r\n",
       "skinparam wrapWidth 300\r\n",
       "hide circle\r\n",
       "\r\n",
       "package \"QualifiedNameImportTest\" as E1  [[psysml:c8de649d-2dc2-4761-aec9-7bacaacfe515 ]]  {\r\n",
       "package \"P1\" as E2  [[psysml:6cc89760-fc75-419d-8f57-c720b4f2efbc ]]  {\r\n",
       "comp def \"A\" as E3  <<(T,blue) part def>> [[psysml:e98f2231-0909-453e-b014-2111b959b184 ]] {\r\n",
       "}\r\n",
       "}\r\n",
       "package \"P2\" as E4  [[psysml:42adecdc-f281-4f00-8fb0-2d405003d942 ]]  {\r\n",
       "package \"P2a\" as E5  [[psysml:e3978575-11c4-4054-8f35-fdd3c4e4a8ed ]]  {\r\n",
       "}\r\n",
       "comp usage \"x: A\" as E6  <<(T,blue) part>> [[psysml:7d458e03-6011-4476-9c3b-13cd018efbef ]] {\r\n",
       "}\r\n",
       "}\r\n",
       "}\r\n",
       "E6 - -:|> E3 [[psysml:9b235a5a-e1e6-4e2e-a344-8e5fae0ff3e7 ]] \r\n",
       "@enduml\r\n",
       "\n",
       "PlantUML version 1.2020.13(Sat Jun 13 12:26:38 UTC 2020)\n",
       "(EPL source distribution)\n",
       "Java Runtime: OpenJDK Runtime Environment\n",
       "JVM: OpenJDK 64-Bit Server VM\n",
       "Default Encoding: UTF-8\n",
       "Language: en\n",
       "Country: null\n",
       "--></g></svg>"
      ]
     },
     "execution_count": 37,
     "metadata": {},
     "output_type": "execute_result"
    }
   ],
   "source": [
    "%viz --style=\"DEFAULT\" --view=\"Default\" \"QualifiedNameImportTest\""
   ]
  },
  {
   "cell_type": "code",
   "execution_count": 38,
   "id": "1d3a6c9c",
   "metadata": {
    "execution": {
     "iopub.execute_input": "2021-09-27T07:19:01.643057Z",
     "iopub.status.busy": "2021-09-27T07:19:01.642651Z",
     "iopub.status.idle": "2021-09-27T07:19:01.670655Z",
     "shell.execute_reply": "2021-09-27T07:19:01.670288Z"
    }
   },
   "outputs": [
    {
     "data": {
      "image/svg+xml": [
       "<?xml version=\"1.0\" encoding=\"UTF-8\" standalone=\"no\"?><svg xmlns=\"http://www.w3.org/2000/svg\" xmlns:xlink=\"http://www.w3.org/1999/xlink\" contentScriptType=\"application/ecmascript\" contentStyleType=\"text/css\" height=\"310px\" preserveAspectRatio=\"none\" style=\"width:241px;height:310px;\" version=\"1.1\" viewBox=\"0 0 241 310\" width=\"241px\" zoomAndPan=\"magnify\"><defs/><g><!--MD5=[fbc87193dbaf4d95561dea2c320d4a47]\n",
       "cluster E1--><a href=\"psysml:c8de649d-2dc2-4761-aec9-7bacaacfe515\" target=\"_top\" title=\"psysml:c8de649d-2dc2-4761-aec9-7bacaacfe515\" xlink:actuate=\"onRequest\" xlink:href=\"psysml:c8de649d-2dc2-4761-aec9-7bacaacfe515\" xlink:show=\"new\" xlink:title=\"psysml:c8de649d-2dc2-4761-aec9-7bacaacfe515\" xlink:type=\"simple\"><polygon fill=\"#FFFFFF\" points=\"16,6,196,6,203,28.2969,219,28.2969,219,298,16,298,16,6\" style=\"stroke: #000000; stroke-width: 1.5;\"/><line style=\"stroke: #000000; stroke-width: 1.5;\" x1=\"16\" x2=\"203\" y1=\"28.2969\" y2=\"28.2969\"/><text fill=\"#000000\" font-family=\"sans-serif\" font-size=\"14\" font-weight=\"bold\" lengthAdjust=\"spacingAndGlyphs\" textLength=\"174\" x=\"20\" y=\"20.9951\">QualifiedNameImportTest</text></a><!--MD5=[e4f7fae6ed58524ba242bb0b0d3be6b7]\n",
       "cluster E2--><a href=\"psysml:6cc89760-fc75-419d-8f57-c720b4f2efbc\" target=\"_top\" title=\"psysml:6cc89760-fc75-419d-8f57-c720b4f2efbc\" xlink:actuate=\"onRequest\" xlink:href=\"psysml:6cc89760-fc75-419d-8f57-c720b4f2efbc\" xlink:show=\"new\" xlink:title=\"psysml:6cc89760-fc75-419d-8f57-c720b4f2efbc\" xlink:type=\"simple\"><polygon fill=\"#FFFFFF\" points=\"97,177,121,177,128,199.2969,195,199.2969,195,274,97,274,97,177\" style=\"stroke: #000000; stroke-width: 1.5;\"/><line style=\"stroke: #000000; stroke-width: 1.5;\" x1=\"97\" x2=\"128\" y1=\"199.2969\" y2=\"199.2969\"/><text fill=\"#000000\" font-family=\"sans-serif\" font-size=\"14\" font-weight=\"bold\" lengthAdjust=\"spacingAndGlyphs\" textLength=\"18\" x=\"101\" y=\"191.9951\">P1</text></a><!--MD5=[f6df4d0ebaf0b5dfb2ced0ae5af7c670]\n",
       "cluster E4--><a href=\"psysml:42adecdc-f281-4f00-8fb0-2d405003d942\" target=\"_top\" title=\"psysml:42adecdc-f281-4f00-8fb0-2d405003d942\" xlink:actuate=\"onRequest\" xlink:href=\"psysml:42adecdc-f281-4f00-8fb0-2d405003d942\" xlink:show=\"new\" xlink:title=\"psysml:42adecdc-f281-4f00-8fb0-2d405003d942\" xlink:type=\"simple\"><polygon fill=\"#FFFFFF\" points=\"40,49,64,49,71,71.2969,195,71.2969,195,153,40,153,40,49\" style=\"stroke: #000000; stroke-width: 1.5;\"/><line style=\"stroke: #000000; stroke-width: 1.5;\" x1=\"40\" x2=\"71\" y1=\"71.2969\" y2=\"71.2969\"/><text fill=\"#000000\" font-family=\"sans-serif\" font-size=\"14\" font-weight=\"bold\" lengthAdjust=\"spacingAndGlyphs\" textLength=\"18\" x=\"44\" y=\"63.9951\">P2</text></a><!--MD5=[09b614a08d8cba4a07c9adeb5e0fee81]\n",
       "class E3--><a href=\"psysml:e98f2231-0909-453e-b014-2111b959b184\" target=\"_top\" title=\"psysml:e98f2231-0909-453e-b014-2111b959b184\" xlink:actuate=\"onRequest\" xlink:href=\"psysml:e98f2231-0909-453e-b014-2111b959b184\" xlink:show=\"new\" xlink:title=\"psysml:e98f2231-0909-453e-b014-2111b959b184\" xlink:type=\"simple\"><rect fill=\"#FFFFFF\" height=\"45.9375\" id=\"E3\" style=\"stroke: #383838; stroke-width: 1.5;\" width=\"66\" x=\"113\" y=\"212\"/><text fill=\"#000000\" font-family=\"sans-serif\" font-size=\"12\" font-style=\"italic\" lengthAdjust=\"spacingAndGlyphs\" textLength=\"64\" x=\"114\" y=\"228.1387\">«part def»</text><text fill=\"#000000\" font-family=\"sans-serif\" font-size=\"12\" lengthAdjust=\"spacingAndGlyphs\" textLength=\"8\" x=\"142\" y=\"242.1074\">A</text><line style=\"stroke: #383838; stroke-width: 1.5;\" x1=\"114\" x2=\"178\" y1=\"249.9375\" y2=\"249.9375\"/></a><!--MD5=[60a26617385b1d2d0262a64233df1f8d]\n",
       "class E6--><a href=\"psysml:7d458e03-6011-4476-9c3b-13cd018efbef\" target=\"_top\" title=\"psysml:7d458e03-6011-4476-9c3b-13cd018efbef\" xlink:actuate=\"onRequest\" xlink:href=\"psysml:7d458e03-6011-4476-9c3b-13cd018efbef\" xlink:show=\"new\" xlink:title=\"psysml:7d458e03-6011-4476-9c3b-13cd018efbef\" xlink:type=\"simple\"><rect fill=\"#FFFFFF\" height=\"45.9375\" id=\"E6\" rx=\"10\" ry=\"10\" style=\"stroke: #383838; stroke-width: 1.5;\" width=\"42\" x=\"137\" y=\"87.5\"/><text fill=\"#000000\" font-family=\"sans-serif\" font-size=\"12\" font-style=\"italic\" lengthAdjust=\"spacingAndGlyphs\" textLength=\"40\" x=\"138\" y=\"103.6387\">«part»</text><text fill=\"#000000\" font-family=\"sans-serif\" font-size=\"12\" lengthAdjust=\"spacingAndGlyphs\" textLength=\"22\" x=\"147\" y=\"117.6074\">x: A</text><line style=\"stroke: #383838; stroke-width: 1.5;\" x1=\"138\" x2=\"178\" y1=\"125.4375\" y2=\"125.4375\"/></a><a href=\"psysml:e3978575-11c4-4054-8f35-fdd3c4e4a8ed\" target=\"_top\" title=\"psysml:e3978575-11c4-4054-8f35-fdd3c4e4a8ed\" xlink:actuate=\"onRequest\" xlink:href=\"psysml:e3978575-11c4-4054-8f35-fdd3c4e4a8ed\" xlink:show=\"new\" xlink:title=\"psysml:e3978575-11c4-4054-8f35-fdd3c4e4a8ed\" xlink:type=\"simple\"><polygon fill=\"#FFFFFF\" points=\"56,84,88,84,95,106.2969,102,106.2969,102,136.5938,56,136.5938,56,84\" style=\"stroke: #000000; stroke-width: 1.5;\"/><line style=\"stroke: #000000; stroke-width: 1.5;\" x1=\"56\" x2=\"95\" y1=\"106.2969\" y2=\"106.2969\"/><text fill=\"#000000\" font-family=\"sans-serif\" font-size=\"14\" font-weight=\"bold\" lengthAdjust=\"spacingAndGlyphs\" textLength=\"26\" x=\"60\" y=\"98.9951\">P2a</text></a><!--MD5=[a717450b82c80b9240a525fa862496af]\n",
       "link E6 to E3--><a href=\"psysml:9b235a5a-e1e6-4e2e-a344-8e5fae0ff3e7\" target=\"_top\" title=\"psysml:9b235a5a-e1e6-4e2e-a344-8e5fae0ff3e7\" xlink:actuate=\"onRequest\" xlink:href=\"psysml:9b235a5a-e1e6-4e2e-a344-8e5fae0ff3e7\" xlink:show=\"new\" xlink:title=\"psysml:9b235a5a-e1e6-4e2e-a344-8e5fae0ff3e7\" xlink:type=\"simple\"><path d=\"M155.83,133.68 C154.24,149.9 152.04,172.39 150.12,191.96 \" fill=\"none\" id=\"E6-&gt;E3\" style=\"stroke: #383838; stroke-width: 1.0;\"/><polygon fill=\"#FFFFFF\" points=\"148.16,211.98,143.0533,192.3861,156.986,193.7564,148.16,211.98\" style=\"stroke: #383838; stroke-width: 1.0;\"/><ellipse cx=\"145.6016\" cy=\"186.9092\" fill=\"#383838\" rx=\"2\" ry=\"2\" style=\"stroke: #383838; stroke-width: 1.0;\"/><ellipse cx=\"155.5535\" cy=\"187.888\" fill=\"#383838\" rx=\"2\" ry=\"2\" style=\"stroke: #383838; stroke-width: 1.0;\"/></a><!--MD5=[1294676a347d44d456bf485cceb9859b]\n",
       "@startuml\r\n",
       "skinparam monochrome true\r\n",
       "skinparam classbackgroundcolor white\r\n",
       "skinparam shadowing false\r\n",
       "skinparam wrapWidth 300\r\n",
       "hide circle\r\n",
       "\r\n",
       "package \"QualifiedNameImportTest\" as E1  [[psysml:c8de649d-2dc2-4761-aec9-7bacaacfe515 ]]  {\r\n",
       "package \"P1\" as E2  [[psysml:6cc89760-fc75-419d-8f57-c720b4f2efbc ]]  {\r\n",
       "comp def \"A\" as E3  <<(T,blue) part def>> [[psysml:e98f2231-0909-453e-b014-2111b959b184 ]] {\r\n",
       "}\r\n",
       "}\r\n",
       "package \"P2\" as E4  [[psysml:42adecdc-f281-4f00-8fb0-2d405003d942 ]]  {\r\n",
       "package \"P2a\" as E5  [[psysml:e3978575-11c4-4054-8f35-fdd3c4e4a8ed ]]  {\r\n",
       "}\r\n",
       "comp usage \"x: A\" as E6  <<(T,blue) part>> [[psysml:7d458e03-6011-4476-9c3b-13cd018efbef ]] {\r\n",
       "}\r\n",
       "}\r\n",
       "}\r\n",
       "E6 - -:|> E3 [[psysml:9b235a5a-e1e6-4e2e-a344-8e5fae0ff3e7 ]] \r\n",
       "@enduml\r\n",
       "\n",
       "PlantUML version 1.2020.13(Sat Jun 13 12:26:38 UTC 2020)\n",
       "(EPL source distribution)\n",
       "Java Runtime: OpenJDK Runtime Environment\n",
       "JVM: OpenJDK 64-Bit Server VM\n",
       "Default Encoding: UTF-8\n",
       "Language: en\n",
       "Country: null\n",
       "--></g></svg>"
      ]
     },
     "execution_count": 38,
     "metadata": {},
     "output_type": "execute_result"
    }
   ],
   "source": [
    "%viz --style=\"DEFAULT\" --view=\"Tree\" \"QualifiedNameImportTest\""
   ]
  },
  {
   "cell_type": "code",
   "execution_count": 39,
   "id": "55acb5fd",
   "metadata": {
    "execution": {
     "iopub.execute_input": "2021-09-27T07:19:01.720288Z",
     "iopub.status.busy": "2021-09-27T07:19:01.719885Z",
     "iopub.status.idle": "2021-09-27T07:19:01.724575Z",
     "shell.execute_reply": "2021-09-27T07:19:01.724237Z"
    }
   },
   "outputs": [
    {
     "data": {
      "image/svg+xml": [
       "<?xml version=\"1.0\" encoding=\"UTF-8\" standalone=\"no\"?><svg xmlns=\"http://www.w3.org/2000/svg\" xmlns:xlink=\"http://www.w3.org/1999/xlink\" contentScriptType=\"application/ecmascript\" contentStyleType=\"text/css\" height=\"12px\" preserveAspectRatio=\"none\" style=\"width:12px;height:12px;\" version=\"1.1\" viewBox=\"0 0 12 12\" width=\"12px\" zoomAndPan=\"magnify\"><defs/><g><!--MD5=[c5f280e076d0d61ccf4b0f27871bda1d]\n",
       "@startuml\r\n",
       "skinparam monochrome true\r\n",
       "skinparam classbackgroundcolor white\r\n",
       "skinparam shadowing false\r\n",
       "skinparam wrapWidth 300\r\n",
       "hide circle\r\n",
       "\r\n",
       "@enduml\r\n",
       "\n",
       "PlantUML version 1.2020.13(Sat Jun 13 12:26:38 UTC 2020)\n",
       "(EPL source distribution)\n",
       "Java Runtime: OpenJDK Runtime Environment\n",
       "JVM: OpenJDK 64-Bit Server VM\n",
       "Default Encoding: UTF-8\n",
       "Language: en\n",
       "Country: null\n",
       "--></g></svg>"
      ]
     },
     "execution_count": 39,
     "metadata": {},
     "output_type": "execute_result"
    }
   ],
   "source": [
    "%viz --style=\"DEFAULT\" --view=\"State\" \"QualifiedNameImportTest\""
   ]
  },
  {
   "cell_type": "code",
   "execution_count": 40,
   "id": "72f9825e",
   "metadata": {
    "execution": {
     "iopub.execute_input": "2021-09-27T07:19:01.774475Z",
     "iopub.status.busy": "2021-09-27T07:19:01.774073Z",
     "iopub.status.idle": "2021-09-27T07:19:01.800247Z",
     "shell.execute_reply": "2021-09-27T07:19:01.799895Z"
    }
   },
   "outputs": [
    {
     "data": {
      "image/svg+xml": [
       "<?xml version=\"1.0\" encoding=\"UTF-8\" standalone=\"no\"?><svg xmlns=\"http://www.w3.org/2000/svg\" xmlns:xlink=\"http://www.w3.org/1999/xlink\" contentScriptType=\"application/ecmascript\" contentStyleType=\"text/css\" height=\"189px\" preserveAspectRatio=\"none\" style=\"width:377px;height:189px;\" version=\"1.1\" viewBox=\"0 0 377 189\" width=\"377px\" zoomAndPan=\"magnify\"><defs/><g><!--MD5=[fbc87193dbaf4d95561dea2c320d4a47]\n",
       "cluster E1--><a href=\"psysml:c8de649d-2dc2-4761-aec9-7bacaacfe515\" target=\"_top\" title=\"psysml:c8de649d-2dc2-4761-aec9-7bacaacfe515\" xlink:actuate=\"onRequest\" xlink:href=\"psysml:c8de649d-2dc2-4761-aec9-7bacaacfe515\" xlink:show=\"new\" xlink:title=\"psysml:c8de649d-2dc2-4761-aec9-7bacaacfe515\" xlink:type=\"simple\"><polygon fill=\"#FFFFFF\" points=\"16,6,196,6,203,28.2969,355,28.2969,355,177,16,177,16,6\" style=\"stroke: #000000; stroke-width: 1.5;\"/><line style=\"stroke: #000000; stroke-width: 1.5;\" x1=\"16\" x2=\"203\" y1=\"28.2969\" y2=\"28.2969\"/><text fill=\"#000000\" font-family=\"sans-serif\" font-size=\"14\" font-weight=\"bold\" lengthAdjust=\"spacingAndGlyphs\" textLength=\"174\" x=\"20\" y=\"20.9951\">QualifiedNameImportTest</text></a><!--MD5=[e4f7fae6ed58524ba242bb0b0d3be6b7]\n",
       "cluster E2--><a href=\"psysml:6cc89760-fc75-419d-8f57-c720b4f2efbc\" target=\"_top\" title=\"psysml:6cc89760-fc75-419d-8f57-c720b4f2efbc\" xlink:actuate=\"onRequest\" xlink:href=\"psysml:6cc89760-fc75-419d-8f57-c720b4f2efbc\" xlink:show=\"new\" xlink:title=\"psysml:6cc89760-fc75-419d-8f57-c720b4f2efbc\" xlink:type=\"simple\"><polygon fill=\"#FFFFFF\" points=\"227,54,251,54,258,76.2969,331,76.2969,331,148,227,148,227,54\" style=\"stroke: #000000; stroke-width: 1.5;\"/><line style=\"stroke: #000000; stroke-width: 1.5;\" x1=\"227\" x2=\"258\" y1=\"76.2969\" y2=\"76.2969\"/><text fill=\"#000000\" font-family=\"sans-serif\" font-size=\"14\" font-weight=\"bold\" lengthAdjust=\"spacingAndGlyphs\" textLength=\"18\" x=\"231\" y=\"68.9951\">P1</text></a><!--MD5=[f6df4d0ebaf0b5dfb2ced0ae5af7c670]\n",
       "cluster E4--><a href=\"psysml:42adecdc-f281-4f00-8fb0-2d405003d942\" target=\"_top\" title=\"psysml:42adecdc-f281-4f00-8fb0-2d405003d942\" xlink:actuate=\"onRequest\" xlink:href=\"psysml:42adecdc-f281-4f00-8fb0-2d405003d942\" xlink:show=\"new\" xlink:title=\"psysml:42adecdc-f281-4f00-8fb0-2d405003d942\" xlink:type=\"simple\"><polygon fill=\"#FFFFFF\" points=\"40,49,64,49,71,71.2969,203,71.2969,203,153,40,153,40,49\" style=\"stroke: #000000; stroke-width: 1.5;\"/><line style=\"stroke: #000000; stroke-width: 1.5;\" x1=\"40\" x2=\"71\" y1=\"71.2969\" y2=\"71.2969\"/><text fill=\"#000000\" font-family=\"sans-serif\" font-size=\"14\" font-weight=\"bold\" lengthAdjust=\"spacingAndGlyphs\" textLength=\"18\" x=\"44\" y=\"63.9951\">P2</text></a><g id=\"E1.E2.E3\"><a href=\"psysml:e98f2231-0909-453e-b014-2111b959b184\" target=\"_top\" title=\"psysml:e98f2231-0909-453e-b014-2111b959b184\" xlink:actuate=\"onRequest\" xlink:href=\"psysml:e98f2231-0909-453e-b014-2111b959b184\" xlink:show=\"new\" xlink:title=\"psysml:e98f2231-0909-453e-b014-2111b959b184\" xlink:type=\"simple\"><rect fill=\"#FFFFFF\" height=\"42.9375\" id=\"E3\" style=\"stroke: #383838; stroke-width: 1.5;\" width=\"71\" x=\"243.5\" y=\"89\"/><rect fill=\"#F8F8F8\" height=\"37.9375\" style=\"stroke: #383838; stroke-width: 1.5;\" width=\"71\" x=\"243.5\" y=\"89\"/><text fill=\"#000000\" font-family=\"sans-serif\" font-size=\"12\" font-style=\"italic\" lengthAdjust=\"spacingAndGlyphs\" textLength=\"64\" x=\"247\" y=\"105.1387\">«part def»</text><text fill=\"#000000\" font-family=\"sans-serif\" font-size=\"12\" lengthAdjust=\"spacingAndGlyphs\" textLength=\"8\" x=\"275\" y=\"119.1074\">A</text></a></g><a href=\"psysml:e3978575-11c4-4054-8f35-fdd3c4e4a8ed\" target=\"_top\" title=\"psysml:e3978575-11c4-4054-8f35-fdd3c4e4a8ed\" xlink:actuate=\"onRequest\" xlink:href=\"psysml:e3978575-11c4-4054-8f35-fdd3c4e4a8ed\" xlink:show=\"new\" xlink:title=\"psysml:e3978575-11c4-4054-8f35-fdd3c4e4a8ed\" xlink:type=\"simple\"><polygon fill=\"#FFFFFF\" points=\"141,84,173,84,180,106.2969,187,106.2969,187,136.5938,141,136.5938,141,84\" style=\"stroke: #000000; stroke-width: 1.5;\"/><line style=\"stroke: #000000; stroke-width: 1.5;\" x1=\"141\" x2=\"180\" y1=\"106.2969\" y2=\"106.2969\"/><text fill=\"#000000\" font-family=\"sans-serif\" font-size=\"14\" font-weight=\"bold\" lengthAdjust=\"spacingAndGlyphs\" textLength=\"26\" x=\"145\" y=\"98.9951\">P2a</text></a><g id=\"E1.E4.E6\"><a href=\"psysml:7d458e03-6011-4476-9c3b-13cd018efbef\" target=\"_top\" title=\"psysml:7d458e03-6011-4476-9c3b-13cd018efbef\" xlink:actuate=\"onRequest\" xlink:href=\"psysml:7d458e03-6011-4476-9c3b-13cd018efbef\" xlink:show=\"new\" xlink:title=\"psysml:7d458e03-6011-4476-9c3b-13cd018efbef\" xlink:type=\"simple\"><rect fill=\"#FFFFFF\" height=\"40\" id=\"E6\" rx=\"10\" ry=\"10\" style=\"stroke: #383838; stroke-width: 1.5;\" width=\"50\" x=\"56\" y=\"90.5\"/><rect fill=\"#F8F8F8\" height=\"23.9688\" rx=\"10\" ry=\"10\" style=\"stroke: #F8F8F8; stroke-width: 1.5;\" width=\"50\" x=\"56\" y=\"90.5\"/><rect fill=\"#F8F8F8\" height=\"10\" style=\"stroke: #F8F8F8; stroke-width: 1.5;\" width=\"50\" x=\"56\" y=\"104.4688\"/><rect fill=\"none\" height=\"40\" id=\"E6\" rx=\"10\" ry=\"10\" style=\"stroke: #383838; stroke-width: 1.5;\" width=\"50\" x=\"56\" y=\"90.5\"/><text fill=\"#000000\" font-family=\"sans-serif\" font-size=\"12\" lengthAdjust=\"spacingAndGlyphs\" textLength=\"22\" x=\"70\" y=\"106.6387\">x: A</text></a></g><!--MD5=[03e79f95a61debce2aed329d6b43c155]\n",
       "@startuml\r\n",
       "skinparam ranksep 10\r\n",
       "skinparam rectangle {\r\n",
       " backgroundColor<<block>> LightGreen\r\n",
       "}\r\n",
       "skinparam monochrome true\r\n",
       "skinparam classbackgroundcolor white\r\n",
       "skinparam shadowing false\r\n",
       "skinparam wrapWidth 300\r\n",
       "hide circle\r\n",
       "\r\n",
       "package \"QualifiedNameImportTest\" as E1  [[psysml:c8de649d-2dc2-4761-aec9-7bacaacfe515 ]]  {\r\n",
       "package \"P1\" as E2  [[psysml:6cc89760-fc75-419d-8f57-c720b4f2efbc ]]  {\r\n",
       "rec def \"A\" as E3  <<(T,blue) part def>> [[psysml:e98f2231-0909-453e-b014-2111b959b184 ]] {\r\n",
       "}\r\n",
       "}\r\n",
       "package \"P2\" as E4  [[psysml:42adecdc-f281-4f00-8fb0-2d405003d942 ]]  {\r\n",
       "package \"P2a\" as E5  [[psysml:e3978575-11c4-4054-8f35-fdd3c4e4a8ed ]]  {\r\n",
       "}\r\n",
       "rec usage \"x: A\" as E6  [[psysml:7d458e03-6011-4476-9c3b-13cd018efbef ]] {\r\n",
       "}\r\n",
       "}\r\n",
       "}\r\n",
       "@enduml\r\n",
       "\n",
       "PlantUML version 1.2020.13(Sat Jun 13 12:26:38 UTC 2020)\n",
       "(EPL source distribution)\n",
       "Java Runtime: OpenJDK Runtime Environment\n",
       "JVM: OpenJDK 64-Bit Server VM\n",
       "Default Encoding: UTF-8\n",
       "Language: en\n",
       "Country: null\n",
       "--></g></svg>"
      ]
     },
     "execution_count": 40,
     "metadata": {},
     "output_type": "execute_result"
    }
   ],
   "source": [
    "%viz --style=\"DEFAULT\" --view=\"Interconnection\" \"QualifiedNameImportTest\""
   ]
  },
  {
   "cell_type": "code",
   "execution_count": 41,
   "id": "72bac092",
   "metadata": {
    "execution": {
     "iopub.execute_input": "2021-09-27T07:19:01.850417Z",
     "iopub.status.busy": "2021-09-27T07:19:01.849930Z",
     "iopub.status.idle": "2021-09-27T07:19:01.854370Z",
     "shell.execute_reply": "2021-09-27T07:19:01.854674Z"
    }
   },
   "outputs": [
    {
     "data": {
      "image/svg+xml": [
       "<?xml version=\"1.0\" encoding=\"UTF-8\" standalone=\"no\"?><svg xmlns=\"http://www.w3.org/2000/svg\" xmlns:xlink=\"http://www.w3.org/1999/xlink\" contentScriptType=\"application/ecmascript\" contentStyleType=\"text/css\" height=\"12px\" preserveAspectRatio=\"none\" style=\"width:12px;height:12px;\" version=\"1.1\" viewBox=\"0 0 12 12\" width=\"12px\" zoomAndPan=\"magnify\"><defs/><g><!--MD5=[388f21188e31bfdd97050473b19af356]\n",
       "@startuml\r\n",
       "skinparam ranksep 8\r\n",
       "skinparam monochrome true\r\n",
       "skinparam classbackgroundcolor white\r\n",
       "skinparam shadowing false\r\n",
       "skinparam wrapWidth 300\r\n",
       "hide circle\r\n",
       "\r\n",
       "@enduml\r\n",
       "\n",
       "PlantUML version 1.2020.13(Sat Jun 13 12:26:38 UTC 2020)\n",
       "(EPL source distribution)\n",
       "Java Runtime: OpenJDK Runtime Environment\n",
       "JVM: OpenJDK 64-Bit Server VM\n",
       "Default Encoding: UTF-8\n",
       "Language: en\n",
       "Country: null\n",
       "--></g></svg>"
      ]
     },
     "execution_count": 41,
     "metadata": {},
     "output_type": "execute_result"
    }
   ],
   "source": [
    "%viz --style=\"DEFAULT\" --view=\"Action\" \"QualifiedNameImportTest\""
   ]
  },
  {
   "cell_type": "code",
   "execution_count": 42,
   "id": "49d592ea",
   "metadata": {
    "execution": {
     "iopub.execute_input": "2021-09-27T07:19:01.904633Z",
     "iopub.status.busy": "2021-09-27T07:19:01.904218Z",
     "iopub.status.idle": "2021-09-27T07:19:01.908894Z",
     "shell.execute_reply": "2021-09-27T07:19:01.909190Z"
    }
   },
   "outputs": [
    {
     "data": {
      "image/svg+xml": [
       "<?xml version=\"1.0\" encoding=\"UTF-8\" standalone=\"no\"?><svg xmlns=\"http://www.w3.org/2000/svg\" xmlns:xlink=\"http://www.w3.org/1999/xlink\" contentScriptType=\"application/ecmascript\" contentStyleType=\"text/css\" height=\"12px\" preserveAspectRatio=\"none\" style=\"width:12px;height:12px;\" version=\"1.1\" viewBox=\"0 0 12 12\" width=\"12px\" zoomAndPan=\"magnify\"><defs/><g><!--MD5=[0b72472770326784bf6c2b53246e1e64]\n",
       "@startuml\r\n",
       "skinparam roundcorner 20\r\n",
       "skinparam BoxPadding 20\r\n",
       "skinparam SequenceBoxBackgroundColor #white\r\n",
       "skinparam style strictuml\r\n",
       "skinparam maxMessageSize 100\r\n",
       "skinparam monochrome true\r\n",
       "skinparam classbackgroundcolor white\r\n",
       "skinparam shadowing false\r\n",
       "skinparam wrapWidth 300\r\n",
       "hide circle\r\n",
       "\r\n",
       "@enduml\r\n",
       "\n",
       "PlantUML version 1.2020.13(Sat Jun 13 12:26:38 UTC 2020)\n",
       "(EPL source distribution)\n",
       "Java Runtime: OpenJDK Runtime Environment\n",
       "JVM: OpenJDK 64-Bit Server VM\n",
       "Default Encoding: UTF-8\n",
       "Language: en\n",
       "Country: null\n",
       "--></g></svg>"
      ]
     },
     "execution_count": 42,
     "metadata": {},
     "output_type": "execute_result"
    }
   ],
   "source": [
    "%viz --style=\"DEFAULT\" --view=\"Sequence\" \"QualifiedNameImportTest\""
   ]
  },
  {
   "cell_type": "code",
   "execution_count": 43,
   "id": "fc56a03f",
   "metadata": {
    "execution": {
     "iopub.execute_input": "2021-09-27T07:19:01.959546Z",
     "iopub.status.busy": "2021-09-27T07:19:01.959105Z",
     "iopub.status.idle": "2021-09-27T07:19:01.987845Z",
     "shell.execute_reply": "2021-09-27T07:19:01.986581Z"
    }
   },
   "outputs": [
    {
     "data": {
      "image/svg+xml": [
       "<?xml version=\"1.0\" encoding=\"UTF-8\" standalone=\"no\"?><svg xmlns=\"http://www.w3.org/2000/svg\" xmlns:xlink=\"http://www.w3.org/1999/xlink\" contentScriptType=\"application/ecmascript\" contentStyleType=\"text/css\" height=\"310px\" preserveAspectRatio=\"none\" style=\"width:241px;height:310px;\" version=\"1.1\" viewBox=\"0 0 241 310\" width=\"241px\" zoomAndPan=\"magnify\"><defs/><g><!--MD5=[fbc87193dbaf4d95561dea2c320d4a47]\n",
       "cluster E1--><a href=\"psysml:c8de649d-2dc2-4761-aec9-7bacaacfe515\" target=\"_top\" title=\"psysml:c8de649d-2dc2-4761-aec9-7bacaacfe515\" xlink:actuate=\"onRequest\" xlink:href=\"psysml:c8de649d-2dc2-4761-aec9-7bacaacfe515\" xlink:show=\"new\" xlink:title=\"psysml:c8de649d-2dc2-4761-aec9-7bacaacfe515\" xlink:type=\"simple\"><polygon fill=\"#FFFFFF\" points=\"16,6,196,6,203,28.2969,219,28.2969,219,298,16,298,16,6\" style=\"stroke: #000000; stroke-width: 1.5;\"/><line style=\"stroke: #000000; stroke-width: 1.5;\" x1=\"16\" x2=\"203\" y1=\"28.2969\" y2=\"28.2969\"/><text fill=\"#000000\" font-family=\"sans-serif\" font-size=\"14\" font-weight=\"bold\" lengthAdjust=\"spacingAndGlyphs\" textLength=\"174\" x=\"20\" y=\"20.9951\">QualifiedNameImportTest</text></a><!--MD5=[e4f7fae6ed58524ba242bb0b0d3be6b7]\n",
       "cluster E2--><a href=\"psysml:6cc89760-fc75-419d-8f57-c720b4f2efbc\" target=\"_top\" title=\"psysml:6cc89760-fc75-419d-8f57-c720b4f2efbc\" xlink:actuate=\"onRequest\" xlink:href=\"psysml:6cc89760-fc75-419d-8f57-c720b4f2efbc\" xlink:show=\"new\" xlink:title=\"psysml:6cc89760-fc75-419d-8f57-c720b4f2efbc\" xlink:type=\"simple\"><polygon fill=\"#FFFFFF\" points=\"97,177,121,177,128,199.2969,195,199.2969,195,274,97,274,97,177\" style=\"stroke: #000000; stroke-width: 1.5;\"/><line style=\"stroke: #000000; stroke-width: 1.5;\" x1=\"97\" x2=\"128\" y1=\"199.2969\" y2=\"199.2969\"/><text fill=\"#000000\" font-family=\"sans-serif\" font-size=\"14\" font-weight=\"bold\" lengthAdjust=\"spacingAndGlyphs\" textLength=\"18\" x=\"101\" y=\"191.9951\">P1</text></a><!--MD5=[f6df4d0ebaf0b5dfb2ced0ae5af7c670]\n",
       "cluster E4--><a href=\"psysml:42adecdc-f281-4f00-8fb0-2d405003d942\" target=\"_top\" title=\"psysml:42adecdc-f281-4f00-8fb0-2d405003d942\" xlink:actuate=\"onRequest\" xlink:href=\"psysml:42adecdc-f281-4f00-8fb0-2d405003d942\" xlink:show=\"new\" xlink:title=\"psysml:42adecdc-f281-4f00-8fb0-2d405003d942\" xlink:type=\"simple\"><polygon fill=\"#FFFFFF\" points=\"40,49,64,49,71,71.2969,195,71.2969,195,153,40,153,40,49\" style=\"stroke: #000000; stroke-width: 1.5;\"/><line style=\"stroke: #000000; stroke-width: 1.5;\" x1=\"40\" x2=\"71\" y1=\"71.2969\" y2=\"71.2969\"/><text fill=\"#000000\" font-family=\"sans-serif\" font-size=\"14\" font-weight=\"bold\" lengthAdjust=\"spacingAndGlyphs\" textLength=\"18\" x=\"44\" y=\"63.9951\">P2</text></a><!--MD5=[09b614a08d8cba4a07c9adeb5e0fee81]\n",
       "class E3--><a href=\"psysml:e98f2231-0909-453e-b014-2111b959b184\" target=\"_top\" title=\"psysml:e98f2231-0909-453e-b014-2111b959b184\" xlink:actuate=\"onRequest\" xlink:href=\"psysml:e98f2231-0909-453e-b014-2111b959b184\" xlink:show=\"new\" xlink:title=\"psysml:e98f2231-0909-453e-b014-2111b959b184\" xlink:type=\"simple\"><rect fill=\"#FFFFFF\" height=\"45.9375\" id=\"E3\" style=\"stroke: #383838; stroke-width: 1.5;\" width=\"66\" x=\"113\" y=\"212\"/><text fill=\"#000000\" font-family=\"sans-serif\" font-size=\"12\" font-style=\"italic\" lengthAdjust=\"spacingAndGlyphs\" textLength=\"64\" x=\"114\" y=\"228.1387\">«part def»</text><text fill=\"#000000\" font-family=\"sans-serif\" font-size=\"12\" lengthAdjust=\"spacingAndGlyphs\" textLength=\"8\" x=\"142\" y=\"242.1074\">A</text><line style=\"stroke: #383838; stroke-width: 1.5;\" x1=\"114\" x2=\"178\" y1=\"249.9375\" y2=\"249.9375\"/></a><!--MD5=[60a26617385b1d2d0262a64233df1f8d]\n",
       "class E6--><a href=\"psysml:7d458e03-6011-4476-9c3b-13cd018efbef\" target=\"_top\" title=\"psysml:7d458e03-6011-4476-9c3b-13cd018efbef\" xlink:actuate=\"onRequest\" xlink:href=\"psysml:7d458e03-6011-4476-9c3b-13cd018efbef\" xlink:show=\"new\" xlink:title=\"psysml:7d458e03-6011-4476-9c3b-13cd018efbef\" xlink:type=\"simple\"><rect fill=\"#FFFFFF\" height=\"45.9375\" id=\"E6\" rx=\"10\" ry=\"10\" style=\"stroke: #383838; stroke-width: 1.5;\" width=\"42\" x=\"137\" y=\"87.5\"/><text fill=\"#000000\" font-family=\"sans-serif\" font-size=\"12\" font-style=\"italic\" lengthAdjust=\"spacingAndGlyphs\" textLength=\"40\" x=\"138\" y=\"103.6387\">«part»</text><text fill=\"#000000\" font-family=\"sans-serif\" font-size=\"12\" lengthAdjust=\"spacingAndGlyphs\" textLength=\"22\" x=\"147\" y=\"117.6074\">x: A</text><line style=\"stroke: #383838; stroke-width: 1.5;\" x1=\"138\" x2=\"178\" y1=\"125.4375\" y2=\"125.4375\"/></a><a href=\"psysml:e3978575-11c4-4054-8f35-fdd3c4e4a8ed\" target=\"_top\" title=\"psysml:e3978575-11c4-4054-8f35-fdd3c4e4a8ed\" xlink:actuate=\"onRequest\" xlink:href=\"psysml:e3978575-11c4-4054-8f35-fdd3c4e4a8ed\" xlink:show=\"new\" xlink:title=\"psysml:e3978575-11c4-4054-8f35-fdd3c4e4a8ed\" xlink:type=\"simple\"><polygon fill=\"#FFFFFF\" points=\"56,84,88,84,95,106.2969,102,106.2969,102,136.5938,56,136.5938,56,84\" style=\"stroke: #000000; stroke-width: 1.5;\"/><line style=\"stroke: #000000; stroke-width: 1.5;\" x1=\"56\" x2=\"95\" y1=\"106.2969\" y2=\"106.2969\"/><text fill=\"#000000\" font-family=\"sans-serif\" font-size=\"14\" font-weight=\"bold\" lengthAdjust=\"spacingAndGlyphs\" textLength=\"26\" x=\"60\" y=\"98.9951\">P2a</text></a><!--MD5=[a717450b82c80b9240a525fa862496af]\n",
       "link E6 to E3--><a href=\"psysml:9b235a5a-e1e6-4e2e-a344-8e5fae0ff3e7\" target=\"_top\" title=\"psysml:9b235a5a-e1e6-4e2e-a344-8e5fae0ff3e7\" xlink:actuate=\"onRequest\" xlink:href=\"psysml:9b235a5a-e1e6-4e2e-a344-8e5fae0ff3e7\" xlink:show=\"new\" xlink:title=\"psysml:9b235a5a-e1e6-4e2e-a344-8e5fae0ff3e7\" xlink:type=\"simple\"><path d=\"M155.83,133.68 C154.24,149.9 152.04,172.39 150.12,191.96 \" fill=\"none\" id=\"E6-&gt;E3\" style=\"stroke: #383838; stroke-width: 1.0;\"/><polygon fill=\"#FFFFFF\" points=\"148.16,211.98,143.0533,192.3861,156.986,193.7564,148.16,211.98\" style=\"stroke: #383838; stroke-width: 1.0;\"/><ellipse cx=\"145.6016\" cy=\"186.9092\" fill=\"#383838\" rx=\"2\" ry=\"2\" style=\"stroke: #383838; stroke-width: 1.0;\"/><ellipse cx=\"155.5535\" cy=\"187.888\" fill=\"#383838\" rx=\"2\" ry=\"2\" style=\"stroke: #383838; stroke-width: 1.0;\"/></a><!--MD5=[1294676a347d44d456bf485cceb9859b]\n",
       "@startuml\r\n",
       "skinparam monochrome true\r\n",
       "skinparam classbackgroundcolor white\r\n",
       "skinparam shadowing false\r\n",
       "skinparam wrapWidth 300\r\n",
       "hide circle\r\n",
       "\r\n",
       "package \"QualifiedNameImportTest\" as E1  [[psysml:c8de649d-2dc2-4761-aec9-7bacaacfe515 ]]  {\r\n",
       "package \"P1\" as E2  [[psysml:6cc89760-fc75-419d-8f57-c720b4f2efbc ]]  {\r\n",
       "comp def \"A\" as E3  <<(T,blue) part def>> [[psysml:e98f2231-0909-453e-b014-2111b959b184 ]] {\r\n",
       "}\r\n",
       "}\r\n",
       "package \"P2\" as E4  [[psysml:42adecdc-f281-4f00-8fb0-2d405003d942 ]]  {\r\n",
       "package \"P2a\" as E5  [[psysml:e3978575-11c4-4054-8f35-fdd3c4e4a8ed ]]  {\r\n",
       "}\r\n",
       "comp usage \"x: A\" as E6  <<(T,blue) part>> [[psysml:7d458e03-6011-4476-9c3b-13cd018efbef ]] {\r\n",
       "}\r\n",
       "}\r\n",
       "}\r\n",
       "E6 - -:|> E3 [[psysml:9b235a5a-e1e6-4e2e-a344-8e5fae0ff3e7 ]] \r\n",
       "@enduml\r\n",
       "\n",
       "PlantUML version 1.2020.13(Sat Jun 13 12:26:38 UTC 2020)\n",
       "(EPL source distribution)\n",
       "Java Runtime: OpenJDK Runtime Environment\n",
       "JVM: OpenJDK 64-Bit Server VM\n",
       "Default Encoding: UTF-8\n",
       "Language: en\n",
       "Country: null\n",
       "--></g></svg>"
      ]
     },
     "execution_count": 43,
     "metadata": {},
     "output_type": "execute_result"
    }
   ],
   "source": [
    "%viz --style=\"DEFAULT\" --view=\"MIXED\" \"QualifiedNameImportTest\""
   ]
  },
  {
   "cell_type": "code",
   "execution_count": 44,
   "id": "93d9a575",
   "metadata": {
    "execution": {
     "iopub.execute_input": "2021-09-27T07:19:02.037476Z",
     "iopub.status.busy": "2021-09-27T07:19:02.037033Z",
     "iopub.status.idle": "2021-09-27T07:19:02.064629Z",
     "shell.execute_reply": "2021-09-27T07:19:02.063345Z"
    }
   },
   "outputs": [
    {
     "data": {
      "image/svg+xml": [
       "<?xml version=\"1.0\" encoding=\"UTF-8\" standalone=\"no\"?><svg xmlns=\"http://www.w3.org/2000/svg\" xmlns:xlink=\"http://www.w3.org/1999/xlink\" contentScriptType=\"application/ecmascript\" contentStyleType=\"text/css\" height=\"310px\" preserveAspectRatio=\"none\" style=\"width:241px;height:310px;\" version=\"1.1\" viewBox=\"0 0 241 310\" width=\"241px\" zoomAndPan=\"magnify\"><defs/><g><!--MD5=[fbc87193dbaf4d95561dea2c320d4a47]\n",
       "cluster E1--><a href=\"psysml:c8de649d-2dc2-4761-aec9-7bacaacfe515\" target=\"_top\" title=\"psysml:c8de649d-2dc2-4761-aec9-7bacaacfe515\" xlink:actuate=\"onRequest\" xlink:href=\"psysml:c8de649d-2dc2-4761-aec9-7bacaacfe515\" xlink:show=\"new\" xlink:title=\"psysml:c8de649d-2dc2-4761-aec9-7bacaacfe515\" xlink:type=\"simple\"><polygon fill=\"#FFFFFF\" points=\"16,6,196,6,203,28.2969,219,28.2969,219,298,16,298,16,6\" style=\"stroke: #000000; stroke-width: 1.5;\"/><line style=\"stroke: #000000; stroke-width: 1.5;\" x1=\"16\" x2=\"203\" y1=\"28.2969\" y2=\"28.2969\"/><text fill=\"#000000\" font-family=\"sans-serif\" font-size=\"14\" font-weight=\"bold\" lengthAdjust=\"spacingAndGlyphs\" textLength=\"174\" x=\"20\" y=\"20.9951\">QualifiedNameImportTest</text></a><!--MD5=[e4f7fae6ed58524ba242bb0b0d3be6b7]\n",
       "cluster E2--><a href=\"psysml:6cc89760-fc75-419d-8f57-c720b4f2efbc\" target=\"_top\" title=\"psysml:6cc89760-fc75-419d-8f57-c720b4f2efbc\" xlink:actuate=\"onRequest\" xlink:href=\"psysml:6cc89760-fc75-419d-8f57-c720b4f2efbc\" xlink:show=\"new\" xlink:title=\"psysml:6cc89760-fc75-419d-8f57-c720b4f2efbc\" xlink:type=\"simple\"><polygon fill=\"#FFFFFF\" points=\"97,177,121,177,128,199.2969,195,199.2969,195,274,97,274,97,177\" style=\"stroke: #000000; stroke-width: 1.5;\"/><line style=\"stroke: #000000; stroke-width: 1.5;\" x1=\"97\" x2=\"128\" y1=\"199.2969\" y2=\"199.2969\"/><text fill=\"#000000\" font-family=\"sans-serif\" font-size=\"14\" font-weight=\"bold\" lengthAdjust=\"spacingAndGlyphs\" textLength=\"18\" x=\"101\" y=\"191.9951\">P1</text></a><!--MD5=[f6df4d0ebaf0b5dfb2ced0ae5af7c670]\n",
       "cluster E4--><a href=\"psysml:42adecdc-f281-4f00-8fb0-2d405003d942\" target=\"_top\" title=\"psysml:42adecdc-f281-4f00-8fb0-2d405003d942\" xlink:actuate=\"onRequest\" xlink:href=\"psysml:42adecdc-f281-4f00-8fb0-2d405003d942\" xlink:show=\"new\" xlink:title=\"psysml:42adecdc-f281-4f00-8fb0-2d405003d942\" xlink:type=\"simple\"><polygon fill=\"#FFFFFF\" points=\"40,49,64,49,71,71.2969,195,71.2969,195,153,40,153,40,49\" style=\"stroke: #000000; stroke-width: 1.5;\"/><line style=\"stroke: #000000; stroke-width: 1.5;\" x1=\"40\" x2=\"71\" y1=\"71.2969\" y2=\"71.2969\"/><text fill=\"#000000\" font-family=\"sans-serif\" font-size=\"14\" font-weight=\"bold\" lengthAdjust=\"spacingAndGlyphs\" textLength=\"18\" x=\"44\" y=\"63.9951\">P2</text></a><!--MD5=[09b614a08d8cba4a07c9adeb5e0fee81]\n",
       "class E3--><a href=\"psysml:e98f2231-0909-453e-b014-2111b959b184\" target=\"_top\" title=\"psysml:e98f2231-0909-453e-b014-2111b959b184\" xlink:actuate=\"onRequest\" xlink:href=\"psysml:e98f2231-0909-453e-b014-2111b959b184\" xlink:show=\"new\" xlink:title=\"psysml:e98f2231-0909-453e-b014-2111b959b184\" xlink:type=\"simple\"><rect fill=\"#FFFFFF\" height=\"45.9375\" id=\"E3\" style=\"stroke: #383838; stroke-width: 1.5;\" width=\"66\" x=\"113\" y=\"212\"/><text fill=\"#000000\" font-family=\"sans-serif\" font-size=\"12\" font-style=\"italic\" lengthAdjust=\"spacingAndGlyphs\" textLength=\"64\" x=\"114\" y=\"228.1387\">«part def»</text><text fill=\"#000000\" font-family=\"sans-serif\" font-size=\"12\" lengthAdjust=\"spacingAndGlyphs\" textLength=\"8\" x=\"142\" y=\"242.1074\">A</text><line style=\"stroke: #383838; stroke-width: 1.5;\" x1=\"114\" x2=\"178\" y1=\"249.9375\" y2=\"249.9375\"/></a><!--MD5=[60a26617385b1d2d0262a64233df1f8d]\n",
       "class E6--><a href=\"psysml:7d458e03-6011-4476-9c3b-13cd018efbef\" target=\"_top\" title=\"psysml:7d458e03-6011-4476-9c3b-13cd018efbef\" xlink:actuate=\"onRequest\" xlink:href=\"psysml:7d458e03-6011-4476-9c3b-13cd018efbef\" xlink:show=\"new\" xlink:title=\"psysml:7d458e03-6011-4476-9c3b-13cd018efbef\" xlink:type=\"simple\"><rect fill=\"#FFFFFF\" height=\"45.9375\" id=\"E6\" rx=\"10\" ry=\"10\" style=\"stroke: #383838; stroke-width: 1.5;\" width=\"42\" x=\"137\" y=\"87.5\"/><text fill=\"#000000\" font-family=\"sans-serif\" font-size=\"12\" font-style=\"italic\" lengthAdjust=\"spacingAndGlyphs\" textLength=\"40\" x=\"138\" y=\"103.6387\">«part»</text><text fill=\"#000000\" font-family=\"sans-serif\" font-size=\"12\" lengthAdjust=\"spacingAndGlyphs\" textLength=\"22\" x=\"147\" y=\"117.6074\">x: A</text><line style=\"stroke: #383838; stroke-width: 1.5;\" x1=\"138\" x2=\"178\" y1=\"125.4375\" y2=\"125.4375\"/></a><a href=\"psysml:e3978575-11c4-4054-8f35-fdd3c4e4a8ed\" target=\"_top\" title=\"psysml:e3978575-11c4-4054-8f35-fdd3c4e4a8ed\" xlink:actuate=\"onRequest\" xlink:href=\"psysml:e3978575-11c4-4054-8f35-fdd3c4e4a8ed\" xlink:show=\"new\" xlink:title=\"psysml:e3978575-11c4-4054-8f35-fdd3c4e4a8ed\" xlink:type=\"simple\"><polygon fill=\"#FFFFFF\" points=\"56,84,88,84,95,106.2969,102,106.2969,102,136.5938,56,136.5938,56,84\" style=\"stroke: #000000; stroke-width: 1.5;\"/><line style=\"stroke: #000000; stroke-width: 1.5;\" x1=\"56\" x2=\"95\" y1=\"106.2969\" y2=\"106.2969\"/><text fill=\"#000000\" font-family=\"sans-serif\" font-size=\"14\" font-weight=\"bold\" lengthAdjust=\"spacingAndGlyphs\" textLength=\"26\" x=\"60\" y=\"98.9951\">P2a</text></a><!--MD5=[a717450b82c80b9240a525fa862496af]\n",
       "link E6 to E3--><a href=\"psysml:9b235a5a-e1e6-4e2e-a344-8e5fae0ff3e7\" target=\"_top\" title=\"psysml:9b235a5a-e1e6-4e2e-a344-8e5fae0ff3e7\" xlink:actuate=\"onRequest\" xlink:href=\"psysml:9b235a5a-e1e6-4e2e-a344-8e5fae0ff3e7\" xlink:show=\"new\" xlink:title=\"psysml:9b235a5a-e1e6-4e2e-a344-8e5fae0ff3e7\" xlink:type=\"simple\"><path d=\"M155.83,133.68 C154.24,149.9 152.04,172.39 150.12,191.96 \" fill=\"none\" id=\"E6-&gt;E3\" style=\"stroke: #383838; stroke-width: 1.0;\"/><polygon fill=\"#FFFFFF\" points=\"148.16,211.98,143.0533,192.3861,156.986,193.7564,148.16,211.98\" style=\"stroke: #383838; stroke-width: 1.0;\"/><ellipse cx=\"145.6016\" cy=\"186.9092\" fill=\"#383838\" rx=\"2\" ry=\"2\" style=\"stroke: #383838; stroke-width: 1.0;\"/><ellipse cx=\"155.5535\" cy=\"187.888\" fill=\"#383838\" rx=\"2\" ry=\"2\" style=\"stroke: #383838; stroke-width: 1.0;\"/></a><!--MD5=[5c6191966b96ce834aa35daa0512ad78]\n",
       "@startuml\r\n",
       "top to bottom direction\r\n",
       "skinparam monochrome true\r\n",
       "skinparam classbackgroundcolor white\r\n",
       "skinparam shadowing false\r\n",
       "skinparam wrapWidth 300\r\n",
       "hide circle\r\n",
       "\r\n",
       "package \"QualifiedNameImportTest\" as E1  [[psysml:c8de649d-2dc2-4761-aec9-7bacaacfe515 ]]  {\r\n",
       "package \"P1\" as E2  [[psysml:6cc89760-fc75-419d-8f57-c720b4f2efbc ]]  {\r\n",
       "comp def \"A\" as E3  <<(T,blue) part def>> [[psysml:e98f2231-0909-453e-b014-2111b959b184 ]] {\r\n",
       "}\r\n",
       "}\r\n",
       "package \"P2\" as E4  [[psysml:42adecdc-f281-4f00-8fb0-2d405003d942 ]]  {\r\n",
       "package \"P2a\" as E5  [[psysml:e3978575-11c4-4054-8f35-fdd3c4e4a8ed ]]  {\r\n",
       "}\r\n",
       "comp usage \"x: A\" as E6  <<(T,blue) part>> [[psysml:7d458e03-6011-4476-9c3b-13cd018efbef ]] {\r\n",
       "}\r\n",
       "}\r\n",
       "}\r\n",
       "E6 - -:|> E3 [[psysml:9b235a5a-e1e6-4e2e-a344-8e5fae0ff3e7 ]] \r\n",
       "@enduml\r\n",
       "\n",
       "PlantUML version 1.2020.13(Sat Jun 13 12:26:38 UTC 2020)\n",
       "(EPL source distribution)\n",
       "Java Runtime: OpenJDK Runtime Environment\n",
       "JVM: OpenJDK 64-Bit Server VM\n",
       "Default Encoding: UTF-8\n",
       "Language: en\n",
       "Country: null\n",
       "--></g></svg>"
      ]
     },
     "execution_count": 44,
     "metadata": {},
     "output_type": "execute_result"
    }
   ],
   "source": [
    "%viz --style=\"TB\" --view=\"Default\" \"QualifiedNameImportTest\""
   ]
  },
  {
   "cell_type": "code",
   "execution_count": 45,
   "id": "59338a6e",
   "metadata": {
    "execution": {
     "iopub.execute_input": "2021-09-27T07:19:02.114412Z",
     "iopub.status.busy": "2021-09-27T07:19:02.113784Z",
     "iopub.status.idle": "2021-09-27T07:19:02.140702Z",
     "shell.execute_reply": "2021-09-27T07:19:02.139448Z"
    }
   },
   "outputs": [
    {
     "data": {
      "image/svg+xml": [
       "<?xml version=\"1.0\" encoding=\"UTF-8\" standalone=\"no\"?><svg xmlns=\"http://www.w3.org/2000/svg\" xmlns:xlink=\"http://www.w3.org/1999/xlink\" contentScriptType=\"application/ecmascript\" contentStyleType=\"text/css\" height=\"310px\" preserveAspectRatio=\"none\" style=\"width:241px;height:310px;\" version=\"1.1\" viewBox=\"0 0 241 310\" width=\"241px\" zoomAndPan=\"magnify\"><defs/><g><!--MD5=[fbc87193dbaf4d95561dea2c320d4a47]\n",
       "cluster E1--><a href=\"psysml:c8de649d-2dc2-4761-aec9-7bacaacfe515\" target=\"_top\" title=\"psysml:c8de649d-2dc2-4761-aec9-7bacaacfe515\" xlink:actuate=\"onRequest\" xlink:href=\"psysml:c8de649d-2dc2-4761-aec9-7bacaacfe515\" xlink:show=\"new\" xlink:title=\"psysml:c8de649d-2dc2-4761-aec9-7bacaacfe515\" xlink:type=\"simple\"><polygon fill=\"#FFFFFF\" points=\"16,6,196,6,203,28.2969,219,28.2969,219,298,16,298,16,6\" style=\"stroke: #000000; stroke-width: 1.5;\"/><line style=\"stroke: #000000; stroke-width: 1.5;\" x1=\"16\" x2=\"203\" y1=\"28.2969\" y2=\"28.2969\"/><text fill=\"#000000\" font-family=\"sans-serif\" font-size=\"14\" font-weight=\"bold\" lengthAdjust=\"spacingAndGlyphs\" textLength=\"174\" x=\"20\" y=\"20.9951\">QualifiedNameImportTest</text></a><!--MD5=[e4f7fae6ed58524ba242bb0b0d3be6b7]\n",
       "cluster E2--><a href=\"psysml:6cc89760-fc75-419d-8f57-c720b4f2efbc\" target=\"_top\" title=\"psysml:6cc89760-fc75-419d-8f57-c720b4f2efbc\" xlink:actuate=\"onRequest\" xlink:href=\"psysml:6cc89760-fc75-419d-8f57-c720b4f2efbc\" xlink:show=\"new\" xlink:title=\"psysml:6cc89760-fc75-419d-8f57-c720b4f2efbc\" xlink:type=\"simple\"><polygon fill=\"#FFFFFF\" points=\"97,177,121,177,128,199.2969,195,199.2969,195,274,97,274,97,177\" style=\"stroke: #000000; stroke-width: 1.5;\"/><line style=\"stroke: #000000; stroke-width: 1.5;\" x1=\"97\" x2=\"128\" y1=\"199.2969\" y2=\"199.2969\"/><text fill=\"#000000\" font-family=\"sans-serif\" font-size=\"14\" font-weight=\"bold\" lengthAdjust=\"spacingAndGlyphs\" textLength=\"18\" x=\"101\" y=\"191.9951\">P1</text></a><!--MD5=[f6df4d0ebaf0b5dfb2ced0ae5af7c670]\n",
       "cluster E4--><a href=\"psysml:42adecdc-f281-4f00-8fb0-2d405003d942\" target=\"_top\" title=\"psysml:42adecdc-f281-4f00-8fb0-2d405003d942\" xlink:actuate=\"onRequest\" xlink:href=\"psysml:42adecdc-f281-4f00-8fb0-2d405003d942\" xlink:show=\"new\" xlink:title=\"psysml:42adecdc-f281-4f00-8fb0-2d405003d942\" xlink:type=\"simple\"><polygon fill=\"#FFFFFF\" points=\"40,49,64,49,71,71.2969,195,71.2969,195,153,40,153,40,49\" style=\"stroke: #000000; stroke-width: 1.5;\"/><line style=\"stroke: #000000; stroke-width: 1.5;\" x1=\"40\" x2=\"71\" y1=\"71.2969\" y2=\"71.2969\"/><text fill=\"#000000\" font-family=\"sans-serif\" font-size=\"14\" font-weight=\"bold\" lengthAdjust=\"spacingAndGlyphs\" textLength=\"18\" x=\"44\" y=\"63.9951\">P2</text></a><!--MD5=[09b614a08d8cba4a07c9adeb5e0fee81]\n",
       "class E3--><a href=\"psysml:e98f2231-0909-453e-b014-2111b959b184\" target=\"_top\" title=\"psysml:e98f2231-0909-453e-b014-2111b959b184\" xlink:actuate=\"onRequest\" xlink:href=\"psysml:e98f2231-0909-453e-b014-2111b959b184\" xlink:show=\"new\" xlink:title=\"psysml:e98f2231-0909-453e-b014-2111b959b184\" xlink:type=\"simple\"><rect fill=\"#FFFFFF\" height=\"45.9375\" id=\"E3\" style=\"stroke: #383838; stroke-width: 1.5;\" width=\"66\" x=\"113\" y=\"212\"/><text fill=\"#000000\" font-family=\"sans-serif\" font-size=\"12\" font-style=\"italic\" lengthAdjust=\"spacingAndGlyphs\" textLength=\"64\" x=\"114\" y=\"228.1387\">«part def»</text><text fill=\"#000000\" font-family=\"sans-serif\" font-size=\"12\" lengthAdjust=\"spacingAndGlyphs\" textLength=\"8\" x=\"142\" y=\"242.1074\">A</text><line style=\"stroke: #383838; stroke-width: 1.5;\" x1=\"114\" x2=\"178\" y1=\"249.9375\" y2=\"249.9375\"/></a><!--MD5=[60a26617385b1d2d0262a64233df1f8d]\n",
       "class E6--><a href=\"psysml:7d458e03-6011-4476-9c3b-13cd018efbef\" target=\"_top\" title=\"psysml:7d458e03-6011-4476-9c3b-13cd018efbef\" xlink:actuate=\"onRequest\" xlink:href=\"psysml:7d458e03-6011-4476-9c3b-13cd018efbef\" xlink:show=\"new\" xlink:title=\"psysml:7d458e03-6011-4476-9c3b-13cd018efbef\" xlink:type=\"simple\"><rect fill=\"#FFFFFF\" height=\"45.9375\" id=\"E6\" rx=\"10\" ry=\"10\" style=\"stroke: #383838; stroke-width: 1.5;\" width=\"42\" x=\"137\" y=\"87.5\"/><text fill=\"#000000\" font-family=\"sans-serif\" font-size=\"12\" font-style=\"italic\" lengthAdjust=\"spacingAndGlyphs\" textLength=\"40\" x=\"138\" y=\"103.6387\">«part»</text><text fill=\"#000000\" font-family=\"sans-serif\" font-size=\"12\" lengthAdjust=\"spacingAndGlyphs\" textLength=\"22\" x=\"147\" y=\"117.6074\">x: A</text><line style=\"stroke: #383838; stroke-width: 1.5;\" x1=\"138\" x2=\"178\" y1=\"125.4375\" y2=\"125.4375\"/></a><a href=\"psysml:e3978575-11c4-4054-8f35-fdd3c4e4a8ed\" target=\"_top\" title=\"psysml:e3978575-11c4-4054-8f35-fdd3c4e4a8ed\" xlink:actuate=\"onRequest\" xlink:href=\"psysml:e3978575-11c4-4054-8f35-fdd3c4e4a8ed\" xlink:show=\"new\" xlink:title=\"psysml:e3978575-11c4-4054-8f35-fdd3c4e4a8ed\" xlink:type=\"simple\"><polygon fill=\"#FFFFFF\" points=\"56,84,88,84,95,106.2969,102,106.2969,102,136.5938,56,136.5938,56,84\" style=\"stroke: #000000; stroke-width: 1.5;\"/><line style=\"stroke: #000000; stroke-width: 1.5;\" x1=\"56\" x2=\"95\" y1=\"106.2969\" y2=\"106.2969\"/><text fill=\"#000000\" font-family=\"sans-serif\" font-size=\"14\" font-weight=\"bold\" lengthAdjust=\"spacingAndGlyphs\" textLength=\"26\" x=\"60\" y=\"98.9951\">P2a</text></a><!--MD5=[a717450b82c80b9240a525fa862496af]\n",
       "link E6 to E3--><a href=\"psysml:9b235a5a-e1e6-4e2e-a344-8e5fae0ff3e7\" target=\"_top\" title=\"psysml:9b235a5a-e1e6-4e2e-a344-8e5fae0ff3e7\" xlink:actuate=\"onRequest\" xlink:href=\"psysml:9b235a5a-e1e6-4e2e-a344-8e5fae0ff3e7\" xlink:show=\"new\" xlink:title=\"psysml:9b235a5a-e1e6-4e2e-a344-8e5fae0ff3e7\" xlink:type=\"simple\"><path d=\"M155.83,133.68 C154.24,149.9 152.04,172.39 150.12,191.96 \" fill=\"none\" id=\"E6-&gt;E3\" style=\"stroke: #383838; stroke-width: 1.0;\"/><polygon fill=\"#FFFFFF\" points=\"148.16,211.98,143.0533,192.3861,156.986,193.7564,148.16,211.98\" style=\"stroke: #383838; stroke-width: 1.0;\"/><ellipse cx=\"145.6016\" cy=\"186.9092\" fill=\"#383838\" rx=\"2\" ry=\"2\" style=\"stroke: #383838; stroke-width: 1.0;\"/><ellipse cx=\"155.5535\" cy=\"187.888\" fill=\"#383838\" rx=\"2\" ry=\"2\" style=\"stroke: #383838; stroke-width: 1.0;\"/></a><!--MD5=[5c6191966b96ce834aa35daa0512ad78]\n",
       "@startuml\r\n",
       "top to bottom direction\r\n",
       "skinparam monochrome true\r\n",
       "skinparam classbackgroundcolor white\r\n",
       "skinparam shadowing false\r\n",
       "skinparam wrapWidth 300\r\n",
       "hide circle\r\n",
       "\r\n",
       "package \"QualifiedNameImportTest\" as E1  [[psysml:c8de649d-2dc2-4761-aec9-7bacaacfe515 ]]  {\r\n",
       "package \"P1\" as E2  [[psysml:6cc89760-fc75-419d-8f57-c720b4f2efbc ]]  {\r\n",
       "comp def \"A\" as E3  <<(T,blue) part def>> [[psysml:e98f2231-0909-453e-b014-2111b959b184 ]] {\r\n",
       "}\r\n",
       "}\r\n",
       "package \"P2\" as E4  [[psysml:42adecdc-f281-4f00-8fb0-2d405003d942 ]]  {\r\n",
       "package \"P2a\" as E5  [[psysml:e3978575-11c4-4054-8f35-fdd3c4e4a8ed ]]  {\r\n",
       "}\r\n",
       "comp usage \"x: A\" as E6  <<(T,blue) part>> [[psysml:7d458e03-6011-4476-9c3b-13cd018efbef ]] {\r\n",
       "}\r\n",
       "}\r\n",
       "}\r\n",
       "E6 - -:|> E3 [[psysml:9b235a5a-e1e6-4e2e-a344-8e5fae0ff3e7 ]] \r\n",
       "@enduml\r\n",
       "\n",
       "PlantUML version 1.2020.13(Sat Jun 13 12:26:38 UTC 2020)\n",
       "(EPL source distribution)\n",
       "Java Runtime: OpenJDK Runtime Environment\n",
       "JVM: OpenJDK 64-Bit Server VM\n",
       "Default Encoding: UTF-8\n",
       "Language: en\n",
       "Country: null\n",
       "--></g></svg>"
      ]
     },
     "execution_count": 45,
     "metadata": {},
     "output_type": "execute_result"
    }
   ],
   "source": [
    "%viz --style=\"TB\" --view=\"Tree\" \"QualifiedNameImportTest\""
   ]
  },
  {
   "cell_type": "code",
   "execution_count": 46,
   "id": "000efbc3",
   "metadata": {
    "execution": {
     "iopub.execute_input": "2021-09-27T07:19:02.190599Z",
     "iopub.status.busy": "2021-09-27T07:19:02.190006Z",
     "iopub.status.idle": "2021-09-27T07:19:02.194959Z",
     "shell.execute_reply": "2021-09-27T07:19:02.194591Z"
    }
   },
   "outputs": [
    {
     "data": {
      "image/svg+xml": [
       "<?xml version=\"1.0\" encoding=\"UTF-8\" standalone=\"no\"?><svg xmlns=\"http://www.w3.org/2000/svg\" xmlns:xlink=\"http://www.w3.org/1999/xlink\" contentScriptType=\"application/ecmascript\" contentStyleType=\"text/css\" height=\"12px\" preserveAspectRatio=\"none\" style=\"width:12px;height:12px;\" version=\"1.1\" viewBox=\"0 0 12 12\" width=\"12px\" zoomAndPan=\"magnify\"><defs/><g><!--MD5=[f4ee21bc66e489b5061b7c3e9601fdef]\n",
       "@startuml\r\n",
       "top to bottom direction\r\n",
       "skinparam monochrome true\r\n",
       "skinparam classbackgroundcolor white\r\n",
       "skinparam shadowing false\r\n",
       "skinparam wrapWidth 300\r\n",
       "hide circle\r\n",
       "\r\n",
       "@enduml\r\n",
       "\n",
       "PlantUML version 1.2020.13(Sat Jun 13 12:26:38 UTC 2020)\n",
       "(EPL source distribution)\n",
       "Java Runtime: OpenJDK Runtime Environment\n",
       "JVM: OpenJDK 64-Bit Server VM\n",
       "Default Encoding: UTF-8\n",
       "Language: en\n",
       "Country: null\n",
       "--></g></svg>"
      ]
     },
     "execution_count": 46,
     "metadata": {},
     "output_type": "execute_result"
    }
   ],
   "source": [
    "%viz --style=\"TB\" --view=\"State\" \"QualifiedNameImportTest\""
   ]
  },
  {
   "cell_type": "code",
   "execution_count": 47,
   "id": "c0609ef6",
   "metadata": {
    "execution": {
     "iopub.execute_input": "2021-09-27T07:19:02.245189Z",
     "iopub.status.busy": "2021-09-27T07:19:02.244582Z",
     "iopub.status.idle": "2021-09-27T07:19:02.269680Z",
     "shell.execute_reply": "2021-09-27T07:19:02.268445Z"
    }
   },
   "outputs": [
    {
     "data": {
      "image/svg+xml": [
       "<?xml version=\"1.0\" encoding=\"UTF-8\" standalone=\"no\"?><svg xmlns=\"http://www.w3.org/2000/svg\" xmlns:xlink=\"http://www.w3.org/1999/xlink\" contentScriptType=\"application/ecmascript\" contentStyleType=\"text/css\" height=\"189px\" preserveAspectRatio=\"none\" style=\"width:377px;height:189px;\" version=\"1.1\" viewBox=\"0 0 377 189\" width=\"377px\" zoomAndPan=\"magnify\"><defs/><g><!--MD5=[fbc87193dbaf4d95561dea2c320d4a47]\n",
       "cluster E1--><a href=\"psysml:c8de649d-2dc2-4761-aec9-7bacaacfe515\" target=\"_top\" title=\"psysml:c8de649d-2dc2-4761-aec9-7bacaacfe515\" xlink:actuate=\"onRequest\" xlink:href=\"psysml:c8de649d-2dc2-4761-aec9-7bacaacfe515\" xlink:show=\"new\" xlink:title=\"psysml:c8de649d-2dc2-4761-aec9-7bacaacfe515\" xlink:type=\"simple\"><polygon fill=\"#FFFFFF\" points=\"16,6,196,6,203,28.2969,355,28.2969,355,177,16,177,16,6\" style=\"stroke: #000000; stroke-width: 1.5;\"/><line style=\"stroke: #000000; stroke-width: 1.5;\" x1=\"16\" x2=\"203\" y1=\"28.2969\" y2=\"28.2969\"/><text fill=\"#000000\" font-family=\"sans-serif\" font-size=\"14\" font-weight=\"bold\" lengthAdjust=\"spacingAndGlyphs\" textLength=\"174\" x=\"20\" y=\"20.9951\">QualifiedNameImportTest</text></a><!--MD5=[e4f7fae6ed58524ba242bb0b0d3be6b7]\n",
       "cluster E2--><a href=\"psysml:6cc89760-fc75-419d-8f57-c720b4f2efbc\" target=\"_top\" title=\"psysml:6cc89760-fc75-419d-8f57-c720b4f2efbc\" xlink:actuate=\"onRequest\" xlink:href=\"psysml:6cc89760-fc75-419d-8f57-c720b4f2efbc\" xlink:show=\"new\" xlink:title=\"psysml:6cc89760-fc75-419d-8f57-c720b4f2efbc\" xlink:type=\"simple\"><polygon fill=\"#FFFFFF\" points=\"227,54,251,54,258,76.2969,331,76.2969,331,148,227,148,227,54\" style=\"stroke: #000000; stroke-width: 1.5;\"/><line style=\"stroke: #000000; stroke-width: 1.5;\" x1=\"227\" x2=\"258\" y1=\"76.2969\" y2=\"76.2969\"/><text fill=\"#000000\" font-family=\"sans-serif\" font-size=\"14\" font-weight=\"bold\" lengthAdjust=\"spacingAndGlyphs\" textLength=\"18\" x=\"231\" y=\"68.9951\">P1</text></a><!--MD5=[f6df4d0ebaf0b5dfb2ced0ae5af7c670]\n",
       "cluster E4--><a href=\"psysml:42adecdc-f281-4f00-8fb0-2d405003d942\" target=\"_top\" title=\"psysml:42adecdc-f281-4f00-8fb0-2d405003d942\" xlink:actuate=\"onRequest\" xlink:href=\"psysml:42adecdc-f281-4f00-8fb0-2d405003d942\" xlink:show=\"new\" xlink:title=\"psysml:42adecdc-f281-4f00-8fb0-2d405003d942\" xlink:type=\"simple\"><polygon fill=\"#FFFFFF\" points=\"40,49,64,49,71,71.2969,203,71.2969,203,153,40,153,40,49\" style=\"stroke: #000000; stroke-width: 1.5;\"/><line style=\"stroke: #000000; stroke-width: 1.5;\" x1=\"40\" x2=\"71\" y1=\"71.2969\" y2=\"71.2969\"/><text fill=\"#000000\" font-family=\"sans-serif\" font-size=\"14\" font-weight=\"bold\" lengthAdjust=\"spacingAndGlyphs\" textLength=\"18\" x=\"44\" y=\"63.9951\">P2</text></a><g id=\"E1.E2.E3\"><a href=\"psysml:e98f2231-0909-453e-b014-2111b959b184\" target=\"_top\" title=\"psysml:e98f2231-0909-453e-b014-2111b959b184\" xlink:actuate=\"onRequest\" xlink:href=\"psysml:e98f2231-0909-453e-b014-2111b959b184\" xlink:show=\"new\" xlink:title=\"psysml:e98f2231-0909-453e-b014-2111b959b184\" xlink:type=\"simple\"><rect fill=\"#FFFFFF\" height=\"42.9375\" id=\"E3\" style=\"stroke: #383838; stroke-width: 1.5;\" width=\"71\" x=\"243.5\" y=\"89\"/><rect fill=\"#F8F8F8\" height=\"37.9375\" style=\"stroke: #383838; stroke-width: 1.5;\" width=\"71\" x=\"243.5\" y=\"89\"/><text fill=\"#000000\" font-family=\"sans-serif\" font-size=\"12\" font-style=\"italic\" lengthAdjust=\"spacingAndGlyphs\" textLength=\"64\" x=\"247\" y=\"105.1387\">«part def»</text><text fill=\"#000000\" font-family=\"sans-serif\" font-size=\"12\" lengthAdjust=\"spacingAndGlyphs\" textLength=\"8\" x=\"275\" y=\"119.1074\">A</text></a></g><a href=\"psysml:e3978575-11c4-4054-8f35-fdd3c4e4a8ed\" target=\"_top\" title=\"psysml:e3978575-11c4-4054-8f35-fdd3c4e4a8ed\" xlink:actuate=\"onRequest\" xlink:href=\"psysml:e3978575-11c4-4054-8f35-fdd3c4e4a8ed\" xlink:show=\"new\" xlink:title=\"psysml:e3978575-11c4-4054-8f35-fdd3c4e4a8ed\" xlink:type=\"simple\"><polygon fill=\"#FFFFFF\" points=\"141,84,173,84,180,106.2969,187,106.2969,187,136.5938,141,136.5938,141,84\" style=\"stroke: #000000; stroke-width: 1.5;\"/><line style=\"stroke: #000000; stroke-width: 1.5;\" x1=\"141\" x2=\"180\" y1=\"106.2969\" y2=\"106.2969\"/><text fill=\"#000000\" font-family=\"sans-serif\" font-size=\"14\" font-weight=\"bold\" lengthAdjust=\"spacingAndGlyphs\" textLength=\"26\" x=\"145\" y=\"98.9951\">P2a</text></a><g id=\"E1.E4.E6\"><a href=\"psysml:7d458e03-6011-4476-9c3b-13cd018efbef\" target=\"_top\" title=\"psysml:7d458e03-6011-4476-9c3b-13cd018efbef\" xlink:actuate=\"onRequest\" xlink:href=\"psysml:7d458e03-6011-4476-9c3b-13cd018efbef\" xlink:show=\"new\" xlink:title=\"psysml:7d458e03-6011-4476-9c3b-13cd018efbef\" xlink:type=\"simple\"><rect fill=\"#FFFFFF\" height=\"40\" id=\"E6\" rx=\"10\" ry=\"10\" style=\"stroke: #383838; stroke-width: 1.5;\" width=\"50\" x=\"56\" y=\"90.5\"/><rect fill=\"#F8F8F8\" height=\"23.9688\" rx=\"10\" ry=\"10\" style=\"stroke: #F8F8F8; stroke-width: 1.5;\" width=\"50\" x=\"56\" y=\"90.5\"/><rect fill=\"#F8F8F8\" height=\"10\" style=\"stroke: #F8F8F8; stroke-width: 1.5;\" width=\"50\" x=\"56\" y=\"104.4688\"/><rect fill=\"none\" height=\"40\" id=\"E6\" rx=\"10\" ry=\"10\" style=\"stroke: #383838; stroke-width: 1.5;\" width=\"50\" x=\"56\" y=\"90.5\"/><text fill=\"#000000\" font-family=\"sans-serif\" font-size=\"12\" lengthAdjust=\"spacingAndGlyphs\" textLength=\"22\" x=\"70\" y=\"106.6387\">x: A</text></a></g><!--MD5=[5d8ea1bee566dc1e811f7b6b6bd2ac3a]\n",
       "@startuml\r\n",
       "skinparam ranksep 10\r\n",
       "skinparam rectangle {\r\n",
       " backgroundColor<<block>> LightGreen\r\n",
       "}\r\n",
       "top to bottom direction\r\n",
       "skinparam monochrome true\r\n",
       "skinparam classbackgroundcolor white\r\n",
       "skinparam shadowing false\r\n",
       "skinparam wrapWidth 300\r\n",
       "hide circle\r\n",
       "\r\n",
       "package \"QualifiedNameImportTest\" as E1  [[psysml:c8de649d-2dc2-4761-aec9-7bacaacfe515 ]]  {\r\n",
       "package \"P1\" as E2  [[psysml:6cc89760-fc75-419d-8f57-c720b4f2efbc ]]  {\r\n",
       "rec def \"A\" as E3  <<(T,blue) part def>> [[psysml:e98f2231-0909-453e-b014-2111b959b184 ]] {\r\n",
       "}\r\n",
       "}\r\n",
       "package \"P2\" as E4  [[psysml:42adecdc-f281-4f00-8fb0-2d405003d942 ]]  {\r\n",
       "package \"P2a\" as E5  [[psysml:e3978575-11c4-4054-8f35-fdd3c4e4a8ed ]]  {\r\n",
       "}\r\n",
       "rec usage \"x: A\" as E6  [[psysml:7d458e03-6011-4476-9c3b-13cd018efbef ]] {\r\n",
       "}\r\n",
       "}\r\n",
       "}\r\n",
       "@enduml\r\n",
       "\n",
       "PlantUML version 1.2020.13(Sat Jun 13 12:26:38 UTC 2020)\n",
       "(EPL source distribution)\n",
       "Java Runtime: OpenJDK Runtime Environment\n",
       "JVM: OpenJDK 64-Bit Server VM\n",
       "Default Encoding: UTF-8\n",
       "Language: en\n",
       "Country: null\n",
       "--></g></svg>"
      ]
     },
     "execution_count": 47,
     "metadata": {},
     "output_type": "execute_result"
    }
   ],
   "source": [
    "%viz --style=\"TB\" --view=\"Interconnection\" \"QualifiedNameImportTest\""
   ]
  },
  {
   "cell_type": "code",
   "execution_count": 48,
   "id": "87555564",
   "metadata": {
    "execution": {
     "iopub.execute_input": "2021-09-27T07:19:02.319319Z",
     "iopub.status.busy": "2021-09-27T07:19:02.318905Z",
     "iopub.status.idle": "2021-09-27T07:19:02.323966Z",
     "shell.execute_reply": "2021-09-27T07:19:02.323627Z"
    }
   },
   "outputs": [
    {
     "data": {
      "image/svg+xml": [
       "<?xml version=\"1.0\" encoding=\"UTF-8\" standalone=\"no\"?><svg xmlns=\"http://www.w3.org/2000/svg\" xmlns:xlink=\"http://www.w3.org/1999/xlink\" contentScriptType=\"application/ecmascript\" contentStyleType=\"text/css\" height=\"12px\" preserveAspectRatio=\"none\" style=\"width:12px;height:12px;\" version=\"1.1\" viewBox=\"0 0 12 12\" width=\"12px\" zoomAndPan=\"magnify\"><defs/><g><!--MD5=[06afc254b03ac5e9d9fb7773b07d0800]\n",
       "@startuml\r\n",
       "skinparam ranksep 8\r\n",
       "top to bottom direction\r\n",
       "skinparam monochrome true\r\n",
       "skinparam classbackgroundcolor white\r\n",
       "skinparam shadowing false\r\n",
       "skinparam wrapWidth 300\r\n",
       "hide circle\r\n",
       "\r\n",
       "@enduml\r\n",
       "\n",
       "PlantUML version 1.2020.13(Sat Jun 13 12:26:38 UTC 2020)\n",
       "(EPL source distribution)\n",
       "Java Runtime: OpenJDK Runtime Environment\n",
       "JVM: OpenJDK 64-Bit Server VM\n",
       "Default Encoding: UTF-8\n",
       "Language: en\n",
       "Country: null\n",
       "--></g></svg>"
      ]
     },
     "execution_count": 48,
     "metadata": {},
     "output_type": "execute_result"
    }
   ],
   "source": [
    "%viz --style=\"TB\" --view=\"Action\" \"QualifiedNameImportTest\""
   ]
  },
  {
   "cell_type": "code",
   "execution_count": 49,
   "id": "3836e72c",
   "metadata": {
    "execution": {
     "iopub.execute_input": "2021-09-27T07:19:02.374207Z",
     "iopub.status.busy": "2021-09-27T07:19:02.373775Z",
     "iopub.status.idle": "2021-09-27T07:19:02.378844Z",
     "shell.execute_reply": "2021-09-27T07:19:02.379161Z"
    }
   },
   "outputs": [
    {
     "data": {
      "image/svg+xml": [
       "<?xml version=\"1.0\" encoding=\"UTF-8\" standalone=\"no\"?><svg xmlns=\"http://www.w3.org/2000/svg\" xmlns:xlink=\"http://www.w3.org/1999/xlink\" contentScriptType=\"application/ecmascript\" contentStyleType=\"text/css\" height=\"12px\" preserveAspectRatio=\"none\" style=\"width:12px;height:12px;\" version=\"1.1\" viewBox=\"0 0 12 12\" width=\"12px\" zoomAndPan=\"magnify\"><defs/><g><!--MD5=[e1ab0c84c44d2fef8bf5f140f2689906]\n",
       "@startuml\r\n",
       "skinparam roundcorner 20\r\n",
       "skinparam BoxPadding 20\r\n",
       "skinparam SequenceBoxBackgroundColor #white\r\n",
       "skinparam style strictuml\r\n",
       "skinparam maxMessageSize 100\r\n",
       "top to bottom direction\r\n",
       "skinparam monochrome true\r\n",
       "skinparam classbackgroundcolor white\r\n",
       "skinparam shadowing false\r\n",
       "skinparam wrapWidth 300\r\n",
       "hide circle\r\n",
       "\r\n",
       "@enduml\r\n",
       "\n",
       "PlantUML version 1.2020.13(Sat Jun 13 12:26:38 UTC 2020)\n",
       "(EPL source distribution)\n",
       "Java Runtime: OpenJDK Runtime Environment\n",
       "JVM: OpenJDK 64-Bit Server VM\n",
       "Default Encoding: UTF-8\n",
       "Language: en\n",
       "Country: null\n",
       "--></g></svg>"
      ]
     },
     "execution_count": 49,
     "metadata": {},
     "output_type": "execute_result"
    }
   ],
   "source": [
    "%viz --style=\"TB\" --view=\"Sequence\" \"QualifiedNameImportTest\""
   ]
  },
  {
   "cell_type": "code",
   "execution_count": 50,
   "id": "9c642f5c",
   "metadata": {
    "execution": {
     "iopub.execute_input": "2021-09-27T07:19:02.429206Z",
     "iopub.status.busy": "2021-09-27T07:19:02.428805Z",
     "iopub.status.idle": "2021-09-27T07:19:02.455252Z",
     "shell.execute_reply": "2021-09-27T07:19:02.453848Z"
    }
   },
   "outputs": [
    {
     "data": {
      "image/svg+xml": [
       "<?xml version=\"1.0\" encoding=\"UTF-8\" standalone=\"no\"?><svg xmlns=\"http://www.w3.org/2000/svg\" xmlns:xlink=\"http://www.w3.org/1999/xlink\" contentScriptType=\"application/ecmascript\" contentStyleType=\"text/css\" height=\"310px\" preserveAspectRatio=\"none\" style=\"width:241px;height:310px;\" version=\"1.1\" viewBox=\"0 0 241 310\" width=\"241px\" zoomAndPan=\"magnify\"><defs/><g><!--MD5=[fbc87193dbaf4d95561dea2c320d4a47]\n",
       "cluster E1--><a href=\"psysml:c8de649d-2dc2-4761-aec9-7bacaacfe515\" target=\"_top\" title=\"psysml:c8de649d-2dc2-4761-aec9-7bacaacfe515\" xlink:actuate=\"onRequest\" xlink:href=\"psysml:c8de649d-2dc2-4761-aec9-7bacaacfe515\" xlink:show=\"new\" xlink:title=\"psysml:c8de649d-2dc2-4761-aec9-7bacaacfe515\" xlink:type=\"simple\"><polygon fill=\"#FFFFFF\" points=\"16,6,196,6,203,28.2969,219,28.2969,219,298,16,298,16,6\" style=\"stroke: #000000; stroke-width: 1.5;\"/><line style=\"stroke: #000000; stroke-width: 1.5;\" x1=\"16\" x2=\"203\" y1=\"28.2969\" y2=\"28.2969\"/><text fill=\"#000000\" font-family=\"sans-serif\" font-size=\"14\" font-weight=\"bold\" lengthAdjust=\"spacingAndGlyphs\" textLength=\"174\" x=\"20\" y=\"20.9951\">QualifiedNameImportTest</text></a><!--MD5=[e4f7fae6ed58524ba242bb0b0d3be6b7]\n",
       "cluster E2--><a href=\"psysml:6cc89760-fc75-419d-8f57-c720b4f2efbc\" target=\"_top\" title=\"psysml:6cc89760-fc75-419d-8f57-c720b4f2efbc\" xlink:actuate=\"onRequest\" xlink:href=\"psysml:6cc89760-fc75-419d-8f57-c720b4f2efbc\" xlink:show=\"new\" xlink:title=\"psysml:6cc89760-fc75-419d-8f57-c720b4f2efbc\" xlink:type=\"simple\"><polygon fill=\"#FFFFFF\" points=\"97,177,121,177,128,199.2969,195,199.2969,195,274,97,274,97,177\" style=\"stroke: #000000; stroke-width: 1.5;\"/><line style=\"stroke: #000000; stroke-width: 1.5;\" x1=\"97\" x2=\"128\" y1=\"199.2969\" y2=\"199.2969\"/><text fill=\"#000000\" font-family=\"sans-serif\" font-size=\"14\" font-weight=\"bold\" lengthAdjust=\"spacingAndGlyphs\" textLength=\"18\" x=\"101\" y=\"191.9951\">P1</text></a><!--MD5=[f6df4d0ebaf0b5dfb2ced0ae5af7c670]\n",
       "cluster E4--><a href=\"psysml:42adecdc-f281-4f00-8fb0-2d405003d942\" target=\"_top\" title=\"psysml:42adecdc-f281-4f00-8fb0-2d405003d942\" xlink:actuate=\"onRequest\" xlink:href=\"psysml:42adecdc-f281-4f00-8fb0-2d405003d942\" xlink:show=\"new\" xlink:title=\"psysml:42adecdc-f281-4f00-8fb0-2d405003d942\" xlink:type=\"simple\"><polygon fill=\"#FFFFFF\" points=\"40,49,64,49,71,71.2969,195,71.2969,195,153,40,153,40,49\" style=\"stroke: #000000; stroke-width: 1.5;\"/><line style=\"stroke: #000000; stroke-width: 1.5;\" x1=\"40\" x2=\"71\" y1=\"71.2969\" y2=\"71.2969\"/><text fill=\"#000000\" font-family=\"sans-serif\" font-size=\"14\" font-weight=\"bold\" lengthAdjust=\"spacingAndGlyphs\" textLength=\"18\" x=\"44\" y=\"63.9951\">P2</text></a><!--MD5=[09b614a08d8cba4a07c9adeb5e0fee81]\n",
       "class E3--><a href=\"psysml:e98f2231-0909-453e-b014-2111b959b184\" target=\"_top\" title=\"psysml:e98f2231-0909-453e-b014-2111b959b184\" xlink:actuate=\"onRequest\" xlink:href=\"psysml:e98f2231-0909-453e-b014-2111b959b184\" xlink:show=\"new\" xlink:title=\"psysml:e98f2231-0909-453e-b014-2111b959b184\" xlink:type=\"simple\"><rect fill=\"#FFFFFF\" height=\"45.9375\" id=\"E3\" style=\"stroke: #383838; stroke-width: 1.5;\" width=\"66\" x=\"113\" y=\"212\"/><text fill=\"#000000\" font-family=\"sans-serif\" font-size=\"12\" font-style=\"italic\" lengthAdjust=\"spacingAndGlyphs\" textLength=\"64\" x=\"114\" y=\"228.1387\">«part def»</text><text fill=\"#000000\" font-family=\"sans-serif\" font-size=\"12\" lengthAdjust=\"spacingAndGlyphs\" textLength=\"8\" x=\"142\" y=\"242.1074\">A</text><line style=\"stroke: #383838; stroke-width: 1.5;\" x1=\"114\" x2=\"178\" y1=\"249.9375\" y2=\"249.9375\"/></a><!--MD5=[60a26617385b1d2d0262a64233df1f8d]\n",
       "class E6--><a href=\"psysml:7d458e03-6011-4476-9c3b-13cd018efbef\" target=\"_top\" title=\"psysml:7d458e03-6011-4476-9c3b-13cd018efbef\" xlink:actuate=\"onRequest\" xlink:href=\"psysml:7d458e03-6011-4476-9c3b-13cd018efbef\" xlink:show=\"new\" xlink:title=\"psysml:7d458e03-6011-4476-9c3b-13cd018efbef\" xlink:type=\"simple\"><rect fill=\"#FFFFFF\" height=\"45.9375\" id=\"E6\" rx=\"10\" ry=\"10\" style=\"stroke: #383838; stroke-width: 1.5;\" width=\"42\" x=\"137\" y=\"87.5\"/><text fill=\"#000000\" font-family=\"sans-serif\" font-size=\"12\" font-style=\"italic\" lengthAdjust=\"spacingAndGlyphs\" textLength=\"40\" x=\"138\" y=\"103.6387\">«part»</text><text fill=\"#000000\" font-family=\"sans-serif\" font-size=\"12\" lengthAdjust=\"spacingAndGlyphs\" textLength=\"22\" x=\"147\" y=\"117.6074\">x: A</text><line style=\"stroke: #383838; stroke-width: 1.5;\" x1=\"138\" x2=\"178\" y1=\"125.4375\" y2=\"125.4375\"/></a><a href=\"psysml:e3978575-11c4-4054-8f35-fdd3c4e4a8ed\" target=\"_top\" title=\"psysml:e3978575-11c4-4054-8f35-fdd3c4e4a8ed\" xlink:actuate=\"onRequest\" xlink:href=\"psysml:e3978575-11c4-4054-8f35-fdd3c4e4a8ed\" xlink:show=\"new\" xlink:title=\"psysml:e3978575-11c4-4054-8f35-fdd3c4e4a8ed\" xlink:type=\"simple\"><polygon fill=\"#FFFFFF\" points=\"56,84,88,84,95,106.2969,102,106.2969,102,136.5938,56,136.5938,56,84\" style=\"stroke: #000000; stroke-width: 1.5;\"/><line style=\"stroke: #000000; stroke-width: 1.5;\" x1=\"56\" x2=\"95\" y1=\"106.2969\" y2=\"106.2969\"/><text fill=\"#000000\" font-family=\"sans-serif\" font-size=\"14\" font-weight=\"bold\" lengthAdjust=\"spacingAndGlyphs\" textLength=\"26\" x=\"60\" y=\"98.9951\">P2a</text></a><!--MD5=[a717450b82c80b9240a525fa862496af]\n",
       "link E6 to E3--><a href=\"psysml:9b235a5a-e1e6-4e2e-a344-8e5fae0ff3e7\" target=\"_top\" title=\"psysml:9b235a5a-e1e6-4e2e-a344-8e5fae0ff3e7\" xlink:actuate=\"onRequest\" xlink:href=\"psysml:9b235a5a-e1e6-4e2e-a344-8e5fae0ff3e7\" xlink:show=\"new\" xlink:title=\"psysml:9b235a5a-e1e6-4e2e-a344-8e5fae0ff3e7\" xlink:type=\"simple\"><path d=\"M155.83,133.68 C154.24,149.9 152.04,172.39 150.12,191.96 \" fill=\"none\" id=\"E6-&gt;E3\" style=\"stroke: #383838; stroke-width: 1.0;\"/><polygon fill=\"#FFFFFF\" points=\"148.16,211.98,143.0533,192.3861,156.986,193.7564,148.16,211.98\" style=\"stroke: #383838; stroke-width: 1.0;\"/><ellipse cx=\"145.6016\" cy=\"186.9092\" fill=\"#383838\" rx=\"2\" ry=\"2\" style=\"stroke: #383838; stroke-width: 1.0;\"/><ellipse cx=\"155.5535\" cy=\"187.888\" fill=\"#383838\" rx=\"2\" ry=\"2\" style=\"stroke: #383838; stroke-width: 1.0;\"/></a><!--MD5=[5c6191966b96ce834aa35daa0512ad78]\n",
       "@startuml\r\n",
       "top to bottom direction\r\n",
       "skinparam monochrome true\r\n",
       "skinparam classbackgroundcolor white\r\n",
       "skinparam shadowing false\r\n",
       "skinparam wrapWidth 300\r\n",
       "hide circle\r\n",
       "\r\n",
       "package \"QualifiedNameImportTest\" as E1  [[psysml:c8de649d-2dc2-4761-aec9-7bacaacfe515 ]]  {\r\n",
       "package \"P1\" as E2  [[psysml:6cc89760-fc75-419d-8f57-c720b4f2efbc ]]  {\r\n",
       "comp def \"A\" as E3  <<(T,blue) part def>> [[psysml:e98f2231-0909-453e-b014-2111b959b184 ]] {\r\n",
       "}\r\n",
       "}\r\n",
       "package \"P2\" as E4  [[psysml:42adecdc-f281-4f00-8fb0-2d405003d942 ]]  {\r\n",
       "package \"P2a\" as E5  [[psysml:e3978575-11c4-4054-8f35-fdd3c4e4a8ed ]]  {\r\n",
       "}\r\n",
       "comp usage \"x: A\" as E6  <<(T,blue) part>> [[psysml:7d458e03-6011-4476-9c3b-13cd018efbef ]] {\r\n",
       "}\r\n",
       "}\r\n",
       "}\r\n",
       "E6 - -:|> E3 [[psysml:9b235a5a-e1e6-4e2e-a344-8e5fae0ff3e7 ]] \r\n",
       "@enduml\r\n",
       "\n",
       "PlantUML version 1.2020.13(Sat Jun 13 12:26:38 UTC 2020)\n",
       "(EPL source distribution)\n",
       "Java Runtime: OpenJDK Runtime Environment\n",
       "JVM: OpenJDK 64-Bit Server VM\n",
       "Default Encoding: UTF-8\n",
       "Language: en\n",
       "Country: null\n",
       "--></g></svg>"
      ]
     },
     "execution_count": 50,
     "metadata": {},
     "output_type": "execute_result"
    }
   ],
   "source": [
    "%viz --style=\"TB\" --view=\"MIXED\" \"QualifiedNameImportTest\""
   ]
  },
  {
   "cell_type": "code",
   "execution_count": 51,
   "id": "371bc88a",
   "metadata": {
    "execution": {
     "iopub.execute_input": "2021-09-27T07:19:02.504631Z",
     "iopub.status.busy": "2021-09-27T07:19:02.504228Z",
     "iopub.status.idle": "2021-09-27T07:19:02.531220Z",
     "shell.execute_reply": "2021-09-27T07:19:02.529957Z"
    }
   },
   "outputs": [
    {
     "data": {
      "image/svg+xml": [
       "<?xml version=\"1.0\" encoding=\"UTF-8\" standalone=\"no\"?><svg xmlns=\"http://www.w3.org/2000/svg\" xmlns:xlink=\"http://www.w3.org/1999/xlink\" contentScriptType=\"application/ecmascript\" contentStyleType=\"text/css\" height=\"310px\" preserveAspectRatio=\"none\" style=\"width:241px;height:310px;\" version=\"1.1\" viewBox=\"0 0 241 310\" width=\"241px\" zoomAndPan=\"magnify\"><defs/><g><!--MD5=[fbc87193dbaf4d95561dea2c320d4a47]\n",
       "cluster E1--><a href=\"psysml:c8de649d-2dc2-4761-aec9-7bacaacfe515\" target=\"_top\" title=\"psysml:c8de649d-2dc2-4761-aec9-7bacaacfe515\" xlink:actuate=\"onRequest\" xlink:href=\"psysml:c8de649d-2dc2-4761-aec9-7bacaacfe515\" xlink:show=\"new\" xlink:title=\"psysml:c8de649d-2dc2-4761-aec9-7bacaacfe515\" xlink:type=\"simple\"><polygon fill=\"#FFFFFF\" points=\"16,6,196,6,203,28.2969,219,28.2969,219,298,16,298,16,6\" style=\"stroke: #000000; stroke-width: 1.5;\"/><line style=\"stroke: #000000; stroke-width: 1.5;\" x1=\"16\" x2=\"203\" y1=\"28.2969\" y2=\"28.2969\"/><text fill=\"#000000\" font-family=\"sans-serif\" font-size=\"14\" font-weight=\"bold\" lengthAdjust=\"spacingAndGlyphs\" textLength=\"174\" x=\"20\" y=\"20.9951\">QualifiedNameImportTest</text></a><!--MD5=[e4f7fae6ed58524ba242bb0b0d3be6b7]\n",
       "cluster E2--><a href=\"psysml:6cc89760-fc75-419d-8f57-c720b4f2efbc\" target=\"_top\" title=\"psysml:6cc89760-fc75-419d-8f57-c720b4f2efbc\" xlink:actuate=\"onRequest\" xlink:href=\"psysml:6cc89760-fc75-419d-8f57-c720b4f2efbc\" xlink:show=\"new\" xlink:title=\"psysml:6cc89760-fc75-419d-8f57-c720b4f2efbc\" xlink:type=\"simple\"><polygon fill=\"#FFFFFF\" points=\"97,177,121,177,128,199.2969,195,199.2969,195,274,97,274,97,177\" style=\"stroke: #000000; stroke-width: 1.5;\"/><line style=\"stroke: #000000; stroke-width: 1.5;\" x1=\"97\" x2=\"128\" y1=\"199.2969\" y2=\"199.2969\"/><text fill=\"#000000\" font-family=\"sans-serif\" font-size=\"14\" font-weight=\"bold\" lengthAdjust=\"spacingAndGlyphs\" textLength=\"18\" x=\"101\" y=\"191.9951\">P1</text></a><!--MD5=[f6df4d0ebaf0b5dfb2ced0ae5af7c670]\n",
       "cluster E4--><a href=\"psysml:42adecdc-f281-4f00-8fb0-2d405003d942\" target=\"_top\" title=\"psysml:42adecdc-f281-4f00-8fb0-2d405003d942\" xlink:actuate=\"onRequest\" xlink:href=\"psysml:42adecdc-f281-4f00-8fb0-2d405003d942\" xlink:show=\"new\" xlink:title=\"psysml:42adecdc-f281-4f00-8fb0-2d405003d942\" xlink:type=\"simple\"><polygon fill=\"#FFFFFF\" points=\"40,49,64,49,71,71.2969,195,71.2969,195,153,40,153,40,49\" style=\"stroke: #000000; stroke-width: 1.5;\"/><line style=\"stroke: #000000; stroke-width: 1.5;\" x1=\"40\" x2=\"71\" y1=\"71.2969\" y2=\"71.2969\"/><text fill=\"#000000\" font-family=\"sans-serif\" font-size=\"14\" font-weight=\"bold\" lengthAdjust=\"spacingAndGlyphs\" textLength=\"18\" x=\"44\" y=\"63.9951\">P2</text></a><!--MD5=[09b614a08d8cba4a07c9adeb5e0fee81]\n",
       "class E3--><a href=\"psysml:e98f2231-0909-453e-b014-2111b959b184\" target=\"_top\" title=\"psysml:e98f2231-0909-453e-b014-2111b959b184\" xlink:actuate=\"onRequest\" xlink:href=\"psysml:e98f2231-0909-453e-b014-2111b959b184\" xlink:show=\"new\" xlink:title=\"psysml:e98f2231-0909-453e-b014-2111b959b184\" xlink:type=\"simple\"><rect fill=\"#FFFFFF\" height=\"45.9375\" id=\"E3\" style=\"stroke: #383838; stroke-width: 1.5;\" width=\"66\" x=\"113\" y=\"212\"/><text fill=\"#000000\" font-family=\"sans-serif\" font-size=\"12\" font-style=\"italic\" lengthAdjust=\"spacingAndGlyphs\" textLength=\"64\" x=\"114\" y=\"228.1387\">«part def»</text><text fill=\"#000000\" font-family=\"sans-serif\" font-size=\"12\" lengthAdjust=\"spacingAndGlyphs\" textLength=\"8\" x=\"142\" y=\"242.1074\">A</text><line style=\"stroke: #383838; stroke-width: 1.5;\" x1=\"114\" x2=\"178\" y1=\"249.9375\" y2=\"249.9375\"/></a><!--MD5=[60a26617385b1d2d0262a64233df1f8d]\n",
       "class E6--><a href=\"psysml:7d458e03-6011-4476-9c3b-13cd018efbef\" target=\"_top\" title=\"psysml:7d458e03-6011-4476-9c3b-13cd018efbef\" xlink:actuate=\"onRequest\" xlink:href=\"psysml:7d458e03-6011-4476-9c3b-13cd018efbef\" xlink:show=\"new\" xlink:title=\"psysml:7d458e03-6011-4476-9c3b-13cd018efbef\" xlink:type=\"simple\"><rect fill=\"#FFFFFF\" height=\"45.9375\" id=\"E6\" rx=\"10\" ry=\"10\" style=\"stroke: #383838; stroke-width: 1.5;\" width=\"42\" x=\"137\" y=\"87.5\"/><text fill=\"#000000\" font-family=\"sans-serif\" font-size=\"12\" font-style=\"italic\" lengthAdjust=\"spacingAndGlyphs\" textLength=\"40\" x=\"138\" y=\"103.6387\">«part»</text><text fill=\"#000000\" font-family=\"sans-serif\" font-size=\"12\" lengthAdjust=\"spacingAndGlyphs\" textLength=\"22\" x=\"147\" y=\"117.6074\">x: A</text><line style=\"stroke: #383838; stroke-width: 1.5;\" x1=\"138\" x2=\"178\" y1=\"125.4375\" y2=\"125.4375\"/></a><a href=\"psysml:e3978575-11c4-4054-8f35-fdd3c4e4a8ed\" target=\"_top\" title=\"psysml:e3978575-11c4-4054-8f35-fdd3c4e4a8ed\" xlink:actuate=\"onRequest\" xlink:href=\"psysml:e3978575-11c4-4054-8f35-fdd3c4e4a8ed\" xlink:show=\"new\" xlink:title=\"psysml:e3978575-11c4-4054-8f35-fdd3c4e4a8ed\" xlink:type=\"simple\"><polygon fill=\"#FFFFFF\" points=\"56,84,88,84,95,106.2969,102,106.2969,102,136.5938,56,136.5938,56,84\" style=\"stroke: #000000; stroke-width: 1.5;\"/><line style=\"stroke: #000000; stroke-width: 1.5;\" x1=\"56\" x2=\"95\" y1=\"106.2969\" y2=\"106.2969\"/><text fill=\"#000000\" font-family=\"sans-serif\" font-size=\"14\" font-weight=\"bold\" lengthAdjust=\"spacingAndGlyphs\" textLength=\"26\" x=\"60\" y=\"98.9951\">P2a</text></a><!--MD5=[a717450b82c80b9240a525fa862496af]\n",
       "link E6 to E3--><a href=\"psysml:9b235a5a-e1e6-4e2e-a344-8e5fae0ff3e7\" target=\"_top\" title=\"psysml:9b235a5a-e1e6-4e2e-a344-8e5fae0ff3e7\" xlink:actuate=\"onRequest\" xlink:href=\"psysml:9b235a5a-e1e6-4e2e-a344-8e5fae0ff3e7\" xlink:show=\"new\" xlink:title=\"psysml:9b235a5a-e1e6-4e2e-a344-8e5fae0ff3e7\" xlink:type=\"simple\"><path d=\"M158,133.63 C158,133.63 158,192 158,192 \" fill=\"none\" id=\"E6-&gt;E3\" style=\"stroke: #383838; stroke-width: 1.0;\"/><polygon fill=\"#FFFFFF\" points=\"158,212,151,193,165,193,158,212\" style=\"stroke: #383838; stroke-width: 1.0;\"/><ellipse cx=\"153\" cy=\"187.3\" fill=\"#383838\" rx=\"2\" ry=\"2\" style=\"stroke: #383838; stroke-width: 1.0;\"/><ellipse cx=\"163\" cy=\"187.3\" fill=\"#383838\" rx=\"2\" ry=\"2\" style=\"stroke: #383838; stroke-width: 1.0;\"/></a><!--MD5=[a735f41a72aafa1597adc57ddb480b18]\n",
       "@startuml\r\n",
       "skinparam linetype ortho\r\n",
       "skinparam monochrome true\r\n",
       "skinparam classbackgroundcolor white\r\n",
       "skinparam shadowing false\r\n",
       "skinparam wrapWidth 300\r\n",
       "hide circle\r\n",
       "\r\n",
       "package \"QualifiedNameImportTest\" as E1  [[psysml:c8de649d-2dc2-4761-aec9-7bacaacfe515 ]]  {\r\n",
       "package \"P1\" as E2  [[psysml:6cc89760-fc75-419d-8f57-c720b4f2efbc ]]  {\r\n",
       "comp def \"A\" as E3  <<(T,blue) part def>> [[psysml:e98f2231-0909-453e-b014-2111b959b184 ]] {\r\n",
       "}\r\n",
       "}\r\n",
       "package \"P2\" as E4  [[psysml:42adecdc-f281-4f00-8fb0-2d405003d942 ]]  {\r\n",
       "package \"P2a\" as E5  [[psysml:e3978575-11c4-4054-8f35-fdd3c4e4a8ed ]]  {\r\n",
       "}\r\n",
       "comp usage \"x: A\" as E6  <<(T,blue) part>> [[psysml:7d458e03-6011-4476-9c3b-13cd018efbef ]] {\r\n",
       "}\r\n",
       "}\r\n",
       "}\r\n",
       "E6 - -:|> E3 [[psysml:9b235a5a-e1e6-4e2e-a344-8e5fae0ff3e7 ]] \r\n",
       "@enduml\r\n",
       "\n",
       "PlantUML version 1.2020.13(Sat Jun 13 12:26:38 UTC 2020)\n",
       "(EPL source distribution)\n",
       "Java Runtime: OpenJDK Runtime Environment\n",
       "JVM: OpenJDK 64-Bit Server VM\n",
       "Default Encoding: UTF-8\n",
       "Language: en\n",
       "Country: null\n",
       "--></g></svg>"
      ]
     },
     "execution_count": 51,
     "metadata": {},
     "output_type": "execute_result"
    }
   ],
   "source": [
    "%viz --style=\"ORTHOLINE\" --view=\"Default\" \"QualifiedNameImportTest\""
   ]
  },
  {
   "cell_type": "code",
   "execution_count": 52,
   "id": "867c241e",
   "metadata": {
    "execution": {
     "iopub.execute_input": "2021-09-27T07:19:02.581093Z",
     "iopub.status.busy": "2021-09-27T07:19:02.580484Z",
     "iopub.status.idle": "2021-09-27T07:19:02.607259Z",
     "shell.execute_reply": "2021-09-27T07:19:02.606004Z"
    }
   },
   "outputs": [
    {
     "data": {
      "image/svg+xml": [
       "<?xml version=\"1.0\" encoding=\"UTF-8\" standalone=\"no\"?><svg xmlns=\"http://www.w3.org/2000/svg\" xmlns:xlink=\"http://www.w3.org/1999/xlink\" contentScriptType=\"application/ecmascript\" contentStyleType=\"text/css\" height=\"310px\" preserveAspectRatio=\"none\" style=\"width:241px;height:310px;\" version=\"1.1\" viewBox=\"0 0 241 310\" width=\"241px\" zoomAndPan=\"magnify\"><defs/><g><!--MD5=[fbc87193dbaf4d95561dea2c320d4a47]\n",
       "cluster E1--><a href=\"psysml:c8de649d-2dc2-4761-aec9-7bacaacfe515\" target=\"_top\" title=\"psysml:c8de649d-2dc2-4761-aec9-7bacaacfe515\" xlink:actuate=\"onRequest\" xlink:href=\"psysml:c8de649d-2dc2-4761-aec9-7bacaacfe515\" xlink:show=\"new\" xlink:title=\"psysml:c8de649d-2dc2-4761-aec9-7bacaacfe515\" xlink:type=\"simple\"><polygon fill=\"#FFFFFF\" points=\"16,6,196,6,203,28.2969,219,28.2969,219,298,16,298,16,6\" style=\"stroke: #000000; stroke-width: 1.5;\"/><line style=\"stroke: #000000; stroke-width: 1.5;\" x1=\"16\" x2=\"203\" y1=\"28.2969\" y2=\"28.2969\"/><text fill=\"#000000\" font-family=\"sans-serif\" font-size=\"14\" font-weight=\"bold\" lengthAdjust=\"spacingAndGlyphs\" textLength=\"174\" x=\"20\" y=\"20.9951\">QualifiedNameImportTest</text></a><!--MD5=[e4f7fae6ed58524ba242bb0b0d3be6b7]\n",
       "cluster E2--><a href=\"psysml:6cc89760-fc75-419d-8f57-c720b4f2efbc\" target=\"_top\" title=\"psysml:6cc89760-fc75-419d-8f57-c720b4f2efbc\" xlink:actuate=\"onRequest\" xlink:href=\"psysml:6cc89760-fc75-419d-8f57-c720b4f2efbc\" xlink:show=\"new\" xlink:title=\"psysml:6cc89760-fc75-419d-8f57-c720b4f2efbc\" xlink:type=\"simple\"><polygon fill=\"#FFFFFF\" points=\"97,177,121,177,128,199.2969,195,199.2969,195,274,97,274,97,177\" style=\"stroke: #000000; stroke-width: 1.5;\"/><line style=\"stroke: #000000; stroke-width: 1.5;\" x1=\"97\" x2=\"128\" y1=\"199.2969\" y2=\"199.2969\"/><text fill=\"#000000\" font-family=\"sans-serif\" font-size=\"14\" font-weight=\"bold\" lengthAdjust=\"spacingAndGlyphs\" textLength=\"18\" x=\"101\" y=\"191.9951\">P1</text></a><!--MD5=[f6df4d0ebaf0b5dfb2ced0ae5af7c670]\n",
       "cluster E4--><a href=\"psysml:42adecdc-f281-4f00-8fb0-2d405003d942\" target=\"_top\" title=\"psysml:42adecdc-f281-4f00-8fb0-2d405003d942\" xlink:actuate=\"onRequest\" xlink:href=\"psysml:42adecdc-f281-4f00-8fb0-2d405003d942\" xlink:show=\"new\" xlink:title=\"psysml:42adecdc-f281-4f00-8fb0-2d405003d942\" xlink:type=\"simple\"><polygon fill=\"#FFFFFF\" points=\"40,49,64,49,71,71.2969,195,71.2969,195,153,40,153,40,49\" style=\"stroke: #000000; stroke-width: 1.5;\"/><line style=\"stroke: #000000; stroke-width: 1.5;\" x1=\"40\" x2=\"71\" y1=\"71.2969\" y2=\"71.2969\"/><text fill=\"#000000\" font-family=\"sans-serif\" font-size=\"14\" font-weight=\"bold\" lengthAdjust=\"spacingAndGlyphs\" textLength=\"18\" x=\"44\" y=\"63.9951\">P2</text></a><!--MD5=[09b614a08d8cba4a07c9adeb5e0fee81]\n",
       "class E3--><a href=\"psysml:e98f2231-0909-453e-b014-2111b959b184\" target=\"_top\" title=\"psysml:e98f2231-0909-453e-b014-2111b959b184\" xlink:actuate=\"onRequest\" xlink:href=\"psysml:e98f2231-0909-453e-b014-2111b959b184\" xlink:show=\"new\" xlink:title=\"psysml:e98f2231-0909-453e-b014-2111b959b184\" xlink:type=\"simple\"><rect fill=\"#FFFFFF\" height=\"45.9375\" id=\"E3\" style=\"stroke: #383838; stroke-width: 1.5;\" width=\"66\" x=\"113\" y=\"212\"/><text fill=\"#000000\" font-family=\"sans-serif\" font-size=\"12\" font-style=\"italic\" lengthAdjust=\"spacingAndGlyphs\" textLength=\"64\" x=\"114\" y=\"228.1387\">«part def»</text><text fill=\"#000000\" font-family=\"sans-serif\" font-size=\"12\" lengthAdjust=\"spacingAndGlyphs\" textLength=\"8\" x=\"142\" y=\"242.1074\">A</text><line style=\"stroke: #383838; stroke-width: 1.5;\" x1=\"114\" x2=\"178\" y1=\"249.9375\" y2=\"249.9375\"/></a><!--MD5=[60a26617385b1d2d0262a64233df1f8d]\n",
       "class E6--><a href=\"psysml:7d458e03-6011-4476-9c3b-13cd018efbef\" target=\"_top\" title=\"psysml:7d458e03-6011-4476-9c3b-13cd018efbef\" xlink:actuate=\"onRequest\" xlink:href=\"psysml:7d458e03-6011-4476-9c3b-13cd018efbef\" xlink:show=\"new\" xlink:title=\"psysml:7d458e03-6011-4476-9c3b-13cd018efbef\" xlink:type=\"simple\"><rect fill=\"#FFFFFF\" height=\"45.9375\" id=\"E6\" rx=\"10\" ry=\"10\" style=\"stroke: #383838; stroke-width: 1.5;\" width=\"42\" x=\"137\" y=\"87.5\"/><text fill=\"#000000\" font-family=\"sans-serif\" font-size=\"12\" font-style=\"italic\" lengthAdjust=\"spacingAndGlyphs\" textLength=\"40\" x=\"138\" y=\"103.6387\">«part»</text><text fill=\"#000000\" font-family=\"sans-serif\" font-size=\"12\" lengthAdjust=\"spacingAndGlyphs\" textLength=\"22\" x=\"147\" y=\"117.6074\">x: A</text><line style=\"stroke: #383838; stroke-width: 1.5;\" x1=\"138\" x2=\"178\" y1=\"125.4375\" y2=\"125.4375\"/></a><a href=\"psysml:e3978575-11c4-4054-8f35-fdd3c4e4a8ed\" target=\"_top\" title=\"psysml:e3978575-11c4-4054-8f35-fdd3c4e4a8ed\" xlink:actuate=\"onRequest\" xlink:href=\"psysml:e3978575-11c4-4054-8f35-fdd3c4e4a8ed\" xlink:show=\"new\" xlink:title=\"psysml:e3978575-11c4-4054-8f35-fdd3c4e4a8ed\" xlink:type=\"simple\"><polygon fill=\"#FFFFFF\" points=\"56,84,88,84,95,106.2969,102,106.2969,102,136.5938,56,136.5938,56,84\" style=\"stroke: #000000; stroke-width: 1.5;\"/><line style=\"stroke: #000000; stroke-width: 1.5;\" x1=\"56\" x2=\"95\" y1=\"106.2969\" y2=\"106.2969\"/><text fill=\"#000000\" font-family=\"sans-serif\" font-size=\"14\" font-weight=\"bold\" lengthAdjust=\"spacingAndGlyphs\" textLength=\"26\" x=\"60\" y=\"98.9951\">P2a</text></a><!--MD5=[a717450b82c80b9240a525fa862496af]\n",
       "link E6 to E3--><a href=\"psysml:9b235a5a-e1e6-4e2e-a344-8e5fae0ff3e7\" target=\"_top\" title=\"psysml:9b235a5a-e1e6-4e2e-a344-8e5fae0ff3e7\" xlink:actuate=\"onRequest\" xlink:href=\"psysml:9b235a5a-e1e6-4e2e-a344-8e5fae0ff3e7\" xlink:show=\"new\" xlink:title=\"psysml:9b235a5a-e1e6-4e2e-a344-8e5fae0ff3e7\" xlink:type=\"simple\"><path d=\"M158,133.63 C158,133.63 158,192 158,192 \" fill=\"none\" id=\"E6-&gt;E3\" style=\"stroke: #383838; stroke-width: 1.0;\"/><polygon fill=\"#FFFFFF\" points=\"158,212,151,193,165,193,158,212\" style=\"stroke: #383838; stroke-width: 1.0;\"/><ellipse cx=\"153\" cy=\"187.3\" fill=\"#383838\" rx=\"2\" ry=\"2\" style=\"stroke: #383838; stroke-width: 1.0;\"/><ellipse cx=\"163\" cy=\"187.3\" fill=\"#383838\" rx=\"2\" ry=\"2\" style=\"stroke: #383838; stroke-width: 1.0;\"/></a><!--MD5=[a735f41a72aafa1597adc57ddb480b18]\n",
       "@startuml\r\n",
       "skinparam linetype ortho\r\n",
       "skinparam monochrome true\r\n",
       "skinparam classbackgroundcolor white\r\n",
       "skinparam shadowing false\r\n",
       "skinparam wrapWidth 300\r\n",
       "hide circle\r\n",
       "\r\n",
       "package \"QualifiedNameImportTest\" as E1  [[psysml:c8de649d-2dc2-4761-aec9-7bacaacfe515 ]]  {\r\n",
       "package \"P1\" as E2  [[psysml:6cc89760-fc75-419d-8f57-c720b4f2efbc ]]  {\r\n",
       "comp def \"A\" as E3  <<(T,blue) part def>> [[psysml:e98f2231-0909-453e-b014-2111b959b184 ]] {\r\n",
       "}\r\n",
       "}\r\n",
       "package \"P2\" as E4  [[psysml:42adecdc-f281-4f00-8fb0-2d405003d942 ]]  {\r\n",
       "package \"P2a\" as E5  [[psysml:e3978575-11c4-4054-8f35-fdd3c4e4a8ed ]]  {\r\n",
       "}\r\n",
       "comp usage \"x: A\" as E6  <<(T,blue) part>> [[psysml:7d458e03-6011-4476-9c3b-13cd018efbef ]] {\r\n",
       "}\r\n",
       "}\r\n",
       "}\r\n",
       "E6 - -:|> E3 [[psysml:9b235a5a-e1e6-4e2e-a344-8e5fae0ff3e7 ]] \r\n",
       "@enduml\r\n",
       "\n",
       "PlantUML version 1.2020.13(Sat Jun 13 12:26:38 UTC 2020)\n",
       "(EPL source distribution)\n",
       "Java Runtime: OpenJDK Runtime Environment\n",
       "JVM: OpenJDK 64-Bit Server VM\n",
       "Default Encoding: UTF-8\n",
       "Language: en\n",
       "Country: null\n",
       "--></g></svg>"
      ]
     },
     "execution_count": 52,
     "metadata": {},
     "output_type": "execute_result"
    }
   ],
   "source": [
    "%viz --style=\"ORTHOLINE\" --view=\"Tree\" \"QualifiedNameImportTest\""
   ]
  },
  {
   "cell_type": "code",
   "execution_count": 53,
   "id": "064d6e4a",
   "metadata": {
    "execution": {
     "iopub.execute_input": "2021-09-27T07:19:02.657245Z",
     "iopub.status.busy": "2021-09-27T07:19:02.656645Z",
     "iopub.status.idle": "2021-09-27T07:19:02.661980Z",
     "shell.execute_reply": "2021-09-27T07:19:02.661595Z"
    }
   },
   "outputs": [
    {
     "data": {
      "image/svg+xml": [
       "<?xml version=\"1.0\" encoding=\"UTF-8\" standalone=\"no\"?><svg xmlns=\"http://www.w3.org/2000/svg\" xmlns:xlink=\"http://www.w3.org/1999/xlink\" contentScriptType=\"application/ecmascript\" contentStyleType=\"text/css\" height=\"12px\" preserveAspectRatio=\"none\" style=\"width:12px;height:12px;\" version=\"1.1\" viewBox=\"0 0 12 12\" width=\"12px\" zoomAndPan=\"magnify\"><defs/><g><!--MD5=[97d6f38768b311333d388e66b2b27985]\n",
       "@startuml\r\n",
       "skinparam linetype ortho\r\n",
       "skinparam monochrome true\r\n",
       "skinparam classbackgroundcolor white\r\n",
       "skinparam shadowing false\r\n",
       "skinparam wrapWidth 300\r\n",
       "hide circle\r\n",
       "\r\n",
       "@enduml\r\n",
       "\n",
       "PlantUML version 1.2020.13(Sat Jun 13 12:26:38 UTC 2020)\n",
       "(EPL source distribution)\n",
       "Java Runtime: OpenJDK Runtime Environment\n",
       "JVM: OpenJDK 64-Bit Server VM\n",
       "Default Encoding: UTF-8\n",
       "Language: en\n",
       "Country: null\n",
       "--></g></svg>"
      ]
     },
     "execution_count": 53,
     "metadata": {},
     "output_type": "execute_result"
    }
   ],
   "source": [
    "%viz --style=\"ORTHOLINE\" --view=\"State\" \"QualifiedNameImportTest\""
   ]
  },
  {
   "cell_type": "code",
   "execution_count": 54,
   "id": "e5563822",
   "metadata": {
    "execution": {
     "iopub.execute_input": "2021-09-27T07:19:02.712104Z",
     "iopub.status.busy": "2021-09-27T07:19:02.711485Z",
     "iopub.status.idle": "2021-09-27T07:19:02.737373Z",
     "shell.execute_reply": "2021-09-27T07:19:02.736047Z"
    }
   },
   "outputs": [
    {
     "data": {
      "image/svg+xml": [
       "<?xml version=\"1.0\" encoding=\"UTF-8\" standalone=\"no\"?><svg xmlns=\"http://www.w3.org/2000/svg\" xmlns:xlink=\"http://www.w3.org/1999/xlink\" contentScriptType=\"application/ecmascript\" contentStyleType=\"text/css\" height=\"189px\" preserveAspectRatio=\"none\" style=\"width:377px;height:189px;\" version=\"1.1\" viewBox=\"0 0 377 189\" width=\"377px\" zoomAndPan=\"magnify\"><defs/><g><!--MD5=[fbc87193dbaf4d95561dea2c320d4a47]\n",
       "cluster E1--><a href=\"psysml:c8de649d-2dc2-4761-aec9-7bacaacfe515\" target=\"_top\" title=\"psysml:c8de649d-2dc2-4761-aec9-7bacaacfe515\" xlink:actuate=\"onRequest\" xlink:href=\"psysml:c8de649d-2dc2-4761-aec9-7bacaacfe515\" xlink:show=\"new\" xlink:title=\"psysml:c8de649d-2dc2-4761-aec9-7bacaacfe515\" xlink:type=\"simple\"><polygon fill=\"#FFFFFF\" points=\"16,6,196,6,203,28.2969,355,28.2969,355,177,16,177,16,6\" style=\"stroke: #000000; stroke-width: 1.5;\"/><line style=\"stroke: #000000; stroke-width: 1.5;\" x1=\"16\" x2=\"203\" y1=\"28.2969\" y2=\"28.2969\"/><text fill=\"#000000\" font-family=\"sans-serif\" font-size=\"14\" font-weight=\"bold\" lengthAdjust=\"spacingAndGlyphs\" textLength=\"174\" x=\"20\" y=\"20.9951\">QualifiedNameImportTest</text></a><!--MD5=[e4f7fae6ed58524ba242bb0b0d3be6b7]\n",
       "cluster E2--><a href=\"psysml:6cc89760-fc75-419d-8f57-c720b4f2efbc\" target=\"_top\" title=\"psysml:6cc89760-fc75-419d-8f57-c720b4f2efbc\" xlink:actuate=\"onRequest\" xlink:href=\"psysml:6cc89760-fc75-419d-8f57-c720b4f2efbc\" xlink:show=\"new\" xlink:title=\"psysml:6cc89760-fc75-419d-8f57-c720b4f2efbc\" xlink:type=\"simple\"><polygon fill=\"#FFFFFF\" points=\"227,54,251,54,258,76.2969,331,76.2969,331,148,227,148,227,54\" style=\"stroke: #000000; stroke-width: 1.5;\"/><line style=\"stroke: #000000; stroke-width: 1.5;\" x1=\"227\" x2=\"258\" y1=\"76.2969\" y2=\"76.2969\"/><text fill=\"#000000\" font-family=\"sans-serif\" font-size=\"14\" font-weight=\"bold\" lengthAdjust=\"spacingAndGlyphs\" textLength=\"18\" x=\"231\" y=\"68.9951\">P1</text></a><!--MD5=[f6df4d0ebaf0b5dfb2ced0ae5af7c670]\n",
       "cluster E4--><a href=\"psysml:42adecdc-f281-4f00-8fb0-2d405003d942\" target=\"_top\" title=\"psysml:42adecdc-f281-4f00-8fb0-2d405003d942\" xlink:actuate=\"onRequest\" xlink:href=\"psysml:42adecdc-f281-4f00-8fb0-2d405003d942\" xlink:show=\"new\" xlink:title=\"psysml:42adecdc-f281-4f00-8fb0-2d405003d942\" xlink:type=\"simple\"><polygon fill=\"#FFFFFF\" points=\"40,49,64,49,71,71.2969,203,71.2969,203,153,40,153,40,49\" style=\"stroke: #000000; stroke-width: 1.5;\"/><line style=\"stroke: #000000; stroke-width: 1.5;\" x1=\"40\" x2=\"71\" y1=\"71.2969\" y2=\"71.2969\"/><text fill=\"#000000\" font-family=\"sans-serif\" font-size=\"14\" font-weight=\"bold\" lengthAdjust=\"spacingAndGlyphs\" textLength=\"18\" x=\"44\" y=\"63.9951\">P2</text></a><g id=\"E1.E2.E3\"><a href=\"psysml:e98f2231-0909-453e-b014-2111b959b184\" target=\"_top\" title=\"psysml:e98f2231-0909-453e-b014-2111b959b184\" xlink:actuate=\"onRequest\" xlink:href=\"psysml:e98f2231-0909-453e-b014-2111b959b184\" xlink:show=\"new\" xlink:title=\"psysml:e98f2231-0909-453e-b014-2111b959b184\" xlink:type=\"simple\"><rect fill=\"#FFFFFF\" height=\"42.9375\" id=\"E3\" style=\"stroke: #383838; stroke-width: 1.5;\" width=\"71\" x=\"243.5\" y=\"89\"/><rect fill=\"#F8F8F8\" height=\"37.9375\" style=\"stroke: #383838; stroke-width: 1.5;\" width=\"71\" x=\"243.5\" y=\"89\"/><text fill=\"#000000\" font-family=\"sans-serif\" font-size=\"12\" font-style=\"italic\" lengthAdjust=\"spacingAndGlyphs\" textLength=\"64\" x=\"247\" y=\"105.1387\">«part def»</text><text fill=\"#000000\" font-family=\"sans-serif\" font-size=\"12\" lengthAdjust=\"spacingAndGlyphs\" textLength=\"8\" x=\"275\" y=\"119.1074\">A</text></a></g><a href=\"psysml:e3978575-11c4-4054-8f35-fdd3c4e4a8ed\" target=\"_top\" title=\"psysml:e3978575-11c4-4054-8f35-fdd3c4e4a8ed\" xlink:actuate=\"onRequest\" xlink:href=\"psysml:e3978575-11c4-4054-8f35-fdd3c4e4a8ed\" xlink:show=\"new\" xlink:title=\"psysml:e3978575-11c4-4054-8f35-fdd3c4e4a8ed\" xlink:type=\"simple\"><polygon fill=\"#FFFFFF\" points=\"141,84,173,84,180,106.2969,187,106.2969,187,136.5938,141,136.5938,141,84\" style=\"stroke: #000000; stroke-width: 1.5;\"/><line style=\"stroke: #000000; stroke-width: 1.5;\" x1=\"141\" x2=\"180\" y1=\"106.2969\" y2=\"106.2969\"/><text fill=\"#000000\" font-family=\"sans-serif\" font-size=\"14\" font-weight=\"bold\" lengthAdjust=\"spacingAndGlyphs\" textLength=\"26\" x=\"145\" y=\"98.9951\">P2a</text></a><g id=\"E1.E4.E6\"><a href=\"psysml:7d458e03-6011-4476-9c3b-13cd018efbef\" target=\"_top\" title=\"psysml:7d458e03-6011-4476-9c3b-13cd018efbef\" xlink:actuate=\"onRequest\" xlink:href=\"psysml:7d458e03-6011-4476-9c3b-13cd018efbef\" xlink:show=\"new\" xlink:title=\"psysml:7d458e03-6011-4476-9c3b-13cd018efbef\" xlink:type=\"simple\"><rect fill=\"#FFFFFF\" height=\"40\" id=\"E6\" rx=\"10\" ry=\"10\" style=\"stroke: #383838; stroke-width: 1.5;\" width=\"50\" x=\"56\" y=\"90.5\"/><rect fill=\"#F8F8F8\" height=\"23.9688\" rx=\"10\" ry=\"10\" style=\"stroke: #F8F8F8; stroke-width: 1.5;\" width=\"50\" x=\"56\" y=\"90.5\"/><rect fill=\"#F8F8F8\" height=\"10\" style=\"stroke: #F8F8F8; stroke-width: 1.5;\" width=\"50\" x=\"56\" y=\"104.4688\"/><rect fill=\"none\" height=\"40\" id=\"E6\" rx=\"10\" ry=\"10\" style=\"stroke: #383838; stroke-width: 1.5;\" width=\"50\" x=\"56\" y=\"90.5\"/><text fill=\"#000000\" font-family=\"sans-serif\" font-size=\"12\" lengthAdjust=\"spacingAndGlyphs\" textLength=\"22\" x=\"70\" y=\"106.6387\">x: A</text></a></g><!--MD5=[e7e9ac3d024c82a296914090ee7370e2]\n",
       "@startuml\r\n",
       "skinparam ranksep 10\r\n",
       "skinparam rectangle {\r\n",
       " backgroundColor<<block>> LightGreen\r\n",
       "}\r\n",
       "skinparam linetype ortho\r\n",
       "skinparam monochrome true\r\n",
       "skinparam classbackgroundcolor white\r\n",
       "skinparam shadowing false\r\n",
       "skinparam wrapWidth 300\r\n",
       "hide circle\r\n",
       "\r\n",
       "package \"QualifiedNameImportTest\" as E1  [[psysml:c8de649d-2dc2-4761-aec9-7bacaacfe515 ]]  {\r\n",
       "package \"P1\" as E2  [[psysml:6cc89760-fc75-419d-8f57-c720b4f2efbc ]]  {\r\n",
       "rec def \"A\" as E3  <<(T,blue) part def>> [[psysml:e98f2231-0909-453e-b014-2111b959b184 ]] {\r\n",
       "}\r\n",
       "}\r\n",
       "package \"P2\" as E4  [[psysml:42adecdc-f281-4f00-8fb0-2d405003d942 ]]  {\r\n",
       "package \"P2a\" as E5  [[psysml:e3978575-11c4-4054-8f35-fdd3c4e4a8ed ]]  {\r\n",
       "}\r\n",
       "rec usage \"x: A\" as E6  [[psysml:7d458e03-6011-4476-9c3b-13cd018efbef ]] {\r\n",
       "}\r\n",
       "}\r\n",
       "}\r\n",
       "@enduml\r\n",
       "\n",
       "PlantUML version 1.2020.13(Sat Jun 13 12:26:38 UTC 2020)\n",
       "(EPL source distribution)\n",
       "Java Runtime: OpenJDK Runtime Environment\n",
       "JVM: OpenJDK 64-Bit Server VM\n",
       "Default Encoding: UTF-8\n",
       "Language: en\n",
       "Country: null\n",
       "--></g></svg>"
      ]
     },
     "execution_count": 54,
     "metadata": {},
     "output_type": "execute_result"
    }
   ],
   "source": [
    "%viz --style=\"ORTHOLINE\" --view=\"Interconnection\" \"QualifiedNameImportTest\""
   ]
  },
  {
   "cell_type": "code",
   "execution_count": 55,
   "id": "7d10c32e",
   "metadata": {
    "execution": {
     "iopub.execute_input": "2021-09-27T07:19:02.787228Z",
     "iopub.status.busy": "2021-09-27T07:19:02.786622Z",
     "iopub.status.idle": "2021-09-27T07:19:02.791546Z",
     "shell.execute_reply": "2021-09-27T07:19:02.791176Z"
    }
   },
   "outputs": [
    {
     "data": {
      "image/svg+xml": [
       "<?xml version=\"1.0\" encoding=\"UTF-8\" standalone=\"no\"?><svg xmlns=\"http://www.w3.org/2000/svg\" xmlns:xlink=\"http://www.w3.org/1999/xlink\" contentScriptType=\"application/ecmascript\" contentStyleType=\"text/css\" height=\"12px\" preserveAspectRatio=\"none\" style=\"width:12px;height:12px;\" version=\"1.1\" viewBox=\"0 0 12 12\" width=\"12px\" zoomAndPan=\"magnify\"><defs/><g><!--MD5=[72934c63077099a26744516a776b4749]\n",
       "@startuml\r\n",
       "skinparam ranksep 8\r\n",
       "skinparam linetype ortho\r\n",
       "skinparam monochrome true\r\n",
       "skinparam classbackgroundcolor white\r\n",
       "skinparam shadowing false\r\n",
       "skinparam wrapWidth 300\r\n",
       "hide circle\r\n",
       "\r\n",
       "@enduml\r\n",
       "\n",
       "PlantUML version 1.2020.13(Sat Jun 13 12:26:38 UTC 2020)\n",
       "(EPL source distribution)\n",
       "Java Runtime: OpenJDK Runtime Environment\n",
       "JVM: OpenJDK 64-Bit Server VM\n",
       "Default Encoding: UTF-8\n",
       "Language: en\n",
       "Country: null\n",
       "--></g></svg>"
      ]
     },
     "execution_count": 55,
     "metadata": {},
     "output_type": "execute_result"
    }
   ],
   "source": [
    "%viz --style=\"ORTHOLINE\" --view=\"Action\" \"QualifiedNameImportTest\""
   ]
  },
  {
   "cell_type": "code",
   "execution_count": 56,
   "id": "15999842",
   "metadata": {
    "execution": {
     "iopub.execute_input": "2021-09-27T07:19:02.842023Z",
     "iopub.status.busy": "2021-09-27T07:19:02.841405Z",
     "iopub.status.idle": "2021-09-27T07:19:02.846679Z",
     "shell.execute_reply": "2021-09-27T07:19:02.846316Z"
    }
   },
   "outputs": [
    {
     "data": {
      "image/svg+xml": [
       "<?xml version=\"1.0\" encoding=\"UTF-8\" standalone=\"no\"?><svg xmlns=\"http://www.w3.org/2000/svg\" xmlns:xlink=\"http://www.w3.org/1999/xlink\" contentScriptType=\"application/ecmascript\" contentStyleType=\"text/css\" height=\"12px\" preserveAspectRatio=\"none\" style=\"width:12px;height:12px;\" version=\"1.1\" viewBox=\"0 0 12 12\" width=\"12px\" zoomAndPan=\"magnify\"><defs/><g><!--MD5=[30fc1de5121c5abddedd55b44417fde8]\n",
       "@startuml\r\n",
       "skinparam roundcorner 20\r\n",
       "skinparam BoxPadding 20\r\n",
       "skinparam SequenceBoxBackgroundColor #white\r\n",
       "skinparam style strictuml\r\n",
       "skinparam maxMessageSize 100\r\n",
       "skinparam linetype ortho\r\n",
       "skinparam monochrome true\r\n",
       "skinparam classbackgroundcolor white\r\n",
       "skinparam shadowing false\r\n",
       "skinparam wrapWidth 300\r\n",
       "hide circle\r\n",
       "\r\n",
       "@enduml\r\n",
       "\n",
       "PlantUML version 1.2020.13(Sat Jun 13 12:26:38 UTC 2020)\n",
       "(EPL source distribution)\n",
       "Java Runtime: OpenJDK Runtime Environment\n",
       "JVM: OpenJDK 64-Bit Server VM\n",
       "Default Encoding: UTF-8\n",
       "Language: en\n",
       "Country: null\n",
       "--></g></svg>"
      ]
     },
     "execution_count": 56,
     "metadata": {},
     "output_type": "execute_result"
    }
   ],
   "source": [
    "%viz --style=\"ORTHOLINE\" --view=\"Sequence\" \"QualifiedNameImportTest\""
   ]
  },
  {
   "cell_type": "code",
   "execution_count": 57,
   "id": "7f114e17",
   "metadata": {
    "execution": {
     "iopub.execute_input": "2021-09-27T07:19:02.897158Z",
     "iopub.status.busy": "2021-09-27T07:19:02.896550Z",
     "iopub.status.idle": "2021-09-27T07:19:02.920201Z",
     "shell.execute_reply": "2021-09-27T07:19:02.918481Z"
    }
   },
   "outputs": [
    {
     "data": {
      "image/svg+xml": [
       "<?xml version=\"1.0\" encoding=\"UTF-8\" standalone=\"no\"?><svg xmlns=\"http://www.w3.org/2000/svg\" xmlns:xlink=\"http://www.w3.org/1999/xlink\" contentScriptType=\"application/ecmascript\" contentStyleType=\"text/css\" height=\"310px\" preserveAspectRatio=\"none\" style=\"width:241px;height:310px;\" version=\"1.1\" viewBox=\"0 0 241 310\" width=\"241px\" zoomAndPan=\"magnify\"><defs/><g><!--MD5=[fbc87193dbaf4d95561dea2c320d4a47]\n",
       "cluster E1--><a href=\"psysml:c8de649d-2dc2-4761-aec9-7bacaacfe515\" target=\"_top\" title=\"psysml:c8de649d-2dc2-4761-aec9-7bacaacfe515\" xlink:actuate=\"onRequest\" xlink:href=\"psysml:c8de649d-2dc2-4761-aec9-7bacaacfe515\" xlink:show=\"new\" xlink:title=\"psysml:c8de649d-2dc2-4761-aec9-7bacaacfe515\" xlink:type=\"simple\"><polygon fill=\"#FFFFFF\" points=\"16,6,196,6,203,28.2969,219,28.2969,219,298,16,298,16,6\" style=\"stroke: #000000; stroke-width: 1.5;\"/><line style=\"stroke: #000000; stroke-width: 1.5;\" x1=\"16\" x2=\"203\" y1=\"28.2969\" y2=\"28.2969\"/><text fill=\"#000000\" font-family=\"sans-serif\" font-size=\"14\" font-weight=\"bold\" lengthAdjust=\"spacingAndGlyphs\" textLength=\"174\" x=\"20\" y=\"20.9951\">QualifiedNameImportTest</text></a><!--MD5=[e4f7fae6ed58524ba242bb0b0d3be6b7]\n",
       "cluster E2--><a href=\"psysml:6cc89760-fc75-419d-8f57-c720b4f2efbc\" target=\"_top\" title=\"psysml:6cc89760-fc75-419d-8f57-c720b4f2efbc\" xlink:actuate=\"onRequest\" xlink:href=\"psysml:6cc89760-fc75-419d-8f57-c720b4f2efbc\" xlink:show=\"new\" xlink:title=\"psysml:6cc89760-fc75-419d-8f57-c720b4f2efbc\" xlink:type=\"simple\"><polygon fill=\"#FFFFFF\" points=\"97,177,121,177,128,199.2969,195,199.2969,195,274,97,274,97,177\" style=\"stroke: #000000; stroke-width: 1.5;\"/><line style=\"stroke: #000000; stroke-width: 1.5;\" x1=\"97\" x2=\"128\" y1=\"199.2969\" y2=\"199.2969\"/><text fill=\"#000000\" font-family=\"sans-serif\" font-size=\"14\" font-weight=\"bold\" lengthAdjust=\"spacingAndGlyphs\" textLength=\"18\" x=\"101\" y=\"191.9951\">P1</text></a><!--MD5=[f6df4d0ebaf0b5dfb2ced0ae5af7c670]\n",
       "cluster E4--><a href=\"psysml:42adecdc-f281-4f00-8fb0-2d405003d942\" target=\"_top\" title=\"psysml:42adecdc-f281-4f00-8fb0-2d405003d942\" xlink:actuate=\"onRequest\" xlink:href=\"psysml:42adecdc-f281-4f00-8fb0-2d405003d942\" xlink:show=\"new\" xlink:title=\"psysml:42adecdc-f281-4f00-8fb0-2d405003d942\" xlink:type=\"simple\"><polygon fill=\"#FFFFFF\" points=\"40,49,64,49,71,71.2969,195,71.2969,195,153,40,153,40,49\" style=\"stroke: #000000; stroke-width: 1.5;\"/><line style=\"stroke: #000000; stroke-width: 1.5;\" x1=\"40\" x2=\"71\" y1=\"71.2969\" y2=\"71.2969\"/><text fill=\"#000000\" font-family=\"sans-serif\" font-size=\"14\" font-weight=\"bold\" lengthAdjust=\"spacingAndGlyphs\" textLength=\"18\" x=\"44\" y=\"63.9951\">P2</text></a><!--MD5=[09b614a08d8cba4a07c9adeb5e0fee81]\n",
       "class E3--><a href=\"psysml:e98f2231-0909-453e-b014-2111b959b184\" target=\"_top\" title=\"psysml:e98f2231-0909-453e-b014-2111b959b184\" xlink:actuate=\"onRequest\" xlink:href=\"psysml:e98f2231-0909-453e-b014-2111b959b184\" xlink:show=\"new\" xlink:title=\"psysml:e98f2231-0909-453e-b014-2111b959b184\" xlink:type=\"simple\"><rect fill=\"#FFFFFF\" height=\"45.9375\" id=\"E3\" style=\"stroke: #383838; stroke-width: 1.5;\" width=\"66\" x=\"113\" y=\"212\"/><text fill=\"#000000\" font-family=\"sans-serif\" font-size=\"12\" font-style=\"italic\" lengthAdjust=\"spacingAndGlyphs\" textLength=\"64\" x=\"114\" y=\"228.1387\">«part def»</text><text fill=\"#000000\" font-family=\"sans-serif\" font-size=\"12\" lengthAdjust=\"spacingAndGlyphs\" textLength=\"8\" x=\"142\" y=\"242.1074\">A</text><line style=\"stroke: #383838; stroke-width: 1.5;\" x1=\"114\" x2=\"178\" y1=\"249.9375\" y2=\"249.9375\"/></a><!--MD5=[60a26617385b1d2d0262a64233df1f8d]\n",
       "class E6--><a href=\"psysml:7d458e03-6011-4476-9c3b-13cd018efbef\" target=\"_top\" title=\"psysml:7d458e03-6011-4476-9c3b-13cd018efbef\" xlink:actuate=\"onRequest\" xlink:href=\"psysml:7d458e03-6011-4476-9c3b-13cd018efbef\" xlink:show=\"new\" xlink:title=\"psysml:7d458e03-6011-4476-9c3b-13cd018efbef\" xlink:type=\"simple\"><rect fill=\"#FFFFFF\" height=\"45.9375\" id=\"E6\" rx=\"10\" ry=\"10\" style=\"stroke: #383838; stroke-width: 1.5;\" width=\"42\" x=\"137\" y=\"87.5\"/><text fill=\"#000000\" font-family=\"sans-serif\" font-size=\"12\" font-style=\"italic\" lengthAdjust=\"spacingAndGlyphs\" textLength=\"40\" x=\"138\" y=\"103.6387\">«part»</text><text fill=\"#000000\" font-family=\"sans-serif\" font-size=\"12\" lengthAdjust=\"spacingAndGlyphs\" textLength=\"22\" x=\"147\" y=\"117.6074\">x: A</text><line style=\"stroke: #383838; stroke-width: 1.5;\" x1=\"138\" x2=\"178\" y1=\"125.4375\" y2=\"125.4375\"/></a><a href=\"psysml:e3978575-11c4-4054-8f35-fdd3c4e4a8ed\" target=\"_top\" title=\"psysml:e3978575-11c4-4054-8f35-fdd3c4e4a8ed\" xlink:actuate=\"onRequest\" xlink:href=\"psysml:e3978575-11c4-4054-8f35-fdd3c4e4a8ed\" xlink:show=\"new\" xlink:title=\"psysml:e3978575-11c4-4054-8f35-fdd3c4e4a8ed\" xlink:type=\"simple\"><polygon fill=\"#FFFFFF\" points=\"56,84,88,84,95,106.2969,102,106.2969,102,136.5938,56,136.5938,56,84\" style=\"stroke: #000000; stroke-width: 1.5;\"/><line style=\"stroke: #000000; stroke-width: 1.5;\" x1=\"56\" x2=\"95\" y1=\"106.2969\" y2=\"106.2969\"/><text fill=\"#000000\" font-family=\"sans-serif\" font-size=\"14\" font-weight=\"bold\" lengthAdjust=\"spacingAndGlyphs\" textLength=\"26\" x=\"60\" y=\"98.9951\">P2a</text></a><!--MD5=[a717450b82c80b9240a525fa862496af]\n",
       "link E6 to E3--><a href=\"psysml:9b235a5a-e1e6-4e2e-a344-8e5fae0ff3e7\" target=\"_top\" title=\"psysml:9b235a5a-e1e6-4e2e-a344-8e5fae0ff3e7\" xlink:actuate=\"onRequest\" xlink:href=\"psysml:9b235a5a-e1e6-4e2e-a344-8e5fae0ff3e7\" xlink:show=\"new\" xlink:title=\"psysml:9b235a5a-e1e6-4e2e-a344-8e5fae0ff3e7\" xlink:type=\"simple\"><path d=\"M158,133.63 C158,133.63 158,192 158,192 \" fill=\"none\" id=\"E6-&gt;E3\" style=\"stroke: #383838; stroke-width: 1.0;\"/><polygon fill=\"#FFFFFF\" points=\"158,212,151,193,165,193,158,212\" style=\"stroke: #383838; stroke-width: 1.0;\"/><ellipse cx=\"153\" cy=\"187.3\" fill=\"#383838\" rx=\"2\" ry=\"2\" style=\"stroke: #383838; stroke-width: 1.0;\"/><ellipse cx=\"163\" cy=\"187.3\" fill=\"#383838\" rx=\"2\" ry=\"2\" style=\"stroke: #383838; stroke-width: 1.0;\"/></a><!--MD5=[a735f41a72aafa1597adc57ddb480b18]\n",
       "@startuml\r\n",
       "skinparam linetype ortho\r\n",
       "skinparam monochrome true\r\n",
       "skinparam classbackgroundcolor white\r\n",
       "skinparam shadowing false\r\n",
       "skinparam wrapWidth 300\r\n",
       "hide circle\r\n",
       "\r\n",
       "package \"QualifiedNameImportTest\" as E1  [[psysml:c8de649d-2dc2-4761-aec9-7bacaacfe515 ]]  {\r\n",
       "package \"P1\" as E2  [[psysml:6cc89760-fc75-419d-8f57-c720b4f2efbc ]]  {\r\n",
       "comp def \"A\" as E3  <<(T,blue) part def>> [[psysml:e98f2231-0909-453e-b014-2111b959b184 ]] {\r\n",
       "}\r\n",
       "}\r\n",
       "package \"P2\" as E4  [[psysml:42adecdc-f281-4f00-8fb0-2d405003d942 ]]  {\r\n",
       "package \"P2a\" as E5  [[psysml:e3978575-11c4-4054-8f35-fdd3c4e4a8ed ]]  {\r\n",
       "}\r\n",
       "comp usage \"x: A\" as E6  <<(T,blue) part>> [[psysml:7d458e03-6011-4476-9c3b-13cd018efbef ]] {\r\n",
       "}\r\n",
       "}\r\n",
       "}\r\n",
       "E6 - -:|> E3 [[psysml:9b235a5a-e1e6-4e2e-a344-8e5fae0ff3e7 ]] \r\n",
       "@enduml\r\n",
       "\n",
       "PlantUML version 1.2020.13(Sat Jun 13 12:26:38 UTC 2020)\n",
       "(EPL source distribution)\n",
       "Java Runtime: OpenJDK Runtime Environment\n",
       "JVM: OpenJDK 64-Bit Server VM\n",
       "Default Encoding: UTF-8\n",
       "Language: en\n",
       "Country: null\n",
       "--></g></svg>"
      ]
     },
     "execution_count": 57,
     "metadata": {},
     "output_type": "execute_result"
    }
   ],
   "source": [
    "%viz --style=\"ORTHOLINE\" --view=\"MIXED\" \"QualifiedNameImportTest\""
   ]
  }
 ],
 "metadata": {
  "kernelspec": {
   "display_name": "SysML",
   "language": "sysml",
   "name": "sysml"
  },
  "language_info": {
   "codemirror_mode": "sysml",
   "file_extension": ".sysml",
   "mimetype": "text/x-sysml",
   "name": "SysML",
   "pygments_lexer": "java",
   "version": "1.0.0"
  }
 },
 "nbformat": 4,
 "nbformat_minor": 5
}
