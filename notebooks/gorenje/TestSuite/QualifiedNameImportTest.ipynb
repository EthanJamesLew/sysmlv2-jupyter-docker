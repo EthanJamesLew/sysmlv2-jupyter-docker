{
 "cells": [
  {
   "cell_type": "markdown",
   "id": "fca0c5c9",
   "metadata": {},
   "source": [
    "# SysML v2 Test Suite\n",
    "\n",
    "This can notebook can be cleared using menu `Edit --> Clear All Outputs` and then all cells can be\n",
    "run using menu `Run --> Run All Cells`.\n",
    "\n",
    "**WARNING**: This file is generated, all modifications here will be ignored.\n"
   ]
  },
  {
   "cell_type": "markdown",
   "id": "59d66fe8",
   "metadata": {},
   "source": [
    "## File: ../../sysml/src/examples/Import Tests/QualifiedNameImportTest.sysml"
   ]
  },
  {
   "cell_type": "code",
   "execution_count": 1,
   "id": "d2a3c137",
   "metadata": {
    "execution": {
     "iopub.execute_input": "2021-10-25T08:23:42.374852Z",
     "iopub.status.busy": "2021-10-25T08:23:42.373942Z",
     "iopub.status.idle": "2021-10-25T08:23:42.482205Z",
     "shell.execute_reply": "2021-10-25T08:23:42.482551Z"
    }
   },
   "outputs": [
    {
     "data": {
      "text/plain": [
       "Package QualifiedNameImportTest (b9962eb9-4d19-42dd-a21d-be42d77a7ca7)\n"
      ]
     },
     "execution_count": 1,
     "metadata": {},
     "output_type": "execute_result"
    }
   ],
   "source": [
    "package QualifiedNameImportTest {\n",
    "\tpackage P1 {\n",
    "\t\tpart def A;\n",
    "\t}\n",
    "\tpackage P2 {\n",
    "\t\tpackage P2a {\n",
    "\t\t\timport P1::*;\n",
    "\t\t}\n",
    "\t\t// The following should not fail.\n",
    "\t\t// A is a member of P2a because of the import.\n",
    "\t\tpart x: P2a::A;\n",
    "\t}\n",
    "}"
   ]
  },
  {
   "cell_type": "code",
   "execution_count": 2,
   "id": "212af57d",
   "metadata": {
    "execution": {
     "iopub.execute_input": "2021-10-25T08:23:42.533433Z",
     "iopub.status.busy": "2021-10-25T08:23:42.532993Z",
     "iopub.status.idle": "2021-10-25T08:23:42.989879Z",
     "shell.execute_reply": "2021-10-25T08:23:42.987967Z"
    }
   },
   "outputs": [
    {
     "data": {
      "image/svg+xml": [
       "<?xml version=\"1.0\" encoding=\"UTF-8\" standalone=\"no\"?><svg xmlns=\"http://www.w3.org/2000/svg\" xmlns:xlink=\"http://www.w3.org/1999/xlink\" contentScriptType=\"application/ecmascript\" contentStyleType=\"text/css\" height=\"310px\" preserveAspectRatio=\"none\" style=\"width:241px;height:310px;\" version=\"1.1\" viewBox=\"0 0 241 310\" width=\"241px\" zoomAndPan=\"magnify\"><defs/><g><!--MD5=[fbc87193dbaf4d95561dea2c320d4a47]\n",
       "cluster E1--><a href=\"psysml:a2205de8-88da-4a82-9d0c-530bb72328d3\" target=\"_top\" title=\"psysml:a2205de8-88da-4a82-9d0c-530bb72328d3\" xlink:actuate=\"onRequest\" xlink:href=\"psysml:a2205de8-88da-4a82-9d0c-530bb72328d3\" xlink:show=\"new\" xlink:title=\"psysml:a2205de8-88da-4a82-9d0c-530bb72328d3\" xlink:type=\"simple\"><polygon fill=\"#FFFFFF\" points=\"16,6,196,6,203,28.2969,219,28.2969,219,298,16,298,16,6\" style=\"stroke: #000000; stroke-width: 1.5;\"/><line style=\"stroke: #000000; stroke-width: 1.5;\" x1=\"16\" x2=\"203\" y1=\"28.2969\" y2=\"28.2969\"/><text fill=\"#000000\" font-family=\"sans-serif\" font-size=\"14\" font-weight=\"bold\" lengthAdjust=\"spacingAndGlyphs\" textLength=\"174\" x=\"20\" y=\"20.9951\">QualifiedNameImportTest</text></a><!--MD5=[e4f7fae6ed58524ba242bb0b0d3be6b7]\n",
       "cluster E2--><a href=\"psysml:e0b1ca8b-31cf-4033-8a32-a89f430be7de\" target=\"_top\" title=\"psysml:e0b1ca8b-31cf-4033-8a32-a89f430be7de\" xlink:actuate=\"onRequest\" xlink:href=\"psysml:e0b1ca8b-31cf-4033-8a32-a89f430be7de\" xlink:show=\"new\" xlink:title=\"psysml:e0b1ca8b-31cf-4033-8a32-a89f430be7de\" xlink:type=\"simple\"><polygon fill=\"#FFFFFF\" points=\"93,177,117,177,124,199.2969,195,199.2969,195,274,93,274,93,177\" style=\"stroke: #000000; stroke-width: 1.5;\"/><line style=\"stroke: #000000; stroke-width: 1.5;\" x1=\"93\" x2=\"124\" y1=\"199.2969\" y2=\"199.2969\"/><text fill=\"#000000\" font-family=\"sans-serif\" font-size=\"14\" font-weight=\"bold\" lengthAdjust=\"spacingAndGlyphs\" textLength=\"18\" x=\"97\" y=\"191.9951\">P1</text></a><!--MD5=[f6df4d0ebaf0b5dfb2ced0ae5af7c670]\n",
       "cluster E4--><a href=\"psysml:9d5af9ae-79ba-44ae-999f-9385e3e881ff\" target=\"_top\" title=\"psysml:9d5af9ae-79ba-44ae-999f-9385e3e881ff\" xlink:actuate=\"onRequest\" xlink:href=\"psysml:9d5af9ae-79ba-44ae-999f-9385e3e881ff\" xlink:show=\"new\" xlink:title=\"psysml:9d5af9ae-79ba-44ae-999f-9385e3e881ff\" xlink:type=\"simple\"><polygon fill=\"#FFFFFF\" points=\"40,49,64,49,71,71.2969,195,71.2969,195,153,40,153,40,49\" style=\"stroke: #000000; stroke-width: 1.5;\"/><line style=\"stroke: #000000; stroke-width: 1.5;\" x1=\"40\" x2=\"71\" y1=\"71.2969\" y2=\"71.2969\"/><text fill=\"#000000\" font-family=\"sans-serif\" font-size=\"14\" font-weight=\"bold\" lengthAdjust=\"spacingAndGlyphs\" textLength=\"18\" x=\"44\" y=\"63.9951\">P2</text></a><!--MD5=[09b614a08d8cba4a07c9adeb5e0fee81]\n",
       "class E3--><a href=\"psysml:b95e347b-a360-4ede-8f45-88f4f6a9f0a4\" target=\"_top\" title=\"psysml:b95e347b-a360-4ede-8f45-88f4f6a9f0a4\" xlink:actuate=\"onRequest\" xlink:href=\"psysml:b95e347b-a360-4ede-8f45-88f4f6a9f0a4\" xlink:show=\"new\" xlink:title=\"psysml:b95e347b-a360-4ede-8f45-88f4f6a9f0a4\" xlink:type=\"simple\"><rect fill=\"#FFFFFF\" height=\"45.9375\" id=\"E3\" style=\"stroke: #383838; stroke-width: 1.5;\" width=\"70\" x=\"109\" y=\"212\"/><text fill=\"#000000\" font-family=\"sans-serif\" font-size=\"12\" font-style=\"italic\" lengthAdjust=\"spacingAndGlyphs\" textLength=\"68\" x=\"110\" y=\"228.1387\">«part  def»</text><text fill=\"#000000\" font-family=\"sans-serif\" font-size=\"12\" lengthAdjust=\"spacingAndGlyphs\" textLength=\"8\" x=\"140\" y=\"242.1074\">A</text><line style=\"stroke: #383838; stroke-width: 1.5;\" x1=\"110\" x2=\"178\" y1=\"249.9375\" y2=\"249.9375\"/></a><!--MD5=[60a26617385b1d2d0262a64233df1f8d]\n",
       "class E6--><a href=\"psysml:8ace276a-6fab-4d9f-9bdd-b9a7961474a1\" target=\"_top\" title=\"psysml:8ace276a-6fab-4d9f-9bdd-b9a7961474a1\" xlink:actuate=\"onRequest\" xlink:href=\"psysml:8ace276a-6fab-4d9f-9bdd-b9a7961474a1\" xlink:show=\"new\" xlink:title=\"psysml:8ace276a-6fab-4d9f-9bdd-b9a7961474a1\" xlink:type=\"simple\"><rect fill=\"#FFFFFF\" height=\"45.9375\" id=\"E6\" rx=\"10\" ry=\"10\" style=\"stroke: #383838; stroke-width: 1.5;\" width=\"42\" x=\"137\" y=\"87.5\"/><text fill=\"#000000\" font-family=\"sans-serif\" font-size=\"12\" font-style=\"italic\" lengthAdjust=\"spacingAndGlyphs\" textLength=\"40\" x=\"138\" y=\"103.6387\">«part»</text><text fill=\"#000000\" font-family=\"sans-serif\" font-size=\"12\" lengthAdjust=\"spacingAndGlyphs\" textLength=\"22\" x=\"145\" y=\"117.6074\">x: A</text><line style=\"stroke: #383838; stroke-width: 1.5;\" x1=\"138\" x2=\"178\" y1=\"125.4375\" y2=\"125.4375\"/></a><a href=\"psysml:b9f88b2a-f312-44cc-a9e4-c89396ff9243\" target=\"_top\" title=\"psysml:b9f88b2a-f312-44cc-a9e4-c89396ff9243\" xlink:actuate=\"onRequest\" xlink:href=\"psysml:b9f88b2a-f312-44cc-a9e4-c89396ff9243\" xlink:show=\"new\" xlink:title=\"psysml:b9f88b2a-f312-44cc-a9e4-c89396ff9243\" xlink:type=\"simple\"><polygon fill=\"#FFFFFF\" points=\"56,84,88,84,95,106.2969,102,106.2969,102,136.5938,56,136.5938,56,84\" style=\"stroke: #000000; stroke-width: 1.5;\"/><line style=\"stroke: #000000; stroke-width: 1.5;\" x1=\"56\" x2=\"95\" y1=\"106.2969\" y2=\"106.2969\"/><text fill=\"#000000\" font-family=\"sans-serif\" font-size=\"14\" font-weight=\"bold\" lengthAdjust=\"spacingAndGlyphs\" textLength=\"26\" x=\"60\" y=\"98.9951\">P2a</text></a><!--MD5=[a717450b82c80b9240a525fa862496af]\n",
       "link E6 to E3--><a href=\"psysml:3b068d74-51f4-4206-8ca3-dd0a14e18b44\" target=\"_top\" title=\"psysml:3b068d74-51f4-4206-8ca3-dd0a14e18b44\" xlink:actuate=\"onRequest\" xlink:href=\"psysml:3b068d74-51f4-4206-8ca3-dd0a14e18b44\" xlink:show=\"new\" xlink:title=\"psysml:3b068d74-51f4-4206-8ca3-dd0a14e18b44\" xlink:type=\"simple\"><path d=\"M155.46,133.68 C153.61,149.9 151.04,172.39 148.8,191.96 \" fill=\"none\" id=\"E6-&gt;E3\" style=\"stroke: #383838; stroke-width: 1.0;\"/><polygon fill=\"#FFFFFF\" points=\"146.52,211.98,141.7231,192.308,155.6325,193.8979,146.52,211.98\" style=\"stroke: #383838; stroke-width: 1.0;\"/><ellipse cx=\"144.3574\" cy=\"186.872\" fill=\"#383838\" rx=\"2\" ry=\"2\" style=\"stroke: #383838; stroke-width: 1.0;\"/><ellipse cx=\"154.2928\" cy=\"188.0076\" fill=\"#383838\" rx=\"2\" ry=\"2\" style=\"stroke: #383838; stroke-width: 1.0;\"/></a><!--MD5=[87ce5331930e6c2bc15d4bf4acc5056d]\n",
       "@startuml\r\n",
       " skinparam monochrome true\r\n",
       "skinparam classbackgroundcolor white\r\n",
       "skinparam shadowing false\r\n",
       "skinparam wrapWidth 300\r\n",
       "hide circle\r\n",
       "\r\n",
       "package \"QualifiedNameImportTest\" as E1  [[psysml:a2205de8-88da-4a82-9d0c-530bb72328d3 ]]  {\r\n",
       "package \"P1\" as E2  [[psysml:e0b1ca8b-31cf-4033-8a32-a89f430be7de ]]  {\r\n",
       "comp def \"A\" as E3  <<(T,blue) part  def>> [[psysml:b95e347b-a360-4ede-8f45-88f4f6a9f0a4 ]] {\r\n",
       "}\r\n",
       "}\r\n",
       "package \"P2\" as E4  [[psysml:9d5af9ae-79ba-44ae-999f-9385e3e881ff ]]  {\r\n",
       "package \"P2a\" as E5  [[psysml:b9f88b2a-f312-44cc-a9e4-c89396ff9243 ]]  {\r\n",
       "}\r\n",
       "comp usage \"x: A \" as E6  <<(T,blue) part>> [[psysml:8ace276a-6fab-4d9f-9bdd-b9a7961474a1 ]] {\r\n",
       "}\r\n",
       "}\r\n",
       "}\r\n",
       "E6 - -:|> E3 [[psysml:3b068d74-51f4-4206-8ca3-dd0a14e18b44 ]] \r\n",
       "@enduml\r\n",
       "\n",
       "PlantUML version 1.2020.13(Sat Jun 13 12:26:38 UTC 2020)\n",
       "(EPL source distribution)\n",
       "Java Runtime: OpenJDK Runtime Environment\n",
       "JVM: OpenJDK 64-Bit Server VM\n",
       "Default Encoding: UTF-8\n",
       "Language: en\n",
       "Country: null\n",
       "--></g></svg>"
      ]
     },
     "execution_count": 2,
     "metadata": {},
     "output_type": "execute_result"
    }
   ],
   "source": [
    "%viz --style=\"COMPTREE\" --view=\"Default\" \"QualifiedNameImportTest\""
   ]
  },
  {
   "cell_type": "code",
   "execution_count": 3,
   "id": "6d2a604a",
   "metadata": {
    "execution": {
     "iopub.execute_input": "2021-10-25T08:23:43.039287Z",
     "iopub.status.busy": "2021-10-25T08:23:43.038803Z",
     "iopub.status.idle": "2021-10-25T08:23:43.101007Z",
     "shell.execute_reply": "2021-10-25T08:23:43.101338Z"
    }
   },
   "outputs": [
    {
     "data": {
      "image/svg+xml": [
       "<?xml version=\"1.0\" encoding=\"UTF-8\" standalone=\"no\"?><svg xmlns=\"http://www.w3.org/2000/svg\" xmlns:xlink=\"http://www.w3.org/1999/xlink\" contentScriptType=\"application/ecmascript\" contentStyleType=\"text/css\" height=\"310px\" preserveAspectRatio=\"none\" style=\"width:241px;height:310px;\" version=\"1.1\" viewBox=\"0 0 241 310\" width=\"241px\" zoomAndPan=\"magnify\"><defs/><g><!--MD5=[fbc87193dbaf4d95561dea2c320d4a47]\n",
       "cluster E1--><a href=\"psysml:a2205de8-88da-4a82-9d0c-530bb72328d3\" target=\"_top\" title=\"psysml:a2205de8-88da-4a82-9d0c-530bb72328d3\" xlink:actuate=\"onRequest\" xlink:href=\"psysml:a2205de8-88da-4a82-9d0c-530bb72328d3\" xlink:show=\"new\" xlink:title=\"psysml:a2205de8-88da-4a82-9d0c-530bb72328d3\" xlink:type=\"simple\"><polygon fill=\"#FFFFFF\" points=\"16,6,196,6,203,28.2969,219,28.2969,219,298,16,298,16,6\" style=\"stroke: #000000; stroke-width: 1.5;\"/><line style=\"stroke: #000000; stroke-width: 1.5;\" x1=\"16\" x2=\"203\" y1=\"28.2969\" y2=\"28.2969\"/><text fill=\"#000000\" font-family=\"sans-serif\" font-size=\"14\" font-weight=\"bold\" lengthAdjust=\"spacingAndGlyphs\" textLength=\"174\" x=\"20\" y=\"20.9951\">QualifiedNameImportTest</text></a><!--MD5=[e4f7fae6ed58524ba242bb0b0d3be6b7]\n",
       "cluster E2--><a href=\"psysml:e0b1ca8b-31cf-4033-8a32-a89f430be7de\" target=\"_top\" title=\"psysml:e0b1ca8b-31cf-4033-8a32-a89f430be7de\" xlink:actuate=\"onRequest\" xlink:href=\"psysml:e0b1ca8b-31cf-4033-8a32-a89f430be7de\" xlink:show=\"new\" xlink:title=\"psysml:e0b1ca8b-31cf-4033-8a32-a89f430be7de\" xlink:type=\"simple\"><polygon fill=\"#FFFFFF\" points=\"93,177,117,177,124,199.2969,195,199.2969,195,274,93,274,93,177\" style=\"stroke: #000000; stroke-width: 1.5;\"/><line style=\"stroke: #000000; stroke-width: 1.5;\" x1=\"93\" x2=\"124\" y1=\"199.2969\" y2=\"199.2969\"/><text fill=\"#000000\" font-family=\"sans-serif\" font-size=\"14\" font-weight=\"bold\" lengthAdjust=\"spacingAndGlyphs\" textLength=\"18\" x=\"97\" y=\"191.9951\">P1</text></a><!--MD5=[f6df4d0ebaf0b5dfb2ced0ae5af7c670]\n",
       "cluster E4--><a href=\"psysml:9d5af9ae-79ba-44ae-999f-9385e3e881ff\" target=\"_top\" title=\"psysml:9d5af9ae-79ba-44ae-999f-9385e3e881ff\" xlink:actuate=\"onRequest\" xlink:href=\"psysml:9d5af9ae-79ba-44ae-999f-9385e3e881ff\" xlink:show=\"new\" xlink:title=\"psysml:9d5af9ae-79ba-44ae-999f-9385e3e881ff\" xlink:type=\"simple\"><polygon fill=\"#FFFFFF\" points=\"40,49,64,49,71,71.2969,195,71.2969,195,153,40,153,40,49\" style=\"stroke: #000000; stroke-width: 1.5;\"/><line style=\"stroke: #000000; stroke-width: 1.5;\" x1=\"40\" x2=\"71\" y1=\"71.2969\" y2=\"71.2969\"/><text fill=\"#000000\" font-family=\"sans-serif\" font-size=\"14\" font-weight=\"bold\" lengthAdjust=\"spacingAndGlyphs\" textLength=\"18\" x=\"44\" y=\"63.9951\">P2</text></a><!--MD5=[09b614a08d8cba4a07c9adeb5e0fee81]\n",
       "class E3--><a href=\"psysml:b95e347b-a360-4ede-8f45-88f4f6a9f0a4\" target=\"_top\" title=\"psysml:b95e347b-a360-4ede-8f45-88f4f6a9f0a4\" xlink:actuate=\"onRequest\" xlink:href=\"psysml:b95e347b-a360-4ede-8f45-88f4f6a9f0a4\" xlink:show=\"new\" xlink:title=\"psysml:b95e347b-a360-4ede-8f45-88f4f6a9f0a4\" xlink:type=\"simple\"><rect fill=\"#FFFFFF\" height=\"45.9375\" id=\"E3\" style=\"stroke: #383838; stroke-width: 1.5;\" width=\"70\" x=\"109\" y=\"212\"/><text fill=\"#000000\" font-family=\"sans-serif\" font-size=\"12\" font-style=\"italic\" lengthAdjust=\"spacingAndGlyphs\" textLength=\"68\" x=\"110\" y=\"228.1387\">«part  def»</text><text fill=\"#000000\" font-family=\"sans-serif\" font-size=\"12\" lengthAdjust=\"spacingAndGlyphs\" textLength=\"8\" x=\"140\" y=\"242.1074\">A</text><line style=\"stroke: #383838; stroke-width: 1.5;\" x1=\"110\" x2=\"178\" y1=\"249.9375\" y2=\"249.9375\"/></a><!--MD5=[60a26617385b1d2d0262a64233df1f8d]\n",
       "class E6--><a href=\"psysml:8ace276a-6fab-4d9f-9bdd-b9a7961474a1\" target=\"_top\" title=\"psysml:8ace276a-6fab-4d9f-9bdd-b9a7961474a1\" xlink:actuate=\"onRequest\" xlink:href=\"psysml:8ace276a-6fab-4d9f-9bdd-b9a7961474a1\" xlink:show=\"new\" xlink:title=\"psysml:8ace276a-6fab-4d9f-9bdd-b9a7961474a1\" xlink:type=\"simple\"><rect fill=\"#FFFFFF\" height=\"45.9375\" id=\"E6\" rx=\"10\" ry=\"10\" style=\"stroke: #383838; stroke-width: 1.5;\" width=\"42\" x=\"137\" y=\"87.5\"/><text fill=\"#000000\" font-family=\"sans-serif\" font-size=\"12\" font-style=\"italic\" lengthAdjust=\"spacingAndGlyphs\" textLength=\"40\" x=\"138\" y=\"103.6387\">«part»</text><text fill=\"#000000\" font-family=\"sans-serif\" font-size=\"12\" lengthAdjust=\"spacingAndGlyphs\" textLength=\"22\" x=\"145\" y=\"117.6074\">x: A</text><line style=\"stroke: #383838; stroke-width: 1.5;\" x1=\"138\" x2=\"178\" y1=\"125.4375\" y2=\"125.4375\"/></a><a href=\"psysml:b9f88b2a-f312-44cc-a9e4-c89396ff9243\" target=\"_top\" title=\"psysml:b9f88b2a-f312-44cc-a9e4-c89396ff9243\" xlink:actuate=\"onRequest\" xlink:href=\"psysml:b9f88b2a-f312-44cc-a9e4-c89396ff9243\" xlink:show=\"new\" xlink:title=\"psysml:b9f88b2a-f312-44cc-a9e4-c89396ff9243\" xlink:type=\"simple\"><polygon fill=\"#FFFFFF\" points=\"56,84,88,84,95,106.2969,102,106.2969,102,136.5938,56,136.5938,56,84\" style=\"stroke: #000000; stroke-width: 1.5;\"/><line style=\"stroke: #000000; stroke-width: 1.5;\" x1=\"56\" x2=\"95\" y1=\"106.2969\" y2=\"106.2969\"/><text fill=\"#000000\" font-family=\"sans-serif\" font-size=\"14\" font-weight=\"bold\" lengthAdjust=\"spacingAndGlyphs\" textLength=\"26\" x=\"60\" y=\"98.9951\">P2a</text></a><!--MD5=[a717450b82c80b9240a525fa862496af]\n",
       "link E6 to E3--><a href=\"psysml:3b068d74-51f4-4206-8ca3-dd0a14e18b44\" target=\"_top\" title=\"psysml:3b068d74-51f4-4206-8ca3-dd0a14e18b44\" xlink:actuate=\"onRequest\" xlink:href=\"psysml:3b068d74-51f4-4206-8ca3-dd0a14e18b44\" xlink:show=\"new\" xlink:title=\"psysml:3b068d74-51f4-4206-8ca3-dd0a14e18b44\" xlink:type=\"simple\"><path d=\"M155.46,133.68 C153.61,149.9 151.04,172.39 148.8,191.96 \" fill=\"none\" id=\"E6-&gt;E3\" style=\"stroke: #383838; stroke-width: 1.0;\"/><polygon fill=\"#FFFFFF\" points=\"146.52,211.98,141.7231,192.308,155.6325,193.8979,146.52,211.98\" style=\"stroke: #383838; stroke-width: 1.0;\"/><ellipse cx=\"144.3574\" cy=\"186.872\" fill=\"#383838\" rx=\"2\" ry=\"2\" style=\"stroke: #383838; stroke-width: 1.0;\"/><ellipse cx=\"154.2928\" cy=\"188.0076\" fill=\"#383838\" rx=\"2\" ry=\"2\" style=\"stroke: #383838; stroke-width: 1.0;\"/></a><!--MD5=[87ce5331930e6c2bc15d4bf4acc5056d]\n",
       "@startuml\r\n",
       " skinparam monochrome true\r\n",
       "skinparam classbackgroundcolor white\r\n",
       "skinparam shadowing false\r\n",
       "skinparam wrapWidth 300\r\n",
       "hide circle\r\n",
       "\r\n",
       "package \"QualifiedNameImportTest\" as E1  [[psysml:a2205de8-88da-4a82-9d0c-530bb72328d3 ]]  {\r\n",
       "package \"P1\" as E2  [[psysml:e0b1ca8b-31cf-4033-8a32-a89f430be7de ]]  {\r\n",
       "comp def \"A\" as E3  <<(T,blue) part  def>> [[psysml:b95e347b-a360-4ede-8f45-88f4f6a9f0a4 ]] {\r\n",
       "}\r\n",
       "}\r\n",
       "package \"P2\" as E4  [[psysml:9d5af9ae-79ba-44ae-999f-9385e3e881ff ]]  {\r\n",
       "package \"P2a\" as E5  [[psysml:b9f88b2a-f312-44cc-a9e4-c89396ff9243 ]]  {\r\n",
       "}\r\n",
       "comp usage \"x: A \" as E6  <<(T,blue) part>> [[psysml:8ace276a-6fab-4d9f-9bdd-b9a7961474a1 ]] {\r\n",
       "}\r\n",
       "}\r\n",
       "}\r\n",
       "E6 - -:|> E3 [[psysml:3b068d74-51f4-4206-8ca3-dd0a14e18b44 ]] \r\n",
       "@enduml\r\n",
       "\n",
       "PlantUML version 1.2020.13(Sat Jun 13 12:26:38 UTC 2020)\n",
       "(EPL source distribution)\n",
       "Java Runtime: OpenJDK Runtime Environment\n",
       "JVM: OpenJDK 64-Bit Server VM\n",
       "Default Encoding: UTF-8\n",
       "Language: en\n",
       "Country: null\n",
       "--></g></svg>"
      ]
     },
     "execution_count": 3,
     "metadata": {},
     "output_type": "execute_result"
    }
   ],
   "source": [
    "%viz --style=\"COMPTREE\" --view=\"Tree\" \"QualifiedNameImportTest\""
   ]
  },
  {
   "cell_type": "code",
   "execution_count": 4,
   "id": "8dbb0e21",
   "metadata": {
    "execution": {
     "iopub.execute_input": "2021-10-25T08:23:43.151391Z",
     "iopub.status.busy": "2021-10-25T08:23:43.150969Z",
     "iopub.status.idle": "2021-10-25T08:23:43.156827Z",
     "shell.execute_reply": "2021-10-25T08:23:43.157148Z"
    }
   },
   "outputs": [
    {
     "data": {
      "image/svg+xml": [
       "<?xml version=\"1.0\" encoding=\"UTF-8\" standalone=\"no\"?><svg xmlns=\"http://www.w3.org/2000/svg\" xmlns:xlink=\"http://www.w3.org/1999/xlink\" contentScriptType=\"application/ecmascript\" contentStyleType=\"text/css\" height=\"12px\" preserveAspectRatio=\"none\" style=\"width:12px;height:12px;\" version=\"1.1\" viewBox=\"0 0 12 12\" width=\"12px\" zoomAndPan=\"magnify\"><defs/><g><!--MD5=[f19188ef49e11757b5c46753f95d9edc]\n",
       "@startuml\r\n",
       " skinparam monochrome true\r\n",
       "skinparam classbackgroundcolor white\r\n",
       "skinparam shadowing false\r\n",
       "skinparam wrapWidth 300\r\n",
       "hide circle\r\n",
       "\r\n",
       "@enduml\r\n",
       "\n",
       "PlantUML version 1.2020.13(Sat Jun 13 12:26:38 UTC 2020)\n",
       "(EPL source distribution)\n",
       "Java Runtime: OpenJDK Runtime Environment\n",
       "JVM: OpenJDK 64-Bit Server VM\n",
       "Default Encoding: UTF-8\n",
       "Language: en\n",
       "Country: null\n",
       "--></g></svg>"
      ]
     },
     "execution_count": 4,
     "metadata": {},
     "output_type": "execute_result"
    }
   ],
   "source": [
    "%viz --style=\"COMPTREE\" --view=\"State\" \"QualifiedNameImportTest\""
   ]
  },
  {
   "cell_type": "code",
   "execution_count": 5,
   "id": "3a09da9b",
   "metadata": {
    "execution": {
     "iopub.execute_input": "2021-10-25T08:23:43.207119Z",
     "iopub.status.busy": "2021-10-25T08:23:43.206715Z",
     "iopub.status.idle": "2021-10-25T08:23:43.249601Z",
     "shell.execute_reply": "2021-10-25T08:23:43.249254Z"
    }
   },
   "outputs": [
    {
     "data": {
      "image/svg+xml": [
       "<?xml version=\"1.0\" encoding=\"UTF-8\" standalone=\"no\"?><svg xmlns=\"http://www.w3.org/2000/svg\" xmlns:xlink=\"http://www.w3.org/1999/xlink\" contentScriptType=\"application/ecmascript\" contentStyleType=\"text/css\" height=\"189px\" preserveAspectRatio=\"none\" style=\"width:379px;height:189px;\" version=\"1.1\" viewBox=\"0 0 379 189\" width=\"379px\" zoomAndPan=\"magnify\"><defs/><g><!--MD5=[fbc87193dbaf4d95561dea2c320d4a47]\n",
       "cluster E1--><a href=\"psysml:a2205de8-88da-4a82-9d0c-530bb72328d3\" target=\"_top\" title=\"psysml:a2205de8-88da-4a82-9d0c-530bb72328d3\" xlink:actuate=\"onRequest\" xlink:href=\"psysml:a2205de8-88da-4a82-9d0c-530bb72328d3\" xlink:show=\"new\" xlink:title=\"psysml:a2205de8-88da-4a82-9d0c-530bb72328d3\" xlink:type=\"simple\"><polygon fill=\"#FFFFFF\" points=\"16,6,196,6,203,28.2969,357,28.2969,357,177,16,177,16,6\" style=\"stroke: #000000; stroke-width: 1.5;\"/><line style=\"stroke: #000000; stroke-width: 1.5;\" x1=\"16\" x2=\"203\" y1=\"28.2969\" y2=\"28.2969\"/><text fill=\"#000000\" font-family=\"sans-serif\" font-size=\"14\" font-weight=\"bold\" lengthAdjust=\"spacingAndGlyphs\" textLength=\"174\" x=\"20\" y=\"20.9951\">QualifiedNameImportTest</text></a><!--MD5=[e4f7fae6ed58524ba242bb0b0d3be6b7]\n",
       "cluster E2--><a href=\"psysml:e0b1ca8b-31cf-4033-8a32-a89f430be7de\" target=\"_top\" title=\"psysml:e0b1ca8b-31cf-4033-8a32-a89f430be7de\" xlink:actuate=\"onRequest\" xlink:href=\"psysml:e0b1ca8b-31cf-4033-8a32-a89f430be7de\" xlink:show=\"new\" xlink:title=\"psysml:e0b1ca8b-31cf-4033-8a32-a89f430be7de\" xlink:type=\"simple\"><polygon fill=\"#FFFFFF\" points=\"227,54,251,54,258,76.2969,333,76.2969,333,148,227,148,227,54\" style=\"stroke: #000000; stroke-width: 1.5;\"/><line style=\"stroke: #000000; stroke-width: 1.5;\" x1=\"227\" x2=\"258\" y1=\"76.2969\" y2=\"76.2969\"/><text fill=\"#000000\" font-family=\"sans-serif\" font-size=\"14\" font-weight=\"bold\" lengthAdjust=\"spacingAndGlyphs\" textLength=\"18\" x=\"231\" y=\"68.9951\">P1</text></a><!--MD5=[f6df4d0ebaf0b5dfb2ced0ae5af7c670]\n",
       "cluster E4--><a href=\"psysml:9d5af9ae-79ba-44ae-999f-9385e3e881ff\" target=\"_top\" title=\"psysml:9d5af9ae-79ba-44ae-999f-9385e3e881ff\" xlink:actuate=\"onRequest\" xlink:href=\"psysml:9d5af9ae-79ba-44ae-999f-9385e3e881ff\" xlink:show=\"new\" xlink:title=\"psysml:9d5af9ae-79ba-44ae-999f-9385e3e881ff\" xlink:type=\"simple\"><polygon fill=\"#FFFFFF\" points=\"40,49,64,49,71,71.2969,203,71.2969,203,153,40,153,40,49\" style=\"stroke: #000000; stroke-width: 1.5;\"/><line style=\"stroke: #000000; stroke-width: 1.5;\" x1=\"40\" x2=\"71\" y1=\"71.2969\" y2=\"71.2969\"/><text fill=\"#000000\" font-family=\"sans-serif\" font-size=\"14\" font-weight=\"bold\" lengthAdjust=\"spacingAndGlyphs\" textLength=\"18\" x=\"44\" y=\"63.9951\">P2</text></a><g id=\"E1.E2.E3\"><a href=\"psysml:b95e347b-a360-4ede-8f45-88f4f6a9f0a4\" target=\"_top\" title=\"psysml:b95e347b-a360-4ede-8f45-88f4f6a9f0a4\" xlink:actuate=\"onRequest\" xlink:href=\"psysml:b95e347b-a360-4ede-8f45-88f4f6a9f0a4\" xlink:show=\"new\" xlink:title=\"psysml:b95e347b-a360-4ede-8f45-88f4f6a9f0a4\" xlink:type=\"simple\"><rect fill=\"#FFFFFF\" height=\"42.9375\" id=\"E3\" style=\"stroke: #383838; stroke-width: 1.5;\" width=\"75\" x=\"242.5\" y=\"89\"/><rect fill=\"#F8F8F8\" height=\"37.9375\" style=\"stroke: #383838; stroke-width: 1.5;\" width=\"75\" x=\"242.5\" y=\"89\"/><text fill=\"#000000\" font-family=\"sans-serif\" font-size=\"12\" font-style=\"italic\" lengthAdjust=\"spacingAndGlyphs\" textLength=\"68\" x=\"246\" y=\"105.1387\">«part  def»</text><text fill=\"#000000\" font-family=\"sans-serif\" font-size=\"12\" lengthAdjust=\"spacingAndGlyphs\" textLength=\"8\" x=\"276\" y=\"119.1074\">A</text></a></g><a href=\"psysml:b9f88b2a-f312-44cc-a9e4-c89396ff9243\" target=\"_top\" title=\"psysml:b9f88b2a-f312-44cc-a9e4-c89396ff9243\" xlink:actuate=\"onRequest\" xlink:href=\"psysml:b9f88b2a-f312-44cc-a9e4-c89396ff9243\" xlink:show=\"new\" xlink:title=\"psysml:b9f88b2a-f312-44cc-a9e4-c89396ff9243\" xlink:type=\"simple\"><polygon fill=\"#FFFFFF\" points=\"141,84,173,84,180,106.2969,187,106.2969,187,136.5938,141,136.5938,141,84\" style=\"stroke: #000000; stroke-width: 1.5;\"/><line style=\"stroke: #000000; stroke-width: 1.5;\" x1=\"141\" x2=\"180\" y1=\"106.2969\" y2=\"106.2969\"/><text fill=\"#000000\" font-family=\"sans-serif\" font-size=\"14\" font-weight=\"bold\" lengthAdjust=\"spacingAndGlyphs\" textLength=\"26\" x=\"145\" y=\"98.9951\">P2a</text></a><g id=\"E1.E4.E6\"><a href=\"psysml:8ace276a-6fab-4d9f-9bdd-b9a7961474a1\" target=\"_top\" title=\"psysml:8ace276a-6fab-4d9f-9bdd-b9a7961474a1\" xlink:actuate=\"onRequest\" xlink:href=\"psysml:8ace276a-6fab-4d9f-9bdd-b9a7961474a1\" xlink:show=\"new\" xlink:title=\"psysml:8ace276a-6fab-4d9f-9bdd-b9a7961474a1\" xlink:type=\"simple\"><rect fill=\"#FFFFFF\" height=\"40\" id=\"E6\" rx=\"10\" ry=\"10\" style=\"stroke: #383838; stroke-width: 1.5;\" width=\"50\" x=\"56\" y=\"90.5\"/><rect fill=\"#F8F8F8\" height=\"23.9688\" rx=\"10\" ry=\"10\" style=\"stroke: #F8F8F8; stroke-width: 1.5;\" width=\"50\" x=\"56\" y=\"90.5\"/><rect fill=\"#F8F8F8\" height=\"10\" style=\"stroke: #F8F8F8; stroke-width: 1.5;\" width=\"50\" x=\"56\" y=\"104.4688\"/><rect fill=\"none\" height=\"40\" id=\"E6\" rx=\"10\" ry=\"10\" style=\"stroke: #383838; stroke-width: 1.5;\" width=\"50\" x=\"56\" y=\"90.5\"/><text fill=\"#000000\" font-family=\"sans-serif\" font-size=\"12\" lengthAdjust=\"spacingAndGlyphs\" textLength=\"22\" x=\"70\" y=\"106.6387\">x: A</text></a></g><!--MD5=[97abad086bb570cbebbfd13b024877d4]\n",
       "@startuml\r\n",
       "skinparam ranksep 10\r\n",
       "skinparam rectangle {\r\n",
       " backgroundColor<<block>> LightGreen\r\n",
       "}\r\n",
       " skinparam monochrome true\r\n",
       "skinparam classbackgroundcolor white\r\n",
       "skinparam shadowing false\r\n",
       "skinparam wrapWidth 300\r\n",
       "hide circle\r\n",
       "\r\n",
       "package \"QualifiedNameImportTest\" as E1  [[psysml:a2205de8-88da-4a82-9d0c-530bb72328d3 ]]  {\r\n",
       "package \"P1\" as E2  [[psysml:e0b1ca8b-31cf-4033-8a32-a89f430be7de ]]  {\r\n",
       "rec def \"A\" as E3  <<(T,blue) part  def>> [[psysml:b95e347b-a360-4ede-8f45-88f4f6a9f0a4 ]] {\r\n",
       "}\r\n",
       "}\r\n",
       "package \"P2\" as E4  [[psysml:9d5af9ae-79ba-44ae-999f-9385e3e881ff ]]  {\r\n",
       "package \"P2a\" as E5  [[psysml:b9f88b2a-f312-44cc-a9e4-c89396ff9243 ]]  {\r\n",
       "}\r\n",
       "rec usage \"x: A\" as E6  [[psysml:8ace276a-6fab-4d9f-9bdd-b9a7961474a1 ]] {\r\n",
       "}\r\n",
       "}\r\n",
       "}\r\n",
       "@enduml\r\n",
       "\n",
       "PlantUML version 1.2020.13(Sat Jun 13 12:26:38 UTC 2020)\n",
       "(EPL source distribution)\n",
       "Java Runtime: OpenJDK Runtime Environment\n",
       "JVM: OpenJDK 64-Bit Server VM\n",
       "Default Encoding: UTF-8\n",
       "Language: en\n",
       "Country: null\n",
       "--></g></svg>"
      ]
     },
     "execution_count": 5,
     "metadata": {},
     "output_type": "execute_result"
    }
   ],
   "source": [
    "%viz --style=\"COMPTREE\" --view=\"Interconnection\" \"QualifiedNameImportTest\""
   ]
  },
  {
   "cell_type": "code",
   "execution_count": 6,
   "id": "b9f0a2af",
   "metadata": {
    "execution": {
     "iopub.execute_input": "2021-10-25T08:23:43.299199Z",
     "iopub.status.busy": "2021-10-25T08:23:43.298798Z",
     "iopub.status.idle": "2021-10-25T08:23:43.306062Z",
     "shell.execute_reply": "2021-10-25T08:23:43.306379Z"
    }
   },
   "outputs": [
    {
     "data": {
      "image/svg+xml": [
       "<?xml version=\"1.0\" encoding=\"UTF-8\" standalone=\"no\"?><svg xmlns=\"http://www.w3.org/2000/svg\" xmlns:xlink=\"http://www.w3.org/1999/xlink\" contentScriptType=\"application/ecmascript\" contentStyleType=\"text/css\" height=\"12px\" preserveAspectRatio=\"none\" style=\"width:12px;height:12px;\" version=\"1.1\" viewBox=\"0 0 12 12\" width=\"12px\" zoomAndPan=\"magnify\"><defs/><g><!--MD5=[655b888544ca4751ea36af1068543f84]\n",
       "@startuml\r\n",
       "skinparam ranksep 8\r\n",
       " skinparam monochrome true\r\n",
       "skinparam classbackgroundcolor white\r\n",
       "skinparam shadowing false\r\n",
       "skinparam wrapWidth 300\r\n",
       "hide circle\r\n",
       "\r\n",
       "@enduml\r\n",
       "\n",
       "PlantUML version 1.2020.13(Sat Jun 13 12:26:38 UTC 2020)\n",
       "(EPL source distribution)\n",
       "Java Runtime: OpenJDK Runtime Environment\n",
       "JVM: OpenJDK 64-Bit Server VM\n",
       "Default Encoding: UTF-8\n",
       "Language: en\n",
       "Country: null\n",
       "--></g></svg>"
      ]
     },
     "execution_count": 6,
     "metadata": {},
     "output_type": "execute_result"
    }
   ],
   "source": [
    "%viz --style=\"COMPTREE\" --view=\"Action\" \"QualifiedNameImportTest\""
   ]
  },
  {
   "cell_type": "code",
   "execution_count": 7,
   "id": "59035986",
   "metadata": {
    "execution": {
     "iopub.execute_input": "2021-10-25T08:23:43.356629Z",
     "iopub.status.busy": "2021-10-25T08:23:43.356218Z",
     "iopub.status.idle": "2021-10-25T08:23:43.368889Z",
     "shell.execute_reply": "2021-10-25T08:23:43.369200Z"
    }
   },
   "outputs": [
    {
     "data": {
      "image/svg+xml": [
       "<?xml version=\"1.0\" encoding=\"UTF-8\" standalone=\"no\"?><svg xmlns=\"http://www.w3.org/2000/svg\" xmlns:xlink=\"http://www.w3.org/1999/xlink\" contentScriptType=\"application/ecmascript\" contentStyleType=\"text/css\" height=\"12px\" preserveAspectRatio=\"none\" style=\"width:12px;height:12px;\" version=\"1.1\" viewBox=\"0 0 12 12\" width=\"12px\" zoomAndPan=\"magnify\"><defs/><g><!--MD5=[803fc46c337be7a5c8a9831e35356779]\n",
       "@startuml\r\n",
       "skinparam roundcorner 20\r\n",
       "skinparam BoxPadding 20\r\n",
       "skinparam SequenceBoxBackgroundColor #white\r\n",
       "skinparam style strictuml\r\n",
       "skinparam maxMessageSize 100\r\n",
       " skinparam monochrome true\r\n",
       "skinparam classbackgroundcolor white\r\n",
       "skinparam shadowing false\r\n",
       "skinparam wrapWidth 300\r\n",
       "hide circle\r\n",
       "\r\n",
       "@enduml\r\n",
       "\n",
       "PlantUML version 1.2020.13(Sat Jun 13 12:26:38 UTC 2020)\n",
       "(EPL source distribution)\n",
       "Java Runtime: OpenJDK Runtime Environment\n",
       "JVM: OpenJDK 64-Bit Server VM\n",
       "Default Encoding: UTF-8\n",
       "Language: en\n",
       "Country: null\n",
       "--></g></svg>"
      ]
     },
     "execution_count": 7,
     "metadata": {},
     "output_type": "execute_result"
    }
   ],
   "source": [
    "%viz --style=\"COMPTREE\" --view=\"Sequence\" \"QualifiedNameImportTest\""
   ]
  },
  {
   "cell_type": "code",
   "execution_count": 8,
   "id": "9fe289c7",
   "metadata": {
    "execution": {
     "iopub.execute_input": "2021-10-25T08:23:43.419185Z",
     "iopub.status.busy": "2021-10-25T08:23:43.418784Z",
     "iopub.status.idle": "2021-10-25T08:23:43.459187Z",
     "shell.execute_reply": "2021-10-25T08:23:43.458853Z"
    }
   },
   "outputs": [
    {
     "data": {
      "image/svg+xml": [
       "<?xml version=\"1.0\" encoding=\"UTF-8\" standalone=\"no\"?><svg xmlns=\"http://www.w3.org/2000/svg\" xmlns:xlink=\"http://www.w3.org/1999/xlink\" contentScriptType=\"application/ecmascript\" contentStyleType=\"text/css\" height=\"310px\" preserveAspectRatio=\"none\" style=\"width:241px;height:310px;\" version=\"1.1\" viewBox=\"0 0 241 310\" width=\"241px\" zoomAndPan=\"magnify\"><defs/><g><!--MD5=[fbc87193dbaf4d95561dea2c320d4a47]\n",
       "cluster E1--><a href=\"psysml:a2205de8-88da-4a82-9d0c-530bb72328d3\" target=\"_top\" title=\"psysml:a2205de8-88da-4a82-9d0c-530bb72328d3\" xlink:actuate=\"onRequest\" xlink:href=\"psysml:a2205de8-88da-4a82-9d0c-530bb72328d3\" xlink:show=\"new\" xlink:title=\"psysml:a2205de8-88da-4a82-9d0c-530bb72328d3\" xlink:type=\"simple\"><polygon fill=\"#FFFFFF\" points=\"16,6,196,6,203,28.2969,219,28.2969,219,298,16,298,16,6\" style=\"stroke: #000000; stroke-width: 1.5;\"/><line style=\"stroke: #000000; stroke-width: 1.5;\" x1=\"16\" x2=\"203\" y1=\"28.2969\" y2=\"28.2969\"/><text fill=\"#000000\" font-family=\"sans-serif\" font-size=\"14\" font-weight=\"bold\" lengthAdjust=\"spacingAndGlyphs\" textLength=\"174\" x=\"20\" y=\"20.9951\">QualifiedNameImportTest</text></a><!--MD5=[e4f7fae6ed58524ba242bb0b0d3be6b7]\n",
       "cluster E2--><a href=\"psysml:e0b1ca8b-31cf-4033-8a32-a89f430be7de\" target=\"_top\" title=\"psysml:e0b1ca8b-31cf-4033-8a32-a89f430be7de\" xlink:actuate=\"onRequest\" xlink:href=\"psysml:e0b1ca8b-31cf-4033-8a32-a89f430be7de\" xlink:show=\"new\" xlink:title=\"psysml:e0b1ca8b-31cf-4033-8a32-a89f430be7de\" xlink:type=\"simple\"><polygon fill=\"#FFFFFF\" points=\"93,177,117,177,124,199.2969,195,199.2969,195,274,93,274,93,177\" style=\"stroke: #000000; stroke-width: 1.5;\"/><line style=\"stroke: #000000; stroke-width: 1.5;\" x1=\"93\" x2=\"124\" y1=\"199.2969\" y2=\"199.2969\"/><text fill=\"#000000\" font-family=\"sans-serif\" font-size=\"14\" font-weight=\"bold\" lengthAdjust=\"spacingAndGlyphs\" textLength=\"18\" x=\"97\" y=\"191.9951\">P1</text></a><!--MD5=[f6df4d0ebaf0b5dfb2ced0ae5af7c670]\n",
       "cluster E4--><a href=\"psysml:9d5af9ae-79ba-44ae-999f-9385e3e881ff\" target=\"_top\" title=\"psysml:9d5af9ae-79ba-44ae-999f-9385e3e881ff\" xlink:actuate=\"onRequest\" xlink:href=\"psysml:9d5af9ae-79ba-44ae-999f-9385e3e881ff\" xlink:show=\"new\" xlink:title=\"psysml:9d5af9ae-79ba-44ae-999f-9385e3e881ff\" xlink:type=\"simple\"><polygon fill=\"#FFFFFF\" points=\"40,49,64,49,71,71.2969,195,71.2969,195,153,40,153,40,49\" style=\"stroke: #000000; stroke-width: 1.5;\"/><line style=\"stroke: #000000; stroke-width: 1.5;\" x1=\"40\" x2=\"71\" y1=\"71.2969\" y2=\"71.2969\"/><text fill=\"#000000\" font-family=\"sans-serif\" font-size=\"14\" font-weight=\"bold\" lengthAdjust=\"spacingAndGlyphs\" textLength=\"18\" x=\"44\" y=\"63.9951\">P2</text></a><!--MD5=[09b614a08d8cba4a07c9adeb5e0fee81]\n",
       "class E3--><a href=\"psysml:b95e347b-a360-4ede-8f45-88f4f6a9f0a4\" target=\"_top\" title=\"psysml:b95e347b-a360-4ede-8f45-88f4f6a9f0a4\" xlink:actuate=\"onRequest\" xlink:href=\"psysml:b95e347b-a360-4ede-8f45-88f4f6a9f0a4\" xlink:show=\"new\" xlink:title=\"psysml:b95e347b-a360-4ede-8f45-88f4f6a9f0a4\" xlink:type=\"simple\"><rect fill=\"#FFFFFF\" height=\"45.9375\" id=\"E3\" style=\"stroke: #383838; stroke-width: 1.5;\" width=\"70\" x=\"109\" y=\"212\"/><text fill=\"#000000\" font-family=\"sans-serif\" font-size=\"12\" font-style=\"italic\" lengthAdjust=\"spacingAndGlyphs\" textLength=\"68\" x=\"110\" y=\"228.1387\">«part  def»</text><text fill=\"#000000\" font-family=\"sans-serif\" font-size=\"12\" lengthAdjust=\"spacingAndGlyphs\" textLength=\"8\" x=\"140\" y=\"242.1074\">A</text><line style=\"stroke: #383838; stroke-width: 1.5;\" x1=\"110\" x2=\"178\" y1=\"249.9375\" y2=\"249.9375\"/></a><!--MD5=[60a26617385b1d2d0262a64233df1f8d]\n",
       "class E6--><a href=\"psysml:8ace276a-6fab-4d9f-9bdd-b9a7961474a1\" target=\"_top\" title=\"psysml:8ace276a-6fab-4d9f-9bdd-b9a7961474a1\" xlink:actuate=\"onRequest\" xlink:href=\"psysml:8ace276a-6fab-4d9f-9bdd-b9a7961474a1\" xlink:show=\"new\" xlink:title=\"psysml:8ace276a-6fab-4d9f-9bdd-b9a7961474a1\" xlink:type=\"simple\"><rect fill=\"#FFFFFF\" height=\"45.9375\" id=\"E6\" rx=\"10\" ry=\"10\" style=\"stroke: #383838; stroke-width: 1.5;\" width=\"42\" x=\"137\" y=\"87.5\"/><text fill=\"#000000\" font-family=\"sans-serif\" font-size=\"12\" font-style=\"italic\" lengthAdjust=\"spacingAndGlyphs\" textLength=\"40\" x=\"138\" y=\"103.6387\">«part»</text><text fill=\"#000000\" font-family=\"sans-serif\" font-size=\"12\" lengthAdjust=\"spacingAndGlyphs\" textLength=\"22\" x=\"145\" y=\"117.6074\">x: A</text><line style=\"stroke: #383838; stroke-width: 1.5;\" x1=\"138\" x2=\"178\" y1=\"125.4375\" y2=\"125.4375\"/></a><a href=\"psysml:b9f88b2a-f312-44cc-a9e4-c89396ff9243\" target=\"_top\" title=\"psysml:b9f88b2a-f312-44cc-a9e4-c89396ff9243\" xlink:actuate=\"onRequest\" xlink:href=\"psysml:b9f88b2a-f312-44cc-a9e4-c89396ff9243\" xlink:show=\"new\" xlink:title=\"psysml:b9f88b2a-f312-44cc-a9e4-c89396ff9243\" xlink:type=\"simple\"><polygon fill=\"#FFFFFF\" points=\"56,84,88,84,95,106.2969,102,106.2969,102,136.5938,56,136.5938,56,84\" style=\"stroke: #000000; stroke-width: 1.5;\"/><line style=\"stroke: #000000; stroke-width: 1.5;\" x1=\"56\" x2=\"95\" y1=\"106.2969\" y2=\"106.2969\"/><text fill=\"#000000\" font-family=\"sans-serif\" font-size=\"14\" font-weight=\"bold\" lengthAdjust=\"spacingAndGlyphs\" textLength=\"26\" x=\"60\" y=\"98.9951\">P2a</text></a><!--MD5=[a717450b82c80b9240a525fa862496af]\n",
       "link E6 to E3--><a href=\"psysml:3b068d74-51f4-4206-8ca3-dd0a14e18b44\" target=\"_top\" title=\"psysml:3b068d74-51f4-4206-8ca3-dd0a14e18b44\" xlink:actuate=\"onRequest\" xlink:href=\"psysml:3b068d74-51f4-4206-8ca3-dd0a14e18b44\" xlink:show=\"new\" xlink:title=\"psysml:3b068d74-51f4-4206-8ca3-dd0a14e18b44\" xlink:type=\"simple\"><path d=\"M155.46,133.68 C153.61,149.9 151.04,172.39 148.8,191.96 \" fill=\"none\" id=\"E6-&gt;E3\" style=\"stroke: #383838; stroke-width: 1.0;\"/><polygon fill=\"#FFFFFF\" points=\"146.52,211.98,141.7231,192.308,155.6325,193.8979,146.52,211.98\" style=\"stroke: #383838; stroke-width: 1.0;\"/><ellipse cx=\"144.3574\" cy=\"186.872\" fill=\"#383838\" rx=\"2\" ry=\"2\" style=\"stroke: #383838; stroke-width: 1.0;\"/><ellipse cx=\"154.2928\" cy=\"188.0076\" fill=\"#383838\" rx=\"2\" ry=\"2\" style=\"stroke: #383838; stroke-width: 1.0;\"/></a><!--MD5=[87ce5331930e6c2bc15d4bf4acc5056d]\n",
       "@startuml\r\n",
       " skinparam monochrome true\r\n",
       "skinparam classbackgroundcolor white\r\n",
       "skinparam shadowing false\r\n",
       "skinparam wrapWidth 300\r\n",
       "hide circle\r\n",
       "\r\n",
       "package \"QualifiedNameImportTest\" as E1  [[psysml:a2205de8-88da-4a82-9d0c-530bb72328d3 ]]  {\r\n",
       "package \"P1\" as E2  [[psysml:e0b1ca8b-31cf-4033-8a32-a89f430be7de ]]  {\r\n",
       "comp def \"A\" as E3  <<(T,blue) part  def>> [[psysml:b95e347b-a360-4ede-8f45-88f4f6a9f0a4 ]] {\r\n",
       "}\r\n",
       "}\r\n",
       "package \"P2\" as E4  [[psysml:9d5af9ae-79ba-44ae-999f-9385e3e881ff ]]  {\r\n",
       "package \"P2a\" as E5  [[psysml:b9f88b2a-f312-44cc-a9e4-c89396ff9243 ]]  {\r\n",
       "}\r\n",
       "comp usage \"x: A \" as E6  <<(T,blue) part>> [[psysml:8ace276a-6fab-4d9f-9bdd-b9a7961474a1 ]] {\r\n",
       "}\r\n",
       "}\r\n",
       "}\r\n",
       "E6 - -:|> E3 [[psysml:3b068d74-51f4-4206-8ca3-dd0a14e18b44 ]] \r\n",
       "@enduml\r\n",
       "\n",
       "PlantUML version 1.2020.13(Sat Jun 13 12:26:38 UTC 2020)\n",
       "(EPL source distribution)\n",
       "Java Runtime: OpenJDK Runtime Environment\n",
       "JVM: OpenJDK 64-Bit Server VM\n",
       "Default Encoding: UTF-8\n",
       "Language: en\n",
       "Country: null\n",
       "--></g></svg>"
      ]
     },
     "execution_count": 8,
     "metadata": {},
     "output_type": "execute_result"
    }
   ],
   "source": [
    "%viz --style=\"COMPTREE\" --view=\"MIXED\" \"QualifiedNameImportTest\""
   ]
  },
  {
   "cell_type": "code",
   "execution_count": 9,
   "id": "ce19f750",
   "metadata": {
    "execution": {
     "iopub.execute_input": "2021-10-25T08:23:43.508608Z",
     "iopub.status.busy": "2021-10-25T08:23:43.508192Z",
     "iopub.status.idle": "2021-10-25T08:23:43.540340Z",
     "shell.execute_reply": "2021-10-25T08:23:43.537953Z"
    }
   },
   "outputs": [
    {
     "data": {
      "image/svg+xml": [
       "<?xml version=\"1.0\" encoding=\"UTF-8\" standalone=\"no\"?><svg xmlns=\"http://www.w3.org/2000/svg\" xmlns:xlink=\"http://www.w3.org/1999/xlink\" contentScriptType=\"application/ecmascript\" contentStyleType=\"text/css\" height=\"310px\" preserveAspectRatio=\"none\" style=\"width:241px;height:310px;\" version=\"1.1\" viewBox=\"0 0 241 310\" width=\"241px\" zoomAndPan=\"magnify\"><defs/><g><!--MD5=[fbc87193dbaf4d95561dea2c320d4a47]\n",
       "cluster E1--><a href=\"psysml:a2205de8-88da-4a82-9d0c-530bb72328d3\" target=\"_top\" title=\"psysml:a2205de8-88da-4a82-9d0c-530bb72328d3\" xlink:actuate=\"onRequest\" xlink:href=\"psysml:a2205de8-88da-4a82-9d0c-530bb72328d3\" xlink:show=\"new\" xlink:title=\"psysml:a2205de8-88da-4a82-9d0c-530bb72328d3\" xlink:type=\"simple\"><polygon fill=\"#FFFFFF\" points=\"16,6,196,6,203,28.2969,219,28.2969,219,298,16,298,16,6\" style=\"stroke: #000000; stroke-width: 1.5;\"/><line style=\"stroke: #000000; stroke-width: 1.5;\" x1=\"16\" x2=\"203\" y1=\"28.2969\" y2=\"28.2969\"/><text fill=\"#000000\" font-family=\"sans-serif\" font-size=\"14\" font-weight=\"bold\" lengthAdjust=\"spacingAndGlyphs\" textLength=\"174\" x=\"20\" y=\"20.9951\">QualifiedNameImportTest</text></a><!--MD5=[e4f7fae6ed58524ba242bb0b0d3be6b7]\n",
       "cluster E2--><a href=\"psysml:e0b1ca8b-31cf-4033-8a32-a89f430be7de\" target=\"_top\" title=\"psysml:e0b1ca8b-31cf-4033-8a32-a89f430be7de\" xlink:actuate=\"onRequest\" xlink:href=\"psysml:e0b1ca8b-31cf-4033-8a32-a89f430be7de\" xlink:show=\"new\" xlink:title=\"psysml:e0b1ca8b-31cf-4033-8a32-a89f430be7de\" xlink:type=\"simple\"><polygon fill=\"#FFFFFF\" points=\"93,177,117,177,124,199.2969,195,199.2969,195,274,93,274,93,177\" style=\"stroke: #000000; stroke-width: 1.5;\"/><line style=\"stroke: #000000; stroke-width: 1.5;\" x1=\"93\" x2=\"124\" y1=\"199.2969\" y2=\"199.2969\"/><text fill=\"#000000\" font-family=\"sans-serif\" font-size=\"14\" font-weight=\"bold\" lengthAdjust=\"spacingAndGlyphs\" textLength=\"18\" x=\"97\" y=\"191.9951\">P1</text></a><!--MD5=[f6df4d0ebaf0b5dfb2ced0ae5af7c670]\n",
       "cluster E4--><a href=\"psysml:9d5af9ae-79ba-44ae-999f-9385e3e881ff\" target=\"_top\" title=\"psysml:9d5af9ae-79ba-44ae-999f-9385e3e881ff\" xlink:actuate=\"onRequest\" xlink:href=\"psysml:9d5af9ae-79ba-44ae-999f-9385e3e881ff\" xlink:show=\"new\" xlink:title=\"psysml:9d5af9ae-79ba-44ae-999f-9385e3e881ff\" xlink:type=\"simple\"><polygon fill=\"#FFFFFF\" points=\"40,49,64,49,71,71.2969,195,71.2969,195,153,40,153,40,49\" style=\"stroke: #000000; stroke-width: 1.5;\"/><line style=\"stroke: #000000; stroke-width: 1.5;\" x1=\"40\" x2=\"71\" y1=\"71.2969\" y2=\"71.2969\"/><text fill=\"#000000\" font-family=\"sans-serif\" font-size=\"14\" font-weight=\"bold\" lengthAdjust=\"spacingAndGlyphs\" textLength=\"18\" x=\"44\" y=\"63.9951\">P2</text></a><!--MD5=[09b614a08d8cba4a07c9adeb5e0fee81]\n",
       "class E3--><a href=\"psysml:b95e347b-a360-4ede-8f45-88f4f6a9f0a4\" target=\"_top\" title=\"psysml:b95e347b-a360-4ede-8f45-88f4f6a9f0a4\" xlink:actuate=\"onRequest\" xlink:href=\"psysml:b95e347b-a360-4ede-8f45-88f4f6a9f0a4\" xlink:show=\"new\" xlink:title=\"psysml:b95e347b-a360-4ede-8f45-88f4f6a9f0a4\" xlink:type=\"simple\"><rect fill=\"#FFFFFF\" height=\"45.9375\" id=\"E3\" style=\"stroke: #383838; stroke-width: 1.5;\" width=\"70\" x=\"109\" y=\"212\"/><text fill=\"#000000\" font-family=\"sans-serif\" font-size=\"12\" font-style=\"italic\" lengthAdjust=\"spacingAndGlyphs\" textLength=\"68\" x=\"110\" y=\"228.1387\">«part  def»</text><text fill=\"#000000\" font-family=\"sans-serif\" font-size=\"12\" lengthAdjust=\"spacingAndGlyphs\" textLength=\"8\" x=\"140\" y=\"242.1074\">A</text><line style=\"stroke: #383838; stroke-width: 1.5;\" x1=\"110\" x2=\"178\" y1=\"249.9375\" y2=\"249.9375\"/></a><!--MD5=[60a26617385b1d2d0262a64233df1f8d]\n",
       "class E6--><a href=\"psysml:8ace276a-6fab-4d9f-9bdd-b9a7961474a1\" target=\"_top\" title=\"psysml:8ace276a-6fab-4d9f-9bdd-b9a7961474a1\" xlink:actuate=\"onRequest\" xlink:href=\"psysml:8ace276a-6fab-4d9f-9bdd-b9a7961474a1\" xlink:show=\"new\" xlink:title=\"psysml:8ace276a-6fab-4d9f-9bdd-b9a7961474a1\" xlink:type=\"simple\"><rect fill=\"#FFFFFF\" height=\"45.9375\" id=\"E6\" rx=\"10\" ry=\"10\" style=\"stroke: #383838; stroke-width: 1.5;\" width=\"42\" x=\"137\" y=\"87.5\"/><text fill=\"#000000\" font-family=\"sans-serif\" font-size=\"12\" font-style=\"italic\" lengthAdjust=\"spacingAndGlyphs\" textLength=\"40\" x=\"138\" y=\"103.6387\">«part»</text><text fill=\"#000000\" font-family=\"sans-serif\" font-size=\"12\" lengthAdjust=\"spacingAndGlyphs\" textLength=\"22\" x=\"145\" y=\"117.6074\">x: A</text><line style=\"stroke: #383838; stroke-width: 1.5;\" x1=\"138\" x2=\"178\" y1=\"125.4375\" y2=\"125.4375\"/></a><a href=\"psysml:b9f88b2a-f312-44cc-a9e4-c89396ff9243\" target=\"_top\" title=\"psysml:b9f88b2a-f312-44cc-a9e4-c89396ff9243\" xlink:actuate=\"onRequest\" xlink:href=\"psysml:b9f88b2a-f312-44cc-a9e4-c89396ff9243\" xlink:show=\"new\" xlink:title=\"psysml:b9f88b2a-f312-44cc-a9e4-c89396ff9243\" xlink:type=\"simple\"><polygon fill=\"#FFFFFF\" points=\"56,84,88,84,95,106.2969,102,106.2969,102,136.5938,56,136.5938,56,84\" style=\"stroke: #000000; stroke-width: 1.5;\"/><line style=\"stroke: #000000; stroke-width: 1.5;\" x1=\"56\" x2=\"95\" y1=\"106.2969\" y2=\"106.2969\"/><text fill=\"#000000\" font-family=\"sans-serif\" font-size=\"14\" font-weight=\"bold\" lengthAdjust=\"spacingAndGlyphs\" textLength=\"26\" x=\"60\" y=\"98.9951\">P2a</text></a><!--MD5=[a717450b82c80b9240a525fa862496af]\n",
       "link E6 to E3--><a href=\"psysml:3b068d74-51f4-4206-8ca3-dd0a14e18b44\" target=\"_top\" title=\"psysml:3b068d74-51f4-4206-8ca3-dd0a14e18b44\" xlink:actuate=\"onRequest\" xlink:href=\"psysml:3b068d74-51f4-4206-8ca3-dd0a14e18b44\" xlink:show=\"new\" xlink:title=\"psysml:3b068d74-51f4-4206-8ca3-dd0a14e18b44\" xlink:type=\"simple\"><path d=\"M155.46,133.68 C153.61,149.9 151.04,172.39 148.8,191.96 \" fill=\"none\" id=\"E6-&gt;E3\" style=\"stroke: #383838; stroke-width: 1.0;\"/><polygon fill=\"#FFFFFF\" points=\"146.52,211.98,141.7231,192.308,155.6325,193.8979,146.52,211.98\" style=\"stroke: #383838; stroke-width: 1.0;\"/><ellipse cx=\"144.3574\" cy=\"186.872\" fill=\"#383838\" rx=\"2\" ry=\"2\" style=\"stroke: #383838; stroke-width: 1.0;\"/><ellipse cx=\"154.2928\" cy=\"188.0076\" fill=\"#383838\" rx=\"2\" ry=\"2\" style=\"stroke: #383838; stroke-width: 1.0;\"/></a><!--MD5=[4a34d0fdac976b26d3dc3e047c75f62c]\n",
       "@startuml\r\n",
       "skinparam linetype polyline\r\n",
       "skinparam monochrome true\r\n",
       "skinparam classbackgroundcolor white\r\n",
       "skinparam shadowing false\r\n",
       "skinparam wrapWidth 300\r\n",
       "hide circle\r\n",
       "\r\n",
       "package \"QualifiedNameImportTest\" as E1  [[psysml:a2205de8-88da-4a82-9d0c-530bb72328d3 ]]  {\r\n",
       "package \"P1\" as E2  [[psysml:e0b1ca8b-31cf-4033-8a32-a89f430be7de ]]  {\r\n",
       "comp def \"A\" as E3  <<(T,blue) part  def>> [[psysml:b95e347b-a360-4ede-8f45-88f4f6a9f0a4 ]] {\r\n",
       "}\r\n",
       "}\r\n",
       "package \"P2\" as E4  [[psysml:9d5af9ae-79ba-44ae-999f-9385e3e881ff ]]  {\r\n",
       "package \"P2a\" as E5  [[psysml:b9f88b2a-f312-44cc-a9e4-c89396ff9243 ]]  {\r\n",
       "}\r\n",
       "comp usage \"x: A \" as E6  <<(T,blue) part>> [[psysml:8ace276a-6fab-4d9f-9bdd-b9a7961474a1 ]] {\r\n",
       "}\r\n",
       "}\r\n",
       "}\r\n",
       "E6 - -:|> E3 [[psysml:3b068d74-51f4-4206-8ca3-dd0a14e18b44 ]] \r\n",
       "@enduml\r\n",
       "\n",
       "PlantUML version 1.2020.13(Sat Jun 13 12:26:38 UTC 2020)\n",
       "(EPL source distribution)\n",
       "Java Runtime: OpenJDK Runtime Environment\n",
       "JVM: OpenJDK 64-Bit Server VM\n",
       "Default Encoding: UTF-8\n",
       "Language: en\n",
       "Country: null\n",
       "--></g></svg>"
      ]
     },
     "execution_count": 9,
     "metadata": {},
     "output_type": "execute_result"
    }
   ],
   "source": [
    "%viz --style=\"POLYLINE\" --view=\"Default\" \"QualifiedNameImportTest\""
   ]
  },
  {
   "cell_type": "code",
   "execution_count": 10,
   "id": "81f2be79",
   "metadata": {
    "execution": {
     "iopub.execute_input": "2021-10-25T08:23:43.589013Z",
     "iopub.status.busy": "2021-10-25T08:23:43.588588Z",
     "iopub.status.idle": "2021-10-25T08:23:43.627662Z",
     "shell.execute_reply": "2021-10-25T08:23:43.627274Z"
    }
   },
   "outputs": [
    {
     "data": {
      "image/svg+xml": [
       "<?xml version=\"1.0\" encoding=\"UTF-8\" standalone=\"no\"?><svg xmlns=\"http://www.w3.org/2000/svg\" xmlns:xlink=\"http://www.w3.org/1999/xlink\" contentScriptType=\"application/ecmascript\" contentStyleType=\"text/css\" height=\"310px\" preserveAspectRatio=\"none\" style=\"width:241px;height:310px;\" version=\"1.1\" viewBox=\"0 0 241 310\" width=\"241px\" zoomAndPan=\"magnify\"><defs/><g><!--MD5=[fbc87193dbaf4d95561dea2c320d4a47]\n",
       "cluster E1--><a href=\"psysml:a2205de8-88da-4a82-9d0c-530bb72328d3\" target=\"_top\" title=\"psysml:a2205de8-88da-4a82-9d0c-530bb72328d3\" xlink:actuate=\"onRequest\" xlink:href=\"psysml:a2205de8-88da-4a82-9d0c-530bb72328d3\" xlink:show=\"new\" xlink:title=\"psysml:a2205de8-88da-4a82-9d0c-530bb72328d3\" xlink:type=\"simple\"><polygon fill=\"#FFFFFF\" points=\"16,6,196,6,203,28.2969,219,28.2969,219,298,16,298,16,6\" style=\"stroke: #000000; stroke-width: 1.5;\"/><line style=\"stroke: #000000; stroke-width: 1.5;\" x1=\"16\" x2=\"203\" y1=\"28.2969\" y2=\"28.2969\"/><text fill=\"#000000\" font-family=\"sans-serif\" font-size=\"14\" font-weight=\"bold\" lengthAdjust=\"spacingAndGlyphs\" textLength=\"174\" x=\"20\" y=\"20.9951\">QualifiedNameImportTest</text></a><!--MD5=[e4f7fae6ed58524ba242bb0b0d3be6b7]\n",
       "cluster E2--><a href=\"psysml:e0b1ca8b-31cf-4033-8a32-a89f430be7de\" target=\"_top\" title=\"psysml:e0b1ca8b-31cf-4033-8a32-a89f430be7de\" xlink:actuate=\"onRequest\" xlink:href=\"psysml:e0b1ca8b-31cf-4033-8a32-a89f430be7de\" xlink:show=\"new\" xlink:title=\"psysml:e0b1ca8b-31cf-4033-8a32-a89f430be7de\" xlink:type=\"simple\"><polygon fill=\"#FFFFFF\" points=\"93,177,117,177,124,199.2969,195,199.2969,195,274,93,274,93,177\" style=\"stroke: #000000; stroke-width: 1.5;\"/><line style=\"stroke: #000000; stroke-width: 1.5;\" x1=\"93\" x2=\"124\" y1=\"199.2969\" y2=\"199.2969\"/><text fill=\"#000000\" font-family=\"sans-serif\" font-size=\"14\" font-weight=\"bold\" lengthAdjust=\"spacingAndGlyphs\" textLength=\"18\" x=\"97\" y=\"191.9951\">P1</text></a><!--MD5=[f6df4d0ebaf0b5dfb2ced0ae5af7c670]\n",
       "cluster E4--><a href=\"psysml:9d5af9ae-79ba-44ae-999f-9385e3e881ff\" target=\"_top\" title=\"psysml:9d5af9ae-79ba-44ae-999f-9385e3e881ff\" xlink:actuate=\"onRequest\" xlink:href=\"psysml:9d5af9ae-79ba-44ae-999f-9385e3e881ff\" xlink:show=\"new\" xlink:title=\"psysml:9d5af9ae-79ba-44ae-999f-9385e3e881ff\" xlink:type=\"simple\"><polygon fill=\"#FFFFFF\" points=\"40,49,64,49,71,71.2969,195,71.2969,195,153,40,153,40,49\" style=\"stroke: #000000; stroke-width: 1.5;\"/><line style=\"stroke: #000000; stroke-width: 1.5;\" x1=\"40\" x2=\"71\" y1=\"71.2969\" y2=\"71.2969\"/><text fill=\"#000000\" font-family=\"sans-serif\" font-size=\"14\" font-weight=\"bold\" lengthAdjust=\"spacingAndGlyphs\" textLength=\"18\" x=\"44\" y=\"63.9951\">P2</text></a><!--MD5=[09b614a08d8cba4a07c9adeb5e0fee81]\n",
       "class E3--><a href=\"psysml:b95e347b-a360-4ede-8f45-88f4f6a9f0a4\" target=\"_top\" title=\"psysml:b95e347b-a360-4ede-8f45-88f4f6a9f0a4\" xlink:actuate=\"onRequest\" xlink:href=\"psysml:b95e347b-a360-4ede-8f45-88f4f6a9f0a4\" xlink:show=\"new\" xlink:title=\"psysml:b95e347b-a360-4ede-8f45-88f4f6a9f0a4\" xlink:type=\"simple\"><rect fill=\"#FFFFFF\" height=\"45.9375\" id=\"E3\" style=\"stroke: #383838; stroke-width: 1.5;\" width=\"70\" x=\"109\" y=\"212\"/><text fill=\"#000000\" font-family=\"sans-serif\" font-size=\"12\" font-style=\"italic\" lengthAdjust=\"spacingAndGlyphs\" textLength=\"68\" x=\"110\" y=\"228.1387\">«part  def»</text><text fill=\"#000000\" font-family=\"sans-serif\" font-size=\"12\" lengthAdjust=\"spacingAndGlyphs\" textLength=\"8\" x=\"140\" y=\"242.1074\">A</text><line style=\"stroke: #383838; stroke-width: 1.5;\" x1=\"110\" x2=\"178\" y1=\"249.9375\" y2=\"249.9375\"/></a><!--MD5=[60a26617385b1d2d0262a64233df1f8d]\n",
       "class E6--><a href=\"psysml:8ace276a-6fab-4d9f-9bdd-b9a7961474a1\" target=\"_top\" title=\"psysml:8ace276a-6fab-4d9f-9bdd-b9a7961474a1\" xlink:actuate=\"onRequest\" xlink:href=\"psysml:8ace276a-6fab-4d9f-9bdd-b9a7961474a1\" xlink:show=\"new\" xlink:title=\"psysml:8ace276a-6fab-4d9f-9bdd-b9a7961474a1\" xlink:type=\"simple\"><rect fill=\"#FFFFFF\" height=\"45.9375\" id=\"E6\" rx=\"10\" ry=\"10\" style=\"stroke: #383838; stroke-width: 1.5;\" width=\"42\" x=\"137\" y=\"87.5\"/><text fill=\"#000000\" font-family=\"sans-serif\" font-size=\"12\" font-style=\"italic\" lengthAdjust=\"spacingAndGlyphs\" textLength=\"40\" x=\"138\" y=\"103.6387\">«part»</text><text fill=\"#000000\" font-family=\"sans-serif\" font-size=\"12\" lengthAdjust=\"spacingAndGlyphs\" textLength=\"22\" x=\"145\" y=\"117.6074\">x: A</text><line style=\"stroke: #383838; stroke-width: 1.5;\" x1=\"138\" x2=\"178\" y1=\"125.4375\" y2=\"125.4375\"/></a><a href=\"psysml:b9f88b2a-f312-44cc-a9e4-c89396ff9243\" target=\"_top\" title=\"psysml:b9f88b2a-f312-44cc-a9e4-c89396ff9243\" xlink:actuate=\"onRequest\" xlink:href=\"psysml:b9f88b2a-f312-44cc-a9e4-c89396ff9243\" xlink:show=\"new\" xlink:title=\"psysml:b9f88b2a-f312-44cc-a9e4-c89396ff9243\" xlink:type=\"simple\"><polygon fill=\"#FFFFFF\" points=\"56,84,88,84,95,106.2969,102,106.2969,102,136.5938,56,136.5938,56,84\" style=\"stroke: #000000; stroke-width: 1.5;\"/><line style=\"stroke: #000000; stroke-width: 1.5;\" x1=\"56\" x2=\"95\" y1=\"106.2969\" y2=\"106.2969\"/><text fill=\"#000000\" font-family=\"sans-serif\" font-size=\"14\" font-weight=\"bold\" lengthAdjust=\"spacingAndGlyphs\" textLength=\"26\" x=\"60\" y=\"98.9951\">P2a</text></a><!--MD5=[a717450b82c80b9240a525fa862496af]\n",
       "link E6 to E3--><a href=\"psysml:3b068d74-51f4-4206-8ca3-dd0a14e18b44\" target=\"_top\" title=\"psysml:3b068d74-51f4-4206-8ca3-dd0a14e18b44\" xlink:actuate=\"onRequest\" xlink:href=\"psysml:3b068d74-51f4-4206-8ca3-dd0a14e18b44\" xlink:show=\"new\" xlink:title=\"psysml:3b068d74-51f4-4206-8ca3-dd0a14e18b44\" xlink:type=\"simple\"><path d=\"M155.46,133.68 C153.61,149.9 151.04,172.39 148.8,191.96 \" fill=\"none\" id=\"E6-&gt;E3\" style=\"stroke: #383838; stroke-width: 1.0;\"/><polygon fill=\"#FFFFFF\" points=\"146.52,211.98,141.7231,192.308,155.6325,193.8979,146.52,211.98\" style=\"stroke: #383838; stroke-width: 1.0;\"/><ellipse cx=\"144.3574\" cy=\"186.872\" fill=\"#383838\" rx=\"2\" ry=\"2\" style=\"stroke: #383838; stroke-width: 1.0;\"/><ellipse cx=\"154.2928\" cy=\"188.0076\" fill=\"#383838\" rx=\"2\" ry=\"2\" style=\"stroke: #383838; stroke-width: 1.0;\"/></a><!--MD5=[4a34d0fdac976b26d3dc3e047c75f62c]\n",
       "@startuml\r\n",
       "skinparam linetype polyline\r\n",
       "skinparam monochrome true\r\n",
       "skinparam classbackgroundcolor white\r\n",
       "skinparam shadowing false\r\n",
       "skinparam wrapWidth 300\r\n",
       "hide circle\r\n",
       "\r\n",
       "package \"QualifiedNameImportTest\" as E1  [[psysml:a2205de8-88da-4a82-9d0c-530bb72328d3 ]]  {\r\n",
       "package \"P1\" as E2  [[psysml:e0b1ca8b-31cf-4033-8a32-a89f430be7de ]]  {\r\n",
       "comp def \"A\" as E3  <<(T,blue) part  def>> [[psysml:b95e347b-a360-4ede-8f45-88f4f6a9f0a4 ]] {\r\n",
       "}\r\n",
       "}\r\n",
       "package \"P2\" as E4  [[psysml:9d5af9ae-79ba-44ae-999f-9385e3e881ff ]]  {\r\n",
       "package \"P2a\" as E5  [[psysml:b9f88b2a-f312-44cc-a9e4-c89396ff9243 ]]  {\r\n",
       "}\r\n",
       "comp usage \"x: A \" as E6  <<(T,blue) part>> [[psysml:8ace276a-6fab-4d9f-9bdd-b9a7961474a1 ]] {\r\n",
       "}\r\n",
       "}\r\n",
       "}\r\n",
       "E6 - -:|> E3 [[psysml:3b068d74-51f4-4206-8ca3-dd0a14e18b44 ]] \r\n",
       "@enduml\r\n",
       "\n",
       "PlantUML version 1.2020.13(Sat Jun 13 12:26:38 UTC 2020)\n",
       "(EPL source distribution)\n",
       "Java Runtime: OpenJDK Runtime Environment\n",
       "JVM: OpenJDK 64-Bit Server VM\n",
       "Default Encoding: UTF-8\n",
       "Language: en\n",
       "Country: null\n",
       "--></g></svg>"
      ]
     },
     "execution_count": 10,
     "metadata": {},
     "output_type": "execute_result"
    }
   ],
   "source": [
    "%viz --style=\"POLYLINE\" --view=\"Tree\" \"QualifiedNameImportTest\""
   ]
  },
  {
   "cell_type": "code",
   "execution_count": 11,
   "id": "3a725e72",
   "metadata": {
    "execution": {
     "iopub.execute_input": "2021-10-25T08:23:43.676876Z",
     "iopub.status.busy": "2021-10-25T08:23:43.676452Z",
     "iopub.status.idle": "2021-10-25T08:23:43.683115Z",
     "shell.execute_reply": "2021-10-25T08:23:43.683437Z"
    }
   },
   "outputs": [
    {
     "data": {
      "image/svg+xml": [
       "<?xml version=\"1.0\" encoding=\"UTF-8\" standalone=\"no\"?><svg xmlns=\"http://www.w3.org/2000/svg\" xmlns:xlink=\"http://www.w3.org/1999/xlink\" contentScriptType=\"application/ecmascript\" contentStyleType=\"text/css\" height=\"12px\" preserveAspectRatio=\"none\" style=\"width:12px;height:12px;\" version=\"1.1\" viewBox=\"0 0 12 12\" width=\"12px\" zoomAndPan=\"magnify\"><defs/><g><!--MD5=[896ac0e7a515d8dd7765a661cb4ee08b]\n",
       "@startuml\r\n",
       "skinparam linetype polyline\r\n",
       "skinparam monochrome true\r\n",
       "skinparam classbackgroundcolor white\r\n",
       "skinparam shadowing false\r\n",
       "skinparam wrapWidth 300\r\n",
       "hide circle\r\n",
       "\r\n",
       "@enduml\r\n",
       "\n",
       "PlantUML version 1.2020.13(Sat Jun 13 12:26:38 UTC 2020)\n",
       "(EPL source distribution)\n",
       "Java Runtime: OpenJDK Runtime Environment\n",
       "JVM: OpenJDK 64-Bit Server VM\n",
       "Default Encoding: UTF-8\n",
       "Language: en\n",
       "Country: null\n",
       "--></g></svg>"
      ]
     },
     "execution_count": 11,
     "metadata": {},
     "output_type": "execute_result"
    }
   ],
   "source": [
    "%viz --style=\"POLYLINE\" --view=\"State\" \"QualifiedNameImportTest\""
   ]
  },
  {
   "cell_type": "code",
   "execution_count": 12,
   "id": "d2c09fbf",
   "metadata": {
    "execution": {
     "iopub.execute_input": "2021-10-25T08:23:43.734045Z",
     "iopub.status.busy": "2021-10-25T08:23:43.733601Z",
     "iopub.status.idle": "2021-10-25T08:23:43.768788Z",
     "shell.execute_reply": "2021-10-25T08:23:43.769114Z"
    }
   },
   "outputs": [
    {
     "data": {
      "image/svg+xml": [
       "<?xml version=\"1.0\" encoding=\"UTF-8\" standalone=\"no\"?><svg xmlns=\"http://www.w3.org/2000/svg\" xmlns:xlink=\"http://www.w3.org/1999/xlink\" contentScriptType=\"application/ecmascript\" contentStyleType=\"text/css\" height=\"189px\" preserveAspectRatio=\"none\" style=\"width:379px;height:189px;\" version=\"1.1\" viewBox=\"0 0 379 189\" width=\"379px\" zoomAndPan=\"magnify\"><defs/><g><!--MD5=[fbc87193dbaf4d95561dea2c320d4a47]\n",
       "cluster E1--><a href=\"psysml:a2205de8-88da-4a82-9d0c-530bb72328d3\" target=\"_top\" title=\"psysml:a2205de8-88da-4a82-9d0c-530bb72328d3\" xlink:actuate=\"onRequest\" xlink:href=\"psysml:a2205de8-88da-4a82-9d0c-530bb72328d3\" xlink:show=\"new\" xlink:title=\"psysml:a2205de8-88da-4a82-9d0c-530bb72328d3\" xlink:type=\"simple\"><polygon fill=\"#FFFFFF\" points=\"16,6,196,6,203,28.2969,357,28.2969,357,177,16,177,16,6\" style=\"stroke: #000000; stroke-width: 1.5;\"/><line style=\"stroke: #000000; stroke-width: 1.5;\" x1=\"16\" x2=\"203\" y1=\"28.2969\" y2=\"28.2969\"/><text fill=\"#000000\" font-family=\"sans-serif\" font-size=\"14\" font-weight=\"bold\" lengthAdjust=\"spacingAndGlyphs\" textLength=\"174\" x=\"20\" y=\"20.9951\">QualifiedNameImportTest</text></a><!--MD5=[e4f7fae6ed58524ba242bb0b0d3be6b7]\n",
       "cluster E2--><a href=\"psysml:e0b1ca8b-31cf-4033-8a32-a89f430be7de\" target=\"_top\" title=\"psysml:e0b1ca8b-31cf-4033-8a32-a89f430be7de\" xlink:actuate=\"onRequest\" xlink:href=\"psysml:e0b1ca8b-31cf-4033-8a32-a89f430be7de\" xlink:show=\"new\" xlink:title=\"psysml:e0b1ca8b-31cf-4033-8a32-a89f430be7de\" xlink:type=\"simple\"><polygon fill=\"#FFFFFF\" points=\"227,54,251,54,258,76.2969,333,76.2969,333,148,227,148,227,54\" style=\"stroke: #000000; stroke-width: 1.5;\"/><line style=\"stroke: #000000; stroke-width: 1.5;\" x1=\"227\" x2=\"258\" y1=\"76.2969\" y2=\"76.2969\"/><text fill=\"#000000\" font-family=\"sans-serif\" font-size=\"14\" font-weight=\"bold\" lengthAdjust=\"spacingAndGlyphs\" textLength=\"18\" x=\"231\" y=\"68.9951\">P1</text></a><!--MD5=[f6df4d0ebaf0b5dfb2ced0ae5af7c670]\n",
       "cluster E4--><a href=\"psysml:9d5af9ae-79ba-44ae-999f-9385e3e881ff\" target=\"_top\" title=\"psysml:9d5af9ae-79ba-44ae-999f-9385e3e881ff\" xlink:actuate=\"onRequest\" xlink:href=\"psysml:9d5af9ae-79ba-44ae-999f-9385e3e881ff\" xlink:show=\"new\" xlink:title=\"psysml:9d5af9ae-79ba-44ae-999f-9385e3e881ff\" xlink:type=\"simple\"><polygon fill=\"#FFFFFF\" points=\"40,49,64,49,71,71.2969,203,71.2969,203,153,40,153,40,49\" style=\"stroke: #000000; stroke-width: 1.5;\"/><line style=\"stroke: #000000; stroke-width: 1.5;\" x1=\"40\" x2=\"71\" y1=\"71.2969\" y2=\"71.2969\"/><text fill=\"#000000\" font-family=\"sans-serif\" font-size=\"14\" font-weight=\"bold\" lengthAdjust=\"spacingAndGlyphs\" textLength=\"18\" x=\"44\" y=\"63.9951\">P2</text></a><g id=\"E1.E2.E3\"><a href=\"psysml:b95e347b-a360-4ede-8f45-88f4f6a9f0a4\" target=\"_top\" title=\"psysml:b95e347b-a360-4ede-8f45-88f4f6a9f0a4\" xlink:actuate=\"onRequest\" xlink:href=\"psysml:b95e347b-a360-4ede-8f45-88f4f6a9f0a4\" xlink:show=\"new\" xlink:title=\"psysml:b95e347b-a360-4ede-8f45-88f4f6a9f0a4\" xlink:type=\"simple\"><rect fill=\"#FFFFFF\" height=\"42.9375\" id=\"E3\" style=\"stroke: #383838; stroke-width: 1.5;\" width=\"75\" x=\"242.5\" y=\"89\"/><rect fill=\"#F8F8F8\" height=\"37.9375\" style=\"stroke: #383838; stroke-width: 1.5;\" width=\"75\" x=\"242.5\" y=\"89\"/><text fill=\"#000000\" font-family=\"sans-serif\" font-size=\"12\" font-style=\"italic\" lengthAdjust=\"spacingAndGlyphs\" textLength=\"68\" x=\"246\" y=\"105.1387\">«part  def»</text><text fill=\"#000000\" font-family=\"sans-serif\" font-size=\"12\" lengthAdjust=\"spacingAndGlyphs\" textLength=\"8\" x=\"276\" y=\"119.1074\">A</text></a></g><a href=\"psysml:b9f88b2a-f312-44cc-a9e4-c89396ff9243\" target=\"_top\" title=\"psysml:b9f88b2a-f312-44cc-a9e4-c89396ff9243\" xlink:actuate=\"onRequest\" xlink:href=\"psysml:b9f88b2a-f312-44cc-a9e4-c89396ff9243\" xlink:show=\"new\" xlink:title=\"psysml:b9f88b2a-f312-44cc-a9e4-c89396ff9243\" xlink:type=\"simple\"><polygon fill=\"#FFFFFF\" points=\"141,84,173,84,180,106.2969,187,106.2969,187,136.5938,141,136.5938,141,84\" style=\"stroke: #000000; stroke-width: 1.5;\"/><line style=\"stroke: #000000; stroke-width: 1.5;\" x1=\"141\" x2=\"180\" y1=\"106.2969\" y2=\"106.2969\"/><text fill=\"#000000\" font-family=\"sans-serif\" font-size=\"14\" font-weight=\"bold\" lengthAdjust=\"spacingAndGlyphs\" textLength=\"26\" x=\"145\" y=\"98.9951\">P2a</text></a><g id=\"E1.E4.E6\"><a href=\"psysml:8ace276a-6fab-4d9f-9bdd-b9a7961474a1\" target=\"_top\" title=\"psysml:8ace276a-6fab-4d9f-9bdd-b9a7961474a1\" xlink:actuate=\"onRequest\" xlink:href=\"psysml:8ace276a-6fab-4d9f-9bdd-b9a7961474a1\" xlink:show=\"new\" xlink:title=\"psysml:8ace276a-6fab-4d9f-9bdd-b9a7961474a1\" xlink:type=\"simple\"><rect fill=\"#FFFFFF\" height=\"40\" id=\"E6\" rx=\"10\" ry=\"10\" style=\"stroke: #383838; stroke-width: 1.5;\" width=\"50\" x=\"56\" y=\"90.5\"/><rect fill=\"#F8F8F8\" height=\"23.9688\" rx=\"10\" ry=\"10\" style=\"stroke: #F8F8F8; stroke-width: 1.5;\" width=\"50\" x=\"56\" y=\"90.5\"/><rect fill=\"#F8F8F8\" height=\"10\" style=\"stroke: #F8F8F8; stroke-width: 1.5;\" width=\"50\" x=\"56\" y=\"104.4688\"/><rect fill=\"none\" height=\"40\" id=\"E6\" rx=\"10\" ry=\"10\" style=\"stroke: #383838; stroke-width: 1.5;\" width=\"50\" x=\"56\" y=\"90.5\"/><text fill=\"#000000\" font-family=\"sans-serif\" font-size=\"12\" lengthAdjust=\"spacingAndGlyphs\" textLength=\"22\" x=\"70\" y=\"106.6387\">x: A</text></a></g><!--MD5=[e18b291b057a73689cc7d0734b207054]\n",
       "@startuml\r\n",
       "skinparam ranksep 10\r\n",
       "skinparam rectangle {\r\n",
       " backgroundColor<<block>> LightGreen\r\n",
       "}\r\n",
       "skinparam linetype polyline\r\n",
       "skinparam monochrome true\r\n",
       "skinparam classbackgroundcolor white\r\n",
       "skinparam shadowing false\r\n",
       "skinparam wrapWidth 300\r\n",
       "hide circle\r\n",
       "\r\n",
       "package \"QualifiedNameImportTest\" as E1  [[psysml:a2205de8-88da-4a82-9d0c-530bb72328d3 ]]  {\r\n",
       "package \"P1\" as E2  [[psysml:e0b1ca8b-31cf-4033-8a32-a89f430be7de ]]  {\r\n",
       "rec def \"A\" as E3  <<(T,blue) part  def>> [[psysml:b95e347b-a360-4ede-8f45-88f4f6a9f0a4 ]] {\r\n",
       "}\r\n",
       "}\r\n",
       "package \"P2\" as E4  [[psysml:9d5af9ae-79ba-44ae-999f-9385e3e881ff ]]  {\r\n",
       "package \"P2a\" as E5  [[psysml:b9f88b2a-f312-44cc-a9e4-c89396ff9243 ]]  {\r\n",
       "}\r\n",
       "rec usage \"x: A\" as E6  [[psysml:8ace276a-6fab-4d9f-9bdd-b9a7961474a1 ]] {\r\n",
       "}\r\n",
       "}\r\n",
       "}\r\n",
       "@enduml\r\n",
       "\n",
       "PlantUML version 1.2020.13(Sat Jun 13 12:26:38 UTC 2020)\n",
       "(EPL source distribution)\n",
       "Java Runtime: OpenJDK Runtime Environment\n",
       "JVM: OpenJDK 64-Bit Server VM\n",
       "Default Encoding: UTF-8\n",
       "Language: en\n",
       "Country: null\n",
       "--></g></svg>"
      ]
     },
     "execution_count": 12,
     "metadata": {},
     "output_type": "execute_result"
    }
   ],
   "source": [
    "%viz --style=\"POLYLINE\" --view=\"Interconnection\" \"QualifiedNameImportTest\""
   ]
  },
  {
   "cell_type": "code",
   "execution_count": 13,
   "id": "839ad7d5",
   "metadata": {
    "execution": {
     "iopub.execute_input": "2021-10-25T08:23:43.818689Z",
     "iopub.status.busy": "2021-10-25T08:23:43.818289Z",
     "iopub.status.idle": "2021-10-25T08:23:43.824584Z",
     "shell.execute_reply": "2021-10-25T08:23:43.824906Z"
    }
   },
   "outputs": [
    {
     "data": {
      "image/svg+xml": [
       "<?xml version=\"1.0\" encoding=\"UTF-8\" standalone=\"no\"?><svg xmlns=\"http://www.w3.org/2000/svg\" xmlns:xlink=\"http://www.w3.org/1999/xlink\" contentScriptType=\"application/ecmascript\" contentStyleType=\"text/css\" height=\"12px\" preserveAspectRatio=\"none\" style=\"width:12px;height:12px;\" version=\"1.1\" viewBox=\"0 0 12 12\" width=\"12px\" zoomAndPan=\"magnify\"><defs/><g><!--MD5=[97bbf32f66ccd50cbc40d92ea8f5a65e]\n",
       "@startuml\r\n",
       "skinparam ranksep 8\r\n",
       "skinparam linetype polyline\r\n",
       "skinparam monochrome true\r\n",
       "skinparam classbackgroundcolor white\r\n",
       "skinparam shadowing false\r\n",
       "skinparam wrapWidth 300\r\n",
       "hide circle\r\n",
       "\r\n",
       "@enduml\r\n",
       "\n",
       "PlantUML version 1.2020.13(Sat Jun 13 12:26:38 UTC 2020)\n",
       "(EPL source distribution)\n",
       "Java Runtime: OpenJDK Runtime Environment\n",
       "JVM: OpenJDK 64-Bit Server VM\n",
       "Default Encoding: UTF-8\n",
       "Language: en\n",
       "Country: null\n",
       "--></g></svg>"
      ]
     },
     "execution_count": 13,
     "metadata": {},
     "output_type": "execute_result"
    }
   ],
   "source": [
    "%viz --style=\"POLYLINE\" --view=\"Action\" \"QualifiedNameImportTest\""
   ]
  },
  {
   "cell_type": "code",
   "execution_count": 14,
   "id": "21ef5580",
   "metadata": {
    "execution": {
     "iopub.execute_input": "2021-10-25T08:23:43.874773Z",
     "iopub.status.busy": "2021-10-25T08:23:43.874377Z",
     "iopub.status.idle": "2021-10-25T08:23:43.881293Z",
     "shell.execute_reply": "2021-10-25T08:23:43.881611Z"
    }
   },
   "outputs": [
    {
     "data": {
      "image/svg+xml": [
       "<?xml version=\"1.0\" encoding=\"UTF-8\" standalone=\"no\"?><svg xmlns=\"http://www.w3.org/2000/svg\" xmlns:xlink=\"http://www.w3.org/1999/xlink\" contentScriptType=\"application/ecmascript\" contentStyleType=\"text/css\" height=\"12px\" preserveAspectRatio=\"none\" style=\"width:12px;height:12px;\" version=\"1.1\" viewBox=\"0 0 12 12\" width=\"12px\" zoomAndPan=\"magnify\"><defs/><g><!--MD5=[dc938048236c351797870c36b62f92ad]\n",
       "@startuml\r\n",
       "skinparam roundcorner 20\r\n",
       "skinparam BoxPadding 20\r\n",
       "skinparam SequenceBoxBackgroundColor #white\r\n",
       "skinparam style strictuml\r\n",
       "skinparam maxMessageSize 100\r\n",
       "skinparam linetype polyline\r\n",
       "skinparam monochrome true\r\n",
       "skinparam classbackgroundcolor white\r\n",
       "skinparam shadowing false\r\n",
       "skinparam wrapWidth 300\r\n",
       "hide circle\r\n",
       "\r\n",
       "@enduml\r\n",
       "\n",
       "PlantUML version 1.2020.13(Sat Jun 13 12:26:38 UTC 2020)\n",
       "(EPL source distribution)\n",
       "Java Runtime: OpenJDK Runtime Environment\n",
       "JVM: OpenJDK 64-Bit Server VM\n",
       "Default Encoding: UTF-8\n",
       "Language: en\n",
       "Country: null\n",
       "--></g></svg>"
      ]
     },
     "execution_count": 14,
     "metadata": {},
     "output_type": "execute_result"
    }
   ],
   "source": [
    "%viz --style=\"POLYLINE\" --view=\"Sequence\" \"QualifiedNameImportTest\""
   ]
  },
  {
   "cell_type": "code",
   "execution_count": 15,
   "id": "9d3bd1df",
   "metadata": {
    "execution": {
     "iopub.execute_input": "2021-10-25T08:23:43.931174Z",
     "iopub.status.busy": "2021-10-25T08:23:43.930771Z",
     "iopub.status.idle": "2021-10-25T08:23:43.966613Z",
     "shell.execute_reply": "2021-10-25T08:23:43.966278Z"
    }
   },
   "outputs": [
    {
     "data": {
      "image/svg+xml": [
       "<?xml version=\"1.0\" encoding=\"UTF-8\" standalone=\"no\"?><svg xmlns=\"http://www.w3.org/2000/svg\" xmlns:xlink=\"http://www.w3.org/1999/xlink\" contentScriptType=\"application/ecmascript\" contentStyleType=\"text/css\" height=\"310px\" preserveAspectRatio=\"none\" style=\"width:241px;height:310px;\" version=\"1.1\" viewBox=\"0 0 241 310\" width=\"241px\" zoomAndPan=\"magnify\"><defs/><g><!--MD5=[fbc87193dbaf4d95561dea2c320d4a47]\n",
       "cluster E1--><a href=\"psysml:a2205de8-88da-4a82-9d0c-530bb72328d3\" target=\"_top\" title=\"psysml:a2205de8-88da-4a82-9d0c-530bb72328d3\" xlink:actuate=\"onRequest\" xlink:href=\"psysml:a2205de8-88da-4a82-9d0c-530bb72328d3\" xlink:show=\"new\" xlink:title=\"psysml:a2205de8-88da-4a82-9d0c-530bb72328d3\" xlink:type=\"simple\"><polygon fill=\"#FFFFFF\" points=\"16,6,196,6,203,28.2969,219,28.2969,219,298,16,298,16,6\" style=\"stroke: #000000; stroke-width: 1.5;\"/><line style=\"stroke: #000000; stroke-width: 1.5;\" x1=\"16\" x2=\"203\" y1=\"28.2969\" y2=\"28.2969\"/><text fill=\"#000000\" font-family=\"sans-serif\" font-size=\"14\" font-weight=\"bold\" lengthAdjust=\"spacingAndGlyphs\" textLength=\"174\" x=\"20\" y=\"20.9951\">QualifiedNameImportTest</text></a><!--MD5=[e4f7fae6ed58524ba242bb0b0d3be6b7]\n",
       "cluster E2--><a href=\"psysml:e0b1ca8b-31cf-4033-8a32-a89f430be7de\" target=\"_top\" title=\"psysml:e0b1ca8b-31cf-4033-8a32-a89f430be7de\" xlink:actuate=\"onRequest\" xlink:href=\"psysml:e0b1ca8b-31cf-4033-8a32-a89f430be7de\" xlink:show=\"new\" xlink:title=\"psysml:e0b1ca8b-31cf-4033-8a32-a89f430be7de\" xlink:type=\"simple\"><polygon fill=\"#FFFFFF\" points=\"93,177,117,177,124,199.2969,195,199.2969,195,274,93,274,93,177\" style=\"stroke: #000000; stroke-width: 1.5;\"/><line style=\"stroke: #000000; stroke-width: 1.5;\" x1=\"93\" x2=\"124\" y1=\"199.2969\" y2=\"199.2969\"/><text fill=\"#000000\" font-family=\"sans-serif\" font-size=\"14\" font-weight=\"bold\" lengthAdjust=\"spacingAndGlyphs\" textLength=\"18\" x=\"97\" y=\"191.9951\">P1</text></a><!--MD5=[f6df4d0ebaf0b5dfb2ced0ae5af7c670]\n",
       "cluster E4--><a href=\"psysml:9d5af9ae-79ba-44ae-999f-9385e3e881ff\" target=\"_top\" title=\"psysml:9d5af9ae-79ba-44ae-999f-9385e3e881ff\" xlink:actuate=\"onRequest\" xlink:href=\"psysml:9d5af9ae-79ba-44ae-999f-9385e3e881ff\" xlink:show=\"new\" xlink:title=\"psysml:9d5af9ae-79ba-44ae-999f-9385e3e881ff\" xlink:type=\"simple\"><polygon fill=\"#FFFFFF\" points=\"40,49,64,49,71,71.2969,195,71.2969,195,153,40,153,40,49\" style=\"stroke: #000000; stroke-width: 1.5;\"/><line style=\"stroke: #000000; stroke-width: 1.5;\" x1=\"40\" x2=\"71\" y1=\"71.2969\" y2=\"71.2969\"/><text fill=\"#000000\" font-family=\"sans-serif\" font-size=\"14\" font-weight=\"bold\" lengthAdjust=\"spacingAndGlyphs\" textLength=\"18\" x=\"44\" y=\"63.9951\">P2</text></a><!--MD5=[09b614a08d8cba4a07c9adeb5e0fee81]\n",
       "class E3--><a href=\"psysml:b95e347b-a360-4ede-8f45-88f4f6a9f0a4\" target=\"_top\" title=\"psysml:b95e347b-a360-4ede-8f45-88f4f6a9f0a4\" xlink:actuate=\"onRequest\" xlink:href=\"psysml:b95e347b-a360-4ede-8f45-88f4f6a9f0a4\" xlink:show=\"new\" xlink:title=\"psysml:b95e347b-a360-4ede-8f45-88f4f6a9f0a4\" xlink:type=\"simple\"><rect fill=\"#FFFFFF\" height=\"45.9375\" id=\"E3\" style=\"stroke: #383838; stroke-width: 1.5;\" width=\"70\" x=\"109\" y=\"212\"/><text fill=\"#000000\" font-family=\"sans-serif\" font-size=\"12\" font-style=\"italic\" lengthAdjust=\"spacingAndGlyphs\" textLength=\"68\" x=\"110\" y=\"228.1387\">«part  def»</text><text fill=\"#000000\" font-family=\"sans-serif\" font-size=\"12\" lengthAdjust=\"spacingAndGlyphs\" textLength=\"8\" x=\"140\" y=\"242.1074\">A</text><line style=\"stroke: #383838; stroke-width: 1.5;\" x1=\"110\" x2=\"178\" y1=\"249.9375\" y2=\"249.9375\"/></a><!--MD5=[60a26617385b1d2d0262a64233df1f8d]\n",
       "class E6--><a href=\"psysml:8ace276a-6fab-4d9f-9bdd-b9a7961474a1\" target=\"_top\" title=\"psysml:8ace276a-6fab-4d9f-9bdd-b9a7961474a1\" xlink:actuate=\"onRequest\" xlink:href=\"psysml:8ace276a-6fab-4d9f-9bdd-b9a7961474a1\" xlink:show=\"new\" xlink:title=\"psysml:8ace276a-6fab-4d9f-9bdd-b9a7961474a1\" xlink:type=\"simple\"><rect fill=\"#FFFFFF\" height=\"45.9375\" id=\"E6\" rx=\"10\" ry=\"10\" style=\"stroke: #383838; stroke-width: 1.5;\" width=\"42\" x=\"137\" y=\"87.5\"/><text fill=\"#000000\" font-family=\"sans-serif\" font-size=\"12\" font-style=\"italic\" lengthAdjust=\"spacingAndGlyphs\" textLength=\"40\" x=\"138\" y=\"103.6387\">«part»</text><text fill=\"#000000\" font-family=\"sans-serif\" font-size=\"12\" lengthAdjust=\"spacingAndGlyphs\" textLength=\"22\" x=\"145\" y=\"117.6074\">x: A</text><line style=\"stroke: #383838; stroke-width: 1.5;\" x1=\"138\" x2=\"178\" y1=\"125.4375\" y2=\"125.4375\"/></a><a href=\"psysml:b9f88b2a-f312-44cc-a9e4-c89396ff9243\" target=\"_top\" title=\"psysml:b9f88b2a-f312-44cc-a9e4-c89396ff9243\" xlink:actuate=\"onRequest\" xlink:href=\"psysml:b9f88b2a-f312-44cc-a9e4-c89396ff9243\" xlink:show=\"new\" xlink:title=\"psysml:b9f88b2a-f312-44cc-a9e4-c89396ff9243\" xlink:type=\"simple\"><polygon fill=\"#FFFFFF\" points=\"56,84,88,84,95,106.2969,102,106.2969,102,136.5938,56,136.5938,56,84\" style=\"stroke: #000000; stroke-width: 1.5;\"/><line style=\"stroke: #000000; stroke-width: 1.5;\" x1=\"56\" x2=\"95\" y1=\"106.2969\" y2=\"106.2969\"/><text fill=\"#000000\" font-family=\"sans-serif\" font-size=\"14\" font-weight=\"bold\" lengthAdjust=\"spacingAndGlyphs\" textLength=\"26\" x=\"60\" y=\"98.9951\">P2a</text></a><!--MD5=[a717450b82c80b9240a525fa862496af]\n",
       "link E6 to E3--><a href=\"psysml:3b068d74-51f4-4206-8ca3-dd0a14e18b44\" target=\"_top\" title=\"psysml:3b068d74-51f4-4206-8ca3-dd0a14e18b44\" xlink:actuate=\"onRequest\" xlink:href=\"psysml:3b068d74-51f4-4206-8ca3-dd0a14e18b44\" xlink:show=\"new\" xlink:title=\"psysml:3b068d74-51f4-4206-8ca3-dd0a14e18b44\" xlink:type=\"simple\"><path d=\"M155.46,133.68 C153.61,149.9 151.04,172.39 148.8,191.96 \" fill=\"none\" id=\"E6-&gt;E3\" style=\"stroke: #383838; stroke-width: 1.0;\"/><polygon fill=\"#FFFFFF\" points=\"146.52,211.98,141.7231,192.308,155.6325,193.8979,146.52,211.98\" style=\"stroke: #383838; stroke-width: 1.0;\"/><ellipse cx=\"144.3574\" cy=\"186.872\" fill=\"#383838\" rx=\"2\" ry=\"2\" style=\"stroke: #383838; stroke-width: 1.0;\"/><ellipse cx=\"154.2928\" cy=\"188.0076\" fill=\"#383838\" rx=\"2\" ry=\"2\" style=\"stroke: #383838; stroke-width: 1.0;\"/></a><!--MD5=[4a34d0fdac976b26d3dc3e047c75f62c]\n",
       "@startuml\r\n",
       "skinparam linetype polyline\r\n",
       "skinparam monochrome true\r\n",
       "skinparam classbackgroundcolor white\r\n",
       "skinparam shadowing false\r\n",
       "skinparam wrapWidth 300\r\n",
       "hide circle\r\n",
       "\r\n",
       "package \"QualifiedNameImportTest\" as E1  [[psysml:a2205de8-88da-4a82-9d0c-530bb72328d3 ]]  {\r\n",
       "package \"P1\" as E2  [[psysml:e0b1ca8b-31cf-4033-8a32-a89f430be7de ]]  {\r\n",
       "comp def \"A\" as E3  <<(T,blue) part  def>> [[psysml:b95e347b-a360-4ede-8f45-88f4f6a9f0a4 ]] {\r\n",
       "}\r\n",
       "}\r\n",
       "package \"P2\" as E4  [[psysml:9d5af9ae-79ba-44ae-999f-9385e3e881ff ]]  {\r\n",
       "package \"P2a\" as E5  [[psysml:b9f88b2a-f312-44cc-a9e4-c89396ff9243 ]]  {\r\n",
       "}\r\n",
       "comp usage \"x: A \" as E6  <<(T,blue) part>> [[psysml:8ace276a-6fab-4d9f-9bdd-b9a7961474a1 ]] {\r\n",
       "}\r\n",
       "}\r\n",
       "}\r\n",
       "E6 - -:|> E3 [[psysml:3b068d74-51f4-4206-8ca3-dd0a14e18b44 ]] \r\n",
       "@enduml\r\n",
       "\n",
       "PlantUML version 1.2020.13(Sat Jun 13 12:26:38 UTC 2020)\n",
       "(EPL source distribution)\n",
       "Java Runtime: OpenJDK Runtime Environment\n",
       "JVM: OpenJDK 64-Bit Server VM\n",
       "Default Encoding: UTF-8\n",
       "Language: en\n",
       "Country: null\n",
       "--></g></svg>"
      ]
     },
     "execution_count": 15,
     "metadata": {},
     "output_type": "execute_result"
    }
   ],
   "source": [
    "%viz --style=\"POLYLINE\" --view=\"MIXED\" \"QualifiedNameImportTest\""
   ]
  },
  {
   "cell_type": "code",
   "execution_count": 16,
   "id": "b27d2760",
   "metadata": {
    "execution": {
     "iopub.execute_input": "2021-10-25T08:23:44.016558Z",
     "iopub.status.busy": "2021-10-25T08:23:44.016136Z",
     "iopub.status.idle": "2021-10-25T08:23:44.050738Z",
     "shell.execute_reply": "2021-10-25T08:23:44.051036Z"
    }
   },
   "outputs": [
    {
     "data": {
      "image/svg+xml": [
       "<?xml version=\"1.0\" encoding=\"UTF-8\" standalone=\"no\"?><svg xmlns=\"http://www.w3.org/2000/svg\" xmlns:xlink=\"http://www.w3.org/1999/xlink\" contentScriptType=\"application/ecmascript\" contentStyleType=\"text/css\" height=\"271px\" preserveAspectRatio=\"none\" style=\"width:294px;height:271px;\" version=\"1.1\" viewBox=\"0 0 294 271\" width=\"294px\" zoomAndPan=\"magnify\"><defs/><g><!--MD5=[fbc87193dbaf4d95561dea2c320d4a47]\n",
       "cluster E1--><a href=\"psysml:a2205de8-88da-4a82-9d0c-530bb72328d3\" target=\"_top\" title=\"psysml:a2205de8-88da-4a82-9d0c-530bb72328d3\" xlink:actuate=\"onRequest\" xlink:href=\"psysml:a2205de8-88da-4a82-9d0c-530bb72328d3\" xlink:show=\"new\" xlink:title=\"psysml:a2205de8-88da-4a82-9d0c-530bb72328d3\" xlink:type=\"simple\"><polygon fill=\"#FFFFFF\" points=\"16,6,196,6,203,28.2969,272,28.2969,272,259,16,259,16,6\" style=\"stroke: #000000; stroke-width: 1.5;\"/><line style=\"stroke: #000000; stroke-width: 1.5;\" x1=\"16\" x2=\"203\" y1=\"28.2969\" y2=\"28.2969\"/><text fill=\"#000000\" font-family=\"sans-serif\" font-size=\"14\" font-weight=\"bold\" lengthAdjust=\"spacingAndGlyphs\" textLength=\"174\" x=\"20\" y=\"20.9951\">QualifiedNameImportTest</text></a><!--MD5=[e4f7fae6ed58524ba242bb0b0d3be6b7]\n",
       "cluster E2--><a href=\"psysml:e0b1ca8b-31cf-4033-8a32-a89f430be7de\" target=\"_top\" title=\"psysml:e0b1ca8b-31cf-4033-8a32-a89f430be7de\" xlink:actuate=\"onRequest\" xlink:href=\"psysml:e0b1ca8b-31cf-4033-8a32-a89f430be7de\" xlink:show=\"new\" xlink:title=\"psysml:e0b1ca8b-31cf-4033-8a32-a89f430be7de\" xlink:type=\"simple\"><polygon fill=\"#FFFFFF\" points=\"146,49,170,49,177,71.2969,248,71.2969,248,146,146,146,146,49\" style=\"stroke: #000000; stroke-width: 1.5;\"/><line style=\"stroke: #000000; stroke-width: 1.5;\" x1=\"146\" x2=\"177\" y1=\"71.2969\" y2=\"71.2969\"/><text fill=\"#000000\" font-family=\"sans-serif\" font-size=\"14\" font-weight=\"bold\" lengthAdjust=\"spacingAndGlyphs\" textLength=\"18\" x=\"150\" y=\"63.9951\">P1</text></a><!--MD5=[f6df4d0ebaf0b5dfb2ced0ae5af7c670]\n",
       "cluster E4--><a href=\"psysml:9d5af9ae-79ba-44ae-999f-9385e3e881ff\" target=\"_top\" title=\"psysml:9d5af9ae-79ba-44ae-999f-9385e3e881ff\" xlink:actuate=\"onRequest\" xlink:href=\"psysml:9d5af9ae-79ba-44ae-999f-9385e3e881ff\" xlink:show=\"new\" xlink:title=\"psysml:9d5af9ae-79ba-44ae-999f-9385e3e881ff\" xlink:type=\"simple\"><polygon fill=\"#FFFFFF\" points=\"40,49,64,49,71,71.2969,118,71.2969,118,235,40,235,40,49\" style=\"stroke: #000000; stroke-width: 1.5;\"/><line style=\"stroke: #000000; stroke-width: 1.5;\" x1=\"40\" x2=\"71\" y1=\"71.2969\" y2=\"71.2969\"/><text fill=\"#000000\" font-family=\"sans-serif\" font-size=\"14\" font-weight=\"bold\" lengthAdjust=\"spacingAndGlyphs\" textLength=\"18\" x=\"44\" y=\"63.9951\">P2</text></a><!--MD5=[09b614a08d8cba4a07c9adeb5e0fee81]\n",
       "class E3--><a href=\"psysml:b95e347b-a360-4ede-8f45-88f4f6a9f0a4\" target=\"_top\" title=\"psysml:b95e347b-a360-4ede-8f45-88f4f6a9f0a4\" xlink:actuate=\"onRequest\" xlink:href=\"psysml:b95e347b-a360-4ede-8f45-88f4f6a9f0a4\" xlink:show=\"new\" xlink:title=\"psysml:b95e347b-a360-4ede-8f45-88f4f6a9f0a4\" xlink:type=\"simple\"><rect fill=\"#FFFFFF\" height=\"45.9375\" id=\"E3\" style=\"stroke: #383838; stroke-width: 1.5;\" width=\"70\" x=\"162\" y=\"84\"/><text fill=\"#000000\" font-family=\"sans-serif\" font-size=\"12\" font-style=\"italic\" lengthAdjust=\"spacingAndGlyphs\" textLength=\"68\" x=\"163\" y=\"100.1387\">«part  def»</text><text fill=\"#000000\" font-family=\"sans-serif\" font-size=\"12\" lengthAdjust=\"spacingAndGlyphs\" textLength=\"8\" x=\"193\" y=\"114.1074\">A</text><line style=\"stroke: #383838; stroke-width: 1.5;\" x1=\"163\" x2=\"231\" y1=\"121.9375\" y2=\"121.9375\"/></a><!--MD5=[60a26617385b1d2d0262a64233df1f8d]\n",
       "class E6--><a href=\"psysml:8ace276a-6fab-4d9f-9bdd-b9a7961474a1\" target=\"_top\" title=\"psysml:8ace276a-6fab-4d9f-9bdd-b9a7961474a1\" xlink:actuate=\"onRequest\" xlink:href=\"psysml:8ace276a-6fab-4d9f-9bdd-b9a7961474a1\" xlink:show=\"new\" xlink:title=\"psysml:8ace276a-6fab-4d9f-9bdd-b9a7961474a1\" xlink:type=\"simple\"><rect fill=\"#FFFFFF\" height=\"45.9375\" id=\"E6\" rx=\"10\" ry=\"10\" style=\"stroke: #383838; stroke-width: 1.5;\" width=\"42\" x=\"58\" y=\"84\"/><text fill=\"#000000\" font-family=\"sans-serif\" font-size=\"12\" font-style=\"italic\" lengthAdjust=\"spacingAndGlyphs\" textLength=\"40\" x=\"59\" y=\"100.1387\">«part»</text><text fill=\"#000000\" font-family=\"sans-serif\" font-size=\"12\" lengthAdjust=\"spacingAndGlyphs\" textLength=\"22\" x=\"66\" y=\"114.1074\">x: A</text><line style=\"stroke: #383838; stroke-width: 1.5;\" x1=\"59\" x2=\"99\" y1=\"121.9375\" y2=\"121.9375\"/></a><a href=\"psysml:b9f88b2a-f312-44cc-a9e4-c89396ff9243\" target=\"_top\" title=\"psysml:b9f88b2a-f312-44cc-a9e4-c89396ff9243\" xlink:actuate=\"onRequest\" xlink:href=\"psysml:b9f88b2a-f312-44cc-a9e4-c89396ff9243\" xlink:show=\"new\" xlink:title=\"psysml:b9f88b2a-f312-44cc-a9e4-c89396ff9243\" xlink:type=\"simple\"><polygon fill=\"#FFFFFF\" points=\"56,165.5,88,165.5,95,187.7969,102,187.7969,102,218.0938,56,218.0938,56,165.5\" style=\"stroke: #000000; stroke-width: 1.5;\"/><line style=\"stroke: #000000; stroke-width: 1.5;\" x1=\"56\" x2=\"95\" y1=\"187.7969\" y2=\"187.7969\"/><text fill=\"#000000\" font-family=\"sans-serif\" font-size=\"14\" font-weight=\"bold\" lengthAdjust=\"spacingAndGlyphs\" textLength=\"26\" x=\"60\" y=\"180.4951\">P2a</text></a><!--MD5=[a717450b82c80b9240a525fa862496af]\n",
       "link E6 to E3--><a href=\"psysml:3b068d74-51f4-4206-8ca3-dd0a14e18b44\" target=\"_top\" title=\"psysml:3b068d74-51f4-4206-8ca3-dd0a14e18b44\" xlink:actuate=\"onRequest\" xlink:href=\"psysml:3b068d74-51f4-4206-8ca3-dd0a14e18b44\" xlink:show=\"new\" xlink:title=\"psysml:3b068d74-51f4-4206-8ca3-dd0a14e18b44\" xlink:type=\"simple\"><path d=\"M100.21,107 C111.83,107 127.05,107 141.91,107 \" fill=\"none\" id=\"E6-&gt;E3\" style=\"stroke: #383838; stroke-width: 1.0;\"/><polygon fill=\"#FFFFFF\" points=\"161.95,107,142.95,114,142.95,100,161.95,107\" style=\"stroke: #383838; stroke-width: 1.0;\"/><ellipse cx=\"137.25\" cy=\"112\" fill=\"#383838\" rx=\"2\" ry=\"2\" style=\"stroke: #383838; stroke-width: 1.0;\"/><ellipse cx=\"137.25\" cy=\"102\" fill=\"#383838\" rx=\"2\" ry=\"2\" style=\"stroke: #383838; stroke-width: 1.0;\"/></a><!--MD5=[4b4a718461d8dcbbefda2deb3675c38b]\n",
       "@startuml\r\n",
       "left to right direction\r\n",
       "skinparam monochrome true\r\n",
       "skinparam classbackgroundcolor white\r\n",
       "skinparam shadowing false\r\n",
       "skinparam wrapWidth 300\r\n",
       "hide circle\r\n",
       "\r\n",
       "package \"QualifiedNameImportTest\" as E1  [[psysml:a2205de8-88da-4a82-9d0c-530bb72328d3 ]]  {\r\n",
       "package \"P1\" as E2  [[psysml:e0b1ca8b-31cf-4033-8a32-a89f430be7de ]]  {\r\n",
       "comp def \"A\" as E3  <<(T,blue) part  def>> [[psysml:b95e347b-a360-4ede-8f45-88f4f6a9f0a4 ]] {\r\n",
       "}\r\n",
       "}\r\n",
       "package \"P2\" as E4  [[psysml:9d5af9ae-79ba-44ae-999f-9385e3e881ff ]]  {\r\n",
       "package \"P2a\" as E5  [[psysml:b9f88b2a-f312-44cc-a9e4-c89396ff9243 ]]  {\r\n",
       "}\r\n",
       "comp usage \"x: A \" as E6  <<(T,blue) part>> [[psysml:8ace276a-6fab-4d9f-9bdd-b9a7961474a1 ]] {\r\n",
       "}\r\n",
       "}\r\n",
       "}\r\n",
       "E6 - -:|> E3 [[psysml:3b068d74-51f4-4206-8ca3-dd0a14e18b44 ]] \r\n",
       "@enduml\r\n",
       "\n",
       "PlantUML version 1.2020.13(Sat Jun 13 12:26:38 UTC 2020)\n",
       "(EPL source distribution)\n",
       "Java Runtime: OpenJDK Runtime Environment\n",
       "JVM: OpenJDK 64-Bit Server VM\n",
       "Default Encoding: UTF-8\n",
       "Language: en\n",
       "Country: null\n",
       "--></g></svg>"
      ]
     },
     "execution_count": 16,
     "metadata": {},
     "output_type": "execute_result"
    }
   ],
   "source": [
    "%viz --style=\"LR\" --view=\"Default\" \"QualifiedNameImportTest\""
   ]
  },
  {
   "cell_type": "code",
   "execution_count": 17,
   "id": "8f33df1e",
   "metadata": {
    "execution": {
     "iopub.execute_input": "2021-10-25T08:23:44.100646Z",
     "iopub.status.busy": "2021-10-25T08:23:44.100226Z",
     "iopub.status.idle": "2021-10-25T08:23:44.135953Z",
     "shell.execute_reply": "2021-10-25T08:23:44.136271Z"
    }
   },
   "outputs": [
    {
     "data": {
      "image/svg+xml": [
       "<?xml version=\"1.0\" encoding=\"UTF-8\" standalone=\"no\"?><svg xmlns=\"http://www.w3.org/2000/svg\" xmlns:xlink=\"http://www.w3.org/1999/xlink\" contentScriptType=\"application/ecmascript\" contentStyleType=\"text/css\" height=\"271px\" preserveAspectRatio=\"none\" style=\"width:294px;height:271px;\" version=\"1.1\" viewBox=\"0 0 294 271\" width=\"294px\" zoomAndPan=\"magnify\"><defs/><g><!--MD5=[fbc87193dbaf4d95561dea2c320d4a47]\n",
       "cluster E1--><a href=\"psysml:a2205de8-88da-4a82-9d0c-530bb72328d3\" target=\"_top\" title=\"psysml:a2205de8-88da-4a82-9d0c-530bb72328d3\" xlink:actuate=\"onRequest\" xlink:href=\"psysml:a2205de8-88da-4a82-9d0c-530bb72328d3\" xlink:show=\"new\" xlink:title=\"psysml:a2205de8-88da-4a82-9d0c-530bb72328d3\" xlink:type=\"simple\"><polygon fill=\"#FFFFFF\" points=\"16,6,196,6,203,28.2969,272,28.2969,272,259,16,259,16,6\" style=\"stroke: #000000; stroke-width: 1.5;\"/><line style=\"stroke: #000000; stroke-width: 1.5;\" x1=\"16\" x2=\"203\" y1=\"28.2969\" y2=\"28.2969\"/><text fill=\"#000000\" font-family=\"sans-serif\" font-size=\"14\" font-weight=\"bold\" lengthAdjust=\"spacingAndGlyphs\" textLength=\"174\" x=\"20\" y=\"20.9951\">QualifiedNameImportTest</text></a><!--MD5=[e4f7fae6ed58524ba242bb0b0d3be6b7]\n",
       "cluster E2--><a href=\"psysml:e0b1ca8b-31cf-4033-8a32-a89f430be7de\" target=\"_top\" title=\"psysml:e0b1ca8b-31cf-4033-8a32-a89f430be7de\" xlink:actuate=\"onRequest\" xlink:href=\"psysml:e0b1ca8b-31cf-4033-8a32-a89f430be7de\" xlink:show=\"new\" xlink:title=\"psysml:e0b1ca8b-31cf-4033-8a32-a89f430be7de\" xlink:type=\"simple\"><polygon fill=\"#FFFFFF\" points=\"146,49,170,49,177,71.2969,248,71.2969,248,146,146,146,146,49\" style=\"stroke: #000000; stroke-width: 1.5;\"/><line style=\"stroke: #000000; stroke-width: 1.5;\" x1=\"146\" x2=\"177\" y1=\"71.2969\" y2=\"71.2969\"/><text fill=\"#000000\" font-family=\"sans-serif\" font-size=\"14\" font-weight=\"bold\" lengthAdjust=\"spacingAndGlyphs\" textLength=\"18\" x=\"150\" y=\"63.9951\">P1</text></a><!--MD5=[f6df4d0ebaf0b5dfb2ced0ae5af7c670]\n",
       "cluster E4--><a href=\"psysml:9d5af9ae-79ba-44ae-999f-9385e3e881ff\" target=\"_top\" title=\"psysml:9d5af9ae-79ba-44ae-999f-9385e3e881ff\" xlink:actuate=\"onRequest\" xlink:href=\"psysml:9d5af9ae-79ba-44ae-999f-9385e3e881ff\" xlink:show=\"new\" xlink:title=\"psysml:9d5af9ae-79ba-44ae-999f-9385e3e881ff\" xlink:type=\"simple\"><polygon fill=\"#FFFFFF\" points=\"40,49,64,49,71,71.2969,118,71.2969,118,235,40,235,40,49\" style=\"stroke: #000000; stroke-width: 1.5;\"/><line style=\"stroke: #000000; stroke-width: 1.5;\" x1=\"40\" x2=\"71\" y1=\"71.2969\" y2=\"71.2969\"/><text fill=\"#000000\" font-family=\"sans-serif\" font-size=\"14\" font-weight=\"bold\" lengthAdjust=\"spacingAndGlyphs\" textLength=\"18\" x=\"44\" y=\"63.9951\">P2</text></a><!--MD5=[09b614a08d8cba4a07c9adeb5e0fee81]\n",
       "class E3--><a href=\"psysml:b95e347b-a360-4ede-8f45-88f4f6a9f0a4\" target=\"_top\" title=\"psysml:b95e347b-a360-4ede-8f45-88f4f6a9f0a4\" xlink:actuate=\"onRequest\" xlink:href=\"psysml:b95e347b-a360-4ede-8f45-88f4f6a9f0a4\" xlink:show=\"new\" xlink:title=\"psysml:b95e347b-a360-4ede-8f45-88f4f6a9f0a4\" xlink:type=\"simple\"><rect fill=\"#FFFFFF\" height=\"45.9375\" id=\"E3\" style=\"stroke: #383838; stroke-width: 1.5;\" width=\"70\" x=\"162\" y=\"84\"/><text fill=\"#000000\" font-family=\"sans-serif\" font-size=\"12\" font-style=\"italic\" lengthAdjust=\"spacingAndGlyphs\" textLength=\"68\" x=\"163\" y=\"100.1387\">«part  def»</text><text fill=\"#000000\" font-family=\"sans-serif\" font-size=\"12\" lengthAdjust=\"spacingAndGlyphs\" textLength=\"8\" x=\"193\" y=\"114.1074\">A</text><line style=\"stroke: #383838; stroke-width: 1.5;\" x1=\"163\" x2=\"231\" y1=\"121.9375\" y2=\"121.9375\"/></a><!--MD5=[60a26617385b1d2d0262a64233df1f8d]\n",
       "class E6--><a href=\"psysml:8ace276a-6fab-4d9f-9bdd-b9a7961474a1\" target=\"_top\" title=\"psysml:8ace276a-6fab-4d9f-9bdd-b9a7961474a1\" xlink:actuate=\"onRequest\" xlink:href=\"psysml:8ace276a-6fab-4d9f-9bdd-b9a7961474a1\" xlink:show=\"new\" xlink:title=\"psysml:8ace276a-6fab-4d9f-9bdd-b9a7961474a1\" xlink:type=\"simple\"><rect fill=\"#FFFFFF\" height=\"45.9375\" id=\"E6\" rx=\"10\" ry=\"10\" style=\"stroke: #383838; stroke-width: 1.5;\" width=\"42\" x=\"58\" y=\"84\"/><text fill=\"#000000\" font-family=\"sans-serif\" font-size=\"12\" font-style=\"italic\" lengthAdjust=\"spacingAndGlyphs\" textLength=\"40\" x=\"59\" y=\"100.1387\">«part»</text><text fill=\"#000000\" font-family=\"sans-serif\" font-size=\"12\" lengthAdjust=\"spacingAndGlyphs\" textLength=\"22\" x=\"66\" y=\"114.1074\">x: A</text><line style=\"stroke: #383838; stroke-width: 1.5;\" x1=\"59\" x2=\"99\" y1=\"121.9375\" y2=\"121.9375\"/></a><a href=\"psysml:b9f88b2a-f312-44cc-a9e4-c89396ff9243\" target=\"_top\" title=\"psysml:b9f88b2a-f312-44cc-a9e4-c89396ff9243\" xlink:actuate=\"onRequest\" xlink:href=\"psysml:b9f88b2a-f312-44cc-a9e4-c89396ff9243\" xlink:show=\"new\" xlink:title=\"psysml:b9f88b2a-f312-44cc-a9e4-c89396ff9243\" xlink:type=\"simple\"><polygon fill=\"#FFFFFF\" points=\"56,165.5,88,165.5,95,187.7969,102,187.7969,102,218.0938,56,218.0938,56,165.5\" style=\"stroke: #000000; stroke-width: 1.5;\"/><line style=\"stroke: #000000; stroke-width: 1.5;\" x1=\"56\" x2=\"95\" y1=\"187.7969\" y2=\"187.7969\"/><text fill=\"#000000\" font-family=\"sans-serif\" font-size=\"14\" font-weight=\"bold\" lengthAdjust=\"spacingAndGlyphs\" textLength=\"26\" x=\"60\" y=\"180.4951\">P2a</text></a><!--MD5=[a717450b82c80b9240a525fa862496af]\n",
       "link E6 to E3--><a href=\"psysml:3b068d74-51f4-4206-8ca3-dd0a14e18b44\" target=\"_top\" title=\"psysml:3b068d74-51f4-4206-8ca3-dd0a14e18b44\" xlink:actuate=\"onRequest\" xlink:href=\"psysml:3b068d74-51f4-4206-8ca3-dd0a14e18b44\" xlink:show=\"new\" xlink:title=\"psysml:3b068d74-51f4-4206-8ca3-dd0a14e18b44\" xlink:type=\"simple\"><path d=\"M100.21,107 C111.83,107 127.05,107 141.91,107 \" fill=\"none\" id=\"E6-&gt;E3\" style=\"stroke: #383838; stroke-width: 1.0;\"/><polygon fill=\"#FFFFFF\" points=\"161.95,107,142.95,114,142.95,100,161.95,107\" style=\"stroke: #383838; stroke-width: 1.0;\"/><ellipse cx=\"137.25\" cy=\"112\" fill=\"#383838\" rx=\"2\" ry=\"2\" style=\"stroke: #383838; stroke-width: 1.0;\"/><ellipse cx=\"137.25\" cy=\"102\" fill=\"#383838\" rx=\"2\" ry=\"2\" style=\"stroke: #383838; stroke-width: 1.0;\"/></a><!--MD5=[4b4a718461d8dcbbefda2deb3675c38b]\n",
       "@startuml\r\n",
       "left to right direction\r\n",
       "skinparam monochrome true\r\n",
       "skinparam classbackgroundcolor white\r\n",
       "skinparam shadowing false\r\n",
       "skinparam wrapWidth 300\r\n",
       "hide circle\r\n",
       "\r\n",
       "package \"QualifiedNameImportTest\" as E1  [[psysml:a2205de8-88da-4a82-9d0c-530bb72328d3 ]]  {\r\n",
       "package \"P1\" as E2  [[psysml:e0b1ca8b-31cf-4033-8a32-a89f430be7de ]]  {\r\n",
       "comp def \"A\" as E3  <<(T,blue) part  def>> [[psysml:b95e347b-a360-4ede-8f45-88f4f6a9f0a4 ]] {\r\n",
       "}\r\n",
       "}\r\n",
       "package \"P2\" as E4  [[psysml:9d5af9ae-79ba-44ae-999f-9385e3e881ff ]]  {\r\n",
       "package \"P2a\" as E5  [[psysml:b9f88b2a-f312-44cc-a9e4-c89396ff9243 ]]  {\r\n",
       "}\r\n",
       "comp usage \"x: A \" as E6  <<(T,blue) part>> [[psysml:8ace276a-6fab-4d9f-9bdd-b9a7961474a1 ]] {\r\n",
       "}\r\n",
       "}\r\n",
       "}\r\n",
       "E6 - -:|> E3 [[psysml:3b068d74-51f4-4206-8ca3-dd0a14e18b44 ]] \r\n",
       "@enduml\r\n",
       "\n",
       "PlantUML version 1.2020.13(Sat Jun 13 12:26:38 UTC 2020)\n",
       "(EPL source distribution)\n",
       "Java Runtime: OpenJDK Runtime Environment\n",
       "JVM: OpenJDK 64-Bit Server VM\n",
       "Default Encoding: UTF-8\n",
       "Language: en\n",
       "Country: null\n",
       "--></g></svg>"
      ]
     },
     "execution_count": 17,
     "metadata": {},
     "output_type": "execute_result"
    }
   ],
   "source": [
    "%viz --style=\"LR\" --view=\"Tree\" \"QualifiedNameImportTest\""
   ]
  },
  {
   "cell_type": "code",
   "execution_count": 18,
   "id": "5227439b",
   "metadata": {
    "execution": {
     "iopub.execute_input": "2021-10-25T08:23:44.185691Z",
     "iopub.status.busy": "2021-10-25T08:23:44.185284Z",
     "iopub.status.idle": "2021-10-25T08:23:44.192405Z",
     "shell.execute_reply": "2021-10-25T08:23:44.192722Z"
    }
   },
   "outputs": [
    {
     "data": {
      "image/svg+xml": [
       "<?xml version=\"1.0\" encoding=\"UTF-8\" standalone=\"no\"?><svg xmlns=\"http://www.w3.org/2000/svg\" xmlns:xlink=\"http://www.w3.org/1999/xlink\" contentScriptType=\"application/ecmascript\" contentStyleType=\"text/css\" height=\"12px\" preserveAspectRatio=\"none\" style=\"width:12px;height:12px;\" version=\"1.1\" viewBox=\"0 0 12 12\" width=\"12px\" zoomAndPan=\"magnify\"><defs/><g><!--MD5=[19d285c9d72a204eba4e2cd117d745e8]\n",
       "@startuml\r\n",
       "left to right direction\r\n",
       "skinparam monochrome true\r\n",
       "skinparam classbackgroundcolor white\r\n",
       "skinparam shadowing false\r\n",
       "skinparam wrapWidth 300\r\n",
       "hide circle\r\n",
       "\r\n",
       "@enduml\r\n",
       "\n",
       "PlantUML version 1.2020.13(Sat Jun 13 12:26:38 UTC 2020)\n",
       "(EPL source distribution)\n",
       "Java Runtime: OpenJDK Runtime Environment\n",
       "JVM: OpenJDK 64-Bit Server VM\n",
       "Default Encoding: UTF-8\n",
       "Language: en\n",
       "Country: null\n",
       "--></g></svg>"
      ]
     },
     "execution_count": 18,
     "metadata": {},
     "output_type": "execute_result"
    }
   ],
   "source": [
    "%viz --style=\"LR\" --view=\"State\" \"QualifiedNameImportTest\""
   ]
  },
  {
   "cell_type": "code",
   "execution_count": 19,
   "id": "a90756af",
   "metadata": {
    "execution": {
     "iopub.execute_input": "2021-10-25T08:23:44.242749Z",
     "iopub.status.busy": "2021-10-25T08:23:44.242347Z",
     "iopub.status.idle": "2021-10-25T08:23:44.276343Z",
     "shell.execute_reply": "2021-10-25T08:23:44.276691Z"
    }
   },
   "outputs": [
    {
     "data": {
      "image/svg+xml": [
       "<?xml version=\"1.0\" encoding=\"UTF-8\" standalone=\"no\"?><svg xmlns=\"http://www.w3.org/2000/svg\" xmlns:xlink=\"http://www.w3.org/1999/xlink\" contentScriptType=\"application/ecmascript\" contentStyleType=\"text/css\" height=\"384px\" preserveAspectRatio=\"none\" style=\"width:228px;height:384px;\" version=\"1.1\" viewBox=\"0 0 228 384\" width=\"228px\" zoomAndPan=\"magnify\"><defs/><g><!--MD5=[fbc87193dbaf4d95561dea2c320d4a47]\n",
       "cluster E1--><a href=\"psysml:a2205de8-88da-4a82-9d0c-530bb72328d3\" target=\"_top\" title=\"psysml:a2205de8-88da-4a82-9d0c-530bb72328d3\" xlink:actuate=\"onRequest\" xlink:href=\"psysml:a2205de8-88da-4a82-9d0c-530bb72328d3\" xlink:show=\"new\" xlink:title=\"psysml:a2205de8-88da-4a82-9d0c-530bb72328d3\" xlink:type=\"simple\"><polygon fill=\"#FFFFFF\" points=\"16,6,196,6,203,28.2969,206,28.2969,206,372,16,372,16,6\" style=\"stroke: #000000; stroke-width: 1.5;\"/><line style=\"stroke: #000000; stroke-width: 1.5;\" x1=\"16\" x2=\"203\" y1=\"28.2969\" y2=\"28.2969\"/><text fill=\"#000000\" font-family=\"sans-serif\" font-size=\"14\" font-weight=\"bold\" lengthAdjust=\"spacingAndGlyphs\" textLength=\"174\" x=\"20\" y=\"20.9951\">QualifiedNameImportTest</text></a><!--MD5=[e4f7fae6ed58524ba242bb0b0d3be6b7]\n",
       "cluster E2--><a href=\"psysml:e0b1ca8b-31cf-4033-8a32-a89f430be7de\" target=\"_top\" title=\"psysml:e0b1ca8b-31cf-4033-8a32-a89f430be7de\" xlink:actuate=\"onRequest\" xlink:href=\"psysml:e0b1ca8b-31cf-4033-8a32-a89f430be7de\" xlink:show=\"new\" xlink:title=\"psysml:e0b1ca8b-31cf-4033-8a32-a89f430be7de\" xlink:type=\"simple\"><polygon fill=\"#FFFFFF\" points=\"57,49,81,49,88,71.2969,164,71.2969,164,144,57,144,57,49\" style=\"stroke: #000000; stroke-width: 1.5;\"/><line style=\"stroke: #000000; stroke-width: 1.5;\" x1=\"57\" x2=\"88\" y1=\"71.2969\" y2=\"71.2969\"/><text fill=\"#000000\" font-family=\"sans-serif\" font-size=\"14\" font-weight=\"bold\" lengthAdjust=\"spacingAndGlyphs\" textLength=\"18\" x=\"61\" y=\"63.9951\">P1</text></a><!--MD5=[f6df4d0ebaf0b5dfb2ced0ae5af7c670]\n",
       "cluster E4--><a href=\"psysml:9d5af9ae-79ba-44ae-999f-9385e3e881ff\" target=\"_top\" title=\"psysml:9d5af9ae-79ba-44ae-999f-9385e3e881ff\" xlink:actuate=\"onRequest\" xlink:href=\"psysml:9d5af9ae-79ba-44ae-999f-9385e3e881ff\" xlink:show=\"new\" xlink:title=\"psysml:9d5af9ae-79ba-44ae-999f-9385e3e881ff\" xlink:type=\"simple\"><polygon fill=\"#FFFFFF\" points=\"69.5,168,93.5,168,100.5,190.2969,151.5,190.2969,151.5,348,69.5,348,69.5,168\" style=\"stroke: #000000; stroke-width: 1.5;\"/><line style=\"stroke: #000000; stroke-width: 1.5;\" x1=\"69.5\" x2=\"100.5\" y1=\"190.2969\" y2=\"190.2969\"/><text fill=\"#000000\" font-family=\"sans-serif\" font-size=\"14\" font-weight=\"bold\" lengthAdjust=\"spacingAndGlyphs\" textLength=\"18\" x=\"73.5\" y=\"182.9951\">P2</text></a><g id=\"E1.E2.E3\"><a href=\"psysml:b95e347b-a360-4ede-8f45-88f4f6a9f0a4\" target=\"_top\" title=\"psysml:b95e347b-a360-4ede-8f45-88f4f6a9f0a4\" xlink:actuate=\"onRequest\" xlink:href=\"psysml:b95e347b-a360-4ede-8f45-88f4f6a9f0a4\" xlink:show=\"new\" xlink:title=\"psysml:b95e347b-a360-4ede-8f45-88f4f6a9f0a4\" xlink:type=\"simple\"><rect fill=\"#FFFFFF\" height=\"42.9375\" id=\"E3\" style=\"stroke: #383838; stroke-width: 1.5;\" width=\"75\" x=\"73\" y=\"84.5\"/><rect fill=\"#F8F8F8\" height=\"37.9375\" style=\"stroke: #383838; stroke-width: 1.5;\" width=\"75\" x=\"73\" y=\"84.5\"/><text fill=\"#000000\" font-family=\"sans-serif\" font-size=\"12\" font-style=\"italic\" lengthAdjust=\"spacingAndGlyphs\" textLength=\"68\" x=\"76.5\" y=\"100.6387\">«part  def»</text><text fill=\"#000000\" font-family=\"sans-serif\" font-size=\"12\" lengthAdjust=\"spacingAndGlyphs\" textLength=\"8\" x=\"106.5\" y=\"114.6074\">A</text></a></g><a href=\"psysml:b9f88b2a-f312-44cc-a9e4-c89396ff9243\" target=\"_top\" title=\"psysml:b9f88b2a-f312-44cc-a9e4-c89396ff9243\" xlink:actuate=\"onRequest\" xlink:href=\"psysml:b9f88b2a-f312-44cc-a9e4-c89396ff9243\" xlink:show=\"new\" xlink:title=\"psysml:b9f88b2a-f312-44cc-a9e4-c89396ff9243\" xlink:type=\"simple\"><polygon fill=\"#FFFFFF\" points=\"87.5,203.5,119.5,203.5,126.5,225.7969,133.5,225.7969,133.5,256.0938,87.5,256.0938,87.5,203.5\" style=\"stroke: #000000; stroke-width: 1.5;\"/><line style=\"stroke: #000000; stroke-width: 1.5;\" x1=\"87.5\" x2=\"126.5\" y1=\"225.7969\" y2=\"225.7969\"/><text fill=\"#000000\" font-family=\"sans-serif\" font-size=\"14\" font-weight=\"bold\" lengthAdjust=\"spacingAndGlyphs\" textLength=\"26\" x=\"91.5\" y=\"218.4951\">P2a</text></a><g id=\"E1.E4.E6\"><a href=\"psysml:8ace276a-6fab-4d9f-9bdd-b9a7961474a1\" target=\"_top\" title=\"psysml:8ace276a-6fab-4d9f-9bdd-b9a7961474a1\" xlink:actuate=\"onRequest\" xlink:href=\"psysml:8ace276a-6fab-4d9f-9bdd-b9a7961474a1\" xlink:show=\"new\" xlink:title=\"psysml:8ace276a-6fab-4d9f-9bdd-b9a7961474a1\" xlink:type=\"simple\"><rect fill=\"#FFFFFF\" height=\"40\" id=\"E6\" rx=\"10\" ry=\"10\" style=\"stroke: #383838; stroke-width: 1.5;\" width=\"50\" x=\"85.5\" y=\"292\"/><rect fill=\"#F8F8F8\" height=\"23.9688\" rx=\"10\" ry=\"10\" style=\"stroke: #F8F8F8; stroke-width: 1.5;\" width=\"50\" x=\"85.5\" y=\"292\"/><rect fill=\"#F8F8F8\" height=\"10\" style=\"stroke: #F8F8F8; stroke-width: 1.5;\" width=\"50\" x=\"85.5\" y=\"305.9688\"/><rect fill=\"none\" height=\"40\" id=\"E6\" rx=\"10\" ry=\"10\" style=\"stroke: #383838; stroke-width: 1.5;\" width=\"50\" x=\"85.5\" y=\"292\"/><text fill=\"#000000\" font-family=\"sans-serif\" font-size=\"12\" lengthAdjust=\"spacingAndGlyphs\" textLength=\"22\" x=\"99.5\" y=\"308.1387\">x: A</text></a></g><!--MD5=[5c8ad2e29a551703186c03477ee8a432]\n",
       "@startuml\r\n",
       "skinparam ranksep 10\r\n",
       "skinparam rectangle {\r\n",
       " backgroundColor<<block>> LightGreen\r\n",
       "}\r\n",
       "left to right direction\r\n",
       "skinparam monochrome true\r\n",
       "skinparam classbackgroundcolor white\r\n",
       "skinparam shadowing false\r\n",
       "skinparam wrapWidth 300\r\n",
       "hide circle\r\n",
       "\r\n",
       "package \"QualifiedNameImportTest\" as E1  [[psysml:a2205de8-88da-4a82-9d0c-530bb72328d3 ]]  {\r\n",
       "package \"P1\" as E2  [[psysml:e0b1ca8b-31cf-4033-8a32-a89f430be7de ]]  {\r\n",
       "rec def \"A\" as E3  <<(T,blue) part  def>> [[psysml:b95e347b-a360-4ede-8f45-88f4f6a9f0a4 ]] {\r\n",
       "}\r\n",
       "}\r\n",
       "package \"P2\" as E4  [[psysml:9d5af9ae-79ba-44ae-999f-9385e3e881ff ]]  {\r\n",
       "package \"P2a\" as E5  [[psysml:b9f88b2a-f312-44cc-a9e4-c89396ff9243 ]]  {\r\n",
       "}\r\n",
       "rec usage \"x: A\" as E6  [[psysml:8ace276a-6fab-4d9f-9bdd-b9a7961474a1 ]] {\r\n",
       "}\r\n",
       "}\r\n",
       "}\r\n",
       "@enduml\r\n",
       "\n",
       "PlantUML version 1.2020.13(Sat Jun 13 12:26:38 UTC 2020)\n",
       "(EPL source distribution)\n",
       "Java Runtime: OpenJDK Runtime Environment\n",
       "JVM: OpenJDK 64-Bit Server VM\n",
       "Default Encoding: UTF-8\n",
       "Language: en\n",
       "Country: null\n",
       "--></g></svg>"
      ]
     },
     "execution_count": 19,
     "metadata": {},
     "output_type": "execute_result"
    }
   ],
   "source": [
    "%viz --style=\"LR\" --view=\"Interconnection\" \"QualifiedNameImportTest\""
   ]
  },
  {
   "cell_type": "code",
   "execution_count": 20,
   "id": "807e108f",
   "metadata": {
    "execution": {
     "iopub.execute_input": "2021-10-25T08:23:44.326510Z",
     "iopub.status.busy": "2021-10-25T08:23:44.326091Z",
     "iopub.status.idle": "2021-10-25T08:23:44.332422Z",
     "shell.execute_reply": "2021-10-25T08:23:44.332833Z"
    }
   },
   "outputs": [
    {
     "data": {
      "image/svg+xml": [
       "<?xml version=\"1.0\" encoding=\"UTF-8\" standalone=\"no\"?><svg xmlns=\"http://www.w3.org/2000/svg\" xmlns:xlink=\"http://www.w3.org/1999/xlink\" contentScriptType=\"application/ecmascript\" contentStyleType=\"text/css\" height=\"12px\" preserveAspectRatio=\"none\" style=\"width:12px;height:12px;\" version=\"1.1\" viewBox=\"0 0 12 12\" width=\"12px\" zoomAndPan=\"magnify\"><defs/><g><!--MD5=[7aeb398939421629f6affaa4a1a7b125]\n",
       "@startuml\r\n",
       "skinparam ranksep 8\r\n",
       "left to right direction\r\n",
       "skinparam monochrome true\r\n",
       "skinparam classbackgroundcolor white\r\n",
       "skinparam shadowing false\r\n",
       "skinparam wrapWidth 300\r\n",
       "hide circle\r\n",
       "\r\n",
       "@enduml\r\n",
       "\n",
       "PlantUML version 1.2020.13(Sat Jun 13 12:26:38 UTC 2020)\n",
       "(EPL source distribution)\n",
       "Java Runtime: OpenJDK Runtime Environment\n",
       "JVM: OpenJDK 64-Bit Server VM\n",
       "Default Encoding: UTF-8\n",
       "Language: en\n",
       "Country: null\n",
       "--></g></svg>"
      ]
     },
     "execution_count": 20,
     "metadata": {},
     "output_type": "execute_result"
    }
   ],
   "source": [
    "%viz --style=\"LR\" --view=\"Action\" \"QualifiedNameImportTest\""
   ]
  },
  {
   "cell_type": "code",
   "execution_count": 21,
   "id": "49f93585",
   "metadata": {
    "execution": {
     "iopub.execute_input": "2021-10-25T08:23:44.382677Z",
     "iopub.status.busy": "2021-10-25T08:23:44.382217Z",
     "iopub.status.idle": "2021-10-25T08:23:44.389118Z",
     "shell.execute_reply": "2021-10-25T08:23:44.389447Z"
    }
   },
   "outputs": [
    {
     "data": {
      "image/svg+xml": [
       "<?xml version=\"1.0\" encoding=\"UTF-8\" standalone=\"no\"?><svg xmlns=\"http://www.w3.org/2000/svg\" xmlns:xlink=\"http://www.w3.org/1999/xlink\" contentScriptType=\"application/ecmascript\" contentStyleType=\"text/css\" height=\"12px\" preserveAspectRatio=\"none\" style=\"width:12px;height:12px;\" version=\"1.1\" viewBox=\"0 0 12 12\" width=\"12px\" zoomAndPan=\"magnify\"><defs/><g><!--MD5=[238c11ea2002f03115ad6b49a457d50e]\n",
       "@startuml\r\n",
       "skinparam roundcorner 20\r\n",
       "skinparam BoxPadding 20\r\n",
       "skinparam SequenceBoxBackgroundColor #white\r\n",
       "skinparam style strictuml\r\n",
       "skinparam maxMessageSize 100\r\n",
       "left to right direction\r\n",
       "skinparam monochrome true\r\n",
       "skinparam classbackgroundcolor white\r\n",
       "skinparam shadowing false\r\n",
       "skinparam wrapWidth 300\r\n",
       "hide circle\r\n",
       "\r\n",
       "@enduml\r\n",
       "\n",
       "PlantUML version 1.2020.13(Sat Jun 13 12:26:38 UTC 2020)\n",
       "(EPL source distribution)\n",
       "Java Runtime: OpenJDK Runtime Environment\n",
       "JVM: OpenJDK 64-Bit Server VM\n",
       "Default Encoding: UTF-8\n",
       "Language: en\n",
       "Country: null\n",
       "--></g></svg>"
      ]
     },
     "execution_count": 21,
     "metadata": {},
     "output_type": "execute_result"
    }
   ],
   "source": [
    "%viz --style=\"LR\" --view=\"Sequence\" \"QualifiedNameImportTest\""
   ]
  },
  {
   "cell_type": "code",
   "execution_count": 22,
   "id": "6210d8e7",
   "metadata": {
    "execution": {
     "iopub.execute_input": "2021-10-25T08:23:44.439210Z",
     "iopub.status.busy": "2021-10-25T08:23:44.438777Z",
     "iopub.status.idle": "2021-10-25T08:23:44.488247Z",
     "shell.execute_reply": "2021-10-25T08:23:44.486440Z"
    }
   },
   "outputs": [
    {
     "data": {
      "image/svg+xml": [
       "<?xml version=\"1.0\" encoding=\"UTF-8\" standalone=\"no\"?><svg xmlns=\"http://www.w3.org/2000/svg\" xmlns:xlink=\"http://www.w3.org/1999/xlink\" contentScriptType=\"application/ecmascript\" contentStyleType=\"text/css\" height=\"271px\" preserveAspectRatio=\"none\" style=\"width:294px;height:271px;\" version=\"1.1\" viewBox=\"0 0 294 271\" width=\"294px\" zoomAndPan=\"magnify\"><defs/><g><!--MD5=[fbc87193dbaf4d95561dea2c320d4a47]\n",
       "cluster E1--><a href=\"psysml:a2205de8-88da-4a82-9d0c-530bb72328d3\" target=\"_top\" title=\"psysml:a2205de8-88da-4a82-9d0c-530bb72328d3\" xlink:actuate=\"onRequest\" xlink:href=\"psysml:a2205de8-88da-4a82-9d0c-530bb72328d3\" xlink:show=\"new\" xlink:title=\"psysml:a2205de8-88da-4a82-9d0c-530bb72328d3\" xlink:type=\"simple\"><polygon fill=\"#FFFFFF\" points=\"16,6,196,6,203,28.2969,272,28.2969,272,259,16,259,16,6\" style=\"stroke: #000000; stroke-width: 1.5;\"/><line style=\"stroke: #000000; stroke-width: 1.5;\" x1=\"16\" x2=\"203\" y1=\"28.2969\" y2=\"28.2969\"/><text fill=\"#000000\" font-family=\"sans-serif\" font-size=\"14\" font-weight=\"bold\" lengthAdjust=\"spacingAndGlyphs\" textLength=\"174\" x=\"20\" y=\"20.9951\">QualifiedNameImportTest</text></a><!--MD5=[e4f7fae6ed58524ba242bb0b0d3be6b7]\n",
       "cluster E2--><a href=\"psysml:e0b1ca8b-31cf-4033-8a32-a89f430be7de\" target=\"_top\" title=\"psysml:e0b1ca8b-31cf-4033-8a32-a89f430be7de\" xlink:actuate=\"onRequest\" xlink:href=\"psysml:e0b1ca8b-31cf-4033-8a32-a89f430be7de\" xlink:show=\"new\" xlink:title=\"psysml:e0b1ca8b-31cf-4033-8a32-a89f430be7de\" xlink:type=\"simple\"><polygon fill=\"#FFFFFF\" points=\"146,49,170,49,177,71.2969,248,71.2969,248,146,146,146,146,49\" style=\"stroke: #000000; stroke-width: 1.5;\"/><line style=\"stroke: #000000; stroke-width: 1.5;\" x1=\"146\" x2=\"177\" y1=\"71.2969\" y2=\"71.2969\"/><text fill=\"#000000\" font-family=\"sans-serif\" font-size=\"14\" font-weight=\"bold\" lengthAdjust=\"spacingAndGlyphs\" textLength=\"18\" x=\"150\" y=\"63.9951\">P1</text></a><!--MD5=[f6df4d0ebaf0b5dfb2ced0ae5af7c670]\n",
       "cluster E4--><a href=\"psysml:9d5af9ae-79ba-44ae-999f-9385e3e881ff\" target=\"_top\" title=\"psysml:9d5af9ae-79ba-44ae-999f-9385e3e881ff\" xlink:actuate=\"onRequest\" xlink:href=\"psysml:9d5af9ae-79ba-44ae-999f-9385e3e881ff\" xlink:show=\"new\" xlink:title=\"psysml:9d5af9ae-79ba-44ae-999f-9385e3e881ff\" xlink:type=\"simple\"><polygon fill=\"#FFFFFF\" points=\"40,49,64,49,71,71.2969,118,71.2969,118,235,40,235,40,49\" style=\"stroke: #000000; stroke-width: 1.5;\"/><line style=\"stroke: #000000; stroke-width: 1.5;\" x1=\"40\" x2=\"71\" y1=\"71.2969\" y2=\"71.2969\"/><text fill=\"#000000\" font-family=\"sans-serif\" font-size=\"14\" font-weight=\"bold\" lengthAdjust=\"spacingAndGlyphs\" textLength=\"18\" x=\"44\" y=\"63.9951\">P2</text></a><!--MD5=[09b614a08d8cba4a07c9adeb5e0fee81]\n",
       "class E3--><a href=\"psysml:b95e347b-a360-4ede-8f45-88f4f6a9f0a4\" target=\"_top\" title=\"psysml:b95e347b-a360-4ede-8f45-88f4f6a9f0a4\" xlink:actuate=\"onRequest\" xlink:href=\"psysml:b95e347b-a360-4ede-8f45-88f4f6a9f0a4\" xlink:show=\"new\" xlink:title=\"psysml:b95e347b-a360-4ede-8f45-88f4f6a9f0a4\" xlink:type=\"simple\"><rect fill=\"#FFFFFF\" height=\"45.9375\" id=\"E3\" style=\"stroke: #383838; stroke-width: 1.5;\" width=\"70\" x=\"162\" y=\"84\"/><text fill=\"#000000\" font-family=\"sans-serif\" font-size=\"12\" font-style=\"italic\" lengthAdjust=\"spacingAndGlyphs\" textLength=\"68\" x=\"163\" y=\"100.1387\">«part  def»</text><text fill=\"#000000\" font-family=\"sans-serif\" font-size=\"12\" lengthAdjust=\"spacingAndGlyphs\" textLength=\"8\" x=\"193\" y=\"114.1074\">A</text><line style=\"stroke: #383838; stroke-width: 1.5;\" x1=\"163\" x2=\"231\" y1=\"121.9375\" y2=\"121.9375\"/></a><!--MD5=[60a26617385b1d2d0262a64233df1f8d]\n",
       "class E6--><a href=\"psysml:8ace276a-6fab-4d9f-9bdd-b9a7961474a1\" target=\"_top\" title=\"psysml:8ace276a-6fab-4d9f-9bdd-b9a7961474a1\" xlink:actuate=\"onRequest\" xlink:href=\"psysml:8ace276a-6fab-4d9f-9bdd-b9a7961474a1\" xlink:show=\"new\" xlink:title=\"psysml:8ace276a-6fab-4d9f-9bdd-b9a7961474a1\" xlink:type=\"simple\"><rect fill=\"#FFFFFF\" height=\"45.9375\" id=\"E6\" rx=\"10\" ry=\"10\" style=\"stroke: #383838; stroke-width: 1.5;\" width=\"42\" x=\"58\" y=\"84\"/><text fill=\"#000000\" font-family=\"sans-serif\" font-size=\"12\" font-style=\"italic\" lengthAdjust=\"spacingAndGlyphs\" textLength=\"40\" x=\"59\" y=\"100.1387\">«part»</text><text fill=\"#000000\" font-family=\"sans-serif\" font-size=\"12\" lengthAdjust=\"spacingAndGlyphs\" textLength=\"22\" x=\"66\" y=\"114.1074\">x: A</text><line style=\"stroke: #383838; stroke-width: 1.5;\" x1=\"59\" x2=\"99\" y1=\"121.9375\" y2=\"121.9375\"/></a><a href=\"psysml:b9f88b2a-f312-44cc-a9e4-c89396ff9243\" target=\"_top\" title=\"psysml:b9f88b2a-f312-44cc-a9e4-c89396ff9243\" xlink:actuate=\"onRequest\" xlink:href=\"psysml:b9f88b2a-f312-44cc-a9e4-c89396ff9243\" xlink:show=\"new\" xlink:title=\"psysml:b9f88b2a-f312-44cc-a9e4-c89396ff9243\" xlink:type=\"simple\"><polygon fill=\"#FFFFFF\" points=\"56,165.5,88,165.5,95,187.7969,102,187.7969,102,218.0938,56,218.0938,56,165.5\" style=\"stroke: #000000; stroke-width: 1.5;\"/><line style=\"stroke: #000000; stroke-width: 1.5;\" x1=\"56\" x2=\"95\" y1=\"187.7969\" y2=\"187.7969\"/><text fill=\"#000000\" font-family=\"sans-serif\" font-size=\"14\" font-weight=\"bold\" lengthAdjust=\"spacingAndGlyphs\" textLength=\"26\" x=\"60\" y=\"180.4951\">P2a</text></a><!--MD5=[a717450b82c80b9240a525fa862496af]\n",
       "link E6 to E3--><a href=\"psysml:3b068d74-51f4-4206-8ca3-dd0a14e18b44\" target=\"_top\" title=\"psysml:3b068d74-51f4-4206-8ca3-dd0a14e18b44\" xlink:actuate=\"onRequest\" xlink:href=\"psysml:3b068d74-51f4-4206-8ca3-dd0a14e18b44\" xlink:show=\"new\" xlink:title=\"psysml:3b068d74-51f4-4206-8ca3-dd0a14e18b44\" xlink:type=\"simple\"><path d=\"M100.21,107 C111.83,107 127.05,107 141.91,107 \" fill=\"none\" id=\"E6-&gt;E3\" style=\"stroke: #383838; stroke-width: 1.0;\"/><polygon fill=\"#FFFFFF\" points=\"161.95,107,142.95,114,142.95,100,161.95,107\" style=\"stroke: #383838; stroke-width: 1.0;\"/><ellipse cx=\"137.25\" cy=\"112\" fill=\"#383838\" rx=\"2\" ry=\"2\" style=\"stroke: #383838; stroke-width: 1.0;\"/><ellipse cx=\"137.25\" cy=\"102\" fill=\"#383838\" rx=\"2\" ry=\"2\" style=\"stroke: #383838; stroke-width: 1.0;\"/></a><!--MD5=[4b4a718461d8dcbbefda2deb3675c38b]\n",
       "@startuml\r\n",
       "left to right direction\r\n",
       "skinparam monochrome true\r\n",
       "skinparam classbackgroundcolor white\r\n",
       "skinparam shadowing false\r\n",
       "skinparam wrapWidth 300\r\n",
       "hide circle\r\n",
       "\r\n",
       "package \"QualifiedNameImportTest\" as E1  [[psysml:a2205de8-88da-4a82-9d0c-530bb72328d3 ]]  {\r\n",
       "package \"P1\" as E2  [[psysml:e0b1ca8b-31cf-4033-8a32-a89f430be7de ]]  {\r\n",
       "comp def \"A\" as E3  <<(T,blue) part  def>> [[psysml:b95e347b-a360-4ede-8f45-88f4f6a9f0a4 ]] {\r\n",
       "}\r\n",
       "}\r\n",
       "package \"P2\" as E4  [[psysml:9d5af9ae-79ba-44ae-999f-9385e3e881ff ]]  {\r\n",
       "package \"P2a\" as E5  [[psysml:b9f88b2a-f312-44cc-a9e4-c89396ff9243 ]]  {\r\n",
       "}\r\n",
       "comp usage \"x: A \" as E6  <<(T,blue) part>> [[psysml:8ace276a-6fab-4d9f-9bdd-b9a7961474a1 ]] {\r\n",
       "}\r\n",
       "}\r\n",
       "}\r\n",
       "E6 - -:|> E3 [[psysml:3b068d74-51f4-4206-8ca3-dd0a14e18b44 ]] \r\n",
       "@enduml\r\n",
       "\n",
       "PlantUML version 1.2020.13(Sat Jun 13 12:26:38 UTC 2020)\n",
       "(EPL source distribution)\n",
       "Java Runtime: OpenJDK Runtime Environment\n",
       "JVM: OpenJDK 64-Bit Server VM\n",
       "Default Encoding: UTF-8\n",
       "Language: en\n",
       "Country: null\n",
       "--></g></svg>"
      ]
     },
     "execution_count": 22,
     "metadata": {},
     "output_type": "execute_result"
    }
   ],
   "source": [
    "%viz --style=\"LR\" --view=\"MIXED\" \"QualifiedNameImportTest\""
   ]
  },
  {
   "cell_type": "code",
   "execution_count": 23,
   "id": "9261eb74",
   "metadata": {
    "execution": {
     "iopub.execute_input": "2021-10-25T08:23:44.537361Z",
     "iopub.status.busy": "2021-10-25T08:23:44.536953Z",
     "iopub.status.idle": "2021-10-25T08:23:44.570400Z",
     "shell.execute_reply": "2021-10-25T08:23:44.570028Z"
    }
   },
   "outputs": [
    {
     "data": {
      "image/svg+xml": [
       "<?xml version=\"1.0\" encoding=\"UTF-8\" standalone=\"no\"?><svg xmlns=\"http://www.w3.org/2000/svg\" xmlns:xlink=\"http://www.w3.org/1999/xlink\" contentScriptType=\"application/ecmascript\" contentStyleType=\"text/css\" height=\"310px\" preserveAspectRatio=\"none\" style=\"width:241px;height:310px;\" version=\"1.1\" viewBox=\"0 0 241 310\" width=\"241px\" zoomAndPan=\"magnify\"><defs><filter height=\"300%\" id=\"fpw4tsvc1d78z\" width=\"300%\" x=\"-1\" y=\"-1\"><feGaussianBlur result=\"blurOut\" stdDeviation=\"2.0\"/><feColorMatrix in=\"blurOut\" result=\"blurOut2\" type=\"matrix\" values=\"0 0 0 0 0 0 0 0 0 0 0 0 0 0 0 0 0 0 .4 0\"/><feOffset dx=\"4.0\" dy=\"4.0\" in=\"blurOut2\" result=\"blurOut3\"/><feBlend in=\"SourceGraphic\" in2=\"blurOut3\" mode=\"normal\"/></filter></defs><g><!--MD5=[fbc87193dbaf4d95561dea2c320d4a47]\n",
       "cluster E1--><a href=\"psysml:a2205de8-88da-4a82-9d0c-530bb72328d3\" target=\"_top\" title=\"psysml:a2205de8-88da-4a82-9d0c-530bb72328d3\" xlink:actuate=\"onRequest\" xlink:href=\"psysml:a2205de8-88da-4a82-9d0c-530bb72328d3\" xlink:show=\"new\" xlink:title=\"psysml:a2205de8-88da-4a82-9d0c-530bb72328d3\" xlink:type=\"simple\"><polygon fill=\"#FFFFFF\" filter=\"url(#fpw4tsvc1d78z)\" points=\"16,6,196,6,203,28.2969,219,28.2969,219,298,16,298,16,6\" style=\"stroke: #000000; stroke-width: 1.5;\"/><line style=\"stroke: #000000; stroke-width: 1.5;\" x1=\"16\" x2=\"203\" y1=\"28.2969\" y2=\"28.2969\"/><text fill=\"#000000\" font-family=\"sans-serif\" font-size=\"14\" font-weight=\"bold\" lengthAdjust=\"spacingAndGlyphs\" textLength=\"174\" x=\"20\" y=\"20.9951\">QualifiedNameImportTest</text></a><!--MD5=[e4f7fae6ed58524ba242bb0b0d3be6b7]\n",
       "cluster E2--><a href=\"psysml:e0b1ca8b-31cf-4033-8a32-a89f430be7de\" target=\"_top\" title=\"psysml:e0b1ca8b-31cf-4033-8a32-a89f430be7de\" xlink:actuate=\"onRequest\" xlink:href=\"psysml:e0b1ca8b-31cf-4033-8a32-a89f430be7de\" xlink:show=\"new\" xlink:title=\"psysml:e0b1ca8b-31cf-4033-8a32-a89f430be7de\" xlink:type=\"simple\"><polygon fill=\"#FFFFFF\" filter=\"url(#fpw4tsvc1d78z)\" points=\"93,177,117,177,124,199.2969,195,199.2969,195,274,93,274,93,177\" style=\"stroke: #000000; stroke-width: 1.5;\"/><line style=\"stroke: #000000; stroke-width: 1.5;\" x1=\"93\" x2=\"124\" y1=\"199.2969\" y2=\"199.2969\"/><text fill=\"#000000\" font-family=\"sans-serif\" font-size=\"14\" font-weight=\"bold\" lengthAdjust=\"spacingAndGlyphs\" textLength=\"18\" x=\"97\" y=\"191.9951\">P1</text></a><!--MD5=[f6df4d0ebaf0b5dfb2ced0ae5af7c670]\n",
       "cluster E4--><a href=\"psysml:9d5af9ae-79ba-44ae-999f-9385e3e881ff\" target=\"_top\" title=\"psysml:9d5af9ae-79ba-44ae-999f-9385e3e881ff\" xlink:actuate=\"onRequest\" xlink:href=\"psysml:9d5af9ae-79ba-44ae-999f-9385e3e881ff\" xlink:show=\"new\" xlink:title=\"psysml:9d5af9ae-79ba-44ae-999f-9385e3e881ff\" xlink:type=\"simple\"><polygon fill=\"#FFFFFF\" filter=\"url(#fpw4tsvc1d78z)\" points=\"40,49,64,49,71,71.2969,195,71.2969,195,153,40,153,40,49\" style=\"stroke: #000000; stroke-width: 1.5;\"/><line style=\"stroke: #000000; stroke-width: 1.5;\" x1=\"40\" x2=\"71\" y1=\"71.2969\" y2=\"71.2969\"/><text fill=\"#000000\" font-family=\"sans-serif\" font-size=\"14\" font-weight=\"bold\" lengthAdjust=\"spacingAndGlyphs\" textLength=\"18\" x=\"44\" y=\"63.9951\">P2</text></a><!--MD5=[09b614a08d8cba4a07c9adeb5e0fee81]\n",
       "class E3--><a href=\"psysml:b95e347b-a360-4ede-8f45-88f4f6a9f0a4\" target=\"_top\" title=\"psysml:b95e347b-a360-4ede-8f45-88f4f6a9f0a4\" xlink:actuate=\"onRequest\" xlink:href=\"psysml:b95e347b-a360-4ede-8f45-88f4f6a9f0a4\" xlink:show=\"new\" xlink:title=\"psysml:b95e347b-a360-4ede-8f45-88f4f6a9f0a4\" xlink:type=\"simple\"><rect fill=\"#FEFECE\" filter=\"url(#fpw4tsvc1d78z)\" height=\"45.9375\" id=\"E3\" style=\"stroke: #A80036; stroke-width: 1.5;\" width=\"70\" x=\"109\" y=\"212\"/><text fill=\"#000000\" font-family=\"sans-serif\" font-size=\"12\" font-style=\"italic\" lengthAdjust=\"spacingAndGlyphs\" textLength=\"68\" x=\"110\" y=\"228.1387\">«part  def»</text><text fill=\"#000000\" font-family=\"sans-serif\" font-size=\"12\" lengthAdjust=\"spacingAndGlyphs\" textLength=\"8\" x=\"140\" y=\"242.1074\">A</text><line style=\"stroke: #A80036; stroke-width: 1.5;\" x1=\"110\" x2=\"178\" y1=\"249.9375\" y2=\"249.9375\"/></a><!--MD5=[60a26617385b1d2d0262a64233df1f8d]\n",
       "class E6--><a href=\"psysml:8ace276a-6fab-4d9f-9bdd-b9a7961474a1\" target=\"_top\" title=\"psysml:8ace276a-6fab-4d9f-9bdd-b9a7961474a1\" xlink:actuate=\"onRequest\" xlink:href=\"psysml:8ace276a-6fab-4d9f-9bdd-b9a7961474a1\" xlink:show=\"new\" xlink:title=\"psysml:8ace276a-6fab-4d9f-9bdd-b9a7961474a1\" xlink:type=\"simple\"><rect fill=\"#FEFECE\" filter=\"url(#fpw4tsvc1d78z)\" height=\"45.9375\" id=\"E6\" rx=\"10\" ry=\"10\" style=\"stroke: #A80036; stroke-width: 1.5;\" width=\"42\" x=\"137\" y=\"87.5\"/><text fill=\"#000000\" font-family=\"sans-serif\" font-size=\"12\" font-style=\"italic\" lengthAdjust=\"spacingAndGlyphs\" textLength=\"40\" x=\"138\" y=\"103.6387\">«part»</text><text fill=\"#000000\" font-family=\"sans-serif\" font-size=\"12\" lengthAdjust=\"spacingAndGlyphs\" textLength=\"22\" x=\"145\" y=\"117.6074\">x: A</text><line style=\"stroke: #A80036; stroke-width: 1.5;\" x1=\"138\" x2=\"178\" y1=\"125.4375\" y2=\"125.4375\"/></a><a href=\"psysml:b9f88b2a-f312-44cc-a9e4-c89396ff9243\" target=\"_top\" title=\"psysml:b9f88b2a-f312-44cc-a9e4-c89396ff9243\" xlink:actuate=\"onRequest\" xlink:href=\"psysml:b9f88b2a-f312-44cc-a9e4-c89396ff9243\" xlink:show=\"new\" xlink:title=\"psysml:b9f88b2a-f312-44cc-a9e4-c89396ff9243\" xlink:type=\"simple\"><polygon fill=\"#FFFFFF\" filter=\"url(#fpw4tsvc1d78z)\" points=\"56,84,88,84,95,106.2969,102,106.2969,102,136.5938,56,136.5938,56,84\" style=\"stroke: #000000; stroke-width: 1.5;\"/><line style=\"stroke: #000000; stroke-width: 1.5;\" x1=\"56\" x2=\"95\" y1=\"106.2969\" y2=\"106.2969\"/><text fill=\"#000000\" font-family=\"sans-serif\" font-size=\"14\" font-weight=\"bold\" lengthAdjust=\"spacingAndGlyphs\" textLength=\"26\" x=\"60\" y=\"98.9951\">P2a</text></a><!--MD5=[a717450b82c80b9240a525fa862496af]\n",
       "link E6 to E3--><a href=\"psysml:3b068d74-51f4-4206-8ca3-dd0a14e18b44\" target=\"_top\" title=\"psysml:3b068d74-51f4-4206-8ca3-dd0a14e18b44\" xlink:actuate=\"onRequest\" xlink:href=\"psysml:3b068d74-51f4-4206-8ca3-dd0a14e18b44\" xlink:show=\"new\" xlink:title=\"psysml:3b068d74-51f4-4206-8ca3-dd0a14e18b44\" xlink:type=\"simple\"><path d=\"M155.46,133.68 C153.61,149.9 151.04,172.39 148.8,191.96 \" fill=\"none\" id=\"E6-&gt;E3\" style=\"stroke: #A80036; stroke-width: 1.0;\"/><polygon fill=\"#FFFFFF\" points=\"146.52,211.98,141.7231,192.308,155.6325,193.8979,146.52,211.98\" style=\"stroke: #A80036; stroke-width: 1.0;\"/><ellipse cx=\"144.3574\" cy=\"186.872\" fill=\"#A80036\" rx=\"2\" ry=\"2\" style=\"stroke: #A80036; stroke-width: 1.0;\"/><ellipse cx=\"154.2928\" cy=\"188.0076\" fill=\"#A80036\" rx=\"2\" ry=\"2\" style=\"stroke: #A80036; stroke-width: 1.0;\"/></a><!--MD5=[199599e6b93fe0d5c3b5f723081809aa]\n",
       "@startuml\r\n",
       "skinparam wrapWidth 300\r\n",
       "hide circle\r\n",
       "\r\n",
       "package \"QualifiedNameImportTest\" as E1  [[psysml:a2205de8-88da-4a82-9d0c-530bb72328d3 ]]  {\r\n",
       "package \"P1\" as E2  [[psysml:e0b1ca8b-31cf-4033-8a32-a89f430be7de ]]  {\r\n",
       "comp def \"A\" as E3  <<(T,blue) part  def>> [[psysml:b95e347b-a360-4ede-8f45-88f4f6a9f0a4 ]] {\r\n",
       "}\r\n",
       "}\r\n",
       "package \"P2\" as E4  [[psysml:9d5af9ae-79ba-44ae-999f-9385e3e881ff ]]  {\r\n",
       "package \"P2a\" as E5  [[psysml:b9f88b2a-f312-44cc-a9e4-c89396ff9243 ]]  {\r\n",
       "}\r\n",
       "comp usage \"x: A \" as E6  <<(T,blue) part>> [[psysml:8ace276a-6fab-4d9f-9bdd-b9a7961474a1 ]] {\r\n",
       "}\r\n",
       "}\r\n",
       "}\r\n",
       "E6 - -:|> E3 [[psysml:3b068d74-51f4-4206-8ca3-dd0a14e18b44 ]] \r\n",
       "@enduml\r\n",
       "\n",
       "PlantUML version 1.2020.13(Sat Jun 13 12:26:38 UTC 2020)\n",
       "(EPL source distribution)\n",
       "Java Runtime: OpenJDK Runtime Environment\n",
       "JVM: OpenJDK 64-Bit Server VM\n",
       "Default Encoding: UTF-8\n",
       "Language: en\n",
       "Country: null\n",
       "--></g></svg>"
      ]
     },
     "execution_count": 23,
     "metadata": {},
     "output_type": "execute_result"
    }
   ],
   "source": [
    "%viz --style=\"STDCOLOR\" --view=\"Default\" \"QualifiedNameImportTest\""
   ]
  },
  {
   "cell_type": "code",
   "execution_count": 24,
   "id": "9e7ba30c",
   "metadata": {
    "execution": {
     "iopub.execute_input": "2021-10-25T08:23:44.619842Z",
     "iopub.status.busy": "2021-10-25T08:23:44.619420Z",
     "iopub.status.idle": "2021-10-25T08:23:44.654028Z",
     "shell.execute_reply": "2021-10-25T08:23:44.653669Z"
    }
   },
   "outputs": [
    {
     "data": {
      "image/svg+xml": [
       "<?xml version=\"1.0\" encoding=\"UTF-8\" standalone=\"no\"?><svg xmlns=\"http://www.w3.org/2000/svg\" xmlns:xlink=\"http://www.w3.org/1999/xlink\" contentScriptType=\"application/ecmascript\" contentStyleType=\"text/css\" height=\"310px\" preserveAspectRatio=\"none\" style=\"width:241px;height:310px;\" version=\"1.1\" viewBox=\"0 0 241 310\" width=\"241px\" zoomAndPan=\"magnify\"><defs><filter height=\"300%\" id=\"fpw4tsvc1d78z\" width=\"300%\" x=\"-1\" y=\"-1\"><feGaussianBlur result=\"blurOut\" stdDeviation=\"2.0\"/><feColorMatrix in=\"blurOut\" result=\"blurOut2\" type=\"matrix\" values=\"0 0 0 0 0 0 0 0 0 0 0 0 0 0 0 0 0 0 .4 0\"/><feOffset dx=\"4.0\" dy=\"4.0\" in=\"blurOut2\" result=\"blurOut3\"/><feBlend in=\"SourceGraphic\" in2=\"blurOut3\" mode=\"normal\"/></filter></defs><g><!--MD5=[fbc87193dbaf4d95561dea2c320d4a47]\n",
       "cluster E1--><a href=\"psysml:a2205de8-88da-4a82-9d0c-530bb72328d3\" target=\"_top\" title=\"psysml:a2205de8-88da-4a82-9d0c-530bb72328d3\" xlink:actuate=\"onRequest\" xlink:href=\"psysml:a2205de8-88da-4a82-9d0c-530bb72328d3\" xlink:show=\"new\" xlink:title=\"psysml:a2205de8-88da-4a82-9d0c-530bb72328d3\" xlink:type=\"simple\"><polygon fill=\"#FFFFFF\" filter=\"url(#fpw4tsvc1d78z)\" points=\"16,6,196,6,203,28.2969,219,28.2969,219,298,16,298,16,6\" style=\"stroke: #000000; stroke-width: 1.5;\"/><line style=\"stroke: #000000; stroke-width: 1.5;\" x1=\"16\" x2=\"203\" y1=\"28.2969\" y2=\"28.2969\"/><text fill=\"#000000\" font-family=\"sans-serif\" font-size=\"14\" font-weight=\"bold\" lengthAdjust=\"spacingAndGlyphs\" textLength=\"174\" x=\"20\" y=\"20.9951\">QualifiedNameImportTest</text></a><!--MD5=[e4f7fae6ed58524ba242bb0b0d3be6b7]\n",
       "cluster E2--><a href=\"psysml:e0b1ca8b-31cf-4033-8a32-a89f430be7de\" target=\"_top\" title=\"psysml:e0b1ca8b-31cf-4033-8a32-a89f430be7de\" xlink:actuate=\"onRequest\" xlink:href=\"psysml:e0b1ca8b-31cf-4033-8a32-a89f430be7de\" xlink:show=\"new\" xlink:title=\"psysml:e0b1ca8b-31cf-4033-8a32-a89f430be7de\" xlink:type=\"simple\"><polygon fill=\"#FFFFFF\" filter=\"url(#fpw4tsvc1d78z)\" points=\"93,177,117,177,124,199.2969,195,199.2969,195,274,93,274,93,177\" style=\"stroke: #000000; stroke-width: 1.5;\"/><line style=\"stroke: #000000; stroke-width: 1.5;\" x1=\"93\" x2=\"124\" y1=\"199.2969\" y2=\"199.2969\"/><text fill=\"#000000\" font-family=\"sans-serif\" font-size=\"14\" font-weight=\"bold\" lengthAdjust=\"spacingAndGlyphs\" textLength=\"18\" x=\"97\" y=\"191.9951\">P1</text></a><!--MD5=[f6df4d0ebaf0b5dfb2ced0ae5af7c670]\n",
       "cluster E4--><a href=\"psysml:9d5af9ae-79ba-44ae-999f-9385e3e881ff\" target=\"_top\" title=\"psysml:9d5af9ae-79ba-44ae-999f-9385e3e881ff\" xlink:actuate=\"onRequest\" xlink:href=\"psysml:9d5af9ae-79ba-44ae-999f-9385e3e881ff\" xlink:show=\"new\" xlink:title=\"psysml:9d5af9ae-79ba-44ae-999f-9385e3e881ff\" xlink:type=\"simple\"><polygon fill=\"#FFFFFF\" filter=\"url(#fpw4tsvc1d78z)\" points=\"40,49,64,49,71,71.2969,195,71.2969,195,153,40,153,40,49\" style=\"stroke: #000000; stroke-width: 1.5;\"/><line style=\"stroke: #000000; stroke-width: 1.5;\" x1=\"40\" x2=\"71\" y1=\"71.2969\" y2=\"71.2969\"/><text fill=\"#000000\" font-family=\"sans-serif\" font-size=\"14\" font-weight=\"bold\" lengthAdjust=\"spacingAndGlyphs\" textLength=\"18\" x=\"44\" y=\"63.9951\">P2</text></a><!--MD5=[09b614a08d8cba4a07c9adeb5e0fee81]\n",
       "class E3--><a href=\"psysml:b95e347b-a360-4ede-8f45-88f4f6a9f0a4\" target=\"_top\" title=\"psysml:b95e347b-a360-4ede-8f45-88f4f6a9f0a4\" xlink:actuate=\"onRequest\" xlink:href=\"psysml:b95e347b-a360-4ede-8f45-88f4f6a9f0a4\" xlink:show=\"new\" xlink:title=\"psysml:b95e347b-a360-4ede-8f45-88f4f6a9f0a4\" xlink:type=\"simple\"><rect fill=\"#FEFECE\" filter=\"url(#fpw4tsvc1d78z)\" height=\"45.9375\" id=\"E3\" style=\"stroke: #A80036; stroke-width: 1.5;\" width=\"70\" x=\"109\" y=\"212\"/><text fill=\"#000000\" font-family=\"sans-serif\" font-size=\"12\" font-style=\"italic\" lengthAdjust=\"spacingAndGlyphs\" textLength=\"68\" x=\"110\" y=\"228.1387\">«part  def»</text><text fill=\"#000000\" font-family=\"sans-serif\" font-size=\"12\" lengthAdjust=\"spacingAndGlyphs\" textLength=\"8\" x=\"140\" y=\"242.1074\">A</text><line style=\"stroke: #A80036; stroke-width: 1.5;\" x1=\"110\" x2=\"178\" y1=\"249.9375\" y2=\"249.9375\"/></a><!--MD5=[60a26617385b1d2d0262a64233df1f8d]\n",
       "class E6--><a href=\"psysml:8ace276a-6fab-4d9f-9bdd-b9a7961474a1\" target=\"_top\" title=\"psysml:8ace276a-6fab-4d9f-9bdd-b9a7961474a1\" xlink:actuate=\"onRequest\" xlink:href=\"psysml:8ace276a-6fab-4d9f-9bdd-b9a7961474a1\" xlink:show=\"new\" xlink:title=\"psysml:8ace276a-6fab-4d9f-9bdd-b9a7961474a1\" xlink:type=\"simple\"><rect fill=\"#FEFECE\" filter=\"url(#fpw4tsvc1d78z)\" height=\"45.9375\" id=\"E6\" rx=\"10\" ry=\"10\" style=\"stroke: #A80036; stroke-width: 1.5;\" width=\"42\" x=\"137\" y=\"87.5\"/><text fill=\"#000000\" font-family=\"sans-serif\" font-size=\"12\" font-style=\"italic\" lengthAdjust=\"spacingAndGlyphs\" textLength=\"40\" x=\"138\" y=\"103.6387\">«part»</text><text fill=\"#000000\" font-family=\"sans-serif\" font-size=\"12\" lengthAdjust=\"spacingAndGlyphs\" textLength=\"22\" x=\"145\" y=\"117.6074\">x: A</text><line style=\"stroke: #A80036; stroke-width: 1.5;\" x1=\"138\" x2=\"178\" y1=\"125.4375\" y2=\"125.4375\"/></a><a href=\"psysml:b9f88b2a-f312-44cc-a9e4-c89396ff9243\" target=\"_top\" title=\"psysml:b9f88b2a-f312-44cc-a9e4-c89396ff9243\" xlink:actuate=\"onRequest\" xlink:href=\"psysml:b9f88b2a-f312-44cc-a9e4-c89396ff9243\" xlink:show=\"new\" xlink:title=\"psysml:b9f88b2a-f312-44cc-a9e4-c89396ff9243\" xlink:type=\"simple\"><polygon fill=\"#FFFFFF\" filter=\"url(#fpw4tsvc1d78z)\" points=\"56,84,88,84,95,106.2969,102,106.2969,102,136.5938,56,136.5938,56,84\" style=\"stroke: #000000; stroke-width: 1.5;\"/><line style=\"stroke: #000000; stroke-width: 1.5;\" x1=\"56\" x2=\"95\" y1=\"106.2969\" y2=\"106.2969\"/><text fill=\"#000000\" font-family=\"sans-serif\" font-size=\"14\" font-weight=\"bold\" lengthAdjust=\"spacingAndGlyphs\" textLength=\"26\" x=\"60\" y=\"98.9951\">P2a</text></a><!--MD5=[a717450b82c80b9240a525fa862496af]\n",
       "link E6 to E3--><a href=\"psysml:3b068d74-51f4-4206-8ca3-dd0a14e18b44\" target=\"_top\" title=\"psysml:3b068d74-51f4-4206-8ca3-dd0a14e18b44\" xlink:actuate=\"onRequest\" xlink:href=\"psysml:3b068d74-51f4-4206-8ca3-dd0a14e18b44\" xlink:show=\"new\" xlink:title=\"psysml:3b068d74-51f4-4206-8ca3-dd0a14e18b44\" xlink:type=\"simple\"><path d=\"M155.46,133.68 C153.61,149.9 151.04,172.39 148.8,191.96 \" fill=\"none\" id=\"E6-&gt;E3\" style=\"stroke: #A80036; stroke-width: 1.0;\"/><polygon fill=\"#FFFFFF\" points=\"146.52,211.98,141.7231,192.308,155.6325,193.8979,146.52,211.98\" style=\"stroke: #A80036; stroke-width: 1.0;\"/><ellipse cx=\"144.3574\" cy=\"186.872\" fill=\"#A80036\" rx=\"2\" ry=\"2\" style=\"stroke: #A80036; stroke-width: 1.0;\"/><ellipse cx=\"154.2928\" cy=\"188.0076\" fill=\"#A80036\" rx=\"2\" ry=\"2\" style=\"stroke: #A80036; stroke-width: 1.0;\"/></a><!--MD5=[199599e6b93fe0d5c3b5f723081809aa]\n",
       "@startuml\r\n",
       "skinparam wrapWidth 300\r\n",
       "hide circle\r\n",
       "\r\n",
       "package \"QualifiedNameImportTest\" as E1  [[psysml:a2205de8-88da-4a82-9d0c-530bb72328d3 ]]  {\r\n",
       "package \"P1\" as E2  [[psysml:e0b1ca8b-31cf-4033-8a32-a89f430be7de ]]  {\r\n",
       "comp def \"A\" as E3  <<(T,blue) part  def>> [[psysml:b95e347b-a360-4ede-8f45-88f4f6a9f0a4 ]] {\r\n",
       "}\r\n",
       "}\r\n",
       "package \"P2\" as E4  [[psysml:9d5af9ae-79ba-44ae-999f-9385e3e881ff ]]  {\r\n",
       "package \"P2a\" as E5  [[psysml:b9f88b2a-f312-44cc-a9e4-c89396ff9243 ]]  {\r\n",
       "}\r\n",
       "comp usage \"x: A \" as E6  <<(T,blue) part>> [[psysml:8ace276a-6fab-4d9f-9bdd-b9a7961474a1 ]] {\r\n",
       "}\r\n",
       "}\r\n",
       "}\r\n",
       "E6 - -:|> E3 [[psysml:3b068d74-51f4-4206-8ca3-dd0a14e18b44 ]] \r\n",
       "@enduml\r\n",
       "\n",
       "PlantUML version 1.2020.13(Sat Jun 13 12:26:38 UTC 2020)\n",
       "(EPL source distribution)\n",
       "Java Runtime: OpenJDK Runtime Environment\n",
       "JVM: OpenJDK 64-Bit Server VM\n",
       "Default Encoding: UTF-8\n",
       "Language: en\n",
       "Country: null\n",
       "--></g></svg>"
      ]
     },
     "execution_count": 24,
     "metadata": {},
     "output_type": "execute_result"
    }
   ],
   "source": [
    "%viz --style=\"STDCOLOR\" --view=\"Tree\" \"QualifiedNameImportTest\""
   ]
  },
  {
   "cell_type": "code",
   "execution_count": 25,
   "id": "b4ea0d01",
   "metadata": {
    "execution": {
     "iopub.execute_input": "2021-10-25T08:23:44.703518Z",
     "iopub.status.busy": "2021-10-25T08:23:44.703115Z",
     "iopub.status.idle": "2021-10-25T08:23:44.708838Z",
     "shell.execute_reply": "2021-10-25T08:23:44.709157Z"
    }
   },
   "outputs": [
    {
     "data": {
      "image/svg+xml": [
       "<?xml version=\"1.0\" encoding=\"UTF-8\" standalone=\"no\"?><svg xmlns=\"http://www.w3.org/2000/svg\" xmlns:xlink=\"http://www.w3.org/1999/xlink\" contentScriptType=\"application/ecmascript\" contentStyleType=\"text/css\" height=\"12px\" preserveAspectRatio=\"none\" style=\"width:12px;height:12px;\" version=\"1.1\" viewBox=\"0 0 12 12\" width=\"12px\" zoomAndPan=\"magnify\"><defs/><g><!--MD5=[aeeef50f102b80d730deb6443d14f702]\n",
       "@startuml\r\n",
       "skinparam wrapWidth 300\r\n",
       "hide circle\r\n",
       "\r\n",
       "@enduml\r\n",
       "\n",
       "PlantUML version 1.2020.13(Sat Jun 13 12:26:38 UTC 2020)\n",
       "(EPL source distribution)\n",
       "Java Runtime: OpenJDK Runtime Environment\n",
       "JVM: OpenJDK 64-Bit Server VM\n",
       "Default Encoding: UTF-8\n",
       "Language: en\n",
       "Country: null\n",
       "--></g></svg>"
      ]
     },
     "execution_count": 25,
     "metadata": {},
     "output_type": "execute_result"
    }
   ],
   "source": [
    "%viz --style=\"STDCOLOR\" --view=\"State\" \"QualifiedNameImportTest\""
   ]
  },
  {
   "cell_type": "code",
   "execution_count": 26,
   "id": "80c7a32f",
   "metadata": {
    "execution": {
     "iopub.execute_input": "2021-10-25T08:23:44.758841Z",
     "iopub.status.busy": "2021-10-25T08:23:44.758440Z",
     "iopub.status.idle": "2021-10-25T08:23:44.787380Z",
     "shell.execute_reply": "2021-10-25T08:23:44.787028Z"
    }
   },
   "outputs": [
    {
     "data": {
      "image/svg+xml": [
       "<?xml version=\"1.0\" encoding=\"UTF-8\" standalone=\"no\"?><svg xmlns=\"http://www.w3.org/2000/svg\" xmlns:xlink=\"http://www.w3.org/1999/xlink\" contentScriptType=\"application/ecmascript\" contentStyleType=\"text/css\" height=\"189px\" preserveAspectRatio=\"none\" style=\"width:379px;height:189px;\" version=\"1.1\" viewBox=\"0 0 379 189\" width=\"379px\" zoomAndPan=\"magnify\"><defs><filter height=\"300%\" id=\"f9u87onyoy0el\" width=\"300%\" x=\"-1\" y=\"-1\"><feGaussianBlur result=\"blurOut\" stdDeviation=\"2.0\"/><feColorMatrix in=\"blurOut\" result=\"blurOut2\" type=\"matrix\" values=\"0 0 0 0 0 0 0 0 0 0 0 0 0 0 0 0 0 0 .4 0\"/><feOffset dx=\"4.0\" dy=\"4.0\" in=\"blurOut2\" result=\"blurOut3\"/><feBlend in=\"SourceGraphic\" in2=\"blurOut3\" mode=\"normal\"/></filter></defs><g><!--MD5=[fbc87193dbaf4d95561dea2c320d4a47]\n",
       "cluster E1--><a href=\"psysml:a2205de8-88da-4a82-9d0c-530bb72328d3\" target=\"_top\" title=\"psysml:a2205de8-88da-4a82-9d0c-530bb72328d3\" xlink:actuate=\"onRequest\" xlink:href=\"psysml:a2205de8-88da-4a82-9d0c-530bb72328d3\" xlink:show=\"new\" xlink:title=\"psysml:a2205de8-88da-4a82-9d0c-530bb72328d3\" xlink:type=\"simple\"><polygon fill=\"#FFFFFF\" filter=\"url(#f9u87onyoy0el)\" points=\"16,6,196,6,203,28.2969,357,28.2969,357,177,16,177,16,6\" style=\"stroke: #000000; stroke-width: 1.5;\"/><line style=\"stroke: #000000; stroke-width: 1.5;\" x1=\"16\" x2=\"203\" y1=\"28.2969\" y2=\"28.2969\"/><text fill=\"#000000\" font-family=\"sans-serif\" font-size=\"14\" font-weight=\"bold\" lengthAdjust=\"spacingAndGlyphs\" textLength=\"174\" x=\"20\" y=\"20.9951\">QualifiedNameImportTest</text></a><!--MD5=[e4f7fae6ed58524ba242bb0b0d3be6b7]\n",
       "cluster E2--><a href=\"psysml:e0b1ca8b-31cf-4033-8a32-a89f430be7de\" target=\"_top\" title=\"psysml:e0b1ca8b-31cf-4033-8a32-a89f430be7de\" xlink:actuate=\"onRequest\" xlink:href=\"psysml:e0b1ca8b-31cf-4033-8a32-a89f430be7de\" xlink:show=\"new\" xlink:title=\"psysml:e0b1ca8b-31cf-4033-8a32-a89f430be7de\" xlink:type=\"simple\"><polygon fill=\"#FFFFFF\" filter=\"url(#f9u87onyoy0el)\" points=\"227,54,251,54,258,76.2969,333,76.2969,333,148,227,148,227,54\" style=\"stroke: #000000; stroke-width: 1.5;\"/><line style=\"stroke: #000000; stroke-width: 1.5;\" x1=\"227\" x2=\"258\" y1=\"76.2969\" y2=\"76.2969\"/><text fill=\"#000000\" font-family=\"sans-serif\" font-size=\"14\" font-weight=\"bold\" lengthAdjust=\"spacingAndGlyphs\" textLength=\"18\" x=\"231\" y=\"68.9951\">P1</text></a><!--MD5=[f6df4d0ebaf0b5dfb2ced0ae5af7c670]\n",
       "cluster E4--><a href=\"psysml:9d5af9ae-79ba-44ae-999f-9385e3e881ff\" target=\"_top\" title=\"psysml:9d5af9ae-79ba-44ae-999f-9385e3e881ff\" xlink:actuate=\"onRequest\" xlink:href=\"psysml:9d5af9ae-79ba-44ae-999f-9385e3e881ff\" xlink:show=\"new\" xlink:title=\"psysml:9d5af9ae-79ba-44ae-999f-9385e3e881ff\" xlink:type=\"simple\"><polygon fill=\"#FFFFFF\" filter=\"url(#f9u87onyoy0el)\" points=\"40,49,64,49,71,71.2969,203,71.2969,203,153,40,153,40,49\" style=\"stroke: #000000; stroke-width: 1.5;\"/><line style=\"stroke: #000000; stroke-width: 1.5;\" x1=\"40\" x2=\"71\" y1=\"71.2969\" y2=\"71.2969\"/><text fill=\"#000000\" font-family=\"sans-serif\" font-size=\"14\" font-weight=\"bold\" lengthAdjust=\"spacingAndGlyphs\" textLength=\"18\" x=\"44\" y=\"63.9951\">P2</text></a><g id=\"E1.E2.E3\"><a href=\"psysml:b95e347b-a360-4ede-8f45-88f4f6a9f0a4\" target=\"_top\" title=\"psysml:b95e347b-a360-4ede-8f45-88f4f6a9f0a4\" xlink:actuate=\"onRequest\" xlink:href=\"psysml:b95e347b-a360-4ede-8f45-88f4f6a9f0a4\" xlink:show=\"new\" xlink:title=\"psysml:b95e347b-a360-4ede-8f45-88f4f6a9f0a4\" xlink:type=\"simple\"><rect fill=\"#FEFECE\" filter=\"url(#f9u87onyoy0el)\" height=\"42.9375\" id=\"E3\" style=\"stroke: #A80036; stroke-width: 1.5;\" width=\"75\" x=\"242.5\" y=\"89\"/><text fill=\"#000000\" font-family=\"sans-serif\" font-size=\"12\" font-style=\"italic\" lengthAdjust=\"spacingAndGlyphs\" textLength=\"68\" x=\"246\" y=\"105.1387\">«part  def»</text><text fill=\"#000000\" font-family=\"sans-serif\" font-size=\"12\" lengthAdjust=\"spacingAndGlyphs\" textLength=\"8\" x=\"276\" y=\"119.1074\">A</text></a></g><a href=\"psysml:b9f88b2a-f312-44cc-a9e4-c89396ff9243\" target=\"_top\" title=\"psysml:b9f88b2a-f312-44cc-a9e4-c89396ff9243\" xlink:actuate=\"onRequest\" xlink:href=\"psysml:b9f88b2a-f312-44cc-a9e4-c89396ff9243\" xlink:show=\"new\" xlink:title=\"psysml:b9f88b2a-f312-44cc-a9e4-c89396ff9243\" xlink:type=\"simple\"><polygon fill=\"#FFFFFF\" filter=\"url(#f9u87onyoy0el)\" points=\"141,84,173,84,180,106.2969,187,106.2969,187,136.5938,141,136.5938,141,84\" style=\"stroke: #000000; stroke-width: 1.5;\"/><line style=\"stroke: #000000; stroke-width: 1.5;\" x1=\"141\" x2=\"180\" y1=\"106.2969\" y2=\"106.2969\"/><text fill=\"#000000\" font-family=\"sans-serif\" font-size=\"14\" font-weight=\"bold\" lengthAdjust=\"spacingAndGlyphs\" textLength=\"26\" x=\"145\" y=\"98.9951\">P2a</text></a><g id=\"E1.E4.E6\"><a href=\"psysml:8ace276a-6fab-4d9f-9bdd-b9a7961474a1\" target=\"_top\" title=\"psysml:8ace276a-6fab-4d9f-9bdd-b9a7961474a1\" xlink:actuate=\"onRequest\" xlink:href=\"psysml:8ace276a-6fab-4d9f-9bdd-b9a7961474a1\" xlink:show=\"new\" xlink:title=\"psysml:8ace276a-6fab-4d9f-9bdd-b9a7961474a1\" xlink:type=\"simple\"><rect fill=\"#FEFECE\" filter=\"url(#f9u87onyoy0el)\" height=\"40\" id=\"E6\" rx=\"10\" ry=\"10\" style=\"stroke: #A80036; stroke-width: 1.5;\" width=\"50\" x=\"56\" y=\"90.5\"/><text fill=\"#000000\" font-family=\"sans-serif\" font-size=\"12\" lengthAdjust=\"spacingAndGlyphs\" textLength=\"22\" x=\"70\" y=\"106.6387\">x: A</text></a></g><!--MD5=[9ba900f72a778994a3254913419ca4bd]\n",
       "@startuml\r\n",
       "skinparam ranksep 10\r\n",
       "skinparam rectangle {\r\n",
       " backgroundColor<<block>> LightGreen\r\n",
       "}\r\n",
       "skinparam wrapWidth 300\r\n",
       "hide circle\r\n",
       "\r\n",
       "package \"QualifiedNameImportTest\" as E1  [[psysml:a2205de8-88da-4a82-9d0c-530bb72328d3 ]]  {\r\n",
       "package \"P1\" as E2  [[psysml:e0b1ca8b-31cf-4033-8a32-a89f430be7de ]]  {\r\n",
       "rec def \"A\" as E3  <<(T,blue) part  def>> [[psysml:b95e347b-a360-4ede-8f45-88f4f6a9f0a4 ]] {\r\n",
       "}\r\n",
       "}\r\n",
       "package \"P2\" as E4  [[psysml:9d5af9ae-79ba-44ae-999f-9385e3e881ff ]]  {\r\n",
       "package \"P2a\" as E5  [[psysml:b9f88b2a-f312-44cc-a9e4-c89396ff9243 ]]  {\r\n",
       "}\r\n",
       "rec usage \"x: A\" as E6  [[psysml:8ace276a-6fab-4d9f-9bdd-b9a7961474a1 ]] {\r\n",
       "}\r\n",
       "}\r\n",
       "}\r\n",
       "@enduml\r\n",
       "\n",
       "PlantUML version 1.2020.13(Sat Jun 13 12:26:38 UTC 2020)\n",
       "(EPL source distribution)\n",
       "Java Runtime: OpenJDK Runtime Environment\n",
       "JVM: OpenJDK 64-Bit Server VM\n",
       "Default Encoding: UTF-8\n",
       "Language: en\n",
       "Country: null\n",
       "--></g></svg>"
      ]
     },
     "execution_count": 26,
     "metadata": {},
     "output_type": "execute_result"
    }
   ],
   "source": [
    "%viz --style=\"STDCOLOR\" --view=\"Interconnection\" \"QualifiedNameImportTest\""
   ]
  },
  {
   "cell_type": "code",
   "execution_count": 27,
   "id": "b3a92d29",
   "metadata": {
    "execution": {
     "iopub.execute_input": "2021-10-25T08:23:44.836875Z",
     "iopub.status.busy": "2021-10-25T08:23:44.836477Z",
     "iopub.status.idle": "2021-10-25T08:23:44.842311Z",
     "shell.execute_reply": "2021-10-25T08:23:44.842624Z"
    }
   },
   "outputs": [
    {
     "data": {
      "image/svg+xml": [
       "<?xml version=\"1.0\" encoding=\"UTF-8\" standalone=\"no\"?><svg xmlns=\"http://www.w3.org/2000/svg\" xmlns:xlink=\"http://www.w3.org/1999/xlink\" contentScriptType=\"application/ecmascript\" contentStyleType=\"text/css\" height=\"12px\" preserveAspectRatio=\"none\" style=\"width:12px;height:12px;\" version=\"1.1\" viewBox=\"0 0 12 12\" width=\"12px\" zoomAndPan=\"magnify\"><defs/><g><!--MD5=[9863325348a96a77dacc89509d8ee65e]\n",
       "@startuml\r\n",
       "skinparam ranksep 8\r\n",
       "skinparam wrapWidth 300\r\n",
       "hide circle\r\n",
       "\r\n",
       "@enduml\r\n",
       "\n",
       "PlantUML version 1.2020.13(Sat Jun 13 12:26:38 UTC 2020)\n",
       "(EPL source distribution)\n",
       "Java Runtime: OpenJDK Runtime Environment\n",
       "JVM: OpenJDK 64-Bit Server VM\n",
       "Default Encoding: UTF-8\n",
       "Language: en\n",
       "Country: null\n",
       "--></g></svg>"
      ]
     },
     "execution_count": 27,
     "metadata": {},
     "output_type": "execute_result"
    }
   ],
   "source": [
    "%viz --style=\"STDCOLOR\" --view=\"Action\" \"QualifiedNameImportTest\""
   ]
  },
  {
   "cell_type": "code",
   "execution_count": 28,
   "id": "022d09a6",
   "metadata": {
    "execution": {
     "iopub.execute_input": "2021-10-25T08:23:44.892518Z",
     "iopub.status.busy": "2021-10-25T08:23:44.892108Z",
     "iopub.status.idle": "2021-10-25T08:23:44.897323Z",
     "shell.execute_reply": "2021-10-25T08:23:44.897661Z"
    }
   },
   "outputs": [
    {
     "data": {
      "image/svg+xml": [
       "<?xml version=\"1.0\" encoding=\"UTF-8\" standalone=\"no\"?><svg xmlns=\"http://www.w3.org/2000/svg\" xmlns:xlink=\"http://www.w3.org/1999/xlink\" contentScriptType=\"application/ecmascript\" contentStyleType=\"text/css\" height=\"12px\" preserveAspectRatio=\"none\" style=\"width:12px;height:12px;\" version=\"1.1\" viewBox=\"0 0 12 12\" width=\"12px\" zoomAndPan=\"magnify\"><defs/><g><!--MD5=[6c4bca67b4d71758159a5a7f1f1e1fc2]\n",
       "@startuml\r\n",
       "skinparam roundcorner 20\r\n",
       "skinparam BoxPadding 20\r\n",
       "skinparam SequenceBoxBackgroundColor #white\r\n",
       "skinparam style strictuml\r\n",
       "skinparam maxMessageSize 100\r\n",
       "skinparam wrapWidth 300\r\n",
       "hide circle\r\n",
       "\r\n",
       "@enduml\r\n",
       "\n",
       "PlantUML version 1.2020.13(Sat Jun 13 12:26:38 UTC 2020)\n",
       "(EPL source distribution)\n",
       "Java Runtime: OpenJDK Runtime Environment\n",
       "JVM: OpenJDK 64-Bit Server VM\n",
       "Default Encoding: UTF-8\n",
       "Language: en\n",
       "Country: null\n",
       "--></g></svg>"
      ]
     },
     "execution_count": 28,
     "metadata": {},
     "output_type": "execute_result"
    }
   ],
   "source": [
    "%viz --style=\"STDCOLOR\" --view=\"Sequence\" \"QualifiedNameImportTest\""
   ]
  },
  {
   "cell_type": "code",
   "execution_count": 29,
   "id": "a9916cb0",
   "metadata": {
    "execution": {
     "iopub.execute_input": "2021-10-25T08:23:44.947254Z",
     "iopub.status.busy": "2021-10-25T08:23:44.946855Z",
     "iopub.status.idle": "2021-10-25T08:23:44.978454Z",
     "shell.execute_reply": "2021-10-25T08:23:44.978106Z"
    }
   },
   "outputs": [
    {
     "data": {
      "image/svg+xml": [
       "<?xml version=\"1.0\" encoding=\"UTF-8\" standalone=\"no\"?><svg xmlns=\"http://www.w3.org/2000/svg\" xmlns:xlink=\"http://www.w3.org/1999/xlink\" contentScriptType=\"application/ecmascript\" contentStyleType=\"text/css\" height=\"310px\" preserveAspectRatio=\"none\" style=\"width:241px;height:310px;\" version=\"1.1\" viewBox=\"0 0 241 310\" width=\"241px\" zoomAndPan=\"magnify\"><defs><filter height=\"300%\" id=\"fpw4tsvc1d78z\" width=\"300%\" x=\"-1\" y=\"-1\"><feGaussianBlur result=\"blurOut\" stdDeviation=\"2.0\"/><feColorMatrix in=\"blurOut\" result=\"blurOut2\" type=\"matrix\" values=\"0 0 0 0 0 0 0 0 0 0 0 0 0 0 0 0 0 0 .4 0\"/><feOffset dx=\"4.0\" dy=\"4.0\" in=\"blurOut2\" result=\"blurOut3\"/><feBlend in=\"SourceGraphic\" in2=\"blurOut3\" mode=\"normal\"/></filter></defs><g><!--MD5=[fbc87193dbaf4d95561dea2c320d4a47]\n",
       "cluster E1--><a href=\"psysml:a2205de8-88da-4a82-9d0c-530bb72328d3\" target=\"_top\" title=\"psysml:a2205de8-88da-4a82-9d0c-530bb72328d3\" xlink:actuate=\"onRequest\" xlink:href=\"psysml:a2205de8-88da-4a82-9d0c-530bb72328d3\" xlink:show=\"new\" xlink:title=\"psysml:a2205de8-88da-4a82-9d0c-530bb72328d3\" xlink:type=\"simple\"><polygon fill=\"#FFFFFF\" filter=\"url(#fpw4tsvc1d78z)\" points=\"16,6,196,6,203,28.2969,219,28.2969,219,298,16,298,16,6\" style=\"stroke: #000000; stroke-width: 1.5;\"/><line style=\"stroke: #000000; stroke-width: 1.5;\" x1=\"16\" x2=\"203\" y1=\"28.2969\" y2=\"28.2969\"/><text fill=\"#000000\" font-family=\"sans-serif\" font-size=\"14\" font-weight=\"bold\" lengthAdjust=\"spacingAndGlyphs\" textLength=\"174\" x=\"20\" y=\"20.9951\">QualifiedNameImportTest</text></a><!--MD5=[e4f7fae6ed58524ba242bb0b0d3be6b7]\n",
       "cluster E2--><a href=\"psysml:e0b1ca8b-31cf-4033-8a32-a89f430be7de\" target=\"_top\" title=\"psysml:e0b1ca8b-31cf-4033-8a32-a89f430be7de\" xlink:actuate=\"onRequest\" xlink:href=\"psysml:e0b1ca8b-31cf-4033-8a32-a89f430be7de\" xlink:show=\"new\" xlink:title=\"psysml:e0b1ca8b-31cf-4033-8a32-a89f430be7de\" xlink:type=\"simple\"><polygon fill=\"#FFFFFF\" filter=\"url(#fpw4tsvc1d78z)\" points=\"93,177,117,177,124,199.2969,195,199.2969,195,274,93,274,93,177\" style=\"stroke: #000000; stroke-width: 1.5;\"/><line style=\"stroke: #000000; stroke-width: 1.5;\" x1=\"93\" x2=\"124\" y1=\"199.2969\" y2=\"199.2969\"/><text fill=\"#000000\" font-family=\"sans-serif\" font-size=\"14\" font-weight=\"bold\" lengthAdjust=\"spacingAndGlyphs\" textLength=\"18\" x=\"97\" y=\"191.9951\">P1</text></a><!--MD5=[f6df4d0ebaf0b5dfb2ced0ae5af7c670]\n",
       "cluster E4--><a href=\"psysml:9d5af9ae-79ba-44ae-999f-9385e3e881ff\" target=\"_top\" title=\"psysml:9d5af9ae-79ba-44ae-999f-9385e3e881ff\" xlink:actuate=\"onRequest\" xlink:href=\"psysml:9d5af9ae-79ba-44ae-999f-9385e3e881ff\" xlink:show=\"new\" xlink:title=\"psysml:9d5af9ae-79ba-44ae-999f-9385e3e881ff\" xlink:type=\"simple\"><polygon fill=\"#FFFFFF\" filter=\"url(#fpw4tsvc1d78z)\" points=\"40,49,64,49,71,71.2969,195,71.2969,195,153,40,153,40,49\" style=\"stroke: #000000; stroke-width: 1.5;\"/><line style=\"stroke: #000000; stroke-width: 1.5;\" x1=\"40\" x2=\"71\" y1=\"71.2969\" y2=\"71.2969\"/><text fill=\"#000000\" font-family=\"sans-serif\" font-size=\"14\" font-weight=\"bold\" lengthAdjust=\"spacingAndGlyphs\" textLength=\"18\" x=\"44\" y=\"63.9951\">P2</text></a><!--MD5=[09b614a08d8cba4a07c9adeb5e0fee81]\n",
       "class E3--><a href=\"psysml:b95e347b-a360-4ede-8f45-88f4f6a9f0a4\" target=\"_top\" title=\"psysml:b95e347b-a360-4ede-8f45-88f4f6a9f0a4\" xlink:actuate=\"onRequest\" xlink:href=\"psysml:b95e347b-a360-4ede-8f45-88f4f6a9f0a4\" xlink:show=\"new\" xlink:title=\"psysml:b95e347b-a360-4ede-8f45-88f4f6a9f0a4\" xlink:type=\"simple\"><rect fill=\"#FEFECE\" filter=\"url(#fpw4tsvc1d78z)\" height=\"45.9375\" id=\"E3\" style=\"stroke: #A80036; stroke-width: 1.5;\" width=\"70\" x=\"109\" y=\"212\"/><text fill=\"#000000\" font-family=\"sans-serif\" font-size=\"12\" font-style=\"italic\" lengthAdjust=\"spacingAndGlyphs\" textLength=\"68\" x=\"110\" y=\"228.1387\">«part  def»</text><text fill=\"#000000\" font-family=\"sans-serif\" font-size=\"12\" lengthAdjust=\"spacingAndGlyphs\" textLength=\"8\" x=\"140\" y=\"242.1074\">A</text><line style=\"stroke: #A80036; stroke-width: 1.5;\" x1=\"110\" x2=\"178\" y1=\"249.9375\" y2=\"249.9375\"/></a><!--MD5=[60a26617385b1d2d0262a64233df1f8d]\n",
       "class E6--><a href=\"psysml:8ace276a-6fab-4d9f-9bdd-b9a7961474a1\" target=\"_top\" title=\"psysml:8ace276a-6fab-4d9f-9bdd-b9a7961474a1\" xlink:actuate=\"onRequest\" xlink:href=\"psysml:8ace276a-6fab-4d9f-9bdd-b9a7961474a1\" xlink:show=\"new\" xlink:title=\"psysml:8ace276a-6fab-4d9f-9bdd-b9a7961474a1\" xlink:type=\"simple\"><rect fill=\"#FEFECE\" filter=\"url(#fpw4tsvc1d78z)\" height=\"45.9375\" id=\"E6\" rx=\"10\" ry=\"10\" style=\"stroke: #A80036; stroke-width: 1.5;\" width=\"42\" x=\"137\" y=\"87.5\"/><text fill=\"#000000\" font-family=\"sans-serif\" font-size=\"12\" font-style=\"italic\" lengthAdjust=\"spacingAndGlyphs\" textLength=\"40\" x=\"138\" y=\"103.6387\">«part»</text><text fill=\"#000000\" font-family=\"sans-serif\" font-size=\"12\" lengthAdjust=\"spacingAndGlyphs\" textLength=\"22\" x=\"145\" y=\"117.6074\">x: A</text><line style=\"stroke: #A80036; stroke-width: 1.5;\" x1=\"138\" x2=\"178\" y1=\"125.4375\" y2=\"125.4375\"/></a><a href=\"psysml:b9f88b2a-f312-44cc-a9e4-c89396ff9243\" target=\"_top\" title=\"psysml:b9f88b2a-f312-44cc-a9e4-c89396ff9243\" xlink:actuate=\"onRequest\" xlink:href=\"psysml:b9f88b2a-f312-44cc-a9e4-c89396ff9243\" xlink:show=\"new\" xlink:title=\"psysml:b9f88b2a-f312-44cc-a9e4-c89396ff9243\" xlink:type=\"simple\"><polygon fill=\"#FFFFFF\" filter=\"url(#fpw4tsvc1d78z)\" points=\"56,84,88,84,95,106.2969,102,106.2969,102,136.5938,56,136.5938,56,84\" style=\"stroke: #000000; stroke-width: 1.5;\"/><line style=\"stroke: #000000; stroke-width: 1.5;\" x1=\"56\" x2=\"95\" y1=\"106.2969\" y2=\"106.2969\"/><text fill=\"#000000\" font-family=\"sans-serif\" font-size=\"14\" font-weight=\"bold\" lengthAdjust=\"spacingAndGlyphs\" textLength=\"26\" x=\"60\" y=\"98.9951\">P2a</text></a><!--MD5=[a717450b82c80b9240a525fa862496af]\n",
       "link E6 to E3--><a href=\"psysml:3b068d74-51f4-4206-8ca3-dd0a14e18b44\" target=\"_top\" title=\"psysml:3b068d74-51f4-4206-8ca3-dd0a14e18b44\" xlink:actuate=\"onRequest\" xlink:href=\"psysml:3b068d74-51f4-4206-8ca3-dd0a14e18b44\" xlink:show=\"new\" xlink:title=\"psysml:3b068d74-51f4-4206-8ca3-dd0a14e18b44\" xlink:type=\"simple\"><path d=\"M155.46,133.68 C153.61,149.9 151.04,172.39 148.8,191.96 \" fill=\"none\" id=\"E6-&gt;E3\" style=\"stroke: #A80036; stroke-width: 1.0;\"/><polygon fill=\"#FFFFFF\" points=\"146.52,211.98,141.7231,192.308,155.6325,193.8979,146.52,211.98\" style=\"stroke: #A80036; stroke-width: 1.0;\"/><ellipse cx=\"144.3574\" cy=\"186.872\" fill=\"#A80036\" rx=\"2\" ry=\"2\" style=\"stroke: #A80036; stroke-width: 1.0;\"/><ellipse cx=\"154.2928\" cy=\"188.0076\" fill=\"#A80036\" rx=\"2\" ry=\"2\" style=\"stroke: #A80036; stroke-width: 1.0;\"/></a><!--MD5=[199599e6b93fe0d5c3b5f723081809aa]\n",
       "@startuml\r\n",
       "skinparam wrapWidth 300\r\n",
       "hide circle\r\n",
       "\r\n",
       "package \"QualifiedNameImportTest\" as E1  [[psysml:a2205de8-88da-4a82-9d0c-530bb72328d3 ]]  {\r\n",
       "package \"P1\" as E2  [[psysml:e0b1ca8b-31cf-4033-8a32-a89f430be7de ]]  {\r\n",
       "comp def \"A\" as E3  <<(T,blue) part  def>> [[psysml:b95e347b-a360-4ede-8f45-88f4f6a9f0a4 ]] {\r\n",
       "}\r\n",
       "}\r\n",
       "package \"P2\" as E4  [[psysml:9d5af9ae-79ba-44ae-999f-9385e3e881ff ]]  {\r\n",
       "package \"P2a\" as E5  [[psysml:b9f88b2a-f312-44cc-a9e4-c89396ff9243 ]]  {\r\n",
       "}\r\n",
       "comp usage \"x: A \" as E6  <<(T,blue) part>> [[psysml:8ace276a-6fab-4d9f-9bdd-b9a7961474a1 ]] {\r\n",
       "}\r\n",
       "}\r\n",
       "}\r\n",
       "E6 - -:|> E3 [[psysml:3b068d74-51f4-4206-8ca3-dd0a14e18b44 ]] \r\n",
       "@enduml\r\n",
       "\n",
       "PlantUML version 1.2020.13(Sat Jun 13 12:26:38 UTC 2020)\n",
       "(EPL source distribution)\n",
       "Java Runtime: OpenJDK Runtime Environment\n",
       "JVM: OpenJDK 64-Bit Server VM\n",
       "Default Encoding: UTF-8\n",
       "Language: en\n",
       "Country: null\n",
       "--></g></svg>"
      ]
     },
     "execution_count": 29,
     "metadata": {},
     "output_type": "execute_result"
    }
   ],
   "source": [
    "%viz --style=\"STDCOLOR\" --view=\"MIXED\" \"QualifiedNameImportTest\""
   ]
  },
  {
   "cell_type": "code",
   "execution_count": 30,
   "id": "d7dca554",
   "metadata": {
    "execution": {
     "iopub.execute_input": "2021-10-25T08:23:45.028207Z",
     "iopub.status.busy": "2021-10-25T08:23:45.027729Z",
     "iopub.status.idle": "2021-10-25T08:23:45.082397Z",
     "shell.execute_reply": "2021-10-25T08:23:45.082007Z"
    }
   },
   "outputs": [
    {
     "data": {
      "image/svg+xml": [
       "<?xml version=\"1.0\" encoding=\"UTF-8\" standalone=\"no\"?><svg xmlns=\"http://www.w3.org/2000/svg\" xmlns:xlink=\"http://www.w3.org/1999/xlink\" contentScriptType=\"application/ecmascript\" contentStyleType=\"text/css\" height=\"304px\" preserveAspectRatio=\"none\" style=\"width:267px;height:304px;\" version=\"1.1\" viewBox=\"0 0 267 304\" width=\"267px\" zoomAndPan=\"magnify\"><defs><filter height=\"300%\" id=\"fsqnw5dgk4o13\" width=\"300%\" x=\"-1\" y=\"-1\"><feGaussianBlur result=\"blurOut\" stdDeviation=\"2.0\"/><feColorMatrix in=\"blurOut\" result=\"blurOut2\" type=\"matrix\" values=\"0 0 0 0 0 0 0 0 0 0 0 0 0 0 0 0 0 0 .4 0\"/><feOffset dx=\"4.0\" dy=\"4.0\" in=\"blurOut2\" result=\"blurOut3\"/><feBlend in=\"SourceGraphic\" in2=\"blurOut3\" mode=\"normal\"/></filter></defs><g><!--MD5=[fbc87193dbaf4d95561dea2c320d4a47]\n",
       "cluster E1--><a href=\"psysml:a2205de8-88da-4a82-9d0c-530bb72328d3\" target=\"_top\" title=\"psysml:a2205de8-88da-4a82-9d0c-530bb72328d3\" xlink:actuate=\"onRequest\" xlink:href=\"psysml:a2205de8-88da-4a82-9d0c-530bb72328d3\" xlink:show=\"new\" xlink:title=\"psysml:a2205de8-88da-4a82-9d0c-530bb72328d3\" xlink:type=\"simple\"><polygon fill=\"#FFFFFF\" filter=\"url(#fsqnw5dgk4o13)\" points=\"16,6,196,6,203,28.2969,245,28.2969,245,292,16,292,16,6\" style=\"stroke: #000000; stroke-width: 1.5;\"/><line style=\"stroke: #000000; stroke-width: 1.5;\" x1=\"16\" x2=\"203\" y1=\"28.2969\" y2=\"28.2969\"/><text fill=\"#000000\" font-family=\"sans-serif\" font-size=\"14\" font-weight=\"bold\" lengthAdjust=\"spacingAndGlyphs\" textLength=\"174\" x=\"20\" y=\"20.9951\">QualifiedNameImportTest</text></a><!--MD5=[e4f7fae6ed58524ba242bb0b0d3be6b7]\n",
       "cluster E2--><a href=\"psysml:e0b1ca8b-31cf-4033-8a32-a89f430be7de\" target=\"_top\" title=\"psysml:e0b1ca8b-31cf-4033-8a32-a89f430be7de\" xlink:actuate=\"onRequest\" xlink:href=\"psysml:e0b1ca8b-31cf-4033-8a32-a89f430be7de\" xlink:show=\"new\" xlink:title=\"psysml:e0b1ca8b-31cf-4033-8a32-a89f430be7de\" xlink:type=\"simple\"><polygon fill=\"#FFFFFF\" filter=\"url(#fsqnw5dgk4o13)\" points=\"135,177,159,177,166,199.2969,207,199.2969,207,268,135,268,135,177\" style=\"stroke: #000000; stroke-width: 1.5;\"/><line style=\"stroke: #000000; stroke-width: 1.5;\" x1=\"135\" x2=\"166\" y1=\"199.2969\" y2=\"199.2969\"/><text fill=\"#000000\" font-family=\"sans-serif\" font-size=\"14\" font-weight=\"bold\" lengthAdjust=\"spacingAndGlyphs\" textLength=\"18\" x=\"139\" y=\"191.9951\">P1</text></a><!--MD5=[f6df4d0ebaf0b5dfb2ced0ae5af7c670]\n",
       "cluster E4--><a href=\"psysml:9d5af9ae-79ba-44ae-999f-9385e3e881ff\" target=\"_top\" title=\"psysml:9d5af9ae-79ba-44ae-999f-9385e3e881ff\" xlink:actuate=\"onRequest\" xlink:href=\"psysml:9d5af9ae-79ba-44ae-999f-9385e3e881ff\" xlink:show=\"new\" xlink:title=\"psysml:9d5af9ae-79ba-44ae-999f-9385e3e881ff\" xlink:type=\"simple\"><polygon fill=\"#FFFFFF\" filter=\"url(#fsqnw5dgk4o13)\" points=\"40,49,64,49,71,71.2969,221,71.2969,221,153,40,153,40,49\" style=\"stroke: #000000; stroke-width: 1.5;\"/><line style=\"stroke: #000000; stroke-width: 1.5;\" x1=\"40\" x2=\"71\" y1=\"71.2969\" y2=\"71.2969\"/><text fill=\"#000000\" font-family=\"sans-serif\" font-size=\"14\" font-weight=\"bold\" lengthAdjust=\"spacingAndGlyphs\" textLength=\"18\" x=\"44\" y=\"63.9951\">P2</text></a><!--MD5=[09b614a08d8cba4a07c9adeb5e0fee81]\n",
       "class E3--><a href=\"psysml:b95e347b-a360-4ede-8f45-88f4f6a9f0a4\" target=\"_top\" title=\"psysml:b95e347b-a360-4ede-8f45-88f4f6a9f0a4\" xlink:actuate=\"onRequest\" xlink:href=\"psysml:b95e347b-a360-4ede-8f45-88f4f6a9f0a4\" xlink:show=\"new\" xlink:title=\"psysml:b95e347b-a360-4ede-8f45-88f4f6a9f0a4\" xlink:type=\"simple\"><rect fill=\"#FEFECE\" filter=\"url(#fsqnw5dgk4o13)\" height=\"40\" id=\"E3\" style=\"stroke: #A80036; stroke-width: 1.5;\" width=\"40\" x=\"151\" y=\"212\"/><ellipse cx=\"166\" cy=\"228\" fill=\"#008000\" rx=\"11\" ry=\"11\" style=\"stroke: #A80036; stroke-width: 1.0;\"/><path d=\"M162.875,233 L162.875,222.4063 L166.1094,222.4063 Q168.0156,222.4063 168.9219,223.1563 Q169.8438,223.9063 169.8438,225.0781 Q169.8438,225.7656 169.4531,226.4219 Q169.0781,227.0781 168.3594,227.375 Q169.2188,227.75 169.7344,228.4375 Q170.25,229.125 170.25,229.9375 Q170.25,231.3125 169.2188,232.1563 Q168.2031,233 166.0938,233 L162.875,233 Z M164.7969,226.6406 L165.9531,226.6406 Q167.0781,226.6406 167.4844,226.2656 Q167.9063,225.875 167.9063,225.25 Q167.9063,224.6719 167.4844,224.3125 Q167.0625,223.9531 166.125,223.9531 L164.7969,223.9531 L164.7969,226.6406 Z M164.7969,231.4219 L166.2969,231.4219 Q167.2031,231.4219 167.7344,231.0313 Q168.2656,230.6406 168.2656,229.8906 Q168.2656,229.125 167.7656,228.6563 Q167.2656,228.1719 166,228.1719 L164.7969,228.1719 L164.7969,231.4219 Z \"/><text fill=\"#000000\" font-family=\"sans-serif\" font-size=\"12\" lengthAdjust=\"spacingAndGlyphs\" textLength=\"8\" x=\"180\" y=\"232.1543\">A</text><line style=\"stroke: #A80036; stroke-width: 1.5;\" x1=\"152\" x2=\"190\" y1=\"244\" y2=\"244\"/></a><!--MD5=[60a26617385b1d2d0262a64233df1f8d]\n",
       "class E6--><a href=\"psysml:8ace276a-6fab-4d9f-9bdd-b9a7961474a1\" target=\"_top\" title=\"psysml:8ace276a-6fab-4d9f-9bdd-b9a7961474a1\" xlink:actuate=\"onRequest\" xlink:href=\"psysml:8ace276a-6fab-4d9f-9bdd-b9a7961474a1\" xlink:show=\"new\" xlink:title=\"psysml:8ace276a-6fab-4d9f-9bdd-b9a7961474a1\" xlink:type=\"simple\"><rect fill=\"#FEFECE\" filter=\"url(#fsqnw5dgk4o13)\" height=\"45.9375\" id=\"E6\" rx=\"10\" ry=\"10\" style=\"stroke: #A80036; stroke-width: 1.5;\" width=\"68\" x=\"137\" y=\"87.5\"/><ellipse cx=\"152\" cy=\"106.4688\" fill=\"#32CD32\" rx=\"11\" ry=\"11\" style=\"stroke: #A80036; stroke-width: 1.0;\"/><path d=\"M148.8125,111.4688 L148.8125,100.875 L152.4219,100.875 Q153.6406,100.875 154.4375,101.3125 Q155.2344,101.7344 155.6094,102.4375 Q156,103.1406 156,103.9844 Q156,104.8281 155.625,105.5156 Q155.2656,106.2031 154.4688,106.625 Q153.6875,107.0313 152.5,107.0313 L150.7656,107.0313 L150.7656,111.4688 L148.8125,111.4688 Z M150.7656,105.4375 L152.375,105.4375 Q153.1875,105.4375 153.6094,105.0313 Q154.0313,104.625 154.0313,103.9844 Q154.0313,103.3594 153.6094,102.9531 Q153.1875,102.5469 152.3906,102.5469 L150.7656,102.5469 L150.7656,105.4375 Z \"/><text fill=\"#000000\" font-family=\"sans-serif\" font-size=\"12\" font-style=\"italic\" lengthAdjust=\"spacingAndGlyphs\" textLength=\"40\" x=\"164\" y=\"103.6387\">«part»</text><text fill=\"#000000\" font-family=\"sans-serif\" font-size=\"12\" lengthAdjust=\"spacingAndGlyphs\" textLength=\"22\" x=\"171\" y=\"117.6074\">x: A</text><line style=\"stroke: #A80036; stroke-width: 1.5;\" x1=\"138\" x2=\"204\" y1=\"125.4375\" y2=\"125.4375\"/></a><a href=\"psysml:b9f88b2a-f312-44cc-a9e4-c89396ff9243\" target=\"_top\" title=\"psysml:b9f88b2a-f312-44cc-a9e4-c89396ff9243\" xlink:actuate=\"onRequest\" xlink:href=\"psysml:b9f88b2a-f312-44cc-a9e4-c89396ff9243\" xlink:show=\"new\" xlink:title=\"psysml:b9f88b2a-f312-44cc-a9e4-c89396ff9243\" xlink:type=\"simple\"><polygon fill=\"#FFFFFF\" filter=\"url(#fsqnw5dgk4o13)\" points=\"56,84,88,84,95,106.2969,102,106.2969,102,136.5938,56,136.5938,56,84\" style=\"stroke: #000000; stroke-width: 1.5;\"/><line style=\"stroke: #000000; stroke-width: 1.5;\" x1=\"56\" x2=\"95\" y1=\"106.2969\" y2=\"106.2969\"/><text fill=\"#000000\" font-family=\"sans-serif\" font-size=\"14\" font-weight=\"bold\" lengthAdjust=\"spacingAndGlyphs\" textLength=\"26\" x=\"60\" y=\"98.9951\">P2a</text></a><!--MD5=[a717450b82c80b9240a525fa862496af]\n",
       "link E6 to E3--><a href=\"psysml:3b068d74-51f4-4206-8ca3-dd0a14e18b44\" target=\"_top\" title=\"psysml:3b068d74-51f4-4206-8ca3-dd0a14e18b44\" xlink:actuate=\"onRequest\" xlink:href=\"psysml:3b068d74-51f4-4206-8ca3-dd0a14e18b44\" xlink:show=\"new\" xlink:title=\"psysml:3b068d74-51f4-4206-8ca3-dd0a14e18b44\" xlink:type=\"simple\"><path d=\"M171,133.7 C171,149.89 171,172.27 171,191.49 \" fill=\"none\" id=\"E6-&gt;E3\" style=\"stroke: #A80036; stroke-width: 1.0;\"/><polygon fill=\"#FFFFFF\" points=\"171,211.69,164,192.69,178,192.69,171,211.69\" style=\"stroke: #A80036; stroke-width: 1.0;\"/><ellipse cx=\"166\" cy=\"186.99\" fill=\"#A80036\" rx=\"2\" ry=\"2\" style=\"stroke: #A80036; stroke-width: 1.0;\"/><ellipse cx=\"176\" cy=\"186.99\" fill=\"#A80036\" rx=\"2\" ry=\"2\" style=\"stroke: #A80036; stroke-width: 1.0;\"/></a><!--MD5=[3dfed326c6d8dc6973c1f9868a4d2c68]\n",
       "@startuml\r\n",
       " \r\n",
       "package \"QualifiedNameImportTest\" as E1  [[psysml:a2205de8-88da-4a82-9d0c-530bb72328d3 ]]  {\r\n",
       "package \"P1\" as E2  [[psysml:e0b1ca8b-31cf-4033-8a32-a89f430be7de ]]  {\r\n",
       "comp def \"A\" as E3 << << (B,green) >> [[psysml:b95e347b-a360-4ede-8f45-88f4f6a9f0a4 ]] {\r\n",
       "}\r\n",
       "}\r\n",
       "package \"P2\" as E4  [[psysml:9d5af9ae-79ba-44ae-999f-9385e3e881ff ]]  {\r\n",
       "package \"P2a\" as E5  [[psysml:b9f88b2a-f312-44cc-a9e4-c89396ff9243 ]]  {\r\n",
       "}\r\n",
       "comp usage \"x: A \" as E6 << << (P,limegreen) part>> [[psysml:8ace276a-6fab-4d9f-9bdd-b9a7961474a1 ]] {\r\n",
       "}\r\n",
       "}\r\n",
       "}\r\n",
       "E6 - -:|> E3 [[psysml:3b068d74-51f4-4206-8ca3-dd0a14e18b44 ]] \r\n",
       "@enduml\r\n",
       "\n",
       "PlantUML version 1.2020.13(Sat Jun 13 12:26:38 UTC 2020)\n",
       "(EPL source distribution)\n",
       "Java Runtime: OpenJDK Runtime Environment\n",
       "JVM: OpenJDK 64-Bit Server VM\n",
       "Default Encoding: UTF-8\n",
       "Language: en\n",
       "Country: null\n",
       "--></g></svg>"
      ]
     },
     "execution_count": 30,
     "metadata": {},
     "output_type": "execute_result"
    }
   ],
   "source": [
    "%viz --style=\"PLANTUML\" --view=\"Default\" \"QualifiedNameImportTest\""
   ]
  },
  {
   "cell_type": "code",
   "execution_count": 31,
   "id": "21b2ea42",
   "metadata": {
    "execution": {
     "iopub.execute_input": "2021-10-25T08:23:45.131443Z",
     "iopub.status.busy": "2021-10-25T08:23:45.131042Z",
     "iopub.status.idle": "2021-10-25T08:23:45.163204Z",
     "shell.execute_reply": "2021-10-25T08:23:45.163556Z"
    }
   },
   "outputs": [
    {
     "data": {
      "image/svg+xml": [
       "<?xml version=\"1.0\" encoding=\"UTF-8\" standalone=\"no\"?><svg xmlns=\"http://www.w3.org/2000/svg\" xmlns:xlink=\"http://www.w3.org/1999/xlink\" contentScriptType=\"application/ecmascript\" contentStyleType=\"text/css\" height=\"304px\" preserveAspectRatio=\"none\" style=\"width:267px;height:304px;\" version=\"1.1\" viewBox=\"0 0 267 304\" width=\"267px\" zoomAndPan=\"magnify\"><defs><filter height=\"300%\" id=\"fsqnw5dgk4o13\" width=\"300%\" x=\"-1\" y=\"-1\"><feGaussianBlur result=\"blurOut\" stdDeviation=\"2.0\"/><feColorMatrix in=\"blurOut\" result=\"blurOut2\" type=\"matrix\" values=\"0 0 0 0 0 0 0 0 0 0 0 0 0 0 0 0 0 0 .4 0\"/><feOffset dx=\"4.0\" dy=\"4.0\" in=\"blurOut2\" result=\"blurOut3\"/><feBlend in=\"SourceGraphic\" in2=\"blurOut3\" mode=\"normal\"/></filter></defs><g><!--MD5=[fbc87193dbaf4d95561dea2c320d4a47]\n",
       "cluster E1--><a href=\"psysml:a2205de8-88da-4a82-9d0c-530bb72328d3\" target=\"_top\" title=\"psysml:a2205de8-88da-4a82-9d0c-530bb72328d3\" xlink:actuate=\"onRequest\" xlink:href=\"psysml:a2205de8-88da-4a82-9d0c-530bb72328d3\" xlink:show=\"new\" xlink:title=\"psysml:a2205de8-88da-4a82-9d0c-530bb72328d3\" xlink:type=\"simple\"><polygon fill=\"#FFFFFF\" filter=\"url(#fsqnw5dgk4o13)\" points=\"16,6,196,6,203,28.2969,245,28.2969,245,292,16,292,16,6\" style=\"stroke: #000000; stroke-width: 1.5;\"/><line style=\"stroke: #000000; stroke-width: 1.5;\" x1=\"16\" x2=\"203\" y1=\"28.2969\" y2=\"28.2969\"/><text fill=\"#000000\" font-family=\"sans-serif\" font-size=\"14\" font-weight=\"bold\" lengthAdjust=\"spacingAndGlyphs\" textLength=\"174\" x=\"20\" y=\"20.9951\">QualifiedNameImportTest</text></a><!--MD5=[e4f7fae6ed58524ba242bb0b0d3be6b7]\n",
       "cluster E2--><a href=\"psysml:e0b1ca8b-31cf-4033-8a32-a89f430be7de\" target=\"_top\" title=\"psysml:e0b1ca8b-31cf-4033-8a32-a89f430be7de\" xlink:actuate=\"onRequest\" xlink:href=\"psysml:e0b1ca8b-31cf-4033-8a32-a89f430be7de\" xlink:show=\"new\" xlink:title=\"psysml:e0b1ca8b-31cf-4033-8a32-a89f430be7de\" xlink:type=\"simple\"><polygon fill=\"#FFFFFF\" filter=\"url(#fsqnw5dgk4o13)\" points=\"135,177,159,177,166,199.2969,207,199.2969,207,268,135,268,135,177\" style=\"stroke: #000000; stroke-width: 1.5;\"/><line style=\"stroke: #000000; stroke-width: 1.5;\" x1=\"135\" x2=\"166\" y1=\"199.2969\" y2=\"199.2969\"/><text fill=\"#000000\" font-family=\"sans-serif\" font-size=\"14\" font-weight=\"bold\" lengthAdjust=\"spacingAndGlyphs\" textLength=\"18\" x=\"139\" y=\"191.9951\">P1</text></a><!--MD5=[f6df4d0ebaf0b5dfb2ced0ae5af7c670]\n",
       "cluster E4--><a href=\"psysml:9d5af9ae-79ba-44ae-999f-9385e3e881ff\" target=\"_top\" title=\"psysml:9d5af9ae-79ba-44ae-999f-9385e3e881ff\" xlink:actuate=\"onRequest\" xlink:href=\"psysml:9d5af9ae-79ba-44ae-999f-9385e3e881ff\" xlink:show=\"new\" xlink:title=\"psysml:9d5af9ae-79ba-44ae-999f-9385e3e881ff\" xlink:type=\"simple\"><polygon fill=\"#FFFFFF\" filter=\"url(#fsqnw5dgk4o13)\" points=\"40,49,64,49,71,71.2969,221,71.2969,221,153,40,153,40,49\" style=\"stroke: #000000; stroke-width: 1.5;\"/><line style=\"stroke: #000000; stroke-width: 1.5;\" x1=\"40\" x2=\"71\" y1=\"71.2969\" y2=\"71.2969\"/><text fill=\"#000000\" font-family=\"sans-serif\" font-size=\"14\" font-weight=\"bold\" lengthAdjust=\"spacingAndGlyphs\" textLength=\"18\" x=\"44\" y=\"63.9951\">P2</text></a><!--MD5=[09b614a08d8cba4a07c9adeb5e0fee81]\n",
       "class E3--><a href=\"psysml:b95e347b-a360-4ede-8f45-88f4f6a9f0a4\" target=\"_top\" title=\"psysml:b95e347b-a360-4ede-8f45-88f4f6a9f0a4\" xlink:actuate=\"onRequest\" xlink:href=\"psysml:b95e347b-a360-4ede-8f45-88f4f6a9f0a4\" xlink:show=\"new\" xlink:title=\"psysml:b95e347b-a360-4ede-8f45-88f4f6a9f0a4\" xlink:type=\"simple\"><rect fill=\"#FEFECE\" filter=\"url(#fsqnw5dgk4o13)\" height=\"40\" id=\"E3\" style=\"stroke: #A80036; stroke-width: 1.5;\" width=\"40\" x=\"151\" y=\"212\"/><ellipse cx=\"166\" cy=\"228\" fill=\"#008000\" rx=\"11\" ry=\"11\" style=\"stroke: #A80036; stroke-width: 1.0;\"/><path d=\"M162.875,233 L162.875,222.4063 L166.1094,222.4063 Q168.0156,222.4063 168.9219,223.1563 Q169.8438,223.9063 169.8438,225.0781 Q169.8438,225.7656 169.4531,226.4219 Q169.0781,227.0781 168.3594,227.375 Q169.2188,227.75 169.7344,228.4375 Q170.25,229.125 170.25,229.9375 Q170.25,231.3125 169.2188,232.1563 Q168.2031,233 166.0938,233 L162.875,233 Z M164.7969,226.6406 L165.9531,226.6406 Q167.0781,226.6406 167.4844,226.2656 Q167.9063,225.875 167.9063,225.25 Q167.9063,224.6719 167.4844,224.3125 Q167.0625,223.9531 166.125,223.9531 L164.7969,223.9531 L164.7969,226.6406 Z M164.7969,231.4219 L166.2969,231.4219 Q167.2031,231.4219 167.7344,231.0313 Q168.2656,230.6406 168.2656,229.8906 Q168.2656,229.125 167.7656,228.6563 Q167.2656,228.1719 166,228.1719 L164.7969,228.1719 L164.7969,231.4219 Z \"/><text fill=\"#000000\" font-family=\"sans-serif\" font-size=\"12\" lengthAdjust=\"spacingAndGlyphs\" textLength=\"8\" x=\"180\" y=\"232.1543\">A</text><line style=\"stroke: #A80036; stroke-width: 1.5;\" x1=\"152\" x2=\"190\" y1=\"244\" y2=\"244\"/></a><!--MD5=[60a26617385b1d2d0262a64233df1f8d]\n",
       "class E6--><a href=\"psysml:8ace276a-6fab-4d9f-9bdd-b9a7961474a1\" target=\"_top\" title=\"psysml:8ace276a-6fab-4d9f-9bdd-b9a7961474a1\" xlink:actuate=\"onRequest\" xlink:href=\"psysml:8ace276a-6fab-4d9f-9bdd-b9a7961474a1\" xlink:show=\"new\" xlink:title=\"psysml:8ace276a-6fab-4d9f-9bdd-b9a7961474a1\" xlink:type=\"simple\"><rect fill=\"#FEFECE\" filter=\"url(#fsqnw5dgk4o13)\" height=\"45.9375\" id=\"E6\" rx=\"10\" ry=\"10\" style=\"stroke: #A80036; stroke-width: 1.5;\" width=\"68\" x=\"137\" y=\"87.5\"/><ellipse cx=\"152\" cy=\"106.4688\" fill=\"#32CD32\" rx=\"11\" ry=\"11\" style=\"stroke: #A80036; stroke-width: 1.0;\"/><path d=\"M148.8125,111.4688 L148.8125,100.875 L152.4219,100.875 Q153.6406,100.875 154.4375,101.3125 Q155.2344,101.7344 155.6094,102.4375 Q156,103.1406 156,103.9844 Q156,104.8281 155.625,105.5156 Q155.2656,106.2031 154.4688,106.625 Q153.6875,107.0313 152.5,107.0313 L150.7656,107.0313 L150.7656,111.4688 L148.8125,111.4688 Z M150.7656,105.4375 L152.375,105.4375 Q153.1875,105.4375 153.6094,105.0313 Q154.0313,104.625 154.0313,103.9844 Q154.0313,103.3594 153.6094,102.9531 Q153.1875,102.5469 152.3906,102.5469 L150.7656,102.5469 L150.7656,105.4375 Z \"/><text fill=\"#000000\" font-family=\"sans-serif\" font-size=\"12\" font-style=\"italic\" lengthAdjust=\"spacingAndGlyphs\" textLength=\"40\" x=\"164\" y=\"103.6387\">«part»</text><text fill=\"#000000\" font-family=\"sans-serif\" font-size=\"12\" lengthAdjust=\"spacingAndGlyphs\" textLength=\"22\" x=\"171\" y=\"117.6074\">x: A</text><line style=\"stroke: #A80036; stroke-width: 1.5;\" x1=\"138\" x2=\"204\" y1=\"125.4375\" y2=\"125.4375\"/></a><a href=\"psysml:b9f88b2a-f312-44cc-a9e4-c89396ff9243\" target=\"_top\" title=\"psysml:b9f88b2a-f312-44cc-a9e4-c89396ff9243\" xlink:actuate=\"onRequest\" xlink:href=\"psysml:b9f88b2a-f312-44cc-a9e4-c89396ff9243\" xlink:show=\"new\" xlink:title=\"psysml:b9f88b2a-f312-44cc-a9e4-c89396ff9243\" xlink:type=\"simple\"><polygon fill=\"#FFFFFF\" filter=\"url(#fsqnw5dgk4o13)\" points=\"56,84,88,84,95,106.2969,102,106.2969,102,136.5938,56,136.5938,56,84\" style=\"stroke: #000000; stroke-width: 1.5;\"/><line style=\"stroke: #000000; stroke-width: 1.5;\" x1=\"56\" x2=\"95\" y1=\"106.2969\" y2=\"106.2969\"/><text fill=\"#000000\" font-family=\"sans-serif\" font-size=\"14\" font-weight=\"bold\" lengthAdjust=\"spacingAndGlyphs\" textLength=\"26\" x=\"60\" y=\"98.9951\">P2a</text></a><!--MD5=[a717450b82c80b9240a525fa862496af]\n",
       "link E6 to E3--><a href=\"psysml:3b068d74-51f4-4206-8ca3-dd0a14e18b44\" target=\"_top\" title=\"psysml:3b068d74-51f4-4206-8ca3-dd0a14e18b44\" xlink:actuate=\"onRequest\" xlink:href=\"psysml:3b068d74-51f4-4206-8ca3-dd0a14e18b44\" xlink:show=\"new\" xlink:title=\"psysml:3b068d74-51f4-4206-8ca3-dd0a14e18b44\" xlink:type=\"simple\"><path d=\"M171,133.7 C171,149.89 171,172.27 171,191.49 \" fill=\"none\" id=\"E6-&gt;E3\" style=\"stroke: #A80036; stroke-width: 1.0;\"/><polygon fill=\"#FFFFFF\" points=\"171,211.69,164,192.69,178,192.69,171,211.69\" style=\"stroke: #A80036; stroke-width: 1.0;\"/><ellipse cx=\"166\" cy=\"186.99\" fill=\"#A80036\" rx=\"2\" ry=\"2\" style=\"stroke: #A80036; stroke-width: 1.0;\"/><ellipse cx=\"176\" cy=\"186.99\" fill=\"#A80036\" rx=\"2\" ry=\"2\" style=\"stroke: #A80036; stroke-width: 1.0;\"/></a><!--MD5=[3dfed326c6d8dc6973c1f9868a4d2c68]\n",
       "@startuml\r\n",
       " \r\n",
       "package \"QualifiedNameImportTest\" as E1  [[psysml:a2205de8-88da-4a82-9d0c-530bb72328d3 ]]  {\r\n",
       "package \"P1\" as E2  [[psysml:e0b1ca8b-31cf-4033-8a32-a89f430be7de ]]  {\r\n",
       "comp def \"A\" as E3 << << (B,green) >> [[psysml:b95e347b-a360-4ede-8f45-88f4f6a9f0a4 ]] {\r\n",
       "}\r\n",
       "}\r\n",
       "package \"P2\" as E4  [[psysml:9d5af9ae-79ba-44ae-999f-9385e3e881ff ]]  {\r\n",
       "package \"P2a\" as E5  [[psysml:b9f88b2a-f312-44cc-a9e4-c89396ff9243 ]]  {\r\n",
       "}\r\n",
       "comp usage \"x: A \" as E6 << << (P,limegreen) part>> [[psysml:8ace276a-6fab-4d9f-9bdd-b9a7961474a1 ]] {\r\n",
       "}\r\n",
       "}\r\n",
       "}\r\n",
       "E6 - -:|> E3 [[psysml:3b068d74-51f4-4206-8ca3-dd0a14e18b44 ]] \r\n",
       "@enduml\r\n",
       "\n",
       "PlantUML version 1.2020.13(Sat Jun 13 12:26:38 UTC 2020)\n",
       "(EPL source distribution)\n",
       "Java Runtime: OpenJDK Runtime Environment\n",
       "JVM: OpenJDK 64-Bit Server VM\n",
       "Default Encoding: UTF-8\n",
       "Language: en\n",
       "Country: null\n",
       "--></g></svg>"
      ]
     },
     "execution_count": 31,
     "metadata": {},
     "output_type": "execute_result"
    }
   ],
   "source": [
    "%viz --style=\"PLANTUML\" --view=\"Tree\" \"QualifiedNameImportTest\""
   ]
  },
  {
   "cell_type": "code",
   "execution_count": 32,
   "id": "1ba52665",
   "metadata": {
    "execution": {
     "iopub.execute_input": "2021-10-25T08:23:45.213121Z",
     "iopub.status.busy": "2021-10-25T08:23:45.212708Z",
     "iopub.status.idle": "2021-10-25T08:23:45.308963Z",
     "shell.execute_reply": "2021-10-25T08:23:45.307139Z"
    }
   },
   "outputs": [
    {
     "data": {
      "image/svg+xml": [
       "<?xml version=\"1.0\" encoding=\"UTF-8\" standalone=\"no\"?><svg xmlns=\"http://www.w3.org/2000/svg\" xmlns:xlink=\"http://www.w3.org/1999/xlink\" contentScriptType=\"application/ecmascript\" contentStyleType=\"text/css\" height=\"300px\" preserveAspectRatio=\"none\" style=\"width:603px;height:300px;background:#000000;\" version=\"1.1\" viewBox=\"0 0 603 300\" width=\"603px\" zoomAndPan=\"magnify\"><defs/><g><rect fill=\"#062607\" height=\"1\" style=\"stroke: #062607; stroke-width: 1.0;\" width=\"1\" x=\"0\" y=\"0\"/><rect fill=\"#FFFFFF\" height=\"202.8012\" style=\"stroke: #FFFFFF; stroke-width: 1.0;\" width=\"602\" x=\"0\" y=\"0\"/><text fill=\"#000000\" font-family=\"sans-serif\" font-size=\"12\" font-weight=\"bold\" lengthAdjust=\"spacingAndGlyphs\" textLength=\"139\" x=\"5\" y=\"16.1387\">Welcome to PlantUML!</text><text fill=\"#000000\" font-family=\"sans-serif\" font-size=\"12\" lengthAdjust=\"spacingAndGlyphs\" textLength=\"0\" x=\"9\" y=\"30.1074\"/><text fill=\"#000000\" font-family=\"sans-serif\" font-size=\"12\" lengthAdjust=\"spacingAndGlyphs\" textLength=\"293\" x=\"5\" y=\"44.0762\">If you use this software, you accept its license.</text><text fill=\"#000000\" font-family=\"sans-serif\" font-size=\"12\" lengthAdjust=\"spacingAndGlyphs\" textLength=\"107\" x=\"5\" y=\"58.0449\">(details by typing</text><text fill=\"#000000\" font-family=\"monospace\" font-size=\"12\" lengthAdjust=\"spacingAndGlyphs\" textLength=\"42\" x=\"116\" y=\"58.595\">license</text><text fill=\"#000000\" font-family=\"sans-serif\" font-size=\"12\" lengthAdjust=\"spacingAndGlyphs\" textLength=\"56\" x=\"162\" y=\"58.0449\">keyword)</text><text fill=\"#000000\" font-family=\"sans-serif\" font-size=\"12\" lengthAdjust=\"spacingAndGlyphs\" textLength=\"0\" x=\"9\" y=\"72.0137\"/><text fill=\"#000000\" font-family=\"sans-serif\" font-size=\"12\" lengthAdjust=\"spacingAndGlyphs\" textLength=\"283\" x=\"5\" y=\"85.9824\">You can start with a simple UML Diagram like:</text><text fill=\"#000000\" font-family=\"sans-serif\" font-size=\"12\" lengthAdjust=\"spacingAndGlyphs\" textLength=\"0\" x=\"9\" y=\"99.9512\"/><text fill=\"#000000\" font-family=\"monospace\" font-size=\"12\" lengthAdjust=\"spacingAndGlyphs\" textLength=\"102\" x=\"5\" y=\"113.0893\">Bob-&gt;Alice: Hello</text><text fill=\"#000000\" font-family=\"sans-serif\" font-size=\"12\" lengthAdjust=\"spacingAndGlyphs\" textLength=\"0\" x=\"9\" y=\"126.508\"/><text fill=\"#000000\" font-family=\"sans-serif\" font-size=\"12\" lengthAdjust=\"spacingAndGlyphs\" textLength=\"14\" x=\"5\" y=\"140.4768\">Or</text><text fill=\"#000000\" font-family=\"sans-serif\" font-size=\"12\" lengthAdjust=\"spacingAndGlyphs\" textLength=\"0\" x=\"9\" y=\"154.4455\"/><text fill=\"#000000\" font-family=\"monospace\" font-size=\"12\" lengthAdjust=\"spacingAndGlyphs\" textLength=\"78\" x=\"5\" y=\"167.5837\">class Example</text><text fill=\"#000000\" font-family=\"sans-serif\" font-size=\"12\" lengthAdjust=\"spacingAndGlyphs\" textLength=\"0\" x=\"9\" y=\"181.0023\"/><text fill=\"#000000\" font-family=\"sans-serif\" font-size=\"12\" lengthAdjust=\"spacingAndGlyphs\" textLength=\"349\" x=\"5\" y=\"194.9711\">You will find more information about PlantUML syntax on</text><text fill=\"#000000\" font-family=\"sans-serif\" font-size=\"12\" lengthAdjust=\"spacingAndGlyphs\" text-decoration=\"underline\" textLength=\"129\" x=\"358\" y=\"194.9711\">https://plantuml.com</text><image height=\"71\" width=\"80\" x=\"516\" xlink:href=\"data:image/png;base64,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\" y=\"6\"/><rect fill=\"#000000\" height=\"96.4844\" style=\"stroke: #000000; stroke-width: 1.0;\" width=\"602\" x=\"0\" y=\"202.8012\"/><rect fill=\"#33FF02\" height=\"21.2969\" style=\"stroke: #33FF02; stroke-width: 1.0;\" width=\"145\" x=\"5\" y=\"207.8012\"/><text fill=\"#000000\" font-family=\"sans-serif\" font-size=\"14\" font-weight=\"bold\" lengthAdjust=\"spacingAndGlyphs\" textLength=\"143\" x=\"6\" y=\"222.8012\">[From string (line 2) ]</text><text fill=\"#33FF02\" font-family=\"sans-serif\" font-size=\"14\" font-weight=\"bold\" lengthAdjust=\"spacingAndGlyphs\" textLength=\"0\" x=\"9\" y=\"243.0981\"/><text fill=\"#33FF02\" font-family=\"sans-serif\" font-size=\"14\" font-weight=\"bold\" lengthAdjust=\"spacingAndGlyphs\" textLength=\"70\" x=\"5\" y=\"259.3949\">@startuml</text><text fill=\"#33FF02\" font-family=\"sans-serif\" font-size=\"14\" font-weight=\"bold\" lengthAdjust=\"spacingAndGlyphs\" textLength=\"0\" x=\"9\" y=\"275.6918\"/><text fill=\"#FF0000\" font-family=\"sans-serif\" font-size=\"14\" font-weight=\"bold\" lengthAdjust=\"spacingAndGlyphs\" textLength=\"124\" x=\"9\" y=\"291.9887\">Empty description</text><!--MD5=[f59edd8218d337f74d0c332fc6737304]\n",
       "@startuml\r\n",
       " \r\n",
       "@enduml\r\n",
       "\n",
       "PlantUML version 1.2020.13(Sat Jun 13 12:26:38 UTC 2020)\n",
       "(EPL source distribution)\n",
       "Java Runtime: OpenJDK Runtime Environment\n",
       "JVM: OpenJDK 64-Bit Server VM\n",
       "Default Encoding: UTF-8\n",
       "Language: en\n",
       "Country: null\n",
       "--></g></svg>"
      ]
     },
     "execution_count": 32,
     "metadata": {},
     "output_type": "execute_result"
    }
   ],
   "source": [
    "%viz --style=\"PLANTUML\" --view=\"State\" \"QualifiedNameImportTest\""
   ]
  },
  {
   "cell_type": "code",
   "execution_count": 33,
   "id": "4e62c17b",
   "metadata": {
    "execution": {
     "iopub.execute_input": "2021-10-25T08:23:45.357683Z",
     "iopub.status.busy": "2021-10-25T08:23:45.357278Z",
     "iopub.status.idle": "2021-10-25T08:23:45.382036Z",
     "shell.execute_reply": "2021-10-25T08:23:45.380298Z"
    }
   },
   "outputs": [
    {
     "data": {
      "image/svg+xml": [
       "<?xml version=\"1.0\" encoding=\"UTF-8\" standalone=\"no\"?><svg xmlns=\"http://www.w3.org/2000/svg\" xmlns:xlink=\"http://www.w3.org/1999/xlink\" contentScriptType=\"application/ecmascript\" contentStyleType=\"text/css\" height=\"189px\" preserveAspectRatio=\"none\" style=\"width:365px;height:189px;\" version=\"1.1\" viewBox=\"0 0 365 189\" width=\"365px\" zoomAndPan=\"magnify\"><defs><filter height=\"300%\" id=\"f1tt3i38m8jqfd\" width=\"300%\" x=\"-1\" y=\"-1\"><feGaussianBlur result=\"blurOut\" stdDeviation=\"2.0\"/><feColorMatrix in=\"blurOut\" result=\"blurOut2\" type=\"matrix\" values=\"0 0 0 0 0 0 0 0 0 0 0 0 0 0 0 0 0 0 .4 0\"/><feOffset dx=\"4.0\" dy=\"4.0\" in=\"blurOut2\" result=\"blurOut3\"/><feBlend in=\"SourceGraphic\" in2=\"blurOut3\" mode=\"normal\"/></filter></defs><g><!--MD5=[fbc87193dbaf4d95561dea2c320d4a47]\n",
       "cluster E1--><a href=\"psysml:a2205de8-88da-4a82-9d0c-530bb72328d3\" target=\"_top\" title=\"psysml:a2205de8-88da-4a82-9d0c-530bb72328d3\" xlink:actuate=\"onRequest\" xlink:href=\"psysml:a2205de8-88da-4a82-9d0c-530bb72328d3\" xlink:show=\"new\" xlink:title=\"psysml:a2205de8-88da-4a82-9d0c-530bb72328d3\" xlink:type=\"simple\"><polygon fill=\"#FFFFFF\" filter=\"url(#f1tt3i38m8jqfd)\" points=\"16,6,196,6,203,28.2969,343,28.2969,343,177,16,177,16,6\" style=\"stroke: #000000; stroke-width: 1.5;\"/><line style=\"stroke: #000000; stroke-width: 1.5;\" x1=\"16\" x2=\"203\" y1=\"28.2969\" y2=\"28.2969\"/><text fill=\"#000000\" font-family=\"sans-serif\" font-size=\"14\" font-weight=\"bold\" lengthAdjust=\"spacingAndGlyphs\" textLength=\"174\" x=\"20\" y=\"20.9951\">QualifiedNameImportTest</text></a><!--MD5=[e4f7fae6ed58524ba242bb0b0d3be6b7]\n",
       "cluster E2--><a href=\"psysml:e0b1ca8b-31cf-4033-8a32-a89f430be7de\" target=\"_top\" title=\"psysml:e0b1ca8b-31cf-4033-8a32-a89f430be7de\" xlink:actuate=\"onRequest\" xlink:href=\"psysml:e0b1ca8b-31cf-4033-8a32-a89f430be7de\" xlink:show=\"new\" xlink:title=\"psysml:e0b1ca8b-31cf-4033-8a32-a89f430be7de\" xlink:type=\"simple\"><polygon fill=\"#FFFFFF\" filter=\"url(#f1tt3i38m8jqfd)\" points=\"237,55.5,261,55.5,268,77.7969,319,77.7969,319,146.5,237,146.5,237,55.5\" style=\"stroke: #000000; stroke-width: 1.5;\"/><line style=\"stroke: #000000; stroke-width: 1.5;\" x1=\"237\" x2=\"268\" y1=\"77.7969\" y2=\"77.7969\"/><text fill=\"#000000\" font-family=\"sans-serif\" font-size=\"14\" font-weight=\"bold\" lengthAdjust=\"spacingAndGlyphs\" textLength=\"18\" x=\"241\" y=\"70.4951\">P1</text></a><!--MD5=[f6df4d0ebaf0b5dfb2ced0ae5af7c670]\n",
       "cluster E4--><a href=\"psysml:9d5af9ae-79ba-44ae-999f-9385e3e881ff\" target=\"_top\" title=\"psysml:9d5af9ae-79ba-44ae-999f-9385e3e881ff\" xlink:actuate=\"onRequest\" xlink:href=\"psysml:9d5af9ae-79ba-44ae-999f-9385e3e881ff\" xlink:show=\"new\" xlink:title=\"psysml:9d5af9ae-79ba-44ae-999f-9385e3e881ff\" xlink:type=\"simple\"><polygon fill=\"#FFFFFF\" filter=\"url(#f1tt3i38m8jqfd)\" points=\"40,49,64,49,71,71.2969,213,71.2969,213,153,40,153,40,49\" style=\"stroke: #000000; stroke-width: 1.5;\"/><line style=\"stroke: #000000; stroke-width: 1.5;\" x1=\"40\" x2=\"71\" y1=\"71.2969\" y2=\"71.2969\"/><text fill=\"#000000\" font-family=\"sans-serif\" font-size=\"14\" font-weight=\"bold\" lengthAdjust=\"spacingAndGlyphs\" textLength=\"18\" x=\"44\" y=\"63.9951\">P2</text></a><g id=\"E1.E2.E3\"><a href=\"psysml:b95e347b-a360-4ede-8f45-88f4f6a9f0a4\" target=\"_top\" title=\"psysml:b95e347b-a360-4ede-8f45-88f4f6a9f0a4\" xlink:actuate=\"onRequest\" xlink:href=\"psysml:b95e347b-a360-4ede-8f45-88f4f6a9f0a4\" xlink:show=\"new\" xlink:title=\"psysml:b95e347b-a360-4ede-8f45-88f4f6a9f0a4\" xlink:type=\"simple\"><rect fill=\"#FEFECE\" filter=\"url(#f1tt3i38m8jqfd)\" height=\"40\" id=\"E3\" style=\"stroke: #A80036; stroke-width: 1.5;\" width=\"50\" x=\"253\" y=\"90.5\"/><ellipse cx=\"272.5\" cy=\"106.5\" fill=\"#008000\" rx=\"11\" ry=\"11\" style=\"stroke: #A80036; stroke-width: 1.0;\"/><path d=\"M269.375,111.5 L269.375,100.9063 L272.6094,100.9063 Q274.5156,100.9063 275.4219,101.6563 Q276.3438,102.4063 276.3438,103.5781 Q276.3438,104.2656 275.9531,104.9219 Q275.5781,105.5781 274.8594,105.875 Q275.7188,106.25 276.2344,106.9375 Q276.75,107.625 276.75,108.4375 Q276.75,109.8125 275.7188,110.6563 Q274.7031,111.5 272.5938,111.5 L269.375,111.5 Z M271.2969,105.1406 L272.4531,105.1406 Q273.5781,105.1406 273.9844,104.7656 Q274.4063,104.375 274.4063,103.75 Q274.4063,103.1719 273.9844,102.8125 Q273.5625,102.4531 272.625,102.4531 L271.2969,102.4531 L271.2969,105.1406 Z M271.2969,109.9219 L272.7969,109.9219 Q273.7031,109.9219 274.2344,109.5313 Q274.7656,109.1406 274.7656,108.3906 Q274.7656,107.625 274.2656,107.1563 Q273.7656,106.6719 272.5,106.6719 L271.2969,106.6719 L271.2969,109.9219 Z \"/><text fill=\"#000000\" font-family=\"sans-serif\" font-size=\"12\" lengthAdjust=\"spacingAndGlyphs\" textLength=\"8\" x=\"287.5\" y=\"110.6543\">A</text></a></g><a href=\"psysml:b9f88b2a-f312-44cc-a9e4-c89396ff9243\" target=\"_top\" title=\"psysml:b9f88b2a-f312-44cc-a9e4-c89396ff9243\" xlink:actuate=\"onRequest\" xlink:href=\"psysml:b9f88b2a-f312-44cc-a9e4-c89396ff9243\" xlink:show=\"new\" xlink:title=\"psysml:b9f88b2a-f312-44cc-a9e4-c89396ff9243\" xlink:type=\"simple\"><polygon fill=\"#FFFFFF\" filter=\"url(#f1tt3i38m8jqfd)\" points=\"151,84,183,84,190,106.2969,197,106.2969,197,136.5938,151,136.5938,151,84\" style=\"stroke: #000000; stroke-width: 1.5;\"/><line style=\"stroke: #000000; stroke-width: 1.5;\" x1=\"151\" x2=\"190\" y1=\"106.2969\" y2=\"106.2969\"/><text fill=\"#000000\" font-family=\"sans-serif\" font-size=\"14\" font-weight=\"bold\" lengthAdjust=\"spacingAndGlyphs\" textLength=\"26\" x=\"155\" y=\"98.9951\">P2a</text></a><g id=\"E1.E4.E6\"><a href=\"psysml:8ace276a-6fab-4d9f-9bdd-b9a7961474a1\" target=\"_top\" title=\"psysml:8ace276a-6fab-4d9f-9bdd-b9a7961474a1\" xlink:actuate=\"onRequest\" xlink:href=\"psysml:8ace276a-6fab-4d9f-9bdd-b9a7961474a1\" xlink:show=\"new\" xlink:title=\"psysml:8ace276a-6fab-4d9f-9bdd-b9a7961474a1\" xlink:type=\"simple\"><rect fill=\"#FEFECE\" filter=\"url(#f1tt3i38m8jqfd)\" height=\"40\" id=\"E6\" rx=\"10\" ry=\"10\" style=\"stroke: #A80036; stroke-width: 1.5;\" width=\"59\" x=\"56.5\" y=\"90.5\"/><ellipse cx=\"73.75\" cy=\"106.5\" fill=\"#B6DBBB\" rx=\"11\" ry=\"11\" style=\"stroke: #A80036; stroke-width: 1.0;\"/><path d=\"M73.5,111.9688 Q71.75,111.9688 70.7969,110.9375 Q69.8594,109.8906 69.8594,108.0469 L69.8594,101.1563 L71.9219,101.1563 L71.9219,101.3125 Q71.8281,101.4063 71.7969,101.5469 Q71.7813,101.6719 71.7813,101.9375 L71.7813,108.0625 Q71.7813,109.1563 72.1563,109.7813 Q72.5313,110.4063 73.5156,110.4063 Q74.5,110.4063 74.8906,109.7813 Q75.2813,109.1563 75.2813,108.0156 L75.2813,101.1563 L77.1563,101.1563 L77.1563,108 Q77.1563,110.0313 76.125,111 Q75.1094,111.9688 73.5,111.9688 Z \"/><text fill=\"#000000\" font-family=\"sans-serif\" font-size=\"12\" lengthAdjust=\"spacingAndGlyphs\" textLength=\"22\" x=\"88.25\" y=\"110.6543\">x: A</text></a></g><!--MD5=[9b1f9b9ffddec3e723db4c9c733fc22a]\n",
       "@startuml\r\n",
       "skinparam ranksep 10\r\n",
       "skinparam rectangle {\r\n",
       " backgroundColor<<block>> LightGreen\r\n",
       "}\r\n",
       " \r\n",
       "package \"QualifiedNameImportTest\" as E1  [[psysml:a2205de8-88da-4a82-9d0c-530bb72328d3 ]]  {\r\n",
       "package \"P1\" as E2  [[psysml:e0b1ca8b-31cf-4033-8a32-a89f430be7de ]]  {\r\n",
       "rec def \"A\" as E3 << << (B,green) >> [[psysml:b95e347b-a360-4ede-8f45-88f4f6a9f0a4 ]] {\r\n",
       "}\r\n",
       "}\r\n",
       "package \"P2\" as E4  [[psysml:9d5af9ae-79ba-44ae-999f-9385e3e881ff ]]  {\r\n",
       "package \"P2a\" as E5  [[psysml:b9f88b2a-f312-44cc-a9e4-c89396ff9243 ]]  {\r\n",
       "}\r\n",
       "rec usage \"x: A\" as E6  [[psysml:8ace276a-6fab-4d9f-9bdd-b9a7961474a1 ]] {\r\n",
       "}\r\n",
       "}\r\n",
       "}\r\n",
       "@enduml\r\n",
       "\n",
       "PlantUML version 1.2020.13(Sat Jun 13 12:26:38 UTC 2020)\n",
       "(EPL source distribution)\n",
       "Java Runtime: OpenJDK Runtime Environment\n",
       "JVM: OpenJDK 64-Bit Server VM\n",
       "Default Encoding: UTF-8\n",
       "Language: en\n",
       "Country: null\n",
       "--></g></svg>"
      ]
     },
     "execution_count": 33,
     "metadata": {},
     "output_type": "execute_result"
    }
   ],
   "source": [
    "%viz --style=\"PLANTUML\" --view=\"Interconnection\" \"QualifiedNameImportTest\""
   ]
  },
  {
   "cell_type": "code",
   "execution_count": 34,
   "id": "ba62d1ff",
   "metadata": {
    "execution": {
     "iopub.execute_input": "2021-10-25T08:23:45.431147Z",
     "iopub.status.busy": "2021-10-25T08:23:45.430748Z",
     "iopub.status.idle": "2021-10-25T08:23:45.435322Z",
     "shell.execute_reply": "2021-10-25T08:23:45.435611Z"
    }
   },
   "outputs": [
    {
     "data": {
      "image/svg+xml": [
       "<?xml version=\"1.0\" encoding=\"UTF-8\" standalone=\"no\"?><svg xmlns=\"http://www.w3.org/2000/svg\" xmlns:xlink=\"http://www.w3.org/1999/xlink\" contentScriptType=\"application/ecmascript\" contentStyleType=\"text/css\" height=\"12px\" preserveAspectRatio=\"none\" style=\"width:12px;height:12px;\" version=\"1.1\" viewBox=\"0 0 12 12\" width=\"12px\" zoomAndPan=\"magnify\"><defs/><g><!--MD5=[6a4cb978cab31700e1ce5529f947a75d]\n",
       "@startuml\r\n",
       "skinparam ranksep 8\r\n",
       " \r\n",
       "@enduml\r\n",
       "\n",
       "PlantUML version 1.2020.13(Sat Jun 13 12:26:38 UTC 2020)\n",
       "(EPL source distribution)\n",
       "Java Runtime: OpenJDK Runtime Environment\n",
       "JVM: OpenJDK 64-Bit Server VM\n",
       "Default Encoding: UTF-8\n",
       "Language: en\n",
       "Country: null\n",
       "--></g></svg>"
      ]
     },
     "execution_count": 34,
     "metadata": {},
     "output_type": "execute_result"
    }
   ],
   "source": [
    "%viz --style=\"PLANTUML\" --view=\"Action\" \"QualifiedNameImportTest\""
   ]
  },
  {
   "cell_type": "code",
   "execution_count": 35,
   "id": "b4561134",
   "metadata": {
    "execution": {
     "iopub.execute_input": "2021-10-25T08:23:45.485197Z",
     "iopub.status.busy": "2021-10-25T08:23:45.484800Z",
     "iopub.status.idle": "2021-10-25T08:23:45.492158Z",
     "shell.execute_reply": "2021-10-25T08:23:45.492497Z"
    }
   },
   "outputs": [
    {
     "data": {
      "image/svg+xml": [
       "<?xml version=\"1.0\" encoding=\"UTF-8\" standalone=\"no\"?><svg xmlns=\"http://www.w3.org/2000/svg\" xmlns:xlink=\"http://www.w3.org/1999/xlink\" contentScriptType=\"application/ecmascript\" contentStyleType=\"text/css\" height=\"12px\" preserveAspectRatio=\"none\" style=\"width:12px;height:12px;\" version=\"1.1\" viewBox=\"0 0 12 12\" width=\"12px\" zoomAndPan=\"magnify\"><defs/><g><!--MD5=[ca4faa0b02def275ea33c14ea7a1a98d]\n",
       "@startuml\r\n",
       "skinparam roundcorner 20\r\n",
       "skinparam BoxPadding 20\r\n",
       "skinparam SequenceBoxBackgroundColor #white\r\n",
       "skinparam style strictuml\r\n",
       "skinparam maxMessageSize 100\r\n",
       " \r\n",
       "@enduml\r\n",
       "\n",
       "PlantUML version 1.2020.13(Sat Jun 13 12:26:38 UTC 2020)\n",
       "(EPL source distribution)\n",
       "Java Runtime: OpenJDK Runtime Environment\n",
       "JVM: OpenJDK 64-Bit Server VM\n",
       "Default Encoding: UTF-8\n",
       "Language: en\n",
       "Country: null\n",
       "--></g></svg>"
      ]
     },
     "execution_count": 35,
     "metadata": {},
     "output_type": "execute_result"
    }
   ],
   "source": [
    "%viz --style=\"PLANTUML\" --view=\"Sequence\" \"QualifiedNameImportTest\""
   ]
  },
  {
   "cell_type": "code",
   "execution_count": 36,
   "id": "e04465e0",
   "metadata": {
    "execution": {
     "iopub.execute_input": "2021-10-25T08:23:45.539748Z",
     "iopub.status.busy": "2021-10-25T08:23:45.539322Z",
     "iopub.status.idle": "2021-10-25T08:23:45.569486Z",
     "shell.execute_reply": "2021-10-25T08:23:45.567621Z"
    }
   },
   "outputs": [
    {
     "data": {
      "image/svg+xml": [
       "<?xml version=\"1.0\" encoding=\"UTF-8\" standalone=\"no\"?><svg xmlns=\"http://www.w3.org/2000/svg\" xmlns:xlink=\"http://www.w3.org/1999/xlink\" contentScriptType=\"application/ecmascript\" contentStyleType=\"text/css\" height=\"304px\" preserveAspectRatio=\"none\" style=\"width:267px;height:304px;\" version=\"1.1\" viewBox=\"0 0 267 304\" width=\"267px\" zoomAndPan=\"magnify\"><defs><filter height=\"300%\" id=\"fsqnw5dgk4o13\" width=\"300%\" x=\"-1\" y=\"-1\"><feGaussianBlur result=\"blurOut\" stdDeviation=\"2.0\"/><feColorMatrix in=\"blurOut\" result=\"blurOut2\" type=\"matrix\" values=\"0 0 0 0 0 0 0 0 0 0 0 0 0 0 0 0 0 0 .4 0\"/><feOffset dx=\"4.0\" dy=\"4.0\" in=\"blurOut2\" result=\"blurOut3\"/><feBlend in=\"SourceGraphic\" in2=\"blurOut3\" mode=\"normal\"/></filter></defs><g><!--MD5=[fbc87193dbaf4d95561dea2c320d4a47]\n",
       "cluster E1--><a href=\"psysml:a2205de8-88da-4a82-9d0c-530bb72328d3\" target=\"_top\" title=\"psysml:a2205de8-88da-4a82-9d0c-530bb72328d3\" xlink:actuate=\"onRequest\" xlink:href=\"psysml:a2205de8-88da-4a82-9d0c-530bb72328d3\" xlink:show=\"new\" xlink:title=\"psysml:a2205de8-88da-4a82-9d0c-530bb72328d3\" xlink:type=\"simple\"><polygon fill=\"#FFFFFF\" filter=\"url(#fsqnw5dgk4o13)\" points=\"16,6,196,6,203,28.2969,245,28.2969,245,292,16,292,16,6\" style=\"stroke: #000000; stroke-width: 1.5;\"/><line style=\"stroke: #000000; stroke-width: 1.5;\" x1=\"16\" x2=\"203\" y1=\"28.2969\" y2=\"28.2969\"/><text fill=\"#000000\" font-family=\"sans-serif\" font-size=\"14\" font-weight=\"bold\" lengthAdjust=\"spacingAndGlyphs\" textLength=\"174\" x=\"20\" y=\"20.9951\">QualifiedNameImportTest</text></a><!--MD5=[e4f7fae6ed58524ba242bb0b0d3be6b7]\n",
       "cluster E2--><a href=\"psysml:e0b1ca8b-31cf-4033-8a32-a89f430be7de\" target=\"_top\" title=\"psysml:e0b1ca8b-31cf-4033-8a32-a89f430be7de\" xlink:actuate=\"onRequest\" xlink:href=\"psysml:e0b1ca8b-31cf-4033-8a32-a89f430be7de\" xlink:show=\"new\" xlink:title=\"psysml:e0b1ca8b-31cf-4033-8a32-a89f430be7de\" xlink:type=\"simple\"><polygon fill=\"#FFFFFF\" filter=\"url(#fsqnw5dgk4o13)\" points=\"135,177,159,177,166,199.2969,207,199.2969,207,268,135,268,135,177\" style=\"stroke: #000000; stroke-width: 1.5;\"/><line style=\"stroke: #000000; stroke-width: 1.5;\" x1=\"135\" x2=\"166\" y1=\"199.2969\" y2=\"199.2969\"/><text fill=\"#000000\" font-family=\"sans-serif\" font-size=\"14\" font-weight=\"bold\" lengthAdjust=\"spacingAndGlyphs\" textLength=\"18\" x=\"139\" y=\"191.9951\">P1</text></a><!--MD5=[f6df4d0ebaf0b5dfb2ced0ae5af7c670]\n",
       "cluster E4--><a href=\"psysml:9d5af9ae-79ba-44ae-999f-9385e3e881ff\" target=\"_top\" title=\"psysml:9d5af9ae-79ba-44ae-999f-9385e3e881ff\" xlink:actuate=\"onRequest\" xlink:href=\"psysml:9d5af9ae-79ba-44ae-999f-9385e3e881ff\" xlink:show=\"new\" xlink:title=\"psysml:9d5af9ae-79ba-44ae-999f-9385e3e881ff\" xlink:type=\"simple\"><polygon fill=\"#FFFFFF\" filter=\"url(#fsqnw5dgk4o13)\" points=\"40,49,64,49,71,71.2969,221,71.2969,221,153,40,153,40,49\" style=\"stroke: #000000; stroke-width: 1.5;\"/><line style=\"stroke: #000000; stroke-width: 1.5;\" x1=\"40\" x2=\"71\" y1=\"71.2969\" y2=\"71.2969\"/><text fill=\"#000000\" font-family=\"sans-serif\" font-size=\"14\" font-weight=\"bold\" lengthAdjust=\"spacingAndGlyphs\" textLength=\"18\" x=\"44\" y=\"63.9951\">P2</text></a><!--MD5=[09b614a08d8cba4a07c9adeb5e0fee81]\n",
       "class E3--><a href=\"psysml:b95e347b-a360-4ede-8f45-88f4f6a9f0a4\" target=\"_top\" title=\"psysml:b95e347b-a360-4ede-8f45-88f4f6a9f0a4\" xlink:actuate=\"onRequest\" xlink:href=\"psysml:b95e347b-a360-4ede-8f45-88f4f6a9f0a4\" xlink:show=\"new\" xlink:title=\"psysml:b95e347b-a360-4ede-8f45-88f4f6a9f0a4\" xlink:type=\"simple\"><rect fill=\"#FEFECE\" filter=\"url(#fsqnw5dgk4o13)\" height=\"40\" id=\"E3\" style=\"stroke: #A80036; stroke-width: 1.5;\" width=\"40\" x=\"151\" y=\"212\"/><ellipse cx=\"166\" cy=\"228\" fill=\"#008000\" rx=\"11\" ry=\"11\" style=\"stroke: #A80036; stroke-width: 1.0;\"/><path d=\"M162.875,233 L162.875,222.4063 L166.1094,222.4063 Q168.0156,222.4063 168.9219,223.1563 Q169.8438,223.9063 169.8438,225.0781 Q169.8438,225.7656 169.4531,226.4219 Q169.0781,227.0781 168.3594,227.375 Q169.2188,227.75 169.7344,228.4375 Q170.25,229.125 170.25,229.9375 Q170.25,231.3125 169.2188,232.1563 Q168.2031,233 166.0938,233 L162.875,233 Z M164.7969,226.6406 L165.9531,226.6406 Q167.0781,226.6406 167.4844,226.2656 Q167.9063,225.875 167.9063,225.25 Q167.9063,224.6719 167.4844,224.3125 Q167.0625,223.9531 166.125,223.9531 L164.7969,223.9531 L164.7969,226.6406 Z M164.7969,231.4219 L166.2969,231.4219 Q167.2031,231.4219 167.7344,231.0313 Q168.2656,230.6406 168.2656,229.8906 Q168.2656,229.125 167.7656,228.6563 Q167.2656,228.1719 166,228.1719 L164.7969,228.1719 L164.7969,231.4219 Z \"/><text fill=\"#000000\" font-family=\"sans-serif\" font-size=\"12\" lengthAdjust=\"spacingAndGlyphs\" textLength=\"8\" x=\"180\" y=\"232.1543\">A</text><line style=\"stroke: #A80036; stroke-width: 1.5;\" x1=\"152\" x2=\"190\" y1=\"244\" y2=\"244\"/></a><!--MD5=[60a26617385b1d2d0262a64233df1f8d]\n",
       "class E6--><a href=\"psysml:8ace276a-6fab-4d9f-9bdd-b9a7961474a1\" target=\"_top\" title=\"psysml:8ace276a-6fab-4d9f-9bdd-b9a7961474a1\" xlink:actuate=\"onRequest\" xlink:href=\"psysml:8ace276a-6fab-4d9f-9bdd-b9a7961474a1\" xlink:show=\"new\" xlink:title=\"psysml:8ace276a-6fab-4d9f-9bdd-b9a7961474a1\" xlink:type=\"simple\"><rect fill=\"#FEFECE\" filter=\"url(#fsqnw5dgk4o13)\" height=\"45.9375\" id=\"E6\" rx=\"10\" ry=\"10\" style=\"stroke: #A80036; stroke-width: 1.5;\" width=\"68\" x=\"137\" y=\"87.5\"/><ellipse cx=\"152\" cy=\"106.4688\" fill=\"#32CD32\" rx=\"11\" ry=\"11\" style=\"stroke: #A80036; stroke-width: 1.0;\"/><path d=\"M148.8125,111.4688 L148.8125,100.875 L152.4219,100.875 Q153.6406,100.875 154.4375,101.3125 Q155.2344,101.7344 155.6094,102.4375 Q156,103.1406 156,103.9844 Q156,104.8281 155.625,105.5156 Q155.2656,106.2031 154.4688,106.625 Q153.6875,107.0313 152.5,107.0313 L150.7656,107.0313 L150.7656,111.4688 L148.8125,111.4688 Z M150.7656,105.4375 L152.375,105.4375 Q153.1875,105.4375 153.6094,105.0313 Q154.0313,104.625 154.0313,103.9844 Q154.0313,103.3594 153.6094,102.9531 Q153.1875,102.5469 152.3906,102.5469 L150.7656,102.5469 L150.7656,105.4375 Z \"/><text fill=\"#000000\" font-family=\"sans-serif\" font-size=\"12\" font-style=\"italic\" lengthAdjust=\"spacingAndGlyphs\" textLength=\"40\" x=\"164\" y=\"103.6387\">«part»</text><text fill=\"#000000\" font-family=\"sans-serif\" font-size=\"12\" lengthAdjust=\"spacingAndGlyphs\" textLength=\"22\" x=\"171\" y=\"117.6074\">x: A</text><line style=\"stroke: #A80036; stroke-width: 1.5;\" x1=\"138\" x2=\"204\" y1=\"125.4375\" y2=\"125.4375\"/></a><a href=\"psysml:b9f88b2a-f312-44cc-a9e4-c89396ff9243\" target=\"_top\" title=\"psysml:b9f88b2a-f312-44cc-a9e4-c89396ff9243\" xlink:actuate=\"onRequest\" xlink:href=\"psysml:b9f88b2a-f312-44cc-a9e4-c89396ff9243\" xlink:show=\"new\" xlink:title=\"psysml:b9f88b2a-f312-44cc-a9e4-c89396ff9243\" xlink:type=\"simple\"><polygon fill=\"#FFFFFF\" filter=\"url(#fsqnw5dgk4o13)\" points=\"56,84,88,84,95,106.2969,102,106.2969,102,136.5938,56,136.5938,56,84\" style=\"stroke: #000000; stroke-width: 1.5;\"/><line style=\"stroke: #000000; stroke-width: 1.5;\" x1=\"56\" x2=\"95\" y1=\"106.2969\" y2=\"106.2969\"/><text fill=\"#000000\" font-family=\"sans-serif\" font-size=\"14\" font-weight=\"bold\" lengthAdjust=\"spacingAndGlyphs\" textLength=\"26\" x=\"60\" y=\"98.9951\">P2a</text></a><!--MD5=[a717450b82c80b9240a525fa862496af]\n",
       "link E6 to E3--><a href=\"psysml:3b068d74-51f4-4206-8ca3-dd0a14e18b44\" target=\"_top\" title=\"psysml:3b068d74-51f4-4206-8ca3-dd0a14e18b44\" xlink:actuate=\"onRequest\" xlink:href=\"psysml:3b068d74-51f4-4206-8ca3-dd0a14e18b44\" xlink:show=\"new\" xlink:title=\"psysml:3b068d74-51f4-4206-8ca3-dd0a14e18b44\" xlink:type=\"simple\"><path d=\"M171,133.7 C171,149.89 171,172.27 171,191.49 \" fill=\"none\" id=\"E6-&gt;E3\" style=\"stroke: #A80036; stroke-width: 1.0;\"/><polygon fill=\"#FFFFFF\" points=\"171,211.69,164,192.69,178,192.69,171,211.69\" style=\"stroke: #A80036; stroke-width: 1.0;\"/><ellipse cx=\"166\" cy=\"186.99\" fill=\"#A80036\" rx=\"2\" ry=\"2\" style=\"stroke: #A80036; stroke-width: 1.0;\"/><ellipse cx=\"176\" cy=\"186.99\" fill=\"#A80036\" rx=\"2\" ry=\"2\" style=\"stroke: #A80036; stroke-width: 1.0;\"/></a><!--MD5=[3dfed326c6d8dc6973c1f9868a4d2c68]\n",
       "@startuml\r\n",
       " \r\n",
       "package \"QualifiedNameImportTest\" as E1  [[psysml:a2205de8-88da-4a82-9d0c-530bb72328d3 ]]  {\r\n",
       "package \"P1\" as E2  [[psysml:e0b1ca8b-31cf-4033-8a32-a89f430be7de ]]  {\r\n",
       "comp def \"A\" as E3 << << (B,green) >> [[psysml:b95e347b-a360-4ede-8f45-88f4f6a9f0a4 ]] {\r\n",
       "}\r\n",
       "}\r\n",
       "package \"P2\" as E4  [[psysml:9d5af9ae-79ba-44ae-999f-9385e3e881ff ]]  {\r\n",
       "package \"P2a\" as E5  [[psysml:b9f88b2a-f312-44cc-a9e4-c89396ff9243 ]]  {\r\n",
       "}\r\n",
       "comp usage \"x: A \" as E6 << << (P,limegreen) part>> [[psysml:8ace276a-6fab-4d9f-9bdd-b9a7961474a1 ]] {\r\n",
       "}\r\n",
       "}\r\n",
       "}\r\n",
       "E6 - -:|> E3 [[psysml:3b068d74-51f4-4206-8ca3-dd0a14e18b44 ]] \r\n",
       "@enduml\r\n",
       "\n",
       "PlantUML version 1.2020.13(Sat Jun 13 12:26:38 UTC 2020)\n",
       "(EPL source distribution)\n",
       "Java Runtime: OpenJDK Runtime Environment\n",
       "JVM: OpenJDK 64-Bit Server VM\n",
       "Default Encoding: UTF-8\n",
       "Language: en\n",
       "Country: null\n",
       "--></g></svg>"
      ]
     },
     "execution_count": 36,
     "metadata": {},
     "output_type": "execute_result"
    }
   ],
   "source": [
    "%viz --style=\"PLANTUML\" --view=\"MIXED\" \"QualifiedNameImportTest\""
   ]
  },
  {
   "cell_type": "code",
   "execution_count": 37,
   "id": "6f6900f8",
   "metadata": {
    "execution": {
     "iopub.execute_input": "2021-10-25T08:23:45.618401Z",
     "iopub.status.busy": "2021-10-25T08:23:45.617988Z",
     "iopub.status.idle": "2021-10-25T08:23:45.647718Z",
     "shell.execute_reply": "2021-10-25T08:23:45.647346Z"
    }
   },
   "outputs": [
    {
     "data": {
      "image/svg+xml": [
       "<?xml version=\"1.0\" encoding=\"UTF-8\" standalone=\"no\"?><svg xmlns=\"http://www.w3.org/2000/svg\" xmlns:xlink=\"http://www.w3.org/1999/xlink\" contentScriptType=\"application/ecmascript\" contentStyleType=\"text/css\" height=\"310px\" preserveAspectRatio=\"none\" style=\"width:241px;height:310px;\" version=\"1.1\" viewBox=\"0 0 241 310\" width=\"241px\" zoomAndPan=\"magnify\"><defs/><g><!--MD5=[fbc87193dbaf4d95561dea2c320d4a47]\n",
       "cluster E1--><a href=\"psysml:a2205de8-88da-4a82-9d0c-530bb72328d3\" target=\"_top\" title=\"psysml:a2205de8-88da-4a82-9d0c-530bb72328d3\" xlink:actuate=\"onRequest\" xlink:href=\"psysml:a2205de8-88da-4a82-9d0c-530bb72328d3\" xlink:show=\"new\" xlink:title=\"psysml:a2205de8-88da-4a82-9d0c-530bb72328d3\" xlink:type=\"simple\"><polygon fill=\"#FFFFFF\" points=\"16,6,196,6,203,28.2969,219,28.2969,219,298,16,298,16,6\" style=\"stroke: #000000; stroke-width: 1.5;\"/><line style=\"stroke: #000000; stroke-width: 1.5;\" x1=\"16\" x2=\"203\" y1=\"28.2969\" y2=\"28.2969\"/><text fill=\"#000000\" font-family=\"sans-serif\" font-size=\"14\" font-weight=\"bold\" lengthAdjust=\"spacingAndGlyphs\" textLength=\"174\" x=\"20\" y=\"20.9951\">QualifiedNameImportTest</text></a><!--MD5=[e4f7fae6ed58524ba242bb0b0d3be6b7]\n",
       "cluster E2--><a href=\"psysml:e0b1ca8b-31cf-4033-8a32-a89f430be7de\" target=\"_top\" title=\"psysml:e0b1ca8b-31cf-4033-8a32-a89f430be7de\" xlink:actuate=\"onRequest\" xlink:href=\"psysml:e0b1ca8b-31cf-4033-8a32-a89f430be7de\" xlink:show=\"new\" xlink:title=\"psysml:e0b1ca8b-31cf-4033-8a32-a89f430be7de\" xlink:type=\"simple\"><polygon fill=\"#FFFFFF\" points=\"93,177,117,177,124,199.2969,195,199.2969,195,274,93,274,93,177\" style=\"stroke: #000000; stroke-width: 1.5;\"/><line style=\"stroke: #000000; stroke-width: 1.5;\" x1=\"93\" x2=\"124\" y1=\"199.2969\" y2=\"199.2969\"/><text fill=\"#000000\" font-family=\"sans-serif\" font-size=\"14\" font-weight=\"bold\" lengthAdjust=\"spacingAndGlyphs\" textLength=\"18\" x=\"97\" y=\"191.9951\">P1</text></a><!--MD5=[f6df4d0ebaf0b5dfb2ced0ae5af7c670]\n",
       "cluster E4--><a href=\"psysml:9d5af9ae-79ba-44ae-999f-9385e3e881ff\" target=\"_top\" title=\"psysml:9d5af9ae-79ba-44ae-999f-9385e3e881ff\" xlink:actuate=\"onRequest\" xlink:href=\"psysml:9d5af9ae-79ba-44ae-999f-9385e3e881ff\" xlink:show=\"new\" xlink:title=\"psysml:9d5af9ae-79ba-44ae-999f-9385e3e881ff\" xlink:type=\"simple\"><polygon fill=\"#FFFFFF\" points=\"40,49,64,49,71,71.2969,195,71.2969,195,153,40,153,40,49\" style=\"stroke: #000000; stroke-width: 1.5;\"/><line style=\"stroke: #000000; stroke-width: 1.5;\" x1=\"40\" x2=\"71\" y1=\"71.2969\" y2=\"71.2969\"/><text fill=\"#000000\" font-family=\"sans-serif\" font-size=\"14\" font-weight=\"bold\" lengthAdjust=\"spacingAndGlyphs\" textLength=\"18\" x=\"44\" y=\"63.9951\">P2</text></a><!--MD5=[09b614a08d8cba4a07c9adeb5e0fee81]\n",
       "class E3--><a href=\"psysml:b95e347b-a360-4ede-8f45-88f4f6a9f0a4\" target=\"_top\" title=\"psysml:b95e347b-a360-4ede-8f45-88f4f6a9f0a4\" xlink:actuate=\"onRequest\" xlink:href=\"psysml:b95e347b-a360-4ede-8f45-88f4f6a9f0a4\" xlink:show=\"new\" xlink:title=\"psysml:b95e347b-a360-4ede-8f45-88f4f6a9f0a4\" xlink:type=\"simple\"><rect fill=\"#FFFFFF\" height=\"45.9375\" id=\"E3\" style=\"stroke: #383838; stroke-width: 1.5;\" width=\"70\" x=\"109\" y=\"212\"/><text fill=\"#000000\" font-family=\"sans-serif\" font-size=\"12\" font-style=\"italic\" lengthAdjust=\"spacingAndGlyphs\" textLength=\"68\" x=\"110\" y=\"228.1387\">«part  def»</text><text fill=\"#000000\" font-family=\"sans-serif\" font-size=\"12\" lengthAdjust=\"spacingAndGlyphs\" textLength=\"8\" x=\"140\" y=\"242.1074\">A</text><line style=\"stroke: #383838; stroke-width: 1.5;\" x1=\"110\" x2=\"178\" y1=\"249.9375\" y2=\"249.9375\"/></a><!--MD5=[60a26617385b1d2d0262a64233df1f8d]\n",
       "class E6--><a href=\"psysml:8ace276a-6fab-4d9f-9bdd-b9a7961474a1\" target=\"_top\" title=\"psysml:8ace276a-6fab-4d9f-9bdd-b9a7961474a1\" xlink:actuate=\"onRequest\" xlink:href=\"psysml:8ace276a-6fab-4d9f-9bdd-b9a7961474a1\" xlink:show=\"new\" xlink:title=\"psysml:8ace276a-6fab-4d9f-9bdd-b9a7961474a1\" xlink:type=\"simple\"><rect fill=\"#FFFFFF\" height=\"45.9375\" id=\"E6\" rx=\"10\" ry=\"10\" style=\"stroke: #383838; stroke-width: 1.5;\" width=\"42\" x=\"137\" y=\"87.5\"/><text fill=\"#000000\" font-family=\"sans-serif\" font-size=\"12\" font-style=\"italic\" lengthAdjust=\"spacingAndGlyphs\" textLength=\"40\" x=\"138\" y=\"103.6387\">«part»</text><text fill=\"#000000\" font-family=\"sans-serif\" font-size=\"12\" lengthAdjust=\"spacingAndGlyphs\" textLength=\"22\" x=\"145\" y=\"117.6074\">x: A</text><line style=\"stroke: #383838; stroke-width: 1.5;\" x1=\"138\" x2=\"178\" y1=\"125.4375\" y2=\"125.4375\"/></a><a href=\"psysml:b9f88b2a-f312-44cc-a9e4-c89396ff9243\" target=\"_top\" title=\"psysml:b9f88b2a-f312-44cc-a9e4-c89396ff9243\" xlink:actuate=\"onRequest\" xlink:href=\"psysml:b9f88b2a-f312-44cc-a9e4-c89396ff9243\" xlink:show=\"new\" xlink:title=\"psysml:b9f88b2a-f312-44cc-a9e4-c89396ff9243\" xlink:type=\"simple\"><polygon fill=\"#FFFFFF\" points=\"56,84,88,84,95,106.2969,102,106.2969,102,136.5938,56,136.5938,56,84\" style=\"stroke: #000000; stroke-width: 1.5;\"/><line style=\"stroke: #000000; stroke-width: 1.5;\" x1=\"56\" x2=\"95\" y1=\"106.2969\" y2=\"106.2969\"/><text fill=\"#000000\" font-family=\"sans-serif\" font-size=\"14\" font-weight=\"bold\" lengthAdjust=\"spacingAndGlyphs\" textLength=\"26\" x=\"60\" y=\"98.9951\">P2a</text></a><!--MD5=[a717450b82c80b9240a525fa862496af]\n",
       "link E6 to E3--><a href=\"psysml:3b068d74-51f4-4206-8ca3-dd0a14e18b44\" target=\"_top\" title=\"psysml:3b068d74-51f4-4206-8ca3-dd0a14e18b44\" xlink:actuate=\"onRequest\" xlink:href=\"psysml:3b068d74-51f4-4206-8ca3-dd0a14e18b44\" xlink:show=\"new\" xlink:title=\"psysml:3b068d74-51f4-4206-8ca3-dd0a14e18b44\" xlink:type=\"simple\"><path d=\"M155.46,133.68 C153.61,149.9 151.04,172.39 148.8,191.96 \" fill=\"none\" id=\"E6-&gt;E3\" style=\"stroke: #383838; stroke-width: 1.0;\"/><polygon fill=\"#FFFFFF\" points=\"146.52,211.98,141.7231,192.308,155.6325,193.8979,146.52,211.98\" style=\"stroke: #383838; stroke-width: 1.0;\"/><ellipse cx=\"144.3574\" cy=\"186.872\" fill=\"#383838\" rx=\"2\" ry=\"2\" style=\"stroke: #383838; stroke-width: 1.0;\"/><ellipse cx=\"154.2928\" cy=\"188.0076\" fill=\"#383838\" rx=\"2\" ry=\"2\" style=\"stroke: #383838; stroke-width: 1.0;\"/></a><!--MD5=[f71946db9a7cd5d76a3ebbc2c0b649f3]\n",
       "@startuml\r\n",
       "skinparam monochrome true\r\n",
       "skinparam classbackgroundcolor white\r\n",
       "skinparam shadowing false\r\n",
       "skinparam wrapWidth 300\r\n",
       "hide circle\r\n",
       "\r\n",
       "package \"QualifiedNameImportTest\" as E1  [[psysml:a2205de8-88da-4a82-9d0c-530bb72328d3 ]]  {\r\n",
       "package \"P1\" as E2  [[psysml:e0b1ca8b-31cf-4033-8a32-a89f430be7de ]]  {\r\n",
       "comp def \"A\" as E3  <<(T,blue) part  def>> [[psysml:b95e347b-a360-4ede-8f45-88f4f6a9f0a4 ]] {\r\n",
       "}\r\n",
       "}\r\n",
       "package \"P2\" as E4  [[psysml:9d5af9ae-79ba-44ae-999f-9385e3e881ff ]]  {\r\n",
       "package \"P2a\" as E5  [[psysml:b9f88b2a-f312-44cc-a9e4-c89396ff9243 ]]  {\r\n",
       "}\r\n",
       "comp usage \"x: A \" as E6  <<(T,blue) part>> [[psysml:8ace276a-6fab-4d9f-9bdd-b9a7961474a1 ]] {\r\n",
       "}\r\n",
       "}\r\n",
       "}\r\n",
       "E6 - -:|> E3 [[psysml:3b068d74-51f4-4206-8ca3-dd0a14e18b44 ]] \r\n",
       "@enduml\r\n",
       "\n",
       "PlantUML version 1.2020.13(Sat Jun 13 12:26:38 UTC 2020)\n",
       "(EPL source distribution)\n",
       "Java Runtime: OpenJDK Runtime Environment\n",
       "JVM: OpenJDK 64-Bit Server VM\n",
       "Default Encoding: UTF-8\n",
       "Language: en\n",
       "Country: null\n",
       "--></g></svg>"
      ]
     },
     "execution_count": 37,
     "metadata": {},
     "output_type": "execute_result"
    }
   ],
   "source": [
    "%viz --style=\"DEFAULT\" --view=\"Default\" \"QualifiedNameImportTest\""
   ]
  },
  {
   "cell_type": "code",
   "execution_count": 38,
   "id": "fd347a64",
   "metadata": {
    "execution": {
     "iopub.execute_input": "2021-10-25T08:23:45.697157Z",
     "iopub.status.busy": "2021-10-25T08:23:45.696697Z",
     "iopub.status.idle": "2021-10-25T08:23:45.727649Z",
     "shell.execute_reply": "2021-10-25T08:23:45.725754Z"
    }
   },
   "outputs": [
    {
     "data": {
      "image/svg+xml": [
       "<?xml version=\"1.0\" encoding=\"UTF-8\" standalone=\"no\"?><svg xmlns=\"http://www.w3.org/2000/svg\" xmlns:xlink=\"http://www.w3.org/1999/xlink\" contentScriptType=\"application/ecmascript\" contentStyleType=\"text/css\" height=\"310px\" preserveAspectRatio=\"none\" style=\"width:241px;height:310px;\" version=\"1.1\" viewBox=\"0 0 241 310\" width=\"241px\" zoomAndPan=\"magnify\"><defs/><g><!--MD5=[fbc87193dbaf4d95561dea2c320d4a47]\n",
       "cluster E1--><a href=\"psysml:a2205de8-88da-4a82-9d0c-530bb72328d3\" target=\"_top\" title=\"psysml:a2205de8-88da-4a82-9d0c-530bb72328d3\" xlink:actuate=\"onRequest\" xlink:href=\"psysml:a2205de8-88da-4a82-9d0c-530bb72328d3\" xlink:show=\"new\" xlink:title=\"psysml:a2205de8-88da-4a82-9d0c-530bb72328d3\" xlink:type=\"simple\"><polygon fill=\"#FFFFFF\" points=\"16,6,196,6,203,28.2969,219,28.2969,219,298,16,298,16,6\" style=\"stroke: #000000; stroke-width: 1.5;\"/><line style=\"stroke: #000000; stroke-width: 1.5;\" x1=\"16\" x2=\"203\" y1=\"28.2969\" y2=\"28.2969\"/><text fill=\"#000000\" font-family=\"sans-serif\" font-size=\"14\" font-weight=\"bold\" lengthAdjust=\"spacingAndGlyphs\" textLength=\"174\" x=\"20\" y=\"20.9951\">QualifiedNameImportTest</text></a><!--MD5=[e4f7fae6ed58524ba242bb0b0d3be6b7]\n",
       "cluster E2--><a href=\"psysml:e0b1ca8b-31cf-4033-8a32-a89f430be7de\" target=\"_top\" title=\"psysml:e0b1ca8b-31cf-4033-8a32-a89f430be7de\" xlink:actuate=\"onRequest\" xlink:href=\"psysml:e0b1ca8b-31cf-4033-8a32-a89f430be7de\" xlink:show=\"new\" xlink:title=\"psysml:e0b1ca8b-31cf-4033-8a32-a89f430be7de\" xlink:type=\"simple\"><polygon fill=\"#FFFFFF\" points=\"93,177,117,177,124,199.2969,195,199.2969,195,274,93,274,93,177\" style=\"stroke: #000000; stroke-width: 1.5;\"/><line style=\"stroke: #000000; stroke-width: 1.5;\" x1=\"93\" x2=\"124\" y1=\"199.2969\" y2=\"199.2969\"/><text fill=\"#000000\" font-family=\"sans-serif\" font-size=\"14\" font-weight=\"bold\" lengthAdjust=\"spacingAndGlyphs\" textLength=\"18\" x=\"97\" y=\"191.9951\">P1</text></a><!--MD5=[f6df4d0ebaf0b5dfb2ced0ae5af7c670]\n",
       "cluster E4--><a href=\"psysml:9d5af9ae-79ba-44ae-999f-9385e3e881ff\" target=\"_top\" title=\"psysml:9d5af9ae-79ba-44ae-999f-9385e3e881ff\" xlink:actuate=\"onRequest\" xlink:href=\"psysml:9d5af9ae-79ba-44ae-999f-9385e3e881ff\" xlink:show=\"new\" xlink:title=\"psysml:9d5af9ae-79ba-44ae-999f-9385e3e881ff\" xlink:type=\"simple\"><polygon fill=\"#FFFFFF\" points=\"40,49,64,49,71,71.2969,195,71.2969,195,153,40,153,40,49\" style=\"stroke: #000000; stroke-width: 1.5;\"/><line style=\"stroke: #000000; stroke-width: 1.5;\" x1=\"40\" x2=\"71\" y1=\"71.2969\" y2=\"71.2969\"/><text fill=\"#000000\" font-family=\"sans-serif\" font-size=\"14\" font-weight=\"bold\" lengthAdjust=\"spacingAndGlyphs\" textLength=\"18\" x=\"44\" y=\"63.9951\">P2</text></a><!--MD5=[09b614a08d8cba4a07c9adeb5e0fee81]\n",
       "class E3--><a href=\"psysml:b95e347b-a360-4ede-8f45-88f4f6a9f0a4\" target=\"_top\" title=\"psysml:b95e347b-a360-4ede-8f45-88f4f6a9f0a4\" xlink:actuate=\"onRequest\" xlink:href=\"psysml:b95e347b-a360-4ede-8f45-88f4f6a9f0a4\" xlink:show=\"new\" xlink:title=\"psysml:b95e347b-a360-4ede-8f45-88f4f6a9f0a4\" xlink:type=\"simple\"><rect fill=\"#FFFFFF\" height=\"45.9375\" id=\"E3\" style=\"stroke: #383838; stroke-width: 1.5;\" width=\"70\" x=\"109\" y=\"212\"/><text fill=\"#000000\" font-family=\"sans-serif\" font-size=\"12\" font-style=\"italic\" lengthAdjust=\"spacingAndGlyphs\" textLength=\"68\" x=\"110\" y=\"228.1387\">«part  def»</text><text fill=\"#000000\" font-family=\"sans-serif\" font-size=\"12\" lengthAdjust=\"spacingAndGlyphs\" textLength=\"8\" x=\"140\" y=\"242.1074\">A</text><line style=\"stroke: #383838; stroke-width: 1.5;\" x1=\"110\" x2=\"178\" y1=\"249.9375\" y2=\"249.9375\"/></a><!--MD5=[60a26617385b1d2d0262a64233df1f8d]\n",
       "class E6--><a href=\"psysml:8ace276a-6fab-4d9f-9bdd-b9a7961474a1\" target=\"_top\" title=\"psysml:8ace276a-6fab-4d9f-9bdd-b9a7961474a1\" xlink:actuate=\"onRequest\" xlink:href=\"psysml:8ace276a-6fab-4d9f-9bdd-b9a7961474a1\" xlink:show=\"new\" xlink:title=\"psysml:8ace276a-6fab-4d9f-9bdd-b9a7961474a1\" xlink:type=\"simple\"><rect fill=\"#FFFFFF\" height=\"45.9375\" id=\"E6\" rx=\"10\" ry=\"10\" style=\"stroke: #383838; stroke-width: 1.5;\" width=\"42\" x=\"137\" y=\"87.5\"/><text fill=\"#000000\" font-family=\"sans-serif\" font-size=\"12\" font-style=\"italic\" lengthAdjust=\"spacingAndGlyphs\" textLength=\"40\" x=\"138\" y=\"103.6387\">«part»</text><text fill=\"#000000\" font-family=\"sans-serif\" font-size=\"12\" lengthAdjust=\"spacingAndGlyphs\" textLength=\"22\" x=\"145\" y=\"117.6074\">x: A</text><line style=\"stroke: #383838; stroke-width: 1.5;\" x1=\"138\" x2=\"178\" y1=\"125.4375\" y2=\"125.4375\"/></a><a href=\"psysml:b9f88b2a-f312-44cc-a9e4-c89396ff9243\" target=\"_top\" title=\"psysml:b9f88b2a-f312-44cc-a9e4-c89396ff9243\" xlink:actuate=\"onRequest\" xlink:href=\"psysml:b9f88b2a-f312-44cc-a9e4-c89396ff9243\" xlink:show=\"new\" xlink:title=\"psysml:b9f88b2a-f312-44cc-a9e4-c89396ff9243\" xlink:type=\"simple\"><polygon fill=\"#FFFFFF\" points=\"56,84,88,84,95,106.2969,102,106.2969,102,136.5938,56,136.5938,56,84\" style=\"stroke: #000000; stroke-width: 1.5;\"/><line style=\"stroke: #000000; stroke-width: 1.5;\" x1=\"56\" x2=\"95\" y1=\"106.2969\" y2=\"106.2969\"/><text fill=\"#000000\" font-family=\"sans-serif\" font-size=\"14\" font-weight=\"bold\" lengthAdjust=\"spacingAndGlyphs\" textLength=\"26\" x=\"60\" y=\"98.9951\">P2a</text></a><!--MD5=[a717450b82c80b9240a525fa862496af]\n",
       "link E6 to E3--><a href=\"psysml:3b068d74-51f4-4206-8ca3-dd0a14e18b44\" target=\"_top\" title=\"psysml:3b068d74-51f4-4206-8ca3-dd0a14e18b44\" xlink:actuate=\"onRequest\" xlink:href=\"psysml:3b068d74-51f4-4206-8ca3-dd0a14e18b44\" xlink:show=\"new\" xlink:title=\"psysml:3b068d74-51f4-4206-8ca3-dd0a14e18b44\" xlink:type=\"simple\"><path d=\"M155.46,133.68 C153.61,149.9 151.04,172.39 148.8,191.96 \" fill=\"none\" id=\"E6-&gt;E3\" style=\"stroke: #383838; stroke-width: 1.0;\"/><polygon fill=\"#FFFFFF\" points=\"146.52,211.98,141.7231,192.308,155.6325,193.8979,146.52,211.98\" style=\"stroke: #383838; stroke-width: 1.0;\"/><ellipse cx=\"144.3574\" cy=\"186.872\" fill=\"#383838\" rx=\"2\" ry=\"2\" style=\"stroke: #383838; stroke-width: 1.0;\"/><ellipse cx=\"154.2928\" cy=\"188.0076\" fill=\"#383838\" rx=\"2\" ry=\"2\" style=\"stroke: #383838; stroke-width: 1.0;\"/></a><!--MD5=[f71946db9a7cd5d76a3ebbc2c0b649f3]\n",
       "@startuml\r\n",
       "skinparam monochrome true\r\n",
       "skinparam classbackgroundcolor white\r\n",
       "skinparam shadowing false\r\n",
       "skinparam wrapWidth 300\r\n",
       "hide circle\r\n",
       "\r\n",
       "package \"QualifiedNameImportTest\" as E1  [[psysml:a2205de8-88da-4a82-9d0c-530bb72328d3 ]]  {\r\n",
       "package \"P1\" as E2  [[psysml:e0b1ca8b-31cf-4033-8a32-a89f430be7de ]]  {\r\n",
       "comp def \"A\" as E3  <<(T,blue) part  def>> [[psysml:b95e347b-a360-4ede-8f45-88f4f6a9f0a4 ]] {\r\n",
       "}\r\n",
       "}\r\n",
       "package \"P2\" as E4  [[psysml:9d5af9ae-79ba-44ae-999f-9385e3e881ff ]]  {\r\n",
       "package \"P2a\" as E5  [[psysml:b9f88b2a-f312-44cc-a9e4-c89396ff9243 ]]  {\r\n",
       "}\r\n",
       "comp usage \"x: A \" as E6  <<(T,blue) part>> [[psysml:8ace276a-6fab-4d9f-9bdd-b9a7961474a1 ]] {\r\n",
       "}\r\n",
       "}\r\n",
       "}\r\n",
       "E6 - -:|> E3 [[psysml:3b068d74-51f4-4206-8ca3-dd0a14e18b44 ]] \r\n",
       "@enduml\r\n",
       "\n",
       "PlantUML version 1.2020.13(Sat Jun 13 12:26:38 UTC 2020)\n",
       "(EPL source distribution)\n",
       "Java Runtime: OpenJDK Runtime Environment\n",
       "JVM: OpenJDK 64-Bit Server VM\n",
       "Default Encoding: UTF-8\n",
       "Language: en\n",
       "Country: null\n",
       "--></g></svg>"
      ]
     },
     "execution_count": 38,
     "metadata": {},
     "output_type": "execute_result"
    }
   ],
   "source": [
    "%viz --style=\"DEFAULT\" --view=\"Tree\" \"QualifiedNameImportTest\""
   ]
  },
  {
   "cell_type": "code",
   "execution_count": 39,
   "id": "c1803c5a",
   "metadata": {
    "execution": {
     "iopub.execute_input": "2021-10-25T08:23:45.776884Z",
     "iopub.status.busy": "2021-10-25T08:23:45.776435Z",
     "iopub.status.idle": "2021-10-25T08:23:45.781437Z",
     "shell.execute_reply": "2021-10-25T08:23:45.781065Z"
    }
   },
   "outputs": [
    {
     "data": {
      "image/svg+xml": [
       "<?xml version=\"1.0\" encoding=\"UTF-8\" standalone=\"no\"?><svg xmlns=\"http://www.w3.org/2000/svg\" xmlns:xlink=\"http://www.w3.org/1999/xlink\" contentScriptType=\"application/ecmascript\" contentStyleType=\"text/css\" height=\"12px\" preserveAspectRatio=\"none\" style=\"width:12px;height:12px;\" version=\"1.1\" viewBox=\"0 0 12 12\" width=\"12px\" zoomAndPan=\"magnify\"><defs/><g><!--MD5=[c5f280e076d0d61ccf4b0f27871bda1d]\n",
       "@startuml\r\n",
       "skinparam monochrome true\r\n",
       "skinparam classbackgroundcolor white\r\n",
       "skinparam shadowing false\r\n",
       "skinparam wrapWidth 300\r\n",
       "hide circle\r\n",
       "\r\n",
       "@enduml\r\n",
       "\n",
       "PlantUML version 1.2020.13(Sat Jun 13 12:26:38 UTC 2020)\n",
       "(EPL source distribution)\n",
       "Java Runtime: OpenJDK Runtime Environment\n",
       "JVM: OpenJDK 64-Bit Server VM\n",
       "Default Encoding: UTF-8\n",
       "Language: en\n",
       "Country: null\n",
       "--></g></svg>"
      ]
     },
     "execution_count": 39,
     "metadata": {},
     "output_type": "execute_result"
    }
   ],
   "source": [
    "%viz --style=\"DEFAULT\" --view=\"State\" \"QualifiedNameImportTest\""
   ]
  },
  {
   "cell_type": "code",
   "execution_count": 40,
   "id": "aaecf72d",
   "metadata": {
    "execution": {
     "iopub.execute_input": "2021-10-25T08:23:45.831328Z",
     "iopub.status.busy": "2021-10-25T08:23:45.830884Z",
     "iopub.status.idle": "2021-10-25T08:23:45.855957Z",
     "shell.execute_reply": "2021-10-25T08:23:45.855584Z"
    }
   },
   "outputs": [
    {
     "data": {
      "image/svg+xml": [
       "<?xml version=\"1.0\" encoding=\"UTF-8\" standalone=\"no\"?><svg xmlns=\"http://www.w3.org/2000/svg\" xmlns:xlink=\"http://www.w3.org/1999/xlink\" contentScriptType=\"application/ecmascript\" contentStyleType=\"text/css\" height=\"189px\" preserveAspectRatio=\"none\" style=\"width:379px;height:189px;\" version=\"1.1\" viewBox=\"0 0 379 189\" width=\"379px\" zoomAndPan=\"magnify\"><defs/><g><!--MD5=[fbc87193dbaf4d95561dea2c320d4a47]\n",
       "cluster E1--><a href=\"psysml:a2205de8-88da-4a82-9d0c-530bb72328d3\" target=\"_top\" title=\"psysml:a2205de8-88da-4a82-9d0c-530bb72328d3\" xlink:actuate=\"onRequest\" xlink:href=\"psysml:a2205de8-88da-4a82-9d0c-530bb72328d3\" xlink:show=\"new\" xlink:title=\"psysml:a2205de8-88da-4a82-9d0c-530bb72328d3\" xlink:type=\"simple\"><polygon fill=\"#FFFFFF\" points=\"16,6,196,6,203,28.2969,357,28.2969,357,177,16,177,16,6\" style=\"stroke: #000000; stroke-width: 1.5;\"/><line style=\"stroke: #000000; stroke-width: 1.5;\" x1=\"16\" x2=\"203\" y1=\"28.2969\" y2=\"28.2969\"/><text fill=\"#000000\" font-family=\"sans-serif\" font-size=\"14\" font-weight=\"bold\" lengthAdjust=\"spacingAndGlyphs\" textLength=\"174\" x=\"20\" y=\"20.9951\">QualifiedNameImportTest</text></a><!--MD5=[e4f7fae6ed58524ba242bb0b0d3be6b7]\n",
       "cluster E2--><a href=\"psysml:e0b1ca8b-31cf-4033-8a32-a89f430be7de\" target=\"_top\" title=\"psysml:e0b1ca8b-31cf-4033-8a32-a89f430be7de\" xlink:actuate=\"onRequest\" xlink:href=\"psysml:e0b1ca8b-31cf-4033-8a32-a89f430be7de\" xlink:show=\"new\" xlink:title=\"psysml:e0b1ca8b-31cf-4033-8a32-a89f430be7de\" xlink:type=\"simple\"><polygon fill=\"#FFFFFF\" points=\"227,54,251,54,258,76.2969,333,76.2969,333,148,227,148,227,54\" style=\"stroke: #000000; stroke-width: 1.5;\"/><line style=\"stroke: #000000; stroke-width: 1.5;\" x1=\"227\" x2=\"258\" y1=\"76.2969\" y2=\"76.2969\"/><text fill=\"#000000\" font-family=\"sans-serif\" font-size=\"14\" font-weight=\"bold\" lengthAdjust=\"spacingAndGlyphs\" textLength=\"18\" x=\"231\" y=\"68.9951\">P1</text></a><!--MD5=[f6df4d0ebaf0b5dfb2ced0ae5af7c670]\n",
       "cluster E4--><a href=\"psysml:9d5af9ae-79ba-44ae-999f-9385e3e881ff\" target=\"_top\" title=\"psysml:9d5af9ae-79ba-44ae-999f-9385e3e881ff\" xlink:actuate=\"onRequest\" xlink:href=\"psysml:9d5af9ae-79ba-44ae-999f-9385e3e881ff\" xlink:show=\"new\" xlink:title=\"psysml:9d5af9ae-79ba-44ae-999f-9385e3e881ff\" xlink:type=\"simple\"><polygon fill=\"#FFFFFF\" points=\"40,49,64,49,71,71.2969,203,71.2969,203,153,40,153,40,49\" style=\"stroke: #000000; stroke-width: 1.5;\"/><line style=\"stroke: #000000; stroke-width: 1.5;\" x1=\"40\" x2=\"71\" y1=\"71.2969\" y2=\"71.2969\"/><text fill=\"#000000\" font-family=\"sans-serif\" font-size=\"14\" font-weight=\"bold\" lengthAdjust=\"spacingAndGlyphs\" textLength=\"18\" x=\"44\" y=\"63.9951\">P2</text></a><g id=\"E1.E2.E3\"><a href=\"psysml:b95e347b-a360-4ede-8f45-88f4f6a9f0a4\" target=\"_top\" title=\"psysml:b95e347b-a360-4ede-8f45-88f4f6a9f0a4\" xlink:actuate=\"onRequest\" xlink:href=\"psysml:b95e347b-a360-4ede-8f45-88f4f6a9f0a4\" xlink:show=\"new\" xlink:title=\"psysml:b95e347b-a360-4ede-8f45-88f4f6a9f0a4\" xlink:type=\"simple\"><rect fill=\"#FFFFFF\" height=\"42.9375\" id=\"E3\" style=\"stroke: #383838; stroke-width: 1.5;\" width=\"75\" x=\"242.5\" y=\"89\"/><rect fill=\"#F8F8F8\" height=\"37.9375\" style=\"stroke: #383838; stroke-width: 1.5;\" width=\"75\" x=\"242.5\" y=\"89\"/><text fill=\"#000000\" font-family=\"sans-serif\" font-size=\"12\" font-style=\"italic\" lengthAdjust=\"spacingAndGlyphs\" textLength=\"68\" x=\"246\" y=\"105.1387\">«part  def»</text><text fill=\"#000000\" font-family=\"sans-serif\" font-size=\"12\" lengthAdjust=\"spacingAndGlyphs\" textLength=\"8\" x=\"276\" y=\"119.1074\">A</text></a></g><a href=\"psysml:b9f88b2a-f312-44cc-a9e4-c89396ff9243\" target=\"_top\" title=\"psysml:b9f88b2a-f312-44cc-a9e4-c89396ff9243\" xlink:actuate=\"onRequest\" xlink:href=\"psysml:b9f88b2a-f312-44cc-a9e4-c89396ff9243\" xlink:show=\"new\" xlink:title=\"psysml:b9f88b2a-f312-44cc-a9e4-c89396ff9243\" xlink:type=\"simple\"><polygon fill=\"#FFFFFF\" points=\"141,84,173,84,180,106.2969,187,106.2969,187,136.5938,141,136.5938,141,84\" style=\"stroke: #000000; stroke-width: 1.5;\"/><line style=\"stroke: #000000; stroke-width: 1.5;\" x1=\"141\" x2=\"180\" y1=\"106.2969\" y2=\"106.2969\"/><text fill=\"#000000\" font-family=\"sans-serif\" font-size=\"14\" font-weight=\"bold\" lengthAdjust=\"spacingAndGlyphs\" textLength=\"26\" x=\"145\" y=\"98.9951\">P2a</text></a><g id=\"E1.E4.E6\"><a href=\"psysml:8ace276a-6fab-4d9f-9bdd-b9a7961474a1\" target=\"_top\" title=\"psysml:8ace276a-6fab-4d9f-9bdd-b9a7961474a1\" xlink:actuate=\"onRequest\" xlink:href=\"psysml:8ace276a-6fab-4d9f-9bdd-b9a7961474a1\" xlink:show=\"new\" xlink:title=\"psysml:8ace276a-6fab-4d9f-9bdd-b9a7961474a1\" xlink:type=\"simple\"><rect fill=\"#FFFFFF\" height=\"40\" id=\"E6\" rx=\"10\" ry=\"10\" style=\"stroke: #383838; stroke-width: 1.5;\" width=\"50\" x=\"56\" y=\"90.5\"/><rect fill=\"#F8F8F8\" height=\"23.9688\" rx=\"10\" ry=\"10\" style=\"stroke: #F8F8F8; stroke-width: 1.5;\" width=\"50\" x=\"56\" y=\"90.5\"/><rect fill=\"#F8F8F8\" height=\"10\" style=\"stroke: #F8F8F8; stroke-width: 1.5;\" width=\"50\" x=\"56\" y=\"104.4688\"/><rect fill=\"none\" height=\"40\" id=\"E6\" rx=\"10\" ry=\"10\" style=\"stroke: #383838; stroke-width: 1.5;\" width=\"50\" x=\"56\" y=\"90.5\"/><text fill=\"#000000\" font-family=\"sans-serif\" font-size=\"12\" lengthAdjust=\"spacingAndGlyphs\" textLength=\"22\" x=\"70\" y=\"106.6387\">x: A</text></a></g><!--MD5=[f3049c219cb1828b543f11c237f8f08b]\n",
       "@startuml\r\n",
       "skinparam ranksep 10\r\n",
       "skinparam rectangle {\r\n",
       " backgroundColor<<block>> LightGreen\r\n",
       "}\r\n",
       "skinparam monochrome true\r\n",
       "skinparam classbackgroundcolor white\r\n",
       "skinparam shadowing false\r\n",
       "skinparam wrapWidth 300\r\n",
       "hide circle\r\n",
       "\r\n",
       "package \"QualifiedNameImportTest\" as E1  [[psysml:a2205de8-88da-4a82-9d0c-530bb72328d3 ]]  {\r\n",
       "package \"P1\" as E2  [[psysml:e0b1ca8b-31cf-4033-8a32-a89f430be7de ]]  {\r\n",
       "rec def \"A\" as E3  <<(T,blue) part  def>> [[psysml:b95e347b-a360-4ede-8f45-88f4f6a9f0a4 ]] {\r\n",
       "}\r\n",
       "}\r\n",
       "package \"P2\" as E4  [[psysml:9d5af9ae-79ba-44ae-999f-9385e3e881ff ]]  {\r\n",
       "package \"P2a\" as E5  [[psysml:b9f88b2a-f312-44cc-a9e4-c89396ff9243 ]]  {\r\n",
       "}\r\n",
       "rec usage \"x: A\" as E6  [[psysml:8ace276a-6fab-4d9f-9bdd-b9a7961474a1 ]] {\r\n",
       "}\r\n",
       "}\r\n",
       "}\r\n",
       "@enduml\r\n",
       "\n",
       "PlantUML version 1.2020.13(Sat Jun 13 12:26:38 UTC 2020)\n",
       "(EPL source distribution)\n",
       "Java Runtime: OpenJDK Runtime Environment\n",
       "JVM: OpenJDK 64-Bit Server VM\n",
       "Default Encoding: UTF-8\n",
       "Language: en\n",
       "Country: null\n",
       "--></g></svg>"
      ]
     },
     "execution_count": 40,
     "metadata": {},
     "output_type": "execute_result"
    }
   ],
   "source": [
    "%viz --style=\"DEFAULT\" --view=\"Interconnection\" \"QualifiedNameImportTest\""
   ]
  },
  {
   "cell_type": "code",
   "execution_count": 41,
   "id": "ea1656c2",
   "metadata": {
    "execution": {
     "iopub.execute_input": "2021-10-25T08:23:45.905294Z",
     "iopub.status.busy": "2021-10-25T08:23:45.904873Z",
     "iopub.status.idle": "2021-10-25T08:23:45.910848Z",
     "shell.execute_reply": "2021-10-25T08:23:45.910503Z"
    }
   },
   "outputs": [
    {
     "data": {
      "image/svg+xml": [
       "<?xml version=\"1.0\" encoding=\"UTF-8\" standalone=\"no\"?><svg xmlns=\"http://www.w3.org/2000/svg\" xmlns:xlink=\"http://www.w3.org/1999/xlink\" contentScriptType=\"application/ecmascript\" contentStyleType=\"text/css\" height=\"12px\" preserveAspectRatio=\"none\" style=\"width:12px;height:12px;\" version=\"1.1\" viewBox=\"0 0 12 12\" width=\"12px\" zoomAndPan=\"magnify\"><defs/><g><!--MD5=[388f21188e31bfdd97050473b19af356]\n",
       "@startuml\r\n",
       "skinparam ranksep 8\r\n",
       "skinparam monochrome true\r\n",
       "skinparam classbackgroundcolor white\r\n",
       "skinparam shadowing false\r\n",
       "skinparam wrapWidth 300\r\n",
       "hide circle\r\n",
       "\r\n",
       "@enduml\r\n",
       "\n",
       "PlantUML version 1.2020.13(Sat Jun 13 12:26:38 UTC 2020)\n",
       "(EPL source distribution)\n",
       "Java Runtime: OpenJDK Runtime Environment\n",
       "JVM: OpenJDK 64-Bit Server VM\n",
       "Default Encoding: UTF-8\n",
       "Language: en\n",
       "Country: null\n",
       "--></g></svg>"
      ]
     },
     "execution_count": 41,
     "metadata": {},
     "output_type": "execute_result"
    }
   ],
   "source": [
    "%viz --style=\"DEFAULT\" --view=\"Action\" \"QualifiedNameImportTest\""
   ]
  },
  {
   "cell_type": "code",
   "execution_count": 42,
   "id": "157caaff",
   "metadata": {
    "execution": {
     "iopub.execute_input": "2021-10-25T08:23:45.960209Z",
     "iopub.status.busy": "2021-10-25T08:23:45.959789Z",
     "iopub.status.idle": "2021-10-25T08:23:45.965158Z",
     "shell.execute_reply": "2021-10-25T08:23:45.965493Z"
    }
   },
   "outputs": [
    {
     "data": {
      "image/svg+xml": [
       "<?xml version=\"1.0\" encoding=\"UTF-8\" standalone=\"no\"?><svg xmlns=\"http://www.w3.org/2000/svg\" xmlns:xlink=\"http://www.w3.org/1999/xlink\" contentScriptType=\"application/ecmascript\" contentStyleType=\"text/css\" height=\"12px\" preserveAspectRatio=\"none\" style=\"width:12px;height:12px;\" version=\"1.1\" viewBox=\"0 0 12 12\" width=\"12px\" zoomAndPan=\"magnify\"><defs/><g><!--MD5=[0b72472770326784bf6c2b53246e1e64]\n",
       "@startuml\r\n",
       "skinparam roundcorner 20\r\n",
       "skinparam BoxPadding 20\r\n",
       "skinparam SequenceBoxBackgroundColor #white\r\n",
       "skinparam style strictuml\r\n",
       "skinparam maxMessageSize 100\r\n",
       "skinparam monochrome true\r\n",
       "skinparam classbackgroundcolor white\r\n",
       "skinparam shadowing false\r\n",
       "skinparam wrapWidth 300\r\n",
       "hide circle\r\n",
       "\r\n",
       "@enduml\r\n",
       "\n",
       "PlantUML version 1.2020.13(Sat Jun 13 12:26:38 UTC 2020)\n",
       "(EPL source distribution)\n",
       "Java Runtime: OpenJDK Runtime Environment\n",
       "JVM: OpenJDK 64-Bit Server VM\n",
       "Default Encoding: UTF-8\n",
       "Language: en\n",
       "Country: null\n",
       "--></g></svg>"
      ]
     },
     "execution_count": 42,
     "metadata": {},
     "output_type": "execute_result"
    }
   ],
   "source": [
    "%viz --style=\"DEFAULT\" --view=\"Sequence\" \"QualifiedNameImportTest\""
   ]
  },
  {
   "cell_type": "code",
   "execution_count": 43,
   "id": "4b400cee",
   "metadata": {
    "execution": {
     "iopub.execute_input": "2021-10-25T08:23:46.015293Z",
     "iopub.status.busy": "2021-10-25T08:23:46.014873Z",
     "iopub.status.idle": "2021-10-25T08:23:46.047264Z",
     "shell.execute_reply": "2021-10-25T08:23:46.045170Z"
    }
   },
   "outputs": [
    {
     "data": {
      "image/svg+xml": [
       "<?xml version=\"1.0\" encoding=\"UTF-8\" standalone=\"no\"?><svg xmlns=\"http://www.w3.org/2000/svg\" xmlns:xlink=\"http://www.w3.org/1999/xlink\" contentScriptType=\"application/ecmascript\" contentStyleType=\"text/css\" height=\"310px\" preserveAspectRatio=\"none\" style=\"width:241px;height:310px;\" version=\"1.1\" viewBox=\"0 0 241 310\" width=\"241px\" zoomAndPan=\"magnify\"><defs/><g><!--MD5=[fbc87193dbaf4d95561dea2c320d4a47]\n",
       "cluster E1--><a href=\"psysml:a2205de8-88da-4a82-9d0c-530bb72328d3\" target=\"_top\" title=\"psysml:a2205de8-88da-4a82-9d0c-530bb72328d3\" xlink:actuate=\"onRequest\" xlink:href=\"psysml:a2205de8-88da-4a82-9d0c-530bb72328d3\" xlink:show=\"new\" xlink:title=\"psysml:a2205de8-88da-4a82-9d0c-530bb72328d3\" xlink:type=\"simple\"><polygon fill=\"#FFFFFF\" points=\"16,6,196,6,203,28.2969,219,28.2969,219,298,16,298,16,6\" style=\"stroke: #000000; stroke-width: 1.5;\"/><line style=\"stroke: #000000; stroke-width: 1.5;\" x1=\"16\" x2=\"203\" y1=\"28.2969\" y2=\"28.2969\"/><text fill=\"#000000\" font-family=\"sans-serif\" font-size=\"14\" font-weight=\"bold\" lengthAdjust=\"spacingAndGlyphs\" textLength=\"174\" x=\"20\" y=\"20.9951\">QualifiedNameImportTest</text></a><!--MD5=[e4f7fae6ed58524ba242bb0b0d3be6b7]\n",
       "cluster E2--><a href=\"psysml:e0b1ca8b-31cf-4033-8a32-a89f430be7de\" target=\"_top\" title=\"psysml:e0b1ca8b-31cf-4033-8a32-a89f430be7de\" xlink:actuate=\"onRequest\" xlink:href=\"psysml:e0b1ca8b-31cf-4033-8a32-a89f430be7de\" xlink:show=\"new\" xlink:title=\"psysml:e0b1ca8b-31cf-4033-8a32-a89f430be7de\" xlink:type=\"simple\"><polygon fill=\"#FFFFFF\" points=\"93,177,117,177,124,199.2969,195,199.2969,195,274,93,274,93,177\" style=\"stroke: #000000; stroke-width: 1.5;\"/><line style=\"stroke: #000000; stroke-width: 1.5;\" x1=\"93\" x2=\"124\" y1=\"199.2969\" y2=\"199.2969\"/><text fill=\"#000000\" font-family=\"sans-serif\" font-size=\"14\" font-weight=\"bold\" lengthAdjust=\"spacingAndGlyphs\" textLength=\"18\" x=\"97\" y=\"191.9951\">P1</text></a><!--MD5=[f6df4d0ebaf0b5dfb2ced0ae5af7c670]\n",
       "cluster E4--><a href=\"psysml:9d5af9ae-79ba-44ae-999f-9385e3e881ff\" target=\"_top\" title=\"psysml:9d5af9ae-79ba-44ae-999f-9385e3e881ff\" xlink:actuate=\"onRequest\" xlink:href=\"psysml:9d5af9ae-79ba-44ae-999f-9385e3e881ff\" xlink:show=\"new\" xlink:title=\"psysml:9d5af9ae-79ba-44ae-999f-9385e3e881ff\" xlink:type=\"simple\"><polygon fill=\"#FFFFFF\" points=\"40,49,64,49,71,71.2969,195,71.2969,195,153,40,153,40,49\" style=\"stroke: #000000; stroke-width: 1.5;\"/><line style=\"stroke: #000000; stroke-width: 1.5;\" x1=\"40\" x2=\"71\" y1=\"71.2969\" y2=\"71.2969\"/><text fill=\"#000000\" font-family=\"sans-serif\" font-size=\"14\" font-weight=\"bold\" lengthAdjust=\"spacingAndGlyphs\" textLength=\"18\" x=\"44\" y=\"63.9951\">P2</text></a><!--MD5=[09b614a08d8cba4a07c9adeb5e0fee81]\n",
       "class E3--><a href=\"psysml:b95e347b-a360-4ede-8f45-88f4f6a9f0a4\" target=\"_top\" title=\"psysml:b95e347b-a360-4ede-8f45-88f4f6a9f0a4\" xlink:actuate=\"onRequest\" xlink:href=\"psysml:b95e347b-a360-4ede-8f45-88f4f6a9f0a4\" xlink:show=\"new\" xlink:title=\"psysml:b95e347b-a360-4ede-8f45-88f4f6a9f0a4\" xlink:type=\"simple\"><rect fill=\"#FFFFFF\" height=\"45.9375\" id=\"E3\" style=\"stroke: #383838; stroke-width: 1.5;\" width=\"70\" x=\"109\" y=\"212\"/><text fill=\"#000000\" font-family=\"sans-serif\" font-size=\"12\" font-style=\"italic\" lengthAdjust=\"spacingAndGlyphs\" textLength=\"68\" x=\"110\" y=\"228.1387\">«part  def»</text><text fill=\"#000000\" font-family=\"sans-serif\" font-size=\"12\" lengthAdjust=\"spacingAndGlyphs\" textLength=\"8\" x=\"140\" y=\"242.1074\">A</text><line style=\"stroke: #383838; stroke-width: 1.5;\" x1=\"110\" x2=\"178\" y1=\"249.9375\" y2=\"249.9375\"/></a><!--MD5=[60a26617385b1d2d0262a64233df1f8d]\n",
       "class E6--><a href=\"psysml:8ace276a-6fab-4d9f-9bdd-b9a7961474a1\" target=\"_top\" title=\"psysml:8ace276a-6fab-4d9f-9bdd-b9a7961474a1\" xlink:actuate=\"onRequest\" xlink:href=\"psysml:8ace276a-6fab-4d9f-9bdd-b9a7961474a1\" xlink:show=\"new\" xlink:title=\"psysml:8ace276a-6fab-4d9f-9bdd-b9a7961474a1\" xlink:type=\"simple\"><rect fill=\"#FFFFFF\" height=\"45.9375\" id=\"E6\" rx=\"10\" ry=\"10\" style=\"stroke: #383838; stroke-width: 1.5;\" width=\"42\" x=\"137\" y=\"87.5\"/><text fill=\"#000000\" font-family=\"sans-serif\" font-size=\"12\" font-style=\"italic\" lengthAdjust=\"spacingAndGlyphs\" textLength=\"40\" x=\"138\" y=\"103.6387\">«part»</text><text fill=\"#000000\" font-family=\"sans-serif\" font-size=\"12\" lengthAdjust=\"spacingAndGlyphs\" textLength=\"22\" x=\"145\" y=\"117.6074\">x: A</text><line style=\"stroke: #383838; stroke-width: 1.5;\" x1=\"138\" x2=\"178\" y1=\"125.4375\" y2=\"125.4375\"/></a><a href=\"psysml:b9f88b2a-f312-44cc-a9e4-c89396ff9243\" target=\"_top\" title=\"psysml:b9f88b2a-f312-44cc-a9e4-c89396ff9243\" xlink:actuate=\"onRequest\" xlink:href=\"psysml:b9f88b2a-f312-44cc-a9e4-c89396ff9243\" xlink:show=\"new\" xlink:title=\"psysml:b9f88b2a-f312-44cc-a9e4-c89396ff9243\" xlink:type=\"simple\"><polygon fill=\"#FFFFFF\" points=\"56,84,88,84,95,106.2969,102,106.2969,102,136.5938,56,136.5938,56,84\" style=\"stroke: #000000; stroke-width: 1.5;\"/><line style=\"stroke: #000000; stroke-width: 1.5;\" x1=\"56\" x2=\"95\" y1=\"106.2969\" y2=\"106.2969\"/><text fill=\"#000000\" font-family=\"sans-serif\" font-size=\"14\" font-weight=\"bold\" lengthAdjust=\"spacingAndGlyphs\" textLength=\"26\" x=\"60\" y=\"98.9951\">P2a</text></a><!--MD5=[a717450b82c80b9240a525fa862496af]\n",
       "link E6 to E3--><a href=\"psysml:3b068d74-51f4-4206-8ca3-dd0a14e18b44\" target=\"_top\" title=\"psysml:3b068d74-51f4-4206-8ca3-dd0a14e18b44\" xlink:actuate=\"onRequest\" xlink:href=\"psysml:3b068d74-51f4-4206-8ca3-dd0a14e18b44\" xlink:show=\"new\" xlink:title=\"psysml:3b068d74-51f4-4206-8ca3-dd0a14e18b44\" xlink:type=\"simple\"><path d=\"M155.46,133.68 C153.61,149.9 151.04,172.39 148.8,191.96 \" fill=\"none\" id=\"E6-&gt;E3\" style=\"stroke: #383838; stroke-width: 1.0;\"/><polygon fill=\"#FFFFFF\" points=\"146.52,211.98,141.7231,192.308,155.6325,193.8979,146.52,211.98\" style=\"stroke: #383838; stroke-width: 1.0;\"/><ellipse cx=\"144.3574\" cy=\"186.872\" fill=\"#383838\" rx=\"2\" ry=\"2\" style=\"stroke: #383838; stroke-width: 1.0;\"/><ellipse cx=\"154.2928\" cy=\"188.0076\" fill=\"#383838\" rx=\"2\" ry=\"2\" style=\"stroke: #383838; stroke-width: 1.0;\"/></a><!--MD5=[f71946db9a7cd5d76a3ebbc2c0b649f3]\n",
       "@startuml\r\n",
       "skinparam monochrome true\r\n",
       "skinparam classbackgroundcolor white\r\n",
       "skinparam shadowing false\r\n",
       "skinparam wrapWidth 300\r\n",
       "hide circle\r\n",
       "\r\n",
       "package \"QualifiedNameImportTest\" as E1  [[psysml:a2205de8-88da-4a82-9d0c-530bb72328d3 ]]  {\r\n",
       "package \"P1\" as E2  [[psysml:e0b1ca8b-31cf-4033-8a32-a89f430be7de ]]  {\r\n",
       "comp def \"A\" as E3  <<(T,blue) part  def>> [[psysml:b95e347b-a360-4ede-8f45-88f4f6a9f0a4 ]] {\r\n",
       "}\r\n",
       "}\r\n",
       "package \"P2\" as E4  [[psysml:9d5af9ae-79ba-44ae-999f-9385e3e881ff ]]  {\r\n",
       "package \"P2a\" as E5  [[psysml:b9f88b2a-f312-44cc-a9e4-c89396ff9243 ]]  {\r\n",
       "}\r\n",
       "comp usage \"x: A \" as E6  <<(T,blue) part>> [[psysml:8ace276a-6fab-4d9f-9bdd-b9a7961474a1 ]] {\r\n",
       "}\r\n",
       "}\r\n",
       "}\r\n",
       "E6 - -:|> E3 [[psysml:3b068d74-51f4-4206-8ca3-dd0a14e18b44 ]] \r\n",
       "@enduml\r\n",
       "\n",
       "PlantUML version 1.2020.13(Sat Jun 13 12:26:38 UTC 2020)\n",
       "(EPL source distribution)\n",
       "Java Runtime: OpenJDK Runtime Environment\n",
       "JVM: OpenJDK 64-Bit Server VM\n",
       "Default Encoding: UTF-8\n",
       "Language: en\n",
       "Country: null\n",
       "--></g></svg>"
      ]
     },
     "execution_count": 43,
     "metadata": {},
     "output_type": "execute_result"
    }
   ],
   "source": [
    "%viz --style=\"DEFAULT\" --view=\"MIXED\" \"QualifiedNameImportTest\""
   ]
  },
  {
   "cell_type": "code",
   "execution_count": 44,
   "id": "eb681089",
   "metadata": {
    "execution": {
     "iopub.execute_input": "2021-10-25T08:23:46.096404Z",
     "iopub.status.busy": "2021-10-25T08:23:46.095861Z",
     "iopub.status.idle": "2021-10-25T08:23:46.124121Z",
     "shell.execute_reply": "2021-10-25T08:23:46.122327Z"
    }
   },
   "outputs": [
    {
     "data": {
      "image/svg+xml": [
       "<?xml version=\"1.0\" encoding=\"UTF-8\" standalone=\"no\"?><svg xmlns=\"http://www.w3.org/2000/svg\" xmlns:xlink=\"http://www.w3.org/1999/xlink\" contentScriptType=\"application/ecmascript\" contentStyleType=\"text/css\" height=\"310px\" preserveAspectRatio=\"none\" style=\"width:241px;height:310px;\" version=\"1.1\" viewBox=\"0 0 241 310\" width=\"241px\" zoomAndPan=\"magnify\"><defs/><g><!--MD5=[fbc87193dbaf4d95561dea2c320d4a47]\n",
       "cluster E1--><a href=\"psysml:a2205de8-88da-4a82-9d0c-530bb72328d3\" target=\"_top\" title=\"psysml:a2205de8-88da-4a82-9d0c-530bb72328d3\" xlink:actuate=\"onRequest\" xlink:href=\"psysml:a2205de8-88da-4a82-9d0c-530bb72328d3\" xlink:show=\"new\" xlink:title=\"psysml:a2205de8-88da-4a82-9d0c-530bb72328d3\" xlink:type=\"simple\"><polygon fill=\"#FFFFFF\" points=\"16,6,196,6,203,28.2969,219,28.2969,219,298,16,298,16,6\" style=\"stroke: #000000; stroke-width: 1.5;\"/><line style=\"stroke: #000000; stroke-width: 1.5;\" x1=\"16\" x2=\"203\" y1=\"28.2969\" y2=\"28.2969\"/><text fill=\"#000000\" font-family=\"sans-serif\" font-size=\"14\" font-weight=\"bold\" lengthAdjust=\"spacingAndGlyphs\" textLength=\"174\" x=\"20\" y=\"20.9951\">QualifiedNameImportTest</text></a><!--MD5=[e4f7fae6ed58524ba242bb0b0d3be6b7]\n",
       "cluster E2--><a href=\"psysml:e0b1ca8b-31cf-4033-8a32-a89f430be7de\" target=\"_top\" title=\"psysml:e0b1ca8b-31cf-4033-8a32-a89f430be7de\" xlink:actuate=\"onRequest\" xlink:href=\"psysml:e0b1ca8b-31cf-4033-8a32-a89f430be7de\" xlink:show=\"new\" xlink:title=\"psysml:e0b1ca8b-31cf-4033-8a32-a89f430be7de\" xlink:type=\"simple\"><polygon fill=\"#FFFFFF\" points=\"93,177,117,177,124,199.2969,195,199.2969,195,274,93,274,93,177\" style=\"stroke: #000000; stroke-width: 1.5;\"/><line style=\"stroke: #000000; stroke-width: 1.5;\" x1=\"93\" x2=\"124\" y1=\"199.2969\" y2=\"199.2969\"/><text fill=\"#000000\" font-family=\"sans-serif\" font-size=\"14\" font-weight=\"bold\" lengthAdjust=\"spacingAndGlyphs\" textLength=\"18\" x=\"97\" y=\"191.9951\">P1</text></a><!--MD5=[f6df4d0ebaf0b5dfb2ced0ae5af7c670]\n",
       "cluster E4--><a href=\"psysml:9d5af9ae-79ba-44ae-999f-9385e3e881ff\" target=\"_top\" title=\"psysml:9d5af9ae-79ba-44ae-999f-9385e3e881ff\" xlink:actuate=\"onRequest\" xlink:href=\"psysml:9d5af9ae-79ba-44ae-999f-9385e3e881ff\" xlink:show=\"new\" xlink:title=\"psysml:9d5af9ae-79ba-44ae-999f-9385e3e881ff\" xlink:type=\"simple\"><polygon fill=\"#FFFFFF\" points=\"40,49,64,49,71,71.2969,195,71.2969,195,153,40,153,40,49\" style=\"stroke: #000000; stroke-width: 1.5;\"/><line style=\"stroke: #000000; stroke-width: 1.5;\" x1=\"40\" x2=\"71\" y1=\"71.2969\" y2=\"71.2969\"/><text fill=\"#000000\" font-family=\"sans-serif\" font-size=\"14\" font-weight=\"bold\" lengthAdjust=\"spacingAndGlyphs\" textLength=\"18\" x=\"44\" y=\"63.9951\">P2</text></a><!--MD5=[09b614a08d8cba4a07c9adeb5e0fee81]\n",
       "class E3--><a href=\"psysml:b95e347b-a360-4ede-8f45-88f4f6a9f0a4\" target=\"_top\" title=\"psysml:b95e347b-a360-4ede-8f45-88f4f6a9f0a4\" xlink:actuate=\"onRequest\" xlink:href=\"psysml:b95e347b-a360-4ede-8f45-88f4f6a9f0a4\" xlink:show=\"new\" xlink:title=\"psysml:b95e347b-a360-4ede-8f45-88f4f6a9f0a4\" xlink:type=\"simple\"><rect fill=\"#FFFFFF\" height=\"45.9375\" id=\"E3\" style=\"stroke: #383838; stroke-width: 1.5;\" width=\"70\" x=\"109\" y=\"212\"/><text fill=\"#000000\" font-family=\"sans-serif\" font-size=\"12\" font-style=\"italic\" lengthAdjust=\"spacingAndGlyphs\" textLength=\"68\" x=\"110\" y=\"228.1387\">«part  def»</text><text fill=\"#000000\" font-family=\"sans-serif\" font-size=\"12\" lengthAdjust=\"spacingAndGlyphs\" textLength=\"8\" x=\"140\" y=\"242.1074\">A</text><line style=\"stroke: #383838; stroke-width: 1.5;\" x1=\"110\" x2=\"178\" y1=\"249.9375\" y2=\"249.9375\"/></a><!--MD5=[60a26617385b1d2d0262a64233df1f8d]\n",
       "class E6--><a href=\"psysml:8ace276a-6fab-4d9f-9bdd-b9a7961474a1\" target=\"_top\" title=\"psysml:8ace276a-6fab-4d9f-9bdd-b9a7961474a1\" xlink:actuate=\"onRequest\" xlink:href=\"psysml:8ace276a-6fab-4d9f-9bdd-b9a7961474a1\" xlink:show=\"new\" xlink:title=\"psysml:8ace276a-6fab-4d9f-9bdd-b9a7961474a1\" xlink:type=\"simple\"><rect fill=\"#FFFFFF\" height=\"45.9375\" id=\"E6\" rx=\"10\" ry=\"10\" style=\"stroke: #383838; stroke-width: 1.5;\" width=\"42\" x=\"137\" y=\"87.5\"/><text fill=\"#000000\" font-family=\"sans-serif\" font-size=\"12\" font-style=\"italic\" lengthAdjust=\"spacingAndGlyphs\" textLength=\"40\" x=\"138\" y=\"103.6387\">«part»</text><text fill=\"#000000\" font-family=\"sans-serif\" font-size=\"12\" lengthAdjust=\"spacingAndGlyphs\" textLength=\"22\" x=\"145\" y=\"117.6074\">x: A</text><line style=\"stroke: #383838; stroke-width: 1.5;\" x1=\"138\" x2=\"178\" y1=\"125.4375\" y2=\"125.4375\"/></a><a href=\"psysml:b9f88b2a-f312-44cc-a9e4-c89396ff9243\" target=\"_top\" title=\"psysml:b9f88b2a-f312-44cc-a9e4-c89396ff9243\" xlink:actuate=\"onRequest\" xlink:href=\"psysml:b9f88b2a-f312-44cc-a9e4-c89396ff9243\" xlink:show=\"new\" xlink:title=\"psysml:b9f88b2a-f312-44cc-a9e4-c89396ff9243\" xlink:type=\"simple\"><polygon fill=\"#FFFFFF\" points=\"56,84,88,84,95,106.2969,102,106.2969,102,136.5938,56,136.5938,56,84\" style=\"stroke: #000000; stroke-width: 1.5;\"/><line style=\"stroke: #000000; stroke-width: 1.5;\" x1=\"56\" x2=\"95\" y1=\"106.2969\" y2=\"106.2969\"/><text fill=\"#000000\" font-family=\"sans-serif\" font-size=\"14\" font-weight=\"bold\" lengthAdjust=\"spacingAndGlyphs\" textLength=\"26\" x=\"60\" y=\"98.9951\">P2a</text></a><!--MD5=[a717450b82c80b9240a525fa862496af]\n",
       "link E6 to E3--><a href=\"psysml:3b068d74-51f4-4206-8ca3-dd0a14e18b44\" target=\"_top\" title=\"psysml:3b068d74-51f4-4206-8ca3-dd0a14e18b44\" xlink:actuate=\"onRequest\" xlink:href=\"psysml:3b068d74-51f4-4206-8ca3-dd0a14e18b44\" xlink:show=\"new\" xlink:title=\"psysml:3b068d74-51f4-4206-8ca3-dd0a14e18b44\" xlink:type=\"simple\"><path d=\"M155.46,133.68 C153.61,149.9 151.04,172.39 148.8,191.96 \" fill=\"none\" id=\"E6-&gt;E3\" style=\"stroke: #383838; stroke-width: 1.0;\"/><polygon fill=\"#FFFFFF\" points=\"146.52,211.98,141.7231,192.308,155.6325,193.8979,146.52,211.98\" style=\"stroke: #383838; stroke-width: 1.0;\"/><ellipse cx=\"144.3574\" cy=\"186.872\" fill=\"#383838\" rx=\"2\" ry=\"2\" style=\"stroke: #383838; stroke-width: 1.0;\"/><ellipse cx=\"154.2928\" cy=\"188.0076\" fill=\"#383838\" rx=\"2\" ry=\"2\" style=\"stroke: #383838; stroke-width: 1.0;\"/></a><!--MD5=[49f7dc170fcf18a09de8a6128e420e66]\n",
       "@startuml\r\n",
       "top to bottom direction\r\n",
       "skinparam monochrome true\r\n",
       "skinparam classbackgroundcolor white\r\n",
       "skinparam shadowing false\r\n",
       "skinparam wrapWidth 300\r\n",
       "hide circle\r\n",
       "\r\n",
       "package \"QualifiedNameImportTest\" as E1  [[psysml:a2205de8-88da-4a82-9d0c-530bb72328d3 ]]  {\r\n",
       "package \"P1\" as E2  [[psysml:e0b1ca8b-31cf-4033-8a32-a89f430be7de ]]  {\r\n",
       "comp def \"A\" as E3  <<(T,blue) part  def>> [[psysml:b95e347b-a360-4ede-8f45-88f4f6a9f0a4 ]] {\r\n",
       "}\r\n",
       "}\r\n",
       "package \"P2\" as E4  [[psysml:9d5af9ae-79ba-44ae-999f-9385e3e881ff ]]  {\r\n",
       "package \"P2a\" as E5  [[psysml:b9f88b2a-f312-44cc-a9e4-c89396ff9243 ]]  {\r\n",
       "}\r\n",
       "comp usage \"x: A \" as E6  <<(T,blue) part>> [[psysml:8ace276a-6fab-4d9f-9bdd-b9a7961474a1 ]] {\r\n",
       "}\r\n",
       "}\r\n",
       "}\r\n",
       "E6 - -:|> E3 [[psysml:3b068d74-51f4-4206-8ca3-dd0a14e18b44 ]] \r\n",
       "@enduml\r\n",
       "\n",
       "PlantUML version 1.2020.13(Sat Jun 13 12:26:38 UTC 2020)\n",
       "(EPL source distribution)\n",
       "Java Runtime: OpenJDK Runtime Environment\n",
       "JVM: OpenJDK 64-Bit Server VM\n",
       "Default Encoding: UTF-8\n",
       "Language: en\n",
       "Country: null\n",
       "--></g></svg>"
      ]
     },
     "execution_count": 44,
     "metadata": {},
     "output_type": "execute_result"
    }
   ],
   "source": [
    "%viz --style=\"TB\" --view=\"Default\" \"QualifiedNameImportTest\""
   ]
  },
  {
   "cell_type": "code",
   "execution_count": 45,
   "id": "65a9d5be",
   "metadata": {
    "execution": {
     "iopub.execute_input": "2021-10-25T08:23:46.173309Z",
     "iopub.status.busy": "2021-10-25T08:23:46.172867Z",
     "iopub.status.idle": "2021-10-25T08:23:46.193254Z",
     "shell.execute_reply": "2021-10-25T08:23:46.191357Z"
    }
   },
   "outputs": [
    {
     "data": {
      "image/svg+xml": [
       "<?xml version=\"1.0\" encoding=\"UTF-8\" standalone=\"no\"?><svg xmlns=\"http://www.w3.org/2000/svg\" xmlns:xlink=\"http://www.w3.org/1999/xlink\" contentScriptType=\"application/ecmascript\" contentStyleType=\"text/css\" height=\"310px\" preserveAspectRatio=\"none\" style=\"width:241px;height:310px;\" version=\"1.1\" viewBox=\"0 0 241 310\" width=\"241px\" zoomAndPan=\"magnify\"><defs/><g><!--MD5=[fbc87193dbaf4d95561dea2c320d4a47]\n",
       "cluster E1--><a href=\"psysml:a2205de8-88da-4a82-9d0c-530bb72328d3\" target=\"_top\" title=\"psysml:a2205de8-88da-4a82-9d0c-530bb72328d3\" xlink:actuate=\"onRequest\" xlink:href=\"psysml:a2205de8-88da-4a82-9d0c-530bb72328d3\" xlink:show=\"new\" xlink:title=\"psysml:a2205de8-88da-4a82-9d0c-530bb72328d3\" xlink:type=\"simple\"><polygon fill=\"#FFFFFF\" points=\"16,6,196,6,203,28.2969,219,28.2969,219,298,16,298,16,6\" style=\"stroke: #000000; stroke-width: 1.5;\"/><line style=\"stroke: #000000; stroke-width: 1.5;\" x1=\"16\" x2=\"203\" y1=\"28.2969\" y2=\"28.2969\"/><text fill=\"#000000\" font-family=\"sans-serif\" font-size=\"14\" font-weight=\"bold\" lengthAdjust=\"spacingAndGlyphs\" textLength=\"174\" x=\"20\" y=\"20.9951\">QualifiedNameImportTest</text></a><!--MD5=[e4f7fae6ed58524ba242bb0b0d3be6b7]\n",
       "cluster E2--><a href=\"psysml:e0b1ca8b-31cf-4033-8a32-a89f430be7de\" target=\"_top\" title=\"psysml:e0b1ca8b-31cf-4033-8a32-a89f430be7de\" xlink:actuate=\"onRequest\" xlink:href=\"psysml:e0b1ca8b-31cf-4033-8a32-a89f430be7de\" xlink:show=\"new\" xlink:title=\"psysml:e0b1ca8b-31cf-4033-8a32-a89f430be7de\" xlink:type=\"simple\"><polygon fill=\"#FFFFFF\" points=\"93,177,117,177,124,199.2969,195,199.2969,195,274,93,274,93,177\" style=\"stroke: #000000; stroke-width: 1.5;\"/><line style=\"stroke: #000000; stroke-width: 1.5;\" x1=\"93\" x2=\"124\" y1=\"199.2969\" y2=\"199.2969\"/><text fill=\"#000000\" font-family=\"sans-serif\" font-size=\"14\" font-weight=\"bold\" lengthAdjust=\"spacingAndGlyphs\" textLength=\"18\" x=\"97\" y=\"191.9951\">P1</text></a><!--MD5=[f6df4d0ebaf0b5dfb2ced0ae5af7c670]\n",
       "cluster E4--><a href=\"psysml:9d5af9ae-79ba-44ae-999f-9385e3e881ff\" target=\"_top\" title=\"psysml:9d5af9ae-79ba-44ae-999f-9385e3e881ff\" xlink:actuate=\"onRequest\" xlink:href=\"psysml:9d5af9ae-79ba-44ae-999f-9385e3e881ff\" xlink:show=\"new\" xlink:title=\"psysml:9d5af9ae-79ba-44ae-999f-9385e3e881ff\" xlink:type=\"simple\"><polygon fill=\"#FFFFFF\" points=\"40,49,64,49,71,71.2969,195,71.2969,195,153,40,153,40,49\" style=\"stroke: #000000; stroke-width: 1.5;\"/><line style=\"stroke: #000000; stroke-width: 1.5;\" x1=\"40\" x2=\"71\" y1=\"71.2969\" y2=\"71.2969\"/><text fill=\"#000000\" font-family=\"sans-serif\" font-size=\"14\" font-weight=\"bold\" lengthAdjust=\"spacingAndGlyphs\" textLength=\"18\" x=\"44\" y=\"63.9951\">P2</text></a><!--MD5=[09b614a08d8cba4a07c9adeb5e0fee81]\n",
       "class E3--><a href=\"psysml:b95e347b-a360-4ede-8f45-88f4f6a9f0a4\" target=\"_top\" title=\"psysml:b95e347b-a360-4ede-8f45-88f4f6a9f0a4\" xlink:actuate=\"onRequest\" xlink:href=\"psysml:b95e347b-a360-4ede-8f45-88f4f6a9f0a4\" xlink:show=\"new\" xlink:title=\"psysml:b95e347b-a360-4ede-8f45-88f4f6a9f0a4\" xlink:type=\"simple\"><rect fill=\"#FFFFFF\" height=\"45.9375\" id=\"E3\" style=\"stroke: #383838; stroke-width: 1.5;\" width=\"70\" x=\"109\" y=\"212\"/><text fill=\"#000000\" font-family=\"sans-serif\" font-size=\"12\" font-style=\"italic\" lengthAdjust=\"spacingAndGlyphs\" textLength=\"68\" x=\"110\" y=\"228.1387\">«part  def»</text><text fill=\"#000000\" font-family=\"sans-serif\" font-size=\"12\" lengthAdjust=\"spacingAndGlyphs\" textLength=\"8\" x=\"140\" y=\"242.1074\">A</text><line style=\"stroke: #383838; stroke-width: 1.5;\" x1=\"110\" x2=\"178\" y1=\"249.9375\" y2=\"249.9375\"/></a><!--MD5=[60a26617385b1d2d0262a64233df1f8d]\n",
       "class E6--><a href=\"psysml:8ace276a-6fab-4d9f-9bdd-b9a7961474a1\" target=\"_top\" title=\"psysml:8ace276a-6fab-4d9f-9bdd-b9a7961474a1\" xlink:actuate=\"onRequest\" xlink:href=\"psysml:8ace276a-6fab-4d9f-9bdd-b9a7961474a1\" xlink:show=\"new\" xlink:title=\"psysml:8ace276a-6fab-4d9f-9bdd-b9a7961474a1\" xlink:type=\"simple\"><rect fill=\"#FFFFFF\" height=\"45.9375\" id=\"E6\" rx=\"10\" ry=\"10\" style=\"stroke: #383838; stroke-width: 1.5;\" width=\"42\" x=\"137\" y=\"87.5\"/><text fill=\"#000000\" font-family=\"sans-serif\" font-size=\"12\" font-style=\"italic\" lengthAdjust=\"spacingAndGlyphs\" textLength=\"40\" x=\"138\" y=\"103.6387\">«part»</text><text fill=\"#000000\" font-family=\"sans-serif\" font-size=\"12\" lengthAdjust=\"spacingAndGlyphs\" textLength=\"22\" x=\"145\" y=\"117.6074\">x: A</text><line style=\"stroke: #383838; stroke-width: 1.5;\" x1=\"138\" x2=\"178\" y1=\"125.4375\" y2=\"125.4375\"/></a><a href=\"psysml:b9f88b2a-f312-44cc-a9e4-c89396ff9243\" target=\"_top\" title=\"psysml:b9f88b2a-f312-44cc-a9e4-c89396ff9243\" xlink:actuate=\"onRequest\" xlink:href=\"psysml:b9f88b2a-f312-44cc-a9e4-c89396ff9243\" xlink:show=\"new\" xlink:title=\"psysml:b9f88b2a-f312-44cc-a9e4-c89396ff9243\" xlink:type=\"simple\"><polygon fill=\"#FFFFFF\" points=\"56,84,88,84,95,106.2969,102,106.2969,102,136.5938,56,136.5938,56,84\" style=\"stroke: #000000; stroke-width: 1.5;\"/><line style=\"stroke: #000000; stroke-width: 1.5;\" x1=\"56\" x2=\"95\" y1=\"106.2969\" y2=\"106.2969\"/><text fill=\"#000000\" font-family=\"sans-serif\" font-size=\"14\" font-weight=\"bold\" lengthAdjust=\"spacingAndGlyphs\" textLength=\"26\" x=\"60\" y=\"98.9951\">P2a</text></a><!--MD5=[a717450b82c80b9240a525fa862496af]\n",
       "link E6 to E3--><a href=\"psysml:3b068d74-51f4-4206-8ca3-dd0a14e18b44\" target=\"_top\" title=\"psysml:3b068d74-51f4-4206-8ca3-dd0a14e18b44\" xlink:actuate=\"onRequest\" xlink:href=\"psysml:3b068d74-51f4-4206-8ca3-dd0a14e18b44\" xlink:show=\"new\" xlink:title=\"psysml:3b068d74-51f4-4206-8ca3-dd0a14e18b44\" xlink:type=\"simple\"><path d=\"M155.46,133.68 C153.61,149.9 151.04,172.39 148.8,191.96 \" fill=\"none\" id=\"E6-&gt;E3\" style=\"stroke: #383838; stroke-width: 1.0;\"/><polygon fill=\"#FFFFFF\" points=\"146.52,211.98,141.7231,192.308,155.6325,193.8979,146.52,211.98\" style=\"stroke: #383838; stroke-width: 1.0;\"/><ellipse cx=\"144.3574\" cy=\"186.872\" fill=\"#383838\" rx=\"2\" ry=\"2\" style=\"stroke: #383838; stroke-width: 1.0;\"/><ellipse cx=\"154.2928\" cy=\"188.0076\" fill=\"#383838\" rx=\"2\" ry=\"2\" style=\"stroke: #383838; stroke-width: 1.0;\"/></a><!--MD5=[49f7dc170fcf18a09de8a6128e420e66]\n",
       "@startuml\r\n",
       "top to bottom direction\r\n",
       "skinparam monochrome true\r\n",
       "skinparam classbackgroundcolor white\r\n",
       "skinparam shadowing false\r\n",
       "skinparam wrapWidth 300\r\n",
       "hide circle\r\n",
       "\r\n",
       "package \"QualifiedNameImportTest\" as E1  [[psysml:a2205de8-88da-4a82-9d0c-530bb72328d3 ]]  {\r\n",
       "package \"P1\" as E2  [[psysml:e0b1ca8b-31cf-4033-8a32-a89f430be7de ]]  {\r\n",
       "comp def \"A\" as E3  <<(T,blue) part  def>> [[psysml:b95e347b-a360-4ede-8f45-88f4f6a9f0a4 ]] {\r\n",
       "}\r\n",
       "}\r\n",
       "package \"P2\" as E4  [[psysml:9d5af9ae-79ba-44ae-999f-9385e3e881ff ]]  {\r\n",
       "package \"P2a\" as E5  [[psysml:b9f88b2a-f312-44cc-a9e4-c89396ff9243 ]]  {\r\n",
       "}\r\n",
       "comp usage \"x: A \" as E6  <<(T,blue) part>> [[psysml:8ace276a-6fab-4d9f-9bdd-b9a7961474a1 ]] {\r\n",
       "}\r\n",
       "}\r\n",
       "}\r\n",
       "E6 - -:|> E3 [[psysml:3b068d74-51f4-4206-8ca3-dd0a14e18b44 ]] \r\n",
       "@enduml\r\n",
       "\n",
       "PlantUML version 1.2020.13(Sat Jun 13 12:26:38 UTC 2020)\n",
       "(EPL source distribution)\n",
       "Java Runtime: OpenJDK Runtime Environment\n",
       "JVM: OpenJDK 64-Bit Server VM\n",
       "Default Encoding: UTF-8\n",
       "Language: en\n",
       "Country: null\n",
       "--></g></svg>"
      ]
     },
     "execution_count": 45,
     "metadata": {},
     "output_type": "execute_result"
    }
   ],
   "source": [
    "%viz --style=\"TB\" --view=\"Tree\" \"QualifiedNameImportTest\""
   ]
  },
  {
   "cell_type": "code",
   "execution_count": 46,
   "id": "5b8fca41",
   "metadata": {
    "execution": {
     "iopub.execute_input": "2021-10-25T08:23:46.242457Z",
     "iopub.status.busy": "2021-10-25T08:23:46.242023Z",
     "iopub.status.idle": "2021-10-25T08:23:46.247852Z",
     "shell.execute_reply": "2021-10-25T08:23:46.247346Z"
    }
   },
   "outputs": [
    {
     "data": {
      "image/svg+xml": [
       "<?xml version=\"1.0\" encoding=\"UTF-8\" standalone=\"no\"?><svg xmlns=\"http://www.w3.org/2000/svg\" xmlns:xlink=\"http://www.w3.org/1999/xlink\" contentScriptType=\"application/ecmascript\" contentStyleType=\"text/css\" height=\"12px\" preserveAspectRatio=\"none\" style=\"width:12px;height:12px;\" version=\"1.1\" viewBox=\"0 0 12 12\" width=\"12px\" zoomAndPan=\"magnify\"><defs/><g><!--MD5=[f4ee21bc66e489b5061b7c3e9601fdef]\n",
       "@startuml\r\n",
       "top to bottom direction\r\n",
       "skinparam monochrome true\r\n",
       "skinparam classbackgroundcolor white\r\n",
       "skinparam shadowing false\r\n",
       "skinparam wrapWidth 300\r\n",
       "hide circle\r\n",
       "\r\n",
       "@enduml\r\n",
       "\n",
       "PlantUML version 1.2020.13(Sat Jun 13 12:26:38 UTC 2020)\n",
       "(EPL source distribution)\n",
       "Java Runtime: OpenJDK Runtime Environment\n",
       "JVM: OpenJDK 64-Bit Server VM\n",
       "Default Encoding: UTF-8\n",
       "Language: en\n",
       "Country: null\n",
       "--></g></svg>"
      ]
     },
     "execution_count": 46,
     "metadata": {},
     "output_type": "execute_result"
    }
   ],
   "source": [
    "%viz --style=\"TB\" --view=\"State\" \"QualifiedNameImportTest\""
   ]
  },
  {
   "cell_type": "code",
   "execution_count": 47,
   "id": "ae9d3494",
   "metadata": {
    "execution": {
     "iopub.execute_input": "2021-10-25T08:23:46.296801Z",
     "iopub.status.busy": "2021-10-25T08:23:46.296357Z",
     "iopub.status.idle": "2021-10-25T08:23:46.323148Z",
     "shell.execute_reply": "2021-10-25T08:23:46.321376Z"
    }
   },
   "outputs": [
    {
     "data": {
      "image/svg+xml": [
       "<?xml version=\"1.0\" encoding=\"UTF-8\" standalone=\"no\"?><svg xmlns=\"http://www.w3.org/2000/svg\" xmlns:xlink=\"http://www.w3.org/1999/xlink\" contentScriptType=\"application/ecmascript\" contentStyleType=\"text/css\" height=\"189px\" preserveAspectRatio=\"none\" style=\"width:379px;height:189px;\" version=\"1.1\" viewBox=\"0 0 379 189\" width=\"379px\" zoomAndPan=\"magnify\"><defs/><g><!--MD5=[fbc87193dbaf4d95561dea2c320d4a47]\n",
       "cluster E1--><a href=\"psysml:a2205de8-88da-4a82-9d0c-530bb72328d3\" target=\"_top\" title=\"psysml:a2205de8-88da-4a82-9d0c-530bb72328d3\" xlink:actuate=\"onRequest\" xlink:href=\"psysml:a2205de8-88da-4a82-9d0c-530bb72328d3\" xlink:show=\"new\" xlink:title=\"psysml:a2205de8-88da-4a82-9d0c-530bb72328d3\" xlink:type=\"simple\"><polygon fill=\"#FFFFFF\" points=\"16,6,196,6,203,28.2969,357,28.2969,357,177,16,177,16,6\" style=\"stroke: #000000; stroke-width: 1.5;\"/><line style=\"stroke: #000000; stroke-width: 1.5;\" x1=\"16\" x2=\"203\" y1=\"28.2969\" y2=\"28.2969\"/><text fill=\"#000000\" font-family=\"sans-serif\" font-size=\"14\" font-weight=\"bold\" lengthAdjust=\"spacingAndGlyphs\" textLength=\"174\" x=\"20\" y=\"20.9951\">QualifiedNameImportTest</text></a><!--MD5=[e4f7fae6ed58524ba242bb0b0d3be6b7]\n",
       "cluster E2--><a href=\"psysml:e0b1ca8b-31cf-4033-8a32-a89f430be7de\" target=\"_top\" title=\"psysml:e0b1ca8b-31cf-4033-8a32-a89f430be7de\" xlink:actuate=\"onRequest\" xlink:href=\"psysml:e0b1ca8b-31cf-4033-8a32-a89f430be7de\" xlink:show=\"new\" xlink:title=\"psysml:e0b1ca8b-31cf-4033-8a32-a89f430be7de\" xlink:type=\"simple\"><polygon fill=\"#FFFFFF\" points=\"227,54,251,54,258,76.2969,333,76.2969,333,148,227,148,227,54\" style=\"stroke: #000000; stroke-width: 1.5;\"/><line style=\"stroke: #000000; stroke-width: 1.5;\" x1=\"227\" x2=\"258\" y1=\"76.2969\" y2=\"76.2969\"/><text fill=\"#000000\" font-family=\"sans-serif\" font-size=\"14\" font-weight=\"bold\" lengthAdjust=\"spacingAndGlyphs\" textLength=\"18\" x=\"231\" y=\"68.9951\">P1</text></a><!--MD5=[f6df4d0ebaf0b5dfb2ced0ae5af7c670]\n",
       "cluster E4--><a href=\"psysml:9d5af9ae-79ba-44ae-999f-9385e3e881ff\" target=\"_top\" title=\"psysml:9d5af9ae-79ba-44ae-999f-9385e3e881ff\" xlink:actuate=\"onRequest\" xlink:href=\"psysml:9d5af9ae-79ba-44ae-999f-9385e3e881ff\" xlink:show=\"new\" xlink:title=\"psysml:9d5af9ae-79ba-44ae-999f-9385e3e881ff\" xlink:type=\"simple\"><polygon fill=\"#FFFFFF\" points=\"40,49,64,49,71,71.2969,203,71.2969,203,153,40,153,40,49\" style=\"stroke: #000000; stroke-width: 1.5;\"/><line style=\"stroke: #000000; stroke-width: 1.5;\" x1=\"40\" x2=\"71\" y1=\"71.2969\" y2=\"71.2969\"/><text fill=\"#000000\" font-family=\"sans-serif\" font-size=\"14\" font-weight=\"bold\" lengthAdjust=\"spacingAndGlyphs\" textLength=\"18\" x=\"44\" y=\"63.9951\">P2</text></a><g id=\"E1.E2.E3\"><a href=\"psysml:b95e347b-a360-4ede-8f45-88f4f6a9f0a4\" target=\"_top\" title=\"psysml:b95e347b-a360-4ede-8f45-88f4f6a9f0a4\" xlink:actuate=\"onRequest\" xlink:href=\"psysml:b95e347b-a360-4ede-8f45-88f4f6a9f0a4\" xlink:show=\"new\" xlink:title=\"psysml:b95e347b-a360-4ede-8f45-88f4f6a9f0a4\" xlink:type=\"simple\"><rect fill=\"#FFFFFF\" height=\"42.9375\" id=\"E3\" style=\"stroke: #383838; stroke-width: 1.5;\" width=\"75\" x=\"242.5\" y=\"89\"/><rect fill=\"#F8F8F8\" height=\"37.9375\" style=\"stroke: #383838; stroke-width: 1.5;\" width=\"75\" x=\"242.5\" y=\"89\"/><text fill=\"#000000\" font-family=\"sans-serif\" font-size=\"12\" font-style=\"italic\" lengthAdjust=\"spacingAndGlyphs\" textLength=\"68\" x=\"246\" y=\"105.1387\">«part  def»</text><text fill=\"#000000\" font-family=\"sans-serif\" font-size=\"12\" lengthAdjust=\"spacingAndGlyphs\" textLength=\"8\" x=\"276\" y=\"119.1074\">A</text></a></g><a href=\"psysml:b9f88b2a-f312-44cc-a9e4-c89396ff9243\" target=\"_top\" title=\"psysml:b9f88b2a-f312-44cc-a9e4-c89396ff9243\" xlink:actuate=\"onRequest\" xlink:href=\"psysml:b9f88b2a-f312-44cc-a9e4-c89396ff9243\" xlink:show=\"new\" xlink:title=\"psysml:b9f88b2a-f312-44cc-a9e4-c89396ff9243\" xlink:type=\"simple\"><polygon fill=\"#FFFFFF\" points=\"141,84,173,84,180,106.2969,187,106.2969,187,136.5938,141,136.5938,141,84\" style=\"stroke: #000000; stroke-width: 1.5;\"/><line style=\"stroke: #000000; stroke-width: 1.5;\" x1=\"141\" x2=\"180\" y1=\"106.2969\" y2=\"106.2969\"/><text fill=\"#000000\" font-family=\"sans-serif\" font-size=\"14\" font-weight=\"bold\" lengthAdjust=\"spacingAndGlyphs\" textLength=\"26\" x=\"145\" y=\"98.9951\">P2a</text></a><g id=\"E1.E4.E6\"><a href=\"psysml:8ace276a-6fab-4d9f-9bdd-b9a7961474a1\" target=\"_top\" title=\"psysml:8ace276a-6fab-4d9f-9bdd-b9a7961474a1\" xlink:actuate=\"onRequest\" xlink:href=\"psysml:8ace276a-6fab-4d9f-9bdd-b9a7961474a1\" xlink:show=\"new\" xlink:title=\"psysml:8ace276a-6fab-4d9f-9bdd-b9a7961474a1\" xlink:type=\"simple\"><rect fill=\"#FFFFFF\" height=\"40\" id=\"E6\" rx=\"10\" ry=\"10\" style=\"stroke: #383838; stroke-width: 1.5;\" width=\"50\" x=\"56\" y=\"90.5\"/><rect fill=\"#F8F8F8\" height=\"23.9688\" rx=\"10\" ry=\"10\" style=\"stroke: #F8F8F8; stroke-width: 1.5;\" width=\"50\" x=\"56\" y=\"90.5\"/><rect fill=\"#F8F8F8\" height=\"10\" style=\"stroke: #F8F8F8; stroke-width: 1.5;\" width=\"50\" x=\"56\" y=\"104.4688\"/><rect fill=\"none\" height=\"40\" id=\"E6\" rx=\"10\" ry=\"10\" style=\"stroke: #383838; stroke-width: 1.5;\" width=\"50\" x=\"56\" y=\"90.5\"/><text fill=\"#000000\" font-family=\"sans-serif\" font-size=\"12\" lengthAdjust=\"spacingAndGlyphs\" textLength=\"22\" x=\"70\" y=\"106.6387\">x: A</text></a></g><!--MD5=[3df9710de55202ce8fca4b4af2dc3fe2]\n",
       "@startuml\r\n",
       "skinparam ranksep 10\r\n",
       "skinparam rectangle {\r\n",
       " backgroundColor<<block>> LightGreen\r\n",
       "}\r\n",
       "top to bottom direction\r\n",
       "skinparam monochrome true\r\n",
       "skinparam classbackgroundcolor white\r\n",
       "skinparam shadowing false\r\n",
       "skinparam wrapWidth 300\r\n",
       "hide circle\r\n",
       "\r\n",
       "package \"QualifiedNameImportTest\" as E1  [[psysml:a2205de8-88da-4a82-9d0c-530bb72328d3 ]]  {\r\n",
       "package \"P1\" as E2  [[psysml:e0b1ca8b-31cf-4033-8a32-a89f430be7de ]]  {\r\n",
       "rec def \"A\" as E3  <<(T,blue) part  def>> [[psysml:b95e347b-a360-4ede-8f45-88f4f6a9f0a4 ]] {\r\n",
       "}\r\n",
       "}\r\n",
       "package \"P2\" as E4  [[psysml:9d5af9ae-79ba-44ae-999f-9385e3e881ff ]]  {\r\n",
       "package \"P2a\" as E5  [[psysml:b9f88b2a-f312-44cc-a9e4-c89396ff9243 ]]  {\r\n",
       "}\r\n",
       "rec usage \"x: A\" as E6  [[psysml:8ace276a-6fab-4d9f-9bdd-b9a7961474a1 ]] {\r\n",
       "}\r\n",
       "}\r\n",
       "}\r\n",
       "@enduml\r\n",
       "\n",
       "PlantUML version 1.2020.13(Sat Jun 13 12:26:38 UTC 2020)\n",
       "(EPL source distribution)\n",
       "Java Runtime: OpenJDK Runtime Environment\n",
       "JVM: OpenJDK 64-Bit Server VM\n",
       "Default Encoding: UTF-8\n",
       "Language: en\n",
       "Country: null\n",
       "--></g></svg>"
      ]
     },
     "execution_count": 47,
     "metadata": {},
     "output_type": "execute_result"
    }
   ],
   "source": [
    "%viz --style=\"TB\" --view=\"Interconnection\" \"QualifiedNameImportTest\""
   ]
  },
  {
   "cell_type": "code",
   "execution_count": 48,
   "id": "29c09bdd",
   "metadata": {
    "execution": {
     "iopub.execute_input": "2021-10-25T08:23:46.372441Z",
     "iopub.status.busy": "2021-10-25T08:23:46.371999Z",
     "iopub.status.idle": "2021-10-25T08:23:46.377694Z",
     "shell.execute_reply": "2021-10-25T08:23:46.377329Z"
    }
   },
   "outputs": [
    {
     "data": {
      "image/svg+xml": [
       "<?xml version=\"1.0\" encoding=\"UTF-8\" standalone=\"no\"?><svg xmlns=\"http://www.w3.org/2000/svg\" xmlns:xlink=\"http://www.w3.org/1999/xlink\" contentScriptType=\"application/ecmascript\" contentStyleType=\"text/css\" height=\"12px\" preserveAspectRatio=\"none\" style=\"width:12px;height:12px;\" version=\"1.1\" viewBox=\"0 0 12 12\" width=\"12px\" zoomAndPan=\"magnify\"><defs/><g><!--MD5=[06afc254b03ac5e9d9fb7773b07d0800]\n",
       "@startuml\r\n",
       "skinparam ranksep 8\r\n",
       "top to bottom direction\r\n",
       "skinparam monochrome true\r\n",
       "skinparam classbackgroundcolor white\r\n",
       "skinparam shadowing false\r\n",
       "skinparam wrapWidth 300\r\n",
       "hide circle\r\n",
       "\r\n",
       "@enduml\r\n",
       "\n",
       "PlantUML version 1.2020.13(Sat Jun 13 12:26:38 UTC 2020)\n",
       "(EPL source distribution)\n",
       "Java Runtime: OpenJDK Runtime Environment\n",
       "JVM: OpenJDK 64-Bit Server VM\n",
       "Default Encoding: UTF-8\n",
       "Language: en\n",
       "Country: null\n",
       "--></g></svg>"
      ]
     },
     "execution_count": 48,
     "metadata": {},
     "output_type": "execute_result"
    }
   ],
   "source": [
    "%viz --style=\"TB\" --view=\"Action\" \"QualifiedNameImportTest\""
   ]
  },
  {
   "cell_type": "code",
   "execution_count": 49,
   "id": "797b720d",
   "metadata": {
    "execution": {
     "iopub.execute_input": "2021-10-25T08:23:46.427429Z",
     "iopub.status.busy": "2021-10-25T08:23:46.426998Z",
     "iopub.status.idle": "2021-10-25T08:23:46.432136Z",
     "shell.execute_reply": "2021-10-25T08:23:46.431778Z"
    }
   },
   "outputs": [
    {
     "data": {
      "image/svg+xml": [
       "<?xml version=\"1.0\" encoding=\"UTF-8\" standalone=\"no\"?><svg xmlns=\"http://www.w3.org/2000/svg\" xmlns:xlink=\"http://www.w3.org/1999/xlink\" contentScriptType=\"application/ecmascript\" contentStyleType=\"text/css\" height=\"12px\" preserveAspectRatio=\"none\" style=\"width:12px;height:12px;\" version=\"1.1\" viewBox=\"0 0 12 12\" width=\"12px\" zoomAndPan=\"magnify\"><defs/><g><!--MD5=[e1ab0c84c44d2fef8bf5f140f2689906]\n",
       "@startuml\r\n",
       "skinparam roundcorner 20\r\n",
       "skinparam BoxPadding 20\r\n",
       "skinparam SequenceBoxBackgroundColor #white\r\n",
       "skinparam style strictuml\r\n",
       "skinparam maxMessageSize 100\r\n",
       "top to bottom direction\r\n",
       "skinparam monochrome true\r\n",
       "skinparam classbackgroundcolor white\r\n",
       "skinparam shadowing false\r\n",
       "skinparam wrapWidth 300\r\n",
       "hide circle\r\n",
       "\r\n",
       "@enduml\r\n",
       "\n",
       "PlantUML version 1.2020.13(Sat Jun 13 12:26:38 UTC 2020)\n",
       "(EPL source distribution)\n",
       "Java Runtime: OpenJDK Runtime Environment\n",
       "JVM: OpenJDK 64-Bit Server VM\n",
       "Default Encoding: UTF-8\n",
       "Language: en\n",
       "Country: null\n",
       "--></g></svg>"
      ]
     },
     "execution_count": 49,
     "metadata": {},
     "output_type": "execute_result"
    }
   ],
   "source": [
    "%viz --style=\"TB\" --view=\"Sequence\" \"QualifiedNameImportTest\""
   ]
  },
  {
   "cell_type": "code",
   "execution_count": 50,
   "id": "23c1aefa",
   "metadata": {
    "execution": {
     "iopub.execute_input": "2021-10-25T08:23:46.481911Z",
     "iopub.status.busy": "2021-10-25T08:23:46.481452Z",
     "iopub.status.idle": "2021-10-25T08:23:46.507131Z",
     "shell.execute_reply": "2021-10-25T08:23:46.505336Z"
    }
   },
   "outputs": [
    {
     "data": {
      "image/svg+xml": [
       "<?xml version=\"1.0\" encoding=\"UTF-8\" standalone=\"no\"?><svg xmlns=\"http://www.w3.org/2000/svg\" xmlns:xlink=\"http://www.w3.org/1999/xlink\" contentScriptType=\"application/ecmascript\" contentStyleType=\"text/css\" height=\"310px\" preserveAspectRatio=\"none\" style=\"width:241px;height:310px;\" version=\"1.1\" viewBox=\"0 0 241 310\" width=\"241px\" zoomAndPan=\"magnify\"><defs/><g><!--MD5=[fbc87193dbaf4d95561dea2c320d4a47]\n",
       "cluster E1--><a href=\"psysml:a2205de8-88da-4a82-9d0c-530bb72328d3\" target=\"_top\" title=\"psysml:a2205de8-88da-4a82-9d0c-530bb72328d3\" xlink:actuate=\"onRequest\" xlink:href=\"psysml:a2205de8-88da-4a82-9d0c-530bb72328d3\" xlink:show=\"new\" xlink:title=\"psysml:a2205de8-88da-4a82-9d0c-530bb72328d3\" xlink:type=\"simple\"><polygon fill=\"#FFFFFF\" points=\"16,6,196,6,203,28.2969,219,28.2969,219,298,16,298,16,6\" style=\"stroke: #000000; stroke-width: 1.5;\"/><line style=\"stroke: #000000; stroke-width: 1.5;\" x1=\"16\" x2=\"203\" y1=\"28.2969\" y2=\"28.2969\"/><text fill=\"#000000\" font-family=\"sans-serif\" font-size=\"14\" font-weight=\"bold\" lengthAdjust=\"spacingAndGlyphs\" textLength=\"174\" x=\"20\" y=\"20.9951\">QualifiedNameImportTest</text></a><!--MD5=[e4f7fae6ed58524ba242bb0b0d3be6b7]\n",
       "cluster E2--><a href=\"psysml:e0b1ca8b-31cf-4033-8a32-a89f430be7de\" target=\"_top\" title=\"psysml:e0b1ca8b-31cf-4033-8a32-a89f430be7de\" xlink:actuate=\"onRequest\" xlink:href=\"psysml:e0b1ca8b-31cf-4033-8a32-a89f430be7de\" xlink:show=\"new\" xlink:title=\"psysml:e0b1ca8b-31cf-4033-8a32-a89f430be7de\" xlink:type=\"simple\"><polygon fill=\"#FFFFFF\" points=\"93,177,117,177,124,199.2969,195,199.2969,195,274,93,274,93,177\" style=\"stroke: #000000; stroke-width: 1.5;\"/><line style=\"stroke: #000000; stroke-width: 1.5;\" x1=\"93\" x2=\"124\" y1=\"199.2969\" y2=\"199.2969\"/><text fill=\"#000000\" font-family=\"sans-serif\" font-size=\"14\" font-weight=\"bold\" lengthAdjust=\"spacingAndGlyphs\" textLength=\"18\" x=\"97\" y=\"191.9951\">P1</text></a><!--MD5=[f6df4d0ebaf0b5dfb2ced0ae5af7c670]\n",
       "cluster E4--><a href=\"psysml:9d5af9ae-79ba-44ae-999f-9385e3e881ff\" target=\"_top\" title=\"psysml:9d5af9ae-79ba-44ae-999f-9385e3e881ff\" xlink:actuate=\"onRequest\" xlink:href=\"psysml:9d5af9ae-79ba-44ae-999f-9385e3e881ff\" xlink:show=\"new\" xlink:title=\"psysml:9d5af9ae-79ba-44ae-999f-9385e3e881ff\" xlink:type=\"simple\"><polygon fill=\"#FFFFFF\" points=\"40,49,64,49,71,71.2969,195,71.2969,195,153,40,153,40,49\" style=\"stroke: #000000; stroke-width: 1.5;\"/><line style=\"stroke: #000000; stroke-width: 1.5;\" x1=\"40\" x2=\"71\" y1=\"71.2969\" y2=\"71.2969\"/><text fill=\"#000000\" font-family=\"sans-serif\" font-size=\"14\" font-weight=\"bold\" lengthAdjust=\"spacingAndGlyphs\" textLength=\"18\" x=\"44\" y=\"63.9951\">P2</text></a><!--MD5=[09b614a08d8cba4a07c9adeb5e0fee81]\n",
       "class E3--><a href=\"psysml:b95e347b-a360-4ede-8f45-88f4f6a9f0a4\" target=\"_top\" title=\"psysml:b95e347b-a360-4ede-8f45-88f4f6a9f0a4\" xlink:actuate=\"onRequest\" xlink:href=\"psysml:b95e347b-a360-4ede-8f45-88f4f6a9f0a4\" xlink:show=\"new\" xlink:title=\"psysml:b95e347b-a360-4ede-8f45-88f4f6a9f0a4\" xlink:type=\"simple\"><rect fill=\"#FFFFFF\" height=\"45.9375\" id=\"E3\" style=\"stroke: #383838; stroke-width: 1.5;\" width=\"70\" x=\"109\" y=\"212\"/><text fill=\"#000000\" font-family=\"sans-serif\" font-size=\"12\" font-style=\"italic\" lengthAdjust=\"spacingAndGlyphs\" textLength=\"68\" x=\"110\" y=\"228.1387\">«part  def»</text><text fill=\"#000000\" font-family=\"sans-serif\" font-size=\"12\" lengthAdjust=\"spacingAndGlyphs\" textLength=\"8\" x=\"140\" y=\"242.1074\">A</text><line style=\"stroke: #383838; stroke-width: 1.5;\" x1=\"110\" x2=\"178\" y1=\"249.9375\" y2=\"249.9375\"/></a><!--MD5=[60a26617385b1d2d0262a64233df1f8d]\n",
       "class E6--><a href=\"psysml:8ace276a-6fab-4d9f-9bdd-b9a7961474a1\" target=\"_top\" title=\"psysml:8ace276a-6fab-4d9f-9bdd-b9a7961474a1\" xlink:actuate=\"onRequest\" xlink:href=\"psysml:8ace276a-6fab-4d9f-9bdd-b9a7961474a1\" xlink:show=\"new\" xlink:title=\"psysml:8ace276a-6fab-4d9f-9bdd-b9a7961474a1\" xlink:type=\"simple\"><rect fill=\"#FFFFFF\" height=\"45.9375\" id=\"E6\" rx=\"10\" ry=\"10\" style=\"stroke: #383838; stroke-width: 1.5;\" width=\"42\" x=\"137\" y=\"87.5\"/><text fill=\"#000000\" font-family=\"sans-serif\" font-size=\"12\" font-style=\"italic\" lengthAdjust=\"spacingAndGlyphs\" textLength=\"40\" x=\"138\" y=\"103.6387\">«part»</text><text fill=\"#000000\" font-family=\"sans-serif\" font-size=\"12\" lengthAdjust=\"spacingAndGlyphs\" textLength=\"22\" x=\"145\" y=\"117.6074\">x: A</text><line style=\"stroke: #383838; stroke-width: 1.5;\" x1=\"138\" x2=\"178\" y1=\"125.4375\" y2=\"125.4375\"/></a><a href=\"psysml:b9f88b2a-f312-44cc-a9e4-c89396ff9243\" target=\"_top\" title=\"psysml:b9f88b2a-f312-44cc-a9e4-c89396ff9243\" xlink:actuate=\"onRequest\" xlink:href=\"psysml:b9f88b2a-f312-44cc-a9e4-c89396ff9243\" xlink:show=\"new\" xlink:title=\"psysml:b9f88b2a-f312-44cc-a9e4-c89396ff9243\" xlink:type=\"simple\"><polygon fill=\"#FFFFFF\" points=\"56,84,88,84,95,106.2969,102,106.2969,102,136.5938,56,136.5938,56,84\" style=\"stroke: #000000; stroke-width: 1.5;\"/><line style=\"stroke: #000000; stroke-width: 1.5;\" x1=\"56\" x2=\"95\" y1=\"106.2969\" y2=\"106.2969\"/><text fill=\"#000000\" font-family=\"sans-serif\" font-size=\"14\" font-weight=\"bold\" lengthAdjust=\"spacingAndGlyphs\" textLength=\"26\" x=\"60\" y=\"98.9951\">P2a</text></a><!--MD5=[a717450b82c80b9240a525fa862496af]\n",
       "link E6 to E3--><a href=\"psysml:3b068d74-51f4-4206-8ca3-dd0a14e18b44\" target=\"_top\" title=\"psysml:3b068d74-51f4-4206-8ca3-dd0a14e18b44\" xlink:actuate=\"onRequest\" xlink:href=\"psysml:3b068d74-51f4-4206-8ca3-dd0a14e18b44\" xlink:show=\"new\" xlink:title=\"psysml:3b068d74-51f4-4206-8ca3-dd0a14e18b44\" xlink:type=\"simple\"><path d=\"M155.46,133.68 C153.61,149.9 151.04,172.39 148.8,191.96 \" fill=\"none\" id=\"E6-&gt;E3\" style=\"stroke: #383838; stroke-width: 1.0;\"/><polygon fill=\"#FFFFFF\" points=\"146.52,211.98,141.7231,192.308,155.6325,193.8979,146.52,211.98\" style=\"stroke: #383838; stroke-width: 1.0;\"/><ellipse cx=\"144.3574\" cy=\"186.872\" fill=\"#383838\" rx=\"2\" ry=\"2\" style=\"stroke: #383838; stroke-width: 1.0;\"/><ellipse cx=\"154.2928\" cy=\"188.0076\" fill=\"#383838\" rx=\"2\" ry=\"2\" style=\"stroke: #383838; stroke-width: 1.0;\"/></a><!--MD5=[49f7dc170fcf18a09de8a6128e420e66]\n",
       "@startuml\r\n",
       "top to bottom direction\r\n",
       "skinparam monochrome true\r\n",
       "skinparam classbackgroundcolor white\r\n",
       "skinparam shadowing false\r\n",
       "skinparam wrapWidth 300\r\n",
       "hide circle\r\n",
       "\r\n",
       "package \"QualifiedNameImportTest\" as E1  [[psysml:a2205de8-88da-4a82-9d0c-530bb72328d3 ]]  {\r\n",
       "package \"P1\" as E2  [[psysml:e0b1ca8b-31cf-4033-8a32-a89f430be7de ]]  {\r\n",
       "comp def \"A\" as E3  <<(T,blue) part  def>> [[psysml:b95e347b-a360-4ede-8f45-88f4f6a9f0a4 ]] {\r\n",
       "}\r\n",
       "}\r\n",
       "package \"P2\" as E4  [[psysml:9d5af9ae-79ba-44ae-999f-9385e3e881ff ]]  {\r\n",
       "package \"P2a\" as E5  [[psysml:b9f88b2a-f312-44cc-a9e4-c89396ff9243 ]]  {\r\n",
       "}\r\n",
       "comp usage \"x: A \" as E6  <<(T,blue) part>> [[psysml:8ace276a-6fab-4d9f-9bdd-b9a7961474a1 ]] {\r\n",
       "}\r\n",
       "}\r\n",
       "}\r\n",
       "E6 - -:|> E3 [[psysml:3b068d74-51f4-4206-8ca3-dd0a14e18b44 ]] \r\n",
       "@enduml\r\n",
       "\n",
       "PlantUML version 1.2020.13(Sat Jun 13 12:26:38 UTC 2020)\n",
       "(EPL source distribution)\n",
       "Java Runtime: OpenJDK Runtime Environment\n",
       "JVM: OpenJDK 64-Bit Server VM\n",
       "Default Encoding: UTF-8\n",
       "Language: en\n",
       "Country: null\n",
       "--></g></svg>"
      ]
     },
     "execution_count": 50,
     "metadata": {},
     "output_type": "execute_result"
    }
   ],
   "source": [
    "%viz --style=\"TB\" --view=\"MIXED\" \"QualifiedNameImportTest\""
   ]
  },
  {
   "cell_type": "code",
   "execution_count": 51,
   "id": "31057de2",
   "metadata": {
    "execution": {
     "iopub.execute_input": "2021-10-25T08:23:46.556468Z",
     "iopub.status.busy": "2021-10-25T08:23:46.556019Z",
     "iopub.status.idle": "2021-10-25T08:23:46.584335Z",
     "shell.execute_reply": "2021-10-25T08:23:46.582576Z"
    }
   },
   "outputs": [
    {
     "data": {
      "image/svg+xml": [
       "<?xml version=\"1.0\" encoding=\"UTF-8\" standalone=\"no\"?><svg xmlns=\"http://www.w3.org/2000/svg\" xmlns:xlink=\"http://www.w3.org/1999/xlink\" contentScriptType=\"application/ecmascript\" contentStyleType=\"text/css\" height=\"310px\" preserveAspectRatio=\"none\" style=\"width:241px;height:310px;\" version=\"1.1\" viewBox=\"0 0 241 310\" width=\"241px\" zoomAndPan=\"magnify\"><defs/><g><!--MD5=[fbc87193dbaf4d95561dea2c320d4a47]\n",
       "cluster E1--><a href=\"psysml:a2205de8-88da-4a82-9d0c-530bb72328d3\" target=\"_top\" title=\"psysml:a2205de8-88da-4a82-9d0c-530bb72328d3\" xlink:actuate=\"onRequest\" xlink:href=\"psysml:a2205de8-88da-4a82-9d0c-530bb72328d3\" xlink:show=\"new\" xlink:title=\"psysml:a2205de8-88da-4a82-9d0c-530bb72328d3\" xlink:type=\"simple\"><polygon fill=\"#FFFFFF\" points=\"16,6,196,6,203,28.2969,219,28.2969,219,298,16,298,16,6\" style=\"stroke: #000000; stroke-width: 1.5;\"/><line style=\"stroke: #000000; stroke-width: 1.5;\" x1=\"16\" x2=\"203\" y1=\"28.2969\" y2=\"28.2969\"/><text fill=\"#000000\" font-family=\"sans-serif\" font-size=\"14\" font-weight=\"bold\" lengthAdjust=\"spacingAndGlyphs\" textLength=\"174\" x=\"20\" y=\"20.9951\">QualifiedNameImportTest</text></a><!--MD5=[e4f7fae6ed58524ba242bb0b0d3be6b7]\n",
       "cluster E2--><a href=\"psysml:e0b1ca8b-31cf-4033-8a32-a89f430be7de\" target=\"_top\" title=\"psysml:e0b1ca8b-31cf-4033-8a32-a89f430be7de\" xlink:actuate=\"onRequest\" xlink:href=\"psysml:e0b1ca8b-31cf-4033-8a32-a89f430be7de\" xlink:show=\"new\" xlink:title=\"psysml:e0b1ca8b-31cf-4033-8a32-a89f430be7de\" xlink:type=\"simple\"><polygon fill=\"#FFFFFF\" points=\"93,177,117,177,124,199.2969,195,199.2969,195,274,93,274,93,177\" style=\"stroke: #000000; stroke-width: 1.5;\"/><line style=\"stroke: #000000; stroke-width: 1.5;\" x1=\"93\" x2=\"124\" y1=\"199.2969\" y2=\"199.2969\"/><text fill=\"#000000\" font-family=\"sans-serif\" font-size=\"14\" font-weight=\"bold\" lengthAdjust=\"spacingAndGlyphs\" textLength=\"18\" x=\"97\" y=\"191.9951\">P1</text></a><!--MD5=[f6df4d0ebaf0b5dfb2ced0ae5af7c670]\n",
       "cluster E4--><a href=\"psysml:9d5af9ae-79ba-44ae-999f-9385e3e881ff\" target=\"_top\" title=\"psysml:9d5af9ae-79ba-44ae-999f-9385e3e881ff\" xlink:actuate=\"onRequest\" xlink:href=\"psysml:9d5af9ae-79ba-44ae-999f-9385e3e881ff\" xlink:show=\"new\" xlink:title=\"psysml:9d5af9ae-79ba-44ae-999f-9385e3e881ff\" xlink:type=\"simple\"><polygon fill=\"#FFFFFF\" points=\"40,49,64,49,71,71.2969,195,71.2969,195,153,40,153,40,49\" style=\"stroke: #000000; stroke-width: 1.5;\"/><line style=\"stroke: #000000; stroke-width: 1.5;\" x1=\"40\" x2=\"71\" y1=\"71.2969\" y2=\"71.2969\"/><text fill=\"#000000\" font-family=\"sans-serif\" font-size=\"14\" font-weight=\"bold\" lengthAdjust=\"spacingAndGlyphs\" textLength=\"18\" x=\"44\" y=\"63.9951\">P2</text></a><!--MD5=[09b614a08d8cba4a07c9adeb5e0fee81]\n",
       "class E3--><a href=\"psysml:b95e347b-a360-4ede-8f45-88f4f6a9f0a4\" target=\"_top\" title=\"psysml:b95e347b-a360-4ede-8f45-88f4f6a9f0a4\" xlink:actuate=\"onRequest\" xlink:href=\"psysml:b95e347b-a360-4ede-8f45-88f4f6a9f0a4\" xlink:show=\"new\" xlink:title=\"psysml:b95e347b-a360-4ede-8f45-88f4f6a9f0a4\" xlink:type=\"simple\"><rect fill=\"#FFFFFF\" height=\"45.9375\" id=\"E3\" style=\"stroke: #383838; stroke-width: 1.5;\" width=\"70\" x=\"109\" y=\"212\"/><text fill=\"#000000\" font-family=\"sans-serif\" font-size=\"12\" font-style=\"italic\" lengthAdjust=\"spacingAndGlyphs\" textLength=\"68\" x=\"110\" y=\"228.1387\">«part  def»</text><text fill=\"#000000\" font-family=\"sans-serif\" font-size=\"12\" lengthAdjust=\"spacingAndGlyphs\" textLength=\"8\" x=\"140\" y=\"242.1074\">A</text><line style=\"stroke: #383838; stroke-width: 1.5;\" x1=\"110\" x2=\"178\" y1=\"249.9375\" y2=\"249.9375\"/></a><!--MD5=[60a26617385b1d2d0262a64233df1f8d]\n",
       "class E6--><a href=\"psysml:8ace276a-6fab-4d9f-9bdd-b9a7961474a1\" target=\"_top\" title=\"psysml:8ace276a-6fab-4d9f-9bdd-b9a7961474a1\" xlink:actuate=\"onRequest\" xlink:href=\"psysml:8ace276a-6fab-4d9f-9bdd-b9a7961474a1\" xlink:show=\"new\" xlink:title=\"psysml:8ace276a-6fab-4d9f-9bdd-b9a7961474a1\" xlink:type=\"simple\"><rect fill=\"#FFFFFF\" height=\"45.9375\" id=\"E6\" rx=\"10\" ry=\"10\" style=\"stroke: #383838; stroke-width: 1.5;\" width=\"42\" x=\"137\" y=\"87.5\"/><text fill=\"#000000\" font-family=\"sans-serif\" font-size=\"12\" font-style=\"italic\" lengthAdjust=\"spacingAndGlyphs\" textLength=\"40\" x=\"138\" y=\"103.6387\">«part»</text><text fill=\"#000000\" font-family=\"sans-serif\" font-size=\"12\" lengthAdjust=\"spacingAndGlyphs\" textLength=\"22\" x=\"145\" y=\"117.6074\">x: A</text><line style=\"stroke: #383838; stroke-width: 1.5;\" x1=\"138\" x2=\"178\" y1=\"125.4375\" y2=\"125.4375\"/></a><a href=\"psysml:b9f88b2a-f312-44cc-a9e4-c89396ff9243\" target=\"_top\" title=\"psysml:b9f88b2a-f312-44cc-a9e4-c89396ff9243\" xlink:actuate=\"onRequest\" xlink:href=\"psysml:b9f88b2a-f312-44cc-a9e4-c89396ff9243\" xlink:show=\"new\" xlink:title=\"psysml:b9f88b2a-f312-44cc-a9e4-c89396ff9243\" xlink:type=\"simple\"><polygon fill=\"#FFFFFF\" points=\"56,84,88,84,95,106.2969,102,106.2969,102,136.5938,56,136.5938,56,84\" style=\"stroke: #000000; stroke-width: 1.5;\"/><line style=\"stroke: #000000; stroke-width: 1.5;\" x1=\"56\" x2=\"95\" y1=\"106.2969\" y2=\"106.2969\"/><text fill=\"#000000\" font-family=\"sans-serif\" font-size=\"14\" font-weight=\"bold\" lengthAdjust=\"spacingAndGlyphs\" textLength=\"26\" x=\"60\" y=\"98.9951\">P2a</text></a><!--MD5=[a717450b82c80b9240a525fa862496af]\n",
       "link E6 to E3--><a href=\"psysml:3b068d74-51f4-4206-8ca3-dd0a14e18b44\" target=\"_top\" title=\"psysml:3b068d74-51f4-4206-8ca3-dd0a14e18b44\" xlink:actuate=\"onRequest\" xlink:href=\"psysml:3b068d74-51f4-4206-8ca3-dd0a14e18b44\" xlink:show=\"new\" xlink:title=\"psysml:3b068d74-51f4-4206-8ca3-dd0a14e18b44\" xlink:type=\"simple\"><path d=\"M158,133.63 C158,133.63 158,192 158,192 \" fill=\"none\" id=\"E6-&gt;E3\" style=\"stroke: #383838; stroke-width: 1.0;\"/><polygon fill=\"#FFFFFF\" points=\"158,212,151,193,165,193,158,212\" style=\"stroke: #383838; stroke-width: 1.0;\"/><ellipse cx=\"153\" cy=\"187.3\" fill=\"#383838\" rx=\"2\" ry=\"2\" style=\"stroke: #383838; stroke-width: 1.0;\"/><ellipse cx=\"163\" cy=\"187.3\" fill=\"#383838\" rx=\"2\" ry=\"2\" style=\"stroke: #383838; stroke-width: 1.0;\"/></a><!--MD5=[1d5c14045611bc1ac224b86d5b046989]\n",
       "@startuml\r\n",
       "skinparam linetype ortho\r\n",
       "skinparam monochrome true\r\n",
       "skinparam classbackgroundcolor white\r\n",
       "skinparam shadowing false\r\n",
       "skinparam wrapWidth 300\r\n",
       "hide circle\r\n",
       "\r\n",
       "package \"QualifiedNameImportTest\" as E1  [[psysml:a2205de8-88da-4a82-9d0c-530bb72328d3 ]]  {\r\n",
       "package \"P1\" as E2  [[psysml:e0b1ca8b-31cf-4033-8a32-a89f430be7de ]]  {\r\n",
       "comp def \"A\" as E3  <<(T,blue) part  def>> [[psysml:b95e347b-a360-4ede-8f45-88f4f6a9f0a4 ]] {\r\n",
       "}\r\n",
       "}\r\n",
       "package \"P2\" as E4  [[psysml:9d5af9ae-79ba-44ae-999f-9385e3e881ff ]]  {\r\n",
       "package \"P2a\" as E5  [[psysml:b9f88b2a-f312-44cc-a9e4-c89396ff9243 ]]  {\r\n",
       "}\r\n",
       "comp usage \"x: A \" as E6  <<(T,blue) part>> [[psysml:8ace276a-6fab-4d9f-9bdd-b9a7961474a1 ]] {\r\n",
       "}\r\n",
       "}\r\n",
       "}\r\n",
       "E6 - -:|> E3 [[psysml:3b068d74-51f4-4206-8ca3-dd0a14e18b44 ]] \r\n",
       "@enduml\r\n",
       "\n",
       "PlantUML version 1.2020.13(Sat Jun 13 12:26:38 UTC 2020)\n",
       "(EPL source distribution)\n",
       "Java Runtime: OpenJDK Runtime Environment\n",
       "JVM: OpenJDK 64-Bit Server VM\n",
       "Default Encoding: UTF-8\n",
       "Language: en\n",
       "Country: null\n",
       "--></g></svg>"
      ]
     },
     "execution_count": 51,
     "metadata": {},
     "output_type": "execute_result"
    }
   ],
   "source": [
    "%viz --style=\"ORTHOLINE\" --view=\"Default\" \"QualifiedNameImportTest\""
   ]
  },
  {
   "cell_type": "code",
   "execution_count": 52,
   "id": "98fde084",
   "metadata": {
    "execution": {
     "iopub.execute_input": "2021-10-25T08:23:46.633799Z",
     "iopub.status.busy": "2021-10-25T08:23:46.633372Z",
     "iopub.status.idle": "2021-10-25T08:23:46.662508Z",
     "shell.execute_reply": "2021-10-25T08:23:46.660686Z"
    }
   },
   "outputs": [
    {
     "data": {
      "image/svg+xml": [
       "<?xml version=\"1.0\" encoding=\"UTF-8\" standalone=\"no\"?><svg xmlns=\"http://www.w3.org/2000/svg\" xmlns:xlink=\"http://www.w3.org/1999/xlink\" contentScriptType=\"application/ecmascript\" contentStyleType=\"text/css\" height=\"310px\" preserveAspectRatio=\"none\" style=\"width:241px;height:310px;\" version=\"1.1\" viewBox=\"0 0 241 310\" width=\"241px\" zoomAndPan=\"magnify\"><defs/><g><!--MD5=[fbc87193dbaf4d95561dea2c320d4a47]\n",
       "cluster E1--><a href=\"psysml:a2205de8-88da-4a82-9d0c-530bb72328d3\" target=\"_top\" title=\"psysml:a2205de8-88da-4a82-9d0c-530bb72328d3\" xlink:actuate=\"onRequest\" xlink:href=\"psysml:a2205de8-88da-4a82-9d0c-530bb72328d3\" xlink:show=\"new\" xlink:title=\"psysml:a2205de8-88da-4a82-9d0c-530bb72328d3\" xlink:type=\"simple\"><polygon fill=\"#FFFFFF\" points=\"16,6,196,6,203,28.2969,219,28.2969,219,298,16,298,16,6\" style=\"stroke: #000000; stroke-width: 1.5;\"/><line style=\"stroke: #000000; stroke-width: 1.5;\" x1=\"16\" x2=\"203\" y1=\"28.2969\" y2=\"28.2969\"/><text fill=\"#000000\" font-family=\"sans-serif\" font-size=\"14\" font-weight=\"bold\" lengthAdjust=\"spacingAndGlyphs\" textLength=\"174\" x=\"20\" y=\"20.9951\">QualifiedNameImportTest</text></a><!--MD5=[e4f7fae6ed58524ba242bb0b0d3be6b7]\n",
       "cluster E2--><a href=\"psysml:e0b1ca8b-31cf-4033-8a32-a89f430be7de\" target=\"_top\" title=\"psysml:e0b1ca8b-31cf-4033-8a32-a89f430be7de\" xlink:actuate=\"onRequest\" xlink:href=\"psysml:e0b1ca8b-31cf-4033-8a32-a89f430be7de\" xlink:show=\"new\" xlink:title=\"psysml:e0b1ca8b-31cf-4033-8a32-a89f430be7de\" xlink:type=\"simple\"><polygon fill=\"#FFFFFF\" points=\"93,177,117,177,124,199.2969,195,199.2969,195,274,93,274,93,177\" style=\"stroke: #000000; stroke-width: 1.5;\"/><line style=\"stroke: #000000; stroke-width: 1.5;\" x1=\"93\" x2=\"124\" y1=\"199.2969\" y2=\"199.2969\"/><text fill=\"#000000\" font-family=\"sans-serif\" font-size=\"14\" font-weight=\"bold\" lengthAdjust=\"spacingAndGlyphs\" textLength=\"18\" x=\"97\" y=\"191.9951\">P1</text></a><!--MD5=[f6df4d0ebaf0b5dfb2ced0ae5af7c670]\n",
       "cluster E4--><a href=\"psysml:9d5af9ae-79ba-44ae-999f-9385e3e881ff\" target=\"_top\" title=\"psysml:9d5af9ae-79ba-44ae-999f-9385e3e881ff\" xlink:actuate=\"onRequest\" xlink:href=\"psysml:9d5af9ae-79ba-44ae-999f-9385e3e881ff\" xlink:show=\"new\" xlink:title=\"psysml:9d5af9ae-79ba-44ae-999f-9385e3e881ff\" xlink:type=\"simple\"><polygon fill=\"#FFFFFF\" points=\"40,49,64,49,71,71.2969,195,71.2969,195,153,40,153,40,49\" style=\"stroke: #000000; stroke-width: 1.5;\"/><line style=\"stroke: #000000; stroke-width: 1.5;\" x1=\"40\" x2=\"71\" y1=\"71.2969\" y2=\"71.2969\"/><text fill=\"#000000\" font-family=\"sans-serif\" font-size=\"14\" font-weight=\"bold\" lengthAdjust=\"spacingAndGlyphs\" textLength=\"18\" x=\"44\" y=\"63.9951\">P2</text></a><!--MD5=[09b614a08d8cba4a07c9adeb5e0fee81]\n",
       "class E3--><a href=\"psysml:b95e347b-a360-4ede-8f45-88f4f6a9f0a4\" target=\"_top\" title=\"psysml:b95e347b-a360-4ede-8f45-88f4f6a9f0a4\" xlink:actuate=\"onRequest\" xlink:href=\"psysml:b95e347b-a360-4ede-8f45-88f4f6a9f0a4\" xlink:show=\"new\" xlink:title=\"psysml:b95e347b-a360-4ede-8f45-88f4f6a9f0a4\" xlink:type=\"simple\"><rect fill=\"#FFFFFF\" height=\"45.9375\" id=\"E3\" style=\"stroke: #383838; stroke-width: 1.5;\" width=\"70\" x=\"109\" y=\"212\"/><text fill=\"#000000\" font-family=\"sans-serif\" font-size=\"12\" font-style=\"italic\" lengthAdjust=\"spacingAndGlyphs\" textLength=\"68\" x=\"110\" y=\"228.1387\">«part  def»</text><text fill=\"#000000\" font-family=\"sans-serif\" font-size=\"12\" lengthAdjust=\"spacingAndGlyphs\" textLength=\"8\" x=\"140\" y=\"242.1074\">A</text><line style=\"stroke: #383838; stroke-width: 1.5;\" x1=\"110\" x2=\"178\" y1=\"249.9375\" y2=\"249.9375\"/></a><!--MD5=[60a26617385b1d2d0262a64233df1f8d]\n",
       "class E6--><a href=\"psysml:8ace276a-6fab-4d9f-9bdd-b9a7961474a1\" target=\"_top\" title=\"psysml:8ace276a-6fab-4d9f-9bdd-b9a7961474a1\" xlink:actuate=\"onRequest\" xlink:href=\"psysml:8ace276a-6fab-4d9f-9bdd-b9a7961474a1\" xlink:show=\"new\" xlink:title=\"psysml:8ace276a-6fab-4d9f-9bdd-b9a7961474a1\" xlink:type=\"simple\"><rect fill=\"#FFFFFF\" height=\"45.9375\" id=\"E6\" rx=\"10\" ry=\"10\" style=\"stroke: #383838; stroke-width: 1.5;\" width=\"42\" x=\"137\" y=\"87.5\"/><text fill=\"#000000\" font-family=\"sans-serif\" font-size=\"12\" font-style=\"italic\" lengthAdjust=\"spacingAndGlyphs\" textLength=\"40\" x=\"138\" y=\"103.6387\">«part»</text><text fill=\"#000000\" font-family=\"sans-serif\" font-size=\"12\" lengthAdjust=\"spacingAndGlyphs\" textLength=\"22\" x=\"145\" y=\"117.6074\">x: A</text><line style=\"stroke: #383838; stroke-width: 1.5;\" x1=\"138\" x2=\"178\" y1=\"125.4375\" y2=\"125.4375\"/></a><a href=\"psysml:b9f88b2a-f312-44cc-a9e4-c89396ff9243\" target=\"_top\" title=\"psysml:b9f88b2a-f312-44cc-a9e4-c89396ff9243\" xlink:actuate=\"onRequest\" xlink:href=\"psysml:b9f88b2a-f312-44cc-a9e4-c89396ff9243\" xlink:show=\"new\" xlink:title=\"psysml:b9f88b2a-f312-44cc-a9e4-c89396ff9243\" xlink:type=\"simple\"><polygon fill=\"#FFFFFF\" points=\"56,84,88,84,95,106.2969,102,106.2969,102,136.5938,56,136.5938,56,84\" style=\"stroke: #000000; stroke-width: 1.5;\"/><line style=\"stroke: #000000; stroke-width: 1.5;\" x1=\"56\" x2=\"95\" y1=\"106.2969\" y2=\"106.2969\"/><text fill=\"#000000\" font-family=\"sans-serif\" font-size=\"14\" font-weight=\"bold\" lengthAdjust=\"spacingAndGlyphs\" textLength=\"26\" x=\"60\" y=\"98.9951\">P2a</text></a><!--MD5=[a717450b82c80b9240a525fa862496af]\n",
       "link E6 to E3--><a href=\"psysml:3b068d74-51f4-4206-8ca3-dd0a14e18b44\" target=\"_top\" title=\"psysml:3b068d74-51f4-4206-8ca3-dd0a14e18b44\" xlink:actuate=\"onRequest\" xlink:href=\"psysml:3b068d74-51f4-4206-8ca3-dd0a14e18b44\" xlink:show=\"new\" xlink:title=\"psysml:3b068d74-51f4-4206-8ca3-dd0a14e18b44\" xlink:type=\"simple\"><path d=\"M158,133.63 C158,133.63 158,192 158,192 \" fill=\"none\" id=\"E6-&gt;E3\" style=\"stroke: #383838; stroke-width: 1.0;\"/><polygon fill=\"#FFFFFF\" points=\"158,212,151,193,165,193,158,212\" style=\"stroke: #383838; stroke-width: 1.0;\"/><ellipse cx=\"153\" cy=\"187.3\" fill=\"#383838\" rx=\"2\" ry=\"2\" style=\"stroke: #383838; stroke-width: 1.0;\"/><ellipse cx=\"163\" cy=\"187.3\" fill=\"#383838\" rx=\"2\" ry=\"2\" style=\"stroke: #383838; stroke-width: 1.0;\"/></a><!--MD5=[1d5c14045611bc1ac224b86d5b046989]\n",
       "@startuml\r\n",
       "skinparam linetype ortho\r\n",
       "skinparam monochrome true\r\n",
       "skinparam classbackgroundcolor white\r\n",
       "skinparam shadowing false\r\n",
       "skinparam wrapWidth 300\r\n",
       "hide circle\r\n",
       "\r\n",
       "package \"QualifiedNameImportTest\" as E1  [[psysml:a2205de8-88da-4a82-9d0c-530bb72328d3 ]]  {\r\n",
       "package \"P1\" as E2  [[psysml:e0b1ca8b-31cf-4033-8a32-a89f430be7de ]]  {\r\n",
       "comp def \"A\" as E3  <<(T,blue) part  def>> [[psysml:b95e347b-a360-4ede-8f45-88f4f6a9f0a4 ]] {\r\n",
       "}\r\n",
       "}\r\n",
       "package \"P2\" as E4  [[psysml:9d5af9ae-79ba-44ae-999f-9385e3e881ff ]]  {\r\n",
       "package \"P2a\" as E5  [[psysml:b9f88b2a-f312-44cc-a9e4-c89396ff9243 ]]  {\r\n",
       "}\r\n",
       "comp usage \"x: A \" as E6  <<(T,blue) part>> [[psysml:8ace276a-6fab-4d9f-9bdd-b9a7961474a1 ]] {\r\n",
       "}\r\n",
       "}\r\n",
       "}\r\n",
       "E6 - -:|> E3 [[psysml:3b068d74-51f4-4206-8ca3-dd0a14e18b44 ]] \r\n",
       "@enduml\r\n",
       "\n",
       "PlantUML version 1.2020.13(Sat Jun 13 12:26:38 UTC 2020)\n",
       "(EPL source distribution)\n",
       "Java Runtime: OpenJDK Runtime Environment\n",
       "JVM: OpenJDK 64-Bit Server VM\n",
       "Default Encoding: UTF-8\n",
       "Language: en\n",
       "Country: null\n",
       "--></g></svg>"
      ]
     },
     "execution_count": 52,
     "metadata": {},
     "output_type": "execute_result"
    }
   ],
   "source": [
    "%viz --style=\"ORTHOLINE\" --view=\"Tree\" \"QualifiedNameImportTest\""
   ]
  },
  {
   "cell_type": "code",
   "execution_count": 53,
   "id": "66b2a239",
   "metadata": {
    "execution": {
     "iopub.execute_input": "2021-10-25T08:23:46.711579Z",
     "iopub.status.busy": "2021-10-25T08:23:46.711163Z",
     "iopub.status.idle": "2021-10-25T08:23:46.716652Z",
     "shell.execute_reply": "2021-10-25T08:23:46.716954Z"
    }
   },
   "outputs": [
    {
     "data": {
      "image/svg+xml": [
       "<?xml version=\"1.0\" encoding=\"UTF-8\" standalone=\"no\"?><svg xmlns=\"http://www.w3.org/2000/svg\" xmlns:xlink=\"http://www.w3.org/1999/xlink\" contentScriptType=\"application/ecmascript\" contentStyleType=\"text/css\" height=\"12px\" preserveAspectRatio=\"none\" style=\"width:12px;height:12px;\" version=\"1.1\" viewBox=\"0 0 12 12\" width=\"12px\" zoomAndPan=\"magnify\"><defs/><g><!--MD5=[97d6f38768b311333d388e66b2b27985]\n",
       "@startuml\r\n",
       "skinparam linetype ortho\r\n",
       "skinparam monochrome true\r\n",
       "skinparam classbackgroundcolor white\r\n",
       "skinparam shadowing false\r\n",
       "skinparam wrapWidth 300\r\n",
       "hide circle\r\n",
       "\r\n",
       "@enduml\r\n",
       "\n",
       "PlantUML version 1.2020.13(Sat Jun 13 12:26:38 UTC 2020)\n",
       "(EPL source distribution)\n",
       "Java Runtime: OpenJDK Runtime Environment\n",
       "JVM: OpenJDK 64-Bit Server VM\n",
       "Default Encoding: UTF-8\n",
       "Language: en\n",
       "Country: null\n",
       "--></g></svg>"
      ]
     },
     "execution_count": 53,
     "metadata": {},
     "output_type": "execute_result"
    }
   ],
   "source": [
    "%viz --style=\"ORTHOLINE\" --view=\"State\" \"QualifiedNameImportTest\""
   ]
  },
  {
   "cell_type": "code",
   "execution_count": 54,
   "id": "de54fe77",
   "metadata": {
    "execution": {
     "iopub.execute_input": "2021-10-25T08:23:46.766142Z",
     "iopub.status.busy": "2021-10-25T08:23:46.765732Z",
     "iopub.status.idle": "2021-10-25T08:23:46.794790Z",
     "shell.execute_reply": "2021-10-25T08:23:46.793034Z"
    }
   },
   "outputs": [
    {
     "data": {
      "image/svg+xml": [
       "<?xml version=\"1.0\" encoding=\"UTF-8\" standalone=\"no\"?><svg xmlns=\"http://www.w3.org/2000/svg\" xmlns:xlink=\"http://www.w3.org/1999/xlink\" contentScriptType=\"application/ecmascript\" contentStyleType=\"text/css\" height=\"189px\" preserveAspectRatio=\"none\" style=\"width:379px;height:189px;\" version=\"1.1\" viewBox=\"0 0 379 189\" width=\"379px\" zoomAndPan=\"magnify\"><defs/><g><!--MD5=[fbc87193dbaf4d95561dea2c320d4a47]\n",
       "cluster E1--><a href=\"psysml:a2205de8-88da-4a82-9d0c-530bb72328d3\" target=\"_top\" title=\"psysml:a2205de8-88da-4a82-9d0c-530bb72328d3\" xlink:actuate=\"onRequest\" xlink:href=\"psysml:a2205de8-88da-4a82-9d0c-530bb72328d3\" xlink:show=\"new\" xlink:title=\"psysml:a2205de8-88da-4a82-9d0c-530bb72328d3\" xlink:type=\"simple\"><polygon fill=\"#FFFFFF\" points=\"16,6,196,6,203,28.2969,357,28.2969,357,177,16,177,16,6\" style=\"stroke: #000000; stroke-width: 1.5;\"/><line style=\"stroke: #000000; stroke-width: 1.5;\" x1=\"16\" x2=\"203\" y1=\"28.2969\" y2=\"28.2969\"/><text fill=\"#000000\" font-family=\"sans-serif\" font-size=\"14\" font-weight=\"bold\" lengthAdjust=\"spacingAndGlyphs\" textLength=\"174\" x=\"20\" y=\"20.9951\">QualifiedNameImportTest</text></a><!--MD5=[e4f7fae6ed58524ba242bb0b0d3be6b7]\n",
       "cluster E2--><a href=\"psysml:e0b1ca8b-31cf-4033-8a32-a89f430be7de\" target=\"_top\" title=\"psysml:e0b1ca8b-31cf-4033-8a32-a89f430be7de\" xlink:actuate=\"onRequest\" xlink:href=\"psysml:e0b1ca8b-31cf-4033-8a32-a89f430be7de\" xlink:show=\"new\" xlink:title=\"psysml:e0b1ca8b-31cf-4033-8a32-a89f430be7de\" xlink:type=\"simple\"><polygon fill=\"#FFFFFF\" points=\"227,54,251,54,258,76.2969,333,76.2969,333,148,227,148,227,54\" style=\"stroke: #000000; stroke-width: 1.5;\"/><line style=\"stroke: #000000; stroke-width: 1.5;\" x1=\"227\" x2=\"258\" y1=\"76.2969\" y2=\"76.2969\"/><text fill=\"#000000\" font-family=\"sans-serif\" font-size=\"14\" font-weight=\"bold\" lengthAdjust=\"spacingAndGlyphs\" textLength=\"18\" x=\"231\" y=\"68.9951\">P1</text></a><!--MD5=[f6df4d0ebaf0b5dfb2ced0ae5af7c670]\n",
       "cluster E4--><a href=\"psysml:9d5af9ae-79ba-44ae-999f-9385e3e881ff\" target=\"_top\" title=\"psysml:9d5af9ae-79ba-44ae-999f-9385e3e881ff\" xlink:actuate=\"onRequest\" xlink:href=\"psysml:9d5af9ae-79ba-44ae-999f-9385e3e881ff\" xlink:show=\"new\" xlink:title=\"psysml:9d5af9ae-79ba-44ae-999f-9385e3e881ff\" xlink:type=\"simple\"><polygon fill=\"#FFFFFF\" points=\"40,49,64,49,71,71.2969,203,71.2969,203,153,40,153,40,49\" style=\"stroke: #000000; stroke-width: 1.5;\"/><line style=\"stroke: #000000; stroke-width: 1.5;\" x1=\"40\" x2=\"71\" y1=\"71.2969\" y2=\"71.2969\"/><text fill=\"#000000\" font-family=\"sans-serif\" font-size=\"14\" font-weight=\"bold\" lengthAdjust=\"spacingAndGlyphs\" textLength=\"18\" x=\"44\" y=\"63.9951\">P2</text></a><g id=\"E1.E2.E3\"><a href=\"psysml:b95e347b-a360-4ede-8f45-88f4f6a9f0a4\" target=\"_top\" title=\"psysml:b95e347b-a360-4ede-8f45-88f4f6a9f0a4\" xlink:actuate=\"onRequest\" xlink:href=\"psysml:b95e347b-a360-4ede-8f45-88f4f6a9f0a4\" xlink:show=\"new\" xlink:title=\"psysml:b95e347b-a360-4ede-8f45-88f4f6a9f0a4\" xlink:type=\"simple\"><rect fill=\"#FFFFFF\" height=\"42.9375\" id=\"E3\" style=\"stroke: #383838; stroke-width: 1.5;\" width=\"75\" x=\"242.5\" y=\"89\"/><rect fill=\"#F8F8F8\" height=\"37.9375\" style=\"stroke: #383838; stroke-width: 1.5;\" width=\"75\" x=\"242.5\" y=\"89\"/><text fill=\"#000000\" font-family=\"sans-serif\" font-size=\"12\" font-style=\"italic\" lengthAdjust=\"spacingAndGlyphs\" textLength=\"68\" x=\"246\" y=\"105.1387\">«part  def»</text><text fill=\"#000000\" font-family=\"sans-serif\" font-size=\"12\" lengthAdjust=\"spacingAndGlyphs\" textLength=\"8\" x=\"276\" y=\"119.1074\">A</text></a></g><a href=\"psysml:b9f88b2a-f312-44cc-a9e4-c89396ff9243\" target=\"_top\" title=\"psysml:b9f88b2a-f312-44cc-a9e4-c89396ff9243\" xlink:actuate=\"onRequest\" xlink:href=\"psysml:b9f88b2a-f312-44cc-a9e4-c89396ff9243\" xlink:show=\"new\" xlink:title=\"psysml:b9f88b2a-f312-44cc-a9e4-c89396ff9243\" xlink:type=\"simple\"><polygon fill=\"#FFFFFF\" points=\"141,84,173,84,180,106.2969,187,106.2969,187,136.5938,141,136.5938,141,84\" style=\"stroke: #000000; stroke-width: 1.5;\"/><line style=\"stroke: #000000; stroke-width: 1.5;\" x1=\"141\" x2=\"180\" y1=\"106.2969\" y2=\"106.2969\"/><text fill=\"#000000\" font-family=\"sans-serif\" font-size=\"14\" font-weight=\"bold\" lengthAdjust=\"spacingAndGlyphs\" textLength=\"26\" x=\"145\" y=\"98.9951\">P2a</text></a><g id=\"E1.E4.E6\"><a href=\"psysml:8ace276a-6fab-4d9f-9bdd-b9a7961474a1\" target=\"_top\" title=\"psysml:8ace276a-6fab-4d9f-9bdd-b9a7961474a1\" xlink:actuate=\"onRequest\" xlink:href=\"psysml:8ace276a-6fab-4d9f-9bdd-b9a7961474a1\" xlink:show=\"new\" xlink:title=\"psysml:8ace276a-6fab-4d9f-9bdd-b9a7961474a1\" xlink:type=\"simple\"><rect fill=\"#FFFFFF\" height=\"40\" id=\"E6\" rx=\"10\" ry=\"10\" style=\"stroke: #383838; stroke-width: 1.5;\" width=\"50\" x=\"56\" y=\"90.5\"/><rect fill=\"#F8F8F8\" height=\"23.9688\" rx=\"10\" ry=\"10\" style=\"stroke: #F8F8F8; stroke-width: 1.5;\" width=\"50\" x=\"56\" y=\"90.5\"/><rect fill=\"#F8F8F8\" height=\"10\" style=\"stroke: #F8F8F8; stroke-width: 1.5;\" width=\"50\" x=\"56\" y=\"104.4688\"/><rect fill=\"none\" height=\"40\" id=\"E6\" rx=\"10\" ry=\"10\" style=\"stroke: #383838; stroke-width: 1.5;\" width=\"50\" x=\"56\" y=\"90.5\"/><text fill=\"#000000\" font-family=\"sans-serif\" font-size=\"12\" lengthAdjust=\"spacingAndGlyphs\" textLength=\"22\" x=\"70\" y=\"106.6387\">x: A</text></a></g><!--MD5=[14ee1559bb9aef1e7a9bc27c35ba7be5]\n",
       "@startuml\r\n",
       "skinparam ranksep 10\r\n",
       "skinparam rectangle {\r\n",
       " backgroundColor<<block>> LightGreen\r\n",
       "}\r\n",
       "skinparam linetype ortho\r\n",
       "skinparam monochrome true\r\n",
       "skinparam classbackgroundcolor white\r\n",
       "skinparam shadowing false\r\n",
       "skinparam wrapWidth 300\r\n",
       "hide circle\r\n",
       "\r\n",
       "package \"QualifiedNameImportTest\" as E1  [[psysml:a2205de8-88da-4a82-9d0c-530bb72328d3 ]]  {\r\n",
       "package \"P1\" as E2  [[psysml:e0b1ca8b-31cf-4033-8a32-a89f430be7de ]]  {\r\n",
       "rec def \"A\" as E3  <<(T,blue) part  def>> [[psysml:b95e347b-a360-4ede-8f45-88f4f6a9f0a4 ]] {\r\n",
       "}\r\n",
       "}\r\n",
       "package \"P2\" as E4  [[psysml:9d5af9ae-79ba-44ae-999f-9385e3e881ff ]]  {\r\n",
       "package \"P2a\" as E5  [[psysml:b9f88b2a-f312-44cc-a9e4-c89396ff9243 ]]  {\r\n",
       "}\r\n",
       "rec usage \"x: A\" as E6  [[psysml:8ace276a-6fab-4d9f-9bdd-b9a7961474a1 ]] {\r\n",
       "}\r\n",
       "}\r\n",
       "}\r\n",
       "@enduml\r\n",
       "\n",
       "PlantUML version 1.2020.13(Sat Jun 13 12:26:38 UTC 2020)\n",
       "(EPL source distribution)\n",
       "Java Runtime: OpenJDK Runtime Environment\n",
       "JVM: OpenJDK 64-Bit Server VM\n",
       "Default Encoding: UTF-8\n",
       "Language: en\n",
       "Country: null\n",
       "--></g></svg>"
      ]
     },
     "execution_count": 54,
     "metadata": {},
     "output_type": "execute_result"
    }
   ],
   "source": [
    "%viz --style=\"ORTHOLINE\" --view=\"Interconnection\" \"QualifiedNameImportTest\""
   ]
  },
  {
   "cell_type": "code",
   "execution_count": 55,
   "id": "0085bfa3",
   "metadata": {
    "execution": {
     "iopub.execute_input": "2021-10-25T08:23:46.843981Z",
     "iopub.status.busy": "2021-10-25T08:23:46.843550Z",
     "iopub.status.idle": "2021-10-25T08:23:46.849483Z",
     "shell.execute_reply": "2021-10-25T08:23:46.849125Z"
    }
   },
   "outputs": [
    {
     "data": {
      "image/svg+xml": [
       "<?xml version=\"1.0\" encoding=\"UTF-8\" standalone=\"no\"?><svg xmlns=\"http://www.w3.org/2000/svg\" xmlns:xlink=\"http://www.w3.org/1999/xlink\" contentScriptType=\"application/ecmascript\" contentStyleType=\"text/css\" height=\"12px\" preserveAspectRatio=\"none\" style=\"width:12px;height:12px;\" version=\"1.1\" viewBox=\"0 0 12 12\" width=\"12px\" zoomAndPan=\"magnify\"><defs/><g><!--MD5=[72934c63077099a26744516a776b4749]\n",
       "@startuml\r\n",
       "skinparam ranksep 8\r\n",
       "skinparam linetype ortho\r\n",
       "skinparam monochrome true\r\n",
       "skinparam classbackgroundcolor white\r\n",
       "skinparam shadowing false\r\n",
       "skinparam wrapWidth 300\r\n",
       "hide circle\r\n",
       "\r\n",
       "@enduml\r\n",
       "\n",
       "PlantUML version 1.2020.13(Sat Jun 13 12:26:38 UTC 2020)\n",
       "(EPL source distribution)\n",
       "Java Runtime: OpenJDK Runtime Environment\n",
       "JVM: OpenJDK 64-Bit Server VM\n",
       "Default Encoding: UTF-8\n",
       "Language: en\n",
       "Country: null\n",
       "--></g></svg>"
      ]
     },
     "execution_count": 55,
     "metadata": {},
     "output_type": "execute_result"
    }
   ],
   "source": [
    "%viz --style=\"ORTHOLINE\" --view=\"Action\" \"QualifiedNameImportTest\""
   ]
  },
  {
   "cell_type": "code",
   "execution_count": 56,
   "id": "c6feaa00",
   "metadata": {
    "execution": {
     "iopub.execute_input": "2021-10-25T08:23:46.899372Z",
     "iopub.status.busy": "2021-10-25T08:23:46.898916Z",
     "iopub.status.idle": "2021-10-25T08:23:46.904990Z",
     "shell.execute_reply": "2021-10-25T08:23:46.904646Z"
    }
   },
   "outputs": [
    {
     "data": {
      "image/svg+xml": [
       "<?xml version=\"1.0\" encoding=\"UTF-8\" standalone=\"no\"?><svg xmlns=\"http://www.w3.org/2000/svg\" xmlns:xlink=\"http://www.w3.org/1999/xlink\" contentScriptType=\"application/ecmascript\" contentStyleType=\"text/css\" height=\"12px\" preserveAspectRatio=\"none\" style=\"width:12px;height:12px;\" version=\"1.1\" viewBox=\"0 0 12 12\" width=\"12px\" zoomAndPan=\"magnify\"><defs/><g><!--MD5=[30fc1de5121c5abddedd55b44417fde8]\n",
       "@startuml\r\n",
       "skinparam roundcorner 20\r\n",
       "skinparam BoxPadding 20\r\n",
       "skinparam SequenceBoxBackgroundColor #white\r\n",
       "skinparam style strictuml\r\n",
       "skinparam maxMessageSize 100\r\n",
       "skinparam linetype ortho\r\n",
       "skinparam monochrome true\r\n",
       "skinparam classbackgroundcolor white\r\n",
       "skinparam shadowing false\r\n",
       "skinparam wrapWidth 300\r\n",
       "hide circle\r\n",
       "\r\n",
       "@enduml\r\n",
       "\n",
       "PlantUML version 1.2020.13(Sat Jun 13 12:26:38 UTC 2020)\n",
       "(EPL source distribution)\n",
       "Java Runtime: OpenJDK Runtime Environment\n",
       "JVM: OpenJDK 64-Bit Server VM\n",
       "Default Encoding: UTF-8\n",
       "Language: en\n",
       "Country: null\n",
       "--></g></svg>"
      ]
     },
     "execution_count": 56,
     "metadata": {},
     "output_type": "execute_result"
    }
   ],
   "source": [
    "%viz --style=\"ORTHOLINE\" --view=\"Sequence\" \"QualifiedNameImportTest\""
   ]
  },
  {
   "cell_type": "code",
   "execution_count": 57,
   "id": "0d60bb29",
   "metadata": {
    "execution": {
     "iopub.execute_input": "2021-10-25T08:23:46.954661Z",
     "iopub.status.busy": "2021-10-25T08:23:46.954239Z",
     "iopub.status.idle": "2021-10-25T08:23:46.983020Z",
     "shell.execute_reply": "2021-10-25T08:23:46.981239Z"
    }
   },
   "outputs": [
    {
     "data": {
      "image/svg+xml": [
       "<?xml version=\"1.0\" encoding=\"UTF-8\" standalone=\"no\"?><svg xmlns=\"http://www.w3.org/2000/svg\" xmlns:xlink=\"http://www.w3.org/1999/xlink\" contentScriptType=\"application/ecmascript\" contentStyleType=\"text/css\" height=\"310px\" preserveAspectRatio=\"none\" style=\"width:241px;height:310px;\" version=\"1.1\" viewBox=\"0 0 241 310\" width=\"241px\" zoomAndPan=\"magnify\"><defs/><g><!--MD5=[fbc87193dbaf4d95561dea2c320d4a47]\n",
       "cluster E1--><a href=\"psysml:a2205de8-88da-4a82-9d0c-530bb72328d3\" target=\"_top\" title=\"psysml:a2205de8-88da-4a82-9d0c-530bb72328d3\" xlink:actuate=\"onRequest\" xlink:href=\"psysml:a2205de8-88da-4a82-9d0c-530bb72328d3\" xlink:show=\"new\" xlink:title=\"psysml:a2205de8-88da-4a82-9d0c-530bb72328d3\" xlink:type=\"simple\"><polygon fill=\"#FFFFFF\" points=\"16,6,196,6,203,28.2969,219,28.2969,219,298,16,298,16,6\" style=\"stroke: #000000; stroke-width: 1.5;\"/><line style=\"stroke: #000000; stroke-width: 1.5;\" x1=\"16\" x2=\"203\" y1=\"28.2969\" y2=\"28.2969\"/><text fill=\"#000000\" font-family=\"sans-serif\" font-size=\"14\" font-weight=\"bold\" lengthAdjust=\"spacingAndGlyphs\" textLength=\"174\" x=\"20\" y=\"20.9951\">QualifiedNameImportTest</text></a><!--MD5=[e4f7fae6ed58524ba242bb0b0d3be6b7]\n",
       "cluster E2--><a href=\"psysml:e0b1ca8b-31cf-4033-8a32-a89f430be7de\" target=\"_top\" title=\"psysml:e0b1ca8b-31cf-4033-8a32-a89f430be7de\" xlink:actuate=\"onRequest\" xlink:href=\"psysml:e0b1ca8b-31cf-4033-8a32-a89f430be7de\" xlink:show=\"new\" xlink:title=\"psysml:e0b1ca8b-31cf-4033-8a32-a89f430be7de\" xlink:type=\"simple\"><polygon fill=\"#FFFFFF\" points=\"93,177,117,177,124,199.2969,195,199.2969,195,274,93,274,93,177\" style=\"stroke: #000000; stroke-width: 1.5;\"/><line style=\"stroke: #000000; stroke-width: 1.5;\" x1=\"93\" x2=\"124\" y1=\"199.2969\" y2=\"199.2969\"/><text fill=\"#000000\" font-family=\"sans-serif\" font-size=\"14\" font-weight=\"bold\" lengthAdjust=\"spacingAndGlyphs\" textLength=\"18\" x=\"97\" y=\"191.9951\">P1</text></a><!--MD5=[f6df4d0ebaf0b5dfb2ced0ae5af7c670]\n",
       "cluster E4--><a href=\"psysml:9d5af9ae-79ba-44ae-999f-9385e3e881ff\" target=\"_top\" title=\"psysml:9d5af9ae-79ba-44ae-999f-9385e3e881ff\" xlink:actuate=\"onRequest\" xlink:href=\"psysml:9d5af9ae-79ba-44ae-999f-9385e3e881ff\" xlink:show=\"new\" xlink:title=\"psysml:9d5af9ae-79ba-44ae-999f-9385e3e881ff\" xlink:type=\"simple\"><polygon fill=\"#FFFFFF\" points=\"40,49,64,49,71,71.2969,195,71.2969,195,153,40,153,40,49\" style=\"stroke: #000000; stroke-width: 1.5;\"/><line style=\"stroke: #000000; stroke-width: 1.5;\" x1=\"40\" x2=\"71\" y1=\"71.2969\" y2=\"71.2969\"/><text fill=\"#000000\" font-family=\"sans-serif\" font-size=\"14\" font-weight=\"bold\" lengthAdjust=\"spacingAndGlyphs\" textLength=\"18\" x=\"44\" y=\"63.9951\">P2</text></a><!--MD5=[09b614a08d8cba4a07c9adeb5e0fee81]\n",
       "class E3--><a href=\"psysml:b95e347b-a360-4ede-8f45-88f4f6a9f0a4\" target=\"_top\" title=\"psysml:b95e347b-a360-4ede-8f45-88f4f6a9f0a4\" xlink:actuate=\"onRequest\" xlink:href=\"psysml:b95e347b-a360-4ede-8f45-88f4f6a9f0a4\" xlink:show=\"new\" xlink:title=\"psysml:b95e347b-a360-4ede-8f45-88f4f6a9f0a4\" xlink:type=\"simple\"><rect fill=\"#FFFFFF\" height=\"45.9375\" id=\"E3\" style=\"stroke: #383838; stroke-width: 1.5;\" width=\"70\" x=\"109\" y=\"212\"/><text fill=\"#000000\" font-family=\"sans-serif\" font-size=\"12\" font-style=\"italic\" lengthAdjust=\"spacingAndGlyphs\" textLength=\"68\" x=\"110\" y=\"228.1387\">«part  def»</text><text fill=\"#000000\" font-family=\"sans-serif\" font-size=\"12\" lengthAdjust=\"spacingAndGlyphs\" textLength=\"8\" x=\"140\" y=\"242.1074\">A</text><line style=\"stroke: #383838; stroke-width: 1.5;\" x1=\"110\" x2=\"178\" y1=\"249.9375\" y2=\"249.9375\"/></a><!--MD5=[60a26617385b1d2d0262a64233df1f8d]\n",
       "class E6--><a href=\"psysml:8ace276a-6fab-4d9f-9bdd-b9a7961474a1\" target=\"_top\" title=\"psysml:8ace276a-6fab-4d9f-9bdd-b9a7961474a1\" xlink:actuate=\"onRequest\" xlink:href=\"psysml:8ace276a-6fab-4d9f-9bdd-b9a7961474a1\" xlink:show=\"new\" xlink:title=\"psysml:8ace276a-6fab-4d9f-9bdd-b9a7961474a1\" xlink:type=\"simple\"><rect fill=\"#FFFFFF\" height=\"45.9375\" id=\"E6\" rx=\"10\" ry=\"10\" style=\"stroke: #383838; stroke-width: 1.5;\" width=\"42\" x=\"137\" y=\"87.5\"/><text fill=\"#000000\" font-family=\"sans-serif\" font-size=\"12\" font-style=\"italic\" lengthAdjust=\"spacingAndGlyphs\" textLength=\"40\" x=\"138\" y=\"103.6387\">«part»</text><text fill=\"#000000\" font-family=\"sans-serif\" font-size=\"12\" lengthAdjust=\"spacingAndGlyphs\" textLength=\"22\" x=\"145\" y=\"117.6074\">x: A</text><line style=\"stroke: #383838; stroke-width: 1.5;\" x1=\"138\" x2=\"178\" y1=\"125.4375\" y2=\"125.4375\"/></a><a href=\"psysml:b9f88b2a-f312-44cc-a9e4-c89396ff9243\" target=\"_top\" title=\"psysml:b9f88b2a-f312-44cc-a9e4-c89396ff9243\" xlink:actuate=\"onRequest\" xlink:href=\"psysml:b9f88b2a-f312-44cc-a9e4-c89396ff9243\" xlink:show=\"new\" xlink:title=\"psysml:b9f88b2a-f312-44cc-a9e4-c89396ff9243\" xlink:type=\"simple\"><polygon fill=\"#FFFFFF\" points=\"56,84,88,84,95,106.2969,102,106.2969,102,136.5938,56,136.5938,56,84\" style=\"stroke: #000000; stroke-width: 1.5;\"/><line style=\"stroke: #000000; stroke-width: 1.5;\" x1=\"56\" x2=\"95\" y1=\"106.2969\" y2=\"106.2969\"/><text fill=\"#000000\" font-family=\"sans-serif\" font-size=\"14\" font-weight=\"bold\" lengthAdjust=\"spacingAndGlyphs\" textLength=\"26\" x=\"60\" y=\"98.9951\">P2a</text></a><!--MD5=[a717450b82c80b9240a525fa862496af]\n",
       "link E6 to E3--><a href=\"psysml:3b068d74-51f4-4206-8ca3-dd0a14e18b44\" target=\"_top\" title=\"psysml:3b068d74-51f4-4206-8ca3-dd0a14e18b44\" xlink:actuate=\"onRequest\" xlink:href=\"psysml:3b068d74-51f4-4206-8ca3-dd0a14e18b44\" xlink:show=\"new\" xlink:title=\"psysml:3b068d74-51f4-4206-8ca3-dd0a14e18b44\" xlink:type=\"simple\"><path d=\"M158,133.63 C158,133.63 158,192 158,192 \" fill=\"none\" id=\"E6-&gt;E3\" style=\"stroke: #383838; stroke-width: 1.0;\"/><polygon fill=\"#FFFFFF\" points=\"158,212,151,193,165,193,158,212\" style=\"stroke: #383838; stroke-width: 1.0;\"/><ellipse cx=\"153\" cy=\"187.3\" fill=\"#383838\" rx=\"2\" ry=\"2\" style=\"stroke: #383838; stroke-width: 1.0;\"/><ellipse cx=\"163\" cy=\"187.3\" fill=\"#383838\" rx=\"2\" ry=\"2\" style=\"stroke: #383838; stroke-width: 1.0;\"/></a><!--MD5=[1d5c14045611bc1ac224b86d5b046989]\n",
       "@startuml\r\n",
       "skinparam linetype ortho\r\n",
       "skinparam monochrome true\r\n",
       "skinparam classbackgroundcolor white\r\n",
       "skinparam shadowing false\r\n",
       "skinparam wrapWidth 300\r\n",
       "hide circle\r\n",
       "\r\n",
       "package \"QualifiedNameImportTest\" as E1  [[psysml:a2205de8-88da-4a82-9d0c-530bb72328d3 ]]  {\r\n",
       "package \"P1\" as E2  [[psysml:e0b1ca8b-31cf-4033-8a32-a89f430be7de ]]  {\r\n",
       "comp def \"A\" as E3  <<(T,blue) part  def>> [[psysml:b95e347b-a360-4ede-8f45-88f4f6a9f0a4 ]] {\r\n",
       "}\r\n",
       "}\r\n",
       "package \"P2\" as E4  [[psysml:9d5af9ae-79ba-44ae-999f-9385e3e881ff ]]  {\r\n",
       "package \"P2a\" as E5  [[psysml:b9f88b2a-f312-44cc-a9e4-c89396ff9243 ]]  {\r\n",
       "}\r\n",
       "comp usage \"x: A \" as E6  <<(T,blue) part>> [[psysml:8ace276a-6fab-4d9f-9bdd-b9a7961474a1 ]] {\r\n",
       "}\r\n",
       "}\r\n",
       "}\r\n",
       "E6 - -:|> E3 [[psysml:3b068d74-51f4-4206-8ca3-dd0a14e18b44 ]] \r\n",
       "@enduml\r\n",
       "\n",
       "PlantUML version 1.2020.13(Sat Jun 13 12:26:38 UTC 2020)\n",
       "(EPL source distribution)\n",
       "Java Runtime: OpenJDK Runtime Environment\n",
       "JVM: OpenJDK 64-Bit Server VM\n",
       "Default Encoding: UTF-8\n",
       "Language: en\n",
       "Country: null\n",
       "--></g></svg>"
      ]
     },
     "execution_count": 57,
     "metadata": {},
     "output_type": "execute_result"
    }
   ],
   "source": [
    "%viz --style=\"ORTHOLINE\" --view=\"MIXED\" \"QualifiedNameImportTest\""
   ]
  }
 ],
 "metadata": {
  "kernelspec": {
   "display_name": "SysML",
   "language": "sysml",
   "name": "sysml"
  },
  "language_info": {
   "codemirror_mode": "sysml",
   "file_extension": ".sysml",
   "mimetype": "text/x-sysml",
   "name": "SysML",
   "pygments_lexer": "java",
   "version": "1.0.0"
  }
 },
 "nbformat": 4,
 "nbformat_minor": 5
}
