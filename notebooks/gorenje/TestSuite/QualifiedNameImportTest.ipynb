{
 "cells": [
  {
   "cell_type": "markdown",
   "id": "51ecc8c9",
   "metadata": {},
   "source": [
    "# SysML v2 Test Suite\n",
    "\n",
    "This can notebook can be cleared using menu `Edit --> Clear All Outputs` and then all cells can be\n",
    "run using menu `Run --> Run All Cells`.\n",
    "\n",
    "**WARNING**: This file is generated, all modifications here will be ignored.\n"
   ]
  },
  {
   "cell_type": "markdown",
   "id": "bfde6494",
   "metadata": {},
   "source": [
    "## File: ../../sysml/src/examples/Import Tests/QualifiedNameImportTest.sysml"
   ]
  },
  {
   "cell_type": "code",
   "execution_count": 1,
   "id": "ffd26201",
   "metadata": {
    "execution": {
     "iopub.execute_input": "2021-04-20T07:30:57.700297Z",
     "iopub.status.busy": "2021-04-20T07:30:57.699768Z",
     "iopub.status.idle": "2021-04-20T07:30:57.837017Z",
     "shell.execute_reply": "2021-04-20T07:30:57.836372Z"
    }
   },
   "outputs": [
    {
     "data": {
      "text/plain": [
       "Package QualifiedNameImportTest (eac881e4-d21e-4900-9cd4-47ff5a4868a6)\n"
      ]
     },
     "execution_count": 1,
     "metadata": {},
     "output_type": "execute_result"
    }
   ],
   "source": [
    "package QualifiedNameImportTest {\n",
    "\tpackage P1 {\n",
    "\t\tpart def A;\n",
    "\t}\n",
    "\tpackage P2 {\n",
    "\t\tpackage P2a {\n",
    "\t\t\timport P1::*;\n",
    "\t\t}\n",
    "\t\t// The following should not fail.\n",
    "\t\t// A is a member of P2a because of the import.\n",
    "\t\tpart x: P2a::A;\n",
    "\t}\n",
    "}"
   ]
  },
  {
   "cell_type": "code",
   "execution_count": 2,
   "id": "c5365a4f",
   "metadata": {
    "execution": {
     "iopub.execute_input": "2021-04-20T07:30:57.890110Z",
     "iopub.status.busy": "2021-04-20T07:30:57.888761Z",
     "iopub.status.idle": "2021-04-20T07:30:58.652335Z",
     "shell.execute_reply": "2021-04-20T07:30:58.652772Z"
    }
   },
   "outputs": [
    {
     "data": {
      "image/svg+xml": [
       "<?xml version=\"1.0\" encoding=\"UTF-8\" standalone=\"no\"?><svg xmlns=\"http://www.w3.org/2000/svg\" xmlns:xlink=\"http://www.w3.org/1999/xlink\" contentScriptType=\"application/ecmascript\" contentStyleType=\"text/css\" height=\"310px\" preserveAspectRatio=\"none\" style=\"width:253px;height:310px;\" version=\"1.1\" viewBox=\"0 0 253 310\" width=\"253px\" zoomAndPan=\"magnify\"><defs/><g><!--MD5=[fbc87193dbaf4d95561dea2c320d4a47]\n",
       "cluster E1--><a href=\"psysml:3aea7368-2129-476d-92d7-ea1a60089676\" target=\"_top\" title=\"psysml:3aea7368-2129-476d-92d7-ea1a60089676\" xlink:actuate=\"onRequest\" xlink:href=\"psysml:3aea7368-2129-476d-92d7-ea1a60089676\" xlink:show=\"new\" xlink:title=\"psysml:3aea7368-2129-476d-92d7-ea1a60089676\" xlink:type=\"simple\"><polygon fill=\"#FFFFFF\" points=\"16,6,221,6,228,28.2969,231,28.2969,231,298,16,298,16,6\" style=\"stroke: #000000; stroke-width: 1.5;\"/><line style=\"stroke: #000000; stroke-width: 1.5;\" x1=\"16\" x2=\"228\" y1=\"28.2969\" y2=\"28.2969\"/><text fill=\"#000000\" font-family=\"sans-serif\" font-size=\"14\" font-weight=\"bold\" lengthAdjust=\"spacingAndGlyphs\" textLength=\"199\" x=\"20\" y=\"20.9951\">QualifiedNameImportTest</text></a><!--MD5=[e4f7fae6ed58524ba242bb0b0d3be6b7]\n",
       "cluster E2--><a href=\"psysml:a60b7189-47ac-4303-8a81-d977466f28db\" target=\"_top\" title=\"psysml:a60b7189-47ac-4303-8a81-d977466f28db\" xlink:actuate=\"onRequest\" xlink:href=\"psysml:a60b7189-47ac-4303-8a81-d977466f28db\" xlink:show=\"new\" xlink:title=\"psysml:a60b7189-47ac-4303-8a81-d977466f28db\" xlink:type=\"simple\"><polygon fill=\"#FFFFFF\" points=\"105,177,131,177,138,199.2969,203,199.2969,203,274,105,274,105,177\" style=\"stroke: #000000; stroke-width: 1.5;\"/><line style=\"stroke: #000000; stroke-width: 1.5;\" x1=\"105\" x2=\"138\" y1=\"199.2969\" y2=\"199.2969\"/><text fill=\"#000000\" font-family=\"sans-serif\" font-size=\"14\" font-weight=\"bold\" lengthAdjust=\"spacingAndGlyphs\" textLength=\"20\" x=\"109\" y=\"191.9951\">P1</text></a><!--MD5=[f6df4d0ebaf0b5dfb2ced0ae5af7c670]\n",
       "cluster E4--><a href=\"psysml:ba53b2aa-0756-4dc5-85cd-737c1d1d7585\" target=\"_top\" title=\"psysml:ba53b2aa-0756-4dc5-85cd-737c1d1d7585\" xlink:actuate=\"onRequest\" xlink:href=\"psysml:ba53b2aa-0756-4dc5-85cd-737c1d1d7585\" xlink:show=\"new\" xlink:title=\"psysml:ba53b2aa-0756-4dc5-85cd-737c1d1d7585\" xlink:type=\"simple\"><polygon fill=\"#FFFFFF\" points=\"44,49,70,49,77,71.2969,203,71.2969,203,153,44,153,44,49\" style=\"stroke: #000000; stroke-width: 1.5;\"/><line style=\"stroke: #000000; stroke-width: 1.5;\" x1=\"44\" x2=\"77\" y1=\"71.2969\" y2=\"71.2969\"/><text fill=\"#000000\" font-family=\"sans-serif\" font-size=\"14\" font-weight=\"bold\" lengthAdjust=\"spacingAndGlyphs\" textLength=\"20\" x=\"48\" y=\"63.9951\">P2</text></a><!--MD5=[09b614a08d8cba4a07c9adeb5e0fee81]\n",
       "class E3--><a href=\"psysml:f2420fd6-3670-4cc8-95b9-f254eed1f95d\" target=\"_top\" title=\"psysml:f2420fd6-3670-4cc8-95b9-f254eed1f95d\" xlink:actuate=\"onRequest\" xlink:href=\"psysml:f2420fd6-3670-4cc8-95b9-f254eed1f95d\" xlink:show=\"new\" xlink:title=\"psysml:f2420fd6-3670-4cc8-95b9-f254eed1f95d\" xlink:type=\"simple\"><rect fill=\"#FFFFFF\" height=\"45.9375\" id=\"E3\" style=\"stroke: #383838; stroke-width: 1.5;\" width=\"66\" x=\"121\" y=\"212\"/><text fill=\"#000000\" font-family=\"sans-serif\" font-size=\"12\" font-style=\"italic\" lengthAdjust=\"spacingAndGlyphs\" textLength=\"64\" x=\"122\" y=\"228.1387\">«part def»</text><text fill=\"#000000\" font-family=\"sans-serif\" font-size=\"12\" lengthAdjust=\"spacingAndGlyphs\" textLength=\"8\" x=\"150\" y=\"242.1074\">A</text><line style=\"stroke: #383838; stroke-width: 1.5;\" x1=\"122\" x2=\"186\" y1=\"249.9375\" y2=\"249.9375\"/></a><!--MD5=[60a26617385b1d2d0262a64233df1f8d]\n",
       "class E6--><a href=\"psysml:9a86ed13-d6c7-4ef9-9e5f-c3e51ac044b3\" target=\"_top\" title=\"psysml:9a86ed13-d6c7-4ef9-9e5f-c3e51ac044b3\" xlink:actuate=\"onRequest\" xlink:href=\"psysml:9a86ed13-d6c7-4ef9-9e5f-c3e51ac044b3\" xlink:show=\"new\" xlink:title=\"psysml:9a86ed13-d6c7-4ef9-9e5f-c3e51ac044b3\" xlink:type=\"simple\"><rect fill=\"#FFFFFF\" height=\"45.9375\" id=\"E6\" rx=\"10\" ry=\"10\" style=\"stroke: #383838; stroke-width: 1.5;\" width=\"42\" x=\"145\" y=\"87.5\"/><text fill=\"#000000\" font-family=\"sans-serif\" font-size=\"12\" font-style=\"italic\" lengthAdjust=\"spacingAndGlyphs\" textLength=\"40\" x=\"146\" y=\"103.6387\">«part»</text><text fill=\"#000000\" font-family=\"sans-serif\" font-size=\"12\" lengthAdjust=\"spacingAndGlyphs\" textLength=\"22\" x=\"155\" y=\"117.6074\">x: A</text><line style=\"stroke: #383838; stroke-width: 1.5;\" x1=\"146\" x2=\"186\" y1=\"125.4375\" y2=\"125.4375\"/></a><a href=\"psysml:e63557be-f486-40b8-b38f-45a287622fd5\" target=\"_top\" title=\"psysml:e63557be-f486-40b8-b38f-45a287622fd5\" xlink:actuate=\"onRequest\" xlink:href=\"psysml:e63557be-f486-40b8-b38f-45a287622fd5\" xlink:show=\"new\" xlink:title=\"psysml:e63557be-f486-40b8-b38f-45a287622fd5\" xlink:type=\"simple\"><polygon fill=\"#FFFFFF\" points=\"60.5,84,95.5,84,102.5,106.2969,109.5,106.2969,109.5,136.5938,60.5,136.5938,60.5,84\" style=\"stroke: #000000; stroke-width: 1.5;\"/><line style=\"stroke: #000000; stroke-width: 1.5;\" x1=\"60.5\" x2=\"102.5\" y1=\"106.2969\" y2=\"106.2969\"/><text fill=\"#000000\" font-family=\"sans-serif\" font-size=\"14\" font-weight=\"bold\" lengthAdjust=\"spacingAndGlyphs\" textLength=\"29\" x=\"64.5\" y=\"98.9951\">P2a</text></a><!--MD5=[a717450b82c80b9240a525fa862496af]\n",
       "link E6 to E3--><a href=\"psysml:9d868367-c6cc-4e4e-a580-36a1751bbca7\" target=\"_top\" title=\"psysml:9d868367-c6cc-4e4e-a580-36a1751bbca7\" xlink:actuate=\"onRequest\" xlink:href=\"psysml:9d868367-c6cc-4e4e-a580-36a1751bbca7\" xlink:show=\"new\" xlink:title=\"psysml:9d868367-c6cc-4e4e-a580-36a1751bbca7\" xlink:type=\"simple\"><path d=\"M163.83,133.68 C162.24,149.9 160.04,172.39 158.12,191.96 \" fill=\"none\" id=\"E6-&gt;E3\" style=\"stroke: #383838; stroke-width: 1.0;\"/><polygon fill=\"#FFFFFF\" points=\"156.16,211.98,151.0533,192.3861,164.986,193.7564,156.16,211.98\" style=\"stroke: #383838; stroke-width: 1.0;\"/><ellipse cx=\"153.6016\" cy=\"186.9092\" fill=\"#383838\" rx=\"2\" ry=\"2\" style=\"stroke: #383838; stroke-width: 1.0;\"/><ellipse cx=\"163.5535\" cy=\"187.888\" fill=\"#383838\" rx=\"2\" ry=\"2\" style=\"stroke: #383838; stroke-width: 1.0;\"/></a><!--MD5=[0d6e4695bb46942c9a2317ade43fcf9d]\n",
       "@startuml\r\n",
       " skinparam monochrome true\r\n",
       "skinparam classbackgroundcolor white\r\n",
       "skinparam shadowing false\r\n",
       "skinparam wrapWidth 300\r\n",
       "hide circle\r\n",
       "\r\n",
       "package \"QualifiedNameImportTest\" as E1  [[psysml:3aea7368-2129-476d-92d7-ea1a60089676 ]]  {\r\n",
       "package \"P1\" as E2  [[psysml:a60b7189-47ac-4303-8a81-d977466f28db ]]  {\r\n",
       "comp def \"A\" as E3  <<(T,blue)part def>> [[psysml:f2420fd6-3670-4cc8-95b9-f254eed1f95d ]] {\r\n",
       "}\r\n",
       "}\r\n",
       "package \"P2\" as E4  [[psysml:ba53b2aa-0756-4dc5-85cd-737c1d1d7585 ]]  {\r\n",
       "package \"P2a\" as E5  [[psysml:e63557be-f486-40b8-b38f-45a287622fd5 ]]  {\r\n",
       "}\r\n",
       "comp usage \"x: A\" as E6  <<(T,blue)part>> [[psysml:9a86ed13-d6c7-4ef9-9e5f-c3e51ac044b3 ]] {\r\n",
       "}\r\n",
       "E6 - -:|> E3 [[psysml:9d868367-c6cc-4e4e-a580-36a1751bbca7 ]] \r\n",
       "}\r\n",
       "}\r\n",
       "@enduml\r\n",
       "\n",
       "PlantUML version 1.2020.13(Sat Jun 13 12:26:38 UTC 2020)\n",
       "(EPL source distribution)\n",
       "Java Runtime: OpenJDK Runtime Environment\n",
       "JVM: OpenJDK 64-Bit Server VM\n",
       "Default Encoding: UTF-8\n",
       "Language: en\n",
       "Country: null\n",
       "--></g></svg>"
      ]
     },
     "execution_count": 2,
     "metadata": {},
     "output_type": "execute_result"
    }
   ],
   "source": [
    "%viz --style=\"COMPTREE\" --view=\"Default\" \"QualifiedNameImportTest\""
   ]
  },
  {
   "cell_type": "code",
   "execution_count": 3,
   "id": "4c7603fa",
   "metadata": {
    "execution": {
     "iopub.execute_input": "2021-04-20T07:30:58.704546Z",
     "iopub.status.busy": "2021-04-20T07:30:58.703463Z",
     "iopub.status.idle": "2021-04-20T07:30:58.774483Z",
     "shell.execute_reply": "2021-04-20T07:30:58.774853Z"
    }
   },
   "outputs": [
    {
     "data": {
      "image/svg+xml": [
       "<?xml version=\"1.0\" encoding=\"UTF-8\" standalone=\"no\"?><svg xmlns=\"http://www.w3.org/2000/svg\" xmlns:xlink=\"http://www.w3.org/1999/xlink\" contentScriptType=\"application/ecmascript\" contentStyleType=\"text/css\" height=\"310px\" preserveAspectRatio=\"none\" style=\"width:253px;height:310px;\" version=\"1.1\" viewBox=\"0 0 253 310\" width=\"253px\" zoomAndPan=\"magnify\"><defs/><g><!--MD5=[fbc87193dbaf4d95561dea2c320d4a47]\n",
       "cluster E1--><a href=\"psysml:3aea7368-2129-476d-92d7-ea1a60089676\" target=\"_top\" title=\"psysml:3aea7368-2129-476d-92d7-ea1a60089676\" xlink:actuate=\"onRequest\" xlink:href=\"psysml:3aea7368-2129-476d-92d7-ea1a60089676\" xlink:show=\"new\" xlink:title=\"psysml:3aea7368-2129-476d-92d7-ea1a60089676\" xlink:type=\"simple\"><polygon fill=\"#FFFFFF\" points=\"16,6,221,6,228,28.2969,231,28.2969,231,298,16,298,16,6\" style=\"stroke: #000000; stroke-width: 1.5;\"/><line style=\"stroke: #000000; stroke-width: 1.5;\" x1=\"16\" x2=\"228\" y1=\"28.2969\" y2=\"28.2969\"/><text fill=\"#000000\" font-family=\"sans-serif\" font-size=\"14\" font-weight=\"bold\" lengthAdjust=\"spacingAndGlyphs\" textLength=\"199\" x=\"20\" y=\"20.9951\">QualifiedNameImportTest</text></a><!--MD5=[e4f7fae6ed58524ba242bb0b0d3be6b7]\n",
       "cluster E2--><a href=\"psysml:a60b7189-47ac-4303-8a81-d977466f28db\" target=\"_top\" title=\"psysml:a60b7189-47ac-4303-8a81-d977466f28db\" xlink:actuate=\"onRequest\" xlink:href=\"psysml:a60b7189-47ac-4303-8a81-d977466f28db\" xlink:show=\"new\" xlink:title=\"psysml:a60b7189-47ac-4303-8a81-d977466f28db\" xlink:type=\"simple\"><polygon fill=\"#FFFFFF\" points=\"105,177,131,177,138,199.2969,203,199.2969,203,274,105,274,105,177\" style=\"stroke: #000000; stroke-width: 1.5;\"/><line style=\"stroke: #000000; stroke-width: 1.5;\" x1=\"105\" x2=\"138\" y1=\"199.2969\" y2=\"199.2969\"/><text fill=\"#000000\" font-family=\"sans-serif\" font-size=\"14\" font-weight=\"bold\" lengthAdjust=\"spacingAndGlyphs\" textLength=\"20\" x=\"109\" y=\"191.9951\">P1</text></a><!--MD5=[f6df4d0ebaf0b5dfb2ced0ae5af7c670]\n",
       "cluster E4--><a href=\"psysml:ba53b2aa-0756-4dc5-85cd-737c1d1d7585\" target=\"_top\" title=\"psysml:ba53b2aa-0756-4dc5-85cd-737c1d1d7585\" xlink:actuate=\"onRequest\" xlink:href=\"psysml:ba53b2aa-0756-4dc5-85cd-737c1d1d7585\" xlink:show=\"new\" xlink:title=\"psysml:ba53b2aa-0756-4dc5-85cd-737c1d1d7585\" xlink:type=\"simple\"><polygon fill=\"#FFFFFF\" points=\"44,49,70,49,77,71.2969,203,71.2969,203,153,44,153,44,49\" style=\"stroke: #000000; stroke-width: 1.5;\"/><line style=\"stroke: #000000; stroke-width: 1.5;\" x1=\"44\" x2=\"77\" y1=\"71.2969\" y2=\"71.2969\"/><text fill=\"#000000\" font-family=\"sans-serif\" font-size=\"14\" font-weight=\"bold\" lengthAdjust=\"spacingAndGlyphs\" textLength=\"20\" x=\"48\" y=\"63.9951\">P2</text></a><!--MD5=[09b614a08d8cba4a07c9adeb5e0fee81]\n",
       "class E3--><a href=\"psysml:f2420fd6-3670-4cc8-95b9-f254eed1f95d\" target=\"_top\" title=\"psysml:f2420fd6-3670-4cc8-95b9-f254eed1f95d\" xlink:actuate=\"onRequest\" xlink:href=\"psysml:f2420fd6-3670-4cc8-95b9-f254eed1f95d\" xlink:show=\"new\" xlink:title=\"psysml:f2420fd6-3670-4cc8-95b9-f254eed1f95d\" xlink:type=\"simple\"><rect fill=\"#FFFFFF\" height=\"45.9375\" id=\"E3\" style=\"stroke: #383838; stroke-width: 1.5;\" width=\"66\" x=\"121\" y=\"212\"/><text fill=\"#000000\" font-family=\"sans-serif\" font-size=\"12\" font-style=\"italic\" lengthAdjust=\"spacingAndGlyphs\" textLength=\"64\" x=\"122\" y=\"228.1387\">«part def»</text><text fill=\"#000000\" font-family=\"sans-serif\" font-size=\"12\" lengthAdjust=\"spacingAndGlyphs\" textLength=\"8\" x=\"150\" y=\"242.1074\">A</text><line style=\"stroke: #383838; stroke-width: 1.5;\" x1=\"122\" x2=\"186\" y1=\"249.9375\" y2=\"249.9375\"/></a><!--MD5=[60a26617385b1d2d0262a64233df1f8d]\n",
       "class E6--><a href=\"psysml:9a86ed13-d6c7-4ef9-9e5f-c3e51ac044b3\" target=\"_top\" title=\"psysml:9a86ed13-d6c7-4ef9-9e5f-c3e51ac044b3\" xlink:actuate=\"onRequest\" xlink:href=\"psysml:9a86ed13-d6c7-4ef9-9e5f-c3e51ac044b3\" xlink:show=\"new\" xlink:title=\"psysml:9a86ed13-d6c7-4ef9-9e5f-c3e51ac044b3\" xlink:type=\"simple\"><rect fill=\"#FFFFFF\" height=\"45.9375\" id=\"E6\" rx=\"10\" ry=\"10\" style=\"stroke: #383838; stroke-width: 1.5;\" width=\"42\" x=\"145\" y=\"87.5\"/><text fill=\"#000000\" font-family=\"sans-serif\" font-size=\"12\" font-style=\"italic\" lengthAdjust=\"spacingAndGlyphs\" textLength=\"40\" x=\"146\" y=\"103.6387\">«part»</text><text fill=\"#000000\" font-family=\"sans-serif\" font-size=\"12\" lengthAdjust=\"spacingAndGlyphs\" textLength=\"22\" x=\"155\" y=\"117.6074\">x: A</text><line style=\"stroke: #383838; stroke-width: 1.5;\" x1=\"146\" x2=\"186\" y1=\"125.4375\" y2=\"125.4375\"/></a><a href=\"psysml:e63557be-f486-40b8-b38f-45a287622fd5\" target=\"_top\" title=\"psysml:e63557be-f486-40b8-b38f-45a287622fd5\" xlink:actuate=\"onRequest\" xlink:href=\"psysml:e63557be-f486-40b8-b38f-45a287622fd5\" xlink:show=\"new\" xlink:title=\"psysml:e63557be-f486-40b8-b38f-45a287622fd5\" xlink:type=\"simple\"><polygon fill=\"#FFFFFF\" points=\"60.5,84,95.5,84,102.5,106.2969,109.5,106.2969,109.5,136.5938,60.5,136.5938,60.5,84\" style=\"stroke: #000000; stroke-width: 1.5;\"/><line style=\"stroke: #000000; stroke-width: 1.5;\" x1=\"60.5\" x2=\"102.5\" y1=\"106.2969\" y2=\"106.2969\"/><text fill=\"#000000\" font-family=\"sans-serif\" font-size=\"14\" font-weight=\"bold\" lengthAdjust=\"spacingAndGlyphs\" textLength=\"29\" x=\"64.5\" y=\"98.9951\">P2a</text></a><!--MD5=[a717450b82c80b9240a525fa862496af]\n",
       "link E6 to E3--><a href=\"psysml:9d868367-c6cc-4e4e-a580-36a1751bbca7\" target=\"_top\" title=\"psysml:9d868367-c6cc-4e4e-a580-36a1751bbca7\" xlink:actuate=\"onRequest\" xlink:href=\"psysml:9d868367-c6cc-4e4e-a580-36a1751bbca7\" xlink:show=\"new\" xlink:title=\"psysml:9d868367-c6cc-4e4e-a580-36a1751bbca7\" xlink:type=\"simple\"><path d=\"M163.83,133.68 C162.24,149.9 160.04,172.39 158.12,191.96 \" fill=\"none\" id=\"E6-&gt;E3\" style=\"stroke: #383838; stroke-width: 1.0;\"/><polygon fill=\"#FFFFFF\" points=\"156.16,211.98,151.0533,192.3861,164.986,193.7564,156.16,211.98\" style=\"stroke: #383838; stroke-width: 1.0;\"/><ellipse cx=\"153.6016\" cy=\"186.9092\" fill=\"#383838\" rx=\"2\" ry=\"2\" style=\"stroke: #383838; stroke-width: 1.0;\"/><ellipse cx=\"163.5535\" cy=\"187.888\" fill=\"#383838\" rx=\"2\" ry=\"2\" style=\"stroke: #383838; stroke-width: 1.0;\"/></a><!--MD5=[0d6e4695bb46942c9a2317ade43fcf9d]\n",
       "@startuml\r\n",
       " skinparam monochrome true\r\n",
       "skinparam classbackgroundcolor white\r\n",
       "skinparam shadowing false\r\n",
       "skinparam wrapWidth 300\r\n",
       "hide circle\r\n",
       "\r\n",
       "package \"QualifiedNameImportTest\" as E1  [[psysml:3aea7368-2129-476d-92d7-ea1a60089676 ]]  {\r\n",
       "package \"P1\" as E2  [[psysml:a60b7189-47ac-4303-8a81-d977466f28db ]]  {\r\n",
       "comp def \"A\" as E3  <<(T,blue)part def>> [[psysml:f2420fd6-3670-4cc8-95b9-f254eed1f95d ]] {\r\n",
       "}\r\n",
       "}\r\n",
       "package \"P2\" as E4  [[psysml:ba53b2aa-0756-4dc5-85cd-737c1d1d7585 ]]  {\r\n",
       "package \"P2a\" as E5  [[psysml:e63557be-f486-40b8-b38f-45a287622fd5 ]]  {\r\n",
       "}\r\n",
       "comp usage \"x: A\" as E6  <<(T,blue)part>> [[psysml:9a86ed13-d6c7-4ef9-9e5f-c3e51ac044b3 ]] {\r\n",
       "}\r\n",
       "E6 - -:|> E3 [[psysml:9d868367-c6cc-4e4e-a580-36a1751bbca7 ]] \r\n",
       "}\r\n",
       "}\r\n",
       "@enduml\r\n",
       "\n",
       "PlantUML version 1.2020.13(Sat Jun 13 12:26:38 UTC 2020)\n",
       "(EPL source distribution)\n",
       "Java Runtime: OpenJDK Runtime Environment\n",
       "JVM: OpenJDK 64-Bit Server VM\n",
       "Default Encoding: UTF-8\n",
       "Language: en\n",
       "Country: null\n",
       "--></g></svg>"
      ]
     },
     "execution_count": 3,
     "metadata": {},
     "output_type": "execute_result"
    }
   ],
   "source": [
    "%viz --style=\"COMPTREE\" --view=\"Tree\" \"QualifiedNameImportTest\""
   ]
  },
  {
   "cell_type": "code",
   "execution_count": 4,
   "id": "211fede8",
   "metadata": {
    "execution": {
     "iopub.execute_input": "2021-04-20T07:30:58.826883Z",
     "iopub.status.busy": "2021-04-20T07:30:58.826012Z",
     "iopub.status.idle": "2021-04-20T07:30:58.836267Z",
     "shell.execute_reply": "2021-04-20T07:30:58.836580Z"
    }
   },
   "outputs": [
    {
     "data": {
      "image/svg+xml": [
       "<?xml version=\"1.0\" encoding=\"UTF-8\" standalone=\"no\"?><svg xmlns=\"http://www.w3.org/2000/svg\" xmlns:xlink=\"http://www.w3.org/1999/xlink\" contentScriptType=\"application/ecmascript\" contentStyleType=\"text/css\" height=\"12px\" preserveAspectRatio=\"none\" style=\"width:12px;height:12px;\" version=\"1.1\" viewBox=\"0 0 12 12\" width=\"12px\" zoomAndPan=\"magnify\"><defs/><g><!--MD5=[f19188ef49e11757b5c46753f95d9edc]\n",
       "@startuml\r\n",
       " skinparam monochrome true\r\n",
       "skinparam classbackgroundcolor white\r\n",
       "skinparam shadowing false\r\n",
       "skinparam wrapWidth 300\r\n",
       "hide circle\r\n",
       "\r\n",
       "@enduml\r\n",
       "\n",
       "PlantUML version 1.2020.13(Sat Jun 13 12:26:38 UTC 2020)\n",
       "(EPL source distribution)\n",
       "Java Runtime: OpenJDK Runtime Environment\n",
       "JVM: OpenJDK 64-Bit Server VM\n",
       "Default Encoding: UTF-8\n",
       "Language: en\n",
       "Country: null\n",
       "--></g></svg>"
      ]
     },
     "execution_count": 4,
     "metadata": {},
     "output_type": "execute_result"
    }
   ],
   "source": [
    "%viz --style=\"COMPTREE\" --view=\"State\" \"QualifiedNameImportTest\""
   ]
  },
  {
   "cell_type": "code",
   "execution_count": 5,
   "id": "e0fa83a9",
   "metadata": {
    "execution": {
     "iopub.execute_input": "2021-04-20T07:30:58.888326Z",
     "iopub.status.busy": "2021-04-20T07:30:58.887410Z",
     "iopub.status.idle": "2021-04-20T07:30:58.952255Z",
     "shell.execute_reply": "2021-04-20T07:30:58.950691Z"
    }
   },
   "outputs": [
    {
     "data": {
      "image/svg+xml": [
       "<?xml version=\"1.0\" encoding=\"UTF-8\" standalone=\"no\"?><svg xmlns=\"http://www.w3.org/2000/svg\" xmlns:xlink=\"http://www.w3.org/1999/xlink\" contentScriptType=\"application/ecmascript\" contentStyleType=\"text/css\" height=\"189px\" preserveAspectRatio=\"none\" style=\"width:381px;height:189px;\" version=\"1.1\" viewBox=\"0 0 381 189\" width=\"381px\" zoomAndPan=\"magnify\"><defs/><g><!--MD5=[fbc87193dbaf4d95561dea2c320d4a47]\n",
       "cluster E1--><a href=\"psysml:3aea7368-2129-476d-92d7-ea1a60089676\" target=\"_top\" title=\"psysml:3aea7368-2129-476d-92d7-ea1a60089676\" xlink:actuate=\"onRequest\" xlink:href=\"psysml:3aea7368-2129-476d-92d7-ea1a60089676\" xlink:show=\"new\" xlink:title=\"psysml:3aea7368-2129-476d-92d7-ea1a60089676\" xlink:type=\"simple\"><polygon fill=\"#FFFFFF\" points=\"16,6,221,6,228,28.2969,359,28.2969,359,177,16,177,16,6\" style=\"stroke: #000000; stroke-width: 1.5;\"/><line style=\"stroke: #000000; stroke-width: 1.5;\" x1=\"16\" x2=\"228\" y1=\"28.2969\" y2=\"28.2969\"/><text fill=\"#000000\" font-family=\"sans-serif\" font-size=\"14\" font-weight=\"bold\" lengthAdjust=\"spacingAndGlyphs\" textLength=\"199\" x=\"20\" y=\"20.9951\">QualifiedNameImportTest</text></a><!--MD5=[e4f7fae6ed58524ba242bb0b0d3be6b7]\n",
       "cluster E2--><a href=\"psysml:a60b7189-47ac-4303-8a81-d977466f28db\" target=\"_top\" title=\"psysml:a60b7189-47ac-4303-8a81-d977466f28db\" xlink:actuate=\"onRequest\" xlink:href=\"psysml:a60b7189-47ac-4303-8a81-d977466f28db\" xlink:show=\"new\" xlink:title=\"psysml:a60b7189-47ac-4303-8a81-d977466f28db\" xlink:type=\"simple\"><polygon fill=\"#FFFFFF\" points=\"231,54,257,54,264,76.2969,335,76.2969,335,148,231,148,231,54\" style=\"stroke: #000000; stroke-width: 1.5;\"/><line style=\"stroke: #000000; stroke-width: 1.5;\" x1=\"231\" x2=\"264\" y1=\"76.2969\" y2=\"76.2969\"/><text fill=\"#000000\" font-family=\"sans-serif\" font-size=\"14\" font-weight=\"bold\" lengthAdjust=\"spacingAndGlyphs\" textLength=\"20\" x=\"235\" y=\"68.9951\">P1</text></a><!--MD5=[f6df4d0ebaf0b5dfb2ced0ae5af7c670]\n",
       "cluster E4--><a href=\"psysml:ba53b2aa-0756-4dc5-85cd-737c1d1d7585\" target=\"_top\" title=\"psysml:ba53b2aa-0756-4dc5-85cd-737c1d1d7585\" xlink:actuate=\"onRequest\" xlink:href=\"psysml:ba53b2aa-0756-4dc5-85cd-737c1d1d7585\" xlink:show=\"new\" xlink:title=\"psysml:ba53b2aa-0756-4dc5-85cd-737c1d1d7585\" xlink:type=\"simple\"><polygon fill=\"#FFFFFF\" points=\"40,49,66,49,73,71.2969,207,71.2969,207,153,40,153,40,49\" style=\"stroke: #000000; stroke-width: 1.5;\"/><line style=\"stroke: #000000; stroke-width: 1.5;\" x1=\"40\" x2=\"73\" y1=\"71.2969\" y2=\"71.2969\"/><text fill=\"#000000\" font-family=\"sans-serif\" font-size=\"14\" font-weight=\"bold\" lengthAdjust=\"spacingAndGlyphs\" textLength=\"20\" x=\"44\" y=\"63.9951\">P2</text></a><g id=\"E1.E2.E3\"><a href=\"psysml:f2420fd6-3670-4cc8-95b9-f254eed1f95d\" target=\"_top\" title=\"psysml:f2420fd6-3670-4cc8-95b9-f254eed1f95d\" xlink:actuate=\"onRequest\" xlink:href=\"psysml:f2420fd6-3670-4cc8-95b9-f254eed1f95d\" xlink:show=\"new\" xlink:title=\"psysml:f2420fd6-3670-4cc8-95b9-f254eed1f95d\" xlink:type=\"simple\"><rect fill=\"#FFFFFF\" height=\"42.9375\" id=\"E3\" style=\"stroke: #383838; stroke-width: 1.5;\" width=\"71\" x=\"247.5\" y=\"89\"/><rect fill=\"#F8F8F8\" height=\"37.9375\" style=\"stroke: #383838; stroke-width: 1.5;\" width=\"71\" x=\"247.5\" y=\"89\"/><text fill=\"#000000\" font-family=\"sans-serif\" font-size=\"12\" font-style=\"italic\" lengthAdjust=\"spacingAndGlyphs\" textLength=\"64\" x=\"251\" y=\"105.1387\">«part def»</text><text fill=\"#000000\" font-family=\"sans-serif\" font-size=\"12\" lengthAdjust=\"spacingAndGlyphs\" textLength=\"8\" x=\"279\" y=\"119.1074\">A</text></a></g><a href=\"psysml:e63557be-f486-40b8-b38f-45a287622fd5\" target=\"_top\" title=\"psysml:e63557be-f486-40b8-b38f-45a287622fd5\" xlink:actuate=\"onRequest\" xlink:href=\"psysml:e63557be-f486-40b8-b38f-45a287622fd5\" xlink:show=\"new\" xlink:title=\"psysml:e63557be-f486-40b8-b38f-45a287622fd5\" xlink:type=\"simple\"><polygon fill=\"#FFFFFF\" points=\"141.5,84,176.5,84,183.5,106.2969,190.5,106.2969,190.5,136.5938,141.5,136.5938,141.5,84\" style=\"stroke: #000000; stroke-width: 1.5;\"/><line style=\"stroke: #000000; stroke-width: 1.5;\" x1=\"141.5\" x2=\"183.5\" y1=\"106.2969\" y2=\"106.2969\"/><text fill=\"#000000\" font-family=\"sans-serif\" font-size=\"14\" font-weight=\"bold\" lengthAdjust=\"spacingAndGlyphs\" textLength=\"29\" x=\"145.5\" y=\"98.9951\">P2a</text></a><g id=\"E1.E4.E6\"><a href=\"psysml:9a86ed13-d6c7-4ef9-9e5f-c3e51ac044b3\" target=\"_top\" title=\"psysml:9a86ed13-d6c7-4ef9-9e5f-c3e51ac044b3\" xlink:actuate=\"onRequest\" xlink:href=\"psysml:9a86ed13-d6c7-4ef9-9e5f-c3e51ac044b3\" xlink:show=\"new\" xlink:title=\"psysml:9a86ed13-d6c7-4ef9-9e5f-c3e51ac044b3\" xlink:type=\"simple\"><rect fill=\"#FFFFFF\" height=\"40\" id=\"E6\" rx=\"10\" ry=\"10\" style=\"stroke: #383838; stroke-width: 1.5;\" width=\"50\" x=\"56\" y=\"90.5\"/><rect fill=\"#F8F8F8\" height=\"23.9688\" rx=\"10\" ry=\"10\" style=\"stroke: #F8F8F8; stroke-width: 1.5;\" width=\"50\" x=\"56\" y=\"90.5\"/><rect fill=\"#F8F8F8\" height=\"10\" style=\"stroke: #F8F8F8; stroke-width: 1.5;\" width=\"50\" x=\"56\" y=\"104.4688\"/><rect fill=\"none\" height=\"40\" id=\"E6\" rx=\"10\" ry=\"10\" style=\"stroke: #383838; stroke-width: 1.5;\" width=\"50\" x=\"56\" y=\"90.5\"/><text fill=\"#000000\" font-family=\"sans-serif\" font-size=\"12\" lengthAdjust=\"spacingAndGlyphs\" textLength=\"22\" x=\"70\" y=\"106.6387\">x: A</text></a></g><!--MD5=[af2a2856f0e63a09fc965803e1e032bd]\n",
       "@startuml\r\n",
       "skinparam ranksep 10\r\n",
       "skinparam rectangle {\r\n",
       " backgroundColor<<block>> LightGreen\r\n",
       "}\r\n",
       " skinparam monochrome true\r\n",
       "skinparam classbackgroundcolor white\r\n",
       "skinparam shadowing false\r\n",
       "skinparam wrapWidth 300\r\n",
       "hide circle\r\n",
       "\r\n",
       "package \"QualifiedNameImportTest\" as E1  [[psysml:3aea7368-2129-476d-92d7-ea1a60089676 ]]  {\r\n",
       "package \"P1\" as E2  [[psysml:a60b7189-47ac-4303-8a81-d977466f28db ]]  {\r\n",
       "rec def \"A\" as E3  <<(T,blue)part def>> [[psysml:f2420fd6-3670-4cc8-95b9-f254eed1f95d ]] {\r\n",
       "}\r\n",
       "}\r\n",
       "package \"P2\" as E4  [[psysml:ba53b2aa-0756-4dc5-85cd-737c1d1d7585 ]]  {\r\n",
       "package \"P2a\" as E5  [[psysml:e63557be-f486-40b8-b38f-45a287622fd5 ]]  {\r\n",
       "}\r\n",
       "rec usage \"x: A\" as E6  [[psysml:9a86ed13-d6c7-4ef9-9e5f-c3e51ac044b3 ]] {\r\n",
       "}\r\n",
       "}\r\n",
       "}\r\n",
       "@enduml\r\n",
       "\n",
       "PlantUML version 1.2020.13(Sat Jun 13 12:26:38 UTC 2020)\n",
       "(EPL source distribution)\n",
       "Java Runtime: OpenJDK Runtime Environment\n",
       "JVM: OpenJDK 64-Bit Server VM\n",
       "Default Encoding: UTF-8\n",
       "Language: en\n",
       "Country: null\n",
       "--></g></svg>"
      ]
     },
     "execution_count": 5,
     "metadata": {},
     "output_type": "execute_result"
    }
   ],
   "source": [
    "%viz --style=\"COMPTREE\" --view=\"Interconnection\" \"QualifiedNameImportTest\""
   ]
  },
  {
   "cell_type": "code",
   "execution_count": 6,
   "id": "c01bff62",
   "metadata": {
    "execution": {
     "iopub.execute_input": "2021-04-20T07:30:59.003491Z",
     "iopub.status.busy": "2021-04-20T07:30:59.002885Z",
     "iopub.status.idle": "2021-04-20T07:30:59.011883Z",
     "shell.execute_reply": "2021-04-20T07:30:59.012194Z"
    }
   },
   "outputs": [
    {
     "data": {
      "image/svg+xml": [
       "<?xml version=\"1.0\" encoding=\"UTF-8\" standalone=\"no\"?><svg xmlns=\"http://www.w3.org/2000/svg\" xmlns:xlink=\"http://www.w3.org/1999/xlink\" contentScriptType=\"application/ecmascript\" contentStyleType=\"text/css\" height=\"12px\" preserveAspectRatio=\"none\" style=\"width:12px;height:12px;\" version=\"1.1\" viewBox=\"0 0 12 12\" width=\"12px\" zoomAndPan=\"magnify\"><defs/><g><!--MD5=[655b888544ca4751ea36af1068543f84]\n",
       "@startuml\r\n",
       "skinparam ranksep 8\r\n",
       " skinparam monochrome true\r\n",
       "skinparam classbackgroundcolor white\r\n",
       "skinparam shadowing false\r\n",
       "skinparam wrapWidth 300\r\n",
       "hide circle\r\n",
       "\r\n",
       "@enduml\r\n",
       "\n",
       "PlantUML version 1.2020.13(Sat Jun 13 12:26:38 UTC 2020)\n",
       "(EPL source distribution)\n",
       "Java Runtime: OpenJDK Runtime Environment\n",
       "JVM: OpenJDK 64-Bit Server VM\n",
       "Default Encoding: UTF-8\n",
       "Language: en\n",
       "Country: null\n",
       "--></g></svg>"
      ]
     },
     "execution_count": 6,
     "metadata": {},
     "output_type": "execute_result"
    }
   ],
   "source": [
    "%viz --style=\"COMPTREE\" --view=\"Action\" \"QualifiedNameImportTest\""
   ]
  },
  {
   "cell_type": "code",
   "execution_count": 7,
   "id": "592fe444",
   "metadata": {
    "execution": {
     "iopub.execute_input": "2021-04-20T07:30:59.064002Z",
     "iopub.status.busy": "2021-04-20T07:30:59.063429Z",
     "iopub.status.idle": "2021-04-20T07:30:59.113207Z",
     "shell.execute_reply": "2021-04-20T07:30:59.111232Z"
    }
   },
   "outputs": [
    {
     "data": {
      "image/svg+xml": [
       "<?xml version=\"1.0\" encoding=\"UTF-8\" standalone=\"no\"?><svg xmlns=\"http://www.w3.org/2000/svg\" xmlns:xlink=\"http://www.w3.org/1999/xlink\" contentScriptType=\"application/ecmascript\" contentStyleType=\"text/css\" height=\"310px\" preserveAspectRatio=\"none\" style=\"width:253px;height:310px;\" version=\"1.1\" viewBox=\"0 0 253 310\" width=\"253px\" zoomAndPan=\"magnify\"><defs/><g><!--MD5=[fbc87193dbaf4d95561dea2c320d4a47]\n",
       "cluster E1--><a href=\"psysml:3aea7368-2129-476d-92d7-ea1a60089676\" target=\"_top\" title=\"psysml:3aea7368-2129-476d-92d7-ea1a60089676\" xlink:actuate=\"onRequest\" xlink:href=\"psysml:3aea7368-2129-476d-92d7-ea1a60089676\" xlink:show=\"new\" xlink:title=\"psysml:3aea7368-2129-476d-92d7-ea1a60089676\" xlink:type=\"simple\"><polygon fill=\"#FFFFFF\" points=\"16,6,221,6,228,28.2969,231,28.2969,231,298,16,298,16,6\" style=\"stroke: #000000; stroke-width: 1.5;\"/><line style=\"stroke: #000000; stroke-width: 1.5;\" x1=\"16\" x2=\"228\" y1=\"28.2969\" y2=\"28.2969\"/><text fill=\"#000000\" font-family=\"sans-serif\" font-size=\"14\" font-weight=\"bold\" lengthAdjust=\"spacingAndGlyphs\" textLength=\"199\" x=\"20\" y=\"20.9951\">QualifiedNameImportTest</text></a><!--MD5=[e4f7fae6ed58524ba242bb0b0d3be6b7]\n",
       "cluster E2--><a href=\"psysml:a60b7189-47ac-4303-8a81-d977466f28db\" target=\"_top\" title=\"psysml:a60b7189-47ac-4303-8a81-d977466f28db\" xlink:actuate=\"onRequest\" xlink:href=\"psysml:a60b7189-47ac-4303-8a81-d977466f28db\" xlink:show=\"new\" xlink:title=\"psysml:a60b7189-47ac-4303-8a81-d977466f28db\" xlink:type=\"simple\"><polygon fill=\"#FFFFFF\" points=\"105,177,131,177,138,199.2969,203,199.2969,203,274,105,274,105,177\" style=\"stroke: #000000; stroke-width: 1.5;\"/><line style=\"stroke: #000000; stroke-width: 1.5;\" x1=\"105\" x2=\"138\" y1=\"199.2969\" y2=\"199.2969\"/><text fill=\"#000000\" font-family=\"sans-serif\" font-size=\"14\" font-weight=\"bold\" lengthAdjust=\"spacingAndGlyphs\" textLength=\"20\" x=\"109\" y=\"191.9951\">P1</text></a><!--MD5=[f6df4d0ebaf0b5dfb2ced0ae5af7c670]\n",
       "cluster E4--><a href=\"psysml:ba53b2aa-0756-4dc5-85cd-737c1d1d7585\" target=\"_top\" title=\"psysml:ba53b2aa-0756-4dc5-85cd-737c1d1d7585\" xlink:actuate=\"onRequest\" xlink:href=\"psysml:ba53b2aa-0756-4dc5-85cd-737c1d1d7585\" xlink:show=\"new\" xlink:title=\"psysml:ba53b2aa-0756-4dc5-85cd-737c1d1d7585\" xlink:type=\"simple\"><polygon fill=\"#FFFFFF\" points=\"44,49,70,49,77,71.2969,203,71.2969,203,153,44,153,44,49\" style=\"stroke: #000000; stroke-width: 1.5;\"/><line style=\"stroke: #000000; stroke-width: 1.5;\" x1=\"44\" x2=\"77\" y1=\"71.2969\" y2=\"71.2969\"/><text fill=\"#000000\" font-family=\"sans-serif\" font-size=\"14\" font-weight=\"bold\" lengthAdjust=\"spacingAndGlyphs\" textLength=\"20\" x=\"48\" y=\"63.9951\">P2</text></a><!--MD5=[09b614a08d8cba4a07c9adeb5e0fee81]\n",
       "class E3--><a href=\"psysml:f2420fd6-3670-4cc8-95b9-f254eed1f95d\" target=\"_top\" title=\"psysml:f2420fd6-3670-4cc8-95b9-f254eed1f95d\" xlink:actuate=\"onRequest\" xlink:href=\"psysml:f2420fd6-3670-4cc8-95b9-f254eed1f95d\" xlink:show=\"new\" xlink:title=\"psysml:f2420fd6-3670-4cc8-95b9-f254eed1f95d\" xlink:type=\"simple\"><rect fill=\"#FFFFFF\" height=\"45.9375\" id=\"E3\" style=\"stroke: #383838; stroke-width: 1.5;\" width=\"66\" x=\"121\" y=\"212\"/><text fill=\"#000000\" font-family=\"sans-serif\" font-size=\"12\" font-style=\"italic\" lengthAdjust=\"spacingAndGlyphs\" textLength=\"64\" x=\"122\" y=\"228.1387\">«part def»</text><text fill=\"#000000\" font-family=\"sans-serif\" font-size=\"12\" lengthAdjust=\"spacingAndGlyphs\" textLength=\"8\" x=\"150\" y=\"242.1074\">A</text><line style=\"stroke: #383838; stroke-width: 1.5;\" x1=\"122\" x2=\"186\" y1=\"249.9375\" y2=\"249.9375\"/></a><!--MD5=[60a26617385b1d2d0262a64233df1f8d]\n",
       "class E6--><a href=\"psysml:9a86ed13-d6c7-4ef9-9e5f-c3e51ac044b3\" target=\"_top\" title=\"psysml:9a86ed13-d6c7-4ef9-9e5f-c3e51ac044b3\" xlink:actuate=\"onRequest\" xlink:href=\"psysml:9a86ed13-d6c7-4ef9-9e5f-c3e51ac044b3\" xlink:show=\"new\" xlink:title=\"psysml:9a86ed13-d6c7-4ef9-9e5f-c3e51ac044b3\" xlink:type=\"simple\"><rect fill=\"#FFFFFF\" height=\"45.9375\" id=\"E6\" rx=\"10\" ry=\"10\" style=\"stroke: #383838; stroke-width: 1.5;\" width=\"42\" x=\"145\" y=\"87.5\"/><text fill=\"#000000\" font-family=\"sans-serif\" font-size=\"12\" font-style=\"italic\" lengthAdjust=\"spacingAndGlyphs\" textLength=\"40\" x=\"146\" y=\"103.6387\">«part»</text><text fill=\"#000000\" font-family=\"sans-serif\" font-size=\"12\" lengthAdjust=\"spacingAndGlyphs\" textLength=\"22\" x=\"155\" y=\"117.6074\">x: A</text><line style=\"stroke: #383838; stroke-width: 1.5;\" x1=\"146\" x2=\"186\" y1=\"125.4375\" y2=\"125.4375\"/></a><a href=\"psysml:e63557be-f486-40b8-b38f-45a287622fd5\" target=\"_top\" title=\"psysml:e63557be-f486-40b8-b38f-45a287622fd5\" xlink:actuate=\"onRequest\" xlink:href=\"psysml:e63557be-f486-40b8-b38f-45a287622fd5\" xlink:show=\"new\" xlink:title=\"psysml:e63557be-f486-40b8-b38f-45a287622fd5\" xlink:type=\"simple\"><polygon fill=\"#FFFFFF\" points=\"60.5,84,95.5,84,102.5,106.2969,109.5,106.2969,109.5,136.5938,60.5,136.5938,60.5,84\" style=\"stroke: #000000; stroke-width: 1.5;\"/><line style=\"stroke: #000000; stroke-width: 1.5;\" x1=\"60.5\" x2=\"102.5\" y1=\"106.2969\" y2=\"106.2969\"/><text fill=\"#000000\" font-family=\"sans-serif\" font-size=\"14\" font-weight=\"bold\" lengthAdjust=\"spacingAndGlyphs\" textLength=\"29\" x=\"64.5\" y=\"98.9951\">P2a</text></a><!--MD5=[a717450b82c80b9240a525fa862496af]\n",
       "link E6 to E3--><a href=\"psysml:9d868367-c6cc-4e4e-a580-36a1751bbca7\" target=\"_top\" title=\"psysml:9d868367-c6cc-4e4e-a580-36a1751bbca7\" xlink:actuate=\"onRequest\" xlink:href=\"psysml:9d868367-c6cc-4e4e-a580-36a1751bbca7\" xlink:show=\"new\" xlink:title=\"psysml:9d868367-c6cc-4e4e-a580-36a1751bbca7\" xlink:type=\"simple\"><path d=\"M163.83,133.68 C162.24,149.9 160.04,172.39 158.12,191.96 \" fill=\"none\" id=\"E6-&gt;E3\" style=\"stroke: #383838; stroke-width: 1.0;\"/><polygon fill=\"#FFFFFF\" points=\"156.16,211.98,151.0533,192.3861,164.986,193.7564,156.16,211.98\" style=\"stroke: #383838; stroke-width: 1.0;\"/><ellipse cx=\"153.6016\" cy=\"186.9092\" fill=\"#383838\" rx=\"2\" ry=\"2\" style=\"stroke: #383838; stroke-width: 1.0;\"/><ellipse cx=\"163.5535\" cy=\"187.888\" fill=\"#383838\" rx=\"2\" ry=\"2\" style=\"stroke: #383838; stroke-width: 1.0;\"/></a><!--MD5=[0d6e4695bb46942c9a2317ade43fcf9d]\n",
       "@startuml\r\n",
       " skinparam monochrome true\r\n",
       "skinparam classbackgroundcolor white\r\n",
       "skinparam shadowing false\r\n",
       "skinparam wrapWidth 300\r\n",
       "hide circle\r\n",
       "\r\n",
       "package \"QualifiedNameImportTest\" as E1  [[psysml:3aea7368-2129-476d-92d7-ea1a60089676 ]]  {\r\n",
       "package \"P1\" as E2  [[psysml:a60b7189-47ac-4303-8a81-d977466f28db ]]  {\r\n",
       "comp def \"A\" as E3  <<(T,blue)part def>> [[psysml:f2420fd6-3670-4cc8-95b9-f254eed1f95d ]] {\r\n",
       "}\r\n",
       "}\r\n",
       "package \"P2\" as E4  [[psysml:ba53b2aa-0756-4dc5-85cd-737c1d1d7585 ]]  {\r\n",
       "package \"P2a\" as E5  [[psysml:e63557be-f486-40b8-b38f-45a287622fd5 ]]  {\r\n",
       "}\r\n",
       "comp usage \"x: A\" as E6  <<(T,blue)part>> [[psysml:9a86ed13-d6c7-4ef9-9e5f-c3e51ac044b3 ]] {\r\n",
       "}\r\n",
       "E6 - -:|> E3 [[psysml:9d868367-c6cc-4e4e-a580-36a1751bbca7 ]] \r\n",
       "}\r\n",
       "}\r\n",
       "@enduml\r\n",
       "\n",
       "PlantUML version 1.2020.13(Sat Jun 13 12:26:38 UTC 2020)\n",
       "(EPL source distribution)\n",
       "Java Runtime: OpenJDK Runtime Environment\n",
       "JVM: OpenJDK 64-Bit Server VM\n",
       "Default Encoding: UTF-8\n",
       "Language: en\n",
       "Country: null\n",
       "--></g></svg>"
      ]
     },
     "execution_count": 7,
     "metadata": {},
     "output_type": "execute_result"
    }
   ],
   "source": [
    "%viz --style=\"COMPTREE\" --view=\"Sequence\" \"QualifiedNameImportTest\""
   ]
  },
  {
   "cell_type": "code",
   "execution_count": 8,
   "id": "19beff3f",
   "metadata": {
    "execution": {
     "iopub.execute_input": "2021-04-20T07:30:59.162747Z",
     "iopub.status.busy": "2021-04-20T07:30:59.162138Z",
     "iopub.status.idle": "2021-04-20T07:30:59.211757Z",
     "shell.execute_reply": "2021-04-20T07:30:59.211028Z"
    }
   },
   "outputs": [
    {
     "data": {
      "image/svg+xml": [
       "<?xml version=\"1.0\" encoding=\"UTF-8\" standalone=\"no\"?><svg xmlns=\"http://www.w3.org/2000/svg\" xmlns:xlink=\"http://www.w3.org/1999/xlink\" contentScriptType=\"application/ecmascript\" contentStyleType=\"text/css\" height=\"310px\" preserveAspectRatio=\"none\" style=\"width:253px;height:310px;\" version=\"1.1\" viewBox=\"0 0 253 310\" width=\"253px\" zoomAndPan=\"magnify\"><defs/><g><!--MD5=[fbc87193dbaf4d95561dea2c320d4a47]\n",
       "cluster E1--><a href=\"psysml:3aea7368-2129-476d-92d7-ea1a60089676\" target=\"_top\" title=\"psysml:3aea7368-2129-476d-92d7-ea1a60089676\" xlink:actuate=\"onRequest\" xlink:href=\"psysml:3aea7368-2129-476d-92d7-ea1a60089676\" xlink:show=\"new\" xlink:title=\"psysml:3aea7368-2129-476d-92d7-ea1a60089676\" xlink:type=\"simple\"><polygon fill=\"#FFFFFF\" points=\"16,6,221,6,228,28.2969,231,28.2969,231,298,16,298,16,6\" style=\"stroke: #000000; stroke-width: 1.5;\"/><line style=\"stroke: #000000; stroke-width: 1.5;\" x1=\"16\" x2=\"228\" y1=\"28.2969\" y2=\"28.2969\"/><text fill=\"#000000\" font-family=\"sans-serif\" font-size=\"14\" font-weight=\"bold\" lengthAdjust=\"spacingAndGlyphs\" textLength=\"199\" x=\"20\" y=\"20.9951\">QualifiedNameImportTest</text></a><!--MD5=[e4f7fae6ed58524ba242bb0b0d3be6b7]\n",
       "cluster E2--><a href=\"psysml:a60b7189-47ac-4303-8a81-d977466f28db\" target=\"_top\" title=\"psysml:a60b7189-47ac-4303-8a81-d977466f28db\" xlink:actuate=\"onRequest\" xlink:href=\"psysml:a60b7189-47ac-4303-8a81-d977466f28db\" xlink:show=\"new\" xlink:title=\"psysml:a60b7189-47ac-4303-8a81-d977466f28db\" xlink:type=\"simple\"><polygon fill=\"#FFFFFF\" points=\"105,177,131,177,138,199.2969,203,199.2969,203,274,105,274,105,177\" style=\"stroke: #000000; stroke-width: 1.5;\"/><line style=\"stroke: #000000; stroke-width: 1.5;\" x1=\"105\" x2=\"138\" y1=\"199.2969\" y2=\"199.2969\"/><text fill=\"#000000\" font-family=\"sans-serif\" font-size=\"14\" font-weight=\"bold\" lengthAdjust=\"spacingAndGlyphs\" textLength=\"20\" x=\"109\" y=\"191.9951\">P1</text></a><!--MD5=[f6df4d0ebaf0b5dfb2ced0ae5af7c670]\n",
       "cluster E4--><a href=\"psysml:ba53b2aa-0756-4dc5-85cd-737c1d1d7585\" target=\"_top\" title=\"psysml:ba53b2aa-0756-4dc5-85cd-737c1d1d7585\" xlink:actuate=\"onRequest\" xlink:href=\"psysml:ba53b2aa-0756-4dc5-85cd-737c1d1d7585\" xlink:show=\"new\" xlink:title=\"psysml:ba53b2aa-0756-4dc5-85cd-737c1d1d7585\" xlink:type=\"simple\"><polygon fill=\"#FFFFFF\" points=\"44,49,70,49,77,71.2969,203,71.2969,203,153,44,153,44,49\" style=\"stroke: #000000; stroke-width: 1.5;\"/><line style=\"stroke: #000000; stroke-width: 1.5;\" x1=\"44\" x2=\"77\" y1=\"71.2969\" y2=\"71.2969\"/><text fill=\"#000000\" font-family=\"sans-serif\" font-size=\"14\" font-weight=\"bold\" lengthAdjust=\"spacingAndGlyphs\" textLength=\"20\" x=\"48\" y=\"63.9951\">P2</text></a><!--MD5=[09b614a08d8cba4a07c9adeb5e0fee81]\n",
       "class E3--><a href=\"psysml:f2420fd6-3670-4cc8-95b9-f254eed1f95d\" target=\"_top\" title=\"psysml:f2420fd6-3670-4cc8-95b9-f254eed1f95d\" xlink:actuate=\"onRequest\" xlink:href=\"psysml:f2420fd6-3670-4cc8-95b9-f254eed1f95d\" xlink:show=\"new\" xlink:title=\"psysml:f2420fd6-3670-4cc8-95b9-f254eed1f95d\" xlink:type=\"simple\"><rect fill=\"#FFFFFF\" height=\"45.9375\" id=\"E3\" style=\"stroke: #383838; stroke-width: 1.5;\" width=\"66\" x=\"121\" y=\"212\"/><text fill=\"#000000\" font-family=\"sans-serif\" font-size=\"12\" font-style=\"italic\" lengthAdjust=\"spacingAndGlyphs\" textLength=\"64\" x=\"122\" y=\"228.1387\">«part def»</text><text fill=\"#000000\" font-family=\"sans-serif\" font-size=\"12\" lengthAdjust=\"spacingAndGlyphs\" textLength=\"8\" x=\"150\" y=\"242.1074\">A</text><line style=\"stroke: #383838; stroke-width: 1.5;\" x1=\"122\" x2=\"186\" y1=\"249.9375\" y2=\"249.9375\"/></a><!--MD5=[60a26617385b1d2d0262a64233df1f8d]\n",
       "class E6--><a href=\"psysml:9a86ed13-d6c7-4ef9-9e5f-c3e51ac044b3\" target=\"_top\" title=\"psysml:9a86ed13-d6c7-4ef9-9e5f-c3e51ac044b3\" xlink:actuate=\"onRequest\" xlink:href=\"psysml:9a86ed13-d6c7-4ef9-9e5f-c3e51ac044b3\" xlink:show=\"new\" xlink:title=\"psysml:9a86ed13-d6c7-4ef9-9e5f-c3e51ac044b3\" xlink:type=\"simple\"><rect fill=\"#FFFFFF\" height=\"45.9375\" id=\"E6\" rx=\"10\" ry=\"10\" style=\"stroke: #383838; stroke-width: 1.5;\" width=\"42\" x=\"145\" y=\"87.5\"/><text fill=\"#000000\" font-family=\"sans-serif\" font-size=\"12\" font-style=\"italic\" lengthAdjust=\"spacingAndGlyphs\" textLength=\"40\" x=\"146\" y=\"103.6387\">«part»</text><text fill=\"#000000\" font-family=\"sans-serif\" font-size=\"12\" lengthAdjust=\"spacingAndGlyphs\" textLength=\"22\" x=\"155\" y=\"117.6074\">x: A</text><line style=\"stroke: #383838; stroke-width: 1.5;\" x1=\"146\" x2=\"186\" y1=\"125.4375\" y2=\"125.4375\"/></a><a href=\"psysml:e63557be-f486-40b8-b38f-45a287622fd5\" target=\"_top\" title=\"psysml:e63557be-f486-40b8-b38f-45a287622fd5\" xlink:actuate=\"onRequest\" xlink:href=\"psysml:e63557be-f486-40b8-b38f-45a287622fd5\" xlink:show=\"new\" xlink:title=\"psysml:e63557be-f486-40b8-b38f-45a287622fd5\" xlink:type=\"simple\"><polygon fill=\"#FFFFFF\" points=\"60.5,84,95.5,84,102.5,106.2969,109.5,106.2969,109.5,136.5938,60.5,136.5938,60.5,84\" style=\"stroke: #000000; stroke-width: 1.5;\"/><line style=\"stroke: #000000; stroke-width: 1.5;\" x1=\"60.5\" x2=\"102.5\" y1=\"106.2969\" y2=\"106.2969\"/><text fill=\"#000000\" font-family=\"sans-serif\" font-size=\"14\" font-weight=\"bold\" lengthAdjust=\"spacingAndGlyphs\" textLength=\"29\" x=\"64.5\" y=\"98.9951\">P2a</text></a><!--MD5=[a717450b82c80b9240a525fa862496af]\n",
       "link E6 to E3--><a href=\"psysml:9d868367-c6cc-4e4e-a580-36a1751bbca7\" target=\"_top\" title=\"psysml:9d868367-c6cc-4e4e-a580-36a1751bbca7\" xlink:actuate=\"onRequest\" xlink:href=\"psysml:9d868367-c6cc-4e4e-a580-36a1751bbca7\" xlink:show=\"new\" xlink:title=\"psysml:9d868367-c6cc-4e4e-a580-36a1751bbca7\" xlink:type=\"simple\"><path d=\"M163.83,133.68 C162.24,149.9 160.04,172.39 158.12,191.96 \" fill=\"none\" id=\"E6-&gt;E3\" style=\"stroke: #383838; stroke-width: 1.0;\"/><polygon fill=\"#FFFFFF\" points=\"156.16,211.98,151.0533,192.3861,164.986,193.7564,156.16,211.98\" style=\"stroke: #383838; stroke-width: 1.0;\"/><ellipse cx=\"153.6016\" cy=\"186.9092\" fill=\"#383838\" rx=\"2\" ry=\"2\" style=\"stroke: #383838; stroke-width: 1.0;\"/><ellipse cx=\"163.5535\" cy=\"187.888\" fill=\"#383838\" rx=\"2\" ry=\"2\" style=\"stroke: #383838; stroke-width: 1.0;\"/></a><!--MD5=[0d6e4695bb46942c9a2317ade43fcf9d]\n",
       "@startuml\r\n",
       " skinparam monochrome true\r\n",
       "skinparam classbackgroundcolor white\r\n",
       "skinparam shadowing false\r\n",
       "skinparam wrapWidth 300\r\n",
       "hide circle\r\n",
       "\r\n",
       "package \"QualifiedNameImportTest\" as E1  [[psysml:3aea7368-2129-476d-92d7-ea1a60089676 ]]  {\r\n",
       "package \"P1\" as E2  [[psysml:a60b7189-47ac-4303-8a81-d977466f28db ]]  {\r\n",
       "comp def \"A\" as E3  <<(T,blue)part def>> [[psysml:f2420fd6-3670-4cc8-95b9-f254eed1f95d ]] {\r\n",
       "}\r\n",
       "}\r\n",
       "package \"P2\" as E4  [[psysml:ba53b2aa-0756-4dc5-85cd-737c1d1d7585 ]]  {\r\n",
       "package \"P2a\" as E5  [[psysml:e63557be-f486-40b8-b38f-45a287622fd5 ]]  {\r\n",
       "}\r\n",
       "comp usage \"x: A\" as E6  <<(T,blue)part>> [[psysml:9a86ed13-d6c7-4ef9-9e5f-c3e51ac044b3 ]] {\r\n",
       "}\r\n",
       "E6 - -:|> E3 [[psysml:9d868367-c6cc-4e4e-a580-36a1751bbca7 ]] \r\n",
       "}\r\n",
       "}\r\n",
       "@enduml\r\n",
       "\n",
       "PlantUML version 1.2020.13(Sat Jun 13 12:26:38 UTC 2020)\n",
       "(EPL source distribution)\n",
       "Java Runtime: OpenJDK Runtime Environment\n",
       "JVM: OpenJDK 64-Bit Server VM\n",
       "Default Encoding: UTF-8\n",
       "Language: en\n",
       "Country: null\n",
       "--></g></svg>"
      ]
     },
     "execution_count": 8,
     "metadata": {},
     "output_type": "execute_result"
    }
   ],
   "source": [
    "%viz --style=\"COMPTREE\" --view=\"MIXED\" \"QualifiedNameImportTest\""
   ]
  },
  {
   "cell_type": "code",
   "execution_count": 9,
   "id": "16285c18",
   "metadata": {
    "execution": {
     "iopub.execute_input": "2021-04-20T07:30:59.261853Z",
     "iopub.status.busy": "2021-04-20T07:30:59.261287Z",
     "iopub.status.idle": "2021-04-20T07:30:59.309841Z",
     "shell.execute_reply": "2021-04-20T07:30:59.308249Z"
    }
   },
   "outputs": [
    {
     "data": {
      "image/svg+xml": [
       "<?xml version=\"1.0\" encoding=\"UTF-8\" standalone=\"no\"?><svg xmlns=\"http://www.w3.org/2000/svg\" xmlns:xlink=\"http://www.w3.org/1999/xlink\" contentScriptType=\"application/ecmascript\" contentStyleType=\"text/css\" height=\"310px\" preserveAspectRatio=\"none\" style=\"width:253px;height:310px;\" version=\"1.1\" viewBox=\"0 0 253 310\" width=\"253px\" zoomAndPan=\"magnify\"><defs/><g><!--MD5=[fbc87193dbaf4d95561dea2c320d4a47]\n",
       "cluster E1--><a href=\"psysml:3aea7368-2129-476d-92d7-ea1a60089676\" target=\"_top\" title=\"psysml:3aea7368-2129-476d-92d7-ea1a60089676\" xlink:actuate=\"onRequest\" xlink:href=\"psysml:3aea7368-2129-476d-92d7-ea1a60089676\" xlink:show=\"new\" xlink:title=\"psysml:3aea7368-2129-476d-92d7-ea1a60089676\" xlink:type=\"simple\"><polygon fill=\"#FFFFFF\" points=\"16,6,221,6,228,28.2969,231,28.2969,231,298,16,298,16,6\" style=\"stroke: #000000; stroke-width: 1.5;\"/><line style=\"stroke: #000000; stroke-width: 1.5;\" x1=\"16\" x2=\"228\" y1=\"28.2969\" y2=\"28.2969\"/><text fill=\"#000000\" font-family=\"sans-serif\" font-size=\"14\" font-weight=\"bold\" lengthAdjust=\"spacingAndGlyphs\" textLength=\"199\" x=\"20\" y=\"20.9951\">QualifiedNameImportTest</text></a><!--MD5=[e4f7fae6ed58524ba242bb0b0d3be6b7]\n",
       "cluster E2--><a href=\"psysml:a60b7189-47ac-4303-8a81-d977466f28db\" target=\"_top\" title=\"psysml:a60b7189-47ac-4303-8a81-d977466f28db\" xlink:actuate=\"onRequest\" xlink:href=\"psysml:a60b7189-47ac-4303-8a81-d977466f28db\" xlink:show=\"new\" xlink:title=\"psysml:a60b7189-47ac-4303-8a81-d977466f28db\" xlink:type=\"simple\"><polygon fill=\"#FFFFFF\" points=\"105,177,131,177,138,199.2969,203,199.2969,203,274,105,274,105,177\" style=\"stroke: #000000; stroke-width: 1.5;\"/><line style=\"stroke: #000000; stroke-width: 1.5;\" x1=\"105\" x2=\"138\" y1=\"199.2969\" y2=\"199.2969\"/><text fill=\"#000000\" font-family=\"sans-serif\" font-size=\"14\" font-weight=\"bold\" lengthAdjust=\"spacingAndGlyphs\" textLength=\"20\" x=\"109\" y=\"191.9951\">P1</text></a><!--MD5=[f6df4d0ebaf0b5dfb2ced0ae5af7c670]\n",
       "cluster E4--><a href=\"psysml:ba53b2aa-0756-4dc5-85cd-737c1d1d7585\" target=\"_top\" title=\"psysml:ba53b2aa-0756-4dc5-85cd-737c1d1d7585\" xlink:actuate=\"onRequest\" xlink:href=\"psysml:ba53b2aa-0756-4dc5-85cd-737c1d1d7585\" xlink:show=\"new\" xlink:title=\"psysml:ba53b2aa-0756-4dc5-85cd-737c1d1d7585\" xlink:type=\"simple\"><polygon fill=\"#FFFFFF\" points=\"44,49,70,49,77,71.2969,203,71.2969,203,153,44,153,44,49\" style=\"stroke: #000000; stroke-width: 1.5;\"/><line style=\"stroke: #000000; stroke-width: 1.5;\" x1=\"44\" x2=\"77\" y1=\"71.2969\" y2=\"71.2969\"/><text fill=\"#000000\" font-family=\"sans-serif\" font-size=\"14\" font-weight=\"bold\" lengthAdjust=\"spacingAndGlyphs\" textLength=\"20\" x=\"48\" y=\"63.9951\">P2</text></a><!--MD5=[09b614a08d8cba4a07c9adeb5e0fee81]\n",
       "class E3--><a href=\"psysml:f2420fd6-3670-4cc8-95b9-f254eed1f95d\" target=\"_top\" title=\"psysml:f2420fd6-3670-4cc8-95b9-f254eed1f95d\" xlink:actuate=\"onRequest\" xlink:href=\"psysml:f2420fd6-3670-4cc8-95b9-f254eed1f95d\" xlink:show=\"new\" xlink:title=\"psysml:f2420fd6-3670-4cc8-95b9-f254eed1f95d\" xlink:type=\"simple\"><rect fill=\"#FFFFFF\" height=\"45.9375\" id=\"E3\" style=\"stroke: #383838; stroke-width: 1.5;\" width=\"66\" x=\"121\" y=\"212\"/><text fill=\"#000000\" font-family=\"sans-serif\" font-size=\"12\" font-style=\"italic\" lengthAdjust=\"spacingAndGlyphs\" textLength=\"64\" x=\"122\" y=\"228.1387\">«part def»</text><text fill=\"#000000\" font-family=\"sans-serif\" font-size=\"12\" lengthAdjust=\"spacingAndGlyphs\" textLength=\"8\" x=\"150\" y=\"242.1074\">A</text><line style=\"stroke: #383838; stroke-width: 1.5;\" x1=\"122\" x2=\"186\" y1=\"249.9375\" y2=\"249.9375\"/></a><!--MD5=[60a26617385b1d2d0262a64233df1f8d]\n",
       "class E6--><a href=\"psysml:9a86ed13-d6c7-4ef9-9e5f-c3e51ac044b3\" target=\"_top\" title=\"psysml:9a86ed13-d6c7-4ef9-9e5f-c3e51ac044b3\" xlink:actuate=\"onRequest\" xlink:href=\"psysml:9a86ed13-d6c7-4ef9-9e5f-c3e51ac044b3\" xlink:show=\"new\" xlink:title=\"psysml:9a86ed13-d6c7-4ef9-9e5f-c3e51ac044b3\" xlink:type=\"simple\"><rect fill=\"#FFFFFF\" height=\"45.9375\" id=\"E6\" rx=\"10\" ry=\"10\" style=\"stroke: #383838; stroke-width: 1.5;\" width=\"42\" x=\"145\" y=\"87.5\"/><text fill=\"#000000\" font-family=\"sans-serif\" font-size=\"12\" font-style=\"italic\" lengthAdjust=\"spacingAndGlyphs\" textLength=\"40\" x=\"146\" y=\"103.6387\">«part»</text><text fill=\"#000000\" font-family=\"sans-serif\" font-size=\"12\" lengthAdjust=\"spacingAndGlyphs\" textLength=\"22\" x=\"155\" y=\"117.6074\">x: A</text><line style=\"stroke: #383838; stroke-width: 1.5;\" x1=\"146\" x2=\"186\" y1=\"125.4375\" y2=\"125.4375\"/></a><a href=\"psysml:e63557be-f486-40b8-b38f-45a287622fd5\" target=\"_top\" title=\"psysml:e63557be-f486-40b8-b38f-45a287622fd5\" xlink:actuate=\"onRequest\" xlink:href=\"psysml:e63557be-f486-40b8-b38f-45a287622fd5\" xlink:show=\"new\" xlink:title=\"psysml:e63557be-f486-40b8-b38f-45a287622fd5\" xlink:type=\"simple\"><polygon fill=\"#FFFFFF\" points=\"60.5,84,95.5,84,102.5,106.2969,109.5,106.2969,109.5,136.5938,60.5,136.5938,60.5,84\" style=\"stroke: #000000; stroke-width: 1.5;\"/><line style=\"stroke: #000000; stroke-width: 1.5;\" x1=\"60.5\" x2=\"102.5\" y1=\"106.2969\" y2=\"106.2969\"/><text fill=\"#000000\" font-family=\"sans-serif\" font-size=\"14\" font-weight=\"bold\" lengthAdjust=\"spacingAndGlyphs\" textLength=\"29\" x=\"64.5\" y=\"98.9951\">P2a</text></a><!--MD5=[a717450b82c80b9240a525fa862496af]\n",
       "link E6 to E3--><a href=\"psysml:9d868367-c6cc-4e4e-a580-36a1751bbca7\" target=\"_top\" title=\"psysml:9d868367-c6cc-4e4e-a580-36a1751bbca7\" xlink:actuate=\"onRequest\" xlink:href=\"psysml:9d868367-c6cc-4e4e-a580-36a1751bbca7\" xlink:show=\"new\" xlink:title=\"psysml:9d868367-c6cc-4e4e-a580-36a1751bbca7\" xlink:type=\"simple\"><path d=\"M163.83,133.68 C162.24,149.9 160.04,172.39 158.12,191.96 \" fill=\"none\" id=\"E6-&gt;E3\" style=\"stroke: #383838; stroke-width: 1.0;\"/><polygon fill=\"#FFFFFF\" points=\"156.16,211.98,151.0533,192.3861,164.986,193.7564,156.16,211.98\" style=\"stroke: #383838; stroke-width: 1.0;\"/><ellipse cx=\"153.6016\" cy=\"186.9092\" fill=\"#383838\" rx=\"2\" ry=\"2\" style=\"stroke: #383838; stroke-width: 1.0;\"/><ellipse cx=\"163.5535\" cy=\"187.888\" fill=\"#383838\" rx=\"2\" ry=\"2\" style=\"stroke: #383838; stroke-width: 1.0;\"/></a><!--MD5=[69a80f12b13fa548a0adcfe449ee78b0]\n",
       "@startuml\r\n",
       "skinparam linetype polyline\r\n",
       "skinparam monochrome true\r\n",
       "skinparam classbackgroundcolor white\r\n",
       "skinparam shadowing false\r\n",
       "skinparam wrapWidth 300\r\n",
       "hide circle\r\n",
       "\r\n",
       "package \"QualifiedNameImportTest\" as E1  [[psysml:3aea7368-2129-476d-92d7-ea1a60089676 ]]  {\r\n",
       "package \"P1\" as E2  [[psysml:a60b7189-47ac-4303-8a81-d977466f28db ]]  {\r\n",
       "comp def \"A\" as E3  <<(T,blue)part def>> [[psysml:f2420fd6-3670-4cc8-95b9-f254eed1f95d ]] {\r\n",
       "}\r\n",
       "}\r\n",
       "package \"P2\" as E4  [[psysml:ba53b2aa-0756-4dc5-85cd-737c1d1d7585 ]]  {\r\n",
       "package \"P2a\" as E5  [[psysml:e63557be-f486-40b8-b38f-45a287622fd5 ]]  {\r\n",
       "}\r\n",
       "comp usage \"x: A\" as E6  <<(T,blue)part>> [[psysml:9a86ed13-d6c7-4ef9-9e5f-c3e51ac044b3 ]] {\r\n",
       "}\r\n",
       "E6 - -:|> E3 [[psysml:9d868367-c6cc-4e4e-a580-36a1751bbca7 ]] \r\n",
       "}\r\n",
       "}\r\n",
       "@enduml\r\n",
       "\n",
       "PlantUML version 1.2020.13(Sat Jun 13 12:26:38 UTC 2020)\n",
       "(EPL source distribution)\n",
       "Java Runtime: OpenJDK Runtime Environment\n",
       "JVM: OpenJDK 64-Bit Server VM\n",
       "Default Encoding: UTF-8\n",
       "Language: en\n",
       "Country: null\n",
       "--></g></svg>"
      ]
     },
     "execution_count": 9,
     "metadata": {},
     "output_type": "execute_result"
    }
   ],
   "source": [
    "%viz --style=\"POLYLINE\" --view=\"Default\" \"QualifiedNameImportTest\""
   ]
  },
  {
   "cell_type": "code",
   "execution_count": 10,
   "id": "b5cf6e51",
   "metadata": {
    "execution": {
     "iopub.execute_input": "2021-04-20T07:30:59.367494Z",
     "iopub.status.busy": "2021-04-20T07:30:59.365759Z",
     "iopub.status.idle": "2021-04-20T07:30:59.426391Z",
     "shell.execute_reply": "2021-04-20T07:30:59.425248Z"
    }
   },
   "outputs": [
    {
     "data": {
      "image/svg+xml": [
       "<?xml version=\"1.0\" encoding=\"UTF-8\" standalone=\"no\"?><svg xmlns=\"http://www.w3.org/2000/svg\" xmlns:xlink=\"http://www.w3.org/1999/xlink\" contentScriptType=\"application/ecmascript\" contentStyleType=\"text/css\" height=\"310px\" preserveAspectRatio=\"none\" style=\"width:253px;height:310px;\" version=\"1.1\" viewBox=\"0 0 253 310\" width=\"253px\" zoomAndPan=\"magnify\"><defs/><g><!--MD5=[fbc87193dbaf4d95561dea2c320d4a47]\n",
       "cluster E1--><a href=\"psysml:3aea7368-2129-476d-92d7-ea1a60089676\" target=\"_top\" title=\"psysml:3aea7368-2129-476d-92d7-ea1a60089676\" xlink:actuate=\"onRequest\" xlink:href=\"psysml:3aea7368-2129-476d-92d7-ea1a60089676\" xlink:show=\"new\" xlink:title=\"psysml:3aea7368-2129-476d-92d7-ea1a60089676\" xlink:type=\"simple\"><polygon fill=\"#FFFFFF\" points=\"16,6,221,6,228,28.2969,231,28.2969,231,298,16,298,16,6\" style=\"stroke: #000000; stroke-width: 1.5;\"/><line style=\"stroke: #000000; stroke-width: 1.5;\" x1=\"16\" x2=\"228\" y1=\"28.2969\" y2=\"28.2969\"/><text fill=\"#000000\" font-family=\"sans-serif\" font-size=\"14\" font-weight=\"bold\" lengthAdjust=\"spacingAndGlyphs\" textLength=\"199\" x=\"20\" y=\"20.9951\">QualifiedNameImportTest</text></a><!--MD5=[e4f7fae6ed58524ba242bb0b0d3be6b7]\n",
       "cluster E2--><a href=\"psysml:a60b7189-47ac-4303-8a81-d977466f28db\" target=\"_top\" title=\"psysml:a60b7189-47ac-4303-8a81-d977466f28db\" xlink:actuate=\"onRequest\" xlink:href=\"psysml:a60b7189-47ac-4303-8a81-d977466f28db\" xlink:show=\"new\" xlink:title=\"psysml:a60b7189-47ac-4303-8a81-d977466f28db\" xlink:type=\"simple\"><polygon fill=\"#FFFFFF\" points=\"105,177,131,177,138,199.2969,203,199.2969,203,274,105,274,105,177\" style=\"stroke: #000000; stroke-width: 1.5;\"/><line style=\"stroke: #000000; stroke-width: 1.5;\" x1=\"105\" x2=\"138\" y1=\"199.2969\" y2=\"199.2969\"/><text fill=\"#000000\" font-family=\"sans-serif\" font-size=\"14\" font-weight=\"bold\" lengthAdjust=\"spacingAndGlyphs\" textLength=\"20\" x=\"109\" y=\"191.9951\">P1</text></a><!--MD5=[f6df4d0ebaf0b5dfb2ced0ae5af7c670]\n",
       "cluster E4--><a href=\"psysml:ba53b2aa-0756-4dc5-85cd-737c1d1d7585\" target=\"_top\" title=\"psysml:ba53b2aa-0756-4dc5-85cd-737c1d1d7585\" xlink:actuate=\"onRequest\" xlink:href=\"psysml:ba53b2aa-0756-4dc5-85cd-737c1d1d7585\" xlink:show=\"new\" xlink:title=\"psysml:ba53b2aa-0756-4dc5-85cd-737c1d1d7585\" xlink:type=\"simple\"><polygon fill=\"#FFFFFF\" points=\"44,49,70,49,77,71.2969,203,71.2969,203,153,44,153,44,49\" style=\"stroke: #000000; stroke-width: 1.5;\"/><line style=\"stroke: #000000; stroke-width: 1.5;\" x1=\"44\" x2=\"77\" y1=\"71.2969\" y2=\"71.2969\"/><text fill=\"#000000\" font-family=\"sans-serif\" font-size=\"14\" font-weight=\"bold\" lengthAdjust=\"spacingAndGlyphs\" textLength=\"20\" x=\"48\" y=\"63.9951\">P2</text></a><!--MD5=[09b614a08d8cba4a07c9adeb5e0fee81]\n",
       "class E3--><a href=\"psysml:f2420fd6-3670-4cc8-95b9-f254eed1f95d\" target=\"_top\" title=\"psysml:f2420fd6-3670-4cc8-95b9-f254eed1f95d\" xlink:actuate=\"onRequest\" xlink:href=\"psysml:f2420fd6-3670-4cc8-95b9-f254eed1f95d\" xlink:show=\"new\" xlink:title=\"psysml:f2420fd6-3670-4cc8-95b9-f254eed1f95d\" xlink:type=\"simple\"><rect fill=\"#FFFFFF\" height=\"45.9375\" id=\"E3\" style=\"stroke: #383838; stroke-width: 1.5;\" width=\"66\" x=\"121\" y=\"212\"/><text fill=\"#000000\" font-family=\"sans-serif\" font-size=\"12\" font-style=\"italic\" lengthAdjust=\"spacingAndGlyphs\" textLength=\"64\" x=\"122\" y=\"228.1387\">«part def»</text><text fill=\"#000000\" font-family=\"sans-serif\" font-size=\"12\" lengthAdjust=\"spacingAndGlyphs\" textLength=\"8\" x=\"150\" y=\"242.1074\">A</text><line style=\"stroke: #383838; stroke-width: 1.5;\" x1=\"122\" x2=\"186\" y1=\"249.9375\" y2=\"249.9375\"/></a><!--MD5=[60a26617385b1d2d0262a64233df1f8d]\n",
       "class E6--><a href=\"psysml:9a86ed13-d6c7-4ef9-9e5f-c3e51ac044b3\" target=\"_top\" title=\"psysml:9a86ed13-d6c7-4ef9-9e5f-c3e51ac044b3\" xlink:actuate=\"onRequest\" xlink:href=\"psysml:9a86ed13-d6c7-4ef9-9e5f-c3e51ac044b3\" xlink:show=\"new\" xlink:title=\"psysml:9a86ed13-d6c7-4ef9-9e5f-c3e51ac044b3\" xlink:type=\"simple\"><rect fill=\"#FFFFFF\" height=\"45.9375\" id=\"E6\" rx=\"10\" ry=\"10\" style=\"stroke: #383838; stroke-width: 1.5;\" width=\"42\" x=\"145\" y=\"87.5\"/><text fill=\"#000000\" font-family=\"sans-serif\" font-size=\"12\" font-style=\"italic\" lengthAdjust=\"spacingAndGlyphs\" textLength=\"40\" x=\"146\" y=\"103.6387\">«part»</text><text fill=\"#000000\" font-family=\"sans-serif\" font-size=\"12\" lengthAdjust=\"spacingAndGlyphs\" textLength=\"22\" x=\"155\" y=\"117.6074\">x: A</text><line style=\"stroke: #383838; stroke-width: 1.5;\" x1=\"146\" x2=\"186\" y1=\"125.4375\" y2=\"125.4375\"/></a><a href=\"psysml:e63557be-f486-40b8-b38f-45a287622fd5\" target=\"_top\" title=\"psysml:e63557be-f486-40b8-b38f-45a287622fd5\" xlink:actuate=\"onRequest\" xlink:href=\"psysml:e63557be-f486-40b8-b38f-45a287622fd5\" xlink:show=\"new\" xlink:title=\"psysml:e63557be-f486-40b8-b38f-45a287622fd5\" xlink:type=\"simple\"><polygon fill=\"#FFFFFF\" points=\"60.5,84,95.5,84,102.5,106.2969,109.5,106.2969,109.5,136.5938,60.5,136.5938,60.5,84\" style=\"stroke: #000000; stroke-width: 1.5;\"/><line style=\"stroke: #000000; stroke-width: 1.5;\" x1=\"60.5\" x2=\"102.5\" y1=\"106.2969\" y2=\"106.2969\"/><text fill=\"#000000\" font-family=\"sans-serif\" font-size=\"14\" font-weight=\"bold\" lengthAdjust=\"spacingAndGlyphs\" textLength=\"29\" x=\"64.5\" y=\"98.9951\">P2a</text></a><!--MD5=[a717450b82c80b9240a525fa862496af]\n",
       "link E6 to E3--><a href=\"psysml:9d868367-c6cc-4e4e-a580-36a1751bbca7\" target=\"_top\" title=\"psysml:9d868367-c6cc-4e4e-a580-36a1751bbca7\" xlink:actuate=\"onRequest\" xlink:href=\"psysml:9d868367-c6cc-4e4e-a580-36a1751bbca7\" xlink:show=\"new\" xlink:title=\"psysml:9d868367-c6cc-4e4e-a580-36a1751bbca7\" xlink:type=\"simple\"><path d=\"M163.83,133.68 C162.24,149.9 160.04,172.39 158.12,191.96 \" fill=\"none\" id=\"E6-&gt;E3\" style=\"stroke: #383838; stroke-width: 1.0;\"/><polygon fill=\"#FFFFFF\" points=\"156.16,211.98,151.0533,192.3861,164.986,193.7564,156.16,211.98\" style=\"stroke: #383838; stroke-width: 1.0;\"/><ellipse cx=\"153.6016\" cy=\"186.9092\" fill=\"#383838\" rx=\"2\" ry=\"2\" style=\"stroke: #383838; stroke-width: 1.0;\"/><ellipse cx=\"163.5535\" cy=\"187.888\" fill=\"#383838\" rx=\"2\" ry=\"2\" style=\"stroke: #383838; stroke-width: 1.0;\"/></a><!--MD5=[69a80f12b13fa548a0adcfe449ee78b0]\n",
       "@startuml\r\n",
       "skinparam linetype polyline\r\n",
       "skinparam monochrome true\r\n",
       "skinparam classbackgroundcolor white\r\n",
       "skinparam shadowing false\r\n",
       "skinparam wrapWidth 300\r\n",
       "hide circle\r\n",
       "\r\n",
       "package \"QualifiedNameImportTest\" as E1  [[psysml:3aea7368-2129-476d-92d7-ea1a60089676 ]]  {\r\n",
       "package \"P1\" as E2  [[psysml:a60b7189-47ac-4303-8a81-d977466f28db ]]  {\r\n",
       "comp def \"A\" as E3  <<(T,blue)part def>> [[psysml:f2420fd6-3670-4cc8-95b9-f254eed1f95d ]] {\r\n",
       "}\r\n",
       "}\r\n",
       "package \"P2\" as E4  [[psysml:ba53b2aa-0756-4dc5-85cd-737c1d1d7585 ]]  {\r\n",
       "package \"P2a\" as E5  [[psysml:e63557be-f486-40b8-b38f-45a287622fd5 ]]  {\r\n",
       "}\r\n",
       "comp usage \"x: A\" as E6  <<(T,blue)part>> [[psysml:9a86ed13-d6c7-4ef9-9e5f-c3e51ac044b3 ]] {\r\n",
       "}\r\n",
       "E6 - -:|> E3 [[psysml:9d868367-c6cc-4e4e-a580-36a1751bbca7 ]] \r\n",
       "}\r\n",
       "}\r\n",
       "@enduml\r\n",
       "\n",
       "PlantUML version 1.2020.13(Sat Jun 13 12:26:38 UTC 2020)\n",
       "(EPL source distribution)\n",
       "Java Runtime: OpenJDK Runtime Environment\n",
       "JVM: OpenJDK 64-Bit Server VM\n",
       "Default Encoding: UTF-8\n",
       "Language: en\n",
       "Country: null\n",
       "--></g></svg>"
      ]
     },
     "execution_count": 10,
     "metadata": {},
     "output_type": "execute_result"
    }
   ],
   "source": [
    "%viz --style=\"POLYLINE\" --view=\"Tree\" \"QualifiedNameImportTest\""
   ]
  },
  {
   "cell_type": "code",
   "execution_count": 11,
   "id": "d2d0afc3",
   "metadata": {
    "execution": {
     "iopub.execute_input": "2021-04-20T07:30:59.479236Z",
     "iopub.status.busy": "2021-04-20T07:30:59.477339Z",
     "iopub.status.idle": "2021-04-20T07:30:59.487025Z",
     "shell.execute_reply": "2021-04-20T07:30:59.485631Z"
    }
   },
   "outputs": [
    {
     "data": {
      "image/svg+xml": [
       "<?xml version=\"1.0\" encoding=\"UTF-8\" standalone=\"no\"?><svg xmlns=\"http://www.w3.org/2000/svg\" xmlns:xlink=\"http://www.w3.org/1999/xlink\" contentScriptType=\"application/ecmascript\" contentStyleType=\"text/css\" height=\"12px\" preserveAspectRatio=\"none\" style=\"width:12px;height:12px;\" version=\"1.1\" viewBox=\"0 0 12 12\" width=\"12px\" zoomAndPan=\"magnify\"><defs/><g><!--MD5=[896ac0e7a515d8dd7765a661cb4ee08b]\n",
       "@startuml\r\n",
       "skinparam linetype polyline\r\n",
       "skinparam monochrome true\r\n",
       "skinparam classbackgroundcolor white\r\n",
       "skinparam shadowing false\r\n",
       "skinparam wrapWidth 300\r\n",
       "hide circle\r\n",
       "\r\n",
       "@enduml\r\n",
       "\n",
       "PlantUML version 1.2020.13(Sat Jun 13 12:26:38 UTC 2020)\n",
       "(EPL source distribution)\n",
       "Java Runtime: OpenJDK Runtime Environment\n",
       "JVM: OpenJDK 64-Bit Server VM\n",
       "Default Encoding: UTF-8\n",
       "Language: en\n",
       "Country: null\n",
       "--></g></svg>"
      ]
     },
     "execution_count": 11,
     "metadata": {},
     "output_type": "execute_result"
    }
   ],
   "source": [
    "%viz --style=\"POLYLINE\" --view=\"State\" \"QualifiedNameImportTest\""
   ]
  },
  {
   "cell_type": "code",
   "execution_count": 12,
   "id": "21803c3b",
   "metadata": {
    "execution": {
     "iopub.execute_input": "2021-04-20T07:30:59.539517Z",
     "iopub.status.busy": "2021-04-20T07:30:59.538640Z",
     "iopub.status.idle": "2021-04-20T07:30:59.585389Z",
     "shell.execute_reply": "2021-04-20T07:30:59.585057Z"
    }
   },
   "outputs": [
    {
     "data": {
      "image/svg+xml": [
       "<?xml version=\"1.0\" encoding=\"UTF-8\" standalone=\"no\"?><svg xmlns=\"http://www.w3.org/2000/svg\" xmlns:xlink=\"http://www.w3.org/1999/xlink\" contentScriptType=\"application/ecmascript\" contentStyleType=\"text/css\" height=\"189px\" preserveAspectRatio=\"none\" style=\"width:381px;height:189px;\" version=\"1.1\" viewBox=\"0 0 381 189\" width=\"381px\" zoomAndPan=\"magnify\"><defs/><g><!--MD5=[fbc87193dbaf4d95561dea2c320d4a47]\n",
       "cluster E1--><a href=\"psysml:3aea7368-2129-476d-92d7-ea1a60089676\" target=\"_top\" title=\"psysml:3aea7368-2129-476d-92d7-ea1a60089676\" xlink:actuate=\"onRequest\" xlink:href=\"psysml:3aea7368-2129-476d-92d7-ea1a60089676\" xlink:show=\"new\" xlink:title=\"psysml:3aea7368-2129-476d-92d7-ea1a60089676\" xlink:type=\"simple\"><polygon fill=\"#FFFFFF\" points=\"16,6,221,6,228,28.2969,359,28.2969,359,177,16,177,16,6\" style=\"stroke: #000000; stroke-width: 1.5;\"/><line style=\"stroke: #000000; stroke-width: 1.5;\" x1=\"16\" x2=\"228\" y1=\"28.2969\" y2=\"28.2969\"/><text fill=\"#000000\" font-family=\"sans-serif\" font-size=\"14\" font-weight=\"bold\" lengthAdjust=\"spacingAndGlyphs\" textLength=\"199\" x=\"20\" y=\"20.9951\">QualifiedNameImportTest</text></a><!--MD5=[e4f7fae6ed58524ba242bb0b0d3be6b7]\n",
       "cluster E2--><a href=\"psysml:a60b7189-47ac-4303-8a81-d977466f28db\" target=\"_top\" title=\"psysml:a60b7189-47ac-4303-8a81-d977466f28db\" xlink:actuate=\"onRequest\" xlink:href=\"psysml:a60b7189-47ac-4303-8a81-d977466f28db\" xlink:show=\"new\" xlink:title=\"psysml:a60b7189-47ac-4303-8a81-d977466f28db\" xlink:type=\"simple\"><polygon fill=\"#FFFFFF\" points=\"231,54,257,54,264,76.2969,335,76.2969,335,148,231,148,231,54\" style=\"stroke: #000000; stroke-width: 1.5;\"/><line style=\"stroke: #000000; stroke-width: 1.5;\" x1=\"231\" x2=\"264\" y1=\"76.2969\" y2=\"76.2969\"/><text fill=\"#000000\" font-family=\"sans-serif\" font-size=\"14\" font-weight=\"bold\" lengthAdjust=\"spacingAndGlyphs\" textLength=\"20\" x=\"235\" y=\"68.9951\">P1</text></a><!--MD5=[f6df4d0ebaf0b5dfb2ced0ae5af7c670]\n",
       "cluster E4--><a href=\"psysml:ba53b2aa-0756-4dc5-85cd-737c1d1d7585\" target=\"_top\" title=\"psysml:ba53b2aa-0756-4dc5-85cd-737c1d1d7585\" xlink:actuate=\"onRequest\" xlink:href=\"psysml:ba53b2aa-0756-4dc5-85cd-737c1d1d7585\" xlink:show=\"new\" xlink:title=\"psysml:ba53b2aa-0756-4dc5-85cd-737c1d1d7585\" xlink:type=\"simple\"><polygon fill=\"#FFFFFF\" points=\"40,49,66,49,73,71.2969,207,71.2969,207,153,40,153,40,49\" style=\"stroke: #000000; stroke-width: 1.5;\"/><line style=\"stroke: #000000; stroke-width: 1.5;\" x1=\"40\" x2=\"73\" y1=\"71.2969\" y2=\"71.2969\"/><text fill=\"#000000\" font-family=\"sans-serif\" font-size=\"14\" font-weight=\"bold\" lengthAdjust=\"spacingAndGlyphs\" textLength=\"20\" x=\"44\" y=\"63.9951\">P2</text></a><g id=\"E1.E2.E3\"><a href=\"psysml:f2420fd6-3670-4cc8-95b9-f254eed1f95d\" target=\"_top\" title=\"psysml:f2420fd6-3670-4cc8-95b9-f254eed1f95d\" xlink:actuate=\"onRequest\" xlink:href=\"psysml:f2420fd6-3670-4cc8-95b9-f254eed1f95d\" xlink:show=\"new\" xlink:title=\"psysml:f2420fd6-3670-4cc8-95b9-f254eed1f95d\" xlink:type=\"simple\"><rect fill=\"#FFFFFF\" height=\"42.9375\" id=\"E3\" style=\"stroke: #383838; stroke-width: 1.5;\" width=\"71\" x=\"247.5\" y=\"89\"/><rect fill=\"#F8F8F8\" height=\"37.9375\" style=\"stroke: #383838; stroke-width: 1.5;\" width=\"71\" x=\"247.5\" y=\"89\"/><text fill=\"#000000\" font-family=\"sans-serif\" font-size=\"12\" font-style=\"italic\" lengthAdjust=\"spacingAndGlyphs\" textLength=\"64\" x=\"251\" y=\"105.1387\">«part def»</text><text fill=\"#000000\" font-family=\"sans-serif\" font-size=\"12\" lengthAdjust=\"spacingAndGlyphs\" textLength=\"8\" x=\"279\" y=\"119.1074\">A</text></a></g><a href=\"psysml:e63557be-f486-40b8-b38f-45a287622fd5\" target=\"_top\" title=\"psysml:e63557be-f486-40b8-b38f-45a287622fd5\" xlink:actuate=\"onRequest\" xlink:href=\"psysml:e63557be-f486-40b8-b38f-45a287622fd5\" xlink:show=\"new\" xlink:title=\"psysml:e63557be-f486-40b8-b38f-45a287622fd5\" xlink:type=\"simple\"><polygon fill=\"#FFFFFF\" points=\"141.5,84,176.5,84,183.5,106.2969,190.5,106.2969,190.5,136.5938,141.5,136.5938,141.5,84\" style=\"stroke: #000000; stroke-width: 1.5;\"/><line style=\"stroke: #000000; stroke-width: 1.5;\" x1=\"141.5\" x2=\"183.5\" y1=\"106.2969\" y2=\"106.2969\"/><text fill=\"#000000\" font-family=\"sans-serif\" font-size=\"14\" font-weight=\"bold\" lengthAdjust=\"spacingAndGlyphs\" textLength=\"29\" x=\"145.5\" y=\"98.9951\">P2a</text></a><g id=\"E1.E4.E6\"><a href=\"psysml:9a86ed13-d6c7-4ef9-9e5f-c3e51ac044b3\" target=\"_top\" title=\"psysml:9a86ed13-d6c7-4ef9-9e5f-c3e51ac044b3\" xlink:actuate=\"onRequest\" xlink:href=\"psysml:9a86ed13-d6c7-4ef9-9e5f-c3e51ac044b3\" xlink:show=\"new\" xlink:title=\"psysml:9a86ed13-d6c7-4ef9-9e5f-c3e51ac044b3\" xlink:type=\"simple\"><rect fill=\"#FFFFFF\" height=\"40\" id=\"E6\" rx=\"10\" ry=\"10\" style=\"stroke: #383838; stroke-width: 1.5;\" width=\"50\" x=\"56\" y=\"90.5\"/><rect fill=\"#F8F8F8\" height=\"23.9688\" rx=\"10\" ry=\"10\" style=\"stroke: #F8F8F8; stroke-width: 1.5;\" width=\"50\" x=\"56\" y=\"90.5\"/><rect fill=\"#F8F8F8\" height=\"10\" style=\"stroke: #F8F8F8; stroke-width: 1.5;\" width=\"50\" x=\"56\" y=\"104.4688\"/><rect fill=\"none\" height=\"40\" id=\"E6\" rx=\"10\" ry=\"10\" style=\"stroke: #383838; stroke-width: 1.5;\" width=\"50\" x=\"56\" y=\"90.5\"/><text fill=\"#000000\" font-family=\"sans-serif\" font-size=\"12\" lengthAdjust=\"spacingAndGlyphs\" textLength=\"22\" x=\"70\" y=\"106.6387\">x: A</text></a></g><!--MD5=[ccaeea7a6e7fafb189fb1e9b01f92320]\n",
       "@startuml\r\n",
       "skinparam ranksep 10\r\n",
       "skinparam rectangle {\r\n",
       " backgroundColor<<block>> LightGreen\r\n",
       "}\r\n",
       "skinparam linetype polyline\r\n",
       "skinparam monochrome true\r\n",
       "skinparam classbackgroundcolor white\r\n",
       "skinparam shadowing false\r\n",
       "skinparam wrapWidth 300\r\n",
       "hide circle\r\n",
       "\r\n",
       "package \"QualifiedNameImportTest\" as E1  [[psysml:3aea7368-2129-476d-92d7-ea1a60089676 ]]  {\r\n",
       "package \"P1\" as E2  [[psysml:a60b7189-47ac-4303-8a81-d977466f28db ]]  {\r\n",
       "rec def \"A\" as E3  <<(T,blue)part def>> [[psysml:f2420fd6-3670-4cc8-95b9-f254eed1f95d ]] {\r\n",
       "}\r\n",
       "}\r\n",
       "package \"P2\" as E4  [[psysml:ba53b2aa-0756-4dc5-85cd-737c1d1d7585 ]]  {\r\n",
       "package \"P2a\" as E5  [[psysml:e63557be-f486-40b8-b38f-45a287622fd5 ]]  {\r\n",
       "}\r\n",
       "rec usage \"x: A\" as E6  [[psysml:9a86ed13-d6c7-4ef9-9e5f-c3e51ac044b3 ]] {\r\n",
       "}\r\n",
       "}\r\n",
       "}\r\n",
       "@enduml\r\n",
       "\n",
       "PlantUML version 1.2020.13(Sat Jun 13 12:26:38 UTC 2020)\n",
       "(EPL source distribution)\n",
       "Java Runtime: OpenJDK Runtime Environment\n",
       "JVM: OpenJDK 64-Bit Server VM\n",
       "Default Encoding: UTF-8\n",
       "Language: en\n",
       "Country: null\n",
       "--></g></svg>"
      ]
     },
     "execution_count": 12,
     "metadata": {},
     "output_type": "execute_result"
    }
   ],
   "source": [
    "%viz --style=\"POLYLINE\" --view=\"Interconnection\" \"QualifiedNameImportTest\""
   ]
  },
  {
   "cell_type": "code",
   "execution_count": 13,
   "id": "9c26c762",
   "metadata": {
    "execution": {
     "iopub.execute_input": "2021-04-20T07:30:59.640515Z",
     "iopub.status.busy": "2021-04-20T07:30:59.638889Z",
     "iopub.status.idle": "2021-04-20T07:30:59.649524Z",
     "shell.execute_reply": "2021-04-20T07:30:59.649190Z"
    }
   },
   "outputs": [
    {
     "data": {
      "image/svg+xml": [
       "<?xml version=\"1.0\" encoding=\"UTF-8\" standalone=\"no\"?><svg xmlns=\"http://www.w3.org/2000/svg\" xmlns:xlink=\"http://www.w3.org/1999/xlink\" contentScriptType=\"application/ecmascript\" contentStyleType=\"text/css\" height=\"12px\" preserveAspectRatio=\"none\" style=\"width:12px;height:12px;\" version=\"1.1\" viewBox=\"0 0 12 12\" width=\"12px\" zoomAndPan=\"magnify\"><defs/><g><!--MD5=[97bbf32f66ccd50cbc40d92ea8f5a65e]\n",
       "@startuml\r\n",
       "skinparam ranksep 8\r\n",
       "skinparam linetype polyline\r\n",
       "skinparam monochrome true\r\n",
       "skinparam classbackgroundcolor white\r\n",
       "skinparam shadowing false\r\n",
       "skinparam wrapWidth 300\r\n",
       "hide circle\r\n",
       "\r\n",
       "@enduml\r\n",
       "\n",
       "PlantUML version 1.2020.13(Sat Jun 13 12:26:38 UTC 2020)\n",
       "(EPL source distribution)\n",
       "Java Runtime: OpenJDK Runtime Environment\n",
       "JVM: OpenJDK 64-Bit Server VM\n",
       "Default Encoding: UTF-8\n",
       "Language: en\n",
       "Country: null\n",
       "--></g></svg>"
      ]
     },
     "execution_count": 13,
     "metadata": {},
     "output_type": "execute_result"
    }
   ],
   "source": [
    "%viz --style=\"POLYLINE\" --view=\"Action\" \"QualifiedNameImportTest\""
   ]
  },
  {
   "cell_type": "code",
   "execution_count": 14,
   "id": "43c89615",
   "metadata": {
    "execution": {
     "iopub.execute_input": "2021-04-20T07:30:59.704852Z",
     "iopub.status.busy": "2021-04-20T07:30:59.704282Z",
     "iopub.status.idle": "2021-04-20T07:30:59.781658Z",
     "shell.execute_reply": "2021-04-20T07:30:59.780961Z"
    }
   },
   "outputs": [
    {
     "data": {
      "image/svg+xml": [
       "<?xml version=\"1.0\" encoding=\"UTF-8\" standalone=\"no\"?><svg xmlns=\"http://www.w3.org/2000/svg\" xmlns:xlink=\"http://www.w3.org/1999/xlink\" contentScriptType=\"application/ecmascript\" contentStyleType=\"text/css\" height=\"310px\" preserveAspectRatio=\"none\" style=\"width:253px;height:310px;\" version=\"1.1\" viewBox=\"0 0 253 310\" width=\"253px\" zoomAndPan=\"magnify\"><defs/><g><!--MD5=[fbc87193dbaf4d95561dea2c320d4a47]\n",
       "cluster E1--><a href=\"psysml:3aea7368-2129-476d-92d7-ea1a60089676\" target=\"_top\" title=\"psysml:3aea7368-2129-476d-92d7-ea1a60089676\" xlink:actuate=\"onRequest\" xlink:href=\"psysml:3aea7368-2129-476d-92d7-ea1a60089676\" xlink:show=\"new\" xlink:title=\"psysml:3aea7368-2129-476d-92d7-ea1a60089676\" xlink:type=\"simple\"><polygon fill=\"#FFFFFF\" points=\"16,6,221,6,228,28.2969,231,28.2969,231,298,16,298,16,6\" style=\"stroke: #000000; stroke-width: 1.5;\"/><line style=\"stroke: #000000; stroke-width: 1.5;\" x1=\"16\" x2=\"228\" y1=\"28.2969\" y2=\"28.2969\"/><text fill=\"#000000\" font-family=\"sans-serif\" font-size=\"14\" font-weight=\"bold\" lengthAdjust=\"spacingAndGlyphs\" textLength=\"199\" x=\"20\" y=\"20.9951\">QualifiedNameImportTest</text></a><!--MD5=[e4f7fae6ed58524ba242bb0b0d3be6b7]\n",
       "cluster E2--><a href=\"psysml:a60b7189-47ac-4303-8a81-d977466f28db\" target=\"_top\" title=\"psysml:a60b7189-47ac-4303-8a81-d977466f28db\" xlink:actuate=\"onRequest\" xlink:href=\"psysml:a60b7189-47ac-4303-8a81-d977466f28db\" xlink:show=\"new\" xlink:title=\"psysml:a60b7189-47ac-4303-8a81-d977466f28db\" xlink:type=\"simple\"><polygon fill=\"#FFFFFF\" points=\"105,177,131,177,138,199.2969,203,199.2969,203,274,105,274,105,177\" style=\"stroke: #000000; stroke-width: 1.5;\"/><line style=\"stroke: #000000; stroke-width: 1.5;\" x1=\"105\" x2=\"138\" y1=\"199.2969\" y2=\"199.2969\"/><text fill=\"#000000\" font-family=\"sans-serif\" font-size=\"14\" font-weight=\"bold\" lengthAdjust=\"spacingAndGlyphs\" textLength=\"20\" x=\"109\" y=\"191.9951\">P1</text></a><!--MD5=[f6df4d0ebaf0b5dfb2ced0ae5af7c670]\n",
       "cluster E4--><a href=\"psysml:ba53b2aa-0756-4dc5-85cd-737c1d1d7585\" target=\"_top\" title=\"psysml:ba53b2aa-0756-4dc5-85cd-737c1d1d7585\" xlink:actuate=\"onRequest\" xlink:href=\"psysml:ba53b2aa-0756-4dc5-85cd-737c1d1d7585\" xlink:show=\"new\" xlink:title=\"psysml:ba53b2aa-0756-4dc5-85cd-737c1d1d7585\" xlink:type=\"simple\"><polygon fill=\"#FFFFFF\" points=\"44,49,70,49,77,71.2969,203,71.2969,203,153,44,153,44,49\" style=\"stroke: #000000; stroke-width: 1.5;\"/><line style=\"stroke: #000000; stroke-width: 1.5;\" x1=\"44\" x2=\"77\" y1=\"71.2969\" y2=\"71.2969\"/><text fill=\"#000000\" font-family=\"sans-serif\" font-size=\"14\" font-weight=\"bold\" lengthAdjust=\"spacingAndGlyphs\" textLength=\"20\" x=\"48\" y=\"63.9951\">P2</text></a><!--MD5=[09b614a08d8cba4a07c9adeb5e0fee81]\n",
       "class E3--><a href=\"psysml:f2420fd6-3670-4cc8-95b9-f254eed1f95d\" target=\"_top\" title=\"psysml:f2420fd6-3670-4cc8-95b9-f254eed1f95d\" xlink:actuate=\"onRequest\" xlink:href=\"psysml:f2420fd6-3670-4cc8-95b9-f254eed1f95d\" xlink:show=\"new\" xlink:title=\"psysml:f2420fd6-3670-4cc8-95b9-f254eed1f95d\" xlink:type=\"simple\"><rect fill=\"#FFFFFF\" height=\"45.9375\" id=\"E3\" style=\"stroke: #383838; stroke-width: 1.5;\" width=\"66\" x=\"121\" y=\"212\"/><text fill=\"#000000\" font-family=\"sans-serif\" font-size=\"12\" font-style=\"italic\" lengthAdjust=\"spacingAndGlyphs\" textLength=\"64\" x=\"122\" y=\"228.1387\">«part def»</text><text fill=\"#000000\" font-family=\"sans-serif\" font-size=\"12\" lengthAdjust=\"spacingAndGlyphs\" textLength=\"8\" x=\"150\" y=\"242.1074\">A</text><line style=\"stroke: #383838; stroke-width: 1.5;\" x1=\"122\" x2=\"186\" y1=\"249.9375\" y2=\"249.9375\"/></a><!--MD5=[60a26617385b1d2d0262a64233df1f8d]\n",
       "class E6--><a href=\"psysml:9a86ed13-d6c7-4ef9-9e5f-c3e51ac044b3\" target=\"_top\" title=\"psysml:9a86ed13-d6c7-4ef9-9e5f-c3e51ac044b3\" xlink:actuate=\"onRequest\" xlink:href=\"psysml:9a86ed13-d6c7-4ef9-9e5f-c3e51ac044b3\" xlink:show=\"new\" xlink:title=\"psysml:9a86ed13-d6c7-4ef9-9e5f-c3e51ac044b3\" xlink:type=\"simple\"><rect fill=\"#FFFFFF\" height=\"45.9375\" id=\"E6\" rx=\"10\" ry=\"10\" style=\"stroke: #383838; stroke-width: 1.5;\" width=\"42\" x=\"145\" y=\"87.5\"/><text fill=\"#000000\" font-family=\"sans-serif\" font-size=\"12\" font-style=\"italic\" lengthAdjust=\"spacingAndGlyphs\" textLength=\"40\" x=\"146\" y=\"103.6387\">«part»</text><text fill=\"#000000\" font-family=\"sans-serif\" font-size=\"12\" lengthAdjust=\"spacingAndGlyphs\" textLength=\"22\" x=\"155\" y=\"117.6074\">x: A</text><line style=\"stroke: #383838; stroke-width: 1.5;\" x1=\"146\" x2=\"186\" y1=\"125.4375\" y2=\"125.4375\"/></a><a href=\"psysml:e63557be-f486-40b8-b38f-45a287622fd5\" target=\"_top\" title=\"psysml:e63557be-f486-40b8-b38f-45a287622fd5\" xlink:actuate=\"onRequest\" xlink:href=\"psysml:e63557be-f486-40b8-b38f-45a287622fd5\" xlink:show=\"new\" xlink:title=\"psysml:e63557be-f486-40b8-b38f-45a287622fd5\" xlink:type=\"simple\"><polygon fill=\"#FFFFFF\" points=\"60.5,84,95.5,84,102.5,106.2969,109.5,106.2969,109.5,136.5938,60.5,136.5938,60.5,84\" style=\"stroke: #000000; stroke-width: 1.5;\"/><line style=\"stroke: #000000; stroke-width: 1.5;\" x1=\"60.5\" x2=\"102.5\" y1=\"106.2969\" y2=\"106.2969\"/><text fill=\"#000000\" font-family=\"sans-serif\" font-size=\"14\" font-weight=\"bold\" lengthAdjust=\"spacingAndGlyphs\" textLength=\"29\" x=\"64.5\" y=\"98.9951\">P2a</text></a><!--MD5=[a717450b82c80b9240a525fa862496af]\n",
       "link E6 to E3--><a href=\"psysml:9d868367-c6cc-4e4e-a580-36a1751bbca7\" target=\"_top\" title=\"psysml:9d868367-c6cc-4e4e-a580-36a1751bbca7\" xlink:actuate=\"onRequest\" xlink:href=\"psysml:9d868367-c6cc-4e4e-a580-36a1751bbca7\" xlink:show=\"new\" xlink:title=\"psysml:9d868367-c6cc-4e4e-a580-36a1751bbca7\" xlink:type=\"simple\"><path d=\"M163.83,133.68 C162.24,149.9 160.04,172.39 158.12,191.96 \" fill=\"none\" id=\"E6-&gt;E3\" style=\"stroke: #383838; stroke-width: 1.0;\"/><polygon fill=\"#FFFFFF\" points=\"156.16,211.98,151.0533,192.3861,164.986,193.7564,156.16,211.98\" style=\"stroke: #383838; stroke-width: 1.0;\"/><ellipse cx=\"153.6016\" cy=\"186.9092\" fill=\"#383838\" rx=\"2\" ry=\"2\" style=\"stroke: #383838; stroke-width: 1.0;\"/><ellipse cx=\"163.5535\" cy=\"187.888\" fill=\"#383838\" rx=\"2\" ry=\"2\" style=\"stroke: #383838; stroke-width: 1.0;\"/></a><!--MD5=[69a80f12b13fa548a0adcfe449ee78b0]\n",
       "@startuml\r\n",
       "skinparam linetype polyline\r\n",
       "skinparam monochrome true\r\n",
       "skinparam classbackgroundcolor white\r\n",
       "skinparam shadowing false\r\n",
       "skinparam wrapWidth 300\r\n",
       "hide circle\r\n",
       "\r\n",
       "package \"QualifiedNameImportTest\" as E1  [[psysml:3aea7368-2129-476d-92d7-ea1a60089676 ]]  {\r\n",
       "package \"P1\" as E2  [[psysml:a60b7189-47ac-4303-8a81-d977466f28db ]]  {\r\n",
       "comp def \"A\" as E3  <<(T,blue)part def>> [[psysml:f2420fd6-3670-4cc8-95b9-f254eed1f95d ]] {\r\n",
       "}\r\n",
       "}\r\n",
       "package \"P2\" as E4  [[psysml:ba53b2aa-0756-4dc5-85cd-737c1d1d7585 ]]  {\r\n",
       "package \"P2a\" as E5  [[psysml:e63557be-f486-40b8-b38f-45a287622fd5 ]]  {\r\n",
       "}\r\n",
       "comp usage \"x: A\" as E6  <<(T,blue)part>> [[psysml:9a86ed13-d6c7-4ef9-9e5f-c3e51ac044b3 ]] {\r\n",
       "}\r\n",
       "E6 - -:|> E3 [[psysml:9d868367-c6cc-4e4e-a580-36a1751bbca7 ]] \r\n",
       "}\r\n",
       "}\r\n",
       "@enduml\r\n",
       "\n",
       "PlantUML version 1.2020.13(Sat Jun 13 12:26:38 UTC 2020)\n",
       "(EPL source distribution)\n",
       "Java Runtime: OpenJDK Runtime Environment\n",
       "JVM: OpenJDK 64-Bit Server VM\n",
       "Default Encoding: UTF-8\n",
       "Language: en\n",
       "Country: null\n",
       "--></g></svg>"
      ]
     },
     "execution_count": 14,
     "metadata": {},
     "output_type": "execute_result"
    }
   ],
   "source": [
    "%viz --style=\"POLYLINE\" --view=\"Sequence\" \"QualifiedNameImportTest\""
   ]
  },
  {
   "cell_type": "code",
   "execution_count": 15,
   "id": "2ec32829",
   "metadata": {
    "execution": {
     "iopub.execute_input": "2021-04-20T07:30:59.831732Z",
     "iopub.status.busy": "2021-04-20T07:30:59.830846Z",
     "iopub.status.idle": "2021-04-20T07:30:59.900184Z",
     "shell.execute_reply": "2021-04-20T07:30:59.898578Z"
    }
   },
   "outputs": [
    {
     "data": {
      "image/svg+xml": [
       "<?xml version=\"1.0\" encoding=\"UTF-8\" standalone=\"no\"?><svg xmlns=\"http://www.w3.org/2000/svg\" xmlns:xlink=\"http://www.w3.org/1999/xlink\" contentScriptType=\"application/ecmascript\" contentStyleType=\"text/css\" height=\"310px\" preserveAspectRatio=\"none\" style=\"width:253px;height:310px;\" version=\"1.1\" viewBox=\"0 0 253 310\" width=\"253px\" zoomAndPan=\"magnify\"><defs/><g><!--MD5=[fbc87193dbaf4d95561dea2c320d4a47]\n",
       "cluster E1--><a href=\"psysml:3aea7368-2129-476d-92d7-ea1a60089676\" target=\"_top\" title=\"psysml:3aea7368-2129-476d-92d7-ea1a60089676\" xlink:actuate=\"onRequest\" xlink:href=\"psysml:3aea7368-2129-476d-92d7-ea1a60089676\" xlink:show=\"new\" xlink:title=\"psysml:3aea7368-2129-476d-92d7-ea1a60089676\" xlink:type=\"simple\"><polygon fill=\"#FFFFFF\" points=\"16,6,221,6,228,28.2969,231,28.2969,231,298,16,298,16,6\" style=\"stroke: #000000; stroke-width: 1.5;\"/><line style=\"stroke: #000000; stroke-width: 1.5;\" x1=\"16\" x2=\"228\" y1=\"28.2969\" y2=\"28.2969\"/><text fill=\"#000000\" font-family=\"sans-serif\" font-size=\"14\" font-weight=\"bold\" lengthAdjust=\"spacingAndGlyphs\" textLength=\"199\" x=\"20\" y=\"20.9951\">QualifiedNameImportTest</text></a><!--MD5=[e4f7fae6ed58524ba242bb0b0d3be6b7]\n",
       "cluster E2--><a href=\"psysml:a60b7189-47ac-4303-8a81-d977466f28db\" target=\"_top\" title=\"psysml:a60b7189-47ac-4303-8a81-d977466f28db\" xlink:actuate=\"onRequest\" xlink:href=\"psysml:a60b7189-47ac-4303-8a81-d977466f28db\" xlink:show=\"new\" xlink:title=\"psysml:a60b7189-47ac-4303-8a81-d977466f28db\" xlink:type=\"simple\"><polygon fill=\"#FFFFFF\" points=\"105,177,131,177,138,199.2969,203,199.2969,203,274,105,274,105,177\" style=\"stroke: #000000; stroke-width: 1.5;\"/><line style=\"stroke: #000000; stroke-width: 1.5;\" x1=\"105\" x2=\"138\" y1=\"199.2969\" y2=\"199.2969\"/><text fill=\"#000000\" font-family=\"sans-serif\" font-size=\"14\" font-weight=\"bold\" lengthAdjust=\"spacingAndGlyphs\" textLength=\"20\" x=\"109\" y=\"191.9951\">P1</text></a><!--MD5=[f6df4d0ebaf0b5dfb2ced0ae5af7c670]\n",
       "cluster E4--><a href=\"psysml:ba53b2aa-0756-4dc5-85cd-737c1d1d7585\" target=\"_top\" title=\"psysml:ba53b2aa-0756-4dc5-85cd-737c1d1d7585\" xlink:actuate=\"onRequest\" xlink:href=\"psysml:ba53b2aa-0756-4dc5-85cd-737c1d1d7585\" xlink:show=\"new\" xlink:title=\"psysml:ba53b2aa-0756-4dc5-85cd-737c1d1d7585\" xlink:type=\"simple\"><polygon fill=\"#FFFFFF\" points=\"44,49,70,49,77,71.2969,203,71.2969,203,153,44,153,44,49\" style=\"stroke: #000000; stroke-width: 1.5;\"/><line style=\"stroke: #000000; stroke-width: 1.5;\" x1=\"44\" x2=\"77\" y1=\"71.2969\" y2=\"71.2969\"/><text fill=\"#000000\" font-family=\"sans-serif\" font-size=\"14\" font-weight=\"bold\" lengthAdjust=\"spacingAndGlyphs\" textLength=\"20\" x=\"48\" y=\"63.9951\">P2</text></a><!--MD5=[09b614a08d8cba4a07c9adeb5e0fee81]\n",
       "class E3--><a href=\"psysml:f2420fd6-3670-4cc8-95b9-f254eed1f95d\" target=\"_top\" title=\"psysml:f2420fd6-3670-4cc8-95b9-f254eed1f95d\" xlink:actuate=\"onRequest\" xlink:href=\"psysml:f2420fd6-3670-4cc8-95b9-f254eed1f95d\" xlink:show=\"new\" xlink:title=\"psysml:f2420fd6-3670-4cc8-95b9-f254eed1f95d\" xlink:type=\"simple\"><rect fill=\"#FFFFFF\" height=\"45.9375\" id=\"E3\" style=\"stroke: #383838; stroke-width: 1.5;\" width=\"66\" x=\"121\" y=\"212\"/><text fill=\"#000000\" font-family=\"sans-serif\" font-size=\"12\" font-style=\"italic\" lengthAdjust=\"spacingAndGlyphs\" textLength=\"64\" x=\"122\" y=\"228.1387\">«part def»</text><text fill=\"#000000\" font-family=\"sans-serif\" font-size=\"12\" lengthAdjust=\"spacingAndGlyphs\" textLength=\"8\" x=\"150\" y=\"242.1074\">A</text><line style=\"stroke: #383838; stroke-width: 1.5;\" x1=\"122\" x2=\"186\" y1=\"249.9375\" y2=\"249.9375\"/></a><!--MD5=[60a26617385b1d2d0262a64233df1f8d]\n",
       "class E6--><a href=\"psysml:9a86ed13-d6c7-4ef9-9e5f-c3e51ac044b3\" target=\"_top\" title=\"psysml:9a86ed13-d6c7-4ef9-9e5f-c3e51ac044b3\" xlink:actuate=\"onRequest\" xlink:href=\"psysml:9a86ed13-d6c7-4ef9-9e5f-c3e51ac044b3\" xlink:show=\"new\" xlink:title=\"psysml:9a86ed13-d6c7-4ef9-9e5f-c3e51ac044b3\" xlink:type=\"simple\"><rect fill=\"#FFFFFF\" height=\"45.9375\" id=\"E6\" rx=\"10\" ry=\"10\" style=\"stroke: #383838; stroke-width: 1.5;\" width=\"42\" x=\"145\" y=\"87.5\"/><text fill=\"#000000\" font-family=\"sans-serif\" font-size=\"12\" font-style=\"italic\" lengthAdjust=\"spacingAndGlyphs\" textLength=\"40\" x=\"146\" y=\"103.6387\">«part»</text><text fill=\"#000000\" font-family=\"sans-serif\" font-size=\"12\" lengthAdjust=\"spacingAndGlyphs\" textLength=\"22\" x=\"155\" y=\"117.6074\">x: A</text><line style=\"stroke: #383838; stroke-width: 1.5;\" x1=\"146\" x2=\"186\" y1=\"125.4375\" y2=\"125.4375\"/></a><a href=\"psysml:e63557be-f486-40b8-b38f-45a287622fd5\" target=\"_top\" title=\"psysml:e63557be-f486-40b8-b38f-45a287622fd5\" xlink:actuate=\"onRequest\" xlink:href=\"psysml:e63557be-f486-40b8-b38f-45a287622fd5\" xlink:show=\"new\" xlink:title=\"psysml:e63557be-f486-40b8-b38f-45a287622fd5\" xlink:type=\"simple\"><polygon fill=\"#FFFFFF\" points=\"60.5,84,95.5,84,102.5,106.2969,109.5,106.2969,109.5,136.5938,60.5,136.5938,60.5,84\" style=\"stroke: #000000; stroke-width: 1.5;\"/><line style=\"stroke: #000000; stroke-width: 1.5;\" x1=\"60.5\" x2=\"102.5\" y1=\"106.2969\" y2=\"106.2969\"/><text fill=\"#000000\" font-family=\"sans-serif\" font-size=\"14\" font-weight=\"bold\" lengthAdjust=\"spacingAndGlyphs\" textLength=\"29\" x=\"64.5\" y=\"98.9951\">P2a</text></a><!--MD5=[a717450b82c80b9240a525fa862496af]\n",
       "link E6 to E3--><a href=\"psysml:9d868367-c6cc-4e4e-a580-36a1751bbca7\" target=\"_top\" title=\"psysml:9d868367-c6cc-4e4e-a580-36a1751bbca7\" xlink:actuate=\"onRequest\" xlink:href=\"psysml:9d868367-c6cc-4e4e-a580-36a1751bbca7\" xlink:show=\"new\" xlink:title=\"psysml:9d868367-c6cc-4e4e-a580-36a1751bbca7\" xlink:type=\"simple\"><path d=\"M163.83,133.68 C162.24,149.9 160.04,172.39 158.12,191.96 \" fill=\"none\" id=\"E6-&gt;E3\" style=\"stroke: #383838; stroke-width: 1.0;\"/><polygon fill=\"#FFFFFF\" points=\"156.16,211.98,151.0533,192.3861,164.986,193.7564,156.16,211.98\" style=\"stroke: #383838; stroke-width: 1.0;\"/><ellipse cx=\"153.6016\" cy=\"186.9092\" fill=\"#383838\" rx=\"2\" ry=\"2\" style=\"stroke: #383838; stroke-width: 1.0;\"/><ellipse cx=\"163.5535\" cy=\"187.888\" fill=\"#383838\" rx=\"2\" ry=\"2\" style=\"stroke: #383838; stroke-width: 1.0;\"/></a><!--MD5=[69a80f12b13fa548a0adcfe449ee78b0]\n",
       "@startuml\r\n",
       "skinparam linetype polyline\r\n",
       "skinparam monochrome true\r\n",
       "skinparam classbackgroundcolor white\r\n",
       "skinparam shadowing false\r\n",
       "skinparam wrapWidth 300\r\n",
       "hide circle\r\n",
       "\r\n",
       "package \"QualifiedNameImportTest\" as E1  [[psysml:3aea7368-2129-476d-92d7-ea1a60089676 ]]  {\r\n",
       "package \"P1\" as E2  [[psysml:a60b7189-47ac-4303-8a81-d977466f28db ]]  {\r\n",
       "comp def \"A\" as E3  <<(T,blue)part def>> [[psysml:f2420fd6-3670-4cc8-95b9-f254eed1f95d ]] {\r\n",
       "}\r\n",
       "}\r\n",
       "package \"P2\" as E4  [[psysml:ba53b2aa-0756-4dc5-85cd-737c1d1d7585 ]]  {\r\n",
       "package \"P2a\" as E5  [[psysml:e63557be-f486-40b8-b38f-45a287622fd5 ]]  {\r\n",
       "}\r\n",
       "comp usage \"x: A\" as E6  <<(T,blue)part>> [[psysml:9a86ed13-d6c7-4ef9-9e5f-c3e51ac044b3 ]] {\r\n",
       "}\r\n",
       "E6 - -:|> E3 [[psysml:9d868367-c6cc-4e4e-a580-36a1751bbca7 ]] \r\n",
       "}\r\n",
       "}\r\n",
       "@enduml\r\n",
       "\n",
       "PlantUML version 1.2020.13(Sat Jun 13 12:26:38 UTC 2020)\n",
       "(EPL source distribution)\n",
       "Java Runtime: OpenJDK Runtime Environment\n",
       "JVM: OpenJDK 64-Bit Server VM\n",
       "Default Encoding: UTF-8\n",
       "Language: en\n",
       "Country: null\n",
       "--></g></svg>"
      ]
     },
     "execution_count": 15,
     "metadata": {},
     "output_type": "execute_result"
    }
   ],
   "source": [
    "%viz --style=\"POLYLINE\" --view=\"MIXED\" \"QualifiedNameImportTest\""
   ]
  },
  {
   "cell_type": "code",
   "execution_count": 16,
   "id": "ba8f6eb0",
   "metadata": {
    "execution": {
     "iopub.execute_input": "2021-04-20T07:30:59.948006Z",
     "iopub.status.busy": "2021-04-20T07:30:59.947367Z",
     "iopub.status.idle": "2021-04-20T07:30:59.991318Z",
     "shell.execute_reply": "2021-04-20T07:30:59.990864Z"
    }
   },
   "outputs": [
    {
     "data": {
      "image/svg+xml": [
       "<?xml version=\"1.0\" encoding=\"UTF-8\" standalone=\"no\"?><svg xmlns=\"http://www.w3.org/2000/svg\" xmlns:xlink=\"http://www.w3.org/1999/xlink\" contentScriptType=\"application/ecmascript\" contentStyleType=\"text/css\" height=\"271px\" preserveAspectRatio=\"none\" style=\"width:293px;height:271px;\" version=\"1.1\" viewBox=\"0 0 293 271\" width=\"293px\" zoomAndPan=\"magnify\"><defs/><g><!--MD5=[fbc87193dbaf4d95561dea2c320d4a47]\n",
       "cluster E1--><a href=\"psysml:3aea7368-2129-476d-92d7-ea1a60089676\" target=\"_top\" title=\"psysml:3aea7368-2129-476d-92d7-ea1a60089676\" xlink:actuate=\"onRequest\" xlink:href=\"psysml:3aea7368-2129-476d-92d7-ea1a60089676\" xlink:show=\"new\" xlink:title=\"psysml:3aea7368-2129-476d-92d7-ea1a60089676\" xlink:type=\"simple\"><polygon fill=\"#FFFFFF\" points=\"16,6,221,6,228,28.2969,271,28.2969,271,259,16,259,16,6\" style=\"stroke: #000000; stroke-width: 1.5;\"/><line style=\"stroke: #000000; stroke-width: 1.5;\" x1=\"16\" x2=\"228\" y1=\"28.2969\" y2=\"28.2969\"/><text fill=\"#000000\" font-family=\"sans-serif\" font-size=\"14\" font-weight=\"bold\" lengthAdjust=\"spacingAndGlyphs\" textLength=\"199\" x=\"20\" y=\"20.9951\">QualifiedNameImportTest</text></a><!--MD5=[e4f7fae6ed58524ba242bb0b0d3be6b7]\n",
       "cluster E2--><a href=\"psysml:a60b7189-47ac-4303-8a81-d977466f28db\" target=\"_top\" title=\"psysml:a60b7189-47ac-4303-8a81-d977466f28db\" xlink:actuate=\"onRequest\" xlink:href=\"psysml:a60b7189-47ac-4303-8a81-d977466f28db\" xlink:show=\"new\" xlink:title=\"psysml:a60b7189-47ac-4303-8a81-d977466f28db\" xlink:type=\"simple\"><polygon fill=\"#FFFFFF\" points=\"149,49,175,49,182,71.2969,247,71.2969,247,146,149,146,149,49\" style=\"stroke: #000000; stroke-width: 1.5;\"/><line style=\"stroke: #000000; stroke-width: 1.5;\" x1=\"149\" x2=\"182\" y1=\"71.2969\" y2=\"71.2969\"/><text fill=\"#000000\" font-family=\"sans-serif\" font-size=\"14\" font-weight=\"bold\" lengthAdjust=\"spacingAndGlyphs\" textLength=\"20\" x=\"153\" y=\"63.9951\">P1</text></a><!--MD5=[f6df4d0ebaf0b5dfb2ced0ae5af7c670]\n",
       "cluster E4--><a href=\"psysml:ba53b2aa-0756-4dc5-85cd-737c1d1d7585\" target=\"_top\" title=\"psysml:ba53b2aa-0756-4dc5-85cd-737c1d1d7585\" xlink:actuate=\"onRequest\" xlink:href=\"psysml:ba53b2aa-0756-4dc5-85cd-737c1d1d7585\" xlink:show=\"new\" xlink:title=\"psysml:ba53b2aa-0756-4dc5-85cd-737c1d1d7585\" xlink:type=\"simple\"><polygon fill=\"#FFFFFF\" points=\"40,49,66,49,73,71.2969,121,71.2969,121,235,40,235,40,49\" style=\"stroke: #000000; stroke-width: 1.5;\"/><line style=\"stroke: #000000; stroke-width: 1.5;\" x1=\"40\" x2=\"73\" y1=\"71.2969\" y2=\"71.2969\"/><text fill=\"#000000\" font-family=\"sans-serif\" font-size=\"14\" font-weight=\"bold\" lengthAdjust=\"spacingAndGlyphs\" textLength=\"20\" x=\"44\" y=\"63.9951\">P2</text></a><!--MD5=[09b614a08d8cba4a07c9adeb5e0fee81]\n",
       "class E3--><a href=\"psysml:f2420fd6-3670-4cc8-95b9-f254eed1f95d\" target=\"_top\" title=\"psysml:f2420fd6-3670-4cc8-95b9-f254eed1f95d\" xlink:actuate=\"onRequest\" xlink:href=\"psysml:f2420fd6-3670-4cc8-95b9-f254eed1f95d\" xlink:show=\"new\" xlink:title=\"psysml:f2420fd6-3670-4cc8-95b9-f254eed1f95d\" xlink:type=\"simple\"><rect fill=\"#FFFFFF\" height=\"45.9375\" id=\"E3\" style=\"stroke: #383838; stroke-width: 1.5;\" width=\"66\" x=\"165\" y=\"84\"/><text fill=\"#000000\" font-family=\"sans-serif\" font-size=\"12\" font-style=\"italic\" lengthAdjust=\"spacingAndGlyphs\" textLength=\"64\" x=\"166\" y=\"100.1387\">«part def»</text><text fill=\"#000000\" font-family=\"sans-serif\" font-size=\"12\" lengthAdjust=\"spacingAndGlyphs\" textLength=\"8\" x=\"194\" y=\"114.1074\">A</text><line style=\"stroke: #383838; stroke-width: 1.5;\" x1=\"166\" x2=\"230\" y1=\"121.9375\" y2=\"121.9375\"/></a><!--MD5=[60a26617385b1d2d0262a64233df1f8d]\n",
       "class E6--><a href=\"psysml:9a86ed13-d6c7-4ef9-9e5f-c3e51ac044b3\" target=\"_top\" title=\"psysml:9a86ed13-d6c7-4ef9-9e5f-c3e51ac044b3\" xlink:actuate=\"onRequest\" xlink:href=\"psysml:9a86ed13-d6c7-4ef9-9e5f-c3e51ac044b3\" xlink:show=\"new\" xlink:title=\"psysml:9a86ed13-d6c7-4ef9-9e5f-c3e51ac044b3\" xlink:type=\"simple\"><rect fill=\"#FFFFFF\" height=\"45.9375\" id=\"E6\" rx=\"10\" ry=\"10\" style=\"stroke: #383838; stroke-width: 1.5;\" width=\"42\" x=\"59.5\" y=\"84\"/><text fill=\"#000000\" font-family=\"sans-serif\" font-size=\"12\" font-style=\"italic\" lengthAdjust=\"spacingAndGlyphs\" textLength=\"40\" x=\"60.5\" y=\"100.1387\">«part»</text><text fill=\"#000000\" font-family=\"sans-serif\" font-size=\"12\" lengthAdjust=\"spacingAndGlyphs\" textLength=\"22\" x=\"69.5\" y=\"114.1074\">x: A</text><line style=\"stroke: #383838; stroke-width: 1.5;\" x1=\"60.5\" x2=\"100.5\" y1=\"121.9375\" y2=\"121.9375\"/></a><a href=\"psysml:e63557be-f486-40b8-b38f-45a287622fd5\" target=\"_top\" title=\"psysml:e63557be-f486-40b8-b38f-45a287622fd5\" xlink:actuate=\"onRequest\" xlink:href=\"psysml:e63557be-f486-40b8-b38f-45a287622fd5\" xlink:show=\"new\" xlink:title=\"psysml:e63557be-f486-40b8-b38f-45a287622fd5\" xlink:type=\"simple\"><polygon fill=\"#FFFFFF\" points=\"56,165.5,91,165.5,98,187.7969,105,187.7969,105,218.0938,56,218.0938,56,165.5\" style=\"stroke: #000000; stroke-width: 1.5;\"/><line style=\"stroke: #000000; stroke-width: 1.5;\" x1=\"56\" x2=\"98\" y1=\"187.7969\" y2=\"187.7969\"/><text fill=\"#000000\" font-family=\"sans-serif\" font-size=\"14\" font-weight=\"bold\" lengthAdjust=\"spacingAndGlyphs\" textLength=\"29\" x=\"60\" y=\"180.4951\">P2a</text></a><!--MD5=[a717450b82c80b9240a525fa862496af]\n",
       "link E6 to E3--><a href=\"psysml:9d868367-c6cc-4e4e-a580-36a1751bbca7\" target=\"_top\" title=\"psysml:9d868367-c6cc-4e4e-a580-36a1751bbca7\" xlink:actuate=\"onRequest\" xlink:href=\"psysml:9d868367-c6cc-4e4e-a580-36a1751bbca7\" xlink:show=\"new\" xlink:title=\"psysml:9d868367-c6cc-4e4e-a580-36a1751bbca7\" xlink:type=\"simple\"><path d=\"M101.62,107 C113.62,107 129.45,107 144.76,107 \" fill=\"none\" id=\"E6-&gt;E3\" style=\"stroke: #383838; stroke-width: 1.0;\"/><polygon fill=\"#FFFFFF\" points=\"164.91,107,145.91,114,145.91,100,164.91,107\" style=\"stroke: #383838; stroke-width: 1.0;\"/><ellipse cx=\"140.21\" cy=\"112\" fill=\"#383838\" rx=\"2\" ry=\"2\" style=\"stroke: #383838; stroke-width: 1.0;\"/><ellipse cx=\"140.21\" cy=\"102\" fill=\"#383838\" rx=\"2\" ry=\"2\" style=\"stroke: #383838; stroke-width: 1.0;\"/></a><!--MD5=[66bef7098ceed8b984ac2e6261ef9e89]\n",
       "@startuml\r\n",
       "left to right direction\r\n",
       "skinparam monochrome true\r\n",
       "skinparam classbackgroundcolor white\r\n",
       "skinparam shadowing false\r\n",
       "skinparam wrapWidth 300\r\n",
       "hide circle\r\n",
       "\r\n",
       "package \"QualifiedNameImportTest\" as E1  [[psysml:3aea7368-2129-476d-92d7-ea1a60089676 ]]  {\r\n",
       "package \"P1\" as E2  [[psysml:a60b7189-47ac-4303-8a81-d977466f28db ]]  {\r\n",
       "comp def \"A\" as E3  <<(T,blue)part def>> [[psysml:f2420fd6-3670-4cc8-95b9-f254eed1f95d ]] {\r\n",
       "}\r\n",
       "}\r\n",
       "package \"P2\" as E4  [[psysml:ba53b2aa-0756-4dc5-85cd-737c1d1d7585 ]]  {\r\n",
       "package \"P2a\" as E5  [[psysml:e63557be-f486-40b8-b38f-45a287622fd5 ]]  {\r\n",
       "}\r\n",
       "comp usage \"x: A\" as E6  <<(T,blue)part>> [[psysml:9a86ed13-d6c7-4ef9-9e5f-c3e51ac044b3 ]] {\r\n",
       "}\r\n",
       "E6 - -:|> E3 [[psysml:9d868367-c6cc-4e4e-a580-36a1751bbca7 ]] \r\n",
       "}\r\n",
       "}\r\n",
       "@enduml\r\n",
       "\n",
       "PlantUML version 1.2020.13(Sat Jun 13 12:26:38 UTC 2020)\n",
       "(EPL source distribution)\n",
       "Java Runtime: OpenJDK Runtime Environment\n",
       "JVM: OpenJDK 64-Bit Server VM\n",
       "Default Encoding: UTF-8\n",
       "Language: en\n",
       "Country: null\n",
       "--></g></svg>"
      ]
     },
     "execution_count": 16,
     "metadata": {},
     "output_type": "execute_result"
    }
   ],
   "source": [
    "%viz --style=\"LR\" --view=\"Default\" \"QualifiedNameImportTest\""
   ]
  },
  {
   "cell_type": "code",
   "execution_count": 17,
   "id": "79a1a921",
   "metadata": {
    "execution": {
     "iopub.execute_input": "2021-04-20T07:31:00.040132Z",
     "iopub.status.busy": "2021-04-20T07:31:00.039524Z",
     "iopub.status.idle": "2021-04-20T07:31:00.079009Z",
     "shell.execute_reply": "2021-04-20T07:31:00.078481Z"
    }
   },
   "outputs": [
    {
     "data": {
      "image/svg+xml": [
       "<?xml version=\"1.0\" encoding=\"UTF-8\" standalone=\"no\"?><svg xmlns=\"http://www.w3.org/2000/svg\" xmlns:xlink=\"http://www.w3.org/1999/xlink\" contentScriptType=\"application/ecmascript\" contentStyleType=\"text/css\" height=\"271px\" preserveAspectRatio=\"none\" style=\"width:293px;height:271px;\" version=\"1.1\" viewBox=\"0 0 293 271\" width=\"293px\" zoomAndPan=\"magnify\"><defs/><g><!--MD5=[fbc87193dbaf4d95561dea2c320d4a47]\n",
       "cluster E1--><a href=\"psysml:3aea7368-2129-476d-92d7-ea1a60089676\" target=\"_top\" title=\"psysml:3aea7368-2129-476d-92d7-ea1a60089676\" xlink:actuate=\"onRequest\" xlink:href=\"psysml:3aea7368-2129-476d-92d7-ea1a60089676\" xlink:show=\"new\" xlink:title=\"psysml:3aea7368-2129-476d-92d7-ea1a60089676\" xlink:type=\"simple\"><polygon fill=\"#FFFFFF\" points=\"16,6,221,6,228,28.2969,271,28.2969,271,259,16,259,16,6\" style=\"stroke: #000000; stroke-width: 1.5;\"/><line style=\"stroke: #000000; stroke-width: 1.5;\" x1=\"16\" x2=\"228\" y1=\"28.2969\" y2=\"28.2969\"/><text fill=\"#000000\" font-family=\"sans-serif\" font-size=\"14\" font-weight=\"bold\" lengthAdjust=\"spacingAndGlyphs\" textLength=\"199\" x=\"20\" y=\"20.9951\">QualifiedNameImportTest</text></a><!--MD5=[e4f7fae6ed58524ba242bb0b0d3be6b7]\n",
       "cluster E2--><a href=\"psysml:a60b7189-47ac-4303-8a81-d977466f28db\" target=\"_top\" title=\"psysml:a60b7189-47ac-4303-8a81-d977466f28db\" xlink:actuate=\"onRequest\" xlink:href=\"psysml:a60b7189-47ac-4303-8a81-d977466f28db\" xlink:show=\"new\" xlink:title=\"psysml:a60b7189-47ac-4303-8a81-d977466f28db\" xlink:type=\"simple\"><polygon fill=\"#FFFFFF\" points=\"149,49,175,49,182,71.2969,247,71.2969,247,146,149,146,149,49\" style=\"stroke: #000000; stroke-width: 1.5;\"/><line style=\"stroke: #000000; stroke-width: 1.5;\" x1=\"149\" x2=\"182\" y1=\"71.2969\" y2=\"71.2969\"/><text fill=\"#000000\" font-family=\"sans-serif\" font-size=\"14\" font-weight=\"bold\" lengthAdjust=\"spacingAndGlyphs\" textLength=\"20\" x=\"153\" y=\"63.9951\">P1</text></a><!--MD5=[f6df4d0ebaf0b5dfb2ced0ae5af7c670]\n",
       "cluster E4--><a href=\"psysml:ba53b2aa-0756-4dc5-85cd-737c1d1d7585\" target=\"_top\" title=\"psysml:ba53b2aa-0756-4dc5-85cd-737c1d1d7585\" xlink:actuate=\"onRequest\" xlink:href=\"psysml:ba53b2aa-0756-4dc5-85cd-737c1d1d7585\" xlink:show=\"new\" xlink:title=\"psysml:ba53b2aa-0756-4dc5-85cd-737c1d1d7585\" xlink:type=\"simple\"><polygon fill=\"#FFFFFF\" points=\"40,49,66,49,73,71.2969,121,71.2969,121,235,40,235,40,49\" style=\"stroke: #000000; stroke-width: 1.5;\"/><line style=\"stroke: #000000; stroke-width: 1.5;\" x1=\"40\" x2=\"73\" y1=\"71.2969\" y2=\"71.2969\"/><text fill=\"#000000\" font-family=\"sans-serif\" font-size=\"14\" font-weight=\"bold\" lengthAdjust=\"spacingAndGlyphs\" textLength=\"20\" x=\"44\" y=\"63.9951\">P2</text></a><!--MD5=[09b614a08d8cba4a07c9adeb5e0fee81]\n",
       "class E3--><a href=\"psysml:f2420fd6-3670-4cc8-95b9-f254eed1f95d\" target=\"_top\" title=\"psysml:f2420fd6-3670-4cc8-95b9-f254eed1f95d\" xlink:actuate=\"onRequest\" xlink:href=\"psysml:f2420fd6-3670-4cc8-95b9-f254eed1f95d\" xlink:show=\"new\" xlink:title=\"psysml:f2420fd6-3670-4cc8-95b9-f254eed1f95d\" xlink:type=\"simple\"><rect fill=\"#FFFFFF\" height=\"45.9375\" id=\"E3\" style=\"stroke: #383838; stroke-width: 1.5;\" width=\"66\" x=\"165\" y=\"84\"/><text fill=\"#000000\" font-family=\"sans-serif\" font-size=\"12\" font-style=\"italic\" lengthAdjust=\"spacingAndGlyphs\" textLength=\"64\" x=\"166\" y=\"100.1387\">«part def»</text><text fill=\"#000000\" font-family=\"sans-serif\" font-size=\"12\" lengthAdjust=\"spacingAndGlyphs\" textLength=\"8\" x=\"194\" y=\"114.1074\">A</text><line style=\"stroke: #383838; stroke-width: 1.5;\" x1=\"166\" x2=\"230\" y1=\"121.9375\" y2=\"121.9375\"/></a><!--MD5=[60a26617385b1d2d0262a64233df1f8d]\n",
       "class E6--><a href=\"psysml:9a86ed13-d6c7-4ef9-9e5f-c3e51ac044b3\" target=\"_top\" title=\"psysml:9a86ed13-d6c7-4ef9-9e5f-c3e51ac044b3\" xlink:actuate=\"onRequest\" xlink:href=\"psysml:9a86ed13-d6c7-4ef9-9e5f-c3e51ac044b3\" xlink:show=\"new\" xlink:title=\"psysml:9a86ed13-d6c7-4ef9-9e5f-c3e51ac044b3\" xlink:type=\"simple\"><rect fill=\"#FFFFFF\" height=\"45.9375\" id=\"E6\" rx=\"10\" ry=\"10\" style=\"stroke: #383838; stroke-width: 1.5;\" width=\"42\" x=\"59.5\" y=\"84\"/><text fill=\"#000000\" font-family=\"sans-serif\" font-size=\"12\" font-style=\"italic\" lengthAdjust=\"spacingAndGlyphs\" textLength=\"40\" x=\"60.5\" y=\"100.1387\">«part»</text><text fill=\"#000000\" font-family=\"sans-serif\" font-size=\"12\" lengthAdjust=\"spacingAndGlyphs\" textLength=\"22\" x=\"69.5\" y=\"114.1074\">x: A</text><line style=\"stroke: #383838; stroke-width: 1.5;\" x1=\"60.5\" x2=\"100.5\" y1=\"121.9375\" y2=\"121.9375\"/></a><a href=\"psysml:e63557be-f486-40b8-b38f-45a287622fd5\" target=\"_top\" title=\"psysml:e63557be-f486-40b8-b38f-45a287622fd5\" xlink:actuate=\"onRequest\" xlink:href=\"psysml:e63557be-f486-40b8-b38f-45a287622fd5\" xlink:show=\"new\" xlink:title=\"psysml:e63557be-f486-40b8-b38f-45a287622fd5\" xlink:type=\"simple\"><polygon fill=\"#FFFFFF\" points=\"56,165.5,91,165.5,98,187.7969,105,187.7969,105,218.0938,56,218.0938,56,165.5\" style=\"stroke: #000000; stroke-width: 1.5;\"/><line style=\"stroke: #000000; stroke-width: 1.5;\" x1=\"56\" x2=\"98\" y1=\"187.7969\" y2=\"187.7969\"/><text fill=\"#000000\" font-family=\"sans-serif\" font-size=\"14\" font-weight=\"bold\" lengthAdjust=\"spacingAndGlyphs\" textLength=\"29\" x=\"60\" y=\"180.4951\">P2a</text></a><!--MD5=[a717450b82c80b9240a525fa862496af]\n",
       "link E6 to E3--><a href=\"psysml:9d868367-c6cc-4e4e-a580-36a1751bbca7\" target=\"_top\" title=\"psysml:9d868367-c6cc-4e4e-a580-36a1751bbca7\" xlink:actuate=\"onRequest\" xlink:href=\"psysml:9d868367-c6cc-4e4e-a580-36a1751bbca7\" xlink:show=\"new\" xlink:title=\"psysml:9d868367-c6cc-4e4e-a580-36a1751bbca7\" xlink:type=\"simple\"><path d=\"M101.62,107 C113.62,107 129.45,107 144.76,107 \" fill=\"none\" id=\"E6-&gt;E3\" style=\"stroke: #383838; stroke-width: 1.0;\"/><polygon fill=\"#FFFFFF\" points=\"164.91,107,145.91,114,145.91,100,164.91,107\" style=\"stroke: #383838; stroke-width: 1.0;\"/><ellipse cx=\"140.21\" cy=\"112\" fill=\"#383838\" rx=\"2\" ry=\"2\" style=\"stroke: #383838; stroke-width: 1.0;\"/><ellipse cx=\"140.21\" cy=\"102\" fill=\"#383838\" rx=\"2\" ry=\"2\" style=\"stroke: #383838; stroke-width: 1.0;\"/></a><!--MD5=[66bef7098ceed8b984ac2e6261ef9e89]\n",
       "@startuml\r\n",
       "left to right direction\r\n",
       "skinparam monochrome true\r\n",
       "skinparam classbackgroundcolor white\r\n",
       "skinparam shadowing false\r\n",
       "skinparam wrapWidth 300\r\n",
       "hide circle\r\n",
       "\r\n",
       "package \"QualifiedNameImportTest\" as E1  [[psysml:3aea7368-2129-476d-92d7-ea1a60089676 ]]  {\r\n",
       "package \"P1\" as E2  [[psysml:a60b7189-47ac-4303-8a81-d977466f28db ]]  {\r\n",
       "comp def \"A\" as E3  <<(T,blue)part def>> [[psysml:f2420fd6-3670-4cc8-95b9-f254eed1f95d ]] {\r\n",
       "}\r\n",
       "}\r\n",
       "package \"P2\" as E4  [[psysml:ba53b2aa-0756-4dc5-85cd-737c1d1d7585 ]]  {\r\n",
       "package \"P2a\" as E5  [[psysml:e63557be-f486-40b8-b38f-45a287622fd5 ]]  {\r\n",
       "}\r\n",
       "comp usage \"x: A\" as E6  <<(T,blue)part>> [[psysml:9a86ed13-d6c7-4ef9-9e5f-c3e51ac044b3 ]] {\r\n",
       "}\r\n",
       "E6 - -:|> E3 [[psysml:9d868367-c6cc-4e4e-a580-36a1751bbca7 ]] \r\n",
       "}\r\n",
       "}\r\n",
       "@enduml\r\n",
       "\n",
       "PlantUML version 1.2020.13(Sat Jun 13 12:26:38 UTC 2020)\n",
       "(EPL source distribution)\n",
       "Java Runtime: OpenJDK Runtime Environment\n",
       "JVM: OpenJDK 64-Bit Server VM\n",
       "Default Encoding: UTF-8\n",
       "Language: en\n",
       "Country: null\n",
       "--></g></svg>"
      ]
     },
     "execution_count": 17,
     "metadata": {},
     "output_type": "execute_result"
    }
   ],
   "source": [
    "%viz --style=\"LR\" --view=\"Tree\" \"QualifiedNameImportTest\""
   ]
  },
  {
   "cell_type": "code",
   "execution_count": 18,
   "id": "77255092",
   "metadata": {
    "execution": {
     "iopub.execute_input": "2021-04-20T07:31:00.131129Z",
     "iopub.status.busy": "2021-04-20T07:31:00.130314Z",
     "iopub.status.idle": "2021-04-20T07:31:00.141016Z",
     "shell.execute_reply": "2021-04-20T07:31:00.140649Z"
    }
   },
   "outputs": [
    {
     "data": {
      "image/svg+xml": [
       "<?xml version=\"1.0\" encoding=\"UTF-8\" standalone=\"no\"?><svg xmlns=\"http://www.w3.org/2000/svg\" xmlns:xlink=\"http://www.w3.org/1999/xlink\" contentScriptType=\"application/ecmascript\" contentStyleType=\"text/css\" height=\"12px\" preserveAspectRatio=\"none\" style=\"width:12px;height:12px;\" version=\"1.1\" viewBox=\"0 0 12 12\" width=\"12px\" zoomAndPan=\"magnify\"><defs/><g><!--MD5=[19d285c9d72a204eba4e2cd117d745e8]\n",
       "@startuml\r\n",
       "left to right direction\r\n",
       "skinparam monochrome true\r\n",
       "skinparam classbackgroundcolor white\r\n",
       "skinparam shadowing false\r\n",
       "skinparam wrapWidth 300\r\n",
       "hide circle\r\n",
       "\r\n",
       "@enduml\r\n",
       "\n",
       "PlantUML version 1.2020.13(Sat Jun 13 12:26:38 UTC 2020)\n",
       "(EPL source distribution)\n",
       "Java Runtime: OpenJDK Runtime Environment\n",
       "JVM: OpenJDK 64-Bit Server VM\n",
       "Default Encoding: UTF-8\n",
       "Language: en\n",
       "Country: null\n",
       "--></g></svg>"
      ]
     },
     "execution_count": 18,
     "metadata": {},
     "output_type": "execute_result"
    }
   ],
   "source": [
    "%viz --style=\"LR\" --view=\"State\" \"QualifiedNameImportTest\""
   ]
  },
  {
   "cell_type": "code",
   "execution_count": 19,
   "id": "24d1060d",
   "metadata": {
    "execution": {
     "iopub.execute_input": "2021-04-20T07:31:00.192511Z",
     "iopub.status.busy": "2021-04-20T07:31:00.191662Z",
     "iopub.status.idle": "2021-04-20T07:31:00.232227Z",
     "shell.execute_reply": "2021-04-20T07:31:00.231784Z"
    }
   },
   "outputs": [
    {
     "data": {
      "image/svg+xml": [
       "<?xml version=\"1.0\" encoding=\"UTF-8\" standalone=\"no\"?><svg xmlns=\"http://www.w3.org/2000/svg\" xmlns:xlink=\"http://www.w3.org/1999/xlink\" contentScriptType=\"application/ecmascript\" contentStyleType=\"text/css\" height=\"384px\" preserveAspectRatio=\"none\" style=\"width:253px;height:384px;\" version=\"1.1\" viewBox=\"0 0 253 384\" width=\"253px\" zoomAndPan=\"magnify\"><defs/><g><!--MD5=[fbc87193dbaf4d95561dea2c320d4a47]\n",
       "cluster E1--><a href=\"psysml:3aea7368-2129-476d-92d7-ea1a60089676\" target=\"_top\" title=\"psysml:3aea7368-2129-476d-92d7-ea1a60089676\" xlink:actuate=\"onRequest\" xlink:href=\"psysml:3aea7368-2129-476d-92d7-ea1a60089676\" xlink:show=\"new\" xlink:title=\"psysml:3aea7368-2129-476d-92d7-ea1a60089676\" xlink:type=\"simple\"><polygon fill=\"#FFFFFF\" points=\"16,6,221,6,228,28.2969,231,28.2969,231,372,16,372,16,6\" style=\"stroke: #000000; stroke-width: 1.5;\"/><line style=\"stroke: #000000; stroke-width: 1.5;\" x1=\"16\" x2=\"228\" y1=\"28.2969\" y2=\"28.2969\"/><text fill=\"#000000\" font-family=\"sans-serif\" font-size=\"14\" font-weight=\"bold\" lengthAdjust=\"spacingAndGlyphs\" textLength=\"199\" x=\"20\" y=\"20.9951\">QualifiedNameImportTest</text></a><!--MD5=[e4f7fae6ed58524ba242bb0b0d3be6b7]\n",
       "cluster E2--><a href=\"psysml:a60b7189-47ac-4303-8a81-d977466f28db\" target=\"_top\" title=\"psysml:a60b7189-47ac-4303-8a81-d977466f28db\" xlink:actuate=\"onRequest\" xlink:href=\"psysml:a60b7189-47ac-4303-8a81-d977466f28db\" xlink:show=\"new\" xlink:title=\"psysml:a60b7189-47ac-4303-8a81-d977466f28db\" xlink:type=\"simple\"><polygon fill=\"#FFFFFF\" points=\"72,49,98,49,105,71.2969,175,71.2969,175,144,72,144,72,49\" style=\"stroke: #000000; stroke-width: 1.5;\"/><line style=\"stroke: #000000; stroke-width: 1.5;\" x1=\"72\" x2=\"105\" y1=\"71.2969\" y2=\"71.2969\"/><text fill=\"#000000\" font-family=\"sans-serif\" font-size=\"14\" font-weight=\"bold\" lengthAdjust=\"spacingAndGlyphs\" textLength=\"20\" x=\"76\" y=\"63.9951\">P1</text></a><!--MD5=[f6df4d0ebaf0b5dfb2ced0ae5af7c670]\n",
       "cluster E4--><a href=\"psysml:ba53b2aa-0756-4dc5-85cd-737c1d1d7585\" target=\"_top\" title=\"psysml:ba53b2aa-0756-4dc5-85cd-737c1d1d7585\" xlink:actuate=\"onRequest\" xlink:href=\"psysml:ba53b2aa-0756-4dc5-85cd-737c1d1d7585\" xlink:show=\"new\" xlink:title=\"psysml:ba53b2aa-0756-4dc5-85cd-737c1d1d7585\" xlink:type=\"simple\"><polygon fill=\"#FFFFFF\" points=\"82.5,168,108.5,168,115.5,190.2969,164.5,190.2969,164.5,348,82.5,348,82.5,168\" style=\"stroke: #000000; stroke-width: 1.5;\"/><line style=\"stroke: #000000; stroke-width: 1.5;\" x1=\"82.5\" x2=\"115.5\" y1=\"190.2969\" y2=\"190.2969\"/><text fill=\"#000000\" font-family=\"sans-serif\" font-size=\"14\" font-weight=\"bold\" lengthAdjust=\"spacingAndGlyphs\" textLength=\"20\" x=\"86.5\" y=\"182.9951\">P2</text></a><g id=\"E1.E2.E3\"><a href=\"psysml:f2420fd6-3670-4cc8-95b9-f254eed1f95d\" target=\"_top\" title=\"psysml:f2420fd6-3670-4cc8-95b9-f254eed1f95d\" xlink:actuate=\"onRequest\" xlink:href=\"psysml:f2420fd6-3670-4cc8-95b9-f254eed1f95d\" xlink:show=\"new\" xlink:title=\"psysml:f2420fd6-3670-4cc8-95b9-f254eed1f95d\" xlink:type=\"simple\"><rect fill=\"#FFFFFF\" height=\"42.9375\" id=\"E3\" style=\"stroke: #383838; stroke-width: 1.5;\" width=\"71\" x=\"88\" y=\"84.5\"/><rect fill=\"#F8F8F8\" height=\"37.9375\" style=\"stroke: #383838; stroke-width: 1.5;\" width=\"71\" x=\"88\" y=\"84.5\"/><text fill=\"#000000\" font-family=\"sans-serif\" font-size=\"12\" font-style=\"italic\" lengthAdjust=\"spacingAndGlyphs\" textLength=\"64\" x=\"91.5\" y=\"100.6387\">«part def»</text><text fill=\"#000000\" font-family=\"sans-serif\" font-size=\"12\" lengthAdjust=\"spacingAndGlyphs\" textLength=\"8\" x=\"119.5\" y=\"114.6074\">A</text></a></g><a href=\"psysml:e63557be-f486-40b8-b38f-45a287622fd5\" target=\"_top\" title=\"psysml:e63557be-f486-40b8-b38f-45a287622fd5\" xlink:actuate=\"onRequest\" xlink:href=\"psysml:e63557be-f486-40b8-b38f-45a287622fd5\" xlink:show=\"new\" xlink:title=\"psysml:e63557be-f486-40b8-b38f-45a287622fd5\" xlink:type=\"simple\"><polygon fill=\"#FFFFFF\" points=\"99,203.5,134,203.5,141,225.7969,148,225.7969,148,256.0938,99,256.0938,99,203.5\" style=\"stroke: #000000; stroke-width: 1.5;\"/><line style=\"stroke: #000000; stroke-width: 1.5;\" x1=\"99\" x2=\"141\" y1=\"225.7969\" y2=\"225.7969\"/><text fill=\"#000000\" font-family=\"sans-serif\" font-size=\"14\" font-weight=\"bold\" lengthAdjust=\"spacingAndGlyphs\" textLength=\"29\" x=\"103\" y=\"218.4951\">P2a</text></a><g id=\"E1.E4.E6\"><a href=\"psysml:9a86ed13-d6c7-4ef9-9e5f-c3e51ac044b3\" target=\"_top\" title=\"psysml:9a86ed13-d6c7-4ef9-9e5f-c3e51ac044b3\" xlink:actuate=\"onRequest\" xlink:href=\"psysml:9a86ed13-d6c7-4ef9-9e5f-c3e51ac044b3\" xlink:show=\"new\" xlink:title=\"psysml:9a86ed13-d6c7-4ef9-9e5f-c3e51ac044b3\" xlink:type=\"simple\"><rect fill=\"#FFFFFF\" height=\"40\" id=\"E6\" rx=\"10\" ry=\"10\" style=\"stroke: #383838; stroke-width: 1.5;\" width=\"50\" x=\"98.5\" y=\"292\"/><rect fill=\"#F8F8F8\" height=\"23.9688\" rx=\"10\" ry=\"10\" style=\"stroke: #F8F8F8; stroke-width: 1.5;\" width=\"50\" x=\"98.5\" y=\"292\"/><rect fill=\"#F8F8F8\" height=\"10\" style=\"stroke: #F8F8F8; stroke-width: 1.5;\" width=\"50\" x=\"98.5\" y=\"305.9688\"/><rect fill=\"none\" height=\"40\" id=\"E6\" rx=\"10\" ry=\"10\" style=\"stroke: #383838; stroke-width: 1.5;\" width=\"50\" x=\"98.5\" y=\"292\"/><text fill=\"#000000\" font-family=\"sans-serif\" font-size=\"12\" lengthAdjust=\"spacingAndGlyphs\" textLength=\"22\" x=\"112.5\" y=\"308.1387\">x: A</text></a></g><!--MD5=[60d3ffc7718ce975149c8b52be865602]\n",
       "@startuml\r\n",
       "skinparam ranksep 10\r\n",
       "skinparam rectangle {\r\n",
       " backgroundColor<<block>> LightGreen\r\n",
       "}\r\n",
       "left to right direction\r\n",
       "skinparam monochrome true\r\n",
       "skinparam classbackgroundcolor white\r\n",
       "skinparam shadowing false\r\n",
       "skinparam wrapWidth 300\r\n",
       "hide circle\r\n",
       "\r\n",
       "package \"QualifiedNameImportTest\" as E1  [[psysml:3aea7368-2129-476d-92d7-ea1a60089676 ]]  {\r\n",
       "package \"P1\" as E2  [[psysml:a60b7189-47ac-4303-8a81-d977466f28db ]]  {\r\n",
       "rec def \"A\" as E3  <<(T,blue)part def>> [[psysml:f2420fd6-3670-4cc8-95b9-f254eed1f95d ]] {\r\n",
       "}\r\n",
       "}\r\n",
       "package \"P2\" as E4  [[psysml:ba53b2aa-0756-4dc5-85cd-737c1d1d7585 ]]  {\r\n",
       "package \"P2a\" as E5  [[psysml:e63557be-f486-40b8-b38f-45a287622fd5 ]]  {\r\n",
       "}\r\n",
       "rec usage \"x: A\" as E6  [[psysml:9a86ed13-d6c7-4ef9-9e5f-c3e51ac044b3 ]] {\r\n",
       "}\r\n",
       "}\r\n",
       "}\r\n",
       "@enduml\r\n",
       "\n",
       "PlantUML version 1.2020.13(Sat Jun 13 12:26:38 UTC 2020)\n",
       "(EPL source distribution)\n",
       "Java Runtime: OpenJDK Runtime Environment\n",
       "JVM: OpenJDK 64-Bit Server VM\n",
       "Default Encoding: UTF-8\n",
       "Language: en\n",
       "Country: null\n",
       "--></g></svg>"
      ]
     },
     "execution_count": 19,
     "metadata": {},
     "output_type": "execute_result"
    }
   ],
   "source": [
    "%viz --style=\"LR\" --view=\"Interconnection\" \"QualifiedNameImportTest\""
   ]
  },
  {
   "cell_type": "code",
   "execution_count": 20,
   "id": "5e0f662a",
   "metadata": {
    "execution": {
     "iopub.execute_input": "2021-04-20T07:31:00.282845Z",
     "iopub.status.busy": "2021-04-20T07:31:00.282352Z",
     "iopub.status.idle": "2021-04-20T07:31:00.288823Z",
     "shell.execute_reply": "2021-04-20T07:31:00.288448Z"
    }
   },
   "outputs": [
    {
     "data": {
      "image/svg+xml": [
       "<?xml version=\"1.0\" encoding=\"UTF-8\" standalone=\"no\"?><svg xmlns=\"http://www.w3.org/2000/svg\" xmlns:xlink=\"http://www.w3.org/1999/xlink\" contentScriptType=\"application/ecmascript\" contentStyleType=\"text/css\" height=\"12px\" preserveAspectRatio=\"none\" style=\"width:12px;height:12px;\" version=\"1.1\" viewBox=\"0 0 12 12\" width=\"12px\" zoomAndPan=\"magnify\"><defs/><g><!--MD5=[7aeb398939421629f6affaa4a1a7b125]\n",
       "@startuml\r\n",
       "skinparam ranksep 8\r\n",
       "left to right direction\r\n",
       "skinparam monochrome true\r\n",
       "skinparam classbackgroundcolor white\r\n",
       "skinparam shadowing false\r\n",
       "skinparam wrapWidth 300\r\n",
       "hide circle\r\n",
       "\r\n",
       "@enduml\r\n",
       "\n",
       "PlantUML version 1.2020.13(Sat Jun 13 12:26:38 UTC 2020)\n",
       "(EPL source distribution)\n",
       "Java Runtime: OpenJDK Runtime Environment\n",
       "JVM: OpenJDK 64-Bit Server VM\n",
       "Default Encoding: UTF-8\n",
       "Language: en\n",
       "Country: null\n",
       "--></g></svg>"
      ]
     },
     "execution_count": 20,
     "metadata": {},
     "output_type": "execute_result"
    }
   ],
   "source": [
    "%viz --style=\"LR\" --view=\"Action\" \"QualifiedNameImportTest\""
   ]
  },
  {
   "cell_type": "code",
   "execution_count": 21,
   "id": "8819e77e",
   "metadata": {
    "execution": {
     "iopub.execute_input": "2021-04-20T07:31:00.339510Z",
     "iopub.status.busy": "2021-04-20T07:31:00.339075Z",
     "iopub.status.idle": "2021-04-20T07:31:00.381565Z",
     "shell.execute_reply": "2021-04-20T07:31:00.381067Z"
    }
   },
   "outputs": [
    {
     "data": {
      "image/svg+xml": [
       "<?xml version=\"1.0\" encoding=\"UTF-8\" standalone=\"no\"?><svg xmlns=\"http://www.w3.org/2000/svg\" xmlns:xlink=\"http://www.w3.org/1999/xlink\" contentScriptType=\"application/ecmascript\" contentStyleType=\"text/css\" height=\"271px\" preserveAspectRatio=\"none\" style=\"width:293px;height:271px;\" version=\"1.1\" viewBox=\"0 0 293 271\" width=\"293px\" zoomAndPan=\"magnify\"><defs/><g><!--MD5=[fbc87193dbaf4d95561dea2c320d4a47]\n",
       "cluster E1--><a href=\"psysml:3aea7368-2129-476d-92d7-ea1a60089676\" target=\"_top\" title=\"psysml:3aea7368-2129-476d-92d7-ea1a60089676\" xlink:actuate=\"onRequest\" xlink:href=\"psysml:3aea7368-2129-476d-92d7-ea1a60089676\" xlink:show=\"new\" xlink:title=\"psysml:3aea7368-2129-476d-92d7-ea1a60089676\" xlink:type=\"simple\"><polygon fill=\"#FFFFFF\" points=\"16,6,221,6,228,28.2969,271,28.2969,271,259,16,259,16,6\" style=\"stroke: #000000; stroke-width: 1.5;\"/><line style=\"stroke: #000000; stroke-width: 1.5;\" x1=\"16\" x2=\"228\" y1=\"28.2969\" y2=\"28.2969\"/><text fill=\"#000000\" font-family=\"sans-serif\" font-size=\"14\" font-weight=\"bold\" lengthAdjust=\"spacingAndGlyphs\" textLength=\"199\" x=\"20\" y=\"20.9951\">QualifiedNameImportTest</text></a><!--MD5=[e4f7fae6ed58524ba242bb0b0d3be6b7]\n",
       "cluster E2--><a href=\"psysml:a60b7189-47ac-4303-8a81-d977466f28db\" target=\"_top\" title=\"psysml:a60b7189-47ac-4303-8a81-d977466f28db\" xlink:actuate=\"onRequest\" xlink:href=\"psysml:a60b7189-47ac-4303-8a81-d977466f28db\" xlink:show=\"new\" xlink:title=\"psysml:a60b7189-47ac-4303-8a81-d977466f28db\" xlink:type=\"simple\"><polygon fill=\"#FFFFFF\" points=\"149,49,175,49,182,71.2969,247,71.2969,247,146,149,146,149,49\" style=\"stroke: #000000; stroke-width: 1.5;\"/><line style=\"stroke: #000000; stroke-width: 1.5;\" x1=\"149\" x2=\"182\" y1=\"71.2969\" y2=\"71.2969\"/><text fill=\"#000000\" font-family=\"sans-serif\" font-size=\"14\" font-weight=\"bold\" lengthAdjust=\"spacingAndGlyphs\" textLength=\"20\" x=\"153\" y=\"63.9951\">P1</text></a><!--MD5=[f6df4d0ebaf0b5dfb2ced0ae5af7c670]\n",
       "cluster E4--><a href=\"psysml:ba53b2aa-0756-4dc5-85cd-737c1d1d7585\" target=\"_top\" title=\"psysml:ba53b2aa-0756-4dc5-85cd-737c1d1d7585\" xlink:actuate=\"onRequest\" xlink:href=\"psysml:ba53b2aa-0756-4dc5-85cd-737c1d1d7585\" xlink:show=\"new\" xlink:title=\"psysml:ba53b2aa-0756-4dc5-85cd-737c1d1d7585\" xlink:type=\"simple\"><polygon fill=\"#FFFFFF\" points=\"40,49,66,49,73,71.2969,121,71.2969,121,235,40,235,40,49\" style=\"stroke: #000000; stroke-width: 1.5;\"/><line style=\"stroke: #000000; stroke-width: 1.5;\" x1=\"40\" x2=\"73\" y1=\"71.2969\" y2=\"71.2969\"/><text fill=\"#000000\" font-family=\"sans-serif\" font-size=\"14\" font-weight=\"bold\" lengthAdjust=\"spacingAndGlyphs\" textLength=\"20\" x=\"44\" y=\"63.9951\">P2</text></a><!--MD5=[09b614a08d8cba4a07c9adeb5e0fee81]\n",
       "class E3--><a href=\"psysml:f2420fd6-3670-4cc8-95b9-f254eed1f95d\" target=\"_top\" title=\"psysml:f2420fd6-3670-4cc8-95b9-f254eed1f95d\" xlink:actuate=\"onRequest\" xlink:href=\"psysml:f2420fd6-3670-4cc8-95b9-f254eed1f95d\" xlink:show=\"new\" xlink:title=\"psysml:f2420fd6-3670-4cc8-95b9-f254eed1f95d\" xlink:type=\"simple\"><rect fill=\"#FFFFFF\" height=\"45.9375\" id=\"E3\" style=\"stroke: #383838; stroke-width: 1.5;\" width=\"66\" x=\"165\" y=\"84\"/><text fill=\"#000000\" font-family=\"sans-serif\" font-size=\"12\" font-style=\"italic\" lengthAdjust=\"spacingAndGlyphs\" textLength=\"64\" x=\"166\" y=\"100.1387\">«part def»</text><text fill=\"#000000\" font-family=\"sans-serif\" font-size=\"12\" lengthAdjust=\"spacingAndGlyphs\" textLength=\"8\" x=\"194\" y=\"114.1074\">A</text><line style=\"stroke: #383838; stroke-width: 1.5;\" x1=\"166\" x2=\"230\" y1=\"121.9375\" y2=\"121.9375\"/></a><!--MD5=[60a26617385b1d2d0262a64233df1f8d]\n",
       "class E6--><a href=\"psysml:9a86ed13-d6c7-4ef9-9e5f-c3e51ac044b3\" target=\"_top\" title=\"psysml:9a86ed13-d6c7-4ef9-9e5f-c3e51ac044b3\" xlink:actuate=\"onRequest\" xlink:href=\"psysml:9a86ed13-d6c7-4ef9-9e5f-c3e51ac044b3\" xlink:show=\"new\" xlink:title=\"psysml:9a86ed13-d6c7-4ef9-9e5f-c3e51ac044b3\" xlink:type=\"simple\"><rect fill=\"#FFFFFF\" height=\"45.9375\" id=\"E6\" rx=\"10\" ry=\"10\" style=\"stroke: #383838; stroke-width: 1.5;\" width=\"42\" x=\"59.5\" y=\"84\"/><text fill=\"#000000\" font-family=\"sans-serif\" font-size=\"12\" font-style=\"italic\" lengthAdjust=\"spacingAndGlyphs\" textLength=\"40\" x=\"60.5\" y=\"100.1387\">«part»</text><text fill=\"#000000\" font-family=\"sans-serif\" font-size=\"12\" lengthAdjust=\"spacingAndGlyphs\" textLength=\"22\" x=\"69.5\" y=\"114.1074\">x: A</text><line style=\"stroke: #383838; stroke-width: 1.5;\" x1=\"60.5\" x2=\"100.5\" y1=\"121.9375\" y2=\"121.9375\"/></a><a href=\"psysml:e63557be-f486-40b8-b38f-45a287622fd5\" target=\"_top\" title=\"psysml:e63557be-f486-40b8-b38f-45a287622fd5\" xlink:actuate=\"onRequest\" xlink:href=\"psysml:e63557be-f486-40b8-b38f-45a287622fd5\" xlink:show=\"new\" xlink:title=\"psysml:e63557be-f486-40b8-b38f-45a287622fd5\" xlink:type=\"simple\"><polygon fill=\"#FFFFFF\" points=\"56,165.5,91,165.5,98,187.7969,105,187.7969,105,218.0938,56,218.0938,56,165.5\" style=\"stroke: #000000; stroke-width: 1.5;\"/><line style=\"stroke: #000000; stroke-width: 1.5;\" x1=\"56\" x2=\"98\" y1=\"187.7969\" y2=\"187.7969\"/><text fill=\"#000000\" font-family=\"sans-serif\" font-size=\"14\" font-weight=\"bold\" lengthAdjust=\"spacingAndGlyphs\" textLength=\"29\" x=\"60\" y=\"180.4951\">P2a</text></a><!--MD5=[a717450b82c80b9240a525fa862496af]\n",
       "link E6 to E3--><a href=\"psysml:9d868367-c6cc-4e4e-a580-36a1751bbca7\" target=\"_top\" title=\"psysml:9d868367-c6cc-4e4e-a580-36a1751bbca7\" xlink:actuate=\"onRequest\" xlink:href=\"psysml:9d868367-c6cc-4e4e-a580-36a1751bbca7\" xlink:show=\"new\" xlink:title=\"psysml:9d868367-c6cc-4e4e-a580-36a1751bbca7\" xlink:type=\"simple\"><path d=\"M101.62,107 C113.62,107 129.45,107 144.76,107 \" fill=\"none\" id=\"E6-&gt;E3\" style=\"stroke: #383838; stroke-width: 1.0;\"/><polygon fill=\"#FFFFFF\" points=\"164.91,107,145.91,114,145.91,100,164.91,107\" style=\"stroke: #383838; stroke-width: 1.0;\"/><ellipse cx=\"140.21\" cy=\"112\" fill=\"#383838\" rx=\"2\" ry=\"2\" style=\"stroke: #383838; stroke-width: 1.0;\"/><ellipse cx=\"140.21\" cy=\"102\" fill=\"#383838\" rx=\"2\" ry=\"2\" style=\"stroke: #383838; stroke-width: 1.0;\"/></a><!--MD5=[66bef7098ceed8b984ac2e6261ef9e89]\n",
       "@startuml\r\n",
       "left to right direction\r\n",
       "skinparam monochrome true\r\n",
       "skinparam classbackgroundcolor white\r\n",
       "skinparam shadowing false\r\n",
       "skinparam wrapWidth 300\r\n",
       "hide circle\r\n",
       "\r\n",
       "package \"QualifiedNameImportTest\" as E1  [[psysml:3aea7368-2129-476d-92d7-ea1a60089676 ]]  {\r\n",
       "package \"P1\" as E2  [[psysml:a60b7189-47ac-4303-8a81-d977466f28db ]]  {\r\n",
       "comp def \"A\" as E3  <<(T,blue)part def>> [[psysml:f2420fd6-3670-4cc8-95b9-f254eed1f95d ]] {\r\n",
       "}\r\n",
       "}\r\n",
       "package \"P2\" as E4  [[psysml:ba53b2aa-0756-4dc5-85cd-737c1d1d7585 ]]  {\r\n",
       "package \"P2a\" as E5  [[psysml:e63557be-f486-40b8-b38f-45a287622fd5 ]]  {\r\n",
       "}\r\n",
       "comp usage \"x: A\" as E6  <<(T,blue)part>> [[psysml:9a86ed13-d6c7-4ef9-9e5f-c3e51ac044b3 ]] {\r\n",
       "}\r\n",
       "E6 - -:|> E3 [[psysml:9d868367-c6cc-4e4e-a580-36a1751bbca7 ]] \r\n",
       "}\r\n",
       "}\r\n",
       "@enduml\r\n",
       "\n",
       "PlantUML version 1.2020.13(Sat Jun 13 12:26:38 UTC 2020)\n",
       "(EPL source distribution)\n",
       "Java Runtime: OpenJDK Runtime Environment\n",
       "JVM: OpenJDK 64-Bit Server VM\n",
       "Default Encoding: UTF-8\n",
       "Language: en\n",
       "Country: null\n",
       "--></g></svg>"
      ]
     },
     "execution_count": 21,
     "metadata": {},
     "output_type": "execute_result"
    }
   ],
   "source": [
    "%viz --style=\"LR\" --view=\"Sequence\" \"QualifiedNameImportTest\""
   ]
  },
  {
   "cell_type": "code",
   "execution_count": 22,
   "id": "5b6906f0",
   "metadata": {
    "execution": {
     "iopub.execute_input": "2021-04-20T07:31:00.432325Z",
     "iopub.status.busy": "2021-04-20T07:31:00.431500Z",
     "iopub.status.idle": "2021-04-20T07:31:00.485465Z",
     "shell.execute_reply": "2021-04-20T07:31:00.485059Z"
    }
   },
   "outputs": [
    {
     "data": {
      "image/svg+xml": [
       "<?xml version=\"1.0\" encoding=\"UTF-8\" standalone=\"no\"?><svg xmlns=\"http://www.w3.org/2000/svg\" xmlns:xlink=\"http://www.w3.org/1999/xlink\" contentScriptType=\"application/ecmascript\" contentStyleType=\"text/css\" height=\"271px\" preserveAspectRatio=\"none\" style=\"width:293px;height:271px;\" version=\"1.1\" viewBox=\"0 0 293 271\" width=\"293px\" zoomAndPan=\"magnify\"><defs/><g><!--MD5=[fbc87193dbaf4d95561dea2c320d4a47]\n",
       "cluster E1--><a href=\"psysml:3aea7368-2129-476d-92d7-ea1a60089676\" target=\"_top\" title=\"psysml:3aea7368-2129-476d-92d7-ea1a60089676\" xlink:actuate=\"onRequest\" xlink:href=\"psysml:3aea7368-2129-476d-92d7-ea1a60089676\" xlink:show=\"new\" xlink:title=\"psysml:3aea7368-2129-476d-92d7-ea1a60089676\" xlink:type=\"simple\"><polygon fill=\"#FFFFFF\" points=\"16,6,221,6,228,28.2969,271,28.2969,271,259,16,259,16,6\" style=\"stroke: #000000; stroke-width: 1.5;\"/><line style=\"stroke: #000000; stroke-width: 1.5;\" x1=\"16\" x2=\"228\" y1=\"28.2969\" y2=\"28.2969\"/><text fill=\"#000000\" font-family=\"sans-serif\" font-size=\"14\" font-weight=\"bold\" lengthAdjust=\"spacingAndGlyphs\" textLength=\"199\" x=\"20\" y=\"20.9951\">QualifiedNameImportTest</text></a><!--MD5=[e4f7fae6ed58524ba242bb0b0d3be6b7]\n",
       "cluster E2--><a href=\"psysml:a60b7189-47ac-4303-8a81-d977466f28db\" target=\"_top\" title=\"psysml:a60b7189-47ac-4303-8a81-d977466f28db\" xlink:actuate=\"onRequest\" xlink:href=\"psysml:a60b7189-47ac-4303-8a81-d977466f28db\" xlink:show=\"new\" xlink:title=\"psysml:a60b7189-47ac-4303-8a81-d977466f28db\" xlink:type=\"simple\"><polygon fill=\"#FFFFFF\" points=\"149,49,175,49,182,71.2969,247,71.2969,247,146,149,146,149,49\" style=\"stroke: #000000; stroke-width: 1.5;\"/><line style=\"stroke: #000000; stroke-width: 1.5;\" x1=\"149\" x2=\"182\" y1=\"71.2969\" y2=\"71.2969\"/><text fill=\"#000000\" font-family=\"sans-serif\" font-size=\"14\" font-weight=\"bold\" lengthAdjust=\"spacingAndGlyphs\" textLength=\"20\" x=\"153\" y=\"63.9951\">P1</text></a><!--MD5=[f6df4d0ebaf0b5dfb2ced0ae5af7c670]\n",
       "cluster E4--><a href=\"psysml:ba53b2aa-0756-4dc5-85cd-737c1d1d7585\" target=\"_top\" title=\"psysml:ba53b2aa-0756-4dc5-85cd-737c1d1d7585\" xlink:actuate=\"onRequest\" xlink:href=\"psysml:ba53b2aa-0756-4dc5-85cd-737c1d1d7585\" xlink:show=\"new\" xlink:title=\"psysml:ba53b2aa-0756-4dc5-85cd-737c1d1d7585\" xlink:type=\"simple\"><polygon fill=\"#FFFFFF\" points=\"40,49,66,49,73,71.2969,121,71.2969,121,235,40,235,40,49\" style=\"stroke: #000000; stroke-width: 1.5;\"/><line style=\"stroke: #000000; stroke-width: 1.5;\" x1=\"40\" x2=\"73\" y1=\"71.2969\" y2=\"71.2969\"/><text fill=\"#000000\" font-family=\"sans-serif\" font-size=\"14\" font-weight=\"bold\" lengthAdjust=\"spacingAndGlyphs\" textLength=\"20\" x=\"44\" y=\"63.9951\">P2</text></a><!--MD5=[09b614a08d8cba4a07c9adeb5e0fee81]\n",
       "class E3--><a href=\"psysml:f2420fd6-3670-4cc8-95b9-f254eed1f95d\" target=\"_top\" title=\"psysml:f2420fd6-3670-4cc8-95b9-f254eed1f95d\" xlink:actuate=\"onRequest\" xlink:href=\"psysml:f2420fd6-3670-4cc8-95b9-f254eed1f95d\" xlink:show=\"new\" xlink:title=\"psysml:f2420fd6-3670-4cc8-95b9-f254eed1f95d\" xlink:type=\"simple\"><rect fill=\"#FFFFFF\" height=\"45.9375\" id=\"E3\" style=\"stroke: #383838; stroke-width: 1.5;\" width=\"66\" x=\"165\" y=\"84\"/><text fill=\"#000000\" font-family=\"sans-serif\" font-size=\"12\" font-style=\"italic\" lengthAdjust=\"spacingAndGlyphs\" textLength=\"64\" x=\"166\" y=\"100.1387\">«part def»</text><text fill=\"#000000\" font-family=\"sans-serif\" font-size=\"12\" lengthAdjust=\"spacingAndGlyphs\" textLength=\"8\" x=\"194\" y=\"114.1074\">A</text><line style=\"stroke: #383838; stroke-width: 1.5;\" x1=\"166\" x2=\"230\" y1=\"121.9375\" y2=\"121.9375\"/></a><!--MD5=[60a26617385b1d2d0262a64233df1f8d]\n",
       "class E6--><a href=\"psysml:9a86ed13-d6c7-4ef9-9e5f-c3e51ac044b3\" target=\"_top\" title=\"psysml:9a86ed13-d6c7-4ef9-9e5f-c3e51ac044b3\" xlink:actuate=\"onRequest\" xlink:href=\"psysml:9a86ed13-d6c7-4ef9-9e5f-c3e51ac044b3\" xlink:show=\"new\" xlink:title=\"psysml:9a86ed13-d6c7-4ef9-9e5f-c3e51ac044b3\" xlink:type=\"simple\"><rect fill=\"#FFFFFF\" height=\"45.9375\" id=\"E6\" rx=\"10\" ry=\"10\" style=\"stroke: #383838; stroke-width: 1.5;\" width=\"42\" x=\"59.5\" y=\"84\"/><text fill=\"#000000\" font-family=\"sans-serif\" font-size=\"12\" font-style=\"italic\" lengthAdjust=\"spacingAndGlyphs\" textLength=\"40\" x=\"60.5\" y=\"100.1387\">«part»</text><text fill=\"#000000\" font-family=\"sans-serif\" font-size=\"12\" lengthAdjust=\"spacingAndGlyphs\" textLength=\"22\" x=\"69.5\" y=\"114.1074\">x: A</text><line style=\"stroke: #383838; stroke-width: 1.5;\" x1=\"60.5\" x2=\"100.5\" y1=\"121.9375\" y2=\"121.9375\"/></a><a href=\"psysml:e63557be-f486-40b8-b38f-45a287622fd5\" target=\"_top\" title=\"psysml:e63557be-f486-40b8-b38f-45a287622fd5\" xlink:actuate=\"onRequest\" xlink:href=\"psysml:e63557be-f486-40b8-b38f-45a287622fd5\" xlink:show=\"new\" xlink:title=\"psysml:e63557be-f486-40b8-b38f-45a287622fd5\" xlink:type=\"simple\"><polygon fill=\"#FFFFFF\" points=\"56,165.5,91,165.5,98,187.7969,105,187.7969,105,218.0938,56,218.0938,56,165.5\" style=\"stroke: #000000; stroke-width: 1.5;\"/><line style=\"stroke: #000000; stroke-width: 1.5;\" x1=\"56\" x2=\"98\" y1=\"187.7969\" y2=\"187.7969\"/><text fill=\"#000000\" font-family=\"sans-serif\" font-size=\"14\" font-weight=\"bold\" lengthAdjust=\"spacingAndGlyphs\" textLength=\"29\" x=\"60\" y=\"180.4951\">P2a</text></a><!--MD5=[a717450b82c80b9240a525fa862496af]\n",
       "link E6 to E3--><a href=\"psysml:9d868367-c6cc-4e4e-a580-36a1751bbca7\" target=\"_top\" title=\"psysml:9d868367-c6cc-4e4e-a580-36a1751bbca7\" xlink:actuate=\"onRequest\" xlink:href=\"psysml:9d868367-c6cc-4e4e-a580-36a1751bbca7\" xlink:show=\"new\" xlink:title=\"psysml:9d868367-c6cc-4e4e-a580-36a1751bbca7\" xlink:type=\"simple\"><path d=\"M101.62,107 C113.62,107 129.45,107 144.76,107 \" fill=\"none\" id=\"E6-&gt;E3\" style=\"stroke: #383838; stroke-width: 1.0;\"/><polygon fill=\"#FFFFFF\" points=\"164.91,107,145.91,114,145.91,100,164.91,107\" style=\"stroke: #383838; stroke-width: 1.0;\"/><ellipse cx=\"140.21\" cy=\"112\" fill=\"#383838\" rx=\"2\" ry=\"2\" style=\"stroke: #383838; stroke-width: 1.0;\"/><ellipse cx=\"140.21\" cy=\"102\" fill=\"#383838\" rx=\"2\" ry=\"2\" style=\"stroke: #383838; stroke-width: 1.0;\"/></a><!--MD5=[66bef7098ceed8b984ac2e6261ef9e89]\n",
       "@startuml\r\n",
       "left to right direction\r\n",
       "skinparam monochrome true\r\n",
       "skinparam classbackgroundcolor white\r\n",
       "skinparam shadowing false\r\n",
       "skinparam wrapWidth 300\r\n",
       "hide circle\r\n",
       "\r\n",
       "package \"QualifiedNameImportTest\" as E1  [[psysml:3aea7368-2129-476d-92d7-ea1a60089676 ]]  {\r\n",
       "package \"P1\" as E2  [[psysml:a60b7189-47ac-4303-8a81-d977466f28db ]]  {\r\n",
       "comp def \"A\" as E3  <<(T,blue)part def>> [[psysml:f2420fd6-3670-4cc8-95b9-f254eed1f95d ]] {\r\n",
       "}\r\n",
       "}\r\n",
       "package \"P2\" as E4  [[psysml:ba53b2aa-0756-4dc5-85cd-737c1d1d7585 ]]  {\r\n",
       "package \"P2a\" as E5  [[psysml:e63557be-f486-40b8-b38f-45a287622fd5 ]]  {\r\n",
       "}\r\n",
       "comp usage \"x: A\" as E6  <<(T,blue)part>> [[psysml:9a86ed13-d6c7-4ef9-9e5f-c3e51ac044b3 ]] {\r\n",
       "}\r\n",
       "E6 - -:|> E3 [[psysml:9d868367-c6cc-4e4e-a580-36a1751bbca7 ]] \r\n",
       "}\r\n",
       "}\r\n",
       "@enduml\r\n",
       "\n",
       "PlantUML version 1.2020.13(Sat Jun 13 12:26:38 UTC 2020)\n",
       "(EPL source distribution)\n",
       "Java Runtime: OpenJDK Runtime Environment\n",
       "JVM: OpenJDK 64-Bit Server VM\n",
       "Default Encoding: UTF-8\n",
       "Language: en\n",
       "Country: null\n",
       "--></g></svg>"
      ]
     },
     "execution_count": 22,
     "metadata": {},
     "output_type": "execute_result"
    }
   ],
   "source": [
    "%viz --style=\"LR\" --view=\"MIXED\" \"QualifiedNameImportTest\""
   ]
  },
  {
   "cell_type": "code",
   "execution_count": 23,
   "id": "1ca2e0e6",
   "metadata": {
    "execution": {
     "iopub.execute_input": "2021-04-20T07:31:00.534926Z",
     "iopub.status.busy": "2021-04-20T07:31:00.534457Z",
     "iopub.status.idle": "2021-04-20T07:31:00.583375Z",
     "shell.execute_reply": "2021-04-20T07:31:00.579830Z"
    }
   },
   "outputs": [
    {
     "data": {
      "image/svg+xml": [
       "<?xml version=\"1.0\" encoding=\"UTF-8\" standalone=\"no\"?><svg xmlns=\"http://www.w3.org/2000/svg\" xmlns:xlink=\"http://www.w3.org/1999/xlink\" contentScriptType=\"application/ecmascript\" contentStyleType=\"text/css\" height=\"310px\" preserveAspectRatio=\"none\" style=\"width:253px;height:310px;\" version=\"1.1\" viewBox=\"0 0 253 310\" width=\"253px\" zoomAndPan=\"magnify\"><defs><filter height=\"300%\" id=\"f1en4thqjpa3m0\" width=\"300%\" x=\"-1\" y=\"-1\"><feGaussianBlur result=\"blurOut\" stdDeviation=\"2.0\"/><feColorMatrix in=\"blurOut\" result=\"blurOut2\" type=\"matrix\" values=\"0 0 0 0 0 0 0 0 0 0 0 0 0 0 0 0 0 0 .4 0\"/><feOffset dx=\"4.0\" dy=\"4.0\" in=\"blurOut2\" result=\"blurOut3\"/><feBlend in=\"SourceGraphic\" in2=\"blurOut3\" mode=\"normal\"/></filter></defs><g><!--MD5=[fbc87193dbaf4d95561dea2c320d4a47]\n",
       "cluster E1--><a href=\"psysml:3aea7368-2129-476d-92d7-ea1a60089676\" target=\"_top\" title=\"psysml:3aea7368-2129-476d-92d7-ea1a60089676\" xlink:actuate=\"onRequest\" xlink:href=\"psysml:3aea7368-2129-476d-92d7-ea1a60089676\" xlink:show=\"new\" xlink:title=\"psysml:3aea7368-2129-476d-92d7-ea1a60089676\" xlink:type=\"simple\"><polygon fill=\"#FFFFFF\" filter=\"url(#f1en4thqjpa3m0)\" points=\"16,6,221,6,228,28.2969,231,28.2969,231,298,16,298,16,6\" style=\"stroke: #000000; stroke-width: 1.5;\"/><line style=\"stroke: #000000; stroke-width: 1.5;\" x1=\"16\" x2=\"228\" y1=\"28.2969\" y2=\"28.2969\"/><text fill=\"#000000\" font-family=\"sans-serif\" font-size=\"14\" font-weight=\"bold\" lengthAdjust=\"spacingAndGlyphs\" textLength=\"199\" x=\"20\" y=\"20.9951\">QualifiedNameImportTest</text></a><!--MD5=[e4f7fae6ed58524ba242bb0b0d3be6b7]\n",
       "cluster E2--><a href=\"psysml:a60b7189-47ac-4303-8a81-d977466f28db\" target=\"_top\" title=\"psysml:a60b7189-47ac-4303-8a81-d977466f28db\" xlink:actuate=\"onRequest\" xlink:href=\"psysml:a60b7189-47ac-4303-8a81-d977466f28db\" xlink:show=\"new\" xlink:title=\"psysml:a60b7189-47ac-4303-8a81-d977466f28db\" xlink:type=\"simple\"><polygon fill=\"#FFFFFF\" filter=\"url(#f1en4thqjpa3m0)\" points=\"105,177,131,177,138,199.2969,203,199.2969,203,274,105,274,105,177\" style=\"stroke: #000000; stroke-width: 1.5;\"/><line style=\"stroke: #000000; stroke-width: 1.5;\" x1=\"105\" x2=\"138\" y1=\"199.2969\" y2=\"199.2969\"/><text fill=\"#000000\" font-family=\"sans-serif\" font-size=\"14\" font-weight=\"bold\" lengthAdjust=\"spacingAndGlyphs\" textLength=\"20\" x=\"109\" y=\"191.9951\">P1</text></a><!--MD5=[f6df4d0ebaf0b5dfb2ced0ae5af7c670]\n",
       "cluster E4--><a href=\"psysml:ba53b2aa-0756-4dc5-85cd-737c1d1d7585\" target=\"_top\" title=\"psysml:ba53b2aa-0756-4dc5-85cd-737c1d1d7585\" xlink:actuate=\"onRequest\" xlink:href=\"psysml:ba53b2aa-0756-4dc5-85cd-737c1d1d7585\" xlink:show=\"new\" xlink:title=\"psysml:ba53b2aa-0756-4dc5-85cd-737c1d1d7585\" xlink:type=\"simple\"><polygon fill=\"#FFFFFF\" filter=\"url(#f1en4thqjpa3m0)\" points=\"44,49,70,49,77,71.2969,203,71.2969,203,153,44,153,44,49\" style=\"stroke: #000000; stroke-width: 1.5;\"/><line style=\"stroke: #000000; stroke-width: 1.5;\" x1=\"44\" x2=\"77\" y1=\"71.2969\" y2=\"71.2969\"/><text fill=\"#000000\" font-family=\"sans-serif\" font-size=\"14\" font-weight=\"bold\" lengthAdjust=\"spacingAndGlyphs\" textLength=\"20\" x=\"48\" y=\"63.9951\">P2</text></a><!--MD5=[09b614a08d8cba4a07c9adeb5e0fee81]\n",
       "class E3--><a href=\"psysml:f2420fd6-3670-4cc8-95b9-f254eed1f95d\" target=\"_top\" title=\"psysml:f2420fd6-3670-4cc8-95b9-f254eed1f95d\" xlink:actuate=\"onRequest\" xlink:href=\"psysml:f2420fd6-3670-4cc8-95b9-f254eed1f95d\" xlink:show=\"new\" xlink:title=\"psysml:f2420fd6-3670-4cc8-95b9-f254eed1f95d\" xlink:type=\"simple\"><rect fill=\"#FEFECE\" filter=\"url(#f1en4thqjpa3m0)\" height=\"45.9375\" id=\"E3\" style=\"stroke: #A80036; stroke-width: 1.5;\" width=\"66\" x=\"121\" y=\"212\"/><text fill=\"#000000\" font-family=\"sans-serif\" font-size=\"12\" font-style=\"italic\" lengthAdjust=\"spacingAndGlyphs\" textLength=\"64\" x=\"122\" y=\"228.1387\">«part def»</text><text fill=\"#000000\" font-family=\"sans-serif\" font-size=\"12\" lengthAdjust=\"spacingAndGlyphs\" textLength=\"8\" x=\"150\" y=\"242.1074\">A</text><line style=\"stroke: #A80036; stroke-width: 1.5;\" x1=\"122\" x2=\"186\" y1=\"249.9375\" y2=\"249.9375\"/></a><!--MD5=[60a26617385b1d2d0262a64233df1f8d]\n",
       "class E6--><a href=\"psysml:9a86ed13-d6c7-4ef9-9e5f-c3e51ac044b3\" target=\"_top\" title=\"psysml:9a86ed13-d6c7-4ef9-9e5f-c3e51ac044b3\" xlink:actuate=\"onRequest\" xlink:href=\"psysml:9a86ed13-d6c7-4ef9-9e5f-c3e51ac044b3\" xlink:show=\"new\" xlink:title=\"psysml:9a86ed13-d6c7-4ef9-9e5f-c3e51ac044b3\" xlink:type=\"simple\"><rect fill=\"#FEFECE\" filter=\"url(#f1en4thqjpa3m0)\" height=\"45.9375\" id=\"E6\" rx=\"10\" ry=\"10\" style=\"stroke: #A80036; stroke-width: 1.5;\" width=\"42\" x=\"145\" y=\"87.5\"/><text fill=\"#000000\" font-family=\"sans-serif\" font-size=\"12\" font-style=\"italic\" lengthAdjust=\"spacingAndGlyphs\" textLength=\"40\" x=\"146\" y=\"103.6387\">«part»</text><text fill=\"#000000\" font-family=\"sans-serif\" font-size=\"12\" lengthAdjust=\"spacingAndGlyphs\" textLength=\"22\" x=\"155\" y=\"117.6074\">x: A</text><line style=\"stroke: #A80036; stroke-width: 1.5;\" x1=\"146\" x2=\"186\" y1=\"125.4375\" y2=\"125.4375\"/></a><a href=\"psysml:e63557be-f486-40b8-b38f-45a287622fd5\" target=\"_top\" title=\"psysml:e63557be-f486-40b8-b38f-45a287622fd5\" xlink:actuate=\"onRequest\" xlink:href=\"psysml:e63557be-f486-40b8-b38f-45a287622fd5\" xlink:show=\"new\" xlink:title=\"psysml:e63557be-f486-40b8-b38f-45a287622fd5\" xlink:type=\"simple\"><polygon fill=\"#FFFFFF\" filter=\"url(#f1en4thqjpa3m0)\" points=\"60.5,84,95.5,84,102.5,106.2969,109.5,106.2969,109.5,136.5938,60.5,136.5938,60.5,84\" style=\"stroke: #000000; stroke-width: 1.5;\"/><line style=\"stroke: #000000; stroke-width: 1.5;\" x1=\"60.5\" x2=\"102.5\" y1=\"106.2969\" y2=\"106.2969\"/><text fill=\"#000000\" font-family=\"sans-serif\" font-size=\"14\" font-weight=\"bold\" lengthAdjust=\"spacingAndGlyphs\" textLength=\"29\" x=\"64.5\" y=\"98.9951\">P2a</text></a><!--MD5=[a717450b82c80b9240a525fa862496af]\n",
       "link E6 to E3--><a href=\"psysml:9d868367-c6cc-4e4e-a580-36a1751bbca7\" target=\"_top\" title=\"psysml:9d868367-c6cc-4e4e-a580-36a1751bbca7\" xlink:actuate=\"onRequest\" xlink:href=\"psysml:9d868367-c6cc-4e4e-a580-36a1751bbca7\" xlink:show=\"new\" xlink:title=\"psysml:9d868367-c6cc-4e4e-a580-36a1751bbca7\" xlink:type=\"simple\"><path d=\"M163.83,133.68 C162.24,149.9 160.04,172.39 158.12,191.96 \" fill=\"none\" id=\"E6-&gt;E3\" style=\"stroke: #A80036; stroke-width: 1.0;\"/><polygon fill=\"#FFFFFF\" points=\"156.16,211.98,151.0533,192.3861,164.986,193.7564,156.16,211.98\" style=\"stroke: #A80036; stroke-width: 1.0;\"/><ellipse cx=\"153.6016\" cy=\"186.9092\" fill=\"#A80036\" rx=\"2\" ry=\"2\" style=\"stroke: #A80036; stroke-width: 1.0;\"/><ellipse cx=\"163.5535\" cy=\"187.888\" fill=\"#A80036\" rx=\"2\" ry=\"2\" style=\"stroke: #A80036; stroke-width: 1.0;\"/></a><!--MD5=[fc72a374b68b3d172c3ab0e3f196df0a]\n",
       "@startuml\r\n",
       "skinparam wrapWidth 300\r\n",
       "hide circle\r\n",
       "\r\n",
       "package \"QualifiedNameImportTest\" as E1  [[psysml:3aea7368-2129-476d-92d7-ea1a60089676 ]]  {\r\n",
       "package \"P1\" as E2  [[psysml:a60b7189-47ac-4303-8a81-d977466f28db ]]  {\r\n",
       "comp def \"A\" as E3  <<(T,blue)part def>> [[psysml:f2420fd6-3670-4cc8-95b9-f254eed1f95d ]] {\r\n",
       "}\r\n",
       "}\r\n",
       "package \"P2\" as E4  [[psysml:ba53b2aa-0756-4dc5-85cd-737c1d1d7585 ]]  {\r\n",
       "package \"P2a\" as E5  [[psysml:e63557be-f486-40b8-b38f-45a287622fd5 ]]  {\r\n",
       "}\r\n",
       "comp usage \"x: A\" as E6  <<(T,blue)part>> [[psysml:9a86ed13-d6c7-4ef9-9e5f-c3e51ac044b3 ]] {\r\n",
       "}\r\n",
       "E6 - -:|> E3 [[psysml:9d868367-c6cc-4e4e-a580-36a1751bbca7 ]] \r\n",
       "}\r\n",
       "}\r\n",
       "@enduml\r\n",
       "\n",
       "PlantUML version 1.2020.13(Sat Jun 13 12:26:38 UTC 2020)\n",
       "(EPL source distribution)\n",
       "Java Runtime: OpenJDK Runtime Environment\n",
       "JVM: OpenJDK 64-Bit Server VM\n",
       "Default Encoding: UTF-8\n",
       "Language: en\n",
       "Country: null\n",
       "--></g></svg>"
      ]
     },
     "execution_count": 23,
     "metadata": {},
     "output_type": "execute_result"
    }
   ],
   "source": [
    "%viz --style=\"STDCOLOR\" --view=\"Default\" \"QualifiedNameImportTest\""
   ]
  },
  {
   "cell_type": "code",
   "execution_count": 24,
   "id": "6b607dc7",
   "metadata": {
    "execution": {
     "iopub.execute_input": "2021-04-20T07:31:00.632561Z",
     "iopub.status.busy": "2021-04-20T07:31:00.631603Z",
     "iopub.status.idle": "2021-04-20T07:31:00.685795Z",
     "shell.execute_reply": "2021-04-20T07:31:00.686109Z"
    }
   },
   "outputs": [
    {
     "data": {
      "image/svg+xml": [
       "<?xml version=\"1.0\" encoding=\"UTF-8\" standalone=\"no\"?><svg xmlns=\"http://www.w3.org/2000/svg\" xmlns:xlink=\"http://www.w3.org/1999/xlink\" contentScriptType=\"application/ecmascript\" contentStyleType=\"text/css\" height=\"310px\" preserveAspectRatio=\"none\" style=\"width:253px;height:310px;\" version=\"1.1\" viewBox=\"0 0 253 310\" width=\"253px\" zoomAndPan=\"magnify\"><defs><filter height=\"300%\" id=\"f1en4thqjpa3m0\" width=\"300%\" x=\"-1\" y=\"-1\"><feGaussianBlur result=\"blurOut\" stdDeviation=\"2.0\"/><feColorMatrix in=\"blurOut\" result=\"blurOut2\" type=\"matrix\" values=\"0 0 0 0 0 0 0 0 0 0 0 0 0 0 0 0 0 0 .4 0\"/><feOffset dx=\"4.0\" dy=\"4.0\" in=\"blurOut2\" result=\"blurOut3\"/><feBlend in=\"SourceGraphic\" in2=\"blurOut3\" mode=\"normal\"/></filter></defs><g><!--MD5=[fbc87193dbaf4d95561dea2c320d4a47]\n",
       "cluster E1--><a href=\"psysml:3aea7368-2129-476d-92d7-ea1a60089676\" target=\"_top\" title=\"psysml:3aea7368-2129-476d-92d7-ea1a60089676\" xlink:actuate=\"onRequest\" xlink:href=\"psysml:3aea7368-2129-476d-92d7-ea1a60089676\" xlink:show=\"new\" xlink:title=\"psysml:3aea7368-2129-476d-92d7-ea1a60089676\" xlink:type=\"simple\"><polygon fill=\"#FFFFFF\" filter=\"url(#f1en4thqjpa3m0)\" points=\"16,6,221,6,228,28.2969,231,28.2969,231,298,16,298,16,6\" style=\"stroke: #000000; stroke-width: 1.5;\"/><line style=\"stroke: #000000; stroke-width: 1.5;\" x1=\"16\" x2=\"228\" y1=\"28.2969\" y2=\"28.2969\"/><text fill=\"#000000\" font-family=\"sans-serif\" font-size=\"14\" font-weight=\"bold\" lengthAdjust=\"spacingAndGlyphs\" textLength=\"199\" x=\"20\" y=\"20.9951\">QualifiedNameImportTest</text></a><!--MD5=[e4f7fae6ed58524ba242bb0b0d3be6b7]\n",
       "cluster E2--><a href=\"psysml:a60b7189-47ac-4303-8a81-d977466f28db\" target=\"_top\" title=\"psysml:a60b7189-47ac-4303-8a81-d977466f28db\" xlink:actuate=\"onRequest\" xlink:href=\"psysml:a60b7189-47ac-4303-8a81-d977466f28db\" xlink:show=\"new\" xlink:title=\"psysml:a60b7189-47ac-4303-8a81-d977466f28db\" xlink:type=\"simple\"><polygon fill=\"#FFFFFF\" filter=\"url(#f1en4thqjpa3m0)\" points=\"105,177,131,177,138,199.2969,203,199.2969,203,274,105,274,105,177\" style=\"stroke: #000000; stroke-width: 1.5;\"/><line style=\"stroke: #000000; stroke-width: 1.5;\" x1=\"105\" x2=\"138\" y1=\"199.2969\" y2=\"199.2969\"/><text fill=\"#000000\" font-family=\"sans-serif\" font-size=\"14\" font-weight=\"bold\" lengthAdjust=\"spacingAndGlyphs\" textLength=\"20\" x=\"109\" y=\"191.9951\">P1</text></a><!--MD5=[f6df4d0ebaf0b5dfb2ced0ae5af7c670]\n",
       "cluster E4--><a href=\"psysml:ba53b2aa-0756-4dc5-85cd-737c1d1d7585\" target=\"_top\" title=\"psysml:ba53b2aa-0756-4dc5-85cd-737c1d1d7585\" xlink:actuate=\"onRequest\" xlink:href=\"psysml:ba53b2aa-0756-4dc5-85cd-737c1d1d7585\" xlink:show=\"new\" xlink:title=\"psysml:ba53b2aa-0756-4dc5-85cd-737c1d1d7585\" xlink:type=\"simple\"><polygon fill=\"#FFFFFF\" filter=\"url(#f1en4thqjpa3m0)\" points=\"44,49,70,49,77,71.2969,203,71.2969,203,153,44,153,44,49\" style=\"stroke: #000000; stroke-width: 1.5;\"/><line style=\"stroke: #000000; stroke-width: 1.5;\" x1=\"44\" x2=\"77\" y1=\"71.2969\" y2=\"71.2969\"/><text fill=\"#000000\" font-family=\"sans-serif\" font-size=\"14\" font-weight=\"bold\" lengthAdjust=\"spacingAndGlyphs\" textLength=\"20\" x=\"48\" y=\"63.9951\">P2</text></a><!--MD5=[09b614a08d8cba4a07c9adeb5e0fee81]\n",
       "class E3--><a href=\"psysml:f2420fd6-3670-4cc8-95b9-f254eed1f95d\" target=\"_top\" title=\"psysml:f2420fd6-3670-4cc8-95b9-f254eed1f95d\" xlink:actuate=\"onRequest\" xlink:href=\"psysml:f2420fd6-3670-4cc8-95b9-f254eed1f95d\" xlink:show=\"new\" xlink:title=\"psysml:f2420fd6-3670-4cc8-95b9-f254eed1f95d\" xlink:type=\"simple\"><rect fill=\"#FEFECE\" filter=\"url(#f1en4thqjpa3m0)\" height=\"45.9375\" id=\"E3\" style=\"stroke: #A80036; stroke-width: 1.5;\" width=\"66\" x=\"121\" y=\"212\"/><text fill=\"#000000\" font-family=\"sans-serif\" font-size=\"12\" font-style=\"italic\" lengthAdjust=\"spacingAndGlyphs\" textLength=\"64\" x=\"122\" y=\"228.1387\">«part def»</text><text fill=\"#000000\" font-family=\"sans-serif\" font-size=\"12\" lengthAdjust=\"spacingAndGlyphs\" textLength=\"8\" x=\"150\" y=\"242.1074\">A</text><line style=\"stroke: #A80036; stroke-width: 1.5;\" x1=\"122\" x2=\"186\" y1=\"249.9375\" y2=\"249.9375\"/></a><!--MD5=[60a26617385b1d2d0262a64233df1f8d]\n",
       "class E6--><a href=\"psysml:9a86ed13-d6c7-4ef9-9e5f-c3e51ac044b3\" target=\"_top\" title=\"psysml:9a86ed13-d6c7-4ef9-9e5f-c3e51ac044b3\" xlink:actuate=\"onRequest\" xlink:href=\"psysml:9a86ed13-d6c7-4ef9-9e5f-c3e51ac044b3\" xlink:show=\"new\" xlink:title=\"psysml:9a86ed13-d6c7-4ef9-9e5f-c3e51ac044b3\" xlink:type=\"simple\"><rect fill=\"#FEFECE\" filter=\"url(#f1en4thqjpa3m0)\" height=\"45.9375\" id=\"E6\" rx=\"10\" ry=\"10\" style=\"stroke: #A80036; stroke-width: 1.5;\" width=\"42\" x=\"145\" y=\"87.5\"/><text fill=\"#000000\" font-family=\"sans-serif\" font-size=\"12\" font-style=\"italic\" lengthAdjust=\"spacingAndGlyphs\" textLength=\"40\" x=\"146\" y=\"103.6387\">«part»</text><text fill=\"#000000\" font-family=\"sans-serif\" font-size=\"12\" lengthAdjust=\"spacingAndGlyphs\" textLength=\"22\" x=\"155\" y=\"117.6074\">x: A</text><line style=\"stroke: #A80036; stroke-width: 1.5;\" x1=\"146\" x2=\"186\" y1=\"125.4375\" y2=\"125.4375\"/></a><a href=\"psysml:e63557be-f486-40b8-b38f-45a287622fd5\" target=\"_top\" title=\"psysml:e63557be-f486-40b8-b38f-45a287622fd5\" xlink:actuate=\"onRequest\" xlink:href=\"psysml:e63557be-f486-40b8-b38f-45a287622fd5\" xlink:show=\"new\" xlink:title=\"psysml:e63557be-f486-40b8-b38f-45a287622fd5\" xlink:type=\"simple\"><polygon fill=\"#FFFFFF\" filter=\"url(#f1en4thqjpa3m0)\" points=\"60.5,84,95.5,84,102.5,106.2969,109.5,106.2969,109.5,136.5938,60.5,136.5938,60.5,84\" style=\"stroke: #000000; stroke-width: 1.5;\"/><line style=\"stroke: #000000; stroke-width: 1.5;\" x1=\"60.5\" x2=\"102.5\" y1=\"106.2969\" y2=\"106.2969\"/><text fill=\"#000000\" font-family=\"sans-serif\" font-size=\"14\" font-weight=\"bold\" lengthAdjust=\"spacingAndGlyphs\" textLength=\"29\" x=\"64.5\" y=\"98.9951\">P2a</text></a><!--MD5=[a717450b82c80b9240a525fa862496af]\n",
       "link E6 to E3--><a href=\"psysml:9d868367-c6cc-4e4e-a580-36a1751bbca7\" target=\"_top\" title=\"psysml:9d868367-c6cc-4e4e-a580-36a1751bbca7\" xlink:actuate=\"onRequest\" xlink:href=\"psysml:9d868367-c6cc-4e4e-a580-36a1751bbca7\" xlink:show=\"new\" xlink:title=\"psysml:9d868367-c6cc-4e4e-a580-36a1751bbca7\" xlink:type=\"simple\"><path d=\"M163.83,133.68 C162.24,149.9 160.04,172.39 158.12,191.96 \" fill=\"none\" id=\"E6-&gt;E3\" style=\"stroke: #A80036; stroke-width: 1.0;\"/><polygon fill=\"#FFFFFF\" points=\"156.16,211.98,151.0533,192.3861,164.986,193.7564,156.16,211.98\" style=\"stroke: #A80036; stroke-width: 1.0;\"/><ellipse cx=\"153.6016\" cy=\"186.9092\" fill=\"#A80036\" rx=\"2\" ry=\"2\" style=\"stroke: #A80036; stroke-width: 1.0;\"/><ellipse cx=\"163.5535\" cy=\"187.888\" fill=\"#A80036\" rx=\"2\" ry=\"2\" style=\"stroke: #A80036; stroke-width: 1.0;\"/></a><!--MD5=[fc72a374b68b3d172c3ab0e3f196df0a]\n",
       "@startuml\r\n",
       "skinparam wrapWidth 300\r\n",
       "hide circle\r\n",
       "\r\n",
       "package \"QualifiedNameImportTest\" as E1  [[psysml:3aea7368-2129-476d-92d7-ea1a60089676 ]]  {\r\n",
       "package \"P1\" as E2  [[psysml:a60b7189-47ac-4303-8a81-d977466f28db ]]  {\r\n",
       "comp def \"A\" as E3  <<(T,blue)part def>> [[psysml:f2420fd6-3670-4cc8-95b9-f254eed1f95d ]] {\r\n",
       "}\r\n",
       "}\r\n",
       "package \"P2\" as E4  [[psysml:ba53b2aa-0756-4dc5-85cd-737c1d1d7585 ]]  {\r\n",
       "package \"P2a\" as E5  [[psysml:e63557be-f486-40b8-b38f-45a287622fd5 ]]  {\r\n",
       "}\r\n",
       "comp usage \"x: A\" as E6  <<(T,blue)part>> [[psysml:9a86ed13-d6c7-4ef9-9e5f-c3e51ac044b3 ]] {\r\n",
       "}\r\n",
       "E6 - -:|> E3 [[psysml:9d868367-c6cc-4e4e-a580-36a1751bbca7 ]] \r\n",
       "}\r\n",
       "}\r\n",
       "@enduml\r\n",
       "\n",
       "PlantUML version 1.2020.13(Sat Jun 13 12:26:38 UTC 2020)\n",
       "(EPL source distribution)\n",
       "Java Runtime: OpenJDK Runtime Environment\n",
       "JVM: OpenJDK 64-Bit Server VM\n",
       "Default Encoding: UTF-8\n",
       "Language: en\n",
       "Country: null\n",
       "--></g></svg>"
      ]
     },
     "execution_count": 24,
     "metadata": {},
     "output_type": "execute_result"
    }
   ],
   "source": [
    "%viz --style=\"STDCOLOR\" --view=\"Tree\" \"QualifiedNameImportTest\""
   ]
  },
  {
   "cell_type": "code",
   "execution_count": 25,
   "id": "ba53a598",
   "metadata": {
    "execution": {
     "iopub.execute_input": "2021-04-20T07:31:00.737208Z",
     "iopub.status.busy": "2021-04-20T07:31:00.736543Z",
     "iopub.status.idle": "2021-04-20T07:31:00.745928Z",
     "shell.execute_reply": "2021-04-20T07:31:00.746591Z"
    }
   },
   "outputs": [
    {
     "data": {
      "image/svg+xml": [
       "<?xml version=\"1.0\" encoding=\"UTF-8\" standalone=\"no\"?><svg xmlns=\"http://www.w3.org/2000/svg\" xmlns:xlink=\"http://www.w3.org/1999/xlink\" contentScriptType=\"application/ecmascript\" contentStyleType=\"text/css\" height=\"12px\" preserveAspectRatio=\"none\" style=\"width:12px;height:12px;\" version=\"1.1\" viewBox=\"0 0 12 12\" width=\"12px\" zoomAndPan=\"magnify\"><defs/><g><!--MD5=[aeeef50f102b80d730deb6443d14f702]\n",
       "@startuml\r\n",
       "skinparam wrapWidth 300\r\n",
       "hide circle\r\n",
       "\r\n",
       "@enduml\r\n",
       "\n",
       "PlantUML version 1.2020.13(Sat Jun 13 12:26:38 UTC 2020)\n",
       "(EPL source distribution)\n",
       "Java Runtime: OpenJDK Runtime Environment\n",
       "JVM: OpenJDK 64-Bit Server VM\n",
       "Default Encoding: UTF-8\n",
       "Language: en\n",
       "Country: null\n",
       "--></g></svg>"
      ]
     },
     "execution_count": 25,
     "metadata": {},
     "output_type": "execute_result"
    }
   ],
   "source": [
    "%viz --style=\"STDCOLOR\" --view=\"State\" \"QualifiedNameImportTest\""
   ]
  },
  {
   "cell_type": "code",
   "execution_count": 26,
   "id": "353486ff",
   "metadata": {
    "execution": {
     "iopub.execute_input": "2021-04-20T07:31:00.797399Z",
     "iopub.status.busy": "2021-04-20T07:31:00.796840Z",
     "iopub.status.idle": "2021-04-20T07:31:00.844549Z",
     "shell.execute_reply": "2021-04-20T07:31:00.843210Z"
    }
   },
   "outputs": [
    {
     "data": {
      "image/svg+xml": [
       "<?xml version=\"1.0\" encoding=\"UTF-8\" standalone=\"no\"?><svg xmlns=\"http://www.w3.org/2000/svg\" xmlns:xlink=\"http://www.w3.org/1999/xlink\" contentScriptType=\"application/ecmascript\" contentStyleType=\"text/css\" height=\"189px\" preserveAspectRatio=\"none\" style=\"width:381px;height:189px;\" version=\"1.1\" viewBox=\"0 0 381 189\" width=\"381px\" zoomAndPan=\"magnify\"><defs><filter height=\"300%\" id=\"f11xy1c62rxye2\" width=\"300%\" x=\"-1\" y=\"-1\"><feGaussianBlur result=\"blurOut\" stdDeviation=\"2.0\"/><feColorMatrix in=\"blurOut\" result=\"blurOut2\" type=\"matrix\" values=\"0 0 0 0 0 0 0 0 0 0 0 0 0 0 0 0 0 0 .4 0\"/><feOffset dx=\"4.0\" dy=\"4.0\" in=\"blurOut2\" result=\"blurOut3\"/><feBlend in=\"SourceGraphic\" in2=\"blurOut3\" mode=\"normal\"/></filter></defs><g><!--MD5=[fbc87193dbaf4d95561dea2c320d4a47]\n",
       "cluster E1--><a href=\"psysml:3aea7368-2129-476d-92d7-ea1a60089676\" target=\"_top\" title=\"psysml:3aea7368-2129-476d-92d7-ea1a60089676\" xlink:actuate=\"onRequest\" xlink:href=\"psysml:3aea7368-2129-476d-92d7-ea1a60089676\" xlink:show=\"new\" xlink:title=\"psysml:3aea7368-2129-476d-92d7-ea1a60089676\" xlink:type=\"simple\"><polygon fill=\"#FFFFFF\" filter=\"url(#f11xy1c62rxye2)\" points=\"16,6,221,6,228,28.2969,359,28.2969,359,177,16,177,16,6\" style=\"stroke: #000000; stroke-width: 1.5;\"/><line style=\"stroke: #000000; stroke-width: 1.5;\" x1=\"16\" x2=\"228\" y1=\"28.2969\" y2=\"28.2969\"/><text fill=\"#000000\" font-family=\"sans-serif\" font-size=\"14\" font-weight=\"bold\" lengthAdjust=\"spacingAndGlyphs\" textLength=\"199\" x=\"20\" y=\"20.9951\">QualifiedNameImportTest</text></a><!--MD5=[e4f7fae6ed58524ba242bb0b0d3be6b7]\n",
       "cluster E2--><a href=\"psysml:a60b7189-47ac-4303-8a81-d977466f28db\" target=\"_top\" title=\"psysml:a60b7189-47ac-4303-8a81-d977466f28db\" xlink:actuate=\"onRequest\" xlink:href=\"psysml:a60b7189-47ac-4303-8a81-d977466f28db\" xlink:show=\"new\" xlink:title=\"psysml:a60b7189-47ac-4303-8a81-d977466f28db\" xlink:type=\"simple\"><polygon fill=\"#FFFFFF\" filter=\"url(#f11xy1c62rxye2)\" points=\"231,54,257,54,264,76.2969,335,76.2969,335,148,231,148,231,54\" style=\"stroke: #000000; stroke-width: 1.5;\"/><line style=\"stroke: #000000; stroke-width: 1.5;\" x1=\"231\" x2=\"264\" y1=\"76.2969\" y2=\"76.2969\"/><text fill=\"#000000\" font-family=\"sans-serif\" font-size=\"14\" font-weight=\"bold\" lengthAdjust=\"spacingAndGlyphs\" textLength=\"20\" x=\"235\" y=\"68.9951\">P1</text></a><!--MD5=[f6df4d0ebaf0b5dfb2ced0ae5af7c670]\n",
       "cluster E4--><a href=\"psysml:ba53b2aa-0756-4dc5-85cd-737c1d1d7585\" target=\"_top\" title=\"psysml:ba53b2aa-0756-4dc5-85cd-737c1d1d7585\" xlink:actuate=\"onRequest\" xlink:href=\"psysml:ba53b2aa-0756-4dc5-85cd-737c1d1d7585\" xlink:show=\"new\" xlink:title=\"psysml:ba53b2aa-0756-4dc5-85cd-737c1d1d7585\" xlink:type=\"simple\"><polygon fill=\"#FFFFFF\" filter=\"url(#f11xy1c62rxye2)\" points=\"40,49,66,49,73,71.2969,207,71.2969,207,153,40,153,40,49\" style=\"stroke: #000000; stroke-width: 1.5;\"/><line style=\"stroke: #000000; stroke-width: 1.5;\" x1=\"40\" x2=\"73\" y1=\"71.2969\" y2=\"71.2969\"/><text fill=\"#000000\" font-family=\"sans-serif\" font-size=\"14\" font-weight=\"bold\" lengthAdjust=\"spacingAndGlyphs\" textLength=\"20\" x=\"44\" y=\"63.9951\">P2</text></a><g id=\"E1.E2.E3\"><a href=\"psysml:f2420fd6-3670-4cc8-95b9-f254eed1f95d\" target=\"_top\" title=\"psysml:f2420fd6-3670-4cc8-95b9-f254eed1f95d\" xlink:actuate=\"onRequest\" xlink:href=\"psysml:f2420fd6-3670-4cc8-95b9-f254eed1f95d\" xlink:show=\"new\" xlink:title=\"psysml:f2420fd6-3670-4cc8-95b9-f254eed1f95d\" xlink:type=\"simple\"><rect fill=\"#FEFECE\" filter=\"url(#f11xy1c62rxye2)\" height=\"42.9375\" id=\"E3\" style=\"stroke: #A80036; stroke-width: 1.5;\" width=\"71\" x=\"247.5\" y=\"89\"/><text fill=\"#000000\" font-family=\"sans-serif\" font-size=\"12\" font-style=\"italic\" lengthAdjust=\"spacingAndGlyphs\" textLength=\"64\" x=\"251\" y=\"105.1387\">«part def»</text><text fill=\"#000000\" font-family=\"sans-serif\" font-size=\"12\" lengthAdjust=\"spacingAndGlyphs\" textLength=\"8\" x=\"279\" y=\"119.1074\">A</text></a></g><a href=\"psysml:e63557be-f486-40b8-b38f-45a287622fd5\" target=\"_top\" title=\"psysml:e63557be-f486-40b8-b38f-45a287622fd5\" xlink:actuate=\"onRequest\" xlink:href=\"psysml:e63557be-f486-40b8-b38f-45a287622fd5\" xlink:show=\"new\" xlink:title=\"psysml:e63557be-f486-40b8-b38f-45a287622fd5\" xlink:type=\"simple\"><polygon fill=\"#FFFFFF\" filter=\"url(#f11xy1c62rxye2)\" points=\"141.5,84,176.5,84,183.5,106.2969,190.5,106.2969,190.5,136.5938,141.5,136.5938,141.5,84\" style=\"stroke: #000000; stroke-width: 1.5;\"/><line style=\"stroke: #000000; stroke-width: 1.5;\" x1=\"141.5\" x2=\"183.5\" y1=\"106.2969\" y2=\"106.2969\"/><text fill=\"#000000\" font-family=\"sans-serif\" font-size=\"14\" font-weight=\"bold\" lengthAdjust=\"spacingAndGlyphs\" textLength=\"29\" x=\"145.5\" y=\"98.9951\">P2a</text></a><g id=\"E1.E4.E6\"><a href=\"psysml:9a86ed13-d6c7-4ef9-9e5f-c3e51ac044b3\" target=\"_top\" title=\"psysml:9a86ed13-d6c7-4ef9-9e5f-c3e51ac044b3\" xlink:actuate=\"onRequest\" xlink:href=\"psysml:9a86ed13-d6c7-4ef9-9e5f-c3e51ac044b3\" xlink:show=\"new\" xlink:title=\"psysml:9a86ed13-d6c7-4ef9-9e5f-c3e51ac044b3\" xlink:type=\"simple\"><rect fill=\"#FEFECE\" filter=\"url(#f11xy1c62rxye2)\" height=\"40\" id=\"E6\" rx=\"10\" ry=\"10\" style=\"stroke: #A80036; stroke-width: 1.5;\" width=\"50\" x=\"56\" y=\"90.5\"/><text fill=\"#000000\" font-family=\"sans-serif\" font-size=\"12\" lengthAdjust=\"spacingAndGlyphs\" textLength=\"22\" x=\"70\" y=\"106.6387\">x: A</text></a></g><!--MD5=[ab0a43d04543aab16fe0719143741582]\n",
       "@startuml\r\n",
       "skinparam ranksep 10\r\n",
       "skinparam rectangle {\r\n",
       " backgroundColor<<block>> LightGreen\r\n",
       "}\r\n",
       "skinparam wrapWidth 300\r\n",
       "hide circle\r\n",
       "\r\n",
       "package \"QualifiedNameImportTest\" as E1  [[psysml:3aea7368-2129-476d-92d7-ea1a60089676 ]]  {\r\n",
       "package \"P1\" as E2  [[psysml:a60b7189-47ac-4303-8a81-d977466f28db ]]  {\r\n",
       "rec def \"A\" as E3  <<(T,blue)part def>> [[psysml:f2420fd6-3670-4cc8-95b9-f254eed1f95d ]] {\r\n",
       "}\r\n",
       "}\r\n",
       "package \"P2\" as E4  [[psysml:ba53b2aa-0756-4dc5-85cd-737c1d1d7585 ]]  {\r\n",
       "package \"P2a\" as E5  [[psysml:e63557be-f486-40b8-b38f-45a287622fd5 ]]  {\r\n",
       "}\r\n",
       "rec usage \"x: A\" as E6  [[psysml:9a86ed13-d6c7-4ef9-9e5f-c3e51ac044b3 ]] {\r\n",
       "}\r\n",
       "}\r\n",
       "}\r\n",
       "@enduml\r\n",
       "\n",
       "PlantUML version 1.2020.13(Sat Jun 13 12:26:38 UTC 2020)\n",
       "(EPL source distribution)\n",
       "Java Runtime: OpenJDK Runtime Environment\n",
       "JVM: OpenJDK 64-Bit Server VM\n",
       "Default Encoding: UTF-8\n",
       "Language: en\n",
       "Country: null\n",
       "--></g></svg>"
      ]
     },
     "execution_count": 26,
     "metadata": {},
     "output_type": "execute_result"
    }
   ],
   "source": [
    "%viz --style=\"STDCOLOR\" --view=\"Interconnection\" \"QualifiedNameImportTest\""
   ]
  },
  {
   "cell_type": "code",
   "execution_count": 27,
   "id": "2486b121",
   "metadata": {
    "execution": {
     "iopub.execute_input": "2021-04-20T07:31:00.897992Z",
     "iopub.status.busy": "2021-04-20T07:31:00.896236Z",
     "iopub.status.idle": "2021-04-20T07:31:00.916295Z",
     "shell.execute_reply": "2021-04-20T07:31:00.915429Z"
    }
   },
   "outputs": [
    {
     "data": {
      "image/svg+xml": [
       "<?xml version=\"1.0\" encoding=\"UTF-8\" standalone=\"no\"?><svg xmlns=\"http://www.w3.org/2000/svg\" xmlns:xlink=\"http://www.w3.org/1999/xlink\" contentScriptType=\"application/ecmascript\" contentStyleType=\"text/css\" height=\"12px\" preserveAspectRatio=\"none\" style=\"width:12px;height:12px;\" version=\"1.1\" viewBox=\"0 0 12 12\" width=\"12px\" zoomAndPan=\"magnify\"><defs/><g><!--MD5=[9863325348a96a77dacc89509d8ee65e]\n",
       "@startuml\r\n",
       "skinparam ranksep 8\r\n",
       "skinparam wrapWidth 300\r\n",
       "hide circle\r\n",
       "\r\n",
       "@enduml\r\n",
       "\n",
       "PlantUML version 1.2020.13(Sat Jun 13 12:26:38 UTC 2020)\n",
       "(EPL source distribution)\n",
       "Java Runtime: OpenJDK Runtime Environment\n",
       "JVM: OpenJDK 64-Bit Server VM\n",
       "Default Encoding: UTF-8\n",
       "Language: en\n",
       "Country: null\n",
       "--></g></svg>"
      ]
     },
     "execution_count": 27,
     "metadata": {},
     "output_type": "execute_result"
    }
   ],
   "source": [
    "%viz --style=\"STDCOLOR\" --view=\"Action\" \"QualifiedNameImportTest\""
   ]
  },
  {
   "cell_type": "code",
   "execution_count": 28,
   "id": "328591b5",
   "metadata": {
    "execution": {
     "iopub.execute_input": "2021-04-20T07:31:00.967372Z",
     "iopub.status.busy": "2021-04-20T07:31:00.966868Z",
     "iopub.status.idle": "2021-04-20T07:31:01.047259Z",
     "shell.execute_reply": "2021-04-20T07:31:01.042011Z"
    }
   },
   "outputs": [
    {
     "data": {
      "image/svg+xml": [
       "<?xml version=\"1.0\" encoding=\"UTF-8\" standalone=\"no\"?><svg xmlns=\"http://www.w3.org/2000/svg\" xmlns:xlink=\"http://www.w3.org/1999/xlink\" contentScriptType=\"application/ecmascript\" contentStyleType=\"text/css\" height=\"310px\" preserveAspectRatio=\"none\" style=\"width:253px;height:310px;\" version=\"1.1\" viewBox=\"0 0 253 310\" width=\"253px\" zoomAndPan=\"magnify\"><defs><filter height=\"300%\" id=\"f1en4thqjpa3m0\" width=\"300%\" x=\"-1\" y=\"-1\"><feGaussianBlur result=\"blurOut\" stdDeviation=\"2.0\"/><feColorMatrix in=\"blurOut\" result=\"blurOut2\" type=\"matrix\" values=\"0 0 0 0 0 0 0 0 0 0 0 0 0 0 0 0 0 0 .4 0\"/><feOffset dx=\"4.0\" dy=\"4.0\" in=\"blurOut2\" result=\"blurOut3\"/><feBlend in=\"SourceGraphic\" in2=\"blurOut3\" mode=\"normal\"/></filter></defs><g><!--MD5=[fbc87193dbaf4d95561dea2c320d4a47]\n",
       "cluster E1--><a href=\"psysml:3aea7368-2129-476d-92d7-ea1a60089676\" target=\"_top\" title=\"psysml:3aea7368-2129-476d-92d7-ea1a60089676\" xlink:actuate=\"onRequest\" xlink:href=\"psysml:3aea7368-2129-476d-92d7-ea1a60089676\" xlink:show=\"new\" xlink:title=\"psysml:3aea7368-2129-476d-92d7-ea1a60089676\" xlink:type=\"simple\"><polygon fill=\"#FFFFFF\" filter=\"url(#f1en4thqjpa3m0)\" points=\"16,6,221,6,228,28.2969,231,28.2969,231,298,16,298,16,6\" style=\"stroke: #000000; stroke-width: 1.5;\"/><line style=\"stroke: #000000; stroke-width: 1.5;\" x1=\"16\" x2=\"228\" y1=\"28.2969\" y2=\"28.2969\"/><text fill=\"#000000\" font-family=\"sans-serif\" font-size=\"14\" font-weight=\"bold\" lengthAdjust=\"spacingAndGlyphs\" textLength=\"199\" x=\"20\" y=\"20.9951\">QualifiedNameImportTest</text></a><!--MD5=[e4f7fae6ed58524ba242bb0b0d3be6b7]\n",
       "cluster E2--><a href=\"psysml:a60b7189-47ac-4303-8a81-d977466f28db\" target=\"_top\" title=\"psysml:a60b7189-47ac-4303-8a81-d977466f28db\" xlink:actuate=\"onRequest\" xlink:href=\"psysml:a60b7189-47ac-4303-8a81-d977466f28db\" xlink:show=\"new\" xlink:title=\"psysml:a60b7189-47ac-4303-8a81-d977466f28db\" xlink:type=\"simple\"><polygon fill=\"#FFFFFF\" filter=\"url(#f1en4thqjpa3m0)\" points=\"105,177,131,177,138,199.2969,203,199.2969,203,274,105,274,105,177\" style=\"stroke: #000000; stroke-width: 1.5;\"/><line style=\"stroke: #000000; stroke-width: 1.5;\" x1=\"105\" x2=\"138\" y1=\"199.2969\" y2=\"199.2969\"/><text fill=\"#000000\" font-family=\"sans-serif\" font-size=\"14\" font-weight=\"bold\" lengthAdjust=\"spacingAndGlyphs\" textLength=\"20\" x=\"109\" y=\"191.9951\">P1</text></a><!--MD5=[f6df4d0ebaf0b5dfb2ced0ae5af7c670]\n",
       "cluster E4--><a href=\"psysml:ba53b2aa-0756-4dc5-85cd-737c1d1d7585\" target=\"_top\" title=\"psysml:ba53b2aa-0756-4dc5-85cd-737c1d1d7585\" xlink:actuate=\"onRequest\" xlink:href=\"psysml:ba53b2aa-0756-4dc5-85cd-737c1d1d7585\" xlink:show=\"new\" xlink:title=\"psysml:ba53b2aa-0756-4dc5-85cd-737c1d1d7585\" xlink:type=\"simple\"><polygon fill=\"#FFFFFF\" filter=\"url(#f1en4thqjpa3m0)\" points=\"44,49,70,49,77,71.2969,203,71.2969,203,153,44,153,44,49\" style=\"stroke: #000000; stroke-width: 1.5;\"/><line style=\"stroke: #000000; stroke-width: 1.5;\" x1=\"44\" x2=\"77\" y1=\"71.2969\" y2=\"71.2969\"/><text fill=\"#000000\" font-family=\"sans-serif\" font-size=\"14\" font-weight=\"bold\" lengthAdjust=\"spacingAndGlyphs\" textLength=\"20\" x=\"48\" y=\"63.9951\">P2</text></a><!--MD5=[09b614a08d8cba4a07c9adeb5e0fee81]\n",
       "class E3--><a href=\"psysml:f2420fd6-3670-4cc8-95b9-f254eed1f95d\" target=\"_top\" title=\"psysml:f2420fd6-3670-4cc8-95b9-f254eed1f95d\" xlink:actuate=\"onRequest\" xlink:href=\"psysml:f2420fd6-3670-4cc8-95b9-f254eed1f95d\" xlink:show=\"new\" xlink:title=\"psysml:f2420fd6-3670-4cc8-95b9-f254eed1f95d\" xlink:type=\"simple\"><rect fill=\"#FEFECE\" filter=\"url(#f1en4thqjpa3m0)\" height=\"45.9375\" id=\"E3\" style=\"stroke: #A80036; stroke-width: 1.5;\" width=\"66\" x=\"121\" y=\"212\"/><text fill=\"#000000\" font-family=\"sans-serif\" font-size=\"12\" font-style=\"italic\" lengthAdjust=\"spacingAndGlyphs\" textLength=\"64\" x=\"122\" y=\"228.1387\">«part def»</text><text fill=\"#000000\" font-family=\"sans-serif\" font-size=\"12\" lengthAdjust=\"spacingAndGlyphs\" textLength=\"8\" x=\"150\" y=\"242.1074\">A</text><line style=\"stroke: #A80036; stroke-width: 1.5;\" x1=\"122\" x2=\"186\" y1=\"249.9375\" y2=\"249.9375\"/></a><!--MD5=[60a26617385b1d2d0262a64233df1f8d]\n",
       "class E6--><a href=\"psysml:9a86ed13-d6c7-4ef9-9e5f-c3e51ac044b3\" target=\"_top\" title=\"psysml:9a86ed13-d6c7-4ef9-9e5f-c3e51ac044b3\" xlink:actuate=\"onRequest\" xlink:href=\"psysml:9a86ed13-d6c7-4ef9-9e5f-c3e51ac044b3\" xlink:show=\"new\" xlink:title=\"psysml:9a86ed13-d6c7-4ef9-9e5f-c3e51ac044b3\" xlink:type=\"simple\"><rect fill=\"#FEFECE\" filter=\"url(#f1en4thqjpa3m0)\" height=\"45.9375\" id=\"E6\" rx=\"10\" ry=\"10\" style=\"stroke: #A80036; stroke-width: 1.5;\" width=\"42\" x=\"145\" y=\"87.5\"/><text fill=\"#000000\" font-family=\"sans-serif\" font-size=\"12\" font-style=\"italic\" lengthAdjust=\"spacingAndGlyphs\" textLength=\"40\" x=\"146\" y=\"103.6387\">«part»</text><text fill=\"#000000\" font-family=\"sans-serif\" font-size=\"12\" lengthAdjust=\"spacingAndGlyphs\" textLength=\"22\" x=\"155\" y=\"117.6074\">x: A</text><line style=\"stroke: #A80036; stroke-width: 1.5;\" x1=\"146\" x2=\"186\" y1=\"125.4375\" y2=\"125.4375\"/></a><a href=\"psysml:e63557be-f486-40b8-b38f-45a287622fd5\" target=\"_top\" title=\"psysml:e63557be-f486-40b8-b38f-45a287622fd5\" xlink:actuate=\"onRequest\" xlink:href=\"psysml:e63557be-f486-40b8-b38f-45a287622fd5\" xlink:show=\"new\" xlink:title=\"psysml:e63557be-f486-40b8-b38f-45a287622fd5\" xlink:type=\"simple\"><polygon fill=\"#FFFFFF\" filter=\"url(#f1en4thqjpa3m0)\" points=\"60.5,84,95.5,84,102.5,106.2969,109.5,106.2969,109.5,136.5938,60.5,136.5938,60.5,84\" style=\"stroke: #000000; stroke-width: 1.5;\"/><line style=\"stroke: #000000; stroke-width: 1.5;\" x1=\"60.5\" x2=\"102.5\" y1=\"106.2969\" y2=\"106.2969\"/><text fill=\"#000000\" font-family=\"sans-serif\" font-size=\"14\" font-weight=\"bold\" lengthAdjust=\"spacingAndGlyphs\" textLength=\"29\" x=\"64.5\" y=\"98.9951\">P2a</text></a><!--MD5=[a717450b82c80b9240a525fa862496af]\n",
       "link E6 to E3--><a href=\"psysml:9d868367-c6cc-4e4e-a580-36a1751bbca7\" target=\"_top\" title=\"psysml:9d868367-c6cc-4e4e-a580-36a1751bbca7\" xlink:actuate=\"onRequest\" xlink:href=\"psysml:9d868367-c6cc-4e4e-a580-36a1751bbca7\" xlink:show=\"new\" xlink:title=\"psysml:9d868367-c6cc-4e4e-a580-36a1751bbca7\" xlink:type=\"simple\"><path d=\"M163.83,133.68 C162.24,149.9 160.04,172.39 158.12,191.96 \" fill=\"none\" id=\"E6-&gt;E3\" style=\"stroke: #A80036; stroke-width: 1.0;\"/><polygon fill=\"#FFFFFF\" points=\"156.16,211.98,151.0533,192.3861,164.986,193.7564,156.16,211.98\" style=\"stroke: #A80036; stroke-width: 1.0;\"/><ellipse cx=\"153.6016\" cy=\"186.9092\" fill=\"#A80036\" rx=\"2\" ry=\"2\" style=\"stroke: #A80036; stroke-width: 1.0;\"/><ellipse cx=\"163.5535\" cy=\"187.888\" fill=\"#A80036\" rx=\"2\" ry=\"2\" style=\"stroke: #A80036; stroke-width: 1.0;\"/></a><!--MD5=[fc72a374b68b3d172c3ab0e3f196df0a]\n",
       "@startuml\r\n",
       "skinparam wrapWidth 300\r\n",
       "hide circle\r\n",
       "\r\n",
       "package \"QualifiedNameImportTest\" as E1  [[psysml:3aea7368-2129-476d-92d7-ea1a60089676 ]]  {\r\n",
       "package \"P1\" as E2  [[psysml:a60b7189-47ac-4303-8a81-d977466f28db ]]  {\r\n",
       "comp def \"A\" as E3  <<(T,blue)part def>> [[psysml:f2420fd6-3670-4cc8-95b9-f254eed1f95d ]] {\r\n",
       "}\r\n",
       "}\r\n",
       "package \"P2\" as E4  [[psysml:ba53b2aa-0756-4dc5-85cd-737c1d1d7585 ]]  {\r\n",
       "package \"P2a\" as E5  [[psysml:e63557be-f486-40b8-b38f-45a287622fd5 ]]  {\r\n",
       "}\r\n",
       "comp usage \"x: A\" as E6  <<(T,blue)part>> [[psysml:9a86ed13-d6c7-4ef9-9e5f-c3e51ac044b3 ]] {\r\n",
       "}\r\n",
       "E6 - -:|> E3 [[psysml:9d868367-c6cc-4e4e-a580-36a1751bbca7 ]] \r\n",
       "}\r\n",
       "}\r\n",
       "@enduml\r\n",
       "\n",
       "PlantUML version 1.2020.13(Sat Jun 13 12:26:38 UTC 2020)\n",
       "(EPL source distribution)\n",
       "Java Runtime: OpenJDK Runtime Environment\n",
       "JVM: OpenJDK 64-Bit Server VM\n",
       "Default Encoding: UTF-8\n",
       "Language: en\n",
       "Country: null\n",
       "--></g></svg>"
      ]
     },
     "execution_count": 28,
     "metadata": {},
     "output_type": "execute_result"
    }
   ],
   "source": [
    "%viz --style=\"STDCOLOR\" --view=\"Sequence\" \"QualifiedNameImportTest\""
   ]
  },
  {
   "cell_type": "code",
   "execution_count": 29,
   "id": "f2d72429",
   "metadata": {
    "execution": {
     "iopub.execute_input": "2021-04-20T07:31:01.096376Z",
     "iopub.status.busy": "2021-04-20T07:31:01.095187Z",
     "iopub.status.idle": "2021-04-20T07:31:01.183766Z",
     "shell.execute_reply": "2021-04-20T07:31:01.180593Z"
    }
   },
   "outputs": [
    {
     "data": {
      "image/svg+xml": [
       "<?xml version=\"1.0\" encoding=\"UTF-8\" standalone=\"no\"?><svg xmlns=\"http://www.w3.org/2000/svg\" xmlns:xlink=\"http://www.w3.org/1999/xlink\" contentScriptType=\"application/ecmascript\" contentStyleType=\"text/css\" height=\"310px\" preserveAspectRatio=\"none\" style=\"width:253px;height:310px;\" version=\"1.1\" viewBox=\"0 0 253 310\" width=\"253px\" zoomAndPan=\"magnify\"><defs><filter height=\"300%\" id=\"f1en4thqjpa3m0\" width=\"300%\" x=\"-1\" y=\"-1\"><feGaussianBlur result=\"blurOut\" stdDeviation=\"2.0\"/><feColorMatrix in=\"blurOut\" result=\"blurOut2\" type=\"matrix\" values=\"0 0 0 0 0 0 0 0 0 0 0 0 0 0 0 0 0 0 .4 0\"/><feOffset dx=\"4.0\" dy=\"4.0\" in=\"blurOut2\" result=\"blurOut3\"/><feBlend in=\"SourceGraphic\" in2=\"blurOut3\" mode=\"normal\"/></filter></defs><g><!--MD5=[fbc87193dbaf4d95561dea2c320d4a47]\n",
       "cluster E1--><a href=\"psysml:3aea7368-2129-476d-92d7-ea1a60089676\" target=\"_top\" title=\"psysml:3aea7368-2129-476d-92d7-ea1a60089676\" xlink:actuate=\"onRequest\" xlink:href=\"psysml:3aea7368-2129-476d-92d7-ea1a60089676\" xlink:show=\"new\" xlink:title=\"psysml:3aea7368-2129-476d-92d7-ea1a60089676\" xlink:type=\"simple\"><polygon fill=\"#FFFFFF\" filter=\"url(#f1en4thqjpa3m0)\" points=\"16,6,221,6,228,28.2969,231,28.2969,231,298,16,298,16,6\" style=\"stroke: #000000; stroke-width: 1.5;\"/><line style=\"stroke: #000000; stroke-width: 1.5;\" x1=\"16\" x2=\"228\" y1=\"28.2969\" y2=\"28.2969\"/><text fill=\"#000000\" font-family=\"sans-serif\" font-size=\"14\" font-weight=\"bold\" lengthAdjust=\"spacingAndGlyphs\" textLength=\"199\" x=\"20\" y=\"20.9951\">QualifiedNameImportTest</text></a><!--MD5=[e4f7fae6ed58524ba242bb0b0d3be6b7]\n",
       "cluster E2--><a href=\"psysml:a60b7189-47ac-4303-8a81-d977466f28db\" target=\"_top\" title=\"psysml:a60b7189-47ac-4303-8a81-d977466f28db\" xlink:actuate=\"onRequest\" xlink:href=\"psysml:a60b7189-47ac-4303-8a81-d977466f28db\" xlink:show=\"new\" xlink:title=\"psysml:a60b7189-47ac-4303-8a81-d977466f28db\" xlink:type=\"simple\"><polygon fill=\"#FFFFFF\" filter=\"url(#f1en4thqjpa3m0)\" points=\"105,177,131,177,138,199.2969,203,199.2969,203,274,105,274,105,177\" style=\"stroke: #000000; stroke-width: 1.5;\"/><line style=\"stroke: #000000; stroke-width: 1.5;\" x1=\"105\" x2=\"138\" y1=\"199.2969\" y2=\"199.2969\"/><text fill=\"#000000\" font-family=\"sans-serif\" font-size=\"14\" font-weight=\"bold\" lengthAdjust=\"spacingAndGlyphs\" textLength=\"20\" x=\"109\" y=\"191.9951\">P1</text></a><!--MD5=[f6df4d0ebaf0b5dfb2ced0ae5af7c670]\n",
       "cluster E4--><a href=\"psysml:ba53b2aa-0756-4dc5-85cd-737c1d1d7585\" target=\"_top\" title=\"psysml:ba53b2aa-0756-4dc5-85cd-737c1d1d7585\" xlink:actuate=\"onRequest\" xlink:href=\"psysml:ba53b2aa-0756-4dc5-85cd-737c1d1d7585\" xlink:show=\"new\" xlink:title=\"psysml:ba53b2aa-0756-4dc5-85cd-737c1d1d7585\" xlink:type=\"simple\"><polygon fill=\"#FFFFFF\" filter=\"url(#f1en4thqjpa3m0)\" points=\"44,49,70,49,77,71.2969,203,71.2969,203,153,44,153,44,49\" style=\"stroke: #000000; stroke-width: 1.5;\"/><line style=\"stroke: #000000; stroke-width: 1.5;\" x1=\"44\" x2=\"77\" y1=\"71.2969\" y2=\"71.2969\"/><text fill=\"#000000\" font-family=\"sans-serif\" font-size=\"14\" font-weight=\"bold\" lengthAdjust=\"spacingAndGlyphs\" textLength=\"20\" x=\"48\" y=\"63.9951\">P2</text></a><!--MD5=[09b614a08d8cba4a07c9adeb5e0fee81]\n",
       "class E3--><a href=\"psysml:f2420fd6-3670-4cc8-95b9-f254eed1f95d\" target=\"_top\" title=\"psysml:f2420fd6-3670-4cc8-95b9-f254eed1f95d\" xlink:actuate=\"onRequest\" xlink:href=\"psysml:f2420fd6-3670-4cc8-95b9-f254eed1f95d\" xlink:show=\"new\" xlink:title=\"psysml:f2420fd6-3670-4cc8-95b9-f254eed1f95d\" xlink:type=\"simple\"><rect fill=\"#FEFECE\" filter=\"url(#f1en4thqjpa3m0)\" height=\"45.9375\" id=\"E3\" style=\"stroke: #A80036; stroke-width: 1.5;\" width=\"66\" x=\"121\" y=\"212\"/><text fill=\"#000000\" font-family=\"sans-serif\" font-size=\"12\" font-style=\"italic\" lengthAdjust=\"spacingAndGlyphs\" textLength=\"64\" x=\"122\" y=\"228.1387\">«part def»</text><text fill=\"#000000\" font-family=\"sans-serif\" font-size=\"12\" lengthAdjust=\"spacingAndGlyphs\" textLength=\"8\" x=\"150\" y=\"242.1074\">A</text><line style=\"stroke: #A80036; stroke-width: 1.5;\" x1=\"122\" x2=\"186\" y1=\"249.9375\" y2=\"249.9375\"/></a><!--MD5=[60a26617385b1d2d0262a64233df1f8d]\n",
       "class E6--><a href=\"psysml:9a86ed13-d6c7-4ef9-9e5f-c3e51ac044b3\" target=\"_top\" title=\"psysml:9a86ed13-d6c7-4ef9-9e5f-c3e51ac044b3\" xlink:actuate=\"onRequest\" xlink:href=\"psysml:9a86ed13-d6c7-4ef9-9e5f-c3e51ac044b3\" xlink:show=\"new\" xlink:title=\"psysml:9a86ed13-d6c7-4ef9-9e5f-c3e51ac044b3\" xlink:type=\"simple\"><rect fill=\"#FEFECE\" filter=\"url(#f1en4thqjpa3m0)\" height=\"45.9375\" id=\"E6\" rx=\"10\" ry=\"10\" style=\"stroke: #A80036; stroke-width: 1.5;\" width=\"42\" x=\"145\" y=\"87.5\"/><text fill=\"#000000\" font-family=\"sans-serif\" font-size=\"12\" font-style=\"italic\" lengthAdjust=\"spacingAndGlyphs\" textLength=\"40\" x=\"146\" y=\"103.6387\">«part»</text><text fill=\"#000000\" font-family=\"sans-serif\" font-size=\"12\" lengthAdjust=\"spacingAndGlyphs\" textLength=\"22\" x=\"155\" y=\"117.6074\">x: A</text><line style=\"stroke: #A80036; stroke-width: 1.5;\" x1=\"146\" x2=\"186\" y1=\"125.4375\" y2=\"125.4375\"/></a><a href=\"psysml:e63557be-f486-40b8-b38f-45a287622fd5\" target=\"_top\" title=\"psysml:e63557be-f486-40b8-b38f-45a287622fd5\" xlink:actuate=\"onRequest\" xlink:href=\"psysml:e63557be-f486-40b8-b38f-45a287622fd5\" xlink:show=\"new\" xlink:title=\"psysml:e63557be-f486-40b8-b38f-45a287622fd5\" xlink:type=\"simple\"><polygon fill=\"#FFFFFF\" filter=\"url(#f1en4thqjpa3m0)\" points=\"60.5,84,95.5,84,102.5,106.2969,109.5,106.2969,109.5,136.5938,60.5,136.5938,60.5,84\" style=\"stroke: #000000; stroke-width: 1.5;\"/><line style=\"stroke: #000000; stroke-width: 1.5;\" x1=\"60.5\" x2=\"102.5\" y1=\"106.2969\" y2=\"106.2969\"/><text fill=\"#000000\" font-family=\"sans-serif\" font-size=\"14\" font-weight=\"bold\" lengthAdjust=\"spacingAndGlyphs\" textLength=\"29\" x=\"64.5\" y=\"98.9951\">P2a</text></a><!--MD5=[a717450b82c80b9240a525fa862496af]\n",
       "link E6 to E3--><a href=\"psysml:9d868367-c6cc-4e4e-a580-36a1751bbca7\" target=\"_top\" title=\"psysml:9d868367-c6cc-4e4e-a580-36a1751bbca7\" xlink:actuate=\"onRequest\" xlink:href=\"psysml:9d868367-c6cc-4e4e-a580-36a1751bbca7\" xlink:show=\"new\" xlink:title=\"psysml:9d868367-c6cc-4e4e-a580-36a1751bbca7\" xlink:type=\"simple\"><path d=\"M163.83,133.68 C162.24,149.9 160.04,172.39 158.12,191.96 \" fill=\"none\" id=\"E6-&gt;E3\" style=\"stroke: #A80036; stroke-width: 1.0;\"/><polygon fill=\"#FFFFFF\" points=\"156.16,211.98,151.0533,192.3861,164.986,193.7564,156.16,211.98\" style=\"stroke: #A80036; stroke-width: 1.0;\"/><ellipse cx=\"153.6016\" cy=\"186.9092\" fill=\"#A80036\" rx=\"2\" ry=\"2\" style=\"stroke: #A80036; stroke-width: 1.0;\"/><ellipse cx=\"163.5535\" cy=\"187.888\" fill=\"#A80036\" rx=\"2\" ry=\"2\" style=\"stroke: #A80036; stroke-width: 1.0;\"/></a><!--MD5=[fc72a374b68b3d172c3ab0e3f196df0a]\n",
       "@startuml\r\n",
       "skinparam wrapWidth 300\r\n",
       "hide circle\r\n",
       "\r\n",
       "package \"QualifiedNameImportTest\" as E1  [[psysml:3aea7368-2129-476d-92d7-ea1a60089676 ]]  {\r\n",
       "package \"P1\" as E2  [[psysml:a60b7189-47ac-4303-8a81-d977466f28db ]]  {\r\n",
       "comp def \"A\" as E3  <<(T,blue)part def>> [[psysml:f2420fd6-3670-4cc8-95b9-f254eed1f95d ]] {\r\n",
       "}\r\n",
       "}\r\n",
       "package \"P2\" as E4  [[psysml:ba53b2aa-0756-4dc5-85cd-737c1d1d7585 ]]  {\r\n",
       "package \"P2a\" as E5  [[psysml:e63557be-f486-40b8-b38f-45a287622fd5 ]]  {\r\n",
       "}\r\n",
       "comp usage \"x: A\" as E6  <<(T,blue)part>> [[psysml:9a86ed13-d6c7-4ef9-9e5f-c3e51ac044b3 ]] {\r\n",
       "}\r\n",
       "E6 - -:|> E3 [[psysml:9d868367-c6cc-4e4e-a580-36a1751bbca7 ]] \r\n",
       "}\r\n",
       "}\r\n",
       "@enduml\r\n",
       "\n",
       "PlantUML version 1.2020.13(Sat Jun 13 12:26:38 UTC 2020)\n",
       "(EPL source distribution)\n",
       "Java Runtime: OpenJDK Runtime Environment\n",
       "JVM: OpenJDK 64-Bit Server VM\n",
       "Default Encoding: UTF-8\n",
       "Language: en\n",
       "Country: null\n",
       "--></g></svg>"
      ]
     },
     "execution_count": 29,
     "metadata": {},
     "output_type": "execute_result"
    }
   ],
   "source": [
    "%viz --style=\"STDCOLOR\" --view=\"MIXED\" \"QualifiedNameImportTest\""
   ]
  },
  {
   "cell_type": "code",
   "execution_count": 30,
   "id": "0b228a2c",
   "metadata": {
    "execution": {
     "iopub.execute_input": "2021-04-20T07:31:01.243238Z",
     "iopub.status.busy": "2021-04-20T07:31:01.241825Z",
     "iopub.status.idle": "2021-04-20T07:31:01.328253Z",
     "shell.execute_reply": "2021-04-20T07:31:01.326035Z"
    }
   },
   "outputs": [
    {
     "data": {
      "image/svg+xml": [
       "<?xml version=\"1.0\" encoding=\"UTF-8\" standalone=\"no\"?><svg xmlns=\"http://www.w3.org/2000/svg\" xmlns:xlink=\"http://www.w3.org/1999/xlink\" contentScriptType=\"application/ecmascript\" contentStyleType=\"text/css\" height=\"304px\" preserveAspectRatio=\"none\" style=\"width:271px;height:304px;\" version=\"1.1\" viewBox=\"0 0 271 304\" width=\"271px\" zoomAndPan=\"magnify\"><defs><filter height=\"300%\" id=\"f9i1lvm18lzmi\" width=\"300%\" x=\"-1\" y=\"-1\"><feGaussianBlur result=\"blurOut\" stdDeviation=\"2.0\"/><feColorMatrix in=\"blurOut\" result=\"blurOut2\" type=\"matrix\" values=\"0 0 0 0 0 0 0 0 0 0 0 0 0 0 0 0 0 0 .4 0\"/><feOffset dx=\"4.0\" dy=\"4.0\" in=\"blurOut2\" result=\"blurOut3\"/><feBlend in=\"SourceGraphic\" in2=\"blurOut3\" mode=\"normal\"/></filter></defs><g><!--MD5=[fbc87193dbaf4d95561dea2c320d4a47]\n",
       "cluster E1--><a href=\"psysml:3aea7368-2129-476d-92d7-ea1a60089676\" target=\"_top\" title=\"psysml:3aea7368-2129-476d-92d7-ea1a60089676\" xlink:actuate=\"onRequest\" xlink:href=\"psysml:3aea7368-2129-476d-92d7-ea1a60089676\" xlink:show=\"new\" xlink:title=\"psysml:3aea7368-2129-476d-92d7-ea1a60089676\" xlink:type=\"simple\"><polygon fill=\"#FFFFFF\" filter=\"url(#f9i1lvm18lzmi)\" points=\"16,6,221,6,228,28.2969,249,28.2969,249,292,16,292,16,6\" style=\"stroke: #000000; stroke-width: 1.5;\"/><line style=\"stroke: #000000; stroke-width: 1.5;\" x1=\"16\" x2=\"228\" y1=\"28.2969\" y2=\"28.2969\"/><text fill=\"#000000\" font-family=\"sans-serif\" font-size=\"14\" font-weight=\"bold\" lengthAdjust=\"spacingAndGlyphs\" textLength=\"199\" x=\"20\" y=\"20.9951\">QualifiedNameImportTest</text></a><!--MD5=[e4f7fae6ed58524ba242bb0b0d3be6b7]\n",
       "cluster E2--><a href=\"psysml:a60b7189-47ac-4303-8a81-d977466f28db\" target=\"_top\" title=\"psysml:a60b7189-47ac-4303-8a81-d977466f28db\" xlink:actuate=\"onRequest\" xlink:href=\"psysml:a60b7189-47ac-4303-8a81-d977466f28db\" xlink:show=\"new\" xlink:title=\"psysml:a60b7189-47ac-4303-8a81-d977466f28db\" xlink:type=\"simple\"><polygon fill=\"#FFFFFF\" filter=\"url(#f9i1lvm18lzmi)\" points=\"139,177,165,177,172,199.2969,211,199.2969,211,268,139,268,139,177\" style=\"stroke: #000000; stroke-width: 1.5;\"/><line style=\"stroke: #000000; stroke-width: 1.5;\" x1=\"139\" x2=\"172\" y1=\"199.2969\" y2=\"199.2969\"/><text fill=\"#000000\" font-family=\"sans-serif\" font-size=\"14\" font-weight=\"bold\" lengthAdjust=\"spacingAndGlyphs\" textLength=\"20\" x=\"143\" y=\"191.9951\">P1</text></a><!--MD5=[f6df4d0ebaf0b5dfb2ced0ae5af7c670]\n",
       "cluster E4--><a href=\"psysml:ba53b2aa-0756-4dc5-85cd-737c1d1d7585\" target=\"_top\" title=\"psysml:ba53b2aa-0756-4dc5-85cd-737c1d1d7585\" xlink:actuate=\"onRequest\" xlink:href=\"psysml:ba53b2aa-0756-4dc5-85cd-737c1d1d7585\" xlink:show=\"new\" xlink:title=\"psysml:ba53b2aa-0756-4dc5-85cd-737c1d1d7585\" xlink:type=\"simple\"><polygon fill=\"#FFFFFF\" filter=\"url(#f9i1lvm18lzmi)\" points=\"40,49,66,49,73,71.2969,225,71.2969,225,153,40,153,40,49\" style=\"stroke: #000000; stroke-width: 1.5;\"/><line style=\"stroke: #000000; stroke-width: 1.5;\" x1=\"40\" x2=\"73\" y1=\"71.2969\" y2=\"71.2969\"/><text fill=\"#000000\" font-family=\"sans-serif\" font-size=\"14\" font-weight=\"bold\" lengthAdjust=\"spacingAndGlyphs\" textLength=\"20\" x=\"44\" y=\"63.9951\">P2</text></a><!--MD5=[09b614a08d8cba4a07c9adeb5e0fee81]\n",
       "class E3--><a href=\"psysml:f2420fd6-3670-4cc8-95b9-f254eed1f95d\" target=\"_top\" title=\"psysml:f2420fd6-3670-4cc8-95b9-f254eed1f95d\" xlink:actuate=\"onRequest\" xlink:href=\"psysml:f2420fd6-3670-4cc8-95b9-f254eed1f95d\" xlink:show=\"new\" xlink:title=\"psysml:f2420fd6-3670-4cc8-95b9-f254eed1f95d\" xlink:type=\"simple\"><rect fill=\"#FEFECE\" filter=\"url(#f9i1lvm18lzmi)\" height=\"40\" id=\"E3\" style=\"stroke: #A80036; stroke-width: 1.5;\" width=\"40\" x=\"155\" y=\"212\"/><ellipse cx=\"170\" cy=\"228\" fill=\"#008000\" rx=\"11\" ry=\"11\" style=\"stroke: #A80036; stroke-width: 1.0;\"/><path d=\"M168.9063,228.375 L168.9063,232.0469 L170.5313,232.0469 Q171.7031,232.0469 172.1719,231.6563 Q172.6406,231.25 172.6406,230.25 Q172.6406,229.25 172.1406,228.8125 Q171.6563,228.375 170.5313,228.375 L168.9063,228.375 Z M168.9063,223.5469 L168.9063,226.4219 L170.5313,226.4219 Q171.4531,226.4219 171.8438,226.0938 Q172.25,225.75 172.25,225 Q172.25,224.2344 171.8438,223.8906 Q171.4375,223.5469 170.5313,223.5469 L168.9063,223.5469 Z M166.5313,221.5938 L170.5313,221.5938 Q172.5938,221.5938 173.6406,222.375 Q174.6875,223.1563 174.6875,224.7188 Q174.6875,225.9219 174.0625,226.5938 Q173.4531,227.2656 172.2656,227.375 Q173.6875,227.5156 174.4063,228.3281 Q175.125,229.1406 175.125,230.5938 Q175.125,232.3906 174.0469,233.2031 Q172.9688,234 170.5313,234 L166.5313,234 L166.5313,221.5938 Z \"/><text fill=\"#000000\" font-family=\"sans-serif\" font-size=\"12\" lengthAdjust=\"spacingAndGlyphs\" textLength=\"8\" x=\"184\" y=\"232.1543\">A</text><line style=\"stroke: #A80036; stroke-width: 1.5;\" x1=\"156\" x2=\"194\" y1=\"244\" y2=\"244\"/></a><!--MD5=[60a26617385b1d2d0262a64233df1f8d]\n",
       "class E6--><a href=\"psysml:9a86ed13-d6c7-4ef9-9e5f-c3e51ac044b3\" target=\"_top\" title=\"psysml:9a86ed13-d6c7-4ef9-9e5f-c3e51ac044b3\" xlink:actuate=\"onRequest\" xlink:href=\"psysml:9a86ed13-d6c7-4ef9-9e5f-c3e51ac044b3\" xlink:show=\"new\" xlink:title=\"psysml:9a86ed13-d6c7-4ef9-9e5f-c3e51ac044b3\" xlink:type=\"simple\"><rect fill=\"#FEFECE\" filter=\"url(#f9i1lvm18lzmi)\" height=\"45.9375\" id=\"E6\" rx=\"10\" ry=\"10\" style=\"stroke: #A80036; stroke-width: 1.5;\" width=\"68\" x=\"141\" y=\"87.5\"/><ellipse cx=\"156\" cy=\"106.4688\" fill=\"#32CD32\" rx=\"11\" ry=\"11\" style=\"stroke: #A80036; stroke-width: 1.0;\"/><path d=\"M155.7969,102.1406 L155.7969,105.7656 L156.7969,105.7656 Q158,105.7656 158.4844,105.3594 Q158.9688,104.9531 158.9688,103.9531 Q158.9688,102.9531 158.4844,102.5469 Q158,102.1406 156.7969,102.1406 L155.7969,102.1406 Z M153.3438,100.0781 L156.7031,100.0781 Q159.2656,100.0781 160.3906,101 Q161.5156,101.9063 161.5156,103.9531 Q161.5156,106 160.3906,106.9219 Q159.2656,107.8281 156.7031,107.8281 L155.7969,107.8281 L155.7969,112.4688 L153.3438,112.4688 L153.3438,100.0781 Z \"/><text fill=\"#000000\" font-family=\"sans-serif\" font-size=\"12\" font-style=\"italic\" lengthAdjust=\"spacingAndGlyphs\" textLength=\"40\" x=\"168\" y=\"103.6387\">«part»</text><text fill=\"#000000\" font-family=\"sans-serif\" font-size=\"12\" lengthAdjust=\"spacingAndGlyphs\" textLength=\"22\" x=\"177\" y=\"117.6074\">x: A</text><line style=\"stroke: #A80036; stroke-width: 1.5;\" x1=\"142\" x2=\"208\" y1=\"125.4375\" y2=\"125.4375\"/></a><a href=\"psysml:e63557be-f486-40b8-b38f-45a287622fd5\" target=\"_top\" title=\"psysml:e63557be-f486-40b8-b38f-45a287622fd5\" xlink:actuate=\"onRequest\" xlink:href=\"psysml:e63557be-f486-40b8-b38f-45a287622fd5\" xlink:show=\"new\" xlink:title=\"psysml:e63557be-f486-40b8-b38f-45a287622fd5\" xlink:type=\"simple\"><polygon fill=\"#FFFFFF\" filter=\"url(#f9i1lvm18lzmi)\" points=\"56.5,84,91.5,84,98.5,106.2969,105.5,106.2969,105.5,136.5938,56.5,136.5938,56.5,84\" style=\"stroke: #000000; stroke-width: 1.5;\"/><line style=\"stroke: #000000; stroke-width: 1.5;\" x1=\"56.5\" x2=\"98.5\" y1=\"106.2969\" y2=\"106.2969\"/><text fill=\"#000000\" font-family=\"sans-serif\" font-size=\"14\" font-weight=\"bold\" lengthAdjust=\"spacingAndGlyphs\" textLength=\"29\" x=\"60.5\" y=\"98.9951\">P2a</text></a><!--MD5=[a717450b82c80b9240a525fa862496af]\n",
       "link E6 to E3--><a href=\"psysml:9d868367-c6cc-4e4e-a580-36a1751bbca7\" target=\"_top\" title=\"psysml:9d868367-c6cc-4e4e-a580-36a1751bbca7\" xlink:actuate=\"onRequest\" xlink:href=\"psysml:9d868367-c6cc-4e4e-a580-36a1751bbca7\" xlink:show=\"new\" xlink:title=\"psysml:9d868367-c6cc-4e4e-a580-36a1751bbca7\" xlink:type=\"simple\"><path d=\"M175,133.7 C175,149.89 175,172.27 175,191.49 \" fill=\"none\" id=\"E6-&gt;E3\" style=\"stroke: #A80036; stroke-width: 1.0;\"/><polygon fill=\"#FFFFFF\" points=\"175,211.69,168,192.69,182,192.69,175,211.69\" style=\"stroke: #A80036; stroke-width: 1.0;\"/><ellipse cx=\"170\" cy=\"186.99\" fill=\"#A80036\" rx=\"2\" ry=\"2\" style=\"stroke: #A80036; stroke-width: 1.0;\"/><ellipse cx=\"180\" cy=\"186.99\" fill=\"#A80036\" rx=\"2\" ry=\"2\" style=\"stroke: #A80036; stroke-width: 1.0;\"/></a><!--MD5=[09d13a6a414b0a5ed773a6d2612aa304]\n",
       "@startuml\r\n",
       " \r\n",
       "package \"QualifiedNameImportTest\" as E1  [[psysml:3aea7368-2129-476d-92d7-ea1a60089676 ]]  {\r\n",
       "package \"P1\" as E2  [[psysml:a60b7189-47ac-4303-8a81-d977466f28db ]]  {\r\n",
       "comp def \"A\" as E3  << (B,green) >> [[psysml:f2420fd6-3670-4cc8-95b9-f254eed1f95d ]] {\r\n",
       "}\r\n",
       "}\r\n",
       "package \"P2\" as E4  [[psysml:ba53b2aa-0756-4dc5-85cd-737c1d1d7585 ]]  {\r\n",
       "package \"P2a\" as E5  [[psysml:e63557be-f486-40b8-b38f-45a287622fd5 ]]  {\r\n",
       "}\r\n",
       "comp usage \"x: A\" as E6  << (P,limegreen) part>> [[psysml:9a86ed13-d6c7-4ef9-9e5f-c3e51ac044b3 ]] {\r\n",
       "}\r\n",
       "E6 - -:|> E3 [[psysml:9d868367-c6cc-4e4e-a580-36a1751bbca7 ]] \r\n",
       "}\r\n",
       "}\r\n",
       "@enduml\r\n",
       "\n",
       "PlantUML version 1.2020.13(Sat Jun 13 12:26:38 UTC 2020)\n",
       "(EPL source distribution)\n",
       "Java Runtime: OpenJDK Runtime Environment\n",
       "JVM: OpenJDK 64-Bit Server VM\n",
       "Default Encoding: UTF-8\n",
       "Language: en\n",
       "Country: null\n",
       "--></g></svg>"
      ]
     },
     "execution_count": 30,
     "metadata": {},
     "output_type": "execute_result"
    }
   ],
   "source": [
    "%viz --style=\"PLANTUML\" --view=\"Default\" \"QualifiedNameImportTest\""
   ]
  },
  {
   "cell_type": "code",
   "execution_count": 31,
   "id": "f9b0784b",
   "metadata": {
    "execution": {
     "iopub.execute_input": "2021-04-20T07:31:01.386316Z",
     "iopub.status.busy": "2021-04-20T07:31:01.385746Z",
     "iopub.status.idle": "2021-04-20T07:31:01.435105Z",
     "shell.execute_reply": "2021-04-20T07:31:01.433761Z"
    }
   },
   "outputs": [
    {
     "data": {
      "image/svg+xml": [
       "<?xml version=\"1.0\" encoding=\"UTF-8\" standalone=\"no\"?><svg xmlns=\"http://www.w3.org/2000/svg\" xmlns:xlink=\"http://www.w3.org/1999/xlink\" contentScriptType=\"application/ecmascript\" contentStyleType=\"text/css\" height=\"304px\" preserveAspectRatio=\"none\" style=\"width:271px;height:304px;\" version=\"1.1\" viewBox=\"0 0 271 304\" width=\"271px\" zoomAndPan=\"magnify\"><defs><filter height=\"300%\" id=\"f9i1lvm18lzmi\" width=\"300%\" x=\"-1\" y=\"-1\"><feGaussianBlur result=\"blurOut\" stdDeviation=\"2.0\"/><feColorMatrix in=\"blurOut\" result=\"blurOut2\" type=\"matrix\" values=\"0 0 0 0 0 0 0 0 0 0 0 0 0 0 0 0 0 0 .4 0\"/><feOffset dx=\"4.0\" dy=\"4.0\" in=\"blurOut2\" result=\"blurOut3\"/><feBlend in=\"SourceGraphic\" in2=\"blurOut3\" mode=\"normal\"/></filter></defs><g><!--MD5=[fbc87193dbaf4d95561dea2c320d4a47]\n",
       "cluster E1--><a href=\"psysml:3aea7368-2129-476d-92d7-ea1a60089676\" target=\"_top\" title=\"psysml:3aea7368-2129-476d-92d7-ea1a60089676\" xlink:actuate=\"onRequest\" xlink:href=\"psysml:3aea7368-2129-476d-92d7-ea1a60089676\" xlink:show=\"new\" xlink:title=\"psysml:3aea7368-2129-476d-92d7-ea1a60089676\" xlink:type=\"simple\"><polygon fill=\"#FFFFFF\" filter=\"url(#f9i1lvm18lzmi)\" points=\"16,6,221,6,228,28.2969,249,28.2969,249,292,16,292,16,6\" style=\"stroke: #000000; stroke-width: 1.5;\"/><line style=\"stroke: #000000; stroke-width: 1.5;\" x1=\"16\" x2=\"228\" y1=\"28.2969\" y2=\"28.2969\"/><text fill=\"#000000\" font-family=\"sans-serif\" font-size=\"14\" font-weight=\"bold\" lengthAdjust=\"spacingAndGlyphs\" textLength=\"199\" x=\"20\" y=\"20.9951\">QualifiedNameImportTest</text></a><!--MD5=[e4f7fae6ed58524ba242bb0b0d3be6b7]\n",
       "cluster E2--><a href=\"psysml:a60b7189-47ac-4303-8a81-d977466f28db\" target=\"_top\" title=\"psysml:a60b7189-47ac-4303-8a81-d977466f28db\" xlink:actuate=\"onRequest\" xlink:href=\"psysml:a60b7189-47ac-4303-8a81-d977466f28db\" xlink:show=\"new\" xlink:title=\"psysml:a60b7189-47ac-4303-8a81-d977466f28db\" xlink:type=\"simple\"><polygon fill=\"#FFFFFF\" filter=\"url(#f9i1lvm18lzmi)\" points=\"139,177,165,177,172,199.2969,211,199.2969,211,268,139,268,139,177\" style=\"stroke: #000000; stroke-width: 1.5;\"/><line style=\"stroke: #000000; stroke-width: 1.5;\" x1=\"139\" x2=\"172\" y1=\"199.2969\" y2=\"199.2969\"/><text fill=\"#000000\" font-family=\"sans-serif\" font-size=\"14\" font-weight=\"bold\" lengthAdjust=\"spacingAndGlyphs\" textLength=\"20\" x=\"143\" y=\"191.9951\">P1</text></a><!--MD5=[f6df4d0ebaf0b5dfb2ced0ae5af7c670]\n",
       "cluster E4--><a href=\"psysml:ba53b2aa-0756-4dc5-85cd-737c1d1d7585\" target=\"_top\" title=\"psysml:ba53b2aa-0756-4dc5-85cd-737c1d1d7585\" xlink:actuate=\"onRequest\" xlink:href=\"psysml:ba53b2aa-0756-4dc5-85cd-737c1d1d7585\" xlink:show=\"new\" xlink:title=\"psysml:ba53b2aa-0756-4dc5-85cd-737c1d1d7585\" xlink:type=\"simple\"><polygon fill=\"#FFFFFF\" filter=\"url(#f9i1lvm18lzmi)\" points=\"40,49,66,49,73,71.2969,225,71.2969,225,153,40,153,40,49\" style=\"stroke: #000000; stroke-width: 1.5;\"/><line style=\"stroke: #000000; stroke-width: 1.5;\" x1=\"40\" x2=\"73\" y1=\"71.2969\" y2=\"71.2969\"/><text fill=\"#000000\" font-family=\"sans-serif\" font-size=\"14\" font-weight=\"bold\" lengthAdjust=\"spacingAndGlyphs\" textLength=\"20\" x=\"44\" y=\"63.9951\">P2</text></a><!--MD5=[09b614a08d8cba4a07c9adeb5e0fee81]\n",
       "class E3--><a href=\"psysml:f2420fd6-3670-4cc8-95b9-f254eed1f95d\" target=\"_top\" title=\"psysml:f2420fd6-3670-4cc8-95b9-f254eed1f95d\" xlink:actuate=\"onRequest\" xlink:href=\"psysml:f2420fd6-3670-4cc8-95b9-f254eed1f95d\" xlink:show=\"new\" xlink:title=\"psysml:f2420fd6-3670-4cc8-95b9-f254eed1f95d\" xlink:type=\"simple\"><rect fill=\"#FEFECE\" filter=\"url(#f9i1lvm18lzmi)\" height=\"40\" id=\"E3\" style=\"stroke: #A80036; stroke-width: 1.5;\" width=\"40\" x=\"155\" y=\"212\"/><ellipse cx=\"170\" cy=\"228\" fill=\"#008000\" rx=\"11\" ry=\"11\" style=\"stroke: #A80036; stroke-width: 1.0;\"/><path d=\"M168.9063,228.375 L168.9063,232.0469 L170.5313,232.0469 Q171.7031,232.0469 172.1719,231.6563 Q172.6406,231.25 172.6406,230.25 Q172.6406,229.25 172.1406,228.8125 Q171.6563,228.375 170.5313,228.375 L168.9063,228.375 Z M168.9063,223.5469 L168.9063,226.4219 L170.5313,226.4219 Q171.4531,226.4219 171.8438,226.0938 Q172.25,225.75 172.25,225 Q172.25,224.2344 171.8438,223.8906 Q171.4375,223.5469 170.5313,223.5469 L168.9063,223.5469 Z M166.5313,221.5938 L170.5313,221.5938 Q172.5938,221.5938 173.6406,222.375 Q174.6875,223.1563 174.6875,224.7188 Q174.6875,225.9219 174.0625,226.5938 Q173.4531,227.2656 172.2656,227.375 Q173.6875,227.5156 174.4063,228.3281 Q175.125,229.1406 175.125,230.5938 Q175.125,232.3906 174.0469,233.2031 Q172.9688,234 170.5313,234 L166.5313,234 L166.5313,221.5938 Z \"/><text fill=\"#000000\" font-family=\"sans-serif\" font-size=\"12\" lengthAdjust=\"spacingAndGlyphs\" textLength=\"8\" x=\"184\" y=\"232.1543\">A</text><line style=\"stroke: #A80036; stroke-width: 1.5;\" x1=\"156\" x2=\"194\" y1=\"244\" y2=\"244\"/></a><!--MD5=[60a26617385b1d2d0262a64233df1f8d]\n",
       "class E6--><a href=\"psysml:9a86ed13-d6c7-4ef9-9e5f-c3e51ac044b3\" target=\"_top\" title=\"psysml:9a86ed13-d6c7-4ef9-9e5f-c3e51ac044b3\" xlink:actuate=\"onRequest\" xlink:href=\"psysml:9a86ed13-d6c7-4ef9-9e5f-c3e51ac044b3\" xlink:show=\"new\" xlink:title=\"psysml:9a86ed13-d6c7-4ef9-9e5f-c3e51ac044b3\" xlink:type=\"simple\"><rect fill=\"#FEFECE\" filter=\"url(#f9i1lvm18lzmi)\" height=\"45.9375\" id=\"E6\" rx=\"10\" ry=\"10\" style=\"stroke: #A80036; stroke-width: 1.5;\" width=\"68\" x=\"141\" y=\"87.5\"/><ellipse cx=\"156\" cy=\"106.4688\" fill=\"#32CD32\" rx=\"11\" ry=\"11\" style=\"stroke: #A80036; stroke-width: 1.0;\"/><path d=\"M155.7969,102.1406 L155.7969,105.7656 L156.7969,105.7656 Q158,105.7656 158.4844,105.3594 Q158.9688,104.9531 158.9688,103.9531 Q158.9688,102.9531 158.4844,102.5469 Q158,102.1406 156.7969,102.1406 L155.7969,102.1406 Z M153.3438,100.0781 L156.7031,100.0781 Q159.2656,100.0781 160.3906,101 Q161.5156,101.9063 161.5156,103.9531 Q161.5156,106 160.3906,106.9219 Q159.2656,107.8281 156.7031,107.8281 L155.7969,107.8281 L155.7969,112.4688 L153.3438,112.4688 L153.3438,100.0781 Z \"/><text fill=\"#000000\" font-family=\"sans-serif\" font-size=\"12\" font-style=\"italic\" lengthAdjust=\"spacingAndGlyphs\" textLength=\"40\" x=\"168\" y=\"103.6387\">«part»</text><text fill=\"#000000\" font-family=\"sans-serif\" font-size=\"12\" lengthAdjust=\"spacingAndGlyphs\" textLength=\"22\" x=\"177\" y=\"117.6074\">x: A</text><line style=\"stroke: #A80036; stroke-width: 1.5;\" x1=\"142\" x2=\"208\" y1=\"125.4375\" y2=\"125.4375\"/></a><a href=\"psysml:e63557be-f486-40b8-b38f-45a287622fd5\" target=\"_top\" title=\"psysml:e63557be-f486-40b8-b38f-45a287622fd5\" xlink:actuate=\"onRequest\" xlink:href=\"psysml:e63557be-f486-40b8-b38f-45a287622fd5\" xlink:show=\"new\" xlink:title=\"psysml:e63557be-f486-40b8-b38f-45a287622fd5\" xlink:type=\"simple\"><polygon fill=\"#FFFFFF\" filter=\"url(#f9i1lvm18lzmi)\" points=\"56.5,84,91.5,84,98.5,106.2969,105.5,106.2969,105.5,136.5938,56.5,136.5938,56.5,84\" style=\"stroke: #000000; stroke-width: 1.5;\"/><line style=\"stroke: #000000; stroke-width: 1.5;\" x1=\"56.5\" x2=\"98.5\" y1=\"106.2969\" y2=\"106.2969\"/><text fill=\"#000000\" font-family=\"sans-serif\" font-size=\"14\" font-weight=\"bold\" lengthAdjust=\"spacingAndGlyphs\" textLength=\"29\" x=\"60.5\" y=\"98.9951\">P2a</text></a><!--MD5=[a717450b82c80b9240a525fa862496af]\n",
       "link E6 to E3--><a href=\"psysml:9d868367-c6cc-4e4e-a580-36a1751bbca7\" target=\"_top\" title=\"psysml:9d868367-c6cc-4e4e-a580-36a1751bbca7\" xlink:actuate=\"onRequest\" xlink:href=\"psysml:9d868367-c6cc-4e4e-a580-36a1751bbca7\" xlink:show=\"new\" xlink:title=\"psysml:9d868367-c6cc-4e4e-a580-36a1751bbca7\" xlink:type=\"simple\"><path d=\"M175,133.7 C175,149.89 175,172.27 175,191.49 \" fill=\"none\" id=\"E6-&gt;E3\" style=\"stroke: #A80036; stroke-width: 1.0;\"/><polygon fill=\"#FFFFFF\" points=\"175,211.69,168,192.69,182,192.69,175,211.69\" style=\"stroke: #A80036; stroke-width: 1.0;\"/><ellipse cx=\"170\" cy=\"186.99\" fill=\"#A80036\" rx=\"2\" ry=\"2\" style=\"stroke: #A80036; stroke-width: 1.0;\"/><ellipse cx=\"180\" cy=\"186.99\" fill=\"#A80036\" rx=\"2\" ry=\"2\" style=\"stroke: #A80036; stroke-width: 1.0;\"/></a><!--MD5=[09d13a6a414b0a5ed773a6d2612aa304]\n",
       "@startuml\r\n",
       " \r\n",
       "package \"QualifiedNameImportTest\" as E1  [[psysml:3aea7368-2129-476d-92d7-ea1a60089676 ]]  {\r\n",
       "package \"P1\" as E2  [[psysml:a60b7189-47ac-4303-8a81-d977466f28db ]]  {\r\n",
       "comp def \"A\" as E3  << (B,green) >> [[psysml:f2420fd6-3670-4cc8-95b9-f254eed1f95d ]] {\r\n",
       "}\r\n",
       "}\r\n",
       "package \"P2\" as E4  [[psysml:ba53b2aa-0756-4dc5-85cd-737c1d1d7585 ]]  {\r\n",
       "package \"P2a\" as E5  [[psysml:e63557be-f486-40b8-b38f-45a287622fd5 ]]  {\r\n",
       "}\r\n",
       "comp usage \"x: A\" as E6  << (P,limegreen) part>> [[psysml:9a86ed13-d6c7-4ef9-9e5f-c3e51ac044b3 ]] {\r\n",
       "}\r\n",
       "E6 - -:|> E3 [[psysml:9d868367-c6cc-4e4e-a580-36a1751bbca7 ]] \r\n",
       "}\r\n",
       "}\r\n",
       "@enduml\r\n",
       "\n",
       "PlantUML version 1.2020.13(Sat Jun 13 12:26:38 UTC 2020)\n",
       "(EPL source distribution)\n",
       "Java Runtime: OpenJDK Runtime Environment\n",
       "JVM: OpenJDK 64-Bit Server VM\n",
       "Default Encoding: UTF-8\n",
       "Language: en\n",
       "Country: null\n",
       "--></g></svg>"
      ]
     },
     "execution_count": 31,
     "metadata": {},
     "output_type": "execute_result"
    }
   ],
   "source": [
    "%viz --style=\"PLANTUML\" --view=\"Tree\" \"QualifiedNameImportTest\""
   ]
  },
  {
   "cell_type": "code",
   "execution_count": 32,
   "id": "f0918891",
   "metadata": {
    "execution": {
     "iopub.execute_input": "2021-04-20T07:31:01.487280Z",
     "iopub.status.busy": "2021-04-20T07:31:01.486463Z",
     "iopub.status.idle": "2021-04-20T07:31:01.656377Z",
     "shell.execute_reply": "2021-04-20T07:31:01.654751Z"
    }
   },
   "outputs": [
    {
     "data": {
      "image/svg+xml": [
       "<?xml version=\"1.0\" encoding=\"UTF-8\" standalone=\"no\"?><svg xmlns=\"http://www.w3.org/2000/svg\" xmlns:xlink=\"http://www.w3.org/1999/xlink\" contentScriptType=\"application/ecmascript\" contentStyleType=\"text/css\" height=\"303px\" preserveAspectRatio=\"none\" style=\"width:603px;height:303px;background:#000000;\" version=\"1.1\" viewBox=\"0 0 603 303\" width=\"603px\" zoomAndPan=\"magnify\"><defs/><g><rect fill=\"#150915\" height=\"1\" style=\"stroke: #150915; stroke-width: 1.0;\" width=\"1\" x=\"0\" y=\"0\"/><rect fill=\"#FFFFFF\" height=\"205.5625\" style=\"stroke: #FFFFFF; stroke-width: 1.0;\" width=\"602\" x=\"0\" y=\"0\"/><text fill=\"#000000\" font-family=\"sans-serif\" font-size=\"12\" font-weight=\"bold\" lengthAdjust=\"spacingAndGlyphs\" textLength=\"159\" x=\"5\" y=\"16.1387\">Welcome to PlantUML!</text><text fill=\"#000000\" font-family=\"sans-serif\" font-size=\"12\" lengthAdjust=\"spacingAndGlyphs\" textLength=\"0\" x=\"9\" y=\"30.1074\"/><text fill=\"#000000\" font-family=\"sans-serif\" font-size=\"12\" lengthAdjust=\"spacingAndGlyphs\" textLength=\"293\" x=\"5\" y=\"44.0762\">If you use this software, you accept its license.</text><text fill=\"#000000\" font-family=\"sans-serif\" font-size=\"12\" lengthAdjust=\"spacingAndGlyphs\" textLength=\"107\" x=\"5\" y=\"58.0449\">(details by typing</text><text fill=\"#000000\" font-family=\"monospace\" font-size=\"12\" lengthAdjust=\"spacingAndGlyphs\" textLength=\"49\" x=\"116\" y=\"58.0449\">license</text><text fill=\"#000000\" font-family=\"sans-serif\" font-size=\"12\" lengthAdjust=\"spacingAndGlyphs\" textLength=\"56\" x=\"169\" y=\"58.0449\">keyword)</text><text fill=\"#000000\" font-family=\"sans-serif\" font-size=\"12\" lengthAdjust=\"spacingAndGlyphs\" textLength=\"0\" x=\"9\" y=\"72.0137\"/><text fill=\"#000000\" font-family=\"sans-serif\" font-size=\"12\" lengthAdjust=\"spacingAndGlyphs\" textLength=\"283\" x=\"5\" y=\"85.9824\">You can start with a simple UML Diagram like:</text><text fill=\"#000000\" font-family=\"sans-serif\" font-size=\"12\" lengthAdjust=\"spacingAndGlyphs\" textLength=\"0\" x=\"9\" y=\"99.9512\"/><text fill=\"#000000\" font-family=\"monospace\" font-size=\"12\" lengthAdjust=\"spacingAndGlyphs\" textLength=\"119\" x=\"5\" y=\"113.9199\">Bob-&gt;Alice: Hello</text><text fill=\"#000000\" font-family=\"sans-serif\" font-size=\"12\" lengthAdjust=\"spacingAndGlyphs\" textLength=\"0\" x=\"9\" y=\"127.8887\"/><text fill=\"#000000\" font-family=\"sans-serif\" font-size=\"12\" lengthAdjust=\"spacingAndGlyphs\" textLength=\"14\" x=\"5\" y=\"141.8574\">Or</text><text fill=\"#000000\" font-family=\"sans-serif\" font-size=\"12\" lengthAdjust=\"spacingAndGlyphs\" textLength=\"0\" x=\"9\" y=\"155.8262\"/><text fill=\"#000000\" font-family=\"monospace\" font-size=\"12\" lengthAdjust=\"spacingAndGlyphs\" textLength=\"91\" x=\"5\" y=\"169.7949\">class Example</text><text fill=\"#000000\" font-family=\"sans-serif\" font-size=\"12\" lengthAdjust=\"spacingAndGlyphs\" textLength=\"0\" x=\"9\" y=\"183.7637\"/><text fill=\"#000000\" font-family=\"sans-serif\" font-size=\"12\" lengthAdjust=\"spacingAndGlyphs\" textLength=\"349\" x=\"5\" y=\"197.7324\">You will find more information about PlantUML syntax on</text><text fill=\"#000000\" font-family=\"sans-serif\" font-size=\"12\" lengthAdjust=\"spacingAndGlyphs\" text-decoration=\"underline\" textLength=\"129\" x=\"358\" y=\"197.7324\">https://plantuml.com</text><image height=\"71\" width=\"80\" x=\"516\" xlink:href=\"data:image/png;base64,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\" y=\"6\"/><rect fill=\"#000000\" height=\"96.4844\" style=\"stroke: #000000; stroke-width: 1.0;\" width=\"602\" x=\"0\" y=\"205.5625\"/><rect fill=\"#33FF02\" height=\"21.2969\" style=\"stroke: #33FF02; stroke-width: 1.0;\" width=\"170\" x=\"5\" y=\"210.5625\"/><text fill=\"#000000\" font-family=\"sans-serif\" font-size=\"14\" font-weight=\"bold\" lengthAdjust=\"spacingAndGlyphs\" textLength=\"168\" x=\"6\" y=\"225.5625\">[From string (line 2) ]</text><text fill=\"#33FF02\" font-family=\"sans-serif\" font-size=\"14\" font-weight=\"bold\" lengthAdjust=\"spacingAndGlyphs\" textLength=\"0\" x=\"10\" y=\"245.8594\"/><text fill=\"#33FF02\" font-family=\"sans-serif\" font-size=\"14\" font-weight=\"bold\" lengthAdjust=\"spacingAndGlyphs\" textLength=\"79\" x=\"5\" y=\"262.1563\">@startuml</text><text fill=\"#33FF02\" font-family=\"sans-serif\" font-size=\"14\" font-weight=\"bold\" lengthAdjust=\"spacingAndGlyphs\" textLength=\"0\" x=\"10\" y=\"278.4531\"/><text fill=\"#FF0000\" font-family=\"sans-serif\" font-size=\"14\" font-weight=\"bold\" lengthAdjust=\"spacingAndGlyphs\" textLength=\"142\" x=\"10\" y=\"294.75\">Empty description</text><!--MD5=[f59edd8218d337f74d0c332fc6737304]\n",
       "@startuml\r\n",
       " \r\n",
       "@enduml\r\n",
       "\n",
       "PlantUML version 1.2020.13(Sat Jun 13 12:26:38 UTC 2020)\n",
       "(EPL source distribution)\n",
       "Java Runtime: OpenJDK Runtime Environment\n",
       "JVM: OpenJDK 64-Bit Server VM\n",
       "Default Encoding: UTF-8\n",
       "Language: en\n",
       "Country: null\n",
       "--></g></svg>"
      ]
     },
     "execution_count": 32,
     "metadata": {},
     "output_type": "execute_result"
    }
   ],
   "source": [
    "%viz --style=\"PLANTUML\" --view=\"State\" \"QualifiedNameImportTest\""
   ]
  },
  {
   "cell_type": "code",
   "execution_count": 33,
   "id": "57da32dc",
   "metadata": {
    "execution": {
     "iopub.execute_input": "2021-04-20T07:31:01.708584Z",
     "iopub.status.busy": "2021-04-20T07:31:01.707317Z",
     "iopub.status.idle": "2021-04-20T07:31:01.752873Z",
     "shell.execute_reply": "2021-04-20T07:31:01.753238Z"
    }
   },
   "outputs": [
    {
     "data": {
      "image/svg+xml": [
       "<?xml version=\"1.0\" encoding=\"UTF-8\" standalone=\"no\"?><svg xmlns=\"http://www.w3.org/2000/svg\" xmlns:xlink=\"http://www.w3.org/1999/xlink\" contentScriptType=\"application/ecmascript\" contentStyleType=\"text/css\" height=\"189px\" preserveAspectRatio=\"none\" style=\"width:368px;height:189px;\" version=\"1.1\" viewBox=\"0 0 368 189\" width=\"368px\" zoomAndPan=\"magnify\"><defs><filter height=\"300%\" id=\"f5wfgtp5u6o1k\" width=\"300%\" x=\"-1\" y=\"-1\"><feGaussianBlur result=\"blurOut\" stdDeviation=\"2.0\"/><feColorMatrix in=\"blurOut\" result=\"blurOut2\" type=\"matrix\" values=\"0 0 0 0 0 0 0 0 0 0 0 0 0 0 0 0 0 0 .4 0\"/><feOffset dx=\"4.0\" dy=\"4.0\" in=\"blurOut2\" result=\"blurOut3\"/><feBlend in=\"SourceGraphic\" in2=\"blurOut3\" mode=\"normal\"/></filter></defs><g><!--MD5=[fbc87193dbaf4d95561dea2c320d4a47]\n",
       "cluster E1--><a href=\"psysml:3aea7368-2129-476d-92d7-ea1a60089676\" target=\"_top\" title=\"psysml:3aea7368-2129-476d-92d7-ea1a60089676\" xlink:actuate=\"onRequest\" xlink:href=\"psysml:3aea7368-2129-476d-92d7-ea1a60089676\" xlink:show=\"new\" xlink:title=\"psysml:3aea7368-2129-476d-92d7-ea1a60089676\" xlink:type=\"simple\"><polygon fill=\"#FFFFFF\" filter=\"url(#f5wfgtp5u6o1k)\" points=\"16,6,221,6,228,28.2969,346,28.2969,346,177,16,177,16,6\" style=\"stroke: #000000; stroke-width: 1.5;\"/><line style=\"stroke: #000000; stroke-width: 1.5;\" x1=\"16\" x2=\"228\" y1=\"28.2969\" y2=\"28.2969\"/><text fill=\"#000000\" font-family=\"sans-serif\" font-size=\"14\" font-weight=\"bold\" lengthAdjust=\"spacingAndGlyphs\" textLength=\"199\" x=\"20\" y=\"20.9951\">QualifiedNameImportTest</text></a><!--MD5=[e4f7fae6ed58524ba242bb0b0d3be6b7]\n",
       "cluster E2--><a href=\"psysml:a60b7189-47ac-4303-8a81-d977466f28db\" target=\"_top\" title=\"psysml:a60b7189-47ac-4303-8a81-d977466f28db\" xlink:actuate=\"onRequest\" xlink:href=\"psysml:a60b7189-47ac-4303-8a81-d977466f28db\" xlink:show=\"new\" xlink:title=\"psysml:a60b7189-47ac-4303-8a81-d977466f28db\" xlink:type=\"simple\"><polygon fill=\"#FFFFFF\" filter=\"url(#f5wfgtp5u6o1k)\" points=\"240,55.5,266,55.5,273,77.7969,322,77.7969,322,146.5,240,146.5,240,55.5\" style=\"stroke: #000000; stroke-width: 1.5;\"/><line style=\"stroke: #000000; stroke-width: 1.5;\" x1=\"240\" x2=\"273\" y1=\"77.7969\" y2=\"77.7969\"/><text fill=\"#000000\" font-family=\"sans-serif\" font-size=\"14\" font-weight=\"bold\" lengthAdjust=\"spacingAndGlyphs\" textLength=\"20\" x=\"244\" y=\"70.4951\">P1</text></a><!--MD5=[f6df4d0ebaf0b5dfb2ced0ae5af7c670]\n",
       "cluster E4--><a href=\"psysml:ba53b2aa-0756-4dc5-85cd-737c1d1d7585\" target=\"_top\" title=\"psysml:ba53b2aa-0756-4dc5-85cd-737c1d1d7585\" xlink:actuate=\"onRequest\" xlink:href=\"psysml:ba53b2aa-0756-4dc5-85cd-737c1d1d7585\" xlink:show=\"new\" xlink:title=\"psysml:ba53b2aa-0756-4dc5-85cd-737c1d1d7585\" xlink:type=\"simple\"><polygon fill=\"#FFFFFF\" filter=\"url(#f5wfgtp5u6o1k)\" points=\"40,49,66,49,73,71.2969,216,71.2969,216,153,40,153,40,49\" style=\"stroke: #000000; stroke-width: 1.5;\"/><line style=\"stroke: #000000; stroke-width: 1.5;\" x1=\"40\" x2=\"73\" y1=\"71.2969\" y2=\"71.2969\"/><text fill=\"#000000\" font-family=\"sans-serif\" font-size=\"14\" font-weight=\"bold\" lengthAdjust=\"spacingAndGlyphs\" textLength=\"20\" x=\"44\" y=\"63.9951\">P2</text></a><g id=\"E1.E2.E3\"><a href=\"psysml:f2420fd6-3670-4cc8-95b9-f254eed1f95d\" target=\"_top\" title=\"psysml:f2420fd6-3670-4cc8-95b9-f254eed1f95d\" xlink:actuate=\"onRequest\" xlink:href=\"psysml:f2420fd6-3670-4cc8-95b9-f254eed1f95d\" xlink:show=\"new\" xlink:title=\"psysml:f2420fd6-3670-4cc8-95b9-f254eed1f95d\" xlink:type=\"simple\"><rect fill=\"#FEFECE\" filter=\"url(#f5wfgtp5u6o1k)\" height=\"40\" id=\"E3\" style=\"stroke: #A80036; stroke-width: 1.5;\" width=\"50\" x=\"256\" y=\"90.5\"/><ellipse cx=\"275.5\" cy=\"106.5\" fill=\"#008000\" rx=\"11\" ry=\"11\" style=\"stroke: #A80036; stroke-width: 1.0;\"/><path d=\"M274.4063,106.875 L274.4063,110.5469 L276.0313,110.5469 Q277.2031,110.5469 277.6719,110.1563 Q278.1406,109.75 278.1406,108.75 Q278.1406,107.75 277.6406,107.3125 Q277.1563,106.875 276.0313,106.875 L274.4063,106.875 Z M274.4063,102.0469 L274.4063,104.9219 L276.0313,104.9219 Q276.9531,104.9219 277.3438,104.5938 Q277.75,104.25 277.75,103.5 Q277.75,102.7344 277.3438,102.3906 Q276.9375,102.0469 276.0313,102.0469 L274.4063,102.0469 Z M272.0313,100.0938 L276.0313,100.0938 Q278.0938,100.0938 279.1406,100.875 Q280.1875,101.6563 280.1875,103.2188 Q280.1875,104.4219 279.5625,105.0938 Q278.9531,105.7656 277.7656,105.875 Q279.1875,106.0156 279.9063,106.8281 Q280.625,107.6406 280.625,109.0938 Q280.625,110.8906 279.5469,111.7031 Q278.4688,112.5 276.0313,112.5 L272.0313,112.5 L272.0313,100.0938 Z \"/><text fill=\"#000000\" font-family=\"sans-serif\" font-size=\"12\" lengthAdjust=\"spacingAndGlyphs\" textLength=\"8\" x=\"290.5\" y=\"110.6543\">A</text></a></g><a href=\"psysml:e63557be-f486-40b8-b38f-45a287622fd5\" target=\"_top\" title=\"psysml:e63557be-f486-40b8-b38f-45a287622fd5\" xlink:actuate=\"onRequest\" xlink:href=\"psysml:e63557be-f486-40b8-b38f-45a287622fd5\" xlink:show=\"new\" xlink:title=\"psysml:e63557be-f486-40b8-b38f-45a287622fd5\" xlink:type=\"simple\"><polygon fill=\"#FFFFFF\" filter=\"url(#f5wfgtp5u6o1k)\" points=\"150.5,84,185.5,84,192.5,106.2969,199.5,106.2969,199.5,136.5938,150.5,136.5938,150.5,84\" style=\"stroke: #000000; stroke-width: 1.5;\"/><line style=\"stroke: #000000; stroke-width: 1.5;\" x1=\"150.5\" x2=\"192.5\" y1=\"106.2969\" y2=\"106.2969\"/><text fill=\"#000000\" font-family=\"sans-serif\" font-size=\"14\" font-weight=\"bold\" lengthAdjust=\"spacingAndGlyphs\" textLength=\"29\" x=\"154.5\" y=\"98.9951\">P2a</text></a><g id=\"E1.E4.E6\"><a href=\"psysml:9a86ed13-d6c7-4ef9-9e5f-c3e51ac044b3\" target=\"_top\" title=\"psysml:9a86ed13-d6c7-4ef9-9e5f-c3e51ac044b3\" xlink:actuate=\"onRequest\" xlink:href=\"psysml:9a86ed13-d6c7-4ef9-9e5f-c3e51ac044b3\" xlink:show=\"new\" xlink:title=\"psysml:9a86ed13-d6c7-4ef9-9e5f-c3e51ac044b3\" xlink:type=\"simple\"><rect fill=\"#FEFECE\" filter=\"url(#f5wfgtp5u6o1k)\" height=\"40\" id=\"E6\" rx=\"10\" ry=\"10\" style=\"stroke: #A80036; stroke-width: 1.5;\" width=\"59\" x=\"56.5\" y=\"90.5\"/><ellipse cx=\"73.75\" cy=\"106.5\" fill=\"#B6DBBB\" rx=\"11\" ry=\"11\" style=\"stroke: #A80036; stroke-width: 1.0;\"/><path d=\"M69.625,108.4219 L69.625,100.6094 L72.0781,100.6094 L72.0781,109.0469 Q72.0781,109.9688 72.5469,110.5 Q73.0313,111.0313 73.8594,111.0313 Q74.7031,111.0313 75.1719,110.5 Q75.6406,109.9688 75.6406,109.0469 L75.6406,100.6094 L78.0938,100.6094 L78.0938,108.4219 Q78.0938,110.9531 77.0938,112.0938 Q76.0938,113.2344 73.8594,113.2344 Q71.6406,113.2344 70.625,112.0938 Q69.625,110.9531 69.625,108.4219 Z \"/><text fill=\"#000000\" font-family=\"sans-serif\" font-size=\"12\" lengthAdjust=\"spacingAndGlyphs\" textLength=\"22\" x=\"88.25\" y=\"110.6543\">x: A</text></a></g><!--MD5=[6aa380619c9313255f37a5201675b7c7]\n",
       "@startuml\r\n",
       "skinparam ranksep 10\r\n",
       "skinparam rectangle {\r\n",
       " backgroundColor<<block>> LightGreen\r\n",
       "}\r\n",
       " \r\n",
       "package \"QualifiedNameImportTest\" as E1  [[psysml:3aea7368-2129-476d-92d7-ea1a60089676 ]]  {\r\n",
       "package \"P1\" as E2  [[psysml:a60b7189-47ac-4303-8a81-d977466f28db ]]  {\r\n",
       "rec def \"A\" as E3  << (B,green) >> [[psysml:f2420fd6-3670-4cc8-95b9-f254eed1f95d ]] {\r\n",
       "}\r\n",
       "}\r\n",
       "package \"P2\" as E4  [[psysml:ba53b2aa-0756-4dc5-85cd-737c1d1d7585 ]]  {\r\n",
       "package \"P2a\" as E5  [[psysml:e63557be-f486-40b8-b38f-45a287622fd5 ]]  {\r\n",
       "}\r\n",
       "rec usage \"x: A\" as E6  [[psysml:9a86ed13-d6c7-4ef9-9e5f-c3e51ac044b3 ]] {\r\n",
       "}\r\n",
       "}\r\n",
       "}\r\n",
       "@enduml\r\n",
       "\n",
       "PlantUML version 1.2020.13(Sat Jun 13 12:26:38 UTC 2020)\n",
       "(EPL source distribution)\n",
       "Java Runtime: OpenJDK Runtime Environment\n",
       "JVM: OpenJDK 64-Bit Server VM\n",
       "Default Encoding: UTF-8\n",
       "Language: en\n",
       "Country: null\n",
       "--></g></svg>"
      ]
     },
     "execution_count": 33,
     "metadata": {},
     "output_type": "execute_result"
    }
   ],
   "source": [
    "%viz --style=\"PLANTUML\" --view=\"Interconnection\" \"QualifiedNameImportTest\""
   ]
  },
  {
   "cell_type": "code",
   "execution_count": 34,
   "id": "527bed44",
   "metadata": {
    "execution": {
     "iopub.execute_input": "2021-04-20T07:31:01.802880Z",
     "iopub.status.busy": "2021-04-20T07:31:01.802385Z",
     "iopub.status.idle": "2021-04-20T07:31:01.808469Z",
     "shell.execute_reply": "2021-04-20T07:31:01.807309Z"
    }
   },
   "outputs": [
    {
     "data": {
      "image/svg+xml": [
       "<?xml version=\"1.0\" encoding=\"UTF-8\" standalone=\"no\"?><svg xmlns=\"http://www.w3.org/2000/svg\" xmlns:xlink=\"http://www.w3.org/1999/xlink\" contentScriptType=\"application/ecmascript\" contentStyleType=\"text/css\" height=\"12px\" preserveAspectRatio=\"none\" style=\"width:12px;height:12px;\" version=\"1.1\" viewBox=\"0 0 12 12\" width=\"12px\" zoomAndPan=\"magnify\"><defs/><g><!--MD5=[6a4cb978cab31700e1ce5529f947a75d]\n",
       "@startuml\r\n",
       "skinparam ranksep 8\r\n",
       " \r\n",
       "@enduml\r\n",
       "\n",
       "PlantUML version 1.2020.13(Sat Jun 13 12:26:38 UTC 2020)\n",
       "(EPL source distribution)\n",
       "Java Runtime: OpenJDK Runtime Environment\n",
       "JVM: OpenJDK 64-Bit Server VM\n",
       "Default Encoding: UTF-8\n",
       "Language: en\n",
       "Country: null\n",
       "--></g></svg>"
      ]
     },
     "execution_count": 34,
     "metadata": {},
     "output_type": "execute_result"
    }
   ],
   "source": [
    "%viz --style=\"PLANTUML\" --view=\"Action\" \"QualifiedNameImportTest\""
   ]
  },
  {
   "cell_type": "code",
   "execution_count": 35,
   "id": "f3c42a0f",
   "metadata": {
    "execution": {
     "iopub.execute_input": "2021-04-20T07:31:01.863866Z",
     "iopub.status.busy": "2021-04-20T07:31:01.862083Z",
     "iopub.status.idle": "2021-04-20T07:31:01.911443Z",
     "shell.execute_reply": "2021-04-20T07:31:01.910981Z"
    }
   },
   "outputs": [
    {
     "data": {
      "image/svg+xml": [
       "<?xml version=\"1.0\" encoding=\"UTF-8\" standalone=\"no\"?><svg xmlns=\"http://www.w3.org/2000/svg\" xmlns:xlink=\"http://www.w3.org/1999/xlink\" contentScriptType=\"application/ecmascript\" contentStyleType=\"text/css\" height=\"304px\" preserveAspectRatio=\"none\" style=\"width:271px;height:304px;\" version=\"1.1\" viewBox=\"0 0 271 304\" width=\"271px\" zoomAndPan=\"magnify\"><defs><filter height=\"300%\" id=\"f9i1lvm18lzmi\" width=\"300%\" x=\"-1\" y=\"-1\"><feGaussianBlur result=\"blurOut\" stdDeviation=\"2.0\"/><feColorMatrix in=\"blurOut\" result=\"blurOut2\" type=\"matrix\" values=\"0 0 0 0 0 0 0 0 0 0 0 0 0 0 0 0 0 0 .4 0\"/><feOffset dx=\"4.0\" dy=\"4.0\" in=\"blurOut2\" result=\"blurOut3\"/><feBlend in=\"SourceGraphic\" in2=\"blurOut3\" mode=\"normal\"/></filter></defs><g><!--MD5=[fbc87193dbaf4d95561dea2c320d4a47]\n",
       "cluster E1--><a href=\"psysml:3aea7368-2129-476d-92d7-ea1a60089676\" target=\"_top\" title=\"psysml:3aea7368-2129-476d-92d7-ea1a60089676\" xlink:actuate=\"onRequest\" xlink:href=\"psysml:3aea7368-2129-476d-92d7-ea1a60089676\" xlink:show=\"new\" xlink:title=\"psysml:3aea7368-2129-476d-92d7-ea1a60089676\" xlink:type=\"simple\"><polygon fill=\"#FFFFFF\" filter=\"url(#f9i1lvm18lzmi)\" points=\"16,6,221,6,228,28.2969,249,28.2969,249,292,16,292,16,6\" style=\"stroke: #000000; stroke-width: 1.5;\"/><line style=\"stroke: #000000; stroke-width: 1.5;\" x1=\"16\" x2=\"228\" y1=\"28.2969\" y2=\"28.2969\"/><text fill=\"#000000\" font-family=\"sans-serif\" font-size=\"14\" font-weight=\"bold\" lengthAdjust=\"spacingAndGlyphs\" textLength=\"199\" x=\"20\" y=\"20.9951\">QualifiedNameImportTest</text></a><!--MD5=[e4f7fae6ed58524ba242bb0b0d3be6b7]\n",
       "cluster E2--><a href=\"psysml:a60b7189-47ac-4303-8a81-d977466f28db\" target=\"_top\" title=\"psysml:a60b7189-47ac-4303-8a81-d977466f28db\" xlink:actuate=\"onRequest\" xlink:href=\"psysml:a60b7189-47ac-4303-8a81-d977466f28db\" xlink:show=\"new\" xlink:title=\"psysml:a60b7189-47ac-4303-8a81-d977466f28db\" xlink:type=\"simple\"><polygon fill=\"#FFFFFF\" filter=\"url(#f9i1lvm18lzmi)\" points=\"139,177,165,177,172,199.2969,211,199.2969,211,268,139,268,139,177\" style=\"stroke: #000000; stroke-width: 1.5;\"/><line style=\"stroke: #000000; stroke-width: 1.5;\" x1=\"139\" x2=\"172\" y1=\"199.2969\" y2=\"199.2969\"/><text fill=\"#000000\" font-family=\"sans-serif\" font-size=\"14\" font-weight=\"bold\" lengthAdjust=\"spacingAndGlyphs\" textLength=\"20\" x=\"143\" y=\"191.9951\">P1</text></a><!--MD5=[f6df4d0ebaf0b5dfb2ced0ae5af7c670]\n",
       "cluster E4--><a href=\"psysml:ba53b2aa-0756-4dc5-85cd-737c1d1d7585\" target=\"_top\" title=\"psysml:ba53b2aa-0756-4dc5-85cd-737c1d1d7585\" xlink:actuate=\"onRequest\" xlink:href=\"psysml:ba53b2aa-0756-4dc5-85cd-737c1d1d7585\" xlink:show=\"new\" xlink:title=\"psysml:ba53b2aa-0756-4dc5-85cd-737c1d1d7585\" xlink:type=\"simple\"><polygon fill=\"#FFFFFF\" filter=\"url(#f9i1lvm18lzmi)\" points=\"40,49,66,49,73,71.2969,225,71.2969,225,153,40,153,40,49\" style=\"stroke: #000000; stroke-width: 1.5;\"/><line style=\"stroke: #000000; stroke-width: 1.5;\" x1=\"40\" x2=\"73\" y1=\"71.2969\" y2=\"71.2969\"/><text fill=\"#000000\" font-family=\"sans-serif\" font-size=\"14\" font-weight=\"bold\" lengthAdjust=\"spacingAndGlyphs\" textLength=\"20\" x=\"44\" y=\"63.9951\">P2</text></a><!--MD5=[09b614a08d8cba4a07c9adeb5e0fee81]\n",
       "class E3--><a href=\"psysml:f2420fd6-3670-4cc8-95b9-f254eed1f95d\" target=\"_top\" title=\"psysml:f2420fd6-3670-4cc8-95b9-f254eed1f95d\" xlink:actuate=\"onRequest\" xlink:href=\"psysml:f2420fd6-3670-4cc8-95b9-f254eed1f95d\" xlink:show=\"new\" xlink:title=\"psysml:f2420fd6-3670-4cc8-95b9-f254eed1f95d\" xlink:type=\"simple\"><rect fill=\"#FEFECE\" filter=\"url(#f9i1lvm18lzmi)\" height=\"40\" id=\"E3\" style=\"stroke: #A80036; stroke-width: 1.5;\" width=\"40\" x=\"155\" y=\"212\"/><ellipse cx=\"170\" cy=\"228\" fill=\"#008000\" rx=\"11\" ry=\"11\" style=\"stroke: #A80036; stroke-width: 1.0;\"/><path d=\"M168.9063,228.375 L168.9063,232.0469 L170.5313,232.0469 Q171.7031,232.0469 172.1719,231.6563 Q172.6406,231.25 172.6406,230.25 Q172.6406,229.25 172.1406,228.8125 Q171.6563,228.375 170.5313,228.375 L168.9063,228.375 Z M168.9063,223.5469 L168.9063,226.4219 L170.5313,226.4219 Q171.4531,226.4219 171.8438,226.0938 Q172.25,225.75 172.25,225 Q172.25,224.2344 171.8438,223.8906 Q171.4375,223.5469 170.5313,223.5469 L168.9063,223.5469 Z M166.5313,221.5938 L170.5313,221.5938 Q172.5938,221.5938 173.6406,222.375 Q174.6875,223.1563 174.6875,224.7188 Q174.6875,225.9219 174.0625,226.5938 Q173.4531,227.2656 172.2656,227.375 Q173.6875,227.5156 174.4063,228.3281 Q175.125,229.1406 175.125,230.5938 Q175.125,232.3906 174.0469,233.2031 Q172.9688,234 170.5313,234 L166.5313,234 L166.5313,221.5938 Z \"/><text fill=\"#000000\" font-family=\"sans-serif\" font-size=\"12\" lengthAdjust=\"spacingAndGlyphs\" textLength=\"8\" x=\"184\" y=\"232.1543\">A</text><line style=\"stroke: #A80036; stroke-width: 1.5;\" x1=\"156\" x2=\"194\" y1=\"244\" y2=\"244\"/></a><!--MD5=[60a26617385b1d2d0262a64233df1f8d]\n",
       "class E6--><a href=\"psysml:9a86ed13-d6c7-4ef9-9e5f-c3e51ac044b3\" target=\"_top\" title=\"psysml:9a86ed13-d6c7-4ef9-9e5f-c3e51ac044b3\" xlink:actuate=\"onRequest\" xlink:href=\"psysml:9a86ed13-d6c7-4ef9-9e5f-c3e51ac044b3\" xlink:show=\"new\" xlink:title=\"psysml:9a86ed13-d6c7-4ef9-9e5f-c3e51ac044b3\" xlink:type=\"simple\"><rect fill=\"#FEFECE\" filter=\"url(#f9i1lvm18lzmi)\" height=\"45.9375\" id=\"E6\" rx=\"10\" ry=\"10\" style=\"stroke: #A80036; stroke-width: 1.5;\" width=\"68\" x=\"141\" y=\"87.5\"/><ellipse cx=\"156\" cy=\"106.4688\" fill=\"#32CD32\" rx=\"11\" ry=\"11\" style=\"stroke: #A80036; stroke-width: 1.0;\"/><path d=\"M155.7969,102.1406 L155.7969,105.7656 L156.7969,105.7656 Q158,105.7656 158.4844,105.3594 Q158.9688,104.9531 158.9688,103.9531 Q158.9688,102.9531 158.4844,102.5469 Q158,102.1406 156.7969,102.1406 L155.7969,102.1406 Z M153.3438,100.0781 L156.7031,100.0781 Q159.2656,100.0781 160.3906,101 Q161.5156,101.9063 161.5156,103.9531 Q161.5156,106 160.3906,106.9219 Q159.2656,107.8281 156.7031,107.8281 L155.7969,107.8281 L155.7969,112.4688 L153.3438,112.4688 L153.3438,100.0781 Z \"/><text fill=\"#000000\" font-family=\"sans-serif\" font-size=\"12\" font-style=\"italic\" lengthAdjust=\"spacingAndGlyphs\" textLength=\"40\" x=\"168\" y=\"103.6387\">«part»</text><text fill=\"#000000\" font-family=\"sans-serif\" font-size=\"12\" lengthAdjust=\"spacingAndGlyphs\" textLength=\"22\" x=\"177\" y=\"117.6074\">x: A</text><line style=\"stroke: #A80036; stroke-width: 1.5;\" x1=\"142\" x2=\"208\" y1=\"125.4375\" y2=\"125.4375\"/></a><a href=\"psysml:e63557be-f486-40b8-b38f-45a287622fd5\" target=\"_top\" title=\"psysml:e63557be-f486-40b8-b38f-45a287622fd5\" xlink:actuate=\"onRequest\" xlink:href=\"psysml:e63557be-f486-40b8-b38f-45a287622fd5\" xlink:show=\"new\" xlink:title=\"psysml:e63557be-f486-40b8-b38f-45a287622fd5\" xlink:type=\"simple\"><polygon fill=\"#FFFFFF\" filter=\"url(#f9i1lvm18lzmi)\" points=\"56.5,84,91.5,84,98.5,106.2969,105.5,106.2969,105.5,136.5938,56.5,136.5938,56.5,84\" style=\"stroke: #000000; stroke-width: 1.5;\"/><line style=\"stroke: #000000; stroke-width: 1.5;\" x1=\"56.5\" x2=\"98.5\" y1=\"106.2969\" y2=\"106.2969\"/><text fill=\"#000000\" font-family=\"sans-serif\" font-size=\"14\" font-weight=\"bold\" lengthAdjust=\"spacingAndGlyphs\" textLength=\"29\" x=\"60.5\" y=\"98.9951\">P2a</text></a><!--MD5=[a717450b82c80b9240a525fa862496af]\n",
       "link E6 to E3--><a href=\"psysml:9d868367-c6cc-4e4e-a580-36a1751bbca7\" target=\"_top\" title=\"psysml:9d868367-c6cc-4e4e-a580-36a1751bbca7\" xlink:actuate=\"onRequest\" xlink:href=\"psysml:9d868367-c6cc-4e4e-a580-36a1751bbca7\" xlink:show=\"new\" xlink:title=\"psysml:9d868367-c6cc-4e4e-a580-36a1751bbca7\" xlink:type=\"simple\"><path d=\"M175,133.7 C175,149.89 175,172.27 175,191.49 \" fill=\"none\" id=\"E6-&gt;E3\" style=\"stroke: #A80036; stroke-width: 1.0;\"/><polygon fill=\"#FFFFFF\" points=\"175,211.69,168,192.69,182,192.69,175,211.69\" style=\"stroke: #A80036; stroke-width: 1.0;\"/><ellipse cx=\"170\" cy=\"186.99\" fill=\"#A80036\" rx=\"2\" ry=\"2\" style=\"stroke: #A80036; stroke-width: 1.0;\"/><ellipse cx=\"180\" cy=\"186.99\" fill=\"#A80036\" rx=\"2\" ry=\"2\" style=\"stroke: #A80036; stroke-width: 1.0;\"/></a><!--MD5=[09d13a6a414b0a5ed773a6d2612aa304]\n",
       "@startuml\r\n",
       " \r\n",
       "package \"QualifiedNameImportTest\" as E1  [[psysml:3aea7368-2129-476d-92d7-ea1a60089676 ]]  {\r\n",
       "package \"P1\" as E2  [[psysml:a60b7189-47ac-4303-8a81-d977466f28db ]]  {\r\n",
       "comp def \"A\" as E3  << (B,green) >> [[psysml:f2420fd6-3670-4cc8-95b9-f254eed1f95d ]] {\r\n",
       "}\r\n",
       "}\r\n",
       "package \"P2\" as E4  [[psysml:ba53b2aa-0756-4dc5-85cd-737c1d1d7585 ]]  {\r\n",
       "package \"P2a\" as E5  [[psysml:e63557be-f486-40b8-b38f-45a287622fd5 ]]  {\r\n",
       "}\r\n",
       "comp usage \"x: A\" as E6  << (P,limegreen) part>> [[psysml:9a86ed13-d6c7-4ef9-9e5f-c3e51ac044b3 ]] {\r\n",
       "}\r\n",
       "E6 - -:|> E3 [[psysml:9d868367-c6cc-4e4e-a580-36a1751bbca7 ]] \r\n",
       "}\r\n",
       "}\r\n",
       "@enduml\r\n",
       "\n",
       "PlantUML version 1.2020.13(Sat Jun 13 12:26:38 UTC 2020)\n",
       "(EPL source distribution)\n",
       "Java Runtime: OpenJDK Runtime Environment\n",
       "JVM: OpenJDK 64-Bit Server VM\n",
       "Default Encoding: UTF-8\n",
       "Language: en\n",
       "Country: null\n",
       "--></g></svg>"
      ]
     },
     "execution_count": 35,
     "metadata": {},
     "output_type": "execute_result"
    }
   ],
   "source": [
    "%viz --style=\"PLANTUML\" --view=\"Sequence\" \"QualifiedNameImportTest\""
   ]
  },
  {
   "cell_type": "code",
   "execution_count": 36,
   "id": "010043ad",
   "metadata": {
    "execution": {
     "iopub.execute_input": "2021-04-20T07:31:01.962191Z",
     "iopub.status.busy": "2021-04-20T07:31:01.960845Z",
     "iopub.status.idle": "2021-04-20T07:31:02.004005Z",
     "shell.execute_reply": "2021-04-20T07:31:02.002513Z"
    }
   },
   "outputs": [
    {
     "data": {
      "image/svg+xml": [
       "<?xml version=\"1.0\" encoding=\"UTF-8\" standalone=\"no\"?><svg xmlns=\"http://www.w3.org/2000/svg\" xmlns:xlink=\"http://www.w3.org/1999/xlink\" contentScriptType=\"application/ecmascript\" contentStyleType=\"text/css\" height=\"304px\" preserveAspectRatio=\"none\" style=\"width:271px;height:304px;\" version=\"1.1\" viewBox=\"0 0 271 304\" width=\"271px\" zoomAndPan=\"magnify\"><defs><filter height=\"300%\" id=\"f9i1lvm18lzmi\" width=\"300%\" x=\"-1\" y=\"-1\"><feGaussianBlur result=\"blurOut\" stdDeviation=\"2.0\"/><feColorMatrix in=\"blurOut\" result=\"blurOut2\" type=\"matrix\" values=\"0 0 0 0 0 0 0 0 0 0 0 0 0 0 0 0 0 0 .4 0\"/><feOffset dx=\"4.0\" dy=\"4.0\" in=\"blurOut2\" result=\"blurOut3\"/><feBlend in=\"SourceGraphic\" in2=\"blurOut3\" mode=\"normal\"/></filter></defs><g><!--MD5=[fbc87193dbaf4d95561dea2c320d4a47]\n",
       "cluster E1--><a href=\"psysml:3aea7368-2129-476d-92d7-ea1a60089676\" target=\"_top\" title=\"psysml:3aea7368-2129-476d-92d7-ea1a60089676\" xlink:actuate=\"onRequest\" xlink:href=\"psysml:3aea7368-2129-476d-92d7-ea1a60089676\" xlink:show=\"new\" xlink:title=\"psysml:3aea7368-2129-476d-92d7-ea1a60089676\" xlink:type=\"simple\"><polygon fill=\"#FFFFFF\" filter=\"url(#f9i1lvm18lzmi)\" points=\"16,6,221,6,228,28.2969,249,28.2969,249,292,16,292,16,6\" style=\"stroke: #000000; stroke-width: 1.5;\"/><line style=\"stroke: #000000; stroke-width: 1.5;\" x1=\"16\" x2=\"228\" y1=\"28.2969\" y2=\"28.2969\"/><text fill=\"#000000\" font-family=\"sans-serif\" font-size=\"14\" font-weight=\"bold\" lengthAdjust=\"spacingAndGlyphs\" textLength=\"199\" x=\"20\" y=\"20.9951\">QualifiedNameImportTest</text></a><!--MD5=[e4f7fae6ed58524ba242bb0b0d3be6b7]\n",
       "cluster E2--><a href=\"psysml:a60b7189-47ac-4303-8a81-d977466f28db\" target=\"_top\" title=\"psysml:a60b7189-47ac-4303-8a81-d977466f28db\" xlink:actuate=\"onRequest\" xlink:href=\"psysml:a60b7189-47ac-4303-8a81-d977466f28db\" xlink:show=\"new\" xlink:title=\"psysml:a60b7189-47ac-4303-8a81-d977466f28db\" xlink:type=\"simple\"><polygon fill=\"#FFFFFF\" filter=\"url(#f9i1lvm18lzmi)\" points=\"139,177,165,177,172,199.2969,211,199.2969,211,268,139,268,139,177\" style=\"stroke: #000000; stroke-width: 1.5;\"/><line style=\"stroke: #000000; stroke-width: 1.5;\" x1=\"139\" x2=\"172\" y1=\"199.2969\" y2=\"199.2969\"/><text fill=\"#000000\" font-family=\"sans-serif\" font-size=\"14\" font-weight=\"bold\" lengthAdjust=\"spacingAndGlyphs\" textLength=\"20\" x=\"143\" y=\"191.9951\">P1</text></a><!--MD5=[f6df4d0ebaf0b5dfb2ced0ae5af7c670]\n",
       "cluster E4--><a href=\"psysml:ba53b2aa-0756-4dc5-85cd-737c1d1d7585\" target=\"_top\" title=\"psysml:ba53b2aa-0756-4dc5-85cd-737c1d1d7585\" xlink:actuate=\"onRequest\" xlink:href=\"psysml:ba53b2aa-0756-4dc5-85cd-737c1d1d7585\" xlink:show=\"new\" xlink:title=\"psysml:ba53b2aa-0756-4dc5-85cd-737c1d1d7585\" xlink:type=\"simple\"><polygon fill=\"#FFFFFF\" filter=\"url(#f9i1lvm18lzmi)\" points=\"40,49,66,49,73,71.2969,225,71.2969,225,153,40,153,40,49\" style=\"stroke: #000000; stroke-width: 1.5;\"/><line style=\"stroke: #000000; stroke-width: 1.5;\" x1=\"40\" x2=\"73\" y1=\"71.2969\" y2=\"71.2969\"/><text fill=\"#000000\" font-family=\"sans-serif\" font-size=\"14\" font-weight=\"bold\" lengthAdjust=\"spacingAndGlyphs\" textLength=\"20\" x=\"44\" y=\"63.9951\">P2</text></a><!--MD5=[09b614a08d8cba4a07c9adeb5e0fee81]\n",
       "class E3--><a href=\"psysml:f2420fd6-3670-4cc8-95b9-f254eed1f95d\" target=\"_top\" title=\"psysml:f2420fd6-3670-4cc8-95b9-f254eed1f95d\" xlink:actuate=\"onRequest\" xlink:href=\"psysml:f2420fd6-3670-4cc8-95b9-f254eed1f95d\" xlink:show=\"new\" xlink:title=\"psysml:f2420fd6-3670-4cc8-95b9-f254eed1f95d\" xlink:type=\"simple\"><rect fill=\"#FEFECE\" filter=\"url(#f9i1lvm18lzmi)\" height=\"40\" id=\"E3\" style=\"stroke: #A80036; stroke-width: 1.5;\" width=\"40\" x=\"155\" y=\"212\"/><ellipse cx=\"170\" cy=\"228\" fill=\"#008000\" rx=\"11\" ry=\"11\" style=\"stroke: #A80036; stroke-width: 1.0;\"/><path d=\"M168.9063,228.375 L168.9063,232.0469 L170.5313,232.0469 Q171.7031,232.0469 172.1719,231.6563 Q172.6406,231.25 172.6406,230.25 Q172.6406,229.25 172.1406,228.8125 Q171.6563,228.375 170.5313,228.375 L168.9063,228.375 Z M168.9063,223.5469 L168.9063,226.4219 L170.5313,226.4219 Q171.4531,226.4219 171.8438,226.0938 Q172.25,225.75 172.25,225 Q172.25,224.2344 171.8438,223.8906 Q171.4375,223.5469 170.5313,223.5469 L168.9063,223.5469 Z M166.5313,221.5938 L170.5313,221.5938 Q172.5938,221.5938 173.6406,222.375 Q174.6875,223.1563 174.6875,224.7188 Q174.6875,225.9219 174.0625,226.5938 Q173.4531,227.2656 172.2656,227.375 Q173.6875,227.5156 174.4063,228.3281 Q175.125,229.1406 175.125,230.5938 Q175.125,232.3906 174.0469,233.2031 Q172.9688,234 170.5313,234 L166.5313,234 L166.5313,221.5938 Z \"/><text fill=\"#000000\" font-family=\"sans-serif\" font-size=\"12\" lengthAdjust=\"spacingAndGlyphs\" textLength=\"8\" x=\"184\" y=\"232.1543\">A</text><line style=\"stroke: #A80036; stroke-width: 1.5;\" x1=\"156\" x2=\"194\" y1=\"244\" y2=\"244\"/></a><!--MD5=[60a26617385b1d2d0262a64233df1f8d]\n",
       "class E6--><a href=\"psysml:9a86ed13-d6c7-4ef9-9e5f-c3e51ac044b3\" target=\"_top\" title=\"psysml:9a86ed13-d6c7-4ef9-9e5f-c3e51ac044b3\" xlink:actuate=\"onRequest\" xlink:href=\"psysml:9a86ed13-d6c7-4ef9-9e5f-c3e51ac044b3\" xlink:show=\"new\" xlink:title=\"psysml:9a86ed13-d6c7-4ef9-9e5f-c3e51ac044b3\" xlink:type=\"simple\"><rect fill=\"#FEFECE\" filter=\"url(#f9i1lvm18lzmi)\" height=\"45.9375\" id=\"E6\" rx=\"10\" ry=\"10\" style=\"stroke: #A80036; stroke-width: 1.5;\" width=\"68\" x=\"141\" y=\"87.5\"/><ellipse cx=\"156\" cy=\"106.4688\" fill=\"#32CD32\" rx=\"11\" ry=\"11\" style=\"stroke: #A80036; stroke-width: 1.0;\"/><path d=\"M155.7969,102.1406 L155.7969,105.7656 L156.7969,105.7656 Q158,105.7656 158.4844,105.3594 Q158.9688,104.9531 158.9688,103.9531 Q158.9688,102.9531 158.4844,102.5469 Q158,102.1406 156.7969,102.1406 L155.7969,102.1406 Z M153.3438,100.0781 L156.7031,100.0781 Q159.2656,100.0781 160.3906,101 Q161.5156,101.9063 161.5156,103.9531 Q161.5156,106 160.3906,106.9219 Q159.2656,107.8281 156.7031,107.8281 L155.7969,107.8281 L155.7969,112.4688 L153.3438,112.4688 L153.3438,100.0781 Z \"/><text fill=\"#000000\" font-family=\"sans-serif\" font-size=\"12\" font-style=\"italic\" lengthAdjust=\"spacingAndGlyphs\" textLength=\"40\" x=\"168\" y=\"103.6387\">«part»</text><text fill=\"#000000\" font-family=\"sans-serif\" font-size=\"12\" lengthAdjust=\"spacingAndGlyphs\" textLength=\"22\" x=\"177\" y=\"117.6074\">x: A</text><line style=\"stroke: #A80036; stroke-width: 1.5;\" x1=\"142\" x2=\"208\" y1=\"125.4375\" y2=\"125.4375\"/></a><a href=\"psysml:e63557be-f486-40b8-b38f-45a287622fd5\" target=\"_top\" title=\"psysml:e63557be-f486-40b8-b38f-45a287622fd5\" xlink:actuate=\"onRequest\" xlink:href=\"psysml:e63557be-f486-40b8-b38f-45a287622fd5\" xlink:show=\"new\" xlink:title=\"psysml:e63557be-f486-40b8-b38f-45a287622fd5\" xlink:type=\"simple\"><polygon fill=\"#FFFFFF\" filter=\"url(#f9i1lvm18lzmi)\" points=\"56.5,84,91.5,84,98.5,106.2969,105.5,106.2969,105.5,136.5938,56.5,136.5938,56.5,84\" style=\"stroke: #000000; stroke-width: 1.5;\"/><line style=\"stroke: #000000; stroke-width: 1.5;\" x1=\"56.5\" x2=\"98.5\" y1=\"106.2969\" y2=\"106.2969\"/><text fill=\"#000000\" font-family=\"sans-serif\" font-size=\"14\" font-weight=\"bold\" lengthAdjust=\"spacingAndGlyphs\" textLength=\"29\" x=\"60.5\" y=\"98.9951\">P2a</text></a><!--MD5=[a717450b82c80b9240a525fa862496af]\n",
       "link E6 to E3--><a href=\"psysml:9d868367-c6cc-4e4e-a580-36a1751bbca7\" target=\"_top\" title=\"psysml:9d868367-c6cc-4e4e-a580-36a1751bbca7\" xlink:actuate=\"onRequest\" xlink:href=\"psysml:9d868367-c6cc-4e4e-a580-36a1751bbca7\" xlink:show=\"new\" xlink:title=\"psysml:9d868367-c6cc-4e4e-a580-36a1751bbca7\" xlink:type=\"simple\"><path d=\"M175,133.7 C175,149.89 175,172.27 175,191.49 \" fill=\"none\" id=\"E6-&gt;E3\" style=\"stroke: #A80036; stroke-width: 1.0;\"/><polygon fill=\"#FFFFFF\" points=\"175,211.69,168,192.69,182,192.69,175,211.69\" style=\"stroke: #A80036; stroke-width: 1.0;\"/><ellipse cx=\"170\" cy=\"186.99\" fill=\"#A80036\" rx=\"2\" ry=\"2\" style=\"stroke: #A80036; stroke-width: 1.0;\"/><ellipse cx=\"180\" cy=\"186.99\" fill=\"#A80036\" rx=\"2\" ry=\"2\" style=\"stroke: #A80036; stroke-width: 1.0;\"/></a><!--MD5=[09d13a6a414b0a5ed773a6d2612aa304]\n",
       "@startuml\r\n",
       " \r\n",
       "package \"QualifiedNameImportTest\" as E1  [[psysml:3aea7368-2129-476d-92d7-ea1a60089676 ]]  {\r\n",
       "package \"P1\" as E2  [[psysml:a60b7189-47ac-4303-8a81-d977466f28db ]]  {\r\n",
       "comp def \"A\" as E3  << (B,green) >> [[psysml:f2420fd6-3670-4cc8-95b9-f254eed1f95d ]] {\r\n",
       "}\r\n",
       "}\r\n",
       "package \"P2\" as E4  [[psysml:ba53b2aa-0756-4dc5-85cd-737c1d1d7585 ]]  {\r\n",
       "package \"P2a\" as E5  [[psysml:e63557be-f486-40b8-b38f-45a287622fd5 ]]  {\r\n",
       "}\r\n",
       "comp usage \"x: A\" as E6  << (P,limegreen) part>> [[psysml:9a86ed13-d6c7-4ef9-9e5f-c3e51ac044b3 ]] {\r\n",
       "}\r\n",
       "E6 - -:|> E3 [[psysml:9d868367-c6cc-4e4e-a580-36a1751bbca7 ]] \r\n",
       "}\r\n",
       "}\r\n",
       "@enduml\r\n",
       "\n",
       "PlantUML version 1.2020.13(Sat Jun 13 12:26:38 UTC 2020)\n",
       "(EPL source distribution)\n",
       "Java Runtime: OpenJDK Runtime Environment\n",
       "JVM: OpenJDK 64-Bit Server VM\n",
       "Default Encoding: UTF-8\n",
       "Language: en\n",
       "Country: null\n",
       "--></g></svg>"
      ]
     },
     "execution_count": 36,
     "metadata": {},
     "output_type": "execute_result"
    }
   ],
   "source": [
    "%viz --style=\"PLANTUML\" --view=\"MIXED\" \"QualifiedNameImportTest\""
   ]
  },
  {
   "cell_type": "code",
   "execution_count": 37,
   "id": "9369de2d",
   "metadata": {
    "execution": {
     "iopub.execute_input": "2021-04-20T07:31:02.054156Z",
     "iopub.status.busy": "2021-04-20T07:31:02.053704Z",
     "iopub.status.idle": "2021-04-20T07:31:02.096433Z",
     "shell.execute_reply": "2021-04-20T07:31:02.094695Z"
    }
   },
   "outputs": [
    {
     "data": {
      "image/svg+xml": [
       "<?xml version=\"1.0\" encoding=\"UTF-8\" standalone=\"no\"?><svg xmlns=\"http://www.w3.org/2000/svg\" xmlns:xlink=\"http://www.w3.org/1999/xlink\" contentScriptType=\"application/ecmascript\" contentStyleType=\"text/css\" height=\"310px\" preserveAspectRatio=\"none\" style=\"width:253px;height:310px;\" version=\"1.1\" viewBox=\"0 0 253 310\" width=\"253px\" zoomAndPan=\"magnify\"><defs/><g><!--MD5=[fbc87193dbaf4d95561dea2c320d4a47]\n",
       "cluster E1--><a href=\"psysml:3aea7368-2129-476d-92d7-ea1a60089676\" target=\"_top\" title=\"psysml:3aea7368-2129-476d-92d7-ea1a60089676\" xlink:actuate=\"onRequest\" xlink:href=\"psysml:3aea7368-2129-476d-92d7-ea1a60089676\" xlink:show=\"new\" xlink:title=\"psysml:3aea7368-2129-476d-92d7-ea1a60089676\" xlink:type=\"simple\"><polygon fill=\"#FFFFFF\" points=\"16,6,221,6,228,28.2969,231,28.2969,231,298,16,298,16,6\" style=\"stroke: #000000; stroke-width: 1.5;\"/><line style=\"stroke: #000000; stroke-width: 1.5;\" x1=\"16\" x2=\"228\" y1=\"28.2969\" y2=\"28.2969\"/><text fill=\"#000000\" font-family=\"sans-serif\" font-size=\"14\" font-weight=\"bold\" lengthAdjust=\"spacingAndGlyphs\" textLength=\"199\" x=\"20\" y=\"20.9951\">QualifiedNameImportTest</text></a><!--MD5=[e4f7fae6ed58524ba242bb0b0d3be6b7]\n",
       "cluster E2--><a href=\"psysml:a60b7189-47ac-4303-8a81-d977466f28db\" target=\"_top\" title=\"psysml:a60b7189-47ac-4303-8a81-d977466f28db\" xlink:actuate=\"onRequest\" xlink:href=\"psysml:a60b7189-47ac-4303-8a81-d977466f28db\" xlink:show=\"new\" xlink:title=\"psysml:a60b7189-47ac-4303-8a81-d977466f28db\" xlink:type=\"simple\"><polygon fill=\"#FFFFFF\" points=\"105,177,131,177,138,199.2969,203,199.2969,203,274,105,274,105,177\" style=\"stroke: #000000; stroke-width: 1.5;\"/><line style=\"stroke: #000000; stroke-width: 1.5;\" x1=\"105\" x2=\"138\" y1=\"199.2969\" y2=\"199.2969\"/><text fill=\"#000000\" font-family=\"sans-serif\" font-size=\"14\" font-weight=\"bold\" lengthAdjust=\"spacingAndGlyphs\" textLength=\"20\" x=\"109\" y=\"191.9951\">P1</text></a><!--MD5=[f6df4d0ebaf0b5dfb2ced0ae5af7c670]\n",
       "cluster E4--><a href=\"psysml:ba53b2aa-0756-4dc5-85cd-737c1d1d7585\" target=\"_top\" title=\"psysml:ba53b2aa-0756-4dc5-85cd-737c1d1d7585\" xlink:actuate=\"onRequest\" xlink:href=\"psysml:ba53b2aa-0756-4dc5-85cd-737c1d1d7585\" xlink:show=\"new\" xlink:title=\"psysml:ba53b2aa-0756-4dc5-85cd-737c1d1d7585\" xlink:type=\"simple\"><polygon fill=\"#FFFFFF\" points=\"44,49,70,49,77,71.2969,203,71.2969,203,153,44,153,44,49\" style=\"stroke: #000000; stroke-width: 1.5;\"/><line style=\"stroke: #000000; stroke-width: 1.5;\" x1=\"44\" x2=\"77\" y1=\"71.2969\" y2=\"71.2969\"/><text fill=\"#000000\" font-family=\"sans-serif\" font-size=\"14\" font-weight=\"bold\" lengthAdjust=\"spacingAndGlyphs\" textLength=\"20\" x=\"48\" y=\"63.9951\">P2</text></a><!--MD5=[09b614a08d8cba4a07c9adeb5e0fee81]\n",
       "class E3--><a href=\"psysml:f2420fd6-3670-4cc8-95b9-f254eed1f95d\" target=\"_top\" title=\"psysml:f2420fd6-3670-4cc8-95b9-f254eed1f95d\" xlink:actuate=\"onRequest\" xlink:href=\"psysml:f2420fd6-3670-4cc8-95b9-f254eed1f95d\" xlink:show=\"new\" xlink:title=\"psysml:f2420fd6-3670-4cc8-95b9-f254eed1f95d\" xlink:type=\"simple\"><rect fill=\"#FFFFFF\" height=\"45.9375\" id=\"E3\" style=\"stroke: #383838; stroke-width: 1.5;\" width=\"66\" x=\"121\" y=\"212\"/><text fill=\"#000000\" font-family=\"sans-serif\" font-size=\"12\" font-style=\"italic\" lengthAdjust=\"spacingAndGlyphs\" textLength=\"64\" x=\"122\" y=\"228.1387\">«part def»</text><text fill=\"#000000\" font-family=\"sans-serif\" font-size=\"12\" lengthAdjust=\"spacingAndGlyphs\" textLength=\"8\" x=\"150\" y=\"242.1074\">A</text><line style=\"stroke: #383838; stroke-width: 1.5;\" x1=\"122\" x2=\"186\" y1=\"249.9375\" y2=\"249.9375\"/></a><!--MD5=[60a26617385b1d2d0262a64233df1f8d]\n",
       "class E6--><a href=\"psysml:9a86ed13-d6c7-4ef9-9e5f-c3e51ac044b3\" target=\"_top\" title=\"psysml:9a86ed13-d6c7-4ef9-9e5f-c3e51ac044b3\" xlink:actuate=\"onRequest\" xlink:href=\"psysml:9a86ed13-d6c7-4ef9-9e5f-c3e51ac044b3\" xlink:show=\"new\" xlink:title=\"psysml:9a86ed13-d6c7-4ef9-9e5f-c3e51ac044b3\" xlink:type=\"simple\"><rect fill=\"#FFFFFF\" height=\"45.9375\" id=\"E6\" rx=\"10\" ry=\"10\" style=\"stroke: #383838; stroke-width: 1.5;\" width=\"42\" x=\"145\" y=\"87.5\"/><text fill=\"#000000\" font-family=\"sans-serif\" font-size=\"12\" font-style=\"italic\" lengthAdjust=\"spacingAndGlyphs\" textLength=\"40\" x=\"146\" y=\"103.6387\">«part»</text><text fill=\"#000000\" font-family=\"sans-serif\" font-size=\"12\" lengthAdjust=\"spacingAndGlyphs\" textLength=\"22\" x=\"155\" y=\"117.6074\">x: A</text><line style=\"stroke: #383838; stroke-width: 1.5;\" x1=\"146\" x2=\"186\" y1=\"125.4375\" y2=\"125.4375\"/></a><a href=\"psysml:e63557be-f486-40b8-b38f-45a287622fd5\" target=\"_top\" title=\"psysml:e63557be-f486-40b8-b38f-45a287622fd5\" xlink:actuate=\"onRequest\" xlink:href=\"psysml:e63557be-f486-40b8-b38f-45a287622fd5\" xlink:show=\"new\" xlink:title=\"psysml:e63557be-f486-40b8-b38f-45a287622fd5\" xlink:type=\"simple\"><polygon fill=\"#FFFFFF\" points=\"60.5,84,95.5,84,102.5,106.2969,109.5,106.2969,109.5,136.5938,60.5,136.5938,60.5,84\" style=\"stroke: #000000; stroke-width: 1.5;\"/><line style=\"stroke: #000000; stroke-width: 1.5;\" x1=\"60.5\" x2=\"102.5\" y1=\"106.2969\" y2=\"106.2969\"/><text fill=\"#000000\" font-family=\"sans-serif\" font-size=\"14\" font-weight=\"bold\" lengthAdjust=\"spacingAndGlyphs\" textLength=\"29\" x=\"64.5\" y=\"98.9951\">P2a</text></a><!--MD5=[a717450b82c80b9240a525fa862496af]\n",
       "link E6 to E3--><a href=\"psysml:9d868367-c6cc-4e4e-a580-36a1751bbca7\" target=\"_top\" title=\"psysml:9d868367-c6cc-4e4e-a580-36a1751bbca7\" xlink:actuate=\"onRequest\" xlink:href=\"psysml:9d868367-c6cc-4e4e-a580-36a1751bbca7\" xlink:show=\"new\" xlink:title=\"psysml:9d868367-c6cc-4e4e-a580-36a1751bbca7\" xlink:type=\"simple\"><path d=\"M163.83,133.68 C162.24,149.9 160.04,172.39 158.12,191.96 \" fill=\"none\" id=\"E6-&gt;E3\" style=\"stroke: #383838; stroke-width: 1.0;\"/><polygon fill=\"#FFFFFF\" points=\"156.16,211.98,151.0533,192.3861,164.986,193.7564,156.16,211.98\" style=\"stroke: #383838; stroke-width: 1.0;\"/><ellipse cx=\"153.6016\" cy=\"186.9092\" fill=\"#383838\" rx=\"2\" ry=\"2\" style=\"stroke: #383838; stroke-width: 1.0;\"/><ellipse cx=\"163.5535\" cy=\"187.888\" fill=\"#383838\" rx=\"2\" ry=\"2\" style=\"stroke: #383838; stroke-width: 1.0;\"/></a><!--MD5=[948faebebd65c81e8bc30caab96c0bf6]\n",
       "@startuml\r\n",
       "skinparam monochrome true\r\n",
       "skinparam classbackgroundcolor white\r\n",
       "skinparam shadowing false\r\n",
       "skinparam wrapWidth 300\r\n",
       "hide circle\r\n",
       "\r\n",
       "package \"QualifiedNameImportTest\" as E1  [[psysml:3aea7368-2129-476d-92d7-ea1a60089676 ]]  {\r\n",
       "package \"P1\" as E2  [[psysml:a60b7189-47ac-4303-8a81-d977466f28db ]]  {\r\n",
       "comp def \"A\" as E3  <<(T,blue)part def>> [[psysml:f2420fd6-3670-4cc8-95b9-f254eed1f95d ]] {\r\n",
       "}\r\n",
       "}\r\n",
       "package \"P2\" as E4  [[psysml:ba53b2aa-0756-4dc5-85cd-737c1d1d7585 ]]  {\r\n",
       "package \"P2a\" as E5  [[psysml:e63557be-f486-40b8-b38f-45a287622fd5 ]]  {\r\n",
       "}\r\n",
       "comp usage \"x: A\" as E6  <<(T,blue)part>> [[psysml:9a86ed13-d6c7-4ef9-9e5f-c3e51ac044b3 ]] {\r\n",
       "}\r\n",
       "E6 - -:|> E3 [[psysml:9d868367-c6cc-4e4e-a580-36a1751bbca7 ]] \r\n",
       "}\r\n",
       "}\r\n",
       "@enduml\r\n",
       "\n",
       "PlantUML version 1.2020.13(Sat Jun 13 12:26:38 UTC 2020)\n",
       "(EPL source distribution)\n",
       "Java Runtime: OpenJDK Runtime Environment\n",
       "JVM: OpenJDK 64-Bit Server VM\n",
       "Default Encoding: UTF-8\n",
       "Language: en\n",
       "Country: null\n",
       "--></g></svg>"
      ]
     },
     "execution_count": 37,
     "metadata": {},
     "output_type": "execute_result"
    }
   ],
   "source": [
    "%viz --style=\"DEFAULT\" --view=\"Default\" \"QualifiedNameImportTest\""
   ]
  },
  {
   "cell_type": "code",
   "execution_count": 38,
   "id": "fbac9215",
   "metadata": {
    "execution": {
     "iopub.execute_input": "2021-04-20T07:31:02.146871Z",
     "iopub.status.busy": "2021-04-20T07:31:02.146217Z",
     "iopub.status.idle": "2021-04-20T07:31:02.195069Z",
     "shell.execute_reply": "2021-04-20T07:31:02.194474Z"
    }
   },
   "outputs": [
    {
     "data": {
      "image/svg+xml": [
       "<?xml version=\"1.0\" encoding=\"UTF-8\" standalone=\"no\"?><svg xmlns=\"http://www.w3.org/2000/svg\" xmlns:xlink=\"http://www.w3.org/1999/xlink\" contentScriptType=\"application/ecmascript\" contentStyleType=\"text/css\" height=\"310px\" preserveAspectRatio=\"none\" style=\"width:253px;height:310px;\" version=\"1.1\" viewBox=\"0 0 253 310\" width=\"253px\" zoomAndPan=\"magnify\"><defs/><g><!--MD5=[fbc87193dbaf4d95561dea2c320d4a47]\n",
       "cluster E1--><a href=\"psysml:3aea7368-2129-476d-92d7-ea1a60089676\" target=\"_top\" title=\"psysml:3aea7368-2129-476d-92d7-ea1a60089676\" xlink:actuate=\"onRequest\" xlink:href=\"psysml:3aea7368-2129-476d-92d7-ea1a60089676\" xlink:show=\"new\" xlink:title=\"psysml:3aea7368-2129-476d-92d7-ea1a60089676\" xlink:type=\"simple\"><polygon fill=\"#FFFFFF\" points=\"16,6,221,6,228,28.2969,231,28.2969,231,298,16,298,16,6\" style=\"stroke: #000000; stroke-width: 1.5;\"/><line style=\"stroke: #000000; stroke-width: 1.5;\" x1=\"16\" x2=\"228\" y1=\"28.2969\" y2=\"28.2969\"/><text fill=\"#000000\" font-family=\"sans-serif\" font-size=\"14\" font-weight=\"bold\" lengthAdjust=\"spacingAndGlyphs\" textLength=\"199\" x=\"20\" y=\"20.9951\">QualifiedNameImportTest</text></a><!--MD5=[e4f7fae6ed58524ba242bb0b0d3be6b7]\n",
       "cluster E2--><a href=\"psysml:a60b7189-47ac-4303-8a81-d977466f28db\" target=\"_top\" title=\"psysml:a60b7189-47ac-4303-8a81-d977466f28db\" xlink:actuate=\"onRequest\" xlink:href=\"psysml:a60b7189-47ac-4303-8a81-d977466f28db\" xlink:show=\"new\" xlink:title=\"psysml:a60b7189-47ac-4303-8a81-d977466f28db\" xlink:type=\"simple\"><polygon fill=\"#FFFFFF\" points=\"105,177,131,177,138,199.2969,203,199.2969,203,274,105,274,105,177\" style=\"stroke: #000000; stroke-width: 1.5;\"/><line style=\"stroke: #000000; stroke-width: 1.5;\" x1=\"105\" x2=\"138\" y1=\"199.2969\" y2=\"199.2969\"/><text fill=\"#000000\" font-family=\"sans-serif\" font-size=\"14\" font-weight=\"bold\" lengthAdjust=\"spacingAndGlyphs\" textLength=\"20\" x=\"109\" y=\"191.9951\">P1</text></a><!--MD5=[f6df4d0ebaf0b5dfb2ced0ae5af7c670]\n",
       "cluster E4--><a href=\"psysml:ba53b2aa-0756-4dc5-85cd-737c1d1d7585\" target=\"_top\" title=\"psysml:ba53b2aa-0756-4dc5-85cd-737c1d1d7585\" xlink:actuate=\"onRequest\" xlink:href=\"psysml:ba53b2aa-0756-4dc5-85cd-737c1d1d7585\" xlink:show=\"new\" xlink:title=\"psysml:ba53b2aa-0756-4dc5-85cd-737c1d1d7585\" xlink:type=\"simple\"><polygon fill=\"#FFFFFF\" points=\"44,49,70,49,77,71.2969,203,71.2969,203,153,44,153,44,49\" style=\"stroke: #000000; stroke-width: 1.5;\"/><line style=\"stroke: #000000; stroke-width: 1.5;\" x1=\"44\" x2=\"77\" y1=\"71.2969\" y2=\"71.2969\"/><text fill=\"#000000\" font-family=\"sans-serif\" font-size=\"14\" font-weight=\"bold\" lengthAdjust=\"spacingAndGlyphs\" textLength=\"20\" x=\"48\" y=\"63.9951\">P2</text></a><!--MD5=[09b614a08d8cba4a07c9adeb5e0fee81]\n",
       "class E3--><a href=\"psysml:f2420fd6-3670-4cc8-95b9-f254eed1f95d\" target=\"_top\" title=\"psysml:f2420fd6-3670-4cc8-95b9-f254eed1f95d\" xlink:actuate=\"onRequest\" xlink:href=\"psysml:f2420fd6-3670-4cc8-95b9-f254eed1f95d\" xlink:show=\"new\" xlink:title=\"psysml:f2420fd6-3670-4cc8-95b9-f254eed1f95d\" xlink:type=\"simple\"><rect fill=\"#FFFFFF\" height=\"45.9375\" id=\"E3\" style=\"stroke: #383838; stroke-width: 1.5;\" width=\"66\" x=\"121\" y=\"212\"/><text fill=\"#000000\" font-family=\"sans-serif\" font-size=\"12\" font-style=\"italic\" lengthAdjust=\"spacingAndGlyphs\" textLength=\"64\" x=\"122\" y=\"228.1387\">«part def»</text><text fill=\"#000000\" font-family=\"sans-serif\" font-size=\"12\" lengthAdjust=\"spacingAndGlyphs\" textLength=\"8\" x=\"150\" y=\"242.1074\">A</text><line style=\"stroke: #383838; stroke-width: 1.5;\" x1=\"122\" x2=\"186\" y1=\"249.9375\" y2=\"249.9375\"/></a><!--MD5=[60a26617385b1d2d0262a64233df1f8d]\n",
       "class E6--><a href=\"psysml:9a86ed13-d6c7-4ef9-9e5f-c3e51ac044b3\" target=\"_top\" title=\"psysml:9a86ed13-d6c7-4ef9-9e5f-c3e51ac044b3\" xlink:actuate=\"onRequest\" xlink:href=\"psysml:9a86ed13-d6c7-4ef9-9e5f-c3e51ac044b3\" xlink:show=\"new\" xlink:title=\"psysml:9a86ed13-d6c7-4ef9-9e5f-c3e51ac044b3\" xlink:type=\"simple\"><rect fill=\"#FFFFFF\" height=\"45.9375\" id=\"E6\" rx=\"10\" ry=\"10\" style=\"stroke: #383838; stroke-width: 1.5;\" width=\"42\" x=\"145\" y=\"87.5\"/><text fill=\"#000000\" font-family=\"sans-serif\" font-size=\"12\" font-style=\"italic\" lengthAdjust=\"spacingAndGlyphs\" textLength=\"40\" x=\"146\" y=\"103.6387\">«part»</text><text fill=\"#000000\" font-family=\"sans-serif\" font-size=\"12\" lengthAdjust=\"spacingAndGlyphs\" textLength=\"22\" x=\"155\" y=\"117.6074\">x: A</text><line style=\"stroke: #383838; stroke-width: 1.5;\" x1=\"146\" x2=\"186\" y1=\"125.4375\" y2=\"125.4375\"/></a><a href=\"psysml:e63557be-f486-40b8-b38f-45a287622fd5\" target=\"_top\" title=\"psysml:e63557be-f486-40b8-b38f-45a287622fd5\" xlink:actuate=\"onRequest\" xlink:href=\"psysml:e63557be-f486-40b8-b38f-45a287622fd5\" xlink:show=\"new\" xlink:title=\"psysml:e63557be-f486-40b8-b38f-45a287622fd5\" xlink:type=\"simple\"><polygon fill=\"#FFFFFF\" points=\"60.5,84,95.5,84,102.5,106.2969,109.5,106.2969,109.5,136.5938,60.5,136.5938,60.5,84\" style=\"stroke: #000000; stroke-width: 1.5;\"/><line style=\"stroke: #000000; stroke-width: 1.5;\" x1=\"60.5\" x2=\"102.5\" y1=\"106.2969\" y2=\"106.2969\"/><text fill=\"#000000\" font-family=\"sans-serif\" font-size=\"14\" font-weight=\"bold\" lengthAdjust=\"spacingAndGlyphs\" textLength=\"29\" x=\"64.5\" y=\"98.9951\">P2a</text></a><!--MD5=[a717450b82c80b9240a525fa862496af]\n",
       "link E6 to E3--><a href=\"psysml:9d868367-c6cc-4e4e-a580-36a1751bbca7\" target=\"_top\" title=\"psysml:9d868367-c6cc-4e4e-a580-36a1751bbca7\" xlink:actuate=\"onRequest\" xlink:href=\"psysml:9d868367-c6cc-4e4e-a580-36a1751bbca7\" xlink:show=\"new\" xlink:title=\"psysml:9d868367-c6cc-4e4e-a580-36a1751bbca7\" xlink:type=\"simple\"><path d=\"M163.83,133.68 C162.24,149.9 160.04,172.39 158.12,191.96 \" fill=\"none\" id=\"E6-&gt;E3\" style=\"stroke: #383838; stroke-width: 1.0;\"/><polygon fill=\"#FFFFFF\" points=\"156.16,211.98,151.0533,192.3861,164.986,193.7564,156.16,211.98\" style=\"stroke: #383838; stroke-width: 1.0;\"/><ellipse cx=\"153.6016\" cy=\"186.9092\" fill=\"#383838\" rx=\"2\" ry=\"2\" style=\"stroke: #383838; stroke-width: 1.0;\"/><ellipse cx=\"163.5535\" cy=\"187.888\" fill=\"#383838\" rx=\"2\" ry=\"2\" style=\"stroke: #383838; stroke-width: 1.0;\"/></a><!--MD5=[948faebebd65c81e8bc30caab96c0bf6]\n",
       "@startuml\r\n",
       "skinparam monochrome true\r\n",
       "skinparam classbackgroundcolor white\r\n",
       "skinparam shadowing false\r\n",
       "skinparam wrapWidth 300\r\n",
       "hide circle\r\n",
       "\r\n",
       "package \"QualifiedNameImportTest\" as E1  [[psysml:3aea7368-2129-476d-92d7-ea1a60089676 ]]  {\r\n",
       "package \"P1\" as E2  [[psysml:a60b7189-47ac-4303-8a81-d977466f28db ]]  {\r\n",
       "comp def \"A\" as E3  <<(T,blue)part def>> [[psysml:f2420fd6-3670-4cc8-95b9-f254eed1f95d ]] {\r\n",
       "}\r\n",
       "}\r\n",
       "package \"P2\" as E4  [[psysml:ba53b2aa-0756-4dc5-85cd-737c1d1d7585 ]]  {\r\n",
       "package \"P2a\" as E5  [[psysml:e63557be-f486-40b8-b38f-45a287622fd5 ]]  {\r\n",
       "}\r\n",
       "comp usage \"x: A\" as E6  <<(T,blue)part>> [[psysml:9a86ed13-d6c7-4ef9-9e5f-c3e51ac044b3 ]] {\r\n",
       "}\r\n",
       "E6 - -:|> E3 [[psysml:9d868367-c6cc-4e4e-a580-36a1751bbca7 ]] \r\n",
       "}\r\n",
       "}\r\n",
       "@enduml\r\n",
       "\n",
       "PlantUML version 1.2020.13(Sat Jun 13 12:26:38 UTC 2020)\n",
       "(EPL source distribution)\n",
       "Java Runtime: OpenJDK Runtime Environment\n",
       "JVM: OpenJDK 64-Bit Server VM\n",
       "Default Encoding: UTF-8\n",
       "Language: en\n",
       "Country: null\n",
       "--></g></svg>"
      ]
     },
     "execution_count": 38,
     "metadata": {},
     "output_type": "execute_result"
    }
   ],
   "source": [
    "%viz --style=\"DEFAULT\" --view=\"Tree\" \"QualifiedNameImportTest\""
   ]
  },
  {
   "cell_type": "code",
   "execution_count": 39,
   "id": "58aec9c5",
   "metadata": {
    "execution": {
     "iopub.execute_input": "2021-04-20T07:31:02.245424Z",
     "iopub.status.busy": "2021-04-20T07:31:02.244780Z",
     "iopub.status.idle": "2021-04-20T07:31:02.253186Z",
     "shell.execute_reply": "2021-04-20T07:31:02.252583Z"
    }
   },
   "outputs": [
    {
     "data": {
      "image/svg+xml": [
       "<?xml version=\"1.0\" encoding=\"UTF-8\" standalone=\"no\"?><svg xmlns=\"http://www.w3.org/2000/svg\" xmlns:xlink=\"http://www.w3.org/1999/xlink\" contentScriptType=\"application/ecmascript\" contentStyleType=\"text/css\" height=\"12px\" preserveAspectRatio=\"none\" style=\"width:12px;height:12px;\" version=\"1.1\" viewBox=\"0 0 12 12\" width=\"12px\" zoomAndPan=\"magnify\"><defs/><g><!--MD5=[c5f280e076d0d61ccf4b0f27871bda1d]\n",
       "@startuml\r\n",
       "skinparam monochrome true\r\n",
       "skinparam classbackgroundcolor white\r\n",
       "skinparam shadowing false\r\n",
       "skinparam wrapWidth 300\r\n",
       "hide circle\r\n",
       "\r\n",
       "@enduml\r\n",
       "\n",
       "PlantUML version 1.2020.13(Sat Jun 13 12:26:38 UTC 2020)\n",
       "(EPL source distribution)\n",
       "Java Runtime: OpenJDK Runtime Environment\n",
       "JVM: OpenJDK 64-Bit Server VM\n",
       "Default Encoding: UTF-8\n",
       "Language: en\n",
       "Country: null\n",
       "--></g></svg>"
      ]
     },
     "execution_count": 39,
     "metadata": {},
     "output_type": "execute_result"
    }
   ],
   "source": [
    "%viz --style=\"DEFAULT\" --view=\"State\" \"QualifiedNameImportTest\""
   ]
  },
  {
   "cell_type": "code",
   "execution_count": 40,
   "id": "7578df60",
   "metadata": {
    "execution": {
     "iopub.execute_input": "2021-04-20T07:31:02.303117Z",
     "iopub.status.busy": "2021-04-20T07:31:02.302399Z",
     "iopub.status.idle": "2021-04-20T07:31:02.338404Z",
     "shell.execute_reply": "2021-04-20T07:31:02.337030Z"
    }
   },
   "outputs": [
    {
     "data": {
      "image/svg+xml": [
       "<?xml version=\"1.0\" encoding=\"UTF-8\" standalone=\"no\"?><svg xmlns=\"http://www.w3.org/2000/svg\" xmlns:xlink=\"http://www.w3.org/1999/xlink\" contentScriptType=\"application/ecmascript\" contentStyleType=\"text/css\" height=\"189px\" preserveAspectRatio=\"none\" style=\"width:381px;height:189px;\" version=\"1.1\" viewBox=\"0 0 381 189\" width=\"381px\" zoomAndPan=\"magnify\"><defs/><g><!--MD5=[fbc87193dbaf4d95561dea2c320d4a47]\n",
       "cluster E1--><a href=\"psysml:3aea7368-2129-476d-92d7-ea1a60089676\" target=\"_top\" title=\"psysml:3aea7368-2129-476d-92d7-ea1a60089676\" xlink:actuate=\"onRequest\" xlink:href=\"psysml:3aea7368-2129-476d-92d7-ea1a60089676\" xlink:show=\"new\" xlink:title=\"psysml:3aea7368-2129-476d-92d7-ea1a60089676\" xlink:type=\"simple\"><polygon fill=\"#FFFFFF\" points=\"16,6,221,6,228,28.2969,359,28.2969,359,177,16,177,16,6\" style=\"stroke: #000000; stroke-width: 1.5;\"/><line style=\"stroke: #000000; stroke-width: 1.5;\" x1=\"16\" x2=\"228\" y1=\"28.2969\" y2=\"28.2969\"/><text fill=\"#000000\" font-family=\"sans-serif\" font-size=\"14\" font-weight=\"bold\" lengthAdjust=\"spacingAndGlyphs\" textLength=\"199\" x=\"20\" y=\"20.9951\">QualifiedNameImportTest</text></a><!--MD5=[e4f7fae6ed58524ba242bb0b0d3be6b7]\n",
       "cluster E2--><a href=\"psysml:a60b7189-47ac-4303-8a81-d977466f28db\" target=\"_top\" title=\"psysml:a60b7189-47ac-4303-8a81-d977466f28db\" xlink:actuate=\"onRequest\" xlink:href=\"psysml:a60b7189-47ac-4303-8a81-d977466f28db\" xlink:show=\"new\" xlink:title=\"psysml:a60b7189-47ac-4303-8a81-d977466f28db\" xlink:type=\"simple\"><polygon fill=\"#FFFFFF\" points=\"231,54,257,54,264,76.2969,335,76.2969,335,148,231,148,231,54\" style=\"stroke: #000000; stroke-width: 1.5;\"/><line style=\"stroke: #000000; stroke-width: 1.5;\" x1=\"231\" x2=\"264\" y1=\"76.2969\" y2=\"76.2969\"/><text fill=\"#000000\" font-family=\"sans-serif\" font-size=\"14\" font-weight=\"bold\" lengthAdjust=\"spacingAndGlyphs\" textLength=\"20\" x=\"235\" y=\"68.9951\">P1</text></a><!--MD5=[f6df4d0ebaf0b5dfb2ced0ae5af7c670]\n",
       "cluster E4--><a href=\"psysml:ba53b2aa-0756-4dc5-85cd-737c1d1d7585\" target=\"_top\" title=\"psysml:ba53b2aa-0756-4dc5-85cd-737c1d1d7585\" xlink:actuate=\"onRequest\" xlink:href=\"psysml:ba53b2aa-0756-4dc5-85cd-737c1d1d7585\" xlink:show=\"new\" xlink:title=\"psysml:ba53b2aa-0756-4dc5-85cd-737c1d1d7585\" xlink:type=\"simple\"><polygon fill=\"#FFFFFF\" points=\"40,49,66,49,73,71.2969,207,71.2969,207,153,40,153,40,49\" style=\"stroke: #000000; stroke-width: 1.5;\"/><line style=\"stroke: #000000; stroke-width: 1.5;\" x1=\"40\" x2=\"73\" y1=\"71.2969\" y2=\"71.2969\"/><text fill=\"#000000\" font-family=\"sans-serif\" font-size=\"14\" font-weight=\"bold\" lengthAdjust=\"spacingAndGlyphs\" textLength=\"20\" x=\"44\" y=\"63.9951\">P2</text></a><g id=\"E1.E2.E3\"><a href=\"psysml:f2420fd6-3670-4cc8-95b9-f254eed1f95d\" target=\"_top\" title=\"psysml:f2420fd6-3670-4cc8-95b9-f254eed1f95d\" xlink:actuate=\"onRequest\" xlink:href=\"psysml:f2420fd6-3670-4cc8-95b9-f254eed1f95d\" xlink:show=\"new\" xlink:title=\"psysml:f2420fd6-3670-4cc8-95b9-f254eed1f95d\" xlink:type=\"simple\"><rect fill=\"#FFFFFF\" height=\"42.9375\" id=\"E3\" style=\"stroke: #383838; stroke-width: 1.5;\" width=\"71\" x=\"247.5\" y=\"89\"/><rect fill=\"#F8F8F8\" height=\"37.9375\" style=\"stroke: #383838; stroke-width: 1.5;\" width=\"71\" x=\"247.5\" y=\"89\"/><text fill=\"#000000\" font-family=\"sans-serif\" font-size=\"12\" font-style=\"italic\" lengthAdjust=\"spacingAndGlyphs\" textLength=\"64\" x=\"251\" y=\"105.1387\">«part def»</text><text fill=\"#000000\" font-family=\"sans-serif\" font-size=\"12\" lengthAdjust=\"spacingAndGlyphs\" textLength=\"8\" x=\"279\" y=\"119.1074\">A</text></a></g><a href=\"psysml:e63557be-f486-40b8-b38f-45a287622fd5\" target=\"_top\" title=\"psysml:e63557be-f486-40b8-b38f-45a287622fd5\" xlink:actuate=\"onRequest\" xlink:href=\"psysml:e63557be-f486-40b8-b38f-45a287622fd5\" xlink:show=\"new\" xlink:title=\"psysml:e63557be-f486-40b8-b38f-45a287622fd5\" xlink:type=\"simple\"><polygon fill=\"#FFFFFF\" points=\"141.5,84,176.5,84,183.5,106.2969,190.5,106.2969,190.5,136.5938,141.5,136.5938,141.5,84\" style=\"stroke: #000000; stroke-width: 1.5;\"/><line style=\"stroke: #000000; stroke-width: 1.5;\" x1=\"141.5\" x2=\"183.5\" y1=\"106.2969\" y2=\"106.2969\"/><text fill=\"#000000\" font-family=\"sans-serif\" font-size=\"14\" font-weight=\"bold\" lengthAdjust=\"spacingAndGlyphs\" textLength=\"29\" x=\"145.5\" y=\"98.9951\">P2a</text></a><g id=\"E1.E4.E6\"><a href=\"psysml:9a86ed13-d6c7-4ef9-9e5f-c3e51ac044b3\" target=\"_top\" title=\"psysml:9a86ed13-d6c7-4ef9-9e5f-c3e51ac044b3\" xlink:actuate=\"onRequest\" xlink:href=\"psysml:9a86ed13-d6c7-4ef9-9e5f-c3e51ac044b3\" xlink:show=\"new\" xlink:title=\"psysml:9a86ed13-d6c7-4ef9-9e5f-c3e51ac044b3\" xlink:type=\"simple\"><rect fill=\"#FFFFFF\" height=\"40\" id=\"E6\" rx=\"10\" ry=\"10\" style=\"stroke: #383838; stroke-width: 1.5;\" width=\"50\" x=\"56\" y=\"90.5\"/><rect fill=\"#F8F8F8\" height=\"23.9688\" rx=\"10\" ry=\"10\" style=\"stroke: #F8F8F8; stroke-width: 1.5;\" width=\"50\" x=\"56\" y=\"90.5\"/><rect fill=\"#F8F8F8\" height=\"10\" style=\"stroke: #F8F8F8; stroke-width: 1.5;\" width=\"50\" x=\"56\" y=\"104.4688\"/><rect fill=\"none\" height=\"40\" id=\"E6\" rx=\"10\" ry=\"10\" style=\"stroke: #383838; stroke-width: 1.5;\" width=\"50\" x=\"56\" y=\"90.5\"/><text fill=\"#000000\" font-family=\"sans-serif\" font-size=\"12\" lengthAdjust=\"spacingAndGlyphs\" textLength=\"22\" x=\"70\" y=\"106.6387\">x: A</text></a></g><!--MD5=[9087de4475be8a05c8aa9b78f943a2d9]\n",
       "@startuml\r\n",
       "skinparam ranksep 10\r\n",
       "skinparam rectangle {\r\n",
       " backgroundColor<<block>> LightGreen\r\n",
       "}\r\n",
       "skinparam monochrome true\r\n",
       "skinparam classbackgroundcolor white\r\n",
       "skinparam shadowing false\r\n",
       "skinparam wrapWidth 300\r\n",
       "hide circle\r\n",
       "\r\n",
       "package \"QualifiedNameImportTest\" as E1  [[psysml:3aea7368-2129-476d-92d7-ea1a60089676 ]]  {\r\n",
       "package \"P1\" as E2  [[psysml:a60b7189-47ac-4303-8a81-d977466f28db ]]  {\r\n",
       "rec def \"A\" as E3  <<(T,blue)part def>> [[psysml:f2420fd6-3670-4cc8-95b9-f254eed1f95d ]] {\r\n",
       "}\r\n",
       "}\r\n",
       "package \"P2\" as E4  [[psysml:ba53b2aa-0756-4dc5-85cd-737c1d1d7585 ]]  {\r\n",
       "package \"P2a\" as E5  [[psysml:e63557be-f486-40b8-b38f-45a287622fd5 ]]  {\r\n",
       "}\r\n",
       "rec usage \"x: A\" as E6  [[psysml:9a86ed13-d6c7-4ef9-9e5f-c3e51ac044b3 ]] {\r\n",
       "}\r\n",
       "}\r\n",
       "}\r\n",
       "@enduml\r\n",
       "\n",
       "PlantUML version 1.2020.13(Sat Jun 13 12:26:38 UTC 2020)\n",
       "(EPL source distribution)\n",
       "Java Runtime: OpenJDK Runtime Environment\n",
       "JVM: OpenJDK 64-Bit Server VM\n",
       "Default Encoding: UTF-8\n",
       "Language: en\n",
       "Country: null\n",
       "--></g></svg>"
      ]
     },
     "execution_count": 40,
     "metadata": {},
     "output_type": "execute_result"
    }
   ],
   "source": [
    "%viz --style=\"DEFAULT\" --view=\"Interconnection\" \"QualifiedNameImportTest\""
   ]
  },
  {
   "cell_type": "code",
   "execution_count": 41,
   "id": "dfe06705",
   "metadata": {
    "execution": {
     "iopub.execute_input": "2021-04-20T07:31:02.389125Z",
     "iopub.status.busy": "2021-04-20T07:31:02.388623Z",
     "iopub.status.idle": "2021-04-20T07:31:02.397448Z",
     "shell.execute_reply": "2021-04-20T07:31:02.397980Z"
    }
   },
   "outputs": [
    {
     "data": {
      "image/svg+xml": [
       "<?xml version=\"1.0\" encoding=\"UTF-8\" standalone=\"no\"?><svg xmlns=\"http://www.w3.org/2000/svg\" xmlns:xlink=\"http://www.w3.org/1999/xlink\" contentScriptType=\"application/ecmascript\" contentStyleType=\"text/css\" height=\"12px\" preserveAspectRatio=\"none\" style=\"width:12px;height:12px;\" version=\"1.1\" viewBox=\"0 0 12 12\" width=\"12px\" zoomAndPan=\"magnify\"><defs/><g><!--MD5=[388f21188e31bfdd97050473b19af356]\n",
       "@startuml\r\n",
       "skinparam ranksep 8\r\n",
       "skinparam monochrome true\r\n",
       "skinparam classbackgroundcolor white\r\n",
       "skinparam shadowing false\r\n",
       "skinparam wrapWidth 300\r\n",
       "hide circle\r\n",
       "\r\n",
       "@enduml\r\n",
       "\n",
       "PlantUML version 1.2020.13(Sat Jun 13 12:26:38 UTC 2020)\n",
       "(EPL source distribution)\n",
       "Java Runtime: OpenJDK Runtime Environment\n",
       "JVM: OpenJDK 64-Bit Server VM\n",
       "Default Encoding: UTF-8\n",
       "Language: en\n",
       "Country: null\n",
       "--></g></svg>"
      ]
     },
     "execution_count": 41,
     "metadata": {},
     "output_type": "execute_result"
    }
   ],
   "source": [
    "%viz --style=\"DEFAULT\" --view=\"Action\" \"QualifiedNameImportTest\""
   ]
  },
  {
   "cell_type": "code",
   "execution_count": 42,
   "id": "36bdf81b",
   "metadata": {
    "execution": {
     "iopub.execute_input": "2021-04-20T07:31:02.449017Z",
     "iopub.status.busy": "2021-04-20T07:31:02.447854Z",
     "iopub.status.idle": "2021-04-20T07:31:02.488741Z",
     "shell.execute_reply": "2021-04-20T07:31:02.488307Z"
    }
   },
   "outputs": [
    {
     "data": {
      "image/svg+xml": [
       "<?xml version=\"1.0\" encoding=\"UTF-8\" standalone=\"no\"?><svg xmlns=\"http://www.w3.org/2000/svg\" xmlns:xlink=\"http://www.w3.org/1999/xlink\" contentScriptType=\"application/ecmascript\" contentStyleType=\"text/css\" height=\"310px\" preserveAspectRatio=\"none\" style=\"width:253px;height:310px;\" version=\"1.1\" viewBox=\"0 0 253 310\" width=\"253px\" zoomAndPan=\"magnify\"><defs/><g><!--MD5=[fbc87193dbaf4d95561dea2c320d4a47]\n",
       "cluster E1--><a href=\"psysml:3aea7368-2129-476d-92d7-ea1a60089676\" target=\"_top\" title=\"psysml:3aea7368-2129-476d-92d7-ea1a60089676\" xlink:actuate=\"onRequest\" xlink:href=\"psysml:3aea7368-2129-476d-92d7-ea1a60089676\" xlink:show=\"new\" xlink:title=\"psysml:3aea7368-2129-476d-92d7-ea1a60089676\" xlink:type=\"simple\"><polygon fill=\"#FFFFFF\" points=\"16,6,221,6,228,28.2969,231,28.2969,231,298,16,298,16,6\" style=\"stroke: #000000; stroke-width: 1.5;\"/><line style=\"stroke: #000000; stroke-width: 1.5;\" x1=\"16\" x2=\"228\" y1=\"28.2969\" y2=\"28.2969\"/><text fill=\"#000000\" font-family=\"sans-serif\" font-size=\"14\" font-weight=\"bold\" lengthAdjust=\"spacingAndGlyphs\" textLength=\"199\" x=\"20\" y=\"20.9951\">QualifiedNameImportTest</text></a><!--MD5=[e4f7fae6ed58524ba242bb0b0d3be6b7]\n",
       "cluster E2--><a href=\"psysml:a60b7189-47ac-4303-8a81-d977466f28db\" target=\"_top\" title=\"psysml:a60b7189-47ac-4303-8a81-d977466f28db\" xlink:actuate=\"onRequest\" xlink:href=\"psysml:a60b7189-47ac-4303-8a81-d977466f28db\" xlink:show=\"new\" xlink:title=\"psysml:a60b7189-47ac-4303-8a81-d977466f28db\" xlink:type=\"simple\"><polygon fill=\"#FFFFFF\" points=\"105,177,131,177,138,199.2969,203,199.2969,203,274,105,274,105,177\" style=\"stroke: #000000; stroke-width: 1.5;\"/><line style=\"stroke: #000000; stroke-width: 1.5;\" x1=\"105\" x2=\"138\" y1=\"199.2969\" y2=\"199.2969\"/><text fill=\"#000000\" font-family=\"sans-serif\" font-size=\"14\" font-weight=\"bold\" lengthAdjust=\"spacingAndGlyphs\" textLength=\"20\" x=\"109\" y=\"191.9951\">P1</text></a><!--MD5=[f6df4d0ebaf0b5dfb2ced0ae5af7c670]\n",
       "cluster E4--><a href=\"psysml:ba53b2aa-0756-4dc5-85cd-737c1d1d7585\" target=\"_top\" title=\"psysml:ba53b2aa-0756-4dc5-85cd-737c1d1d7585\" xlink:actuate=\"onRequest\" xlink:href=\"psysml:ba53b2aa-0756-4dc5-85cd-737c1d1d7585\" xlink:show=\"new\" xlink:title=\"psysml:ba53b2aa-0756-4dc5-85cd-737c1d1d7585\" xlink:type=\"simple\"><polygon fill=\"#FFFFFF\" points=\"44,49,70,49,77,71.2969,203,71.2969,203,153,44,153,44,49\" style=\"stroke: #000000; stroke-width: 1.5;\"/><line style=\"stroke: #000000; stroke-width: 1.5;\" x1=\"44\" x2=\"77\" y1=\"71.2969\" y2=\"71.2969\"/><text fill=\"#000000\" font-family=\"sans-serif\" font-size=\"14\" font-weight=\"bold\" lengthAdjust=\"spacingAndGlyphs\" textLength=\"20\" x=\"48\" y=\"63.9951\">P2</text></a><!--MD5=[09b614a08d8cba4a07c9adeb5e0fee81]\n",
       "class E3--><a href=\"psysml:f2420fd6-3670-4cc8-95b9-f254eed1f95d\" target=\"_top\" title=\"psysml:f2420fd6-3670-4cc8-95b9-f254eed1f95d\" xlink:actuate=\"onRequest\" xlink:href=\"psysml:f2420fd6-3670-4cc8-95b9-f254eed1f95d\" xlink:show=\"new\" xlink:title=\"psysml:f2420fd6-3670-4cc8-95b9-f254eed1f95d\" xlink:type=\"simple\"><rect fill=\"#FFFFFF\" height=\"45.9375\" id=\"E3\" style=\"stroke: #383838; stroke-width: 1.5;\" width=\"66\" x=\"121\" y=\"212\"/><text fill=\"#000000\" font-family=\"sans-serif\" font-size=\"12\" font-style=\"italic\" lengthAdjust=\"spacingAndGlyphs\" textLength=\"64\" x=\"122\" y=\"228.1387\">«part def»</text><text fill=\"#000000\" font-family=\"sans-serif\" font-size=\"12\" lengthAdjust=\"spacingAndGlyphs\" textLength=\"8\" x=\"150\" y=\"242.1074\">A</text><line style=\"stroke: #383838; stroke-width: 1.5;\" x1=\"122\" x2=\"186\" y1=\"249.9375\" y2=\"249.9375\"/></a><!--MD5=[60a26617385b1d2d0262a64233df1f8d]\n",
       "class E6--><a href=\"psysml:9a86ed13-d6c7-4ef9-9e5f-c3e51ac044b3\" target=\"_top\" title=\"psysml:9a86ed13-d6c7-4ef9-9e5f-c3e51ac044b3\" xlink:actuate=\"onRequest\" xlink:href=\"psysml:9a86ed13-d6c7-4ef9-9e5f-c3e51ac044b3\" xlink:show=\"new\" xlink:title=\"psysml:9a86ed13-d6c7-4ef9-9e5f-c3e51ac044b3\" xlink:type=\"simple\"><rect fill=\"#FFFFFF\" height=\"45.9375\" id=\"E6\" rx=\"10\" ry=\"10\" style=\"stroke: #383838; stroke-width: 1.5;\" width=\"42\" x=\"145\" y=\"87.5\"/><text fill=\"#000000\" font-family=\"sans-serif\" font-size=\"12\" font-style=\"italic\" lengthAdjust=\"spacingAndGlyphs\" textLength=\"40\" x=\"146\" y=\"103.6387\">«part»</text><text fill=\"#000000\" font-family=\"sans-serif\" font-size=\"12\" lengthAdjust=\"spacingAndGlyphs\" textLength=\"22\" x=\"155\" y=\"117.6074\">x: A</text><line style=\"stroke: #383838; stroke-width: 1.5;\" x1=\"146\" x2=\"186\" y1=\"125.4375\" y2=\"125.4375\"/></a><a href=\"psysml:e63557be-f486-40b8-b38f-45a287622fd5\" target=\"_top\" title=\"psysml:e63557be-f486-40b8-b38f-45a287622fd5\" xlink:actuate=\"onRequest\" xlink:href=\"psysml:e63557be-f486-40b8-b38f-45a287622fd5\" xlink:show=\"new\" xlink:title=\"psysml:e63557be-f486-40b8-b38f-45a287622fd5\" xlink:type=\"simple\"><polygon fill=\"#FFFFFF\" points=\"60.5,84,95.5,84,102.5,106.2969,109.5,106.2969,109.5,136.5938,60.5,136.5938,60.5,84\" style=\"stroke: #000000; stroke-width: 1.5;\"/><line style=\"stroke: #000000; stroke-width: 1.5;\" x1=\"60.5\" x2=\"102.5\" y1=\"106.2969\" y2=\"106.2969\"/><text fill=\"#000000\" font-family=\"sans-serif\" font-size=\"14\" font-weight=\"bold\" lengthAdjust=\"spacingAndGlyphs\" textLength=\"29\" x=\"64.5\" y=\"98.9951\">P2a</text></a><!--MD5=[a717450b82c80b9240a525fa862496af]\n",
       "link E6 to E3--><a href=\"psysml:9d868367-c6cc-4e4e-a580-36a1751bbca7\" target=\"_top\" title=\"psysml:9d868367-c6cc-4e4e-a580-36a1751bbca7\" xlink:actuate=\"onRequest\" xlink:href=\"psysml:9d868367-c6cc-4e4e-a580-36a1751bbca7\" xlink:show=\"new\" xlink:title=\"psysml:9d868367-c6cc-4e4e-a580-36a1751bbca7\" xlink:type=\"simple\"><path d=\"M163.83,133.68 C162.24,149.9 160.04,172.39 158.12,191.96 \" fill=\"none\" id=\"E6-&gt;E3\" style=\"stroke: #383838; stroke-width: 1.0;\"/><polygon fill=\"#FFFFFF\" points=\"156.16,211.98,151.0533,192.3861,164.986,193.7564,156.16,211.98\" style=\"stroke: #383838; stroke-width: 1.0;\"/><ellipse cx=\"153.6016\" cy=\"186.9092\" fill=\"#383838\" rx=\"2\" ry=\"2\" style=\"stroke: #383838; stroke-width: 1.0;\"/><ellipse cx=\"163.5535\" cy=\"187.888\" fill=\"#383838\" rx=\"2\" ry=\"2\" style=\"stroke: #383838; stroke-width: 1.0;\"/></a><!--MD5=[948faebebd65c81e8bc30caab96c0bf6]\n",
       "@startuml\r\n",
       "skinparam monochrome true\r\n",
       "skinparam classbackgroundcolor white\r\n",
       "skinparam shadowing false\r\n",
       "skinparam wrapWidth 300\r\n",
       "hide circle\r\n",
       "\r\n",
       "package \"QualifiedNameImportTest\" as E1  [[psysml:3aea7368-2129-476d-92d7-ea1a60089676 ]]  {\r\n",
       "package \"P1\" as E2  [[psysml:a60b7189-47ac-4303-8a81-d977466f28db ]]  {\r\n",
       "comp def \"A\" as E3  <<(T,blue)part def>> [[psysml:f2420fd6-3670-4cc8-95b9-f254eed1f95d ]] {\r\n",
       "}\r\n",
       "}\r\n",
       "package \"P2\" as E4  [[psysml:ba53b2aa-0756-4dc5-85cd-737c1d1d7585 ]]  {\r\n",
       "package \"P2a\" as E5  [[psysml:e63557be-f486-40b8-b38f-45a287622fd5 ]]  {\r\n",
       "}\r\n",
       "comp usage \"x: A\" as E6  <<(T,blue)part>> [[psysml:9a86ed13-d6c7-4ef9-9e5f-c3e51ac044b3 ]] {\r\n",
       "}\r\n",
       "E6 - -:|> E3 [[psysml:9d868367-c6cc-4e4e-a580-36a1751bbca7 ]] \r\n",
       "}\r\n",
       "}\r\n",
       "@enduml\r\n",
       "\n",
       "PlantUML version 1.2020.13(Sat Jun 13 12:26:38 UTC 2020)\n",
       "(EPL source distribution)\n",
       "Java Runtime: OpenJDK Runtime Environment\n",
       "JVM: OpenJDK 64-Bit Server VM\n",
       "Default Encoding: UTF-8\n",
       "Language: en\n",
       "Country: null\n",
       "--></g></svg>"
      ]
     },
     "execution_count": 42,
     "metadata": {},
     "output_type": "execute_result"
    }
   ],
   "source": [
    "%viz --style=\"DEFAULT\" --view=\"Sequence\" \"QualifiedNameImportTest\""
   ]
  },
  {
   "cell_type": "code",
   "execution_count": 43,
   "id": "e15e8197",
   "metadata": {
    "execution": {
     "iopub.execute_input": "2021-04-20T07:31:02.539932Z",
     "iopub.status.busy": "2021-04-20T07:31:02.539288Z",
     "iopub.status.idle": "2021-04-20T07:31:02.588396Z",
     "shell.execute_reply": "2021-04-20T07:31:02.586496Z"
    }
   },
   "outputs": [
    {
     "data": {
      "image/svg+xml": [
       "<?xml version=\"1.0\" encoding=\"UTF-8\" standalone=\"no\"?><svg xmlns=\"http://www.w3.org/2000/svg\" xmlns:xlink=\"http://www.w3.org/1999/xlink\" contentScriptType=\"application/ecmascript\" contentStyleType=\"text/css\" height=\"310px\" preserveAspectRatio=\"none\" style=\"width:253px;height:310px;\" version=\"1.1\" viewBox=\"0 0 253 310\" width=\"253px\" zoomAndPan=\"magnify\"><defs/><g><!--MD5=[fbc87193dbaf4d95561dea2c320d4a47]\n",
       "cluster E1--><a href=\"psysml:3aea7368-2129-476d-92d7-ea1a60089676\" target=\"_top\" title=\"psysml:3aea7368-2129-476d-92d7-ea1a60089676\" xlink:actuate=\"onRequest\" xlink:href=\"psysml:3aea7368-2129-476d-92d7-ea1a60089676\" xlink:show=\"new\" xlink:title=\"psysml:3aea7368-2129-476d-92d7-ea1a60089676\" xlink:type=\"simple\"><polygon fill=\"#FFFFFF\" points=\"16,6,221,6,228,28.2969,231,28.2969,231,298,16,298,16,6\" style=\"stroke: #000000; stroke-width: 1.5;\"/><line style=\"stroke: #000000; stroke-width: 1.5;\" x1=\"16\" x2=\"228\" y1=\"28.2969\" y2=\"28.2969\"/><text fill=\"#000000\" font-family=\"sans-serif\" font-size=\"14\" font-weight=\"bold\" lengthAdjust=\"spacingAndGlyphs\" textLength=\"199\" x=\"20\" y=\"20.9951\">QualifiedNameImportTest</text></a><!--MD5=[e4f7fae6ed58524ba242bb0b0d3be6b7]\n",
       "cluster E2--><a href=\"psysml:a60b7189-47ac-4303-8a81-d977466f28db\" target=\"_top\" title=\"psysml:a60b7189-47ac-4303-8a81-d977466f28db\" xlink:actuate=\"onRequest\" xlink:href=\"psysml:a60b7189-47ac-4303-8a81-d977466f28db\" xlink:show=\"new\" xlink:title=\"psysml:a60b7189-47ac-4303-8a81-d977466f28db\" xlink:type=\"simple\"><polygon fill=\"#FFFFFF\" points=\"105,177,131,177,138,199.2969,203,199.2969,203,274,105,274,105,177\" style=\"stroke: #000000; stroke-width: 1.5;\"/><line style=\"stroke: #000000; stroke-width: 1.5;\" x1=\"105\" x2=\"138\" y1=\"199.2969\" y2=\"199.2969\"/><text fill=\"#000000\" font-family=\"sans-serif\" font-size=\"14\" font-weight=\"bold\" lengthAdjust=\"spacingAndGlyphs\" textLength=\"20\" x=\"109\" y=\"191.9951\">P1</text></a><!--MD5=[f6df4d0ebaf0b5dfb2ced0ae5af7c670]\n",
       "cluster E4--><a href=\"psysml:ba53b2aa-0756-4dc5-85cd-737c1d1d7585\" target=\"_top\" title=\"psysml:ba53b2aa-0756-4dc5-85cd-737c1d1d7585\" xlink:actuate=\"onRequest\" xlink:href=\"psysml:ba53b2aa-0756-4dc5-85cd-737c1d1d7585\" xlink:show=\"new\" xlink:title=\"psysml:ba53b2aa-0756-4dc5-85cd-737c1d1d7585\" xlink:type=\"simple\"><polygon fill=\"#FFFFFF\" points=\"44,49,70,49,77,71.2969,203,71.2969,203,153,44,153,44,49\" style=\"stroke: #000000; stroke-width: 1.5;\"/><line style=\"stroke: #000000; stroke-width: 1.5;\" x1=\"44\" x2=\"77\" y1=\"71.2969\" y2=\"71.2969\"/><text fill=\"#000000\" font-family=\"sans-serif\" font-size=\"14\" font-weight=\"bold\" lengthAdjust=\"spacingAndGlyphs\" textLength=\"20\" x=\"48\" y=\"63.9951\">P2</text></a><!--MD5=[09b614a08d8cba4a07c9adeb5e0fee81]\n",
       "class E3--><a href=\"psysml:f2420fd6-3670-4cc8-95b9-f254eed1f95d\" target=\"_top\" title=\"psysml:f2420fd6-3670-4cc8-95b9-f254eed1f95d\" xlink:actuate=\"onRequest\" xlink:href=\"psysml:f2420fd6-3670-4cc8-95b9-f254eed1f95d\" xlink:show=\"new\" xlink:title=\"psysml:f2420fd6-3670-4cc8-95b9-f254eed1f95d\" xlink:type=\"simple\"><rect fill=\"#FFFFFF\" height=\"45.9375\" id=\"E3\" style=\"stroke: #383838; stroke-width: 1.5;\" width=\"66\" x=\"121\" y=\"212\"/><text fill=\"#000000\" font-family=\"sans-serif\" font-size=\"12\" font-style=\"italic\" lengthAdjust=\"spacingAndGlyphs\" textLength=\"64\" x=\"122\" y=\"228.1387\">«part def»</text><text fill=\"#000000\" font-family=\"sans-serif\" font-size=\"12\" lengthAdjust=\"spacingAndGlyphs\" textLength=\"8\" x=\"150\" y=\"242.1074\">A</text><line style=\"stroke: #383838; stroke-width: 1.5;\" x1=\"122\" x2=\"186\" y1=\"249.9375\" y2=\"249.9375\"/></a><!--MD5=[60a26617385b1d2d0262a64233df1f8d]\n",
       "class E6--><a href=\"psysml:9a86ed13-d6c7-4ef9-9e5f-c3e51ac044b3\" target=\"_top\" title=\"psysml:9a86ed13-d6c7-4ef9-9e5f-c3e51ac044b3\" xlink:actuate=\"onRequest\" xlink:href=\"psysml:9a86ed13-d6c7-4ef9-9e5f-c3e51ac044b3\" xlink:show=\"new\" xlink:title=\"psysml:9a86ed13-d6c7-4ef9-9e5f-c3e51ac044b3\" xlink:type=\"simple\"><rect fill=\"#FFFFFF\" height=\"45.9375\" id=\"E6\" rx=\"10\" ry=\"10\" style=\"stroke: #383838; stroke-width: 1.5;\" width=\"42\" x=\"145\" y=\"87.5\"/><text fill=\"#000000\" font-family=\"sans-serif\" font-size=\"12\" font-style=\"italic\" lengthAdjust=\"spacingAndGlyphs\" textLength=\"40\" x=\"146\" y=\"103.6387\">«part»</text><text fill=\"#000000\" font-family=\"sans-serif\" font-size=\"12\" lengthAdjust=\"spacingAndGlyphs\" textLength=\"22\" x=\"155\" y=\"117.6074\">x: A</text><line style=\"stroke: #383838; stroke-width: 1.5;\" x1=\"146\" x2=\"186\" y1=\"125.4375\" y2=\"125.4375\"/></a><a href=\"psysml:e63557be-f486-40b8-b38f-45a287622fd5\" target=\"_top\" title=\"psysml:e63557be-f486-40b8-b38f-45a287622fd5\" xlink:actuate=\"onRequest\" xlink:href=\"psysml:e63557be-f486-40b8-b38f-45a287622fd5\" xlink:show=\"new\" xlink:title=\"psysml:e63557be-f486-40b8-b38f-45a287622fd5\" xlink:type=\"simple\"><polygon fill=\"#FFFFFF\" points=\"60.5,84,95.5,84,102.5,106.2969,109.5,106.2969,109.5,136.5938,60.5,136.5938,60.5,84\" style=\"stroke: #000000; stroke-width: 1.5;\"/><line style=\"stroke: #000000; stroke-width: 1.5;\" x1=\"60.5\" x2=\"102.5\" y1=\"106.2969\" y2=\"106.2969\"/><text fill=\"#000000\" font-family=\"sans-serif\" font-size=\"14\" font-weight=\"bold\" lengthAdjust=\"spacingAndGlyphs\" textLength=\"29\" x=\"64.5\" y=\"98.9951\">P2a</text></a><!--MD5=[a717450b82c80b9240a525fa862496af]\n",
       "link E6 to E3--><a href=\"psysml:9d868367-c6cc-4e4e-a580-36a1751bbca7\" target=\"_top\" title=\"psysml:9d868367-c6cc-4e4e-a580-36a1751bbca7\" xlink:actuate=\"onRequest\" xlink:href=\"psysml:9d868367-c6cc-4e4e-a580-36a1751bbca7\" xlink:show=\"new\" xlink:title=\"psysml:9d868367-c6cc-4e4e-a580-36a1751bbca7\" xlink:type=\"simple\"><path d=\"M163.83,133.68 C162.24,149.9 160.04,172.39 158.12,191.96 \" fill=\"none\" id=\"E6-&gt;E3\" style=\"stroke: #383838; stroke-width: 1.0;\"/><polygon fill=\"#FFFFFF\" points=\"156.16,211.98,151.0533,192.3861,164.986,193.7564,156.16,211.98\" style=\"stroke: #383838; stroke-width: 1.0;\"/><ellipse cx=\"153.6016\" cy=\"186.9092\" fill=\"#383838\" rx=\"2\" ry=\"2\" style=\"stroke: #383838; stroke-width: 1.0;\"/><ellipse cx=\"163.5535\" cy=\"187.888\" fill=\"#383838\" rx=\"2\" ry=\"2\" style=\"stroke: #383838; stroke-width: 1.0;\"/></a><!--MD5=[948faebebd65c81e8bc30caab96c0bf6]\n",
       "@startuml\r\n",
       "skinparam monochrome true\r\n",
       "skinparam classbackgroundcolor white\r\n",
       "skinparam shadowing false\r\n",
       "skinparam wrapWidth 300\r\n",
       "hide circle\r\n",
       "\r\n",
       "package \"QualifiedNameImportTest\" as E1  [[psysml:3aea7368-2129-476d-92d7-ea1a60089676 ]]  {\r\n",
       "package \"P1\" as E2  [[psysml:a60b7189-47ac-4303-8a81-d977466f28db ]]  {\r\n",
       "comp def \"A\" as E3  <<(T,blue)part def>> [[psysml:f2420fd6-3670-4cc8-95b9-f254eed1f95d ]] {\r\n",
       "}\r\n",
       "}\r\n",
       "package \"P2\" as E4  [[psysml:ba53b2aa-0756-4dc5-85cd-737c1d1d7585 ]]  {\r\n",
       "package \"P2a\" as E5  [[psysml:e63557be-f486-40b8-b38f-45a287622fd5 ]]  {\r\n",
       "}\r\n",
       "comp usage \"x: A\" as E6  <<(T,blue)part>> [[psysml:9a86ed13-d6c7-4ef9-9e5f-c3e51ac044b3 ]] {\r\n",
       "}\r\n",
       "E6 - -:|> E3 [[psysml:9d868367-c6cc-4e4e-a580-36a1751bbca7 ]] \r\n",
       "}\r\n",
       "}\r\n",
       "@enduml\r\n",
       "\n",
       "PlantUML version 1.2020.13(Sat Jun 13 12:26:38 UTC 2020)\n",
       "(EPL source distribution)\n",
       "Java Runtime: OpenJDK Runtime Environment\n",
       "JVM: OpenJDK 64-Bit Server VM\n",
       "Default Encoding: UTF-8\n",
       "Language: en\n",
       "Country: null\n",
       "--></g></svg>"
      ]
     },
     "execution_count": 43,
     "metadata": {},
     "output_type": "execute_result"
    }
   ],
   "source": [
    "%viz --style=\"DEFAULT\" --view=\"MIXED\" \"QualifiedNameImportTest\""
   ]
  },
  {
   "cell_type": "code",
   "execution_count": 44,
   "id": "a04c6dd0",
   "metadata": {
    "execution": {
     "iopub.execute_input": "2021-04-20T07:31:02.638635Z",
     "iopub.status.busy": "2021-04-20T07:31:02.637424Z",
     "iopub.status.idle": "2021-04-20T07:31:02.679287Z",
     "shell.execute_reply": "2021-04-20T07:31:02.678750Z"
    }
   },
   "outputs": [
    {
     "data": {
      "image/svg+xml": [
       "<?xml version=\"1.0\" encoding=\"UTF-8\" standalone=\"no\"?><svg xmlns=\"http://www.w3.org/2000/svg\" xmlns:xlink=\"http://www.w3.org/1999/xlink\" contentScriptType=\"application/ecmascript\" contentStyleType=\"text/css\" height=\"310px\" preserveAspectRatio=\"none\" style=\"width:253px;height:310px;\" version=\"1.1\" viewBox=\"0 0 253 310\" width=\"253px\" zoomAndPan=\"magnify\"><defs/><g><!--MD5=[fbc87193dbaf4d95561dea2c320d4a47]\n",
       "cluster E1--><a href=\"psysml:3aea7368-2129-476d-92d7-ea1a60089676\" target=\"_top\" title=\"psysml:3aea7368-2129-476d-92d7-ea1a60089676\" xlink:actuate=\"onRequest\" xlink:href=\"psysml:3aea7368-2129-476d-92d7-ea1a60089676\" xlink:show=\"new\" xlink:title=\"psysml:3aea7368-2129-476d-92d7-ea1a60089676\" xlink:type=\"simple\"><polygon fill=\"#FFFFFF\" points=\"16,6,221,6,228,28.2969,231,28.2969,231,298,16,298,16,6\" style=\"stroke: #000000; stroke-width: 1.5;\"/><line style=\"stroke: #000000; stroke-width: 1.5;\" x1=\"16\" x2=\"228\" y1=\"28.2969\" y2=\"28.2969\"/><text fill=\"#000000\" font-family=\"sans-serif\" font-size=\"14\" font-weight=\"bold\" lengthAdjust=\"spacingAndGlyphs\" textLength=\"199\" x=\"20\" y=\"20.9951\">QualifiedNameImportTest</text></a><!--MD5=[e4f7fae6ed58524ba242bb0b0d3be6b7]\n",
       "cluster E2--><a href=\"psysml:a60b7189-47ac-4303-8a81-d977466f28db\" target=\"_top\" title=\"psysml:a60b7189-47ac-4303-8a81-d977466f28db\" xlink:actuate=\"onRequest\" xlink:href=\"psysml:a60b7189-47ac-4303-8a81-d977466f28db\" xlink:show=\"new\" xlink:title=\"psysml:a60b7189-47ac-4303-8a81-d977466f28db\" xlink:type=\"simple\"><polygon fill=\"#FFFFFF\" points=\"105,177,131,177,138,199.2969,203,199.2969,203,274,105,274,105,177\" style=\"stroke: #000000; stroke-width: 1.5;\"/><line style=\"stroke: #000000; stroke-width: 1.5;\" x1=\"105\" x2=\"138\" y1=\"199.2969\" y2=\"199.2969\"/><text fill=\"#000000\" font-family=\"sans-serif\" font-size=\"14\" font-weight=\"bold\" lengthAdjust=\"spacingAndGlyphs\" textLength=\"20\" x=\"109\" y=\"191.9951\">P1</text></a><!--MD5=[f6df4d0ebaf0b5dfb2ced0ae5af7c670]\n",
       "cluster E4--><a href=\"psysml:ba53b2aa-0756-4dc5-85cd-737c1d1d7585\" target=\"_top\" title=\"psysml:ba53b2aa-0756-4dc5-85cd-737c1d1d7585\" xlink:actuate=\"onRequest\" xlink:href=\"psysml:ba53b2aa-0756-4dc5-85cd-737c1d1d7585\" xlink:show=\"new\" xlink:title=\"psysml:ba53b2aa-0756-4dc5-85cd-737c1d1d7585\" xlink:type=\"simple\"><polygon fill=\"#FFFFFF\" points=\"44,49,70,49,77,71.2969,203,71.2969,203,153,44,153,44,49\" style=\"stroke: #000000; stroke-width: 1.5;\"/><line style=\"stroke: #000000; stroke-width: 1.5;\" x1=\"44\" x2=\"77\" y1=\"71.2969\" y2=\"71.2969\"/><text fill=\"#000000\" font-family=\"sans-serif\" font-size=\"14\" font-weight=\"bold\" lengthAdjust=\"spacingAndGlyphs\" textLength=\"20\" x=\"48\" y=\"63.9951\">P2</text></a><!--MD5=[09b614a08d8cba4a07c9adeb5e0fee81]\n",
       "class E3--><a href=\"psysml:f2420fd6-3670-4cc8-95b9-f254eed1f95d\" target=\"_top\" title=\"psysml:f2420fd6-3670-4cc8-95b9-f254eed1f95d\" xlink:actuate=\"onRequest\" xlink:href=\"psysml:f2420fd6-3670-4cc8-95b9-f254eed1f95d\" xlink:show=\"new\" xlink:title=\"psysml:f2420fd6-3670-4cc8-95b9-f254eed1f95d\" xlink:type=\"simple\"><rect fill=\"#FFFFFF\" height=\"45.9375\" id=\"E3\" style=\"stroke: #383838; stroke-width: 1.5;\" width=\"66\" x=\"121\" y=\"212\"/><text fill=\"#000000\" font-family=\"sans-serif\" font-size=\"12\" font-style=\"italic\" lengthAdjust=\"spacingAndGlyphs\" textLength=\"64\" x=\"122\" y=\"228.1387\">«part def»</text><text fill=\"#000000\" font-family=\"sans-serif\" font-size=\"12\" lengthAdjust=\"spacingAndGlyphs\" textLength=\"8\" x=\"150\" y=\"242.1074\">A</text><line style=\"stroke: #383838; stroke-width: 1.5;\" x1=\"122\" x2=\"186\" y1=\"249.9375\" y2=\"249.9375\"/></a><!--MD5=[60a26617385b1d2d0262a64233df1f8d]\n",
       "class E6--><a href=\"psysml:9a86ed13-d6c7-4ef9-9e5f-c3e51ac044b3\" target=\"_top\" title=\"psysml:9a86ed13-d6c7-4ef9-9e5f-c3e51ac044b3\" xlink:actuate=\"onRequest\" xlink:href=\"psysml:9a86ed13-d6c7-4ef9-9e5f-c3e51ac044b3\" xlink:show=\"new\" xlink:title=\"psysml:9a86ed13-d6c7-4ef9-9e5f-c3e51ac044b3\" xlink:type=\"simple\"><rect fill=\"#FFFFFF\" height=\"45.9375\" id=\"E6\" rx=\"10\" ry=\"10\" style=\"stroke: #383838; stroke-width: 1.5;\" width=\"42\" x=\"145\" y=\"87.5\"/><text fill=\"#000000\" font-family=\"sans-serif\" font-size=\"12\" font-style=\"italic\" lengthAdjust=\"spacingAndGlyphs\" textLength=\"40\" x=\"146\" y=\"103.6387\">«part»</text><text fill=\"#000000\" font-family=\"sans-serif\" font-size=\"12\" lengthAdjust=\"spacingAndGlyphs\" textLength=\"22\" x=\"155\" y=\"117.6074\">x: A</text><line style=\"stroke: #383838; stroke-width: 1.5;\" x1=\"146\" x2=\"186\" y1=\"125.4375\" y2=\"125.4375\"/></a><a href=\"psysml:e63557be-f486-40b8-b38f-45a287622fd5\" target=\"_top\" title=\"psysml:e63557be-f486-40b8-b38f-45a287622fd5\" xlink:actuate=\"onRequest\" xlink:href=\"psysml:e63557be-f486-40b8-b38f-45a287622fd5\" xlink:show=\"new\" xlink:title=\"psysml:e63557be-f486-40b8-b38f-45a287622fd5\" xlink:type=\"simple\"><polygon fill=\"#FFFFFF\" points=\"60.5,84,95.5,84,102.5,106.2969,109.5,106.2969,109.5,136.5938,60.5,136.5938,60.5,84\" style=\"stroke: #000000; stroke-width: 1.5;\"/><line style=\"stroke: #000000; stroke-width: 1.5;\" x1=\"60.5\" x2=\"102.5\" y1=\"106.2969\" y2=\"106.2969\"/><text fill=\"#000000\" font-family=\"sans-serif\" font-size=\"14\" font-weight=\"bold\" lengthAdjust=\"spacingAndGlyphs\" textLength=\"29\" x=\"64.5\" y=\"98.9951\">P2a</text></a><!--MD5=[a717450b82c80b9240a525fa862496af]\n",
       "link E6 to E3--><a href=\"psysml:9d868367-c6cc-4e4e-a580-36a1751bbca7\" target=\"_top\" title=\"psysml:9d868367-c6cc-4e4e-a580-36a1751bbca7\" xlink:actuate=\"onRequest\" xlink:href=\"psysml:9d868367-c6cc-4e4e-a580-36a1751bbca7\" xlink:show=\"new\" xlink:title=\"psysml:9d868367-c6cc-4e4e-a580-36a1751bbca7\" xlink:type=\"simple\"><path d=\"M163.83,133.68 C162.24,149.9 160.04,172.39 158.12,191.96 \" fill=\"none\" id=\"E6-&gt;E3\" style=\"stroke: #383838; stroke-width: 1.0;\"/><polygon fill=\"#FFFFFF\" points=\"156.16,211.98,151.0533,192.3861,164.986,193.7564,156.16,211.98\" style=\"stroke: #383838; stroke-width: 1.0;\"/><ellipse cx=\"153.6016\" cy=\"186.9092\" fill=\"#383838\" rx=\"2\" ry=\"2\" style=\"stroke: #383838; stroke-width: 1.0;\"/><ellipse cx=\"163.5535\" cy=\"187.888\" fill=\"#383838\" rx=\"2\" ry=\"2\" style=\"stroke: #383838; stroke-width: 1.0;\"/></a><!--MD5=[29163dc638f6803ca257257321341f18]\n",
       "@startuml\r\n",
       "top to bottom direction\r\n",
       "skinparam monochrome true\r\n",
       "skinparam classbackgroundcolor white\r\n",
       "skinparam shadowing false\r\n",
       "skinparam wrapWidth 300\r\n",
       "hide circle\r\n",
       "\r\n",
       "package \"QualifiedNameImportTest\" as E1  [[psysml:3aea7368-2129-476d-92d7-ea1a60089676 ]]  {\r\n",
       "package \"P1\" as E2  [[psysml:a60b7189-47ac-4303-8a81-d977466f28db ]]  {\r\n",
       "comp def \"A\" as E3  <<(T,blue)part def>> [[psysml:f2420fd6-3670-4cc8-95b9-f254eed1f95d ]] {\r\n",
       "}\r\n",
       "}\r\n",
       "package \"P2\" as E4  [[psysml:ba53b2aa-0756-4dc5-85cd-737c1d1d7585 ]]  {\r\n",
       "package \"P2a\" as E5  [[psysml:e63557be-f486-40b8-b38f-45a287622fd5 ]]  {\r\n",
       "}\r\n",
       "comp usage \"x: A\" as E6  <<(T,blue)part>> [[psysml:9a86ed13-d6c7-4ef9-9e5f-c3e51ac044b3 ]] {\r\n",
       "}\r\n",
       "E6 - -:|> E3 [[psysml:9d868367-c6cc-4e4e-a580-36a1751bbca7 ]] \r\n",
       "}\r\n",
       "}\r\n",
       "@enduml\r\n",
       "\n",
       "PlantUML version 1.2020.13(Sat Jun 13 12:26:38 UTC 2020)\n",
       "(EPL source distribution)\n",
       "Java Runtime: OpenJDK Runtime Environment\n",
       "JVM: OpenJDK 64-Bit Server VM\n",
       "Default Encoding: UTF-8\n",
       "Language: en\n",
       "Country: null\n",
       "--></g></svg>"
      ]
     },
     "execution_count": 44,
     "metadata": {},
     "output_type": "execute_result"
    }
   ],
   "source": [
    "%viz --style=\"TB\" --view=\"Default\" \"QualifiedNameImportTest\""
   ]
  },
  {
   "cell_type": "code",
   "execution_count": 45,
   "id": "8a997637",
   "metadata": {
    "execution": {
     "iopub.execute_input": "2021-04-20T07:31:02.729111Z",
     "iopub.status.busy": "2021-04-20T07:31:02.728378Z",
     "iopub.status.idle": "2021-04-20T07:31:02.770938Z",
     "shell.execute_reply": "2021-04-20T07:31:02.770484Z"
    }
   },
   "outputs": [
    {
     "data": {
      "image/svg+xml": [
       "<?xml version=\"1.0\" encoding=\"UTF-8\" standalone=\"no\"?><svg xmlns=\"http://www.w3.org/2000/svg\" xmlns:xlink=\"http://www.w3.org/1999/xlink\" contentScriptType=\"application/ecmascript\" contentStyleType=\"text/css\" height=\"310px\" preserveAspectRatio=\"none\" style=\"width:253px;height:310px;\" version=\"1.1\" viewBox=\"0 0 253 310\" width=\"253px\" zoomAndPan=\"magnify\"><defs/><g><!--MD5=[fbc87193dbaf4d95561dea2c320d4a47]\n",
       "cluster E1--><a href=\"psysml:3aea7368-2129-476d-92d7-ea1a60089676\" target=\"_top\" title=\"psysml:3aea7368-2129-476d-92d7-ea1a60089676\" xlink:actuate=\"onRequest\" xlink:href=\"psysml:3aea7368-2129-476d-92d7-ea1a60089676\" xlink:show=\"new\" xlink:title=\"psysml:3aea7368-2129-476d-92d7-ea1a60089676\" xlink:type=\"simple\"><polygon fill=\"#FFFFFF\" points=\"16,6,221,6,228,28.2969,231,28.2969,231,298,16,298,16,6\" style=\"stroke: #000000; stroke-width: 1.5;\"/><line style=\"stroke: #000000; stroke-width: 1.5;\" x1=\"16\" x2=\"228\" y1=\"28.2969\" y2=\"28.2969\"/><text fill=\"#000000\" font-family=\"sans-serif\" font-size=\"14\" font-weight=\"bold\" lengthAdjust=\"spacingAndGlyphs\" textLength=\"199\" x=\"20\" y=\"20.9951\">QualifiedNameImportTest</text></a><!--MD5=[e4f7fae6ed58524ba242bb0b0d3be6b7]\n",
       "cluster E2--><a href=\"psysml:a60b7189-47ac-4303-8a81-d977466f28db\" target=\"_top\" title=\"psysml:a60b7189-47ac-4303-8a81-d977466f28db\" xlink:actuate=\"onRequest\" xlink:href=\"psysml:a60b7189-47ac-4303-8a81-d977466f28db\" xlink:show=\"new\" xlink:title=\"psysml:a60b7189-47ac-4303-8a81-d977466f28db\" xlink:type=\"simple\"><polygon fill=\"#FFFFFF\" points=\"105,177,131,177,138,199.2969,203,199.2969,203,274,105,274,105,177\" style=\"stroke: #000000; stroke-width: 1.5;\"/><line style=\"stroke: #000000; stroke-width: 1.5;\" x1=\"105\" x2=\"138\" y1=\"199.2969\" y2=\"199.2969\"/><text fill=\"#000000\" font-family=\"sans-serif\" font-size=\"14\" font-weight=\"bold\" lengthAdjust=\"spacingAndGlyphs\" textLength=\"20\" x=\"109\" y=\"191.9951\">P1</text></a><!--MD5=[f6df4d0ebaf0b5dfb2ced0ae5af7c670]\n",
       "cluster E4--><a href=\"psysml:ba53b2aa-0756-4dc5-85cd-737c1d1d7585\" target=\"_top\" title=\"psysml:ba53b2aa-0756-4dc5-85cd-737c1d1d7585\" xlink:actuate=\"onRequest\" xlink:href=\"psysml:ba53b2aa-0756-4dc5-85cd-737c1d1d7585\" xlink:show=\"new\" xlink:title=\"psysml:ba53b2aa-0756-4dc5-85cd-737c1d1d7585\" xlink:type=\"simple\"><polygon fill=\"#FFFFFF\" points=\"44,49,70,49,77,71.2969,203,71.2969,203,153,44,153,44,49\" style=\"stroke: #000000; stroke-width: 1.5;\"/><line style=\"stroke: #000000; stroke-width: 1.5;\" x1=\"44\" x2=\"77\" y1=\"71.2969\" y2=\"71.2969\"/><text fill=\"#000000\" font-family=\"sans-serif\" font-size=\"14\" font-weight=\"bold\" lengthAdjust=\"spacingAndGlyphs\" textLength=\"20\" x=\"48\" y=\"63.9951\">P2</text></a><!--MD5=[09b614a08d8cba4a07c9adeb5e0fee81]\n",
       "class E3--><a href=\"psysml:f2420fd6-3670-4cc8-95b9-f254eed1f95d\" target=\"_top\" title=\"psysml:f2420fd6-3670-4cc8-95b9-f254eed1f95d\" xlink:actuate=\"onRequest\" xlink:href=\"psysml:f2420fd6-3670-4cc8-95b9-f254eed1f95d\" xlink:show=\"new\" xlink:title=\"psysml:f2420fd6-3670-4cc8-95b9-f254eed1f95d\" xlink:type=\"simple\"><rect fill=\"#FFFFFF\" height=\"45.9375\" id=\"E3\" style=\"stroke: #383838; stroke-width: 1.5;\" width=\"66\" x=\"121\" y=\"212\"/><text fill=\"#000000\" font-family=\"sans-serif\" font-size=\"12\" font-style=\"italic\" lengthAdjust=\"spacingAndGlyphs\" textLength=\"64\" x=\"122\" y=\"228.1387\">«part def»</text><text fill=\"#000000\" font-family=\"sans-serif\" font-size=\"12\" lengthAdjust=\"spacingAndGlyphs\" textLength=\"8\" x=\"150\" y=\"242.1074\">A</text><line style=\"stroke: #383838; stroke-width: 1.5;\" x1=\"122\" x2=\"186\" y1=\"249.9375\" y2=\"249.9375\"/></a><!--MD5=[60a26617385b1d2d0262a64233df1f8d]\n",
       "class E6--><a href=\"psysml:9a86ed13-d6c7-4ef9-9e5f-c3e51ac044b3\" target=\"_top\" title=\"psysml:9a86ed13-d6c7-4ef9-9e5f-c3e51ac044b3\" xlink:actuate=\"onRequest\" xlink:href=\"psysml:9a86ed13-d6c7-4ef9-9e5f-c3e51ac044b3\" xlink:show=\"new\" xlink:title=\"psysml:9a86ed13-d6c7-4ef9-9e5f-c3e51ac044b3\" xlink:type=\"simple\"><rect fill=\"#FFFFFF\" height=\"45.9375\" id=\"E6\" rx=\"10\" ry=\"10\" style=\"stroke: #383838; stroke-width: 1.5;\" width=\"42\" x=\"145\" y=\"87.5\"/><text fill=\"#000000\" font-family=\"sans-serif\" font-size=\"12\" font-style=\"italic\" lengthAdjust=\"spacingAndGlyphs\" textLength=\"40\" x=\"146\" y=\"103.6387\">«part»</text><text fill=\"#000000\" font-family=\"sans-serif\" font-size=\"12\" lengthAdjust=\"spacingAndGlyphs\" textLength=\"22\" x=\"155\" y=\"117.6074\">x: A</text><line style=\"stroke: #383838; stroke-width: 1.5;\" x1=\"146\" x2=\"186\" y1=\"125.4375\" y2=\"125.4375\"/></a><a href=\"psysml:e63557be-f486-40b8-b38f-45a287622fd5\" target=\"_top\" title=\"psysml:e63557be-f486-40b8-b38f-45a287622fd5\" xlink:actuate=\"onRequest\" xlink:href=\"psysml:e63557be-f486-40b8-b38f-45a287622fd5\" xlink:show=\"new\" xlink:title=\"psysml:e63557be-f486-40b8-b38f-45a287622fd5\" xlink:type=\"simple\"><polygon fill=\"#FFFFFF\" points=\"60.5,84,95.5,84,102.5,106.2969,109.5,106.2969,109.5,136.5938,60.5,136.5938,60.5,84\" style=\"stroke: #000000; stroke-width: 1.5;\"/><line style=\"stroke: #000000; stroke-width: 1.5;\" x1=\"60.5\" x2=\"102.5\" y1=\"106.2969\" y2=\"106.2969\"/><text fill=\"#000000\" font-family=\"sans-serif\" font-size=\"14\" font-weight=\"bold\" lengthAdjust=\"spacingAndGlyphs\" textLength=\"29\" x=\"64.5\" y=\"98.9951\">P2a</text></a><!--MD5=[a717450b82c80b9240a525fa862496af]\n",
       "link E6 to E3--><a href=\"psysml:9d868367-c6cc-4e4e-a580-36a1751bbca7\" target=\"_top\" title=\"psysml:9d868367-c6cc-4e4e-a580-36a1751bbca7\" xlink:actuate=\"onRequest\" xlink:href=\"psysml:9d868367-c6cc-4e4e-a580-36a1751bbca7\" xlink:show=\"new\" xlink:title=\"psysml:9d868367-c6cc-4e4e-a580-36a1751bbca7\" xlink:type=\"simple\"><path d=\"M163.83,133.68 C162.24,149.9 160.04,172.39 158.12,191.96 \" fill=\"none\" id=\"E6-&gt;E3\" style=\"stroke: #383838; stroke-width: 1.0;\"/><polygon fill=\"#FFFFFF\" points=\"156.16,211.98,151.0533,192.3861,164.986,193.7564,156.16,211.98\" style=\"stroke: #383838; stroke-width: 1.0;\"/><ellipse cx=\"153.6016\" cy=\"186.9092\" fill=\"#383838\" rx=\"2\" ry=\"2\" style=\"stroke: #383838; stroke-width: 1.0;\"/><ellipse cx=\"163.5535\" cy=\"187.888\" fill=\"#383838\" rx=\"2\" ry=\"2\" style=\"stroke: #383838; stroke-width: 1.0;\"/></a><!--MD5=[29163dc638f6803ca257257321341f18]\n",
       "@startuml\r\n",
       "top to bottom direction\r\n",
       "skinparam monochrome true\r\n",
       "skinparam classbackgroundcolor white\r\n",
       "skinparam shadowing false\r\n",
       "skinparam wrapWidth 300\r\n",
       "hide circle\r\n",
       "\r\n",
       "package \"QualifiedNameImportTest\" as E1  [[psysml:3aea7368-2129-476d-92d7-ea1a60089676 ]]  {\r\n",
       "package \"P1\" as E2  [[psysml:a60b7189-47ac-4303-8a81-d977466f28db ]]  {\r\n",
       "comp def \"A\" as E3  <<(T,blue)part def>> [[psysml:f2420fd6-3670-4cc8-95b9-f254eed1f95d ]] {\r\n",
       "}\r\n",
       "}\r\n",
       "package \"P2\" as E4  [[psysml:ba53b2aa-0756-4dc5-85cd-737c1d1d7585 ]]  {\r\n",
       "package \"P2a\" as E5  [[psysml:e63557be-f486-40b8-b38f-45a287622fd5 ]]  {\r\n",
       "}\r\n",
       "comp usage \"x: A\" as E6  <<(T,blue)part>> [[psysml:9a86ed13-d6c7-4ef9-9e5f-c3e51ac044b3 ]] {\r\n",
       "}\r\n",
       "E6 - -:|> E3 [[psysml:9d868367-c6cc-4e4e-a580-36a1751bbca7 ]] \r\n",
       "}\r\n",
       "}\r\n",
       "@enduml\r\n",
       "\n",
       "PlantUML version 1.2020.13(Sat Jun 13 12:26:38 UTC 2020)\n",
       "(EPL source distribution)\n",
       "Java Runtime: OpenJDK Runtime Environment\n",
       "JVM: OpenJDK 64-Bit Server VM\n",
       "Default Encoding: UTF-8\n",
       "Language: en\n",
       "Country: null\n",
       "--></g></svg>"
      ]
     },
     "execution_count": 45,
     "metadata": {},
     "output_type": "execute_result"
    }
   ],
   "source": [
    "%viz --style=\"TB\" --view=\"Tree\" \"QualifiedNameImportTest\""
   ]
  },
  {
   "cell_type": "code",
   "execution_count": 46,
   "id": "29707f22",
   "metadata": {
    "execution": {
     "iopub.execute_input": "2021-04-20T07:31:02.821439Z",
     "iopub.status.busy": "2021-04-20T07:31:02.820982Z",
     "iopub.status.idle": "2021-04-20T07:31:02.828839Z",
     "shell.execute_reply": "2021-04-20T07:31:02.828229Z"
    }
   },
   "outputs": [
    {
     "data": {
      "image/svg+xml": [
       "<?xml version=\"1.0\" encoding=\"UTF-8\" standalone=\"no\"?><svg xmlns=\"http://www.w3.org/2000/svg\" xmlns:xlink=\"http://www.w3.org/1999/xlink\" contentScriptType=\"application/ecmascript\" contentStyleType=\"text/css\" height=\"12px\" preserveAspectRatio=\"none\" style=\"width:12px;height:12px;\" version=\"1.1\" viewBox=\"0 0 12 12\" width=\"12px\" zoomAndPan=\"magnify\"><defs/><g><!--MD5=[f4ee21bc66e489b5061b7c3e9601fdef]\n",
       "@startuml\r\n",
       "top to bottom direction\r\n",
       "skinparam monochrome true\r\n",
       "skinparam classbackgroundcolor white\r\n",
       "skinparam shadowing false\r\n",
       "skinparam wrapWidth 300\r\n",
       "hide circle\r\n",
       "\r\n",
       "@enduml\r\n",
       "\n",
       "PlantUML version 1.2020.13(Sat Jun 13 12:26:38 UTC 2020)\n",
       "(EPL source distribution)\n",
       "Java Runtime: OpenJDK Runtime Environment\n",
       "JVM: OpenJDK 64-Bit Server VM\n",
       "Default Encoding: UTF-8\n",
       "Language: en\n",
       "Country: null\n",
       "--></g></svg>"
      ]
     },
     "execution_count": 46,
     "metadata": {},
     "output_type": "execute_result"
    }
   ],
   "source": [
    "%viz --style=\"TB\" --view=\"State\" \"QualifiedNameImportTest\""
   ]
  },
  {
   "cell_type": "code",
   "execution_count": 47,
   "id": "97cd230c",
   "metadata": {
    "execution": {
     "iopub.execute_input": "2021-04-20T07:31:02.885814Z",
     "iopub.status.busy": "2021-04-20T07:31:02.882525Z",
     "iopub.status.idle": "2021-04-20T07:31:02.936701Z",
     "shell.execute_reply": "2021-04-20T07:31:02.935835Z"
    }
   },
   "outputs": [
    {
     "data": {
      "image/svg+xml": [
       "<?xml version=\"1.0\" encoding=\"UTF-8\" standalone=\"no\"?><svg xmlns=\"http://www.w3.org/2000/svg\" xmlns:xlink=\"http://www.w3.org/1999/xlink\" contentScriptType=\"application/ecmascript\" contentStyleType=\"text/css\" height=\"189px\" preserveAspectRatio=\"none\" style=\"width:381px;height:189px;\" version=\"1.1\" viewBox=\"0 0 381 189\" width=\"381px\" zoomAndPan=\"magnify\"><defs/><g><!--MD5=[fbc87193dbaf4d95561dea2c320d4a47]\n",
       "cluster E1--><a href=\"psysml:3aea7368-2129-476d-92d7-ea1a60089676\" target=\"_top\" title=\"psysml:3aea7368-2129-476d-92d7-ea1a60089676\" xlink:actuate=\"onRequest\" xlink:href=\"psysml:3aea7368-2129-476d-92d7-ea1a60089676\" xlink:show=\"new\" xlink:title=\"psysml:3aea7368-2129-476d-92d7-ea1a60089676\" xlink:type=\"simple\"><polygon fill=\"#FFFFFF\" points=\"16,6,221,6,228,28.2969,359,28.2969,359,177,16,177,16,6\" style=\"stroke: #000000; stroke-width: 1.5;\"/><line style=\"stroke: #000000; stroke-width: 1.5;\" x1=\"16\" x2=\"228\" y1=\"28.2969\" y2=\"28.2969\"/><text fill=\"#000000\" font-family=\"sans-serif\" font-size=\"14\" font-weight=\"bold\" lengthAdjust=\"spacingAndGlyphs\" textLength=\"199\" x=\"20\" y=\"20.9951\">QualifiedNameImportTest</text></a><!--MD5=[e4f7fae6ed58524ba242bb0b0d3be6b7]\n",
       "cluster E2--><a href=\"psysml:a60b7189-47ac-4303-8a81-d977466f28db\" target=\"_top\" title=\"psysml:a60b7189-47ac-4303-8a81-d977466f28db\" xlink:actuate=\"onRequest\" xlink:href=\"psysml:a60b7189-47ac-4303-8a81-d977466f28db\" xlink:show=\"new\" xlink:title=\"psysml:a60b7189-47ac-4303-8a81-d977466f28db\" xlink:type=\"simple\"><polygon fill=\"#FFFFFF\" points=\"231,54,257,54,264,76.2969,335,76.2969,335,148,231,148,231,54\" style=\"stroke: #000000; stroke-width: 1.5;\"/><line style=\"stroke: #000000; stroke-width: 1.5;\" x1=\"231\" x2=\"264\" y1=\"76.2969\" y2=\"76.2969\"/><text fill=\"#000000\" font-family=\"sans-serif\" font-size=\"14\" font-weight=\"bold\" lengthAdjust=\"spacingAndGlyphs\" textLength=\"20\" x=\"235\" y=\"68.9951\">P1</text></a><!--MD5=[f6df4d0ebaf0b5dfb2ced0ae5af7c670]\n",
       "cluster E4--><a href=\"psysml:ba53b2aa-0756-4dc5-85cd-737c1d1d7585\" target=\"_top\" title=\"psysml:ba53b2aa-0756-4dc5-85cd-737c1d1d7585\" xlink:actuate=\"onRequest\" xlink:href=\"psysml:ba53b2aa-0756-4dc5-85cd-737c1d1d7585\" xlink:show=\"new\" xlink:title=\"psysml:ba53b2aa-0756-4dc5-85cd-737c1d1d7585\" xlink:type=\"simple\"><polygon fill=\"#FFFFFF\" points=\"40,49,66,49,73,71.2969,207,71.2969,207,153,40,153,40,49\" style=\"stroke: #000000; stroke-width: 1.5;\"/><line style=\"stroke: #000000; stroke-width: 1.5;\" x1=\"40\" x2=\"73\" y1=\"71.2969\" y2=\"71.2969\"/><text fill=\"#000000\" font-family=\"sans-serif\" font-size=\"14\" font-weight=\"bold\" lengthAdjust=\"spacingAndGlyphs\" textLength=\"20\" x=\"44\" y=\"63.9951\">P2</text></a><g id=\"E1.E2.E3\"><a href=\"psysml:f2420fd6-3670-4cc8-95b9-f254eed1f95d\" target=\"_top\" title=\"psysml:f2420fd6-3670-4cc8-95b9-f254eed1f95d\" xlink:actuate=\"onRequest\" xlink:href=\"psysml:f2420fd6-3670-4cc8-95b9-f254eed1f95d\" xlink:show=\"new\" xlink:title=\"psysml:f2420fd6-3670-4cc8-95b9-f254eed1f95d\" xlink:type=\"simple\"><rect fill=\"#FFFFFF\" height=\"42.9375\" id=\"E3\" style=\"stroke: #383838; stroke-width: 1.5;\" width=\"71\" x=\"247.5\" y=\"89\"/><rect fill=\"#F8F8F8\" height=\"37.9375\" style=\"stroke: #383838; stroke-width: 1.5;\" width=\"71\" x=\"247.5\" y=\"89\"/><text fill=\"#000000\" font-family=\"sans-serif\" font-size=\"12\" font-style=\"italic\" lengthAdjust=\"spacingAndGlyphs\" textLength=\"64\" x=\"251\" y=\"105.1387\">«part def»</text><text fill=\"#000000\" font-family=\"sans-serif\" font-size=\"12\" lengthAdjust=\"spacingAndGlyphs\" textLength=\"8\" x=\"279\" y=\"119.1074\">A</text></a></g><a href=\"psysml:e63557be-f486-40b8-b38f-45a287622fd5\" target=\"_top\" title=\"psysml:e63557be-f486-40b8-b38f-45a287622fd5\" xlink:actuate=\"onRequest\" xlink:href=\"psysml:e63557be-f486-40b8-b38f-45a287622fd5\" xlink:show=\"new\" xlink:title=\"psysml:e63557be-f486-40b8-b38f-45a287622fd5\" xlink:type=\"simple\"><polygon fill=\"#FFFFFF\" points=\"141.5,84,176.5,84,183.5,106.2969,190.5,106.2969,190.5,136.5938,141.5,136.5938,141.5,84\" style=\"stroke: #000000; stroke-width: 1.5;\"/><line style=\"stroke: #000000; stroke-width: 1.5;\" x1=\"141.5\" x2=\"183.5\" y1=\"106.2969\" y2=\"106.2969\"/><text fill=\"#000000\" font-family=\"sans-serif\" font-size=\"14\" font-weight=\"bold\" lengthAdjust=\"spacingAndGlyphs\" textLength=\"29\" x=\"145.5\" y=\"98.9951\">P2a</text></a><g id=\"E1.E4.E6\"><a href=\"psysml:9a86ed13-d6c7-4ef9-9e5f-c3e51ac044b3\" target=\"_top\" title=\"psysml:9a86ed13-d6c7-4ef9-9e5f-c3e51ac044b3\" xlink:actuate=\"onRequest\" xlink:href=\"psysml:9a86ed13-d6c7-4ef9-9e5f-c3e51ac044b3\" xlink:show=\"new\" xlink:title=\"psysml:9a86ed13-d6c7-4ef9-9e5f-c3e51ac044b3\" xlink:type=\"simple\"><rect fill=\"#FFFFFF\" height=\"40\" id=\"E6\" rx=\"10\" ry=\"10\" style=\"stroke: #383838; stroke-width: 1.5;\" width=\"50\" x=\"56\" y=\"90.5\"/><rect fill=\"#F8F8F8\" height=\"23.9688\" rx=\"10\" ry=\"10\" style=\"stroke: #F8F8F8; stroke-width: 1.5;\" width=\"50\" x=\"56\" y=\"90.5\"/><rect fill=\"#F8F8F8\" height=\"10\" style=\"stroke: #F8F8F8; stroke-width: 1.5;\" width=\"50\" x=\"56\" y=\"104.4688\"/><rect fill=\"none\" height=\"40\" id=\"E6\" rx=\"10\" ry=\"10\" style=\"stroke: #383838; stroke-width: 1.5;\" width=\"50\" x=\"56\" y=\"90.5\"/><text fill=\"#000000\" font-family=\"sans-serif\" font-size=\"12\" lengthAdjust=\"spacingAndGlyphs\" textLength=\"22\" x=\"70\" y=\"106.6387\">x: A</text></a></g><!--MD5=[32b7f5d72f3b88d3f88e6ff215804975]\n",
       "@startuml\r\n",
       "skinparam ranksep 10\r\n",
       "skinparam rectangle {\r\n",
       " backgroundColor<<block>> LightGreen\r\n",
       "}\r\n",
       "top to bottom direction\r\n",
       "skinparam monochrome true\r\n",
       "skinparam classbackgroundcolor white\r\n",
       "skinparam shadowing false\r\n",
       "skinparam wrapWidth 300\r\n",
       "hide circle\r\n",
       "\r\n",
       "package \"QualifiedNameImportTest\" as E1  [[psysml:3aea7368-2129-476d-92d7-ea1a60089676 ]]  {\r\n",
       "package \"P1\" as E2  [[psysml:a60b7189-47ac-4303-8a81-d977466f28db ]]  {\r\n",
       "rec def \"A\" as E3  <<(T,blue)part def>> [[psysml:f2420fd6-3670-4cc8-95b9-f254eed1f95d ]] {\r\n",
       "}\r\n",
       "}\r\n",
       "package \"P2\" as E4  [[psysml:ba53b2aa-0756-4dc5-85cd-737c1d1d7585 ]]  {\r\n",
       "package \"P2a\" as E5  [[psysml:e63557be-f486-40b8-b38f-45a287622fd5 ]]  {\r\n",
       "}\r\n",
       "rec usage \"x: A\" as E6  [[psysml:9a86ed13-d6c7-4ef9-9e5f-c3e51ac044b3 ]] {\r\n",
       "}\r\n",
       "}\r\n",
       "}\r\n",
       "@enduml\r\n",
       "\n",
       "PlantUML version 1.2020.13(Sat Jun 13 12:26:38 UTC 2020)\n",
       "(EPL source distribution)\n",
       "Java Runtime: OpenJDK Runtime Environment\n",
       "JVM: OpenJDK 64-Bit Server VM\n",
       "Default Encoding: UTF-8\n",
       "Language: en\n",
       "Country: null\n",
       "--></g></svg>"
      ]
     },
     "execution_count": 47,
     "metadata": {},
     "output_type": "execute_result"
    }
   ],
   "source": [
    "%viz --style=\"TB\" --view=\"Interconnection\" \"QualifiedNameImportTest\""
   ]
  },
  {
   "cell_type": "code",
   "execution_count": 48,
   "id": "1876334d",
   "metadata": {
    "execution": {
     "iopub.execute_input": "2021-04-20T07:31:02.986377Z",
     "iopub.status.busy": "2021-04-20T07:31:02.985718Z",
     "iopub.status.idle": "2021-04-20T07:31:02.990727Z",
     "shell.execute_reply": "2021-04-20T07:31:02.990285Z"
    }
   },
   "outputs": [
    {
     "data": {
      "image/svg+xml": [
       "<?xml version=\"1.0\" encoding=\"UTF-8\" standalone=\"no\"?><svg xmlns=\"http://www.w3.org/2000/svg\" xmlns:xlink=\"http://www.w3.org/1999/xlink\" contentScriptType=\"application/ecmascript\" contentStyleType=\"text/css\" height=\"12px\" preserveAspectRatio=\"none\" style=\"width:12px;height:12px;\" version=\"1.1\" viewBox=\"0 0 12 12\" width=\"12px\" zoomAndPan=\"magnify\"><defs/><g><!--MD5=[06afc254b03ac5e9d9fb7773b07d0800]\n",
       "@startuml\r\n",
       "skinparam ranksep 8\r\n",
       "top to bottom direction\r\n",
       "skinparam monochrome true\r\n",
       "skinparam classbackgroundcolor white\r\n",
       "skinparam shadowing false\r\n",
       "skinparam wrapWidth 300\r\n",
       "hide circle\r\n",
       "\r\n",
       "@enduml\r\n",
       "\n",
       "PlantUML version 1.2020.13(Sat Jun 13 12:26:38 UTC 2020)\n",
       "(EPL source distribution)\n",
       "Java Runtime: OpenJDK Runtime Environment\n",
       "JVM: OpenJDK 64-Bit Server VM\n",
       "Default Encoding: UTF-8\n",
       "Language: en\n",
       "Country: null\n",
       "--></g></svg>"
      ]
     },
     "execution_count": 48,
     "metadata": {},
     "output_type": "execute_result"
    }
   ],
   "source": [
    "%viz --style=\"TB\" --view=\"Action\" \"QualifiedNameImportTest\""
   ]
  },
  {
   "cell_type": "code",
   "execution_count": 49,
   "id": "f53ad593",
   "metadata": {
    "execution": {
     "iopub.execute_input": "2021-04-20T07:31:03.041637Z",
     "iopub.status.busy": "2021-04-20T07:31:03.041044Z",
     "iopub.status.idle": "2021-04-20T07:31:03.081410Z",
     "shell.execute_reply": "2021-04-20T07:31:03.080328Z"
    }
   },
   "outputs": [
    {
     "data": {
      "image/svg+xml": [
       "<?xml version=\"1.0\" encoding=\"UTF-8\" standalone=\"no\"?><svg xmlns=\"http://www.w3.org/2000/svg\" xmlns:xlink=\"http://www.w3.org/1999/xlink\" contentScriptType=\"application/ecmascript\" contentStyleType=\"text/css\" height=\"310px\" preserveAspectRatio=\"none\" style=\"width:253px;height:310px;\" version=\"1.1\" viewBox=\"0 0 253 310\" width=\"253px\" zoomAndPan=\"magnify\"><defs/><g><!--MD5=[fbc87193dbaf4d95561dea2c320d4a47]\n",
       "cluster E1--><a href=\"psysml:3aea7368-2129-476d-92d7-ea1a60089676\" target=\"_top\" title=\"psysml:3aea7368-2129-476d-92d7-ea1a60089676\" xlink:actuate=\"onRequest\" xlink:href=\"psysml:3aea7368-2129-476d-92d7-ea1a60089676\" xlink:show=\"new\" xlink:title=\"psysml:3aea7368-2129-476d-92d7-ea1a60089676\" xlink:type=\"simple\"><polygon fill=\"#FFFFFF\" points=\"16,6,221,6,228,28.2969,231,28.2969,231,298,16,298,16,6\" style=\"stroke: #000000; stroke-width: 1.5;\"/><line style=\"stroke: #000000; stroke-width: 1.5;\" x1=\"16\" x2=\"228\" y1=\"28.2969\" y2=\"28.2969\"/><text fill=\"#000000\" font-family=\"sans-serif\" font-size=\"14\" font-weight=\"bold\" lengthAdjust=\"spacingAndGlyphs\" textLength=\"199\" x=\"20\" y=\"20.9951\">QualifiedNameImportTest</text></a><!--MD5=[e4f7fae6ed58524ba242bb0b0d3be6b7]\n",
       "cluster E2--><a href=\"psysml:a60b7189-47ac-4303-8a81-d977466f28db\" target=\"_top\" title=\"psysml:a60b7189-47ac-4303-8a81-d977466f28db\" xlink:actuate=\"onRequest\" xlink:href=\"psysml:a60b7189-47ac-4303-8a81-d977466f28db\" xlink:show=\"new\" xlink:title=\"psysml:a60b7189-47ac-4303-8a81-d977466f28db\" xlink:type=\"simple\"><polygon fill=\"#FFFFFF\" points=\"105,177,131,177,138,199.2969,203,199.2969,203,274,105,274,105,177\" style=\"stroke: #000000; stroke-width: 1.5;\"/><line style=\"stroke: #000000; stroke-width: 1.5;\" x1=\"105\" x2=\"138\" y1=\"199.2969\" y2=\"199.2969\"/><text fill=\"#000000\" font-family=\"sans-serif\" font-size=\"14\" font-weight=\"bold\" lengthAdjust=\"spacingAndGlyphs\" textLength=\"20\" x=\"109\" y=\"191.9951\">P1</text></a><!--MD5=[f6df4d0ebaf0b5dfb2ced0ae5af7c670]\n",
       "cluster E4--><a href=\"psysml:ba53b2aa-0756-4dc5-85cd-737c1d1d7585\" target=\"_top\" title=\"psysml:ba53b2aa-0756-4dc5-85cd-737c1d1d7585\" xlink:actuate=\"onRequest\" xlink:href=\"psysml:ba53b2aa-0756-4dc5-85cd-737c1d1d7585\" xlink:show=\"new\" xlink:title=\"psysml:ba53b2aa-0756-4dc5-85cd-737c1d1d7585\" xlink:type=\"simple\"><polygon fill=\"#FFFFFF\" points=\"44,49,70,49,77,71.2969,203,71.2969,203,153,44,153,44,49\" style=\"stroke: #000000; stroke-width: 1.5;\"/><line style=\"stroke: #000000; stroke-width: 1.5;\" x1=\"44\" x2=\"77\" y1=\"71.2969\" y2=\"71.2969\"/><text fill=\"#000000\" font-family=\"sans-serif\" font-size=\"14\" font-weight=\"bold\" lengthAdjust=\"spacingAndGlyphs\" textLength=\"20\" x=\"48\" y=\"63.9951\">P2</text></a><!--MD5=[09b614a08d8cba4a07c9adeb5e0fee81]\n",
       "class E3--><a href=\"psysml:f2420fd6-3670-4cc8-95b9-f254eed1f95d\" target=\"_top\" title=\"psysml:f2420fd6-3670-4cc8-95b9-f254eed1f95d\" xlink:actuate=\"onRequest\" xlink:href=\"psysml:f2420fd6-3670-4cc8-95b9-f254eed1f95d\" xlink:show=\"new\" xlink:title=\"psysml:f2420fd6-3670-4cc8-95b9-f254eed1f95d\" xlink:type=\"simple\"><rect fill=\"#FFFFFF\" height=\"45.9375\" id=\"E3\" style=\"stroke: #383838; stroke-width: 1.5;\" width=\"66\" x=\"121\" y=\"212\"/><text fill=\"#000000\" font-family=\"sans-serif\" font-size=\"12\" font-style=\"italic\" lengthAdjust=\"spacingAndGlyphs\" textLength=\"64\" x=\"122\" y=\"228.1387\">«part def»</text><text fill=\"#000000\" font-family=\"sans-serif\" font-size=\"12\" lengthAdjust=\"spacingAndGlyphs\" textLength=\"8\" x=\"150\" y=\"242.1074\">A</text><line style=\"stroke: #383838; stroke-width: 1.5;\" x1=\"122\" x2=\"186\" y1=\"249.9375\" y2=\"249.9375\"/></a><!--MD5=[60a26617385b1d2d0262a64233df1f8d]\n",
       "class E6--><a href=\"psysml:9a86ed13-d6c7-4ef9-9e5f-c3e51ac044b3\" target=\"_top\" title=\"psysml:9a86ed13-d6c7-4ef9-9e5f-c3e51ac044b3\" xlink:actuate=\"onRequest\" xlink:href=\"psysml:9a86ed13-d6c7-4ef9-9e5f-c3e51ac044b3\" xlink:show=\"new\" xlink:title=\"psysml:9a86ed13-d6c7-4ef9-9e5f-c3e51ac044b3\" xlink:type=\"simple\"><rect fill=\"#FFFFFF\" height=\"45.9375\" id=\"E6\" rx=\"10\" ry=\"10\" style=\"stroke: #383838; stroke-width: 1.5;\" width=\"42\" x=\"145\" y=\"87.5\"/><text fill=\"#000000\" font-family=\"sans-serif\" font-size=\"12\" font-style=\"italic\" lengthAdjust=\"spacingAndGlyphs\" textLength=\"40\" x=\"146\" y=\"103.6387\">«part»</text><text fill=\"#000000\" font-family=\"sans-serif\" font-size=\"12\" lengthAdjust=\"spacingAndGlyphs\" textLength=\"22\" x=\"155\" y=\"117.6074\">x: A</text><line style=\"stroke: #383838; stroke-width: 1.5;\" x1=\"146\" x2=\"186\" y1=\"125.4375\" y2=\"125.4375\"/></a><a href=\"psysml:e63557be-f486-40b8-b38f-45a287622fd5\" target=\"_top\" title=\"psysml:e63557be-f486-40b8-b38f-45a287622fd5\" xlink:actuate=\"onRequest\" xlink:href=\"psysml:e63557be-f486-40b8-b38f-45a287622fd5\" xlink:show=\"new\" xlink:title=\"psysml:e63557be-f486-40b8-b38f-45a287622fd5\" xlink:type=\"simple\"><polygon fill=\"#FFFFFF\" points=\"60.5,84,95.5,84,102.5,106.2969,109.5,106.2969,109.5,136.5938,60.5,136.5938,60.5,84\" style=\"stroke: #000000; stroke-width: 1.5;\"/><line style=\"stroke: #000000; stroke-width: 1.5;\" x1=\"60.5\" x2=\"102.5\" y1=\"106.2969\" y2=\"106.2969\"/><text fill=\"#000000\" font-family=\"sans-serif\" font-size=\"14\" font-weight=\"bold\" lengthAdjust=\"spacingAndGlyphs\" textLength=\"29\" x=\"64.5\" y=\"98.9951\">P2a</text></a><!--MD5=[a717450b82c80b9240a525fa862496af]\n",
       "link E6 to E3--><a href=\"psysml:9d868367-c6cc-4e4e-a580-36a1751bbca7\" target=\"_top\" title=\"psysml:9d868367-c6cc-4e4e-a580-36a1751bbca7\" xlink:actuate=\"onRequest\" xlink:href=\"psysml:9d868367-c6cc-4e4e-a580-36a1751bbca7\" xlink:show=\"new\" xlink:title=\"psysml:9d868367-c6cc-4e4e-a580-36a1751bbca7\" xlink:type=\"simple\"><path d=\"M163.83,133.68 C162.24,149.9 160.04,172.39 158.12,191.96 \" fill=\"none\" id=\"E6-&gt;E3\" style=\"stroke: #383838; stroke-width: 1.0;\"/><polygon fill=\"#FFFFFF\" points=\"156.16,211.98,151.0533,192.3861,164.986,193.7564,156.16,211.98\" style=\"stroke: #383838; stroke-width: 1.0;\"/><ellipse cx=\"153.6016\" cy=\"186.9092\" fill=\"#383838\" rx=\"2\" ry=\"2\" style=\"stroke: #383838; stroke-width: 1.0;\"/><ellipse cx=\"163.5535\" cy=\"187.888\" fill=\"#383838\" rx=\"2\" ry=\"2\" style=\"stroke: #383838; stroke-width: 1.0;\"/></a><!--MD5=[29163dc638f6803ca257257321341f18]\n",
       "@startuml\r\n",
       "top to bottom direction\r\n",
       "skinparam monochrome true\r\n",
       "skinparam classbackgroundcolor white\r\n",
       "skinparam shadowing false\r\n",
       "skinparam wrapWidth 300\r\n",
       "hide circle\r\n",
       "\r\n",
       "package \"QualifiedNameImportTest\" as E1  [[psysml:3aea7368-2129-476d-92d7-ea1a60089676 ]]  {\r\n",
       "package \"P1\" as E2  [[psysml:a60b7189-47ac-4303-8a81-d977466f28db ]]  {\r\n",
       "comp def \"A\" as E3  <<(T,blue)part def>> [[psysml:f2420fd6-3670-4cc8-95b9-f254eed1f95d ]] {\r\n",
       "}\r\n",
       "}\r\n",
       "package \"P2\" as E4  [[psysml:ba53b2aa-0756-4dc5-85cd-737c1d1d7585 ]]  {\r\n",
       "package \"P2a\" as E5  [[psysml:e63557be-f486-40b8-b38f-45a287622fd5 ]]  {\r\n",
       "}\r\n",
       "comp usage \"x: A\" as E6  <<(T,blue)part>> [[psysml:9a86ed13-d6c7-4ef9-9e5f-c3e51ac044b3 ]] {\r\n",
       "}\r\n",
       "E6 - -:|> E3 [[psysml:9d868367-c6cc-4e4e-a580-36a1751bbca7 ]] \r\n",
       "}\r\n",
       "}\r\n",
       "@enduml\r\n",
       "\n",
       "PlantUML version 1.2020.13(Sat Jun 13 12:26:38 UTC 2020)\n",
       "(EPL source distribution)\n",
       "Java Runtime: OpenJDK Runtime Environment\n",
       "JVM: OpenJDK 64-Bit Server VM\n",
       "Default Encoding: UTF-8\n",
       "Language: en\n",
       "Country: null\n",
       "--></g></svg>"
      ]
     },
     "execution_count": 49,
     "metadata": {},
     "output_type": "execute_result"
    }
   ],
   "source": [
    "%viz --style=\"TB\" --view=\"Sequence\" \"QualifiedNameImportTest\""
   ]
  },
  {
   "cell_type": "code",
   "execution_count": 50,
   "id": "e536a526",
   "metadata": {
    "execution": {
     "iopub.execute_input": "2021-04-20T07:31:03.131368Z",
     "iopub.status.busy": "2021-04-20T07:31:03.130776Z",
     "iopub.status.idle": "2021-04-20T07:31:03.179001Z",
     "shell.execute_reply": "2021-04-20T07:31:03.177930Z"
    }
   },
   "outputs": [
    {
     "data": {
      "image/svg+xml": [
       "<?xml version=\"1.0\" encoding=\"UTF-8\" standalone=\"no\"?><svg xmlns=\"http://www.w3.org/2000/svg\" xmlns:xlink=\"http://www.w3.org/1999/xlink\" contentScriptType=\"application/ecmascript\" contentStyleType=\"text/css\" height=\"310px\" preserveAspectRatio=\"none\" style=\"width:253px;height:310px;\" version=\"1.1\" viewBox=\"0 0 253 310\" width=\"253px\" zoomAndPan=\"magnify\"><defs/><g><!--MD5=[fbc87193dbaf4d95561dea2c320d4a47]\n",
       "cluster E1--><a href=\"psysml:3aea7368-2129-476d-92d7-ea1a60089676\" target=\"_top\" title=\"psysml:3aea7368-2129-476d-92d7-ea1a60089676\" xlink:actuate=\"onRequest\" xlink:href=\"psysml:3aea7368-2129-476d-92d7-ea1a60089676\" xlink:show=\"new\" xlink:title=\"psysml:3aea7368-2129-476d-92d7-ea1a60089676\" xlink:type=\"simple\"><polygon fill=\"#FFFFFF\" points=\"16,6,221,6,228,28.2969,231,28.2969,231,298,16,298,16,6\" style=\"stroke: #000000; stroke-width: 1.5;\"/><line style=\"stroke: #000000; stroke-width: 1.5;\" x1=\"16\" x2=\"228\" y1=\"28.2969\" y2=\"28.2969\"/><text fill=\"#000000\" font-family=\"sans-serif\" font-size=\"14\" font-weight=\"bold\" lengthAdjust=\"spacingAndGlyphs\" textLength=\"199\" x=\"20\" y=\"20.9951\">QualifiedNameImportTest</text></a><!--MD5=[e4f7fae6ed58524ba242bb0b0d3be6b7]\n",
       "cluster E2--><a href=\"psysml:a60b7189-47ac-4303-8a81-d977466f28db\" target=\"_top\" title=\"psysml:a60b7189-47ac-4303-8a81-d977466f28db\" xlink:actuate=\"onRequest\" xlink:href=\"psysml:a60b7189-47ac-4303-8a81-d977466f28db\" xlink:show=\"new\" xlink:title=\"psysml:a60b7189-47ac-4303-8a81-d977466f28db\" xlink:type=\"simple\"><polygon fill=\"#FFFFFF\" points=\"105,177,131,177,138,199.2969,203,199.2969,203,274,105,274,105,177\" style=\"stroke: #000000; stroke-width: 1.5;\"/><line style=\"stroke: #000000; stroke-width: 1.5;\" x1=\"105\" x2=\"138\" y1=\"199.2969\" y2=\"199.2969\"/><text fill=\"#000000\" font-family=\"sans-serif\" font-size=\"14\" font-weight=\"bold\" lengthAdjust=\"spacingAndGlyphs\" textLength=\"20\" x=\"109\" y=\"191.9951\">P1</text></a><!--MD5=[f6df4d0ebaf0b5dfb2ced0ae5af7c670]\n",
       "cluster E4--><a href=\"psysml:ba53b2aa-0756-4dc5-85cd-737c1d1d7585\" target=\"_top\" title=\"psysml:ba53b2aa-0756-4dc5-85cd-737c1d1d7585\" xlink:actuate=\"onRequest\" xlink:href=\"psysml:ba53b2aa-0756-4dc5-85cd-737c1d1d7585\" xlink:show=\"new\" xlink:title=\"psysml:ba53b2aa-0756-4dc5-85cd-737c1d1d7585\" xlink:type=\"simple\"><polygon fill=\"#FFFFFF\" points=\"44,49,70,49,77,71.2969,203,71.2969,203,153,44,153,44,49\" style=\"stroke: #000000; stroke-width: 1.5;\"/><line style=\"stroke: #000000; stroke-width: 1.5;\" x1=\"44\" x2=\"77\" y1=\"71.2969\" y2=\"71.2969\"/><text fill=\"#000000\" font-family=\"sans-serif\" font-size=\"14\" font-weight=\"bold\" lengthAdjust=\"spacingAndGlyphs\" textLength=\"20\" x=\"48\" y=\"63.9951\">P2</text></a><!--MD5=[09b614a08d8cba4a07c9adeb5e0fee81]\n",
       "class E3--><a href=\"psysml:f2420fd6-3670-4cc8-95b9-f254eed1f95d\" target=\"_top\" title=\"psysml:f2420fd6-3670-4cc8-95b9-f254eed1f95d\" xlink:actuate=\"onRequest\" xlink:href=\"psysml:f2420fd6-3670-4cc8-95b9-f254eed1f95d\" xlink:show=\"new\" xlink:title=\"psysml:f2420fd6-3670-4cc8-95b9-f254eed1f95d\" xlink:type=\"simple\"><rect fill=\"#FFFFFF\" height=\"45.9375\" id=\"E3\" style=\"stroke: #383838; stroke-width: 1.5;\" width=\"66\" x=\"121\" y=\"212\"/><text fill=\"#000000\" font-family=\"sans-serif\" font-size=\"12\" font-style=\"italic\" lengthAdjust=\"spacingAndGlyphs\" textLength=\"64\" x=\"122\" y=\"228.1387\">«part def»</text><text fill=\"#000000\" font-family=\"sans-serif\" font-size=\"12\" lengthAdjust=\"spacingAndGlyphs\" textLength=\"8\" x=\"150\" y=\"242.1074\">A</text><line style=\"stroke: #383838; stroke-width: 1.5;\" x1=\"122\" x2=\"186\" y1=\"249.9375\" y2=\"249.9375\"/></a><!--MD5=[60a26617385b1d2d0262a64233df1f8d]\n",
       "class E6--><a href=\"psysml:9a86ed13-d6c7-4ef9-9e5f-c3e51ac044b3\" target=\"_top\" title=\"psysml:9a86ed13-d6c7-4ef9-9e5f-c3e51ac044b3\" xlink:actuate=\"onRequest\" xlink:href=\"psysml:9a86ed13-d6c7-4ef9-9e5f-c3e51ac044b3\" xlink:show=\"new\" xlink:title=\"psysml:9a86ed13-d6c7-4ef9-9e5f-c3e51ac044b3\" xlink:type=\"simple\"><rect fill=\"#FFFFFF\" height=\"45.9375\" id=\"E6\" rx=\"10\" ry=\"10\" style=\"stroke: #383838; stroke-width: 1.5;\" width=\"42\" x=\"145\" y=\"87.5\"/><text fill=\"#000000\" font-family=\"sans-serif\" font-size=\"12\" font-style=\"italic\" lengthAdjust=\"spacingAndGlyphs\" textLength=\"40\" x=\"146\" y=\"103.6387\">«part»</text><text fill=\"#000000\" font-family=\"sans-serif\" font-size=\"12\" lengthAdjust=\"spacingAndGlyphs\" textLength=\"22\" x=\"155\" y=\"117.6074\">x: A</text><line style=\"stroke: #383838; stroke-width: 1.5;\" x1=\"146\" x2=\"186\" y1=\"125.4375\" y2=\"125.4375\"/></a><a href=\"psysml:e63557be-f486-40b8-b38f-45a287622fd5\" target=\"_top\" title=\"psysml:e63557be-f486-40b8-b38f-45a287622fd5\" xlink:actuate=\"onRequest\" xlink:href=\"psysml:e63557be-f486-40b8-b38f-45a287622fd5\" xlink:show=\"new\" xlink:title=\"psysml:e63557be-f486-40b8-b38f-45a287622fd5\" xlink:type=\"simple\"><polygon fill=\"#FFFFFF\" points=\"60.5,84,95.5,84,102.5,106.2969,109.5,106.2969,109.5,136.5938,60.5,136.5938,60.5,84\" style=\"stroke: #000000; stroke-width: 1.5;\"/><line style=\"stroke: #000000; stroke-width: 1.5;\" x1=\"60.5\" x2=\"102.5\" y1=\"106.2969\" y2=\"106.2969\"/><text fill=\"#000000\" font-family=\"sans-serif\" font-size=\"14\" font-weight=\"bold\" lengthAdjust=\"spacingAndGlyphs\" textLength=\"29\" x=\"64.5\" y=\"98.9951\">P2a</text></a><!--MD5=[a717450b82c80b9240a525fa862496af]\n",
       "link E6 to E3--><a href=\"psysml:9d868367-c6cc-4e4e-a580-36a1751bbca7\" target=\"_top\" title=\"psysml:9d868367-c6cc-4e4e-a580-36a1751bbca7\" xlink:actuate=\"onRequest\" xlink:href=\"psysml:9d868367-c6cc-4e4e-a580-36a1751bbca7\" xlink:show=\"new\" xlink:title=\"psysml:9d868367-c6cc-4e4e-a580-36a1751bbca7\" xlink:type=\"simple\"><path d=\"M163.83,133.68 C162.24,149.9 160.04,172.39 158.12,191.96 \" fill=\"none\" id=\"E6-&gt;E3\" style=\"stroke: #383838; stroke-width: 1.0;\"/><polygon fill=\"#FFFFFF\" points=\"156.16,211.98,151.0533,192.3861,164.986,193.7564,156.16,211.98\" style=\"stroke: #383838; stroke-width: 1.0;\"/><ellipse cx=\"153.6016\" cy=\"186.9092\" fill=\"#383838\" rx=\"2\" ry=\"2\" style=\"stroke: #383838; stroke-width: 1.0;\"/><ellipse cx=\"163.5535\" cy=\"187.888\" fill=\"#383838\" rx=\"2\" ry=\"2\" style=\"stroke: #383838; stroke-width: 1.0;\"/></a><!--MD5=[29163dc638f6803ca257257321341f18]\n",
       "@startuml\r\n",
       "top to bottom direction\r\n",
       "skinparam monochrome true\r\n",
       "skinparam classbackgroundcolor white\r\n",
       "skinparam shadowing false\r\n",
       "skinparam wrapWidth 300\r\n",
       "hide circle\r\n",
       "\r\n",
       "package \"QualifiedNameImportTest\" as E1  [[psysml:3aea7368-2129-476d-92d7-ea1a60089676 ]]  {\r\n",
       "package \"P1\" as E2  [[psysml:a60b7189-47ac-4303-8a81-d977466f28db ]]  {\r\n",
       "comp def \"A\" as E3  <<(T,blue)part def>> [[psysml:f2420fd6-3670-4cc8-95b9-f254eed1f95d ]] {\r\n",
       "}\r\n",
       "}\r\n",
       "package \"P2\" as E4  [[psysml:ba53b2aa-0756-4dc5-85cd-737c1d1d7585 ]]  {\r\n",
       "package \"P2a\" as E5  [[psysml:e63557be-f486-40b8-b38f-45a287622fd5 ]]  {\r\n",
       "}\r\n",
       "comp usage \"x: A\" as E6  <<(T,blue)part>> [[psysml:9a86ed13-d6c7-4ef9-9e5f-c3e51ac044b3 ]] {\r\n",
       "}\r\n",
       "E6 - -:|> E3 [[psysml:9d868367-c6cc-4e4e-a580-36a1751bbca7 ]] \r\n",
       "}\r\n",
       "}\r\n",
       "@enduml\r\n",
       "\n",
       "PlantUML version 1.2020.13(Sat Jun 13 12:26:38 UTC 2020)\n",
       "(EPL source distribution)\n",
       "Java Runtime: OpenJDK Runtime Environment\n",
       "JVM: OpenJDK 64-Bit Server VM\n",
       "Default Encoding: UTF-8\n",
       "Language: en\n",
       "Country: null\n",
       "--></g></svg>"
      ]
     },
     "execution_count": 50,
     "metadata": {},
     "output_type": "execute_result"
    }
   ],
   "source": [
    "%viz --style=\"TB\" --view=\"MIXED\" \"QualifiedNameImportTest\""
   ]
  },
  {
   "cell_type": "code",
   "execution_count": 51,
   "id": "f5dfc2d2",
   "metadata": {
    "execution": {
     "iopub.execute_input": "2021-04-20T07:31:03.224187Z",
     "iopub.status.busy": "2021-04-20T07:31:03.223665Z",
     "iopub.status.idle": "2021-04-20T07:31:03.275888Z",
     "shell.execute_reply": "2021-04-20T07:31:03.274021Z"
    }
   },
   "outputs": [
    {
     "data": {
      "image/svg+xml": [
       "<?xml version=\"1.0\" encoding=\"UTF-8\" standalone=\"no\"?><svg xmlns=\"http://www.w3.org/2000/svg\" xmlns:xlink=\"http://www.w3.org/1999/xlink\" contentScriptType=\"application/ecmascript\" contentStyleType=\"text/css\" height=\"310px\" preserveAspectRatio=\"none\" style=\"width:253px;height:310px;\" version=\"1.1\" viewBox=\"0 0 253 310\" width=\"253px\" zoomAndPan=\"magnify\"><defs/><g><!--MD5=[fbc87193dbaf4d95561dea2c320d4a47]\n",
       "cluster E1--><a href=\"psysml:3aea7368-2129-476d-92d7-ea1a60089676\" target=\"_top\" title=\"psysml:3aea7368-2129-476d-92d7-ea1a60089676\" xlink:actuate=\"onRequest\" xlink:href=\"psysml:3aea7368-2129-476d-92d7-ea1a60089676\" xlink:show=\"new\" xlink:title=\"psysml:3aea7368-2129-476d-92d7-ea1a60089676\" xlink:type=\"simple\"><polygon fill=\"#FFFFFF\" points=\"16,6,221,6,228,28.2969,231,28.2969,231,298,16,298,16,6\" style=\"stroke: #000000; stroke-width: 1.5;\"/><line style=\"stroke: #000000; stroke-width: 1.5;\" x1=\"16\" x2=\"228\" y1=\"28.2969\" y2=\"28.2969\"/><text fill=\"#000000\" font-family=\"sans-serif\" font-size=\"14\" font-weight=\"bold\" lengthAdjust=\"spacingAndGlyphs\" textLength=\"199\" x=\"20\" y=\"20.9951\">QualifiedNameImportTest</text></a><!--MD5=[e4f7fae6ed58524ba242bb0b0d3be6b7]\n",
       "cluster E2--><a href=\"psysml:a60b7189-47ac-4303-8a81-d977466f28db\" target=\"_top\" title=\"psysml:a60b7189-47ac-4303-8a81-d977466f28db\" xlink:actuate=\"onRequest\" xlink:href=\"psysml:a60b7189-47ac-4303-8a81-d977466f28db\" xlink:show=\"new\" xlink:title=\"psysml:a60b7189-47ac-4303-8a81-d977466f28db\" xlink:type=\"simple\"><polygon fill=\"#FFFFFF\" points=\"105,177,131,177,138,199.2969,203,199.2969,203,274,105,274,105,177\" style=\"stroke: #000000; stroke-width: 1.5;\"/><line style=\"stroke: #000000; stroke-width: 1.5;\" x1=\"105\" x2=\"138\" y1=\"199.2969\" y2=\"199.2969\"/><text fill=\"#000000\" font-family=\"sans-serif\" font-size=\"14\" font-weight=\"bold\" lengthAdjust=\"spacingAndGlyphs\" textLength=\"20\" x=\"109\" y=\"191.9951\">P1</text></a><!--MD5=[f6df4d0ebaf0b5dfb2ced0ae5af7c670]\n",
       "cluster E4--><a href=\"psysml:ba53b2aa-0756-4dc5-85cd-737c1d1d7585\" target=\"_top\" title=\"psysml:ba53b2aa-0756-4dc5-85cd-737c1d1d7585\" xlink:actuate=\"onRequest\" xlink:href=\"psysml:ba53b2aa-0756-4dc5-85cd-737c1d1d7585\" xlink:show=\"new\" xlink:title=\"psysml:ba53b2aa-0756-4dc5-85cd-737c1d1d7585\" xlink:type=\"simple\"><polygon fill=\"#FFFFFF\" points=\"44,49,70,49,77,71.2969,203,71.2969,203,153,44,153,44,49\" style=\"stroke: #000000; stroke-width: 1.5;\"/><line style=\"stroke: #000000; stroke-width: 1.5;\" x1=\"44\" x2=\"77\" y1=\"71.2969\" y2=\"71.2969\"/><text fill=\"#000000\" font-family=\"sans-serif\" font-size=\"14\" font-weight=\"bold\" lengthAdjust=\"spacingAndGlyphs\" textLength=\"20\" x=\"48\" y=\"63.9951\">P2</text></a><!--MD5=[09b614a08d8cba4a07c9adeb5e0fee81]\n",
       "class E3--><a href=\"psysml:f2420fd6-3670-4cc8-95b9-f254eed1f95d\" target=\"_top\" title=\"psysml:f2420fd6-3670-4cc8-95b9-f254eed1f95d\" xlink:actuate=\"onRequest\" xlink:href=\"psysml:f2420fd6-3670-4cc8-95b9-f254eed1f95d\" xlink:show=\"new\" xlink:title=\"psysml:f2420fd6-3670-4cc8-95b9-f254eed1f95d\" xlink:type=\"simple\"><rect fill=\"#FFFFFF\" height=\"45.9375\" id=\"E3\" style=\"stroke: #383838; stroke-width: 1.5;\" width=\"66\" x=\"121\" y=\"212\"/><text fill=\"#000000\" font-family=\"sans-serif\" font-size=\"12\" font-style=\"italic\" lengthAdjust=\"spacingAndGlyphs\" textLength=\"64\" x=\"122\" y=\"228.1387\">«part def»</text><text fill=\"#000000\" font-family=\"sans-serif\" font-size=\"12\" lengthAdjust=\"spacingAndGlyphs\" textLength=\"8\" x=\"150\" y=\"242.1074\">A</text><line style=\"stroke: #383838; stroke-width: 1.5;\" x1=\"122\" x2=\"186\" y1=\"249.9375\" y2=\"249.9375\"/></a><!--MD5=[60a26617385b1d2d0262a64233df1f8d]\n",
       "class E6--><a href=\"psysml:9a86ed13-d6c7-4ef9-9e5f-c3e51ac044b3\" target=\"_top\" title=\"psysml:9a86ed13-d6c7-4ef9-9e5f-c3e51ac044b3\" xlink:actuate=\"onRequest\" xlink:href=\"psysml:9a86ed13-d6c7-4ef9-9e5f-c3e51ac044b3\" xlink:show=\"new\" xlink:title=\"psysml:9a86ed13-d6c7-4ef9-9e5f-c3e51ac044b3\" xlink:type=\"simple\"><rect fill=\"#FFFFFF\" height=\"45.9375\" id=\"E6\" rx=\"10\" ry=\"10\" style=\"stroke: #383838; stroke-width: 1.5;\" width=\"42\" x=\"145\" y=\"87.5\"/><text fill=\"#000000\" font-family=\"sans-serif\" font-size=\"12\" font-style=\"italic\" lengthAdjust=\"spacingAndGlyphs\" textLength=\"40\" x=\"146\" y=\"103.6387\">«part»</text><text fill=\"#000000\" font-family=\"sans-serif\" font-size=\"12\" lengthAdjust=\"spacingAndGlyphs\" textLength=\"22\" x=\"155\" y=\"117.6074\">x: A</text><line style=\"stroke: #383838; stroke-width: 1.5;\" x1=\"146\" x2=\"186\" y1=\"125.4375\" y2=\"125.4375\"/></a><a href=\"psysml:e63557be-f486-40b8-b38f-45a287622fd5\" target=\"_top\" title=\"psysml:e63557be-f486-40b8-b38f-45a287622fd5\" xlink:actuate=\"onRequest\" xlink:href=\"psysml:e63557be-f486-40b8-b38f-45a287622fd5\" xlink:show=\"new\" xlink:title=\"psysml:e63557be-f486-40b8-b38f-45a287622fd5\" xlink:type=\"simple\"><polygon fill=\"#FFFFFF\" points=\"60.5,84,95.5,84,102.5,106.2969,109.5,106.2969,109.5,136.5938,60.5,136.5938,60.5,84\" style=\"stroke: #000000; stroke-width: 1.5;\"/><line style=\"stroke: #000000; stroke-width: 1.5;\" x1=\"60.5\" x2=\"102.5\" y1=\"106.2969\" y2=\"106.2969\"/><text fill=\"#000000\" font-family=\"sans-serif\" font-size=\"14\" font-weight=\"bold\" lengthAdjust=\"spacingAndGlyphs\" textLength=\"29\" x=\"64.5\" y=\"98.9951\">P2a</text></a><!--MD5=[a717450b82c80b9240a525fa862496af]\n",
       "link E6 to E3--><a href=\"psysml:9d868367-c6cc-4e4e-a580-36a1751bbca7\" target=\"_top\" title=\"psysml:9d868367-c6cc-4e4e-a580-36a1751bbca7\" xlink:actuate=\"onRequest\" xlink:href=\"psysml:9d868367-c6cc-4e4e-a580-36a1751bbca7\" xlink:show=\"new\" xlink:title=\"psysml:9d868367-c6cc-4e4e-a580-36a1751bbca7\" xlink:type=\"simple\"><path d=\"M166,133.63 C166,133.63 166,192 166,192 \" fill=\"none\" id=\"E6-&gt;E3\" style=\"stroke: #383838; stroke-width: 1.0;\"/><polygon fill=\"#FFFFFF\" points=\"166,212,159,193,173,193,166,212\" style=\"stroke: #383838; stroke-width: 1.0;\"/><ellipse cx=\"161\" cy=\"187.3\" fill=\"#383838\" rx=\"2\" ry=\"2\" style=\"stroke: #383838; stroke-width: 1.0;\"/><ellipse cx=\"171\" cy=\"187.3\" fill=\"#383838\" rx=\"2\" ry=\"2\" style=\"stroke: #383838; stroke-width: 1.0;\"/></a><!--MD5=[d3129419f09c7a8466a3d5d495a52c14]\n",
       "@startuml\r\n",
       "skinparam linetype ortho\r\n",
       "skinparam monochrome true\r\n",
       "skinparam classbackgroundcolor white\r\n",
       "skinparam shadowing false\r\n",
       "skinparam wrapWidth 300\r\n",
       "hide circle\r\n",
       "\r\n",
       "package \"QualifiedNameImportTest\" as E1  [[psysml:3aea7368-2129-476d-92d7-ea1a60089676 ]]  {\r\n",
       "package \"P1\" as E2  [[psysml:a60b7189-47ac-4303-8a81-d977466f28db ]]  {\r\n",
       "comp def \"A\" as E3  <<(T,blue)part def>> [[psysml:f2420fd6-3670-4cc8-95b9-f254eed1f95d ]] {\r\n",
       "}\r\n",
       "}\r\n",
       "package \"P2\" as E4  [[psysml:ba53b2aa-0756-4dc5-85cd-737c1d1d7585 ]]  {\r\n",
       "package \"P2a\" as E5  [[psysml:e63557be-f486-40b8-b38f-45a287622fd5 ]]  {\r\n",
       "}\r\n",
       "comp usage \"x: A\" as E6  <<(T,blue)part>> [[psysml:9a86ed13-d6c7-4ef9-9e5f-c3e51ac044b3 ]] {\r\n",
       "}\r\n",
       "E6 - -:|> E3 [[psysml:9d868367-c6cc-4e4e-a580-36a1751bbca7 ]] \r\n",
       "}\r\n",
       "}\r\n",
       "@enduml\r\n",
       "\n",
       "PlantUML version 1.2020.13(Sat Jun 13 12:26:38 UTC 2020)\n",
       "(EPL source distribution)\n",
       "Java Runtime: OpenJDK Runtime Environment\n",
       "JVM: OpenJDK 64-Bit Server VM\n",
       "Default Encoding: UTF-8\n",
       "Language: en\n",
       "Country: null\n",
       "--></g></svg>"
      ]
     },
     "execution_count": 51,
     "metadata": {},
     "output_type": "execute_result"
    }
   ],
   "source": [
    "%viz --style=\"ORTHOLINE\" --view=\"Default\" \"QualifiedNameImportTest\""
   ]
  },
  {
   "cell_type": "code",
   "execution_count": 52,
   "id": "ebf11d17",
   "metadata": {
    "execution": {
     "iopub.execute_input": "2021-04-20T07:31:03.333471Z",
     "iopub.status.busy": "2021-04-20T07:31:03.332837Z",
     "iopub.status.idle": "2021-04-20T07:31:03.379231Z",
     "shell.execute_reply": "2021-04-20T07:31:03.376209Z"
    }
   },
   "outputs": [
    {
     "data": {
      "image/svg+xml": [
       "<?xml version=\"1.0\" encoding=\"UTF-8\" standalone=\"no\"?><svg xmlns=\"http://www.w3.org/2000/svg\" xmlns:xlink=\"http://www.w3.org/1999/xlink\" contentScriptType=\"application/ecmascript\" contentStyleType=\"text/css\" height=\"310px\" preserveAspectRatio=\"none\" style=\"width:253px;height:310px;\" version=\"1.1\" viewBox=\"0 0 253 310\" width=\"253px\" zoomAndPan=\"magnify\"><defs/><g><!--MD5=[fbc87193dbaf4d95561dea2c320d4a47]\n",
       "cluster E1--><a href=\"psysml:3aea7368-2129-476d-92d7-ea1a60089676\" target=\"_top\" title=\"psysml:3aea7368-2129-476d-92d7-ea1a60089676\" xlink:actuate=\"onRequest\" xlink:href=\"psysml:3aea7368-2129-476d-92d7-ea1a60089676\" xlink:show=\"new\" xlink:title=\"psysml:3aea7368-2129-476d-92d7-ea1a60089676\" xlink:type=\"simple\"><polygon fill=\"#FFFFFF\" points=\"16,6,221,6,228,28.2969,231,28.2969,231,298,16,298,16,6\" style=\"stroke: #000000; stroke-width: 1.5;\"/><line style=\"stroke: #000000; stroke-width: 1.5;\" x1=\"16\" x2=\"228\" y1=\"28.2969\" y2=\"28.2969\"/><text fill=\"#000000\" font-family=\"sans-serif\" font-size=\"14\" font-weight=\"bold\" lengthAdjust=\"spacingAndGlyphs\" textLength=\"199\" x=\"20\" y=\"20.9951\">QualifiedNameImportTest</text></a><!--MD5=[e4f7fae6ed58524ba242bb0b0d3be6b7]\n",
       "cluster E2--><a href=\"psysml:a60b7189-47ac-4303-8a81-d977466f28db\" target=\"_top\" title=\"psysml:a60b7189-47ac-4303-8a81-d977466f28db\" xlink:actuate=\"onRequest\" xlink:href=\"psysml:a60b7189-47ac-4303-8a81-d977466f28db\" xlink:show=\"new\" xlink:title=\"psysml:a60b7189-47ac-4303-8a81-d977466f28db\" xlink:type=\"simple\"><polygon fill=\"#FFFFFF\" points=\"105,177,131,177,138,199.2969,203,199.2969,203,274,105,274,105,177\" style=\"stroke: #000000; stroke-width: 1.5;\"/><line style=\"stroke: #000000; stroke-width: 1.5;\" x1=\"105\" x2=\"138\" y1=\"199.2969\" y2=\"199.2969\"/><text fill=\"#000000\" font-family=\"sans-serif\" font-size=\"14\" font-weight=\"bold\" lengthAdjust=\"spacingAndGlyphs\" textLength=\"20\" x=\"109\" y=\"191.9951\">P1</text></a><!--MD5=[f6df4d0ebaf0b5dfb2ced0ae5af7c670]\n",
       "cluster E4--><a href=\"psysml:ba53b2aa-0756-4dc5-85cd-737c1d1d7585\" target=\"_top\" title=\"psysml:ba53b2aa-0756-4dc5-85cd-737c1d1d7585\" xlink:actuate=\"onRequest\" xlink:href=\"psysml:ba53b2aa-0756-4dc5-85cd-737c1d1d7585\" xlink:show=\"new\" xlink:title=\"psysml:ba53b2aa-0756-4dc5-85cd-737c1d1d7585\" xlink:type=\"simple\"><polygon fill=\"#FFFFFF\" points=\"44,49,70,49,77,71.2969,203,71.2969,203,153,44,153,44,49\" style=\"stroke: #000000; stroke-width: 1.5;\"/><line style=\"stroke: #000000; stroke-width: 1.5;\" x1=\"44\" x2=\"77\" y1=\"71.2969\" y2=\"71.2969\"/><text fill=\"#000000\" font-family=\"sans-serif\" font-size=\"14\" font-weight=\"bold\" lengthAdjust=\"spacingAndGlyphs\" textLength=\"20\" x=\"48\" y=\"63.9951\">P2</text></a><!--MD5=[09b614a08d8cba4a07c9adeb5e0fee81]\n",
       "class E3--><a href=\"psysml:f2420fd6-3670-4cc8-95b9-f254eed1f95d\" target=\"_top\" title=\"psysml:f2420fd6-3670-4cc8-95b9-f254eed1f95d\" xlink:actuate=\"onRequest\" xlink:href=\"psysml:f2420fd6-3670-4cc8-95b9-f254eed1f95d\" xlink:show=\"new\" xlink:title=\"psysml:f2420fd6-3670-4cc8-95b9-f254eed1f95d\" xlink:type=\"simple\"><rect fill=\"#FFFFFF\" height=\"45.9375\" id=\"E3\" style=\"stroke: #383838; stroke-width: 1.5;\" width=\"66\" x=\"121\" y=\"212\"/><text fill=\"#000000\" font-family=\"sans-serif\" font-size=\"12\" font-style=\"italic\" lengthAdjust=\"spacingAndGlyphs\" textLength=\"64\" x=\"122\" y=\"228.1387\">«part def»</text><text fill=\"#000000\" font-family=\"sans-serif\" font-size=\"12\" lengthAdjust=\"spacingAndGlyphs\" textLength=\"8\" x=\"150\" y=\"242.1074\">A</text><line style=\"stroke: #383838; stroke-width: 1.5;\" x1=\"122\" x2=\"186\" y1=\"249.9375\" y2=\"249.9375\"/></a><!--MD5=[60a26617385b1d2d0262a64233df1f8d]\n",
       "class E6--><a href=\"psysml:9a86ed13-d6c7-4ef9-9e5f-c3e51ac044b3\" target=\"_top\" title=\"psysml:9a86ed13-d6c7-4ef9-9e5f-c3e51ac044b3\" xlink:actuate=\"onRequest\" xlink:href=\"psysml:9a86ed13-d6c7-4ef9-9e5f-c3e51ac044b3\" xlink:show=\"new\" xlink:title=\"psysml:9a86ed13-d6c7-4ef9-9e5f-c3e51ac044b3\" xlink:type=\"simple\"><rect fill=\"#FFFFFF\" height=\"45.9375\" id=\"E6\" rx=\"10\" ry=\"10\" style=\"stroke: #383838; stroke-width: 1.5;\" width=\"42\" x=\"145\" y=\"87.5\"/><text fill=\"#000000\" font-family=\"sans-serif\" font-size=\"12\" font-style=\"italic\" lengthAdjust=\"spacingAndGlyphs\" textLength=\"40\" x=\"146\" y=\"103.6387\">«part»</text><text fill=\"#000000\" font-family=\"sans-serif\" font-size=\"12\" lengthAdjust=\"spacingAndGlyphs\" textLength=\"22\" x=\"155\" y=\"117.6074\">x: A</text><line style=\"stroke: #383838; stroke-width: 1.5;\" x1=\"146\" x2=\"186\" y1=\"125.4375\" y2=\"125.4375\"/></a><a href=\"psysml:e63557be-f486-40b8-b38f-45a287622fd5\" target=\"_top\" title=\"psysml:e63557be-f486-40b8-b38f-45a287622fd5\" xlink:actuate=\"onRequest\" xlink:href=\"psysml:e63557be-f486-40b8-b38f-45a287622fd5\" xlink:show=\"new\" xlink:title=\"psysml:e63557be-f486-40b8-b38f-45a287622fd5\" xlink:type=\"simple\"><polygon fill=\"#FFFFFF\" points=\"60.5,84,95.5,84,102.5,106.2969,109.5,106.2969,109.5,136.5938,60.5,136.5938,60.5,84\" style=\"stroke: #000000; stroke-width: 1.5;\"/><line style=\"stroke: #000000; stroke-width: 1.5;\" x1=\"60.5\" x2=\"102.5\" y1=\"106.2969\" y2=\"106.2969\"/><text fill=\"#000000\" font-family=\"sans-serif\" font-size=\"14\" font-weight=\"bold\" lengthAdjust=\"spacingAndGlyphs\" textLength=\"29\" x=\"64.5\" y=\"98.9951\">P2a</text></a><!--MD5=[a717450b82c80b9240a525fa862496af]\n",
       "link E6 to E3--><a href=\"psysml:9d868367-c6cc-4e4e-a580-36a1751bbca7\" target=\"_top\" title=\"psysml:9d868367-c6cc-4e4e-a580-36a1751bbca7\" xlink:actuate=\"onRequest\" xlink:href=\"psysml:9d868367-c6cc-4e4e-a580-36a1751bbca7\" xlink:show=\"new\" xlink:title=\"psysml:9d868367-c6cc-4e4e-a580-36a1751bbca7\" xlink:type=\"simple\"><path d=\"M166,133.63 C166,133.63 166,192 166,192 \" fill=\"none\" id=\"E6-&gt;E3\" style=\"stroke: #383838; stroke-width: 1.0;\"/><polygon fill=\"#FFFFFF\" points=\"166,212,159,193,173,193,166,212\" style=\"stroke: #383838; stroke-width: 1.0;\"/><ellipse cx=\"161\" cy=\"187.3\" fill=\"#383838\" rx=\"2\" ry=\"2\" style=\"stroke: #383838; stroke-width: 1.0;\"/><ellipse cx=\"171\" cy=\"187.3\" fill=\"#383838\" rx=\"2\" ry=\"2\" style=\"stroke: #383838; stroke-width: 1.0;\"/></a><!--MD5=[d3129419f09c7a8466a3d5d495a52c14]\n",
       "@startuml\r\n",
       "skinparam linetype ortho\r\n",
       "skinparam monochrome true\r\n",
       "skinparam classbackgroundcolor white\r\n",
       "skinparam shadowing false\r\n",
       "skinparam wrapWidth 300\r\n",
       "hide circle\r\n",
       "\r\n",
       "package \"QualifiedNameImportTest\" as E1  [[psysml:3aea7368-2129-476d-92d7-ea1a60089676 ]]  {\r\n",
       "package \"P1\" as E2  [[psysml:a60b7189-47ac-4303-8a81-d977466f28db ]]  {\r\n",
       "comp def \"A\" as E3  <<(T,blue)part def>> [[psysml:f2420fd6-3670-4cc8-95b9-f254eed1f95d ]] {\r\n",
       "}\r\n",
       "}\r\n",
       "package \"P2\" as E4  [[psysml:ba53b2aa-0756-4dc5-85cd-737c1d1d7585 ]]  {\r\n",
       "package \"P2a\" as E5  [[psysml:e63557be-f486-40b8-b38f-45a287622fd5 ]]  {\r\n",
       "}\r\n",
       "comp usage \"x: A\" as E6  <<(T,blue)part>> [[psysml:9a86ed13-d6c7-4ef9-9e5f-c3e51ac044b3 ]] {\r\n",
       "}\r\n",
       "E6 - -:|> E3 [[psysml:9d868367-c6cc-4e4e-a580-36a1751bbca7 ]] \r\n",
       "}\r\n",
       "}\r\n",
       "@enduml\r\n",
       "\n",
       "PlantUML version 1.2020.13(Sat Jun 13 12:26:38 UTC 2020)\n",
       "(EPL source distribution)\n",
       "Java Runtime: OpenJDK Runtime Environment\n",
       "JVM: OpenJDK 64-Bit Server VM\n",
       "Default Encoding: UTF-8\n",
       "Language: en\n",
       "Country: null\n",
       "--></g></svg>"
      ]
     },
     "execution_count": 52,
     "metadata": {},
     "output_type": "execute_result"
    }
   ],
   "source": [
    "%viz --style=\"ORTHOLINE\" --view=\"Tree\" \"QualifiedNameImportTest\""
   ]
  },
  {
   "cell_type": "code",
   "execution_count": 53,
   "id": "89597478",
   "metadata": {
    "execution": {
     "iopub.execute_input": "2021-04-20T07:31:03.430016Z",
     "iopub.status.busy": "2021-04-20T07:31:03.429251Z",
     "iopub.status.idle": "2021-04-20T07:31:03.438528Z",
     "shell.execute_reply": "2021-04-20T07:31:03.437883Z"
    }
   },
   "outputs": [
    {
     "data": {
      "image/svg+xml": [
       "<?xml version=\"1.0\" encoding=\"UTF-8\" standalone=\"no\"?><svg xmlns=\"http://www.w3.org/2000/svg\" xmlns:xlink=\"http://www.w3.org/1999/xlink\" contentScriptType=\"application/ecmascript\" contentStyleType=\"text/css\" height=\"12px\" preserveAspectRatio=\"none\" style=\"width:12px;height:12px;\" version=\"1.1\" viewBox=\"0 0 12 12\" width=\"12px\" zoomAndPan=\"magnify\"><defs/><g><!--MD5=[97d6f38768b311333d388e66b2b27985]\n",
       "@startuml\r\n",
       "skinparam linetype ortho\r\n",
       "skinparam monochrome true\r\n",
       "skinparam classbackgroundcolor white\r\n",
       "skinparam shadowing false\r\n",
       "skinparam wrapWidth 300\r\n",
       "hide circle\r\n",
       "\r\n",
       "@enduml\r\n",
       "\n",
       "PlantUML version 1.2020.13(Sat Jun 13 12:26:38 UTC 2020)\n",
       "(EPL source distribution)\n",
       "Java Runtime: OpenJDK Runtime Environment\n",
       "JVM: OpenJDK 64-Bit Server VM\n",
       "Default Encoding: UTF-8\n",
       "Language: en\n",
       "Country: null\n",
       "--></g></svg>"
      ]
     },
     "execution_count": 53,
     "metadata": {},
     "output_type": "execute_result"
    }
   ],
   "source": [
    "%viz --style=\"ORTHOLINE\" --view=\"State\" \"QualifiedNameImportTest\""
   ]
  },
  {
   "cell_type": "code",
   "execution_count": 54,
   "id": "090b954d",
   "metadata": {
    "execution": {
     "iopub.execute_input": "2021-04-20T07:31:03.488955Z",
     "iopub.status.busy": "2021-04-20T07:31:03.488108Z",
     "iopub.status.idle": "2021-04-20T07:31:03.523920Z",
     "shell.execute_reply": "2021-04-20T07:31:03.522523Z"
    }
   },
   "outputs": [
    {
     "data": {
      "image/svg+xml": [
       "<?xml version=\"1.0\" encoding=\"UTF-8\" standalone=\"no\"?><svg xmlns=\"http://www.w3.org/2000/svg\" xmlns:xlink=\"http://www.w3.org/1999/xlink\" contentScriptType=\"application/ecmascript\" contentStyleType=\"text/css\" height=\"189px\" preserveAspectRatio=\"none\" style=\"width:381px;height:189px;\" version=\"1.1\" viewBox=\"0 0 381 189\" width=\"381px\" zoomAndPan=\"magnify\"><defs/><g><!--MD5=[fbc87193dbaf4d95561dea2c320d4a47]\n",
       "cluster E1--><a href=\"psysml:3aea7368-2129-476d-92d7-ea1a60089676\" target=\"_top\" title=\"psysml:3aea7368-2129-476d-92d7-ea1a60089676\" xlink:actuate=\"onRequest\" xlink:href=\"psysml:3aea7368-2129-476d-92d7-ea1a60089676\" xlink:show=\"new\" xlink:title=\"psysml:3aea7368-2129-476d-92d7-ea1a60089676\" xlink:type=\"simple\"><polygon fill=\"#FFFFFF\" points=\"16,6,221,6,228,28.2969,359,28.2969,359,177,16,177,16,6\" style=\"stroke: #000000; stroke-width: 1.5;\"/><line style=\"stroke: #000000; stroke-width: 1.5;\" x1=\"16\" x2=\"228\" y1=\"28.2969\" y2=\"28.2969\"/><text fill=\"#000000\" font-family=\"sans-serif\" font-size=\"14\" font-weight=\"bold\" lengthAdjust=\"spacingAndGlyphs\" textLength=\"199\" x=\"20\" y=\"20.9951\">QualifiedNameImportTest</text></a><!--MD5=[e4f7fae6ed58524ba242bb0b0d3be6b7]\n",
       "cluster E2--><a href=\"psysml:a60b7189-47ac-4303-8a81-d977466f28db\" target=\"_top\" title=\"psysml:a60b7189-47ac-4303-8a81-d977466f28db\" xlink:actuate=\"onRequest\" xlink:href=\"psysml:a60b7189-47ac-4303-8a81-d977466f28db\" xlink:show=\"new\" xlink:title=\"psysml:a60b7189-47ac-4303-8a81-d977466f28db\" xlink:type=\"simple\"><polygon fill=\"#FFFFFF\" points=\"231,54,257,54,264,76.2969,335,76.2969,335,148,231,148,231,54\" style=\"stroke: #000000; stroke-width: 1.5;\"/><line style=\"stroke: #000000; stroke-width: 1.5;\" x1=\"231\" x2=\"264\" y1=\"76.2969\" y2=\"76.2969\"/><text fill=\"#000000\" font-family=\"sans-serif\" font-size=\"14\" font-weight=\"bold\" lengthAdjust=\"spacingAndGlyphs\" textLength=\"20\" x=\"235\" y=\"68.9951\">P1</text></a><!--MD5=[f6df4d0ebaf0b5dfb2ced0ae5af7c670]\n",
       "cluster E4--><a href=\"psysml:ba53b2aa-0756-4dc5-85cd-737c1d1d7585\" target=\"_top\" title=\"psysml:ba53b2aa-0756-4dc5-85cd-737c1d1d7585\" xlink:actuate=\"onRequest\" xlink:href=\"psysml:ba53b2aa-0756-4dc5-85cd-737c1d1d7585\" xlink:show=\"new\" xlink:title=\"psysml:ba53b2aa-0756-4dc5-85cd-737c1d1d7585\" xlink:type=\"simple\"><polygon fill=\"#FFFFFF\" points=\"40,49,66,49,73,71.2969,207,71.2969,207,153,40,153,40,49\" style=\"stroke: #000000; stroke-width: 1.5;\"/><line style=\"stroke: #000000; stroke-width: 1.5;\" x1=\"40\" x2=\"73\" y1=\"71.2969\" y2=\"71.2969\"/><text fill=\"#000000\" font-family=\"sans-serif\" font-size=\"14\" font-weight=\"bold\" lengthAdjust=\"spacingAndGlyphs\" textLength=\"20\" x=\"44\" y=\"63.9951\">P2</text></a><g id=\"E1.E2.E3\"><a href=\"psysml:f2420fd6-3670-4cc8-95b9-f254eed1f95d\" target=\"_top\" title=\"psysml:f2420fd6-3670-4cc8-95b9-f254eed1f95d\" xlink:actuate=\"onRequest\" xlink:href=\"psysml:f2420fd6-3670-4cc8-95b9-f254eed1f95d\" xlink:show=\"new\" xlink:title=\"psysml:f2420fd6-3670-4cc8-95b9-f254eed1f95d\" xlink:type=\"simple\"><rect fill=\"#FFFFFF\" height=\"42.9375\" id=\"E3\" style=\"stroke: #383838; stroke-width: 1.5;\" width=\"71\" x=\"247.5\" y=\"89\"/><rect fill=\"#F8F8F8\" height=\"37.9375\" style=\"stroke: #383838; stroke-width: 1.5;\" width=\"71\" x=\"247.5\" y=\"89\"/><text fill=\"#000000\" font-family=\"sans-serif\" font-size=\"12\" font-style=\"italic\" lengthAdjust=\"spacingAndGlyphs\" textLength=\"64\" x=\"251\" y=\"105.1387\">«part def»</text><text fill=\"#000000\" font-family=\"sans-serif\" font-size=\"12\" lengthAdjust=\"spacingAndGlyphs\" textLength=\"8\" x=\"279\" y=\"119.1074\">A</text></a></g><a href=\"psysml:e63557be-f486-40b8-b38f-45a287622fd5\" target=\"_top\" title=\"psysml:e63557be-f486-40b8-b38f-45a287622fd5\" xlink:actuate=\"onRequest\" xlink:href=\"psysml:e63557be-f486-40b8-b38f-45a287622fd5\" xlink:show=\"new\" xlink:title=\"psysml:e63557be-f486-40b8-b38f-45a287622fd5\" xlink:type=\"simple\"><polygon fill=\"#FFFFFF\" points=\"141.5,84,176.5,84,183.5,106.2969,190.5,106.2969,190.5,136.5938,141.5,136.5938,141.5,84\" style=\"stroke: #000000; stroke-width: 1.5;\"/><line style=\"stroke: #000000; stroke-width: 1.5;\" x1=\"141.5\" x2=\"183.5\" y1=\"106.2969\" y2=\"106.2969\"/><text fill=\"#000000\" font-family=\"sans-serif\" font-size=\"14\" font-weight=\"bold\" lengthAdjust=\"spacingAndGlyphs\" textLength=\"29\" x=\"145.5\" y=\"98.9951\">P2a</text></a><g id=\"E1.E4.E6\"><a href=\"psysml:9a86ed13-d6c7-4ef9-9e5f-c3e51ac044b3\" target=\"_top\" title=\"psysml:9a86ed13-d6c7-4ef9-9e5f-c3e51ac044b3\" xlink:actuate=\"onRequest\" xlink:href=\"psysml:9a86ed13-d6c7-4ef9-9e5f-c3e51ac044b3\" xlink:show=\"new\" xlink:title=\"psysml:9a86ed13-d6c7-4ef9-9e5f-c3e51ac044b3\" xlink:type=\"simple\"><rect fill=\"#FFFFFF\" height=\"40\" id=\"E6\" rx=\"10\" ry=\"10\" style=\"stroke: #383838; stroke-width: 1.5;\" width=\"50\" x=\"56\" y=\"90.5\"/><rect fill=\"#F8F8F8\" height=\"23.9688\" rx=\"10\" ry=\"10\" style=\"stroke: #F8F8F8; stroke-width: 1.5;\" width=\"50\" x=\"56\" y=\"90.5\"/><rect fill=\"#F8F8F8\" height=\"10\" style=\"stroke: #F8F8F8; stroke-width: 1.5;\" width=\"50\" x=\"56\" y=\"104.4688\"/><rect fill=\"none\" height=\"40\" id=\"E6\" rx=\"10\" ry=\"10\" style=\"stroke: #383838; stroke-width: 1.5;\" width=\"50\" x=\"56\" y=\"90.5\"/><text fill=\"#000000\" font-family=\"sans-serif\" font-size=\"12\" lengthAdjust=\"spacingAndGlyphs\" textLength=\"22\" x=\"70\" y=\"106.6387\">x: A</text></a></g><!--MD5=[668da18bf6e5687e36450d6848b0bb25]\n",
       "@startuml\r\n",
       "skinparam ranksep 10\r\n",
       "skinparam rectangle {\r\n",
       " backgroundColor<<block>> LightGreen\r\n",
       "}\r\n",
       "skinparam linetype ortho\r\n",
       "skinparam monochrome true\r\n",
       "skinparam classbackgroundcolor white\r\n",
       "skinparam shadowing false\r\n",
       "skinparam wrapWidth 300\r\n",
       "hide circle\r\n",
       "\r\n",
       "package \"QualifiedNameImportTest\" as E1  [[psysml:3aea7368-2129-476d-92d7-ea1a60089676 ]]  {\r\n",
       "package \"P1\" as E2  [[psysml:a60b7189-47ac-4303-8a81-d977466f28db ]]  {\r\n",
       "rec def \"A\" as E3  <<(T,blue)part def>> [[psysml:f2420fd6-3670-4cc8-95b9-f254eed1f95d ]] {\r\n",
       "}\r\n",
       "}\r\n",
       "package \"P2\" as E4  [[psysml:ba53b2aa-0756-4dc5-85cd-737c1d1d7585 ]]  {\r\n",
       "package \"P2a\" as E5  [[psysml:e63557be-f486-40b8-b38f-45a287622fd5 ]]  {\r\n",
       "}\r\n",
       "rec usage \"x: A\" as E6  [[psysml:9a86ed13-d6c7-4ef9-9e5f-c3e51ac044b3 ]] {\r\n",
       "}\r\n",
       "}\r\n",
       "}\r\n",
       "@enduml\r\n",
       "\n",
       "PlantUML version 1.2020.13(Sat Jun 13 12:26:38 UTC 2020)\n",
       "(EPL source distribution)\n",
       "Java Runtime: OpenJDK Runtime Environment\n",
       "JVM: OpenJDK 64-Bit Server VM\n",
       "Default Encoding: UTF-8\n",
       "Language: en\n",
       "Country: null\n",
       "--></g></svg>"
      ]
     },
     "execution_count": 54,
     "metadata": {},
     "output_type": "execute_result"
    }
   ],
   "source": [
    "%viz --style=\"ORTHOLINE\" --view=\"Interconnection\" \"QualifiedNameImportTest\""
   ]
  },
  {
   "cell_type": "code",
   "execution_count": 55,
   "id": "dc225326",
   "metadata": {
    "execution": {
     "iopub.execute_input": "2021-04-20T07:31:03.573497Z",
     "iopub.status.busy": "2021-04-20T07:31:03.573095Z",
     "iopub.status.idle": "2021-04-20T07:31:03.579690Z",
     "shell.execute_reply": "2021-04-20T07:31:03.579125Z"
    }
   },
   "outputs": [
    {
     "data": {
      "image/svg+xml": [
       "<?xml version=\"1.0\" encoding=\"UTF-8\" standalone=\"no\"?><svg xmlns=\"http://www.w3.org/2000/svg\" xmlns:xlink=\"http://www.w3.org/1999/xlink\" contentScriptType=\"application/ecmascript\" contentStyleType=\"text/css\" height=\"12px\" preserveAspectRatio=\"none\" style=\"width:12px;height:12px;\" version=\"1.1\" viewBox=\"0 0 12 12\" width=\"12px\" zoomAndPan=\"magnify\"><defs/><g><!--MD5=[72934c63077099a26744516a776b4749]\n",
       "@startuml\r\n",
       "skinparam ranksep 8\r\n",
       "skinparam linetype ortho\r\n",
       "skinparam monochrome true\r\n",
       "skinparam classbackgroundcolor white\r\n",
       "skinparam shadowing false\r\n",
       "skinparam wrapWidth 300\r\n",
       "hide circle\r\n",
       "\r\n",
       "@enduml\r\n",
       "\n",
       "PlantUML version 1.2020.13(Sat Jun 13 12:26:38 UTC 2020)\n",
       "(EPL source distribution)\n",
       "Java Runtime: OpenJDK Runtime Environment\n",
       "JVM: OpenJDK 64-Bit Server VM\n",
       "Default Encoding: UTF-8\n",
       "Language: en\n",
       "Country: null\n",
       "--></g></svg>"
      ]
     },
     "execution_count": 55,
     "metadata": {},
     "output_type": "execute_result"
    }
   ],
   "source": [
    "%viz --style=\"ORTHOLINE\" --view=\"Action\" \"QualifiedNameImportTest\""
   ]
  },
  {
   "cell_type": "code",
   "execution_count": 56,
   "id": "24920949",
   "metadata": {
    "execution": {
     "iopub.execute_input": "2021-04-20T07:31:03.632475Z",
     "iopub.status.busy": "2021-04-20T07:31:03.631953Z",
     "iopub.status.idle": "2021-04-20T07:31:03.670007Z",
     "shell.execute_reply": "2021-04-20T07:31:03.667259Z"
    }
   },
   "outputs": [
    {
     "data": {
      "image/svg+xml": [
       "<?xml version=\"1.0\" encoding=\"UTF-8\" standalone=\"no\"?><svg xmlns=\"http://www.w3.org/2000/svg\" xmlns:xlink=\"http://www.w3.org/1999/xlink\" contentScriptType=\"application/ecmascript\" contentStyleType=\"text/css\" height=\"310px\" preserveAspectRatio=\"none\" style=\"width:253px;height:310px;\" version=\"1.1\" viewBox=\"0 0 253 310\" width=\"253px\" zoomAndPan=\"magnify\"><defs/><g><!--MD5=[fbc87193dbaf4d95561dea2c320d4a47]\n",
       "cluster E1--><a href=\"psysml:3aea7368-2129-476d-92d7-ea1a60089676\" target=\"_top\" title=\"psysml:3aea7368-2129-476d-92d7-ea1a60089676\" xlink:actuate=\"onRequest\" xlink:href=\"psysml:3aea7368-2129-476d-92d7-ea1a60089676\" xlink:show=\"new\" xlink:title=\"psysml:3aea7368-2129-476d-92d7-ea1a60089676\" xlink:type=\"simple\"><polygon fill=\"#FFFFFF\" points=\"16,6,221,6,228,28.2969,231,28.2969,231,298,16,298,16,6\" style=\"stroke: #000000; stroke-width: 1.5;\"/><line style=\"stroke: #000000; stroke-width: 1.5;\" x1=\"16\" x2=\"228\" y1=\"28.2969\" y2=\"28.2969\"/><text fill=\"#000000\" font-family=\"sans-serif\" font-size=\"14\" font-weight=\"bold\" lengthAdjust=\"spacingAndGlyphs\" textLength=\"199\" x=\"20\" y=\"20.9951\">QualifiedNameImportTest</text></a><!--MD5=[e4f7fae6ed58524ba242bb0b0d3be6b7]\n",
       "cluster E2--><a href=\"psysml:a60b7189-47ac-4303-8a81-d977466f28db\" target=\"_top\" title=\"psysml:a60b7189-47ac-4303-8a81-d977466f28db\" xlink:actuate=\"onRequest\" xlink:href=\"psysml:a60b7189-47ac-4303-8a81-d977466f28db\" xlink:show=\"new\" xlink:title=\"psysml:a60b7189-47ac-4303-8a81-d977466f28db\" xlink:type=\"simple\"><polygon fill=\"#FFFFFF\" points=\"105,177,131,177,138,199.2969,203,199.2969,203,274,105,274,105,177\" style=\"stroke: #000000; stroke-width: 1.5;\"/><line style=\"stroke: #000000; stroke-width: 1.5;\" x1=\"105\" x2=\"138\" y1=\"199.2969\" y2=\"199.2969\"/><text fill=\"#000000\" font-family=\"sans-serif\" font-size=\"14\" font-weight=\"bold\" lengthAdjust=\"spacingAndGlyphs\" textLength=\"20\" x=\"109\" y=\"191.9951\">P1</text></a><!--MD5=[f6df4d0ebaf0b5dfb2ced0ae5af7c670]\n",
       "cluster E4--><a href=\"psysml:ba53b2aa-0756-4dc5-85cd-737c1d1d7585\" target=\"_top\" title=\"psysml:ba53b2aa-0756-4dc5-85cd-737c1d1d7585\" xlink:actuate=\"onRequest\" xlink:href=\"psysml:ba53b2aa-0756-4dc5-85cd-737c1d1d7585\" xlink:show=\"new\" xlink:title=\"psysml:ba53b2aa-0756-4dc5-85cd-737c1d1d7585\" xlink:type=\"simple\"><polygon fill=\"#FFFFFF\" points=\"44,49,70,49,77,71.2969,203,71.2969,203,153,44,153,44,49\" style=\"stroke: #000000; stroke-width: 1.5;\"/><line style=\"stroke: #000000; stroke-width: 1.5;\" x1=\"44\" x2=\"77\" y1=\"71.2969\" y2=\"71.2969\"/><text fill=\"#000000\" font-family=\"sans-serif\" font-size=\"14\" font-weight=\"bold\" lengthAdjust=\"spacingAndGlyphs\" textLength=\"20\" x=\"48\" y=\"63.9951\">P2</text></a><!--MD5=[09b614a08d8cba4a07c9adeb5e0fee81]\n",
       "class E3--><a href=\"psysml:f2420fd6-3670-4cc8-95b9-f254eed1f95d\" target=\"_top\" title=\"psysml:f2420fd6-3670-4cc8-95b9-f254eed1f95d\" xlink:actuate=\"onRequest\" xlink:href=\"psysml:f2420fd6-3670-4cc8-95b9-f254eed1f95d\" xlink:show=\"new\" xlink:title=\"psysml:f2420fd6-3670-4cc8-95b9-f254eed1f95d\" xlink:type=\"simple\"><rect fill=\"#FFFFFF\" height=\"45.9375\" id=\"E3\" style=\"stroke: #383838; stroke-width: 1.5;\" width=\"66\" x=\"121\" y=\"212\"/><text fill=\"#000000\" font-family=\"sans-serif\" font-size=\"12\" font-style=\"italic\" lengthAdjust=\"spacingAndGlyphs\" textLength=\"64\" x=\"122\" y=\"228.1387\">«part def»</text><text fill=\"#000000\" font-family=\"sans-serif\" font-size=\"12\" lengthAdjust=\"spacingAndGlyphs\" textLength=\"8\" x=\"150\" y=\"242.1074\">A</text><line style=\"stroke: #383838; stroke-width: 1.5;\" x1=\"122\" x2=\"186\" y1=\"249.9375\" y2=\"249.9375\"/></a><!--MD5=[60a26617385b1d2d0262a64233df1f8d]\n",
       "class E6--><a href=\"psysml:9a86ed13-d6c7-4ef9-9e5f-c3e51ac044b3\" target=\"_top\" title=\"psysml:9a86ed13-d6c7-4ef9-9e5f-c3e51ac044b3\" xlink:actuate=\"onRequest\" xlink:href=\"psysml:9a86ed13-d6c7-4ef9-9e5f-c3e51ac044b3\" xlink:show=\"new\" xlink:title=\"psysml:9a86ed13-d6c7-4ef9-9e5f-c3e51ac044b3\" xlink:type=\"simple\"><rect fill=\"#FFFFFF\" height=\"45.9375\" id=\"E6\" rx=\"10\" ry=\"10\" style=\"stroke: #383838; stroke-width: 1.5;\" width=\"42\" x=\"145\" y=\"87.5\"/><text fill=\"#000000\" font-family=\"sans-serif\" font-size=\"12\" font-style=\"italic\" lengthAdjust=\"spacingAndGlyphs\" textLength=\"40\" x=\"146\" y=\"103.6387\">«part»</text><text fill=\"#000000\" font-family=\"sans-serif\" font-size=\"12\" lengthAdjust=\"spacingAndGlyphs\" textLength=\"22\" x=\"155\" y=\"117.6074\">x: A</text><line style=\"stroke: #383838; stroke-width: 1.5;\" x1=\"146\" x2=\"186\" y1=\"125.4375\" y2=\"125.4375\"/></a><a href=\"psysml:e63557be-f486-40b8-b38f-45a287622fd5\" target=\"_top\" title=\"psysml:e63557be-f486-40b8-b38f-45a287622fd5\" xlink:actuate=\"onRequest\" xlink:href=\"psysml:e63557be-f486-40b8-b38f-45a287622fd5\" xlink:show=\"new\" xlink:title=\"psysml:e63557be-f486-40b8-b38f-45a287622fd5\" xlink:type=\"simple\"><polygon fill=\"#FFFFFF\" points=\"60.5,84,95.5,84,102.5,106.2969,109.5,106.2969,109.5,136.5938,60.5,136.5938,60.5,84\" style=\"stroke: #000000; stroke-width: 1.5;\"/><line style=\"stroke: #000000; stroke-width: 1.5;\" x1=\"60.5\" x2=\"102.5\" y1=\"106.2969\" y2=\"106.2969\"/><text fill=\"#000000\" font-family=\"sans-serif\" font-size=\"14\" font-weight=\"bold\" lengthAdjust=\"spacingAndGlyphs\" textLength=\"29\" x=\"64.5\" y=\"98.9951\">P2a</text></a><!--MD5=[a717450b82c80b9240a525fa862496af]\n",
       "link E6 to E3--><a href=\"psysml:9d868367-c6cc-4e4e-a580-36a1751bbca7\" target=\"_top\" title=\"psysml:9d868367-c6cc-4e4e-a580-36a1751bbca7\" xlink:actuate=\"onRequest\" xlink:href=\"psysml:9d868367-c6cc-4e4e-a580-36a1751bbca7\" xlink:show=\"new\" xlink:title=\"psysml:9d868367-c6cc-4e4e-a580-36a1751bbca7\" xlink:type=\"simple\"><path d=\"M166,133.63 C166,133.63 166,192 166,192 \" fill=\"none\" id=\"E6-&gt;E3\" style=\"stroke: #383838; stroke-width: 1.0;\"/><polygon fill=\"#FFFFFF\" points=\"166,212,159,193,173,193,166,212\" style=\"stroke: #383838; stroke-width: 1.0;\"/><ellipse cx=\"161\" cy=\"187.3\" fill=\"#383838\" rx=\"2\" ry=\"2\" style=\"stroke: #383838; stroke-width: 1.0;\"/><ellipse cx=\"171\" cy=\"187.3\" fill=\"#383838\" rx=\"2\" ry=\"2\" style=\"stroke: #383838; stroke-width: 1.0;\"/></a><!--MD5=[d3129419f09c7a8466a3d5d495a52c14]\n",
       "@startuml\r\n",
       "skinparam linetype ortho\r\n",
       "skinparam monochrome true\r\n",
       "skinparam classbackgroundcolor white\r\n",
       "skinparam shadowing false\r\n",
       "skinparam wrapWidth 300\r\n",
       "hide circle\r\n",
       "\r\n",
       "package \"QualifiedNameImportTest\" as E1  [[psysml:3aea7368-2129-476d-92d7-ea1a60089676 ]]  {\r\n",
       "package \"P1\" as E2  [[psysml:a60b7189-47ac-4303-8a81-d977466f28db ]]  {\r\n",
       "comp def \"A\" as E3  <<(T,blue)part def>> [[psysml:f2420fd6-3670-4cc8-95b9-f254eed1f95d ]] {\r\n",
       "}\r\n",
       "}\r\n",
       "package \"P2\" as E4  [[psysml:ba53b2aa-0756-4dc5-85cd-737c1d1d7585 ]]  {\r\n",
       "package \"P2a\" as E5  [[psysml:e63557be-f486-40b8-b38f-45a287622fd5 ]]  {\r\n",
       "}\r\n",
       "comp usage \"x: A\" as E6  <<(T,blue)part>> [[psysml:9a86ed13-d6c7-4ef9-9e5f-c3e51ac044b3 ]] {\r\n",
       "}\r\n",
       "E6 - -:|> E3 [[psysml:9d868367-c6cc-4e4e-a580-36a1751bbca7 ]] \r\n",
       "}\r\n",
       "}\r\n",
       "@enduml\r\n",
       "\n",
       "PlantUML version 1.2020.13(Sat Jun 13 12:26:38 UTC 2020)\n",
       "(EPL source distribution)\n",
       "Java Runtime: OpenJDK Runtime Environment\n",
       "JVM: OpenJDK 64-Bit Server VM\n",
       "Default Encoding: UTF-8\n",
       "Language: en\n",
       "Country: null\n",
       "--></g></svg>"
      ]
     },
     "execution_count": 56,
     "metadata": {},
     "output_type": "execute_result"
    }
   ],
   "source": [
    "%viz --style=\"ORTHOLINE\" --view=\"Sequence\" \"QualifiedNameImportTest\""
   ]
  },
  {
   "cell_type": "code",
   "execution_count": 57,
   "id": "3b23e48a",
   "metadata": {
    "execution": {
     "iopub.execute_input": "2021-04-20T07:31:03.718878Z",
     "iopub.status.busy": "2021-04-20T07:31:03.718205Z",
     "iopub.status.idle": "2021-04-20T07:31:03.754839Z",
     "shell.execute_reply": "2021-04-20T07:31:03.754385Z"
    }
   },
   "outputs": [
    {
     "data": {
      "image/svg+xml": [
       "<?xml version=\"1.0\" encoding=\"UTF-8\" standalone=\"no\"?><svg xmlns=\"http://www.w3.org/2000/svg\" xmlns:xlink=\"http://www.w3.org/1999/xlink\" contentScriptType=\"application/ecmascript\" contentStyleType=\"text/css\" height=\"310px\" preserveAspectRatio=\"none\" style=\"width:253px;height:310px;\" version=\"1.1\" viewBox=\"0 0 253 310\" width=\"253px\" zoomAndPan=\"magnify\"><defs/><g><!--MD5=[fbc87193dbaf4d95561dea2c320d4a47]\n",
       "cluster E1--><a href=\"psysml:3aea7368-2129-476d-92d7-ea1a60089676\" target=\"_top\" title=\"psysml:3aea7368-2129-476d-92d7-ea1a60089676\" xlink:actuate=\"onRequest\" xlink:href=\"psysml:3aea7368-2129-476d-92d7-ea1a60089676\" xlink:show=\"new\" xlink:title=\"psysml:3aea7368-2129-476d-92d7-ea1a60089676\" xlink:type=\"simple\"><polygon fill=\"#FFFFFF\" points=\"16,6,221,6,228,28.2969,231,28.2969,231,298,16,298,16,6\" style=\"stroke: #000000; stroke-width: 1.5;\"/><line style=\"stroke: #000000; stroke-width: 1.5;\" x1=\"16\" x2=\"228\" y1=\"28.2969\" y2=\"28.2969\"/><text fill=\"#000000\" font-family=\"sans-serif\" font-size=\"14\" font-weight=\"bold\" lengthAdjust=\"spacingAndGlyphs\" textLength=\"199\" x=\"20\" y=\"20.9951\">QualifiedNameImportTest</text></a><!--MD5=[e4f7fae6ed58524ba242bb0b0d3be6b7]\n",
       "cluster E2--><a href=\"psysml:a60b7189-47ac-4303-8a81-d977466f28db\" target=\"_top\" title=\"psysml:a60b7189-47ac-4303-8a81-d977466f28db\" xlink:actuate=\"onRequest\" xlink:href=\"psysml:a60b7189-47ac-4303-8a81-d977466f28db\" xlink:show=\"new\" xlink:title=\"psysml:a60b7189-47ac-4303-8a81-d977466f28db\" xlink:type=\"simple\"><polygon fill=\"#FFFFFF\" points=\"105,177,131,177,138,199.2969,203,199.2969,203,274,105,274,105,177\" style=\"stroke: #000000; stroke-width: 1.5;\"/><line style=\"stroke: #000000; stroke-width: 1.5;\" x1=\"105\" x2=\"138\" y1=\"199.2969\" y2=\"199.2969\"/><text fill=\"#000000\" font-family=\"sans-serif\" font-size=\"14\" font-weight=\"bold\" lengthAdjust=\"spacingAndGlyphs\" textLength=\"20\" x=\"109\" y=\"191.9951\">P1</text></a><!--MD5=[f6df4d0ebaf0b5dfb2ced0ae5af7c670]\n",
       "cluster E4--><a href=\"psysml:ba53b2aa-0756-4dc5-85cd-737c1d1d7585\" target=\"_top\" title=\"psysml:ba53b2aa-0756-4dc5-85cd-737c1d1d7585\" xlink:actuate=\"onRequest\" xlink:href=\"psysml:ba53b2aa-0756-4dc5-85cd-737c1d1d7585\" xlink:show=\"new\" xlink:title=\"psysml:ba53b2aa-0756-4dc5-85cd-737c1d1d7585\" xlink:type=\"simple\"><polygon fill=\"#FFFFFF\" points=\"44,49,70,49,77,71.2969,203,71.2969,203,153,44,153,44,49\" style=\"stroke: #000000; stroke-width: 1.5;\"/><line style=\"stroke: #000000; stroke-width: 1.5;\" x1=\"44\" x2=\"77\" y1=\"71.2969\" y2=\"71.2969\"/><text fill=\"#000000\" font-family=\"sans-serif\" font-size=\"14\" font-weight=\"bold\" lengthAdjust=\"spacingAndGlyphs\" textLength=\"20\" x=\"48\" y=\"63.9951\">P2</text></a><!--MD5=[09b614a08d8cba4a07c9adeb5e0fee81]\n",
       "class E3--><a href=\"psysml:f2420fd6-3670-4cc8-95b9-f254eed1f95d\" target=\"_top\" title=\"psysml:f2420fd6-3670-4cc8-95b9-f254eed1f95d\" xlink:actuate=\"onRequest\" xlink:href=\"psysml:f2420fd6-3670-4cc8-95b9-f254eed1f95d\" xlink:show=\"new\" xlink:title=\"psysml:f2420fd6-3670-4cc8-95b9-f254eed1f95d\" xlink:type=\"simple\"><rect fill=\"#FFFFFF\" height=\"45.9375\" id=\"E3\" style=\"stroke: #383838; stroke-width: 1.5;\" width=\"66\" x=\"121\" y=\"212\"/><text fill=\"#000000\" font-family=\"sans-serif\" font-size=\"12\" font-style=\"italic\" lengthAdjust=\"spacingAndGlyphs\" textLength=\"64\" x=\"122\" y=\"228.1387\">«part def»</text><text fill=\"#000000\" font-family=\"sans-serif\" font-size=\"12\" lengthAdjust=\"spacingAndGlyphs\" textLength=\"8\" x=\"150\" y=\"242.1074\">A</text><line style=\"stroke: #383838; stroke-width: 1.5;\" x1=\"122\" x2=\"186\" y1=\"249.9375\" y2=\"249.9375\"/></a><!--MD5=[60a26617385b1d2d0262a64233df1f8d]\n",
       "class E6--><a href=\"psysml:9a86ed13-d6c7-4ef9-9e5f-c3e51ac044b3\" target=\"_top\" title=\"psysml:9a86ed13-d6c7-4ef9-9e5f-c3e51ac044b3\" xlink:actuate=\"onRequest\" xlink:href=\"psysml:9a86ed13-d6c7-4ef9-9e5f-c3e51ac044b3\" xlink:show=\"new\" xlink:title=\"psysml:9a86ed13-d6c7-4ef9-9e5f-c3e51ac044b3\" xlink:type=\"simple\"><rect fill=\"#FFFFFF\" height=\"45.9375\" id=\"E6\" rx=\"10\" ry=\"10\" style=\"stroke: #383838; stroke-width: 1.5;\" width=\"42\" x=\"145\" y=\"87.5\"/><text fill=\"#000000\" font-family=\"sans-serif\" font-size=\"12\" font-style=\"italic\" lengthAdjust=\"spacingAndGlyphs\" textLength=\"40\" x=\"146\" y=\"103.6387\">«part»</text><text fill=\"#000000\" font-family=\"sans-serif\" font-size=\"12\" lengthAdjust=\"spacingAndGlyphs\" textLength=\"22\" x=\"155\" y=\"117.6074\">x: A</text><line style=\"stroke: #383838; stroke-width: 1.5;\" x1=\"146\" x2=\"186\" y1=\"125.4375\" y2=\"125.4375\"/></a><a href=\"psysml:e63557be-f486-40b8-b38f-45a287622fd5\" target=\"_top\" title=\"psysml:e63557be-f486-40b8-b38f-45a287622fd5\" xlink:actuate=\"onRequest\" xlink:href=\"psysml:e63557be-f486-40b8-b38f-45a287622fd5\" xlink:show=\"new\" xlink:title=\"psysml:e63557be-f486-40b8-b38f-45a287622fd5\" xlink:type=\"simple\"><polygon fill=\"#FFFFFF\" points=\"60.5,84,95.5,84,102.5,106.2969,109.5,106.2969,109.5,136.5938,60.5,136.5938,60.5,84\" style=\"stroke: #000000; stroke-width: 1.5;\"/><line style=\"stroke: #000000; stroke-width: 1.5;\" x1=\"60.5\" x2=\"102.5\" y1=\"106.2969\" y2=\"106.2969\"/><text fill=\"#000000\" font-family=\"sans-serif\" font-size=\"14\" font-weight=\"bold\" lengthAdjust=\"spacingAndGlyphs\" textLength=\"29\" x=\"64.5\" y=\"98.9951\">P2a</text></a><!--MD5=[a717450b82c80b9240a525fa862496af]\n",
       "link E6 to E3--><a href=\"psysml:9d868367-c6cc-4e4e-a580-36a1751bbca7\" target=\"_top\" title=\"psysml:9d868367-c6cc-4e4e-a580-36a1751bbca7\" xlink:actuate=\"onRequest\" xlink:href=\"psysml:9d868367-c6cc-4e4e-a580-36a1751bbca7\" xlink:show=\"new\" xlink:title=\"psysml:9d868367-c6cc-4e4e-a580-36a1751bbca7\" xlink:type=\"simple\"><path d=\"M166,133.63 C166,133.63 166,192 166,192 \" fill=\"none\" id=\"E6-&gt;E3\" style=\"stroke: #383838; stroke-width: 1.0;\"/><polygon fill=\"#FFFFFF\" points=\"166,212,159,193,173,193,166,212\" style=\"stroke: #383838; stroke-width: 1.0;\"/><ellipse cx=\"161\" cy=\"187.3\" fill=\"#383838\" rx=\"2\" ry=\"2\" style=\"stroke: #383838; stroke-width: 1.0;\"/><ellipse cx=\"171\" cy=\"187.3\" fill=\"#383838\" rx=\"2\" ry=\"2\" style=\"stroke: #383838; stroke-width: 1.0;\"/></a><!--MD5=[d3129419f09c7a8466a3d5d495a52c14]\n",
       "@startuml\r\n",
       "skinparam linetype ortho\r\n",
       "skinparam monochrome true\r\n",
       "skinparam classbackgroundcolor white\r\n",
       "skinparam shadowing false\r\n",
       "skinparam wrapWidth 300\r\n",
       "hide circle\r\n",
       "\r\n",
       "package \"QualifiedNameImportTest\" as E1  [[psysml:3aea7368-2129-476d-92d7-ea1a60089676 ]]  {\r\n",
       "package \"P1\" as E2  [[psysml:a60b7189-47ac-4303-8a81-d977466f28db ]]  {\r\n",
       "comp def \"A\" as E3  <<(T,blue)part def>> [[psysml:f2420fd6-3670-4cc8-95b9-f254eed1f95d ]] {\r\n",
       "}\r\n",
       "}\r\n",
       "package \"P2\" as E4  [[psysml:ba53b2aa-0756-4dc5-85cd-737c1d1d7585 ]]  {\r\n",
       "package \"P2a\" as E5  [[psysml:e63557be-f486-40b8-b38f-45a287622fd5 ]]  {\r\n",
       "}\r\n",
       "comp usage \"x: A\" as E6  <<(T,blue)part>> [[psysml:9a86ed13-d6c7-4ef9-9e5f-c3e51ac044b3 ]] {\r\n",
       "}\r\n",
       "E6 - -:|> E3 [[psysml:9d868367-c6cc-4e4e-a580-36a1751bbca7 ]] \r\n",
       "}\r\n",
       "}\r\n",
       "@enduml\r\n",
       "\n",
       "PlantUML version 1.2020.13(Sat Jun 13 12:26:38 UTC 2020)\n",
       "(EPL source distribution)\n",
       "Java Runtime: OpenJDK Runtime Environment\n",
       "JVM: OpenJDK 64-Bit Server VM\n",
       "Default Encoding: UTF-8\n",
       "Language: en\n",
       "Country: null\n",
       "--></g></svg>"
      ]
     },
     "execution_count": 57,
     "metadata": {},
     "output_type": "execute_result"
    }
   ],
   "source": [
    "%viz --style=\"ORTHOLINE\" --view=\"MIXED\" \"QualifiedNameImportTest\""
   ]
  }
 ],
 "metadata": {
  "kernelspec": {
   "display_name": "SysML",
   "language": "sysml",
   "name": "sysml"
  },
  "language_info": {
   "codemirror_mode": "sysml",
   "file_extension": ".sysml",
   "mimetype": "text/x-sysml",
   "name": "SysML",
   "pygments_lexer": "java",
   "version": "1.0.0"
  }
 },
 "nbformat": 4,
 "nbformat_minor": 5
}
