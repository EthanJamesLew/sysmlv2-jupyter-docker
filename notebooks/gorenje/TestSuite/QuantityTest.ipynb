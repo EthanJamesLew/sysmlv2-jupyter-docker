{
 "cells": [
  {
   "cell_type": "markdown",
   "id": "ce50d2d5",
   "metadata": {},
   "source": [
    "# SysML v2 Test Suite\n",
    "\n",
    "This can notebook can be cleared using menu `Edit --> Clear All Outputs` and then all cells can be\n",
    "run using menu `Run --> Run All Cells`.\n",
    "\n",
    "**WARNING**: This file is generated, all modifications here will be ignored.\n"
   ]
  },
  {
   "cell_type": "markdown",
   "id": "1de74ba5",
   "metadata": {},
   "source": [
    "## File: ../../sysml/src/examples/Simple Tests/QuantityTest.sysml"
   ]
  },
  {
   "cell_type": "code",
   "execution_count": 1,
   "id": "099cbed3",
   "metadata": {
    "execution": {
     "iopub.execute_input": "2021-06-30T09:22:04.324800Z",
     "iopub.status.busy": "2021-06-30T09:22:04.324399Z",
     "iopub.status.idle": "2021-06-30T09:22:04.437254Z",
     "shell.execute_reply": "2021-06-30T09:22:04.436230Z"
    }
   },
   "outputs": [
    {
     "data": {
      "text/plain": [
       "Package QuantityTest (8e789bcc-517f-4ad8-bc0e-5ae66ee2c4d7)\n"
      ]
     },
     "execution_count": 1,
     "metadata": {},
     "output_type": "execute_result"
    }
   ],
   "source": [
    "package QuantityTest {\n",
    "\timport Quantities::quantities as quantities;\n",
    "\t\n",
    "\tattribute q :> quantities;\n",
    "\t\n",
    "}"
   ]
  },
  {
   "cell_type": "code",
   "execution_count": 2,
   "id": "ff81991e",
   "metadata": {
    "execution": {
     "iopub.execute_input": "2021-06-30T09:22:04.489770Z",
     "iopub.status.busy": "2021-06-30T09:22:04.488732Z",
     "iopub.status.idle": "2021-06-30T09:22:05.056257Z",
     "shell.execute_reply": "2021-06-30T09:22:05.055747Z"
    }
   },
   "outputs": [
    {
     "data": {
      "image/svg+xml": [
       "<?xml version=\"1.0\" encoding=\"UTF-8\" standalone=\"no\"?><svg xmlns=\"http://www.w3.org/2000/svg\" xmlns:xlink=\"http://www.w3.org/1999/xlink\" contentScriptType=\"application/ecmascript\" contentStyleType=\"text/css\" height=\"221px\" preserveAspectRatio=\"none\" style=\"width:320px;height:221px;\" version=\"1.1\" viewBox=\"0 0 320 221\" width=\"320px\" zoomAndPan=\"magnify\"><defs/><g><!--MD5=[fbc87193dbaf4d95561dea2c320d4a47]\n",
       "cluster E1--><a href=\"psysml:f380021c-1a7c-453e-a474-5589714ddc4a\" target=\"_top\" title=\"psysml:f380021c-1a7c-453e-a474-5589714ddc4a\" xlink:actuate=\"onRequest\" xlink:href=\"psysml:f380021c-1a7c-453e-a474-5589714ddc4a\" xlink:show=\"new\" xlink:title=\"psysml:f380021c-1a7c-453e-a474-5589714ddc4a\" xlink:type=\"simple\"><polygon fill=\"#FFFFFF\" points=\"16,6,123,6,130,28.2969,298,28.2969,298,209,16,209,16,6\" style=\"stroke: #000000; stroke-width: 1.5;\"/><line style=\"stroke: #000000; stroke-width: 1.5;\" x1=\"16\" x2=\"130\" y1=\"28.2969\" y2=\"28.2969\"/><text fill=\"#000000\" font-family=\"sans-serif\" font-size=\"14\" font-weight=\"bold\" lengthAdjust=\"spacingAndGlyphs\" textLength=\"101\" x=\"20\" y=\"20.9951\">QuantityTest</text></a><!--MD5=[b4997ac47864f28c2f74865a473b2911]\n",
       "class E2--><a href=\"psysml:c5943d6b-e87d-4b1b-8731-2602b62da777\" target=\"_top\" title=\"psysml:c5943d6b-e87d-4b1b-8731-2602b62da777\" xlink:actuate=\"onRequest\" xlink:href=\"psysml:c5943d6b-e87d-4b1b-8731-2602b62da777\" xlink:show=\"new\" xlink:title=\"psysml:c5943d6b-e87d-4b1b-8731-2602b62da777\" xlink:type=\"simple\"><rect fill=\"#FFFFFF\" height=\"45.9375\" id=\"E2\" rx=\"10\" ry=\"10\" style=\"stroke: #383838; stroke-width: 1.5;\" width=\"249\" x=\"32.5\" y=\"147\"/><text fill=\"#000000\" font-family=\"sans-serif\" font-size=\"12\" font-style=\"italic\" lengthAdjust=\"spacingAndGlyphs\" textLength=\"69\" x=\"122.5\" y=\"163.1387\">«attribute»</text><text fill=\"#000000\" font-family=\"sans-serif\" font-size=\"12\" lengthAdjust=\"spacingAndGlyphs\" textLength=\"243\" x=\"35.5\" y=\"177.1074\">tensorQuantities: TensorQuantityValue</text><line style=\"stroke: #383838; stroke-width: 1.5;\" x1=\"33.5\" x2=\"280.5\" y1=\"184.9375\" y2=\"184.9375\"/></a><!--MD5=[09b614a08d8cba4a07c9adeb5e0fee81]\n",
       "class E3--><a href=\"psysml:88455055-d217-4a9f-96e6-c531cf1f5b6c\" target=\"_top\" title=\"psysml:88455055-d217-4a9f-96e6-c531cf1f5b6c\" xlink:actuate=\"onRequest\" xlink:href=\"psysml:88455055-d217-4a9f-96e6-c531cf1f5b6c\" xlink:show=\"new\" xlink:title=\"psysml:88455055-d217-4a9f-96e6-c531cf1f5b6c\" xlink:type=\"simple\"><rect fill=\"#FFFFFF\" height=\"45.9375\" id=\"E3\" rx=\"10\" ry=\"10\" style=\"stroke: #383838; stroke-width: 1.5;\" width=\"71\" x=\"121.5\" y=\"41\"/><text fill=\"#000000\" font-family=\"sans-serif\" font-size=\"12\" font-style=\"italic\" lengthAdjust=\"spacingAndGlyphs\" textLength=\"69\" x=\"122.5\" y=\"57.1387\">«attribute»</text><text fill=\"#000000\" font-family=\"sans-serif\" font-size=\"12\" lengthAdjust=\"spacingAndGlyphs\" textLength=\"8\" x=\"153\" y=\"71.1074\">q</text><line style=\"stroke: #383838; stroke-width: 1.5;\" x1=\"122.5\" x2=\"191.5\" y1=\"78.9375\" y2=\"78.9375\"/></a><!--MD5=[05d275557350bfb9b23a4ef7222b4c39]\n",
       "link E3 to E2--><a href=\"psysml:11b4979a-79b0-4e55-825e-341a26faa927\" target=\"_top\" title=\"psysml:11b4979a-79b0-4e55-825e-341a26faa927\" xlink:actuate=\"onRequest\" xlink:href=\"psysml:11b4979a-79b0-4e55-825e-341a26faa927\" xlink:show=\"new\" xlink:title=\"psysml:11b4979a-79b0-4e55-825e-341a26faa927\" xlink:type=\"simple\"><path d=\"M157,87.06 C157,98.64 157,113.23 157,126.87 \" fill=\"none\" id=\"E3-&gt;E2\" style=\"stroke: #383838; stroke-width: 1.0;\"/><polygon fill=\"none\" points=\"164,126.98,157,146.98,150,126.98,164,126.98\" style=\"stroke: #383838; stroke-width: 1.0;\"/></a><!--MD5=[003bfebe98ccefbf1e695e7be785c3ea]\n",
       "@startuml\r\n",
       " skinparam monochrome true\r\n",
       "skinparam classbackgroundcolor white\r\n",
       "skinparam shadowing false\r\n",
       "skinparam wrapWidth 300\r\n",
       "hide circle\r\n",
       "\r\n",
       "package \"QuantityTest\" as E1  [[psysml:f380021c-1a7c-453e-a474-5589714ddc4a ]]  {\r\n",
       "comp usage \"tensorQuantities: TensorQuantityValue\" as E2  <<(T,blue) attribute>> [[psysml:c5943d6b-e87d-4b1b-8731-2602b62da777 ]] {\r\n",
       "}\r\n",
       "comp usage \"q\" as E3  <<(T,blue) attribute>> [[psysml:88455055-d217-4a9f-96e6-c531cf1f5b6c ]] {\r\n",
       "}\r\n",
       "E3 - -|> E2 [[psysml:11b4979a-79b0-4e55-825e-341a26faa927 ]] \r\n",
       "}\r\n",
       "@enduml\r\n",
       "\n",
       "PlantUML version 1.2020.13(Sat Jun 13 12:26:38 UTC 2020)\n",
       "(EPL source distribution)\n",
       "Java Runtime: OpenJDK Runtime Environment\n",
       "JVM: OpenJDK 64-Bit Server VM\n",
       "Default Encoding: UTF-8\n",
       "Language: en\n",
       "Country: null\n",
       "--></g></svg>"
      ]
     },
     "execution_count": 2,
     "metadata": {},
     "output_type": "execute_result"
    }
   ],
   "source": [
    "%viz --style=\"COMPTREE\" --view=\"Default\" \"QuantityTest\""
   ]
  },
  {
   "cell_type": "code",
   "execution_count": 3,
   "id": "9c514dba",
   "metadata": {
    "execution": {
     "iopub.execute_input": "2021-06-30T09:22:05.108259Z",
     "iopub.status.busy": "2021-06-30T09:22:05.107702Z",
     "iopub.status.idle": "2021-06-30T09:22:05.149668Z",
     "shell.execute_reply": "2021-06-30T09:22:05.149327Z"
    }
   },
   "outputs": [
    {
     "data": {
      "image/svg+xml": [
       "<?xml version=\"1.0\" encoding=\"UTF-8\" standalone=\"no\"?><svg xmlns=\"http://www.w3.org/2000/svg\" xmlns:xlink=\"http://www.w3.org/1999/xlink\" contentScriptType=\"application/ecmascript\" contentStyleType=\"text/css\" height=\"221px\" preserveAspectRatio=\"none\" style=\"width:320px;height:221px;\" version=\"1.1\" viewBox=\"0 0 320 221\" width=\"320px\" zoomAndPan=\"magnify\"><defs/><g><!--MD5=[fbc87193dbaf4d95561dea2c320d4a47]\n",
       "cluster E1--><a href=\"psysml:f380021c-1a7c-453e-a474-5589714ddc4a\" target=\"_top\" title=\"psysml:f380021c-1a7c-453e-a474-5589714ddc4a\" xlink:actuate=\"onRequest\" xlink:href=\"psysml:f380021c-1a7c-453e-a474-5589714ddc4a\" xlink:show=\"new\" xlink:title=\"psysml:f380021c-1a7c-453e-a474-5589714ddc4a\" xlink:type=\"simple\"><polygon fill=\"#FFFFFF\" points=\"16,6,123,6,130,28.2969,298,28.2969,298,209,16,209,16,6\" style=\"stroke: #000000; stroke-width: 1.5;\"/><line style=\"stroke: #000000; stroke-width: 1.5;\" x1=\"16\" x2=\"130\" y1=\"28.2969\" y2=\"28.2969\"/><text fill=\"#000000\" font-family=\"sans-serif\" font-size=\"14\" font-weight=\"bold\" lengthAdjust=\"spacingAndGlyphs\" textLength=\"101\" x=\"20\" y=\"20.9951\">QuantityTest</text></a><!--MD5=[b4997ac47864f28c2f74865a473b2911]\n",
       "class E2--><a href=\"psysml:c5943d6b-e87d-4b1b-8731-2602b62da777\" target=\"_top\" title=\"psysml:c5943d6b-e87d-4b1b-8731-2602b62da777\" xlink:actuate=\"onRequest\" xlink:href=\"psysml:c5943d6b-e87d-4b1b-8731-2602b62da777\" xlink:show=\"new\" xlink:title=\"psysml:c5943d6b-e87d-4b1b-8731-2602b62da777\" xlink:type=\"simple\"><rect fill=\"#FFFFFF\" height=\"45.9375\" id=\"E2\" rx=\"10\" ry=\"10\" style=\"stroke: #383838; stroke-width: 1.5;\" width=\"249\" x=\"32.5\" y=\"147\"/><text fill=\"#000000\" font-family=\"sans-serif\" font-size=\"12\" font-style=\"italic\" lengthAdjust=\"spacingAndGlyphs\" textLength=\"69\" x=\"122.5\" y=\"163.1387\">«attribute»</text><text fill=\"#000000\" font-family=\"sans-serif\" font-size=\"12\" lengthAdjust=\"spacingAndGlyphs\" textLength=\"243\" x=\"35.5\" y=\"177.1074\">tensorQuantities: TensorQuantityValue</text><line style=\"stroke: #383838; stroke-width: 1.5;\" x1=\"33.5\" x2=\"280.5\" y1=\"184.9375\" y2=\"184.9375\"/></a><!--MD5=[09b614a08d8cba4a07c9adeb5e0fee81]\n",
       "class E3--><a href=\"psysml:88455055-d217-4a9f-96e6-c531cf1f5b6c\" target=\"_top\" title=\"psysml:88455055-d217-4a9f-96e6-c531cf1f5b6c\" xlink:actuate=\"onRequest\" xlink:href=\"psysml:88455055-d217-4a9f-96e6-c531cf1f5b6c\" xlink:show=\"new\" xlink:title=\"psysml:88455055-d217-4a9f-96e6-c531cf1f5b6c\" xlink:type=\"simple\"><rect fill=\"#FFFFFF\" height=\"45.9375\" id=\"E3\" rx=\"10\" ry=\"10\" style=\"stroke: #383838; stroke-width: 1.5;\" width=\"71\" x=\"121.5\" y=\"41\"/><text fill=\"#000000\" font-family=\"sans-serif\" font-size=\"12\" font-style=\"italic\" lengthAdjust=\"spacingAndGlyphs\" textLength=\"69\" x=\"122.5\" y=\"57.1387\">«attribute»</text><text fill=\"#000000\" font-family=\"sans-serif\" font-size=\"12\" lengthAdjust=\"spacingAndGlyphs\" textLength=\"8\" x=\"153\" y=\"71.1074\">q</text><line style=\"stroke: #383838; stroke-width: 1.5;\" x1=\"122.5\" x2=\"191.5\" y1=\"78.9375\" y2=\"78.9375\"/></a><!--MD5=[05d275557350bfb9b23a4ef7222b4c39]\n",
       "link E3 to E2--><a href=\"psysml:11b4979a-79b0-4e55-825e-341a26faa927\" target=\"_top\" title=\"psysml:11b4979a-79b0-4e55-825e-341a26faa927\" xlink:actuate=\"onRequest\" xlink:href=\"psysml:11b4979a-79b0-4e55-825e-341a26faa927\" xlink:show=\"new\" xlink:title=\"psysml:11b4979a-79b0-4e55-825e-341a26faa927\" xlink:type=\"simple\"><path d=\"M157,87.06 C157,98.64 157,113.23 157,126.87 \" fill=\"none\" id=\"E3-&gt;E2\" style=\"stroke: #383838; stroke-width: 1.0;\"/><polygon fill=\"none\" points=\"164,126.98,157,146.98,150,126.98,164,126.98\" style=\"stroke: #383838; stroke-width: 1.0;\"/></a><!--MD5=[003bfebe98ccefbf1e695e7be785c3ea]\n",
       "@startuml\r\n",
       " skinparam monochrome true\r\n",
       "skinparam classbackgroundcolor white\r\n",
       "skinparam shadowing false\r\n",
       "skinparam wrapWidth 300\r\n",
       "hide circle\r\n",
       "\r\n",
       "package \"QuantityTest\" as E1  [[psysml:f380021c-1a7c-453e-a474-5589714ddc4a ]]  {\r\n",
       "comp usage \"tensorQuantities: TensorQuantityValue\" as E2  <<(T,blue) attribute>> [[psysml:c5943d6b-e87d-4b1b-8731-2602b62da777 ]] {\r\n",
       "}\r\n",
       "comp usage \"q\" as E3  <<(T,blue) attribute>> [[psysml:88455055-d217-4a9f-96e6-c531cf1f5b6c ]] {\r\n",
       "}\r\n",
       "E3 - -|> E2 [[psysml:11b4979a-79b0-4e55-825e-341a26faa927 ]] \r\n",
       "}\r\n",
       "@enduml\r\n",
       "\n",
       "PlantUML version 1.2020.13(Sat Jun 13 12:26:38 UTC 2020)\n",
       "(EPL source distribution)\n",
       "Java Runtime: OpenJDK Runtime Environment\n",
       "JVM: OpenJDK 64-Bit Server VM\n",
       "Default Encoding: UTF-8\n",
       "Language: en\n",
       "Country: null\n",
       "--></g></svg>"
      ]
     },
     "execution_count": 3,
     "metadata": {},
     "output_type": "execute_result"
    }
   ],
   "source": [
    "%viz --style=\"COMPTREE\" --view=\"Tree\" \"QuantityTest\""
   ]
  },
  {
   "cell_type": "code",
   "execution_count": 4,
   "id": "8bd003ca",
   "metadata": {
    "execution": {
     "iopub.execute_input": "2021-06-30T09:22:05.200390Z",
     "iopub.status.busy": "2021-06-30T09:22:05.199977Z",
     "iopub.status.idle": "2021-06-30T09:22:05.212492Z",
     "shell.execute_reply": "2021-06-30T09:22:05.211866Z"
    }
   },
   "outputs": [
    {
     "data": {
      "image/svg+xml": [
       "<?xml version=\"1.0\" encoding=\"UTF-8\" standalone=\"no\"?><svg xmlns=\"http://www.w3.org/2000/svg\" xmlns:xlink=\"http://www.w3.org/1999/xlink\" contentScriptType=\"application/ecmascript\" contentStyleType=\"text/css\" height=\"12px\" preserveAspectRatio=\"none\" style=\"width:12px;height:12px;\" version=\"1.1\" viewBox=\"0 0 12 12\" width=\"12px\" zoomAndPan=\"magnify\"><defs/><g><!--MD5=[f19188ef49e11757b5c46753f95d9edc]\n",
       "@startuml\r\n",
       " skinparam monochrome true\r\n",
       "skinparam classbackgroundcolor white\r\n",
       "skinparam shadowing false\r\n",
       "skinparam wrapWidth 300\r\n",
       "hide circle\r\n",
       "\r\n",
       "@enduml\r\n",
       "\n",
       "PlantUML version 1.2020.13(Sat Jun 13 12:26:38 UTC 2020)\n",
       "(EPL source distribution)\n",
       "Java Runtime: OpenJDK Runtime Environment\n",
       "JVM: OpenJDK 64-Bit Server VM\n",
       "Default Encoding: UTF-8\n",
       "Language: en\n",
       "Country: null\n",
       "--></g></svg>"
      ]
     },
     "execution_count": 4,
     "metadata": {},
     "output_type": "execute_result"
    }
   ],
   "source": [
    "%viz --style=\"COMPTREE\" --view=\"State\" \"QuantityTest\""
   ]
  },
  {
   "cell_type": "code",
   "execution_count": 5,
   "id": "d3d2a1f4",
   "metadata": {
    "execution": {
     "iopub.execute_input": "2021-06-30T09:22:05.268397Z",
     "iopub.status.busy": "2021-06-30T09:22:05.266227Z",
     "iopub.status.idle": "2021-06-30T09:22:05.340897Z",
     "shell.execute_reply": "2021-06-30T09:22:05.340218Z"
    }
   },
   "outputs": [
    {
     "data": {
      "image/svg+xml": [
       "<?xml version=\"1.0\" encoding=\"UTF-8\" standalone=\"no\"?><svg xmlns=\"http://www.w3.org/2000/svg\" xmlns:xlink=\"http://www.w3.org/1999/xlink\" contentScriptType=\"application/ecmascript\" contentStyleType=\"text/css\" height=\"171px\" preserveAspectRatio=\"none\" style=\"width:320px;height:171px;\" version=\"1.1\" viewBox=\"0 0 320 171\" width=\"320px\" zoomAndPan=\"magnify\"><defs/><g><!--MD5=[fbc87193dbaf4d95561dea2c320d4a47]\n",
       "cluster E1--><a href=\"psysml:f380021c-1a7c-453e-a474-5589714ddc4a\" target=\"_top\" title=\"psysml:f380021c-1a7c-453e-a474-5589714ddc4a\" xlink:actuate=\"onRequest\" xlink:href=\"psysml:f380021c-1a7c-453e-a474-5589714ddc4a\" xlink:show=\"new\" xlink:title=\"psysml:f380021c-1a7c-453e-a474-5589714ddc4a\" xlink:type=\"simple\"><polygon fill=\"#FFFFFF\" points=\"16,6,123,6,130,28.2969,298,28.2969,298,159,16,159,16,6\" style=\"stroke: #000000; stroke-width: 1.5;\"/><line style=\"stroke: #000000; stroke-width: 1.5;\" x1=\"16\" x2=\"130\" y1=\"28.2969\" y2=\"28.2969\"/><text fill=\"#000000\" font-family=\"sans-serif\" font-size=\"14\" font-weight=\"bold\" lengthAdjust=\"spacingAndGlyphs\" textLength=\"101\" x=\"20\" y=\"20.9951\">QuantityTest</text></a><!--MD5=[b4997ac47864f28c2f74865a473b2911]\n",
       "class E2--><a href=\"psysml:c5943d6b-e87d-4b1b-8731-2602b62da777\" target=\"_top\" title=\"psysml:c5943d6b-e87d-4b1b-8731-2602b62da777\" xlink:actuate=\"onRequest\" xlink:href=\"psysml:c5943d6b-e87d-4b1b-8731-2602b62da777\" xlink:show=\"new\" xlink:title=\"psysml:c5943d6b-e87d-4b1b-8731-2602b62da777\" xlink:type=\"simple\"><rect fill=\"#FFFFFF\" height=\"45.9375\" id=\"E2\" rx=\"10\" ry=\"10\" style=\"stroke: #383838; stroke-width: 1.5;\" width=\"249\" x=\"32.5\" y=\"97\"/><text fill=\"#000000\" font-family=\"sans-serif\" font-size=\"12\" font-style=\"italic\" lengthAdjust=\"spacingAndGlyphs\" textLength=\"69\" x=\"122.5\" y=\"113.1387\">«attribute»</text><text fill=\"#000000\" font-family=\"sans-serif\" font-size=\"12\" lengthAdjust=\"spacingAndGlyphs\" textLength=\"243\" x=\"35.5\" y=\"127.1074\">tensorQuantities: TensorQuantityValue</text><line style=\"stroke: #383838; stroke-width: 1.5;\" x1=\"33.5\" x2=\"280.5\" y1=\"134.9375\" y2=\"134.9375\"/></a><!--MD5=[09b614a08d8cba4a07c9adeb5e0fee81]\n",
       "class E3--><a href=\"psysml:88455055-d217-4a9f-96e6-c531cf1f5b6c\" target=\"_top\" title=\"psysml:88455055-d217-4a9f-96e6-c531cf1f5b6c\" xlink:actuate=\"onRequest\" xlink:href=\"psysml:88455055-d217-4a9f-96e6-c531cf1f5b6c\" xlink:show=\"new\" xlink:title=\"psysml:88455055-d217-4a9f-96e6-c531cf1f5b6c\" xlink:type=\"simple\"><rect fill=\"#FFFFFF\" height=\"45.9375\" id=\"E3\" rx=\"10\" ry=\"10\" style=\"stroke: #383838; stroke-width: 1.5;\" width=\"71\" x=\"121.5\" y=\"41\"/><text fill=\"#000000\" font-family=\"sans-serif\" font-size=\"12\" font-style=\"italic\" lengthAdjust=\"spacingAndGlyphs\" textLength=\"69\" x=\"122.5\" y=\"57.1387\">«attribute»</text><text fill=\"#000000\" font-family=\"sans-serif\" font-size=\"12\" lengthAdjust=\"spacingAndGlyphs\" textLength=\"8\" x=\"153\" y=\"71.1074\">q</text><line style=\"stroke: #383838; stroke-width: 1.5;\" x1=\"122.5\" x2=\"191.5\" y1=\"78.9375\" y2=\"78.9375\"/></a><!--MD5=[05d275557350bfb9b23a4ef7222b4c39]\n",
       "link E3 to E2--><a href=\"psysml:11b4979a-79b0-4e55-825e-341a26faa927\" target=\"_top\" title=\"psysml:11b4979a-79b0-4e55-825e-341a26faa927\" xlink:actuate=\"onRequest\" xlink:href=\"psysml:11b4979a-79b0-4e55-825e-341a26faa927\" xlink:show=\"new\" xlink:title=\"psysml:11b4979a-79b0-4e55-825e-341a26faa927\" xlink:type=\"simple\"><path d=\"M157,87.28 C157,87.37 157,87.47 157,87.57 \" fill=\"none\" id=\"E3-&gt;E2\" style=\"stroke: #383838; stroke-width: 1.0;\"/><polygon fill=\"none\" points=\"164,76.78,157,96.78,150,76.78,164,76.78\" style=\"stroke: #383838; stroke-width: 1.0;\"/></a><!--MD5=[f177a0bc65da6f2a7976ad07803960f2]\n",
       "@startuml\r\n",
       "skinparam ranksep 10\r\n",
       "skinparam rectangle {\r\n",
       " backgroundColor<<block>> LightGreen\r\n",
       "}\r\n",
       " skinparam monochrome true\r\n",
       "skinparam classbackgroundcolor white\r\n",
       "skinparam shadowing false\r\n",
       "skinparam wrapWidth 300\r\n",
       "hide circle\r\n",
       "\r\n",
       "package \"QuantityTest\" as E1  [[psysml:f380021c-1a7c-453e-a474-5589714ddc4a ]]  {\r\n",
       "comp usage \"tensorQuantities: TensorQuantityValue\" as E2  <<(T,blue) attribute>> [[psysml:c5943d6b-e87d-4b1b-8731-2602b62da777 ]] {\r\n",
       "}\r\n",
       "comp usage \"q\" as E3  <<(T,blue) attribute>> [[psysml:88455055-d217-4a9f-96e6-c531cf1f5b6c ]] {\r\n",
       "}\r\n",
       "E3 - -|> E2 [[psysml:11b4979a-79b0-4e55-825e-341a26faa927 ]] \r\n",
       "}\r\n",
       "@enduml\r\n",
       "\n",
       "PlantUML version 1.2020.13(Sat Jun 13 12:26:38 UTC 2020)\n",
       "(EPL source distribution)\n",
       "Java Runtime: OpenJDK Runtime Environment\n",
       "JVM: OpenJDK 64-Bit Server VM\n",
       "Default Encoding: UTF-8\n",
       "Language: en\n",
       "Country: null\n",
       "--></g></svg>"
      ]
     },
     "execution_count": 5,
     "metadata": {},
     "output_type": "execute_result"
    }
   ],
   "source": [
    "%viz --style=\"COMPTREE\" --view=\"Interconnection\" \"QuantityTest\""
   ]
  },
  {
   "cell_type": "code",
   "execution_count": 6,
   "id": "2e30fa7c",
   "metadata": {
    "execution": {
     "iopub.execute_input": "2021-06-30T09:22:05.394352Z",
     "iopub.status.busy": "2021-06-30T09:22:05.393516Z",
     "iopub.status.idle": "2021-06-30T09:22:05.405274Z",
     "shell.execute_reply": "2021-06-30T09:22:05.404931Z"
    }
   },
   "outputs": [
    {
     "data": {
      "image/svg+xml": [
       "<?xml version=\"1.0\" encoding=\"UTF-8\" standalone=\"no\"?><svg xmlns=\"http://www.w3.org/2000/svg\" xmlns:xlink=\"http://www.w3.org/1999/xlink\" contentScriptType=\"application/ecmascript\" contentStyleType=\"text/css\" height=\"12px\" preserveAspectRatio=\"none\" style=\"width:12px;height:12px;\" version=\"1.1\" viewBox=\"0 0 12 12\" width=\"12px\" zoomAndPan=\"magnify\"><defs/><g><!--MD5=[655b888544ca4751ea36af1068543f84]\n",
       "@startuml\r\n",
       "skinparam ranksep 8\r\n",
       " skinparam monochrome true\r\n",
       "skinparam classbackgroundcolor white\r\n",
       "skinparam shadowing false\r\n",
       "skinparam wrapWidth 300\r\n",
       "hide circle\r\n",
       "\r\n",
       "@enduml\r\n",
       "\n",
       "PlantUML version 1.2020.13(Sat Jun 13 12:26:38 UTC 2020)\n",
       "(EPL source distribution)\n",
       "Java Runtime: OpenJDK Runtime Environment\n",
       "JVM: OpenJDK 64-Bit Server VM\n",
       "Default Encoding: UTF-8\n",
       "Language: en\n",
       "Country: null\n",
       "--></g></svg>"
      ]
     },
     "execution_count": 6,
     "metadata": {},
     "output_type": "execute_result"
    }
   ],
   "source": [
    "%viz --style=\"COMPTREE\" --view=\"Action\" \"QuantityTest\""
   ]
  },
  {
   "cell_type": "code",
   "execution_count": 7,
   "id": "543b02b5",
   "metadata": {
    "execution": {
     "iopub.execute_input": "2021-06-30T09:22:05.461652Z",
     "iopub.status.busy": "2021-06-30T09:22:05.461243Z",
     "iopub.status.idle": "2021-06-30T09:22:05.501484Z",
     "shell.execute_reply": "2021-06-30T09:22:05.500558Z"
    }
   },
   "outputs": [
    {
     "data": {
      "image/svg+xml": [
       "<?xml version=\"1.0\" encoding=\"UTF-8\" standalone=\"no\"?><svg xmlns=\"http://www.w3.org/2000/svg\" xmlns:xlink=\"http://www.w3.org/1999/xlink\" contentScriptType=\"application/ecmascript\" contentStyleType=\"text/css\" height=\"221px\" preserveAspectRatio=\"none\" style=\"width:320px;height:221px;\" version=\"1.1\" viewBox=\"0 0 320 221\" width=\"320px\" zoomAndPan=\"magnify\"><defs/><g><!--MD5=[fbc87193dbaf4d95561dea2c320d4a47]\n",
       "cluster E1--><a href=\"psysml:f380021c-1a7c-453e-a474-5589714ddc4a\" target=\"_top\" title=\"psysml:f380021c-1a7c-453e-a474-5589714ddc4a\" xlink:actuate=\"onRequest\" xlink:href=\"psysml:f380021c-1a7c-453e-a474-5589714ddc4a\" xlink:show=\"new\" xlink:title=\"psysml:f380021c-1a7c-453e-a474-5589714ddc4a\" xlink:type=\"simple\"><polygon fill=\"#FFFFFF\" points=\"16,6,123,6,130,28.2969,298,28.2969,298,209,16,209,16,6\" style=\"stroke: #000000; stroke-width: 1.5;\"/><line style=\"stroke: #000000; stroke-width: 1.5;\" x1=\"16\" x2=\"130\" y1=\"28.2969\" y2=\"28.2969\"/><text fill=\"#000000\" font-family=\"sans-serif\" font-size=\"14\" font-weight=\"bold\" lengthAdjust=\"spacingAndGlyphs\" textLength=\"101\" x=\"20\" y=\"20.9951\">QuantityTest</text></a><!--MD5=[b4997ac47864f28c2f74865a473b2911]\n",
       "class E2--><a href=\"psysml:c5943d6b-e87d-4b1b-8731-2602b62da777\" target=\"_top\" title=\"psysml:c5943d6b-e87d-4b1b-8731-2602b62da777\" xlink:actuate=\"onRequest\" xlink:href=\"psysml:c5943d6b-e87d-4b1b-8731-2602b62da777\" xlink:show=\"new\" xlink:title=\"psysml:c5943d6b-e87d-4b1b-8731-2602b62da777\" xlink:type=\"simple\"><rect fill=\"#FFFFFF\" height=\"45.9375\" id=\"E2\" rx=\"10\" ry=\"10\" style=\"stroke: #383838; stroke-width: 1.5;\" width=\"249\" x=\"32.5\" y=\"147\"/><text fill=\"#000000\" font-family=\"sans-serif\" font-size=\"12\" font-style=\"italic\" lengthAdjust=\"spacingAndGlyphs\" textLength=\"69\" x=\"122.5\" y=\"163.1387\">«attribute»</text><text fill=\"#000000\" font-family=\"sans-serif\" font-size=\"12\" lengthAdjust=\"spacingAndGlyphs\" textLength=\"243\" x=\"35.5\" y=\"177.1074\">tensorQuantities: TensorQuantityValue</text><line style=\"stroke: #383838; stroke-width: 1.5;\" x1=\"33.5\" x2=\"280.5\" y1=\"184.9375\" y2=\"184.9375\"/></a><!--MD5=[09b614a08d8cba4a07c9adeb5e0fee81]\n",
       "class E3--><a href=\"psysml:88455055-d217-4a9f-96e6-c531cf1f5b6c\" target=\"_top\" title=\"psysml:88455055-d217-4a9f-96e6-c531cf1f5b6c\" xlink:actuate=\"onRequest\" xlink:href=\"psysml:88455055-d217-4a9f-96e6-c531cf1f5b6c\" xlink:show=\"new\" xlink:title=\"psysml:88455055-d217-4a9f-96e6-c531cf1f5b6c\" xlink:type=\"simple\"><rect fill=\"#FFFFFF\" height=\"45.9375\" id=\"E3\" rx=\"10\" ry=\"10\" style=\"stroke: #383838; stroke-width: 1.5;\" width=\"71\" x=\"121.5\" y=\"41\"/><text fill=\"#000000\" font-family=\"sans-serif\" font-size=\"12\" font-style=\"italic\" lengthAdjust=\"spacingAndGlyphs\" textLength=\"69\" x=\"122.5\" y=\"57.1387\">«attribute»</text><text fill=\"#000000\" font-family=\"sans-serif\" font-size=\"12\" lengthAdjust=\"spacingAndGlyphs\" textLength=\"8\" x=\"153\" y=\"71.1074\">q</text><line style=\"stroke: #383838; stroke-width: 1.5;\" x1=\"122.5\" x2=\"191.5\" y1=\"78.9375\" y2=\"78.9375\"/></a><!--MD5=[05d275557350bfb9b23a4ef7222b4c39]\n",
       "link E3 to E2--><a href=\"psysml:11b4979a-79b0-4e55-825e-341a26faa927\" target=\"_top\" title=\"psysml:11b4979a-79b0-4e55-825e-341a26faa927\" xlink:actuate=\"onRequest\" xlink:href=\"psysml:11b4979a-79b0-4e55-825e-341a26faa927\" xlink:show=\"new\" xlink:title=\"psysml:11b4979a-79b0-4e55-825e-341a26faa927\" xlink:type=\"simple\"><path d=\"M157,87.06 C157,98.64 157,113.23 157,126.87 \" fill=\"none\" id=\"E3-&gt;E2\" style=\"stroke: #383838; stroke-width: 1.0;\"/><polygon fill=\"none\" points=\"164,126.98,157,146.98,150,126.98,164,126.98\" style=\"stroke: #383838; stroke-width: 1.0;\"/></a><!--MD5=[003bfebe98ccefbf1e695e7be785c3ea]\n",
       "@startuml\r\n",
       " skinparam monochrome true\r\n",
       "skinparam classbackgroundcolor white\r\n",
       "skinparam shadowing false\r\n",
       "skinparam wrapWidth 300\r\n",
       "hide circle\r\n",
       "\r\n",
       "package \"QuantityTest\" as E1  [[psysml:f380021c-1a7c-453e-a474-5589714ddc4a ]]  {\r\n",
       "comp usage \"tensorQuantities: TensorQuantityValue\" as E2  <<(T,blue) attribute>> [[psysml:c5943d6b-e87d-4b1b-8731-2602b62da777 ]] {\r\n",
       "}\r\n",
       "comp usage \"q\" as E3  <<(T,blue) attribute>> [[psysml:88455055-d217-4a9f-96e6-c531cf1f5b6c ]] {\r\n",
       "}\r\n",
       "E3 - -|> E2 [[psysml:11b4979a-79b0-4e55-825e-341a26faa927 ]] \r\n",
       "}\r\n",
       "@enduml\r\n",
       "\n",
       "PlantUML version 1.2020.13(Sat Jun 13 12:26:38 UTC 2020)\n",
       "(EPL source distribution)\n",
       "Java Runtime: OpenJDK Runtime Environment\n",
       "JVM: OpenJDK 64-Bit Server VM\n",
       "Default Encoding: UTF-8\n",
       "Language: en\n",
       "Country: null\n",
       "--></g></svg>"
      ]
     },
     "execution_count": 7,
     "metadata": {},
     "output_type": "execute_result"
    }
   ],
   "source": [
    "%viz --style=\"COMPTREE\" --view=\"Sequence\" \"QuantityTest\""
   ]
  },
  {
   "cell_type": "code",
   "execution_count": 8,
   "id": "7e0696ab",
   "metadata": {
    "execution": {
     "iopub.execute_input": "2021-06-30T09:22:05.553649Z",
     "iopub.status.busy": "2021-06-30T09:22:05.552836Z",
     "iopub.status.idle": "2021-06-30T09:22:05.589566Z",
     "shell.execute_reply": "2021-06-30T09:22:05.588748Z"
    }
   },
   "outputs": [
    {
     "data": {
      "image/svg+xml": [
       "<?xml version=\"1.0\" encoding=\"UTF-8\" standalone=\"no\"?><svg xmlns=\"http://www.w3.org/2000/svg\" xmlns:xlink=\"http://www.w3.org/1999/xlink\" contentScriptType=\"application/ecmascript\" contentStyleType=\"text/css\" height=\"221px\" preserveAspectRatio=\"none\" style=\"width:320px;height:221px;\" version=\"1.1\" viewBox=\"0 0 320 221\" width=\"320px\" zoomAndPan=\"magnify\"><defs/><g><!--MD5=[fbc87193dbaf4d95561dea2c320d4a47]\n",
       "cluster E1--><a href=\"psysml:f380021c-1a7c-453e-a474-5589714ddc4a\" target=\"_top\" title=\"psysml:f380021c-1a7c-453e-a474-5589714ddc4a\" xlink:actuate=\"onRequest\" xlink:href=\"psysml:f380021c-1a7c-453e-a474-5589714ddc4a\" xlink:show=\"new\" xlink:title=\"psysml:f380021c-1a7c-453e-a474-5589714ddc4a\" xlink:type=\"simple\"><polygon fill=\"#FFFFFF\" points=\"16,6,123,6,130,28.2969,298,28.2969,298,209,16,209,16,6\" style=\"stroke: #000000; stroke-width: 1.5;\"/><line style=\"stroke: #000000; stroke-width: 1.5;\" x1=\"16\" x2=\"130\" y1=\"28.2969\" y2=\"28.2969\"/><text fill=\"#000000\" font-family=\"sans-serif\" font-size=\"14\" font-weight=\"bold\" lengthAdjust=\"spacingAndGlyphs\" textLength=\"101\" x=\"20\" y=\"20.9951\">QuantityTest</text></a><!--MD5=[b4997ac47864f28c2f74865a473b2911]\n",
       "class E2--><a href=\"psysml:c5943d6b-e87d-4b1b-8731-2602b62da777\" target=\"_top\" title=\"psysml:c5943d6b-e87d-4b1b-8731-2602b62da777\" xlink:actuate=\"onRequest\" xlink:href=\"psysml:c5943d6b-e87d-4b1b-8731-2602b62da777\" xlink:show=\"new\" xlink:title=\"psysml:c5943d6b-e87d-4b1b-8731-2602b62da777\" xlink:type=\"simple\"><rect fill=\"#FFFFFF\" height=\"45.9375\" id=\"E2\" rx=\"10\" ry=\"10\" style=\"stroke: #383838; stroke-width: 1.5;\" width=\"249\" x=\"32.5\" y=\"147\"/><text fill=\"#000000\" font-family=\"sans-serif\" font-size=\"12\" font-style=\"italic\" lengthAdjust=\"spacingAndGlyphs\" textLength=\"69\" x=\"122.5\" y=\"163.1387\">«attribute»</text><text fill=\"#000000\" font-family=\"sans-serif\" font-size=\"12\" lengthAdjust=\"spacingAndGlyphs\" textLength=\"243\" x=\"35.5\" y=\"177.1074\">tensorQuantities: TensorQuantityValue</text><line style=\"stroke: #383838; stroke-width: 1.5;\" x1=\"33.5\" x2=\"280.5\" y1=\"184.9375\" y2=\"184.9375\"/></a><!--MD5=[09b614a08d8cba4a07c9adeb5e0fee81]\n",
       "class E3--><a href=\"psysml:88455055-d217-4a9f-96e6-c531cf1f5b6c\" target=\"_top\" title=\"psysml:88455055-d217-4a9f-96e6-c531cf1f5b6c\" xlink:actuate=\"onRequest\" xlink:href=\"psysml:88455055-d217-4a9f-96e6-c531cf1f5b6c\" xlink:show=\"new\" xlink:title=\"psysml:88455055-d217-4a9f-96e6-c531cf1f5b6c\" xlink:type=\"simple\"><rect fill=\"#FFFFFF\" height=\"45.9375\" id=\"E3\" rx=\"10\" ry=\"10\" style=\"stroke: #383838; stroke-width: 1.5;\" width=\"71\" x=\"121.5\" y=\"41\"/><text fill=\"#000000\" font-family=\"sans-serif\" font-size=\"12\" font-style=\"italic\" lengthAdjust=\"spacingAndGlyphs\" textLength=\"69\" x=\"122.5\" y=\"57.1387\">«attribute»</text><text fill=\"#000000\" font-family=\"sans-serif\" font-size=\"12\" lengthAdjust=\"spacingAndGlyphs\" textLength=\"8\" x=\"153\" y=\"71.1074\">q</text><line style=\"stroke: #383838; stroke-width: 1.5;\" x1=\"122.5\" x2=\"191.5\" y1=\"78.9375\" y2=\"78.9375\"/></a><!--MD5=[05d275557350bfb9b23a4ef7222b4c39]\n",
       "link E3 to E2--><a href=\"psysml:11b4979a-79b0-4e55-825e-341a26faa927\" target=\"_top\" title=\"psysml:11b4979a-79b0-4e55-825e-341a26faa927\" xlink:actuate=\"onRequest\" xlink:href=\"psysml:11b4979a-79b0-4e55-825e-341a26faa927\" xlink:show=\"new\" xlink:title=\"psysml:11b4979a-79b0-4e55-825e-341a26faa927\" xlink:type=\"simple\"><path d=\"M157,87.06 C157,98.64 157,113.23 157,126.87 \" fill=\"none\" id=\"E3-&gt;E2\" style=\"stroke: #383838; stroke-width: 1.0;\"/><polygon fill=\"none\" points=\"164,126.98,157,146.98,150,126.98,164,126.98\" style=\"stroke: #383838; stroke-width: 1.0;\"/></a><!--MD5=[003bfebe98ccefbf1e695e7be785c3ea]\n",
       "@startuml\r\n",
       " skinparam monochrome true\r\n",
       "skinparam classbackgroundcolor white\r\n",
       "skinparam shadowing false\r\n",
       "skinparam wrapWidth 300\r\n",
       "hide circle\r\n",
       "\r\n",
       "package \"QuantityTest\" as E1  [[psysml:f380021c-1a7c-453e-a474-5589714ddc4a ]]  {\r\n",
       "comp usage \"tensorQuantities: TensorQuantityValue\" as E2  <<(T,blue) attribute>> [[psysml:c5943d6b-e87d-4b1b-8731-2602b62da777 ]] {\r\n",
       "}\r\n",
       "comp usage \"q\" as E3  <<(T,blue) attribute>> [[psysml:88455055-d217-4a9f-96e6-c531cf1f5b6c ]] {\r\n",
       "}\r\n",
       "E3 - -|> E2 [[psysml:11b4979a-79b0-4e55-825e-341a26faa927 ]] \r\n",
       "}\r\n",
       "@enduml\r\n",
       "\n",
       "PlantUML version 1.2020.13(Sat Jun 13 12:26:38 UTC 2020)\n",
       "(EPL source distribution)\n",
       "Java Runtime: OpenJDK Runtime Environment\n",
       "JVM: OpenJDK 64-Bit Server VM\n",
       "Default Encoding: UTF-8\n",
       "Language: en\n",
       "Country: null\n",
       "--></g></svg>"
      ]
     },
     "execution_count": 8,
     "metadata": {},
     "output_type": "execute_result"
    }
   ],
   "source": [
    "%viz --style=\"COMPTREE\" --view=\"MIXED\" \"QuantityTest\""
   ]
  },
  {
   "cell_type": "code",
   "execution_count": 9,
   "id": "8122b0b7",
   "metadata": {
    "execution": {
     "iopub.execute_input": "2021-06-30T09:22:05.641506Z",
     "iopub.status.busy": "2021-06-30T09:22:05.640532Z",
     "iopub.status.idle": "2021-06-30T09:22:05.675603Z",
     "shell.execute_reply": "2021-06-30T09:22:05.674517Z"
    }
   },
   "outputs": [
    {
     "data": {
      "image/svg+xml": [
       "<?xml version=\"1.0\" encoding=\"UTF-8\" standalone=\"no\"?><svg xmlns=\"http://www.w3.org/2000/svg\" xmlns:xlink=\"http://www.w3.org/1999/xlink\" contentScriptType=\"application/ecmascript\" contentStyleType=\"text/css\" height=\"221px\" preserveAspectRatio=\"none\" style=\"width:320px;height:221px;\" version=\"1.1\" viewBox=\"0 0 320 221\" width=\"320px\" zoomAndPan=\"magnify\"><defs/><g><!--MD5=[fbc87193dbaf4d95561dea2c320d4a47]\n",
       "cluster E1--><a href=\"psysml:f380021c-1a7c-453e-a474-5589714ddc4a\" target=\"_top\" title=\"psysml:f380021c-1a7c-453e-a474-5589714ddc4a\" xlink:actuate=\"onRequest\" xlink:href=\"psysml:f380021c-1a7c-453e-a474-5589714ddc4a\" xlink:show=\"new\" xlink:title=\"psysml:f380021c-1a7c-453e-a474-5589714ddc4a\" xlink:type=\"simple\"><polygon fill=\"#FFFFFF\" points=\"16,6,123,6,130,28.2969,298,28.2969,298,209,16,209,16,6\" style=\"stroke: #000000; stroke-width: 1.5;\"/><line style=\"stroke: #000000; stroke-width: 1.5;\" x1=\"16\" x2=\"130\" y1=\"28.2969\" y2=\"28.2969\"/><text fill=\"#000000\" font-family=\"sans-serif\" font-size=\"14\" font-weight=\"bold\" lengthAdjust=\"spacingAndGlyphs\" textLength=\"101\" x=\"20\" y=\"20.9951\">QuantityTest</text></a><!--MD5=[b4997ac47864f28c2f74865a473b2911]\n",
       "class E2--><a href=\"psysml:c5943d6b-e87d-4b1b-8731-2602b62da777\" target=\"_top\" title=\"psysml:c5943d6b-e87d-4b1b-8731-2602b62da777\" xlink:actuate=\"onRequest\" xlink:href=\"psysml:c5943d6b-e87d-4b1b-8731-2602b62da777\" xlink:show=\"new\" xlink:title=\"psysml:c5943d6b-e87d-4b1b-8731-2602b62da777\" xlink:type=\"simple\"><rect fill=\"#FFFFFF\" height=\"45.9375\" id=\"E2\" rx=\"10\" ry=\"10\" style=\"stroke: #383838; stroke-width: 1.5;\" width=\"249\" x=\"32.5\" y=\"147\"/><text fill=\"#000000\" font-family=\"sans-serif\" font-size=\"12\" font-style=\"italic\" lengthAdjust=\"spacingAndGlyphs\" textLength=\"69\" x=\"122.5\" y=\"163.1387\">«attribute»</text><text fill=\"#000000\" font-family=\"sans-serif\" font-size=\"12\" lengthAdjust=\"spacingAndGlyphs\" textLength=\"243\" x=\"35.5\" y=\"177.1074\">tensorQuantities: TensorQuantityValue</text><line style=\"stroke: #383838; stroke-width: 1.5;\" x1=\"33.5\" x2=\"280.5\" y1=\"184.9375\" y2=\"184.9375\"/></a><!--MD5=[09b614a08d8cba4a07c9adeb5e0fee81]\n",
       "class E3--><a href=\"psysml:88455055-d217-4a9f-96e6-c531cf1f5b6c\" target=\"_top\" title=\"psysml:88455055-d217-4a9f-96e6-c531cf1f5b6c\" xlink:actuate=\"onRequest\" xlink:href=\"psysml:88455055-d217-4a9f-96e6-c531cf1f5b6c\" xlink:show=\"new\" xlink:title=\"psysml:88455055-d217-4a9f-96e6-c531cf1f5b6c\" xlink:type=\"simple\"><rect fill=\"#FFFFFF\" height=\"45.9375\" id=\"E3\" rx=\"10\" ry=\"10\" style=\"stroke: #383838; stroke-width: 1.5;\" width=\"71\" x=\"121.5\" y=\"41\"/><text fill=\"#000000\" font-family=\"sans-serif\" font-size=\"12\" font-style=\"italic\" lengthAdjust=\"spacingAndGlyphs\" textLength=\"69\" x=\"122.5\" y=\"57.1387\">«attribute»</text><text fill=\"#000000\" font-family=\"sans-serif\" font-size=\"12\" lengthAdjust=\"spacingAndGlyphs\" textLength=\"8\" x=\"153\" y=\"71.1074\">q</text><line style=\"stroke: #383838; stroke-width: 1.5;\" x1=\"122.5\" x2=\"191.5\" y1=\"78.9375\" y2=\"78.9375\"/></a><!--MD5=[05d275557350bfb9b23a4ef7222b4c39]\n",
       "link E3 to E2--><a href=\"psysml:11b4979a-79b0-4e55-825e-341a26faa927\" target=\"_top\" title=\"psysml:11b4979a-79b0-4e55-825e-341a26faa927\" xlink:actuate=\"onRequest\" xlink:href=\"psysml:11b4979a-79b0-4e55-825e-341a26faa927\" xlink:show=\"new\" xlink:title=\"psysml:11b4979a-79b0-4e55-825e-341a26faa927\" xlink:type=\"simple\"><path d=\"M157,87.06 C157,98.64 157,113.23 157,126.87 \" fill=\"none\" id=\"E3-&gt;E2\" style=\"stroke: #383838; stroke-width: 1.0;\"/><polygon fill=\"none\" points=\"164,126.98,157,146.98,150,126.98,164,126.98\" style=\"stroke: #383838; stroke-width: 1.0;\"/></a><!--MD5=[b0dcd505186ab43b417e71fe13f415f3]\n",
       "@startuml\r\n",
       "skinparam linetype polyline\r\n",
       "skinparam monochrome true\r\n",
       "skinparam classbackgroundcolor white\r\n",
       "skinparam shadowing false\r\n",
       "skinparam wrapWidth 300\r\n",
       "hide circle\r\n",
       "\r\n",
       "package \"QuantityTest\" as E1  [[psysml:f380021c-1a7c-453e-a474-5589714ddc4a ]]  {\r\n",
       "comp usage \"tensorQuantities: TensorQuantityValue\" as E2  <<(T,blue) attribute>> [[psysml:c5943d6b-e87d-4b1b-8731-2602b62da777 ]] {\r\n",
       "}\r\n",
       "comp usage \"q\" as E3  <<(T,blue) attribute>> [[psysml:88455055-d217-4a9f-96e6-c531cf1f5b6c ]] {\r\n",
       "}\r\n",
       "E3 - -|> E2 [[psysml:11b4979a-79b0-4e55-825e-341a26faa927 ]] \r\n",
       "}\r\n",
       "@enduml\r\n",
       "\n",
       "PlantUML version 1.2020.13(Sat Jun 13 12:26:38 UTC 2020)\n",
       "(EPL source distribution)\n",
       "Java Runtime: OpenJDK Runtime Environment\n",
       "JVM: OpenJDK 64-Bit Server VM\n",
       "Default Encoding: UTF-8\n",
       "Language: en\n",
       "Country: null\n",
       "--></g></svg>"
      ]
     },
     "execution_count": 9,
     "metadata": {},
     "output_type": "execute_result"
    }
   ],
   "source": [
    "%viz --style=\"POLYLINE\" --view=\"Default\" \"QuantityTest\""
   ]
  },
  {
   "cell_type": "code",
   "execution_count": 10,
   "id": "9d16c635",
   "metadata": {
    "execution": {
     "iopub.execute_input": "2021-06-30T09:22:05.727482Z",
     "iopub.status.busy": "2021-06-30T09:22:05.726570Z",
     "iopub.status.idle": "2021-06-30T09:22:05.766238Z",
     "shell.execute_reply": "2021-06-30T09:22:05.765275Z"
    }
   },
   "outputs": [
    {
     "data": {
      "image/svg+xml": [
       "<?xml version=\"1.0\" encoding=\"UTF-8\" standalone=\"no\"?><svg xmlns=\"http://www.w3.org/2000/svg\" xmlns:xlink=\"http://www.w3.org/1999/xlink\" contentScriptType=\"application/ecmascript\" contentStyleType=\"text/css\" height=\"221px\" preserveAspectRatio=\"none\" style=\"width:320px;height:221px;\" version=\"1.1\" viewBox=\"0 0 320 221\" width=\"320px\" zoomAndPan=\"magnify\"><defs/><g><!--MD5=[fbc87193dbaf4d95561dea2c320d4a47]\n",
       "cluster E1--><a href=\"psysml:f380021c-1a7c-453e-a474-5589714ddc4a\" target=\"_top\" title=\"psysml:f380021c-1a7c-453e-a474-5589714ddc4a\" xlink:actuate=\"onRequest\" xlink:href=\"psysml:f380021c-1a7c-453e-a474-5589714ddc4a\" xlink:show=\"new\" xlink:title=\"psysml:f380021c-1a7c-453e-a474-5589714ddc4a\" xlink:type=\"simple\"><polygon fill=\"#FFFFFF\" points=\"16,6,123,6,130,28.2969,298,28.2969,298,209,16,209,16,6\" style=\"stroke: #000000; stroke-width: 1.5;\"/><line style=\"stroke: #000000; stroke-width: 1.5;\" x1=\"16\" x2=\"130\" y1=\"28.2969\" y2=\"28.2969\"/><text fill=\"#000000\" font-family=\"sans-serif\" font-size=\"14\" font-weight=\"bold\" lengthAdjust=\"spacingAndGlyphs\" textLength=\"101\" x=\"20\" y=\"20.9951\">QuantityTest</text></a><!--MD5=[b4997ac47864f28c2f74865a473b2911]\n",
       "class E2--><a href=\"psysml:c5943d6b-e87d-4b1b-8731-2602b62da777\" target=\"_top\" title=\"psysml:c5943d6b-e87d-4b1b-8731-2602b62da777\" xlink:actuate=\"onRequest\" xlink:href=\"psysml:c5943d6b-e87d-4b1b-8731-2602b62da777\" xlink:show=\"new\" xlink:title=\"psysml:c5943d6b-e87d-4b1b-8731-2602b62da777\" xlink:type=\"simple\"><rect fill=\"#FFFFFF\" height=\"45.9375\" id=\"E2\" rx=\"10\" ry=\"10\" style=\"stroke: #383838; stroke-width: 1.5;\" width=\"249\" x=\"32.5\" y=\"147\"/><text fill=\"#000000\" font-family=\"sans-serif\" font-size=\"12\" font-style=\"italic\" lengthAdjust=\"spacingAndGlyphs\" textLength=\"69\" x=\"122.5\" y=\"163.1387\">«attribute»</text><text fill=\"#000000\" font-family=\"sans-serif\" font-size=\"12\" lengthAdjust=\"spacingAndGlyphs\" textLength=\"243\" x=\"35.5\" y=\"177.1074\">tensorQuantities: TensorQuantityValue</text><line style=\"stroke: #383838; stroke-width: 1.5;\" x1=\"33.5\" x2=\"280.5\" y1=\"184.9375\" y2=\"184.9375\"/></a><!--MD5=[09b614a08d8cba4a07c9adeb5e0fee81]\n",
       "class E3--><a href=\"psysml:88455055-d217-4a9f-96e6-c531cf1f5b6c\" target=\"_top\" title=\"psysml:88455055-d217-4a9f-96e6-c531cf1f5b6c\" xlink:actuate=\"onRequest\" xlink:href=\"psysml:88455055-d217-4a9f-96e6-c531cf1f5b6c\" xlink:show=\"new\" xlink:title=\"psysml:88455055-d217-4a9f-96e6-c531cf1f5b6c\" xlink:type=\"simple\"><rect fill=\"#FFFFFF\" height=\"45.9375\" id=\"E3\" rx=\"10\" ry=\"10\" style=\"stroke: #383838; stroke-width: 1.5;\" width=\"71\" x=\"121.5\" y=\"41\"/><text fill=\"#000000\" font-family=\"sans-serif\" font-size=\"12\" font-style=\"italic\" lengthAdjust=\"spacingAndGlyphs\" textLength=\"69\" x=\"122.5\" y=\"57.1387\">«attribute»</text><text fill=\"#000000\" font-family=\"sans-serif\" font-size=\"12\" lengthAdjust=\"spacingAndGlyphs\" textLength=\"8\" x=\"153\" y=\"71.1074\">q</text><line style=\"stroke: #383838; stroke-width: 1.5;\" x1=\"122.5\" x2=\"191.5\" y1=\"78.9375\" y2=\"78.9375\"/></a><!--MD5=[05d275557350bfb9b23a4ef7222b4c39]\n",
       "link E3 to E2--><a href=\"psysml:11b4979a-79b0-4e55-825e-341a26faa927\" target=\"_top\" title=\"psysml:11b4979a-79b0-4e55-825e-341a26faa927\" xlink:actuate=\"onRequest\" xlink:href=\"psysml:11b4979a-79b0-4e55-825e-341a26faa927\" xlink:show=\"new\" xlink:title=\"psysml:11b4979a-79b0-4e55-825e-341a26faa927\" xlink:type=\"simple\"><path d=\"M157,87.06 C157,98.64 157,113.23 157,126.87 \" fill=\"none\" id=\"E3-&gt;E2\" style=\"stroke: #383838; stroke-width: 1.0;\"/><polygon fill=\"none\" points=\"164,126.98,157,146.98,150,126.98,164,126.98\" style=\"stroke: #383838; stroke-width: 1.0;\"/></a><!--MD5=[b0dcd505186ab43b417e71fe13f415f3]\n",
       "@startuml\r\n",
       "skinparam linetype polyline\r\n",
       "skinparam monochrome true\r\n",
       "skinparam classbackgroundcolor white\r\n",
       "skinparam shadowing false\r\n",
       "skinparam wrapWidth 300\r\n",
       "hide circle\r\n",
       "\r\n",
       "package \"QuantityTest\" as E1  [[psysml:f380021c-1a7c-453e-a474-5589714ddc4a ]]  {\r\n",
       "comp usage \"tensorQuantities: TensorQuantityValue\" as E2  <<(T,blue) attribute>> [[psysml:c5943d6b-e87d-4b1b-8731-2602b62da777 ]] {\r\n",
       "}\r\n",
       "comp usage \"q\" as E3  <<(T,blue) attribute>> [[psysml:88455055-d217-4a9f-96e6-c531cf1f5b6c ]] {\r\n",
       "}\r\n",
       "E3 - -|> E2 [[psysml:11b4979a-79b0-4e55-825e-341a26faa927 ]] \r\n",
       "}\r\n",
       "@enduml\r\n",
       "\n",
       "PlantUML version 1.2020.13(Sat Jun 13 12:26:38 UTC 2020)\n",
       "(EPL source distribution)\n",
       "Java Runtime: OpenJDK Runtime Environment\n",
       "JVM: OpenJDK 64-Bit Server VM\n",
       "Default Encoding: UTF-8\n",
       "Language: en\n",
       "Country: null\n",
       "--></g></svg>"
      ]
     },
     "execution_count": 10,
     "metadata": {},
     "output_type": "execute_result"
    }
   ],
   "source": [
    "%viz --style=\"POLYLINE\" --view=\"Tree\" \"QuantityTest\""
   ]
  },
  {
   "cell_type": "code",
   "execution_count": 11,
   "id": "ef6ddd6c",
   "metadata": {
    "execution": {
     "iopub.execute_input": "2021-06-30T09:22:05.818406Z",
     "iopub.status.busy": "2021-06-30T09:22:05.817715Z",
     "iopub.status.idle": "2021-06-30T09:22:05.827169Z",
     "shell.execute_reply": "2021-06-30T09:22:05.826360Z"
    }
   },
   "outputs": [
    {
     "data": {
      "image/svg+xml": [
       "<?xml version=\"1.0\" encoding=\"UTF-8\" standalone=\"no\"?><svg xmlns=\"http://www.w3.org/2000/svg\" xmlns:xlink=\"http://www.w3.org/1999/xlink\" contentScriptType=\"application/ecmascript\" contentStyleType=\"text/css\" height=\"12px\" preserveAspectRatio=\"none\" style=\"width:12px;height:12px;\" version=\"1.1\" viewBox=\"0 0 12 12\" width=\"12px\" zoomAndPan=\"magnify\"><defs/><g><!--MD5=[896ac0e7a515d8dd7765a661cb4ee08b]\n",
       "@startuml\r\n",
       "skinparam linetype polyline\r\n",
       "skinparam monochrome true\r\n",
       "skinparam classbackgroundcolor white\r\n",
       "skinparam shadowing false\r\n",
       "skinparam wrapWidth 300\r\n",
       "hide circle\r\n",
       "\r\n",
       "@enduml\r\n",
       "\n",
       "PlantUML version 1.2020.13(Sat Jun 13 12:26:38 UTC 2020)\n",
       "(EPL source distribution)\n",
       "Java Runtime: OpenJDK Runtime Environment\n",
       "JVM: OpenJDK 64-Bit Server VM\n",
       "Default Encoding: UTF-8\n",
       "Language: en\n",
       "Country: null\n",
       "--></g></svg>"
      ]
     },
     "execution_count": 11,
     "metadata": {},
     "output_type": "execute_result"
    }
   ],
   "source": [
    "%viz --style=\"POLYLINE\" --view=\"State\" \"QuantityTest\""
   ]
  },
  {
   "cell_type": "code",
   "execution_count": 12,
   "id": "eed319df",
   "metadata": {
    "execution": {
     "iopub.execute_input": "2021-06-30T09:22:05.880475Z",
     "iopub.status.busy": "2021-06-30T09:22:05.879587Z",
     "iopub.status.idle": "2021-06-30T09:22:05.920622Z",
     "shell.execute_reply": "2021-06-30T09:22:05.919549Z"
    }
   },
   "outputs": [
    {
     "data": {
      "image/svg+xml": [
       "<?xml version=\"1.0\" encoding=\"UTF-8\" standalone=\"no\"?><svg xmlns=\"http://www.w3.org/2000/svg\" xmlns:xlink=\"http://www.w3.org/1999/xlink\" contentScriptType=\"application/ecmascript\" contentStyleType=\"text/css\" height=\"171px\" preserveAspectRatio=\"none\" style=\"width:320px;height:171px;\" version=\"1.1\" viewBox=\"0 0 320 171\" width=\"320px\" zoomAndPan=\"magnify\"><defs/><g><!--MD5=[fbc87193dbaf4d95561dea2c320d4a47]\n",
       "cluster E1--><a href=\"psysml:f380021c-1a7c-453e-a474-5589714ddc4a\" target=\"_top\" title=\"psysml:f380021c-1a7c-453e-a474-5589714ddc4a\" xlink:actuate=\"onRequest\" xlink:href=\"psysml:f380021c-1a7c-453e-a474-5589714ddc4a\" xlink:show=\"new\" xlink:title=\"psysml:f380021c-1a7c-453e-a474-5589714ddc4a\" xlink:type=\"simple\"><polygon fill=\"#FFFFFF\" points=\"16,6,123,6,130,28.2969,298,28.2969,298,159,16,159,16,6\" style=\"stroke: #000000; stroke-width: 1.5;\"/><line style=\"stroke: #000000; stroke-width: 1.5;\" x1=\"16\" x2=\"130\" y1=\"28.2969\" y2=\"28.2969\"/><text fill=\"#000000\" font-family=\"sans-serif\" font-size=\"14\" font-weight=\"bold\" lengthAdjust=\"spacingAndGlyphs\" textLength=\"101\" x=\"20\" y=\"20.9951\">QuantityTest</text></a><!--MD5=[b4997ac47864f28c2f74865a473b2911]\n",
       "class E2--><a href=\"psysml:c5943d6b-e87d-4b1b-8731-2602b62da777\" target=\"_top\" title=\"psysml:c5943d6b-e87d-4b1b-8731-2602b62da777\" xlink:actuate=\"onRequest\" xlink:href=\"psysml:c5943d6b-e87d-4b1b-8731-2602b62da777\" xlink:show=\"new\" xlink:title=\"psysml:c5943d6b-e87d-4b1b-8731-2602b62da777\" xlink:type=\"simple\"><rect fill=\"#FFFFFF\" height=\"45.9375\" id=\"E2\" rx=\"10\" ry=\"10\" style=\"stroke: #383838; stroke-width: 1.5;\" width=\"249\" x=\"32.5\" y=\"97\"/><text fill=\"#000000\" font-family=\"sans-serif\" font-size=\"12\" font-style=\"italic\" lengthAdjust=\"spacingAndGlyphs\" textLength=\"69\" x=\"122.5\" y=\"113.1387\">«attribute»</text><text fill=\"#000000\" font-family=\"sans-serif\" font-size=\"12\" lengthAdjust=\"spacingAndGlyphs\" textLength=\"243\" x=\"35.5\" y=\"127.1074\">tensorQuantities: TensorQuantityValue</text><line style=\"stroke: #383838; stroke-width: 1.5;\" x1=\"33.5\" x2=\"280.5\" y1=\"134.9375\" y2=\"134.9375\"/></a><!--MD5=[09b614a08d8cba4a07c9adeb5e0fee81]\n",
       "class E3--><a href=\"psysml:88455055-d217-4a9f-96e6-c531cf1f5b6c\" target=\"_top\" title=\"psysml:88455055-d217-4a9f-96e6-c531cf1f5b6c\" xlink:actuate=\"onRequest\" xlink:href=\"psysml:88455055-d217-4a9f-96e6-c531cf1f5b6c\" xlink:show=\"new\" xlink:title=\"psysml:88455055-d217-4a9f-96e6-c531cf1f5b6c\" xlink:type=\"simple\"><rect fill=\"#FFFFFF\" height=\"45.9375\" id=\"E3\" rx=\"10\" ry=\"10\" style=\"stroke: #383838; stroke-width: 1.5;\" width=\"71\" x=\"121.5\" y=\"41\"/><text fill=\"#000000\" font-family=\"sans-serif\" font-size=\"12\" font-style=\"italic\" lengthAdjust=\"spacingAndGlyphs\" textLength=\"69\" x=\"122.5\" y=\"57.1387\">«attribute»</text><text fill=\"#000000\" font-family=\"sans-serif\" font-size=\"12\" lengthAdjust=\"spacingAndGlyphs\" textLength=\"8\" x=\"153\" y=\"71.1074\">q</text><line style=\"stroke: #383838; stroke-width: 1.5;\" x1=\"122.5\" x2=\"191.5\" y1=\"78.9375\" y2=\"78.9375\"/></a><!--MD5=[05d275557350bfb9b23a4ef7222b4c39]\n",
       "link E3 to E2--><a href=\"psysml:11b4979a-79b0-4e55-825e-341a26faa927\" target=\"_top\" title=\"psysml:11b4979a-79b0-4e55-825e-341a26faa927\" xlink:actuate=\"onRequest\" xlink:href=\"psysml:11b4979a-79b0-4e55-825e-341a26faa927\" xlink:show=\"new\" xlink:title=\"psysml:11b4979a-79b0-4e55-825e-341a26faa927\" xlink:type=\"simple\"><path d=\"M157,87.28 C157,87.37 157,87.47 157,87.57 \" fill=\"none\" id=\"E3-&gt;E2\" style=\"stroke: #383838; stroke-width: 1.0;\"/><polygon fill=\"none\" points=\"164,76.78,157,96.78,150,76.78,164,76.78\" style=\"stroke: #383838; stroke-width: 1.0;\"/></a><!--MD5=[3a2a7121b179f6a7f7caa4e1b9cdeb68]\n",
       "@startuml\r\n",
       "skinparam ranksep 10\r\n",
       "skinparam rectangle {\r\n",
       " backgroundColor<<block>> LightGreen\r\n",
       "}\r\n",
       "skinparam linetype polyline\r\n",
       "skinparam monochrome true\r\n",
       "skinparam classbackgroundcolor white\r\n",
       "skinparam shadowing false\r\n",
       "skinparam wrapWidth 300\r\n",
       "hide circle\r\n",
       "\r\n",
       "package \"QuantityTest\" as E1  [[psysml:f380021c-1a7c-453e-a474-5589714ddc4a ]]  {\r\n",
       "comp usage \"tensorQuantities: TensorQuantityValue\" as E2  <<(T,blue) attribute>> [[psysml:c5943d6b-e87d-4b1b-8731-2602b62da777 ]] {\r\n",
       "}\r\n",
       "comp usage \"q\" as E3  <<(T,blue) attribute>> [[psysml:88455055-d217-4a9f-96e6-c531cf1f5b6c ]] {\r\n",
       "}\r\n",
       "E3 - -|> E2 [[psysml:11b4979a-79b0-4e55-825e-341a26faa927 ]] \r\n",
       "}\r\n",
       "@enduml\r\n",
       "\n",
       "PlantUML version 1.2020.13(Sat Jun 13 12:26:38 UTC 2020)\n",
       "(EPL source distribution)\n",
       "Java Runtime: OpenJDK Runtime Environment\n",
       "JVM: OpenJDK 64-Bit Server VM\n",
       "Default Encoding: UTF-8\n",
       "Language: en\n",
       "Country: null\n",
       "--></g></svg>"
      ]
     },
     "execution_count": 12,
     "metadata": {},
     "output_type": "execute_result"
    }
   ],
   "source": [
    "%viz --style=\"POLYLINE\" --view=\"Interconnection\" \"QuantityTest\""
   ]
  },
  {
   "cell_type": "code",
   "execution_count": 13,
   "id": "f41139e4",
   "metadata": {
    "execution": {
     "iopub.execute_input": "2021-06-30T09:22:05.972910Z",
     "iopub.status.busy": "2021-06-30T09:22:05.971928Z",
     "iopub.status.idle": "2021-06-30T09:22:05.982441Z",
     "shell.execute_reply": "2021-06-30T09:22:05.981574Z"
    }
   },
   "outputs": [
    {
     "data": {
      "image/svg+xml": [
       "<?xml version=\"1.0\" encoding=\"UTF-8\" standalone=\"no\"?><svg xmlns=\"http://www.w3.org/2000/svg\" xmlns:xlink=\"http://www.w3.org/1999/xlink\" contentScriptType=\"application/ecmascript\" contentStyleType=\"text/css\" height=\"12px\" preserveAspectRatio=\"none\" style=\"width:12px;height:12px;\" version=\"1.1\" viewBox=\"0 0 12 12\" width=\"12px\" zoomAndPan=\"magnify\"><defs/><g><!--MD5=[97bbf32f66ccd50cbc40d92ea8f5a65e]\n",
       "@startuml\r\n",
       "skinparam ranksep 8\r\n",
       "skinparam linetype polyline\r\n",
       "skinparam monochrome true\r\n",
       "skinparam classbackgroundcolor white\r\n",
       "skinparam shadowing false\r\n",
       "skinparam wrapWidth 300\r\n",
       "hide circle\r\n",
       "\r\n",
       "@enduml\r\n",
       "\n",
       "PlantUML version 1.2020.13(Sat Jun 13 12:26:38 UTC 2020)\n",
       "(EPL source distribution)\n",
       "Java Runtime: OpenJDK Runtime Environment\n",
       "JVM: OpenJDK 64-Bit Server VM\n",
       "Default Encoding: UTF-8\n",
       "Language: en\n",
       "Country: null\n",
       "--></g></svg>"
      ]
     },
     "execution_count": 13,
     "metadata": {},
     "output_type": "execute_result"
    }
   ],
   "source": [
    "%viz --style=\"POLYLINE\" --view=\"Action\" \"QuantityTest\""
   ]
  },
  {
   "cell_type": "code",
   "execution_count": 14,
   "id": "13503e9e",
   "metadata": {
    "execution": {
     "iopub.execute_input": "2021-06-30T09:22:06.034754Z",
     "iopub.status.busy": "2021-06-30T09:22:06.033825Z",
     "iopub.status.idle": "2021-06-30T09:22:06.074400Z",
     "shell.execute_reply": "2021-06-30T09:22:06.073487Z"
    }
   },
   "outputs": [
    {
     "data": {
      "image/svg+xml": [
       "<?xml version=\"1.0\" encoding=\"UTF-8\" standalone=\"no\"?><svg xmlns=\"http://www.w3.org/2000/svg\" xmlns:xlink=\"http://www.w3.org/1999/xlink\" contentScriptType=\"application/ecmascript\" contentStyleType=\"text/css\" height=\"221px\" preserveAspectRatio=\"none\" style=\"width:320px;height:221px;\" version=\"1.1\" viewBox=\"0 0 320 221\" width=\"320px\" zoomAndPan=\"magnify\"><defs/><g><!--MD5=[fbc87193dbaf4d95561dea2c320d4a47]\n",
       "cluster E1--><a href=\"psysml:f380021c-1a7c-453e-a474-5589714ddc4a\" target=\"_top\" title=\"psysml:f380021c-1a7c-453e-a474-5589714ddc4a\" xlink:actuate=\"onRequest\" xlink:href=\"psysml:f380021c-1a7c-453e-a474-5589714ddc4a\" xlink:show=\"new\" xlink:title=\"psysml:f380021c-1a7c-453e-a474-5589714ddc4a\" xlink:type=\"simple\"><polygon fill=\"#FFFFFF\" points=\"16,6,123,6,130,28.2969,298,28.2969,298,209,16,209,16,6\" style=\"stroke: #000000; stroke-width: 1.5;\"/><line style=\"stroke: #000000; stroke-width: 1.5;\" x1=\"16\" x2=\"130\" y1=\"28.2969\" y2=\"28.2969\"/><text fill=\"#000000\" font-family=\"sans-serif\" font-size=\"14\" font-weight=\"bold\" lengthAdjust=\"spacingAndGlyphs\" textLength=\"101\" x=\"20\" y=\"20.9951\">QuantityTest</text></a><!--MD5=[b4997ac47864f28c2f74865a473b2911]\n",
       "class E2--><a href=\"psysml:c5943d6b-e87d-4b1b-8731-2602b62da777\" target=\"_top\" title=\"psysml:c5943d6b-e87d-4b1b-8731-2602b62da777\" xlink:actuate=\"onRequest\" xlink:href=\"psysml:c5943d6b-e87d-4b1b-8731-2602b62da777\" xlink:show=\"new\" xlink:title=\"psysml:c5943d6b-e87d-4b1b-8731-2602b62da777\" xlink:type=\"simple\"><rect fill=\"#FFFFFF\" height=\"45.9375\" id=\"E2\" rx=\"10\" ry=\"10\" style=\"stroke: #383838; stroke-width: 1.5;\" width=\"249\" x=\"32.5\" y=\"147\"/><text fill=\"#000000\" font-family=\"sans-serif\" font-size=\"12\" font-style=\"italic\" lengthAdjust=\"spacingAndGlyphs\" textLength=\"69\" x=\"122.5\" y=\"163.1387\">«attribute»</text><text fill=\"#000000\" font-family=\"sans-serif\" font-size=\"12\" lengthAdjust=\"spacingAndGlyphs\" textLength=\"243\" x=\"35.5\" y=\"177.1074\">tensorQuantities: TensorQuantityValue</text><line style=\"stroke: #383838; stroke-width: 1.5;\" x1=\"33.5\" x2=\"280.5\" y1=\"184.9375\" y2=\"184.9375\"/></a><!--MD5=[09b614a08d8cba4a07c9adeb5e0fee81]\n",
       "class E3--><a href=\"psysml:88455055-d217-4a9f-96e6-c531cf1f5b6c\" target=\"_top\" title=\"psysml:88455055-d217-4a9f-96e6-c531cf1f5b6c\" xlink:actuate=\"onRequest\" xlink:href=\"psysml:88455055-d217-4a9f-96e6-c531cf1f5b6c\" xlink:show=\"new\" xlink:title=\"psysml:88455055-d217-4a9f-96e6-c531cf1f5b6c\" xlink:type=\"simple\"><rect fill=\"#FFFFFF\" height=\"45.9375\" id=\"E3\" rx=\"10\" ry=\"10\" style=\"stroke: #383838; stroke-width: 1.5;\" width=\"71\" x=\"121.5\" y=\"41\"/><text fill=\"#000000\" font-family=\"sans-serif\" font-size=\"12\" font-style=\"italic\" lengthAdjust=\"spacingAndGlyphs\" textLength=\"69\" x=\"122.5\" y=\"57.1387\">«attribute»</text><text fill=\"#000000\" font-family=\"sans-serif\" font-size=\"12\" lengthAdjust=\"spacingAndGlyphs\" textLength=\"8\" x=\"153\" y=\"71.1074\">q</text><line style=\"stroke: #383838; stroke-width: 1.5;\" x1=\"122.5\" x2=\"191.5\" y1=\"78.9375\" y2=\"78.9375\"/></a><!--MD5=[05d275557350bfb9b23a4ef7222b4c39]\n",
       "link E3 to E2--><a href=\"psysml:11b4979a-79b0-4e55-825e-341a26faa927\" target=\"_top\" title=\"psysml:11b4979a-79b0-4e55-825e-341a26faa927\" xlink:actuate=\"onRequest\" xlink:href=\"psysml:11b4979a-79b0-4e55-825e-341a26faa927\" xlink:show=\"new\" xlink:title=\"psysml:11b4979a-79b0-4e55-825e-341a26faa927\" xlink:type=\"simple\"><path d=\"M157,87.06 C157,98.64 157,113.23 157,126.87 \" fill=\"none\" id=\"E3-&gt;E2\" style=\"stroke: #383838; stroke-width: 1.0;\"/><polygon fill=\"none\" points=\"164,126.98,157,146.98,150,126.98,164,126.98\" style=\"stroke: #383838; stroke-width: 1.0;\"/></a><!--MD5=[b0dcd505186ab43b417e71fe13f415f3]\n",
       "@startuml\r\n",
       "skinparam linetype polyline\r\n",
       "skinparam monochrome true\r\n",
       "skinparam classbackgroundcolor white\r\n",
       "skinparam shadowing false\r\n",
       "skinparam wrapWidth 300\r\n",
       "hide circle\r\n",
       "\r\n",
       "package \"QuantityTest\" as E1  [[psysml:f380021c-1a7c-453e-a474-5589714ddc4a ]]  {\r\n",
       "comp usage \"tensorQuantities: TensorQuantityValue\" as E2  <<(T,blue) attribute>> [[psysml:c5943d6b-e87d-4b1b-8731-2602b62da777 ]] {\r\n",
       "}\r\n",
       "comp usage \"q\" as E3  <<(T,blue) attribute>> [[psysml:88455055-d217-4a9f-96e6-c531cf1f5b6c ]] {\r\n",
       "}\r\n",
       "E3 - -|> E2 [[psysml:11b4979a-79b0-4e55-825e-341a26faa927 ]] \r\n",
       "}\r\n",
       "@enduml\r\n",
       "\n",
       "PlantUML version 1.2020.13(Sat Jun 13 12:26:38 UTC 2020)\n",
       "(EPL source distribution)\n",
       "Java Runtime: OpenJDK Runtime Environment\n",
       "JVM: OpenJDK 64-Bit Server VM\n",
       "Default Encoding: UTF-8\n",
       "Language: en\n",
       "Country: null\n",
       "--></g></svg>"
      ]
     },
     "execution_count": 14,
     "metadata": {},
     "output_type": "execute_result"
    }
   ],
   "source": [
    "%viz --style=\"POLYLINE\" --view=\"Sequence\" \"QuantityTest\""
   ]
  },
  {
   "cell_type": "code",
   "execution_count": 15,
   "id": "860afb4f",
   "metadata": {
    "execution": {
     "iopub.execute_input": "2021-06-30T09:22:06.129328Z",
     "iopub.status.busy": "2021-06-30T09:22:06.126932Z",
     "iopub.status.idle": "2021-06-30T09:22:06.162665Z",
     "shell.execute_reply": "2021-06-30T09:22:06.161675Z"
    }
   },
   "outputs": [
    {
     "data": {
      "image/svg+xml": [
       "<?xml version=\"1.0\" encoding=\"UTF-8\" standalone=\"no\"?><svg xmlns=\"http://www.w3.org/2000/svg\" xmlns:xlink=\"http://www.w3.org/1999/xlink\" contentScriptType=\"application/ecmascript\" contentStyleType=\"text/css\" height=\"221px\" preserveAspectRatio=\"none\" style=\"width:320px;height:221px;\" version=\"1.1\" viewBox=\"0 0 320 221\" width=\"320px\" zoomAndPan=\"magnify\"><defs/><g><!--MD5=[fbc87193dbaf4d95561dea2c320d4a47]\n",
       "cluster E1--><a href=\"psysml:f380021c-1a7c-453e-a474-5589714ddc4a\" target=\"_top\" title=\"psysml:f380021c-1a7c-453e-a474-5589714ddc4a\" xlink:actuate=\"onRequest\" xlink:href=\"psysml:f380021c-1a7c-453e-a474-5589714ddc4a\" xlink:show=\"new\" xlink:title=\"psysml:f380021c-1a7c-453e-a474-5589714ddc4a\" xlink:type=\"simple\"><polygon fill=\"#FFFFFF\" points=\"16,6,123,6,130,28.2969,298,28.2969,298,209,16,209,16,6\" style=\"stroke: #000000; stroke-width: 1.5;\"/><line style=\"stroke: #000000; stroke-width: 1.5;\" x1=\"16\" x2=\"130\" y1=\"28.2969\" y2=\"28.2969\"/><text fill=\"#000000\" font-family=\"sans-serif\" font-size=\"14\" font-weight=\"bold\" lengthAdjust=\"spacingAndGlyphs\" textLength=\"101\" x=\"20\" y=\"20.9951\">QuantityTest</text></a><!--MD5=[b4997ac47864f28c2f74865a473b2911]\n",
       "class E2--><a href=\"psysml:c5943d6b-e87d-4b1b-8731-2602b62da777\" target=\"_top\" title=\"psysml:c5943d6b-e87d-4b1b-8731-2602b62da777\" xlink:actuate=\"onRequest\" xlink:href=\"psysml:c5943d6b-e87d-4b1b-8731-2602b62da777\" xlink:show=\"new\" xlink:title=\"psysml:c5943d6b-e87d-4b1b-8731-2602b62da777\" xlink:type=\"simple\"><rect fill=\"#FFFFFF\" height=\"45.9375\" id=\"E2\" rx=\"10\" ry=\"10\" style=\"stroke: #383838; stroke-width: 1.5;\" width=\"249\" x=\"32.5\" y=\"147\"/><text fill=\"#000000\" font-family=\"sans-serif\" font-size=\"12\" font-style=\"italic\" lengthAdjust=\"spacingAndGlyphs\" textLength=\"69\" x=\"122.5\" y=\"163.1387\">«attribute»</text><text fill=\"#000000\" font-family=\"sans-serif\" font-size=\"12\" lengthAdjust=\"spacingAndGlyphs\" textLength=\"243\" x=\"35.5\" y=\"177.1074\">tensorQuantities: TensorQuantityValue</text><line style=\"stroke: #383838; stroke-width: 1.5;\" x1=\"33.5\" x2=\"280.5\" y1=\"184.9375\" y2=\"184.9375\"/></a><!--MD5=[09b614a08d8cba4a07c9adeb5e0fee81]\n",
       "class E3--><a href=\"psysml:88455055-d217-4a9f-96e6-c531cf1f5b6c\" target=\"_top\" title=\"psysml:88455055-d217-4a9f-96e6-c531cf1f5b6c\" xlink:actuate=\"onRequest\" xlink:href=\"psysml:88455055-d217-4a9f-96e6-c531cf1f5b6c\" xlink:show=\"new\" xlink:title=\"psysml:88455055-d217-4a9f-96e6-c531cf1f5b6c\" xlink:type=\"simple\"><rect fill=\"#FFFFFF\" height=\"45.9375\" id=\"E3\" rx=\"10\" ry=\"10\" style=\"stroke: #383838; stroke-width: 1.5;\" width=\"71\" x=\"121.5\" y=\"41\"/><text fill=\"#000000\" font-family=\"sans-serif\" font-size=\"12\" font-style=\"italic\" lengthAdjust=\"spacingAndGlyphs\" textLength=\"69\" x=\"122.5\" y=\"57.1387\">«attribute»</text><text fill=\"#000000\" font-family=\"sans-serif\" font-size=\"12\" lengthAdjust=\"spacingAndGlyphs\" textLength=\"8\" x=\"153\" y=\"71.1074\">q</text><line style=\"stroke: #383838; stroke-width: 1.5;\" x1=\"122.5\" x2=\"191.5\" y1=\"78.9375\" y2=\"78.9375\"/></a><!--MD5=[05d275557350bfb9b23a4ef7222b4c39]\n",
       "link E3 to E2--><a href=\"psysml:11b4979a-79b0-4e55-825e-341a26faa927\" target=\"_top\" title=\"psysml:11b4979a-79b0-4e55-825e-341a26faa927\" xlink:actuate=\"onRequest\" xlink:href=\"psysml:11b4979a-79b0-4e55-825e-341a26faa927\" xlink:show=\"new\" xlink:title=\"psysml:11b4979a-79b0-4e55-825e-341a26faa927\" xlink:type=\"simple\"><path d=\"M157,87.06 C157,98.64 157,113.23 157,126.87 \" fill=\"none\" id=\"E3-&gt;E2\" style=\"stroke: #383838; stroke-width: 1.0;\"/><polygon fill=\"none\" points=\"164,126.98,157,146.98,150,126.98,164,126.98\" style=\"stroke: #383838; stroke-width: 1.0;\"/></a><!--MD5=[b0dcd505186ab43b417e71fe13f415f3]\n",
       "@startuml\r\n",
       "skinparam linetype polyline\r\n",
       "skinparam monochrome true\r\n",
       "skinparam classbackgroundcolor white\r\n",
       "skinparam shadowing false\r\n",
       "skinparam wrapWidth 300\r\n",
       "hide circle\r\n",
       "\r\n",
       "package \"QuantityTest\" as E1  [[psysml:f380021c-1a7c-453e-a474-5589714ddc4a ]]  {\r\n",
       "comp usage \"tensorQuantities: TensorQuantityValue\" as E2  <<(T,blue) attribute>> [[psysml:c5943d6b-e87d-4b1b-8731-2602b62da777 ]] {\r\n",
       "}\r\n",
       "comp usage \"q\" as E3  <<(T,blue) attribute>> [[psysml:88455055-d217-4a9f-96e6-c531cf1f5b6c ]] {\r\n",
       "}\r\n",
       "E3 - -|> E2 [[psysml:11b4979a-79b0-4e55-825e-341a26faa927 ]] \r\n",
       "}\r\n",
       "@enduml\r\n",
       "\n",
       "PlantUML version 1.2020.13(Sat Jun 13 12:26:38 UTC 2020)\n",
       "(EPL source distribution)\n",
       "Java Runtime: OpenJDK Runtime Environment\n",
       "JVM: OpenJDK 64-Bit Server VM\n",
       "Default Encoding: UTF-8\n",
       "Language: en\n",
       "Country: null\n",
       "--></g></svg>"
      ]
     },
     "execution_count": 15,
     "metadata": {},
     "output_type": "execute_result"
    }
   ],
   "source": [
    "%viz --style=\"POLYLINE\" --view=\"MIXED\" \"QuantityTest\""
   ]
  },
  {
   "cell_type": "code",
   "execution_count": 16,
   "id": "052c3482",
   "metadata": {
    "execution": {
     "iopub.execute_input": "2021-06-30T09:22:06.214984Z",
     "iopub.status.busy": "2021-06-30T09:22:06.214446Z",
     "iopub.status.idle": "2021-06-30T09:22:06.249436Z",
     "shell.execute_reply": "2021-06-30T09:22:06.248230Z"
    }
   },
   "outputs": [
    {
     "data": {
      "image/svg+xml": [
       "<?xml version=\"1.0\" encoding=\"UTF-8\" standalone=\"no\"?><svg xmlns=\"http://www.w3.org/2000/svg\" xmlns:xlink=\"http://www.w3.org/1999/xlink\" contentScriptType=\"application/ecmascript\" contentStyleType=\"text/css\" height=\"115px\" preserveAspectRatio=\"none\" style=\"width:450px;height:115px;\" version=\"1.1\" viewBox=\"0 0 450 115\" width=\"450px\" zoomAndPan=\"magnify\"><defs/><g><!--MD5=[fbc87193dbaf4d95561dea2c320d4a47]\n",
       "cluster E1--><a href=\"psysml:f380021c-1a7c-453e-a474-5589714ddc4a\" target=\"_top\" title=\"psysml:f380021c-1a7c-453e-a474-5589714ddc4a\" xlink:actuate=\"onRequest\" xlink:href=\"psysml:f380021c-1a7c-453e-a474-5589714ddc4a\" xlink:show=\"new\" xlink:title=\"psysml:f380021c-1a7c-453e-a474-5589714ddc4a\" xlink:type=\"simple\"><polygon fill=\"#FFFFFF\" points=\"16,6,123,6,130,28.2969,428,28.2969,428,103,16,103,16,6\" style=\"stroke: #000000; stroke-width: 1.5;\"/><line style=\"stroke: #000000; stroke-width: 1.5;\" x1=\"16\" x2=\"130\" y1=\"28.2969\" y2=\"28.2969\"/><text fill=\"#000000\" font-family=\"sans-serif\" font-size=\"14\" font-weight=\"bold\" lengthAdjust=\"spacingAndGlyphs\" textLength=\"101\" x=\"20\" y=\"20.9951\">QuantityTest</text></a><!--MD5=[b4997ac47864f28c2f74865a473b2911]\n",
       "class E2--><a href=\"psysml:c5943d6b-e87d-4b1b-8731-2602b62da777\" target=\"_top\" title=\"psysml:c5943d6b-e87d-4b1b-8731-2602b62da777\" xlink:actuate=\"onRequest\" xlink:href=\"psysml:c5943d6b-e87d-4b1b-8731-2602b62da777\" xlink:show=\"new\" xlink:title=\"psysml:c5943d6b-e87d-4b1b-8731-2602b62da777\" xlink:type=\"simple\"><rect fill=\"#FFFFFF\" height=\"45.9375\" id=\"E2\" rx=\"10\" ry=\"10\" style=\"stroke: #383838; stroke-width: 1.5;\" width=\"249\" x=\"163\" y=\"41\"/><text fill=\"#000000\" font-family=\"sans-serif\" font-size=\"12\" font-style=\"italic\" lengthAdjust=\"spacingAndGlyphs\" textLength=\"69\" x=\"253\" y=\"57.1387\">«attribute»</text><text fill=\"#000000\" font-family=\"sans-serif\" font-size=\"12\" lengthAdjust=\"spacingAndGlyphs\" textLength=\"243\" x=\"166\" y=\"71.1074\">tensorQuantities: TensorQuantityValue</text><line style=\"stroke: #383838; stroke-width: 1.5;\" x1=\"164\" x2=\"411\" y1=\"78.9375\" y2=\"78.9375\"/></a><!--MD5=[09b614a08d8cba4a07c9adeb5e0fee81]\n",
       "class E3--><a href=\"psysml:88455055-d217-4a9f-96e6-c531cf1f5b6c\" target=\"_top\" title=\"psysml:88455055-d217-4a9f-96e6-c531cf1f5b6c\" xlink:actuate=\"onRequest\" xlink:href=\"psysml:88455055-d217-4a9f-96e6-c531cf1f5b6c\" xlink:show=\"new\" xlink:title=\"psysml:88455055-d217-4a9f-96e6-c531cf1f5b6c\" xlink:type=\"simple\"><rect fill=\"#FFFFFF\" height=\"45.9375\" id=\"E3\" rx=\"10\" ry=\"10\" style=\"stroke: #383838; stroke-width: 1.5;\" width=\"71\" x=\"32\" y=\"41\"/><text fill=\"#000000\" font-family=\"sans-serif\" font-size=\"12\" font-style=\"italic\" lengthAdjust=\"spacingAndGlyphs\" textLength=\"69\" x=\"33\" y=\"57.1387\">«attribute»</text><text fill=\"#000000\" font-family=\"sans-serif\" font-size=\"12\" lengthAdjust=\"spacingAndGlyphs\" textLength=\"8\" x=\"63.5\" y=\"71.1074\">q</text><line style=\"stroke: #383838; stroke-width: 1.5;\" x1=\"33\" x2=\"102\" y1=\"78.9375\" y2=\"78.9375\"/></a><!--MD5=[05d275557350bfb9b23a4ef7222b4c39]\n",
       "link E3 to E2--><a href=\"psysml:11b4979a-79b0-4e55-825e-341a26faa927\" target=\"_top\" title=\"psysml:11b4979a-79b0-4e55-825e-341a26faa927\" xlink:actuate=\"onRequest\" xlink:href=\"psysml:11b4979a-79b0-4e55-825e-341a26faa927\" xlink:show=\"new\" xlink:title=\"psysml:11b4979a-79b0-4e55-825e-341a26faa927\" xlink:type=\"simple\"><path d=\"M103.04,64 C114.52,64 128.1,64 142.6,64 \" fill=\"none\" id=\"E3-&gt;E2\" style=\"stroke: #383838; stroke-width: 1.0;\"/><polygon fill=\"none\" points=\"142.84,57,162.84,64,142.84,71,142.84,57\" style=\"stroke: #383838; stroke-width: 1.0;\"/></a><!--MD5=[34001cedcd78ac2dccc6302347b30808]\n",
       "@startuml\r\n",
       "left to right direction\r\n",
       "skinparam monochrome true\r\n",
       "skinparam classbackgroundcolor white\r\n",
       "skinparam shadowing false\r\n",
       "skinparam wrapWidth 300\r\n",
       "hide circle\r\n",
       "\r\n",
       "package \"QuantityTest\" as E1  [[psysml:f380021c-1a7c-453e-a474-5589714ddc4a ]]  {\r\n",
       "comp usage \"tensorQuantities: TensorQuantityValue\" as E2  <<(T,blue) attribute>> [[psysml:c5943d6b-e87d-4b1b-8731-2602b62da777 ]] {\r\n",
       "}\r\n",
       "comp usage \"q\" as E3  <<(T,blue) attribute>> [[psysml:88455055-d217-4a9f-96e6-c531cf1f5b6c ]] {\r\n",
       "}\r\n",
       "E3 - -|> E2 [[psysml:11b4979a-79b0-4e55-825e-341a26faa927 ]] \r\n",
       "}\r\n",
       "@enduml\r\n",
       "\n",
       "PlantUML version 1.2020.13(Sat Jun 13 12:26:38 UTC 2020)\n",
       "(EPL source distribution)\n",
       "Java Runtime: OpenJDK Runtime Environment\n",
       "JVM: OpenJDK 64-Bit Server VM\n",
       "Default Encoding: UTF-8\n",
       "Language: en\n",
       "Country: null\n",
       "--></g></svg>"
      ]
     },
     "execution_count": 16,
     "metadata": {},
     "output_type": "execute_result"
    }
   ],
   "source": [
    "%viz --style=\"LR\" --view=\"Default\" \"QuantityTest\""
   ]
  },
  {
   "cell_type": "code",
   "execution_count": 17,
   "id": "16861b60",
   "metadata": {
    "execution": {
     "iopub.execute_input": "2021-06-30T09:22:06.301049Z",
     "iopub.status.busy": "2021-06-30T09:22:06.300628Z",
     "iopub.status.idle": "2021-06-30T09:22:06.337943Z",
     "shell.execute_reply": "2021-06-30T09:22:06.337585Z"
    }
   },
   "outputs": [
    {
     "data": {
      "image/svg+xml": [
       "<?xml version=\"1.0\" encoding=\"UTF-8\" standalone=\"no\"?><svg xmlns=\"http://www.w3.org/2000/svg\" xmlns:xlink=\"http://www.w3.org/1999/xlink\" contentScriptType=\"application/ecmascript\" contentStyleType=\"text/css\" height=\"115px\" preserveAspectRatio=\"none\" style=\"width:450px;height:115px;\" version=\"1.1\" viewBox=\"0 0 450 115\" width=\"450px\" zoomAndPan=\"magnify\"><defs/><g><!--MD5=[fbc87193dbaf4d95561dea2c320d4a47]\n",
       "cluster E1--><a href=\"psysml:f380021c-1a7c-453e-a474-5589714ddc4a\" target=\"_top\" title=\"psysml:f380021c-1a7c-453e-a474-5589714ddc4a\" xlink:actuate=\"onRequest\" xlink:href=\"psysml:f380021c-1a7c-453e-a474-5589714ddc4a\" xlink:show=\"new\" xlink:title=\"psysml:f380021c-1a7c-453e-a474-5589714ddc4a\" xlink:type=\"simple\"><polygon fill=\"#FFFFFF\" points=\"16,6,123,6,130,28.2969,428,28.2969,428,103,16,103,16,6\" style=\"stroke: #000000; stroke-width: 1.5;\"/><line style=\"stroke: #000000; stroke-width: 1.5;\" x1=\"16\" x2=\"130\" y1=\"28.2969\" y2=\"28.2969\"/><text fill=\"#000000\" font-family=\"sans-serif\" font-size=\"14\" font-weight=\"bold\" lengthAdjust=\"spacingAndGlyphs\" textLength=\"101\" x=\"20\" y=\"20.9951\">QuantityTest</text></a><!--MD5=[b4997ac47864f28c2f74865a473b2911]\n",
       "class E2--><a href=\"psysml:c5943d6b-e87d-4b1b-8731-2602b62da777\" target=\"_top\" title=\"psysml:c5943d6b-e87d-4b1b-8731-2602b62da777\" xlink:actuate=\"onRequest\" xlink:href=\"psysml:c5943d6b-e87d-4b1b-8731-2602b62da777\" xlink:show=\"new\" xlink:title=\"psysml:c5943d6b-e87d-4b1b-8731-2602b62da777\" xlink:type=\"simple\"><rect fill=\"#FFFFFF\" height=\"45.9375\" id=\"E2\" rx=\"10\" ry=\"10\" style=\"stroke: #383838; stroke-width: 1.5;\" width=\"249\" x=\"163\" y=\"41\"/><text fill=\"#000000\" font-family=\"sans-serif\" font-size=\"12\" font-style=\"italic\" lengthAdjust=\"spacingAndGlyphs\" textLength=\"69\" x=\"253\" y=\"57.1387\">«attribute»</text><text fill=\"#000000\" font-family=\"sans-serif\" font-size=\"12\" lengthAdjust=\"spacingAndGlyphs\" textLength=\"243\" x=\"166\" y=\"71.1074\">tensorQuantities: TensorQuantityValue</text><line style=\"stroke: #383838; stroke-width: 1.5;\" x1=\"164\" x2=\"411\" y1=\"78.9375\" y2=\"78.9375\"/></a><!--MD5=[09b614a08d8cba4a07c9adeb5e0fee81]\n",
       "class E3--><a href=\"psysml:88455055-d217-4a9f-96e6-c531cf1f5b6c\" target=\"_top\" title=\"psysml:88455055-d217-4a9f-96e6-c531cf1f5b6c\" xlink:actuate=\"onRequest\" xlink:href=\"psysml:88455055-d217-4a9f-96e6-c531cf1f5b6c\" xlink:show=\"new\" xlink:title=\"psysml:88455055-d217-4a9f-96e6-c531cf1f5b6c\" xlink:type=\"simple\"><rect fill=\"#FFFFFF\" height=\"45.9375\" id=\"E3\" rx=\"10\" ry=\"10\" style=\"stroke: #383838; stroke-width: 1.5;\" width=\"71\" x=\"32\" y=\"41\"/><text fill=\"#000000\" font-family=\"sans-serif\" font-size=\"12\" font-style=\"italic\" lengthAdjust=\"spacingAndGlyphs\" textLength=\"69\" x=\"33\" y=\"57.1387\">«attribute»</text><text fill=\"#000000\" font-family=\"sans-serif\" font-size=\"12\" lengthAdjust=\"spacingAndGlyphs\" textLength=\"8\" x=\"63.5\" y=\"71.1074\">q</text><line style=\"stroke: #383838; stroke-width: 1.5;\" x1=\"33\" x2=\"102\" y1=\"78.9375\" y2=\"78.9375\"/></a><!--MD5=[05d275557350bfb9b23a4ef7222b4c39]\n",
       "link E3 to E2--><a href=\"psysml:11b4979a-79b0-4e55-825e-341a26faa927\" target=\"_top\" title=\"psysml:11b4979a-79b0-4e55-825e-341a26faa927\" xlink:actuate=\"onRequest\" xlink:href=\"psysml:11b4979a-79b0-4e55-825e-341a26faa927\" xlink:show=\"new\" xlink:title=\"psysml:11b4979a-79b0-4e55-825e-341a26faa927\" xlink:type=\"simple\"><path d=\"M103.04,64 C114.52,64 128.1,64 142.6,64 \" fill=\"none\" id=\"E3-&gt;E2\" style=\"stroke: #383838; stroke-width: 1.0;\"/><polygon fill=\"none\" points=\"142.84,57,162.84,64,142.84,71,142.84,57\" style=\"stroke: #383838; stroke-width: 1.0;\"/></a><!--MD5=[34001cedcd78ac2dccc6302347b30808]\n",
       "@startuml\r\n",
       "left to right direction\r\n",
       "skinparam monochrome true\r\n",
       "skinparam classbackgroundcolor white\r\n",
       "skinparam shadowing false\r\n",
       "skinparam wrapWidth 300\r\n",
       "hide circle\r\n",
       "\r\n",
       "package \"QuantityTest\" as E1  [[psysml:f380021c-1a7c-453e-a474-5589714ddc4a ]]  {\r\n",
       "comp usage \"tensorQuantities: TensorQuantityValue\" as E2  <<(T,blue) attribute>> [[psysml:c5943d6b-e87d-4b1b-8731-2602b62da777 ]] {\r\n",
       "}\r\n",
       "comp usage \"q\" as E3  <<(T,blue) attribute>> [[psysml:88455055-d217-4a9f-96e6-c531cf1f5b6c ]] {\r\n",
       "}\r\n",
       "E3 - -|> E2 [[psysml:11b4979a-79b0-4e55-825e-341a26faa927 ]] \r\n",
       "}\r\n",
       "@enduml\r\n",
       "\n",
       "PlantUML version 1.2020.13(Sat Jun 13 12:26:38 UTC 2020)\n",
       "(EPL source distribution)\n",
       "Java Runtime: OpenJDK Runtime Environment\n",
       "JVM: OpenJDK 64-Bit Server VM\n",
       "Default Encoding: UTF-8\n",
       "Language: en\n",
       "Country: null\n",
       "--></g></svg>"
      ]
     },
     "execution_count": 17,
     "metadata": {},
     "output_type": "execute_result"
    }
   ],
   "source": [
    "%viz --style=\"LR\" --view=\"Tree\" \"QuantityTest\""
   ]
  },
  {
   "cell_type": "code",
   "execution_count": 18,
   "id": "b4ee36cb",
   "metadata": {
    "execution": {
     "iopub.execute_input": "2021-06-30T09:22:06.389527Z",
     "iopub.status.busy": "2021-06-30T09:22:06.387422Z",
     "iopub.status.idle": "2021-06-30T09:22:06.397300Z",
     "shell.execute_reply": "2021-06-30T09:22:06.395300Z"
    }
   },
   "outputs": [
    {
     "data": {
      "image/svg+xml": [
       "<?xml version=\"1.0\" encoding=\"UTF-8\" standalone=\"no\"?><svg xmlns=\"http://www.w3.org/2000/svg\" xmlns:xlink=\"http://www.w3.org/1999/xlink\" contentScriptType=\"application/ecmascript\" contentStyleType=\"text/css\" height=\"12px\" preserveAspectRatio=\"none\" style=\"width:12px;height:12px;\" version=\"1.1\" viewBox=\"0 0 12 12\" width=\"12px\" zoomAndPan=\"magnify\"><defs/><g><!--MD5=[19d285c9d72a204eba4e2cd117d745e8]\n",
       "@startuml\r\n",
       "left to right direction\r\n",
       "skinparam monochrome true\r\n",
       "skinparam classbackgroundcolor white\r\n",
       "skinparam shadowing false\r\n",
       "skinparam wrapWidth 300\r\n",
       "hide circle\r\n",
       "\r\n",
       "@enduml\r\n",
       "\n",
       "PlantUML version 1.2020.13(Sat Jun 13 12:26:38 UTC 2020)\n",
       "(EPL source distribution)\n",
       "Java Runtime: OpenJDK Runtime Environment\n",
       "JVM: OpenJDK 64-Bit Server VM\n",
       "Default Encoding: UTF-8\n",
       "Language: en\n",
       "Country: null\n",
       "--></g></svg>"
      ]
     },
     "execution_count": 18,
     "metadata": {},
     "output_type": "execute_result"
    }
   ],
   "source": [
    "%viz --style=\"LR\" --view=\"State\" \"QuantityTest\""
   ]
  },
  {
   "cell_type": "code",
   "execution_count": 19,
   "id": "6dc8f1e0",
   "metadata": {
    "execution": {
     "iopub.execute_input": "2021-06-30T09:22:06.451720Z",
     "iopub.status.busy": "2021-06-30T09:22:06.450618Z",
     "iopub.status.idle": "2021-06-30T09:22:06.490027Z",
     "shell.execute_reply": "2021-06-30T09:22:06.487950Z"
    }
   },
   "outputs": [
    {
     "data": {
      "image/svg+xml": [
       "<?xml version=\"1.0\" encoding=\"UTF-8\" standalone=\"no\"?><svg xmlns=\"http://www.w3.org/2000/svg\" xmlns:xlink=\"http://www.w3.org/1999/xlink\" contentScriptType=\"application/ecmascript\" contentStyleType=\"text/css\" height=\"115px\" preserveAspectRatio=\"none\" style=\"width:400px;height:115px;\" version=\"1.1\" viewBox=\"0 0 400 115\" width=\"400px\" zoomAndPan=\"magnify\"><defs/><g><!--MD5=[fbc87193dbaf4d95561dea2c320d4a47]\n",
       "cluster E1--><a href=\"psysml:f380021c-1a7c-453e-a474-5589714ddc4a\" target=\"_top\" title=\"psysml:f380021c-1a7c-453e-a474-5589714ddc4a\" xlink:actuate=\"onRequest\" xlink:href=\"psysml:f380021c-1a7c-453e-a474-5589714ddc4a\" xlink:show=\"new\" xlink:title=\"psysml:f380021c-1a7c-453e-a474-5589714ddc4a\" xlink:type=\"simple\"><polygon fill=\"#FFFFFF\" points=\"16,6,123,6,130,28.2969,378,28.2969,378,103,16,103,16,6\" style=\"stroke: #000000; stroke-width: 1.5;\"/><line style=\"stroke: #000000; stroke-width: 1.5;\" x1=\"16\" x2=\"130\" y1=\"28.2969\" y2=\"28.2969\"/><text fill=\"#000000\" font-family=\"sans-serif\" font-size=\"14\" font-weight=\"bold\" lengthAdjust=\"spacingAndGlyphs\" textLength=\"101\" x=\"20\" y=\"20.9951\">QuantityTest</text></a><!--MD5=[b4997ac47864f28c2f74865a473b2911]\n",
       "class E2--><a href=\"psysml:c5943d6b-e87d-4b1b-8731-2602b62da777\" target=\"_top\" title=\"psysml:c5943d6b-e87d-4b1b-8731-2602b62da777\" xlink:actuate=\"onRequest\" xlink:href=\"psysml:c5943d6b-e87d-4b1b-8731-2602b62da777\" xlink:show=\"new\" xlink:title=\"psysml:c5943d6b-e87d-4b1b-8731-2602b62da777\" xlink:type=\"simple\"><rect fill=\"#FFFFFF\" height=\"45.9375\" id=\"E2\" rx=\"10\" ry=\"10\" style=\"stroke: #383838; stroke-width: 1.5;\" width=\"249\" x=\"113\" y=\"41\"/><text fill=\"#000000\" font-family=\"sans-serif\" font-size=\"12\" font-style=\"italic\" lengthAdjust=\"spacingAndGlyphs\" textLength=\"69\" x=\"203\" y=\"57.1387\">«attribute»</text><text fill=\"#000000\" font-family=\"sans-serif\" font-size=\"12\" lengthAdjust=\"spacingAndGlyphs\" textLength=\"243\" x=\"116\" y=\"71.1074\">tensorQuantities: TensorQuantityValue</text><line style=\"stroke: #383838; stroke-width: 1.5;\" x1=\"114\" x2=\"361\" y1=\"78.9375\" y2=\"78.9375\"/></a><!--MD5=[09b614a08d8cba4a07c9adeb5e0fee81]\n",
       "class E3--><a href=\"psysml:88455055-d217-4a9f-96e6-c531cf1f5b6c\" target=\"_top\" title=\"psysml:88455055-d217-4a9f-96e6-c531cf1f5b6c\" xlink:actuate=\"onRequest\" xlink:href=\"psysml:88455055-d217-4a9f-96e6-c531cf1f5b6c\" xlink:show=\"new\" xlink:title=\"psysml:88455055-d217-4a9f-96e6-c531cf1f5b6c\" xlink:type=\"simple\"><rect fill=\"#FFFFFF\" height=\"45.9375\" id=\"E3\" rx=\"10\" ry=\"10\" style=\"stroke: #383838; stroke-width: 1.5;\" width=\"71\" x=\"32\" y=\"41\"/><text fill=\"#000000\" font-family=\"sans-serif\" font-size=\"12\" font-style=\"italic\" lengthAdjust=\"spacingAndGlyphs\" textLength=\"69\" x=\"33\" y=\"57.1387\">«attribute»</text><text fill=\"#000000\" font-family=\"sans-serif\" font-size=\"12\" lengthAdjust=\"spacingAndGlyphs\" textLength=\"8\" x=\"63.5\" y=\"71.1074\">q</text><line style=\"stroke: #383838; stroke-width: 1.5;\" x1=\"33\" x2=\"102\" y1=\"78.9375\" y2=\"78.9375\"/></a><!--MD5=[05d275557350bfb9b23a4ef7222b4c39]\n",
       "link E3 to E2--><a href=\"psysml:11b4979a-79b0-4e55-825e-341a26faa927\" target=\"_top\" title=\"psysml:11b4979a-79b0-4e55-825e-341a26faa927\" xlink:actuate=\"onRequest\" xlink:href=\"psysml:11b4979a-79b0-4e55-825e-341a26faa927\" xlink:show=\"new\" xlink:title=\"psysml:11b4979a-79b0-4e55-825e-341a26faa927\" xlink:type=\"simple\"><path d=\"M103.31,64 C103.41,64 103.5,64 103.6,64 \" fill=\"none\" id=\"E3-&gt;E2\" style=\"stroke: #383838; stroke-width: 1.0;\"/><polygon fill=\"none\" points=\"92.91,57,112.91,64,92.91,71,92.91,57\" style=\"stroke: #383838; stroke-width: 1.0;\"/></a><!--MD5=[a71f148cae330e8cc2596cac44170ac3]\n",
       "@startuml\r\n",
       "skinparam ranksep 10\r\n",
       "skinparam rectangle {\r\n",
       " backgroundColor<<block>> LightGreen\r\n",
       "}\r\n",
       "left to right direction\r\n",
       "skinparam monochrome true\r\n",
       "skinparam classbackgroundcolor white\r\n",
       "skinparam shadowing false\r\n",
       "skinparam wrapWidth 300\r\n",
       "hide circle\r\n",
       "\r\n",
       "package \"QuantityTest\" as E1  [[psysml:f380021c-1a7c-453e-a474-5589714ddc4a ]]  {\r\n",
       "comp usage \"tensorQuantities: TensorQuantityValue\" as E2  <<(T,blue) attribute>> [[psysml:c5943d6b-e87d-4b1b-8731-2602b62da777 ]] {\r\n",
       "}\r\n",
       "comp usage \"q\" as E3  <<(T,blue) attribute>> [[psysml:88455055-d217-4a9f-96e6-c531cf1f5b6c ]] {\r\n",
       "}\r\n",
       "E3 - -|> E2 [[psysml:11b4979a-79b0-4e55-825e-341a26faa927 ]] \r\n",
       "}\r\n",
       "@enduml\r\n",
       "\n",
       "PlantUML version 1.2020.13(Sat Jun 13 12:26:38 UTC 2020)\n",
       "(EPL source distribution)\n",
       "Java Runtime: OpenJDK Runtime Environment\n",
       "JVM: OpenJDK 64-Bit Server VM\n",
       "Default Encoding: UTF-8\n",
       "Language: en\n",
       "Country: null\n",
       "--></g></svg>"
      ]
     },
     "execution_count": 19,
     "metadata": {},
     "output_type": "execute_result"
    }
   ],
   "source": [
    "%viz --style=\"LR\" --view=\"Interconnection\" \"QuantityTest\""
   ]
  },
  {
   "cell_type": "code",
   "execution_count": 20,
   "id": "3201019a",
   "metadata": {
    "execution": {
     "iopub.execute_input": "2021-06-30T09:22:06.545373Z",
     "iopub.status.busy": "2021-06-30T09:22:06.543389Z",
     "iopub.status.idle": "2021-06-30T09:22:06.558853Z",
     "shell.execute_reply": "2021-06-30T09:22:06.557063Z"
    }
   },
   "outputs": [
    {
     "data": {
      "image/svg+xml": [
       "<?xml version=\"1.0\" encoding=\"UTF-8\" standalone=\"no\"?><svg xmlns=\"http://www.w3.org/2000/svg\" xmlns:xlink=\"http://www.w3.org/1999/xlink\" contentScriptType=\"application/ecmascript\" contentStyleType=\"text/css\" height=\"12px\" preserveAspectRatio=\"none\" style=\"width:12px;height:12px;\" version=\"1.1\" viewBox=\"0 0 12 12\" width=\"12px\" zoomAndPan=\"magnify\"><defs/><g><!--MD5=[7aeb398939421629f6affaa4a1a7b125]\n",
       "@startuml\r\n",
       "skinparam ranksep 8\r\n",
       "left to right direction\r\n",
       "skinparam monochrome true\r\n",
       "skinparam classbackgroundcolor white\r\n",
       "skinparam shadowing false\r\n",
       "skinparam wrapWidth 300\r\n",
       "hide circle\r\n",
       "\r\n",
       "@enduml\r\n",
       "\n",
       "PlantUML version 1.2020.13(Sat Jun 13 12:26:38 UTC 2020)\n",
       "(EPL source distribution)\n",
       "Java Runtime: OpenJDK Runtime Environment\n",
       "JVM: OpenJDK 64-Bit Server VM\n",
       "Default Encoding: UTF-8\n",
       "Language: en\n",
       "Country: null\n",
       "--></g></svg>"
      ]
     },
     "execution_count": 20,
     "metadata": {},
     "output_type": "execute_result"
    }
   ],
   "source": [
    "%viz --style=\"LR\" --view=\"Action\" \"QuantityTest\""
   ]
  },
  {
   "cell_type": "code",
   "execution_count": 21,
   "id": "baea8ff5",
   "metadata": {
    "execution": {
     "iopub.execute_input": "2021-06-30T09:22:06.612842Z",
     "iopub.status.busy": "2021-06-30T09:22:06.611862Z",
     "iopub.status.idle": "2021-06-30T09:22:06.644642Z",
     "shell.execute_reply": "2021-06-30T09:22:06.644336Z"
    }
   },
   "outputs": [
    {
     "data": {
      "image/svg+xml": [
       "<?xml version=\"1.0\" encoding=\"UTF-8\" standalone=\"no\"?><svg xmlns=\"http://www.w3.org/2000/svg\" xmlns:xlink=\"http://www.w3.org/1999/xlink\" contentScriptType=\"application/ecmascript\" contentStyleType=\"text/css\" height=\"115px\" preserveAspectRatio=\"none\" style=\"width:450px;height:115px;\" version=\"1.1\" viewBox=\"0 0 450 115\" width=\"450px\" zoomAndPan=\"magnify\"><defs/><g><!--MD5=[fbc87193dbaf4d95561dea2c320d4a47]\n",
       "cluster E1--><a href=\"psysml:f380021c-1a7c-453e-a474-5589714ddc4a\" target=\"_top\" title=\"psysml:f380021c-1a7c-453e-a474-5589714ddc4a\" xlink:actuate=\"onRequest\" xlink:href=\"psysml:f380021c-1a7c-453e-a474-5589714ddc4a\" xlink:show=\"new\" xlink:title=\"psysml:f380021c-1a7c-453e-a474-5589714ddc4a\" xlink:type=\"simple\"><polygon fill=\"#FFFFFF\" points=\"16,6,123,6,130,28.2969,428,28.2969,428,103,16,103,16,6\" style=\"stroke: #000000; stroke-width: 1.5;\"/><line style=\"stroke: #000000; stroke-width: 1.5;\" x1=\"16\" x2=\"130\" y1=\"28.2969\" y2=\"28.2969\"/><text fill=\"#000000\" font-family=\"sans-serif\" font-size=\"14\" font-weight=\"bold\" lengthAdjust=\"spacingAndGlyphs\" textLength=\"101\" x=\"20\" y=\"20.9951\">QuantityTest</text></a><!--MD5=[b4997ac47864f28c2f74865a473b2911]\n",
       "class E2--><a href=\"psysml:c5943d6b-e87d-4b1b-8731-2602b62da777\" target=\"_top\" title=\"psysml:c5943d6b-e87d-4b1b-8731-2602b62da777\" xlink:actuate=\"onRequest\" xlink:href=\"psysml:c5943d6b-e87d-4b1b-8731-2602b62da777\" xlink:show=\"new\" xlink:title=\"psysml:c5943d6b-e87d-4b1b-8731-2602b62da777\" xlink:type=\"simple\"><rect fill=\"#FFFFFF\" height=\"45.9375\" id=\"E2\" rx=\"10\" ry=\"10\" style=\"stroke: #383838; stroke-width: 1.5;\" width=\"249\" x=\"163\" y=\"41\"/><text fill=\"#000000\" font-family=\"sans-serif\" font-size=\"12\" font-style=\"italic\" lengthAdjust=\"spacingAndGlyphs\" textLength=\"69\" x=\"253\" y=\"57.1387\">«attribute»</text><text fill=\"#000000\" font-family=\"sans-serif\" font-size=\"12\" lengthAdjust=\"spacingAndGlyphs\" textLength=\"243\" x=\"166\" y=\"71.1074\">tensorQuantities: TensorQuantityValue</text><line style=\"stroke: #383838; stroke-width: 1.5;\" x1=\"164\" x2=\"411\" y1=\"78.9375\" y2=\"78.9375\"/></a><!--MD5=[09b614a08d8cba4a07c9adeb5e0fee81]\n",
       "class E3--><a href=\"psysml:88455055-d217-4a9f-96e6-c531cf1f5b6c\" target=\"_top\" title=\"psysml:88455055-d217-4a9f-96e6-c531cf1f5b6c\" xlink:actuate=\"onRequest\" xlink:href=\"psysml:88455055-d217-4a9f-96e6-c531cf1f5b6c\" xlink:show=\"new\" xlink:title=\"psysml:88455055-d217-4a9f-96e6-c531cf1f5b6c\" xlink:type=\"simple\"><rect fill=\"#FFFFFF\" height=\"45.9375\" id=\"E3\" rx=\"10\" ry=\"10\" style=\"stroke: #383838; stroke-width: 1.5;\" width=\"71\" x=\"32\" y=\"41\"/><text fill=\"#000000\" font-family=\"sans-serif\" font-size=\"12\" font-style=\"italic\" lengthAdjust=\"spacingAndGlyphs\" textLength=\"69\" x=\"33\" y=\"57.1387\">«attribute»</text><text fill=\"#000000\" font-family=\"sans-serif\" font-size=\"12\" lengthAdjust=\"spacingAndGlyphs\" textLength=\"8\" x=\"63.5\" y=\"71.1074\">q</text><line style=\"stroke: #383838; stroke-width: 1.5;\" x1=\"33\" x2=\"102\" y1=\"78.9375\" y2=\"78.9375\"/></a><!--MD5=[05d275557350bfb9b23a4ef7222b4c39]\n",
       "link E3 to E2--><a href=\"psysml:11b4979a-79b0-4e55-825e-341a26faa927\" target=\"_top\" title=\"psysml:11b4979a-79b0-4e55-825e-341a26faa927\" xlink:actuate=\"onRequest\" xlink:href=\"psysml:11b4979a-79b0-4e55-825e-341a26faa927\" xlink:show=\"new\" xlink:title=\"psysml:11b4979a-79b0-4e55-825e-341a26faa927\" xlink:type=\"simple\"><path d=\"M103.04,64 C114.52,64 128.1,64 142.6,64 \" fill=\"none\" id=\"E3-&gt;E2\" style=\"stroke: #383838; stroke-width: 1.0;\"/><polygon fill=\"none\" points=\"142.84,57,162.84,64,142.84,71,142.84,57\" style=\"stroke: #383838; stroke-width: 1.0;\"/></a><!--MD5=[34001cedcd78ac2dccc6302347b30808]\n",
       "@startuml\r\n",
       "left to right direction\r\n",
       "skinparam monochrome true\r\n",
       "skinparam classbackgroundcolor white\r\n",
       "skinparam shadowing false\r\n",
       "skinparam wrapWidth 300\r\n",
       "hide circle\r\n",
       "\r\n",
       "package \"QuantityTest\" as E1  [[psysml:f380021c-1a7c-453e-a474-5589714ddc4a ]]  {\r\n",
       "comp usage \"tensorQuantities: TensorQuantityValue\" as E2  <<(T,blue) attribute>> [[psysml:c5943d6b-e87d-4b1b-8731-2602b62da777 ]] {\r\n",
       "}\r\n",
       "comp usage \"q\" as E3  <<(T,blue) attribute>> [[psysml:88455055-d217-4a9f-96e6-c531cf1f5b6c ]] {\r\n",
       "}\r\n",
       "E3 - -|> E2 [[psysml:11b4979a-79b0-4e55-825e-341a26faa927 ]] \r\n",
       "}\r\n",
       "@enduml\r\n",
       "\n",
       "PlantUML version 1.2020.13(Sat Jun 13 12:26:38 UTC 2020)\n",
       "(EPL source distribution)\n",
       "Java Runtime: OpenJDK Runtime Environment\n",
       "JVM: OpenJDK 64-Bit Server VM\n",
       "Default Encoding: UTF-8\n",
       "Language: en\n",
       "Country: null\n",
       "--></g></svg>"
      ]
     },
     "execution_count": 21,
     "metadata": {},
     "output_type": "execute_result"
    }
   ],
   "source": [
    "%viz --style=\"LR\" --view=\"Sequence\" \"QuantityTest\""
   ]
  },
  {
   "cell_type": "code",
   "execution_count": 22,
   "id": "94960541",
   "metadata": {
    "execution": {
     "iopub.execute_input": "2021-06-30T09:22:06.699296Z",
     "iopub.status.busy": "2021-06-30T09:22:06.695835Z",
     "iopub.status.idle": "2021-06-30T09:22:06.740186Z",
     "shell.execute_reply": "2021-06-30T09:22:06.739366Z"
    }
   },
   "outputs": [
    {
     "data": {
      "image/svg+xml": [
       "<?xml version=\"1.0\" encoding=\"UTF-8\" standalone=\"no\"?><svg xmlns=\"http://www.w3.org/2000/svg\" xmlns:xlink=\"http://www.w3.org/1999/xlink\" contentScriptType=\"application/ecmascript\" contentStyleType=\"text/css\" height=\"115px\" preserveAspectRatio=\"none\" style=\"width:450px;height:115px;\" version=\"1.1\" viewBox=\"0 0 450 115\" width=\"450px\" zoomAndPan=\"magnify\"><defs/><g><!--MD5=[fbc87193dbaf4d95561dea2c320d4a47]\n",
       "cluster E1--><a href=\"psysml:f380021c-1a7c-453e-a474-5589714ddc4a\" target=\"_top\" title=\"psysml:f380021c-1a7c-453e-a474-5589714ddc4a\" xlink:actuate=\"onRequest\" xlink:href=\"psysml:f380021c-1a7c-453e-a474-5589714ddc4a\" xlink:show=\"new\" xlink:title=\"psysml:f380021c-1a7c-453e-a474-5589714ddc4a\" xlink:type=\"simple\"><polygon fill=\"#FFFFFF\" points=\"16,6,123,6,130,28.2969,428,28.2969,428,103,16,103,16,6\" style=\"stroke: #000000; stroke-width: 1.5;\"/><line style=\"stroke: #000000; stroke-width: 1.5;\" x1=\"16\" x2=\"130\" y1=\"28.2969\" y2=\"28.2969\"/><text fill=\"#000000\" font-family=\"sans-serif\" font-size=\"14\" font-weight=\"bold\" lengthAdjust=\"spacingAndGlyphs\" textLength=\"101\" x=\"20\" y=\"20.9951\">QuantityTest</text></a><!--MD5=[b4997ac47864f28c2f74865a473b2911]\n",
       "class E2--><a href=\"psysml:c5943d6b-e87d-4b1b-8731-2602b62da777\" target=\"_top\" title=\"psysml:c5943d6b-e87d-4b1b-8731-2602b62da777\" xlink:actuate=\"onRequest\" xlink:href=\"psysml:c5943d6b-e87d-4b1b-8731-2602b62da777\" xlink:show=\"new\" xlink:title=\"psysml:c5943d6b-e87d-4b1b-8731-2602b62da777\" xlink:type=\"simple\"><rect fill=\"#FFFFFF\" height=\"45.9375\" id=\"E2\" rx=\"10\" ry=\"10\" style=\"stroke: #383838; stroke-width: 1.5;\" width=\"249\" x=\"163\" y=\"41\"/><text fill=\"#000000\" font-family=\"sans-serif\" font-size=\"12\" font-style=\"italic\" lengthAdjust=\"spacingAndGlyphs\" textLength=\"69\" x=\"253\" y=\"57.1387\">«attribute»</text><text fill=\"#000000\" font-family=\"sans-serif\" font-size=\"12\" lengthAdjust=\"spacingAndGlyphs\" textLength=\"243\" x=\"166\" y=\"71.1074\">tensorQuantities: TensorQuantityValue</text><line style=\"stroke: #383838; stroke-width: 1.5;\" x1=\"164\" x2=\"411\" y1=\"78.9375\" y2=\"78.9375\"/></a><!--MD5=[09b614a08d8cba4a07c9adeb5e0fee81]\n",
       "class E3--><a href=\"psysml:88455055-d217-4a9f-96e6-c531cf1f5b6c\" target=\"_top\" title=\"psysml:88455055-d217-4a9f-96e6-c531cf1f5b6c\" xlink:actuate=\"onRequest\" xlink:href=\"psysml:88455055-d217-4a9f-96e6-c531cf1f5b6c\" xlink:show=\"new\" xlink:title=\"psysml:88455055-d217-4a9f-96e6-c531cf1f5b6c\" xlink:type=\"simple\"><rect fill=\"#FFFFFF\" height=\"45.9375\" id=\"E3\" rx=\"10\" ry=\"10\" style=\"stroke: #383838; stroke-width: 1.5;\" width=\"71\" x=\"32\" y=\"41\"/><text fill=\"#000000\" font-family=\"sans-serif\" font-size=\"12\" font-style=\"italic\" lengthAdjust=\"spacingAndGlyphs\" textLength=\"69\" x=\"33\" y=\"57.1387\">«attribute»</text><text fill=\"#000000\" font-family=\"sans-serif\" font-size=\"12\" lengthAdjust=\"spacingAndGlyphs\" textLength=\"8\" x=\"63.5\" y=\"71.1074\">q</text><line style=\"stroke: #383838; stroke-width: 1.5;\" x1=\"33\" x2=\"102\" y1=\"78.9375\" y2=\"78.9375\"/></a><!--MD5=[05d275557350bfb9b23a4ef7222b4c39]\n",
       "link E3 to E2--><a href=\"psysml:11b4979a-79b0-4e55-825e-341a26faa927\" target=\"_top\" title=\"psysml:11b4979a-79b0-4e55-825e-341a26faa927\" xlink:actuate=\"onRequest\" xlink:href=\"psysml:11b4979a-79b0-4e55-825e-341a26faa927\" xlink:show=\"new\" xlink:title=\"psysml:11b4979a-79b0-4e55-825e-341a26faa927\" xlink:type=\"simple\"><path d=\"M103.04,64 C114.52,64 128.1,64 142.6,64 \" fill=\"none\" id=\"E3-&gt;E2\" style=\"stroke: #383838; stroke-width: 1.0;\"/><polygon fill=\"none\" points=\"142.84,57,162.84,64,142.84,71,142.84,57\" style=\"stroke: #383838; stroke-width: 1.0;\"/></a><!--MD5=[34001cedcd78ac2dccc6302347b30808]\n",
       "@startuml\r\n",
       "left to right direction\r\n",
       "skinparam monochrome true\r\n",
       "skinparam classbackgroundcolor white\r\n",
       "skinparam shadowing false\r\n",
       "skinparam wrapWidth 300\r\n",
       "hide circle\r\n",
       "\r\n",
       "package \"QuantityTest\" as E1  [[psysml:f380021c-1a7c-453e-a474-5589714ddc4a ]]  {\r\n",
       "comp usage \"tensorQuantities: TensorQuantityValue\" as E2  <<(T,blue) attribute>> [[psysml:c5943d6b-e87d-4b1b-8731-2602b62da777 ]] {\r\n",
       "}\r\n",
       "comp usage \"q\" as E3  <<(T,blue) attribute>> [[psysml:88455055-d217-4a9f-96e6-c531cf1f5b6c ]] {\r\n",
       "}\r\n",
       "E3 - -|> E2 [[psysml:11b4979a-79b0-4e55-825e-341a26faa927 ]] \r\n",
       "}\r\n",
       "@enduml\r\n",
       "\n",
       "PlantUML version 1.2020.13(Sat Jun 13 12:26:38 UTC 2020)\n",
       "(EPL source distribution)\n",
       "Java Runtime: OpenJDK Runtime Environment\n",
       "JVM: OpenJDK 64-Bit Server VM\n",
       "Default Encoding: UTF-8\n",
       "Language: en\n",
       "Country: null\n",
       "--></g></svg>"
      ]
     },
     "execution_count": 22,
     "metadata": {},
     "output_type": "execute_result"
    }
   ],
   "source": [
    "%viz --style=\"LR\" --view=\"MIXED\" \"QuantityTest\""
   ]
  },
  {
   "cell_type": "code",
   "execution_count": 23,
   "id": "b22e3d4e",
   "metadata": {
    "execution": {
     "iopub.execute_input": "2021-06-30T09:22:06.793808Z",
     "iopub.status.busy": "2021-06-30T09:22:06.791973Z",
     "iopub.status.idle": "2021-06-30T09:22:06.829591Z",
     "shell.execute_reply": "2021-06-30T09:22:06.828397Z"
    }
   },
   "outputs": [
    {
     "data": {
      "image/svg+xml": [
       "<?xml version=\"1.0\" encoding=\"UTF-8\" standalone=\"no\"?><svg xmlns=\"http://www.w3.org/2000/svg\" xmlns:xlink=\"http://www.w3.org/1999/xlink\" contentScriptType=\"application/ecmascript\" contentStyleType=\"text/css\" height=\"221px\" preserveAspectRatio=\"none\" style=\"width:320px;height:221px;\" version=\"1.1\" viewBox=\"0 0 320 221\" width=\"320px\" zoomAndPan=\"magnify\"><defs><filter height=\"300%\" id=\"f1xaqnliihgdu7\" width=\"300%\" x=\"-1\" y=\"-1\"><feGaussianBlur result=\"blurOut\" stdDeviation=\"2.0\"/><feColorMatrix in=\"blurOut\" result=\"blurOut2\" type=\"matrix\" values=\"0 0 0 0 0 0 0 0 0 0 0 0 0 0 0 0 0 0 .4 0\"/><feOffset dx=\"4.0\" dy=\"4.0\" in=\"blurOut2\" result=\"blurOut3\"/><feBlend in=\"SourceGraphic\" in2=\"blurOut3\" mode=\"normal\"/></filter></defs><g><!--MD5=[fbc87193dbaf4d95561dea2c320d4a47]\n",
       "cluster E1--><a href=\"psysml:f380021c-1a7c-453e-a474-5589714ddc4a\" target=\"_top\" title=\"psysml:f380021c-1a7c-453e-a474-5589714ddc4a\" xlink:actuate=\"onRequest\" xlink:href=\"psysml:f380021c-1a7c-453e-a474-5589714ddc4a\" xlink:show=\"new\" xlink:title=\"psysml:f380021c-1a7c-453e-a474-5589714ddc4a\" xlink:type=\"simple\"><polygon fill=\"#FFFFFF\" filter=\"url(#f1xaqnliihgdu7)\" points=\"16,6,123,6,130,28.2969,298,28.2969,298,209,16,209,16,6\" style=\"stroke: #000000; stroke-width: 1.5;\"/><line style=\"stroke: #000000; stroke-width: 1.5;\" x1=\"16\" x2=\"130\" y1=\"28.2969\" y2=\"28.2969\"/><text fill=\"#000000\" font-family=\"sans-serif\" font-size=\"14\" font-weight=\"bold\" lengthAdjust=\"spacingAndGlyphs\" textLength=\"101\" x=\"20\" y=\"20.9951\">QuantityTest</text></a><!--MD5=[b4997ac47864f28c2f74865a473b2911]\n",
       "class E2--><a href=\"psysml:c5943d6b-e87d-4b1b-8731-2602b62da777\" target=\"_top\" title=\"psysml:c5943d6b-e87d-4b1b-8731-2602b62da777\" xlink:actuate=\"onRequest\" xlink:href=\"psysml:c5943d6b-e87d-4b1b-8731-2602b62da777\" xlink:show=\"new\" xlink:title=\"psysml:c5943d6b-e87d-4b1b-8731-2602b62da777\" xlink:type=\"simple\"><rect fill=\"#FEFECE\" filter=\"url(#f1xaqnliihgdu7)\" height=\"45.9375\" id=\"E2\" rx=\"10\" ry=\"10\" style=\"stroke: #A80036; stroke-width: 1.5;\" width=\"249\" x=\"32.5\" y=\"147\"/><text fill=\"#000000\" font-family=\"sans-serif\" font-size=\"12\" font-style=\"italic\" lengthAdjust=\"spacingAndGlyphs\" textLength=\"69\" x=\"122.5\" y=\"163.1387\">«attribute»</text><text fill=\"#000000\" font-family=\"sans-serif\" font-size=\"12\" lengthAdjust=\"spacingAndGlyphs\" textLength=\"243\" x=\"35.5\" y=\"177.1074\">tensorQuantities: TensorQuantityValue</text><line style=\"stroke: #A80036; stroke-width: 1.5;\" x1=\"33.5\" x2=\"280.5\" y1=\"184.9375\" y2=\"184.9375\"/></a><!--MD5=[09b614a08d8cba4a07c9adeb5e0fee81]\n",
       "class E3--><a href=\"psysml:88455055-d217-4a9f-96e6-c531cf1f5b6c\" target=\"_top\" title=\"psysml:88455055-d217-4a9f-96e6-c531cf1f5b6c\" xlink:actuate=\"onRequest\" xlink:href=\"psysml:88455055-d217-4a9f-96e6-c531cf1f5b6c\" xlink:show=\"new\" xlink:title=\"psysml:88455055-d217-4a9f-96e6-c531cf1f5b6c\" xlink:type=\"simple\"><rect fill=\"#FEFECE\" filter=\"url(#f1xaqnliihgdu7)\" height=\"45.9375\" id=\"E3\" rx=\"10\" ry=\"10\" style=\"stroke: #A80036; stroke-width: 1.5;\" width=\"71\" x=\"121.5\" y=\"41\"/><text fill=\"#000000\" font-family=\"sans-serif\" font-size=\"12\" font-style=\"italic\" lengthAdjust=\"spacingAndGlyphs\" textLength=\"69\" x=\"122.5\" y=\"57.1387\">«attribute»</text><text fill=\"#000000\" font-family=\"sans-serif\" font-size=\"12\" lengthAdjust=\"spacingAndGlyphs\" textLength=\"8\" x=\"153\" y=\"71.1074\">q</text><line style=\"stroke: #A80036; stroke-width: 1.5;\" x1=\"122.5\" x2=\"191.5\" y1=\"78.9375\" y2=\"78.9375\"/></a><!--MD5=[05d275557350bfb9b23a4ef7222b4c39]\n",
       "link E3 to E2--><a href=\"psysml:11b4979a-79b0-4e55-825e-341a26faa927\" target=\"_top\" title=\"psysml:11b4979a-79b0-4e55-825e-341a26faa927\" xlink:actuate=\"onRequest\" xlink:href=\"psysml:11b4979a-79b0-4e55-825e-341a26faa927\" xlink:show=\"new\" xlink:title=\"psysml:11b4979a-79b0-4e55-825e-341a26faa927\" xlink:type=\"simple\"><path d=\"M157,87.06 C157,98.64 157,113.23 157,126.87 \" fill=\"none\" id=\"E3-&gt;E2\" style=\"stroke: #A80036; stroke-width: 1.0;\"/><polygon fill=\"none\" points=\"164,126.98,157,146.98,150,126.98,164,126.98\" style=\"stroke: #A80036; stroke-width: 1.0;\"/></a><!--MD5=[d05322bb4d99fd606acd5b22b30548da]\n",
       "@startuml\r\n",
       "skinparam wrapWidth 300\r\n",
       "hide circle\r\n",
       "\r\n",
       "package \"QuantityTest\" as E1  [[psysml:f380021c-1a7c-453e-a474-5589714ddc4a ]]  {\r\n",
       "comp usage \"tensorQuantities: TensorQuantityValue\" as E2  <<(T,blue) attribute>> [[psysml:c5943d6b-e87d-4b1b-8731-2602b62da777 ]] {\r\n",
       "}\r\n",
       "comp usage \"q\" as E3  <<(T,blue) attribute>> [[psysml:88455055-d217-4a9f-96e6-c531cf1f5b6c ]] {\r\n",
       "}\r\n",
       "E3 - -|> E2 [[psysml:11b4979a-79b0-4e55-825e-341a26faa927 ]] \r\n",
       "}\r\n",
       "@enduml\r\n",
       "\n",
       "PlantUML version 1.2020.13(Sat Jun 13 12:26:38 UTC 2020)\n",
       "(EPL source distribution)\n",
       "Java Runtime: OpenJDK Runtime Environment\n",
       "JVM: OpenJDK 64-Bit Server VM\n",
       "Default Encoding: UTF-8\n",
       "Language: en\n",
       "Country: null\n",
       "--></g></svg>"
      ]
     },
     "execution_count": 23,
     "metadata": {},
     "output_type": "execute_result"
    }
   ],
   "source": [
    "%viz --style=\"STDCOLOR\" --view=\"Default\" \"QuantityTest\""
   ]
  },
  {
   "cell_type": "code",
   "execution_count": 24,
   "id": "87403c4a",
   "metadata": {
    "execution": {
     "iopub.execute_input": "2021-06-30T09:22:06.883258Z",
     "iopub.status.busy": "2021-06-30T09:22:06.881068Z",
     "iopub.status.idle": "2021-06-30T09:22:06.915691Z",
     "shell.execute_reply": "2021-06-30T09:22:06.913510Z"
    }
   },
   "outputs": [
    {
     "data": {
      "image/svg+xml": [
       "<?xml version=\"1.0\" encoding=\"UTF-8\" standalone=\"no\"?><svg xmlns=\"http://www.w3.org/2000/svg\" xmlns:xlink=\"http://www.w3.org/1999/xlink\" contentScriptType=\"application/ecmascript\" contentStyleType=\"text/css\" height=\"221px\" preserveAspectRatio=\"none\" style=\"width:320px;height:221px;\" version=\"1.1\" viewBox=\"0 0 320 221\" width=\"320px\" zoomAndPan=\"magnify\"><defs><filter height=\"300%\" id=\"f1xaqnliihgdu7\" width=\"300%\" x=\"-1\" y=\"-1\"><feGaussianBlur result=\"blurOut\" stdDeviation=\"2.0\"/><feColorMatrix in=\"blurOut\" result=\"blurOut2\" type=\"matrix\" values=\"0 0 0 0 0 0 0 0 0 0 0 0 0 0 0 0 0 0 .4 0\"/><feOffset dx=\"4.0\" dy=\"4.0\" in=\"blurOut2\" result=\"blurOut3\"/><feBlend in=\"SourceGraphic\" in2=\"blurOut3\" mode=\"normal\"/></filter></defs><g><!--MD5=[fbc87193dbaf4d95561dea2c320d4a47]\n",
       "cluster E1--><a href=\"psysml:f380021c-1a7c-453e-a474-5589714ddc4a\" target=\"_top\" title=\"psysml:f380021c-1a7c-453e-a474-5589714ddc4a\" xlink:actuate=\"onRequest\" xlink:href=\"psysml:f380021c-1a7c-453e-a474-5589714ddc4a\" xlink:show=\"new\" xlink:title=\"psysml:f380021c-1a7c-453e-a474-5589714ddc4a\" xlink:type=\"simple\"><polygon fill=\"#FFFFFF\" filter=\"url(#f1xaqnliihgdu7)\" points=\"16,6,123,6,130,28.2969,298,28.2969,298,209,16,209,16,6\" style=\"stroke: #000000; stroke-width: 1.5;\"/><line style=\"stroke: #000000; stroke-width: 1.5;\" x1=\"16\" x2=\"130\" y1=\"28.2969\" y2=\"28.2969\"/><text fill=\"#000000\" font-family=\"sans-serif\" font-size=\"14\" font-weight=\"bold\" lengthAdjust=\"spacingAndGlyphs\" textLength=\"101\" x=\"20\" y=\"20.9951\">QuantityTest</text></a><!--MD5=[b4997ac47864f28c2f74865a473b2911]\n",
       "class E2--><a href=\"psysml:c5943d6b-e87d-4b1b-8731-2602b62da777\" target=\"_top\" title=\"psysml:c5943d6b-e87d-4b1b-8731-2602b62da777\" xlink:actuate=\"onRequest\" xlink:href=\"psysml:c5943d6b-e87d-4b1b-8731-2602b62da777\" xlink:show=\"new\" xlink:title=\"psysml:c5943d6b-e87d-4b1b-8731-2602b62da777\" xlink:type=\"simple\"><rect fill=\"#FEFECE\" filter=\"url(#f1xaqnliihgdu7)\" height=\"45.9375\" id=\"E2\" rx=\"10\" ry=\"10\" style=\"stroke: #A80036; stroke-width: 1.5;\" width=\"249\" x=\"32.5\" y=\"147\"/><text fill=\"#000000\" font-family=\"sans-serif\" font-size=\"12\" font-style=\"italic\" lengthAdjust=\"spacingAndGlyphs\" textLength=\"69\" x=\"122.5\" y=\"163.1387\">«attribute»</text><text fill=\"#000000\" font-family=\"sans-serif\" font-size=\"12\" lengthAdjust=\"spacingAndGlyphs\" textLength=\"243\" x=\"35.5\" y=\"177.1074\">tensorQuantities: TensorQuantityValue</text><line style=\"stroke: #A80036; stroke-width: 1.5;\" x1=\"33.5\" x2=\"280.5\" y1=\"184.9375\" y2=\"184.9375\"/></a><!--MD5=[09b614a08d8cba4a07c9adeb5e0fee81]\n",
       "class E3--><a href=\"psysml:88455055-d217-4a9f-96e6-c531cf1f5b6c\" target=\"_top\" title=\"psysml:88455055-d217-4a9f-96e6-c531cf1f5b6c\" xlink:actuate=\"onRequest\" xlink:href=\"psysml:88455055-d217-4a9f-96e6-c531cf1f5b6c\" xlink:show=\"new\" xlink:title=\"psysml:88455055-d217-4a9f-96e6-c531cf1f5b6c\" xlink:type=\"simple\"><rect fill=\"#FEFECE\" filter=\"url(#f1xaqnliihgdu7)\" height=\"45.9375\" id=\"E3\" rx=\"10\" ry=\"10\" style=\"stroke: #A80036; stroke-width: 1.5;\" width=\"71\" x=\"121.5\" y=\"41\"/><text fill=\"#000000\" font-family=\"sans-serif\" font-size=\"12\" font-style=\"italic\" lengthAdjust=\"spacingAndGlyphs\" textLength=\"69\" x=\"122.5\" y=\"57.1387\">«attribute»</text><text fill=\"#000000\" font-family=\"sans-serif\" font-size=\"12\" lengthAdjust=\"spacingAndGlyphs\" textLength=\"8\" x=\"153\" y=\"71.1074\">q</text><line style=\"stroke: #A80036; stroke-width: 1.5;\" x1=\"122.5\" x2=\"191.5\" y1=\"78.9375\" y2=\"78.9375\"/></a><!--MD5=[05d275557350bfb9b23a4ef7222b4c39]\n",
       "link E3 to E2--><a href=\"psysml:11b4979a-79b0-4e55-825e-341a26faa927\" target=\"_top\" title=\"psysml:11b4979a-79b0-4e55-825e-341a26faa927\" xlink:actuate=\"onRequest\" xlink:href=\"psysml:11b4979a-79b0-4e55-825e-341a26faa927\" xlink:show=\"new\" xlink:title=\"psysml:11b4979a-79b0-4e55-825e-341a26faa927\" xlink:type=\"simple\"><path d=\"M157,87.06 C157,98.64 157,113.23 157,126.87 \" fill=\"none\" id=\"E3-&gt;E2\" style=\"stroke: #A80036; stroke-width: 1.0;\"/><polygon fill=\"none\" points=\"164,126.98,157,146.98,150,126.98,164,126.98\" style=\"stroke: #A80036; stroke-width: 1.0;\"/></a><!--MD5=[d05322bb4d99fd606acd5b22b30548da]\n",
       "@startuml\r\n",
       "skinparam wrapWidth 300\r\n",
       "hide circle\r\n",
       "\r\n",
       "package \"QuantityTest\" as E1  [[psysml:f380021c-1a7c-453e-a474-5589714ddc4a ]]  {\r\n",
       "comp usage \"tensorQuantities: TensorQuantityValue\" as E2  <<(T,blue) attribute>> [[psysml:c5943d6b-e87d-4b1b-8731-2602b62da777 ]] {\r\n",
       "}\r\n",
       "comp usage \"q\" as E3  <<(T,blue) attribute>> [[psysml:88455055-d217-4a9f-96e6-c531cf1f5b6c ]] {\r\n",
       "}\r\n",
       "E3 - -|> E2 [[psysml:11b4979a-79b0-4e55-825e-341a26faa927 ]] \r\n",
       "}\r\n",
       "@enduml\r\n",
       "\n",
       "PlantUML version 1.2020.13(Sat Jun 13 12:26:38 UTC 2020)\n",
       "(EPL source distribution)\n",
       "Java Runtime: OpenJDK Runtime Environment\n",
       "JVM: OpenJDK 64-Bit Server VM\n",
       "Default Encoding: UTF-8\n",
       "Language: en\n",
       "Country: null\n",
       "--></g></svg>"
      ]
     },
     "execution_count": 24,
     "metadata": {},
     "output_type": "execute_result"
    }
   ],
   "source": [
    "%viz --style=\"STDCOLOR\" --view=\"Tree\" \"QuantityTest\""
   ]
  },
  {
   "cell_type": "code",
   "execution_count": 25,
   "id": "866a3d87",
   "metadata": {
    "execution": {
     "iopub.execute_input": "2021-06-30T09:22:06.969718Z",
     "iopub.status.busy": "2021-06-30T09:22:06.968072Z",
     "iopub.status.idle": "2021-06-30T09:22:06.979636Z",
     "shell.execute_reply": "2021-06-30T09:22:06.978950Z"
    }
   },
   "outputs": [
    {
     "data": {
      "image/svg+xml": [
       "<?xml version=\"1.0\" encoding=\"UTF-8\" standalone=\"no\"?><svg xmlns=\"http://www.w3.org/2000/svg\" xmlns:xlink=\"http://www.w3.org/1999/xlink\" contentScriptType=\"application/ecmascript\" contentStyleType=\"text/css\" height=\"12px\" preserveAspectRatio=\"none\" style=\"width:12px;height:12px;\" version=\"1.1\" viewBox=\"0 0 12 12\" width=\"12px\" zoomAndPan=\"magnify\"><defs/><g><!--MD5=[aeeef50f102b80d730deb6443d14f702]\n",
       "@startuml\r\n",
       "skinparam wrapWidth 300\r\n",
       "hide circle\r\n",
       "\r\n",
       "@enduml\r\n",
       "\n",
       "PlantUML version 1.2020.13(Sat Jun 13 12:26:38 UTC 2020)\n",
       "(EPL source distribution)\n",
       "Java Runtime: OpenJDK Runtime Environment\n",
       "JVM: OpenJDK 64-Bit Server VM\n",
       "Default Encoding: UTF-8\n",
       "Language: en\n",
       "Country: null\n",
       "--></g></svg>"
      ]
     },
     "execution_count": 25,
     "metadata": {},
     "output_type": "execute_result"
    }
   ],
   "source": [
    "%viz --style=\"STDCOLOR\" --view=\"State\" \"QuantityTest\""
   ]
  },
  {
   "cell_type": "code",
   "execution_count": 26,
   "id": "325404fc",
   "metadata": {
    "execution": {
     "iopub.execute_input": "2021-06-30T09:22:07.034994Z",
     "iopub.status.busy": "2021-06-30T09:22:07.032361Z",
     "iopub.status.idle": "2021-06-30T09:22:07.060799Z",
     "shell.execute_reply": "2021-06-30T09:22:07.060504Z"
    }
   },
   "outputs": [
    {
     "data": {
      "image/svg+xml": [
       "<?xml version=\"1.0\" encoding=\"UTF-8\" standalone=\"no\"?><svg xmlns=\"http://www.w3.org/2000/svg\" xmlns:xlink=\"http://www.w3.org/1999/xlink\" contentScriptType=\"application/ecmascript\" contentStyleType=\"text/css\" height=\"171px\" preserveAspectRatio=\"none\" style=\"width:320px;height:171px;\" version=\"1.1\" viewBox=\"0 0 320 171\" width=\"320px\" zoomAndPan=\"magnify\"><defs><filter height=\"300%\" id=\"fnpqzcg5yxwe4\" width=\"300%\" x=\"-1\" y=\"-1\"><feGaussianBlur result=\"blurOut\" stdDeviation=\"2.0\"/><feColorMatrix in=\"blurOut\" result=\"blurOut2\" type=\"matrix\" values=\"0 0 0 0 0 0 0 0 0 0 0 0 0 0 0 0 0 0 .4 0\"/><feOffset dx=\"4.0\" dy=\"4.0\" in=\"blurOut2\" result=\"blurOut3\"/><feBlend in=\"SourceGraphic\" in2=\"blurOut3\" mode=\"normal\"/></filter></defs><g><!--MD5=[fbc87193dbaf4d95561dea2c320d4a47]\n",
       "cluster E1--><a href=\"psysml:f380021c-1a7c-453e-a474-5589714ddc4a\" target=\"_top\" title=\"psysml:f380021c-1a7c-453e-a474-5589714ddc4a\" xlink:actuate=\"onRequest\" xlink:href=\"psysml:f380021c-1a7c-453e-a474-5589714ddc4a\" xlink:show=\"new\" xlink:title=\"psysml:f380021c-1a7c-453e-a474-5589714ddc4a\" xlink:type=\"simple\"><polygon fill=\"#FFFFFF\" filter=\"url(#fnpqzcg5yxwe4)\" points=\"16,6,123,6,130,28.2969,298,28.2969,298,159,16,159,16,6\" style=\"stroke: #000000; stroke-width: 1.5;\"/><line style=\"stroke: #000000; stroke-width: 1.5;\" x1=\"16\" x2=\"130\" y1=\"28.2969\" y2=\"28.2969\"/><text fill=\"#000000\" font-family=\"sans-serif\" font-size=\"14\" font-weight=\"bold\" lengthAdjust=\"spacingAndGlyphs\" textLength=\"101\" x=\"20\" y=\"20.9951\">QuantityTest</text></a><!--MD5=[b4997ac47864f28c2f74865a473b2911]\n",
       "class E2--><a href=\"psysml:c5943d6b-e87d-4b1b-8731-2602b62da777\" target=\"_top\" title=\"psysml:c5943d6b-e87d-4b1b-8731-2602b62da777\" xlink:actuate=\"onRequest\" xlink:href=\"psysml:c5943d6b-e87d-4b1b-8731-2602b62da777\" xlink:show=\"new\" xlink:title=\"psysml:c5943d6b-e87d-4b1b-8731-2602b62da777\" xlink:type=\"simple\"><rect fill=\"#FEFECE\" filter=\"url(#fnpqzcg5yxwe4)\" height=\"45.9375\" id=\"E2\" rx=\"10\" ry=\"10\" style=\"stroke: #A80036; stroke-width: 1.5;\" width=\"249\" x=\"32.5\" y=\"97\"/><text fill=\"#000000\" font-family=\"sans-serif\" font-size=\"12\" font-style=\"italic\" lengthAdjust=\"spacingAndGlyphs\" textLength=\"69\" x=\"122.5\" y=\"113.1387\">«attribute»</text><text fill=\"#000000\" font-family=\"sans-serif\" font-size=\"12\" lengthAdjust=\"spacingAndGlyphs\" textLength=\"243\" x=\"35.5\" y=\"127.1074\">tensorQuantities: TensorQuantityValue</text><line style=\"stroke: #A80036; stroke-width: 1.5;\" x1=\"33.5\" x2=\"280.5\" y1=\"134.9375\" y2=\"134.9375\"/></a><!--MD5=[09b614a08d8cba4a07c9adeb5e0fee81]\n",
       "class E3--><a href=\"psysml:88455055-d217-4a9f-96e6-c531cf1f5b6c\" target=\"_top\" title=\"psysml:88455055-d217-4a9f-96e6-c531cf1f5b6c\" xlink:actuate=\"onRequest\" xlink:href=\"psysml:88455055-d217-4a9f-96e6-c531cf1f5b6c\" xlink:show=\"new\" xlink:title=\"psysml:88455055-d217-4a9f-96e6-c531cf1f5b6c\" xlink:type=\"simple\"><rect fill=\"#FEFECE\" filter=\"url(#fnpqzcg5yxwe4)\" height=\"45.9375\" id=\"E3\" rx=\"10\" ry=\"10\" style=\"stroke: #A80036; stroke-width: 1.5;\" width=\"71\" x=\"121.5\" y=\"41\"/><text fill=\"#000000\" font-family=\"sans-serif\" font-size=\"12\" font-style=\"italic\" lengthAdjust=\"spacingAndGlyphs\" textLength=\"69\" x=\"122.5\" y=\"57.1387\">«attribute»</text><text fill=\"#000000\" font-family=\"sans-serif\" font-size=\"12\" lengthAdjust=\"spacingAndGlyphs\" textLength=\"8\" x=\"153\" y=\"71.1074\">q</text><line style=\"stroke: #A80036; stroke-width: 1.5;\" x1=\"122.5\" x2=\"191.5\" y1=\"78.9375\" y2=\"78.9375\"/></a><!--MD5=[05d275557350bfb9b23a4ef7222b4c39]\n",
       "link E3 to E2--><a href=\"psysml:11b4979a-79b0-4e55-825e-341a26faa927\" target=\"_top\" title=\"psysml:11b4979a-79b0-4e55-825e-341a26faa927\" xlink:actuate=\"onRequest\" xlink:href=\"psysml:11b4979a-79b0-4e55-825e-341a26faa927\" xlink:show=\"new\" xlink:title=\"psysml:11b4979a-79b0-4e55-825e-341a26faa927\" xlink:type=\"simple\"><path d=\"M157,87.28 C157,87.37 157,87.47 157,87.57 \" fill=\"none\" id=\"E3-&gt;E2\" style=\"stroke: #A80036; stroke-width: 1.0;\"/><polygon fill=\"none\" points=\"164,76.78,157,96.78,150,76.78,164,76.78\" style=\"stroke: #A80036; stroke-width: 1.0;\"/></a><!--MD5=[216ff4aa335d9c50122fb9b070cff061]\n",
       "@startuml\r\n",
       "skinparam ranksep 10\r\n",
       "skinparam rectangle {\r\n",
       " backgroundColor<<block>> LightGreen\r\n",
       "}\r\n",
       "skinparam wrapWidth 300\r\n",
       "hide circle\r\n",
       "\r\n",
       "package \"QuantityTest\" as E1  [[psysml:f380021c-1a7c-453e-a474-5589714ddc4a ]]  {\r\n",
       "comp usage \"tensorQuantities: TensorQuantityValue\" as E2  <<(T,blue) attribute>> [[psysml:c5943d6b-e87d-4b1b-8731-2602b62da777 ]] {\r\n",
       "}\r\n",
       "comp usage \"q\" as E3  <<(T,blue) attribute>> [[psysml:88455055-d217-4a9f-96e6-c531cf1f5b6c ]] {\r\n",
       "}\r\n",
       "E3 - -|> E2 [[psysml:11b4979a-79b0-4e55-825e-341a26faa927 ]] \r\n",
       "}\r\n",
       "@enduml\r\n",
       "\n",
       "PlantUML version 1.2020.13(Sat Jun 13 12:26:38 UTC 2020)\n",
       "(EPL source distribution)\n",
       "Java Runtime: OpenJDK Runtime Environment\n",
       "JVM: OpenJDK 64-Bit Server VM\n",
       "Default Encoding: UTF-8\n",
       "Language: en\n",
       "Country: null\n",
       "--></g></svg>"
      ]
     },
     "execution_count": 26,
     "metadata": {},
     "output_type": "execute_result"
    }
   ],
   "source": [
    "%viz --style=\"STDCOLOR\" --view=\"Interconnection\" \"QuantityTest\""
   ]
  },
  {
   "cell_type": "code",
   "execution_count": 27,
   "id": "0c490a9f",
   "metadata": {
    "execution": {
     "iopub.execute_input": "2021-06-30T09:22:07.112924Z",
     "iopub.status.busy": "2021-06-30T09:22:07.112171Z",
     "iopub.status.idle": "2021-06-30T09:22:07.118971Z",
     "shell.execute_reply": "2021-06-30T09:22:07.118453Z"
    }
   },
   "outputs": [
    {
     "data": {
      "image/svg+xml": [
       "<?xml version=\"1.0\" encoding=\"UTF-8\" standalone=\"no\"?><svg xmlns=\"http://www.w3.org/2000/svg\" xmlns:xlink=\"http://www.w3.org/1999/xlink\" contentScriptType=\"application/ecmascript\" contentStyleType=\"text/css\" height=\"12px\" preserveAspectRatio=\"none\" style=\"width:12px;height:12px;\" version=\"1.1\" viewBox=\"0 0 12 12\" width=\"12px\" zoomAndPan=\"magnify\"><defs/><g><!--MD5=[9863325348a96a77dacc89509d8ee65e]\n",
       "@startuml\r\n",
       "skinparam ranksep 8\r\n",
       "skinparam wrapWidth 300\r\n",
       "hide circle\r\n",
       "\r\n",
       "@enduml\r\n",
       "\n",
       "PlantUML version 1.2020.13(Sat Jun 13 12:26:38 UTC 2020)\n",
       "(EPL source distribution)\n",
       "Java Runtime: OpenJDK Runtime Environment\n",
       "JVM: OpenJDK 64-Bit Server VM\n",
       "Default Encoding: UTF-8\n",
       "Language: en\n",
       "Country: null\n",
       "--></g></svg>"
      ]
     },
     "execution_count": 27,
     "metadata": {},
     "output_type": "execute_result"
    }
   ],
   "source": [
    "%viz --style=\"STDCOLOR\" --view=\"Action\" \"QuantityTest\""
   ]
  },
  {
   "cell_type": "code",
   "execution_count": 28,
   "id": "48169056",
   "metadata": {
    "execution": {
     "iopub.execute_input": "2021-06-30T09:22:07.172140Z",
     "iopub.status.busy": "2021-06-30T09:22:07.171574Z",
     "iopub.status.idle": "2021-06-30T09:22:07.195647Z",
     "shell.execute_reply": "2021-06-30T09:22:07.195299Z"
    }
   },
   "outputs": [
    {
     "data": {
      "image/svg+xml": [
       "<?xml version=\"1.0\" encoding=\"UTF-8\" standalone=\"no\"?><svg xmlns=\"http://www.w3.org/2000/svg\" xmlns:xlink=\"http://www.w3.org/1999/xlink\" contentScriptType=\"application/ecmascript\" contentStyleType=\"text/css\" height=\"221px\" preserveAspectRatio=\"none\" style=\"width:320px;height:221px;\" version=\"1.1\" viewBox=\"0 0 320 221\" width=\"320px\" zoomAndPan=\"magnify\"><defs><filter height=\"300%\" id=\"f1xaqnliihgdu7\" width=\"300%\" x=\"-1\" y=\"-1\"><feGaussianBlur result=\"blurOut\" stdDeviation=\"2.0\"/><feColorMatrix in=\"blurOut\" result=\"blurOut2\" type=\"matrix\" values=\"0 0 0 0 0 0 0 0 0 0 0 0 0 0 0 0 0 0 .4 0\"/><feOffset dx=\"4.0\" dy=\"4.0\" in=\"blurOut2\" result=\"blurOut3\"/><feBlend in=\"SourceGraphic\" in2=\"blurOut3\" mode=\"normal\"/></filter></defs><g><!--MD5=[fbc87193dbaf4d95561dea2c320d4a47]\n",
       "cluster E1--><a href=\"psysml:f380021c-1a7c-453e-a474-5589714ddc4a\" target=\"_top\" title=\"psysml:f380021c-1a7c-453e-a474-5589714ddc4a\" xlink:actuate=\"onRequest\" xlink:href=\"psysml:f380021c-1a7c-453e-a474-5589714ddc4a\" xlink:show=\"new\" xlink:title=\"psysml:f380021c-1a7c-453e-a474-5589714ddc4a\" xlink:type=\"simple\"><polygon fill=\"#FFFFFF\" filter=\"url(#f1xaqnliihgdu7)\" points=\"16,6,123,6,130,28.2969,298,28.2969,298,209,16,209,16,6\" style=\"stroke: #000000; stroke-width: 1.5;\"/><line style=\"stroke: #000000; stroke-width: 1.5;\" x1=\"16\" x2=\"130\" y1=\"28.2969\" y2=\"28.2969\"/><text fill=\"#000000\" font-family=\"sans-serif\" font-size=\"14\" font-weight=\"bold\" lengthAdjust=\"spacingAndGlyphs\" textLength=\"101\" x=\"20\" y=\"20.9951\">QuantityTest</text></a><!--MD5=[b4997ac47864f28c2f74865a473b2911]\n",
       "class E2--><a href=\"psysml:c5943d6b-e87d-4b1b-8731-2602b62da777\" target=\"_top\" title=\"psysml:c5943d6b-e87d-4b1b-8731-2602b62da777\" xlink:actuate=\"onRequest\" xlink:href=\"psysml:c5943d6b-e87d-4b1b-8731-2602b62da777\" xlink:show=\"new\" xlink:title=\"psysml:c5943d6b-e87d-4b1b-8731-2602b62da777\" xlink:type=\"simple\"><rect fill=\"#FEFECE\" filter=\"url(#f1xaqnliihgdu7)\" height=\"45.9375\" id=\"E2\" rx=\"10\" ry=\"10\" style=\"stroke: #A80036; stroke-width: 1.5;\" width=\"249\" x=\"32.5\" y=\"147\"/><text fill=\"#000000\" font-family=\"sans-serif\" font-size=\"12\" font-style=\"italic\" lengthAdjust=\"spacingAndGlyphs\" textLength=\"69\" x=\"122.5\" y=\"163.1387\">«attribute»</text><text fill=\"#000000\" font-family=\"sans-serif\" font-size=\"12\" lengthAdjust=\"spacingAndGlyphs\" textLength=\"243\" x=\"35.5\" y=\"177.1074\">tensorQuantities: TensorQuantityValue</text><line style=\"stroke: #A80036; stroke-width: 1.5;\" x1=\"33.5\" x2=\"280.5\" y1=\"184.9375\" y2=\"184.9375\"/></a><!--MD5=[09b614a08d8cba4a07c9adeb5e0fee81]\n",
       "class E3--><a href=\"psysml:88455055-d217-4a9f-96e6-c531cf1f5b6c\" target=\"_top\" title=\"psysml:88455055-d217-4a9f-96e6-c531cf1f5b6c\" xlink:actuate=\"onRequest\" xlink:href=\"psysml:88455055-d217-4a9f-96e6-c531cf1f5b6c\" xlink:show=\"new\" xlink:title=\"psysml:88455055-d217-4a9f-96e6-c531cf1f5b6c\" xlink:type=\"simple\"><rect fill=\"#FEFECE\" filter=\"url(#f1xaqnliihgdu7)\" height=\"45.9375\" id=\"E3\" rx=\"10\" ry=\"10\" style=\"stroke: #A80036; stroke-width: 1.5;\" width=\"71\" x=\"121.5\" y=\"41\"/><text fill=\"#000000\" font-family=\"sans-serif\" font-size=\"12\" font-style=\"italic\" lengthAdjust=\"spacingAndGlyphs\" textLength=\"69\" x=\"122.5\" y=\"57.1387\">«attribute»</text><text fill=\"#000000\" font-family=\"sans-serif\" font-size=\"12\" lengthAdjust=\"spacingAndGlyphs\" textLength=\"8\" x=\"153\" y=\"71.1074\">q</text><line style=\"stroke: #A80036; stroke-width: 1.5;\" x1=\"122.5\" x2=\"191.5\" y1=\"78.9375\" y2=\"78.9375\"/></a><!--MD5=[05d275557350bfb9b23a4ef7222b4c39]\n",
       "link E3 to E2--><a href=\"psysml:11b4979a-79b0-4e55-825e-341a26faa927\" target=\"_top\" title=\"psysml:11b4979a-79b0-4e55-825e-341a26faa927\" xlink:actuate=\"onRequest\" xlink:href=\"psysml:11b4979a-79b0-4e55-825e-341a26faa927\" xlink:show=\"new\" xlink:title=\"psysml:11b4979a-79b0-4e55-825e-341a26faa927\" xlink:type=\"simple\"><path d=\"M157,87.06 C157,98.64 157,113.23 157,126.87 \" fill=\"none\" id=\"E3-&gt;E2\" style=\"stroke: #A80036; stroke-width: 1.0;\"/><polygon fill=\"none\" points=\"164,126.98,157,146.98,150,126.98,164,126.98\" style=\"stroke: #A80036; stroke-width: 1.0;\"/></a><!--MD5=[d05322bb4d99fd606acd5b22b30548da]\n",
       "@startuml\r\n",
       "skinparam wrapWidth 300\r\n",
       "hide circle\r\n",
       "\r\n",
       "package \"QuantityTest\" as E1  [[psysml:f380021c-1a7c-453e-a474-5589714ddc4a ]]  {\r\n",
       "comp usage \"tensorQuantities: TensorQuantityValue\" as E2  <<(T,blue) attribute>> [[psysml:c5943d6b-e87d-4b1b-8731-2602b62da777 ]] {\r\n",
       "}\r\n",
       "comp usage \"q\" as E3  <<(T,blue) attribute>> [[psysml:88455055-d217-4a9f-96e6-c531cf1f5b6c ]] {\r\n",
       "}\r\n",
       "E3 - -|> E2 [[psysml:11b4979a-79b0-4e55-825e-341a26faa927 ]] \r\n",
       "}\r\n",
       "@enduml\r\n",
       "\n",
       "PlantUML version 1.2020.13(Sat Jun 13 12:26:38 UTC 2020)\n",
       "(EPL source distribution)\n",
       "Java Runtime: OpenJDK Runtime Environment\n",
       "JVM: OpenJDK 64-Bit Server VM\n",
       "Default Encoding: UTF-8\n",
       "Language: en\n",
       "Country: null\n",
       "--></g></svg>"
      ]
     },
     "execution_count": 28,
     "metadata": {},
     "output_type": "execute_result"
    }
   ],
   "source": [
    "%viz --style=\"STDCOLOR\" --view=\"Sequence\" \"QuantityTest\""
   ]
  },
  {
   "cell_type": "code",
   "execution_count": 29,
   "id": "ce5fa6ce",
   "metadata": {
    "execution": {
     "iopub.execute_input": "2021-06-30T09:22:07.248168Z",
     "iopub.status.busy": "2021-06-30T09:22:07.247748Z",
     "iopub.status.idle": "2021-06-30T09:22:07.278439Z",
     "shell.execute_reply": "2021-06-30T09:22:07.278115Z"
    }
   },
   "outputs": [
    {
     "data": {
      "image/svg+xml": [
       "<?xml version=\"1.0\" encoding=\"UTF-8\" standalone=\"no\"?><svg xmlns=\"http://www.w3.org/2000/svg\" xmlns:xlink=\"http://www.w3.org/1999/xlink\" contentScriptType=\"application/ecmascript\" contentStyleType=\"text/css\" height=\"221px\" preserveAspectRatio=\"none\" style=\"width:320px;height:221px;\" version=\"1.1\" viewBox=\"0 0 320 221\" width=\"320px\" zoomAndPan=\"magnify\"><defs><filter height=\"300%\" id=\"f1xaqnliihgdu7\" width=\"300%\" x=\"-1\" y=\"-1\"><feGaussianBlur result=\"blurOut\" stdDeviation=\"2.0\"/><feColorMatrix in=\"blurOut\" result=\"blurOut2\" type=\"matrix\" values=\"0 0 0 0 0 0 0 0 0 0 0 0 0 0 0 0 0 0 .4 0\"/><feOffset dx=\"4.0\" dy=\"4.0\" in=\"blurOut2\" result=\"blurOut3\"/><feBlend in=\"SourceGraphic\" in2=\"blurOut3\" mode=\"normal\"/></filter></defs><g><!--MD5=[fbc87193dbaf4d95561dea2c320d4a47]\n",
       "cluster E1--><a href=\"psysml:f380021c-1a7c-453e-a474-5589714ddc4a\" target=\"_top\" title=\"psysml:f380021c-1a7c-453e-a474-5589714ddc4a\" xlink:actuate=\"onRequest\" xlink:href=\"psysml:f380021c-1a7c-453e-a474-5589714ddc4a\" xlink:show=\"new\" xlink:title=\"psysml:f380021c-1a7c-453e-a474-5589714ddc4a\" xlink:type=\"simple\"><polygon fill=\"#FFFFFF\" filter=\"url(#f1xaqnliihgdu7)\" points=\"16,6,123,6,130,28.2969,298,28.2969,298,209,16,209,16,6\" style=\"stroke: #000000; stroke-width: 1.5;\"/><line style=\"stroke: #000000; stroke-width: 1.5;\" x1=\"16\" x2=\"130\" y1=\"28.2969\" y2=\"28.2969\"/><text fill=\"#000000\" font-family=\"sans-serif\" font-size=\"14\" font-weight=\"bold\" lengthAdjust=\"spacingAndGlyphs\" textLength=\"101\" x=\"20\" y=\"20.9951\">QuantityTest</text></a><!--MD5=[b4997ac47864f28c2f74865a473b2911]\n",
       "class E2--><a href=\"psysml:c5943d6b-e87d-4b1b-8731-2602b62da777\" target=\"_top\" title=\"psysml:c5943d6b-e87d-4b1b-8731-2602b62da777\" xlink:actuate=\"onRequest\" xlink:href=\"psysml:c5943d6b-e87d-4b1b-8731-2602b62da777\" xlink:show=\"new\" xlink:title=\"psysml:c5943d6b-e87d-4b1b-8731-2602b62da777\" xlink:type=\"simple\"><rect fill=\"#FEFECE\" filter=\"url(#f1xaqnliihgdu7)\" height=\"45.9375\" id=\"E2\" rx=\"10\" ry=\"10\" style=\"stroke: #A80036; stroke-width: 1.5;\" width=\"249\" x=\"32.5\" y=\"147\"/><text fill=\"#000000\" font-family=\"sans-serif\" font-size=\"12\" font-style=\"italic\" lengthAdjust=\"spacingAndGlyphs\" textLength=\"69\" x=\"122.5\" y=\"163.1387\">«attribute»</text><text fill=\"#000000\" font-family=\"sans-serif\" font-size=\"12\" lengthAdjust=\"spacingAndGlyphs\" textLength=\"243\" x=\"35.5\" y=\"177.1074\">tensorQuantities: TensorQuantityValue</text><line style=\"stroke: #A80036; stroke-width: 1.5;\" x1=\"33.5\" x2=\"280.5\" y1=\"184.9375\" y2=\"184.9375\"/></a><!--MD5=[09b614a08d8cba4a07c9adeb5e0fee81]\n",
       "class E3--><a href=\"psysml:88455055-d217-4a9f-96e6-c531cf1f5b6c\" target=\"_top\" title=\"psysml:88455055-d217-4a9f-96e6-c531cf1f5b6c\" xlink:actuate=\"onRequest\" xlink:href=\"psysml:88455055-d217-4a9f-96e6-c531cf1f5b6c\" xlink:show=\"new\" xlink:title=\"psysml:88455055-d217-4a9f-96e6-c531cf1f5b6c\" xlink:type=\"simple\"><rect fill=\"#FEFECE\" filter=\"url(#f1xaqnliihgdu7)\" height=\"45.9375\" id=\"E3\" rx=\"10\" ry=\"10\" style=\"stroke: #A80036; stroke-width: 1.5;\" width=\"71\" x=\"121.5\" y=\"41\"/><text fill=\"#000000\" font-family=\"sans-serif\" font-size=\"12\" font-style=\"italic\" lengthAdjust=\"spacingAndGlyphs\" textLength=\"69\" x=\"122.5\" y=\"57.1387\">«attribute»</text><text fill=\"#000000\" font-family=\"sans-serif\" font-size=\"12\" lengthAdjust=\"spacingAndGlyphs\" textLength=\"8\" x=\"153\" y=\"71.1074\">q</text><line style=\"stroke: #A80036; stroke-width: 1.5;\" x1=\"122.5\" x2=\"191.5\" y1=\"78.9375\" y2=\"78.9375\"/></a><!--MD5=[05d275557350bfb9b23a4ef7222b4c39]\n",
       "link E3 to E2--><a href=\"psysml:11b4979a-79b0-4e55-825e-341a26faa927\" target=\"_top\" title=\"psysml:11b4979a-79b0-4e55-825e-341a26faa927\" xlink:actuate=\"onRequest\" xlink:href=\"psysml:11b4979a-79b0-4e55-825e-341a26faa927\" xlink:show=\"new\" xlink:title=\"psysml:11b4979a-79b0-4e55-825e-341a26faa927\" xlink:type=\"simple\"><path d=\"M157,87.06 C157,98.64 157,113.23 157,126.87 \" fill=\"none\" id=\"E3-&gt;E2\" style=\"stroke: #A80036; stroke-width: 1.0;\"/><polygon fill=\"none\" points=\"164,126.98,157,146.98,150,126.98,164,126.98\" style=\"stroke: #A80036; stroke-width: 1.0;\"/></a><!--MD5=[d05322bb4d99fd606acd5b22b30548da]\n",
       "@startuml\r\n",
       "skinparam wrapWidth 300\r\n",
       "hide circle\r\n",
       "\r\n",
       "package \"QuantityTest\" as E1  [[psysml:f380021c-1a7c-453e-a474-5589714ddc4a ]]  {\r\n",
       "comp usage \"tensorQuantities: TensorQuantityValue\" as E2  <<(T,blue) attribute>> [[psysml:c5943d6b-e87d-4b1b-8731-2602b62da777 ]] {\r\n",
       "}\r\n",
       "comp usage \"q\" as E3  <<(T,blue) attribute>> [[psysml:88455055-d217-4a9f-96e6-c531cf1f5b6c ]] {\r\n",
       "}\r\n",
       "E3 - -|> E2 [[psysml:11b4979a-79b0-4e55-825e-341a26faa927 ]] \r\n",
       "}\r\n",
       "@enduml\r\n",
       "\n",
       "PlantUML version 1.2020.13(Sat Jun 13 12:26:38 UTC 2020)\n",
       "(EPL source distribution)\n",
       "Java Runtime: OpenJDK Runtime Environment\n",
       "JVM: OpenJDK 64-Bit Server VM\n",
       "Default Encoding: UTF-8\n",
       "Language: en\n",
       "Country: null\n",
       "--></g></svg>"
      ]
     },
     "execution_count": 29,
     "metadata": {},
     "output_type": "execute_result"
    }
   ],
   "source": [
    "%viz --style=\"STDCOLOR\" --view=\"MIXED\" \"QuantityTest\""
   ]
  },
  {
   "cell_type": "code",
   "execution_count": 30,
   "id": "9ef027c6",
   "metadata": {
    "execution": {
     "iopub.execute_input": "2021-06-30T09:22:07.330023Z",
     "iopub.status.busy": "2021-06-30T09:22:07.329535Z",
     "iopub.status.idle": "2021-06-30T09:22:07.377430Z",
     "shell.execute_reply": "2021-06-30T09:22:07.376948Z"
    }
   },
   "outputs": [
    {
     "data": {
      "image/svg+xml": [
       "<?xml version=\"1.0\" encoding=\"UTF-8\" standalone=\"no\"?><svg xmlns=\"http://www.w3.org/2000/svg\" xmlns:xlink=\"http://www.w3.org/1999/xlink\" contentScriptType=\"application/ecmascript\" contentStyleType=\"text/css\" height=\"221px\" preserveAspectRatio=\"none\" style=\"width:346px;height:221px;\" version=\"1.1\" viewBox=\"0 0 346 221\" width=\"346px\" zoomAndPan=\"magnify\"><defs><filter height=\"300%\" id=\"f1pldcn5fuec44\" width=\"300%\" x=\"-1\" y=\"-1\"><feGaussianBlur result=\"blurOut\" stdDeviation=\"2.0\"/><feColorMatrix in=\"blurOut\" result=\"blurOut2\" type=\"matrix\" values=\"0 0 0 0 0 0 0 0 0 0 0 0 0 0 0 0 0 0 .4 0\"/><feOffset dx=\"4.0\" dy=\"4.0\" in=\"blurOut2\" result=\"blurOut3\"/><feBlend in=\"SourceGraphic\" in2=\"blurOut3\" mode=\"normal\"/></filter></defs><g><!--MD5=[fbc87193dbaf4d95561dea2c320d4a47]\n",
       "cluster E1--><a href=\"psysml:f380021c-1a7c-453e-a474-5589714ddc4a\" target=\"_top\" title=\"psysml:f380021c-1a7c-453e-a474-5589714ddc4a\" xlink:actuate=\"onRequest\" xlink:href=\"psysml:f380021c-1a7c-453e-a474-5589714ddc4a\" xlink:show=\"new\" xlink:title=\"psysml:f380021c-1a7c-453e-a474-5589714ddc4a\" xlink:type=\"simple\"><polygon fill=\"#FFFFFF\" filter=\"url(#f1pldcn5fuec44)\" points=\"16,6,123,6,130,28.2969,324,28.2969,324,209,16,209,16,6\" style=\"stroke: #000000; stroke-width: 1.5;\"/><line style=\"stroke: #000000; stroke-width: 1.5;\" x1=\"16\" x2=\"130\" y1=\"28.2969\" y2=\"28.2969\"/><text fill=\"#000000\" font-family=\"sans-serif\" font-size=\"14\" font-weight=\"bold\" lengthAdjust=\"spacingAndGlyphs\" textLength=\"101\" x=\"20\" y=\"20.9951\">QuantityTest</text></a><!--MD5=[b4997ac47864f28c2f74865a473b2911]\n",
       "class E2--><a href=\"psysml:c5943d6b-e87d-4b1b-8731-2602b62da777\" target=\"_top\" title=\"psysml:c5943d6b-e87d-4b1b-8731-2602b62da777\" xlink:actuate=\"onRequest\" xlink:href=\"psysml:c5943d6b-e87d-4b1b-8731-2602b62da777\" xlink:show=\"new\" xlink:title=\"psysml:c5943d6b-e87d-4b1b-8731-2602b62da777\" xlink:type=\"simple\"><rect fill=\"#FEFECE\" filter=\"url(#f1pldcn5fuec44)\" height=\"45.9375\" id=\"E2\" rx=\"10\" ry=\"10\" style=\"stroke: #A80036; stroke-width: 1.5;\" width=\"275\" x=\"32.5\" y=\"147\"/><ellipse cx=\"47.5\" cy=\"165.9688\" fill=\"#FFA500\" rx=\"11\" ry=\"11\" style=\"stroke: #A80036; stroke-width: 1.0;\"/><path d=\"M43.375,167.8906 L43.375,160.0781 L45.8281,160.0781 L45.8281,168.5156 Q45.8281,169.4375 46.2969,169.9688 Q46.7813,170.5 47.6094,170.5 Q48.4531,170.5 48.9219,169.9688 Q49.3906,169.4375 49.3906,168.5156 L49.3906,160.0781 L51.8438,160.0781 L51.8438,167.8906 Q51.8438,170.4219 50.8438,171.5625 Q49.8438,172.7031 47.6094,172.7031 Q45.3906,172.7031 44.375,171.5625 Q43.375,170.4219 43.375,167.8906 Z \"/><text fill=\"#000000\" font-family=\"sans-serif\" font-size=\"12\" font-style=\"italic\" lengthAdjust=\"spacingAndGlyphs\" textLength=\"69\" x=\"148.5\" y=\"163.1387\">«attribute»</text><text fill=\"#000000\" font-family=\"sans-serif\" font-size=\"12\" lengthAdjust=\"spacingAndGlyphs\" textLength=\"243\" x=\"61.5\" y=\"177.1074\">tensorQuantities: TensorQuantityValue</text><line style=\"stroke: #A80036; stroke-width: 1.5;\" x1=\"33.5\" x2=\"306.5\" y1=\"184.9375\" y2=\"184.9375\"/></a><!--MD5=[09b614a08d8cba4a07c9adeb5e0fee81]\n",
       "class E3--><a href=\"psysml:88455055-d217-4a9f-96e6-c531cf1f5b6c\" target=\"_top\" title=\"psysml:88455055-d217-4a9f-96e6-c531cf1f5b6c\" xlink:actuate=\"onRequest\" xlink:href=\"psysml:88455055-d217-4a9f-96e6-c531cf1f5b6c\" xlink:show=\"new\" xlink:title=\"psysml:88455055-d217-4a9f-96e6-c531cf1f5b6c\" xlink:type=\"simple\"><rect fill=\"#FEFECE\" filter=\"url(#f1pldcn5fuec44)\" height=\"45.9375\" id=\"E3\" rx=\"10\" ry=\"10\" style=\"stroke: #A80036; stroke-width: 1.5;\" width=\"97\" x=\"121.5\" y=\"41\"/><ellipse cx=\"136.5\" cy=\"59.9688\" fill=\"#FFA500\" rx=\"11\" ry=\"11\" style=\"stroke: #A80036; stroke-width: 1.0;\"/><path d=\"M132.375,61.8906 L132.375,54.0781 L134.8281,54.0781 L134.8281,62.5156 Q134.8281,63.4375 135.2969,63.9688 Q135.7813,64.5 136.6094,64.5 Q137.4531,64.5 137.9219,63.9688 Q138.3906,63.4375 138.3906,62.5156 L138.3906,54.0781 L140.8438,54.0781 L140.8438,61.8906 Q140.8438,64.4219 139.8438,65.5625 Q138.8438,66.7031 136.6094,66.7031 Q134.3906,66.7031 133.375,65.5625 Q132.375,64.4219 132.375,61.8906 Z \"/><text fill=\"#000000\" font-family=\"sans-serif\" font-size=\"12\" font-style=\"italic\" lengthAdjust=\"spacingAndGlyphs\" textLength=\"69\" x=\"148.5\" y=\"57.1387\">«attribute»</text><text fill=\"#000000\" font-family=\"sans-serif\" font-size=\"12\" lengthAdjust=\"spacingAndGlyphs\" textLength=\"8\" x=\"179\" y=\"71.1074\">q</text><line style=\"stroke: #A80036; stroke-width: 1.5;\" x1=\"122.5\" x2=\"217.5\" y1=\"78.9375\" y2=\"78.9375\"/></a><!--MD5=[05d275557350bfb9b23a4ef7222b4c39]\n",
       "link E3 to E2--><a href=\"psysml:11b4979a-79b0-4e55-825e-341a26faa927\" target=\"_top\" title=\"psysml:11b4979a-79b0-4e55-825e-341a26faa927\" xlink:actuate=\"onRequest\" xlink:href=\"psysml:11b4979a-79b0-4e55-825e-341a26faa927\" xlink:show=\"new\" xlink:title=\"psysml:11b4979a-79b0-4e55-825e-341a26faa927\" xlink:type=\"simple\"><path d=\"M170,87.06 C170,98.64 170,113.23 170,126.87 \" fill=\"none\" id=\"E3-&gt;E2\" style=\"stroke: #A80036; stroke-width: 1.0;\"/><polygon fill=\"none\" points=\"177,126.98,170,146.98,163,126.98,177,126.98\" style=\"stroke: #A80036; stroke-width: 1.0;\"/></a><!--MD5=[5e657320e2c59828aec69e28bfcc08b0]\n",
       "@startuml\r\n",
       " \r\n",
       "package \"QuantityTest\" as E1  [[psysml:f380021c-1a7c-453e-a474-5589714ddc4a ]]  {\r\n",
       "comp usage \"tensorQuantities: TensorQuantityValue\" as E2 << <<(U,orange) attribute>> [[psysml:c5943d6b-e87d-4b1b-8731-2602b62da777 ]] {\r\n",
       "}\r\n",
       "comp usage \"q\" as E3 << <<(U,orange) attribute>> [[psysml:88455055-d217-4a9f-96e6-c531cf1f5b6c ]] {\r\n",
       "}\r\n",
       "E3 - -|> E2 [[psysml:11b4979a-79b0-4e55-825e-341a26faa927 ]] \r\n",
       "}\r\n",
       "@enduml\r\n",
       "\n",
       "PlantUML version 1.2020.13(Sat Jun 13 12:26:38 UTC 2020)\n",
       "(EPL source distribution)\n",
       "Java Runtime: OpenJDK Runtime Environment\n",
       "JVM: OpenJDK 64-Bit Server VM\n",
       "Default Encoding: UTF-8\n",
       "Language: en\n",
       "Country: null\n",
       "--></g></svg>"
      ]
     },
     "execution_count": 30,
     "metadata": {},
     "output_type": "execute_result"
    }
   ],
   "source": [
    "%viz --style=\"PLANTUML\" --view=\"Default\" \"QuantityTest\""
   ]
  },
  {
   "cell_type": "code",
   "execution_count": 31,
   "id": "c188d20b",
   "metadata": {
    "execution": {
     "iopub.execute_input": "2021-06-30T09:22:07.429288Z",
     "iopub.status.busy": "2021-06-30T09:22:07.428333Z",
     "iopub.status.idle": "2021-06-30T09:22:07.457759Z",
     "shell.execute_reply": "2021-06-30T09:22:07.457456Z"
    }
   },
   "outputs": [
    {
     "data": {
      "image/svg+xml": [
       "<?xml version=\"1.0\" encoding=\"UTF-8\" standalone=\"no\"?><svg xmlns=\"http://www.w3.org/2000/svg\" xmlns:xlink=\"http://www.w3.org/1999/xlink\" contentScriptType=\"application/ecmascript\" contentStyleType=\"text/css\" height=\"221px\" preserveAspectRatio=\"none\" style=\"width:346px;height:221px;\" version=\"1.1\" viewBox=\"0 0 346 221\" width=\"346px\" zoomAndPan=\"magnify\"><defs><filter height=\"300%\" id=\"f1pldcn5fuec44\" width=\"300%\" x=\"-1\" y=\"-1\"><feGaussianBlur result=\"blurOut\" stdDeviation=\"2.0\"/><feColorMatrix in=\"blurOut\" result=\"blurOut2\" type=\"matrix\" values=\"0 0 0 0 0 0 0 0 0 0 0 0 0 0 0 0 0 0 .4 0\"/><feOffset dx=\"4.0\" dy=\"4.0\" in=\"blurOut2\" result=\"blurOut3\"/><feBlend in=\"SourceGraphic\" in2=\"blurOut3\" mode=\"normal\"/></filter></defs><g><!--MD5=[fbc87193dbaf4d95561dea2c320d4a47]\n",
       "cluster E1--><a href=\"psysml:f380021c-1a7c-453e-a474-5589714ddc4a\" target=\"_top\" title=\"psysml:f380021c-1a7c-453e-a474-5589714ddc4a\" xlink:actuate=\"onRequest\" xlink:href=\"psysml:f380021c-1a7c-453e-a474-5589714ddc4a\" xlink:show=\"new\" xlink:title=\"psysml:f380021c-1a7c-453e-a474-5589714ddc4a\" xlink:type=\"simple\"><polygon fill=\"#FFFFFF\" filter=\"url(#f1pldcn5fuec44)\" points=\"16,6,123,6,130,28.2969,324,28.2969,324,209,16,209,16,6\" style=\"stroke: #000000; stroke-width: 1.5;\"/><line style=\"stroke: #000000; stroke-width: 1.5;\" x1=\"16\" x2=\"130\" y1=\"28.2969\" y2=\"28.2969\"/><text fill=\"#000000\" font-family=\"sans-serif\" font-size=\"14\" font-weight=\"bold\" lengthAdjust=\"spacingAndGlyphs\" textLength=\"101\" x=\"20\" y=\"20.9951\">QuantityTest</text></a><!--MD5=[b4997ac47864f28c2f74865a473b2911]\n",
       "class E2--><a href=\"psysml:c5943d6b-e87d-4b1b-8731-2602b62da777\" target=\"_top\" title=\"psysml:c5943d6b-e87d-4b1b-8731-2602b62da777\" xlink:actuate=\"onRequest\" xlink:href=\"psysml:c5943d6b-e87d-4b1b-8731-2602b62da777\" xlink:show=\"new\" xlink:title=\"psysml:c5943d6b-e87d-4b1b-8731-2602b62da777\" xlink:type=\"simple\"><rect fill=\"#FEFECE\" filter=\"url(#f1pldcn5fuec44)\" height=\"45.9375\" id=\"E2\" rx=\"10\" ry=\"10\" style=\"stroke: #A80036; stroke-width: 1.5;\" width=\"275\" x=\"32.5\" y=\"147\"/><ellipse cx=\"47.5\" cy=\"165.9688\" fill=\"#FFA500\" rx=\"11\" ry=\"11\" style=\"stroke: #A80036; stroke-width: 1.0;\"/><path d=\"M43.375,167.8906 L43.375,160.0781 L45.8281,160.0781 L45.8281,168.5156 Q45.8281,169.4375 46.2969,169.9688 Q46.7813,170.5 47.6094,170.5 Q48.4531,170.5 48.9219,169.9688 Q49.3906,169.4375 49.3906,168.5156 L49.3906,160.0781 L51.8438,160.0781 L51.8438,167.8906 Q51.8438,170.4219 50.8438,171.5625 Q49.8438,172.7031 47.6094,172.7031 Q45.3906,172.7031 44.375,171.5625 Q43.375,170.4219 43.375,167.8906 Z \"/><text fill=\"#000000\" font-family=\"sans-serif\" font-size=\"12\" font-style=\"italic\" lengthAdjust=\"spacingAndGlyphs\" textLength=\"69\" x=\"148.5\" y=\"163.1387\">«attribute»</text><text fill=\"#000000\" font-family=\"sans-serif\" font-size=\"12\" lengthAdjust=\"spacingAndGlyphs\" textLength=\"243\" x=\"61.5\" y=\"177.1074\">tensorQuantities: TensorQuantityValue</text><line style=\"stroke: #A80036; stroke-width: 1.5;\" x1=\"33.5\" x2=\"306.5\" y1=\"184.9375\" y2=\"184.9375\"/></a><!--MD5=[09b614a08d8cba4a07c9adeb5e0fee81]\n",
       "class E3--><a href=\"psysml:88455055-d217-4a9f-96e6-c531cf1f5b6c\" target=\"_top\" title=\"psysml:88455055-d217-4a9f-96e6-c531cf1f5b6c\" xlink:actuate=\"onRequest\" xlink:href=\"psysml:88455055-d217-4a9f-96e6-c531cf1f5b6c\" xlink:show=\"new\" xlink:title=\"psysml:88455055-d217-4a9f-96e6-c531cf1f5b6c\" xlink:type=\"simple\"><rect fill=\"#FEFECE\" filter=\"url(#f1pldcn5fuec44)\" height=\"45.9375\" id=\"E3\" rx=\"10\" ry=\"10\" style=\"stroke: #A80036; stroke-width: 1.5;\" width=\"97\" x=\"121.5\" y=\"41\"/><ellipse cx=\"136.5\" cy=\"59.9688\" fill=\"#FFA500\" rx=\"11\" ry=\"11\" style=\"stroke: #A80036; stroke-width: 1.0;\"/><path d=\"M132.375,61.8906 L132.375,54.0781 L134.8281,54.0781 L134.8281,62.5156 Q134.8281,63.4375 135.2969,63.9688 Q135.7813,64.5 136.6094,64.5 Q137.4531,64.5 137.9219,63.9688 Q138.3906,63.4375 138.3906,62.5156 L138.3906,54.0781 L140.8438,54.0781 L140.8438,61.8906 Q140.8438,64.4219 139.8438,65.5625 Q138.8438,66.7031 136.6094,66.7031 Q134.3906,66.7031 133.375,65.5625 Q132.375,64.4219 132.375,61.8906 Z \"/><text fill=\"#000000\" font-family=\"sans-serif\" font-size=\"12\" font-style=\"italic\" lengthAdjust=\"spacingAndGlyphs\" textLength=\"69\" x=\"148.5\" y=\"57.1387\">«attribute»</text><text fill=\"#000000\" font-family=\"sans-serif\" font-size=\"12\" lengthAdjust=\"spacingAndGlyphs\" textLength=\"8\" x=\"179\" y=\"71.1074\">q</text><line style=\"stroke: #A80036; stroke-width: 1.5;\" x1=\"122.5\" x2=\"217.5\" y1=\"78.9375\" y2=\"78.9375\"/></a><!--MD5=[05d275557350bfb9b23a4ef7222b4c39]\n",
       "link E3 to E2--><a href=\"psysml:11b4979a-79b0-4e55-825e-341a26faa927\" target=\"_top\" title=\"psysml:11b4979a-79b0-4e55-825e-341a26faa927\" xlink:actuate=\"onRequest\" xlink:href=\"psysml:11b4979a-79b0-4e55-825e-341a26faa927\" xlink:show=\"new\" xlink:title=\"psysml:11b4979a-79b0-4e55-825e-341a26faa927\" xlink:type=\"simple\"><path d=\"M170,87.06 C170,98.64 170,113.23 170,126.87 \" fill=\"none\" id=\"E3-&gt;E2\" style=\"stroke: #A80036; stroke-width: 1.0;\"/><polygon fill=\"none\" points=\"177,126.98,170,146.98,163,126.98,177,126.98\" style=\"stroke: #A80036; stroke-width: 1.0;\"/></a><!--MD5=[5e657320e2c59828aec69e28bfcc08b0]\n",
       "@startuml\r\n",
       " \r\n",
       "package \"QuantityTest\" as E1  [[psysml:f380021c-1a7c-453e-a474-5589714ddc4a ]]  {\r\n",
       "comp usage \"tensorQuantities: TensorQuantityValue\" as E2 << <<(U,orange) attribute>> [[psysml:c5943d6b-e87d-4b1b-8731-2602b62da777 ]] {\r\n",
       "}\r\n",
       "comp usage \"q\" as E3 << <<(U,orange) attribute>> [[psysml:88455055-d217-4a9f-96e6-c531cf1f5b6c ]] {\r\n",
       "}\r\n",
       "E3 - -|> E2 [[psysml:11b4979a-79b0-4e55-825e-341a26faa927 ]] \r\n",
       "}\r\n",
       "@enduml\r\n",
       "\n",
       "PlantUML version 1.2020.13(Sat Jun 13 12:26:38 UTC 2020)\n",
       "(EPL source distribution)\n",
       "Java Runtime: OpenJDK Runtime Environment\n",
       "JVM: OpenJDK 64-Bit Server VM\n",
       "Default Encoding: UTF-8\n",
       "Language: en\n",
       "Country: null\n",
       "--></g></svg>"
      ]
     },
     "execution_count": 31,
     "metadata": {},
     "output_type": "execute_result"
    }
   ],
   "source": [
    "%viz --style=\"PLANTUML\" --view=\"Tree\" \"QuantityTest\""
   ]
  },
  {
   "cell_type": "code",
   "execution_count": 32,
   "id": "33ede748",
   "metadata": {
    "execution": {
     "iopub.execute_input": "2021-06-30T09:22:07.509821Z",
     "iopub.status.busy": "2021-06-30T09:22:07.508878Z",
     "iopub.status.idle": "2021-06-30T09:22:07.627828Z",
     "shell.execute_reply": "2021-06-30T09:22:07.627489Z"
    }
   },
   "outputs": [
    {
     "data": {
      "image/svg+xml": [
       "<?xml version=\"1.0\" encoding=\"UTF-8\" standalone=\"no\"?><svg xmlns=\"http://www.w3.org/2000/svg\" xmlns:xlink=\"http://www.w3.org/1999/xlink\" contentScriptType=\"application/ecmascript\" contentStyleType=\"text/css\" height=\"303px\" preserveAspectRatio=\"none\" style=\"width:603px;height:303px;background:#000000;\" version=\"1.1\" viewBox=\"0 0 603 303\" width=\"603px\" zoomAndPan=\"magnify\"><defs/><g><rect fill=\"#081B05\" height=\"1\" style=\"stroke: #081B05; stroke-width: 1.0;\" width=\"1\" x=\"0\" y=\"0\"/><rect fill=\"#FFFFFF\" height=\"205.5625\" style=\"stroke: #FFFFFF; stroke-width: 1.0;\" width=\"602\" x=\"0\" y=\"0\"/><text fill=\"#000000\" font-family=\"sans-serif\" font-size=\"12\" font-weight=\"bold\" lengthAdjust=\"spacingAndGlyphs\" textLength=\"159\" x=\"5\" y=\"16.1387\">Welcome to PlantUML!</text><text fill=\"#000000\" font-family=\"sans-serif\" font-size=\"12\" lengthAdjust=\"spacingAndGlyphs\" textLength=\"0\" x=\"9\" y=\"30.1074\"/><text fill=\"#000000\" font-family=\"sans-serif\" font-size=\"12\" lengthAdjust=\"spacingAndGlyphs\" textLength=\"293\" x=\"5\" y=\"44.0762\">If you use this software, you accept its license.</text><text fill=\"#000000\" font-family=\"sans-serif\" font-size=\"12\" lengthAdjust=\"spacingAndGlyphs\" textLength=\"107\" x=\"5\" y=\"58.0449\">(details by typing</text><text fill=\"#000000\" font-family=\"monospace\" font-size=\"12\" lengthAdjust=\"spacingAndGlyphs\" textLength=\"49\" x=\"116\" y=\"58.0449\">license</text><text fill=\"#000000\" font-family=\"sans-serif\" font-size=\"12\" lengthAdjust=\"spacingAndGlyphs\" textLength=\"56\" x=\"169\" y=\"58.0449\">keyword)</text><text fill=\"#000000\" font-family=\"sans-serif\" font-size=\"12\" lengthAdjust=\"spacingAndGlyphs\" textLength=\"0\" x=\"9\" y=\"72.0137\"/><text fill=\"#000000\" font-family=\"sans-serif\" font-size=\"12\" lengthAdjust=\"spacingAndGlyphs\" textLength=\"283\" x=\"5\" y=\"85.9824\">You can start with a simple UML Diagram like:</text><text fill=\"#000000\" font-family=\"sans-serif\" font-size=\"12\" lengthAdjust=\"spacingAndGlyphs\" textLength=\"0\" x=\"9\" y=\"99.9512\"/><text fill=\"#000000\" font-family=\"monospace\" font-size=\"12\" lengthAdjust=\"spacingAndGlyphs\" textLength=\"119\" x=\"5\" y=\"113.9199\">Bob-&gt;Alice: Hello</text><text fill=\"#000000\" font-family=\"sans-serif\" font-size=\"12\" lengthAdjust=\"spacingAndGlyphs\" textLength=\"0\" x=\"9\" y=\"127.8887\"/><text fill=\"#000000\" font-family=\"sans-serif\" font-size=\"12\" lengthAdjust=\"spacingAndGlyphs\" textLength=\"14\" x=\"5\" y=\"141.8574\">Or</text><text fill=\"#000000\" font-family=\"sans-serif\" font-size=\"12\" lengthAdjust=\"spacingAndGlyphs\" textLength=\"0\" x=\"9\" y=\"155.8262\"/><text fill=\"#000000\" font-family=\"monospace\" font-size=\"12\" lengthAdjust=\"spacingAndGlyphs\" textLength=\"91\" x=\"5\" y=\"169.7949\">class Example</text><text fill=\"#000000\" font-family=\"sans-serif\" font-size=\"12\" lengthAdjust=\"spacingAndGlyphs\" textLength=\"0\" x=\"9\" y=\"183.7637\"/><text fill=\"#000000\" font-family=\"sans-serif\" font-size=\"12\" lengthAdjust=\"spacingAndGlyphs\" textLength=\"349\" x=\"5\" y=\"197.7324\">You will find more information about PlantUML syntax on</text><text fill=\"#000000\" font-family=\"sans-serif\" font-size=\"12\" lengthAdjust=\"spacingAndGlyphs\" text-decoration=\"underline\" textLength=\"129\" x=\"358\" y=\"197.7324\">https://plantuml.com</text><image height=\"71\" width=\"80\" x=\"516\" xlink:href=\"data:image/png;base64,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\" y=\"6\"/><rect fill=\"#000000\" height=\"96.4844\" style=\"stroke: #000000; stroke-width: 1.0;\" width=\"602\" x=\"0\" y=\"205.5625\"/><rect fill=\"#33FF02\" height=\"21.2969\" style=\"stroke: #33FF02; stroke-width: 1.0;\" width=\"170\" x=\"5\" y=\"210.5625\"/><text fill=\"#000000\" font-family=\"sans-serif\" font-size=\"14\" font-weight=\"bold\" lengthAdjust=\"spacingAndGlyphs\" textLength=\"168\" x=\"6\" y=\"225.5625\">[From string (line 2) ]</text><text fill=\"#33FF02\" font-family=\"sans-serif\" font-size=\"14\" font-weight=\"bold\" lengthAdjust=\"spacingAndGlyphs\" textLength=\"0\" x=\"10\" y=\"245.8594\"/><text fill=\"#33FF02\" font-family=\"sans-serif\" font-size=\"14\" font-weight=\"bold\" lengthAdjust=\"spacingAndGlyphs\" textLength=\"79\" x=\"5\" y=\"262.1563\">@startuml</text><text fill=\"#33FF02\" font-family=\"sans-serif\" font-size=\"14\" font-weight=\"bold\" lengthAdjust=\"spacingAndGlyphs\" textLength=\"0\" x=\"10\" y=\"278.4531\"/><text fill=\"#FF0000\" font-family=\"sans-serif\" font-size=\"14\" font-weight=\"bold\" lengthAdjust=\"spacingAndGlyphs\" textLength=\"142\" x=\"10\" y=\"294.75\">Empty description</text><!--MD5=[f59edd8218d337f74d0c332fc6737304]\n",
       "@startuml\r\n",
       " \r\n",
       "@enduml\r\n",
       "\n",
       "PlantUML version 1.2020.13(Sat Jun 13 12:26:38 UTC 2020)\n",
       "(EPL source distribution)\n",
       "Java Runtime: OpenJDK Runtime Environment\n",
       "JVM: OpenJDK 64-Bit Server VM\n",
       "Default Encoding: UTF-8\n",
       "Language: en\n",
       "Country: null\n",
       "--></g></svg>"
      ]
     },
     "execution_count": 32,
     "metadata": {},
     "output_type": "execute_result"
    }
   ],
   "source": [
    "%viz --style=\"PLANTUML\" --view=\"State\" \"QuantityTest\""
   ]
  },
  {
   "cell_type": "code",
   "execution_count": 33,
   "id": "c67bd41b",
   "metadata": {
    "execution": {
     "iopub.execute_input": "2021-06-30T09:22:07.678358Z",
     "iopub.status.busy": "2021-06-30T09:22:07.677761Z",
     "iopub.status.idle": "2021-06-30T09:22:07.708991Z",
     "shell.execute_reply": "2021-06-30T09:22:07.707995Z"
    }
   },
   "outputs": [
    {
     "data": {
      "image/svg+xml": [
       "<?xml version=\"1.0\" encoding=\"UTF-8\" standalone=\"no\"?><svg xmlns=\"http://www.w3.org/2000/svg\" xmlns:xlink=\"http://www.w3.org/1999/xlink\" contentScriptType=\"application/ecmascript\" contentStyleType=\"text/css\" height=\"171px\" preserveAspectRatio=\"none\" style=\"width:346px;height:171px;\" version=\"1.1\" viewBox=\"0 0 346 171\" width=\"346px\" zoomAndPan=\"magnify\"><defs><filter height=\"300%\" id=\"fx8h1rmxsg8rb\" width=\"300%\" x=\"-1\" y=\"-1\"><feGaussianBlur result=\"blurOut\" stdDeviation=\"2.0\"/><feColorMatrix in=\"blurOut\" result=\"blurOut2\" type=\"matrix\" values=\"0 0 0 0 0 0 0 0 0 0 0 0 0 0 0 0 0 0 .4 0\"/><feOffset dx=\"4.0\" dy=\"4.0\" in=\"blurOut2\" result=\"blurOut3\"/><feBlend in=\"SourceGraphic\" in2=\"blurOut3\" mode=\"normal\"/></filter></defs><g><!--MD5=[fbc87193dbaf4d95561dea2c320d4a47]\n",
       "cluster E1--><a href=\"psysml:f380021c-1a7c-453e-a474-5589714ddc4a\" target=\"_top\" title=\"psysml:f380021c-1a7c-453e-a474-5589714ddc4a\" xlink:actuate=\"onRequest\" xlink:href=\"psysml:f380021c-1a7c-453e-a474-5589714ddc4a\" xlink:show=\"new\" xlink:title=\"psysml:f380021c-1a7c-453e-a474-5589714ddc4a\" xlink:type=\"simple\"><polygon fill=\"#FFFFFF\" filter=\"url(#fx8h1rmxsg8rb)\" points=\"16,6,123,6,130,28.2969,324,28.2969,324,159,16,159,16,6\" style=\"stroke: #000000; stroke-width: 1.5;\"/><line style=\"stroke: #000000; stroke-width: 1.5;\" x1=\"16\" x2=\"130\" y1=\"28.2969\" y2=\"28.2969\"/><text fill=\"#000000\" font-family=\"sans-serif\" font-size=\"14\" font-weight=\"bold\" lengthAdjust=\"spacingAndGlyphs\" textLength=\"101\" x=\"20\" y=\"20.9951\">QuantityTest</text></a><!--MD5=[b4997ac47864f28c2f74865a473b2911]\n",
       "class E2--><a href=\"psysml:c5943d6b-e87d-4b1b-8731-2602b62da777\" target=\"_top\" title=\"psysml:c5943d6b-e87d-4b1b-8731-2602b62da777\" xlink:actuate=\"onRequest\" xlink:href=\"psysml:c5943d6b-e87d-4b1b-8731-2602b62da777\" xlink:show=\"new\" xlink:title=\"psysml:c5943d6b-e87d-4b1b-8731-2602b62da777\" xlink:type=\"simple\"><rect fill=\"#FEFECE\" filter=\"url(#fx8h1rmxsg8rb)\" height=\"45.9375\" id=\"E2\" rx=\"10\" ry=\"10\" style=\"stroke: #A80036; stroke-width: 1.5;\" width=\"275\" x=\"32.5\" y=\"97\"/><ellipse cx=\"47.5\" cy=\"115.9688\" fill=\"#FFA500\" rx=\"11\" ry=\"11\" style=\"stroke: #A80036; stroke-width: 1.0;\"/><path d=\"M43.375,117.8906 L43.375,110.0781 L45.8281,110.0781 L45.8281,118.5156 Q45.8281,119.4375 46.2969,119.9688 Q46.7813,120.5 47.6094,120.5 Q48.4531,120.5 48.9219,119.9688 Q49.3906,119.4375 49.3906,118.5156 L49.3906,110.0781 L51.8438,110.0781 L51.8438,117.8906 Q51.8438,120.4219 50.8438,121.5625 Q49.8438,122.7031 47.6094,122.7031 Q45.3906,122.7031 44.375,121.5625 Q43.375,120.4219 43.375,117.8906 Z \"/><text fill=\"#000000\" font-family=\"sans-serif\" font-size=\"12\" font-style=\"italic\" lengthAdjust=\"spacingAndGlyphs\" textLength=\"69\" x=\"148.5\" y=\"113.1387\">«attribute»</text><text fill=\"#000000\" font-family=\"sans-serif\" font-size=\"12\" lengthAdjust=\"spacingAndGlyphs\" textLength=\"243\" x=\"61.5\" y=\"127.1074\">tensorQuantities: TensorQuantityValue</text><line style=\"stroke: #A80036; stroke-width: 1.5;\" x1=\"33.5\" x2=\"306.5\" y1=\"134.9375\" y2=\"134.9375\"/></a><!--MD5=[09b614a08d8cba4a07c9adeb5e0fee81]\n",
       "class E3--><a href=\"psysml:88455055-d217-4a9f-96e6-c531cf1f5b6c\" target=\"_top\" title=\"psysml:88455055-d217-4a9f-96e6-c531cf1f5b6c\" xlink:actuate=\"onRequest\" xlink:href=\"psysml:88455055-d217-4a9f-96e6-c531cf1f5b6c\" xlink:show=\"new\" xlink:title=\"psysml:88455055-d217-4a9f-96e6-c531cf1f5b6c\" xlink:type=\"simple\"><rect fill=\"#FEFECE\" filter=\"url(#fx8h1rmxsg8rb)\" height=\"45.9375\" id=\"E3\" rx=\"10\" ry=\"10\" style=\"stroke: #A80036; stroke-width: 1.5;\" width=\"97\" x=\"121.5\" y=\"41\"/><ellipse cx=\"136.5\" cy=\"59.9688\" fill=\"#FFA500\" rx=\"11\" ry=\"11\" style=\"stroke: #A80036; stroke-width: 1.0;\"/><path d=\"M132.375,61.8906 L132.375,54.0781 L134.8281,54.0781 L134.8281,62.5156 Q134.8281,63.4375 135.2969,63.9688 Q135.7813,64.5 136.6094,64.5 Q137.4531,64.5 137.9219,63.9688 Q138.3906,63.4375 138.3906,62.5156 L138.3906,54.0781 L140.8438,54.0781 L140.8438,61.8906 Q140.8438,64.4219 139.8438,65.5625 Q138.8438,66.7031 136.6094,66.7031 Q134.3906,66.7031 133.375,65.5625 Q132.375,64.4219 132.375,61.8906 Z \"/><text fill=\"#000000\" font-family=\"sans-serif\" font-size=\"12\" font-style=\"italic\" lengthAdjust=\"spacingAndGlyphs\" textLength=\"69\" x=\"148.5\" y=\"57.1387\">«attribute»</text><text fill=\"#000000\" font-family=\"sans-serif\" font-size=\"12\" lengthAdjust=\"spacingAndGlyphs\" textLength=\"8\" x=\"179\" y=\"71.1074\">q</text><line style=\"stroke: #A80036; stroke-width: 1.5;\" x1=\"122.5\" x2=\"217.5\" y1=\"78.9375\" y2=\"78.9375\"/></a><!--MD5=[05d275557350bfb9b23a4ef7222b4c39]\n",
       "link E3 to E2--><a href=\"psysml:11b4979a-79b0-4e55-825e-341a26faa927\" target=\"_top\" title=\"psysml:11b4979a-79b0-4e55-825e-341a26faa927\" xlink:actuate=\"onRequest\" xlink:href=\"psysml:11b4979a-79b0-4e55-825e-341a26faa927\" xlink:show=\"new\" xlink:title=\"psysml:11b4979a-79b0-4e55-825e-341a26faa927\" xlink:type=\"simple\"><path d=\"M170,87.28 C170,87.37 170,87.47 170,87.57 \" fill=\"none\" id=\"E3-&gt;E2\" style=\"stroke: #A80036; stroke-width: 1.0;\"/><polygon fill=\"none\" points=\"177,76.78,170,96.78,163,76.78,177,76.78\" style=\"stroke: #A80036; stroke-width: 1.0;\"/></a><!--MD5=[a73931dd6367332435c88509dbe17057]\n",
       "@startuml\r\n",
       "skinparam ranksep 10\r\n",
       "skinparam rectangle {\r\n",
       " backgroundColor<<block>> LightGreen\r\n",
       "}\r\n",
       " \r\n",
       "package \"QuantityTest\" as E1  [[psysml:f380021c-1a7c-453e-a474-5589714ddc4a ]]  {\r\n",
       "comp usage \"tensorQuantities: TensorQuantityValue\" as E2 << <<(U,orange) attribute>> [[psysml:c5943d6b-e87d-4b1b-8731-2602b62da777 ]] {\r\n",
       "}\r\n",
       "comp usage \"q\" as E3 << <<(U,orange) attribute>> [[psysml:88455055-d217-4a9f-96e6-c531cf1f5b6c ]] {\r\n",
       "}\r\n",
       "E3 - -|> E2 [[psysml:11b4979a-79b0-4e55-825e-341a26faa927 ]] \r\n",
       "}\r\n",
       "@enduml\r\n",
       "\n",
       "PlantUML version 1.2020.13(Sat Jun 13 12:26:38 UTC 2020)\n",
       "(EPL source distribution)\n",
       "Java Runtime: OpenJDK Runtime Environment\n",
       "JVM: OpenJDK 64-Bit Server VM\n",
       "Default Encoding: UTF-8\n",
       "Language: en\n",
       "Country: null\n",
       "--></g></svg>"
      ]
     },
     "execution_count": 33,
     "metadata": {},
     "output_type": "execute_result"
    }
   ],
   "source": [
    "%viz --style=\"PLANTUML\" --view=\"Interconnection\" \"QuantityTest\""
   ]
  },
  {
   "cell_type": "code",
   "execution_count": 34,
   "id": "2869157d",
   "metadata": {
    "execution": {
     "iopub.execute_input": "2021-06-30T09:22:07.760646Z",
     "iopub.status.busy": "2021-06-30T09:22:07.760180Z",
     "iopub.status.idle": "2021-06-30T09:22:07.765135Z",
     "shell.execute_reply": "2021-06-30T09:22:07.764784Z"
    }
   },
   "outputs": [
    {
     "data": {
      "image/svg+xml": [
       "<?xml version=\"1.0\" encoding=\"UTF-8\" standalone=\"no\"?><svg xmlns=\"http://www.w3.org/2000/svg\" xmlns:xlink=\"http://www.w3.org/1999/xlink\" contentScriptType=\"application/ecmascript\" contentStyleType=\"text/css\" height=\"12px\" preserveAspectRatio=\"none\" style=\"width:12px;height:12px;\" version=\"1.1\" viewBox=\"0 0 12 12\" width=\"12px\" zoomAndPan=\"magnify\"><defs/><g><!--MD5=[6a4cb978cab31700e1ce5529f947a75d]\n",
       "@startuml\r\n",
       "skinparam ranksep 8\r\n",
       " \r\n",
       "@enduml\r\n",
       "\n",
       "PlantUML version 1.2020.13(Sat Jun 13 12:26:38 UTC 2020)\n",
       "(EPL source distribution)\n",
       "Java Runtime: OpenJDK Runtime Environment\n",
       "JVM: OpenJDK 64-Bit Server VM\n",
       "Default Encoding: UTF-8\n",
       "Language: en\n",
       "Country: null\n",
       "--></g></svg>"
      ]
     },
     "execution_count": 34,
     "metadata": {},
     "output_type": "execute_result"
    }
   ],
   "source": [
    "%viz --style=\"PLANTUML\" --view=\"Action\" \"QuantityTest\""
   ]
  },
  {
   "cell_type": "code",
   "execution_count": 35,
   "id": "57d33147",
   "metadata": {
    "execution": {
     "iopub.execute_input": "2021-06-30T09:22:07.817097Z",
     "iopub.status.busy": "2021-06-30T09:22:07.816570Z",
     "iopub.status.idle": "2021-06-30T09:22:07.848314Z",
     "shell.execute_reply": "2021-06-30T09:22:07.847989Z"
    }
   },
   "outputs": [
    {
     "data": {
      "image/svg+xml": [
       "<?xml version=\"1.0\" encoding=\"UTF-8\" standalone=\"no\"?><svg xmlns=\"http://www.w3.org/2000/svg\" xmlns:xlink=\"http://www.w3.org/1999/xlink\" contentScriptType=\"application/ecmascript\" contentStyleType=\"text/css\" height=\"221px\" preserveAspectRatio=\"none\" style=\"width:346px;height:221px;\" version=\"1.1\" viewBox=\"0 0 346 221\" width=\"346px\" zoomAndPan=\"magnify\"><defs><filter height=\"300%\" id=\"f1pldcn5fuec44\" width=\"300%\" x=\"-1\" y=\"-1\"><feGaussianBlur result=\"blurOut\" stdDeviation=\"2.0\"/><feColorMatrix in=\"blurOut\" result=\"blurOut2\" type=\"matrix\" values=\"0 0 0 0 0 0 0 0 0 0 0 0 0 0 0 0 0 0 .4 0\"/><feOffset dx=\"4.0\" dy=\"4.0\" in=\"blurOut2\" result=\"blurOut3\"/><feBlend in=\"SourceGraphic\" in2=\"blurOut3\" mode=\"normal\"/></filter></defs><g><!--MD5=[fbc87193dbaf4d95561dea2c320d4a47]\n",
       "cluster E1--><a href=\"psysml:f380021c-1a7c-453e-a474-5589714ddc4a\" target=\"_top\" title=\"psysml:f380021c-1a7c-453e-a474-5589714ddc4a\" xlink:actuate=\"onRequest\" xlink:href=\"psysml:f380021c-1a7c-453e-a474-5589714ddc4a\" xlink:show=\"new\" xlink:title=\"psysml:f380021c-1a7c-453e-a474-5589714ddc4a\" xlink:type=\"simple\"><polygon fill=\"#FFFFFF\" filter=\"url(#f1pldcn5fuec44)\" points=\"16,6,123,6,130,28.2969,324,28.2969,324,209,16,209,16,6\" style=\"stroke: #000000; stroke-width: 1.5;\"/><line style=\"stroke: #000000; stroke-width: 1.5;\" x1=\"16\" x2=\"130\" y1=\"28.2969\" y2=\"28.2969\"/><text fill=\"#000000\" font-family=\"sans-serif\" font-size=\"14\" font-weight=\"bold\" lengthAdjust=\"spacingAndGlyphs\" textLength=\"101\" x=\"20\" y=\"20.9951\">QuantityTest</text></a><!--MD5=[b4997ac47864f28c2f74865a473b2911]\n",
       "class E2--><a href=\"psysml:c5943d6b-e87d-4b1b-8731-2602b62da777\" target=\"_top\" title=\"psysml:c5943d6b-e87d-4b1b-8731-2602b62da777\" xlink:actuate=\"onRequest\" xlink:href=\"psysml:c5943d6b-e87d-4b1b-8731-2602b62da777\" xlink:show=\"new\" xlink:title=\"psysml:c5943d6b-e87d-4b1b-8731-2602b62da777\" xlink:type=\"simple\"><rect fill=\"#FEFECE\" filter=\"url(#f1pldcn5fuec44)\" height=\"45.9375\" id=\"E2\" rx=\"10\" ry=\"10\" style=\"stroke: #A80036; stroke-width: 1.5;\" width=\"275\" x=\"32.5\" y=\"147\"/><ellipse cx=\"47.5\" cy=\"165.9688\" fill=\"#FFA500\" rx=\"11\" ry=\"11\" style=\"stroke: #A80036; stroke-width: 1.0;\"/><path d=\"M43.375,167.8906 L43.375,160.0781 L45.8281,160.0781 L45.8281,168.5156 Q45.8281,169.4375 46.2969,169.9688 Q46.7813,170.5 47.6094,170.5 Q48.4531,170.5 48.9219,169.9688 Q49.3906,169.4375 49.3906,168.5156 L49.3906,160.0781 L51.8438,160.0781 L51.8438,167.8906 Q51.8438,170.4219 50.8438,171.5625 Q49.8438,172.7031 47.6094,172.7031 Q45.3906,172.7031 44.375,171.5625 Q43.375,170.4219 43.375,167.8906 Z \"/><text fill=\"#000000\" font-family=\"sans-serif\" font-size=\"12\" font-style=\"italic\" lengthAdjust=\"spacingAndGlyphs\" textLength=\"69\" x=\"148.5\" y=\"163.1387\">«attribute»</text><text fill=\"#000000\" font-family=\"sans-serif\" font-size=\"12\" lengthAdjust=\"spacingAndGlyphs\" textLength=\"243\" x=\"61.5\" y=\"177.1074\">tensorQuantities: TensorQuantityValue</text><line style=\"stroke: #A80036; stroke-width: 1.5;\" x1=\"33.5\" x2=\"306.5\" y1=\"184.9375\" y2=\"184.9375\"/></a><!--MD5=[09b614a08d8cba4a07c9adeb5e0fee81]\n",
       "class E3--><a href=\"psysml:88455055-d217-4a9f-96e6-c531cf1f5b6c\" target=\"_top\" title=\"psysml:88455055-d217-4a9f-96e6-c531cf1f5b6c\" xlink:actuate=\"onRequest\" xlink:href=\"psysml:88455055-d217-4a9f-96e6-c531cf1f5b6c\" xlink:show=\"new\" xlink:title=\"psysml:88455055-d217-4a9f-96e6-c531cf1f5b6c\" xlink:type=\"simple\"><rect fill=\"#FEFECE\" filter=\"url(#f1pldcn5fuec44)\" height=\"45.9375\" id=\"E3\" rx=\"10\" ry=\"10\" style=\"stroke: #A80036; stroke-width: 1.5;\" width=\"97\" x=\"121.5\" y=\"41\"/><ellipse cx=\"136.5\" cy=\"59.9688\" fill=\"#FFA500\" rx=\"11\" ry=\"11\" style=\"stroke: #A80036; stroke-width: 1.0;\"/><path d=\"M132.375,61.8906 L132.375,54.0781 L134.8281,54.0781 L134.8281,62.5156 Q134.8281,63.4375 135.2969,63.9688 Q135.7813,64.5 136.6094,64.5 Q137.4531,64.5 137.9219,63.9688 Q138.3906,63.4375 138.3906,62.5156 L138.3906,54.0781 L140.8438,54.0781 L140.8438,61.8906 Q140.8438,64.4219 139.8438,65.5625 Q138.8438,66.7031 136.6094,66.7031 Q134.3906,66.7031 133.375,65.5625 Q132.375,64.4219 132.375,61.8906 Z \"/><text fill=\"#000000\" font-family=\"sans-serif\" font-size=\"12\" font-style=\"italic\" lengthAdjust=\"spacingAndGlyphs\" textLength=\"69\" x=\"148.5\" y=\"57.1387\">«attribute»</text><text fill=\"#000000\" font-family=\"sans-serif\" font-size=\"12\" lengthAdjust=\"spacingAndGlyphs\" textLength=\"8\" x=\"179\" y=\"71.1074\">q</text><line style=\"stroke: #A80036; stroke-width: 1.5;\" x1=\"122.5\" x2=\"217.5\" y1=\"78.9375\" y2=\"78.9375\"/></a><!--MD5=[05d275557350bfb9b23a4ef7222b4c39]\n",
       "link E3 to E2--><a href=\"psysml:11b4979a-79b0-4e55-825e-341a26faa927\" target=\"_top\" title=\"psysml:11b4979a-79b0-4e55-825e-341a26faa927\" xlink:actuate=\"onRequest\" xlink:href=\"psysml:11b4979a-79b0-4e55-825e-341a26faa927\" xlink:show=\"new\" xlink:title=\"psysml:11b4979a-79b0-4e55-825e-341a26faa927\" xlink:type=\"simple\"><path d=\"M170,87.06 C170,98.64 170,113.23 170,126.87 \" fill=\"none\" id=\"E3-&gt;E2\" style=\"stroke: #A80036; stroke-width: 1.0;\"/><polygon fill=\"none\" points=\"177,126.98,170,146.98,163,126.98,177,126.98\" style=\"stroke: #A80036; stroke-width: 1.0;\"/></a><!--MD5=[5e657320e2c59828aec69e28bfcc08b0]\n",
       "@startuml\r\n",
       " \r\n",
       "package \"QuantityTest\" as E1  [[psysml:f380021c-1a7c-453e-a474-5589714ddc4a ]]  {\r\n",
       "comp usage \"tensorQuantities: TensorQuantityValue\" as E2 << <<(U,orange) attribute>> [[psysml:c5943d6b-e87d-4b1b-8731-2602b62da777 ]] {\r\n",
       "}\r\n",
       "comp usage \"q\" as E3 << <<(U,orange) attribute>> [[psysml:88455055-d217-4a9f-96e6-c531cf1f5b6c ]] {\r\n",
       "}\r\n",
       "E3 - -|> E2 [[psysml:11b4979a-79b0-4e55-825e-341a26faa927 ]] \r\n",
       "}\r\n",
       "@enduml\r\n",
       "\n",
       "PlantUML version 1.2020.13(Sat Jun 13 12:26:38 UTC 2020)\n",
       "(EPL source distribution)\n",
       "Java Runtime: OpenJDK Runtime Environment\n",
       "JVM: OpenJDK 64-Bit Server VM\n",
       "Default Encoding: UTF-8\n",
       "Language: en\n",
       "Country: null\n",
       "--></g></svg>"
      ]
     },
     "execution_count": 35,
     "metadata": {},
     "output_type": "execute_result"
    }
   ],
   "source": [
    "%viz --style=\"PLANTUML\" --view=\"Sequence\" \"QuantityTest\""
   ]
  },
  {
   "cell_type": "code",
   "execution_count": 36,
   "id": "59144416",
   "metadata": {
    "execution": {
     "iopub.execute_input": "2021-06-30T09:22:07.897072Z",
     "iopub.status.busy": "2021-06-30T09:22:07.896626Z",
     "iopub.status.idle": "2021-06-30T09:22:07.922523Z",
     "shell.execute_reply": "2021-06-30T09:22:07.922235Z"
    }
   },
   "outputs": [
    {
     "data": {
      "image/svg+xml": [
       "<?xml version=\"1.0\" encoding=\"UTF-8\" standalone=\"no\"?><svg xmlns=\"http://www.w3.org/2000/svg\" xmlns:xlink=\"http://www.w3.org/1999/xlink\" contentScriptType=\"application/ecmascript\" contentStyleType=\"text/css\" height=\"221px\" preserveAspectRatio=\"none\" style=\"width:346px;height:221px;\" version=\"1.1\" viewBox=\"0 0 346 221\" width=\"346px\" zoomAndPan=\"magnify\"><defs><filter height=\"300%\" id=\"f1pldcn5fuec44\" width=\"300%\" x=\"-1\" y=\"-1\"><feGaussianBlur result=\"blurOut\" stdDeviation=\"2.0\"/><feColorMatrix in=\"blurOut\" result=\"blurOut2\" type=\"matrix\" values=\"0 0 0 0 0 0 0 0 0 0 0 0 0 0 0 0 0 0 .4 0\"/><feOffset dx=\"4.0\" dy=\"4.0\" in=\"blurOut2\" result=\"blurOut3\"/><feBlend in=\"SourceGraphic\" in2=\"blurOut3\" mode=\"normal\"/></filter></defs><g><!--MD5=[fbc87193dbaf4d95561dea2c320d4a47]\n",
       "cluster E1--><a href=\"psysml:f380021c-1a7c-453e-a474-5589714ddc4a\" target=\"_top\" title=\"psysml:f380021c-1a7c-453e-a474-5589714ddc4a\" xlink:actuate=\"onRequest\" xlink:href=\"psysml:f380021c-1a7c-453e-a474-5589714ddc4a\" xlink:show=\"new\" xlink:title=\"psysml:f380021c-1a7c-453e-a474-5589714ddc4a\" xlink:type=\"simple\"><polygon fill=\"#FFFFFF\" filter=\"url(#f1pldcn5fuec44)\" points=\"16,6,123,6,130,28.2969,324,28.2969,324,209,16,209,16,6\" style=\"stroke: #000000; stroke-width: 1.5;\"/><line style=\"stroke: #000000; stroke-width: 1.5;\" x1=\"16\" x2=\"130\" y1=\"28.2969\" y2=\"28.2969\"/><text fill=\"#000000\" font-family=\"sans-serif\" font-size=\"14\" font-weight=\"bold\" lengthAdjust=\"spacingAndGlyphs\" textLength=\"101\" x=\"20\" y=\"20.9951\">QuantityTest</text></a><!--MD5=[b4997ac47864f28c2f74865a473b2911]\n",
       "class E2--><a href=\"psysml:c5943d6b-e87d-4b1b-8731-2602b62da777\" target=\"_top\" title=\"psysml:c5943d6b-e87d-4b1b-8731-2602b62da777\" xlink:actuate=\"onRequest\" xlink:href=\"psysml:c5943d6b-e87d-4b1b-8731-2602b62da777\" xlink:show=\"new\" xlink:title=\"psysml:c5943d6b-e87d-4b1b-8731-2602b62da777\" xlink:type=\"simple\"><rect fill=\"#FEFECE\" filter=\"url(#f1pldcn5fuec44)\" height=\"45.9375\" id=\"E2\" rx=\"10\" ry=\"10\" style=\"stroke: #A80036; stroke-width: 1.5;\" width=\"275\" x=\"32.5\" y=\"147\"/><ellipse cx=\"47.5\" cy=\"165.9688\" fill=\"#FFA500\" rx=\"11\" ry=\"11\" style=\"stroke: #A80036; stroke-width: 1.0;\"/><path d=\"M43.375,167.8906 L43.375,160.0781 L45.8281,160.0781 L45.8281,168.5156 Q45.8281,169.4375 46.2969,169.9688 Q46.7813,170.5 47.6094,170.5 Q48.4531,170.5 48.9219,169.9688 Q49.3906,169.4375 49.3906,168.5156 L49.3906,160.0781 L51.8438,160.0781 L51.8438,167.8906 Q51.8438,170.4219 50.8438,171.5625 Q49.8438,172.7031 47.6094,172.7031 Q45.3906,172.7031 44.375,171.5625 Q43.375,170.4219 43.375,167.8906 Z \"/><text fill=\"#000000\" font-family=\"sans-serif\" font-size=\"12\" font-style=\"italic\" lengthAdjust=\"spacingAndGlyphs\" textLength=\"69\" x=\"148.5\" y=\"163.1387\">«attribute»</text><text fill=\"#000000\" font-family=\"sans-serif\" font-size=\"12\" lengthAdjust=\"spacingAndGlyphs\" textLength=\"243\" x=\"61.5\" y=\"177.1074\">tensorQuantities: TensorQuantityValue</text><line style=\"stroke: #A80036; stroke-width: 1.5;\" x1=\"33.5\" x2=\"306.5\" y1=\"184.9375\" y2=\"184.9375\"/></a><!--MD5=[09b614a08d8cba4a07c9adeb5e0fee81]\n",
       "class E3--><a href=\"psysml:88455055-d217-4a9f-96e6-c531cf1f5b6c\" target=\"_top\" title=\"psysml:88455055-d217-4a9f-96e6-c531cf1f5b6c\" xlink:actuate=\"onRequest\" xlink:href=\"psysml:88455055-d217-4a9f-96e6-c531cf1f5b6c\" xlink:show=\"new\" xlink:title=\"psysml:88455055-d217-4a9f-96e6-c531cf1f5b6c\" xlink:type=\"simple\"><rect fill=\"#FEFECE\" filter=\"url(#f1pldcn5fuec44)\" height=\"45.9375\" id=\"E3\" rx=\"10\" ry=\"10\" style=\"stroke: #A80036; stroke-width: 1.5;\" width=\"97\" x=\"121.5\" y=\"41\"/><ellipse cx=\"136.5\" cy=\"59.9688\" fill=\"#FFA500\" rx=\"11\" ry=\"11\" style=\"stroke: #A80036; stroke-width: 1.0;\"/><path d=\"M132.375,61.8906 L132.375,54.0781 L134.8281,54.0781 L134.8281,62.5156 Q134.8281,63.4375 135.2969,63.9688 Q135.7813,64.5 136.6094,64.5 Q137.4531,64.5 137.9219,63.9688 Q138.3906,63.4375 138.3906,62.5156 L138.3906,54.0781 L140.8438,54.0781 L140.8438,61.8906 Q140.8438,64.4219 139.8438,65.5625 Q138.8438,66.7031 136.6094,66.7031 Q134.3906,66.7031 133.375,65.5625 Q132.375,64.4219 132.375,61.8906 Z \"/><text fill=\"#000000\" font-family=\"sans-serif\" font-size=\"12\" font-style=\"italic\" lengthAdjust=\"spacingAndGlyphs\" textLength=\"69\" x=\"148.5\" y=\"57.1387\">«attribute»</text><text fill=\"#000000\" font-family=\"sans-serif\" font-size=\"12\" lengthAdjust=\"spacingAndGlyphs\" textLength=\"8\" x=\"179\" y=\"71.1074\">q</text><line style=\"stroke: #A80036; stroke-width: 1.5;\" x1=\"122.5\" x2=\"217.5\" y1=\"78.9375\" y2=\"78.9375\"/></a><!--MD5=[05d275557350bfb9b23a4ef7222b4c39]\n",
       "link E3 to E2--><a href=\"psysml:11b4979a-79b0-4e55-825e-341a26faa927\" target=\"_top\" title=\"psysml:11b4979a-79b0-4e55-825e-341a26faa927\" xlink:actuate=\"onRequest\" xlink:href=\"psysml:11b4979a-79b0-4e55-825e-341a26faa927\" xlink:show=\"new\" xlink:title=\"psysml:11b4979a-79b0-4e55-825e-341a26faa927\" xlink:type=\"simple\"><path d=\"M170,87.06 C170,98.64 170,113.23 170,126.87 \" fill=\"none\" id=\"E3-&gt;E2\" style=\"stroke: #A80036; stroke-width: 1.0;\"/><polygon fill=\"none\" points=\"177,126.98,170,146.98,163,126.98,177,126.98\" style=\"stroke: #A80036; stroke-width: 1.0;\"/></a><!--MD5=[5e657320e2c59828aec69e28bfcc08b0]\n",
       "@startuml\r\n",
       " \r\n",
       "package \"QuantityTest\" as E1  [[psysml:f380021c-1a7c-453e-a474-5589714ddc4a ]]  {\r\n",
       "comp usage \"tensorQuantities: TensorQuantityValue\" as E2 << <<(U,orange) attribute>> [[psysml:c5943d6b-e87d-4b1b-8731-2602b62da777 ]] {\r\n",
       "}\r\n",
       "comp usage \"q\" as E3 << <<(U,orange) attribute>> [[psysml:88455055-d217-4a9f-96e6-c531cf1f5b6c ]] {\r\n",
       "}\r\n",
       "E3 - -|> E2 [[psysml:11b4979a-79b0-4e55-825e-341a26faa927 ]] \r\n",
       "}\r\n",
       "@enduml\r\n",
       "\n",
       "PlantUML version 1.2020.13(Sat Jun 13 12:26:38 UTC 2020)\n",
       "(EPL source distribution)\n",
       "Java Runtime: OpenJDK Runtime Environment\n",
       "JVM: OpenJDK 64-Bit Server VM\n",
       "Default Encoding: UTF-8\n",
       "Language: en\n",
       "Country: null\n",
       "--></g></svg>"
      ]
     },
     "execution_count": 36,
     "metadata": {},
     "output_type": "execute_result"
    }
   ],
   "source": [
    "%viz --style=\"PLANTUML\" --view=\"MIXED\" \"QuantityTest\""
   ]
  },
  {
   "cell_type": "code",
   "execution_count": 37,
   "id": "8d6a7221",
   "metadata": {
    "execution": {
     "iopub.execute_input": "2021-06-30T09:22:07.972902Z",
     "iopub.status.busy": "2021-06-30T09:22:07.972507Z",
     "iopub.status.idle": "2021-06-30T09:22:08.003731Z",
     "shell.execute_reply": "2021-06-30T09:22:08.003440Z"
    }
   },
   "outputs": [
    {
     "data": {
      "image/svg+xml": [
       "<?xml version=\"1.0\" encoding=\"UTF-8\" standalone=\"no\"?><svg xmlns=\"http://www.w3.org/2000/svg\" xmlns:xlink=\"http://www.w3.org/1999/xlink\" contentScriptType=\"application/ecmascript\" contentStyleType=\"text/css\" height=\"221px\" preserveAspectRatio=\"none\" style=\"width:320px;height:221px;\" version=\"1.1\" viewBox=\"0 0 320 221\" width=\"320px\" zoomAndPan=\"magnify\"><defs/><g><!--MD5=[fbc87193dbaf4d95561dea2c320d4a47]\n",
       "cluster E1--><a href=\"psysml:f380021c-1a7c-453e-a474-5589714ddc4a\" target=\"_top\" title=\"psysml:f380021c-1a7c-453e-a474-5589714ddc4a\" xlink:actuate=\"onRequest\" xlink:href=\"psysml:f380021c-1a7c-453e-a474-5589714ddc4a\" xlink:show=\"new\" xlink:title=\"psysml:f380021c-1a7c-453e-a474-5589714ddc4a\" xlink:type=\"simple\"><polygon fill=\"#FFFFFF\" points=\"16,6,123,6,130,28.2969,298,28.2969,298,209,16,209,16,6\" style=\"stroke: #000000; stroke-width: 1.5;\"/><line style=\"stroke: #000000; stroke-width: 1.5;\" x1=\"16\" x2=\"130\" y1=\"28.2969\" y2=\"28.2969\"/><text fill=\"#000000\" font-family=\"sans-serif\" font-size=\"14\" font-weight=\"bold\" lengthAdjust=\"spacingAndGlyphs\" textLength=\"101\" x=\"20\" y=\"20.9951\">QuantityTest</text></a><!--MD5=[b4997ac47864f28c2f74865a473b2911]\n",
       "class E2--><a href=\"psysml:c5943d6b-e87d-4b1b-8731-2602b62da777\" target=\"_top\" title=\"psysml:c5943d6b-e87d-4b1b-8731-2602b62da777\" xlink:actuate=\"onRequest\" xlink:href=\"psysml:c5943d6b-e87d-4b1b-8731-2602b62da777\" xlink:show=\"new\" xlink:title=\"psysml:c5943d6b-e87d-4b1b-8731-2602b62da777\" xlink:type=\"simple\"><rect fill=\"#FFFFFF\" height=\"45.9375\" id=\"E2\" rx=\"10\" ry=\"10\" style=\"stroke: #383838; stroke-width: 1.5;\" width=\"249\" x=\"32.5\" y=\"147\"/><text fill=\"#000000\" font-family=\"sans-serif\" font-size=\"12\" font-style=\"italic\" lengthAdjust=\"spacingAndGlyphs\" textLength=\"69\" x=\"122.5\" y=\"163.1387\">«attribute»</text><text fill=\"#000000\" font-family=\"sans-serif\" font-size=\"12\" lengthAdjust=\"spacingAndGlyphs\" textLength=\"243\" x=\"35.5\" y=\"177.1074\">tensorQuantities: TensorQuantityValue</text><line style=\"stroke: #383838; stroke-width: 1.5;\" x1=\"33.5\" x2=\"280.5\" y1=\"184.9375\" y2=\"184.9375\"/></a><!--MD5=[09b614a08d8cba4a07c9adeb5e0fee81]\n",
       "class E3--><a href=\"psysml:88455055-d217-4a9f-96e6-c531cf1f5b6c\" target=\"_top\" title=\"psysml:88455055-d217-4a9f-96e6-c531cf1f5b6c\" xlink:actuate=\"onRequest\" xlink:href=\"psysml:88455055-d217-4a9f-96e6-c531cf1f5b6c\" xlink:show=\"new\" xlink:title=\"psysml:88455055-d217-4a9f-96e6-c531cf1f5b6c\" xlink:type=\"simple\"><rect fill=\"#FFFFFF\" height=\"45.9375\" id=\"E3\" rx=\"10\" ry=\"10\" style=\"stroke: #383838; stroke-width: 1.5;\" width=\"71\" x=\"121.5\" y=\"41\"/><text fill=\"#000000\" font-family=\"sans-serif\" font-size=\"12\" font-style=\"italic\" lengthAdjust=\"spacingAndGlyphs\" textLength=\"69\" x=\"122.5\" y=\"57.1387\">«attribute»</text><text fill=\"#000000\" font-family=\"sans-serif\" font-size=\"12\" lengthAdjust=\"spacingAndGlyphs\" textLength=\"8\" x=\"153\" y=\"71.1074\">q</text><line style=\"stroke: #383838; stroke-width: 1.5;\" x1=\"122.5\" x2=\"191.5\" y1=\"78.9375\" y2=\"78.9375\"/></a><!--MD5=[05d275557350bfb9b23a4ef7222b4c39]\n",
       "link E3 to E2--><a href=\"psysml:11b4979a-79b0-4e55-825e-341a26faa927\" target=\"_top\" title=\"psysml:11b4979a-79b0-4e55-825e-341a26faa927\" xlink:actuate=\"onRequest\" xlink:href=\"psysml:11b4979a-79b0-4e55-825e-341a26faa927\" xlink:show=\"new\" xlink:title=\"psysml:11b4979a-79b0-4e55-825e-341a26faa927\" xlink:type=\"simple\"><path d=\"M157,87.06 C157,98.64 157,113.23 157,126.87 \" fill=\"none\" id=\"E3-&gt;E2\" style=\"stroke: #383838; stroke-width: 1.0;\"/><polygon fill=\"none\" points=\"164,126.98,157,146.98,150,126.98,164,126.98\" style=\"stroke: #383838; stroke-width: 1.0;\"/></a><!--MD5=[88ef96ff4738da1182a37420a9d9516b]\n",
       "@startuml\r\n",
       "skinparam monochrome true\r\n",
       "skinparam classbackgroundcolor white\r\n",
       "skinparam shadowing false\r\n",
       "skinparam wrapWidth 300\r\n",
       "hide circle\r\n",
       "\r\n",
       "package \"QuantityTest\" as E1  [[psysml:f380021c-1a7c-453e-a474-5589714ddc4a ]]  {\r\n",
       "comp usage \"tensorQuantities: TensorQuantityValue\" as E2  <<(T,blue) attribute>> [[psysml:c5943d6b-e87d-4b1b-8731-2602b62da777 ]] {\r\n",
       "}\r\n",
       "comp usage \"q\" as E3  <<(T,blue) attribute>> [[psysml:88455055-d217-4a9f-96e6-c531cf1f5b6c ]] {\r\n",
       "}\r\n",
       "E3 - -|> E2 [[psysml:11b4979a-79b0-4e55-825e-341a26faa927 ]] \r\n",
       "}\r\n",
       "@enduml\r\n",
       "\n",
       "PlantUML version 1.2020.13(Sat Jun 13 12:26:38 UTC 2020)\n",
       "(EPL source distribution)\n",
       "Java Runtime: OpenJDK Runtime Environment\n",
       "JVM: OpenJDK 64-Bit Server VM\n",
       "Default Encoding: UTF-8\n",
       "Language: en\n",
       "Country: null\n",
       "--></g></svg>"
      ]
     },
     "execution_count": 37,
     "metadata": {},
     "output_type": "execute_result"
    }
   ],
   "source": [
    "%viz --style=\"DEFAULT\" --view=\"Default\" \"QuantityTest\""
   ]
  },
  {
   "cell_type": "code",
   "execution_count": 38,
   "id": "0c2eeb3c",
   "metadata": {
    "execution": {
     "iopub.execute_input": "2021-06-30T09:22:08.054716Z",
     "iopub.status.busy": "2021-06-30T09:22:08.054272Z",
     "iopub.status.idle": "2021-06-30T09:22:08.076163Z",
     "shell.execute_reply": "2021-06-30T09:22:08.075691Z"
    }
   },
   "outputs": [
    {
     "data": {
      "image/svg+xml": [
       "<?xml version=\"1.0\" encoding=\"UTF-8\" standalone=\"no\"?><svg xmlns=\"http://www.w3.org/2000/svg\" xmlns:xlink=\"http://www.w3.org/1999/xlink\" contentScriptType=\"application/ecmascript\" contentStyleType=\"text/css\" height=\"221px\" preserveAspectRatio=\"none\" style=\"width:320px;height:221px;\" version=\"1.1\" viewBox=\"0 0 320 221\" width=\"320px\" zoomAndPan=\"magnify\"><defs/><g><!--MD5=[fbc87193dbaf4d95561dea2c320d4a47]\n",
       "cluster E1--><a href=\"psysml:f380021c-1a7c-453e-a474-5589714ddc4a\" target=\"_top\" title=\"psysml:f380021c-1a7c-453e-a474-5589714ddc4a\" xlink:actuate=\"onRequest\" xlink:href=\"psysml:f380021c-1a7c-453e-a474-5589714ddc4a\" xlink:show=\"new\" xlink:title=\"psysml:f380021c-1a7c-453e-a474-5589714ddc4a\" xlink:type=\"simple\"><polygon fill=\"#FFFFFF\" points=\"16,6,123,6,130,28.2969,298,28.2969,298,209,16,209,16,6\" style=\"stroke: #000000; stroke-width: 1.5;\"/><line style=\"stroke: #000000; stroke-width: 1.5;\" x1=\"16\" x2=\"130\" y1=\"28.2969\" y2=\"28.2969\"/><text fill=\"#000000\" font-family=\"sans-serif\" font-size=\"14\" font-weight=\"bold\" lengthAdjust=\"spacingAndGlyphs\" textLength=\"101\" x=\"20\" y=\"20.9951\">QuantityTest</text></a><!--MD5=[b4997ac47864f28c2f74865a473b2911]\n",
       "class E2--><a href=\"psysml:c5943d6b-e87d-4b1b-8731-2602b62da777\" target=\"_top\" title=\"psysml:c5943d6b-e87d-4b1b-8731-2602b62da777\" xlink:actuate=\"onRequest\" xlink:href=\"psysml:c5943d6b-e87d-4b1b-8731-2602b62da777\" xlink:show=\"new\" xlink:title=\"psysml:c5943d6b-e87d-4b1b-8731-2602b62da777\" xlink:type=\"simple\"><rect fill=\"#FFFFFF\" height=\"45.9375\" id=\"E2\" rx=\"10\" ry=\"10\" style=\"stroke: #383838; stroke-width: 1.5;\" width=\"249\" x=\"32.5\" y=\"147\"/><text fill=\"#000000\" font-family=\"sans-serif\" font-size=\"12\" font-style=\"italic\" lengthAdjust=\"spacingAndGlyphs\" textLength=\"69\" x=\"122.5\" y=\"163.1387\">«attribute»</text><text fill=\"#000000\" font-family=\"sans-serif\" font-size=\"12\" lengthAdjust=\"spacingAndGlyphs\" textLength=\"243\" x=\"35.5\" y=\"177.1074\">tensorQuantities: TensorQuantityValue</text><line style=\"stroke: #383838; stroke-width: 1.5;\" x1=\"33.5\" x2=\"280.5\" y1=\"184.9375\" y2=\"184.9375\"/></a><!--MD5=[09b614a08d8cba4a07c9adeb5e0fee81]\n",
       "class E3--><a href=\"psysml:88455055-d217-4a9f-96e6-c531cf1f5b6c\" target=\"_top\" title=\"psysml:88455055-d217-4a9f-96e6-c531cf1f5b6c\" xlink:actuate=\"onRequest\" xlink:href=\"psysml:88455055-d217-4a9f-96e6-c531cf1f5b6c\" xlink:show=\"new\" xlink:title=\"psysml:88455055-d217-4a9f-96e6-c531cf1f5b6c\" xlink:type=\"simple\"><rect fill=\"#FFFFFF\" height=\"45.9375\" id=\"E3\" rx=\"10\" ry=\"10\" style=\"stroke: #383838; stroke-width: 1.5;\" width=\"71\" x=\"121.5\" y=\"41\"/><text fill=\"#000000\" font-family=\"sans-serif\" font-size=\"12\" font-style=\"italic\" lengthAdjust=\"spacingAndGlyphs\" textLength=\"69\" x=\"122.5\" y=\"57.1387\">«attribute»</text><text fill=\"#000000\" font-family=\"sans-serif\" font-size=\"12\" lengthAdjust=\"spacingAndGlyphs\" textLength=\"8\" x=\"153\" y=\"71.1074\">q</text><line style=\"stroke: #383838; stroke-width: 1.5;\" x1=\"122.5\" x2=\"191.5\" y1=\"78.9375\" y2=\"78.9375\"/></a><!--MD5=[05d275557350bfb9b23a4ef7222b4c39]\n",
       "link E3 to E2--><a href=\"psysml:11b4979a-79b0-4e55-825e-341a26faa927\" target=\"_top\" title=\"psysml:11b4979a-79b0-4e55-825e-341a26faa927\" xlink:actuate=\"onRequest\" xlink:href=\"psysml:11b4979a-79b0-4e55-825e-341a26faa927\" xlink:show=\"new\" xlink:title=\"psysml:11b4979a-79b0-4e55-825e-341a26faa927\" xlink:type=\"simple\"><path d=\"M157,87.06 C157,98.64 157,113.23 157,126.87 \" fill=\"none\" id=\"E3-&gt;E2\" style=\"stroke: #383838; stroke-width: 1.0;\"/><polygon fill=\"none\" points=\"164,126.98,157,146.98,150,126.98,164,126.98\" style=\"stroke: #383838; stroke-width: 1.0;\"/></a><!--MD5=[88ef96ff4738da1182a37420a9d9516b]\n",
       "@startuml\r\n",
       "skinparam monochrome true\r\n",
       "skinparam classbackgroundcolor white\r\n",
       "skinparam shadowing false\r\n",
       "skinparam wrapWidth 300\r\n",
       "hide circle\r\n",
       "\r\n",
       "package \"QuantityTest\" as E1  [[psysml:f380021c-1a7c-453e-a474-5589714ddc4a ]]  {\r\n",
       "comp usage \"tensorQuantities: TensorQuantityValue\" as E2  <<(T,blue) attribute>> [[psysml:c5943d6b-e87d-4b1b-8731-2602b62da777 ]] {\r\n",
       "}\r\n",
       "comp usage \"q\" as E3  <<(T,blue) attribute>> [[psysml:88455055-d217-4a9f-96e6-c531cf1f5b6c ]] {\r\n",
       "}\r\n",
       "E3 - -|> E2 [[psysml:11b4979a-79b0-4e55-825e-341a26faa927 ]] \r\n",
       "}\r\n",
       "@enduml\r\n",
       "\n",
       "PlantUML version 1.2020.13(Sat Jun 13 12:26:38 UTC 2020)\n",
       "(EPL source distribution)\n",
       "Java Runtime: OpenJDK Runtime Environment\n",
       "JVM: OpenJDK 64-Bit Server VM\n",
       "Default Encoding: UTF-8\n",
       "Language: en\n",
       "Country: null\n",
       "--></g></svg>"
      ]
     },
     "execution_count": 38,
     "metadata": {},
     "output_type": "execute_result"
    }
   ],
   "source": [
    "%viz --style=\"DEFAULT\" --view=\"Tree\" \"QuantityTest\""
   ]
  },
  {
   "cell_type": "code",
   "execution_count": 39,
   "id": "5d4901d1",
   "metadata": {
    "execution": {
     "iopub.execute_input": "2021-06-30T09:22:08.127067Z",
     "iopub.status.busy": "2021-06-30T09:22:08.126655Z",
     "iopub.status.idle": "2021-06-30T09:22:08.130860Z",
     "shell.execute_reply": "2021-06-30T09:22:08.130551Z"
    }
   },
   "outputs": [
    {
     "data": {
      "image/svg+xml": [
       "<?xml version=\"1.0\" encoding=\"UTF-8\" standalone=\"no\"?><svg xmlns=\"http://www.w3.org/2000/svg\" xmlns:xlink=\"http://www.w3.org/1999/xlink\" contentScriptType=\"application/ecmascript\" contentStyleType=\"text/css\" height=\"12px\" preserveAspectRatio=\"none\" style=\"width:12px;height:12px;\" version=\"1.1\" viewBox=\"0 0 12 12\" width=\"12px\" zoomAndPan=\"magnify\"><defs/><g><!--MD5=[c5f280e076d0d61ccf4b0f27871bda1d]\n",
       "@startuml\r\n",
       "skinparam monochrome true\r\n",
       "skinparam classbackgroundcolor white\r\n",
       "skinparam shadowing false\r\n",
       "skinparam wrapWidth 300\r\n",
       "hide circle\r\n",
       "\r\n",
       "@enduml\r\n",
       "\n",
       "PlantUML version 1.2020.13(Sat Jun 13 12:26:38 UTC 2020)\n",
       "(EPL source distribution)\n",
       "Java Runtime: OpenJDK Runtime Environment\n",
       "JVM: OpenJDK 64-Bit Server VM\n",
       "Default Encoding: UTF-8\n",
       "Language: en\n",
       "Country: null\n",
       "--></g></svg>"
      ]
     },
     "execution_count": 39,
     "metadata": {},
     "output_type": "execute_result"
    }
   ],
   "source": [
    "%viz --style=\"DEFAULT\" --view=\"State\" \"QuantityTest\""
   ]
  },
  {
   "cell_type": "code",
   "execution_count": 40,
   "id": "8a112210",
   "metadata": {
    "execution": {
     "iopub.execute_input": "2021-06-30T09:22:08.182401Z",
     "iopub.status.busy": "2021-06-30T09:22:08.181911Z",
     "iopub.status.idle": "2021-06-30T09:22:08.205734Z",
     "shell.execute_reply": "2021-06-30T09:22:08.205428Z"
    }
   },
   "outputs": [
    {
     "data": {
      "image/svg+xml": [
       "<?xml version=\"1.0\" encoding=\"UTF-8\" standalone=\"no\"?><svg xmlns=\"http://www.w3.org/2000/svg\" xmlns:xlink=\"http://www.w3.org/1999/xlink\" contentScriptType=\"application/ecmascript\" contentStyleType=\"text/css\" height=\"171px\" preserveAspectRatio=\"none\" style=\"width:320px;height:171px;\" version=\"1.1\" viewBox=\"0 0 320 171\" width=\"320px\" zoomAndPan=\"magnify\"><defs/><g><!--MD5=[fbc87193dbaf4d95561dea2c320d4a47]\n",
       "cluster E1--><a href=\"psysml:f380021c-1a7c-453e-a474-5589714ddc4a\" target=\"_top\" title=\"psysml:f380021c-1a7c-453e-a474-5589714ddc4a\" xlink:actuate=\"onRequest\" xlink:href=\"psysml:f380021c-1a7c-453e-a474-5589714ddc4a\" xlink:show=\"new\" xlink:title=\"psysml:f380021c-1a7c-453e-a474-5589714ddc4a\" xlink:type=\"simple\"><polygon fill=\"#FFFFFF\" points=\"16,6,123,6,130,28.2969,298,28.2969,298,159,16,159,16,6\" style=\"stroke: #000000; stroke-width: 1.5;\"/><line style=\"stroke: #000000; stroke-width: 1.5;\" x1=\"16\" x2=\"130\" y1=\"28.2969\" y2=\"28.2969\"/><text fill=\"#000000\" font-family=\"sans-serif\" font-size=\"14\" font-weight=\"bold\" lengthAdjust=\"spacingAndGlyphs\" textLength=\"101\" x=\"20\" y=\"20.9951\">QuantityTest</text></a><!--MD5=[b4997ac47864f28c2f74865a473b2911]\n",
       "class E2--><a href=\"psysml:c5943d6b-e87d-4b1b-8731-2602b62da777\" target=\"_top\" title=\"psysml:c5943d6b-e87d-4b1b-8731-2602b62da777\" xlink:actuate=\"onRequest\" xlink:href=\"psysml:c5943d6b-e87d-4b1b-8731-2602b62da777\" xlink:show=\"new\" xlink:title=\"psysml:c5943d6b-e87d-4b1b-8731-2602b62da777\" xlink:type=\"simple\"><rect fill=\"#FFFFFF\" height=\"45.9375\" id=\"E2\" rx=\"10\" ry=\"10\" style=\"stroke: #383838; stroke-width: 1.5;\" width=\"249\" x=\"32.5\" y=\"97\"/><text fill=\"#000000\" font-family=\"sans-serif\" font-size=\"12\" font-style=\"italic\" lengthAdjust=\"spacingAndGlyphs\" textLength=\"69\" x=\"122.5\" y=\"113.1387\">«attribute»</text><text fill=\"#000000\" font-family=\"sans-serif\" font-size=\"12\" lengthAdjust=\"spacingAndGlyphs\" textLength=\"243\" x=\"35.5\" y=\"127.1074\">tensorQuantities: TensorQuantityValue</text><line style=\"stroke: #383838; stroke-width: 1.5;\" x1=\"33.5\" x2=\"280.5\" y1=\"134.9375\" y2=\"134.9375\"/></a><!--MD5=[09b614a08d8cba4a07c9adeb5e0fee81]\n",
       "class E3--><a href=\"psysml:88455055-d217-4a9f-96e6-c531cf1f5b6c\" target=\"_top\" title=\"psysml:88455055-d217-4a9f-96e6-c531cf1f5b6c\" xlink:actuate=\"onRequest\" xlink:href=\"psysml:88455055-d217-4a9f-96e6-c531cf1f5b6c\" xlink:show=\"new\" xlink:title=\"psysml:88455055-d217-4a9f-96e6-c531cf1f5b6c\" xlink:type=\"simple\"><rect fill=\"#FFFFFF\" height=\"45.9375\" id=\"E3\" rx=\"10\" ry=\"10\" style=\"stroke: #383838; stroke-width: 1.5;\" width=\"71\" x=\"121.5\" y=\"41\"/><text fill=\"#000000\" font-family=\"sans-serif\" font-size=\"12\" font-style=\"italic\" lengthAdjust=\"spacingAndGlyphs\" textLength=\"69\" x=\"122.5\" y=\"57.1387\">«attribute»</text><text fill=\"#000000\" font-family=\"sans-serif\" font-size=\"12\" lengthAdjust=\"spacingAndGlyphs\" textLength=\"8\" x=\"153\" y=\"71.1074\">q</text><line style=\"stroke: #383838; stroke-width: 1.5;\" x1=\"122.5\" x2=\"191.5\" y1=\"78.9375\" y2=\"78.9375\"/></a><!--MD5=[05d275557350bfb9b23a4ef7222b4c39]\n",
       "link E3 to E2--><a href=\"psysml:11b4979a-79b0-4e55-825e-341a26faa927\" target=\"_top\" title=\"psysml:11b4979a-79b0-4e55-825e-341a26faa927\" xlink:actuate=\"onRequest\" xlink:href=\"psysml:11b4979a-79b0-4e55-825e-341a26faa927\" xlink:show=\"new\" xlink:title=\"psysml:11b4979a-79b0-4e55-825e-341a26faa927\" xlink:type=\"simple\"><path d=\"M157,87.28 C157,87.37 157,87.47 157,87.57 \" fill=\"none\" id=\"E3-&gt;E2\" style=\"stroke: #383838; stroke-width: 1.0;\"/><polygon fill=\"none\" points=\"164,76.78,157,96.78,150,76.78,164,76.78\" style=\"stroke: #383838; stroke-width: 1.0;\"/></a><!--MD5=[c064850b0a545031bb537431f025a434]\n",
       "@startuml\r\n",
       "skinparam ranksep 10\r\n",
       "skinparam rectangle {\r\n",
       " backgroundColor<<block>> LightGreen\r\n",
       "}\r\n",
       "skinparam monochrome true\r\n",
       "skinparam classbackgroundcolor white\r\n",
       "skinparam shadowing false\r\n",
       "skinparam wrapWidth 300\r\n",
       "hide circle\r\n",
       "\r\n",
       "package \"QuantityTest\" as E1  [[psysml:f380021c-1a7c-453e-a474-5589714ddc4a ]]  {\r\n",
       "comp usage \"tensorQuantities: TensorQuantityValue\" as E2  <<(T,blue) attribute>> [[psysml:c5943d6b-e87d-4b1b-8731-2602b62da777 ]] {\r\n",
       "}\r\n",
       "comp usage \"q\" as E3  <<(T,blue) attribute>> [[psysml:88455055-d217-4a9f-96e6-c531cf1f5b6c ]] {\r\n",
       "}\r\n",
       "E3 - -|> E2 [[psysml:11b4979a-79b0-4e55-825e-341a26faa927 ]] \r\n",
       "}\r\n",
       "@enduml\r\n",
       "\n",
       "PlantUML version 1.2020.13(Sat Jun 13 12:26:38 UTC 2020)\n",
       "(EPL source distribution)\n",
       "Java Runtime: OpenJDK Runtime Environment\n",
       "JVM: OpenJDK 64-Bit Server VM\n",
       "Default Encoding: UTF-8\n",
       "Language: en\n",
       "Country: null\n",
       "--></g></svg>"
      ]
     },
     "execution_count": 40,
     "metadata": {},
     "output_type": "execute_result"
    }
   ],
   "source": [
    "%viz --style=\"DEFAULT\" --view=\"Interconnection\" \"QuantityTest\""
   ]
  },
  {
   "cell_type": "code",
   "execution_count": 41,
   "id": "89e7d148",
   "metadata": {
    "execution": {
     "iopub.execute_input": "2021-06-30T09:22:08.256348Z",
     "iopub.status.busy": "2021-06-30T09:22:08.255848Z",
     "iopub.status.idle": "2021-06-30T09:22:08.260853Z",
     "shell.execute_reply": "2021-06-30T09:22:08.260472Z"
    }
   },
   "outputs": [
    {
     "data": {
      "image/svg+xml": [
       "<?xml version=\"1.0\" encoding=\"UTF-8\" standalone=\"no\"?><svg xmlns=\"http://www.w3.org/2000/svg\" xmlns:xlink=\"http://www.w3.org/1999/xlink\" contentScriptType=\"application/ecmascript\" contentStyleType=\"text/css\" height=\"12px\" preserveAspectRatio=\"none\" style=\"width:12px;height:12px;\" version=\"1.1\" viewBox=\"0 0 12 12\" width=\"12px\" zoomAndPan=\"magnify\"><defs/><g><!--MD5=[388f21188e31bfdd97050473b19af356]\n",
       "@startuml\r\n",
       "skinparam ranksep 8\r\n",
       "skinparam monochrome true\r\n",
       "skinparam classbackgroundcolor white\r\n",
       "skinparam shadowing false\r\n",
       "skinparam wrapWidth 300\r\n",
       "hide circle\r\n",
       "\r\n",
       "@enduml\r\n",
       "\n",
       "PlantUML version 1.2020.13(Sat Jun 13 12:26:38 UTC 2020)\n",
       "(EPL source distribution)\n",
       "Java Runtime: OpenJDK Runtime Environment\n",
       "JVM: OpenJDK 64-Bit Server VM\n",
       "Default Encoding: UTF-8\n",
       "Language: en\n",
       "Country: null\n",
       "--></g></svg>"
      ]
     },
     "execution_count": 41,
     "metadata": {},
     "output_type": "execute_result"
    }
   ],
   "source": [
    "%viz --style=\"DEFAULT\" --view=\"Action\" \"QuantityTest\""
   ]
  },
  {
   "cell_type": "code",
   "execution_count": 42,
   "id": "24592579",
   "metadata": {
    "execution": {
     "iopub.execute_input": "2021-06-30T09:22:08.311926Z",
     "iopub.status.busy": "2021-06-30T09:22:08.311098Z",
     "iopub.status.idle": "2021-06-30T09:22:08.344244Z",
     "shell.execute_reply": "2021-06-30T09:22:08.343616Z"
    }
   },
   "outputs": [
    {
     "data": {
      "image/svg+xml": [
       "<?xml version=\"1.0\" encoding=\"UTF-8\" standalone=\"no\"?><svg xmlns=\"http://www.w3.org/2000/svg\" xmlns:xlink=\"http://www.w3.org/1999/xlink\" contentScriptType=\"application/ecmascript\" contentStyleType=\"text/css\" height=\"221px\" preserveAspectRatio=\"none\" style=\"width:320px;height:221px;\" version=\"1.1\" viewBox=\"0 0 320 221\" width=\"320px\" zoomAndPan=\"magnify\"><defs/><g><!--MD5=[fbc87193dbaf4d95561dea2c320d4a47]\n",
       "cluster E1--><a href=\"psysml:f380021c-1a7c-453e-a474-5589714ddc4a\" target=\"_top\" title=\"psysml:f380021c-1a7c-453e-a474-5589714ddc4a\" xlink:actuate=\"onRequest\" xlink:href=\"psysml:f380021c-1a7c-453e-a474-5589714ddc4a\" xlink:show=\"new\" xlink:title=\"psysml:f380021c-1a7c-453e-a474-5589714ddc4a\" xlink:type=\"simple\"><polygon fill=\"#FFFFFF\" points=\"16,6,123,6,130,28.2969,298,28.2969,298,209,16,209,16,6\" style=\"stroke: #000000; stroke-width: 1.5;\"/><line style=\"stroke: #000000; stroke-width: 1.5;\" x1=\"16\" x2=\"130\" y1=\"28.2969\" y2=\"28.2969\"/><text fill=\"#000000\" font-family=\"sans-serif\" font-size=\"14\" font-weight=\"bold\" lengthAdjust=\"spacingAndGlyphs\" textLength=\"101\" x=\"20\" y=\"20.9951\">QuantityTest</text></a><!--MD5=[b4997ac47864f28c2f74865a473b2911]\n",
       "class E2--><a href=\"psysml:c5943d6b-e87d-4b1b-8731-2602b62da777\" target=\"_top\" title=\"psysml:c5943d6b-e87d-4b1b-8731-2602b62da777\" xlink:actuate=\"onRequest\" xlink:href=\"psysml:c5943d6b-e87d-4b1b-8731-2602b62da777\" xlink:show=\"new\" xlink:title=\"psysml:c5943d6b-e87d-4b1b-8731-2602b62da777\" xlink:type=\"simple\"><rect fill=\"#FFFFFF\" height=\"45.9375\" id=\"E2\" rx=\"10\" ry=\"10\" style=\"stroke: #383838; stroke-width: 1.5;\" width=\"249\" x=\"32.5\" y=\"147\"/><text fill=\"#000000\" font-family=\"sans-serif\" font-size=\"12\" font-style=\"italic\" lengthAdjust=\"spacingAndGlyphs\" textLength=\"69\" x=\"122.5\" y=\"163.1387\">«attribute»</text><text fill=\"#000000\" font-family=\"sans-serif\" font-size=\"12\" lengthAdjust=\"spacingAndGlyphs\" textLength=\"243\" x=\"35.5\" y=\"177.1074\">tensorQuantities: TensorQuantityValue</text><line style=\"stroke: #383838; stroke-width: 1.5;\" x1=\"33.5\" x2=\"280.5\" y1=\"184.9375\" y2=\"184.9375\"/></a><!--MD5=[09b614a08d8cba4a07c9adeb5e0fee81]\n",
       "class E3--><a href=\"psysml:88455055-d217-4a9f-96e6-c531cf1f5b6c\" target=\"_top\" title=\"psysml:88455055-d217-4a9f-96e6-c531cf1f5b6c\" xlink:actuate=\"onRequest\" xlink:href=\"psysml:88455055-d217-4a9f-96e6-c531cf1f5b6c\" xlink:show=\"new\" xlink:title=\"psysml:88455055-d217-4a9f-96e6-c531cf1f5b6c\" xlink:type=\"simple\"><rect fill=\"#FFFFFF\" height=\"45.9375\" id=\"E3\" rx=\"10\" ry=\"10\" style=\"stroke: #383838; stroke-width: 1.5;\" width=\"71\" x=\"121.5\" y=\"41\"/><text fill=\"#000000\" font-family=\"sans-serif\" font-size=\"12\" font-style=\"italic\" lengthAdjust=\"spacingAndGlyphs\" textLength=\"69\" x=\"122.5\" y=\"57.1387\">«attribute»</text><text fill=\"#000000\" font-family=\"sans-serif\" font-size=\"12\" lengthAdjust=\"spacingAndGlyphs\" textLength=\"8\" x=\"153\" y=\"71.1074\">q</text><line style=\"stroke: #383838; stroke-width: 1.5;\" x1=\"122.5\" x2=\"191.5\" y1=\"78.9375\" y2=\"78.9375\"/></a><!--MD5=[05d275557350bfb9b23a4ef7222b4c39]\n",
       "link E3 to E2--><a href=\"psysml:11b4979a-79b0-4e55-825e-341a26faa927\" target=\"_top\" title=\"psysml:11b4979a-79b0-4e55-825e-341a26faa927\" xlink:actuate=\"onRequest\" xlink:href=\"psysml:11b4979a-79b0-4e55-825e-341a26faa927\" xlink:show=\"new\" xlink:title=\"psysml:11b4979a-79b0-4e55-825e-341a26faa927\" xlink:type=\"simple\"><path d=\"M157,87.06 C157,98.64 157,113.23 157,126.87 \" fill=\"none\" id=\"E3-&gt;E2\" style=\"stroke: #383838; stroke-width: 1.0;\"/><polygon fill=\"none\" points=\"164,126.98,157,146.98,150,126.98,164,126.98\" style=\"stroke: #383838; stroke-width: 1.0;\"/></a><!--MD5=[88ef96ff4738da1182a37420a9d9516b]\n",
       "@startuml\r\n",
       "skinparam monochrome true\r\n",
       "skinparam classbackgroundcolor white\r\n",
       "skinparam shadowing false\r\n",
       "skinparam wrapWidth 300\r\n",
       "hide circle\r\n",
       "\r\n",
       "package \"QuantityTest\" as E1  [[psysml:f380021c-1a7c-453e-a474-5589714ddc4a ]]  {\r\n",
       "comp usage \"tensorQuantities: TensorQuantityValue\" as E2  <<(T,blue) attribute>> [[psysml:c5943d6b-e87d-4b1b-8731-2602b62da777 ]] {\r\n",
       "}\r\n",
       "comp usage \"q\" as E3  <<(T,blue) attribute>> [[psysml:88455055-d217-4a9f-96e6-c531cf1f5b6c ]] {\r\n",
       "}\r\n",
       "E3 - -|> E2 [[psysml:11b4979a-79b0-4e55-825e-341a26faa927 ]] \r\n",
       "}\r\n",
       "@enduml\r\n",
       "\n",
       "PlantUML version 1.2020.13(Sat Jun 13 12:26:38 UTC 2020)\n",
       "(EPL source distribution)\n",
       "Java Runtime: OpenJDK Runtime Environment\n",
       "JVM: OpenJDK 64-Bit Server VM\n",
       "Default Encoding: UTF-8\n",
       "Language: en\n",
       "Country: null\n",
       "--></g></svg>"
      ]
     },
     "execution_count": 42,
     "metadata": {},
     "output_type": "execute_result"
    }
   ],
   "source": [
    "%viz --style=\"DEFAULT\" --view=\"Sequence\" \"QuantityTest\""
   ]
  },
  {
   "cell_type": "code",
   "execution_count": 43,
   "id": "fae3135b",
   "metadata": {
    "execution": {
     "iopub.execute_input": "2021-06-30T09:22:08.394075Z",
     "iopub.status.busy": "2021-06-30T09:22:08.393645Z",
     "iopub.status.idle": "2021-06-30T09:22:08.416928Z",
     "shell.execute_reply": "2021-06-30T09:22:08.416614Z"
    }
   },
   "outputs": [
    {
     "data": {
      "image/svg+xml": [
       "<?xml version=\"1.0\" encoding=\"UTF-8\" standalone=\"no\"?><svg xmlns=\"http://www.w3.org/2000/svg\" xmlns:xlink=\"http://www.w3.org/1999/xlink\" contentScriptType=\"application/ecmascript\" contentStyleType=\"text/css\" height=\"221px\" preserveAspectRatio=\"none\" style=\"width:320px;height:221px;\" version=\"1.1\" viewBox=\"0 0 320 221\" width=\"320px\" zoomAndPan=\"magnify\"><defs/><g><!--MD5=[fbc87193dbaf4d95561dea2c320d4a47]\n",
       "cluster E1--><a href=\"psysml:f380021c-1a7c-453e-a474-5589714ddc4a\" target=\"_top\" title=\"psysml:f380021c-1a7c-453e-a474-5589714ddc4a\" xlink:actuate=\"onRequest\" xlink:href=\"psysml:f380021c-1a7c-453e-a474-5589714ddc4a\" xlink:show=\"new\" xlink:title=\"psysml:f380021c-1a7c-453e-a474-5589714ddc4a\" xlink:type=\"simple\"><polygon fill=\"#FFFFFF\" points=\"16,6,123,6,130,28.2969,298,28.2969,298,209,16,209,16,6\" style=\"stroke: #000000; stroke-width: 1.5;\"/><line style=\"stroke: #000000; stroke-width: 1.5;\" x1=\"16\" x2=\"130\" y1=\"28.2969\" y2=\"28.2969\"/><text fill=\"#000000\" font-family=\"sans-serif\" font-size=\"14\" font-weight=\"bold\" lengthAdjust=\"spacingAndGlyphs\" textLength=\"101\" x=\"20\" y=\"20.9951\">QuantityTest</text></a><!--MD5=[b4997ac47864f28c2f74865a473b2911]\n",
       "class E2--><a href=\"psysml:c5943d6b-e87d-4b1b-8731-2602b62da777\" target=\"_top\" title=\"psysml:c5943d6b-e87d-4b1b-8731-2602b62da777\" xlink:actuate=\"onRequest\" xlink:href=\"psysml:c5943d6b-e87d-4b1b-8731-2602b62da777\" xlink:show=\"new\" xlink:title=\"psysml:c5943d6b-e87d-4b1b-8731-2602b62da777\" xlink:type=\"simple\"><rect fill=\"#FFFFFF\" height=\"45.9375\" id=\"E2\" rx=\"10\" ry=\"10\" style=\"stroke: #383838; stroke-width: 1.5;\" width=\"249\" x=\"32.5\" y=\"147\"/><text fill=\"#000000\" font-family=\"sans-serif\" font-size=\"12\" font-style=\"italic\" lengthAdjust=\"spacingAndGlyphs\" textLength=\"69\" x=\"122.5\" y=\"163.1387\">«attribute»</text><text fill=\"#000000\" font-family=\"sans-serif\" font-size=\"12\" lengthAdjust=\"spacingAndGlyphs\" textLength=\"243\" x=\"35.5\" y=\"177.1074\">tensorQuantities: TensorQuantityValue</text><line style=\"stroke: #383838; stroke-width: 1.5;\" x1=\"33.5\" x2=\"280.5\" y1=\"184.9375\" y2=\"184.9375\"/></a><!--MD5=[09b614a08d8cba4a07c9adeb5e0fee81]\n",
       "class E3--><a href=\"psysml:88455055-d217-4a9f-96e6-c531cf1f5b6c\" target=\"_top\" title=\"psysml:88455055-d217-4a9f-96e6-c531cf1f5b6c\" xlink:actuate=\"onRequest\" xlink:href=\"psysml:88455055-d217-4a9f-96e6-c531cf1f5b6c\" xlink:show=\"new\" xlink:title=\"psysml:88455055-d217-4a9f-96e6-c531cf1f5b6c\" xlink:type=\"simple\"><rect fill=\"#FFFFFF\" height=\"45.9375\" id=\"E3\" rx=\"10\" ry=\"10\" style=\"stroke: #383838; stroke-width: 1.5;\" width=\"71\" x=\"121.5\" y=\"41\"/><text fill=\"#000000\" font-family=\"sans-serif\" font-size=\"12\" font-style=\"italic\" lengthAdjust=\"spacingAndGlyphs\" textLength=\"69\" x=\"122.5\" y=\"57.1387\">«attribute»</text><text fill=\"#000000\" font-family=\"sans-serif\" font-size=\"12\" lengthAdjust=\"spacingAndGlyphs\" textLength=\"8\" x=\"153\" y=\"71.1074\">q</text><line style=\"stroke: #383838; stroke-width: 1.5;\" x1=\"122.5\" x2=\"191.5\" y1=\"78.9375\" y2=\"78.9375\"/></a><!--MD5=[05d275557350bfb9b23a4ef7222b4c39]\n",
       "link E3 to E2--><a href=\"psysml:11b4979a-79b0-4e55-825e-341a26faa927\" target=\"_top\" title=\"psysml:11b4979a-79b0-4e55-825e-341a26faa927\" xlink:actuate=\"onRequest\" xlink:href=\"psysml:11b4979a-79b0-4e55-825e-341a26faa927\" xlink:show=\"new\" xlink:title=\"psysml:11b4979a-79b0-4e55-825e-341a26faa927\" xlink:type=\"simple\"><path d=\"M157,87.06 C157,98.64 157,113.23 157,126.87 \" fill=\"none\" id=\"E3-&gt;E2\" style=\"stroke: #383838; stroke-width: 1.0;\"/><polygon fill=\"none\" points=\"164,126.98,157,146.98,150,126.98,164,126.98\" style=\"stroke: #383838; stroke-width: 1.0;\"/></a><!--MD5=[88ef96ff4738da1182a37420a9d9516b]\n",
       "@startuml\r\n",
       "skinparam monochrome true\r\n",
       "skinparam classbackgroundcolor white\r\n",
       "skinparam shadowing false\r\n",
       "skinparam wrapWidth 300\r\n",
       "hide circle\r\n",
       "\r\n",
       "package \"QuantityTest\" as E1  [[psysml:f380021c-1a7c-453e-a474-5589714ddc4a ]]  {\r\n",
       "comp usage \"tensorQuantities: TensorQuantityValue\" as E2  <<(T,blue) attribute>> [[psysml:c5943d6b-e87d-4b1b-8731-2602b62da777 ]] {\r\n",
       "}\r\n",
       "comp usage \"q\" as E3  <<(T,blue) attribute>> [[psysml:88455055-d217-4a9f-96e6-c531cf1f5b6c ]] {\r\n",
       "}\r\n",
       "E3 - -|> E2 [[psysml:11b4979a-79b0-4e55-825e-341a26faa927 ]] \r\n",
       "}\r\n",
       "@enduml\r\n",
       "\n",
       "PlantUML version 1.2020.13(Sat Jun 13 12:26:38 UTC 2020)\n",
       "(EPL source distribution)\n",
       "Java Runtime: OpenJDK Runtime Environment\n",
       "JVM: OpenJDK 64-Bit Server VM\n",
       "Default Encoding: UTF-8\n",
       "Language: en\n",
       "Country: null\n",
       "--></g></svg>"
      ]
     },
     "execution_count": 43,
     "metadata": {},
     "output_type": "execute_result"
    }
   ],
   "source": [
    "%viz --style=\"DEFAULT\" --view=\"MIXED\" \"QuantityTest\""
   ]
  },
  {
   "cell_type": "code",
   "execution_count": 44,
   "id": "632f9594",
   "metadata": {
    "execution": {
     "iopub.execute_input": "2021-06-30T09:22:08.467420Z",
     "iopub.status.busy": "2021-06-30T09:22:08.466887Z",
     "iopub.status.idle": "2021-06-30T09:22:08.491242Z",
     "shell.execute_reply": "2021-06-30T09:22:08.490858Z"
    }
   },
   "outputs": [
    {
     "data": {
      "image/svg+xml": [
       "<?xml version=\"1.0\" encoding=\"UTF-8\" standalone=\"no\"?><svg xmlns=\"http://www.w3.org/2000/svg\" xmlns:xlink=\"http://www.w3.org/1999/xlink\" contentScriptType=\"application/ecmascript\" contentStyleType=\"text/css\" height=\"221px\" preserveAspectRatio=\"none\" style=\"width:320px;height:221px;\" version=\"1.1\" viewBox=\"0 0 320 221\" width=\"320px\" zoomAndPan=\"magnify\"><defs/><g><!--MD5=[fbc87193dbaf4d95561dea2c320d4a47]\n",
       "cluster E1--><a href=\"psysml:f380021c-1a7c-453e-a474-5589714ddc4a\" target=\"_top\" title=\"psysml:f380021c-1a7c-453e-a474-5589714ddc4a\" xlink:actuate=\"onRequest\" xlink:href=\"psysml:f380021c-1a7c-453e-a474-5589714ddc4a\" xlink:show=\"new\" xlink:title=\"psysml:f380021c-1a7c-453e-a474-5589714ddc4a\" xlink:type=\"simple\"><polygon fill=\"#FFFFFF\" points=\"16,6,123,6,130,28.2969,298,28.2969,298,209,16,209,16,6\" style=\"stroke: #000000; stroke-width: 1.5;\"/><line style=\"stroke: #000000; stroke-width: 1.5;\" x1=\"16\" x2=\"130\" y1=\"28.2969\" y2=\"28.2969\"/><text fill=\"#000000\" font-family=\"sans-serif\" font-size=\"14\" font-weight=\"bold\" lengthAdjust=\"spacingAndGlyphs\" textLength=\"101\" x=\"20\" y=\"20.9951\">QuantityTest</text></a><!--MD5=[b4997ac47864f28c2f74865a473b2911]\n",
       "class E2--><a href=\"psysml:c5943d6b-e87d-4b1b-8731-2602b62da777\" target=\"_top\" title=\"psysml:c5943d6b-e87d-4b1b-8731-2602b62da777\" xlink:actuate=\"onRequest\" xlink:href=\"psysml:c5943d6b-e87d-4b1b-8731-2602b62da777\" xlink:show=\"new\" xlink:title=\"psysml:c5943d6b-e87d-4b1b-8731-2602b62da777\" xlink:type=\"simple\"><rect fill=\"#FFFFFF\" height=\"45.9375\" id=\"E2\" rx=\"10\" ry=\"10\" style=\"stroke: #383838; stroke-width: 1.5;\" width=\"249\" x=\"32.5\" y=\"147\"/><text fill=\"#000000\" font-family=\"sans-serif\" font-size=\"12\" font-style=\"italic\" lengthAdjust=\"spacingAndGlyphs\" textLength=\"69\" x=\"122.5\" y=\"163.1387\">«attribute»</text><text fill=\"#000000\" font-family=\"sans-serif\" font-size=\"12\" lengthAdjust=\"spacingAndGlyphs\" textLength=\"243\" x=\"35.5\" y=\"177.1074\">tensorQuantities: TensorQuantityValue</text><line style=\"stroke: #383838; stroke-width: 1.5;\" x1=\"33.5\" x2=\"280.5\" y1=\"184.9375\" y2=\"184.9375\"/></a><!--MD5=[09b614a08d8cba4a07c9adeb5e0fee81]\n",
       "class E3--><a href=\"psysml:88455055-d217-4a9f-96e6-c531cf1f5b6c\" target=\"_top\" title=\"psysml:88455055-d217-4a9f-96e6-c531cf1f5b6c\" xlink:actuate=\"onRequest\" xlink:href=\"psysml:88455055-d217-4a9f-96e6-c531cf1f5b6c\" xlink:show=\"new\" xlink:title=\"psysml:88455055-d217-4a9f-96e6-c531cf1f5b6c\" xlink:type=\"simple\"><rect fill=\"#FFFFFF\" height=\"45.9375\" id=\"E3\" rx=\"10\" ry=\"10\" style=\"stroke: #383838; stroke-width: 1.5;\" width=\"71\" x=\"121.5\" y=\"41\"/><text fill=\"#000000\" font-family=\"sans-serif\" font-size=\"12\" font-style=\"italic\" lengthAdjust=\"spacingAndGlyphs\" textLength=\"69\" x=\"122.5\" y=\"57.1387\">«attribute»</text><text fill=\"#000000\" font-family=\"sans-serif\" font-size=\"12\" lengthAdjust=\"spacingAndGlyphs\" textLength=\"8\" x=\"153\" y=\"71.1074\">q</text><line style=\"stroke: #383838; stroke-width: 1.5;\" x1=\"122.5\" x2=\"191.5\" y1=\"78.9375\" y2=\"78.9375\"/></a><!--MD5=[05d275557350bfb9b23a4ef7222b4c39]\n",
       "link E3 to E2--><a href=\"psysml:11b4979a-79b0-4e55-825e-341a26faa927\" target=\"_top\" title=\"psysml:11b4979a-79b0-4e55-825e-341a26faa927\" xlink:actuate=\"onRequest\" xlink:href=\"psysml:11b4979a-79b0-4e55-825e-341a26faa927\" xlink:show=\"new\" xlink:title=\"psysml:11b4979a-79b0-4e55-825e-341a26faa927\" xlink:type=\"simple\"><path d=\"M157,87.06 C157,98.64 157,113.23 157,126.87 \" fill=\"none\" id=\"E3-&gt;E2\" style=\"stroke: #383838; stroke-width: 1.0;\"/><polygon fill=\"none\" points=\"164,126.98,157,146.98,150,126.98,164,126.98\" style=\"stroke: #383838; stroke-width: 1.0;\"/></a><!--MD5=[5ef6f757bd972edc8ccc8bfc391fc5b5]\n",
       "@startuml\r\n",
       "top to bottom direction\r\n",
       "skinparam monochrome true\r\n",
       "skinparam classbackgroundcolor white\r\n",
       "skinparam shadowing false\r\n",
       "skinparam wrapWidth 300\r\n",
       "hide circle\r\n",
       "\r\n",
       "package \"QuantityTest\" as E1  [[psysml:f380021c-1a7c-453e-a474-5589714ddc4a ]]  {\r\n",
       "comp usage \"tensorQuantities: TensorQuantityValue\" as E2  <<(T,blue) attribute>> [[psysml:c5943d6b-e87d-4b1b-8731-2602b62da777 ]] {\r\n",
       "}\r\n",
       "comp usage \"q\" as E3  <<(T,blue) attribute>> [[psysml:88455055-d217-4a9f-96e6-c531cf1f5b6c ]] {\r\n",
       "}\r\n",
       "E3 - -|> E2 [[psysml:11b4979a-79b0-4e55-825e-341a26faa927 ]] \r\n",
       "}\r\n",
       "@enduml\r\n",
       "\n",
       "PlantUML version 1.2020.13(Sat Jun 13 12:26:38 UTC 2020)\n",
       "(EPL source distribution)\n",
       "Java Runtime: OpenJDK Runtime Environment\n",
       "JVM: OpenJDK 64-Bit Server VM\n",
       "Default Encoding: UTF-8\n",
       "Language: en\n",
       "Country: null\n",
       "--></g></svg>"
      ]
     },
     "execution_count": 44,
     "metadata": {},
     "output_type": "execute_result"
    }
   ],
   "source": [
    "%viz --style=\"TB\" --view=\"Default\" \"QuantityTest\""
   ]
  },
  {
   "cell_type": "code",
   "execution_count": 45,
   "id": "2618b8c9",
   "metadata": {
    "execution": {
     "iopub.execute_input": "2021-06-30T09:22:08.541729Z",
     "iopub.status.busy": "2021-06-30T09:22:08.541294Z",
     "iopub.status.idle": "2021-06-30T09:22:08.564592Z",
     "shell.execute_reply": "2021-06-30T09:22:08.564234Z"
    }
   },
   "outputs": [
    {
     "data": {
      "image/svg+xml": [
       "<?xml version=\"1.0\" encoding=\"UTF-8\" standalone=\"no\"?><svg xmlns=\"http://www.w3.org/2000/svg\" xmlns:xlink=\"http://www.w3.org/1999/xlink\" contentScriptType=\"application/ecmascript\" contentStyleType=\"text/css\" height=\"221px\" preserveAspectRatio=\"none\" style=\"width:320px;height:221px;\" version=\"1.1\" viewBox=\"0 0 320 221\" width=\"320px\" zoomAndPan=\"magnify\"><defs/><g><!--MD5=[fbc87193dbaf4d95561dea2c320d4a47]\n",
       "cluster E1--><a href=\"psysml:f380021c-1a7c-453e-a474-5589714ddc4a\" target=\"_top\" title=\"psysml:f380021c-1a7c-453e-a474-5589714ddc4a\" xlink:actuate=\"onRequest\" xlink:href=\"psysml:f380021c-1a7c-453e-a474-5589714ddc4a\" xlink:show=\"new\" xlink:title=\"psysml:f380021c-1a7c-453e-a474-5589714ddc4a\" xlink:type=\"simple\"><polygon fill=\"#FFFFFF\" points=\"16,6,123,6,130,28.2969,298,28.2969,298,209,16,209,16,6\" style=\"stroke: #000000; stroke-width: 1.5;\"/><line style=\"stroke: #000000; stroke-width: 1.5;\" x1=\"16\" x2=\"130\" y1=\"28.2969\" y2=\"28.2969\"/><text fill=\"#000000\" font-family=\"sans-serif\" font-size=\"14\" font-weight=\"bold\" lengthAdjust=\"spacingAndGlyphs\" textLength=\"101\" x=\"20\" y=\"20.9951\">QuantityTest</text></a><!--MD5=[b4997ac47864f28c2f74865a473b2911]\n",
       "class E2--><a href=\"psysml:c5943d6b-e87d-4b1b-8731-2602b62da777\" target=\"_top\" title=\"psysml:c5943d6b-e87d-4b1b-8731-2602b62da777\" xlink:actuate=\"onRequest\" xlink:href=\"psysml:c5943d6b-e87d-4b1b-8731-2602b62da777\" xlink:show=\"new\" xlink:title=\"psysml:c5943d6b-e87d-4b1b-8731-2602b62da777\" xlink:type=\"simple\"><rect fill=\"#FFFFFF\" height=\"45.9375\" id=\"E2\" rx=\"10\" ry=\"10\" style=\"stroke: #383838; stroke-width: 1.5;\" width=\"249\" x=\"32.5\" y=\"147\"/><text fill=\"#000000\" font-family=\"sans-serif\" font-size=\"12\" font-style=\"italic\" lengthAdjust=\"spacingAndGlyphs\" textLength=\"69\" x=\"122.5\" y=\"163.1387\">«attribute»</text><text fill=\"#000000\" font-family=\"sans-serif\" font-size=\"12\" lengthAdjust=\"spacingAndGlyphs\" textLength=\"243\" x=\"35.5\" y=\"177.1074\">tensorQuantities: TensorQuantityValue</text><line style=\"stroke: #383838; stroke-width: 1.5;\" x1=\"33.5\" x2=\"280.5\" y1=\"184.9375\" y2=\"184.9375\"/></a><!--MD5=[09b614a08d8cba4a07c9adeb5e0fee81]\n",
       "class E3--><a href=\"psysml:88455055-d217-4a9f-96e6-c531cf1f5b6c\" target=\"_top\" title=\"psysml:88455055-d217-4a9f-96e6-c531cf1f5b6c\" xlink:actuate=\"onRequest\" xlink:href=\"psysml:88455055-d217-4a9f-96e6-c531cf1f5b6c\" xlink:show=\"new\" xlink:title=\"psysml:88455055-d217-4a9f-96e6-c531cf1f5b6c\" xlink:type=\"simple\"><rect fill=\"#FFFFFF\" height=\"45.9375\" id=\"E3\" rx=\"10\" ry=\"10\" style=\"stroke: #383838; stroke-width: 1.5;\" width=\"71\" x=\"121.5\" y=\"41\"/><text fill=\"#000000\" font-family=\"sans-serif\" font-size=\"12\" font-style=\"italic\" lengthAdjust=\"spacingAndGlyphs\" textLength=\"69\" x=\"122.5\" y=\"57.1387\">«attribute»</text><text fill=\"#000000\" font-family=\"sans-serif\" font-size=\"12\" lengthAdjust=\"spacingAndGlyphs\" textLength=\"8\" x=\"153\" y=\"71.1074\">q</text><line style=\"stroke: #383838; stroke-width: 1.5;\" x1=\"122.5\" x2=\"191.5\" y1=\"78.9375\" y2=\"78.9375\"/></a><!--MD5=[05d275557350bfb9b23a4ef7222b4c39]\n",
       "link E3 to E2--><a href=\"psysml:11b4979a-79b0-4e55-825e-341a26faa927\" target=\"_top\" title=\"psysml:11b4979a-79b0-4e55-825e-341a26faa927\" xlink:actuate=\"onRequest\" xlink:href=\"psysml:11b4979a-79b0-4e55-825e-341a26faa927\" xlink:show=\"new\" xlink:title=\"psysml:11b4979a-79b0-4e55-825e-341a26faa927\" xlink:type=\"simple\"><path d=\"M157,87.06 C157,98.64 157,113.23 157,126.87 \" fill=\"none\" id=\"E3-&gt;E2\" style=\"stroke: #383838; stroke-width: 1.0;\"/><polygon fill=\"none\" points=\"164,126.98,157,146.98,150,126.98,164,126.98\" style=\"stroke: #383838; stroke-width: 1.0;\"/></a><!--MD5=[5ef6f757bd972edc8ccc8bfc391fc5b5]\n",
       "@startuml\r\n",
       "top to bottom direction\r\n",
       "skinparam monochrome true\r\n",
       "skinparam classbackgroundcolor white\r\n",
       "skinparam shadowing false\r\n",
       "skinparam wrapWidth 300\r\n",
       "hide circle\r\n",
       "\r\n",
       "package \"QuantityTest\" as E1  [[psysml:f380021c-1a7c-453e-a474-5589714ddc4a ]]  {\r\n",
       "comp usage \"tensorQuantities: TensorQuantityValue\" as E2  <<(T,blue) attribute>> [[psysml:c5943d6b-e87d-4b1b-8731-2602b62da777 ]] {\r\n",
       "}\r\n",
       "comp usage \"q\" as E3  <<(T,blue) attribute>> [[psysml:88455055-d217-4a9f-96e6-c531cf1f5b6c ]] {\r\n",
       "}\r\n",
       "E3 - -|> E2 [[psysml:11b4979a-79b0-4e55-825e-341a26faa927 ]] \r\n",
       "}\r\n",
       "@enduml\r\n",
       "\n",
       "PlantUML version 1.2020.13(Sat Jun 13 12:26:38 UTC 2020)\n",
       "(EPL source distribution)\n",
       "Java Runtime: OpenJDK Runtime Environment\n",
       "JVM: OpenJDK 64-Bit Server VM\n",
       "Default Encoding: UTF-8\n",
       "Language: en\n",
       "Country: null\n",
       "--></g></svg>"
      ]
     },
     "execution_count": 45,
     "metadata": {},
     "output_type": "execute_result"
    }
   ],
   "source": [
    "%viz --style=\"TB\" --view=\"Tree\" \"QuantityTest\""
   ]
  },
  {
   "cell_type": "code",
   "execution_count": 46,
   "id": "93cfcd69",
   "metadata": {
    "execution": {
     "iopub.execute_input": "2021-06-30T09:22:08.615546Z",
     "iopub.status.busy": "2021-06-30T09:22:08.614907Z",
     "iopub.status.idle": "2021-06-30T09:22:08.621647Z",
     "shell.execute_reply": "2021-06-30T09:22:08.620996Z"
    }
   },
   "outputs": [
    {
     "data": {
      "image/svg+xml": [
       "<?xml version=\"1.0\" encoding=\"UTF-8\" standalone=\"no\"?><svg xmlns=\"http://www.w3.org/2000/svg\" xmlns:xlink=\"http://www.w3.org/1999/xlink\" contentScriptType=\"application/ecmascript\" contentStyleType=\"text/css\" height=\"12px\" preserveAspectRatio=\"none\" style=\"width:12px;height:12px;\" version=\"1.1\" viewBox=\"0 0 12 12\" width=\"12px\" zoomAndPan=\"magnify\"><defs/><g><!--MD5=[f4ee21bc66e489b5061b7c3e9601fdef]\n",
       "@startuml\r\n",
       "top to bottom direction\r\n",
       "skinparam monochrome true\r\n",
       "skinparam classbackgroundcolor white\r\n",
       "skinparam shadowing false\r\n",
       "skinparam wrapWidth 300\r\n",
       "hide circle\r\n",
       "\r\n",
       "@enduml\r\n",
       "\n",
       "PlantUML version 1.2020.13(Sat Jun 13 12:26:38 UTC 2020)\n",
       "(EPL source distribution)\n",
       "Java Runtime: OpenJDK Runtime Environment\n",
       "JVM: OpenJDK 64-Bit Server VM\n",
       "Default Encoding: UTF-8\n",
       "Language: en\n",
       "Country: null\n",
       "--></g></svg>"
      ]
     },
     "execution_count": 46,
     "metadata": {},
     "output_type": "execute_result"
    }
   ],
   "source": [
    "%viz --style=\"TB\" --view=\"State\" \"QuantityTest\""
   ]
  },
  {
   "cell_type": "code",
   "execution_count": 47,
   "id": "33f473d7",
   "metadata": {
    "execution": {
     "iopub.execute_input": "2021-06-30T09:22:08.672307Z",
     "iopub.status.busy": "2021-06-30T09:22:08.671471Z",
     "iopub.status.idle": "2021-06-30T09:22:08.698309Z",
     "shell.execute_reply": "2021-06-30T09:22:08.697930Z"
    }
   },
   "outputs": [
    {
     "data": {
      "image/svg+xml": [
       "<?xml version=\"1.0\" encoding=\"UTF-8\" standalone=\"no\"?><svg xmlns=\"http://www.w3.org/2000/svg\" xmlns:xlink=\"http://www.w3.org/1999/xlink\" contentScriptType=\"application/ecmascript\" contentStyleType=\"text/css\" height=\"171px\" preserveAspectRatio=\"none\" style=\"width:320px;height:171px;\" version=\"1.1\" viewBox=\"0 0 320 171\" width=\"320px\" zoomAndPan=\"magnify\"><defs/><g><!--MD5=[fbc87193dbaf4d95561dea2c320d4a47]\n",
       "cluster E1--><a href=\"psysml:f380021c-1a7c-453e-a474-5589714ddc4a\" target=\"_top\" title=\"psysml:f380021c-1a7c-453e-a474-5589714ddc4a\" xlink:actuate=\"onRequest\" xlink:href=\"psysml:f380021c-1a7c-453e-a474-5589714ddc4a\" xlink:show=\"new\" xlink:title=\"psysml:f380021c-1a7c-453e-a474-5589714ddc4a\" xlink:type=\"simple\"><polygon fill=\"#FFFFFF\" points=\"16,6,123,6,130,28.2969,298,28.2969,298,159,16,159,16,6\" style=\"stroke: #000000; stroke-width: 1.5;\"/><line style=\"stroke: #000000; stroke-width: 1.5;\" x1=\"16\" x2=\"130\" y1=\"28.2969\" y2=\"28.2969\"/><text fill=\"#000000\" font-family=\"sans-serif\" font-size=\"14\" font-weight=\"bold\" lengthAdjust=\"spacingAndGlyphs\" textLength=\"101\" x=\"20\" y=\"20.9951\">QuantityTest</text></a><!--MD5=[b4997ac47864f28c2f74865a473b2911]\n",
       "class E2--><a href=\"psysml:c5943d6b-e87d-4b1b-8731-2602b62da777\" target=\"_top\" title=\"psysml:c5943d6b-e87d-4b1b-8731-2602b62da777\" xlink:actuate=\"onRequest\" xlink:href=\"psysml:c5943d6b-e87d-4b1b-8731-2602b62da777\" xlink:show=\"new\" xlink:title=\"psysml:c5943d6b-e87d-4b1b-8731-2602b62da777\" xlink:type=\"simple\"><rect fill=\"#FFFFFF\" height=\"45.9375\" id=\"E2\" rx=\"10\" ry=\"10\" style=\"stroke: #383838; stroke-width: 1.5;\" width=\"249\" x=\"32.5\" y=\"97\"/><text fill=\"#000000\" font-family=\"sans-serif\" font-size=\"12\" font-style=\"italic\" lengthAdjust=\"spacingAndGlyphs\" textLength=\"69\" x=\"122.5\" y=\"113.1387\">«attribute»</text><text fill=\"#000000\" font-family=\"sans-serif\" font-size=\"12\" lengthAdjust=\"spacingAndGlyphs\" textLength=\"243\" x=\"35.5\" y=\"127.1074\">tensorQuantities: TensorQuantityValue</text><line style=\"stroke: #383838; stroke-width: 1.5;\" x1=\"33.5\" x2=\"280.5\" y1=\"134.9375\" y2=\"134.9375\"/></a><!--MD5=[09b614a08d8cba4a07c9adeb5e0fee81]\n",
       "class E3--><a href=\"psysml:88455055-d217-4a9f-96e6-c531cf1f5b6c\" target=\"_top\" title=\"psysml:88455055-d217-4a9f-96e6-c531cf1f5b6c\" xlink:actuate=\"onRequest\" xlink:href=\"psysml:88455055-d217-4a9f-96e6-c531cf1f5b6c\" xlink:show=\"new\" xlink:title=\"psysml:88455055-d217-4a9f-96e6-c531cf1f5b6c\" xlink:type=\"simple\"><rect fill=\"#FFFFFF\" height=\"45.9375\" id=\"E3\" rx=\"10\" ry=\"10\" style=\"stroke: #383838; stroke-width: 1.5;\" width=\"71\" x=\"121.5\" y=\"41\"/><text fill=\"#000000\" font-family=\"sans-serif\" font-size=\"12\" font-style=\"italic\" lengthAdjust=\"spacingAndGlyphs\" textLength=\"69\" x=\"122.5\" y=\"57.1387\">«attribute»</text><text fill=\"#000000\" font-family=\"sans-serif\" font-size=\"12\" lengthAdjust=\"spacingAndGlyphs\" textLength=\"8\" x=\"153\" y=\"71.1074\">q</text><line style=\"stroke: #383838; stroke-width: 1.5;\" x1=\"122.5\" x2=\"191.5\" y1=\"78.9375\" y2=\"78.9375\"/></a><!--MD5=[05d275557350bfb9b23a4ef7222b4c39]\n",
       "link E3 to E2--><a href=\"psysml:11b4979a-79b0-4e55-825e-341a26faa927\" target=\"_top\" title=\"psysml:11b4979a-79b0-4e55-825e-341a26faa927\" xlink:actuate=\"onRequest\" xlink:href=\"psysml:11b4979a-79b0-4e55-825e-341a26faa927\" xlink:show=\"new\" xlink:title=\"psysml:11b4979a-79b0-4e55-825e-341a26faa927\" xlink:type=\"simple\"><path d=\"M157,87.28 C157,87.37 157,87.47 157,87.57 \" fill=\"none\" id=\"E3-&gt;E2\" style=\"stroke: #383838; stroke-width: 1.0;\"/><polygon fill=\"none\" points=\"164,76.78,157,96.78,150,76.78,164,76.78\" style=\"stroke: #383838; stroke-width: 1.0;\"/></a><!--MD5=[bc25b800bfe3c3600d2b0c706e4cf8e5]\n",
       "@startuml\r\n",
       "skinparam ranksep 10\r\n",
       "skinparam rectangle {\r\n",
       " backgroundColor<<block>> LightGreen\r\n",
       "}\r\n",
       "top to bottom direction\r\n",
       "skinparam monochrome true\r\n",
       "skinparam classbackgroundcolor white\r\n",
       "skinparam shadowing false\r\n",
       "skinparam wrapWidth 300\r\n",
       "hide circle\r\n",
       "\r\n",
       "package \"QuantityTest\" as E1  [[psysml:f380021c-1a7c-453e-a474-5589714ddc4a ]]  {\r\n",
       "comp usage \"tensorQuantities: TensorQuantityValue\" as E2  <<(T,blue) attribute>> [[psysml:c5943d6b-e87d-4b1b-8731-2602b62da777 ]] {\r\n",
       "}\r\n",
       "comp usage \"q\" as E3  <<(T,blue) attribute>> [[psysml:88455055-d217-4a9f-96e6-c531cf1f5b6c ]] {\r\n",
       "}\r\n",
       "E3 - -|> E2 [[psysml:11b4979a-79b0-4e55-825e-341a26faa927 ]] \r\n",
       "}\r\n",
       "@enduml\r\n",
       "\n",
       "PlantUML version 1.2020.13(Sat Jun 13 12:26:38 UTC 2020)\n",
       "(EPL source distribution)\n",
       "Java Runtime: OpenJDK Runtime Environment\n",
       "JVM: OpenJDK 64-Bit Server VM\n",
       "Default Encoding: UTF-8\n",
       "Language: en\n",
       "Country: null\n",
       "--></g></svg>"
      ]
     },
     "execution_count": 47,
     "metadata": {},
     "output_type": "execute_result"
    }
   ],
   "source": [
    "%viz --style=\"TB\" --view=\"Interconnection\" \"QuantityTest\""
   ]
  },
  {
   "cell_type": "code",
   "execution_count": 48,
   "id": "7b4d80f7",
   "metadata": {
    "execution": {
     "iopub.execute_input": "2021-06-30T09:22:08.750466Z",
     "iopub.status.busy": "2021-06-30T09:22:08.749660Z",
     "iopub.status.idle": "2021-06-30T09:22:08.754354Z",
     "shell.execute_reply": "2021-06-30T09:22:08.753983Z"
    }
   },
   "outputs": [
    {
     "data": {
      "image/svg+xml": [
       "<?xml version=\"1.0\" encoding=\"UTF-8\" standalone=\"no\"?><svg xmlns=\"http://www.w3.org/2000/svg\" xmlns:xlink=\"http://www.w3.org/1999/xlink\" contentScriptType=\"application/ecmascript\" contentStyleType=\"text/css\" height=\"12px\" preserveAspectRatio=\"none\" style=\"width:12px;height:12px;\" version=\"1.1\" viewBox=\"0 0 12 12\" width=\"12px\" zoomAndPan=\"magnify\"><defs/><g><!--MD5=[06afc254b03ac5e9d9fb7773b07d0800]\n",
       "@startuml\r\n",
       "skinparam ranksep 8\r\n",
       "top to bottom direction\r\n",
       "skinparam monochrome true\r\n",
       "skinparam classbackgroundcolor white\r\n",
       "skinparam shadowing false\r\n",
       "skinparam wrapWidth 300\r\n",
       "hide circle\r\n",
       "\r\n",
       "@enduml\r\n",
       "\n",
       "PlantUML version 1.2020.13(Sat Jun 13 12:26:38 UTC 2020)\n",
       "(EPL source distribution)\n",
       "Java Runtime: OpenJDK Runtime Environment\n",
       "JVM: OpenJDK 64-Bit Server VM\n",
       "Default Encoding: UTF-8\n",
       "Language: en\n",
       "Country: null\n",
       "--></g></svg>"
      ]
     },
     "execution_count": 48,
     "metadata": {},
     "output_type": "execute_result"
    }
   ],
   "source": [
    "%viz --style=\"TB\" --view=\"Action\" \"QuantityTest\""
   ]
  },
  {
   "cell_type": "code",
   "execution_count": 49,
   "id": "a0ec1cbc",
   "metadata": {
    "execution": {
     "iopub.execute_input": "2021-06-30T09:22:08.805576Z",
     "iopub.status.busy": "2021-06-30T09:22:08.804893Z",
     "iopub.status.idle": "2021-06-30T09:22:08.829157Z",
     "shell.execute_reply": "2021-06-30T09:22:08.828756Z"
    }
   },
   "outputs": [
    {
     "data": {
      "image/svg+xml": [
       "<?xml version=\"1.0\" encoding=\"UTF-8\" standalone=\"no\"?><svg xmlns=\"http://www.w3.org/2000/svg\" xmlns:xlink=\"http://www.w3.org/1999/xlink\" contentScriptType=\"application/ecmascript\" contentStyleType=\"text/css\" height=\"221px\" preserveAspectRatio=\"none\" style=\"width:320px;height:221px;\" version=\"1.1\" viewBox=\"0 0 320 221\" width=\"320px\" zoomAndPan=\"magnify\"><defs/><g><!--MD5=[fbc87193dbaf4d95561dea2c320d4a47]\n",
       "cluster E1--><a href=\"psysml:f380021c-1a7c-453e-a474-5589714ddc4a\" target=\"_top\" title=\"psysml:f380021c-1a7c-453e-a474-5589714ddc4a\" xlink:actuate=\"onRequest\" xlink:href=\"psysml:f380021c-1a7c-453e-a474-5589714ddc4a\" xlink:show=\"new\" xlink:title=\"psysml:f380021c-1a7c-453e-a474-5589714ddc4a\" xlink:type=\"simple\"><polygon fill=\"#FFFFFF\" points=\"16,6,123,6,130,28.2969,298,28.2969,298,209,16,209,16,6\" style=\"stroke: #000000; stroke-width: 1.5;\"/><line style=\"stroke: #000000; stroke-width: 1.5;\" x1=\"16\" x2=\"130\" y1=\"28.2969\" y2=\"28.2969\"/><text fill=\"#000000\" font-family=\"sans-serif\" font-size=\"14\" font-weight=\"bold\" lengthAdjust=\"spacingAndGlyphs\" textLength=\"101\" x=\"20\" y=\"20.9951\">QuantityTest</text></a><!--MD5=[b4997ac47864f28c2f74865a473b2911]\n",
       "class E2--><a href=\"psysml:c5943d6b-e87d-4b1b-8731-2602b62da777\" target=\"_top\" title=\"psysml:c5943d6b-e87d-4b1b-8731-2602b62da777\" xlink:actuate=\"onRequest\" xlink:href=\"psysml:c5943d6b-e87d-4b1b-8731-2602b62da777\" xlink:show=\"new\" xlink:title=\"psysml:c5943d6b-e87d-4b1b-8731-2602b62da777\" xlink:type=\"simple\"><rect fill=\"#FFFFFF\" height=\"45.9375\" id=\"E2\" rx=\"10\" ry=\"10\" style=\"stroke: #383838; stroke-width: 1.5;\" width=\"249\" x=\"32.5\" y=\"147\"/><text fill=\"#000000\" font-family=\"sans-serif\" font-size=\"12\" font-style=\"italic\" lengthAdjust=\"spacingAndGlyphs\" textLength=\"69\" x=\"122.5\" y=\"163.1387\">«attribute»</text><text fill=\"#000000\" font-family=\"sans-serif\" font-size=\"12\" lengthAdjust=\"spacingAndGlyphs\" textLength=\"243\" x=\"35.5\" y=\"177.1074\">tensorQuantities: TensorQuantityValue</text><line style=\"stroke: #383838; stroke-width: 1.5;\" x1=\"33.5\" x2=\"280.5\" y1=\"184.9375\" y2=\"184.9375\"/></a><!--MD5=[09b614a08d8cba4a07c9adeb5e0fee81]\n",
       "class E3--><a href=\"psysml:88455055-d217-4a9f-96e6-c531cf1f5b6c\" target=\"_top\" title=\"psysml:88455055-d217-4a9f-96e6-c531cf1f5b6c\" xlink:actuate=\"onRequest\" xlink:href=\"psysml:88455055-d217-4a9f-96e6-c531cf1f5b6c\" xlink:show=\"new\" xlink:title=\"psysml:88455055-d217-4a9f-96e6-c531cf1f5b6c\" xlink:type=\"simple\"><rect fill=\"#FFFFFF\" height=\"45.9375\" id=\"E3\" rx=\"10\" ry=\"10\" style=\"stroke: #383838; stroke-width: 1.5;\" width=\"71\" x=\"121.5\" y=\"41\"/><text fill=\"#000000\" font-family=\"sans-serif\" font-size=\"12\" font-style=\"italic\" lengthAdjust=\"spacingAndGlyphs\" textLength=\"69\" x=\"122.5\" y=\"57.1387\">«attribute»</text><text fill=\"#000000\" font-family=\"sans-serif\" font-size=\"12\" lengthAdjust=\"spacingAndGlyphs\" textLength=\"8\" x=\"153\" y=\"71.1074\">q</text><line style=\"stroke: #383838; stroke-width: 1.5;\" x1=\"122.5\" x2=\"191.5\" y1=\"78.9375\" y2=\"78.9375\"/></a><!--MD5=[05d275557350bfb9b23a4ef7222b4c39]\n",
       "link E3 to E2--><a href=\"psysml:11b4979a-79b0-4e55-825e-341a26faa927\" target=\"_top\" title=\"psysml:11b4979a-79b0-4e55-825e-341a26faa927\" xlink:actuate=\"onRequest\" xlink:href=\"psysml:11b4979a-79b0-4e55-825e-341a26faa927\" xlink:show=\"new\" xlink:title=\"psysml:11b4979a-79b0-4e55-825e-341a26faa927\" xlink:type=\"simple\"><path d=\"M157,87.06 C157,98.64 157,113.23 157,126.87 \" fill=\"none\" id=\"E3-&gt;E2\" style=\"stroke: #383838; stroke-width: 1.0;\"/><polygon fill=\"none\" points=\"164,126.98,157,146.98,150,126.98,164,126.98\" style=\"stroke: #383838; stroke-width: 1.0;\"/></a><!--MD5=[5ef6f757bd972edc8ccc8bfc391fc5b5]\n",
       "@startuml\r\n",
       "top to bottom direction\r\n",
       "skinparam monochrome true\r\n",
       "skinparam classbackgroundcolor white\r\n",
       "skinparam shadowing false\r\n",
       "skinparam wrapWidth 300\r\n",
       "hide circle\r\n",
       "\r\n",
       "package \"QuantityTest\" as E1  [[psysml:f380021c-1a7c-453e-a474-5589714ddc4a ]]  {\r\n",
       "comp usage \"tensorQuantities: TensorQuantityValue\" as E2  <<(T,blue) attribute>> [[psysml:c5943d6b-e87d-4b1b-8731-2602b62da777 ]] {\r\n",
       "}\r\n",
       "comp usage \"q\" as E3  <<(T,blue) attribute>> [[psysml:88455055-d217-4a9f-96e6-c531cf1f5b6c ]] {\r\n",
       "}\r\n",
       "E3 - -|> E2 [[psysml:11b4979a-79b0-4e55-825e-341a26faa927 ]] \r\n",
       "}\r\n",
       "@enduml\r\n",
       "\n",
       "PlantUML version 1.2020.13(Sat Jun 13 12:26:38 UTC 2020)\n",
       "(EPL source distribution)\n",
       "Java Runtime: OpenJDK Runtime Environment\n",
       "JVM: OpenJDK 64-Bit Server VM\n",
       "Default Encoding: UTF-8\n",
       "Language: en\n",
       "Country: null\n",
       "--></g></svg>"
      ]
     },
     "execution_count": 49,
     "metadata": {},
     "output_type": "execute_result"
    }
   ],
   "source": [
    "%viz --style=\"TB\" --view=\"Sequence\" \"QuantityTest\""
   ]
  },
  {
   "cell_type": "code",
   "execution_count": 50,
   "id": "215e4ea7",
   "metadata": {
    "execution": {
     "iopub.execute_input": "2021-06-30T09:22:08.879832Z",
     "iopub.status.busy": "2021-06-30T09:22:08.879387Z",
     "iopub.status.idle": "2021-06-30T09:22:08.903532Z",
     "shell.execute_reply": "2021-06-30T09:22:08.903158Z"
    }
   },
   "outputs": [
    {
     "data": {
      "image/svg+xml": [
       "<?xml version=\"1.0\" encoding=\"UTF-8\" standalone=\"no\"?><svg xmlns=\"http://www.w3.org/2000/svg\" xmlns:xlink=\"http://www.w3.org/1999/xlink\" contentScriptType=\"application/ecmascript\" contentStyleType=\"text/css\" height=\"221px\" preserveAspectRatio=\"none\" style=\"width:320px;height:221px;\" version=\"1.1\" viewBox=\"0 0 320 221\" width=\"320px\" zoomAndPan=\"magnify\"><defs/><g><!--MD5=[fbc87193dbaf4d95561dea2c320d4a47]\n",
       "cluster E1--><a href=\"psysml:f380021c-1a7c-453e-a474-5589714ddc4a\" target=\"_top\" title=\"psysml:f380021c-1a7c-453e-a474-5589714ddc4a\" xlink:actuate=\"onRequest\" xlink:href=\"psysml:f380021c-1a7c-453e-a474-5589714ddc4a\" xlink:show=\"new\" xlink:title=\"psysml:f380021c-1a7c-453e-a474-5589714ddc4a\" xlink:type=\"simple\"><polygon fill=\"#FFFFFF\" points=\"16,6,123,6,130,28.2969,298,28.2969,298,209,16,209,16,6\" style=\"stroke: #000000; stroke-width: 1.5;\"/><line style=\"stroke: #000000; stroke-width: 1.5;\" x1=\"16\" x2=\"130\" y1=\"28.2969\" y2=\"28.2969\"/><text fill=\"#000000\" font-family=\"sans-serif\" font-size=\"14\" font-weight=\"bold\" lengthAdjust=\"spacingAndGlyphs\" textLength=\"101\" x=\"20\" y=\"20.9951\">QuantityTest</text></a><!--MD5=[b4997ac47864f28c2f74865a473b2911]\n",
       "class E2--><a href=\"psysml:c5943d6b-e87d-4b1b-8731-2602b62da777\" target=\"_top\" title=\"psysml:c5943d6b-e87d-4b1b-8731-2602b62da777\" xlink:actuate=\"onRequest\" xlink:href=\"psysml:c5943d6b-e87d-4b1b-8731-2602b62da777\" xlink:show=\"new\" xlink:title=\"psysml:c5943d6b-e87d-4b1b-8731-2602b62da777\" xlink:type=\"simple\"><rect fill=\"#FFFFFF\" height=\"45.9375\" id=\"E2\" rx=\"10\" ry=\"10\" style=\"stroke: #383838; stroke-width: 1.5;\" width=\"249\" x=\"32.5\" y=\"147\"/><text fill=\"#000000\" font-family=\"sans-serif\" font-size=\"12\" font-style=\"italic\" lengthAdjust=\"spacingAndGlyphs\" textLength=\"69\" x=\"122.5\" y=\"163.1387\">«attribute»</text><text fill=\"#000000\" font-family=\"sans-serif\" font-size=\"12\" lengthAdjust=\"spacingAndGlyphs\" textLength=\"243\" x=\"35.5\" y=\"177.1074\">tensorQuantities: TensorQuantityValue</text><line style=\"stroke: #383838; stroke-width: 1.5;\" x1=\"33.5\" x2=\"280.5\" y1=\"184.9375\" y2=\"184.9375\"/></a><!--MD5=[09b614a08d8cba4a07c9adeb5e0fee81]\n",
       "class E3--><a href=\"psysml:88455055-d217-4a9f-96e6-c531cf1f5b6c\" target=\"_top\" title=\"psysml:88455055-d217-4a9f-96e6-c531cf1f5b6c\" xlink:actuate=\"onRequest\" xlink:href=\"psysml:88455055-d217-4a9f-96e6-c531cf1f5b6c\" xlink:show=\"new\" xlink:title=\"psysml:88455055-d217-4a9f-96e6-c531cf1f5b6c\" xlink:type=\"simple\"><rect fill=\"#FFFFFF\" height=\"45.9375\" id=\"E3\" rx=\"10\" ry=\"10\" style=\"stroke: #383838; stroke-width: 1.5;\" width=\"71\" x=\"121.5\" y=\"41\"/><text fill=\"#000000\" font-family=\"sans-serif\" font-size=\"12\" font-style=\"italic\" lengthAdjust=\"spacingAndGlyphs\" textLength=\"69\" x=\"122.5\" y=\"57.1387\">«attribute»</text><text fill=\"#000000\" font-family=\"sans-serif\" font-size=\"12\" lengthAdjust=\"spacingAndGlyphs\" textLength=\"8\" x=\"153\" y=\"71.1074\">q</text><line style=\"stroke: #383838; stroke-width: 1.5;\" x1=\"122.5\" x2=\"191.5\" y1=\"78.9375\" y2=\"78.9375\"/></a><!--MD5=[05d275557350bfb9b23a4ef7222b4c39]\n",
       "link E3 to E2--><a href=\"psysml:11b4979a-79b0-4e55-825e-341a26faa927\" target=\"_top\" title=\"psysml:11b4979a-79b0-4e55-825e-341a26faa927\" xlink:actuate=\"onRequest\" xlink:href=\"psysml:11b4979a-79b0-4e55-825e-341a26faa927\" xlink:show=\"new\" xlink:title=\"psysml:11b4979a-79b0-4e55-825e-341a26faa927\" xlink:type=\"simple\"><path d=\"M157,87.06 C157,98.64 157,113.23 157,126.87 \" fill=\"none\" id=\"E3-&gt;E2\" style=\"stroke: #383838; stroke-width: 1.0;\"/><polygon fill=\"none\" points=\"164,126.98,157,146.98,150,126.98,164,126.98\" style=\"stroke: #383838; stroke-width: 1.0;\"/></a><!--MD5=[5ef6f757bd972edc8ccc8bfc391fc5b5]\n",
       "@startuml\r\n",
       "top to bottom direction\r\n",
       "skinparam monochrome true\r\n",
       "skinparam classbackgroundcolor white\r\n",
       "skinparam shadowing false\r\n",
       "skinparam wrapWidth 300\r\n",
       "hide circle\r\n",
       "\r\n",
       "package \"QuantityTest\" as E1  [[psysml:f380021c-1a7c-453e-a474-5589714ddc4a ]]  {\r\n",
       "comp usage \"tensorQuantities: TensorQuantityValue\" as E2  <<(T,blue) attribute>> [[psysml:c5943d6b-e87d-4b1b-8731-2602b62da777 ]] {\r\n",
       "}\r\n",
       "comp usage \"q\" as E3  <<(T,blue) attribute>> [[psysml:88455055-d217-4a9f-96e6-c531cf1f5b6c ]] {\r\n",
       "}\r\n",
       "E3 - -|> E2 [[psysml:11b4979a-79b0-4e55-825e-341a26faa927 ]] \r\n",
       "}\r\n",
       "@enduml\r\n",
       "\n",
       "PlantUML version 1.2020.13(Sat Jun 13 12:26:38 UTC 2020)\n",
       "(EPL source distribution)\n",
       "Java Runtime: OpenJDK Runtime Environment\n",
       "JVM: OpenJDK 64-Bit Server VM\n",
       "Default Encoding: UTF-8\n",
       "Language: en\n",
       "Country: null\n",
       "--></g></svg>"
      ]
     },
     "execution_count": 50,
     "metadata": {},
     "output_type": "execute_result"
    }
   ],
   "source": [
    "%viz --style=\"TB\" --view=\"MIXED\" \"QuantityTest\""
   ]
  },
  {
   "cell_type": "code",
   "execution_count": 51,
   "id": "190b46e2",
   "metadata": {
    "execution": {
     "iopub.execute_input": "2021-06-30T09:22:08.954791Z",
     "iopub.status.busy": "2021-06-30T09:22:08.953861Z",
     "iopub.status.idle": "2021-06-30T09:22:08.979467Z",
     "shell.execute_reply": "2021-06-30T09:22:08.979111Z"
    }
   },
   "outputs": [
    {
     "data": {
      "image/svg+xml": [
       "<?xml version=\"1.0\" encoding=\"UTF-8\" standalone=\"no\"?><svg xmlns=\"http://www.w3.org/2000/svg\" xmlns:xlink=\"http://www.w3.org/1999/xlink\" contentScriptType=\"application/ecmascript\" contentStyleType=\"text/css\" height=\"221px\" preserveAspectRatio=\"none\" style=\"width:320px;height:221px;\" version=\"1.1\" viewBox=\"0 0 320 221\" width=\"320px\" zoomAndPan=\"magnify\"><defs/><g><!--MD5=[fbc87193dbaf4d95561dea2c320d4a47]\n",
       "cluster E1--><a href=\"psysml:f380021c-1a7c-453e-a474-5589714ddc4a\" target=\"_top\" title=\"psysml:f380021c-1a7c-453e-a474-5589714ddc4a\" xlink:actuate=\"onRequest\" xlink:href=\"psysml:f380021c-1a7c-453e-a474-5589714ddc4a\" xlink:show=\"new\" xlink:title=\"psysml:f380021c-1a7c-453e-a474-5589714ddc4a\" xlink:type=\"simple\"><polygon fill=\"#FFFFFF\" points=\"16,6,123,6,130,28.2969,298,28.2969,298,209,16,209,16,6\" style=\"stroke: #000000; stroke-width: 1.5;\"/><line style=\"stroke: #000000; stroke-width: 1.5;\" x1=\"16\" x2=\"130\" y1=\"28.2969\" y2=\"28.2969\"/><text fill=\"#000000\" font-family=\"sans-serif\" font-size=\"14\" font-weight=\"bold\" lengthAdjust=\"spacingAndGlyphs\" textLength=\"101\" x=\"20\" y=\"20.9951\">QuantityTest</text></a><!--MD5=[b4997ac47864f28c2f74865a473b2911]\n",
       "class E2--><a href=\"psysml:c5943d6b-e87d-4b1b-8731-2602b62da777\" target=\"_top\" title=\"psysml:c5943d6b-e87d-4b1b-8731-2602b62da777\" xlink:actuate=\"onRequest\" xlink:href=\"psysml:c5943d6b-e87d-4b1b-8731-2602b62da777\" xlink:show=\"new\" xlink:title=\"psysml:c5943d6b-e87d-4b1b-8731-2602b62da777\" xlink:type=\"simple\"><rect fill=\"#FFFFFF\" height=\"45.9375\" id=\"E2\" rx=\"10\" ry=\"10\" style=\"stroke: #383838; stroke-width: 1.5;\" width=\"249\" x=\"32.5\" y=\"147\"/><text fill=\"#000000\" font-family=\"sans-serif\" font-size=\"12\" font-style=\"italic\" lengthAdjust=\"spacingAndGlyphs\" textLength=\"69\" x=\"122.5\" y=\"163.1387\">«attribute»</text><text fill=\"#000000\" font-family=\"sans-serif\" font-size=\"12\" lengthAdjust=\"spacingAndGlyphs\" textLength=\"243\" x=\"35.5\" y=\"177.1074\">tensorQuantities: TensorQuantityValue</text><line style=\"stroke: #383838; stroke-width: 1.5;\" x1=\"33.5\" x2=\"280.5\" y1=\"184.9375\" y2=\"184.9375\"/></a><!--MD5=[09b614a08d8cba4a07c9adeb5e0fee81]\n",
       "class E3--><a href=\"psysml:88455055-d217-4a9f-96e6-c531cf1f5b6c\" target=\"_top\" title=\"psysml:88455055-d217-4a9f-96e6-c531cf1f5b6c\" xlink:actuate=\"onRequest\" xlink:href=\"psysml:88455055-d217-4a9f-96e6-c531cf1f5b6c\" xlink:show=\"new\" xlink:title=\"psysml:88455055-d217-4a9f-96e6-c531cf1f5b6c\" xlink:type=\"simple\"><rect fill=\"#FFFFFF\" height=\"45.9375\" id=\"E3\" rx=\"10\" ry=\"10\" style=\"stroke: #383838; stroke-width: 1.5;\" width=\"71\" x=\"121.5\" y=\"41\"/><text fill=\"#000000\" font-family=\"sans-serif\" font-size=\"12\" font-style=\"italic\" lengthAdjust=\"spacingAndGlyphs\" textLength=\"69\" x=\"122.5\" y=\"57.1387\">«attribute»</text><text fill=\"#000000\" font-family=\"sans-serif\" font-size=\"12\" lengthAdjust=\"spacingAndGlyphs\" textLength=\"8\" x=\"153\" y=\"71.1074\">q</text><line style=\"stroke: #383838; stroke-width: 1.5;\" x1=\"122.5\" x2=\"191.5\" y1=\"78.9375\" y2=\"78.9375\"/></a><!--MD5=[05d275557350bfb9b23a4ef7222b4c39]\n",
       "link E3 to E2--><a href=\"psysml:11b4979a-79b0-4e55-825e-341a26faa927\" target=\"_top\" title=\"psysml:11b4979a-79b0-4e55-825e-341a26faa927\" xlink:actuate=\"onRequest\" xlink:href=\"psysml:11b4979a-79b0-4e55-825e-341a26faa927\" xlink:show=\"new\" xlink:title=\"psysml:11b4979a-79b0-4e55-825e-341a26faa927\" xlink:type=\"simple\"><path d=\"M157,87 C157,87 157,126.68 157,126.68 \" fill=\"none\" id=\"E3-&gt;E2\" style=\"stroke: #383838; stroke-width: 1.0;\"/><polygon fill=\"none\" points=\"164,126.68,157,146.68,150,126.68,164,126.68\" style=\"stroke: #383838; stroke-width: 1.0;\"/></a><!--MD5=[188f697c3f6161ab6c99a3cbb8135bf7]\n",
       "@startuml\r\n",
       "skinparam linetype ortho\r\n",
       "skinparam monochrome true\r\n",
       "skinparam classbackgroundcolor white\r\n",
       "skinparam shadowing false\r\n",
       "skinparam wrapWidth 300\r\n",
       "hide circle\r\n",
       "\r\n",
       "package \"QuantityTest\" as E1  [[psysml:f380021c-1a7c-453e-a474-5589714ddc4a ]]  {\r\n",
       "comp usage \"tensorQuantities: TensorQuantityValue\" as E2  <<(T,blue) attribute>> [[psysml:c5943d6b-e87d-4b1b-8731-2602b62da777 ]] {\r\n",
       "}\r\n",
       "comp usage \"q\" as E3  <<(T,blue) attribute>> [[psysml:88455055-d217-4a9f-96e6-c531cf1f5b6c ]] {\r\n",
       "}\r\n",
       "E3 - -|> E2 [[psysml:11b4979a-79b0-4e55-825e-341a26faa927 ]] \r\n",
       "}\r\n",
       "@enduml\r\n",
       "\n",
       "PlantUML version 1.2020.13(Sat Jun 13 12:26:38 UTC 2020)\n",
       "(EPL source distribution)\n",
       "Java Runtime: OpenJDK Runtime Environment\n",
       "JVM: OpenJDK 64-Bit Server VM\n",
       "Default Encoding: UTF-8\n",
       "Language: en\n",
       "Country: null\n",
       "--></g></svg>"
      ]
     },
     "execution_count": 51,
     "metadata": {},
     "output_type": "execute_result"
    }
   ],
   "source": [
    "%viz --style=\"ORTHOLINE\" --view=\"Default\" \"QuantityTest\""
   ]
  },
  {
   "cell_type": "code",
   "execution_count": 52,
   "id": "a39d1d8b",
   "metadata": {
    "execution": {
     "iopub.execute_input": "2021-06-30T09:22:09.029762Z",
     "iopub.status.busy": "2021-06-30T09:22:09.029385Z",
     "iopub.status.idle": "2021-06-30T09:22:09.052722Z",
     "shell.execute_reply": "2021-06-30T09:22:09.052398Z"
    }
   },
   "outputs": [
    {
     "data": {
      "image/svg+xml": [
       "<?xml version=\"1.0\" encoding=\"UTF-8\" standalone=\"no\"?><svg xmlns=\"http://www.w3.org/2000/svg\" xmlns:xlink=\"http://www.w3.org/1999/xlink\" contentScriptType=\"application/ecmascript\" contentStyleType=\"text/css\" height=\"221px\" preserveAspectRatio=\"none\" style=\"width:320px;height:221px;\" version=\"1.1\" viewBox=\"0 0 320 221\" width=\"320px\" zoomAndPan=\"magnify\"><defs/><g><!--MD5=[fbc87193dbaf4d95561dea2c320d4a47]\n",
       "cluster E1--><a href=\"psysml:f380021c-1a7c-453e-a474-5589714ddc4a\" target=\"_top\" title=\"psysml:f380021c-1a7c-453e-a474-5589714ddc4a\" xlink:actuate=\"onRequest\" xlink:href=\"psysml:f380021c-1a7c-453e-a474-5589714ddc4a\" xlink:show=\"new\" xlink:title=\"psysml:f380021c-1a7c-453e-a474-5589714ddc4a\" xlink:type=\"simple\"><polygon fill=\"#FFFFFF\" points=\"16,6,123,6,130,28.2969,298,28.2969,298,209,16,209,16,6\" style=\"stroke: #000000; stroke-width: 1.5;\"/><line style=\"stroke: #000000; stroke-width: 1.5;\" x1=\"16\" x2=\"130\" y1=\"28.2969\" y2=\"28.2969\"/><text fill=\"#000000\" font-family=\"sans-serif\" font-size=\"14\" font-weight=\"bold\" lengthAdjust=\"spacingAndGlyphs\" textLength=\"101\" x=\"20\" y=\"20.9951\">QuantityTest</text></a><!--MD5=[b4997ac47864f28c2f74865a473b2911]\n",
       "class E2--><a href=\"psysml:c5943d6b-e87d-4b1b-8731-2602b62da777\" target=\"_top\" title=\"psysml:c5943d6b-e87d-4b1b-8731-2602b62da777\" xlink:actuate=\"onRequest\" xlink:href=\"psysml:c5943d6b-e87d-4b1b-8731-2602b62da777\" xlink:show=\"new\" xlink:title=\"psysml:c5943d6b-e87d-4b1b-8731-2602b62da777\" xlink:type=\"simple\"><rect fill=\"#FFFFFF\" height=\"45.9375\" id=\"E2\" rx=\"10\" ry=\"10\" style=\"stroke: #383838; stroke-width: 1.5;\" width=\"249\" x=\"32.5\" y=\"147\"/><text fill=\"#000000\" font-family=\"sans-serif\" font-size=\"12\" font-style=\"italic\" lengthAdjust=\"spacingAndGlyphs\" textLength=\"69\" x=\"122.5\" y=\"163.1387\">«attribute»</text><text fill=\"#000000\" font-family=\"sans-serif\" font-size=\"12\" lengthAdjust=\"spacingAndGlyphs\" textLength=\"243\" x=\"35.5\" y=\"177.1074\">tensorQuantities: TensorQuantityValue</text><line style=\"stroke: #383838; stroke-width: 1.5;\" x1=\"33.5\" x2=\"280.5\" y1=\"184.9375\" y2=\"184.9375\"/></a><!--MD5=[09b614a08d8cba4a07c9adeb5e0fee81]\n",
       "class E3--><a href=\"psysml:88455055-d217-4a9f-96e6-c531cf1f5b6c\" target=\"_top\" title=\"psysml:88455055-d217-4a9f-96e6-c531cf1f5b6c\" xlink:actuate=\"onRequest\" xlink:href=\"psysml:88455055-d217-4a9f-96e6-c531cf1f5b6c\" xlink:show=\"new\" xlink:title=\"psysml:88455055-d217-4a9f-96e6-c531cf1f5b6c\" xlink:type=\"simple\"><rect fill=\"#FFFFFF\" height=\"45.9375\" id=\"E3\" rx=\"10\" ry=\"10\" style=\"stroke: #383838; stroke-width: 1.5;\" width=\"71\" x=\"121.5\" y=\"41\"/><text fill=\"#000000\" font-family=\"sans-serif\" font-size=\"12\" font-style=\"italic\" lengthAdjust=\"spacingAndGlyphs\" textLength=\"69\" x=\"122.5\" y=\"57.1387\">«attribute»</text><text fill=\"#000000\" font-family=\"sans-serif\" font-size=\"12\" lengthAdjust=\"spacingAndGlyphs\" textLength=\"8\" x=\"153\" y=\"71.1074\">q</text><line style=\"stroke: #383838; stroke-width: 1.5;\" x1=\"122.5\" x2=\"191.5\" y1=\"78.9375\" y2=\"78.9375\"/></a><!--MD5=[05d275557350bfb9b23a4ef7222b4c39]\n",
       "link E3 to E2--><a href=\"psysml:11b4979a-79b0-4e55-825e-341a26faa927\" target=\"_top\" title=\"psysml:11b4979a-79b0-4e55-825e-341a26faa927\" xlink:actuate=\"onRequest\" xlink:href=\"psysml:11b4979a-79b0-4e55-825e-341a26faa927\" xlink:show=\"new\" xlink:title=\"psysml:11b4979a-79b0-4e55-825e-341a26faa927\" xlink:type=\"simple\"><path d=\"M157,87 C157,87 157,126.68 157,126.68 \" fill=\"none\" id=\"E3-&gt;E2\" style=\"stroke: #383838; stroke-width: 1.0;\"/><polygon fill=\"none\" points=\"164,126.68,157,146.68,150,126.68,164,126.68\" style=\"stroke: #383838; stroke-width: 1.0;\"/></a><!--MD5=[188f697c3f6161ab6c99a3cbb8135bf7]\n",
       "@startuml\r\n",
       "skinparam linetype ortho\r\n",
       "skinparam monochrome true\r\n",
       "skinparam classbackgroundcolor white\r\n",
       "skinparam shadowing false\r\n",
       "skinparam wrapWidth 300\r\n",
       "hide circle\r\n",
       "\r\n",
       "package \"QuantityTest\" as E1  [[psysml:f380021c-1a7c-453e-a474-5589714ddc4a ]]  {\r\n",
       "comp usage \"tensorQuantities: TensorQuantityValue\" as E2  <<(T,blue) attribute>> [[psysml:c5943d6b-e87d-4b1b-8731-2602b62da777 ]] {\r\n",
       "}\r\n",
       "comp usage \"q\" as E3  <<(T,blue) attribute>> [[psysml:88455055-d217-4a9f-96e6-c531cf1f5b6c ]] {\r\n",
       "}\r\n",
       "E3 - -|> E2 [[psysml:11b4979a-79b0-4e55-825e-341a26faa927 ]] \r\n",
       "}\r\n",
       "@enduml\r\n",
       "\n",
       "PlantUML version 1.2020.13(Sat Jun 13 12:26:38 UTC 2020)\n",
       "(EPL source distribution)\n",
       "Java Runtime: OpenJDK Runtime Environment\n",
       "JVM: OpenJDK 64-Bit Server VM\n",
       "Default Encoding: UTF-8\n",
       "Language: en\n",
       "Country: null\n",
       "--></g></svg>"
      ]
     },
     "execution_count": 52,
     "metadata": {},
     "output_type": "execute_result"
    }
   ],
   "source": [
    "%viz --style=\"ORTHOLINE\" --view=\"Tree\" \"QuantityTest\""
   ]
  },
  {
   "cell_type": "code",
   "execution_count": 53,
   "id": "9a5405d0",
   "metadata": {
    "execution": {
     "iopub.execute_input": "2021-06-30T09:22:09.103628Z",
     "iopub.status.busy": "2021-06-30T09:22:09.102943Z",
     "iopub.status.idle": "2021-06-30T09:22:09.113973Z",
     "shell.execute_reply": "2021-06-30T09:22:09.113629Z"
    }
   },
   "outputs": [
    {
     "data": {
      "image/svg+xml": [
       "<?xml version=\"1.0\" encoding=\"UTF-8\" standalone=\"no\"?><svg xmlns=\"http://www.w3.org/2000/svg\" xmlns:xlink=\"http://www.w3.org/1999/xlink\" contentScriptType=\"application/ecmascript\" contentStyleType=\"text/css\" height=\"12px\" preserveAspectRatio=\"none\" style=\"width:12px;height:12px;\" version=\"1.1\" viewBox=\"0 0 12 12\" width=\"12px\" zoomAndPan=\"magnify\"><defs/><g><!--MD5=[97d6f38768b311333d388e66b2b27985]\n",
       "@startuml\r\n",
       "skinparam linetype ortho\r\n",
       "skinparam monochrome true\r\n",
       "skinparam classbackgroundcolor white\r\n",
       "skinparam shadowing false\r\n",
       "skinparam wrapWidth 300\r\n",
       "hide circle\r\n",
       "\r\n",
       "@enduml\r\n",
       "\n",
       "PlantUML version 1.2020.13(Sat Jun 13 12:26:38 UTC 2020)\n",
       "(EPL source distribution)\n",
       "Java Runtime: OpenJDK Runtime Environment\n",
       "JVM: OpenJDK 64-Bit Server VM\n",
       "Default Encoding: UTF-8\n",
       "Language: en\n",
       "Country: null\n",
       "--></g></svg>"
      ]
     },
     "execution_count": 53,
     "metadata": {},
     "output_type": "execute_result"
    }
   ],
   "source": [
    "%viz --style=\"ORTHOLINE\" --view=\"State\" \"QuantityTest\""
   ]
  },
  {
   "cell_type": "code",
   "execution_count": 54,
   "id": "89c231ae",
   "metadata": {
    "execution": {
     "iopub.execute_input": "2021-06-30T09:22:09.165626Z",
     "iopub.status.busy": "2021-06-30T09:22:09.164994Z",
     "iopub.status.idle": "2021-06-30T09:22:09.189460Z",
     "shell.execute_reply": "2021-06-30T09:22:09.189870Z"
    }
   },
   "outputs": [
    {
     "data": {
      "image/svg+xml": [
       "<?xml version=\"1.0\" encoding=\"UTF-8\" standalone=\"no\"?><svg xmlns=\"http://www.w3.org/2000/svg\" xmlns:xlink=\"http://www.w3.org/1999/xlink\" contentScriptType=\"application/ecmascript\" contentStyleType=\"text/css\" height=\"171px\" preserveAspectRatio=\"none\" style=\"width:320px;height:171px;\" version=\"1.1\" viewBox=\"0 0 320 171\" width=\"320px\" zoomAndPan=\"magnify\"><defs/><g><!--MD5=[fbc87193dbaf4d95561dea2c320d4a47]\n",
       "cluster E1--><a href=\"psysml:f380021c-1a7c-453e-a474-5589714ddc4a\" target=\"_top\" title=\"psysml:f380021c-1a7c-453e-a474-5589714ddc4a\" xlink:actuate=\"onRequest\" xlink:href=\"psysml:f380021c-1a7c-453e-a474-5589714ddc4a\" xlink:show=\"new\" xlink:title=\"psysml:f380021c-1a7c-453e-a474-5589714ddc4a\" xlink:type=\"simple\"><polygon fill=\"#FFFFFF\" points=\"16,6,123,6,130,28.2969,298,28.2969,298,159,16,159,16,6\" style=\"stroke: #000000; stroke-width: 1.5;\"/><line style=\"stroke: #000000; stroke-width: 1.5;\" x1=\"16\" x2=\"130\" y1=\"28.2969\" y2=\"28.2969\"/><text fill=\"#000000\" font-family=\"sans-serif\" font-size=\"14\" font-weight=\"bold\" lengthAdjust=\"spacingAndGlyphs\" textLength=\"101\" x=\"20\" y=\"20.9951\">QuantityTest</text></a><!--MD5=[b4997ac47864f28c2f74865a473b2911]\n",
       "class E2--><a href=\"psysml:c5943d6b-e87d-4b1b-8731-2602b62da777\" target=\"_top\" title=\"psysml:c5943d6b-e87d-4b1b-8731-2602b62da777\" xlink:actuate=\"onRequest\" xlink:href=\"psysml:c5943d6b-e87d-4b1b-8731-2602b62da777\" xlink:show=\"new\" xlink:title=\"psysml:c5943d6b-e87d-4b1b-8731-2602b62da777\" xlink:type=\"simple\"><rect fill=\"#FFFFFF\" height=\"45.9375\" id=\"E2\" rx=\"10\" ry=\"10\" style=\"stroke: #383838; stroke-width: 1.5;\" width=\"249\" x=\"32.5\" y=\"97\"/><text fill=\"#000000\" font-family=\"sans-serif\" font-size=\"12\" font-style=\"italic\" lengthAdjust=\"spacingAndGlyphs\" textLength=\"69\" x=\"122.5\" y=\"113.1387\">«attribute»</text><text fill=\"#000000\" font-family=\"sans-serif\" font-size=\"12\" lengthAdjust=\"spacingAndGlyphs\" textLength=\"243\" x=\"35.5\" y=\"127.1074\">tensorQuantities: TensorQuantityValue</text><line style=\"stroke: #383838; stroke-width: 1.5;\" x1=\"33.5\" x2=\"280.5\" y1=\"134.9375\" y2=\"134.9375\"/></a><!--MD5=[09b614a08d8cba4a07c9adeb5e0fee81]\n",
       "class E3--><a href=\"psysml:88455055-d217-4a9f-96e6-c531cf1f5b6c\" target=\"_top\" title=\"psysml:88455055-d217-4a9f-96e6-c531cf1f5b6c\" xlink:actuate=\"onRequest\" xlink:href=\"psysml:88455055-d217-4a9f-96e6-c531cf1f5b6c\" xlink:show=\"new\" xlink:title=\"psysml:88455055-d217-4a9f-96e6-c531cf1f5b6c\" xlink:type=\"simple\"><rect fill=\"#FFFFFF\" height=\"45.9375\" id=\"E3\" rx=\"10\" ry=\"10\" style=\"stroke: #383838; stroke-width: 1.5;\" width=\"71\" x=\"121.5\" y=\"41\"/><text fill=\"#000000\" font-family=\"sans-serif\" font-size=\"12\" font-style=\"italic\" lengthAdjust=\"spacingAndGlyphs\" textLength=\"69\" x=\"122.5\" y=\"57.1387\">«attribute»</text><text fill=\"#000000\" font-family=\"sans-serif\" font-size=\"12\" lengthAdjust=\"spacingAndGlyphs\" textLength=\"8\" x=\"153\" y=\"71.1074\">q</text><line style=\"stroke: #383838; stroke-width: 1.5;\" x1=\"122.5\" x2=\"191.5\" y1=\"78.9375\" y2=\"78.9375\"/></a><!--MD5=[05d275557350bfb9b23a4ef7222b4c39]\n",
       "link E3 to E2--><a href=\"psysml:11b4979a-79b0-4e55-825e-341a26faa927\" target=\"_top\" title=\"psysml:11b4979a-79b0-4e55-825e-341a26faa927\" xlink:actuate=\"onRequest\" xlink:href=\"psysml:11b4979a-79b0-4e55-825e-341a26faa927\" xlink:show=\"new\" xlink:title=\"psysml:11b4979a-79b0-4e55-825e-341a26faa927\" xlink:type=\"simple\"><path d=\"M157,87.1 C157,87.1 157,88.09 157,88.09 \" fill=\"none\" id=\"E3-&gt;E2\" style=\"stroke: #383838; stroke-width: 1.0;\"/><polygon fill=\"none\" points=\"164,76.95,157,96.95,150,76.95,164,76.95\" style=\"stroke: #383838; stroke-width: 1.0;\"/></a><!--MD5=[3e967a871494d2eabaf63e672c03154a]\n",
       "@startuml\r\n",
       "skinparam ranksep 10\r\n",
       "skinparam rectangle {\r\n",
       " backgroundColor<<block>> LightGreen\r\n",
       "}\r\n",
       "skinparam linetype ortho\r\n",
       "skinparam monochrome true\r\n",
       "skinparam classbackgroundcolor white\r\n",
       "skinparam shadowing false\r\n",
       "skinparam wrapWidth 300\r\n",
       "hide circle\r\n",
       "\r\n",
       "package \"QuantityTest\" as E1  [[psysml:f380021c-1a7c-453e-a474-5589714ddc4a ]]  {\r\n",
       "comp usage \"tensorQuantities: TensorQuantityValue\" as E2  <<(T,blue) attribute>> [[psysml:c5943d6b-e87d-4b1b-8731-2602b62da777 ]] {\r\n",
       "}\r\n",
       "comp usage \"q\" as E3  <<(T,blue) attribute>> [[psysml:88455055-d217-4a9f-96e6-c531cf1f5b6c ]] {\r\n",
       "}\r\n",
       "E3 - -|> E2 [[psysml:11b4979a-79b0-4e55-825e-341a26faa927 ]] \r\n",
       "}\r\n",
       "@enduml\r\n",
       "\n",
       "PlantUML version 1.2020.13(Sat Jun 13 12:26:38 UTC 2020)\n",
       "(EPL source distribution)\n",
       "Java Runtime: OpenJDK Runtime Environment\n",
       "JVM: OpenJDK 64-Bit Server VM\n",
       "Default Encoding: UTF-8\n",
       "Language: en\n",
       "Country: null\n",
       "--></g></svg>"
      ]
     },
     "execution_count": 54,
     "metadata": {},
     "output_type": "execute_result"
    }
   ],
   "source": [
    "%viz --style=\"ORTHOLINE\" --view=\"Interconnection\" \"QuantityTest\""
   ]
  },
  {
   "cell_type": "code",
   "execution_count": 55,
   "id": "9655c0a1",
   "metadata": {
    "execution": {
     "iopub.execute_input": "2021-06-30T09:22:09.240419Z",
     "iopub.status.busy": "2021-06-30T09:22:09.240071Z",
     "iopub.status.idle": "2021-06-30T09:22:09.245617Z",
     "shell.execute_reply": "2021-06-30T09:22:09.245291Z"
    }
   },
   "outputs": [
    {
     "data": {
      "image/svg+xml": [
       "<?xml version=\"1.0\" encoding=\"UTF-8\" standalone=\"no\"?><svg xmlns=\"http://www.w3.org/2000/svg\" xmlns:xlink=\"http://www.w3.org/1999/xlink\" contentScriptType=\"application/ecmascript\" contentStyleType=\"text/css\" height=\"12px\" preserveAspectRatio=\"none\" style=\"width:12px;height:12px;\" version=\"1.1\" viewBox=\"0 0 12 12\" width=\"12px\" zoomAndPan=\"magnify\"><defs/><g><!--MD5=[72934c63077099a26744516a776b4749]\n",
       "@startuml\r\n",
       "skinparam ranksep 8\r\n",
       "skinparam linetype ortho\r\n",
       "skinparam monochrome true\r\n",
       "skinparam classbackgroundcolor white\r\n",
       "skinparam shadowing false\r\n",
       "skinparam wrapWidth 300\r\n",
       "hide circle\r\n",
       "\r\n",
       "@enduml\r\n",
       "\n",
       "PlantUML version 1.2020.13(Sat Jun 13 12:26:38 UTC 2020)\n",
       "(EPL source distribution)\n",
       "Java Runtime: OpenJDK Runtime Environment\n",
       "JVM: OpenJDK 64-Bit Server VM\n",
       "Default Encoding: UTF-8\n",
       "Language: en\n",
       "Country: null\n",
       "--></g></svg>"
      ]
     },
     "execution_count": 55,
     "metadata": {},
     "output_type": "execute_result"
    }
   ],
   "source": [
    "%viz --style=\"ORTHOLINE\" --view=\"Action\" \"QuantityTest\""
   ]
  },
  {
   "cell_type": "code",
   "execution_count": 56,
   "id": "6f214f67",
   "metadata": {
    "execution": {
     "iopub.execute_input": "2021-06-30T09:22:09.296870Z",
     "iopub.status.busy": "2021-06-30T09:22:09.296419Z",
     "iopub.status.idle": "2021-06-30T09:22:09.320768Z",
     "shell.execute_reply": "2021-06-30T09:22:09.320453Z"
    }
   },
   "outputs": [
    {
     "data": {
      "image/svg+xml": [
       "<?xml version=\"1.0\" encoding=\"UTF-8\" standalone=\"no\"?><svg xmlns=\"http://www.w3.org/2000/svg\" xmlns:xlink=\"http://www.w3.org/1999/xlink\" contentScriptType=\"application/ecmascript\" contentStyleType=\"text/css\" height=\"221px\" preserveAspectRatio=\"none\" style=\"width:320px;height:221px;\" version=\"1.1\" viewBox=\"0 0 320 221\" width=\"320px\" zoomAndPan=\"magnify\"><defs/><g><!--MD5=[fbc87193dbaf4d95561dea2c320d4a47]\n",
       "cluster E1--><a href=\"psysml:f380021c-1a7c-453e-a474-5589714ddc4a\" target=\"_top\" title=\"psysml:f380021c-1a7c-453e-a474-5589714ddc4a\" xlink:actuate=\"onRequest\" xlink:href=\"psysml:f380021c-1a7c-453e-a474-5589714ddc4a\" xlink:show=\"new\" xlink:title=\"psysml:f380021c-1a7c-453e-a474-5589714ddc4a\" xlink:type=\"simple\"><polygon fill=\"#FFFFFF\" points=\"16,6,123,6,130,28.2969,298,28.2969,298,209,16,209,16,6\" style=\"stroke: #000000; stroke-width: 1.5;\"/><line style=\"stroke: #000000; stroke-width: 1.5;\" x1=\"16\" x2=\"130\" y1=\"28.2969\" y2=\"28.2969\"/><text fill=\"#000000\" font-family=\"sans-serif\" font-size=\"14\" font-weight=\"bold\" lengthAdjust=\"spacingAndGlyphs\" textLength=\"101\" x=\"20\" y=\"20.9951\">QuantityTest</text></a><!--MD5=[b4997ac47864f28c2f74865a473b2911]\n",
       "class E2--><a href=\"psysml:c5943d6b-e87d-4b1b-8731-2602b62da777\" target=\"_top\" title=\"psysml:c5943d6b-e87d-4b1b-8731-2602b62da777\" xlink:actuate=\"onRequest\" xlink:href=\"psysml:c5943d6b-e87d-4b1b-8731-2602b62da777\" xlink:show=\"new\" xlink:title=\"psysml:c5943d6b-e87d-4b1b-8731-2602b62da777\" xlink:type=\"simple\"><rect fill=\"#FFFFFF\" height=\"45.9375\" id=\"E2\" rx=\"10\" ry=\"10\" style=\"stroke: #383838; stroke-width: 1.5;\" width=\"249\" x=\"32.5\" y=\"147\"/><text fill=\"#000000\" font-family=\"sans-serif\" font-size=\"12\" font-style=\"italic\" lengthAdjust=\"spacingAndGlyphs\" textLength=\"69\" x=\"122.5\" y=\"163.1387\">«attribute»</text><text fill=\"#000000\" font-family=\"sans-serif\" font-size=\"12\" lengthAdjust=\"spacingAndGlyphs\" textLength=\"243\" x=\"35.5\" y=\"177.1074\">tensorQuantities: TensorQuantityValue</text><line style=\"stroke: #383838; stroke-width: 1.5;\" x1=\"33.5\" x2=\"280.5\" y1=\"184.9375\" y2=\"184.9375\"/></a><!--MD5=[09b614a08d8cba4a07c9adeb5e0fee81]\n",
       "class E3--><a href=\"psysml:88455055-d217-4a9f-96e6-c531cf1f5b6c\" target=\"_top\" title=\"psysml:88455055-d217-4a9f-96e6-c531cf1f5b6c\" xlink:actuate=\"onRequest\" xlink:href=\"psysml:88455055-d217-4a9f-96e6-c531cf1f5b6c\" xlink:show=\"new\" xlink:title=\"psysml:88455055-d217-4a9f-96e6-c531cf1f5b6c\" xlink:type=\"simple\"><rect fill=\"#FFFFFF\" height=\"45.9375\" id=\"E3\" rx=\"10\" ry=\"10\" style=\"stroke: #383838; stroke-width: 1.5;\" width=\"71\" x=\"121.5\" y=\"41\"/><text fill=\"#000000\" font-family=\"sans-serif\" font-size=\"12\" font-style=\"italic\" lengthAdjust=\"spacingAndGlyphs\" textLength=\"69\" x=\"122.5\" y=\"57.1387\">«attribute»</text><text fill=\"#000000\" font-family=\"sans-serif\" font-size=\"12\" lengthAdjust=\"spacingAndGlyphs\" textLength=\"8\" x=\"153\" y=\"71.1074\">q</text><line style=\"stroke: #383838; stroke-width: 1.5;\" x1=\"122.5\" x2=\"191.5\" y1=\"78.9375\" y2=\"78.9375\"/></a><!--MD5=[05d275557350bfb9b23a4ef7222b4c39]\n",
       "link E3 to E2--><a href=\"psysml:11b4979a-79b0-4e55-825e-341a26faa927\" target=\"_top\" title=\"psysml:11b4979a-79b0-4e55-825e-341a26faa927\" xlink:actuate=\"onRequest\" xlink:href=\"psysml:11b4979a-79b0-4e55-825e-341a26faa927\" xlink:show=\"new\" xlink:title=\"psysml:11b4979a-79b0-4e55-825e-341a26faa927\" xlink:type=\"simple\"><path d=\"M157,87 C157,87 157,126.68 157,126.68 \" fill=\"none\" id=\"E3-&gt;E2\" style=\"stroke: #383838; stroke-width: 1.0;\"/><polygon fill=\"none\" points=\"164,126.68,157,146.68,150,126.68,164,126.68\" style=\"stroke: #383838; stroke-width: 1.0;\"/></a><!--MD5=[188f697c3f6161ab6c99a3cbb8135bf7]\n",
       "@startuml\r\n",
       "skinparam linetype ortho\r\n",
       "skinparam monochrome true\r\n",
       "skinparam classbackgroundcolor white\r\n",
       "skinparam shadowing false\r\n",
       "skinparam wrapWidth 300\r\n",
       "hide circle\r\n",
       "\r\n",
       "package \"QuantityTest\" as E1  [[psysml:f380021c-1a7c-453e-a474-5589714ddc4a ]]  {\r\n",
       "comp usage \"tensorQuantities: TensorQuantityValue\" as E2  <<(T,blue) attribute>> [[psysml:c5943d6b-e87d-4b1b-8731-2602b62da777 ]] {\r\n",
       "}\r\n",
       "comp usage \"q\" as E3  <<(T,blue) attribute>> [[psysml:88455055-d217-4a9f-96e6-c531cf1f5b6c ]] {\r\n",
       "}\r\n",
       "E3 - -|> E2 [[psysml:11b4979a-79b0-4e55-825e-341a26faa927 ]] \r\n",
       "}\r\n",
       "@enduml\r\n",
       "\n",
       "PlantUML version 1.2020.13(Sat Jun 13 12:26:38 UTC 2020)\n",
       "(EPL source distribution)\n",
       "Java Runtime: OpenJDK Runtime Environment\n",
       "JVM: OpenJDK 64-Bit Server VM\n",
       "Default Encoding: UTF-8\n",
       "Language: en\n",
       "Country: null\n",
       "--></g></svg>"
      ]
     },
     "execution_count": 56,
     "metadata": {},
     "output_type": "execute_result"
    }
   ],
   "source": [
    "%viz --style=\"ORTHOLINE\" --view=\"Sequence\" \"QuantityTest\""
   ]
  },
  {
   "cell_type": "code",
   "execution_count": 57,
   "id": "f57a06c1",
   "metadata": {
    "execution": {
     "iopub.execute_input": "2021-06-30T09:22:09.373063Z",
     "iopub.status.busy": "2021-06-30T09:22:09.371146Z",
     "iopub.status.idle": "2021-06-30T09:22:09.405538Z",
     "shell.execute_reply": "2021-06-30T09:22:09.405200Z"
    }
   },
   "outputs": [
    {
     "data": {
      "image/svg+xml": [
       "<?xml version=\"1.0\" encoding=\"UTF-8\" standalone=\"no\"?><svg xmlns=\"http://www.w3.org/2000/svg\" xmlns:xlink=\"http://www.w3.org/1999/xlink\" contentScriptType=\"application/ecmascript\" contentStyleType=\"text/css\" height=\"221px\" preserveAspectRatio=\"none\" style=\"width:320px;height:221px;\" version=\"1.1\" viewBox=\"0 0 320 221\" width=\"320px\" zoomAndPan=\"magnify\"><defs/><g><!--MD5=[fbc87193dbaf4d95561dea2c320d4a47]\n",
       "cluster E1--><a href=\"psysml:f380021c-1a7c-453e-a474-5589714ddc4a\" target=\"_top\" title=\"psysml:f380021c-1a7c-453e-a474-5589714ddc4a\" xlink:actuate=\"onRequest\" xlink:href=\"psysml:f380021c-1a7c-453e-a474-5589714ddc4a\" xlink:show=\"new\" xlink:title=\"psysml:f380021c-1a7c-453e-a474-5589714ddc4a\" xlink:type=\"simple\"><polygon fill=\"#FFFFFF\" points=\"16,6,123,6,130,28.2969,298,28.2969,298,209,16,209,16,6\" style=\"stroke: #000000; stroke-width: 1.5;\"/><line style=\"stroke: #000000; stroke-width: 1.5;\" x1=\"16\" x2=\"130\" y1=\"28.2969\" y2=\"28.2969\"/><text fill=\"#000000\" font-family=\"sans-serif\" font-size=\"14\" font-weight=\"bold\" lengthAdjust=\"spacingAndGlyphs\" textLength=\"101\" x=\"20\" y=\"20.9951\">QuantityTest</text></a><!--MD5=[b4997ac47864f28c2f74865a473b2911]\n",
       "class E2--><a href=\"psysml:c5943d6b-e87d-4b1b-8731-2602b62da777\" target=\"_top\" title=\"psysml:c5943d6b-e87d-4b1b-8731-2602b62da777\" xlink:actuate=\"onRequest\" xlink:href=\"psysml:c5943d6b-e87d-4b1b-8731-2602b62da777\" xlink:show=\"new\" xlink:title=\"psysml:c5943d6b-e87d-4b1b-8731-2602b62da777\" xlink:type=\"simple\"><rect fill=\"#FFFFFF\" height=\"45.9375\" id=\"E2\" rx=\"10\" ry=\"10\" style=\"stroke: #383838; stroke-width: 1.5;\" width=\"249\" x=\"32.5\" y=\"147\"/><text fill=\"#000000\" font-family=\"sans-serif\" font-size=\"12\" font-style=\"italic\" lengthAdjust=\"spacingAndGlyphs\" textLength=\"69\" x=\"122.5\" y=\"163.1387\">«attribute»</text><text fill=\"#000000\" font-family=\"sans-serif\" font-size=\"12\" lengthAdjust=\"spacingAndGlyphs\" textLength=\"243\" x=\"35.5\" y=\"177.1074\">tensorQuantities: TensorQuantityValue</text><line style=\"stroke: #383838; stroke-width: 1.5;\" x1=\"33.5\" x2=\"280.5\" y1=\"184.9375\" y2=\"184.9375\"/></a><!--MD5=[09b614a08d8cba4a07c9adeb5e0fee81]\n",
       "class E3--><a href=\"psysml:88455055-d217-4a9f-96e6-c531cf1f5b6c\" target=\"_top\" title=\"psysml:88455055-d217-4a9f-96e6-c531cf1f5b6c\" xlink:actuate=\"onRequest\" xlink:href=\"psysml:88455055-d217-4a9f-96e6-c531cf1f5b6c\" xlink:show=\"new\" xlink:title=\"psysml:88455055-d217-4a9f-96e6-c531cf1f5b6c\" xlink:type=\"simple\"><rect fill=\"#FFFFFF\" height=\"45.9375\" id=\"E3\" rx=\"10\" ry=\"10\" style=\"stroke: #383838; stroke-width: 1.5;\" width=\"71\" x=\"121.5\" y=\"41\"/><text fill=\"#000000\" font-family=\"sans-serif\" font-size=\"12\" font-style=\"italic\" lengthAdjust=\"spacingAndGlyphs\" textLength=\"69\" x=\"122.5\" y=\"57.1387\">«attribute»</text><text fill=\"#000000\" font-family=\"sans-serif\" font-size=\"12\" lengthAdjust=\"spacingAndGlyphs\" textLength=\"8\" x=\"153\" y=\"71.1074\">q</text><line style=\"stroke: #383838; stroke-width: 1.5;\" x1=\"122.5\" x2=\"191.5\" y1=\"78.9375\" y2=\"78.9375\"/></a><!--MD5=[05d275557350bfb9b23a4ef7222b4c39]\n",
       "link E3 to E2--><a href=\"psysml:11b4979a-79b0-4e55-825e-341a26faa927\" target=\"_top\" title=\"psysml:11b4979a-79b0-4e55-825e-341a26faa927\" xlink:actuate=\"onRequest\" xlink:href=\"psysml:11b4979a-79b0-4e55-825e-341a26faa927\" xlink:show=\"new\" xlink:title=\"psysml:11b4979a-79b0-4e55-825e-341a26faa927\" xlink:type=\"simple\"><path d=\"M157,87 C157,87 157,126.68 157,126.68 \" fill=\"none\" id=\"E3-&gt;E2\" style=\"stroke: #383838; stroke-width: 1.0;\"/><polygon fill=\"none\" points=\"164,126.68,157,146.68,150,126.68,164,126.68\" style=\"stroke: #383838; stroke-width: 1.0;\"/></a><!--MD5=[188f697c3f6161ab6c99a3cbb8135bf7]\n",
       "@startuml\r\n",
       "skinparam linetype ortho\r\n",
       "skinparam monochrome true\r\n",
       "skinparam classbackgroundcolor white\r\n",
       "skinparam shadowing false\r\n",
       "skinparam wrapWidth 300\r\n",
       "hide circle\r\n",
       "\r\n",
       "package \"QuantityTest\" as E1  [[psysml:f380021c-1a7c-453e-a474-5589714ddc4a ]]  {\r\n",
       "comp usage \"tensorQuantities: TensorQuantityValue\" as E2  <<(T,blue) attribute>> [[psysml:c5943d6b-e87d-4b1b-8731-2602b62da777 ]] {\r\n",
       "}\r\n",
       "comp usage \"q\" as E3  <<(T,blue) attribute>> [[psysml:88455055-d217-4a9f-96e6-c531cf1f5b6c ]] {\r\n",
       "}\r\n",
       "E3 - -|> E2 [[psysml:11b4979a-79b0-4e55-825e-341a26faa927 ]] \r\n",
       "}\r\n",
       "@enduml\r\n",
       "\n",
       "PlantUML version 1.2020.13(Sat Jun 13 12:26:38 UTC 2020)\n",
       "(EPL source distribution)\n",
       "Java Runtime: OpenJDK Runtime Environment\n",
       "JVM: OpenJDK 64-Bit Server VM\n",
       "Default Encoding: UTF-8\n",
       "Language: en\n",
       "Country: null\n",
       "--></g></svg>"
      ]
     },
     "execution_count": 57,
     "metadata": {},
     "output_type": "execute_result"
    }
   ],
   "source": [
    "%viz --style=\"ORTHOLINE\" --view=\"MIXED\" \"QuantityTest\""
   ]
  }
 ],
 "metadata": {
  "kernelspec": {
   "display_name": "SysML",
   "language": "sysml",
   "name": "sysml"
  },
  "language_info": {
   "codemirror_mode": "sysml",
   "file_extension": ".sysml",
   "mimetype": "text/x-sysml",
   "name": "SysML",
   "pygments_lexer": "java",
   "version": "1.0.0"
  }
 },
 "nbformat": 4,
 "nbformat_minor": 5
}
