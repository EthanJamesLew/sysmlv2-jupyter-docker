{
 "cells": [
  {
   "cell_type": "markdown",
   "id": "6c5bec67",
   "metadata": {},
   "source": [
    "# SysML v2 Test Suite\n",
    "\n",
    "This can notebook can be cleared using menu `Edit --> Clear All Outputs` and then all cells can be\n",
    "run using menu `Run --> Run All Cells`.\n",
    "\n",
    "**WARNING**: This file is generated, all modifications here will be ignored.\n"
   ]
  },
  {
   "cell_type": "markdown",
   "id": "29b4e272",
   "metadata": {},
   "source": [
    "## File: ../../sysml/src/examples/Simple Tests/RequirementTest.sysml"
   ]
  },
  {
   "cell_type": "code",
   "execution_count": 1,
   "id": "dc8008d7",
   "metadata": {
    "execution": {
     "iopub.execute_input": "2021-10-25T08:21:10.116420Z",
     "iopub.status.busy": "2021-10-25T08:21:10.114978Z",
     "iopub.status.idle": "2021-10-25T08:21:10.640805Z",
     "shell.execute_reply": "2021-10-25T08:21:10.641154Z"
    }
   },
   "outputs": [
    {
     "data": {
      "text/plain": [
       "Package RequirementTest (6da992d3-a4a3-4c26-972f-cb59d7702d83)\n"
      ]
     },
     "execution_count": 1,
     "metadata": {},
     "output_type": "execute_result"
    }
   ],
   "source": [
    "package RequirementTest {\n",
    "\tconstraint def C;\n",
    "\tconstraint c : C;\n",
    "\timport q::**;\n",
    "\trequirement def R {\n",
    "\t\tassume constraint c1 : C;\n",
    "\t\trequire c;\n",
    "\t\tdoc /* */\n",
    "    \trequirement;\n",
    "    \trequirement def id '1' A {\n",
    "    \t\tdoc /* Text */\n",
    "    \t\tsubject s;\n",
    "    \t}\n",
    "\t}\n",
    "\trequirement def R1 {\n",
    "\t\trequire constraint c1 :>> c;\n",
    "\t}\n",
    "\tpart p;\n",
    "\tpart q {\n",
    "\t\trequirement r : R;\n",
    "\t\tsatisfy r by p;\n",
    "\t\tassert satisfy r by q;\n",
    "\t}\n",
    "\t\n",
    "\trequirement r1 : R1;\n",
    "\tnot satisfy r1 by p;\n",
    "\tassert not satisfy r1 by q;\n",
    "\t\n",
    "}"
   ]
  },
  {
   "cell_type": "code",
   "execution_count": 2,
   "id": "e0eeb937",
   "metadata": {
    "execution": {
     "iopub.execute_input": "2021-10-25T08:21:10.691040Z",
     "iopub.status.busy": "2021-10-25T08:21:10.690622Z",
     "iopub.status.idle": "2021-10-25T08:21:11.247363Z",
     "shell.execute_reply": "2021-10-25T08:21:11.246834Z"
    }
   },
   "outputs": [
    {
     "data": {
      "image/svg+xml": [
       "<?xml version=\"1.0\" encoding=\"UTF-8\" standalone=\"no\"?><svg xmlns=\"http://www.w3.org/2000/svg\" xmlns:xlink=\"http://www.w3.org/1999/xlink\" contentScriptType=\"application/ecmascript\" contentStyleType=\"text/css\" height=\"494px\" preserveAspectRatio=\"none\" style=\"width:475px;height:494px;\" version=\"1.1\" viewBox=\"0 0 475 494\" width=\"475px\" zoomAndPan=\"magnify\"><defs/><g><!--MD5=[fbc87193dbaf4d95561dea2c320d4a47]\n",
       "cluster E1--><a href=\"psysml:2a075407-fc8d-47b4-b4de-e1839d24b848\" target=\"_top\" title=\"psysml:2a075407-fc8d-47b4-b4de-e1839d24b848\" xlink:actuate=\"onRequest\" xlink:href=\"psysml:2a075407-fc8d-47b4-b4de-e1839d24b848\" xlink:show=\"new\" xlink:title=\"psysml:2a075407-fc8d-47b4-b4de-e1839d24b848\" xlink:type=\"simple\"><polygon fill=\"#FFFFFF\" points=\"16,6,143,6,150,28.2969,453,28.2969,453,482,16,482,16,6\" style=\"stroke: #000000; stroke-width: 1.5;\"/><line style=\"stroke: #000000; stroke-width: 1.5;\" x1=\"16\" x2=\"150\" y1=\"28.2969\" y2=\"28.2969\"/><text fill=\"#000000\" font-family=\"sans-serif\" font-size=\"14\" font-weight=\"bold\" lengthAdjust=\"spacingAndGlyphs\" textLength=\"121\" x=\"20\" y=\"20.9951\">RequirementTest</text></a><!--MD5=[b4997ac47864f28c2f74865a473b2911]\n",
       "class E2--><a href=\"psysml:8e8b9929-fb62-44f3-bb6e-73f88688eaf1\" target=\"_top\" title=\"psysml:8e8b9929-fb62-44f3-bb6e-73f88688eaf1\" xlink:actuate=\"onRequest\" xlink:href=\"psysml:8e8b9929-fb62-44f3-bb6e-73f88688eaf1\" xlink:show=\"new\" xlink:title=\"psysml:8e8b9929-fb62-44f3-bb6e-73f88688eaf1\" xlink:type=\"simple\"><rect fill=\"#FFFFFF\" height=\"45.9375\" id=\"E2\" style=\"stroke: #383838; stroke-width: 1.5;\" width=\"108\" x=\"329\" y=\"164\"/><text fill=\"#000000\" font-family=\"sans-serif\" font-size=\"12\" font-style=\"italic\" lengthAdjust=\"spacingAndGlyphs\" textLength=\"106\" x=\"330\" y=\"180.1387\">«constraint  def»</text><text fill=\"#000000\" font-family=\"sans-serif\" font-size=\"12\" lengthAdjust=\"spacingAndGlyphs\" textLength=\"8\" x=\"379\" y=\"194.1074\">C</text><line style=\"stroke: #383838; stroke-width: 1.5;\" x1=\"330\" x2=\"436\" y1=\"201.9375\" y2=\"201.9375\"/></a><!--MD5=[09b614a08d8cba4a07c9adeb5e0fee81]\n",
       "class E3--><a href=\"psysml:8dab2afb-478b-48f2-a7f7-bb2b245c05ea\" target=\"_top\" title=\"psysml:8dab2afb-478b-48f2-a7f7-bb2b245c05ea\" xlink:actuate=\"onRequest\" xlink:href=\"psysml:8dab2afb-478b-48f2-a7f7-bb2b245c05ea\" xlink:show=\"new\" xlink:title=\"psysml:8dab2afb-478b-48f2-a7f7-bb2b245c05ea\" xlink:type=\"simple\"><rect fill=\"#FFFFFF\" height=\"45.9375\" id=\"E3\" rx=\"10\" ry=\"10\" style=\"stroke: #383838; stroke-width: 1.5;\" width=\"80\" x=\"357\" y=\"41\"/><text fill=\"#000000\" font-family=\"sans-serif\" font-size=\"12\" font-style=\"italic\" lengthAdjust=\"spacingAndGlyphs\" textLength=\"78\" x=\"358\" y=\"57.1387\">«constraint»</text><text fill=\"#000000\" font-family=\"sans-serif\" font-size=\"12\" lengthAdjust=\"spacingAndGlyphs\" textLength=\"23\" x=\"383.5\" y=\"71.1074\">c: C</text><line style=\"stroke: #383838; stroke-width: 1.5;\" x1=\"358\" x2=\"436\" y1=\"78.9375\" y2=\"78.9375\"/></a><!--MD5=[ebbe1d658d1005bcc118a6aa81145e00]\n",
       "class E4--><a href=\"psysml:cae76f8a-948f-454f-8648-301efab5060e\" target=\"_top\" title=\"psysml:cae76f8a-948f-454f-8648-301efab5060e\" xlink:actuate=\"onRequest\" xlink:href=\"psysml:cae76f8a-948f-454f-8648-301efab5060e\" xlink:show=\"new\" xlink:title=\"psysml:cae76f8a-948f-454f-8648-301efab5060e\" xlink:type=\"simple\"><rect fill=\"#FFFFFF\" height=\"66.7422\" id=\"E4\" style=\"stroke: #383838; stroke-width: 1.5;\" width=\"121\" x=\"188.5\" y=\"271\"/><text fill=\"#000000\" font-family=\"sans-serif\" font-size=\"12\" font-style=\"italic\" lengthAdjust=\"spacingAndGlyphs\" textLength=\"119\" x=\"189.5\" y=\"287.1387\">«requirement  def»</text><text fill=\"#000000\" font-family=\"sans-serif\" font-size=\"12\" lengthAdjust=\"spacingAndGlyphs\" textLength=\"8\" x=\"245\" y=\"301.1074\">R</text><line style=\"stroke: #383838; stroke-width: 1.5;\" x1=\"189.5\" x2=\"308.5\" y1=\"308.9375\" y2=\"308.9375\"/><text fill=\"#000000\" font-family=\"sans-serif\" font-size=\"11\" lengthAdjust=\"spacingAndGlyphs\" textLength=\"0\" x=\"198.5\" y=\"323.1479\"/><line style=\"stroke: #383838; stroke-width: 1.0;\" x1=\"189.5\" x2=\"308.5\" y1=\"329.7422\" y2=\"329.7422\"/></a><!--MD5=[2156ba9850f5573cc1fc38a6a4b2f02b]\n",
       "class E7--><a href=\"psysml:70e6cc11-a878-4419-9a48-d32cb5df9816\" target=\"_top\" title=\"psysml:70e6cc11-a878-4419-9a48-d32cb5df9816\" xlink:actuate=\"onRequest\" xlink:href=\"psysml:70e6cc11-a878-4419-9a48-d32cb5df9816\" xlink:show=\"new\" xlink:title=\"psysml:70e6cc11-a878-4419-9a48-d32cb5df9816\" xlink:type=\"simple\"><rect fill=\"#FFFFFF\" height=\"45.9375\" id=\"E7\" rx=\"10\" ry=\"10\" style=\"stroke: #383838; stroke-width: 1.5;\" width=\"93\" x=\"144.5\" y=\"409.5\"/><text fill=\"#000000\" font-family=\"sans-serif\" font-size=\"12\" font-style=\"italic\" lengthAdjust=\"spacingAndGlyphs\" textLength=\"91\" x=\"145.5\" y=\"425.6387\">«requirement»</text><text fill=\"#000000\" font-family=\"sans-serif\" font-size=\"12\" lengthAdjust=\"spacingAndGlyphs\" text-decoration=\"line-through\" textLength=\"51\" x=\"165.5\" y=\"439.6074\">noname</text><line style=\"stroke: #383838; stroke-width: 1.5;\" x1=\"145.5\" x2=\"236.5\" y1=\"447.4375\" y2=\"447.4375\"/></a><!--MD5=[b9389687b975829384b498ac4b7476b2]\n",
       "class E8--><a href=\"psysml:5c5c4776-1d3a-4700-8516-1d3a67d779f4\" target=\"_top\" title=\"psysml:5c5c4776-1d3a-4700-8516-1d3a67d779f4\" xlink:actuate=\"onRequest\" xlink:href=\"psysml:5c5c4776-1d3a-4700-8516-1d3a67d779f4\" xlink:show=\"new\" xlink:title=\"psysml:5c5c4776-1d3a-4700-8516-1d3a67d779f4\" xlink:type=\"simple\"><rect fill=\"#FFFFFF\" height=\"66.7422\" id=\"E8\" style=\"stroke: #383838; stroke-width: 1.5;\" width=\"121\" x=\"272.5\" y=\"399\"/><text fill=\"#000000\" font-family=\"sans-serif\" font-size=\"12\" font-style=\"italic\" lengthAdjust=\"spacingAndGlyphs\" textLength=\"119\" x=\"273.5\" y=\"415.1387\">«requirement  def»</text><text fill=\"#000000\" font-family=\"sans-serif\" font-size=\"12\" lengthAdjust=\"spacingAndGlyphs\" textLength=\"5\" x=\"320\" y=\"429.1074\">[</text><text fill=\"#000000\" font-family=\"sans-serif\" font-size=\"12\" font-weight=\"bold\" lengthAdjust=\"spacingAndGlyphs\" textLength=\"8\" x=\"325\" y=\"429.1074\">1</text><text fill=\"#000000\" font-family=\"sans-serif\" font-size=\"12\" lengthAdjust=\"spacingAndGlyphs\" textLength=\"17\" x=\"333\" y=\"429.1074\">] A</text><line style=\"stroke: #383838; stroke-width: 1.5;\" x1=\"273.5\" x2=\"392.5\" y1=\"436.9375\" y2=\"436.9375\"/><text fill=\"#000000\" font-family=\"sans-serif\" font-size=\"11\" lengthAdjust=\"spacingAndGlyphs\" textLength=\"24\" x=\"278.5\" y=\"451.1479\">Text</text><line style=\"stroke: #383838; stroke-width: 1.0;\" x1=\"273.5\" x2=\"392.5\" y1=\"457.7422\" y2=\"457.7422\"/></a><!--MD5=[fd4143e9d270a159db93a4ea2a975926]\n",
       "class E9--><a href=\"psysml:f2fc2205-4b84-4313-b340-24ee025c15cf\" target=\"_top\" title=\"psysml:f2fc2205-4b84-4313-b340-24ee025c15cf\" xlink:actuate=\"onRequest\" xlink:href=\"psysml:f2fc2205-4b84-4313-b340-24ee025c15cf\" xlink:show=\"new\" xlink:title=\"psysml:f2fc2205-4b84-4313-b340-24ee025c15cf\" xlink:type=\"simple\"><rect fill=\"#FFFFFF\" height=\"45.9375\" id=\"E9\" style=\"stroke: #383838; stroke-width: 1.5;\" width=\"121\" x=\"32.5\" y=\"281.5\"/><text fill=\"#000000\" font-family=\"sans-serif\" font-size=\"12\" font-style=\"italic\" lengthAdjust=\"spacingAndGlyphs\" textLength=\"119\" x=\"33.5\" y=\"297.6387\">«requirement  def»</text><text fill=\"#000000\" font-family=\"sans-serif\" font-size=\"12\" lengthAdjust=\"spacingAndGlyphs\" textLength=\"16\" x=\"85\" y=\"311.6074\">R1</text><line style=\"stroke: #383838; stroke-width: 1.5;\" x1=\"33.5\" x2=\"152.5\" y1=\"319.4375\" y2=\"319.4375\"/></a><!--MD5=[1dd1bfd58a279cf63c5f349dbc8fc6a1]\n",
       "class E11--><a href=\"psysml:4203d305-f881-4dfa-bcc5-a82b5aac35c4\" target=\"_top\" title=\"psysml:4203d305-f881-4dfa-bcc5-a82b5aac35c4\" xlink:actuate=\"onRequest\" xlink:href=\"psysml:4203d305-f881-4dfa-bcc5-a82b5aac35c4\" xlink:show=\"new\" xlink:title=\"psysml:4203d305-f881-4dfa-bcc5-a82b5aac35c4\" xlink:type=\"simple\"><rect fill=\"#FFFFFF\" height=\"45.9375\" id=\"E11\" rx=\"10\" ry=\"10\" style=\"stroke: #383838; stroke-width: 1.5;\" width=\"42\" x=\"95\" y=\"41\"/><text fill=\"#000000\" font-family=\"sans-serif\" font-size=\"12\" font-style=\"italic\" lengthAdjust=\"spacingAndGlyphs\" textLength=\"40\" x=\"96\" y=\"57.1387\">«part»</text><text fill=\"#000000\" font-family=\"sans-serif\" font-size=\"12\" lengthAdjust=\"spacingAndGlyphs\" textLength=\"8\" x=\"112\" y=\"71.1074\">p</text><line style=\"stroke: #383838; stroke-width: 1.5;\" x1=\"96\" x2=\"136\" y1=\"78.9375\" y2=\"78.9375\"/></a><!--MD5=[49a0ec8f00dab7302a31f22d0f0fe584]\n",
       "class E12--><a href=\"psysml:d0dbee69-5f2e-4ac4-ba4b-4aca7380bae7\" target=\"_top\" title=\"psysml:d0dbee69-5f2e-4ac4-ba4b-4aca7380bae7\" xlink:actuate=\"onRequest\" xlink:href=\"psysml:d0dbee69-5f2e-4ac4-ba4b-4aca7380bae7\" xlink:show=\"new\" xlink:title=\"psysml:d0dbee69-5f2e-4ac4-ba4b-4aca7380bae7\" xlink:type=\"simple\"><rect fill=\"#FFFFFF\" height=\"45.9375\" id=\"E12\" rx=\"10\" ry=\"10\" style=\"stroke: #383838; stroke-width: 1.5;\" width=\"42\" x=\"280\" y=\"41\"/><text fill=\"#000000\" font-family=\"sans-serif\" font-size=\"12\" font-style=\"italic\" lengthAdjust=\"spacingAndGlyphs\" textLength=\"40\" x=\"281\" y=\"57.1387\">«part»</text><text fill=\"#000000\" font-family=\"sans-serif\" font-size=\"12\" lengthAdjust=\"spacingAndGlyphs\" textLength=\"8\" x=\"297\" y=\"71.1074\">q</text><line style=\"stroke: #383838; stroke-width: 1.5;\" x1=\"281\" x2=\"321\" y1=\"78.9375\" y2=\"78.9375\"/></a><!--MD5=[ee3c913d1a06f366521f9ef512b67efe]\n",
       "class E13--><a href=\"psysml:aee31540-9ea4-41ee-8ebb-8555bfaf03fb\" target=\"_top\" title=\"psysml:aee31540-9ea4-41ee-8ebb-8555bfaf03fb\" xlink:actuate=\"onRequest\" xlink:href=\"psysml:aee31540-9ea4-41ee-8ebb-8555bfaf03fb\" xlink:show=\"new\" xlink:title=\"psysml:aee31540-9ea4-41ee-8ebb-8555bfaf03fb\" xlink:type=\"simple\"><rect fill=\"#FFFFFF\" height=\"45.9375\" id=\"E13\" rx=\"10\" ry=\"10\" style=\"stroke: #383838; stroke-width: 1.5;\" width=\"93\" x=\"200.5\" y=\"164\"/><text fill=\"#000000\" font-family=\"sans-serif\" font-size=\"12\" font-style=\"italic\" lengthAdjust=\"spacingAndGlyphs\" textLength=\"91\" x=\"201.5\" y=\"180.1387\">«requirement»</text><text fill=\"#000000\" font-family=\"sans-serif\" font-size=\"12\" lengthAdjust=\"spacingAndGlyphs\" textLength=\"21\" x=\"234.5\" y=\"194.1074\">r: R</text><line style=\"stroke: #383838; stroke-width: 1.5;\" x1=\"201.5\" x2=\"292.5\" y1=\"201.9375\" y2=\"201.9375\"/></a><!--MD5=[bee11217b2f71d958a27249dc326068c]\n",
       "class E14--><a href=\"psysml:5c4fb90e-2e7f-411e-8437-1e0e9b0bd00e\" target=\"_top\" title=\"psysml:5c4fb90e-2e7f-411e-8437-1e0e9b0bd00e\" xlink:actuate=\"onRequest\" xlink:href=\"psysml:5c4fb90e-2e7f-411e-8437-1e0e9b0bd00e\" xlink:show=\"new\" xlink:title=\"psysml:5c4fb90e-2e7f-411e-8437-1e0e9b0bd00e\" xlink:type=\"simple\"><rect fill=\"#FFFFFF\" height=\"45.9375\" id=\"E14\" rx=\"10\" ry=\"10\" style=\"stroke: #383838; stroke-width: 1.5;\" width=\"93\" x=\"46.5\" y=\"164\"/><text fill=\"#000000\" font-family=\"sans-serif\" font-size=\"12\" font-style=\"italic\" lengthAdjust=\"spacingAndGlyphs\" textLength=\"91\" x=\"47.5\" y=\"180.1387\">«requirement»</text><text fill=\"#000000\" font-family=\"sans-serif\" font-size=\"12\" lengthAdjust=\"spacingAndGlyphs\" textLength=\"37\" x=\"72.5\" y=\"194.1074\">r1: R1</text><line style=\"stroke: #383838; stroke-width: 1.5;\" x1=\"47.5\" x2=\"138.5\" y1=\"201.9375\" y2=\"201.9375\"/></a><!--MD5=[05d275557350bfb9b23a4ef7222b4c39]\n",
       "link E3 to E2--><a href=\"psysml:1cfa9d08-8b1e-49ae-8f22-7ec5c2d68c94\" target=\"_top\" title=\"psysml:1cfa9d08-8b1e-49ae-8f22-7ec5c2d68c94\" xlink:actuate=\"onRequest\" xlink:href=\"psysml:1cfa9d08-8b1e-49ae-8f22-7ec5c2d68c94\" xlink:show=\"new\" xlink:title=\"psysml:1cfa9d08-8b1e-49ae-8f22-7ec5c2d68c94\" xlink:type=\"simple\"><path d=\"M418.43,87.25 C428.59,100.56 437.27,117.96 431,134 C429.08,138.91 426.46,143.63 423.42,148.09 \" fill=\"none\" id=\"E3-&gt;E2\" style=\"stroke: #383838; stroke-width: 1.0;\"/><polygon fill=\"#FFFFFF\" points=\"410.27,163.84,417.0769,144.77,427.8221,153.7444,410.27,163.84\" style=\"stroke: #383838; stroke-width: 1.0;\"/><ellipse cx=\"422.2658\" cy=\"141.6772\" fill=\"#383838\" rx=\"2\" ry=\"2\" style=\"stroke: #383838; stroke-width: 1.0;\"/><ellipse cx=\"429.941\" cy=\"148.0874\" fill=\"#383838\" rx=\"2\" ry=\"2\" style=\"stroke: #383838; stroke-width: 1.0;\"/></a><!--MD5=[722ff4eef345aa10242dad44df0e98c7]\n",
       "reverse link E4 to E7--><a href=\"psysml:8957256b-d423-4c87-844e-8026b3f5c553\" target=\"_top\" title=\"psysml:8957256b-d423-4c87-844e-8026b3f5c553\" xlink:actuate=\"onRequest\" xlink:href=\"psysml:8957256b-d423-4c87-844e-8026b3f5c553\" xlink:show=\"new\" xlink:title=\"psysml:8957256b-d423-4c87-844e-8026b3f5c553\" xlink:type=\"simple\"><path d=\"M228.38,350.29 C219.19,370.26 208.76,392.91 201.26,409.21 \" fill=\"none\" id=\"E4&lt;-E7\" style=\"stroke: #383838; stroke-width: 1.0;\"/><polygon fill=\"#383838\" points=\"233.91,338.28,227.7664,342.0558,228.8888,349.179,235.0324,345.4032,233.91,338.28\" style=\"stroke: #383838; stroke-width: 1.0;\"/><text fill=\"#000000\" font-family=\"sans-serif\" font-size=\"13\" lengthAdjust=\"spacingAndGlyphs\" textLength=\"7\" x=\"195.9922\" y=\"398.412\">*</text></a><!--MD5=[c6fc7cdb0cabde04948078cf183fa696]\n",
       "reverse link E4 to E8--><a href=\"psysml:e7993699-2e90-4c6e-9ce7-c90f60868f83\" target=\"_top\" title=\"psysml:e7993699-2e90-4c6e-9ce7-c90f60868f83\" xlink:actuate=\"onRequest\" xlink:href=\"psysml:e7993699-2e90-4c6e-9ce7-c90f60868f83\" xlink:show=\"new\" xlink:title=\"psysml:e7993699-2e90-4c6e-9ce7-c90f60868f83\" xlink:type=\"simple\"><path d=\"M279.4,351.09 C289.94,366.92 301.55,384.33 311.26,398.89 \" fill=\"none\" id=\"E4&lt;-E8\" style=\"stroke: #383838; stroke-width: 1.0;\"/><ellipse cx=\"275.2894\" cy=\"344.9352\" fill=\"#FFFFFF\" rx=\"8\" ry=\"8\" style=\"stroke: #383838; stroke-width: 1.0;\"/><line style=\"stroke: #383838; stroke-width: 1.0;\" x1=\"279.7287\" x2=\"270.85\" y1=\"351.5905\" y2=\"338.28\"/><line style=\"stroke: #383838; stroke-width: 1.0;\" x1=\"268.6341\" x2=\"281.9446\" y1=\"349.3746\" y2=\"340.4959\"/></a><!--MD5=[062ed86c389d1a88f61c6380d0491e17]\n",
       "reverse link E12 to E13--><a href=\"psysml:0f26ba0d-7372-4c44-875c-adf3c35e17b9\" target=\"_top\" title=\"psysml:0f26ba0d-7372-4c44-875c-adf3c35e17b9\" xlink:actuate=\"onRequest\" xlink:href=\"psysml:0f26ba0d-7372-4c44-875c-adf3c35e17b9\" xlink:show=\"new\" xlink:title=\"psysml:0f26ba0d-7372-4c44-875c-adf3c35e17b9\" xlink:type=\"simple\"><path d=\"M333.8,84.02 C335.88,85.07 337.96,86.07 340,87 C378.92,104.77 450.04,100.06 424,134 C392.63,174.88 361.32,149.06 312,164 C306.07,165.8 299.87,167.77 293.75,169.77 \" fill=\"none\" id=\"E12&lt;-E13\" style=\"stroke: #383838; stroke-width: 1.0;\"/><polygon fill=\"#383838\" points=\"322.11,77.78,325.5172,84.1354,332.6942,83.4346,329.287,77.0792,322.11,77.78\" style=\"stroke: #383838; stroke-width: 1.0;\"/></a><!--MD5=[e2a9ac97dcd3257bb5342dae06547bad]\n",
       "link E12 to E13--><a href=\"psysml:f5a4eec3-f375-4f03-819b-6c5c8dc7728c\" target=\"_top\" title=\"psysml:f5a4eec3-f375-4f03-819b-6c5c8dc7728c\" xlink:actuate=\"onRequest\" xlink:href=\"psysml:f5a4eec3-f375-4f03-819b-6c5c8dc7728c\" xlink:show=\"new\" xlink:title=\"psysml:f5a4eec3-f375-4f03-819b-6c5c8dc7728c\" xlink:type=\"simple\"><path d=\"M317.81,87.18 C326.17,101.08 332.96,119.13 325,134 C318.83,145.53 308.85,154.94 298.06,162.43 \" fill=\"none\" id=\"E12-&gt;E13\" style=\"stroke: #383838; stroke-width: 1.0; stroke-dasharray: 7.0,7.0;\"/><polygon fill=\"#383838\" points=\"293.73,165.31,303.4373,163.6459,297.8903,162.5365,298.9997,156.9895,293.73,165.31\" style=\"stroke: #383838; stroke-width: 1.0;\"/><text fill=\"#000000\" font-family=\"sans-serif\" font-size=\"13\" lengthAdjust=\"spacingAndGlyphs\" textLength=\"57\" x=\"329\" y=\"130.0669\">«satisfy»</text></a><!--MD5=[017847e01ff9a8bd19f247411074f987]\n",
       "link E13 to E4--><a href=\"psysml:e01bb7f1-206a-408f-a898-0799ec242df4\" target=\"_top\" title=\"psysml:e01bb7f1-206a-408f-a898-0799ec242df4\" xlink:actuate=\"onRequest\" xlink:href=\"psysml:e01bb7f1-206a-408f-a898-0799ec242df4\" xlink:show=\"new\" xlink:title=\"psysml:e01bb7f1-206a-408f-a898-0799ec242df4\" xlink:type=\"simple\"><path d=\"M247.39,210.27 C247.59,221.81 247.84,236.43 248.09,250.66 \" fill=\"none\" id=\"E13-&gt;E4\" style=\"stroke: #383838; stroke-width: 1.0;\"/><polygon fill=\"#FFFFFF\" points=\"248.43,270.81,241.1054,251.9328,255.1033,251.6928,248.43,270.81\" style=\"stroke: #383838; stroke-width: 1.0;\"/><ellipse cx=\"243.0074\" cy=\"246.1993\" fill=\"#383838\" rx=\"2\" ry=\"2\" style=\"stroke: #383838; stroke-width: 1.0;\"/><ellipse cx=\"253.0059\" cy=\"246.0279\" fill=\"#383838\" rx=\"2\" ry=\"2\" style=\"stroke: #383838; stroke-width: 1.0;\"/></a><!--MD5=[60f911bb19596b289db4a22769f8105a]\n",
       "link E11 to E13--><a href=\"psysml:e806deaf-0ce2-4d10-9e57-833502fc32ee\" target=\"_top\" title=\"psysml:e806deaf-0ce2-4d10-9e57-833502fc32ee\" xlink:actuate=\"onRequest\" xlink:href=\"psysml:e806deaf-0ce2-4d10-9e57-833502fc32ee\" xlink:show=\"new\" xlink:title=\"psysml:e806deaf-0ce2-4d10-9e57-833502fc32ee\" xlink:type=\"simple\"><path d=\"M127.91,87.28 C136.39,101.75 148.76,120.37 163,134 C173.59,144.14 186.48,153.31 198.95,161.02 \" fill=\"none\" id=\"E11-&gt;E13\" style=\"stroke: #383838; stroke-width: 1.0; stroke-dasharray: 7.0,7.0;\"/><polygon fill=\"#383838\" points=\"203.52,163.8,197.9,155.712,199.2452,161.2066,193.7506,162.5517,203.52,163.8\" style=\"stroke: #383838; stroke-width: 1.0;\"/><text fill=\"#000000\" font-family=\"sans-serif\" font-size=\"13\" lengthAdjust=\"spacingAndGlyphs\" textLength=\"57\" x=\"164\" y=\"130.0669\">«satisfy»</text></a><!--MD5=[0c677eb374079406c87b74cd1f5a339d]\n",
       "link E14 to E9--><a href=\"psysml:d6ece11e-fb98-4dd6-9106-0f6846b0bd9f\" target=\"_top\" title=\"psysml:d6ece11e-fb98-4dd6-9106-0f6846b0bd9f\" xlink:actuate=\"onRequest\" xlink:href=\"psysml:d6ece11e-fb98-4dd6-9106-0f6846b0bd9f\" xlink:show=\"new\" xlink:title=\"psysml:d6ece11e-fb98-4dd6-9106-0f6846b0bd9f\" xlink:type=\"simple\"><path d=\"M93,210.27 C93,224.65 93,243.82 93,261.04 \" fill=\"none\" id=\"E14-&gt;E9\" style=\"stroke: #383838; stroke-width: 1.0;\"/><polygon fill=\"#FFFFFF\" points=\"93,281.3,86,262.3,100,262.3,93,281.3\" style=\"stroke: #383838; stroke-width: 1.0;\"/><ellipse cx=\"88\" cy=\"256.6\" fill=\"#383838\" rx=\"2\" ry=\"2\" style=\"stroke: #383838; stroke-width: 1.0;\"/><ellipse cx=\"98\" cy=\"256.6\" fill=\"#383838\" rx=\"2\" ry=\"2\" style=\"stroke: #383838; stroke-width: 1.0;\"/></a><!--MD5=[9c1c40551dcf5c2fca147626a786a7cd]\n",
       "link E11 to E14--><a href=\"psysml:feaea2f2-720b-4dbc-ba1d-0aec40f00046\" target=\"_top\" title=\"psysml:feaea2f2-720b-4dbc-ba1d-0aec40f00046\" xlink:actuate=\"onRequest\" xlink:href=\"psysml:feaea2f2-720b-4dbc-ba1d-0aec40f00046\" xlink:show=\"new\" xlink:title=\"psysml:feaea2f2-720b-4dbc-ba1d-0aec40f00046\" xlink:type=\"simple\"><path d=\"M94.96,79.46 C83.46,88.7 70.3,101.78 64,117 C58.15,131.13 63.81,146.85 71.63,159.71 \" fill=\"none\" id=\"E11-&gt;E14\" style=\"stroke: #383838; stroke-width: 1.0; stroke-dasharray: 7.0,7.0;\"/><polygon fill=\"#383838\" points=\"74.35,163.96,72.8629,154.2241,71.6527,159.7499,66.1268,158.5397,74.35,163.96\" style=\"stroke: #383838; stroke-width: 1.0;\"/><text fill=\"#000000\" font-family=\"sans-serif\" font-size=\"13\" lengthAdjust=\"spacingAndGlyphs\" textLength=\"57\" x=\"65\" y=\"130.0669\">«satisfy»</text></a><!--MD5=[d53cb08dffc8689d16e38c8e194e9adc]\n",
       "link E12 to E14--><a href=\"psysml:f5704f7b-2601-4abd-90b0-2ec51a978e80\" target=\"_top\" title=\"psysml:f5704f7b-2601-4abd-90b0-2ec51a978e80\" xlink:actuate=\"onRequest\" xlink:href=\"psysml:f5704f7b-2601-4abd-90b0-2ec51a978e80\" xlink:show=\"new\" xlink:title=\"psysml:f5704f7b-2601-4abd-90b0-2ec51a978e80\" xlink:type=\"simple\"><path d=\"M281.09,87.22 C266.89,102.03 246.71,121.07 226,134 C200.86,149.7 170.21,162.07 144.66,170.81 \" fill=\"none\" id=\"E12-&gt;E14\" style=\"stroke: #383838; stroke-width: 1.0; stroke-dasharray: 7.0,7.0;\"/><polygon fill=\"#383838\" points=\"139.62,172.5,149.4273,173.4043,144.3562,170.8974,146.8631,165.8264,139.62,172.5\" style=\"stroke: #383838; stroke-width: 1.0;\"/><text fill=\"#000000\" font-family=\"sans-serif\" font-size=\"13\" lengthAdjust=\"spacingAndGlyphs\" textLength=\"57\" x=\"249\" y=\"130.0669\">«satisfy»</text></a><!--MD5=[33c60b98a8e3437d3158c1543bd72b70]\n",
       "@startuml\r\n",
       " skinparam monochrome true\r\n",
       "skinparam classbackgroundcolor white\r\n",
       "skinparam shadowing false\r\n",
       "skinparam wrapWidth 300\r\n",
       "hide circle\r\n",
       "\r\n",
       "package \"RequirementTest\" as E1  [[psysml:2a075407-fc8d-47b4-b4de-e1839d24b848 ]]  {\r\n",
       "comp def \"C\" as E2  <<(T,blue) constraint  def>> [[psysml:8e8b9929-fb62-44f3-bb6e-73f88688eaf1 ]] {\r\n",
       "}\r\n",
       "comp usage \"c: C \" as E3  <<(T,blue) constraint>> [[psysml:8dab2afb-478b-48f2-a7f7-bb2b245c05ea ]] {\r\n",
       "}\r\n",
       "comp def \"R\" as E4  <<(T,blue) requirement  def>> [[psysml:cae76f8a-948f-454f-8648-301efab5060e ]] {\r\n",
       "\r\n",
       "- -\r\n",
       "}\r\n",
       "comp usage \"<s>noname</s>\" as E7  <<(T,blue) requirement>> [[psysml:70e6cc11-a878-4419-9a48-d32cb5df9816 ]] {\r\n",
       "}\r\n",
       "comp def \" [<b>1</b>] A\" as E8  <<(T,blue) requirement  def>> [[psysml:5c5c4776-1d3a-4700-8516-1d3a67d779f4 ]] {\r\n",
       "Text\r\n",
       "- -\r\n",
       "}\r\n",
       "comp def \"R1\" as E9  <<(T,blue) requirement  def>> [[psysml:f2fc2205-4b84-4313-b340-24ee025c15cf ]] {\r\n",
       "}\r\n",
       "comp usage \"p\" as E11  <<(T,blue) part>> [[psysml:4203d305-f881-4dfa-bcc5-a82b5aac35c4 ]] {\r\n",
       "}\r\n",
       "comp usage \"q\" as E12  <<(T,blue) part>> [[psysml:d0dbee69-5f2e-4ac4-ba4b-4aca7380bae7 ]] {\r\n",
       "}\r\n",
       "comp usage \"r: R \" as E13  <<(T,blue) requirement>> [[psysml:aee31540-9ea4-41ee-8ebb-8555bfaf03fb ]] {\r\n",
       "}\r\n",
       "comp usage \"r1: R1 \" as E14  <<(T,blue) requirement>> [[psysml:5c4fb90e-2e7f-411e-8437-1e0e9b0bd00e ]] {\r\n",
       "}\r\n",
       "}\r\n",
       "E3 - -:|> E2 [[psysml:1cfa9d08-8b1e-49ae-8f22-7ec5c2d68c94 ]] \r\n",
       "E4 *- - \"*\"E7 [[psysml:8957256b-d423-4c87-844e-8026b3f5c553 ]] \r\n",
       "E4 +- - E8 [[psysml:e7993699-2e90-4c6e-9ce7-c90f60868f83 ]] \r\n",
       "E12 *- - E13 [[psysml:0f26ba0d-7372-4c44-875c-adf3c35e17b9 ]] \r\n",
       "E13 - -:|> E4 [[psysml:e01bb7f1-206a-408f-a898-0799ec242df4 ]] \r\n",
       "E11 ..> E13 [[psysml:e806deaf-0ce2-4d10-9e57-833502fc32ee ]] : <<satisfy>>\r\n",
       "E12 ..> E13 [[psysml:f5a4eec3-f375-4f03-819b-6c5c8dc7728c ]] : <<satisfy>>\r\n",
       "E14 - -:|> E9 [[psysml:d6ece11e-fb98-4dd6-9106-0f6846b0bd9f ]] \r\n",
       "E11 ..> E14 [[psysml:feaea2f2-720b-4dbc-ba1d-0aec40f00046 ]] : <<satisfy>>\r\n",
       "E12 ..> E14 [[psysml:f5704f7b-2601-4abd-90b0-2ec51a978e80 ]] : <<satisfy>>\r\n",
       "@enduml\r\n",
       "\n",
       "PlantUML version 1.2020.13(Sat Jun 13 12:26:38 UTC 2020)\n",
       "(EPL source distribution)\n",
       "Java Runtime: OpenJDK Runtime Environment\n",
       "JVM: OpenJDK 64-Bit Server VM\n",
       "Default Encoding: UTF-8\n",
       "Language: en\n",
       "Country: null\n",
       "--></g></svg>"
      ]
     },
     "execution_count": 2,
     "metadata": {},
     "output_type": "execute_result"
    }
   ],
   "source": [
    "%viz --style=\"COMPTREE\" --view=\"Default\" \"RequirementTest\""
   ]
  },
  {
   "cell_type": "code",
   "execution_count": 3,
   "id": "c8ddce72",
   "metadata": {
    "execution": {
     "iopub.execute_input": "2021-10-25T08:21:11.295682Z",
     "iopub.status.busy": "2021-10-25T08:21:11.295240Z",
     "iopub.status.idle": "2021-10-25T08:21:11.386797Z",
     "shell.execute_reply": "2021-10-25T08:21:11.384767Z"
    }
   },
   "outputs": [
    {
     "data": {
      "image/svg+xml": [
       "<?xml version=\"1.0\" encoding=\"UTF-8\" standalone=\"no\"?><svg xmlns=\"http://www.w3.org/2000/svg\" xmlns:xlink=\"http://www.w3.org/1999/xlink\" contentScriptType=\"application/ecmascript\" contentStyleType=\"text/css\" height=\"494px\" preserveAspectRatio=\"none\" style=\"width:475px;height:494px;\" version=\"1.1\" viewBox=\"0 0 475 494\" width=\"475px\" zoomAndPan=\"magnify\"><defs/><g><!--MD5=[fbc87193dbaf4d95561dea2c320d4a47]\n",
       "cluster E1--><a href=\"psysml:2a075407-fc8d-47b4-b4de-e1839d24b848\" target=\"_top\" title=\"psysml:2a075407-fc8d-47b4-b4de-e1839d24b848\" xlink:actuate=\"onRequest\" xlink:href=\"psysml:2a075407-fc8d-47b4-b4de-e1839d24b848\" xlink:show=\"new\" xlink:title=\"psysml:2a075407-fc8d-47b4-b4de-e1839d24b848\" xlink:type=\"simple\"><polygon fill=\"#FFFFFF\" points=\"16,6,143,6,150,28.2969,453,28.2969,453,482,16,482,16,6\" style=\"stroke: #000000; stroke-width: 1.5;\"/><line style=\"stroke: #000000; stroke-width: 1.5;\" x1=\"16\" x2=\"150\" y1=\"28.2969\" y2=\"28.2969\"/><text fill=\"#000000\" font-family=\"sans-serif\" font-size=\"14\" font-weight=\"bold\" lengthAdjust=\"spacingAndGlyphs\" textLength=\"121\" x=\"20\" y=\"20.9951\">RequirementTest</text></a><!--MD5=[b4997ac47864f28c2f74865a473b2911]\n",
       "class E2--><a href=\"psysml:8e8b9929-fb62-44f3-bb6e-73f88688eaf1\" target=\"_top\" title=\"psysml:8e8b9929-fb62-44f3-bb6e-73f88688eaf1\" xlink:actuate=\"onRequest\" xlink:href=\"psysml:8e8b9929-fb62-44f3-bb6e-73f88688eaf1\" xlink:show=\"new\" xlink:title=\"psysml:8e8b9929-fb62-44f3-bb6e-73f88688eaf1\" xlink:type=\"simple\"><rect fill=\"#FFFFFF\" height=\"45.9375\" id=\"E2\" style=\"stroke: #383838; stroke-width: 1.5;\" width=\"108\" x=\"329\" y=\"164\"/><text fill=\"#000000\" font-family=\"sans-serif\" font-size=\"12\" font-style=\"italic\" lengthAdjust=\"spacingAndGlyphs\" textLength=\"106\" x=\"330\" y=\"180.1387\">«constraint  def»</text><text fill=\"#000000\" font-family=\"sans-serif\" font-size=\"12\" lengthAdjust=\"spacingAndGlyphs\" textLength=\"8\" x=\"379\" y=\"194.1074\">C</text><line style=\"stroke: #383838; stroke-width: 1.5;\" x1=\"330\" x2=\"436\" y1=\"201.9375\" y2=\"201.9375\"/></a><!--MD5=[09b614a08d8cba4a07c9adeb5e0fee81]\n",
       "class E3--><a href=\"psysml:8dab2afb-478b-48f2-a7f7-bb2b245c05ea\" target=\"_top\" title=\"psysml:8dab2afb-478b-48f2-a7f7-bb2b245c05ea\" xlink:actuate=\"onRequest\" xlink:href=\"psysml:8dab2afb-478b-48f2-a7f7-bb2b245c05ea\" xlink:show=\"new\" xlink:title=\"psysml:8dab2afb-478b-48f2-a7f7-bb2b245c05ea\" xlink:type=\"simple\"><rect fill=\"#FFFFFF\" height=\"45.9375\" id=\"E3\" rx=\"10\" ry=\"10\" style=\"stroke: #383838; stroke-width: 1.5;\" width=\"80\" x=\"357\" y=\"41\"/><text fill=\"#000000\" font-family=\"sans-serif\" font-size=\"12\" font-style=\"italic\" lengthAdjust=\"spacingAndGlyphs\" textLength=\"78\" x=\"358\" y=\"57.1387\">«constraint»</text><text fill=\"#000000\" font-family=\"sans-serif\" font-size=\"12\" lengthAdjust=\"spacingAndGlyphs\" textLength=\"23\" x=\"383.5\" y=\"71.1074\">c: C</text><line style=\"stroke: #383838; stroke-width: 1.5;\" x1=\"358\" x2=\"436\" y1=\"78.9375\" y2=\"78.9375\"/></a><!--MD5=[ebbe1d658d1005bcc118a6aa81145e00]\n",
       "class E4--><a href=\"psysml:cae76f8a-948f-454f-8648-301efab5060e\" target=\"_top\" title=\"psysml:cae76f8a-948f-454f-8648-301efab5060e\" xlink:actuate=\"onRequest\" xlink:href=\"psysml:cae76f8a-948f-454f-8648-301efab5060e\" xlink:show=\"new\" xlink:title=\"psysml:cae76f8a-948f-454f-8648-301efab5060e\" xlink:type=\"simple\"><rect fill=\"#FFFFFF\" height=\"66.7422\" id=\"E4\" style=\"stroke: #383838; stroke-width: 1.5;\" width=\"121\" x=\"188.5\" y=\"271\"/><text fill=\"#000000\" font-family=\"sans-serif\" font-size=\"12\" font-style=\"italic\" lengthAdjust=\"spacingAndGlyphs\" textLength=\"119\" x=\"189.5\" y=\"287.1387\">«requirement  def»</text><text fill=\"#000000\" font-family=\"sans-serif\" font-size=\"12\" lengthAdjust=\"spacingAndGlyphs\" textLength=\"8\" x=\"245\" y=\"301.1074\">R</text><line style=\"stroke: #383838; stroke-width: 1.5;\" x1=\"189.5\" x2=\"308.5\" y1=\"308.9375\" y2=\"308.9375\"/><text fill=\"#000000\" font-family=\"sans-serif\" font-size=\"11\" lengthAdjust=\"spacingAndGlyphs\" textLength=\"0\" x=\"198.5\" y=\"323.1479\"/><line style=\"stroke: #383838; stroke-width: 1.0;\" x1=\"189.5\" x2=\"308.5\" y1=\"329.7422\" y2=\"329.7422\"/></a><!--MD5=[2156ba9850f5573cc1fc38a6a4b2f02b]\n",
       "class E7--><a href=\"psysml:70e6cc11-a878-4419-9a48-d32cb5df9816\" target=\"_top\" title=\"psysml:70e6cc11-a878-4419-9a48-d32cb5df9816\" xlink:actuate=\"onRequest\" xlink:href=\"psysml:70e6cc11-a878-4419-9a48-d32cb5df9816\" xlink:show=\"new\" xlink:title=\"psysml:70e6cc11-a878-4419-9a48-d32cb5df9816\" xlink:type=\"simple\"><rect fill=\"#FFFFFF\" height=\"45.9375\" id=\"E7\" rx=\"10\" ry=\"10\" style=\"stroke: #383838; stroke-width: 1.5;\" width=\"93\" x=\"144.5\" y=\"409.5\"/><text fill=\"#000000\" font-family=\"sans-serif\" font-size=\"12\" font-style=\"italic\" lengthAdjust=\"spacingAndGlyphs\" textLength=\"91\" x=\"145.5\" y=\"425.6387\">«requirement»</text><text fill=\"#000000\" font-family=\"sans-serif\" font-size=\"12\" lengthAdjust=\"spacingAndGlyphs\" text-decoration=\"line-through\" textLength=\"51\" x=\"165.5\" y=\"439.6074\">noname</text><line style=\"stroke: #383838; stroke-width: 1.5;\" x1=\"145.5\" x2=\"236.5\" y1=\"447.4375\" y2=\"447.4375\"/></a><!--MD5=[b9389687b975829384b498ac4b7476b2]\n",
       "class E8--><a href=\"psysml:5c5c4776-1d3a-4700-8516-1d3a67d779f4\" target=\"_top\" title=\"psysml:5c5c4776-1d3a-4700-8516-1d3a67d779f4\" xlink:actuate=\"onRequest\" xlink:href=\"psysml:5c5c4776-1d3a-4700-8516-1d3a67d779f4\" xlink:show=\"new\" xlink:title=\"psysml:5c5c4776-1d3a-4700-8516-1d3a67d779f4\" xlink:type=\"simple\"><rect fill=\"#FFFFFF\" height=\"66.7422\" id=\"E8\" style=\"stroke: #383838; stroke-width: 1.5;\" width=\"121\" x=\"272.5\" y=\"399\"/><text fill=\"#000000\" font-family=\"sans-serif\" font-size=\"12\" font-style=\"italic\" lengthAdjust=\"spacingAndGlyphs\" textLength=\"119\" x=\"273.5\" y=\"415.1387\">«requirement  def»</text><text fill=\"#000000\" font-family=\"sans-serif\" font-size=\"12\" lengthAdjust=\"spacingAndGlyphs\" textLength=\"5\" x=\"320\" y=\"429.1074\">[</text><text fill=\"#000000\" font-family=\"sans-serif\" font-size=\"12\" font-weight=\"bold\" lengthAdjust=\"spacingAndGlyphs\" textLength=\"8\" x=\"325\" y=\"429.1074\">1</text><text fill=\"#000000\" font-family=\"sans-serif\" font-size=\"12\" lengthAdjust=\"spacingAndGlyphs\" textLength=\"17\" x=\"333\" y=\"429.1074\">] A</text><line style=\"stroke: #383838; stroke-width: 1.5;\" x1=\"273.5\" x2=\"392.5\" y1=\"436.9375\" y2=\"436.9375\"/><text fill=\"#000000\" font-family=\"sans-serif\" font-size=\"11\" lengthAdjust=\"spacingAndGlyphs\" textLength=\"24\" x=\"278.5\" y=\"451.1479\">Text</text><line style=\"stroke: #383838; stroke-width: 1.0;\" x1=\"273.5\" x2=\"392.5\" y1=\"457.7422\" y2=\"457.7422\"/></a><!--MD5=[fd4143e9d270a159db93a4ea2a975926]\n",
       "class E9--><a href=\"psysml:f2fc2205-4b84-4313-b340-24ee025c15cf\" target=\"_top\" title=\"psysml:f2fc2205-4b84-4313-b340-24ee025c15cf\" xlink:actuate=\"onRequest\" xlink:href=\"psysml:f2fc2205-4b84-4313-b340-24ee025c15cf\" xlink:show=\"new\" xlink:title=\"psysml:f2fc2205-4b84-4313-b340-24ee025c15cf\" xlink:type=\"simple\"><rect fill=\"#FFFFFF\" height=\"45.9375\" id=\"E9\" style=\"stroke: #383838; stroke-width: 1.5;\" width=\"121\" x=\"32.5\" y=\"281.5\"/><text fill=\"#000000\" font-family=\"sans-serif\" font-size=\"12\" font-style=\"italic\" lengthAdjust=\"spacingAndGlyphs\" textLength=\"119\" x=\"33.5\" y=\"297.6387\">«requirement  def»</text><text fill=\"#000000\" font-family=\"sans-serif\" font-size=\"12\" lengthAdjust=\"spacingAndGlyphs\" textLength=\"16\" x=\"85\" y=\"311.6074\">R1</text><line style=\"stroke: #383838; stroke-width: 1.5;\" x1=\"33.5\" x2=\"152.5\" y1=\"319.4375\" y2=\"319.4375\"/></a><!--MD5=[1dd1bfd58a279cf63c5f349dbc8fc6a1]\n",
       "class E11--><a href=\"psysml:4203d305-f881-4dfa-bcc5-a82b5aac35c4\" target=\"_top\" title=\"psysml:4203d305-f881-4dfa-bcc5-a82b5aac35c4\" xlink:actuate=\"onRequest\" xlink:href=\"psysml:4203d305-f881-4dfa-bcc5-a82b5aac35c4\" xlink:show=\"new\" xlink:title=\"psysml:4203d305-f881-4dfa-bcc5-a82b5aac35c4\" xlink:type=\"simple\"><rect fill=\"#FFFFFF\" height=\"45.9375\" id=\"E11\" rx=\"10\" ry=\"10\" style=\"stroke: #383838; stroke-width: 1.5;\" width=\"42\" x=\"95\" y=\"41\"/><text fill=\"#000000\" font-family=\"sans-serif\" font-size=\"12\" font-style=\"italic\" lengthAdjust=\"spacingAndGlyphs\" textLength=\"40\" x=\"96\" y=\"57.1387\">«part»</text><text fill=\"#000000\" font-family=\"sans-serif\" font-size=\"12\" lengthAdjust=\"spacingAndGlyphs\" textLength=\"8\" x=\"112\" y=\"71.1074\">p</text><line style=\"stroke: #383838; stroke-width: 1.5;\" x1=\"96\" x2=\"136\" y1=\"78.9375\" y2=\"78.9375\"/></a><!--MD5=[49a0ec8f00dab7302a31f22d0f0fe584]\n",
       "class E12--><a href=\"psysml:d0dbee69-5f2e-4ac4-ba4b-4aca7380bae7\" target=\"_top\" title=\"psysml:d0dbee69-5f2e-4ac4-ba4b-4aca7380bae7\" xlink:actuate=\"onRequest\" xlink:href=\"psysml:d0dbee69-5f2e-4ac4-ba4b-4aca7380bae7\" xlink:show=\"new\" xlink:title=\"psysml:d0dbee69-5f2e-4ac4-ba4b-4aca7380bae7\" xlink:type=\"simple\"><rect fill=\"#FFFFFF\" height=\"45.9375\" id=\"E12\" rx=\"10\" ry=\"10\" style=\"stroke: #383838; stroke-width: 1.5;\" width=\"42\" x=\"280\" y=\"41\"/><text fill=\"#000000\" font-family=\"sans-serif\" font-size=\"12\" font-style=\"italic\" lengthAdjust=\"spacingAndGlyphs\" textLength=\"40\" x=\"281\" y=\"57.1387\">«part»</text><text fill=\"#000000\" font-family=\"sans-serif\" font-size=\"12\" lengthAdjust=\"spacingAndGlyphs\" textLength=\"8\" x=\"297\" y=\"71.1074\">q</text><line style=\"stroke: #383838; stroke-width: 1.5;\" x1=\"281\" x2=\"321\" y1=\"78.9375\" y2=\"78.9375\"/></a><!--MD5=[ee3c913d1a06f366521f9ef512b67efe]\n",
       "class E13--><a href=\"psysml:aee31540-9ea4-41ee-8ebb-8555bfaf03fb\" target=\"_top\" title=\"psysml:aee31540-9ea4-41ee-8ebb-8555bfaf03fb\" xlink:actuate=\"onRequest\" xlink:href=\"psysml:aee31540-9ea4-41ee-8ebb-8555bfaf03fb\" xlink:show=\"new\" xlink:title=\"psysml:aee31540-9ea4-41ee-8ebb-8555bfaf03fb\" xlink:type=\"simple\"><rect fill=\"#FFFFFF\" height=\"45.9375\" id=\"E13\" rx=\"10\" ry=\"10\" style=\"stroke: #383838; stroke-width: 1.5;\" width=\"93\" x=\"200.5\" y=\"164\"/><text fill=\"#000000\" font-family=\"sans-serif\" font-size=\"12\" font-style=\"italic\" lengthAdjust=\"spacingAndGlyphs\" textLength=\"91\" x=\"201.5\" y=\"180.1387\">«requirement»</text><text fill=\"#000000\" font-family=\"sans-serif\" font-size=\"12\" lengthAdjust=\"spacingAndGlyphs\" textLength=\"21\" x=\"234.5\" y=\"194.1074\">r: R</text><line style=\"stroke: #383838; stroke-width: 1.5;\" x1=\"201.5\" x2=\"292.5\" y1=\"201.9375\" y2=\"201.9375\"/></a><!--MD5=[bee11217b2f71d958a27249dc326068c]\n",
       "class E14--><a href=\"psysml:5c4fb90e-2e7f-411e-8437-1e0e9b0bd00e\" target=\"_top\" title=\"psysml:5c4fb90e-2e7f-411e-8437-1e0e9b0bd00e\" xlink:actuate=\"onRequest\" xlink:href=\"psysml:5c4fb90e-2e7f-411e-8437-1e0e9b0bd00e\" xlink:show=\"new\" xlink:title=\"psysml:5c4fb90e-2e7f-411e-8437-1e0e9b0bd00e\" xlink:type=\"simple\"><rect fill=\"#FFFFFF\" height=\"45.9375\" id=\"E14\" rx=\"10\" ry=\"10\" style=\"stroke: #383838; stroke-width: 1.5;\" width=\"93\" x=\"46.5\" y=\"164\"/><text fill=\"#000000\" font-family=\"sans-serif\" font-size=\"12\" font-style=\"italic\" lengthAdjust=\"spacingAndGlyphs\" textLength=\"91\" x=\"47.5\" y=\"180.1387\">«requirement»</text><text fill=\"#000000\" font-family=\"sans-serif\" font-size=\"12\" lengthAdjust=\"spacingAndGlyphs\" textLength=\"37\" x=\"72.5\" y=\"194.1074\">r1: R1</text><line style=\"stroke: #383838; stroke-width: 1.5;\" x1=\"47.5\" x2=\"138.5\" y1=\"201.9375\" y2=\"201.9375\"/></a><!--MD5=[05d275557350bfb9b23a4ef7222b4c39]\n",
       "link E3 to E2--><a href=\"psysml:1cfa9d08-8b1e-49ae-8f22-7ec5c2d68c94\" target=\"_top\" title=\"psysml:1cfa9d08-8b1e-49ae-8f22-7ec5c2d68c94\" xlink:actuate=\"onRequest\" xlink:href=\"psysml:1cfa9d08-8b1e-49ae-8f22-7ec5c2d68c94\" xlink:show=\"new\" xlink:title=\"psysml:1cfa9d08-8b1e-49ae-8f22-7ec5c2d68c94\" xlink:type=\"simple\"><path d=\"M418.43,87.25 C428.59,100.56 437.27,117.96 431,134 C429.08,138.91 426.46,143.63 423.42,148.09 \" fill=\"none\" id=\"E3-&gt;E2\" style=\"stroke: #383838; stroke-width: 1.0;\"/><polygon fill=\"#FFFFFF\" points=\"410.27,163.84,417.0769,144.77,427.8221,153.7444,410.27,163.84\" style=\"stroke: #383838; stroke-width: 1.0;\"/><ellipse cx=\"422.2658\" cy=\"141.6772\" fill=\"#383838\" rx=\"2\" ry=\"2\" style=\"stroke: #383838; stroke-width: 1.0;\"/><ellipse cx=\"429.941\" cy=\"148.0874\" fill=\"#383838\" rx=\"2\" ry=\"2\" style=\"stroke: #383838; stroke-width: 1.0;\"/></a><!--MD5=[722ff4eef345aa10242dad44df0e98c7]\n",
       "reverse link E4 to E7--><a href=\"psysml:8957256b-d423-4c87-844e-8026b3f5c553\" target=\"_top\" title=\"psysml:8957256b-d423-4c87-844e-8026b3f5c553\" xlink:actuate=\"onRequest\" xlink:href=\"psysml:8957256b-d423-4c87-844e-8026b3f5c553\" xlink:show=\"new\" xlink:title=\"psysml:8957256b-d423-4c87-844e-8026b3f5c553\" xlink:type=\"simple\"><path d=\"M228.38,350.29 C219.19,370.26 208.76,392.91 201.26,409.21 \" fill=\"none\" id=\"E4&lt;-E7\" style=\"stroke: #383838; stroke-width: 1.0;\"/><polygon fill=\"#383838\" points=\"233.91,338.28,227.7664,342.0558,228.8888,349.179,235.0324,345.4032,233.91,338.28\" style=\"stroke: #383838; stroke-width: 1.0;\"/><text fill=\"#000000\" font-family=\"sans-serif\" font-size=\"13\" lengthAdjust=\"spacingAndGlyphs\" textLength=\"7\" x=\"195.9922\" y=\"398.412\">*</text></a><!--MD5=[c6fc7cdb0cabde04948078cf183fa696]\n",
       "reverse link E4 to E8--><a href=\"psysml:e7993699-2e90-4c6e-9ce7-c90f60868f83\" target=\"_top\" title=\"psysml:e7993699-2e90-4c6e-9ce7-c90f60868f83\" xlink:actuate=\"onRequest\" xlink:href=\"psysml:e7993699-2e90-4c6e-9ce7-c90f60868f83\" xlink:show=\"new\" xlink:title=\"psysml:e7993699-2e90-4c6e-9ce7-c90f60868f83\" xlink:type=\"simple\"><path d=\"M279.4,351.09 C289.94,366.92 301.55,384.33 311.26,398.89 \" fill=\"none\" id=\"E4&lt;-E8\" style=\"stroke: #383838; stroke-width: 1.0;\"/><ellipse cx=\"275.2894\" cy=\"344.9352\" fill=\"#FFFFFF\" rx=\"8\" ry=\"8\" style=\"stroke: #383838; stroke-width: 1.0;\"/><line style=\"stroke: #383838; stroke-width: 1.0;\" x1=\"279.7287\" x2=\"270.85\" y1=\"351.5905\" y2=\"338.28\"/><line style=\"stroke: #383838; stroke-width: 1.0;\" x1=\"268.6341\" x2=\"281.9446\" y1=\"349.3746\" y2=\"340.4959\"/></a><!--MD5=[062ed86c389d1a88f61c6380d0491e17]\n",
       "reverse link E12 to E13--><a href=\"psysml:0f26ba0d-7372-4c44-875c-adf3c35e17b9\" target=\"_top\" title=\"psysml:0f26ba0d-7372-4c44-875c-adf3c35e17b9\" xlink:actuate=\"onRequest\" xlink:href=\"psysml:0f26ba0d-7372-4c44-875c-adf3c35e17b9\" xlink:show=\"new\" xlink:title=\"psysml:0f26ba0d-7372-4c44-875c-adf3c35e17b9\" xlink:type=\"simple\"><path d=\"M333.8,84.02 C335.88,85.07 337.96,86.07 340,87 C378.92,104.77 450.04,100.06 424,134 C392.63,174.88 361.32,149.06 312,164 C306.07,165.8 299.87,167.77 293.75,169.77 \" fill=\"none\" id=\"E12&lt;-E13\" style=\"stroke: #383838; stroke-width: 1.0;\"/><polygon fill=\"#383838\" points=\"322.11,77.78,325.5172,84.1354,332.6942,83.4346,329.287,77.0792,322.11,77.78\" style=\"stroke: #383838; stroke-width: 1.0;\"/></a><!--MD5=[e2a9ac97dcd3257bb5342dae06547bad]\n",
       "link E12 to E13--><a href=\"psysml:f5a4eec3-f375-4f03-819b-6c5c8dc7728c\" target=\"_top\" title=\"psysml:f5a4eec3-f375-4f03-819b-6c5c8dc7728c\" xlink:actuate=\"onRequest\" xlink:href=\"psysml:f5a4eec3-f375-4f03-819b-6c5c8dc7728c\" xlink:show=\"new\" xlink:title=\"psysml:f5a4eec3-f375-4f03-819b-6c5c8dc7728c\" xlink:type=\"simple\"><path d=\"M317.81,87.18 C326.17,101.08 332.96,119.13 325,134 C318.83,145.53 308.85,154.94 298.06,162.43 \" fill=\"none\" id=\"E12-&gt;E13\" style=\"stroke: #383838; stroke-width: 1.0; stroke-dasharray: 7.0,7.0;\"/><polygon fill=\"#383838\" points=\"293.73,165.31,303.4373,163.6459,297.8903,162.5365,298.9997,156.9895,293.73,165.31\" style=\"stroke: #383838; stroke-width: 1.0;\"/><text fill=\"#000000\" font-family=\"sans-serif\" font-size=\"13\" lengthAdjust=\"spacingAndGlyphs\" textLength=\"57\" x=\"329\" y=\"130.0669\">«satisfy»</text></a><!--MD5=[017847e01ff9a8bd19f247411074f987]\n",
       "link E13 to E4--><a href=\"psysml:e01bb7f1-206a-408f-a898-0799ec242df4\" target=\"_top\" title=\"psysml:e01bb7f1-206a-408f-a898-0799ec242df4\" xlink:actuate=\"onRequest\" xlink:href=\"psysml:e01bb7f1-206a-408f-a898-0799ec242df4\" xlink:show=\"new\" xlink:title=\"psysml:e01bb7f1-206a-408f-a898-0799ec242df4\" xlink:type=\"simple\"><path d=\"M247.39,210.27 C247.59,221.81 247.84,236.43 248.09,250.66 \" fill=\"none\" id=\"E13-&gt;E4\" style=\"stroke: #383838; stroke-width: 1.0;\"/><polygon fill=\"#FFFFFF\" points=\"248.43,270.81,241.1054,251.9328,255.1033,251.6928,248.43,270.81\" style=\"stroke: #383838; stroke-width: 1.0;\"/><ellipse cx=\"243.0074\" cy=\"246.1993\" fill=\"#383838\" rx=\"2\" ry=\"2\" style=\"stroke: #383838; stroke-width: 1.0;\"/><ellipse cx=\"253.0059\" cy=\"246.0279\" fill=\"#383838\" rx=\"2\" ry=\"2\" style=\"stroke: #383838; stroke-width: 1.0;\"/></a><!--MD5=[60f911bb19596b289db4a22769f8105a]\n",
       "link E11 to E13--><a href=\"psysml:e806deaf-0ce2-4d10-9e57-833502fc32ee\" target=\"_top\" title=\"psysml:e806deaf-0ce2-4d10-9e57-833502fc32ee\" xlink:actuate=\"onRequest\" xlink:href=\"psysml:e806deaf-0ce2-4d10-9e57-833502fc32ee\" xlink:show=\"new\" xlink:title=\"psysml:e806deaf-0ce2-4d10-9e57-833502fc32ee\" xlink:type=\"simple\"><path d=\"M127.91,87.28 C136.39,101.75 148.76,120.37 163,134 C173.59,144.14 186.48,153.31 198.95,161.02 \" fill=\"none\" id=\"E11-&gt;E13\" style=\"stroke: #383838; stroke-width: 1.0; stroke-dasharray: 7.0,7.0;\"/><polygon fill=\"#383838\" points=\"203.52,163.8,197.9,155.712,199.2452,161.2066,193.7506,162.5517,203.52,163.8\" style=\"stroke: #383838; stroke-width: 1.0;\"/><text fill=\"#000000\" font-family=\"sans-serif\" font-size=\"13\" lengthAdjust=\"spacingAndGlyphs\" textLength=\"57\" x=\"164\" y=\"130.0669\">«satisfy»</text></a><!--MD5=[0c677eb374079406c87b74cd1f5a339d]\n",
       "link E14 to E9--><a href=\"psysml:d6ece11e-fb98-4dd6-9106-0f6846b0bd9f\" target=\"_top\" title=\"psysml:d6ece11e-fb98-4dd6-9106-0f6846b0bd9f\" xlink:actuate=\"onRequest\" xlink:href=\"psysml:d6ece11e-fb98-4dd6-9106-0f6846b0bd9f\" xlink:show=\"new\" xlink:title=\"psysml:d6ece11e-fb98-4dd6-9106-0f6846b0bd9f\" xlink:type=\"simple\"><path d=\"M93,210.27 C93,224.65 93,243.82 93,261.04 \" fill=\"none\" id=\"E14-&gt;E9\" style=\"stroke: #383838; stroke-width: 1.0;\"/><polygon fill=\"#FFFFFF\" points=\"93,281.3,86,262.3,100,262.3,93,281.3\" style=\"stroke: #383838; stroke-width: 1.0;\"/><ellipse cx=\"88\" cy=\"256.6\" fill=\"#383838\" rx=\"2\" ry=\"2\" style=\"stroke: #383838; stroke-width: 1.0;\"/><ellipse cx=\"98\" cy=\"256.6\" fill=\"#383838\" rx=\"2\" ry=\"2\" style=\"stroke: #383838; stroke-width: 1.0;\"/></a><!--MD5=[9c1c40551dcf5c2fca147626a786a7cd]\n",
       "link E11 to E14--><a href=\"psysml:feaea2f2-720b-4dbc-ba1d-0aec40f00046\" target=\"_top\" title=\"psysml:feaea2f2-720b-4dbc-ba1d-0aec40f00046\" xlink:actuate=\"onRequest\" xlink:href=\"psysml:feaea2f2-720b-4dbc-ba1d-0aec40f00046\" xlink:show=\"new\" xlink:title=\"psysml:feaea2f2-720b-4dbc-ba1d-0aec40f00046\" xlink:type=\"simple\"><path d=\"M94.96,79.46 C83.46,88.7 70.3,101.78 64,117 C58.15,131.13 63.81,146.85 71.63,159.71 \" fill=\"none\" id=\"E11-&gt;E14\" style=\"stroke: #383838; stroke-width: 1.0; stroke-dasharray: 7.0,7.0;\"/><polygon fill=\"#383838\" points=\"74.35,163.96,72.8629,154.2241,71.6527,159.7499,66.1268,158.5397,74.35,163.96\" style=\"stroke: #383838; stroke-width: 1.0;\"/><text fill=\"#000000\" font-family=\"sans-serif\" font-size=\"13\" lengthAdjust=\"spacingAndGlyphs\" textLength=\"57\" x=\"65\" y=\"130.0669\">«satisfy»</text></a><!--MD5=[d53cb08dffc8689d16e38c8e194e9adc]\n",
       "link E12 to E14--><a href=\"psysml:f5704f7b-2601-4abd-90b0-2ec51a978e80\" target=\"_top\" title=\"psysml:f5704f7b-2601-4abd-90b0-2ec51a978e80\" xlink:actuate=\"onRequest\" xlink:href=\"psysml:f5704f7b-2601-4abd-90b0-2ec51a978e80\" xlink:show=\"new\" xlink:title=\"psysml:f5704f7b-2601-4abd-90b0-2ec51a978e80\" xlink:type=\"simple\"><path d=\"M281.09,87.22 C266.89,102.03 246.71,121.07 226,134 C200.86,149.7 170.21,162.07 144.66,170.81 \" fill=\"none\" id=\"E12-&gt;E14\" style=\"stroke: #383838; stroke-width: 1.0; stroke-dasharray: 7.0,7.0;\"/><polygon fill=\"#383838\" points=\"139.62,172.5,149.4273,173.4043,144.3562,170.8974,146.8631,165.8264,139.62,172.5\" style=\"stroke: #383838; stroke-width: 1.0;\"/><text fill=\"#000000\" font-family=\"sans-serif\" font-size=\"13\" lengthAdjust=\"spacingAndGlyphs\" textLength=\"57\" x=\"249\" y=\"130.0669\">«satisfy»</text></a><!--MD5=[33c60b98a8e3437d3158c1543bd72b70]\n",
       "@startuml\r\n",
       " skinparam monochrome true\r\n",
       "skinparam classbackgroundcolor white\r\n",
       "skinparam shadowing false\r\n",
       "skinparam wrapWidth 300\r\n",
       "hide circle\r\n",
       "\r\n",
       "package \"RequirementTest\" as E1  [[psysml:2a075407-fc8d-47b4-b4de-e1839d24b848 ]]  {\r\n",
       "comp def \"C\" as E2  <<(T,blue) constraint  def>> [[psysml:8e8b9929-fb62-44f3-bb6e-73f88688eaf1 ]] {\r\n",
       "}\r\n",
       "comp usage \"c: C \" as E3  <<(T,blue) constraint>> [[psysml:8dab2afb-478b-48f2-a7f7-bb2b245c05ea ]] {\r\n",
       "}\r\n",
       "comp def \"R\" as E4  <<(T,blue) requirement  def>> [[psysml:cae76f8a-948f-454f-8648-301efab5060e ]] {\r\n",
       "\r\n",
       "- -\r\n",
       "}\r\n",
       "comp usage \"<s>noname</s>\" as E7  <<(T,blue) requirement>> [[psysml:70e6cc11-a878-4419-9a48-d32cb5df9816 ]] {\r\n",
       "}\r\n",
       "comp def \" [<b>1</b>] A\" as E8  <<(T,blue) requirement  def>> [[psysml:5c5c4776-1d3a-4700-8516-1d3a67d779f4 ]] {\r\n",
       "Text\r\n",
       "- -\r\n",
       "}\r\n",
       "comp def \"R1\" as E9  <<(T,blue) requirement  def>> [[psysml:f2fc2205-4b84-4313-b340-24ee025c15cf ]] {\r\n",
       "}\r\n",
       "comp usage \"p\" as E11  <<(T,blue) part>> [[psysml:4203d305-f881-4dfa-bcc5-a82b5aac35c4 ]] {\r\n",
       "}\r\n",
       "comp usage \"q\" as E12  <<(T,blue) part>> [[psysml:d0dbee69-5f2e-4ac4-ba4b-4aca7380bae7 ]] {\r\n",
       "}\r\n",
       "comp usage \"r: R \" as E13  <<(T,blue) requirement>> [[psysml:aee31540-9ea4-41ee-8ebb-8555bfaf03fb ]] {\r\n",
       "}\r\n",
       "comp usage \"r1: R1 \" as E14  <<(T,blue) requirement>> [[psysml:5c4fb90e-2e7f-411e-8437-1e0e9b0bd00e ]] {\r\n",
       "}\r\n",
       "}\r\n",
       "E3 - -:|> E2 [[psysml:1cfa9d08-8b1e-49ae-8f22-7ec5c2d68c94 ]] \r\n",
       "E4 *- - \"*\"E7 [[psysml:8957256b-d423-4c87-844e-8026b3f5c553 ]] \r\n",
       "E4 +- - E8 [[psysml:e7993699-2e90-4c6e-9ce7-c90f60868f83 ]] \r\n",
       "E12 *- - E13 [[psysml:0f26ba0d-7372-4c44-875c-adf3c35e17b9 ]] \r\n",
       "E13 - -:|> E4 [[psysml:e01bb7f1-206a-408f-a898-0799ec242df4 ]] \r\n",
       "E11 ..> E13 [[psysml:e806deaf-0ce2-4d10-9e57-833502fc32ee ]] : <<satisfy>>\r\n",
       "E12 ..> E13 [[psysml:f5a4eec3-f375-4f03-819b-6c5c8dc7728c ]] : <<satisfy>>\r\n",
       "E14 - -:|> E9 [[psysml:d6ece11e-fb98-4dd6-9106-0f6846b0bd9f ]] \r\n",
       "E11 ..> E14 [[psysml:feaea2f2-720b-4dbc-ba1d-0aec40f00046 ]] : <<satisfy>>\r\n",
       "E12 ..> E14 [[psysml:f5704f7b-2601-4abd-90b0-2ec51a978e80 ]] : <<satisfy>>\r\n",
       "@enduml\r\n",
       "\n",
       "PlantUML version 1.2020.13(Sat Jun 13 12:26:38 UTC 2020)\n",
       "(EPL source distribution)\n",
       "Java Runtime: OpenJDK Runtime Environment\n",
       "JVM: OpenJDK 64-Bit Server VM\n",
       "Default Encoding: UTF-8\n",
       "Language: en\n",
       "Country: null\n",
       "--></g></svg>"
      ]
     },
     "execution_count": 3,
     "metadata": {},
     "output_type": "execute_result"
    }
   ],
   "source": [
    "%viz --style=\"COMPTREE\" --view=\"Tree\" \"RequirementTest\""
   ]
  },
  {
   "cell_type": "code",
   "execution_count": 4,
   "id": "9919c96a",
   "metadata": {
    "execution": {
     "iopub.execute_input": "2021-10-25T08:21:11.435717Z",
     "iopub.status.busy": "2021-10-25T08:21:11.435299Z",
     "iopub.status.idle": "2021-10-25T08:21:11.442010Z",
     "shell.execute_reply": "2021-10-25T08:21:11.441650Z"
    }
   },
   "outputs": [
    {
     "data": {
      "image/svg+xml": [
       "<?xml version=\"1.0\" encoding=\"UTF-8\" standalone=\"no\"?><svg xmlns=\"http://www.w3.org/2000/svg\" xmlns:xlink=\"http://www.w3.org/1999/xlink\" contentScriptType=\"application/ecmascript\" contentStyleType=\"text/css\" height=\"12px\" preserveAspectRatio=\"none\" style=\"width:12px;height:12px;\" version=\"1.1\" viewBox=\"0 0 12 12\" width=\"12px\" zoomAndPan=\"magnify\"><defs/><g><!--MD5=[f19188ef49e11757b5c46753f95d9edc]\n",
       "@startuml\r\n",
       " skinparam monochrome true\r\n",
       "skinparam classbackgroundcolor white\r\n",
       "skinparam shadowing false\r\n",
       "skinparam wrapWidth 300\r\n",
       "hide circle\r\n",
       "\r\n",
       "@enduml\r\n",
       "\n",
       "PlantUML version 1.2020.13(Sat Jun 13 12:26:38 UTC 2020)\n",
       "(EPL source distribution)\n",
       "Java Runtime: OpenJDK Runtime Environment\n",
       "JVM: OpenJDK 64-Bit Server VM\n",
       "Default Encoding: UTF-8\n",
       "Language: en\n",
       "Country: null\n",
       "--></g></svg>"
      ]
     },
     "execution_count": 4,
     "metadata": {},
     "output_type": "execute_result"
    }
   ],
   "source": [
    "%viz --style=\"COMPTREE\" --view=\"State\" \"RequirementTest\""
   ]
  },
  {
   "cell_type": "code",
   "execution_count": 5,
   "id": "c2617335",
   "metadata": {
    "execution": {
     "iopub.execute_input": "2021-10-25T08:21:11.491452Z",
     "iopub.status.busy": "2021-10-25T08:21:11.491036Z",
     "iopub.status.idle": "2021-10-25T08:21:11.592562Z",
     "shell.execute_reply": "2021-10-25T08:21:11.592177Z"
    }
   },
   "outputs": [
    {
     "data": {
      "image/svg+xml": [
       "<?xml version=\"1.0\" encoding=\"UTF-8\" standalone=\"no\"?><svg xmlns=\"http://www.w3.org/2000/svg\" xmlns:xlink=\"http://www.w3.org/1999/xlink\" contentScriptType=\"application/ecmascript\" contentStyleType=\"text/css\" height=\"438px\" preserveAspectRatio=\"none\" style=\"width:492px;height:438px;\" version=\"1.1\" viewBox=\"0 0 492 438\" width=\"492px\" zoomAndPan=\"magnify\"><defs/><g><!--MD5=[fbc87193dbaf4d95561dea2c320d4a47]\n",
       "cluster E1--><a href=\"psysml:2a075407-fc8d-47b4-b4de-e1839d24b848\" target=\"_top\" title=\"psysml:2a075407-fc8d-47b4-b4de-e1839d24b848\" xlink:actuate=\"onRequest\" xlink:href=\"psysml:2a075407-fc8d-47b4-b4de-e1839d24b848\" xlink:show=\"new\" xlink:title=\"psysml:2a075407-fc8d-47b4-b4de-e1839d24b848\" xlink:type=\"simple\"><polygon fill=\"#FFFFFF\" points=\"16,6,143,6,150,28.2969,470,28.2969,470,426.36,16,426.36,16,6\" style=\"stroke: #000000; stroke-width: 1.5;\"/><line style=\"stroke: #000000; stroke-width: 1.5;\" x1=\"16\" x2=\"150\" y1=\"28.2969\" y2=\"28.2969\"/><text fill=\"#000000\" font-family=\"sans-serif\" font-size=\"14\" font-weight=\"bold\" lengthAdjust=\"spacingAndGlyphs\" textLength=\"121\" x=\"20\" y=\"20.9951\">RequirementTest</text></a><!--MD5=[47bea60c1a0ac6c1143df232041969c0]\n",
       "cluster E12--><a href=\"psysml:d0dbee69-5f2e-4ac4-ba4b-4aca7380bae7\" target=\"_top\" title=\"psysml:d0dbee69-5f2e-4ac4-ba4b-4aca7380bae7\" xlink:actuate=\"onRequest\" xlink:href=\"psysml:d0dbee69-5f2e-4ac4-ba4b-4aca7380bae7\" xlink:show=\"new\" xlink:title=\"psysml:d0dbee69-5f2e-4ac4-ba4b-4aca7380bae7\" xlink:type=\"simple\"><rect fill=\"#FFFFFF\" height=\"169.36\" id=\"E12\" rx=\"10\" ry=\"10\" style=\"stroke: #383838; stroke-width: 1.5;\" width=\"140\" x=\"48\" y=\"57\"/><rect fill=\"#F8F8F8\" height=\"23.9688\" rx=\"10\" ry=\"10\" style=\"stroke: #F8F8F8; stroke-width: 1.5;\" width=\"140\" x=\"48\" y=\"57\"/><rect fill=\"#F8F8F8\" height=\"10\" style=\"stroke: #F8F8F8; stroke-width: 1.5;\" width=\"140\" x=\"48\" y=\"70.9688\"/><rect fill=\"none\" height=\"169.36\" id=\"E12\" rx=\"10\" ry=\"10\" style=\"stroke: #383838; stroke-width: 1.5;\" width=\"140\" x=\"48\" y=\"57\"/><text fill=\"#000000\" font-family=\"sans-serif\" font-size=\"12\" lengthAdjust=\"spacingAndGlyphs\" textLength=\"8\" x=\"114\" y=\"73.1387\">q</text><line style=\"stroke: #383838; stroke-width: 1.0;\" x1=\"48\" x2=\"188\" y1=\"80.9688\" y2=\"80.9688\"/></a><g id=\"E1.E2\"><a href=\"psysml:8e8b9929-fb62-44f3-bb6e-73f88688eaf1\" target=\"_top\" title=\"psysml:8e8b9929-fb62-44f3-bb6e-73f88688eaf1\" xlink:actuate=\"onRequest\" xlink:href=\"psysml:8e8b9929-fb62-44f3-bb6e-73f88688eaf1\" xlink:show=\"new\" xlink:title=\"psysml:8e8b9929-fb62-44f3-bb6e-73f88688eaf1\" xlink:type=\"simple\"><rect fill=\"#FFFFFF\" height=\"42.9375\" id=\"E2\" style=\"stroke: #383838; stroke-width: 1.5;\" width=\"113\" x=\"340.5\" y=\"157.86\"/><rect fill=\"#F8F8F8\" height=\"37.9375\" style=\"stroke: #383838; stroke-width: 1.5;\" width=\"113\" x=\"340.5\" y=\"157.86\"/><text fill=\"#000000\" font-family=\"sans-serif\" font-size=\"12\" font-style=\"italic\" lengthAdjust=\"spacingAndGlyphs\" textLength=\"106\" x=\"344\" y=\"173.9987\">«constraint  def»</text><text fill=\"#000000\" font-family=\"sans-serif\" font-size=\"12\" lengthAdjust=\"spacingAndGlyphs\" textLength=\"8\" x=\"393\" y=\"187.9674\">C</text></a></g><!--MD5=[09b614a08d8cba4a07c9adeb5e0fee81]\n",
       "class E3--><a href=\"psysml:8dab2afb-478b-48f2-a7f7-bb2b245c05ea\" target=\"_top\" title=\"psysml:8dab2afb-478b-48f2-a7f7-bb2b245c05ea\" xlink:actuate=\"onRequest\" xlink:href=\"psysml:8dab2afb-478b-48f2-a7f7-bb2b245c05ea\" xlink:show=\"new\" xlink:title=\"psysml:8dab2afb-478b-48f2-a7f7-bb2b245c05ea\" xlink:type=\"simple\"><rect fill=\"#FFFFFF\" height=\"45.9375\" id=\"E3\" rx=\"10\" ry=\"10\" style=\"stroke: #383838; stroke-width: 1.5;\" width=\"80\" x=\"374\" y=\"61.36\"/><text fill=\"#000000\" font-family=\"sans-serif\" font-size=\"12\" font-style=\"italic\" lengthAdjust=\"spacingAndGlyphs\" textLength=\"78\" x=\"375\" y=\"77.4987\">«constraint»</text><text fill=\"#000000\" font-family=\"sans-serif\" font-size=\"12\" lengthAdjust=\"spacingAndGlyphs\" textLength=\"23\" x=\"400.5\" y=\"91.4674\">c: C</text><line style=\"stroke: #383838; stroke-width: 1.5;\" x1=\"375\" x2=\"453\" y1=\"99.2975\" y2=\"99.2975\"/></a><!--MD5=[ebbe1d658d1005bcc118a6aa81145e00]\n",
       "class E4--><a href=\"psysml:cae76f8a-948f-454f-8648-301efab5060e\" target=\"_top\" title=\"psysml:cae76f8a-948f-454f-8648-301efab5060e\" xlink:actuate=\"onRequest\" xlink:href=\"psysml:cae76f8a-948f-454f-8648-301efab5060e\" xlink:show=\"new\" xlink:title=\"psysml:cae76f8a-948f-454f-8648-301efab5060e\" xlink:type=\"simple\"><rect fill=\"#FFFFFF\" height=\"66.7422\" id=\"E4\" style=\"stroke: #383838; stroke-width: 1.5;\" width=\"121\" x=\"51.5\" y=\"259.36\"/><text fill=\"#000000\" font-family=\"sans-serif\" font-size=\"12\" font-style=\"italic\" lengthAdjust=\"spacingAndGlyphs\" textLength=\"119\" x=\"52.5\" y=\"275.4987\">«requirement  def»</text><text fill=\"#000000\" font-family=\"sans-serif\" font-size=\"12\" lengthAdjust=\"spacingAndGlyphs\" textLength=\"8\" x=\"108\" y=\"289.4674\">R</text><line style=\"stroke: #383838; stroke-width: 1.5;\" x1=\"52.5\" x2=\"171.5\" y1=\"297.2975\" y2=\"297.2975\"/><text fill=\"#000000\" font-family=\"sans-serif\" font-size=\"11\" lengthAdjust=\"spacingAndGlyphs\" textLength=\"0\" x=\"61.5\" y=\"311.5079\"/><line style=\"stroke: #383838; stroke-width: 1.0;\" x1=\"52.5\" x2=\"171.5\" y1=\"318.1022\" y2=\"318.1022\"/></a><!--MD5=[2156ba9850f5573cc1fc38a6a4b2f02b]\n",
       "class E7--><a href=\"psysml:70e6cc11-a878-4419-9a48-d32cb5df9816\" target=\"_top\" title=\"psysml:70e6cc11-a878-4419-9a48-d32cb5df9816\" xlink:actuate=\"onRequest\" xlink:href=\"psysml:70e6cc11-a878-4419-9a48-d32cb5df9816\" xlink:show=\"new\" xlink:title=\"psysml:70e6cc11-a878-4419-9a48-d32cb5df9816\" xlink:type=\"simple\"><rect fill=\"#FFFFFF\" height=\"45.9375\" id=\"E7\" rx=\"10\" ry=\"10\" style=\"stroke: #383838; stroke-width: 1.5;\" width=\"93\" x=\"43.5\" y=\"353.86\"/><text fill=\"#000000\" font-family=\"sans-serif\" font-size=\"12\" font-style=\"italic\" lengthAdjust=\"spacingAndGlyphs\" textLength=\"91\" x=\"44.5\" y=\"369.9987\">«requirement»</text><text fill=\"#000000\" font-family=\"sans-serif\" font-size=\"12\" lengthAdjust=\"spacingAndGlyphs\" text-decoration=\"line-through\" textLength=\"51\" x=\"64.5\" y=\"383.9674\">noname</text><line style=\"stroke: #383838; stroke-width: 1.5;\" x1=\"44.5\" x2=\"135.5\" y1=\"391.7975\" y2=\"391.7975\"/></a><!--MD5=[b9389687b975829384b498ac4b7476b2]\n",
       "class E8--><a href=\"psysml:5c5c4776-1d3a-4700-8516-1d3a67d779f4\" target=\"_top\" title=\"psysml:5c5c4776-1d3a-4700-8516-1d3a67d779f4\" xlink:actuate=\"onRequest\" xlink:href=\"psysml:5c5c4776-1d3a-4700-8516-1d3a67d779f4\" xlink:show=\"new\" xlink:title=\"psysml:5c5c4776-1d3a-4700-8516-1d3a67d779f4\" xlink:type=\"simple\"><rect fill=\"#FFFFFF\" height=\"66.7422\" id=\"E8\" style=\"stroke: #383838; stroke-width: 1.5;\" width=\"121\" x=\"171.5\" y=\"343.36\"/><text fill=\"#000000\" font-family=\"sans-serif\" font-size=\"12\" font-style=\"italic\" lengthAdjust=\"spacingAndGlyphs\" textLength=\"119\" x=\"172.5\" y=\"359.4987\">«requirement  def»</text><text fill=\"#000000\" font-family=\"sans-serif\" font-size=\"12\" lengthAdjust=\"spacingAndGlyphs\" textLength=\"5\" x=\"219\" y=\"373.4674\">[</text><text fill=\"#000000\" font-family=\"sans-serif\" font-size=\"12\" font-weight=\"bold\" lengthAdjust=\"spacingAndGlyphs\" textLength=\"8\" x=\"224\" y=\"373.4674\">1</text><text fill=\"#000000\" font-family=\"sans-serif\" font-size=\"12\" lengthAdjust=\"spacingAndGlyphs\" textLength=\"17\" x=\"232\" y=\"373.4674\">] A</text><line style=\"stroke: #383838; stroke-width: 1.5;\" x1=\"172.5\" x2=\"291.5\" y1=\"381.2975\" y2=\"381.2975\"/><text fill=\"#000000\" font-family=\"sans-serif\" font-size=\"11\" lengthAdjust=\"spacingAndGlyphs\" textLength=\"24\" x=\"177.5\" y=\"395.5079\">Text</text><line style=\"stroke: #383838; stroke-width: 1.0;\" x1=\"172.5\" x2=\"291.5\" y1=\"402.1022\" y2=\"402.1022\"/></a><!--MD5=[fd4143e9d270a159db93a4ea2a975926]\n",
       "class E9--><a href=\"psysml:f2fc2205-4b84-4313-b340-24ee025c15cf\" target=\"_top\" title=\"psysml:f2fc2205-4b84-4313-b340-24ee025c15cf\" xlink:actuate=\"onRequest\" xlink:href=\"psysml:f2fc2205-4b84-4313-b340-24ee025c15cf\" xlink:show=\"new\" xlink:title=\"psysml:f2fc2205-4b84-4313-b340-24ee025c15cf\" xlink:type=\"simple\"><rect fill=\"#FFFFFF\" height=\"45.9375\" id=\"E9\" style=\"stroke: #383838; stroke-width: 1.5;\" width=\"121\" x=\"207.5\" y=\"269.86\"/><text fill=\"#000000\" font-family=\"sans-serif\" font-size=\"12\" font-style=\"italic\" lengthAdjust=\"spacingAndGlyphs\" textLength=\"119\" x=\"208.5\" y=\"285.9987\">«requirement  def»</text><text fill=\"#000000\" font-family=\"sans-serif\" font-size=\"12\" lengthAdjust=\"spacingAndGlyphs\" textLength=\"16\" x=\"260\" y=\"299.9674\">R1</text><line style=\"stroke: #383838; stroke-width: 1.5;\" x1=\"208.5\" x2=\"327.5\" y1=\"307.7975\" y2=\"307.7975\"/></a><!--MD5=[bee11217b2f71d958a27249dc326068c]\n",
       "class E14--><a href=\"psysml:5c4fb90e-2e7f-411e-8437-1e0e9b0bd00e\" target=\"_top\" title=\"psysml:5c4fb90e-2e7f-411e-8437-1e0e9b0bd00e\" xlink:actuate=\"onRequest\" xlink:href=\"psysml:5c4fb90e-2e7f-411e-8437-1e0e9b0bd00e\" xlink:show=\"new\" xlink:title=\"psysml:5c4fb90e-2e7f-411e-8437-1e0e9b0bd00e\" xlink:type=\"simple\"><rect fill=\"#FFFFFF\" height=\"45.9375\" id=\"E14\" rx=\"10\" ry=\"10\" style=\"stroke: #383838; stroke-width: 1.5;\" width=\"93\" x=\"212.5\" y=\"156.36\"/><text fill=\"#000000\" font-family=\"sans-serif\" font-size=\"12\" font-style=\"italic\" lengthAdjust=\"spacingAndGlyphs\" textLength=\"91\" x=\"213.5\" y=\"172.4987\">«requirement»</text><text fill=\"#000000\" font-family=\"sans-serif\" font-size=\"12\" lengthAdjust=\"spacingAndGlyphs\" textLength=\"37\" x=\"238.5\" y=\"186.4674\">r1: R1</text><line style=\"stroke: #383838; stroke-width: 1.5;\" x1=\"213.5\" x2=\"304.5\" y1=\"194.2975\" y2=\"194.2975\"/></a><g id=\"E1.E11\"><a href=\"psysml:4203d305-f881-4dfa-bcc5-a82b5aac35c4\" target=\"_top\" title=\"psysml:4203d305-f881-4dfa-bcc5-a82b5aac35c4\" xlink:actuate=\"onRequest\" xlink:href=\"psysml:4203d305-f881-4dfa-bcc5-a82b5aac35c4\" xlink:show=\"new\" xlink:title=\"psysml:4203d305-f881-4dfa-bcc5-a82b5aac35c4\" xlink:type=\"simple\"><rect fill=\"#FFFFFF\" height=\"40\" id=\"E11\" rx=\"10\" ry=\"10\" style=\"stroke: #383838; stroke-width: 1.5;\" width=\"50\" x=\"276\" y=\"64.36\"/><rect fill=\"#F8F8F8\" height=\"23.9688\" rx=\"10\" ry=\"10\" style=\"stroke: #F8F8F8; stroke-width: 1.5;\" width=\"50\" x=\"276\" y=\"64.36\"/><rect fill=\"#F8F8F8\" height=\"10\" style=\"stroke: #F8F8F8; stroke-width: 1.5;\" width=\"50\" x=\"276\" y=\"78.3288\"/><rect fill=\"none\" height=\"40\" id=\"E11\" rx=\"10\" ry=\"10\" style=\"stroke: #383838; stroke-width: 1.5;\" width=\"50\" x=\"276\" y=\"64.36\"/><text fill=\"#000000\" font-family=\"sans-serif\" font-size=\"12\" lengthAdjust=\"spacingAndGlyphs\" textLength=\"8\" x=\"297\" y=\"80.4987\">p</text></a></g><!--MD5=[ee3c913d1a06f366521f9ef512b67efe]\n",
       "class E13--><a href=\"psysml:aee31540-9ea4-41ee-8ebb-8555bfaf03fb\" target=\"_top\" title=\"psysml:aee31540-9ea4-41ee-8ebb-8555bfaf03fb\" xlink:actuate=\"onRequest\" xlink:href=\"psysml:aee31540-9ea4-41ee-8ebb-8555bfaf03fb\" xlink:show=\"new\" xlink:title=\"psysml:aee31540-9ea4-41ee-8ebb-8555bfaf03fb\" xlink:type=\"simple\"><rect fill=\"#FFFFFF\" height=\"45.9375\" id=\"E13\" rx=\"10\" ry=\"10\" style=\"stroke: #383838; stroke-width: 1.5;\" width=\"93\" x=\"71.5\" y=\"156.36\"/><text fill=\"#000000\" font-family=\"sans-serif\" font-size=\"12\" font-style=\"italic\" lengthAdjust=\"spacingAndGlyphs\" textLength=\"91\" x=\"72.5\" y=\"172.4987\">«requirement»</text><text fill=\"#000000\" font-family=\"sans-serif\" font-size=\"12\" lengthAdjust=\"spacingAndGlyphs\" textLength=\"21\" x=\"105.5\" y=\"186.4674\">r: R</text><line style=\"stroke: #383838; stroke-width: 1.5;\" x1=\"72.5\" x2=\"163.5\" y1=\"194.2975\" y2=\"194.2975\"/></a><!--MD5=[05d275557350bfb9b23a4ef7222b4c39]\n",
       "link E3 to E2--><a href=\"psysml:1cfa9d08-8b1e-49ae-8f22-7ec5c2d68c94\" target=\"_top\" title=\"psysml:1cfa9d08-8b1e-49ae-8f22-7ec5c2d68c94\" xlink:actuate=\"onRequest\" xlink:href=\"psysml:1cfa9d08-8b1e-49ae-8f22-7ec5c2d68c94\" xlink:show=\"new\" xlink:title=\"psysml:1cfa9d08-8b1e-49ae-8f22-7ec5c2d68c94\" xlink:type=\"simple\"><path d=\"M443.3,107.64 C445.16,110.06 446.77,112.63 448,115.36 C451.11,122.25 451.07,125.46 448,132.36 C446.36,136.04 444.27,139.54 441.88,142.86 \" fill=\"none\" id=\"E3-&gt;E2\" style=\"stroke: #383838; stroke-width: 1.0;\"/><polygon fill=\"#FFFFFF\" points=\"428.02,157.79,435.812,139.1009,446.0747,148.6233,428.02,157.79\" style=\"stroke: #383838; stroke-width: 1.0;\"/><ellipse cx=\"441.1551\" cy=\"136.2828\" fill=\"#383838\" rx=\"2\" ry=\"2\" style=\"stroke: #383838; stroke-width: 1.0;\"/><ellipse cx=\"448.4856\" cy=\"143.0846\" fill=\"#383838\" rx=\"2\" ry=\"2\" style=\"stroke: #383838; stroke-width: 1.0;\"/></a><!--MD5=[722ff4eef345aa10242dad44df0e98c7]\n",
       "reverse link E4 to E7--><a href=\"psysml:8957256b-d423-4c87-844e-8026b3f5c553\" target=\"_top\" title=\"psysml:8957256b-d423-4c87-844e-8026b3f5c553\" xlink:actuate=\"onRequest\" xlink:href=\"psysml:8957256b-d423-4c87-844e-8026b3f5c553\" xlink:show=\"new\" xlink:title=\"psysml:8957256b-d423-4c87-844e-8026b3f5c553\" xlink:type=\"simple\"><path d=\"M99.7,339.69 C98.39,344.58 97.11,349.37 95.92,353.79 \" fill=\"none\" id=\"E4&lt;-E7\" style=\"stroke: #383838; stroke-width: 1.0;\"/><polygon fill=\"#383838\" points=\"103.18,326.74,97.7596,331.496,100.0651,338.3287,105.4854,333.5726,103.18,326.74\" style=\"stroke: #383838; stroke-width: 1.0;\"/><text fill=\"#000000\" font-family=\"sans-serif\" font-size=\"13\" lengthAdjust=\"spacingAndGlyphs\" textLength=\"7\" x=\"89.5704\" y=\"342.6675\">*</text></a><!--MD5=[c6fc7cdb0cabde04948078cf183fa696]\n",
       "reverse link E4 to E8--><a href=\"psysml:e7993699-2e90-4c6e-9ce7-c90f60868f83\" target=\"_top\" title=\"psysml:e7993699-2e90-4c6e-9ce7-c90f60868f83\" xlink:actuate=\"onRequest\" xlink:href=\"psysml:e7993699-2e90-4c6e-9ce7-c90f60868f83\" xlink:show=\"new\" xlink:title=\"psysml:e7993699-2e90-4c6e-9ce7-c90f60868f83\" xlink:type=\"simple\"><path d=\"M172.47,335.18 C176.47,337.92 180.47,340.65 184.39,343.33 \" fill=\"none\" id=\"E4&lt;-E8\" style=\"stroke: #383838; stroke-width: 1.0;\"/><ellipse cx=\"166.3732\" cy=\"331.0164\" fill=\"#FFFFFF\" rx=\"8\" ry=\"8\" style=\"stroke: #383838; stroke-width: 1.0;\"/><line style=\"stroke: #383838; stroke-width: 1.0;\" x1=\"172.9764\" x2=\"159.77\" y1=\"335.5328\" y2=\"326.5\"/><line style=\"stroke: #383838; stroke-width: 1.0;\" x1=\"161.8568\" x2=\"170.8896\" y1=\"337.6196\" y2=\"324.4132\"/></a><!--MD5=[017847e01ff9a8bd19f247411074f987]\n",
       "link E13 to E4--><a href=\"psysml:e01bb7f1-206a-408f-a898-0799ec242df4\" target=\"_top\" title=\"psysml:e01bb7f1-206a-408f-a898-0799ec242df4\" xlink:actuate=\"onRequest\" xlink:href=\"psysml:e01bb7f1-206a-408f-a898-0799ec242df4\" xlink:show=\"new\" xlink:title=\"psysml:e01bb7f1-206a-408f-a898-0799ec242df4\" xlink:type=\"simple\"><path d=\"M116.81,202.39 C116.25,212.92 115.54,226.03 114.85,238.94 \" fill=\"none\" id=\"E13-&gt;E4\" style=\"stroke: #383838; stroke-width: 1.0;\"/><polygon fill=\"#FFFFFF\" points=\"113.75,259.31,107.7779,239.9623,121.7578,240.7123,113.75,259.31\" style=\"stroke: #383838; stroke-width: 1.0;\"/><ellipse cx=\"110.0804\" cy=\"234.3776\" fill=\"#383838\" rx=\"2\" ry=\"2\" style=\"stroke: #383838; stroke-width: 1.0;\"/><ellipse cx=\"120.066\" cy=\"234.9133\" fill=\"#383838\" rx=\"2\" ry=\"2\" style=\"stroke: #383838; stroke-width: 1.0;\"/></a><!--MD5=[60f911bb19596b289db4a22769f8105a]\n",
       "link E11 to E13--><a href=\"psysml:e806deaf-0ce2-4d10-9e57-833502fc32ee\" target=\"_top\" title=\"psysml:e806deaf-0ce2-4d10-9e57-833502fc32ee\" xlink:actuate=\"onRequest\" xlink:href=\"psysml:e806deaf-0ce2-4d10-9e57-833502fc32ee\" xlink:show=\"new\" xlink:title=\"psysml:e806deaf-0ce2-4d10-9e57-833502fc32ee\" xlink:type=\"simple\"><path d=\"M275.96,97.79 C254.94,107.92 223.96,122.17 196,132.36 C183.84,136.79 179.57,134.57 168,140.36 C161.03,143.85 154.05,148.35 147.62,153.03 \" fill=\"none\" id=\"E11-&gt;E13\" style=\"stroke: #383838; stroke-width: 1.0; stroke-dasharray: 7.0,7.0;\"/><polygon fill=\"#383838\" points=\"143.25,156.29,152.85,154.09,147.25,153.29,148.05,147.69,143.25,156.29\" style=\"stroke: #383838; stroke-width: 1.0;\"/><text fill=\"#000000\" font-family=\"sans-serif\" font-size=\"13\" lengthAdjust=\"spacingAndGlyphs\" textLength=\"57\" x=\"238\" y=\"128.4269\">«satisfy»</text></a><!--MD5=[e2a9ac97dcd3257bb5342dae06547bad]\n",
       "link E12 to E13--><a href=\"psysml:f5a4eec3-f375-4f03-819b-6c5c8dc7728c\" target=\"_top\" title=\"psysml:f5a4eec3-f375-4f03-819b-6c5c8dc7728c\" xlink:actuate=\"onRequest\" xlink:href=\"psysml:f5a4eec3-f375-4f03-819b-6c5c8dc7728c\" xlink:show=\"new\" xlink:title=\"psysml:f5a4eec3-f375-4f03-819b-6c5c8dc7728c\" xlink:type=\"simple\"><path d=\"M47.8746,108.633 C47.6375,108.8618 47.4023,109.0929 47.1692,109.3261 C45.3047,111.1922 43.5731,113.2 42,115.36 C29.76,132.17 46.2,147.21 66.89,158.37 \" fill=\"none\" id=\"E12-&gt;E13\" style=\"stroke: #383838; stroke-width: 1.0; stroke-dasharray: 7.0,7.0;\"/><polygon fill=\"#383838\" points=\"71.36,160.69,65.2064,153.0002,66.9197,158.3913,61.5286,160.1046,71.36,160.69\" style=\"stroke: #383838; stroke-width: 1.0;\"/><text fill=\"#000000\" font-family=\"sans-serif\" font-size=\"13\" lengthAdjust=\"spacingAndGlyphs\" textLength=\"57\" x=\"43\" y=\"128.4269\">«satisfy»</text></a><!--MD5=[0c677eb374079406c87b74cd1f5a339d]\n",
       "link E14 to E9--><a href=\"psysml:d6ece11e-fb98-4dd6-9106-0f6846b0bd9f\" target=\"_top\" title=\"psysml:d6ece11e-fb98-4dd6-9106-0f6846b0bd9f\" xlink:actuate=\"onRequest\" xlink:href=\"psysml:d6ece11e-fb98-4dd6-9106-0f6846b0bd9f\" xlink:show=\"new\" xlink:title=\"psysml:d6ece11e-fb98-4dd6-9106-0f6846b0bd9f\" xlink:type=\"simple\"><path d=\"M260.78,202.39 C261.86,215.82 263.28,233.42 264.58,249.46 \" fill=\"none\" id=\"E14-&gt;E9\" style=\"stroke: #383838; stroke-width: 1.0;\"/><polygon fill=\"#FFFFFF\" points=\"266.19,269.5,257.6919,251.1211,271.647,250.0007,266.19,269.5\" style=\"stroke: #383838; stroke-width: 1.0;\"/><ellipse cx=\"259.2293\" cy=\"245.2794\" fill=\"#383838\" rx=\"2\" ry=\"2\" style=\"stroke: #383838; stroke-width: 1.0;\"/><ellipse cx=\"269.1972\" cy=\"244.4791\" fill=\"#383838\" rx=\"2\" ry=\"2\" style=\"stroke: #383838; stroke-width: 1.0;\"/></a><!--MD5=[9c1c40551dcf5c2fca147626a786a7cd]\n",
       "link E11 to E14--><a href=\"psysml:feaea2f2-720b-4dbc-ba1d-0aec40f00046\" target=\"_top\" title=\"psysml:feaea2f2-720b-4dbc-ba1d-0aec40f00046\" xlink:actuate=\"onRequest\" xlink:href=\"psysml:feaea2f2-720b-4dbc-ba1d-0aec40f00046\" xlink:show=\"new\" xlink:title=\"psysml:feaea2f2-720b-4dbc-ba1d-0aec40f00046\" xlink:type=\"simple\"><path d=\"M326.25,96.72 C342.54,105.67 358.98,118.85 349,132.36 C341.82,142.09 334.05,135.46 323,140.36 C314.43,144.16 305.57,148.86 297.28,153.64 \" fill=\"none\" id=\"E11-&gt;E14\" style=\"stroke: #383838; stroke-width: 1.0; stroke-dasharray: 7.0,7.0;\"/><polygon fill=\"#383838\" points=\"292.74,156.3,302.5273,155.2001,297.0537,153.7718,298.4821,148.2982,292.74,156.3\" style=\"stroke: #383838; stroke-width: 1.0;\"/><text fill=\"#000000\" font-family=\"sans-serif\" font-size=\"13\" lengthAdjust=\"spacingAndGlyphs\" textLength=\"57\" x=\"353\" y=\"128.4269\">«satisfy»</text></a><!--MD5=[d53cb08dffc8689d16e38c8e194e9adc]\n",
       "link E12 to E14--><a href=\"psysml:f5704f7b-2601-4abd-90b0-2ec51a978e80\" target=\"_top\" title=\"psysml:f5704f7b-2601-4abd-90b0-2ec51a978e80\" xlink:actuate=\"onRequest\" xlink:href=\"psysml:f5704f7b-2601-4abd-90b0-2ec51a978e80\" xlink:show=\"new\" xlink:title=\"psysml:f5704f7b-2601-4abd-90b0-2ec51a978e80\" xlink:type=\"simple\"><path d=\"M188.2294,142.967 C188.6771,143.2182 189.1255,143.4689 189.5745,143.7193 C190.4725,144.2199 191.3729,144.7189 192.2748,145.2159 C194.0787,146.2099 195.8889,147.1961 197.6991,148.1722 C201.3195,150.1244 204.94,152.0363 208.51,153.89 \" fill=\"none\" id=\"E12-&gt;E14\" style=\"stroke: #383838; stroke-width: 1.0; stroke-dasharray: 7.0,7.0;\"/><polygon fill=\"#383838\" points=\"213.06,156.24,206.9064,148.5502,208.6197,153.9413,203.2286,155.6546,213.06,156.24\" style=\"stroke: #383838; stroke-width: 1.0;\"/><text fill=\"#000000\" font-family=\"sans-serif\" font-size=\"13\" lengthAdjust=\"spacingAndGlyphs\" textLength=\"57\" x=\"171\" y=\"128.4269\">«satisfy»</text></a><!--MD5=[85a43f3b492ef5672a7e45fad7a18122]\n",
       "@startuml\r\n",
       "skinparam ranksep 10\r\n",
       "skinparam rectangle {\r\n",
       " backgroundColor<<block>> LightGreen\r\n",
       "}\r\n",
       " skinparam monochrome true\r\n",
       "skinparam classbackgroundcolor white\r\n",
       "skinparam shadowing false\r\n",
       "skinparam wrapWidth 300\r\n",
       "hide circle\r\n",
       "\r\n",
       "package \"RequirementTest\" as E1  [[psysml:2a075407-fc8d-47b4-b4de-e1839d24b848 ]]  {\r\n",
       "def \"C\" as E2  <<(T,blue) constraint  def>> [[psysml:8e8b9929-fb62-44f3-bb6e-73f88688eaf1 ]] \r\n",
       "comp usage \"c: C \" as E3  <<(T,blue) constraint>> [[psysml:8dab2afb-478b-48f2-a7f7-bb2b245c05ea ]] {\r\n",
       "}\r\n",
       "comp def \"R\" as E4  <<(T,blue) requirement  def>> [[psysml:cae76f8a-948f-454f-8648-301efab5060e ]] {\r\n",
       "\r\n",
       "- -\r\n",
       "}\r\n",
       "comp usage \"<s>noname</s>\" as E7  <<(T,blue) requirement>> [[psysml:70e6cc11-a878-4419-9a48-d32cb5df9816 ]] {\r\n",
       "}\r\n",
       "comp def \" [<b>1</b>] A\" as E8  <<(T,blue) requirement  def>> [[psysml:5c5c4776-1d3a-4700-8516-1d3a67d779f4 ]] {\r\n",
       "Text\r\n",
       "- -\r\n",
       "}\r\n",
       "comp def \"R1\" as E9  <<(T,blue) requirement  def>> [[psysml:f2fc2205-4b84-4313-b340-24ee025c15cf ]] {\r\n",
       "}\r\n",
       "rec usage \"p\" as E11  [[psysml:4203d305-f881-4dfa-bcc5-a82b5aac35c4 ]] {\r\n",
       "}\r\n",
       "rec usage \"q\" as E12  [[psysml:d0dbee69-5f2e-4ac4-ba4b-4aca7380bae7 ]] {\r\n",
       "comp usage \"r: R \" as E13  <<(T,blue) requirement>> [[psysml:aee31540-9ea4-41ee-8ebb-8555bfaf03fb ]] {\r\n",
       "}\r\n",
       "}\r\n",
       "comp usage \"r1: R1 \" as E14  <<(T,blue) requirement>> [[psysml:5c4fb90e-2e7f-411e-8437-1e0e9b0bd00e ]] {\r\n",
       "}\r\n",
       "}\r\n",
       "E3 - -:|> E2 [[psysml:1cfa9d08-8b1e-49ae-8f22-7ec5c2d68c94 ]] \r\n",
       "E4 *- - \"*\"E7 [[psysml:8957256b-d423-4c87-844e-8026b3f5c553 ]] \r\n",
       "E4 +- - E8 [[psysml:e7993699-2e90-4c6e-9ce7-c90f60868f83 ]] \r\n",
       "E13 - -:|> E4 [[psysml:e01bb7f1-206a-408f-a898-0799ec242df4 ]] \r\n",
       "E11 ..> E13 [[psysml:e806deaf-0ce2-4d10-9e57-833502fc32ee ]] : <<satisfy>>\r\n",
       "E12 ..> E13 [[psysml:f5a4eec3-f375-4f03-819b-6c5c8dc7728c ]] : <<satisfy>>\r\n",
       "E14 - -:|> E9 [[psysml:d6ece11e-fb98-4dd6-9106-0f6846b0bd9f ]] \r\n",
       "E11 ..> E14 [[psysml:feaea2f2-720b-4dbc-ba1d-0aec40f00046 ]] : <<satisfy>>\r\n",
       "E12 ..> E14 [[psysml:f5704f7b-2601-4abd-90b0-2ec51a978e80 ]] : <<satisfy>>\r\n",
       "@enduml\r\n",
       "\n",
       "PlantUML version 1.2020.13(Sat Jun 13 12:26:38 UTC 2020)\n",
       "(EPL source distribution)\n",
       "Java Runtime: OpenJDK Runtime Environment\n",
       "JVM: OpenJDK 64-Bit Server VM\n",
       "Default Encoding: UTF-8\n",
       "Language: en\n",
       "Country: null\n",
       "--></g></svg>"
      ]
     },
     "execution_count": 5,
     "metadata": {},
     "output_type": "execute_result"
    }
   ],
   "source": [
    "%viz --style=\"COMPTREE\" --view=\"Interconnection\" \"RequirementTest\""
   ]
  },
  {
   "cell_type": "code",
   "execution_count": 6,
   "id": "65647854",
   "metadata": {
    "execution": {
     "iopub.execute_input": "2021-10-25T08:21:11.641937Z",
     "iopub.status.busy": "2021-10-25T08:21:11.641523Z",
     "iopub.status.idle": "2021-10-25T08:21:11.647519Z",
     "shell.execute_reply": "2021-10-25T08:21:11.647165Z"
    }
   },
   "outputs": [
    {
     "data": {
      "image/svg+xml": [
       "<?xml version=\"1.0\" encoding=\"UTF-8\" standalone=\"no\"?><svg xmlns=\"http://www.w3.org/2000/svg\" xmlns:xlink=\"http://www.w3.org/1999/xlink\" contentScriptType=\"application/ecmascript\" contentStyleType=\"text/css\" height=\"12px\" preserveAspectRatio=\"none\" style=\"width:12px;height:12px;\" version=\"1.1\" viewBox=\"0 0 12 12\" width=\"12px\" zoomAndPan=\"magnify\"><defs/><g><!--MD5=[655b888544ca4751ea36af1068543f84]\n",
       "@startuml\r\n",
       "skinparam ranksep 8\r\n",
       " skinparam monochrome true\r\n",
       "skinparam classbackgroundcolor white\r\n",
       "skinparam shadowing false\r\n",
       "skinparam wrapWidth 300\r\n",
       "hide circle\r\n",
       "\r\n",
       "@enduml\r\n",
       "\n",
       "PlantUML version 1.2020.13(Sat Jun 13 12:26:38 UTC 2020)\n",
       "(EPL source distribution)\n",
       "Java Runtime: OpenJDK Runtime Environment\n",
       "JVM: OpenJDK 64-Bit Server VM\n",
       "Default Encoding: UTF-8\n",
       "Language: en\n",
       "Country: null\n",
       "--></g></svg>"
      ]
     },
     "execution_count": 6,
     "metadata": {},
     "output_type": "execute_result"
    }
   ],
   "source": [
    "%viz --style=\"COMPTREE\" --view=\"Action\" \"RequirementTest\""
   ]
  },
  {
   "cell_type": "code",
   "execution_count": 7,
   "id": "005f91bd",
   "metadata": {
    "execution": {
     "iopub.execute_input": "2021-10-25T08:21:11.697320Z",
     "iopub.status.busy": "2021-10-25T08:21:11.696913Z",
     "iopub.status.idle": "2021-10-25T08:21:11.709246Z",
     "shell.execute_reply": "2021-10-25T08:21:11.709560Z"
    }
   },
   "outputs": [
    {
     "data": {
      "image/svg+xml": [
       "<?xml version=\"1.0\" encoding=\"UTF-8\" standalone=\"no\"?><svg xmlns=\"http://www.w3.org/2000/svg\" xmlns:xlink=\"http://www.w3.org/1999/xlink\" contentScriptType=\"application/ecmascript\" contentStyleType=\"text/css\" height=\"12px\" preserveAspectRatio=\"none\" style=\"width:12px;height:12px;\" version=\"1.1\" viewBox=\"0 0 12 12\" width=\"12px\" zoomAndPan=\"magnify\"><defs/><g><!--MD5=[803fc46c337be7a5c8a9831e35356779]\n",
       "@startuml\r\n",
       "skinparam roundcorner 20\r\n",
       "skinparam BoxPadding 20\r\n",
       "skinparam SequenceBoxBackgroundColor #white\r\n",
       "skinparam style strictuml\r\n",
       "skinparam maxMessageSize 100\r\n",
       " skinparam monochrome true\r\n",
       "skinparam classbackgroundcolor white\r\n",
       "skinparam shadowing false\r\n",
       "skinparam wrapWidth 300\r\n",
       "hide circle\r\n",
       "\r\n",
       "@enduml\r\n",
       "\n",
       "PlantUML version 1.2020.13(Sat Jun 13 12:26:38 UTC 2020)\n",
       "(EPL source distribution)\n",
       "Java Runtime: OpenJDK Runtime Environment\n",
       "JVM: OpenJDK 64-Bit Server VM\n",
       "Default Encoding: UTF-8\n",
       "Language: en\n",
       "Country: null\n",
       "--></g></svg>"
      ]
     },
     "execution_count": 7,
     "metadata": {},
     "output_type": "execute_result"
    }
   ],
   "source": [
    "%viz --style=\"COMPTREE\" --view=\"Sequence\" \"RequirementTest\""
   ]
  },
  {
   "cell_type": "code",
   "execution_count": 8,
   "id": "8b66a9ff",
   "metadata": {
    "execution": {
     "iopub.execute_input": "2021-10-25T08:21:11.759565Z",
     "iopub.status.busy": "2021-10-25T08:21:11.759155Z",
     "iopub.status.idle": "2021-10-25T08:21:11.830052Z",
     "shell.execute_reply": "2021-10-25T08:21:11.829545Z"
    }
   },
   "outputs": [
    {
     "data": {
      "image/svg+xml": [
       "<?xml version=\"1.0\" encoding=\"UTF-8\" standalone=\"no\"?><svg xmlns=\"http://www.w3.org/2000/svg\" xmlns:xlink=\"http://www.w3.org/1999/xlink\" contentScriptType=\"application/ecmascript\" contentStyleType=\"text/css\" height=\"494px\" preserveAspectRatio=\"none\" style=\"width:475px;height:494px;\" version=\"1.1\" viewBox=\"0 0 475 494\" width=\"475px\" zoomAndPan=\"magnify\"><defs/><g><!--MD5=[fbc87193dbaf4d95561dea2c320d4a47]\n",
       "cluster E1--><a href=\"psysml:2a075407-fc8d-47b4-b4de-e1839d24b848\" target=\"_top\" title=\"psysml:2a075407-fc8d-47b4-b4de-e1839d24b848\" xlink:actuate=\"onRequest\" xlink:href=\"psysml:2a075407-fc8d-47b4-b4de-e1839d24b848\" xlink:show=\"new\" xlink:title=\"psysml:2a075407-fc8d-47b4-b4de-e1839d24b848\" xlink:type=\"simple\"><polygon fill=\"#FFFFFF\" points=\"16,6,143,6,150,28.2969,453,28.2969,453,482,16,482,16,6\" style=\"stroke: #000000; stroke-width: 1.5;\"/><line style=\"stroke: #000000; stroke-width: 1.5;\" x1=\"16\" x2=\"150\" y1=\"28.2969\" y2=\"28.2969\"/><text fill=\"#000000\" font-family=\"sans-serif\" font-size=\"14\" font-weight=\"bold\" lengthAdjust=\"spacingAndGlyphs\" textLength=\"121\" x=\"20\" y=\"20.9951\">RequirementTest</text></a><!--MD5=[b4997ac47864f28c2f74865a473b2911]\n",
       "class E2--><a href=\"psysml:8e8b9929-fb62-44f3-bb6e-73f88688eaf1\" target=\"_top\" title=\"psysml:8e8b9929-fb62-44f3-bb6e-73f88688eaf1\" xlink:actuate=\"onRequest\" xlink:href=\"psysml:8e8b9929-fb62-44f3-bb6e-73f88688eaf1\" xlink:show=\"new\" xlink:title=\"psysml:8e8b9929-fb62-44f3-bb6e-73f88688eaf1\" xlink:type=\"simple\"><rect fill=\"#FFFFFF\" height=\"45.9375\" id=\"E2\" style=\"stroke: #383838; stroke-width: 1.5;\" width=\"108\" x=\"329\" y=\"164\"/><text fill=\"#000000\" font-family=\"sans-serif\" font-size=\"12\" font-style=\"italic\" lengthAdjust=\"spacingAndGlyphs\" textLength=\"106\" x=\"330\" y=\"180.1387\">«constraint  def»</text><text fill=\"#000000\" font-family=\"sans-serif\" font-size=\"12\" lengthAdjust=\"spacingAndGlyphs\" textLength=\"8\" x=\"379\" y=\"194.1074\">C</text><line style=\"stroke: #383838; stroke-width: 1.5;\" x1=\"330\" x2=\"436\" y1=\"201.9375\" y2=\"201.9375\"/></a><!--MD5=[09b614a08d8cba4a07c9adeb5e0fee81]\n",
       "class E3--><a href=\"psysml:8dab2afb-478b-48f2-a7f7-bb2b245c05ea\" target=\"_top\" title=\"psysml:8dab2afb-478b-48f2-a7f7-bb2b245c05ea\" xlink:actuate=\"onRequest\" xlink:href=\"psysml:8dab2afb-478b-48f2-a7f7-bb2b245c05ea\" xlink:show=\"new\" xlink:title=\"psysml:8dab2afb-478b-48f2-a7f7-bb2b245c05ea\" xlink:type=\"simple\"><rect fill=\"#FFFFFF\" height=\"45.9375\" id=\"E3\" rx=\"10\" ry=\"10\" style=\"stroke: #383838; stroke-width: 1.5;\" width=\"80\" x=\"357\" y=\"41\"/><text fill=\"#000000\" font-family=\"sans-serif\" font-size=\"12\" font-style=\"italic\" lengthAdjust=\"spacingAndGlyphs\" textLength=\"78\" x=\"358\" y=\"57.1387\">«constraint»</text><text fill=\"#000000\" font-family=\"sans-serif\" font-size=\"12\" lengthAdjust=\"spacingAndGlyphs\" textLength=\"23\" x=\"383.5\" y=\"71.1074\">c: C</text><line style=\"stroke: #383838; stroke-width: 1.5;\" x1=\"358\" x2=\"436\" y1=\"78.9375\" y2=\"78.9375\"/></a><!--MD5=[ebbe1d658d1005bcc118a6aa81145e00]\n",
       "class E4--><a href=\"psysml:cae76f8a-948f-454f-8648-301efab5060e\" target=\"_top\" title=\"psysml:cae76f8a-948f-454f-8648-301efab5060e\" xlink:actuate=\"onRequest\" xlink:href=\"psysml:cae76f8a-948f-454f-8648-301efab5060e\" xlink:show=\"new\" xlink:title=\"psysml:cae76f8a-948f-454f-8648-301efab5060e\" xlink:type=\"simple\"><rect fill=\"#FFFFFF\" height=\"66.7422\" id=\"E4\" style=\"stroke: #383838; stroke-width: 1.5;\" width=\"121\" x=\"188.5\" y=\"271\"/><text fill=\"#000000\" font-family=\"sans-serif\" font-size=\"12\" font-style=\"italic\" lengthAdjust=\"spacingAndGlyphs\" textLength=\"119\" x=\"189.5\" y=\"287.1387\">«requirement  def»</text><text fill=\"#000000\" font-family=\"sans-serif\" font-size=\"12\" lengthAdjust=\"spacingAndGlyphs\" textLength=\"8\" x=\"245\" y=\"301.1074\">R</text><line style=\"stroke: #383838; stroke-width: 1.5;\" x1=\"189.5\" x2=\"308.5\" y1=\"308.9375\" y2=\"308.9375\"/><text fill=\"#000000\" font-family=\"sans-serif\" font-size=\"11\" lengthAdjust=\"spacingAndGlyphs\" textLength=\"0\" x=\"198.5\" y=\"323.1479\"/><line style=\"stroke: #383838; stroke-width: 1.0;\" x1=\"189.5\" x2=\"308.5\" y1=\"329.7422\" y2=\"329.7422\"/></a><!--MD5=[2156ba9850f5573cc1fc38a6a4b2f02b]\n",
       "class E7--><a href=\"psysml:70e6cc11-a878-4419-9a48-d32cb5df9816\" target=\"_top\" title=\"psysml:70e6cc11-a878-4419-9a48-d32cb5df9816\" xlink:actuate=\"onRequest\" xlink:href=\"psysml:70e6cc11-a878-4419-9a48-d32cb5df9816\" xlink:show=\"new\" xlink:title=\"psysml:70e6cc11-a878-4419-9a48-d32cb5df9816\" xlink:type=\"simple\"><rect fill=\"#FFFFFF\" height=\"45.9375\" id=\"E7\" rx=\"10\" ry=\"10\" style=\"stroke: #383838; stroke-width: 1.5;\" width=\"93\" x=\"144.5\" y=\"409.5\"/><text fill=\"#000000\" font-family=\"sans-serif\" font-size=\"12\" font-style=\"italic\" lengthAdjust=\"spacingAndGlyphs\" textLength=\"91\" x=\"145.5\" y=\"425.6387\">«requirement»</text><text fill=\"#000000\" font-family=\"sans-serif\" font-size=\"12\" lengthAdjust=\"spacingAndGlyphs\" text-decoration=\"line-through\" textLength=\"51\" x=\"165.5\" y=\"439.6074\">noname</text><line style=\"stroke: #383838; stroke-width: 1.5;\" x1=\"145.5\" x2=\"236.5\" y1=\"447.4375\" y2=\"447.4375\"/></a><!--MD5=[b9389687b975829384b498ac4b7476b2]\n",
       "class E8--><a href=\"psysml:5c5c4776-1d3a-4700-8516-1d3a67d779f4\" target=\"_top\" title=\"psysml:5c5c4776-1d3a-4700-8516-1d3a67d779f4\" xlink:actuate=\"onRequest\" xlink:href=\"psysml:5c5c4776-1d3a-4700-8516-1d3a67d779f4\" xlink:show=\"new\" xlink:title=\"psysml:5c5c4776-1d3a-4700-8516-1d3a67d779f4\" xlink:type=\"simple\"><rect fill=\"#FFFFFF\" height=\"66.7422\" id=\"E8\" style=\"stroke: #383838; stroke-width: 1.5;\" width=\"121\" x=\"272.5\" y=\"399\"/><text fill=\"#000000\" font-family=\"sans-serif\" font-size=\"12\" font-style=\"italic\" lengthAdjust=\"spacingAndGlyphs\" textLength=\"119\" x=\"273.5\" y=\"415.1387\">«requirement  def»</text><text fill=\"#000000\" font-family=\"sans-serif\" font-size=\"12\" lengthAdjust=\"spacingAndGlyphs\" textLength=\"5\" x=\"320\" y=\"429.1074\">[</text><text fill=\"#000000\" font-family=\"sans-serif\" font-size=\"12\" font-weight=\"bold\" lengthAdjust=\"spacingAndGlyphs\" textLength=\"8\" x=\"325\" y=\"429.1074\">1</text><text fill=\"#000000\" font-family=\"sans-serif\" font-size=\"12\" lengthAdjust=\"spacingAndGlyphs\" textLength=\"17\" x=\"333\" y=\"429.1074\">] A</text><line style=\"stroke: #383838; stroke-width: 1.5;\" x1=\"273.5\" x2=\"392.5\" y1=\"436.9375\" y2=\"436.9375\"/><text fill=\"#000000\" font-family=\"sans-serif\" font-size=\"11\" lengthAdjust=\"spacingAndGlyphs\" textLength=\"24\" x=\"278.5\" y=\"451.1479\">Text</text><line style=\"stroke: #383838; stroke-width: 1.0;\" x1=\"273.5\" x2=\"392.5\" y1=\"457.7422\" y2=\"457.7422\"/></a><!--MD5=[fd4143e9d270a159db93a4ea2a975926]\n",
       "class E9--><a href=\"psysml:f2fc2205-4b84-4313-b340-24ee025c15cf\" target=\"_top\" title=\"psysml:f2fc2205-4b84-4313-b340-24ee025c15cf\" xlink:actuate=\"onRequest\" xlink:href=\"psysml:f2fc2205-4b84-4313-b340-24ee025c15cf\" xlink:show=\"new\" xlink:title=\"psysml:f2fc2205-4b84-4313-b340-24ee025c15cf\" xlink:type=\"simple\"><rect fill=\"#FFFFFF\" height=\"45.9375\" id=\"E9\" style=\"stroke: #383838; stroke-width: 1.5;\" width=\"121\" x=\"32.5\" y=\"281.5\"/><text fill=\"#000000\" font-family=\"sans-serif\" font-size=\"12\" font-style=\"italic\" lengthAdjust=\"spacingAndGlyphs\" textLength=\"119\" x=\"33.5\" y=\"297.6387\">«requirement  def»</text><text fill=\"#000000\" font-family=\"sans-serif\" font-size=\"12\" lengthAdjust=\"spacingAndGlyphs\" textLength=\"16\" x=\"85\" y=\"311.6074\">R1</text><line style=\"stroke: #383838; stroke-width: 1.5;\" x1=\"33.5\" x2=\"152.5\" y1=\"319.4375\" y2=\"319.4375\"/></a><!--MD5=[1dd1bfd58a279cf63c5f349dbc8fc6a1]\n",
       "class E11--><a href=\"psysml:4203d305-f881-4dfa-bcc5-a82b5aac35c4\" target=\"_top\" title=\"psysml:4203d305-f881-4dfa-bcc5-a82b5aac35c4\" xlink:actuate=\"onRequest\" xlink:href=\"psysml:4203d305-f881-4dfa-bcc5-a82b5aac35c4\" xlink:show=\"new\" xlink:title=\"psysml:4203d305-f881-4dfa-bcc5-a82b5aac35c4\" xlink:type=\"simple\"><rect fill=\"#FFFFFF\" height=\"45.9375\" id=\"E11\" rx=\"10\" ry=\"10\" style=\"stroke: #383838; stroke-width: 1.5;\" width=\"42\" x=\"95\" y=\"41\"/><text fill=\"#000000\" font-family=\"sans-serif\" font-size=\"12\" font-style=\"italic\" lengthAdjust=\"spacingAndGlyphs\" textLength=\"40\" x=\"96\" y=\"57.1387\">«part»</text><text fill=\"#000000\" font-family=\"sans-serif\" font-size=\"12\" lengthAdjust=\"spacingAndGlyphs\" textLength=\"8\" x=\"112\" y=\"71.1074\">p</text><line style=\"stroke: #383838; stroke-width: 1.5;\" x1=\"96\" x2=\"136\" y1=\"78.9375\" y2=\"78.9375\"/></a><!--MD5=[49a0ec8f00dab7302a31f22d0f0fe584]\n",
       "class E12--><a href=\"psysml:d0dbee69-5f2e-4ac4-ba4b-4aca7380bae7\" target=\"_top\" title=\"psysml:d0dbee69-5f2e-4ac4-ba4b-4aca7380bae7\" xlink:actuate=\"onRequest\" xlink:href=\"psysml:d0dbee69-5f2e-4ac4-ba4b-4aca7380bae7\" xlink:show=\"new\" xlink:title=\"psysml:d0dbee69-5f2e-4ac4-ba4b-4aca7380bae7\" xlink:type=\"simple\"><rect fill=\"#FFFFFF\" height=\"45.9375\" id=\"E12\" rx=\"10\" ry=\"10\" style=\"stroke: #383838; stroke-width: 1.5;\" width=\"42\" x=\"280\" y=\"41\"/><text fill=\"#000000\" font-family=\"sans-serif\" font-size=\"12\" font-style=\"italic\" lengthAdjust=\"spacingAndGlyphs\" textLength=\"40\" x=\"281\" y=\"57.1387\">«part»</text><text fill=\"#000000\" font-family=\"sans-serif\" font-size=\"12\" lengthAdjust=\"spacingAndGlyphs\" textLength=\"8\" x=\"297\" y=\"71.1074\">q</text><line style=\"stroke: #383838; stroke-width: 1.5;\" x1=\"281\" x2=\"321\" y1=\"78.9375\" y2=\"78.9375\"/></a><!--MD5=[ee3c913d1a06f366521f9ef512b67efe]\n",
       "class E13--><a href=\"psysml:aee31540-9ea4-41ee-8ebb-8555bfaf03fb\" target=\"_top\" title=\"psysml:aee31540-9ea4-41ee-8ebb-8555bfaf03fb\" xlink:actuate=\"onRequest\" xlink:href=\"psysml:aee31540-9ea4-41ee-8ebb-8555bfaf03fb\" xlink:show=\"new\" xlink:title=\"psysml:aee31540-9ea4-41ee-8ebb-8555bfaf03fb\" xlink:type=\"simple\"><rect fill=\"#FFFFFF\" height=\"45.9375\" id=\"E13\" rx=\"10\" ry=\"10\" style=\"stroke: #383838; stroke-width: 1.5;\" width=\"93\" x=\"200.5\" y=\"164\"/><text fill=\"#000000\" font-family=\"sans-serif\" font-size=\"12\" font-style=\"italic\" lengthAdjust=\"spacingAndGlyphs\" textLength=\"91\" x=\"201.5\" y=\"180.1387\">«requirement»</text><text fill=\"#000000\" font-family=\"sans-serif\" font-size=\"12\" lengthAdjust=\"spacingAndGlyphs\" textLength=\"21\" x=\"234.5\" y=\"194.1074\">r: R</text><line style=\"stroke: #383838; stroke-width: 1.5;\" x1=\"201.5\" x2=\"292.5\" y1=\"201.9375\" y2=\"201.9375\"/></a><!--MD5=[bee11217b2f71d958a27249dc326068c]\n",
       "class E14--><a href=\"psysml:5c4fb90e-2e7f-411e-8437-1e0e9b0bd00e\" target=\"_top\" title=\"psysml:5c4fb90e-2e7f-411e-8437-1e0e9b0bd00e\" xlink:actuate=\"onRequest\" xlink:href=\"psysml:5c4fb90e-2e7f-411e-8437-1e0e9b0bd00e\" xlink:show=\"new\" xlink:title=\"psysml:5c4fb90e-2e7f-411e-8437-1e0e9b0bd00e\" xlink:type=\"simple\"><rect fill=\"#FFFFFF\" height=\"45.9375\" id=\"E14\" rx=\"10\" ry=\"10\" style=\"stroke: #383838; stroke-width: 1.5;\" width=\"93\" x=\"46.5\" y=\"164\"/><text fill=\"#000000\" font-family=\"sans-serif\" font-size=\"12\" font-style=\"italic\" lengthAdjust=\"spacingAndGlyphs\" textLength=\"91\" x=\"47.5\" y=\"180.1387\">«requirement»</text><text fill=\"#000000\" font-family=\"sans-serif\" font-size=\"12\" lengthAdjust=\"spacingAndGlyphs\" textLength=\"37\" x=\"72.5\" y=\"194.1074\">r1: R1</text><line style=\"stroke: #383838; stroke-width: 1.5;\" x1=\"47.5\" x2=\"138.5\" y1=\"201.9375\" y2=\"201.9375\"/></a><!--MD5=[05d275557350bfb9b23a4ef7222b4c39]\n",
       "link E3 to E2--><a href=\"psysml:1cfa9d08-8b1e-49ae-8f22-7ec5c2d68c94\" target=\"_top\" title=\"psysml:1cfa9d08-8b1e-49ae-8f22-7ec5c2d68c94\" xlink:actuate=\"onRequest\" xlink:href=\"psysml:1cfa9d08-8b1e-49ae-8f22-7ec5c2d68c94\" xlink:show=\"new\" xlink:title=\"psysml:1cfa9d08-8b1e-49ae-8f22-7ec5c2d68c94\" xlink:type=\"simple\"><path d=\"M418.43,87.25 C428.59,100.56 437.27,117.96 431,134 C429.08,138.91 426.46,143.63 423.42,148.09 \" fill=\"none\" id=\"E3-&gt;E2\" style=\"stroke: #383838; stroke-width: 1.0;\"/><polygon fill=\"#FFFFFF\" points=\"410.27,163.84,417.0769,144.77,427.8221,153.7444,410.27,163.84\" style=\"stroke: #383838; stroke-width: 1.0;\"/><ellipse cx=\"422.2658\" cy=\"141.6772\" fill=\"#383838\" rx=\"2\" ry=\"2\" style=\"stroke: #383838; stroke-width: 1.0;\"/><ellipse cx=\"429.941\" cy=\"148.0874\" fill=\"#383838\" rx=\"2\" ry=\"2\" style=\"stroke: #383838; stroke-width: 1.0;\"/></a><!--MD5=[722ff4eef345aa10242dad44df0e98c7]\n",
       "reverse link E4 to E7--><a href=\"psysml:8957256b-d423-4c87-844e-8026b3f5c553\" target=\"_top\" title=\"psysml:8957256b-d423-4c87-844e-8026b3f5c553\" xlink:actuate=\"onRequest\" xlink:href=\"psysml:8957256b-d423-4c87-844e-8026b3f5c553\" xlink:show=\"new\" xlink:title=\"psysml:8957256b-d423-4c87-844e-8026b3f5c553\" xlink:type=\"simple\"><path d=\"M228.38,350.29 C219.19,370.26 208.76,392.91 201.26,409.21 \" fill=\"none\" id=\"E4&lt;-E7\" style=\"stroke: #383838; stroke-width: 1.0;\"/><polygon fill=\"#383838\" points=\"233.91,338.28,227.7664,342.0558,228.8888,349.179,235.0324,345.4032,233.91,338.28\" style=\"stroke: #383838; stroke-width: 1.0;\"/><text fill=\"#000000\" font-family=\"sans-serif\" font-size=\"13\" lengthAdjust=\"spacingAndGlyphs\" textLength=\"7\" x=\"195.9922\" y=\"398.412\">*</text></a><!--MD5=[c6fc7cdb0cabde04948078cf183fa696]\n",
       "reverse link E4 to E8--><a href=\"psysml:e7993699-2e90-4c6e-9ce7-c90f60868f83\" target=\"_top\" title=\"psysml:e7993699-2e90-4c6e-9ce7-c90f60868f83\" xlink:actuate=\"onRequest\" xlink:href=\"psysml:e7993699-2e90-4c6e-9ce7-c90f60868f83\" xlink:show=\"new\" xlink:title=\"psysml:e7993699-2e90-4c6e-9ce7-c90f60868f83\" xlink:type=\"simple\"><path d=\"M279.4,351.09 C289.94,366.92 301.55,384.33 311.26,398.89 \" fill=\"none\" id=\"E4&lt;-E8\" style=\"stroke: #383838; stroke-width: 1.0;\"/><ellipse cx=\"275.2894\" cy=\"344.9352\" fill=\"#FFFFFF\" rx=\"8\" ry=\"8\" style=\"stroke: #383838; stroke-width: 1.0;\"/><line style=\"stroke: #383838; stroke-width: 1.0;\" x1=\"279.7287\" x2=\"270.85\" y1=\"351.5905\" y2=\"338.28\"/><line style=\"stroke: #383838; stroke-width: 1.0;\" x1=\"268.6341\" x2=\"281.9446\" y1=\"349.3746\" y2=\"340.4959\"/></a><!--MD5=[062ed86c389d1a88f61c6380d0491e17]\n",
       "reverse link E12 to E13--><a href=\"psysml:0f26ba0d-7372-4c44-875c-adf3c35e17b9\" target=\"_top\" title=\"psysml:0f26ba0d-7372-4c44-875c-adf3c35e17b9\" xlink:actuate=\"onRequest\" xlink:href=\"psysml:0f26ba0d-7372-4c44-875c-adf3c35e17b9\" xlink:show=\"new\" xlink:title=\"psysml:0f26ba0d-7372-4c44-875c-adf3c35e17b9\" xlink:type=\"simple\"><path d=\"M333.8,84.02 C335.88,85.07 337.96,86.07 340,87 C378.92,104.77 450.04,100.06 424,134 C392.63,174.88 361.32,149.06 312,164 C306.07,165.8 299.87,167.77 293.75,169.77 \" fill=\"none\" id=\"E12&lt;-E13\" style=\"stroke: #383838; stroke-width: 1.0;\"/><polygon fill=\"#383838\" points=\"322.11,77.78,325.5172,84.1354,332.6942,83.4346,329.287,77.0792,322.11,77.78\" style=\"stroke: #383838; stroke-width: 1.0;\"/></a><!--MD5=[e2a9ac97dcd3257bb5342dae06547bad]\n",
       "link E12 to E13--><a href=\"psysml:f5a4eec3-f375-4f03-819b-6c5c8dc7728c\" target=\"_top\" title=\"psysml:f5a4eec3-f375-4f03-819b-6c5c8dc7728c\" xlink:actuate=\"onRequest\" xlink:href=\"psysml:f5a4eec3-f375-4f03-819b-6c5c8dc7728c\" xlink:show=\"new\" xlink:title=\"psysml:f5a4eec3-f375-4f03-819b-6c5c8dc7728c\" xlink:type=\"simple\"><path d=\"M317.81,87.18 C326.17,101.08 332.96,119.13 325,134 C318.83,145.53 308.85,154.94 298.06,162.43 \" fill=\"none\" id=\"E12-&gt;E13\" style=\"stroke: #383838; stroke-width: 1.0; stroke-dasharray: 7.0,7.0;\"/><polygon fill=\"#383838\" points=\"293.73,165.31,303.4373,163.6459,297.8903,162.5365,298.9997,156.9895,293.73,165.31\" style=\"stroke: #383838; stroke-width: 1.0;\"/><text fill=\"#000000\" font-family=\"sans-serif\" font-size=\"13\" lengthAdjust=\"spacingAndGlyphs\" textLength=\"57\" x=\"329\" y=\"130.0669\">«satisfy»</text></a><!--MD5=[017847e01ff9a8bd19f247411074f987]\n",
       "link E13 to E4--><a href=\"psysml:e01bb7f1-206a-408f-a898-0799ec242df4\" target=\"_top\" title=\"psysml:e01bb7f1-206a-408f-a898-0799ec242df4\" xlink:actuate=\"onRequest\" xlink:href=\"psysml:e01bb7f1-206a-408f-a898-0799ec242df4\" xlink:show=\"new\" xlink:title=\"psysml:e01bb7f1-206a-408f-a898-0799ec242df4\" xlink:type=\"simple\"><path d=\"M247.39,210.27 C247.59,221.81 247.84,236.43 248.09,250.66 \" fill=\"none\" id=\"E13-&gt;E4\" style=\"stroke: #383838; stroke-width: 1.0;\"/><polygon fill=\"#FFFFFF\" points=\"248.43,270.81,241.1054,251.9328,255.1033,251.6928,248.43,270.81\" style=\"stroke: #383838; stroke-width: 1.0;\"/><ellipse cx=\"243.0074\" cy=\"246.1993\" fill=\"#383838\" rx=\"2\" ry=\"2\" style=\"stroke: #383838; stroke-width: 1.0;\"/><ellipse cx=\"253.0059\" cy=\"246.0279\" fill=\"#383838\" rx=\"2\" ry=\"2\" style=\"stroke: #383838; stroke-width: 1.0;\"/></a><!--MD5=[60f911bb19596b289db4a22769f8105a]\n",
       "link E11 to E13--><a href=\"psysml:e806deaf-0ce2-4d10-9e57-833502fc32ee\" target=\"_top\" title=\"psysml:e806deaf-0ce2-4d10-9e57-833502fc32ee\" xlink:actuate=\"onRequest\" xlink:href=\"psysml:e806deaf-0ce2-4d10-9e57-833502fc32ee\" xlink:show=\"new\" xlink:title=\"psysml:e806deaf-0ce2-4d10-9e57-833502fc32ee\" xlink:type=\"simple\"><path d=\"M127.91,87.28 C136.39,101.75 148.76,120.37 163,134 C173.59,144.14 186.48,153.31 198.95,161.02 \" fill=\"none\" id=\"E11-&gt;E13\" style=\"stroke: #383838; stroke-width: 1.0; stroke-dasharray: 7.0,7.0;\"/><polygon fill=\"#383838\" points=\"203.52,163.8,197.9,155.712,199.2452,161.2066,193.7506,162.5517,203.52,163.8\" style=\"stroke: #383838; stroke-width: 1.0;\"/><text fill=\"#000000\" font-family=\"sans-serif\" font-size=\"13\" lengthAdjust=\"spacingAndGlyphs\" textLength=\"57\" x=\"164\" y=\"130.0669\">«satisfy»</text></a><!--MD5=[0c677eb374079406c87b74cd1f5a339d]\n",
       "link E14 to E9--><a href=\"psysml:d6ece11e-fb98-4dd6-9106-0f6846b0bd9f\" target=\"_top\" title=\"psysml:d6ece11e-fb98-4dd6-9106-0f6846b0bd9f\" xlink:actuate=\"onRequest\" xlink:href=\"psysml:d6ece11e-fb98-4dd6-9106-0f6846b0bd9f\" xlink:show=\"new\" xlink:title=\"psysml:d6ece11e-fb98-4dd6-9106-0f6846b0bd9f\" xlink:type=\"simple\"><path d=\"M93,210.27 C93,224.65 93,243.82 93,261.04 \" fill=\"none\" id=\"E14-&gt;E9\" style=\"stroke: #383838; stroke-width: 1.0;\"/><polygon fill=\"#FFFFFF\" points=\"93,281.3,86,262.3,100,262.3,93,281.3\" style=\"stroke: #383838; stroke-width: 1.0;\"/><ellipse cx=\"88\" cy=\"256.6\" fill=\"#383838\" rx=\"2\" ry=\"2\" style=\"stroke: #383838; stroke-width: 1.0;\"/><ellipse cx=\"98\" cy=\"256.6\" fill=\"#383838\" rx=\"2\" ry=\"2\" style=\"stroke: #383838; stroke-width: 1.0;\"/></a><!--MD5=[9c1c40551dcf5c2fca147626a786a7cd]\n",
       "link E11 to E14--><a href=\"psysml:feaea2f2-720b-4dbc-ba1d-0aec40f00046\" target=\"_top\" title=\"psysml:feaea2f2-720b-4dbc-ba1d-0aec40f00046\" xlink:actuate=\"onRequest\" xlink:href=\"psysml:feaea2f2-720b-4dbc-ba1d-0aec40f00046\" xlink:show=\"new\" xlink:title=\"psysml:feaea2f2-720b-4dbc-ba1d-0aec40f00046\" xlink:type=\"simple\"><path d=\"M94.96,79.46 C83.46,88.7 70.3,101.78 64,117 C58.15,131.13 63.81,146.85 71.63,159.71 \" fill=\"none\" id=\"E11-&gt;E14\" style=\"stroke: #383838; stroke-width: 1.0; stroke-dasharray: 7.0,7.0;\"/><polygon fill=\"#383838\" points=\"74.35,163.96,72.8629,154.2241,71.6527,159.7499,66.1268,158.5397,74.35,163.96\" style=\"stroke: #383838; stroke-width: 1.0;\"/><text fill=\"#000000\" font-family=\"sans-serif\" font-size=\"13\" lengthAdjust=\"spacingAndGlyphs\" textLength=\"57\" x=\"65\" y=\"130.0669\">«satisfy»</text></a><!--MD5=[d53cb08dffc8689d16e38c8e194e9adc]\n",
       "link E12 to E14--><a href=\"psysml:f5704f7b-2601-4abd-90b0-2ec51a978e80\" target=\"_top\" title=\"psysml:f5704f7b-2601-4abd-90b0-2ec51a978e80\" xlink:actuate=\"onRequest\" xlink:href=\"psysml:f5704f7b-2601-4abd-90b0-2ec51a978e80\" xlink:show=\"new\" xlink:title=\"psysml:f5704f7b-2601-4abd-90b0-2ec51a978e80\" xlink:type=\"simple\"><path d=\"M281.09,87.22 C266.89,102.03 246.71,121.07 226,134 C200.86,149.7 170.21,162.07 144.66,170.81 \" fill=\"none\" id=\"E12-&gt;E14\" style=\"stroke: #383838; stroke-width: 1.0; stroke-dasharray: 7.0,7.0;\"/><polygon fill=\"#383838\" points=\"139.62,172.5,149.4273,173.4043,144.3562,170.8974,146.8631,165.8264,139.62,172.5\" style=\"stroke: #383838; stroke-width: 1.0;\"/><text fill=\"#000000\" font-family=\"sans-serif\" font-size=\"13\" lengthAdjust=\"spacingAndGlyphs\" textLength=\"57\" x=\"249\" y=\"130.0669\">«satisfy»</text></a><!--MD5=[33c60b98a8e3437d3158c1543bd72b70]\n",
       "@startuml\r\n",
       " skinparam monochrome true\r\n",
       "skinparam classbackgroundcolor white\r\n",
       "skinparam shadowing false\r\n",
       "skinparam wrapWidth 300\r\n",
       "hide circle\r\n",
       "\r\n",
       "package \"RequirementTest\" as E1  [[psysml:2a075407-fc8d-47b4-b4de-e1839d24b848 ]]  {\r\n",
       "comp def \"C\" as E2  <<(T,blue) constraint  def>> [[psysml:8e8b9929-fb62-44f3-bb6e-73f88688eaf1 ]] {\r\n",
       "}\r\n",
       "comp usage \"c: C \" as E3  <<(T,blue) constraint>> [[psysml:8dab2afb-478b-48f2-a7f7-bb2b245c05ea ]] {\r\n",
       "}\r\n",
       "comp def \"R\" as E4  <<(T,blue) requirement  def>> [[psysml:cae76f8a-948f-454f-8648-301efab5060e ]] {\r\n",
       "\r\n",
       "- -\r\n",
       "}\r\n",
       "comp usage \"<s>noname</s>\" as E7  <<(T,blue) requirement>> [[psysml:70e6cc11-a878-4419-9a48-d32cb5df9816 ]] {\r\n",
       "}\r\n",
       "comp def \" [<b>1</b>] A\" as E8  <<(T,blue) requirement  def>> [[psysml:5c5c4776-1d3a-4700-8516-1d3a67d779f4 ]] {\r\n",
       "Text\r\n",
       "- -\r\n",
       "}\r\n",
       "comp def \"R1\" as E9  <<(T,blue) requirement  def>> [[psysml:f2fc2205-4b84-4313-b340-24ee025c15cf ]] {\r\n",
       "}\r\n",
       "comp usage \"p\" as E11  <<(T,blue) part>> [[psysml:4203d305-f881-4dfa-bcc5-a82b5aac35c4 ]] {\r\n",
       "}\r\n",
       "comp usage \"q\" as E12  <<(T,blue) part>> [[psysml:d0dbee69-5f2e-4ac4-ba4b-4aca7380bae7 ]] {\r\n",
       "}\r\n",
       "comp usage \"r: R \" as E13  <<(T,blue) requirement>> [[psysml:aee31540-9ea4-41ee-8ebb-8555bfaf03fb ]] {\r\n",
       "}\r\n",
       "comp usage \"r1: R1 \" as E14  <<(T,blue) requirement>> [[psysml:5c4fb90e-2e7f-411e-8437-1e0e9b0bd00e ]] {\r\n",
       "}\r\n",
       "}\r\n",
       "E3 - -:|> E2 [[psysml:1cfa9d08-8b1e-49ae-8f22-7ec5c2d68c94 ]] \r\n",
       "E4 *- - \"*\"E7 [[psysml:8957256b-d423-4c87-844e-8026b3f5c553 ]] \r\n",
       "E4 +- - E8 [[psysml:e7993699-2e90-4c6e-9ce7-c90f60868f83 ]] \r\n",
       "E12 *- - E13 [[psysml:0f26ba0d-7372-4c44-875c-adf3c35e17b9 ]] \r\n",
       "E13 - -:|> E4 [[psysml:e01bb7f1-206a-408f-a898-0799ec242df4 ]] \r\n",
       "E11 ..> E13 [[psysml:e806deaf-0ce2-4d10-9e57-833502fc32ee ]] : <<satisfy>>\r\n",
       "E12 ..> E13 [[psysml:f5a4eec3-f375-4f03-819b-6c5c8dc7728c ]] : <<satisfy>>\r\n",
       "E14 - -:|> E9 [[psysml:d6ece11e-fb98-4dd6-9106-0f6846b0bd9f ]] \r\n",
       "E11 ..> E14 [[psysml:feaea2f2-720b-4dbc-ba1d-0aec40f00046 ]] : <<satisfy>>\r\n",
       "E12 ..> E14 [[psysml:f5704f7b-2601-4abd-90b0-2ec51a978e80 ]] : <<satisfy>>\r\n",
       "@enduml\r\n",
       "\n",
       "PlantUML version 1.2020.13(Sat Jun 13 12:26:38 UTC 2020)\n",
       "(EPL source distribution)\n",
       "Java Runtime: OpenJDK Runtime Environment\n",
       "JVM: OpenJDK 64-Bit Server VM\n",
       "Default Encoding: UTF-8\n",
       "Language: en\n",
       "Country: null\n",
       "--></g></svg>"
      ]
     },
     "execution_count": 8,
     "metadata": {},
     "output_type": "execute_result"
    }
   ],
   "source": [
    "%viz --style=\"COMPTREE\" --view=\"MIXED\" \"RequirementTest\""
   ]
  },
  {
   "cell_type": "code",
   "execution_count": 9,
   "id": "3b652f42",
   "metadata": {
    "execution": {
     "iopub.execute_input": "2021-10-25T08:21:11.878055Z",
     "iopub.status.busy": "2021-10-25T08:21:11.877621Z",
     "iopub.status.idle": "2021-10-25T08:21:11.948064Z",
     "shell.execute_reply": "2021-10-25T08:21:11.945288Z"
    }
   },
   "outputs": [
    {
     "data": {
      "image/svg+xml": [
       "<?xml version=\"1.0\" encoding=\"UTF-8\" standalone=\"no\"?><svg xmlns=\"http://www.w3.org/2000/svg\" xmlns:xlink=\"http://www.w3.org/1999/xlink\" contentScriptType=\"application/ecmascript\" contentStyleType=\"text/css\" height=\"494px\" preserveAspectRatio=\"none\" style=\"width:475px;height:494px;\" version=\"1.1\" viewBox=\"0 0 475 494\" width=\"475px\" zoomAndPan=\"magnify\"><defs/><g><!--MD5=[fbc87193dbaf4d95561dea2c320d4a47]\n",
       "cluster E1--><a href=\"psysml:2a075407-fc8d-47b4-b4de-e1839d24b848\" target=\"_top\" title=\"psysml:2a075407-fc8d-47b4-b4de-e1839d24b848\" xlink:actuate=\"onRequest\" xlink:href=\"psysml:2a075407-fc8d-47b4-b4de-e1839d24b848\" xlink:show=\"new\" xlink:title=\"psysml:2a075407-fc8d-47b4-b4de-e1839d24b848\" xlink:type=\"simple\"><polygon fill=\"#FFFFFF\" points=\"16,6,143,6,150,28.2969,453,28.2969,453,482,16,482,16,6\" style=\"stroke: #000000; stroke-width: 1.5;\"/><line style=\"stroke: #000000; stroke-width: 1.5;\" x1=\"16\" x2=\"150\" y1=\"28.2969\" y2=\"28.2969\"/><text fill=\"#000000\" font-family=\"sans-serif\" font-size=\"14\" font-weight=\"bold\" lengthAdjust=\"spacingAndGlyphs\" textLength=\"121\" x=\"20\" y=\"20.9951\">RequirementTest</text></a><!--MD5=[b4997ac47864f28c2f74865a473b2911]\n",
       "class E2--><a href=\"psysml:8e8b9929-fb62-44f3-bb6e-73f88688eaf1\" target=\"_top\" title=\"psysml:8e8b9929-fb62-44f3-bb6e-73f88688eaf1\" xlink:actuate=\"onRequest\" xlink:href=\"psysml:8e8b9929-fb62-44f3-bb6e-73f88688eaf1\" xlink:show=\"new\" xlink:title=\"psysml:8e8b9929-fb62-44f3-bb6e-73f88688eaf1\" xlink:type=\"simple\"><rect fill=\"#FFFFFF\" height=\"45.9375\" id=\"E2\" style=\"stroke: #383838; stroke-width: 1.5;\" width=\"108\" x=\"329\" y=\"164\"/><text fill=\"#000000\" font-family=\"sans-serif\" font-size=\"12\" font-style=\"italic\" lengthAdjust=\"spacingAndGlyphs\" textLength=\"106\" x=\"330\" y=\"180.1387\">«constraint  def»</text><text fill=\"#000000\" font-family=\"sans-serif\" font-size=\"12\" lengthAdjust=\"spacingAndGlyphs\" textLength=\"8\" x=\"379\" y=\"194.1074\">C</text><line style=\"stroke: #383838; stroke-width: 1.5;\" x1=\"330\" x2=\"436\" y1=\"201.9375\" y2=\"201.9375\"/></a><!--MD5=[09b614a08d8cba4a07c9adeb5e0fee81]\n",
       "class E3--><a href=\"psysml:8dab2afb-478b-48f2-a7f7-bb2b245c05ea\" target=\"_top\" title=\"psysml:8dab2afb-478b-48f2-a7f7-bb2b245c05ea\" xlink:actuate=\"onRequest\" xlink:href=\"psysml:8dab2afb-478b-48f2-a7f7-bb2b245c05ea\" xlink:show=\"new\" xlink:title=\"psysml:8dab2afb-478b-48f2-a7f7-bb2b245c05ea\" xlink:type=\"simple\"><rect fill=\"#FFFFFF\" height=\"45.9375\" id=\"E3\" rx=\"10\" ry=\"10\" style=\"stroke: #383838; stroke-width: 1.5;\" width=\"80\" x=\"357\" y=\"41\"/><text fill=\"#000000\" font-family=\"sans-serif\" font-size=\"12\" font-style=\"italic\" lengthAdjust=\"spacingAndGlyphs\" textLength=\"78\" x=\"358\" y=\"57.1387\">«constraint»</text><text fill=\"#000000\" font-family=\"sans-serif\" font-size=\"12\" lengthAdjust=\"spacingAndGlyphs\" textLength=\"23\" x=\"383.5\" y=\"71.1074\">c: C</text><line style=\"stroke: #383838; stroke-width: 1.5;\" x1=\"358\" x2=\"436\" y1=\"78.9375\" y2=\"78.9375\"/></a><!--MD5=[ebbe1d658d1005bcc118a6aa81145e00]\n",
       "class E4--><a href=\"psysml:cae76f8a-948f-454f-8648-301efab5060e\" target=\"_top\" title=\"psysml:cae76f8a-948f-454f-8648-301efab5060e\" xlink:actuate=\"onRequest\" xlink:href=\"psysml:cae76f8a-948f-454f-8648-301efab5060e\" xlink:show=\"new\" xlink:title=\"psysml:cae76f8a-948f-454f-8648-301efab5060e\" xlink:type=\"simple\"><rect fill=\"#FFFFFF\" height=\"66.7422\" id=\"E4\" style=\"stroke: #383838; stroke-width: 1.5;\" width=\"121\" x=\"188.5\" y=\"271\"/><text fill=\"#000000\" font-family=\"sans-serif\" font-size=\"12\" font-style=\"italic\" lengthAdjust=\"spacingAndGlyphs\" textLength=\"119\" x=\"189.5\" y=\"287.1387\">«requirement  def»</text><text fill=\"#000000\" font-family=\"sans-serif\" font-size=\"12\" lengthAdjust=\"spacingAndGlyphs\" textLength=\"8\" x=\"245\" y=\"301.1074\">R</text><line style=\"stroke: #383838; stroke-width: 1.5;\" x1=\"189.5\" x2=\"308.5\" y1=\"308.9375\" y2=\"308.9375\"/><text fill=\"#000000\" font-family=\"sans-serif\" font-size=\"11\" lengthAdjust=\"spacingAndGlyphs\" textLength=\"0\" x=\"198.5\" y=\"323.1479\"/><line style=\"stroke: #383838; stroke-width: 1.0;\" x1=\"189.5\" x2=\"308.5\" y1=\"329.7422\" y2=\"329.7422\"/></a><!--MD5=[2156ba9850f5573cc1fc38a6a4b2f02b]\n",
       "class E7--><a href=\"psysml:70e6cc11-a878-4419-9a48-d32cb5df9816\" target=\"_top\" title=\"psysml:70e6cc11-a878-4419-9a48-d32cb5df9816\" xlink:actuate=\"onRequest\" xlink:href=\"psysml:70e6cc11-a878-4419-9a48-d32cb5df9816\" xlink:show=\"new\" xlink:title=\"psysml:70e6cc11-a878-4419-9a48-d32cb5df9816\" xlink:type=\"simple\"><rect fill=\"#FFFFFF\" height=\"45.9375\" id=\"E7\" rx=\"10\" ry=\"10\" style=\"stroke: #383838; stroke-width: 1.5;\" width=\"93\" x=\"144.5\" y=\"409.5\"/><text fill=\"#000000\" font-family=\"sans-serif\" font-size=\"12\" font-style=\"italic\" lengthAdjust=\"spacingAndGlyphs\" textLength=\"91\" x=\"145.5\" y=\"425.6387\">«requirement»</text><text fill=\"#000000\" font-family=\"sans-serif\" font-size=\"12\" lengthAdjust=\"spacingAndGlyphs\" text-decoration=\"line-through\" textLength=\"51\" x=\"165.5\" y=\"439.6074\">noname</text><line style=\"stroke: #383838; stroke-width: 1.5;\" x1=\"145.5\" x2=\"236.5\" y1=\"447.4375\" y2=\"447.4375\"/></a><!--MD5=[b9389687b975829384b498ac4b7476b2]\n",
       "class E8--><a href=\"psysml:5c5c4776-1d3a-4700-8516-1d3a67d779f4\" target=\"_top\" title=\"psysml:5c5c4776-1d3a-4700-8516-1d3a67d779f4\" xlink:actuate=\"onRequest\" xlink:href=\"psysml:5c5c4776-1d3a-4700-8516-1d3a67d779f4\" xlink:show=\"new\" xlink:title=\"psysml:5c5c4776-1d3a-4700-8516-1d3a67d779f4\" xlink:type=\"simple\"><rect fill=\"#FFFFFF\" height=\"66.7422\" id=\"E8\" style=\"stroke: #383838; stroke-width: 1.5;\" width=\"121\" x=\"272.5\" y=\"399\"/><text fill=\"#000000\" font-family=\"sans-serif\" font-size=\"12\" font-style=\"italic\" lengthAdjust=\"spacingAndGlyphs\" textLength=\"119\" x=\"273.5\" y=\"415.1387\">«requirement  def»</text><text fill=\"#000000\" font-family=\"sans-serif\" font-size=\"12\" lengthAdjust=\"spacingAndGlyphs\" textLength=\"5\" x=\"320\" y=\"429.1074\">[</text><text fill=\"#000000\" font-family=\"sans-serif\" font-size=\"12\" font-weight=\"bold\" lengthAdjust=\"spacingAndGlyphs\" textLength=\"8\" x=\"325\" y=\"429.1074\">1</text><text fill=\"#000000\" font-family=\"sans-serif\" font-size=\"12\" lengthAdjust=\"spacingAndGlyphs\" textLength=\"17\" x=\"333\" y=\"429.1074\">] A</text><line style=\"stroke: #383838; stroke-width: 1.5;\" x1=\"273.5\" x2=\"392.5\" y1=\"436.9375\" y2=\"436.9375\"/><text fill=\"#000000\" font-family=\"sans-serif\" font-size=\"11\" lengthAdjust=\"spacingAndGlyphs\" textLength=\"24\" x=\"278.5\" y=\"451.1479\">Text</text><line style=\"stroke: #383838; stroke-width: 1.0;\" x1=\"273.5\" x2=\"392.5\" y1=\"457.7422\" y2=\"457.7422\"/></a><!--MD5=[fd4143e9d270a159db93a4ea2a975926]\n",
       "class E9--><a href=\"psysml:f2fc2205-4b84-4313-b340-24ee025c15cf\" target=\"_top\" title=\"psysml:f2fc2205-4b84-4313-b340-24ee025c15cf\" xlink:actuate=\"onRequest\" xlink:href=\"psysml:f2fc2205-4b84-4313-b340-24ee025c15cf\" xlink:show=\"new\" xlink:title=\"psysml:f2fc2205-4b84-4313-b340-24ee025c15cf\" xlink:type=\"simple\"><rect fill=\"#FFFFFF\" height=\"45.9375\" id=\"E9\" style=\"stroke: #383838; stroke-width: 1.5;\" width=\"121\" x=\"32.5\" y=\"281.5\"/><text fill=\"#000000\" font-family=\"sans-serif\" font-size=\"12\" font-style=\"italic\" lengthAdjust=\"spacingAndGlyphs\" textLength=\"119\" x=\"33.5\" y=\"297.6387\">«requirement  def»</text><text fill=\"#000000\" font-family=\"sans-serif\" font-size=\"12\" lengthAdjust=\"spacingAndGlyphs\" textLength=\"16\" x=\"85\" y=\"311.6074\">R1</text><line style=\"stroke: #383838; stroke-width: 1.5;\" x1=\"33.5\" x2=\"152.5\" y1=\"319.4375\" y2=\"319.4375\"/></a><!--MD5=[1dd1bfd58a279cf63c5f349dbc8fc6a1]\n",
       "class E11--><a href=\"psysml:4203d305-f881-4dfa-bcc5-a82b5aac35c4\" target=\"_top\" title=\"psysml:4203d305-f881-4dfa-bcc5-a82b5aac35c4\" xlink:actuate=\"onRequest\" xlink:href=\"psysml:4203d305-f881-4dfa-bcc5-a82b5aac35c4\" xlink:show=\"new\" xlink:title=\"psysml:4203d305-f881-4dfa-bcc5-a82b5aac35c4\" xlink:type=\"simple\"><rect fill=\"#FFFFFF\" height=\"45.9375\" id=\"E11\" rx=\"10\" ry=\"10\" style=\"stroke: #383838; stroke-width: 1.5;\" width=\"42\" x=\"95\" y=\"41\"/><text fill=\"#000000\" font-family=\"sans-serif\" font-size=\"12\" font-style=\"italic\" lengthAdjust=\"spacingAndGlyphs\" textLength=\"40\" x=\"96\" y=\"57.1387\">«part»</text><text fill=\"#000000\" font-family=\"sans-serif\" font-size=\"12\" lengthAdjust=\"spacingAndGlyphs\" textLength=\"8\" x=\"112\" y=\"71.1074\">p</text><line style=\"stroke: #383838; stroke-width: 1.5;\" x1=\"96\" x2=\"136\" y1=\"78.9375\" y2=\"78.9375\"/></a><!--MD5=[49a0ec8f00dab7302a31f22d0f0fe584]\n",
       "class E12--><a href=\"psysml:d0dbee69-5f2e-4ac4-ba4b-4aca7380bae7\" target=\"_top\" title=\"psysml:d0dbee69-5f2e-4ac4-ba4b-4aca7380bae7\" xlink:actuate=\"onRequest\" xlink:href=\"psysml:d0dbee69-5f2e-4ac4-ba4b-4aca7380bae7\" xlink:show=\"new\" xlink:title=\"psysml:d0dbee69-5f2e-4ac4-ba4b-4aca7380bae7\" xlink:type=\"simple\"><rect fill=\"#FFFFFF\" height=\"45.9375\" id=\"E12\" rx=\"10\" ry=\"10\" style=\"stroke: #383838; stroke-width: 1.5;\" width=\"42\" x=\"280\" y=\"41\"/><text fill=\"#000000\" font-family=\"sans-serif\" font-size=\"12\" font-style=\"italic\" lengthAdjust=\"spacingAndGlyphs\" textLength=\"40\" x=\"281\" y=\"57.1387\">«part»</text><text fill=\"#000000\" font-family=\"sans-serif\" font-size=\"12\" lengthAdjust=\"spacingAndGlyphs\" textLength=\"8\" x=\"297\" y=\"71.1074\">q</text><line style=\"stroke: #383838; stroke-width: 1.5;\" x1=\"281\" x2=\"321\" y1=\"78.9375\" y2=\"78.9375\"/></a><!--MD5=[ee3c913d1a06f366521f9ef512b67efe]\n",
       "class E13--><a href=\"psysml:aee31540-9ea4-41ee-8ebb-8555bfaf03fb\" target=\"_top\" title=\"psysml:aee31540-9ea4-41ee-8ebb-8555bfaf03fb\" xlink:actuate=\"onRequest\" xlink:href=\"psysml:aee31540-9ea4-41ee-8ebb-8555bfaf03fb\" xlink:show=\"new\" xlink:title=\"psysml:aee31540-9ea4-41ee-8ebb-8555bfaf03fb\" xlink:type=\"simple\"><rect fill=\"#FFFFFF\" height=\"45.9375\" id=\"E13\" rx=\"10\" ry=\"10\" style=\"stroke: #383838; stroke-width: 1.5;\" width=\"93\" x=\"200.5\" y=\"164\"/><text fill=\"#000000\" font-family=\"sans-serif\" font-size=\"12\" font-style=\"italic\" lengthAdjust=\"spacingAndGlyphs\" textLength=\"91\" x=\"201.5\" y=\"180.1387\">«requirement»</text><text fill=\"#000000\" font-family=\"sans-serif\" font-size=\"12\" lengthAdjust=\"spacingAndGlyphs\" textLength=\"21\" x=\"234.5\" y=\"194.1074\">r: R</text><line style=\"stroke: #383838; stroke-width: 1.5;\" x1=\"201.5\" x2=\"292.5\" y1=\"201.9375\" y2=\"201.9375\"/></a><!--MD5=[bee11217b2f71d958a27249dc326068c]\n",
       "class E14--><a href=\"psysml:5c4fb90e-2e7f-411e-8437-1e0e9b0bd00e\" target=\"_top\" title=\"psysml:5c4fb90e-2e7f-411e-8437-1e0e9b0bd00e\" xlink:actuate=\"onRequest\" xlink:href=\"psysml:5c4fb90e-2e7f-411e-8437-1e0e9b0bd00e\" xlink:show=\"new\" xlink:title=\"psysml:5c4fb90e-2e7f-411e-8437-1e0e9b0bd00e\" xlink:type=\"simple\"><rect fill=\"#FFFFFF\" height=\"45.9375\" id=\"E14\" rx=\"10\" ry=\"10\" style=\"stroke: #383838; stroke-width: 1.5;\" width=\"93\" x=\"46.5\" y=\"164\"/><text fill=\"#000000\" font-family=\"sans-serif\" font-size=\"12\" font-style=\"italic\" lengthAdjust=\"spacingAndGlyphs\" textLength=\"91\" x=\"47.5\" y=\"180.1387\">«requirement»</text><text fill=\"#000000\" font-family=\"sans-serif\" font-size=\"12\" lengthAdjust=\"spacingAndGlyphs\" textLength=\"37\" x=\"72.5\" y=\"194.1074\">r1: R1</text><line style=\"stroke: #383838; stroke-width: 1.5;\" x1=\"47.5\" x2=\"138.5\" y1=\"201.9375\" y2=\"201.9375\"/></a><!--MD5=[05d275557350bfb9b23a4ef7222b4c39]\n",
       "link E3 to E2--><a href=\"psysml:1cfa9d08-8b1e-49ae-8f22-7ec5c2d68c94\" target=\"_top\" title=\"psysml:1cfa9d08-8b1e-49ae-8f22-7ec5c2d68c94\" xlink:actuate=\"onRequest\" xlink:href=\"psysml:1cfa9d08-8b1e-49ae-8f22-7ec5c2d68c94\" xlink:show=\"new\" xlink:title=\"psysml:1cfa9d08-8b1e-49ae-8f22-7ec5c2d68c94\" xlink:type=\"simple\"><path d=\"M411.42,87.05 C420.69,101.23 431,117 431,117 C431,117 431,134 431,134 C431,134 424.88,140.63 417.01,149.16 \" fill=\"none\" id=\"E3-&gt;E2\" style=\"stroke: #383838; stroke-width: 1.0;\"/><polygon fill=\"#FFFFFF\" points=\"403.36,163.95,411.1052,145.2414,421.3917,154.7382,403.36,163.95\" style=\"stroke: #383838; stroke-width: 1.0;\"/><ellipse cx=\"416.4412\" cy=\"142.41\" fill=\"#383838\" rx=\"2\" ry=\"2\" style=\"stroke: #383838; stroke-width: 1.0;\"/><ellipse cx=\"423.7887\" cy=\"149.1934\" fill=\"#383838\" rx=\"2\" ry=\"2\" style=\"stroke: #383838; stroke-width: 1.0;\"/></a><!--MD5=[722ff4eef345aa10242dad44df0e98c7]\n",
       "reverse link E4 to E7--><a href=\"psysml:8957256b-d423-4c87-844e-8026b3f5c553\" target=\"_top\" title=\"psysml:8957256b-d423-4c87-844e-8026b3f5c553\" xlink:actuate=\"onRequest\" xlink:href=\"psysml:8957256b-d423-4c87-844e-8026b3f5c553\" xlink:show=\"new\" xlink:title=\"psysml:8957256b-d423-4c87-844e-8026b3f5c553\" xlink:type=\"simple\"><path d=\"M228.38,350.29 C219.19,370.26 208.76,392.91 201.26,409.21 \" fill=\"none\" id=\"E4&lt;-E7\" style=\"stroke: #383838; stroke-width: 1.0;\"/><polygon fill=\"#383838\" points=\"233.91,338.28,227.7664,342.0558,228.8888,349.179,235.0324,345.4032,233.91,338.28\" style=\"stroke: #383838; stroke-width: 1.0;\"/><text fill=\"#000000\" font-family=\"sans-serif\" font-size=\"13\" lengthAdjust=\"spacingAndGlyphs\" textLength=\"7\" x=\"195.9922\" y=\"398.412\">*</text></a><!--MD5=[c6fc7cdb0cabde04948078cf183fa696]\n",
       "reverse link E4 to E8--><a href=\"psysml:e7993699-2e90-4c6e-9ce7-c90f60868f83\" target=\"_top\" title=\"psysml:e7993699-2e90-4c6e-9ce7-c90f60868f83\" xlink:actuate=\"onRequest\" xlink:href=\"psysml:e7993699-2e90-4c6e-9ce7-c90f60868f83\" xlink:show=\"new\" xlink:title=\"psysml:e7993699-2e90-4c6e-9ce7-c90f60868f83\" xlink:type=\"simple\"><path d=\"M279.4,351.09 C289.94,366.92 301.55,384.33 311.26,398.89 \" fill=\"none\" id=\"E4&lt;-E8\" style=\"stroke: #383838; stroke-width: 1.0;\"/><ellipse cx=\"275.2894\" cy=\"344.9352\" fill=\"#FFFFFF\" rx=\"8\" ry=\"8\" style=\"stroke: #383838; stroke-width: 1.0;\"/><line style=\"stroke: #383838; stroke-width: 1.0;\" x1=\"279.7287\" x2=\"270.85\" y1=\"351.5905\" y2=\"338.28\"/><line style=\"stroke: #383838; stroke-width: 1.0;\" x1=\"268.6341\" x2=\"281.9446\" y1=\"349.3746\" y2=\"340.4959\"/></a><!--MD5=[062ed86c389d1a88f61c6380d0491e17]\n",
       "reverse link E12 to E13--><a href=\"psysml:0f26ba0d-7372-4c44-875c-adf3c35e17b9\" target=\"_top\" title=\"psysml:0f26ba0d-7372-4c44-875c-adf3c35e17b9\" xlink:actuate=\"onRequest\" xlink:href=\"psysml:0f26ba0d-7372-4c44-875c-adf3c35e17b9\" xlink:show=\"new\" xlink:title=\"psysml:0f26ba0d-7372-4c44-875c-adf3c35e17b9\" xlink:type=\"simple\"><path d=\"M333.95,83.59 C337.58,85.64 340,87 340,87 C340,87 424,117 424,117 C424,117 424,134 424,134 C424,134 312,164 312,164 C312,164 303.97,166.72 293.55,170.25 \" fill=\"none\" id=\"E12&lt;-E13\" style=\"stroke: #383838; stroke-width: 1.0;\"/><polygon fill=\"#383838\" points=\"322.33,77.03,325.5926,83.4608,332.7836,82.9225,329.521,76.4917,322.33,77.03\" style=\"stroke: #383838; stroke-width: 1.0;\"/></a><!--MD5=[e2a9ac97dcd3257bb5342dae06547bad]\n",
       "link E12 to E13--><a href=\"psysml:f5a4eec3-f375-4f03-819b-6c5c8dc7728c\" target=\"_top\" title=\"psysml:f5a4eec3-f375-4f03-819b-6c5c8dc7728c\" xlink:actuate=\"onRequest\" xlink:href=\"psysml:f5a4eec3-f375-4f03-819b-6c5c8dc7728c\" xlink:show=\"new\" xlink:title=\"psysml:f5a4eec3-f375-4f03-819b-6c5c8dc7728c\" xlink:type=\"simple\"><path d=\"M311.18,87.05 C317.72,101.23 325,117 325,117 C325,117 325,134 325,134 C325,134 304.38,147.75 284.34,161.11 \" fill=\"none\" id=\"E12-&gt;E13\" style=\"stroke: #383838; stroke-width: 1.0; stroke-dasharray: 7.0,7.0;\"/><polygon fill=\"#383838\" points=\"280.08,163.95,289.7873,162.2859,284.2403,161.1765,285.3497,155.6295,280.08,163.95\" style=\"stroke: #383838; stroke-width: 1.0;\"/><text fill=\"#000000\" font-family=\"sans-serif\" font-size=\"13\" lengthAdjust=\"spacingAndGlyphs\" textLength=\"57\" x=\"326\" y=\"130.0669\">«satisfy»</text></a><!--MD5=[017847e01ff9a8bd19f247411074f987]\n",
       "link E13 to E4--><a href=\"psysml:e01bb7f1-206a-408f-a898-0799ec242df4\" target=\"_top\" title=\"psysml:e01bb7f1-206a-408f-a898-0799ec242df4\" xlink:actuate=\"onRequest\" xlink:href=\"psysml:e01bb7f1-206a-408f-a898-0799ec242df4\" xlink:show=\"new\" xlink:title=\"psysml:e01bb7f1-206a-408f-a898-0799ec242df4\" xlink:type=\"simple\"><path d=\"M247.39,210.27 C247.59,221.81 247.84,236.43 248.09,250.66 \" fill=\"none\" id=\"E13-&gt;E4\" style=\"stroke: #383838; stroke-width: 1.0;\"/><polygon fill=\"#FFFFFF\" points=\"248.43,270.81,241.1054,251.9328,255.1033,251.6928,248.43,270.81\" style=\"stroke: #383838; stroke-width: 1.0;\"/><ellipse cx=\"243.0074\" cy=\"246.1993\" fill=\"#383838\" rx=\"2\" ry=\"2\" style=\"stroke: #383838; stroke-width: 1.0;\"/><ellipse cx=\"253.0059\" cy=\"246.0279\" fill=\"#383838\" rx=\"2\" ry=\"2\" style=\"stroke: #383838; stroke-width: 1.0;\"/></a><!--MD5=[60f911bb19596b289db4a22769f8105a]\n",
       "link E11 to E13--><a href=\"psysml:e806deaf-0ce2-4d10-9e57-833502fc32ee\" target=\"_top\" title=\"psysml:e806deaf-0ce2-4d10-9e57-833502fc32ee\" xlink:actuate=\"onRequest\" xlink:href=\"psysml:e806deaf-0ce2-4d10-9e57-833502fc32ee\" xlink:show=\"new\" xlink:title=\"psysml:e806deaf-0ce2-4d10-9e57-833502fc32ee\" xlink:type=\"simple\"><path d=\"M131.13,87.21 C144.87,107.38 163,134 163,134 C163,134 185.4,147.86 207.06,161.28 \" fill=\"none\" id=\"E11-&gt;E13\" style=\"stroke: #383838; stroke-width: 1.0; stroke-dasharray: 7.0,7.0;\"/><polygon fill=\"#383838\" points=\"211.38,163.95,205.8557,155.7964,207.136,161.3064,201.6259,162.5868,211.38,163.95\" style=\"stroke: #383838; stroke-width: 1.0;\"/><text fill=\"#000000\" font-family=\"sans-serif\" font-size=\"13\" lengthAdjust=\"spacingAndGlyphs\" textLength=\"57\" x=\"164\" y=\"130.0669\">«satisfy»</text></a><!--MD5=[0c677eb374079406c87b74cd1f5a339d]\n",
       "link E14 to E9--><a href=\"psysml:d6ece11e-fb98-4dd6-9106-0f6846b0bd9f\" target=\"_top\" title=\"psysml:d6ece11e-fb98-4dd6-9106-0f6846b0bd9f\" xlink:actuate=\"onRequest\" xlink:href=\"psysml:d6ece11e-fb98-4dd6-9106-0f6846b0bd9f\" xlink:show=\"new\" xlink:title=\"psysml:d6ece11e-fb98-4dd6-9106-0f6846b0bd9f\" xlink:type=\"simple\"><path d=\"M93,210.27 C93,224.65 93,243.82 93,261.04 \" fill=\"none\" id=\"E14-&gt;E9\" style=\"stroke: #383838; stroke-width: 1.0;\"/><polygon fill=\"#FFFFFF\" points=\"93,281.3,86,262.3,100,262.3,93,281.3\" style=\"stroke: #383838; stroke-width: 1.0;\"/><ellipse cx=\"88\" cy=\"256.6\" fill=\"#383838\" rx=\"2\" ry=\"2\" style=\"stroke: #383838; stroke-width: 1.0;\"/><ellipse cx=\"98\" cy=\"256.6\" fill=\"#383838\" rx=\"2\" ry=\"2\" style=\"stroke: #383838; stroke-width: 1.0;\"/></a><!--MD5=[9c1c40551dcf5c2fca147626a786a7cd]\n",
       "link E11 to E14--><a href=\"psysml:feaea2f2-720b-4dbc-ba1d-0aec40f00046\" target=\"_top\" title=\"psysml:feaea2f2-720b-4dbc-ba1d-0aec40f00046\" xlink:actuate=\"onRequest\" xlink:href=\"psysml:feaea2f2-720b-4dbc-ba1d-0aec40f00046\" xlink:show=\"new\" xlink:title=\"psysml:feaea2f2-720b-4dbc-ba1d-0aec40f00046\" xlink:type=\"simple\"><path d=\"M94.85,86.15 C80.45,100.55 64,117 64,117 C64,117 64,134 64,134 C64,134 70.98,146.51 78.09,159.26 \" fill=\"none\" id=\"E11-&gt;E14\" style=\"stroke: #383838; stroke-width: 1.0; stroke-dasharray: 7.0,7.0;\"/><polygon fill=\"#383838\" points=\"80.7,163.95,79.8122,154.1412,78.2657,159.5826,72.8244,158.0361,80.7,163.95\" style=\"stroke: #383838; stroke-width: 1.0;\"/><text fill=\"#000000\" font-family=\"sans-serif\" font-size=\"13\" lengthAdjust=\"spacingAndGlyphs\" textLength=\"57\" x=\"65\" y=\"130.0669\">«satisfy»</text></a><!--MD5=[d53cb08dffc8689d16e38c8e194e9adc]\n",
       "link E12 to E14--><a href=\"psysml:f5704f7b-2601-4abd-90b0-2ec51a978e80\" target=\"_top\" title=\"psysml:f5704f7b-2601-4abd-90b0-2ec51a978e80\" xlink:actuate=\"onRequest\" xlink:href=\"psysml:f5704f7b-2601-4abd-90b0-2ec51a978e80\" xlink:show=\"new\" xlink:title=\"psysml:f5704f7b-2601-4abd-90b0-2ec51a978e80\" xlink:type=\"simple\"><path d=\"M279.71,84.59 C257.54,104.99 226,134 226,134 C226,134 181.92,151.24 144.51,165.86 \" fill=\"none\" id=\"E12-&gt;E14\" style=\"stroke: #383838; stroke-width: 1.0; stroke-dasharray: 7.0,7.0;\"/><polygon fill=\"#383838\" points=\"139.52,167.81,149.3581,168.2702,144.1789,165.995,146.4541,160.8159,139.52,167.81\" style=\"stroke: #383838; stroke-width: 1.0;\"/><text fill=\"#000000\" font-family=\"sans-serif\" font-size=\"13\" lengthAdjust=\"spacingAndGlyphs\" textLength=\"57\" x=\"245\" y=\"130.0669\">«satisfy»</text></a><!--MD5=[4e7f19cab439a23527b221ce2c3d2c33]\n",
       "@startuml\r\n",
       "skinparam linetype polyline\r\n",
       "skinparam monochrome true\r\n",
       "skinparam classbackgroundcolor white\r\n",
       "skinparam shadowing false\r\n",
       "skinparam wrapWidth 300\r\n",
       "hide circle\r\n",
       "\r\n",
       "package \"RequirementTest\" as E1  [[psysml:2a075407-fc8d-47b4-b4de-e1839d24b848 ]]  {\r\n",
       "comp def \"C\" as E2  <<(T,blue) constraint  def>> [[psysml:8e8b9929-fb62-44f3-bb6e-73f88688eaf1 ]] {\r\n",
       "}\r\n",
       "comp usage \"c: C \" as E3  <<(T,blue) constraint>> [[psysml:8dab2afb-478b-48f2-a7f7-bb2b245c05ea ]] {\r\n",
       "}\r\n",
       "comp def \"R\" as E4  <<(T,blue) requirement  def>> [[psysml:cae76f8a-948f-454f-8648-301efab5060e ]] {\r\n",
       "\r\n",
       "- -\r\n",
       "}\r\n",
       "comp usage \"<s>noname</s>\" as E7  <<(T,blue) requirement>> [[psysml:70e6cc11-a878-4419-9a48-d32cb5df9816 ]] {\r\n",
       "}\r\n",
       "comp def \" [<b>1</b>] A\" as E8  <<(T,blue) requirement  def>> [[psysml:5c5c4776-1d3a-4700-8516-1d3a67d779f4 ]] {\r\n",
       "Text\r\n",
       "- -\r\n",
       "}\r\n",
       "comp def \"R1\" as E9  <<(T,blue) requirement  def>> [[psysml:f2fc2205-4b84-4313-b340-24ee025c15cf ]] {\r\n",
       "}\r\n",
       "comp usage \"p\" as E11  <<(T,blue) part>> [[psysml:4203d305-f881-4dfa-bcc5-a82b5aac35c4 ]] {\r\n",
       "}\r\n",
       "comp usage \"q\" as E12  <<(T,blue) part>> [[psysml:d0dbee69-5f2e-4ac4-ba4b-4aca7380bae7 ]] {\r\n",
       "}\r\n",
       "comp usage \"r: R \" as E13  <<(T,blue) requirement>> [[psysml:aee31540-9ea4-41ee-8ebb-8555bfaf03fb ]] {\r\n",
       "}\r\n",
       "comp usage \"r1: R1 \" as E14  <<(T,blue) requirement>> [[psysml:5c4fb90e-2e7f-411e-8437-1e0e9b0bd00e ]] {\r\n",
       "}\r\n",
       "}\r\n",
       "E3 - -:|> E2 [[psysml:1cfa9d08-8b1e-49ae-8f22-7ec5c2d68c94 ]] \r\n",
       "E4 *- - \"*\"E7 [[psysml:8957256b-d423-4c87-844e-8026b3f5c553 ]] \r\n",
       "E4 +- - E8 [[psysml:e7993699-2e90-4c6e-9ce7-c90f60868f83 ]] \r\n",
       "E12 *- - E13 [[psysml:0f26ba0d-7372-4c44-875c-adf3c35e17b9 ]] \r\n",
       "E13 - -:|> E4 [[psysml:e01bb7f1-206a-408f-a898-0799ec242df4 ]] \r\n",
       "E11 ..> E13 [[psysml:e806deaf-0ce2-4d10-9e57-833502fc32ee ]] : <<satisfy>>\r\n",
       "E12 ..> E13 [[psysml:f5a4eec3-f375-4f03-819b-6c5c8dc7728c ]] : <<satisfy>>\r\n",
       "E14 - -:|> E9 [[psysml:d6ece11e-fb98-4dd6-9106-0f6846b0bd9f ]] \r\n",
       "E11 ..> E14 [[psysml:feaea2f2-720b-4dbc-ba1d-0aec40f00046 ]] : <<satisfy>>\r\n",
       "E12 ..> E14 [[psysml:f5704f7b-2601-4abd-90b0-2ec51a978e80 ]] : <<satisfy>>\r\n",
       "@enduml\r\n",
       "\n",
       "PlantUML version 1.2020.13(Sat Jun 13 12:26:38 UTC 2020)\n",
       "(EPL source distribution)\n",
       "Java Runtime: OpenJDK Runtime Environment\n",
       "JVM: OpenJDK 64-Bit Server VM\n",
       "Default Encoding: UTF-8\n",
       "Language: en\n",
       "Country: null\n",
       "--></g></svg>"
      ]
     },
     "execution_count": 9,
     "metadata": {},
     "output_type": "execute_result"
    }
   ],
   "source": [
    "%viz --style=\"POLYLINE\" --view=\"Default\" \"RequirementTest\""
   ]
  },
  {
   "cell_type": "code",
   "execution_count": 10,
   "id": "4f2d498b",
   "metadata": {
    "execution": {
     "iopub.execute_input": "2021-10-25T08:21:11.996165Z",
     "iopub.status.busy": "2021-10-25T08:21:11.995734Z",
     "iopub.status.idle": "2021-10-25T08:21:12.071654Z",
     "shell.execute_reply": "2021-10-25T08:21:12.071452Z"
    }
   },
   "outputs": [
    {
     "data": {
      "image/svg+xml": [
       "<?xml version=\"1.0\" encoding=\"UTF-8\" standalone=\"no\"?><svg xmlns=\"http://www.w3.org/2000/svg\" xmlns:xlink=\"http://www.w3.org/1999/xlink\" contentScriptType=\"application/ecmascript\" contentStyleType=\"text/css\" height=\"494px\" preserveAspectRatio=\"none\" style=\"width:475px;height:494px;\" version=\"1.1\" viewBox=\"0 0 475 494\" width=\"475px\" zoomAndPan=\"magnify\"><defs/><g><!--MD5=[fbc87193dbaf4d95561dea2c320d4a47]\n",
       "cluster E1--><a href=\"psysml:2a075407-fc8d-47b4-b4de-e1839d24b848\" target=\"_top\" title=\"psysml:2a075407-fc8d-47b4-b4de-e1839d24b848\" xlink:actuate=\"onRequest\" xlink:href=\"psysml:2a075407-fc8d-47b4-b4de-e1839d24b848\" xlink:show=\"new\" xlink:title=\"psysml:2a075407-fc8d-47b4-b4de-e1839d24b848\" xlink:type=\"simple\"><polygon fill=\"#FFFFFF\" points=\"16,6,143,6,150,28.2969,453,28.2969,453,482,16,482,16,6\" style=\"stroke: #000000; stroke-width: 1.5;\"/><line style=\"stroke: #000000; stroke-width: 1.5;\" x1=\"16\" x2=\"150\" y1=\"28.2969\" y2=\"28.2969\"/><text fill=\"#000000\" font-family=\"sans-serif\" font-size=\"14\" font-weight=\"bold\" lengthAdjust=\"spacingAndGlyphs\" textLength=\"121\" x=\"20\" y=\"20.9951\">RequirementTest</text></a><!--MD5=[b4997ac47864f28c2f74865a473b2911]\n",
       "class E2--><a href=\"psysml:8e8b9929-fb62-44f3-bb6e-73f88688eaf1\" target=\"_top\" title=\"psysml:8e8b9929-fb62-44f3-bb6e-73f88688eaf1\" xlink:actuate=\"onRequest\" xlink:href=\"psysml:8e8b9929-fb62-44f3-bb6e-73f88688eaf1\" xlink:show=\"new\" xlink:title=\"psysml:8e8b9929-fb62-44f3-bb6e-73f88688eaf1\" xlink:type=\"simple\"><rect fill=\"#FFFFFF\" height=\"45.9375\" id=\"E2\" style=\"stroke: #383838; stroke-width: 1.5;\" width=\"108\" x=\"329\" y=\"164\"/><text fill=\"#000000\" font-family=\"sans-serif\" font-size=\"12\" font-style=\"italic\" lengthAdjust=\"spacingAndGlyphs\" textLength=\"106\" x=\"330\" y=\"180.1387\">«constraint  def»</text><text fill=\"#000000\" font-family=\"sans-serif\" font-size=\"12\" lengthAdjust=\"spacingAndGlyphs\" textLength=\"8\" x=\"379\" y=\"194.1074\">C</text><line style=\"stroke: #383838; stroke-width: 1.5;\" x1=\"330\" x2=\"436\" y1=\"201.9375\" y2=\"201.9375\"/></a><!--MD5=[09b614a08d8cba4a07c9adeb5e0fee81]\n",
       "class E3--><a href=\"psysml:8dab2afb-478b-48f2-a7f7-bb2b245c05ea\" target=\"_top\" title=\"psysml:8dab2afb-478b-48f2-a7f7-bb2b245c05ea\" xlink:actuate=\"onRequest\" xlink:href=\"psysml:8dab2afb-478b-48f2-a7f7-bb2b245c05ea\" xlink:show=\"new\" xlink:title=\"psysml:8dab2afb-478b-48f2-a7f7-bb2b245c05ea\" xlink:type=\"simple\"><rect fill=\"#FFFFFF\" height=\"45.9375\" id=\"E3\" rx=\"10\" ry=\"10\" style=\"stroke: #383838; stroke-width: 1.5;\" width=\"80\" x=\"357\" y=\"41\"/><text fill=\"#000000\" font-family=\"sans-serif\" font-size=\"12\" font-style=\"italic\" lengthAdjust=\"spacingAndGlyphs\" textLength=\"78\" x=\"358\" y=\"57.1387\">«constraint»</text><text fill=\"#000000\" font-family=\"sans-serif\" font-size=\"12\" lengthAdjust=\"spacingAndGlyphs\" textLength=\"23\" x=\"383.5\" y=\"71.1074\">c: C</text><line style=\"stroke: #383838; stroke-width: 1.5;\" x1=\"358\" x2=\"436\" y1=\"78.9375\" y2=\"78.9375\"/></a><!--MD5=[ebbe1d658d1005bcc118a6aa81145e00]\n",
       "class E4--><a href=\"psysml:cae76f8a-948f-454f-8648-301efab5060e\" target=\"_top\" title=\"psysml:cae76f8a-948f-454f-8648-301efab5060e\" xlink:actuate=\"onRequest\" xlink:href=\"psysml:cae76f8a-948f-454f-8648-301efab5060e\" xlink:show=\"new\" xlink:title=\"psysml:cae76f8a-948f-454f-8648-301efab5060e\" xlink:type=\"simple\"><rect fill=\"#FFFFFF\" height=\"66.7422\" id=\"E4\" style=\"stroke: #383838; stroke-width: 1.5;\" width=\"121\" x=\"188.5\" y=\"271\"/><text fill=\"#000000\" font-family=\"sans-serif\" font-size=\"12\" font-style=\"italic\" lengthAdjust=\"spacingAndGlyphs\" textLength=\"119\" x=\"189.5\" y=\"287.1387\">«requirement  def»</text><text fill=\"#000000\" font-family=\"sans-serif\" font-size=\"12\" lengthAdjust=\"spacingAndGlyphs\" textLength=\"8\" x=\"245\" y=\"301.1074\">R</text><line style=\"stroke: #383838; stroke-width: 1.5;\" x1=\"189.5\" x2=\"308.5\" y1=\"308.9375\" y2=\"308.9375\"/><text fill=\"#000000\" font-family=\"sans-serif\" font-size=\"11\" lengthAdjust=\"spacingAndGlyphs\" textLength=\"0\" x=\"198.5\" y=\"323.1479\"/><line style=\"stroke: #383838; stroke-width: 1.0;\" x1=\"189.5\" x2=\"308.5\" y1=\"329.7422\" y2=\"329.7422\"/></a><!--MD5=[2156ba9850f5573cc1fc38a6a4b2f02b]\n",
       "class E7--><a href=\"psysml:70e6cc11-a878-4419-9a48-d32cb5df9816\" target=\"_top\" title=\"psysml:70e6cc11-a878-4419-9a48-d32cb5df9816\" xlink:actuate=\"onRequest\" xlink:href=\"psysml:70e6cc11-a878-4419-9a48-d32cb5df9816\" xlink:show=\"new\" xlink:title=\"psysml:70e6cc11-a878-4419-9a48-d32cb5df9816\" xlink:type=\"simple\"><rect fill=\"#FFFFFF\" height=\"45.9375\" id=\"E7\" rx=\"10\" ry=\"10\" style=\"stroke: #383838; stroke-width: 1.5;\" width=\"93\" x=\"144.5\" y=\"409.5\"/><text fill=\"#000000\" font-family=\"sans-serif\" font-size=\"12\" font-style=\"italic\" lengthAdjust=\"spacingAndGlyphs\" textLength=\"91\" x=\"145.5\" y=\"425.6387\">«requirement»</text><text fill=\"#000000\" font-family=\"sans-serif\" font-size=\"12\" lengthAdjust=\"spacingAndGlyphs\" text-decoration=\"line-through\" textLength=\"51\" x=\"165.5\" y=\"439.6074\">noname</text><line style=\"stroke: #383838; stroke-width: 1.5;\" x1=\"145.5\" x2=\"236.5\" y1=\"447.4375\" y2=\"447.4375\"/></a><!--MD5=[b9389687b975829384b498ac4b7476b2]\n",
       "class E8--><a href=\"psysml:5c5c4776-1d3a-4700-8516-1d3a67d779f4\" target=\"_top\" title=\"psysml:5c5c4776-1d3a-4700-8516-1d3a67d779f4\" xlink:actuate=\"onRequest\" xlink:href=\"psysml:5c5c4776-1d3a-4700-8516-1d3a67d779f4\" xlink:show=\"new\" xlink:title=\"psysml:5c5c4776-1d3a-4700-8516-1d3a67d779f4\" xlink:type=\"simple\"><rect fill=\"#FFFFFF\" height=\"66.7422\" id=\"E8\" style=\"stroke: #383838; stroke-width: 1.5;\" width=\"121\" x=\"272.5\" y=\"399\"/><text fill=\"#000000\" font-family=\"sans-serif\" font-size=\"12\" font-style=\"italic\" lengthAdjust=\"spacingAndGlyphs\" textLength=\"119\" x=\"273.5\" y=\"415.1387\">«requirement  def»</text><text fill=\"#000000\" font-family=\"sans-serif\" font-size=\"12\" lengthAdjust=\"spacingAndGlyphs\" textLength=\"5\" x=\"320\" y=\"429.1074\">[</text><text fill=\"#000000\" font-family=\"sans-serif\" font-size=\"12\" font-weight=\"bold\" lengthAdjust=\"spacingAndGlyphs\" textLength=\"8\" x=\"325\" y=\"429.1074\">1</text><text fill=\"#000000\" font-family=\"sans-serif\" font-size=\"12\" lengthAdjust=\"spacingAndGlyphs\" textLength=\"17\" x=\"333\" y=\"429.1074\">] A</text><line style=\"stroke: #383838; stroke-width: 1.5;\" x1=\"273.5\" x2=\"392.5\" y1=\"436.9375\" y2=\"436.9375\"/><text fill=\"#000000\" font-family=\"sans-serif\" font-size=\"11\" lengthAdjust=\"spacingAndGlyphs\" textLength=\"24\" x=\"278.5\" y=\"451.1479\">Text</text><line style=\"stroke: #383838; stroke-width: 1.0;\" x1=\"273.5\" x2=\"392.5\" y1=\"457.7422\" y2=\"457.7422\"/></a><!--MD5=[fd4143e9d270a159db93a4ea2a975926]\n",
       "class E9--><a href=\"psysml:f2fc2205-4b84-4313-b340-24ee025c15cf\" target=\"_top\" title=\"psysml:f2fc2205-4b84-4313-b340-24ee025c15cf\" xlink:actuate=\"onRequest\" xlink:href=\"psysml:f2fc2205-4b84-4313-b340-24ee025c15cf\" xlink:show=\"new\" xlink:title=\"psysml:f2fc2205-4b84-4313-b340-24ee025c15cf\" xlink:type=\"simple\"><rect fill=\"#FFFFFF\" height=\"45.9375\" id=\"E9\" style=\"stroke: #383838; stroke-width: 1.5;\" width=\"121\" x=\"32.5\" y=\"281.5\"/><text fill=\"#000000\" font-family=\"sans-serif\" font-size=\"12\" font-style=\"italic\" lengthAdjust=\"spacingAndGlyphs\" textLength=\"119\" x=\"33.5\" y=\"297.6387\">«requirement  def»</text><text fill=\"#000000\" font-family=\"sans-serif\" font-size=\"12\" lengthAdjust=\"spacingAndGlyphs\" textLength=\"16\" x=\"85\" y=\"311.6074\">R1</text><line style=\"stroke: #383838; stroke-width: 1.5;\" x1=\"33.5\" x2=\"152.5\" y1=\"319.4375\" y2=\"319.4375\"/></a><!--MD5=[1dd1bfd58a279cf63c5f349dbc8fc6a1]\n",
       "class E11--><a href=\"psysml:4203d305-f881-4dfa-bcc5-a82b5aac35c4\" target=\"_top\" title=\"psysml:4203d305-f881-4dfa-bcc5-a82b5aac35c4\" xlink:actuate=\"onRequest\" xlink:href=\"psysml:4203d305-f881-4dfa-bcc5-a82b5aac35c4\" xlink:show=\"new\" xlink:title=\"psysml:4203d305-f881-4dfa-bcc5-a82b5aac35c4\" xlink:type=\"simple\"><rect fill=\"#FFFFFF\" height=\"45.9375\" id=\"E11\" rx=\"10\" ry=\"10\" style=\"stroke: #383838; stroke-width: 1.5;\" width=\"42\" x=\"95\" y=\"41\"/><text fill=\"#000000\" font-family=\"sans-serif\" font-size=\"12\" font-style=\"italic\" lengthAdjust=\"spacingAndGlyphs\" textLength=\"40\" x=\"96\" y=\"57.1387\">«part»</text><text fill=\"#000000\" font-family=\"sans-serif\" font-size=\"12\" lengthAdjust=\"spacingAndGlyphs\" textLength=\"8\" x=\"112\" y=\"71.1074\">p</text><line style=\"stroke: #383838; stroke-width: 1.5;\" x1=\"96\" x2=\"136\" y1=\"78.9375\" y2=\"78.9375\"/></a><!--MD5=[49a0ec8f00dab7302a31f22d0f0fe584]\n",
       "class E12--><a href=\"psysml:d0dbee69-5f2e-4ac4-ba4b-4aca7380bae7\" target=\"_top\" title=\"psysml:d0dbee69-5f2e-4ac4-ba4b-4aca7380bae7\" xlink:actuate=\"onRequest\" xlink:href=\"psysml:d0dbee69-5f2e-4ac4-ba4b-4aca7380bae7\" xlink:show=\"new\" xlink:title=\"psysml:d0dbee69-5f2e-4ac4-ba4b-4aca7380bae7\" xlink:type=\"simple\"><rect fill=\"#FFFFFF\" height=\"45.9375\" id=\"E12\" rx=\"10\" ry=\"10\" style=\"stroke: #383838; stroke-width: 1.5;\" width=\"42\" x=\"280\" y=\"41\"/><text fill=\"#000000\" font-family=\"sans-serif\" font-size=\"12\" font-style=\"italic\" lengthAdjust=\"spacingAndGlyphs\" textLength=\"40\" x=\"281\" y=\"57.1387\">«part»</text><text fill=\"#000000\" font-family=\"sans-serif\" font-size=\"12\" lengthAdjust=\"spacingAndGlyphs\" textLength=\"8\" x=\"297\" y=\"71.1074\">q</text><line style=\"stroke: #383838; stroke-width: 1.5;\" x1=\"281\" x2=\"321\" y1=\"78.9375\" y2=\"78.9375\"/></a><!--MD5=[ee3c913d1a06f366521f9ef512b67efe]\n",
       "class E13--><a href=\"psysml:aee31540-9ea4-41ee-8ebb-8555bfaf03fb\" target=\"_top\" title=\"psysml:aee31540-9ea4-41ee-8ebb-8555bfaf03fb\" xlink:actuate=\"onRequest\" xlink:href=\"psysml:aee31540-9ea4-41ee-8ebb-8555bfaf03fb\" xlink:show=\"new\" xlink:title=\"psysml:aee31540-9ea4-41ee-8ebb-8555bfaf03fb\" xlink:type=\"simple\"><rect fill=\"#FFFFFF\" height=\"45.9375\" id=\"E13\" rx=\"10\" ry=\"10\" style=\"stroke: #383838; stroke-width: 1.5;\" width=\"93\" x=\"200.5\" y=\"164\"/><text fill=\"#000000\" font-family=\"sans-serif\" font-size=\"12\" font-style=\"italic\" lengthAdjust=\"spacingAndGlyphs\" textLength=\"91\" x=\"201.5\" y=\"180.1387\">«requirement»</text><text fill=\"#000000\" font-family=\"sans-serif\" font-size=\"12\" lengthAdjust=\"spacingAndGlyphs\" textLength=\"21\" x=\"234.5\" y=\"194.1074\">r: R</text><line style=\"stroke: #383838; stroke-width: 1.5;\" x1=\"201.5\" x2=\"292.5\" y1=\"201.9375\" y2=\"201.9375\"/></a><!--MD5=[bee11217b2f71d958a27249dc326068c]\n",
       "class E14--><a href=\"psysml:5c4fb90e-2e7f-411e-8437-1e0e9b0bd00e\" target=\"_top\" title=\"psysml:5c4fb90e-2e7f-411e-8437-1e0e9b0bd00e\" xlink:actuate=\"onRequest\" xlink:href=\"psysml:5c4fb90e-2e7f-411e-8437-1e0e9b0bd00e\" xlink:show=\"new\" xlink:title=\"psysml:5c4fb90e-2e7f-411e-8437-1e0e9b0bd00e\" xlink:type=\"simple\"><rect fill=\"#FFFFFF\" height=\"45.9375\" id=\"E14\" rx=\"10\" ry=\"10\" style=\"stroke: #383838; stroke-width: 1.5;\" width=\"93\" x=\"46.5\" y=\"164\"/><text fill=\"#000000\" font-family=\"sans-serif\" font-size=\"12\" font-style=\"italic\" lengthAdjust=\"spacingAndGlyphs\" textLength=\"91\" x=\"47.5\" y=\"180.1387\">«requirement»</text><text fill=\"#000000\" font-family=\"sans-serif\" font-size=\"12\" lengthAdjust=\"spacingAndGlyphs\" textLength=\"37\" x=\"72.5\" y=\"194.1074\">r1: R1</text><line style=\"stroke: #383838; stroke-width: 1.5;\" x1=\"47.5\" x2=\"138.5\" y1=\"201.9375\" y2=\"201.9375\"/></a><!--MD5=[05d275557350bfb9b23a4ef7222b4c39]\n",
       "link E3 to E2--><a href=\"psysml:1cfa9d08-8b1e-49ae-8f22-7ec5c2d68c94\" target=\"_top\" title=\"psysml:1cfa9d08-8b1e-49ae-8f22-7ec5c2d68c94\" xlink:actuate=\"onRequest\" xlink:href=\"psysml:1cfa9d08-8b1e-49ae-8f22-7ec5c2d68c94\" xlink:show=\"new\" xlink:title=\"psysml:1cfa9d08-8b1e-49ae-8f22-7ec5c2d68c94\" xlink:type=\"simple\"><path d=\"M411.42,87.05 C420.69,101.23 431,117 431,117 C431,117 431,134 431,134 C431,134 424.88,140.63 417.01,149.16 \" fill=\"none\" id=\"E3-&gt;E2\" style=\"stroke: #383838; stroke-width: 1.0;\"/><polygon fill=\"#FFFFFF\" points=\"403.36,163.95,411.1052,145.2414,421.3917,154.7382,403.36,163.95\" style=\"stroke: #383838; stroke-width: 1.0;\"/><ellipse cx=\"416.4412\" cy=\"142.41\" fill=\"#383838\" rx=\"2\" ry=\"2\" style=\"stroke: #383838; stroke-width: 1.0;\"/><ellipse cx=\"423.7887\" cy=\"149.1934\" fill=\"#383838\" rx=\"2\" ry=\"2\" style=\"stroke: #383838; stroke-width: 1.0;\"/></a><!--MD5=[722ff4eef345aa10242dad44df0e98c7]\n",
       "reverse link E4 to E7--><a href=\"psysml:8957256b-d423-4c87-844e-8026b3f5c553\" target=\"_top\" title=\"psysml:8957256b-d423-4c87-844e-8026b3f5c553\" xlink:actuate=\"onRequest\" xlink:href=\"psysml:8957256b-d423-4c87-844e-8026b3f5c553\" xlink:show=\"new\" xlink:title=\"psysml:8957256b-d423-4c87-844e-8026b3f5c553\" xlink:type=\"simple\"><path d=\"M228.38,350.29 C219.19,370.26 208.76,392.91 201.26,409.21 \" fill=\"none\" id=\"E4&lt;-E7\" style=\"stroke: #383838; stroke-width: 1.0;\"/><polygon fill=\"#383838\" points=\"233.91,338.28,227.7664,342.0558,228.8888,349.179,235.0324,345.4032,233.91,338.28\" style=\"stroke: #383838; stroke-width: 1.0;\"/><text fill=\"#000000\" font-family=\"sans-serif\" font-size=\"13\" lengthAdjust=\"spacingAndGlyphs\" textLength=\"7\" x=\"195.9922\" y=\"398.412\">*</text></a><!--MD5=[c6fc7cdb0cabde04948078cf183fa696]\n",
       "reverse link E4 to E8--><a href=\"psysml:e7993699-2e90-4c6e-9ce7-c90f60868f83\" target=\"_top\" title=\"psysml:e7993699-2e90-4c6e-9ce7-c90f60868f83\" xlink:actuate=\"onRequest\" xlink:href=\"psysml:e7993699-2e90-4c6e-9ce7-c90f60868f83\" xlink:show=\"new\" xlink:title=\"psysml:e7993699-2e90-4c6e-9ce7-c90f60868f83\" xlink:type=\"simple\"><path d=\"M279.4,351.09 C289.94,366.92 301.55,384.33 311.26,398.89 \" fill=\"none\" id=\"E4&lt;-E8\" style=\"stroke: #383838; stroke-width: 1.0;\"/><ellipse cx=\"275.2894\" cy=\"344.9352\" fill=\"#FFFFFF\" rx=\"8\" ry=\"8\" style=\"stroke: #383838; stroke-width: 1.0;\"/><line style=\"stroke: #383838; stroke-width: 1.0;\" x1=\"279.7287\" x2=\"270.85\" y1=\"351.5905\" y2=\"338.28\"/><line style=\"stroke: #383838; stroke-width: 1.0;\" x1=\"268.6341\" x2=\"281.9446\" y1=\"349.3746\" y2=\"340.4959\"/></a><!--MD5=[062ed86c389d1a88f61c6380d0491e17]\n",
       "reverse link E12 to E13--><a href=\"psysml:0f26ba0d-7372-4c44-875c-adf3c35e17b9\" target=\"_top\" title=\"psysml:0f26ba0d-7372-4c44-875c-adf3c35e17b9\" xlink:actuate=\"onRequest\" xlink:href=\"psysml:0f26ba0d-7372-4c44-875c-adf3c35e17b9\" xlink:show=\"new\" xlink:title=\"psysml:0f26ba0d-7372-4c44-875c-adf3c35e17b9\" xlink:type=\"simple\"><path d=\"M333.95,83.59 C337.58,85.64 340,87 340,87 C340,87 424,117 424,117 C424,117 424,134 424,134 C424,134 312,164 312,164 C312,164 303.97,166.72 293.55,170.25 \" fill=\"none\" id=\"E12&lt;-E13\" style=\"stroke: #383838; stroke-width: 1.0;\"/><polygon fill=\"#383838\" points=\"322.33,77.03,325.5926,83.4608,332.7836,82.9225,329.521,76.4917,322.33,77.03\" style=\"stroke: #383838; stroke-width: 1.0;\"/></a><!--MD5=[e2a9ac97dcd3257bb5342dae06547bad]\n",
       "link E12 to E13--><a href=\"psysml:f5a4eec3-f375-4f03-819b-6c5c8dc7728c\" target=\"_top\" title=\"psysml:f5a4eec3-f375-4f03-819b-6c5c8dc7728c\" xlink:actuate=\"onRequest\" xlink:href=\"psysml:f5a4eec3-f375-4f03-819b-6c5c8dc7728c\" xlink:show=\"new\" xlink:title=\"psysml:f5a4eec3-f375-4f03-819b-6c5c8dc7728c\" xlink:type=\"simple\"><path d=\"M311.18,87.05 C317.72,101.23 325,117 325,117 C325,117 325,134 325,134 C325,134 304.38,147.75 284.34,161.11 \" fill=\"none\" id=\"E12-&gt;E13\" style=\"stroke: #383838; stroke-width: 1.0; stroke-dasharray: 7.0,7.0;\"/><polygon fill=\"#383838\" points=\"280.08,163.95,289.7873,162.2859,284.2403,161.1765,285.3497,155.6295,280.08,163.95\" style=\"stroke: #383838; stroke-width: 1.0;\"/><text fill=\"#000000\" font-family=\"sans-serif\" font-size=\"13\" lengthAdjust=\"spacingAndGlyphs\" textLength=\"57\" x=\"326\" y=\"130.0669\">«satisfy»</text></a><!--MD5=[017847e01ff9a8bd19f247411074f987]\n",
       "link E13 to E4--><a href=\"psysml:e01bb7f1-206a-408f-a898-0799ec242df4\" target=\"_top\" title=\"psysml:e01bb7f1-206a-408f-a898-0799ec242df4\" xlink:actuate=\"onRequest\" xlink:href=\"psysml:e01bb7f1-206a-408f-a898-0799ec242df4\" xlink:show=\"new\" xlink:title=\"psysml:e01bb7f1-206a-408f-a898-0799ec242df4\" xlink:type=\"simple\"><path d=\"M247.39,210.27 C247.59,221.81 247.84,236.43 248.09,250.66 \" fill=\"none\" id=\"E13-&gt;E4\" style=\"stroke: #383838; stroke-width: 1.0;\"/><polygon fill=\"#FFFFFF\" points=\"248.43,270.81,241.1054,251.9328,255.1033,251.6928,248.43,270.81\" style=\"stroke: #383838; stroke-width: 1.0;\"/><ellipse cx=\"243.0074\" cy=\"246.1993\" fill=\"#383838\" rx=\"2\" ry=\"2\" style=\"stroke: #383838; stroke-width: 1.0;\"/><ellipse cx=\"253.0059\" cy=\"246.0279\" fill=\"#383838\" rx=\"2\" ry=\"2\" style=\"stroke: #383838; stroke-width: 1.0;\"/></a><!--MD5=[60f911bb19596b289db4a22769f8105a]\n",
       "link E11 to E13--><a href=\"psysml:e806deaf-0ce2-4d10-9e57-833502fc32ee\" target=\"_top\" title=\"psysml:e806deaf-0ce2-4d10-9e57-833502fc32ee\" xlink:actuate=\"onRequest\" xlink:href=\"psysml:e806deaf-0ce2-4d10-9e57-833502fc32ee\" xlink:show=\"new\" xlink:title=\"psysml:e806deaf-0ce2-4d10-9e57-833502fc32ee\" xlink:type=\"simple\"><path d=\"M131.13,87.21 C144.87,107.38 163,134 163,134 C163,134 185.4,147.86 207.06,161.28 \" fill=\"none\" id=\"E11-&gt;E13\" style=\"stroke: #383838; stroke-width: 1.0; stroke-dasharray: 7.0,7.0;\"/><polygon fill=\"#383838\" points=\"211.38,163.95,205.8557,155.7964,207.136,161.3064,201.6259,162.5868,211.38,163.95\" style=\"stroke: #383838; stroke-width: 1.0;\"/><text fill=\"#000000\" font-family=\"sans-serif\" font-size=\"13\" lengthAdjust=\"spacingAndGlyphs\" textLength=\"57\" x=\"164\" y=\"130.0669\">«satisfy»</text></a><!--MD5=[0c677eb374079406c87b74cd1f5a339d]\n",
       "link E14 to E9--><a href=\"psysml:d6ece11e-fb98-4dd6-9106-0f6846b0bd9f\" target=\"_top\" title=\"psysml:d6ece11e-fb98-4dd6-9106-0f6846b0bd9f\" xlink:actuate=\"onRequest\" xlink:href=\"psysml:d6ece11e-fb98-4dd6-9106-0f6846b0bd9f\" xlink:show=\"new\" xlink:title=\"psysml:d6ece11e-fb98-4dd6-9106-0f6846b0bd9f\" xlink:type=\"simple\"><path d=\"M93,210.27 C93,224.65 93,243.82 93,261.04 \" fill=\"none\" id=\"E14-&gt;E9\" style=\"stroke: #383838; stroke-width: 1.0;\"/><polygon fill=\"#FFFFFF\" points=\"93,281.3,86,262.3,100,262.3,93,281.3\" style=\"stroke: #383838; stroke-width: 1.0;\"/><ellipse cx=\"88\" cy=\"256.6\" fill=\"#383838\" rx=\"2\" ry=\"2\" style=\"stroke: #383838; stroke-width: 1.0;\"/><ellipse cx=\"98\" cy=\"256.6\" fill=\"#383838\" rx=\"2\" ry=\"2\" style=\"stroke: #383838; stroke-width: 1.0;\"/></a><!--MD5=[9c1c40551dcf5c2fca147626a786a7cd]\n",
       "link E11 to E14--><a href=\"psysml:feaea2f2-720b-4dbc-ba1d-0aec40f00046\" target=\"_top\" title=\"psysml:feaea2f2-720b-4dbc-ba1d-0aec40f00046\" xlink:actuate=\"onRequest\" xlink:href=\"psysml:feaea2f2-720b-4dbc-ba1d-0aec40f00046\" xlink:show=\"new\" xlink:title=\"psysml:feaea2f2-720b-4dbc-ba1d-0aec40f00046\" xlink:type=\"simple\"><path d=\"M94.85,86.15 C80.45,100.55 64,117 64,117 C64,117 64,134 64,134 C64,134 70.98,146.51 78.09,159.26 \" fill=\"none\" id=\"E11-&gt;E14\" style=\"stroke: #383838; stroke-width: 1.0; stroke-dasharray: 7.0,7.0;\"/><polygon fill=\"#383838\" points=\"80.7,163.95,79.8122,154.1412,78.2657,159.5826,72.8244,158.0361,80.7,163.95\" style=\"stroke: #383838; stroke-width: 1.0;\"/><text fill=\"#000000\" font-family=\"sans-serif\" font-size=\"13\" lengthAdjust=\"spacingAndGlyphs\" textLength=\"57\" x=\"65\" y=\"130.0669\">«satisfy»</text></a><!--MD5=[d53cb08dffc8689d16e38c8e194e9adc]\n",
       "link E12 to E14--><a href=\"psysml:f5704f7b-2601-4abd-90b0-2ec51a978e80\" target=\"_top\" title=\"psysml:f5704f7b-2601-4abd-90b0-2ec51a978e80\" xlink:actuate=\"onRequest\" xlink:href=\"psysml:f5704f7b-2601-4abd-90b0-2ec51a978e80\" xlink:show=\"new\" xlink:title=\"psysml:f5704f7b-2601-4abd-90b0-2ec51a978e80\" xlink:type=\"simple\"><path d=\"M279.71,84.59 C257.54,104.99 226,134 226,134 C226,134 181.92,151.24 144.51,165.86 \" fill=\"none\" id=\"E12-&gt;E14\" style=\"stroke: #383838; stroke-width: 1.0; stroke-dasharray: 7.0,7.0;\"/><polygon fill=\"#383838\" points=\"139.52,167.81,149.3581,168.2702,144.1789,165.995,146.4541,160.8159,139.52,167.81\" style=\"stroke: #383838; stroke-width: 1.0;\"/><text fill=\"#000000\" font-family=\"sans-serif\" font-size=\"13\" lengthAdjust=\"spacingAndGlyphs\" textLength=\"57\" x=\"245\" y=\"130.0669\">«satisfy»</text></a><!--MD5=[4e7f19cab439a23527b221ce2c3d2c33]\n",
       "@startuml\r\n",
       "skinparam linetype polyline\r\n",
       "skinparam monochrome true\r\n",
       "skinparam classbackgroundcolor white\r\n",
       "skinparam shadowing false\r\n",
       "skinparam wrapWidth 300\r\n",
       "hide circle\r\n",
       "\r\n",
       "package \"RequirementTest\" as E1  [[psysml:2a075407-fc8d-47b4-b4de-e1839d24b848 ]]  {\r\n",
       "comp def \"C\" as E2  <<(T,blue) constraint  def>> [[psysml:8e8b9929-fb62-44f3-bb6e-73f88688eaf1 ]] {\r\n",
       "}\r\n",
       "comp usage \"c: C \" as E3  <<(T,blue) constraint>> [[psysml:8dab2afb-478b-48f2-a7f7-bb2b245c05ea ]] {\r\n",
       "}\r\n",
       "comp def \"R\" as E4  <<(T,blue) requirement  def>> [[psysml:cae76f8a-948f-454f-8648-301efab5060e ]] {\r\n",
       "\r\n",
       "- -\r\n",
       "}\r\n",
       "comp usage \"<s>noname</s>\" as E7  <<(T,blue) requirement>> [[psysml:70e6cc11-a878-4419-9a48-d32cb5df9816 ]] {\r\n",
       "}\r\n",
       "comp def \" [<b>1</b>] A\" as E8  <<(T,blue) requirement  def>> [[psysml:5c5c4776-1d3a-4700-8516-1d3a67d779f4 ]] {\r\n",
       "Text\r\n",
       "- -\r\n",
       "}\r\n",
       "comp def \"R1\" as E9  <<(T,blue) requirement  def>> [[psysml:f2fc2205-4b84-4313-b340-24ee025c15cf ]] {\r\n",
       "}\r\n",
       "comp usage \"p\" as E11  <<(T,blue) part>> [[psysml:4203d305-f881-4dfa-bcc5-a82b5aac35c4 ]] {\r\n",
       "}\r\n",
       "comp usage \"q\" as E12  <<(T,blue) part>> [[psysml:d0dbee69-5f2e-4ac4-ba4b-4aca7380bae7 ]] {\r\n",
       "}\r\n",
       "comp usage \"r: R \" as E13  <<(T,blue) requirement>> [[psysml:aee31540-9ea4-41ee-8ebb-8555bfaf03fb ]] {\r\n",
       "}\r\n",
       "comp usage \"r1: R1 \" as E14  <<(T,blue) requirement>> [[psysml:5c4fb90e-2e7f-411e-8437-1e0e9b0bd00e ]] {\r\n",
       "}\r\n",
       "}\r\n",
       "E3 - -:|> E2 [[psysml:1cfa9d08-8b1e-49ae-8f22-7ec5c2d68c94 ]] \r\n",
       "E4 *- - \"*\"E7 [[psysml:8957256b-d423-4c87-844e-8026b3f5c553 ]] \r\n",
       "E4 +- - E8 [[psysml:e7993699-2e90-4c6e-9ce7-c90f60868f83 ]] \r\n",
       "E12 *- - E13 [[psysml:0f26ba0d-7372-4c44-875c-adf3c35e17b9 ]] \r\n",
       "E13 - -:|> E4 [[psysml:e01bb7f1-206a-408f-a898-0799ec242df4 ]] \r\n",
       "E11 ..> E13 [[psysml:e806deaf-0ce2-4d10-9e57-833502fc32ee ]] : <<satisfy>>\r\n",
       "E12 ..> E13 [[psysml:f5a4eec3-f375-4f03-819b-6c5c8dc7728c ]] : <<satisfy>>\r\n",
       "E14 - -:|> E9 [[psysml:d6ece11e-fb98-4dd6-9106-0f6846b0bd9f ]] \r\n",
       "E11 ..> E14 [[psysml:feaea2f2-720b-4dbc-ba1d-0aec40f00046 ]] : <<satisfy>>\r\n",
       "E12 ..> E14 [[psysml:f5704f7b-2601-4abd-90b0-2ec51a978e80 ]] : <<satisfy>>\r\n",
       "@enduml\r\n",
       "\n",
       "PlantUML version 1.2020.13(Sat Jun 13 12:26:38 UTC 2020)\n",
       "(EPL source distribution)\n",
       "Java Runtime: OpenJDK Runtime Environment\n",
       "JVM: OpenJDK 64-Bit Server VM\n",
       "Default Encoding: UTF-8\n",
       "Language: en\n",
       "Country: null\n",
       "--></g></svg>"
      ]
     },
     "execution_count": 10,
     "metadata": {},
     "output_type": "execute_result"
    }
   ],
   "source": [
    "%viz --style=\"POLYLINE\" --view=\"Tree\" \"RequirementTest\""
   ]
  },
  {
   "cell_type": "code",
   "execution_count": 11,
   "id": "e9f70812",
   "metadata": {
    "execution": {
     "iopub.execute_input": "2021-10-25T08:21:12.121993Z",
     "iopub.status.busy": "2021-10-25T08:21:12.121555Z",
     "iopub.status.idle": "2021-10-25T08:21:12.129149Z",
     "shell.execute_reply": "2021-10-25T08:21:12.129477Z"
    }
   },
   "outputs": [
    {
     "data": {
      "image/svg+xml": [
       "<?xml version=\"1.0\" encoding=\"UTF-8\" standalone=\"no\"?><svg xmlns=\"http://www.w3.org/2000/svg\" xmlns:xlink=\"http://www.w3.org/1999/xlink\" contentScriptType=\"application/ecmascript\" contentStyleType=\"text/css\" height=\"12px\" preserveAspectRatio=\"none\" style=\"width:12px;height:12px;\" version=\"1.1\" viewBox=\"0 0 12 12\" width=\"12px\" zoomAndPan=\"magnify\"><defs/><g><!--MD5=[896ac0e7a515d8dd7765a661cb4ee08b]\n",
       "@startuml\r\n",
       "skinparam linetype polyline\r\n",
       "skinparam monochrome true\r\n",
       "skinparam classbackgroundcolor white\r\n",
       "skinparam shadowing false\r\n",
       "skinparam wrapWidth 300\r\n",
       "hide circle\r\n",
       "\r\n",
       "@enduml\r\n",
       "\n",
       "PlantUML version 1.2020.13(Sat Jun 13 12:26:38 UTC 2020)\n",
       "(EPL source distribution)\n",
       "Java Runtime: OpenJDK Runtime Environment\n",
       "JVM: OpenJDK 64-Bit Server VM\n",
       "Default Encoding: UTF-8\n",
       "Language: en\n",
       "Country: null\n",
       "--></g></svg>"
      ]
     },
     "execution_count": 11,
     "metadata": {},
     "output_type": "execute_result"
    }
   ],
   "source": [
    "%viz --style=\"POLYLINE\" --view=\"State\" \"RequirementTest\""
   ]
  },
  {
   "cell_type": "code",
   "execution_count": 12,
   "id": "0c1f271a",
   "metadata": {
    "execution": {
     "iopub.execute_input": "2021-10-25T08:21:12.179377Z",
     "iopub.status.busy": "2021-10-25T08:21:12.178977Z",
     "iopub.status.idle": "2021-10-25T08:21:12.250537Z",
     "shell.execute_reply": "2021-10-25T08:21:12.250176Z"
    }
   },
   "outputs": [
    {
     "data": {
      "image/svg+xml": [
       "<?xml version=\"1.0\" encoding=\"UTF-8\" standalone=\"no\"?><svg xmlns=\"http://www.w3.org/2000/svg\" xmlns:xlink=\"http://www.w3.org/1999/xlink\" contentScriptType=\"application/ecmascript\" contentStyleType=\"text/css\" height=\"438px\" preserveAspectRatio=\"none\" style=\"width:492px;height:438px;\" version=\"1.1\" viewBox=\"0 0 492 438\" width=\"492px\" zoomAndPan=\"magnify\"><defs/><g><!--MD5=[fbc87193dbaf4d95561dea2c320d4a47]\n",
       "cluster E1--><a href=\"psysml:2a075407-fc8d-47b4-b4de-e1839d24b848\" target=\"_top\" title=\"psysml:2a075407-fc8d-47b4-b4de-e1839d24b848\" xlink:actuate=\"onRequest\" xlink:href=\"psysml:2a075407-fc8d-47b4-b4de-e1839d24b848\" xlink:show=\"new\" xlink:title=\"psysml:2a075407-fc8d-47b4-b4de-e1839d24b848\" xlink:type=\"simple\"><polygon fill=\"#FFFFFF\" points=\"16,6,143,6,150,28.2969,470,28.2969,470,426.36,16,426.36,16,6\" style=\"stroke: #000000; stroke-width: 1.5;\"/><line style=\"stroke: #000000; stroke-width: 1.5;\" x1=\"16\" x2=\"150\" y1=\"28.2969\" y2=\"28.2969\"/><text fill=\"#000000\" font-family=\"sans-serif\" font-size=\"14\" font-weight=\"bold\" lengthAdjust=\"spacingAndGlyphs\" textLength=\"121\" x=\"20\" y=\"20.9951\">RequirementTest</text></a><!--MD5=[47bea60c1a0ac6c1143df232041969c0]\n",
       "cluster E12--><a href=\"psysml:d0dbee69-5f2e-4ac4-ba4b-4aca7380bae7\" target=\"_top\" title=\"psysml:d0dbee69-5f2e-4ac4-ba4b-4aca7380bae7\" xlink:actuate=\"onRequest\" xlink:href=\"psysml:d0dbee69-5f2e-4ac4-ba4b-4aca7380bae7\" xlink:show=\"new\" xlink:title=\"psysml:d0dbee69-5f2e-4ac4-ba4b-4aca7380bae7\" xlink:type=\"simple\"><rect fill=\"#FFFFFF\" height=\"169.36\" id=\"E12\" rx=\"10\" ry=\"10\" style=\"stroke: #383838; stroke-width: 1.5;\" width=\"140\" x=\"48\" y=\"57\"/><rect fill=\"#F8F8F8\" height=\"23.9688\" rx=\"10\" ry=\"10\" style=\"stroke: #F8F8F8; stroke-width: 1.5;\" width=\"140\" x=\"48\" y=\"57\"/><rect fill=\"#F8F8F8\" height=\"10\" style=\"stroke: #F8F8F8; stroke-width: 1.5;\" width=\"140\" x=\"48\" y=\"70.9688\"/><rect fill=\"none\" height=\"169.36\" id=\"E12\" rx=\"10\" ry=\"10\" style=\"stroke: #383838; stroke-width: 1.5;\" width=\"140\" x=\"48\" y=\"57\"/><text fill=\"#000000\" font-family=\"sans-serif\" font-size=\"12\" lengthAdjust=\"spacingAndGlyphs\" textLength=\"8\" x=\"114\" y=\"73.1387\">q</text><line style=\"stroke: #383838; stroke-width: 1.0;\" x1=\"48\" x2=\"188\" y1=\"80.9688\" y2=\"80.9688\"/></a><g id=\"E1.E2\"><a href=\"psysml:8e8b9929-fb62-44f3-bb6e-73f88688eaf1\" target=\"_top\" title=\"psysml:8e8b9929-fb62-44f3-bb6e-73f88688eaf1\" xlink:actuate=\"onRequest\" xlink:href=\"psysml:8e8b9929-fb62-44f3-bb6e-73f88688eaf1\" xlink:show=\"new\" xlink:title=\"psysml:8e8b9929-fb62-44f3-bb6e-73f88688eaf1\" xlink:type=\"simple\"><rect fill=\"#FFFFFF\" height=\"42.9375\" id=\"E2\" style=\"stroke: #383838; stroke-width: 1.5;\" width=\"113\" x=\"340.5\" y=\"157.86\"/><rect fill=\"#F8F8F8\" height=\"37.9375\" style=\"stroke: #383838; stroke-width: 1.5;\" width=\"113\" x=\"340.5\" y=\"157.86\"/><text fill=\"#000000\" font-family=\"sans-serif\" font-size=\"12\" font-style=\"italic\" lengthAdjust=\"spacingAndGlyphs\" textLength=\"106\" x=\"344\" y=\"173.9987\">«constraint  def»</text><text fill=\"#000000\" font-family=\"sans-serif\" font-size=\"12\" lengthAdjust=\"spacingAndGlyphs\" textLength=\"8\" x=\"393\" y=\"187.9674\">C</text></a></g><!--MD5=[09b614a08d8cba4a07c9adeb5e0fee81]\n",
       "class E3--><a href=\"psysml:8dab2afb-478b-48f2-a7f7-bb2b245c05ea\" target=\"_top\" title=\"psysml:8dab2afb-478b-48f2-a7f7-bb2b245c05ea\" xlink:actuate=\"onRequest\" xlink:href=\"psysml:8dab2afb-478b-48f2-a7f7-bb2b245c05ea\" xlink:show=\"new\" xlink:title=\"psysml:8dab2afb-478b-48f2-a7f7-bb2b245c05ea\" xlink:type=\"simple\"><rect fill=\"#FFFFFF\" height=\"45.9375\" id=\"E3\" rx=\"10\" ry=\"10\" style=\"stroke: #383838; stroke-width: 1.5;\" width=\"80\" x=\"374\" y=\"61.36\"/><text fill=\"#000000\" font-family=\"sans-serif\" font-size=\"12\" font-style=\"italic\" lengthAdjust=\"spacingAndGlyphs\" textLength=\"78\" x=\"375\" y=\"77.4987\">«constraint»</text><text fill=\"#000000\" font-family=\"sans-serif\" font-size=\"12\" lengthAdjust=\"spacingAndGlyphs\" textLength=\"23\" x=\"400.5\" y=\"91.4674\">c: C</text><line style=\"stroke: #383838; stroke-width: 1.5;\" x1=\"375\" x2=\"453\" y1=\"99.2975\" y2=\"99.2975\"/></a><!--MD5=[ebbe1d658d1005bcc118a6aa81145e00]\n",
       "class E4--><a href=\"psysml:cae76f8a-948f-454f-8648-301efab5060e\" target=\"_top\" title=\"psysml:cae76f8a-948f-454f-8648-301efab5060e\" xlink:actuate=\"onRequest\" xlink:href=\"psysml:cae76f8a-948f-454f-8648-301efab5060e\" xlink:show=\"new\" xlink:title=\"psysml:cae76f8a-948f-454f-8648-301efab5060e\" xlink:type=\"simple\"><rect fill=\"#FFFFFF\" height=\"66.7422\" id=\"E4\" style=\"stroke: #383838; stroke-width: 1.5;\" width=\"121\" x=\"51.5\" y=\"259.36\"/><text fill=\"#000000\" font-family=\"sans-serif\" font-size=\"12\" font-style=\"italic\" lengthAdjust=\"spacingAndGlyphs\" textLength=\"119\" x=\"52.5\" y=\"275.4987\">«requirement  def»</text><text fill=\"#000000\" font-family=\"sans-serif\" font-size=\"12\" lengthAdjust=\"spacingAndGlyphs\" textLength=\"8\" x=\"108\" y=\"289.4674\">R</text><line style=\"stroke: #383838; stroke-width: 1.5;\" x1=\"52.5\" x2=\"171.5\" y1=\"297.2975\" y2=\"297.2975\"/><text fill=\"#000000\" font-family=\"sans-serif\" font-size=\"11\" lengthAdjust=\"spacingAndGlyphs\" textLength=\"0\" x=\"61.5\" y=\"311.5079\"/><line style=\"stroke: #383838; stroke-width: 1.0;\" x1=\"52.5\" x2=\"171.5\" y1=\"318.1022\" y2=\"318.1022\"/></a><!--MD5=[2156ba9850f5573cc1fc38a6a4b2f02b]\n",
       "class E7--><a href=\"psysml:70e6cc11-a878-4419-9a48-d32cb5df9816\" target=\"_top\" title=\"psysml:70e6cc11-a878-4419-9a48-d32cb5df9816\" xlink:actuate=\"onRequest\" xlink:href=\"psysml:70e6cc11-a878-4419-9a48-d32cb5df9816\" xlink:show=\"new\" xlink:title=\"psysml:70e6cc11-a878-4419-9a48-d32cb5df9816\" xlink:type=\"simple\"><rect fill=\"#FFFFFF\" height=\"45.9375\" id=\"E7\" rx=\"10\" ry=\"10\" style=\"stroke: #383838; stroke-width: 1.5;\" width=\"93\" x=\"43.5\" y=\"353.86\"/><text fill=\"#000000\" font-family=\"sans-serif\" font-size=\"12\" font-style=\"italic\" lengthAdjust=\"spacingAndGlyphs\" textLength=\"91\" x=\"44.5\" y=\"369.9987\">«requirement»</text><text fill=\"#000000\" font-family=\"sans-serif\" font-size=\"12\" lengthAdjust=\"spacingAndGlyphs\" text-decoration=\"line-through\" textLength=\"51\" x=\"64.5\" y=\"383.9674\">noname</text><line style=\"stroke: #383838; stroke-width: 1.5;\" x1=\"44.5\" x2=\"135.5\" y1=\"391.7975\" y2=\"391.7975\"/></a><!--MD5=[b9389687b975829384b498ac4b7476b2]\n",
       "class E8--><a href=\"psysml:5c5c4776-1d3a-4700-8516-1d3a67d779f4\" target=\"_top\" title=\"psysml:5c5c4776-1d3a-4700-8516-1d3a67d779f4\" xlink:actuate=\"onRequest\" xlink:href=\"psysml:5c5c4776-1d3a-4700-8516-1d3a67d779f4\" xlink:show=\"new\" xlink:title=\"psysml:5c5c4776-1d3a-4700-8516-1d3a67d779f4\" xlink:type=\"simple\"><rect fill=\"#FFFFFF\" height=\"66.7422\" id=\"E8\" style=\"stroke: #383838; stroke-width: 1.5;\" width=\"121\" x=\"171.5\" y=\"343.36\"/><text fill=\"#000000\" font-family=\"sans-serif\" font-size=\"12\" font-style=\"italic\" lengthAdjust=\"spacingAndGlyphs\" textLength=\"119\" x=\"172.5\" y=\"359.4987\">«requirement  def»</text><text fill=\"#000000\" font-family=\"sans-serif\" font-size=\"12\" lengthAdjust=\"spacingAndGlyphs\" textLength=\"5\" x=\"219\" y=\"373.4674\">[</text><text fill=\"#000000\" font-family=\"sans-serif\" font-size=\"12\" font-weight=\"bold\" lengthAdjust=\"spacingAndGlyphs\" textLength=\"8\" x=\"224\" y=\"373.4674\">1</text><text fill=\"#000000\" font-family=\"sans-serif\" font-size=\"12\" lengthAdjust=\"spacingAndGlyphs\" textLength=\"17\" x=\"232\" y=\"373.4674\">] A</text><line style=\"stroke: #383838; stroke-width: 1.5;\" x1=\"172.5\" x2=\"291.5\" y1=\"381.2975\" y2=\"381.2975\"/><text fill=\"#000000\" font-family=\"sans-serif\" font-size=\"11\" lengthAdjust=\"spacingAndGlyphs\" textLength=\"24\" x=\"177.5\" y=\"395.5079\">Text</text><line style=\"stroke: #383838; stroke-width: 1.0;\" x1=\"172.5\" x2=\"291.5\" y1=\"402.1022\" y2=\"402.1022\"/></a><!--MD5=[fd4143e9d270a159db93a4ea2a975926]\n",
       "class E9--><a href=\"psysml:f2fc2205-4b84-4313-b340-24ee025c15cf\" target=\"_top\" title=\"psysml:f2fc2205-4b84-4313-b340-24ee025c15cf\" xlink:actuate=\"onRequest\" xlink:href=\"psysml:f2fc2205-4b84-4313-b340-24ee025c15cf\" xlink:show=\"new\" xlink:title=\"psysml:f2fc2205-4b84-4313-b340-24ee025c15cf\" xlink:type=\"simple\"><rect fill=\"#FFFFFF\" height=\"45.9375\" id=\"E9\" style=\"stroke: #383838; stroke-width: 1.5;\" width=\"121\" x=\"207.5\" y=\"269.86\"/><text fill=\"#000000\" font-family=\"sans-serif\" font-size=\"12\" font-style=\"italic\" lengthAdjust=\"spacingAndGlyphs\" textLength=\"119\" x=\"208.5\" y=\"285.9987\">«requirement  def»</text><text fill=\"#000000\" font-family=\"sans-serif\" font-size=\"12\" lengthAdjust=\"spacingAndGlyphs\" textLength=\"16\" x=\"260\" y=\"299.9674\">R1</text><line style=\"stroke: #383838; stroke-width: 1.5;\" x1=\"208.5\" x2=\"327.5\" y1=\"307.7975\" y2=\"307.7975\"/></a><!--MD5=[bee11217b2f71d958a27249dc326068c]\n",
       "class E14--><a href=\"psysml:5c4fb90e-2e7f-411e-8437-1e0e9b0bd00e\" target=\"_top\" title=\"psysml:5c4fb90e-2e7f-411e-8437-1e0e9b0bd00e\" xlink:actuate=\"onRequest\" xlink:href=\"psysml:5c4fb90e-2e7f-411e-8437-1e0e9b0bd00e\" xlink:show=\"new\" xlink:title=\"psysml:5c4fb90e-2e7f-411e-8437-1e0e9b0bd00e\" xlink:type=\"simple\"><rect fill=\"#FFFFFF\" height=\"45.9375\" id=\"E14\" rx=\"10\" ry=\"10\" style=\"stroke: #383838; stroke-width: 1.5;\" width=\"93\" x=\"212.5\" y=\"156.36\"/><text fill=\"#000000\" font-family=\"sans-serif\" font-size=\"12\" font-style=\"italic\" lengthAdjust=\"spacingAndGlyphs\" textLength=\"91\" x=\"213.5\" y=\"172.4987\">«requirement»</text><text fill=\"#000000\" font-family=\"sans-serif\" font-size=\"12\" lengthAdjust=\"spacingAndGlyphs\" textLength=\"37\" x=\"238.5\" y=\"186.4674\">r1: R1</text><line style=\"stroke: #383838; stroke-width: 1.5;\" x1=\"213.5\" x2=\"304.5\" y1=\"194.2975\" y2=\"194.2975\"/></a><g id=\"E1.E11\"><a href=\"psysml:4203d305-f881-4dfa-bcc5-a82b5aac35c4\" target=\"_top\" title=\"psysml:4203d305-f881-4dfa-bcc5-a82b5aac35c4\" xlink:actuate=\"onRequest\" xlink:href=\"psysml:4203d305-f881-4dfa-bcc5-a82b5aac35c4\" xlink:show=\"new\" xlink:title=\"psysml:4203d305-f881-4dfa-bcc5-a82b5aac35c4\" xlink:type=\"simple\"><rect fill=\"#FFFFFF\" height=\"40\" id=\"E11\" rx=\"10\" ry=\"10\" style=\"stroke: #383838; stroke-width: 1.5;\" width=\"50\" x=\"276\" y=\"64.36\"/><rect fill=\"#F8F8F8\" height=\"23.9688\" rx=\"10\" ry=\"10\" style=\"stroke: #F8F8F8; stroke-width: 1.5;\" width=\"50\" x=\"276\" y=\"64.36\"/><rect fill=\"#F8F8F8\" height=\"10\" style=\"stroke: #F8F8F8; stroke-width: 1.5;\" width=\"50\" x=\"276\" y=\"78.3288\"/><rect fill=\"none\" height=\"40\" id=\"E11\" rx=\"10\" ry=\"10\" style=\"stroke: #383838; stroke-width: 1.5;\" width=\"50\" x=\"276\" y=\"64.36\"/><text fill=\"#000000\" font-family=\"sans-serif\" font-size=\"12\" lengthAdjust=\"spacingAndGlyphs\" textLength=\"8\" x=\"297\" y=\"80.4987\">p</text></a></g><!--MD5=[ee3c913d1a06f366521f9ef512b67efe]\n",
       "class E13--><a href=\"psysml:aee31540-9ea4-41ee-8ebb-8555bfaf03fb\" target=\"_top\" title=\"psysml:aee31540-9ea4-41ee-8ebb-8555bfaf03fb\" xlink:actuate=\"onRequest\" xlink:href=\"psysml:aee31540-9ea4-41ee-8ebb-8555bfaf03fb\" xlink:show=\"new\" xlink:title=\"psysml:aee31540-9ea4-41ee-8ebb-8555bfaf03fb\" xlink:type=\"simple\"><rect fill=\"#FFFFFF\" height=\"45.9375\" id=\"E13\" rx=\"10\" ry=\"10\" style=\"stroke: #383838; stroke-width: 1.5;\" width=\"93\" x=\"71.5\" y=\"156.36\"/><text fill=\"#000000\" font-family=\"sans-serif\" font-size=\"12\" font-style=\"italic\" lengthAdjust=\"spacingAndGlyphs\" textLength=\"91\" x=\"72.5\" y=\"172.4987\">«requirement»</text><text fill=\"#000000\" font-family=\"sans-serif\" font-size=\"12\" lengthAdjust=\"spacingAndGlyphs\" textLength=\"21\" x=\"105.5\" y=\"186.4674\">r: R</text><line style=\"stroke: #383838; stroke-width: 1.5;\" x1=\"72.5\" x2=\"163.5\" y1=\"194.2975\" y2=\"194.2975\"/></a><!--MD5=[05d275557350bfb9b23a4ef7222b4c39]\n",
       "link E3 to E2--><a href=\"psysml:1cfa9d08-8b1e-49ae-8f22-7ec5c2d68c94\" target=\"_top\" title=\"psysml:1cfa9d08-8b1e-49ae-8f22-7ec5c2d68c94\" xlink:actuate=\"onRequest\" xlink:href=\"psysml:1cfa9d08-8b1e-49ae-8f22-7ec5c2d68c94\" xlink:show=\"new\" xlink:title=\"psysml:1cfa9d08-8b1e-49ae-8f22-7ec5c2d68c94\" xlink:type=\"simple\"><path d=\"M439.07,107.48 C444.16,111.97 448,115.36 448,115.36 C448,115.36 448,132.36 448,132.36 C448,132.36 442.29,137.51 434.7,144.36 \" fill=\"none\" id=\"E3-&gt;E2\" style=\"stroke: #383838; stroke-width: 1.0;\"/><polygon fill=\"#FFFFFF\" points=\"419.81,157.78,429.2317,139.8571,438.6078,150.2538,419.81,157.78\" style=\"stroke: #383838; stroke-width: 1.0;\"/><ellipse cx=\"434.8041\" cy=\"137.525\" fill=\"#383838\" rx=\"2\" ry=\"2\" style=\"stroke: #383838; stroke-width: 1.0;\"/><ellipse cx=\"441.5013\" cy=\"144.9511\" fill=\"#383838\" rx=\"2\" ry=\"2\" style=\"stroke: #383838; stroke-width: 1.0;\"/></a><!--MD5=[722ff4eef345aa10242dad44df0e98c7]\n",
       "reverse link E4 to E7--><a href=\"psysml:8957256b-d423-4c87-844e-8026b3f5c553\" target=\"_top\" title=\"psysml:8957256b-d423-4c87-844e-8026b3f5c553\" xlink:actuate=\"onRequest\" xlink:href=\"psysml:8957256b-d423-4c87-844e-8026b3f5c553\" xlink:show=\"new\" xlink:title=\"psysml:8957256b-d423-4c87-844e-8026b3f5c553\" xlink:type=\"simple\"><path d=\"M99.7,339.69 C98.39,344.58 97.11,349.37 95.92,353.79 \" fill=\"none\" id=\"E4&lt;-E7\" style=\"stroke: #383838; stroke-width: 1.0;\"/><polygon fill=\"#383838\" points=\"103.18,326.74,97.7596,331.496,100.0651,338.3287,105.4854,333.5726,103.18,326.74\" style=\"stroke: #383838; stroke-width: 1.0;\"/><text fill=\"#000000\" font-family=\"sans-serif\" font-size=\"13\" lengthAdjust=\"spacingAndGlyphs\" textLength=\"7\" x=\"89.5704\" y=\"342.6675\">*</text></a><!--MD5=[c6fc7cdb0cabde04948078cf183fa696]\n",
       "reverse link E4 to E8--><a href=\"psysml:e7993699-2e90-4c6e-9ce7-c90f60868f83\" target=\"_top\" title=\"psysml:e7993699-2e90-4c6e-9ce7-c90f60868f83\" xlink:actuate=\"onRequest\" xlink:href=\"psysml:e7993699-2e90-4c6e-9ce7-c90f60868f83\" xlink:show=\"new\" xlink:title=\"psysml:e7993699-2e90-4c6e-9ce7-c90f60868f83\" xlink:type=\"simple\"><path d=\"M172.47,335.18 C176.47,337.92 180.47,340.65 184.39,343.33 \" fill=\"none\" id=\"E4&lt;-E8\" style=\"stroke: #383838; stroke-width: 1.0;\"/><ellipse cx=\"166.3732\" cy=\"331.0164\" fill=\"#FFFFFF\" rx=\"8\" ry=\"8\" style=\"stroke: #383838; stroke-width: 1.0;\"/><line style=\"stroke: #383838; stroke-width: 1.0;\" x1=\"172.9764\" x2=\"159.77\" y1=\"335.5328\" y2=\"326.5\"/><line style=\"stroke: #383838; stroke-width: 1.0;\" x1=\"161.8568\" x2=\"170.8896\" y1=\"337.6196\" y2=\"324.4132\"/></a><!--MD5=[017847e01ff9a8bd19f247411074f987]\n",
       "link E13 to E4--><a href=\"psysml:e01bb7f1-206a-408f-a898-0799ec242df4\" target=\"_top\" title=\"psysml:e01bb7f1-206a-408f-a898-0799ec242df4\" xlink:actuate=\"onRequest\" xlink:href=\"psysml:e01bb7f1-206a-408f-a898-0799ec242df4\" xlink:show=\"new\" xlink:title=\"psysml:e01bb7f1-206a-408f-a898-0799ec242df4\" xlink:type=\"simple\"><path d=\"M116.81,202.39 C116.25,212.92 115.54,226.03 114.85,238.94 \" fill=\"none\" id=\"E13-&gt;E4\" style=\"stroke: #383838; stroke-width: 1.0;\"/><polygon fill=\"#FFFFFF\" points=\"113.75,259.31,107.7779,239.9623,121.7578,240.7123,113.75,259.31\" style=\"stroke: #383838; stroke-width: 1.0;\"/><ellipse cx=\"110.0804\" cy=\"234.3776\" fill=\"#383838\" rx=\"2\" ry=\"2\" style=\"stroke: #383838; stroke-width: 1.0;\"/><ellipse cx=\"120.066\" cy=\"234.9133\" fill=\"#383838\" rx=\"2\" ry=\"2\" style=\"stroke: #383838; stroke-width: 1.0;\"/></a><!--MD5=[60f911bb19596b289db4a22769f8105a]\n",
       "link E11 to E13--><a href=\"psysml:e806deaf-0ce2-4d10-9e57-833502fc32ee\" target=\"_top\" title=\"psysml:e806deaf-0ce2-4d10-9e57-833502fc32ee\" xlink:actuate=\"onRequest\" xlink:href=\"psysml:e806deaf-0ce2-4d10-9e57-833502fc32ee\" xlink:show=\"new\" xlink:title=\"psysml:e806deaf-0ce2-4d10-9e57-833502fc32ee\" xlink:type=\"simple\"><path d=\"M275.85,96.62 C244.79,110.52 196,132.36 196,132.36 C196,132.36 168,140.36 168,140.36 C168,140.36 160.41,146.13 151.14,153.17 \" fill=\"none\" id=\"E11-&gt;E13\" style=\"stroke: #383838; stroke-width: 1.0; stroke-dasharray: 7.0,7.0;\"/><polygon fill=\"#383838\" points=\"147.09,156.26,156.6772,154.005,151.0727,153.2371,151.8406,147.6326,147.09,156.26\" style=\"stroke: #383838; stroke-width: 1.0;\"/><text fill=\"#000000\" font-family=\"sans-serif\" font-size=\"13\" lengthAdjust=\"spacingAndGlyphs\" textLength=\"57\" x=\"234\" y=\"128.4269\">«satisfy»</text></a><!--MD5=[e2a9ac97dcd3257bb5342dae06547bad]\n",
       "link E12 to E13--><a href=\"psysml:f5a4eec3-f375-4f03-819b-6c5c8dc7728c\" target=\"_top\" title=\"psysml:f5a4eec3-f375-4f03-819b-6c5c8dc7728c\" xlink:actuate=\"onRequest\" xlink:href=\"psysml:f5a4eec3-f375-4f03-819b-6c5c8dc7728c\" xlink:show=\"new\" xlink:title=\"psysml:f5a4eec3-f375-4f03-819b-6c5c8dc7728c\" xlink:type=\"simple\"><path d=\"M47.9237,113.4492 C47.179,113.6894 46.4953,113.91 45.8778,114.1091 C43.4081,114.9058 42,115.36 42,115.36 C42,115.36 42,132.36 42,132.36 C42,132.36 58.91,142.6 76.78,153.41 \" fill=\"none\" id=\"E12-&gt;E13\" style=\"stroke: #383838; stroke-width: 1.0; stroke-dasharray: 7.0,7.0;\"/><polygon fill=\"#383838\" points=\"81.34,156.17,75.7003,148.0957,77.0588,153.587,71.5675,154.9456,81.34,156.17\" style=\"stroke: #383838; stroke-width: 1.0;\"/><text fill=\"#000000\" font-family=\"sans-serif\" font-size=\"13\" lengthAdjust=\"spacingAndGlyphs\" textLength=\"57\" x=\"43\" y=\"128.4269\">«satisfy»</text></a><!--MD5=[0c677eb374079406c87b74cd1f5a339d]\n",
       "link E14 to E9--><a href=\"psysml:d6ece11e-fb98-4dd6-9106-0f6846b0bd9f\" target=\"_top\" title=\"psysml:d6ece11e-fb98-4dd6-9106-0f6846b0bd9f\" xlink:actuate=\"onRequest\" xlink:href=\"psysml:d6ece11e-fb98-4dd6-9106-0f6846b0bd9f\" xlink:show=\"new\" xlink:title=\"psysml:d6ece11e-fb98-4dd6-9106-0f6846b0bd9f\" xlink:type=\"simple\"><path d=\"M260.78,202.39 C261.86,215.82 263.28,233.42 264.58,249.46 \" fill=\"none\" id=\"E14-&gt;E9\" style=\"stroke: #383838; stroke-width: 1.0;\"/><polygon fill=\"#FFFFFF\" points=\"266.19,269.5,257.6919,251.1211,271.647,250.0007,266.19,269.5\" style=\"stroke: #383838; stroke-width: 1.0;\"/><ellipse cx=\"259.2293\" cy=\"245.2794\" fill=\"#383838\" rx=\"2\" ry=\"2\" style=\"stroke: #383838; stroke-width: 1.0;\"/><ellipse cx=\"269.1972\" cy=\"244.4791\" fill=\"#383838\" rx=\"2\" ry=\"2\" style=\"stroke: #383838; stroke-width: 1.0;\"/></a><!--MD5=[9c1c40551dcf5c2fca147626a786a7cd]\n",
       "link E11 to E14--><a href=\"psysml:feaea2f2-720b-4dbc-ba1d-0aec40f00046\" target=\"_top\" title=\"psysml:feaea2f2-720b-4dbc-ba1d-0aec40f00046\" xlink:actuate=\"onRequest\" xlink:href=\"psysml:feaea2f2-720b-4dbc-ba1d-0aec40f00046\" xlink:show=\"new\" xlink:title=\"psysml:feaea2f2-720b-4dbc-ba1d-0aec40f00046\" xlink:type=\"simple\"><path d=\"M326.12,101.06 C337.74,108.32 349,115.36 349,115.36 C349,115.36 349,132.36 349,132.36 C349,132.36 323,140.36 323,140.36 C323,140.36 312.93,146.34 300.78,153.55 \" fill=\"none\" id=\"E11-&gt;E14\" style=\"stroke: #383838; stroke-width: 1.0; stroke-dasharray: 7.0,7.0;\"/><polygon fill=\"#383838\" points=\"296.23,156.26,306.01,155.0978,300.5275,153.7043,301.921,148.2218,296.23,156.26\" style=\"stroke: #383838; stroke-width: 1.0;\"/><text fill=\"#000000\" font-family=\"sans-serif\" font-size=\"13\" lengthAdjust=\"spacingAndGlyphs\" textLength=\"57\" x=\"350\" y=\"128.4269\">«satisfy»</text></a><!--MD5=[d53cb08dffc8689d16e38c8e194e9adc]\n",
       "link E12 to E14--><a href=\"psysml:f5704f7b-2601-4abd-90b0-2ec51a978e80\" target=\"_top\" title=\"psysml:f5704f7b-2601-4abd-90b0-2ec51a978e80\" xlink:actuate=\"onRequest\" xlink:href=\"psysml:f5704f7b-2601-4abd-90b0-2ec51a978e80\" xlink:show=\"new\" xlink:title=\"psysml:f5704f7b-2601-4abd-90b0-2ec51a978e80\" xlink:type=\"simple\"><path d=\"M188.1922,136.4642 C188.3312,136.5465 188.4703,136.6287 188.6095,136.7111 C189.1662,137.0405 189.7241,137.3705 190.2831,137.7013 C199.2269,142.9925 208.435,148.44 217.09,153.56 \" fill=\"none\" id=\"E12-&gt;E14\" style=\"stroke: #383838; stroke-width: 1.0; stroke-dasharray: 7.0,7.0;\"/><polygon fill=\"#383838\" points=\"221.69,156.28,215.999,148.2418,217.3925,153.7243,211.91,155.1178,221.69,156.28\" style=\"stroke: #383838; stroke-width: 1.0;\"/><text fill=\"#000000\" font-family=\"sans-serif\" font-size=\"13\" lengthAdjust=\"spacingAndGlyphs\" textLength=\"57\" x=\"183\" y=\"128.4269\">«satisfy»</text></a><!--MD5=[62a4221e4838d9105ee16f9234e11da1]\n",
       "@startuml\r\n",
       "skinparam ranksep 10\r\n",
       "skinparam rectangle {\r\n",
       " backgroundColor<<block>> LightGreen\r\n",
       "}\r\n",
       "skinparam linetype polyline\r\n",
       "skinparam monochrome true\r\n",
       "skinparam classbackgroundcolor white\r\n",
       "skinparam shadowing false\r\n",
       "skinparam wrapWidth 300\r\n",
       "hide circle\r\n",
       "\r\n",
       "package \"RequirementTest\" as E1  [[psysml:2a075407-fc8d-47b4-b4de-e1839d24b848 ]]  {\r\n",
       "def \"C\" as E2  <<(T,blue) constraint  def>> [[psysml:8e8b9929-fb62-44f3-bb6e-73f88688eaf1 ]] \r\n",
       "comp usage \"c: C \" as E3  <<(T,blue) constraint>> [[psysml:8dab2afb-478b-48f2-a7f7-bb2b245c05ea ]] {\r\n",
       "}\r\n",
       "comp def \"R\" as E4  <<(T,blue) requirement  def>> [[psysml:cae76f8a-948f-454f-8648-301efab5060e ]] {\r\n",
       "\r\n",
       "- -\r\n",
       "}\r\n",
       "comp usage \"<s>noname</s>\" as E7  <<(T,blue) requirement>> [[psysml:70e6cc11-a878-4419-9a48-d32cb5df9816 ]] {\r\n",
       "}\r\n",
       "comp def \" [<b>1</b>] A\" as E8  <<(T,blue) requirement  def>> [[psysml:5c5c4776-1d3a-4700-8516-1d3a67d779f4 ]] {\r\n",
       "Text\r\n",
       "- -\r\n",
       "}\r\n",
       "comp def \"R1\" as E9  <<(T,blue) requirement  def>> [[psysml:f2fc2205-4b84-4313-b340-24ee025c15cf ]] {\r\n",
       "}\r\n",
       "rec usage \"p\" as E11  [[psysml:4203d305-f881-4dfa-bcc5-a82b5aac35c4 ]] {\r\n",
       "}\r\n",
       "rec usage \"q\" as E12  [[psysml:d0dbee69-5f2e-4ac4-ba4b-4aca7380bae7 ]] {\r\n",
       "comp usage \"r: R \" as E13  <<(T,blue) requirement>> [[psysml:aee31540-9ea4-41ee-8ebb-8555bfaf03fb ]] {\r\n",
       "}\r\n",
       "}\r\n",
       "comp usage \"r1: R1 \" as E14  <<(T,blue) requirement>> [[psysml:5c4fb90e-2e7f-411e-8437-1e0e9b0bd00e ]] {\r\n",
       "}\r\n",
       "}\r\n",
       "E3 - -:|> E2 [[psysml:1cfa9d08-8b1e-49ae-8f22-7ec5c2d68c94 ]] \r\n",
       "E4 *- - \"*\"E7 [[psysml:8957256b-d423-4c87-844e-8026b3f5c553 ]] \r\n",
       "E4 +- - E8 [[psysml:e7993699-2e90-4c6e-9ce7-c90f60868f83 ]] \r\n",
       "E13 - -:|> E4 [[psysml:e01bb7f1-206a-408f-a898-0799ec242df4 ]] \r\n",
       "E11 ..> E13 [[psysml:e806deaf-0ce2-4d10-9e57-833502fc32ee ]] : <<satisfy>>\r\n",
       "E12 ..> E13 [[psysml:f5a4eec3-f375-4f03-819b-6c5c8dc7728c ]] : <<satisfy>>\r\n",
       "E14 - -:|> E9 [[psysml:d6ece11e-fb98-4dd6-9106-0f6846b0bd9f ]] \r\n",
       "E11 ..> E14 [[psysml:feaea2f2-720b-4dbc-ba1d-0aec40f00046 ]] : <<satisfy>>\r\n",
       "E12 ..> E14 [[psysml:f5704f7b-2601-4abd-90b0-2ec51a978e80 ]] : <<satisfy>>\r\n",
       "@enduml\r\n",
       "\n",
       "PlantUML version 1.2020.13(Sat Jun 13 12:26:38 UTC 2020)\n",
       "(EPL source distribution)\n",
       "Java Runtime: OpenJDK Runtime Environment\n",
       "JVM: OpenJDK 64-Bit Server VM\n",
       "Default Encoding: UTF-8\n",
       "Language: en\n",
       "Country: null\n",
       "--></g></svg>"
      ]
     },
     "execution_count": 12,
     "metadata": {},
     "output_type": "execute_result"
    }
   ],
   "source": [
    "%viz --style=\"POLYLINE\" --view=\"Interconnection\" \"RequirementTest\""
   ]
  },
  {
   "cell_type": "code",
   "execution_count": 13,
   "id": "2eb8a6ec",
   "metadata": {
    "execution": {
     "iopub.execute_input": "2021-10-25T08:21:12.299908Z",
     "iopub.status.busy": "2021-10-25T08:21:12.299469Z",
     "iopub.status.idle": "2021-10-25T08:21:12.306407Z",
     "shell.execute_reply": "2021-10-25T08:21:12.306744Z"
    }
   },
   "outputs": [
    {
     "data": {
      "image/svg+xml": [
       "<?xml version=\"1.0\" encoding=\"UTF-8\" standalone=\"no\"?><svg xmlns=\"http://www.w3.org/2000/svg\" xmlns:xlink=\"http://www.w3.org/1999/xlink\" contentScriptType=\"application/ecmascript\" contentStyleType=\"text/css\" height=\"12px\" preserveAspectRatio=\"none\" style=\"width:12px;height:12px;\" version=\"1.1\" viewBox=\"0 0 12 12\" width=\"12px\" zoomAndPan=\"magnify\"><defs/><g><!--MD5=[97bbf32f66ccd50cbc40d92ea8f5a65e]\n",
       "@startuml\r\n",
       "skinparam ranksep 8\r\n",
       "skinparam linetype polyline\r\n",
       "skinparam monochrome true\r\n",
       "skinparam classbackgroundcolor white\r\n",
       "skinparam shadowing false\r\n",
       "skinparam wrapWidth 300\r\n",
       "hide circle\r\n",
       "\r\n",
       "@enduml\r\n",
       "\n",
       "PlantUML version 1.2020.13(Sat Jun 13 12:26:38 UTC 2020)\n",
       "(EPL source distribution)\n",
       "Java Runtime: OpenJDK Runtime Environment\n",
       "JVM: OpenJDK 64-Bit Server VM\n",
       "Default Encoding: UTF-8\n",
       "Language: en\n",
       "Country: null\n",
       "--></g></svg>"
      ]
     },
     "execution_count": 13,
     "metadata": {},
     "output_type": "execute_result"
    }
   ],
   "source": [
    "%viz --style=\"POLYLINE\" --view=\"Action\" \"RequirementTest\""
   ]
  },
  {
   "cell_type": "code",
   "execution_count": 14,
   "id": "3b6ce27a",
   "metadata": {
    "execution": {
     "iopub.execute_input": "2021-10-25T08:21:12.356408Z",
     "iopub.status.busy": "2021-10-25T08:21:12.355995Z",
     "iopub.status.idle": "2021-10-25T08:21:12.362587Z",
     "shell.execute_reply": "2021-10-25T08:21:12.362896Z"
    }
   },
   "outputs": [
    {
     "data": {
      "image/svg+xml": [
       "<?xml version=\"1.0\" encoding=\"UTF-8\" standalone=\"no\"?><svg xmlns=\"http://www.w3.org/2000/svg\" xmlns:xlink=\"http://www.w3.org/1999/xlink\" contentScriptType=\"application/ecmascript\" contentStyleType=\"text/css\" height=\"12px\" preserveAspectRatio=\"none\" style=\"width:12px;height:12px;\" version=\"1.1\" viewBox=\"0 0 12 12\" width=\"12px\" zoomAndPan=\"magnify\"><defs/><g><!--MD5=[dc938048236c351797870c36b62f92ad]\n",
       "@startuml\r\n",
       "skinparam roundcorner 20\r\n",
       "skinparam BoxPadding 20\r\n",
       "skinparam SequenceBoxBackgroundColor #white\r\n",
       "skinparam style strictuml\r\n",
       "skinparam maxMessageSize 100\r\n",
       "skinparam linetype polyline\r\n",
       "skinparam monochrome true\r\n",
       "skinparam classbackgroundcolor white\r\n",
       "skinparam shadowing false\r\n",
       "skinparam wrapWidth 300\r\n",
       "hide circle\r\n",
       "\r\n",
       "@enduml\r\n",
       "\n",
       "PlantUML version 1.2020.13(Sat Jun 13 12:26:38 UTC 2020)\n",
       "(EPL source distribution)\n",
       "Java Runtime: OpenJDK Runtime Environment\n",
       "JVM: OpenJDK 64-Bit Server VM\n",
       "Default Encoding: UTF-8\n",
       "Language: en\n",
       "Country: null\n",
       "--></g></svg>"
      ]
     },
     "execution_count": 14,
     "metadata": {},
     "output_type": "execute_result"
    }
   ],
   "source": [
    "%viz --style=\"POLYLINE\" --view=\"Sequence\" \"RequirementTest\""
   ]
  },
  {
   "cell_type": "code",
   "execution_count": 15,
   "id": "b7144e19",
   "metadata": {
    "execution": {
     "iopub.execute_input": "2021-10-25T08:21:12.412680Z",
     "iopub.status.busy": "2021-10-25T08:21:12.412272Z",
     "iopub.status.idle": "2021-10-25T08:21:12.482405Z",
     "shell.execute_reply": "2021-10-25T08:21:12.482064Z"
    }
   },
   "outputs": [
    {
     "data": {
      "image/svg+xml": [
       "<?xml version=\"1.0\" encoding=\"UTF-8\" standalone=\"no\"?><svg xmlns=\"http://www.w3.org/2000/svg\" xmlns:xlink=\"http://www.w3.org/1999/xlink\" contentScriptType=\"application/ecmascript\" contentStyleType=\"text/css\" height=\"494px\" preserveAspectRatio=\"none\" style=\"width:475px;height:494px;\" version=\"1.1\" viewBox=\"0 0 475 494\" width=\"475px\" zoomAndPan=\"magnify\"><defs/><g><!--MD5=[fbc87193dbaf4d95561dea2c320d4a47]\n",
       "cluster E1--><a href=\"psysml:2a075407-fc8d-47b4-b4de-e1839d24b848\" target=\"_top\" title=\"psysml:2a075407-fc8d-47b4-b4de-e1839d24b848\" xlink:actuate=\"onRequest\" xlink:href=\"psysml:2a075407-fc8d-47b4-b4de-e1839d24b848\" xlink:show=\"new\" xlink:title=\"psysml:2a075407-fc8d-47b4-b4de-e1839d24b848\" xlink:type=\"simple\"><polygon fill=\"#FFFFFF\" points=\"16,6,143,6,150,28.2969,453,28.2969,453,482,16,482,16,6\" style=\"stroke: #000000; stroke-width: 1.5;\"/><line style=\"stroke: #000000; stroke-width: 1.5;\" x1=\"16\" x2=\"150\" y1=\"28.2969\" y2=\"28.2969\"/><text fill=\"#000000\" font-family=\"sans-serif\" font-size=\"14\" font-weight=\"bold\" lengthAdjust=\"spacingAndGlyphs\" textLength=\"121\" x=\"20\" y=\"20.9951\">RequirementTest</text></a><!--MD5=[b4997ac47864f28c2f74865a473b2911]\n",
       "class E2--><a href=\"psysml:8e8b9929-fb62-44f3-bb6e-73f88688eaf1\" target=\"_top\" title=\"psysml:8e8b9929-fb62-44f3-bb6e-73f88688eaf1\" xlink:actuate=\"onRequest\" xlink:href=\"psysml:8e8b9929-fb62-44f3-bb6e-73f88688eaf1\" xlink:show=\"new\" xlink:title=\"psysml:8e8b9929-fb62-44f3-bb6e-73f88688eaf1\" xlink:type=\"simple\"><rect fill=\"#FFFFFF\" height=\"45.9375\" id=\"E2\" style=\"stroke: #383838; stroke-width: 1.5;\" width=\"108\" x=\"329\" y=\"164\"/><text fill=\"#000000\" font-family=\"sans-serif\" font-size=\"12\" font-style=\"italic\" lengthAdjust=\"spacingAndGlyphs\" textLength=\"106\" x=\"330\" y=\"180.1387\">«constraint  def»</text><text fill=\"#000000\" font-family=\"sans-serif\" font-size=\"12\" lengthAdjust=\"spacingAndGlyphs\" textLength=\"8\" x=\"379\" y=\"194.1074\">C</text><line style=\"stroke: #383838; stroke-width: 1.5;\" x1=\"330\" x2=\"436\" y1=\"201.9375\" y2=\"201.9375\"/></a><!--MD5=[09b614a08d8cba4a07c9adeb5e0fee81]\n",
       "class E3--><a href=\"psysml:8dab2afb-478b-48f2-a7f7-bb2b245c05ea\" target=\"_top\" title=\"psysml:8dab2afb-478b-48f2-a7f7-bb2b245c05ea\" xlink:actuate=\"onRequest\" xlink:href=\"psysml:8dab2afb-478b-48f2-a7f7-bb2b245c05ea\" xlink:show=\"new\" xlink:title=\"psysml:8dab2afb-478b-48f2-a7f7-bb2b245c05ea\" xlink:type=\"simple\"><rect fill=\"#FFFFFF\" height=\"45.9375\" id=\"E3\" rx=\"10\" ry=\"10\" style=\"stroke: #383838; stroke-width: 1.5;\" width=\"80\" x=\"357\" y=\"41\"/><text fill=\"#000000\" font-family=\"sans-serif\" font-size=\"12\" font-style=\"italic\" lengthAdjust=\"spacingAndGlyphs\" textLength=\"78\" x=\"358\" y=\"57.1387\">«constraint»</text><text fill=\"#000000\" font-family=\"sans-serif\" font-size=\"12\" lengthAdjust=\"spacingAndGlyphs\" textLength=\"23\" x=\"383.5\" y=\"71.1074\">c: C</text><line style=\"stroke: #383838; stroke-width: 1.5;\" x1=\"358\" x2=\"436\" y1=\"78.9375\" y2=\"78.9375\"/></a><!--MD5=[ebbe1d658d1005bcc118a6aa81145e00]\n",
       "class E4--><a href=\"psysml:cae76f8a-948f-454f-8648-301efab5060e\" target=\"_top\" title=\"psysml:cae76f8a-948f-454f-8648-301efab5060e\" xlink:actuate=\"onRequest\" xlink:href=\"psysml:cae76f8a-948f-454f-8648-301efab5060e\" xlink:show=\"new\" xlink:title=\"psysml:cae76f8a-948f-454f-8648-301efab5060e\" xlink:type=\"simple\"><rect fill=\"#FFFFFF\" height=\"66.7422\" id=\"E4\" style=\"stroke: #383838; stroke-width: 1.5;\" width=\"121\" x=\"188.5\" y=\"271\"/><text fill=\"#000000\" font-family=\"sans-serif\" font-size=\"12\" font-style=\"italic\" lengthAdjust=\"spacingAndGlyphs\" textLength=\"119\" x=\"189.5\" y=\"287.1387\">«requirement  def»</text><text fill=\"#000000\" font-family=\"sans-serif\" font-size=\"12\" lengthAdjust=\"spacingAndGlyphs\" textLength=\"8\" x=\"245\" y=\"301.1074\">R</text><line style=\"stroke: #383838; stroke-width: 1.5;\" x1=\"189.5\" x2=\"308.5\" y1=\"308.9375\" y2=\"308.9375\"/><text fill=\"#000000\" font-family=\"sans-serif\" font-size=\"11\" lengthAdjust=\"spacingAndGlyphs\" textLength=\"0\" x=\"198.5\" y=\"323.1479\"/><line style=\"stroke: #383838; stroke-width: 1.0;\" x1=\"189.5\" x2=\"308.5\" y1=\"329.7422\" y2=\"329.7422\"/></a><!--MD5=[2156ba9850f5573cc1fc38a6a4b2f02b]\n",
       "class E7--><a href=\"psysml:70e6cc11-a878-4419-9a48-d32cb5df9816\" target=\"_top\" title=\"psysml:70e6cc11-a878-4419-9a48-d32cb5df9816\" xlink:actuate=\"onRequest\" xlink:href=\"psysml:70e6cc11-a878-4419-9a48-d32cb5df9816\" xlink:show=\"new\" xlink:title=\"psysml:70e6cc11-a878-4419-9a48-d32cb5df9816\" xlink:type=\"simple\"><rect fill=\"#FFFFFF\" height=\"45.9375\" id=\"E7\" rx=\"10\" ry=\"10\" style=\"stroke: #383838; stroke-width: 1.5;\" width=\"93\" x=\"144.5\" y=\"409.5\"/><text fill=\"#000000\" font-family=\"sans-serif\" font-size=\"12\" font-style=\"italic\" lengthAdjust=\"spacingAndGlyphs\" textLength=\"91\" x=\"145.5\" y=\"425.6387\">«requirement»</text><text fill=\"#000000\" font-family=\"sans-serif\" font-size=\"12\" lengthAdjust=\"spacingAndGlyphs\" text-decoration=\"line-through\" textLength=\"51\" x=\"165.5\" y=\"439.6074\">noname</text><line style=\"stroke: #383838; stroke-width: 1.5;\" x1=\"145.5\" x2=\"236.5\" y1=\"447.4375\" y2=\"447.4375\"/></a><!--MD5=[b9389687b975829384b498ac4b7476b2]\n",
       "class E8--><a href=\"psysml:5c5c4776-1d3a-4700-8516-1d3a67d779f4\" target=\"_top\" title=\"psysml:5c5c4776-1d3a-4700-8516-1d3a67d779f4\" xlink:actuate=\"onRequest\" xlink:href=\"psysml:5c5c4776-1d3a-4700-8516-1d3a67d779f4\" xlink:show=\"new\" xlink:title=\"psysml:5c5c4776-1d3a-4700-8516-1d3a67d779f4\" xlink:type=\"simple\"><rect fill=\"#FFFFFF\" height=\"66.7422\" id=\"E8\" style=\"stroke: #383838; stroke-width: 1.5;\" width=\"121\" x=\"272.5\" y=\"399\"/><text fill=\"#000000\" font-family=\"sans-serif\" font-size=\"12\" font-style=\"italic\" lengthAdjust=\"spacingAndGlyphs\" textLength=\"119\" x=\"273.5\" y=\"415.1387\">«requirement  def»</text><text fill=\"#000000\" font-family=\"sans-serif\" font-size=\"12\" lengthAdjust=\"spacingAndGlyphs\" textLength=\"5\" x=\"320\" y=\"429.1074\">[</text><text fill=\"#000000\" font-family=\"sans-serif\" font-size=\"12\" font-weight=\"bold\" lengthAdjust=\"spacingAndGlyphs\" textLength=\"8\" x=\"325\" y=\"429.1074\">1</text><text fill=\"#000000\" font-family=\"sans-serif\" font-size=\"12\" lengthAdjust=\"spacingAndGlyphs\" textLength=\"17\" x=\"333\" y=\"429.1074\">] A</text><line style=\"stroke: #383838; stroke-width: 1.5;\" x1=\"273.5\" x2=\"392.5\" y1=\"436.9375\" y2=\"436.9375\"/><text fill=\"#000000\" font-family=\"sans-serif\" font-size=\"11\" lengthAdjust=\"spacingAndGlyphs\" textLength=\"24\" x=\"278.5\" y=\"451.1479\">Text</text><line style=\"stroke: #383838; stroke-width: 1.0;\" x1=\"273.5\" x2=\"392.5\" y1=\"457.7422\" y2=\"457.7422\"/></a><!--MD5=[fd4143e9d270a159db93a4ea2a975926]\n",
       "class E9--><a href=\"psysml:f2fc2205-4b84-4313-b340-24ee025c15cf\" target=\"_top\" title=\"psysml:f2fc2205-4b84-4313-b340-24ee025c15cf\" xlink:actuate=\"onRequest\" xlink:href=\"psysml:f2fc2205-4b84-4313-b340-24ee025c15cf\" xlink:show=\"new\" xlink:title=\"psysml:f2fc2205-4b84-4313-b340-24ee025c15cf\" xlink:type=\"simple\"><rect fill=\"#FFFFFF\" height=\"45.9375\" id=\"E9\" style=\"stroke: #383838; stroke-width: 1.5;\" width=\"121\" x=\"32.5\" y=\"281.5\"/><text fill=\"#000000\" font-family=\"sans-serif\" font-size=\"12\" font-style=\"italic\" lengthAdjust=\"spacingAndGlyphs\" textLength=\"119\" x=\"33.5\" y=\"297.6387\">«requirement  def»</text><text fill=\"#000000\" font-family=\"sans-serif\" font-size=\"12\" lengthAdjust=\"spacingAndGlyphs\" textLength=\"16\" x=\"85\" y=\"311.6074\">R1</text><line style=\"stroke: #383838; stroke-width: 1.5;\" x1=\"33.5\" x2=\"152.5\" y1=\"319.4375\" y2=\"319.4375\"/></a><!--MD5=[1dd1bfd58a279cf63c5f349dbc8fc6a1]\n",
       "class E11--><a href=\"psysml:4203d305-f881-4dfa-bcc5-a82b5aac35c4\" target=\"_top\" title=\"psysml:4203d305-f881-4dfa-bcc5-a82b5aac35c4\" xlink:actuate=\"onRequest\" xlink:href=\"psysml:4203d305-f881-4dfa-bcc5-a82b5aac35c4\" xlink:show=\"new\" xlink:title=\"psysml:4203d305-f881-4dfa-bcc5-a82b5aac35c4\" xlink:type=\"simple\"><rect fill=\"#FFFFFF\" height=\"45.9375\" id=\"E11\" rx=\"10\" ry=\"10\" style=\"stroke: #383838; stroke-width: 1.5;\" width=\"42\" x=\"95\" y=\"41\"/><text fill=\"#000000\" font-family=\"sans-serif\" font-size=\"12\" font-style=\"italic\" lengthAdjust=\"spacingAndGlyphs\" textLength=\"40\" x=\"96\" y=\"57.1387\">«part»</text><text fill=\"#000000\" font-family=\"sans-serif\" font-size=\"12\" lengthAdjust=\"spacingAndGlyphs\" textLength=\"8\" x=\"112\" y=\"71.1074\">p</text><line style=\"stroke: #383838; stroke-width: 1.5;\" x1=\"96\" x2=\"136\" y1=\"78.9375\" y2=\"78.9375\"/></a><!--MD5=[49a0ec8f00dab7302a31f22d0f0fe584]\n",
       "class E12--><a href=\"psysml:d0dbee69-5f2e-4ac4-ba4b-4aca7380bae7\" target=\"_top\" title=\"psysml:d0dbee69-5f2e-4ac4-ba4b-4aca7380bae7\" xlink:actuate=\"onRequest\" xlink:href=\"psysml:d0dbee69-5f2e-4ac4-ba4b-4aca7380bae7\" xlink:show=\"new\" xlink:title=\"psysml:d0dbee69-5f2e-4ac4-ba4b-4aca7380bae7\" xlink:type=\"simple\"><rect fill=\"#FFFFFF\" height=\"45.9375\" id=\"E12\" rx=\"10\" ry=\"10\" style=\"stroke: #383838; stroke-width: 1.5;\" width=\"42\" x=\"280\" y=\"41\"/><text fill=\"#000000\" font-family=\"sans-serif\" font-size=\"12\" font-style=\"italic\" lengthAdjust=\"spacingAndGlyphs\" textLength=\"40\" x=\"281\" y=\"57.1387\">«part»</text><text fill=\"#000000\" font-family=\"sans-serif\" font-size=\"12\" lengthAdjust=\"spacingAndGlyphs\" textLength=\"8\" x=\"297\" y=\"71.1074\">q</text><line style=\"stroke: #383838; stroke-width: 1.5;\" x1=\"281\" x2=\"321\" y1=\"78.9375\" y2=\"78.9375\"/></a><!--MD5=[ee3c913d1a06f366521f9ef512b67efe]\n",
       "class E13--><a href=\"psysml:aee31540-9ea4-41ee-8ebb-8555bfaf03fb\" target=\"_top\" title=\"psysml:aee31540-9ea4-41ee-8ebb-8555bfaf03fb\" xlink:actuate=\"onRequest\" xlink:href=\"psysml:aee31540-9ea4-41ee-8ebb-8555bfaf03fb\" xlink:show=\"new\" xlink:title=\"psysml:aee31540-9ea4-41ee-8ebb-8555bfaf03fb\" xlink:type=\"simple\"><rect fill=\"#FFFFFF\" height=\"45.9375\" id=\"E13\" rx=\"10\" ry=\"10\" style=\"stroke: #383838; stroke-width: 1.5;\" width=\"93\" x=\"200.5\" y=\"164\"/><text fill=\"#000000\" font-family=\"sans-serif\" font-size=\"12\" font-style=\"italic\" lengthAdjust=\"spacingAndGlyphs\" textLength=\"91\" x=\"201.5\" y=\"180.1387\">«requirement»</text><text fill=\"#000000\" font-family=\"sans-serif\" font-size=\"12\" lengthAdjust=\"spacingAndGlyphs\" textLength=\"21\" x=\"234.5\" y=\"194.1074\">r: R</text><line style=\"stroke: #383838; stroke-width: 1.5;\" x1=\"201.5\" x2=\"292.5\" y1=\"201.9375\" y2=\"201.9375\"/></a><!--MD5=[bee11217b2f71d958a27249dc326068c]\n",
       "class E14--><a href=\"psysml:5c4fb90e-2e7f-411e-8437-1e0e9b0bd00e\" target=\"_top\" title=\"psysml:5c4fb90e-2e7f-411e-8437-1e0e9b0bd00e\" xlink:actuate=\"onRequest\" xlink:href=\"psysml:5c4fb90e-2e7f-411e-8437-1e0e9b0bd00e\" xlink:show=\"new\" xlink:title=\"psysml:5c4fb90e-2e7f-411e-8437-1e0e9b0bd00e\" xlink:type=\"simple\"><rect fill=\"#FFFFFF\" height=\"45.9375\" id=\"E14\" rx=\"10\" ry=\"10\" style=\"stroke: #383838; stroke-width: 1.5;\" width=\"93\" x=\"46.5\" y=\"164\"/><text fill=\"#000000\" font-family=\"sans-serif\" font-size=\"12\" font-style=\"italic\" lengthAdjust=\"spacingAndGlyphs\" textLength=\"91\" x=\"47.5\" y=\"180.1387\">«requirement»</text><text fill=\"#000000\" font-family=\"sans-serif\" font-size=\"12\" lengthAdjust=\"spacingAndGlyphs\" textLength=\"37\" x=\"72.5\" y=\"194.1074\">r1: R1</text><line style=\"stroke: #383838; stroke-width: 1.5;\" x1=\"47.5\" x2=\"138.5\" y1=\"201.9375\" y2=\"201.9375\"/></a><!--MD5=[05d275557350bfb9b23a4ef7222b4c39]\n",
       "link E3 to E2--><a href=\"psysml:1cfa9d08-8b1e-49ae-8f22-7ec5c2d68c94\" target=\"_top\" title=\"psysml:1cfa9d08-8b1e-49ae-8f22-7ec5c2d68c94\" xlink:actuate=\"onRequest\" xlink:href=\"psysml:1cfa9d08-8b1e-49ae-8f22-7ec5c2d68c94\" xlink:show=\"new\" xlink:title=\"psysml:1cfa9d08-8b1e-49ae-8f22-7ec5c2d68c94\" xlink:type=\"simple\"><path d=\"M411.42,87.05 C420.69,101.23 431,117 431,117 C431,117 431,134 431,134 C431,134 424.88,140.63 417.01,149.16 \" fill=\"none\" id=\"E3-&gt;E2\" style=\"stroke: #383838; stroke-width: 1.0;\"/><polygon fill=\"#FFFFFF\" points=\"403.36,163.95,411.1052,145.2414,421.3917,154.7382,403.36,163.95\" style=\"stroke: #383838; stroke-width: 1.0;\"/><ellipse cx=\"416.4412\" cy=\"142.41\" fill=\"#383838\" rx=\"2\" ry=\"2\" style=\"stroke: #383838; stroke-width: 1.0;\"/><ellipse cx=\"423.7887\" cy=\"149.1934\" fill=\"#383838\" rx=\"2\" ry=\"2\" style=\"stroke: #383838; stroke-width: 1.0;\"/></a><!--MD5=[722ff4eef345aa10242dad44df0e98c7]\n",
       "reverse link E4 to E7--><a href=\"psysml:8957256b-d423-4c87-844e-8026b3f5c553\" target=\"_top\" title=\"psysml:8957256b-d423-4c87-844e-8026b3f5c553\" xlink:actuate=\"onRequest\" xlink:href=\"psysml:8957256b-d423-4c87-844e-8026b3f5c553\" xlink:show=\"new\" xlink:title=\"psysml:8957256b-d423-4c87-844e-8026b3f5c553\" xlink:type=\"simple\"><path d=\"M228.38,350.29 C219.19,370.26 208.76,392.91 201.26,409.21 \" fill=\"none\" id=\"E4&lt;-E7\" style=\"stroke: #383838; stroke-width: 1.0;\"/><polygon fill=\"#383838\" points=\"233.91,338.28,227.7664,342.0558,228.8888,349.179,235.0324,345.4032,233.91,338.28\" style=\"stroke: #383838; stroke-width: 1.0;\"/><text fill=\"#000000\" font-family=\"sans-serif\" font-size=\"13\" lengthAdjust=\"spacingAndGlyphs\" textLength=\"7\" x=\"195.9922\" y=\"398.412\">*</text></a><!--MD5=[c6fc7cdb0cabde04948078cf183fa696]\n",
       "reverse link E4 to E8--><a href=\"psysml:e7993699-2e90-4c6e-9ce7-c90f60868f83\" target=\"_top\" title=\"psysml:e7993699-2e90-4c6e-9ce7-c90f60868f83\" xlink:actuate=\"onRequest\" xlink:href=\"psysml:e7993699-2e90-4c6e-9ce7-c90f60868f83\" xlink:show=\"new\" xlink:title=\"psysml:e7993699-2e90-4c6e-9ce7-c90f60868f83\" xlink:type=\"simple\"><path d=\"M279.4,351.09 C289.94,366.92 301.55,384.33 311.26,398.89 \" fill=\"none\" id=\"E4&lt;-E8\" style=\"stroke: #383838; stroke-width: 1.0;\"/><ellipse cx=\"275.2894\" cy=\"344.9352\" fill=\"#FFFFFF\" rx=\"8\" ry=\"8\" style=\"stroke: #383838; stroke-width: 1.0;\"/><line style=\"stroke: #383838; stroke-width: 1.0;\" x1=\"279.7287\" x2=\"270.85\" y1=\"351.5905\" y2=\"338.28\"/><line style=\"stroke: #383838; stroke-width: 1.0;\" x1=\"268.6341\" x2=\"281.9446\" y1=\"349.3746\" y2=\"340.4959\"/></a><!--MD5=[062ed86c389d1a88f61c6380d0491e17]\n",
       "reverse link E12 to E13--><a href=\"psysml:0f26ba0d-7372-4c44-875c-adf3c35e17b9\" target=\"_top\" title=\"psysml:0f26ba0d-7372-4c44-875c-adf3c35e17b9\" xlink:actuate=\"onRequest\" xlink:href=\"psysml:0f26ba0d-7372-4c44-875c-adf3c35e17b9\" xlink:show=\"new\" xlink:title=\"psysml:0f26ba0d-7372-4c44-875c-adf3c35e17b9\" xlink:type=\"simple\"><path d=\"M333.95,83.59 C337.58,85.64 340,87 340,87 C340,87 424,117 424,117 C424,117 424,134 424,134 C424,134 312,164 312,164 C312,164 303.97,166.72 293.55,170.25 \" fill=\"none\" id=\"E12&lt;-E13\" style=\"stroke: #383838; stroke-width: 1.0;\"/><polygon fill=\"#383838\" points=\"322.33,77.03,325.5926,83.4608,332.7836,82.9225,329.521,76.4917,322.33,77.03\" style=\"stroke: #383838; stroke-width: 1.0;\"/></a><!--MD5=[e2a9ac97dcd3257bb5342dae06547bad]\n",
       "link E12 to E13--><a href=\"psysml:f5a4eec3-f375-4f03-819b-6c5c8dc7728c\" target=\"_top\" title=\"psysml:f5a4eec3-f375-4f03-819b-6c5c8dc7728c\" xlink:actuate=\"onRequest\" xlink:href=\"psysml:f5a4eec3-f375-4f03-819b-6c5c8dc7728c\" xlink:show=\"new\" xlink:title=\"psysml:f5a4eec3-f375-4f03-819b-6c5c8dc7728c\" xlink:type=\"simple\"><path d=\"M311.18,87.05 C317.72,101.23 325,117 325,117 C325,117 325,134 325,134 C325,134 304.38,147.75 284.34,161.11 \" fill=\"none\" id=\"E12-&gt;E13\" style=\"stroke: #383838; stroke-width: 1.0; stroke-dasharray: 7.0,7.0;\"/><polygon fill=\"#383838\" points=\"280.08,163.95,289.7873,162.2859,284.2403,161.1765,285.3497,155.6295,280.08,163.95\" style=\"stroke: #383838; stroke-width: 1.0;\"/><text fill=\"#000000\" font-family=\"sans-serif\" font-size=\"13\" lengthAdjust=\"spacingAndGlyphs\" textLength=\"57\" x=\"326\" y=\"130.0669\">«satisfy»</text></a><!--MD5=[017847e01ff9a8bd19f247411074f987]\n",
       "link E13 to E4--><a href=\"psysml:e01bb7f1-206a-408f-a898-0799ec242df4\" target=\"_top\" title=\"psysml:e01bb7f1-206a-408f-a898-0799ec242df4\" xlink:actuate=\"onRequest\" xlink:href=\"psysml:e01bb7f1-206a-408f-a898-0799ec242df4\" xlink:show=\"new\" xlink:title=\"psysml:e01bb7f1-206a-408f-a898-0799ec242df4\" xlink:type=\"simple\"><path d=\"M247.39,210.27 C247.59,221.81 247.84,236.43 248.09,250.66 \" fill=\"none\" id=\"E13-&gt;E4\" style=\"stroke: #383838; stroke-width: 1.0;\"/><polygon fill=\"#FFFFFF\" points=\"248.43,270.81,241.1054,251.9328,255.1033,251.6928,248.43,270.81\" style=\"stroke: #383838; stroke-width: 1.0;\"/><ellipse cx=\"243.0074\" cy=\"246.1993\" fill=\"#383838\" rx=\"2\" ry=\"2\" style=\"stroke: #383838; stroke-width: 1.0;\"/><ellipse cx=\"253.0059\" cy=\"246.0279\" fill=\"#383838\" rx=\"2\" ry=\"2\" style=\"stroke: #383838; stroke-width: 1.0;\"/></a><!--MD5=[60f911bb19596b289db4a22769f8105a]\n",
       "link E11 to E13--><a href=\"psysml:e806deaf-0ce2-4d10-9e57-833502fc32ee\" target=\"_top\" title=\"psysml:e806deaf-0ce2-4d10-9e57-833502fc32ee\" xlink:actuate=\"onRequest\" xlink:href=\"psysml:e806deaf-0ce2-4d10-9e57-833502fc32ee\" xlink:show=\"new\" xlink:title=\"psysml:e806deaf-0ce2-4d10-9e57-833502fc32ee\" xlink:type=\"simple\"><path d=\"M131.13,87.21 C144.87,107.38 163,134 163,134 C163,134 185.4,147.86 207.06,161.28 \" fill=\"none\" id=\"E11-&gt;E13\" style=\"stroke: #383838; stroke-width: 1.0; stroke-dasharray: 7.0,7.0;\"/><polygon fill=\"#383838\" points=\"211.38,163.95,205.8557,155.7964,207.136,161.3064,201.6259,162.5868,211.38,163.95\" style=\"stroke: #383838; stroke-width: 1.0;\"/><text fill=\"#000000\" font-family=\"sans-serif\" font-size=\"13\" lengthAdjust=\"spacingAndGlyphs\" textLength=\"57\" x=\"164\" y=\"130.0669\">«satisfy»</text></a><!--MD5=[0c677eb374079406c87b74cd1f5a339d]\n",
       "link E14 to E9--><a href=\"psysml:d6ece11e-fb98-4dd6-9106-0f6846b0bd9f\" target=\"_top\" title=\"psysml:d6ece11e-fb98-4dd6-9106-0f6846b0bd9f\" xlink:actuate=\"onRequest\" xlink:href=\"psysml:d6ece11e-fb98-4dd6-9106-0f6846b0bd9f\" xlink:show=\"new\" xlink:title=\"psysml:d6ece11e-fb98-4dd6-9106-0f6846b0bd9f\" xlink:type=\"simple\"><path d=\"M93,210.27 C93,224.65 93,243.82 93,261.04 \" fill=\"none\" id=\"E14-&gt;E9\" style=\"stroke: #383838; stroke-width: 1.0;\"/><polygon fill=\"#FFFFFF\" points=\"93,281.3,86,262.3,100,262.3,93,281.3\" style=\"stroke: #383838; stroke-width: 1.0;\"/><ellipse cx=\"88\" cy=\"256.6\" fill=\"#383838\" rx=\"2\" ry=\"2\" style=\"stroke: #383838; stroke-width: 1.0;\"/><ellipse cx=\"98\" cy=\"256.6\" fill=\"#383838\" rx=\"2\" ry=\"2\" style=\"stroke: #383838; stroke-width: 1.0;\"/></a><!--MD5=[9c1c40551dcf5c2fca147626a786a7cd]\n",
       "link E11 to E14--><a href=\"psysml:feaea2f2-720b-4dbc-ba1d-0aec40f00046\" target=\"_top\" title=\"psysml:feaea2f2-720b-4dbc-ba1d-0aec40f00046\" xlink:actuate=\"onRequest\" xlink:href=\"psysml:feaea2f2-720b-4dbc-ba1d-0aec40f00046\" xlink:show=\"new\" xlink:title=\"psysml:feaea2f2-720b-4dbc-ba1d-0aec40f00046\" xlink:type=\"simple\"><path d=\"M94.85,86.15 C80.45,100.55 64,117 64,117 C64,117 64,134 64,134 C64,134 70.98,146.51 78.09,159.26 \" fill=\"none\" id=\"E11-&gt;E14\" style=\"stroke: #383838; stroke-width: 1.0; stroke-dasharray: 7.0,7.0;\"/><polygon fill=\"#383838\" points=\"80.7,163.95,79.8122,154.1412,78.2657,159.5826,72.8244,158.0361,80.7,163.95\" style=\"stroke: #383838; stroke-width: 1.0;\"/><text fill=\"#000000\" font-family=\"sans-serif\" font-size=\"13\" lengthAdjust=\"spacingAndGlyphs\" textLength=\"57\" x=\"65\" y=\"130.0669\">«satisfy»</text></a><!--MD5=[d53cb08dffc8689d16e38c8e194e9adc]\n",
       "link E12 to E14--><a href=\"psysml:f5704f7b-2601-4abd-90b0-2ec51a978e80\" target=\"_top\" title=\"psysml:f5704f7b-2601-4abd-90b0-2ec51a978e80\" xlink:actuate=\"onRequest\" xlink:href=\"psysml:f5704f7b-2601-4abd-90b0-2ec51a978e80\" xlink:show=\"new\" xlink:title=\"psysml:f5704f7b-2601-4abd-90b0-2ec51a978e80\" xlink:type=\"simple\"><path d=\"M279.71,84.59 C257.54,104.99 226,134 226,134 C226,134 181.92,151.24 144.51,165.86 \" fill=\"none\" id=\"E12-&gt;E14\" style=\"stroke: #383838; stroke-width: 1.0; stroke-dasharray: 7.0,7.0;\"/><polygon fill=\"#383838\" points=\"139.52,167.81,149.3581,168.2702,144.1789,165.995,146.4541,160.8159,139.52,167.81\" style=\"stroke: #383838; stroke-width: 1.0;\"/><text fill=\"#000000\" font-family=\"sans-serif\" font-size=\"13\" lengthAdjust=\"spacingAndGlyphs\" textLength=\"57\" x=\"245\" y=\"130.0669\">«satisfy»</text></a><!--MD5=[4e7f19cab439a23527b221ce2c3d2c33]\n",
       "@startuml\r\n",
       "skinparam linetype polyline\r\n",
       "skinparam monochrome true\r\n",
       "skinparam classbackgroundcolor white\r\n",
       "skinparam shadowing false\r\n",
       "skinparam wrapWidth 300\r\n",
       "hide circle\r\n",
       "\r\n",
       "package \"RequirementTest\" as E1  [[psysml:2a075407-fc8d-47b4-b4de-e1839d24b848 ]]  {\r\n",
       "comp def \"C\" as E2  <<(T,blue) constraint  def>> [[psysml:8e8b9929-fb62-44f3-bb6e-73f88688eaf1 ]] {\r\n",
       "}\r\n",
       "comp usage \"c: C \" as E3  <<(T,blue) constraint>> [[psysml:8dab2afb-478b-48f2-a7f7-bb2b245c05ea ]] {\r\n",
       "}\r\n",
       "comp def \"R\" as E4  <<(T,blue) requirement  def>> [[psysml:cae76f8a-948f-454f-8648-301efab5060e ]] {\r\n",
       "\r\n",
       "- -\r\n",
       "}\r\n",
       "comp usage \"<s>noname</s>\" as E7  <<(T,blue) requirement>> [[psysml:70e6cc11-a878-4419-9a48-d32cb5df9816 ]] {\r\n",
       "}\r\n",
       "comp def \" [<b>1</b>] A\" as E8  <<(T,blue) requirement  def>> [[psysml:5c5c4776-1d3a-4700-8516-1d3a67d779f4 ]] {\r\n",
       "Text\r\n",
       "- -\r\n",
       "}\r\n",
       "comp def \"R1\" as E9  <<(T,blue) requirement  def>> [[psysml:f2fc2205-4b84-4313-b340-24ee025c15cf ]] {\r\n",
       "}\r\n",
       "comp usage \"p\" as E11  <<(T,blue) part>> [[psysml:4203d305-f881-4dfa-bcc5-a82b5aac35c4 ]] {\r\n",
       "}\r\n",
       "comp usage \"q\" as E12  <<(T,blue) part>> [[psysml:d0dbee69-5f2e-4ac4-ba4b-4aca7380bae7 ]] {\r\n",
       "}\r\n",
       "comp usage \"r: R \" as E13  <<(T,blue) requirement>> [[psysml:aee31540-9ea4-41ee-8ebb-8555bfaf03fb ]] {\r\n",
       "}\r\n",
       "comp usage \"r1: R1 \" as E14  <<(T,blue) requirement>> [[psysml:5c4fb90e-2e7f-411e-8437-1e0e9b0bd00e ]] {\r\n",
       "}\r\n",
       "}\r\n",
       "E3 - -:|> E2 [[psysml:1cfa9d08-8b1e-49ae-8f22-7ec5c2d68c94 ]] \r\n",
       "E4 *- - \"*\"E7 [[psysml:8957256b-d423-4c87-844e-8026b3f5c553 ]] \r\n",
       "E4 +- - E8 [[psysml:e7993699-2e90-4c6e-9ce7-c90f60868f83 ]] \r\n",
       "E12 *- - E13 [[psysml:0f26ba0d-7372-4c44-875c-adf3c35e17b9 ]] \r\n",
       "E13 - -:|> E4 [[psysml:e01bb7f1-206a-408f-a898-0799ec242df4 ]] \r\n",
       "E11 ..> E13 [[psysml:e806deaf-0ce2-4d10-9e57-833502fc32ee ]] : <<satisfy>>\r\n",
       "E12 ..> E13 [[psysml:f5a4eec3-f375-4f03-819b-6c5c8dc7728c ]] : <<satisfy>>\r\n",
       "E14 - -:|> E9 [[psysml:d6ece11e-fb98-4dd6-9106-0f6846b0bd9f ]] \r\n",
       "E11 ..> E14 [[psysml:feaea2f2-720b-4dbc-ba1d-0aec40f00046 ]] : <<satisfy>>\r\n",
       "E12 ..> E14 [[psysml:f5704f7b-2601-4abd-90b0-2ec51a978e80 ]] : <<satisfy>>\r\n",
       "@enduml\r\n",
       "\n",
       "PlantUML version 1.2020.13(Sat Jun 13 12:26:38 UTC 2020)\n",
       "(EPL source distribution)\n",
       "Java Runtime: OpenJDK Runtime Environment\n",
       "JVM: OpenJDK 64-Bit Server VM\n",
       "Default Encoding: UTF-8\n",
       "Language: en\n",
       "Country: null\n",
       "--></g></svg>"
      ]
     },
     "execution_count": 15,
     "metadata": {},
     "output_type": "execute_result"
    }
   ],
   "source": [
    "%viz --style=\"POLYLINE\" --view=\"MIXED\" \"RequirementTest\""
   ]
  },
  {
   "cell_type": "code",
   "execution_count": 16,
   "id": "d11404cf",
   "metadata": {
    "execution": {
     "iopub.execute_input": "2021-10-25T08:21:12.531886Z",
     "iopub.status.busy": "2021-10-25T08:21:12.531479Z",
     "iopub.status.idle": "2021-10-25T08:21:12.605180Z",
     "shell.execute_reply": "2021-10-25T08:21:12.604835Z"
    }
   },
   "outputs": [
    {
     "data": {
      "image/svg+xml": [
       "<?xml version=\"1.0\" encoding=\"UTF-8\" standalone=\"no\"?><svg xmlns=\"http://www.w3.org/2000/svg\" xmlns:xlink=\"http://www.w3.org/1999/xlink\" contentScriptType=\"application/ecmascript\" contentStyleType=\"text/css\" height=\"306px\" preserveAspectRatio=\"none\" style=\"width:741px;height:306px;\" version=\"1.1\" viewBox=\"0 0 741 306\" width=\"741px\" zoomAndPan=\"magnify\"><defs/><g><!--MD5=[fbc87193dbaf4d95561dea2c320d4a47]\n",
       "cluster E1--><a href=\"psysml:2a075407-fc8d-47b4-b4de-e1839d24b848\" target=\"_top\" title=\"psysml:2a075407-fc8d-47b4-b4de-e1839d24b848\" xlink:actuate=\"onRequest\" xlink:href=\"psysml:2a075407-fc8d-47b4-b4de-e1839d24b848\" xlink:show=\"new\" xlink:title=\"psysml:2a075407-fc8d-47b4-b4de-e1839d24b848\" xlink:type=\"simple\"><polygon fill=\"#FFFFFF\" points=\"16,6,143,6,150,28.2969,719,28.2969,719,294,16,294,16,6\" style=\"stroke: #000000; stroke-width: 1.5;\"/><line style=\"stroke: #000000; stroke-width: 1.5;\" x1=\"16\" x2=\"150\" y1=\"28.2969\" y2=\"28.2969\"/><text fill=\"#000000\" font-family=\"sans-serif\" font-size=\"14\" font-weight=\"bold\" lengthAdjust=\"spacingAndGlyphs\" textLength=\"121\" x=\"20\" y=\"20.9951\">RequirementTest</text></a><!--MD5=[b4997ac47864f28c2f74865a473b2911]\n",
       "class E2--><a href=\"psysml:8e8b9929-fb62-44f3-bb6e-73f88688eaf1\" target=\"_top\" title=\"psysml:8e8b9929-fb62-44f3-bb6e-73f88688eaf1\" xlink:actuate=\"onRequest\" xlink:href=\"psysml:8e8b9929-fb62-44f3-bb6e-73f88688eaf1\" xlink:show=\"new\" xlink:title=\"psysml:8e8b9929-fb62-44f3-bb6e-73f88688eaf1\" xlink:type=\"simple\"><rect fill=\"#FFFFFF\" height=\"45.9375\" id=\"E2\" style=\"stroke: #383838; stroke-width: 1.5;\" width=\"108\" x=\"231\" y=\"41\"/><text fill=\"#000000\" font-family=\"sans-serif\" font-size=\"12\" font-style=\"italic\" lengthAdjust=\"spacingAndGlyphs\" textLength=\"106\" x=\"232\" y=\"57.1387\">«constraint  def»</text><text fill=\"#000000\" font-family=\"sans-serif\" font-size=\"12\" lengthAdjust=\"spacingAndGlyphs\" textLength=\"8\" x=\"281\" y=\"71.1074\">C</text><line style=\"stroke: #383838; stroke-width: 1.5;\" x1=\"232\" x2=\"338\" y1=\"78.9375\" y2=\"78.9375\"/></a><!--MD5=[09b614a08d8cba4a07c9adeb5e0fee81]\n",
       "class E3--><a href=\"psysml:8dab2afb-478b-48f2-a7f7-bb2b245c05ea\" target=\"_top\" title=\"psysml:8dab2afb-478b-48f2-a7f7-bb2b245c05ea\" xlink:actuate=\"onRequest\" xlink:href=\"psysml:8dab2afb-478b-48f2-a7f7-bb2b245c05ea\" xlink:show=\"new\" xlink:title=\"psysml:8dab2afb-478b-48f2-a7f7-bb2b245c05ea\" xlink:type=\"simple\"><rect fill=\"#FFFFFF\" height=\"45.9375\" id=\"E3\" rx=\"10\" ry=\"10\" style=\"stroke: #383838; stroke-width: 1.5;\" width=\"80\" x=\"32\" y=\"41\"/><text fill=\"#000000\" font-family=\"sans-serif\" font-size=\"12\" font-style=\"italic\" lengthAdjust=\"spacingAndGlyphs\" textLength=\"78\" x=\"33\" y=\"57.1387\">«constraint»</text><text fill=\"#000000\" font-family=\"sans-serif\" font-size=\"12\" lengthAdjust=\"spacingAndGlyphs\" textLength=\"23\" x=\"58.5\" y=\"71.1074\">c: C</text><line style=\"stroke: #383838; stroke-width: 1.5;\" x1=\"33\" x2=\"111\" y1=\"78.9375\" y2=\"78.9375\"/></a><!--MD5=[ebbe1d658d1005bcc118a6aa81145e00]\n",
       "class E4--><a href=\"psysml:cae76f8a-948f-454f-8648-301efab5060e\" target=\"_top\" title=\"psysml:cae76f8a-948f-454f-8648-301efab5060e\" xlink:actuate=\"onRequest\" xlink:href=\"psysml:cae76f8a-948f-454f-8648-301efab5060e\" xlink:show=\"new\" xlink:title=\"psysml:cae76f8a-948f-454f-8648-301efab5060e\" xlink:type=\"simple\"><rect fill=\"#FFFFFF\" height=\"66.7422\" id=\"E4\" style=\"stroke: #383838; stroke-width: 1.5;\" width=\"121\" x=\"400\" y=\"111.5\"/><text fill=\"#000000\" font-family=\"sans-serif\" font-size=\"12\" font-style=\"italic\" lengthAdjust=\"spacingAndGlyphs\" textLength=\"119\" x=\"401\" y=\"127.6387\">«requirement  def»</text><text fill=\"#000000\" font-family=\"sans-serif\" font-size=\"12\" lengthAdjust=\"spacingAndGlyphs\" textLength=\"8\" x=\"456.5\" y=\"141.6074\">R</text><line style=\"stroke: #383838; stroke-width: 1.5;\" x1=\"401\" x2=\"520\" y1=\"149.4375\" y2=\"149.4375\"/><text fill=\"#000000\" font-family=\"sans-serif\" font-size=\"11\" lengthAdjust=\"spacingAndGlyphs\" textLength=\"0\" x=\"410\" y=\"163.6479\"/><line style=\"stroke: #383838; stroke-width: 1.0;\" x1=\"401\" x2=\"520\" y1=\"170.2422\" y2=\"170.2422\"/></a><!--MD5=[2156ba9850f5573cc1fc38a6a4b2f02b]\n",
       "class E7--><a href=\"psysml:70e6cc11-a878-4419-9a48-d32cb5df9816\" target=\"_top\" title=\"psysml:70e6cc11-a878-4419-9a48-d32cb5df9816\" xlink:actuate=\"onRequest\" xlink:href=\"psysml:70e6cc11-a878-4419-9a48-d32cb5df9816\" xlink:show=\"new\" xlink:title=\"psysml:70e6cc11-a878-4419-9a48-d32cb5df9816\" xlink:type=\"simple\"><rect fill=\"#FFFFFF\" height=\"45.9375\" id=\"E7\" rx=\"10\" ry=\"10\" style=\"stroke: #383838; stroke-width: 1.5;\" width=\"93\" x=\"596\" y=\"163\"/><text fill=\"#000000\" font-family=\"sans-serif\" font-size=\"12\" font-style=\"italic\" lengthAdjust=\"spacingAndGlyphs\" textLength=\"91\" x=\"597\" y=\"179.1387\">«requirement»</text><text fill=\"#000000\" font-family=\"sans-serif\" font-size=\"12\" lengthAdjust=\"spacingAndGlyphs\" text-decoration=\"line-through\" textLength=\"51\" x=\"617\" y=\"193.1074\">noname</text><line style=\"stroke: #383838; stroke-width: 1.5;\" x1=\"597\" x2=\"688\" y1=\"200.9375\" y2=\"200.9375\"/></a><!--MD5=[b9389687b975829384b498ac4b7476b2]\n",
       "class E8--><a href=\"psysml:5c5c4776-1d3a-4700-8516-1d3a67d779f4\" target=\"_top\" title=\"psysml:5c5c4776-1d3a-4700-8516-1d3a67d779f4\" xlink:actuate=\"onRequest\" xlink:href=\"psysml:5c5c4776-1d3a-4700-8516-1d3a67d779f4\" xlink:show=\"new\" xlink:title=\"psysml:5c5c4776-1d3a-4700-8516-1d3a67d779f4\" xlink:type=\"simple\"><rect fill=\"#FFFFFF\" height=\"66.7422\" id=\"E8\" style=\"stroke: #383838; stroke-width: 1.5;\" width=\"121\" x=\"582\" y=\"60.5\"/><text fill=\"#000000\" font-family=\"sans-serif\" font-size=\"12\" font-style=\"italic\" lengthAdjust=\"spacingAndGlyphs\" textLength=\"119\" x=\"583\" y=\"76.6387\">«requirement  def»</text><text fill=\"#000000\" font-family=\"sans-serif\" font-size=\"12\" lengthAdjust=\"spacingAndGlyphs\" textLength=\"5\" x=\"629.5\" y=\"90.6074\">[</text><text fill=\"#000000\" font-family=\"sans-serif\" font-size=\"12\" font-weight=\"bold\" lengthAdjust=\"spacingAndGlyphs\" textLength=\"8\" x=\"634.5\" y=\"90.6074\">1</text><text fill=\"#000000\" font-family=\"sans-serif\" font-size=\"12\" lengthAdjust=\"spacingAndGlyphs\" textLength=\"17\" x=\"642.5\" y=\"90.6074\">] A</text><line style=\"stroke: #383838; stroke-width: 1.5;\" x1=\"583\" x2=\"702\" y1=\"98.4375\" y2=\"98.4375\"/><text fill=\"#000000\" font-family=\"sans-serif\" font-size=\"11\" lengthAdjust=\"spacingAndGlyphs\" textLength=\"24\" x=\"588\" y=\"112.6479\">Text</text><line style=\"stroke: #383838; stroke-width: 1.0;\" x1=\"583\" x2=\"702\" y1=\"119.2422\" y2=\"119.2422\"/></a><!--MD5=[fd4143e9d270a159db93a4ea2a975926]\n",
       "class E9--><a href=\"psysml:f2fc2205-4b84-4313-b340-24ee025c15cf\" target=\"_top\" title=\"psysml:f2fc2205-4b84-4313-b340-24ee025c15cf\" xlink:actuate=\"onRequest\" xlink:href=\"psysml:f2fc2205-4b84-4313-b340-24ee025c15cf\" xlink:show=\"new\" xlink:title=\"psysml:f2fc2205-4b84-4313-b340-24ee025c15cf\" xlink:type=\"simple\"><rect fill=\"#FFFFFF\" height=\"45.9375\" id=\"E9\" style=\"stroke: #383838; stroke-width: 1.5;\" width=\"121\" x=\"400\" y=\"217\"/><text fill=\"#000000\" font-family=\"sans-serif\" font-size=\"12\" font-style=\"italic\" lengthAdjust=\"spacingAndGlyphs\" textLength=\"119\" x=\"401\" y=\"233.1387\">«requirement  def»</text><text fill=\"#000000\" font-family=\"sans-serif\" font-size=\"12\" lengthAdjust=\"spacingAndGlyphs\" textLength=\"16\" x=\"452.5\" y=\"247.1074\">R1</text><line style=\"stroke: #383838; stroke-width: 1.5;\" x1=\"401\" x2=\"520\" y1=\"254.9375\" y2=\"254.9375\"/></a><!--MD5=[1dd1bfd58a279cf63c5f349dbc8fc6a1]\n",
       "class E11--><a href=\"psysml:4203d305-f881-4dfa-bcc5-a82b5aac35c4\" target=\"_top\" title=\"psysml:4203d305-f881-4dfa-bcc5-a82b5aac35c4\" xlink:actuate=\"onRequest\" xlink:href=\"psysml:4203d305-f881-4dfa-bcc5-a82b5aac35c4\" xlink:show=\"new\" xlink:title=\"psysml:4203d305-f881-4dfa-bcc5-a82b5aac35c4\" xlink:type=\"simple\"><rect fill=\"#FFFFFF\" height=\"45.9375\" id=\"E11\" rx=\"10\" ry=\"10\" style=\"stroke: #383838; stroke-width: 1.5;\" width=\"42\" x=\"51\" y=\"212\"/><text fill=\"#000000\" font-family=\"sans-serif\" font-size=\"12\" font-style=\"italic\" lengthAdjust=\"spacingAndGlyphs\" textLength=\"40\" x=\"52\" y=\"228.1387\">«part»</text><text fill=\"#000000\" font-family=\"sans-serif\" font-size=\"12\" lengthAdjust=\"spacingAndGlyphs\" textLength=\"8\" x=\"68\" y=\"242.1074\">p</text><line style=\"stroke: #383838; stroke-width: 1.5;\" x1=\"52\" x2=\"92\" y1=\"249.9375\" y2=\"249.9375\"/></a><!--MD5=[49a0ec8f00dab7302a31f22d0f0fe584]\n",
       "class E12--><a href=\"psysml:d0dbee69-5f2e-4ac4-ba4b-4aca7380bae7\" target=\"_top\" title=\"psysml:d0dbee69-5f2e-4ac4-ba4b-4aca7380bae7\" xlink:actuate=\"onRequest\" xlink:href=\"psysml:d0dbee69-5f2e-4ac4-ba4b-4aca7380bae7\" xlink:show=\"new\" xlink:title=\"psysml:d0dbee69-5f2e-4ac4-ba4b-4aca7380bae7\" xlink:type=\"simple\"><rect fill=\"#FFFFFF\" height=\"45.9375\" id=\"E12\" rx=\"10\" ry=\"10\" style=\"stroke: #383838; stroke-width: 1.5;\" width=\"42\" x=\"51\" y=\"122\"/><text fill=\"#000000\" font-family=\"sans-serif\" font-size=\"12\" font-style=\"italic\" lengthAdjust=\"spacingAndGlyphs\" textLength=\"40\" x=\"52\" y=\"138.1387\">«part»</text><text fill=\"#000000\" font-family=\"sans-serif\" font-size=\"12\" lengthAdjust=\"spacingAndGlyphs\" textLength=\"8\" x=\"68\" y=\"152.1074\">q</text><line style=\"stroke: #383838; stroke-width: 1.5;\" x1=\"52\" x2=\"92\" y1=\"159.9375\" y2=\"159.9375\"/></a><!--MD5=[ee3c913d1a06f366521f9ef512b67efe]\n",
       "class E13--><a href=\"psysml:aee31540-9ea4-41ee-8ebb-8555bfaf03fb\" target=\"_top\" title=\"psysml:aee31540-9ea4-41ee-8ebb-8555bfaf03fb\" xlink:actuate=\"onRequest\" xlink:href=\"psysml:aee31540-9ea4-41ee-8ebb-8555bfaf03fb\" xlink:show=\"new\" xlink:title=\"psysml:aee31540-9ea4-41ee-8ebb-8555bfaf03fb\" xlink:type=\"simple\"><rect fill=\"#FFFFFF\" height=\"45.9375\" id=\"E13\" rx=\"10\" ry=\"10\" style=\"stroke: #383838; stroke-width: 1.5;\" width=\"93\" x=\"238.5\" y=\"122\"/><text fill=\"#000000\" font-family=\"sans-serif\" font-size=\"12\" font-style=\"italic\" lengthAdjust=\"spacingAndGlyphs\" textLength=\"91\" x=\"239.5\" y=\"138.1387\">«requirement»</text><text fill=\"#000000\" font-family=\"sans-serif\" font-size=\"12\" lengthAdjust=\"spacingAndGlyphs\" textLength=\"21\" x=\"272.5\" y=\"152.1074\">r: R</text><line style=\"stroke: #383838; stroke-width: 1.5;\" x1=\"239.5\" x2=\"330.5\" y1=\"159.9375\" y2=\"159.9375\"/></a><!--MD5=[bee11217b2f71d958a27249dc326068c]\n",
       "class E14--><a href=\"psysml:5c4fb90e-2e7f-411e-8437-1e0e9b0bd00e\" target=\"_top\" title=\"psysml:5c4fb90e-2e7f-411e-8437-1e0e9b0bd00e\" xlink:actuate=\"onRequest\" xlink:href=\"psysml:5c4fb90e-2e7f-411e-8437-1e0e9b0bd00e\" xlink:show=\"new\" xlink:title=\"psysml:5c4fb90e-2e7f-411e-8437-1e0e9b0bd00e\" xlink:type=\"simple\"><rect fill=\"#FFFFFF\" height=\"45.9375\" id=\"E14\" rx=\"10\" ry=\"10\" style=\"stroke: #383838; stroke-width: 1.5;\" width=\"93\" x=\"238.5\" y=\"217\"/><text fill=\"#000000\" font-family=\"sans-serif\" font-size=\"12\" font-style=\"italic\" lengthAdjust=\"spacingAndGlyphs\" textLength=\"91\" x=\"239.5\" y=\"233.1387\">«requirement»</text><text fill=\"#000000\" font-family=\"sans-serif\" font-size=\"12\" lengthAdjust=\"spacingAndGlyphs\" textLength=\"37\" x=\"264.5\" y=\"247.1074\">r1: R1</text><line style=\"stroke: #383838; stroke-width: 1.5;\" x1=\"239.5\" x2=\"330.5\" y1=\"254.9375\" y2=\"254.9375\"/></a><!--MD5=[05d275557350bfb9b23a4ef7222b4c39]\n",
       "link E3 to E2--><a href=\"psysml:1cfa9d08-8b1e-49ae-8f22-7ec5c2d68c94\" target=\"_top\" title=\"psysml:1cfa9d08-8b1e-49ae-8f22-7ec5c2d68c94\" xlink:actuate=\"onRequest\" xlink:href=\"psysml:1cfa9d08-8b1e-49ae-8f22-7ec5c2d68c94\" xlink:show=\"new\" xlink:title=\"psysml:1cfa9d08-8b1e-49ae-8f22-7ec5c2d68c94\" xlink:type=\"simple\"><path d=\"M112.1,52.63 C121.79,50.3 132.2,48.19 142,47 C168.03,43.84 174.91,44.36 201,47 C204.17,47.32 207.4,47.71 210.65,48.15 \" fill=\"none\" id=\"E3-&gt;E2\" style=\"stroke: #383838; stroke-width: 1.0;\"/><polygon fill=\"#FFFFFF\" points=\"230.67,51.42,210.7894,55.2619,213.0488,41.4454,230.67,51.42\" style=\"stroke: #383838; stroke-width: 1.0;\"/><ellipse cx=\"205.4869\" cy=\"52.3682\" fill=\"#383838\" rx=\"2\" ry=\"2\" style=\"stroke: #383838; stroke-width: 1.0;\"/><ellipse cx=\"207.1007\" cy=\"42.4993\" fill=\"#383838\" rx=\"2\" ry=\"2\" style=\"stroke: #383838; stroke-width: 1.0;\"/></a><!--MD5=[722ff4eef345aa10242dad44df0e98c7]\n",
       "reverse link E4 to E7--><a href=\"psysml:8957256b-d423-4c87-844e-8026b3f5c553\" target=\"_top\" title=\"psysml:8957256b-d423-4c87-844e-8026b3f5c553\" xlink:actuate=\"onRequest\" xlink:href=\"psysml:8957256b-d423-4c87-844e-8026b3f5c553\" xlink:show=\"new\" xlink:title=\"psysml:8957256b-d423-4c87-844e-8026b3f5c553\" xlink:type=\"simple\"><path d=\"M534.18,161.56 C554.99,166.3 577.08,171.33 595.77,175.58 \" fill=\"none\" id=\"E4&lt;-E7\" style=\"stroke: #383838; stroke-width: 1.0;\"/><polygon fill=\"#383838\" points=\"521.44,158.65,526.4033,163.8812,533.1411,161.3117,528.1778,156.0805,521.44,158.65\" style=\"stroke: #383838; stroke-width: 1.0;\"/><text fill=\"#000000\" font-family=\"sans-serif\" font-size=\"13\" lengthAdjust=\"spacingAndGlyphs\" textLength=\"7\" x=\"581.0785\" y=\"187.2147\">*</text></a><!--MD5=[c6fc7cdb0cabde04948078cf183fa696]\n",
       "reverse link E4 to E8--><a href=\"psysml:e7993699-2e90-4c6e-9ce7-c90f60868f83\" target=\"_top\" title=\"psysml:e7993699-2e90-4c6e-9ce7-c90f60868f83\" xlink:actuate=\"onRequest\" xlink:href=\"psysml:e7993699-2e90-4c6e-9ce7-c90f60868f83\" xlink:show=\"new\" xlink:title=\"psysml:e7993699-2e90-4c6e-9ce7-c90f60868f83\" xlink:type=\"simple\"><path d=\"M536.34,123.8 C551.51,119.5 567.27,115.03 581.82,110.91 \" fill=\"none\" id=\"E4&lt;-E8\" style=\"stroke: #383838; stroke-width: 1.0;\"/><ellipse cx=\"529.1373\" cy=\"125.8404\" fill=\"#FFFFFF\" rx=\"8\" ry=\"8\" style=\"stroke: #383838; stroke-width: 1.0;\"/><line style=\"stroke: #383838; stroke-width: 1.0;\" x1=\"536.8347\" x2=\"521.44\" y1=\"123.6607\" y2=\"128.02\"/><line style=\"stroke: #383838; stroke-width: 1.0;\" x1=\"531.317\" x2=\"526.9577\" y1=\"133.5377\" y2=\"118.143\"/></a><!--MD5=[062ed86c389d1a88f61c6380d0491e17]\n",
       "reverse link E12 to E13--><a href=\"psysml:0f26ba0d-7372-4c44-875c-adf3c35e17b9\" target=\"_top\" title=\"psysml:0f26ba0d-7372-4c44-875c-adf3c35e17b9\" xlink:actuate=\"onRequest\" xlink:href=\"psysml:0f26ba0d-7372-4c44-875c-adf3c35e17b9\" xlink:show=\"new\" xlink:title=\"psysml:0f26ba0d-7372-4c44-875c-adf3c35e17b9\" xlink:type=\"simple\"><path d=\"M102.35,115.66 C105.73,111.85 109.03,107.9 112,104 C127.69,83.38 119.45,66.77 142,54 C164.82,41.08 178.18,41.08 201,54 C223.55,66.77 213.79,84.63 231,104 C236.64,110.35 243.37,116.41 250.12,121.83 \" fill=\"none\" id=\"E12&lt;-E13\" style=\"stroke: #383838; stroke-width: 1.0;\"/><polygon fill=\"#383838\" points=\"93.37,125.35,100.382,123.6674,101.5258,116.5476,94.5137,118.2302,93.37,125.35\" style=\"stroke: #383838; stroke-width: 1.0;\"/></a><!--MD5=[e2a9ac97dcd3257bb5342dae06547bad]\n",
       "link E12 to E13--><a href=\"psysml:f5a4eec3-f375-4f03-819b-6c5c8dc7728c\" target=\"_top\" title=\"psysml:f5a4eec3-f375-4f03-819b-6c5c8dc7728c\" xlink:actuate=\"onRequest\" xlink:href=\"psysml:f5a4eec3-f375-4f03-819b-6c5c8dc7728c\" xlink:show=\"new\" xlink:title=\"psysml:f5a4eec3-f375-4f03-819b-6c5c8dc7728c\" xlink:type=\"simple\"><path d=\"M93.2,131.96 C106.48,124.19 124.57,115.06 142,111 C167.54,105.05 175.27,105.93 201,111 C211.86,113.14 223.1,116.71 233.66,120.76 \" fill=\"none\" id=\"E12-&gt;E13\" style=\"stroke: #383838; stroke-width: 1.0; stroke-dasharray: 7.0,7.0;\"/><polygon fill=\"#383838\" points=\"238.46,122.65,231.5445,115.6374,233.8059,120.8226,228.6207,123.084,238.46,122.65\" style=\"stroke: #383838; stroke-width: 1.0;\"/><text fill=\"#000000\" font-family=\"sans-serif\" font-size=\"13\" lengthAdjust=\"spacingAndGlyphs\" textLength=\"57\" x=\"143\" y=\"103.0669\">«satisfy»</text></a><!--MD5=[017847e01ff9a8bd19f247411074f987]\n",
       "link E13 to E4--><a href=\"psysml:e01bb7f1-206a-408f-a898-0799ec242df4\" target=\"_top\" title=\"psysml:e01bb7f1-206a-408f-a898-0799ec242df4\" xlink:actuate=\"onRequest\" xlink:href=\"psysml:e01bb7f1-206a-408f-a898-0799ec242df4\" xlink:show=\"new\" xlink:title=\"psysml:e01bb7f1-206a-408f-a898-0799ec242df4\" xlink:type=\"simple\"><path d=\"M331.59,145 C346.35,145 363.19,145 379.69,145 \" fill=\"none\" id=\"E13-&gt;E4\" style=\"stroke: #383838; stroke-width: 1.0;\"/><polygon fill=\"#FFFFFF\" points=\"399.85,145,380.85,152,380.85,138,399.85,145\" style=\"stroke: #383838; stroke-width: 1.0;\"/><ellipse cx=\"375.15\" cy=\"150\" fill=\"#383838\" rx=\"2\" ry=\"2\" style=\"stroke: #383838; stroke-width: 1.0;\"/><ellipse cx=\"375.15\" cy=\"140\" fill=\"#383838\" rx=\"2\" ry=\"2\" style=\"stroke: #383838; stroke-width: 1.0;\"/></a><!--MD5=[60f911bb19596b289db4a22769f8105a]\n",
       "link E11 to E13--><a href=\"psysml:e806deaf-0ce2-4d10-9e57-833502fc32ee\" target=\"_top\" title=\"psysml:e806deaf-0ce2-4d10-9e57-833502fc32ee\" xlink:actuate=\"onRequest\" xlink:href=\"psysml:e806deaf-0ce2-4d10-9e57-833502fc32ee\" xlink:show=\"new\" xlink:title=\"psysml:e806deaf-0ce2-4d10-9e57-833502fc32ee\" xlink:type=\"simple\"><path d=\"M93.3,228.7 C118.84,220.54 163.85,205.42 201,189 C213.38,183.53 226.45,176.98 238.47,170.63 \" fill=\"none\" id=\"E11-&gt;E13\" style=\"stroke: #383838; stroke-width: 1.0; stroke-dasharray: 7.0,7.0;\"/><polygon fill=\"#383838\" points=\"243.2,168.11,233.3768,168.8208,238.7894,170.4652,237.1451,175.8778,243.2,168.11\" style=\"stroke: #383838; stroke-width: 1.0;\"/><text fill=\"#000000\" font-family=\"sans-serif\" font-size=\"13\" lengthAdjust=\"spacingAndGlyphs\" textLength=\"57\" x=\"143\" y=\"185.0669\">«satisfy»</text></a><!--MD5=[0c677eb374079406c87b74cd1f5a339d]\n",
       "link E14 to E9--><a href=\"psysml:d6ece11e-fb98-4dd6-9106-0f6846b0bd9f\" target=\"_top\" title=\"psysml:d6ece11e-fb98-4dd6-9106-0f6846b0bd9f\" xlink:actuate=\"onRequest\" xlink:href=\"psysml:d6ece11e-fb98-4dd6-9106-0f6846b0bd9f\" xlink:show=\"new\" xlink:title=\"psysml:d6ece11e-fb98-4dd6-9106-0f6846b0bd9f\" xlink:type=\"simple\"><path d=\"M331.59,240 C346.35,240 363.19,240 379.69,240 \" fill=\"none\" id=\"E14-&gt;E9\" style=\"stroke: #383838; stroke-width: 1.0;\"/><polygon fill=\"#FFFFFF\" points=\"399.85,240,380.85,247,380.85,233,399.85,240\" style=\"stroke: #383838; stroke-width: 1.0;\"/><ellipse cx=\"375.15\" cy=\"245\" fill=\"#383838\" rx=\"2\" ry=\"2\" style=\"stroke: #383838; stroke-width: 1.0;\"/><ellipse cx=\"375.15\" cy=\"235\" fill=\"#383838\" rx=\"2\" ry=\"2\" style=\"stroke: #383838; stroke-width: 1.0;\"/></a><!--MD5=[9c1c40551dcf5c2fca147626a786a7cd]\n",
       "link E11 to E14--><a href=\"psysml:feaea2f2-720b-4dbc-ba1d-0aec40f00046\" target=\"_top\" title=\"psysml:feaea2f2-720b-4dbc-ba1d-0aec40f00046\" xlink:actuate=\"onRequest\" xlink:href=\"psysml:feaea2f2-720b-4dbc-ba1d-0aec40f00046\" xlink:show=\"new\" xlink:title=\"psysml:feaea2f2-720b-4dbc-ba1d-0aec40f00046\" xlink:type=\"simple\"><path d=\"M93.13,239.07 C106.84,241.63 125.43,244.69 142,246 C172.09,248.38 205.86,247.12 232.91,245.15 \" fill=\"none\" id=\"E11-&gt;E14\" style=\"stroke: #383838; stroke-width: 1.0; stroke-dasharray: 7.0,7.0;\"/><polygon fill=\"#383838\" points=\"238.22,244.75,228.9477,241.4297,233.2338,245.1215,229.542,249.4076,238.22,244.75\" style=\"stroke: #383838; stroke-width: 1.0;\"/><text fill=\"#000000\" font-family=\"sans-serif\" font-size=\"13\" lengthAdjust=\"spacingAndGlyphs\" textLength=\"57\" x=\"143\" y=\"242.0669\">«satisfy»</text></a><!--MD5=[d53cb08dffc8689d16e38c8e194e9adc]\n",
       "link E12 to E14--><a href=\"psysml:f5704f7b-2601-4abd-90b0-2ec51a978e80\" target=\"_top\" title=\"psysml:f5704f7b-2601-4abd-90b0-2ec51a978e80\" xlink:actuate=\"onRequest\" xlink:href=\"psysml:f5704f7b-2601-4abd-90b0-2ec51a978e80\" xlink:show=\"new\" xlink:title=\"psysml:f5704f7b-2601-4abd-90b0-2ec51a978e80\" xlink:type=\"simple\"><path d=\"M93.08,145.35 C119.16,146.51 165.56,151.05 201,168 C223.53,178.78 244.72,197.36 260.05,212.94 \" fill=\"none\" id=\"E12-&gt;E14\" style=\"stroke: #383838; stroke-width: 1.0; stroke-dasharray: 7.0,7.0;\"/><polygon fill=\"#383838\" points=\"263.82,216.84,260.4522,207.5849,260.3493,213.2408,254.6934,213.1379,263.82,216.84\" style=\"stroke: #383838; stroke-width: 1.0;\"/><text fill=\"#000000\" font-family=\"sans-serif\" font-size=\"13\" lengthAdjust=\"spacingAndGlyphs\" textLength=\"57\" x=\"143\" y=\"147.0669\">«satisfy»</text></a><!--MD5=[553e8f41c87c950e3e71d5a3ea2469c0]\n",
       "@startuml\r\n",
       "left to right direction\r\n",
       "skinparam monochrome true\r\n",
       "skinparam classbackgroundcolor white\r\n",
       "skinparam shadowing false\r\n",
       "skinparam wrapWidth 300\r\n",
       "hide circle\r\n",
       "\r\n",
       "package \"RequirementTest\" as E1  [[psysml:2a075407-fc8d-47b4-b4de-e1839d24b848 ]]  {\r\n",
       "comp def \"C\" as E2  <<(T,blue) constraint  def>> [[psysml:8e8b9929-fb62-44f3-bb6e-73f88688eaf1 ]] {\r\n",
       "}\r\n",
       "comp usage \"c: C \" as E3  <<(T,blue) constraint>> [[psysml:8dab2afb-478b-48f2-a7f7-bb2b245c05ea ]] {\r\n",
       "}\r\n",
       "comp def \"R\" as E4  <<(T,blue) requirement  def>> [[psysml:cae76f8a-948f-454f-8648-301efab5060e ]] {\r\n",
       "\r\n",
       "- -\r\n",
       "}\r\n",
       "comp usage \"<s>noname</s>\" as E7  <<(T,blue) requirement>> [[psysml:70e6cc11-a878-4419-9a48-d32cb5df9816 ]] {\r\n",
       "}\r\n",
       "comp def \" [<b>1</b>] A\" as E8  <<(T,blue) requirement  def>> [[psysml:5c5c4776-1d3a-4700-8516-1d3a67d779f4 ]] {\r\n",
       "Text\r\n",
       "- -\r\n",
       "}\r\n",
       "comp def \"R1\" as E9  <<(T,blue) requirement  def>> [[psysml:f2fc2205-4b84-4313-b340-24ee025c15cf ]] {\r\n",
       "}\r\n",
       "comp usage \"p\" as E11  <<(T,blue) part>> [[psysml:4203d305-f881-4dfa-bcc5-a82b5aac35c4 ]] {\r\n",
       "}\r\n",
       "comp usage \"q\" as E12  <<(T,blue) part>> [[psysml:d0dbee69-5f2e-4ac4-ba4b-4aca7380bae7 ]] {\r\n",
       "}\r\n",
       "comp usage \"r: R \" as E13  <<(T,blue) requirement>> [[psysml:aee31540-9ea4-41ee-8ebb-8555bfaf03fb ]] {\r\n",
       "}\r\n",
       "comp usage \"r1: R1 \" as E14  <<(T,blue) requirement>> [[psysml:5c4fb90e-2e7f-411e-8437-1e0e9b0bd00e ]] {\r\n",
       "}\r\n",
       "}\r\n",
       "E3 - -:|> E2 [[psysml:1cfa9d08-8b1e-49ae-8f22-7ec5c2d68c94 ]] \r\n",
       "E4 *- - \"*\"E7 [[psysml:8957256b-d423-4c87-844e-8026b3f5c553 ]] \r\n",
       "E4 +- - E8 [[psysml:e7993699-2e90-4c6e-9ce7-c90f60868f83 ]] \r\n",
       "E12 *- - E13 [[psysml:0f26ba0d-7372-4c44-875c-adf3c35e17b9 ]] \r\n",
       "E13 - -:|> E4 [[psysml:e01bb7f1-206a-408f-a898-0799ec242df4 ]] \r\n",
       "E11 ..> E13 [[psysml:e806deaf-0ce2-4d10-9e57-833502fc32ee ]] : <<satisfy>>\r\n",
       "E12 ..> E13 [[psysml:f5a4eec3-f375-4f03-819b-6c5c8dc7728c ]] : <<satisfy>>\r\n",
       "E14 - -:|> E9 [[psysml:d6ece11e-fb98-4dd6-9106-0f6846b0bd9f ]] \r\n",
       "E11 ..> E14 [[psysml:feaea2f2-720b-4dbc-ba1d-0aec40f00046 ]] : <<satisfy>>\r\n",
       "E12 ..> E14 [[psysml:f5704f7b-2601-4abd-90b0-2ec51a978e80 ]] : <<satisfy>>\r\n",
       "@enduml\r\n",
       "\n",
       "PlantUML version 1.2020.13(Sat Jun 13 12:26:38 UTC 2020)\n",
       "(EPL source distribution)\n",
       "Java Runtime: OpenJDK Runtime Environment\n",
       "JVM: OpenJDK 64-Bit Server VM\n",
       "Default Encoding: UTF-8\n",
       "Language: en\n",
       "Country: null\n",
       "--></g></svg>"
      ]
     },
     "execution_count": 16,
     "metadata": {},
     "output_type": "execute_result"
    }
   ],
   "source": [
    "%viz --style=\"LR\" --view=\"Default\" \"RequirementTest\""
   ]
  },
  {
   "cell_type": "code",
   "execution_count": 17,
   "id": "82768f7f",
   "metadata": {
    "execution": {
     "iopub.execute_input": "2021-10-25T08:21:12.654356Z",
     "iopub.status.busy": "2021-10-25T08:21:12.653951Z",
     "iopub.status.idle": "2021-10-25T08:21:12.717830Z",
     "shell.execute_reply": "2021-10-25T08:21:12.718145Z"
    }
   },
   "outputs": [
    {
     "data": {
      "image/svg+xml": [
       "<?xml version=\"1.0\" encoding=\"UTF-8\" standalone=\"no\"?><svg xmlns=\"http://www.w3.org/2000/svg\" xmlns:xlink=\"http://www.w3.org/1999/xlink\" contentScriptType=\"application/ecmascript\" contentStyleType=\"text/css\" height=\"306px\" preserveAspectRatio=\"none\" style=\"width:741px;height:306px;\" version=\"1.1\" viewBox=\"0 0 741 306\" width=\"741px\" zoomAndPan=\"magnify\"><defs/><g><!--MD5=[fbc87193dbaf4d95561dea2c320d4a47]\n",
       "cluster E1--><a href=\"psysml:2a075407-fc8d-47b4-b4de-e1839d24b848\" target=\"_top\" title=\"psysml:2a075407-fc8d-47b4-b4de-e1839d24b848\" xlink:actuate=\"onRequest\" xlink:href=\"psysml:2a075407-fc8d-47b4-b4de-e1839d24b848\" xlink:show=\"new\" xlink:title=\"psysml:2a075407-fc8d-47b4-b4de-e1839d24b848\" xlink:type=\"simple\"><polygon fill=\"#FFFFFF\" points=\"16,6,143,6,150,28.2969,719,28.2969,719,294,16,294,16,6\" style=\"stroke: #000000; stroke-width: 1.5;\"/><line style=\"stroke: #000000; stroke-width: 1.5;\" x1=\"16\" x2=\"150\" y1=\"28.2969\" y2=\"28.2969\"/><text fill=\"#000000\" font-family=\"sans-serif\" font-size=\"14\" font-weight=\"bold\" lengthAdjust=\"spacingAndGlyphs\" textLength=\"121\" x=\"20\" y=\"20.9951\">RequirementTest</text></a><!--MD5=[b4997ac47864f28c2f74865a473b2911]\n",
       "class E2--><a href=\"psysml:8e8b9929-fb62-44f3-bb6e-73f88688eaf1\" target=\"_top\" title=\"psysml:8e8b9929-fb62-44f3-bb6e-73f88688eaf1\" xlink:actuate=\"onRequest\" xlink:href=\"psysml:8e8b9929-fb62-44f3-bb6e-73f88688eaf1\" xlink:show=\"new\" xlink:title=\"psysml:8e8b9929-fb62-44f3-bb6e-73f88688eaf1\" xlink:type=\"simple\"><rect fill=\"#FFFFFF\" height=\"45.9375\" id=\"E2\" style=\"stroke: #383838; stroke-width: 1.5;\" width=\"108\" x=\"231\" y=\"41\"/><text fill=\"#000000\" font-family=\"sans-serif\" font-size=\"12\" font-style=\"italic\" lengthAdjust=\"spacingAndGlyphs\" textLength=\"106\" x=\"232\" y=\"57.1387\">«constraint  def»</text><text fill=\"#000000\" font-family=\"sans-serif\" font-size=\"12\" lengthAdjust=\"spacingAndGlyphs\" textLength=\"8\" x=\"281\" y=\"71.1074\">C</text><line style=\"stroke: #383838; stroke-width: 1.5;\" x1=\"232\" x2=\"338\" y1=\"78.9375\" y2=\"78.9375\"/></a><!--MD5=[09b614a08d8cba4a07c9adeb5e0fee81]\n",
       "class E3--><a href=\"psysml:8dab2afb-478b-48f2-a7f7-bb2b245c05ea\" target=\"_top\" title=\"psysml:8dab2afb-478b-48f2-a7f7-bb2b245c05ea\" xlink:actuate=\"onRequest\" xlink:href=\"psysml:8dab2afb-478b-48f2-a7f7-bb2b245c05ea\" xlink:show=\"new\" xlink:title=\"psysml:8dab2afb-478b-48f2-a7f7-bb2b245c05ea\" xlink:type=\"simple\"><rect fill=\"#FFFFFF\" height=\"45.9375\" id=\"E3\" rx=\"10\" ry=\"10\" style=\"stroke: #383838; stroke-width: 1.5;\" width=\"80\" x=\"32\" y=\"41\"/><text fill=\"#000000\" font-family=\"sans-serif\" font-size=\"12\" font-style=\"italic\" lengthAdjust=\"spacingAndGlyphs\" textLength=\"78\" x=\"33\" y=\"57.1387\">«constraint»</text><text fill=\"#000000\" font-family=\"sans-serif\" font-size=\"12\" lengthAdjust=\"spacingAndGlyphs\" textLength=\"23\" x=\"58.5\" y=\"71.1074\">c: C</text><line style=\"stroke: #383838; stroke-width: 1.5;\" x1=\"33\" x2=\"111\" y1=\"78.9375\" y2=\"78.9375\"/></a><!--MD5=[ebbe1d658d1005bcc118a6aa81145e00]\n",
       "class E4--><a href=\"psysml:cae76f8a-948f-454f-8648-301efab5060e\" target=\"_top\" title=\"psysml:cae76f8a-948f-454f-8648-301efab5060e\" xlink:actuate=\"onRequest\" xlink:href=\"psysml:cae76f8a-948f-454f-8648-301efab5060e\" xlink:show=\"new\" xlink:title=\"psysml:cae76f8a-948f-454f-8648-301efab5060e\" xlink:type=\"simple\"><rect fill=\"#FFFFFF\" height=\"66.7422\" id=\"E4\" style=\"stroke: #383838; stroke-width: 1.5;\" width=\"121\" x=\"400\" y=\"111.5\"/><text fill=\"#000000\" font-family=\"sans-serif\" font-size=\"12\" font-style=\"italic\" lengthAdjust=\"spacingAndGlyphs\" textLength=\"119\" x=\"401\" y=\"127.6387\">«requirement  def»</text><text fill=\"#000000\" font-family=\"sans-serif\" font-size=\"12\" lengthAdjust=\"spacingAndGlyphs\" textLength=\"8\" x=\"456.5\" y=\"141.6074\">R</text><line style=\"stroke: #383838; stroke-width: 1.5;\" x1=\"401\" x2=\"520\" y1=\"149.4375\" y2=\"149.4375\"/><text fill=\"#000000\" font-family=\"sans-serif\" font-size=\"11\" lengthAdjust=\"spacingAndGlyphs\" textLength=\"0\" x=\"410\" y=\"163.6479\"/><line style=\"stroke: #383838; stroke-width: 1.0;\" x1=\"401\" x2=\"520\" y1=\"170.2422\" y2=\"170.2422\"/></a><!--MD5=[2156ba9850f5573cc1fc38a6a4b2f02b]\n",
       "class E7--><a href=\"psysml:70e6cc11-a878-4419-9a48-d32cb5df9816\" target=\"_top\" title=\"psysml:70e6cc11-a878-4419-9a48-d32cb5df9816\" xlink:actuate=\"onRequest\" xlink:href=\"psysml:70e6cc11-a878-4419-9a48-d32cb5df9816\" xlink:show=\"new\" xlink:title=\"psysml:70e6cc11-a878-4419-9a48-d32cb5df9816\" xlink:type=\"simple\"><rect fill=\"#FFFFFF\" height=\"45.9375\" id=\"E7\" rx=\"10\" ry=\"10\" style=\"stroke: #383838; stroke-width: 1.5;\" width=\"93\" x=\"596\" y=\"163\"/><text fill=\"#000000\" font-family=\"sans-serif\" font-size=\"12\" font-style=\"italic\" lengthAdjust=\"spacingAndGlyphs\" textLength=\"91\" x=\"597\" y=\"179.1387\">«requirement»</text><text fill=\"#000000\" font-family=\"sans-serif\" font-size=\"12\" lengthAdjust=\"spacingAndGlyphs\" text-decoration=\"line-through\" textLength=\"51\" x=\"617\" y=\"193.1074\">noname</text><line style=\"stroke: #383838; stroke-width: 1.5;\" x1=\"597\" x2=\"688\" y1=\"200.9375\" y2=\"200.9375\"/></a><!--MD5=[b9389687b975829384b498ac4b7476b2]\n",
       "class E8--><a href=\"psysml:5c5c4776-1d3a-4700-8516-1d3a67d779f4\" target=\"_top\" title=\"psysml:5c5c4776-1d3a-4700-8516-1d3a67d779f4\" xlink:actuate=\"onRequest\" xlink:href=\"psysml:5c5c4776-1d3a-4700-8516-1d3a67d779f4\" xlink:show=\"new\" xlink:title=\"psysml:5c5c4776-1d3a-4700-8516-1d3a67d779f4\" xlink:type=\"simple\"><rect fill=\"#FFFFFF\" height=\"66.7422\" id=\"E8\" style=\"stroke: #383838; stroke-width: 1.5;\" width=\"121\" x=\"582\" y=\"60.5\"/><text fill=\"#000000\" font-family=\"sans-serif\" font-size=\"12\" font-style=\"italic\" lengthAdjust=\"spacingAndGlyphs\" textLength=\"119\" x=\"583\" y=\"76.6387\">«requirement  def»</text><text fill=\"#000000\" font-family=\"sans-serif\" font-size=\"12\" lengthAdjust=\"spacingAndGlyphs\" textLength=\"5\" x=\"629.5\" y=\"90.6074\">[</text><text fill=\"#000000\" font-family=\"sans-serif\" font-size=\"12\" font-weight=\"bold\" lengthAdjust=\"spacingAndGlyphs\" textLength=\"8\" x=\"634.5\" y=\"90.6074\">1</text><text fill=\"#000000\" font-family=\"sans-serif\" font-size=\"12\" lengthAdjust=\"spacingAndGlyphs\" textLength=\"17\" x=\"642.5\" y=\"90.6074\">] A</text><line style=\"stroke: #383838; stroke-width: 1.5;\" x1=\"583\" x2=\"702\" y1=\"98.4375\" y2=\"98.4375\"/><text fill=\"#000000\" font-family=\"sans-serif\" font-size=\"11\" lengthAdjust=\"spacingAndGlyphs\" textLength=\"24\" x=\"588\" y=\"112.6479\">Text</text><line style=\"stroke: #383838; stroke-width: 1.0;\" x1=\"583\" x2=\"702\" y1=\"119.2422\" y2=\"119.2422\"/></a><!--MD5=[fd4143e9d270a159db93a4ea2a975926]\n",
       "class E9--><a href=\"psysml:f2fc2205-4b84-4313-b340-24ee025c15cf\" target=\"_top\" title=\"psysml:f2fc2205-4b84-4313-b340-24ee025c15cf\" xlink:actuate=\"onRequest\" xlink:href=\"psysml:f2fc2205-4b84-4313-b340-24ee025c15cf\" xlink:show=\"new\" xlink:title=\"psysml:f2fc2205-4b84-4313-b340-24ee025c15cf\" xlink:type=\"simple\"><rect fill=\"#FFFFFF\" height=\"45.9375\" id=\"E9\" style=\"stroke: #383838; stroke-width: 1.5;\" width=\"121\" x=\"400\" y=\"217\"/><text fill=\"#000000\" font-family=\"sans-serif\" font-size=\"12\" font-style=\"italic\" lengthAdjust=\"spacingAndGlyphs\" textLength=\"119\" x=\"401\" y=\"233.1387\">«requirement  def»</text><text fill=\"#000000\" font-family=\"sans-serif\" font-size=\"12\" lengthAdjust=\"spacingAndGlyphs\" textLength=\"16\" x=\"452.5\" y=\"247.1074\">R1</text><line style=\"stroke: #383838; stroke-width: 1.5;\" x1=\"401\" x2=\"520\" y1=\"254.9375\" y2=\"254.9375\"/></a><!--MD5=[1dd1bfd58a279cf63c5f349dbc8fc6a1]\n",
       "class E11--><a href=\"psysml:4203d305-f881-4dfa-bcc5-a82b5aac35c4\" target=\"_top\" title=\"psysml:4203d305-f881-4dfa-bcc5-a82b5aac35c4\" xlink:actuate=\"onRequest\" xlink:href=\"psysml:4203d305-f881-4dfa-bcc5-a82b5aac35c4\" xlink:show=\"new\" xlink:title=\"psysml:4203d305-f881-4dfa-bcc5-a82b5aac35c4\" xlink:type=\"simple\"><rect fill=\"#FFFFFF\" height=\"45.9375\" id=\"E11\" rx=\"10\" ry=\"10\" style=\"stroke: #383838; stroke-width: 1.5;\" width=\"42\" x=\"51\" y=\"212\"/><text fill=\"#000000\" font-family=\"sans-serif\" font-size=\"12\" font-style=\"italic\" lengthAdjust=\"spacingAndGlyphs\" textLength=\"40\" x=\"52\" y=\"228.1387\">«part»</text><text fill=\"#000000\" font-family=\"sans-serif\" font-size=\"12\" lengthAdjust=\"spacingAndGlyphs\" textLength=\"8\" x=\"68\" y=\"242.1074\">p</text><line style=\"stroke: #383838; stroke-width: 1.5;\" x1=\"52\" x2=\"92\" y1=\"249.9375\" y2=\"249.9375\"/></a><!--MD5=[49a0ec8f00dab7302a31f22d0f0fe584]\n",
       "class E12--><a href=\"psysml:d0dbee69-5f2e-4ac4-ba4b-4aca7380bae7\" target=\"_top\" title=\"psysml:d0dbee69-5f2e-4ac4-ba4b-4aca7380bae7\" xlink:actuate=\"onRequest\" xlink:href=\"psysml:d0dbee69-5f2e-4ac4-ba4b-4aca7380bae7\" xlink:show=\"new\" xlink:title=\"psysml:d0dbee69-5f2e-4ac4-ba4b-4aca7380bae7\" xlink:type=\"simple\"><rect fill=\"#FFFFFF\" height=\"45.9375\" id=\"E12\" rx=\"10\" ry=\"10\" style=\"stroke: #383838; stroke-width: 1.5;\" width=\"42\" x=\"51\" y=\"122\"/><text fill=\"#000000\" font-family=\"sans-serif\" font-size=\"12\" font-style=\"italic\" lengthAdjust=\"spacingAndGlyphs\" textLength=\"40\" x=\"52\" y=\"138.1387\">«part»</text><text fill=\"#000000\" font-family=\"sans-serif\" font-size=\"12\" lengthAdjust=\"spacingAndGlyphs\" textLength=\"8\" x=\"68\" y=\"152.1074\">q</text><line style=\"stroke: #383838; stroke-width: 1.5;\" x1=\"52\" x2=\"92\" y1=\"159.9375\" y2=\"159.9375\"/></a><!--MD5=[ee3c913d1a06f366521f9ef512b67efe]\n",
       "class E13--><a href=\"psysml:aee31540-9ea4-41ee-8ebb-8555bfaf03fb\" target=\"_top\" title=\"psysml:aee31540-9ea4-41ee-8ebb-8555bfaf03fb\" xlink:actuate=\"onRequest\" xlink:href=\"psysml:aee31540-9ea4-41ee-8ebb-8555bfaf03fb\" xlink:show=\"new\" xlink:title=\"psysml:aee31540-9ea4-41ee-8ebb-8555bfaf03fb\" xlink:type=\"simple\"><rect fill=\"#FFFFFF\" height=\"45.9375\" id=\"E13\" rx=\"10\" ry=\"10\" style=\"stroke: #383838; stroke-width: 1.5;\" width=\"93\" x=\"238.5\" y=\"122\"/><text fill=\"#000000\" font-family=\"sans-serif\" font-size=\"12\" font-style=\"italic\" lengthAdjust=\"spacingAndGlyphs\" textLength=\"91\" x=\"239.5\" y=\"138.1387\">«requirement»</text><text fill=\"#000000\" font-family=\"sans-serif\" font-size=\"12\" lengthAdjust=\"spacingAndGlyphs\" textLength=\"21\" x=\"272.5\" y=\"152.1074\">r: R</text><line style=\"stroke: #383838; stroke-width: 1.5;\" x1=\"239.5\" x2=\"330.5\" y1=\"159.9375\" y2=\"159.9375\"/></a><!--MD5=[bee11217b2f71d958a27249dc326068c]\n",
       "class E14--><a href=\"psysml:5c4fb90e-2e7f-411e-8437-1e0e9b0bd00e\" target=\"_top\" title=\"psysml:5c4fb90e-2e7f-411e-8437-1e0e9b0bd00e\" xlink:actuate=\"onRequest\" xlink:href=\"psysml:5c4fb90e-2e7f-411e-8437-1e0e9b0bd00e\" xlink:show=\"new\" xlink:title=\"psysml:5c4fb90e-2e7f-411e-8437-1e0e9b0bd00e\" xlink:type=\"simple\"><rect fill=\"#FFFFFF\" height=\"45.9375\" id=\"E14\" rx=\"10\" ry=\"10\" style=\"stroke: #383838; stroke-width: 1.5;\" width=\"93\" x=\"238.5\" y=\"217\"/><text fill=\"#000000\" font-family=\"sans-serif\" font-size=\"12\" font-style=\"italic\" lengthAdjust=\"spacingAndGlyphs\" textLength=\"91\" x=\"239.5\" y=\"233.1387\">«requirement»</text><text fill=\"#000000\" font-family=\"sans-serif\" font-size=\"12\" lengthAdjust=\"spacingAndGlyphs\" textLength=\"37\" x=\"264.5\" y=\"247.1074\">r1: R1</text><line style=\"stroke: #383838; stroke-width: 1.5;\" x1=\"239.5\" x2=\"330.5\" y1=\"254.9375\" y2=\"254.9375\"/></a><!--MD5=[05d275557350bfb9b23a4ef7222b4c39]\n",
       "link E3 to E2--><a href=\"psysml:1cfa9d08-8b1e-49ae-8f22-7ec5c2d68c94\" target=\"_top\" title=\"psysml:1cfa9d08-8b1e-49ae-8f22-7ec5c2d68c94\" xlink:actuate=\"onRequest\" xlink:href=\"psysml:1cfa9d08-8b1e-49ae-8f22-7ec5c2d68c94\" xlink:show=\"new\" xlink:title=\"psysml:1cfa9d08-8b1e-49ae-8f22-7ec5c2d68c94\" xlink:type=\"simple\"><path d=\"M112.1,52.63 C121.79,50.3 132.2,48.19 142,47 C168.03,43.84 174.91,44.36 201,47 C204.17,47.32 207.4,47.71 210.65,48.15 \" fill=\"none\" id=\"E3-&gt;E2\" style=\"stroke: #383838; stroke-width: 1.0;\"/><polygon fill=\"#FFFFFF\" points=\"230.67,51.42,210.7894,55.2619,213.0488,41.4454,230.67,51.42\" style=\"stroke: #383838; stroke-width: 1.0;\"/><ellipse cx=\"205.4869\" cy=\"52.3682\" fill=\"#383838\" rx=\"2\" ry=\"2\" style=\"stroke: #383838; stroke-width: 1.0;\"/><ellipse cx=\"207.1007\" cy=\"42.4993\" fill=\"#383838\" rx=\"2\" ry=\"2\" style=\"stroke: #383838; stroke-width: 1.0;\"/></a><!--MD5=[722ff4eef345aa10242dad44df0e98c7]\n",
       "reverse link E4 to E7--><a href=\"psysml:8957256b-d423-4c87-844e-8026b3f5c553\" target=\"_top\" title=\"psysml:8957256b-d423-4c87-844e-8026b3f5c553\" xlink:actuate=\"onRequest\" xlink:href=\"psysml:8957256b-d423-4c87-844e-8026b3f5c553\" xlink:show=\"new\" xlink:title=\"psysml:8957256b-d423-4c87-844e-8026b3f5c553\" xlink:type=\"simple\"><path d=\"M534.18,161.56 C554.99,166.3 577.08,171.33 595.77,175.58 \" fill=\"none\" id=\"E4&lt;-E7\" style=\"stroke: #383838; stroke-width: 1.0;\"/><polygon fill=\"#383838\" points=\"521.44,158.65,526.4033,163.8812,533.1411,161.3117,528.1778,156.0805,521.44,158.65\" style=\"stroke: #383838; stroke-width: 1.0;\"/><text fill=\"#000000\" font-family=\"sans-serif\" font-size=\"13\" lengthAdjust=\"spacingAndGlyphs\" textLength=\"7\" x=\"581.0785\" y=\"187.2147\">*</text></a><!--MD5=[c6fc7cdb0cabde04948078cf183fa696]\n",
       "reverse link E4 to E8--><a href=\"psysml:e7993699-2e90-4c6e-9ce7-c90f60868f83\" target=\"_top\" title=\"psysml:e7993699-2e90-4c6e-9ce7-c90f60868f83\" xlink:actuate=\"onRequest\" xlink:href=\"psysml:e7993699-2e90-4c6e-9ce7-c90f60868f83\" xlink:show=\"new\" xlink:title=\"psysml:e7993699-2e90-4c6e-9ce7-c90f60868f83\" xlink:type=\"simple\"><path d=\"M536.34,123.8 C551.51,119.5 567.27,115.03 581.82,110.91 \" fill=\"none\" id=\"E4&lt;-E8\" style=\"stroke: #383838; stroke-width: 1.0;\"/><ellipse cx=\"529.1373\" cy=\"125.8404\" fill=\"#FFFFFF\" rx=\"8\" ry=\"8\" style=\"stroke: #383838; stroke-width: 1.0;\"/><line style=\"stroke: #383838; stroke-width: 1.0;\" x1=\"536.8347\" x2=\"521.44\" y1=\"123.6607\" y2=\"128.02\"/><line style=\"stroke: #383838; stroke-width: 1.0;\" x1=\"531.317\" x2=\"526.9577\" y1=\"133.5377\" y2=\"118.143\"/></a><!--MD5=[062ed86c389d1a88f61c6380d0491e17]\n",
       "reverse link E12 to E13--><a href=\"psysml:0f26ba0d-7372-4c44-875c-adf3c35e17b9\" target=\"_top\" title=\"psysml:0f26ba0d-7372-4c44-875c-adf3c35e17b9\" xlink:actuate=\"onRequest\" xlink:href=\"psysml:0f26ba0d-7372-4c44-875c-adf3c35e17b9\" xlink:show=\"new\" xlink:title=\"psysml:0f26ba0d-7372-4c44-875c-adf3c35e17b9\" xlink:type=\"simple\"><path d=\"M102.35,115.66 C105.73,111.85 109.03,107.9 112,104 C127.69,83.38 119.45,66.77 142,54 C164.82,41.08 178.18,41.08 201,54 C223.55,66.77 213.79,84.63 231,104 C236.64,110.35 243.37,116.41 250.12,121.83 \" fill=\"none\" id=\"E12&lt;-E13\" style=\"stroke: #383838; stroke-width: 1.0;\"/><polygon fill=\"#383838\" points=\"93.37,125.35,100.382,123.6674,101.5258,116.5476,94.5137,118.2302,93.37,125.35\" style=\"stroke: #383838; stroke-width: 1.0;\"/></a><!--MD5=[e2a9ac97dcd3257bb5342dae06547bad]\n",
       "link E12 to E13--><a href=\"psysml:f5a4eec3-f375-4f03-819b-6c5c8dc7728c\" target=\"_top\" title=\"psysml:f5a4eec3-f375-4f03-819b-6c5c8dc7728c\" xlink:actuate=\"onRequest\" xlink:href=\"psysml:f5a4eec3-f375-4f03-819b-6c5c8dc7728c\" xlink:show=\"new\" xlink:title=\"psysml:f5a4eec3-f375-4f03-819b-6c5c8dc7728c\" xlink:type=\"simple\"><path d=\"M93.2,131.96 C106.48,124.19 124.57,115.06 142,111 C167.54,105.05 175.27,105.93 201,111 C211.86,113.14 223.1,116.71 233.66,120.76 \" fill=\"none\" id=\"E12-&gt;E13\" style=\"stroke: #383838; stroke-width: 1.0; stroke-dasharray: 7.0,7.0;\"/><polygon fill=\"#383838\" points=\"238.46,122.65,231.5445,115.6374,233.8059,120.8226,228.6207,123.084,238.46,122.65\" style=\"stroke: #383838; stroke-width: 1.0;\"/><text fill=\"#000000\" font-family=\"sans-serif\" font-size=\"13\" lengthAdjust=\"spacingAndGlyphs\" textLength=\"57\" x=\"143\" y=\"103.0669\">«satisfy»</text></a><!--MD5=[017847e01ff9a8bd19f247411074f987]\n",
       "link E13 to E4--><a href=\"psysml:e01bb7f1-206a-408f-a898-0799ec242df4\" target=\"_top\" title=\"psysml:e01bb7f1-206a-408f-a898-0799ec242df4\" xlink:actuate=\"onRequest\" xlink:href=\"psysml:e01bb7f1-206a-408f-a898-0799ec242df4\" xlink:show=\"new\" xlink:title=\"psysml:e01bb7f1-206a-408f-a898-0799ec242df4\" xlink:type=\"simple\"><path d=\"M331.59,145 C346.35,145 363.19,145 379.69,145 \" fill=\"none\" id=\"E13-&gt;E4\" style=\"stroke: #383838; stroke-width: 1.0;\"/><polygon fill=\"#FFFFFF\" points=\"399.85,145,380.85,152,380.85,138,399.85,145\" style=\"stroke: #383838; stroke-width: 1.0;\"/><ellipse cx=\"375.15\" cy=\"150\" fill=\"#383838\" rx=\"2\" ry=\"2\" style=\"stroke: #383838; stroke-width: 1.0;\"/><ellipse cx=\"375.15\" cy=\"140\" fill=\"#383838\" rx=\"2\" ry=\"2\" style=\"stroke: #383838; stroke-width: 1.0;\"/></a><!--MD5=[60f911bb19596b289db4a22769f8105a]\n",
       "link E11 to E13--><a href=\"psysml:e806deaf-0ce2-4d10-9e57-833502fc32ee\" target=\"_top\" title=\"psysml:e806deaf-0ce2-4d10-9e57-833502fc32ee\" xlink:actuate=\"onRequest\" xlink:href=\"psysml:e806deaf-0ce2-4d10-9e57-833502fc32ee\" xlink:show=\"new\" xlink:title=\"psysml:e806deaf-0ce2-4d10-9e57-833502fc32ee\" xlink:type=\"simple\"><path d=\"M93.3,228.7 C118.84,220.54 163.85,205.42 201,189 C213.38,183.53 226.45,176.98 238.47,170.63 \" fill=\"none\" id=\"E11-&gt;E13\" style=\"stroke: #383838; stroke-width: 1.0; stroke-dasharray: 7.0,7.0;\"/><polygon fill=\"#383838\" points=\"243.2,168.11,233.3768,168.8208,238.7894,170.4652,237.1451,175.8778,243.2,168.11\" style=\"stroke: #383838; stroke-width: 1.0;\"/><text fill=\"#000000\" font-family=\"sans-serif\" font-size=\"13\" lengthAdjust=\"spacingAndGlyphs\" textLength=\"57\" x=\"143\" y=\"185.0669\">«satisfy»</text></a><!--MD5=[0c677eb374079406c87b74cd1f5a339d]\n",
       "link E14 to E9--><a href=\"psysml:d6ece11e-fb98-4dd6-9106-0f6846b0bd9f\" target=\"_top\" title=\"psysml:d6ece11e-fb98-4dd6-9106-0f6846b0bd9f\" xlink:actuate=\"onRequest\" xlink:href=\"psysml:d6ece11e-fb98-4dd6-9106-0f6846b0bd9f\" xlink:show=\"new\" xlink:title=\"psysml:d6ece11e-fb98-4dd6-9106-0f6846b0bd9f\" xlink:type=\"simple\"><path d=\"M331.59,240 C346.35,240 363.19,240 379.69,240 \" fill=\"none\" id=\"E14-&gt;E9\" style=\"stroke: #383838; stroke-width: 1.0;\"/><polygon fill=\"#FFFFFF\" points=\"399.85,240,380.85,247,380.85,233,399.85,240\" style=\"stroke: #383838; stroke-width: 1.0;\"/><ellipse cx=\"375.15\" cy=\"245\" fill=\"#383838\" rx=\"2\" ry=\"2\" style=\"stroke: #383838; stroke-width: 1.0;\"/><ellipse cx=\"375.15\" cy=\"235\" fill=\"#383838\" rx=\"2\" ry=\"2\" style=\"stroke: #383838; stroke-width: 1.0;\"/></a><!--MD5=[9c1c40551dcf5c2fca147626a786a7cd]\n",
       "link E11 to E14--><a href=\"psysml:feaea2f2-720b-4dbc-ba1d-0aec40f00046\" target=\"_top\" title=\"psysml:feaea2f2-720b-4dbc-ba1d-0aec40f00046\" xlink:actuate=\"onRequest\" xlink:href=\"psysml:feaea2f2-720b-4dbc-ba1d-0aec40f00046\" xlink:show=\"new\" xlink:title=\"psysml:feaea2f2-720b-4dbc-ba1d-0aec40f00046\" xlink:type=\"simple\"><path d=\"M93.13,239.07 C106.84,241.63 125.43,244.69 142,246 C172.09,248.38 205.86,247.12 232.91,245.15 \" fill=\"none\" id=\"E11-&gt;E14\" style=\"stroke: #383838; stroke-width: 1.0; stroke-dasharray: 7.0,7.0;\"/><polygon fill=\"#383838\" points=\"238.22,244.75,228.9477,241.4297,233.2338,245.1215,229.542,249.4076,238.22,244.75\" style=\"stroke: #383838; stroke-width: 1.0;\"/><text fill=\"#000000\" font-family=\"sans-serif\" font-size=\"13\" lengthAdjust=\"spacingAndGlyphs\" textLength=\"57\" x=\"143\" y=\"242.0669\">«satisfy»</text></a><!--MD5=[d53cb08dffc8689d16e38c8e194e9adc]\n",
       "link E12 to E14--><a href=\"psysml:f5704f7b-2601-4abd-90b0-2ec51a978e80\" target=\"_top\" title=\"psysml:f5704f7b-2601-4abd-90b0-2ec51a978e80\" xlink:actuate=\"onRequest\" xlink:href=\"psysml:f5704f7b-2601-4abd-90b0-2ec51a978e80\" xlink:show=\"new\" xlink:title=\"psysml:f5704f7b-2601-4abd-90b0-2ec51a978e80\" xlink:type=\"simple\"><path d=\"M93.08,145.35 C119.16,146.51 165.56,151.05 201,168 C223.53,178.78 244.72,197.36 260.05,212.94 \" fill=\"none\" id=\"E12-&gt;E14\" style=\"stroke: #383838; stroke-width: 1.0; stroke-dasharray: 7.0,7.0;\"/><polygon fill=\"#383838\" points=\"263.82,216.84,260.4522,207.5849,260.3493,213.2408,254.6934,213.1379,263.82,216.84\" style=\"stroke: #383838; stroke-width: 1.0;\"/><text fill=\"#000000\" font-family=\"sans-serif\" font-size=\"13\" lengthAdjust=\"spacingAndGlyphs\" textLength=\"57\" x=\"143\" y=\"147.0669\">«satisfy»</text></a><!--MD5=[553e8f41c87c950e3e71d5a3ea2469c0]\n",
       "@startuml\r\n",
       "left to right direction\r\n",
       "skinparam monochrome true\r\n",
       "skinparam classbackgroundcolor white\r\n",
       "skinparam shadowing false\r\n",
       "skinparam wrapWidth 300\r\n",
       "hide circle\r\n",
       "\r\n",
       "package \"RequirementTest\" as E1  [[psysml:2a075407-fc8d-47b4-b4de-e1839d24b848 ]]  {\r\n",
       "comp def \"C\" as E2  <<(T,blue) constraint  def>> [[psysml:8e8b9929-fb62-44f3-bb6e-73f88688eaf1 ]] {\r\n",
       "}\r\n",
       "comp usage \"c: C \" as E3  <<(T,blue) constraint>> [[psysml:8dab2afb-478b-48f2-a7f7-bb2b245c05ea ]] {\r\n",
       "}\r\n",
       "comp def \"R\" as E4  <<(T,blue) requirement  def>> [[psysml:cae76f8a-948f-454f-8648-301efab5060e ]] {\r\n",
       "\r\n",
       "- -\r\n",
       "}\r\n",
       "comp usage \"<s>noname</s>\" as E7  <<(T,blue) requirement>> [[psysml:70e6cc11-a878-4419-9a48-d32cb5df9816 ]] {\r\n",
       "}\r\n",
       "comp def \" [<b>1</b>] A\" as E8  <<(T,blue) requirement  def>> [[psysml:5c5c4776-1d3a-4700-8516-1d3a67d779f4 ]] {\r\n",
       "Text\r\n",
       "- -\r\n",
       "}\r\n",
       "comp def \"R1\" as E9  <<(T,blue) requirement  def>> [[psysml:f2fc2205-4b84-4313-b340-24ee025c15cf ]] {\r\n",
       "}\r\n",
       "comp usage \"p\" as E11  <<(T,blue) part>> [[psysml:4203d305-f881-4dfa-bcc5-a82b5aac35c4 ]] {\r\n",
       "}\r\n",
       "comp usage \"q\" as E12  <<(T,blue) part>> [[psysml:d0dbee69-5f2e-4ac4-ba4b-4aca7380bae7 ]] {\r\n",
       "}\r\n",
       "comp usage \"r: R \" as E13  <<(T,blue) requirement>> [[psysml:aee31540-9ea4-41ee-8ebb-8555bfaf03fb ]] {\r\n",
       "}\r\n",
       "comp usage \"r1: R1 \" as E14  <<(T,blue) requirement>> [[psysml:5c4fb90e-2e7f-411e-8437-1e0e9b0bd00e ]] {\r\n",
       "}\r\n",
       "}\r\n",
       "E3 - -:|> E2 [[psysml:1cfa9d08-8b1e-49ae-8f22-7ec5c2d68c94 ]] \r\n",
       "E4 *- - \"*\"E7 [[psysml:8957256b-d423-4c87-844e-8026b3f5c553 ]] \r\n",
       "E4 +- - E8 [[psysml:e7993699-2e90-4c6e-9ce7-c90f60868f83 ]] \r\n",
       "E12 *- - E13 [[psysml:0f26ba0d-7372-4c44-875c-adf3c35e17b9 ]] \r\n",
       "E13 - -:|> E4 [[psysml:e01bb7f1-206a-408f-a898-0799ec242df4 ]] \r\n",
       "E11 ..> E13 [[psysml:e806deaf-0ce2-4d10-9e57-833502fc32ee ]] : <<satisfy>>\r\n",
       "E12 ..> E13 [[psysml:f5a4eec3-f375-4f03-819b-6c5c8dc7728c ]] : <<satisfy>>\r\n",
       "E14 - -:|> E9 [[psysml:d6ece11e-fb98-4dd6-9106-0f6846b0bd9f ]] \r\n",
       "E11 ..> E14 [[psysml:feaea2f2-720b-4dbc-ba1d-0aec40f00046 ]] : <<satisfy>>\r\n",
       "E12 ..> E14 [[psysml:f5704f7b-2601-4abd-90b0-2ec51a978e80 ]] : <<satisfy>>\r\n",
       "@enduml\r\n",
       "\n",
       "PlantUML version 1.2020.13(Sat Jun 13 12:26:38 UTC 2020)\n",
       "(EPL source distribution)\n",
       "Java Runtime: OpenJDK Runtime Environment\n",
       "JVM: OpenJDK 64-Bit Server VM\n",
       "Default Encoding: UTF-8\n",
       "Language: en\n",
       "Country: null\n",
       "--></g></svg>"
      ]
     },
     "execution_count": 17,
     "metadata": {},
     "output_type": "execute_result"
    }
   ],
   "source": [
    "%viz --style=\"LR\" --view=\"Tree\" \"RequirementTest\""
   ]
  },
  {
   "cell_type": "code",
   "execution_count": 18,
   "id": "2692e4e4",
   "metadata": {
    "execution": {
     "iopub.execute_input": "2021-10-25T08:21:12.767600Z",
     "iopub.status.busy": "2021-10-25T08:21:12.767201Z",
     "iopub.status.idle": "2021-10-25T08:21:12.773060Z",
     "shell.execute_reply": "2021-10-25T08:21:12.773372Z"
    }
   },
   "outputs": [
    {
     "data": {
      "image/svg+xml": [
       "<?xml version=\"1.0\" encoding=\"UTF-8\" standalone=\"no\"?><svg xmlns=\"http://www.w3.org/2000/svg\" xmlns:xlink=\"http://www.w3.org/1999/xlink\" contentScriptType=\"application/ecmascript\" contentStyleType=\"text/css\" height=\"12px\" preserveAspectRatio=\"none\" style=\"width:12px;height:12px;\" version=\"1.1\" viewBox=\"0 0 12 12\" width=\"12px\" zoomAndPan=\"magnify\"><defs/><g><!--MD5=[19d285c9d72a204eba4e2cd117d745e8]\n",
       "@startuml\r\n",
       "left to right direction\r\n",
       "skinparam monochrome true\r\n",
       "skinparam classbackgroundcolor white\r\n",
       "skinparam shadowing false\r\n",
       "skinparam wrapWidth 300\r\n",
       "hide circle\r\n",
       "\r\n",
       "@enduml\r\n",
       "\n",
       "PlantUML version 1.2020.13(Sat Jun 13 12:26:38 UTC 2020)\n",
       "(EPL source distribution)\n",
       "Java Runtime: OpenJDK Runtime Environment\n",
       "JVM: OpenJDK 64-Bit Server VM\n",
       "Default Encoding: UTF-8\n",
       "Language: en\n",
       "Country: null\n",
       "--></g></svg>"
      ]
     },
     "execution_count": 18,
     "metadata": {},
     "output_type": "execute_result"
    }
   ],
   "source": [
    "%viz --style=\"LR\" --view=\"State\" \"RequirementTest\""
   ]
  },
  {
   "cell_type": "code",
   "execution_count": 19,
   "id": "d9294de9",
   "metadata": {
    "execution": {
     "iopub.execute_input": "2021-10-25T08:21:12.823128Z",
     "iopub.status.busy": "2021-10-25T08:21:12.822729Z",
     "iopub.status.idle": "2021-10-25T08:21:12.883183Z",
     "shell.execute_reply": "2021-10-25T08:21:12.883473Z"
    }
   },
   "outputs": [
    {
     "data": {
      "image/svg+xml": [
       "<?xml version=\"1.0\" encoding=\"UTF-8\" standalone=\"no\"?><svg xmlns=\"http://www.w3.org/2000/svg\" xmlns:xlink=\"http://www.w3.org/1999/xlink\" contentScriptType=\"application/ecmascript\" contentStyleType=\"text/css\" height=\"347px\" preserveAspectRatio=\"none\" style=\"width:650px;height:347px;\" version=\"1.1\" viewBox=\"0 0 650 347\" width=\"650px\" zoomAndPan=\"magnify\"><defs/><g><!--MD5=[fbc87193dbaf4d95561dea2c320d4a47]\n",
       "cluster E1--><a href=\"psysml:2a075407-fc8d-47b4-b4de-e1839d24b848\" target=\"_top\" title=\"psysml:2a075407-fc8d-47b4-b4de-e1839d24b848\" xlink:actuate=\"onRequest\" xlink:href=\"psysml:2a075407-fc8d-47b4-b4de-e1839d24b848\" xlink:show=\"new\" xlink:title=\"psysml:2a075407-fc8d-47b4-b4de-e1839d24b848\" xlink:type=\"simple\"><polygon fill=\"#FFFFFF\" points=\"16,6,143,6,150,28.2969,628,28.2969,628,335,16,335,16,6\" style=\"stroke: #000000; stroke-width: 1.5;\"/><line style=\"stroke: #000000; stroke-width: 1.5;\" x1=\"16\" x2=\"150\" y1=\"28.2969\" y2=\"28.2969\"/><text fill=\"#000000\" font-family=\"sans-serif\" font-size=\"14\" font-weight=\"bold\" lengthAdjust=\"spacingAndGlyphs\" textLength=\"121\" x=\"20\" y=\"20.9951\">RequirementTest</text></a><!--MD5=[47bea60c1a0ac6c1143df232041969c0]\n",
       "cluster E12--><a href=\"psysml:d0dbee69-5f2e-4ac4-ba4b-4aca7380bae7\" target=\"_top\" title=\"psysml:d0dbee69-5f2e-4ac4-ba4b-4aca7380bae7\" xlink:actuate=\"onRequest\" xlink:href=\"psysml:d0dbee69-5f2e-4ac4-ba4b-4aca7380bae7\" xlink:show=\"new\" xlink:title=\"psysml:d0dbee69-5f2e-4ac4-ba4b-4aca7380bae7\" xlink:type=\"simple\"><rect fill=\"#FFFFFF\" height=\"113\" id=\"E12\" rx=\"10\" ry=\"10\" style=\"stroke: #383838; stroke-width: 1.5;\" width=\"256.36\" x=\"63.64\" y=\"190\"/><rect fill=\"#F8F8F8\" height=\"23.9688\" rx=\"10\" ry=\"10\" style=\"stroke: #F8F8F8; stroke-width: 1.5;\" width=\"256.36\" x=\"63.64\" y=\"190\"/><rect fill=\"#F8F8F8\" height=\"10\" style=\"stroke: #F8F8F8; stroke-width: 1.5;\" width=\"256.36\" x=\"63.64\" y=\"203.9688\"/><rect fill=\"none\" height=\"113\" id=\"E12\" rx=\"10\" ry=\"10\" style=\"stroke: #383838; stroke-width: 1.5;\" width=\"256.36\" x=\"63.64\" y=\"190\"/><text fill=\"#000000\" font-family=\"sans-serif\" font-size=\"12\" lengthAdjust=\"spacingAndGlyphs\" textLength=\"8\" x=\"187.82\" y=\"206.1387\">q</text><line style=\"stroke: #383838; stroke-width: 1.0;\" x1=\"63.64\" x2=\"320\" y1=\"213.9688\" y2=\"213.9688\"/></a><g id=\"E1.E2\"><a href=\"psysml:8e8b9929-fb62-44f3-bb6e-73f88688eaf1\" target=\"_top\" title=\"psysml:8e8b9929-fb62-44f3-bb6e-73f88688eaf1\" xlink:actuate=\"onRequest\" xlink:href=\"psysml:8e8b9929-fb62-44f3-bb6e-73f88688eaf1\" xlink:show=\"new\" xlink:title=\"psysml:8e8b9929-fb62-44f3-bb6e-73f88688eaf1\" xlink:type=\"simple\"><rect fill=\"#FFFFFF\" height=\"42.9375\" id=\"E2\" style=\"stroke: #383838; stroke-width: 1.5;\" width=\"113\" x=\"193\" y=\"41.5\"/><rect fill=\"#F8F8F8\" height=\"37.9375\" style=\"stroke: #383838; stroke-width: 1.5;\" width=\"113\" x=\"193\" y=\"41.5\"/><text fill=\"#000000\" font-family=\"sans-serif\" font-size=\"12\" font-style=\"italic\" lengthAdjust=\"spacingAndGlyphs\" textLength=\"106\" x=\"196.5\" y=\"57.6387\">«constraint  def»</text><text fill=\"#000000\" font-family=\"sans-serif\" font-size=\"12\" lengthAdjust=\"spacingAndGlyphs\" textLength=\"8\" x=\"245.5\" y=\"71.6074\">C</text></a></g><!--MD5=[09b614a08d8cba4a07c9adeb5e0fee81]\n",
       "class E3--><a href=\"psysml:8dab2afb-478b-48f2-a7f7-bb2b245c05ea\" target=\"_top\" title=\"psysml:8dab2afb-478b-48f2-a7f7-bb2b245c05ea\" xlink:actuate=\"onRequest\" xlink:href=\"psysml:8dab2afb-478b-48f2-a7f7-bb2b245c05ea\" xlink:show=\"new\" xlink:title=\"psysml:8dab2afb-478b-48f2-a7f7-bb2b245c05ea\" xlink:type=\"simple\"><rect fill=\"#FFFFFF\" height=\"45.9375\" id=\"E3\" rx=\"10\" ry=\"10\" style=\"stroke: #383838; stroke-width: 1.5;\" width=\"80\" x=\"32\" y=\"41\"/><text fill=\"#000000\" font-family=\"sans-serif\" font-size=\"12\" font-style=\"italic\" lengthAdjust=\"spacingAndGlyphs\" textLength=\"78\" x=\"33\" y=\"57.1387\">«constraint»</text><text fill=\"#000000\" font-family=\"sans-serif\" font-size=\"12\" lengthAdjust=\"spacingAndGlyphs\" textLength=\"23\" x=\"58.5\" y=\"71.1074\">c: C</text><line style=\"stroke: #383838; stroke-width: 1.5;\" x1=\"33\" x2=\"111\" y1=\"78.9375\" y2=\"78.9375\"/></a><!--MD5=[ebbe1d658d1005bcc118a6aa81145e00]\n",
       "class E4--><a href=\"psysml:cae76f8a-948f-454f-8648-301efab5060e\" target=\"_top\" title=\"psysml:cae76f8a-948f-454f-8648-301efab5060e\" xlink:actuate=\"onRequest\" xlink:href=\"psysml:cae76f8a-948f-454f-8648-301efab5060e\" xlink:show=\"new\" xlink:title=\"psysml:cae76f8a-948f-454f-8648-301efab5060e\" xlink:type=\"simple\"><rect fill=\"#FFFFFF\" height=\"66.7422\" id=\"E4\" style=\"stroke: #383838; stroke-width: 1.5;\" width=\"121\" x=\"353\" y=\"222.5\"/><text fill=\"#000000\" font-family=\"sans-serif\" font-size=\"12\" font-style=\"italic\" lengthAdjust=\"spacingAndGlyphs\" textLength=\"119\" x=\"354\" y=\"238.6387\">«requirement  def»</text><text fill=\"#000000\" font-family=\"sans-serif\" font-size=\"12\" lengthAdjust=\"spacingAndGlyphs\" textLength=\"8\" x=\"409.5\" y=\"252.6074\">R</text><line style=\"stroke: #383838; stroke-width: 1.5;\" x1=\"354\" x2=\"473\" y1=\"260.4375\" y2=\"260.4375\"/><text fill=\"#000000\" font-family=\"sans-serif\" font-size=\"11\" lengthAdjust=\"spacingAndGlyphs\" textLength=\"0\" x=\"363\" y=\"274.6479\"/><line style=\"stroke: #383838; stroke-width: 1.0;\" x1=\"354\" x2=\"473\" y1=\"281.2422\" y2=\"281.2422\"/></a><!--MD5=[2156ba9850f5573cc1fc38a6a4b2f02b]\n",
       "class E7--><a href=\"psysml:70e6cc11-a878-4419-9a48-d32cb5df9816\" target=\"_top\" title=\"psysml:70e6cc11-a878-4419-9a48-d32cb5df9816\" xlink:actuate=\"onRequest\" xlink:href=\"psysml:70e6cc11-a878-4419-9a48-d32cb5df9816\" xlink:show=\"new\" xlink:title=\"psysml:70e6cc11-a878-4419-9a48-d32cb5df9816\" xlink:type=\"simple\"><rect fill=\"#FFFFFF\" height=\"45.9375\" id=\"E7\" rx=\"10\" ry=\"10\" style=\"stroke: #383838; stroke-width: 1.5;\" width=\"93\" x=\"505\" y=\"257\"/><text fill=\"#000000\" font-family=\"sans-serif\" font-size=\"12\" font-style=\"italic\" lengthAdjust=\"spacingAndGlyphs\" textLength=\"91\" x=\"506\" y=\"273.1387\">«requirement»</text><text fill=\"#000000\" font-family=\"sans-serif\" font-size=\"12\" lengthAdjust=\"spacingAndGlyphs\" text-decoration=\"line-through\" textLength=\"51\" x=\"526\" y=\"287.1074\">noname</text><line style=\"stroke: #383838; stroke-width: 1.5;\" x1=\"506\" x2=\"597\" y1=\"294.9375\" y2=\"294.9375\"/></a><!--MD5=[b9389687b975829384b498ac4b7476b2]\n",
       "class E8--><a href=\"psysml:5c5c4776-1d3a-4700-8516-1d3a67d779f4\" target=\"_top\" title=\"psysml:5c5c4776-1d3a-4700-8516-1d3a67d779f4\" xlink:actuate=\"onRequest\" xlink:href=\"psysml:5c5c4776-1d3a-4700-8516-1d3a67d779f4\" xlink:show=\"new\" xlink:title=\"psysml:5c5c4776-1d3a-4700-8516-1d3a67d779f4\" xlink:type=\"simple\"><rect fill=\"#FFFFFF\" height=\"66.7422\" id=\"E8\" style=\"stroke: #383838; stroke-width: 1.5;\" width=\"121\" x=\"491\" y=\"154.5\"/><text fill=\"#000000\" font-family=\"sans-serif\" font-size=\"12\" font-style=\"italic\" lengthAdjust=\"spacingAndGlyphs\" textLength=\"119\" x=\"492\" y=\"170.6387\">«requirement  def»</text><text fill=\"#000000\" font-family=\"sans-serif\" font-size=\"12\" lengthAdjust=\"spacingAndGlyphs\" textLength=\"5\" x=\"538.5\" y=\"184.6074\">[</text><text fill=\"#000000\" font-family=\"sans-serif\" font-size=\"12\" font-weight=\"bold\" lengthAdjust=\"spacingAndGlyphs\" textLength=\"8\" x=\"543.5\" y=\"184.6074\">1</text><text fill=\"#000000\" font-family=\"sans-serif\" font-size=\"12\" lengthAdjust=\"spacingAndGlyphs\" textLength=\"17\" x=\"551.5\" y=\"184.6074\">] A</text><line style=\"stroke: #383838; stroke-width: 1.5;\" x1=\"492\" x2=\"611\" y1=\"192.4375\" y2=\"192.4375\"/><text fill=\"#000000\" font-family=\"sans-serif\" font-size=\"11\" lengthAdjust=\"spacingAndGlyphs\" textLength=\"24\" x=\"497\" y=\"206.6479\">Text</text><line style=\"stroke: #383838; stroke-width: 1.0;\" x1=\"492\" x2=\"611\" y1=\"213.2422\" y2=\"213.2422\"/></a><!--MD5=[fd4143e9d270a159db93a4ea2a975926]\n",
       "class E9--><a href=\"psysml:f2fc2205-4b84-4313-b340-24ee025c15cf\" target=\"_top\" title=\"psysml:f2fc2205-4b84-4313-b340-24ee025c15cf\" xlink:actuate=\"onRequest\" xlink:href=\"psysml:f2fc2205-4b84-4313-b340-24ee025c15cf\" xlink:show=\"new\" xlink:title=\"psysml:f2fc2205-4b84-4313-b340-24ee025c15cf\" xlink:type=\"simple\"><rect fill=\"#FFFFFF\" height=\"45.9375\" id=\"E9\" style=\"stroke: #383838; stroke-width: 1.5;\" width=\"121\" x=\"353\" y=\"120\"/><text fill=\"#000000\" font-family=\"sans-serif\" font-size=\"12\" font-style=\"italic\" lengthAdjust=\"spacingAndGlyphs\" textLength=\"119\" x=\"354\" y=\"136.1387\">«requirement  def»</text><text fill=\"#000000\" font-family=\"sans-serif\" font-size=\"12\" lengthAdjust=\"spacingAndGlyphs\" textLength=\"16\" x=\"405.5\" y=\"150.1074\">R1</text><line style=\"stroke: #383838; stroke-width: 1.5;\" x1=\"354\" x2=\"473\" y1=\"157.9375\" y2=\"157.9375\"/></a><!--MD5=[bee11217b2f71d958a27249dc326068c]\n",
       "class E14--><a href=\"psysml:5c4fb90e-2e7f-411e-8437-1e0e9b0bd00e\" target=\"_top\" title=\"psysml:5c4fb90e-2e7f-411e-8437-1e0e9b0bd00e\" xlink:actuate=\"onRequest\" xlink:href=\"psysml:5c4fb90e-2e7f-411e-8437-1e0e9b0bd00e\" xlink:show=\"new\" xlink:title=\"psysml:5c4fb90e-2e7f-411e-8437-1e0e9b0bd00e\" xlink:type=\"simple\"><rect fill=\"#FFFFFF\" height=\"45.9375\" id=\"E14\" rx=\"10\" ry=\"10\" style=\"stroke: #383838; stroke-width: 1.5;\" width=\"93\" x=\"203\" y=\"120\"/><text fill=\"#000000\" font-family=\"sans-serif\" font-size=\"12\" font-style=\"italic\" lengthAdjust=\"spacingAndGlyphs\" textLength=\"91\" x=\"204\" y=\"136.1387\">«requirement»</text><text fill=\"#000000\" font-family=\"sans-serif\" font-size=\"12\" lengthAdjust=\"spacingAndGlyphs\" textLength=\"37\" x=\"229\" y=\"150.1074\">r1: R1</text><line style=\"stroke: #383838; stroke-width: 1.5;\" x1=\"204\" x2=\"295\" y1=\"157.9375\" y2=\"157.9375\"/></a><g id=\"E1.E11\"><a href=\"psysml:4203d305-f881-4dfa-bcc5-a82b5aac35c4\" target=\"_top\" title=\"psysml:4203d305-f881-4dfa-bcc5-a82b5aac35c4\" xlink:actuate=\"onRequest\" xlink:href=\"psysml:4203d305-f881-4dfa-bcc5-a82b5aac35c4\" xlink:show=\"new\" xlink:title=\"psysml:4203d305-f881-4dfa-bcc5-a82b5aac35c4\" xlink:type=\"simple\"><rect fill=\"#FFFFFF\" height=\"40\" id=\"E11\" rx=\"10\" ry=\"10\" style=\"stroke: #383838; stroke-width: 1.5;\" width=\"50\" x=\"47\" y=\"123\"/><rect fill=\"#F8F8F8\" height=\"23.9688\" rx=\"10\" ry=\"10\" style=\"stroke: #F8F8F8; stroke-width: 1.5;\" width=\"50\" x=\"47\" y=\"123\"/><rect fill=\"#F8F8F8\" height=\"10\" style=\"stroke: #F8F8F8; stroke-width: 1.5;\" width=\"50\" x=\"47\" y=\"136.9688\"/><rect fill=\"none\" height=\"40\" id=\"E11\" rx=\"10\" ry=\"10\" style=\"stroke: #383838; stroke-width: 1.5;\" width=\"50\" x=\"47\" y=\"123\"/><text fill=\"#000000\" font-family=\"sans-serif\" font-size=\"12\" lengthAdjust=\"spacingAndGlyphs\" textLength=\"8\" x=\"68\" y=\"139.1387\">p</text></a></g><!--MD5=[ee3c913d1a06f366521f9ef512b67efe]\n",
       "class E13--><a href=\"psysml:aee31540-9ea4-41ee-8ebb-8555bfaf03fb\" target=\"_top\" title=\"psysml:aee31540-9ea4-41ee-8ebb-8555bfaf03fb\" xlink:actuate=\"onRequest\" xlink:href=\"psysml:aee31540-9ea4-41ee-8ebb-8555bfaf03fb\" xlink:show=\"new\" xlink:title=\"psysml:aee31540-9ea4-41ee-8ebb-8555bfaf03fb\" xlink:type=\"simple\"><rect fill=\"#FFFFFF\" height=\"45.9375\" id=\"E13\" rx=\"10\" ry=\"10\" style=\"stroke: #383838; stroke-width: 1.5;\" width=\"93\" x=\"203\" y=\"233\"/><text fill=\"#000000\" font-family=\"sans-serif\" font-size=\"12\" font-style=\"italic\" lengthAdjust=\"spacingAndGlyphs\" textLength=\"91\" x=\"204\" y=\"249.1387\">«requirement»</text><text fill=\"#000000\" font-family=\"sans-serif\" font-size=\"12\" lengthAdjust=\"spacingAndGlyphs\" textLength=\"21\" x=\"237\" y=\"263.1074\">r: R</text><line style=\"stroke: #383838; stroke-width: 1.5;\" x1=\"204\" x2=\"295\" y1=\"270.9375\" y2=\"270.9375\"/></a><!--MD5=[05d275557350bfb9b23a4ef7222b4c39]\n",
       "link E3 to E2--><a href=\"psysml:1cfa9d08-8b1e-49ae-8f22-7ec5c2d68c94\" target=\"_top\" title=\"psysml:1cfa9d08-8b1e-49ae-8f22-7ec5c2d68c94\" xlink:actuate=\"onRequest\" xlink:href=\"psysml:1cfa9d08-8b1e-49ae-8f22-7ec5c2d68c94\" xlink:show=\"new\" xlink:title=\"psysml:1cfa9d08-8b1e-49ae-8f22-7ec5c2d68c94\" xlink:type=\"simple\"><path d=\"M112.39,63.78 C130.2,63.67 151.88,63.55 172.65,63.43 \" fill=\"none\" id=\"E3-&gt;E2\" style=\"stroke: #383838; stroke-width: 1.0;\"/><polygon fill=\"#FFFFFF\" points=\"192.94,63.32,173.9803,70.4285,173.9003,56.4287,192.94,63.32\" style=\"stroke: #383838; stroke-width: 1.0;\"/><ellipse cx=\"168.269\" cy=\"68.4611\" fill=\"#383838\" rx=\"2\" ry=\"2\" style=\"stroke: #383838; stroke-width: 1.0;\"/><ellipse cx=\"168.2118\" cy=\"58.4612\" fill=\"#383838\" rx=\"2\" ry=\"2\" style=\"stroke: #383838; stroke-width: 1.0;\"/></a><!--MD5=[722ff4eef345aa10242dad44df0e98c7]\n",
       "reverse link E4 to E7--><a href=\"psysml:8957256b-d423-4c87-844e-8026b3f5c553\" target=\"_top\" title=\"psysml:8957256b-d423-4c87-844e-8026b3f5c553\" xlink:actuate=\"onRequest\" xlink:href=\"psysml:8957256b-d423-4c87-844e-8026b3f5c553\" xlink:show=\"new\" xlink:title=\"psysml:8957256b-d423-4c87-844e-8026b3f5c553\" xlink:type=\"simple\"><path d=\"M487.22,268.83 C493.19,269.89 499.11,270.93 504.8,271.94 \" fill=\"none\" id=\"E4&lt;-E7\" style=\"stroke: #383838; stroke-width: 1.0;\"/><polygon fill=\"#383838\" points=\"474.15,266.53,479.3642,271.5112,485.9677,268.6139,480.7535,263.6327,474.15,266.53\" style=\"stroke: #383838; stroke-width: 1.0;\"/><text fill=\"#000000\" font-family=\"sans-serif\" font-size=\"13\" lengthAdjust=\"spacingAndGlyphs\" textLength=\"7\" x=\"490.1131\" y=\"283.9361\">*</text></a><!--MD5=[c6fc7cdb0cabde04948078cf183fa696]\n",
       "reverse link E4 to E8--><a href=\"psysml:e7993699-2e90-4c6e-9ce7-c90f60868f83\" target=\"_top\" title=\"psysml:e7993699-2e90-4c6e-9ce7-c90f60868f83\" xlink:actuate=\"onRequest\" xlink:href=\"psysml:e7993699-2e90-4c6e-9ce7-c90f60868f83\" xlink:show=\"new\" xlink:title=\"psysml:e7993699-2e90-4c6e-9ce7-c90f60868f83\" xlink:type=\"simple\"><path d=\"M487.79,219.36 C488.84,218.83 489.88,218.31 490.93,217.79 \" fill=\"none\" id=\"E4&lt;-E8\" style=\"stroke: #383838; stroke-width: 1.0;\"/><ellipse cx=\"481.3039\" cy=\"222.5892\" fill=\"#FFFFFF\" rx=\"8\" ry=\"8\" style=\"stroke: #383838; stroke-width: 1.0;\"/><line style=\"stroke: #383838; stroke-width: 1.0;\" x1=\"488.4578\" x2=\"474.15\" y1=\"219.0085\" y2=\"226.17\"/><line style=\"stroke: #383838; stroke-width: 1.0;\" x1=\"484.8846\" x2=\"477.7231\" y1=\"229.7431\" y2=\"215.4354\"/></a><!--MD5=[017847e01ff9a8bd19f247411074f987]\n",
       "link E13 to E4--><a href=\"psysml:e01bb7f1-206a-408f-a898-0799ec242df4\" target=\"_top\" title=\"psysml:e01bb7f1-206a-408f-a898-0799ec242df4\" xlink:actuate=\"onRequest\" xlink:href=\"psysml:e01bb7f1-206a-408f-a898-0799ec242df4\" xlink:show=\"new\" xlink:title=\"psysml:e01bb7f1-206a-408f-a898-0799ec242df4\" xlink:type=\"simple\"><path d=\"M296.06,256 C307.47,256 320.04,256 332.59,256 \" fill=\"none\" id=\"E13-&gt;E4\" style=\"stroke: #383838; stroke-width: 1.0;\"/><polygon fill=\"#FFFFFF\" points=\"352.76,256,333.76,263,333.76,249,352.76,256\" style=\"stroke: #383838; stroke-width: 1.0;\"/><ellipse cx=\"328.06\" cy=\"261\" fill=\"#383838\" rx=\"2\" ry=\"2\" style=\"stroke: #383838; stroke-width: 1.0;\"/><ellipse cx=\"328.06\" cy=\"251\" fill=\"#383838\" rx=\"2\" ry=\"2\" style=\"stroke: #383838; stroke-width: 1.0;\"/></a><!--MD5=[60f911bb19596b289db4a22769f8105a]\n",
       "link E11 to E13--><a href=\"psysml:e806deaf-0ce2-4d10-9e57-833502fc32ee\" target=\"_top\" title=\"psysml:e806deaf-0ce2-4d10-9e57-833502fc32ee\" xlink:actuate=\"onRequest\" xlink:href=\"psysml:e806deaf-0ce2-4d10-9e57-833502fc32ee\" xlink:show=\"new\" xlink:title=\"psysml:e806deaf-0ce2-4d10-9e57-833502fc32ee\" xlink:type=\"simple\"><path d=\"M97.24,149.15 C125.1,156.71 168.34,170.12 179,183 C192.23,198.99 174.2,212.67 187,229 C190.18,233.06 194.1,236.53 198.41,239.48 \" fill=\"none\" id=\"E11-&gt;E13\" style=\"stroke: #383838; stroke-width: 1.0; stroke-dasharray: 7.0,7.0;\"/><polygon fill=\"#383838\" points=\"202.83,242.26,197.3378,234.0847,198.5964,239.5997,193.0814,240.8584,202.83,242.26\" style=\"stroke: #383838; stroke-width: 1.0;\"/><text fill=\"#000000\" font-family=\"sans-serif\" font-size=\"13\" lengthAdjust=\"spacingAndGlyphs\" textLength=\"57\" x=\"121\" y=\"152.0669\">«satisfy»</text></a><!--MD5=[e2a9ac97dcd3257bb5342dae06547bad]\n",
       "link E12 to E13--><a href=\"psysml:f5a4eec3-f375-4f03-819b-6c5c8dc7728c\" target=\"_top\" title=\"psysml:f5a4eec3-f375-4f03-819b-6c5c8dc7728c\" xlink:actuate=\"onRequest\" xlink:href=\"psysml:f5a4eec3-f375-4f03-819b-6c5c8dc7728c\" xlink:show=\"new\" xlink:title=\"psysml:f5a4eec3-f375-4f03-819b-6c5c8dc7728c\" xlink:type=\"simple\"><path d=\"M73.07,238.06 C74.48,239.29 97.45,258.98 120,265 C145.12,271.7 173.91,270.46 197.87,267.11 \" fill=\"none\" id=\"E12-&gt;E13\" style=\"stroke: #383838; stroke-width: 1.0; stroke-dasharray: 7.0,7.0;\"/><polygon fill=\"#383838\" points=\"202.91,266.37,193.4229,263.7252,197.9634,267.0991,194.5895,271.6397,202.91,266.37\" style=\"stroke: #383838; stroke-width: 1.0;\"/><text fill=\"#000000\" font-family=\"sans-serif\" font-size=\"13\" lengthAdjust=\"spacingAndGlyphs\" textLength=\"57\" x=\"121\" y=\"261.0669\">«satisfy»</text></a><!--MD5=[0c677eb374079406c87b74cd1f5a339d]\n",
       "link E14 to E9--><a href=\"psysml:d6ece11e-fb98-4dd6-9106-0f6846b0bd9f\" target=\"_top\" title=\"psysml:d6ece11e-fb98-4dd6-9106-0f6846b0bd9f\" xlink:actuate=\"onRequest\" xlink:href=\"psysml:d6ece11e-fb98-4dd6-9106-0f6846b0bd9f\" xlink:show=\"new\" xlink:title=\"psysml:d6ece11e-fb98-4dd6-9106-0f6846b0bd9f\" xlink:type=\"simple\"><path d=\"M296.06,143 C307.47,143 320.04,143 332.59,143 \" fill=\"none\" id=\"E14-&gt;E9\" style=\"stroke: #383838; stroke-width: 1.0;\"/><polygon fill=\"#FFFFFF\" points=\"352.76,143,333.76,150,333.76,136,352.76,143\" style=\"stroke: #383838; stroke-width: 1.0;\"/><ellipse cx=\"328.06\" cy=\"148\" fill=\"#383838\" rx=\"2\" ry=\"2\" style=\"stroke: #383838; stroke-width: 1.0;\"/><ellipse cx=\"328.06\" cy=\"138\" fill=\"#383838\" rx=\"2\" ry=\"2\" style=\"stroke: #383838; stroke-width: 1.0;\"/></a><!--MD5=[9c1c40551dcf5c2fca147626a786a7cd]\n",
       "link E11 to E14--><a href=\"psysml:feaea2f2-720b-4dbc-ba1d-0aec40f00046\" target=\"_top\" title=\"psysml:feaea2f2-720b-4dbc-ba1d-0aec40f00046\" xlink:actuate=\"onRequest\" xlink:href=\"psysml:feaea2f2-720b-4dbc-ba1d-0aec40f00046\" xlink:show=\"new\" xlink:title=\"psysml:feaea2f2-720b-4dbc-ba1d-0aec40f00046\" xlink:type=\"simple\"><path d=\"M97.44,132.35 C104.57,129.74 112.48,127.32 120,126 C145.83,121.47 152.97,122.86 179,126 C185.07,126.73 191.37,127.81 197.6,129.08 \" fill=\"none\" id=\"E11-&gt;E14\" style=\"stroke: #383838; stroke-width: 1.0; stroke-dasharray: 7.0,7.0;\"/><polygon fill=\"#383838\" points=\"202.8,130.18,194.8333,124.3894,197.9102,129.1363,193.1633,132.2131,202.8,130.18\" style=\"stroke: #383838; stroke-width: 1.0;\"/><text fill=\"#000000\" font-family=\"sans-serif\" font-size=\"13\" lengthAdjust=\"spacingAndGlyphs\" textLength=\"57\" x=\"121\" y=\"120.0669\">«satisfy»</text></a><!--MD5=[d53cb08dffc8689d16e38c8e194e9adc]\n",
       "link E12 to E14--><a href=\"psysml:f5704f7b-2601-4abd-90b0-2ec51a978e80\" target=\"_top\" title=\"psysml:f5704f7b-2601-4abd-90b0-2ec51a978e80\" xlink:actuate=\"onRequest\" xlink:href=\"psysml:f5704f7b-2601-4abd-90b0-2ec51a978e80\" xlink:show=\"new\" xlink:title=\"psysml:f5704f7b-2601-4abd-90b0-2ec51a978e80\" xlink:type=\"simple\"><path d=\"M198.5187,189.9181 C198.6343,189.8264 198.7498,189.7347 198.8652,189.6429 C199.7887,188.9086 200.7072,188.1697 201.62,187.4275 C208.9225,181.49 215.86,175.34 222.05,169.58 \" fill=\"none\" id=\"E12-&gt;E14\" style=\"stroke: #383838; stroke-width: 1.0; stroke-dasharray: 7.0,7.0;\"/><polygon fill=\"#383838\" points=\"225.8,166.06,216.5047,169.3155,222.159,169.4868,221.9877,175.1411,225.8,166.06\" style=\"stroke: #383838; stroke-width: 1.0;\"/><text fill=\"#000000\" font-family=\"sans-serif\" font-size=\"13\" lengthAdjust=\"spacingAndGlyphs\" textLength=\"57\" x=\"121\" y=\"200.0669\">«satisfy»</text></a><!--MD5=[e6b242cef583b350762f9f2a13408698]\n",
       "@startuml\r\n",
       "skinparam ranksep 10\r\n",
       "skinparam rectangle {\r\n",
       " backgroundColor<<block>> LightGreen\r\n",
       "}\r\n",
       "left to right direction\r\n",
       "skinparam monochrome true\r\n",
       "skinparam classbackgroundcolor white\r\n",
       "skinparam shadowing false\r\n",
       "skinparam wrapWidth 300\r\n",
       "hide circle\r\n",
       "\r\n",
       "package \"RequirementTest\" as E1  [[psysml:2a075407-fc8d-47b4-b4de-e1839d24b848 ]]  {\r\n",
       "def \"C\" as E2  <<(T,blue) constraint  def>> [[psysml:8e8b9929-fb62-44f3-bb6e-73f88688eaf1 ]] \r\n",
       "comp usage \"c: C \" as E3  <<(T,blue) constraint>> [[psysml:8dab2afb-478b-48f2-a7f7-bb2b245c05ea ]] {\r\n",
       "}\r\n",
       "comp def \"R\" as E4  <<(T,blue) requirement  def>> [[psysml:cae76f8a-948f-454f-8648-301efab5060e ]] {\r\n",
       "\r\n",
       "- -\r\n",
       "}\r\n",
       "comp usage \"<s>noname</s>\" as E7  <<(T,blue) requirement>> [[psysml:70e6cc11-a878-4419-9a48-d32cb5df9816 ]] {\r\n",
       "}\r\n",
       "comp def \" [<b>1</b>] A\" as E8  <<(T,blue) requirement  def>> [[psysml:5c5c4776-1d3a-4700-8516-1d3a67d779f4 ]] {\r\n",
       "Text\r\n",
       "- -\r\n",
       "}\r\n",
       "comp def \"R1\" as E9  <<(T,blue) requirement  def>> [[psysml:f2fc2205-4b84-4313-b340-24ee025c15cf ]] {\r\n",
       "}\r\n",
       "rec usage \"p\" as E11  [[psysml:4203d305-f881-4dfa-bcc5-a82b5aac35c4 ]] {\r\n",
       "}\r\n",
       "rec usage \"q\" as E12  [[psysml:d0dbee69-5f2e-4ac4-ba4b-4aca7380bae7 ]] {\r\n",
       "comp usage \"r: R \" as E13  <<(T,blue) requirement>> [[psysml:aee31540-9ea4-41ee-8ebb-8555bfaf03fb ]] {\r\n",
       "}\r\n",
       "}\r\n",
       "comp usage \"r1: R1 \" as E14  <<(T,blue) requirement>> [[psysml:5c4fb90e-2e7f-411e-8437-1e0e9b0bd00e ]] {\r\n",
       "}\r\n",
       "}\r\n",
       "E3 - -:|> E2 [[psysml:1cfa9d08-8b1e-49ae-8f22-7ec5c2d68c94 ]] \r\n",
       "E4 *- - \"*\"E7 [[psysml:8957256b-d423-4c87-844e-8026b3f5c553 ]] \r\n",
       "E4 +- - E8 [[psysml:e7993699-2e90-4c6e-9ce7-c90f60868f83 ]] \r\n",
       "E13 - -:|> E4 [[psysml:e01bb7f1-206a-408f-a898-0799ec242df4 ]] \r\n",
       "E11 ..> E13 [[psysml:e806deaf-0ce2-4d10-9e57-833502fc32ee ]] : <<satisfy>>\r\n",
       "E12 ..> E13 [[psysml:f5a4eec3-f375-4f03-819b-6c5c8dc7728c ]] : <<satisfy>>\r\n",
       "E14 - -:|> E9 [[psysml:d6ece11e-fb98-4dd6-9106-0f6846b0bd9f ]] \r\n",
       "E11 ..> E14 [[psysml:feaea2f2-720b-4dbc-ba1d-0aec40f00046 ]] : <<satisfy>>\r\n",
       "E12 ..> E14 [[psysml:f5704f7b-2601-4abd-90b0-2ec51a978e80 ]] : <<satisfy>>\r\n",
       "@enduml\r\n",
       "\n",
       "PlantUML version 1.2020.13(Sat Jun 13 12:26:38 UTC 2020)\n",
       "(EPL source distribution)\n",
       "Java Runtime: OpenJDK Runtime Environment\n",
       "JVM: OpenJDK 64-Bit Server VM\n",
       "Default Encoding: UTF-8\n",
       "Language: en\n",
       "Country: null\n",
       "--></g></svg>"
      ]
     },
     "execution_count": 19,
     "metadata": {},
     "output_type": "execute_result"
    }
   ],
   "source": [
    "%viz --style=\"LR\" --view=\"Interconnection\" \"RequirementTest\""
   ]
  },
  {
   "cell_type": "code",
   "execution_count": 20,
   "id": "c183fd12",
   "metadata": {
    "execution": {
     "iopub.execute_input": "2021-10-25T08:21:12.932531Z",
     "iopub.status.busy": "2021-10-25T08:21:12.932118Z",
     "iopub.status.idle": "2021-10-25T08:21:12.937873Z",
     "shell.execute_reply": "2021-10-25T08:21:12.938184Z"
    }
   },
   "outputs": [
    {
     "data": {
      "image/svg+xml": [
       "<?xml version=\"1.0\" encoding=\"UTF-8\" standalone=\"no\"?><svg xmlns=\"http://www.w3.org/2000/svg\" xmlns:xlink=\"http://www.w3.org/1999/xlink\" contentScriptType=\"application/ecmascript\" contentStyleType=\"text/css\" height=\"12px\" preserveAspectRatio=\"none\" style=\"width:12px;height:12px;\" version=\"1.1\" viewBox=\"0 0 12 12\" width=\"12px\" zoomAndPan=\"magnify\"><defs/><g><!--MD5=[7aeb398939421629f6affaa4a1a7b125]\n",
       "@startuml\r\n",
       "skinparam ranksep 8\r\n",
       "left to right direction\r\n",
       "skinparam monochrome true\r\n",
       "skinparam classbackgroundcolor white\r\n",
       "skinparam shadowing false\r\n",
       "skinparam wrapWidth 300\r\n",
       "hide circle\r\n",
       "\r\n",
       "@enduml\r\n",
       "\n",
       "PlantUML version 1.2020.13(Sat Jun 13 12:26:38 UTC 2020)\n",
       "(EPL source distribution)\n",
       "Java Runtime: OpenJDK Runtime Environment\n",
       "JVM: OpenJDK 64-Bit Server VM\n",
       "Default Encoding: UTF-8\n",
       "Language: en\n",
       "Country: null\n",
       "--></g></svg>"
      ]
     },
     "execution_count": 20,
     "metadata": {},
     "output_type": "execute_result"
    }
   ],
   "source": [
    "%viz --style=\"LR\" --view=\"Action\" \"RequirementTest\""
   ]
  },
  {
   "cell_type": "code",
   "execution_count": 21,
   "id": "c2e5acc3",
   "metadata": {
    "execution": {
     "iopub.execute_input": "2021-10-25T08:21:12.987775Z",
     "iopub.status.busy": "2021-10-25T08:21:12.987380Z",
     "iopub.status.idle": "2021-10-25T08:21:12.992983Z",
     "shell.execute_reply": "2021-10-25T08:21:12.993294Z"
    }
   },
   "outputs": [
    {
     "data": {
      "image/svg+xml": [
       "<?xml version=\"1.0\" encoding=\"UTF-8\" standalone=\"no\"?><svg xmlns=\"http://www.w3.org/2000/svg\" xmlns:xlink=\"http://www.w3.org/1999/xlink\" contentScriptType=\"application/ecmascript\" contentStyleType=\"text/css\" height=\"12px\" preserveAspectRatio=\"none\" style=\"width:12px;height:12px;\" version=\"1.1\" viewBox=\"0 0 12 12\" width=\"12px\" zoomAndPan=\"magnify\"><defs/><g><!--MD5=[238c11ea2002f03115ad6b49a457d50e]\n",
       "@startuml\r\n",
       "skinparam roundcorner 20\r\n",
       "skinparam BoxPadding 20\r\n",
       "skinparam SequenceBoxBackgroundColor #white\r\n",
       "skinparam style strictuml\r\n",
       "skinparam maxMessageSize 100\r\n",
       "left to right direction\r\n",
       "skinparam monochrome true\r\n",
       "skinparam classbackgroundcolor white\r\n",
       "skinparam shadowing false\r\n",
       "skinparam wrapWidth 300\r\n",
       "hide circle\r\n",
       "\r\n",
       "@enduml\r\n",
       "\n",
       "PlantUML version 1.2020.13(Sat Jun 13 12:26:38 UTC 2020)\n",
       "(EPL source distribution)\n",
       "Java Runtime: OpenJDK Runtime Environment\n",
       "JVM: OpenJDK 64-Bit Server VM\n",
       "Default Encoding: UTF-8\n",
       "Language: en\n",
       "Country: null\n",
       "--></g></svg>"
      ]
     },
     "execution_count": 21,
     "metadata": {},
     "output_type": "execute_result"
    }
   ],
   "source": [
    "%viz --style=\"LR\" --view=\"Sequence\" \"RequirementTest\""
   ]
  },
  {
   "cell_type": "code",
   "execution_count": 22,
   "id": "b23e450e",
   "metadata": {
    "execution": {
     "iopub.execute_input": "2021-10-25T08:21:13.042942Z",
     "iopub.status.busy": "2021-10-25T08:21:13.042544Z",
     "iopub.status.idle": "2021-10-25T08:21:13.104632Z",
     "shell.execute_reply": "2021-10-25T08:21:13.104344Z"
    }
   },
   "outputs": [
    {
     "data": {
      "image/svg+xml": [
       "<?xml version=\"1.0\" encoding=\"UTF-8\" standalone=\"no\"?><svg xmlns=\"http://www.w3.org/2000/svg\" xmlns:xlink=\"http://www.w3.org/1999/xlink\" contentScriptType=\"application/ecmascript\" contentStyleType=\"text/css\" height=\"306px\" preserveAspectRatio=\"none\" style=\"width:741px;height:306px;\" version=\"1.1\" viewBox=\"0 0 741 306\" width=\"741px\" zoomAndPan=\"magnify\"><defs/><g><!--MD5=[fbc87193dbaf4d95561dea2c320d4a47]\n",
       "cluster E1--><a href=\"psysml:2a075407-fc8d-47b4-b4de-e1839d24b848\" target=\"_top\" title=\"psysml:2a075407-fc8d-47b4-b4de-e1839d24b848\" xlink:actuate=\"onRequest\" xlink:href=\"psysml:2a075407-fc8d-47b4-b4de-e1839d24b848\" xlink:show=\"new\" xlink:title=\"psysml:2a075407-fc8d-47b4-b4de-e1839d24b848\" xlink:type=\"simple\"><polygon fill=\"#FFFFFF\" points=\"16,6,143,6,150,28.2969,719,28.2969,719,294,16,294,16,6\" style=\"stroke: #000000; stroke-width: 1.5;\"/><line style=\"stroke: #000000; stroke-width: 1.5;\" x1=\"16\" x2=\"150\" y1=\"28.2969\" y2=\"28.2969\"/><text fill=\"#000000\" font-family=\"sans-serif\" font-size=\"14\" font-weight=\"bold\" lengthAdjust=\"spacingAndGlyphs\" textLength=\"121\" x=\"20\" y=\"20.9951\">RequirementTest</text></a><!--MD5=[b4997ac47864f28c2f74865a473b2911]\n",
       "class E2--><a href=\"psysml:8e8b9929-fb62-44f3-bb6e-73f88688eaf1\" target=\"_top\" title=\"psysml:8e8b9929-fb62-44f3-bb6e-73f88688eaf1\" xlink:actuate=\"onRequest\" xlink:href=\"psysml:8e8b9929-fb62-44f3-bb6e-73f88688eaf1\" xlink:show=\"new\" xlink:title=\"psysml:8e8b9929-fb62-44f3-bb6e-73f88688eaf1\" xlink:type=\"simple\"><rect fill=\"#FFFFFF\" height=\"45.9375\" id=\"E2\" style=\"stroke: #383838; stroke-width: 1.5;\" width=\"108\" x=\"231\" y=\"41\"/><text fill=\"#000000\" font-family=\"sans-serif\" font-size=\"12\" font-style=\"italic\" lengthAdjust=\"spacingAndGlyphs\" textLength=\"106\" x=\"232\" y=\"57.1387\">«constraint  def»</text><text fill=\"#000000\" font-family=\"sans-serif\" font-size=\"12\" lengthAdjust=\"spacingAndGlyphs\" textLength=\"8\" x=\"281\" y=\"71.1074\">C</text><line style=\"stroke: #383838; stroke-width: 1.5;\" x1=\"232\" x2=\"338\" y1=\"78.9375\" y2=\"78.9375\"/></a><!--MD5=[09b614a08d8cba4a07c9adeb5e0fee81]\n",
       "class E3--><a href=\"psysml:8dab2afb-478b-48f2-a7f7-bb2b245c05ea\" target=\"_top\" title=\"psysml:8dab2afb-478b-48f2-a7f7-bb2b245c05ea\" xlink:actuate=\"onRequest\" xlink:href=\"psysml:8dab2afb-478b-48f2-a7f7-bb2b245c05ea\" xlink:show=\"new\" xlink:title=\"psysml:8dab2afb-478b-48f2-a7f7-bb2b245c05ea\" xlink:type=\"simple\"><rect fill=\"#FFFFFF\" height=\"45.9375\" id=\"E3\" rx=\"10\" ry=\"10\" style=\"stroke: #383838; stroke-width: 1.5;\" width=\"80\" x=\"32\" y=\"41\"/><text fill=\"#000000\" font-family=\"sans-serif\" font-size=\"12\" font-style=\"italic\" lengthAdjust=\"spacingAndGlyphs\" textLength=\"78\" x=\"33\" y=\"57.1387\">«constraint»</text><text fill=\"#000000\" font-family=\"sans-serif\" font-size=\"12\" lengthAdjust=\"spacingAndGlyphs\" textLength=\"23\" x=\"58.5\" y=\"71.1074\">c: C</text><line style=\"stroke: #383838; stroke-width: 1.5;\" x1=\"33\" x2=\"111\" y1=\"78.9375\" y2=\"78.9375\"/></a><!--MD5=[ebbe1d658d1005bcc118a6aa81145e00]\n",
       "class E4--><a href=\"psysml:cae76f8a-948f-454f-8648-301efab5060e\" target=\"_top\" title=\"psysml:cae76f8a-948f-454f-8648-301efab5060e\" xlink:actuate=\"onRequest\" xlink:href=\"psysml:cae76f8a-948f-454f-8648-301efab5060e\" xlink:show=\"new\" xlink:title=\"psysml:cae76f8a-948f-454f-8648-301efab5060e\" xlink:type=\"simple\"><rect fill=\"#FFFFFF\" height=\"66.7422\" id=\"E4\" style=\"stroke: #383838; stroke-width: 1.5;\" width=\"121\" x=\"400\" y=\"111.5\"/><text fill=\"#000000\" font-family=\"sans-serif\" font-size=\"12\" font-style=\"italic\" lengthAdjust=\"spacingAndGlyphs\" textLength=\"119\" x=\"401\" y=\"127.6387\">«requirement  def»</text><text fill=\"#000000\" font-family=\"sans-serif\" font-size=\"12\" lengthAdjust=\"spacingAndGlyphs\" textLength=\"8\" x=\"456.5\" y=\"141.6074\">R</text><line style=\"stroke: #383838; stroke-width: 1.5;\" x1=\"401\" x2=\"520\" y1=\"149.4375\" y2=\"149.4375\"/><text fill=\"#000000\" font-family=\"sans-serif\" font-size=\"11\" lengthAdjust=\"spacingAndGlyphs\" textLength=\"0\" x=\"410\" y=\"163.6479\"/><line style=\"stroke: #383838; stroke-width: 1.0;\" x1=\"401\" x2=\"520\" y1=\"170.2422\" y2=\"170.2422\"/></a><!--MD5=[2156ba9850f5573cc1fc38a6a4b2f02b]\n",
       "class E7--><a href=\"psysml:70e6cc11-a878-4419-9a48-d32cb5df9816\" target=\"_top\" title=\"psysml:70e6cc11-a878-4419-9a48-d32cb5df9816\" xlink:actuate=\"onRequest\" xlink:href=\"psysml:70e6cc11-a878-4419-9a48-d32cb5df9816\" xlink:show=\"new\" xlink:title=\"psysml:70e6cc11-a878-4419-9a48-d32cb5df9816\" xlink:type=\"simple\"><rect fill=\"#FFFFFF\" height=\"45.9375\" id=\"E7\" rx=\"10\" ry=\"10\" style=\"stroke: #383838; stroke-width: 1.5;\" width=\"93\" x=\"596\" y=\"163\"/><text fill=\"#000000\" font-family=\"sans-serif\" font-size=\"12\" font-style=\"italic\" lengthAdjust=\"spacingAndGlyphs\" textLength=\"91\" x=\"597\" y=\"179.1387\">«requirement»</text><text fill=\"#000000\" font-family=\"sans-serif\" font-size=\"12\" lengthAdjust=\"spacingAndGlyphs\" text-decoration=\"line-through\" textLength=\"51\" x=\"617\" y=\"193.1074\">noname</text><line style=\"stroke: #383838; stroke-width: 1.5;\" x1=\"597\" x2=\"688\" y1=\"200.9375\" y2=\"200.9375\"/></a><!--MD5=[b9389687b975829384b498ac4b7476b2]\n",
       "class E8--><a href=\"psysml:5c5c4776-1d3a-4700-8516-1d3a67d779f4\" target=\"_top\" title=\"psysml:5c5c4776-1d3a-4700-8516-1d3a67d779f4\" xlink:actuate=\"onRequest\" xlink:href=\"psysml:5c5c4776-1d3a-4700-8516-1d3a67d779f4\" xlink:show=\"new\" xlink:title=\"psysml:5c5c4776-1d3a-4700-8516-1d3a67d779f4\" xlink:type=\"simple\"><rect fill=\"#FFFFFF\" height=\"66.7422\" id=\"E8\" style=\"stroke: #383838; stroke-width: 1.5;\" width=\"121\" x=\"582\" y=\"60.5\"/><text fill=\"#000000\" font-family=\"sans-serif\" font-size=\"12\" font-style=\"italic\" lengthAdjust=\"spacingAndGlyphs\" textLength=\"119\" x=\"583\" y=\"76.6387\">«requirement  def»</text><text fill=\"#000000\" font-family=\"sans-serif\" font-size=\"12\" lengthAdjust=\"spacingAndGlyphs\" textLength=\"5\" x=\"629.5\" y=\"90.6074\">[</text><text fill=\"#000000\" font-family=\"sans-serif\" font-size=\"12\" font-weight=\"bold\" lengthAdjust=\"spacingAndGlyphs\" textLength=\"8\" x=\"634.5\" y=\"90.6074\">1</text><text fill=\"#000000\" font-family=\"sans-serif\" font-size=\"12\" lengthAdjust=\"spacingAndGlyphs\" textLength=\"17\" x=\"642.5\" y=\"90.6074\">] A</text><line style=\"stroke: #383838; stroke-width: 1.5;\" x1=\"583\" x2=\"702\" y1=\"98.4375\" y2=\"98.4375\"/><text fill=\"#000000\" font-family=\"sans-serif\" font-size=\"11\" lengthAdjust=\"spacingAndGlyphs\" textLength=\"24\" x=\"588\" y=\"112.6479\">Text</text><line style=\"stroke: #383838; stroke-width: 1.0;\" x1=\"583\" x2=\"702\" y1=\"119.2422\" y2=\"119.2422\"/></a><!--MD5=[fd4143e9d270a159db93a4ea2a975926]\n",
       "class E9--><a href=\"psysml:f2fc2205-4b84-4313-b340-24ee025c15cf\" target=\"_top\" title=\"psysml:f2fc2205-4b84-4313-b340-24ee025c15cf\" xlink:actuate=\"onRequest\" xlink:href=\"psysml:f2fc2205-4b84-4313-b340-24ee025c15cf\" xlink:show=\"new\" xlink:title=\"psysml:f2fc2205-4b84-4313-b340-24ee025c15cf\" xlink:type=\"simple\"><rect fill=\"#FFFFFF\" height=\"45.9375\" id=\"E9\" style=\"stroke: #383838; stroke-width: 1.5;\" width=\"121\" x=\"400\" y=\"217\"/><text fill=\"#000000\" font-family=\"sans-serif\" font-size=\"12\" font-style=\"italic\" lengthAdjust=\"spacingAndGlyphs\" textLength=\"119\" x=\"401\" y=\"233.1387\">«requirement  def»</text><text fill=\"#000000\" font-family=\"sans-serif\" font-size=\"12\" lengthAdjust=\"spacingAndGlyphs\" textLength=\"16\" x=\"452.5\" y=\"247.1074\">R1</text><line style=\"stroke: #383838; stroke-width: 1.5;\" x1=\"401\" x2=\"520\" y1=\"254.9375\" y2=\"254.9375\"/></a><!--MD5=[1dd1bfd58a279cf63c5f349dbc8fc6a1]\n",
       "class E11--><a href=\"psysml:4203d305-f881-4dfa-bcc5-a82b5aac35c4\" target=\"_top\" title=\"psysml:4203d305-f881-4dfa-bcc5-a82b5aac35c4\" xlink:actuate=\"onRequest\" xlink:href=\"psysml:4203d305-f881-4dfa-bcc5-a82b5aac35c4\" xlink:show=\"new\" xlink:title=\"psysml:4203d305-f881-4dfa-bcc5-a82b5aac35c4\" xlink:type=\"simple\"><rect fill=\"#FFFFFF\" height=\"45.9375\" id=\"E11\" rx=\"10\" ry=\"10\" style=\"stroke: #383838; stroke-width: 1.5;\" width=\"42\" x=\"51\" y=\"212\"/><text fill=\"#000000\" font-family=\"sans-serif\" font-size=\"12\" font-style=\"italic\" lengthAdjust=\"spacingAndGlyphs\" textLength=\"40\" x=\"52\" y=\"228.1387\">«part»</text><text fill=\"#000000\" font-family=\"sans-serif\" font-size=\"12\" lengthAdjust=\"spacingAndGlyphs\" textLength=\"8\" x=\"68\" y=\"242.1074\">p</text><line style=\"stroke: #383838; stroke-width: 1.5;\" x1=\"52\" x2=\"92\" y1=\"249.9375\" y2=\"249.9375\"/></a><!--MD5=[49a0ec8f00dab7302a31f22d0f0fe584]\n",
       "class E12--><a href=\"psysml:d0dbee69-5f2e-4ac4-ba4b-4aca7380bae7\" target=\"_top\" title=\"psysml:d0dbee69-5f2e-4ac4-ba4b-4aca7380bae7\" xlink:actuate=\"onRequest\" xlink:href=\"psysml:d0dbee69-5f2e-4ac4-ba4b-4aca7380bae7\" xlink:show=\"new\" xlink:title=\"psysml:d0dbee69-5f2e-4ac4-ba4b-4aca7380bae7\" xlink:type=\"simple\"><rect fill=\"#FFFFFF\" height=\"45.9375\" id=\"E12\" rx=\"10\" ry=\"10\" style=\"stroke: #383838; stroke-width: 1.5;\" width=\"42\" x=\"51\" y=\"122\"/><text fill=\"#000000\" font-family=\"sans-serif\" font-size=\"12\" font-style=\"italic\" lengthAdjust=\"spacingAndGlyphs\" textLength=\"40\" x=\"52\" y=\"138.1387\">«part»</text><text fill=\"#000000\" font-family=\"sans-serif\" font-size=\"12\" lengthAdjust=\"spacingAndGlyphs\" textLength=\"8\" x=\"68\" y=\"152.1074\">q</text><line style=\"stroke: #383838; stroke-width: 1.5;\" x1=\"52\" x2=\"92\" y1=\"159.9375\" y2=\"159.9375\"/></a><!--MD5=[ee3c913d1a06f366521f9ef512b67efe]\n",
       "class E13--><a href=\"psysml:aee31540-9ea4-41ee-8ebb-8555bfaf03fb\" target=\"_top\" title=\"psysml:aee31540-9ea4-41ee-8ebb-8555bfaf03fb\" xlink:actuate=\"onRequest\" xlink:href=\"psysml:aee31540-9ea4-41ee-8ebb-8555bfaf03fb\" xlink:show=\"new\" xlink:title=\"psysml:aee31540-9ea4-41ee-8ebb-8555bfaf03fb\" xlink:type=\"simple\"><rect fill=\"#FFFFFF\" height=\"45.9375\" id=\"E13\" rx=\"10\" ry=\"10\" style=\"stroke: #383838; stroke-width: 1.5;\" width=\"93\" x=\"238.5\" y=\"122\"/><text fill=\"#000000\" font-family=\"sans-serif\" font-size=\"12\" font-style=\"italic\" lengthAdjust=\"spacingAndGlyphs\" textLength=\"91\" x=\"239.5\" y=\"138.1387\">«requirement»</text><text fill=\"#000000\" font-family=\"sans-serif\" font-size=\"12\" lengthAdjust=\"spacingAndGlyphs\" textLength=\"21\" x=\"272.5\" y=\"152.1074\">r: R</text><line style=\"stroke: #383838; stroke-width: 1.5;\" x1=\"239.5\" x2=\"330.5\" y1=\"159.9375\" y2=\"159.9375\"/></a><!--MD5=[bee11217b2f71d958a27249dc326068c]\n",
       "class E14--><a href=\"psysml:5c4fb90e-2e7f-411e-8437-1e0e9b0bd00e\" target=\"_top\" title=\"psysml:5c4fb90e-2e7f-411e-8437-1e0e9b0bd00e\" xlink:actuate=\"onRequest\" xlink:href=\"psysml:5c4fb90e-2e7f-411e-8437-1e0e9b0bd00e\" xlink:show=\"new\" xlink:title=\"psysml:5c4fb90e-2e7f-411e-8437-1e0e9b0bd00e\" xlink:type=\"simple\"><rect fill=\"#FFFFFF\" height=\"45.9375\" id=\"E14\" rx=\"10\" ry=\"10\" style=\"stroke: #383838; stroke-width: 1.5;\" width=\"93\" x=\"238.5\" y=\"217\"/><text fill=\"#000000\" font-family=\"sans-serif\" font-size=\"12\" font-style=\"italic\" lengthAdjust=\"spacingAndGlyphs\" textLength=\"91\" x=\"239.5\" y=\"233.1387\">«requirement»</text><text fill=\"#000000\" font-family=\"sans-serif\" font-size=\"12\" lengthAdjust=\"spacingAndGlyphs\" textLength=\"37\" x=\"264.5\" y=\"247.1074\">r1: R1</text><line style=\"stroke: #383838; stroke-width: 1.5;\" x1=\"239.5\" x2=\"330.5\" y1=\"254.9375\" y2=\"254.9375\"/></a><!--MD5=[05d275557350bfb9b23a4ef7222b4c39]\n",
       "link E3 to E2--><a href=\"psysml:1cfa9d08-8b1e-49ae-8f22-7ec5c2d68c94\" target=\"_top\" title=\"psysml:1cfa9d08-8b1e-49ae-8f22-7ec5c2d68c94\" xlink:actuate=\"onRequest\" xlink:href=\"psysml:1cfa9d08-8b1e-49ae-8f22-7ec5c2d68c94\" xlink:show=\"new\" xlink:title=\"psysml:1cfa9d08-8b1e-49ae-8f22-7ec5c2d68c94\" xlink:type=\"simple\"><path d=\"M112.1,52.63 C121.79,50.3 132.2,48.19 142,47 C168.03,43.84 174.91,44.36 201,47 C204.17,47.32 207.4,47.71 210.65,48.15 \" fill=\"none\" id=\"E3-&gt;E2\" style=\"stroke: #383838; stroke-width: 1.0;\"/><polygon fill=\"#FFFFFF\" points=\"230.67,51.42,210.7894,55.2619,213.0488,41.4454,230.67,51.42\" style=\"stroke: #383838; stroke-width: 1.0;\"/><ellipse cx=\"205.4869\" cy=\"52.3682\" fill=\"#383838\" rx=\"2\" ry=\"2\" style=\"stroke: #383838; stroke-width: 1.0;\"/><ellipse cx=\"207.1007\" cy=\"42.4993\" fill=\"#383838\" rx=\"2\" ry=\"2\" style=\"stroke: #383838; stroke-width: 1.0;\"/></a><!--MD5=[722ff4eef345aa10242dad44df0e98c7]\n",
       "reverse link E4 to E7--><a href=\"psysml:8957256b-d423-4c87-844e-8026b3f5c553\" target=\"_top\" title=\"psysml:8957256b-d423-4c87-844e-8026b3f5c553\" xlink:actuate=\"onRequest\" xlink:href=\"psysml:8957256b-d423-4c87-844e-8026b3f5c553\" xlink:show=\"new\" xlink:title=\"psysml:8957256b-d423-4c87-844e-8026b3f5c553\" xlink:type=\"simple\"><path d=\"M534.18,161.56 C554.99,166.3 577.08,171.33 595.77,175.58 \" fill=\"none\" id=\"E4&lt;-E7\" style=\"stroke: #383838; stroke-width: 1.0;\"/><polygon fill=\"#383838\" points=\"521.44,158.65,526.4033,163.8812,533.1411,161.3117,528.1778,156.0805,521.44,158.65\" style=\"stroke: #383838; stroke-width: 1.0;\"/><text fill=\"#000000\" font-family=\"sans-serif\" font-size=\"13\" lengthAdjust=\"spacingAndGlyphs\" textLength=\"7\" x=\"581.0785\" y=\"187.2147\">*</text></a><!--MD5=[c6fc7cdb0cabde04948078cf183fa696]\n",
       "reverse link E4 to E8--><a href=\"psysml:e7993699-2e90-4c6e-9ce7-c90f60868f83\" target=\"_top\" title=\"psysml:e7993699-2e90-4c6e-9ce7-c90f60868f83\" xlink:actuate=\"onRequest\" xlink:href=\"psysml:e7993699-2e90-4c6e-9ce7-c90f60868f83\" xlink:show=\"new\" xlink:title=\"psysml:e7993699-2e90-4c6e-9ce7-c90f60868f83\" xlink:type=\"simple\"><path d=\"M536.34,123.8 C551.51,119.5 567.27,115.03 581.82,110.91 \" fill=\"none\" id=\"E4&lt;-E8\" style=\"stroke: #383838; stroke-width: 1.0;\"/><ellipse cx=\"529.1373\" cy=\"125.8404\" fill=\"#FFFFFF\" rx=\"8\" ry=\"8\" style=\"stroke: #383838; stroke-width: 1.0;\"/><line style=\"stroke: #383838; stroke-width: 1.0;\" x1=\"536.8347\" x2=\"521.44\" y1=\"123.6607\" y2=\"128.02\"/><line style=\"stroke: #383838; stroke-width: 1.0;\" x1=\"531.317\" x2=\"526.9577\" y1=\"133.5377\" y2=\"118.143\"/></a><!--MD5=[062ed86c389d1a88f61c6380d0491e17]\n",
       "reverse link E12 to E13--><a href=\"psysml:0f26ba0d-7372-4c44-875c-adf3c35e17b9\" target=\"_top\" title=\"psysml:0f26ba0d-7372-4c44-875c-adf3c35e17b9\" xlink:actuate=\"onRequest\" xlink:href=\"psysml:0f26ba0d-7372-4c44-875c-adf3c35e17b9\" xlink:show=\"new\" xlink:title=\"psysml:0f26ba0d-7372-4c44-875c-adf3c35e17b9\" xlink:type=\"simple\"><path d=\"M102.35,115.66 C105.73,111.85 109.03,107.9 112,104 C127.69,83.38 119.45,66.77 142,54 C164.82,41.08 178.18,41.08 201,54 C223.55,66.77 213.79,84.63 231,104 C236.64,110.35 243.37,116.41 250.12,121.83 \" fill=\"none\" id=\"E12&lt;-E13\" style=\"stroke: #383838; stroke-width: 1.0;\"/><polygon fill=\"#383838\" points=\"93.37,125.35,100.382,123.6674,101.5258,116.5476,94.5137,118.2302,93.37,125.35\" style=\"stroke: #383838; stroke-width: 1.0;\"/></a><!--MD5=[e2a9ac97dcd3257bb5342dae06547bad]\n",
       "link E12 to E13--><a href=\"psysml:f5a4eec3-f375-4f03-819b-6c5c8dc7728c\" target=\"_top\" title=\"psysml:f5a4eec3-f375-4f03-819b-6c5c8dc7728c\" xlink:actuate=\"onRequest\" xlink:href=\"psysml:f5a4eec3-f375-4f03-819b-6c5c8dc7728c\" xlink:show=\"new\" xlink:title=\"psysml:f5a4eec3-f375-4f03-819b-6c5c8dc7728c\" xlink:type=\"simple\"><path d=\"M93.2,131.96 C106.48,124.19 124.57,115.06 142,111 C167.54,105.05 175.27,105.93 201,111 C211.86,113.14 223.1,116.71 233.66,120.76 \" fill=\"none\" id=\"E12-&gt;E13\" style=\"stroke: #383838; stroke-width: 1.0; stroke-dasharray: 7.0,7.0;\"/><polygon fill=\"#383838\" points=\"238.46,122.65,231.5445,115.6374,233.8059,120.8226,228.6207,123.084,238.46,122.65\" style=\"stroke: #383838; stroke-width: 1.0;\"/><text fill=\"#000000\" font-family=\"sans-serif\" font-size=\"13\" lengthAdjust=\"spacingAndGlyphs\" textLength=\"57\" x=\"143\" y=\"103.0669\">«satisfy»</text></a><!--MD5=[017847e01ff9a8bd19f247411074f987]\n",
       "link E13 to E4--><a href=\"psysml:e01bb7f1-206a-408f-a898-0799ec242df4\" target=\"_top\" title=\"psysml:e01bb7f1-206a-408f-a898-0799ec242df4\" xlink:actuate=\"onRequest\" xlink:href=\"psysml:e01bb7f1-206a-408f-a898-0799ec242df4\" xlink:show=\"new\" xlink:title=\"psysml:e01bb7f1-206a-408f-a898-0799ec242df4\" xlink:type=\"simple\"><path d=\"M331.59,145 C346.35,145 363.19,145 379.69,145 \" fill=\"none\" id=\"E13-&gt;E4\" style=\"stroke: #383838; stroke-width: 1.0;\"/><polygon fill=\"#FFFFFF\" points=\"399.85,145,380.85,152,380.85,138,399.85,145\" style=\"stroke: #383838; stroke-width: 1.0;\"/><ellipse cx=\"375.15\" cy=\"150\" fill=\"#383838\" rx=\"2\" ry=\"2\" style=\"stroke: #383838; stroke-width: 1.0;\"/><ellipse cx=\"375.15\" cy=\"140\" fill=\"#383838\" rx=\"2\" ry=\"2\" style=\"stroke: #383838; stroke-width: 1.0;\"/></a><!--MD5=[60f911bb19596b289db4a22769f8105a]\n",
       "link E11 to E13--><a href=\"psysml:e806deaf-0ce2-4d10-9e57-833502fc32ee\" target=\"_top\" title=\"psysml:e806deaf-0ce2-4d10-9e57-833502fc32ee\" xlink:actuate=\"onRequest\" xlink:href=\"psysml:e806deaf-0ce2-4d10-9e57-833502fc32ee\" xlink:show=\"new\" xlink:title=\"psysml:e806deaf-0ce2-4d10-9e57-833502fc32ee\" xlink:type=\"simple\"><path d=\"M93.3,228.7 C118.84,220.54 163.85,205.42 201,189 C213.38,183.53 226.45,176.98 238.47,170.63 \" fill=\"none\" id=\"E11-&gt;E13\" style=\"stroke: #383838; stroke-width: 1.0; stroke-dasharray: 7.0,7.0;\"/><polygon fill=\"#383838\" points=\"243.2,168.11,233.3768,168.8208,238.7894,170.4652,237.1451,175.8778,243.2,168.11\" style=\"stroke: #383838; stroke-width: 1.0;\"/><text fill=\"#000000\" font-family=\"sans-serif\" font-size=\"13\" lengthAdjust=\"spacingAndGlyphs\" textLength=\"57\" x=\"143\" y=\"185.0669\">«satisfy»</text></a><!--MD5=[0c677eb374079406c87b74cd1f5a339d]\n",
       "link E14 to E9--><a href=\"psysml:d6ece11e-fb98-4dd6-9106-0f6846b0bd9f\" target=\"_top\" title=\"psysml:d6ece11e-fb98-4dd6-9106-0f6846b0bd9f\" xlink:actuate=\"onRequest\" xlink:href=\"psysml:d6ece11e-fb98-4dd6-9106-0f6846b0bd9f\" xlink:show=\"new\" xlink:title=\"psysml:d6ece11e-fb98-4dd6-9106-0f6846b0bd9f\" xlink:type=\"simple\"><path d=\"M331.59,240 C346.35,240 363.19,240 379.69,240 \" fill=\"none\" id=\"E14-&gt;E9\" style=\"stroke: #383838; stroke-width: 1.0;\"/><polygon fill=\"#FFFFFF\" points=\"399.85,240,380.85,247,380.85,233,399.85,240\" style=\"stroke: #383838; stroke-width: 1.0;\"/><ellipse cx=\"375.15\" cy=\"245\" fill=\"#383838\" rx=\"2\" ry=\"2\" style=\"stroke: #383838; stroke-width: 1.0;\"/><ellipse cx=\"375.15\" cy=\"235\" fill=\"#383838\" rx=\"2\" ry=\"2\" style=\"stroke: #383838; stroke-width: 1.0;\"/></a><!--MD5=[9c1c40551dcf5c2fca147626a786a7cd]\n",
       "link E11 to E14--><a href=\"psysml:feaea2f2-720b-4dbc-ba1d-0aec40f00046\" target=\"_top\" title=\"psysml:feaea2f2-720b-4dbc-ba1d-0aec40f00046\" xlink:actuate=\"onRequest\" xlink:href=\"psysml:feaea2f2-720b-4dbc-ba1d-0aec40f00046\" xlink:show=\"new\" xlink:title=\"psysml:feaea2f2-720b-4dbc-ba1d-0aec40f00046\" xlink:type=\"simple\"><path d=\"M93.13,239.07 C106.84,241.63 125.43,244.69 142,246 C172.09,248.38 205.86,247.12 232.91,245.15 \" fill=\"none\" id=\"E11-&gt;E14\" style=\"stroke: #383838; stroke-width: 1.0; stroke-dasharray: 7.0,7.0;\"/><polygon fill=\"#383838\" points=\"238.22,244.75,228.9477,241.4297,233.2338,245.1215,229.542,249.4076,238.22,244.75\" style=\"stroke: #383838; stroke-width: 1.0;\"/><text fill=\"#000000\" font-family=\"sans-serif\" font-size=\"13\" lengthAdjust=\"spacingAndGlyphs\" textLength=\"57\" x=\"143\" y=\"242.0669\">«satisfy»</text></a><!--MD5=[d53cb08dffc8689d16e38c8e194e9adc]\n",
       "link E12 to E14--><a href=\"psysml:f5704f7b-2601-4abd-90b0-2ec51a978e80\" target=\"_top\" title=\"psysml:f5704f7b-2601-4abd-90b0-2ec51a978e80\" xlink:actuate=\"onRequest\" xlink:href=\"psysml:f5704f7b-2601-4abd-90b0-2ec51a978e80\" xlink:show=\"new\" xlink:title=\"psysml:f5704f7b-2601-4abd-90b0-2ec51a978e80\" xlink:type=\"simple\"><path d=\"M93.08,145.35 C119.16,146.51 165.56,151.05 201,168 C223.53,178.78 244.72,197.36 260.05,212.94 \" fill=\"none\" id=\"E12-&gt;E14\" style=\"stroke: #383838; stroke-width: 1.0; stroke-dasharray: 7.0,7.0;\"/><polygon fill=\"#383838\" points=\"263.82,216.84,260.4522,207.5849,260.3493,213.2408,254.6934,213.1379,263.82,216.84\" style=\"stroke: #383838; stroke-width: 1.0;\"/><text fill=\"#000000\" font-family=\"sans-serif\" font-size=\"13\" lengthAdjust=\"spacingAndGlyphs\" textLength=\"57\" x=\"143\" y=\"147.0669\">«satisfy»</text></a><!--MD5=[553e8f41c87c950e3e71d5a3ea2469c0]\n",
       "@startuml\r\n",
       "left to right direction\r\n",
       "skinparam monochrome true\r\n",
       "skinparam classbackgroundcolor white\r\n",
       "skinparam shadowing false\r\n",
       "skinparam wrapWidth 300\r\n",
       "hide circle\r\n",
       "\r\n",
       "package \"RequirementTest\" as E1  [[psysml:2a075407-fc8d-47b4-b4de-e1839d24b848 ]]  {\r\n",
       "comp def \"C\" as E2  <<(T,blue) constraint  def>> [[psysml:8e8b9929-fb62-44f3-bb6e-73f88688eaf1 ]] {\r\n",
       "}\r\n",
       "comp usage \"c: C \" as E3  <<(T,blue) constraint>> [[psysml:8dab2afb-478b-48f2-a7f7-bb2b245c05ea ]] {\r\n",
       "}\r\n",
       "comp def \"R\" as E4  <<(T,blue) requirement  def>> [[psysml:cae76f8a-948f-454f-8648-301efab5060e ]] {\r\n",
       "\r\n",
       "- -\r\n",
       "}\r\n",
       "comp usage \"<s>noname</s>\" as E7  <<(T,blue) requirement>> [[psysml:70e6cc11-a878-4419-9a48-d32cb5df9816 ]] {\r\n",
       "}\r\n",
       "comp def \" [<b>1</b>] A\" as E8  <<(T,blue) requirement  def>> [[psysml:5c5c4776-1d3a-4700-8516-1d3a67d779f4 ]] {\r\n",
       "Text\r\n",
       "- -\r\n",
       "}\r\n",
       "comp def \"R1\" as E9  <<(T,blue) requirement  def>> [[psysml:f2fc2205-4b84-4313-b340-24ee025c15cf ]] {\r\n",
       "}\r\n",
       "comp usage \"p\" as E11  <<(T,blue) part>> [[psysml:4203d305-f881-4dfa-bcc5-a82b5aac35c4 ]] {\r\n",
       "}\r\n",
       "comp usage \"q\" as E12  <<(T,blue) part>> [[psysml:d0dbee69-5f2e-4ac4-ba4b-4aca7380bae7 ]] {\r\n",
       "}\r\n",
       "comp usage \"r: R \" as E13  <<(T,blue) requirement>> [[psysml:aee31540-9ea4-41ee-8ebb-8555bfaf03fb ]] {\r\n",
       "}\r\n",
       "comp usage \"r1: R1 \" as E14  <<(T,blue) requirement>> [[psysml:5c4fb90e-2e7f-411e-8437-1e0e9b0bd00e ]] {\r\n",
       "}\r\n",
       "}\r\n",
       "E3 - -:|> E2 [[psysml:1cfa9d08-8b1e-49ae-8f22-7ec5c2d68c94 ]] \r\n",
       "E4 *- - \"*\"E7 [[psysml:8957256b-d423-4c87-844e-8026b3f5c553 ]] \r\n",
       "E4 +- - E8 [[psysml:e7993699-2e90-4c6e-9ce7-c90f60868f83 ]] \r\n",
       "E12 *- - E13 [[psysml:0f26ba0d-7372-4c44-875c-adf3c35e17b9 ]] \r\n",
       "E13 - -:|> E4 [[psysml:e01bb7f1-206a-408f-a898-0799ec242df4 ]] \r\n",
       "E11 ..> E13 [[psysml:e806deaf-0ce2-4d10-9e57-833502fc32ee ]] : <<satisfy>>\r\n",
       "E12 ..> E13 [[psysml:f5a4eec3-f375-4f03-819b-6c5c8dc7728c ]] : <<satisfy>>\r\n",
       "E14 - -:|> E9 [[psysml:d6ece11e-fb98-4dd6-9106-0f6846b0bd9f ]] \r\n",
       "E11 ..> E14 [[psysml:feaea2f2-720b-4dbc-ba1d-0aec40f00046 ]] : <<satisfy>>\r\n",
       "E12 ..> E14 [[psysml:f5704f7b-2601-4abd-90b0-2ec51a978e80 ]] : <<satisfy>>\r\n",
       "@enduml\r\n",
       "\n",
       "PlantUML version 1.2020.13(Sat Jun 13 12:26:38 UTC 2020)\n",
       "(EPL source distribution)\n",
       "Java Runtime: OpenJDK Runtime Environment\n",
       "JVM: OpenJDK 64-Bit Server VM\n",
       "Default Encoding: UTF-8\n",
       "Language: en\n",
       "Country: null\n",
       "--></g></svg>"
      ]
     },
     "execution_count": 22,
     "metadata": {},
     "output_type": "execute_result"
    }
   ],
   "source": [
    "%viz --style=\"LR\" --view=\"MIXED\" \"RequirementTest\""
   ]
  },
  {
   "cell_type": "code",
   "execution_count": 23,
   "id": "31a9388a",
   "metadata": {
    "execution": {
     "iopub.execute_input": "2021-10-25T08:21:13.154087Z",
     "iopub.status.busy": "2021-10-25T08:21:13.153774Z",
     "iopub.status.idle": "2021-10-25T08:21:13.212725Z",
     "shell.execute_reply": "2021-10-25T08:21:13.212360Z"
    }
   },
   "outputs": [
    {
     "data": {
      "image/svg+xml": [
       "<?xml version=\"1.0\" encoding=\"UTF-8\" standalone=\"no\"?><svg xmlns=\"http://www.w3.org/2000/svg\" xmlns:xlink=\"http://www.w3.org/1999/xlink\" contentScriptType=\"application/ecmascript\" contentStyleType=\"text/css\" height=\"494px\" preserveAspectRatio=\"none\" style=\"width:475px;height:494px;\" version=\"1.1\" viewBox=\"0 0 475 494\" width=\"475px\" zoomAndPan=\"magnify\"><defs><filter height=\"300%\" id=\"f1wxc2idjjbobh\" width=\"300%\" x=\"-1\" y=\"-1\"><feGaussianBlur result=\"blurOut\" stdDeviation=\"2.0\"/><feColorMatrix in=\"blurOut\" result=\"blurOut2\" type=\"matrix\" values=\"0 0 0 0 0 0 0 0 0 0 0 0 0 0 0 0 0 0 .4 0\"/><feOffset dx=\"4.0\" dy=\"4.0\" in=\"blurOut2\" result=\"blurOut3\"/><feBlend in=\"SourceGraphic\" in2=\"blurOut3\" mode=\"normal\"/></filter></defs><g><!--MD5=[fbc87193dbaf4d95561dea2c320d4a47]\n",
       "cluster E1--><a href=\"psysml:2a075407-fc8d-47b4-b4de-e1839d24b848\" target=\"_top\" title=\"psysml:2a075407-fc8d-47b4-b4de-e1839d24b848\" xlink:actuate=\"onRequest\" xlink:href=\"psysml:2a075407-fc8d-47b4-b4de-e1839d24b848\" xlink:show=\"new\" xlink:title=\"psysml:2a075407-fc8d-47b4-b4de-e1839d24b848\" xlink:type=\"simple\"><polygon fill=\"#FFFFFF\" filter=\"url(#f1wxc2idjjbobh)\" points=\"16,6,143,6,150,28.2969,453,28.2969,453,482,16,482,16,6\" style=\"stroke: #000000; stroke-width: 1.5;\"/><line style=\"stroke: #000000; stroke-width: 1.5;\" x1=\"16\" x2=\"150\" y1=\"28.2969\" y2=\"28.2969\"/><text fill=\"#000000\" font-family=\"sans-serif\" font-size=\"14\" font-weight=\"bold\" lengthAdjust=\"spacingAndGlyphs\" textLength=\"121\" x=\"20\" y=\"20.9951\">RequirementTest</text></a><!--MD5=[b4997ac47864f28c2f74865a473b2911]\n",
       "class E2--><a href=\"psysml:8e8b9929-fb62-44f3-bb6e-73f88688eaf1\" target=\"_top\" title=\"psysml:8e8b9929-fb62-44f3-bb6e-73f88688eaf1\" xlink:actuate=\"onRequest\" xlink:href=\"psysml:8e8b9929-fb62-44f3-bb6e-73f88688eaf1\" xlink:show=\"new\" xlink:title=\"psysml:8e8b9929-fb62-44f3-bb6e-73f88688eaf1\" xlink:type=\"simple\"><rect fill=\"#FEFECE\" filter=\"url(#f1wxc2idjjbobh)\" height=\"45.9375\" id=\"E2\" style=\"stroke: #A80036; stroke-width: 1.5;\" width=\"108\" x=\"329\" y=\"164\"/><text fill=\"#000000\" font-family=\"sans-serif\" font-size=\"12\" font-style=\"italic\" lengthAdjust=\"spacingAndGlyphs\" textLength=\"106\" x=\"330\" y=\"180.1387\">«constraint  def»</text><text fill=\"#000000\" font-family=\"sans-serif\" font-size=\"12\" lengthAdjust=\"spacingAndGlyphs\" textLength=\"8\" x=\"379\" y=\"194.1074\">C</text><line style=\"stroke: #A80036; stroke-width: 1.5;\" x1=\"330\" x2=\"436\" y1=\"201.9375\" y2=\"201.9375\"/></a><!--MD5=[09b614a08d8cba4a07c9adeb5e0fee81]\n",
       "class E3--><a href=\"psysml:8dab2afb-478b-48f2-a7f7-bb2b245c05ea\" target=\"_top\" title=\"psysml:8dab2afb-478b-48f2-a7f7-bb2b245c05ea\" xlink:actuate=\"onRequest\" xlink:href=\"psysml:8dab2afb-478b-48f2-a7f7-bb2b245c05ea\" xlink:show=\"new\" xlink:title=\"psysml:8dab2afb-478b-48f2-a7f7-bb2b245c05ea\" xlink:type=\"simple\"><rect fill=\"#FEFECE\" filter=\"url(#f1wxc2idjjbobh)\" height=\"45.9375\" id=\"E3\" rx=\"10\" ry=\"10\" style=\"stroke: #A80036; stroke-width: 1.5;\" width=\"80\" x=\"357\" y=\"41\"/><text fill=\"#000000\" font-family=\"sans-serif\" font-size=\"12\" font-style=\"italic\" lengthAdjust=\"spacingAndGlyphs\" textLength=\"78\" x=\"358\" y=\"57.1387\">«constraint»</text><text fill=\"#000000\" font-family=\"sans-serif\" font-size=\"12\" lengthAdjust=\"spacingAndGlyphs\" textLength=\"23\" x=\"383.5\" y=\"71.1074\">c: C</text><line style=\"stroke: #A80036; stroke-width: 1.5;\" x1=\"358\" x2=\"436\" y1=\"78.9375\" y2=\"78.9375\"/></a><!--MD5=[ebbe1d658d1005bcc118a6aa81145e00]\n",
       "class E4--><a href=\"psysml:cae76f8a-948f-454f-8648-301efab5060e\" target=\"_top\" title=\"psysml:cae76f8a-948f-454f-8648-301efab5060e\" xlink:actuate=\"onRequest\" xlink:href=\"psysml:cae76f8a-948f-454f-8648-301efab5060e\" xlink:show=\"new\" xlink:title=\"psysml:cae76f8a-948f-454f-8648-301efab5060e\" xlink:type=\"simple\"><rect fill=\"#FEFECE\" filter=\"url(#f1wxc2idjjbobh)\" height=\"66.7422\" id=\"E4\" style=\"stroke: #A80036; stroke-width: 1.5;\" width=\"121\" x=\"188.5\" y=\"271\"/><text fill=\"#000000\" font-family=\"sans-serif\" font-size=\"12\" font-style=\"italic\" lengthAdjust=\"spacingAndGlyphs\" textLength=\"119\" x=\"189.5\" y=\"287.1387\">«requirement  def»</text><text fill=\"#000000\" font-family=\"sans-serif\" font-size=\"12\" lengthAdjust=\"spacingAndGlyphs\" textLength=\"8\" x=\"245\" y=\"301.1074\">R</text><line style=\"stroke: #A80036; stroke-width: 1.5;\" x1=\"189.5\" x2=\"308.5\" y1=\"308.9375\" y2=\"308.9375\"/><text fill=\"#000000\" font-family=\"sans-serif\" font-size=\"11\" lengthAdjust=\"spacingAndGlyphs\" textLength=\"0\" x=\"198.5\" y=\"323.1479\"/><line style=\"stroke: #A80036; stroke-width: 1.0;\" x1=\"189.5\" x2=\"308.5\" y1=\"329.7422\" y2=\"329.7422\"/></a><!--MD5=[2156ba9850f5573cc1fc38a6a4b2f02b]\n",
       "class E7--><a href=\"psysml:70e6cc11-a878-4419-9a48-d32cb5df9816\" target=\"_top\" title=\"psysml:70e6cc11-a878-4419-9a48-d32cb5df9816\" xlink:actuate=\"onRequest\" xlink:href=\"psysml:70e6cc11-a878-4419-9a48-d32cb5df9816\" xlink:show=\"new\" xlink:title=\"psysml:70e6cc11-a878-4419-9a48-d32cb5df9816\" xlink:type=\"simple\"><rect fill=\"#FEFECE\" filter=\"url(#f1wxc2idjjbobh)\" height=\"45.9375\" id=\"E7\" rx=\"10\" ry=\"10\" style=\"stroke: #A80036; stroke-width: 1.5;\" width=\"93\" x=\"144.5\" y=\"409.5\"/><text fill=\"#000000\" font-family=\"sans-serif\" font-size=\"12\" font-style=\"italic\" lengthAdjust=\"spacingAndGlyphs\" textLength=\"91\" x=\"145.5\" y=\"425.6387\">«requirement»</text><text fill=\"#000000\" font-family=\"sans-serif\" font-size=\"12\" lengthAdjust=\"spacingAndGlyphs\" text-decoration=\"line-through\" textLength=\"51\" x=\"165.5\" y=\"439.6074\">noname</text><line style=\"stroke: #A80036; stroke-width: 1.5;\" x1=\"145.5\" x2=\"236.5\" y1=\"447.4375\" y2=\"447.4375\"/></a><!--MD5=[b9389687b975829384b498ac4b7476b2]\n",
       "class E8--><a href=\"psysml:5c5c4776-1d3a-4700-8516-1d3a67d779f4\" target=\"_top\" title=\"psysml:5c5c4776-1d3a-4700-8516-1d3a67d779f4\" xlink:actuate=\"onRequest\" xlink:href=\"psysml:5c5c4776-1d3a-4700-8516-1d3a67d779f4\" xlink:show=\"new\" xlink:title=\"psysml:5c5c4776-1d3a-4700-8516-1d3a67d779f4\" xlink:type=\"simple\"><rect fill=\"#FEFECE\" filter=\"url(#f1wxc2idjjbobh)\" height=\"66.7422\" id=\"E8\" style=\"stroke: #A80036; stroke-width: 1.5;\" width=\"121\" x=\"272.5\" y=\"399\"/><text fill=\"#000000\" font-family=\"sans-serif\" font-size=\"12\" font-style=\"italic\" lengthAdjust=\"spacingAndGlyphs\" textLength=\"119\" x=\"273.5\" y=\"415.1387\">«requirement  def»</text><text fill=\"#000000\" font-family=\"sans-serif\" font-size=\"12\" lengthAdjust=\"spacingAndGlyphs\" textLength=\"5\" x=\"320\" y=\"429.1074\">[</text><text fill=\"#000000\" font-family=\"sans-serif\" font-size=\"12\" font-weight=\"bold\" lengthAdjust=\"spacingAndGlyphs\" textLength=\"8\" x=\"325\" y=\"429.1074\">1</text><text fill=\"#000000\" font-family=\"sans-serif\" font-size=\"12\" lengthAdjust=\"spacingAndGlyphs\" textLength=\"17\" x=\"333\" y=\"429.1074\">] A</text><line style=\"stroke: #A80036; stroke-width: 1.5;\" x1=\"273.5\" x2=\"392.5\" y1=\"436.9375\" y2=\"436.9375\"/><text fill=\"#000000\" font-family=\"sans-serif\" font-size=\"11\" lengthAdjust=\"spacingAndGlyphs\" textLength=\"24\" x=\"278.5\" y=\"451.1479\">Text</text><line style=\"stroke: #A80036; stroke-width: 1.0;\" x1=\"273.5\" x2=\"392.5\" y1=\"457.7422\" y2=\"457.7422\"/></a><!--MD5=[fd4143e9d270a159db93a4ea2a975926]\n",
       "class E9--><a href=\"psysml:f2fc2205-4b84-4313-b340-24ee025c15cf\" target=\"_top\" title=\"psysml:f2fc2205-4b84-4313-b340-24ee025c15cf\" xlink:actuate=\"onRequest\" xlink:href=\"psysml:f2fc2205-4b84-4313-b340-24ee025c15cf\" xlink:show=\"new\" xlink:title=\"psysml:f2fc2205-4b84-4313-b340-24ee025c15cf\" xlink:type=\"simple\"><rect fill=\"#FEFECE\" filter=\"url(#f1wxc2idjjbobh)\" height=\"45.9375\" id=\"E9\" style=\"stroke: #A80036; stroke-width: 1.5;\" width=\"121\" x=\"32.5\" y=\"281.5\"/><text fill=\"#000000\" font-family=\"sans-serif\" font-size=\"12\" font-style=\"italic\" lengthAdjust=\"spacingAndGlyphs\" textLength=\"119\" x=\"33.5\" y=\"297.6387\">«requirement  def»</text><text fill=\"#000000\" font-family=\"sans-serif\" font-size=\"12\" lengthAdjust=\"spacingAndGlyphs\" textLength=\"16\" x=\"85\" y=\"311.6074\">R1</text><line style=\"stroke: #A80036; stroke-width: 1.5;\" x1=\"33.5\" x2=\"152.5\" y1=\"319.4375\" y2=\"319.4375\"/></a><!--MD5=[1dd1bfd58a279cf63c5f349dbc8fc6a1]\n",
       "class E11--><a href=\"psysml:4203d305-f881-4dfa-bcc5-a82b5aac35c4\" target=\"_top\" title=\"psysml:4203d305-f881-4dfa-bcc5-a82b5aac35c4\" xlink:actuate=\"onRequest\" xlink:href=\"psysml:4203d305-f881-4dfa-bcc5-a82b5aac35c4\" xlink:show=\"new\" xlink:title=\"psysml:4203d305-f881-4dfa-bcc5-a82b5aac35c4\" xlink:type=\"simple\"><rect fill=\"#FEFECE\" filter=\"url(#f1wxc2idjjbobh)\" height=\"45.9375\" id=\"E11\" rx=\"10\" ry=\"10\" style=\"stroke: #A80036; stroke-width: 1.5;\" width=\"42\" x=\"95\" y=\"41\"/><text fill=\"#000000\" font-family=\"sans-serif\" font-size=\"12\" font-style=\"italic\" lengthAdjust=\"spacingAndGlyphs\" textLength=\"40\" x=\"96\" y=\"57.1387\">«part»</text><text fill=\"#000000\" font-family=\"sans-serif\" font-size=\"12\" lengthAdjust=\"spacingAndGlyphs\" textLength=\"8\" x=\"112\" y=\"71.1074\">p</text><line style=\"stroke: #A80036; stroke-width: 1.5;\" x1=\"96\" x2=\"136\" y1=\"78.9375\" y2=\"78.9375\"/></a><!--MD5=[49a0ec8f00dab7302a31f22d0f0fe584]\n",
       "class E12--><a href=\"psysml:d0dbee69-5f2e-4ac4-ba4b-4aca7380bae7\" target=\"_top\" title=\"psysml:d0dbee69-5f2e-4ac4-ba4b-4aca7380bae7\" xlink:actuate=\"onRequest\" xlink:href=\"psysml:d0dbee69-5f2e-4ac4-ba4b-4aca7380bae7\" xlink:show=\"new\" xlink:title=\"psysml:d0dbee69-5f2e-4ac4-ba4b-4aca7380bae7\" xlink:type=\"simple\"><rect fill=\"#FEFECE\" filter=\"url(#f1wxc2idjjbobh)\" height=\"45.9375\" id=\"E12\" rx=\"10\" ry=\"10\" style=\"stroke: #A80036; stroke-width: 1.5;\" width=\"42\" x=\"280\" y=\"41\"/><text fill=\"#000000\" font-family=\"sans-serif\" font-size=\"12\" font-style=\"italic\" lengthAdjust=\"spacingAndGlyphs\" textLength=\"40\" x=\"281\" y=\"57.1387\">«part»</text><text fill=\"#000000\" font-family=\"sans-serif\" font-size=\"12\" lengthAdjust=\"spacingAndGlyphs\" textLength=\"8\" x=\"297\" y=\"71.1074\">q</text><line style=\"stroke: #A80036; stroke-width: 1.5;\" x1=\"281\" x2=\"321\" y1=\"78.9375\" y2=\"78.9375\"/></a><!--MD5=[ee3c913d1a06f366521f9ef512b67efe]\n",
       "class E13--><a href=\"psysml:aee31540-9ea4-41ee-8ebb-8555bfaf03fb\" target=\"_top\" title=\"psysml:aee31540-9ea4-41ee-8ebb-8555bfaf03fb\" xlink:actuate=\"onRequest\" xlink:href=\"psysml:aee31540-9ea4-41ee-8ebb-8555bfaf03fb\" xlink:show=\"new\" xlink:title=\"psysml:aee31540-9ea4-41ee-8ebb-8555bfaf03fb\" xlink:type=\"simple\"><rect fill=\"#FEFECE\" filter=\"url(#f1wxc2idjjbobh)\" height=\"45.9375\" id=\"E13\" rx=\"10\" ry=\"10\" style=\"stroke: #A80036; stroke-width: 1.5;\" width=\"93\" x=\"200.5\" y=\"164\"/><text fill=\"#000000\" font-family=\"sans-serif\" font-size=\"12\" font-style=\"italic\" lengthAdjust=\"spacingAndGlyphs\" textLength=\"91\" x=\"201.5\" y=\"180.1387\">«requirement»</text><text fill=\"#000000\" font-family=\"sans-serif\" font-size=\"12\" lengthAdjust=\"spacingAndGlyphs\" textLength=\"21\" x=\"234.5\" y=\"194.1074\">r: R</text><line style=\"stroke: #A80036; stroke-width: 1.5;\" x1=\"201.5\" x2=\"292.5\" y1=\"201.9375\" y2=\"201.9375\"/></a><!--MD5=[bee11217b2f71d958a27249dc326068c]\n",
       "class E14--><a href=\"psysml:5c4fb90e-2e7f-411e-8437-1e0e9b0bd00e\" target=\"_top\" title=\"psysml:5c4fb90e-2e7f-411e-8437-1e0e9b0bd00e\" xlink:actuate=\"onRequest\" xlink:href=\"psysml:5c4fb90e-2e7f-411e-8437-1e0e9b0bd00e\" xlink:show=\"new\" xlink:title=\"psysml:5c4fb90e-2e7f-411e-8437-1e0e9b0bd00e\" xlink:type=\"simple\"><rect fill=\"#FEFECE\" filter=\"url(#f1wxc2idjjbobh)\" height=\"45.9375\" id=\"E14\" rx=\"10\" ry=\"10\" style=\"stroke: #A80036; stroke-width: 1.5;\" width=\"93\" x=\"46.5\" y=\"164\"/><text fill=\"#000000\" font-family=\"sans-serif\" font-size=\"12\" font-style=\"italic\" lengthAdjust=\"spacingAndGlyphs\" textLength=\"91\" x=\"47.5\" y=\"180.1387\">«requirement»</text><text fill=\"#000000\" font-family=\"sans-serif\" font-size=\"12\" lengthAdjust=\"spacingAndGlyphs\" textLength=\"37\" x=\"72.5\" y=\"194.1074\">r1: R1</text><line style=\"stroke: #A80036; stroke-width: 1.5;\" x1=\"47.5\" x2=\"138.5\" y1=\"201.9375\" y2=\"201.9375\"/></a><!--MD5=[05d275557350bfb9b23a4ef7222b4c39]\n",
       "link E3 to E2--><a href=\"psysml:1cfa9d08-8b1e-49ae-8f22-7ec5c2d68c94\" target=\"_top\" title=\"psysml:1cfa9d08-8b1e-49ae-8f22-7ec5c2d68c94\" xlink:actuate=\"onRequest\" xlink:href=\"psysml:1cfa9d08-8b1e-49ae-8f22-7ec5c2d68c94\" xlink:show=\"new\" xlink:title=\"psysml:1cfa9d08-8b1e-49ae-8f22-7ec5c2d68c94\" xlink:type=\"simple\"><path d=\"M418.43,87.25 C428.59,100.56 437.27,117.96 431,134 C429.08,138.91 426.46,143.63 423.42,148.09 \" fill=\"none\" id=\"E3-&gt;E2\" style=\"stroke: #A80036; stroke-width: 1.0;\"/><polygon fill=\"#FFFFFF\" points=\"410.27,163.84,417.0769,144.77,427.8221,153.7444,410.27,163.84\" style=\"stroke: #A80036; stroke-width: 1.0;\"/><ellipse cx=\"422.2658\" cy=\"141.6772\" fill=\"#A80036\" rx=\"2\" ry=\"2\" style=\"stroke: #A80036; stroke-width: 1.0;\"/><ellipse cx=\"429.941\" cy=\"148.0874\" fill=\"#A80036\" rx=\"2\" ry=\"2\" style=\"stroke: #A80036; stroke-width: 1.0;\"/></a><!--MD5=[722ff4eef345aa10242dad44df0e98c7]\n",
       "reverse link E4 to E7--><a href=\"psysml:8957256b-d423-4c87-844e-8026b3f5c553\" target=\"_top\" title=\"psysml:8957256b-d423-4c87-844e-8026b3f5c553\" xlink:actuate=\"onRequest\" xlink:href=\"psysml:8957256b-d423-4c87-844e-8026b3f5c553\" xlink:show=\"new\" xlink:title=\"psysml:8957256b-d423-4c87-844e-8026b3f5c553\" xlink:type=\"simple\"><path d=\"M228.38,350.29 C219.19,370.26 208.76,392.91 201.26,409.21 \" fill=\"none\" id=\"E4&lt;-E7\" style=\"stroke: #A80036; stroke-width: 1.0;\"/><polygon fill=\"#A80036\" points=\"233.91,338.28,227.7664,342.0558,228.8888,349.179,235.0324,345.4032,233.91,338.28\" style=\"stroke: #A80036; stroke-width: 1.0;\"/><text fill=\"#000000\" font-family=\"sans-serif\" font-size=\"13\" lengthAdjust=\"spacingAndGlyphs\" textLength=\"7\" x=\"195.9922\" y=\"398.412\">*</text></a><!--MD5=[c6fc7cdb0cabde04948078cf183fa696]\n",
       "reverse link E4 to E8--><a href=\"psysml:e7993699-2e90-4c6e-9ce7-c90f60868f83\" target=\"_top\" title=\"psysml:e7993699-2e90-4c6e-9ce7-c90f60868f83\" xlink:actuate=\"onRequest\" xlink:href=\"psysml:e7993699-2e90-4c6e-9ce7-c90f60868f83\" xlink:show=\"new\" xlink:title=\"psysml:e7993699-2e90-4c6e-9ce7-c90f60868f83\" xlink:type=\"simple\"><path d=\"M279.4,351.09 C289.94,366.92 301.55,384.33 311.26,398.89 \" fill=\"none\" id=\"E4&lt;-E8\" style=\"stroke: #A80036; stroke-width: 1.0;\"/><ellipse cx=\"275.2894\" cy=\"344.9352\" fill=\"#FFFFFF\" rx=\"8\" ry=\"8\" style=\"stroke: #A80036; stroke-width: 1.0;\"/><line style=\"stroke: #A80036; stroke-width: 1.0;\" x1=\"279.7287\" x2=\"270.85\" y1=\"351.5905\" y2=\"338.28\"/><line style=\"stroke: #A80036; stroke-width: 1.0;\" x1=\"268.6341\" x2=\"281.9446\" y1=\"349.3746\" y2=\"340.4959\"/></a><!--MD5=[062ed86c389d1a88f61c6380d0491e17]\n",
       "reverse link E12 to E13--><a href=\"psysml:0f26ba0d-7372-4c44-875c-adf3c35e17b9\" target=\"_top\" title=\"psysml:0f26ba0d-7372-4c44-875c-adf3c35e17b9\" xlink:actuate=\"onRequest\" xlink:href=\"psysml:0f26ba0d-7372-4c44-875c-adf3c35e17b9\" xlink:show=\"new\" xlink:title=\"psysml:0f26ba0d-7372-4c44-875c-adf3c35e17b9\" xlink:type=\"simple\"><path d=\"M333.8,84.02 C335.88,85.07 337.96,86.07 340,87 C378.92,104.77 450.04,100.06 424,134 C392.63,174.88 361.32,149.06 312,164 C306.07,165.8 299.87,167.77 293.75,169.77 \" fill=\"none\" id=\"E12&lt;-E13\" style=\"stroke: #A80036; stroke-width: 1.0;\"/><polygon fill=\"#A80036\" points=\"322.11,77.78,325.5172,84.1354,332.6942,83.4346,329.287,77.0792,322.11,77.78\" style=\"stroke: #A80036; stroke-width: 1.0;\"/></a><!--MD5=[e2a9ac97dcd3257bb5342dae06547bad]\n",
       "link E12 to E13--><a href=\"psysml:f5a4eec3-f375-4f03-819b-6c5c8dc7728c\" target=\"_top\" title=\"psysml:f5a4eec3-f375-4f03-819b-6c5c8dc7728c\" xlink:actuate=\"onRequest\" xlink:href=\"psysml:f5a4eec3-f375-4f03-819b-6c5c8dc7728c\" xlink:show=\"new\" xlink:title=\"psysml:f5a4eec3-f375-4f03-819b-6c5c8dc7728c\" xlink:type=\"simple\"><path d=\"M317.81,87.18 C326.17,101.08 332.96,119.13 325,134 C318.83,145.53 308.85,154.94 298.06,162.43 \" fill=\"none\" id=\"E12-&gt;E13\" style=\"stroke: #A80036; stroke-width: 1.0; stroke-dasharray: 7.0,7.0;\"/><polygon fill=\"#A80036\" points=\"293.73,165.31,303.4373,163.6459,297.8903,162.5365,298.9997,156.9895,293.73,165.31\" style=\"stroke: #A80036; stroke-width: 1.0;\"/><text fill=\"#000000\" font-family=\"sans-serif\" font-size=\"13\" lengthAdjust=\"spacingAndGlyphs\" textLength=\"57\" x=\"329\" y=\"130.0669\">«satisfy»</text></a><!--MD5=[017847e01ff9a8bd19f247411074f987]\n",
       "link E13 to E4--><a href=\"psysml:e01bb7f1-206a-408f-a898-0799ec242df4\" target=\"_top\" title=\"psysml:e01bb7f1-206a-408f-a898-0799ec242df4\" xlink:actuate=\"onRequest\" xlink:href=\"psysml:e01bb7f1-206a-408f-a898-0799ec242df4\" xlink:show=\"new\" xlink:title=\"psysml:e01bb7f1-206a-408f-a898-0799ec242df4\" xlink:type=\"simple\"><path d=\"M247.39,210.27 C247.59,221.81 247.84,236.43 248.09,250.66 \" fill=\"none\" id=\"E13-&gt;E4\" style=\"stroke: #A80036; stroke-width: 1.0;\"/><polygon fill=\"#FFFFFF\" points=\"248.43,270.81,241.1054,251.9328,255.1033,251.6928,248.43,270.81\" style=\"stroke: #A80036; stroke-width: 1.0;\"/><ellipse cx=\"243.0074\" cy=\"246.1993\" fill=\"#A80036\" rx=\"2\" ry=\"2\" style=\"stroke: #A80036; stroke-width: 1.0;\"/><ellipse cx=\"253.0059\" cy=\"246.0279\" fill=\"#A80036\" rx=\"2\" ry=\"2\" style=\"stroke: #A80036; stroke-width: 1.0;\"/></a><!--MD5=[60f911bb19596b289db4a22769f8105a]\n",
       "link E11 to E13--><a href=\"psysml:e806deaf-0ce2-4d10-9e57-833502fc32ee\" target=\"_top\" title=\"psysml:e806deaf-0ce2-4d10-9e57-833502fc32ee\" xlink:actuate=\"onRequest\" xlink:href=\"psysml:e806deaf-0ce2-4d10-9e57-833502fc32ee\" xlink:show=\"new\" xlink:title=\"psysml:e806deaf-0ce2-4d10-9e57-833502fc32ee\" xlink:type=\"simple\"><path d=\"M127.91,87.28 C136.39,101.75 148.76,120.37 163,134 C173.59,144.14 186.48,153.31 198.95,161.02 \" fill=\"none\" id=\"E11-&gt;E13\" style=\"stroke: #A80036; stroke-width: 1.0; stroke-dasharray: 7.0,7.0;\"/><polygon fill=\"#A80036\" points=\"203.52,163.8,197.9,155.712,199.2452,161.2066,193.7506,162.5517,203.52,163.8\" style=\"stroke: #A80036; stroke-width: 1.0;\"/><text fill=\"#000000\" font-family=\"sans-serif\" font-size=\"13\" lengthAdjust=\"spacingAndGlyphs\" textLength=\"57\" x=\"164\" y=\"130.0669\">«satisfy»</text></a><!--MD5=[0c677eb374079406c87b74cd1f5a339d]\n",
       "link E14 to E9--><a href=\"psysml:d6ece11e-fb98-4dd6-9106-0f6846b0bd9f\" target=\"_top\" title=\"psysml:d6ece11e-fb98-4dd6-9106-0f6846b0bd9f\" xlink:actuate=\"onRequest\" xlink:href=\"psysml:d6ece11e-fb98-4dd6-9106-0f6846b0bd9f\" xlink:show=\"new\" xlink:title=\"psysml:d6ece11e-fb98-4dd6-9106-0f6846b0bd9f\" xlink:type=\"simple\"><path d=\"M93,210.27 C93,224.65 93,243.82 93,261.04 \" fill=\"none\" id=\"E14-&gt;E9\" style=\"stroke: #A80036; stroke-width: 1.0;\"/><polygon fill=\"#FFFFFF\" points=\"93,281.3,86,262.3,100,262.3,93,281.3\" style=\"stroke: #A80036; stroke-width: 1.0;\"/><ellipse cx=\"88\" cy=\"256.6\" fill=\"#A80036\" rx=\"2\" ry=\"2\" style=\"stroke: #A80036; stroke-width: 1.0;\"/><ellipse cx=\"98\" cy=\"256.6\" fill=\"#A80036\" rx=\"2\" ry=\"2\" style=\"stroke: #A80036; stroke-width: 1.0;\"/></a><!--MD5=[9c1c40551dcf5c2fca147626a786a7cd]\n",
       "link E11 to E14--><a href=\"psysml:feaea2f2-720b-4dbc-ba1d-0aec40f00046\" target=\"_top\" title=\"psysml:feaea2f2-720b-4dbc-ba1d-0aec40f00046\" xlink:actuate=\"onRequest\" xlink:href=\"psysml:feaea2f2-720b-4dbc-ba1d-0aec40f00046\" xlink:show=\"new\" xlink:title=\"psysml:feaea2f2-720b-4dbc-ba1d-0aec40f00046\" xlink:type=\"simple\"><path d=\"M94.96,79.46 C83.46,88.7 70.3,101.78 64,117 C58.15,131.13 63.81,146.85 71.63,159.71 \" fill=\"none\" id=\"E11-&gt;E14\" style=\"stroke: #A80036; stroke-width: 1.0; stroke-dasharray: 7.0,7.0;\"/><polygon fill=\"#A80036\" points=\"74.35,163.96,72.8629,154.2241,71.6527,159.7499,66.1268,158.5397,74.35,163.96\" style=\"stroke: #A80036; stroke-width: 1.0;\"/><text fill=\"#000000\" font-family=\"sans-serif\" font-size=\"13\" lengthAdjust=\"spacingAndGlyphs\" textLength=\"57\" x=\"65\" y=\"130.0669\">«satisfy»</text></a><!--MD5=[d53cb08dffc8689d16e38c8e194e9adc]\n",
       "link E12 to E14--><a href=\"psysml:f5704f7b-2601-4abd-90b0-2ec51a978e80\" target=\"_top\" title=\"psysml:f5704f7b-2601-4abd-90b0-2ec51a978e80\" xlink:actuate=\"onRequest\" xlink:href=\"psysml:f5704f7b-2601-4abd-90b0-2ec51a978e80\" xlink:show=\"new\" xlink:title=\"psysml:f5704f7b-2601-4abd-90b0-2ec51a978e80\" xlink:type=\"simple\"><path d=\"M281.09,87.22 C266.89,102.03 246.71,121.07 226,134 C200.86,149.7 170.21,162.07 144.66,170.81 \" fill=\"none\" id=\"E12-&gt;E14\" style=\"stroke: #A80036; stroke-width: 1.0; stroke-dasharray: 7.0,7.0;\"/><polygon fill=\"#A80036\" points=\"139.62,172.5,149.4273,173.4043,144.3562,170.8974,146.8631,165.8264,139.62,172.5\" style=\"stroke: #A80036; stroke-width: 1.0;\"/><text fill=\"#000000\" font-family=\"sans-serif\" font-size=\"13\" lengthAdjust=\"spacingAndGlyphs\" textLength=\"57\" x=\"249\" y=\"130.0669\">«satisfy»</text></a><!--MD5=[1415a841ccf61cfb54e266a8014a6741]\n",
       "@startuml\r\n",
       "skinparam wrapWidth 300\r\n",
       "hide circle\r\n",
       "\r\n",
       "package \"RequirementTest\" as E1  [[psysml:2a075407-fc8d-47b4-b4de-e1839d24b848 ]]  {\r\n",
       "comp def \"C\" as E2  <<(T,blue) constraint  def>> [[psysml:8e8b9929-fb62-44f3-bb6e-73f88688eaf1 ]] {\r\n",
       "}\r\n",
       "comp usage \"c: C \" as E3  <<(T,blue) constraint>> [[psysml:8dab2afb-478b-48f2-a7f7-bb2b245c05ea ]] {\r\n",
       "}\r\n",
       "comp def \"R\" as E4  <<(T,blue) requirement  def>> [[psysml:cae76f8a-948f-454f-8648-301efab5060e ]] {\r\n",
       "\r\n",
       "- -\r\n",
       "}\r\n",
       "comp usage \"<s>noname</s>\" as E7  <<(T,blue) requirement>> [[psysml:70e6cc11-a878-4419-9a48-d32cb5df9816 ]] {\r\n",
       "}\r\n",
       "comp def \" [<b>1</b>] A\" as E8  <<(T,blue) requirement  def>> [[psysml:5c5c4776-1d3a-4700-8516-1d3a67d779f4 ]] {\r\n",
       "Text\r\n",
       "- -\r\n",
       "}\r\n",
       "comp def \"R1\" as E9  <<(T,blue) requirement  def>> [[psysml:f2fc2205-4b84-4313-b340-24ee025c15cf ]] {\r\n",
       "}\r\n",
       "comp usage \"p\" as E11  <<(T,blue) part>> [[psysml:4203d305-f881-4dfa-bcc5-a82b5aac35c4 ]] {\r\n",
       "}\r\n",
       "comp usage \"q\" as E12  <<(T,blue) part>> [[psysml:d0dbee69-5f2e-4ac4-ba4b-4aca7380bae7 ]] {\r\n",
       "}\r\n",
       "comp usage \"r: R \" as E13  <<(T,blue) requirement>> [[psysml:aee31540-9ea4-41ee-8ebb-8555bfaf03fb ]] {\r\n",
       "}\r\n",
       "comp usage \"r1: R1 \" as E14  <<(T,blue) requirement>> [[psysml:5c4fb90e-2e7f-411e-8437-1e0e9b0bd00e ]] {\r\n",
       "}\r\n",
       "}\r\n",
       "E3 - -:|> E2 [[psysml:1cfa9d08-8b1e-49ae-8f22-7ec5c2d68c94 ]] \r\n",
       "E4 *- - \"*\"E7 [[psysml:8957256b-d423-4c87-844e-8026b3f5c553 ]] \r\n",
       "E4 +- - E8 [[psysml:e7993699-2e90-4c6e-9ce7-c90f60868f83 ]] \r\n",
       "E12 *- - E13 [[psysml:0f26ba0d-7372-4c44-875c-adf3c35e17b9 ]] \r\n",
       "E13 - -:|> E4 [[psysml:e01bb7f1-206a-408f-a898-0799ec242df4 ]] \r\n",
       "E11 ..> E13 [[psysml:e806deaf-0ce2-4d10-9e57-833502fc32ee ]] : <<satisfy>>\r\n",
       "E12 ..> E13 [[psysml:f5a4eec3-f375-4f03-819b-6c5c8dc7728c ]] : <<satisfy>>\r\n",
       "E14 - -:|> E9 [[psysml:d6ece11e-fb98-4dd6-9106-0f6846b0bd9f ]] \r\n",
       "E11 ..> E14 [[psysml:feaea2f2-720b-4dbc-ba1d-0aec40f00046 ]] : <<satisfy>>\r\n",
       "E12 ..> E14 [[psysml:f5704f7b-2601-4abd-90b0-2ec51a978e80 ]] : <<satisfy>>\r\n",
       "@enduml\r\n",
       "\n",
       "PlantUML version 1.2020.13(Sat Jun 13 12:26:38 UTC 2020)\n",
       "(EPL source distribution)\n",
       "Java Runtime: OpenJDK Runtime Environment\n",
       "JVM: OpenJDK 64-Bit Server VM\n",
       "Default Encoding: UTF-8\n",
       "Language: en\n",
       "Country: null\n",
       "--></g></svg>"
      ]
     },
     "execution_count": 23,
     "metadata": {},
     "output_type": "execute_result"
    }
   ],
   "source": [
    "%viz --style=\"STDCOLOR\" --view=\"Default\" \"RequirementTest\""
   ]
  },
  {
   "cell_type": "code",
   "execution_count": 24,
   "id": "29c76127",
   "metadata": {
    "execution": {
     "iopub.execute_input": "2021-10-25T08:21:13.262021Z",
     "iopub.status.busy": "2021-10-25T08:21:13.261624Z",
     "iopub.status.idle": "2021-10-25T08:21:13.324945Z",
     "shell.execute_reply": "2021-10-25T08:21:13.324589Z"
    }
   },
   "outputs": [
    {
     "data": {
      "image/svg+xml": [
       "<?xml version=\"1.0\" encoding=\"UTF-8\" standalone=\"no\"?><svg xmlns=\"http://www.w3.org/2000/svg\" xmlns:xlink=\"http://www.w3.org/1999/xlink\" contentScriptType=\"application/ecmascript\" contentStyleType=\"text/css\" height=\"494px\" preserveAspectRatio=\"none\" style=\"width:475px;height:494px;\" version=\"1.1\" viewBox=\"0 0 475 494\" width=\"475px\" zoomAndPan=\"magnify\"><defs><filter height=\"300%\" id=\"f1wxc2idjjbobh\" width=\"300%\" x=\"-1\" y=\"-1\"><feGaussianBlur result=\"blurOut\" stdDeviation=\"2.0\"/><feColorMatrix in=\"blurOut\" result=\"blurOut2\" type=\"matrix\" values=\"0 0 0 0 0 0 0 0 0 0 0 0 0 0 0 0 0 0 .4 0\"/><feOffset dx=\"4.0\" dy=\"4.0\" in=\"blurOut2\" result=\"blurOut3\"/><feBlend in=\"SourceGraphic\" in2=\"blurOut3\" mode=\"normal\"/></filter></defs><g><!--MD5=[fbc87193dbaf4d95561dea2c320d4a47]\n",
       "cluster E1--><a href=\"psysml:2a075407-fc8d-47b4-b4de-e1839d24b848\" target=\"_top\" title=\"psysml:2a075407-fc8d-47b4-b4de-e1839d24b848\" xlink:actuate=\"onRequest\" xlink:href=\"psysml:2a075407-fc8d-47b4-b4de-e1839d24b848\" xlink:show=\"new\" xlink:title=\"psysml:2a075407-fc8d-47b4-b4de-e1839d24b848\" xlink:type=\"simple\"><polygon fill=\"#FFFFFF\" filter=\"url(#f1wxc2idjjbobh)\" points=\"16,6,143,6,150,28.2969,453,28.2969,453,482,16,482,16,6\" style=\"stroke: #000000; stroke-width: 1.5;\"/><line style=\"stroke: #000000; stroke-width: 1.5;\" x1=\"16\" x2=\"150\" y1=\"28.2969\" y2=\"28.2969\"/><text fill=\"#000000\" font-family=\"sans-serif\" font-size=\"14\" font-weight=\"bold\" lengthAdjust=\"spacingAndGlyphs\" textLength=\"121\" x=\"20\" y=\"20.9951\">RequirementTest</text></a><!--MD5=[b4997ac47864f28c2f74865a473b2911]\n",
       "class E2--><a href=\"psysml:8e8b9929-fb62-44f3-bb6e-73f88688eaf1\" target=\"_top\" title=\"psysml:8e8b9929-fb62-44f3-bb6e-73f88688eaf1\" xlink:actuate=\"onRequest\" xlink:href=\"psysml:8e8b9929-fb62-44f3-bb6e-73f88688eaf1\" xlink:show=\"new\" xlink:title=\"psysml:8e8b9929-fb62-44f3-bb6e-73f88688eaf1\" xlink:type=\"simple\"><rect fill=\"#FEFECE\" filter=\"url(#f1wxc2idjjbobh)\" height=\"45.9375\" id=\"E2\" style=\"stroke: #A80036; stroke-width: 1.5;\" width=\"108\" x=\"329\" y=\"164\"/><text fill=\"#000000\" font-family=\"sans-serif\" font-size=\"12\" font-style=\"italic\" lengthAdjust=\"spacingAndGlyphs\" textLength=\"106\" x=\"330\" y=\"180.1387\">«constraint  def»</text><text fill=\"#000000\" font-family=\"sans-serif\" font-size=\"12\" lengthAdjust=\"spacingAndGlyphs\" textLength=\"8\" x=\"379\" y=\"194.1074\">C</text><line style=\"stroke: #A80036; stroke-width: 1.5;\" x1=\"330\" x2=\"436\" y1=\"201.9375\" y2=\"201.9375\"/></a><!--MD5=[09b614a08d8cba4a07c9adeb5e0fee81]\n",
       "class E3--><a href=\"psysml:8dab2afb-478b-48f2-a7f7-bb2b245c05ea\" target=\"_top\" title=\"psysml:8dab2afb-478b-48f2-a7f7-bb2b245c05ea\" xlink:actuate=\"onRequest\" xlink:href=\"psysml:8dab2afb-478b-48f2-a7f7-bb2b245c05ea\" xlink:show=\"new\" xlink:title=\"psysml:8dab2afb-478b-48f2-a7f7-bb2b245c05ea\" xlink:type=\"simple\"><rect fill=\"#FEFECE\" filter=\"url(#f1wxc2idjjbobh)\" height=\"45.9375\" id=\"E3\" rx=\"10\" ry=\"10\" style=\"stroke: #A80036; stroke-width: 1.5;\" width=\"80\" x=\"357\" y=\"41\"/><text fill=\"#000000\" font-family=\"sans-serif\" font-size=\"12\" font-style=\"italic\" lengthAdjust=\"spacingAndGlyphs\" textLength=\"78\" x=\"358\" y=\"57.1387\">«constraint»</text><text fill=\"#000000\" font-family=\"sans-serif\" font-size=\"12\" lengthAdjust=\"spacingAndGlyphs\" textLength=\"23\" x=\"383.5\" y=\"71.1074\">c: C</text><line style=\"stroke: #A80036; stroke-width: 1.5;\" x1=\"358\" x2=\"436\" y1=\"78.9375\" y2=\"78.9375\"/></a><!--MD5=[ebbe1d658d1005bcc118a6aa81145e00]\n",
       "class E4--><a href=\"psysml:cae76f8a-948f-454f-8648-301efab5060e\" target=\"_top\" title=\"psysml:cae76f8a-948f-454f-8648-301efab5060e\" xlink:actuate=\"onRequest\" xlink:href=\"psysml:cae76f8a-948f-454f-8648-301efab5060e\" xlink:show=\"new\" xlink:title=\"psysml:cae76f8a-948f-454f-8648-301efab5060e\" xlink:type=\"simple\"><rect fill=\"#FEFECE\" filter=\"url(#f1wxc2idjjbobh)\" height=\"66.7422\" id=\"E4\" style=\"stroke: #A80036; stroke-width: 1.5;\" width=\"121\" x=\"188.5\" y=\"271\"/><text fill=\"#000000\" font-family=\"sans-serif\" font-size=\"12\" font-style=\"italic\" lengthAdjust=\"spacingAndGlyphs\" textLength=\"119\" x=\"189.5\" y=\"287.1387\">«requirement  def»</text><text fill=\"#000000\" font-family=\"sans-serif\" font-size=\"12\" lengthAdjust=\"spacingAndGlyphs\" textLength=\"8\" x=\"245\" y=\"301.1074\">R</text><line style=\"stroke: #A80036; stroke-width: 1.5;\" x1=\"189.5\" x2=\"308.5\" y1=\"308.9375\" y2=\"308.9375\"/><text fill=\"#000000\" font-family=\"sans-serif\" font-size=\"11\" lengthAdjust=\"spacingAndGlyphs\" textLength=\"0\" x=\"198.5\" y=\"323.1479\"/><line style=\"stroke: #A80036; stroke-width: 1.0;\" x1=\"189.5\" x2=\"308.5\" y1=\"329.7422\" y2=\"329.7422\"/></a><!--MD5=[2156ba9850f5573cc1fc38a6a4b2f02b]\n",
       "class E7--><a href=\"psysml:70e6cc11-a878-4419-9a48-d32cb5df9816\" target=\"_top\" title=\"psysml:70e6cc11-a878-4419-9a48-d32cb5df9816\" xlink:actuate=\"onRequest\" xlink:href=\"psysml:70e6cc11-a878-4419-9a48-d32cb5df9816\" xlink:show=\"new\" xlink:title=\"psysml:70e6cc11-a878-4419-9a48-d32cb5df9816\" xlink:type=\"simple\"><rect fill=\"#FEFECE\" filter=\"url(#f1wxc2idjjbobh)\" height=\"45.9375\" id=\"E7\" rx=\"10\" ry=\"10\" style=\"stroke: #A80036; stroke-width: 1.5;\" width=\"93\" x=\"144.5\" y=\"409.5\"/><text fill=\"#000000\" font-family=\"sans-serif\" font-size=\"12\" font-style=\"italic\" lengthAdjust=\"spacingAndGlyphs\" textLength=\"91\" x=\"145.5\" y=\"425.6387\">«requirement»</text><text fill=\"#000000\" font-family=\"sans-serif\" font-size=\"12\" lengthAdjust=\"spacingAndGlyphs\" text-decoration=\"line-through\" textLength=\"51\" x=\"165.5\" y=\"439.6074\">noname</text><line style=\"stroke: #A80036; stroke-width: 1.5;\" x1=\"145.5\" x2=\"236.5\" y1=\"447.4375\" y2=\"447.4375\"/></a><!--MD5=[b9389687b975829384b498ac4b7476b2]\n",
       "class E8--><a href=\"psysml:5c5c4776-1d3a-4700-8516-1d3a67d779f4\" target=\"_top\" title=\"psysml:5c5c4776-1d3a-4700-8516-1d3a67d779f4\" xlink:actuate=\"onRequest\" xlink:href=\"psysml:5c5c4776-1d3a-4700-8516-1d3a67d779f4\" xlink:show=\"new\" xlink:title=\"psysml:5c5c4776-1d3a-4700-8516-1d3a67d779f4\" xlink:type=\"simple\"><rect fill=\"#FEFECE\" filter=\"url(#f1wxc2idjjbobh)\" height=\"66.7422\" id=\"E8\" style=\"stroke: #A80036; stroke-width: 1.5;\" width=\"121\" x=\"272.5\" y=\"399\"/><text fill=\"#000000\" font-family=\"sans-serif\" font-size=\"12\" font-style=\"italic\" lengthAdjust=\"spacingAndGlyphs\" textLength=\"119\" x=\"273.5\" y=\"415.1387\">«requirement  def»</text><text fill=\"#000000\" font-family=\"sans-serif\" font-size=\"12\" lengthAdjust=\"spacingAndGlyphs\" textLength=\"5\" x=\"320\" y=\"429.1074\">[</text><text fill=\"#000000\" font-family=\"sans-serif\" font-size=\"12\" font-weight=\"bold\" lengthAdjust=\"spacingAndGlyphs\" textLength=\"8\" x=\"325\" y=\"429.1074\">1</text><text fill=\"#000000\" font-family=\"sans-serif\" font-size=\"12\" lengthAdjust=\"spacingAndGlyphs\" textLength=\"17\" x=\"333\" y=\"429.1074\">] A</text><line style=\"stroke: #A80036; stroke-width: 1.5;\" x1=\"273.5\" x2=\"392.5\" y1=\"436.9375\" y2=\"436.9375\"/><text fill=\"#000000\" font-family=\"sans-serif\" font-size=\"11\" lengthAdjust=\"spacingAndGlyphs\" textLength=\"24\" x=\"278.5\" y=\"451.1479\">Text</text><line style=\"stroke: #A80036; stroke-width: 1.0;\" x1=\"273.5\" x2=\"392.5\" y1=\"457.7422\" y2=\"457.7422\"/></a><!--MD5=[fd4143e9d270a159db93a4ea2a975926]\n",
       "class E9--><a href=\"psysml:f2fc2205-4b84-4313-b340-24ee025c15cf\" target=\"_top\" title=\"psysml:f2fc2205-4b84-4313-b340-24ee025c15cf\" xlink:actuate=\"onRequest\" xlink:href=\"psysml:f2fc2205-4b84-4313-b340-24ee025c15cf\" xlink:show=\"new\" xlink:title=\"psysml:f2fc2205-4b84-4313-b340-24ee025c15cf\" xlink:type=\"simple\"><rect fill=\"#FEFECE\" filter=\"url(#f1wxc2idjjbobh)\" height=\"45.9375\" id=\"E9\" style=\"stroke: #A80036; stroke-width: 1.5;\" width=\"121\" x=\"32.5\" y=\"281.5\"/><text fill=\"#000000\" font-family=\"sans-serif\" font-size=\"12\" font-style=\"italic\" lengthAdjust=\"spacingAndGlyphs\" textLength=\"119\" x=\"33.5\" y=\"297.6387\">«requirement  def»</text><text fill=\"#000000\" font-family=\"sans-serif\" font-size=\"12\" lengthAdjust=\"spacingAndGlyphs\" textLength=\"16\" x=\"85\" y=\"311.6074\">R1</text><line style=\"stroke: #A80036; stroke-width: 1.5;\" x1=\"33.5\" x2=\"152.5\" y1=\"319.4375\" y2=\"319.4375\"/></a><!--MD5=[1dd1bfd58a279cf63c5f349dbc8fc6a1]\n",
       "class E11--><a href=\"psysml:4203d305-f881-4dfa-bcc5-a82b5aac35c4\" target=\"_top\" title=\"psysml:4203d305-f881-4dfa-bcc5-a82b5aac35c4\" xlink:actuate=\"onRequest\" xlink:href=\"psysml:4203d305-f881-4dfa-bcc5-a82b5aac35c4\" xlink:show=\"new\" xlink:title=\"psysml:4203d305-f881-4dfa-bcc5-a82b5aac35c4\" xlink:type=\"simple\"><rect fill=\"#FEFECE\" filter=\"url(#f1wxc2idjjbobh)\" height=\"45.9375\" id=\"E11\" rx=\"10\" ry=\"10\" style=\"stroke: #A80036; stroke-width: 1.5;\" width=\"42\" x=\"95\" y=\"41\"/><text fill=\"#000000\" font-family=\"sans-serif\" font-size=\"12\" font-style=\"italic\" lengthAdjust=\"spacingAndGlyphs\" textLength=\"40\" x=\"96\" y=\"57.1387\">«part»</text><text fill=\"#000000\" font-family=\"sans-serif\" font-size=\"12\" lengthAdjust=\"spacingAndGlyphs\" textLength=\"8\" x=\"112\" y=\"71.1074\">p</text><line style=\"stroke: #A80036; stroke-width: 1.5;\" x1=\"96\" x2=\"136\" y1=\"78.9375\" y2=\"78.9375\"/></a><!--MD5=[49a0ec8f00dab7302a31f22d0f0fe584]\n",
       "class E12--><a href=\"psysml:d0dbee69-5f2e-4ac4-ba4b-4aca7380bae7\" target=\"_top\" title=\"psysml:d0dbee69-5f2e-4ac4-ba4b-4aca7380bae7\" xlink:actuate=\"onRequest\" xlink:href=\"psysml:d0dbee69-5f2e-4ac4-ba4b-4aca7380bae7\" xlink:show=\"new\" xlink:title=\"psysml:d0dbee69-5f2e-4ac4-ba4b-4aca7380bae7\" xlink:type=\"simple\"><rect fill=\"#FEFECE\" filter=\"url(#f1wxc2idjjbobh)\" height=\"45.9375\" id=\"E12\" rx=\"10\" ry=\"10\" style=\"stroke: #A80036; stroke-width: 1.5;\" width=\"42\" x=\"280\" y=\"41\"/><text fill=\"#000000\" font-family=\"sans-serif\" font-size=\"12\" font-style=\"italic\" lengthAdjust=\"spacingAndGlyphs\" textLength=\"40\" x=\"281\" y=\"57.1387\">«part»</text><text fill=\"#000000\" font-family=\"sans-serif\" font-size=\"12\" lengthAdjust=\"spacingAndGlyphs\" textLength=\"8\" x=\"297\" y=\"71.1074\">q</text><line style=\"stroke: #A80036; stroke-width: 1.5;\" x1=\"281\" x2=\"321\" y1=\"78.9375\" y2=\"78.9375\"/></a><!--MD5=[ee3c913d1a06f366521f9ef512b67efe]\n",
       "class E13--><a href=\"psysml:aee31540-9ea4-41ee-8ebb-8555bfaf03fb\" target=\"_top\" title=\"psysml:aee31540-9ea4-41ee-8ebb-8555bfaf03fb\" xlink:actuate=\"onRequest\" xlink:href=\"psysml:aee31540-9ea4-41ee-8ebb-8555bfaf03fb\" xlink:show=\"new\" xlink:title=\"psysml:aee31540-9ea4-41ee-8ebb-8555bfaf03fb\" xlink:type=\"simple\"><rect fill=\"#FEFECE\" filter=\"url(#f1wxc2idjjbobh)\" height=\"45.9375\" id=\"E13\" rx=\"10\" ry=\"10\" style=\"stroke: #A80036; stroke-width: 1.5;\" width=\"93\" x=\"200.5\" y=\"164\"/><text fill=\"#000000\" font-family=\"sans-serif\" font-size=\"12\" font-style=\"italic\" lengthAdjust=\"spacingAndGlyphs\" textLength=\"91\" x=\"201.5\" y=\"180.1387\">«requirement»</text><text fill=\"#000000\" font-family=\"sans-serif\" font-size=\"12\" lengthAdjust=\"spacingAndGlyphs\" textLength=\"21\" x=\"234.5\" y=\"194.1074\">r: R</text><line style=\"stroke: #A80036; stroke-width: 1.5;\" x1=\"201.5\" x2=\"292.5\" y1=\"201.9375\" y2=\"201.9375\"/></a><!--MD5=[bee11217b2f71d958a27249dc326068c]\n",
       "class E14--><a href=\"psysml:5c4fb90e-2e7f-411e-8437-1e0e9b0bd00e\" target=\"_top\" title=\"psysml:5c4fb90e-2e7f-411e-8437-1e0e9b0bd00e\" xlink:actuate=\"onRequest\" xlink:href=\"psysml:5c4fb90e-2e7f-411e-8437-1e0e9b0bd00e\" xlink:show=\"new\" xlink:title=\"psysml:5c4fb90e-2e7f-411e-8437-1e0e9b0bd00e\" xlink:type=\"simple\"><rect fill=\"#FEFECE\" filter=\"url(#f1wxc2idjjbobh)\" height=\"45.9375\" id=\"E14\" rx=\"10\" ry=\"10\" style=\"stroke: #A80036; stroke-width: 1.5;\" width=\"93\" x=\"46.5\" y=\"164\"/><text fill=\"#000000\" font-family=\"sans-serif\" font-size=\"12\" font-style=\"italic\" lengthAdjust=\"spacingAndGlyphs\" textLength=\"91\" x=\"47.5\" y=\"180.1387\">«requirement»</text><text fill=\"#000000\" font-family=\"sans-serif\" font-size=\"12\" lengthAdjust=\"spacingAndGlyphs\" textLength=\"37\" x=\"72.5\" y=\"194.1074\">r1: R1</text><line style=\"stroke: #A80036; stroke-width: 1.5;\" x1=\"47.5\" x2=\"138.5\" y1=\"201.9375\" y2=\"201.9375\"/></a><!--MD5=[05d275557350bfb9b23a4ef7222b4c39]\n",
       "link E3 to E2--><a href=\"psysml:1cfa9d08-8b1e-49ae-8f22-7ec5c2d68c94\" target=\"_top\" title=\"psysml:1cfa9d08-8b1e-49ae-8f22-7ec5c2d68c94\" xlink:actuate=\"onRequest\" xlink:href=\"psysml:1cfa9d08-8b1e-49ae-8f22-7ec5c2d68c94\" xlink:show=\"new\" xlink:title=\"psysml:1cfa9d08-8b1e-49ae-8f22-7ec5c2d68c94\" xlink:type=\"simple\"><path d=\"M418.43,87.25 C428.59,100.56 437.27,117.96 431,134 C429.08,138.91 426.46,143.63 423.42,148.09 \" fill=\"none\" id=\"E3-&gt;E2\" style=\"stroke: #A80036; stroke-width: 1.0;\"/><polygon fill=\"#FFFFFF\" points=\"410.27,163.84,417.0769,144.77,427.8221,153.7444,410.27,163.84\" style=\"stroke: #A80036; stroke-width: 1.0;\"/><ellipse cx=\"422.2658\" cy=\"141.6772\" fill=\"#A80036\" rx=\"2\" ry=\"2\" style=\"stroke: #A80036; stroke-width: 1.0;\"/><ellipse cx=\"429.941\" cy=\"148.0874\" fill=\"#A80036\" rx=\"2\" ry=\"2\" style=\"stroke: #A80036; stroke-width: 1.0;\"/></a><!--MD5=[722ff4eef345aa10242dad44df0e98c7]\n",
       "reverse link E4 to E7--><a href=\"psysml:8957256b-d423-4c87-844e-8026b3f5c553\" target=\"_top\" title=\"psysml:8957256b-d423-4c87-844e-8026b3f5c553\" xlink:actuate=\"onRequest\" xlink:href=\"psysml:8957256b-d423-4c87-844e-8026b3f5c553\" xlink:show=\"new\" xlink:title=\"psysml:8957256b-d423-4c87-844e-8026b3f5c553\" xlink:type=\"simple\"><path d=\"M228.38,350.29 C219.19,370.26 208.76,392.91 201.26,409.21 \" fill=\"none\" id=\"E4&lt;-E7\" style=\"stroke: #A80036; stroke-width: 1.0;\"/><polygon fill=\"#A80036\" points=\"233.91,338.28,227.7664,342.0558,228.8888,349.179,235.0324,345.4032,233.91,338.28\" style=\"stroke: #A80036; stroke-width: 1.0;\"/><text fill=\"#000000\" font-family=\"sans-serif\" font-size=\"13\" lengthAdjust=\"spacingAndGlyphs\" textLength=\"7\" x=\"195.9922\" y=\"398.412\">*</text></a><!--MD5=[c6fc7cdb0cabde04948078cf183fa696]\n",
       "reverse link E4 to E8--><a href=\"psysml:e7993699-2e90-4c6e-9ce7-c90f60868f83\" target=\"_top\" title=\"psysml:e7993699-2e90-4c6e-9ce7-c90f60868f83\" xlink:actuate=\"onRequest\" xlink:href=\"psysml:e7993699-2e90-4c6e-9ce7-c90f60868f83\" xlink:show=\"new\" xlink:title=\"psysml:e7993699-2e90-4c6e-9ce7-c90f60868f83\" xlink:type=\"simple\"><path d=\"M279.4,351.09 C289.94,366.92 301.55,384.33 311.26,398.89 \" fill=\"none\" id=\"E4&lt;-E8\" style=\"stroke: #A80036; stroke-width: 1.0;\"/><ellipse cx=\"275.2894\" cy=\"344.9352\" fill=\"#FFFFFF\" rx=\"8\" ry=\"8\" style=\"stroke: #A80036; stroke-width: 1.0;\"/><line style=\"stroke: #A80036; stroke-width: 1.0;\" x1=\"279.7287\" x2=\"270.85\" y1=\"351.5905\" y2=\"338.28\"/><line style=\"stroke: #A80036; stroke-width: 1.0;\" x1=\"268.6341\" x2=\"281.9446\" y1=\"349.3746\" y2=\"340.4959\"/></a><!--MD5=[062ed86c389d1a88f61c6380d0491e17]\n",
       "reverse link E12 to E13--><a href=\"psysml:0f26ba0d-7372-4c44-875c-adf3c35e17b9\" target=\"_top\" title=\"psysml:0f26ba0d-7372-4c44-875c-adf3c35e17b9\" xlink:actuate=\"onRequest\" xlink:href=\"psysml:0f26ba0d-7372-4c44-875c-adf3c35e17b9\" xlink:show=\"new\" xlink:title=\"psysml:0f26ba0d-7372-4c44-875c-adf3c35e17b9\" xlink:type=\"simple\"><path d=\"M333.8,84.02 C335.88,85.07 337.96,86.07 340,87 C378.92,104.77 450.04,100.06 424,134 C392.63,174.88 361.32,149.06 312,164 C306.07,165.8 299.87,167.77 293.75,169.77 \" fill=\"none\" id=\"E12&lt;-E13\" style=\"stroke: #A80036; stroke-width: 1.0;\"/><polygon fill=\"#A80036\" points=\"322.11,77.78,325.5172,84.1354,332.6942,83.4346,329.287,77.0792,322.11,77.78\" style=\"stroke: #A80036; stroke-width: 1.0;\"/></a><!--MD5=[e2a9ac97dcd3257bb5342dae06547bad]\n",
       "link E12 to E13--><a href=\"psysml:f5a4eec3-f375-4f03-819b-6c5c8dc7728c\" target=\"_top\" title=\"psysml:f5a4eec3-f375-4f03-819b-6c5c8dc7728c\" xlink:actuate=\"onRequest\" xlink:href=\"psysml:f5a4eec3-f375-4f03-819b-6c5c8dc7728c\" xlink:show=\"new\" xlink:title=\"psysml:f5a4eec3-f375-4f03-819b-6c5c8dc7728c\" xlink:type=\"simple\"><path d=\"M317.81,87.18 C326.17,101.08 332.96,119.13 325,134 C318.83,145.53 308.85,154.94 298.06,162.43 \" fill=\"none\" id=\"E12-&gt;E13\" style=\"stroke: #A80036; stroke-width: 1.0; stroke-dasharray: 7.0,7.0;\"/><polygon fill=\"#A80036\" points=\"293.73,165.31,303.4373,163.6459,297.8903,162.5365,298.9997,156.9895,293.73,165.31\" style=\"stroke: #A80036; stroke-width: 1.0;\"/><text fill=\"#000000\" font-family=\"sans-serif\" font-size=\"13\" lengthAdjust=\"spacingAndGlyphs\" textLength=\"57\" x=\"329\" y=\"130.0669\">«satisfy»</text></a><!--MD5=[017847e01ff9a8bd19f247411074f987]\n",
       "link E13 to E4--><a href=\"psysml:e01bb7f1-206a-408f-a898-0799ec242df4\" target=\"_top\" title=\"psysml:e01bb7f1-206a-408f-a898-0799ec242df4\" xlink:actuate=\"onRequest\" xlink:href=\"psysml:e01bb7f1-206a-408f-a898-0799ec242df4\" xlink:show=\"new\" xlink:title=\"psysml:e01bb7f1-206a-408f-a898-0799ec242df4\" xlink:type=\"simple\"><path d=\"M247.39,210.27 C247.59,221.81 247.84,236.43 248.09,250.66 \" fill=\"none\" id=\"E13-&gt;E4\" style=\"stroke: #A80036; stroke-width: 1.0;\"/><polygon fill=\"#FFFFFF\" points=\"248.43,270.81,241.1054,251.9328,255.1033,251.6928,248.43,270.81\" style=\"stroke: #A80036; stroke-width: 1.0;\"/><ellipse cx=\"243.0074\" cy=\"246.1993\" fill=\"#A80036\" rx=\"2\" ry=\"2\" style=\"stroke: #A80036; stroke-width: 1.0;\"/><ellipse cx=\"253.0059\" cy=\"246.0279\" fill=\"#A80036\" rx=\"2\" ry=\"2\" style=\"stroke: #A80036; stroke-width: 1.0;\"/></a><!--MD5=[60f911bb19596b289db4a22769f8105a]\n",
       "link E11 to E13--><a href=\"psysml:e806deaf-0ce2-4d10-9e57-833502fc32ee\" target=\"_top\" title=\"psysml:e806deaf-0ce2-4d10-9e57-833502fc32ee\" xlink:actuate=\"onRequest\" xlink:href=\"psysml:e806deaf-0ce2-4d10-9e57-833502fc32ee\" xlink:show=\"new\" xlink:title=\"psysml:e806deaf-0ce2-4d10-9e57-833502fc32ee\" xlink:type=\"simple\"><path d=\"M127.91,87.28 C136.39,101.75 148.76,120.37 163,134 C173.59,144.14 186.48,153.31 198.95,161.02 \" fill=\"none\" id=\"E11-&gt;E13\" style=\"stroke: #A80036; stroke-width: 1.0; stroke-dasharray: 7.0,7.0;\"/><polygon fill=\"#A80036\" points=\"203.52,163.8,197.9,155.712,199.2452,161.2066,193.7506,162.5517,203.52,163.8\" style=\"stroke: #A80036; stroke-width: 1.0;\"/><text fill=\"#000000\" font-family=\"sans-serif\" font-size=\"13\" lengthAdjust=\"spacingAndGlyphs\" textLength=\"57\" x=\"164\" y=\"130.0669\">«satisfy»</text></a><!--MD5=[0c677eb374079406c87b74cd1f5a339d]\n",
       "link E14 to E9--><a href=\"psysml:d6ece11e-fb98-4dd6-9106-0f6846b0bd9f\" target=\"_top\" title=\"psysml:d6ece11e-fb98-4dd6-9106-0f6846b0bd9f\" xlink:actuate=\"onRequest\" xlink:href=\"psysml:d6ece11e-fb98-4dd6-9106-0f6846b0bd9f\" xlink:show=\"new\" xlink:title=\"psysml:d6ece11e-fb98-4dd6-9106-0f6846b0bd9f\" xlink:type=\"simple\"><path d=\"M93,210.27 C93,224.65 93,243.82 93,261.04 \" fill=\"none\" id=\"E14-&gt;E9\" style=\"stroke: #A80036; stroke-width: 1.0;\"/><polygon fill=\"#FFFFFF\" points=\"93,281.3,86,262.3,100,262.3,93,281.3\" style=\"stroke: #A80036; stroke-width: 1.0;\"/><ellipse cx=\"88\" cy=\"256.6\" fill=\"#A80036\" rx=\"2\" ry=\"2\" style=\"stroke: #A80036; stroke-width: 1.0;\"/><ellipse cx=\"98\" cy=\"256.6\" fill=\"#A80036\" rx=\"2\" ry=\"2\" style=\"stroke: #A80036; stroke-width: 1.0;\"/></a><!--MD5=[9c1c40551dcf5c2fca147626a786a7cd]\n",
       "link E11 to E14--><a href=\"psysml:feaea2f2-720b-4dbc-ba1d-0aec40f00046\" target=\"_top\" title=\"psysml:feaea2f2-720b-4dbc-ba1d-0aec40f00046\" xlink:actuate=\"onRequest\" xlink:href=\"psysml:feaea2f2-720b-4dbc-ba1d-0aec40f00046\" xlink:show=\"new\" xlink:title=\"psysml:feaea2f2-720b-4dbc-ba1d-0aec40f00046\" xlink:type=\"simple\"><path d=\"M94.96,79.46 C83.46,88.7 70.3,101.78 64,117 C58.15,131.13 63.81,146.85 71.63,159.71 \" fill=\"none\" id=\"E11-&gt;E14\" style=\"stroke: #A80036; stroke-width: 1.0; stroke-dasharray: 7.0,7.0;\"/><polygon fill=\"#A80036\" points=\"74.35,163.96,72.8629,154.2241,71.6527,159.7499,66.1268,158.5397,74.35,163.96\" style=\"stroke: #A80036; stroke-width: 1.0;\"/><text fill=\"#000000\" font-family=\"sans-serif\" font-size=\"13\" lengthAdjust=\"spacingAndGlyphs\" textLength=\"57\" x=\"65\" y=\"130.0669\">«satisfy»</text></a><!--MD5=[d53cb08dffc8689d16e38c8e194e9adc]\n",
       "link E12 to E14--><a href=\"psysml:f5704f7b-2601-4abd-90b0-2ec51a978e80\" target=\"_top\" title=\"psysml:f5704f7b-2601-4abd-90b0-2ec51a978e80\" xlink:actuate=\"onRequest\" xlink:href=\"psysml:f5704f7b-2601-4abd-90b0-2ec51a978e80\" xlink:show=\"new\" xlink:title=\"psysml:f5704f7b-2601-4abd-90b0-2ec51a978e80\" xlink:type=\"simple\"><path d=\"M281.09,87.22 C266.89,102.03 246.71,121.07 226,134 C200.86,149.7 170.21,162.07 144.66,170.81 \" fill=\"none\" id=\"E12-&gt;E14\" style=\"stroke: #A80036; stroke-width: 1.0; stroke-dasharray: 7.0,7.0;\"/><polygon fill=\"#A80036\" points=\"139.62,172.5,149.4273,173.4043,144.3562,170.8974,146.8631,165.8264,139.62,172.5\" style=\"stroke: #A80036; stroke-width: 1.0;\"/><text fill=\"#000000\" font-family=\"sans-serif\" font-size=\"13\" lengthAdjust=\"spacingAndGlyphs\" textLength=\"57\" x=\"249\" y=\"130.0669\">«satisfy»</text></a><!--MD5=[1415a841ccf61cfb54e266a8014a6741]\n",
       "@startuml\r\n",
       "skinparam wrapWidth 300\r\n",
       "hide circle\r\n",
       "\r\n",
       "package \"RequirementTest\" as E1  [[psysml:2a075407-fc8d-47b4-b4de-e1839d24b848 ]]  {\r\n",
       "comp def \"C\" as E2  <<(T,blue) constraint  def>> [[psysml:8e8b9929-fb62-44f3-bb6e-73f88688eaf1 ]] {\r\n",
       "}\r\n",
       "comp usage \"c: C \" as E3  <<(T,blue) constraint>> [[psysml:8dab2afb-478b-48f2-a7f7-bb2b245c05ea ]] {\r\n",
       "}\r\n",
       "comp def \"R\" as E4  <<(T,blue) requirement  def>> [[psysml:cae76f8a-948f-454f-8648-301efab5060e ]] {\r\n",
       "\r\n",
       "- -\r\n",
       "}\r\n",
       "comp usage \"<s>noname</s>\" as E7  <<(T,blue) requirement>> [[psysml:70e6cc11-a878-4419-9a48-d32cb5df9816 ]] {\r\n",
       "}\r\n",
       "comp def \" [<b>1</b>] A\" as E8  <<(T,blue) requirement  def>> [[psysml:5c5c4776-1d3a-4700-8516-1d3a67d779f4 ]] {\r\n",
       "Text\r\n",
       "- -\r\n",
       "}\r\n",
       "comp def \"R1\" as E9  <<(T,blue) requirement  def>> [[psysml:f2fc2205-4b84-4313-b340-24ee025c15cf ]] {\r\n",
       "}\r\n",
       "comp usage \"p\" as E11  <<(T,blue) part>> [[psysml:4203d305-f881-4dfa-bcc5-a82b5aac35c4 ]] {\r\n",
       "}\r\n",
       "comp usage \"q\" as E12  <<(T,blue) part>> [[psysml:d0dbee69-5f2e-4ac4-ba4b-4aca7380bae7 ]] {\r\n",
       "}\r\n",
       "comp usage \"r: R \" as E13  <<(T,blue) requirement>> [[psysml:aee31540-9ea4-41ee-8ebb-8555bfaf03fb ]] {\r\n",
       "}\r\n",
       "comp usage \"r1: R1 \" as E14  <<(T,blue) requirement>> [[psysml:5c4fb90e-2e7f-411e-8437-1e0e9b0bd00e ]] {\r\n",
       "}\r\n",
       "}\r\n",
       "E3 - -:|> E2 [[psysml:1cfa9d08-8b1e-49ae-8f22-7ec5c2d68c94 ]] \r\n",
       "E4 *- - \"*\"E7 [[psysml:8957256b-d423-4c87-844e-8026b3f5c553 ]] \r\n",
       "E4 +- - E8 [[psysml:e7993699-2e90-4c6e-9ce7-c90f60868f83 ]] \r\n",
       "E12 *- - E13 [[psysml:0f26ba0d-7372-4c44-875c-adf3c35e17b9 ]] \r\n",
       "E13 - -:|> E4 [[psysml:e01bb7f1-206a-408f-a898-0799ec242df4 ]] \r\n",
       "E11 ..> E13 [[psysml:e806deaf-0ce2-4d10-9e57-833502fc32ee ]] : <<satisfy>>\r\n",
       "E12 ..> E13 [[psysml:f5a4eec3-f375-4f03-819b-6c5c8dc7728c ]] : <<satisfy>>\r\n",
       "E14 - -:|> E9 [[psysml:d6ece11e-fb98-4dd6-9106-0f6846b0bd9f ]] \r\n",
       "E11 ..> E14 [[psysml:feaea2f2-720b-4dbc-ba1d-0aec40f00046 ]] : <<satisfy>>\r\n",
       "E12 ..> E14 [[psysml:f5704f7b-2601-4abd-90b0-2ec51a978e80 ]] : <<satisfy>>\r\n",
       "@enduml\r\n",
       "\n",
       "PlantUML version 1.2020.13(Sat Jun 13 12:26:38 UTC 2020)\n",
       "(EPL source distribution)\n",
       "Java Runtime: OpenJDK Runtime Environment\n",
       "JVM: OpenJDK 64-Bit Server VM\n",
       "Default Encoding: UTF-8\n",
       "Language: en\n",
       "Country: null\n",
       "--></g></svg>"
      ]
     },
     "execution_count": 24,
     "metadata": {},
     "output_type": "execute_result"
    }
   ],
   "source": [
    "%viz --style=\"STDCOLOR\" --view=\"Tree\" \"RequirementTest\""
   ]
  },
  {
   "cell_type": "code",
   "execution_count": 25,
   "id": "24dd6ec4",
   "metadata": {
    "execution": {
     "iopub.execute_input": "2021-10-25T08:21:13.374033Z",
     "iopub.status.busy": "2021-10-25T08:21:13.373637Z",
     "iopub.status.idle": "2021-10-25T08:21:13.379257Z",
     "shell.execute_reply": "2021-10-25T08:21:13.379572Z"
    }
   },
   "outputs": [
    {
     "data": {
      "image/svg+xml": [
       "<?xml version=\"1.0\" encoding=\"UTF-8\" standalone=\"no\"?><svg xmlns=\"http://www.w3.org/2000/svg\" xmlns:xlink=\"http://www.w3.org/1999/xlink\" contentScriptType=\"application/ecmascript\" contentStyleType=\"text/css\" height=\"12px\" preserveAspectRatio=\"none\" style=\"width:12px;height:12px;\" version=\"1.1\" viewBox=\"0 0 12 12\" width=\"12px\" zoomAndPan=\"magnify\"><defs/><g><!--MD5=[aeeef50f102b80d730deb6443d14f702]\n",
       "@startuml\r\n",
       "skinparam wrapWidth 300\r\n",
       "hide circle\r\n",
       "\r\n",
       "@enduml\r\n",
       "\n",
       "PlantUML version 1.2020.13(Sat Jun 13 12:26:38 UTC 2020)\n",
       "(EPL source distribution)\n",
       "Java Runtime: OpenJDK Runtime Environment\n",
       "JVM: OpenJDK 64-Bit Server VM\n",
       "Default Encoding: UTF-8\n",
       "Language: en\n",
       "Country: null\n",
       "--></g></svg>"
      ]
     },
     "execution_count": 25,
     "metadata": {},
     "output_type": "execute_result"
    }
   ],
   "source": [
    "%viz --style=\"STDCOLOR\" --view=\"State\" \"RequirementTest\""
   ]
  },
  {
   "cell_type": "code",
   "execution_count": 26,
   "id": "88fdfd08",
   "metadata": {
    "execution": {
     "iopub.execute_input": "2021-10-25T08:21:13.429113Z",
     "iopub.status.busy": "2021-10-25T08:21:13.428722Z",
     "iopub.status.idle": "2021-10-25T08:21:13.486253Z",
     "shell.execute_reply": "2021-10-25T08:21:13.486543Z"
    }
   },
   "outputs": [
    {
     "data": {
      "image/svg+xml": [
       "<?xml version=\"1.0\" encoding=\"UTF-8\" standalone=\"no\"?><svg xmlns=\"http://www.w3.org/2000/svg\" xmlns:xlink=\"http://www.w3.org/1999/xlink\" contentScriptType=\"application/ecmascript\" contentStyleType=\"text/css\" height=\"438px\" preserveAspectRatio=\"none\" style=\"width:492px;height:438px;\" version=\"1.1\" viewBox=\"0 0 492 438\" width=\"492px\" zoomAndPan=\"magnify\"><defs><filter height=\"300%\" id=\"f1vi6d741qi4z3\" width=\"300%\" x=\"-1\" y=\"-1\"><feGaussianBlur result=\"blurOut\" stdDeviation=\"2.0\"/><feColorMatrix in=\"blurOut\" result=\"blurOut2\" type=\"matrix\" values=\"0 0 0 0 0 0 0 0 0 0 0 0 0 0 0 0 0 0 .4 0\"/><feOffset dx=\"4.0\" dy=\"4.0\" in=\"blurOut2\" result=\"blurOut3\"/><feBlend in=\"SourceGraphic\" in2=\"blurOut3\" mode=\"normal\"/></filter></defs><g><!--MD5=[fbc87193dbaf4d95561dea2c320d4a47]\n",
       "cluster E1--><a href=\"psysml:2a075407-fc8d-47b4-b4de-e1839d24b848\" target=\"_top\" title=\"psysml:2a075407-fc8d-47b4-b4de-e1839d24b848\" xlink:actuate=\"onRequest\" xlink:href=\"psysml:2a075407-fc8d-47b4-b4de-e1839d24b848\" xlink:show=\"new\" xlink:title=\"psysml:2a075407-fc8d-47b4-b4de-e1839d24b848\" xlink:type=\"simple\"><polygon fill=\"#FFFFFF\" filter=\"url(#f1vi6d741qi4z3)\" points=\"16,6,143,6,150,28.2969,470,28.2969,470,426.36,16,426.36,16,6\" style=\"stroke: #000000; stroke-width: 1.5;\"/><line style=\"stroke: #000000; stroke-width: 1.5;\" x1=\"16\" x2=\"150\" y1=\"28.2969\" y2=\"28.2969\"/><text fill=\"#000000\" font-family=\"sans-serif\" font-size=\"14\" font-weight=\"bold\" lengthAdjust=\"spacingAndGlyphs\" textLength=\"121\" x=\"20\" y=\"20.9951\">RequirementTest</text></a><!--MD5=[47bea60c1a0ac6c1143df232041969c0]\n",
       "cluster E12--><a href=\"psysml:d0dbee69-5f2e-4ac4-ba4b-4aca7380bae7\" target=\"_top\" title=\"psysml:d0dbee69-5f2e-4ac4-ba4b-4aca7380bae7\" xlink:actuate=\"onRequest\" xlink:href=\"psysml:d0dbee69-5f2e-4ac4-ba4b-4aca7380bae7\" xlink:show=\"new\" xlink:title=\"psysml:d0dbee69-5f2e-4ac4-ba4b-4aca7380bae7\" xlink:type=\"simple\"><rect fill=\"#FFFFFF\" filter=\"url(#f1vi6d741qi4z3)\" height=\"169.36\" id=\"E12\" rx=\"10\" ry=\"10\" style=\"stroke: #A80036; stroke-width: 1.5;\" width=\"140\" x=\"48\" y=\"57\"/><rect fill=\"#FEFECE\" height=\"23.9688\" rx=\"10\" ry=\"10\" style=\"stroke: #FEFECE; stroke-width: 1.5;\" width=\"140\" x=\"48\" y=\"57\"/><rect fill=\"#FEFECE\" height=\"10\" style=\"stroke: #FEFECE; stroke-width: 1.5;\" width=\"140\" x=\"48\" y=\"70.9688\"/><rect fill=\"none\" height=\"169.36\" id=\"E12\" rx=\"10\" ry=\"10\" style=\"stroke: #A80036; stroke-width: 1.5;\" width=\"140\" x=\"48\" y=\"57\"/><text fill=\"#000000\" font-family=\"sans-serif\" font-size=\"12\" lengthAdjust=\"spacingAndGlyphs\" textLength=\"8\" x=\"114\" y=\"73.1387\">q</text><line style=\"stroke: #A80036; stroke-width: 1.0;\" x1=\"48\" x2=\"188\" y1=\"80.9688\" y2=\"80.9688\"/></a><g id=\"E1.E2\"><a href=\"psysml:8e8b9929-fb62-44f3-bb6e-73f88688eaf1\" target=\"_top\" title=\"psysml:8e8b9929-fb62-44f3-bb6e-73f88688eaf1\" xlink:actuate=\"onRequest\" xlink:href=\"psysml:8e8b9929-fb62-44f3-bb6e-73f88688eaf1\" xlink:show=\"new\" xlink:title=\"psysml:8e8b9929-fb62-44f3-bb6e-73f88688eaf1\" xlink:type=\"simple\"><rect fill=\"#FEFECE\" filter=\"url(#f1vi6d741qi4z3)\" height=\"42.9375\" id=\"E2\" style=\"stroke: #A80036; stroke-width: 1.5;\" width=\"113\" x=\"340.5\" y=\"157.86\"/><text fill=\"#000000\" font-family=\"sans-serif\" font-size=\"12\" font-style=\"italic\" lengthAdjust=\"spacingAndGlyphs\" textLength=\"106\" x=\"344\" y=\"173.9987\">«constraint  def»</text><text fill=\"#000000\" font-family=\"sans-serif\" font-size=\"12\" lengthAdjust=\"spacingAndGlyphs\" textLength=\"8\" x=\"393\" y=\"187.9674\">C</text></a></g><!--MD5=[09b614a08d8cba4a07c9adeb5e0fee81]\n",
       "class E3--><a href=\"psysml:8dab2afb-478b-48f2-a7f7-bb2b245c05ea\" target=\"_top\" title=\"psysml:8dab2afb-478b-48f2-a7f7-bb2b245c05ea\" xlink:actuate=\"onRequest\" xlink:href=\"psysml:8dab2afb-478b-48f2-a7f7-bb2b245c05ea\" xlink:show=\"new\" xlink:title=\"psysml:8dab2afb-478b-48f2-a7f7-bb2b245c05ea\" xlink:type=\"simple\"><rect fill=\"#FEFECE\" filter=\"url(#f1vi6d741qi4z3)\" height=\"45.9375\" id=\"E3\" rx=\"10\" ry=\"10\" style=\"stroke: #A80036; stroke-width: 1.5;\" width=\"80\" x=\"374\" y=\"61.36\"/><text fill=\"#000000\" font-family=\"sans-serif\" font-size=\"12\" font-style=\"italic\" lengthAdjust=\"spacingAndGlyphs\" textLength=\"78\" x=\"375\" y=\"77.4987\">«constraint»</text><text fill=\"#000000\" font-family=\"sans-serif\" font-size=\"12\" lengthAdjust=\"spacingAndGlyphs\" textLength=\"23\" x=\"400.5\" y=\"91.4674\">c: C</text><line style=\"stroke: #A80036; stroke-width: 1.5;\" x1=\"375\" x2=\"453\" y1=\"99.2975\" y2=\"99.2975\"/></a><!--MD5=[ebbe1d658d1005bcc118a6aa81145e00]\n",
       "class E4--><a href=\"psysml:cae76f8a-948f-454f-8648-301efab5060e\" target=\"_top\" title=\"psysml:cae76f8a-948f-454f-8648-301efab5060e\" xlink:actuate=\"onRequest\" xlink:href=\"psysml:cae76f8a-948f-454f-8648-301efab5060e\" xlink:show=\"new\" xlink:title=\"psysml:cae76f8a-948f-454f-8648-301efab5060e\" xlink:type=\"simple\"><rect fill=\"#FEFECE\" filter=\"url(#f1vi6d741qi4z3)\" height=\"66.7422\" id=\"E4\" style=\"stroke: #A80036; stroke-width: 1.5;\" width=\"121\" x=\"51.5\" y=\"259.36\"/><text fill=\"#000000\" font-family=\"sans-serif\" font-size=\"12\" font-style=\"italic\" lengthAdjust=\"spacingAndGlyphs\" textLength=\"119\" x=\"52.5\" y=\"275.4987\">«requirement  def»</text><text fill=\"#000000\" font-family=\"sans-serif\" font-size=\"12\" lengthAdjust=\"spacingAndGlyphs\" textLength=\"8\" x=\"108\" y=\"289.4674\">R</text><line style=\"stroke: #A80036; stroke-width: 1.5;\" x1=\"52.5\" x2=\"171.5\" y1=\"297.2975\" y2=\"297.2975\"/><text fill=\"#000000\" font-family=\"sans-serif\" font-size=\"11\" lengthAdjust=\"spacingAndGlyphs\" textLength=\"0\" x=\"61.5\" y=\"311.5079\"/><line style=\"stroke: #A80036; stroke-width: 1.0;\" x1=\"52.5\" x2=\"171.5\" y1=\"318.1022\" y2=\"318.1022\"/></a><!--MD5=[2156ba9850f5573cc1fc38a6a4b2f02b]\n",
       "class E7--><a href=\"psysml:70e6cc11-a878-4419-9a48-d32cb5df9816\" target=\"_top\" title=\"psysml:70e6cc11-a878-4419-9a48-d32cb5df9816\" xlink:actuate=\"onRequest\" xlink:href=\"psysml:70e6cc11-a878-4419-9a48-d32cb5df9816\" xlink:show=\"new\" xlink:title=\"psysml:70e6cc11-a878-4419-9a48-d32cb5df9816\" xlink:type=\"simple\"><rect fill=\"#FEFECE\" filter=\"url(#f1vi6d741qi4z3)\" height=\"45.9375\" id=\"E7\" rx=\"10\" ry=\"10\" style=\"stroke: #A80036; stroke-width: 1.5;\" width=\"93\" x=\"43.5\" y=\"353.86\"/><text fill=\"#000000\" font-family=\"sans-serif\" font-size=\"12\" font-style=\"italic\" lengthAdjust=\"spacingAndGlyphs\" textLength=\"91\" x=\"44.5\" y=\"369.9987\">«requirement»</text><text fill=\"#000000\" font-family=\"sans-serif\" font-size=\"12\" lengthAdjust=\"spacingAndGlyphs\" text-decoration=\"line-through\" textLength=\"51\" x=\"64.5\" y=\"383.9674\">noname</text><line style=\"stroke: #A80036; stroke-width: 1.5;\" x1=\"44.5\" x2=\"135.5\" y1=\"391.7975\" y2=\"391.7975\"/></a><!--MD5=[b9389687b975829384b498ac4b7476b2]\n",
       "class E8--><a href=\"psysml:5c5c4776-1d3a-4700-8516-1d3a67d779f4\" target=\"_top\" title=\"psysml:5c5c4776-1d3a-4700-8516-1d3a67d779f4\" xlink:actuate=\"onRequest\" xlink:href=\"psysml:5c5c4776-1d3a-4700-8516-1d3a67d779f4\" xlink:show=\"new\" xlink:title=\"psysml:5c5c4776-1d3a-4700-8516-1d3a67d779f4\" xlink:type=\"simple\"><rect fill=\"#FEFECE\" filter=\"url(#f1vi6d741qi4z3)\" height=\"66.7422\" id=\"E8\" style=\"stroke: #A80036; stroke-width: 1.5;\" width=\"121\" x=\"171.5\" y=\"343.36\"/><text fill=\"#000000\" font-family=\"sans-serif\" font-size=\"12\" font-style=\"italic\" lengthAdjust=\"spacingAndGlyphs\" textLength=\"119\" x=\"172.5\" y=\"359.4987\">«requirement  def»</text><text fill=\"#000000\" font-family=\"sans-serif\" font-size=\"12\" lengthAdjust=\"spacingAndGlyphs\" textLength=\"5\" x=\"219\" y=\"373.4674\">[</text><text fill=\"#000000\" font-family=\"sans-serif\" font-size=\"12\" font-weight=\"bold\" lengthAdjust=\"spacingAndGlyphs\" textLength=\"8\" x=\"224\" y=\"373.4674\">1</text><text fill=\"#000000\" font-family=\"sans-serif\" font-size=\"12\" lengthAdjust=\"spacingAndGlyphs\" textLength=\"17\" x=\"232\" y=\"373.4674\">] A</text><line style=\"stroke: #A80036; stroke-width: 1.5;\" x1=\"172.5\" x2=\"291.5\" y1=\"381.2975\" y2=\"381.2975\"/><text fill=\"#000000\" font-family=\"sans-serif\" font-size=\"11\" lengthAdjust=\"spacingAndGlyphs\" textLength=\"24\" x=\"177.5\" y=\"395.5079\">Text</text><line style=\"stroke: #A80036; stroke-width: 1.0;\" x1=\"172.5\" x2=\"291.5\" y1=\"402.1022\" y2=\"402.1022\"/></a><!--MD5=[fd4143e9d270a159db93a4ea2a975926]\n",
       "class E9--><a href=\"psysml:f2fc2205-4b84-4313-b340-24ee025c15cf\" target=\"_top\" title=\"psysml:f2fc2205-4b84-4313-b340-24ee025c15cf\" xlink:actuate=\"onRequest\" xlink:href=\"psysml:f2fc2205-4b84-4313-b340-24ee025c15cf\" xlink:show=\"new\" xlink:title=\"psysml:f2fc2205-4b84-4313-b340-24ee025c15cf\" xlink:type=\"simple\"><rect fill=\"#FEFECE\" filter=\"url(#f1vi6d741qi4z3)\" height=\"45.9375\" id=\"E9\" style=\"stroke: #A80036; stroke-width: 1.5;\" width=\"121\" x=\"207.5\" y=\"269.86\"/><text fill=\"#000000\" font-family=\"sans-serif\" font-size=\"12\" font-style=\"italic\" lengthAdjust=\"spacingAndGlyphs\" textLength=\"119\" x=\"208.5\" y=\"285.9987\">«requirement  def»</text><text fill=\"#000000\" font-family=\"sans-serif\" font-size=\"12\" lengthAdjust=\"spacingAndGlyphs\" textLength=\"16\" x=\"260\" y=\"299.9674\">R1</text><line style=\"stroke: #A80036; stroke-width: 1.5;\" x1=\"208.5\" x2=\"327.5\" y1=\"307.7975\" y2=\"307.7975\"/></a><!--MD5=[bee11217b2f71d958a27249dc326068c]\n",
       "class E14--><a href=\"psysml:5c4fb90e-2e7f-411e-8437-1e0e9b0bd00e\" target=\"_top\" title=\"psysml:5c4fb90e-2e7f-411e-8437-1e0e9b0bd00e\" xlink:actuate=\"onRequest\" xlink:href=\"psysml:5c4fb90e-2e7f-411e-8437-1e0e9b0bd00e\" xlink:show=\"new\" xlink:title=\"psysml:5c4fb90e-2e7f-411e-8437-1e0e9b0bd00e\" xlink:type=\"simple\"><rect fill=\"#FEFECE\" filter=\"url(#f1vi6d741qi4z3)\" height=\"45.9375\" id=\"E14\" rx=\"10\" ry=\"10\" style=\"stroke: #A80036; stroke-width: 1.5;\" width=\"93\" x=\"212.5\" y=\"156.36\"/><text fill=\"#000000\" font-family=\"sans-serif\" font-size=\"12\" font-style=\"italic\" lengthAdjust=\"spacingAndGlyphs\" textLength=\"91\" x=\"213.5\" y=\"172.4987\">«requirement»</text><text fill=\"#000000\" font-family=\"sans-serif\" font-size=\"12\" lengthAdjust=\"spacingAndGlyphs\" textLength=\"37\" x=\"238.5\" y=\"186.4674\">r1: R1</text><line style=\"stroke: #A80036; stroke-width: 1.5;\" x1=\"213.5\" x2=\"304.5\" y1=\"194.2975\" y2=\"194.2975\"/></a><g id=\"E1.E11\"><a href=\"psysml:4203d305-f881-4dfa-bcc5-a82b5aac35c4\" target=\"_top\" title=\"psysml:4203d305-f881-4dfa-bcc5-a82b5aac35c4\" xlink:actuate=\"onRequest\" xlink:href=\"psysml:4203d305-f881-4dfa-bcc5-a82b5aac35c4\" xlink:show=\"new\" xlink:title=\"psysml:4203d305-f881-4dfa-bcc5-a82b5aac35c4\" xlink:type=\"simple\"><rect fill=\"#FEFECE\" filter=\"url(#f1vi6d741qi4z3)\" height=\"40\" id=\"E11\" rx=\"10\" ry=\"10\" style=\"stroke: #A80036; stroke-width: 1.5;\" width=\"50\" x=\"276\" y=\"64.36\"/><text fill=\"#000000\" font-family=\"sans-serif\" font-size=\"12\" lengthAdjust=\"spacingAndGlyphs\" textLength=\"8\" x=\"297\" y=\"80.4987\">p</text></a></g><!--MD5=[ee3c913d1a06f366521f9ef512b67efe]\n",
       "class E13--><a href=\"psysml:aee31540-9ea4-41ee-8ebb-8555bfaf03fb\" target=\"_top\" title=\"psysml:aee31540-9ea4-41ee-8ebb-8555bfaf03fb\" xlink:actuate=\"onRequest\" xlink:href=\"psysml:aee31540-9ea4-41ee-8ebb-8555bfaf03fb\" xlink:show=\"new\" xlink:title=\"psysml:aee31540-9ea4-41ee-8ebb-8555bfaf03fb\" xlink:type=\"simple\"><rect fill=\"#FEFECE\" filter=\"url(#f1vi6d741qi4z3)\" height=\"45.9375\" id=\"E13\" rx=\"10\" ry=\"10\" style=\"stroke: #A80036; stroke-width: 1.5;\" width=\"93\" x=\"71.5\" y=\"156.36\"/><text fill=\"#000000\" font-family=\"sans-serif\" font-size=\"12\" font-style=\"italic\" lengthAdjust=\"spacingAndGlyphs\" textLength=\"91\" x=\"72.5\" y=\"172.4987\">«requirement»</text><text fill=\"#000000\" font-family=\"sans-serif\" font-size=\"12\" lengthAdjust=\"spacingAndGlyphs\" textLength=\"21\" x=\"105.5\" y=\"186.4674\">r: R</text><line style=\"stroke: #A80036; stroke-width: 1.5;\" x1=\"72.5\" x2=\"163.5\" y1=\"194.2975\" y2=\"194.2975\"/></a><!--MD5=[05d275557350bfb9b23a4ef7222b4c39]\n",
       "link E3 to E2--><a href=\"psysml:1cfa9d08-8b1e-49ae-8f22-7ec5c2d68c94\" target=\"_top\" title=\"psysml:1cfa9d08-8b1e-49ae-8f22-7ec5c2d68c94\" xlink:actuate=\"onRequest\" xlink:href=\"psysml:1cfa9d08-8b1e-49ae-8f22-7ec5c2d68c94\" xlink:show=\"new\" xlink:title=\"psysml:1cfa9d08-8b1e-49ae-8f22-7ec5c2d68c94\" xlink:type=\"simple\"><path d=\"M443.3,107.64 C445.16,110.06 446.77,112.63 448,115.36 C451.11,122.25 451.07,125.46 448,132.36 C446.36,136.04 444.27,139.54 441.88,142.86 \" fill=\"none\" id=\"E3-&gt;E2\" style=\"stroke: #A80036; stroke-width: 1.0;\"/><polygon fill=\"#FFFFFF\" points=\"428.02,157.79,435.812,139.1009,446.0747,148.6233,428.02,157.79\" style=\"stroke: #A80036; stroke-width: 1.0;\"/><ellipse cx=\"441.1551\" cy=\"136.2828\" fill=\"#A80036\" rx=\"2\" ry=\"2\" style=\"stroke: #A80036; stroke-width: 1.0;\"/><ellipse cx=\"448.4856\" cy=\"143.0846\" fill=\"#A80036\" rx=\"2\" ry=\"2\" style=\"stroke: #A80036; stroke-width: 1.0;\"/></a><!--MD5=[722ff4eef345aa10242dad44df0e98c7]\n",
       "reverse link E4 to E7--><a href=\"psysml:8957256b-d423-4c87-844e-8026b3f5c553\" target=\"_top\" title=\"psysml:8957256b-d423-4c87-844e-8026b3f5c553\" xlink:actuate=\"onRequest\" xlink:href=\"psysml:8957256b-d423-4c87-844e-8026b3f5c553\" xlink:show=\"new\" xlink:title=\"psysml:8957256b-d423-4c87-844e-8026b3f5c553\" xlink:type=\"simple\"><path d=\"M99.7,339.69 C98.39,344.58 97.11,349.37 95.92,353.79 \" fill=\"none\" id=\"E4&lt;-E7\" style=\"stroke: #A80036; stroke-width: 1.0;\"/><polygon fill=\"#A80036\" points=\"103.18,326.74,97.7596,331.496,100.0651,338.3287,105.4854,333.5726,103.18,326.74\" style=\"stroke: #A80036; stroke-width: 1.0;\"/><text fill=\"#000000\" font-family=\"sans-serif\" font-size=\"13\" lengthAdjust=\"spacingAndGlyphs\" textLength=\"7\" x=\"89.5704\" y=\"342.6675\">*</text></a><!--MD5=[c6fc7cdb0cabde04948078cf183fa696]\n",
       "reverse link E4 to E8--><a href=\"psysml:e7993699-2e90-4c6e-9ce7-c90f60868f83\" target=\"_top\" title=\"psysml:e7993699-2e90-4c6e-9ce7-c90f60868f83\" xlink:actuate=\"onRequest\" xlink:href=\"psysml:e7993699-2e90-4c6e-9ce7-c90f60868f83\" xlink:show=\"new\" xlink:title=\"psysml:e7993699-2e90-4c6e-9ce7-c90f60868f83\" xlink:type=\"simple\"><path d=\"M172.47,335.18 C176.47,337.92 180.47,340.65 184.39,343.33 \" fill=\"none\" id=\"E4&lt;-E8\" style=\"stroke: #A80036; stroke-width: 1.0;\"/><ellipse cx=\"166.3732\" cy=\"331.0164\" fill=\"#FFFFFF\" rx=\"8\" ry=\"8\" style=\"stroke: #A80036; stroke-width: 1.0;\"/><line style=\"stroke: #A80036; stroke-width: 1.0;\" x1=\"172.9764\" x2=\"159.77\" y1=\"335.5328\" y2=\"326.5\"/><line style=\"stroke: #A80036; stroke-width: 1.0;\" x1=\"161.8568\" x2=\"170.8896\" y1=\"337.6196\" y2=\"324.4132\"/></a><!--MD5=[017847e01ff9a8bd19f247411074f987]\n",
       "link E13 to E4--><a href=\"psysml:e01bb7f1-206a-408f-a898-0799ec242df4\" target=\"_top\" title=\"psysml:e01bb7f1-206a-408f-a898-0799ec242df4\" xlink:actuate=\"onRequest\" xlink:href=\"psysml:e01bb7f1-206a-408f-a898-0799ec242df4\" xlink:show=\"new\" xlink:title=\"psysml:e01bb7f1-206a-408f-a898-0799ec242df4\" xlink:type=\"simple\"><path d=\"M116.81,202.39 C116.25,212.92 115.54,226.03 114.85,238.94 \" fill=\"none\" id=\"E13-&gt;E4\" style=\"stroke: #A80036; stroke-width: 1.0;\"/><polygon fill=\"#FFFFFF\" points=\"113.75,259.31,107.7779,239.9623,121.7578,240.7123,113.75,259.31\" style=\"stroke: #A80036; stroke-width: 1.0;\"/><ellipse cx=\"110.0804\" cy=\"234.3776\" fill=\"#A80036\" rx=\"2\" ry=\"2\" style=\"stroke: #A80036; stroke-width: 1.0;\"/><ellipse cx=\"120.066\" cy=\"234.9133\" fill=\"#A80036\" rx=\"2\" ry=\"2\" style=\"stroke: #A80036; stroke-width: 1.0;\"/></a><!--MD5=[60f911bb19596b289db4a22769f8105a]\n",
       "link E11 to E13--><a href=\"psysml:e806deaf-0ce2-4d10-9e57-833502fc32ee\" target=\"_top\" title=\"psysml:e806deaf-0ce2-4d10-9e57-833502fc32ee\" xlink:actuate=\"onRequest\" xlink:href=\"psysml:e806deaf-0ce2-4d10-9e57-833502fc32ee\" xlink:show=\"new\" xlink:title=\"psysml:e806deaf-0ce2-4d10-9e57-833502fc32ee\" xlink:type=\"simple\"><path d=\"M275.96,97.79 C254.94,107.92 223.96,122.17 196,132.36 C183.84,136.79 179.57,134.57 168,140.36 C161.03,143.85 154.05,148.35 147.62,153.03 \" fill=\"none\" id=\"E11-&gt;E13\" style=\"stroke: #A80036; stroke-width: 1.0; stroke-dasharray: 7.0,7.0;\"/><polygon fill=\"#A80036\" points=\"143.25,156.29,152.85,154.09,147.25,153.29,148.05,147.69,143.25,156.29\" style=\"stroke: #A80036; stroke-width: 1.0;\"/><text fill=\"#000000\" font-family=\"sans-serif\" font-size=\"13\" lengthAdjust=\"spacingAndGlyphs\" textLength=\"57\" x=\"238\" y=\"128.4269\">«satisfy»</text></a><!--MD5=[e2a9ac97dcd3257bb5342dae06547bad]\n",
       "link E12 to E13--><a href=\"psysml:f5a4eec3-f375-4f03-819b-6c5c8dc7728c\" target=\"_top\" title=\"psysml:f5a4eec3-f375-4f03-819b-6c5c8dc7728c\" xlink:actuate=\"onRequest\" xlink:href=\"psysml:f5a4eec3-f375-4f03-819b-6c5c8dc7728c\" xlink:show=\"new\" xlink:title=\"psysml:f5a4eec3-f375-4f03-819b-6c5c8dc7728c\" xlink:type=\"simple\"><path d=\"M47.8746,108.633 C47.6375,108.8618 47.4023,109.0929 47.1692,109.3261 C45.3047,111.1922 43.5731,113.2 42,115.36 C29.76,132.17 46.2,147.21 66.89,158.37 \" fill=\"none\" id=\"E12-&gt;E13\" style=\"stroke: #A80036; stroke-width: 1.0; stroke-dasharray: 7.0,7.0;\"/><polygon fill=\"#A80036\" points=\"71.36,160.69,65.2064,153.0002,66.9197,158.3913,61.5286,160.1046,71.36,160.69\" style=\"stroke: #A80036; stroke-width: 1.0;\"/><text fill=\"#000000\" font-family=\"sans-serif\" font-size=\"13\" lengthAdjust=\"spacingAndGlyphs\" textLength=\"57\" x=\"43\" y=\"128.4269\">«satisfy»</text></a><!--MD5=[0c677eb374079406c87b74cd1f5a339d]\n",
       "link E14 to E9--><a href=\"psysml:d6ece11e-fb98-4dd6-9106-0f6846b0bd9f\" target=\"_top\" title=\"psysml:d6ece11e-fb98-4dd6-9106-0f6846b0bd9f\" xlink:actuate=\"onRequest\" xlink:href=\"psysml:d6ece11e-fb98-4dd6-9106-0f6846b0bd9f\" xlink:show=\"new\" xlink:title=\"psysml:d6ece11e-fb98-4dd6-9106-0f6846b0bd9f\" xlink:type=\"simple\"><path d=\"M260.78,202.39 C261.86,215.82 263.28,233.42 264.58,249.46 \" fill=\"none\" id=\"E14-&gt;E9\" style=\"stroke: #A80036; stroke-width: 1.0;\"/><polygon fill=\"#FFFFFF\" points=\"266.19,269.5,257.6919,251.1211,271.647,250.0007,266.19,269.5\" style=\"stroke: #A80036; stroke-width: 1.0;\"/><ellipse cx=\"259.2293\" cy=\"245.2794\" fill=\"#A80036\" rx=\"2\" ry=\"2\" style=\"stroke: #A80036; stroke-width: 1.0;\"/><ellipse cx=\"269.1972\" cy=\"244.4791\" fill=\"#A80036\" rx=\"2\" ry=\"2\" style=\"stroke: #A80036; stroke-width: 1.0;\"/></a><!--MD5=[9c1c40551dcf5c2fca147626a786a7cd]\n",
       "link E11 to E14--><a href=\"psysml:feaea2f2-720b-4dbc-ba1d-0aec40f00046\" target=\"_top\" title=\"psysml:feaea2f2-720b-4dbc-ba1d-0aec40f00046\" xlink:actuate=\"onRequest\" xlink:href=\"psysml:feaea2f2-720b-4dbc-ba1d-0aec40f00046\" xlink:show=\"new\" xlink:title=\"psysml:feaea2f2-720b-4dbc-ba1d-0aec40f00046\" xlink:type=\"simple\"><path d=\"M326.25,96.72 C342.54,105.67 358.98,118.85 349,132.36 C341.82,142.09 334.05,135.46 323,140.36 C314.43,144.16 305.57,148.86 297.28,153.64 \" fill=\"none\" id=\"E11-&gt;E14\" style=\"stroke: #A80036; stroke-width: 1.0; stroke-dasharray: 7.0,7.0;\"/><polygon fill=\"#A80036\" points=\"292.74,156.3,302.5273,155.2001,297.0537,153.7718,298.4821,148.2982,292.74,156.3\" style=\"stroke: #A80036; stroke-width: 1.0;\"/><text fill=\"#000000\" font-family=\"sans-serif\" font-size=\"13\" lengthAdjust=\"spacingAndGlyphs\" textLength=\"57\" x=\"353\" y=\"128.4269\">«satisfy»</text></a><!--MD5=[d53cb08dffc8689d16e38c8e194e9adc]\n",
       "link E12 to E14--><a href=\"psysml:f5704f7b-2601-4abd-90b0-2ec51a978e80\" target=\"_top\" title=\"psysml:f5704f7b-2601-4abd-90b0-2ec51a978e80\" xlink:actuate=\"onRequest\" xlink:href=\"psysml:f5704f7b-2601-4abd-90b0-2ec51a978e80\" xlink:show=\"new\" xlink:title=\"psysml:f5704f7b-2601-4abd-90b0-2ec51a978e80\" xlink:type=\"simple\"><path d=\"M188.2294,142.967 C188.6771,143.2182 189.1255,143.4689 189.5745,143.7193 C190.4725,144.2199 191.3729,144.7189 192.2748,145.2159 C194.0787,146.2099 195.8889,147.1961 197.6991,148.1722 C201.3195,150.1244 204.94,152.0363 208.51,153.89 \" fill=\"none\" id=\"E12-&gt;E14\" style=\"stroke: #A80036; stroke-width: 1.0; stroke-dasharray: 7.0,7.0;\"/><polygon fill=\"#A80036\" points=\"213.06,156.24,206.9064,148.5502,208.6197,153.9413,203.2286,155.6546,213.06,156.24\" style=\"stroke: #A80036; stroke-width: 1.0;\"/><text fill=\"#000000\" font-family=\"sans-serif\" font-size=\"13\" lengthAdjust=\"spacingAndGlyphs\" textLength=\"57\" x=\"171\" y=\"128.4269\">«satisfy»</text></a><!--MD5=[1d3e17c36edcf633483ecca3e55efee5]\n",
       "@startuml\r\n",
       "skinparam ranksep 10\r\n",
       "skinparam rectangle {\r\n",
       " backgroundColor<<block>> LightGreen\r\n",
       "}\r\n",
       "skinparam wrapWidth 300\r\n",
       "hide circle\r\n",
       "\r\n",
       "package \"RequirementTest\" as E1  [[psysml:2a075407-fc8d-47b4-b4de-e1839d24b848 ]]  {\r\n",
       "def \"C\" as E2  <<(T,blue) constraint  def>> [[psysml:8e8b9929-fb62-44f3-bb6e-73f88688eaf1 ]] \r\n",
       "comp usage \"c: C \" as E3  <<(T,blue) constraint>> [[psysml:8dab2afb-478b-48f2-a7f7-bb2b245c05ea ]] {\r\n",
       "}\r\n",
       "comp def \"R\" as E4  <<(T,blue) requirement  def>> [[psysml:cae76f8a-948f-454f-8648-301efab5060e ]] {\r\n",
       "\r\n",
       "- -\r\n",
       "}\r\n",
       "comp usage \"<s>noname</s>\" as E7  <<(T,blue) requirement>> [[psysml:70e6cc11-a878-4419-9a48-d32cb5df9816 ]] {\r\n",
       "}\r\n",
       "comp def \" [<b>1</b>] A\" as E8  <<(T,blue) requirement  def>> [[psysml:5c5c4776-1d3a-4700-8516-1d3a67d779f4 ]] {\r\n",
       "Text\r\n",
       "- -\r\n",
       "}\r\n",
       "comp def \"R1\" as E9  <<(T,blue) requirement  def>> [[psysml:f2fc2205-4b84-4313-b340-24ee025c15cf ]] {\r\n",
       "}\r\n",
       "rec usage \"p\" as E11  [[psysml:4203d305-f881-4dfa-bcc5-a82b5aac35c4 ]] {\r\n",
       "}\r\n",
       "rec usage \"q\" as E12  [[psysml:d0dbee69-5f2e-4ac4-ba4b-4aca7380bae7 ]] {\r\n",
       "comp usage \"r: R \" as E13  <<(T,blue) requirement>> [[psysml:aee31540-9ea4-41ee-8ebb-8555bfaf03fb ]] {\r\n",
       "}\r\n",
       "}\r\n",
       "comp usage \"r1: R1 \" as E14  <<(T,blue) requirement>> [[psysml:5c4fb90e-2e7f-411e-8437-1e0e9b0bd00e ]] {\r\n",
       "}\r\n",
       "}\r\n",
       "E3 - -:|> E2 [[psysml:1cfa9d08-8b1e-49ae-8f22-7ec5c2d68c94 ]] \r\n",
       "E4 *- - \"*\"E7 [[psysml:8957256b-d423-4c87-844e-8026b3f5c553 ]] \r\n",
       "E4 +- - E8 [[psysml:e7993699-2e90-4c6e-9ce7-c90f60868f83 ]] \r\n",
       "E13 - -:|> E4 [[psysml:e01bb7f1-206a-408f-a898-0799ec242df4 ]] \r\n",
       "E11 ..> E13 [[psysml:e806deaf-0ce2-4d10-9e57-833502fc32ee ]] : <<satisfy>>\r\n",
       "E12 ..> E13 [[psysml:f5a4eec3-f375-4f03-819b-6c5c8dc7728c ]] : <<satisfy>>\r\n",
       "E14 - -:|> E9 [[psysml:d6ece11e-fb98-4dd6-9106-0f6846b0bd9f ]] \r\n",
       "E11 ..> E14 [[psysml:feaea2f2-720b-4dbc-ba1d-0aec40f00046 ]] : <<satisfy>>\r\n",
       "E12 ..> E14 [[psysml:f5704f7b-2601-4abd-90b0-2ec51a978e80 ]] : <<satisfy>>\r\n",
       "@enduml\r\n",
       "\n",
       "PlantUML version 1.2020.13(Sat Jun 13 12:26:38 UTC 2020)\n",
       "(EPL source distribution)\n",
       "Java Runtime: OpenJDK Runtime Environment\n",
       "JVM: OpenJDK 64-Bit Server VM\n",
       "Default Encoding: UTF-8\n",
       "Language: en\n",
       "Country: null\n",
       "--></g></svg>"
      ]
     },
     "execution_count": 26,
     "metadata": {},
     "output_type": "execute_result"
    }
   ],
   "source": [
    "%viz --style=\"STDCOLOR\" --view=\"Interconnection\" \"RequirementTest\""
   ]
  },
  {
   "cell_type": "code",
   "execution_count": 27,
   "id": "71d50308",
   "metadata": {
    "execution": {
     "iopub.execute_input": "2021-10-25T08:21:13.535806Z",
     "iopub.status.busy": "2021-10-25T08:21:13.535411Z",
     "iopub.status.idle": "2021-10-25T08:21:13.540596Z",
     "shell.execute_reply": "2021-10-25T08:21:13.540907Z"
    }
   },
   "outputs": [
    {
     "data": {
      "image/svg+xml": [
       "<?xml version=\"1.0\" encoding=\"UTF-8\" standalone=\"no\"?><svg xmlns=\"http://www.w3.org/2000/svg\" xmlns:xlink=\"http://www.w3.org/1999/xlink\" contentScriptType=\"application/ecmascript\" contentStyleType=\"text/css\" height=\"12px\" preserveAspectRatio=\"none\" style=\"width:12px;height:12px;\" version=\"1.1\" viewBox=\"0 0 12 12\" width=\"12px\" zoomAndPan=\"magnify\"><defs/><g><!--MD5=[9863325348a96a77dacc89509d8ee65e]\n",
       "@startuml\r\n",
       "skinparam ranksep 8\r\n",
       "skinparam wrapWidth 300\r\n",
       "hide circle\r\n",
       "\r\n",
       "@enduml\r\n",
       "\n",
       "PlantUML version 1.2020.13(Sat Jun 13 12:26:38 UTC 2020)\n",
       "(EPL source distribution)\n",
       "Java Runtime: OpenJDK Runtime Environment\n",
       "JVM: OpenJDK 64-Bit Server VM\n",
       "Default Encoding: UTF-8\n",
       "Language: en\n",
       "Country: null\n",
       "--></g></svg>"
      ]
     },
     "execution_count": 27,
     "metadata": {},
     "output_type": "execute_result"
    }
   ],
   "source": [
    "%viz --style=\"STDCOLOR\" --view=\"Action\" \"RequirementTest\""
   ]
  },
  {
   "cell_type": "code",
   "execution_count": 28,
   "id": "5fa9f0bf",
   "metadata": {
    "execution": {
     "iopub.execute_input": "2021-10-25T08:21:13.590694Z",
     "iopub.status.busy": "2021-10-25T08:21:13.590294Z",
     "iopub.status.idle": "2021-10-25T08:21:13.595813Z",
     "shell.execute_reply": "2021-10-25T08:21:13.596126Z"
    }
   },
   "outputs": [
    {
     "data": {
      "image/svg+xml": [
       "<?xml version=\"1.0\" encoding=\"UTF-8\" standalone=\"no\"?><svg xmlns=\"http://www.w3.org/2000/svg\" xmlns:xlink=\"http://www.w3.org/1999/xlink\" contentScriptType=\"application/ecmascript\" contentStyleType=\"text/css\" height=\"12px\" preserveAspectRatio=\"none\" style=\"width:12px;height:12px;\" version=\"1.1\" viewBox=\"0 0 12 12\" width=\"12px\" zoomAndPan=\"magnify\"><defs/><g><!--MD5=[6c4bca67b4d71758159a5a7f1f1e1fc2]\n",
       "@startuml\r\n",
       "skinparam roundcorner 20\r\n",
       "skinparam BoxPadding 20\r\n",
       "skinparam SequenceBoxBackgroundColor #white\r\n",
       "skinparam style strictuml\r\n",
       "skinparam maxMessageSize 100\r\n",
       "skinparam wrapWidth 300\r\n",
       "hide circle\r\n",
       "\r\n",
       "@enduml\r\n",
       "\n",
       "PlantUML version 1.2020.13(Sat Jun 13 12:26:38 UTC 2020)\n",
       "(EPL source distribution)\n",
       "Java Runtime: OpenJDK Runtime Environment\n",
       "JVM: OpenJDK 64-Bit Server VM\n",
       "Default Encoding: UTF-8\n",
       "Language: en\n",
       "Country: null\n",
       "--></g></svg>"
      ]
     },
     "execution_count": 28,
     "metadata": {},
     "output_type": "execute_result"
    }
   ],
   "source": [
    "%viz --style=\"STDCOLOR\" --view=\"Sequence\" \"RequirementTest\""
   ]
  },
  {
   "cell_type": "code",
   "execution_count": 29,
   "id": "73735678",
   "metadata": {
    "execution": {
     "iopub.execute_input": "2021-10-25T08:21:13.645627Z",
     "iopub.status.busy": "2021-10-25T08:21:13.645230Z",
     "iopub.status.idle": "2021-10-25T08:21:13.699096Z",
     "shell.execute_reply": "2021-10-25T08:21:13.699387Z"
    }
   },
   "outputs": [
    {
     "data": {
      "image/svg+xml": [
       "<?xml version=\"1.0\" encoding=\"UTF-8\" standalone=\"no\"?><svg xmlns=\"http://www.w3.org/2000/svg\" xmlns:xlink=\"http://www.w3.org/1999/xlink\" contentScriptType=\"application/ecmascript\" contentStyleType=\"text/css\" height=\"494px\" preserveAspectRatio=\"none\" style=\"width:475px;height:494px;\" version=\"1.1\" viewBox=\"0 0 475 494\" width=\"475px\" zoomAndPan=\"magnify\"><defs><filter height=\"300%\" id=\"f1wxc2idjjbobh\" width=\"300%\" x=\"-1\" y=\"-1\"><feGaussianBlur result=\"blurOut\" stdDeviation=\"2.0\"/><feColorMatrix in=\"blurOut\" result=\"blurOut2\" type=\"matrix\" values=\"0 0 0 0 0 0 0 0 0 0 0 0 0 0 0 0 0 0 .4 0\"/><feOffset dx=\"4.0\" dy=\"4.0\" in=\"blurOut2\" result=\"blurOut3\"/><feBlend in=\"SourceGraphic\" in2=\"blurOut3\" mode=\"normal\"/></filter></defs><g><!--MD5=[fbc87193dbaf4d95561dea2c320d4a47]\n",
       "cluster E1--><a href=\"psysml:2a075407-fc8d-47b4-b4de-e1839d24b848\" target=\"_top\" title=\"psysml:2a075407-fc8d-47b4-b4de-e1839d24b848\" xlink:actuate=\"onRequest\" xlink:href=\"psysml:2a075407-fc8d-47b4-b4de-e1839d24b848\" xlink:show=\"new\" xlink:title=\"psysml:2a075407-fc8d-47b4-b4de-e1839d24b848\" xlink:type=\"simple\"><polygon fill=\"#FFFFFF\" filter=\"url(#f1wxc2idjjbobh)\" points=\"16,6,143,6,150,28.2969,453,28.2969,453,482,16,482,16,6\" style=\"stroke: #000000; stroke-width: 1.5;\"/><line style=\"stroke: #000000; stroke-width: 1.5;\" x1=\"16\" x2=\"150\" y1=\"28.2969\" y2=\"28.2969\"/><text fill=\"#000000\" font-family=\"sans-serif\" font-size=\"14\" font-weight=\"bold\" lengthAdjust=\"spacingAndGlyphs\" textLength=\"121\" x=\"20\" y=\"20.9951\">RequirementTest</text></a><!--MD5=[b4997ac47864f28c2f74865a473b2911]\n",
       "class E2--><a href=\"psysml:8e8b9929-fb62-44f3-bb6e-73f88688eaf1\" target=\"_top\" title=\"psysml:8e8b9929-fb62-44f3-bb6e-73f88688eaf1\" xlink:actuate=\"onRequest\" xlink:href=\"psysml:8e8b9929-fb62-44f3-bb6e-73f88688eaf1\" xlink:show=\"new\" xlink:title=\"psysml:8e8b9929-fb62-44f3-bb6e-73f88688eaf1\" xlink:type=\"simple\"><rect fill=\"#FEFECE\" filter=\"url(#f1wxc2idjjbobh)\" height=\"45.9375\" id=\"E2\" style=\"stroke: #A80036; stroke-width: 1.5;\" width=\"108\" x=\"329\" y=\"164\"/><text fill=\"#000000\" font-family=\"sans-serif\" font-size=\"12\" font-style=\"italic\" lengthAdjust=\"spacingAndGlyphs\" textLength=\"106\" x=\"330\" y=\"180.1387\">«constraint  def»</text><text fill=\"#000000\" font-family=\"sans-serif\" font-size=\"12\" lengthAdjust=\"spacingAndGlyphs\" textLength=\"8\" x=\"379\" y=\"194.1074\">C</text><line style=\"stroke: #A80036; stroke-width: 1.5;\" x1=\"330\" x2=\"436\" y1=\"201.9375\" y2=\"201.9375\"/></a><!--MD5=[09b614a08d8cba4a07c9adeb5e0fee81]\n",
       "class E3--><a href=\"psysml:8dab2afb-478b-48f2-a7f7-bb2b245c05ea\" target=\"_top\" title=\"psysml:8dab2afb-478b-48f2-a7f7-bb2b245c05ea\" xlink:actuate=\"onRequest\" xlink:href=\"psysml:8dab2afb-478b-48f2-a7f7-bb2b245c05ea\" xlink:show=\"new\" xlink:title=\"psysml:8dab2afb-478b-48f2-a7f7-bb2b245c05ea\" xlink:type=\"simple\"><rect fill=\"#FEFECE\" filter=\"url(#f1wxc2idjjbobh)\" height=\"45.9375\" id=\"E3\" rx=\"10\" ry=\"10\" style=\"stroke: #A80036; stroke-width: 1.5;\" width=\"80\" x=\"357\" y=\"41\"/><text fill=\"#000000\" font-family=\"sans-serif\" font-size=\"12\" font-style=\"italic\" lengthAdjust=\"spacingAndGlyphs\" textLength=\"78\" x=\"358\" y=\"57.1387\">«constraint»</text><text fill=\"#000000\" font-family=\"sans-serif\" font-size=\"12\" lengthAdjust=\"spacingAndGlyphs\" textLength=\"23\" x=\"383.5\" y=\"71.1074\">c: C</text><line style=\"stroke: #A80036; stroke-width: 1.5;\" x1=\"358\" x2=\"436\" y1=\"78.9375\" y2=\"78.9375\"/></a><!--MD5=[ebbe1d658d1005bcc118a6aa81145e00]\n",
       "class E4--><a href=\"psysml:cae76f8a-948f-454f-8648-301efab5060e\" target=\"_top\" title=\"psysml:cae76f8a-948f-454f-8648-301efab5060e\" xlink:actuate=\"onRequest\" xlink:href=\"psysml:cae76f8a-948f-454f-8648-301efab5060e\" xlink:show=\"new\" xlink:title=\"psysml:cae76f8a-948f-454f-8648-301efab5060e\" xlink:type=\"simple\"><rect fill=\"#FEFECE\" filter=\"url(#f1wxc2idjjbobh)\" height=\"66.7422\" id=\"E4\" style=\"stroke: #A80036; stroke-width: 1.5;\" width=\"121\" x=\"188.5\" y=\"271\"/><text fill=\"#000000\" font-family=\"sans-serif\" font-size=\"12\" font-style=\"italic\" lengthAdjust=\"spacingAndGlyphs\" textLength=\"119\" x=\"189.5\" y=\"287.1387\">«requirement  def»</text><text fill=\"#000000\" font-family=\"sans-serif\" font-size=\"12\" lengthAdjust=\"spacingAndGlyphs\" textLength=\"8\" x=\"245\" y=\"301.1074\">R</text><line style=\"stroke: #A80036; stroke-width: 1.5;\" x1=\"189.5\" x2=\"308.5\" y1=\"308.9375\" y2=\"308.9375\"/><text fill=\"#000000\" font-family=\"sans-serif\" font-size=\"11\" lengthAdjust=\"spacingAndGlyphs\" textLength=\"0\" x=\"198.5\" y=\"323.1479\"/><line style=\"stroke: #A80036; stroke-width: 1.0;\" x1=\"189.5\" x2=\"308.5\" y1=\"329.7422\" y2=\"329.7422\"/></a><!--MD5=[2156ba9850f5573cc1fc38a6a4b2f02b]\n",
       "class E7--><a href=\"psysml:70e6cc11-a878-4419-9a48-d32cb5df9816\" target=\"_top\" title=\"psysml:70e6cc11-a878-4419-9a48-d32cb5df9816\" xlink:actuate=\"onRequest\" xlink:href=\"psysml:70e6cc11-a878-4419-9a48-d32cb5df9816\" xlink:show=\"new\" xlink:title=\"psysml:70e6cc11-a878-4419-9a48-d32cb5df9816\" xlink:type=\"simple\"><rect fill=\"#FEFECE\" filter=\"url(#f1wxc2idjjbobh)\" height=\"45.9375\" id=\"E7\" rx=\"10\" ry=\"10\" style=\"stroke: #A80036; stroke-width: 1.5;\" width=\"93\" x=\"144.5\" y=\"409.5\"/><text fill=\"#000000\" font-family=\"sans-serif\" font-size=\"12\" font-style=\"italic\" lengthAdjust=\"spacingAndGlyphs\" textLength=\"91\" x=\"145.5\" y=\"425.6387\">«requirement»</text><text fill=\"#000000\" font-family=\"sans-serif\" font-size=\"12\" lengthAdjust=\"spacingAndGlyphs\" text-decoration=\"line-through\" textLength=\"51\" x=\"165.5\" y=\"439.6074\">noname</text><line style=\"stroke: #A80036; stroke-width: 1.5;\" x1=\"145.5\" x2=\"236.5\" y1=\"447.4375\" y2=\"447.4375\"/></a><!--MD5=[b9389687b975829384b498ac4b7476b2]\n",
       "class E8--><a href=\"psysml:5c5c4776-1d3a-4700-8516-1d3a67d779f4\" target=\"_top\" title=\"psysml:5c5c4776-1d3a-4700-8516-1d3a67d779f4\" xlink:actuate=\"onRequest\" xlink:href=\"psysml:5c5c4776-1d3a-4700-8516-1d3a67d779f4\" xlink:show=\"new\" xlink:title=\"psysml:5c5c4776-1d3a-4700-8516-1d3a67d779f4\" xlink:type=\"simple\"><rect fill=\"#FEFECE\" filter=\"url(#f1wxc2idjjbobh)\" height=\"66.7422\" id=\"E8\" style=\"stroke: #A80036; stroke-width: 1.5;\" width=\"121\" x=\"272.5\" y=\"399\"/><text fill=\"#000000\" font-family=\"sans-serif\" font-size=\"12\" font-style=\"italic\" lengthAdjust=\"spacingAndGlyphs\" textLength=\"119\" x=\"273.5\" y=\"415.1387\">«requirement  def»</text><text fill=\"#000000\" font-family=\"sans-serif\" font-size=\"12\" lengthAdjust=\"spacingAndGlyphs\" textLength=\"5\" x=\"320\" y=\"429.1074\">[</text><text fill=\"#000000\" font-family=\"sans-serif\" font-size=\"12\" font-weight=\"bold\" lengthAdjust=\"spacingAndGlyphs\" textLength=\"8\" x=\"325\" y=\"429.1074\">1</text><text fill=\"#000000\" font-family=\"sans-serif\" font-size=\"12\" lengthAdjust=\"spacingAndGlyphs\" textLength=\"17\" x=\"333\" y=\"429.1074\">] A</text><line style=\"stroke: #A80036; stroke-width: 1.5;\" x1=\"273.5\" x2=\"392.5\" y1=\"436.9375\" y2=\"436.9375\"/><text fill=\"#000000\" font-family=\"sans-serif\" font-size=\"11\" lengthAdjust=\"spacingAndGlyphs\" textLength=\"24\" x=\"278.5\" y=\"451.1479\">Text</text><line style=\"stroke: #A80036; stroke-width: 1.0;\" x1=\"273.5\" x2=\"392.5\" y1=\"457.7422\" y2=\"457.7422\"/></a><!--MD5=[fd4143e9d270a159db93a4ea2a975926]\n",
       "class E9--><a href=\"psysml:f2fc2205-4b84-4313-b340-24ee025c15cf\" target=\"_top\" title=\"psysml:f2fc2205-4b84-4313-b340-24ee025c15cf\" xlink:actuate=\"onRequest\" xlink:href=\"psysml:f2fc2205-4b84-4313-b340-24ee025c15cf\" xlink:show=\"new\" xlink:title=\"psysml:f2fc2205-4b84-4313-b340-24ee025c15cf\" xlink:type=\"simple\"><rect fill=\"#FEFECE\" filter=\"url(#f1wxc2idjjbobh)\" height=\"45.9375\" id=\"E9\" style=\"stroke: #A80036; stroke-width: 1.5;\" width=\"121\" x=\"32.5\" y=\"281.5\"/><text fill=\"#000000\" font-family=\"sans-serif\" font-size=\"12\" font-style=\"italic\" lengthAdjust=\"spacingAndGlyphs\" textLength=\"119\" x=\"33.5\" y=\"297.6387\">«requirement  def»</text><text fill=\"#000000\" font-family=\"sans-serif\" font-size=\"12\" lengthAdjust=\"spacingAndGlyphs\" textLength=\"16\" x=\"85\" y=\"311.6074\">R1</text><line style=\"stroke: #A80036; stroke-width: 1.5;\" x1=\"33.5\" x2=\"152.5\" y1=\"319.4375\" y2=\"319.4375\"/></a><!--MD5=[1dd1bfd58a279cf63c5f349dbc8fc6a1]\n",
       "class E11--><a href=\"psysml:4203d305-f881-4dfa-bcc5-a82b5aac35c4\" target=\"_top\" title=\"psysml:4203d305-f881-4dfa-bcc5-a82b5aac35c4\" xlink:actuate=\"onRequest\" xlink:href=\"psysml:4203d305-f881-4dfa-bcc5-a82b5aac35c4\" xlink:show=\"new\" xlink:title=\"psysml:4203d305-f881-4dfa-bcc5-a82b5aac35c4\" xlink:type=\"simple\"><rect fill=\"#FEFECE\" filter=\"url(#f1wxc2idjjbobh)\" height=\"45.9375\" id=\"E11\" rx=\"10\" ry=\"10\" style=\"stroke: #A80036; stroke-width: 1.5;\" width=\"42\" x=\"95\" y=\"41\"/><text fill=\"#000000\" font-family=\"sans-serif\" font-size=\"12\" font-style=\"italic\" lengthAdjust=\"spacingAndGlyphs\" textLength=\"40\" x=\"96\" y=\"57.1387\">«part»</text><text fill=\"#000000\" font-family=\"sans-serif\" font-size=\"12\" lengthAdjust=\"spacingAndGlyphs\" textLength=\"8\" x=\"112\" y=\"71.1074\">p</text><line style=\"stroke: #A80036; stroke-width: 1.5;\" x1=\"96\" x2=\"136\" y1=\"78.9375\" y2=\"78.9375\"/></a><!--MD5=[49a0ec8f00dab7302a31f22d0f0fe584]\n",
       "class E12--><a href=\"psysml:d0dbee69-5f2e-4ac4-ba4b-4aca7380bae7\" target=\"_top\" title=\"psysml:d0dbee69-5f2e-4ac4-ba4b-4aca7380bae7\" xlink:actuate=\"onRequest\" xlink:href=\"psysml:d0dbee69-5f2e-4ac4-ba4b-4aca7380bae7\" xlink:show=\"new\" xlink:title=\"psysml:d0dbee69-5f2e-4ac4-ba4b-4aca7380bae7\" xlink:type=\"simple\"><rect fill=\"#FEFECE\" filter=\"url(#f1wxc2idjjbobh)\" height=\"45.9375\" id=\"E12\" rx=\"10\" ry=\"10\" style=\"stroke: #A80036; stroke-width: 1.5;\" width=\"42\" x=\"280\" y=\"41\"/><text fill=\"#000000\" font-family=\"sans-serif\" font-size=\"12\" font-style=\"italic\" lengthAdjust=\"spacingAndGlyphs\" textLength=\"40\" x=\"281\" y=\"57.1387\">«part»</text><text fill=\"#000000\" font-family=\"sans-serif\" font-size=\"12\" lengthAdjust=\"spacingAndGlyphs\" textLength=\"8\" x=\"297\" y=\"71.1074\">q</text><line style=\"stroke: #A80036; stroke-width: 1.5;\" x1=\"281\" x2=\"321\" y1=\"78.9375\" y2=\"78.9375\"/></a><!--MD5=[ee3c913d1a06f366521f9ef512b67efe]\n",
       "class E13--><a href=\"psysml:aee31540-9ea4-41ee-8ebb-8555bfaf03fb\" target=\"_top\" title=\"psysml:aee31540-9ea4-41ee-8ebb-8555bfaf03fb\" xlink:actuate=\"onRequest\" xlink:href=\"psysml:aee31540-9ea4-41ee-8ebb-8555bfaf03fb\" xlink:show=\"new\" xlink:title=\"psysml:aee31540-9ea4-41ee-8ebb-8555bfaf03fb\" xlink:type=\"simple\"><rect fill=\"#FEFECE\" filter=\"url(#f1wxc2idjjbobh)\" height=\"45.9375\" id=\"E13\" rx=\"10\" ry=\"10\" style=\"stroke: #A80036; stroke-width: 1.5;\" width=\"93\" x=\"200.5\" y=\"164\"/><text fill=\"#000000\" font-family=\"sans-serif\" font-size=\"12\" font-style=\"italic\" lengthAdjust=\"spacingAndGlyphs\" textLength=\"91\" x=\"201.5\" y=\"180.1387\">«requirement»</text><text fill=\"#000000\" font-family=\"sans-serif\" font-size=\"12\" lengthAdjust=\"spacingAndGlyphs\" textLength=\"21\" x=\"234.5\" y=\"194.1074\">r: R</text><line style=\"stroke: #A80036; stroke-width: 1.5;\" x1=\"201.5\" x2=\"292.5\" y1=\"201.9375\" y2=\"201.9375\"/></a><!--MD5=[bee11217b2f71d958a27249dc326068c]\n",
       "class E14--><a href=\"psysml:5c4fb90e-2e7f-411e-8437-1e0e9b0bd00e\" target=\"_top\" title=\"psysml:5c4fb90e-2e7f-411e-8437-1e0e9b0bd00e\" xlink:actuate=\"onRequest\" xlink:href=\"psysml:5c4fb90e-2e7f-411e-8437-1e0e9b0bd00e\" xlink:show=\"new\" xlink:title=\"psysml:5c4fb90e-2e7f-411e-8437-1e0e9b0bd00e\" xlink:type=\"simple\"><rect fill=\"#FEFECE\" filter=\"url(#f1wxc2idjjbobh)\" height=\"45.9375\" id=\"E14\" rx=\"10\" ry=\"10\" style=\"stroke: #A80036; stroke-width: 1.5;\" width=\"93\" x=\"46.5\" y=\"164\"/><text fill=\"#000000\" font-family=\"sans-serif\" font-size=\"12\" font-style=\"italic\" lengthAdjust=\"spacingAndGlyphs\" textLength=\"91\" x=\"47.5\" y=\"180.1387\">«requirement»</text><text fill=\"#000000\" font-family=\"sans-serif\" font-size=\"12\" lengthAdjust=\"spacingAndGlyphs\" textLength=\"37\" x=\"72.5\" y=\"194.1074\">r1: R1</text><line style=\"stroke: #A80036; stroke-width: 1.5;\" x1=\"47.5\" x2=\"138.5\" y1=\"201.9375\" y2=\"201.9375\"/></a><!--MD5=[05d275557350bfb9b23a4ef7222b4c39]\n",
       "link E3 to E2--><a href=\"psysml:1cfa9d08-8b1e-49ae-8f22-7ec5c2d68c94\" target=\"_top\" title=\"psysml:1cfa9d08-8b1e-49ae-8f22-7ec5c2d68c94\" xlink:actuate=\"onRequest\" xlink:href=\"psysml:1cfa9d08-8b1e-49ae-8f22-7ec5c2d68c94\" xlink:show=\"new\" xlink:title=\"psysml:1cfa9d08-8b1e-49ae-8f22-7ec5c2d68c94\" xlink:type=\"simple\"><path d=\"M418.43,87.25 C428.59,100.56 437.27,117.96 431,134 C429.08,138.91 426.46,143.63 423.42,148.09 \" fill=\"none\" id=\"E3-&gt;E2\" style=\"stroke: #A80036; stroke-width: 1.0;\"/><polygon fill=\"#FFFFFF\" points=\"410.27,163.84,417.0769,144.77,427.8221,153.7444,410.27,163.84\" style=\"stroke: #A80036; stroke-width: 1.0;\"/><ellipse cx=\"422.2658\" cy=\"141.6772\" fill=\"#A80036\" rx=\"2\" ry=\"2\" style=\"stroke: #A80036; stroke-width: 1.0;\"/><ellipse cx=\"429.941\" cy=\"148.0874\" fill=\"#A80036\" rx=\"2\" ry=\"2\" style=\"stroke: #A80036; stroke-width: 1.0;\"/></a><!--MD5=[722ff4eef345aa10242dad44df0e98c7]\n",
       "reverse link E4 to E7--><a href=\"psysml:8957256b-d423-4c87-844e-8026b3f5c553\" target=\"_top\" title=\"psysml:8957256b-d423-4c87-844e-8026b3f5c553\" xlink:actuate=\"onRequest\" xlink:href=\"psysml:8957256b-d423-4c87-844e-8026b3f5c553\" xlink:show=\"new\" xlink:title=\"psysml:8957256b-d423-4c87-844e-8026b3f5c553\" xlink:type=\"simple\"><path d=\"M228.38,350.29 C219.19,370.26 208.76,392.91 201.26,409.21 \" fill=\"none\" id=\"E4&lt;-E7\" style=\"stroke: #A80036; stroke-width: 1.0;\"/><polygon fill=\"#A80036\" points=\"233.91,338.28,227.7664,342.0558,228.8888,349.179,235.0324,345.4032,233.91,338.28\" style=\"stroke: #A80036; stroke-width: 1.0;\"/><text fill=\"#000000\" font-family=\"sans-serif\" font-size=\"13\" lengthAdjust=\"spacingAndGlyphs\" textLength=\"7\" x=\"195.9922\" y=\"398.412\">*</text></a><!--MD5=[c6fc7cdb0cabde04948078cf183fa696]\n",
       "reverse link E4 to E8--><a href=\"psysml:e7993699-2e90-4c6e-9ce7-c90f60868f83\" target=\"_top\" title=\"psysml:e7993699-2e90-4c6e-9ce7-c90f60868f83\" xlink:actuate=\"onRequest\" xlink:href=\"psysml:e7993699-2e90-4c6e-9ce7-c90f60868f83\" xlink:show=\"new\" xlink:title=\"psysml:e7993699-2e90-4c6e-9ce7-c90f60868f83\" xlink:type=\"simple\"><path d=\"M279.4,351.09 C289.94,366.92 301.55,384.33 311.26,398.89 \" fill=\"none\" id=\"E4&lt;-E8\" style=\"stroke: #A80036; stroke-width: 1.0;\"/><ellipse cx=\"275.2894\" cy=\"344.9352\" fill=\"#FFFFFF\" rx=\"8\" ry=\"8\" style=\"stroke: #A80036; stroke-width: 1.0;\"/><line style=\"stroke: #A80036; stroke-width: 1.0;\" x1=\"279.7287\" x2=\"270.85\" y1=\"351.5905\" y2=\"338.28\"/><line style=\"stroke: #A80036; stroke-width: 1.0;\" x1=\"268.6341\" x2=\"281.9446\" y1=\"349.3746\" y2=\"340.4959\"/></a><!--MD5=[062ed86c389d1a88f61c6380d0491e17]\n",
       "reverse link E12 to E13--><a href=\"psysml:0f26ba0d-7372-4c44-875c-adf3c35e17b9\" target=\"_top\" title=\"psysml:0f26ba0d-7372-4c44-875c-adf3c35e17b9\" xlink:actuate=\"onRequest\" xlink:href=\"psysml:0f26ba0d-7372-4c44-875c-adf3c35e17b9\" xlink:show=\"new\" xlink:title=\"psysml:0f26ba0d-7372-4c44-875c-adf3c35e17b9\" xlink:type=\"simple\"><path d=\"M333.8,84.02 C335.88,85.07 337.96,86.07 340,87 C378.92,104.77 450.04,100.06 424,134 C392.63,174.88 361.32,149.06 312,164 C306.07,165.8 299.87,167.77 293.75,169.77 \" fill=\"none\" id=\"E12&lt;-E13\" style=\"stroke: #A80036; stroke-width: 1.0;\"/><polygon fill=\"#A80036\" points=\"322.11,77.78,325.5172,84.1354,332.6942,83.4346,329.287,77.0792,322.11,77.78\" style=\"stroke: #A80036; stroke-width: 1.0;\"/></a><!--MD5=[e2a9ac97dcd3257bb5342dae06547bad]\n",
       "link E12 to E13--><a href=\"psysml:f5a4eec3-f375-4f03-819b-6c5c8dc7728c\" target=\"_top\" title=\"psysml:f5a4eec3-f375-4f03-819b-6c5c8dc7728c\" xlink:actuate=\"onRequest\" xlink:href=\"psysml:f5a4eec3-f375-4f03-819b-6c5c8dc7728c\" xlink:show=\"new\" xlink:title=\"psysml:f5a4eec3-f375-4f03-819b-6c5c8dc7728c\" xlink:type=\"simple\"><path d=\"M317.81,87.18 C326.17,101.08 332.96,119.13 325,134 C318.83,145.53 308.85,154.94 298.06,162.43 \" fill=\"none\" id=\"E12-&gt;E13\" style=\"stroke: #A80036; stroke-width: 1.0; stroke-dasharray: 7.0,7.0;\"/><polygon fill=\"#A80036\" points=\"293.73,165.31,303.4373,163.6459,297.8903,162.5365,298.9997,156.9895,293.73,165.31\" style=\"stroke: #A80036; stroke-width: 1.0;\"/><text fill=\"#000000\" font-family=\"sans-serif\" font-size=\"13\" lengthAdjust=\"spacingAndGlyphs\" textLength=\"57\" x=\"329\" y=\"130.0669\">«satisfy»</text></a><!--MD5=[017847e01ff9a8bd19f247411074f987]\n",
       "link E13 to E4--><a href=\"psysml:e01bb7f1-206a-408f-a898-0799ec242df4\" target=\"_top\" title=\"psysml:e01bb7f1-206a-408f-a898-0799ec242df4\" xlink:actuate=\"onRequest\" xlink:href=\"psysml:e01bb7f1-206a-408f-a898-0799ec242df4\" xlink:show=\"new\" xlink:title=\"psysml:e01bb7f1-206a-408f-a898-0799ec242df4\" xlink:type=\"simple\"><path d=\"M247.39,210.27 C247.59,221.81 247.84,236.43 248.09,250.66 \" fill=\"none\" id=\"E13-&gt;E4\" style=\"stroke: #A80036; stroke-width: 1.0;\"/><polygon fill=\"#FFFFFF\" points=\"248.43,270.81,241.1054,251.9328,255.1033,251.6928,248.43,270.81\" style=\"stroke: #A80036; stroke-width: 1.0;\"/><ellipse cx=\"243.0074\" cy=\"246.1993\" fill=\"#A80036\" rx=\"2\" ry=\"2\" style=\"stroke: #A80036; stroke-width: 1.0;\"/><ellipse cx=\"253.0059\" cy=\"246.0279\" fill=\"#A80036\" rx=\"2\" ry=\"2\" style=\"stroke: #A80036; stroke-width: 1.0;\"/></a><!--MD5=[60f911bb19596b289db4a22769f8105a]\n",
       "link E11 to E13--><a href=\"psysml:e806deaf-0ce2-4d10-9e57-833502fc32ee\" target=\"_top\" title=\"psysml:e806deaf-0ce2-4d10-9e57-833502fc32ee\" xlink:actuate=\"onRequest\" xlink:href=\"psysml:e806deaf-0ce2-4d10-9e57-833502fc32ee\" xlink:show=\"new\" xlink:title=\"psysml:e806deaf-0ce2-4d10-9e57-833502fc32ee\" xlink:type=\"simple\"><path d=\"M127.91,87.28 C136.39,101.75 148.76,120.37 163,134 C173.59,144.14 186.48,153.31 198.95,161.02 \" fill=\"none\" id=\"E11-&gt;E13\" style=\"stroke: #A80036; stroke-width: 1.0; stroke-dasharray: 7.0,7.0;\"/><polygon fill=\"#A80036\" points=\"203.52,163.8,197.9,155.712,199.2452,161.2066,193.7506,162.5517,203.52,163.8\" style=\"stroke: #A80036; stroke-width: 1.0;\"/><text fill=\"#000000\" font-family=\"sans-serif\" font-size=\"13\" lengthAdjust=\"spacingAndGlyphs\" textLength=\"57\" x=\"164\" y=\"130.0669\">«satisfy»</text></a><!--MD5=[0c677eb374079406c87b74cd1f5a339d]\n",
       "link E14 to E9--><a href=\"psysml:d6ece11e-fb98-4dd6-9106-0f6846b0bd9f\" target=\"_top\" title=\"psysml:d6ece11e-fb98-4dd6-9106-0f6846b0bd9f\" xlink:actuate=\"onRequest\" xlink:href=\"psysml:d6ece11e-fb98-4dd6-9106-0f6846b0bd9f\" xlink:show=\"new\" xlink:title=\"psysml:d6ece11e-fb98-4dd6-9106-0f6846b0bd9f\" xlink:type=\"simple\"><path d=\"M93,210.27 C93,224.65 93,243.82 93,261.04 \" fill=\"none\" id=\"E14-&gt;E9\" style=\"stroke: #A80036; stroke-width: 1.0;\"/><polygon fill=\"#FFFFFF\" points=\"93,281.3,86,262.3,100,262.3,93,281.3\" style=\"stroke: #A80036; stroke-width: 1.0;\"/><ellipse cx=\"88\" cy=\"256.6\" fill=\"#A80036\" rx=\"2\" ry=\"2\" style=\"stroke: #A80036; stroke-width: 1.0;\"/><ellipse cx=\"98\" cy=\"256.6\" fill=\"#A80036\" rx=\"2\" ry=\"2\" style=\"stroke: #A80036; stroke-width: 1.0;\"/></a><!--MD5=[9c1c40551dcf5c2fca147626a786a7cd]\n",
       "link E11 to E14--><a href=\"psysml:feaea2f2-720b-4dbc-ba1d-0aec40f00046\" target=\"_top\" title=\"psysml:feaea2f2-720b-4dbc-ba1d-0aec40f00046\" xlink:actuate=\"onRequest\" xlink:href=\"psysml:feaea2f2-720b-4dbc-ba1d-0aec40f00046\" xlink:show=\"new\" xlink:title=\"psysml:feaea2f2-720b-4dbc-ba1d-0aec40f00046\" xlink:type=\"simple\"><path d=\"M94.96,79.46 C83.46,88.7 70.3,101.78 64,117 C58.15,131.13 63.81,146.85 71.63,159.71 \" fill=\"none\" id=\"E11-&gt;E14\" style=\"stroke: #A80036; stroke-width: 1.0; stroke-dasharray: 7.0,7.0;\"/><polygon fill=\"#A80036\" points=\"74.35,163.96,72.8629,154.2241,71.6527,159.7499,66.1268,158.5397,74.35,163.96\" style=\"stroke: #A80036; stroke-width: 1.0;\"/><text fill=\"#000000\" font-family=\"sans-serif\" font-size=\"13\" lengthAdjust=\"spacingAndGlyphs\" textLength=\"57\" x=\"65\" y=\"130.0669\">«satisfy»</text></a><!--MD5=[d53cb08dffc8689d16e38c8e194e9adc]\n",
       "link E12 to E14--><a href=\"psysml:f5704f7b-2601-4abd-90b0-2ec51a978e80\" target=\"_top\" title=\"psysml:f5704f7b-2601-4abd-90b0-2ec51a978e80\" xlink:actuate=\"onRequest\" xlink:href=\"psysml:f5704f7b-2601-4abd-90b0-2ec51a978e80\" xlink:show=\"new\" xlink:title=\"psysml:f5704f7b-2601-4abd-90b0-2ec51a978e80\" xlink:type=\"simple\"><path d=\"M281.09,87.22 C266.89,102.03 246.71,121.07 226,134 C200.86,149.7 170.21,162.07 144.66,170.81 \" fill=\"none\" id=\"E12-&gt;E14\" style=\"stroke: #A80036; stroke-width: 1.0; stroke-dasharray: 7.0,7.0;\"/><polygon fill=\"#A80036\" points=\"139.62,172.5,149.4273,173.4043,144.3562,170.8974,146.8631,165.8264,139.62,172.5\" style=\"stroke: #A80036; stroke-width: 1.0;\"/><text fill=\"#000000\" font-family=\"sans-serif\" font-size=\"13\" lengthAdjust=\"spacingAndGlyphs\" textLength=\"57\" x=\"249\" y=\"130.0669\">«satisfy»</text></a><!--MD5=[1415a841ccf61cfb54e266a8014a6741]\n",
       "@startuml\r\n",
       "skinparam wrapWidth 300\r\n",
       "hide circle\r\n",
       "\r\n",
       "package \"RequirementTest\" as E1  [[psysml:2a075407-fc8d-47b4-b4de-e1839d24b848 ]]  {\r\n",
       "comp def \"C\" as E2  <<(T,blue) constraint  def>> [[psysml:8e8b9929-fb62-44f3-bb6e-73f88688eaf1 ]] {\r\n",
       "}\r\n",
       "comp usage \"c: C \" as E3  <<(T,blue) constraint>> [[psysml:8dab2afb-478b-48f2-a7f7-bb2b245c05ea ]] {\r\n",
       "}\r\n",
       "comp def \"R\" as E4  <<(T,blue) requirement  def>> [[psysml:cae76f8a-948f-454f-8648-301efab5060e ]] {\r\n",
       "\r\n",
       "- -\r\n",
       "}\r\n",
       "comp usage \"<s>noname</s>\" as E7  <<(T,blue) requirement>> [[psysml:70e6cc11-a878-4419-9a48-d32cb5df9816 ]] {\r\n",
       "}\r\n",
       "comp def \" [<b>1</b>] A\" as E8  <<(T,blue) requirement  def>> [[psysml:5c5c4776-1d3a-4700-8516-1d3a67d779f4 ]] {\r\n",
       "Text\r\n",
       "- -\r\n",
       "}\r\n",
       "comp def \"R1\" as E9  <<(T,blue) requirement  def>> [[psysml:f2fc2205-4b84-4313-b340-24ee025c15cf ]] {\r\n",
       "}\r\n",
       "comp usage \"p\" as E11  <<(T,blue) part>> [[psysml:4203d305-f881-4dfa-bcc5-a82b5aac35c4 ]] {\r\n",
       "}\r\n",
       "comp usage \"q\" as E12  <<(T,blue) part>> [[psysml:d0dbee69-5f2e-4ac4-ba4b-4aca7380bae7 ]] {\r\n",
       "}\r\n",
       "comp usage \"r: R \" as E13  <<(T,blue) requirement>> [[psysml:aee31540-9ea4-41ee-8ebb-8555bfaf03fb ]] {\r\n",
       "}\r\n",
       "comp usage \"r1: R1 \" as E14  <<(T,blue) requirement>> [[psysml:5c4fb90e-2e7f-411e-8437-1e0e9b0bd00e ]] {\r\n",
       "}\r\n",
       "}\r\n",
       "E3 - -:|> E2 [[psysml:1cfa9d08-8b1e-49ae-8f22-7ec5c2d68c94 ]] \r\n",
       "E4 *- - \"*\"E7 [[psysml:8957256b-d423-4c87-844e-8026b3f5c553 ]] \r\n",
       "E4 +- - E8 [[psysml:e7993699-2e90-4c6e-9ce7-c90f60868f83 ]] \r\n",
       "E12 *- - E13 [[psysml:0f26ba0d-7372-4c44-875c-adf3c35e17b9 ]] \r\n",
       "E13 - -:|> E4 [[psysml:e01bb7f1-206a-408f-a898-0799ec242df4 ]] \r\n",
       "E11 ..> E13 [[psysml:e806deaf-0ce2-4d10-9e57-833502fc32ee ]] : <<satisfy>>\r\n",
       "E12 ..> E13 [[psysml:f5a4eec3-f375-4f03-819b-6c5c8dc7728c ]] : <<satisfy>>\r\n",
       "E14 - -:|> E9 [[psysml:d6ece11e-fb98-4dd6-9106-0f6846b0bd9f ]] \r\n",
       "E11 ..> E14 [[psysml:feaea2f2-720b-4dbc-ba1d-0aec40f00046 ]] : <<satisfy>>\r\n",
       "E12 ..> E14 [[psysml:f5704f7b-2601-4abd-90b0-2ec51a978e80 ]] : <<satisfy>>\r\n",
       "@enduml\r\n",
       "\n",
       "PlantUML version 1.2020.13(Sat Jun 13 12:26:38 UTC 2020)\n",
       "(EPL source distribution)\n",
       "Java Runtime: OpenJDK Runtime Environment\n",
       "JVM: OpenJDK 64-Bit Server VM\n",
       "Default Encoding: UTF-8\n",
       "Language: en\n",
       "Country: null\n",
       "--></g></svg>"
      ]
     },
     "execution_count": 29,
     "metadata": {},
     "output_type": "execute_result"
    }
   ],
   "source": [
    "%viz --style=\"STDCOLOR\" --view=\"MIXED\" \"RequirementTest\""
   ]
  },
  {
   "cell_type": "code",
   "execution_count": 30,
   "id": "6736c6d3",
   "metadata": {
    "execution": {
     "iopub.execute_input": "2021-10-25T08:21:13.748746Z",
     "iopub.status.busy": "2021-10-25T08:21:13.748339Z",
     "iopub.status.idle": "2021-10-25T08:21:13.831803Z",
     "shell.execute_reply": "2021-10-25T08:21:13.831438Z"
    }
   },
   "outputs": [
    {
     "data": {
      "image/svg+xml": [
       "<?xml version=\"1.0\" encoding=\"UTF-8\" standalone=\"no\"?><svg xmlns=\"http://www.w3.org/2000/svg\" xmlns:xlink=\"http://www.w3.org/1999/xlink\" contentScriptType=\"application/ecmascript\" contentStyleType=\"text/css\" height=\"494px\" preserveAspectRatio=\"none\" style=\"width:513px;height:494px;\" version=\"1.1\" viewBox=\"0 0 513 494\" width=\"513px\" zoomAndPan=\"magnify\"><defs><filter height=\"300%\" id=\"f1kfdmib3tl9zi\" width=\"300%\" x=\"-1\" y=\"-1\"><feGaussianBlur result=\"blurOut\" stdDeviation=\"2.0\"/><feColorMatrix in=\"blurOut\" result=\"blurOut2\" type=\"matrix\" values=\"0 0 0 0 0 0 0 0 0 0 0 0 0 0 0 0 0 0 .4 0\"/><feOffset dx=\"4.0\" dy=\"4.0\" in=\"blurOut2\" result=\"blurOut3\"/><feBlend in=\"SourceGraphic\" in2=\"blurOut3\" mode=\"normal\"/></filter></defs><g><!--MD5=[fbc87193dbaf4d95561dea2c320d4a47]\n",
       "cluster E1--><a href=\"psysml:2a075407-fc8d-47b4-b4de-e1839d24b848\" target=\"_top\" title=\"psysml:2a075407-fc8d-47b4-b4de-e1839d24b848\" xlink:actuate=\"onRequest\" xlink:href=\"psysml:2a075407-fc8d-47b4-b4de-e1839d24b848\" xlink:show=\"new\" xlink:title=\"psysml:2a075407-fc8d-47b4-b4de-e1839d24b848\" xlink:type=\"simple\"><polygon fill=\"#FFFFFF\" filter=\"url(#f1kfdmib3tl9zi)\" points=\"16,6,143,6,150,28.2969,491,28.2969,491,482,16,482,16,6\" style=\"stroke: #000000; stroke-width: 1.5;\"/><line style=\"stroke: #000000; stroke-width: 1.5;\" x1=\"16\" x2=\"150\" y1=\"28.2969\" y2=\"28.2969\"/><text fill=\"#000000\" font-family=\"sans-serif\" font-size=\"14\" font-weight=\"bold\" lengthAdjust=\"spacingAndGlyphs\" textLength=\"121\" x=\"20\" y=\"20.9951\">RequirementTest</text></a><!--MD5=[b4997ac47864f28c2f74865a473b2911]\n",
       "class E2--><a href=\"psysml:8e8b9929-fb62-44f3-bb6e-73f88688eaf1\" target=\"_top\" title=\"psysml:8e8b9929-fb62-44f3-bb6e-73f88688eaf1\" xlink:actuate=\"onRequest\" xlink:href=\"psysml:8e8b9929-fb62-44f3-bb6e-73f88688eaf1\" xlink:show=\"new\" xlink:title=\"psysml:8e8b9929-fb62-44f3-bb6e-73f88688eaf1\" xlink:type=\"simple\"><rect fill=\"#FEFECE\" filter=\"url(#f1kfdmib3tl9zi)\" height=\"45.9375\" id=\"E2\" style=\"stroke: #A80036; stroke-width: 1.5;\" width=\"134\" x=\"341\" y=\"164\"/><ellipse cx=\"356\" cy=\"182.9688\" fill=\"#A52A2A\" rx=\"11\" ry=\"11\" style=\"stroke: #A80036; stroke-width: 1.0;\"/><path d=\"M353.2188,187.9688 L353.2188,177.375 L355.9531,177.375 Q357.3438,177.375 358.1094,177.7656 Q358.8906,178.1406 359.4219,178.8438 Q359.9531,179.5469 360.25,180.5469 Q360.5469,181.5313 360.5469,182.75 Q360.5,184.3438 360,185.5313 Q359.5156,186.7031 358.4688,187.3438 Q357.4375,187.9688 355.75,187.9688 L353.2188,187.9688 Z M355.0781,186.4688 L355.7031,186.4688 Q356.7813,186.4688 357.4375,186.0156 Q358.0938,185.5625 358.375,184.7344 Q358.6719,183.8906 358.6563,182.7656 Q358.6563,181.5938 358.4063,180.7344 Q358.1563,179.8594 357.5469,179.3906 Q356.9375,178.9063 355.8906,178.9063 L355.0781,178.9063 L355.0781,186.4688 Z \"/><text fill=\"#000000\" font-family=\"sans-serif\" font-size=\"12\" font-style=\"italic\" lengthAdjust=\"spacingAndGlyphs\" textLength=\"106\" x=\"368\" y=\"180.1387\">«constraint  def»</text><text fill=\"#000000\" font-family=\"sans-serif\" font-size=\"12\" lengthAdjust=\"spacingAndGlyphs\" textLength=\"8\" x=\"417\" y=\"194.1074\">C</text><line style=\"stroke: #A80036; stroke-width: 1.5;\" x1=\"342\" x2=\"474\" y1=\"201.9375\" y2=\"201.9375\"/></a><!--MD5=[09b614a08d8cba4a07c9adeb5e0fee81]\n",
       "class E3--><a href=\"psysml:8dab2afb-478b-48f2-a7f7-bb2b245c05ea\" target=\"_top\" title=\"psysml:8dab2afb-478b-48f2-a7f7-bb2b245c05ea\" xlink:actuate=\"onRequest\" xlink:href=\"psysml:8dab2afb-478b-48f2-a7f7-bb2b245c05ea\" xlink:show=\"new\" xlink:title=\"psysml:8dab2afb-478b-48f2-a7f7-bb2b245c05ea\" xlink:type=\"simple\"><rect fill=\"#FEFECE\" filter=\"url(#f1kfdmib3tl9zi)\" height=\"45.9375\" id=\"E3\" rx=\"10\" ry=\"10\" style=\"stroke: #A80036; stroke-width: 1.5;\" width=\"106\" x=\"369\" y=\"41\"/><ellipse cx=\"384\" cy=\"59.9688\" fill=\"#FFA500\" rx=\"11\" ry=\"11\" style=\"stroke: #A80036; stroke-width: 1.0;\"/><path d=\"M383.75,65.4375 Q382,65.4375 381.0469,64.4063 Q380.1094,63.3594 380.1094,61.5156 L380.1094,54.625 L382.1719,54.625 L382.1719,54.7813 Q382.0781,54.875 382.0469,55.0156 Q382.0313,55.1406 382.0313,55.4063 L382.0313,61.5313 Q382.0313,62.625 382.4063,63.25 Q382.7813,63.875 383.7656,63.875 Q384.75,63.875 385.1406,63.25 Q385.5313,62.625 385.5313,61.4844 L385.5313,54.625 L387.4063,54.625 L387.4063,61.4688 Q387.4063,63.5 386.375,64.4688 Q385.3594,65.4375 383.75,65.4375 Z \"/><text fill=\"#000000\" font-family=\"sans-serif\" font-size=\"12\" font-style=\"italic\" lengthAdjust=\"spacingAndGlyphs\" textLength=\"78\" x=\"396\" y=\"57.1387\">«constraint»</text><text fill=\"#000000\" font-family=\"sans-serif\" font-size=\"12\" lengthAdjust=\"spacingAndGlyphs\" textLength=\"23\" x=\"421.5\" y=\"71.1074\">c: C</text><line style=\"stroke: #A80036; stroke-width: 1.5;\" x1=\"370\" x2=\"474\" y1=\"78.9375\" y2=\"78.9375\"/></a><!--MD5=[ebbe1d658d1005bcc118a6aa81145e00]\n",
       "class E4--><a href=\"psysml:cae76f8a-948f-454f-8648-301efab5060e\" target=\"_top\" title=\"psysml:cae76f8a-948f-454f-8648-301efab5060e\" xlink:actuate=\"onRequest\" xlink:href=\"psysml:cae76f8a-948f-454f-8648-301efab5060e\" xlink:show=\"new\" xlink:title=\"psysml:cae76f8a-948f-454f-8648-301efab5060e\" xlink:type=\"simple\"><rect fill=\"#FEFECE\" filter=\"url(#f1kfdmib3tl9zi)\" height=\"66.7422\" id=\"E4\" style=\"stroke: #A80036; stroke-width: 1.5;\" width=\"147\" x=\"214.5\" y=\"271\"/><ellipse cx=\"229.5\" cy=\"289.9688\" fill=\"#A52A2A\" rx=\"11\" ry=\"11\" style=\"stroke: #A80036; stroke-width: 1.0;\"/><path d=\"M226.7188,294.9688 L226.7188,284.375 L229.4531,284.375 Q230.8438,284.375 231.6094,284.7656 Q232.3906,285.1406 232.9219,285.8438 Q233.4531,286.5469 233.75,287.5469 Q234.0469,288.5313 234.0469,289.75 Q234,291.3438 233.5,292.5313 Q233.0156,293.7031 231.9688,294.3438 Q230.9375,294.9688 229.25,294.9688 L226.7188,294.9688 Z M228.5781,293.4688 L229.2031,293.4688 Q230.2813,293.4688 230.9375,293.0156 Q231.5938,292.5625 231.875,291.7344 Q232.1719,290.8906 232.1563,289.7656 Q232.1563,288.5938 231.9063,287.7344 Q231.6563,286.8594 231.0469,286.3906 Q230.4375,285.9063 229.3906,285.9063 L228.5781,285.9063 L228.5781,293.4688 Z \"/><text fill=\"#000000\" font-family=\"sans-serif\" font-size=\"12\" font-style=\"italic\" lengthAdjust=\"spacingAndGlyphs\" textLength=\"119\" x=\"241.5\" y=\"287.1387\">«requirement  def»</text><text fill=\"#000000\" font-family=\"sans-serif\" font-size=\"12\" lengthAdjust=\"spacingAndGlyphs\" textLength=\"8\" x=\"297\" y=\"301.1074\">R</text><line style=\"stroke: #A80036; stroke-width: 1.5;\" x1=\"215.5\" x2=\"360.5\" y1=\"308.9375\" y2=\"308.9375\"/><text fill=\"#000000\" font-family=\"sans-serif\" font-size=\"11\" lengthAdjust=\"spacingAndGlyphs\" textLength=\"0\" x=\"224.5\" y=\"323.1479\"/><line style=\"stroke: #A80036; stroke-width: 1.0;\" x1=\"215.5\" x2=\"360.5\" y1=\"329.7422\" y2=\"329.7422\"/></a><!--MD5=[2156ba9850f5573cc1fc38a6a4b2f02b]\n",
       "class E7--><a href=\"psysml:70e6cc11-a878-4419-9a48-d32cb5df9816\" target=\"_top\" title=\"psysml:70e6cc11-a878-4419-9a48-d32cb5df9816\" xlink:actuate=\"onRequest\" xlink:href=\"psysml:70e6cc11-a878-4419-9a48-d32cb5df9816\" xlink:show=\"new\" xlink:title=\"psysml:70e6cc11-a878-4419-9a48-d32cb5df9816\" xlink:type=\"simple\"><rect fill=\"#FEFECE\" filter=\"url(#f1kfdmib3tl9zi)\" height=\"45.9375\" id=\"E7\" rx=\"10\" ry=\"10\" style=\"stroke: #A80036; stroke-width: 1.5;\" width=\"119\" x=\"144.5\" y=\"409.5\"/><ellipse cx=\"159.5\" cy=\"428.4688\" fill=\"#FFA500\" rx=\"11\" ry=\"11\" style=\"stroke: #A80036; stroke-width: 1.0;\"/><path d=\"M159.25,433.9375 Q157.5,433.9375 156.5469,432.9063 Q155.6094,431.8594 155.6094,430.0156 L155.6094,423.125 L157.6719,423.125 L157.6719,423.2813 Q157.5781,423.375 157.5469,423.5156 Q157.5313,423.6406 157.5313,423.9063 L157.5313,430.0313 Q157.5313,431.125 157.9063,431.75 Q158.2813,432.375 159.2656,432.375 Q160.25,432.375 160.6406,431.75 Q161.0313,431.125 161.0313,429.9844 L161.0313,423.125 L162.9063,423.125 L162.9063,429.9688 Q162.9063,432 161.875,432.9688 Q160.8594,433.9375 159.25,433.9375 Z \"/><text fill=\"#000000\" font-family=\"sans-serif\" font-size=\"12\" font-style=\"italic\" lengthAdjust=\"spacingAndGlyphs\" textLength=\"91\" x=\"171.5\" y=\"425.6387\">«requirement»</text><text fill=\"#000000\" font-family=\"sans-serif\" font-size=\"12\" lengthAdjust=\"spacingAndGlyphs\" text-decoration=\"line-through\" textLength=\"51\" x=\"191.5\" y=\"439.6074\">noname</text><line style=\"stroke: #A80036; stroke-width: 1.5;\" x1=\"145.5\" x2=\"262.5\" y1=\"447.4375\" y2=\"447.4375\"/></a><!--MD5=[b9389687b975829384b498ac4b7476b2]\n",
       "class E8--><a href=\"psysml:5c5c4776-1d3a-4700-8516-1d3a67d779f4\" target=\"_top\" title=\"psysml:5c5c4776-1d3a-4700-8516-1d3a67d779f4\" xlink:actuate=\"onRequest\" xlink:href=\"psysml:5c5c4776-1d3a-4700-8516-1d3a67d779f4\" xlink:show=\"new\" xlink:title=\"psysml:5c5c4776-1d3a-4700-8516-1d3a67d779f4\" xlink:type=\"simple\"><rect fill=\"#FEFECE\" filter=\"url(#f1kfdmib3tl9zi)\" height=\"66.7422\" id=\"E8\" style=\"stroke: #A80036; stroke-width: 1.5;\" width=\"147\" x=\"298.5\" y=\"399\"/><ellipse cx=\"313.5\" cy=\"417.9688\" fill=\"#A52A2A\" rx=\"11\" ry=\"11\" style=\"stroke: #A80036; stroke-width: 1.0;\"/><path d=\"M310.7188,422.9688 L310.7188,412.375 L313.4531,412.375 Q314.8438,412.375 315.6094,412.7656 Q316.3906,413.1406 316.9219,413.8438 Q317.4531,414.5469 317.75,415.5469 Q318.0469,416.5313 318.0469,417.75 Q318,419.3438 317.5,420.5313 Q317.0156,421.7031 315.9688,422.3438 Q314.9375,422.9688 313.25,422.9688 L310.7188,422.9688 Z M312.5781,421.4688 L313.2031,421.4688 Q314.2813,421.4688 314.9375,421.0156 Q315.5938,420.5625 315.875,419.7344 Q316.1719,418.8906 316.1563,417.7656 Q316.1563,416.5938 315.9063,415.7344 Q315.6563,414.8594 315.0469,414.3906 Q314.4375,413.9063 313.3906,413.9063 L312.5781,413.9063 L312.5781,421.4688 Z \"/><text fill=\"#000000\" font-family=\"sans-serif\" font-size=\"12\" font-style=\"italic\" lengthAdjust=\"spacingAndGlyphs\" textLength=\"119\" x=\"325.5\" y=\"415.1387\">«requirement  def»</text><text fill=\"#000000\" font-family=\"sans-serif\" font-size=\"12\" lengthAdjust=\"spacingAndGlyphs\" textLength=\"5\" x=\"372\" y=\"429.1074\">[</text><text fill=\"#000000\" font-family=\"sans-serif\" font-size=\"12\" font-weight=\"bold\" lengthAdjust=\"spacingAndGlyphs\" textLength=\"8\" x=\"377\" y=\"429.1074\">1</text><text fill=\"#000000\" font-family=\"sans-serif\" font-size=\"12\" lengthAdjust=\"spacingAndGlyphs\" textLength=\"17\" x=\"385\" y=\"429.1074\">] A</text><line style=\"stroke: #A80036; stroke-width: 1.5;\" x1=\"299.5\" x2=\"444.5\" y1=\"436.9375\" y2=\"436.9375\"/><text fill=\"#000000\" font-family=\"sans-serif\" font-size=\"11\" lengthAdjust=\"spacingAndGlyphs\" textLength=\"24\" x=\"304.5\" y=\"451.1479\">Text</text><line style=\"stroke: #A80036; stroke-width: 1.0;\" x1=\"299.5\" x2=\"444.5\" y1=\"457.7422\" y2=\"457.7422\"/></a><!--MD5=[fd4143e9d270a159db93a4ea2a975926]\n",
       "class E9--><a href=\"psysml:f2fc2205-4b84-4313-b340-24ee025c15cf\" target=\"_top\" title=\"psysml:f2fc2205-4b84-4313-b340-24ee025c15cf\" xlink:actuate=\"onRequest\" xlink:href=\"psysml:f2fc2205-4b84-4313-b340-24ee025c15cf\" xlink:show=\"new\" xlink:title=\"psysml:f2fc2205-4b84-4313-b340-24ee025c15cf\" xlink:type=\"simple\"><rect fill=\"#FEFECE\" filter=\"url(#f1kfdmib3tl9zi)\" height=\"45.9375\" id=\"E9\" style=\"stroke: #A80036; stroke-width: 1.5;\" width=\"147\" x=\"32.5\" y=\"281.5\"/><ellipse cx=\"47.5\" cy=\"300.4688\" fill=\"#A52A2A\" rx=\"11\" ry=\"11\" style=\"stroke: #A80036; stroke-width: 1.0;\"/><path d=\"M44.7188,305.4688 L44.7188,294.875 L47.4531,294.875 Q48.8438,294.875 49.6094,295.2656 Q50.3906,295.6406 50.9219,296.3438 Q51.4531,297.0469 51.75,298.0469 Q52.0469,299.0313 52.0469,300.25 Q52,301.8438 51.5,303.0313 Q51.0156,304.2031 49.9688,304.8438 Q48.9375,305.4688 47.25,305.4688 L44.7188,305.4688 Z M46.5781,303.9688 L47.2031,303.9688 Q48.2813,303.9688 48.9375,303.5156 Q49.5938,303.0625 49.875,302.2344 Q50.1719,301.3906 50.1563,300.2656 Q50.1563,299.0938 49.9063,298.2344 Q49.6563,297.3594 49.0469,296.8906 Q48.4375,296.4063 47.3906,296.4063 L46.5781,296.4063 L46.5781,303.9688 Z \"/><text fill=\"#000000\" font-family=\"sans-serif\" font-size=\"12\" font-style=\"italic\" lengthAdjust=\"spacingAndGlyphs\" textLength=\"119\" x=\"59.5\" y=\"297.6387\">«requirement  def»</text><text fill=\"#000000\" font-family=\"sans-serif\" font-size=\"12\" lengthAdjust=\"spacingAndGlyphs\" textLength=\"16\" x=\"111\" y=\"311.6074\">R1</text><line style=\"stroke: #A80036; stroke-width: 1.5;\" x1=\"33.5\" x2=\"178.5\" y1=\"319.4375\" y2=\"319.4375\"/></a><!--MD5=[1dd1bfd58a279cf63c5f349dbc8fc6a1]\n",
       "class E11--><a href=\"psysml:4203d305-f881-4dfa-bcc5-a82b5aac35c4\" target=\"_top\" title=\"psysml:4203d305-f881-4dfa-bcc5-a82b5aac35c4\" xlink:actuate=\"onRequest\" xlink:href=\"psysml:4203d305-f881-4dfa-bcc5-a82b5aac35c4\" xlink:show=\"new\" xlink:title=\"psysml:4203d305-f881-4dfa-bcc5-a82b5aac35c4\" xlink:type=\"simple\"><rect fill=\"#FEFECE\" filter=\"url(#f1kfdmib3tl9zi)\" height=\"45.9375\" id=\"E11\" rx=\"10\" ry=\"10\" style=\"stroke: #A80036; stroke-width: 1.5;\" width=\"68\" x=\"82\" y=\"41\"/><ellipse cx=\"97\" cy=\"59.9688\" fill=\"#32CD32\" rx=\"11\" ry=\"11\" style=\"stroke: #A80036; stroke-width: 1.0;\"/><path d=\"M93.8125,64.9688 L93.8125,54.375 L97.4219,54.375 Q98.6406,54.375 99.4375,54.8125 Q100.2344,55.2344 100.6094,55.9375 Q101,56.6406 101,57.4844 Q101,58.3281 100.625,59.0156 Q100.2656,59.7031 99.4688,60.125 Q98.6875,60.5313 97.5,60.5313 L95.7656,60.5313 L95.7656,64.9688 L93.8125,64.9688 Z M95.7656,58.9375 L97.375,58.9375 Q98.1875,58.9375 98.6094,58.5313 Q99.0313,58.125 99.0313,57.4844 Q99.0313,56.8594 98.6094,56.4531 Q98.1875,56.0469 97.3906,56.0469 L95.7656,56.0469 L95.7656,58.9375 Z \"/><text fill=\"#000000\" font-family=\"sans-serif\" font-size=\"12\" font-style=\"italic\" lengthAdjust=\"spacingAndGlyphs\" textLength=\"40\" x=\"109\" y=\"57.1387\">«part»</text><text fill=\"#000000\" font-family=\"sans-serif\" font-size=\"12\" lengthAdjust=\"spacingAndGlyphs\" textLength=\"8\" x=\"125\" y=\"71.1074\">p</text><line style=\"stroke: #A80036; stroke-width: 1.5;\" x1=\"83\" x2=\"149\" y1=\"78.9375\" y2=\"78.9375\"/></a><!--MD5=[49a0ec8f00dab7302a31f22d0f0fe584]\n",
       "class E12--><a href=\"psysml:d0dbee69-5f2e-4ac4-ba4b-4aca7380bae7\" target=\"_top\" title=\"psysml:d0dbee69-5f2e-4ac4-ba4b-4aca7380bae7\" xlink:actuate=\"onRequest\" xlink:href=\"psysml:d0dbee69-5f2e-4ac4-ba4b-4aca7380bae7\" xlink:show=\"new\" xlink:title=\"psysml:d0dbee69-5f2e-4ac4-ba4b-4aca7380bae7\" xlink:type=\"simple\"><rect fill=\"#FEFECE\" filter=\"url(#f1kfdmib3tl9zi)\" height=\"45.9375\" id=\"E12\" rx=\"10\" ry=\"10\" style=\"stroke: #A80036; stroke-width: 1.5;\" width=\"68\" x=\"266\" y=\"41\"/><ellipse cx=\"281\" cy=\"59.9688\" fill=\"#32CD32\" rx=\"11\" ry=\"11\" style=\"stroke: #A80036; stroke-width: 1.0;\"/><path d=\"M277.8125,64.9688 L277.8125,54.375 L281.4219,54.375 Q282.6406,54.375 283.4375,54.8125 Q284.2344,55.2344 284.6094,55.9375 Q285,56.6406 285,57.4844 Q285,58.3281 284.625,59.0156 Q284.2656,59.7031 283.4688,60.125 Q282.6875,60.5313 281.5,60.5313 L279.7656,60.5313 L279.7656,64.9688 L277.8125,64.9688 Z M279.7656,58.9375 L281.375,58.9375 Q282.1875,58.9375 282.6094,58.5313 Q283.0313,58.125 283.0313,57.4844 Q283.0313,56.8594 282.6094,56.4531 Q282.1875,56.0469 281.3906,56.0469 L279.7656,56.0469 L279.7656,58.9375 Z \"/><text fill=\"#000000\" font-family=\"sans-serif\" font-size=\"12\" font-style=\"italic\" lengthAdjust=\"spacingAndGlyphs\" textLength=\"40\" x=\"293\" y=\"57.1387\">«part»</text><text fill=\"#000000\" font-family=\"sans-serif\" font-size=\"12\" lengthAdjust=\"spacingAndGlyphs\" textLength=\"8\" x=\"309\" y=\"71.1074\">q</text><line style=\"stroke: #A80036; stroke-width: 1.5;\" x1=\"267\" x2=\"333\" y1=\"78.9375\" y2=\"78.9375\"/></a><!--MD5=[ee3c913d1a06f366521f9ef512b67efe]\n",
       "class E13--><a href=\"psysml:aee31540-9ea4-41ee-8ebb-8555bfaf03fb\" target=\"_top\" title=\"psysml:aee31540-9ea4-41ee-8ebb-8555bfaf03fb\" xlink:actuate=\"onRequest\" xlink:href=\"psysml:aee31540-9ea4-41ee-8ebb-8555bfaf03fb\" xlink:show=\"new\" xlink:title=\"psysml:aee31540-9ea4-41ee-8ebb-8555bfaf03fb\" xlink:type=\"simple\"><rect fill=\"#FEFECE\" filter=\"url(#f1kfdmib3tl9zi)\" height=\"45.9375\" id=\"E13\" rx=\"10\" ry=\"10\" style=\"stroke: #A80036; stroke-width: 1.5;\" width=\"119\" x=\"186.5\" y=\"164\"/><ellipse cx=\"201.5\" cy=\"182.9688\" fill=\"#FFA500\" rx=\"11\" ry=\"11\" style=\"stroke: #A80036; stroke-width: 1.0;\"/><path d=\"M201.25,188.4375 Q199.5,188.4375 198.5469,187.4063 Q197.6094,186.3594 197.6094,184.5156 L197.6094,177.625 L199.6719,177.625 L199.6719,177.7813 Q199.5781,177.875 199.5469,178.0156 Q199.5313,178.1406 199.5313,178.4063 L199.5313,184.5313 Q199.5313,185.625 199.9063,186.25 Q200.2813,186.875 201.2656,186.875 Q202.25,186.875 202.6406,186.25 Q203.0313,185.625 203.0313,184.4844 L203.0313,177.625 L204.9063,177.625 L204.9063,184.4688 Q204.9063,186.5 203.875,187.4688 Q202.8594,188.4375 201.25,188.4375 Z \"/><text fill=\"#000000\" font-family=\"sans-serif\" font-size=\"12\" font-style=\"italic\" lengthAdjust=\"spacingAndGlyphs\" textLength=\"91\" x=\"213.5\" y=\"180.1387\">«requirement»</text><text fill=\"#000000\" font-family=\"sans-serif\" font-size=\"12\" lengthAdjust=\"spacingAndGlyphs\" textLength=\"21\" x=\"246.5\" y=\"194.1074\">r: R</text><line style=\"stroke: #A80036; stroke-width: 1.5;\" x1=\"187.5\" x2=\"304.5\" y1=\"201.9375\" y2=\"201.9375\"/></a><!--MD5=[bee11217b2f71d958a27249dc326068c]\n",
       "class E14--><a href=\"psysml:5c4fb90e-2e7f-411e-8437-1e0e9b0bd00e\" target=\"_top\" title=\"psysml:5c4fb90e-2e7f-411e-8437-1e0e9b0bd00e\" xlink:actuate=\"onRequest\" xlink:href=\"psysml:5c4fb90e-2e7f-411e-8437-1e0e9b0bd00e\" xlink:show=\"new\" xlink:title=\"psysml:5c4fb90e-2e7f-411e-8437-1e0e9b0bd00e\" xlink:type=\"simple\"><rect fill=\"#FEFECE\" filter=\"url(#f1kfdmib3tl9zi)\" height=\"45.9375\" id=\"E14\" rx=\"10\" ry=\"10\" style=\"stroke: #A80036; stroke-width: 1.5;\" width=\"119\" x=\"32.5\" y=\"164\"/><ellipse cx=\"47.5\" cy=\"182.9688\" fill=\"#FFA500\" rx=\"11\" ry=\"11\" style=\"stroke: #A80036; stroke-width: 1.0;\"/><path d=\"M47.25,188.4375 Q45.5,188.4375 44.5469,187.4063 Q43.6094,186.3594 43.6094,184.5156 L43.6094,177.625 L45.6719,177.625 L45.6719,177.7813 Q45.5781,177.875 45.5469,178.0156 Q45.5313,178.1406 45.5313,178.4063 L45.5313,184.5313 Q45.5313,185.625 45.9063,186.25 Q46.2813,186.875 47.2656,186.875 Q48.25,186.875 48.6406,186.25 Q49.0313,185.625 49.0313,184.4844 L49.0313,177.625 L50.9063,177.625 L50.9063,184.4688 Q50.9063,186.5 49.875,187.4688 Q48.8594,188.4375 47.25,188.4375 Z \"/><text fill=\"#000000\" font-family=\"sans-serif\" font-size=\"12\" font-style=\"italic\" lengthAdjust=\"spacingAndGlyphs\" textLength=\"91\" x=\"59.5\" y=\"180.1387\">«requirement»</text><text fill=\"#000000\" font-family=\"sans-serif\" font-size=\"12\" lengthAdjust=\"spacingAndGlyphs\" textLength=\"37\" x=\"84.5\" y=\"194.1074\">r1: R1</text><line style=\"stroke: #A80036; stroke-width: 1.5;\" x1=\"33.5\" x2=\"150.5\" y1=\"201.9375\" y2=\"201.9375\"/></a><!--MD5=[05d275557350bfb9b23a4ef7222b4c39]\n",
       "link E3 to E2--><a href=\"psysml:1cfa9d08-8b1e-49ae-8f22-7ec5c2d68c94\" target=\"_top\" title=\"psysml:1cfa9d08-8b1e-49ae-8f22-7ec5c2d68c94\" xlink:actuate=\"onRequest\" xlink:href=\"psysml:1cfa9d08-8b1e-49ae-8f22-7ec5c2d68c94\" xlink:show=\"new\" xlink:title=\"psysml:1cfa9d08-8b1e-49ae-8f22-7ec5c2d68c94\" xlink:type=\"simple\"><path d=\"M428.68,87.21 C431.84,100.81 434.27,118.52 431,134 C430.22,137.68 429.17,141.41 427.93,145.11 \" fill=\"none\" id=\"E3-&gt;E2\" style=\"stroke: #A80036; stroke-width: 1.0;\"/><polygon fill=\"#FFFFFF\" points=\"420.21,163.91,420.955,143.6753,433.9048,148.9952,420.21,163.91\" style=\"stroke: #A80036; stroke-width: 1.0;\"/><ellipse cx=\"424.9709\" cy=\"139.1628\" fill=\"#A80036\" rx=\"2\" ry=\"2\" style=\"stroke: #A80036; stroke-width: 1.0;\"/><ellipse cx=\"434.2208\" cy=\"142.9628\" fill=\"#A80036\" rx=\"2\" ry=\"2\" style=\"stroke: #A80036; stroke-width: 1.0;\"/></a><!--MD5=[722ff4eef345aa10242dad44df0e98c7]\n",
       "reverse link E4 to E7--><a href=\"psysml:8957256b-d423-4c87-844e-8026b3f5c553\" target=\"_top\" title=\"psysml:8957256b-d423-4c87-844e-8026b3f5c553\" xlink:actuate=\"onRequest\" xlink:href=\"psysml:8957256b-d423-4c87-844e-8026b3f5c553\" xlink:show=\"new\" xlink:title=\"psysml:8957256b-d423-4c87-844e-8026b3f5c553\" xlink:type=\"simple\"><path d=\"M258.89,349.16 C245.4,369.41 229.93,392.6 218.86,409.21 \" fill=\"none\" id=\"E4&lt;-E7\" style=\"stroke: #A80036; stroke-width: 1.0;\"/><polygon fill=\"#A80036\" points=\"266.15,338.28,259.4928,341.0515,259.4906,348.2626,266.1478,345.4911,266.15,338.28\" style=\"stroke: #A80036; stroke-width: 1.0;\"/><text fill=\"#000000\" font-family=\"sans-serif\" font-size=\"13\" lengthAdjust=\"spacingAndGlyphs\" textLength=\"7\" x=\"214.771\" y=\"398.412\">*</text></a><!--MD5=[c6fc7cdb0cabde04948078cf183fa696]\n",
       "reverse link E4 to E8--><a href=\"psysml:e7993699-2e90-4c6e-9ce7-c90f60868f83\" target=\"_top\" title=\"psysml:e7993699-2e90-4c6e-9ce7-c90f60868f83\" xlink:actuate=\"onRequest\" xlink:href=\"psysml:e7993699-2e90-4c6e-9ce7-c90f60868f83\" xlink:show=\"new\" xlink:title=\"psysml:e7993699-2e90-4c6e-9ce7-c90f60868f83\" xlink:type=\"simple\"><path d=\"M318.4,351.09 C328.94,366.92 340.55,384.33 350.26,398.89 \" fill=\"none\" id=\"E4&lt;-E8\" style=\"stroke: #A80036; stroke-width: 1.0;\"/><ellipse cx=\"314.2894\" cy=\"344.9352\" fill=\"#FFFFFF\" rx=\"8\" ry=\"8\" style=\"stroke: #A80036; stroke-width: 1.0;\"/><line style=\"stroke: #A80036; stroke-width: 1.0;\" x1=\"318.7287\" x2=\"309.85\" y1=\"351.5905\" y2=\"338.28\"/><line style=\"stroke: #A80036; stroke-width: 1.0;\" x1=\"307.6341\" x2=\"320.9446\" y1=\"349.3746\" y2=\"340.4959\"/></a><!--MD5=[062ed86c389d1a88f61c6380d0491e17]\n",
       "reverse link E12 to E13--><a href=\"psysml:0f26ba0d-7372-4c44-875c-adf3c35e17b9\" target=\"_top\" title=\"psysml:0f26ba0d-7372-4c44-875c-adf3c35e17b9\" xlink:actuate=\"onRequest\" xlink:href=\"psysml:0f26ba0d-7372-4c44-875c-adf3c35e17b9\" xlink:show=\"new\" xlink:title=\"psysml:0f26ba0d-7372-4c44-875c-adf3c35e17b9\" xlink:type=\"simple\"><path d=\"M346.21,84.57 C348.17,85.39 350.1,86.2 352,87 C383.96,100.42 404.77,88.16 424,117 C428.19,123.29 428.53,127.95 424,134 C423.06,135.26 357.17,154.29 305.83,168.97 \" fill=\"none\" id=\"E12&lt;-E13\" style=\"stroke: #A80036; stroke-width: 1.0;\"/><polygon fill=\"#A80036\" points=\"334.11,79.46,338.0831,85.4778,345.1661,84.1249,341.1931,78.1071,334.11,79.46\" style=\"stroke: #A80036; stroke-width: 1.0;\"/></a><!--MD5=[e2a9ac97dcd3257bb5342dae06547bad]\n",
       "link E12 to E13--><a href=\"psysml:f5a4eec3-f375-4f03-819b-6c5c8dc7728c\" target=\"_top\" title=\"psysml:f5a4eec3-f375-4f03-819b-6c5c8dc7728c\" xlink:actuate=\"onRequest\" xlink:href=\"psysml:f5a4eec3-f375-4f03-819b-6c5c8dc7728c\" xlink:show=\"new\" xlink:title=\"psysml:f5a4eec3-f375-4f03-819b-6c5c8dc7728c\" xlink:type=\"simple\"><path d=\"M317.34,87.15 C325.98,101.04 333.04,119.08 325,134 C319.21,144.75 310.11,153.64 300.12,160.85 \" fill=\"none\" id=\"E12-&gt;E13\" style=\"stroke: #A80036; stroke-width: 1.0; stroke-dasharray: 7.0,7.0;\"/><polygon fill=\"#A80036\" points=\"295.79,163.84,305.4682,162.0146,299.9035,160.9977,300.9205,155.433,295.79,163.84\" style=\"stroke: #A80036; stroke-width: 1.0;\"/><text fill=\"#000000\" font-family=\"sans-serif\" font-size=\"13\" lengthAdjust=\"spacingAndGlyphs\" textLength=\"57\" x=\"329\" y=\"130.0669\">«satisfy»</text></a><!--MD5=[017847e01ff9a8bd19f247411074f987]\n",
       "link E13 to E4--><a href=\"psysml:e01bb7f1-206a-408f-a898-0799ec242df4\" target=\"_top\" title=\"psysml:e01bb7f1-206a-408f-a898-0799ec242df4\" xlink:actuate=\"onRequest\" xlink:href=\"psysml:e01bb7f1-206a-408f-a898-0799ec242df4\" xlink:show=\"new\" xlink:title=\"psysml:e01bb7f1-206a-408f-a898-0799ec242df4\" xlink:type=\"simple\"><path d=\"M254.1,210.27 C258.39,222.08 263.86,237.12 269.15,251.65 \" fill=\"none\" id=\"E13-&gt;E4\" style=\"stroke: #A80036; stroke-width: 1.0;\"/><polygon fill=\"#FFFFFF\" points=\"276.11,270.81,263.044,255.3413,276.2028,250.5618,276.11,270.81\" style=\"stroke: #A80036; stroke-width: 1.0;\"/><ellipse cx=\"262.9779\" cy=\"249.301\" fill=\"#A80036\" rx=\"2\" ry=\"2\" style=\"stroke: #A80036; stroke-width: 1.0;\"/><ellipse cx=\"272.377\" cy=\"245.887\" fill=\"#A80036\" rx=\"2\" ry=\"2\" style=\"stroke: #A80036; stroke-width: 1.0;\"/></a><!--MD5=[60f911bb19596b289db4a22769f8105a]\n",
       "link E11 to E13--><a href=\"psysml:e806deaf-0ce2-4d10-9e57-833502fc32ee\" target=\"_top\" title=\"psysml:e806deaf-0ce2-4d10-9e57-833502fc32ee\" xlink:actuate=\"onRequest\" xlink:href=\"psysml:e806deaf-0ce2-4d10-9e57-833502fc32ee\" xlink:show=\"new\" xlink:title=\"psysml:e806deaf-0ce2-4d10-9e57-833502fc32ee\" xlink:type=\"simple\"><path d=\"M127.94,87.26 C136.42,101.71 148.8,120.33 163,134 C173.58,144.19 186.48,153.42 198.92,161.18 \" fill=\"none\" id=\"E11-&gt;E13\" style=\"stroke: #A80036; stroke-width: 1.0; stroke-dasharray: 7.0,7.0;\"/><polygon fill=\"#A80036\" points=\"203.47,163.98,197.8817,155.87,199.2054,161.3699,193.7055,162.6935,203.47,163.98\" style=\"stroke: #A80036; stroke-width: 1.0;\"/><text fill=\"#000000\" font-family=\"sans-serif\" font-size=\"13\" lengthAdjust=\"spacingAndGlyphs\" textLength=\"57\" x=\"164\" y=\"130.0669\">«satisfy»</text></a><!--MD5=[0c677eb374079406c87b74cd1f5a339d]\n",
       "link E14 to E9--><a href=\"psysml:d6ece11e-fb98-4dd6-9106-0f6846b0bd9f\" target=\"_top\" title=\"psysml:d6ece11e-fb98-4dd6-9106-0f6846b0bd9f\" xlink:actuate=\"onRequest\" xlink:href=\"psysml:d6ece11e-fb98-4dd6-9106-0f6846b0bd9f\" xlink:show=\"new\" xlink:title=\"psysml:d6ece11e-fb98-4dd6-9106-0f6846b0bd9f\" xlink:type=\"simple\"><path d=\"M94.7,210.27 C96.45,224.73 98.79,244.04 100.89,261.33 \" fill=\"none\" id=\"E14-&gt;E9\" style=\"stroke: #A80036; stroke-width: 1.0;\"/><polygon fill=\"#FFFFFF\" points=\"103.31,281.3,94.068,263.2838,107.9656,261.594,103.31,281.3\" style=\"stroke: #A80036; stroke-width: 1.0;\"/><ellipse cx=\"95.3654\" cy=\"257.384\" fill=\"#A80036\" rx=\"2\" ry=\"2\" style=\"stroke: #A80036; stroke-width: 1.0;\"/><ellipse cx=\"105.2923\" cy=\"256.1771\" fill=\"#A80036\" rx=\"2\" ry=\"2\" style=\"stroke: #A80036; stroke-width: 1.0;\"/></a><!--MD5=[9c1c40551dcf5c2fca147626a786a7cd]\n",
       "link E11 to E14--><a href=\"psysml:feaea2f2-720b-4dbc-ba1d-0aec40f00046\" target=\"_top\" title=\"psysml:feaea2f2-720b-4dbc-ba1d-0aec40f00046\" xlink:actuate=\"onRequest\" xlink:href=\"psysml:feaea2f2-720b-4dbc-ba1d-0aec40f00046\" xlink:show=\"new\" xlink:title=\"psysml:feaea2f2-720b-4dbc-ba1d-0aec40f00046\" xlink:type=\"simple\"><path d=\"M86.22,87.02 C77.35,95.32 68.74,105.56 64,117 C58.18,131.06 63.63,146.77 71.21,159.65 \" fill=\"none\" id=\"E11-&gt;E14\" style=\"stroke: #A80036; stroke-width: 1.0; stroke-dasharray: 7.0,7.0;\"/><polygon fill=\"#A80036\" points=\"73.86,163.9,72.4968,154.1459,71.2164,159.656,65.7064,158.3757,73.86,163.9\" style=\"stroke: #A80036; stroke-width: 1.0;\"/><text fill=\"#000000\" font-family=\"sans-serif\" font-size=\"13\" lengthAdjust=\"spacingAndGlyphs\" textLength=\"57\" x=\"65\" y=\"130.0669\">«satisfy»</text></a><!--MD5=[d53cb08dffc8689d16e38c8e194e9adc]\n",
       "link E12 to E14--><a href=\"psysml:f5704f7b-2601-4abd-90b0-2ec51a978e80\" target=\"_top\" title=\"psysml:f5704f7b-2601-4abd-90b0-2ec51a978e80\" xlink:actuate=\"onRequest\" xlink:href=\"psysml:f5704f7b-2601-4abd-90b0-2ec51a978e80\" xlink:show=\"new\" xlink:title=\"psysml:f5704f7b-2601-4abd-90b0-2ec51a978e80\" xlink:type=\"simple\"><path d=\"M280.42,87.25 C266.43,102.07 246.53,121.12 226,134 C204.69,147.37 179.38,158.28 156.52,166.58 \" fill=\"none\" id=\"E12-&gt;E14\" style=\"stroke: #A80036; stroke-width: 1.0; stroke-dasharray: 7.0,7.0;\"/><polygon fill=\"#A80036\" points=\"151.68,168.32,161.5013,169.0562,156.3881,166.6365,158.8077,161.5233,151.68,168.32\" style=\"stroke: #A80036; stroke-width: 1.0;\"/><text fill=\"#000000\" font-family=\"sans-serif\" font-size=\"13\" lengthAdjust=\"spacingAndGlyphs\" textLength=\"57\" x=\"249\" y=\"130.0669\">«satisfy»</text></a><!--MD5=[583a2f809d55f481e14c3579d14dff7f]\n",
       "@startuml\r\n",
       " \r\n",
       "package \"RequirementTest\" as E1  [[psysml:2a075407-fc8d-47b4-b4de-e1839d24b848 ]]  {\r\n",
       "comp def \"C\" as E2 << <<(D,brown) constraint  def>> [[psysml:8e8b9929-fb62-44f3-bb6e-73f88688eaf1 ]] {\r\n",
       "}\r\n",
       "comp usage \"c: C \" as E3 << <<(U,orange) constraint>> [[psysml:8dab2afb-478b-48f2-a7f7-bb2b245c05ea ]] {\r\n",
       "}\r\n",
       "comp def \"R\" as E4 << <<(D,brown) requirement  def>> [[psysml:cae76f8a-948f-454f-8648-301efab5060e ]] {\r\n",
       "\r\n",
       "- -\r\n",
       "}\r\n",
       "comp usage \"<s>noname</s>\" as E7 << <<(U,orange) requirement>> [[psysml:70e6cc11-a878-4419-9a48-d32cb5df9816 ]] {\r\n",
       "}\r\n",
       "comp def \" [<b>1</b>] A\" as E8 << <<(D,brown) requirement  def>> [[psysml:5c5c4776-1d3a-4700-8516-1d3a67d779f4 ]] {\r\n",
       "Text\r\n",
       "- -\r\n",
       "}\r\n",
       "comp def \"R1\" as E9 << <<(D,brown) requirement  def>> [[psysml:f2fc2205-4b84-4313-b340-24ee025c15cf ]] {\r\n",
       "}\r\n",
       "comp usage \"p\" as E11 << << (P,limegreen) part>> [[psysml:4203d305-f881-4dfa-bcc5-a82b5aac35c4 ]] {\r\n",
       "}\r\n",
       "comp usage \"q\" as E12 << << (P,limegreen) part>> [[psysml:d0dbee69-5f2e-4ac4-ba4b-4aca7380bae7 ]] {\r\n",
       "}\r\n",
       "comp usage \"r: R \" as E13 << <<(U,orange) requirement>> [[psysml:aee31540-9ea4-41ee-8ebb-8555bfaf03fb ]] {\r\n",
       "}\r\n",
       "comp usage \"r1: R1 \" as E14 << <<(U,orange) requirement>> [[psysml:5c4fb90e-2e7f-411e-8437-1e0e9b0bd00e ]] {\r\n",
       "}\r\n",
       "}\r\n",
       "E3 - -:|> E2 [[psysml:1cfa9d08-8b1e-49ae-8f22-7ec5c2d68c94 ]] \r\n",
       "E4 *- - \"*\"E7 [[psysml:8957256b-d423-4c87-844e-8026b3f5c553 ]] \r\n",
       "E4 +- - E8 [[psysml:e7993699-2e90-4c6e-9ce7-c90f60868f83 ]] \r\n",
       "E12 *- - E13 [[psysml:0f26ba0d-7372-4c44-875c-adf3c35e17b9 ]] \r\n",
       "E13 - -:|> E4 [[psysml:e01bb7f1-206a-408f-a898-0799ec242df4 ]] \r\n",
       "E11 ..> E13 [[psysml:e806deaf-0ce2-4d10-9e57-833502fc32ee ]] : <<satisfy>>\r\n",
       "E12 ..> E13 [[psysml:f5a4eec3-f375-4f03-819b-6c5c8dc7728c ]] : <<satisfy>>\r\n",
       "E14 - -:|> E9 [[psysml:d6ece11e-fb98-4dd6-9106-0f6846b0bd9f ]] \r\n",
       "E11 ..> E14 [[psysml:feaea2f2-720b-4dbc-ba1d-0aec40f00046 ]] : <<satisfy>>\r\n",
       "E12 ..> E14 [[psysml:f5704f7b-2601-4abd-90b0-2ec51a978e80 ]] : <<satisfy>>\r\n",
       "@enduml\r\n",
       "\n",
       "PlantUML version 1.2020.13(Sat Jun 13 12:26:38 UTC 2020)\n",
       "(EPL source distribution)\n",
       "Java Runtime: OpenJDK Runtime Environment\n",
       "JVM: OpenJDK 64-Bit Server VM\n",
       "Default Encoding: UTF-8\n",
       "Language: en\n",
       "Country: null\n",
       "--></g></svg>"
      ]
     },
     "execution_count": 30,
     "metadata": {},
     "output_type": "execute_result"
    }
   ],
   "source": [
    "%viz --style=\"PLANTUML\" --view=\"Default\" \"RequirementTest\""
   ]
  },
  {
   "cell_type": "code",
   "execution_count": 31,
   "id": "717a8679",
   "metadata": {
    "execution": {
     "iopub.execute_input": "2021-10-25T08:21:13.880709Z",
     "iopub.status.busy": "2021-10-25T08:21:13.880252Z",
     "iopub.status.idle": "2021-10-25T08:21:13.934831Z",
     "shell.execute_reply": "2021-10-25T08:21:13.934463Z"
    }
   },
   "outputs": [
    {
     "data": {
      "image/svg+xml": [
       "<?xml version=\"1.0\" encoding=\"UTF-8\" standalone=\"no\"?><svg xmlns=\"http://www.w3.org/2000/svg\" xmlns:xlink=\"http://www.w3.org/1999/xlink\" contentScriptType=\"application/ecmascript\" contentStyleType=\"text/css\" height=\"494px\" preserveAspectRatio=\"none\" style=\"width:513px;height:494px;\" version=\"1.1\" viewBox=\"0 0 513 494\" width=\"513px\" zoomAndPan=\"magnify\"><defs><filter height=\"300%\" id=\"f1kfdmib3tl9zi\" width=\"300%\" x=\"-1\" y=\"-1\"><feGaussianBlur result=\"blurOut\" stdDeviation=\"2.0\"/><feColorMatrix in=\"blurOut\" result=\"blurOut2\" type=\"matrix\" values=\"0 0 0 0 0 0 0 0 0 0 0 0 0 0 0 0 0 0 .4 0\"/><feOffset dx=\"4.0\" dy=\"4.0\" in=\"blurOut2\" result=\"blurOut3\"/><feBlend in=\"SourceGraphic\" in2=\"blurOut3\" mode=\"normal\"/></filter></defs><g><!--MD5=[fbc87193dbaf4d95561dea2c320d4a47]\n",
       "cluster E1--><a href=\"psysml:2a075407-fc8d-47b4-b4de-e1839d24b848\" target=\"_top\" title=\"psysml:2a075407-fc8d-47b4-b4de-e1839d24b848\" xlink:actuate=\"onRequest\" xlink:href=\"psysml:2a075407-fc8d-47b4-b4de-e1839d24b848\" xlink:show=\"new\" xlink:title=\"psysml:2a075407-fc8d-47b4-b4de-e1839d24b848\" xlink:type=\"simple\"><polygon fill=\"#FFFFFF\" filter=\"url(#f1kfdmib3tl9zi)\" points=\"16,6,143,6,150,28.2969,491,28.2969,491,482,16,482,16,6\" style=\"stroke: #000000; stroke-width: 1.5;\"/><line style=\"stroke: #000000; stroke-width: 1.5;\" x1=\"16\" x2=\"150\" y1=\"28.2969\" y2=\"28.2969\"/><text fill=\"#000000\" font-family=\"sans-serif\" font-size=\"14\" font-weight=\"bold\" lengthAdjust=\"spacingAndGlyphs\" textLength=\"121\" x=\"20\" y=\"20.9951\">RequirementTest</text></a><!--MD5=[b4997ac47864f28c2f74865a473b2911]\n",
       "class E2--><a href=\"psysml:8e8b9929-fb62-44f3-bb6e-73f88688eaf1\" target=\"_top\" title=\"psysml:8e8b9929-fb62-44f3-bb6e-73f88688eaf1\" xlink:actuate=\"onRequest\" xlink:href=\"psysml:8e8b9929-fb62-44f3-bb6e-73f88688eaf1\" xlink:show=\"new\" xlink:title=\"psysml:8e8b9929-fb62-44f3-bb6e-73f88688eaf1\" xlink:type=\"simple\"><rect fill=\"#FEFECE\" filter=\"url(#f1kfdmib3tl9zi)\" height=\"45.9375\" id=\"E2\" style=\"stroke: #A80036; stroke-width: 1.5;\" width=\"134\" x=\"341\" y=\"164\"/><ellipse cx=\"356\" cy=\"182.9688\" fill=\"#A52A2A\" rx=\"11\" ry=\"11\" style=\"stroke: #A80036; stroke-width: 1.0;\"/><path d=\"M353.2188,187.9688 L353.2188,177.375 L355.9531,177.375 Q357.3438,177.375 358.1094,177.7656 Q358.8906,178.1406 359.4219,178.8438 Q359.9531,179.5469 360.25,180.5469 Q360.5469,181.5313 360.5469,182.75 Q360.5,184.3438 360,185.5313 Q359.5156,186.7031 358.4688,187.3438 Q357.4375,187.9688 355.75,187.9688 L353.2188,187.9688 Z M355.0781,186.4688 L355.7031,186.4688 Q356.7813,186.4688 357.4375,186.0156 Q358.0938,185.5625 358.375,184.7344 Q358.6719,183.8906 358.6563,182.7656 Q358.6563,181.5938 358.4063,180.7344 Q358.1563,179.8594 357.5469,179.3906 Q356.9375,178.9063 355.8906,178.9063 L355.0781,178.9063 L355.0781,186.4688 Z \"/><text fill=\"#000000\" font-family=\"sans-serif\" font-size=\"12\" font-style=\"italic\" lengthAdjust=\"spacingAndGlyphs\" textLength=\"106\" x=\"368\" y=\"180.1387\">«constraint  def»</text><text fill=\"#000000\" font-family=\"sans-serif\" font-size=\"12\" lengthAdjust=\"spacingAndGlyphs\" textLength=\"8\" x=\"417\" y=\"194.1074\">C</text><line style=\"stroke: #A80036; stroke-width: 1.5;\" x1=\"342\" x2=\"474\" y1=\"201.9375\" y2=\"201.9375\"/></a><!--MD5=[09b614a08d8cba4a07c9adeb5e0fee81]\n",
       "class E3--><a href=\"psysml:8dab2afb-478b-48f2-a7f7-bb2b245c05ea\" target=\"_top\" title=\"psysml:8dab2afb-478b-48f2-a7f7-bb2b245c05ea\" xlink:actuate=\"onRequest\" xlink:href=\"psysml:8dab2afb-478b-48f2-a7f7-bb2b245c05ea\" xlink:show=\"new\" xlink:title=\"psysml:8dab2afb-478b-48f2-a7f7-bb2b245c05ea\" xlink:type=\"simple\"><rect fill=\"#FEFECE\" filter=\"url(#f1kfdmib3tl9zi)\" height=\"45.9375\" id=\"E3\" rx=\"10\" ry=\"10\" style=\"stroke: #A80036; stroke-width: 1.5;\" width=\"106\" x=\"369\" y=\"41\"/><ellipse cx=\"384\" cy=\"59.9688\" fill=\"#FFA500\" rx=\"11\" ry=\"11\" style=\"stroke: #A80036; stroke-width: 1.0;\"/><path d=\"M383.75,65.4375 Q382,65.4375 381.0469,64.4063 Q380.1094,63.3594 380.1094,61.5156 L380.1094,54.625 L382.1719,54.625 L382.1719,54.7813 Q382.0781,54.875 382.0469,55.0156 Q382.0313,55.1406 382.0313,55.4063 L382.0313,61.5313 Q382.0313,62.625 382.4063,63.25 Q382.7813,63.875 383.7656,63.875 Q384.75,63.875 385.1406,63.25 Q385.5313,62.625 385.5313,61.4844 L385.5313,54.625 L387.4063,54.625 L387.4063,61.4688 Q387.4063,63.5 386.375,64.4688 Q385.3594,65.4375 383.75,65.4375 Z \"/><text fill=\"#000000\" font-family=\"sans-serif\" font-size=\"12\" font-style=\"italic\" lengthAdjust=\"spacingAndGlyphs\" textLength=\"78\" x=\"396\" y=\"57.1387\">«constraint»</text><text fill=\"#000000\" font-family=\"sans-serif\" font-size=\"12\" lengthAdjust=\"spacingAndGlyphs\" textLength=\"23\" x=\"421.5\" y=\"71.1074\">c: C</text><line style=\"stroke: #A80036; stroke-width: 1.5;\" x1=\"370\" x2=\"474\" y1=\"78.9375\" y2=\"78.9375\"/></a><!--MD5=[ebbe1d658d1005bcc118a6aa81145e00]\n",
       "class E4--><a href=\"psysml:cae76f8a-948f-454f-8648-301efab5060e\" target=\"_top\" title=\"psysml:cae76f8a-948f-454f-8648-301efab5060e\" xlink:actuate=\"onRequest\" xlink:href=\"psysml:cae76f8a-948f-454f-8648-301efab5060e\" xlink:show=\"new\" xlink:title=\"psysml:cae76f8a-948f-454f-8648-301efab5060e\" xlink:type=\"simple\"><rect fill=\"#FEFECE\" filter=\"url(#f1kfdmib3tl9zi)\" height=\"66.7422\" id=\"E4\" style=\"stroke: #A80036; stroke-width: 1.5;\" width=\"147\" x=\"214.5\" y=\"271\"/><ellipse cx=\"229.5\" cy=\"289.9688\" fill=\"#A52A2A\" rx=\"11\" ry=\"11\" style=\"stroke: #A80036; stroke-width: 1.0;\"/><path d=\"M226.7188,294.9688 L226.7188,284.375 L229.4531,284.375 Q230.8438,284.375 231.6094,284.7656 Q232.3906,285.1406 232.9219,285.8438 Q233.4531,286.5469 233.75,287.5469 Q234.0469,288.5313 234.0469,289.75 Q234,291.3438 233.5,292.5313 Q233.0156,293.7031 231.9688,294.3438 Q230.9375,294.9688 229.25,294.9688 L226.7188,294.9688 Z M228.5781,293.4688 L229.2031,293.4688 Q230.2813,293.4688 230.9375,293.0156 Q231.5938,292.5625 231.875,291.7344 Q232.1719,290.8906 232.1563,289.7656 Q232.1563,288.5938 231.9063,287.7344 Q231.6563,286.8594 231.0469,286.3906 Q230.4375,285.9063 229.3906,285.9063 L228.5781,285.9063 L228.5781,293.4688 Z \"/><text fill=\"#000000\" font-family=\"sans-serif\" font-size=\"12\" font-style=\"italic\" lengthAdjust=\"spacingAndGlyphs\" textLength=\"119\" x=\"241.5\" y=\"287.1387\">«requirement  def»</text><text fill=\"#000000\" font-family=\"sans-serif\" font-size=\"12\" lengthAdjust=\"spacingAndGlyphs\" textLength=\"8\" x=\"297\" y=\"301.1074\">R</text><line style=\"stroke: #A80036; stroke-width: 1.5;\" x1=\"215.5\" x2=\"360.5\" y1=\"308.9375\" y2=\"308.9375\"/><text fill=\"#000000\" font-family=\"sans-serif\" font-size=\"11\" lengthAdjust=\"spacingAndGlyphs\" textLength=\"0\" x=\"224.5\" y=\"323.1479\"/><line style=\"stroke: #A80036; stroke-width: 1.0;\" x1=\"215.5\" x2=\"360.5\" y1=\"329.7422\" y2=\"329.7422\"/></a><!--MD5=[2156ba9850f5573cc1fc38a6a4b2f02b]\n",
       "class E7--><a href=\"psysml:70e6cc11-a878-4419-9a48-d32cb5df9816\" target=\"_top\" title=\"psysml:70e6cc11-a878-4419-9a48-d32cb5df9816\" xlink:actuate=\"onRequest\" xlink:href=\"psysml:70e6cc11-a878-4419-9a48-d32cb5df9816\" xlink:show=\"new\" xlink:title=\"psysml:70e6cc11-a878-4419-9a48-d32cb5df9816\" xlink:type=\"simple\"><rect fill=\"#FEFECE\" filter=\"url(#f1kfdmib3tl9zi)\" height=\"45.9375\" id=\"E7\" rx=\"10\" ry=\"10\" style=\"stroke: #A80036; stroke-width: 1.5;\" width=\"119\" x=\"144.5\" y=\"409.5\"/><ellipse cx=\"159.5\" cy=\"428.4688\" fill=\"#FFA500\" rx=\"11\" ry=\"11\" style=\"stroke: #A80036; stroke-width: 1.0;\"/><path d=\"M159.25,433.9375 Q157.5,433.9375 156.5469,432.9063 Q155.6094,431.8594 155.6094,430.0156 L155.6094,423.125 L157.6719,423.125 L157.6719,423.2813 Q157.5781,423.375 157.5469,423.5156 Q157.5313,423.6406 157.5313,423.9063 L157.5313,430.0313 Q157.5313,431.125 157.9063,431.75 Q158.2813,432.375 159.2656,432.375 Q160.25,432.375 160.6406,431.75 Q161.0313,431.125 161.0313,429.9844 L161.0313,423.125 L162.9063,423.125 L162.9063,429.9688 Q162.9063,432 161.875,432.9688 Q160.8594,433.9375 159.25,433.9375 Z \"/><text fill=\"#000000\" font-family=\"sans-serif\" font-size=\"12\" font-style=\"italic\" lengthAdjust=\"spacingAndGlyphs\" textLength=\"91\" x=\"171.5\" y=\"425.6387\">«requirement»</text><text fill=\"#000000\" font-family=\"sans-serif\" font-size=\"12\" lengthAdjust=\"spacingAndGlyphs\" text-decoration=\"line-through\" textLength=\"51\" x=\"191.5\" y=\"439.6074\">noname</text><line style=\"stroke: #A80036; stroke-width: 1.5;\" x1=\"145.5\" x2=\"262.5\" y1=\"447.4375\" y2=\"447.4375\"/></a><!--MD5=[b9389687b975829384b498ac4b7476b2]\n",
       "class E8--><a href=\"psysml:5c5c4776-1d3a-4700-8516-1d3a67d779f4\" target=\"_top\" title=\"psysml:5c5c4776-1d3a-4700-8516-1d3a67d779f4\" xlink:actuate=\"onRequest\" xlink:href=\"psysml:5c5c4776-1d3a-4700-8516-1d3a67d779f4\" xlink:show=\"new\" xlink:title=\"psysml:5c5c4776-1d3a-4700-8516-1d3a67d779f4\" xlink:type=\"simple\"><rect fill=\"#FEFECE\" filter=\"url(#f1kfdmib3tl9zi)\" height=\"66.7422\" id=\"E8\" style=\"stroke: #A80036; stroke-width: 1.5;\" width=\"147\" x=\"298.5\" y=\"399\"/><ellipse cx=\"313.5\" cy=\"417.9688\" fill=\"#A52A2A\" rx=\"11\" ry=\"11\" style=\"stroke: #A80036; stroke-width: 1.0;\"/><path d=\"M310.7188,422.9688 L310.7188,412.375 L313.4531,412.375 Q314.8438,412.375 315.6094,412.7656 Q316.3906,413.1406 316.9219,413.8438 Q317.4531,414.5469 317.75,415.5469 Q318.0469,416.5313 318.0469,417.75 Q318,419.3438 317.5,420.5313 Q317.0156,421.7031 315.9688,422.3438 Q314.9375,422.9688 313.25,422.9688 L310.7188,422.9688 Z M312.5781,421.4688 L313.2031,421.4688 Q314.2813,421.4688 314.9375,421.0156 Q315.5938,420.5625 315.875,419.7344 Q316.1719,418.8906 316.1563,417.7656 Q316.1563,416.5938 315.9063,415.7344 Q315.6563,414.8594 315.0469,414.3906 Q314.4375,413.9063 313.3906,413.9063 L312.5781,413.9063 L312.5781,421.4688 Z \"/><text fill=\"#000000\" font-family=\"sans-serif\" font-size=\"12\" font-style=\"italic\" lengthAdjust=\"spacingAndGlyphs\" textLength=\"119\" x=\"325.5\" y=\"415.1387\">«requirement  def»</text><text fill=\"#000000\" font-family=\"sans-serif\" font-size=\"12\" lengthAdjust=\"spacingAndGlyphs\" textLength=\"5\" x=\"372\" y=\"429.1074\">[</text><text fill=\"#000000\" font-family=\"sans-serif\" font-size=\"12\" font-weight=\"bold\" lengthAdjust=\"spacingAndGlyphs\" textLength=\"8\" x=\"377\" y=\"429.1074\">1</text><text fill=\"#000000\" font-family=\"sans-serif\" font-size=\"12\" lengthAdjust=\"spacingAndGlyphs\" textLength=\"17\" x=\"385\" y=\"429.1074\">] A</text><line style=\"stroke: #A80036; stroke-width: 1.5;\" x1=\"299.5\" x2=\"444.5\" y1=\"436.9375\" y2=\"436.9375\"/><text fill=\"#000000\" font-family=\"sans-serif\" font-size=\"11\" lengthAdjust=\"spacingAndGlyphs\" textLength=\"24\" x=\"304.5\" y=\"451.1479\">Text</text><line style=\"stroke: #A80036; stroke-width: 1.0;\" x1=\"299.5\" x2=\"444.5\" y1=\"457.7422\" y2=\"457.7422\"/></a><!--MD5=[fd4143e9d270a159db93a4ea2a975926]\n",
       "class E9--><a href=\"psysml:f2fc2205-4b84-4313-b340-24ee025c15cf\" target=\"_top\" title=\"psysml:f2fc2205-4b84-4313-b340-24ee025c15cf\" xlink:actuate=\"onRequest\" xlink:href=\"psysml:f2fc2205-4b84-4313-b340-24ee025c15cf\" xlink:show=\"new\" xlink:title=\"psysml:f2fc2205-4b84-4313-b340-24ee025c15cf\" xlink:type=\"simple\"><rect fill=\"#FEFECE\" filter=\"url(#f1kfdmib3tl9zi)\" height=\"45.9375\" id=\"E9\" style=\"stroke: #A80036; stroke-width: 1.5;\" width=\"147\" x=\"32.5\" y=\"281.5\"/><ellipse cx=\"47.5\" cy=\"300.4688\" fill=\"#A52A2A\" rx=\"11\" ry=\"11\" style=\"stroke: #A80036; stroke-width: 1.0;\"/><path d=\"M44.7188,305.4688 L44.7188,294.875 L47.4531,294.875 Q48.8438,294.875 49.6094,295.2656 Q50.3906,295.6406 50.9219,296.3438 Q51.4531,297.0469 51.75,298.0469 Q52.0469,299.0313 52.0469,300.25 Q52,301.8438 51.5,303.0313 Q51.0156,304.2031 49.9688,304.8438 Q48.9375,305.4688 47.25,305.4688 L44.7188,305.4688 Z M46.5781,303.9688 L47.2031,303.9688 Q48.2813,303.9688 48.9375,303.5156 Q49.5938,303.0625 49.875,302.2344 Q50.1719,301.3906 50.1563,300.2656 Q50.1563,299.0938 49.9063,298.2344 Q49.6563,297.3594 49.0469,296.8906 Q48.4375,296.4063 47.3906,296.4063 L46.5781,296.4063 L46.5781,303.9688 Z \"/><text fill=\"#000000\" font-family=\"sans-serif\" font-size=\"12\" font-style=\"italic\" lengthAdjust=\"spacingAndGlyphs\" textLength=\"119\" x=\"59.5\" y=\"297.6387\">«requirement  def»</text><text fill=\"#000000\" font-family=\"sans-serif\" font-size=\"12\" lengthAdjust=\"spacingAndGlyphs\" textLength=\"16\" x=\"111\" y=\"311.6074\">R1</text><line style=\"stroke: #A80036; stroke-width: 1.5;\" x1=\"33.5\" x2=\"178.5\" y1=\"319.4375\" y2=\"319.4375\"/></a><!--MD5=[1dd1bfd58a279cf63c5f349dbc8fc6a1]\n",
       "class E11--><a href=\"psysml:4203d305-f881-4dfa-bcc5-a82b5aac35c4\" target=\"_top\" title=\"psysml:4203d305-f881-4dfa-bcc5-a82b5aac35c4\" xlink:actuate=\"onRequest\" xlink:href=\"psysml:4203d305-f881-4dfa-bcc5-a82b5aac35c4\" xlink:show=\"new\" xlink:title=\"psysml:4203d305-f881-4dfa-bcc5-a82b5aac35c4\" xlink:type=\"simple\"><rect fill=\"#FEFECE\" filter=\"url(#f1kfdmib3tl9zi)\" height=\"45.9375\" id=\"E11\" rx=\"10\" ry=\"10\" style=\"stroke: #A80036; stroke-width: 1.5;\" width=\"68\" x=\"82\" y=\"41\"/><ellipse cx=\"97\" cy=\"59.9688\" fill=\"#32CD32\" rx=\"11\" ry=\"11\" style=\"stroke: #A80036; stroke-width: 1.0;\"/><path d=\"M93.8125,64.9688 L93.8125,54.375 L97.4219,54.375 Q98.6406,54.375 99.4375,54.8125 Q100.2344,55.2344 100.6094,55.9375 Q101,56.6406 101,57.4844 Q101,58.3281 100.625,59.0156 Q100.2656,59.7031 99.4688,60.125 Q98.6875,60.5313 97.5,60.5313 L95.7656,60.5313 L95.7656,64.9688 L93.8125,64.9688 Z M95.7656,58.9375 L97.375,58.9375 Q98.1875,58.9375 98.6094,58.5313 Q99.0313,58.125 99.0313,57.4844 Q99.0313,56.8594 98.6094,56.4531 Q98.1875,56.0469 97.3906,56.0469 L95.7656,56.0469 L95.7656,58.9375 Z \"/><text fill=\"#000000\" font-family=\"sans-serif\" font-size=\"12\" font-style=\"italic\" lengthAdjust=\"spacingAndGlyphs\" textLength=\"40\" x=\"109\" y=\"57.1387\">«part»</text><text fill=\"#000000\" font-family=\"sans-serif\" font-size=\"12\" lengthAdjust=\"spacingAndGlyphs\" textLength=\"8\" x=\"125\" y=\"71.1074\">p</text><line style=\"stroke: #A80036; stroke-width: 1.5;\" x1=\"83\" x2=\"149\" y1=\"78.9375\" y2=\"78.9375\"/></a><!--MD5=[49a0ec8f00dab7302a31f22d0f0fe584]\n",
       "class E12--><a href=\"psysml:d0dbee69-5f2e-4ac4-ba4b-4aca7380bae7\" target=\"_top\" title=\"psysml:d0dbee69-5f2e-4ac4-ba4b-4aca7380bae7\" xlink:actuate=\"onRequest\" xlink:href=\"psysml:d0dbee69-5f2e-4ac4-ba4b-4aca7380bae7\" xlink:show=\"new\" xlink:title=\"psysml:d0dbee69-5f2e-4ac4-ba4b-4aca7380bae7\" xlink:type=\"simple\"><rect fill=\"#FEFECE\" filter=\"url(#f1kfdmib3tl9zi)\" height=\"45.9375\" id=\"E12\" rx=\"10\" ry=\"10\" style=\"stroke: #A80036; stroke-width: 1.5;\" width=\"68\" x=\"266\" y=\"41\"/><ellipse cx=\"281\" cy=\"59.9688\" fill=\"#32CD32\" rx=\"11\" ry=\"11\" style=\"stroke: #A80036; stroke-width: 1.0;\"/><path d=\"M277.8125,64.9688 L277.8125,54.375 L281.4219,54.375 Q282.6406,54.375 283.4375,54.8125 Q284.2344,55.2344 284.6094,55.9375 Q285,56.6406 285,57.4844 Q285,58.3281 284.625,59.0156 Q284.2656,59.7031 283.4688,60.125 Q282.6875,60.5313 281.5,60.5313 L279.7656,60.5313 L279.7656,64.9688 L277.8125,64.9688 Z M279.7656,58.9375 L281.375,58.9375 Q282.1875,58.9375 282.6094,58.5313 Q283.0313,58.125 283.0313,57.4844 Q283.0313,56.8594 282.6094,56.4531 Q282.1875,56.0469 281.3906,56.0469 L279.7656,56.0469 L279.7656,58.9375 Z \"/><text fill=\"#000000\" font-family=\"sans-serif\" font-size=\"12\" font-style=\"italic\" lengthAdjust=\"spacingAndGlyphs\" textLength=\"40\" x=\"293\" y=\"57.1387\">«part»</text><text fill=\"#000000\" font-family=\"sans-serif\" font-size=\"12\" lengthAdjust=\"spacingAndGlyphs\" textLength=\"8\" x=\"309\" y=\"71.1074\">q</text><line style=\"stroke: #A80036; stroke-width: 1.5;\" x1=\"267\" x2=\"333\" y1=\"78.9375\" y2=\"78.9375\"/></a><!--MD5=[ee3c913d1a06f366521f9ef512b67efe]\n",
       "class E13--><a href=\"psysml:aee31540-9ea4-41ee-8ebb-8555bfaf03fb\" target=\"_top\" title=\"psysml:aee31540-9ea4-41ee-8ebb-8555bfaf03fb\" xlink:actuate=\"onRequest\" xlink:href=\"psysml:aee31540-9ea4-41ee-8ebb-8555bfaf03fb\" xlink:show=\"new\" xlink:title=\"psysml:aee31540-9ea4-41ee-8ebb-8555bfaf03fb\" xlink:type=\"simple\"><rect fill=\"#FEFECE\" filter=\"url(#f1kfdmib3tl9zi)\" height=\"45.9375\" id=\"E13\" rx=\"10\" ry=\"10\" style=\"stroke: #A80036; stroke-width: 1.5;\" width=\"119\" x=\"186.5\" y=\"164\"/><ellipse cx=\"201.5\" cy=\"182.9688\" fill=\"#FFA500\" rx=\"11\" ry=\"11\" style=\"stroke: #A80036; stroke-width: 1.0;\"/><path d=\"M201.25,188.4375 Q199.5,188.4375 198.5469,187.4063 Q197.6094,186.3594 197.6094,184.5156 L197.6094,177.625 L199.6719,177.625 L199.6719,177.7813 Q199.5781,177.875 199.5469,178.0156 Q199.5313,178.1406 199.5313,178.4063 L199.5313,184.5313 Q199.5313,185.625 199.9063,186.25 Q200.2813,186.875 201.2656,186.875 Q202.25,186.875 202.6406,186.25 Q203.0313,185.625 203.0313,184.4844 L203.0313,177.625 L204.9063,177.625 L204.9063,184.4688 Q204.9063,186.5 203.875,187.4688 Q202.8594,188.4375 201.25,188.4375 Z \"/><text fill=\"#000000\" font-family=\"sans-serif\" font-size=\"12\" font-style=\"italic\" lengthAdjust=\"spacingAndGlyphs\" textLength=\"91\" x=\"213.5\" y=\"180.1387\">«requirement»</text><text fill=\"#000000\" font-family=\"sans-serif\" font-size=\"12\" lengthAdjust=\"spacingAndGlyphs\" textLength=\"21\" x=\"246.5\" y=\"194.1074\">r: R</text><line style=\"stroke: #A80036; stroke-width: 1.5;\" x1=\"187.5\" x2=\"304.5\" y1=\"201.9375\" y2=\"201.9375\"/></a><!--MD5=[bee11217b2f71d958a27249dc326068c]\n",
       "class E14--><a href=\"psysml:5c4fb90e-2e7f-411e-8437-1e0e9b0bd00e\" target=\"_top\" title=\"psysml:5c4fb90e-2e7f-411e-8437-1e0e9b0bd00e\" xlink:actuate=\"onRequest\" xlink:href=\"psysml:5c4fb90e-2e7f-411e-8437-1e0e9b0bd00e\" xlink:show=\"new\" xlink:title=\"psysml:5c4fb90e-2e7f-411e-8437-1e0e9b0bd00e\" xlink:type=\"simple\"><rect fill=\"#FEFECE\" filter=\"url(#f1kfdmib3tl9zi)\" height=\"45.9375\" id=\"E14\" rx=\"10\" ry=\"10\" style=\"stroke: #A80036; stroke-width: 1.5;\" width=\"119\" x=\"32.5\" y=\"164\"/><ellipse cx=\"47.5\" cy=\"182.9688\" fill=\"#FFA500\" rx=\"11\" ry=\"11\" style=\"stroke: #A80036; stroke-width: 1.0;\"/><path d=\"M47.25,188.4375 Q45.5,188.4375 44.5469,187.4063 Q43.6094,186.3594 43.6094,184.5156 L43.6094,177.625 L45.6719,177.625 L45.6719,177.7813 Q45.5781,177.875 45.5469,178.0156 Q45.5313,178.1406 45.5313,178.4063 L45.5313,184.5313 Q45.5313,185.625 45.9063,186.25 Q46.2813,186.875 47.2656,186.875 Q48.25,186.875 48.6406,186.25 Q49.0313,185.625 49.0313,184.4844 L49.0313,177.625 L50.9063,177.625 L50.9063,184.4688 Q50.9063,186.5 49.875,187.4688 Q48.8594,188.4375 47.25,188.4375 Z \"/><text fill=\"#000000\" font-family=\"sans-serif\" font-size=\"12\" font-style=\"italic\" lengthAdjust=\"spacingAndGlyphs\" textLength=\"91\" x=\"59.5\" y=\"180.1387\">«requirement»</text><text fill=\"#000000\" font-family=\"sans-serif\" font-size=\"12\" lengthAdjust=\"spacingAndGlyphs\" textLength=\"37\" x=\"84.5\" y=\"194.1074\">r1: R1</text><line style=\"stroke: #A80036; stroke-width: 1.5;\" x1=\"33.5\" x2=\"150.5\" y1=\"201.9375\" y2=\"201.9375\"/></a><!--MD5=[05d275557350bfb9b23a4ef7222b4c39]\n",
       "link E3 to E2--><a href=\"psysml:1cfa9d08-8b1e-49ae-8f22-7ec5c2d68c94\" target=\"_top\" title=\"psysml:1cfa9d08-8b1e-49ae-8f22-7ec5c2d68c94\" xlink:actuate=\"onRequest\" xlink:href=\"psysml:1cfa9d08-8b1e-49ae-8f22-7ec5c2d68c94\" xlink:show=\"new\" xlink:title=\"psysml:1cfa9d08-8b1e-49ae-8f22-7ec5c2d68c94\" xlink:type=\"simple\"><path d=\"M428.68,87.21 C431.84,100.81 434.27,118.52 431,134 C430.22,137.68 429.17,141.41 427.93,145.11 \" fill=\"none\" id=\"E3-&gt;E2\" style=\"stroke: #A80036; stroke-width: 1.0;\"/><polygon fill=\"#FFFFFF\" points=\"420.21,163.91,420.955,143.6753,433.9048,148.9952,420.21,163.91\" style=\"stroke: #A80036; stroke-width: 1.0;\"/><ellipse cx=\"424.9709\" cy=\"139.1628\" fill=\"#A80036\" rx=\"2\" ry=\"2\" style=\"stroke: #A80036; stroke-width: 1.0;\"/><ellipse cx=\"434.2208\" cy=\"142.9628\" fill=\"#A80036\" rx=\"2\" ry=\"2\" style=\"stroke: #A80036; stroke-width: 1.0;\"/></a><!--MD5=[722ff4eef345aa10242dad44df0e98c7]\n",
       "reverse link E4 to E7--><a href=\"psysml:8957256b-d423-4c87-844e-8026b3f5c553\" target=\"_top\" title=\"psysml:8957256b-d423-4c87-844e-8026b3f5c553\" xlink:actuate=\"onRequest\" xlink:href=\"psysml:8957256b-d423-4c87-844e-8026b3f5c553\" xlink:show=\"new\" xlink:title=\"psysml:8957256b-d423-4c87-844e-8026b3f5c553\" xlink:type=\"simple\"><path d=\"M258.89,349.16 C245.4,369.41 229.93,392.6 218.86,409.21 \" fill=\"none\" id=\"E4&lt;-E7\" style=\"stroke: #A80036; stroke-width: 1.0;\"/><polygon fill=\"#A80036\" points=\"266.15,338.28,259.4928,341.0515,259.4906,348.2626,266.1478,345.4911,266.15,338.28\" style=\"stroke: #A80036; stroke-width: 1.0;\"/><text fill=\"#000000\" font-family=\"sans-serif\" font-size=\"13\" lengthAdjust=\"spacingAndGlyphs\" textLength=\"7\" x=\"214.771\" y=\"398.412\">*</text></a><!--MD5=[c6fc7cdb0cabde04948078cf183fa696]\n",
       "reverse link E4 to E8--><a href=\"psysml:e7993699-2e90-4c6e-9ce7-c90f60868f83\" target=\"_top\" title=\"psysml:e7993699-2e90-4c6e-9ce7-c90f60868f83\" xlink:actuate=\"onRequest\" xlink:href=\"psysml:e7993699-2e90-4c6e-9ce7-c90f60868f83\" xlink:show=\"new\" xlink:title=\"psysml:e7993699-2e90-4c6e-9ce7-c90f60868f83\" xlink:type=\"simple\"><path d=\"M318.4,351.09 C328.94,366.92 340.55,384.33 350.26,398.89 \" fill=\"none\" id=\"E4&lt;-E8\" style=\"stroke: #A80036; stroke-width: 1.0;\"/><ellipse cx=\"314.2894\" cy=\"344.9352\" fill=\"#FFFFFF\" rx=\"8\" ry=\"8\" style=\"stroke: #A80036; stroke-width: 1.0;\"/><line style=\"stroke: #A80036; stroke-width: 1.0;\" x1=\"318.7287\" x2=\"309.85\" y1=\"351.5905\" y2=\"338.28\"/><line style=\"stroke: #A80036; stroke-width: 1.0;\" x1=\"307.6341\" x2=\"320.9446\" y1=\"349.3746\" y2=\"340.4959\"/></a><!--MD5=[062ed86c389d1a88f61c6380d0491e17]\n",
       "reverse link E12 to E13--><a href=\"psysml:0f26ba0d-7372-4c44-875c-adf3c35e17b9\" target=\"_top\" title=\"psysml:0f26ba0d-7372-4c44-875c-adf3c35e17b9\" xlink:actuate=\"onRequest\" xlink:href=\"psysml:0f26ba0d-7372-4c44-875c-adf3c35e17b9\" xlink:show=\"new\" xlink:title=\"psysml:0f26ba0d-7372-4c44-875c-adf3c35e17b9\" xlink:type=\"simple\"><path d=\"M346.21,84.57 C348.17,85.39 350.1,86.2 352,87 C383.96,100.42 404.77,88.16 424,117 C428.19,123.29 428.53,127.95 424,134 C423.06,135.26 357.17,154.29 305.83,168.97 \" fill=\"none\" id=\"E12&lt;-E13\" style=\"stroke: #A80036; stroke-width: 1.0;\"/><polygon fill=\"#A80036\" points=\"334.11,79.46,338.0831,85.4778,345.1661,84.1249,341.1931,78.1071,334.11,79.46\" style=\"stroke: #A80036; stroke-width: 1.0;\"/></a><!--MD5=[e2a9ac97dcd3257bb5342dae06547bad]\n",
       "link E12 to E13--><a href=\"psysml:f5a4eec3-f375-4f03-819b-6c5c8dc7728c\" target=\"_top\" title=\"psysml:f5a4eec3-f375-4f03-819b-6c5c8dc7728c\" xlink:actuate=\"onRequest\" xlink:href=\"psysml:f5a4eec3-f375-4f03-819b-6c5c8dc7728c\" xlink:show=\"new\" xlink:title=\"psysml:f5a4eec3-f375-4f03-819b-6c5c8dc7728c\" xlink:type=\"simple\"><path d=\"M317.34,87.15 C325.98,101.04 333.04,119.08 325,134 C319.21,144.75 310.11,153.64 300.12,160.85 \" fill=\"none\" id=\"E12-&gt;E13\" style=\"stroke: #A80036; stroke-width: 1.0; stroke-dasharray: 7.0,7.0;\"/><polygon fill=\"#A80036\" points=\"295.79,163.84,305.4682,162.0146,299.9035,160.9977,300.9205,155.433,295.79,163.84\" style=\"stroke: #A80036; stroke-width: 1.0;\"/><text fill=\"#000000\" font-family=\"sans-serif\" font-size=\"13\" lengthAdjust=\"spacingAndGlyphs\" textLength=\"57\" x=\"329\" y=\"130.0669\">«satisfy»</text></a><!--MD5=[017847e01ff9a8bd19f247411074f987]\n",
       "link E13 to E4--><a href=\"psysml:e01bb7f1-206a-408f-a898-0799ec242df4\" target=\"_top\" title=\"psysml:e01bb7f1-206a-408f-a898-0799ec242df4\" xlink:actuate=\"onRequest\" xlink:href=\"psysml:e01bb7f1-206a-408f-a898-0799ec242df4\" xlink:show=\"new\" xlink:title=\"psysml:e01bb7f1-206a-408f-a898-0799ec242df4\" xlink:type=\"simple\"><path d=\"M254.1,210.27 C258.39,222.08 263.86,237.12 269.15,251.65 \" fill=\"none\" id=\"E13-&gt;E4\" style=\"stroke: #A80036; stroke-width: 1.0;\"/><polygon fill=\"#FFFFFF\" points=\"276.11,270.81,263.044,255.3413,276.2028,250.5618,276.11,270.81\" style=\"stroke: #A80036; stroke-width: 1.0;\"/><ellipse cx=\"262.9779\" cy=\"249.301\" fill=\"#A80036\" rx=\"2\" ry=\"2\" style=\"stroke: #A80036; stroke-width: 1.0;\"/><ellipse cx=\"272.377\" cy=\"245.887\" fill=\"#A80036\" rx=\"2\" ry=\"2\" style=\"stroke: #A80036; stroke-width: 1.0;\"/></a><!--MD5=[60f911bb19596b289db4a22769f8105a]\n",
       "link E11 to E13--><a href=\"psysml:e806deaf-0ce2-4d10-9e57-833502fc32ee\" target=\"_top\" title=\"psysml:e806deaf-0ce2-4d10-9e57-833502fc32ee\" xlink:actuate=\"onRequest\" xlink:href=\"psysml:e806deaf-0ce2-4d10-9e57-833502fc32ee\" xlink:show=\"new\" xlink:title=\"psysml:e806deaf-0ce2-4d10-9e57-833502fc32ee\" xlink:type=\"simple\"><path d=\"M127.94,87.26 C136.42,101.71 148.8,120.33 163,134 C173.58,144.19 186.48,153.42 198.92,161.18 \" fill=\"none\" id=\"E11-&gt;E13\" style=\"stroke: #A80036; stroke-width: 1.0; stroke-dasharray: 7.0,7.0;\"/><polygon fill=\"#A80036\" points=\"203.47,163.98,197.8817,155.87,199.2054,161.3699,193.7055,162.6935,203.47,163.98\" style=\"stroke: #A80036; stroke-width: 1.0;\"/><text fill=\"#000000\" font-family=\"sans-serif\" font-size=\"13\" lengthAdjust=\"spacingAndGlyphs\" textLength=\"57\" x=\"164\" y=\"130.0669\">«satisfy»</text></a><!--MD5=[0c677eb374079406c87b74cd1f5a339d]\n",
       "link E14 to E9--><a href=\"psysml:d6ece11e-fb98-4dd6-9106-0f6846b0bd9f\" target=\"_top\" title=\"psysml:d6ece11e-fb98-4dd6-9106-0f6846b0bd9f\" xlink:actuate=\"onRequest\" xlink:href=\"psysml:d6ece11e-fb98-4dd6-9106-0f6846b0bd9f\" xlink:show=\"new\" xlink:title=\"psysml:d6ece11e-fb98-4dd6-9106-0f6846b0bd9f\" xlink:type=\"simple\"><path d=\"M94.7,210.27 C96.45,224.73 98.79,244.04 100.89,261.33 \" fill=\"none\" id=\"E14-&gt;E9\" style=\"stroke: #A80036; stroke-width: 1.0;\"/><polygon fill=\"#FFFFFF\" points=\"103.31,281.3,94.068,263.2838,107.9656,261.594,103.31,281.3\" style=\"stroke: #A80036; stroke-width: 1.0;\"/><ellipse cx=\"95.3654\" cy=\"257.384\" fill=\"#A80036\" rx=\"2\" ry=\"2\" style=\"stroke: #A80036; stroke-width: 1.0;\"/><ellipse cx=\"105.2923\" cy=\"256.1771\" fill=\"#A80036\" rx=\"2\" ry=\"2\" style=\"stroke: #A80036; stroke-width: 1.0;\"/></a><!--MD5=[9c1c40551dcf5c2fca147626a786a7cd]\n",
       "link E11 to E14--><a href=\"psysml:feaea2f2-720b-4dbc-ba1d-0aec40f00046\" target=\"_top\" title=\"psysml:feaea2f2-720b-4dbc-ba1d-0aec40f00046\" xlink:actuate=\"onRequest\" xlink:href=\"psysml:feaea2f2-720b-4dbc-ba1d-0aec40f00046\" xlink:show=\"new\" xlink:title=\"psysml:feaea2f2-720b-4dbc-ba1d-0aec40f00046\" xlink:type=\"simple\"><path d=\"M86.22,87.02 C77.35,95.32 68.74,105.56 64,117 C58.18,131.06 63.63,146.77 71.21,159.65 \" fill=\"none\" id=\"E11-&gt;E14\" style=\"stroke: #A80036; stroke-width: 1.0; stroke-dasharray: 7.0,7.0;\"/><polygon fill=\"#A80036\" points=\"73.86,163.9,72.4968,154.1459,71.2164,159.656,65.7064,158.3757,73.86,163.9\" style=\"stroke: #A80036; stroke-width: 1.0;\"/><text fill=\"#000000\" font-family=\"sans-serif\" font-size=\"13\" lengthAdjust=\"spacingAndGlyphs\" textLength=\"57\" x=\"65\" y=\"130.0669\">«satisfy»</text></a><!--MD5=[d53cb08dffc8689d16e38c8e194e9adc]\n",
       "link E12 to E14--><a href=\"psysml:f5704f7b-2601-4abd-90b0-2ec51a978e80\" target=\"_top\" title=\"psysml:f5704f7b-2601-4abd-90b0-2ec51a978e80\" xlink:actuate=\"onRequest\" xlink:href=\"psysml:f5704f7b-2601-4abd-90b0-2ec51a978e80\" xlink:show=\"new\" xlink:title=\"psysml:f5704f7b-2601-4abd-90b0-2ec51a978e80\" xlink:type=\"simple\"><path d=\"M280.42,87.25 C266.43,102.07 246.53,121.12 226,134 C204.69,147.37 179.38,158.28 156.52,166.58 \" fill=\"none\" id=\"E12-&gt;E14\" style=\"stroke: #A80036; stroke-width: 1.0; stroke-dasharray: 7.0,7.0;\"/><polygon fill=\"#A80036\" points=\"151.68,168.32,161.5013,169.0562,156.3881,166.6365,158.8077,161.5233,151.68,168.32\" style=\"stroke: #A80036; stroke-width: 1.0;\"/><text fill=\"#000000\" font-family=\"sans-serif\" font-size=\"13\" lengthAdjust=\"spacingAndGlyphs\" textLength=\"57\" x=\"249\" y=\"130.0669\">«satisfy»</text></a><!--MD5=[583a2f809d55f481e14c3579d14dff7f]\n",
       "@startuml\r\n",
       " \r\n",
       "package \"RequirementTest\" as E1  [[psysml:2a075407-fc8d-47b4-b4de-e1839d24b848 ]]  {\r\n",
       "comp def \"C\" as E2 << <<(D,brown) constraint  def>> [[psysml:8e8b9929-fb62-44f3-bb6e-73f88688eaf1 ]] {\r\n",
       "}\r\n",
       "comp usage \"c: C \" as E3 << <<(U,orange) constraint>> [[psysml:8dab2afb-478b-48f2-a7f7-bb2b245c05ea ]] {\r\n",
       "}\r\n",
       "comp def \"R\" as E4 << <<(D,brown) requirement  def>> [[psysml:cae76f8a-948f-454f-8648-301efab5060e ]] {\r\n",
       "\r\n",
       "- -\r\n",
       "}\r\n",
       "comp usage \"<s>noname</s>\" as E7 << <<(U,orange) requirement>> [[psysml:70e6cc11-a878-4419-9a48-d32cb5df9816 ]] {\r\n",
       "}\r\n",
       "comp def \" [<b>1</b>] A\" as E8 << <<(D,brown) requirement  def>> [[psysml:5c5c4776-1d3a-4700-8516-1d3a67d779f4 ]] {\r\n",
       "Text\r\n",
       "- -\r\n",
       "}\r\n",
       "comp def \"R1\" as E9 << <<(D,brown) requirement  def>> [[psysml:f2fc2205-4b84-4313-b340-24ee025c15cf ]] {\r\n",
       "}\r\n",
       "comp usage \"p\" as E11 << << (P,limegreen) part>> [[psysml:4203d305-f881-4dfa-bcc5-a82b5aac35c4 ]] {\r\n",
       "}\r\n",
       "comp usage \"q\" as E12 << << (P,limegreen) part>> [[psysml:d0dbee69-5f2e-4ac4-ba4b-4aca7380bae7 ]] {\r\n",
       "}\r\n",
       "comp usage \"r: R \" as E13 << <<(U,orange) requirement>> [[psysml:aee31540-9ea4-41ee-8ebb-8555bfaf03fb ]] {\r\n",
       "}\r\n",
       "comp usage \"r1: R1 \" as E14 << <<(U,orange) requirement>> [[psysml:5c4fb90e-2e7f-411e-8437-1e0e9b0bd00e ]] {\r\n",
       "}\r\n",
       "}\r\n",
       "E3 - -:|> E2 [[psysml:1cfa9d08-8b1e-49ae-8f22-7ec5c2d68c94 ]] \r\n",
       "E4 *- - \"*\"E7 [[psysml:8957256b-d423-4c87-844e-8026b3f5c553 ]] \r\n",
       "E4 +- - E8 [[psysml:e7993699-2e90-4c6e-9ce7-c90f60868f83 ]] \r\n",
       "E12 *- - E13 [[psysml:0f26ba0d-7372-4c44-875c-adf3c35e17b9 ]] \r\n",
       "E13 - -:|> E4 [[psysml:e01bb7f1-206a-408f-a898-0799ec242df4 ]] \r\n",
       "E11 ..> E13 [[psysml:e806deaf-0ce2-4d10-9e57-833502fc32ee ]] : <<satisfy>>\r\n",
       "E12 ..> E13 [[psysml:f5a4eec3-f375-4f03-819b-6c5c8dc7728c ]] : <<satisfy>>\r\n",
       "E14 - -:|> E9 [[psysml:d6ece11e-fb98-4dd6-9106-0f6846b0bd9f ]] \r\n",
       "E11 ..> E14 [[psysml:feaea2f2-720b-4dbc-ba1d-0aec40f00046 ]] : <<satisfy>>\r\n",
       "E12 ..> E14 [[psysml:f5704f7b-2601-4abd-90b0-2ec51a978e80 ]] : <<satisfy>>\r\n",
       "@enduml\r\n",
       "\n",
       "PlantUML version 1.2020.13(Sat Jun 13 12:26:38 UTC 2020)\n",
       "(EPL source distribution)\n",
       "Java Runtime: OpenJDK Runtime Environment\n",
       "JVM: OpenJDK 64-Bit Server VM\n",
       "Default Encoding: UTF-8\n",
       "Language: en\n",
       "Country: null\n",
       "--></g></svg>"
      ]
     },
     "execution_count": 31,
     "metadata": {},
     "output_type": "execute_result"
    }
   ],
   "source": [
    "%viz --style=\"PLANTUML\" --view=\"Tree\" \"RequirementTest\""
   ]
  },
  {
   "cell_type": "code",
   "execution_count": 32,
   "id": "658278d7",
   "metadata": {
    "execution": {
     "iopub.execute_input": "2021-10-25T08:21:13.983610Z",
     "iopub.status.busy": "2021-10-25T08:21:13.983209Z",
     "iopub.status.idle": "2021-10-25T08:21:14.041389Z",
     "shell.execute_reply": "2021-10-25T08:21:14.039608Z"
    }
   },
   "outputs": [
    {
     "data": {
      "image/svg+xml": [
       "<?xml version=\"1.0\" encoding=\"UTF-8\" standalone=\"no\"?><svg xmlns=\"http://www.w3.org/2000/svg\" xmlns:xlink=\"http://www.w3.org/1999/xlink\" contentScriptType=\"application/ecmascript\" contentStyleType=\"text/css\" height=\"300px\" preserveAspectRatio=\"none\" style=\"width:603px;height:300px;background:#000000;\" version=\"1.1\" viewBox=\"0 0 603 300\" width=\"603px\" zoomAndPan=\"magnify\"><defs/><g><rect fill=\"#181321\" height=\"1\" style=\"stroke: #181321; stroke-width: 1.0;\" width=\"1\" x=\"0\" y=\"0\"/><rect fill=\"#FFFFFF\" height=\"202.8012\" style=\"stroke: #FFFFFF; stroke-width: 1.0;\" width=\"602\" x=\"0\" y=\"0\"/><text fill=\"#000000\" font-family=\"sans-serif\" font-size=\"12\" font-weight=\"bold\" lengthAdjust=\"spacingAndGlyphs\" textLength=\"139\" x=\"5\" y=\"16.1387\">Welcome to PlantUML!</text><text fill=\"#000000\" font-family=\"sans-serif\" font-size=\"12\" lengthAdjust=\"spacingAndGlyphs\" textLength=\"0\" x=\"9\" y=\"30.1074\"/><text fill=\"#000000\" font-family=\"sans-serif\" font-size=\"12\" lengthAdjust=\"spacingAndGlyphs\" textLength=\"293\" x=\"5\" y=\"44.0762\">If you use this software, you accept its license.</text><text fill=\"#000000\" font-family=\"sans-serif\" font-size=\"12\" lengthAdjust=\"spacingAndGlyphs\" textLength=\"107\" x=\"5\" y=\"58.0449\">(details by typing</text><text fill=\"#000000\" font-family=\"monospace\" font-size=\"12\" lengthAdjust=\"spacingAndGlyphs\" textLength=\"42\" x=\"116\" y=\"58.595\">license</text><text fill=\"#000000\" font-family=\"sans-serif\" font-size=\"12\" lengthAdjust=\"spacingAndGlyphs\" textLength=\"56\" x=\"162\" y=\"58.0449\">keyword)</text><text fill=\"#000000\" font-family=\"sans-serif\" font-size=\"12\" lengthAdjust=\"spacingAndGlyphs\" textLength=\"0\" x=\"9\" y=\"72.0137\"/><text fill=\"#000000\" font-family=\"sans-serif\" font-size=\"12\" lengthAdjust=\"spacingAndGlyphs\" textLength=\"283\" x=\"5\" y=\"85.9824\">You can start with a simple UML Diagram like:</text><text fill=\"#000000\" font-family=\"sans-serif\" font-size=\"12\" lengthAdjust=\"spacingAndGlyphs\" textLength=\"0\" x=\"9\" y=\"99.9512\"/><text fill=\"#000000\" font-family=\"monospace\" font-size=\"12\" lengthAdjust=\"spacingAndGlyphs\" textLength=\"102\" x=\"5\" y=\"113.0893\">Bob-&gt;Alice: Hello</text><text fill=\"#000000\" font-family=\"sans-serif\" font-size=\"12\" lengthAdjust=\"spacingAndGlyphs\" textLength=\"0\" x=\"9\" y=\"126.508\"/><text fill=\"#000000\" font-family=\"sans-serif\" font-size=\"12\" lengthAdjust=\"spacingAndGlyphs\" textLength=\"14\" x=\"5\" y=\"140.4768\">Or</text><text fill=\"#000000\" font-family=\"sans-serif\" font-size=\"12\" lengthAdjust=\"spacingAndGlyphs\" textLength=\"0\" x=\"9\" y=\"154.4455\"/><text fill=\"#000000\" font-family=\"monospace\" font-size=\"12\" lengthAdjust=\"spacingAndGlyphs\" textLength=\"78\" x=\"5\" y=\"167.5837\">class Example</text><text fill=\"#000000\" font-family=\"sans-serif\" font-size=\"12\" lengthAdjust=\"spacingAndGlyphs\" textLength=\"0\" x=\"9\" y=\"181.0023\"/><text fill=\"#000000\" font-family=\"sans-serif\" font-size=\"12\" lengthAdjust=\"spacingAndGlyphs\" textLength=\"349\" x=\"5\" y=\"194.9711\">You will find more information about PlantUML syntax on</text><text fill=\"#000000\" font-family=\"sans-serif\" font-size=\"12\" lengthAdjust=\"spacingAndGlyphs\" text-decoration=\"underline\" textLength=\"129\" x=\"358\" y=\"194.9711\">https://plantuml.com</text><image height=\"71\" width=\"80\" x=\"516\" xlink:href=\"data:image/png;base64,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\" y=\"6\"/><rect fill=\"#000000\" height=\"96.4844\" style=\"stroke: #000000; stroke-width: 1.0;\" width=\"602\" x=\"0\" y=\"202.8012\"/><rect fill=\"#33FF02\" height=\"21.2969\" style=\"stroke: #33FF02; stroke-width: 1.0;\" width=\"145\" x=\"5\" y=\"207.8012\"/><text fill=\"#000000\" font-family=\"sans-serif\" font-size=\"14\" font-weight=\"bold\" lengthAdjust=\"spacingAndGlyphs\" textLength=\"143\" x=\"6\" y=\"222.8012\">[From string (line 2) ]</text><text fill=\"#33FF02\" font-family=\"sans-serif\" font-size=\"14\" font-weight=\"bold\" lengthAdjust=\"spacingAndGlyphs\" textLength=\"0\" x=\"9\" y=\"243.0981\"/><text fill=\"#33FF02\" font-family=\"sans-serif\" font-size=\"14\" font-weight=\"bold\" lengthAdjust=\"spacingAndGlyphs\" textLength=\"70\" x=\"5\" y=\"259.3949\">@startuml</text><text fill=\"#33FF02\" font-family=\"sans-serif\" font-size=\"14\" font-weight=\"bold\" lengthAdjust=\"spacingAndGlyphs\" textLength=\"0\" x=\"9\" y=\"275.6918\"/><text fill=\"#FF0000\" font-family=\"sans-serif\" font-size=\"14\" font-weight=\"bold\" lengthAdjust=\"spacingAndGlyphs\" textLength=\"124\" x=\"9\" y=\"291.9887\">Empty description</text><!--MD5=[f59edd8218d337f74d0c332fc6737304]\n",
       "@startuml\r\n",
       " \r\n",
       "@enduml\r\n",
       "\n",
       "PlantUML version 1.2020.13(Sat Jun 13 12:26:38 UTC 2020)\n",
       "(EPL source distribution)\n",
       "Java Runtime: OpenJDK Runtime Environment\n",
       "JVM: OpenJDK 64-Bit Server VM\n",
       "Default Encoding: UTF-8\n",
       "Language: en\n",
       "Country: null\n",
       "--></g></svg>"
      ]
     },
     "execution_count": 32,
     "metadata": {},
     "output_type": "execute_result"
    }
   ],
   "source": [
    "%viz --style=\"PLANTUML\" --view=\"State\" \"RequirementTest\""
   ]
  },
  {
   "cell_type": "code",
   "execution_count": 33,
   "id": "59b21096",
   "metadata": {
    "execution": {
     "iopub.execute_input": "2021-10-25T08:21:14.090914Z",
     "iopub.status.busy": "2021-10-25T08:21:14.090260Z",
     "iopub.status.idle": "2021-10-25T08:21:14.139127Z",
     "shell.execute_reply": "2021-10-25T08:21:14.137042Z"
    }
   },
   "outputs": [
    {
     "data": {
      "image/svg+xml": [
       "<?xml version=\"1.0\" encoding=\"UTF-8\" standalone=\"no\"?><svg xmlns=\"http://www.w3.org/2000/svg\" xmlns:xlink=\"http://www.w3.org/1999/xlink\" contentScriptType=\"application/ecmascript\" contentStyleType=\"text/css\" height=\"438px\" preserveAspectRatio=\"none\" style=\"width:572px;height:438px;\" version=\"1.1\" viewBox=\"0 0 572 438\" width=\"572px\" zoomAndPan=\"magnify\"><defs><filter height=\"300%\" id=\"f1rnbas0hme9po\" width=\"300%\" x=\"-1\" y=\"-1\"><feGaussianBlur result=\"blurOut\" stdDeviation=\"2.0\"/><feColorMatrix in=\"blurOut\" result=\"blurOut2\" type=\"matrix\" values=\"0 0 0 0 0 0 0 0 0 0 0 0 0 0 0 0 0 0 .4 0\"/><feOffset dx=\"4.0\" dy=\"4.0\" in=\"blurOut2\" result=\"blurOut3\"/><feBlend in=\"SourceGraphic\" in2=\"blurOut3\" mode=\"normal\"/></filter></defs><g><!--MD5=[fbc87193dbaf4d95561dea2c320d4a47]\n",
       "cluster E1--><a href=\"psysml:2a075407-fc8d-47b4-b4de-e1839d24b848\" target=\"_top\" title=\"psysml:2a075407-fc8d-47b4-b4de-e1839d24b848\" xlink:actuate=\"onRequest\" xlink:href=\"psysml:2a075407-fc8d-47b4-b4de-e1839d24b848\" xlink:show=\"new\" xlink:title=\"psysml:2a075407-fc8d-47b4-b4de-e1839d24b848\" xlink:type=\"simple\"><polygon fill=\"#FFFFFF\" filter=\"url(#f1rnbas0hme9po)\" points=\"16,6,143,6,150,28.2969,550,28.2969,550,426.36,16,426.36,16,6\" style=\"stroke: #000000; stroke-width: 1.5;\"/><line style=\"stroke: #000000; stroke-width: 1.5;\" x1=\"16\" x2=\"150\" y1=\"28.2969\" y2=\"28.2969\"/><text fill=\"#000000\" font-family=\"sans-serif\" font-size=\"14\" font-weight=\"bold\" lengthAdjust=\"spacingAndGlyphs\" textLength=\"121\" x=\"20\" y=\"20.9951\">RequirementTest</text></a><!--MD5=[47bea60c1a0ac6c1143df232041969c0]\n",
       "cluster E12--><a href=\"psysml:d0dbee69-5f2e-4ac4-ba4b-4aca7380bae7\" target=\"_top\" title=\"psysml:d0dbee69-5f2e-4ac4-ba4b-4aca7380bae7\" xlink:actuate=\"onRequest\" xlink:href=\"psysml:d0dbee69-5f2e-4ac4-ba4b-4aca7380bae7\" xlink:show=\"new\" xlink:title=\"psysml:d0dbee69-5f2e-4ac4-ba4b-4aca7380bae7\" xlink:type=\"simple\"><rect fill=\"#FFFFFF\" filter=\"url(#f1rnbas0hme9po)\" height=\"169.36\" id=\"E12\" rx=\"10\" ry=\"10\" style=\"stroke: #A80036; stroke-width: 1.5;\" width=\"168\" x=\"48\" y=\"57\"/><rect fill=\"#FEFECE\" height=\"23.9688\" rx=\"10\" ry=\"10\" style=\"stroke: #FEFECE; stroke-width: 1.5;\" width=\"168\" x=\"48\" y=\"57\"/><rect fill=\"#FEFECE\" height=\"10\" style=\"stroke: #FEFECE; stroke-width: 1.5;\" width=\"168\" x=\"48\" y=\"70.9688\"/><rect fill=\"none\" height=\"169.36\" id=\"E12\" rx=\"10\" ry=\"10\" style=\"stroke: #A80036; stroke-width: 1.5;\" width=\"168\" x=\"48\" y=\"57\"/><text fill=\"#000000\" font-family=\"sans-serif\" font-size=\"12\" lengthAdjust=\"spacingAndGlyphs\" textLength=\"8\" x=\"128\" y=\"73.1387\">q</text><line style=\"stroke: #A80036; stroke-width: 1.0;\" x1=\"48\" x2=\"216\" y1=\"80.9688\" y2=\"80.9688\"/></a><g id=\"E1.E2\"><a href=\"psysml:8e8b9929-fb62-44f3-bb6e-73f88688eaf1\" target=\"_top\" title=\"psysml:8e8b9929-fb62-44f3-bb6e-73f88688eaf1\" xlink:actuate=\"onRequest\" xlink:href=\"psysml:8e8b9929-fb62-44f3-bb6e-73f88688eaf1\" xlink:show=\"new\" xlink:title=\"psysml:8e8b9929-fb62-44f3-bb6e-73f88688eaf1\" xlink:type=\"simple\"><rect fill=\"#FEFECE\" filter=\"url(#f1rnbas0hme9po)\" height=\"42.9375\" id=\"E2\" style=\"stroke: #A80036; stroke-width: 1.5;\" width=\"139\" x=\"394.5\" y=\"157.86\"/><ellipse cx=\"411.75\" cy=\"176.8288\" fill=\"#A52A2A\" rx=\"11\" ry=\"11\" style=\"stroke: #A80036; stroke-width: 1.0;\"/><path d=\"M408.9688,181.8288 L408.9688,171.235 L411.7031,171.235 Q413.0938,171.235 413.8594,171.6256 Q414.6406,172.0006 415.1719,172.7038 Q415.7031,173.4069 416,174.4069 Q416.2969,175.3913 416.2969,176.61 Q416.25,178.2038 415.75,179.3913 Q415.2656,180.5631 414.2188,181.2038 Q413.1875,181.8288 411.5,181.8288 L408.9688,181.8288 Z M410.8281,180.3288 L411.4531,180.3288 Q412.5313,180.3288 413.1875,179.8756 Q413.8438,179.4225 414.125,178.5944 Q414.4219,177.7506 414.4063,176.6256 Q414.4063,175.4538 414.1563,174.5944 Q413.9063,173.7194 413.2969,173.2506 Q412.6875,172.7663 411.6406,172.7663 L410.8281,172.7663 L410.8281,180.3288 Z \"/><text fill=\"#000000\" font-family=\"sans-serif\" font-size=\"12\" font-style=\"italic\" lengthAdjust=\"spacingAndGlyphs\" textLength=\"106\" x=\"424.25\" y=\"173.9987\">«constraint  def»</text><text fill=\"#000000\" font-family=\"sans-serif\" font-size=\"12\" lengthAdjust=\"spacingAndGlyphs\" textLength=\"8\" x=\"473.25\" y=\"187.9674\">C</text></a></g><!--MD5=[09b614a08d8cba4a07c9adeb5e0fee81]\n",
       "class E3--><a href=\"psysml:8dab2afb-478b-48f2-a7f7-bb2b245c05ea\" target=\"_top\" title=\"psysml:8dab2afb-478b-48f2-a7f7-bb2b245c05ea\" xlink:actuate=\"onRequest\" xlink:href=\"psysml:8dab2afb-478b-48f2-a7f7-bb2b245c05ea\" xlink:show=\"new\" xlink:title=\"psysml:8dab2afb-478b-48f2-a7f7-bb2b245c05ea\" xlink:type=\"simple\"><rect fill=\"#FEFECE\" filter=\"url(#f1rnbas0hme9po)\" height=\"45.9375\" id=\"E3\" rx=\"10\" ry=\"10\" style=\"stroke: #A80036; stroke-width: 1.5;\" width=\"106\" x=\"411\" y=\"61.36\"/><ellipse cx=\"426\" cy=\"80.3288\" fill=\"#FFA500\" rx=\"11\" ry=\"11\" style=\"stroke: #A80036; stroke-width: 1.0;\"/><path d=\"M425.75,85.7975 Q424,85.7975 423.0469,84.7663 Q422.1094,83.7194 422.1094,81.8756 L422.1094,74.985 L424.1719,74.985 L424.1719,75.1413 Q424.0781,75.235 424.0469,75.3756 Q424.0313,75.5006 424.0313,75.7663 L424.0313,81.8913 Q424.0313,82.985 424.4063,83.61 Q424.7813,84.235 425.7656,84.235 Q426.75,84.235 427.1406,83.61 Q427.5313,82.985 427.5313,81.8444 L427.5313,74.985 L429.4063,74.985 L429.4063,81.8288 Q429.4063,83.86 428.375,84.8288 Q427.3594,85.7975 425.75,85.7975 Z \"/><text fill=\"#000000\" font-family=\"sans-serif\" font-size=\"12\" font-style=\"italic\" lengthAdjust=\"spacingAndGlyphs\" textLength=\"78\" x=\"438\" y=\"77.4987\">«constraint»</text><text fill=\"#000000\" font-family=\"sans-serif\" font-size=\"12\" lengthAdjust=\"spacingAndGlyphs\" textLength=\"23\" x=\"463.5\" y=\"91.4674\">c: C</text><line style=\"stroke: #A80036; stroke-width: 1.5;\" x1=\"412\" x2=\"516\" y1=\"99.2975\" y2=\"99.2975\"/></a><!--MD5=[ebbe1d658d1005bcc118a6aa81145e00]\n",
       "class E4--><a href=\"psysml:cae76f8a-948f-454f-8648-301efab5060e\" target=\"_top\" title=\"psysml:cae76f8a-948f-454f-8648-301efab5060e\" xlink:actuate=\"onRequest\" xlink:href=\"psysml:cae76f8a-948f-454f-8648-301efab5060e\" xlink:show=\"new\" xlink:title=\"psysml:cae76f8a-948f-454f-8648-301efab5060e\" xlink:type=\"simple\"><rect fill=\"#FEFECE\" filter=\"url(#f1rnbas0hme9po)\" height=\"66.7422\" id=\"E4\" style=\"stroke: #A80036; stroke-width: 1.5;\" width=\"147\" x=\"53.5\" y=\"259.36\"/><ellipse cx=\"68.5\" cy=\"278.3288\" fill=\"#A52A2A\" rx=\"11\" ry=\"11\" style=\"stroke: #A80036; stroke-width: 1.0;\"/><path d=\"M65.7188,283.3288 L65.7188,272.735 L68.4531,272.735 Q69.8438,272.735 70.6094,273.1256 Q71.3906,273.5006 71.9219,274.2038 Q72.4531,274.9069 72.75,275.9069 Q73.0469,276.8913 73.0469,278.11 Q73,279.7038 72.5,280.8913 Q72.0156,282.0631 70.9688,282.7038 Q69.9375,283.3288 68.25,283.3288 L65.7188,283.3288 Z M67.5781,281.8288 L68.2031,281.8288 Q69.2813,281.8288 69.9375,281.3756 Q70.5938,280.9225 70.875,280.0944 Q71.1719,279.2506 71.1563,278.1256 Q71.1563,276.9538 70.9063,276.0944 Q70.6563,275.2194 70.0469,274.7506 Q69.4375,274.2663 68.3906,274.2663 L67.5781,274.2663 L67.5781,281.8288 Z \"/><text fill=\"#000000\" font-family=\"sans-serif\" font-size=\"12\" font-style=\"italic\" lengthAdjust=\"spacingAndGlyphs\" textLength=\"119\" x=\"80.5\" y=\"275.4987\">«requirement  def»</text><text fill=\"#000000\" font-family=\"sans-serif\" font-size=\"12\" lengthAdjust=\"spacingAndGlyphs\" textLength=\"8\" x=\"136\" y=\"289.4674\">R</text><line style=\"stroke: #A80036; stroke-width: 1.5;\" x1=\"54.5\" x2=\"199.5\" y1=\"297.2975\" y2=\"297.2975\"/><text fill=\"#000000\" font-family=\"sans-serif\" font-size=\"11\" lengthAdjust=\"spacingAndGlyphs\" textLength=\"0\" x=\"63.5\" y=\"311.5079\"/><line style=\"stroke: #A80036; stroke-width: 1.0;\" x1=\"54.5\" x2=\"199.5\" y1=\"318.1022\" y2=\"318.1022\"/></a><!--MD5=[2156ba9850f5573cc1fc38a6a4b2f02b]\n",
       "class E7--><a href=\"psysml:70e6cc11-a878-4419-9a48-d32cb5df9816\" target=\"_top\" title=\"psysml:70e6cc11-a878-4419-9a48-d32cb5df9816\" xlink:actuate=\"onRequest\" xlink:href=\"psysml:70e6cc11-a878-4419-9a48-d32cb5df9816\" xlink:show=\"new\" xlink:title=\"psysml:70e6cc11-a878-4419-9a48-d32cb5df9816\" xlink:type=\"simple\"><rect fill=\"#FEFECE\" filter=\"url(#f1rnbas0hme9po)\" height=\"45.9375\" id=\"E7\" rx=\"10\" ry=\"10\" style=\"stroke: #A80036; stroke-width: 1.5;\" width=\"119\" x=\"45.5\" y=\"353.86\"/><ellipse cx=\"60.5\" cy=\"372.8288\" fill=\"#FFA500\" rx=\"11\" ry=\"11\" style=\"stroke: #A80036; stroke-width: 1.0;\"/><path d=\"M60.25,378.2975 Q58.5,378.2975 57.5469,377.2663 Q56.6094,376.2194 56.6094,374.3756 L56.6094,367.485 L58.6719,367.485 L58.6719,367.6413 Q58.5781,367.735 58.5469,367.8756 Q58.5313,368.0006 58.5313,368.2663 L58.5313,374.3913 Q58.5313,375.485 58.9063,376.11 Q59.2813,376.735 60.2656,376.735 Q61.25,376.735 61.6406,376.11 Q62.0313,375.485 62.0313,374.3444 L62.0313,367.485 L63.9063,367.485 L63.9063,374.3288 Q63.9063,376.36 62.875,377.3288 Q61.8594,378.2975 60.25,378.2975 Z \"/><text fill=\"#000000\" font-family=\"sans-serif\" font-size=\"12\" font-style=\"italic\" lengthAdjust=\"spacingAndGlyphs\" textLength=\"91\" x=\"72.5\" y=\"369.9987\">«requirement»</text><text fill=\"#000000\" font-family=\"sans-serif\" font-size=\"12\" lengthAdjust=\"spacingAndGlyphs\" text-decoration=\"line-through\" textLength=\"51\" x=\"92.5\" y=\"383.9674\">noname</text><line style=\"stroke: #A80036; stroke-width: 1.5;\" x1=\"46.5\" x2=\"163.5\" y1=\"391.7975\" y2=\"391.7975\"/></a><!--MD5=[b9389687b975829384b498ac4b7476b2]\n",
       "class E8--><a href=\"psysml:5c5c4776-1d3a-4700-8516-1d3a67d779f4\" target=\"_top\" title=\"psysml:5c5c4776-1d3a-4700-8516-1d3a67d779f4\" xlink:actuate=\"onRequest\" xlink:href=\"psysml:5c5c4776-1d3a-4700-8516-1d3a67d779f4\" xlink:show=\"new\" xlink:title=\"psysml:5c5c4776-1d3a-4700-8516-1d3a67d779f4\" xlink:type=\"simple\"><rect fill=\"#FEFECE\" filter=\"url(#f1rnbas0hme9po)\" height=\"66.7422\" id=\"E8\" style=\"stroke: #A80036; stroke-width: 1.5;\" width=\"147\" x=\"199.5\" y=\"343.36\"/><ellipse cx=\"214.5\" cy=\"362.3288\" fill=\"#A52A2A\" rx=\"11\" ry=\"11\" style=\"stroke: #A80036; stroke-width: 1.0;\"/><path d=\"M211.7188,367.3288 L211.7188,356.735 L214.4531,356.735 Q215.8438,356.735 216.6094,357.1256 Q217.3906,357.5006 217.9219,358.2038 Q218.4531,358.9069 218.75,359.9069 Q219.0469,360.8913 219.0469,362.11 Q219,363.7038 218.5,364.8913 Q218.0156,366.0631 216.9688,366.7038 Q215.9375,367.3288 214.25,367.3288 L211.7188,367.3288 Z M213.5781,365.8288 L214.2031,365.8288 Q215.2813,365.8288 215.9375,365.3756 Q216.5938,364.9225 216.875,364.0944 Q217.1719,363.2506 217.1563,362.1256 Q217.1563,360.9538 216.9063,360.0944 Q216.6563,359.2194 216.0469,358.7506 Q215.4375,358.2663 214.3906,358.2663 L213.5781,358.2663 L213.5781,365.8288 Z \"/><text fill=\"#000000\" font-family=\"sans-serif\" font-size=\"12\" font-style=\"italic\" lengthAdjust=\"spacingAndGlyphs\" textLength=\"119\" x=\"226.5\" y=\"359.4987\">«requirement  def»</text><text fill=\"#000000\" font-family=\"sans-serif\" font-size=\"12\" lengthAdjust=\"spacingAndGlyphs\" textLength=\"5\" x=\"273\" y=\"373.4674\">[</text><text fill=\"#000000\" font-family=\"sans-serif\" font-size=\"12\" font-weight=\"bold\" lengthAdjust=\"spacingAndGlyphs\" textLength=\"8\" x=\"278\" y=\"373.4674\">1</text><text fill=\"#000000\" font-family=\"sans-serif\" font-size=\"12\" lengthAdjust=\"spacingAndGlyphs\" textLength=\"17\" x=\"286\" y=\"373.4674\">] A</text><line style=\"stroke: #A80036; stroke-width: 1.5;\" x1=\"200.5\" x2=\"345.5\" y1=\"381.2975\" y2=\"381.2975\"/><text fill=\"#000000\" font-family=\"sans-serif\" font-size=\"11\" lengthAdjust=\"spacingAndGlyphs\" textLength=\"24\" x=\"205.5\" y=\"395.5079\">Text</text><line style=\"stroke: #A80036; stroke-width: 1.0;\" x1=\"200.5\" x2=\"345.5\" y1=\"402.1022\" y2=\"402.1022\"/></a><!--MD5=[fd4143e9d270a159db93a4ea2a975926]\n",
       "class E9--><a href=\"psysml:f2fc2205-4b84-4313-b340-24ee025c15cf\" target=\"_top\" title=\"psysml:f2fc2205-4b84-4313-b340-24ee025c15cf\" xlink:actuate=\"onRequest\" xlink:href=\"psysml:f2fc2205-4b84-4313-b340-24ee025c15cf\" xlink:show=\"new\" xlink:title=\"psysml:f2fc2205-4b84-4313-b340-24ee025c15cf\" xlink:type=\"simple\"><rect fill=\"#FEFECE\" filter=\"url(#f1rnbas0hme9po)\" height=\"45.9375\" id=\"E9\" style=\"stroke: #A80036; stroke-width: 1.5;\" width=\"147\" x=\"235.5\" y=\"269.86\"/><ellipse cx=\"250.5\" cy=\"288.8288\" fill=\"#A52A2A\" rx=\"11\" ry=\"11\" style=\"stroke: #A80036; stroke-width: 1.0;\"/><path d=\"M247.7188,293.8288 L247.7188,283.235 L250.4531,283.235 Q251.8438,283.235 252.6094,283.6256 Q253.3906,284.0006 253.9219,284.7038 Q254.4531,285.4069 254.75,286.4069 Q255.0469,287.3913 255.0469,288.61 Q255,290.2038 254.5,291.3913 Q254.0156,292.5631 252.9688,293.2038 Q251.9375,293.8288 250.25,293.8288 L247.7188,293.8288 Z M249.5781,292.3288 L250.2031,292.3288 Q251.2813,292.3288 251.9375,291.8756 Q252.5938,291.4225 252.875,290.5944 Q253.1719,289.7506 253.1563,288.6256 Q253.1563,287.4538 252.9063,286.5944 Q252.6563,285.7194 252.0469,285.2506 Q251.4375,284.7663 250.3906,284.7663 L249.5781,284.7663 L249.5781,292.3288 Z \"/><text fill=\"#000000\" font-family=\"sans-serif\" font-size=\"12\" font-style=\"italic\" lengthAdjust=\"spacingAndGlyphs\" textLength=\"119\" x=\"262.5\" y=\"285.9987\">«requirement  def»</text><text fill=\"#000000\" font-family=\"sans-serif\" font-size=\"12\" lengthAdjust=\"spacingAndGlyphs\" textLength=\"16\" x=\"314\" y=\"299.9674\">R1</text><line style=\"stroke: #A80036; stroke-width: 1.5;\" x1=\"236.5\" x2=\"381.5\" y1=\"307.7975\" y2=\"307.7975\"/></a><!--MD5=[bee11217b2f71d958a27249dc326068c]\n",
       "class E14--><a href=\"psysml:5c4fb90e-2e7f-411e-8437-1e0e9b0bd00e\" target=\"_top\" title=\"psysml:5c4fb90e-2e7f-411e-8437-1e0e9b0bd00e\" xlink:actuate=\"onRequest\" xlink:href=\"psysml:5c4fb90e-2e7f-411e-8437-1e0e9b0bd00e\" xlink:show=\"new\" xlink:title=\"psysml:5c4fb90e-2e7f-411e-8437-1e0e9b0bd00e\" xlink:type=\"simple\"><rect fill=\"#FEFECE\" filter=\"url(#f1rnbas0hme9po)\" height=\"45.9375\" id=\"E14\" rx=\"10\" ry=\"10\" style=\"stroke: #A80036; stroke-width: 1.5;\" width=\"119\" x=\"240.5\" y=\"156.36\"/><ellipse cx=\"255.5\" cy=\"175.3288\" fill=\"#FFA500\" rx=\"11\" ry=\"11\" style=\"stroke: #A80036; stroke-width: 1.0;\"/><path d=\"M255.25,180.7975 Q253.5,180.7975 252.5469,179.7663 Q251.6094,178.7194 251.6094,176.8756 L251.6094,169.985 L253.6719,169.985 L253.6719,170.1413 Q253.5781,170.235 253.5469,170.3756 Q253.5313,170.5006 253.5313,170.7663 L253.5313,176.8913 Q253.5313,177.985 253.9063,178.61 Q254.2813,179.235 255.2656,179.235 Q256.25,179.235 256.6406,178.61 Q257.0313,177.985 257.0313,176.8444 L257.0313,169.985 L258.9063,169.985 L258.9063,176.8288 Q258.9063,178.86 257.875,179.8288 Q256.8594,180.7975 255.25,180.7975 Z \"/><text fill=\"#000000\" font-family=\"sans-serif\" font-size=\"12\" font-style=\"italic\" lengthAdjust=\"spacingAndGlyphs\" textLength=\"91\" x=\"267.5\" y=\"172.4987\">«requirement»</text><text fill=\"#000000\" font-family=\"sans-serif\" font-size=\"12\" lengthAdjust=\"spacingAndGlyphs\" textLength=\"37\" x=\"292.5\" y=\"186.4674\">r1: R1</text><line style=\"stroke: #A80036; stroke-width: 1.5;\" x1=\"241.5\" x2=\"358.5\" y1=\"194.2975\" y2=\"194.2975\"/></a><g id=\"E1.E11\"><a href=\"psysml:4203d305-f881-4dfa-bcc5-a82b5aac35c4\" target=\"_top\" title=\"psysml:4203d305-f881-4dfa-bcc5-a82b5aac35c4\" xlink:actuate=\"onRequest\" xlink:href=\"psysml:4203d305-f881-4dfa-bcc5-a82b5aac35c4\" xlink:show=\"new\" xlink:title=\"psysml:4203d305-f881-4dfa-bcc5-a82b5aac35c4\" xlink:type=\"simple\"><rect fill=\"#FEFECE\" filter=\"url(#f1rnbas0hme9po)\" height=\"40\" id=\"E11\" rx=\"10\" ry=\"10\" style=\"stroke: #A80036; stroke-width: 1.5;\" width=\"50\" x=\"298\" y=\"64.36\"/><ellipse cx=\"317.5\" cy=\"80.36\" fill=\"#B6DBBB\" rx=\"11\" ry=\"11\" style=\"stroke: #A80036; stroke-width: 1.0;\"/><path d=\"M317.25,85.8288 Q315.5,85.8288 314.5469,84.7975 Q313.6094,83.7506 313.6094,81.9069 L313.6094,75.0163 L315.6719,75.0163 L315.6719,75.1725 Q315.5781,75.2663 315.5469,75.4069 Q315.5313,75.5319 315.5313,75.7975 L315.5313,81.9225 Q315.5313,83.0163 315.9063,83.6413 Q316.2813,84.2663 317.2656,84.2663 Q318.25,84.2663 318.6406,83.6413 Q319.0313,83.0163 319.0313,81.8756 L319.0313,75.0163 L320.9063,75.0163 L320.9063,81.86 Q320.9063,83.8913 319.875,84.86 Q318.8594,85.8288 317.25,85.8288 Z \"/><text fill=\"#000000\" font-family=\"sans-serif\" font-size=\"12\" lengthAdjust=\"spacingAndGlyphs\" textLength=\"8\" x=\"332.5\" y=\"84.5143\">p</text></a></g><!--MD5=[ee3c913d1a06f366521f9ef512b67efe]\n",
       "class E13--><a href=\"psysml:aee31540-9ea4-41ee-8ebb-8555bfaf03fb\" target=\"_top\" title=\"psysml:aee31540-9ea4-41ee-8ebb-8555bfaf03fb\" xlink:actuate=\"onRequest\" xlink:href=\"psysml:aee31540-9ea4-41ee-8ebb-8555bfaf03fb\" xlink:show=\"new\" xlink:title=\"psysml:aee31540-9ea4-41ee-8ebb-8555bfaf03fb\" xlink:type=\"simple\"><rect fill=\"#FEFECE\" filter=\"url(#f1rnbas0hme9po)\" height=\"45.9375\" id=\"E13\" rx=\"10\" ry=\"10\" style=\"stroke: #A80036; stroke-width: 1.5;\" width=\"119\" x=\"72.5\" y=\"156.36\"/><ellipse cx=\"87.5\" cy=\"175.3288\" fill=\"#FFA500\" rx=\"11\" ry=\"11\" style=\"stroke: #A80036; stroke-width: 1.0;\"/><path d=\"M87.25,180.7975 Q85.5,180.7975 84.5469,179.7663 Q83.6094,178.7194 83.6094,176.8756 L83.6094,169.985 L85.6719,169.985 L85.6719,170.1413 Q85.5781,170.235 85.5469,170.3756 Q85.5313,170.5006 85.5313,170.7663 L85.5313,176.8913 Q85.5313,177.985 85.9063,178.61 Q86.2813,179.235 87.2656,179.235 Q88.25,179.235 88.6406,178.61 Q89.0313,177.985 89.0313,176.8444 L89.0313,169.985 L90.9063,169.985 L90.9063,176.8288 Q90.9063,178.86 89.875,179.8288 Q88.8594,180.7975 87.25,180.7975 Z \"/><text fill=\"#000000\" font-family=\"sans-serif\" font-size=\"12\" font-style=\"italic\" lengthAdjust=\"spacingAndGlyphs\" textLength=\"91\" x=\"99.5\" y=\"172.4987\">«requirement»</text><text fill=\"#000000\" font-family=\"sans-serif\" font-size=\"12\" lengthAdjust=\"spacingAndGlyphs\" textLength=\"21\" x=\"132.5\" y=\"186.4674\">r: R</text><line style=\"stroke: #A80036; stroke-width: 1.5;\" x1=\"73.5\" x2=\"190.5\" y1=\"194.2975\" y2=\"194.2975\"/></a><!--MD5=[05d275557350bfb9b23a4ef7222b4c39]\n",
       "link E3 to E2--><a href=\"psysml:1cfa9d08-8b1e-49ae-8f22-7ec5c2d68c94\" target=\"_top\" title=\"psysml:1cfa9d08-8b1e-49ae-8f22-7ec5c2d68c94\" xlink:actuate=\"onRequest\" xlink:href=\"psysml:1cfa9d08-8b1e-49ae-8f22-7ec5c2d68c94\" xlink:show=\"new\" xlink:title=\"psysml:1cfa9d08-8b1e-49ae-8f22-7ec5c2d68c94\" xlink:type=\"simple\"><path d=\"M464,107.4 C464,116.46 464,127.25 464,137.64 \" fill=\"none\" id=\"E3-&gt;E2\" style=\"stroke: #A80036; stroke-width: 1.0;\"/><polygon fill=\"#FFFFFF\" points=\"464,157.75,457,138.75,471,138.75,464,157.75\" style=\"stroke: #A80036; stroke-width: 1.0;\"/><ellipse cx=\"459\" cy=\"133.05\" fill=\"#A80036\" rx=\"2\" ry=\"2\" style=\"stroke: #A80036; stroke-width: 1.0;\"/><ellipse cx=\"469\" cy=\"133.05\" fill=\"#A80036\" rx=\"2\" ry=\"2\" style=\"stroke: #A80036; stroke-width: 1.0;\"/></a><!--MD5=[722ff4eef345aa10242dad44df0e98c7]\n",
       "reverse link E4 to E7--><a href=\"psysml:8957256b-d423-4c87-844e-8026b3f5c553\" target=\"_top\" title=\"psysml:8957256b-d423-4c87-844e-8026b3f5c553\" xlink:actuate=\"onRequest\" xlink:href=\"psysml:8957256b-d423-4c87-844e-8026b3f5c553\" xlink:show=\"new\" xlink:title=\"psysml:8957256b-d423-4c87-844e-8026b3f5c553\" xlink:type=\"simple\"><path d=\"M114.7,339.69 C113.39,344.58 112.11,349.37 110.92,353.79 \" fill=\"none\" id=\"E4&lt;-E7\" style=\"stroke: #A80036; stroke-width: 1.0;\"/><polygon fill=\"#A80036\" points=\"118.18,326.74,112.7596,331.496,115.0651,338.3287,120.4854,333.5726,118.18,326.74\" style=\"stroke: #A80036; stroke-width: 1.0;\"/><text fill=\"#000000\" font-family=\"sans-serif\" font-size=\"13\" lengthAdjust=\"spacingAndGlyphs\" textLength=\"7\" x=\"104.5704\" y=\"342.6675\">*</text></a><!--MD5=[c6fc7cdb0cabde04948078cf183fa696]\n",
       "reverse link E4 to E8--><a href=\"psysml:e7993699-2e90-4c6e-9ce7-c90f60868f83\" target=\"_top\" title=\"psysml:e7993699-2e90-4c6e-9ce7-c90f60868f83\" xlink:actuate=\"onRequest\" xlink:href=\"psysml:e7993699-2e90-4c6e-9ce7-c90f60868f83\" xlink:show=\"new\" xlink:title=\"psysml:e7993699-2e90-4c6e-9ce7-c90f60868f83\" xlink:type=\"simple\"><path d=\"M198.22,333.86 C203.87,337.03 209.53,340.21 215.08,343.33 \" fill=\"none\" id=\"E4&lt;-E8\" style=\"stroke: #A80036; stroke-width: 1.0;\"/><ellipse cx=\"192.0967\" cy=\"330.4149\" fill=\"#FFFFFF\" rx=\"8\" ry=\"8\" style=\"stroke: #A80036; stroke-width: 1.0;\"/><line style=\"stroke: #A80036; stroke-width: 1.0;\" x1=\"199.0733\" x2=\"185.12\" y1=\"334.3297\" y2=\"326.5\"/><line style=\"stroke: #A80036; stroke-width: 1.0;\" x1=\"188.1818\" x2=\"196.0115\" y1=\"337.3915\" y2=\"323.4382\"/></a><!--MD5=[017847e01ff9a8bd19f247411074f987]\n",
       "link E13 to E4--><a href=\"psysml:e01bb7f1-206a-408f-a898-0799ec242df4\" target=\"_top\" title=\"psysml:e01bb7f1-206a-408f-a898-0799ec242df4\" xlink:actuate=\"onRequest\" xlink:href=\"psysml:e01bb7f1-206a-408f-a898-0799ec242df4\" xlink:show=\"new\" xlink:title=\"psysml:e01bb7f1-206a-408f-a898-0799ec242df4\" xlink:type=\"simple\"><path d=\"M131.01,202.39 C130.54,212.92 129.95,226.03 129.37,238.94 \" fill=\"none\" id=\"E13-&gt;E4\" style=\"stroke: #A80036; stroke-width: 1.0;\"/><polygon fill=\"#FFFFFF\" points=\"128.46,259.31,122.3081,240.0187,136.2943,240.6385,128.46,259.31\" style=\"stroke: #A80036; stroke-width: 1.0;\"/><ellipse cx=\"124.5585\" cy=\"234.4129\" fill=\"#A80036\" rx=\"2\" ry=\"2\" style=\"stroke: #A80036; stroke-width: 1.0;\"/><ellipse cx=\"134.5487\" cy=\"234.8556\" fill=\"#A80036\" rx=\"2\" ry=\"2\" style=\"stroke: #A80036; stroke-width: 1.0;\"/></a><!--MD5=[60f911bb19596b289db4a22769f8105a]\n",
       "link E11 to E13--><a href=\"psysml:e806deaf-0ce2-4d10-9e57-833502fc32ee\" target=\"_top\" title=\"psysml:e806deaf-0ce2-4d10-9e57-833502fc32ee\" xlink:actuate=\"onRequest\" xlink:href=\"psysml:e806deaf-0ce2-4d10-9e57-833502fc32ee\" xlink:show=\"new\" xlink:title=\"psysml:e806deaf-0ce2-4d10-9e57-833502fc32ee\" xlink:type=\"simple\"><path d=\"M297.89,98.78 C278.18,108.94 249.86,122.74 224,132.36 C211.47,137.02 207.28,135.08 195,140.36 C186.39,144.06 177.53,148.77 169.28,153.59 \" fill=\"none\" id=\"E11-&gt;E13\" style=\"stroke: #A80036; stroke-width: 1.0; stroke-dasharray: 7.0,7.0;\"/><polygon fill=\"#A80036\" points=\"164.77,156.28,174.55,155.1178,169.0675,153.7243,170.461,148.2418,164.77,156.28\" style=\"stroke: #A80036; stroke-width: 1.0;\"/><text fill=\"#000000\" font-family=\"sans-serif\" font-size=\"13\" lengthAdjust=\"spacingAndGlyphs\" textLength=\"57\" x=\"264\" y=\"128.4269\">«satisfy»</text></a><!--MD5=[e2a9ac97dcd3257bb5342dae06547bad]\n",
       "link E12 to E13--><a href=\"psysml:f5a4eec3-f375-4f03-819b-6c5c8dc7728c\" target=\"_top\" title=\"psysml:f5a4eec3-f375-4f03-819b-6c5c8dc7728c\" xlink:actuate=\"onRequest\" xlink:href=\"psysml:f5a4eec3-f375-4f03-819b-6c5c8dc7728c\" xlink:show=\"new\" xlink:title=\"psysml:f5a4eec3-f375-4f03-819b-6c5c8dc7728c\" xlink:type=\"simple\"><path d=\"M145.95,85.36 C143.79,85.16 74.66,79.31 48,115.36 C36.51,130.9 48.94,144.37 67.45,154.82 \" fill=\"none\" id=\"E12-&gt;E13\" style=\"stroke: #A80036; stroke-width: 1.0; stroke-dasharray: 7.0,7.0;\"/><polygon fill=\"#A80036\" points=\"72.28,157.42,66.2356,149.6441,67.8726,155.0589,62.4578,156.6959,72.28,157.42\" style=\"stroke: #A80036; stroke-width: 1.0;\"/><text fill=\"#000000\" font-family=\"sans-serif\" font-size=\"13\" lengthAdjust=\"spacingAndGlyphs\" textLength=\"57\" x=\"49\" y=\"128.4269\">«satisfy»</text></a><!--MD5=[0c677eb374079406c87b74cd1f5a339d]\n",
       "link E14 to E9--><a href=\"psysml:d6ece11e-fb98-4dd6-9106-0f6846b0bd9f\" target=\"_top\" title=\"psysml:d6ece11e-fb98-4dd6-9106-0f6846b0bd9f\" xlink:actuate=\"onRequest\" xlink:href=\"psysml:d6ece11e-fb98-4dd6-9106-0f6846b0bd9f\" xlink:show=\"new\" xlink:title=\"psysml:d6ece11e-fb98-4dd6-9106-0f6846b0bd9f\" xlink:type=\"simple\"><path d=\"M301.78,202.39 C302.86,215.82 304.28,233.42 305.58,249.46 \" fill=\"none\" id=\"E14-&gt;E9\" style=\"stroke: #A80036; stroke-width: 1.0;\"/><polygon fill=\"#FFFFFF\" points=\"307.19,269.5,298.6919,251.1211,312.647,250.0007,307.19,269.5\" style=\"stroke: #A80036; stroke-width: 1.0;\"/><ellipse cx=\"300.2293\" cy=\"245.2794\" fill=\"#A80036\" rx=\"2\" ry=\"2\" style=\"stroke: #A80036; stroke-width: 1.0;\"/><ellipse cx=\"310.1972\" cy=\"244.4791\" fill=\"#A80036\" rx=\"2\" ry=\"2\" style=\"stroke: #A80036; stroke-width: 1.0;\"/></a><!--MD5=[9c1c40551dcf5c2fca147626a786a7cd]\n",
       "link E11 to E14--><a href=\"psysml:feaea2f2-720b-4dbc-ba1d-0aec40f00046\" target=\"_top\" title=\"psysml:feaea2f2-720b-4dbc-ba1d-0aec40f00046\" xlink:actuate=\"onRequest\" xlink:href=\"psysml:feaea2f2-720b-4dbc-ba1d-0aec40f00046\" xlink:show=\"new\" xlink:title=\"psysml:feaea2f2-720b-4dbc-ba1d-0aec40f00046\" xlink:type=\"simple\"><path d=\"M347.97,104.52 C350.82,107.81 353.3,111.45 355,115.36 C358,122.29 358.2,125.51 355,132.36 C351.42,140.02 345.87,146.85 339.65,152.76 \" fill=\"none\" id=\"E11-&gt;E14\" style=\"stroke: #A80036; stroke-width: 1.0; stroke-dasharray: 7.0,7.0;\"/><polygon fill=\"#A80036\" points=\"335.7,156.31,345.0655,153.2625,339.4165,152.9652,339.7138,147.3161,335.7,156.31\" style=\"stroke: #A80036; stroke-width: 1.0;\"/><text fill=\"#000000\" font-family=\"sans-serif\" font-size=\"13\" lengthAdjust=\"spacingAndGlyphs\" textLength=\"57\" x=\"358\" y=\"128.4269\">«satisfy»</text></a><!--MD5=[d53cb08dffc8689d16e38c8e194e9adc]\n",
       "link E12 to E14--><a href=\"psysml:f5704f7b-2601-4abd-90b0-2ec51a978e80\" target=\"_top\" title=\"psysml:f5704f7b-2601-4abd-90b0-2ec51a978e80\" xlink:actuate=\"onRequest\" xlink:href=\"psysml:f5704f7b-2601-4abd-90b0-2ec51a978e80\" xlink:show=\"new\" xlink:title=\"psysml:f5704f7b-2601-4abd-90b0-2ec51a978e80\" xlink:type=\"simple\"><path d=\"M216.1729,143.476 C216.2982,143.5336 216.4235,143.5912 216.5487,143.6488 C224.5675,147.3325 232.645,150.905 240.45,154.27 \" fill=\"none\" id=\"E12-&gt;E14\" style=\"stroke: #A80036; stroke-width: 1.0; stroke-dasharray: 7.0,7.0;\"/><polygon fill=\"#A80036\" points=\"245.26,156.33,238.5634,149.1081,240.6643,154.3604,235.412,156.4613,245.26,156.33\" style=\"stroke: #A80036; stroke-width: 1.0;\"/><text fill=\"#000000\" font-family=\"sans-serif\" font-size=\"13\" lengthAdjust=\"spacingAndGlyphs\" textLength=\"57\" x=\"194\" y=\"128.4269\">«satisfy»</text></a><!--MD5=[076ac7f3f6c23443c5691124e8c98aeb]\n",
       "@startuml\r\n",
       "skinparam ranksep 10\r\n",
       "skinparam rectangle {\r\n",
       " backgroundColor<<block>> LightGreen\r\n",
       "}\r\n",
       " \r\n",
       "package \"RequirementTest\" as E1  [[psysml:2a075407-fc8d-47b4-b4de-e1839d24b848 ]]  {\r\n",
       "def \"C\" as E2 << <<(D,brown) constraint  def>> [[psysml:8e8b9929-fb62-44f3-bb6e-73f88688eaf1 ]] \r\n",
       "comp usage \"c: C \" as E3 << <<(U,orange) constraint>> [[psysml:8dab2afb-478b-48f2-a7f7-bb2b245c05ea ]] {\r\n",
       "}\r\n",
       "comp def \"R\" as E4 << <<(D,brown) requirement  def>> [[psysml:cae76f8a-948f-454f-8648-301efab5060e ]] {\r\n",
       "\r\n",
       "- -\r\n",
       "}\r\n",
       "comp usage \"<s>noname</s>\" as E7 << <<(U,orange) requirement>> [[psysml:70e6cc11-a878-4419-9a48-d32cb5df9816 ]] {\r\n",
       "}\r\n",
       "comp def \" [<b>1</b>] A\" as E8 << <<(D,brown) requirement  def>> [[psysml:5c5c4776-1d3a-4700-8516-1d3a67d779f4 ]] {\r\n",
       "Text\r\n",
       "- -\r\n",
       "}\r\n",
       "comp def \"R1\" as E9 << <<(D,brown) requirement  def>> [[psysml:f2fc2205-4b84-4313-b340-24ee025c15cf ]] {\r\n",
       "}\r\n",
       "rec usage \"p\" as E11  [[psysml:4203d305-f881-4dfa-bcc5-a82b5aac35c4 ]] {\r\n",
       "}\r\n",
       "rec usage \"q\" as E12  [[psysml:d0dbee69-5f2e-4ac4-ba4b-4aca7380bae7 ]] {\r\n",
       "comp usage \"r: R \" as E13 << <<(U,orange) requirement>> [[psysml:aee31540-9ea4-41ee-8ebb-8555bfaf03fb ]] {\r\n",
       "}\r\n",
       "}\r\n",
       "comp usage \"r1: R1 \" as E14 << <<(U,orange) requirement>> [[psysml:5c4fb90e-2e7f-411e-8437-1e0e9b0bd00e ]] {\r\n",
       "}\r\n",
       "}\r\n",
       "E3 - -:|> E2 [[psysml:1cfa9d08-8b1e-49ae-8f22-7ec5c2d68c94 ]] \r\n",
       "E4 *- - \"*\"E7 [[psysml:8957256b-d423-4c87-844e-8026b3f5c553 ]] \r\n",
       "E4 +- - E8 [[psysml:e7993699-2e90-4c6e-9ce7-c90f60868f83 ]] \r\n",
       "E13 - -:|> E4 [[psysml:e01bb7f1-206a-408f-a898-0799ec242df4 ]] \r\n",
       "E11 ..> E13 [[psysml:e806deaf-0ce2-4d10-9e57-833502fc32ee ]] : <<satisfy>>\r\n",
       "E12 ..> E13 [[psysml:f5a4eec3-f375-4f03-819b-6c5c8dc7728c ]] : <<satisfy>>\r\n",
       "E14 - -:|> E9 [[psysml:d6ece11e-fb98-4dd6-9106-0f6846b0bd9f ]] \r\n",
       "E11 ..> E14 [[psysml:feaea2f2-720b-4dbc-ba1d-0aec40f00046 ]] : <<satisfy>>\r\n",
       "E12 ..> E14 [[psysml:f5704f7b-2601-4abd-90b0-2ec51a978e80 ]] : <<satisfy>>\r\n",
       "@enduml\r\n",
       "\n",
       "PlantUML version 1.2020.13(Sat Jun 13 12:26:38 UTC 2020)\n",
       "(EPL source distribution)\n",
       "Java Runtime: OpenJDK Runtime Environment\n",
       "JVM: OpenJDK 64-Bit Server VM\n",
       "Default Encoding: UTF-8\n",
       "Language: en\n",
       "Country: null\n",
       "--></g></svg>"
      ]
     },
     "execution_count": 33,
     "metadata": {},
     "output_type": "execute_result"
    }
   ],
   "source": [
    "%viz --style=\"PLANTUML\" --view=\"Interconnection\" \"RequirementTest\""
   ]
  },
  {
   "cell_type": "code",
   "execution_count": 34,
   "id": "a8a000c0",
   "metadata": {
    "execution": {
     "iopub.execute_input": "2021-10-25T08:21:14.188057Z",
     "iopub.status.busy": "2021-10-25T08:21:14.187631Z",
     "iopub.status.idle": "2021-10-25T08:21:14.193195Z",
     "shell.execute_reply": "2021-10-25T08:21:14.192853Z"
    }
   },
   "outputs": [
    {
     "data": {
      "image/svg+xml": [
       "<?xml version=\"1.0\" encoding=\"UTF-8\" standalone=\"no\"?><svg xmlns=\"http://www.w3.org/2000/svg\" xmlns:xlink=\"http://www.w3.org/1999/xlink\" contentScriptType=\"application/ecmascript\" contentStyleType=\"text/css\" height=\"12px\" preserveAspectRatio=\"none\" style=\"width:12px;height:12px;\" version=\"1.1\" viewBox=\"0 0 12 12\" width=\"12px\" zoomAndPan=\"magnify\"><defs/><g><!--MD5=[6a4cb978cab31700e1ce5529f947a75d]\n",
       "@startuml\r\n",
       "skinparam ranksep 8\r\n",
       " \r\n",
       "@enduml\r\n",
       "\n",
       "PlantUML version 1.2020.13(Sat Jun 13 12:26:38 UTC 2020)\n",
       "(EPL source distribution)\n",
       "Java Runtime: OpenJDK Runtime Environment\n",
       "JVM: OpenJDK 64-Bit Server VM\n",
       "Default Encoding: UTF-8\n",
       "Language: en\n",
       "Country: null\n",
       "--></g></svg>"
      ]
     },
     "execution_count": 34,
     "metadata": {},
     "output_type": "execute_result"
    }
   ],
   "source": [
    "%viz --style=\"PLANTUML\" --view=\"Action\" \"RequirementTest\""
   ]
  },
  {
   "cell_type": "code",
   "execution_count": 35,
   "id": "cc9ab97c",
   "metadata": {
    "execution": {
     "iopub.execute_input": "2021-10-25T08:21:14.242920Z",
     "iopub.status.busy": "2021-10-25T08:21:14.242483Z",
     "iopub.status.idle": "2021-10-25T08:21:14.247918Z",
     "shell.execute_reply": "2021-10-25T08:21:14.247582Z"
    }
   },
   "outputs": [
    {
     "data": {
      "image/svg+xml": [
       "<?xml version=\"1.0\" encoding=\"UTF-8\" standalone=\"no\"?><svg xmlns=\"http://www.w3.org/2000/svg\" xmlns:xlink=\"http://www.w3.org/1999/xlink\" contentScriptType=\"application/ecmascript\" contentStyleType=\"text/css\" height=\"12px\" preserveAspectRatio=\"none\" style=\"width:12px;height:12px;\" version=\"1.1\" viewBox=\"0 0 12 12\" width=\"12px\" zoomAndPan=\"magnify\"><defs/><g><!--MD5=[ca4faa0b02def275ea33c14ea7a1a98d]\n",
       "@startuml\r\n",
       "skinparam roundcorner 20\r\n",
       "skinparam BoxPadding 20\r\n",
       "skinparam SequenceBoxBackgroundColor #white\r\n",
       "skinparam style strictuml\r\n",
       "skinparam maxMessageSize 100\r\n",
       " \r\n",
       "@enduml\r\n",
       "\n",
       "PlantUML version 1.2020.13(Sat Jun 13 12:26:38 UTC 2020)\n",
       "(EPL source distribution)\n",
       "Java Runtime: OpenJDK Runtime Environment\n",
       "JVM: OpenJDK 64-Bit Server VM\n",
       "Default Encoding: UTF-8\n",
       "Language: en\n",
       "Country: null\n",
       "--></g></svg>"
      ]
     },
     "execution_count": 35,
     "metadata": {},
     "output_type": "execute_result"
    }
   ],
   "source": [
    "%viz --style=\"PLANTUML\" --view=\"Sequence\" \"RequirementTest\""
   ]
  },
  {
   "cell_type": "code",
   "execution_count": 36,
   "id": "f2df4794",
   "metadata": {
    "execution": {
     "iopub.execute_input": "2021-10-25T08:21:14.297518Z",
     "iopub.status.busy": "2021-10-25T08:21:14.297109Z",
     "iopub.status.idle": "2021-10-25T08:21:14.351099Z",
     "shell.execute_reply": "2021-10-25T08:21:14.349074Z"
    }
   },
   "outputs": [
    {
     "data": {
      "image/svg+xml": [
       "<?xml version=\"1.0\" encoding=\"UTF-8\" standalone=\"no\"?><svg xmlns=\"http://www.w3.org/2000/svg\" xmlns:xlink=\"http://www.w3.org/1999/xlink\" contentScriptType=\"application/ecmascript\" contentStyleType=\"text/css\" height=\"494px\" preserveAspectRatio=\"none\" style=\"width:513px;height:494px;\" version=\"1.1\" viewBox=\"0 0 513 494\" width=\"513px\" zoomAndPan=\"magnify\"><defs><filter height=\"300%\" id=\"f1kfdmib3tl9zi\" width=\"300%\" x=\"-1\" y=\"-1\"><feGaussianBlur result=\"blurOut\" stdDeviation=\"2.0\"/><feColorMatrix in=\"blurOut\" result=\"blurOut2\" type=\"matrix\" values=\"0 0 0 0 0 0 0 0 0 0 0 0 0 0 0 0 0 0 .4 0\"/><feOffset dx=\"4.0\" dy=\"4.0\" in=\"blurOut2\" result=\"blurOut3\"/><feBlend in=\"SourceGraphic\" in2=\"blurOut3\" mode=\"normal\"/></filter></defs><g><!--MD5=[fbc87193dbaf4d95561dea2c320d4a47]\n",
       "cluster E1--><a href=\"psysml:2a075407-fc8d-47b4-b4de-e1839d24b848\" target=\"_top\" title=\"psysml:2a075407-fc8d-47b4-b4de-e1839d24b848\" xlink:actuate=\"onRequest\" xlink:href=\"psysml:2a075407-fc8d-47b4-b4de-e1839d24b848\" xlink:show=\"new\" xlink:title=\"psysml:2a075407-fc8d-47b4-b4de-e1839d24b848\" xlink:type=\"simple\"><polygon fill=\"#FFFFFF\" filter=\"url(#f1kfdmib3tl9zi)\" points=\"16,6,143,6,150,28.2969,491,28.2969,491,482,16,482,16,6\" style=\"stroke: #000000; stroke-width: 1.5;\"/><line style=\"stroke: #000000; stroke-width: 1.5;\" x1=\"16\" x2=\"150\" y1=\"28.2969\" y2=\"28.2969\"/><text fill=\"#000000\" font-family=\"sans-serif\" font-size=\"14\" font-weight=\"bold\" lengthAdjust=\"spacingAndGlyphs\" textLength=\"121\" x=\"20\" y=\"20.9951\">RequirementTest</text></a><!--MD5=[b4997ac47864f28c2f74865a473b2911]\n",
       "class E2--><a href=\"psysml:8e8b9929-fb62-44f3-bb6e-73f88688eaf1\" target=\"_top\" title=\"psysml:8e8b9929-fb62-44f3-bb6e-73f88688eaf1\" xlink:actuate=\"onRequest\" xlink:href=\"psysml:8e8b9929-fb62-44f3-bb6e-73f88688eaf1\" xlink:show=\"new\" xlink:title=\"psysml:8e8b9929-fb62-44f3-bb6e-73f88688eaf1\" xlink:type=\"simple\"><rect fill=\"#FEFECE\" filter=\"url(#f1kfdmib3tl9zi)\" height=\"45.9375\" id=\"E2\" style=\"stroke: #A80036; stroke-width: 1.5;\" width=\"134\" x=\"341\" y=\"164\"/><ellipse cx=\"356\" cy=\"182.9688\" fill=\"#A52A2A\" rx=\"11\" ry=\"11\" style=\"stroke: #A80036; stroke-width: 1.0;\"/><path d=\"M353.2188,187.9688 L353.2188,177.375 L355.9531,177.375 Q357.3438,177.375 358.1094,177.7656 Q358.8906,178.1406 359.4219,178.8438 Q359.9531,179.5469 360.25,180.5469 Q360.5469,181.5313 360.5469,182.75 Q360.5,184.3438 360,185.5313 Q359.5156,186.7031 358.4688,187.3438 Q357.4375,187.9688 355.75,187.9688 L353.2188,187.9688 Z M355.0781,186.4688 L355.7031,186.4688 Q356.7813,186.4688 357.4375,186.0156 Q358.0938,185.5625 358.375,184.7344 Q358.6719,183.8906 358.6563,182.7656 Q358.6563,181.5938 358.4063,180.7344 Q358.1563,179.8594 357.5469,179.3906 Q356.9375,178.9063 355.8906,178.9063 L355.0781,178.9063 L355.0781,186.4688 Z \"/><text fill=\"#000000\" font-family=\"sans-serif\" font-size=\"12\" font-style=\"italic\" lengthAdjust=\"spacingAndGlyphs\" textLength=\"106\" x=\"368\" y=\"180.1387\">«constraint  def»</text><text fill=\"#000000\" font-family=\"sans-serif\" font-size=\"12\" lengthAdjust=\"spacingAndGlyphs\" textLength=\"8\" x=\"417\" y=\"194.1074\">C</text><line style=\"stroke: #A80036; stroke-width: 1.5;\" x1=\"342\" x2=\"474\" y1=\"201.9375\" y2=\"201.9375\"/></a><!--MD5=[09b614a08d8cba4a07c9adeb5e0fee81]\n",
       "class E3--><a href=\"psysml:8dab2afb-478b-48f2-a7f7-bb2b245c05ea\" target=\"_top\" title=\"psysml:8dab2afb-478b-48f2-a7f7-bb2b245c05ea\" xlink:actuate=\"onRequest\" xlink:href=\"psysml:8dab2afb-478b-48f2-a7f7-bb2b245c05ea\" xlink:show=\"new\" xlink:title=\"psysml:8dab2afb-478b-48f2-a7f7-bb2b245c05ea\" xlink:type=\"simple\"><rect fill=\"#FEFECE\" filter=\"url(#f1kfdmib3tl9zi)\" height=\"45.9375\" id=\"E3\" rx=\"10\" ry=\"10\" style=\"stroke: #A80036; stroke-width: 1.5;\" width=\"106\" x=\"369\" y=\"41\"/><ellipse cx=\"384\" cy=\"59.9688\" fill=\"#FFA500\" rx=\"11\" ry=\"11\" style=\"stroke: #A80036; stroke-width: 1.0;\"/><path d=\"M383.75,65.4375 Q382,65.4375 381.0469,64.4063 Q380.1094,63.3594 380.1094,61.5156 L380.1094,54.625 L382.1719,54.625 L382.1719,54.7813 Q382.0781,54.875 382.0469,55.0156 Q382.0313,55.1406 382.0313,55.4063 L382.0313,61.5313 Q382.0313,62.625 382.4063,63.25 Q382.7813,63.875 383.7656,63.875 Q384.75,63.875 385.1406,63.25 Q385.5313,62.625 385.5313,61.4844 L385.5313,54.625 L387.4063,54.625 L387.4063,61.4688 Q387.4063,63.5 386.375,64.4688 Q385.3594,65.4375 383.75,65.4375 Z \"/><text fill=\"#000000\" font-family=\"sans-serif\" font-size=\"12\" font-style=\"italic\" lengthAdjust=\"spacingAndGlyphs\" textLength=\"78\" x=\"396\" y=\"57.1387\">«constraint»</text><text fill=\"#000000\" font-family=\"sans-serif\" font-size=\"12\" lengthAdjust=\"spacingAndGlyphs\" textLength=\"23\" x=\"421.5\" y=\"71.1074\">c: C</text><line style=\"stroke: #A80036; stroke-width: 1.5;\" x1=\"370\" x2=\"474\" y1=\"78.9375\" y2=\"78.9375\"/></a><!--MD5=[ebbe1d658d1005bcc118a6aa81145e00]\n",
       "class E4--><a href=\"psysml:cae76f8a-948f-454f-8648-301efab5060e\" target=\"_top\" title=\"psysml:cae76f8a-948f-454f-8648-301efab5060e\" xlink:actuate=\"onRequest\" xlink:href=\"psysml:cae76f8a-948f-454f-8648-301efab5060e\" xlink:show=\"new\" xlink:title=\"psysml:cae76f8a-948f-454f-8648-301efab5060e\" xlink:type=\"simple\"><rect fill=\"#FEFECE\" filter=\"url(#f1kfdmib3tl9zi)\" height=\"66.7422\" id=\"E4\" style=\"stroke: #A80036; stroke-width: 1.5;\" width=\"147\" x=\"214.5\" y=\"271\"/><ellipse cx=\"229.5\" cy=\"289.9688\" fill=\"#A52A2A\" rx=\"11\" ry=\"11\" style=\"stroke: #A80036; stroke-width: 1.0;\"/><path d=\"M226.7188,294.9688 L226.7188,284.375 L229.4531,284.375 Q230.8438,284.375 231.6094,284.7656 Q232.3906,285.1406 232.9219,285.8438 Q233.4531,286.5469 233.75,287.5469 Q234.0469,288.5313 234.0469,289.75 Q234,291.3438 233.5,292.5313 Q233.0156,293.7031 231.9688,294.3438 Q230.9375,294.9688 229.25,294.9688 L226.7188,294.9688 Z M228.5781,293.4688 L229.2031,293.4688 Q230.2813,293.4688 230.9375,293.0156 Q231.5938,292.5625 231.875,291.7344 Q232.1719,290.8906 232.1563,289.7656 Q232.1563,288.5938 231.9063,287.7344 Q231.6563,286.8594 231.0469,286.3906 Q230.4375,285.9063 229.3906,285.9063 L228.5781,285.9063 L228.5781,293.4688 Z \"/><text fill=\"#000000\" font-family=\"sans-serif\" font-size=\"12\" font-style=\"italic\" lengthAdjust=\"spacingAndGlyphs\" textLength=\"119\" x=\"241.5\" y=\"287.1387\">«requirement  def»</text><text fill=\"#000000\" font-family=\"sans-serif\" font-size=\"12\" lengthAdjust=\"spacingAndGlyphs\" textLength=\"8\" x=\"297\" y=\"301.1074\">R</text><line style=\"stroke: #A80036; stroke-width: 1.5;\" x1=\"215.5\" x2=\"360.5\" y1=\"308.9375\" y2=\"308.9375\"/><text fill=\"#000000\" font-family=\"sans-serif\" font-size=\"11\" lengthAdjust=\"spacingAndGlyphs\" textLength=\"0\" x=\"224.5\" y=\"323.1479\"/><line style=\"stroke: #A80036; stroke-width: 1.0;\" x1=\"215.5\" x2=\"360.5\" y1=\"329.7422\" y2=\"329.7422\"/></a><!--MD5=[2156ba9850f5573cc1fc38a6a4b2f02b]\n",
       "class E7--><a href=\"psysml:70e6cc11-a878-4419-9a48-d32cb5df9816\" target=\"_top\" title=\"psysml:70e6cc11-a878-4419-9a48-d32cb5df9816\" xlink:actuate=\"onRequest\" xlink:href=\"psysml:70e6cc11-a878-4419-9a48-d32cb5df9816\" xlink:show=\"new\" xlink:title=\"psysml:70e6cc11-a878-4419-9a48-d32cb5df9816\" xlink:type=\"simple\"><rect fill=\"#FEFECE\" filter=\"url(#f1kfdmib3tl9zi)\" height=\"45.9375\" id=\"E7\" rx=\"10\" ry=\"10\" style=\"stroke: #A80036; stroke-width: 1.5;\" width=\"119\" x=\"144.5\" y=\"409.5\"/><ellipse cx=\"159.5\" cy=\"428.4688\" fill=\"#FFA500\" rx=\"11\" ry=\"11\" style=\"stroke: #A80036; stroke-width: 1.0;\"/><path d=\"M159.25,433.9375 Q157.5,433.9375 156.5469,432.9063 Q155.6094,431.8594 155.6094,430.0156 L155.6094,423.125 L157.6719,423.125 L157.6719,423.2813 Q157.5781,423.375 157.5469,423.5156 Q157.5313,423.6406 157.5313,423.9063 L157.5313,430.0313 Q157.5313,431.125 157.9063,431.75 Q158.2813,432.375 159.2656,432.375 Q160.25,432.375 160.6406,431.75 Q161.0313,431.125 161.0313,429.9844 L161.0313,423.125 L162.9063,423.125 L162.9063,429.9688 Q162.9063,432 161.875,432.9688 Q160.8594,433.9375 159.25,433.9375 Z \"/><text fill=\"#000000\" font-family=\"sans-serif\" font-size=\"12\" font-style=\"italic\" lengthAdjust=\"spacingAndGlyphs\" textLength=\"91\" x=\"171.5\" y=\"425.6387\">«requirement»</text><text fill=\"#000000\" font-family=\"sans-serif\" font-size=\"12\" lengthAdjust=\"spacingAndGlyphs\" text-decoration=\"line-through\" textLength=\"51\" x=\"191.5\" y=\"439.6074\">noname</text><line style=\"stroke: #A80036; stroke-width: 1.5;\" x1=\"145.5\" x2=\"262.5\" y1=\"447.4375\" y2=\"447.4375\"/></a><!--MD5=[b9389687b975829384b498ac4b7476b2]\n",
       "class E8--><a href=\"psysml:5c5c4776-1d3a-4700-8516-1d3a67d779f4\" target=\"_top\" title=\"psysml:5c5c4776-1d3a-4700-8516-1d3a67d779f4\" xlink:actuate=\"onRequest\" xlink:href=\"psysml:5c5c4776-1d3a-4700-8516-1d3a67d779f4\" xlink:show=\"new\" xlink:title=\"psysml:5c5c4776-1d3a-4700-8516-1d3a67d779f4\" xlink:type=\"simple\"><rect fill=\"#FEFECE\" filter=\"url(#f1kfdmib3tl9zi)\" height=\"66.7422\" id=\"E8\" style=\"stroke: #A80036; stroke-width: 1.5;\" width=\"147\" x=\"298.5\" y=\"399\"/><ellipse cx=\"313.5\" cy=\"417.9688\" fill=\"#A52A2A\" rx=\"11\" ry=\"11\" style=\"stroke: #A80036; stroke-width: 1.0;\"/><path d=\"M310.7188,422.9688 L310.7188,412.375 L313.4531,412.375 Q314.8438,412.375 315.6094,412.7656 Q316.3906,413.1406 316.9219,413.8438 Q317.4531,414.5469 317.75,415.5469 Q318.0469,416.5313 318.0469,417.75 Q318,419.3438 317.5,420.5313 Q317.0156,421.7031 315.9688,422.3438 Q314.9375,422.9688 313.25,422.9688 L310.7188,422.9688 Z M312.5781,421.4688 L313.2031,421.4688 Q314.2813,421.4688 314.9375,421.0156 Q315.5938,420.5625 315.875,419.7344 Q316.1719,418.8906 316.1563,417.7656 Q316.1563,416.5938 315.9063,415.7344 Q315.6563,414.8594 315.0469,414.3906 Q314.4375,413.9063 313.3906,413.9063 L312.5781,413.9063 L312.5781,421.4688 Z \"/><text fill=\"#000000\" font-family=\"sans-serif\" font-size=\"12\" font-style=\"italic\" lengthAdjust=\"spacingAndGlyphs\" textLength=\"119\" x=\"325.5\" y=\"415.1387\">«requirement  def»</text><text fill=\"#000000\" font-family=\"sans-serif\" font-size=\"12\" lengthAdjust=\"spacingAndGlyphs\" textLength=\"5\" x=\"372\" y=\"429.1074\">[</text><text fill=\"#000000\" font-family=\"sans-serif\" font-size=\"12\" font-weight=\"bold\" lengthAdjust=\"spacingAndGlyphs\" textLength=\"8\" x=\"377\" y=\"429.1074\">1</text><text fill=\"#000000\" font-family=\"sans-serif\" font-size=\"12\" lengthAdjust=\"spacingAndGlyphs\" textLength=\"17\" x=\"385\" y=\"429.1074\">] A</text><line style=\"stroke: #A80036; stroke-width: 1.5;\" x1=\"299.5\" x2=\"444.5\" y1=\"436.9375\" y2=\"436.9375\"/><text fill=\"#000000\" font-family=\"sans-serif\" font-size=\"11\" lengthAdjust=\"spacingAndGlyphs\" textLength=\"24\" x=\"304.5\" y=\"451.1479\">Text</text><line style=\"stroke: #A80036; stroke-width: 1.0;\" x1=\"299.5\" x2=\"444.5\" y1=\"457.7422\" y2=\"457.7422\"/></a><!--MD5=[fd4143e9d270a159db93a4ea2a975926]\n",
       "class E9--><a href=\"psysml:f2fc2205-4b84-4313-b340-24ee025c15cf\" target=\"_top\" title=\"psysml:f2fc2205-4b84-4313-b340-24ee025c15cf\" xlink:actuate=\"onRequest\" xlink:href=\"psysml:f2fc2205-4b84-4313-b340-24ee025c15cf\" xlink:show=\"new\" xlink:title=\"psysml:f2fc2205-4b84-4313-b340-24ee025c15cf\" xlink:type=\"simple\"><rect fill=\"#FEFECE\" filter=\"url(#f1kfdmib3tl9zi)\" height=\"45.9375\" id=\"E9\" style=\"stroke: #A80036; stroke-width: 1.5;\" width=\"147\" x=\"32.5\" y=\"281.5\"/><ellipse cx=\"47.5\" cy=\"300.4688\" fill=\"#A52A2A\" rx=\"11\" ry=\"11\" style=\"stroke: #A80036; stroke-width: 1.0;\"/><path d=\"M44.7188,305.4688 L44.7188,294.875 L47.4531,294.875 Q48.8438,294.875 49.6094,295.2656 Q50.3906,295.6406 50.9219,296.3438 Q51.4531,297.0469 51.75,298.0469 Q52.0469,299.0313 52.0469,300.25 Q52,301.8438 51.5,303.0313 Q51.0156,304.2031 49.9688,304.8438 Q48.9375,305.4688 47.25,305.4688 L44.7188,305.4688 Z M46.5781,303.9688 L47.2031,303.9688 Q48.2813,303.9688 48.9375,303.5156 Q49.5938,303.0625 49.875,302.2344 Q50.1719,301.3906 50.1563,300.2656 Q50.1563,299.0938 49.9063,298.2344 Q49.6563,297.3594 49.0469,296.8906 Q48.4375,296.4063 47.3906,296.4063 L46.5781,296.4063 L46.5781,303.9688 Z \"/><text fill=\"#000000\" font-family=\"sans-serif\" font-size=\"12\" font-style=\"italic\" lengthAdjust=\"spacingAndGlyphs\" textLength=\"119\" x=\"59.5\" y=\"297.6387\">«requirement  def»</text><text fill=\"#000000\" font-family=\"sans-serif\" font-size=\"12\" lengthAdjust=\"spacingAndGlyphs\" textLength=\"16\" x=\"111\" y=\"311.6074\">R1</text><line style=\"stroke: #A80036; stroke-width: 1.5;\" x1=\"33.5\" x2=\"178.5\" y1=\"319.4375\" y2=\"319.4375\"/></a><!--MD5=[1dd1bfd58a279cf63c5f349dbc8fc6a1]\n",
       "class E11--><a href=\"psysml:4203d305-f881-4dfa-bcc5-a82b5aac35c4\" target=\"_top\" title=\"psysml:4203d305-f881-4dfa-bcc5-a82b5aac35c4\" xlink:actuate=\"onRequest\" xlink:href=\"psysml:4203d305-f881-4dfa-bcc5-a82b5aac35c4\" xlink:show=\"new\" xlink:title=\"psysml:4203d305-f881-4dfa-bcc5-a82b5aac35c4\" xlink:type=\"simple\"><rect fill=\"#FEFECE\" filter=\"url(#f1kfdmib3tl9zi)\" height=\"45.9375\" id=\"E11\" rx=\"10\" ry=\"10\" style=\"stroke: #A80036; stroke-width: 1.5;\" width=\"68\" x=\"82\" y=\"41\"/><ellipse cx=\"97\" cy=\"59.9688\" fill=\"#32CD32\" rx=\"11\" ry=\"11\" style=\"stroke: #A80036; stroke-width: 1.0;\"/><path d=\"M93.8125,64.9688 L93.8125,54.375 L97.4219,54.375 Q98.6406,54.375 99.4375,54.8125 Q100.2344,55.2344 100.6094,55.9375 Q101,56.6406 101,57.4844 Q101,58.3281 100.625,59.0156 Q100.2656,59.7031 99.4688,60.125 Q98.6875,60.5313 97.5,60.5313 L95.7656,60.5313 L95.7656,64.9688 L93.8125,64.9688 Z M95.7656,58.9375 L97.375,58.9375 Q98.1875,58.9375 98.6094,58.5313 Q99.0313,58.125 99.0313,57.4844 Q99.0313,56.8594 98.6094,56.4531 Q98.1875,56.0469 97.3906,56.0469 L95.7656,56.0469 L95.7656,58.9375 Z \"/><text fill=\"#000000\" font-family=\"sans-serif\" font-size=\"12\" font-style=\"italic\" lengthAdjust=\"spacingAndGlyphs\" textLength=\"40\" x=\"109\" y=\"57.1387\">«part»</text><text fill=\"#000000\" font-family=\"sans-serif\" font-size=\"12\" lengthAdjust=\"spacingAndGlyphs\" textLength=\"8\" x=\"125\" y=\"71.1074\">p</text><line style=\"stroke: #A80036; stroke-width: 1.5;\" x1=\"83\" x2=\"149\" y1=\"78.9375\" y2=\"78.9375\"/></a><!--MD5=[49a0ec8f00dab7302a31f22d0f0fe584]\n",
       "class E12--><a href=\"psysml:d0dbee69-5f2e-4ac4-ba4b-4aca7380bae7\" target=\"_top\" title=\"psysml:d0dbee69-5f2e-4ac4-ba4b-4aca7380bae7\" xlink:actuate=\"onRequest\" xlink:href=\"psysml:d0dbee69-5f2e-4ac4-ba4b-4aca7380bae7\" xlink:show=\"new\" xlink:title=\"psysml:d0dbee69-5f2e-4ac4-ba4b-4aca7380bae7\" xlink:type=\"simple\"><rect fill=\"#FEFECE\" filter=\"url(#f1kfdmib3tl9zi)\" height=\"45.9375\" id=\"E12\" rx=\"10\" ry=\"10\" style=\"stroke: #A80036; stroke-width: 1.5;\" width=\"68\" x=\"266\" y=\"41\"/><ellipse cx=\"281\" cy=\"59.9688\" fill=\"#32CD32\" rx=\"11\" ry=\"11\" style=\"stroke: #A80036; stroke-width: 1.0;\"/><path d=\"M277.8125,64.9688 L277.8125,54.375 L281.4219,54.375 Q282.6406,54.375 283.4375,54.8125 Q284.2344,55.2344 284.6094,55.9375 Q285,56.6406 285,57.4844 Q285,58.3281 284.625,59.0156 Q284.2656,59.7031 283.4688,60.125 Q282.6875,60.5313 281.5,60.5313 L279.7656,60.5313 L279.7656,64.9688 L277.8125,64.9688 Z M279.7656,58.9375 L281.375,58.9375 Q282.1875,58.9375 282.6094,58.5313 Q283.0313,58.125 283.0313,57.4844 Q283.0313,56.8594 282.6094,56.4531 Q282.1875,56.0469 281.3906,56.0469 L279.7656,56.0469 L279.7656,58.9375 Z \"/><text fill=\"#000000\" font-family=\"sans-serif\" font-size=\"12\" font-style=\"italic\" lengthAdjust=\"spacingAndGlyphs\" textLength=\"40\" x=\"293\" y=\"57.1387\">«part»</text><text fill=\"#000000\" font-family=\"sans-serif\" font-size=\"12\" lengthAdjust=\"spacingAndGlyphs\" textLength=\"8\" x=\"309\" y=\"71.1074\">q</text><line style=\"stroke: #A80036; stroke-width: 1.5;\" x1=\"267\" x2=\"333\" y1=\"78.9375\" y2=\"78.9375\"/></a><!--MD5=[ee3c913d1a06f366521f9ef512b67efe]\n",
       "class E13--><a href=\"psysml:aee31540-9ea4-41ee-8ebb-8555bfaf03fb\" target=\"_top\" title=\"psysml:aee31540-9ea4-41ee-8ebb-8555bfaf03fb\" xlink:actuate=\"onRequest\" xlink:href=\"psysml:aee31540-9ea4-41ee-8ebb-8555bfaf03fb\" xlink:show=\"new\" xlink:title=\"psysml:aee31540-9ea4-41ee-8ebb-8555bfaf03fb\" xlink:type=\"simple\"><rect fill=\"#FEFECE\" filter=\"url(#f1kfdmib3tl9zi)\" height=\"45.9375\" id=\"E13\" rx=\"10\" ry=\"10\" style=\"stroke: #A80036; stroke-width: 1.5;\" width=\"119\" x=\"186.5\" y=\"164\"/><ellipse cx=\"201.5\" cy=\"182.9688\" fill=\"#FFA500\" rx=\"11\" ry=\"11\" style=\"stroke: #A80036; stroke-width: 1.0;\"/><path d=\"M201.25,188.4375 Q199.5,188.4375 198.5469,187.4063 Q197.6094,186.3594 197.6094,184.5156 L197.6094,177.625 L199.6719,177.625 L199.6719,177.7813 Q199.5781,177.875 199.5469,178.0156 Q199.5313,178.1406 199.5313,178.4063 L199.5313,184.5313 Q199.5313,185.625 199.9063,186.25 Q200.2813,186.875 201.2656,186.875 Q202.25,186.875 202.6406,186.25 Q203.0313,185.625 203.0313,184.4844 L203.0313,177.625 L204.9063,177.625 L204.9063,184.4688 Q204.9063,186.5 203.875,187.4688 Q202.8594,188.4375 201.25,188.4375 Z \"/><text fill=\"#000000\" font-family=\"sans-serif\" font-size=\"12\" font-style=\"italic\" lengthAdjust=\"spacingAndGlyphs\" textLength=\"91\" x=\"213.5\" y=\"180.1387\">«requirement»</text><text fill=\"#000000\" font-family=\"sans-serif\" font-size=\"12\" lengthAdjust=\"spacingAndGlyphs\" textLength=\"21\" x=\"246.5\" y=\"194.1074\">r: R</text><line style=\"stroke: #A80036; stroke-width: 1.5;\" x1=\"187.5\" x2=\"304.5\" y1=\"201.9375\" y2=\"201.9375\"/></a><!--MD5=[bee11217b2f71d958a27249dc326068c]\n",
       "class E14--><a href=\"psysml:5c4fb90e-2e7f-411e-8437-1e0e9b0bd00e\" target=\"_top\" title=\"psysml:5c4fb90e-2e7f-411e-8437-1e0e9b0bd00e\" xlink:actuate=\"onRequest\" xlink:href=\"psysml:5c4fb90e-2e7f-411e-8437-1e0e9b0bd00e\" xlink:show=\"new\" xlink:title=\"psysml:5c4fb90e-2e7f-411e-8437-1e0e9b0bd00e\" xlink:type=\"simple\"><rect fill=\"#FEFECE\" filter=\"url(#f1kfdmib3tl9zi)\" height=\"45.9375\" id=\"E14\" rx=\"10\" ry=\"10\" style=\"stroke: #A80036; stroke-width: 1.5;\" width=\"119\" x=\"32.5\" y=\"164\"/><ellipse cx=\"47.5\" cy=\"182.9688\" fill=\"#FFA500\" rx=\"11\" ry=\"11\" style=\"stroke: #A80036; stroke-width: 1.0;\"/><path d=\"M47.25,188.4375 Q45.5,188.4375 44.5469,187.4063 Q43.6094,186.3594 43.6094,184.5156 L43.6094,177.625 L45.6719,177.625 L45.6719,177.7813 Q45.5781,177.875 45.5469,178.0156 Q45.5313,178.1406 45.5313,178.4063 L45.5313,184.5313 Q45.5313,185.625 45.9063,186.25 Q46.2813,186.875 47.2656,186.875 Q48.25,186.875 48.6406,186.25 Q49.0313,185.625 49.0313,184.4844 L49.0313,177.625 L50.9063,177.625 L50.9063,184.4688 Q50.9063,186.5 49.875,187.4688 Q48.8594,188.4375 47.25,188.4375 Z \"/><text fill=\"#000000\" font-family=\"sans-serif\" font-size=\"12\" font-style=\"italic\" lengthAdjust=\"spacingAndGlyphs\" textLength=\"91\" x=\"59.5\" y=\"180.1387\">«requirement»</text><text fill=\"#000000\" font-family=\"sans-serif\" font-size=\"12\" lengthAdjust=\"spacingAndGlyphs\" textLength=\"37\" x=\"84.5\" y=\"194.1074\">r1: R1</text><line style=\"stroke: #A80036; stroke-width: 1.5;\" x1=\"33.5\" x2=\"150.5\" y1=\"201.9375\" y2=\"201.9375\"/></a><!--MD5=[05d275557350bfb9b23a4ef7222b4c39]\n",
       "link E3 to E2--><a href=\"psysml:1cfa9d08-8b1e-49ae-8f22-7ec5c2d68c94\" target=\"_top\" title=\"psysml:1cfa9d08-8b1e-49ae-8f22-7ec5c2d68c94\" xlink:actuate=\"onRequest\" xlink:href=\"psysml:1cfa9d08-8b1e-49ae-8f22-7ec5c2d68c94\" xlink:show=\"new\" xlink:title=\"psysml:1cfa9d08-8b1e-49ae-8f22-7ec5c2d68c94\" xlink:type=\"simple\"><path d=\"M428.68,87.21 C431.84,100.81 434.27,118.52 431,134 C430.22,137.68 429.17,141.41 427.93,145.11 \" fill=\"none\" id=\"E3-&gt;E2\" style=\"stroke: #A80036; stroke-width: 1.0;\"/><polygon fill=\"#FFFFFF\" points=\"420.21,163.91,420.955,143.6753,433.9048,148.9952,420.21,163.91\" style=\"stroke: #A80036; stroke-width: 1.0;\"/><ellipse cx=\"424.9709\" cy=\"139.1628\" fill=\"#A80036\" rx=\"2\" ry=\"2\" style=\"stroke: #A80036; stroke-width: 1.0;\"/><ellipse cx=\"434.2208\" cy=\"142.9628\" fill=\"#A80036\" rx=\"2\" ry=\"2\" style=\"stroke: #A80036; stroke-width: 1.0;\"/></a><!--MD5=[722ff4eef345aa10242dad44df0e98c7]\n",
       "reverse link E4 to E7--><a href=\"psysml:8957256b-d423-4c87-844e-8026b3f5c553\" target=\"_top\" title=\"psysml:8957256b-d423-4c87-844e-8026b3f5c553\" xlink:actuate=\"onRequest\" xlink:href=\"psysml:8957256b-d423-4c87-844e-8026b3f5c553\" xlink:show=\"new\" xlink:title=\"psysml:8957256b-d423-4c87-844e-8026b3f5c553\" xlink:type=\"simple\"><path d=\"M258.89,349.16 C245.4,369.41 229.93,392.6 218.86,409.21 \" fill=\"none\" id=\"E4&lt;-E7\" style=\"stroke: #A80036; stroke-width: 1.0;\"/><polygon fill=\"#A80036\" points=\"266.15,338.28,259.4928,341.0515,259.4906,348.2626,266.1478,345.4911,266.15,338.28\" style=\"stroke: #A80036; stroke-width: 1.0;\"/><text fill=\"#000000\" font-family=\"sans-serif\" font-size=\"13\" lengthAdjust=\"spacingAndGlyphs\" textLength=\"7\" x=\"214.771\" y=\"398.412\">*</text></a><!--MD5=[c6fc7cdb0cabde04948078cf183fa696]\n",
       "reverse link E4 to E8--><a href=\"psysml:e7993699-2e90-4c6e-9ce7-c90f60868f83\" target=\"_top\" title=\"psysml:e7993699-2e90-4c6e-9ce7-c90f60868f83\" xlink:actuate=\"onRequest\" xlink:href=\"psysml:e7993699-2e90-4c6e-9ce7-c90f60868f83\" xlink:show=\"new\" xlink:title=\"psysml:e7993699-2e90-4c6e-9ce7-c90f60868f83\" xlink:type=\"simple\"><path d=\"M318.4,351.09 C328.94,366.92 340.55,384.33 350.26,398.89 \" fill=\"none\" id=\"E4&lt;-E8\" style=\"stroke: #A80036; stroke-width: 1.0;\"/><ellipse cx=\"314.2894\" cy=\"344.9352\" fill=\"#FFFFFF\" rx=\"8\" ry=\"8\" style=\"stroke: #A80036; stroke-width: 1.0;\"/><line style=\"stroke: #A80036; stroke-width: 1.0;\" x1=\"318.7287\" x2=\"309.85\" y1=\"351.5905\" y2=\"338.28\"/><line style=\"stroke: #A80036; stroke-width: 1.0;\" x1=\"307.6341\" x2=\"320.9446\" y1=\"349.3746\" y2=\"340.4959\"/></a><!--MD5=[062ed86c389d1a88f61c6380d0491e17]\n",
       "reverse link E12 to E13--><a href=\"psysml:0f26ba0d-7372-4c44-875c-adf3c35e17b9\" target=\"_top\" title=\"psysml:0f26ba0d-7372-4c44-875c-adf3c35e17b9\" xlink:actuate=\"onRequest\" xlink:href=\"psysml:0f26ba0d-7372-4c44-875c-adf3c35e17b9\" xlink:show=\"new\" xlink:title=\"psysml:0f26ba0d-7372-4c44-875c-adf3c35e17b9\" xlink:type=\"simple\"><path d=\"M346.21,84.57 C348.17,85.39 350.1,86.2 352,87 C383.96,100.42 404.77,88.16 424,117 C428.19,123.29 428.53,127.95 424,134 C423.06,135.26 357.17,154.29 305.83,168.97 \" fill=\"none\" id=\"E12&lt;-E13\" style=\"stroke: #A80036; stroke-width: 1.0;\"/><polygon fill=\"#A80036\" points=\"334.11,79.46,338.0831,85.4778,345.1661,84.1249,341.1931,78.1071,334.11,79.46\" style=\"stroke: #A80036; stroke-width: 1.0;\"/></a><!--MD5=[e2a9ac97dcd3257bb5342dae06547bad]\n",
       "link E12 to E13--><a href=\"psysml:f5a4eec3-f375-4f03-819b-6c5c8dc7728c\" target=\"_top\" title=\"psysml:f5a4eec3-f375-4f03-819b-6c5c8dc7728c\" xlink:actuate=\"onRequest\" xlink:href=\"psysml:f5a4eec3-f375-4f03-819b-6c5c8dc7728c\" xlink:show=\"new\" xlink:title=\"psysml:f5a4eec3-f375-4f03-819b-6c5c8dc7728c\" xlink:type=\"simple\"><path d=\"M317.34,87.15 C325.98,101.04 333.04,119.08 325,134 C319.21,144.75 310.11,153.64 300.12,160.85 \" fill=\"none\" id=\"E12-&gt;E13\" style=\"stroke: #A80036; stroke-width: 1.0; stroke-dasharray: 7.0,7.0;\"/><polygon fill=\"#A80036\" points=\"295.79,163.84,305.4682,162.0146,299.9035,160.9977,300.9205,155.433,295.79,163.84\" style=\"stroke: #A80036; stroke-width: 1.0;\"/><text fill=\"#000000\" font-family=\"sans-serif\" font-size=\"13\" lengthAdjust=\"spacingAndGlyphs\" textLength=\"57\" x=\"329\" y=\"130.0669\">«satisfy»</text></a><!--MD5=[017847e01ff9a8bd19f247411074f987]\n",
       "link E13 to E4--><a href=\"psysml:e01bb7f1-206a-408f-a898-0799ec242df4\" target=\"_top\" title=\"psysml:e01bb7f1-206a-408f-a898-0799ec242df4\" xlink:actuate=\"onRequest\" xlink:href=\"psysml:e01bb7f1-206a-408f-a898-0799ec242df4\" xlink:show=\"new\" xlink:title=\"psysml:e01bb7f1-206a-408f-a898-0799ec242df4\" xlink:type=\"simple\"><path d=\"M254.1,210.27 C258.39,222.08 263.86,237.12 269.15,251.65 \" fill=\"none\" id=\"E13-&gt;E4\" style=\"stroke: #A80036; stroke-width: 1.0;\"/><polygon fill=\"#FFFFFF\" points=\"276.11,270.81,263.044,255.3413,276.2028,250.5618,276.11,270.81\" style=\"stroke: #A80036; stroke-width: 1.0;\"/><ellipse cx=\"262.9779\" cy=\"249.301\" fill=\"#A80036\" rx=\"2\" ry=\"2\" style=\"stroke: #A80036; stroke-width: 1.0;\"/><ellipse cx=\"272.377\" cy=\"245.887\" fill=\"#A80036\" rx=\"2\" ry=\"2\" style=\"stroke: #A80036; stroke-width: 1.0;\"/></a><!--MD5=[60f911bb19596b289db4a22769f8105a]\n",
       "link E11 to E13--><a href=\"psysml:e806deaf-0ce2-4d10-9e57-833502fc32ee\" target=\"_top\" title=\"psysml:e806deaf-0ce2-4d10-9e57-833502fc32ee\" xlink:actuate=\"onRequest\" xlink:href=\"psysml:e806deaf-0ce2-4d10-9e57-833502fc32ee\" xlink:show=\"new\" xlink:title=\"psysml:e806deaf-0ce2-4d10-9e57-833502fc32ee\" xlink:type=\"simple\"><path d=\"M127.94,87.26 C136.42,101.71 148.8,120.33 163,134 C173.58,144.19 186.48,153.42 198.92,161.18 \" fill=\"none\" id=\"E11-&gt;E13\" style=\"stroke: #A80036; stroke-width: 1.0; stroke-dasharray: 7.0,7.0;\"/><polygon fill=\"#A80036\" points=\"203.47,163.98,197.8817,155.87,199.2054,161.3699,193.7055,162.6935,203.47,163.98\" style=\"stroke: #A80036; stroke-width: 1.0;\"/><text fill=\"#000000\" font-family=\"sans-serif\" font-size=\"13\" lengthAdjust=\"spacingAndGlyphs\" textLength=\"57\" x=\"164\" y=\"130.0669\">«satisfy»</text></a><!--MD5=[0c677eb374079406c87b74cd1f5a339d]\n",
       "link E14 to E9--><a href=\"psysml:d6ece11e-fb98-4dd6-9106-0f6846b0bd9f\" target=\"_top\" title=\"psysml:d6ece11e-fb98-4dd6-9106-0f6846b0bd9f\" xlink:actuate=\"onRequest\" xlink:href=\"psysml:d6ece11e-fb98-4dd6-9106-0f6846b0bd9f\" xlink:show=\"new\" xlink:title=\"psysml:d6ece11e-fb98-4dd6-9106-0f6846b0bd9f\" xlink:type=\"simple\"><path d=\"M94.7,210.27 C96.45,224.73 98.79,244.04 100.89,261.33 \" fill=\"none\" id=\"E14-&gt;E9\" style=\"stroke: #A80036; stroke-width: 1.0;\"/><polygon fill=\"#FFFFFF\" points=\"103.31,281.3,94.068,263.2838,107.9656,261.594,103.31,281.3\" style=\"stroke: #A80036; stroke-width: 1.0;\"/><ellipse cx=\"95.3654\" cy=\"257.384\" fill=\"#A80036\" rx=\"2\" ry=\"2\" style=\"stroke: #A80036; stroke-width: 1.0;\"/><ellipse cx=\"105.2923\" cy=\"256.1771\" fill=\"#A80036\" rx=\"2\" ry=\"2\" style=\"stroke: #A80036; stroke-width: 1.0;\"/></a><!--MD5=[9c1c40551dcf5c2fca147626a786a7cd]\n",
       "link E11 to E14--><a href=\"psysml:feaea2f2-720b-4dbc-ba1d-0aec40f00046\" target=\"_top\" title=\"psysml:feaea2f2-720b-4dbc-ba1d-0aec40f00046\" xlink:actuate=\"onRequest\" xlink:href=\"psysml:feaea2f2-720b-4dbc-ba1d-0aec40f00046\" xlink:show=\"new\" xlink:title=\"psysml:feaea2f2-720b-4dbc-ba1d-0aec40f00046\" xlink:type=\"simple\"><path d=\"M86.22,87.02 C77.35,95.32 68.74,105.56 64,117 C58.18,131.06 63.63,146.77 71.21,159.65 \" fill=\"none\" id=\"E11-&gt;E14\" style=\"stroke: #A80036; stroke-width: 1.0; stroke-dasharray: 7.0,7.0;\"/><polygon fill=\"#A80036\" points=\"73.86,163.9,72.4968,154.1459,71.2164,159.656,65.7064,158.3757,73.86,163.9\" style=\"stroke: #A80036; stroke-width: 1.0;\"/><text fill=\"#000000\" font-family=\"sans-serif\" font-size=\"13\" lengthAdjust=\"spacingAndGlyphs\" textLength=\"57\" x=\"65\" y=\"130.0669\">«satisfy»</text></a><!--MD5=[d53cb08dffc8689d16e38c8e194e9adc]\n",
       "link E12 to E14--><a href=\"psysml:f5704f7b-2601-4abd-90b0-2ec51a978e80\" target=\"_top\" title=\"psysml:f5704f7b-2601-4abd-90b0-2ec51a978e80\" xlink:actuate=\"onRequest\" xlink:href=\"psysml:f5704f7b-2601-4abd-90b0-2ec51a978e80\" xlink:show=\"new\" xlink:title=\"psysml:f5704f7b-2601-4abd-90b0-2ec51a978e80\" xlink:type=\"simple\"><path d=\"M280.42,87.25 C266.43,102.07 246.53,121.12 226,134 C204.69,147.37 179.38,158.28 156.52,166.58 \" fill=\"none\" id=\"E12-&gt;E14\" style=\"stroke: #A80036; stroke-width: 1.0; stroke-dasharray: 7.0,7.0;\"/><polygon fill=\"#A80036\" points=\"151.68,168.32,161.5013,169.0562,156.3881,166.6365,158.8077,161.5233,151.68,168.32\" style=\"stroke: #A80036; stroke-width: 1.0;\"/><text fill=\"#000000\" font-family=\"sans-serif\" font-size=\"13\" lengthAdjust=\"spacingAndGlyphs\" textLength=\"57\" x=\"249\" y=\"130.0669\">«satisfy»</text></a><!--MD5=[583a2f809d55f481e14c3579d14dff7f]\n",
       "@startuml\r\n",
       " \r\n",
       "package \"RequirementTest\" as E1  [[psysml:2a075407-fc8d-47b4-b4de-e1839d24b848 ]]  {\r\n",
       "comp def \"C\" as E2 << <<(D,brown) constraint  def>> [[psysml:8e8b9929-fb62-44f3-bb6e-73f88688eaf1 ]] {\r\n",
       "}\r\n",
       "comp usage \"c: C \" as E3 << <<(U,orange) constraint>> [[psysml:8dab2afb-478b-48f2-a7f7-bb2b245c05ea ]] {\r\n",
       "}\r\n",
       "comp def \"R\" as E4 << <<(D,brown) requirement  def>> [[psysml:cae76f8a-948f-454f-8648-301efab5060e ]] {\r\n",
       "\r\n",
       "- -\r\n",
       "}\r\n",
       "comp usage \"<s>noname</s>\" as E7 << <<(U,orange) requirement>> [[psysml:70e6cc11-a878-4419-9a48-d32cb5df9816 ]] {\r\n",
       "}\r\n",
       "comp def \" [<b>1</b>] A\" as E8 << <<(D,brown) requirement  def>> [[psysml:5c5c4776-1d3a-4700-8516-1d3a67d779f4 ]] {\r\n",
       "Text\r\n",
       "- -\r\n",
       "}\r\n",
       "comp def \"R1\" as E9 << <<(D,brown) requirement  def>> [[psysml:f2fc2205-4b84-4313-b340-24ee025c15cf ]] {\r\n",
       "}\r\n",
       "comp usage \"p\" as E11 << << (P,limegreen) part>> [[psysml:4203d305-f881-4dfa-bcc5-a82b5aac35c4 ]] {\r\n",
       "}\r\n",
       "comp usage \"q\" as E12 << << (P,limegreen) part>> [[psysml:d0dbee69-5f2e-4ac4-ba4b-4aca7380bae7 ]] {\r\n",
       "}\r\n",
       "comp usage \"r: R \" as E13 << <<(U,orange) requirement>> [[psysml:aee31540-9ea4-41ee-8ebb-8555bfaf03fb ]] {\r\n",
       "}\r\n",
       "comp usage \"r1: R1 \" as E14 << <<(U,orange) requirement>> [[psysml:5c4fb90e-2e7f-411e-8437-1e0e9b0bd00e ]] {\r\n",
       "}\r\n",
       "}\r\n",
       "E3 - -:|> E2 [[psysml:1cfa9d08-8b1e-49ae-8f22-7ec5c2d68c94 ]] \r\n",
       "E4 *- - \"*\"E7 [[psysml:8957256b-d423-4c87-844e-8026b3f5c553 ]] \r\n",
       "E4 +- - E8 [[psysml:e7993699-2e90-4c6e-9ce7-c90f60868f83 ]] \r\n",
       "E12 *- - E13 [[psysml:0f26ba0d-7372-4c44-875c-adf3c35e17b9 ]] \r\n",
       "E13 - -:|> E4 [[psysml:e01bb7f1-206a-408f-a898-0799ec242df4 ]] \r\n",
       "E11 ..> E13 [[psysml:e806deaf-0ce2-4d10-9e57-833502fc32ee ]] : <<satisfy>>\r\n",
       "E12 ..> E13 [[psysml:f5a4eec3-f375-4f03-819b-6c5c8dc7728c ]] : <<satisfy>>\r\n",
       "E14 - -:|> E9 [[psysml:d6ece11e-fb98-4dd6-9106-0f6846b0bd9f ]] \r\n",
       "E11 ..> E14 [[psysml:feaea2f2-720b-4dbc-ba1d-0aec40f00046 ]] : <<satisfy>>\r\n",
       "E12 ..> E14 [[psysml:f5704f7b-2601-4abd-90b0-2ec51a978e80 ]] : <<satisfy>>\r\n",
       "@enduml\r\n",
       "\n",
       "PlantUML version 1.2020.13(Sat Jun 13 12:26:38 UTC 2020)\n",
       "(EPL source distribution)\n",
       "Java Runtime: OpenJDK Runtime Environment\n",
       "JVM: OpenJDK 64-Bit Server VM\n",
       "Default Encoding: UTF-8\n",
       "Language: en\n",
       "Country: null\n",
       "--></g></svg>"
      ]
     },
     "execution_count": 36,
     "metadata": {},
     "output_type": "execute_result"
    }
   ],
   "source": [
    "%viz --style=\"PLANTUML\" --view=\"MIXED\" \"RequirementTest\""
   ]
  },
  {
   "cell_type": "code",
   "execution_count": 37,
   "id": "12341beb",
   "metadata": {
    "execution": {
     "iopub.execute_input": "2021-10-25T08:21:14.399812Z",
     "iopub.status.busy": "2021-10-25T08:21:14.399408Z",
     "iopub.status.idle": "2021-10-25T08:21:14.455598Z",
     "shell.execute_reply": "2021-10-25T08:21:14.455238Z"
    }
   },
   "outputs": [
    {
     "data": {
      "image/svg+xml": [
       "<?xml version=\"1.0\" encoding=\"UTF-8\" standalone=\"no\"?><svg xmlns=\"http://www.w3.org/2000/svg\" xmlns:xlink=\"http://www.w3.org/1999/xlink\" contentScriptType=\"application/ecmascript\" contentStyleType=\"text/css\" height=\"494px\" preserveAspectRatio=\"none\" style=\"width:475px;height:494px;\" version=\"1.1\" viewBox=\"0 0 475 494\" width=\"475px\" zoomAndPan=\"magnify\"><defs/><g><!--MD5=[fbc87193dbaf4d95561dea2c320d4a47]\n",
       "cluster E1--><a href=\"psysml:2a075407-fc8d-47b4-b4de-e1839d24b848\" target=\"_top\" title=\"psysml:2a075407-fc8d-47b4-b4de-e1839d24b848\" xlink:actuate=\"onRequest\" xlink:href=\"psysml:2a075407-fc8d-47b4-b4de-e1839d24b848\" xlink:show=\"new\" xlink:title=\"psysml:2a075407-fc8d-47b4-b4de-e1839d24b848\" xlink:type=\"simple\"><polygon fill=\"#FFFFFF\" points=\"16,6,143,6,150,28.2969,453,28.2969,453,482,16,482,16,6\" style=\"stroke: #000000; stroke-width: 1.5;\"/><line style=\"stroke: #000000; stroke-width: 1.5;\" x1=\"16\" x2=\"150\" y1=\"28.2969\" y2=\"28.2969\"/><text fill=\"#000000\" font-family=\"sans-serif\" font-size=\"14\" font-weight=\"bold\" lengthAdjust=\"spacingAndGlyphs\" textLength=\"121\" x=\"20\" y=\"20.9951\">RequirementTest</text></a><!--MD5=[b4997ac47864f28c2f74865a473b2911]\n",
       "class E2--><a href=\"psysml:8e8b9929-fb62-44f3-bb6e-73f88688eaf1\" target=\"_top\" title=\"psysml:8e8b9929-fb62-44f3-bb6e-73f88688eaf1\" xlink:actuate=\"onRequest\" xlink:href=\"psysml:8e8b9929-fb62-44f3-bb6e-73f88688eaf1\" xlink:show=\"new\" xlink:title=\"psysml:8e8b9929-fb62-44f3-bb6e-73f88688eaf1\" xlink:type=\"simple\"><rect fill=\"#FFFFFF\" height=\"45.9375\" id=\"E2\" style=\"stroke: #383838; stroke-width: 1.5;\" width=\"108\" x=\"329\" y=\"164\"/><text fill=\"#000000\" font-family=\"sans-serif\" font-size=\"12\" font-style=\"italic\" lengthAdjust=\"spacingAndGlyphs\" textLength=\"106\" x=\"330\" y=\"180.1387\">«constraint  def»</text><text fill=\"#000000\" font-family=\"sans-serif\" font-size=\"12\" lengthAdjust=\"spacingAndGlyphs\" textLength=\"8\" x=\"379\" y=\"194.1074\">C</text><line style=\"stroke: #383838; stroke-width: 1.5;\" x1=\"330\" x2=\"436\" y1=\"201.9375\" y2=\"201.9375\"/></a><!--MD5=[09b614a08d8cba4a07c9adeb5e0fee81]\n",
       "class E3--><a href=\"psysml:8dab2afb-478b-48f2-a7f7-bb2b245c05ea\" target=\"_top\" title=\"psysml:8dab2afb-478b-48f2-a7f7-bb2b245c05ea\" xlink:actuate=\"onRequest\" xlink:href=\"psysml:8dab2afb-478b-48f2-a7f7-bb2b245c05ea\" xlink:show=\"new\" xlink:title=\"psysml:8dab2afb-478b-48f2-a7f7-bb2b245c05ea\" xlink:type=\"simple\"><rect fill=\"#FFFFFF\" height=\"45.9375\" id=\"E3\" rx=\"10\" ry=\"10\" style=\"stroke: #383838; stroke-width: 1.5;\" width=\"80\" x=\"357\" y=\"41\"/><text fill=\"#000000\" font-family=\"sans-serif\" font-size=\"12\" font-style=\"italic\" lengthAdjust=\"spacingAndGlyphs\" textLength=\"78\" x=\"358\" y=\"57.1387\">«constraint»</text><text fill=\"#000000\" font-family=\"sans-serif\" font-size=\"12\" lengthAdjust=\"spacingAndGlyphs\" textLength=\"23\" x=\"383.5\" y=\"71.1074\">c: C</text><line style=\"stroke: #383838; stroke-width: 1.5;\" x1=\"358\" x2=\"436\" y1=\"78.9375\" y2=\"78.9375\"/></a><!--MD5=[ebbe1d658d1005bcc118a6aa81145e00]\n",
       "class E4--><a href=\"psysml:cae76f8a-948f-454f-8648-301efab5060e\" target=\"_top\" title=\"psysml:cae76f8a-948f-454f-8648-301efab5060e\" xlink:actuate=\"onRequest\" xlink:href=\"psysml:cae76f8a-948f-454f-8648-301efab5060e\" xlink:show=\"new\" xlink:title=\"psysml:cae76f8a-948f-454f-8648-301efab5060e\" xlink:type=\"simple\"><rect fill=\"#FFFFFF\" height=\"66.7422\" id=\"E4\" style=\"stroke: #383838; stroke-width: 1.5;\" width=\"121\" x=\"188.5\" y=\"271\"/><text fill=\"#000000\" font-family=\"sans-serif\" font-size=\"12\" font-style=\"italic\" lengthAdjust=\"spacingAndGlyphs\" textLength=\"119\" x=\"189.5\" y=\"287.1387\">«requirement  def»</text><text fill=\"#000000\" font-family=\"sans-serif\" font-size=\"12\" lengthAdjust=\"spacingAndGlyphs\" textLength=\"8\" x=\"245\" y=\"301.1074\">R</text><line style=\"stroke: #383838; stroke-width: 1.5;\" x1=\"189.5\" x2=\"308.5\" y1=\"308.9375\" y2=\"308.9375\"/><text fill=\"#000000\" font-family=\"sans-serif\" font-size=\"11\" lengthAdjust=\"spacingAndGlyphs\" textLength=\"0\" x=\"198.5\" y=\"323.1479\"/><line style=\"stroke: #383838; stroke-width: 1.0;\" x1=\"189.5\" x2=\"308.5\" y1=\"329.7422\" y2=\"329.7422\"/></a><!--MD5=[2156ba9850f5573cc1fc38a6a4b2f02b]\n",
       "class E7--><a href=\"psysml:70e6cc11-a878-4419-9a48-d32cb5df9816\" target=\"_top\" title=\"psysml:70e6cc11-a878-4419-9a48-d32cb5df9816\" xlink:actuate=\"onRequest\" xlink:href=\"psysml:70e6cc11-a878-4419-9a48-d32cb5df9816\" xlink:show=\"new\" xlink:title=\"psysml:70e6cc11-a878-4419-9a48-d32cb5df9816\" xlink:type=\"simple\"><rect fill=\"#FFFFFF\" height=\"45.9375\" id=\"E7\" rx=\"10\" ry=\"10\" style=\"stroke: #383838; stroke-width: 1.5;\" width=\"93\" x=\"144.5\" y=\"409.5\"/><text fill=\"#000000\" font-family=\"sans-serif\" font-size=\"12\" font-style=\"italic\" lengthAdjust=\"spacingAndGlyphs\" textLength=\"91\" x=\"145.5\" y=\"425.6387\">«requirement»</text><text fill=\"#000000\" font-family=\"sans-serif\" font-size=\"12\" lengthAdjust=\"spacingAndGlyphs\" text-decoration=\"line-through\" textLength=\"51\" x=\"165.5\" y=\"439.6074\">noname</text><line style=\"stroke: #383838; stroke-width: 1.5;\" x1=\"145.5\" x2=\"236.5\" y1=\"447.4375\" y2=\"447.4375\"/></a><!--MD5=[b9389687b975829384b498ac4b7476b2]\n",
       "class E8--><a href=\"psysml:5c5c4776-1d3a-4700-8516-1d3a67d779f4\" target=\"_top\" title=\"psysml:5c5c4776-1d3a-4700-8516-1d3a67d779f4\" xlink:actuate=\"onRequest\" xlink:href=\"psysml:5c5c4776-1d3a-4700-8516-1d3a67d779f4\" xlink:show=\"new\" xlink:title=\"psysml:5c5c4776-1d3a-4700-8516-1d3a67d779f4\" xlink:type=\"simple\"><rect fill=\"#FFFFFF\" height=\"66.7422\" id=\"E8\" style=\"stroke: #383838; stroke-width: 1.5;\" width=\"121\" x=\"272.5\" y=\"399\"/><text fill=\"#000000\" font-family=\"sans-serif\" font-size=\"12\" font-style=\"italic\" lengthAdjust=\"spacingAndGlyphs\" textLength=\"119\" x=\"273.5\" y=\"415.1387\">«requirement  def»</text><text fill=\"#000000\" font-family=\"sans-serif\" font-size=\"12\" lengthAdjust=\"spacingAndGlyphs\" textLength=\"5\" x=\"320\" y=\"429.1074\">[</text><text fill=\"#000000\" font-family=\"sans-serif\" font-size=\"12\" font-weight=\"bold\" lengthAdjust=\"spacingAndGlyphs\" textLength=\"8\" x=\"325\" y=\"429.1074\">1</text><text fill=\"#000000\" font-family=\"sans-serif\" font-size=\"12\" lengthAdjust=\"spacingAndGlyphs\" textLength=\"17\" x=\"333\" y=\"429.1074\">] A</text><line style=\"stroke: #383838; stroke-width: 1.5;\" x1=\"273.5\" x2=\"392.5\" y1=\"436.9375\" y2=\"436.9375\"/><text fill=\"#000000\" font-family=\"sans-serif\" font-size=\"11\" lengthAdjust=\"spacingAndGlyphs\" textLength=\"24\" x=\"278.5\" y=\"451.1479\">Text</text><line style=\"stroke: #383838; stroke-width: 1.0;\" x1=\"273.5\" x2=\"392.5\" y1=\"457.7422\" y2=\"457.7422\"/></a><!--MD5=[fd4143e9d270a159db93a4ea2a975926]\n",
       "class E9--><a href=\"psysml:f2fc2205-4b84-4313-b340-24ee025c15cf\" target=\"_top\" title=\"psysml:f2fc2205-4b84-4313-b340-24ee025c15cf\" xlink:actuate=\"onRequest\" xlink:href=\"psysml:f2fc2205-4b84-4313-b340-24ee025c15cf\" xlink:show=\"new\" xlink:title=\"psysml:f2fc2205-4b84-4313-b340-24ee025c15cf\" xlink:type=\"simple\"><rect fill=\"#FFFFFF\" height=\"45.9375\" id=\"E9\" style=\"stroke: #383838; stroke-width: 1.5;\" width=\"121\" x=\"32.5\" y=\"281.5\"/><text fill=\"#000000\" font-family=\"sans-serif\" font-size=\"12\" font-style=\"italic\" lengthAdjust=\"spacingAndGlyphs\" textLength=\"119\" x=\"33.5\" y=\"297.6387\">«requirement  def»</text><text fill=\"#000000\" font-family=\"sans-serif\" font-size=\"12\" lengthAdjust=\"spacingAndGlyphs\" textLength=\"16\" x=\"85\" y=\"311.6074\">R1</text><line style=\"stroke: #383838; stroke-width: 1.5;\" x1=\"33.5\" x2=\"152.5\" y1=\"319.4375\" y2=\"319.4375\"/></a><!--MD5=[1dd1bfd58a279cf63c5f349dbc8fc6a1]\n",
       "class E11--><a href=\"psysml:4203d305-f881-4dfa-bcc5-a82b5aac35c4\" target=\"_top\" title=\"psysml:4203d305-f881-4dfa-bcc5-a82b5aac35c4\" xlink:actuate=\"onRequest\" xlink:href=\"psysml:4203d305-f881-4dfa-bcc5-a82b5aac35c4\" xlink:show=\"new\" xlink:title=\"psysml:4203d305-f881-4dfa-bcc5-a82b5aac35c4\" xlink:type=\"simple\"><rect fill=\"#FFFFFF\" height=\"45.9375\" id=\"E11\" rx=\"10\" ry=\"10\" style=\"stroke: #383838; stroke-width: 1.5;\" width=\"42\" x=\"95\" y=\"41\"/><text fill=\"#000000\" font-family=\"sans-serif\" font-size=\"12\" font-style=\"italic\" lengthAdjust=\"spacingAndGlyphs\" textLength=\"40\" x=\"96\" y=\"57.1387\">«part»</text><text fill=\"#000000\" font-family=\"sans-serif\" font-size=\"12\" lengthAdjust=\"spacingAndGlyphs\" textLength=\"8\" x=\"112\" y=\"71.1074\">p</text><line style=\"stroke: #383838; stroke-width: 1.5;\" x1=\"96\" x2=\"136\" y1=\"78.9375\" y2=\"78.9375\"/></a><!--MD5=[49a0ec8f00dab7302a31f22d0f0fe584]\n",
       "class E12--><a href=\"psysml:d0dbee69-5f2e-4ac4-ba4b-4aca7380bae7\" target=\"_top\" title=\"psysml:d0dbee69-5f2e-4ac4-ba4b-4aca7380bae7\" xlink:actuate=\"onRequest\" xlink:href=\"psysml:d0dbee69-5f2e-4ac4-ba4b-4aca7380bae7\" xlink:show=\"new\" xlink:title=\"psysml:d0dbee69-5f2e-4ac4-ba4b-4aca7380bae7\" xlink:type=\"simple\"><rect fill=\"#FFFFFF\" height=\"45.9375\" id=\"E12\" rx=\"10\" ry=\"10\" style=\"stroke: #383838; stroke-width: 1.5;\" width=\"42\" x=\"280\" y=\"41\"/><text fill=\"#000000\" font-family=\"sans-serif\" font-size=\"12\" font-style=\"italic\" lengthAdjust=\"spacingAndGlyphs\" textLength=\"40\" x=\"281\" y=\"57.1387\">«part»</text><text fill=\"#000000\" font-family=\"sans-serif\" font-size=\"12\" lengthAdjust=\"spacingAndGlyphs\" textLength=\"8\" x=\"297\" y=\"71.1074\">q</text><line style=\"stroke: #383838; stroke-width: 1.5;\" x1=\"281\" x2=\"321\" y1=\"78.9375\" y2=\"78.9375\"/></a><!--MD5=[ee3c913d1a06f366521f9ef512b67efe]\n",
       "class E13--><a href=\"psysml:aee31540-9ea4-41ee-8ebb-8555bfaf03fb\" target=\"_top\" title=\"psysml:aee31540-9ea4-41ee-8ebb-8555bfaf03fb\" xlink:actuate=\"onRequest\" xlink:href=\"psysml:aee31540-9ea4-41ee-8ebb-8555bfaf03fb\" xlink:show=\"new\" xlink:title=\"psysml:aee31540-9ea4-41ee-8ebb-8555bfaf03fb\" xlink:type=\"simple\"><rect fill=\"#FFFFFF\" height=\"45.9375\" id=\"E13\" rx=\"10\" ry=\"10\" style=\"stroke: #383838; stroke-width: 1.5;\" width=\"93\" x=\"200.5\" y=\"164\"/><text fill=\"#000000\" font-family=\"sans-serif\" font-size=\"12\" font-style=\"italic\" lengthAdjust=\"spacingAndGlyphs\" textLength=\"91\" x=\"201.5\" y=\"180.1387\">«requirement»</text><text fill=\"#000000\" font-family=\"sans-serif\" font-size=\"12\" lengthAdjust=\"spacingAndGlyphs\" textLength=\"21\" x=\"234.5\" y=\"194.1074\">r: R</text><line style=\"stroke: #383838; stroke-width: 1.5;\" x1=\"201.5\" x2=\"292.5\" y1=\"201.9375\" y2=\"201.9375\"/></a><!--MD5=[bee11217b2f71d958a27249dc326068c]\n",
       "class E14--><a href=\"psysml:5c4fb90e-2e7f-411e-8437-1e0e9b0bd00e\" target=\"_top\" title=\"psysml:5c4fb90e-2e7f-411e-8437-1e0e9b0bd00e\" xlink:actuate=\"onRequest\" xlink:href=\"psysml:5c4fb90e-2e7f-411e-8437-1e0e9b0bd00e\" xlink:show=\"new\" xlink:title=\"psysml:5c4fb90e-2e7f-411e-8437-1e0e9b0bd00e\" xlink:type=\"simple\"><rect fill=\"#FFFFFF\" height=\"45.9375\" id=\"E14\" rx=\"10\" ry=\"10\" style=\"stroke: #383838; stroke-width: 1.5;\" width=\"93\" x=\"46.5\" y=\"164\"/><text fill=\"#000000\" font-family=\"sans-serif\" font-size=\"12\" font-style=\"italic\" lengthAdjust=\"spacingAndGlyphs\" textLength=\"91\" x=\"47.5\" y=\"180.1387\">«requirement»</text><text fill=\"#000000\" font-family=\"sans-serif\" font-size=\"12\" lengthAdjust=\"spacingAndGlyphs\" textLength=\"37\" x=\"72.5\" y=\"194.1074\">r1: R1</text><line style=\"stroke: #383838; stroke-width: 1.5;\" x1=\"47.5\" x2=\"138.5\" y1=\"201.9375\" y2=\"201.9375\"/></a><!--MD5=[05d275557350bfb9b23a4ef7222b4c39]\n",
       "link E3 to E2--><a href=\"psysml:1cfa9d08-8b1e-49ae-8f22-7ec5c2d68c94\" target=\"_top\" title=\"psysml:1cfa9d08-8b1e-49ae-8f22-7ec5c2d68c94\" xlink:actuate=\"onRequest\" xlink:href=\"psysml:1cfa9d08-8b1e-49ae-8f22-7ec5c2d68c94\" xlink:show=\"new\" xlink:title=\"psysml:1cfa9d08-8b1e-49ae-8f22-7ec5c2d68c94\" xlink:type=\"simple\"><path d=\"M418.43,87.25 C428.59,100.56 437.27,117.96 431,134 C429.08,138.91 426.46,143.63 423.42,148.09 \" fill=\"none\" id=\"E3-&gt;E2\" style=\"stroke: #383838; stroke-width: 1.0;\"/><polygon fill=\"#FFFFFF\" points=\"410.27,163.84,417.0769,144.77,427.8221,153.7444,410.27,163.84\" style=\"stroke: #383838; stroke-width: 1.0;\"/><ellipse cx=\"422.2658\" cy=\"141.6772\" fill=\"#383838\" rx=\"2\" ry=\"2\" style=\"stroke: #383838; stroke-width: 1.0;\"/><ellipse cx=\"429.941\" cy=\"148.0874\" fill=\"#383838\" rx=\"2\" ry=\"2\" style=\"stroke: #383838; stroke-width: 1.0;\"/></a><!--MD5=[722ff4eef345aa10242dad44df0e98c7]\n",
       "reverse link E4 to E7--><a href=\"psysml:8957256b-d423-4c87-844e-8026b3f5c553\" target=\"_top\" title=\"psysml:8957256b-d423-4c87-844e-8026b3f5c553\" xlink:actuate=\"onRequest\" xlink:href=\"psysml:8957256b-d423-4c87-844e-8026b3f5c553\" xlink:show=\"new\" xlink:title=\"psysml:8957256b-d423-4c87-844e-8026b3f5c553\" xlink:type=\"simple\"><path d=\"M228.38,350.29 C219.19,370.26 208.76,392.91 201.26,409.21 \" fill=\"none\" id=\"E4&lt;-E7\" style=\"stroke: #383838; stroke-width: 1.0;\"/><polygon fill=\"#383838\" points=\"233.91,338.28,227.7664,342.0558,228.8888,349.179,235.0324,345.4032,233.91,338.28\" style=\"stroke: #383838; stroke-width: 1.0;\"/><text fill=\"#000000\" font-family=\"sans-serif\" font-size=\"13\" lengthAdjust=\"spacingAndGlyphs\" textLength=\"7\" x=\"195.9922\" y=\"398.412\">*</text></a><!--MD5=[c6fc7cdb0cabde04948078cf183fa696]\n",
       "reverse link E4 to E8--><a href=\"psysml:e7993699-2e90-4c6e-9ce7-c90f60868f83\" target=\"_top\" title=\"psysml:e7993699-2e90-4c6e-9ce7-c90f60868f83\" xlink:actuate=\"onRequest\" xlink:href=\"psysml:e7993699-2e90-4c6e-9ce7-c90f60868f83\" xlink:show=\"new\" xlink:title=\"psysml:e7993699-2e90-4c6e-9ce7-c90f60868f83\" xlink:type=\"simple\"><path d=\"M279.4,351.09 C289.94,366.92 301.55,384.33 311.26,398.89 \" fill=\"none\" id=\"E4&lt;-E8\" style=\"stroke: #383838; stroke-width: 1.0;\"/><ellipse cx=\"275.2894\" cy=\"344.9352\" fill=\"#FFFFFF\" rx=\"8\" ry=\"8\" style=\"stroke: #383838; stroke-width: 1.0;\"/><line style=\"stroke: #383838; stroke-width: 1.0;\" x1=\"279.7287\" x2=\"270.85\" y1=\"351.5905\" y2=\"338.28\"/><line style=\"stroke: #383838; stroke-width: 1.0;\" x1=\"268.6341\" x2=\"281.9446\" y1=\"349.3746\" y2=\"340.4959\"/></a><!--MD5=[062ed86c389d1a88f61c6380d0491e17]\n",
       "reverse link E12 to E13--><a href=\"psysml:0f26ba0d-7372-4c44-875c-adf3c35e17b9\" target=\"_top\" title=\"psysml:0f26ba0d-7372-4c44-875c-adf3c35e17b9\" xlink:actuate=\"onRequest\" xlink:href=\"psysml:0f26ba0d-7372-4c44-875c-adf3c35e17b9\" xlink:show=\"new\" xlink:title=\"psysml:0f26ba0d-7372-4c44-875c-adf3c35e17b9\" xlink:type=\"simple\"><path d=\"M333.8,84.02 C335.88,85.07 337.96,86.07 340,87 C378.92,104.77 450.04,100.06 424,134 C392.63,174.88 361.32,149.06 312,164 C306.07,165.8 299.87,167.77 293.75,169.77 \" fill=\"none\" id=\"E12&lt;-E13\" style=\"stroke: #383838; stroke-width: 1.0;\"/><polygon fill=\"#383838\" points=\"322.11,77.78,325.5172,84.1354,332.6942,83.4346,329.287,77.0792,322.11,77.78\" style=\"stroke: #383838; stroke-width: 1.0;\"/></a><!--MD5=[e2a9ac97dcd3257bb5342dae06547bad]\n",
       "link E12 to E13--><a href=\"psysml:f5a4eec3-f375-4f03-819b-6c5c8dc7728c\" target=\"_top\" title=\"psysml:f5a4eec3-f375-4f03-819b-6c5c8dc7728c\" xlink:actuate=\"onRequest\" xlink:href=\"psysml:f5a4eec3-f375-4f03-819b-6c5c8dc7728c\" xlink:show=\"new\" xlink:title=\"psysml:f5a4eec3-f375-4f03-819b-6c5c8dc7728c\" xlink:type=\"simple\"><path d=\"M317.81,87.18 C326.17,101.08 332.96,119.13 325,134 C318.83,145.53 308.85,154.94 298.06,162.43 \" fill=\"none\" id=\"E12-&gt;E13\" style=\"stroke: #383838; stroke-width: 1.0; stroke-dasharray: 7.0,7.0;\"/><polygon fill=\"#383838\" points=\"293.73,165.31,303.4373,163.6459,297.8903,162.5365,298.9997,156.9895,293.73,165.31\" style=\"stroke: #383838; stroke-width: 1.0;\"/><text fill=\"#000000\" font-family=\"sans-serif\" font-size=\"13\" lengthAdjust=\"spacingAndGlyphs\" textLength=\"57\" x=\"329\" y=\"130.0669\">«satisfy»</text></a><!--MD5=[017847e01ff9a8bd19f247411074f987]\n",
       "link E13 to E4--><a href=\"psysml:e01bb7f1-206a-408f-a898-0799ec242df4\" target=\"_top\" title=\"psysml:e01bb7f1-206a-408f-a898-0799ec242df4\" xlink:actuate=\"onRequest\" xlink:href=\"psysml:e01bb7f1-206a-408f-a898-0799ec242df4\" xlink:show=\"new\" xlink:title=\"psysml:e01bb7f1-206a-408f-a898-0799ec242df4\" xlink:type=\"simple\"><path d=\"M247.39,210.27 C247.59,221.81 247.84,236.43 248.09,250.66 \" fill=\"none\" id=\"E13-&gt;E4\" style=\"stroke: #383838; stroke-width: 1.0;\"/><polygon fill=\"#FFFFFF\" points=\"248.43,270.81,241.1054,251.9328,255.1033,251.6928,248.43,270.81\" style=\"stroke: #383838; stroke-width: 1.0;\"/><ellipse cx=\"243.0074\" cy=\"246.1993\" fill=\"#383838\" rx=\"2\" ry=\"2\" style=\"stroke: #383838; stroke-width: 1.0;\"/><ellipse cx=\"253.0059\" cy=\"246.0279\" fill=\"#383838\" rx=\"2\" ry=\"2\" style=\"stroke: #383838; stroke-width: 1.0;\"/></a><!--MD5=[60f911bb19596b289db4a22769f8105a]\n",
       "link E11 to E13--><a href=\"psysml:e806deaf-0ce2-4d10-9e57-833502fc32ee\" target=\"_top\" title=\"psysml:e806deaf-0ce2-4d10-9e57-833502fc32ee\" xlink:actuate=\"onRequest\" xlink:href=\"psysml:e806deaf-0ce2-4d10-9e57-833502fc32ee\" xlink:show=\"new\" xlink:title=\"psysml:e806deaf-0ce2-4d10-9e57-833502fc32ee\" xlink:type=\"simple\"><path d=\"M127.91,87.28 C136.39,101.75 148.76,120.37 163,134 C173.59,144.14 186.48,153.31 198.95,161.02 \" fill=\"none\" id=\"E11-&gt;E13\" style=\"stroke: #383838; stroke-width: 1.0; stroke-dasharray: 7.0,7.0;\"/><polygon fill=\"#383838\" points=\"203.52,163.8,197.9,155.712,199.2452,161.2066,193.7506,162.5517,203.52,163.8\" style=\"stroke: #383838; stroke-width: 1.0;\"/><text fill=\"#000000\" font-family=\"sans-serif\" font-size=\"13\" lengthAdjust=\"spacingAndGlyphs\" textLength=\"57\" x=\"164\" y=\"130.0669\">«satisfy»</text></a><!--MD5=[0c677eb374079406c87b74cd1f5a339d]\n",
       "link E14 to E9--><a href=\"psysml:d6ece11e-fb98-4dd6-9106-0f6846b0bd9f\" target=\"_top\" title=\"psysml:d6ece11e-fb98-4dd6-9106-0f6846b0bd9f\" xlink:actuate=\"onRequest\" xlink:href=\"psysml:d6ece11e-fb98-4dd6-9106-0f6846b0bd9f\" xlink:show=\"new\" xlink:title=\"psysml:d6ece11e-fb98-4dd6-9106-0f6846b0bd9f\" xlink:type=\"simple\"><path d=\"M93,210.27 C93,224.65 93,243.82 93,261.04 \" fill=\"none\" id=\"E14-&gt;E9\" style=\"stroke: #383838; stroke-width: 1.0;\"/><polygon fill=\"#FFFFFF\" points=\"93,281.3,86,262.3,100,262.3,93,281.3\" style=\"stroke: #383838; stroke-width: 1.0;\"/><ellipse cx=\"88\" cy=\"256.6\" fill=\"#383838\" rx=\"2\" ry=\"2\" style=\"stroke: #383838; stroke-width: 1.0;\"/><ellipse cx=\"98\" cy=\"256.6\" fill=\"#383838\" rx=\"2\" ry=\"2\" style=\"stroke: #383838; stroke-width: 1.0;\"/></a><!--MD5=[9c1c40551dcf5c2fca147626a786a7cd]\n",
       "link E11 to E14--><a href=\"psysml:feaea2f2-720b-4dbc-ba1d-0aec40f00046\" target=\"_top\" title=\"psysml:feaea2f2-720b-4dbc-ba1d-0aec40f00046\" xlink:actuate=\"onRequest\" xlink:href=\"psysml:feaea2f2-720b-4dbc-ba1d-0aec40f00046\" xlink:show=\"new\" xlink:title=\"psysml:feaea2f2-720b-4dbc-ba1d-0aec40f00046\" xlink:type=\"simple\"><path d=\"M94.96,79.46 C83.46,88.7 70.3,101.78 64,117 C58.15,131.13 63.81,146.85 71.63,159.71 \" fill=\"none\" id=\"E11-&gt;E14\" style=\"stroke: #383838; stroke-width: 1.0; stroke-dasharray: 7.0,7.0;\"/><polygon fill=\"#383838\" points=\"74.35,163.96,72.8629,154.2241,71.6527,159.7499,66.1268,158.5397,74.35,163.96\" style=\"stroke: #383838; stroke-width: 1.0;\"/><text fill=\"#000000\" font-family=\"sans-serif\" font-size=\"13\" lengthAdjust=\"spacingAndGlyphs\" textLength=\"57\" x=\"65\" y=\"130.0669\">«satisfy»</text></a><!--MD5=[d53cb08dffc8689d16e38c8e194e9adc]\n",
       "link E12 to E14--><a href=\"psysml:f5704f7b-2601-4abd-90b0-2ec51a978e80\" target=\"_top\" title=\"psysml:f5704f7b-2601-4abd-90b0-2ec51a978e80\" xlink:actuate=\"onRequest\" xlink:href=\"psysml:f5704f7b-2601-4abd-90b0-2ec51a978e80\" xlink:show=\"new\" xlink:title=\"psysml:f5704f7b-2601-4abd-90b0-2ec51a978e80\" xlink:type=\"simple\"><path d=\"M281.09,87.22 C266.89,102.03 246.71,121.07 226,134 C200.86,149.7 170.21,162.07 144.66,170.81 \" fill=\"none\" id=\"E12-&gt;E14\" style=\"stroke: #383838; stroke-width: 1.0; stroke-dasharray: 7.0,7.0;\"/><polygon fill=\"#383838\" points=\"139.62,172.5,149.4273,173.4043,144.3562,170.8974,146.8631,165.8264,139.62,172.5\" style=\"stroke: #383838; stroke-width: 1.0;\"/><text fill=\"#000000\" font-family=\"sans-serif\" font-size=\"13\" lengthAdjust=\"spacingAndGlyphs\" textLength=\"57\" x=\"249\" y=\"130.0669\">«satisfy»</text></a><!--MD5=[a030b9b22adcca2974a04f36ed121832]\n",
       "@startuml\r\n",
       "skinparam monochrome true\r\n",
       "skinparam classbackgroundcolor white\r\n",
       "skinparam shadowing false\r\n",
       "skinparam wrapWidth 300\r\n",
       "hide circle\r\n",
       "\r\n",
       "package \"RequirementTest\" as E1  [[psysml:2a075407-fc8d-47b4-b4de-e1839d24b848 ]]  {\r\n",
       "comp def \"C\" as E2  <<(T,blue) constraint  def>> [[psysml:8e8b9929-fb62-44f3-bb6e-73f88688eaf1 ]] {\r\n",
       "}\r\n",
       "comp usage \"c: C \" as E3  <<(T,blue) constraint>> [[psysml:8dab2afb-478b-48f2-a7f7-bb2b245c05ea ]] {\r\n",
       "}\r\n",
       "comp def \"R\" as E4  <<(T,blue) requirement  def>> [[psysml:cae76f8a-948f-454f-8648-301efab5060e ]] {\r\n",
       "\r\n",
       "- -\r\n",
       "}\r\n",
       "comp usage \"<s>noname</s>\" as E7  <<(T,blue) requirement>> [[psysml:70e6cc11-a878-4419-9a48-d32cb5df9816 ]] {\r\n",
       "}\r\n",
       "comp def \" [<b>1</b>] A\" as E8  <<(T,blue) requirement  def>> [[psysml:5c5c4776-1d3a-4700-8516-1d3a67d779f4 ]] {\r\n",
       "Text\r\n",
       "- -\r\n",
       "}\r\n",
       "comp def \"R1\" as E9  <<(T,blue) requirement  def>> [[psysml:f2fc2205-4b84-4313-b340-24ee025c15cf ]] {\r\n",
       "}\r\n",
       "comp usage \"p\" as E11  <<(T,blue) part>> [[psysml:4203d305-f881-4dfa-bcc5-a82b5aac35c4 ]] {\r\n",
       "}\r\n",
       "comp usage \"q\" as E12  <<(T,blue) part>> [[psysml:d0dbee69-5f2e-4ac4-ba4b-4aca7380bae7 ]] {\r\n",
       "}\r\n",
       "comp usage \"r: R \" as E13  <<(T,blue) requirement>> [[psysml:aee31540-9ea4-41ee-8ebb-8555bfaf03fb ]] {\r\n",
       "}\r\n",
       "comp usage \"r1: R1 \" as E14  <<(T,blue) requirement>> [[psysml:5c4fb90e-2e7f-411e-8437-1e0e9b0bd00e ]] {\r\n",
       "}\r\n",
       "}\r\n",
       "E3 - -:|> E2 [[psysml:1cfa9d08-8b1e-49ae-8f22-7ec5c2d68c94 ]] \r\n",
       "E4 *- - \"*\"E7 [[psysml:8957256b-d423-4c87-844e-8026b3f5c553 ]] \r\n",
       "E4 +- - E8 [[psysml:e7993699-2e90-4c6e-9ce7-c90f60868f83 ]] \r\n",
       "E12 *- - E13 [[psysml:0f26ba0d-7372-4c44-875c-adf3c35e17b9 ]] \r\n",
       "E13 - -:|> E4 [[psysml:e01bb7f1-206a-408f-a898-0799ec242df4 ]] \r\n",
       "E11 ..> E13 [[psysml:e806deaf-0ce2-4d10-9e57-833502fc32ee ]] : <<satisfy>>\r\n",
       "E12 ..> E13 [[psysml:f5a4eec3-f375-4f03-819b-6c5c8dc7728c ]] : <<satisfy>>\r\n",
       "E14 - -:|> E9 [[psysml:d6ece11e-fb98-4dd6-9106-0f6846b0bd9f ]] \r\n",
       "E11 ..> E14 [[psysml:feaea2f2-720b-4dbc-ba1d-0aec40f00046 ]] : <<satisfy>>\r\n",
       "E12 ..> E14 [[psysml:f5704f7b-2601-4abd-90b0-2ec51a978e80 ]] : <<satisfy>>\r\n",
       "@enduml\r\n",
       "\n",
       "PlantUML version 1.2020.13(Sat Jun 13 12:26:38 UTC 2020)\n",
       "(EPL source distribution)\n",
       "Java Runtime: OpenJDK Runtime Environment\n",
       "JVM: OpenJDK 64-Bit Server VM\n",
       "Default Encoding: UTF-8\n",
       "Language: en\n",
       "Country: null\n",
       "--></g></svg>"
      ]
     },
     "execution_count": 37,
     "metadata": {},
     "output_type": "execute_result"
    }
   ],
   "source": [
    "%viz --style=\"DEFAULT\" --view=\"Default\" \"RequirementTest\""
   ]
  },
  {
   "cell_type": "code",
   "execution_count": 38,
   "id": "11cc5a7e",
   "metadata": {
    "execution": {
     "iopub.execute_input": "2021-10-25T08:21:14.504414Z",
     "iopub.status.busy": "2021-10-25T08:21:14.503986Z",
     "iopub.status.idle": "2021-10-25T08:21:14.554296Z",
     "shell.execute_reply": "2021-10-25T08:21:14.553923Z"
    }
   },
   "outputs": [
    {
     "data": {
      "image/svg+xml": [
       "<?xml version=\"1.0\" encoding=\"UTF-8\" standalone=\"no\"?><svg xmlns=\"http://www.w3.org/2000/svg\" xmlns:xlink=\"http://www.w3.org/1999/xlink\" contentScriptType=\"application/ecmascript\" contentStyleType=\"text/css\" height=\"494px\" preserveAspectRatio=\"none\" style=\"width:475px;height:494px;\" version=\"1.1\" viewBox=\"0 0 475 494\" width=\"475px\" zoomAndPan=\"magnify\"><defs/><g><!--MD5=[fbc87193dbaf4d95561dea2c320d4a47]\n",
       "cluster E1--><a href=\"psysml:2a075407-fc8d-47b4-b4de-e1839d24b848\" target=\"_top\" title=\"psysml:2a075407-fc8d-47b4-b4de-e1839d24b848\" xlink:actuate=\"onRequest\" xlink:href=\"psysml:2a075407-fc8d-47b4-b4de-e1839d24b848\" xlink:show=\"new\" xlink:title=\"psysml:2a075407-fc8d-47b4-b4de-e1839d24b848\" xlink:type=\"simple\"><polygon fill=\"#FFFFFF\" points=\"16,6,143,6,150,28.2969,453,28.2969,453,482,16,482,16,6\" style=\"stroke: #000000; stroke-width: 1.5;\"/><line style=\"stroke: #000000; stroke-width: 1.5;\" x1=\"16\" x2=\"150\" y1=\"28.2969\" y2=\"28.2969\"/><text fill=\"#000000\" font-family=\"sans-serif\" font-size=\"14\" font-weight=\"bold\" lengthAdjust=\"spacingAndGlyphs\" textLength=\"121\" x=\"20\" y=\"20.9951\">RequirementTest</text></a><!--MD5=[b4997ac47864f28c2f74865a473b2911]\n",
       "class E2--><a href=\"psysml:8e8b9929-fb62-44f3-bb6e-73f88688eaf1\" target=\"_top\" title=\"psysml:8e8b9929-fb62-44f3-bb6e-73f88688eaf1\" xlink:actuate=\"onRequest\" xlink:href=\"psysml:8e8b9929-fb62-44f3-bb6e-73f88688eaf1\" xlink:show=\"new\" xlink:title=\"psysml:8e8b9929-fb62-44f3-bb6e-73f88688eaf1\" xlink:type=\"simple\"><rect fill=\"#FFFFFF\" height=\"45.9375\" id=\"E2\" style=\"stroke: #383838; stroke-width: 1.5;\" width=\"108\" x=\"329\" y=\"164\"/><text fill=\"#000000\" font-family=\"sans-serif\" font-size=\"12\" font-style=\"italic\" lengthAdjust=\"spacingAndGlyphs\" textLength=\"106\" x=\"330\" y=\"180.1387\">«constraint  def»</text><text fill=\"#000000\" font-family=\"sans-serif\" font-size=\"12\" lengthAdjust=\"spacingAndGlyphs\" textLength=\"8\" x=\"379\" y=\"194.1074\">C</text><line style=\"stroke: #383838; stroke-width: 1.5;\" x1=\"330\" x2=\"436\" y1=\"201.9375\" y2=\"201.9375\"/></a><!--MD5=[09b614a08d8cba4a07c9adeb5e0fee81]\n",
       "class E3--><a href=\"psysml:8dab2afb-478b-48f2-a7f7-bb2b245c05ea\" target=\"_top\" title=\"psysml:8dab2afb-478b-48f2-a7f7-bb2b245c05ea\" xlink:actuate=\"onRequest\" xlink:href=\"psysml:8dab2afb-478b-48f2-a7f7-bb2b245c05ea\" xlink:show=\"new\" xlink:title=\"psysml:8dab2afb-478b-48f2-a7f7-bb2b245c05ea\" xlink:type=\"simple\"><rect fill=\"#FFFFFF\" height=\"45.9375\" id=\"E3\" rx=\"10\" ry=\"10\" style=\"stroke: #383838; stroke-width: 1.5;\" width=\"80\" x=\"357\" y=\"41\"/><text fill=\"#000000\" font-family=\"sans-serif\" font-size=\"12\" font-style=\"italic\" lengthAdjust=\"spacingAndGlyphs\" textLength=\"78\" x=\"358\" y=\"57.1387\">«constraint»</text><text fill=\"#000000\" font-family=\"sans-serif\" font-size=\"12\" lengthAdjust=\"spacingAndGlyphs\" textLength=\"23\" x=\"383.5\" y=\"71.1074\">c: C</text><line style=\"stroke: #383838; stroke-width: 1.5;\" x1=\"358\" x2=\"436\" y1=\"78.9375\" y2=\"78.9375\"/></a><!--MD5=[ebbe1d658d1005bcc118a6aa81145e00]\n",
       "class E4--><a href=\"psysml:cae76f8a-948f-454f-8648-301efab5060e\" target=\"_top\" title=\"psysml:cae76f8a-948f-454f-8648-301efab5060e\" xlink:actuate=\"onRequest\" xlink:href=\"psysml:cae76f8a-948f-454f-8648-301efab5060e\" xlink:show=\"new\" xlink:title=\"psysml:cae76f8a-948f-454f-8648-301efab5060e\" xlink:type=\"simple\"><rect fill=\"#FFFFFF\" height=\"66.7422\" id=\"E4\" style=\"stroke: #383838; stroke-width: 1.5;\" width=\"121\" x=\"188.5\" y=\"271\"/><text fill=\"#000000\" font-family=\"sans-serif\" font-size=\"12\" font-style=\"italic\" lengthAdjust=\"spacingAndGlyphs\" textLength=\"119\" x=\"189.5\" y=\"287.1387\">«requirement  def»</text><text fill=\"#000000\" font-family=\"sans-serif\" font-size=\"12\" lengthAdjust=\"spacingAndGlyphs\" textLength=\"8\" x=\"245\" y=\"301.1074\">R</text><line style=\"stroke: #383838; stroke-width: 1.5;\" x1=\"189.5\" x2=\"308.5\" y1=\"308.9375\" y2=\"308.9375\"/><text fill=\"#000000\" font-family=\"sans-serif\" font-size=\"11\" lengthAdjust=\"spacingAndGlyphs\" textLength=\"0\" x=\"198.5\" y=\"323.1479\"/><line style=\"stroke: #383838; stroke-width: 1.0;\" x1=\"189.5\" x2=\"308.5\" y1=\"329.7422\" y2=\"329.7422\"/></a><!--MD5=[2156ba9850f5573cc1fc38a6a4b2f02b]\n",
       "class E7--><a href=\"psysml:70e6cc11-a878-4419-9a48-d32cb5df9816\" target=\"_top\" title=\"psysml:70e6cc11-a878-4419-9a48-d32cb5df9816\" xlink:actuate=\"onRequest\" xlink:href=\"psysml:70e6cc11-a878-4419-9a48-d32cb5df9816\" xlink:show=\"new\" xlink:title=\"psysml:70e6cc11-a878-4419-9a48-d32cb5df9816\" xlink:type=\"simple\"><rect fill=\"#FFFFFF\" height=\"45.9375\" id=\"E7\" rx=\"10\" ry=\"10\" style=\"stroke: #383838; stroke-width: 1.5;\" width=\"93\" x=\"144.5\" y=\"409.5\"/><text fill=\"#000000\" font-family=\"sans-serif\" font-size=\"12\" font-style=\"italic\" lengthAdjust=\"spacingAndGlyphs\" textLength=\"91\" x=\"145.5\" y=\"425.6387\">«requirement»</text><text fill=\"#000000\" font-family=\"sans-serif\" font-size=\"12\" lengthAdjust=\"spacingAndGlyphs\" text-decoration=\"line-through\" textLength=\"51\" x=\"165.5\" y=\"439.6074\">noname</text><line style=\"stroke: #383838; stroke-width: 1.5;\" x1=\"145.5\" x2=\"236.5\" y1=\"447.4375\" y2=\"447.4375\"/></a><!--MD5=[b9389687b975829384b498ac4b7476b2]\n",
       "class E8--><a href=\"psysml:5c5c4776-1d3a-4700-8516-1d3a67d779f4\" target=\"_top\" title=\"psysml:5c5c4776-1d3a-4700-8516-1d3a67d779f4\" xlink:actuate=\"onRequest\" xlink:href=\"psysml:5c5c4776-1d3a-4700-8516-1d3a67d779f4\" xlink:show=\"new\" xlink:title=\"psysml:5c5c4776-1d3a-4700-8516-1d3a67d779f4\" xlink:type=\"simple\"><rect fill=\"#FFFFFF\" height=\"66.7422\" id=\"E8\" style=\"stroke: #383838; stroke-width: 1.5;\" width=\"121\" x=\"272.5\" y=\"399\"/><text fill=\"#000000\" font-family=\"sans-serif\" font-size=\"12\" font-style=\"italic\" lengthAdjust=\"spacingAndGlyphs\" textLength=\"119\" x=\"273.5\" y=\"415.1387\">«requirement  def»</text><text fill=\"#000000\" font-family=\"sans-serif\" font-size=\"12\" lengthAdjust=\"spacingAndGlyphs\" textLength=\"5\" x=\"320\" y=\"429.1074\">[</text><text fill=\"#000000\" font-family=\"sans-serif\" font-size=\"12\" font-weight=\"bold\" lengthAdjust=\"spacingAndGlyphs\" textLength=\"8\" x=\"325\" y=\"429.1074\">1</text><text fill=\"#000000\" font-family=\"sans-serif\" font-size=\"12\" lengthAdjust=\"spacingAndGlyphs\" textLength=\"17\" x=\"333\" y=\"429.1074\">] A</text><line style=\"stroke: #383838; stroke-width: 1.5;\" x1=\"273.5\" x2=\"392.5\" y1=\"436.9375\" y2=\"436.9375\"/><text fill=\"#000000\" font-family=\"sans-serif\" font-size=\"11\" lengthAdjust=\"spacingAndGlyphs\" textLength=\"24\" x=\"278.5\" y=\"451.1479\">Text</text><line style=\"stroke: #383838; stroke-width: 1.0;\" x1=\"273.5\" x2=\"392.5\" y1=\"457.7422\" y2=\"457.7422\"/></a><!--MD5=[fd4143e9d270a159db93a4ea2a975926]\n",
       "class E9--><a href=\"psysml:f2fc2205-4b84-4313-b340-24ee025c15cf\" target=\"_top\" title=\"psysml:f2fc2205-4b84-4313-b340-24ee025c15cf\" xlink:actuate=\"onRequest\" xlink:href=\"psysml:f2fc2205-4b84-4313-b340-24ee025c15cf\" xlink:show=\"new\" xlink:title=\"psysml:f2fc2205-4b84-4313-b340-24ee025c15cf\" xlink:type=\"simple\"><rect fill=\"#FFFFFF\" height=\"45.9375\" id=\"E9\" style=\"stroke: #383838; stroke-width: 1.5;\" width=\"121\" x=\"32.5\" y=\"281.5\"/><text fill=\"#000000\" font-family=\"sans-serif\" font-size=\"12\" font-style=\"italic\" lengthAdjust=\"spacingAndGlyphs\" textLength=\"119\" x=\"33.5\" y=\"297.6387\">«requirement  def»</text><text fill=\"#000000\" font-family=\"sans-serif\" font-size=\"12\" lengthAdjust=\"spacingAndGlyphs\" textLength=\"16\" x=\"85\" y=\"311.6074\">R1</text><line style=\"stroke: #383838; stroke-width: 1.5;\" x1=\"33.5\" x2=\"152.5\" y1=\"319.4375\" y2=\"319.4375\"/></a><!--MD5=[1dd1bfd58a279cf63c5f349dbc8fc6a1]\n",
       "class E11--><a href=\"psysml:4203d305-f881-4dfa-bcc5-a82b5aac35c4\" target=\"_top\" title=\"psysml:4203d305-f881-4dfa-bcc5-a82b5aac35c4\" xlink:actuate=\"onRequest\" xlink:href=\"psysml:4203d305-f881-4dfa-bcc5-a82b5aac35c4\" xlink:show=\"new\" xlink:title=\"psysml:4203d305-f881-4dfa-bcc5-a82b5aac35c4\" xlink:type=\"simple\"><rect fill=\"#FFFFFF\" height=\"45.9375\" id=\"E11\" rx=\"10\" ry=\"10\" style=\"stroke: #383838; stroke-width: 1.5;\" width=\"42\" x=\"95\" y=\"41\"/><text fill=\"#000000\" font-family=\"sans-serif\" font-size=\"12\" font-style=\"italic\" lengthAdjust=\"spacingAndGlyphs\" textLength=\"40\" x=\"96\" y=\"57.1387\">«part»</text><text fill=\"#000000\" font-family=\"sans-serif\" font-size=\"12\" lengthAdjust=\"spacingAndGlyphs\" textLength=\"8\" x=\"112\" y=\"71.1074\">p</text><line style=\"stroke: #383838; stroke-width: 1.5;\" x1=\"96\" x2=\"136\" y1=\"78.9375\" y2=\"78.9375\"/></a><!--MD5=[49a0ec8f00dab7302a31f22d0f0fe584]\n",
       "class E12--><a href=\"psysml:d0dbee69-5f2e-4ac4-ba4b-4aca7380bae7\" target=\"_top\" title=\"psysml:d0dbee69-5f2e-4ac4-ba4b-4aca7380bae7\" xlink:actuate=\"onRequest\" xlink:href=\"psysml:d0dbee69-5f2e-4ac4-ba4b-4aca7380bae7\" xlink:show=\"new\" xlink:title=\"psysml:d0dbee69-5f2e-4ac4-ba4b-4aca7380bae7\" xlink:type=\"simple\"><rect fill=\"#FFFFFF\" height=\"45.9375\" id=\"E12\" rx=\"10\" ry=\"10\" style=\"stroke: #383838; stroke-width: 1.5;\" width=\"42\" x=\"280\" y=\"41\"/><text fill=\"#000000\" font-family=\"sans-serif\" font-size=\"12\" font-style=\"italic\" lengthAdjust=\"spacingAndGlyphs\" textLength=\"40\" x=\"281\" y=\"57.1387\">«part»</text><text fill=\"#000000\" font-family=\"sans-serif\" font-size=\"12\" lengthAdjust=\"spacingAndGlyphs\" textLength=\"8\" x=\"297\" y=\"71.1074\">q</text><line style=\"stroke: #383838; stroke-width: 1.5;\" x1=\"281\" x2=\"321\" y1=\"78.9375\" y2=\"78.9375\"/></a><!--MD5=[ee3c913d1a06f366521f9ef512b67efe]\n",
       "class E13--><a href=\"psysml:aee31540-9ea4-41ee-8ebb-8555bfaf03fb\" target=\"_top\" title=\"psysml:aee31540-9ea4-41ee-8ebb-8555bfaf03fb\" xlink:actuate=\"onRequest\" xlink:href=\"psysml:aee31540-9ea4-41ee-8ebb-8555bfaf03fb\" xlink:show=\"new\" xlink:title=\"psysml:aee31540-9ea4-41ee-8ebb-8555bfaf03fb\" xlink:type=\"simple\"><rect fill=\"#FFFFFF\" height=\"45.9375\" id=\"E13\" rx=\"10\" ry=\"10\" style=\"stroke: #383838; stroke-width: 1.5;\" width=\"93\" x=\"200.5\" y=\"164\"/><text fill=\"#000000\" font-family=\"sans-serif\" font-size=\"12\" font-style=\"italic\" lengthAdjust=\"spacingAndGlyphs\" textLength=\"91\" x=\"201.5\" y=\"180.1387\">«requirement»</text><text fill=\"#000000\" font-family=\"sans-serif\" font-size=\"12\" lengthAdjust=\"spacingAndGlyphs\" textLength=\"21\" x=\"234.5\" y=\"194.1074\">r: R</text><line style=\"stroke: #383838; stroke-width: 1.5;\" x1=\"201.5\" x2=\"292.5\" y1=\"201.9375\" y2=\"201.9375\"/></a><!--MD5=[bee11217b2f71d958a27249dc326068c]\n",
       "class E14--><a href=\"psysml:5c4fb90e-2e7f-411e-8437-1e0e9b0bd00e\" target=\"_top\" title=\"psysml:5c4fb90e-2e7f-411e-8437-1e0e9b0bd00e\" xlink:actuate=\"onRequest\" xlink:href=\"psysml:5c4fb90e-2e7f-411e-8437-1e0e9b0bd00e\" xlink:show=\"new\" xlink:title=\"psysml:5c4fb90e-2e7f-411e-8437-1e0e9b0bd00e\" xlink:type=\"simple\"><rect fill=\"#FFFFFF\" height=\"45.9375\" id=\"E14\" rx=\"10\" ry=\"10\" style=\"stroke: #383838; stroke-width: 1.5;\" width=\"93\" x=\"46.5\" y=\"164\"/><text fill=\"#000000\" font-family=\"sans-serif\" font-size=\"12\" font-style=\"italic\" lengthAdjust=\"spacingAndGlyphs\" textLength=\"91\" x=\"47.5\" y=\"180.1387\">«requirement»</text><text fill=\"#000000\" font-family=\"sans-serif\" font-size=\"12\" lengthAdjust=\"spacingAndGlyphs\" textLength=\"37\" x=\"72.5\" y=\"194.1074\">r1: R1</text><line style=\"stroke: #383838; stroke-width: 1.5;\" x1=\"47.5\" x2=\"138.5\" y1=\"201.9375\" y2=\"201.9375\"/></a><!--MD5=[05d275557350bfb9b23a4ef7222b4c39]\n",
       "link E3 to E2--><a href=\"psysml:1cfa9d08-8b1e-49ae-8f22-7ec5c2d68c94\" target=\"_top\" title=\"psysml:1cfa9d08-8b1e-49ae-8f22-7ec5c2d68c94\" xlink:actuate=\"onRequest\" xlink:href=\"psysml:1cfa9d08-8b1e-49ae-8f22-7ec5c2d68c94\" xlink:show=\"new\" xlink:title=\"psysml:1cfa9d08-8b1e-49ae-8f22-7ec5c2d68c94\" xlink:type=\"simple\"><path d=\"M418.43,87.25 C428.59,100.56 437.27,117.96 431,134 C429.08,138.91 426.46,143.63 423.42,148.09 \" fill=\"none\" id=\"E3-&gt;E2\" style=\"stroke: #383838; stroke-width: 1.0;\"/><polygon fill=\"#FFFFFF\" points=\"410.27,163.84,417.0769,144.77,427.8221,153.7444,410.27,163.84\" style=\"stroke: #383838; stroke-width: 1.0;\"/><ellipse cx=\"422.2658\" cy=\"141.6772\" fill=\"#383838\" rx=\"2\" ry=\"2\" style=\"stroke: #383838; stroke-width: 1.0;\"/><ellipse cx=\"429.941\" cy=\"148.0874\" fill=\"#383838\" rx=\"2\" ry=\"2\" style=\"stroke: #383838; stroke-width: 1.0;\"/></a><!--MD5=[722ff4eef345aa10242dad44df0e98c7]\n",
       "reverse link E4 to E7--><a href=\"psysml:8957256b-d423-4c87-844e-8026b3f5c553\" target=\"_top\" title=\"psysml:8957256b-d423-4c87-844e-8026b3f5c553\" xlink:actuate=\"onRequest\" xlink:href=\"psysml:8957256b-d423-4c87-844e-8026b3f5c553\" xlink:show=\"new\" xlink:title=\"psysml:8957256b-d423-4c87-844e-8026b3f5c553\" xlink:type=\"simple\"><path d=\"M228.38,350.29 C219.19,370.26 208.76,392.91 201.26,409.21 \" fill=\"none\" id=\"E4&lt;-E7\" style=\"stroke: #383838; stroke-width: 1.0;\"/><polygon fill=\"#383838\" points=\"233.91,338.28,227.7664,342.0558,228.8888,349.179,235.0324,345.4032,233.91,338.28\" style=\"stroke: #383838; stroke-width: 1.0;\"/><text fill=\"#000000\" font-family=\"sans-serif\" font-size=\"13\" lengthAdjust=\"spacingAndGlyphs\" textLength=\"7\" x=\"195.9922\" y=\"398.412\">*</text></a><!--MD5=[c6fc7cdb0cabde04948078cf183fa696]\n",
       "reverse link E4 to E8--><a href=\"psysml:e7993699-2e90-4c6e-9ce7-c90f60868f83\" target=\"_top\" title=\"psysml:e7993699-2e90-4c6e-9ce7-c90f60868f83\" xlink:actuate=\"onRequest\" xlink:href=\"psysml:e7993699-2e90-4c6e-9ce7-c90f60868f83\" xlink:show=\"new\" xlink:title=\"psysml:e7993699-2e90-4c6e-9ce7-c90f60868f83\" xlink:type=\"simple\"><path d=\"M279.4,351.09 C289.94,366.92 301.55,384.33 311.26,398.89 \" fill=\"none\" id=\"E4&lt;-E8\" style=\"stroke: #383838; stroke-width: 1.0;\"/><ellipse cx=\"275.2894\" cy=\"344.9352\" fill=\"#FFFFFF\" rx=\"8\" ry=\"8\" style=\"stroke: #383838; stroke-width: 1.0;\"/><line style=\"stroke: #383838; stroke-width: 1.0;\" x1=\"279.7287\" x2=\"270.85\" y1=\"351.5905\" y2=\"338.28\"/><line style=\"stroke: #383838; stroke-width: 1.0;\" x1=\"268.6341\" x2=\"281.9446\" y1=\"349.3746\" y2=\"340.4959\"/></a><!--MD5=[062ed86c389d1a88f61c6380d0491e17]\n",
       "reverse link E12 to E13--><a href=\"psysml:0f26ba0d-7372-4c44-875c-adf3c35e17b9\" target=\"_top\" title=\"psysml:0f26ba0d-7372-4c44-875c-adf3c35e17b9\" xlink:actuate=\"onRequest\" xlink:href=\"psysml:0f26ba0d-7372-4c44-875c-adf3c35e17b9\" xlink:show=\"new\" xlink:title=\"psysml:0f26ba0d-7372-4c44-875c-adf3c35e17b9\" xlink:type=\"simple\"><path d=\"M333.8,84.02 C335.88,85.07 337.96,86.07 340,87 C378.92,104.77 450.04,100.06 424,134 C392.63,174.88 361.32,149.06 312,164 C306.07,165.8 299.87,167.77 293.75,169.77 \" fill=\"none\" id=\"E12&lt;-E13\" style=\"stroke: #383838; stroke-width: 1.0;\"/><polygon fill=\"#383838\" points=\"322.11,77.78,325.5172,84.1354,332.6942,83.4346,329.287,77.0792,322.11,77.78\" style=\"stroke: #383838; stroke-width: 1.0;\"/></a><!--MD5=[e2a9ac97dcd3257bb5342dae06547bad]\n",
       "link E12 to E13--><a href=\"psysml:f5a4eec3-f375-4f03-819b-6c5c8dc7728c\" target=\"_top\" title=\"psysml:f5a4eec3-f375-4f03-819b-6c5c8dc7728c\" xlink:actuate=\"onRequest\" xlink:href=\"psysml:f5a4eec3-f375-4f03-819b-6c5c8dc7728c\" xlink:show=\"new\" xlink:title=\"psysml:f5a4eec3-f375-4f03-819b-6c5c8dc7728c\" xlink:type=\"simple\"><path d=\"M317.81,87.18 C326.17,101.08 332.96,119.13 325,134 C318.83,145.53 308.85,154.94 298.06,162.43 \" fill=\"none\" id=\"E12-&gt;E13\" style=\"stroke: #383838; stroke-width: 1.0; stroke-dasharray: 7.0,7.0;\"/><polygon fill=\"#383838\" points=\"293.73,165.31,303.4373,163.6459,297.8903,162.5365,298.9997,156.9895,293.73,165.31\" style=\"stroke: #383838; stroke-width: 1.0;\"/><text fill=\"#000000\" font-family=\"sans-serif\" font-size=\"13\" lengthAdjust=\"spacingAndGlyphs\" textLength=\"57\" x=\"329\" y=\"130.0669\">«satisfy»</text></a><!--MD5=[017847e01ff9a8bd19f247411074f987]\n",
       "link E13 to E4--><a href=\"psysml:e01bb7f1-206a-408f-a898-0799ec242df4\" target=\"_top\" title=\"psysml:e01bb7f1-206a-408f-a898-0799ec242df4\" xlink:actuate=\"onRequest\" xlink:href=\"psysml:e01bb7f1-206a-408f-a898-0799ec242df4\" xlink:show=\"new\" xlink:title=\"psysml:e01bb7f1-206a-408f-a898-0799ec242df4\" xlink:type=\"simple\"><path d=\"M247.39,210.27 C247.59,221.81 247.84,236.43 248.09,250.66 \" fill=\"none\" id=\"E13-&gt;E4\" style=\"stroke: #383838; stroke-width: 1.0;\"/><polygon fill=\"#FFFFFF\" points=\"248.43,270.81,241.1054,251.9328,255.1033,251.6928,248.43,270.81\" style=\"stroke: #383838; stroke-width: 1.0;\"/><ellipse cx=\"243.0074\" cy=\"246.1993\" fill=\"#383838\" rx=\"2\" ry=\"2\" style=\"stroke: #383838; stroke-width: 1.0;\"/><ellipse cx=\"253.0059\" cy=\"246.0279\" fill=\"#383838\" rx=\"2\" ry=\"2\" style=\"stroke: #383838; stroke-width: 1.0;\"/></a><!--MD5=[60f911bb19596b289db4a22769f8105a]\n",
       "link E11 to E13--><a href=\"psysml:e806deaf-0ce2-4d10-9e57-833502fc32ee\" target=\"_top\" title=\"psysml:e806deaf-0ce2-4d10-9e57-833502fc32ee\" xlink:actuate=\"onRequest\" xlink:href=\"psysml:e806deaf-0ce2-4d10-9e57-833502fc32ee\" xlink:show=\"new\" xlink:title=\"psysml:e806deaf-0ce2-4d10-9e57-833502fc32ee\" xlink:type=\"simple\"><path d=\"M127.91,87.28 C136.39,101.75 148.76,120.37 163,134 C173.59,144.14 186.48,153.31 198.95,161.02 \" fill=\"none\" id=\"E11-&gt;E13\" style=\"stroke: #383838; stroke-width: 1.0; stroke-dasharray: 7.0,7.0;\"/><polygon fill=\"#383838\" points=\"203.52,163.8,197.9,155.712,199.2452,161.2066,193.7506,162.5517,203.52,163.8\" style=\"stroke: #383838; stroke-width: 1.0;\"/><text fill=\"#000000\" font-family=\"sans-serif\" font-size=\"13\" lengthAdjust=\"spacingAndGlyphs\" textLength=\"57\" x=\"164\" y=\"130.0669\">«satisfy»</text></a><!--MD5=[0c677eb374079406c87b74cd1f5a339d]\n",
       "link E14 to E9--><a href=\"psysml:d6ece11e-fb98-4dd6-9106-0f6846b0bd9f\" target=\"_top\" title=\"psysml:d6ece11e-fb98-4dd6-9106-0f6846b0bd9f\" xlink:actuate=\"onRequest\" xlink:href=\"psysml:d6ece11e-fb98-4dd6-9106-0f6846b0bd9f\" xlink:show=\"new\" xlink:title=\"psysml:d6ece11e-fb98-4dd6-9106-0f6846b0bd9f\" xlink:type=\"simple\"><path d=\"M93,210.27 C93,224.65 93,243.82 93,261.04 \" fill=\"none\" id=\"E14-&gt;E9\" style=\"stroke: #383838; stroke-width: 1.0;\"/><polygon fill=\"#FFFFFF\" points=\"93,281.3,86,262.3,100,262.3,93,281.3\" style=\"stroke: #383838; stroke-width: 1.0;\"/><ellipse cx=\"88\" cy=\"256.6\" fill=\"#383838\" rx=\"2\" ry=\"2\" style=\"stroke: #383838; stroke-width: 1.0;\"/><ellipse cx=\"98\" cy=\"256.6\" fill=\"#383838\" rx=\"2\" ry=\"2\" style=\"stroke: #383838; stroke-width: 1.0;\"/></a><!--MD5=[9c1c40551dcf5c2fca147626a786a7cd]\n",
       "link E11 to E14--><a href=\"psysml:feaea2f2-720b-4dbc-ba1d-0aec40f00046\" target=\"_top\" title=\"psysml:feaea2f2-720b-4dbc-ba1d-0aec40f00046\" xlink:actuate=\"onRequest\" xlink:href=\"psysml:feaea2f2-720b-4dbc-ba1d-0aec40f00046\" xlink:show=\"new\" xlink:title=\"psysml:feaea2f2-720b-4dbc-ba1d-0aec40f00046\" xlink:type=\"simple\"><path d=\"M94.96,79.46 C83.46,88.7 70.3,101.78 64,117 C58.15,131.13 63.81,146.85 71.63,159.71 \" fill=\"none\" id=\"E11-&gt;E14\" style=\"stroke: #383838; stroke-width: 1.0; stroke-dasharray: 7.0,7.0;\"/><polygon fill=\"#383838\" points=\"74.35,163.96,72.8629,154.2241,71.6527,159.7499,66.1268,158.5397,74.35,163.96\" style=\"stroke: #383838; stroke-width: 1.0;\"/><text fill=\"#000000\" font-family=\"sans-serif\" font-size=\"13\" lengthAdjust=\"spacingAndGlyphs\" textLength=\"57\" x=\"65\" y=\"130.0669\">«satisfy»</text></a><!--MD5=[d53cb08dffc8689d16e38c8e194e9adc]\n",
       "link E12 to E14--><a href=\"psysml:f5704f7b-2601-4abd-90b0-2ec51a978e80\" target=\"_top\" title=\"psysml:f5704f7b-2601-4abd-90b0-2ec51a978e80\" xlink:actuate=\"onRequest\" xlink:href=\"psysml:f5704f7b-2601-4abd-90b0-2ec51a978e80\" xlink:show=\"new\" xlink:title=\"psysml:f5704f7b-2601-4abd-90b0-2ec51a978e80\" xlink:type=\"simple\"><path d=\"M281.09,87.22 C266.89,102.03 246.71,121.07 226,134 C200.86,149.7 170.21,162.07 144.66,170.81 \" fill=\"none\" id=\"E12-&gt;E14\" style=\"stroke: #383838; stroke-width: 1.0; stroke-dasharray: 7.0,7.0;\"/><polygon fill=\"#383838\" points=\"139.62,172.5,149.4273,173.4043,144.3562,170.8974,146.8631,165.8264,139.62,172.5\" style=\"stroke: #383838; stroke-width: 1.0;\"/><text fill=\"#000000\" font-family=\"sans-serif\" font-size=\"13\" lengthAdjust=\"spacingAndGlyphs\" textLength=\"57\" x=\"249\" y=\"130.0669\">«satisfy»</text></a><!--MD5=[a030b9b22adcca2974a04f36ed121832]\n",
       "@startuml\r\n",
       "skinparam monochrome true\r\n",
       "skinparam classbackgroundcolor white\r\n",
       "skinparam shadowing false\r\n",
       "skinparam wrapWidth 300\r\n",
       "hide circle\r\n",
       "\r\n",
       "package \"RequirementTest\" as E1  [[psysml:2a075407-fc8d-47b4-b4de-e1839d24b848 ]]  {\r\n",
       "comp def \"C\" as E2  <<(T,blue) constraint  def>> [[psysml:8e8b9929-fb62-44f3-bb6e-73f88688eaf1 ]] {\r\n",
       "}\r\n",
       "comp usage \"c: C \" as E3  <<(T,blue) constraint>> [[psysml:8dab2afb-478b-48f2-a7f7-bb2b245c05ea ]] {\r\n",
       "}\r\n",
       "comp def \"R\" as E4  <<(T,blue) requirement  def>> [[psysml:cae76f8a-948f-454f-8648-301efab5060e ]] {\r\n",
       "\r\n",
       "- -\r\n",
       "}\r\n",
       "comp usage \"<s>noname</s>\" as E7  <<(T,blue) requirement>> [[psysml:70e6cc11-a878-4419-9a48-d32cb5df9816 ]] {\r\n",
       "}\r\n",
       "comp def \" [<b>1</b>] A\" as E8  <<(T,blue) requirement  def>> [[psysml:5c5c4776-1d3a-4700-8516-1d3a67d779f4 ]] {\r\n",
       "Text\r\n",
       "- -\r\n",
       "}\r\n",
       "comp def \"R1\" as E9  <<(T,blue) requirement  def>> [[psysml:f2fc2205-4b84-4313-b340-24ee025c15cf ]] {\r\n",
       "}\r\n",
       "comp usage \"p\" as E11  <<(T,blue) part>> [[psysml:4203d305-f881-4dfa-bcc5-a82b5aac35c4 ]] {\r\n",
       "}\r\n",
       "comp usage \"q\" as E12  <<(T,blue) part>> [[psysml:d0dbee69-5f2e-4ac4-ba4b-4aca7380bae7 ]] {\r\n",
       "}\r\n",
       "comp usage \"r: R \" as E13  <<(T,blue) requirement>> [[psysml:aee31540-9ea4-41ee-8ebb-8555bfaf03fb ]] {\r\n",
       "}\r\n",
       "comp usage \"r1: R1 \" as E14  <<(T,blue) requirement>> [[psysml:5c4fb90e-2e7f-411e-8437-1e0e9b0bd00e ]] {\r\n",
       "}\r\n",
       "}\r\n",
       "E3 - -:|> E2 [[psysml:1cfa9d08-8b1e-49ae-8f22-7ec5c2d68c94 ]] \r\n",
       "E4 *- - \"*\"E7 [[psysml:8957256b-d423-4c87-844e-8026b3f5c553 ]] \r\n",
       "E4 +- - E8 [[psysml:e7993699-2e90-4c6e-9ce7-c90f60868f83 ]] \r\n",
       "E12 *- - E13 [[psysml:0f26ba0d-7372-4c44-875c-adf3c35e17b9 ]] \r\n",
       "E13 - -:|> E4 [[psysml:e01bb7f1-206a-408f-a898-0799ec242df4 ]] \r\n",
       "E11 ..> E13 [[psysml:e806deaf-0ce2-4d10-9e57-833502fc32ee ]] : <<satisfy>>\r\n",
       "E12 ..> E13 [[psysml:f5a4eec3-f375-4f03-819b-6c5c8dc7728c ]] : <<satisfy>>\r\n",
       "E14 - -:|> E9 [[psysml:d6ece11e-fb98-4dd6-9106-0f6846b0bd9f ]] \r\n",
       "E11 ..> E14 [[psysml:feaea2f2-720b-4dbc-ba1d-0aec40f00046 ]] : <<satisfy>>\r\n",
       "E12 ..> E14 [[psysml:f5704f7b-2601-4abd-90b0-2ec51a978e80 ]] : <<satisfy>>\r\n",
       "@enduml\r\n",
       "\n",
       "PlantUML version 1.2020.13(Sat Jun 13 12:26:38 UTC 2020)\n",
       "(EPL source distribution)\n",
       "Java Runtime: OpenJDK Runtime Environment\n",
       "JVM: OpenJDK 64-Bit Server VM\n",
       "Default Encoding: UTF-8\n",
       "Language: en\n",
       "Country: null\n",
       "--></g></svg>"
      ]
     },
     "execution_count": 38,
     "metadata": {},
     "output_type": "execute_result"
    }
   ],
   "source": [
    "%viz --style=\"DEFAULT\" --view=\"Tree\" \"RequirementTest\""
   ]
  },
  {
   "cell_type": "code",
   "execution_count": 39,
   "id": "7b04fdc1",
   "metadata": {
    "execution": {
     "iopub.execute_input": "2021-10-25T08:21:14.602949Z",
     "iopub.status.busy": "2021-10-25T08:21:14.602498Z",
     "iopub.status.idle": "2021-10-25T08:21:14.607569Z",
     "shell.execute_reply": "2021-10-25T08:21:14.607871Z"
    }
   },
   "outputs": [
    {
     "data": {
      "image/svg+xml": [
       "<?xml version=\"1.0\" encoding=\"UTF-8\" standalone=\"no\"?><svg xmlns=\"http://www.w3.org/2000/svg\" xmlns:xlink=\"http://www.w3.org/1999/xlink\" contentScriptType=\"application/ecmascript\" contentStyleType=\"text/css\" height=\"12px\" preserveAspectRatio=\"none\" style=\"width:12px;height:12px;\" version=\"1.1\" viewBox=\"0 0 12 12\" width=\"12px\" zoomAndPan=\"magnify\"><defs/><g><!--MD5=[c5f280e076d0d61ccf4b0f27871bda1d]\n",
       "@startuml\r\n",
       "skinparam monochrome true\r\n",
       "skinparam classbackgroundcolor white\r\n",
       "skinparam shadowing false\r\n",
       "skinparam wrapWidth 300\r\n",
       "hide circle\r\n",
       "\r\n",
       "@enduml\r\n",
       "\n",
       "PlantUML version 1.2020.13(Sat Jun 13 12:26:38 UTC 2020)\n",
       "(EPL source distribution)\n",
       "Java Runtime: OpenJDK Runtime Environment\n",
       "JVM: OpenJDK 64-Bit Server VM\n",
       "Default Encoding: UTF-8\n",
       "Language: en\n",
       "Country: null\n",
       "--></g></svg>"
      ]
     },
     "execution_count": 39,
     "metadata": {},
     "output_type": "execute_result"
    }
   ],
   "source": [
    "%viz --style=\"DEFAULT\" --view=\"State\" \"RequirementTest\""
   ]
  },
  {
   "cell_type": "code",
   "execution_count": 40,
   "id": "1fd91af5",
   "metadata": {
    "execution": {
     "iopub.execute_input": "2021-10-25T08:21:14.657363Z",
     "iopub.status.busy": "2021-10-25T08:21:14.656902Z",
     "iopub.status.idle": "2021-10-25T08:21:14.715278Z",
     "shell.execute_reply": "2021-10-25T08:21:14.714896Z"
    }
   },
   "outputs": [
    {
     "data": {
      "image/svg+xml": [
       "<?xml version=\"1.0\" encoding=\"UTF-8\" standalone=\"no\"?><svg xmlns=\"http://www.w3.org/2000/svg\" xmlns:xlink=\"http://www.w3.org/1999/xlink\" contentScriptType=\"application/ecmascript\" contentStyleType=\"text/css\" height=\"438px\" preserveAspectRatio=\"none\" style=\"width:492px;height:438px;\" version=\"1.1\" viewBox=\"0 0 492 438\" width=\"492px\" zoomAndPan=\"magnify\"><defs/><g><!--MD5=[fbc87193dbaf4d95561dea2c320d4a47]\n",
       "cluster E1--><a href=\"psysml:2a075407-fc8d-47b4-b4de-e1839d24b848\" target=\"_top\" title=\"psysml:2a075407-fc8d-47b4-b4de-e1839d24b848\" xlink:actuate=\"onRequest\" xlink:href=\"psysml:2a075407-fc8d-47b4-b4de-e1839d24b848\" xlink:show=\"new\" xlink:title=\"psysml:2a075407-fc8d-47b4-b4de-e1839d24b848\" xlink:type=\"simple\"><polygon fill=\"#FFFFFF\" points=\"16,6,143,6,150,28.2969,470,28.2969,470,426.36,16,426.36,16,6\" style=\"stroke: #000000; stroke-width: 1.5;\"/><line style=\"stroke: #000000; stroke-width: 1.5;\" x1=\"16\" x2=\"150\" y1=\"28.2969\" y2=\"28.2969\"/><text fill=\"#000000\" font-family=\"sans-serif\" font-size=\"14\" font-weight=\"bold\" lengthAdjust=\"spacingAndGlyphs\" textLength=\"121\" x=\"20\" y=\"20.9951\">RequirementTest</text></a><!--MD5=[47bea60c1a0ac6c1143df232041969c0]\n",
       "cluster E12--><a href=\"psysml:d0dbee69-5f2e-4ac4-ba4b-4aca7380bae7\" target=\"_top\" title=\"psysml:d0dbee69-5f2e-4ac4-ba4b-4aca7380bae7\" xlink:actuate=\"onRequest\" xlink:href=\"psysml:d0dbee69-5f2e-4ac4-ba4b-4aca7380bae7\" xlink:show=\"new\" xlink:title=\"psysml:d0dbee69-5f2e-4ac4-ba4b-4aca7380bae7\" xlink:type=\"simple\"><rect fill=\"#FFFFFF\" height=\"169.36\" id=\"E12\" rx=\"10\" ry=\"10\" style=\"stroke: #383838; stroke-width: 1.5;\" width=\"140\" x=\"48\" y=\"57\"/><rect fill=\"#F8F8F8\" height=\"23.9688\" rx=\"10\" ry=\"10\" style=\"stroke: #F8F8F8; stroke-width: 1.5;\" width=\"140\" x=\"48\" y=\"57\"/><rect fill=\"#F8F8F8\" height=\"10\" style=\"stroke: #F8F8F8; stroke-width: 1.5;\" width=\"140\" x=\"48\" y=\"70.9688\"/><rect fill=\"none\" height=\"169.36\" id=\"E12\" rx=\"10\" ry=\"10\" style=\"stroke: #383838; stroke-width: 1.5;\" width=\"140\" x=\"48\" y=\"57\"/><text fill=\"#000000\" font-family=\"sans-serif\" font-size=\"12\" lengthAdjust=\"spacingAndGlyphs\" textLength=\"8\" x=\"114\" y=\"73.1387\">q</text><line style=\"stroke: #383838; stroke-width: 1.0;\" x1=\"48\" x2=\"188\" y1=\"80.9688\" y2=\"80.9688\"/></a><g id=\"E1.E2\"><a href=\"psysml:8e8b9929-fb62-44f3-bb6e-73f88688eaf1\" target=\"_top\" title=\"psysml:8e8b9929-fb62-44f3-bb6e-73f88688eaf1\" xlink:actuate=\"onRequest\" xlink:href=\"psysml:8e8b9929-fb62-44f3-bb6e-73f88688eaf1\" xlink:show=\"new\" xlink:title=\"psysml:8e8b9929-fb62-44f3-bb6e-73f88688eaf1\" xlink:type=\"simple\"><rect fill=\"#FFFFFF\" height=\"42.9375\" id=\"E2\" style=\"stroke: #383838; stroke-width: 1.5;\" width=\"113\" x=\"340.5\" y=\"157.86\"/><rect fill=\"#F8F8F8\" height=\"37.9375\" style=\"stroke: #383838; stroke-width: 1.5;\" width=\"113\" x=\"340.5\" y=\"157.86\"/><text fill=\"#000000\" font-family=\"sans-serif\" font-size=\"12\" font-style=\"italic\" lengthAdjust=\"spacingAndGlyphs\" textLength=\"106\" x=\"344\" y=\"173.9987\">«constraint  def»</text><text fill=\"#000000\" font-family=\"sans-serif\" font-size=\"12\" lengthAdjust=\"spacingAndGlyphs\" textLength=\"8\" x=\"393\" y=\"187.9674\">C</text></a></g><!--MD5=[09b614a08d8cba4a07c9adeb5e0fee81]\n",
       "class E3--><a href=\"psysml:8dab2afb-478b-48f2-a7f7-bb2b245c05ea\" target=\"_top\" title=\"psysml:8dab2afb-478b-48f2-a7f7-bb2b245c05ea\" xlink:actuate=\"onRequest\" xlink:href=\"psysml:8dab2afb-478b-48f2-a7f7-bb2b245c05ea\" xlink:show=\"new\" xlink:title=\"psysml:8dab2afb-478b-48f2-a7f7-bb2b245c05ea\" xlink:type=\"simple\"><rect fill=\"#FFFFFF\" height=\"45.9375\" id=\"E3\" rx=\"10\" ry=\"10\" style=\"stroke: #383838; stroke-width: 1.5;\" width=\"80\" x=\"374\" y=\"61.36\"/><text fill=\"#000000\" font-family=\"sans-serif\" font-size=\"12\" font-style=\"italic\" lengthAdjust=\"spacingAndGlyphs\" textLength=\"78\" x=\"375\" y=\"77.4987\">«constraint»</text><text fill=\"#000000\" font-family=\"sans-serif\" font-size=\"12\" lengthAdjust=\"spacingAndGlyphs\" textLength=\"23\" x=\"400.5\" y=\"91.4674\">c: C</text><line style=\"stroke: #383838; stroke-width: 1.5;\" x1=\"375\" x2=\"453\" y1=\"99.2975\" y2=\"99.2975\"/></a><!--MD5=[ebbe1d658d1005bcc118a6aa81145e00]\n",
       "class E4--><a href=\"psysml:cae76f8a-948f-454f-8648-301efab5060e\" target=\"_top\" title=\"psysml:cae76f8a-948f-454f-8648-301efab5060e\" xlink:actuate=\"onRequest\" xlink:href=\"psysml:cae76f8a-948f-454f-8648-301efab5060e\" xlink:show=\"new\" xlink:title=\"psysml:cae76f8a-948f-454f-8648-301efab5060e\" xlink:type=\"simple\"><rect fill=\"#FFFFFF\" height=\"66.7422\" id=\"E4\" style=\"stroke: #383838; stroke-width: 1.5;\" width=\"121\" x=\"51.5\" y=\"259.36\"/><text fill=\"#000000\" font-family=\"sans-serif\" font-size=\"12\" font-style=\"italic\" lengthAdjust=\"spacingAndGlyphs\" textLength=\"119\" x=\"52.5\" y=\"275.4987\">«requirement  def»</text><text fill=\"#000000\" font-family=\"sans-serif\" font-size=\"12\" lengthAdjust=\"spacingAndGlyphs\" textLength=\"8\" x=\"108\" y=\"289.4674\">R</text><line style=\"stroke: #383838; stroke-width: 1.5;\" x1=\"52.5\" x2=\"171.5\" y1=\"297.2975\" y2=\"297.2975\"/><text fill=\"#000000\" font-family=\"sans-serif\" font-size=\"11\" lengthAdjust=\"spacingAndGlyphs\" textLength=\"0\" x=\"61.5\" y=\"311.5079\"/><line style=\"stroke: #383838; stroke-width: 1.0;\" x1=\"52.5\" x2=\"171.5\" y1=\"318.1022\" y2=\"318.1022\"/></a><!--MD5=[2156ba9850f5573cc1fc38a6a4b2f02b]\n",
       "class E7--><a href=\"psysml:70e6cc11-a878-4419-9a48-d32cb5df9816\" target=\"_top\" title=\"psysml:70e6cc11-a878-4419-9a48-d32cb5df9816\" xlink:actuate=\"onRequest\" xlink:href=\"psysml:70e6cc11-a878-4419-9a48-d32cb5df9816\" xlink:show=\"new\" xlink:title=\"psysml:70e6cc11-a878-4419-9a48-d32cb5df9816\" xlink:type=\"simple\"><rect fill=\"#FFFFFF\" height=\"45.9375\" id=\"E7\" rx=\"10\" ry=\"10\" style=\"stroke: #383838; stroke-width: 1.5;\" width=\"93\" x=\"43.5\" y=\"353.86\"/><text fill=\"#000000\" font-family=\"sans-serif\" font-size=\"12\" font-style=\"italic\" lengthAdjust=\"spacingAndGlyphs\" textLength=\"91\" x=\"44.5\" y=\"369.9987\">«requirement»</text><text fill=\"#000000\" font-family=\"sans-serif\" font-size=\"12\" lengthAdjust=\"spacingAndGlyphs\" text-decoration=\"line-through\" textLength=\"51\" x=\"64.5\" y=\"383.9674\">noname</text><line style=\"stroke: #383838; stroke-width: 1.5;\" x1=\"44.5\" x2=\"135.5\" y1=\"391.7975\" y2=\"391.7975\"/></a><!--MD5=[b9389687b975829384b498ac4b7476b2]\n",
       "class E8--><a href=\"psysml:5c5c4776-1d3a-4700-8516-1d3a67d779f4\" target=\"_top\" title=\"psysml:5c5c4776-1d3a-4700-8516-1d3a67d779f4\" xlink:actuate=\"onRequest\" xlink:href=\"psysml:5c5c4776-1d3a-4700-8516-1d3a67d779f4\" xlink:show=\"new\" xlink:title=\"psysml:5c5c4776-1d3a-4700-8516-1d3a67d779f4\" xlink:type=\"simple\"><rect fill=\"#FFFFFF\" height=\"66.7422\" id=\"E8\" style=\"stroke: #383838; stroke-width: 1.5;\" width=\"121\" x=\"171.5\" y=\"343.36\"/><text fill=\"#000000\" font-family=\"sans-serif\" font-size=\"12\" font-style=\"italic\" lengthAdjust=\"spacingAndGlyphs\" textLength=\"119\" x=\"172.5\" y=\"359.4987\">«requirement  def»</text><text fill=\"#000000\" font-family=\"sans-serif\" font-size=\"12\" lengthAdjust=\"spacingAndGlyphs\" textLength=\"5\" x=\"219\" y=\"373.4674\">[</text><text fill=\"#000000\" font-family=\"sans-serif\" font-size=\"12\" font-weight=\"bold\" lengthAdjust=\"spacingAndGlyphs\" textLength=\"8\" x=\"224\" y=\"373.4674\">1</text><text fill=\"#000000\" font-family=\"sans-serif\" font-size=\"12\" lengthAdjust=\"spacingAndGlyphs\" textLength=\"17\" x=\"232\" y=\"373.4674\">] A</text><line style=\"stroke: #383838; stroke-width: 1.5;\" x1=\"172.5\" x2=\"291.5\" y1=\"381.2975\" y2=\"381.2975\"/><text fill=\"#000000\" font-family=\"sans-serif\" font-size=\"11\" lengthAdjust=\"spacingAndGlyphs\" textLength=\"24\" x=\"177.5\" y=\"395.5079\">Text</text><line style=\"stroke: #383838; stroke-width: 1.0;\" x1=\"172.5\" x2=\"291.5\" y1=\"402.1022\" y2=\"402.1022\"/></a><!--MD5=[fd4143e9d270a159db93a4ea2a975926]\n",
       "class E9--><a href=\"psysml:f2fc2205-4b84-4313-b340-24ee025c15cf\" target=\"_top\" title=\"psysml:f2fc2205-4b84-4313-b340-24ee025c15cf\" xlink:actuate=\"onRequest\" xlink:href=\"psysml:f2fc2205-4b84-4313-b340-24ee025c15cf\" xlink:show=\"new\" xlink:title=\"psysml:f2fc2205-4b84-4313-b340-24ee025c15cf\" xlink:type=\"simple\"><rect fill=\"#FFFFFF\" height=\"45.9375\" id=\"E9\" style=\"stroke: #383838; stroke-width: 1.5;\" width=\"121\" x=\"207.5\" y=\"269.86\"/><text fill=\"#000000\" font-family=\"sans-serif\" font-size=\"12\" font-style=\"italic\" lengthAdjust=\"spacingAndGlyphs\" textLength=\"119\" x=\"208.5\" y=\"285.9987\">«requirement  def»</text><text fill=\"#000000\" font-family=\"sans-serif\" font-size=\"12\" lengthAdjust=\"spacingAndGlyphs\" textLength=\"16\" x=\"260\" y=\"299.9674\">R1</text><line style=\"stroke: #383838; stroke-width: 1.5;\" x1=\"208.5\" x2=\"327.5\" y1=\"307.7975\" y2=\"307.7975\"/></a><!--MD5=[bee11217b2f71d958a27249dc326068c]\n",
       "class E14--><a href=\"psysml:5c4fb90e-2e7f-411e-8437-1e0e9b0bd00e\" target=\"_top\" title=\"psysml:5c4fb90e-2e7f-411e-8437-1e0e9b0bd00e\" xlink:actuate=\"onRequest\" xlink:href=\"psysml:5c4fb90e-2e7f-411e-8437-1e0e9b0bd00e\" xlink:show=\"new\" xlink:title=\"psysml:5c4fb90e-2e7f-411e-8437-1e0e9b0bd00e\" xlink:type=\"simple\"><rect fill=\"#FFFFFF\" height=\"45.9375\" id=\"E14\" rx=\"10\" ry=\"10\" style=\"stroke: #383838; stroke-width: 1.5;\" width=\"93\" x=\"212.5\" y=\"156.36\"/><text fill=\"#000000\" font-family=\"sans-serif\" font-size=\"12\" font-style=\"italic\" lengthAdjust=\"spacingAndGlyphs\" textLength=\"91\" x=\"213.5\" y=\"172.4987\">«requirement»</text><text fill=\"#000000\" font-family=\"sans-serif\" font-size=\"12\" lengthAdjust=\"spacingAndGlyphs\" textLength=\"37\" x=\"238.5\" y=\"186.4674\">r1: R1</text><line style=\"stroke: #383838; stroke-width: 1.5;\" x1=\"213.5\" x2=\"304.5\" y1=\"194.2975\" y2=\"194.2975\"/></a><g id=\"E1.E11\"><a href=\"psysml:4203d305-f881-4dfa-bcc5-a82b5aac35c4\" target=\"_top\" title=\"psysml:4203d305-f881-4dfa-bcc5-a82b5aac35c4\" xlink:actuate=\"onRequest\" xlink:href=\"psysml:4203d305-f881-4dfa-bcc5-a82b5aac35c4\" xlink:show=\"new\" xlink:title=\"psysml:4203d305-f881-4dfa-bcc5-a82b5aac35c4\" xlink:type=\"simple\"><rect fill=\"#FFFFFF\" height=\"40\" id=\"E11\" rx=\"10\" ry=\"10\" style=\"stroke: #383838; stroke-width: 1.5;\" width=\"50\" x=\"276\" y=\"64.36\"/><rect fill=\"#F8F8F8\" height=\"23.9688\" rx=\"10\" ry=\"10\" style=\"stroke: #F8F8F8; stroke-width: 1.5;\" width=\"50\" x=\"276\" y=\"64.36\"/><rect fill=\"#F8F8F8\" height=\"10\" style=\"stroke: #F8F8F8; stroke-width: 1.5;\" width=\"50\" x=\"276\" y=\"78.3288\"/><rect fill=\"none\" height=\"40\" id=\"E11\" rx=\"10\" ry=\"10\" style=\"stroke: #383838; stroke-width: 1.5;\" width=\"50\" x=\"276\" y=\"64.36\"/><text fill=\"#000000\" font-family=\"sans-serif\" font-size=\"12\" lengthAdjust=\"spacingAndGlyphs\" textLength=\"8\" x=\"297\" y=\"80.4987\">p</text></a></g><!--MD5=[ee3c913d1a06f366521f9ef512b67efe]\n",
       "class E13--><a href=\"psysml:aee31540-9ea4-41ee-8ebb-8555bfaf03fb\" target=\"_top\" title=\"psysml:aee31540-9ea4-41ee-8ebb-8555bfaf03fb\" xlink:actuate=\"onRequest\" xlink:href=\"psysml:aee31540-9ea4-41ee-8ebb-8555bfaf03fb\" xlink:show=\"new\" xlink:title=\"psysml:aee31540-9ea4-41ee-8ebb-8555bfaf03fb\" xlink:type=\"simple\"><rect fill=\"#FFFFFF\" height=\"45.9375\" id=\"E13\" rx=\"10\" ry=\"10\" style=\"stroke: #383838; stroke-width: 1.5;\" width=\"93\" x=\"71.5\" y=\"156.36\"/><text fill=\"#000000\" font-family=\"sans-serif\" font-size=\"12\" font-style=\"italic\" lengthAdjust=\"spacingAndGlyphs\" textLength=\"91\" x=\"72.5\" y=\"172.4987\">«requirement»</text><text fill=\"#000000\" font-family=\"sans-serif\" font-size=\"12\" lengthAdjust=\"spacingAndGlyphs\" textLength=\"21\" x=\"105.5\" y=\"186.4674\">r: R</text><line style=\"stroke: #383838; stroke-width: 1.5;\" x1=\"72.5\" x2=\"163.5\" y1=\"194.2975\" y2=\"194.2975\"/></a><!--MD5=[05d275557350bfb9b23a4ef7222b4c39]\n",
       "link E3 to E2--><a href=\"psysml:1cfa9d08-8b1e-49ae-8f22-7ec5c2d68c94\" target=\"_top\" title=\"psysml:1cfa9d08-8b1e-49ae-8f22-7ec5c2d68c94\" xlink:actuate=\"onRequest\" xlink:href=\"psysml:1cfa9d08-8b1e-49ae-8f22-7ec5c2d68c94\" xlink:show=\"new\" xlink:title=\"psysml:1cfa9d08-8b1e-49ae-8f22-7ec5c2d68c94\" xlink:type=\"simple\"><path d=\"M443.3,107.64 C445.16,110.06 446.77,112.63 448,115.36 C451.11,122.25 451.07,125.46 448,132.36 C446.36,136.04 444.27,139.54 441.88,142.86 \" fill=\"none\" id=\"E3-&gt;E2\" style=\"stroke: #383838; stroke-width: 1.0;\"/><polygon fill=\"#FFFFFF\" points=\"428.02,157.79,435.812,139.1009,446.0747,148.6233,428.02,157.79\" style=\"stroke: #383838; stroke-width: 1.0;\"/><ellipse cx=\"441.1551\" cy=\"136.2828\" fill=\"#383838\" rx=\"2\" ry=\"2\" style=\"stroke: #383838; stroke-width: 1.0;\"/><ellipse cx=\"448.4856\" cy=\"143.0846\" fill=\"#383838\" rx=\"2\" ry=\"2\" style=\"stroke: #383838; stroke-width: 1.0;\"/></a><!--MD5=[722ff4eef345aa10242dad44df0e98c7]\n",
       "reverse link E4 to E7--><a href=\"psysml:8957256b-d423-4c87-844e-8026b3f5c553\" target=\"_top\" title=\"psysml:8957256b-d423-4c87-844e-8026b3f5c553\" xlink:actuate=\"onRequest\" xlink:href=\"psysml:8957256b-d423-4c87-844e-8026b3f5c553\" xlink:show=\"new\" xlink:title=\"psysml:8957256b-d423-4c87-844e-8026b3f5c553\" xlink:type=\"simple\"><path d=\"M99.7,339.69 C98.39,344.58 97.11,349.37 95.92,353.79 \" fill=\"none\" id=\"E4&lt;-E7\" style=\"stroke: #383838; stroke-width: 1.0;\"/><polygon fill=\"#383838\" points=\"103.18,326.74,97.7596,331.496,100.0651,338.3287,105.4854,333.5726,103.18,326.74\" style=\"stroke: #383838; stroke-width: 1.0;\"/><text fill=\"#000000\" font-family=\"sans-serif\" font-size=\"13\" lengthAdjust=\"spacingAndGlyphs\" textLength=\"7\" x=\"89.5704\" y=\"342.6675\">*</text></a><!--MD5=[c6fc7cdb0cabde04948078cf183fa696]\n",
       "reverse link E4 to E8--><a href=\"psysml:e7993699-2e90-4c6e-9ce7-c90f60868f83\" target=\"_top\" title=\"psysml:e7993699-2e90-4c6e-9ce7-c90f60868f83\" xlink:actuate=\"onRequest\" xlink:href=\"psysml:e7993699-2e90-4c6e-9ce7-c90f60868f83\" xlink:show=\"new\" xlink:title=\"psysml:e7993699-2e90-4c6e-9ce7-c90f60868f83\" xlink:type=\"simple\"><path d=\"M172.47,335.18 C176.47,337.92 180.47,340.65 184.39,343.33 \" fill=\"none\" id=\"E4&lt;-E8\" style=\"stroke: #383838; stroke-width: 1.0;\"/><ellipse cx=\"166.3732\" cy=\"331.0164\" fill=\"#FFFFFF\" rx=\"8\" ry=\"8\" style=\"stroke: #383838; stroke-width: 1.0;\"/><line style=\"stroke: #383838; stroke-width: 1.0;\" x1=\"172.9764\" x2=\"159.77\" y1=\"335.5328\" y2=\"326.5\"/><line style=\"stroke: #383838; stroke-width: 1.0;\" x1=\"161.8568\" x2=\"170.8896\" y1=\"337.6196\" y2=\"324.4132\"/></a><!--MD5=[017847e01ff9a8bd19f247411074f987]\n",
       "link E13 to E4--><a href=\"psysml:e01bb7f1-206a-408f-a898-0799ec242df4\" target=\"_top\" title=\"psysml:e01bb7f1-206a-408f-a898-0799ec242df4\" xlink:actuate=\"onRequest\" xlink:href=\"psysml:e01bb7f1-206a-408f-a898-0799ec242df4\" xlink:show=\"new\" xlink:title=\"psysml:e01bb7f1-206a-408f-a898-0799ec242df4\" xlink:type=\"simple\"><path d=\"M116.81,202.39 C116.25,212.92 115.54,226.03 114.85,238.94 \" fill=\"none\" id=\"E13-&gt;E4\" style=\"stroke: #383838; stroke-width: 1.0;\"/><polygon fill=\"#FFFFFF\" points=\"113.75,259.31,107.7779,239.9623,121.7578,240.7123,113.75,259.31\" style=\"stroke: #383838; stroke-width: 1.0;\"/><ellipse cx=\"110.0804\" cy=\"234.3776\" fill=\"#383838\" rx=\"2\" ry=\"2\" style=\"stroke: #383838; stroke-width: 1.0;\"/><ellipse cx=\"120.066\" cy=\"234.9133\" fill=\"#383838\" rx=\"2\" ry=\"2\" style=\"stroke: #383838; stroke-width: 1.0;\"/></a><!--MD5=[60f911bb19596b289db4a22769f8105a]\n",
       "link E11 to E13--><a href=\"psysml:e806deaf-0ce2-4d10-9e57-833502fc32ee\" target=\"_top\" title=\"psysml:e806deaf-0ce2-4d10-9e57-833502fc32ee\" xlink:actuate=\"onRequest\" xlink:href=\"psysml:e806deaf-0ce2-4d10-9e57-833502fc32ee\" xlink:show=\"new\" xlink:title=\"psysml:e806deaf-0ce2-4d10-9e57-833502fc32ee\" xlink:type=\"simple\"><path d=\"M275.96,97.79 C254.94,107.92 223.96,122.17 196,132.36 C183.84,136.79 179.57,134.57 168,140.36 C161.03,143.85 154.05,148.35 147.62,153.03 \" fill=\"none\" id=\"E11-&gt;E13\" style=\"stroke: #383838; stroke-width: 1.0; stroke-dasharray: 7.0,7.0;\"/><polygon fill=\"#383838\" points=\"143.25,156.29,152.85,154.09,147.25,153.29,148.05,147.69,143.25,156.29\" style=\"stroke: #383838; stroke-width: 1.0;\"/><text fill=\"#000000\" font-family=\"sans-serif\" font-size=\"13\" lengthAdjust=\"spacingAndGlyphs\" textLength=\"57\" x=\"238\" y=\"128.4269\">«satisfy»</text></a><!--MD5=[e2a9ac97dcd3257bb5342dae06547bad]\n",
       "link E12 to E13--><a href=\"psysml:f5a4eec3-f375-4f03-819b-6c5c8dc7728c\" target=\"_top\" title=\"psysml:f5a4eec3-f375-4f03-819b-6c5c8dc7728c\" xlink:actuate=\"onRequest\" xlink:href=\"psysml:f5a4eec3-f375-4f03-819b-6c5c8dc7728c\" xlink:show=\"new\" xlink:title=\"psysml:f5a4eec3-f375-4f03-819b-6c5c8dc7728c\" xlink:type=\"simple\"><path d=\"M47.8746,108.633 C47.6375,108.8618 47.4023,109.0929 47.1692,109.3261 C45.3047,111.1922 43.5731,113.2 42,115.36 C29.76,132.17 46.2,147.21 66.89,158.37 \" fill=\"none\" id=\"E12-&gt;E13\" style=\"stroke: #383838; stroke-width: 1.0; stroke-dasharray: 7.0,7.0;\"/><polygon fill=\"#383838\" points=\"71.36,160.69,65.2064,153.0002,66.9197,158.3913,61.5286,160.1046,71.36,160.69\" style=\"stroke: #383838; stroke-width: 1.0;\"/><text fill=\"#000000\" font-family=\"sans-serif\" font-size=\"13\" lengthAdjust=\"spacingAndGlyphs\" textLength=\"57\" x=\"43\" y=\"128.4269\">«satisfy»</text></a><!--MD5=[0c677eb374079406c87b74cd1f5a339d]\n",
       "link E14 to E9--><a href=\"psysml:d6ece11e-fb98-4dd6-9106-0f6846b0bd9f\" target=\"_top\" title=\"psysml:d6ece11e-fb98-4dd6-9106-0f6846b0bd9f\" xlink:actuate=\"onRequest\" xlink:href=\"psysml:d6ece11e-fb98-4dd6-9106-0f6846b0bd9f\" xlink:show=\"new\" xlink:title=\"psysml:d6ece11e-fb98-4dd6-9106-0f6846b0bd9f\" xlink:type=\"simple\"><path d=\"M260.78,202.39 C261.86,215.82 263.28,233.42 264.58,249.46 \" fill=\"none\" id=\"E14-&gt;E9\" style=\"stroke: #383838; stroke-width: 1.0;\"/><polygon fill=\"#FFFFFF\" points=\"266.19,269.5,257.6919,251.1211,271.647,250.0007,266.19,269.5\" style=\"stroke: #383838; stroke-width: 1.0;\"/><ellipse cx=\"259.2293\" cy=\"245.2794\" fill=\"#383838\" rx=\"2\" ry=\"2\" style=\"stroke: #383838; stroke-width: 1.0;\"/><ellipse cx=\"269.1972\" cy=\"244.4791\" fill=\"#383838\" rx=\"2\" ry=\"2\" style=\"stroke: #383838; stroke-width: 1.0;\"/></a><!--MD5=[9c1c40551dcf5c2fca147626a786a7cd]\n",
       "link E11 to E14--><a href=\"psysml:feaea2f2-720b-4dbc-ba1d-0aec40f00046\" target=\"_top\" title=\"psysml:feaea2f2-720b-4dbc-ba1d-0aec40f00046\" xlink:actuate=\"onRequest\" xlink:href=\"psysml:feaea2f2-720b-4dbc-ba1d-0aec40f00046\" xlink:show=\"new\" xlink:title=\"psysml:feaea2f2-720b-4dbc-ba1d-0aec40f00046\" xlink:type=\"simple\"><path d=\"M326.25,96.72 C342.54,105.67 358.98,118.85 349,132.36 C341.82,142.09 334.05,135.46 323,140.36 C314.43,144.16 305.57,148.86 297.28,153.64 \" fill=\"none\" id=\"E11-&gt;E14\" style=\"stroke: #383838; stroke-width: 1.0; stroke-dasharray: 7.0,7.0;\"/><polygon fill=\"#383838\" points=\"292.74,156.3,302.5273,155.2001,297.0537,153.7718,298.4821,148.2982,292.74,156.3\" style=\"stroke: #383838; stroke-width: 1.0;\"/><text fill=\"#000000\" font-family=\"sans-serif\" font-size=\"13\" lengthAdjust=\"spacingAndGlyphs\" textLength=\"57\" x=\"353\" y=\"128.4269\">«satisfy»</text></a><!--MD5=[d53cb08dffc8689d16e38c8e194e9adc]\n",
       "link E12 to E14--><a href=\"psysml:f5704f7b-2601-4abd-90b0-2ec51a978e80\" target=\"_top\" title=\"psysml:f5704f7b-2601-4abd-90b0-2ec51a978e80\" xlink:actuate=\"onRequest\" xlink:href=\"psysml:f5704f7b-2601-4abd-90b0-2ec51a978e80\" xlink:show=\"new\" xlink:title=\"psysml:f5704f7b-2601-4abd-90b0-2ec51a978e80\" xlink:type=\"simple\"><path d=\"M188.2294,142.967 C188.6771,143.2182 189.1255,143.4689 189.5745,143.7193 C190.4725,144.2199 191.3729,144.7189 192.2748,145.2159 C194.0787,146.2099 195.8889,147.1961 197.6991,148.1722 C201.3195,150.1244 204.94,152.0363 208.51,153.89 \" fill=\"none\" id=\"E12-&gt;E14\" style=\"stroke: #383838; stroke-width: 1.0; stroke-dasharray: 7.0,7.0;\"/><polygon fill=\"#383838\" points=\"213.06,156.24,206.9064,148.5502,208.6197,153.9413,203.2286,155.6546,213.06,156.24\" style=\"stroke: #383838; stroke-width: 1.0;\"/><text fill=\"#000000\" font-family=\"sans-serif\" font-size=\"13\" lengthAdjust=\"spacingAndGlyphs\" textLength=\"57\" x=\"171\" y=\"128.4269\">«satisfy»</text></a><!--MD5=[787cf06ab94f8c1de5016ae9c16af129]\n",
       "@startuml\r\n",
       "skinparam ranksep 10\r\n",
       "skinparam rectangle {\r\n",
       " backgroundColor<<block>> LightGreen\r\n",
       "}\r\n",
       "skinparam monochrome true\r\n",
       "skinparam classbackgroundcolor white\r\n",
       "skinparam shadowing false\r\n",
       "skinparam wrapWidth 300\r\n",
       "hide circle\r\n",
       "\r\n",
       "package \"RequirementTest\" as E1  [[psysml:2a075407-fc8d-47b4-b4de-e1839d24b848 ]]  {\r\n",
       "def \"C\" as E2  <<(T,blue) constraint  def>> [[psysml:8e8b9929-fb62-44f3-bb6e-73f88688eaf1 ]] \r\n",
       "comp usage \"c: C \" as E3  <<(T,blue) constraint>> [[psysml:8dab2afb-478b-48f2-a7f7-bb2b245c05ea ]] {\r\n",
       "}\r\n",
       "comp def \"R\" as E4  <<(T,blue) requirement  def>> [[psysml:cae76f8a-948f-454f-8648-301efab5060e ]] {\r\n",
       "\r\n",
       "- -\r\n",
       "}\r\n",
       "comp usage \"<s>noname</s>\" as E7  <<(T,blue) requirement>> [[psysml:70e6cc11-a878-4419-9a48-d32cb5df9816 ]] {\r\n",
       "}\r\n",
       "comp def \" [<b>1</b>] A\" as E8  <<(T,blue) requirement  def>> [[psysml:5c5c4776-1d3a-4700-8516-1d3a67d779f4 ]] {\r\n",
       "Text\r\n",
       "- -\r\n",
       "}\r\n",
       "comp def \"R1\" as E9  <<(T,blue) requirement  def>> [[psysml:f2fc2205-4b84-4313-b340-24ee025c15cf ]] {\r\n",
       "}\r\n",
       "rec usage \"p\" as E11  [[psysml:4203d305-f881-4dfa-bcc5-a82b5aac35c4 ]] {\r\n",
       "}\r\n",
       "rec usage \"q\" as E12  [[psysml:d0dbee69-5f2e-4ac4-ba4b-4aca7380bae7 ]] {\r\n",
       "comp usage \"r: R \" as E13  <<(T,blue) requirement>> [[psysml:aee31540-9ea4-41ee-8ebb-8555bfaf03fb ]] {\r\n",
       "}\r\n",
       "}\r\n",
       "comp usage \"r1: R1 \" as E14  <<(T,blue) requirement>> [[psysml:5c4fb90e-2e7f-411e-8437-1e0e9b0bd00e ]] {\r\n",
       "}\r\n",
       "}\r\n",
       "E3 - -:|> E2 [[psysml:1cfa9d08-8b1e-49ae-8f22-7ec5c2d68c94 ]] \r\n",
       "E4 *- - \"*\"E7 [[psysml:8957256b-d423-4c87-844e-8026b3f5c553 ]] \r\n",
       "E4 +- - E8 [[psysml:e7993699-2e90-4c6e-9ce7-c90f60868f83 ]] \r\n",
       "E13 - -:|> E4 [[psysml:e01bb7f1-206a-408f-a898-0799ec242df4 ]] \r\n",
       "E11 ..> E13 [[psysml:e806deaf-0ce2-4d10-9e57-833502fc32ee ]] : <<satisfy>>\r\n",
       "E12 ..> E13 [[psysml:f5a4eec3-f375-4f03-819b-6c5c8dc7728c ]] : <<satisfy>>\r\n",
       "E14 - -:|> E9 [[psysml:d6ece11e-fb98-4dd6-9106-0f6846b0bd9f ]] \r\n",
       "E11 ..> E14 [[psysml:feaea2f2-720b-4dbc-ba1d-0aec40f00046 ]] : <<satisfy>>\r\n",
       "E12 ..> E14 [[psysml:f5704f7b-2601-4abd-90b0-2ec51a978e80 ]] : <<satisfy>>\r\n",
       "@enduml\r\n",
       "\n",
       "PlantUML version 1.2020.13(Sat Jun 13 12:26:38 UTC 2020)\n",
       "(EPL source distribution)\n",
       "Java Runtime: OpenJDK Runtime Environment\n",
       "JVM: OpenJDK 64-Bit Server VM\n",
       "Default Encoding: UTF-8\n",
       "Language: en\n",
       "Country: null\n",
       "--></g></svg>"
      ]
     },
     "execution_count": 40,
     "metadata": {},
     "output_type": "execute_result"
    }
   ],
   "source": [
    "%viz --style=\"DEFAULT\" --view=\"Interconnection\" \"RequirementTest\""
   ]
  },
  {
   "cell_type": "code",
   "execution_count": 41,
   "id": "1746e4be",
   "metadata": {
    "execution": {
     "iopub.execute_input": "2021-10-25T08:21:14.763950Z",
     "iopub.status.busy": "2021-10-25T08:21:14.763410Z",
     "iopub.status.idle": "2021-10-25T08:21:14.768582Z",
     "shell.execute_reply": "2021-10-25T08:21:14.768220Z"
    }
   },
   "outputs": [
    {
     "data": {
      "image/svg+xml": [
       "<?xml version=\"1.0\" encoding=\"UTF-8\" standalone=\"no\"?><svg xmlns=\"http://www.w3.org/2000/svg\" xmlns:xlink=\"http://www.w3.org/1999/xlink\" contentScriptType=\"application/ecmascript\" contentStyleType=\"text/css\" height=\"12px\" preserveAspectRatio=\"none\" style=\"width:12px;height:12px;\" version=\"1.1\" viewBox=\"0 0 12 12\" width=\"12px\" zoomAndPan=\"magnify\"><defs/><g><!--MD5=[388f21188e31bfdd97050473b19af356]\n",
       "@startuml\r\n",
       "skinparam ranksep 8\r\n",
       "skinparam monochrome true\r\n",
       "skinparam classbackgroundcolor white\r\n",
       "skinparam shadowing false\r\n",
       "skinparam wrapWidth 300\r\n",
       "hide circle\r\n",
       "\r\n",
       "@enduml\r\n",
       "\n",
       "PlantUML version 1.2020.13(Sat Jun 13 12:26:38 UTC 2020)\n",
       "(EPL source distribution)\n",
       "Java Runtime: OpenJDK Runtime Environment\n",
       "JVM: OpenJDK 64-Bit Server VM\n",
       "Default Encoding: UTF-8\n",
       "Language: en\n",
       "Country: null\n",
       "--></g></svg>"
      ]
     },
     "execution_count": 41,
     "metadata": {},
     "output_type": "execute_result"
    }
   ],
   "source": [
    "%viz --style=\"DEFAULT\" --view=\"Action\" \"RequirementTest\""
   ]
  },
  {
   "cell_type": "code",
   "execution_count": 42,
   "id": "22ad57c0",
   "metadata": {
    "execution": {
     "iopub.execute_input": "2021-10-25T08:21:14.818045Z",
     "iopub.status.busy": "2021-10-25T08:21:14.817640Z",
     "iopub.status.idle": "2021-10-25T08:21:14.822739Z",
     "shell.execute_reply": "2021-10-25T08:21:14.822386Z"
    }
   },
   "outputs": [
    {
     "data": {
      "image/svg+xml": [
       "<?xml version=\"1.0\" encoding=\"UTF-8\" standalone=\"no\"?><svg xmlns=\"http://www.w3.org/2000/svg\" xmlns:xlink=\"http://www.w3.org/1999/xlink\" contentScriptType=\"application/ecmascript\" contentStyleType=\"text/css\" height=\"12px\" preserveAspectRatio=\"none\" style=\"width:12px;height:12px;\" version=\"1.1\" viewBox=\"0 0 12 12\" width=\"12px\" zoomAndPan=\"magnify\"><defs/><g><!--MD5=[0b72472770326784bf6c2b53246e1e64]\n",
       "@startuml\r\n",
       "skinparam roundcorner 20\r\n",
       "skinparam BoxPadding 20\r\n",
       "skinparam SequenceBoxBackgroundColor #white\r\n",
       "skinparam style strictuml\r\n",
       "skinparam maxMessageSize 100\r\n",
       "skinparam monochrome true\r\n",
       "skinparam classbackgroundcolor white\r\n",
       "skinparam shadowing false\r\n",
       "skinparam wrapWidth 300\r\n",
       "hide circle\r\n",
       "\r\n",
       "@enduml\r\n",
       "\n",
       "PlantUML version 1.2020.13(Sat Jun 13 12:26:38 UTC 2020)\n",
       "(EPL source distribution)\n",
       "Java Runtime: OpenJDK Runtime Environment\n",
       "JVM: OpenJDK 64-Bit Server VM\n",
       "Default Encoding: UTF-8\n",
       "Language: en\n",
       "Country: null\n",
       "--></g></svg>"
      ]
     },
     "execution_count": 42,
     "metadata": {},
     "output_type": "execute_result"
    }
   ],
   "source": [
    "%viz --style=\"DEFAULT\" --view=\"Sequence\" \"RequirementTest\""
   ]
  },
  {
   "cell_type": "code",
   "execution_count": 43,
   "id": "f9741150",
   "metadata": {
    "execution": {
     "iopub.execute_input": "2021-10-25T08:21:14.872305Z",
     "iopub.status.busy": "2021-10-25T08:21:14.871887Z",
     "iopub.status.idle": "2021-10-25T08:21:14.922647Z",
     "shell.execute_reply": "2021-10-25T08:21:14.920663Z"
    }
   },
   "outputs": [
    {
     "data": {
      "image/svg+xml": [
       "<?xml version=\"1.0\" encoding=\"UTF-8\" standalone=\"no\"?><svg xmlns=\"http://www.w3.org/2000/svg\" xmlns:xlink=\"http://www.w3.org/1999/xlink\" contentScriptType=\"application/ecmascript\" contentStyleType=\"text/css\" height=\"494px\" preserveAspectRatio=\"none\" style=\"width:475px;height:494px;\" version=\"1.1\" viewBox=\"0 0 475 494\" width=\"475px\" zoomAndPan=\"magnify\"><defs/><g><!--MD5=[fbc87193dbaf4d95561dea2c320d4a47]\n",
       "cluster E1--><a href=\"psysml:2a075407-fc8d-47b4-b4de-e1839d24b848\" target=\"_top\" title=\"psysml:2a075407-fc8d-47b4-b4de-e1839d24b848\" xlink:actuate=\"onRequest\" xlink:href=\"psysml:2a075407-fc8d-47b4-b4de-e1839d24b848\" xlink:show=\"new\" xlink:title=\"psysml:2a075407-fc8d-47b4-b4de-e1839d24b848\" xlink:type=\"simple\"><polygon fill=\"#FFFFFF\" points=\"16,6,143,6,150,28.2969,453,28.2969,453,482,16,482,16,6\" style=\"stroke: #000000; stroke-width: 1.5;\"/><line style=\"stroke: #000000; stroke-width: 1.5;\" x1=\"16\" x2=\"150\" y1=\"28.2969\" y2=\"28.2969\"/><text fill=\"#000000\" font-family=\"sans-serif\" font-size=\"14\" font-weight=\"bold\" lengthAdjust=\"spacingAndGlyphs\" textLength=\"121\" x=\"20\" y=\"20.9951\">RequirementTest</text></a><!--MD5=[b4997ac47864f28c2f74865a473b2911]\n",
       "class E2--><a href=\"psysml:8e8b9929-fb62-44f3-bb6e-73f88688eaf1\" target=\"_top\" title=\"psysml:8e8b9929-fb62-44f3-bb6e-73f88688eaf1\" xlink:actuate=\"onRequest\" xlink:href=\"psysml:8e8b9929-fb62-44f3-bb6e-73f88688eaf1\" xlink:show=\"new\" xlink:title=\"psysml:8e8b9929-fb62-44f3-bb6e-73f88688eaf1\" xlink:type=\"simple\"><rect fill=\"#FFFFFF\" height=\"45.9375\" id=\"E2\" style=\"stroke: #383838; stroke-width: 1.5;\" width=\"108\" x=\"329\" y=\"164\"/><text fill=\"#000000\" font-family=\"sans-serif\" font-size=\"12\" font-style=\"italic\" lengthAdjust=\"spacingAndGlyphs\" textLength=\"106\" x=\"330\" y=\"180.1387\">«constraint  def»</text><text fill=\"#000000\" font-family=\"sans-serif\" font-size=\"12\" lengthAdjust=\"spacingAndGlyphs\" textLength=\"8\" x=\"379\" y=\"194.1074\">C</text><line style=\"stroke: #383838; stroke-width: 1.5;\" x1=\"330\" x2=\"436\" y1=\"201.9375\" y2=\"201.9375\"/></a><!--MD5=[09b614a08d8cba4a07c9adeb5e0fee81]\n",
       "class E3--><a href=\"psysml:8dab2afb-478b-48f2-a7f7-bb2b245c05ea\" target=\"_top\" title=\"psysml:8dab2afb-478b-48f2-a7f7-bb2b245c05ea\" xlink:actuate=\"onRequest\" xlink:href=\"psysml:8dab2afb-478b-48f2-a7f7-bb2b245c05ea\" xlink:show=\"new\" xlink:title=\"psysml:8dab2afb-478b-48f2-a7f7-bb2b245c05ea\" xlink:type=\"simple\"><rect fill=\"#FFFFFF\" height=\"45.9375\" id=\"E3\" rx=\"10\" ry=\"10\" style=\"stroke: #383838; stroke-width: 1.5;\" width=\"80\" x=\"357\" y=\"41\"/><text fill=\"#000000\" font-family=\"sans-serif\" font-size=\"12\" font-style=\"italic\" lengthAdjust=\"spacingAndGlyphs\" textLength=\"78\" x=\"358\" y=\"57.1387\">«constraint»</text><text fill=\"#000000\" font-family=\"sans-serif\" font-size=\"12\" lengthAdjust=\"spacingAndGlyphs\" textLength=\"23\" x=\"383.5\" y=\"71.1074\">c: C</text><line style=\"stroke: #383838; stroke-width: 1.5;\" x1=\"358\" x2=\"436\" y1=\"78.9375\" y2=\"78.9375\"/></a><!--MD5=[ebbe1d658d1005bcc118a6aa81145e00]\n",
       "class E4--><a href=\"psysml:cae76f8a-948f-454f-8648-301efab5060e\" target=\"_top\" title=\"psysml:cae76f8a-948f-454f-8648-301efab5060e\" xlink:actuate=\"onRequest\" xlink:href=\"psysml:cae76f8a-948f-454f-8648-301efab5060e\" xlink:show=\"new\" xlink:title=\"psysml:cae76f8a-948f-454f-8648-301efab5060e\" xlink:type=\"simple\"><rect fill=\"#FFFFFF\" height=\"66.7422\" id=\"E4\" style=\"stroke: #383838; stroke-width: 1.5;\" width=\"121\" x=\"188.5\" y=\"271\"/><text fill=\"#000000\" font-family=\"sans-serif\" font-size=\"12\" font-style=\"italic\" lengthAdjust=\"spacingAndGlyphs\" textLength=\"119\" x=\"189.5\" y=\"287.1387\">«requirement  def»</text><text fill=\"#000000\" font-family=\"sans-serif\" font-size=\"12\" lengthAdjust=\"spacingAndGlyphs\" textLength=\"8\" x=\"245\" y=\"301.1074\">R</text><line style=\"stroke: #383838; stroke-width: 1.5;\" x1=\"189.5\" x2=\"308.5\" y1=\"308.9375\" y2=\"308.9375\"/><text fill=\"#000000\" font-family=\"sans-serif\" font-size=\"11\" lengthAdjust=\"spacingAndGlyphs\" textLength=\"0\" x=\"198.5\" y=\"323.1479\"/><line style=\"stroke: #383838; stroke-width: 1.0;\" x1=\"189.5\" x2=\"308.5\" y1=\"329.7422\" y2=\"329.7422\"/></a><!--MD5=[2156ba9850f5573cc1fc38a6a4b2f02b]\n",
       "class E7--><a href=\"psysml:70e6cc11-a878-4419-9a48-d32cb5df9816\" target=\"_top\" title=\"psysml:70e6cc11-a878-4419-9a48-d32cb5df9816\" xlink:actuate=\"onRequest\" xlink:href=\"psysml:70e6cc11-a878-4419-9a48-d32cb5df9816\" xlink:show=\"new\" xlink:title=\"psysml:70e6cc11-a878-4419-9a48-d32cb5df9816\" xlink:type=\"simple\"><rect fill=\"#FFFFFF\" height=\"45.9375\" id=\"E7\" rx=\"10\" ry=\"10\" style=\"stroke: #383838; stroke-width: 1.5;\" width=\"93\" x=\"144.5\" y=\"409.5\"/><text fill=\"#000000\" font-family=\"sans-serif\" font-size=\"12\" font-style=\"italic\" lengthAdjust=\"spacingAndGlyphs\" textLength=\"91\" x=\"145.5\" y=\"425.6387\">«requirement»</text><text fill=\"#000000\" font-family=\"sans-serif\" font-size=\"12\" lengthAdjust=\"spacingAndGlyphs\" text-decoration=\"line-through\" textLength=\"51\" x=\"165.5\" y=\"439.6074\">noname</text><line style=\"stroke: #383838; stroke-width: 1.5;\" x1=\"145.5\" x2=\"236.5\" y1=\"447.4375\" y2=\"447.4375\"/></a><!--MD5=[b9389687b975829384b498ac4b7476b2]\n",
       "class E8--><a href=\"psysml:5c5c4776-1d3a-4700-8516-1d3a67d779f4\" target=\"_top\" title=\"psysml:5c5c4776-1d3a-4700-8516-1d3a67d779f4\" xlink:actuate=\"onRequest\" xlink:href=\"psysml:5c5c4776-1d3a-4700-8516-1d3a67d779f4\" xlink:show=\"new\" xlink:title=\"psysml:5c5c4776-1d3a-4700-8516-1d3a67d779f4\" xlink:type=\"simple\"><rect fill=\"#FFFFFF\" height=\"66.7422\" id=\"E8\" style=\"stroke: #383838; stroke-width: 1.5;\" width=\"121\" x=\"272.5\" y=\"399\"/><text fill=\"#000000\" font-family=\"sans-serif\" font-size=\"12\" font-style=\"italic\" lengthAdjust=\"spacingAndGlyphs\" textLength=\"119\" x=\"273.5\" y=\"415.1387\">«requirement  def»</text><text fill=\"#000000\" font-family=\"sans-serif\" font-size=\"12\" lengthAdjust=\"spacingAndGlyphs\" textLength=\"5\" x=\"320\" y=\"429.1074\">[</text><text fill=\"#000000\" font-family=\"sans-serif\" font-size=\"12\" font-weight=\"bold\" lengthAdjust=\"spacingAndGlyphs\" textLength=\"8\" x=\"325\" y=\"429.1074\">1</text><text fill=\"#000000\" font-family=\"sans-serif\" font-size=\"12\" lengthAdjust=\"spacingAndGlyphs\" textLength=\"17\" x=\"333\" y=\"429.1074\">] A</text><line style=\"stroke: #383838; stroke-width: 1.5;\" x1=\"273.5\" x2=\"392.5\" y1=\"436.9375\" y2=\"436.9375\"/><text fill=\"#000000\" font-family=\"sans-serif\" font-size=\"11\" lengthAdjust=\"spacingAndGlyphs\" textLength=\"24\" x=\"278.5\" y=\"451.1479\">Text</text><line style=\"stroke: #383838; stroke-width: 1.0;\" x1=\"273.5\" x2=\"392.5\" y1=\"457.7422\" y2=\"457.7422\"/></a><!--MD5=[fd4143e9d270a159db93a4ea2a975926]\n",
       "class E9--><a href=\"psysml:f2fc2205-4b84-4313-b340-24ee025c15cf\" target=\"_top\" title=\"psysml:f2fc2205-4b84-4313-b340-24ee025c15cf\" xlink:actuate=\"onRequest\" xlink:href=\"psysml:f2fc2205-4b84-4313-b340-24ee025c15cf\" xlink:show=\"new\" xlink:title=\"psysml:f2fc2205-4b84-4313-b340-24ee025c15cf\" xlink:type=\"simple\"><rect fill=\"#FFFFFF\" height=\"45.9375\" id=\"E9\" style=\"stroke: #383838; stroke-width: 1.5;\" width=\"121\" x=\"32.5\" y=\"281.5\"/><text fill=\"#000000\" font-family=\"sans-serif\" font-size=\"12\" font-style=\"italic\" lengthAdjust=\"spacingAndGlyphs\" textLength=\"119\" x=\"33.5\" y=\"297.6387\">«requirement  def»</text><text fill=\"#000000\" font-family=\"sans-serif\" font-size=\"12\" lengthAdjust=\"spacingAndGlyphs\" textLength=\"16\" x=\"85\" y=\"311.6074\">R1</text><line style=\"stroke: #383838; stroke-width: 1.5;\" x1=\"33.5\" x2=\"152.5\" y1=\"319.4375\" y2=\"319.4375\"/></a><!--MD5=[1dd1bfd58a279cf63c5f349dbc8fc6a1]\n",
       "class E11--><a href=\"psysml:4203d305-f881-4dfa-bcc5-a82b5aac35c4\" target=\"_top\" title=\"psysml:4203d305-f881-4dfa-bcc5-a82b5aac35c4\" xlink:actuate=\"onRequest\" xlink:href=\"psysml:4203d305-f881-4dfa-bcc5-a82b5aac35c4\" xlink:show=\"new\" xlink:title=\"psysml:4203d305-f881-4dfa-bcc5-a82b5aac35c4\" xlink:type=\"simple\"><rect fill=\"#FFFFFF\" height=\"45.9375\" id=\"E11\" rx=\"10\" ry=\"10\" style=\"stroke: #383838; stroke-width: 1.5;\" width=\"42\" x=\"95\" y=\"41\"/><text fill=\"#000000\" font-family=\"sans-serif\" font-size=\"12\" font-style=\"italic\" lengthAdjust=\"spacingAndGlyphs\" textLength=\"40\" x=\"96\" y=\"57.1387\">«part»</text><text fill=\"#000000\" font-family=\"sans-serif\" font-size=\"12\" lengthAdjust=\"spacingAndGlyphs\" textLength=\"8\" x=\"112\" y=\"71.1074\">p</text><line style=\"stroke: #383838; stroke-width: 1.5;\" x1=\"96\" x2=\"136\" y1=\"78.9375\" y2=\"78.9375\"/></a><!--MD5=[49a0ec8f00dab7302a31f22d0f0fe584]\n",
       "class E12--><a href=\"psysml:d0dbee69-5f2e-4ac4-ba4b-4aca7380bae7\" target=\"_top\" title=\"psysml:d0dbee69-5f2e-4ac4-ba4b-4aca7380bae7\" xlink:actuate=\"onRequest\" xlink:href=\"psysml:d0dbee69-5f2e-4ac4-ba4b-4aca7380bae7\" xlink:show=\"new\" xlink:title=\"psysml:d0dbee69-5f2e-4ac4-ba4b-4aca7380bae7\" xlink:type=\"simple\"><rect fill=\"#FFFFFF\" height=\"45.9375\" id=\"E12\" rx=\"10\" ry=\"10\" style=\"stroke: #383838; stroke-width: 1.5;\" width=\"42\" x=\"280\" y=\"41\"/><text fill=\"#000000\" font-family=\"sans-serif\" font-size=\"12\" font-style=\"italic\" lengthAdjust=\"spacingAndGlyphs\" textLength=\"40\" x=\"281\" y=\"57.1387\">«part»</text><text fill=\"#000000\" font-family=\"sans-serif\" font-size=\"12\" lengthAdjust=\"spacingAndGlyphs\" textLength=\"8\" x=\"297\" y=\"71.1074\">q</text><line style=\"stroke: #383838; stroke-width: 1.5;\" x1=\"281\" x2=\"321\" y1=\"78.9375\" y2=\"78.9375\"/></a><!--MD5=[ee3c913d1a06f366521f9ef512b67efe]\n",
       "class E13--><a href=\"psysml:aee31540-9ea4-41ee-8ebb-8555bfaf03fb\" target=\"_top\" title=\"psysml:aee31540-9ea4-41ee-8ebb-8555bfaf03fb\" xlink:actuate=\"onRequest\" xlink:href=\"psysml:aee31540-9ea4-41ee-8ebb-8555bfaf03fb\" xlink:show=\"new\" xlink:title=\"psysml:aee31540-9ea4-41ee-8ebb-8555bfaf03fb\" xlink:type=\"simple\"><rect fill=\"#FFFFFF\" height=\"45.9375\" id=\"E13\" rx=\"10\" ry=\"10\" style=\"stroke: #383838; stroke-width: 1.5;\" width=\"93\" x=\"200.5\" y=\"164\"/><text fill=\"#000000\" font-family=\"sans-serif\" font-size=\"12\" font-style=\"italic\" lengthAdjust=\"spacingAndGlyphs\" textLength=\"91\" x=\"201.5\" y=\"180.1387\">«requirement»</text><text fill=\"#000000\" font-family=\"sans-serif\" font-size=\"12\" lengthAdjust=\"spacingAndGlyphs\" textLength=\"21\" x=\"234.5\" y=\"194.1074\">r: R</text><line style=\"stroke: #383838; stroke-width: 1.5;\" x1=\"201.5\" x2=\"292.5\" y1=\"201.9375\" y2=\"201.9375\"/></a><!--MD5=[bee11217b2f71d958a27249dc326068c]\n",
       "class E14--><a href=\"psysml:5c4fb90e-2e7f-411e-8437-1e0e9b0bd00e\" target=\"_top\" title=\"psysml:5c4fb90e-2e7f-411e-8437-1e0e9b0bd00e\" xlink:actuate=\"onRequest\" xlink:href=\"psysml:5c4fb90e-2e7f-411e-8437-1e0e9b0bd00e\" xlink:show=\"new\" xlink:title=\"psysml:5c4fb90e-2e7f-411e-8437-1e0e9b0bd00e\" xlink:type=\"simple\"><rect fill=\"#FFFFFF\" height=\"45.9375\" id=\"E14\" rx=\"10\" ry=\"10\" style=\"stroke: #383838; stroke-width: 1.5;\" width=\"93\" x=\"46.5\" y=\"164\"/><text fill=\"#000000\" font-family=\"sans-serif\" font-size=\"12\" font-style=\"italic\" lengthAdjust=\"spacingAndGlyphs\" textLength=\"91\" x=\"47.5\" y=\"180.1387\">«requirement»</text><text fill=\"#000000\" font-family=\"sans-serif\" font-size=\"12\" lengthAdjust=\"spacingAndGlyphs\" textLength=\"37\" x=\"72.5\" y=\"194.1074\">r1: R1</text><line style=\"stroke: #383838; stroke-width: 1.5;\" x1=\"47.5\" x2=\"138.5\" y1=\"201.9375\" y2=\"201.9375\"/></a><!--MD5=[05d275557350bfb9b23a4ef7222b4c39]\n",
       "link E3 to E2--><a href=\"psysml:1cfa9d08-8b1e-49ae-8f22-7ec5c2d68c94\" target=\"_top\" title=\"psysml:1cfa9d08-8b1e-49ae-8f22-7ec5c2d68c94\" xlink:actuate=\"onRequest\" xlink:href=\"psysml:1cfa9d08-8b1e-49ae-8f22-7ec5c2d68c94\" xlink:show=\"new\" xlink:title=\"psysml:1cfa9d08-8b1e-49ae-8f22-7ec5c2d68c94\" xlink:type=\"simple\"><path d=\"M418.43,87.25 C428.59,100.56 437.27,117.96 431,134 C429.08,138.91 426.46,143.63 423.42,148.09 \" fill=\"none\" id=\"E3-&gt;E2\" style=\"stroke: #383838; stroke-width: 1.0;\"/><polygon fill=\"#FFFFFF\" points=\"410.27,163.84,417.0769,144.77,427.8221,153.7444,410.27,163.84\" style=\"stroke: #383838; stroke-width: 1.0;\"/><ellipse cx=\"422.2658\" cy=\"141.6772\" fill=\"#383838\" rx=\"2\" ry=\"2\" style=\"stroke: #383838; stroke-width: 1.0;\"/><ellipse cx=\"429.941\" cy=\"148.0874\" fill=\"#383838\" rx=\"2\" ry=\"2\" style=\"stroke: #383838; stroke-width: 1.0;\"/></a><!--MD5=[722ff4eef345aa10242dad44df0e98c7]\n",
       "reverse link E4 to E7--><a href=\"psysml:8957256b-d423-4c87-844e-8026b3f5c553\" target=\"_top\" title=\"psysml:8957256b-d423-4c87-844e-8026b3f5c553\" xlink:actuate=\"onRequest\" xlink:href=\"psysml:8957256b-d423-4c87-844e-8026b3f5c553\" xlink:show=\"new\" xlink:title=\"psysml:8957256b-d423-4c87-844e-8026b3f5c553\" xlink:type=\"simple\"><path d=\"M228.38,350.29 C219.19,370.26 208.76,392.91 201.26,409.21 \" fill=\"none\" id=\"E4&lt;-E7\" style=\"stroke: #383838; stroke-width: 1.0;\"/><polygon fill=\"#383838\" points=\"233.91,338.28,227.7664,342.0558,228.8888,349.179,235.0324,345.4032,233.91,338.28\" style=\"stroke: #383838; stroke-width: 1.0;\"/><text fill=\"#000000\" font-family=\"sans-serif\" font-size=\"13\" lengthAdjust=\"spacingAndGlyphs\" textLength=\"7\" x=\"195.9922\" y=\"398.412\">*</text></a><!--MD5=[c6fc7cdb0cabde04948078cf183fa696]\n",
       "reverse link E4 to E8--><a href=\"psysml:e7993699-2e90-4c6e-9ce7-c90f60868f83\" target=\"_top\" title=\"psysml:e7993699-2e90-4c6e-9ce7-c90f60868f83\" xlink:actuate=\"onRequest\" xlink:href=\"psysml:e7993699-2e90-4c6e-9ce7-c90f60868f83\" xlink:show=\"new\" xlink:title=\"psysml:e7993699-2e90-4c6e-9ce7-c90f60868f83\" xlink:type=\"simple\"><path d=\"M279.4,351.09 C289.94,366.92 301.55,384.33 311.26,398.89 \" fill=\"none\" id=\"E4&lt;-E8\" style=\"stroke: #383838; stroke-width: 1.0;\"/><ellipse cx=\"275.2894\" cy=\"344.9352\" fill=\"#FFFFFF\" rx=\"8\" ry=\"8\" style=\"stroke: #383838; stroke-width: 1.0;\"/><line style=\"stroke: #383838; stroke-width: 1.0;\" x1=\"279.7287\" x2=\"270.85\" y1=\"351.5905\" y2=\"338.28\"/><line style=\"stroke: #383838; stroke-width: 1.0;\" x1=\"268.6341\" x2=\"281.9446\" y1=\"349.3746\" y2=\"340.4959\"/></a><!--MD5=[062ed86c389d1a88f61c6380d0491e17]\n",
       "reverse link E12 to E13--><a href=\"psysml:0f26ba0d-7372-4c44-875c-adf3c35e17b9\" target=\"_top\" title=\"psysml:0f26ba0d-7372-4c44-875c-adf3c35e17b9\" xlink:actuate=\"onRequest\" xlink:href=\"psysml:0f26ba0d-7372-4c44-875c-adf3c35e17b9\" xlink:show=\"new\" xlink:title=\"psysml:0f26ba0d-7372-4c44-875c-adf3c35e17b9\" xlink:type=\"simple\"><path d=\"M333.8,84.02 C335.88,85.07 337.96,86.07 340,87 C378.92,104.77 450.04,100.06 424,134 C392.63,174.88 361.32,149.06 312,164 C306.07,165.8 299.87,167.77 293.75,169.77 \" fill=\"none\" id=\"E12&lt;-E13\" style=\"stroke: #383838; stroke-width: 1.0;\"/><polygon fill=\"#383838\" points=\"322.11,77.78,325.5172,84.1354,332.6942,83.4346,329.287,77.0792,322.11,77.78\" style=\"stroke: #383838; stroke-width: 1.0;\"/></a><!--MD5=[e2a9ac97dcd3257bb5342dae06547bad]\n",
       "link E12 to E13--><a href=\"psysml:f5a4eec3-f375-4f03-819b-6c5c8dc7728c\" target=\"_top\" title=\"psysml:f5a4eec3-f375-4f03-819b-6c5c8dc7728c\" xlink:actuate=\"onRequest\" xlink:href=\"psysml:f5a4eec3-f375-4f03-819b-6c5c8dc7728c\" xlink:show=\"new\" xlink:title=\"psysml:f5a4eec3-f375-4f03-819b-6c5c8dc7728c\" xlink:type=\"simple\"><path d=\"M317.81,87.18 C326.17,101.08 332.96,119.13 325,134 C318.83,145.53 308.85,154.94 298.06,162.43 \" fill=\"none\" id=\"E12-&gt;E13\" style=\"stroke: #383838; stroke-width: 1.0; stroke-dasharray: 7.0,7.0;\"/><polygon fill=\"#383838\" points=\"293.73,165.31,303.4373,163.6459,297.8903,162.5365,298.9997,156.9895,293.73,165.31\" style=\"stroke: #383838; stroke-width: 1.0;\"/><text fill=\"#000000\" font-family=\"sans-serif\" font-size=\"13\" lengthAdjust=\"spacingAndGlyphs\" textLength=\"57\" x=\"329\" y=\"130.0669\">«satisfy»</text></a><!--MD5=[017847e01ff9a8bd19f247411074f987]\n",
       "link E13 to E4--><a href=\"psysml:e01bb7f1-206a-408f-a898-0799ec242df4\" target=\"_top\" title=\"psysml:e01bb7f1-206a-408f-a898-0799ec242df4\" xlink:actuate=\"onRequest\" xlink:href=\"psysml:e01bb7f1-206a-408f-a898-0799ec242df4\" xlink:show=\"new\" xlink:title=\"psysml:e01bb7f1-206a-408f-a898-0799ec242df4\" xlink:type=\"simple\"><path d=\"M247.39,210.27 C247.59,221.81 247.84,236.43 248.09,250.66 \" fill=\"none\" id=\"E13-&gt;E4\" style=\"stroke: #383838; stroke-width: 1.0;\"/><polygon fill=\"#FFFFFF\" points=\"248.43,270.81,241.1054,251.9328,255.1033,251.6928,248.43,270.81\" style=\"stroke: #383838; stroke-width: 1.0;\"/><ellipse cx=\"243.0074\" cy=\"246.1993\" fill=\"#383838\" rx=\"2\" ry=\"2\" style=\"stroke: #383838; stroke-width: 1.0;\"/><ellipse cx=\"253.0059\" cy=\"246.0279\" fill=\"#383838\" rx=\"2\" ry=\"2\" style=\"stroke: #383838; stroke-width: 1.0;\"/></a><!--MD5=[60f911bb19596b289db4a22769f8105a]\n",
       "link E11 to E13--><a href=\"psysml:e806deaf-0ce2-4d10-9e57-833502fc32ee\" target=\"_top\" title=\"psysml:e806deaf-0ce2-4d10-9e57-833502fc32ee\" xlink:actuate=\"onRequest\" xlink:href=\"psysml:e806deaf-0ce2-4d10-9e57-833502fc32ee\" xlink:show=\"new\" xlink:title=\"psysml:e806deaf-0ce2-4d10-9e57-833502fc32ee\" xlink:type=\"simple\"><path d=\"M127.91,87.28 C136.39,101.75 148.76,120.37 163,134 C173.59,144.14 186.48,153.31 198.95,161.02 \" fill=\"none\" id=\"E11-&gt;E13\" style=\"stroke: #383838; stroke-width: 1.0; stroke-dasharray: 7.0,7.0;\"/><polygon fill=\"#383838\" points=\"203.52,163.8,197.9,155.712,199.2452,161.2066,193.7506,162.5517,203.52,163.8\" style=\"stroke: #383838; stroke-width: 1.0;\"/><text fill=\"#000000\" font-family=\"sans-serif\" font-size=\"13\" lengthAdjust=\"spacingAndGlyphs\" textLength=\"57\" x=\"164\" y=\"130.0669\">«satisfy»</text></a><!--MD5=[0c677eb374079406c87b74cd1f5a339d]\n",
       "link E14 to E9--><a href=\"psysml:d6ece11e-fb98-4dd6-9106-0f6846b0bd9f\" target=\"_top\" title=\"psysml:d6ece11e-fb98-4dd6-9106-0f6846b0bd9f\" xlink:actuate=\"onRequest\" xlink:href=\"psysml:d6ece11e-fb98-4dd6-9106-0f6846b0bd9f\" xlink:show=\"new\" xlink:title=\"psysml:d6ece11e-fb98-4dd6-9106-0f6846b0bd9f\" xlink:type=\"simple\"><path d=\"M93,210.27 C93,224.65 93,243.82 93,261.04 \" fill=\"none\" id=\"E14-&gt;E9\" style=\"stroke: #383838; stroke-width: 1.0;\"/><polygon fill=\"#FFFFFF\" points=\"93,281.3,86,262.3,100,262.3,93,281.3\" style=\"stroke: #383838; stroke-width: 1.0;\"/><ellipse cx=\"88\" cy=\"256.6\" fill=\"#383838\" rx=\"2\" ry=\"2\" style=\"stroke: #383838; stroke-width: 1.0;\"/><ellipse cx=\"98\" cy=\"256.6\" fill=\"#383838\" rx=\"2\" ry=\"2\" style=\"stroke: #383838; stroke-width: 1.0;\"/></a><!--MD5=[9c1c40551dcf5c2fca147626a786a7cd]\n",
       "link E11 to E14--><a href=\"psysml:feaea2f2-720b-4dbc-ba1d-0aec40f00046\" target=\"_top\" title=\"psysml:feaea2f2-720b-4dbc-ba1d-0aec40f00046\" xlink:actuate=\"onRequest\" xlink:href=\"psysml:feaea2f2-720b-4dbc-ba1d-0aec40f00046\" xlink:show=\"new\" xlink:title=\"psysml:feaea2f2-720b-4dbc-ba1d-0aec40f00046\" xlink:type=\"simple\"><path d=\"M94.96,79.46 C83.46,88.7 70.3,101.78 64,117 C58.15,131.13 63.81,146.85 71.63,159.71 \" fill=\"none\" id=\"E11-&gt;E14\" style=\"stroke: #383838; stroke-width: 1.0; stroke-dasharray: 7.0,7.0;\"/><polygon fill=\"#383838\" points=\"74.35,163.96,72.8629,154.2241,71.6527,159.7499,66.1268,158.5397,74.35,163.96\" style=\"stroke: #383838; stroke-width: 1.0;\"/><text fill=\"#000000\" font-family=\"sans-serif\" font-size=\"13\" lengthAdjust=\"spacingAndGlyphs\" textLength=\"57\" x=\"65\" y=\"130.0669\">«satisfy»</text></a><!--MD5=[d53cb08dffc8689d16e38c8e194e9adc]\n",
       "link E12 to E14--><a href=\"psysml:f5704f7b-2601-4abd-90b0-2ec51a978e80\" target=\"_top\" title=\"psysml:f5704f7b-2601-4abd-90b0-2ec51a978e80\" xlink:actuate=\"onRequest\" xlink:href=\"psysml:f5704f7b-2601-4abd-90b0-2ec51a978e80\" xlink:show=\"new\" xlink:title=\"psysml:f5704f7b-2601-4abd-90b0-2ec51a978e80\" xlink:type=\"simple\"><path d=\"M281.09,87.22 C266.89,102.03 246.71,121.07 226,134 C200.86,149.7 170.21,162.07 144.66,170.81 \" fill=\"none\" id=\"E12-&gt;E14\" style=\"stroke: #383838; stroke-width: 1.0; stroke-dasharray: 7.0,7.0;\"/><polygon fill=\"#383838\" points=\"139.62,172.5,149.4273,173.4043,144.3562,170.8974,146.8631,165.8264,139.62,172.5\" style=\"stroke: #383838; stroke-width: 1.0;\"/><text fill=\"#000000\" font-family=\"sans-serif\" font-size=\"13\" lengthAdjust=\"spacingAndGlyphs\" textLength=\"57\" x=\"249\" y=\"130.0669\">«satisfy»</text></a><!--MD5=[a030b9b22adcca2974a04f36ed121832]\n",
       "@startuml\r\n",
       "skinparam monochrome true\r\n",
       "skinparam classbackgroundcolor white\r\n",
       "skinparam shadowing false\r\n",
       "skinparam wrapWidth 300\r\n",
       "hide circle\r\n",
       "\r\n",
       "package \"RequirementTest\" as E1  [[psysml:2a075407-fc8d-47b4-b4de-e1839d24b848 ]]  {\r\n",
       "comp def \"C\" as E2  <<(T,blue) constraint  def>> [[psysml:8e8b9929-fb62-44f3-bb6e-73f88688eaf1 ]] {\r\n",
       "}\r\n",
       "comp usage \"c: C \" as E3  <<(T,blue) constraint>> [[psysml:8dab2afb-478b-48f2-a7f7-bb2b245c05ea ]] {\r\n",
       "}\r\n",
       "comp def \"R\" as E4  <<(T,blue) requirement  def>> [[psysml:cae76f8a-948f-454f-8648-301efab5060e ]] {\r\n",
       "\r\n",
       "- -\r\n",
       "}\r\n",
       "comp usage \"<s>noname</s>\" as E7  <<(T,blue) requirement>> [[psysml:70e6cc11-a878-4419-9a48-d32cb5df9816 ]] {\r\n",
       "}\r\n",
       "comp def \" [<b>1</b>] A\" as E8  <<(T,blue) requirement  def>> [[psysml:5c5c4776-1d3a-4700-8516-1d3a67d779f4 ]] {\r\n",
       "Text\r\n",
       "- -\r\n",
       "}\r\n",
       "comp def \"R1\" as E9  <<(T,blue) requirement  def>> [[psysml:f2fc2205-4b84-4313-b340-24ee025c15cf ]] {\r\n",
       "}\r\n",
       "comp usage \"p\" as E11  <<(T,blue) part>> [[psysml:4203d305-f881-4dfa-bcc5-a82b5aac35c4 ]] {\r\n",
       "}\r\n",
       "comp usage \"q\" as E12  <<(T,blue) part>> [[psysml:d0dbee69-5f2e-4ac4-ba4b-4aca7380bae7 ]] {\r\n",
       "}\r\n",
       "comp usage \"r: R \" as E13  <<(T,blue) requirement>> [[psysml:aee31540-9ea4-41ee-8ebb-8555bfaf03fb ]] {\r\n",
       "}\r\n",
       "comp usage \"r1: R1 \" as E14  <<(T,blue) requirement>> [[psysml:5c4fb90e-2e7f-411e-8437-1e0e9b0bd00e ]] {\r\n",
       "}\r\n",
       "}\r\n",
       "E3 - -:|> E2 [[psysml:1cfa9d08-8b1e-49ae-8f22-7ec5c2d68c94 ]] \r\n",
       "E4 *- - \"*\"E7 [[psysml:8957256b-d423-4c87-844e-8026b3f5c553 ]] \r\n",
       "E4 +- - E8 [[psysml:e7993699-2e90-4c6e-9ce7-c90f60868f83 ]] \r\n",
       "E12 *- - E13 [[psysml:0f26ba0d-7372-4c44-875c-adf3c35e17b9 ]] \r\n",
       "E13 - -:|> E4 [[psysml:e01bb7f1-206a-408f-a898-0799ec242df4 ]] \r\n",
       "E11 ..> E13 [[psysml:e806deaf-0ce2-4d10-9e57-833502fc32ee ]] : <<satisfy>>\r\n",
       "E12 ..> E13 [[psysml:f5a4eec3-f375-4f03-819b-6c5c8dc7728c ]] : <<satisfy>>\r\n",
       "E14 - -:|> E9 [[psysml:d6ece11e-fb98-4dd6-9106-0f6846b0bd9f ]] \r\n",
       "E11 ..> E14 [[psysml:feaea2f2-720b-4dbc-ba1d-0aec40f00046 ]] : <<satisfy>>\r\n",
       "E12 ..> E14 [[psysml:f5704f7b-2601-4abd-90b0-2ec51a978e80 ]] : <<satisfy>>\r\n",
       "@enduml\r\n",
       "\n",
       "PlantUML version 1.2020.13(Sat Jun 13 12:26:38 UTC 2020)\n",
       "(EPL source distribution)\n",
       "Java Runtime: OpenJDK Runtime Environment\n",
       "JVM: OpenJDK 64-Bit Server VM\n",
       "Default Encoding: UTF-8\n",
       "Language: en\n",
       "Country: null\n",
       "--></g></svg>"
      ]
     },
     "execution_count": 43,
     "metadata": {},
     "output_type": "execute_result"
    }
   ],
   "source": [
    "%viz --style=\"DEFAULT\" --view=\"MIXED\" \"RequirementTest\""
   ]
  },
  {
   "cell_type": "code",
   "execution_count": 44,
   "id": "b0670c0d",
   "metadata": {
    "execution": {
     "iopub.execute_input": "2021-10-25T08:21:14.971314Z",
     "iopub.status.busy": "2021-10-25T08:21:14.970999Z",
     "iopub.status.idle": "2021-10-25T08:21:15.020505Z",
     "shell.execute_reply": "2021-10-25T08:21:15.018383Z"
    }
   },
   "outputs": [
    {
     "data": {
      "image/svg+xml": [
       "<?xml version=\"1.0\" encoding=\"UTF-8\" standalone=\"no\"?><svg xmlns=\"http://www.w3.org/2000/svg\" xmlns:xlink=\"http://www.w3.org/1999/xlink\" contentScriptType=\"application/ecmascript\" contentStyleType=\"text/css\" height=\"494px\" preserveAspectRatio=\"none\" style=\"width:475px;height:494px;\" version=\"1.1\" viewBox=\"0 0 475 494\" width=\"475px\" zoomAndPan=\"magnify\"><defs/><g><!--MD5=[fbc87193dbaf4d95561dea2c320d4a47]\n",
       "cluster E1--><a href=\"psysml:2a075407-fc8d-47b4-b4de-e1839d24b848\" target=\"_top\" title=\"psysml:2a075407-fc8d-47b4-b4de-e1839d24b848\" xlink:actuate=\"onRequest\" xlink:href=\"psysml:2a075407-fc8d-47b4-b4de-e1839d24b848\" xlink:show=\"new\" xlink:title=\"psysml:2a075407-fc8d-47b4-b4de-e1839d24b848\" xlink:type=\"simple\"><polygon fill=\"#FFFFFF\" points=\"16,6,143,6,150,28.2969,453,28.2969,453,482,16,482,16,6\" style=\"stroke: #000000; stroke-width: 1.5;\"/><line style=\"stroke: #000000; stroke-width: 1.5;\" x1=\"16\" x2=\"150\" y1=\"28.2969\" y2=\"28.2969\"/><text fill=\"#000000\" font-family=\"sans-serif\" font-size=\"14\" font-weight=\"bold\" lengthAdjust=\"spacingAndGlyphs\" textLength=\"121\" x=\"20\" y=\"20.9951\">RequirementTest</text></a><!--MD5=[b4997ac47864f28c2f74865a473b2911]\n",
       "class E2--><a href=\"psysml:8e8b9929-fb62-44f3-bb6e-73f88688eaf1\" target=\"_top\" title=\"psysml:8e8b9929-fb62-44f3-bb6e-73f88688eaf1\" xlink:actuate=\"onRequest\" xlink:href=\"psysml:8e8b9929-fb62-44f3-bb6e-73f88688eaf1\" xlink:show=\"new\" xlink:title=\"psysml:8e8b9929-fb62-44f3-bb6e-73f88688eaf1\" xlink:type=\"simple\"><rect fill=\"#FFFFFF\" height=\"45.9375\" id=\"E2\" style=\"stroke: #383838; stroke-width: 1.5;\" width=\"108\" x=\"329\" y=\"164\"/><text fill=\"#000000\" font-family=\"sans-serif\" font-size=\"12\" font-style=\"italic\" lengthAdjust=\"spacingAndGlyphs\" textLength=\"106\" x=\"330\" y=\"180.1387\">«constraint  def»</text><text fill=\"#000000\" font-family=\"sans-serif\" font-size=\"12\" lengthAdjust=\"spacingAndGlyphs\" textLength=\"8\" x=\"379\" y=\"194.1074\">C</text><line style=\"stroke: #383838; stroke-width: 1.5;\" x1=\"330\" x2=\"436\" y1=\"201.9375\" y2=\"201.9375\"/></a><!--MD5=[09b614a08d8cba4a07c9adeb5e0fee81]\n",
       "class E3--><a href=\"psysml:8dab2afb-478b-48f2-a7f7-bb2b245c05ea\" target=\"_top\" title=\"psysml:8dab2afb-478b-48f2-a7f7-bb2b245c05ea\" xlink:actuate=\"onRequest\" xlink:href=\"psysml:8dab2afb-478b-48f2-a7f7-bb2b245c05ea\" xlink:show=\"new\" xlink:title=\"psysml:8dab2afb-478b-48f2-a7f7-bb2b245c05ea\" xlink:type=\"simple\"><rect fill=\"#FFFFFF\" height=\"45.9375\" id=\"E3\" rx=\"10\" ry=\"10\" style=\"stroke: #383838; stroke-width: 1.5;\" width=\"80\" x=\"357\" y=\"41\"/><text fill=\"#000000\" font-family=\"sans-serif\" font-size=\"12\" font-style=\"italic\" lengthAdjust=\"spacingAndGlyphs\" textLength=\"78\" x=\"358\" y=\"57.1387\">«constraint»</text><text fill=\"#000000\" font-family=\"sans-serif\" font-size=\"12\" lengthAdjust=\"spacingAndGlyphs\" textLength=\"23\" x=\"383.5\" y=\"71.1074\">c: C</text><line style=\"stroke: #383838; stroke-width: 1.5;\" x1=\"358\" x2=\"436\" y1=\"78.9375\" y2=\"78.9375\"/></a><!--MD5=[ebbe1d658d1005bcc118a6aa81145e00]\n",
       "class E4--><a href=\"psysml:cae76f8a-948f-454f-8648-301efab5060e\" target=\"_top\" title=\"psysml:cae76f8a-948f-454f-8648-301efab5060e\" xlink:actuate=\"onRequest\" xlink:href=\"psysml:cae76f8a-948f-454f-8648-301efab5060e\" xlink:show=\"new\" xlink:title=\"psysml:cae76f8a-948f-454f-8648-301efab5060e\" xlink:type=\"simple\"><rect fill=\"#FFFFFF\" height=\"66.7422\" id=\"E4\" style=\"stroke: #383838; stroke-width: 1.5;\" width=\"121\" x=\"188.5\" y=\"271\"/><text fill=\"#000000\" font-family=\"sans-serif\" font-size=\"12\" font-style=\"italic\" lengthAdjust=\"spacingAndGlyphs\" textLength=\"119\" x=\"189.5\" y=\"287.1387\">«requirement  def»</text><text fill=\"#000000\" font-family=\"sans-serif\" font-size=\"12\" lengthAdjust=\"spacingAndGlyphs\" textLength=\"8\" x=\"245\" y=\"301.1074\">R</text><line style=\"stroke: #383838; stroke-width: 1.5;\" x1=\"189.5\" x2=\"308.5\" y1=\"308.9375\" y2=\"308.9375\"/><text fill=\"#000000\" font-family=\"sans-serif\" font-size=\"11\" lengthAdjust=\"spacingAndGlyphs\" textLength=\"0\" x=\"198.5\" y=\"323.1479\"/><line style=\"stroke: #383838; stroke-width: 1.0;\" x1=\"189.5\" x2=\"308.5\" y1=\"329.7422\" y2=\"329.7422\"/></a><!--MD5=[2156ba9850f5573cc1fc38a6a4b2f02b]\n",
       "class E7--><a href=\"psysml:70e6cc11-a878-4419-9a48-d32cb5df9816\" target=\"_top\" title=\"psysml:70e6cc11-a878-4419-9a48-d32cb5df9816\" xlink:actuate=\"onRequest\" xlink:href=\"psysml:70e6cc11-a878-4419-9a48-d32cb5df9816\" xlink:show=\"new\" xlink:title=\"psysml:70e6cc11-a878-4419-9a48-d32cb5df9816\" xlink:type=\"simple\"><rect fill=\"#FFFFFF\" height=\"45.9375\" id=\"E7\" rx=\"10\" ry=\"10\" style=\"stroke: #383838; stroke-width: 1.5;\" width=\"93\" x=\"144.5\" y=\"409.5\"/><text fill=\"#000000\" font-family=\"sans-serif\" font-size=\"12\" font-style=\"italic\" lengthAdjust=\"spacingAndGlyphs\" textLength=\"91\" x=\"145.5\" y=\"425.6387\">«requirement»</text><text fill=\"#000000\" font-family=\"sans-serif\" font-size=\"12\" lengthAdjust=\"spacingAndGlyphs\" text-decoration=\"line-through\" textLength=\"51\" x=\"165.5\" y=\"439.6074\">noname</text><line style=\"stroke: #383838; stroke-width: 1.5;\" x1=\"145.5\" x2=\"236.5\" y1=\"447.4375\" y2=\"447.4375\"/></a><!--MD5=[b9389687b975829384b498ac4b7476b2]\n",
       "class E8--><a href=\"psysml:5c5c4776-1d3a-4700-8516-1d3a67d779f4\" target=\"_top\" title=\"psysml:5c5c4776-1d3a-4700-8516-1d3a67d779f4\" xlink:actuate=\"onRequest\" xlink:href=\"psysml:5c5c4776-1d3a-4700-8516-1d3a67d779f4\" xlink:show=\"new\" xlink:title=\"psysml:5c5c4776-1d3a-4700-8516-1d3a67d779f4\" xlink:type=\"simple\"><rect fill=\"#FFFFFF\" height=\"66.7422\" id=\"E8\" style=\"stroke: #383838; stroke-width: 1.5;\" width=\"121\" x=\"272.5\" y=\"399\"/><text fill=\"#000000\" font-family=\"sans-serif\" font-size=\"12\" font-style=\"italic\" lengthAdjust=\"spacingAndGlyphs\" textLength=\"119\" x=\"273.5\" y=\"415.1387\">«requirement  def»</text><text fill=\"#000000\" font-family=\"sans-serif\" font-size=\"12\" lengthAdjust=\"spacingAndGlyphs\" textLength=\"5\" x=\"320\" y=\"429.1074\">[</text><text fill=\"#000000\" font-family=\"sans-serif\" font-size=\"12\" font-weight=\"bold\" lengthAdjust=\"spacingAndGlyphs\" textLength=\"8\" x=\"325\" y=\"429.1074\">1</text><text fill=\"#000000\" font-family=\"sans-serif\" font-size=\"12\" lengthAdjust=\"spacingAndGlyphs\" textLength=\"17\" x=\"333\" y=\"429.1074\">] A</text><line style=\"stroke: #383838; stroke-width: 1.5;\" x1=\"273.5\" x2=\"392.5\" y1=\"436.9375\" y2=\"436.9375\"/><text fill=\"#000000\" font-family=\"sans-serif\" font-size=\"11\" lengthAdjust=\"spacingAndGlyphs\" textLength=\"24\" x=\"278.5\" y=\"451.1479\">Text</text><line style=\"stroke: #383838; stroke-width: 1.0;\" x1=\"273.5\" x2=\"392.5\" y1=\"457.7422\" y2=\"457.7422\"/></a><!--MD5=[fd4143e9d270a159db93a4ea2a975926]\n",
       "class E9--><a href=\"psysml:f2fc2205-4b84-4313-b340-24ee025c15cf\" target=\"_top\" title=\"psysml:f2fc2205-4b84-4313-b340-24ee025c15cf\" xlink:actuate=\"onRequest\" xlink:href=\"psysml:f2fc2205-4b84-4313-b340-24ee025c15cf\" xlink:show=\"new\" xlink:title=\"psysml:f2fc2205-4b84-4313-b340-24ee025c15cf\" xlink:type=\"simple\"><rect fill=\"#FFFFFF\" height=\"45.9375\" id=\"E9\" style=\"stroke: #383838; stroke-width: 1.5;\" width=\"121\" x=\"32.5\" y=\"281.5\"/><text fill=\"#000000\" font-family=\"sans-serif\" font-size=\"12\" font-style=\"italic\" lengthAdjust=\"spacingAndGlyphs\" textLength=\"119\" x=\"33.5\" y=\"297.6387\">«requirement  def»</text><text fill=\"#000000\" font-family=\"sans-serif\" font-size=\"12\" lengthAdjust=\"spacingAndGlyphs\" textLength=\"16\" x=\"85\" y=\"311.6074\">R1</text><line style=\"stroke: #383838; stroke-width: 1.5;\" x1=\"33.5\" x2=\"152.5\" y1=\"319.4375\" y2=\"319.4375\"/></a><!--MD5=[1dd1bfd58a279cf63c5f349dbc8fc6a1]\n",
       "class E11--><a href=\"psysml:4203d305-f881-4dfa-bcc5-a82b5aac35c4\" target=\"_top\" title=\"psysml:4203d305-f881-4dfa-bcc5-a82b5aac35c4\" xlink:actuate=\"onRequest\" xlink:href=\"psysml:4203d305-f881-4dfa-bcc5-a82b5aac35c4\" xlink:show=\"new\" xlink:title=\"psysml:4203d305-f881-4dfa-bcc5-a82b5aac35c4\" xlink:type=\"simple\"><rect fill=\"#FFFFFF\" height=\"45.9375\" id=\"E11\" rx=\"10\" ry=\"10\" style=\"stroke: #383838; stroke-width: 1.5;\" width=\"42\" x=\"95\" y=\"41\"/><text fill=\"#000000\" font-family=\"sans-serif\" font-size=\"12\" font-style=\"italic\" lengthAdjust=\"spacingAndGlyphs\" textLength=\"40\" x=\"96\" y=\"57.1387\">«part»</text><text fill=\"#000000\" font-family=\"sans-serif\" font-size=\"12\" lengthAdjust=\"spacingAndGlyphs\" textLength=\"8\" x=\"112\" y=\"71.1074\">p</text><line style=\"stroke: #383838; stroke-width: 1.5;\" x1=\"96\" x2=\"136\" y1=\"78.9375\" y2=\"78.9375\"/></a><!--MD5=[49a0ec8f00dab7302a31f22d0f0fe584]\n",
       "class E12--><a href=\"psysml:d0dbee69-5f2e-4ac4-ba4b-4aca7380bae7\" target=\"_top\" title=\"psysml:d0dbee69-5f2e-4ac4-ba4b-4aca7380bae7\" xlink:actuate=\"onRequest\" xlink:href=\"psysml:d0dbee69-5f2e-4ac4-ba4b-4aca7380bae7\" xlink:show=\"new\" xlink:title=\"psysml:d0dbee69-5f2e-4ac4-ba4b-4aca7380bae7\" xlink:type=\"simple\"><rect fill=\"#FFFFFF\" height=\"45.9375\" id=\"E12\" rx=\"10\" ry=\"10\" style=\"stroke: #383838; stroke-width: 1.5;\" width=\"42\" x=\"280\" y=\"41\"/><text fill=\"#000000\" font-family=\"sans-serif\" font-size=\"12\" font-style=\"italic\" lengthAdjust=\"spacingAndGlyphs\" textLength=\"40\" x=\"281\" y=\"57.1387\">«part»</text><text fill=\"#000000\" font-family=\"sans-serif\" font-size=\"12\" lengthAdjust=\"spacingAndGlyphs\" textLength=\"8\" x=\"297\" y=\"71.1074\">q</text><line style=\"stroke: #383838; stroke-width: 1.5;\" x1=\"281\" x2=\"321\" y1=\"78.9375\" y2=\"78.9375\"/></a><!--MD5=[ee3c913d1a06f366521f9ef512b67efe]\n",
       "class E13--><a href=\"psysml:aee31540-9ea4-41ee-8ebb-8555bfaf03fb\" target=\"_top\" title=\"psysml:aee31540-9ea4-41ee-8ebb-8555bfaf03fb\" xlink:actuate=\"onRequest\" xlink:href=\"psysml:aee31540-9ea4-41ee-8ebb-8555bfaf03fb\" xlink:show=\"new\" xlink:title=\"psysml:aee31540-9ea4-41ee-8ebb-8555bfaf03fb\" xlink:type=\"simple\"><rect fill=\"#FFFFFF\" height=\"45.9375\" id=\"E13\" rx=\"10\" ry=\"10\" style=\"stroke: #383838; stroke-width: 1.5;\" width=\"93\" x=\"200.5\" y=\"164\"/><text fill=\"#000000\" font-family=\"sans-serif\" font-size=\"12\" font-style=\"italic\" lengthAdjust=\"spacingAndGlyphs\" textLength=\"91\" x=\"201.5\" y=\"180.1387\">«requirement»</text><text fill=\"#000000\" font-family=\"sans-serif\" font-size=\"12\" lengthAdjust=\"spacingAndGlyphs\" textLength=\"21\" x=\"234.5\" y=\"194.1074\">r: R</text><line style=\"stroke: #383838; stroke-width: 1.5;\" x1=\"201.5\" x2=\"292.5\" y1=\"201.9375\" y2=\"201.9375\"/></a><!--MD5=[bee11217b2f71d958a27249dc326068c]\n",
       "class E14--><a href=\"psysml:5c4fb90e-2e7f-411e-8437-1e0e9b0bd00e\" target=\"_top\" title=\"psysml:5c4fb90e-2e7f-411e-8437-1e0e9b0bd00e\" xlink:actuate=\"onRequest\" xlink:href=\"psysml:5c4fb90e-2e7f-411e-8437-1e0e9b0bd00e\" xlink:show=\"new\" xlink:title=\"psysml:5c4fb90e-2e7f-411e-8437-1e0e9b0bd00e\" xlink:type=\"simple\"><rect fill=\"#FFFFFF\" height=\"45.9375\" id=\"E14\" rx=\"10\" ry=\"10\" style=\"stroke: #383838; stroke-width: 1.5;\" width=\"93\" x=\"46.5\" y=\"164\"/><text fill=\"#000000\" font-family=\"sans-serif\" font-size=\"12\" font-style=\"italic\" lengthAdjust=\"spacingAndGlyphs\" textLength=\"91\" x=\"47.5\" y=\"180.1387\">«requirement»</text><text fill=\"#000000\" font-family=\"sans-serif\" font-size=\"12\" lengthAdjust=\"spacingAndGlyphs\" textLength=\"37\" x=\"72.5\" y=\"194.1074\">r1: R1</text><line style=\"stroke: #383838; stroke-width: 1.5;\" x1=\"47.5\" x2=\"138.5\" y1=\"201.9375\" y2=\"201.9375\"/></a><!--MD5=[05d275557350bfb9b23a4ef7222b4c39]\n",
       "link E3 to E2--><a href=\"psysml:1cfa9d08-8b1e-49ae-8f22-7ec5c2d68c94\" target=\"_top\" title=\"psysml:1cfa9d08-8b1e-49ae-8f22-7ec5c2d68c94\" xlink:actuate=\"onRequest\" xlink:href=\"psysml:1cfa9d08-8b1e-49ae-8f22-7ec5c2d68c94\" xlink:show=\"new\" xlink:title=\"psysml:1cfa9d08-8b1e-49ae-8f22-7ec5c2d68c94\" xlink:type=\"simple\"><path d=\"M418.43,87.25 C428.59,100.56 437.27,117.96 431,134 C429.08,138.91 426.46,143.63 423.42,148.09 \" fill=\"none\" id=\"E3-&gt;E2\" style=\"stroke: #383838; stroke-width: 1.0;\"/><polygon fill=\"#FFFFFF\" points=\"410.27,163.84,417.0769,144.77,427.8221,153.7444,410.27,163.84\" style=\"stroke: #383838; stroke-width: 1.0;\"/><ellipse cx=\"422.2658\" cy=\"141.6772\" fill=\"#383838\" rx=\"2\" ry=\"2\" style=\"stroke: #383838; stroke-width: 1.0;\"/><ellipse cx=\"429.941\" cy=\"148.0874\" fill=\"#383838\" rx=\"2\" ry=\"2\" style=\"stroke: #383838; stroke-width: 1.0;\"/></a><!--MD5=[722ff4eef345aa10242dad44df0e98c7]\n",
       "reverse link E4 to E7--><a href=\"psysml:8957256b-d423-4c87-844e-8026b3f5c553\" target=\"_top\" title=\"psysml:8957256b-d423-4c87-844e-8026b3f5c553\" xlink:actuate=\"onRequest\" xlink:href=\"psysml:8957256b-d423-4c87-844e-8026b3f5c553\" xlink:show=\"new\" xlink:title=\"psysml:8957256b-d423-4c87-844e-8026b3f5c553\" xlink:type=\"simple\"><path d=\"M228.38,350.29 C219.19,370.26 208.76,392.91 201.26,409.21 \" fill=\"none\" id=\"E4&lt;-E7\" style=\"stroke: #383838; stroke-width: 1.0;\"/><polygon fill=\"#383838\" points=\"233.91,338.28,227.7664,342.0558,228.8888,349.179,235.0324,345.4032,233.91,338.28\" style=\"stroke: #383838; stroke-width: 1.0;\"/><text fill=\"#000000\" font-family=\"sans-serif\" font-size=\"13\" lengthAdjust=\"spacingAndGlyphs\" textLength=\"7\" x=\"195.9922\" y=\"398.412\">*</text></a><!--MD5=[c6fc7cdb0cabde04948078cf183fa696]\n",
       "reverse link E4 to E8--><a href=\"psysml:e7993699-2e90-4c6e-9ce7-c90f60868f83\" target=\"_top\" title=\"psysml:e7993699-2e90-4c6e-9ce7-c90f60868f83\" xlink:actuate=\"onRequest\" xlink:href=\"psysml:e7993699-2e90-4c6e-9ce7-c90f60868f83\" xlink:show=\"new\" xlink:title=\"psysml:e7993699-2e90-4c6e-9ce7-c90f60868f83\" xlink:type=\"simple\"><path d=\"M279.4,351.09 C289.94,366.92 301.55,384.33 311.26,398.89 \" fill=\"none\" id=\"E4&lt;-E8\" style=\"stroke: #383838; stroke-width: 1.0;\"/><ellipse cx=\"275.2894\" cy=\"344.9352\" fill=\"#FFFFFF\" rx=\"8\" ry=\"8\" style=\"stroke: #383838; stroke-width: 1.0;\"/><line style=\"stroke: #383838; stroke-width: 1.0;\" x1=\"279.7287\" x2=\"270.85\" y1=\"351.5905\" y2=\"338.28\"/><line style=\"stroke: #383838; stroke-width: 1.0;\" x1=\"268.6341\" x2=\"281.9446\" y1=\"349.3746\" y2=\"340.4959\"/></a><!--MD5=[062ed86c389d1a88f61c6380d0491e17]\n",
       "reverse link E12 to E13--><a href=\"psysml:0f26ba0d-7372-4c44-875c-adf3c35e17b9\" target=\"_top\" title=\"psysml:0f26ba0d-7372-4c44-875c-adf3c35e17b9\" xlink:actuate=\"onRequest\" xlink:href=\"psysml:0f26ba0d-7372-4c44-875c-adf3c35e17b9\" xlink:show=\"new\" xlink:title=\"psysml:0f26ba0d-7372-4c44-875c-adf3c35e17b9\" xlink:type=\"simple\"><path d=\"M333.8,84.02 C335.88,85.07 337.96,86.07 340,87 C378.92,104.77 450.04,100.06 424,134 C392.63,174.88 361.32,149.06 312,164 C306.07,165.8 299.87,167.77 293.75,169.77 \" fill=\"none\" id=\"E12&lt;-E13\" style=\"stroke: #383838; stroke-width: 1.0;\"/><polygon fill=\"#383838\" points=\"322.11,77.78,325.5172,84.1354,332.6942,83.4346,329.287,77.0792,322.11,77.78\" style=\"stroke: #383838; stroke-width: 1.0;\"/></a><!--MD5=[e2a9ac97dcd3257bb5342dae06547bad]\n",
       "link E12 to E13--><a href=\"psysml:f5a4eec3-f375-4f03-819b-6c5c8dc7728c\" target=\"_top\" title=\"psysml:f5a4eec3-f375-4f03-819b-6c5c8dc7728c\" xlink:actuate=\"onRequest\" xlink:href=\"psysml:f5a4eec3-f375-4f03-819b-6c5c8dc7728c\" xlink:show=\"new\" xlink:title=\"psysml:f5a4eec3-f375-4f03-819b-6c5c8dc7728c\" xlink:type=\"simple\"><path d=\"M317.81,87.18 C326.17,101.08 332.96,119.13 325,134 C318.83,145.53 308.85,154.94 298.06,162.43 \" fill=\"none\" id=\"E12-&gt;E13\" style=\"stroke: #383838; stroke-width: 1.0; stroke-dasharray: 7.0,7.0;\"/><polygon fill=\"#383838\" points=\"293.73,165.31,303.4373,163.6459,297.8903,162.5365,298.9997,156.9895,293.73,165.31\" style=\"stroke: #383838; stroke-width: 1.0;\"/><text fill=\"#000000\" font-family=\"sans-serif\" font-size=\"13\" lengthAdjust=\"spacingAndGlyphs\" textLength=\"57\" x=\"329\" y=\"130.0669\">«satisfy»</text></a><!--MD5=[017847e01ff9a8bd19f247411074f987]\n",
       "link E13 to E4--><a href=\"psysml:e01bb7f1-206a-408f-a898-0799ec242df4\" target=\"_top\" title=\"psysml:e01bb7f1-206a-408f-a898-0799ec242df4\" xlink:actuate=\"onRequest\" xlink:href=\"psysml:e01bb7f1-206a-408f-a898-0799ec242df4\" xlink:show=\"new\" xlink:title=\"psysml:e01bb7f1-206a-408f-a898-0799ec242df4\" xlink:type=\"simple\"><path d=\"M247.39,210.27 C247.59,221.81 247.84,236.43 248.09,250.66 \" fill=\"none\" id=\"E13-&gt;E4\" style=\"stroke: #383838; stroke-width: 1.0;\"/><polygon fill=\"#FFFFFF\" points=\"248.43,270.81,241.1054,251.9328,255.1033,251.6928,248.43,270.81\" style=\"stroke: #383838; stroke-width: 1.0;\"/><ellipse cx=\"243.0074\" cy=\"246.1993\" fill=\"#383838\" rx=\"2\" ry=\"2\" style=\"stroke: #383838; stroke-width: 1.0;\"/><ellipse cx=\"253.0059\" cy=\"246.0279\" fill=\"#383838\" rx=\"2\" ry=\"2\" style=\"stroke: #383838; stroke-width: 1.0;\"/></a><!--MD5=[60f911bb19596b289db4a22769f8105a]\n",
       "link E11 to E13--><a href=\"psysml:e806deaf-0ce2-4d10-9e57-833502fc32ee\" target=\"_top\" title=\"psysml:e806deaf-0ce2-4d10-9e57-833502fc32ee\" xlink:actuate=\"onRequest\" xlink:href=\"psysml:e806deaf-0ce2-4d10-9e57-833502fc32ee\" xlink:show=\"new\" xlink:title=\"psysml:e806deaf-0ce2-4d10-9e57-833502fc32ee\" xlink:type=\"simple\"><path d=\"M127.91,87.28 C136.39,101.75 148.76,120.37 163,134 C173.59,144.14 186.48,153.31 198.95,161.02 \" fill=\"none\" id=\"E11-&gt;E13\" style=\"stroke: #383838; stroke-width: 1.0; stroke-dasharray: 7.0,7.0;\"/><polygon fill=\"#383838\" points=\"203.52,163.8,197.9,155.712,199.2452,161.2066,193.7506,162.5517,203.52,163.8\" style=\"stroke: #383838; stroke-width: 1.0;\"/><text fill=\"#000000\" font-family=\"sans-serif\" font-size=\"13\" lengthAdjust=\"spacingAndGlyphs\" textLength=\"57\" x=\"164\" y=\"130.0669\">«satisfy»</text></a><!--MD5=[0c677eb374079406c87b74cd1f5a339d]\n",
       "link E14 to E9--><a href=\"psysml:d6ece11e-fb98-4dd6-9106-0f6846b0bd9f\" target=\"_top\" title=\"psysml:d6ece11e-fb98-4dd6-9106-0f6846b0bd9f\" xlink:actuate=\"onRequest\" xlink:href=\"psysml:d6ece11e-fb98-4dd6-9106-0f6846b0bd9f\" xlink:show=\"new\" xlink:title=\"psysml:d6ece11e-fb98-4dd6-9106-0f6846b0bd9f\" xlink:type=\"simple\"><path d=\"M93,210.27 C93,224.65 93,243.82 93,261.04 \" fill=\"none\" id=\"E14-&gt;E9\" style=\"stroke: #383838; stroke-width: 1.0;\"/><polygon fill=\"#FFFFFF\" points=\"93,281.3,86,262.3,100,262.3,93,281.3\" style=\"stroke: #383838; stroke-width: 1.0;\"/><ellipse cx=\"88\" cy=\"256.6\" fill=\"#383838\" rx=\"2\" ry=\"2\" style=\"stroke: #383838; stroke-width: 1.0;\"/><ellipse cx=\"98\" cy=\"256.6\" fill=\"#383838\" rx=\"2\" ry=\"2\" style=\"stroke: #383838; stroke-width: 1.0;\"/></a><!--MD5=[9c1c40551dcf5c2fca147626a786a7cd]\n",
       "link E11 to E14--><a href=\"psysml:feaea2f2-720b-4dbc-ba1d-0aec40f00046\" target=\"_top\" title=\"psysml:feaea2f2-720b-4dbc-ba1d-0aec40f00046\" xlink:actuate=\"onRequest\" xlink:href=\"psysml:feaea2f2-720b-4dbc-ba1d-0aec40f00046\" xlink:show=\"new\" xlink:title=\"psysml:feaea2f2-720b-4dbc-ba1d-0aec40f00046\" xlink:type=\"simple\"><path d=\"M94.96,79.46 C83.46,88.7 70.3,101.78 64,117 C58.15,131.13 63.81,146.85 71.63,159.71 \" fill=\"none\" id=\"E11-&gt;E14\" style=\"stroke: #383838; stroke-width: 1.0; stroke-dasharray: 7.0,7.0;\"/><polygon fill=\"#383838\" points=\"74.35,163.96,72.8629,154.2241,71.6527,159.7499,66.1268,158.5397,74.35,163.96\" style=\"stroke: #383838; stroke-width: 1.0;\"/><text fill=\"#000000\" font-family=\"sans-serif\" font-size=\"13\" lengthAdjust=\"spacingAndGlyphs\" textLength=\"57\" x=\"65\" y=\"130.0669\">«satisfy»</text></a><!--MD5=[d53cb08dffc8689d16e38c8e194e9adc]\n",
       "link E12 to E14--><a href=\"psysml:f5704f7b-2601-4abd-90b0-2ec51a978e80\" target=\"_top\" title=\"psysml:f5704f7b-2601-4abd-90b0-2ec51a978e80\" xlink:actuate=\"onRequest\" xlink:href=\"psysml:f5704f7b-2601-4abd-90b0-2ec51a978e80\" xlink:show=\"new\" xlink:title=\"psysml:f5704f7b-2601-4abd-90b0-2ec51a978e80\" xlink:type=\"simple\"><path d=\"M281.09,87.22 C266.89,102.03 246.71,121.07 226,134 C200.86,149.7 170.21,162.07 144.66,170.81 \" fill=\"none\" id=\"E12-&gt;E14\" style=\"stroke: #383838; stroke-width: 1.0; stroke-dasharray: 7.0,7.0;\"/><polygon fill=\"#383838\" points=\"139.62,172.5,149.4273,173.4043,144.3562,170.8974,146.8631,165.8264,139.62,172.5\" style=\"stroke: #383838; stroke-width: 1.0;\"/><text fill=\"#000000\" font-family=\"sans-serif\" font-size=\"13\" lengthAdjust=\"spacingAndGlyphs\" textLength=\"57\" x=\"249\" y=\"130.0669\">«satisfy»</text></a><!--MD5=[00d2264c28c1cdfc343c4c97869bc88c]\n",
       "@startuml\r\n",
       "top to bottom direction\r\n",
       "skinparam monochrome true\r\n",
       "skinparam classbackgroundcolor white\r\n",
       "skinparam shadowing false\r\n",
       "skinparam wrapWidth 300\r\n",
       "hide circle\r\n",
       "\r\n",
       "package \"RequirementTest\" as E1  [[psysml:2a075407-fc8d-47b4-b4de-e1839d24b848 ]]  {\r\n",
       "comp def \"C\" as E2  <<(T,blue) constraint  def>> [[psysml:8e8b9929-fb62-44f3-bb6e-73f88688eaf1 ]] {\r\n",
       "}\r\n",
       "comp usage \"c: C \" as E3  <<(T,blue) constraint>> [[psysml:8dab2afb-478b-48f2-a7f7-bb2b245c05ea ]] {\r\n",
       "}\r\n",
       "comp def \"R\" as E4  <<(T,blue) requirement  def>> [[psysml:cae76f8a-948f-454f-8648-301efab5060e ]] {\r\n",
       "\r\n",
       "- -\r\n",
       "}\r\n",
       "comp usage \"<s>noname</s>\" as E7  <<(T,blue) requirement>> [[psysml:70e6cc11-a878-4419-9a48-d32cb5df9816 ]] {\r\n",
       "}\r\n",
       "comp def \" [<b>1</b>] A\" as E8  <<(T,blue) requirement  def>> [[psysml:5c5c4776-1d3a-4700-8516-1d3a67d779f4 ]] {\r\n",
       "Text\r\n",
       "- -\r\n",
       "}\r\n",
       "comp def \"R1\" as E9  <<(T,blue) requirement  def>> [[psysml:f2fc2205-4b84-4313-b340-24ee025c15cf ]] {\r\n",
       "}\r\n",
       "comp usage \"p\" as E11  <<(T,blue) part>> [[psysml:4203d305-f881-4dfa-bcc5-a82b5aac35c4 ]] {\r\n",
       "}\r\n",
       "comp usage \"q\" as E12  <<(T,blue) part>> [[psysml:d0dbee69-5f2e-4ac4-ba4b-4aca7380bae7 ]] {\r\n",
       "}\r\n",
       "comp usage \"r: R \" as E13  <<(T,blue) requirement>> [[psysml:aee31540-9ea4-41ee-8ebb-8555bfaf03fb ]] {\r\n",
       "}\r\n",
       "comp usage \"r1: R1 \" as E14  <<(T,blue) requirement>> [[psysml:5c4fb90e-2e7f-411e-8437-1e0e9b0bd00e ]] {\r\n",
       "}\r\n",
       "}\r\n",
       "E3 - -:|> E2 [[psysml:1cfa9d08-8b1e-49ae-8f22-7ec5c2d68c94 ]] \r\n",
       "E4 *- - \"*\"E7 [[psysml:8957256b-d423-4c87-844e-8026b3f5c553 ]] \r\n",
       "E4 +- - E8 [[psysml:e7993699-2e90-4c6e-9ce7-c90f60868f83 ]] \r\n",
       "E12 *- - E13 [[psysml:0f26ba0d-7372-4c44-875c-adf3c35e17b9 ]] \r\n",
       "E13 - -:|> E4 [[psysml:e01bb7f1-206a-408f-a898-0799ec242df4 ]] \r\n",
       "E11 ..> E13 [[psysml:e806deaf-0ce2-4d10-9e57-833502fc32ee ]] : <<satisfy>>\r\n",
       "E12 ..> E13 [[psysml:f5a4eec3-f375-4f03-819b-6c5c8dc7728c ]] : <<satisfy>>\r\n",
       "E14 - -:|> E9 [[psysml:d6ece11e-fb98-4dd6-9106-0f6846b0bd9f ]] \r\n",
       "E11 ..> E14 [[psysml:feaea2f2-720b-4dbc-ba1d-0aec40f00046 ]] : <<satisfy>>\r\n",
       "E12 ..> E14 [[psysml:f5704f7b-2601-4abd-90b0-2ec51a978e80 ]] : <<satisfy>>\r\n",
       "@enduml\r\n",
       "\n",
       "PlantUML version 1.2020.13(Sat Jun 13 12:26:38 UTC 2020)\n",
       "(EPL source distribution)\n",
       "Java Runtime: OpenJDK Runtime Environment\n",
       "JVM: OpenJDK 64-Bit Server VM\n",
       "Default Encoding: UTF-8\n",
       "Language: en\n",
       "Country: null\n",
       "--></g></svg>"
      ]
     },
     "execution_count": 44,
     "metadata": {},
     "output_type": "execute_result"
    }
   ],
   "source": [
    "%viz --style=\"TB\" --view=\"Default\" \"RequirementTest\""
   ]
  },
  {
   "cell_type": "code",
   "execution_count": 45,
   "id": "8291f5e1",
   "metadata": {
    "execution": {
     "iopub.execute_input": "2021-10-25T08:21:15.068753Z",
     "iopub.status.busy": "2021-10-25T08:21:15.068322Z",
     "iopub.status.idle": "2021-10-25T08:21:15.112953Z",
     "shell.execute_reply": "2021-10-25T08:21:15.110989Z"
    }
   },
   "outputs": [
    {
     "data": {
      "image/svg+xml": [
       "<?xml version=\"1.0\" encoding=\"UTF-8\" standalone=\"no\"?><svg xmlns=\"http://www.w3.org/2000/svg\" xmlns:xlink=\"http://www.w3.org/1999/xlink\" contentScriptType=\"application/ecmascript\" contentStyleType=\"text/css\" height=\"494px\" preserveAspectRatio=\"none\" style=\"width:475px;height:494px;\" version=\"1.1\" viewBox=\"0 0 475 494\" width=\"475px\" zoomAndPan=\"magnify\"><defs/><g><!--MD5=[fbc87193dbaf4d95561dea2c320d4a47]\n",
       "cluster E1--><a href=\"psysml:2a075407-fc8d-47b4-b4de-e1839d24b848\" target=\"_top\" title=\"psysml:2a075407-fc8d-47b4-b4de-e1839d24b848\" xlink:actuate=\"onRequest\" xlink:href=\"psysml:2a075407-fc8d-47b4-b4de-e1839d24b848\" xlink:show=\"new\" xlink:title=\"psysml:2a075407-fc8d-47b4-b4de-e1839d24b848\" xlink:type=\"simple\"><polygon fill=\"#FFFFFF\" points=\"16,6,143,6,150,28.2969,453,28.2969,453,482,16,482,16,6\" style=\"stroke: #000000; stroke-width: 1.5;\"/><line style=\"stroke: #000000; stroke-width: 1.5;\" x1=\"16\" x2=\"150\" y1=\"28.2969\" y2=\"28.2969\"/><text fill=\"#000000\" font-family=\"sans-serif\" font-size=\"14\" font-weight=\"bold\" lengthAdjust=\"spacingAndGlyphs\" textLength=\"121\" x=\"20\" y=\"20.9951\">RequirementTest</text></a><!--MD5=[b4997ac47864f28c2f74865a473b2911]\n",
       "class E2--><a href=\"psysml:8e8b9929-fb62-44f3-bb6e-73f88688eaf1\" target=\"_top\" title=\"psysml:8e8b9929-fb62-44f3-bb6e-73f88688eaf1\" xlink:actuate=\"onRequest\" xlink:href=\"psysml:8e8b9929-fb62-44f3-bb6e-73f88688eaf1\" xlink:show=\"new\" xlink:title=\"psysml:8e8b9929-fb62-44f3-bb6e-73f88688eaf1\" xlink:type=\"simple\"><rect fill=\"#FFFFFF\" height=\"45.9375\" id=\"E2\" style=\"stroke: #383838; stroke-width: 1.5;\" width=\"108\" x=\"329\" y=\"164\"/><text fill=\"#000000\" font-family=\"sans-serif\" font-size=\"12\" font-style=\"italic\" lengthAdjust=\"spacingAndGlyphs\" textLength=\"106\" x=\"330\" y=\"180.1387\">«constraint  def»</text><text fill=\"#000000\" font-family=\"sans-serif\" font-size=\"12\" lengthAdjust=\"spacingAndGlyphs\" textLength=\"8\" x=\"379\" y=\"194.1074\">C</text><line style=\"stroke: #383838; stroke-width: 1.5;\" x1=\"330\" x2=\"436\" y1=\"201.9375\" y2=\"201.9375\"/></a><!--MD5=[09b614a08d8cba4a07c9adeb5e0fee81]\n",
       "class E3--><a href=\"psysml:8dab2afb-478b-48f2-a7f7-bb2b245c05ea\" target=\"_top\" title=\"psysml:8dab2afb-478b-48f2-a7f7-bb2b245c05ea\" xlink:actuate=\"onRequest\" xlink:href=\"psysml:8dab2afb-478b-48f2-a7f7-bb2b245c05ea\" xlink:show=\"new\" xlink:title=\"psysml:8dab2afb-478b-48f2-a7f7-bb2b245c05ea\" xlink:type=\"simple\"><rect fill=\"#FFFFFF\" height=\"45.9375\" id=\"E3\" rx=\"10\" ry=\"10\" style=\"stroke: #383838; stroke-width: 1.5;\" width=\"80\" x=\"357\" y=\"41\"/><text fill=\"#000000\" font-family=\"sans-serif\" font-size=\"12\" font-style=\"italic\" lengthAdjust=\"spacingAndGlyphs\" textLength=\"78\" x=\"358\" y=\"57.1387\">«constraint»</text><text fill=\"#000000\" font-family=\"sans-serif\" font-size=\"12\" lengthAdjust=\"spacingAndGlyphs\" textLength=\"23\" x=\"383.5\" y=\"71.1074\">c: C</text><line style=\"stroke: #383838; stroke-width: 1.5;\" x1=\"358\" x2=\"436\" y1=\"78.9375\" y2=\"78.9375\"/></a><!--MD5=[ebbe1d658d1005bcc118a6aa81145e00]\n",
       "class E4--><a href=\"psysml:cae76f8a-948f-454f-8648-301efab5060e\" target=\"_top\" title=\"psysml:cae76f8a-948f-454f-8648-301efab5060e\" xlink:actuate=\"onRequest\" xlink:href=\"psysml:cae76f8a-948f-454f-8648-301efab5060e\" xlink:show=\"new\" xlink:title=\"psysml:cae76f8a-948f-454f-8648-301efab5060e\" xlink:type=\"simple\"><rect fill=\"#FFFFFF\" height=\"66.7422\" id=\"E4\" style=\"stroke: #383838; stroke-width: 1.5;\" width=\"121\" x=\"188.5\" y=\"271\"/><text fill=\"#000000\" font-family=\"sans-serif\" font-size=\"12\" font-style=\"italic\" lengthAdjust=\"spacingAndGlyphs\" textLength=\"119\" x=\"189.5\" y=\"287.1387\">«requirement  def»</text><text fill=\"#000000\" font-family=\"sans-serif\" font-size=\"12\" lengthAdjust=\"spacingAndGlyphs\" textLength=\"8\" x=\"245\" y=\"301.1074\">R</text><line style=\"stroke: #383838; stroke-width: 1.5;\" x1=\"189.5\" x2=\"308.5\" y1=\"308.9375\" y2=\"308.9375\"/><text fill=\"#000000\" font-family=\"sans-serif\" font-size=\"11\" lengthAdjust=\"spacingAndGlyphs\" textLength=\"0\" x=\"198.5\" y=\"323.1479\"/><line style=\"stroke: #383838; stroke-width: 1.0;\" x1=\"189.5\" x2=\"308.5\" y1=\"329.7422\" y2=\"329.7422\"/></a><!--MD5=[2156ba9850f5573cc1fc38a6a4b2f02b]\n",
       "class E7--><a href=\"psysml:70e6cc11-a878-4419-9a48-d32cb5df9816\" target=\"_top\" title=\"psysml:70e6cc11-a878-4419-9a48-d32cb5df9816\" xlink:actuate=\"onRequest\" xlink:href=\"psysml:70e6cc11-a878-4419-9a48-d32cb5df9816\" xlink:show=\"new\" xlink:title=\"psysml:70e6cc11-a878-4419-9a48-d32cb5df9816\" xlink:type=\"simple\"><rect fill=\"#FFFFFF\" height=\"45.9375\" id=\"E7\" rx=\"10\" ry=\"10\" style=\"stroke: #383838; stroke-width: 1.5;\" width=\"93\" x=\"144.5\" y=\"409.5\"/><text fill=\"#000000\" font-family=\"sans-serif\" font-size=\"12\" font-style=\"italic\" lengthAdjust=\"spacingAndGlyphs\" textLength=\"91\" x=\"145.5\" y=\"425.6387\">«requirement»</text><text fill=\"#000000\" font-family=\"sans-serif\" font-size=\"12\" lengthAdjust=\"spacingAndGlyphs\" text-decoration=\"line-through\" textLength=\"51\" x=\"165.5\" y=\"439.6074\">noname</text><line style=\"stroke: #383838; stroke-width: 1.5;\" x1=\"145.5\" x2=\"236.5\" y1=\"447.4375\" y2=\"447.4375\"/></a><!--MD5=[b9389687b975829384b498ac4b7476b2]\n",
       "class E8--><a href=\"psysml:5c5c4776-1d3a-4700-8516-1d3a67d779f4\" target=\"_top\" title=\"psysml:5c5c4776-1d3a-4700-8516-1d3a67d779f4\" xlink:actuate=\"onRequest\" xlink:href=\"psysml:5c5c4776-1d3a-4700-8516-1d3a67d779f4\" xlink:show=\"new\" xlink:title=\"psysml:5c5c4776-1d3a-4700-8516-1d3a67d779f4\" xlink:type=\"simple\"><rect fill=\"#FFFFFF\" height=\"66.7422\" id=\"E8\" style=\"stroke: #383838; stroke-width: 1.5;\" width=\"121\" x=\"272.5\" y=\"399\"/><text fill=\"#000000\" font-family=\"sans-serif\" font-size=\"12\" font-style=\"italic\" lengthAdjust=\"spacingAndGlyphs\" textLength=\"119\" x=\"273.5\" y=\"415.1387\">«requirement  def»</text><text fill=\"#000000\" font-family=\"sans-serif\" font-size=\"12\" lengthAdjust=\"spacingAndGlyphs\" textLength=\"5\" x=\"320\" y=\"429.1074\">[</text><text fill=\"#000000\" font-family=\"sans-serif\" font-size=\"12\" font-weight=\"bold\" lengthAdjust=\"spacingAndGlyphs\" textLength=\"8\" x=\"325\" y=\"429.1074\">1</text><text fill=\"#000000\" font-family=\"sans-serif\" font-size=\"12\" lengthAdjust=\"spacingAndGlyphs\" textLength=\"17\" x=\"333\" y=\"429.1074\">] A</text><line style=\"stroke: #383838; stroke-width: 1.5;\" x1=\"273.5\" x2=\"392.5\" y1=\"436.9375\" y2=\"436.9375\"/><text fill=\"#000000\" font-family=\"sans-serif\" font-size=\"11\" lengthAdjust=\"spacingAndGlyphs\" textLength=\"24\" x=\"278.5\" y=\"451.1479\">Text</text><line style=\"stroke: #383838; stroke-width: 1.0;\" x1=\"273.5\" x2=\"392.5\" y1=\"457.7422\" y2=\"457.7422\"/></a><!--MD5=[fd4143e9d270a159db93a4ea2a975926]\n",
       "class E9--><a href=\"psysml:f2fc2205-4b84-4313-b340-24ee025c15cf\" target=\"_top\" title=\"psysml:f2fc2205-4b84-4313-b340-24ee025c15cf\" xlink:actuate=\"onRequest\" xlink:href=\"psysml:f2fc2205-4b84-4313-b340-24ee025c15cf\" xlink:show=\"new\" xlink:title=\"psysml:f2fc2205-4b84-4313-b340-24ee025c15cf\" xlink:type=\"simple\"><rect fill=\"#FFFFFF\" height=\"45.9375\" id=\"E9\" style=\"stroke: #383838; stroke-width: 1.5;\" width=\"121\" x=\"32.5\" y=\"281.5\"/><text fill=\"#000000\" font-family=\"sans-serif\" font-size=\"12\" font-style=\"italic\" lengthAdjust=\"spacingAndGlyphs\" textLength=\"119\" x=\"33.5\" y=\"297.6387\">«requirement  def»</text><text fill=\"#000000\" font-family=\"sans-serif\" font-size=\"12\" lengthAdjust=\"spacingAndGlyphs\" textLength=\"16\" x=\"85\" y=\"311.6074\">R1</text><line style=\"stroke: #383838; stroke-width: 1.5;\" x1=\"33.5\" x2=\"152.5\" y1=\"319.4375\" y2=\"319.4375\"/></a><!--MD5=[1dd1bfd58a279cf63c5f349dbc8fc6a1]\n",
       "class E11--><a href=\"psysml:4203d305-f881-4dfa-bcc5-a82b5aac35c4\" target=\"_top\" title=\"psysml:4203d305-f881-4dfa-bcc5-a82b5aac35c4\" xlink:actuate=\"onRequest\" xlink:href=\"psysml:4203d305-f881-4dfa-bcc5-a82b5aac35c4\" xlink:show=\"new\" xlink:title=\"psysml:4203d305-f881-4dfa-bcc5-a82b5aac35c4\" xlink:type=\"simple\"><rect fill=\"#FFFFFF\" height=\"45.9375\" id=\"E11\" rx=\"10\" ry=\"10\" style=\"stroke: #383838; stroke-width: 1.5;\" width=\"42\" x=\"95\" y=\"41\"/><text fill=\"#000000\" font-family=\"sans-serif\" font-size=\"12\" font-style=\"italic\" lengthAdjust=\"spacingAndGlyphs\" textLength=\"40\" x=\"96\" y=\"57.1387\">«part»</text><text fill=\"#000000\" font-family=\"sans-serif\" font-size=\"12\" lengthAdjust=\"spacingAndGlyphs\" textLength=\"8\" x=\"112\" y=\"71.1074\">p</text><line style=\"stroke: #383838; stroke-width: 1.5;\" x1=\"96\" x2=\"136\" y1=\"78.9375\" y2=\"78.9375\"/></a><!--MD5=[49a0ec8f00dab7302a31f22d0f0fe584]\n",
       "class E12--><a href=\"psysml:d0dbee69-5f2e-4ac4-ba4b-4aca7380bae7\" target=\"_top\" title=\"psysml:d0dbee69-5f2e-4ac4-ba4b-4aca7380bae7\" xlink:actuate=\"onRequest\" xlink:href=\"psysml:d0dbee69-5f2e-4ac4-ba4b-4aca7380bae7\" xlink:show=\"new\" xlink:title=\"psysml:d0dbee69-5f2e-4ac4-ba4b-4aca7380bae7\" xlink:type=\"simple\"><rect fill=\"#FFFFFF\" height=\"45.9375\" id=\"E12\" rx=\"10\" ry=\"10\" style=\"stroke: #383838; stroke-width: 1.5;\" width=\"42\" x=\"280\" y=\"41\"/><text fill=\"#000000\" font-family=\"sans-serif\" font-size=\"12\" font-style=\"italic\" lengthAdjust=\"spacingAndGlyphs\" textLength=\"40\" x=\"281\" y=\"57.1387\">«part»</text><text fill=\"#000000\" font-family=\"sans-serif\" font-size=\"12\" lengthAdjust=\"spacingAndGlyphs\" textLength=\"8\" x=\"297\" y=\"71.1074\">q</text><line style=\"stroke: #383838; stroke-width: 1.5;\" x1=\"281\" x2=\"321\" y1=\"78.9375\" y2=\"78.9375\"/></a><!--MD5=[ee3c913d1a06f366521f9ef512b67efe]\n",
       "class E13--><a href=\"psysml:aee31540-9ea4-41ee-8ebb-8555bfaf03fb\" target=\"_top\" title=\"psysml:aee31540-9ea4-41ee-8ebb-8555bfaf03fb\" xlink:actuate=\"onRequest\" xlink:href=\"psysml:aee31540-9ea4-41ee-8ebb-8555bfaf03fb\" xlink:show=\"new\" xlink:title=\"psysml:aee31540-9ea4-41ee-8ebb-8555bfaf03fb\" xlink:type=\"simple\"><rect fill=\"#FFFFFF\" height=\"45.9375\" id=\"E13\" rx=\"10\" ry=\"10\" style=\"stroke: #383838; stroke-width: 1.5;\" width=\"93\" x=\"200.5\" y=\"164\"/><text fill=\"#000000\" font-family=\"sans-serif\" font-size=\"12\" font-style=\"italic\" lengthAdjust=\"spacingAndGlyphs\" textLength=\"91\" x=\"201.5\" y=\"180.1387\">«requirement»</text><text fill=\"#000000\" font-family=\"sans-serif\" font-size=\"12\" lengthAdjust=\"spacingAndGlyphs\" textLength=\"21\" x=\"234.5\" y=\"194.1074\">r: R</text><line style=\"stroke: #383838; stroke-width: 1.5;\" x1=\"201.5\" x2=\"292.5\" y1=\"201.9375\" y2=\"201.9375\"/></a><!--MD5=[bee11217b2f71d958a27249dc326068c]\n",
       "class E14--><a href=\"psysml:5c4fb90e-2e7f-411e-8437-1e0e9b0bd00e\" target=\"_top\" title=\"psysml:5c4fb90e-2e7f-411e-8437-1e0e9b0bd00e\" xlink:actuate=\"onRequest\" xlink:href=\"psysml:5c4fb90e-2e7f-411e-8437-1e0e9b0bd00e\" xlink:show=\"new\" xlink:title=\"psysml:5c4fb90e-2e7f-411e-8437-1e0e9b0bd00e\" xlink:type=\"simple\"><rect fill=\"#FFFFFF\" height=\"45.9375\" id=\"E14\" rx=\"10\" ry=\"10\" style=\"stroke: #383838; stroke-width: 1.5;\" width=\"93\" x=\"46.5\" y=\"164\"/><text fill=\"#000000\" font-family=\"sans-serif\" font-size=\"12\" font-style=\"italic\" lengthAdjust=\"spacingAndGlyphs\" textLength=\"91\" x=\"47.5\" y=\"180.1387\">«requirement»</text><text fill=\"#000000\" font-family=\"sans-serif\" font-size=\"12\" lengthAdjust=\"spacingAndGlyphs\" textLength=\"37\" x=\"72.5\" y=\"194.1074\">r1: R1</text><line style=\"stroke: #383838; stroke-width: 1.5;\" x1=\"47.5\" x2=\"138.5\" y1=\"201.9375\" y2=\"201.9375\"/></a><!--MD5=[05d275557350bfb9b23a4ef7222b4c39]\n",
       "link E3 to E2--><a href=\"psysml:1cfa9d08-8b1e-49ae-8f22-7ec5c2d68c94\" target=\"_top\" title=\"psysml:1cfa9d08-8b1e-49ae-8f22-7ec5c2d68c94\" xlink:actuate=\"onRequest\" xlink:href=\"psysml:1cfa9d08-8b1e-49ae-8f22-7ec5c2d68c94\" xlink:show=\"new\" xlink:title=\"psysml:1cfa9d08-8b1e-49ae-8f22-7ec5c2d68c94\" xlink:type=\"simple\"><path d=\"M418.43,87.25 C428.59,100.56 437.27,117.96 431,134 C429.08,138.91 426.46,143.63 423.42,148.09 \" fill=\"none\" id=\"E3-&gt;E2\" style=\"stroke: #383838; stroke-width: 1.0;\"/><polygon fill=\"#FFFFFF\" points=\"410.27,163.84,417.0769,144.77,427.8221,153.7444,410.27,163.84\" style=\"stroke: #383838; stroke-width: 1.0;\"/><ellipse cx=\"422.2658\" cy=\"141.6772\" fill=\"#383838\" rx=\"2\" ry=\"2\" style=\"stroke: #383838; stroke-width: 1.0;\"/><ellipse cx=\"429.941\" cy=\"148.0874\" fill=\"#383838\" rx=\"2\" ry=\"2\" style=\"stroke: #383838; stroke-width: 1.0;\"/></a><!--MD5=[722ff4eef345aa10242dad44df0e98c7]\n",
       "reverse link E4 to E7--><a href=\"psysml:8957256b-d423-4c87-844e-8026b3f5c553\" target=\"_top\" title=\"psysml:8957256b-d423-4c87-844e-8026b3f5c553\" xlink:actuate=\"onRequest\" xlink:href=\"psysml:8957256b-d423-4c87-844e-8026b3f5c553\" xlink:show=\"new\" xlink:title=\"psysml:8957256b-d423-4c87-844e-8026b3f5c553\" xlink:type=\"simple\"><path d=\"M228.38,350.29 C219.19,370.26 208.76,392.91 201.26,409.21 \" fill=\"none\" id=\"E4&lt;-E7\" style=\"stroke: #383838; stroke-width: 1.0;\"/><polygon fill=\"#383838\" points=\"233.91,338.28,227.7664,342.0558,228.8888,349.179,235.0324,345.4032,233.91,338.28\" style=\"stroke: #383838; stroke-width: 1.0;\"/><text fill=\"#000000\" font-family=\"sans-serif\" font-size=\"13\" lengthAdjust=\"spacingAndGlyphs\" textLength=\"7\" x=\"195.9922\" y=\"398.412\">*</text></a><!--MD5=[c6fc7cdb0cabde04948078cf183fa696]\n",
       "reverse link E4 to E8--><a href=\"psysml:e7993699-2e90-4c6e-9ce7-c90f60868f83\" target=\"_top\" title=\"psysml:e7993699-2e90-4c6e-9ce7-c90f60868f83\" xlink:actuate=\"onRequest\" xlink:href=\"psysml:e7993699-2e90-4c6e-9ce7-c90f60868f83\" xlink:show=\"new\" xlink:title=\"psysml:e7993699-2e90-4c6e-9ce7-c90f60868f83\" xlink:type=\"simple\"><path d=\"M279.4,351.09 C289.94,366.92 301.55,384.33 311.26,398.89 \" fill=\"none\" id=\"E4&lt;-E8\" style=\"stroke: #383838; stroke-width: 1.0;\"/><ellipse cx=\"275.2894\" cy=\"344.9352\" fill=\"#FFFFFF\" rx=\"8\" ry=\"8\" style=\"stroke: #383838; stroke-width: 1.0;\"/><line style=\"stroke: #383838; stroke-width: 1.0;\" x1=\"279.7287\" x2=\"270.85\" y1=\"351.5905\" y2=\"338.28\"/><line style=\"stroke: #383838; stroke-width: 1.0;\" x1=\"268.6341\" x2=\"281.9446\" y1=\"349.3746\" y2=\"340.4959\"/></a><!--MD5=[062ed86c389d1a88f61c6380d0491e17]\n",
       "reverse link E12 to E13--><a href=\"psysml:0f26ba0d-7372-4c44-875c-adf3c35e17b9\" target=\"_top\" title=\"psysml:0f26ba0d-7372-4c44-875c-adf3c35e17b9\" xlink:actuate=\"onRequest\" xlink:href=\"psysml:0f26ba0d-7372-4c44-875c-adf3c35e17b9\" xlink:show=\"new\" xlink:title=\"psysml:0f26ba0d-7372-4c44-875c-adf3c35e17b9\" xlink:type=\"simple\"><path d=\"M333.8,84.02 C335.88,85.07 337.96,86.07 340,87 C378.92,104.77 450.04,100.06 424,134 C392.63,174.88 361.32,149.06 312,164 C306.07,165.8 299.87,167.77 293.75,169.77 \" fill=\"none\" id=\"E12&lt;-E13\" style=\"stroke: #383838; stroke-width: 1.0;\"/><polygon fill=\"#383838\" points=\"322.11,77.78,325.5172,84.1354,332.6942,83.4346,329.287,77.0792,322.11,77.78\" style=\"stroke: #383838; stroke-width: 1.0;\"/></a><!--MD5=[e2a9ac97dcd3257bb5342dae06547bad]\n",
       "link E12 to E13--><a href=\"psysml:f5a4eec3-f375-4f03-819b-6c5c8dc7728c\" target=\"_top\" title=\"psysml:f5a4eec3-f375-4f03-819b-6c5c8dc7728c\" xlink:actuate=\"onRequest\" xlink:href=\"psysml:f5a4eec3-f375-4f03-819b-6c5c8dc7728c\" xlink:show=\"new\" xlink:title=\"psysml:f5a4eec3-f375-4f03-819b-6c5c8dc7728c\" xlink:type=\"simple\"><path d=\"M317.81,87.18 C326.17,101.08 332.96,119.13 325,134 C318.83,145.53 308.85,154.94 298.06,162.43 \" fill=\"none\" id=\"E12-&gt;E13\" style=\"stroke: #383838; stroke-width: 1.0; stroke-dasharray: 7.0,7.0;\"/><polygon fill=\"#383838\" points=\"293.73,165.31,303.4373,163.6459,297.8903,162.5365,298.9997,156.9895,293.73,165.31\" style=\"stroke: #383838; stroke-width: 1.0;\"/><text fill=\"#000000\" font-family=\"sans-serif\" font-size=\"13\" lengthAdjust=\"spacingAndGlyphs\" textLength=\"57\" x=\"329\" y=\"130.0669\">«satisfy»</text></a><!--MD5=[017847e01ff9a8bd19f247411074f987]\n",
       "link E13 to E4--><a href=\"psysml:e01bb7f1-206a-408f-a898-0799ec242df4\" target=\"_top\" title=\"psysml:e01bb7f1-206a-408f-a898-0799ec242df4\" xlink:actuate=\"onRequest\" xlink:href=\"psysml:e01bb7f1-206a-408f-a898-0799ec242df4\" xlink:show=\"new\" xlink:title=\"psysml:e01bb7f1-206a-408f-a898-0799ec242df4\" xlink:type=\"simple\"><path d=\"M247.39,210.27 C247.59,221.81 247.84,236.43 248.09,250.66 \" fill=\"none\" id=\"E13-&gt;E4\" style=\"stroke: #383838; stroke-width: 1.0;\"/><polygon fill=\"#FFFFFF\" points=\"248.43,270.81,241.1054,251.9328,255.1033,251.6928,248.43,270.81\" style=\"stroke: #383838; stroke-width: 1.0;\"/><ellipse cx=\"243.0074\" cy=\"246.1993\" fill=\"#383838\" rx=\"2\" ry=\"2\" style=\"stroke: #383838; stroke-width: 1.0;\"/><ellipse cx=\"253.0059\" cy=\"246.0279\" fill=\"#383838\" rx=\"2\" ry=\"2\" style=\"stroke: #383838; stroke-width: 1.0;\"/></a><!--MD5=[60f911bb19596b289db4a22769f8105a]\n",
       "link E11 to E13--><a href=\"psysml:e806deaf-0ce2-4d10-9e57-833502fc32ee\" target=\"_top\" title=\"psysml:e806deaf-0ce2-4d10-9e57-833502fc32ee\" xlink:actuate=\"onRequest\" xlink:href=\"psysml:e806deaf-0ce2-4d10-9e57-833502fc32ee\" xlink:show=\"new\" xlink:title=\"psysml:e806deaf-0ce2-4d10-9e57-833502fc32ee\" xlink:type=\"simple\"><path d=\"M127.91,87.28 C136.39,101.75 148.76,120.37 163,134 C173.59,144.14 186.48,153.31 198.95,161.02 \" fill=\"none\" id=\"E11-&gt;E13\" style=\"stroke: #383838; stroke-width: 1.0; stroke-dasharray: 7.0,7.0;\"/><polygon fill=\"#383838\" points=\"203.52,163.8,197.9,155.712,199.2452,161.2066,193.7506,162.5517,203.52,163.8\" style=\"stroke: #383838; stroke-width: 1.0;\"/><text fill=\"#000000\" font-family=\"sans-serif\" font-size=\"13\" lengthAdjust=\"spacingAndGlyphs\" textLength=\"57\" x=\"164\" y=\"130.0669\">«satisfy»</text></a><!--MD5=[0c677eb374079406c87b74cd1f5a339d]\n",
       "link E14 to E9--><a href=\"psysml:d6ece11e-fb98-4dd6-9106-0f6846b0bd9f\" target=\"_top\" title=\"psysml:d6ece11e-fb98-4dd6-9106-0f6846b0bd9f\" xlink:actuate=\"onRequest\" xlink:href=\"psysml:d6ece11e-fb98-4dd6-9106-0f6846b0bd9f\" xlink:show=\"new\" xlink:title=\"psysml:d6ece11e-fb98-4dd6-9106-0f6846b0bd9f\" xlink:type=\"simple\"><path d=\"M93,210.27 C93,224.65 93,243.82 93,261.04 \" fill=\"none\" id=\"E14-&gt;E9\" style=\"stroke: #383838; stroke-width: 1.0;\"/><polygon fill=\"#FFFFFF\" points=\"93,281.3,86,262.3,100,262.3,93,281.3\" style=\"stroke: #383838; stroke-width: 1.0;\"/><ellipse cx=\"88\" cy=\"256.6\" fill=\"#383838\" rx=\"2\" ry=\"2\" style=\"stroke: #383838; stroke-width: 1.0;\"/><ellipse cx=\"98\" cy=\"256.6\" fill=\"#383838\" rx=\"2\" ry=\"2\" style=\"stroke: #383838; stroke-width: 1.0;\"/></a><!--MD5=[9c1c40551dcf5c2fca147626a786a7cd]\n",
       "link E11 to E14--><a href=\"psysml:feaea2f2-720b-4dbc-ba1d-0aec40f00046\" target=\"_top\" title=\"psysml:feaea2f2-720b-4dbc-ba1d-0aec40f00046\" xlink:actuate=\"onRequest\" xlink:href=\"psysml:feaea2f2-720b-4dbc-ba1d-0aec40f00046\" xlink:show=\"new\" xlink:title=\"psysml:feaea2f2-720b-4dbc-ba1d-0aec40f00046\" xlink:type=\"simple\"><path d=\"M94.96,79.46 C83.46,88.7 70.3,101.78 64,117 C58.15,131.13 63.81,146.85 71.63,159.71 \" fill=\"none\" id=\"E11-&gt;E14\" style=\"stroke: #383838; stroke-width: 1.0; stroke-dasharray: 7.0,7.0;\"/><polygon fill=\"#383838\" points=\"74.35,163.96,72.8629,154.2241,71.6527,159.7499,66.1268,158.5397,74.35,163.96\" style=\"stroke: #383838; stroke-width: 1.0;\"/><text fill=\"#000000\" font-family=\"sans-serif\" font-size=\"13\" lengthAdjust=\"spacingAndGlyphs\" textLength=\"57\" x=\"65\" y=\"130.0669\">«satisfy»</text></a><!--MD5=[d53cb08dffc8689d16e38c8e194e9adc]\n",
       "link E12 to E14--><a href=\"psysml:f5704f7b-2601-4abd-90b0-2ec51a978e80\" target=\"_top\" title=\"psysml:f5704f7b-2601-4abd-90b0-2ec51a978e80\" xlink:actuate=\"onRequest\" xlink:href=\"psysml:f5704f7b-2601-4abd-90b0-2ec51a978e80\" xlink:show=\"new\" xlink:title=\"psysml:f5704f7b-2601-4abd-90b0-2ec51a978e80\" xlink:type=\"simple\"><path d=\"M281.09,87.22 C266.89,102.03 246.71,121.07 226,134 C200.86,149.7 170.21,162.07 144.66,170.81 \" fill=\"none\" id=\"E12-&gt;E14\" style=\"stroke: #383838; stroke-width: 1.0; stroke-dasharray: 7.0,7.0;\"/><polygon fill=\"#383838\" points=\"139.62,172.5,149.4273,173.4043,144.3562,170.8974,146.8631,165.8264,139.62,172.5\" style=\"stroke: #383838; stroke-width: 1.0;\"/><text fill=\"#000000\" font-family=\"sans-serif\" font-size=\"13\" lengthAdjust=\"spacingAndGlyphs\" textLength=\"57\" x=\"249\" y=\"130.0669\">«satisfy»</text></a><!--MD5=[00d2264c28c1cdfc343c4c97869bc88c]\n",
       "@startuml\r\n",
       "top to bottom direction\r\n",
       "skinparam monochrome true\r\n",
       "skinparam classbackgroundcolor white\r\n",
       "skinparam shadowing false\r\n",
       "skinparam wrapWidth 300\r\n",
       "hide circle\r\n",
       "\r\n",
       "package \"RequirementTest\" as E1  [[psysml:2a075407-fc8d-47b4-b4de-e1839d24b848 ]]  {\r\n",
       "comp def \"C\" as E2  <<(T,blue) constraint  def>> [[psysml:8e8b9929-fb62-44f3-bb6e-73f88688eaf1 ]] {\r\n",
       "}\r\n",
       "comp usage \"c: C \" as E3  <<(T,blue) constraint>> [[psysml:8dab2afb-478b-48f2-a7f7-bb2b245c05ea ]] {\r\n",
       "}\r\n",
       "comp def \"R\" as E4  <<(T,blue) requirement  def>> [[psysml:cae76f8a-948f-454f-8648-301efab5060e ]] {\r\n",
       "\r\n",
       "- -\r\n",
       "}\r\n",
       "comp usage \"<s>noname</s>\" as E7  <<(T,blue) requirement>> [[psysml:70e6cc11-a878-4419-9a48-d32cb5df9816 ]] {\r\n",
       "}\r\n",
       "comp def \" [<b>1</b>] A\" as E8  <<(T,blue) requirement  def>> [[psysml:5c5c4776-1d3a-4700-8516-1d3a67d779f4 ]] {\r\n",
       "Text\r\n",
       "- -\r\n",
       "}\r\n",
       "comp def \"R1\" as E9  <<(T,blue) requirement  def>> [[psysml:f2fc2205-4b84-4313-b340-24ee025c15cf ]] {\r\n",
       "}\r\n",
       "comp usage \"p\" as E11  <<(T,blue) part>> [[psysml:4203d305-f881-4dfa-bcc5-a82b5aac35c4 ]] {\r\n",
       "}\r\n",
       "comp usage \"q\" as E12  <<(T,blue) part>> [[psysml:d0dbee69-5f2e-4ac4-ba4b-4aca7380bae7 ]] {\r\n",
       "}\r\n",
       "comp usage \"r: R \" as E13  <<(T,blue) requirement>> [[psysml:aee31540-9ea4-41ee-8ebb-8555bfaf03fb ]] {\r\n",
       "}\r\n",
       "comp usage \"r1: R1 \" as E14  <<(T,blue) requirement>> [[psysml:5c4fb90e-2e7f-411e-8437-1e0e9b0bd00e ]] {\r\n",
       "}\r\n",
       "}\r\n",
       "E3 - -:|> E2 [[psysml:1cfa9d08-8b1e-49ae-8f22-7ec5c2d68c94 ]] \r\n",
       "E4 *- - \"*\"E7 [[psysml:8957256b-d423-4c87-844e-8026b3f5c553 ]] \r\n",
       "E4 +- - E8 [[psysml:e7993699-2e90-4c6e-9ce7-c90f60868f83 ]] \r\n",
       "E12 *- - E13 [[psysml:0f26ba0d-7372-4c44-875c-adf3c35e17b9 ]] \r\n",
       "E13 - -:|> E4 [[psysml:e01bb7f1-206a-408f-a898-0799ec242df4 ]] \r\n",
       "E11 ..> E13 [[psysml:e806deaf-0ce2-4d10-9e57-833502fc32ee ]] : <<satisfy>>\r\n",
       "E12 ..> E13 [[psysml:f5a4eec3-f375-4f03-819b-6c5c8dc7728c ]] : <<satisfy>>\r\n",
       "E14 - -:|> E9 [[psysml:d6ece11e-fb98-4dd6-9106-0f6846b0bd9f ]] \r\n",
       "E11 ..> E14 [[psysml:feaea2f2-720b-4dbc-ba1d-0aec40f00046 ]] : <<satisfy>>\r\n",
       "E12 ..> E14 [[psysml:f5704f7b-2601-4abd-90b0-2ec51a978e80 ]] : <<satisfy>>\r\n",
       "@enduml\r\n",
       "\n",
       "PlantUML version 1.2020.13(Sat Jun 13 12:26:38 UTC 2020)\n",
       "(EPL source distribution)\n",
       "Java Runtime: OpenJDK Runtime Environment\n",
       "JVM: OpenJDK 64-Bit Server VM\n",
       "Default Encoding: UTF-8\n",
       "Language: en\n",
       "Country: null\n",
       "--></g></svg>"
      ]
     },
     "execution_count": 45,
     "metadata": {},
     "output_type": "execute_result"
    }
   ],
   "source": [
    "%viz --style=\"TB\" --view=\"Tree\" \"RequirementTest\""
   ]
  },
  {
   "cell_type": "code",
   "execution_count": 46,
   "id": "7e974813",
   "metadata": {
    "execution": {
     "iopub.execute_input": "2021-10-25T08:21:15.161487Z",
     "iopub.status.busy": "2021-10-25T08:21:15.161083Z",
     "iopub.status.idle": "2021-10-25T08:21:15.164973Z",
     "shell.execute_reply": "2021-10-25T08:21:15.164592Z"
    }
   },
   "outputs": [
    {
     "data": {
      "image/svg+xml": [
       "<?xml version=\"1.0\" encoding=\"UTF-8\" standalone=\"no\"?><svg xmlns=\"http://www.w3.org/2000/svg\" xmlns:xlink=\"http://www.w3.org/1999/xlink\" contentScriptType=\"application/ecmascript\" contentStyleType=\"text/css\" height=\"12px\" preserveAspectRatio=\"none\" style=\"width:12px;height:12px;\" version=\"1.1\" viewBox=\"0 0 12 12\" width=\"12px\" zoomAndPan=\"magnify\"><defs/><g><!--MD5=[f4ee21bc66e489b5061b7c3e9601fdef]\n",
       "@startuml\r\n",
       "top to bottom direction\r\n",
       "skinparam monochrome true\r\n",
       "skinparam classbackgroundcolor white\r\n",
       "skinparam shadowing false\r\n",
       "skinparam wrapWidth 300\r\n",
       "hide circle\r\n",
       "\r\n",
       "@enduml\r\n",
       "\n",
       "PlantUML version 1.2020.13(Sat Jun 13 12:26:38 UTC 2020)\n",
       "(EPL source distribution)\n",
       "Java Runtime: OpenJDK Runtime Environment\n",
       "JVM: OpenJDK 64-Bit Server VM\n",
       "Default Encoding: UTF-8\n",
       "Language: en\n",
       "Country: null\n",
       "--></g></svg>"
      ]
     },
     "execution_count": 46,
     "metadata": {},
     "output_type": "execute_result"
    }
   ],
   "source": [
    "%viz --style=\"TB\" --view=\"State\" \"RequirementTest\""
   ]
  },
  {
   "cell_type": "code",
   "execution_count": 47,
   "id": "968e49f1",
   "metadata": {
    "execution": {
     "iopub.execute_input": "2021-10-25T08:21:15.214655Z",
     "iopub.status.busy": "2021-10-25T08:21:15.214209Z",
     "iopub.status.idle": "2021-10-25T08:21:15.256981Z",
     "shell.execute_reply": "2021-10-25T08:21:15.254509Z"
    }
   },
   "outputs": [
    {
     "data": {
      "image/svg+xml": [
       "<?xml version=\"1.0\" encoding=\"UTF-8\" standalone=\"no\"?><svg xmlns=\"http://www.w3.org/2000/svg\" xmlns:xlink=\"http://www.w3.org/1999/xlink\" contentScriptType=\"application/ecmascript\" contentStyleType=\"text/css\" height=\"438px\" preserveAspectRatio=\"none\" style=\"width:492px;height:438px;\" version=\"1.1\" viewBox=\"0 0 492 438\" width=\"492px\" zoomAndPan=\"magnify\"><defs/><g><!--MD5=[fbc87193dbaf4d95561dea2c320d4a47]\n",
       "cluster E1--><a href=\"psysml:2a075407-fc8d-47b4-b4de-e1839d24b848\" target=\"_top\" title=\"psysml:2a075407-fc8d-47b4-b4de-e1839d24b848\" xlink:actuate=\"onRequest\" xlink:href=\"psysml:2a075407-fc8d-47b4-b4de-e1839d24b848\" xlink:show=\"new\" xlink:title=\"psysml:2a075407-fc8d-47b4-b4de-e1839d24b848\" xlink:type=\"simple\"><polygon fill=\"#FFFFFF\" points=\"16,6,143,6,150,28.2969,470,28.2969,470,426.36,16,426.36,16,6\" style=\"stroke: #000000; stroke-width: 1.5;\"/><line style=\"stroke: #000000; stroke-width: 1.5;\" x1=\"16\" x2=\"150\" y1=\"28.2969\" y2=\"28.2969\"/><text fill=\"#000000\" font-family=\"sans-serif\" font-size=\"14\" font-weight=\"bold\" lengthAdjust=\"spacingAndGlyphs\" textLength=\"121\" x=\"20\" y=\"20.9951\">RequirementTest</text></a><!--MD5=[47bea60c1a0ac6c1143df232041969c0]\n",
       "cluster E12--><a href=\"psysml:d0dbee69-5f2e-4ac4-ba4b-4aca7380bae7\" target=\"_top\" title=\"psysml:d0dbee69-5f2e-4ac4-ba4b-4aca7380bae7\" xlink:actuate=\"onRequest\" xlink:href=\"psysml:d0dbee69-5f2e-4ac4-ba4b-4aca7380bae7\" xlink:show=\"new\" xlink:title=\"psysml:d0dbee69-5f2e-4ac4-ba4b-4aca7380bae7\" xlink:type=\"simple\"><rect fill=\"#FFFFFF\" height=\"169.36\" id=\"E12\" rx=\"10\" ry=\"10\" style=\"stroke: #383838; stroke-width: 1.5;\" width=\"140\" x=\"48\" y=\"57\"/><rect fill=\"#F8F8F8\" height=\"23.9688\" rx=\"10\" ry=\"10\" style=\"stroke: #F8F8F8; stroke-width: 1.5;\" width=\"140\" x=\"48\" y=\"57\"/><rect fill=\"#F8F8F8\" height=\"10\" style=\"stroke: #F8F8F8; stroke-width: 1.5;\" width=\"140\" x=\"48\" y=\"70.9688\"/><rect fill=\"none\" height=\"169.36\" id=\"E12\" rx=\"10\" ry=\"10\" style=\"stroke: #383838; stroke-width: 1.5;\" width=\"140\" x=\"48\" y=\"57\"/><text fill=\"#000000\" font-family=\"sans-serif\" font-size=\"12\" lengthAdjust=\"spacingAndGlyphs\" textLength=\"8\" x=\"114\" y=\"73.1387\">q</text><line style=\"stroke: #383838; stroke-width: 1.0;\" x1=\"48\" x2=\"188\" y1=\"80.9688\" y2=\"80.9688\"/></a><g id=\"E1.E2\"><a href=\"psysml:8e8b9929-fb62-44f3-bb6e-73f88688eaf1\" target=\"_top\" title=\"psysml:8e8b9929-fb62-44f3-bb6e-73f88688eaf1\" xlink:actuate=\"onRequest\" xlink:href=\"psysml:8e8b9929-fb62-44f3-bb6e-73f88688eaf1\" xlink:show=\"new\" xlink:title=\"psysml:8e8b9929-fb62-44f3-bb6e-73f88688eaf1\" xlink:type=\"simple\"><rect fill=\"#FFFFFF\" height=\"42.9375\" id=\"E2\" style=\"stroke: #383838; stroke-width: 1.5;\" width=\"113\" x=\"340.5\" y=\"157.86\"/><rect fill=\"#F8F8F8\" height=\"37.9375\" style=\"stroke: #383838; stroke-width: 1.5;\" width=\"113\" x=\"340.5\" y=\"157.86\"/><text fill=\"#000000\" font-family=\"sans-serif\" font-size=\"12\" font-style=\"italic\" lengthAdjust=\"spacingAndGlyphs\" textLength=\"106\" x=\"344\" y=\"173.9987\">«constraint  def»</text><text fill=\"#000000\" font-family=\"sans-serif\" font-size=\"12\" lengthAdjust=\"spacingAndGlyphs\" textLength=\"8\" x=\"393\" y=\"187.9674\">C</text></a></g><!--MD5=[09b614a08d8cba4a07c9adeb5e0fee81]\n",
       "class E3--><a href=\"psysml:8dab2afb-478b-48f2-a7f7-bb2b245c05ea\" target=\"_top\" title=\"psysml:8dab2afb-478b-48f2-a7f7-bb2b245c05ea\" xlink:actuate=\"onRequest\" xlink:href=\"psysml:8dab2afb-478b-48f2-a7f7-bb2b245c05ea\" xlink:show=\"new\" xlink:title=\"psysml:8dab2afb-478b-48f2-a7f7-bb2b245c05ea\" xlink:type=\"simple\"><rect fill=\"#FFFFFF\" height=\"45.9375\" id=\"E3\" rx=\"10\" ry=\"10\" style=\"stroke: #383838; stroke-width: 1.5;\" width=\"80\" x=\"374\" y=\"61.36\"/><text fill=\"#000000\" font-family=\"sans-serif\" font-size=\"12\" font-style=\"italic\" lengthAdjust=\"spacingAndGlyphs\" textLength=\"78\" x=\"375\" y=\"77.4987\">«constraint»</text><text fill=\"#000000\" font-family=\"sans-serif\" font-size=\"12\" lengthAdjust=\"spacingAndGlyphs\" textLength=\"23\" x=\"400.5\" y=\"91.4674\">c: C</text><line style=\"stroke: #383838; stroke-width: 1.5;\" x1=\"375\" x2=\"453\" y1=\"99.2975\" y2=\"99.2975\"/></a><!--MD5=[ebbe1d658d1005bcc118a6aa81145e00]\n",
       "class E4--><a href=\"psysml:cae76f8a-948f-454f-8648-301efab5060e\" target=\"_top\" title=\"psysml:cae76f8a-948f-454f-8648-301efab5060e\" xlink:actuate=\"onRequest\" xlink:href=\"psysml:cae76f8a-948f-454f-8648-301efab5060e\" xlink:show=\"new\" xlink:title=\"psysml:cae76f8a-948f-454f-8648-301efab5060e\" xlink:type=\"simple\"><rect fill=\"#FFFFFF\" height=\"66.7422\" id=\"E4\" style=\"stroke: #383838; stroke-width: 1.5;\" width=\"121\" x=\"51.5\" y=\"259.36\"/><text fill=\"#000000\" font-family=\"sans-serif\" font-size=\"12\" font-style=\"italic\" lengthAdjust=\"spacingAndGlyphs\" textLength=\"119\" x=\"52.5\" y=\"275.4987\">«requirement  def»</text><text fill=\"#000000\" font-family=\"sans-serif\" font-size=\"12\" lengthAdjust=\"spacingAndGlyphs\" textLength=\"8\" x=\"108\" y=\"289.4674\">R</text><line style=\"stroke: #383838; stroke-width: 1.5;\" x1=\"52.5\" x2=\"171.5\" y1=\"297.2975\" y2=\"297.2975\"/><text fill=\"#000000\" font-family=\"sans-serif\" font-size=\"11\" lengthAdjust=\"spacingAndGlyphs\" textLength=\"0\" x=\"61.5\" y=\"311.5079\"/><line style=\"stroke: #383838; stroke-width: 1.0;\" x1=\"52.5\" x2=\"171.5\" y1=\"318.1022\" y2=\"318.1022\"/></a><!--MD5=[2156ba9850f5573cc1fc38a6a4b2f02b]\n",
       "class E7--><a href=\"psysml:70e6cc11-a878-4419-9a48-d32cb5df9816\" target=\"_top\" title=\"psysml:70e6cc11-a878-4419-9a48-d32cb5df9816\" xlink:actuate=\"onRequest\" xlink:href=\"psysml:70e6cc11-a878-4419-9a48-d32cb5df9816\" xlink:show=\"new\" xlink:title=\"psysml:70e6cc11-a878-4419-9a48-d32cb5df9816\" xlink:type=\"simple\"><rect fill=\"#FFFFFF\" height=\"45.9375\" id=\"E7\" rx=\"10\" ry=\"10\" style=\"stroke: #383838; stroke-width: 1.5;\" width=\"93\" x=\"43.5\" y=\"353.86\"/><text fill=\"#000000\" font-family=\"sans-serif\" font-size=\"12\" font-style=\"italic\" lengthAdjust=\"spacingAndGlyphs\" textLength=\"91\" x=\"44.5\" y=\"369.9987\">«requirement»</text><text fill=\"#000000\" font-family=\"sans-serif\" font-size=\"12\" lengthAdjust=\"spacingAndGlyphs\" text-decoration=\"line-through\" textLength=\"51\" x=\"64.5\" y=\"383.9674\">noname</text><line style=\"stroke: #383838; stroke-width: 1.5;\" x1=\"44.5\" x2=\"135.5\" y1=\"391.7975\" y2=\"391.7975\"/></a><!--MD5=[b9389687b975829384b498ac4b7476b2]\n",
       "class E8--><a href=\"psysml:5c5c4776-1d3a-4700-8516-1d3a67d779f4\" target=\"_top\" title=\"psysml:5c5c4776-1d3a-4700-8516-1d3a67d779f4\" xlink:actuate=\"onRequest\" xlink:href=\"psysml:5c5c4776-1d3a-4700-8516-1d3a67d779f4\" xlink:show=\"new\" xlink:title=\"psysml:5c5c4776-1d3a-4700-8516-1d3a67d779f4\" xlink:type=\"simple\"><rect fill=\"#FFFFFF\" height=\"66.7422\" id=\"E8\" style=\"stroke: #383838; stroke-width: 1.5;\" width=\"121\" x=\"171.5\" y=\"343.36\"/><text fill=\"#000000\" font-family=\"sans-serif\" font-size=\"12\" font-style=\"italic\" lengthAdjust=\"spacingAndGlyphs\" textLength=\"119\" x=\"172.5\" y=\"359.4987\">«requirement  def»</text><text fill=\"#000000\" font-family=\"sans-serif\" font-size=\"12\" lengthAdjust=\"spacingAndGlyphs\" textLength=\"5\" x=\"219\" y=\"373.4674\">[</text><text fill=\"#000000\" font-family=\"sans-serif\" font-size=\"12\" font-weight=\"bold\" lengthAdjust=\"spacingAndGlyphs\" textLength=\"8\" x=\"224\" y=\"373.4674\">1</text><text fill=\"#000000\" font-family=\"sans-serif\" font-size=\"12\" lengthAdjust=\"spacingAndGlyphs\" textLength=\"17\" x=\"232\" y=\"373.4674\">] A</text><line style=\"stroke: #383838; stroke-width: 1.5;\" x1=\"172.5\" x2=\"291.5\" y1=\"381.2975\" y2=\"381.2975\"/><text fill=\"#000000\" font-family=\"sans-serif\" font-size=\"11\" lengthAdjust=\"spacingAndGlyphs\" textLength=\"24\" x=\"177.5\" y=\"395.5079\">Text</text><line style=\"stroke: #383838; stroke-width: 1.0;\" x1=\"172.5\" x2=\"291.5\" y1=\"402.1022\" y2=\"402.1022\"/></a><!--MD5=[fd4143e9d270a159db93a4ea2a975926]\n",
       "class E9--><a href=\"psysml:f2fc2205-4b84-4313-b340-24ee025c15cf\" target=\"_top\" title=\"psysml:f2fc2205-4b84-4313-b340-24ee025c15cf\" xlink:actuate=\"onRequest\" xlink:href=\"psysml:f2fc2205-4b84-4313-b340-24ee025c15cf\" xlink:show=\"new\" xlink:title=\"psysml:f2fc2205-4b84-4313-b340-24ee025c15cf\" xlink:type=\"simple\"><rect fill=\"#FFFFFF\" height=\"45.9375\" id=\"E9\" style=\"stroke: #383838; stroke-width: 1.5;\" width=\"121\" x=\"207.5\" y=\"269.86\"/><text fill=\"#000000\" font-family=\"sans-serif\" font-size=\"12\" font-style=\"italic\" lengthAdjust=\"spacingAndGlyphs\" textLength=\"119\" x=\"208.5\" y=\"285.9987\">«requirement  def»</text><text fill=\"#000000\" font-family=\"sans-serif\" font-size=\"12\" lengthAdjust=\"spacingAndGlyphs\" textLength=\"16\" x=\"260\" y=\"299.9674\">R1</text><line style=\"stroke: #383838; stroke-width: 1.5;\" x1=\"208.5\" x2=\"327.5\" y1=\"307.7975\" y2=\"307.7975\"/></a><!--MD5=[bee11217b2f71d958a27249dc326068c]\n",
       "class E14--><a href=\"psysml:5c4fb90e-2e7f-411e-8437-1e0e9b0bd00e\" target=\"_top\" title=\"psysml:5c4fb90e-2e7f-411e-8437-1e0e9b0bd00e\" xlink:actuate=\"onRequest\" xlink:href=\"psysml:5c4fb90e-2e7f-411e-8437-1e0e9b0bd00e\" xlink:show=\"new\" xlink:title=\"psysml:5c4fb90e-2e7f-411e-8437-1e0e9b0bd00e\" xlink:type=\"simple\"><rect fill=\"#FFFFFF\" height=\"45.9375\" id=\"E14\" rx=\"10\" ry=\"10\" style=\"stroke: #383838; stroke-width: 1.5;\" width=\"93\" x=\"212.5\" y=\"156.36\"/><text fill=\"#000000\" font-family=\"sans-serif\" font-size=\"12\" font-style=\"italic\" lengthAdjust=\"spacingAndGlyphs\" textLength=\"91\" x=\"213.5\" y=\"172.4987\">«requirement»</text><text fill=\"#000000\" font-family=\"sans-serif\" font-size=\"12\" lengthAdjust=\"spacingAndGlyphs\" textLength=\"37\" x=\"238.5\" y=\"186.4674\">r1: R1</text><line style=\"stroke: #383838; stroke-width: 1.5;\" x1=\"213.5\" x2=\"304.5\" y1=\"194.2975\" y2=\"194.2975\"/></a><g id=\"E1.E11\"><a href=\"psysml:4203d305-f881-4dfa-bcc5-a82b5aac35c4\" target=\"_top\" title=\"psysml:4203d305-f881-4dfa-bcc5-a82b5aac35c4\" xlink:actuate=\"onRequest\" xlink:href=\"psysml:4203d305-f881-4dfa-bcc5-a82b5aac35c4\" xlink:show=\"new\" xlink:title=\"psysml:4203d305-f881-4dfa-bcc5-a82b5aac35c4\" xlink:type=\"simple\"><rect fill=\"#FFFFFF\" height=\"40\" id=\"E11\" rx=\"10\" ry=\"10\" style=\"stroke: #383838; stroke-width: 1.5;\" width=\"50\" x=\"276\" y=\"64.36\"/><rect fill=\"#F8F8F8\" height=\"23.9688\" rx=\"10\" ry=\"10\" style=\"stroke: #F8F8F8; stroke-width: 1.5;\" width=\"50\" x=\"276\" y=\"64.36\"/><rect fill=\"#F8F8F8\" height=\"10\" style=\"stroke: #F8F8F8; stroke-width: 1.5;\" width=\"50\" x=\"276\" y=\"78.3288\"/><rect fill=\"none\" height=\"40\" id=\"E11\" rx=\"10\" ry=\"10\" style=\"stroke: #383838; stroke-width: 1.5;\" width=\"50\" x=\"276\" y=\"64.36\"/><text fill=\"#000000\" font-family=\"sans-serif\" font-size=\"12\" lengthAdjust=\"spacingAndGlyphs\" textLength=\"8\" x=\"297\" y=\"80.4987\">p</text></a></g><!--MD5=[ee3c913d1a06f366521f9ef512b67efe]\n",
       "class E13--><a href=\"psysml:aee31540-9ea4-41ee-8ebb-8555bfaf03fb\" target=\"_top\" title=\"psysml:aee31540-9ea4-41ee-8ebb-8555bfaf03fb\" xlink:actuate=\"onRequest\" xlink:href=\"psysml:aee31540-9ea4-41ee-8ebb-8555bfaf03fb\" xlink:show=\"new\" xlink:title=\"psysml:aee31540-9ea4-41ee-8ebb-8555bfaf03fb\" xlink:type=\"simple\"><rect fill=\"#FFFFFF\" height=\"45.9375\" id=\"E13\" rx=\"10\" ry=\"10\" style=\"stroke: #383838; stroke-width: 1.5;\" width=\"93\" x=\"71.5\" y=\"156.36\"/><text fill=\"#000000\" font-family=\"sans-serif\" font-size=\"12\" font-style=\"italic\" lengthAdjust=\"spacingAndGlyphs\" textLength=\"91\" x=\"72.5\" y=\"172.4987\">«requirement»</text><text fill=\"#000000\" font-family=\"sans-serif\" font-size=\"12\" lengthAdjust=\"spacingAndGlyphs\" textLength=\"21\" x=\"105.5\" y=\"186.4674\">r: R</text><line style=\"stroke: #383838; stroke-width: 1.5;\" x1=\"72.5\" x2=\"163.5\" y1=\"194.2975\" y2=\"194.2975\"/></a><!--MD5=[05d275557350bfb9b23a4ef7222b4c39]\n",
       "link E3 to E2--><a href=\"psysml:1cfa9d08-8b1e-49ae-8f22-7ec5c2d68c94\" target=\"_top\" title=\"psysml:1cfa9d08-8b1e-49ae-8f22-7ec5c2d68c94\" xlink:actuate=\"onRequest\" xlink:href=\"psysml:1cfa9d08-8b1e-49ae-8f22-7ec5c2d68c94\" xlink:show=\"new\" xlink:title=\"psysml:1cfa9d08-8b1e-49ae-8f22-7ec5c2d68c94\" xlink:type=\"simple\"><path d=\"M443.3,107.64 C445.16,110.06 446.77,112.63 448,115.36 C451.11,122.25 451.07,125.46 448,132.36 C446.36,136.04 444.27,139.54 441.88,142.86 \" fill=\"none\" id=\"E3-&gt;E2\" style=\"stroke: #383838; stroke-width: 1.0;\"/><polygon fill=\"#FFFFFF\" points=\"428.02,157.79,435.812,139.1009,446.0747,148.6233,428.02,157.79\" style=\"stroke: #383838; stroke-width: 1.0;\"/><ellipse cx=\"441.1551\" cy=\"136.2828\" fill=\"#383838\" rx=\"2\" ry=\"2\" style=\"stroke: #383838; stroke-width: 1.0;\"/><ellipse cx=\"448.4856\" cy=\"143.0846\" fill=\"#383838\" rx=\"2\" ry=\"2\" style=\"stroke: #383838; stroke-width: 1.0;\"/></a><!--MD5=[722ff4eef345aa10242dad44df0e98c7]\n",
       "reverse link E4 to E7--><a href=\"psysml:8957256b-d423-4c87-844e-8026b3f5c553\" target=\"_top\" title=\"psysml:8957256b-d423-4c87-844e-8026b3f5c553\" xlink:actuate=\"onRequest\" xlink:href=\"psysml:8957256b-d423-4c87-844e-8026b3f5c553\" xlink:show=\"new\" xlink:title=\"psysml:8957256b-d423-4c87-844e-8026b3f5c553\" xlink:type=\"simple\"><path d=\"M99.7,339.69 C98.39,344.58 97.11,349.37 95.92,353.79 \" fill=\"none\" id=\"E4&lt;-E7\" style=\"stroke: #383838; stroke-width: 1.0;\"/><polygon fill=\"#383838\" points=\"103.18,326.74,97.7596,331.496,100.0651,338.3287,105.4854,333.5726,103.18,326.74\" style=\"stroke: #383838; stroke-width: 1.0;\"/><text fill=\"#000000\" font-family=\"sans-serif\" font-size=\"13\" lengthAdjust=\"spacingAndGlyphs\" textLength=\"7\" x=\"89.5704\" y=\"342.6675\">*</text></a><!--MD5=[c6fc7cdb0cabde04948078cf183fa696]\n",
       "reverse link E4 to E8--><a href=\"psysml:e7993699-2e90-4c6e-9ce7-c90f60868f83\" target=\"_top\" title=\"psysml:e7993699-2e90-4c6e-9ce7-c90f60868f83\" xlink:actuate=\"onRequest\" xlink:href=\"psysml:e7993699-2e90-4c6e-9ce7-c90f60868f83\" xlink:show=\"new\" xlink:title=\"psysml:e7993699-2e90-4c6e-9ce7-c90f60868f83\" xlink:type=\"simple\"><path d=\"M172.47,335.18 C176.47,337.92 180.47,340.65 184.39,343.33 \" fill=\"none\" id=\"E4&lt;-E8\" style=\"stroke: #383838; stroke-width: 1.0;\"/><ellipse cx=\"166.3732\" cy=\"331.0164\" fill=\"#FFFFFF\" rx=\"8\" ry=\"8\" style=\"stroke: #383838; stroke-width: 1.0;\"/><line style=\"stroke: #383838; stroke-width: 1.0;\" x1=\"172.9764\" x2=\"159.77\" y1=\"335.5328\" y2=\"326.5\"/><line style=\"stroke: #383838; stroke-width: 1.0;\" x1=\"161.8568\" x2=\"170.8896\" y1=\"337.6196\" y2=\"324.4132\"/></a><!--MD5=[017847e01ff9a8bd19f247411074f987]\n",
       "link E13 to E4--><a href=\"psysml:e01bb7f1-206a-408f-a898-0799ec242df4\" target=\"_top\" title=\"psysml:e01bb7f1-206a-408f-a898-0799ec242df4\" xlink:actuate=\"onRequest\" xlink:href=\"psysml:e01bb7f1-206a-408f-a898-0799ec242df4\" xlink:show=\"new\" xlink:title=\"psysml:e01bb7f1-206a-408f-a898-0799ec242df4\" xlink:type=\"simple\"><path d=\"M116.81,202.39 C116.25,212.92 115.54,226.03 114.85,238.94 \" fill=\"none\" id=\"E13-&gt;E4\" style=\"stroke: #383838; stroke-width: 1.0;\"/><polygon fill=\"#FFFFFF\" points=\"113.75,259.31,107.7779,239.9623,121.7578,240.7123,113.75,259.31\" style=\"stroke: #383838; stroke-width: 1.0;\"/><ellipse cx=\"110.0804\" cy=\"234.3776\" fill=\"#383838\" rx=\"2\" ry=\"2\" style=\"stroke: #383838; stroke-width: 1.0;\"/><ellipse cx=\"120.066\" cy=\"234.9133\" fill=\"#383838\" rx=\"2\" ry=\"2\" style=\"stroke: #383838; stroke-width: 1.0;\"/></a><!--MD5=[60f911bb19596b289db4a22769f8105a]\n",
       "link E11 to E13--><a href=\"psysml:e806deaf-0ce2-4d10-9e57-833502fc32ee\" target=\"_top\" title=\"psysml:e806deaf-0ce2-4d10-9e57-833502fc32ee\" xlink:actuate=\"onRequest\" xlink:href=\"psysml:e806deaf-0ce2-4d10-9e57-833502fc32ee\" xlink:show=\"new\" xlink:title=\"psysml:e806deaf-0ce2-4d10-9e57-833502fc32ee\" xlink:type=\"simple\"><path d=\"M275.96,97.79 C254.94,107.92 223.96,122.17 196,132.36 C183.84,136.79 179.57,134.57 168,140.36 C161.03,143.85 154.05,148.35 147.62,153.03 \" fill=\"none\" id=\"E11-&gt;E13\" style=\"stroke: #383838; stroke-width: 1.0; stroke-dasharray: 7.0,7.0;\"/><polygon fill=\"#383838\" points=\"143.25,156.29,152.85,154.09,147.25,153.29,148.05,147.69,143.25,156.29\" style=\"stroke: #383838; stroke-width: 1.0;\"/><text fill=\"#000000\" font-family=\"sans-serif\" font-size=\"13\" lengthAdjust=\"spacingAndGlyphs\" textLength=\"57\" x=\"238\" y=\"128.4269\">«satisfy»</text></a><!--MD5=[e2a9ac97dcd3257bb5342dae06547bad]\n",
       "link E12 to E13--><a href=\"psysml:f5a4eec3-f375-4f03-819b-6c5c8dc7728c\" target=\"_top\" title=\"psysml:f5a4eec3-f375-4f03-819b-6c5c8dc7728c\" xlink:actuate=\"onRequest\" xlink:href=\"psysml:f5a4eec3-f375-4f03-819b-6c5c8dc7728c\" xlink:show=\"new\" xlink:title=\"psysml:f5a4eec3-f375-4f03-819b-6c5c8dc7728c\" xlink:type=\"simple\"><path d=\"M47.8746,108.633 C47.6375,108.8618 47.4023,109.0929 47.1692,109.3261 C45.3047,111.1922 43.5731,113.2 42,115.36 C29.76,132.17 46.2,147.21 66.89,158.37 \" fill=\"none\" id=\"E12-&gt;E13\" style=\"stroke: #383838; stroke-width: 1.0; stroke-dasharray: 7.0,7.0;\"/><polygon fill=\"#383838\" points=\"71.36,160.69,65.2064,153.0002,66.9197,158.3913,61.5286,160.1046,71.36,160.69\" style=\"stroke: #383838; stroke-width: 1.0;\"/><text fill=\"#000000\" font-family=\"sans-serif\" font-size=\"13\" lengthAdjust=\"spacingAndGlyphs\" textLength=\"57\" x=\"43\" y=\"128.4269\">«satisfy»</text></a><!--MD5=[0c677eb374079406c87b74cd1f5a339d]\n",
       "link E14 to E9--><a href=\"psysml:d6ece11e-fb98-4dd6-9106-0f6846b0bd9f\" target=\"_top\" title=\"psysml:d6ece11e-fb98-4dd6-9106-0f6846b0bd9f\" xlink:actuate=\"onRequest\" xlink:href=\"psysml:d6ece11e-fb98-4dd6-9106-0f6846b0bd9f\" xlink:show=\"new\" xlink:title=\"psysml:d6ece11e-fb98-4dd6-9106-0f6846b0bd9f\" xlink:type=\"simple\"><path d=\"M260.78,202.39 C261.86,215.82 263.28,233.42 264.58,249.46 \" fill=\"none\" id=\"E14-&gt;E9\" style=\"stroke: #383838; stroke-width: 1.0;\"/><polygon fill=\"#FFFFFF\" points=\"266.19,269.5,257.6919,251.1211,271.647,250.0007,266.19,269.5\" style=\"stroke: #383838; stroke-width: 1.0;\"/><ellipse cx=\"259.2293\" cy=\"245.2794\" fill=\"#383838\" rx=\"2\" ry=\"2\" style=\"stroke: #383838; stroke-width: 1.0;\"/><ellipse cx=\"269.1972\" cy=\"244.4791\" fill=\"#383838\" rx=\"2\" ry=\"2\" style=\"stroke: #383838; stroke-width: 1.0;\"/></a><!--MD5=[9c1c40551dcf5c2fca147626a786a7cd]\n",
       "link E11 to E14--><a href=\"psysml:feaea2f2-720b-4dbc-ba1d-0aec40f00046\" target=\"_top\" title=\"psysml:feaea2f2-720b-4dbc-ba1d-0aec40f00046\" xlink:actuate=\"onRequest\" xlink:href=\"psysml:feaea2f2-720b-4dbc-ba1d-0aec40f00046\" xlink:show=\"new\" xlink:title=\"psysml:feaea2f2-720b-4dbc-ba1d-0aec40f00046\" xlink:type=\"simple\"><path d=\"M326.25,96.72 C342.54,105.67 358.98,118.85 349,132.36 C341.82,142.09 334.05,135.46 323,140.36 C314.43,144.16 305.57,148.86 297.28,153.64 \" fill=\"none\" id=\"E11-&gt;E14\" style=\"stroke: #383838; stroke-width: 1.0; stroke-dasharray: 7.0,7.0;\"/><polygon fill=\"#383838\" points=\"292.74,156.3,302.5273,155.2001,297.0537,153.7718,298.4821,148.2982,292.74,156.3\" style=\"stroke: #383838; stroke-width: 1.0;\"/><text fill=\"#000000\" font-family=\"sans-serif\" font-size=\"13\" lengthAdjust=\"spacingAndGlyphs\" textLength=\"57\" x=\"353\" y=\"128.4269\">«satisfy»</text></a><!--MD5=[d53cb08dffc8689d16e38c8e194e9adc]\n",
       "link E12 to E14--><a href=\"psysml:f5704f7b-2601-4abd-90b0-2ec51a978e80\" target=\"_top\" title=\"psysml:f5704f7b-2601-4abd-90b0-2ec51a978e80\" xlink:actuate=\"onRequest\" xlink:href=\"psysml:f5704f7b-2601-4abd-90b0-2ec51a978e80\" xlink:show=\"new\" xlink:title=\"psysml:f5704f7b-2601-4abd-90b0-2ec51a978e80\" xlink:type=\"simple\"><path d=\"M188.2294,142.967 C188.6771,143.2182 189.1255,143.4689 189.5745,143.7193 C190.4725,144.2199 191.3729,144.7189 192.2748,145.2159 C194.0787,146.2099 195.8889,147.1961 197.6991,148.1722 C201.3195,150.1244 204.94,152.0363 208.51,153.89 \" fill=\"none\" id=\"E12-&gt;E14\" style=\"stroke: #383838; stroke-width: 1.0; stroke-dasharray: 7.0,7.0;\"/><polygon fill=\"#383838\" points=\"213.06,156.24,206.9064,148.5502,208.6197,153.9413,203.2286,155.6546,213.06,156.24\" style=\"stroke: #383838; stroke-width: 1.0;\"/><text fill=\"#000000\" font-family=\"sans-serif\" font-size=\"13\" lengthAdjust=\"spacingAndGlyphs\" textLength=\"57\" x=\"171\" y=\"128.4269\">«satisfy»</text></a><!--MD5=[845145ed7350897fe1cce97ba66ff21b]\n",
       "@startuml\r\n",
       "skinparam ranksep 10\r\n",
       "skinparam rectangle {\r\n",
       " backgroundColor<<block>> LightGreen\r\n",
       "}\r\n",
       "top to bottom direction\r\n",
       "skinparam monochrome true\r\n",
       "skinparam classbackgroundcolor white\r\n",
       "skinparam shadowing false\r\n",
       "skinparam wrapWidth 300\r\n",
       "hide circle\r\n",
       "\r\n",
       "package \"RequirementTest\" as E1  [[psysml:2a075407-fc8d-47b4-b4de-e1839d24b848 ]]  {\r\n",
       "def \"C\" as E2  <<(T,blue) constraint  def>> [[psysml:8e8b9929-fb62-44f3-bb6e-73f88688eaf1 ]] \r\n",
       "comp usage \"c: C \" as E3  <<(T,blue) constraint>> [[psysml:8dab2afb-478b-48f2-a7f7-bb2b245c05ea ]] {\r\n",
       "}\r\n",
       "comp def \"R\" as E4  <<(T,blue) requirement  def>> [[psysml:cae76f8a-948f-454f-8648-301efab5060e ]] {\r\n",
       "\r\n",
       "- -\r\n",
       "}\r\n",
       "comp usage \"<s>noname</s>\" as E7  <<(T,blue) requirement>> [[psysml:70e6cc11-a878-4419-9a48-d32cb5df9816 ]] {\r\n",
       "}\r\n",
       "comp def \" [<b>1</b>] A\" as E8  <<(T,blue) requirement  def>> [[psysml:5c5c4776-1d3a-4700-8516-1d3a67d779f4 ]] {\r\n",
       "Text\r\n",
       "- -\r\n",
       "}\r\n",
       "comp def \"R1\" as E9  <<(T,blue) requirement  def>> [[psysml:f2fc2205-4b84-4313-b340-24ee025c15cf ]] {\r\n",
       "}\r\n",
       "rec usage \"p\" as E11  [[psysml:4203d305-f881-4dfa-bcc5-a82b5aac35c4 ]] {\r\n",
       "}\r\n",
       "rec usage \"q\" as E12  [[psysml:d0dbee69-5f2e-4ac4-ba4b-4aca7380bae7 ]] {\r\n",
       "comp usage \"r: R \" as E13  <<(T,blue) requirement>> [[psysml:aee31540-9ea4-41ee-8ebb-8555bfaf03fb ]] {\r\n",
       "}\r\n",
       "}\r\n",
       "comp usage \"r1: R1 \" as E14  <<(T,blue) requirement>> [[psysml:5c4fb90e-2e7f-411e-8437-1e0e9b0bd00e ]] {\r\n",
       "}\r\n",
       "}\r\n",
       "E3 - -:|> E2 [[psysml:1cfa9d08-8b1e-49ae-8f22-7ec5c2d68c94 ]] \r\n",
       "E4 *- - \"*\"E7 [[psysml:8957256b-d423-4c87-844e-8026b3f5c553 ]] \r\n",
       "E4 +- - E8 [[psysml:e7993699-2e90-4c6e-9ce7-c90f60868f83 ]] \r\n",
       "E13 - -:|> E4 [[psysml:e01bb7f1-206a-408f-a898-0799ec242df4 ]] \r\n",
       "E11 ..> E13 [[psysml:e806deaf-0ce2-4d10-9e57-833502fc32ee ]] : <<satisfy>>\r\n",
       "E12 ..> E13 [[psysml:f5a4eec3-f375-4f03-819b-6c5c8dc7728c ]] : <<satisfy>>\r\n",
       "E14 - -:|> E9 [[psysml:d6ece11e-fb98-4dd6-9106-0f6846b0bd9f ]] \r\n",
       "E11 ..> E14 [[psysml:feaea2f2-720b-4dbc-ba1d-0aec40f00046 ]] : <<satisfy>>\r\n",
       "E12 ..> E14 [[psysml:f5704f7b-2601-4abd-90b0-2ec51a978e80 ]] : <<satisfy>>\r\n",
       "@enduml\r\n",
       "\n",
       "PlantUML version 1.2020.13(Sat Jun 13 12:26:38 UTC 2020)\n",
       "(EPL source distribution)\n",
       "Java Runtime: OpenJDK Runtime Environment\n",
       "JVM: OpenJDK 64-Bit Server VM\n",
       "Default Encoding: UTF-8\n",
       "Language: en\n",
       "Country: null\n",
       "--></g></svg>"
      ]
     },
     "execution_count": 47,
     "metadata": {},
     "output_type": "execute_result"
    }
   ],
   "source": [
    "%viz --style=\"TB\" --view=\"Interconnection\" \"RequirementTest\""
   ]
  },
  {
   "cell_type": "code",
   "execution_count": 48,
   "id": "4a532c96",
   "metadata": {
    "execution": {
     "iopub.execute_input": "2021-10-25T08:21:15.305166Z",
     "iopub.status.busy": "2021-10-25T08:21:15.304743Z",
     "iopub.status.idle": "2021-10-25T08:21:15.310043Z",
     "shell.execute_reply": "2021-10-25T08:21:15.310371Z"
    }
   },
   "outputs": [
    {
     "data": {
      "image/svg+xml": [
       "<?xml version=\"1.0\" encoding=\"UTF-8\" standalone=\"no\"?><svg xmlns=\"http://www.w3.org/2000/svg\" xmlns:xlink=\"http://www.w3.org/1999/xlink\" contentScriptType=\"application/ecmascript\" contentStyleType=\"text/css\" height=\"12px\" preserveAspectRatio=\"none\" style=\"width:12px;height:12px;\" version=\"1.1\" viewBox=\"0 0 12 12\" width=\"12px\" zoomAndPan=\"magnify\"><defs/><g><!--MD5=[06afc254b03ac5e9d9fb7773b07d0800]\n",
       "@startuml\r\n",
       "skinparam ranksep 8\r\n",
       "top to bottom direction\r\n",
       "skinparam monochrome true\r\n",
       "skinparam classbackgroundcolor white\r\n",
       "skinparam shadowing false\r\n",
       "skinparam wrapWidth 300\r\n",
       "hide circle\r\n",
       "\r\n",
       "@enduml\r\n",
       "\n",
       "PlantUML version 1.2020.13(Sat Jun 13 12:26:38 UTC 2020)\n",
       "(EPL source distribution)\n",
       "Java Runtime: OpenJDK Runtime Environment\n",
       "JVM: OpenJDK 64-Bit Server VM\n",
       "Default Encoding: UTF-8\n",
       "Language: en\n",
       "Country: null\n",
       "--></g></svg>"
      ]
     },
     "execution_count": 48,
     "metadata": {},
     "output_type": "execute_result"
    }
   ],
   "source": [
    "%viz --style=\"TB\" --view=\"Action\" \"RequirementTest\""
   ]
  },
  {
   "cell_type": "code",
   "execution_count": 49,
   "id": "60febc6c",
   "metadata": {
    "execution": {
     "iopub.execute_input": "2021-10-25T08:21:15.360099Z",
     "iopub.status.busy": "2021-10-25T08:21:15.359683Z",
     "iopub.status.idle": "2021-10-25T08:21:15.365412Z",
     "shell.execute_reply": "2021-10-25T08:21:15.365735Z"
    }
   },
   "outputs": [
    {
     "data": {
      "image/svg+xml": [
       "<?xml version=\"1.0\" encoding=\"UTF-8\" standalone=\"no\"?><svg xmlns=\"http://www.w3.org/2000/svg\" xmlns:xlink=\"http://www.w3.org/1999/xlink\" contentScriptType=\"application/ecmascript\" contentStyleType=\"text/css\" height=\"12px\" preserveAspectRatio=\"none\" style=\"width:12px;height:12px;\" version=\"1.1\" viewBox=\"0 0 12 12\" width=\"12px\" zoomAndPan=\"magnify\"><defs/><g><!--MD5=[e1ab0c84c44d2fef8bf5f140f2689906]\n",
       "@startuml\r\n",
       "skinparam roundcorner 20\r\n",
       "skinparam BoxPadding 20\r\n",
       "skinparam SequenceBoxBackgroundColor #white\r\n",
       "skinparam style strictuml\r\n",
       "skinparam maxMessageSize 100\r\n",
       "top to bottom direction\r\n",
       "skinparam monochrome true\r\n",
       "skinparam classbackgroundcolor white\r\n",
       "skinparam shadowing false\r\n",
       "skinparam wrapWidth 300\r\n",
       "hide circle\r\n",
       "\r\n",
       "@enduml\r\n",
       "\n",
       "PlantUML version 1.2020.13(Sat Jun 13 12:26:38 UTC 2020)\n",
       "(EPL source distribution)\n",
       "Java Runtime: OpenJDK Runtime Environment\n",
       "JVM: OpenJDK 64-Bit Server VM\n",
       "Default Encoding: UTF-8\n",
       "Language: en\n",
       "Country: null\n",
       "--></g></svg>"
      ]
     },
     "execution_count": 49,
     "metadata": {},
     "output_type": "execute_result"
    }
   ],
   "source": [
    "%viz --style=\"TB\" --view=\"Sequence\" \"RequirementTest\""
   ]
  },
  {
   "cell_type": "code",
   "execution_count": 50,
   "id": "96f83f2e",
   "metadata": {
    "execution": {
     "iopub.execute_input": "2021-10-25T08:21:15.415158Z",
     "iopub.status.busy": "2021-10-25T08:21:15.414750Z",
     "iopub.status.idle": "2021-10-25T08:21:15.466964Z",
     "shell.execute_reply": "2021-10-25T08:21:15.464998Z"
    }
   },
   "outputs": [
    {
     "data": {
      "image/svg+xml": [
       "<?xml version=\"1.0\" encoding=\"UTF-8\" standalone=\"no\"?><svg xmlns=\"http://www.w3.org/2000/svg\" xmlns:xlink=\"http://www.w3.org/1999/xlink\" contentScriptType=\"application/ecmascript\" contentStyleType=\"text/css\" height=\"494px\" preserveAspectRatio=\"none\" style=\"width:475px;height:494px;\" version=\"1.1\" viewBox=\"0 0 475 494\" width=\"475px\" zoomAndPan=\"magnify\"><defs/><g><!--MD5=[fbc87193dbaf4d95561dea2c320d4a47]\n",
       "cluster E1--><a href=\"psysml:2a075407-fc8d-47b4-b4de-e1839d24b848\" target=\"_top\" title=\"psysml:2a075407-fc8d-47b4-b4de-e1839d24b848\" xlink:actuate=\"onRequest\" xlink:href=\"psysml:2a075407-fc8d-47b4-b4de-e1839d24b848\" xlink:show=\"new\" xlink:title=\"psysml:2a075407-fc8d-47b4-b4de-e1839d24b848\" xlink:type=\"simple\"><polygon fill=\"#FFFFFF\" points=\"16,6,143,6,150,28.2969,453,28.2969,453,482,16,482,16,6\" style=\"stroke: #000000; stroke-width: 1.5;\"/><line style=\"stroke: #000000; stroke-width: 1.5;\" x1=\"16\" x2=\"150\" y1=\"28.2969\" y2=\"28.2969\"/><text fill=\"#000000\" font-family=\"sans-serif\" font-size=\"14\" font-weight=\"bold\" lengthAdjust=\"spacingAndGlyphs\" textLength=\"121\" x=\"20\" y=\"20.9951\">RequirementTest</text></a><!--MD5=[b4997ac47864f28c2f74865a473b2911]\n",
       "class E2--><a href=\"psysml:8e8b9929-fb62-44f3-bb6e-73f88688eaf1\" target=\"_top\" title=\"psysml:8e8b9929-fb62-44f3-bb6e-73f88688eaf1\" xlink:actuate=\"onRequest\" xlink:href=\"psysml:8e8b9929-fb62-44f3-bb6e-73f88688eaf1\" xlink:show=\"new\" xlink:title=\"psysml:8e8b9929-fb62-44f3-bb6e-73f88688eaf1\" xlink:type=\"simple\"><rect fill=\"#FFFFFF\" height=\"45.9375\" id=\"E2\" style=\"stroke: #383838; stroke-width: 1.5;\" width=\"108\" x=\"329\" y=\"164\"/><text fill=\"#000000\" font-family=\"sans-serif\" font-size=\"12\" font-style=\"italic\" lengthAdjust=\"spacingAndGlyphs\" textLength=\"106\" x=\"330\" y=\"180.1387\">«constraint  def»</text><text fill=\"#000000\" font-family=\"sans-serif\" font-size=\"12\" lengthAdjust=\"spacingAndGlyphs\" textLength=\"8\" x=\"379\" y=\"194.1074\">C</text><line style=\"stroke: #383838; stroke-width: 1.5;\" x1=\"330\" x2=\"436\" y1=\"201.9375\" y2=\"201.9375\"/></a><!--MD5=[09b614a08d8cba4a07c9adeb5e0fee81]\n",
       "class E3--><a href=\"psysml:8dab2afb-478b-48f2-a7f7-bb2b245c05ea\" target=\"_top\" title=\"psysml:8dab2afb-478b-48f2-a7f7-bb2b245c05ea\" xlink:actuate=\"onRequest\" xlink:href=\"psysml:8dab2afb-478b-48f2-a7f7-bb2b245c05ea\" xlink:show=\"new\" xlink:title=\"psysml:8dab2afb-478b-48f2-a7f7-bb2b245c05ea\" xlink:type=\"simple\"><rect fill=\"#FFFFFF\" height=\"45.9375\" id=\"E3\" rx=\"10\" ry=\"10\" style=\"stroke: #383838; stroke-width: 1.5;\" width=\"80\" x=\"357\" y=\"41\"/><text fill=\"#000000\" font-family=\"sans-serif\" font-size=\"12\" font-style=\"italic\" lengthAdjust=\"spacingAndGlyphs\" textLength=\"78\" x=\"358\" y=\"57.1387\">«constraint»</text><text fill=\"#000000\" font-family=\"sans-serif\" font-size=\"12\" lengthAdjust=\"spacingAndGlyphs\" textLength=\"23\" x=\"383.5\" y=\"71.1074\">c: C</text><line style=\"stroke: #383838; stroke-width: 1.5;\" x1=\"358\" x2=\"436\" y1=\"78.9375\" y2=\"78.9375\"/></a><!--MD5=[ebbe1d658d1005bcc118a6aa81145e00]\n",
       "class E4--><a href=\"psysml:cae76f8a-948f-454f-8648-301efab5060e\" target=\"_top\" title=\"psysml:cae76f8a-948f-454f-8648-301efab5060e\" xlink:actuate=\"onRequest\" xlink:href=\"psysml:cae76f8a-948f-454f-8648-301efab5060e\" xlink:show=\"new\" xlink:title=\"psysml:cae76f8a-948f-454f-8648-301efab5060e\" xlink:type=\"simple\"><rect fill=\"#FFFFFF\" height=\"66.7422\" id=\"E4\" style=\"stroke: #383838; stroke-width: 1.5;\" width=\"121\" x=\"188.5\" y=\"271\"/><text fill=\"#000000\" font-family=\"sans-serif\" font-size=\"12\" font-style=\"italic\" lengthAdjust=\"spacingAndGlyphs\" textLength=\"119\" x=\"189.5\" y=\"287.1387\">«requirement  def»</text><text fill=\"#000000\" font-family=\"sans-serif\" font-size=\"12\" lengthAdjust=\"spacingAndGlyphs\" textLength=\"8\" x=\"245\" y=\"301.1074\">R</text><line style=\"stroke: #383838; stroke-width: 1.5;\" x1=\"189.5\" x2=\"308.5\" y1=\"308.9375\" y2=\"308.9375\"/><text fill=\"#000000\" font-family=\"sans-serif\" font-size=\"11\" lengthAdjust=\"spacingAndGlyphs\" textLength=\"0\" x=\"198.5\" y=\"323.1479\"/><line style=\"stroke: #383838; stroke-width: 1.0;\" x1=\"189.5\" x2=\"308.5\" y1=\"329.7422\" y2=\"329.7422\"/></a><!--MD5=[2156ba9850f5573cc1fc38a6a4b2f02b]\n",
       "class E7--><a href=\"psysml:70e6cc11-a878-4419-9a48-d32cb5df9816\" target=\"_top\" title=\"psysml:70e6cc11-a878-4419-9a48-d32cb5df9816\" xlink:actuate=\"onRequest\" xlink:href=\"psysml:70e6cc11-a878-4419-9a48-d32cb5df9816\" xlink:show=\"new\" xlink:title=\"psysml:70e6cc11-a878-4419-9a48-d32cb5df9816\" xlink:type=\"simple\"><rect fill=\"#FFFFFF\" height=\"45.9375\" id=\"E7\" rx=\"10\" ry=\"10\" style=\"stroke: #383838; stroke-width: 1.5;\" width=\"93\" x=\"144.5\" y=\"409.5\"/><text fill=\"#000000\" font-family=\"sans-serif\" font-size=\"12\" font-style=\"italic\" lengthAdjust=\"spacingAndGlyphs\" textLength=\"91\" x=\"145.5\" y=\"425.6387\">«requirement»</text><text fill=\"#000000\" font-family=\"sans-serif\" font-size=\"12\" lengthAdjust=\"spacingAndGlyphs\" text-decoration=\"line-through\" textLength=\"51\" x=\"165.5\" y=\"439.6074\">noname</text><line style=\"stroke: #383838; stroke-width: 1.5;\" x1=\"145.5\" x2=\"236.5\" y1=\"447.4375\" y2=\"447.4375\"/></a><!--MD5=[b9389687b975829384b498ac4b7476b2]\n",
       "class E8--><a href=\"psysml:5c5c4776-1d3a-4700-8516-1d3a67d779f4\" target=\"_top\" title=\"psysml:5c5c4776-1d3a-4700-8516-1d3a67d779f4\" xlink:actuate=\"onRequest\" xlink:href=\"psysml:5c5c4776-1d3a-4700-8516-1d3a67d779f4\" xlink:show=\"new\" xlink:title=\"psysml:5c5c4776-1d3a-4700-8516-1d3a67d779f4\" xlink:type=\"simple\"><rect fill=\"#FFFFFF\" height=\"66.7422\" id=\"E8\" style=\"stroke: #383838; stroke-width: 1.5;\" width=\"121\" x=\"272.5\" y=\"399\"/><text fill=\"#000000\" font-family=\"sans-serif\" font-size=\"12\" font-style=\"italic\" lengthAdjust=\"spacingAndGlyphs\" textLength=\"119\" x=\"273.5\" y=\"415.1387\">«requirement  def»</text><text fill=\"#000000\" font-family=\"sans-serif\" font-size=\"12\" lengthAdjust=\"spacingAndGlyphs\" textLength=\"5\" x=\"320\" y=\"429.1074\">[</text><text fill=\"#000000\" font-family=\"sans-serif\" font-size=\"12\" font-weight=\"bold\" lengthAdjust=\"spacingAndGlyphs\" textLength=\"8\" x=\"325\" y=\"429.1074\">1</text><text fill=\"#000000\" font-family=\"sans-serif\" font-size=\"12\" lengthAdjust=\"spacingAndGlyphs\" textLength=\"17\" x=\"333\" y=\"429.1074\">] A</text><line style=\"stroke: #383838; stroke-width: 1.5;\" x1=\"273.5\" x2=\"392.5\" y1=\"436.9375\" y2=\"436.9375\"/><text fill=\"#000000\" font-family=\"sans-serif\" font-size=\"11\" lengthAdjust=\"spacingAndGlyphs\" textLength=\"24\" x=\"278.5\" y=\"451.1479\">Text</text><line style=\"stroke: #383838; stroke-width: 1.0;\" x1=\"273.5\" x2=\"392.5\" y1=\"457.7422\" y2=\"457.7422\"/></a><!--MD5=[fd4143e9d270a159db93a4ea2a975926]\n",
       "class E9--><a href=\"psysml:f2fc2205-4b84-4313-b340-24ee025c15cf\" target=\"_top\" title=\"psysml:f2fc2205-4b84-4313-b340-24ee025c15cf\" xlink:actuate=\"onRequest\" xlink:href=\"psysml:f2fc2205-4b84-4313-b340-24ee025c15cf\" xlink:show=\"new\" xlink:title=\"psysml:f2fc2205-4b84-4313-b340-24ee025c15cf\" xlink:type=\"simple\"><rect fill=\"#FFFFFF\" height=\"45.9375\" id=\"E9\" style=\"stroke: #383838; stroke-width: 1.5;\" width=\"121\" x=\"32.5\" y=\"281.5\"/><text fill=\"#000000\" font-family=\"sans-serif\" font-size=\"12\" font-style=\"italic\" lengthAdjust=\"spacingAndGlyphs\" textLength=\"119\" x=\"33.5\" y=\"297.6387\">«requirement  def»</text><text fill=\"#000000\" font-family=\"sans-serif\" font-size=\"12\" lengthAdjust=\"spacingAndGlyphs\" textLength=\"16\" x=\"85\" y=\"311.6074\">R1</text><line style=\"stroke: #383838; stroke-width: 1.5;\" x1=\"33.5\" x2=\"152.5\" y1=\"319.4375\" y2=\"319.4375\"/></a><!--MD5=[1dd1bfd58a279cf63c5f349dbc8fc6a1]\n",
       "class E11--><a href=\"psysml:4203d305-f881-4dfa-bcc5-a82b5aac35c4\" target=\"_top\" title=\"psysml:4203d305-f881-4dfa-bcc5-a82b5aac35c4\" xlink:actuate=\"onRequest\" xlink:href=\"psysml:4203d305-f881-4dfa-bcc5-a82b5aac35c4\" xlink:show=\"new\" xlink:title=\"psysml:4203d305-f881-4dfa-bcc5-a82b5aac35c4\" xlink:type=\"simple\"><rect fill=\"#FFFFFF\" height=\"45.9375\" id=\"E11\" rx=\"10\" ry=\"10\" style=\"stroke: #383838; stroke-width: 1.5;\" width=\"42\" x=\"95\" y=\"41\"/><text fill=\"#000000\" font-family=\"sans-serif\" font-size=\"12\" font-style=\"italic\" lengthAdjust=\"spacingAndGlyphs\" textLength=\"40\" x=\"96\" y=\"57.1387\">«part»</text><text fill=\"#000000\" font-family=\"sans-serif\" font-size=\"12\" lengthAdjust=\"spacingAndGlyphs\" textLength=\"8\" x=\"112\" y=\"71.1074\">p</text><line style=\"stroke: #383838; stroke-width: 1.5;\" x1=\"96\" x2=\"136\" y1=\"78.9375\" y2=\"78.9375\"/></a><!--MD5=[49a0ec8f00dab7302a31f22d0f0fe584]\n",
       "class E12--><a href=\"psysml:d0dbee69-5f2e-4ac4-ba4b-4aca7380bae7\" target=\"_top\" title=\"psysml:d0dbee69-5f2e-4ac4-ba4b-4aca7380bae7\" xlink:actuate=\"onRequest\" xlink:href=\"psysml:d0dbee69-5f2e-4ac4-ba4b-4aca7380bae7\" xlink:show=\"new\" xlink:title=\"psysml:d0dbee69-5f2e-4ac4-ba4b-4aca7380bae7\" xlink:type=\"simple\"><rect fill=\"#FFFFFF\" height=\"45.9375\" id=\"E12\" rx=\"10\" ry=\"10\" style=\"stroke: #383838; stroke-width: 1.5;\" width=\"42\" x=\"280\" y=\"41\"/><text fill=\"#000000\" font-family=\"sans-serif\" font-size=\"12\" font-style=\"italic\" lengthAdjust=\"spacingAndGlyphs\" textLength=\"40\" x=\"281\" y=\"57.1387\">«part»</text><text fill=\"#000000\" font-family=\"sans-serif\" font-size=\"12\" lengthAdjust=\"spacingAndGlyphs\" textLength=\"8\" x=\"297\" y=\"71.1074\">q</text><line style=\"stroke: #383838; stroke-width: 1.5;\" x1=\"281\" x2=\"321\" y1=\"78.9375\" y2=\"78.9375\"/></a><!--MD5=[ee3c913d1a06f366521f9ef512b67efe]\n",
       "class E13--><a href=\"psysml:aee31540-9ea4-41ee-8ebb-8555bfaf03fb\" target=\"_top\" title=\"psysml:aee31540-9ea4-41ee-8ebb-8555bfaf03fb\" xlink:actuate=\"onRequest\" xlink:href=\"psysml:aee31540-9ea4-41ee-8ebb-8555bfaf03fb\" xlink:show=\"new\" xlink:title=\"psysml:aee31540-9ea4-41ee-8ebb-8555bfaf03fb\" xlink:type=\"simple\"><rect fill=\"#FFFFFF\" height=\"45.9375\" id=\"E13\" rx=\"10\" ry=\"10\" style=\"stroke: #383838; stroke-width: 1.5;\" width=\"93\" x=\"200.5\" y=\"164\"/><text fill=\"#000000\" font-family=\"sans-serif\" font-size=\"12\" font-style=\"italic\" lengthAdjust=\"spacingAndGlyphs\" textLength=\"91\" x=\"201.5\" y=\"180.1387\">«requirement»</text><text fill=\"#000000\" font-family=\"sans-serif\" font-size=\"12\" lengthAdjust=\"spacingAndGlyphs\" textLength=\"21\" x=\"234.5\" y=\"194.1074\">r: R</text><line style=\"stroke: #383838; stroke-width: 1.5;\" x1=\"201.5\" x2=\"292.5\" y1=\"201.9375\" y2=\"201.9375\"/></a><!--MD5=[bee11217b2f71d958a27249dc326068c]\n",
       "class E14--><a href=\"psysml:5c4fb90e-2e7f-411e-8437-1e0e9b0bd00e\" target=\"_top\" title=\"psysml:5c4fb90e-2e7f-411e-8437-1e0e9b0bd00e\" xlink:actuate=\"onRequest\" xlink:href=\"psysml:5c4fb90e-2e7f-411e-8437-1e0e9b0bd00e\" xlink:show=\"new\" xlink:title=\"psysml:5c4fb90e-2e7f-411e-8437-1e0e9b0bd00e\" xlink:type=\"simple\"><rect fill=\"#FFFFFF\" height=\"45.9375\" id=\"E14\" rx=\"10\" ry=\"10\" style=\"stroke: #383838; stroke-width: 1.5;\" width=\"93\" x=\"46.5\" y=\"164\"/><text fill=\"#000000\" font-family=\"sans-serif\" font-size=\"12\" font-style=\"italic\" lengthAdjust=\"spacingAndGlyphs\" textLength=\"91\" x=\"47.5\" y=\"180.1387\">«requirement»</text><text fill=\"#000000\" font-family=\"sans-serif\" font-size=\"12\" lengthAdjust=\"spacingAndGlyphs\" textLength=\"37\" x=\"72.5\" y=\"194.1074\">r1: R1</text><line style=\"stroke: #383838; stroke-width: 1.5;\" x1=\"47.5\" x2=\"138.5\" y1=\"201.9375\" y2=\"201.9375\"/></a><!--MD5=[05d275557350bfb9b23a4ef7222b4c39]\n",
       "link E3 to E2--><a href=\"psysml:1cfa9d08-8b1e-49ae-8f22-7ec5c2d68c94\" target=\"_top\" title=\"psysml:1cfa9d08-8b1e-49ae-8f22-7ec5c2d68c94\" xlink:actuate=\"onRequest\" xlink:href=\"psysml:1cfa9d08-8b1e-49ae-8f22-7ec5c2d68c94\" xlink:show=\"new\" xlink:title=\"psysml:1cfa9d08-8b1e-49ae-8f22-7ec5c2d68c94\" xlink:type=\"simple\"><path d=\"M418.43,87.25 C428.59,100.56 437.27,117.96 431,134 C429.08,138.91 426.46,143.63 423.42,148.09 \" fill=\"none\" id=\"E3-&gt;E2\" style=\"stroke: #383838; stroke-width: 1.0;\"/><polygon fill=\"#FFFFFF\" points=\"410.27,163.84,417.0769,144.77,427.8221,153.7444,410.27,163.84\" style=\"stroke: #383838; stroke-width: 1.0;\"/><ellipse cx=\"422.2658\" cy=\"141.6772\" fill=\"#383838\" rx=\"2\" ry=\"2\" style=\"stroke: #383838; stroke-width: 1.0;\"/><ellipse cx=\"429.941\" cy=\"148.0874\" fill=\"#383838\" rx=\"2\" ry=\"2\" style=\"stroke: #383838; stroke-width: 1.0;\"/></a><!--MD5=[722ff4eef345aa10242dad44df0e98c7]\n",
       "reverse link E4 to E7--><a href=\"psysml:8957256b-d423-4c87-844e-8026b3f5c553\" target=\"_top\" title=\"psysml:8957256b-d423-4c87-844e-8026b3f5c553\" xlink:actuate=\"onRequest\" xlink:href=\"psysml:8957256b-d423-4c87-844e-8026b3f5c553\" xlink:show=\"new\" xlink:title=\"psysml:8957256b-d423-4c87-844e-8026b3f5c553\" xlink:type=\"simple\"><path d=\"M228.38,350.29 C219.19,370.26 208.76,392.91 201.26,409.21 \" fill=\"none\" id=\"E4&lt;-E7\" style=\"stroke: #383838; stroke-width: 1.0;\"/><polygon fill=\"#383838\" points=\"233.91,338.28,227.7664,342.0558,228.8888,349.179,235.0324,345.4032,233.91,338.28\" style=\"stroke: #383838; stroke-width: 1.0;\"/><text fill=\"#000000\" font-family=\"sans-serif\" font-size=\"13\" lengthAdjust=\"spacingAndGlyphs\" textLength=\"7\" x=\"195.9922\" y=\"398.412\">*</text></a><!--MD5=[c6fc7cdb0cabde04948078cf183fa696]\n",
       "reverse link E4 to E8--><a href=\"psysml:e7993699-2e90-4c6e-9ce7-c90f60868f83\" target=\"_top\" title=\"psysml:e7993699-2e90-4c6e-9ce7-c90f60868f83\" xlink:actuate=\"onRequest\" xlink:href=\"psysml:e7993699-2e90-4c6e-9ce7-c90f60868f83\" xlink:show=\"new\" xlink:title=\"psysml:e7993699-2e90-4c6e-9ce7-c90f60868f83\" xlink:type=\"simple\"><path d=\"M279.4,351.09 C289.94,366.92 301.55,384.33 311.26,398.89 \" fill=\"none\" id=\"E4&lt;-E8\" style=\"stroke: #383838; stroke-width: 1.0;\"/><ellipse cx=\"275.2894\" cy=\"344.9352\" fill=\"#FFFFFF\" rx=\"8\" ry=\"8\" style=\"stroke: #383838; stroke-width: 1.0;\"/><line style=\"stroke: #383838; stroke-width: 1.0;\" x1=\"279.7287\" x2=\"270.85\" y1=\"351.5905\" y2=\"338.28\"/><line style=\"stroke: #383838; stroke-width: 1.0;\" x1=\"268.6341\" x2=\"281.9446\" y1=\"349.3746\" y2=\"340.4959\"/></a><!--MD5=[062ed86c389d1a88f61c6380d0491e17]\n",
       "reverse link E12 to E13--><a href=\"psysml:0f26ba0d-7372-4c44-875c-adf3c35e17b9\" target=\"_top\" title=\"psysml:0f26ba0d-7372-4c44-875c-adf3c35e17b9\" xlink:actuate=\"onRequest\" xlink:href=\"psysml:0f26ba0d-7372-4c44-875c-adf3c35e17b9\" xlink:show=\"new\" xlink:title=\"psysml:0f26ba0d-7372-4c44-875c-adf3c35e17b9\" xlink:type=\"simple\"><path d=\"M333.8,84.02 C335.88,85.07 337.96,86.07 340,87 C378.92,104.77 450.04,100.06 424,134 C392.63,174.88 361.32,149.06 312,164 C306.07,165.8 299.87,167.77 293.75,169.77 \" fill=\"none\" id=\"E12&lt;-E13\" style=\"stroke: #383838; stroke-width: 1.0;\"/><polygon fill=\"#383838\" points=\"322.11,77.78,325.5172,84.1354,332.6942,83.4346,329.287,77.0792,322.11,77.78\" style=\"stroke: #383838; stroke-width: 1.0;\"/></a><!--MD5=[e2a9ac97dcd3257bb5342dae06547bad]\n",
       "link E12 to E13--><a href=\"psysml:f5a4eec3-f375-4f03-819b-6c5c8dc7728c\" target=\"_top\" title=\"psysml:f5a4eec3-f375-4f03-819b-6c5c8dc7728c\" xlink:actuate=\"onRequest\" xlink:href=\"psysml:f5a4eec3-f375-4f03-819b-6c5c8dc7728c\" xlink:show=\"new\" xlink:title=\"psysml:f5a4eec3-f375-4f03-819b-6c5c8dc7728c\" xlink:type=\"simple\"><path d=\"M317.81,87.18 C326.17,101.08 332.96,119.13 325,134 C318.83,145.53 308.85,154.94 298.06,162.43 \" fill=\"none\" id=\"E12-&gt;E13\" style=\"stroke: #383838; stroke-width: 1.0; stroke-dasharray: 7.0,7.0;\"/><polygon fill=\"#383838\" points=\"293.73,165.31,303.4373,163.6459,297.8903,162.5365,298.9997,156.9895,293.73,165.31\" style=\"stroke: #383838; stroke-width: 1.0;\"/><text fill=\"#000000\" font-family=\"sans-serif\" font-size=\"13\" lengthAdjust=\"spacingAndGlyphs\" textLength=\"57\" x=\"329\" y=\"130.0669\">«satisfy»</text></a><!--MD5=[017847e01ff9a8bd19f247411074f987]\n",
       "link E13 to E4--><a href=\"psysml:e01bb7f1-206a-408f-a898-0799ec242df4\" target=\"_top\" title=\"psysml:e01bb7f1-206a-408f-a898-0799ec242df4\" xlink:actuate=\"onRequest\" xlink:href=\"psysml:e01bb7f1-206a-408f-a898-0799ec242df4\" xlink:show=\"new\" xlink:title=\"psysml:e01bb7f1-206a-408f-a898-0799ec242df4\" xlink:type=\"simple\"><path d=\"M247.39,210.27 C247.59,221.81 247.84,236.43 248.09,250.66 \" fill=\"none\" id=\"E13-&gt;E4\" style=\"stroke: #383838; stroke-width: 1.0;\"/><polygon fill=\"#FFFFFF\" points=\"248.43,270.81,241.1054,251.9328,255.1033,251.6928,248.43,270.81\" style=\"stroke: #383838; stroke-width: 1.0;\"/><ellipse cx=\"243.0074\" cy=\"246.1993\" fill=\"#383838\" rx=\"2\" ry=\"2\" style=\"stroke: #383838; stroke-width: 1.0;\"/><ellipse cx=\"253.0059\" cy=\"246.0279\" fill=\"#383838\" rx=\"2\" ry=\"2\" style=\"stroke: #383838; stroke-width: 1.0;\"/></a><!--MD5=[60f911bb19596b289db4a22769f8105a]\n",
       "link E11 to E13--><a href=\"psysml:e806deaf-0ce2-4d10-9e57-833502fc32ee\" target=\"_top\" title=\"psysml:e806deaf-0ce2-4d10-9e57-833502fc32ee\" xlink:actuate=\"onRequest\" xlink:href=\"psysml:e806deaf-0ce2-4d10-9e57-833502fc32ee\" xlink:show=\"new\" xlink:title=\"psysml:e806deaf-0ce2-4d10-9e57-833502fc32ee\" xlink:type=\"simple\"><path d=\"M127.91,87.28 C136.39,101.75 148.76,120.37 163,134 C173.59,144.14 186.48,153.31 198.95,161.02 \" fill=\"none\" id=\"E11-&gt;E13\" style=\"stroke: #383838; stroke-width: 1.0; stroke-dasharray: 7.0,7.0;\"/><polygon fill=\"#383838\" points=\"203.52,163.8,197.9,155.712,199.2452,161.2066,193.7506,162.5517,203.52,163.8\" style=\"stroke: #383838; stroke-width: 1.0;\"/><text fill=\"#000000\" font-family=\"sans-serif\" font-size=\"13\" lengthAdjust=\"spacingAndGlyphs\" textLength=\"57\" x=\"164\" y=\"130.0669\">«satisfy»</text></a><!--MD5=[0c677eb374079406c87b74cd1f5a339d]\n",
       "link E14 to E9--><a href=\"psysml:d6ece11e-fb98-4dd6-9106-0f6846b0bd9f\" target=\"_top\" title=\"psysml:d6ece11e-fb98-4dd6-9106-0f6846b0bd9f\" xlink:actuate=\"onRequest\" xlink:href=\"psysml:d6ece11e-fb98-4dd6-9106-0f6846b0bd9f\" xlink:show=\"new\" xlink:title=\"psysml:d6ece11e-fb98-4dd6-9106-0f6846b0bd9f\" xlink:type=\"simple\"><path d=\"M93,210.27 C93,224.65 93,243.82 93,261.04 \" fill=\"none\" id=\"E14-&gt;E9\" style=\"stroke: #383838; stroke-width: 1.0;\"/><polygon fill=\"#FFFFFF\" points=\"93,281.3,86,262.3,100,262.3,93,281.3\" style=\"stroke: #383838; stroke-width: 1.0;\"/><ellipse cx=\"88\" cy=\"256.6\" fill=\"#383838\" rx=\"2\" ry=\"2\" style=\"stroke: #383838; stroke-width: 1.0;\"/><ellipse cx=\"98\" cy=\"256.6\" fill=\"#383838\" rx=\"2\" ry=\"2\" style=\"stroke: #383838; stroke-width: 1.0;\"/></a><!--MD5=[9c1c40551dcf5c2fca147626a786a7cd]\n",
       "link E11 to E14--><a href=\"psysml:feaea2f2-720b-4dbc-ba1d-0aec40f00046\" target=\"_top\" title=\"psysml:feaea2f2-720b-4dbc-ba1d-0aec40f00046\" xlink:actuate=\"onRequest\" xlink:href=\"psysml:feaea2f2-720b-4dbc-ba1d-0aec40f00046\" xlink:show=\"new\" xlink:title=\"psysml:feaea2f2-720b-4dbc-ba1d-0aec40f00046\" xlink:type=\"simple\"><path d=\"M94.96,79.46 C83.46,88.7 70.3,101.78 64,117 C58.15,131.13 63.81,146.85 71.63,159.71 \" fill=\"none\" id=\"E11-&gt;E14\" style=\"stroke: #383838; stroke-width: 1.0; stroke-dasharray: 7.0,7.0;\"/><polygon fill=\"#383838\" points=\"74.35,163.96,72.8629,154.2241,71.6527,159.7499,66.1268,158.5397,74.35,163.96\" style=\"stroke: #383838; stroke-width: 1.0;\"/><text fill=\"#000000\" font-family=\"sans-serif\" font-size=\"13\" lengthAdjust=\"spacingAndGlyphs\" textLength=\"57\" x=\"65\" y=\"130.0669\">«satisfy»</text></a><!--MD5=[d53cb08dffc8689d16e38c8e194e9adc]\n",
       "link E12 to E14--><a href=\"psysml:f5704f7b-2601-4abd-90b0-2ec51a978e80\" target=\"_top\" title=\"psysml:f5704f7b-2601-4abd-90b0-2ec51a978e80\" xlink:actuate=\"onRequest\" xlink:href=\"psysml:f5704f7b-2601-4abd-90b0-2ec51a978e80\" xlink:show=\"new\" xlink:title=\"psysml:f5704f7b-2601-4abd-90b0-2ec51a978e80\" xlink:type=\"simple\"><path d=\"M281.09,87.22 C266.89,102.03 246.71,121.07 226,134 C200.86,149.7 170.21,162.07 144.66,170.81 \" fill=\"none\" id=\"E12-&gt;E14\" style=\"stroke: #383838; stroke-width: 1.0; stroke-dasharray: 7.0,7.0;\"/><polygon fill=\"#383838\" points=\"139.62,172.5,149.4273,173.4043,144.3562,170.8974,146.8631,165.8264,139.62,172.5\" style=\"stroke: #383838; stroke-width: 1.0;\"/><text fill=\"#000000\" font-family=\"sans-serif\" font-size=\"13\" lengthAdjust=\"spacingAndGlyphs\" textLength=\"57\" x=\"249\" y=\"130.0669\">«satisfy»</text></a><!--MD5=[00d2264c28c1cdfc343c4c97869bc88c]\n",
       "@startuml\r\n",
       "top to bottom direction\r\n",
       "skinparam monochrome true\r\n",
       "skinparam classbackgroundcolor white\r\n",
       "skinparam shadowing false\r\n",
       "skinparam wrapWidth 300\r\n",
       "hide circle\r\n",
       "\r\n",
       "package \"RequirementTest\" as E1  [[psysml:2a075407-fc8d-47b4-b4de-e1839d24b848 ]]  {\r\n",
       "comp def \"C\" as E2  <<(T,blue) constraint  def>> [[psysml:8e8b9929-fb62-44f3-bb6e-73f88688eaf1 ]] {\r\n",
       "}\r\n",
       "comp usage \"c: C \" as E3  <<(T,blue) constraint>> [[psysml:8dab2afb-478b-48f2-a7f7-bb2b245c05ea ]] {\r\n",
       "}\r\n",
       "comp def \"R\" as E4  <<(T,blue) requirement  def>> [[psysml:cae76f8a-948f-454f-8648-301efab5060e ]] {\r\n",
       "\r\n",
       "- -\r\n",
       "}\r\n",
       "comp usage \"<s>noname</s>\" as E7  <<(T,blue) requirement>> [[psysml:70e6cc11-a878-4419-9a48-d32cb5df9816 ]] {\r\n",
       "}\r\n",
       "comp def \" [<b>1</b>] A\" as E8  <<(T,blue) requirement  def>> [[psysml:5c5c4776-1d3a-4700-8516-1d3a67d779f4 ]] {\r\n",
       "Text\r\n",
       "- -\r\n",
       "}\r\n",
       "comp def \"R1\" as E9  <<(T,blue) requirement  def>> [[psysml:f2fc2205-4b84-4313-b340-24ee025c15cf ]] {\r\n",
       "}\r\n",
       "comp usage \"p\" as E11  <<(T,blue) part>> [[psysml:4203d305-f881-4dfa-bcc5-a82b5aac35c4 ]] {\r\n",
       "}\r\n",
       "comp usage \"q\" as E12  <<(T,blue) part>> [[psysml:d0dbee69-5f2e-4ac4-ba4b-4aca7380bae7 ]] {\r\n",
       "}\r\n",
       "comp usage \"r: R \" as E13  <<(T,blue) requirement>> [[psysml:aee31540-9ea4-41ee-8ebb-8555bfaf03fb ]] {\r\n",
       "}\r\n",
       "comp usage \"r1: R1 \" as E14  <<(T,blue) requirement>> [[psysml:5c4fb90e-2e7f-411e-8437-1e0e9b0bd00e ]] {\r\n",
       "}\r\n",
       "}\r\n",
       "E3 - -:|> E2 [[psysml:1cfa9d08-8b1e-49ae-8f22-7ec5c2d68c94 ]] \r\n",
       "E4 *- - \"*\"E7 [[psysml:8957256b-d423-4c87-844e-8026b3f5c553 ]] \r\n",
       "E4 +- - E8 [[psysml:e7993699-2e90-4c6e-9ce7-c90f60868f83 ]] \r\n",
       "E12 *- - E13 [[psysml:0f26ba0d-7372-4c44-875c-adf3c35e17b9 ]] \r\n",
       "E13 - -:|> E4 [[psysml:e01bb7f1-206a-408f-a898-0799ec242df4 ]] \r\n",
       "E11 ..> E13 [[psysml:e806deaf-0ce2-4d10-9e57-833502fc32ee ]] : <<satisfy>>\r\n",
       "E12 ..> E13 [[psysml:f5a4eec3-f375-4f03-819b-6c5c8dc7728c ]] : <<satisfy>>\r\n",
       "E14 - -:|> E9 [[psysml:d6ece11e-fb98-4dd6-9106-0f6846b0bd9f ]] \r\n",
       "E11 ..> E14 [[psysml:feaea2f2-720b-4dbc-ba1d-0aec40f00046 ]] : <<satisfy>>\r\n",
       "E12 ..> E14 [[psysml:f5704f7b-2601-4abd-90b0-2ec51a978e80 ]] : <<satisfy>>\r\n",
       "@enduml\r\n",
       "\n",
       "PlantUML version 1.2020.13(Sat Jun 13 12:26:38 UTC 2020)\n",
       "(EPL source distribution)\n",
       "Java Runtime: OpenJDK Runtime Environment\n",
       "JVM: OpenJDK 64-Bit Server VM\n",
       "Default Encoding: UTF-8\n",
       "Language: en\n",
       "Country: null\n",
       "--></g></svg>"
      ]
     },
     "execution_count": 50,
     "metadata": {},
     "output_type": "execute_result"
    }
   ],
   "source": [
    "%viz --style=\"TB\" --view=\"MIXED\" \"RequirementTest\""
   ]
  },
  {
   "cell_type": "code",
   "execution_count": 51,
   "id": "1ecb268d",
   "metadata": {
    "execution": {
     "iopub.execute_input": "2021-10-25T08:21:15.515575Z",
     "iopub.status.busy": "2021-10-25T08:21:15.515171Z",
     "iopub.status.idle": "2021-10-25T08:21:15.567652Z",
     "shell.execute_reply": "2021-10-25T08:21:15.565701Z"
    }
   },
   "outputs": [
    {
     "data": {
      "image/svg+xml": [
       "<?xml version=\"1.0\" encoding=\"UTF-8\" standalone=\"no\"?><svg xmlns=\"http://www.w3.org/2000/svg\" xmlns:xlink=\"http://www.w3.org/1999/xlink\" contentScriptType=\"application/ecmascript\" contentStyleType=\"text/css\" height=\"494px\" preserveAspectRatio=\"none\" style=\"width:475px;height:494px;\" version=\"1.1\" viewBox=\"0 0 475 494\" width=\"475px\" zoomAndPan=\"magnify\"><defs/><g><!--MD5=[fbc87193dbaf4d95561dea2c320d4a47]\n",
       "cluster E1--><a href=\"psysml:2a075407-fc8d-47b4-b4de-e1839d24b848\" target=\"_top\" title=\"psysml:2a075407-fc8d-47b4-b4de-e1839d24b848\" xlink:actuate=\"onRequest\" xlink:href=\"psysml:2a075407-fc8d-47b4-b4de-e1839d24b848\" xlink:show=\"new\" xlink:title=\"psysml:2a075407-fc8d-47b4-b4de-e1839d24b848\" xlink:type=\"simple\"><polygon fill=\"#FFFFFF\" points=\"16,6,143,6,150,28.2969,453,28.2969,453,482,16,482,16,6\" style=\"stroke: #000000; stroke-width: 1.5;\"/><line style=\"stroke: #000000; stroke-width: 1.5;\" x1=\"16\" x2=\"150\" y1=\"28.2969\" y2=\"28.2969\"/><text fill=\"#000000\" font-family=\"sans-serif\" font-size=\"14\" font-weight=\"bold\" lengthAdjust=\"spacingAndGlyphs\" textLength=\"121\" x=\"20\" y=\"20.9951\">RequirementTest</text></a><!--MD5=[b4997ac47864f28c2f74865a473b2911]\n",
       "class E2--><a href=\"psysml:8e8b9929-fb62-44f3-bb6e-73f88688eaf1\" target=\"_top\" title=\"psysml:8e8b9929-fb62-44f3-bb6e-73f88688eaf1\" xlink:actuate=\"onRequest\" xlink:href=\"psysml:8e8b9929-fb62-44f3-bb6e-73f88688eaf1\" xlink:show=\"new\" xlink:title=\"psysml:8e8b9929-fb62-44f3-bb6e-73f88688eaf1\" xlink:type=\"simple\"><rect fill=\"#FFFFFF\" height=\"45.9375\" id=\"E2\" style=\"stroke: #383838; stroke-width: 1.5;\" width=\"108\" x=\"329\" y=\"164\"/><text fill=\"#000000\" font-family=\"sans-serif\" font-size=\"12\" font-style=\"italic\" lengthAdjust=\"spacingAndGlyphs\" textLength=\"106\" x=\"330\" y=\"180.1387\">«constraint  def»</text><text fill=\"#000000\" font-family=\"sans-serif\" font-size=\"12\" lengthAdjust=\"spacingAndGlyphs\" textLength=\"8\" x=\"379\" y=\"194.1074\">C</text><line style=\"stroke: #383838; stroke-width: 1.5;\" x1=\"330\" x2=\"436\" y1=\"201.9375\" y2=\"201.9375\"/></a><!--MD5=[09b614a08d8cba4a07c9adeb5e0fee81]\n",
       "class E3--><a href=\"psysml:8dab2afb-478b-48f2-a7f7-bb2b245c05ea\" target=\"_top\" title=\"psysml:8dab2afb-478b-48f2-a7f7-bb2b245c05ea\" xlink:actuate=\"onRequest\" xlink:href=\"psysml:8dab2afb-478b-48f2-a7f7-bb2b245c05ea\" xlink:show=\"new\" xlink:title=\"psysml:8dab2afb-478b-48f2-a7f7-bb2b245c05ea\" xlink:type=\"simple\"><rect fill=\"#FFFFFF\" height=\"45.9375\" id=\"E3\" rx=\"10\" ry=\"10\" style=\"stroke: #383838; stroke-width: 1.5;\" width=\"80\" x=\"357\" y=\"41\"/><text fill=\"#000000\" font-family=\"sans-serif\" font-size=\"12\" font-style=\"italic\" lengthAdjust=\"spacingAndGlyphs\" textLength=\"78\" x=\"358\" y=\"57.1387\">«constraint»</text><text fill=\"#000000\" font-family=\"sans-serif\" font-size=\"12\" lengthAdjust=\"spacingAndGlyphs\" textLength=\"23\" x=\"383.5\" y=\"71.1074\">c: C</text><line style=\"stroke: #383838; stroke-width: 1.5;\" x1=\"358\" x2=\"436\" y1=\"78.9375\" y2=\"78.9375\"/></a><!--MD5=[ebbe1d658d1005bcc118a6aa81145e00]\n",
       "class E4--><a href=\"psysml:cae76f8a-948f-454f-8648-301efab5060e\" target=\"_top\" title=\"psysml:cae76f8a-948f-454f-8648-301efab5060e\" xlink:actuate=\"onRequest\" xlink:href=\"psysml:cae76f8a-948f-454f-8648-301efab5060e\" xlink:show=\"new\" xlink:title=\"psysml:cae76f8a-948f-454f-8648-301efab5060e\" xlink:type=\"simple\"><rect fill=\"#FFFFFF\" height=\"66.7422\" id=\"E4\" style=\"stroke: #383838; stroke-width: 1.5;\" width=\"121\" x=\"188.5\" y=\"271\"/><text fill=\"#000000\" font-family=\"sans-serif\" font-size=\"12\" font-style=\"italic\" lengthAdjust=\"spacingAndGlyphs\" textLength=\"119\" x=\"189.5\" y=\"287.1387\">«requirement  def»</text><text fill=\"#000000\" font-family=\"sans-serif\" font-size=\"12\" lengthAdjust=\"spacingAndGlyphs\" textLength=\"8\" x=\"245\" y=\"301.1074\">R</text><line style=\"stroke: #383838; stroke-width: 1.5;\" x1=\"189.5\" x2=\"308.5\" y1=\"308.9375\" y2=\"308.9375\"/><text fill=\"#000000\" font-family=\"sans-serif\" font-size=\"11\" lengthAdjust=\"spacingAndGlyphs\" textLength=\"0\" x=\"198.5\" y=\"323.1479\"/><line style=\"stroke: #383838; stroke-width: 1.0;\" x1=\"189.5\" x2=\"308.5\" y1=\"329.7422\" y2=\"329.7422\"/></a><!--MD5=[2156ba9850f5573cc1fc38a6a4b2f02b]\n",
       "class E7--><a href=\"psysml:70e6cc11-a878-4419-9a48-d32cb5df9816\" target=\"_top\" title=\"psysml:70e6cc11-a878-4419-9a48-d32cb5df9816\" xlink:actuate=\"onRequest\" xlink:href=\"psysml:70e6cc11-a878-4419-9a48-d32cb5df9816\" xlink:show=\"new\" xlink:title=\"psysml:70e6cc11-a878-4419-9a48-d32cb5df9816\" xlink:type=\"simple\"><rect fill=\"#FFFFFF\" height=\"45.9375\" id=\"E7\" rx=\"10\" ry=\"10\" style=\"stroke: #383838; stroke-width: 1.5;\" width=\"93\" x=\"144.5\" y=\"409.5\"/><text fill=\"#000000\" font-family=\"sans-serif\" font-size=\"12\" font-style=\"italic\" lengthAdjust=\"spacingAndGlyphs\" textLength=\"91\" x=\"145.5\" y=\"425.6387\">«requirement»</text><text fill=\"#000000\" font-family=\"sans-serif\" font-size=\"12\" lengthAdjust=\"spacingAndGlyphs\" text-decoration=\"line-through\" textLength=\"51\" x=\"165.5\" y=\"439.6074\">noname</text><line style=\"stroke: #383838; stroke-width: 1.5;\" x1=\"145.5\" x2=\"236.5\" y1=\"447.4375\" y2=\"447.4375\"/></a><!--MD5=[b9389687b975829384b498ac4b7476b2]\n",
       "class E8--><a href=\"psysml:5c5c4776-1d3a-4700-8516-1d3a67d779f4\" target=\"_top\" title=\"psysml:5c5c4776-1d3a-4700-8516-1d3a67d779f4\" xlink:actuate=\"onRequest\" xlink:href=\"psysml:5c5c4776-1d3a-4700-8516-1d3a67d779f4\" xlink:show=\"new\" xlink:title=\"psysml:5c5c4776-1d3a-4700-8516-1d3a67d779f4\" xlink:type=\"simple\"><rect fill=\"#FFFFFF\" height=\"66.7422\" id=\"E8\" style=\"stroke: #383838; stroke-width: 1.5;\" width=\"121\" x=\"272.5\" y=\"399\"/><text fill=\"#000000\" font-family=\"sans-serif\" font-size=\"12\" font-style=\"italic\" lengthAdjust=\"spacingAndGlyphs\" textLength=\"119\" x=\"273.5\" y=\"415.1387\">«requirement  def»</text><text fill=\"#000000\" font-family=\"sans-serif\" font-size=\"12\" lengthAdjust=\"spacingAndGlyphs\" textLength=\"5\" x=\"320\" y=\"429.1074\">[</text><text fill=\"#000000\" font-family=\"sans-serif\" font-size=\"12\" font-weight=\"bold\" lengthAdjust=\"spacingAndGlyphs\" textLength=\"8\" x=\"325\" y=\"429.1074\">1</text><text fill=\"#000000\" font-family=\"sans-serif\" font-size=\"12\" lengthAdjust=\"spacingAndGlyphs\" textLength=\"17\" x=\"333\" y=\"429.1074\">] A</text><line style=\"stroke: #383838; stroke-width: 1.5;\" x1=\"273.5\" x2=\"392.5\" y1=\"436.9375\" y2=\"436.9375\"/><text fill=\"#000000\" font-family=\"sans-serif\" font-size=\"11\" lengthAdjust=\"spacingAndGlyphs\" textLength=\"24\" x=\"278.5\" y=\"451.1479\">Text</text><line style=\"stroke: #383838; stroke-width: 1.0;\" x1=\"273.5\" x2=\"392.5\" y1=\"457.7422\" y2=\"457.7422\"/></a><!--MD5=[fd4143e9d270a159db93a4ea2a975926]\n",
       "class E9--><a href=\"psysml:f2fc2205-4b84-4313-b340-24ee025c15cf\" target=\"_top\" title=\"psysml:f2fc2205-4b84-4313-b340-24ee025c15cf\" xlink:actuate=\"onRequest\" xlink:href=\"psysml:f2fc2205-4b84-4313-b340-24ee025c15cf\" xlink:show=\"new\" xlink:title=\"psysml:f2fc2205-4b84-4313-b340-24ee025c15cf\" xlink:type=\"simple\"><rect fill=\"#FFFFFF\" height=\"45.9375\" id=\"E9\" style=\"stroke: #383838; stroke-width: 1.5;\" width=\"121\" x=\"32.5\" y=\"281.5\"/><text fill=\"#000000\" font-family=\"sans-serif\" font-size=\"12\" font-style=\"italic\" lengthAdjust=\"spacingAndGlyphs\" textLength=\"119\" x=\"33.5\" y=\"297.6387\">«requirement  def»</text><text fill=\"#000000\" font-family=\"sans-serif\" font-size=\"12\" lengthAdjust=\"spacingAndGlyphs\" textLength=\"16\" x=\"85\" y=\"311.6074\">R1</text><line style=\"stroke: #383838; stroke-width: 1.5;\" x1=\"33.5\" x2=\"152.5\" y1=\"319.4375\" y2=\"319.4375\"/></a><!--MD5=[1dd1bfd58a279cf63c5f349dbc8fc6a1]\n",
       "class E11--><a href=\"psysml:4203d305-f881-4dfa-bcc5-a82b5aac35c4\" target=\"_top\" title=\"psysml:4203d305-f881-4dfa-bcc5-a82b5aac35c4\" xlink:actuate=\"onRequest\" xlink:href=\"psysml:4203d305-f881-4dfa-bcc5-a82b5aac35c4\" xlink:show=\"new\" xlink:title=\"psysml:4203d305-f881-4dfa-bcc5-a82b5aac35c4\" xlink:type=\"simple\"><rect fill=\"#FFFFFF\" height=\"45.9375\" id=\"E11\" rx=\"10\" ry=\"10\" style=\"stroke: #383838; stroke-width: 1.5;\" width=\"42\" x=\"95\" y=\"41\"/><text fill=\"#000000\" font-family=\"sans-serif\" font-size=\"12\" font-style=\"italic\" lengthAdjust=\"spacingAndGlyphs\" textLength=\"40\" x=\"96\" y=\"57.1387\">«part»</text><text fill=\"#000000\" font-family=\"sans-serif\" font-size=\"12\" lengthAdjust=\"spacingAndGlyphs\" textLength=\"8\" x=\"112\" y=\"71.1074\">p</text><line style=\"stroke: #383838; stroke-width: 1.5;\" x1=\"96\" x2=\"136\" y1=\"78.9375\" y2=\"78.9375\"/></a><!--MD5=[49a0ec8f00dab7302a31f22d0f0fe584]\n",
       "class E12--><a href=\"psysml:d0dbee69-5f2e-4ac4-ba4b-4aca7380bae7\" target=\"_top\" title=\"psysml:d0dbee69-5f2e-4ac4-ba4b-4aca7380bae7\" xlink:actuate=\"onRequest\" xlink:href=\"psysml:d0dbee69-5f2e-4ac4-ba4b-4aca7380bae7\" xlink:show=\"new\" xlink:title=\"psysml:d0dbee69-5f2e-4ac4-ba4b-4aca7380bae7\" xlink:type=\"simple\"><rect fill=\"#FFFFFF\" height=\"45.9375\" id=\"E12\" rx=\"10\" ry=\"10\" style=\"stroke: #383838; stroke-width: 1.5;\" width=\"42\" x=\"280\" y=\"41\"/><text fill=\"#000000\" font-family=\"sans-serif\" font-size=\"12\" font-style=\"italic\" lengthAdjust=\"spacingAndGlyphs\" textLength=\"40\" x=\"281\" y=\"57.1387\">«part»</text><text fill=\"#000000\" font-family=\"sans-serif\" font-size=\"12\" lengthAdjust=\"spacingAndGlyphs\" textLength=\"8\" x=\"297\" y=\"71.1074\">q</text><line style=\"stroke: #383838; stroke-width: 1.5;\" x1=\"281\" x2=\"321\" y1=\"78.9375\" y2=\"78.9375\"/></a><!--MD5=[ee3c913d1a06f366521f9ef512b67efe]\n",
       "class E13--><a href=\"psysml:aee31540-9ea4-41ee-8ebb-8555bfaf03fb\" target=\"_top\" title=\"psysml:aee31540-9ea4-41ee-8ebb-8555bfaf03fb\" xlink:actuate=\"onRequest\" xlink:href=\"psysml:aee31540-9ea4-41ee-8ebb-8555bfaf03fb\" xlink:show=\"new\" xlink:title=\"psysml:aee31540-9ea4-41ee-8ebb-8555bfaf03fb\" xlink:type=\"simple\"><rect fill=\"#FFFFFF\" height=\"45.9375\" id=\"E13\" rx=\"10\" ry=\"10\" style=\"stroke: #383838; stroke-width: 1.5;\" width=\"93\" x=\"200.5\" y=\"164\"/><text fill=\"#000000\" font-family=\"sans-serif\" font-size=\"12\" font-style=\"italic\" lengthAdjust=\"spacingAndGlyphs\" textLength=\"91\" x=\"201.5\" y=\"180.1387\">«requirement»</text><text fill=\"#000000\" font-family=\"sans-serif\" font-size=\"12\" lengthAdjust=\"spacingAndGlyphs\" textLength=\"21\" x=\"234.5\" y=\"194.1074\">r: R</text><line style=\"stroke: #383838; stroke-width: 1.5;\" x1=\"201.5\" x2=\"292.5\" y1=\"201.9375\" y2=\"201.9375\"/></a><!--MD5=[bee11217b2f71d958a27249dc326068c]\n",
       "class E14--><a href=\"psysml:5c4fb90e-2e7f-411e-8437-1e0e9b0bd00e\" target=\"_top\" title=\"psysml:5c4fb90e-2e7f-411e-8437-1e0e9b0bd00e\" xlink:actuate=\"onRequest\" xlink:href=\"psysml:5c4fb90e-2e7f-411e-8437-1e0e9b0bd00e\" xlink:show=\"new\" xlink:title=\"psysml:5c4fb90e-2e7f-411e-8437-1e0e9b0bd00e\" xlink:type=\"simple\"><rect fill=\"#FFFFFF\" height=\"45.9375\" id=\"E14\" rx=\"10\" ry=\"10\" style=\"stroke: #383838; stroke-width: 1.5;\" width=\"93\" x=\"46.5\" y=\"164\"/><text fill=\"#000000\" font-family=\"sans-serif\" font-size=\"12\" font-style=\"italic\" lengthAdjust=\"spacingAndGlyphs\" textLength=\"91\" x=\"47.5\" y=\"180.1387\">«requirement»</text><text fill=\"#000000\" font-family=\"sans-serif\" font-size=\"12\" lengthAdjust=\"spacingAndGlyphs\" textLength=\"37\" x=\"72.5\" y=\"194.1074\">r1: R1</text><line style=\"stroke: #383838; stroke-width: 1.5;\" x1=\"47.5\" x2=\"138.5\" y1=\"201.9375\" y2=\"201.9375\"/></a><!--MD5=[05d275557350bfb9b23a4ef7222b4c39]\n",
       "link E3 to E2--><a href=\"psysml:1cfa9d08-8b1e-49ae-8f22-7ec5c2d68c94\" target=\"_top\" title=\"psysml:1cfa9d08-8b1e-49ae-8f22-7ec5c2d68c94\" xlink:actuate=\"onRequest\" xlink:href=\"psysml:1cfa9d08-8b1e-49ae-8f22-7ec5c2d68c94\" xlink:show=\"new\" xlink:title=\"psysml:1cfa9d08-8b1e-49ae-8f22-7ec5c2d68c94\" xlink:type=\"simple\"><path d=\"M397,87.14 C397,87.14 397,143.97 397,143.97 \" fill=\"none\" id=\"E3-&gt;E2\" style=\"stroke: #383838; stroke-width: 1.0;\"/><polygon fill=\"#FFFFFF\" points=\"397,163.97,390,144.97,404,144.97,397,163.97\" style=\"stroke: #383838; stroke-width: 1.0;\"/><ellipse cx=\"392\" cy=\"139.27\" fill=\"#383838\" rx=\"2\" ry=\"2\" style=\"stroke: #383838; stroke-width: 1.0;\"/><ellipse cx=\"402\" cy=\"139.27\" fill=\"#383838\" rx=\"2\" ry=\"2\" style=\"stroke: #383838; stroke-width: 1.0;\"/></a><!--MD5=[722ff4eef345aa10242dad44df0e98c7]\n",
       "reverse link E4 to E7--><a href=\"psysml:8957256b-d423-4c87-844e-8026b3f5c553\" target=\"_top\" title=\"psysml:8957256b-d423-4c87-844e-8026b3f5c553\" xlink:actuate=\"onRequest\" xlink:href=\"psysml:8957256b-d423-4c87-844e-8026b3f5c553\" xlink:show=\"new\" xlink:title=\"psysml:8957256b-d423-4c87-844e-8026b3f5c553\" xlink:type=\"simple\"><path d=\"M213,351.13 C213,351.13 213,409.19 213,409.19 \" fill=\"none\" id=\"E4&lt;-E7\" style=\"stroke: #383838; stroke-width: 1.0;\"/><polygon fill=\"#383838\" points=\"213,338.13,209,344.13,213,350.13,217,344.13,213,338.13\" style=\"stroke: #383838; stroke-width: 1.0;\"/><text fill=\"#000000\" font-family=\"sans-serif\" font-size=\"13\" lengthAdjust=\"spacingAndGlyphs\" textLength=\"7\" x=\"210.7406\" y=\"398.3869\">*</text></a><!--MD5=[c6fc7cdb0cabde04948078cf183fa696]\n",
       "reverse link E4 to E8--><a href=\"psysml:e7993699-2e90-4c6e-9ce7-c90f60868f83\" target=\"_top\" title=\"psysml:e7993699-2e90-4c6e-9ce7-c90f60868f83\" xlink:actuate=\"onRequest\" xlink:href=\"psysml:e7993699-2e90-4c6e-9ce7-c90f60868f83\" xlink:show=\"new\" xlink:title=\"psysml:e7993699-2e90-4c6e-9ce7-c90f60868f83\" xlink:type=\"simple\"><path d=\"M291,353.13 C291,353.13 291,398.65 291,398.65 \" fill=\"none\" id=\"E4&lt;-E8\" style=\"stroke: #383838; stroke-width: 1.0;\"/><ellipse cx=\"291\" cy=\"346.13\" fill=\"#FFFFFF\" rx=\"8\" ry=\"8\" style=\"stroke: #383838; stroke-width: 1.0;\"/><line style=\"stroke: #383838; stroke-width: 1.0;\" x1=\"291\" x2=\"291\" y1=\"354.13\" y2=\"338.13\"/><line style=\"stroke: #383838; stroke-width: 1.0;\" x1=\"283\" x2=\"299\" y1=\"346.13\" y2=\"346.13\"/></a><!--MD5=[062ed86c389d1a88f61c6380d0491e17]\n",
       "reverse link E12 to E13--><a href=\"psysml:0f26ba0d-7372-4c44-875c-adf3c35e17b9\" target=\"_top\" title=\"psysml:0f26ba0d-7372-4c44-875c-adf3c35e17b9\" xlink:actuate=\"onRequest\" xlink:href=\"psysml:0f26ba0d-7372-4c44-875c-adf3c35e17b9\" xlink:show=\"new\" xlink:title=\"psysml:0f26ba0d-7372-4c44-875c-adf3c35e17b9\" xlink:type=\"simple\"><path d=\"M286.75,100.14 C286.75,100.14 286.75,163.97 286.75,163.97 \" fill=\"none\" id=\"E12&lt;-E13\" style=\"stroke: #383838; stroke-width: 1.0;\"/><polygon fill=\"#383838\" points=\"286.75,87.14,282.75,93.14,286.75,99.14,290.75,93.14,286.75,87.14\" style=\"stroke: #383838; stroke-width: 1.0;\"/></a><!--MD5=[e2a9ac97dcd3257bb5342dae06547bad]\n",
       "link E12 to E13--><a href=\"psysml:f5a4eec3-f375-4f03-819b-6c5c8dc7728c\" target=\"_top\" title=\"psysml:f5a4eec3-f375-4f03-819b-6c5c8dc7728c\" xlink:actuate=\"onRequest\" xlink:href=\"psysml:f5a4eec3-f375-4f03-819b-6c5c8dc7728c\" xlink:show=\"new\" xlink:title=\"psysml:f5a4eec3-f375-4f03-819b-6c5c8dc7728c\" xlink:type=\"simple\"><path d=\"M290.12,87.14 C290.12,87.14 290.12,158.97 290.12,158.97 \" fill=\"none\" id=\"E12-&gt;E13\" style=\"stroke: #383838; stroke-width: 1.0; stroke-dasharray: 7.0,7.0;\"/><polygon fill=\"#383838\" points=\"290.12,163.97,294.12,154.97,290.12,158.97,286.12,154.97,290.12,163.97\" style=\"stroke: #383838; stroke-width: 1.0;\"/><text fill=\"#000000\" font-family=\"sans-serif\" font-size=\"13\" lengthAdjust=\"spacingAndGlyphs\" textLength=\"57\" x=\"365\" y=\"130.0669\">«satisfy»</text></a><!--MD5=[017847e01ff9a8bd19f247411074f987]\n",
       "link E13 to E4--><a href=\"psysml:e01bb7f1-206a-408f-a898-0799ec242df4\" target=\"_top\" title=\"psysml:e01bb7f1-206a-408f-a898-0799ec242df4\" xlink:actuate=\"onRequest\" xlink:href=\"psysml:e01bb7f1-206a-408f-a898-0799ec242df4\" xlink:show=\"new\" xlink:title=\"psysml:e01bb7f1-206a-408f-a898-0799ec242df4\" xlink:type=\"simple\"><path d=\"M247,210.21 C247,210.21 247,250.65 247,250.65 \" fill=\"none\" id=\"E13-&gt;E4\" style=\"stroke: #383838; stroke-width: 1.0;\"/><polygon fill=\"#FFFFFF\" points=\"247,270.65,240,251.65,254,251.65,247,270.65\" style=\"stroke: #383838; stroke-width: 1.0;\"/><ellipse cx=\"242\" cy=\"245.95\" fill=\"#383838\" rx=\"2\" ry=\"2\" style=\"stroke: #383838; stroke-width: 1.0;\"/><ellipse cx=\"252\" cy=\"245.95\" fill=\"#383838\" rx=\"2\" ry=\"2\" style=\"stroke: #383838; stroke-width: 1.0;\"/></a><!--MD5=[60f911bb19596b289db4a22769f8105a]\n",
       "link E11 to E13--><a href=\"psysml:e806deaf-0ce2-4d10-9e57-833502fc32ee\" target=\"_top\" title=\"psysml:e806deaf-0ce2-4d10-9e57-833502fc32ee\" xlink:actuate=\"onRequest\" xlink:href=\"psysml:e806deaf-0ce2-4d10-9e57-833502fc32ee\" xlink:show=\"new\" xlink:title=\"psysml:e806deaf-0ce2-4d10-9e57-833502fc32ee\" xlink:type=\"simple\"><path d=\"M137.08,64 C172.53,64 240.25,64 240.25,64 C240.25,64 240.25,158.86 240.25,158.86 \" fill=\"none\" id=\"E11-&gt;E13\" style=\"stroke: #383838; stroke-width: 1.0; stroke-dasharray: 7.0,7.0;\"/><polygon fill=\"#383838\" points=\"240.25,163.86,244.25,154.86,240.25,158.86,236.25,154.86,240.25,163.86\" style=\"stroke: #383838; stroke-width: 1.0;\"/><text fill=\"#000000\" font-family=\"sans-serif\" font-size=\"13\" lengthAdjust=\"spacingAndGlyphs\" textLength=\"57\" x=\"167\" y=\"130.0669\">«satisfy»</text></a><!--MD5=[0c677eb374079406c87b74cd1f5a339d]\n",
       "link E14 to E9--><a href=\"psysml:d6ece11e-fb98-4dd6-9106-0f6846b0bd9f\" target=\"_top\" title=\"psysml:d6ece11e-fb98-4dd6-9106-0f6846b0bd9f\" xlink:actuate=\"onRequest\" xlink:href=\"psysml:d6ece11e-fb98-4dd6-9106-0f6846b0bd9f\" xlink:show=\"new\" xlink:title=\"psysml:d6ece11e-fb98-4dd6-9106-0f6846b0bd9f\" xlink:type=\"simple\"><path d=\"M93,210.21 C93,210.21 93,261.33 93,261.33 \" fill=\"none\" id=\"E14-&gt;E9\" style=\"stroke: #383838; stroke-width: 1.0;\"/><polygon fill=\"#FFFFFF\" points=\"93,281.33,86,262.33,100,262.33,93,281.33\" style=\"stroke: #383838; stroke-width: 1.0;\"/><ellipse cx=\"88\" cy=\"256.63\" fill=\"#383838\" rx=\"2\" ry=\"2\" style=\"stroke: #383838; stroke-width: 1.0;\"/><ellipse cx=\"98\" cy=\"256.63\" fill=\"#383838\" rx=\"2\" ry=\"2\" style=\"stroke: #383838; stroke-width: 1.0;\"/></a><!--MD5=[9c1c40551dcf5c2fca147626a786a7cd]\n",
       "link E11 to E14--><a href=\"psysml:feaea2f2-720b-4dbc-ba1d-0aec40f00046\" target=\"_top\" title=\"psysml:feaea2f2-720b-4dbc-ba1d-0aec40f00046\" xlink:actuate=\"onRequest\" xlink:href=\"psysml:feaea2f2-720b-4dbc-ba1d-0aec40f00046\" xlink:show=\"new\" xlink:title=\"psysml:feaea2f2-720b-4dbc-ba1d-0aec40f00046\" xlink:type=\"simple\"><path d=\"M109,87.14 C109,87.14 109,158.97 109,158.97 \" fill=\"none\" id=\"E11-&gt;E14\" style=\"stroke: #383838; stroke-width: 1.0; stroke-dasharray: 7.0,7.0;\"/><polygon fill=\"#383838\" points=\"109,163.97,113,154.97,109,158.97,105,154.97,109,163.97\" style=\"stroke: #383838; stroke-width: 1.0;\"/><text fill=\"#000000\" font-family=\"sans-serif\" font-size=\"13\" lengthAdjust=\"spacingAndGlyphs\" textLength=\"57\" x=\"68\" y=\"130.0669\">«satisfy»</text></a><!--MD5=[d53cb08dffc8689d16e38c8e194e9adc]\n",
       "link E12 to E14--><a href=\"psysml:f5704f7b-2601-4abd-90b0-2ec51a978e80\" target=\"_top\" title=\"psysml:f5704f7b-2601-4abd-90b0-2ec51a978e80\" xlink:actuate=\"onRequest\" xlink:href=\"psysml:f5704f7b-2601-4abd-90b0-2ec51a978e80\" xlink:show=\"new\" xlink:title=\"psysml:f5704f7b-2601-4abd-90b0-2ec51a978e80\" xlink:type=\"simple\"><path d=\"M283.38,87.09 C283.38,104.71 283.38,126 283.38,126 C283.38,126 123,126 123,126 C123,126 123,158.94 123,158.94 \" fill=\"none\" id=\"E12-&gt;E14\" style=\"stroke: #383838; stroke-width: 1.0; stroke-dasharray: 7.0,7.0;\"/><polygon fill=\"#383838\" points=\"123,163.94,127,154.94,123,158.94,119,154.94,123,163.94\" style=\"stroke: #383838; stroke-width: 1.0;\"/><text fill=\"#000000\" font-family=\"sans-serif\" font-size=\"13\" lengthAdjust=\"spacingAndGlyphs\" textLength=\"57\" x=\"266\" y=\"130.0669\">«satisfy»</text></a><!--MD5=[4660e4d4d5e81e04e3bebcd0142d75d6]\n",
       "@startuml\r\n",
       "skinparam linetype ortho\r\n",
       "skinparam monochrome true\r\n",
       "skinparam classbackgroundcolor white\r\n",
       "skinparam shadowing false\r\n",
       "skinparam wrapWidth 300\r\n",
       "hide circle\r\n",
       "\r\n",
       "package \"RequirementTest\" as E1  [[psysml:2a075407-fc8d-47b4-b4de-e1839d24b848 ]]  {\r\n",
       "comp def \"C\" as E2  <<(T,blue) constraint  def>> [[psysml:8e8b9929-fb62-44f3-bb6e-73f88688eaf1 ]] {\r\n",
       "}\r\n",
       "comp usage \"c: C \" as E3  <<(T,blue) constraint>> [[psysml:8dab2afb-478b-48f2-a7f7-bb2b245c05ea ]] {\r\n",
       "}\r\n",
       "comp def \"R\" as E4  <<(T,blue) requirement  def>> [[psysml:cae76f8a-948f-454f-8648-301efab5060e ]] {\r\n",
       "\r\n",
       "- -\r\n",
       "}\r\n",
       "comp usage \"<s>noname</s>\" as E7  <<(T,blue) requirement>> [[psysml:70e6cc11-a878-4419-9a48-d32cb5df9816 ]] {\r\n",
       "}\r\n",
       "comp def \" [<b>1</b>] A\" as E8  <<(T,blue) requirement  def>> [[psysml:5c5c4776-1d3a-4700-8516-1d3a67d779f4 ]] {\r\n",
       "Text\r\n",
       "- -\r\n",
       "}\r\n",
       "comp def \"R1\" as E9  <<(T,blue) requirement  def>> [[psysml:f2fc2205-4b84-4313-b340-24ee025c15cf ]] {\r\n",
       "}\r\n",
       "comp usage \"p\" as E11  <<(T,blue) part>> [[psysml:4203d305-f881-4dfa-bcc5-a82b5aac35c4 ]] {\r\n",
       "}\r\n",
       "comp usage \"q\" as E12  <<(T,blue) part>> [[psysml:d0dbee69-5f2e-4ac4-ba4b-4aca7380bae7 ]] {\r\n",
       "}\r\n",
       "comp usage \"r: R \" as E13  <<(T,blue) requirement>> [[psysml:aee31540-9ea4-41ee-8ebb-8555bfaf03fb ]] {\r\n",
       "}\r\n",
       "comp usage \"r1: R1 \" as E14  <<(T,blue) requirement>> [[psysml:5c4fb90e-2e7f-411e-8437-1e0e9b0bd00e ]] {\r\n",
       "}\r\n",
       "}\r\n",
       "E3 - -:|> E2 [[psysml:1cfa9d08-8b1e-49ae-8f22-7ec5c2d68c94 ]] \r\n",
       "E4 *- - \"*\"E7 [[psysml:8957256b-d423-4c87-844e-8026b3f5c553 ]] \r\n",
       "E4 +- - E8 [[psysml:e7993699-2e90-4c6e-9ce7-c90f60868f83 ]] \r\n",
       "E12 *- - E13 [[psysml:0f26ba0d-7372-4c44-875c-adf3c35e17b9 ]] \r\n",
       "E13 - -:|> E4 [[psysml:e01bb7f1-206a-408f-a898-0799ec242df4 ]] \r\n",
       "E11 ..> E13 [[psysml:e806deaf-0ce2-4d10-9e57-833502fc32ee ]] : <<satisfy>>\r\n",
       "E12 ..> E13 [[psysml:f5a4eec3-f375-4f03-819b-6c5c8dc7728c ]] : <<satisfy>>\r\n",
       "E14 - -:|> E9 [[psysml:d6ece11e-fb98-4dd6-9106-0f6846b0bd9f ]] \r\n",
       "E11 ..> E14 [[psysml:feaea2f2-720b-4dbc-ba1d-0aec40f00046 ]] : <<satisfy>>\r\n",
       "E12 ..> E14 [[psysml:f5704f7b-2601-4abd-90b0-2ec51a978e80 ]] : <<satisfy>>\r\n",
       "@enduml\r\n",
       "\n",
       "PlantUML version 1.2020.13(Sat Jun 13 12:26:38 UTC 2020)\n",
       "(EPL source distribution)\n",
       "Java Runtime: OpenJDK Runtime Environment\n",
       "JVM: OpenJDK 64-Bit Server VM\n",
       "Default Encoding: UTF-8\n",
       "Language: en\n",
       "Country: null\n",
       "--></g></svg>"
      ]
     },
     "execution_count": 51,
     "metadata": {},
     "output_type": "execute_result"
    }
   ],
   "source": [
    "%viz --style=\"ORTHOLINE\" --view=\"Default\" \"RequirementTest\""
   ]
  },
  {
   "cell_type": "code",
   "execution_count": 52,
   "id": "2ea479c3",
   "metadata": {
    "execution": {
     "iopub.execute_input": "2021-10-25T08:21:15.616461Z",
     "iopub.status.busy": "2021-10-25T08:21:15.616037Z",
     "iopub.status.idle": "2021-10-25T08:21:15.658485Z",
     "shell.execute_reply": "2021-10-25T08:21:15.656504Z"
    }
   },
   "outputs": [
    {
     "data": {
      "image/svg+xml": [
       "<?xml version=\"1.0\" encoding=\"UTF-8\" standalone=\"no\"?><svg xmlns=\"http://www.w3.org/2000/svg\" xmlns:xlink=\"http://www.w3.org/1999/xlink\" contentScriptType=\"application/ecmascript\" contentStyleType=\"text/css\" height=\"494px\" preserveAspectRatio=\"none\" style=\"width:475px;height:494px;\" version=\"1.1\" viewBox=\"0 0 475 494\" width=\"475px\" zoomAndPan=\"magnify\"><defs/><g><!--MD5=[fbc87193dbaf4d95561dea2c320d4a47]\n",
       "cluster E1--><a href=\"psysml:2a075407-fc8d-47b4-b4de-e1839d24b848\" target=\"_top\" title=\"psysml:2a075407-fc8d-47b4-b4de-e1839d24b848\" xlink:actuate=\"onRequest\" xlink:href=\"psysml:2a075407-fc8d-47b4-b4de-e1839d24b848\" xlink:show=\"new\" xlink:title=\"psysml:2a075407-fc8d-47b4-b4de-e1839d24b848\" xlink:type=\"simple\"><polygon fill=\"#FFFFFF\" points=\"16,6,143,6,150,28.2969,453,28.2969,453,482,16,482,16,6\" style=\"stroke: #000000; stroke-width: 1.5;\"/><line style=\"stroke: #000000; stroke-width: 1.5;\" x1=\"16\" x2=\"150\" y1=\"28.2969\" y2=\"28.2969\"/><text fill=\"#000000\" font-family=\"sans-serif\" font-size=\"14\" font-weight=\"bold\" lengthAdjust=\"spacingAndGlyphs\" textLength=\"121\" x=\"20\" y=\"20.9951\">RequirementTest</text></a><!--MD5=[b4997ac47864f28c2f74865a473b2911]\n",
       "class E2--><a href=\"psysml:8e8b9929-fb62-44f3-bb6e-73f88688eaf1\" target=\"_top\" title=\"psysml:8e8b9929-fb62-44f3-bb6e-73f88688eaf1\" xlink:actuate=\"onRequest\" xlink:href=\"psysml:8e8b9929-fb62-44f3-bb6e-73f88688eaf1\" xlink:show=\"new\" xlink:title=\"psysml:8e8b9929-fb62-44f3-bb6e-73f88688eaf1\" xlink:type=\"simple\"><rect fill=\"#FFFFFF\" height=\"45.9375\" id=\"E2\" style=\"stroke: #383838; stroke-width: 1.5;\" width=\"108\" x=\"329\" y=\"164\"/><text fill=\"#000000\" font-family=\"sans-serif\" font-size=\"12\" font-style=\"italic\" lengthAdjust=\"spacingAndGlyphs\" textLength=\"106\" x=\"330\" y=\"180.1387\">«constraint  def»</text><text fill=\"#000000\" font-family=\"sans-serif\" font-size=\"12\" lengthAdjust=\"spacingAndGlyphs\" textLength=\"8\" x=\"379\" y=\"194.1074\">C</text><line style=\"stroke: #383838; stroke-width: 1.5;\" x1=\"330\" x2=\"436\" y1=\"201.9375\" y2=\"201.9375\"/></a><!--MD5=[09b614a08d8cba4a07c9adeb5e0fee81]\n",
       "class E3--><a href=\"psysml:8dab2afb-478b-48f2-a7f7-bb2b245c05ea\" target=\"_top\" title=\"psysml:8dab2afb-478b-48f2-a7f7-bb2b245c05ea\" xlink:actuate=\"onRequest\" xlink:href=\"psysml:8dab2afb-478b-48f2-a7f7-bb2b245c05ea\" xlink:show=\"new\" xlink:title=\"psysml:8dab2afb-478b-48f2-a7f7-bb2b245c05ea\" xlink:type=\"simple\"><rect fill=\"#FFFFFF\" height=\"45.9375\" id=\"E3\" rx=\"10\" ry=\"10\" style=\"stroke: #383838; stroke-width: 1.5;\" width=\"80\" x=\"357\" y=\"41\"/><text fill=\"#000000\" font-family=\"sans-serif\" font-size=\"12\" font-style=\"italic\" lengthAdjust=\"spacingAndGlyphs\" textLength=\"78\" x=\"358\" y=\"57.1387\">«constraint»</text><text fill=\"#000000\" font-family=\"sans-serif\" font-size=\"12\" lengthAdjust=\"spacingAndGlyphs\" textLength=\"23\" x=\"383.5\" y=\"71.1074\">c: C</text><line style=\"stroke: #383838; stroke-width: 1.5;\" x1=\"358\" x2=\"436\" y1=\"78.9375\" y2=\"78.9375\"/></a><!--MD5=[ebbe1d658d1005bcc118a6aa81145e00]\n",
       "class E4--><a href=\"psysml:cae76f8a-948f-454f-8648-301efab5060e\" target=\"_top\" title=\"psysml:cae76f8a-948f-454f-8648-301efab5060e\" xlink:actuate=\"onRequest\" xlink:href=\"psysml:cae76f8a-948f-454f-8648-301efab5060e\" xlink:show=\"new\" xlink:title=\"psysml:cae76f8a-948f-454f-8648-301efab5060e\" xlink:type=\"simple\"><rect fill=\"#FFFFFF\" height=\"66.7422\" id=\"E4\" style=\"stroke: #383838; stroke-width: 1.5;\" width=\"121\" x=\"188.5\" y=\"271\"/><text fill=\"#000000\" font-family=\"sans-serif\" font-size=\"12\" font-style=\"italic\" lengthAdjust=\"spacingAndGlyphs\" textLength=\"119\" x=\"189.5\" y=\"287.1387\">«requirement  def»</text><text fill=\"#000000\" font-family=\"sans-serif\" font-size=\"12\" lengthAdjust=\"spacingAndGlyphs\" textLength=\"8\" x=\"245\" y=\"301.1074\">R</text><line style=\"stroke: #383838; stroke-width: 1.5;\" x1=\"189.5\" x2=\"308.5\" y1=\"308.9375\" y2=\"308.9375\"/><text fill=\"#000000\" font-family=\"sans-serif\" font-size=\"11\" lengthAdjust=\"spacingAndGlyphs\" textLength=\"0\" x=\"198.5\" y=\"323.1479\"/><line style=\"stroke: #383838; stroke-width: 1.0;\" x1=\"189.5\" x2=\"308.5\" y1=\"329.7422\" y2=\"329.7422\"/></a><!--MD5=[2156ba9850f5573cc1fc38a6a4b2f02b]\n",
       "class E7--><a href=\"psysml:70e6cc11-a878-4419-9a48-d32cb5df9816\" target=\"_top\" title=\"psysml:70e6cc11-a878-4419-9a48-d32cb5df9816\" xlink:actuate=\"onRequest\" xlink:href=\"psysml:70e6cc11-a878-4419-9a48-d32cb5df9816\" xlink:show=\"new\" xlink:title=\"psysml:70e6cc11-a878-4419-9a48-d32cb5df9816\" xlink:type=\"simple\"><rect fill=\"#FFFFFF\" height=\"45.9375\" id=\"E7\" rx=\"10\" ry=\"10\" style=\"stroke: #383838; stroke-width: 1.5;\" width=\"93\" x=\"144.5\" y=\"409.5\"/><text fill=\"#000000\" font-family=\"sans-serif\" font-size=\"12\" font-style=\"italic\" lengthAdjust=\"spacingAndGlyphs\" textLength=\"91\" x=\"145.5\" y=\"425.6387\">«requirement»</text><text fill=\"#000000\" font-family=\"sans-serif\" font-size=\"12\" lengthAdjust=\"spacingAndGlyphs\" text-decoration=\"line-through\" textLength=\"51\" x=\"165.5\" y=\"439.6074\">noname</text><line style=\"stroke: #383838; stroke-width: 1.5;\" x1=\"145.5\" x2=\"236.5\" y1=\"447.4375\" y2=\"447.4375\"/></a><!--MD5=[b9389687b975829384b498ac4b7476b2]\n",
       "class E8--><a href=\"psysml:5c5c4776-1d3a-4700-8516-1d3a67d779f4\" target=\"_top\" title=\"psysml:5c5c4776-1d3a-4700-8516-1d3a67d779f4\" xlink:actuate=\"onRequest\" xlink:href=\"psysml:5c5c4776-1d3a-4700-8516-1d3a67d779f4\" xlink:show=\"new\" xlink:title=\"psysml:5c5c4776-1d3a-4700-8516-1d3a67d779f4\" xlink:type=\"simple\"><rect fill=\"#FFFFFF\" height=\"66.7422\" id=\"E8\" style=\"stroke: #383838; stroke-width: 1.5;\" width=\"121\" x=\"272.5\" y=\"399\"/><text fill=\"#000000\" font-family=\"sans-serif\" font-size=\"12\" font-style=\"italic\" lengthAdjust=\"spacingAndGlyphs\" textLength=\"119\" x=\"273.5\" y=\"415.1387\">«requirement  def»</text><text fill=\"#000000\" font-family=\"sans-serif\" font-size=\"12\" lengthAdjust=\"spacingAndGlyphs\" textLength=\"5\" x=\"320\" y=\"429.1074\">[</text><text fill=\"#000000\" font-family=\"sans-serif\" font-size=\"12\" font-weight=\"bold\" lengthAdjust=\"spacingAndGlyphs\" textLength=\"8\" x=\"325\" y=\"429.1074\">1</text><text fill=\"#000000\" font-family=\"sans-serif\" font-size=\"12\" lengthAdjust=\"spacingAndGlyphs\" textLength=\"17\" x=\"333\" y=\"429.1074\">] A</text><line style=\"stroke: #383838; stroke-width: 1.5;\" x1=\"273.5\" x2=\"392.5\" y1=\"436.9375\" y2=\"436.9375\"/><text fill=\"#000000\" font-family=\"sans-serif\" font-size=\"11\" lengthAdjust=\"spacingAndGlyphs\" textLength=\"24\" x=\"278.5\" y=\"451.1479\">Text</text><line style=\"stroke: #383838; stroke-width: 1.0;\" x1=\"273.5\" x2=\"392.5\" y1=\"457.7422\" y2=\"457.7422\"/></a><!--MD5=[fd4143e9d270a159db93a4ea2a975926]\n",
       "class E9--><a href=\"psysml:f2fc2205-4b84-4313-b340-24ee025c15cf\" target=\"_top\" title=\"psysml:f2fc2205-4b84-4313-b340-24ee025c15cf\" xlink:actuate=\"onRequest\" xlink:href=\"psysml:f2fc2205-4b84-4313-b340-24ee025c15cf\" xlink:show=\"new\" xlink:title=\"psysml:f2fc2205-4b84-4313-b340-24ee025c15cf\" xlink:type=\"simple\"><rect fill=\"#FFFFFF\" height=\"45.9375\" id=\"E9\" style=\"stroke: #383838; stroke-width: 1.5;\" width=\"121\" x=\"32.5\" y=\"281.5\"/><text fill=\"#000000\" font-family=\"sans-serif\" font-size=\"12\" font-style=\"italic\" lengthAdjust=\"spacingAndGlyphs\" textLength=\"119\" x=\"33.5\" y=\"297.6387\">«requirement  def»</text><text fill=\"#000000\" font-family=\"sans-serif\" font-size=\"12\" lengthAdjust=\"spacingAndGlyphs\" textLength=\"16\" x=\"85\" y=\"311.6074\">R1</text><line style=\"stroke: #383838; stroke-width: 1.5;\" x1=\"33.5\" x2=\"152.5\" y1=\"319.4375\" y2=\"319.4375\"/></a><!--MD5=[1dd1bfd58a279cf63c5f349dbc8fc6a1]\n",
       "class E11--><a href=\"psysml:4203d305-f881-4dfa-bcc5-a82b5aac35c4\" target=\"_top\" title=\"psysml:4203d305-f881-4dfa-bcc5-a82b5aac35c4\" xlink:actuate=\"onRequest\" xlink:href=\"psysml:4203d305-f881-4dfa-bcc5-a82b5aac35c4\" xlink:show=\"new\" xlink:title=\"psysml:4203d305-f881-4dfa-bcc5-a82b5aac35c4\" xlink:type=\"simple\"><rect fill=\"#FFFFFF\" height=\"45.9375\" id=\"E11\" rx=\"10\" ry=\"10\" style=\"stroke: #383838; stroke-width: 1.5;\" width=\"42\" x=\"95\" y=\"41\"/><text fill=\"#000000\" font-family=\"sans-serif\" font-size=\"12\" font-style=\"italic\" lengthAdjust=\"spacingAndGlyphs\" textLength=\"40\" x=\"96\" y=\"57.1387\">«part»</text><text fill=\"#000000\" font-family=\"sans-serif\" font-size=\"12\" lengthAdjust=\"spacingAndGlyphs\" textLength=\"8\" x=\"112\" y=\"71.1074\">p</text><line style=\"stroke: #383838; stroke-width: 1.5;\" x1=\"96\" x2=\"136\" y1=\"78.9375\" y2=\"78.9375\"/></a><!--MD5=[49a0ec8f00dab7302a31f22d0f0fe584]\n",
       "class E12--><a href=\"psysml:d0dbee69-5f2e-4ac4-ba4b-4aca7380bae7\" target=\"_top\" title=\"psysml:d0dbee69-5f2e-4ac4-ba4b-4aca7380bae7\" xlink:actuate=\"onRequest\" xlink:href=\"psysml:d0dbee69-5f2e-4ac4-ba4b-4aca7380bae7\" xlink:show=\"new\" xlink:title=\"psysml:d0dbee69-5f2e-4ac4-ba4b-4aca7380bae7\" xlink:type=\"simple\"><rect fill=\"#FFFFFF\" height=\"45.9375\" id=\"E12\" rx=\"10\" ry=\"10\" style=\"stroke: #383838; stroke-width: 1.5;\" width=\"42\" x=\"280\" y=\"41\"/><text fill=\"#000000\" font-family=\"sans-serif\" font-size=\"12\" font-style=\"italic\" lengthAdjust=\"spacingAndGlyphs\" textLength=\"40\" x=\"281\" y=\"57.1387\">«part»</text><text fill=\"#000000\" font-family=\"sans-serif\" font-size=\"12\" lengthAdjust=\"spacingAndGlyphs\" textLength=\"8\" x=\"297\" y=\"71.1074\">q</text><line style=\"stroke: #383838; stroke-width: 1.5;\" x1=\"281\" x2=\"321\" y1=\"78.9375\" y2=\"78.9375\"/></a><!--MD5=[ee3c913d1a06f366521f9ef512b67efe]\n",
       "class E13--><a href=\"psysml:aee31540-9ea4-41ee-8ebb-8555bfaf03fb\" target=\"_top\" title=\"psysml:aee31540-9ea4-41ee-8ebb-8555bfaf03fb\" xlink:actuate=\"onRequest\" xlink:href=\"psysml:aee31540-9ea4-41ee-8ebb-8555bfaf03fb\" xlink:show=\"new\" xlink:title=\"psysml:aee31540-9ea4-41ee-8ebb-8555bfaf03fb\" xlink:type=\"simple\"><rect fill=\"#FFFFFF\" height=\"45.9375\" id=\"E13\" rx=\"10\" ry=\"10\" style=\"stroke: #383838; stroke-width: 1.5;\" width=\"93\" x=\"200.5\" y=\"164\"/><text fill=\"#000000\" font-family=\"sans-serif\" font-size=\"12\" font-style=\"italic\" lengthAdjust=\"spacingAndGlyphs\" textLength=\"91\" x=\"201.5\" y=\"180.1387\">«requirement»</text><text fill=\"#000000\" font-family=\"sans-serif\" font-size=\"12\" lengthAdjust=\"spacingAndGlyphs\" textLength=\"21\" x=\"234.5\" y=\"194.1074\">r: R</text><line style=\"stroke: #383838; stroke-width: 1.5;\" x1=\"201.5\" x2=\"292.5\" y1=\"201.9375\" y2=\"201.9375\"/></a><!--MD5=[bee11217b2f71d958a27249dc326068c]\n",
       "class E14--><a href=\"psysml:5c4fb90e-2e7f-411e-8437-1e0e9b0bd00e\" target=\"_top\" title=\"psysml:5c4fb90e-2e7f-411e-8437-1e0e9b0bd00e\" xlink:actuate=\"onRequest\" xlink:href=\"psysml:5c4fb90e-2e7f-411e-8437-1e0e9b0bd00e\" xlink:show=\"new\" xlink:title=\"psysml:5c4fb90e-2e7f-411e-8437-1e0e9b0bd00e\" xlink:type=\"simple\"><rect fill=\"#FFFFFF\" height=\"45.9375\" id=\"E14\" rx=\"10\" ry=\"10\" style=\"stroke: #383838; stroke-width: 1.5;\" width=\"93\" x=\"46.5\" y=\"164\"/><text fill=\"#000000\" font-family=\"sans-serif\" font-size=\"12\" font-style=\"italic\" lengthAdjust=\"spacingAndGlyphs\" textLength=\"91\" x=\"47.5\" y=\"180.1387\">«requirement»</text><text fill=\"#000000\" font-family=\"sans-serif\" font-size=\"12\" lengthAdjust=\"spacingAndGlyphs\" textLength=\"37\" x=\"72.5\" y=\"194.1074\">r1: R1</text><line style=\"stroke: #383838; stroke-width: 1.5;\" x1=\"47.5\" x2=\"138.5\" y1=\"201.9375\" y2=\"201.9375\"/></a><!--MD5=[05d275557350bfb9b23a4ef7222b4c39]\n",
       "link E3 to E2--><a href=\"psysml:1cfa9d08-8b1e-49ae-8f22-7ec5c2d68c94\" target=\"_top\" title=\"psysml:1cfa9d08-8b1e-49ae-8f22-7ec5c2d68c94\" xlink:actuate=\"onRequest\" xlink:href=\"psysml:1cfa9d08-8b1e-49ae-8f22-7ec5c2d68c94\" xlink:show=\"new\" xlink:title=\"psysml:1cfa9d08-8b1e-49ae-8f22-7ec5c2d68c94\" xlink:type=\"simple\"><path d=\"M397,87.14 C397,87.14 397,143.97 397,143.97 \" fill=\"none\" id=\"E3-&gt;E2\" style=\"stroke: #383838; stroke-width: 1.0;\"/><polygon fill=\"#FFFFFF\" points=\"397,163.97,390,144.97,404,144.97,397,163.97\" style=\"stroke: #383838; stroke-width: 1.0;\"/><ellipse cx=\"392\" cy=\"139.27\" fill=\"#383838\" rx=\"2\" ry=\"2\" style=\"stroke: #383838; stroke-width: 1.0;\"/><ellipse cx=\"402\" cy=\"139.27\" fill=\"#383838\" rx=\"2\" ry=\"2\" style=\"stroke: #383838; stroke-width: 1.0;\"/></a><!--MD5=[722ff4eef345aa10242dad44df0e98c7]\n",
       "reverse link E4 to E7--><a href=\"psysml:8957256b-d423-4c87-844e-8026b3f5c553\" target=\"_top\" title=\"psysml:8957256b-d423-4c87-844e-8026b3f5c553\" xlink:actuate=\"onRequest\" xlink:href=\"psysml:8957256b-d423-4c87-844e-8026b3f5c553\" xlink:show=\"new\" xlink:title=\"psysml:8957256b-d423-4c87-844e-8026b3f5c553\" xlink:type=\"simple\"><path d=\"M213,351.13 C213,351.13 213,409.19 213,409.19 \" fill=\"none\" id=\"E4&lt;-E7\" style=\"stroke: #383838; stroke-width: 1.0;\"/><polygon fill=\"#383838\" points=\"213,338.13,209,344.13,213,350.13,217,344.13,213,338.13\" style=\"stroke: #383838; stroke-width: 1.0;\"/><text fill=\"#000000\" font-family=\"sans-serif\" font-size=\"13\" lengthAdjust=\"spacingAndGlyphs\" textLength=\"7\" x=\"210.7406\" y=\"398.3869\">*</text></a><!--MD5=[c6fc7cdb0cabde04948078cf183fa696]\n",
       "reverse link E4 to E8--><a href=\"psysml:e7993699-2e90-4c6e-9ce7-c90f60868f83\" target=\"_top\" title=\"psysml:e7993699-2e90-4c6e-9ce7-c90f60868f83\" xlink:actuate=\"onRequest\" xlink:href=\"psysml:e7993699-2e90-4c6e-9ce7-c90f60868f83\" xlink:show=\"new\" xlink:title=\"psysml:e7993699-2e90-4c6e-9ce7-c90f60868f83\" xlink:type=\"simple\"><path d=\"M291,353.13 C291,353.13 291,398.65 291,398.65 \" fill=\"none\" id=\"E4&lt;-E8\" style=\"stroke: #383838; stroke-width: 1.0;\"/><ellipse cx=\"291\" cy=\"346.13\" fill=\"#FFFFFF\" rx=\"8\" ry=\"8\" style=\"stroke: #383838; stroke-width: 1.0;\"/><line style=\"stroke: #383838; stroke-width: 1.0;\" x1=\"291\" x2=\"291\" y1=\"354.13\" y2=\"338.13\"/><line style=\"stroke: #383838; stroke-width: 1.0;\" x1=\"283\" x2=\"299\" y1=\"346.13\" y2=\"346.13\"/></a><!--MD5=[062ed86c389d1a88f61c6380d0491e17]\n",
       "reverse link E12 to E13--><a href=\"psysml:0f26ba0d-7372-4c44-875c-adf3c35e17b9\" target=\"_top\" title=\"psysml:0f26ba0d-7372-4c44-875c-adf3c35e17b9\" xlink:actuate=\"onRequest\" xlink:href=\"psysml:0f26ba0d-7372-4c44-875c-adf3c35e17b9\" xlink:show=\"new\" xlink:title=\"psysml:0f26ba0d-7372-4c44-875c-adf3c35e17b9\" xlink:type=\"simple\"><path d=\"M286.75,100.14 C286.75,100.14 286.75,163.97 286.75,163.97 \" fill=\"none\" id=\"E12&lt;-E13\" style=\"stroke: #383838; stroke-width: 1.0;\"/><polygon fill=\"#383838\" points=\"286.75,87.14,282.75,93.14,286.75,99.14,290.75,93.14,286.75,87.14\" style=\"stroke: #383838; stroke-width: 1.0;\"/></a><!--MD5=[e2a9ac97dcd3257bb5342dae06547bad]\n",
       "link E12 to E13--><a href=\"psysml:f5a4eec3-f375-4f03-819b-6c5c8dc7728c\" target=\"_top\" title=\"psysml:f5a4eec3-f375-4f03-819b-6c5c8dc7728c\" xlink:actuate=\"onRequest\" xlink:href=\"psysml:f5a4eec3-f375-4f03-819b-6c5c8dc7728c\" xlink:show=\"new\" xlink:title=\"psysml:f5a4eec3-f375-4f03-819b-6c5c8dc7728c\" xlink:type=\"simple\"><path d=\"M290.12,87.14 C290.12,87.14 290.12,158.97 290.12,158.97 \" fill=\"none\" id=\"E12-&gt;E13\" style=\"stroke: #383838; stroke-width: 1.0; stroke-dasharray: 7.0,7.0;\"/><polygon fill=\"#383838\" points=\"290.12,163.97,294.12,154.97,290.12,158.97,286.12,154.97,290.12,163.97\" style=\"stroke: #383838; stroke-width: 1.0;\"/><text fill=\"#000000\" font-family=\"sans-serif\" font-size=\"13\" lengthAdjust=\"spacingAndGlyphs\" textLength=\"57\" x=\"365\" y=\"130.0669\">«satisfy»</text></a><!--MD5=[017847e01ff9a8bd19f247411074f987]\n",
       "link E13 to E4--><a href=\"psysml:e01bb7f1-206a-408f-a898-0799ec242df4\" target=\"_top\" title=\"psysml:e01bb7f1-206a-408f-a898-0799ec242df4\" xlink:actuate=\"onRequest\" xlink:href=\"psysml:e01bb7f1-206a-408f-a898-0799ec242df4\" xlink:show=\"new\" xlink:title=\"psysml:e01bb7f1-206a-408f-a898-0799ec242df4\" xlink:type=\"simple\"><path d=\"M247,210.21 C247,210.21 247,250.65 247,250.65 \" fill=\"none\" id=\"E13-&gt;E4\" style=\"stroke: #383838; stroke-width: 1.0;\"/><polygon fill=\"#FFFFFF\" points=\"247,270.65,240,251.65,254,251.65,247,270.65\" style=\"stroke: #383838; stroke-width: 1.0;\"/><ellipse cx=\"242\" cy=\"245.95\" fill=\"#383838\" rx=\"2\" ry=\"2\" style=\"stroke: #383838; stroke-width: 1.0;\"/><ellipse cx=\"252\" cy=\"245.95\" fill=\"#383838\" rx=\"2\" ry=\"2\" style=\"stroke: #383838; stroke-width: 1.0;\"/></a><!--MD5=[60f911bb19596b289db4a22769f8105a]\n",
       "link E11 to E13--><a href=\"psysml:e806deaf-0ce2-4d10-9e57-833502fc32ee\" target=\"_top\" title=\"psysml:e806deaf-0ce2-4d10-9e57-833502fc32ee\" xlink:actuate=\"onRequest\" xlink:href=\"psysml:e806deaf-0ce2-4d10-9e57-833502fc32ee\" xlink:show=\"new\" xlink:title=\"psysml:e806deaf-0ce2-4d10-9e57-833502fc32ee\" xlink:type=\"simple\"><path d=\"M137.08,64 C172.53,64 240.25,64 240.25,64 C240.25,64 240.25,158.86 240.25,158.86 \" fill=\"none\" id=\"E11-&gt;E13\" style=\"stroke: #383838; stroke-width: 1.0; stroke-dasharray: 7.0,7.0;\"/><polygon fill=\"#383838\" points=\"240.25,163.86,244.25,154.86,240.25,158.86,236.25,154.86,240.25,163.86\" style=\"stroke: #383838; stroke-width: 1.0;\"/><text fill=\"#000000\" font-family=\"sans-serif\" font-size=\"13\" lengthAdjust=\"spacingAndGlyphs\" textLength=\"57\" x=\"167\" y=\"130.0669\">«satisfy»</text></a><!--MD5=[0c677eb374079406c87b74cd1f5a339d]\n",
       "link E14 to E9--><a href=\"psysml:d6ece11e-fb98-4dd6-9106-0f6846b0bd9f\" target=\"_top\" title=\"psysml:d6ece11e-fb98-4dd6-9106-0f6846b0bd9f\" xlink:actuate=\"onRequest\" xlink:href=\"psysml:d6ece11e-fb98-4dd6-9106-0f6846b0bd9f\" xlink:show=\"new\" xlink:title=\"psysml:d6ece11e-fb98-4dd6-9106-0f6846b0bd9f\" xlink:type=\"simple\"><path d=\"M93,210.21 C93,210.21 93,261.33 93,261.33 \" fill=\"none\" id=\"E14-&gt;E9\" style=\"stroke: #383838; stroke-width: 1.0;\"/><polygon fill=\"#FFFFFF\" points=\"93,281.33,86,262.33,100,262.33,93,281.33\" style=\"stroke: #383838; stroke-width: 1.0;\"/><ellipse cx=\"88\" cy=\"256.63\" fill=\"#383838\" rx=\"2\" ry=\"2\" style=\"stroke: #383838; stroke-width: 1.0;\"/><ellipse cx=\"98\" cy=\"256.63\" fill=\"#383838\" rx=\"2\" ry=\"2\" style=\"stroke: #383838; stroke-width: 1.0;\"/></a><!--MD5=[9c1c40551dcf5c2fca147626a786a7cd]\n",
       "link E11 to E14--><a href=\"psysml:feaea2f2-720b-4dbc-ba1d-0aec40f00046\" target=\"_top\" title=\"psysml:feaea2f2-720b-4dbc-ba1d-0aec40f00046\" xlink:actuate=\"onRequest\" xlink:href=\"psysml:feaea2f2-720b-4dbc-ba1d-0aec40f00046\" xlink:show=\"new\" xlink:title=\"psysml:feaea2f2-720b-4dbc-ba1d-0aec40f00046\" xlink:type=\"simple\"><path d=\"M109,87.14 C109,87.14 109,158.97 109,158.97 \" fill=\"none\" id=\"E11-&gt;E14\" style=\"stroke: #383838; stroke-width: 1.0; stroke-dasharray: 7.0,7.0;\"/><polygon fill=\"#383838\" points=\"109,163.97,113,154.97,109,158.97,105,154.97,109,163.97\" style=\"stroke: #383838; stroke-width: 1.0;\"/><text fill=\"#000000\" font-family=\"sans-serif\" font-size=\"13\" lengthAdjust=\"spacingAndGlyphs\" textLength=\"57\" x=\"68\" y=\"130.0669\">«satisfy»</text></a><!--MD5=[d53cb08dffc8689d16e38c8e194e9adc]\n",
       "link E12 to E14--><a href=\"psysml:f5704f7b-2601-4abd-90b0-2ec51a978e80\" target=\"_top\" title=\"psysml:f5704f7b-2601-4abd-90b0-2ec51a978e80\" xlink:actuate=\"onRequest\" xlink:href=\"psysml:f5704f7b-2601-4abd-90b0-2ec51a978e80\" xlink:show=\"new\" xlink:title=\"psysml:f5704f7b-2601-4abd-90b0-2ec51a978e80\" xlink:type=\"simple\"><path d=\"M283.38,87.09 C283.38,104.71 283.38,126 283.38,126 C283.38,126 123,126 123,126 C123,126 123,158.94 123,158.94 \" fill=\"none\" id=\"E12-&gt;E14\" style=\"stroke: #383838; stroke-width: 1.0; stroke-dasharray: 7.0,7.0;\"/><polygon fill=\"#383838\" points=\"123,163.94,127,154.94,123,158.94,119,154.94,123,163.94\" style=\"stroke: #383838; stroke-width: 1.0;\"/><text fill=\"#000000\" font-family=\"sans-serif\" font-size=\"13\" lengthAdjust=\"spacingAndGlyphs\" textLength=\"57\" x=\"266\" y=\"130.0669\">«satisfy»</text></a><!--MD5=[4660e4d4d5e81e04e3bebcd0142d75d6]\n",
       "@startuml\r\n",
       "skinparam linetype ortho\r\n",
       "skinparam monochrome true\r\n",
       "skinparam classbackgroundcolor white\r\n",
       "skinparam shadowing false\r\n",
       "skinparam wrapWidth 300\r\n",
       "hide circle\r\n",
       "\r\n",
       "package \"RequirementTest\" as E1  [[psysml:2a075407-fc8d-47b4-b4de-e1839d24b848 ]]  {\r\n",
       "comp def \"C\" as E2  <<(T,blue) constraint  def>> [[psysml:8e8b9929-fb62-44f3-bb6e-73f88688eaf1 ]] {\r\n",
       "}\r\n",
       "comp usage \"c: C \" as E3  <<(T,blue) constraint>> [[psysml:8dab2afb-478b-48f2-a7f7-bb2b245c05ea ]] {\r\n",
       "}\r\n",
       "comp def \"R\" as E4  <<(T,blue) requirement  def>> [[psysml:cae76f8a-948f-454f-8648-301efab5060e ]] {\r\n",
       "\r\n",
       "- -\r\n",
       "}\r\n",
       "comp usage \"<s>noname</s>\" as E7  <<(T,blue) requirement>> [[psysml:70e6cc11-a878-4419-9a48-d32cb5df9816 ]] {\r\n",
       "}\r\n",
       "comp def \" [<b>1</b>] A\" as E8  <<(T,blue) requirement  def>> [[psysml:5c5c4776-1d3a-4700-8516-1d3a67d779f4 ]] {\r\n",
       "Text\r\n",
       "- -\r\n",
       "}\r\n",
       "comp def \"R1\" as E9  <<(T,blue) requirement  def>> [[psysml:f2fc2205-4b84-4313-b340-24ee025c15cf ]] {\r\n",
       "}\r\n",
       "comp usage \"p\" as E11  <<(T,blue) part>> [[psysml:4203d305-f881-4dfa-bcc5-a82b5aac35c4 ]] {\r\n",
       "}\r\n",
       "comp usage \"q\" as E12  <<(T,blue) part>> [[psysml:d0dbee69-5f2e-4ac4-ba4b-4aca7380bae7 ]] {\r\n",
       "}\r\n",
       "comp usage \"r: R \" as E13  <<(T,blue) requirement>> [[psysml:aee31540-9ea4-41ee-8ebb-8555bfaf03fb ]] {\r\n",
       "}\r\n",
       "comp usage \"r1: R1 \" as E14  <<(T,blue) requirement>> [[psysml:5c4fb90e-2e7f-411e-8437-1e0e9b0bd00e ]] {\r\n",
       "}\r\n",
       "}\r\n",
       "E3 - -:|> E2 [[psysml:1cfa9d08-8b1e-49ae-8f22-7ec5c2d68c94 ]] \r\n",
       "E4 *- - \"*\"E7 [[psysml:8957256b-d423-4c87-844e-8026b3f5c553 ]] \r\n",
       "E4 +- - E8 [[psysml:e7993699-2e90-4c6e-9ce7-c90f60868f83 ]] \r\n",
       "E12 *- - E13 [[psysml:0f26ba0d-7372-4c44-875c-adf3c35e17b9 ]] \r\n",
       "E13 - -:|> E4 [[psysml:e01bb7f1-206a-408f-a898-0799ec242df4 ]] \r\n",
       "E11 ..> E13 [[psysml:e806deaf-0ce2-4d10-9e57-833502fc32ee ]] : <<satisfy>>\r\n",
       "E12 ..> E13 [[psysml:f5a4eec3-f375-4f03-819b-6c5c8dc7728c ]] : <<satisfy>>\r\n",
       "E14 - -:|> E9 [[psysml:d6ece11e-fb98-4dd6-9106-0f6846b0bd9f ]] \r\n",
       "E11 ..> E14 [[psysml:feaea2f2-720b-4dbc-ba1d-0aec40f00046 ]] : <<satisfy>>\r\n",
       "E12 ..> E14 [[psysml:f5704f7b-2601-4abd-90b0-2ec51a978e80 ]] : <<satisfy>>\r\n",
       "@enduml\r\n",
       "\n",
       "PlantUML version 1.2020.13(Sat Jun 13 12:26:38 UTC 2020)\n",
       "(EPL source distribution)\n",
       "Java Runtime: OpenJDK Runtime Environment\n",
       "JVM: OpenJDK 64-Bit Server VM\n",
       "Default Encoding: UTF-8\n",
       "Language: en\n",
       "Country: null\n",
       "--></g></svg>"
      ]
     },
     "execution_count": 52,
     "metadata": {},
     "output_type": "execute_result"
    }
   ],
   "source": [
    "%viz --style=\"ORTHOLINE\" --view=\"Tree\" \"RequirementTest\""
   ]
  },
  {
   "cell_type": "code",
   "execution_count": 53,
   "id": "6cc709bc",
   "metadata": {
    "execution": {
     "iopub.execute_input": "2021-10-25T08:21:15.707087Z",
     "iopub.status.busy": "2021-10-25T08:21:15.706670Z",
     "iopub.status.idle": "2021-10-25T08:21:15.710701Z",
     "shell.execute_reply": "2021-10-25T08:21:15.710347Z"
    }
   },
   "outputs": [
    {
     "data": {
      "image/svg+xml": [
       "<?xml version=\"1.0\" encoding=\"UTF-8\" standalone=\"no\"?><svg xmlns=\"http://www.w3.org/2000/svg\" xmlns:xlink=\"http://www.w3.org/1999/xlink\" contentScriptType=\"application/ecmascript\" contentStyleType=\"text/css\" height=\"12px\" preserveAspectRatio=\"none\" style=\"width:12px;height:12px;\" version=\"1.1\" viewBox=\"0 0 12 12\" width=\"12px\" zoomAndPan=\"magnify\"><defs/><g><!--MD5=[97d6f38768b311333d388e66b2b27985]\n",
       "@startuml\r\n",
       "skinparam linetype ortho\r\n",
       "skinparam monochrome true\r\n",
       "skinparam classbackgroundcolor white\r\n",
       "skinparam shadowing false\r\n",
       "skinparam wrapWidth 300\r\n",
       "hide circle\r\n",
       "\r\n",
       "@enduml\r\n",
       "\n",
       "PlantUML version 1.2020.13(Sat Jun 13 12:26:38 UTC 2020)\n",
       "(EPL source distribution)\n",
       "Java Runtime: OpenJDK Runtime Environment\n",
       "JVM: OpenJDK 64-Bit Server VM\n",
       "Default Encoding: UTF-8\n",
       "Language: en\n",
       "Country: null\n",
       "--></g></svg>"
      ]
     },
     "execution_count": 53,
     "metadata": {},
     "output_type": "execute_result"
    }
   ],
   "source": [
    "%viz --style=\"ORTHOLINE\" --view=\"State\" \"RequirementTest\""
   ]
  },
  {
   "cell_type": "code",
   "execution_count": 54,
   "id": "6ea01781",
   "metadata": {
    "execution": {
     "iopub.execute_input": "2021-10-25T08:21:15.759941Z",
     "iopub.status.busy": "2021-10-25T08:21:15.759508Z",
     "iopub.status.idle": "2021-10-25T08:21:15.818604Z",
     "shell.execute_reply": "2021-10-25T08:21:15.816280Z"
    }
   },
   "outputs": [
    {
     "data": {
      "image/svg+xml": [
       "<?xml version=\"1.0\" encoding=\"UTF-8\" standalone=\"no\"?><svg xmlns=\"http://www.w3.org/2000/svg\" xmlns:xlink=\"http://www.w3.org/1999/xlink\" contentScriptType=\"application/ecmascript\" contentStyleType=\"text/css\" height=\"438px\" preserveAspectRatio=\"none\" style=\"width:492px;height:438px;\" version=\"1.1\" viewBox=\"0 0 492 438\" width=\"492px\" zoomAndPan=\"magnify\"><defs/><g><!--MD5=[fbc87193dbaf4d95561dea2c320d4a47]\n",
       "cluster E1--><a href=\"psysml:2a075407-fc8d-47b4-b4de-e1839d24b848\" target=\"_top\" title=\"psysml:2a075407-fc8d-47b4-b4de-e1839d24b848\" xlink:actuate=\"onRequest\" xlink:href=\"psysml:2a075407-fc8d-47b4-b4de-e1839d24b848\" xlink:show=\"new\" xlink:title=\"psysml:2a075407-fc8d-47b4-b4de-e1839d24b848\" xlink:type=\"simple\"><polygon fill=\"#FFFFFF\" points=\"16,6,143,6,150,28.2969,470,28.2969,470,426.36,16,426.36,16,6\" style=\"stroke: #000000; stroke-width: 1.5;\"/><line style=\"stroke: #000000; stroke-width: 1.5;\" x1=\"16\" x2=\"150\" y1=\"28.2969\" y2=\"28.2969\"/><text fill=\"#000000\" font-family=\"sans-serif\" font-size=\"14\" font-weight=\"bold\" lengthAdjust=\"spacingAndGlyphs\" textLength=\"121\" x=\"20\" y=\"20.9951\">RequirementTest</text></a><!--MD5=[47bea60c1a0ac6c1143df232041969c0]\n",
       "cluster E12--><a href=\"psysml:d0dbee69-5f2e-4ac4-ba4b-4aca7380bae7\" target=\"_top\" title=\"psysml:d0dbee69-5f2e-4ac4-ba4b-4aca7380bae7\" xlink:actuate=\"onRequest\" xlink:href=\"psysml:d0dbee69-5f2e-4ac4-ba4b-4aca7380bae7\" xlink:show=\"new\" xlink:title=\"psysml:d0dbee69-5f2e-4ac4-ba4b-4aca7380bae7\" xlink:type=\"simple\"><rect fill=\"#FFFFFF\" height=\"169.36\" id=\"E12\" rx=\"10\" ry=\"10\" style=\"stroke: #383838; stroke-width: 1.5;\" width=\"140\" x=\"48\" y=\"57\"/><rect fill=\"#F8F8F8\" height=\"23.9688\" rx=\"10\" ry=\"10\" style=\"stroke: #F8F8F8; stroke-width: 1.5;\" width=\"140\" x=\"48\" y=\"57\"/><rect fill=\"#F8F8F8\" height=\"10\" style=\"stroke: #F8F8F8; stroke-width: 1.5;\" width=\"140\" x=\"48\" y=\"70.9688\"/><rect fill=\"none\" height=\"169.36\" id=\"E12\" rx=\"10\" ry=\"10\" style=\"stroke: #383838; stroke-width: 1.5;\" width=\"140\" x=\"48\" y=\"57\"/><text fill=\"#000000\" font-family=\"sans-serif\" font-size=\"12\" lengthAdjust=\"spacingAndGlyphs\" textLength=\"8\" x=\"114\" y=\"73.1387\">q</text><line style=\"stroke: #383838; stroke-width: 1.0;\" x1=\"48\" x2=\"188\" y1=\"80.9688\" y2=\"80.9688\"/></a><g id=\"E1.E2\"><a href=\"psysml:8e8b9929-fb62-44f3-bb6e-73f88688eaf1\" target=\"_top\" title=\"psysml:8e8b9929-fb62-44f3-bb6e-73f88688eaf1\" xlink:actuate=\"onRequest\" xlink:href=\"psysml:8e8b9929-fb62-44f3-bb6e-73f88688eaf1\" xlink:show=\"new\" xlink:title=\"psysml:8e8b9929-fb62-44f3-bb6e-73f88688eaf1\" xlink:type=\"simple\"><rect fill=\"#FFFFFF\" height=\"42.9375\" id=\"E2\" style=\"stroke: #383838; stroke-width: 1.5;\" width=\"113\" x=\"340.5\" y=\"157.86\"/><rect fill=\"#F8F8F8\" height=\"37.9375\" style=\"stroke: #383838; stroke-width: 1.5;\" width=\"113\" x=\"340.5\" y=\"157.86\"/><text fill=\"#000000\" font-family=\"sans-serif\" font-size=\"12\" font-style=\"italic\" lengthAdjust=\"spacingAndGlyphs\" textLength=\"106\" x=\"344\" y=\"173.9987\">«constraint  def»</text><text fill=\"#000000\" font-family=\"sans-serif\" font-size=\"12\" lengthAdjust=\"spacingAndGlyphs\" textLength=\"8\" x=\"393\" y=\"187.9674\">C</text></a></g><!--MD5=[09b614a08d8cba4a07c9adeb5e0fee81]\n",
       "class E3--><a href=\"psysml:8dab2afb-478b-48f2-a7f7-bb2b245c05ea\" target=\"_top\" title=\"psysml:8dab2afb-478b-48f2-a7f7-bb2b245c05ea\" xlink:actuate=\"onRequest\" xlink:href=\"psysml:8dab2afb-478b-48f2-a7f7-bb2b245c05ea\" xlink:show=\"new\" xlink:title=\"psysml:8dab2afb-478b-48f2-a7f7-bb2b245c05ea\" xlink:type=\"simple\"><rect fill=\"#FFFFFF\" height=\"45.9375\" id=\"E3\" rx=\"10\" ry=\"10\" style=\"stroke: #383838; stroke-width: 1.5;\" width=\"80\" x=\"374\" y=\"61.36\"/><text fill=\"#000000\" font-family=\"sans-serif\" font-size=\"12\" font-style=\"italic\" lengthAdjust=\"spacingAndGlyphs\" textLength=\"78\" x=\"375\" y=\"77.4987\">«constraint»</text><text fill=\"#000000\" font-family=\"sans-serif\" font-size=\"12\" lengthAdjust=\"spacingAndGlyphs\" textLength=\"23\" x=\"400.5\" y=\"91.4674\">c: C</text><line style=\"stroke: #383838; stroke-width: 1.5;\" x1=\"375\" x2=\"453\" y1=\"99.2975\" y2=\"99.2975\"/></a><!--MD5=[ebbe1d658d1005bcc118a6aa81145e00]\n",
       "class E4--><a href=\"psysml:cae76f8a-948f-454f-8648-301efab5060e\" target=\"_top\" title=\"psysml:cae76f8a-948f-454f-8648-301efab5060e\" xlink:actuate=\"onRequest\" xlink:href=\"psysml:cae76f8a-948f-454f-8648-301efab5060e\" xlink:show=\"new\" xlink:title=\"psysml:cae76f8a-948f-454f-8648-301efab5060e\" xlink:type=\"simple\"><rect fill=\"#FFFFFF\" height=\"66.7422\" id=\"E4\" style=\"stroke: #383838; stroke-width: 1.5;\" width=\"121\" x=\"51.5\" y=\"259.36\"/><text fill=\"#000000\" font-family=\"sans-serif\" font-size=\"12\" font-style=\"italic\" lengthAdjust=\"spacingAndGlyphs\" textLength=\"119\" x=\"52.5\" y=\"275.4987\">«requirement  def»</text><text fill=\"#000000\" font-family=\"sans-serif\" font-size=\"12\" lengthAdjust=\"spacingAndGlyphs\" textLength=\"8\" x=\"108\" y=\"289.4674\">R</text><line style=\"stroke: #383838; stroke-width: 1.5;\" x1=\"52.5\" x2=\"171.5\" y1=\"297.2975\" y2=\"297.2975\"/><text fill=\"#000000\" font-family=\"sans-serif\" font-size=\"11\" lengthAdjust=\"spacingAndGlyphs\" textLength=\"0\" x=\"61.5\" y=\"311.5079\"/><line style=\"stroke: #383838; stroke-width: 1.0;\" x1=\"52.5\" x2=\"171.5\" y1=\"318.1022\" y2=\"318.1022\"/></a><!--MD5=[2156ba9850f5573cc1fc38a6a4b2f02b]\n",
       "class E7--><a href=\"psysml:70e6cc11-a878-4419-9a48-d32cb5df9816\" target=\"_top\" title=\"psysml:70e6cc11-a878-4419-9a48-d32cb5df9816\" xlink:actuate=\"onRequest\" xlink:href=\"psysml:70e6cc11-a878-4419-9a48-d32cb5df9816\" xlink:show=\"new\" xlink:title=\"psysml:70e6cc11-a878-4419-9a48-d32cb5df9816\" xlink:type=\"simple\"><rect fill=\"#FFFFFF\" height=\"45.9375\" id=\"E7\" rx=\"10\" ry=\"10\" style=\"stroke: #383838; stroke-width: 1.5;\" width=\"93\" x=\"43.5\" y=\"353.86\"/><text fill=\"#000000\" font-family=\"sans-serif\" font-size=\"12\" font-style=\"italic\" lengthAdjust=\"spacingAndGlyphs\" textLength=\"91\" x=\"44.5\" y=\"369.9987\">«requirement»</text><text fill=\"#000000\" font-family=\"sans-serif\" font-size=\"12\" lengthAdjust=\"spacingAndGlyphs\" text-decoration=\"line-through\" textLength=\"51\" x=\"64.5\" y=\"383.9674\">noname</text><line style=\"stroke: #383838; stroke-width: 1.5;\" x1=\"44.5\" x2=\"135.5\" y1=\"391.7975\" y2=\"391.7975\"/></a><!--MD5=[b9389687b975829384b498ac4b7476b2]\n",
       "class E8--><a href=\"psysml:5c5c4776-1d3a-4700-8516-1d3a67d779f4\" target=\"_top\" title=\"psysml:5c5c4776-1d3a-4700-8516-1d3a67d779f4\" xlink:actuate=\"onRequest\" xlink:href=\"psysml:5c5c4776-1d3a-4700-8516-1d3a67d779f4\" xlink:show=\"new\" xlink:title=\"psysml:5c5c4776-1d3a-4700-8516-1d3a67d779f4\" xlink:type=\"simple\"><rect fill=\"#FFFFFF\" height=\"66.7422\" id=\"E8\" style=\"stroke: #383838; stroke-width: 1.5;\" width=\"121\" x=\"171.5\" y=\"343.36\"/><text fill=\"#000000\" font-family=\"sans-serif\" font-size=\"12\" font-style=\"italic\" lengthAdjust=\"spacingAndGlyphs\" textLength=\"119\" x=\"172.5\" y=\"359.4987\">«requirement  def»</text><text fill=\"#000000\" font-family=\"sans-serif\" font-size=\"12\" lengthAdjust=\"spacingAndGlyphs\" textLength=\"5\" x=\"219\" y=\"373.4674\">[</text><text fill=\"#000000\" font-family=\"sans-serif\" font-size=\"12\" font-weight=\"bold\" lengthAdjust=\"spacingAndGlyphs\" textLength=\"8\" x=\"224\" y=\"373.4674\">1</text><text fill=\"#000000\" font-family=\"sans-serif\" font-size=\"12\" lengthAdjust=\"spacingAndGlyphs\" textLength=\"17\" x=\"232\" y=\"373.4674\">] A</text><line style=\"stroke: #383838; stroke-width: 1.5;\" x1=\"172.5\" x2=\"291.5\" y1=\"381.2975\" y2=\"381.2975\"/><text fill=\"#000000\" font-family=\"sans-serif\" font-size=\"11\" lengthAdjust=\"spacingAndGlyphs\" textLength=\"24\" x=\"177.5\" y=\"395.5079\">Text</text><line style=\"stroke: #383838; stroke-width: 1.0;\" x1=\"172.5\" x2=\"291.5\" y1=\"402.1022\" y2=\"402.1022\"/></a><!--MD5=[fd4143e9d270a159db93a4ea2a975926]\n",
       "class E9--><a href=\"psysml:f2fc2205-4b84-4313-b340-24ee025c15cf\" target=\"_top\" title=\"psysml:f2fc2205-4b84-4313-b340-24ee025c15cf\" xlink:actuate=\"onRequest\" xlink:href=\"psysml:f2fc2205-4b84-4313-b340-24ee025c15cf\" xlink:show=\"new\" xlink:title=\"psysml:f2fc2205-4b84-4313-b340-24ee025c15cf\" xlink:type=\"simple\"><rect fill=\"#FFFFFF\" height=\"45.9375\" id=\"E9\" style=\"stroke: #383838; stroke-width: 1.5;\" width=\"121\" x=\"207.5\" y=\"269.86\"/><text fill=\"#000000\" font-family=\"sans-serif\" font-size=\"12\" font-style=\"italic\" lengthAdjust=\"spacingAndGlyphs\" textLength=\"119\" x=\"208.5\" y=\"285.9987\">«requirement  def»</text><text fill=\"#000000\" font-family=\"sans-serif\" font-size=\"12\" lengthAdjust=\"spacingAndGlyphs\" textLength=\"16\" x=\"260\" y=\"299.9674\">R1</text><line style=\"stroke: #383838; stroke-width: 1.5;\" x1=\"208.5\" x2=\"327.5\" y1=\"307.7975\" y2=\"307.7975\"/></a><!--MD5=[bee11217b2f71d958a27249dc326068c]\n",
       "class E14--><a href=\"psysml:5c4fb90e-2e7f-411e-8437-1e0e9b0bd00e\" target=\"_top\" title=\"psysml:5c4fb90e-2e7f-411e-8437-1e0e9b0bd00e\" xlink:actuate=\"onRequest\" xlink:href=\"psysml:5c4fb90e-2e7f-411e-8437-1e0e9b0bd00e\" xlink:show=\"new\" xlink:title=\"psysml:5c4fb90e-2e7f-411e-8437-1e0e9b0bd00e\" xlink:type=\"simple\"><rect fill=\"#FFFFFF\" height=\"45.9375\" id=\"E14\" rx=\"10\" ry=\"10\" style=\"stroke: #383838; stroke-width: 1.5;\" width=\"93\" x=\"212.5\" y=\"156.36\"/><text fill=\"#000000\" font-family=\"sans-serif\" font-size=\"12\" font-style=\"italic\" lengthAdjust=\"spacingAndGlyphs\" textLength=\"91\" x=\"213.5\" y=\"172.4987\">«requirement»</text><text fill=\"#000000\" font-family=\"sans-serif\" font-size=\"12\" lengthAdjust=\"spacingAndGlyphs\" textLength=\"37\" x=\"238.5\" y=\"186.4674\">r1: R1</text><line style=\"stroke: #383838; stroke-width: 1.5;\" x1=\"213.5\" x2=\"304.5\" y1=\"194.2975\" y2=\"194.2975\"/></a><g id=\"E1.E11\"><a href=\"psysml:4203d305-f881-4dfa-bcc5-a82b5aac35c4\" target=\"_top\" title=\"psysml:4203d305-f881-4dfa-bcc5-a82b5aac35c4\" xlink:actuate=\"onRequest\" xlink:href=\"psysml:4203d305-f881-4dfa-bcc5-a82b5aac35c4\" xlink:show=\"new\" xlink:title=\"psysml:4203d305-f881-4dfa-bcc5-a82b5aac35c4\" xlink:type=\"simple\"><rect fill=\"#FFFFFF\" height=\"40\" id=\"E11\" rx=\"10\" ry=\"10\" style=\"stroke: #383838; stroke-width: 1.5;\" width=\"50\" x=\"276\" y=\"64.36\"/><rect fill=\"#F8F8F8\" height=\"23.9688\" rx=\"10\" ry=\"10\" style=\"stroke: #F8F8F8; stroke-width: 1.5;\" width=\"50\" x=\"276\" y=\"64.36\"/><rect fill=\"#F8F8F8\" height=\"10\" style=\"stroke: #F8F8F8; stroke-width: 1.5;\" width=\"50\" x=\"276\" y=\"78.3288\"/><rect fill=\"none\" height=\"40\" id=\"E11\" rx=\"10\" ry=\"10\" style=\"stroke: #383838; stroke-width: 1.5;\" width=\"50\" x=\"276\" y=\"64.36\"/><text fill=\"#000000\" font-family=\"sans-serif\" font-size=\"12\" lengthAdjust=\"spacingAndGlyphs\" textLength=\"8\" x=\"297\" y=\"80.4987\">p</text></a></g><!--MD5=[ee3c913d1a06f366521f9ef512b67efe]\n",
       "class E13--><a href=\"psysml:aee31540-9ea4-41ee-8ebb-8555bfaf03fb\" target=\"_top\" title=\"psysml:aee31540-9ea4-41ee-8ebb-8555bfaf03fb\" xlink:actuate=\"onRequest\" xlink:href=\"psysml:aee31540-9ea4-41ee-8ebb-8555bfaf03fb\" xlink:show=\"new\" xlink:title=\"psysml:aee31540-9ea4-41ee-8ebb-8555bfaf03fb\" xlink:type=\"simple\"><rect fill=\"#FFFFFF\" height=\"45.9375\" id=\"E13\" rx=\"10\" ry=\"10\" style=\"stroke: #383838; stroke-width: 1.5;\" width=\"93\" x=\"71.5\" y=\"156.36\"/><text fill=\"#000000\" font-family=\"sans-serif\" font-size=\"12\" font-style=\"italic\" lengthAdjust=\"spacingAndGlyphs\" textLength=\"91\" x=\"72.5\" y=\"172.4987\">«requirement»</text><text fill=\"#000000\" font-family=\"sans-serif\" font-size=\"12\" lengthAdjust=\"spacingAndGlyphs\" textLength=\"21\" x=\"105.5\" y=\"186.4674\">r: R</text><line style=\"stroke: #383838; stroke-width: 1.5;\" x1=\"72.5\" x2=\"163.5\" y1=\"194.2975\" y2=\"194.2975\"/></a><!--MD5=[05d275557350bfb9b23a4ef7222b4c39]\n",
       "link E3 to E2--><a href=\"psysml:1cfa9d08-8b1e-49ae-8f22-7ec5c2d68c94\" target=\"_top\" title=\"psysml:1cfa9d08-8b1e-49ae-8f22-7ec5c2d68c94\" xlink:actuate=\"onRequest\" xlink:href=\"psysml:1cfa9d08-8b1e-49ae-8f22-7ec5c2d68c94\" xlink:show=\"new\" xlink:title=\"psysml:1cfa9d08-8b1e-49ae-8f22-7ec5c2d68c94\" xlink:type=\"simple\"><path d=\"M413.75,107.84 C413.75,107.84 413.75,137.77 413.75,137.77 \" fill=\"none\" id=\"E3-&gt;E2\" style=\"stroke: #383838; stroke-width: 1.0;\"/><polygon fill=\"#FFFFFF\" points=\"413.75,157.77,406.75,138.77,420.75,138.77,413.75,157.77\" style=\"stroke: #383838; stroke-width: 1.0;\"/><ellipse cx=\"408.75\" cy=\"133.07\" fill=\"#383838\" rx=\"2\" ry=\"2\" style=\"stroke: #383838; stroke-width: 1.0;\"/><ellipse cx=\"418.75\" cy=\"133.07\" fill=\"#383838\" rx=\"2\" ry=\"2\" style=\"stroke: #383838; stroke-width: 1.0;\"/></a><!--MD5=[722ff4eef345aa10242dad44df0e98c7]\n",
       "reverse link E4 to E7--><a href=\"psysml:8957256b-d423-4c87-844e-8026b3f5c553\" target=\"_top\" title=\"psysml:8957256b-d423-4c87-844e-8026b3f5c553\" xlink:actuate=\"onRequest\" xlink:href=\"psysml:8957256b-d423-4c87-844e-8026b3f5c553\" xlink:show=\"new\" xlink:title=\"psysml:8957256b-d423-4c87-844e-8026b3f5c553\" xlink:type=\"simple\"><path d=\"M94,339.54 C94,339.54 94,353.75 94,353.75 \" fill=\"none\" id=\"E4&lt;-E7\" style=\"stroke: #383838; stroke-width: 1.0;\"/><polygon fill=\"#383838\" points=\"94,326.54,90,332.54,94,338.54,98,332.54,94,326.54\" style=\"stroke: #383838; stroke-width: 1.0;\"/><text fill=\"#000000\" font-family=\"sans-serif\" font-size=\"13\" lengthAdjust=\"spacingAndGlyphs\" textLength=\"7\" x=\"87.1344\" y=\"342.6167\">*</text></a><!--MD5=[c6fc7cdb0cabde04948078cf183fa696]\n",
       "reverse link E4 to E8--><a href=\"psysml:e7993699-2e90-4c6e-9ce7-c90f60868f83\" target=\"_top\" title=\"psysml:e7993699-2e90-4c6e-9ce7-c90f60868f83\" xlink:actuate=\"onRequest\" xlink:href=\"psysml:e7993699-2e90-4c6e-9ce7-c90f60868f83\" xlink:show=\"new\" xlink:title=\"psysml:e7993699-2e90-4c6e-9ce7-c90f60868f83\" xlink:type=\"simple\"><path d=\"M187.69,321.36 C187.69,321.36 190,321.36 190,321.36 C190,321.36 190,331.61 190,343.3 \" fill=\"none\" id=\"E4&lt;-E8\" style=\"stroke: #383838; stroke-width: 1.0;\"/><ellipse cx=\"180.69\" cy=\"321.36\" fill=\"#FFFFFF\" rx=\"8\" ry=\"8\" style=\"stroke: #383838; stroke-width: 1.0;\"/><line style=\"stroke: #383838; stroke-width: 1.0;\" x1=\"188.69\" x2=\"172.69\" y1=\"321.36\" y2=\"321.36\"/><line style=\"stroke: #383838; stroke-width: 1.0;\" x1=\"180.69\" x2=\"180.69\" y1=\"329.36\" y2=\"313.36\"/></a><!--MD5=[017847e01ff9a8bd19f247411074f987]\n",
       "link E13 to E4--><a href=\"psysml:e01bb7f1-206a-408f-a898-0799ec242df4\" target=\"_top\" title=\"psysml:e01bb7f1-206a-408f-a898-0799ec242df4\" xlink:actuate=\"onRequest\" xlink:href=\"psysml:e01bb7f1-206a-408f-a898-0799ec242df4\" xlink:show=\"new\" xlink:title=\"psysml:e01bb7f1-206a-408f-a898-0799ec242df4\" xlink:type=\"simple\"><path d=\"M118,202.6 C118,202.6 118,239.32 118,239.32 \" fill=\"none\" id=\"E13-&gt;E4\" style=\"stroke: #383838; stroke-width: 1.0;\"/><polygon fill=\"#FFFFFF\" points=\"118,259.32,111,240.32,125,240.32,118,259.32\" style=\"stroke: #383838; stroke-width: 1.0;\"/><ellipse cx=\"113\" cy=\"234.62\" fill=\"#383838\" rx=\"2\" ry=\"2\" style=\"stroke: #383838; stroke-width: 1.0;\"/><ellipse cx=\"123\" cy=\"234.62\" fill=\"#383838\" rx=\"2\" ry=\"2\" style=\"stroke: #383838; stroke-width: 1.0;\"/></a><!--MD5=[60f911bb19596b289db4a22769f8105a]\n",
       "link E11 to E13--><a href=\"psysml:e806deaf-0ce2-4d10-9e57-833502fc32ee\" target=\"_top\" title=\"psysml:e806deaf-0ce2-4d10-9e57-833502fc32ee\" xlink:actuate=\"onRequest\" xlink:href=\"psysml:e806deaf-0ce2-4d10-9e57-833502fc32ee\" xlink:show=\"new\" xlink:title=\"psysml:e806deaf-0ce2-4d10-9e57-833502fc32ee\" xlink:type=\"simple\"><path d=\"M275.77,95.36 C232.85,95.36 150.25,95.36 150.25,95.36 C150.25,95.36 150.25,150.96 150.25,150.96 \" fill=\"none\" id=\"E11-&gt;E13\" style=\"stroke: #383838; stroke-width: 1.0; stroke-dasharray: 7.0,7.0;\"/><polygon fill=\"#383838\" points=\"150.25,155.96,154.25,146.96,150.25,150.96,146.25,146.96,150.25,155.96\" style=\"stroke: #383838; stroke-width: 1.0;\"/><text fill=\"#000000\" font-family=\"sans-serif\" font-size=\"13\" lengthAdjust=\"spacingAndGlyphs\" textLength=\"57\" x=\"290\" y=\"128.4269\">«satisfy»</text></a><!--MD5=[e2a9ac97dcd3257bb5342dae06547bad]\n",
       "link E12 to E13--><a href=\"psysml:f5a4eec3-f375-4f03-819b-6c5c8dc7728c\" target=\"_top\" title=\"psysml:f5a4eec3-f375-4f03-819b-6c5c8dc7728c\" xlink:actuate=\"onRequest\" xlink:href=\"psysml:f5a4eec3-f375-4f03-819b-6c5c8dc7728c\" xlink:show=\"new\" xlink:title=\"psysml:f5a4eec3-f375-4f03-819b-6c5c8dc7728c\" xlink:type=\"simple\"><path d=\"M135,84.97 C135,84.97 135,150.91 135,150.91 \" fill=\"none\" id=\"E12-&gt;E13\" style=\"stroke: #383838; stroke-width: 1.0; stroke-dasharray: 7.0,7.0;\"/><polygon fill=\"#383838\" points=\"135,155.91,139,146.91,135,150.91,131,146.91,135,155.91\" style=\"stroke: #383838; stroke-width: 1.0;\"/><text fill=\"#000000\" font-family=\"sans-serif\" font-size=\"13\" lengthAdjust=\"spacingAndGlyphs\" textLength=\"57\" x=\"92\" y=\"128.4269\">«satisfy»</text></a><!--MD5=[0c677eb374079406c87b74cd1f5a339d]\n",
       "link E14 to E9--><a href=\"psysml:d6ece11e-fb98-4dd6-9106-0f6846b0bd9f\" target=\"_top\" title=\"psysml:d6ece11e-fb98-4dd6-9106-0f6846b0bd9f\" xlink:actuate=\"onRequest\" xlink:href=\"psysml:d6ece11e-fb98-4dd6-9106-0f6846b0bd9f\" xlink:show=\"new\" xlink:title=\"psysml:d6ece11e-fb98-4dd6-9106-0f6846b0bd9f\" xlink:type=\"simple\"><path d=\"M259,202.6 C259,202.6 259,249.65 259,249.65 \" fill=\"none\" id=\"E14-&gt;E9\" style=\"stroke: #383838; stroke-width: 1.0;\"/><polygon fill=\"#FFFFFF\" points=\"259,269.65,252,250.65,266,250.65,259,269.65\" style=\"stroke: #383838; stroke-width: 1.0;\"/><ellipse cx=\"254\" cy=\"244.95\" fill=\"#383838\" rx=\"2\" ry=\"2\" style=\"stroke: #383838; stroke-width: 1.0;\"/><ellipse cx=\"264\" cy=\"244.95\" fill=\"#383838\" rx=\"2\" ry=\"2\" style=\"stroke: #383838; stroke-width: 1.0;\"/></a><!--MD5=[9c1c40551dcf5c2fca147626a786a7cd]\n",
       "link E11 to E14--><a href=\"psysml:feaea2f2-720b-4dbc-ba1d-0aec40f00046\" target=\"_top\" title=\"psysml:feaea2f2-720b-4dbc-ba1d-0aec40f00046\" xlink:actuate=\"onRequest\" xlink:href=\"psysml:feaea2f2-720b-4dbc-ba1d-0aec40f00046\" xlink:show=\"new\" xlink:title=\"psysml:feaea2f2-720b-4dbc-ba1d-0aec40f00046\" xlink:type=\"simple\"><path d=\"M290.75,104.51 C290.75,104.51 290.75,151.23 290.75,151.23 \" fill=\"none\" id=\"E11-&gt;E14\" style=\"stroke: #383838; stroke-width: 1.0; stroke-dasharray: 7.0,7.0;\"/><polygon fill=\"#383838\" points=\"290.75,156.23,294.75,147.23,290.75,151.23,286.75,147.23,290.75,156.23\" style=\"stroke: #383838; stroke-width: 1.0;\"/><text fill=\"#000000\" font-family=\"sans-serif\" font-size=\"13\" lengthAdjust=\"spacingAndGlyphs\" textLength=\"57\" x=\"389\" y=\"128.4269\">«satisfy»</text></a><!--MD5=[d53cb08dffc8689d16e38c8e194e9adc]\n",
       "link E12 to E14--><a href=\"psysml:f5704f7b-2601-4abd-90b0-2ec51a978e80\" target=\"_top\" title=\"psysml:f5704f7b-2601-4abd-90b0-2ec51a978e80\" xlink:actuate=\"onRequest\" xlink:href=\"psysml:f5704f7b-2601-4abd-90b0-2ec51a978e80\" xlink:show=\"new\" xlink:title=\"psysml:f5704f7b-2601-4abd-90b0-2ec51a978e80\" xlink:type=\"simple\"><path d=\"M188.5843,84.36 C190.2111,84.36 191.8391,84.36 193.4625,84.36 C219.4375,84.36 244.25,84.36 244.25,84.36 C244.25,84.36 244.25,150.88 244.25,150.88 \" fill=\"none\" id=\"E12-&gt;E14\" style=\"stroke: #383838; stroke-width: 1.0; stroke-dasharray: 7.0,7.0;\"/><polygon fill=\"#383838\" points=\"244.25,155.88,248.25,146.88,244.25,150.88,240.25,146.88,244.25,155.88\" style=\"stroke: #383838; stroke-width: 1.0;\"/><text fill=\"#000000\" font-family=\"sans-serif\" font-size=\"13\" lengthAdjust=\"spacingAndGlyphs\" textLength=\"57\" x=\"191\" y=\"128.4269\">«satisfy»</text></a><!--MD5=[2b61d77766b5ecd5c578f6bfcbf17517]\n",
       "@startuml\r\n",
       "skinparam ranksep 10\r\n",
       "skinparam rectangle {\r\n",
       " backgroundColor<<block>> LightGreen\r\n",
       "}\r\n",
       "skinparam linetype ortho\r\n",
       "skinparam monochrome true\r\n",
       "skinparam classbackgroundcolor white\r\n",
       "skinparam shadowing false\r\n",
       "skinparam wrapWidth 300\r\n",
       "hide circle\r\n",
       "\r\n",
       "package \"RequirementTest\" as E1  [[psysml:2a075407-fc8d-47b4-b4de-e1839d24b848 ]]  {\r\n",
       "def \"C\" as E2  <<(T,blue) constraint  def>> [[psysml:8e8b9929-fb62-44f3-bb6e-73f88688eaf1 ]] \r\n",
       "comp usage \"c: C \" as E3  <<(T,blue) constraint>> [[psysml:8dab2afb-478b-48f2-a7f7-bb2b245c05ea ]] {\r\n",
       "}\r\n",
       "comp def \"R\" as E4  <<(T,blue) requirement  def>> [[psysml:cae76f8a-948f-454f-8648-301efab5060e ]] {\r\n",
       "\r\n",
       "- -\r\n",
       "}\r\n",
       "comp usage \"<s>noname</s>\" as E7  <<(T,blue) requirement>> [[psysml:70e6cc11-a878-4419-9a48-d32cb5df9816 ]] {\r\n",
       "}\r\n",
       "comp def \" [<b>1</b>] A\" as E8  <<(T,blue) requirement  def>> [[psysml:5c5c4776-1d3a-4700-8516-1d3a67d779f4 ]] {\r\n",
       "Text\r\n",
       "- -\r\n",
       "}\r\n",
       "comp def \"R1\" as E9  <<(T,blue) requirement  def>> [[psysml:f2fc2205-4b84-4313-b340-24ee025c15cf ]] {\r\n",
       "}\r\n",
       "rec usage \"p\" as E11  [[psysml:4203d305-f881-4dfa-bcc5-a82b5aac35c4 ]] {\r\n",
       "}\r\n",
       "rec usage \"q\" as E12  [[psysml:d0dbee69-5f2e-4ac4-ba4b-4aca7380bae7 ]] {\r\n",
       "comp usage \"r: R \" as E13  <<(T,blue) requirement>> [[psysml:aee31540-9ea4-41ee-8ebb-8555bfaf03fb ]] {\r\n",
       "}\r\n",
       "}\r\n",
       "comp usage \"r1: R1 \" as E14  <<(T,blue) requirement>> [[psysml:5c4fb90e-2e7f-411e-8437-1e0e9b0bd00e ]] {\r\n",
       "}\r\n",
       "}\r\n",
       "E3 - -:|> E2 [[psysml:1cfa9d08-8b1e-49ae-8f22-7ec5c2d68c94 ]] \r\n",
       "E4 *- - \"*\"E7 [[psysml:8957256b-d423-4c87-844e-8026b3f5c553 ]] \r\n",
       "E4 +- - E8 [[psysml:e7993699-2e90-4c6e-9ce7-c90f60868f83 ]] \r\n",
       "E13 - -:|> E4 [[psysml:e01bb7f1-206a-408f-a898-0799ec242df4 ]] \r\n",
       "E11 ..> E13 [[psysml:e806deaf-0ce2-4d10-9e57-833502fc32ee ]] : <<satisfy>>\r\n",
       "E12 ..> E13 [[psysml:f5a4eec3-f375-4f03-819b-6c5c8dc7728c ]] : <<satisfy>>\r\n",
       "E14 - -:|> E9 [[psysml:d6ece11e-fb98-4dd6-9106-0f6846b0bd9f ]] \r\n",
       "E11 ..> E14 [[psysml:feaea2f2-720b-4dbc-ba1d-0aec40f00046 ]] : <<satisfy>>\r\n",
       "E12 ..> E14 [[psysml:f5704f7b-2601-4abd-90b0-2ec51a978e80 ]] : <<satisfy>>\r\n",
       "@enduml\r\n",
       "\n",
       "PlantUML version 1.2020.13(Sat Jun 13 12:26:38 UTC 2020)\n",
       "(EPL source distribution)\n",
       "Java Runtime: OpenJDK Runtime Environment\n",
       "JVM: OpenJDK 64-Bit Server VM\n",
       "Default Encoding: UTF-8\n",
       "Language: en\n",
       "Country: null\n",
       "--></g></svg>"
      ]
     },
     "execution_count": 54,
     "metadata": {},
     "output_type": "execute_result"
    }
   ],
   "source": [
    "%viz --style=\"ORTHOLINE\" --view=\"Interconnection\" \"RequirementTest\""
   ]
  },
  {
   "cell_type": "code",
   "execution_count": 55,
   "id": "bfb06abe",
   "metadata": {
    "execution": {
     "iopub.execute_input": "2021-10-25T08:21:15.866654Z",
     "iopub.status.busy": "2021-10-25T08:21:15.866161Z",
     "iopub.status.idle": "2021-10-25T08:21:15.872490Z",
     "shell.execute_reply": "2021-10-25T08:21:15.872109Z"
    }
   },
   "outputs": [
    {
     "data": {
      "image/svg+xml": [
       "<?xml version=\"1.0\" encoding=\"UTF-8\" standalone=\"no\"?><svg xmlns=\"http://www.w3.org/2000/svg\" xmlns:xlink=\"http://www.w3.org/1999/xlink\" contentScriptType=\"application/ecmascript\" contentStyleType=\"text/css\" height=\"12px\" preserveAspectRatio=\"none\" style=\"width:12px;height:12px;\" version=\"1.1\" viewBox=\"0 0 12 12\" width=\"12px\" zoomAndPan=\"magnify\"><defs/><g><!--MD5=[72934c63077099a26744516a776b4749]\n",
       "@startuml\r\n",
       "skinparam ranksep 8\r\n",
       "skinparam linetype ortho\r\n",
       "skinparam monochrome true\r\n",
       "skinparam classbackgroundcolor white\r\n",
       "skinparam shadowing false\r\n",
       "skinparam wrapWidth 300\r\n",
       "hide circle\r\n",
       "\r\n",
       "@enduml\r\n",
       "\n",
       "PlantUML version 1.2020.13(Sat Jun 13 12:26:38 UTC 2020)\n",
       "(EPL source distribution)\n",
       "Java Runtime: OpenJDK Runtime Environment\n",
       "JVM: OpenJDK 64-Bit Server VM\n",
       "Default Encoding: UTF-8\n",
       "Language: en\n",
       "Country: null\n",
       "--></g></svg>"
      ]
     },
     "execution_count": 55,
     "metadata": {},
     "output_type": "execute_result"
    }
   ],
   "source": [
    "%viz --style=\"ORTHOLINE\" --view=\"Action\" \"RequirementTest\""
   ]
  },
  {
   "cell_type": "code",
   "execution_count": 56,
   "id": "3dd2ea81",
   "metadata": {
    "execution": {
     "iopub.execute_input": "2021-10-25T08:21:15.921024Z",
     "iopub.status.busy": "2021-10-25T08:21:15.920606Z",
     "iopub.status.idle": "2021-10-25T08:21:15.926066Z",
     "shell.execute_reply": "2021-10-25T08:21:15.925707Z"
    }
   },
   "outputs": [
    {
     "data": {
      "image/svg+xml": [
       "<?xml version=\"1.0\" encoding=\"UTF-8\" standalone=\"no\"?><svg xmlns=\"http://www.w3.org/2000/svg\" xmlns:xlink=\"http://www.w3.org/1999/xlink\" contentScriptType=\"application/ecmascript\" contentStyleType=\"text/css\" height=\"12px\" preserveAspectRatio=\"none\" style=\"width:12px;height:12px;\" version=\"1.1\" viewBox=\"0 0 12 12\" width=\"12px\" zoomAndPan=\"magnify\"><defs/><g><!--MD5=[30fc1de5121c5abddedd55b44417fde8]\n",
       "@startuml\r\n",
       "skinparam roundcorner 20\r\n",
       "skinparam BoxPadding 20\r\n",
       "skinparam SequenceBoxBackgroundColor #white\r\n",
       "skinparam style strictuml\r\n",
       "skinparam maxMessageSize 100\r\n",
       "skinparam linetype ortho\r\n",
       "skinparam monochrome true\r\n",
       "skinparam classbackgroundcolor white\r\n",
       "skinparam shadowing false\r\n",
       "skinparam wrapWidth 300\r\n",
       "hide circle\r\n",
       "\r\n",
       "@enduml\r\n",
       "\n",
       "PlantUML version 1.2020.13(Sat Jun 13 12:26:38 UTC 2020)\n",
       "(EPL source distribution)\n",
       "Java Runtime: OpenJDK Runtime Environment\n",
       "JVM: OpenJDK 64-Bit Server VM\n",
       "Default Encoding: UTF-8\n",
       "Language: en\n",
       "Country: null\n",
       "--></g></svg>"
      ]
     },
     "execution_count": 56,
     "metadata": {},
     "output_type": "execute_result"
    }
   ],
   "source": [
    "%viz --style=\"ORTHOLINE\" --view=\"Sequence\" \"RequirementTest\""
   ]
  },
  {
   "cell_type": "code",
   "execution_count": 57,
   "id": "ef2115b5",
   "metadata": {
    "execution": {
     "iopub.execute_input": "2021-10-25T08:21:15.975731Z",
     "iopub.status.busy": "2021-10-25T08:21:15.975140Z",
     "iopub.status.idle": "2021-10-25T08:21:16.026738Z",
     "shell.execute_reply": "2021-10-25T08:21:16.026185Z"
    }
   },
   "outputs": [
    {
     "data": {
      "image/svg+xml": [
       "<?xml version=\"1.0\" encoding=\"UTF-8\" standalone=\"no\"?><svg xmlns=\"http://www.w3.org/2000/svg\" xmlns:xlink=\"http://www.w3.org/1999/xlink\" contentScriptType=\"application/ecmascript\" contentStyleType=\"text/css\" height=\"494px\" preserveAspectRatio=\"none\" style=\"width:475px;height:494px;\" version=\"1.1\" viewBox=\"0 0 475 494\" width=\"475px\" zoomAndPan=\"magnify\"><defs/><g><!--MD5=[fbc87193dbaf4d95561dea2c320d4a47]\n",
       "cluster E1--><a href=\"psysml:2a075407-fc8d-47b4-b4de-e1839d24b848\" target=\"_top\" title=\"psysml:2a075407-fc8d-47b4-b4de-e1839d24b848\" xlink:actuate=\"onRequest\" xlink:href=\"psysml:2a075407-fc8d-47b4-b4de-e1839d24b848\" xlink:show=\"new\" xlink:title=\"psysml:2a075407-fc8d-47b4-b4de-e1839d24b848\" xlink:type=\"simple\"><polygon fill=\"#FFFFFF\" points=\"16,6,143,6,150,28.2969,453,28.2969,453,482,16,482,16,6\" style=\"stroke: #000000; stroke-width: 1.5;\"/><line style=\"stroke: #000000; stroke-width: 1.5;\" x1=\"16\" x2=\"150\" y1=\"28.2969\" y2=\"28.2969\"/><text fill=\"#000000\" font-family=\"sans-serif\" font-size=\"14\" font-weight=\"bold\" lengthAdjust=\"spacingAndGlyphs\" textLength=\"121\" x=\"20\" y=\"20.9951\">RequirementTest</text></a><!--MD5=[b4997ac47864f28c2f74865a473b2911]\n",
       "class E2--><a href=\"psysml:8e8b9929-fb62-44f3-bb6e-73f88688eaf1\" target=\"_top\" title=\"psysml:8e8b9929-fb62-44f3-bb6e-73f88688eaf1\" xlink:actuate=\"onRequest\" xlink:href=\"psysml:8e8b9929-fb62-44f3-bb6e-73f88688eaf1\" xlink:show=\"new\" xlink:title=\"psysml:8e8b9929-fb62-44f3-bb6e-73f88688eaf1\" xlink:type=\"simple\"><rect fill=\"#FFFFFF\" height=\"45.9375\" id=\"E2\" style=\"stroke: #383838; stroke-width: 1.5;\" width=\"108\" x=\"329\" y=\"164\"/><text fill=\"#000000\" font-family=\"sans-serif\" font-size=\"12\" font-style=\"italic\" lengthAdjust=\"spacingAndGlyphs\" textLength=\"106\" x=\"330\" y=\"180.1387\">«constraint  def»</text><text fill=\"#000000\" font-family=\"sans-serif\" font-size=\"12\" lengthAdjust=\"spacingAndGlyphs\" textLength=\"8\" x=\"379\" y=\"194.1074\">C</text><line style=\"stroke: #383838; stroke-width: 1.5;\" x1=\"330\" x2=\"436\" y1=\"201.9375\" y2=\"201.9375\"/></a><!--MD5=[09b614a08d8cba4a07c9adeb5e0fee81]\n",
       "class E3--><a href=\"psysml:8dab2afb-478b-48f2-a7f7-bb2b245c05ea\" target=\"_top\" title=\"psysml:8dab2afb-478b-48f2-a7f7-bb2b245c05ea\" xlink:actuate=\"onRequest\" xlink:href=\"psysml:8dab2afb-478b-48f2-a7f7-bb2b245c05ea\" xlink:show=\"new\" xlink:title=\"psysml:8dab2afb-478b-48f2-a7f7-bb2b245c05ea\" xlink:type=\"simple\"><rect fill=\"#FFFFFF\" height=\"45.9375\" id=\"E3\" rx=\"10\" ry=\"10\" style=\"stroke: #383838; stroke-width: 1.5;\" width=\"80\" x=\"357\" y=\"41\"/><text fill=\"#000000\" font-family=\"sans-serif\" font-size=\"12\" font-style=\"italic\" lengthAdjust=\"spacingAndGlyphs\" textLength=\"78\" x=\"358\" y=\"57.1387\">«constraint»</text><text fill=\"#000000\" font-family=\"sans-serif\" font-size=\"12\" lengthAdjust=\"spacingAndGlyphs\" textLength=\"23\" x=\"383.5\" y=\"71.1074\">c: C</text><line style=\"stroke: #383838; stroke-width: 1.5;\" x1=\"358\" x2=\"436\" y1=\"78.9375\" y2=\"78.9375\"/></a><!--MD5=[ebbe1d658d1005bcc118a6aa81145e00]\n",
       "class E4--><a href=\"psysml:cae76f8a-948f-454f-8648-301efab5060e\" target=\"_top\" title=\"psysml:cae76f8a-948f-454f-8648-301efab5060e\" xlink:actuate=\"onRequest\" xlink:href=\"psysml:cae76f8a-948f-454f-8648-301efab5060e\" xlink:show=\"new\" xlink:title=\"psysml:cae76f8a-948f-454f-8648-301efab5060e\" xlink:type=\"simple\"><rect fill=\"#FFFFFF\" height=\"66.7422\" id=\"E4\" style=\"stroke: #383838; stroke-width: 1.5;\" width=\"121\" x=\"188.5\" y=\"271\"/><text fill=\"#000000\" font-family=\"sans-serif\" font-size=\"12\" font-style=\"italic\" lengthAdjust=\"spacingAndGlyphs\" textLength=\"119\" x=\"189.5\" y=\"287.1387\">«requirement  def»</text><text fill=\"#000000\" font-family=\"sans-serif\" font-size=\"12\" lengthAdjust=\"spacingAndGlyphs\" textLength=\"8\" x=\"245\" y=\"301.1074\">R</text><line style=\"stroke: #383838; stroke-width: 1.5;\" x1=\"189.5\" x2=\"308.5\" y1=\"308.9375\" y2=\"308.9375\"/><text fill=\"#000000\" font-family=\"sans-serif\" font-size=\"11\" lengthAdjust=\"spacingAndGlyphs\" textLength=\"0\" x=\"198.5\" y=\"323.1479\"/><line style=\"stroke: #383838; stroke-width: 1.0;\" x1=\"189.5\" x2=\"308.5\" y1=\"329.7422\" y2=\"329.7422\"/></a><!--MD5=[2156ba9850f5573cc1fc38a6a4b2f02b]\n",
       "class E7--><a href=\"psysml:70e6cc11-a878-4419-9a48-d32cb5df9816\" target=\"_top\" title=\"psysml:70e6cc11-a878-4419-9a48-d32cb5df9816\" xlink:actuate=\"onRequest\" xlink:href=\"psysml:70e6cc11-a878-4419-9a48-d32cb5df9816\" xlink:show=\"new\" xlink:title=\"psysml:70e6cc11-a878-4419-9a48-d32cb5df9816\" xlink:type=\"simple\"><rect fill=\"#FFFFFF\" height=\"45.9375\" id=\"E7\" rx=\"10\" ry=\"10\" style=\"stroke: #383838; stroke-width: 1.5;\" width=\"93\" x=\"144.5\" y=\"409.5\"/><text fill=\"#000000\" font-family=\"sans-serif\" font-size=\"12\" font-style=\"italic\" lengthAdjust=\"spacingAndGlyphs\" textLength=\"91\" x=\"145.5\" y=\"425.6387\">«requirement»</text><text fill=\"#000000\" font-family=\"sans-serif\" font-size=\"12\" lengthAdjust=\"spacingAndGlyphs\" text-decoration=\"line-through\" textLength=\"51\" x=\"165.5\" y=\"439.6074\">noname</text><line style=\"stroke: #383838; stroke-width: 1.5;\" x1=\"145.5\" x2=\"236.5\" y1=\"447.4375\" y2=\"447.4375\"/></a><!--MD5=[b9389687b975829384b498ac4b7476b2]\n",
       "class E8--><a href=\"psysml:5c5c4776-1d3a-4700-8516-1d3a67d779f4\" target=\"_top\" title=\"psysml:5c5c4776-1d3a-4700-8516-1d3a67d779f4\" xlink:actuate=\"onRequest\" xlink:href=\"psysml:5c5c4776-1d3a-4700-8516-1d3a67d779f4\" xlink:show=\"new\" xlink:title=\"psysml:5c5c4776-1d3a-4700-8516-1d3a67d779f4\" xlink:type=\"simple\"><rect fill=\"#FFFFFF\" height=\"66.7422\" id=\"E8\" style=\"stroke: #383838; stroke-width: 1.5;\" width=\"121\" x=\"272.5\" y=\"399\"/><text fill=\"#000000\" font-family=\"sans-serif\" font-size=\"12\" font-style=\"italic\" lengthAdjust=\"spacingAndGlyphs\" textLength=\"119\" x=\"273.5\" y=\"415.1387\">«requirement  def»</text><text fill=\"#000000\" font-family=\"sans-serif\" font-size=\"12\" lengthAdjust=\"spacingAndGlyphs\" textLength=\"5\" x=\"320\" y=\"429.1074\">[</text><text fill=\"#000000\" font-family=\"sans-serif\" font-size=\"12\" font-weight=\"bold\" lengthAdjust=\"spacingAndGlyphs\" textLength=\"8\" x=\"325\" y=\"429.1074\">1</text><text fill=\"#000000\" font-family=\"sans-serif\" font-size=\"12\" lengthAdjust=\"spacingAndGlyphs\" textLength=\"17\" x=\"333\" y=\"429.1074\">] A</text><line style=\"stroke: #383838; stroke-width: 1.5;\" x1=\"273.5\" x2=\"392.5\" y1=\"436.9375\" y2=\"436.9375\"/><text fill=\"#000000\" font-family=\"sans-serif\" font-size=\"11\" lengthAdjust=\"spacingAndGlyphs\" textLength=\"24\" x=\"278.5\" y=\"451.1479\">Text</text><line style=\"stroke: #383838; stroke-width: 1.0;\" x1=\"273.5\" x2=\"392.5\" y1=\"457.7422\" y2=\"457.7422\"/></a><!--MD5=[fd4143e9d270a159db93a4ea2a975926]\n",
       "class E9--><a href=\"psysml:f2fc2205-4b84-4313-b340-24ee025c15cf\" target=\"_top\" title=\"psysml:f2fc2205-4b84-4313-b340-24ee025c15cf\" xlink:actuate=\"onRequest\" xlink:href=\"psysml:f2fc2205-4b84-4313-b340-24ee025c15cf\" xlink:show=\"new\" xlink:title=\"psysml:f2fc2205-4b84-4313-b340-24ee025c15cf\" xlink:type=\"simple\"><rect fill=\"#FFFFFF\" height=\"45.9375\" id=\"E9\" style=\"stroke: #383838; stroke-width: 1.5;\" width=\"121\" x=\"32.5\" y=\"281.5\"/><text fill=\"#000000\" font-family=\"sans-serif\" font-size=\"12\" font-style=\"italic\" lengthAdjust=\"spacingAndGlyphs\" textLength=\"119\" x=\"33.5\" y=\"297.6387\">«requirement  def»</text><text fill=\"#000000\" font-family=\"sans-serif\" font-size=\"12\" lengthAdjust=\"spacingAndGlyphs\" textLength=\"16\" x=\"85\" y=\"311.6074\">R1</text><line style=\"stroke: #383838; stroke-width: 1.5;\" x1=\"33.5\" x2=\"152.5\" y1=\"319.4375\" y2=\"319.4375\"/></a><!--MD5=[1dd1bfd58a279cf63c5f349dbc8fc6a1]\n",
       "class E11--><a href=\"psysml:4203d305-f881-4dfa-bcc5-a82b5aac35c4\" target=\"_top\" title=\"psysml:4203d305-f881-4dfa-bcc5-a82b5aac35c4\" xlink:actuate=\"onRequest\" xlink:href=\"psysml:4203d305-f881-4dfa-bcc5-a82b5aac35c4\" xlink:show=\"new\" xlink:title=\"psysml:4203d305-f881-4dfa-bcc5-a82b5aac35c4\" xlink:type=\"simple\"><rect fill=\"#FFFFFF\" height=\"45.9375\" id=\"E11\" rx=\"10\" ry=\"10\" style=\"stroke: #383838; stroke-width: 1.5;\" width=\"42\" x=\"95\" y=\"41\"/><text fill=\"#000000\" font-family=\"sans-serif\" font-size=\"12\" font-style=\"italic\" lengthAdjust=\"spacingAndGlyphs\" textLength=\"40\" x=\"96\" y=\"57.1387\">«part»</text><text fill=\"#000000\" font-family=\"sans-serif\" font-size=\"12\" lengthAdjust=\"spacingAndGlyphs\" textLength=\"8\" x=\"112\" y=\"71.1074\">p</text><line style=\"stroke: #383838; stroke-width: 1.5;\" x1=\"96\" x2=\"136\" y1=\"78.9375\" y2=\"78.9375\"/></a><!--MD5=[49a0ec8f00dab7302a31f22d0f0fe584]\n",
       "class E12--><a href=\"psysml:d0dbee69-5f2e-4ac4-ba4b-4aca7380bae7\" target=\"_top\" title=\"psysml:d0dbee69-5f2e-4ac4-ba4b-4aca7380bae7\" xlink:actuate=\"onRequest\" xlink:href=\"psysml:d0dbee69-5f2e-4ac4-ba4b-4aca7380bae7\" xlink:show=\"new\" xlink:title=\"psysml:d0dbee69-5f2e-4ac4-ba4b-4aca7380bae7\" xlink:type=\"simple\"><rect fill=\"#FFFFFF\" height=\"45.9375\" id=\"E12\" rx=\"10\" ry=\"10\" style=\"stroke: #383838; stroke-width: 1.5;\" width=\"42\" x=\"280\" y=\"41\"/><text fill=\"#000000\" font-family=\"sans-serif\" font-size=\"12\" font-style=\"italic\" lengthAdjust=\"spacingAndGlyphs\" textLength=\"40\" x=\"281\" y=\"57.1387\">«part»</text><text fill=\"#000000\" font-family=\"sans-serif\" font-size=\"12\" lengthAdjust=\"spacingAndGlyphs\" textLength=\"8\" x=\"297\" y=\"71.1074\">q</text><line style=\"stroke: #383838; stroke-width: 1.5;\" x1=\"281\" x2=\"321\" y1=\"78.9375\" y2=\"78.9375\"/></a><!--MD5=[ee3c913d1a06f366521f9ef512b67efe]\n",
       "class E13--><a href=\"psysml:aee31540-9ea4-41ee-8ebb-8555bfaf03fb\" target=\"_top\" title=\"psysml:aee31540-9ea4-41ee-8ebb-8555bfaf03fb\" xlink:actuate=\"onRequest\" xlink:href=\"psysml:aee31540-9ea4-41ee-8ebb-8555bfaf03fb\" xlink:show=\"new\" xlink:title=\"psysml:aee31540-9ea4-41ee-8ebb-8555bfaf03fb\" xlink:type=\"simple\"><rect fill=\"#FFFFFF\" height=\"45.9375\" id=\"E13\" rx=\"10\" ry=\"10\" style=\"stroke: #383838; stroke-width: 1.5;\" width=\"93\" x=\"200.5\" y=\"164\"/><text fill=\"#000000\" font-family=\"sans-serif\" font-size=\"12\" font-style=\"italic\" lengthAdjust=\"spacingAndGlyphs\" textLength=\"91\" x=\"201.5\" y=\"180.1387\">«requirement»</text><text fill=\"#000000\" font-family=\"sans-serif\" font-size=\"12\" lengthAdjust=\"spacingAndGlyphs\" textLength=\"21\" x=\"234.5\" y=\"194.1074\">r: R</text><line style=\"stroke: #383838; stroke-width: 1.5;\" x1=\"201.5\" x2=\"292.5\" y1=\"201.9375\" y2=\"201.9375\"/></a><!--MD5=[bee11217b2f71d958a27249dc326068c]\n",
       "class E14--><a href=\"psysml:5c4fb90e-2e7f-411e-8437-1e0e9b0bd00e\" target=\"_top\" title=\"psysml:5c4fb90e-2e7f-411e-8437-1e0e9b0bd00e\" xlink:actuate=\"onRequest\" xlink:href=\"psysml:5c4fb90e-2e7f-411e-8437-1e0e9b0bd00e\" xlink:show=\"new\" xlink:title=\"psysml:5c4fb90e-2e7f-411e-8437-1e0e9b0bd00e\" xlink:type=\"simple\"><rect fill=\"#FFFFFF\" height=\"45.9375\" id=\"E14\" rx=\"10\" ry=\"10\" style=\"stroke: #383838; stroke-width: 1.5;\" width=\"93\" x=\"46.5\" y=\"164\"/><text fill=\"#000000\" font-family=\"sans-serif\" font-size=\"12\" font-style=\"italic\" lengthAdjust=\"spacingAndGlyphs\" textLength=\"91\" x=\"47.5\" y=\"180.1387\">«requirement»</text><text fill=\"#000000\" font-family=\"sans-serif\" font-size=\"12\" lengthAdjust=\"spacingAndGlyphs\" textLength=\"37\" x=\"72.5\" y=\"194.1074\">r1: R1</text><line style=\"stroke: #383838; stroke-width: 1.5;\" x1=\"47.5\" x2=\"138.5\" y1=\"201.9375\" y2=\"201.9375\"/></a><!--MD5=[05d275557350bfb9b23a4ef7222b4c39]\n",
       "link E3 to E2--><a href=\"psysml:1cfa9d08-8b1e-49ae-8f22-7ec5c2d68c94\" target=\"_top\" title=\"psysml:1cfa9d08-8b1e-49ae-8f22-7ec5c2d68c94\" xlink:actuate=\"onRequest\" xlink:href=\"psysml:1cfa9d08-8b1e-49ae-8f22-7ec5c2d68c94\" xlink:show=\"new\" xlink:title=\"psysml:1cfa9d08-8b1e-49ae-8f22-7ec5c2d68c94\" xlink:type=\"simple\"><path d=\"M397,87.14 C397,87.14 397,143.97 397,143.97 \" fill=\"none\" id=\"E3-&gt;E2\" style=\"stroke: #383838; stroke-width: 1.0;\"/><polygon fill=\"#FFFFFF\" points=\"397,163.97,390,144.97,404,144.97,397,163.97\" style=\"stroke: #383838; stroke-width: 1.0;\"/><ellipse cx=\"392\" cy=\"139.27\" fill=\"#383838\" rx=\"2\" ry=\"2\" style=\"stroke: #383838; stroke-width: 1.0;\"/><ellipse cx=\"402\" cy=\"139.27\" fill=\"#383838\" rx=\"2\" ry=\"2\" style=\"stroke: #383838; stroke-width: 1.0;\"/></a><!--MD5=[722ff4eef345aa10242dad44df0e98c7]\n",
       "reverse link E4 to E7--><a href=\"psysml:8957256b-d423-4c87-844e-8026b3f5c553\" target=\"_top\" title=\"psysml:8957256b-d423-4c87-844e-8026b3f5c553\" xlink:actuate=\"onRequest\" xlink:href=\"psysml:8957256b-d423-4c87-844e-8026b3f5c553\" xlink:show=\"new\" xlink:title=\"psysml:8957256b-d423-4c87-844e-8026b3f5c553\" xlink:type=\"simple\"><path d=\"M213,351.13 C213,351.13 213,409.19 213,409.19 \" fill=\"none\" id=\"E4&lt;-E7\" style=\"stroke: #383838; stroke-width: 1.0;\"/><polygon fill=\"#383838\" points=\"213,338.13,209,344.13,213,350.13,217,344.13,213,338.13\" style=\"stroke: #383838; stroke-width: 1.0;\"/><text fill=\"#000000\" font-family=\"sans-serif\" font-size=\"13\" lengthAdjust=\"spacingAndGlyphs\" textLength=\"7\" x=\"210.7406\" y=\"398.3869\">*</text></a><!--MD5=[c6fc7cdb0cabde04948078cf183fa696]\n",
       "reverse link E4 to E8--><a href=\"psysml:e7993699-2e90-4c6e-9ce7-c90f60868f83\" target=\"_top\" title=\"psysml:e7993699-2e90-4c6e-9ce7-c90f60868f83\" xlink:actuate=\"onRequest\" xlink:href=\"psysml:e7993699-2e90-4c6e-9ce7-c90f60868f83\" xlink:show=\"new\" xlink:title=\"psysml:e7993699-2e90-4c6e-9ce7-c90f60868f83\" xlink:type=\"simple\"><path d=\"M291,353.13 C291,353.13 291,398.65 291,398.65 \" fill=\"none\" id=\"E4&lt;-E8\" style=\"stroke: #383838; stroke-width: 1.0;\"/><ellipse cx=\"291\" cy=\"346.13\" fill=\"#FFFFFF\" rx=\"8\" ry=\"8\" style=\"stroke: #383838; stroke-width: 1.0;\"/><line style=\"stroke: #383838; stroke-width: 1.0;\" x1=\"291\" x2=\"291\" y1=\"354.13\" y2=\"338.13\"/><line style=\"stroke: #383838; stroke-width: 1.0;\" x1=\"283\" x2=\"299\" y1=\"346.13\" y2=\"346.13\"/></a><!--MD5=[062ed86c389d1a88f61c6380d0491e17]\n",
       "reverse link E12 to E13--><a href=\"psysml:0f26ba0d-7372-4c44-875c-adf3c35e17b9\" target=\"_top\" title=\"psysml:0f26ba0d-7372-4c44-875c-adf3c35e17b9\" xlink:actuate=\"onRequest\" xlink:href=\"psysml:0f26ba0d-7372-4c44-875c-adf3c35e17b9\" xlink:show=\"new\" xlink:title=\"psysml:0f26ba0d-7372-4c44-875c-adf3c35e17b9\" xlink:type=\"simple\"><path d=\"M286.75,100.14 C286.75,100.14 286.75,163.97 286.75,163.97 \" fill=\"none\" id=\"E12&lt;-E13\" style=\"stroke: #383838; stroke-width: 1.0;\"/><polygon fill=\"#383838\" points=\"286.75,87.14,282.75,93.14,286.75,99.14,290.75,93.14,286.75,87.14\" style=\"stroke: #383838; stroke-width: 1.0;\"/></a><!--MD5=[e2a9ac97dcd3257bb5342dae06547bad]\n",
       "link E12 to E13--><a href=\"psysml:f5a4eec3-f375-4f03-819b-6c5c8dc7728c\" target=\"_top\" title=\"psysml:f5a4eec3-f375-4f03-819b-6c5c8dc7728c\" xlink:actuate=\"onRequest\" xlink:href=\"psysml:f5a4eec3-f375-4f03-819b-6c5c8dc7728c\" xlink:show=\"new\" xlink:title=\"psysml:f5a4eec3-f375-4f03-819b-6c5c8dc7728c\" xlink:type=\"simple\"><path d=\"M290.12,87.14 C290.12,87.14 290.12,158.97 290.12,158.97 \" fill=\"none\" id=\"E12-&gt;E13\" style=\"stroke: #383838; stroke-width: 1.0; stroke-dasharray: 7.0,7.0;\"/><polygon fill=\"#383838\" points=\"290.12,163.97,294.12,154.97,290.12,158.97,286.12,154.97,290.12,163.97\" style=\"stroke: #383838; stroke-width: 1.0;\"/><text fill=\"#000000\" font-family=\"sans-serif\" font-size=\"13\" lengthAdjust=\"spacingAndGlyphs\" textLength=\"57\" x=\"365\" y=\"130.0669\">«satisfy»</text></a><!--MD5=[017847e01ff9a8bd19f247411074f987]\n",
       "link E13 to E4--><a href=\"psysml:e01bb7f1-206a-408f-a898-0799ec242df4\" target=\"_top\" title=\"psysml:e01bb7f1-206a-408f-a898-0799ec242df4\" xlink:actuate=\"onRequest\" xlink:href=\"psysml:e01bb7f1-206a-408f-a898-0799ec242df4\" xlink:show=\"new\" xlink:title=\"psysml:e01bb7f1-206a-408f-a898-0799ec242df4\" xlink:type=\"simple\"><path d=\"M247,210.21 C247,210.21 247,250.65 247,250.65 \" fill=\"none\" id=\"E13-&gt;E4\" style=\"stroke: #383838; stroke-width: 1.0;\"/><polygon fill=\"#FFFFFF\" points=\"247,270.65,240,251.65,254,251.65,247,270.65\" style=\"stroke: #383838; stroke-width: 1.0;\"/><ellipse cx=\"242\" cy=\"245.95\" fill=\"#383838\" rx=\"2\" ry=\"2\" style=\"stroke: #383838; stroke-width: 1.0;\"/><ellipse cx=\"252\" cy=\"245.95\" fill=\"#383838\" rx=\"2\" ry=\"2\" style=\"stroke: #383838; stroke-width: 1.0;\"/></a><!--MD5=[60f911bb19596b289db4a22769f8105a]\n",
       "link E11 to E13--><a href=\"psysml:e806deaf-0ce2-4d10-9e57-833502fc32ee\" target=\"_top\" title=\"psysml:e806deaf-0ce2-4d10-9e57-833502fc32ee\" xlink:actuate=\"onRequest\" xlink:href=\"psysml:e806deaf-0ce2-4d10-9e57-833502fc32ee\" xlink:show=\"new\" xlink:title=\"psysml:e806deaf-0ce2-4d10-9e57-833502fc32ee\" xlink:type=\"simple\"><path d=\"M137.08,64 C172.53,64 240.25,64 240.25,64 C240.25,64 240.25,158.86 240.25,158.86 \" fill=\"none\" id=\"E11-&gt;E13\" style=\"stroke: #383838; stroke-width: 1.0; stroke-dasharray: 7.0,7.0;\"/><polygon fill=\"#383838\" points=\"240.25,163.86,244.25,154.86,240.25,158.86,236.25,154.86,240.25,163.86\" style=\"stroke: #383838; stroke-width: 1.0;\"/><text fill=\"#000000\" font-family=\"sans-serif\" font-size=\"13\" lengthAdjust=\"spacingAndGlyphs\" textLength=\"57\" x=\"167\" y=\"130.0669\">«satisfy»</text></a><!--MD5=[0c677eb374079406c87b74cd1f5a339d]\n",
       "link E14 to E9--><a href=\"psysml:d6ece11e-fb98-4dd6-9106-0f6846b0bd9f\" target=\"_top\" title=\"psysml:d6ece11e-fb98-4dd6-9106-0f6846b0bd9f\" xlink:actuate=\"onRequest\" xlink:href=\"psysml:d6ece11e-fb98-4dd6-9106-0f6846b0bd9f\" xlink:show=\"new\" xlink:title=\"psysml:d6ece11e-fb98-4dd6-9106-0f6846b0bd9f\" xlink:type=\"simple\"><path d=\"M93,210.21 C93,210.21 93,261.33 93,261.33 \" fill=\"none\" id=\"E14-&gt;E9\" style=\"stroke: #383838; stroke-width: 1.0;\"/><polygon fill=\"#FFFFFF\" points=\"93,281.33,86,262.33,100,262.33,93,281.33\" style=\"stroke: #383838; stroke-width: 1.0;\"/><ellipse cx=\"88\" cy=\"256.63\" fill=\"#383838\" rx=\"2\" ry=\"2\" style=\"stroke: #383838; stroke-width: 1.0;\"/><ellipse cx=\"98\" cy=\"256.63\" fill=\"#383838\" rx=\"2\" ry=\"2\" style=\"stroke: #383838; stroke-width: 1.0;\"/></a><!--MD5=[9c1c40551dcf5c2fca147626a786a7cd]\n",
       "link E11 to E14--><a href=\"psysml:feaea2f2-720b-4dbc-ba1d-0aec40f00046\" target=\"_top\" title=\"psysml:feaea2f2-720b-4dbc-ba1d-0aec40f00046\" xlink:actuate=\"onRequest\" xlink:href=\"psysml:feaea2f2-720b-4dbc-ba1d-0aec40f00046\" xlink:show=\"new\" xlink:title=\"psysml:feaea2f2-720b-4dbc-ba1d-0aec40f00046\" xlink:type=\"simple\"><path d=\"M109,87.14 C109,87.14 109,158.97 109,158.97 \" fill=\"none\" id=\"E11-&gt;E14\" style=\"stroke: #383838; stroke-width: 1.0; stroke-dasharray: 7.0,7.0;\"/><polygon fill=\"#383838\" points=\"109,163.97,113,154.97,109,158.97,105,154.97,109,163.97\" style=\"stroke: #383838; stroke-width: 1.0;\"/><text fill=\"#000000\" font-family=\"sans-serif\" font-size=\"13\" lengthAdjust=\"spacingAndGlyphs\" textLength=\"57\" x=\"68\" y=\"130.0669\">«satisfy»</text></a><!--MD5=[d53cb08dffc8689d16e38c8e194e9adc]\n",
       "link E12 to E14--><a href=\"psysml:f5704f7b-2601-4abd-90b0-2ec51a978e80\" target=\"_top\" title=\"psysml:f5704f7b-2601-4abd-90b0-2ec51a978e80\" xlink:actuate=\"onRequest\" xlink:href=\"psysml:f5704f7b-2601-4abd-90b0-2ec51a978e80\" xlink:show=\"new\" xlink:title=\"psysml:f5704f7b-2601-4abd-90b0-2ec51a978e80\" xlink:type=\"simple\"><path d=\"M283.38,87.09 C283.38,104.71 283.38,126 283.38,126 C283.38,126 123,126 123,126 C123,126 123,158.94 123,158.94 \" fill=\"none\" id=\"E12-&gt;E14\" style=\"stroke: #383838; stroke-width: 1.0; stroke-dasharray: 7.0,7.0;\"/><polygon fill=\"#383838\" points=\"123,163.94,127,154.94,123,158.94,119,154.94,123,163.94\" style=\"stroke: #383838; stroke-width: 1.0;\"/><text fill=\"#000000\" font-family=\"sans-serif\" font-size=\"13\" lengthAdjust=\"spacingAndGlyphs\" textLength=\"57\" x=\"266\" y=\"130.0669\">«satisfy»</text></a><!--MD5=[4660e4d4d5e81e04e3bebcd0142d75d6]\n",
       "@startuml\r\n",
       "skinparam linetype ortho\r\n",
       "skinparam monochrome true\r\n",
       "skinparam classbackgroundcolor white\r\n",
       "skinparam shadowing false\r\n",
       "skinparam wrapWidth 300\r\n",
       "hide circle\r\n",
       "\r\n",
       "package \"RequirementTest\" as E1  [[psysml:2a075407-fc8d-47b4-b4de-e1839d24b848 ]]  {\r\n",
       "comp def \"C\" as E2  <<(T,blue) constraint  def>> [[psysml:8e8b9929-fb62-44f3-bb6e-73f88688eaf1 ]] {\r\n",
       "}\r\n",
       "comp usage \"c: C \" as E3  <<(T,blue) constraint>> [[psysml:8dab2afb-478b-48f2-a7f7-bb2b245c05ea ]] {\r\n",
       "}\r\n",
       "comp def \"R\" as E4  <<(T,blue) requirement  def>> [[psysml:cae76f8a-948f-454f-8648-301efab5060e ]] {\r\n",
       "\r\n",
       "- -\r\n",
       "}\r\n",
       "comp usage \"<s>noname</s>\" as E7  <<(T,blue) requirement>> [[psysml:70e6cc11-a878-4419-9a48-d32cb5df9816 ]] {\r\n",
       "}\r\n",
       "comp def \" [<b>1</b>] A\" as E8  <<(T,blue) requirement  def>> [[psysml:5c5c4776-1d3a-4700-8516-1d3a67d779f4 ]] {\r\n",
       "Text\r\n",
       "- -\r\n",
       "}\r\n",
       "comp def \"R1\" as E9  <<(T,blue) requirement  def>> [[psysml:f2fc2205-4b84-4313-b340-24ee025c15cf ]] {\r\n",
       "}\r\n",
       "comp usage \"p\" as E11  <<(T,blue) part>> [[psysml:4203d305-f881-4dfa-bcc5-a82b5aac35c4 ]] {\r\n",
       "}\r\n",
       "comp usage \"q\" as E12  <<(T,blue) part>> [[psysml:d0dbee69-5f2e-4ac4-ba4b-4aca7380bae7 ]] {\r\n",
       "}\r\n",
       "comp usage \"r: R \" as E13  <<(T,blue) requirement>> [[psysml:aee31540-9ea4-41ee-8ebb-8555bfaf03fb ]] {\r\n",
       "}\r\n",
       "comp usage \"r1: R1 \" as E14  <<(T,blue) requirement>> [[psysml:5c4fb90e-2e7f-411e-8437-1e0e9b0bd00e ]] {\r\n",
       "}\r\n",
       "}\r\n",
       "E3 - -:|> E2 [[psysml:1cfa9d08-8b1e-49ae-8f22-7ec5c2d68c94 ]] \r\n",
       "E4 *- - \"*\"E7 [[psysml:8957256b-d423-4c87-844e-8026b3f5c553 ]] \r\n",
       "E4 +- - E8 [[psysml:e7993699-2e90-4c6e-9ce7-c90f60868f83 ]] \r\n",
       "E12 *- - E13 [[psysml:0f26ba0d-7372-4c44-875c-adf3c35e17b9 ]] \r\n",
       "E13 - -:|> E4 [[psysml:e01bb7f1-206a-408f-a898-0799ec242df4 ]] \r\n",
       "E11 ..> E13 [[psysml:e806deaf-0ce2-4d10-9e57-833502fc32ee ]] : <<satisfy>>\r\n",
       "E12 ..> E13 [[psysml:f5a4eec3-f375-4f03-819b-6c5c8dc7728c ]] : <<satisfy>>\r\n",
       "E14 - -:|> E9 [[psysml:d6ece11e-fb98-4dd6-9106-0f6846b0bd9f ]] \r\n",
       "E11 ..> E14 [[psysml:feaea2f2-720b-4dbc-ba1d-0aec40f00046 ]] : <<satisfy>>\r\n",
       "E12 ..> E14 [[psysml:f5704f7b-2601-4abd-90b0-2ec51a978e80 ]] : <<satisfy>>\r\n",
       "@enduml\r\n",
       "\n",
       "PlantUML version 1.2020.13(Sat Jun 13 12:26:38 UTC 2020)\n",
       "(EPL source distribution)\n",
       "Java Runtime: OpenJDK Runtime Environment\n",
       "JVM: OpenJDK 64-Bit Server VM\n",
       "Default Encoding: UTF-8\n",
       "Language: en\n",
       "Country: null\n",
       "--></g></svg>"
      ]
     },
     "execution_count": 57,
     "metadata": {},
     "output_type": "execute_result"
    }
   ],
   "source": [
    "%viz --style=\"ORTHOLINE\" --view=\"MIXED\" \"RequirementTest\""
   ]
  }
 ],
 "metadata": {
  "kernelspec": {
   "display_name": "SysML",
   "language": "sysml",
   "name": "sysml"
  },
  "language_info": {
   "codemirror_mode": "sysml",
   "file_extension": ".sysml",
   "mimetype": "text/x-sysml",
   "name": "SysML",
   "pygments_lexer": "java",
   "version": "1.0.0"
  }
 },
 "nbformat": 4,
 "nbformat_minor": 5
}
