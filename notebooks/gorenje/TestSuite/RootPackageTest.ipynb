{
 "cells": [
  {
   "cell_type": "markdown",
   "id": "ebc933c0",
   "metadata": {},
   "source": [
    "# SysML v2 Test Suite\n",
    "\n",
    "This can notebook can be cleared using menu `Edit --> Clear All Outputs` and then all cells can be\n",
    "run using menu `Run --> Run All Cells`.\n",
    "\n",
    "**WARNING**: This file is generated, all modifications here will be ignored.\n"
   ]
  },
  {
   "cell_type": "markdown",
   "id": "422f2757",
   "metadata": {},
   "source": [
    "## File: ../../sysml/src/examples/Simple Tests/RootPackageTest.sysml"
   ]
  },
  {
   "cell_type": "code",
   "execution_count": 1,
   "id": "07114d2d",
   "metadata": {
    "execution": {
     "iopub.execute_input": "2021-06-30T09:22:30.652486Z",
     "iopub.status.busy": "2021-06-30T09:22:30.651980Z",
     "iopub.status.idle": "2021-06-30T09:22:30.784881Z",
     "shell.execute_reply": "2021-06-30T09:22:30.785267Z"
    }
   },
   "outputs": [
    {
     "data": {
      "text/plain": [
       "Package P1 (83781f19-a65e-4bac-a4ea-663255d85cf2)\n",
       "Package P2 (7b8b80ab-b8b4-4a12-8f87-7d47d7d52ec5)\n",
       "Package P3 (bcd12ab6-f9e7-4076-80e0-8d44ac9700c3)\n"
      ]
     },
     "execution_count": 1,
     "metadata": {},
     "output_type": "execute_result"
    }
   ],
   "source": [
    "package P1 {\n",
    "\tpart def A;\n",
    "}\n",
    "\n",
    "package P2 {\n",
    "\timport P1::*;\n",
    "\tpart a : A;\n",
    "}\n",
    "\n",
    "import P2::*;\n",
    "\n",
    "package P3 {\n",
    "\tpart b subsets a;\n",
    "}"
   ]
  },
  {
   "cell_type": "code",
   "execution_count": 2,
   "id": "29120848",
   "metadata": {
    "execution": {
     "iopub.execute_input": "2021-06-30T09:22:30.837233Z",
     "iopub.status.busy": "2021-06-30T09:22:30.836557Z",
     "iopub.status.idle": "2021-06-30T09:22:31.520499Z",
     "shell.execute_reply": "2021-06-30T09:22:31.519087Z"
    }
   },
   "outputs": [
    {
     "data": {
      "image/svg+xml": [
       "<?xml version=\"1.0\" encoding=\"UTF-8\" standalone=\"no\"?><svg xmlns=\"http://www.w3.org/2000/svg\" xmlns:xlink=\"http://www.w3.org/1999/xlink\" contentScriptType=\"application/ecmascript\" contentStyleType=\"text/css\" height=\"115px\" preserveAspectRatio=\"none\" style=\"width:136px;height:115px;\" version=\"1.1\" viewBox=\"0 0 136 115\" width=\"136px\" zoomAndPan=\"magnify\"><defs/><g><!--MD5=[fbc87193dbaf4d95561dea2c320d4a47]\n",
       "cluster E1--><a href=\"psysml:80072e13-09a0-47de-8e75-bd5ae320c88b\" target=\"_top\" title=\"psysml:80072e13-09a0-47de-8e75-bd5ae320c88b\" xlink:actuate=\"onRequest\" xlink:href=\"psysml:80072e13-09a0-47de-8e75-bd5ae320c88b\" xlink:show=\"new\" xlink:title=\"psysml:80072e13-09a0-47de-8e75-bd5ae320c88b\" xlink:type=\"simple\"><polygon fill=\"#FFFFFF\" points=\"16,6,42,6,49,28.2969,114,28.2969,114,103,16,103,16,6\" style=\"stroke: #000000; stroke-width: 1.5;\"/><line style=\"stroke: #000000; stroke-width: 1.5;\" x1=\"16\" x2=\"49\" y1=\"28.2969\" y2=\"28.2969\"/><text fill=\"#000000\" font-family=\"sans-serif\" font-size=\"14\" font-weight=\"bold\" lengthAdjust=\"spacingAndGlyphs\" textLength=\"20\" x=\"20\" y=\"20.9951\">P1</text></a><!--MD5=[b4997ac47864f28c2f74865a473b2911]\n",
       "class E2--><a href=\"psysml:09b3b88a-a3ba-434d-8883-2eddebd173e7\" target=\"_top\" title=\"psysml:09b3b88a-a3ba-434d-8883-2eddebd173e7\" xlink:actuate=\"onRequest\" xlink:href=\"psysml:09b3b88a-a3ba-434d-8883-2eddebd173e7\" xlink:show=\"new\" xlink:title=\"psysml:09b3b88a-a3ba-434d-8883-2eddebd173e7\" xlink:type=\"simple\"><rect fill=\"#FFFFFF\" height=\"45.9375\" id=\"E2\" style=\"stroke: #383838; stroke-width: 1.5;\" width=\"66\" x=\"32\" y=\"41\"/><text fill=\"#000000\" font-family=\"sans-serif\" font-size=\"12\" font-style=\"italic\" lengthAdjust=\"spacingAndGlyphs\" textLength=\"64\" x=\"33\" y=\"57.1387\">«part def»</text><text fill=\"#000000\" font-family=\"sans-serif\" font-size=\"12\" lengthAdjust=\"spacingAndGlyphs\" textLength=\"8\" x=\"61\" y=\"71.1074\">A</text><line style=\"stroke: #383838; stroke-width: 1.5;\" x1=\"33\" x2=\"97\" y1=\"78.9375\" y2=\"78.9375\"/></a><!--MD5=[8715fc4fcc2bbcd46cc0e75e68cd1c44]\n",
       "@startuml\r\n",
       " skinparam monochrome true\r\n",
       "skinparam classbackgroundcolor white\r\n",
       "skinparam shadowing false\r\n",
       "skinparam wrapWidth 300\r\n",
       "hide circle\r\n",
       "\r\n",
       "package \"P1\" as E1  [[psysml:80072e13-09a0-47de-8e75-bd5ae320c88b ]]  {\r\n",
       "comp def \"A\" as E2  <<(T,blue) part def>> [[psysml:09b3b88a-a3ba-434d-8883-2eddebd173e7 ]] {\r\n",
       "}\r\n",
       "}\r\n",
       "@enduml\r\n",
       "\n",
       "PlantUML version 1.2020.13(Sat Jun 13 12:26:38 UTC 2020)\n",
       "(EPL source distribution)\n",
       "Java Runtime: OpenJDK Runtime Environment\n",
       "JVM: OpenJDK 64-Bit Server VM\n",
       "Default Encoding: UTF-8\n",
       "Language: en\n",
       "Country: null\n",
       "--></g></svg>"
      ]
     },
     "execution_count": 2,
     "metadata": {},
     "output_type": "execute_result"
    }
   ],
   "source": [
    "%viz --style=\"COMPTREE\" --view=\"Default\" \"P1\""
   ]
  },
  {
   "cell_type": "code",
   "execution_count": 3,
   "id": "a7bd8710",
   "metadata": {
    "execution": {
     "iopub.execute_input": "2021-06-30T09:22:31.572446Z",
     "iopub.status.busy": "2021-06-30T09:22:31.571765Z",
     "iopub.status.idle": "2021-06-30T09:22:31.625956Z",
     "shell.execute_reply": "2021-06-30T09:22:31.625453Z"
    }
   },
   "outputs": [
    {
     "data": {
      "image/svg+xml": [
       "<?xml version=\"1.0\" encoding=\"UTF-8\" standalone=\"no\"?><svg xmlns=\"http://www.w3.org/2000/svg\" xmlns:xlink=\"http://www.w3.org/1999/xlink\" contentScriptType=\"application/ecmascript\" contentStyleType=\"text/css\" height=\"115px\" preserveAspectRatio=\"none\" style=\"width:136px;height:115px;\" version=\"1.1\" viewBox=\"0 0 136 115\" width=\"136px\" zoomAndPan=\"magnify\"><defs/><g><!--MD5=[fbc87193dbaf4d95561dea2c320d4a47]\n",
       "cluster E1--><a href=\"psysml:80072e13-09a0-47de-8e75-bd5ae320c88b\" target=\"_top\" title=\"psysml:80072e13-09a0-47de-8e75-bd5ae320c88b\" xlink:actuate=\"onRequest\" xlink:href=\"psysml:80072e13-09a0-47de-8e75-bd5ae320c88b\" xlink:show=\"new\" xlink:title=\"psysml:80072e13-09a0-47de-8e75-bd5ae320c88b\" xlink:type=\"simple\"><polygon fill=\"#FFFFFF\" points=\"16,6,42,6,49,28.2969,114,28.2969,114,103,16,103,16,6\" style=\"stroke: #000000; stroke-width: 1.5;\"/><line style=\"stroke: #000000; stroke-width: 1.5;\" x1=\"16\" x2=\"49\" y1=\"28.2969\" y2=\"28.2969\"/><text fill=\"#000000\" font-family=\"sans-serif\" font-size=\"14\" font-weight=\"bold\" lengthAdjust=\"spacingAndGlyphs\" textLength=\"20\" x=\"20\" y=\"20.9951\">P1</text></a><!--MD5=[b4997ac47864f28c2f74865a473b2911]\n",
       "class E2--><a href=\"psysml:09b3b88a-a3ba-434d-8883-2eddebd173e7\" target=\"_top\" title=\"psysml:09b3b88a-a3ba-434d-8883-2eddebd173e7\" xlink:actuate=\"onRequest\" xlink:href=\"psysml:09b3b88a-a3ba-434d-8883-2eddebd173e7\" xlink:show=\"new\" xlink:title=\"psysml:09b3b88a-a3ba-434d-8883-2eddebd173e7\" xlink:type=\"simple\"><rect fill=\"#FFFFFF\" height=\"45.9375\" id=\"E2\" style=\"stroke: #383838; stroke-width: 1.5;\" width=\"66\" x=\"32\" y=\"41\"/><text fill=\"#000000\" font-family=\"sans-serif\" font-size=\"12\" font-style=\"italic\" lengthAdjust=\"spacingAndGlyphs\" textLength=\"64\" x=\"33\" y=\"57.1387\">«part def»</text><text fill=\"#000000\" font-family=\"sans-serif\" font-size=\"12\" lengthAdjust=\"spacingAndGlyphs\" textLength=\"8\" x=\"61\" y=\"71.1074\">A</text><line style=\"stroke: #383838; stroke-width: 1.5;\" x1=\"33\" x2=\"97\" y1=\"78.9375\" y2=\"78.9375\"/></a><!--MD5=[8715fc4fcc2bbcd46cc0e75e68cd1c44]\n",
       "@startuml\r\n",
       " skinparam monochrome true\r\n",
       "skinparam classbackgroundcolor white\r\n",
       "skinparam shadowing false\r\n",
       "skinparam wrapWidth 300\r\n",
       "hide circle\r\n",
       "\r\n",
       "package \"P1\" as E1  [[psysml:80072e13-09a0-47de-8e75-bd5ae320c88b ]]  {\r\n",
       "comp def \"A\" as E2  <<(T,blue) part def>> [[psysml:09b3b88a-a3ba-434d-8883-2eddebd173e7 ]] {\r\n",
       "}\r\n",
       "}\r\n",
       "@enduml\r\n",
       "\n",
       "PlantUML version 1.2020.13(Sat Jun 13 12:26:38 UTC 2020)\n",
       "(EPL source distribution)\n",
       "Java Runtime: OpenJDK Runtime Environment\n",
       "JVM: OpenJDK 64-Bit Server VM\n",
       "Default Encoding: UTF-8\n",
       "Language: en\n",
       "Country: null\n",
       "--></g></svg>"
      ]
     },
     "execution_count": 3,
     "metadata": {},
     "output_type": "execute_result"
    }
   ],
   "source": [
    "%viz --style=\"COMPTREE\" --view=\"Tree\" \"P1\""
   ]
  },
  {
   "cell_type": "code",
   "execution_count": 4,
   "id": "34e8806c",
   "metadata": {
    "execution": {
     "iopub.execute_input": "2021-06-30T09:22:31.676822Z",
     "iopub.status.busy": "2021-06-30T09:22:31.675883Z",
     "iopub.status.idle": "2021-06-30T09:22:31.708399Z",
     "shell.execute_reply": "2021-06-30T09:22:31.707860Z"
    }
   },
   "outputs": [
    {
     "data": {
      "image/svg+xml": [
       "<?xml version=\"1.0\" encoding=\"UTF-8\" standalone=\"no\"?><svg xmlns=\"http://www.w3.org/2000/svg\" xmlns:xlink=\"http://www.w3.org/1999/xlink\" contentScriptType=\"application/ecmascript\" contentStyleType=\"text/css\" height=\"12px\" preserveAspectRatio=\"none\" style=\"width:12px;height:12px;\" version=\"1.1\" viewBox=\"0 0 12 12\" width=\"12px\" zoomAndPan=\"magnify\"><defs/><g><!--MD5=[f19188ef49e11757b5c46753f95d9edc]\n",
       "@startuml\r\n",
       " skinparam monochrome true\r\n",
       "skinparam classbackgroundcolor white\r\n",
       "skinparam shadowing false\r\n",
       "skinparam wrapWidth 300\r\n",
       "hide circle\r\n",
       "\r\n",
       "@enduml\r\n",
       "\n",
       "PlantUML version 1.2020.13(Sat Jun 13 12:26:38 UTC 2020)\n",
       "(EPL source distribution)\n",
       "Java Runtime: OpenJDK Runtime Environment\n",
       "JVM: OpenJDK 64-Bit Server VM\n",
       "Default Encoding: UTF-8\n",
       "Language: en\n",
       "Country: null\n",
       "--></g></svg>"
      ]
     },
     "execution_count": 4,
     "metadata": {},
     "output_type": "execute_result"
    }
   ],
   "source": [
    "%viz --style=\"COMPTREE\" --view=\"State\" \"P1\""
   ]
  },
  {
   "cell_type": "code",
   "execution_count": 5,
   "id": "157ca578",
   "metadata": {
    "execution": {
     "iopub.execute_input": "2021-06-30T09:22:31.760931Z",
     "iopub.status.busy": "2021-06-30T09:22:31.759964Z",
     "iopub.status.idle": "2021-06-30T09:22:31.830471Z",
     "shell.execute_reply": "2021-06-30T09:22:31.828667Z"
    }
   },
   "outputs": [
    {
     "data": {
      "image/svg+xml": [
       "<?xml version=\"1.0\" encoding=\"UTF-8\" standalone=\"no\"?><svg xmlns=\"http://www.w3.org/2000/svg\" xmlns:xlink=\"http://www.w3.org/1999/xlink\" contentScriptType=\"application/ecmascript\" contentStyleType=\"text/css\" height=\"112px\" preserveAspectRatio=\"none\" style=\"width:142px;height:112px;\" version=\"1.1\" viewBox=\"0 0 142 112\" width=\"142px\" zoomAndPan=\"magnify\"><defs/><g><!--MD5=[fbc87193dbaf4d95561dea2c320d4a47]\n",
       "cluster E1--><a href=\"psysml:80072e13-09a0-47de-8e75-bd5ae320c88b\" target=\"_top\" title=\"psysml:80072e13-09a0-47de-8e75-bd5ae320c88b\" xlink:actuate=\"onRequest\" xlink:href=\"psysml:80072e13-09a0-47de-8e75-bd5ae320c88b\" xlink:show=\"new\" xlink:title=\"psysml:80072e13-09a0-47de-8e75-bd5ae320c88b\" xlink:type=\"simple\"><polygon fill=\"#FFFFFF\" points=\"16,6,42,6,49,28.2969,120,28.2969,120,100,16,100,16,6\" style=\"stroke: #000000; stroke-width: 1.5;\"/><line style=\"stroke: #000000; stroke-width: 1.5;\" x1=\"16\" x2=\"49\" y1=\"28.2969\" y2=\"28.2969\"/><text fill=\"#000000\" font-family=\"sans-serif\" font-size=\"14\" font-weight=\"bold\" lengthAdjust=\"spacingAndGlyphs\" textLength=\"20\" x=\"20\" y=\"20.9951\">P1</text></a><g id=\"E1.E2\"><a href=\"psysml:09b3b88a-a3ba-434d-8883-2eddebd173e7\" target=\"_top\" title=\"psysml:09b3b88a-a3ba-434d-8883-2eddebd173e7\" xlink:actuate=\"onRequest\" xlink:href=\"psysml:09b3b88a-a3ba-434d-8883-2eddebd173e7\" xlink:show=\"new\" xlink:title=\"psysml:09b3b88a-a3ba-434d-8883-2eddebd173e7\" xlink:type=\"simple\"><rect fill=\"#FFFFFF\" height=\"42.9375\" id=\"E2\" style=\"stroke: #383838; stroke-width: 1.5;\" width=\"71\" x=\"32.5\" y=\"41\"/><rect fill=\"#F8F8F8\" height=\"37.9375\" style=\"stroke: #383838; stroke-width: 1.5;\" width=\"71\" x=\"32.5\" y=\"41\"/><text fill=\"#000000\" font-family=\"sans-serif\" font-size=\"12\" font-style=\"italic\" lengthAdjust=\"spacingAndGlyphs\" textLength=\"64\" x=\"36\" y=\"57.1387\">«part def»</text><text fill=\"#000000\" font-family=\"sans-serif\" font-size=\"12\" lengthAdjust=\"spacingAndGlyphs\" textLength=\"8\" x=\"64\" y=\"71.1074\">A</text></a></g><!--MD5=[737d467e114bbe72c65ddf71fa41bdc1]\n",
       "@startuml\r\n",
       "skinparam ranksep 10\r\n",
       "skinparam rectangle {\r\n",
       " backgroundColor<<block>> LightGreen\r\n",
       "}\r\n",
       " skinparam monochrome true\r\n",
       "skinparam classbackgroundcolor white\r\n",
       "skinparam shadowing false\r\n",
       "skinparam wrapWidth 300\r\n",
       "hide circle\r\n",
       "\r\n",
       "package \"P1\" as E1  [[psysml:80072e13-09a0-47de-8e75-bd5ae320c88b ]]  {\r\n",
       "rec def \"A\" as E2  <<(T,blue) part def>> [[psysml:09b3b88a-a3ba-434d-8883-2eddebd173e7 ]] {\r\n",
       "}\r\n",
       "}\r\n",
       "@enduml\r\n",
       "\n",
       "PlantUML version 1.2020.13(Sat Jun 13 12:26:38 UTC 2020)\n",
       "(EPL source distribution)\n",
       "Java Runtime: OpenJDK Runtime Environment\n",
       "JVM: OpenJDK 64-Bit Server VM\n",
       "Default Encoding: UTF-8\n",
       "Language: en\n",
       "Country: null\n",
       "--></g></svg>"
      ]
     },
     "execution_count": 5,
     "metadata": {},
     "output_type": "execute_result"
    }
   ],
   "source": [
    "%viz --style=\"COMPTREE\" --view=\"Interconnection\" \"P1\""
   ]
  },
  {
   "cell_type": "code",
   "execution_count": 6,
   "id": "553ce126",
   "metadata": {
    "execution": {
     "iopub.execute_input": "2021-06-30T09:22:31.884611Z",
     "iopub.status.busy": "2021-06-30T09:22:31.882868Z",
     "iopub.status.idle": "2021-06-30T09:22:31.899247Z",
     "shell.execute_reply": "2021-06-30T09:22:31.898204Z"
    }
   },
   "outputs": [
    {
     "data": {
      "image/svg+xml": [
       "<?xml version=\"1.0\" encoding=\"UTF-8\" standalone=\"no\"?><svg xmlns=\"http://www.w3.org/2000/svg\" xmlns:xlink=\"http://www.w3.org/1999/xlink\" contentScriptType=\"application/ecmascript\" contentStyleType=\"text/css\" height=\"12px\" preserveAspectRatio=\"none\" style=\"width:12px;height:12px;\" version=\"1.1\" viewBox=\"0 0 12 12\" width=\"12px\" zoomAndPan=\"magnify\"><defs/><g><!--MD5=[655b888544ca4751ea36af1068543f84]\n",
       "@startuml\r\n",
       "skinparam ranksep 8\r\n",
       " skinparam monochrome true\r\n",
       "skinparam classbackgroundcolor white\r\n",
       "skinparam shadowing false\r\n",
       "skinparam wrapWidth 300\r\n",
       "hide circle\r\n",
       "\r\n",
       "@enduml\r\n",
       "\n",
       "PlantUML version 1.2020.13(Sat Jun 13 12:26:38 UTC 2020)\n",
       "(EPL source distribution)\n",
       "Java Runtime: OpenJDK Runtime Environment\n",
       "JVM: OpenJDK 64-Bit Server VM\n",
       "Default Encoding: UTF-8\n",
       "Language: en\n",
       "Country: null\n",
       "--></g></svg>"
      ]
     },
     "execution_count": 6,
     "metadata": {},
     "output_type": "execute_result"
    }
   ],
   "source": [
    "%viz --style=\"COMPTREE\" --view=\"Action\" \"P1\""
   ]
  },
  {
   "cell_type": "code",
   "execution_count": 7,
   "id": "f336396f",
   "metadata": {
    "execution": {
     "iopub.execute_input": "2021-06-30T09:22:31.951319Z",
     "iopub.status.busy": "2021-06-30T09:22:31.950672Z",
     "iopub.status.idle": "2021-06-30T09:22:31.988194Z",
     "shell.execute_reply": "2021-06-30T09:22:31.987119Z"
    }
   },
   "outputs": [
    {
     "data": {
      "image/svg+xml": [
       "<?xml version=\"1.0\" encoding=\"UTF-8\" standalone=\"no\"?><svg xmlns=\"http://www.w3.org/2000/svg\" xmlns:xlink=\"http://www.w3.org/1999/xlink\" contentScriptType=\"application/ecmascript\" contentStyleType=\"text/css\" height=\"115px\" preserveAspectRatio=\"none\" style=\"width:136px;height:115px;\" version=\"1.1\" viewBox=\"0 0 136 115\" width=\"136px\" zoomAndPan=\"magnify\"><defs/><g><!--MD5=[fbc87193dbaf4d95561dea2c320d4a47]\n",
       "cluster E1--><a href=\"psysml:80072e13-09a0-47de-8e75-bd5ae320c88b\" target=\"_top\" title=\"psysml:80072e13-09a0-47de-8e75-bd5ae320c88b\" xlink:actuate=\"onRequest\" xlink:href=\"psysml:80072e13-09a0-47de-8e75-bd5ae320c88b\" xlink:show=\"new\" xlink:title=\"psysml:80072e13-09a0-47de-8e75-bd5ae320c88b\" xlink:type=\"simple\"><polygon fill=\"#FFFFFF\" points=\"16,6,42,6,49,28.2969,114,28.2969,114,103,16,103,16,6\" style=\"stroke: #000000; stroke-width: 1.5;\"/><line style=\"stroke: #000000; stroke-width: 1.5;\" x1=\"16\" x2=\"49\" y1=\"28.2969\" y2=\"28.2969\"/><text fill=\"#000000\" font-family=\"sans-serif\" font-size=\"14\" font-weight=\"bold\" lengthAdjust=\"spacingAndGlyphs\" textLength=\"20\" x=\"20\" y=\"20.9951\">P1</text></a><!--MD5=[b4997ac47864f28c2f74865a473b2911]\n",
       "class E2--><a href=\"psysml:09b3b88a-a3ba-434d-8883-2eddebd173e7\" target=\"_top\" title=\"psysml:09b3b88a-a3ba-434d-8883-2eddebd173e7\" xlink:actuate=\"onRequest\" xlink:href=\"psysml:09b3b88a-a3ba-434d-8883-2eddebd173e7\" xlink:show=\"new\" xlink:title=\"psysml:09b3b88a-a3ba-434d-8883-2eddebd173e7\" xlink:type=\"simple\"><rect fill=\"#FFFFFF\" height=\"45.9375\" id=\"E2\" style=\"stroke: #383838; stroke-width: 1.5;\" width=\"66\" x=\"32\" y=\"41\"/><text fill=\"#000000\" font-family=\"sans-serif\" font-size=\"12\" font-style=\"italic\" lengthAdjust=\"spacingAndGlyphs\" textLength=\"64\" x=\"33\" y=\"57.1387\">«part def»</text><text fill=\"#000000\" font-family=\"sans-serif\" font-size=\"12\" lengthAdjust=\"spacingAndGlyphs\" textLength=\"8\" x=\"61\" y=\"71.1074\">A</text><line style=\"stroke: #383838; stroke-width: 1.5;\" x1=\"33\" x2=\"97\" y1=\"78.9375\" y2=\"78.9375\"/></a><!--MD5=[8715fc4fcc2bbcd46cc0e75e68cd1c44]\n",
       "@startuml\r\n",
       " skinparam monochrome true\r\n",
       "skinparam classbackgroundcolor white\r\n",
       "skinparam shadowing false\r\n",
       "skinparam wrapWidth 300\r\n",
       "hide circle\r\n",
       "\r\n",
       "package \"P1\" as E1  [[psysml:80072e13-09a0-47de-8e75-bd5ae320c88b ]]  {\r\n",
       "comp def \"A\" as E2  <<(T,blue) part def>> [[psysml:09b3b88a-a3ba-434d-8883-2eddebd173e7 ]] {\r\n",
       "}\r\n",
       "}\r\n",
       "@enduml\r\n",
       "\n",
       "PlantUML version 1.2020.13(Sat Jun 13 12:26:38 UTC 2020)\n",
       "(EPL source distribution)\n",
       "Java Runtime: OpenJDK Runtime Environment\n",
       "JVM: OpenJDK 64-Bit Server VM\n",
       "Default Encoding: UTF-8\n",
       "Language: en\n",
       "Country: null\n",
       "--></g></svg>"
      ]
     },
     "execution_count": 7,
     "metadata": {},
     "output_type": "execute_result"
    }
   ],
   "source": [
    "%viz --style=\"COMPTREE\" --view=\"Sequence\" \"P1\""
   ]
  },
  {
   "cell_type": "code",
   "execution_count": 8,
   "id": "6229d6ee",
   "metadata": {
    "execution": {
     "iopub.execute_input": "2021-06-30T09:22:32.042456Z",
     "iopub.status.busy": "2021-06-30T09:22:32.040433Z",
     "iopub.status.idle": "2021-06-30T09:22:32.088535Z",
     "shell.execute_reply": "2021-06-30T09:22:32.086465Z"
    }
   },
   "outputs": [
    {
     "data": {
      "image/svg+xml": [
       "<?xml version=\"1.0\" encoding=\"UTF-8\" standalone=\"no\"?><svg xmlns=\"http://www.w3.org/2000/svg\" xmlns:xlink=\"http://www.w3.org/1999/xlink\" contentScriptType=\"application/ecmascript\" contentStyleType=\"text/css\" height=\"115px\" preserveAspectRatio=\"none\" style=\"width:136px;height:115px;\" version=\"1.1\" viewBox=\"0 0 136 115\" width=\"136px\" zoomAndPan=\"magnify\"><defs/><g><!--MD5=[fbc87193dbaf4d95561dea2c320d4a47]\n",
       "cluster E1--><a href=\"psysml:80072e13-09a0-47de-8e75-bd5ae320c88b\" target=\"_top\" title=\"psysml:80072e13-09a0-47de-8e75-bd5ae320c88b\" xlink:actuate=\"onRequest\" xlink:href=\"psysml:80072e13-09a0-47de-8e75-bd5ae320c88b\" xlink:show=\"new\" xlink:title=\"psysml:80072e13-09a0-47de-8e75-bd5ae320c88b\" xlink:type=\"simple\"><polygon fill=\"#FFFFFF\" points=\"16,6,42,6,49,28.2969,114,28.2969,114,103,16,103,16,6\" style=\"stroke: #000000; stroke-width: 1.5;\"/><line style=\"stroke: #000000; stroke-width: 1.5;\" x1=\"16\" x2=\"49\" y1=\"28.2969\" y2=\"28.2969\"/><text fill=\"#000000\" font-family=\"sans-serif\" font-size=\"14\" font-weight=\"bold\" lengthAdjust=\"spacingAndGlyphs\" textLength=\"20\" x=\"20\" y=\"20.9951\">P1</text></a><!--MD5=[b4997ac47864f28c2f74865a473b2911]\n",
       "class E2--><a href=\"psysml:09b3b88a-a3ba-434d-8883-2eddebd173e7\" target=\"_top\" title=\"psysml:09b3b88a-a3ba-434d-8883-2eddebd173e7\" xlink:actuate=\"onRequest\" xlink:href=\"psysml:09b3b88a-a3ba-434d-8883-2eddebd173e7\" xlink:show=\"new\" xlink:title=\"psysml:09b3b88a-a3ba-434d-8883-2eddebd173e7\" xlink:type=\"simple\"><rect fill=\"#FFFFFF\" height=\"45.9375\" id=\"E2\" style=\"stroke: #383838; stroke-width: 1.5;\" width=\"66\" x=\"32\" y=\"41\"/><text fill=\"#000000\" font-family=\"sans-serif\" font-size=\"12\" font-style=\"italic\" lengthAdjust=\"spacingAndGlyphs\" textLength=\"64\" x=\"33\" y=\"57.1387\">«part def»</text><text fill=\"#000000\" font-family=\"sans-serif\" font-size=\"12\" lengthAdjust=\"spacingAndGlyphs\" textLength=\"8\" x=\"61\" y=\"71.1074\">A</text><line style=\"stroke: #383838; stroke-width: 1.5;\" x1=\"33\" x2=\"97\" y1=\"78.9375\" y2=\"78.9375\"/></a><!--MD5=[8715fc4fcc2bbcd46cc0e75e68cd1c44]\n",
       "@startuml\r\n",
       " skinparam monochrome true\r\n",
       "skinparam classbackgroundcolor white\r\n",
       "skinparam shadowing false\r\n",
       "skinparam wrapWidth 300\r\n",
       "hide circle\r\n",
       "\r\n",
       "package \"P1\" as E1  [[psysml:80072e13-09a0-47de-8e75-bd5ae320c88b ]]  {\r\n",
       "comp def \"A\" as E2  <<(T,blue) part def>> [[psysml:09b3b88a-a3ba-434d-8883-2eddebd173e7 ]] {\r\n",
       "}\r\n",
       "}\r\n",
       "@enduml\r\n",
       "\n",
       "PlantUML version 1.2020.13(Sat Jun 13 12:26:38 UTC 2020)\n",
       "(EPL source distribution)\n",
       "Java Runtime: OpenJDK Runtime Environment\n",
       "JVM: OpenJDK 64-Bit Server VM\n",
       "Default Encoding: UTF-8\n",
       "Language: en\n",
       "Country: null\n",
       "--></g></svg>"
      ]
     },
     "execution_count": 8,
     "metadata": {},
     "output_type": "execute_result"
    }
   ],
   "source": [
    "%viz --style=\"COMPTREE\" --view=\"MIXED\" \"P1\""
   ]
  },
  {
   "cell_type": "code",
   "execution_count": 9,
   "id": "e6170b46",
   "metadata": {
    "execution": {
     "iopub.execute_input": "2021-06-30T09:22:32.140990Z",
     "iopub.status.busy": "2021-06-30T09:22:32.139605Z",
     "iopub.status.idle": "2021-06-30T09:22:32.179336Z",
     "shell.execute_reply": "2021-06-30T09:22:32.178227Z"
    }
   },
   "outputs": [
    {
     "data": {
      "image/svg+xml": [
       "<?xml version=\"1.0\" encoding=\"UTF-8\" standalone=\"no\"?><svg xmlns=\"http://www.w3.org/2000/svg\" xmlns:xlink=\"http://www.w3.org/1999/xlink\" contentScriptType=\"application/ecmascript\" contentStyleType=\"text/css\" height=\"115px\" preserveAspectRatio=\"none\" style=\"width:136px;height:115px;\" version=\"1.1\" viewBox=\"0 0 136 115\" width=\"136px\" zoomAndPan=\"magnify\"><defs/><g><!--MD5=[fbc87193dbaf4d95561dea2c320d4a47]\n",
       "cluster E1--><a href=\"psysml:80072e13-09a0-47de-8e75-bd5ae320c88b\" target=\"_top\" title=\"psysml:80072e13-09a0-47de-8e75-bd5ae320c88b\" xlink:actuate=\"onRequest\" xlink:href=\"psysml:80072e13-09a0-47de-8e75-bd5ae320c88b\" xlink:show=\"new\" xlink:title=\"psysml:80072e13-09a0-47de-8e75-bd5ae320c88b\" xlink:type=\"simple\"><polygon fill=\"#FFFFFF\" points=\"16,6,42,6,49,28.2969,114,28.2969,114,103,16,103,16,6\" style=\"stroke: #000000; stroke-width: 1.5;\"/><line style=\"stroke: #000000; stroke-width: 1.5;\" x1=\"16\" x2=\"49\" y1=\"28.2969\" y2=\"28.2969\"/><text fill=\"#000000\" font-family=\"sans-serif\" font-size=\"14\" font-weight=\"bold\" lengthAdjust=\"spacingAndGlyphs\" textLength=\"20\" x=\"20\" y=\"20.9951\">P1</text></a><!--MD5=[b4997ac47864f28c2f74865a473b2911]\n",
       "class E2--><a href=\"psysml:09b3b88a-a3ba-434d-8883-2eddebd173e7\" target=\"_top\" title=\"psysml:09b3b88a-a3ba-434d-8883-2eddebd173e7\" xlink:actuate=\"onRequest\" xlink:href=\"psysml:09b3b88a-a3ba-434d-8883-2eddebd173e7\" xlink:show=\"new\" xlink:title=\"psysml:09b3b88a-a3ba-434d-8883-2eddebd173e7\" xlink:type=\"simple\"><rect fill=\"#FFFFFF\" height=\"45.9375\" id=\"E2\" style=\"stroke: #383838; stroke-width: 1.5;\" width=\"66\" x=\"32\" y=\"41\"/><text fill=\"#000000\" font-family=\"sans-serif\" font-size=\"12\" font-style=\"italic\" lengthAdjust=\"spacingAndGlyphs\" textLength=\"64\" x=\"33\" y=\"57.1387\">«part def»</text><text fill=\"#000000\" font-family=\"sans-serif\" font-size=\"12\" lengthAdjust=\"spacingAndGlyphs\" textLength=\"8\" x=\"61\" y=\"71.1074\">A</text><line style=\"stroke: #383838; stroke-width: 1.5;\" x1=\"33\" x2=\"97\" y1=\"78.9375\" y2=\"78.9375\"/></a><!--MD5=[435bafb4dcc173e52ecb2e9e991ed1fb]\n",
       "@startuml\r\n",
       "skinparam linetype polyline\r\n",
       "skinparam monochrome true\r\n",
       "skinparam classbackgroundcolor white\r\n",
       "skinparam shadowing false\r\n",
       "skinparam wrapWidth 300\r\n",
       "hide circle\r\n",
       "\r\n",
       "package \"P1\" as E1  [[psysml:80072e13-09a0-47de-8e75-bd5ae320c88b ]]  {\r\n",
       "comp def \"A\" as E2  <<(T,blue) part def>> [[psysml:09b3b88a-a3ba-434d-8883-2eddebd173e7 ]] {\r\n",
       "}\r\n",
       "}\r\n",
       "@enduml\r\n",
       "\n",
       "PlantUML version 1.2020.13(Sat Jun 13 12:26:38 UTC 2020)\n",
       "(EPL source distribution)\n",
       "Java Runtime: OpenJDK Runtime Environment\n",
       "JVM: OpenJDK 64-Bit Server VM\n",
       "Default Encoding: UTF-8\n",
       "Language: en\n",
       "Country: null\n",
       "--></g></svg>"
      ]
     },
     "execution_count": 9,
     "metadata": {},
     "output_type": "execute_result"
    }
   ],
   "source": [
    "%viz --style=\"POLYLINE\" --view=\"Default\" \"P1\""
   ]
  },
  {
   "cell_type": "code",
   "execution_count": 10,
   "id": "ad2fc8dd",
   "metadata": {
    "execution": {
     "iopub.execute_input": "2021-06-30T09:22:32.231884Z",
     "iopub.status.busy": "2021-06-30T09:22:32.230668Z",
     "iopub.status.idle": "2021-06-30T09:22:32.267084Z",
     "shell.execute_reply": "2021-06-30T09:22:32.265592Z"
    }
   },
   "outputs": [
    {
     "data": {
      "image/svg+xml": [
       "<?xml version=\"1.0\" encoding=\"UTF-8\" standalone=\"no\"?><svg xmlns=\"http://www.w3.org/2000/svg\" xmlns:xlink=\"http://www.w3.org/1999/xlink\" contentScriptType=\"application/ecmascript\" contentStyleType=\"text/css\" height=\"115px\" preserveAspectRatio=\"none\" style=\"width:136px;height:115px;\" version=\"1.1\" viewBox=\"0 0 136 115\" width=\"136px\" zoomAndPan=\"magnify\"><defs/><g><!--MD5=[fbc87193dbaf4d95561dea2c320d4a47]\n",
       "cluster E1--><a href=\"psysml:80072e13-09a0-47de-8e75-bd5ae320c88b\" target=\"_top\" title=\"psysml:80072e13-09a0-47de-8e75-bd5ae320c88b\" xlink:actuate=\"onRequest\" xlink:href=\"psysml:80072e13-09a0-47de-8e75-bd5ae320c88b\" xlink:show=\"new\" xlink:title=\"psysml:80072e13-09a0-47de-8e75-bd5ae320c88b\" xlink:type=\"simple\"><polygon fill=\"#FFFFFF\" points=\"16,6,42,6,49,28.2969,114,28.2969,114,103,16,103,16,6\" style=\"stroke: #000000; stroke-width: 1.5;\"/><line style=\"stroke: #000000; stroke-width: 1.5;\" x1=\"16\" x2=\"49\" y1=\"28.2969\" y2=\"28.2969\"/><text fill=\"#000000\" font-family=\"sans-serif\" font-size=\"14\" font-weight=\"bold\" lengthAdjust=\"spacingAndGlyphs\" textLength=\"20\" x=\"20\" y=\"20.9951\">P1</text></a><!--MD5=[b4997ac47864f28c2f74865a473b2911]\n",
       "class E2--><a href=\"psysml:09b3b88a-a3ba-434d-8883-2eddebd173e7\" target=\"_top\" title=\"psysml:09b3b88a-a3ba-434d-8883-2eddebd173e7\" xlink:actuate=\"onRequest\" xlink:href=\"psysml:09b3b88a-a3ba-434d-8883-2eddebd173e7\" xlink:show=\"new\" xlink:title=\"psysml:09b3b88a-a3ba-434d-8883-2eddebd173e7\" xlink:type=\"simple\"><rect fill=\"#FFFFFF\" height=\"45.9375\" id=\"E2\" style=\"stroke: #383838; stroke-width: 1.5;\" width=\"66\" x=\"32\" y=\"41\"/><text fill=\"#000000\" font-family=\"sans-serif\" font-size=\"12\" font-style=\"italic\" lengthAdjust=\"spacingAndGlyphs\" textLength=\"64\" x=\"33\" y=\"57.1387\">«part def»</text><text fill=\"#000000\" font-family=\"sans-serif\" font-size=\"12\" lengthAdjust=\"spacingAndGlyphs\" textLength=\"8\" x=\"61\" y=\"71.1074\">A</text><line style=\"stroke: #383838; stroke-width: 1.5;\" x1=\"33\" x2=\"97\" y1=\"78.9375\" y2=\"78.9375\"/></a><!--MD5=[435bafb4dcc173e52ecb2e9e991ed1fb]\n",
       "@startuml\r\n",
       "skinparam linetype polyline\r\n",
       "skinparam monochrome true\r\n",
       "skinparam classbackgroundcolor white\r\n",
       "skinparam shadowing false\r\n",
       "skinparam wrapWidth 300\r\n",
       "hide circle\r\n",
       "\r\n",
       "package \"P1\" as E1  [[psysml:80072e13-09a0-47de-8e75-bd5ae320c88b ]]  {\r\n",
       "comp def \"A\" as E2  <<(T,blue) part def>> [[psysml:09b3b88a-a3ba-434d-8883-2eddebd173e7 ]] {\r\n",
       "}\r\n",
       "}\r\n",
       "@enduml\r\n",
       "\n",
       "PlantUML version 1.2020.13(Sat Jun 13 12:26:38 UTC 2020)\n",
       "(EPL source distribution)\n",
       "Java Runtime: OpenJDK Runtime Environment\n",
       "JVM: OpenJDK 64-Bit Server VM\n",
       "Default Encoding: UTF-8\n",
       "Language: en\n",
       "Country: null\n",
       "--></g></svg>"
      ]
     },
     "execution_count": 10,
     "metadata": {},
     "output_type": "execute_result"
    }
   ],
   "source": [
    "%viz --style=\"POLYLINE\" --view=\"Tree\" \"P1\""
   ]
  },
  {
   "cell_type": "code",
   "execution_count": 11,
   "id": "92274c76",
   "metadata": {
    "execution": {
     "iopub.execute_input": "2021-06-30T09:22:32.325109Z",
     "iopub.status.busy": "2021-06-30T09:22:32.319172Z",
     "iopub.status.idle": "2021-06-30T09:22:32.353269Z",
     "shell.execute_reply": "2021-06-30T09:22:32.353585Z"
    }
   },
   "outputs": [
    {
     "data": {
      "image/svg+xml": [
       "<?xml version=\"1.0\" encoding=\"UTF-8\" standalone=\"no\"?><svg xmlns=\"http://www.w3.org/2000/svg\" xmlns:xlink=\"http://www.w3.org/1999/xlink\" contentScriptType=\"application/ecmascript\" contentStyleType=\"text/css\" height=\"12px\" preserveAspectRatio=\"none\" style=\"width:12px;height:12px;\" version=\"1.1\" viewBox=\"0 0 12 12\" width=\"12px\" zoomAndPan=\"magnify\"><defs/><g><!--MD5=[896ac0e7a515d8dd7765a661cb4ee08b]\n",
       "@startuml\r\n",
       "skinparam linetype polyline\r\n",
       "skinparam monochrome true\r\n",
       "skinparam classbackgroundcolor white\r\n",
       "skinparam shadowing false\r\n",
       "skinparam wrapWidth 300\r\n",
       "hide circle\r\n",
       "\r\n",
       "@enduml\r\n",
       "\n",
       "PlantUML version 1.2020.13(Sat Jun 13 12:26:38 UTC 2020)\n",
       "(EPL source distribution)\n",
       "Java Runtime: OpenJDK Runtime Environment\n",
       "JVM: OpenJDK 64-Bit Server VM\n",
       "Default Encoding: UTF-8\n",
       "Language: en\n",
       "Country: null\n",
       "--></g></svg>"
      ]
     },
     "execution_count": 11,
     "metadata": {},
     "output_type": "execute_result"
    }
   ],
   "source": [
    "%viz --style=\"POLYLINE\" --view=\"State\" \"P1\""
   ]
  },
  {
   "cell_type": "code",
   "execution_count": 12,
   "id": "1b9a6b6e",
   "metadata": {
    "execution": {
     "iopub.execute_input": "2021-06-30T09:22:32.413454Z",
     "iopub.status.busy": "2021-06-30T09:22:32.412877Z",
     "iopub.status.idle": "2021-06-30T09:22:32.455812Z",
     "shell.execute_reply": "2021-06-30T09:22:32.456410Z"
    }
   },
   "outputs": [
    {
     "data": {
      "image/svg+xml": [
       "<?xml version=\"1.0\" encoding=\"UTF-8\" standalone=\"no\"?><svg xmlns=\"http://www.w3.org/2000/svg\" xmlns:xlink=\"http://www.w3.org/1999/xlink\" contentScriptType=\"application/ecmascript\" contentStyleType=\"text/css\" height=\"112px\" preserveAspectRatio=\"none\" style=\"width:142px;height:112px;\" version=\"1.1\" viewBox=\"0 0 142 112\" width=\"142px\" zoomAndPan=\"magnify\"><defs/><g><!--MD5=[fbc87193dbaf4d95561dea2c320d4a47]\n",
       "cluster E1--><a href=\"psysml:80072e13-09a0-47de-8e75-bd5ae320c88b\" target=\"_top\" title=\"psysml:80072e13-09a0-47de-8e75-bd5ae320c88b\" xlink:actuate=\"onRequest\" xlink:href=\"psysml:80072e13-09a0-47de-8e75-bd5ae320c88b\" xlink:show=\"new\" xlink:title=\"psysml:80072e13-09a0-47de-8e75-bd5ae320c88b\" xlink:type=\"simple\"><polygon fill=\"#FFFFFF\" points=\"16,6,42,6,49,28.2969,120,28.2969,120,100,16,100,16,6\" style=\"stroke: #000000; stroke-width: 1.5;\"/><line style=\"stroke: #000000; stroke-width: 1.5;\" x1=\"16\" x2=\"49\" y1=\"28.2969\" y2=\"28.2969\"/><text fill=\"#000000\" font-family=\"sans-serif\" font-size=\"14\" font-weight=\"bold\" lengthAdjust=\"spacingAndGlyphs\" textLength=\"20\" x=\"20\" y=\"20.9951\">P1</text></a><g id=\"E1.E2\"><a href=\"psysml:09b3b88a-a3ba-434d-8883-2eddebd173e7\" target=\"_top\" title=\"psysml:09b3b88a-a3ba-434d-8883-2eddebd173e7\" xlink:actuate=\"onRequest\" xlink:href=\"psysml:09b3b88a-a3ba-434d-8883-2eddebd173e7\" xlink:show=\"new\" xlink:title=\"psysml:09b3b88a-a3ba-434d-8883-2eddebd173e7\" xlink:type=\"simple\"><rect fill=\"#FFFFFF\" height=\"42.9375\" id=\"E2\" style=\"stroke: #383838; stroke-width: 1.5;\" width=\"71\" x=\"32.5\" y=\"41\"/><rect fill=\"#F8F8F8\" height=\"37.9375\" style=\"stroke: #383838; stroke-width: 1.5;\" width=\"71\" x=\"32.5\" y=\"41\"/><text fill=\"#000000\" font-family=\"sans-serif\" font-size=\"12\" font-style=\"italic\" lengthAdjust=\"spacingAndGlyphs\" textLength=\"64\" x=\"36\" y=\"57.1387\">«part def»</text><text fill=\"#000000\" font-family=\"sans-serif\" font-size=\"12\" lengthAdjust=\"spacingAndGlyphs\" textLength=\"8\" x=\"64\" y=\"71.1074\">A</text></a></g><!--MD5=[dbe85778544ff0e6ab8f92b0056530d7]\n",
       "@startuml\r\n",
       "skinparam ranksep 10\r\n",
       "skinparam rectangle {\r\n",
       " backgroundColor<<block>> LightGreen\r\n",
       "}\r\n",
       "skinparam linetype polyline\r\n",
       "skinparam monochrome true\r\n",
       "skinparam classbackgroundcolor white\r\n",
       "skinparam shadowing false\r\n",
       "skinparam wrapWidth 300\r\n",
       "hide circle\r\n",
       "\r\n",
       "package \"P1\" as E1  [[psysml:80072e13-09a0-47de-8e75-bd5ae320c88b ]]  {\r\n",
       "rec def \"A\" as E2  <<(T,blue) part def>> [[psysml:09b3b88a-a3ba-434d-8883-2eddebd173e7 ]] {\r\n",
       "}\r\n",
       "}\r\n",
       "@enduml\r\n",
       "\n",
       "PlantUML version 1.2020.13(Sat Jun 13 12:26:38 UTC 2020)\n",
       "(EPL source distribution)\n",
       "Java Runtime: OpenJDK Runtime Environment\n",
       "JVM: OpenJDK 64-Bit Server VM\n",
       "Default Encoding: UTF-8\n",
       "Language: en\n",
       "Country: null\n",
       "--></g></svg>"
      ]
     },
     "execution_count": 12,
     "metadata": {},
     "output_type": "execute_result"
    }
   ],
   "source": [
    "%viz --style=\"POLYLINE\" --view=\"Interconnection\" \"P1\""
   ]
  },
  {
   "cell_type": "code",
   "execution_count": 13,
   "id": "ba5495c4",
   "metadata": {
    "execution": {
     "iopub.execute_input": "2021-06-30T09:22:32.510086Z",
     "iopub.status.busy": "2021-06-30T09:22:32.509234Z",
     "iopub.status.idle": "2021-06-30T09:22:32.527323Z",
     "shell.execute_reply": "2021-06-30T09:22:32.526808Z"
    }
   },
   "outputs": [
    {
     "data": {
      "image/svg+xml": [
       "<?xml version=\"1.0\" encoding=\"UTF-8\" standalone=\"no\"?><svg xmlns=\"http://www.w3.org/2000/svg\" xmlns:xlink=\"http://www.w3.org/1999/xlink\" contentScriptType=\"application/ecmascript\" contentStyleType=\"text/css\" height=\"12px\" preserveAspectRatio=\"none\" style=\"width:12px;height:12px;\" version=\"1.1\" viewBox=\"0 0 12 12\" width=\"12px\" zoomAndPan=\"magnify\"><defs/><g><!--MD5=[97bbf32f66ccd50cbc40d92ea8f5a65e]\n",
       "@startuml\r\n",
       "skinparam ranksep 8\r\n",
       "skinparam linetype polyline\r\n",
       "skinparam monochrome true\r\n",
       "skinparam classbackgroundcolor white\r\n",
       "skinparam shadowing false\r\n",
       "skinparam wrapWidth 300\r\n",
       "hide circle\r\n",
       "\r\n",
       "@enduml\r\n",
       "\n",
       "PlantUML version 1.2020.13(Sat Jun 13 12:26:38 UTC 2020)\n",
       "(EPL source distribution)\n",
       "Java Runtime: OpenJDK Runtime Environment\n",
       "JVM: OpenJDK 64-Bit Server VM\n",
       "Default Encoding: UTF-8\n",
       "Language: en\n",
       "Country: null\n",
       "--></g></svg>"
      ]
     },
     "execution_count": 13,
     "metadata": {},
     "output_type": "execute_result"
    }
   ],
   "source": [
    "%viz --style=\"POLYLINE\" --view=\"Action\" \"P1\""
   ]
  },
  {
   "cell_type": "code",
   "execution_count": 14,
   "id": "d67e790e",
   "metadata": {
    "execution": {
     "iopub.execute_input": "2021-06-30T09:22:32.580675Z",
     "iopub.status.busy": "2021-06-30T09:22:32.580262Z",
     "iopub.status.idle": "2021-06-30T09:22:32.623698Z",
     "shell.execute_reply": "2021-06-30T09:22:32.623347Z"
    }
   },
   "outputs": [
    {
     "data": {
      "image/svg+xml": [
       "<?xml version=\"1.0\" encoding=\"UTF-8\" standalone=\"no\"?><svg xmlns=\"http://www.w3.org/2000/svg\" xmlns:xlink=\"http://www.w3.org/1999/xlink\" contentScriptType=\"application/ecmascript\" contentStyleType=\"text/css\" height=\"115px\" preserveAspectRatio=\"none\" style=\"width:136px;height:115px;\" version=\"1.1\" viewBox=\"0 0 136 115\" width=\"136px\" zoomAndPan=\"magnify\"><defs/><g><!--MD5=[fbc87193dbaf4d95561dea2c320d4a47]\n",
       "cluster E1--><a href=\"psysml:80072e13-09a0-47de-8e75-bd5ae320c88b\" target=\"_top\" title=\"psysml:80072e13-09a0-47de-8e75-bd5ae320c88b\" xlink:actuate=\"onRequest\" xlink:href=\"psysml:80072e13-09a0-47de-8e75-bd5ae320c88b\" xlink:show=\"new\" xlink:title=\"psysml:80072e13-09a0-47de-8e75-bd5ae320c88b\" xlink:type=\"simple\"><polygon fill=\"#FFFFFF\" points=\"16,6,42,6,49,28.2969,114,28.2969,114,103,16,103,16,6\" style=\"stroke: #000000; stroke-width: 1.5;\"/><line style=\"stroke: #000000; stroke-width: 1.5;\" x1=\"16\" x2=\"49\" y1=\"28.2969\" y2=\"28.2969\"/><text fill=\"#000000\" font-family=\"sans-serif\" font-size=\"14\" font-weight=\"bold\" lengthAdjust=\"spacingAndGlyphs\" textLength=\"20\" x=\"20\" y=\"20.9951\">P1</text></a><!--MD5=[b4997ac47864f28c2f74865a473b2911]\n",
       "class E2--><a href=\"psysml:09b3b88a-a3ba-434d-8883-2eddebd173e7\" target=\"_top\" title=\"psysml:09b3b88a-a3ba-434d-8883-2eddebd173e7\" xlink:actuate=\"onRequest\" xlink:href=\"psysml:09b3b88a-a3ba-434d-8883-2eddebd173e7\" xlink:show=\"new\" xlink:title=\"psysml:09b3b88a-a3ba-434d-8883-2eddebd173e7\" xlink:type=\"simple\"><rect fill=\"#FFFFFF\" height=\"45.9375\" id=\"E2\" style=\"stroke: #383838; stroke-width: 1.5;\" width=\"66\" x=\"32\" y=\"41\"/><text fill=\"#000000\" font-family=\"sans-serif\" font-size=\"12\" font-style=\"italic\" lengthAdjust=\"spacingAndGlyphs\" textLength=\"64\" x=\"33\" y=\"57.1387\">«part def»</text><text fill=\"#000000\" font-family=\"sans-serif\" font-size=\"12\" lengthAdjust=\"spacingAndGlyphs\" textLength=\"8\" x=\"61\" y=\"71.1074\">A</text><line style=\"stroke: #383838; stroke-width: 1.5;\" x1=\"33\" x2=\"97\" y1=\"78.9375\" y2=\"78.9375\"/></a><!--MD5=[435bafb4dcc173e52ecb2e9e991ed1fb]\n",
       "@startuml\r\n",
       "skinparam linetype polyline\r\n",
       "skinparam monochrome true\r\n",
       "skinparam classbackgroundcolor white\r\n",
       "skinparam shadowing false\r\n",
       "skinparam wrapWidth 300\r\n",
       "hide circle\r\n",
       "\r\n",
       "package \"P1\" as E1  [[psysml:80072e13-09a0-47de-8e75-bd5ae320c88b ]]  {\r\n",
       "comp def \"A\" as E2  <<(T,blue) part def>> [[psysml:09b3b88a-a3ba-434d-8883-2eddebd173e7 ]] {\r\n",
       "}\r\n",
       "}\r\n",
       "@enduml\r\n",
       "\n",
       "PlantUML version 1.2020.13(Sat Jun 13 12:26:38 UTC 2020)\n",
       "(EPL source distribution)\n",
       "Java Runtime: OpenJDK Runtime Environment\n",
       "JVM: OpenJDK 64-Bit Server VM\n",
       "Default Encoding: UTF-8\n",
       "Language: en\n",
       "Country: null\n",
       "--></g></svg>"
      ]
     },
     "execution_count": 14,
     "metadata": {},
     "output_type": "execute_result"
    }
   ],
   "source": [
    "%viz --style=\"POLYLINE\" --view=\"Sequence\" \"P1\""
   ]
  },
  {
   "cell_type": "code",
   "execution_count": 15,
   "id": "be1387f5",
   "metadata": {
    "execution": {
     "iopub.execute_input": "2021-06-30T09:22:32.670734Z",
     "iopub.status.busy": "2021-06-30T09:22:32.670244Z",
     "iopub.status.idle": "2021-06-30T09:22:32.709204Z",
     "shell.execute_reply": "2021-06-30T09:22:32.708019Z"
    }
   },
   "outputs": [
    {
     "data": {
      "image/svg+xml": [
       "<?xml version=\"1.0\" encoding=\"UTF-8\" standalone=\"no\"?><svg xmlns=\"http://www.w3.org/2000/svg\" xmlns:xlink=\"http://www.w3.org/1999/xlink\" contentScriptType=\"application/ecmascript\" contentStyleType=\"text/css\" height=\"115px\" preserveAspectRatio=\"none\" style=\"width:136px;height:115px;\" version=\"1.1\" viewBox=\"0 0 136 115\" width=\"136px\" zoomAndPan=\"magnify\"><defs/><g><!--MD5=[fbc87193dbaf4d95561dea2c320d4a47]\n",
       "cluster E1--><a href=\"psysml:80072e13-09a0-47de-8e75-bd5ae320c88b\" target=\"_top\" title=\"psysml:80072e13-09a0-47de-8e75-bd5ae320c88b\" xlink:actuate=\"onRequest\" xlink:href=\"psysml:80072e13-09a0-47de-8e75-bd5ae320c88b\" xlink:show=\"new\" xlink:title=\"psysml:80072e13-09a0-47de-8e75-bd5ae320c88b\" xlink:type=\"simple\"><polygon fill=\"#FFFFFF\" points=\"16,6,42,6,49,28.2969,114,28.2969,114,103,16,103,16,6\" style=\"stroke: #000000; stroke-width: 1.5;\"/><line style=\"stroke: #000000; stroke-width: 1.5;\" x1=\"16\" x2=\"49\" y1=\"28.2969\" y2=\"28.2969\"/><text fill=\"#000000\" font-family=\"sans-serif\" font-size=\"14\" font-weight=\"bold\" lengthAdjust=\"spacingAndGlyphs\" textLength=\"20\" x=\"20\" y=\"20.9951\">P1</text></a><!--MD5=[b4997ac47864f28c2f74865a473b2911]\n",
       "class E2--><a href=\"psysml:09b3b88a-a3ba-434d-8883-2eddebd173e7\" target=\"_top\" title=\"psysml:09b3b88a-a3ba-434d-8883-2eddebd173e7\" xlink:actuate=\"onRequest\" xlink:href=\"psysml:09b3b88a-a3ba-434d-8883-2eddebd173e7\" xlink:show=\"new\" xlink:title=\"psysml:09b3b88a-a3ba-434d-8883-2eddebd173e7\" xlink:type=\"simple\"><rect fill=\"#FFFFFF\" height=\"45.9375\" id=\"E2\" style=\"stroke: #383838; stroke-width: 1.5;\" width=\"66\" x=\"32\" y=\"41\"/><text fill=\"#000000\" font-family=\"sans-serif\" font-size=\"12\" font-style=\"italic\" lengthAdjust=\"spacingAndGlyphs\" textLength=\"64\" x=\"33\" y=\"57.1387\">«part def»</text><text fill=\"#000000\" font-family=\"sans-serif\" font-size=\"12\" lengthAdjust=\"spacingAndGlyphs\" textLength=\"8\" x=\"61\" y=\"71.1074\">A</text><line style=\"stroke: #383838; stroke-width: 1.5;\" x1=\"33\" x2=\"97\" y1=\"78.9375\" y2=\"78.9375\"/></a><!--MD5=[435bafb4dcc173e52ecb2e9e991ed1fb]\n",
       "@startuml\r\n",
       "skinparam linetype polyline\r\n",
       "skinparam monochrome true\r\n",
       "skinparam classbackgroundcolor white\r\n",
       "skinparam shadowing false\r\n",
       "skinparam wrapWidth 300\r\n",
       "hide circle\r\n",
       "\r\n",
       "package \"P1\" as E1  [[psysml:80072e13-09a0-47de-8e75-bd5ae320c88b ]]  {\r\n",
       "comp def \"A\" as E2  <<(T,blue) part def>> [[psysml:09b3b88a-a3ba-434d-8883-2eddebd173e7 ]] {\r\n",
       "}\r\n",
       "}\r\n",
       "@enduml\r\n",
       "\n",
       "PlantUML version 1.2020.13(Sat Jun 13 12:26:38 UTC 2020)\n",
       "(EPL source distribution)\n",
       "Java Runtime: OpenJDK Runtime Environment\n",
       "JVM: OpenJDK 64-Bit Server VM\n",
       "Default Encoding: UTF-8\n",
       "Language: en\n",
       "Country: null\n",
       "--></g></svg>"
      ]
     },
     "execution_count": 15,
     "metadata": {},
     "output_type": "execute_result"
    }
   ],
   "source": [
    "%viz --style=\"POLYLINE\" --view=\"MIXED\" \"P1\""
   ]
  },
  {
   "cell_type": "code",
   "execution_count": 16,
   "id": "374ea41c",
   "metadata": {
    "execution": {
     "iopub.execute_input": "2021-06-30T09:22:32.759418Z",
     "iopub.status.busy": "2021-06-30T09:22:32.758952Z",
     "iopub.status.idle": "2021-06-30T09:22:32.786472Z",
     "shell.execute_reply": "2021-06-30T09:22:32.785885Z"
    }
   },
   "outputs": [
    {
     "data": {
      "image/svg+xml": [
       "<?xml version=\"1.0\" encoding=\"UTF-8\" standalone=\"no\"?><svg xmlns=\"http://www.w3.org/2000/svg\" xmlns:xlink=\"http://www.w3.org/1999/xlink\" contentScriptType=\"application/ecmascript\" contentStyleType=\"text/css\" height=\"115px\" preserveAspectRatio=\"none\" style=\"width:136px;height:115px;\" version=\"1.1\" viewBox=\"0 0 136 115\" width=\"136px\" zoomAndPan=\"magnify\"><defs/><g><!--MD5=[fbc87193dbaf4d95561dea2c320d4a47]\n",
       "cluster E1--><a href=\"psysml:80072e13-09a0-47de-8e75-bd5ae320c88b\" target=\"_top\" title=\"psysml:80072e13-09a0-47de-8e75-bd5ae320c88b\" xlink:actuate=\"onRequest\" xlink:href=\"psysml:80072e13-09a0-47de-8e75-bd5ae320c88b\" xlink:show=\"new\" xlink:title=\"psysml:80072e13-09a0-47de-8e75-bd5ae320c88b\" xlink:type=\"simple\"><polygon fill=\"#FFFFFF\" points=\"16,6,42,6,49,28.2969,114,28.2969,114,103,16,103,16,6\" style=\"stroke: #000000; stroke-width: 1.5;\"/><line style=\"stroke: #000000; stroke-width: 1.5;\" x1=\"16\" x2=\"49\" y1=\"28.2969\" y2=\"28.2969\"/><text fill=\"#000000\" font-family=\"sans-serif\" font-size=\"14\" font-weight=\"bold\" lengthAdjust=\"spacingAndGlyphs\" textLength=\"20\" x=\"20\" y=\"20.9951\">P1</text></a><!--MD5=[b4997ac47864f28c2f74865a473b2911]\n",
       "class E2--><a href=\"psysml:09b3b88a-a3ba-434d-8883-2eddebd173e7\" target=\"_top\" title=\"psysml:09b3b88a-a3ba-434d-8883-2eddebd173e7\" xlink:actuate=\"onRequest\" xlink:href=\"psysml:09b3b88a-a3ba-434d-8883-2eddebd173e7\" xlink:show=\"new\" xlink:title=\"psysml:09b3b88a-a3ba-434d-8883-2eddebd173e7\" xlink:type=\"simple\"><rect fill=\"#FFFFFF\" height=\"45.9375\" id=\"E2\" style=\"stroke: #383838; stroke-width: 1.5;\" width=\"66\" x=\"32\" y=\"41\"/><text fill=\"#000000\" font-family=\"sans-serif\" font-size=\"12\" font-style=\"italic\" lengthAdjust=\"spacingAndGlyphs\" textLength=\"64\" x=\"33\" y=\"57.1387\">«part def»</text><text fill=\"#000000\" font-family=\"sans-serif\" font-size=\"12\" lengthAdjust=\"spacingAndGlyphs\" textLength=\"8\" x=\"61\" y=\"71.1074\">A</text><line style=\"stroke: #383838; stroke-width: 1.5;\" x1=\"33\" x2=\"97\" y1=\"78.9375\" y2=\"78.9375\"/></a><!--MD5=[a874d1df539e942b82868dcff8ee902c]\n",
       "@startuml\r\n",
       "left to right direction\r\n",
       "skinparam monochrome true\r\n",
       "skinparam classbackgroundcolor white\r\n",
       "skinparam shadowing false\r\n",
       "skinparam wrapWidth 300\r\n",
       "hide circle\r\n",
       "\r\n",
       "package \"P1\" as E1  [[psysml:80072e13-09a0-47de-8e75-bd5ae320c88b ]]  {\r\n",
       "comp def \"A\" as E2  <<(T,blue) part def>> [[psysml:09b3b88a-a3ba-434d-8883-2eddebd173e7 ]] {\r\n",
       "}\r\n",
       "}\r\n",
       "@enduml\r\n",
       "\n",
       "PlantUML version 1.2020.13(Sat Jun 13 12:26:38 UTC 2020)\n",
       "(EPL source distribution)\n",
       "Java Runtime: OpenJDK Runtime Environment\n",
       "JVM: OpenJDK 64-Bit Server VM\n",
       "Default Encoding: UTF-8\n",
       "Language: en\n",
       "Country: null\n",
       "--></g></svg>"
      ]
     },
     "execution_count": 16,
     "metadata": {},
     "output_type": "execute_result"
    }
   ],
   "source": [
    "%viz --style=\"LR\" --view=\"Default\" \"P1\""
   ]
  },
  {
   "cell_type": "code",
   "execution_count": 17,
   "id": "3716f09b",
   "metadata": {
    "execution": {
     "iopub.execute_input": "2021-06-30T09:22:32.845002Z",
     "iopub.status.busy": "2021-06-30T09:22:32.838226Z",
     "iopub.status.idle": "2021-06-30T09:22:32.879248Z",
     "shell.execute_reply": "2021-06-30T09:22:32.879507Z"
    }
   },
   "outputs": [
    {
     "data": {
      "image/svg+xml": [
       "<?xml version=\"1.0\" encoding=\"UTF-8\" standalone=\"no\"?><svg xmlns=\"http://www.w3.org/2000/svg\" xmlns:xlink=\"http://www.w3.org/1999/xlink\" contentScriptType=\"application/ecmascript\" contentStyleType=\"text/css\" height=\"115px\" preserveAspectRatio=\"none\" style=\"width:136px;height:115px;\" version=\"1.1\" viewBox=\"0 0 136 115\" width=\"136px\" zoomAndPan=\"magnify\"><defs/><g><!--MD5=[fbc87193dbaf4d95561dea2c320d4a47]\n",
       "cluster E1--><a href=\"psysml:80072e13-09a0-47de-8e75-bd5ae320c88b\" target=\"_top\" title=\"psysml:80072e13-09a0-47de-8e75-bd5ae320c88b\" xlink:actuate=\"onRequest\" xlink:href=\"psysml:80072e13-09a0-47de-8e75-bd5ae320c88b\" xlink:show=\"new\" xlink:title=\"psysml:80072e13-09a0-47de-8e75-bd5ae320c88b\" xlink:type=\"simple\"><polygon fill=\"#FFFFFF\" points=\"16,6,42,6,49,28.2969,114,28.2969,114,103,16,103,16,6\" style=\"stroke: #000000; stroke-width: 1.5;\"/><line style=\"stroke: #000000; stroke-width: 1.5;\" x1=\"16\" x2=\"49\" y1=\"28.2969\" y2=\"28.2969\"/><text fill=\"#000000\" font-family=\"sans-serif\" font-size=\"14\" font-weight=\"bold\" lengthAdjust=\"spacingAndGlyphs\" textLength=\"20\" x=\"20\" y=\"20.9951\">P1</text></a><!--MD5=[b4997ac47864f28c2f74865a473b2911]\n",
       "class E2--><a href=\"psysml:09b3b88a-a3ba-434d-8883-2eddebd173e7\" target=\"_top\" title=\"psysml:09b3b88a-a3ba-434d-8883-2eddebd173e7\" xlink:actuate=\"onRequest\" xlink:href=\"psysml:09b3b88a-a3ba-434d-8883-2eddebd173e7\" xlink:show=\"new\" xlink:title=\"psysml:09b3b88a-a3ba-434d-8883-2eddebd173e7\" xlink:type=\"simple\"><rect fill=\"#FFFFFF\" height=\"45.9375\" id=\"E2\" style=\"stroke: #383838; stroke-width: 1.5;\" width=\"66\" x=\"32\" y=\"41\"/><text fill=\"#000000\" font-family=\"sans-serif\" font-size=\"12\" font-style=\"italic\" lengthAdjust=\"spacingAndGlyphs\" textLength=\"64\" x=\"33\" y=\"57.1387\">«part def»</text><text fill=\"#000000\" font-family=\"sans-serif\" font-size=\"12\" lengthAdjust=\"spacingAndGlyphs\" textLength=\"8\" x=\"61\" y=\"71.1074\">A</text><line style=\"stroke: #383838; stroke-width: 1.5;\" x1=\"33\" x2=\"97\" y1=\"78.9375\" y2=\"78.9375\"/></a><!--MD5=[a874d1df539e942b82868dcff8ee902c]\n",
       "@startuml\r\n",
       "left to right direction\r\n",
       "skinparam monochrome true\r\n",
       "skinparam classbackgroundcolor white\r\n",
       "skinparam shadowing false\r\n",
       "skinparam wrapWidth 300\r\n",
       "hide circle\r\n",
       "\r\n",
       "package \"P1\" as E1  [[psysml:80072e13-09a0-47de-8e75-bd5ae320c88b ]]  {\r\n",
       "comp def \"A\" as E2  <<(T,blue) part def>> [[psysml:09b3b88a-a3ba-434d-8883-2eddebd173e7 ]] {\r\n",
       "}\r\n",
       "}\r\n",
       "@enduml\r\n",
       "\n",
       "PlantUML version 1.2020.13(Sat Jun 13 12:26:38 UTC 2020)\n",
       "(EPL source distribution)\n",
       "Java Runtime: OpenJDK Runtime Environment\n",
       "JVM: OpenJDK 64-Bit Server VM\n",
       "Default Encoding: UTF-8\n",
       "Language: en\n",
       "Country: null\n",
       "--></g></svg>"
      ]
     },
     "execution_count": 17,
     "metadata": {},
     "output_type": "execute_result"
    }
   ],
   "source": [
    "%viz --style=\"LR\" --view=\"Tree\" \"P1\""
   ]
  },
  {
   "cell_type": "code",
   "execution_count": 18,
   "id": "ba0f093a",
   "metadata": {
    "execution": {
     "iopub.execute_input": "2021-06-30T09:22:32.930001Z",
     "iopub.status.busy": "2021-06-30T09:22:32.929525Z",
     "iopub.status.idle": "2021-06-30T09:22:32.935210Z",
     "shell.execute_reply": "2021-06-30T09:22:32.934911Z"
    }
   },
   "outputs": [
    {
     "data": {
      "image/svg+xml": [
       "<?xml version=\"1.0\" encoding=\"UTF-8\" standalone=\"no\"?><svg xmlns=\"http://www.w3.org/2000/svg\" xmlns:xlink=\"http://www.w3.org/1999/xlink\" contentScriptType=\"application/ecmascript\" contentStyleType=\"text/css\" height=\"12px\" preserveAspectRatio=\"none\" style=\"width:12px;height:12px;\" version=\"1.1\" viewBox=\"0 0 12 12\" width=\"12px\" zoomAndPan=\"magnify\"><defs/><g><!--MD5=[19d285c9d72a204eba4e2cd117d745e8]\n",
       "@startuml\r\n",
       "left to right direction\r\n",
       "skinparam monochrome true\r\n",
       "skinparam classbackgroundcolor white\r\n",
       "skinparam shadowing false\r\n",
       "skinparam wrapWidth 300\r\n",
       "hide circle\r\n",
       "\r\n",
       "@enduml\r\n",
       "\n",
       "PlantUML version 1.2020.13(Sat Jun 13 12:26:38 UTC 2020)\n",
       "(EPL source distribution)\n",
       "Java Runtime: OpenJDK Runtime Environment\n",
       "JVM: OpenJDK 64-Bit Server VM\n",
       "Default Encoding: UTF-8\n",
       "Language: en\n",
       "Country: null\n",
       "--></g></svg>"
      ]
     },
     "execution_count": 18,
     "metadata": {},
     "output_type": "execute_result"
    }
   ],
   "source": [
    "%viz --style=\"LR\" --view=\"State\" \"P1\""
   ]
  },
  {
   "cell_type": "code",
   "execution_count": 19,
   "id": "f641c042",
   "metadata": {
    "execution": {
     "iopub.execute_input": "2021-06-30T09:22:32.987307Z",
     "iopub.status.busy": "2021-06-30T09:22:32.986836Z",
     "iopub.status.idle": "2021-06-30T09:22:33.012865Z",
     "shell.execute_reply": "2021-06-30T09:22:33.012575Z"
    }
   },
   "outputs": [
    {
     "data": {
      "image/svg+xml": [
       "<?xml version=\"1.0\" encoding=\"UTF-8\" standalone=\"no\"?><svg xmlns=\"http://www.w3.org/2000/svg\" xmlns:xlink=\"http://www.w3.org/1999/xlink\" contentScriptType=\"application/ecmascript\" contentStyleType=\"text/css\" height=\"113px\" preserveAspectRatio=\"none\" style=\"width:141px;height:113px;\" version=\"1.1\" viewBox=\"0 0 141 113\" width=\"141px\" zoomAndPan=\"magnify\"><defs/><g><!--MD5=[fbc87193dbaf4d95561dea2c320d4a47]\n",
       "cluster E1--><a href=\"psysml:80072e13-09a0-47de-8e75-bd5ae320c88b\" target=\"_top\" title=\"psysml:80072e13-09a0-47de-8e75-bd5ae320c88b\" xlink:actuate=\"onRequest\" xlink:href=\"psysml:80072e13-09a0-47de-8e75-bd5ae320c88b\" xlink:show=\"new\" xlink:title=\"psysml:80072e13-09a0-47de-8e75-bd5ae320c88b\" xlink:type=\"simple\"><polygon fill=\"#FFFFFF\" points=\"16,6,42,6,49,28.2969,119,28.2969,119,101,16,101,16,6\" style=\"stroke: #000000; stroke-width: 1.5;\"/><line style=\"stroke: #000000; stroke-width: 1.5;\" x1=\"16\" x2=\"49\" y1=\"28.2969\" y2=\"28.2969\"/><text fill=\"#000000\" font-family=\"sans-serif\" font-size=\"14\" font-weight=\"bold\" lengthAdjust=\"spacingAndGlyphs\" textLength=\"20\" x=\"20\" y=\"20.9951\">P1</text></a><g id=\"E1.E2\"><a href=\"psysml:09b3b88a-a3ba-434d-8883-2eddebd173e7\" target=\"_top\" title=\"psysml:09b3b88a-a3ba-434d-8883-2eddebd173e7\" xlink:actuate=\"onRequest\" xlink:href=\"psysml:09b3b88a-a3ba-434d-8883-2eddebd173e7\" xlink:show=\"new\" xlink:title=\"psysml:09b3b88a-a3ba-434d-8883-2eddebd173e7\" xlink:type=\"simple\"><rect fill=\"#FFFFFF\" height=\"42.9375\" id=\"E2\" style=\"stroke: #383838; stroke-width: 1.5;\" width=\"71\" x=\"32\" y=\"41.5\"/><rect fill=\"#F8F8F8\" height=\"37.9375\" style=\"stroke: #383838; stroke-width: 1.5;\" width=\"71\" x=\"32\" y=\"41.5\"/><text fill=\"#000000\" font-family=\"sans-serif\" font-size=\"12\" font-style=\"italic\" lengthAdjust=\"spacingAndGlyphs\" textLength=\"64\" x=\"35.5\" y=\"57.6387\">«part def»</text><text fill=\"#000000\" font-family=\"sans-serif\" font-size=\"12\" lengthAdjust=\"spacingAndGlyphs\" textLength=\"8\" x=\"63.5\" y=\"71.6074\">A</text></a></g><!--MD5=[cffb0f18d8452d3895c48d56450a810b]\n",
       "@startuml\r\n",
       "skinparam ranksep 10\r\n",
       "skinparam rectangle {\r\n",
       " backgroundColor<<block>> LightGreen\r\n",
       "}\r\n",
       "left to right direction\r\n",
       "skinparam monochrome true\r\n",
       "skinparam classbackgroundcolor white\r\n",
       "skinparam shadowing false\r\n",
       "skinparam wrapWidth 300\r\n",
       "hide circle\r\n",
       "\r\n",
       "package \"P1\" as E1  [[psysml:80072e13-09a0-47de-8e75-bd5ae320c88b ]]  {\r\n",
       "rec def \"A\" as E2  <<(T,blue) part def>> [[psysml:09b3b88a-a3ba-434d-8883-2eddebd173e7 ]] {\r\n",
       "}\r\n",
       "}\r\n",
       "@enduml\r\n",
       "\n",
       "PlantUML version 1.2020.13(Sat Jun 13 12:26:38 UTC 2020)\n",
       "(EPL source distribution)\n",
       "Java Runtime: OpenJDK Runtime Environment\n",
       "JVM: OpenJDK 64-Bit Server VM\n",
       "Default Encoding: UTF-8\n",
       "Language: en\n",
       "Country: null\n",
       "--></g></svg>"
      ]
     },
     "execution_count": 19,
     "metadata": {},
     "output_type": "execute_result"
    }
   ],
   "source": [
    "%viz --style=\"LR\" --view=\"Interconnection\" \"P1\""
   ]
  },
  {
   "cell_type": "code",
   "execution_count": 20,
   "id": "3fe7b366",
   "metadata": {
    "execution": {
     "iopub.execute_input": "2021-06-30T09:22:33.063954Z",
     "iopub.status.busy": "2021-06-30T09:22:33.063245Z",
     "iopub.status.idle": "2021-06-30T09:22:33.075738Z",
     "shell.execute_reply": "2021-06-30T09:22:33.075224Z"
    }
   },
   "outputs": [
    {
     "data": {
      "image/svg+xml": [
       "<?xml version=\"1.0\" encoding=\"UTF-8\" standalone=\"no\"?><svg xmlns=\"http://www.w3.org/2000/svg\" xmlns:xlink=\"http://www.w3.org/1999/xlink\" contentScriptType=\"application/ecmascript\" contentStyleType=\"text/css\" height=\"12px\" preserveAspectRatio=\"none\" style=\"width:12px;height:12px;\" version=\"1.1\" viewBox=\"0 0 12 12\" width=\"12px\" zoomAndPan=\"magnify\"><defs/><g><!--MD5=[7aeb398939421629f6affaa4a1a7b125]\n",
       "@startuml\r\n",
       "skinparam ranksep 8\r\n",
       "left to right direction\r\n",
       "skinparam monochrome true\r\n",
       "skinparam classbackgroundcolor white\r\n",
       "skinparam shadowing false\r\n",
       "skinparam wrapWidth 300\r\n",
       "hide circle\r\n",
       "\r\n",
       "@enduml\r\n",
       "\n",
       "PlantUML version 1.2020.13(Sat Jun 13 12:26:38 UTC 2020)\n",
       "(EPL source distribution)\n",
       "Java Runtime: OpenJDK Runtime Environment\n",
       "JVM: OpenJDK 64-Bit Server VM\n",
       "Default Encoding: UTF-8\n",
       "Language: en\n",
       "Country: null\n",
       "--></g></svg>"
      ]
     },
     "execution_count": 20,
     "metadata": {},
     "output_type": "execute_result"
    }
   ],
   "source": [
    "%viz --style=\"LR\" --view=\"Action\" \"P1\""
   ]
  },
  {
   "cell_type": "code",
   "execution_count": 21,
   "id": "3b77a082",
   "metadata": {
    "execution": {
     "iopub.execute_input": "2021-06-30T09:22:33.132354Z",
     "iopub.status.busy": "2021-06-30T09:22:33.130020Z",
     "iopub.status.idle": "2021-06-30T09:22:33.158667Z",
     "shell.execute_reply": "2021-06-30T09:22:33.158076Z"
    }
   },
   "outputs": [
    {
     "data": {
      "image/svg+xml": [
       "<?xml version=\"1.0\" encoding=\"UTF-8\" standalone=\"no\"?><svg xmlns=\"http://www.w3.org/2000/svg\" xmlns:xlink=\"http://www.w3.org/1999/xlink\" contentScriptType=\"application/ecmascript\" contentStyleType=\"text/css\" height=\"115px\" preserveAspectRatio=\"none\" style=\"width:136px;height:115px;\" version=\"1.1\" viewBox=\"0 0 136 115\" width=\"136px\" zoomAndPan=\"magnify\"><defs/><g><!--MD5=[fbc87193dbaf4d95561dea2c320d4a47]\n",
       "cluster E1--><a href=\"psysml:80072e13-09a0-47de-8e75-bd5ae320c88b\" target=\"_top\" title=\"psysml:80072e13-09a0-47de-8e75-bd5ae320c88b\" xlink:actuate=\"onRequest\" xlink:href=\"psysml:80072e13-09a0-47de-8e75-bd5ae320c88b\" xlink:show=\"new\" xlink:title=\"psysml:80072e13-09a0-47de-8e75-bd5ae320c88b\" xlink:type=\"simple\"><polygon fill=\"#FFFFFF\" points=\"16,6,42,6,49,28.2969,114,28.2969,114,103,16,103,16,6\" style=\"stroke: #000000; stroke-width: 1.5;\"/><line style=\"stroke: #000000; stroke-width: 1.5;\" x1=\"16\" x2=\"49\" y1=\"28.2969\" y2=\"28.2969\"/><text fill=\"#000000\" font-family=\"sans-serif\" font-size=\"14\" font-weight=\"bold\" lengthAdjust=\"spacingAndGlyphs\" textLength=\"20\" x=\"20\" y=\"20.9951\">P1</text></a><!--MD5=[b4997ac47864f28c2f74865a473b2911]\n",
       "class E2--><a href=\"psysml:09b3b88a-a3ba-434d-8883-2eddebd173e7\" target=\"_top\" title=\"psysml:09b3b88a-a3ba-434d-8883-2eddebd173e7\" xlink:actuate=\"onRequest\" xlink:href=\"psysml:09b3b88a-a3ba-434d-8883-2eddebd173e7\" xlink:show=\"new\" xlink:title=\"psysml:09b3b88a-a3ba-434d-8883-2eddebd173e7\" xlink:type=\"simple\"><rect fill=\"#FFFFFF\" height=\"45.9375\" id=\"E2\" style=\"stroke: #383838; stroke-width: 1.5;\" width=\"66\" x=\"32\" y=\"41\"/><text fill=\"#000000\" font-family=\"sans-serif\" font-size=\"12\" font-style=\"italic\" lengthAdjust=\"spacingAndGlyphs\" textLength=\"64\" x=\"33\" y=\"57.1387\">«part def»</text><text fill=\"#000000\" font-family=\"sans-serif\" font-size=\"12\" lengthAdjust=\"spacingAndGlyphs\" textLength=\"8\" x=\"61\" y=\"71.1074\">A</text><line style=\"stroke: #383838; stroke-width: 1.5;\" x1=\"33\" x2=\"97\" y1=\"78.9375\" y2=\"78.9375\"/></a><!--MD5=[a874d1df539e942b82868dcff8ee902c]\n",
       "@startuml\r\n",
       "left to right direction\r\n",
       "skinparam monochrome true\r\n",
       "skinparam classbackgroundcolor white\r\n",
       "skinparam shadowing false\r\n",
       "skinparam wrapWidth 300\r\n",
       "hide circle\r\n",
       "\r\n",
       "package \"P1\" as E1  [[psysml:80072e13-09a0-47de-8e75-bd5ae320c88b ]]  {\r\n",
       "comp def \"A\" as E2  <<(T,blue) part def>> [[psysml:09b3b88a-a3ba-434d-8883-2eddebd173e7 ]] {\r\n",
       "}\r\n",
       "}\r\n",
       "@enduml\r\n",
       "\n",
       "PlantUML version 1.2020.13(Sat Jun 13 12:26:38 UTC 2020)\n",
       "(EPL source distribution)\n",
       "Java Runtime: OpenJDK Runtime Environment\n",
       "JVM: OpenJDK 64-Bit Server VM\n",
       "Default Encoding: UTF-8\n",
       "Language: en\n",
       "Country: null\n",
       "--></g></svg>"
      ]
     },
     "execution_count": 21,
     "metadata": {},
     "output_type": "execute_result"
    }
   ],
   "source": [
    "%viz --style=\"LR\" --view=\"Sequence\" \"P1\""
   ]
  },
  {
   "cell_type": "code",
   "execution_count": 22,
   "id": "9ecf0927",
   "metadata": {
    "execution": {
     "iopub.execute_input": "2021-06-30T09:22:33.211514Z",
     "iopub.status.busy": "2021-06-30T09:22:33.210541Z",
     "iopub.status.idle": "2021-06-30T09:22:33.235079Z",
     "shell.execute_reply": "2021-06-30T09:22:33.234792Z"
    }
   },
   "outputs": [
    {
     "data": {
      "image/svg+xml": [
       "<?xml version=\"1.0\" encoding=\"UTF-8\" standalone=\"no\"?><svg xmlns=\"http://www.w3.org/2000/svg\" xmlns:xlink=\"http://www.w3.org/1999/xlink\" contentScriptType=\"application/ecmascript\" contentStyleType=\"text/css\" height=\"115px\" preserveAspectRatio=\"none\" style=\"width:136px;height:115px;\" version=\"1.1\" viewBox=\"0 0 136 115\" width=\"136px\" zoomAndPan=\"magnify\"><defs/><g><!--MD5=[fbc87193dbaf4d95561dea2c320d4a47]\n",
       "cluster E1--><a href=\"psysml:80072e13-09a0-47de-8e75-bd5ae320c88b\" target=\"_top\" title=\"psysml:80072e13-09a0-47de-8e75-bd5ae320c88b\" xlink:actuate=\"onRequest\" xlink:href=\"psysml:80072e13-09a0-47de-8e75-bd5ae320c88b\" xlink:show=\"new\" xlink:title=\"psysml:80072e13-09a0-47de-8e75-bd5ae320c88b\" xlink:type=\"simple\"><polygon fill=\"#FFFFFF\" points=\"16,6,42,6,49,28.2969,114,28.2969,114,103,16,103,16,6\" style=\"stroke: #000000; stroke-width: 1.5;\"/><line style=\"stroke: #000000; stroke-width: 1.5;\" x1=\"16\" x2=\"49\" y1=\"28.2969\" y2=\"28.2969\"/><text fill=\"#000000\" font-family=\"sans-serif\" font-size=\"14\" font-weight=\"bold\" lengthAdjust=\"spacingAndGlyphs\" textLength=\"20\" x=\"20\" y=\"20.9951\">P1</text></a><!--MD5=[b4997ac47864f28c2f74865a473b2911]\n",
       "class E2--><a href=\"psysml:09b3b88a-a3ba-434d-8883-2eddebd173e7\" target=\"_top\" title=\"psysml:09b3b88a-a3ba-434d-8883-2eddebd173e7\" xlink:actuate=\"onRequest\" xlink:href=\"psysml:09b3b88a-a3ba-434d-8883-2eddebd173e7\" xlink:show=\"new\" xlink:title=\"psysml:09b3b88a-a3ba-434d-8883-2eddebd173e7\" xlink:type=\"simple\"><rect fill=\"#FFFFFF\" height=\"45.9375\" id=\"E2\" style=\"stroke: #383838; stroke-width: 1.5;\" width=\"66\" x=\"32\" y=\"41\"/><text fill=\"#000000\" font-family=\"sans-serif\" font-size=\"12\" font-style=\"italic\" lengthAdjust=\"spacingAndGlyphs\" textLength=\"64\" x=\"33\" y=\"57.1387\">«part def»</text><text fill=\"#000000\" font-family=\"sans-serif\" font-size=\"12\" lengthAdjust=\"spacingAndGlyphs\" textLength=\"8\" x=\"61\" y=\"71.1074\">A</text><line style=\"stroke: #383838; stroke-width: 1.5;\" x1=\"33\" x2=\"97\" y1=\"78.9375\" y2=\"78.9375\"/></a><!--MD5=[a874d1df539e942b82868dcff8ee902c]\n",
       "@startuml\r\n",
       "left to right direction\r\n",
       "skinparam monochrome true\r\n",
       "skinparam classbackgroundcolor white\r\n",
       "skinparam shadowing false\r\n",
       "skinparam wrapWidth 300\r\n",
       "hide circle\r\n",
       "\r\n",
       "package \"P1\" as E1  [[psysml:80072e13-09a0-47de-8e75-bd5ae320c88b ]]  {\r\n",
       "comp def \"A\" as E2  <<(T,blue) part def>> [[psysml:09b3b88a-a3ba-434d-8883-2eddebd173e7 ]] {\r\n",
       "}\r\n",
       "}\r\n",
       "@enduml\r\n",
       "\n",
       "PlantUML version 1.2020.13(Sat Jun 13 12:26:38 UTC 2020)\n",
       "(EPL source distribution)\n",
       "Java Runtime: OpenJDK Runtime Environment\n",
       "JVM: OpenJDK 64-Bit Server VM\n",
       "Default Encoding: UTF-8\n",
       "Language: en\n",
       "Country: null\n",
       "--></g></svg>"
      ]
     },
     "execution_count": 22,
     "metadata": {},
     "output_type": "execute_result"
    }
   ],
   "source": [
    "%viz --style=\"LR\" --view=\"MIXED\" \"P1\""
   ]
  },
  {
   "cell_type": "code",
   "execution_count": 23,
   "id": "1f7baa9f",
   "metadata": {
    "execution": {
     "iopub.execute_input": "2021-06-30T09:22:33.287076Z",
     "iopub.status.busy": "2021-06-30T09:22:33.285751Z",
     "iopub.status.idle": "2021-06-30T09:22:33.312020Z",
     "shell.execute_reply": "2021-06-30T09:22:33.312313Z"
    }
   },
   "outputs": [
    {
     "data": {
      "image/svg+xml": [
       "<?xml version=\"1.0\" encoding=\"UTF-8\" standalone=\"no\"?><svg xmlns=\"http://www.w3.org/2000/svg\" xmlns:xlink=\"http://www.w3.org/1999/xlink\" contentScriptType=\"application/ecmascript\" contentStyleType=\"text/css\" height=\"115px\" preserveAspectRatio=\"none\" style=\"width:136px;height:115px;\" version=\"1.1\" viewBox=\"0 0 136 115\" width=\"136px\" zoomAndPan=\"magnify\"><defs><filter height=\"300%\" id=\"fjx99o955whkx\" width=\"300%\" x=\"-1\" y=\"-1\"><feGaussianBlur result=\"blurOut\" stdDeviation=\"2.0\"/><feColorMatrix in=\"blurOut\" result=\"blurOut2\" type=\"matrix\" values=\"0 0 0 0 0 0 0 0 0 0 0 0 0 0 0 0 0 0 .4 0\"/><feOffset dx=\"4.0\" dy=\"4.0\" in=\"blurOut2\" result=\"blurOut3\"/><feBlend in=\"SourceGraphic\" in2=\"blurOut3\" mode=\"normal\"/></filter></defs><g><!--MD5=[fbc87193dbaf4d95561dea2c320d4a47]\n",
       "cluster E1--><a href=\"psysml:80072e13-09a0-47de-8e75-bd5ae320c88b\" target=\"_top\" title=\"psysml:80072e13-09a0-47de-8e75-bd5ae320c88b\" xlink:actuate=\"onRequest\" xlink:href=\"psysml:80072e13-09a0-47de-8e75-bd5ae320c88b\" xlink:show=\"new\" xlink:title=\"psysml:80072e13-09a0-47de-8e75-bd5ae320c88b\" xlink:type=\"simple\"><polygon fill=\"#FFFFFF\" filter=\"url(#fjx99o955whkx)\" points=\"16,6,42,6,49,28.2969,114,28.2969,114,103,16,103,16,6\" style=\"stroke: #000000; stroke-width: 1.5;\"/><line style=\"stroke: #000000; stroke-width: 1.5;\" x1=\"16\" x2=\"49\" y1=\"28.2969\" y2=\"28.2969\"/><text fill=\"#000000\" font-family=\"sans-serif\" font-size=\"14\" font-weight=\"bold\" lengthAdjust=\"spacingAndGlyphs\" textLength=\"20\" x=\"20\" y=\"20.9951\">P1</text></a><!--MD5=[b4997ac47864f28c2f74865a473b2911]\n",
       "class E2--><a href=\"psysml:09b3b88a-a3ba-434d-8883-2eddebd173e7\" target=\"_top\" title=\"psysml:09b3b88a-a3ba-434d-8883-2eddebd173e7\" xlink:actuate=\"onRequest\" xlink:href=\"psysml:09b3b88a-a3ba-434d-8883-2eddebd173e7\" xlink:show=\"new\" xlink:title=\"psysml:09b3b88a-a3ba-434d-8883-2eddebd173e7\" xlink:type=\"simple\"><rect fill=\"#FEFECE\" filter=\"url(#fjx99o955whkx)\" height=\"45.9375\" id=\"E2\" style=\"stroke: #A80036; stroke-width: 1.5;\" width=\"66\" x=\"32\" y=\"41\"/><text fill=\"#000000\" font-family=\"sans-serif\" font-size=\"12\" font-style=\"italic\" lengthAdjust=\"spacingAndGlyphs\" textLength=\"64\" x=\"33\" y=\"57.1387\">«part def»</text><text fill=\"#000000\" font-family=\"sans-serif\" font-size=\"12\" lengthAdjust=\"spacingAndGlyphs\" textLength=\"8\" x=\"61\" y=\"71.1074\">A</text><line style=\"stroke: #A80036; stroke-width: 1.5;\" x1=\"33\" x2=\"97\" y1=\"78.9375\" y2=\"78.9375\"/></a><!--MD5=[404470005ce590158357068d72a67d78]\n",
       "@startuml\r\n",
       "skinparam wrapWidth 300\r\n",
       "hide circle\r\n",
       "\r\n",
       "package \"P1\" as E1  [[psysml:80072e13-09a0-47de-8e75-bd5ae320c88b ]]  {\r\n",
       "comp def \"A\" as E2  <<(T,blue) part def>> [[psysml:09b3b88a-a3ba-434d-8883-2eddebd173e7 ]] {\r\n",
       "}\r\n",
       "}\r\n",
       "@enduml\r\n",
       "\n",
       "PlantUML version 1.2020.13(Sat Jun 13 12:26:38 UTC 2020)\n",
       "(EPL source distribution)\n",
       "Java Runtime: OpenJDK Runtime Environment\n",
       "JVM: OpenJDK 64-Bit Server VM\n",
       "Default Encoding: UTF-8\n",
       "Language: en\n",
       "Country: null\n",
       "--></g></svg>"
      ]
     },
     "execution_count": 23,
     "metadata": {},
     "output_type": "execute_result"
    }
   ],
   "source": [
    "%viz --style=\"STDCOLOR\" --view=\"Default\" \"P1\""
   ]
  },
  {
   "cell_type": "code",
   "execution_count": 24,
   "id": "9d3a0ba0",
   "metadata": {
    "execution": {
     "iopub.execute_input": "2021-06-30T09:22:33.363702Z",
     "iopub.status.busy": "2021-06-30T09:22:33.363236Z",
     "iopub.status.idle": "2021-06-30T09:22:33.396933Z",
     "shell.execute_reply": "2021-06-30T09:22:33.396659Z"
    }
   },
   "outputs": [
    {
     "data": {
      "image/svg+xml": [
       "<?xml version=\"1.0\" encoding=\"UTF-8\" standalone=\"no\"?><svg xmlns=\"http://www.w3.org/2000/svg\" xmlns:xlink=\"http://www.w3.org/1999/xlink\" contentScriptType=\"application/ecmascript\" contentStyleType=\"text/css\" height=\"115px\" preserveAspectRatio=\"none\" style=\"width:136px;height:115px;\" version=\"1.1\" viewBox=\"0 0 136 115\" width=\"136px\" zoomAndPan=\"magnify\"><defs><filter height=\"300%\" id=\"fjx99o955whkx\" width=\"300%\" x=\"-1\" y=\"-1\"><feGaussianBlur result=\"blurOut\" stdDeviation=\"2.0\"/><feColorMatrix in=\"blurOut\" result=\"blurOut2\" type=\"matrix\" values=\"0 0 0 0 0 0 0 0 0 0 0 0 0 0 0 0 0 0 .4 0\"/><feOffset dx=\"4.0\" dy=\"4.0\" in=\"blurOut2\" result=\"blurOut3\"/><feBlend in=\"SourceGraphic\" in2=\"blurOut3\" mode=\"normal\"/></filter></defs><g><!--MD5=[fbc87193dbaf4d95561dea2c320d4a47]\n",
       "cluster E1--><a href=\"psysml:80072e13-09a0-47de-8e75-bd5ae320c88b\" target=\"_top\" title=\"psysml:80072e13-09a0-47de-8e75-bd5ae320c88b\" xlink:actuate=\"onRequest\" xlink:href=\"psysml:80072e13-09a0-47de-8e75-bd5ae320c88b\" xlink:show=\"new\" xlink:title=\"psysml:80072e13-09a0-47de-8e75-bd5ae320c88b\" xlink:type=\"simple\"><polygon fill=\"#FFFFFF\" filter=\"url(#fjx99o955whkx)\" points=\"16,6,42,6,49,28.2969,114,28.2969,114,103,16,103,16,6\" style=\"stroke: #000000; stroke-width: 1.5;\"/><line style=\"stroke: #000000; stroke-width: 1.5;\" x1=\"16\" x2=\"49\" y1=\"28.2969\" y2=\"28.2969\"/><text fill=\"#000000\" font-family=\"sans-serif\" font-size=\"14\" font-weight=\"bold\" lengthAdjust=\"spacingAndGlyphs\" textLength=\"20\" x=\"20\" y=\"20.9951\">P1</text></a><!--MD5=[b4997ac47864f28c2f74865a473b2911]\n",
       "class E2--><a href=\"psysml:09b3b88a-a3ba-434d-8883-2eddebd173e7\" target=\"_top\" title=\"psysml:09b3b88a-a3ba-434d-8883-2eddebd173e7\" xlink:actuate=\"onRequest\" xlink:href=\"psysml:09b3b88a-a3ba-434d-8883-2eddebd173e7\" xlink:show=\"new\" xlink:title=\"psysml:09b3b88a-a3ba-434d-8883-2eddebd173e7\" xlink:type=\"simple\"><rect fill=\"#FEFECE\" filter=\"url(#fjx99o955whkx)\" height=\"45.9375\" id=\"E2\" style=\"stroke: #A80036; stroke-width: 1.5;\" width=\"66\" x=\"32\" y=\"41\"/><text fill=\"#000000\" font-family=\"sans-serif\" font-size=\"12\" font-style=\"italic\" lengthAdjust=\"spacingAndGlyphs\" textLength=\"64\" x=\"33\" y=\"57.1387\">«part def»</text><text fill=\"#000000\" font-family=\"sans-serif\" font-size=\"12\" lengthAdjust=\"spacingAndGlyphs\" textLength=\"8\" x=\"61\" y=\"71.1074\">A</text><line style=\"stroke: #A80036; stroke-width: 1.5;\" x1=\"33\" x2=\"97\" y1=\"78.9375\" y2=\"78.9375\"/></a><!--MD5=[404470005ce590158357068d72a67d78]\n",
       "@startuml\r\n",
       "skinparam wrapWidth 300\r\n",
       "hide circle\r\n",
       "\r\n",
       "package \"P1\" as E1  [[psysml:80072e13-09a0-47de-8e75-bd5ae320c88b ]]  {\r\n",
       "comp def \"A\" as E2  <<(T,blue) part def>> [[psysml:09b3b88a-a3ba-434d-8883-2eddebd173e7 ]] {\r\n",
       "}\r\n",
       "}\r\n",
       "@enduml\r\n",
       "\n",
       "PlantUML version 1.2020.13(Sat Jun 13 12:26:38 UTC 2020)\n",
       "(EPL source distribution)\n",
       "Java Runtime: OpenJDK Runtime Environment\n",
       "JVM: OpenJDK 64-Bit Server VM\n",
       "Default Encoding: UTF-8\n",
       "Language: en\n",
       "Country: null\n",
       "--></g></svg>"
      ]
     },
     "execution_count": 24,
     "metadata": {},
     "output_type": "execute_result"
    }
   ],
   "source": [
    "%viz --style=\"STDCOLOR\" --view=\"Tree\" \"P1\""
   ]
  },
  {
   "cell_type": "code",
   "execution_count": 25,
   "id": "726f82de",
   "metadata": {
    "execution": {
     "iopub.execute_input": "2021-06-30T09:22:33.448299Z",
     "iopub.status.busy": "2021-06-30T09:22:33.447655Z",
     "iopub.status.idle": "2021-06-30T09:22:33.457774Z",
     "shell.execute_reply": "2021-06-30T09:22:33.458125Z"
    }
   },
   "outputs": [
    {
     "data": {
      "image/svg+xml": [
       "<?xml version=\"1.0\" encoding=\"UTF-8\" standalone=\"no\"?><svg xmlns=\"http://www.w3.org/2000/svg\" xmlns:xlink=\"http://www.w3.org/1999/xlink\" contentScriptType=\"application/ecmascript\" contentStyleType=\"text/css\" height=\"12px\" preserveAspectRatio=\"none\" style=\"width:12px;height:12px;\" version=\"1.1\" viewBox=\"0 0 12 12\" width=\"12px\" zoomAndPan=\"magnify\"><defs/><g><!--MD5=[aeeef50f102b80d730deb6443d14f702]\n",
       "@startuml\r\n",
       "skinparam wrapWidth 300\r\n",
       "hide circle\r\n",
       "\r\n",
       "@enduml\r\n",
       "\n",
       "PlantUML version 1.2020.13(Sat Jun 13 12:26:38 UTC 2020)\n",
       "(EPL source distribution)\n",
       "Java Runtime: OpenJDK Runtime Environment\n",
       "JVM: OpenJDK 64-Bit Server VM\n",
       "Default Encoding: UTF-8\n",
       "Language: en\n",
       "Country: null\n",
       "--></g></svg>"
      ]
     },
     "execution_count": 25,
     "metadata": {},
     "output_type": "execute_result"
    }
   ],
   "source": [
    "%viz --style=\"STDCOLOR\" --view=\"State\" \"P1\""
   ]
  },
  {
   "cell_type": "code",
   "execution_count": 26,
   "id": "0d25f003",
   "metadata": {
    "execution": {
     "iopub.execute_input": "2021-06-30T09:22:33.515569Z",
     "iopub.status.busy": "2021-06-30T09:22:33.515171Z",
     "iopub.status.idle": "2021-06-30T09:22:33.537953Z",
     "shell.execute_reply": "2021-06-30T09:22:33.537674Z"
    }
   },
   "outputs": [
    {
     "data": {
      "image/svg+xml": [
       "<?xml version=\"1.0\" encoding=\"UTF-8\" standalone=\"no\"?><svg xmlns=\"http://www.w3.org/2000/svg\" xmlns:xlink=\"http://www.w3.org/1999/xlink\" contentScriptType=\"application/ecmascript\" contentStyleType=\"text/css\" height=\"112px\" preserveAspectRatio=\"none\" style=\"width:142px;height:112px;\" version=\"1.1\" viewBox=\"0 0 142 112\" width=\"142px\" zoomAndPan=\"magnify\"><defs><filter height=\"300%\" id=\"f1hyn4w4pksz3d\" width=\"300%\" x=\"-1\" y=\"-1\"><feGaussianBlur result=\"blurOut\" stdDeviation=\"2.0\"/><feColorMatrix in=\"blurOut\" result=\"blurOut2\" type=\"matrix\" values=\"0 0 0 0 0 0 0 0 0 0 0 0 0 0 0 0 0 0 .4 0\"/><feOffset dx=\"4.0\" dy=\"4.0\" in=\"blurOut2\" result=\"blurOut3\"/><feBlend in=\"SourceGraphic\" in2=\"blurOut3\" mode=\"normal\"/></filter></defs><g><!--MD5=[fbc87193dbaf4d95561dea2c320d4a47]\n",
       "cluster E1--><a href=\"psysml:80072e13-09a0-47de-8e75-bd5ae320c88b\" target=\"_top\" title=\"psysml:80072e13-09a0-47de-8e75-bd5ae320c88b\" xlink:actuate=\"onRequest\" xlink:href=\"psysml:80072e13-09a0-47de-8e75-bd5ae320c88b\" xlink:show=\"new\" xlink:title=\"psysml:80072e13-09a0-47de-8e75-bd5ae320c88b\" xlink:type=\"simple\"><polygon fill=\"#FFFFFF\" filter=\"url(#f1hyn4w4pksz3d)\" points=\"16,6,42,6,49,28.2969,120,28.2969,120,100,16,100,16,6\" style=\"stroke: #000000; stroke-width: 1.5;\"/><line style=\"stroke: #000000; stroke-width: 1.5;\" x1=\"16\" x2=\"49\" y1=\"28.2969\" y2=\"28.2969\"/><text fill=\"#000000\" font-family=\"sans-serif\" font-size=\"14\" font-weight=\"bold\" lengthAdjust=\"spacingAndGlyphs\" textLength=\"20\" x=\"20\" y=\"20.9951\">P1</text></a><g id=\"E1.E2\"><a href=\"psysml:09b3b88a-a3ba-434d-8883-2eddebd173e7\" target=\"_top\" title=\"psysml:09b3b88a-a3ba-434d-8883-2eddebd173e7\" xlink:actuate=\"onRequest\" xlink:href=\"psysml:09b3b88a-a3ba-434d-8883-2eddebd173e7\" xlink:show=\"new\" xlink:title=\"psysml:09b3b88a-a3ba-434d-8883-2eddebd173e7\" xlink:type=\"simple\"><rect fill=\"#FEFECE\" filter=\"url(#f1hyn4w4pksz3d)\" height=\"42.9375\" id=\"E2\" style=\"stroke: #A80036; stroke-width: 1.5;\" width=\"71\" x=\"32.5\" y=\"41\"/><text fill=\"#000000\" font-family=\"sans-serif\" font-size=\"12\" font-style=\"italic\" lengthAdjust=\"spacingAndGlyphs\" textLength=\"64\" x=\"36\" y=\"57.1387\">«part def»</text><text fill=\"#000000\" font-family=\"sans-serif\" font-size=\"12\" lengthAdjust=\"spacingAndGlyphs\" textLength=\"8\" x=\"64\" y=\"71.1074\">A</text></a></g><!--MD5=[40e19e4c1b48d4fe727122eda10a365a]\n",
       "@startuml\r\n",
       "skinparam ranksep 10\r\n",
       "skinparam rectangle {\r\n",
       " backgroundColor<<block>> LightGreen\r\n",
       "}\r\n",
       "skinparam wrapWidth 300\r\n",
       "hide circle\r\n",
       "\r\n",
       "package \"P1\" as E1  [[psysml:80072e13-09a0-47de-8e75-bd5ae320c88b ]]  {\r\n",
       "rec def \"A\" as E2  <<(T,blue) part def>> [[psysml:09b3b88a-a3ba-434d-8883-2eddebd173e7 ]] {\r\n",
       "}\r\n",
       "}\r\n",
       "@enduml\r\n",
       "\n",
       "PlantUML version 1.2020.13(Sat Jun 13 12:26:38 UTC 2020)\n",
       "(EPL source distribution)\n",
       "Java Runtime: OpenJDK Runtime Environment\n",
       "JVM: OpenJDK 64-Bit Server VM\n",
       "Default Encoding: UTF-8\n",
       "Language: en\n",
       "Country: null\n",
       "--></g></svg>"
      ]
     },
     "execution_count": 26,
     "metadata": {},
     "output_type": "execute_result"
    }
   ],
   "source": [
    "%viz --style=\"STDCOLOR\" --view=\"Interconnection\" \"P1\""
   ]
  },
  {
   "cell_type": "code",
   "execution_count": 27,
   "id": "1172b7f5",
   "metadata": {
    "execution": {
     "iopub.execute_input": "2021-06-30T09:22:33.591910Z",
     "iopub.status.busy": "2021-06-30T09:22:33.590239Z",
     "iopub.status.idle": "2021-06-30T09:22:33.598245Z",
     "shell.execute_reply": "2021-06-30T09:22:33.597871Z"
    }
   },
   "outputs": [
    {
     "data": {
      "image/svg+xml": [
       "<?xml version=\"1.0\" encoding=\"UTF-8\" standalone=\"no\"?><svg xmlns=\"http://www.w3.org/2000/svg\" xmlns:xlink=\"http://www.w3.org/1999/xlink\" contentScriptType=\"application/ecmascript\" contentStyleType=\"text/css\" height=\"12px\" preserveAspectRatio=\"none\" style=\"width:12px;height:12px;\" version=\"1.1\" viewBox=\"0 0 12 12\" width=\"12px\" zoomAndPan=\"magnify\"><defs/><g><!--MD5=[9863325348a96a77dacc89509d8ee65e]\n",
       "@startuml\r\n",
       "skinparam ranksep 8\r\n",
       "skinparam wrapWidth 300\r\n",
       "hide circle\r\n",
       "\r\n",
       "@enduml\r\n",
       "\n",
       "PlantUML version 1.2020.13(Sat Jun 13 12:26:38 UTC 2020)\n",
       "(EPL source distribution)\n",
       "Java Runtime: OpenJDK Runtime Environment\n",
       "JVM: OpenJDK 64-Bit Server VM\n",
       "Default Encoding: UTF-8\n",
       "Language: en\n",
       "Country: null\n",
       "--></g></svg>"
      ]
     },
     "execution_count": 27,
     "metadata": {},
     "output_type": "execute_result"
    }
   ],
   "source": [
    "%viz --style=\"STDCOLOR\" --view=\"Action\" \"P1\""
   ]
  },
  {
   "cell_type": "code",
   "execution_count": 28,
   "id": "acb504d5",
   "metadata": {
    "execution": {
     "iopub.execute_input": "2021-06-30T09:22:33.650876Z",
     "iopub.status.busy": "2021-06-30T09:22:33.650536Z",
     "iopub.status.idle": "2021-06-30T09:22:33.680276Z",
     "shell.execute_reply": "2021-06-30T09:22:33.680528Z"
    }
   },
   "outputs": [
    {
     "data": {
      "image/svg+xml": [
       "<?xml version=\"1.0\" encoding=\"UTF-8\" standalone=\"no\"?><svg xmlns=\"http://www.w3.org/2000/svg\" xmlns:xlink=\"http://www.w3.org/1999/xlink\" contentScriptType=\"application/ecmascript\" contentStyleType=\"text/css\" height=\"115px\" preserveAspectRatio=\"none\" style=\"width:136px;height:115px;\" version=\"1.1\" viewBox=\"0 0 136 115\" width=\"136px\" zoomAndPan=\"magnify\"><defs><filter height=\"300%\" id=\"fjx99o955whkx\" width=\"300%\" x=\"-1\" y=\"-1\"><feGaussianBlur result=\"blurOut\" stdDeviation=\"2.0\"/><feColorMatrix in=\"blurOut\" result=\"blurOut2\" type=\"matrix\" values=\"0 0 0 0 0 0 0 0 0 0 0 0 0 0 0 0 0 0 .4 0\"/><feOffset dx=\"4.0\" dy=\"4.0\" in=\"blurOut2\" result=\"blurOut3\"/><feBlend in=\"SourceGraphic\" in2=\"blurOut3\" mode=\"normal\"/></filter></defs><g><!--MD5=[fbc87193dbaf4d95561dea2c320d4a47]\n",
       "cluster E1--><a href=\"psysml:80072e13-09a0-47de-8e75-bd5ae320c88b\" target=\"_top\" title=\"psysml:80072e13-09a0-47de-8e75-bd5ae320c88b\" xlink:actuate=\"onRequest\" xlink:href=\"psysml:80072e13-09a0-47de-8e75-bd5ae320c88b\" xlink:show=\"new\" xlink:title=\"psysml:80072e13-09a0-47de-8e75-bd5ae320c88b\" xlink:type=\"simple\"><polygon fill=\"#FFFFFF\" filter=\"url(#fjx99o955whkx)\" points=\"16,6,42,6,49,28.2969,114,28.2969,114,103,16,103,16,6\" style=\"stroke: #000000; stroke-width: 1.5;\"/><line style=\"stroke: #000000; stroke-width: 1.5;\" x1=\"16\" x2=\"49\" y1=\"28.2969\" y2=\"28.2969\"/><text fill=\"#000000\" font-family=\"sans-serif\" font-size=\"14\" font-weight=\"bold\" lengthAdjust=\"spacingAndGlyphs\" textLength=\"20\" x=\"20\" y=\"20.9951\">P1</text></a><!--MD5=[b4997ac47864f28c2f74865a473b2911]\n",
       "class E2--><a href=\"psysml:09b3b88a-a3ba-434d-8883-2eddebd173e7\" target=\"_top\" title=\"psysml:09b3b88a-a3ba-434d-8883-2eddebd173e7\" xlink:actuate=\"onRequest\" xlink:href=\"psysml:09b3b88a-a3ba-434d-8883-2eddebd173e7\" xlink:show=\"new\" xlink:title=\"psysml:09b3b88a-a3ba-434d-8883-2eddebd173e7\" xlink:type=\"simple\"><rect fill=\"#FEFECE\" filter=\"url(#fjx99o955whkx)\" height=\"45.9375\" id=\"E2\" style=\"stroke: #A80036; stroke-width: 1.5;\" width=\"66\" x=\"32\" y=\"41\"/><text fill=\"#000000\" font-family=\"sans-serif\" font-size=\"12\" font-style=\"italic\" lengthAdjust=\"spacingAndGlyphs\" textLength=\"64\" x=\"33\" y=\"57.1387\">«part def»</text><text fill=\"#000000\" font-family=\"sans-serif\" font-size=\"12\" lengthAdjust=\"spacingAndGlyphs\" textLength=\"8\" x=\"61\" y=\"71.1074\">A</text><line style=\"stroke: #A80036; stroke-width: 1.5;\" x1=\"33\" x2=\"97\" y1=\"78.9375\" y2=\"78.9375\"/></a><!--MD5=[404470005ce590158357068d72a67d78]\n",
       "@startuml\r\n",
       "skinparam wrapWidth 300\r\n",
       "hide circle\r\n",
       "\r\n",
       "package \"P1\" as E1  [[psysml:80072e13-09a0-47de-8e75-bd5ae320c88b ]]  {\r\n",
       "comp def \"A\" as E2  <<(T,blue) part def>> [[psysml:09b3b88a-a3ba-434d-8883-2eddebd173e7 ]] {\r\n",
       "}\r\n",
       "}\r\n",
       "@enduml\r\n",
       "\n",
       "PlantUML version 1.2020.13(Sat Jun 13 12:26:38 UTC 2020)\n",
       "(EPL source distribution)\n",
       "Java Runtime: OpenJDK Runtime Environment\n",
       "JVM: OpenJDK 64-Bit Server VM\n",
       "Default Encoding: UTF-8\n",
       "Language: en\n",
       "Country: null\n",
       "--></g></svg>"
      ]
     },
     "execution_count": 28,
     "metadata": {},
     "output_type": "execute_result"
    }
   ],
   "source": [
    "%viz --style=\"STDCOLOR\" --view=\"Sequence\" \"P1\""
   ]
  },
  {
   "cell_type": "code",
   "execution_count": 29,
   "id": "821b13bd",
   "metadata": {
    "execution": {
     "iopub.execute_input": "2021-06-30T09:22:33.732017Z",
     "iopub.status.busy": "2021-06-30T09:22:33.731571Z",
     "iopub.status.idle": "2021-06-30T09:22:33.753497Z",
     "shell.execute_reply": "2021-06-30T09:22:33.753181Z"
    }
   },
   "outputs": [
    {
     "data": {
      "image/svg+xml": [
       "<?xml version=\"1.0\" encoding=\"UTF-8\" standalone=\"no\"?><svg xmlns=\"http://www.w3.org/2000/svg\" xmlns:xlink=\"http://www.w3.org/1999/xlink\" contentScriptType=\"application/ecmascript\" contentStyleType=\"text/css\" height=\"115px\" preserveAspectRatio=\"none\" style=\"width:136px;height:115px;\" version=\"1.1\" viewBox=\"0 0 136 115\" width=\"136px\" zoomAndPan=\"magnify\"><defs><filter height=\"300%\" id=\"fjx99o955whkx\" width=\"300%\" x=\"-1\" y=\"-1\"><feGaussianBlur result=\"blurOut\" stdDeviation=\"2.0\"/><feColorMatrix in=\"blurOut\" result=\"blurOut2\" type=\"matrix\" values=\"0 0 0 0 0 0 0 0 0 0 0 0 0 0 0 0 0 0 .4 0\"/><feOffset dx=\"4.0\" dy=\"4.0\" in=\"blurOut2\" result=\"blurOut3\"/><feBlend in=\"SourceGraphic\" in2=\"blurOut3\" mode=\"normal\"/></filter></defs><g><!--MD5=[fbc87193dbaf4d95561dea2c320d4a47]\n",
       "cluster E1--><a href=\"psysml:80072e13-09a0-47de-8e75-bd5ae320c88b\" target=\"_top\" title=\"psysml:80072e13-09a0-47de-8e75-bd5ae320c88b\" xlink:actuate=\"onRequest\" xlink:href=\"psysml:80072e13-09a0-47de-8e75-bd5ae320c88b\" xlink:show=\"new\" xlink:title=\"psysml:80072e13-09a0-47de-8e75-bd5ae320c88b\" xlink:type=\"simple\"><polygon fill=\"#FFFFFF\" filter=\"url(#fjx99o955whkx)\" points=\"16,6,42,6,49,28.2969,114,28.2969,114,103,16,103,16,6\" style=\"stroke: #000000; stroke-width: 1.5;\"/><line style=\"stroke: #000000; stroke-width: 1.5;\" x1=\"16\" x2=\"49\" y1=\"28.2969\" y2=\"28.2969\"/><text fill=\"#000000\" font-family=\"sans-serif\" font-size=\"14\" font-weight=\"bold\" lengthAdjust=\"spacingAndGlyphs\" textLength=\"20\" x=\"20\" y=\"20.9951\">P1</text></a><!--MD5=[b4997ac47864f28c2f74865a473b2911]\n",
       "class E2--><a href=\"psysml:09b3b88a-a3ba-434d-8883-2eddebd173e7\" target=\"_top\" title=\"psysml:09b3b88a-a3ba-434d-8883-2eddebd173e7\" xlink:actuate=\"onRequest\" xlink:href=\"psysml:09b3b88a-a3ba-434d-8883-2eddebd173e7\" xlink:show=\"new\" xlink:title=\"psysml:09b3b88a-a3ba-434d-8883-2eddebd173e7\" xlink:type=\"simple\"><rect fill=\"#FEFECE\" filter=\"url(#fjx99o955whkx)\" height=\"45.9375\" id=\"E2\" style=\"stroke: #A80036; stroke-width: 1.5;\" width=\"66\" x=\"32\" y=\"41\"/><text fill=\"#000000\" font-family=\"sans-serif\" font-size=\"12\" font-style=\"italic\" lengthAdjust=\"spacingAndGlyphs\" textLength=\"64\" x=\"33\" y=\"57.1387\">«part def»</text><text fill=\"#000000\" font-family=\"sans-serif\" font-size=\"12\" lengthAdjust=\"spacingAndGlyphs\" textLength=\"8\" x=\"61\" y=\"71.1074\">A</text><line style=\"stroke: #A80036; stroke-width: 1.5;\" x1=\"33\" x2=\"97\" y1=\"78.9375\" y2=\"78.9375\"/></a><!--MD5=[404470005ce590158357068d72a67d78]\n",
       "@startuml\r\n",
       "skinparam wrapWidth 300\r\n",
       "hide circle\r\n",
       "\r\n",
       "package \"P1\" as E1  [[psysml:80072e13-09a0-47de-8e75-bd5ae320c88b ]]  {\r\n",
       "comp def \"A\" as E2  <<(T,blue) part def>> [[psysml:09b3b88a-a3ba-434d-8883-2eddebd173e7 ]] {\r\n",
       "}\r\n",
       "}\r\n",
       "@enduml\r\n",
       "\n",
       "PlantUML version 1.2020.13(Sat Jun 13 12:26:38 UTC 2020)\n",
       "(EPL source distribution)\n",
       "Java Runtime: OpenJDK Runtime Environment\n",
       "JVM: OpenJDK 64-Bit Server VM\n",
       "Default Encoding: UTF-8\n",
       "Language: en\n",
       "Country: null\n",
       "--></g></svg>"
      ]
     },
     "execution_count": 29,
     "metadata": {},
     "output_type": "execute_result"
    }
   ],
   "source": [
    "%viz --style=\"STDCOLOR\" --view=\"MIXED\" \"P1\""
   ]
  },
  {
   "cell_type": "code",
   "execution_count": 30,
   "id": "d8fbe014",
   "metadata": {
    "execution": {
     "iopub.execute_input": "2021-06-30T09:22:33.806298Z",
     "iopub.status.busy": "2021-06-30T09:22:33.805524Z",
     "iopub.status.idle": "2021-06-30T09:22:33.862597Z",
     "shell.execute_reply": "2021-06-30T09:22:33.862324Z"
    }
   },
   "outputs": [
    {
     "data": {
      "image/svg+xml": [
       "<?xml version=\"1.0\" encoding=\"UTF-8\" standalone=\"no\"?><svg xmlns=\"http://www.w3.org/2000/svg\" xmlns:xlink=\"http://www.w3.org/1999/xlink\" contentScriptType=\"application/ecmascript\" contentStyleType=\"text/css\" height=\"109px\" preserveAspectRatio=\"none\" style=\"width:110px;height:109px;\" version=\"1.1\" viewBox=\"0 0 110 109\" width=\"110px\" zoomAndPan=\"magnify\"><defs><filter height=\"300%\" id=\"fdiuws37qaqdh\" width=\"300%\" x=\"-1\" y=\"-1\"><feGaussianBlur result=\"blurOut\" stdDeviation=\"2.0\"/><feColorMatrix in=\"blurOut\" result=\"blurOut2\" type=\"matrix\" values=\"0 0 0 0 0 0 0 0 0 0 0 0 0 0 0 0 0 0 .4 0\"/><feOffset dx=\"4.0\" dy=\"4.0\" in=\"blurOut2\" result=\"blurOut3\"/><feBlend in=\"SourceGraphic\" in2=\"blurOut3\" mode=\"normal\"/></filter></defs><g><!--MD5=[fbc87193dbaf4d95561dea2c320d4a47]\n",
       "cluster E1--><a href=\"psysml:80072e13-09a0-47de-8e75-bd5ae320c88b\" target=\"_top\" title=\"psysml:80072e13-09a0-47de-8e75-bd5ae320c88b\" xlink:actuate=\"onRequest\" xlink:href=\"psysml:80072e13-09a0-47de-8e75-bd5ae320c88b\" xlink:show=\"new\" xlink:title=\"psysml:80072e13-09a0-47de-8e75-bd5ae320c88b\" xlink:type=\"simple\"><polygon fill=\"#FFFFFF\" filter=\"url(#fdiuws37qaqdh)\" points=\"16,6,42,6,49,28.2969,88,28.2969,88,97,16,97,16,6\" style=\"stroke: #000000; stroke-width: 1.5;\"/><line style=\"stroke: #000000; stroke-width: 1.5;\" x1=\"16\" x2=\"49\" y1=\"28.2969\" y2=\"28.2969\"/><text fill=\"#000000\" font-family=\"sans-serif\" font-size=\"14\" font-weight=\"bold\" lengthAdjust=\"spacingAndGlyphs\" textLength=\"20\" x=\"20\" y=\"20.9951\">P1</text></a><!--MD5=[b4997ac47864f28c2f74865a473b2911]\n",
       "class E2--><a href=\"psysml:09b3b88a-a3ba-434d-8883-2eddebd173e7\" target=\"_top\" title=\"psysml:09b3b88a-a3ba-434d-8883-2eddebd173e7\" xlink:actuate=\"onRequest\" xlink:href=\"psysml:09b3b88a-a3ba-434d-8883-2eddebd173e7\" xlink:show=\"new\" xlink:title=\"psysml:09b3b88a-a3ba-434d-8883-2eddebd173e7\" xlink:type=\"simple\"><rect fill=\"#FEFECE\" filter=\"url(#fdiuws37qaqdh)\" height=\"40\" id=\"E2\" style=\"stroke: #A80036; stroke-width: 1.5;\" width=\"40\" x=\"32\" y=\"41\"/><ellipse cx=\"47\" cy=\"57\" fill=\"#008000\" rx=\"11\" ry=\"11\" style=\"stroke: #A80036; stroke-width: 1.0;\"/><path d=\"M45.9063,57.375 L45.9063,61.0469 L47.5313,61.0469 Q48.7031,61.0469 49.1719,60.6563 Q49.6406,60.25 49.6406,59.25 Q49.6406,58.25 49.1406,57.8125 Q48.6563,57.375 47.5313,57.375 L45.9063,57.375 Z M45.9063,52.5469 L45.9063,55.4219 L47.5313,55.4219 Q48.4531,55.4219 48.8438,55.0938 Q49.25,54.75 49.25,54 Q49.25,53.2344 48.8438,52.8906 Q48.4375,52.5469 47.5313,52.5469 L45.9063,52.5469 Z M43.5313,50.5938 L47.5313,50.5938 Q49.5938,50.5938 50.6406,51.375 Q51.6875,52.1563 51.6875,53.7188 Q51.6875,54.9219 51.0625,55.5938 Q50.4531,56.2656 49.2656,56.375 Q50.6875,56.5156 51.4063,57.3281 Q52.125,58.1406 52.125,59.5938 Q52.125,61.3906 51.0469,62.2031 Q49.9688,63 47.5313,63 L43.5313,63 L43.5313,50.5938 Z \"/><text fill=\"#000000\" font-family=\"sans-serif\" font-size=\"12\" lengthAdjust=\"spacingAndGlyphs\" textLength=\"8\" x=\"61\" y=\"61.1543\">A</text><line style=\"stroke: #A80036; stroke-width: 1.5;\" x1=\"33\" x2=\"71\" y1=\"73\" y2=\"73\"/></a><!--MD5=[4f8d479f6f53fb1d3e62f33b62c0230e]\n",
       "@startuml\r\n",
       " \r\n",
       "package \"P1\" as E1  [[psysml:80072e13-09a0-47de-8e75-bd5ae320c88b ]]  {\r\n",
       "comp def \"A\" as E2 << << (B,green) >> [[psysml:09b3b88a-a3ba-434d-8883-2eddebd173e7 ]] {\r\n",
       "}\r\n",
       "}\r\n",
       "@enduml\r\n",
       "\n",
       "PlantUML version 1.2020.13(Sat Jun 13 12:26:38 UTC 2020)\n",
       "(EPL source distribution)\n",
       "Java Runtime: OpenJDK Runtime Environment\n",
       "JVM: OpenJDK 64-Bit Server VM\n",
       "Default Encoding: UTF-8\n",
       "Language: en\n",
       "Country: null\n",
       "--></g></svg>"
      ]
     },
     "execution_count": 30,
     "metadata": {},
     "output_type": "execute_result"
    }
   ],
   "source": [
    "%viz --style=\"PLANTUML\" --view=\"Default\" \"P1\""
   ]
  },
  {
   "cell_type": "code",
   "execution_count": 31,
   "id": "52a612e2",
   "metadata": {
    "execution": {
     "iopub.execute_input": "2021-06-30T09:22:33.915243Z",
     "iopub.status.busy": "2021-06-30T09:22:33.914478Z",
     "iopub.status.idle": "2021-06-30T09:22:33.935192Z",
     "shell.execute_reply": "2021-06-30T09:22:33.934809Z"
    }
   },
   "outputs": [
    {
     "data": {
      "image/svg+xml": [
       "<?xml version=\"1.0\" encoding=\"UTF-8\" standalone=\"no\"?><svg xmlns=\"http://www.w3.org/2000/svg\" xmlns:xlink=\"http://www.w3.org/1999/xlink\" contentScriptType=\"application/ecmascript\" contentStyleType=\"text/css\" height=\"109px\" preserveAspectRatio=\"none\" style=\"width:110px;height:109px;\" version=\"1.1\" viewBox=\"0 0 110 109\" width=\"110px\" zoomAndPan=\"magnify\"><defs><filter height=\"300%\" id=\"fdiuws37qaqdh\" width=\"300%\" x=\"-1\" y=\"-1\"><feGaussianBlur result=\"blurOut\" stdDeviation=\"2.0\"/><feColorMatrix in=\"blurOut\" result=\"blurOut2\" type=\"matrix\" values=\"0 0 0 0 0 0 0 0 0 0 0 0 0 0 0 0 0 0 .4 0\"/><feOffset dx=\"4.0\" dy=\"4.0\" in=\"blurOut2\" result=\"blurOut3\"/><feBlend in=\"SourceGraphic\" in2=\"blurOut3\" mode=\"normal\"/></filter></defs><g><!--MD5=[fbc87193dbaf4d95561dea2c320d4a47]\n",
       "cluster E1--><a href=\"psysml:80072e13-09a0-47de-8e75-bd5ae320c88b\" target=\"_top\" title=\"psysml:80072e13-09a0-47de-8e75-bd5ae320c88b\" xlink:actuate=\"onRequest\" xlink:href=\"psysml:80072e13-09a0-47de-8e75-bd5ae320c88b\" xlink:show=\"new\" xlink:title=\"psysml:80072e13-09a0-47de-8e75-bd5ae320c88b\" xlink:type=\"simple\"><polygon fill=\"#FFFFFF\" filter=\"url(#fdiuws37qaqdh)\" points=\"16,6,42,6,49,28.2969,88,28.2969,88,97,16,97,16,6\" style=\"stroke: #000000; stroke-width: 1.5;\"/><line style=\"stroke: #000000; stroke-width: 1.5;\" x1=\"16\" x2=\"49\" y1=\"28.2969\" y2=\"28.2969\"/><text fill=\"#000000\" font-family=\"sans-serif\" font-size=\"14\" font-weight=\"bold\" lengthAdjust=\"spacingAndGlyphs\" textLength=\"20\" x=\"20\" y=\"20.9951\">P1</text></a><!--MD5=[b4997ac47864f28c2f74865a473b2911]\n",
       "class E2--><a href=\"psysml:09b3b88a-a3ba-434d-8883-2eddebd173e7\" target=\"_top\" title=\"psysml:09b3b88a-a3ba-434d-8883-2eddebd173e7\" xlink:actuate=\"onRequest\" xlink:href=\"psysml:09b3b88a-a3ba-434d-8883-2eddebd173e7\" xlink:show=\"new\" xlink:title=\"psysml:09b3b88a-a3ba-434d-8883-2eddebd173e7\" xlink:type=\"simple\"><rect fill=\"#FEFECE\" filter=\"url(#fdiuws37qaqdh)\" height=\"40\" id=\"E2\" style=\"stroke: #A80036; stroke-width: 1.5;\" width=\"40\" x=\"32\" y=\"41\"/><ellipse cx=\"47\" cy=\"57\" fill=\"#008000\" rx=\"11\" ry=\"11\" style=\"stroke: #A80036; stroke-width: 1.0;\"/><path d=\"M45.9063,57.375 L45.9063,61.0469 L47.5313,61.0469 Q48.7031,61.0469 49.1719,60.6563 Q49.6406,60.25 49.6406,59.25 Q49.6406,58.25 49.1406,57.8125 Q48.6563,57.375 47.5313,57.375 L45.9063,57.375 Z M45.9063,52.5469 L45.9063,55.4219 L47.5313,55.4219 Q48.4531,55.4219 48.8438,55.0938 Q49.25,54.75 49.25,54 Q49.25,53.2344 48.8438,52.8906 Q48.4375,52.5469 47.5313,52.5469 L45.9063,52.5469 Z M43.5313,50.5938 L47.5313,50.5938 Q49.5938,50.5938 50.6406,51.375 Q51.6875,52.1563 51.6875,53.7188 Q51.6875,54.9219 51.0625,55.5938 Q50.4531,56.2656 49.2656,56.375 Q50.6875,56.5156 51.4063,57.3281 Q52.125,58.1406 52.125,59.5938 Q52.125,61.3906 51.0469,62.2031 Q49.9688,63 47.5313,63 L43.5313,63 L43.5313,50.5938 Z \"/><text fill=\"#000000\" font-family=\"sans-serif\" font-size=\"12\" lengthAdjust=\"spacingAndGlyphs\" textLength=\"8\" x=\"61\" y=\"61.1543\">A</text><line style=\"stroke: #A80036; stroke-width: 1.5;\" x1=\"33\" x2=\"71\" y1=\"73\" y2=\"73\"/></a><!--MD5=[4f8d479f6f53fb1d3e62f33b62c0230e]\n",
       "@startuml\r\n",
       " \r\n",
       "package \"P1\" as E1  [[psysml:80072e13-09a0-47de-8e75-bd5ae320c88b ]]  {\r\n",
       "comp def \"A\" as E2 << << (B,green) >> [[psysml:09b3b88a-a3ba-434d-8883-2eddebd173e7 ]] {\r\n",
       "}\r\n",
       "}\r\n",
       "@enduml\r\n",
       "\n",
       "PlantUML version 1.2020.13(Sat Jun 13 12:26:38 UTC 2020)\n",
       "(EPL source distribution)\n",
       "Java Runtime: OpenJDK Runtime Environment\n",
       "JVM: OpenJDK 64-Bit Server VM\n",
       "Default Encoding: UTF-8\n",
       "Language: en\n",
       "Country: null\n",
       "--></g></svg>"
      ]
     },
     "execution_count": 31,
     "metadata": {},
     "output_type": "execute_result"
    }
   ],
   "source": [
    "%viz --style=\"PLANTUML\" --view=\"Tree\" \"P1\""
   ]
  },
  {
   "cell_type": "code",
   "execution_count": 32,
   "id": "0c933fc1",
   "metadata": {
    "execution": {
     "iopub.execute_input": "2021-06-30T09:22:33.987694Z",
     "iopub.status.busy": "2021-06-30T09:22:33.987201Z",
     "iopub.status.idle": "2021-06-30T09:22:34.089738Z",
     "shell.execute_reply": "2021-06-30T09:22:34.088094Z"
    }
   },
   "outputs": [
    {
     "data": {
      "image/svg+xml": [
       "<?xml version=\"1.0\" encoding=\"UTF-8\" standalone=\"no\"?><svg xmlns=\"http://www.w3.org/2000/svg\" xmlns:xlink=\"http://www.w3.org/1999/xlink\" contentScriptType=\"application/ecmascript\" contentStyleType=\"text/css\" height=\"303px\" preserveAspectRatio=\"none\" style=\"width:603px;height:303px;background:#000000;\" version=\"1.1\" viewBox=\"0 0 603 303\" width=\"603px\" zoomAndPan=\"magnify\"><defs/><g><rect fill=\"#081A0B\" height=\"1\" style=\"stroke: #081A0B; stroke-width: 1.0;\" width=\"1\" x=\"0\" y=\"0\"/><rect fill=\"#FFFFFF\" height=\"205.5625\" style=\"stroke: #FFFFFF; stroke-width: 1.0;\" width=\"602\" x=\"0\" y=\"0\"/><text fill=\"#000000\" font-family=\"sans-serif\" font-size=\"12\" font-weight=\"bold\" lengthAdjust=\"spacingAndGlyphs\" textLength=\"159\" x=\"5\" y=\"16.1387\">Welcome to PlantUML!</text><text fill=\"#000000\" font-family=\"sans-serif\" font-size=\"12\" lengthAdjust=\"spacingAndGlyphs\" textLength=\"0\" x=\"9\" y=\"30.1074\"/><text fill=\"#000000\" font-family=\"sans-serif\" font-size=\"12\" lengthAdjust=\"spacingAndGlyphs\" textLength=\"293\" x=\"5\" y=\"44.0762\">If you use this software, you accept its license.</text><text fill=\"#000000\" font-family=\"sans-serif\" font-size=\"12\" lengthAdjust=\"spacingAndGlyphs\" textLength=\"107\" x=\"5\" y=\"58.0449\">(details by typing</text><text fill=\"#000000\" font-family=\"monospace\" font-size=\"12\" lengthAdjust=\"spacingAndGlyphs\" textLength=\"49\" x=\"116\" y=\"58.0449\">license</text><text fill=\"#000000\" font-family=\"sans-serif\" font-size=\"12\" lengthAdjust=\"spacingAndGlyphs\" textLength=\"56\" x=\"169\" y=\"58.0449\">keyword)</text><text fill=\"#000000\" font-family=\"sans-serif\" font-size=\"12\" lengthAdjust=\"spacingAndGlyphs\" textLength=\"0\" x=\"9\" y=\"72.0137\"/><text fill=\"#000000\" font-family=\"sans-serif\" font-size=\"12\" lengthAdjust=\"spacingAndGlyphs\" textLength=\"283\" x=\"5\" y=\"85.9824\">You can start with a simple UML Diagram like:</text><text fill=\"#000000\" font-family=\"sans-serif\" font-size=\"12\" lengthAdjust=\"spacingAndGlyphs\" textLength=\"0\" x=\"9\" y=\"99.9512\"/><text fill=\"#000000\" font-family=\"monospace\" font-size=\"12\" lengthAdjust=\"spacingAndGlyphs\" textLength=\"119\" x=\"5\" y=\"113.9199\">Bob-&gt;Alice: Hello</text><text fill=\"#000000\" font-family=\"sans-serif\" font-size=\"12\" lengthAdjust=\"spacingAndGlyphs\" textLength=\"0\" x=\"9\" y=\"127.8887\"/><text fill=\"#000000\" font-family=\"sans-serif\" font-size=\"12\" lengthAdjust=\"spacingAndGlyphs\" textLength=\"14\" x=\"5\" y=\"141.8574\">Or</text><text fill=\"#000000\" font-family=\"sans-serif\" font-size=\"12\" lengthAdjust=\"spacingAndGlyphs\" textLength=\"0\" x=\"9\" y=\"155.8262\"/><text fill=\"#000000\" font-family=\"monospace\" font-size=\"12\" lengthAdjust=\"spacingAndGlyphs\" textLength=\"91\" x=\"5\" y=\"169.7949\">class Example</text><text fill=\"#000000\" font-family=\"sans-serif\" font-size=\"12\" lengthAdjust=\"spacingAndGlyphs\" textLength=\"0\" x=\"9\" y=\"183.7637\"/><text fill=\"#000000\" font-family=\"sans-serif\" font-size=\"12\" lengthAdjust=\"spacingAndGlyphs\" textLength=\"349\" x=\"5\" y=\"197.7324\">You will find more information about PlantUML syntax on</text><text fill=\"#000000\" font-family=\"sans-serif\" font-size=\"12\" lengthAdjust=\"spacingAndGlyphs\" text-decoration=\"underline\" textLength=\"129\" x=\"358\" y=\"197.7324\">https://plantuml.com</text><image height=\"71\" width=\"80\" x=\"516\" xlink:href=\"data:image/png;base64,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\" y=\"6\"/><rect fill=\"#000000\" height=\"96.4844\" style=\"stroke: #000000; stroke-width: 1.0;\" width=\"602\" x=\"0\" y=\"205.5625\"/><rect fill=\"#33FF02\" height=\"21.2969\" style=\"stroke: #33FF02; stroke-width: 1.0;\" width=\"170\" x=\"5\" y=\"210.5625\"/><text fill=\"#000000\" font-family=\"sans-serif\" font-size=\"14\" font-weight=\"bold\" lengthAdjust=\"spacingAndGlyphs\" textLength=\"168\" x=\"6\" y=\"225.5625\">[From string (line 2) ]</text><text fill=\"#33FF02\" font-family=\"sans-serif\" font-size=\"14\" font-weight=\"bold\" lengthAdjust=\"spacingAndGlyphs\" textLength=\"0\" x=\"10\" y=\"245.8594\"/><text fill=\"#33FF02\" font-family=\"sans-serif\" font-size=\"14\" font-weight=\"bold\" lengthAdjust=\"spacingAndGlyphs\" textLength=\"79\" x=\"5\" y=\"262.1563\">@startuml</text><text fill=\"#33FF02\" font-family=\"sans-serif\" font-size=\"14\" font-weight=\"bold\" lengthAdjust=\"spacingAndGlyphs\" textLength=\"0\" x=\"10\" y=\"278.4531\"/><text fill=\"#FF0000\" font-family=\"sans-serif\" font-size=\"14\" font-weight=\"bold\" lengthAdjust=\"spacingAndGlyphs\" textLength=\"142\" x=\"10\" y=\"294.75\">Empty description</text><!--MD5=[f59edd8218d337f74d0c332fc6737304]\n",
       "@startuml\r\n",
       " \r\n",
       "@enduml\r\n",
       "\n",
       "PlantUML version 1.2020.13(Sat Jun 13 12:26:38 UTC 2020)\n",
       "(EPL source distribution)\n",
       "Java Runtime: OpenJDK Runtime Environment\n",
       "JVM: OpenJDK 64-Bit Server VM\n",
       "Default Encoding: UTF-8\n",
       "Language: en\n",
       "Country: null\n",
       "--></g></svg>"
      ]
     },
     "execution_count": 32,
     "metadata": {},
     "output_type": "execute_result"
    }
   ],
   "source": [
    "%viz --style=\"PLANTUML\" --view=\"State\" \"P1\""
   ]
  },
  {
   "cell_type": "code",
   "execution_count": 33,
   "id": "7ba990d4",
   "metadata": {
    "execution": {
     "iopub.execute_input": "2021-06-30T09:22:34.140512Z",
     "iopub.status.busy": "2021-06-30T09:22:34.140063Z",
     "iopub.status.idle": "2021-06-30T09:22:34.166902Z",
     "shell.execute_reply": "2021-06-30T09:22:34.166310Z"
    }
   },
   "outputs": [
    {
     "data": {
      "image/svg+xml": [
       "<?xml version=\"1.0\" encoding=\"UTF-8\" standalone=\"no\"?><svg xmlns=\"http://www.w3.org/2000/svg\" xmlns:xlink=\"http://www.w3.org/1999/xlink\" contentScriptType=\"application/ecmascript\" contentStyleType=\"text/css\" height=\"109px\" preserveAspectRatio=\"none\" style=\"width:120px;height:109px;\" version=\"1.1\" viewBox=\"0 0 120 109\" width=\"120px\" zoomAndPan=\"magnify\"><defs><filter height=\"300%\" id=\"f1wshr4n62ssht\" width=\"300%\" x=\"-1\" y=\"-1\"><feGaussianBlur result=\"blurOut\" stdDeviation=\"2.0\"/><feColorMatrix in=\"blurOut\" result=\"blurOut2\" type=\"matrix\" values=\"0 0 0 0 0 0 0 0 0 0 0 0 0 0 0 0 0 0 .4 0\"/><feOffset dx=\"4.0\" dy=\"4.0\" in=\"blurOut2\" result=\"blurOut3\"/><feBlend in=\"SourceGraphic\" in2=\"blurOut3\" mode=\"normal\"/></filter></defs><g><!--MD5=[fbc87193dbaf4d95561dea2c320d4a47]\n",
       "cluster E1--><a href=\"psysml:80072e13-09a0-47de-8e75-bd5ae320c88b\" target=\"_top\" title=\"psysml:80072e13-09a0-47de-8e75-bd5ae320c88b\" xlink:actuate=\"onRequest\" xlink:href=\"psysml:80072e13-09a0-47de-8e75-bd5ae320c88b\" xlink:show=\"new\" xlink:title=\"psysml:80072e13-09a0-47de-8e75-bd5ae320c88b\" xlink:type=\"simple\"><polygon fill=\"#FFFFFF\" filter=\"url(#f1wshr4n62ssht)\" points=\"16,6,42,6,49,28.2969,98,28.2969,98,97,16,97,16,6\" style=\"stroke: #000000; stroke-width: 1.5;\"/><line style=\"stroke: #000000; stroke-width: 1.5;\" x1=\"16\" x2=\"49\" y1=\"28.2969\" y2=\"28.2969\"/><text fill=\"#000000\" font-family=\"sans-serif\" font-size=\"14\" font-weight=\"bold\" lengthAdjust=\"spacingAndGlyphs\" textLength=\"20\" x=\"20\" y=\"20.9951\">P1</text></a><g id=\"E1.E2\"><a href=\"psysml:09b3b88a-a3ba-434d-8883-2eddebd173e7\" target=\"_top\" title=\"psysml:09b3b88a-a3ba-434d-8883-2eddebd173e7\" xlink:actuate=\"onRequest\" xlink:href=\"psysml:09b3b88a-a3ba-434d-8883-2eddebd173e7\" xlink:show=\"new\" xlink:title=\"psysml:09b3b88a-a3ba-434d-8883-2eddebd173e7\" xlink:type=\"simple\"><rect fill=\"#FEFECE\" filter=\"url(#f1wshr4n62ssht)\" height=\"40\" id=\"E2\" style=\"stroke: #A80036; stroke-width: 1.5;\" width=\"50\" x=\"32\" y=\"41\"/><ellipse cx=\"51.5\" cy=\"57\" fill=\"#008000\" rx=\"11\" ry=\"11\" style=\"stroke: #A80036; stroke-width: 1.0;\"/><path d=\"M50.4063,57.375 L50.4063,61.0469 L52.0313,61.0469 Q53.2031,61.0469 53.6719,60.6563 Q54.1406,60.25 54.1406,59.25 Q54.1406,58.25 53.6406,57.8125 Q53.1563,57.375 52.0313,57.375 L50.4063,57.375 Z M50.4063,52.5469 L50.4063,55.4219 L52.0313,55.4219 Q52.9531,55.4219 53.3438,55.0938 Q53.75,54.75 53.75,54 Q53.75,53.2344 53.3438,52.8906 Q52.9375,52.5469 52.0313,52.5469 L50.4063,52.5469 Z M48.0313,50.5938 L52.0313,50.5938 Q54.0938,50.5938 55.1406,51.375 Q56.1875,52.1563 56.1875,53.7188 Q56.1875,54.9219 55.5625,55.5938 Q54.9531,56.2656 53.7656,56.375 Q55.1875,56.5156 55.9063,57.3281 Q56.625,58.1406 56.625,59.5938 Q56.625,61.3906 55.5469,62.2031 Q54.4688,63 52.0313,63 L48.0313,63 L48.0313,50.5938 Z \"/><text fill=\"#000000\" font-family=\"sans-serif\" font-size=\"12\" lengthAdjust=\"spacingAndGlyphs\" textLength=\"8\" x=\"66.5\" y=\"61.1543\">A</text></a></g><!--MD5=[234f9bb4a4e1c77a9750753dd4d1d3a0]\n",
       "@startuml\r\n",
       "skinparam ranksep 10\r\n",
       "skinparam rectangle {\r\n",
       " backgroundColor<<block>> LightGreen\r\n",
       "}\r\n",
       " \r\n",
       "package \"P1\" as E1  [[psysml:80072e13-09a0-47de-8e75-bd5ae320c88b ]]  {\r\n",
       "rec def \"A\" as E2 << << (B,green) >> [[psysml:09b3b88a-a3ba-434d-8883-2eddebd173e7 ]] {\r\n",
       "}\r\n",
       "}\r\n",
       "@enduml\r\n",
       "\n",
       "PlantUML version 1.2020.13(Sat Jun 13 12:26:38 UTC 2020)\n",
       "(EPL source distribution)\n",
       "Java Runtime: OpenJDK Runtime Environment\n",
       "JVM: OpenJDK 64-Bit Server VM\n",
       "Default Encoding: UTF-8\n",
       "Language: en\n",
       "Country: null\n",
       "--></g></svg>"
      ]
     },
     "execution_count": 33,
     "metadata": {},
     "output_type": "execute_result"
    }
   ],
   "source": [
    "%viz --style=\"PLANTUML\" --view=\"Interconnection\" \"P1\""
   ]
  },
  {
   "cell_type": "code",
   "execution_count": 34,
   "id": "022d2aa9",
   "metadata": {
    "execution": {
     "iopub.execute_input": "2021-06-30T09:22:34.220261Z",
     "iopub.status.busy": "2021-06-30T09:22:34.218577Z",
     "iopub.status.idle": "2021-06-30T09:22:34.224810Z",
     "shell.execute_reply": "2021-06-30T09:22:34.224455Z"
    }
   },
   "outputs": [
    {
     "data": {
      "image/svg+xml": [
       "<?xml version=\"1.0\" encoding=\"UTF-8\" standalone=\"no\"?><svg xmlns=\"http://www.w3.org/2000/svg\" xmlns:xlink=\"http://www.w3.org/1999/xlink\" contentScriptType=\"application/ecmascript\" contentStyleType=\"text/css\" height=\"12px\" preserveAspectRatio=\"none\" style=\"width:12px;height:12px;\" version=\"1.1\" viewBox=\"0 0 12 12\" width=\"12px\" zoomAndPan=\"magnify\"><defs/><g><!--MD5=[6a4cb978cab31700e1ce5529f947a75d]\n",
       "@startuml\r\n",
       "skinparam ranksep 8\r\n",
       " \r\n",
       "@enduml\r\n",
       "\n",
       "PlantUML version 1.2020.13(Sat Jun 13 12:26:38 UTC 2020)\n",
       "(EPL source distribution)\n",
       "Java Runtime: OpenJDK Runtime Environment\n",
       "JVM: OpenJDK 64-Bit Server VM\n",
       "Default Encoding: UTF-8\n",
       "Language: en\n",
       "Country: null\n",
       "--></g></svg>"
      ]
     },
     "execution_count": 34,
     "metadata": {},
     "output_type": "execute_result"
    }
   ],
   "source": [
    "%viz --style=\"PLANTUML\" --view=\"Action\" \"P1\""
   ]
  },
  {
   "cell_type": "code",
   "execution_count": 35,
   "id": "38410bb7",
   "metadata": {
    "execution": {
     "iopub.execute_input": "2021-06-30T09:22:34.278926Z",
     "iopub.status.busy": "2021-06-30T09:22:34.278209Z",
     "iopub.status.idle": "2021-06-30T09:22:34.300452Z",
     "shell.execute_reply": "2021-06-30T09:22:34.300076Z"
    }
   },
   "outputs": [
    {
     "data": {
      "image/svg+xml": [
       "<?xml version=\"1.0\" encoding=\"UTF-8\" standalone=\"no\"?><svg xmlns=\"http://www.w3.org/2000/svg\" xmlns:xlink=\"http://www.w3.org/1999/xlink\" contentScriptType=\"application/ecmascript\" contentStyleType=\"text/css\" height=\"109px\" preserveAspectRatio=\"none\" style=\"width:110px;height:109px;\" version=\"1.1\" viewBox=\"0 0 110 109\" width=\"110px\" zoomAndPan=\"magnify\"><defs><filter height=\"300%\" id=\"fdiuws37qaqdh\" width=\"300%\" x=\"-1\" y=\"-1\"><feGaussianBlur result=\"blurOut\" stdDeviation=\"2.0\"/><feColorMatrix in=\"blurOut\" result=\"blurOut2\" type=\"matrix\" values=\"0 0 0 0 0 0 0 0 0 0 0 0 0 0 0 0 0 0 .4 0\"/><feOffset dx=\"4.0\" dy=\"4.0\" in=\"blurOut2\" result=\"blurOut3\"/><feBlend in=\"SourceGraphic\" in2=\"blurOut3\" mode=\"normal\"/></filter></defs><g><!--MD5=[fbc87193dbaf4d95561dea2c320d4a47]\n",
       "cluster E1--><a href=\"psysml:80072e13-09a0-47de-8e75-bd5ae320c88b\" target=\"_top\" title=\"psysml:80072e13-09a0-47de-8e75-bd5ae320c88b\" xlink:actuate=\"onRequest\" xlink:href=\"psysml:80072e13-09a0-47de-8e75-bd5ae320c88b\" xlink:show=\"new\" xlink:title=\"psysml:80072e13-09a0-47de-8e75-bd5ae320c88b\" xlink:type=\"simple\"><polygon fill=\"#FFFFFF\" filter=\"url(#fdiuws37qaqdh)\" points=\"16,6,42,6,49,28.2969,88,28.2969,88,97,16,97,16,6\" style=\"stroke: #000000; stroke-width: 1.5;\"/><line style=\"stroke: #000000; stroke-width: 1.5;\" x1=\"16\" x2=\"49\" y1=\"28.2969\" y2=\"28.2969\"/><text fill=\"#000000\" font-family=\"sans-serif\" font-size=\"14\" font-weight=\"bold\" lengthAdjust=\"spacingAndGlyphs\" textLength=\"20\" x=\"20\" y=\"20.9951\">P1</text></a><!--MD5=[b4997ac47864f28c2f74865a473b2911]\n",
       "class E2--><a href=\"psysml:09b3b88a-a3ba-434d-8883-2eddebd173e7\" target=\"_top\" title=\"psysml:09b3b88a-a3ba-434d-8883-2eddebd173e7\" xlink:actuate=\"onRequest\" xlink:href=\"psysml:09b3b88a-a3ba-434d-8883-2eddebd173e7\" xlink:show=\"new\" xlink:title=\"psysml:09b3b88a-a3ba-434d-8883-2eddebd173e7\" xlink:type=\"simple\"><rect fill=\"#FEFECE\" filter=\"url(#fdiuws37qaqdh)\" height=\"40\" id=\"E2\" style=\"stroke: #A80036; stroke-width: 1.5;\" width=\"40\" x=\"32\" y=\"41\"/><ellipse cx=\"47\" cy=\"57\" fill=\"#008000\" rx=\"11\" ry=\"11\" style=\"stroke: #A80036; stroke-width: 1.0;\"/><path d=\"M45.9063,57.375 L45.9063,61.0469 L47.5313,61.0469 Q48.7031,61.0469 49.1719,60.6563 Q49.6406,60.25 49.6406,59.25 Q49.6406,58.25 49.1406,57.8125 Q48.6563,57.375 47.5313,57.375 L45.9063,57.375 Z M45.9063,52.5469 L45.9063,55.4219 L47.5313,55.4219 Q48.4531,55.4219 48.8438,55.0938 Q49.25,54.75 49.25,54 Q49.25,53.2344 48.8438,52.8906 Q48.4375,52.5469 47.5313,52.5469 L45.9063,52.5469 Z M43.5313,50.5938 L47.5313,50.5938 Q49.5938,50.5938 50.6406,51.375 Q51.6875,52.1563 51.6875,53.7188 Q51.6875,54.9219 51.0625,55.5938 Q50.4531,56.2656 49.2656,56.375 Q50.6875,56.5156 51.4063,57.3281 Q52.125,58.1406 52.125,59.5938 Q52.125,61.3906 51.0469,62.2031 Q49.9688,63 47.5313,63 L43.5313,63 L43.5313,50.5938 Z \"/><text fill=\"#000000\" font-family=\"sans-serif\" font-size=\"12\" lengthAdjust=\"spacingAndGlyphs\" textLength=\"8\" x=\"61\" y=\"61.1543\">A</text><line style=\"stroke: #A80036; stroke-width: 1.5;\" x1=\"33\" x2=\"71\" y1=\"73\" y2=\"73\"/></a><!--MD5=[4f8d479f6f53fb1d3e62f33b62c0230e]\n",
       "@startuml\r\n",
       " \r\n",
       "package \"P1\" as E1  [[psysml:80072e13-09a0-47de-8e75-bd5ae320c88b ]]  {\r\n",
       "comp def \"A\" as E2 << << (B,green) >> [[psysml:09b3b88a-a3ba-434d-8883-2eddebd173e7 ]] {\r\n",
       "}\r\n",
       "}\r\n",
       "@enduml\r\n",
       "\n",
       "PlantUML version 1.2020.13(Sat Jun 13 12:26:38 UTC 2020)\n",
       "(EPL source distribution)\n",
       "Java Runtime: OpenJDK Runtime Environment\n",
       "JVM: OpenJDK 64-Bit Server VM\n",
       "Default Encoding: UTF-8\n",
       "Language: en\n",
       "Country: null\n",
       "--></g></svg>"
      ]
     },
     "execution_count": 35,
     "metadata": {},
     "output_type": "execute_result"
    }
   ],
   "source": [
    "%viz --style=\"PLANTUML\" --view=\"Sequence\" \"P1\""
   ]
  },
  {
   "cell_type": "code",
   "execution_count": 36,
   "id": "dda2b643",
   "metadata": {
    "execution": {
     "iopub.execute_input": "2021-06-30T09:22:34.350262Z",
     "iopub.status.busy": "2021-06-30T09:22:34.349813Z",
     "iopub.status.idle": "2021-06-30T09:22:34.384804Z",
     "shell.execute_reply": "2021-06-30T09:22:34.384261Z"
    }
   },
   "outputs": [
    {
     "data": {
      "image/svg+xml": [
       "<?xml version=\"1.0\" encoding=\"UTF-8\" standalone=\"no\"?><svg xmlns=\"http://www.w3.org/2000/svg\" xmlns:xlink=\"http://www.w3.org/1999/xlink\" contentScriptType=\"application/ecmascript\" contentStyleType=\"text/css\" height=\"109px\" preserveAspectRatio=\"none\" style=\"width:110px;height:109px;\" version=\"1.1\" viewBox=\"0 0 110 109\" width=\"110px\" zoomAndPan=\"magnify\"><defs><filter height=\"300%\" id=\"fdiuws37qaqdh\" width=\"300%\" x=\"-1\" y=\"-1\"><feGaussianBlur result=\"blurOut\" stdDeviation=\"2.0\"/><feColorMatrix in=\"blurOut\" result=\"blurOut2\" type=\"matrix\" values=\"0 0 0 0 0 0 0 0 0 0 0 0 0 0 0 0 0 0 .4 0\"/><feOffset dx=\"4.0\" dy=\"4.0\" in=\"blurOut2\" result=\"blurOut3\"/><feBlend in=\"SourceGraphic\" in2=\"blurOut3\" mode=\"normal\"/></filter></defs><g><!--MD5=[fbc87193dbaf4d95561dea2c320d4a47]\n",
       "cluster E1--><a href=\"psysml:80072e13-09a0-47de-8e75-bd5ae320c88b\" target=\"_top\" title=\"psysml:80072e13-09a0-47de-8e75-bd5ae320c88b\" xlink:actuate=\"onRequest\" xlink:href=\"psysml:80072e13-09a0-47de-8e75-bd5ae320c88b\" xlink:show=\"new\" xlink:title=\"psysml:80072e13-09a0-47de-8e75-bd5ae320c88b\" xlink:type=\"simple\"><polygon fill=\"#FFFFFF\" filter=\"url(#fdiuws37qaqdh)\" points=\"16,6,42,6,49,28.2969,88,28.2969,88,97,16,97,16,6\" style=\"stroke: #000000; stroke-width: 1.5;\"/><line style=\"stroke: #000000; stroke-width: 1.5;\" x1=\"16\" x2=\"49\" y1=\"28.2969\" y2=\"28.2969\"/><text fill=\"#000000\" font-family=\"sans-serif\" font-size=\"14\" font-weight=\"bold\" lengthAdjust=\"spacingAndGlyphs\" textLength=\"20\" x=\"20\" y=\"20.9951\">P1</text></a><!--MD5=[b4997ac47864f28c2f74865a473b2911]\n",
       "class E2--><a href=\"psysml:09b3b88a-a3ba-434d-8883-2eddebd173e7\" target=\"_top\" title=\"psysml:09b3b88a-a3ba-434d-8883-2eddebd173e7\" xlink:actuate=\"onRequest\" xlink:href=\"psysml:09b3b88a-a3ba-434d-8883-2eddebd173e7\" xlink:show=\"new\" xlink:title=\"psysml:09b3b88a-a3ba-434d-8883-2eddebd173e7\" xlink:type=\"simple\"><rect fill=\"#FEFECE\" filter=\"url(#fdiuws37qaqdh)\" height=\"40\" id=\"E2\" style=\"stroke: #A80036; stroke-width: 1.5;\" width=\"40\" x=\"32\" y=\"41\"/><ellipse cx=\"47\" cy=\"57\" fill=\"#008000\" rx=\"11\" ry=\"11\" style=\"stroke: #A80036; stroke-width: 1.0;\"/><path d=\"M45.9063,57.375 L45.9063,61.0469 L47.5313,61.0469 Q48.7031,61.0469 49.1719,60.6563 Q49.6406,60.25 49.6406,59.25 Q49.6406,58.25 49.1406,57.8125 Q48.6563,57.375 47.5313,57.375 L45.9063,57.375 Z M45.9063,52.5469 L45.9063,55.4219 L47.5313,55.4219 Q48.4531,55.4219 48.8438,55.0938 Q49.25,54.75 49.25,54 Q49.25,53.2344 48.8438,52.8906 Q48.4375,52.5469 47.5313,52.5469 L45.9063,52.5469 Z M43.5313,50.5938 L47.5313,50.5938 Q49.5938,50.5938 50.6406,51.375 Q51.6875,52.1563 51.6875,53.7188 Q51.6875,54.9219 51.0625,55.5938 Q50.4531,56.2656 49.2656,56.375 Q50.6875,56.5156 51.4063,57.3281 Q52.125,58.1406 52.125,59.5938 Q52.125,61.3906 51.0469,62.2031 Q49.9688,63 47.5313,63 L43.5313,63 L43.5313,50.5938 Z \"/><text fill=\"#000000\" font-family=\"sans-serif\" font-size=\"12\" lengthAdjust=\"spacingAndGlyphs\" textLength=\"8\" x=\"61\" y=\"61.1543\">A</text><line style=\"stroke: #A80036; stroke-width: 1.5;\" x1=\"33\" x2=\"71\" y1=\"73\" y2=\"73\"/></a><!--MD5=[4f8d479f6f53fb1d3e62f33b62c0230e]\n",
       "@startuml\r\n",
       " \r\n",
       "package \"P1\" as E1  [[psysml:80072e13-09a0-47de-8e75-bd5ae320c88b ]]  {\r\n",
       "comp def \"A\" as E2 << << (B,green) >> [[psysml:09b3b88a-a3ba-434d-8883-2eddebd173e7 ]] {\r\n",
       "}\r\n",
       "}\r\n",
       "@enduml\r\n",
       "\n",
       "PlantUML version 1.2020.13(Sat Jun 13 12:26:38 UTC 2020)\n",
       "(EPL source distribution)\n",
       "Java Runtime: OpenJDK Runtime Environment\n",
       "JVM: OpenJDK 64-Bit Server VM\n",
       "Default Encoding: UTF-8\n",
       "Language: en\n",
       "Country: null\n",
       "--></g></svg>"
      ]
     },
     "execution_count": 36,
     "metadata": {},
     "output_type": "execute_result"
    }
   ],
   "source": [
    "%viz --style=\"PLANTUML\" --view=\"MIXED\" \"P1\""
   ]
  },
  {
   "cell_type": "code",
   "execution_count": 37,
   "id": "cd359c72",
   "metadata": {
    "execution": {
     "iopub.execute_input": "2021-06-30T09:22:34.434742Z",
     "iopub.status.busy": "2021-06-30T09:22:34.434402Z",
     "iopub.status.idle": "2021-06-30T09:22:34.455982Z",
     "shell.execute_reply": "2021-06-30T09:22:34.455640Z"
    }
   },
   "outputs": [
    {
     "data": {
      "image/svg+xml": [
       "<?xml version=\"1.0\" encoding=\"UTF-8\" standalone=\"no\"?><svg xmlns=\"http://www.w3.org/2000/svg\" xmlns:xlink=\"http://www.w3.org/1999/xlink\" contentScriptType=\"application/ecmascript\" contentStyleType=\"text/css\" height=\"115px\" preserveAspectRatio=\"none\" style=\"width:136px;height:115px;\" version=\"1.1\" viewBox=\"0 0 136 115\" width=\"136px\" zoomAndPan=\"magnify\"><defs/><g><!--MD5=[fbc87193dbaf4d95561dea2c320d4a47]\n",
       "cluster E1--><a href=\"psysml:80072e13-09a0-47de-8e75-bd5ae320c88b\" target=\"_top\" title=\"psysml:80072e13-09a0-47de-8e75-bd5ae320c88b\" xlink:actuate=\"onRequest\" xlink:href=\"psysml:80072e13-09a0-47de-8e75-bd5ae320c88b\" xlink:show=\"new\" xlink:title=\"psysml:80072e13-09a0-47de-8e75-bd5ae320c88b\" xlink:type=\"simple\"><polygon fill=\"#FFFFFF\" points=\"16,6,42,6,49,28.2969,114,28.2969,114,103,16,103,16,6\" style=\"stroke: #000000; stroke-width: 1.5;\"/><line style=\"stroke: #000000; stroke-width: 1.5;\" x1=\"16\" x2=\"49\" y1=\"28.2969\" y2=\"28.2969\"/><text fill=\"#000000\" font-family=\"sans-serif\" font-size=\"14\" font-weight=\"bold\" lengthAdjust=\"spacingAndGlyphs\" textLength=\"20\" x=\"20\" y=\"20.9951\">P1</text></a><!--MD5=[b4997ac47864f28c2f74865a473b2911]\n",
       "class E2--><a href=\"psysml:09b3b88a-a3ba-434d-8883-2eddebd173e7\" target=\"_top\" title=\"psysml:09b3b88a-a3ba-434d-8883-2eddebd173e7\" xlink:actuate=\"onRequest\" xlink:href=\"psysml:09b3b88a-a3ba-434d-8883-2eddebd173e7\" xlink:show=\"new\" xlink:title=\"psysml:09b3b88a-a3ba-434d-8883-2eddebd173e7\" xlink:type=\"simple\"><rect fill=\"#FFFFFF\" height=\"45.9375\" id=\"E2\" style=\"stroke: #383838; stroke-width: 1.5;\" width=\"66\" x=\"32\" y=\"41\"/><text fill=\"#000000\" font-family=\"sans-serif\" font-size=\"12\" font-style=\"italic\" lengthAdjust=\"spacingAndGlyphs\" textLength=\"64\" x=\"33\" y=\"57.1387\">«part def»</text><text fill=\"#000000\" font-family=\"sans-serif\" font-size=\"12\" lengthAdjust=\"spacingAndGlyphs\" textLength=\"8\" x=\"61\" y=\"71.1074\">A</text><line style=\"stroke: #383838; stroke-width: 1.5;\" x1=\"33\" x2=\"97\" y1=\"78.9375\" y2=\"78.9375\"/></a><!--MD5=[3c114b69cf636c0804f3b7f5b88f4442]\n",
       "@startuml\r\n",
       "skinparam monochrome true\r\n",
       "skinparam classbackgroundcolor white\r\n",
       "skinparam shadowing false\r\n",
       "skinparam wrapWidth 300\r\n",
       "hide circle\r\n",
       "\r\n",
       "package \"P1\" as E1  [[psysml:80072e13-09a0-47de-8e75-bd5ae320c88b ]]  {\r\n",
       "comp def \"A\" as E2  <<(T,blue) part def>> [[psysml:09b3b88a-a3ba-434d-8883-2eddebd173e7 ]] {\r\n",
       "}\r\n",
       "}\r\n",
       "@enduml\r\n",
       "\n",
       "PlantUML version 1.2020.13(Sat Jun 13 12:26:38 UTC 2020)\n",
       "(EPL source distribution)\n",
       "Java Runtime: OpenJDK Runtime Environment\n",
       "JVM: OpenJDK 64-Bit Server VM\n",
       "Default Encoding: UTF-8\n",
       "Language: en\n",
       "Country: null\n",
       "--></g></svg>"
      ]
     },
     "execution_count": 37,
     "metadata": {},
     "output_type": "execute_result"
    }
   ],
   "source": [
    "%viz --style=\"DEFAULT\" --view=\"Default\" \"P1\""
   ]
  },
  {
   "cell_type": "code",
   "execution_count": 38,
   "id": "a79a1802",
   "metadata": {
    "execution": {
     "iopub.execute_input": "2021-06-30T09:22:34.506085Z",
     "iopub.status.busy": "2021-06-30T09:22:34.505699Z",
     "iopub.status.idle": "2021-06-30T09:22:34.529652Z",
     "shell.execute_reply": "2021-06-30T09:22:34.529360Z"
    }
   },
   "outputs": [
    {
     "data": {
      "image/svg+xml": [
       "<?xml version=\"1.0\" encoding=\"UTF-8\" standalone=\"no\"?><svg xmlns=\"http://www.w3.org/2000/svg\" xmlns:xlink=\"http://www.w3.org/1999/xlink\" contentScriptType=\"application/ecmascript\" contentStyleType=\"text/css\" height=\"115px\" preserveAspectRatio=\"none\" style=\"width:136px;height:115px;\" version=\"1.1\" viewBox=\"0 0 136 115\" width=\"136px\" zoomAndPan=\"magnify\"><defs/><g><!--MD5=[fbc87193dbaf4d95561dea2c320d4a47]\n",
       "cluster E1--><a href=\"psysml:80072e13-09a0-47de-8e75-bd5ae320c88b\" target=\"_top\" title=\"psysml:80072e13-09a0-47de-8e75-bd5ae320c88b\" xlink:actuate=\"onRequest\" xlink:href=\"psysml:80072e13-09a0-47de-8e75-bd5ae320c88b\" xlink:show=\"new\" xlink:title=\"psysml:80072e13-09a0-47de-8e75-bd5ae320c88b\" xlink:type=\"simple\"><polygon fill=\"#FFFFFF\" points=\"16,6,42,6,49,28.2969,114,28.2969,114,103,16,103,16,6\" style=\"stroke: #000000; stroke-width: 1.5;\"/><line style=\"stroke: #000000; stroke-width: 1.5;\" x1=\"16\" x2=\"49\" y1=\"28.2969\" y2=\"28.2969\"/><text fill=\"#000000\" font-family=\"sans-serif\" font-size=\"14\" font-weight=\"bold\" lengthAdjust=\"spacingAndGlyphs\" textLength=\"20\" x=\"20\" y=\"20.9951\">P1</text></a><!--MD5=[b4997ac47864f28c2f74865a473b2911]\n",
       "class E2--><a href=\"psysml:09b3b88a-a3ba-434d-8883-2eddebd173e7\" target=\"_top\" title=\"psysml:09b3b88a-a3ba-434d-8883-2eddebd173e7\" xlink:actuate=\"onRequest\" xlink:href=\"psysml:09b3b88a-a3ba-434d-8883-2eddebd173e7\" xlink:show=\"new\" xlink:title=\"psysml:09b3b88a-a3ba-434d-8883-2eddebd173e7\" xlink:type=\"simple\"><rect fill=\"#FFFFFF\" height=\"45.9375\" id=\"E2\" style=\"stroke: #383838; stroke-width: 1.5;\" width=\"66\" x=\"32\" y=\"41\"/><text fill=\"#000000\" font-family=\"sans-serif\" font-size=\"12\" font-style=\"italic\" lengthAdjust=\"spacingAndGlyphs\" textLength=\"64\" x=\"33\" y=\"57.1387\">«part def»</text><text fill=\"#000000\" font-family=\"sans-serif\" font-size=\"12\" lengthAdjust=\"spacingAndGlyphs\" textLength=\"8\" x=\"61\" y=\"71.1074\">A</text><line style=\"stroke: #383838; stroke-width: 1.5;\" x1=\"33\" x2=\"97\" y1=\"78.9375\" y2=\"78.9375\"/></a><!--MD5=[3c114b69cf636c0804f3b7f5b88f4442]\n",
       "@startuml\r\n",
       "skinparam monochrome true\r\n",
       "skinparam classbackgroundcolor white\r\n",
       "skinparam shadowing false\r\n",
       "skinparam wrapWidth 300\r\n",
       "hide circle\r\n",
       "\r\n",
       "package \"P1\" as E1  [[psysml:80072e13-09a0-47de-8e75-bd5ae320c88b ]]  {\r\n",
       "comp def \"A\" as E2  <<(T,blue) part def>> [[psysml:09b3b88a-a3ba-434d-8883-2eddebd173e7 ]] {\r\n",
       "}\r\n",
       "}\r\n",
       "@enduml\r\n",
       "\n",
       "PlantUML version 1.2020.13(Sat Jun 13 12:26:38 UTC 2020)\n",
       "(EPL source distribution)\n",
       "Java Runtime: OpenJDK Runtime Environment\n",
       "JVM: OpenJDK 64-Bit Server VM\n",
       "Default Encoding: UTF-8\n",
       "Language: en\n",
       "Country: null\n",
       "--></g></svg>"
      ]
     },
     "execution_count": 38,
     "metadata": {},
     "output_type": "execute_result"
    }
   ],
   "source": [
    "%viz --style=\"DEFAULT\" --view=\"Tree\" \"P1\""
   ]
  },
  {
   "cell_type": "code",
   "execution_count": 39,
   "id": "fbccc6a5",
   "metadata": {
    "execution": {
     "iopub.execute_input": "2021-06-30T09:22:34.580733Z",
     "iopub.status.busy": "2021-06-30T09:22:34.579762Z",
     "iopub.status.idle": "2021-06-30T09:22:34.585744Z",
     "shell.execute_reply": "2021-06-30T09:22:34.585420Z"
    }
   },
   "outputs": [
    {
     "data": {
      "image/svg+xml": [
       "<?xml version=\"1.0\" encoding=\"UTF-8\" standalone=\"no\"?><svg xmlns=\"http://www.w3.org/2000/svg\" xmlns:xlink=\"http://www.w3.org/1999/xlink\" contentScriptType=\"application/ecmascript\" contentStyleType=\"text/css\" height=\"12px\" preserveAspectRatio=\"none\" style=\"width:12px;height:12px;\" version=\"1.1\" viewBox=\"0 0 12 12\" width=\"12px\" zoomAndPan=\"magnify\"><defs/><g><!--MD5=[c5f280e076d0d61ccf4b0f27871bda1d]\n",
       "@startuml\r\n",
       "skinparam monochrome true\r\n",
       "skinparam classbackgroundcolor white\r\n",
       "skinparam shadowing false\r\n",
       "skinparam wrapWidth 300\r\n",
       "hide circle\r\n",
       "\r\n",
       "@enduml\r\n",
       "\n",
       "PlantUML version 1.2020.13(Sat Jun 13 12:26:38 UTC 2020)\n",
       "(EPL source distribution)\n",
       "Java Runtime: OpenJDK Runtime Environment\n",
       "JVM: OpenJDK 64-Bit Server VM\n",
       "Default Encoding: UTF-8\n",
       "Language: en\n",
       "Country: null\n",
       "--></g></svg>"
      ]
     },
     "execution_count": 39,
     "metadata": {},
     "output_type": "execute_result"
    }
   ],
   "source": [
    "%viz --style=\"DEFAULT\" --view=\"State\" \"P1\""
   ]
  },
  {
   "cell_type": "code",
   "execution_count": 40,
   "id": "d07ea6a0",
   "metadata": {
    "execution": {
     "iopub.execute_input": "2021-06-30T09:22:34.637253Z",
     "iopub.status.busy": "2021-06-30T09:22:34.636084Z",
     "iopub.status.idle": "2021-06-30T09:22:34.678197Z",
     "shell.execute_reply": "2021-06-30T09:22:34.678794Z"
    }
   },
   "outputs": [
    {
     "data": {
      "image/svg+xml": [
       "<?xml version=\"1.0\" encoding=\"UTF-8\" standalone=\"no\"?><svg xmlns=\"http://www.w3.org/2000/svg\" xmlns:xlink=\"http://www.w3.org/1999/xlink\" contentScriptType=\"application/ecmascript\" contentStyleType=\"text/css\" height=\"112px\" preserveAspectRatio=\"none\" style=\"width:142px;height:112px;\" version=\"1.1\" viewBox=\"0 0 142 112\" width=\"142px\" zoomAndPan=\"magnify\"><defs/><g><!--MD5=[fbc87193dbaf4d95561dea2c320d4a47]\n",
       "cluster E1--><a href=\"psysml:80072e13-09a0-47de-8e75-bd5ae320c88b\" target=\"_top\" title=\"psysml:80072e13-09a0-47de-8e75-bd5ae320c88b\" xlink:actuate=\"onRequest\" xlink:href=\"psysml:80072e13-09a0-47de-8e75-bd5ae320c88b\" xlink:show=\"new\" xlink:title=\"psysml:80072e13-09a0-47de-8e75-bd5ae320c88b\" xlink:type=\"simple\"><polygon fill=\"#FFFFFF\" points=\"16,6,42,6,49,28.2969,120,28.2969,120,100,16,100,16,6\" style=\"stroke: #000000; stroke-width: 1.5;\"/><line style=\"stroke: #000000; stroke-width: 1.5;\" x1=\"16\" x2=\"49\" y1=\"28.2969\" y2=\"28.2969\"/><text fill=\"#000000\" font-family=\"sans-serif\" font-size=\"14\" font-weight=\"bold\" lengthAdjust=\"spacingAndGlyphs\" textLength=\"20\" x=\"20\" y=\"20.9951\">P1</text></a><g id=\"E1.E2\"><a href=\"psysml:09b3b88a-a3ba-434d-8883-2eddebd173e7\" target=\"_top\" title=\"psysml:09b3b88a-a3ba-434d-8883-2eddebd173e7\" xlink:actuate=\"onRequest\" xlink:href=\"psysml:09b3b88a-a3ba-434d-8883-2eddebd173e7\" xlink:show=\"new\" xlink:title=\"psysml:09b3b88a-a3ba-434d-8883-2eddebd173e7\" xlink:type=\"simple\"><rect fill=\"#FFFFFF\" height=\"42.9375\" id=\"E2\" style=\"stroke: #383838; stroke-width: 1.5;\" width=\"71\" x=\"32.5\" y=\"41\"/><rect fill=\"#F8F8F8\" height=\"37.9375\" style=\"stroke: #383838; stroke-width: 1.5;\" width=\"71\" x=\"32.5\" y=\"41\"/><text fill=\"#000000\" font-family=\"sans-serif\" font-size=\"12\" font-style=\"italic\" lengthAdjust=\"spacingAndGlyphs\" textLength=\"64\" x=\"36\" y=\"57.1387\">«part def»</text><text fill=\"#000000\" font-family=\"sans-serif\" font-size=\"12\" lengthAdjust=\"spacingAndGlyphs\" textLength=\"8\" x=\"64\" y=\"71.1074\">A</text></a></g><!--MD5=[45b71eb537a5e89471eed069530d18bb]\n",
       "@startuml\r\n",
       "skinparam ranksep 10\r\n",
       "skinparam rectangle {\r\n",
       " backgroundColor<<block>> LightGreen\r\n",
       "}\r\n",
       "skinparam monochrome true\r\n",
       "skinparam classbackgroundcolor white\r\n",
       "skinparam shadowing false\r\n",
       "skinparam wrapWidth 300\r\n",
       "hide circle\r\n",
       "\r\n",
       "package \"P1\" as E1  [[psysml:80072e13-09a0-47de-8e75-bd5ae320c88b ]]  {\r\n",
       "rec def \"A\" as E2  <<(T,blue) part def>> [[psysml:09b3b88a-a3ba-434d-8883-2eddebd173e7 ]] {\r\n",
       "}\r\n",
       "}\r\n",
       "@enduml\r\n",
       "\n",
       "PlantUML version 1.2020.13(Sat Jun 13 12:26:38 UTC 2020)\n",
       "(EPL source distribution)\n",
       "Java Runtime: OpenJDK Runtime Environment\n",
       "JVM: OpenJDK 64-Bit Server VM\n",
       "Default Encoding: UTF-8\n",
       "Language: en\n",
       "Country: null\n",
       "--></g></svg>"
      ]
     },
     "execution_count": 40,
     "metadata": {},
     "output_type": "execute_result"
    }
   ],
   "source": [
    "%viz --style=\"DEFAULT\" --view=\"Interconnection\" \"P1\""
   ]
  },
  {
   "cell_type": "code",
   "execution_count": 41,
   "id": "fe5770c7",
   "metadata": {
    "execution": {
     "iopub.execute_input": "2021-06-30T09:22:34.732192Z",
     "iopub.status.busy": "2021-06-30T09:22:34.731529Z",
     "iopub.status.idle": "2021-06-30T09:22:34.750703Z",
     "shell.execute_reply": "2021-06-30T09:22:34.751311Z"
    }
   },
   "outputs": [
    {
     "data": {
      "image/svg+xml": [
       "<?xml version=\"1.0\" encoding=\"UTF-8\" standalone=\"no\"?><svg xmlns=\"http://www.w3.org/2000/svg\" xmlns:xlink=\"http://www.w3.org/1999/xlink\" contentScriptType=\"application/ecmascript\" contentStyleType=\"text/css\" height=\"12px\" preserveAspectRatio=\"none\" style=\"width:12px;height:12px;\" version=\"1.1\" viewBox=\"0 0 12 12\" width=\"12px\" zoomAndPan=\"magnify\"><defs/><g><!--MD5=[388f21188e31bfdd97050473b19af356]\n",
       "@startuml\r\n",
       "skinparam ranksep 8\r\n",
       "skinparam monochrome true\r\n",
       "skinparam classbackgroundcolor white\r\n",
       "skinparam shadowing false\r\n",
       "skinparam wrapWidth 300\r\n",
       "hide circle\r\n",
       "\r\n",
       "@enduml\r\n",
       "\n",
       "PlantUML version 1.2020.13(Sat Jun 13 12:26:38 UTC 2020)\n",
       "(EPL source distribution)\n",
       "Java Runtime: OpenJDK Runtime Environment\n",
       "JVM: OpenJDK 64-Bit Server VM\n",
       "Default Encoding: UTF-8\n",
       "Language: en\n",
       "Country: null\n",
       "--></g></svg>"
      ]
     },
     "execution_count": 41,
     "metadata": {},
     "output_type": "execute_result"
    }
   ],
   "source": [
    "%viz --style=\"DEFAULT\" --view=\"Action\" \"P1\""
   ]
  },
  {
   "cell_type": "code",
   "execution_count": 42,
   "id": "06e1cb66",
   "metadata": {
    "execution": {
     "iopub.execute_input": "2021-06-30T09:22:34.813127Z",
     "iopub.status.busy": "2021-06-30T09:22:34.812425Z",
     "iopub.status.idle": "2021-06-30T09:22:34.860682Z",
     "shell.execute_reply": "2021-06-30T09:22:34.861803Z"
    }
   },
   "outputs": [
    {
     "data": {
      "image/svg+xml": [
       "<?xml version=\"1.0\" encoding=\"UTF-8\" standalone=\"no\"?><svg xmlns=\"http://www.w3.org/2000/svg\" xmlns:xlink=\"http://www.w3.org/1999/xlink\" contentScriptType=\"application/ecmascript\" contentStyleType=\"text/css\" height=\"115px\" preserveAspectRatio=\"none\" style=\"width:136px;height:115px;\" version=\"1.1\" viewBox=\"0 0 136 115\" width=\"136px\" zoomAndPan=\"magnify\"><defs/><g><!--MD5=[fbc87193dbaf4d95561dea2c320d4a47]\n",
       "cluster E1--><a href=\"psysml:80072e13-09a0-47de-8e75-bd5ae320c88b\" target=\"_top\" title=\"psysml:80072e13-09a0-47de-8e75-bd5ae320c88b\" xlink:actuate=\"onRequest\" xlink:href=\"psysml:80072e13-09a0-47de-8e75-bd5ae320c88b\" xlink:show=\"new\" xlink:title=\"psysml:80072e13-09a0-47de-8e75-bd5ae320c88b\" xlink:type=\"simple\"><polygon fill=\"#FFFFFF\" points=\"16,6,42,6,49,28.2969,114,28.2969,114,103,16,103,16,6\" style=\"stroke: #000000; stroke-width: 1.5;\"/><line style=\"stroke: #000000; stroke-width: 1.5;\" x1=\"16\" x2=\"49\" y1=\"28.2969\" y2=\"28.2969\"/><text fill=\"#000000\" font-family=\"sans-serif\" font-size=\"14\" font-weight=\"bold\" lengthAdjust=\"spacingAndGlyphs\" textLength=\"20\" x=\"20\" y=\"20.9951\">P1</text></a><!--MD5=[b4997ac47864f28c2f74865a473b2911]\n",
       "class E2--><a href=\"psysml:09b3b88a-a3ba-434d-8883-2eddebd173e7\" target=\"_top\" title=\"psysml:09b3b88a-a3ba-434d-8883-2eddebd173e7\" xlink:actuate=\"onRequest\" xlink:href=\"psysml:09b3b88a-a3ba-434d-8883-2eddebd173e7\" xlink:show=\"new\" xlink:title=\"psysml:09b3b88a-a3ba-434d-8883-2eddebd173e7\" xlink:type=\"simple\"><rect fill=\"#FFFFFF\" height=\"45.9375\" id=\"E2\" style=\"stroke: #383838; stroke-width: 1.5;\" width=\"66\" x=\"32\" y=\"41\"/><text fill=\"#000000\" font-family=\"sans-serif\" font-size=\"12\" font-style=\"italic\" lengthAdjust=\"spacingAndGlyphs\" textLength=\"64\" x=\"33\" y=\"57.1387\">«part def»</text><text fill=\"#000000\" font-family=\"sans-serif\" font-size=\"12\" lengthAdjust=\"spacingAndGlyphs\" textLength=\"8\" x=\"61\" y=\"71.1074\">A</text><line style=\"stroke: #383838; stroke-width: 1.5;\" x1=\"33\" x2=\"97\" y1=\"78.9375\" y2=\"78.9375\"/></a><!--MD5=[3c114b69cf636c0804f3b7f5b88f4442]\n",
       "@startuml\r\n",
       "skinparam monochrome true\r\n",
       "skinparam classbackgroundcolor white\r\n",
       "skinparam shadowing false\r\n",
       "skinparam wrapWidth 300\r\n",
       "hide circle\r\n",
       "\r\n",
       "package \"P1\" as E1  [[psysml:80072e13-09a0-47de-8e75-bd5ae320c88b ]]  {\r\n",
       "comp def \"A\" as E2  <<(T,blue) part def>> [[psysml:09b3b88a-a3ba-434d-8883-2eddebd173e7 ]] {\r\n",
       "}\r\n",
       "}\r\n",
       "@enduml\r\n",
       "\n",
       "PlantUML version 1.2020.13(Sat Jun 13 12:26:38 UTC 2020)\n",
       "(EPL source distribution)\n",
       "Java Runtime: OpenJDK Runtime Environment\n",
       "JVM: OpenJDK 64-Bit Server VM\n",
       "Default Encoding: UTF-8\n",
       "Language: en\n",
       "Country: null\n",
       "--></g></svg>"
      ]
     },
     "execution_count": 42,
     "metadata": {},
     "output_type": "execute_result"
    }
   ],
   "source": [
    "%viz --style=\"DEFAULT\" --view=\"Sequence\" \"P1\""
   ]
  },
  {
   "cell_type": "code",
   "execution_count": 43,
   "id": "e73cb995",
   "metadata": {
    "execution": {
     "iopub.execute_input": "2021-06-30T09:22:34.918549Z",
     "iopub.status.busy": "2021-06-30T09:22:34.917948Z",
     "iopub.status.idle": "2021-06-30T09:22:34.956208Z",
     "shell.execute_reply": "2021-06-30T09:22:34.956744Z"
    }
   },
   "outputs": [
    {
     "data": {
      "image/svg+xml": [
       "<?xml version=\"1.0\" encoding=\"UTF-8\" standalone=\"no\"?><svg xmlns=\"http://www.w3.org/2000/svg\" xmlns:xlink=\"http://www.w3.org/1999/xlink\" contentScriptType=\"application/ecmascript\" contentStyleType=\"text/css\" height=\"115px\" preserveAspectRatio=\"none\" style=\"width:136px;height:115px;\" version=\"1.1\" viewBox=\"0 0 136 115\" width=\"136px\" zoomAndPan=\"magnify\"><defs/><g><!--MD5=[fbc87193dbaf4d95561dea2c320d4a47]\n",
       "cluster E1--><a href=\"psysml:80072e13-09a0-47de-8e75-bd5ae320c88b\" target=\"_top\" title=\"psysml:80072e13-09a0-47de-8e75-bd5ae320c88b\" xlink:actuate=\"onRequest\" xlink:href=\"psysml:80072e13-09a0-47de-8e75-bd5ae320c88b\" xlink:show=\"new\" xlink:title=\"psysml:80072e13-09a0-47de-8e75-bd5ae320c88b\" xlink:type=\"simple\"><polygon fill=\"#FFFFFF\" points=\"16,6,42,6,49,28.2969,114,28.2969,114,103,16,103,16,6\" style=\"stroke: #000000; stroke-width: 1.5;\"/><line style=\"stroke: #000000; stroke-width: 1.5;\" x1=\"16\" x2=\"49\" y1=\"28.2969\" y2=\"28.2969\"/><text fill=\"#000000\" font-family=\"sans-serif\" font-size=\"14\" font-weight=\"bold\" lengthAdjust=\"spacingAndGlyphs\" textLength=\"20\" x=\"20\" y=\"20.9951\">P1</text></a><!--MD5=[b4997ac47864f28c2f74865a473b2911]\n",
       "class E2--><a href=\"psysml:09b3b88a-a3ba-434d-8883-2eddebd173e7\" target=\"_top\" title=\"psysml:09b3b88a-a3ba-434d-8883-2eddebd173e7\" xlink:actuate=\"onRequest\" xlink:href=\"psysml:09b3b88a-a3ba-434d-8883-2eddebd173e7\" xlink:show=\"new\" xlink:title=\"psysml:09b3b88a-a3ba-434d-8883-2eddebd173e7\" xlink:type=\"simple\"><rect fill=\"#FFFFFF\" height=\"45.9375\" id=\"E2\" style=\"stroke: #383838; stroke-width: 1.5;\" width=\"66\" x=\"32\" y=\"41\"/><text fill=\"#000000\" font-family=\"sans-serif\" font-size=\"12\" font-style=\"italic\" lengthAdjust=\"spacingAndGlyphs\" textLength=\"64\" x=\"33\" y=\"57.1387\">«part def»</text><text fill=\"#000000\" font-family=\"sans-serif\" font-size=\"12\" lengthAdjust=\"spacingAndGlyphs\" textLength=\"8\" x=\"61\" y=\"71.1074\">A</text><line style=\"stroke: #383838; stroke-width: 1.5;\" x1=\"33\" x2=\"97\" y1=\"78.9375\" y2=\"78.9375\"/></a><!--MD5=[3c114b69cf636c0804f3b7f5b88f4442]\n",
       "@startuml\r\n",
       "skinparam monochrome true\r\n",
       "skinparam classbackgroundcolor white\r\n",
       "skinparam shadowing false\r\n",
       "skinparam wrapWidth 300\r\n",
       "hide circle\r\n",
       "\r\n",
       "package \"P1\" as E1  [[psysml:80072e13-09a0-47de-8e75-bd5ae320c88b ]]  {\r\n",
       "comp def \"A\" as E2  <<(T,blue) part def>> [[psysml:09b3b88a-a3ba-434d-8883-2eddebd173e7 ]] {\r\n",
       "}\r\n",
       "}\r\n",
       "@enduml\r\n",
       "\n",
       "PlantUML version 1.2020.13(Sat Jun 13 12:26:38 UTC 2020)\n",
       "(EPL source distribution)\n",
       "Java Runtime: OpenJDK Runtime Environment\n",
       "JVM: OpenJDK 64-Bit Server VM\n",
       "Default Encoding: UTF-8\n",
       "Language: en\n",
       "Country: null\n",
       "--></g></svg>"
      ]
     },
     "execution_count": 43,
     "metadata": {},
     "output_type": "execute_result"
    }
   ],
   "source": [
    "%viz --style=\"DEFAULT\" --view=\"MIXED\" \"P1\""
   ]
  },
  {
   "cell_type": "code",
   "execution_count": 44,
   "id": "3ba51bf2",
   "metadata": {
    "execution": {
     "iopub.execute_input": "2021-06-30T09:22:35.002738Z",
     "iopub.status.busy": "2021-06-30T09:22:35.002378Z",
     "iopub.status.idle": "2021-06-30T09:22:35.028803Z",
     "shell.execute_reply": "2021-06-30T09:22:35.028377Z"
    }
   },
   "outputs": [
    {
     "data": {
      "image/svg+xml": [
       "<?xml version=\"1.0\" encoding=\"UTF-8\" standalone=\"no\"?><svg xmlns=\"http://www.w3.org/2000/svg\" xmlns:xlink=\"http://www.w3.org/1999/xlink\" contentScriptType=\"application/ecmascript\" contentStyleType=\"text/css\" height=\"115px\" preserveAspectRatio=\"none\" style=\"width:136px;height:115px;\" version=\"1.1\" viewBox=\"0 0 136 115\" width=\"136px\" zoomAndPan=\"magnify\"><defs/><g><!--MD5=[fbc87193dbaf4d95561dea2c320d4a47]\n",
       "cluster E1--><a href=\"psysml:80072e13-09a0-47de-8e75-bd5ae320c88b\" target=\"_top\" title=\"psysml:80072e13-09a0-47de-8e75-bd5ae320c88b\" xlink:actuate=\"onRequest\" xlink:href=\"psysml:80072e13-09a0-47de-8e75-bd5ae320c88b\" xlink:show=\"new\" xlink:title=\"psysml:80072e13-09a0-47de-8e75-bd5ae320c88b\" xlink:type=\"simple\"><polygon fill=\"#FFFFFF\" points=\"16,6,42,6,49,28.2969,114,28.2969,114,103,16,103,16,6\" style=\"stroke: #000000; stroke-width: 1.5;\"/><line style=\"stroke: #000000; stroke-width: 1.5;\" x1=\"16\" x2=\"49\" y1=\"28.2969\" y2=\"28.2969\"/><text fill=\"#000000\" font-family=\"sans-serif\" font-size=\"14\" font-weight=\"bold\" lengthAdjust=\"spacingAndGlyphs\" textLength=\"20\" x=\"20\" y=\"20.9951\">P1</text></a><!--MD5=[b4997ac47864f28c2f74865a473b2911]\n",
       "class E2--><a href=\"psysml:09b3b88a-a3ba-434d-8883-2eddebd173e7\" target=\"_top\" title=\"psysml:09b3b88a-a3ba-434d-8883-2eddebd173e7\" xlink:actuate=\"onRequest\" xlink:href=\"psysml:09b3b88a-a3ba-434d-8883-2eddebd173e7\" xlink:show=\"new\" xlink:title=\"psysml:09b3b88a-a3ba-434d-8883-2eddebd173e7\" xlink:type=\"simple\"><rect fill=\"#FFFFFF\" height=\"45.9375\" id=\"E2\" style=\"stroke: #383838; stroke-width: 1.5;\" width=\"66\" x=\"32\" y=\"41\"/><text fill=\"#000000\" font-family=\"sans-serif\" font-size=\"12\" font-style=\"italic\" lengthAdjust=\"spacingAndGlyphs\" textLength=\"64\" x=\"33\" y=\"57.1387\">«part def»</text><text fill=\"#000000\" font-family=\"sans-serif\" font-size=\"12\" lengthAdjust=\"spacingAndGlyphs\" textLength=\"8\" x=\"61\" y=\"71.1074\">A</text><line style=\"stroke: #383838; stroke-width: 1.5;\" x1=\"33\" x2=\"97\" y1=\"78.9375\" y2=\"78.9375\"/></a><!--MD5=[800e53e2e501fe8a42d31d63245cc289]\n",
       "@startuml\r\n",
       "top to bottom direction\r\n",
       "skinparam monochrome true\r\n",
       "skinparam classbackgroundcolor white\r\n",
       "skinparam shadowing false\r\n",
       "skinparam wrapWidth 300\r\n",
       "hide circle\r\n",
       "\r\n",
       "package \"P1\" as E1  [[psysml:80072e13-09a0-47de-8e75-bd5ae320c88b ]]  {\r\n",
       "comp def \"A\" as E2  <<(T,blue) part def>> [[psysml:09b3b88a-a3ba-434d-8883-2eddebd173e7 ]] {\r\n",
       "}\r\n",
       "}\r\n",
       "@enduml\r\n",
       "\n",
       "PlantUML version 1.2020.13(Sat Jun 13 12:26:38 UTC 2020)\n",
       "(EPL source distribution)\n",
       "Java Runtime: OpenJDK Runtime Environment\n",
       "JVM: OpenJDK 64-Bit Server VM\n",
       "Default Encoding: UTF-8\n",
       "Language: en\n",
       "Country: null\n",
       "--></g></svg>"
      ]
     },
     "execution_count": 44,
     "metadata": {},
     "output_type": "execute_result"
    }
   ],
   "source": [
    "%viz --style=\"TB\" --view=\"Default\" \"P1\""
   ]
  },
  {
   "cell_type": "code",
   "execution_count": 45,
   "id": "b07c4643",
   "metadata": {
    "execution": {
     "iopub.execute_input": "2021-06-30T09:22:35.082333Z",
     "iopub.status.busy": "2021-06-30T09:22:35.081711Z",
     "iopub.status.idle": "2021-06-30T09:22:35.105587Z",
     "shell.execute_reply": "2021-06-30T09:22:35.105210Z"
    }
   },
   "outputs": [
    {
     "data": {
      "image/svg+xml": [
       "<?xml version=\"1.0\" encoding=\"UTF-8\" standalone=\"no\"?><svg xmlns=\"http://www.w3.org/2000/svg\" xmlns:xlink=\"http://www.w3.org/1999/xlink\" contentScriptType=\"application/ecmascript\" contentStyleType=\"text/css\" height=\"115px\" preserveAspectRatio=\"none\" style=\"width:136px;height:115px;\" version=\"1.1\" viewBox=\"0 0 136 115\" width=\"136px\" zoomAndPan=\"magnify\"><defs/><g><!--MD5=[fbc87193dbaf4d95561dea2c320d4a47]\n",
       "cluster E1--><a href=\"psysml:80072e13-09a0-47de-8e75-bd5ae320c88b\" target=\"_top\" title=\"psysml:80072e13-09a0-47de-8e75-bd5ae320c88b\" xlink:actuate=\"onRequest\" xlink:href=\"psysml:80072e13-09a0-47de-8e75-bd5ae320c88b\" xlink:show=\"new\" xlink:title=\"psysml:80072e13-09a0-47de-8e75-bd5ae320c88b\" xlink:type=\"simple\"><polygon fill=\"#FFFFFF\" points=\"16,6,42,6,49,28.2969,114,28.2969,114,103,16,103,16,6\" style=\"stroke: #000000; stroke-width: 1.5;\"/><line style=\"stroke: #000000; stroke-width: 1.5;\" x1=\"16\" x2=\"49\" y1=\"28.2969\" y2=\"28.2969\"/><text fill=\"#000000\" font-family=\"sans-serif\" font-size=\"14\" font-weight=\"bold\" lengthAdjust=\"spacingAndGlyphs\" textLength=\"20\" x=\"20\" y=\"20.9951\">P1</text></a><!--MD5=[b4997ac47864f28c2f74865a473b2911]\n",
       "class E2--><a href=\"psysml:09b3b88a-a3ba-434d-8883-2eddebd173e7\" target=\"_top\" title=\"psysml:09b3b88a-a3ba-434d-8883-2eddebd173e7\" xlink:actuate=\"onRequest\" xlink:href=\"psysml:09b3b88a-a3ba-434d-8883-2eddebd173e7\" xlink:show=\"new\" xlink:title=\"psysml:09b3b88a-a3ba-434d-8883-2eddebd173e7\" xlink:type=\"simple\"><rect fill=\"#FFFFFF\" height=\"45.9375\" id=\"E2\" style=\"stroke: #383838; stroke-width: 1.5;\" width=\"66\" x=\"32\" y=\"41\"/><text fill=\"#000000\" font-family=\"sans-serif\" font-size=\"12\" font-style=\"italic\" lengthAdjust=\"spacingAndGlyphs\" textLength=\"64\" x=\"33\" y=\"57.1387\">«part def»</text><text fill=\"#000000\" font-family=\"sans-serif\" font-size=\"12\" lengthAdjust=\"spacingAndGlyphs\" textLength=\"8\" x=\"61\" y=\"71.1074\">A</text><line style=\"stroke: #383838; stroke-width: 1.5;\" x1=\"33\" x2=\"97\" y1=\"78.9375\" y2=\"78.9375\"/></a><!--MD5=[800e53e2e501fe8a42d31d63245cc289]\n",
       "@startuml\r\n",
       "top to bottom direction\r\n",
       "skinparam monochrome true\r\n",
       "skinparam classbackgroundcolor white\r\n",
       "skinparam shadowing false\r\n",
       "skinparam wrapWidth 300\r\n",
       "hide circle\r\n",
       "\r\n",
       "package \"P1\" as E1  [[psysml:80072e13-09a0-47de-8e75-bd5ae320c88b ]]  {\r\n",
       "comp def \"A\" as E2  <<(T,blue) part def>> [[psysml:09b3b88a-a3ba-434d-8883-2eddebd173e7 ]] {\r\n",
       "}\r\n",
       "}\r\n",
       "@enduml\r\n",
       "\n",
       "PlantUML version 1.2020.13(Sat Jun 13 12:26:38 UTC 2020)\n",
       "(EPL source distribution)\n",
       "Java Runtime: OpenJDK Runtime Environment\n",
       "JVM: OpenJDK 64-Bit Server VM\n",
       "Default Encoding: UTF-8\n",
       "Language: en\n",
       "Country: null\n",
       "--></g></svg>"
      ]
     },
     "execution_count": 45,
     "metadata": {},
     "output_type": "execute_result"
    }
   ],
   "source": [
    "%viz --style=\"TB\" --view=\"Tree\" \"P1\""
   ]
  },
  {
   "cell_type": "code",
   "execution_count": 46,
   "id": "958616d6",
   "metadata": {
    "execution": {
     "iopub.execute_input": "2021-06-30T09:22:35.135816Z",
     "iopub.status.busy": "2021-06-30T09:22:35.135018Z",
     "iopub.status.idle": "2021-06-30T09:22:35.151475Z",
     "shell.execute_reply": "2021-06-30T09:22:35.142419Z"
    }
   },
   "outputs": [
    {
     "data": {
      "image/svg+xml": [
       "<?xml version=\"1.0\" encoding=\"UTF-8\" standalone=\"no\"?><svg xmlns=\"http://www.w3.org/2000/svg\" xmlns:xlink=\"http://www.w3.org/1999/xlink\" contentScriptType=\"application/ecmascript\" contentStyleType=\"text/css\" height=\"12px\" preserveAspectRatio=\"none\" style=\"width:12px;height:12px;\" version=\"1.1\" viewBox=\"0 0 12 12\" width=\"12px\" zoomAndPan=\"magnify\"><defs/><g><!--MD5=[f4ee21bc66e489b5061b7c3e9601fdef]\n",
       "@startuml\r\n",
       "top to bottom direction\r\n",
       "skinparam monochrome true\r\n",
       "skinparam classbackgroundcolor white\r\n",
       "skinparam shadowing false\r\n",
       "skinparam wrapWidth 300\r\n",
       "hide circle\r\n",
       "\r\n",
       "@enduml\r\n",
       "\n",
       "PlantUML version 1.2020.13(Sat Jun 13 12:26:38 UTC 2020)\n",
       "(EPL source distribution)\n",
       "Java Runtime: OpenJDK Runtime Environment\n",
       "JVM: OpenJDK 64-Bit Server VM\n",
       "Default Encoding: UTF-8\n",
       "Language: en\n",
       "Country: null\n",
       "--></g></svg>"
      ]
     },
     "execution_count": 46,
     "metadata": {},
     "output_type": "execute_result"
    }
   ],
   "source": [
    "%viz --style=\"TB\" --view=\"State\" \"P1\""
   ]
  },
  {
   "cell_type": "code",
   "execution_count": 47,
   "id": "7ba72119",
   "metadata": {
    "execution": {
     "iopub.execute_input": "2021-06-30T09:22:35.205686Z",
     "iopub.status.busy": "2021-06-30T09:22:35.204674Z",
     "iopub.status.idle": "2021-06-30T09:22:35.238779Z",
     "shell.execute_reply": "2021-06-30T09:22:35.235411Z"
    }
   },
   "outputs": [
    {
     "data": {
      "image/svg+xml": [
       "<?xml version=\"1.0\" encoding=\"UTF-8\" standalone=\"no\"?><svg xmlns=\"http://www.w3.org/2000/svg\" xmlns:xlink=\"http://www.w3.org/1999/xlink\" contentScriptType=\"application/ecmascript\" contentStyleType=\"text/css\" height=\"112px\" preserveAspectRatio=\"none\" style=\"width:142px;height:112px;\" version=\"1.1\" viewBox=\"0 0 142 112\" width=\"142px\" zoomAndPan=\"magnify\"><defs/><g><!--MD5=[fbc87193dbaf4d95561dea2c320d4a47]\n",
       "cluster E1--><a href=\"psysml:80072e13-09a0-47de-8e75-bd5ae320c88b\" target=\"_top\" title=\"psysml:80072e13-09a0-47de-8e75-bd5ae320c88b\" xlink:actuate=\"onRequest\" xlink:href=\"psysml:80072e13-09a0-47de-8e75-bd5ae320c88b\" xlink:show=\"new\" xlink:title=\"psysml:80072e13-09a0-47de-8e75-bd5ae320c88b\" xlink:type=\"simple\"><polygon fill=\"#FFFFFF\" points=\"16,6,42,6,49,28.2969,120,28.2969,120,100,16,100,16,6\" style=\"stroke: #000000; stroke-width: 1.5;\"/><line style=\"stroke: #000000; stroke-width: 1.5;\" x1=\"16\" x2=\"49\" y1=\"28.2969\" y2=\"28.2969\"/><text fill=\"#000000\" font-family=\"sans-serif\" font-size=\"14\" font-weight=\"bold\" lengthAdjust=\"spacingAndGlyphs\" textLength=\"20\" x=\"20\" y=\"20.9951\">P1</text></a><g id=\"E1.E2\"><a href=\"psysml:09b3b88a-a3ba-434d-8883-2eddebd173e7\" target=\"_top\" title=\"psysml:09b3b88a-a3ba-434d-8883-2eddebd173e7\" xlink:actuate=\"onRequest\" xlink:href=\"psysml:09b3b88a-a3ba-434d-8883-2eddebd173e7\" xlink:show=\"new\" xlink:title=\"psysml:09b3b88a-a3ba-434d-8883-2eddebd173e7\" xlink:type=\"simple\"><rect fill=\"#FFFFFF\" height=\"42.9375\" id=\"E2\" style=\"stroke: #383838; stroke-width: 1.5;\" width=\"71\" x=\"32.5\" y=\"41\"/><rect fill=\"#F8F8F8\" height=\"37.9375\" style=\"stroke: #383838; stroke-width: 1.5;\" width=\"71\" x=\"32.5\" y=\"41\"/><text fill=\"#000000\" font-family=\"sans-serif\" font-size=\"12\" font-style=\"italic\" lengthAdjust=\"spacingAndGlyphs\" textLength=\"64\" x=\"36\" y=\"57.1387\">«part def»</text><text fill=\"#000000\" font-family=\"sans-serif\" font-size=\"12\" lengthAdjust=\"spacingAndGlyphs\" textLength=\"8\" x=\"64\" y=\"71.1074\">A</text></a></g><!--MD5=[ba3149ded2c5d7bfa8ee5d2b75e2885e]\n",
       "@startuml\r\n",
       "skinparam ranksep 10\r\n",
       "skinparam rectangle {\r\n",
       " backgroundColor<<block>> LightGreen\r\n",
       "}\r\n",
       "top to bottom direction\r\n",
       "skinparam monochrome true\r\n",
       "skinparam classbackgroundcolor white\r\n",
       "skinparam shadowing false\r\n",
       "skinparam wrapWidth 300\r\n",
       "hide circle\r\n",
       "\r\n",
       "package \"P1\" as E1  [[psysml:80072e13-09a0-47de-8e75-bd5ae320c88b ]]  {\r\n",
       "rec def \"A\" as E2  <<(T,blue) part def>> [[psysml:09b3b88a-a3ba-434d-8883-2eddebd173e7 ]] {\r\n",
       "}\r\n",
       "}\r\n",
       "@enduml\r\n",
       "\n",
       "PlantUML version 1.2020.13(Sat Jun 13 12:26:38 UTC 2020)\n",
       "(EPL source distribution)\n",
       "Java Runtime: OpenJDK Runtime Environment\n",
       "JVM: OpenJDK 64-Bit Server VM\n",
       "Default Encoding: UTF-8\n",
       "Language: en\n",
       "Country: null\n",
       "--></g></svg>"
      ]
     },
     "execution_count": 47,
     "metadata": {},
     "output_type": "execute_result"
    }
   ],
   "source": [
    "%viz --style=\"TB\" --view=\"Interconnection\" \"P1\""
   ]
  },
  {
   "cell_type": "code",
   "execution_count": 48,
   "id": "a7b76d41",
   "metadata": {
    "execution": {
     "iopub.execute_input": "2021-06-30T09:22:35.292342Z",
     "iopub.status.busy": "2021-06-30T09:22:35.291531Z",
     "iopub.status.idle": "2021-06-30T09:22:35.300484Z",
     "shell.execute_reply": "2021-06-30T09:22:35.299919Z"
    }
   },
   "outputs": [
    {
     "data": {
      "image/svg+xml": [
       "<?xml version=\"1.0\" encoding=\"UTF-8\" standalone=\"no\"?><svg xmlns=\"http://www.w3.org/2000/svg\" xmlns:xlink=\"http://www.w3.org/1999/xlink\" contentScriptType=\"application/ecmascript\" contentStyleType=\"text/css\" height=\"12px\" preserveAspectRatio=\"none\" style=\"width:12px;height:12px;\" version=\"1.1\" viewBox=\"0 0 12 12\" width=\"12px\" zoomAndPan=\"magnify\"><defs/><g><!--MD5=[06afc254b03ac5e9d9fb7773b07d0800]\n",
       "@startuml\r\n",
       "skinparam ranksep 8\r\n",
       "top to bottom direction\r\n",
       "skinparam monochrome true\r\n",
       "skinparam classbackgroundcolor white\r\n",
       "skinparam shadowing false\r\n",
       "skinparam wrapWidth 300\r\n",
       "hide circle\r\n",
       "\r\n",
       "@enduml\r\n",
       "\n",
       "PlantUML version 1.2020.13(Sat Jun 13 12:26:38 UTC 2020)\n",
       "(EPL source distribution)\n",
       "Java Runtime: OpenJDK Runtime Environment\n",
       "JVM: OpenJDK 64-Bit Server VM\n",
       "Default Encoding: UTF-8\n",
       "Language: en\n",
       "Country: null\n",
       "--></g></svg>"
      ]
     },
     "execution_count": 48,
     "metadata": {},
     "output_type": "execute_result"
    }
   ],
   "source": [
    "%viz --style=\"TB\" --view=\"Action\" \"P1\""
   ]
  },
  {
   "cell_type": "code",
   "execution_count": 49,
   "id": "d161fb3e",
   "metadata": {
    "execution": {
     "iopub.execute_input": "2021-06-30T09:22:35.353520Z",
     "iopub.status.busy": "2021-06-30T09:22:35.352728Z",
     "iopub.status.idle": "2021-06-30T09:22:35.376432Z",
     "shell.execute_reply": "2021-06-30T09:22:35.376116Z"
    }
   },
   "outputs": [
    {
     "data": {
      "image/svg+xml": [
       "<?xml version=\"1.0\" encoding=\"UTF-8\" standalone=\"no\"?><svg xmlns=\"http://www.w3.org/2000/svg\" xmlns:xlink=\"http://www.w3.org/1999/xlink\" contentScriptType=\"application/ecmascript\" contentStyleType=\"text/css\" height=\"115px\" preserveAspectRatio=\"none\" style=\"width:136px;height:115px;\" version=\"1.1\" viewBox=\"0 0 136 115\" width=\"136px\" zoomAndPan=\"magnify\"><defs/><g><!--MD5=[fbc87193dbaf4d95561dea2c320d4a47]\n",
       "cluster E1--><a href=\"psysml:80072e13-09a0-47de-8e75-bd5ae320c88b\" target=\"_top\" title=\"psysml:80072e13-09a0-47de-8e75-bd5ae320c88b\" xlink:actuate=\"onRequest\" xlink:href=\"psysml:80072e13-09a0-47de-8e75-bd5ae320c88b\" xlink:show=\"new\" xlink:title=\"psysml:80072e13-09a0-47de-8e75-bd5ae320c88b\" xlink:type=\"simple\"><polygon fill=\"#FFFFFF\" points=\"16,6,42,6,49,28.2969,114,28.2969,114,103,16,103,16,6\" style=\"stroke: #000000; stroke-width: 1.5;\"/><line style=\"stroke: #000000; stroke-width: 1.5;\" x1=\"16\" x2=\"49\" y1=\"28.2969\" y2=\"28.2969\"/><text fill=\"#000000\" font-family=\"sans-serif\" font-size=\"14\" font-weight=\"bold\" lengthAdjust=\"spacingAndGlyphs\" textLength=\"20\" x=\"20\" y=\"20.9951\">P1</text></a><!--MD5=[b4997ac47864f28c2f74865a473b2911]\n",
       "class E2--><a href=\"psysml:09b3b88a-a3ba-434d-8883-2eddebd173e7\" target=\"_top\" title=\"psysml:09b3b88a-a3ba-434d-8883-2eddebd173e7\" xlink:actuate=\"onRequest\" xlink:href=\"psysml:09b3b88a-a3ba-434d-8883-2eddebd173e7\" xlink:show=\"new\" xlink:title=\"psysml:09b3b88a-a3ba-434d-8883-2eddebd173e7\" xlink:type=\"simple\"><rect fill=\"#FFFFFF\" height=\"45.9375\" id=\"E2\" style=\"stroke: #383838; stroke-width: 1.5;\" width=\"66\" x=\"32\" y=\"41\"/><text fill=\"#000000\" font-family=\"sans-serif\" font-size=\"12\" font-style=\"italic\" lengthAdjust=\"spacingAndGlyphs\" textLength=\"64\" x=\"33\" y=\"57.1387\">«part def»</text><text fill=\"#000000\" font-family=\"sans-serif\" font-size=\"12\" lengthAdjust=\"spacingAndGlyphs\" textLength=\"8\" x=\"61\" y=\"71.1074\">A</text><line style=\"stroke: #383838; stroke-width: 1.5;\" x1=\"33\" x2=\"97\" y1=\"78.9375\" y2=\"78.9375\"/></a><!--MD5=[800e53e2e501fe8a42d31d63245cc289]\n",
       "@startuml\r\n",
       "top to bottom direction\r\n",
       "skinparam monochrome true\r\n",
       "skinparam classbackgroundcolor white\r\n",
       "skinparam shadowing false\r\n",
       "skinparam wrapWidth 300\r\n",
       "hide circle\r\n",
       "\r\n",
       "package \"P1\" as E1  [[psysml:80072e13-09a0-47de-8e75-bd5ae320c88b ]]  {\r\n",
       "comp def \"A\" as E2  <<(T,blue) part def>> [[psysml:09b3b88a-a3ba-434d-8883-2eddebd173e7 ]] {\r\n",
       "}\r\n",
       "}\r\n",
       "@enduml\r\n",
       "\n",
       "PlantUML version 1.2020.13(Sat Jun 13 12:26:38 UTC 2020)\n",
       "(EPL source distribution)\n",
       "Java Runtime: OpenJDK Runtime Environment\n",
       "JVM: OpenJDK 64-Bit Server VM\n",
       "Default Encoding: UTF-8\n",
       "Language: en\n",
       "Country: null\n",
       "--></g></svg>"
      ]
     },
     "execution_count": 49,
     "metadata": {},
     "output_type": "execute_result"
    }
   ],
   "source": [
    "%viz --style=\"TB\" --view=\"Sequence\" \"P1\""
   ]
  },
  {
   "cell_type": "code",
   "execution_count": 50,
   "id": "949ffe11",
   "metadata": {
    "execution": {
     "iopub.execute_input": "2021-06-30T09:22:35.427890Z",
     "iopub.status.busy": "2021-06-30T09:22:35.427466Z",
     "iopub.status.idle": "2021-06-30T09:22:35.447907Z",
     "shell.execute_reply": "2021-06-30T09:22:35.447587Z"
    }
   },
   "outputs": [
    {
     "data": {
      "image/svg+xml": [
       "<?xml version=\"1.0\" encoding=\"UTF-8\" standalone=\"no\"?><svg xmlns=\"http://www.w3.org/2000/svg\" xmlns:xlink=\"http://www.w3.org/1999/xlink\" contentScriptType=\"application/ecmascript\" contentStyleType=\"text/css\" height=\"115px\" preserveAspectRatio=\"none\" style=\"width:136px;height:115px;\" version=\"1.1\" viewBox=\"0 0 136 115\" width=\"136px\" zoomAndPan=\"magnify\"><defs/><g><!--MD5=[fbc87193dbaf4d95561dea2c320d4a47]\n",
       "cluster E1--><a href=\"psysml:80072e13-09a0-47de-8e75-bd5ae320c88b\" target=\"_top\" title=\"psysml:80072e13-09a0-47de-8e75-bd5ae320c88b\" xlink:actuate=\"onRequest\" xlink:href=\"psysml:80072e13-09a0-47de-8e75-bd5ae320c88b\" xlink:show=\"new\" xlink:title=\"psysml:80072e13-09a0-47de-8e75-bd5ae320c88b\" xlink:type=\"simple\"><polygon fill=\"#FFFFFF\" points=\"16,6,42,6,49,28.2969,114,28.2969,114,103,16,103,16,6\" style=\"stroke: #000000; stroke-width: 1.5;\"/><line style=\"stroke: #000000; stroke-width: 1.5;\" x1=\"16\" x2=\"49\" y1=\"28.2969\" y2=\"28.2969\"/><text fill=\"#000000\" font-family=\"sans-serif\" font-size=\"14\" font-weight=\"bold\" lengthAdjust=\"spacingAndGlyphs\" textLength=\"20\" x=\"20\" y=\"20.9951\">P1</text></a><!--MD5=[b4997ac47864f28c2f74865a473b2911]\n",
       "class E2--><a href=\"psysml:09b3b88a-a3ba-434d-8883-2eddebd173e7\" target=\"_top\" title=\"psysml:09b3b88a-a3ba-434d-8883-2eddebd173e7\" xlink:actuate=\"onRequest\" xlink:href=\"psysml:09b3b88a-a3ba-434d-8883-2eddebd173e7\" xlink:show=\"new\" xlink:title=\"psysml:09b3b88a-a3ba-434d-8883-2eddebd173e7\" xlink:type=\"simple\"><rect fill=\"#FFFFFF\" height=\"45.9375\" id=\"E2\" style=\"stroke: #383838; stroke-width: 1.5;\" width=\"66\" x=\"32\" y=\"41\"/><text fill=\"#000000\" font-family=\"sans-serif\" font-size=\"12\" font-style=\"italic\" lengthAdjust=\"spacingAndGlyphs\" textLength=\"64\" x=\"33\" y=\"57.1387\">«part def»</text><text fill=\"#000000\" font-family=\"sans-serif\" font-size=\"12\" lengthAdjust=\"spacingAndGlyphs\" textLength=\"8\" x=\"61\" y=\"71.1074\">A</text><line style=\"stroke: #383838; stroke-width: 1.5;\" x1=\"33\" x2=\"97\" y1=\"78.9375\" y2=\"78.9375\"/></a><!--MD5=[800e53e2e501fe8a42d31d63245cc289]\n",
       "@startuml\r\n",
       "top to bottom direction\r\n",
       "skinparam monochrome true\r\n",
       "skinparam classbackgroundcolor white\r\n",
       "skinparam shadowing false\r\n",
       "skinparam wrapWidth 300\r\n",
       "hide circle\r\n",
       "\r\n",
       "package \"P1\" as E1  [[psysml:80072e13-09a0-47de-8e75-bd5ae320c88b ]]  {\r\n",
       "comp def \"A\" as E2  <<(T,blue) part def>> [[psysml:09b3b88a-a3ba-434d-8883-2eddebd173e7 ]] {\r\n",
       "}\r\n",
       "}\r\n",
       "@enduml\r\n",
       "\n",
       "PlantUML version 1.2020.13(Sat Jun 13 12:26:38 UTC 2020)\n",
       "(EPL source distribution)\n",
       "Java Runtime: OpenJDK Runtime Environment\n",
       "JVM: OpenJDK 64-Bit Server VM\n",
       "Default Encoding: UTF-8\n",
       "Language: en\n",
       "Country: null\n",
       "--></g></svg>"
      ]
     },
     "execution_count": 50,
     "metadata": {},
     "output_type": "execute_result"
    }
   ],
   "source": [
    "%viz --style=\"TB\" --view=\"MIXED\" \"P1\""
   ]
  },
  {
   "cell_type": "code",
   "execution_count": 51,
   "id": "95c1d106",
   "metadata": {
    "execution": {
     "iopub.execute_input": "2021-06-30T09:22:35.497983Z",
     "iopub.status.busy": "2021-06-30T09:22:35.497570Z",
     "iopub.status.idle": "2021-06-30T09:22:35.519919Z",
     "shell.execute_reply": "2021-06-30T09:22:35.519610Z"
    }
   },
   "outputs": [
    {
     "data": {
      "image/svg+xml": [
       "<?xml version=\"1.0\" encoding=\"UTF-8\" standalone=\"no\"?><svg xmlns=\"http://www.w3.org/2000/svg\" xmlns:xlink=\"http://www.w3.org/1999/xlink\" contentScriptType=\"application/ecmascript\" contentStyleType=\"text/css\" height=\"115px\" preserveAspectRatio=\"none\" style=\"width:136px;height:115px;\" version=\"1.1\" viewBox=\"0 0 136 115\" width=\"136px\" zoomAndPan=\"magnify\"><defs/><g><!--MD5=[fbc87193dbaf4d95561dea2c320d4a47]\n",
       "cluster E1--><a href=\"psysml:80072e13-09a0-47de-8e75-bd5ae320c88b\" target=\"_top\" title=\"psysml:80072e13-09a0-47de-8e75-bd5ae320c88b\" xlink:actuate=\"onRequest\" xlink:href=\"psysml:80072e13-09a0-47de-8e75-bd5ae320c88b\" xlink:show=\"new\" xlink:title=\"psysml:80072e13-09a0-47de-8e75-bd5ae320c88b\" xlink:type=\"simple\"><polygon fill=\"#FFFFFF\" points=\"16,6,42,6,49,28.2969,114,28.2969,114,103,16,103,16,6\" style=\"stroke: #000000; stroke-width: 1.5;\"/><line style=\"stroke: #000000; stroke-width: 1.5;\" x1=\"16\" x2=\"49\" y1=\"28.2969\" y2=\"28.2969\"/><text fill=\"#000000\" font-family=\"sans-serif\" font-size=\"14\" font-weight=\"bold\" lengthAdjust=\"spacingAndGlyphs\" textLength=\"20\" x=\"20\" y=\"20.9951\">P1</text></a><!--MD5=[b4997ac47864f28c2f74865a473b2911]\n",
       "class E2--><a href=\"psysml:09b3b88a-a3ba-434d-8883-2eddebd173e7\" target=\"_top\" title=\"psysml:09b3b88a-a3ba-434d-8883-2eddebd173e7\" xlink:actuate=\"onRequest\" xlink:href=\"psysml:09b3b88a-a3ba-434d-8883-2eddebd173e7\" xlink:show=\"new\" xlink:title=\"psysml:09b3b88a-a3ba-434d-8883-2eddebd173e7\" xlink:type=\"simple\"><rect fill=\"#FFFFFF\" height=\"45.9375\" id=\"E2\" style=\"stroke: #383838; stroke-width: 1.5;\" width=\"66\" x=\"32\" y=\"41\"/><text fill=\"#000000\" font-family=\"sans-serif\" font-size=\"12\" font-style=\"italic\" lengthAdjust=\"spacingAndGlyphs\" textLength=\"64\" x=\"33\" y=\"57.1387\">«part def»</text><text fill=\"#000000\" font-family=\"sans-serif\" font-size=\"12\" lengthAdjust=\"spacingAndGlyphs\" textLength=\"8\" x=\"61\" y=\"71.1074\">A</text><line style=\"stroke: #383838; stroke-width: 1.5;\" x1=\"33\" x2=\"97\" y1=\"78.9375\" y2=\"78.9375\"/></a><!--MD5=[4e9e8c46667118e2372dbc0c3c2ca825]\n",
       "@startuml\r\n",
       "skinparam linetype ortho\r\n",
       "skinparam monochrome true\r\n",
       "skinparam classbackgroundcolor white\r\n",
       "skinparam shadowing false\r\n",
       "skinparam wrapWidth 300\r\n",
       "hide circle\r\n",
       "\r\n",
       "package \"P1\" as E1  [[psysml:80072e13-09a0-47de-8e75-bd5ae320c88b ]]  {\r\n",
       "comp def \"A\" as E2  <<(T,blue) part def>> [[psysml:09b3b88a-a3ba-434d-8883-2eddebd173e7 ]] {\r\n",
       "}\r\n",
       "}\r\n",
       "@enduml\r\n",
       "\n",
       "PlantUML version 1.2020.13(Sat Jun 13 12:26:38 UTC 2020)\n",
       "(EPL source distribution)\n",
       "Java Runtime: OpenJDK Runtime Environment\n",
       "JVM: OpenJDK 64-Bit Server VM\n",
       "Default Encoding: UTF-8\n",
       "Language: en\n",
       "Country: null\n",
       "--></g></svg>"
      ]
     },
     "execution_count": 51,
     "metadata": {},
     "output_type": "execute_result"
    }
   ],
   "source": [
    "%viz --style=\"ORTHOLINE\" --view=\"Default\" \"P1\""
   ]
  },
  {
   "cell_type": "code",
   "execution_count": 52,
   "id": "ebd8329c",
   "metadata": {
    "execution": {
     "iopub.execute_input": "2021-06-30T09:22:35.569530Z",
     "iopub.status.busy": "2021-06-30T09:22:35.568994Z",
     "iopub.status.idle": "2021-06-30T09:22:35.590108Z",
     "shell.execute_reply": "2021-06-30T09:22:35.589788Z"
    }
   },
   "outputs": [
    {
     "data": {
      "image/svg+xml": [
       "<?xml version=\"1.0\" encoding=\"UTF-8\" standalone=\"no\"?><svg xmlns=\"http://www.w3.org/2000/svg\" xmlns:xlink=\"http://www.w3.org/1999/xlink\" contentScriptType=\"application/ecmascript\" contentStyleType=\"text/css\" height=\"115px\" preserveAspectRatio=\"none\" style=\"width:136px;height:115px;\" version=\"1.1\" viewBox=\"0 0 136 115\" width=\"136px\" zoomAndPan=\"magnify\"><defs/><g><!--MD5=[fbc87193dbaf4d95561dea2c320d4a47]\n",
       "cluster E1--><a href=\"psysml:80072e13-09a0-47de-8e75-bd5ae320c88b\" target=\"_top\" title=\"psysml:80072e13-09a0-47de-8e75-bd5ae320c88b\" xlink:actuate=\"onRequest\" xlink:href=\"psysml:80072e13-09a0-47de-8e75-bd5ae320c88b\" xlink:show=\"new\" xlink:title=\"psysml:80072e13-09a0-47de-8e75-bd5ae320c88b\" xlink:type=\"simple\"><polygon fill=\"#FFFFFF\" points=\"16,6,42,6,49,28.2969,114,28.2969,114,103,16,103,16,6\" style=\"stroke: #000000; stroke-width: 1.5;\"/><line style=\"stroke: #000000; stroke-width: 1.5;\" x1=\"16\" x2=\"49\" y1=\"28.2969\" y2=\"28.2969\"/><text fill=\"#000000\" font-family=\"sans-serif\" font-size=\"14\" font-weight=\"bold\" lengthAdjust=\"spacingAndGlyphs\" textLength=\"20\" x=\"20\" y=\"20.9951\">P1</text></a><!--MD5=[b4997ac47864f28c2f74865a473b2911]\n",
       "class E2--><a href=\"psysml:09b3b88a-a3ba-434d-8883-2eddebd173e7\" target=\"_top\" title=\"psysml:09b3b88a-a3ba-434d-8883-2eddebd173e7\" xlink:actuate=\"onRequest\" xlink:href=\"psysml:09b3b88a-a3ba-434d-8883-2eddebd173e7\" xlink:show=\"new\" xlink:title=\"psysml:09b3b88a-a3ba-434d-8883-2eddebd173e7\" xlink:type=\"simple\"><rect fill=\"#FFFFFF\" height=\"45.9375\" id=\"E2\" style=\"stroke: #383838; stroke-width: 1.5;\" width=\"66\" x=\"32\" y=\"41\"/><text fill=\"#000000\" font-family=\"sans-serif\" font-size=\"12\" font-style=\"italic\" lengthAdjust=\"spacingAndGlyphs\" textLength=\"64\" x=\"33\" y=\"57.1387\">«part def»</text><text fill=\"#000000\" font-family=\"sans-serif\" font-size=\"12\" lengthAdjust=\"spacingAndGlyphs\" textLength=\"8\" x=\"61\" y=\"71.1074\">A</text><line style=\"stroke: #383838; stroke-width: 1.5;\" x1=\"33\" x2=\"97\" y1=\"78.9375\" y2=\"78.9375\"/></a><!--MD5=[4e9e8c46667118e2372dbc0c3c2ca825]\n",
       "@startuml\r\n",
       "skinparam linetype ortho\r\n",
       "skinparam monochrome true\r\n",
       "skinparam classbackgroundcolor white\r\n",
       "skinparam shadowing false\r\n",
       "skinparam wrapWidth 300\r\n",
       "hide circle\r\n",
       "\r\n",
       "package \"P1\" as E1  [[psysml:80072e13-09a0-47de-8e75-bd5ae320c88b ]]  {\r\n",
       "comp def \"A\" as E2  <<(T,blue) part def>> [[psysml:09b3b88a-a3ba-434d-8883-2eddebd173e7 ]] {\r\n",
       "}\r\n",
       "}\r\n",
       "@enduml\r\n",
       "\n",
       "PlantUML version 1.2020.13(Sat Jun 13 12:26:38 UTC 2020)\n",
       "(EPL source distribution)\n",
       "Java Runtime: OpenJDK Runtime Environment\n",
       "JVM: OpenJDK 64-Bit Server VM\n",
       "Default Encoding: UTF-8\n",
       "Language: en\n",
       "Country: null\n",
       "--></g></svg>"
      ]
     },
     "execution_count": 52,
     "metadata": {},
     "output_type": "execute_result"
    }
   ],
   "source": [
    "%viz --style=\"ORTHOLINE\" --view=\"Tree\" \"P1\""
   ]
  },
  {
   "cell_type": "code",
   "execution_count": 53,
   "id": "c6d5655c",
   "metadata": {
    "execution": {
     "iopub.execute_input": "2021-06-30T09:22:35.641531Z",
     "iopub.status.busy": "2021-06-30T09:22:35.640674Z",
     "iopub.status.idle": "2021-06-30T09:22:35.646759Z",
     "shell.execute_reply": "2021-06-30T09:22:35.646285Z"
    }
   },
   "outputs": [
    {
     "data": {
      "image/svg+xml": [
       "<?xml version=\"1.0\" encoding=\"UTF-8\" standalone=\"no\"?><svg xmlns=\"http://www.w3.org/2000/svg\" xmlns:xlink=\"http://www.w3.org/1999/xlink\" contentScriptType=\"application/ecmascript\" contentStyleType=\"text/css\" height=\"12px\" preserveAspectRatio=\"none\" style=\"width:12px;height:12px;\" version=\"1.1\" viewBox=\"0 0 12 12\" width=\"12px\" zoomAndPan=\"magnify\"><defs/><g><!--MD5=[97d6f38768b311333d388e66b2b27985]\n",
       "@startuml\r\n",
       "skinparam linetype ortho\r\n",
       "skinparam monochrome true\r\n",
       "skinparam classbackgroundcolor white\r\n",
       "skinparam shadowing false\r\n",
       "skinparam wrapWidth 300\r\n",
       "hide circle\r\n",
       "\r\n",
       "@enduml\r\n",
       "\n",
       "PlantUML version 1.2020.13(Sat Jun 13 12:26:38 UTC 2020)\n",
       "(EPL source distribution)\n",
       "Java Runtime: OpenJDK Runtime Environment\n",
       "JVM: OpenJDK 64-Bit Server VM\n",
       "Default Encoding: UTF-8\n",
       "Language: en\n",
       "Country: null\n",
       "--></g></svg>"
      ]
     },
     "execution_count": 53,
     "metadata": {},
     "output_type": "execute_result"
    }
   ],
   "source": [
    "%viz --style=\"ORTHOLINE\" --view=\"State\" \"P1\""
   ]
  },
  {
   "cell_type": "code",
   "execution_count": 54,
   "id": "f70675a2",
   "metadata": {
    "execution": {
     "iopub.execute_input": "2021-06-30T09:22:35.699402Z",
     "iopub.status.busy": "2021-06-30T09:22:35.698581Z",
     "iopub.status.idle": "2021-06-30T09:22:35.721055Z",
     "shell.execute_reply": "2021-06-30T09:22:35.720714Z"
    }
   },
   "outputs": [
    {
     "data": {
      "image/svg+xml": [
       "<?xml version=\"1.0\" encoding=\"UTF-8\" standalone=\"no\"?><svg xmlns=\"http://www.w3.org/2000/svg\" xmlns:xlink=\"http://www.w3.org/1999/xlink\" contentScriptType=\"application/ecmascript\" contentStyleType=\"text/css\" height=\"112px\" preserveAspectRatio=\"none\" style=\"width:142px;height:112px;\" version=\"1.1\" viewBox=\"0 0 142 112\" width=\"142px\" zoomAndPan=\"magnify\"><defs/><g><!--MD5=[fbc87193dbaf4d95561dea2c320d4a47]\n",
       "cluster E1--><a href=\"psysml:80072e13-09a0-47de-8e75-bd5ae320c88b\" target=\"_top\" title=\"psysml:80072e13-09a0-47de-8e75-bd5ae320c88b\" xlink:actuate=\"onRequest\" xlink:href=\"psysml:80072e13-09a0-47de-8e75-bd5ae320c88b\" xlink:show=\"new\" xlink:title=\"psysml:80072e13-09a0-47de-8e75-bd5ae320c88b\" xlink:type=\"simple\"><polygon fill=\"#FFFFFF\" points=\"16,6,42,6,49,28.2969,120,28.2969,120,100,16,100,16,6\" style=\"stroke: #000000; stroke-width: 1.5;\"/><line style=\"stroke: #000000; stroke-width: 1.5;\" x1=\"16\" x2=\"49\" y1=\"28.2969\" y2=\"28.2969\"/><text fill=\"#000000\" font-family=\"sans-serif\" font-size=\"14\" font-weight=\"bold\" lengthAdjust=\"spacingAndGlyphs\" textLength=\"20\" x=\"20\" y=\"20.9951\">P1</text></a><g id=\"E1.E2\"><a href=\"psysml:09b3b88a-a3ba-434d-8883-2eddebd173e7\" target=\"_top\" title=\"psysml:09b3b88a-a3ba-434d-8883-2eddebd173e7\" xlink:actuate=\"onRequest\" xlink:href=\"psysml:09b3b88a-a3ba-434d-8883-2eddebd173e7\" xlink:show=\"new\" xlink:title=\"psysml:09b3b88a-a3ba-434d-8883-2eddebd173e7\" xlink:type=\"simple\"><rect fill=\"#FFFFFF\" height=\"42.9375\" id=\"E2\" style=\"stroke: #383838; stroke-width: 1.5;\" width=\"71\" x=\"32.5\" y=\"41\"/><rect fill=\"#F8F8F8\" height=\"37.9375\" style=\"stroke: #383838; stroke-width: 1.5;\" width=\"71\" x=\"32.5\" y=\"41\"/><text fill=\"#000000\" font-family=\"sans-serif\" font-size=\"12\" font-style=\"italic\" lengthAdjust=\"spacingAndGlyphs\" textLength=\"64\" x=\"36\" y=\"57.1387\">«part def»</text><text fill=\"#000000\" font-family=\"sans-serif\" font-size=\"12\" lengthAdjust=\"spacingAndGlyphs\" textLength=\"8\" x=\"64\" y=\"71.1074\">A</text></a></g><!--MD5=[2dbf49da1ccb3d74949251ed344f3e3e]\n",
       "@startuml\r\n",
       "skinparam ranksep 10\r\n",
       "skinparam rectangle {\r\n",
       " backgroundColor<<block>> LightGreen\r\n",
       "}\r\n",
       "skinparam linetype ortho\r\n",
       "skinparam monochrome true\r\n",
       "skinparam classbackgroundcolor white\r\n",
       "skinparam shadowing false\r\n",
       "skinparam wrapWidth 300\r\n",
       "hide circle\r\n",
       "\r\n",
       "package \"P1\" as E1  [[psysml:80072e13-09a0-47de-8e75-bd5ae320c88b ]]  {\r\n",
       "rec def \"A\" as E2  <<(T,blue) part def>> [[psysml:09b3b88a-a3ba-434d-8883-2eddebd173e7 ]] {\r\n",
       "}\r\n",
       "}\r\n",
       "@enduml\r\n",
       "\n",
       "PlantUML version 1.2020.13(Sat Jun 13 12:26:38 UTC 2020)\n",
       "(EPL source distribution)\n",
       "Java Runtime: OpenJDK Runtime Environment\n",
       "JVM: OpenJDK 64-Bit Server VM\n",
       "Default Encoding: UTF-8\n",
       "Language: en\n",
       "Country: null\n",
       "--></g></svg>"
      ]
     },
     "execution_count": 54,
     "metadata": {},
     "output_type": "execute_result"
    }
   ],
   "source": [
    "%viz --style=\"ORTHOLINE\" --view=\"Interconnection\" \"P1\""
   ]
  },
  {
   "cell_type": "code",
   "execution_count": 55,
   "id": "8eb40cee",
   "metadata": {
    "execution": {
     "iopub.execute_input": "2021-06-30T09:22:35.773025Z",
     "iopub.status.busy": "2021-06-30T09:22:35.772284Z",
     "iopub.status.idle": "2021-06-30T09:22:35.778599Z",
     "shell.execute_reply": "2021-06-30T09:22:35.778220Z"
    }
   },
   "outputs": [
    {
     "data": {
      "image/svg+xml": [
       "<?xml version=\"1.0\" encoding=\"UTF-8\" standalone=\"no\"?><svg xmlns=\"http://www.w3.org/2000/svg\" xmlns:xlink=\"http://www.w3.org/1999/xlink\" contentScriptType=\"application/ecmascript\" contentStyleType=\"text/css\" height=\"12px\" preserveAspectRatio=\"none\" style=\"width:12px;height:12px;\" version=\"1.1\" viewBox=\"0 0 12 12\" width=\"12px\" zoomAndPan=\"magnify\"><defs/><g><!--MD5=[72934c63077099a26744516a776b4749]\n",
       "@startuml\r\n",
       "skinparam ranksep 8\r\n",
       "skinparam linetype ortho\r\n",
       "skinparam monochrome true\r\n",
       "skinparam classbackgroundcolor white\r\n",
       "skinparam shadowing false\r\n",
       "skinparam wrapWidth 300\r\n",
       "hide circle\r\n",
       "\r\n",
       "@enduml\r\n",
       "\n",
       "PlantUML version 1.2020.13(Sat Jun 13 12:26:38 UTC 2020)\n",
       "(EPL source distribution)\n",
       "Java Runtime: OpenJDK Runtime Environment\n",
       "JVM: OpenJDK 64-Bit Server VM\n",
       "Default Encoding: UTF-8\n",
       "Language: en\n",
       "Country: null\n",
       "--></g></svg>"
      ]
     },
     "execution_count": 55,
     "metadata": {},
     "output_type": "execute_result"
    }
   ],
   "source": [
    "%viz --style=\"ORTHOLINE\" --view=\"Action\" \"P1\""
   ]
  },
  {
   "cell_type": "code",
   "execution_count": 56,
   "id": "648124e1",
   "metadata": {
    "execution": {
     "iopub.execute_input": "2021-06-30T09:22:35.830495Z",
     "iopub.status.busy": "2021-06-30T09:22:35.829840Z",
     "iopub.status.idle": "2021-06-30T09:22:35.854297Z",
     "shell.execute_reply": "2021-06-30T09:22:35.853735Z"
    }
   },
   "outputs": [
    {
     "data": {
      "image/svg+xml": [
       "<?xml version=\"1.0\" encoding=\"UTF-8\" standalone=\"no\"?><svg xmlns=\"http://www.w3.org/2000/svg\" xmlns:xlink=\"http://www.w3.org/1999/xlink\" contentScriptType=\"application/ecmascript\" contentStyleType=\"text/css\" height=\"115px\" preserveAspectRatio=\"none\" style=\"width:136px;height:115px;\" version=\"1.1\" viewBox=\"0 0 136 115\" width=\"136px\" zoomAndPan=\"magnify\"><defs/><g><!--MD5=[fbc87193dbaf4d95561dea2c320d4a47]\n",
       "cluster E1--><a href=\"psysml:80072e13-09a0-47de-8e75-bd5ae320c88b\" target=\"_top\" title=\"psysml:80072e13-09a0-47de-8e75-bd5ae320c88b\" xlink:actuate=\"onRequest\" xlink:href=\"psysml:80072e13-09a0-47de-8e75-bd5ae320c88b\" xlink:show=\"new\" xlink:title=\"psysml:80072e13-09a0-47de-8e75-bd5ae320c88b\" xlink:type=\"simple\"><polygon fill=\"#FFFFFF\" points=\"16,6,42,6,49,28.2969,114,28.2969,114,103,16,103,16,6\" style=\"stroke: #000000; stroke-width: 1.5;\"/><line style=\"stroke: #000000; stroke-width: 1.5;\" x1=\"16\" x2=\"49\" y1=\"28.2969\" y2=\"28.2969\"/><text fill=\"#000000\" font-family=\"sans-serif\" font-size=\"14\" font-weight=\"bold\" lengthAdjust=\"spacingAndGlyphs\" textLength=\"20\" x=\"20\" y=\"20.9951\">P1</text></a><!--MD5=[b4997ac47864f28c2f74865a473b2911]\n",
       "class E2--><a href=\"psysml:09b3b88a-a3ba-434d-8883-2eddebd173e7\" target=\"_top\" title=\"psysml:09b3b88a-a3ba-434d-8883-2eddebd173e7\" xlink:actuate=\"onRequest\" xlink:href=\"psysml:09b3b88a-a3ba-434d-8883-2eddebd173e7\" xlink:show=\"new\" xlink:title=\"psysml:09b3b88a-a3ba-434d-8883-2eddebd173e7\" xlink:type=\"simple\"><rect fill=\"#FFFFFF\" height=\"45.9375\" id=\"E2\" style=\"stroke: #383838; stroke-width: 1.5;\" width=\"66\" x=\"32\" y=\"41\"/><text fill=\"#000000\" font-family=\"sans-serif\" font-size=\"12\" font-style=\"italic\" lengthAdjust=\"spacingAndGlyphs\" textLength=\"64\" x=\"33\" y=\"57.1387\">«part def»</text><text fill=\"#000000\" font-family=\"sans-serif\" font-size=\"12\" lengthAdjust=\"spacingAndGlyphs\" textLength=\"8\" x=\"61\" y=\"71.1074\">A</text><line style=\"stroke: #383838; stroke-width: 1.5;\" x1=\"33\" x2=\"97\" y1=\"78.9375\" y2=\"78.9375\"/></a><!--MD5=[4e9e8c46667118e2372dbc0c3c2ca825]\n",
       "@startuml\r\n",
       "skinparam linetype ortho\r\n",
       "skinparam monochrome true\r\n",
       "skinparam classbackgroundcolor white\r\n",
       "skinparam shadowing false\r\n",
       "skinparam wrapWidth 300\r\n",
       "hide circle\r\n",
       "\r\n",
       "package \"P1\" as E1  [[psysml:80072e13-09a0-47de-8e75-bd5ae320c88b ]]  {\r\n",
       "comp def \"A\" as E2  <<(T,blue) part def>> [[psysml:09b3b88a-a3ba-434d-8883-2eddebd173e7 ]] {\r\n",
       "}\r\n",
       "}\r\n",
       "@enduml\r\n",
       "\n",
       "PlantUML version 1.2020.13(Sat Jun 13 12:26:38 UTC 2020)\n",
       "(EPL source distribution)\n",
       "Java Runtime: OpenJDK Runtime Environment\n",
       "JVM: OpenJDK 64-Bit Server VM\n",
       "Default Encoding: UTF-8\n",
       "Language: en\n",
       "Country: null\n",
       "--></g></svg>"
      ]
     },
     "execution_count": 56,
     "metadata": {},
     "output_type": "execute_result"
    }
   ],
   "source": [
    "%viz --style=\"ORTHOLINE\" --view=\"Sequence\" \"P1\""
   ]
  },
  {
   "cell_type": "code",
   "execution_count": 57,
   "id": "125f7051",
   "metadata": {
    "execution": {
     "iopub.execute_input": "2021-06-30T09:22:35.909389Z",
     "iopub.status.busy": "2021-06-30T09:22:35.907582Z",
     "iopub.status.idle": "2021-06-30T09:22:35.944568Z",
     "shell.execute_reply": "2021-06-30T09:22:35.944239Z"
    }
   },
   "outputs": [
    {
     "data": {
      "image/svg+xml": [
       "<?xml version=\"1.0\" encoding=\"UTF-8\" standalone=\"no\"?><svg xmlns=\"http://www.w3.org/2000/svg\" xmlns:xlink=\"http://www.w3.org/1999/xlink\" contentScriptType=\"application/ecmascript\" contentStyleType=\"text/css\" height=\"115px\" preserveAspectRatio=\"none\" style=\"width:136px;height:115px;\" version=\"1.1\" viewBox=\"0 0 136 115\" width=\"136px\" zoomAndPan=\"magnify\"><defs/><g><!--MD5=[fbc87193dbaf4d95561dea2c320d4a47]\n",
       "cluster E1--><a href=\"psysml:80072e13-09a0-47de-8e75-bd5ae320c88b\" target=\"_top\" title=\"psysml:80072e13-09a0-47de-8e75-bd5ae320c88b\" xlink:actuate=\"onRequest\" xlink:href=\"psysml:80072e13-09a0-47de-8e75-bd5ae320c88b\" xlink:show=\"new\" xlink:title=\"psysml:80072e13-09a0-47de-8e75-bd5ae320c88b\" xlink:type=\"simple\"><polygon fill=\"#FFFFFF\" points=\"16,6,42,6,49,28.2969,114,28.2969,114,103,16,103,16,6\" style=\"stroke: #000000; stroke-width: 1.5;\"/><line style=\"stroke: #000000; stroke-width: 1.5;\" x1=\"16\" x2=\"49\" y1=\"28.2969\" y2=\"28.2969\"/><text fill=\"#000000\" font-family=\"sans-serif\" font-size=\"14\" font-weight=\"bold\" lengthAdjust=\"spacingAndGlyphs\" textLength=\"20\" x=\"20\" y=\"20.9951\">P1</text></a><!--MD5=[b4997ac47864f28c2f74865a473b2911]\n",
       "class E2--><a href=\"psysml:09b3b88a-a3ba-434d-8883-2eddebd173e7\" target=\"_top\" title=\"psysml:09b3b88a-a3ba-434d-8883-2eddebd173e7\" xlink:actuate=\"onRequest\" xlink:href=\"psysml:09b3b88a-a3ba-434d-8883-2eddebd173e7\" xlink:show=\"new\" xlink:title=\"psysml:09b3b88a-a3ba-434d-8883-2eddebd173e7\" xlink:type=\"simple\"><rect fill=\"#FFFFFF\" height=\"45.9375\" id=\"E2\" style=\"stroke: #383838; stroke-width: 1.5;\" width=\"66\" x=\"32\" y=\"41\"/><text fill=\"#000000\" font-family=\"sans-serif\" font-size=\"12\" font-style=\"italic\" lengthAdjust=\"spacingAndGlyphs\" textLength=\"64\" x=\"33\" y=\"57.1387\">«part def»</text><text fill=\"#000000\" font-family=\"sans-serif\" font-size=\"12\" lengthAdjust=\"spacingAndGlyphs\" textLength=\"8\" x=\"61\" y=\"71.1074\">A</text><line style=\"stroke: #383838; stroke-width: 1.5;\" x1=\"33\" x2=\"97\" y1=\"78.9375\" y2=\"78.9375\"/></a><!--MD5=[4e9e8c46667118e2372dbc0c3c2ca825]\n",
       "@startuml\r\n",
       "skinparam linetype ortho\r\n",
       "skinparam monochrome true\r\n",
       "skinparam classbackgroundcolor white\r\n",
       "skinparam shadowing false\r\n",
       "skinparam wrapWidth 300\r\n",
       "hide circle\r\n",
       "\r\n",
       "package \"P1\" as E1  [[psysml:80072e13-09a0-47de-8e75-bd5ae320c88b ]]  {\r\n",
       "comp def \"A\" as E2  <<(T,blue) part def>> [[psysml:09b3b88a-a3ba-434d-8883-2eddebd173e7 ]] {\r\n",
       "}\r\n",
       "}\r\n",
       "@enduml\r\n",
       "\n",
       "PlantUML version 1.2020.13(Sat Jun 13 12:26:38 UTC 2020)\n",
       "(EPL source distribution)\n",
       "Java Runtime: OpenJDK Runtime Environment\n",
       "JVM: OpenJDK 64-Bit Server VM\n",
       "Default Encoding: UTF-8\n",
       "Language: en\n",
       "Country: null\n",
       "--></g></svg>"
      ]
     },
     "execution_count": 57,
     "metadata": {},
     "output_type": "execute_result"
    }
   ],
   "source": [
    "%viz --style=\"ORTHOLINE\" --view=\"MIXED\" \"P1\""
   ]
  }
 ],
 "metadata": {
  "kernelspec": {
   "display_name": "SysML",
   "language": "sysml",
   "name": "sysml"
  },
  "language_info": {
   "codemirror_mode": "sysml",
   "file_extension": ".sysml",
   "mimetype": "text/x-sysml",
   "name": "SysML",
   "pygments_lexer": "java",
   "version": "1.0.0"
  }
 },
 "nbformat": 4,
 "nbformat_minor": 5
}
