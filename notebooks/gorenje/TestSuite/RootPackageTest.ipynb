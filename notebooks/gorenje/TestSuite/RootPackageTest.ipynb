{
 "cells": [
  {
   "cell_type": "markdown",
   "id": "44aeb466",
   "metadata": {},
   "source": [
    "# SysML v2 Test Suite\n",
    "\n",
    "This can notebook can be cleared using menu `Edit --> Clear All Outputs` and then all cells can be\n",
    "run using menu `Run --> Run All Cells`.\n",
    "\n",
    "**WARNING**: This file is generated, all modifications here will be ignored.\n"
   ]
  },
  {
   "cell_type": "markdown",
   "id": "e1c7c2d4",
   "metadata": {},
   "source": [
    "## File: ../../sysml/src/examples/Simple Tests/RootPackageTest.sysml"
   ]
  },
  {
   "cell_type": "code",
   "execution_count": 1,
   "id": "d5770892",
   "metadata": {
    "execution": {
     "iopub.execute_input": "2022-03-03T09:58:36.664938Z",
     "iopub.status.busy": "2022-03-03T09:58:36.663752Z",
     "iopub.status.idle": "2022-03-03T09:58:36.765293Z",
     "shell.execute_reply": "2022-03-03T09:58:36.765706Z"
    }
   },
   "outputs": [
    {
     "data": {
      "text/plain": [
       "Package P1 (3559e26d-a74c-4774-8e0b-3ddf1e2b6767)\n",
       "Package P2 (fedb272d-0f68-472a-ab53-5e2d052d2a4f)\n",
       "Package P3 (ee9cadb8-cacd-4209-aed8-eaa00c1717d8)\n"
      ]
     },
     "execution_count": 1,
     "metadata": {},
     "output_type": "execute_result"
    }
   ],
   "source": [
    "package P1 {\n",
    "\tpart def A;\n",
    "}\n",
    "\n",
    "package P2 {\n",
    "\timport P1::*;\n",
    "\tpart a : A;\n",
    "}\n",
    "\n",
    "import P2::*;\n",
    "\n",
    "package P3 {\n",
    "\tpart b subsets a;\n",
    "}"
   ]
  },
  {
   "cell_type": "code",
   "execution_count": 2,
   "id": "fe06ebfb",
   "metadata": {
    "execution": {
     "iopub.execute_input": "2022-03-03T09:58:36.816200Z",
     "iopub.status.busy": "2022-03-03T09:58:36.815814Z",
     "iopub.status.idle": "2022-03-03T09:58:37.209449Z",
     "shell.execute_reply": "2022-03-03T09:58:37.209048Z"
    }
   },
   "outputs": [
    {
     "data": {
      "image/svg+xml": [
       "<?xml version=\"1.0\" encoding=\"UTF-8\" standalone=\"no\"?><svg xmlns=\"http://www.w3.org/2000/svg\" xmlns:xlink=\"http://www.w3.org/1999/xlink\" contentScriptType=\"application/ecmascript\" contentStyleType=\"text/css\" height=\"115px\" preserveAspectRatio=\"none\" style=\"width:140px;height:115px;\" version=\"1.1\" viewBox=\"0 0 140 115\" width=\"140px\" zoomAndPan=\"magnify\"><defs/><g><!--MD5=[fbc87193dbaf4d95561dea2c320d4a47]\n",
       "cluster E1--><a href=\"psysml:360ea886-60d8-41b4-b45e-ba2115a877e8\" target=\"_top\" title=\"psysml:360ea886-60d8-41b4-b45e-ba2115a877e8\" xlink:actuate=\"onRequest\" xlink:href=\"psysml:360ea886-60d8-41b4-b45e-ba2115a877e8\" xlink:show=\"new\" xlink:title=\"psysml:360ea886-60d8-41b4-b45e-ba2115a877e8\" xlink:type=\"simple\"><polygon fill=\"#FFFFFF\" points=\"16,6,40,6,47,28.2969,118,28.2969,118,103,16,103,16,6\" style=\"stroke: #000000; stroke-width: 1.5;\"/><line style=\"stroke: #000000; stroke-width: 1.5;\" x1=\"16\" x2=\"47\" y1=\"28.2969\" y2=\"28.2969\"/><text fill=\"#000000\" font-family=\"sans-serif\" font-size=\"14\" font-weight=\"bold\" lengthAdjust=\"spacingAndGlyphs\" textLength=\"18\" x=\"20\" y=\"20.9951\">P1</text></a><!--MD5=[b4997ac47864f28c2f74865a473b2911]\n",
       "class E2--><a href=\"psysml:5d19b8ce-c5dc-4657-818e-bef8d51cb3ed\" target=\"_top\" title=\"psysml:5d19b8ce-c5dc-4657-818e-bef8d51cb3ed\" xlink:actuate=\"onRequest\" xlink:href=\"psysml:5d19b8ce-c5dc-4657-818e-bef8d51cb3ed\" xlink:show=\"new\" xlink:title=\"psysml:5d19b8ce-c5dc-4657-818e-bef8d51cb3ed\" xlink:type=\"simple\"><rect fill=\"#FFFFFF\" height=\"45.9375\" id=\"E2\" style=\"stroke: #383838; stroke-width: 1.5;\" width=\"70\" x=\"32\" y=\"41\"/><text fill=\"#000000\" font-family=\"sans-serif\" font-size=\"12\" font-style=\"italic\" lengthAdjust=\"spacingAndGlyphs\" textLength=\"68\" x=\"33\" y=\"57.1387\">«part  def»</text><text fill=\"#000000\" font-family=\"sans-serif\" font-size=\"12\" lengthAdjust=\"spacingAndGlyphs\" textLength=\"8\" x=\"63\" y=\"71.1074\">A</text><line style=\"stroke: #383838; stroke-width: 1.5;\" x1=\"33\" x2=\"101\" y1=\"78.9375\" y2=\"78.9375\"/></a><!--MD5=[75c8aa65befe773b1b314fd18a5d8996]\n",
       "@startuml\r\n",
       " skinparam monochrome true\r\n",
       "skinparam classbackgroundcolor white\r\n",
       "skinparam shadowing false\r\n",
       "skinparam wrapWidth 300\r\n",
       "hide circle\r\n",
       "\r\n",
       "package \"P1\" as E1  [[psysml:360ea886-60d8-41b4-b45e-ba2115a877e8 ]]  {\r\n",
       "comp def \"A\" as E2  <<(T,blue) part  def>> [[psysml:5d19b8ce-c5dc-4657-818e-bef8d51cb3ed ]] {\r\n",
       "}\r\n",
       "}\r\n",
       "@enduml\r\n",
       "\n",
       "PlantUML version 1.2020.13(Sat Jun 13 12:26:38 UTC 2020)\n",
       "(EPL source distribution)\n",
       "Java Runtime: OpenJDK Runtime Environment\n",
       "JVM: OpenJDK 64-Bit Server VM\n",
       "Default Encoding: UTF-8\n",
       "Language: en\n",
       "Country: null\n",
       "--></g></svg>"
      ]
     },
     "execution_count": 2,
     "metadata": {},
     "output_type": "execute_result"
    }
   ],
   "source": [
    "%viz --style=\"COMPTREE\" --view=\"Default\" \"P1\""
   ]
  },
  {
   "cell_type": "code",
   "execution_count": 3,
   "id": "c10ca72b",
   "metadata": {
    "execution": {
     "iopub.execute_input": "2022-03-03T09:58:37.259318Z",
     "iopub.status.busy": "2022-03-03T09:58:37.258878Z",
     "iopub.status.idle": "2022-03-03T09:58:37.289859Z",
     "shell.execute_reply": "2022-03-03T09:58:37.290187Z"
    }
   },
   "outputs": [
    {
     "data": {
      "image/svg+xml": [
       "<?xml version=\"1.0\" encoding=\"UTF-8\" standalone=\"no\"?><svg xmlns=\"http://www.w3.org/2000/svg\" xmlns:xlink=\"http://www.w3.org/1999/xlink\" contentScriptType=\"application/ecmascript\" contentStyleType=\"text/css\" height=\"115px\" preserveAspectRatio=\"none\" style=\"width:140px;height:115px;\" version=\"1.1\" viewBox=\"0 0 140 115\" width=\"140px\" zoomAndPan=\"magnify\"><defs/><g><!--MD5=[fbc87193dbaf4d95561dea2c320d4a47]\n",
       "cluster E1--><a href=\"psysml:360ea886-60d8-41b4-b45e-ba2115a877e8\" target=\"_top\" title=\"psysml:360ea886-60d8-41b4-b45e-ba2115a877e8\" xlink:actuate=\"onRequest\" xlink:href=\"psysml:360ea886-60d8-41b4-b45e-ba2115a877e8\" xlink:show=\"new\" xlink:title=\"psysml:360ea886-60d8-41b4-b45e-ba2115a877e8\" xlink:type=\"simple\"><polygon fill=\"#FFFFFF\" points=\"16,6,40,6,47,28.2969,118,28.2969,118,103,16,103,16,6\" style=\"stroke: #000000; stroke-width: 1.5;\"/><line style=\"stroke: #000000; stroke-width: 1.5;\" x1=\"16\" x2=\"47\" y1=\"28.2969\" y2=\"28.2969\"/><text fill=\"#000000\" font-family=\"sans-serif\" font-size=\"14\" font-weight=\"bold\" lengthAdjust=\"spacingAndGlyphs\" textLength=\"18\" x=\"20\" y=\"20.9951\">P1</text></a><!--MD5=[b4997ac47864f28c2f74865a473b2911]\n",
       "class E2--><a href=\"psysml:5d19b8ce-c5dc-4657-818e-bef8d51cb3ed\" target=\"_top\" title=\"psysml:5d19b8ce-c5dc-4657-818e-bef8d51cb3ed\" xlink:actuate=\"onRequest\" xlink:href=\"psysml:5d19b8ce-c5dc-4657-818e-bef8d51cb3ed\" xlink:show=\"new\" xlink:title=\"psysml:5d19b8ce-c5dc-4657-818e-bef8d51cb3ed\" xlink:type=\"simple\"><rect fill=\"#FFFFFF\" height=\"45.9375\" id=\"E2\" style=\"stroke: #383838; stroke-width: 1.5;\" width=\"70\" x=\"32\" y=\"41\"/><text fill=\"#000000\" font-family=\"sans-serif\" font-size=\"12\" font-style=\"italic\" lengthAdjust=\"spacingAndGlyphs\" textLength=\"68\" x=\"33\" y=\"57.1387\">«part  def»</text><text fill=\"#000000\" font-family=\"sans-serif\" font-size=\"12\" lengthAdjust=\"spacingAndGlyphs\" textLength=\"8\" x=\"63\" y=\"71.1074\">A</text><line style=\"stroke: #383838; stroke-width: 1.5;\" x1=\"33\" x2=\"101\" y1=\"78.9375\" y2=\"78.9375\"/></a><!--MD5=[75c8aa65befe773b1b314fd18a5d8996]\n",
       "@startuml\r\n",
       " skinparam monochrome true\r\n",
       "skinparam classbackgroundcolor white\r\n",
       "skinparam shadowing false\r\n",
       "skinparam wrapWidth 300\r\n",
       "hide circle\r\n",
       "\r\n",
       "package \"P1\" as E1  [[psysml:360ea886-60d8-41b4-b45e-ba2115a877e8 ]]  {\r\n",
       "comp def \"A\" as E2  <<(T,blue) part  def>> [[psysml:5d19b8ce-c5dc-4657-818e-bef8d51cb3ed ]] {\r\n",
       "}\r\n",
       "}\r\n",
       "@enduml\r\n",
       "\n",
       "PlantUML version 1.2020.13(Sat Jun 13 12:26:38 UTC 2020)\n",
       "(EPL source distribution)\n",
       "Java Runtime: OpenJDK Runtime Environment\n",
       "JVM: OpenJDK 64-Bit Server VM\n",
       "Default Encoding: UTF-8\n",
       "Language: en\n",
       "Country: null\n",
       "--></g></svg>"
      ]
     },
     "execution_count": 3,
     "metadata": {},
     "output_type": "execute_result"
    }
   ],
   "source": [
    "%viz --style=\"COMPTREE\" --view=\"Tree\" \"P1\""
   ]
  },
  {
   "cell_type": "code",
   "execution_count": 4,
   "id": "2e04dc69",
   "metadata": {
    "execution": {
     "iopub.execute_input": "2022-03-03T09:58:37.340648Z",
     "iopub.status.busy": "2022-03-03T09:58:37.340233Z",
     "iopub.status.idle": "2022-03-03T09:58:37.349650Z",
     "shell.execute_reply": "2022-03-03T09:58:37.349969Z"
    }
   },
   "outputs": [
    {
     "data": {
      "image/svg+xml": [
       "<?xml version=\"1.0\" encoding=\"UTF-8\" standalone=\"no\"?><svg xmlns=\"http://www.w3.org/2000/svg\" xmlns:xlink=\"http://www.w3.org/1999/xlink\" contentScriptType=\"application/ecmascript\" contentStyleType=\"text/css\" height=\"12px\" preserveAspectRatio=\"none\" style=\"width:12px;height:12px;\" version=\"1.1\" viewBox=\"0 0 12 12\" width=\"12px\" zoomAndPan=\"magnify\"><defs/><g><!--MD5=[f19188ef49e11757b5c46753f95d9edc]\n",
       "@startuml\r\n",
       " skinparam monochrome true\r\n",
       "skinparam classbackgroundcolor white\r\n",
       "skinparam shadowing false\r\n",
       "skinparam wrapWidth 300\r\n",
       "hide circle\r\n",
       "\r\n",
       "@enduml\r\n",
       "\n",
       "PlantUML version 1.2020.13(Sat Jun 13 12:26:38 UTC 2020)\n",
       "(EPL source distribution)\n",
       "Java Runtime: OpenJDK Runtime Environment\n",
       "JVM: OpenJDK 64-Bit Server VM\n",
       "Default Encoding: UTF-8\n",
       "Language: en\n",
       "Country: null\n",
       "--></g></svg>"
      ]
     },
     "execution_count": 4,
     "metadata": {},
     "output_type": "execute_result"
    }
   ],
   "source": [
    "%viz --style=\"COMPTREE\" --view=\"State\" \"P1\""
   ]
  },
  {
   "cell_type": "code",
   "execution_count": 5,
   "id": "ed2b8eba",
   "metadata": {
    "execution": {
     "iopub.execute_input": "2022-03-03T09:58:37.400601Z",
     "iopub.status.busy": "2022-03-03T09:58:37.400178Z",
     "iopub.status.idle": "2022-03-03T09:58:37.435404Z",
     "shell.execute_reply": "2022-03-03T09:58:37.435704Z"
    }
   },
   "outputs": [
    {
     "data": {
      "image/svg+xml": [
       "<?xml version=\"1.0\" encoding=\"UTF-8\" standalone=\"no\"?><svg xmlns=\"http://www.w3.org/2000/svg\" xmlns:xlink=\"http://www.w3.org/1999/xlink\" contentScriptType=\"application/ecmascript\" contentStyleType=\"text/css\" height=\"112px\" preserveAspectRatio=\"none\" style=\"width:144px;height:112px;\" version=\"1.1\" viewBox=\"0 0 144 112\" width=\"144px\" zoomAndPan=\"magnify\"><defs/><g><!--MD5=[fbc87193dbaf4d95561dea2c320d4a47]\n",
       "cluster E1--><a href=\"psysml:360ea886-60d8-41b4-b45e-ba2115a877e8\" target=\"_top\" title=\"psysml:360ea886-60d8-41b4-b45e-ba2115a877e8\" xlink:actuate=\"onRequest\" xlink:href=\"psysml:360ea886-60d8-41b4-b45e-ba2115a877e8\" xlink:show=\"new\" xlink:title=\"psysml:360ea886-60d8-41b4-b45e-ba2115a877e8\" xlink:type=\"simple\"><polygon fill=\"#FFFFFF\" points=\"16,6,40,6,47,28.2969,122,28.2969,122,100,16,100,16,6\" style=\"stroke: #000000; stroke-width: 1.5;\"/><line style=\"stroke: #000000; stroke-width: 1.5;\" x1=\"16\" x2=\"47\" y1=\"28.2969\" y2=\"28.2969\"/><text fill=\"#000000\" font-family=\"sans-serif\" font-size=\"14\" font-weight=\"bold\" lengthAdjust=\"spacingAndGlyphs\" textLength=\"18\" x=\"20\" y=\"20.9951\">P1</text></a><g id=\"E1.E2\"><a href=\"psysml:5d19b8ce-c5dc-4657-818e-bef8d51cb3ed\" target=\"_top\" title=\"psysml:5d19b8ce-c5dc-4657-818e-bef8d51cb3ed\" xlink:actuate=\"onRequest\" xlink:href=\"psysml:5d19b8ce-c5dc-4657-818e-bef8d51cb3ed\" xlink:show=\"new\" xlink:title=\"psysml:5d19b8ce-c5dc-4657-818e-bef8d51cb3ed\" xlink:type=\"simple\"><rect fill=\"#FFFFFF\" height=\"42.9375\" id=\"E2\" style=\"stroke: #383838; stroke-width: 1.5;\" width=\"75\" x=\"31.5\" y=\"41\"/><rect fill=\"#F8F8F8\" height=\"37.9375\" style=\"stroke: #383838; stroke-width: 1.5;\" width=\"75\" x=\"31.5\" y=\"41\"/><text fill=\"#000000\" font-family=\"sans-serif\" font-size=\"12\" font-style=\"italic\" lengthAdjust=\"spacingAndGlyphs\" textLength=\"68\" x=\"35\" y=\"57.1387\">«part  def»</text><text fill=\"#000000\" font-family=\"sans-serif\" font-size=\"12\" lengthAdjust=\"spacingAndGlyphs\" textLength=\"8\" x=\"65\" y=\"71.1074\">A</text></a></g><!--MD5=[e250809c22f52367d03c6f7b2bbd08a8]\n",
       "@startuml\r\n",
       "skinparam ranksep 10\r\n",
       "skinparam rectangle {\r\n",
       " backgroundColor<<block>> LightGreen\r\n",
       "}\r\n",
       " skinparam monochrome true\r\n",
       "skinparam classbackgroundcolor white\r\n",
       "skinparam shadowing false\r\n",
       "skinparam wrapWidth 300\r\n",
       "hide circle\r\n",
       "\r\n",
       "package \"P1\" as E1  [[psysml:360ea886-60d8-41b4-b45e-ba2115a877e8 ]]  {\r\n",
       "rec def \"A\" as E2  <<(T,blue) part  def>> [[psysml:5d19b8ce-c5dc-4657-818e-bef8d51cb3ed ]] {\r\n",
       "}\r\n",
       "}\r\n",
       "@enduml\r\n",
       "\n",
       "PlantUML version 1.2020.13(Sat Jun 13 12:26:38 UTC 2020)\n",
       "(EPL source distribution)\n",
       "Java Runtime: OpenJDK Runtime Environment\n",
       "JVM: OpenJDK 64-Bit Server VM\n",
       "Default Encoding: UTF-8\n",
       "Language: en\n",
       "Country: null\n",
       "--></g></svg>"
      ]
     },
     "execution_count": 5,
     "metadata": {},
     "output_type": "execute_result"
    }
   ],
   "source": [
    "%viz --style=\"COMPTREE\" --view=\"Interconnection\" \"P1\""
   ]
  },
  {
   "cell_type": "code",
   "execution_count": 6,
   "id": "fac0d9cd",
   "metadata": {
    "execution": {
     "iopub.execute_input": "2022-03-03T09:58:37.485895Z",
     "iopub.status.busy": "2022-03-03T09:58:37.485477Z",
     "iopub.status.idle": "2022-03-03T09:58:37.492878Z",
     "shell.execute_reply": "2022-03-03T09:58:37.493194Z"
    }
   },
   "outputs": [
    {
     "data": {
      "image/svg+xml": [
       "<?xml version=\"1.0\" encoding=\"UTF-8\" standalone=\"no\"?><svg xmlns=\"http://www.w3.org/2000/svg\" xmlns:xlink=\"http://www.w3.org/1999/xlink\" contentScriptType=\"application/ecmascript\" contentStyleType=\"text/css\" height=\"12px\" preserveAspectRatio=\"none\" style=\"width:12px;height:12px;\" version=\"1.1\" viewBox=\"0 0 12 12\" width=\"12px\" zoomAndPan=\"magnify\"><defs/><g><!--MD5=[655b888544ca4751ea36af1068543f84]\n",
       "@startuml\r\n",
       "skinparam ranksep 8\r\n",
       " skinparam monochrome true\r\n",
       "skinparam classbackgroundcolor white\r\n",
       "skinparam shadowing false\r\n",
       "skinparam wrapWidth 300\r\n",
       "hide circle\r\n",
       "\r\n",
       "@enduml\r\n",
       "\n",
       "PlantUML version 1.2020.13(Sat Jun 13 12:26:38 UTC 2020)\n",
       "(EPL source distribution)\n",
       "Java Runtime: OpenJDK Runtime Environment\n",
       "JVM: OpenJDK 64-Bit Server VM\n",
       "Default Encoding: UTF-8\n",
       "Language: en\n",
       "Country: null\n",
       "--></g></svg>"
      ]
     },
     "execution_count": 6,
     "metadata": {},
     "output_type": "execute_result"
    }
   ],
   "source": [
    "%viz --style=\"COMPTREE\" --view=\"Action\" \"P1\""
   ]
  },
  {
   "cell_type": "code",
   "execution_count": 7,
   "id": "4f31af2a",
   "metadata": {
    "execution": {
     "iopub.execute_input": "2022-03-03T09:58:37.543832Z",
     "iopub.status.busy": "2022-03-03T09:58:37.543418Z",
     "iopub.status.idle": "2022-03-03T09:58:37.555325Z",
     "shell.execute_reply": "2022-03-03T09:58:37.555639Z"
    }
   },
   "outputs": [
    {
     "data": {
      "image/svg+xml": [
       "<?xml version=\"1.0\" encoding=\"UTF-8\" standalone=\"no\"?><svg xmlns=\"http://www.w3.org/2000/svg\" xmlns:xlink=\"http://www.w3.org/1999/xlink\" contentScriptType=\"application/ecmascript\" contentStyleType=\"text/css\" height=\"12px\" preserveAspectRatio=\"none\" style=\"width:12px;height:12px;\" version=\"1.1\" viewBox=\"0 0 12 12\" width=\"12px\" zoomAndPan=\"magnify\"><defs/><g><!--MD5=[803fc46c337be7a5c8a9831e35356779]\n",
       "@startuml\r\n",
       "skinparam roundcorner 20\r\n",
       "skinparam BoxPadding 20\r\n",
       "skinparam SequenceBoxBackgroundColor #white\r\n",
       "skinparam style strictuml\r\n",
       "skinparam maxMessageSize 100\r\n",
       " skinparam monochrome true\r\n",
       "skinparam classbackgroundcolor white\r\n",
       "skinparam shadowing false\r\n",
       "skinparam wrapWidth 300\r\n",
       "hide circle\r\n",
       "\r\n",
       "@enduml\r\n",
       "\n",
       "PlantUML version 1.2020.13(Sat Jun 13 12:26:38 UTC 2020)\n",
       "(EPL source distribution)\n",
       "Java Runtime: OpenJDK Runtime Environment\n",
       "JVM: OpenJDK 64-Bit Server VM\n",
       "Default Encoding: UTF-8\n",
       "Language: en\n",
       "Country: null\n",
       "--></g></svg>"
      ]
     },
     "execution_count": 7,
     "metadata": {},
     "output_type": "execute_result"
    }
   ],
   "source": [
    "%viz --style=\"COMPTREE\" --view=\"Sequence\" \"P1\""
   ]
  },
  {
   "cell_type": "code",
   "execution_count": 8,
   "id": "9bfb1aec",
   "metadata": {
    "execution": {
     "iopub.execute_input": "2022-03-03T09:58:37.606016Z",
     "iopub.status.busy": "2022-03-03T09:58:37.605605Z",
     "iopub.status.idle": "2022-03-03T09:58:37.633763Z",
     "shell.execute_reply": "2022-03-03T09:58:37.634075Z"
    }
   },
   "outputs": [
    {
     "data": {
      "image/svg+xml": [
       "<?xml version=\"1.0\" encoding=\"UTF-8\" standalone=\"no\"?><svg xmlns=\"http://www.w3.org/2000/svg\" xmlns:xlink=\"http://www.w3.org/1999/xlink\" contentScriptType=\"application/ecmascript\" contentStyleType=\"text/css\" height=\"115px\" preserveAspectRatio=\"none\" style=\"width:140px;height:115px;\" version=\"1.1\" viewBox=\"0 0 140 115\" width=\"140px\" zoomAndPan=\"magnify\"><defs/><g><!--MD5=[fbc87193dbaf4d95561dea2c320d4a47]\n",
       "cluster E1--><a href=\"psysml:360ea886-60d8-41b4-b45e-ba2115a877e8\" target=\"_top\" title=\"psysml:360ea886-60d8-41b4-b45e-ba2115a877e8\" xlink:actuate=\"onRequest\" xlink:href=\"psysml:360ea886-60d8-41b4-b45e-ba2115a877e8\" xlink:show=\"new\" xlink:title=\"psysml:360ea886-60d8-41b4-b45e-ba2115a877e8\" xlink:type=\"simple\"><polygon fill=\"#FFFFFF\" points=\"16,6,40,6,47,28.2969,118,28.2969,118,103,16,103,16,6\" style=\"stroke: #000000; stroke-width: 1.5;\"/><line style=\"stroke: #000000; stroke-width: 1.5;\" x1=\"16\" x2=\"47\" y1=\"28.2969\" y2=\"28.2969\"/><text fill=\"#000000\" font-family=\"sans-serif\" font-size=\"14\" font-weight=\"bold\" lengthAdjust=\"spacingAndGlyphs\" textLength=\"18\" x=\"20\" y=\"20.9951\">P1</text></a><!--MD5=[b4997ac47864f28c2f74865a473b2911]\n",
       "class E2--><a href=\"psysml:5d19b8ce-c5dc-4657-818e-bef8d51cb3ed\" target=\"_top\" title=\"psysml:5d19b8ce-c5dc-4657-818e-bef8d51cb3ed\" xlink:actuate=\"onRequest\" xlink:href=\"psysml:5d19b8ce-c5dc-4657-818e-bef8d51cb3ed\" xlink:show=\"new\" xlink:title=\"psysml:5d19b8ce-c5dc-4657-818e-bef8d51cb3ed\" xlink:type=\"simple\"><rect fill=\"#FFFFFF\" height=\"45.9375\" id=\"E2\" style=\"stroke: #383838; stroke-width: 1.5;\" width=\"70\" x=\"32\" y=\"41\"/><text fill=\"#000000\" font-family=\"sans-serif\" font-size=\"12\" font-style=\"italic\" lengthAdjust=\"spacingAndGlyphs\" textLength=\"68\" x=\"33\" y=\"57.1387\">«part  def»</text><text fill=\"#000000\" font-family=\"sans-serif\" font-size=\"12\" lengthAdjust=\"spacingAndGlyphs\" textLength=\"8\" x=\"63\" y=\"71.1074\">A</text><line style=\"stroke: #383838; stroke-width: 1.5;\" x1=\"33\" x2=\"101\" y1=\"78.9375\" y2=\"78.9375\"/></a><!--MD5=[75c8aa65befe773b1b314fd18a5d8996]\n",
       "@startuml\r\n",
       " skinparam monochrome true\r\n",
       "skinparam classbackgroundcolor white\r\n",
       "skinparam shadowing false\r\n",
       "skinparam wrapWidth 300\r\n",
       "hide circle\r\n",
       "\r\n",
       "package \"P1\" as E1  [[psysml:360ea886-60d8-41b4-b45e-ba2115a877e8 ]]  {\r\n",
       "comp def \"A\" as E2  <<(T,blue) part  def>> [[psysml:5d19b8ce-c5dc-4657-818e-bef8d51cb3ed ]] {\r\n",
       "}\r\n",
       "}\r\n",
       "@enduml\r\n",
       "\n",
       "PlantUML version 1.2020.13(Sat Jun 13 12:26:38 UTC 2020)\n",
       "(EPL source distribution)\n",
       "Java Runtime: OpenJDK Runtime Environment\n",
       "JVM: OpenJDK 64-Bit Server VM\n",
       "Default Encoding: UTF-8\n",
       "Language: en\n",
       "Country: null\n",
       "--></g></svg>"
      ]
     },
     "execution_count": 8,
     "metadata": {},
     "output_type": "execute_result"
    }
   ],
   "source": [
    "%viz --style=\"COMPTREE\" --view=\"MIXED\" \"P1\""
   ]
  },
  {
   "cell_type": "code",
   "execution_count": 9,
   "id": "5113db4c",
   "metadata": {
    "execution": {
     "iopub.execute_input": "2022-03-03T09:58:37.684732Z",
     "iopub.status.busy": "2022-03-03T09:58:37.684318Z",
     "iopub.status.idle": "2022-03-03T09:58:37.713243Z",
     "shell.execute_reply": "2022-03-03T09:58:37.713563Z"
    }
   },
   "outputs": [
    {
     "data": {
      "image/svg+xml": [
       "<?xml version=\"1.0\" encoding=\"UTF-8\" standalone=\"no\"?><svg xmlns=\"http://www.w3.org/2000/svg\" xmlns:xlink=\"http://www.w3.org/1999/xlink\" contentScriptType=\"application/ecmascript\" contentStyleType=\"text/css\" height=\"115px\" preserveAspectRatio=\"none\" style=\"width:140px;height:115px;\" version=\"1.1\" viewBox=\"0 0 140 115\" width=\"140px\" zoomAndPan=\"magnify\"><defs/><g><!--MD5=[fbc87193dbaf4d95561dea2c320d4a47]\n",
       "cluster E1--><a href=\"psysml:360ea886-60d8-41b4-b45e-ba2115a877e8\" target=\"_top\" title=\"psysml:360ea886-60d8-41b4-b45e-ba2115a877e8\" xlink:actuate=\"onRequest\" xlink:href=\"psysml:360ea886-60d8-41b4-b45e-ba2115a877e8\" xlink:show=\"new\" xlink:title=\"psysml:360ea886-60d8-41b4-b45e-ba2115a877e8\" xlink:type=\"simple\"><polygon fill=\"#FFFFFF\" points=\"16,6,40,6,47,28.2969,118,28.2969,118,103,16,103,16,6\" style=\"stroke: #000000; stroke-width: 1.5;\"/><line style=\"stroke: #000000; stroke-width: 1.5;\" x1=\"16\" x2=\"47\" y1=\"28.2969\" y2=\"28.2969\"/><text fill=\"#000000\" font-family=\"sans-serif\" font-size=\"14\" font-weight=\"bold\" lengthAdjust=\"spacingAndGlyphs\" textLength=\"18\" x=\"20\" y=\"20.9951\">P1</text></a><!--MD5=[b4997ac47864f28c2f74865a473b2911]\n",
       "class E2--><a href=\"psysml:5d19b8ce-c5dc-4657-818e-bef8d51cb3ed\" target=\"_top\" title=\"psysml:5d19b8ce-c5dc-4657-818e-bef8d51cb3ed\" xlink:actuate=\"onRequest\" xlink:href=\"psysml:5d19b8ce-c5dc-4657-818e-bef8d51cb3ed\" xlink:show=\"new\" xlink:title=\"psysml:5d19b8ce-c5dc-4657-818e-bef8d51cb3ed\" xlink:type=\"simple\"><rect fill=\"#FFFFFF\" height=\"45.9375\" id=\"E2\" style=\"stroke: #383838; stroke-width: 1.5;\" width=\"70\" x=\"32\" y=\"41\"/><text fill=\"#000000\" font-family=\"sans-serif\" font-size=\"12\" font-style=\"italic\" lengthAdjust=\"spacingAndGlyphs\" textLength=\"68\" x=\"33\" y=\"57.1387\">«part  def»</text><text fill=\"#000000\" font-family=\"sans-serif\" font-size=\"12\" lengthAdjust=\"spacingAndGlyphs\" textLength=\"8\" x=\"63\" y=\"71.1074\">A</text><line style=\"stroke: #383838; stroke-width: 1.5;\" x1=\"33\" x2=\"101\" y1=\"78.9375\" y2=\"78.9375\"/></a><!--MD5=[e976a9daa0e944cd2a34552679b05f0f]\n",
       "@startuml\r\n",
       "skinparam linetype polyline\r\n",
       "skinparam monochrome true\r\n",
       "skinparam classbackgroundcolor white\r\n",
       "skinparam shadowing false\r\n",
       "skinparam wrapWidth 300\r\n",
       "hide circle\r\n",
       "\r\n",
       "package \"P1\" as E1  [[psysml:360ea886-60d8-41b4-b45e-ba2115a877e8 ]]  {\r\n",
       "comp def \"A\" as E2  <<(T,blue) part  def>> [[psysml:5d19b8ce-c5dc-4657-818e-bef8d51cb3ed ]] {\r\n",
       "}\r\n",
       "}\r\n",
       "@enduml\r\n",
       "\n",
       "PlantUML version 1.2020.13(Sat Jun 13 12:26:38 UTC 2020)\n",
       "(EPL source distribution)\n",
       "Java Runtime: OpenJDK Runtime Environment\n",
       "JVM: OpenJDK 64-Bit Server VM\n",
       "Default Encoding: UTF-8\n",
       "Language: en\n",
       "Country: null\n",
       "--></g></svg>"
      ]
     },
     "execution_count": 9,
     "metadata": {},
     "output_type": "execute_result"
    }
   ],
   "source": [
    "%viz --style=\"POLYLINE\" --view=\"Default\" \"P1\""
   ]
  },
  {
   "cell_type": "code",
   "execution_count": 10,
   "id": "4b89b061",
   "metadata": {
    "execution": {
     "iopub.execute_input": "2022-03-03T09:58:37.763868Z",
     "iopub.status.busy": "2022-03-03T09:58:37.763461Z",
     "iopub.status.idle": "2022-03-03T09:58:37.792105Z",
     "shell.execute_reply": "2022-03-03T09:58:37.792419Z"
    }
   },
   "outputs": [
    {
     "data": {
      "image/svg+xml": [
       "<?xml version=\"1.0\" encoding=\"UTF-8\" standalone=\"no\"?><svg xmlns=\"http://www.w3.org/2000/svg\" xmlns:xlink=\"http://www.w3.org/1999/xlink\" contentScriptType=\"application/ecmascript\" contentStyleType=\"text/css\" height=\"115px\" preserveAspectRatio=\"none\" style=\"width:140px;height:115px;\" version=\"1.1\" viewBox=\"0 0 140 115\" width=\"140px\" zoomAndPan=\"magnify\"><defs/><g><!--MD5=[fbc87193dbaf4d95561dea2c320d4a47]\n",
       "cluster E1--><a href=\"psysml:360ea886-60d8-41b4-b45e-ba2115a877e8\" target=\"_top\" title=\"psysml:360ea886-60d8-41b4-b45e-ba2115a877e8\" xlink:actuate=\"onRequest\" xlink:href=\"psysml:360ea886-60d8-41b4-b45e-ba2115a877e8\" xlink:show=\"new\" xlink:title=\"psysml:360ea886-60d8-41b4-b45e-ba2115a877e8\" xlink:type=\"simple\"><polygon fill=\"#FFFFFF\" points=\"16,6,40,6,47,28.2969,118,28.2969,118,103,16,103,16,6\" style=\"stroke: #000000; stroke-width: 1.5;\"/><line style=\"stroke: #000000; stroke-width: 1.5;\" x1=\"16\" x2=\"47\" y1=\"28.2969\" y2=\"28.2969\"/><text fill=\"#000000\" font-family=\"sans-serif\" font-size=\"14\" font-weight=\"bold\" lengthAdjust=\"spacingAndGlyphs\" textLength=\"18\" x=\"20\" y=\"20.9951\">P1</text></a><!--MD5=[b4997ac47864f28c2f74865a473b2911]\n",
       "class E2--><a href=\"psysml:5d19b8ce-c5dc-4657-818e-bef8d51cb3ed\" target=\"_top\" title=\"psysml:5d19b8ce-c5dc-4657-818e-bef8d51cb3ed\" xlink:actuate=\"onRequest\" xlink:href=\"psysml:5d19b8ce-c5dc-4657-818e-bef8d51cb3ed\" xlink:show=\"new\" xlink:title=\"psysml:5d19b8ce-c5dc-4657-818e-bef8d51cb3ed\" xlink:type=\"simple\"><rect fill=\"#FFFFFF\" height=\"45.9375\" id=\"E2\" style=\"stroke: #383838; stroke-width: 1.5;\" width=\"70\" x=\"32\" y=\"41\"/><text fill=\"#000000\" font-family=\"sans-serif\" font-size=\"12\" font-style=\"italic\" lengthAdjust=\"spacingAndGlyphs\" textLength=\"68\" x=\"33\" y=\"57.1387\">«part  def»</text><text fill=\"#000000\" font-family=\"sans-serif\" font-size=\"12\" lengthAdjust=\"spacingAndGlyphs\" textLength=\"8\" x=\"63\" y=\"71.1074\">A</text><line style=\"stroke: #383838; stroke-width: 1.5;\" x1=\"33\" x2=\"101\" y1=\"78.9375\" y2=\"78.9375\"/></a><!--MD5=[e976a9daa0e944cd2a34552679b05f0f]\n",
       "@startuml\r\n",
       "skinparam linetype polyline\r\n",
       "skinparam monochrome true\r\n",
       "skinparam classbackgroundcolor white\r\n",
       "skinparam shadowing false\r\n",
       "skinparam wrapWidth 300\r\n",
       "hide circle\r\n",
       "\r\n",
       "package \"P1\" as E1  [[psysml:360ea886-60d8-41b4-b45e-ba2115a877e8 ]]  {\r\n",
       "comp def \"A\" as E2  <<(T,blue) part  def>> [[psysml:5d19b8ce-c5dc-4657-818e-bef8d51cb3ed ]] {\r\n",
       "}\r\n",
       "}\r\n",
       "@enduml\r\n",
       "\n",
       "PlantUML version 1.2020.13(Sat Jun 13 12:26:38 UTC 2020)\n",
       "(EPL source distribution)\n",
       "Java Runtime: OpenJDK Runtime Environment\n",
       "JVM: OpenJDK 64-Bit Server VM\n",
       "Default Encoding: UTF-8\n",
       "Language: en\n",
       "Country: null\n",
       "--></g></svg>"
      ]
     },
     "execution_count": 10,
     "metadata": {},
     "output_type": "execute_result"
    }
   ],
   "source": [
    "%viz --style=\"POLYLINE\" --view=\"Tree\" \"P1\""
   ]
  },
  {
   "cell_type": "code",
   "execution_count": 11,
   "id": "5811e8f3",
   "metadata": {
    "execution": {
     "iopub.execute_input": "2022-03-03T09:58:37.842608Z",
     "iopub.status.busy": "2022-03-03T09:58:37.842204Z",
     "iopub.status.idle": "2022-03-03T09:58:37.849418Z",
     "shell.execute_reply": "2022-03-03T09:58:37.849729Z"
    }
   },
   "outputs": [
    {
     "data": {
      "image/svg+xml": [
       "<?xml version=\"1.0\" encoding=\"UTF-8\" standalone=\"no\"?><svg xmlns=\"http://www.w3.org/2000/svg\" xmlns:xlink=\"http://www.w3.org/1999/xlink\" contentScriptType=\"application/ecmascript\" contentStyleType=\"text/css\" height=\"12px\" preserveAspectRatio=\"none\" style=\"width:12px;height:12px;\" version=\"1.1\" viewBox=\"0 0 12 12\" width=\"12px\" zoomAndPan=\"magnify\"><defs/><g><!--MD5=[896ac0e7a515d8dd7765a661cb4ee08b]\n",
       "@startuml\r\n",
       "skinparam linetype polyline\r\n",
       "skinparam monochrome true\r\n",
       "skinparam classbackgroundcolor white\r\n",
       "skinparam shadowing false\r\n",
       "skinparam wrapWidth 300\r\n",
       "hide circle\r\n",
       "\r\n",
       "@enduml\r\n",
       "\n",
       "PlantUML version 1.2020.13(Sat Jun 13 12:26:38 UTC 2020)\n",
       "(EPL source distribution)\n",
       "Java Runtime: OpenJDK Runtime Environment\n",
       "JVM: OpenJDK 64-Bit Server VM\n",
       "Default Encoding: UTF-8\n",
       "Language: en\n",
       "Country: null\n",
       "--></g></svg>"
      ]
     },
     "execution_count": 11,
     "metadata": {},
     "output_type": "execute_result"
    }
   ],
   "source": [
    "%viz --style=\"POLYLINE\" --view=\"State\" \"P1\""
   ]
  },
  {
   "cell_type": "code",
   "execution_count": 12,
   "id": "f872cf38",
   "metadata": {
    "execution": {
     "iopub.execute_input": "2022-03-03T09:58:37.900115Z",
     "iopub.status.busy": "2022-03-03T09:58:37.899707Z",
     "iopub.status.idle": "2022-03-03T09:58:37.927261Z",
     "shell.execute_reply": "2022-03-03T09:58:37.927514Z"
    }
   },
   "outputs": [
    {
     "data": {
      "image/svg+xml": [
       "<?xml version=\"1.0\" encoding=\"UTF-8\" standalone=\"no\"?><svg xmlns=\"http://www.w3.org/2000/svg\" xmlns:xlink=\"http://www.w3.org/1999/xlink\" contentScriptType=\"application/ecmascript\" contentStyleType=\"text/css\" height=\"112px\" preserveAspectRatio=\"none\" style=\"width:144px;height:112px;\" version=\"1.1\" viewBox=\"0 0 144 112\" width=\"144px\" zoomAndPan=\"magnify\"><defs/><g><!--MD5=[fbc87193dbaf4d95561dea2c320d4a47]\n",
       "cluster E1--><a href=\"psysml:360ea886-60d8-41b4-b45e-ba2115a877e8\" target=\"_top\" title=\"psysml:360ea886-60d8-41b4-b45e-ba2115a877e8\" xlink:actuate=\"onRequest\" xlink:href=\"psysml:360ea886-60d8-41b4-b45e-ba2115a877e8\" xlink:show=\"new\" xlink:title=\"psysml:360ea886-60d8-41b4-b45e-ba2115a877e8\" xlink:type=\"simple\"><polygon fill=\"#FFFFFF\" points=\"16,6,40,6,47,28.2969,122,28.2969,122,100,16,100,16,6\" style=\"stroke: #000000; stroke-width: 1.5;\"/><line style=\"stroke: #000000; stroke-width: 1.5;\" x1=\"16\" x2=\"47\" y1=\"28.2969\" y2=\"28.2969\"/><text fill=\"#000000\" font-family=\"sans-serif\" font-size=\"14\" font-weight=\"bold\" lengthAdjust=\"spacingAndGlyphs\" textLength=\"18\" x=\"20\" y=\"20.9951\">P1</text></a><g id=\"E1.E2\"><a href=\"psysml:5d19b8ce-c5dc-4657-818e-bef8d51cb3ed\" target=\"_top\" title=\"psysml:5d19b8ce-c5dc-4657-818e-bef8d51cb3ed\" xlink:actuate=\"onRequest\" xlink:href=\"psysml:5d19b8ce-c5dc-4657-818e-bef8d51cb3ed\" xlink:show=\"new\" xlink:title=\"psysml:5d19b8ce-c5dc-4657-818e-bef8d51cb3ed\" xlink:type=\"simple\"><rect fill=\"#FFFFFF\" height=\"42.9375\" id=\"E2\" style=\"stroke: #383838; stroke-width: 1.5;\" width=\"75\" x=\"31.5\" y=\"41\"/><rect fill=\"#F8F8F8\" height=\"37.9375\" style=\"stroke: #383838; stroke-width: 1.5;\" width=\"75\" x=\"31.5\" y=\"41\"/><text fill=\"#000000\" font-family=\"sans-serif\" font-size=\"12\" font-style=\"italic\" lengthAdjust=\"spacingAndGlyphs\" textLength=\"68\" x=\"35\" y=\"57.1387\">«part  def»</text><text fill=\"#000000\" font-family=\"sans-serif\" font-size=\"12\" lengthAdjust=\"spacingAndGlyphs\" textLength=\"8\" x=\"65\" y=\"71.1074\">A</text></a></g><!--MD5=[f3538168f04e4da7ea42568ae903cc22]\n",
       "@startuml\r\n",
       "skinparam ranksep 10\r\n",
       "skinparam rectangle {\r\n",
       " backgroundColor<<block>> LightGreen\r\n",
       "}\r\n",
       "skinparam linetype polyline\r\n",
       "skinparam monochrome true\r\n",
       "skinparam classbackgroundcolor white\r\n",
       "skinparam shadowing false\r\n",
       "skinparam wrapWidth 300\r\n",
       "hide circle\r\n",
       "\r\n",
       "package \"P1\" as E1  [[psysml:360ea886-60d8-41b4-b45e-ba2115a877e8 ]]  {\r\n",
       "rec def \"A\" as E2  <<(T,blue) part  def>> [[psysml:5d19b8ce-c5dc-4657-818e-bef8d51cb3ed ]] {\r\n",
       "}\r\n",
       "}\r\n",
       "@enduml\r\n",
       "\n",
       "PlantUML version 1.2020.13(Sat Jun 13 12:26:38 UTC 2020)\n",
       "(EPL source distribution)\n",
       "Java Runtime: OpenJDK Runtime Environment\n",
       "JVM: OpenJDK 64-Bit Server VM\n",
       "Default Encoding: UTF-8\n",
       "Language: en\n",
       "Country: null\n",
       "--></g></svg>"
      ]
     },
     "execution_count": 12,
     "metadata": {},
     "output_type": "execute_result"
    }
   ],
   "source": [
    "%viz --style=\"POLYLINE\" --view=\"Interconnection\" \"P1\""
   ]
  },
  {
   "cell_type": "code",
   "execution_count": 13,
   "id": "4d636de2",
   "metadata": {
    "execution": {
     "iopub.execute_input": "2022-03-03T09:58:37.977992Z",
     "iopub.status.busy": "2022-03-03T09:58:37.977655Z",
     "iopub.status.idle": "2022-03-03T09:58:37.984143Z",
     "shell.execute_reply": "2022-03-03T09:58:37.984454Z"
    }
   },
   "outputs": [
    {
     "data": {
      "image/svg+xml": [
       "<?xml version=\"1.0\" encoding=\"UTF-8\" standalone=\"no\"?><svg xmlns=\"http://www.w3.org/2000/svg\" xmlns:xlink=\"http://www.w3.org/1999/xlink\" contentScriptType=\"application/ecmascript\" contentStyleType=\"text/css\" height=\"12px\" preserveAspectRatio=\"none\" style=\"width:12px;height:12px;\" version=\"1.1\" viewBox=\"0 0 12 12\" width=\"12px\" zoomAndPan=\"magnify\"><defs/><g><!--MD5=[97bbf32f66ccd50cbc40d92ea8f5a65e]\n",
       "@startuml\r\n",
       "skinparam ranksep 8\r\n",
       "skinparam linetype polyline\r\n",
       "skinparam monochrome true\r\n",
       "skinparam classbackgroundcolor white\r\n",
       "skinparam shadowing false\r\n",
       "skinparam wrapWidth 300\r\n",
       "hide circle\r\n",
       "\r\n",
       "@enduml\r\n",
       "\n",
       "PlantUML version 1.2020.13(Sat Jun 13 12:26:38 UTC 2020)\n",
       "(EPL source distribution)\n",
       "Java Runtime: OpenJDK Runtime Environment\n",
       "JVM: OpenJDK 64-Bit Server VM\n",
       "Default Encoding: UTF-8\n",
       "Language: en\n",
       "Country: null\n",
       "--></g></svg>"
      ]
     },
     "execution_count": 13,
     "metadata": {},
     "output_type": "execute_result"
    }
   ],
   "source": [
    "%viz --style=\"POLYLINE\" --view=\"Action\" \"P1\""
   ]
  },
  {
   "cell_type": "code",
   "execution_count": 14,
   "id": "1e3d727d",
   "metadata": {
    "execution": {
     "iopub.execute_input": "2022-03-03T09:58:38.034847Z",
     "iopub.status.busy": "2022-03-03T09:58:38.034426Z",
     "iopub.status.idle": "2022-03-03T09:58:38.041199Z",
     "shell.execute_reply": "2022-03-03T09:58:38.041521Z"
    }
   },
   "outputs": [
    {
     "data": {
      "image/svg+xml": [
       "<?xml version=\"1.0\" encoding=\"UTF-8\" standalone=\"no\"?><svg xmlns=\"http://www.w3.org/2000/svg\" xmlns:xlink=\"http://www.w3.org/1999/xlink\" contentScriptType=\"application/ecmascript\" contentStyleType=\"text/css\" height=\"12px\" preserveAspectRatio=\"none\" style=\"width:12px;height:12px;\" version=\"1.1\" viewBox=\"0 0 12 12\" width=\"12px\" zoomAndPan=\"magnify\"><defs/><g><!--MD5=[dc938048236c351797870c36b62f92ad]\n",
       "@startuml\r\n",
       "skinparam roundcorner 20\r\n",
       "skinparam BoxPadding 20\r\n",
       "skinparam SequenceBoxBackgroundColor #white\r\n",
       "skinparam style strictuml\r\n",
       "skinparam maxMessageSize 100\r\n",
       "skinparam linetype polyline\r\n",
       "skinparam monochrome true\r\n",
       "skinparam classbackgroundcolor white\r\n",
       "skinparam shadowing false\r\n",
       "skinparam wrapWidth 300\r\n",
       "hide circle\r\n",
       "\r\n",
       "@enduml\r\n",
       "\n",
       "PlantUML version 1.2020.13(Sat Jun 13 12:26:38 UTC 2020)\n",
       "(EPL source distribution)\n",
       "Java Runtime: OpenJDK Runtime Environment\n",
       "JVM: OpenJDK 64-Bit Server VM\n",
       "Default Encoding: UTF-8\n",
       "Language: en\n",
       "Country: null\n",
       "--></g></svg>"
      ]
     },
     "execution_count": 14,
     "metadata": {},
     "output_type": "execute_result"
    }
   ],
   "source": [
    "%viz --style=\"POLYLINE\" --view=\"Sequence\" \"P1\""
   ]
  },
  {
   "cell_type": "code",
   "execution_count": 15,
   "id": "2fb78df5",
   "metadata": {
    "execution": {
     "iopub.execute_input": "2022-03-03T09:58:38.091958Z",
     "iopub.status.busy": "2022-03-03T09:58:38.091554Z",
     "iopub.status.idle": "2022-03-03T09:58:38.117386Z",
     "shell.execute_reply": "2022-03-03T09:58:38.117701Z"
    }
   },
   "outputs": [
    {
     "data": {
      "image/svg+xml": [
       "<?xml version=\"1.0\" encoding=\"UTF-8\" standalone=\"no\"?><svg xmlns=\"http://www.w3.org/2000/svg\" xmlns:xlink=\"http://www.w3.org/1999/xlink\" contentScriptType=\"application/ecmascript\" contentStyleType=\"text/css\" height=\"115px\" preserveAspectRatio=\"none\" style=\"width:140px;height:115px;\" version=\"1.1\" viewBox=\"0 0 140 115\" width=\"140px\" zoomAndPan=\"magnify\"><defs/><g><!--MD5=[fbc87193dbaf4d95561dea2c320d4a47]\n",
       "cluster E1--><a href=\"psysml:360ea886-60d8-41b4-b45e-ba2115a877e8\" target=\"_top\" title=\"psysml:360ea886-60d8-41b4-b45e-ba2115a877e8\" xlink:actuate=\"onRequest\" xlink:href=\"psysml:360ea886-60d8-41b4-b45e-ba2115a877e8\" xlink:show=\"new\" xlink:title=\"psysml:360ea886-60d8-41b4-b45e-ba2115a877e8\" xlink:type=\"simple\"><polygon fill=\"#FFFFFF\" points=\"16,6,40,6,47,28.2969,118,28.2969,118,103,16,103,16,6\" style=\"stroke: #000000; stroke-width: 1.5;\"/><line style=\"stroke: #000000; stroke-width: 1.5;\" x1=\"16\" x2=\"47\" y1=\"28.2969\" y2=\"28.2969\"/><text fill=\"#000000\" font-family=\"sans-serif\" font-size=\"14\" font-weight=\"bold\" lengthAdjust=\"spacingAndGlyphs\" textLength=\"18\" x=\"20\" y=\"20.9951\">P1</text></a><!--MD5=[b4997ac47864f28c2f74865a473b2911]\n",
       "class E2--><a href=\"psysml:5d19b8ce-c5dc-4657-818e-bef8d51cb3ed\" target=\"_top\" title=\"psysml:5d19b8ce-c5dc-4657-818e-bef8d51cb3ed\" xlink:actuate=\"onRequest\" xlink:href=\"psysml:5d19b8ce-c5dc-4657-818e-bef8d51cb3ed\" xlink:show=\"new\" xlink:title=\"psysml:5d19b8ce-c5dc-4657-818e-bef8d51cb3ed\" xlink:type=\"simple\"><rect fill=\"#FFFFFF\" height=\"45.9375\" id=\"E2\" style=\"stroke: #383838; stroke-width: 1.5;\" width=\"70\" x=\"32\" y=\"41\"/><text fill=\"#000000\" font-family=\"sans-serif\" font-size=\"12\" font-style=\"italic\" lengthAdjust=\"spacingAndGlyphs\" textLength=\"68\" x=\"33\" y=\"57.1387\">«part  def»</text><text fill=\"#000000\" font-family=\"sans-serif\" font-size=\"12\" lengthAdjust=\"spacingAndGlyphs\" textLength=\"8\" x=\"63\" y=\"71.1074\">A</text><line style=\"stroke: #383838; stroke-width: 1.5;\" x1=\"33\" x2=\"101\" y1=\"78.9375\" y2=\"78.9375\"/></a><!--MD5=[e976a9daa0e944cd2a34552679b05f0f]\n",
       "@startuml\r\n",
       "skinparam linetype polyline\r\n",
       "skinparam monochrome true\r\n",
       "skinparam classbackgroundcolor white\r\n",
       "skinparam shadowing false\r\n",
       "skinparam wrapWidth 300\r\n",
       "hide circle\r\n",
       "\r\n",
       "package \"P1\" as E1  [[psysml:360ea886-60d8-41b4-b45e-ba2115a877e8 ]]  {\r\n",
       "comp def \"A\" as E2  <<(T,blue) part  def>> [[psysml:5d19b8ce-c5dc-4657-818e-bef8d51cb3ed ]] {\r\n",
       "}\r\n",
       "}\r\n",
       "@enduml\r\n",
       "\n",
       "PlantUML version 1.2020.13(Sat Jun 13 12:26:38 UTC 2020)\n",
       "(EPL source distribution)\n",
       "Java Runtime: OpenJDK Runtime Environment\n",
       "JVM: OpenJDK 64-Bit Server VM\n",
       "Default Encoding: UTF-8\n",
       "Language: en\n",
       "Country: null\n",
       "--></g></svg>"
      ]
     },
     "execution_count": 15,
     "metadata": {},
     "output_type": "execute_result"
    }
   ],
   "source": [
    "%viz --style=\"POLYLINE\" --view=\"MIXED\" \"P1\""
   ]
  },
  {
   "cell_type": "code",
   "execution_count": 16,
   "id": "c5051bc7",
   "metadata": {
    "execution": {
     "iopub.execute_input": "2022-03-03T09:58:38.168130Z",
     "iopub.status.busy": "2022-03-03T09:58:38.167719Z",
     "iopub.status.idle": "2022-03-03T09:58:38.192882Z",
     "shell.execute_reply": "2022-03-03T09:58:38.193215Z"
    }
   },
   "outputs": [
    {
     "data": {
      "image/svg+xml": [
       "<?xml version=\"1.0\" encoding=\"UTF-8\" standalone=\"no\"?><svg xmlns=\"http://www.w3.org/2000/svg\" xmlns:xlink=\"http://www.w3.org/1999/xlink\" contentScriptType=\"application/ecmascript\" contentStyleType=\"text/css\" height=\"115px\" preserveAspectRatio=\"none\" style=\"width:140px;height:115px;\" version=\"1.1\" viewBox=\"0 0 140 115\" width=\"140px\" zoomAndPan=\"magnify\"><defs/><g><!--MD5=[fbc87193dbaf4d95561dea2c320d4a47]\n",
       "cluster E1--><a href=\"psysml:360ea886-60d8-41b4-b45e-ba2115a877e8\" target=\"_top\" title=\"psysml:360ea886-60d8-41b4-b45e-ba2115a877e8\" xlink:actuate=\"onRequest\" xlink:href=\"psysml:360ea886-60d8-41b4-b45e-ba2115a877e8\" xlink:show=\"new\" xlink:title=\"psysml:360ea886-60d8-41b4-b45e-ba2115a877e8\" xlink:type=\"simple\"><polygon fill=\"#FFFFFF\" points=\"16,6,40,6,47,28.2969,118,28.2969,118,103,16,103,16,6\" style=\"stroke: #000000; stroke-width: 1.5;\"/><line style=\"stroke: #000000; stroke-width: 1.5;\" x1=\"16\" x2=\"47\" y1=\"28.2969\" y2=\"28.2969\"/><text fill=\"#000000\" font-family=\"sans-serif\" font-size=\"14\" font-weight=\"bold\" lengthAdjust=\"spacingAndGlyphs\" textLength=\"18\" x=\"20\" y=\"20.9951\">P1</text></a><!--MD5=[b4997ac47864f28c2f74865a473b2911]\n",
       "class E2--><a href=\"psysml:5d19b8ce-c5dc-4657-818e-bef8d51cb3ed\" target=\"_top\" title=\"psysml:5d19b8ce-c5dc-4657-818e-bef8d51cb3ed\" xlink:actuate=\"onRequest\" xlink:href=\"psysml:5d19b8ce-c5dc-4657-818e-bef8d51cb3ed\" xlink:show=\"new\" xlink:title=\"psysml:5d19b8ce-c5dc-4657-818e-bef8d51cb3ed\" xlink:type=\"simple\"><rect fill=\"#FFFFFF\" height=\"45.9375\" id=\"E2\" style=\"stroke: #383838; stroke-width: 1.5;\" width=\"70\" x=\"32\" y=\"41\"/><text fill=\"#000000\" font-family=\"sans-serif\" font-size=\"12\" font-style=\"italic\" lengthAdjust=\"spacingAndGlyphs\" textLength=\"68\" x=\"33\" y=\"57.1387\">«part  def»</text><text fill=\"#000000\" font-family=\"sans-serif\" font-size=\"12\" lengthAdjust=\"spacingAndGlyphs\" textLength=\"8\" x=\"63\" y=\"71.1074\">A</text><line style=\"stroke: #383838; stroke-width: 1.5;\" x1=\"33\" x2=\"101\" y1=\"78.9375\" y2=\"78.9375\"/></a><!--MD5=[e87885744c016f1edac1ea642c2e166f]\n",
       "@startuml\r\n",
       "left to right direction\r\n",
       "skinparam monochrome true\r\n",
       "skinparam classbackgroundcolor white\r\n",
       "skinparam shadowing false\r\n",
       "skinparam wrapWidth 300\r\n",
       "hide circle\r\n",
       "\r\n",
       "package \"P1\" as E1  [[psysml:360ea886-60d8-41b4-b45e-ba2115a877e8 ]]  {\r\n",
       "comp def \"A\" as E2  <<(T,blue) part  def>> [[psysml:5d19b8ce-c5dc-4657-818e-bef8d51cb3ed ]] {\r\n",
       "}\r\n",
       "}\r\n",
       "@enduml\r\n",
       "\n",
       "PlantUML version 1.2020.13(Sat Jun 13 12:26:38 UTC 2020)\n",
       "(EPL source distribution)\n",
       "Java Runtime: OpenJDK Runtime Environment\n",
       "JVM: OpenJDK 64-Bit Server VM\n",
       "Default Encoding: UTF-8\n",
       "Language: en\n",
       "Country: null\n",
       "--></g></svg>"
      ]
     },
     "execution_count": 16,
     "metadata": {},
     "output_type": "execute_result"
    }
   ],
   "source": [
    "%viz --style=\"LR\" --view=\"Default\" \"P1\""
   ]
  },
  {
   "cell_type": "code",
   "execution_count": 17,
   "id": "4c0b29b6",
   "metadata": {
    "execution": {
     "iopub.execute_input": "2022-03-03T09:58:38.243443Z",
     "iopub.status.busy": "2022-03-03T09:58:38.242984Z",
     "iopub.status.idle": "2022-03-03T09:58:38.268225Z",
     "shell.execute_reply": "2022-03-03T09:58:38.268542Z"
    }
   },
   "outputs": [
    {
     "data": {
      "image/svg+xml": [
       "<?xml version=\"1.0\" encoding=\"UTF-8\" standalone=\"no\"?><svg xmlns=\"http://www.w3.org/2000/svg\" xmlns:xlink=\"http://www.w3.org/1999/xlink\" contentScriptType=\"application/ecmascript\" contentStyleType=\"text/css\" height=\"115px\" preserveAspectRatio=\"none\" style=\"width:140px;height:115px;\" version=\"1.1\" viewBox=\"0 0 140 115\" width=\"140px\" zoomAndPan=\"magnify\"><defs/><g><!--MD5=[fbc87193dbaf4d95561dea2c320d4a47]\n",
       "cluster E1--><a href=\"psysml:360ea886-60d8-41b4-b45e-ba2115a877e8\" target=\"_top\" title=\"psysml:360ea886-60d8-41b4-b45e-ba2115a877e8\" xlink:actuate=\"onRequest\" xlink:href=\"psysml:360ea886-60d8-41b4-b45e-ba2115a877e8\" xlink:show=\"new\" xlink:title=\"psysml:360ea886-60d8-41b4-b45e-ba2115a877e8\" xlink:type=\"simple\"><polygon fill=\"#FFFFFF\" points=\"16,6,40,6,47,28.2969,118,28.2969,118,103,16,103,16,6\" style=\"stroke: #000000; stroke-width: 1.5;\"/><line style=\"stroke: #000000; stroke-width: 1.5;\" x1=\"16\" x2=\"47\" y1=\"28.2969\" y2=\"28.2969\"/><text fill=\"#000000\" font-family=\"sans-serif\" font-size=\"14\" font-weight=\"bold\" lengthAdjust=\"spacingAndGlyphs\" textLength=\"18\" x=\"20\" y=\"20.9951\">P1</text></a><!--MD5=[b4997ac47864f28c2f74865a473b2911]\n",
       "class E2--><a href=\"psysml:5d19b8ce-c5dc-4657-818e-bef8d51cb3ed\" target=\"_top\" title=\"psysml:5d19b8ce-c5dc-4657-818e-bef8d51cb3ed\" xlink:actuate=\"onRequest\" xlink:href=\"psysml:5d19b8ce-c5dc-4657-818e-bef8d51cb3ed\" xlink:show=\"new\" xlink:title=\"psysml:5d19b8ce-c5dc-4657-818e-bef8d51cb3ed\" xlink:type=\"simple\"><rect fill=\"#FFFFFF\" height=\"45.9375\" id=\"E2\" style=\"stroke: #383838; stroke-width: 1.5;\" width=\"70\" x=\"32\" y=\"41\"/><text fill=\"#000000\" font-family=\"sans-serif\" font-size=\"12\" font-style=\"italic\" lengthAdjust=\"spacingAndGlyphs\" textLength=\"68\" x=\"33\" y=\"57.1387\">«part  def»</text><text fill=\"#000000\" font-family=\"sans-serif\" font-size=\"12\" lengthAdjust=\"spacingAndGlyphs\" textLength=\"8\" x=\"63\" y=\"71.1074\">A</text><line style=\"stroke: #383838; stroke-width: 1.5;\" x1=\"33\" x2=\"101\" y1=\"78.9375\" y2=\"78.9375\"/></a><!--MD5=[e87885744c016f1edac1ea642c2e166f]\n",
       "@startuml\r\n",
       "left to right direction\r\n",
       "skinparam monochrome true\r\n",
       "skinparam classbackgroundcolor white\r\n",
       "skinparam shadowing false\r\n",
       "skinparam wrapWidth 300\r\n",
       "hide circle\r\n",
       "\r\n",
       "package \"P1\" as E1  [[psysml:360ea886-60d8-41b4-b45e-ba2115a877e8 ]]  {\r\n",
       "comp def \"A\" as E2  <<(T,blue) part  def>> [[psysml:5d19b8ce-c5dc-4657-818e-bef8d51cb3ed ]] {\r\n",
       "}\r\n",
       "}\r\n",
       "@enduml\r\n",
       "\n",
       "PlantUML version 1.2020.13(Sat Jun 13 12:26:38 UTC 2020)\n",
       "(EPL source distribution)\n",
       "Java Runtime: OpenJDK Runtime Environment\n",
       "JVM: OpenJDK 64-Bit Server VM\n",
       "Default Encoding: UTF-8\n",
       "Language: en\n",
       "Country: null\n",
       "--></g></svg>"
      ]
     },
     "execution_count": 17,
     "metadata": {},
     "output_type": "execute_result"
    }
   ],
   "source": [
    "%viz --style=\"LR\" --view=\"Tree\" \"P1\""
   ]
  },
  {
   "cell_type": "code",
   "execution_count": 18,
   "id": "38ffcb41",
   "metadata": {
    "execution": {
     "iopub.execute_input": "2022-03-03T09:58:38.318366Z",
     "iopub.status.busy": "2022-03-03T09:58:38.317966Z",
     "iopub.status.idle": "2022-03-03T09:58:38.322999Z",
     "shell.execute_reply": "2022-03-03T09:58:38.323311Z"
    }
   },
   "outputs": [
    {
     "data": {
      "image/svg+xml": [
       "<?xml version=\"1.0\" encoding=\"UTF-8\" standalone=\"no\"?><svg xmlns=\"http://www.w3.org/2000/svg\" xmlns:xlink=\"http://www.w3.org/1999/xlink\" contentScriptType=\"application/ecmascript\" contentStyleType=\"text/css\" height=\"12px\" preserveAspectRatio=\"none\" style=\"width:12px;height:12px;\" version=\"1.1\" viewBox=\"0 0 12 12\" width=\"12px\" zoomAndPan=\"magnify\"><defs/><g><!--MD5=[19d285c9d72a204eba4e2cd117d745e8]\n",
       "@startuml\r\n",
       "left to right direction\r\n",
       "skinparam monochrome true\r\n",
       "skinparam classbackgroundcolor white\r\n",
       "skinparam shadowing false\r\n",
       "skinparam wrapWidth 300\r\n",
       "hide circle\r\n",
       "\r\n",
       "@enduml\r\n",
       "\n",
       "PlantUML version 1.2020.13(Sat Jun 13 12:26:38 UTC 2020)\n",
       "(EPL source distribution)\n",
       "Java Runtime: OpenJDK Runtime Environment\n",
       "JVM: OpenJDK 64-Bit Server VM\n",
       "Default Encoding: UTF-8\n",
       "Language: en\n",
       "Country: null\n",
       "--></g></svg>"
      ]
     },
     "execution_count": 18,
     "metadata": {},
     "output_type": "execute_result"
    }
   ],
   "source": [
    "%viz --style=\"LR\" --view=\"State\" \"P1\""
   ]
  },
  {
   "cell_type": "code",
   "execution_count": 19,
   "id": "0ff2c927",
   "metadata": {
    "execution": {
     "iopub.execute_input": "2022-03-03T09:58:38.373702Z",
     "iopub.status.busy": "2022-03-03T09:58:38.373298Z",
     "iopub.status.idle": "2022-03-03T09:58:38.397737Z",
     "shell.execute_reply": "2022-03-03T09:58:38.398053Z"
    }
   },
   "outputs": [
    {
     "data": {
      "image/svg+xml": [
       "<?xml version=\"1.0\" encoding=\"UTF-8\" standalone=\"no\"?><svg xmlns=\"http://www.w3.org/2000/svg\" xmlns:xlink=\"http://www.w3.org/1999/xlink\" contentScriptType=\"application/ecmascript\" contentStyleType=\"text/css\" height=\"113px\" preserveAspectRatio=\"none\" style=\"width:145px;height:113px;\" version=\"1.1\" viewBox=\"0 0 145 113\" width=\"145px\" zoomAndPan=\"magnify\"><defs/><g><!--MD5=[fbc87193dbaf4d95561dea2c320d4a47]\n",
       "cluster E1--><a href=\"psysml:360ea886-60d8-41b4-b45e-ba2115a877e8\" target=\"_top\" title=\"psysml:360ea886-60d8-41b4-b45e-ba2115a877e8\" xlink:actuate=\"onRequest\" xlink:href=\"psysml:360ea886-60d8-41b4-b45e-ba2115a877e8\" xlink:show=\"new\" xlink:title=\"psysml:360ea886-60d8-41b4-b45e-ba2115a877e8\" xlink:type=\"simple\"><polygon fill=\"#FFFFFF\" points=\"16,6,40,6,47,28.2969,123,28.2969,123,101,16,101,16,6\" style=\"stroke: #000000; stroke-width: 1.5;\"/><line style=\"stroke: #000000; stroke-width: 1.5;\" x1=\"16\" x2=\"47\" y1=\"28.2969\" y2=\"28.2969\"/><text fill=\"#000000\" font-family=\"sans-serif\" font-size=\"14\" font-weight=\"bold\" lengthAdjust=\"spacingAndGlyphs\" textLength=\"18\" x=\"20\" y=\"20.9951\">P1</text></a><g id=\"E1.E2\"><a href=\"psysml:5d19b8ce-c5dc-4657-818e-bef8d51cb3ed\" target=\"_top\" title=\"psysml:5d19b8ce-c5dc-4657-818e-bef8d51cb3ed\" xlink:actuate=\"onRequest\" xlink:href=\"psysml:5d19b8ce-c5dc-4657-818e-bef8d51cb3ed\" xlink:show=\"new\" xlink:title=\"psysml:5d19b8ce-c5dc-4657-818e-bef8d51cb3ed\" xlink:type=\"simple\"><rect fill=\"#FFFFFF\" height=\"42.9375\" id=\"E2\" style=\"stroke: #383838; stroke-width: 1.5;\" width=\"75\" x=\"32\" y=\"41.5\"/><rect fill=\"#F8F8F8\" height=\"37.9375\" style=\"stroke: #383838; stroke-width: 1.5;\" width=\"75\" x=\"32\" y=\"41.5\"/><text fill=\"#000000\" font-family=\"sans-serif\" font-size=\"12\" font-style=\"italic\" lengthAdjust=\"spacingAndGlyphs\" textLength=\"68\" x=\"35.5\" y=\"57.6387\">«part  def»</text><text fill=\"#000000\" font-family=\"sans-serif\" font-size=\"12\" lengthAdjust=\"spacingAndGlyphs\" textLength=\"8\" x=\"65.5\" y=\"71.6074\">A</text></a></g><!--MD5=[79eecfdc8c886763c0eacce319824e81]\n",
       "@startuml\r\n",
       "skinparam ranksep 10\r\n",
       "skinparam rectangle {\r\n",
       " backgroundColor<<block>> LightGreen\r\n",
       "}\r\n",
       "left to right direction\r\n",
       "skinparam monochrome true\r\n",
       "skinparam classbackgroundcolor white\r\n",
       "skinparam shadowing false\r\n",
       "skinparam wrapWidth 300\r\n",
       "hide circle\r\n",
       "\r\n",
       "package \"P1\" as E1  [[psysml:360ea886-60d8-41b4-b45e-ba2115a877e8 ]]  {\r\n",
       "rec def \"A\" as E2  <<(T,blue) part  def>> [[psysml:5d19b8ce-c5dc-4657-818e-bef8d51cb3ed ]] {\r\n",
       "}\r\n",
       "}\r\n",
       "@enduml\r\n",
       "\n",
       "PlantUML version 1.2020.13(Sat Jun 13 12:26:38 UTC 2020)\n",
       "(EPL source distribution)\n",
       "Java Runtime: OpenJDK Runtime Environment\n",
       "JVM: OpenJDK 64-Bit Server VM\n",
       "Default Encoding: UTF-8\n",
       "Language: en\n",
       "Country: null\n",
       "--></g></svg>"
      ]
     },
     "execution_count": 19,
     "metadata": {},
     "output_type": "execute_result"
    }
   ],
   "source": [
    "%viz --style=\"LR\" --view=\"Interconnection\" \"P1\""
   ]
  },
  {
   "cell_type": "code",
   "execution_count": 20,
   "id": "0c143cbd",
   "metadata": {
    "execution": {
     "iopub.execute_input": "2022-03-03T09:58:38.448073Z",
     "iopub.status.busy": "2022-03-03T09:58:38.447671Z",
     "iopub.status.idle": "2022-03-03T09:58:38.453194Z",
     "shell.execute_reply": "2022-03-03T09:58:38.453485Z"
    }
   },
   "outputs": [
    {
     "data": {
      "image/svg+xml": [
       "<?xml version=\"1.0\" encoding=\"UTF-8\" standalone=\"no\"?><svg xmlns=\"http://www.w3.org/2000/svg\" xmlns:xlink=\"http://www.w3.org/1999/xlink\" contentScriptType=\"application/ecmascript\" contentStyleType=\"text/css\" height=\"12px\" preserveAspectRatio=\"none\" style=\"width:12px;height:12px;\" version=\"1.1\" viewBox=\"0 0 12 12\" width=\"12px\" zoomAndPan=\"magnify\"><defs/><g><!--MD5=[7aeb398939421629f6affaa4a1a7b125]\n",
       "@startuml\r\n",
       "skinparam ranksep 8\r\n",
       "left to right direction\r\n",
       "skinparam monochrome true\r\n",
       "skinparam classbackgroundcolor white\r\n",
       "skinparam shadowing false\r\n",
       "skinparam wrapWidth 300\r\n",
       "hide circle\r\n",
       "\r\n",
       "@enduml\r\n",
       "\n",
       "PlantUML version 1.2020.13(Sat Jun 13 12:26:38 UTC 2020)\n",
       "(EPL source distribution)\n",
       "Java Runtime: OpenJDK Runtime Environment\n",
       "JVM: OpenJDK 64-Bit Server VM\n",
       "Default Encoding: UTF-8\n",
       "Language: en\n",
       "Country: null\n",
       "--></g></svg>"
      ]
     },
     "execution_count": 20,
     "metadata": {},
     "output_type": "execute_result"
    }
   ],
   "source": [
    "%viz --style=\"LR\" --view=\"Action\" \"P1\""
   ]
  },
  {
   "cell_type": "code",
   "execution_count": 21,
   "id": "4e6a598d",
   "metadata": {
    "execution": {
     "iopub.execute_input": "2022-03-03T09:58:38.504374Z",
     "iopub.status.busy": "2022-03-03T09:58:38.503938Z",
     "iopub.status.idle": "2022-03-03T09:58:38.510596Z",
     "shell.execute_reply": "2022-03-03T09:58:38.510911Z"
    }
   },
   "outputs": [
    {
     "data": {
      "image/svg+xml": [
       "<?xml version=\"1.0\" encoding=\"UTF-8\" standalone=\"no\"?><svg xmlns=\"http://www.w3.org/2000/svg\" xmlns:xlink=\"http://www.w3.org/1999/xlink\" contentScriptType=\"application/ecmascript\" contentStyleType=\"text/css\" height=\"12px\" preserveAspectRatio=\"none\" style=\"width:12px;height:12px;\" version=\"1.1\" viewBox=\"0 0 12 12\" width=\"12px\" zoomAndPan=\"magnify\"><defs/><g><!--MD5=[238c11ea2002f03115ad6b49a457d50e]\n",
       "@startuml\r\n",
       "skinparam roundcorner 20\r\n",
       "skinparam BoxPadding 20\r\n",
       "skinparam SequenceBoxBackgroundColor #white\r\n",
       "skinparam style strictuml\r\n",
       "skinparam maxMessageSize 100\r\n",
       "left to right direction\r\n",
       "skinparam monochrome true\r\n",
       "skinparam classbackgroundcolor white\r\n",
       "skinparam shadowing false\r\n",
       "skinparam wrapWidth 300\r\n",
       "hide circle\r\n",
       "\r\n",
       "@enduml\r\n",
       "\n",
       "PlantUML version 1.2020.13(Sat Jun 13 12:26:38 UTC 2020)\n",
       "(EPL source distribution)\n",
       "Java Runtime: OpenJDK Runtime Environment\n",
       "JVM: OpenJDK 64-Bit Server VM\n",
       "Default Encoding: UTF-8\n",
       "Language: en\n",
       "Country: null\n",
       "--></g></svg>"
      ]
     },
     "execution_count": 21,
     "metadata": {},
     "output_type": "execute_result"
    }
   ],
   "source": [
    "%viz --style=\"LR\" --view=\"Sequence\" \"P1\""
   ]
  },
  {
   "cell_type": "code",
   "execution_count": 22,
   "id": "157c32ec",
   "metadata": {
    "execution": {
     "iopub.execute_input": "2022-03-03T09:58:38.561483Z",
     "iopub.status.busy": "2022-03-03T09:58:38.561051Z",
     "iopub.status.idle": "2022-03-03T09:58:38.597331Z",
     "shell.execute_reply": "2022-03-03T09:58:38.596908Z"
    }
   },
   "outputs": [
    {
     "data": {
      "image/svg+xml": [
       "<?xml version=\"1.0\" encoding=\"UTF-8\" standalone=\"no\"?><svg xmlns=\"http://www.w3.org/2000/svg\" xmlns:xlink=\"http://www.w3.org/1999/xlink\" contentScriptType=\"application/ecmascript\" contentStyleType=\"text/css\" height=\"115px\" preserveAspectRatio=\"none\" style=\"width:140px;height:115px;\" version=\"1.1\" viewBox=\"0 0 140 115\" width=\"140px\" zoomAndPan=\"magnify\"><defs/><g><!--MD5=[fbc87193dbaf4d95561dea2c320d4a47]\n",
       "cluster E1--><a href=\"psysml:360ea886-60d8-41b4-b45e-ba2115a877e8\" target=\"_top\" title=\"psysml:360ea886-60d8-41b4-b45e-ba2115a877e8\" xlink:actuate=\"onRequest\" xlink:href=\"psysml:360ea886-60d8-41b4-b45e-ba2115a877e8\" xlink:show=\"new\" xlink:title=\"psysml:360ea886-60d8-41b4-b45e-ba2115a877e8\" xlink:type=\"simple\"><polygon fill=\"#FFFFFF\" points=\"16,6,40,6,47,28.2969,118,28.2969,118,103,16,103,16,6\" style=\"stroke: #000000; stroke-width: 1.5;\"/><line style=\"stroke: #000000; stroke-width: 1.5;\" x1=\"16\" x2=\"47\" y1=\"28.2969\" y2=\"28.2969\"/><text fill=\"#000000\" font-family=\"sans-serif\" font-size=\"14\" font-weight=\"bold\" lengthAdjust=\"spacingAndGlyphs\" textLength=\"18\" x=\"20\" y=\"20.9951\">P1</text></a><!--MD5=[b4997ac47864f28c2f74865a473b2911]\n",
       "class E2--><a href=\"psysml:5d19b8ce-c5dc-4657-818e-bef8d51cb3ed\" target=\"_top\" title=\"psysml:5d19b8ce-c5dc-4657-818e-bef8d51cb3ed\" xlink:actuate=\"onRequest\" xlink:href=\"psysml:5d19b8ce-c5dc-4657-818e-bef8d51cb3ed\" xlink:show=\"new\" xlink:title=\"psysml:5d19b8ce-c5dc-4657-818e-bef8d51cb3ed\" xlink:type=\"simple\"><rect fill=\"#FFFFFF\" height=\"45.9375\" id=\"E2\" style=\"stroke: #383838; stroke-width: 1.5;\" width=\"70\" x=\"32\" y=\"41\"/><text fill=\"#000000\" font-family=\"sans-serif\" font-size=\"12\" font-style=\"italic\" lengthAdjust=\"spacingAndGlyphs\" textLength=\"68\" x=\"33\" y=\"57.1387\">«part  def»</text><text fill=\"#000000\" font-family=\"sans-serif\" font-size=\"12\" lengthAdjust=\"spacingAndGlyphs\" textLength=\"8\" x=\"63\" y=\"71.1074\">A</text><line style=\"stroke: #383838; stroke-width: 1.5;\" x1=\"33\" x2=\"101\" y1=\"78.9375\" y2=\"78.9375\"/></a><!--MD5=[e87885744c016f1edac1ea642c2e166f]\n",
       "@startuml\r\n",
       "left to right direction\r\n",
       "skinparam monochrome true\r\n",
       "skinparam classbackgroundcolor white\r\n",
       "skinparam shadowing false\r\n",
       "skinparam wrapWidth 300\r\n",
       "hide circle\r\n",
       "\r\n",
       "package \"P1\" as E1  [[psysml:360ea886-60d8-41b4-b45e-ba2115a877e8 ]]  {\r\n",
       "comp def \"A\" as E2  <<(T,blue) part  def>> [[psysml:5d19b8ce-c5dc-4657-818e-bef8d51cb3ed ]] {\r\n",
       "}\r\n",
       "}\r\n",
       "@enduml\r\n",
       "\n",
       "PlantUML version 1.2020.13(Sat Jun 13 12:26:38 UTC 2020)\n",
       "(EPL source distribution)\n",
       "Java Runtime: OpenJDK Runtime Environment\n",
       "JVM: OpenJDK 64-Bit Server VM\n",
       "Default Encoding: UTF-8\n",
       "Language: en\n",
       "Country: null\n",
       "--></g></svg>"
      ]
     },
     "execution_count": 22,
     "metadata": {},
     "output_type": "execute_result"
    }
   ],
   "source": [
    "%viz --style=\"LR\" --view=\"MIXED\" \"P1\""
   ]
  },
  {
   "cell_type": "code",
   "execution_count": 23,
   "id": "99e321b0",
   "metadata": {
    "execution": {
     "iopub.execute_input": "2022-03-03T09:58:38.647085Z",
     "iopub.status.busy": "2022-03-03T09:58:38.646641Z",
     "iopub.status.idle": "2022-03-03T09:58:38.665122Z",
     "shell.execute_reply": "2022-03-03T09:58:38.664780Z"
    }
   },
   "outputs": [
    {
     "data": {
      "image/svg+xml": [
       "<?xml version=\"1.0\" encoding=\"UTF-8\" standalone=\"no\"?><svg xmlns=\"http://www.w3.org/2000/svg\" xmlns:xlink=\"http://www.w3.org/1999/xlink\" contentScriptType=\"application/ecmascript\" contentStyleType=\"text/css\" height=\"115px\" preserveAspectRatio=\"none\" style=\"width:140px;height:115px;\" version=\"1.1\" viewBox=\"0 0 140 115\" width=\"140px\" zoomAndPan=\"magnify\"><defs><filter height=\"300%\" id=\"f70jv80a669ew\" width=\"300%\" x=\"-1\" y=\"-1\"><feGaussianBlur result=\"blurOut\" stdDeviation=\"2.0\"/><feColorMatrix in=\"blurOut\" result=\"blurOut2\" type=\"matrix\" values=\"0 0 0 0 0 0 0 0 0 0 0 0 0 0 0 0 0 0 .4 0\"/><feOffset dx=\"4.0\" dy=\"4.0\" in=\"blurOut2\" result=\"blurOut3\"/><feBlend in=\"SourceGraphic\" in2=\"blurOut3\" mode=\"normal\"/></filter></defs><g><!--MD5=[fbc87193dbaf4d95561dea2c320d4a47]\n",
       "cluster E1--><a href=\"psysml:360ea886-60d8-41b4-b45e-ba2115a877e8\" target=\"_top\" title=\"psysml:360ea886-60d8-41b4-b45e-ba2115a877e8\" xlink:actuate=\"onRequest\" xlink:href=\"psysml:360ea886-60d8-41b4-b45e-ba2115a877e8\" xlink:show=\"new\" xlink:title=\"psysml:360ea886-60d8-41b4-b45e-ba2115a877e8\" xlink:type=\"simple\"><polygon fill=\"#FFFFFF\" filter=\"url(#f70jv80a669ew)\" points=\"16,6,40,6,47,28.2969,118,28.2969,118,103,16,103,16,6\" style=\"stroke: #000000; stroke-width: 1.5;\"/><line style=\"stroke: #000000; stroke-width: 1.5;\" x1=\"16\" x2=\"47\" y1=\"28.2969\" y2=\"28.2969\"/><text fill=\"#000000\" font-family=\"sans-serif\" font-size=\"14\" font-weight=\"bold\" lengthAdjust=\"spacingAndGlyphs\" textLength=\"18\" x=\"20\" y=\"20.9951\">P1</text></a><!--MD5=[b4997ac47864f28c2f74865a473b2911]\n",
       "class E2--><a href=\"psysml:5d19b8ce-c5dc-4657-818e-bef8d51cb3ed\" target=\"_top\" title=\"psysml:5d19b8ce-c5dc-4657-818e-bef8d51cb3ed\" xlink:actuate=\"onRequest\" xlink:href=\"psysml:5d19b8ce-c5dc-4657-818e-bef8d51cb3ed\" xlink:show=\"new\" xlink:title=\"psysml:5d19b8ce-c5dc-4657-818e-bef8d51cb3ed\" xlink:type=\"simple\"><rect fill=\"#FEFECE\" filter=\"url(#f70jv80a669ew)\" height=\"45.9375\" id=\"E2\" style=\"stroke: #A80036; stroke-width: 1.5;\" width=\"70\" x=\"32\" y=\"41\"/><text fill=\"#000000\" font-family=\"sans-serif\" font-size=\"12\" font-style=\"italic\" lengthAdjust=\"spacingAndGlyphs\" textLength=\"68\" x=\"33\" y=\"57.1387\">«part  def»</text><text fill=\"#000000\" font-family=\"sans-serif\" font-size=\"12\" lengthAdjust=\"spacingAndGlyphs\" textLength=\"8\" x=\"63\" y=\"71.1074\">A</text><line style=\"stroke: #A80036; stroke-width: 1.5;\" x1=\"33\" x2=\"101\" y1=\"78.9375\" y2=\"78.9375\"/></a><!--MD5=[32843f30fc76010aa215df64c898769c]\n",
       "@startuml\r\n",
       "skinparam wrapWidth 300\r\n",
       "hide circle\r\n",
       "\r\n",
       "package \"P1\" as E1  [[psysml:360ea886-60d8-41b4-b45e-ba2115a877e8 ]]  {\r\n",
       "comp def \"A\" as E2  <<(T,blue) part  def>> [[psysml:5d19b8ce-c5dc-4657-818e-bef8d51cb3ed ]] {\r\n",
       "}\r\n",
       "}\r\n",
       "@enduml\r\n",
       "\n",
       "PlantUML version 1.2020.13(Sat Jun 13 12:26:38 UTC 2020)\n",
       "(EPL source distribution)\n",
       "Java Runtime: OpenJDK Runtime Environment\n",
       "JVM: OpenJDK 64-Bit Server VM\n",
       "Default Encoding: UTF-8\n",
       "Language: en\n",
       "Country: null\n",
       "--></g></svg>"
      ]
     },
     "execution_count": 23,
     "metadata": {},
     "output_type": "execute_result"
    }
   ],
   "source": [
    "%viz --style=\"STDCOLOR\" --view=\"Default\" \"P1\""
   ]
  },
  {
   "cell_type": "code",
   "execution_count": 24,
   "id": "be2bf293",
   "metadata": {
    "execution": {
     "iopub.execute_input": "2022-03-03T09:58:38.715223Z",
     "iopub.status.busy": "2022-03-03T09:58:38.714750Z",
     "iopub.status.idle": "2022-03-03T09:58:38.738264Z",
     "shell.execute_reply": "2022-03-03T09:58:38.737921Z"
    }
   },
   "outputs": [
    {
     "data": {
      "image/svg+xml": [
       "<?xml version=\"1.0\" encoding=\"UTF-8\" standalone=\"no\"?><svg xmlns=\"http://www.w3.org/2000/svg\" xmlns:xlink=\"http://www.w3.org/1999/xlink\" contentScriptType=\"application/ecmascript\" contentStyleType=\"text/css\" height=\"115px\" preserveAspectRatio=\"none\" style=\"width:140px;height:115px;\" version=\"1.1\" viewBox=\"0 0 140 115\" width=\"140px\" zoomAndPan=\"magnify\"><defs><filter height=\"300%\" id=\"f70jv80a669ew\" width=\"300%\" x=\"-1\" y=\"-1\"><feGaussianBlur result=\"blurOut\" stdDeviation=\"2.0\"/><feColorMatrix in=\"blurOut\" result=\"blurOut2\" type=\"matrix\" values=\"0 0 0 0 0 0 0 0 0 0 0 0 0 0 0 0 0 0 .4 0\"/><feOffset dx=\"4.0\" dy=\"4.0\" in=\"blurOut2\" result=\"blurOut3\"/><feBlend in=\"SourceGraphic\" in2=\"blurOut3\" mode=\"normal\"/></filter></defs><g><!--MD5=[fbc87193dbaf4d95561dea2c320d4a47]\n",
       "cluster E1--><a href=\"psysml:360ea886-60d8-41b4-b45e-ba2115a877e8\" target=\"_top\" title=\"psysml:360ea886-60d8-41b4-b45e-ba2115a877e8\" xlink:actuate=\"onRequest\" xlink:href=\"psysml:360ea886-60d8-41b4-b45e-ba2115a877e8\" xlink:show=\"new\" xlink:title=\"psysml:360ea886-60d8-41b4-b45e-ba2115a877e8\" xlink:type=\"simple\"><polygon fill=\"#FFFFFF\" filter=\"url(#f70jv80a669ew)\" points=\"16,6,40,6,47,28.2969,118,28.2969,118,103,16,103,16,6\" style=\"stroke: #000000; stroke-width: 1.5;\"/><line style=\"stroke: #000000; stroke-width: 1.5;\" x1=\"16\" x2=\"47\" y1=\"28.2969\" y2=\"28.2969\"/><text fill=\"#000000\" font-family=\"sans-serif\" font-size=\"14\" font-weight=\"bold\" lengthAdjust=\"spacingAndGlyphs\" textLength=\"18\" x=\"20\" y=\"20.9951\">P1</text></a><!--MD5=[b4997ac47864f28c2f74865a473b2911]\n",
       "class E2--><a href=\"psysml:5d19b8ce-c5dc-4657-818e-bef8d51cb3ed\" target=\"_top\" title=\"psysml:5d19b8ce-c5dc-4657-818e-bef8d51cb3ed\" xlink:actuate=\"onRequest\" xlink:href=\"psysml:5d19b8ce-c5dc-4657-818e-bef8d51cb3ed\" xlink:show=\"new\" xlink:title=\"psysml:5d19b8ce-c5dc-4657-818e-bef8d51cb3ed\" xlink:type=\"simple\"><rect fill=\"#FEFECE\" filter=\"url(#f70jv80a669ew)\" height=\"45.9375\" id=\"E2\" style=\"stroke: #A80036; stroke-width: 1.5;\" width=\"70\" x=\"32\" y=\"41\"/><text fill=\"#000000\" font-family=\"sans-serif\" font-size=\"12\" font-style=\"italic\" lengthAdjust=\"spacingAndGlyphs\" textLength=\"68\" x=\"33\" y=\"57.1387\">«part  def»</text><text fill=\"#000000\" font-family=\"sans-serif\" font-size=\"12\" lengthAdjust=\"spacingAndGlyphs\" textLength=\"8\" x=\"63\" y=\"71.1074\">A</text><line style=\"stroke: #A80036; stroke-width: 1.5;\" x1=\"33\" x2=\"101\" y1=\"78.9375\" y2=\"78.9375\"/></a><!--MD5=[32843f30fc76010aa215df64c898769c]\n",
       "@startuml\r\n",
       "skinparam wrapWidth 300\r\n",
       "hide circle\r\n",
       "\r\n",
       "package \"P1\" as E1  [[psysml:360ea886-60d8-41b4-b45e-ba2115a877e8 ]]  {\r\n",
       "comp def \"A\" as E2  <<(T,blue) part  def>> [[psysml:5d19b8ce-c5dc-4657-818e-bef8d51cb3ed ]] {\r\n",
       "}\r\n",
       "}\r\n",
       "@enduml\r\n",
       "\n",
       "PlantUML version 1.2020.13(Sat Jun 13 12:26:38 UTC 2020)\n",
       "(EPL source distribution)\n",
       "Java Runtime: OpenJDK Runtime Environment\n",
       "JVM: OpenJDK 64-Bit Server VM\n",
       "Default Encoding: UTF-8\n",
       "Language: en\n",
       "Country: null\n",
       "--></g></svg>"
      ]
     },
     "execution_count": 24,
     "metadata": {},
     "output_type": "execute_result"
    }
   ],
   "source": [
    "%viz --style=\"STDCOLOR\" --view=\"Tree\" \"P1\""
   ]
  },
  {
   "cell_type": "code",
   "execution_count": 25,
   "id": "6ef8c36f",
   "metadata": {
    "execution": {
     "iopub.execute_input": "2022-03-03T09:58:38.788185Z",
     "iopub.status.busy": "2022-03-03T09:58:38.787780Z",
     "iopub.status.idle": "2022-03-03T09:58:38.792480Z",
     "shell.execute_reply": "2022-03-03T09:58:38.792772Z"
    }
   },
   "outputs": [
    {
     "data": {
      "image/svg+xml": [
       "<?xml version=\"1.0\" encoding=\"UTF-8\" standalone=\"no\"?><svg xmlns=\"http://www.w3.org/2000/svg\" xmlns:xlink=\"http://www.w3.org/1999/xlink\" contentScriptType=\"application/ecmascript\" contentStyleType=\"text/css\" height=\"12px\" preserveAspectRatio=\"none\" style=\"width:12px;height:12px;\" version=\"1.1\" viewBox=\"0 0 12 12\" width=\"12px\" zoomAndPan=\"magnify\"><defs/><g><!--MD5=[aeeef50f102b80d730deb6443d14f702]\n",
       "@startuml\r\n",
       "skinparam wrapWidth 300\r\n",
       "hide circle\r\n",
       "\r\n",
       "@enduml\r\n",
       "\n",
       "PlantUML version 1.2020.13(Sat Jun 13 12:26:38 UTC 2020)\n",
       "(EPL source distribution)\n",
       "Java Runtime: OpenJDK Runtime Environment\n",
       "JVM: OpenJDK 64-Bit Server VM\n",
       "Default Encoding: UTF-8\n",
       "Language: en\n",
       "Country: null\n",
       "--></g></svg>"
      ]
     },
     "execution_count": 25,
     "metadata": {},
     "output_type": "execute_result"
    }
   ],
   "source": [
    "%viz --style=\"STDCOLOR\" --view=\"State\" \"P1\""
   ]
  },
  {
   "cell_type": "code",
   "execution_count": 26,
   "id": "25fb4253",
   "metadata": {
    "execution": {
     "iopub.execute_input": "2022-03-03T09:58:38.842837Z",
     "iopub.status.busy": "2022-03-03T09:58:38.842424Z",
     "iopub.status.idle": "2022-03-03T09:58:38.864461Z",
     "shell.execute_reply": "2022-03-03T09:58:38.864774Z"
    }
   },
   "outputs": [
    {
     "data": {
      "image/svg+xml": [
       "<?xml version=\"1.0\" encoding=\"UTF-8\" standalone=\"no\"?><svg xmlns=\"http://www.w3.org/2000/svg\" xmlns:xlink=\"http://www.w3.org/1999/xlink\" contentScriptType=\"application/ecmascript\" contentStyleType=\"text/css\" height=\"112px\" preserveAspectRatio=\"none\" style=\"width:144px;height:112px;\" version=\"1.1\" viewBox=\"0 0 144 112\" width=\"144px\" zoomAndPan=\"magnify\"><defs><filter height=\"300%\" id=\"fqkn3go2jbb3a\" width=\"300%\" x=\"-1\" y=\"-1\"><feGaussianBlur result=\"blurOut\" stdDeviation=\"2.0\"/><feColorMatrix in=\"blurOut\" result=\"blurOut2\" type=\"matrix\" values=\"0 0 0 0 0 0 0 0 0 0 0 0 0 0 0 0 0 0 .4 0\"/><feOffset dx=\"4.0\" dy=\"4.0\" in=\"blurOut2\" result=\"blurOut3\"/><feBlend in=\"SourceGraphic\" in2=\"blurOut3\" mode=\"normal\"/></filter></defs><g><!--MD5=[fbc87193dbaf4d95561dea2c320d4a47]\n",
       "cluster E1--><a href=\"psysml:360ea886-60d8-41b4-b45e-ba2115a877e8\" target=\"_top\" title=\"psysml:360ea886-60d8-41b4-b45e-ba2115a877e8\" xlink:actuate=\"onRequest\" xlink:href=\"psysml:360ea886-60d8-41b4-b45e-ba2115a877e8\" xlink:show=\"new\" xlink:title=\"psysml:360ea886-60d8-41b4-b45e-ba2115a877e8\" xlink:type=\"simple\"><polygon fill=\"#FFFFFF\" filter=\"url(#fqkn3go2jbb3a)\" points=\"16,6,40,6,47,28.2969,122,28.2969,122,100,16,100,16,6\" style=\"stroke: #000000; stroke-width: 1.5;\"/><line style=\"stroke: #000000; stroke-width: 1.5;\" x1=\"16\" x2=\"47\" y1=\"28.2969\" y2=\"28.2969\"/><text fill=\"#000000\" font-family=\"sans-serif\" font-size=\"14\" font-weight=\"bold\" lengthAdjust=\"spacingAndGlyphs\" textLength=\"18\" x=\"20\" y=\"20.9951\">P1</text></a><g id=\"E1.E2\"><a href=\"psysml:5d19b8ce-c5dc-4657-818e-bef8d51cb3ed\" target=\"_top\" title=\"psysml:5d19b8ce-c5dc-4657-818e-bef8d51cb3ed\" xlink:actuate=\"onRequest\" xlink:href=\"psysml:5d19b8ce-c5dc-4657-818e-bef8d51cb3ed\" xlink:show=\"new\" xlink:title=\"psysml:5d19b8ce-c5dc-4657-818e-bef8d51cb3ed\" xlink:type=\"simple\"><rect fill=\"#FEFECE\" filter=\"url(#fqkn3go2jbb3a)\" height=\"42.9375\" id=\"E2\" style=\"stroke: #A80036; stroke-width: 1.5;\" width=\"75\" x=\"31.5\" y=\"41\"/><text fill=\"#000000\" font-family=\"sans-serif\" font-size=\"12\" font-style=\"italic\" lengthAdjust=\"spacingAndGlyphs\" textLength=\"68\" x=\"35\" y=\"57.1387\">«part  def»</text><text fill=\"#000000\" font-family=\"sans-serif\" font-size=\"12\" lengthAdjust=\"spacingAndGlyphs\" textLength=\"8\" x=\"65\" y=\"71.1074\">A</text></a></g><!--MD5=[6e460e8e7d1718f39fec3d854e4e8692]\n",
       "@startuml\r\n",
       "skinparam ranksep 10\r\n",
       "skinparam rectangle {\r\n",
       " backgroundColor<<block>> LightGreen\r\n",
       "}\r\n",
       "skinparam wrapWidth 300\r\n",
       "hide circle\r\n",
       "\r\n",
       "package \"P1\" as E1  [[psysml:360ea886-60d8-41b4-b45e-ba2115a877e8 ]]  {\r\n",
       "rec def \"A\" as E2  <<(T,blue) part  def>> [[psysml:5d19b8ce-c5dc-4657-818e-bef8d51cb3ed ]] {\r\n",
       "}\r\n",
       "}\r\n",
       "@enduml\r\n",
       "\n",
       "PlantUML version 1.2020.13(Sat Jun 13 12:26:38 UTC 2020)\n",
       "(EPL source distribution)\n",
       "Java Runtime: OpenJDK Runtime Environment\n",
       "JVM: OpenJDK 64-Bit Server VM\n",
       "Default Encoding: UTF-8\n",
       "Language: en\n",
       "Country: null\n",
       "--></g></svg>"
      ]
     },
     "execution_count": 26,
     "metadata": {},
     "output_type": "execute_result"
    }
   ],
   "source": [
    "%viz --style=\"STDCOLOR\" --view=\"Interconnection\" \"P1\""
   ]
  },
  {
   "cell_type": "code",
   "execution_count": 27,
   "id": "22b9ea2c",
   "metadata": {
    "execution": {
     "iopub.execute_input": "2022-03-03T09:58:38.914965Z",
     "iopub.status.busy": "2022-03-03T09:58:38.914537Z",
     "iopub.status.idle": "2022-03-03T09:58:38.919152Z",
     "shell.execute_reply": "2022-03-03T09:58:38.919444Z"
    }
   },
   "outputs": [
    {
     "data": {
      "image/svg+xml": [
       "<?xml version=\"1.0\" encoding=\"UTF-8\" standalone=\"no\"?><svg xmlns=\"http://www.w3.org/2000/svg\" xmlns:xlink=\"http://www.w3.org/1999/xlink\" contentScriptType=\"application/ecmascript\" contentStyleType=\"text/css\" height=\"12px\" preserveAspectRatio=\"none\" style=\"width:12px;height:12px;\" version=\"1.1\" viewBox=\"0 0 12 12\" width=\"12px\" zoomAndPan=\"magnify\"><defs/><g><!--MD5=[9863325348a96a77dacc89509d8ee65e]\n",
       "@startuml\r\n",
       "skinparam ranksep 8\r\n",
       "skinparam wrapWidth 300\r\n",
       "hide circle\r\n",
       "\r\n",
       "@enduml\r\n",
       "\n",
       "PlantUML version 1.2020.13(Sat Jun 13 12:26:38 UTC 2020)\n",
       "(EPL source distribution)\n",
       "Java Runtime: OpenJDK Runtime Environment\n",
       "JVM: OpenJDK 64-Bit Server VM\n",
       "Default Encoding: UTF-8\n",
       "Language: en\n",
       "Country: null\n",
       "--></g></svg>"
      ]
     },
     "execution_count": 27,
     "metadata": {},
     "output_type": "execute_result"
    }
   ],
   "source": [
    "%viz --style=\"STDCOLOR\" --view=\"Action\" \"P1\""
   ]
  },
  {
   "cell_type": "code",
   "execution_count": 28,
   "id": "3f596e22",
   "metadata": {
    "execution": {
     "iopub.execute_input": "2022-03-03T09:58:38.969570Z",
     "iopub.status.busy": "2022-03-03T09:58:38.969172Z",
     "iopub.status.idle": "2022-03-03T09:58:38.975017Z",
     "shell.execute_reply": "2022-03-03T09:58:38.974670Z"
    }
   },
   "outputs": [
    {
     "data": {
      "image/svg+xml": [
       "<?xml version=\"1.0\" encoding=\"UTF-8\" standalone=\"no\"?><svg xmlns=\"http://www.w3.org/2000/svg\" xmlns:xlink=\"http://www.w3.org/1999/xlink\" contentScriptType=\"application/ecmascript\" contentStyleType=\"text/css\" height=\"12px\" preserveAspectRatio=\"none\" style=\"width:12px;height:12px;\" version=\"1.1\" viewBox=\"0 0 12 12\" width=\"12px\" zoomAndPan=\"magnify\"><defs/><g><!--MD5=[6c4bca67b4d71758159a5a7f1f1e1fc2]\n",
       "@startuml\r\n",
       "skinparam roundcorner 20\r\n",
       "skinparam BoxPadding 20\r\n",
       "skinparam SequenceBoxBackgroundColor #white\r\n",
       "skinparam style strictuml\r\n",
       "skinparam maxMessageSize 100\r\n",
       "skinparam wrapWidth 300\r\n",
       "hide circle\r\n",
       "\r\n",
       "@enduml\r\n",
       "\n",
       "PlantUML version 1.2020.13(Sat Jun 13 12:26:38 UTC 2020)\n",
       "(EPL source distribution)\n",
       "Java Runtime: OpenJDK Runtime Environment\n",
       "JVM: OpenJDK 64-Bit Server VM\n",
       "Default Encoding: UTF-8\n",
       "Language: en\n",
       "Country: null\n",
       "--></g></svg>"
      ]
     },
     "execution_count": 28,
     "metadata": {},
     "output_type": "execute_result"
    }
   ],
   "source": [
    "%viz --style=\"STDCOLOR\" --view=\"Sequence\" \"P1\""
   ]
  },
  {
   "cell_type": "code",
   "execution_count": 29,
   "id": "e7caf22b",
   "metadata": {
    "execution": {
     "iopub.execute_input": "2022-03-03T09:58:39.025117Z",
     "iopub.status.busy": "2022-03-03T09:58:39.024718Z",
     "iopub.status.idle": "2022-03-03T09:58:39.046643Z",
     "shell.execute_reply": "2022-03-03T09:58:39.046966Z"
    }
   },
   "outputs": [
    {
     "data": {
      "image/svg+xml": [
       "<?xml version=\"1.0\" encoding=\"UTF-8\" standalone=\"no\"?><svg xmlns=\"http://www.w3.org/2000/svg\" xmlns:xlink=\"http://www.w3.org/1999/xlink\" contentScriptType=\"application/ecmascript\" contentStyleType=\"text/css\" height=\"115px\" preserveAspectRatio=\"none\" style=\"width:140px;height:115px;\" version=\"1.1\" viewBox=\"0 0 140 115\" width=\"140px\" zoomAndPan=\"magnify\"><defs><filter height=\"300%\" id=\"f70jv80a669ew\" width=\"300%\" x=\"-1\" y=\"-1\"><feGaussianBlur result=\"blurOut\" stdDeviation=\"2.0\"/><feColorMatrix in=\"blurOut\" result=\"blurOut2\" type=\"matrix\" values=\"0 0 0 0 0 0 0 0 0 0 0 0 0 0 0 0 0 0 .4 0\"/><feOffset dx=\"4.0\" dy=\"4.0\" in=\"blurOut2\" result=\"blurOut3\"/><feBlend in=\"SourceGraphic\" in2=\"blurOut3\" mode=\"normal\"/></filter></defs><g><!--MD5=[fbc87193dbaf4d95561dea2c320d4a47]\n",
       "cluster E1--><a href=\"psysml:360ea886-60d8-41b4-b45e-ba2115a877e8\" target=\"_top\" title=\"psysml:360ea886-60d8-41b4-b45e-ba2115a877e8\" xlink:actuate=\"onRequest\" xlink:href=\"psysml:360ea886-60d8-41b4-b45e-ba2115a877e8\" xlink:show=\"new\" xlink:title=\"psysml:360ea886-60d8-41b4-b45e-ba2115a877e8\" xlink:type=\"simple\"><polygon fill=\"#FFFFFF\" filter=\"url(#f70jv80a669ew)\" points=\"16,6,40,6,47,28.2969,118,28.2969,118,103,16,103,16,6\" style=\"stroke: #000000; stroke-width: 1.5;\"/><line style=\"stroke: #000000; stroke-width: 1.5;\" x1=\"16\" x2=\"47\" y1=\"28.2969\" y2=\"28.2969\"/><text fill=\"#000000\" font-family=\"sans-serif\" font-size=\"14\" font-weight=\"bold\" lengthAdjust=\"spacingAndGlyphs\" textLength=\"18\" x=\"20\" y=\"20.9951\">P1</text></a><!--MD5=[b4997ac47864f28c2f74865a473b2911]\n",
       "class E2--><a href=\"psysml:5d19b8ce-c5dc-4657-818e-bef8d51cb3ed\" target=\"_top\" title=\"psysml:5d19b8ce-c5dc-4657-818e-bef8d51cb3ed\" xlink:actuate=\"onRequest\" xlink:href=\"psysml:5d19b8ce-c5dc-4657-818e-bef8d51cb3ed\" xlink:show=\"new\" xlink:title=\"psysml:5d19b8ce-c5dc-4657-818e-bef8d51cb3ed\" xlink:type=\"simple\"><rect fill=\"#FEFECE\" filter=\"url(#f70jv80a669ew)\" height=\"45.9375\" id=\"E2\" style=\"stroke: #A80036; stroke-width: 1.5;\" width=\"70\" x=\"32\" y=\"41\"/><text fill=\"#000000\" font-family=\"sans-serif\" font-size=\"12\" font-style=\"italic\" lengthAdjust=\"spacingAndGlyphs\" textLength=\"68\" x=\"33\" y=\"57.1387\">«part  def»</text><text fill=\"#000000\" font-family=\"sans-serif\" font-size=\"12\" lengthAdjust=\"spacingAndGlyphs\" textLength=\"8\" x=\"63\" y=\"71.1074\">A</text><line style=\"stroke: #A80036; stroke-width: 1.5;\" x1=\"33\" x2=\"101\" y1=\"78.9375\" y2=\"78.9375\"/></a><!--MD5=[32843f30fc76010aa215df64c898769c]\n",
       "@startuml\r\n",
       "skinparam wrapWidth 300\r\n",
       "hide circle\r\n",
       "\r\n",
       "package \"P1\" as E1  [[psysml:360ea886-60d8-41b4-b45e-ba2115a877e8 ]]  {\r\n",
       "comp def \"A\" as E2  <<(T,blue) part  def>> [[psysml:5d19b8ce-c5dc-4657-818e-bef8d51cb3ed ]] {\r\n",
       "}\r\n",
       "}\r\n",
       "@enduml\r\n",
       "\n",
       "PlantUML version 1.2020.13(Sat Jun 13 12:26:38 UTC 2020)\n",
       "(EPL source distribution)\n",
       "Java Runtime: OpenJDK Runtime Environment\n",
       "JVM: OpenJDK 64-Bit Server VM\n",
       "Default Encoding: UTF-8\n",
       "Language: en\n",
       "Country: null\n",
       "--></g></svg>"
      ]
     },
     "execution_count": 29,
     "metadata": {},
     "output_type": "execute_result"
    }
   ],
   "source": [
    "%viz --style=\"STDCOLOR\" --view=\"MIXED\" \"P1\""
   ]
  },
  {
   "cell_type": "code",
   "execution_count": 30,
   "id": "b5b121b6",
   "metadata": {
    "execution": {
     "iopub.execute_input": "2022-03-03T09:58:39.097228Z",
     "iopub.status.busy": "2022-03-03T09:58:39.096823Z",
     "iopub.status.idle": "2022-03-03T09:58:39.137672Z",
     "shell.execute_reply": "2022-03-03T09:58:39.137306Z"
    }
   },
   "outputs": [
    {
     "data": {
      "image/svg+xml": [
       "<?xml version=\"1.0\" encoding=\"UTF-8\" standalone=\"no\"?><svg xmlns=\"http://www.w3.org/2000/svg\" xmlns:xlink=\"http://www.w3.org/1999/xlink\" contentScriptType=\"application/ecmascript\" contentStyleType=\"text/css\" height=\"109px\" preserveAspectRatio=\"none\" style=\"width:110px;height:109px;\" version=\"1.1\" viewBox=\"0 0 110 109\" width=\"110px\" zoomAndPan=\"magnify\"><defs><filter height=\"300%\" id=\"f11mgmfn75io9e\" width=\"300%\" x=\"-1\" y=\"-1\"><feGaussianBlur result=\"blurOut\" stdDeviation=\"2.0\"/><feColorMatrix in=\"blurOut\" result=\"blurOut2\" type=\"matrix\" values=\"0 0 0 0 0 0 0 0 0 0 0 0 0 0 0 0 0 0 .4 0\"/><feOffset dx=\"4.0\" dy=\"4.0\" in=\"blurOut2\" result=\"blurOut3\"/><feBlend in=\"SourceGraphic\" in2=\"blurOut3\" mode=\"normal\"/></filter></defs><g><!--MD5=[fbc87193dbaf4d95561dea2c320d4a47]\n",
       "cluster E1--><a href=\"psysml:360ea886-60d8-41b4-b45e-ba2115a877e8\" target=\"_top\" title=\"psysml:360ea886-60d8-41b4-b45e-ba2115a877e8\" xlink:actuate=\"onRequest\" xlink:href=\"psysml:360ea886-60d8-41b4-b45e-ba2115a877e8\" xlink:show=\"new\" xlink:title=\"psysml:360ea886-60d8-41b4-b45e-ba2115a877e8\" xlink:type=\"simple\"><polygon fill=\"#FFFFFF\" filter=\"url(#f11mgmfn75io9e)\" points=\"16,6,40,6,47,28.2969,88,28.2969,88,97,16,97,16,6\" style=\"stroke: #000000; stroke-width: 1.5;\"/><line style=\"stroke: #000000; stroke-width: 1.5;\" x1=\"16\" x2=\"47\" y1=\"28.2969\" y2=\"28.2969\"/><text fill=\"#000000\" font-family=\"sans-serif\" font-size=\"14\" font-weight=\"bold\" lengthAdjust=\"spacingAndGlyphs\" textLength=\"18\" x=\"20\" y=\"20.9951\">P1</text></a><!--MD5=[b4997ac47864f28c2f74865a473b2911]\n",
       "class E2--><a href=\"psysml:5d19b8ce-c5dc-4657-818e-bef8d51cb3ed\" target=\"_top\" title=\"psysml:5d19b8ce-c5dc-4657-818e-bef8d51cb3ed\" xlink:actuate=\"onRequest\" xlink:href=\"psysml:5d19b8ce-c5dc-4657-818e-bef8d51cb3ed\" xlink:show=\"new\" xlink:title=\"psysml:5d19b8ce-c5dc-4657-818e-bef8d51cb3ed\" xlink:type=\"simple\"><rect fill=\"#FEFECE\" filter=\"url(#f11mgmfn75io9e)\" height=\"40\" id=\"E2\" style=\"stroke: #A80036; stroke-width: 1.5;\" width=\"40\" x=\"32\" y=\"41\"/><ellipse cx=\"47\" cy=\"57\" fill=\"#008000\" rx=\"11\" ry=\"11\" style=\"stroke: #A80036; stroke-width: 1.0;\"/><path d=\"M43.875,62 L43.875,51.4063 L47.1094,51.4063 Q49.0156,51.4063 49.9219,52.1563 Q50.8438,52.9063 50.8438,54.0781 Q50.8438,54.7656 50.4531,55.4219 Q50.0781,56.0781 49.3594,56.375 Q50.2188,56.75 50.7344,57.4375 Q51.25,58.125 51.25,58.9375 Q51.25,60.3125 50.2188,61.1563 Q49.2031,62 47.0938,62 L43.875,62 Z M45.7969,55.6406 L46.9531,55.6406 Q48.0781,55.6406 48.4844,55.2656 Q48.9063,54.875 48.9063,54.25 Q48.9063,53.6719 48.4844,53.3125 Q48.0625,52.9531 47.125,52.9531 L45.7969,52.9531 L45.7969,55.6406 Z M45.7969,60.4219 L47.2969,60.4219 Q48.2031,60.4219 48.7344,60.0313 Q49.2656,59.6406 49.2656,58.8906 Q49.2656,58.125 48.7656,57.6563 Q48.2656,57.1719 47,57.1719 L45.7969,57.1719 L45.7969,60.4219 Z \"/><text fill=\"#000000\" font-family=\"sans-serif\" font-size=\"12\" lengthAdjust=\"spacingAndGlyphs\" textLength=\"8\" x=\"61\" y=\"61.1543\">A</text><line style=\"stroke: #A80036; stroke-width: 1.5;\" x1=\"33\" x2=\"71\" y1=\"73\" y2=\"73\"/></a><!--MD5=[686f8e988c2aa1c38e7ccdbdcc241f42]\n",
       "@startuml\r\n",
       " \r\n",
       "package \"P1\" as E1  [[psysml:360ea886-60d8-41b4-b45e-ba2115a877e8 ]]  {\r\n",
       "comp def \"A\" as E2 << << (B,green) >> [[psysml:5d19b8ce-c5dc-4657-818e-bef8d51cb3ed ]] {\r\n",
       "}\r\n",
       "}\r\n",
       "@enduml\r\n",
       "\n",
       "PlantUML version 1.2020.13(Sat Jun 13 12:26:38 UTC 2020)\n",
       "(EPL source distribution)\n",
       "Java Runtime: OpenJDK Runtime Environment\n",
       "JVM: OpenJDK 64-Bit Server VM\n",
       "Default Encoding: UTF-8\n",
       "Language: en\n",
       "Country: null\n",
       "--></g></svg>"
      ]
     },
     "execution_count": 30,
     "metadata": {},
     "output_type": "execute_result"
    }
   ],
   "source": [
    "%viz --style=\"PLANTUML\" --view=\"Default\" \"P1\""
   ]
  },
  {
   "cell_type": "code",
   "execution_count": 31,
   "id": "6951469b",
   "metadata": {
    "execution": {
     "iopub.execute_input": "2022-03-03T09:58:39.187494Z",
     "iopub.status.busy": "2022-03-03T09:58:39.187071Z",
     "iopub.status.idle": "2022-03-03T09:58:39.208546Z",
     "shell.execute_reply": "2022-03-03T09:58:39.208873Z"
    }
   },
   "outputs": [
    {
     "data": {
      "image/svg+xml": [
       "<?xml version=\"1.0\" encoding=\"UTF-8\" standalone=\"no\"?><svg xmlns=\"http://www.w3.org/2000/svg\" xmlns:xlink=\"http://www.w3.org/1999/xlink\" contentScriptType=\"application/ecmascript\" contentStyleType=\"text/css\" height=\"109px\" preserveAspectRatio=\"none\" style=\"width:110px;height:109px;\" version=\"1.1\" viewBox=\"0 0 110 109\" width=\"110px\" zoomAndPan=\"magnify\"><defs><filter height=\"300%\" id=\"f11mgmfn75io9e\" width=\"300%\" x=\"-1\" y=\"-1\"><feGaussianBlur result=\"blurOut\" stdDeviation=\"2.0\"/><feColorMatrix in=\"blurOut\" result=\"blurOut2\" type=\"matrix\" values=\"0 0 0 0 0 0 0 0 0 0 0 0 0 0 0 0 0 0 .4 0\"/><feOffset dx=\"4.0\" dy=\"4.0\" in=\"blurOut2\" result=\"blurOut3\"/><feBlend in=\"SourceGraphic\" in2=\"blurOut3\" mode=\"normal\"/></filter></defs><g><!--MD5=[fbc87193dbaf4d95561dea2c320d4a47]\n",
       "cluster E1--><a href=\"psysml:360ea886-60d8-41b4-b45e-ba2115a877e8\" target=\"_top\" title=\"psysml:360ea886-60d8-41b4-b45e-ba2115a877e8\" xlink:actuate=\"onRequest\" xlink:href=\"psysml:360ea886-60d8-41b4-b45e-ba2115a877e8\" xlink:show=\"new\" xlink:title=\"psysml:360ea886-60d8-41b4-b45e-ba2115a877e8\" xlink:type=\"simple\"><polygon fill=\"#FFFFFF\" filter=\"url(#f11mgmfn75io9e)\" points=\"16,6,40,6,47,28.2969,88,28.2969,88,97,16,97,16,6\" style=\"stroke: #000000; stroke-width: 1.5;\"/><line style=\"stroke: #000000; stroke-width: 1.5;\" x1=\"16\" x2=\"47\" y1=\"28.2969\" y2=\"28.2969\"/><text fill=\"#000000\" font-family=\"sans-serif\" font-size=\"14\" font-weight=\"bold\" lengthAdjust=\"spacingAndGlyphs\" textLength=\"18\" x=\"20\" y=\"20.9951\">P1</text></a><!--MD5=[b4997ac47864f28c2f74865a473b2911]\n",
       "class E2--><a href=\"psysml:5d19b8ce-c5dc-4657-818e-bef8d51cb3ed\" target=\"_top\" title=\"psysml:5d19b8ce-c5dc-4657-818e-bef8d51cb3ed\" xlink:actuate=\"onRequest\" xlink:href=\"psysml:5d19b8ce-c5dc-4657-818e-bef8d51cb3ed\" xlink:show=\"new\" xlink:title=\"psysml:5d19b8ce-c5dc-4657-818e-bef8d51cb3ed\" xlink:type=\"simple\"><rect fill=\"#FEFECE\" filter=\"url(#f11mgmfn75io9e)\" height=\"40\" id=\"E2\" style=\"stroke: #A80036; stroke-width: 1.5;\" width=\"40\" x=\"32\" y=\"41\"/><ellipse cx=\"47\" cy=\"57\" fill=\"#008000\" rx=\"11\" ry=\"11\" style=\"stroke: #A80036; stroke-width: 1.0;\"/><path d=\"M43.875,62 L43.875,51.4063 L47.1094,51.4063 Q49.0156,51.4063 49.9219,52.1563 Q50.8438,52.9063 50.8438,54.0781 Q50.8438,54.7656 50.4531,55.4219 Q50.0781,56.0781 49.3594,56.375 Q50.2188,56.75 50.7344,57.4375 Q51.25,58.125 51.25,58.9375 Q51.25,60.3125 50.2188,61.1563 Q49.2031,62 47.0938,62 L43.875,62 Z M45.7969,55.6406 L46.9531,55.6406 Q48.0781,55.6406 48.4844,55.2656 Q48.9063,54.875 48.9063,54.25 Q48.9063,53.6719 48.4844,53.3125 Q48.0625,52.9531 47.125,52.9531 L45.7969,52.9531 L45.7969,55.6406 Z M45.7969,60.4219 L47.2969,60.4219 Q48.2031,60.4219 48.7344,60.0313 Q49.2656,59.6406 49.2656,58.8906 Q49.2656,58.125 48.7656,57.6563 Q48.2656,57.1719 47,57.1719 L45.7969,57.1719 L45.7969,60.4219 Z \"/><text fill=\"#000000\" font-family=\"sans-serif\" font-size=\"12\" lengthAdjust=\"spacingAndGlyphs\" textLength=\"8\" x=\"61\" y=\"61.1543\">A</text><line style=\"stroke: #A80036; stroke-width: 1.5;\" x1=\"33\" x2=\"71\" y1=\"73\" y2=\"73\"/></a><!--MD5=[686f8e988c2aa1c38e7ccdbdcc241f42]\n",
       "@startuml\r\n",
       " \r\n",
       "package \"P1\" as E1  [[psysml:360ea886-60d8-41b4-b45e-ba2115a877e8 ]]  {\r\n",
       "comp def \"A\" as E2 << << (B,green) >> [[psysml:5d19b8ce-c5dc-4657-818e-bef8d51cb3ed ]] {\r\n",
       "}\r\n",
       "}\r\n",
       "@enduml\r\n",
       "\n",
       "PlantUML version 1.2020.13(Sat Jun 13 12:26:38 UTC 2020)\n",
       "(EPL source distribution)\n",
       "Java Runtime: OpenJDK Runtime Environment\n",
       "JVM: OpenJDK 64-Bit Server VM\n",
       "Default Encoding: UTF-8\n",
       "Language: en\n",
       "Country: null\n",
       "--></g></svg>"
      ]
     },
     "execution_count": 31,
     "metadata": {},
     "output_type": "execute_result"
    }
   ],
   "source": [
    "%viz --style=\"PLANTUML\" --view=\"Tree\" \"P1\""
   ]
  },
  {
   "cell_type": "code",
   "execution_count": 32,
   "id": "fc650c2d",
   "metadata": {
    "execution": {
     "iopub.execute_input": "2022-03-03T09:58:39.259151Z",
     "iopub.status.busy": "2022-03-03T09:58:39.258717Z",
     "iopub.status.idle": "2022-03-03T09:58:39.359412Z",
     "shell.execute_reply": "2022-03-03T09:58:39.359038Z"
    }
   },
   "outputs": [
    {
     "data": {
      "image/svg+xml": [
       "<?xml version=\"1.0\" encoding=\"UTF-8\" standalone=\"no\"?><svg xmlns=\"http://www.w3.org/2000/svg\" xmlns:xlink=\"http://www.w3.org/1999/xlink\" contentScriptType=\"application/ecmascript\" contentStyleType=\"text/css\" height=\"300px\" preserveAspectRatio=\"none\" style=\"width:603px;height:300px;background:#000000;\" version=\"1.1\" viewBox=\"0 0 603 300\" width=\"603px\" zoomAndPan=\"magnify\"><defs/><g><rect fill=\"#081D19\" height=\"1\" style=\"stroke: #081D19; stroke-width: 1.0;\" width=\"1\" x=\"0\" y=\"0\"/><rect fill=\"#FFFFFF\" height=\"202.8012\" style=\"stroke: #FFFFFF; stroke-width: 1.0;\" width=\"602\" x=\"0\" y=\"0\"/><text fill=\"#000000\" font-family=\"sans-serif\" font-size=\"12\" font-weight=\"bold\" lengthAdjust=\"spacingAndGlyphs\" textLength=\"139\" x=\"5\" y=\"16.1387\">Welcome to PlantUML!</text><text fill=\"#000000\" font-family=\"sans-serif\" font-size=\"12\" lengthAdjust=\"spacingAndGlyphs\" textLength=\"0\" x=\"9\" y=\"30.1074\"/><text fill=\"#000000\" font-family=\"sans-serif\" font-size=\"12\" lengthAdjust=\"spacingAndGlyphs\" textLength=\"293\" x=\"5\" y=\"44.0762\">If you use this software, you accept its license.</text><text fill=\"#000000\" font-family=\"sans-serif\" font-size=\"12\" lengthAdjust=\"spacingAndGlyphs\" textLength=\"107\" x=\"5\" y=\"58.0449\">(details by typing</text><text fill=\"#000000\" font-family=\"monospace\" font-size=\"12\" lengthAdjust=\"spacingAndGlyphs\" textLength=\"42\" x=\"116\" y=\"58.595\">license</text><text fill=\"#000000\" font-family=\"sans-serif\" font-size=\"12\" lengthAdjust=\"spacingAndGlyphs\" textLength=\"56\" x=\"162\" y=\"58.0449\">keyword)</text><text fill=\"#000000\" font-family=\"sans-serif\" font-size=\"12\" lengthAdjust=\"spacingAndGlyphs\" textLength=\"0\" x=\"9\" y=\"72.0137\"/><text fill=\"#000000\" font-family=\"sans-serif\" font-size=\"12\" lengthAdjust=\"spacingAndGlyphs\" textLength=\"283\" x=\"5\" y=\"85.9824\">You can start with a simple UML Diagram like:</text><text fill=\"#000000\" font-family=\"sans-serif\" font-size=\"12\" lengthAdjust=\"spacingAndGlyphs\" textLength=\"0\" x=\"9\" y=\"99.9512\"/><text fill=\"#000000\" font-family=\"monospace\" font-size=\"12\" lengthAdjust=\"spacingAndGlyphs\" textLength=\"102\" x=\"5\" y=\"113.0893\">Bob-&gt;Alice: Hello</text><text fill=\"#000000\" font-family=\"sans-serif\" font-size=\"12\" lengthAdjust=\"spacingAndGlyphs\" textLength=\"0\" x=\"9\" y=\"126.508\"/><text fill=\"#000000\" font-family=\"sans-serif\" font-size=\"12\" lengthAdjust=\"spacingAndGlyphs\" textLength=\"14\" x=\"5\" y=\"140.4768\">Or</text><text fill=\"#000000\" font-family=\"sans-serif\" font-size=\"12\" lengthAdjust=\"spacingAndGlyphs\" textLength=\"0\" x=\"9\" y=\"154.4455\"/><text fill=\"#000000\" font-family=\"monospace\" font-size=\"12\" lengthAdjust=\"spacingAndGlyphs\" textLength=\"78\" x=\"5\" y=\"167.5837\">class Example</text><text fill=\"#000000\" font-family=\"sans-serif\" font-size=\"12\" lengthAdjust=\"spacingAndGlyphs\" textLength=\"0\" x=\"9\" y=\"181.0023\"/><text fill=\"#000000\" font-family=\"sans-serif\" font-size=\"12\" lengthAdjust=\"spacingAndGlyphs\" textLength=\"349\" x=\"5\" y=\"194.9711\">You will find more information about PlantUML syntax on</text><text fill=\"#000000\" font-family=\"sans-serif\" font-size=\"12\" lengthAdjust=\"spacingAndGlyphs\" text-decoration=\"underline\" textLength=\"129\" x=\"358\" y=\"194.9711\">https://plantuml.com</text><image height=\"71\" width=\"80\" x=\"516\" xlink:href=\"data:image/png;base64,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\" y=\"6\"/><rect fill=\"#000000\" height=\"96.4844\" style=\"stroke: #000000; stroke-width: 1.0;\" width=\"602\" x=\"0\" y=\"202.8012\"/><rect fill=\"#33FF02\" height=\"21.2969\" style=\"stroke: #33FF02; stroke-width: 1.0;\" width=\"145\" x=\"5\" y=\"207.8012\"/><text fill=\"#000000\" font-family=\"sans-serif\" font-size=\"14\" font-weight=\"bold\" lengthAdjust=\"spacingAndGlyphs\" textLength=\"143\" x=\"6\" y=\"222.8012\">[From string (line 2) ]</text><text fill=\"#33FF02\" font-family=\"sans-serif\" font-size=\"14\" font-weight=\"bold\" lengthAdjust=\"spacingAndGlyphs\" textLength=\"0\" x=\"9\" y=\"243.0981\"/><text fill=\"#33FF02\" font-family=\"sans-serif\" font-size=\"14\" font-weight=\"bold\" lengthAdjust=\"spacingAndGlyphs\" textLength=\"70\" x=\"5\" y=\"259.3949\">@startuml</text><text fill=\"#33FF02\" font-family=\"sans-serif\" font-size=\"14\" font-weight=\"bold\" lengthAdjust=\"spacingAndGlyphs\" textLength=\"0\" x=\"9\" y=\"275.6918\"/><text fill=\"#FF0000\" font-family=\"sans-serif\" font-size=\"14\" font-weight=\"bold\" lengthAdjust=\"spacingAndGlyphs\" textLength=\"124\" x=\"9\" y=\"291.9887\">Empty description</text><!--MD5=[f59edd8218d337f74d0c332fc6737304]\n",
       "@startuml\r\n",
       " \r\n",
       "@enduml\r\n",
       "\n",
       "PlantUML version 1.2020.13(Sat Jun 13 12:26:38 UTC 2020)\n",
       "(EPL source distribution)\n",
       "Java Runtime: OpenJDK Runtime Environment\n",
       "JVM: OpenJDK 64-Bit Server VM\n",
       "Default Encoding: UTF-8\n",
       "Language: en\n",
       "Country: null\n",
       "--></g></svg>"
      ]
     },
     "execution_count": 32,
     "metadata": {},
     "output_type": "execute_result"
    }
   ],
   "source": [
    "%viz --style=\"PLANTUML\" --view=\"State\" \"P1\""
   ]
  },
  {
   "cell_type": "code",
   "execution_count": 33,
   "id": "2d98af26",
   "metadata": {
    "execution": {
     "iopub.execute_input": "2022-03-03T09:58:39.408946Z",
     "iopub.status.busy": "2022-03-03T09:58:39.408535Z",
     "iopub.status.idle": "2022-03-03T09:58:39.427690Z",
     "shell.execute_reply": "2022-03-03T09:58:39.427317Z"
    }
   },
   "outputs": [
    {
     "data": {
      "image/svg+xml": [
       "<?xml version=\"1.0\" encoding=\"UTF-8\" standalone=\"no\"?><svg xmlns=\"http://www.w3.org/2000/svg\" xmlns:xlink=\"http://www.w3.org/1999/xlink\" contentScriptType=\"application/ecmascript\" contentStyleType=\"text/css\" height=\"109px\" preserveAspectRatio=\"none\" style=\"width:120px;height:109px;\" version=\"1.1\" viewBox=\"0 0 120 109\" width=\"120px\" zoomAndPan=\"magnify\"><defs><filter height=\"300%\" id=\"f13kikg99rw4e0\" width=\"300%\" x=\"-1\" y=\"-1\"><feGaussianBlur result=\"blurOut\" stdDeviation=\"2.0\"/><feColorMatrix in=\"blurOut\" result=\"blurOut2\" type=\"matrix\" values=\"0 0 0 0 0 0 0 0 0 0 0 0 0 0 0 0 0 0 .4 0\"/><feOffset dx=\"4.0\" dy=\"4.0\" in=\"blurOut2\" result=\"blurOut3\"/><feBlend in=\"SourceGraphic\" in2=\"blurOut3\" mode=\"normal\"/></filter></defs><g><!--MD5=[fbc87193dbaf4d95561dea2c320d4a47]\n",
       "cluster E1--><a href=\"psysml:360ea886-60d8-41b4-b45e-ba2115a877e8\" target=\"_top\" title=\"psysml:360ea886-60d8-41b4-b45e-ba2115a877e8\" xlink:actuate=\"onRequest\" xlink:href=\"psysml:360ea886-60d8-41b4-b45e-ba2115a877e8\" xlink:show=\"new\" xlink:title=\"psysml:360ea886-60d8-41b4-b45e-ba2115a877e8\" xlink:type=\"simple\"><polygon fill=\"#FFFFFF\" filter=\"url(#f13kikg99rw4e0)\" points=\"16,6,40,6,47,28.2969,98,28.2969,98,97,16,97,16,6\" style=\"stroke: #000000; stroke-width: 1.5;\"/><line style=\"stroke: #000000; stroke-width: 1.5;\" x1=\"16\" x2=\"47\" y1=\"28.2969\" y2=\"28.2969\"/><text fill=\"#000000\" font-family=\"sans-serif\" font-size=\"14\" font-weight=\"bold\" lengthAdjust=\"spacingAndGlyphs\" textLength=\"18\" x=\"20\" y=\"20.9951\">P1</text></a><g id=\"E1.E2\"><a href=\"psysml:5d19b8ce-c5dc-4657-818e-bef8d51cb3ed\" target=\"_top\" title=\"psysml:5d19b8ce-c5dc-4657-818e-bef8d51cb3ed\" xlink:actuate=\"onRequest\" xlink:href=\"psysml:5d19b8ce-c5dc-4657-818e-bef8d51cb3ed\" xlink:show=\"new\" xlink:title=\"psysml:5d19b8ce-c5dc-4657-818e-bef8d51cb3ed\" xlink:type=\"simple\"><rect fill=\"#FEFECE\" filter=\"url(#f13kikg99rw4e0)\" height=\"40\" id=\"E2\" style=\"stroke: #A80036; stroke-width: 1.5;\" width=\"50\" x=\"32\" y=\"41\"/><ellipse cx=\"51.5\" cy=\"57\" fill=\"#008000\" rx=\"11\" ry=\"11\" style=\"stroke: #A80036; stroke-width: 1.0;\"/><path d=\"M48.375,62 L48.375,51.4063 L51.6094,51.4063 Q53.5156,51.4063 54.4219,52.1563 Q55.3438,52.9063 55.3438,54.0781 Q55.3438,54.7656 54.9531,55.4219 Q54.5781,56.0781 53.8594,56.375 Q54.7188,56.75 55.2344,57.4375 Q55.75,58.125 55.75,58.9375 Q55.75,60.3125 54.7188,61.1563 Q53.7031,62 51.5938,62 L48.375,62 Z M50.2969,55.6406 L51.4531,55.6406 Q52.5781,55.6406 52.9844,55.2656 Q53.4063,54.875 53.4063,54.25 Q53.4063,53.6719 52.9844,53.3125 Q52.5625,52.9531 51.625,52.9531 L50.2969,52.9531 L50.2969,55.6406 Z M50.2969,60.4219 L51.7969,60.4219 Q52.7031,60.4219 53.2344,60.0313 Q53.7656,59.6406 53.7656,58.8906 Q53.7656,58.125 53.2656,57.6563 Q52.7656,57.1719 51.5,57.1719 L50.2969,57.1719 L50.2969,60.4219 Z \"/><text fill=\"#000000\" font-family=\"sans-serif\" font-size=\"12\" lengthAdjust=\"spacingAndGlyphs\" textLength=\"8\" x=\"66.5\" y=\"61.1543\">A</text></a></g><!--MD5=[316cdde66707f0394d33a7214baad416]\n",
       "@startuml\r\n",
       "skinparam ranksep 10\r\n",
       "skinparam rectangle {\r\n",
       " backgroundColor<<block>> LightGreen\r\n",
       "}\r\n",
       " \r\n",
       "package \"P1\" as E1  [[psysml:360ea886-60d8-41b4-b45e-ba2115a877e8 ]]  {\r\n",
       "rec def \"A\" as E2 << << (B,green) >> [[psysml:5d19b8ce-c5dc-4657-818e-bef8d51cb3ed ]] {\r\n",
       "}\r\n",
       "}\r\n",
       "@enduml\r\n",
       "\n",
       "PlantUML version 1.2020.13(Sat Jun 13 12:26:38 UTC 2020)\n",
       "(EPL source distribution)\n",
       "Java Runtime: OpenJDK Runtime Environment\n",
       "JVM: OpenJDK 64-Bit Server VM\n",
       "Default Encoding: UTF-8\n",
       "Language: en\n",
       "Country: null\n",
       "--></g></svg>"
      ]
     },
     "execution_count": 33,
     "metadata": {},
     "output_type": "execute_result"
    }
   ],
   "source": [
    "%viz --style=\"PLANTUML\" --view=\"Interconnection\" \"P1\""
   ]
  },
  {
   "cell_type": "code",
   "execution_count": 34,
   "id": "a2b94f66",
   "metadata": {
    "execution": {
     "iopub.execute_input": "2022-03-03T09:58:39.477321Z",
     "iopub.status.busy": "2022-03-03T09:58:39.476913Z",
     "iopub.status.idle": "2022-03-03T09:58:39.481036Z",
     "shell.execute_reply": "2022-03-03T09:58:39.481333Z"
    }
   },
   "outputs": [
    {
     "data": {
      "image/svg+xml": [
       "<?xml version=\"1.0\" encoding=\"UTF-8\" standalone=\"no\"?><svg xmlns=\"http://www.w3.org/2000/svg\" xmlns:xlink=\"http://www.w3.org/1999/xlink\" contentScriptType=\"application/ecmascript\" contentStyleType=\"text/css\" height=\"12px\" preserveAspectRatio=\"none\" style=\"width:12px;height:12px;\" version=\"1.1\" viewBox=\"0 0 12 12\" width=\"12px\" zoomAndPan=\"magnify\"><defs/><g><!--MD5=[6a4cb978cab31700e1ce5529f947a75d]\n",
       "@startuml\r\n",
       "skinparam ranksep 8\r\n",
       " \r\n",
       "@enduml\r\n",
       "\n",
       "PlantUML version 1.2020.13(Sat Jun 13 12:26:38 UTC 2020)\n",
       "(EPL source distribution)\n",
       "Java Runtime: OpenJDK Runtime Environment\n",
       "JVM: OpenJDK 64-Bit Server VM\n",
       "Default Encoding: UTF-8\n",
       "Language: en\n",
       "Country: null\n",
       "--></g></svg>"
      ]
     },
     "execution_count": 34,
     "metadata": {},
     "output_type": "execute_result"
    }
   ],
   "source": [
    "%viz --style=\"PLANTUML\" --view=\"Action\" \"P1\""
   ]
  },
  {
   "cell_type": "code",
   "execution_count": 35,
   "id": "621463ba",
   "metadata": {
    "execution": {
     "iopub.execute_input": "2022-03-03T09:58:39.531375Z",
     "iopub.status.busy": "2022-03-03T09:58:39.530962Z",
     "iopub.status.idle": "2022-03-03T09:58:39.535903Z",
     "shell.execute_reply": "2022-03-03T09:58:39.536200Z"
    }
   },
   "outputs": [
    {
     "data": {
      "image/svg+xml": [
       "<?xml version=\"1.0\" encoding=\"UTF-8\" standalone=\"no\"?><svg xmlns=\"http://www.w3.org/2000/svg\" xmlns:xlink=\"http://www.w3.org/1999/xlink\" contentScriptType=\"application/ecmascript\" contentStyleType=\"text/css\" height=\"12px\" preserveAspectRatio=\"none\" style=\"width:12px;height:12px;\" version=\"1.1\" viewBox=\"0 0 12 12\" width=\"12px\" zoomAndPan=\"magnify\"><defs/><g><!--MD5=[ca4faa0b02def275ea33c14ea7a1a98d]\n",
       "@startuml\r\n",
       "skinparam roundcorner 20\r\n",
       "skinparam BoxPadding 20\r\n",
       "skinparam SequenceBoxBackgroundColor #white\r\n",
       "skinparam style strictuml\r\n",
       "skinparam maxMessageSize 100\r\n",
       " \r\n",
       "@enduml\r\n",
       "\n",
       "PlantUML version 1.2020.13(Sat Jun 13 12:26:38 UTC 2020)\n",
       "(EPL source distribution)\n",
       "Java Runtime: OpenJDK Runtime Environment\n",
       "JVM: OpenJDK 64-Bit Server VM\n",
       "Default Encoding: UTF-8\n",
       "Language: en\n",
       "Country: null\n",
       "--></g></svg>"
      ]
     },
     "execution_count": 35,
     "metadata": {},
     "output_type": "execute_result"
    }
   ],
   "source": [
    "%viz --style=\"PLANTUML\" --view=\"Sequence\" \"P1\""
   ]
  },
  {
   "cell_type": "code",
   "execution_count": 36,
   "id": "3d98040a",
   "metadata": {
    "execution": {
     "iopub.execute_input": "2022-03-03T09:58:39.585851Z",
     "iopub.status.busy": "2022-03-03T09:58:39.585444Z",
     "iopub.status.idle": "2022-03-03T09:58:39.606251Z",
     "shell.execute_reply": "2022-03-03T09:58:39.605832Z"
    }
   },
   "outputs": [
    {
     "data": {
      "image/svg+xml": [
       "<?xml version=\"1.0\" encoding=\"UTF-8\" standalone=\"no\"?><svg xmlns=\"http://www.w3.org/2000/svg\" xmlns:xlink=\"http://www.w3.org/1999/xlink\" contentScriptType=\"application/ecmascript\" contentStyleType=\"text/css\" height=\"109px\" preserveAspectRatio=\"none\" style=\"width:110px;height:109px;\" version=\"1.1\" viewBox=\"0 0 110 109\" width=\"110px\" zoomAndPan=\"magnify\"><defs><filter height=\"300%\" id=\"f11mgmfn75io9e\" width=\"300%\" x=\"-1\" y=\"-1\"><feGaussianBlur result=\"blurOut\" stdDeviation=\"2.0\"/><feColorMatrix in=\"blurOut\" result=\"blurOut2\" type=\"matrix\" values=\"0 0 0 0 0 0 0 0 0 0 0 0 0 0 0 0 0 0 .4 0\"/><feOffset dx=\"4.0\" dy=\"4.0\" in=\"blurOut2\" result=\"blurOut3\"/><feBlend in=\"SourceGraphic\" in2=\"blurOut3\" mode=\"normal\"/></filter></defs><g><!--MD5=[fbc87193dbaf4d95561dea2c320d4a47]\n",
       "cluster E1--><a href=\"psysml:360ea886-60d8-41b4-b45e-ba2115a877e8\" target=\"_top\" title=\"psysml:360ea886-60d8-41b4-b45e-ba2115a877e8\" xlink:actuate=\"onRequest\" xlink:href=\"psysml:360ea886-60d8-41b4-b45e-ba2115a877e8\" xlink:show=\"new\" xlink:title=\"psysml:360ea886-60d8-41b4-b45e-ba2115a877e8\" xlink:type=\"simple\"><polygon fill=\"#FFFFFF\" filter=\"url(#f11mgmfn75io9e)\" points=\"16,6,40,6,47,28.2969,88,28.2969,88,97,16,97,16,6\" style=\"stroke: #000000; stroke-width: 1.5;\"/><line style=\"stroke: #000000; stroke-width: 1.5;\" x1=\"16\" x2=\"47\" y1=\"28.2969\" y2=\"28.2969\"/><text fill=\"#000000\" font-family=\"sans-serif\" font-size=\"14\" font-weight=\"bold\" lengthAdjust=\"spacingAndGlyphs\" textLength=\"18\" x=\"20\" y=\"20.9951\">P1</text></a><!--MD5=[b4997ac47864f28c2f74865a473b2911]\n",
       "class E2--><a href=\"psysml:5d19b8ce-c5dc-4657-818e-bef8d51cb3ed\" target=\"_top\" title=\"psysml:5d19b8ce-c5dc-4657-818e-bef8d51cb3ed\" xlink:actuate=\"onRequest\" xlink:href=\"psysml:5d19b8ce-c5dc-4657-818e-bef8d51cb3ed\" xlink:show=\"new\" xlink:title=\"psysml:5d19b8ce-c5dc-4657-818e-bef8d51cb3ed\" xlink:type=\"simple\"><rect fill=\"#FEFECE\" filter=\"url(#f11mgmfn75io9e)\" height=\"40\" id=\"E2\" style=\"stroke: #A80036; stroke-width: 1.5;\" width=\"40\" x=\"32\" y=\"41\"/><ellipse cx=\"47\" cy=\"57\" fill=\"#008000\" rx=\"11\" ry=\"11\" style=\"stroke: #A80036; stroke-width: 1.0;\"/><path d=\"M43.875,62 L43.875,51.4063 L47.1094,51.4063 Q49.0156,51.4063 49.9219,52.1563 Q50.8438,52.9063 50.8438,54.0781 Q50.8438,54.7656 50.4531,55.4219 Q50.0781,56.0781 49.3594,56.375 Q50.2188,56.75 50.7344,57.4375 Q51.25,58.125 51.25,58.9375 Q51.25,60.3125 50.2188,61.1563 Q49.2031,62 47.0938,62 L43.875,62 Z M45.7969,55.6406 L46.9531,55.6406 Q48.0781,55.6406 48.4844,55.2656 Q48.9063,54.875 48.9063,54.25 Q48.9063,53.6719 48.4844,53.3125 Q48.0625,52.9531 47.125,52.9531 L45.7969,52.9531 L45.7969,55.6406 Z M45.7969,60.4219 L47.2969,60.4219 Q48.2031,60.4219 48.7344,60.0313 Q49.2656,59.6406 49.2656,58.8906 Q49.2656,58.125 48.7656,57.6563 Q48.2656,57.1719 47,57.1719 L45.7969,57.1719 L45.7969,60.4219 Z \"/><text fill=\"#000000\" font-family=\"sans-serif\" font-size=\"12\" lengthAdjust=\"spacingAndGlyphs\" textLength=\"8\" x=\"61\" y=\"61.1543\">A</text><line style=\"stroke: #A80036; stroke-width: 1.5;\" x1=\"33\" x2=\"71\" y1=\"73\" y2=\"73\"/></a><!--MD5=[686f8e988c2aa1c38e7ccdbdcc241f42]\n",
       "@startuml\r\n",
       " \r\n",
       "package \"P1\" as E1  [[psysml:360ea886-60d8-41b4-b45e-ba2115a877e8 ]]  {\r\n",
       "comp def \"A\" as E2 << << (B,green) >> [[psysml:5d19b8ce-c5dc-4657-818e-bef8d51cb3ed ]] {\r\n",
       "}\r\n",
       "}\r\n",
       "@enduml\r\n",
       "\n",
       "PlantUML version 1.2020.13(Sat Jun 13 12:26:38 UTC 2020)\n",
       "(EPL source distribution)\n",
       "Java Runtime: OpenJDK Runtime Environment\n",
       "JVM: OpenJDK 64-Bit Server VM\n",
       "Default Encoding: UTF-8\n",
       "Language: en\n",
       "Country: null\n",
       "--></g></svg>"
      ]
     },
     "execution_count": 36,
     "metadata": {},
     "output_type": "execute_result"
    }
   ],
   "source": [
    "%viz --style=\"PLANTUML\" --view=\"MIXED\" \"P1\""
   ]
  },
  {
   "cell_type": "code",
   "execution_count": 37,
   "id": "065a53f3",
   "metadata": {
    "execution": {
     "iopub.execute_input": "2022-03-03T09:58:39.655799Z",
     "iopub.status.busy": "2022-03-03T09:58:39.655391Z",
     "iopub.status.idle": "2022-03-03T09:58:39.676267Z",
     "shell.execute_reply": "2022-03-03T09:58:39.675904Z"
    }
   },
   "outputs": [
    {
     "data": {
      "image/svg+xml": [
       "<?xml version=\"1.0\" encoding=\"UTF-8\" standalone=\"no\"?><svg xmlns=\"http://www.w3.org/2000/svg\" xmlns:xlink=\"http://www.w3.org/1999/xlink\" contentScriptType=\"application/ecmascript\" contentStyleType=\"text/css\" height=\"115px\" preserveAspectRatio=\"none\" style=\"width:140px;height:115px;\" version=\"1.1\" viewBox=\"0 0 140 115\" width=\"140px\" zoomAndPan=\"magnify\"><defs/><g><!--MD5=[fbc87193dbaf4d95561dea2c320d4a47]\n",
       "cluster E1--><a href=\"psysml:360ea886-60d8-41b4-b45e-ba2115a877e8\" target=\"_top\" title=\"psysml:360ea886-60d8-41b4-b45e-ba2115a877e8\" xlink:actuate=\"onRequest\" xlink:href=\"psysml:360ea886-60d8-41b4-b45e-ba2115a877e8\" xlink:show=\"new\" xlink:title=\"psysml:360ea886-60d8-41b4-b45e-ba2115a877e8\" xlink:type=\"simple\"><polygon fill=\"#FFFFFF\" points=\"16,6,40,6,47,28.2969,118,28.2969,118,103,16,103,16,6\" style=\"stroke: #000000; stroke-width: 1.5;\"/><line style=\"stroke: #000000; stroke-width: 1.5;\" x1=\"16\" x2=\"47\" y1=\"28.2969\" y2=\"28.2969\"/><text fill=\"#000000\" font-family=\"sans-serif\" font-size=\"14\" font-weight=\"bold\" lengthAdjust=\"spacingAndGlyphs\" textLength=\"18\" x=\"20\" y=\"20.9951\">P1</text></a><!--MD5=[b4997ac47864f28c2f74865a473b2911]\n",
       "class E2--><a href=\"psysml:5d19b8ce-c5dc-4657-818e-bef8d51cb3ed\" target=\"_top\" title=\"psysml:5d19b8ce-c5dc-4657-818e-bef8d51cb3ed\" xlink:actuate=\"onRequest\" xlink:href=\"psysml:5d19b8ce-c5dc-4657-818e-bef8d51cb3ed\" xlink:show=\"new\" xlink:title=\"psysml:5d19b8ce-c5dc-4657-818e-bef8d51cb3ed\" xlink:type=\"simple\"><rect fill=\"#FFFFFF\" height=\"45.9375\" id=\"E2\" style=\"stroke: #383838; stroke-width: 1.5;\" width=\"70\" x=\"32\" y=\"41\"/><text fill=\"#000000\" font-family=\"sans-serif\" font-size=\"12\" font-style=\"italic\" lengthAdjust=\"spacingAndGlyphs\" textLength=\"68\" x=\"33\" y=\"57.1387\">«part  def»</text><text fill=\"#000000\" font-family=\"sans-serif\" font-size=\"12\" lengthAdjust=\"spacingAndGlyphs\" textLength=\"8\" x=\"63\" y=\"71.1074\">A</text><line style=\"stroke: #383838; stroke-width: 1.5;\" x1=\"33\" x2=\"101\" y1=\"78.9375\" y2=\"78.9375\"/></a><!--MD5=[8fa9410a51c673fa2fd8ef342b1b6a9a]\n",
       "@startuml\r\n",
       "skinparam monochrome true\r\n",
       "skinparam classbackgroundcolor white\r\n",
       "skinparam shadowing false\r\n",
       "skinparam wrapWidth 300\r\n",
       "hide circle\r\n",
       "\r\n",
       "package \"P1\" as E1  [[psysml:360ea886-60d8-41b4-b45e-ba2115a877e8 ]]  {\r\n",
       "comp def \"A\" as E2  <<(T,blue) part  def>> [[psysml:5d19b8ce-c5dc-4657-818e-bef8d51cb3ed ]] {\r\n",
       "}\r\n",
       "}\r\n",
       "@enduml\r\n",
       "\n",
       "PlantUML version 1.2020.13(Sat Jun 13 12:26:38 UTC 2020)\n",
       "(EPL source distribution)\n",
       "Java Runtime: OpenJDK Runtime Environment\n",
       "JVM: OpenJDK 64-Bit Server VM\n",
       "Default Encoding: UTF-8\n",
       "Language: en\n",
       "Country: null\n",
       "--></g></svg>"
      ]
     },
     "execution_count": 37,
     "metadata": {},
     "output_type": "execute_result"
    }
   ],
   "source": [
    "%viz --style=\"DEFAULT\" --view=\"Default\" \"P1\""
   ]
  },
  {
   "cell_type": "code",
   "execution_count": 38,
   "id": "4221e4fe",
   "metadata": {
    "execution": {
     "iopub.execute_input": "2022-03-03T09:58:39.726223Z",
     "iopub.status.busy": "2022-03-03T09:58:39.725814Z",
     "iopub.status.idle": "2022-03-03T09:58:39.747243Z",
     "shell.execute_reply": "2022-03-03T09:58:39.747563Z"
    }
   },
   "outputs": [
    {
     "data": {
      "image/svg+xml": [
       "<?xml version=\"1.0\" encoding=\"UTF-8\" standalone=\"no\"?><svg xmlns=\"http://www.w3.org/2000/svg\" xmlns:xlink=\"http://www.w3.org/1999/xlink\" contentScriptType=\"application/ecmascript\" contentStyleType=\"text/css\" height=\"115px\" preserveAspectRatio=\"none\" style=\"width:140px;height:115px;\" version=\"1.1\" viewBox=\"0 0 140 115\" width=\"140px\" zoomAndPan=\"magnify\"><defs/><g><!--MD5=[fbc87193dbaf4d95561dea2c320d4a47]\n",
       "cluster E1--><a href=\"psysml:360ea886-60d8-41b4-b45e-ba2115a877e8\" target=\"_top\" title=\"psysml:360ea886-60d8-41b4-b45e-ba2115a877e8\" xlink:actuate=\"onRequest\" xlink:href=\"psysml:360ea886-60d8-41b4-b45e-ba2115a877e8\" xlink:show=\"new\" xlink:title=\"psysml:360ea886-60d8-41b4-b45e-ba2115a877e8\" xlink:type=\"simple\"><polygon fill=\"#FFFFFF\" points=\"16,6,40,6,47,28.2969,118,28.2969,118,103,16,103,16,6\" style=\"stroke: #000000; stroke-width: 1.5;\"/><line style=\"stroke: #000000; stroke-width: 1.5;\" x1=\"16\" x2=\"47\" y1=\"28.2969\" y2=\"28.2969\"/><text fill=\"#000000\" font-family=\"sans-serif\" font-size=\"14\" font-weight=\"bold\" lengthAdjust=\"spacingAndGlyphs\" textLength=\"18\" x=\"20\" y=\"20.9951\">P1</text></a><!--MD5=[b4997ac47864f28c2f74865a473b2911]\n",
       "class E2--><a href=\"psysml:5d19b8ce-c5dc-4657-818e-bef8d51cb3ed\" target=\"_top\" title=\"psysml:5d19b8ce-c5dc-4657-818e-bef8d51cb3ed\" xlink:actuate=\"onRequest\" xlink:href=\"psysml:5d19b8ce-c5dc-4657-818e-bef8d51cb3ed\" xlink:show=\"new\" xlink:title=\"psysml:5d19b8ce-c5dc-4657-818e-bef8d51cb3ed\" xlink:type=\"simple\"><rect fill=\"#FFFFFF\" height=\"45.9375\" id=\"E2\" style=\"stroke: #383838; stroke-width: 1.5;\" width=\"70\" x=\"32\" y=\"41\"/><text fill=\"#000000\" font-family=\"sans-serif\" font-size=\"12\" font-style=\"italic\" lengthAdjust=\"spacingAndGlyphs\" textLength=\"68\" x=\"33\" y=\"57.1387\">«part  def»</text><text fill=\"#000000\" font-family=\"sans-serif\" font-size=\"12\" lengthAdjust=\"spacingAndGlyphs\" textLength=\"8\" x=\"63\" y=\"71.1074\">A</text><line style=\"stroke: #383838; stroke-width: 1.5;\" x1=\"33\" x2=\"101\" y1=\"78.9375\" y2=\"78.9375\"/></a><!--MD5=[8fa9410a51c673fa2fd8ef342b1b6a9a]\n",
       "@startuml\r\n",
       "skinparam monochrome true\r\n",
       "skinparam classbackgroundcolor white\r\n",
       "skinparam shadowing false\r\n",
       "skinparam wrapWidth 300\r\n",
       "hide circle\r\n",
       "\r\n",
       "package \"P1\" as E1  [[psysml:360ea886-60d8-41b4-b45e-ba2115a877e8 ]]  {\r\n",
       "comp def \"A\" as E2  <<(T,blue) part  def>> [[psysml:5d19b8ce-c5dc-4657-818e-bef8d51cb3ed ]] {\r\n",
       "}\r\n",
       "}\r\n",
       "@enduml\r\n",
       "\n",
       "PlantUML version 1.2020.13(Sat Jun 13 12:26:38 UTC 2020)\n",
       "(EPL source distribution)\n",
       "Java Runtime: OpenJDK Runtime Environment\n",
       "JVM: OpenJDK 64-Bit Server VM\n",
       "Default Encoding: UTF-8\n",
       "Language: en\n",
       "Country: null\n",
       "--></g></svg>"
      ]
     },
     "execution_count": 38,
     "metadata": {},
     "output_type": "execute_result"
    }
   ],
   "source": [
    "%viz --style=\"DEFAULT\" --view=\"Tree\" \"P1\""
   ]
  },
  {
   "cell_type": "code",
   "execution_count": 39,
   "id": "cb8c493b",
   "metadata": {
    "execution": {
     "iopub.execute_input": "2022-03-03T09:58:39.797591Z",
     "iopub.status.busy": "2022-03-03T09:58:39.797182Z",
     "iopub.status.idle": "2022-03-03T09:58:39.801514Z",
     "shell.execute_reply": "2022-03-03T09:58:39.801829Z"
    }
   },
   "outputs": [
    {
     "data": {
      "image/svg+xml": [
       "<?xml version=\"1.0\" encoding=\"UTF-8\" standalone=\"no\"?><svg xmlns=\"http://www.w3.org/2000/svg\" xmlns:xlink=\"http://www.w3.org/1999/xlink\" contentScriptType=\"application/ecmascript\" contentStyleType=\"text/css\" height=\"12px\" preserveAspectRatio=\"none\" style=\"width:12px;height:12px;\" version=\"1.1\" viewBox=\"0 0 12 12\" width=\"12px\" zoomAndPan=\"magnify\"><defs/><g><!--MD5=[c5f280e076d0d61ccf4b0f27871bda1d]\n",
       "@startuml\r\n",
       "skinparam monochrome true\r\n",
       "skinparam classbackgroundcolor white\r\n",
       "skinparam shadowing false\r\n",
       "skinparam wrapWidth 300\r\n",
       "hide circle\r\n",
       "\r\n",
       "@enduml\r\n",
       "\n",
       "PlantUML version 1.2020.13(Sat Jun 13 12:26:38 UTC 2020)\n",
       "(EPL source distribution)\n",
       "Java Runtime: OpenJDK Runtime Environment\n",
       "JVM: OpenJDK 64-Bit Server VM\n",
       "Default Encoding: UTF-8\n",
       "Language: en\n",
       "Country: null\n",
       "--></g></svg>"
      ]
     },
     "execution_count": 39,
     "metadata": {},
     "output_type": "execute_result"
    }
   ],
   "source": [
    "%viz --style=\"DEFAULT\" --view=\"State\" \"P1\""
   ]
  },
  {
   "cell_type": "code",
   "execution_count": 40,
   "id": "95433cb5",
   "metadata": {
    "execution": {
     "iopub.execute_input": "2022-03-03T09:58:39.851900Z",
     "iopub.status.busy": "2022-03-03T09:58:39.851496Z",
     "iopub.status.idle": "2022-03-03T09:58:39.873148Z",
     "shell.execute_reply": "2022-03-03T09:58:39.873463Z"
    }
   },
   "outputs": [
    {
     "data": {
      "image/svg+xml": [
       "<?xml version=\"1.0\" encoding=\"UTF-8\" standalone=\"no\"?><svg xmlns=\"http://www.w3.org/2000/svg\" xmlns:xlink=\"http://www.w3.org/1999/xlink\" contentScriptType=\"application/ecmascript\" contentStyleType=\"text/css\" height=\"112px\" preserveAspectRatio=\"none\" style=\"width:144px;height:112px;\" version=\"1.1\" viewBox=\"0 0 144 112\" width=\"144px\" zoomAndPan=\"magnify\"><defs/><g><!--MD5=[fbc87193dbaf4d95561dea2c320d4a47]\n",
       "cluster E1--><a href=\"psysml:360ea886-60d8-41b4-b45e-ba2115a877e8\" target=\"_top\" title=\"psysml:360ea886-60d8-41b4-b45e-ba2115a877e8\" xlink:actuate=\"onRequest\" xlink:href=\"psysml:360ea886-60d8-41b4-b45e-ba2115a877e8\" xlink:show=\"new\" xlink:title=\"psysml:360ea886-60d8-41b4-b45e-ba2115a877e8\" xlink:type=\"simple\"><polygon fill=\"#FFFFFF\" points=\"16,6,40,6,47,28.2969,122,28.2969,122,100,16,100,16,6\" style=\"stroke: #000000; stroke-width: 1.5;\"/><line style=\"stroke: #000000; stroke-width: 1.5;\" x1=\"16\" x2=\"47\" y1=\"28.2969\" y2=\"28.2969\"/><text fill=\"#000000\" font-family=\"sans-serif\" font-size=\"14\" font-weight=\"bold\" lengthAdjust=\"spacingAndGlyphs\" textLength=\"18\" x=\"20\" y=\"20.9951\">P1</text></a><g id=\"E1.E2\"><a href=\"psysml:5d19b8ce-c5dc-4657-818e-bef8d51cb3ed\" target=\"_top\" title=\"psysml:5d19b8ce-c5dc-4657-818e-bef8d51cb3ed\" xlink:actuate=\"onRequest\" xlink:href=\"psysml:5d19b8ce-c5dc-4657-818e-bef8d51cb3ed\" xlink:show=\"new\" xlink:title=\"psysml:5d19b8ce-c5dc-4657-818e-bef8d51cb3ed\" xlink:type=\"simple\"><rect fill=\"#FFFFFF\" height=\"42.9375\" id=\"E2\" style=\"stroke: #383838; stroke-width: 1.5;\" width=\"75\" x=\"31.5\" y=\"41\"/><rect fill=\"#F8F8F8\" height=\"37.9375\" style=\"stroke: #383838; stroke-width: 1.5;\" width=\"75\" x=\"31.5\" y=\"41\"/><text fill=\"#000000\" font-family=\"sans-serif\" font-size=\"12\" font-style=\"italic\" lengthAdjust=\"spacingAndGlyphs\" textLength=\"68\" x=\"35\" y=\"57.1387\">«part  def»</text><text fill=\"#000000\" font-family=\"sans-serif\" font-size=\"12\" lengthAdjust=\"spacingAndGlyphs\" textLength=\"8\" x=\"65\" y=\"71.1074\">A</text></a></g><!--MD5=[810a6bc185f7fe7558193442c8301e78]\n",
       "@startuml\r\n",
       "skinparam ranksep 10\r\n",
       "skinparam rectangle {\r\n",
       " backgroundColor<<block>> LightGreen\r\n",
       "}\r\n",
       "skinparam monochrome true\r\n",
       "skinparam classbackgroundcolor white\r\n",
       "skinparam shadowing false\r\n",
       "skinparam wrapWidth 300\r\n",
       "hide circle\r\n",
       "\r\n",
       "package \"P1\" as E1  [[psysml:360ea886-60d8-41b4-b45e-ba2115a877e8 ]]  {\r\n",
       "rec def \"A\" as E2  <<(T,blue) part  def>> [[psysml:5d19b8ce-c5dc-4657-818e-bef8d51cb3ed ]] {\r\n",
       "}\r\n",
       "}\r\n",
       "@enduml\r\n",
       "\n",
       "PlantUML version 1.2020.13(Sat Jun 13 12:26:38 UTC 2020)\n",
       "(EPL source distribution)\n",
       "Java Runtime: OpenJDK Runtime Environment\n",
       "JVM: OpenJDK 64-Bit Server VM\n",
       "Default Encoding: UTF-8\n",
       "Language: en\n",
       "Country: null\n",
       "--></g></svg>"
      ]
     },
     "execution_count": 40,
     "metadata": {},
     "output_type": "execute_result"
    }
   ],
   "source": [
    "%viz --style=\"DEFAULT\" --view=\"Interconnection\" \"P1\""
   ]
  },
  {
   "cell_type": "code",
   "execution_count": 41,
   "id": "d204ecc4",
   "metadata": {
    "execution": {
     "iopub.execute_input": "2022-03-03T09:58:39.923478Z",
     "iopub.status.busy": "2022-03-03T09:58:39.923074Z",
     "iopub.status.idle": "2022-03-03T09:58:39.927812Z",
     "shell.execute_reply": "2022-03-03T09:58:39.927478Z"
    }
   },
   "outputs": [
    {
     "data": {
      "image/svg+xml": [
       "<?xml version=\"1.0\" encoding=\"UTF-8\" standalone=\"no\"?><svg xmlns=\"http://www.w3.org/2000/svg\" xmlns:xlink=\"http://www.w3.org/1999/xlink\" contentScriptType=\"application/ecmascript\" contentStyleType=\"text/css\" height=\"12px\" preserveAspectRatio=\"none\" style=\"width:12px;height:12px;\" version=\"1.1\" viewBox=\"0 0 12 12\" width=\"12px\" zoomAndPan=\"magnify\"><defs/><g><!--MD5=[388f21188e31bfdd97050473b19af356]\n",
       "@startuml\r\n",
       "skinparam ranksep 8\r\n",
       "skinparam monochrome true\r\n",
       "skinparam classbackgroundcolor white\r\n",
       "skinparam shadowing false\r\n",
       "skinparam wrapWidth 300\r\n",
       "hide circle\r\n",
       "\r\n",
       "@enduml\r\n",
       "\n",
       "PlantUML version 1.2020.13(Sat Jun 13 12:26:38 UTC 2020)\n",
       "(EPL source distribution)\n",
       "Java Runtime: OpenJDK Runtime Environment\n",
       "JVM: OpenJDK 64-Bit Server VM\n",
       "Default Encoding: UTF-8\n",
       "Language: en\n",
       "Country: null\n",
       "--></g></svg>"
      ]
     },
     "execution_count": 41,
     "metadata": {},
     "output_type": "execute_result"
    }
   ],
   "source": [
    "%viz --style=\"DEFAULT\" --view=\"Action\" \"P1\""
   ]
  },
  {
   "cell_type": "code",
   "execution_count": 42,
   "id": "0eb19fb8",
   "metadata": {
    "execution": {
     "iopub.execute_input": "2022-03-03T09:58:39.977967Z",
     "iopub.status.busy": "2022-03-03T09:58:39.977561Z",
     "iopub.status.idle": "2022-03-03T09:58:39.982716Z",
     "shell.execute_reply": "2022-03-03T09:58:39.983027Z"
    }
   },
   "outputs": [
    {
     "data": {
      "image/svg+xml": [
       "<?xml version=\"1.0\" encoding=\"UTF-8\" standalone=\"no\"?><svg xmlns=\"http://www.w3.org/2000/svg\" xmlns:xlink=\"http://www.w3.org/1999/xlink\" contentScriptType=\"application/ecmascript\" contentStyleType=\"text/css\" height=\"12px\" preserveAspectRatio=\"none\" style=\"width:12px;height:12px;\" version=\"1.1\" viewBox=\"0 0 12 12\" width=\"12px\" zoomAndPan=\"magnify\"><defs/><g><!--MD5=[0b72472770326784bf6c2b53246e1e64]\n",
       "@startuml\r\n",
       "skinparam roundcorner 20\r\n",
       "skinparam BoxPadding 20\r\n",
       "skinparam SequenceBoxBackgroundColor #white\r\n",
       "skinparam style strictuml\r\n",
       "skinparam maxMessageSize 100\r\n",
       "skinparam monochrome true\r\n",
       "skinparam classbackgroundcolor white\r\n",
       "skinparam shadowing false\r\n",
       "skinparam wrapWidth 300\r\n",
       "hide circle\r\n",
       "\r\n",
       "@enduml\r\n",
       "\n",
       "PlantUML version 1.2020.13(Sat Jun 13 12:26:38 UTC 2020)\n",
       "(EPL source distribution)\n",
       "Java Runtime: OpenJDK Runtime Environment\n",
       "JVM: OpenJDK 64-Bit Server VM\n",
       "Default Encoding: UTF-8\n",
       "Language: en\n",
       "Country: null\n",
       "--></g></svg>"
      ]
     },
     "execution_count": 42,
     "metadata": {},
     "output_type": "execute_result"
    }
   ],
   "source": [
    "%viz --style=\"DEFAULT\" --view=\"Sequence\" \"P1\""
   ]
  },
  {
   "cell_type": "code",
   "execution_count": 43,
   "id": "9f5ab9dc",
   "metadata": {
    "execution": {
     "iopub.execute_input": "2022-03-03T09:58:40.033147Z",
     "iopub.status.busy": "2022-03-03T09:58:40.032744Z",
     "iopub.status.idle": "2022-03-03T09:58:40.054975Z",
     "shell.execute_reply": "2022-03-03T09:58:40.054446Z"
    }
   },
   "outputs": [
    {
     "data": {
      "image/svg+xml": [
       "<?xml version=\"1.0\" encoding=\"UTF-8\" standalone=\"no\"?><svg xmlns=\"http://www.w3.org/2000/svg\" xmlns:xlink=\"http://www.w3.org/1999/xlink\" contentScriptType=\"application/ecmascript\" contentStyleType=\"text/css\" height=\"115px\" preserveAspectRatio=\"none\" style=\"width:140px;height:115px;\" version=\"1.1\" viewBox=\"0 0 140 115\" width=\"140px\" zoomAndPan=\"magnify\"><defs/><g><!--MD5=[fbc87193dbaf4d95561dea2c320d4a47]\n",
       "cluster E1--><a href=\"psysml:360ea886-60d8-41b4-b45e-ba2115a877e8\" target=\"_top\" title=\"psysml:360ea886-60d8-41b4-b45e-ba2115a877e8\" xlink:actuate=\"onRequest\" xlink:href=\"psysml:360ea886-60d8-41b4-b45e-ba2115a877e8\" xlink:show=\"new\" xlink:title=\"psysml:360ea886-60d8-41b4-b45e-ba2115a877e8\" xlink:type=\"simple\"><polygon fill=\"#FFFFFF\" points=\"16,6,40,6,47,28.2969,118,28.2969,118,103,16,103,16,6\" style=\"stroke: #000000; stroke-width: 1.5;\"/><line style=\"stroke: #000000; stroke-width: 1.5;\" x1=\"16\" x2=\"47\" y1=\"28.2969\" y2=\"28.2969\"/><text fill=\"#000000\" font-family=\"sans-serif\" font-size=\"14\" font-weight=\"bold\" lengthAdjust=\"spacingAndGlyphs\" textLength=\"18\" x=\"20\" y=\"20.9951\">P1</text></a><!--MD5=[b4997ac47864f28c2f74865a473b2911]\n",
       "class E2--><a href=\"psysml:5d19b8ce-c5dc-4657-818e-bef8d51cb3ed\" target=\"_top\" title=\"psysml:5d19b8ce-c5dc-4657-818e-bef8d51cb3ed\" xlink:actuate=\"onRequest\" xlink:href=\"psysml:5d19b8ce-c5dc-4657-818e-bef8d51cb3ed\" xlink:show=\"new\" xlink:title=\"psysml:5d19b8ce-c5dc-4657-818e-bef8d51cb3ed\" xlink:type=\"simple\"><rect fill=\"#FFFFFF\" height=\"45.9375\" id=\"E2\" style=\"stroke: #383838; stroke-width: 1.5;\" width=\"70\" x=\"32\" y=\"41\"/><text fill=\"#000000\" font-family=\"sans-serif\" font-size=\"12\" font-style=\"italic\" lengthAdjust=\"spacingAndGlyphs\" textLength=\"68\" x=\"33\" y=\"57.1387\">«part  def»</text><text fill=\"#000000\" font-family=\"sans-serif\" font-size=\"12\" lengthAdjust=\"spacingAndGlyphs\" textLength=\"8\" x=\"63\" y=\"71.1074\">A</text><line style=\"stroke: #383838; stroke-width: 1.5;\" x1=\"33\" x2=\"101\" y1=\"78.9375\" y2=\"78.9375\"/></a><!--MD5=[8fa9410a51c673fa2fd8ef342b1b6a9a]\n",
       "@startuml\r\n",
       "skinparam monochrome true\r\n",
       "skinparam classbackgroundcolor white\r\n",
       "skinparam shadowing false\r\n",
       "skinparam wrapWidth 300\r\n",
       "hide circle\r\n",
       "\r\n",
       "package \"P1\" as E1  [[psysml:360ea886-60d8-41b4-b45e-ba2115a877e8 ]]  {\r\n",
       "comp def \"A\" as E2  <<(T,blue) part  def>> [[psysml:5d19b8ce-c5dc-4657-818e-bef8d51cb3ed ]] {\r\n",
       "}\r\n",
       "}\r\n",
       "@enduml\r\n",
       "\n",
       "PlantUML version 1.2020.13(Sat Jun 13 12:26:38 UTC 2020)\n",
       "(EPL source distribution)\n",
       "Java Runtime: OpenJDK Runtime Environment\n",
       "JVM: OpenJDK 64-Bit Server VM\n",
       "Default Encoding: UTF-8\n",
       "Language: en\n",
       "Country: null\n",
       "--></g></svg>"
      ]
     },
     "execution_count": 43,
     "metadata": {},
     "output_type": "execute_result"
    }
   ],
   "source": [
    "%viz --style=\"DEFAULT\" --view=\"MIXED\" \"P1\""
   ]
  },
  {
   "cell_type": "code",
   "execution_count": 44,
   "id": "40c76583",
   "metadata": {
    "execution": {
     "iopub.execute_input": "2022-03-03T09:58:40.104517Z",
     "iopub.status.busy": "2022-03-03T09:58:40.103910Z",
     "iopub.status.idle": "2022-03-03T09:58:40.126352Z",
     "shell.execute_reply": "2022-03-03T09:58:40.125964Z"
    }
   },
   "outputs": [
    {
     "data": {
      "image/svg+xml": [
       "<?xml version=\"1.0\" encoding=\"UTF-8\" standalone=\"no\"?><svg xmlns=\"http://www.w3.org/2000/svg\" xmlns:xlink=\"http://www.w3.org/1999/xlink\" contentScriptType=\"application/ecmascript\" contentStyleType=\"text/css\" height=\"115px\" preserveAspectRatio=\"none\" style=\"width:140px;height:115px;\" version=\"1.1\" viewBox=\"0 0 140 115\" width=\"140px\" zoomAndPan=\"magnify\"><defs/><g><!--MD5=[fbc87193dbaf4d95561dea2c320d4a47]\n",
       "cluster E1--><a href=\"psysml:360ea886-60d8-41b4-b45e-ba2115a877e8\" target=\"_top\" title=\"psysml:360ea886-60d8-41b4-b45e-ba2115a877e8\" xlink:actuate=\"onRequest\" xlink:href=\"psysml:360ea886-60d8-41b4-b45e-ba2115a877e8\" xlink:show=\"new\" xlink:title=\"psysml:360ea886-60d8-41b4-b45e-ba2115a877e8\" xlink:type=\"simple\"><polygon fill=\"#FFFFFF\" points=\"16,6,40,6,47,28.2969,118,28.2969,118,103,16,103,16,6\" style=\"stroke: #000000; stroke-width: 1.5;\"/><line style=\"stroke: #000000; stroke-width: 1.5;\" x1=\"16\" x2=\"47\" y1=\"28.2969\" y2=\"28.2969\"/><text fill=\"#000000\" font-family=\"sans-serif\" font-size=\"14\" font-weight=\"bold\" lengthAdjust=\"spacingAndGlyphs\" textLength=\"18\" x=\"20\" y=\"20.9951\">P1</text></a><!--MD5=[b4997ac47864f28c2f74865a473b2911]\n",
       "class E2--><a href=\"psysml:5d19b8ce-c5dc-4657-818e-bef8d51cb3ed\" target=\"_top\" title=\"psysml:5d19b8ce-c5dc-4657-818e-bef8d51cb3ed\" xlink:actuate=\"onRequest\" xlink:href=\"psysml:5d19b8ce-c5dc-4657-818e-bef8d51cb3ed\" xlink:show=\"new\" xlink:title=\"psysml:5d19b8ce-c5dc-4657-818e-bef8d51cb3ed\" xlink:type=\"simple\"><rect fill=\"#FFFFFF\" height=\"45.9375\" id=\"E2\" style=\"stroke: #383838; stroke-width: 1.5;\" width=\"70\" x=\"32\" y=\"41\"/><text fill=\"#000000\" font-family=\"sans-serif\" font-size=\"12\" font-style=\"italic\" lengthAdjust=\"spacingAndGlyphs\" textLength=\"68\" x=\"33\" y=\"57.1387\">«part  def»</text><text fill=\"#000000\" font-family=\"sans-serif\" font-size=\"12\" lengthAdjust=\"spacingAndGlyphs\" textLength=\"8\" x=\"63\" y=\"71.1074\">A</text><line style=\"stroke: #383838; stroke-width: 1.5;\" x1=\"33\" x2=\"101\" y1=\"78.9375\" y2=\"78.9375\"/></a><!--MD5=[f97e9f8b5500c147339ac10dc04d3e14]\n",
       "@startuml\r\n",
       "top to bottom direction\r\n",
       "skinparam monochrome true\r\n",
       "skinparam classbackgroundcolor white\r\n",
       "skinparam shadowing false\r\n",
       "skinparam wrapWidth 300\r\n",
       "hide circle\r\n",
       "\r\n",
       "package \"P1\" as E1  [[psysml:360ea886-60d8-41b4-b45e-ba2115a877e8 ]]  {\r\n",
       "comp def \"A\" as E2  <<(T,blue) part  def>> [[psysml:5d19b8ce-c5dc-4657-818e-bef8d51cb3ed ]] {\r\n",
       "}\r\n",
       "}\r\n",
       "@enduml\r\n",
       "\n",
       "PlantUML version 1.2020.13(Sat Jun 13 12:26:38 UTC 2020)\n",
       "(EPL source distribution)\n",
       "Java Runtime: OpenJDK Runtime Environment\n",
       "JVM: OpenJDK 64-Bit Server VM\n",
       "Default Encoding: UTF-8\n",
       "Language: en\n",
       "Country: null\n",
       "--></g></svg>"
      ]
     },
     "execution_count": 44,
     "metadata": {},
     "output_type": "execute_result"
    }
   ],
   "source": [
    "%viz --style=\"TB\" --view=\"Default\" \"P1\""
   ]
  },
  {
   "cell_type": "code",
   "execution_count": 45,
   "id": "722d3f19",
   "metadata": {
    "execution": {
     "iopub.execute_input": "2022-03-03T09:58:40.176121Z",
     "iopub.status.busy": "2022-03-03T09:58:40.175653Z",
     "iopub.status.idle": "2022-03-03T09:58:40.198671Z",
     "shell.execute_reply": "2022-03-03T09:58:40.198276Z"
    }
   },
   "outputs": [
    {
     "data": {
      "image/svg+xml": [
       "<?xml version=\"1.0\" encoding=\"UTF-8\" standalone=\"no\"?><svg xmlns=\"http://www.w3.org/2000/svg\" xmlns:xlink=\"http://www.w3.org/1999/xlink\" contentScriptType=\"application/ecmascript\" contentStyleType=\"text/css\" height=\"115px\" preserveAspectRatio=\"none\" style=\"width:140px;height:115px;\" version=\"1.1\" viewBox=\"0 0 140 115\" width=\"140px\" zoomAndPan=\"magnify\"><defs/><g><!--MD5=[fbc87193dbaf4d95561dea2c320d4a47]\n",
       "cluster E1--><a href=\"psysml:360ea886-60d8-41b4-b45e-ba2115a877e8\" target=\"_top\" title=\"psysml:360ea886-60d8-41b4-b45e-ba2115a877e8\" xlink:actuate=\"onRequest\" xlink:href=\"psysml:360ea886-60d8-41b4-b45e-ba2115a877e8\" xlink:show=\"new\" xlink:title=\"psysml:360ea886-60d8-41b4-b45e-ba2115a877e8\" xlink:type=\"simple\"><polygon fill=\"#FFFFFF\" points=\"16,6,40,6,47,28.2969,118,28.2969,118,103,16,103,16,6\" style=\"stroke: #000000; stroke-width: 1.5;\"/><line style=\"stroke: #000000; stroke-width: 1.5;\" x1=\"16\" x2=\"47\" y1=\"28.2969\" y2=\"28.2969\"/><text fill=\"#000000\" font-family=\"sans-serif\" font-size=\"14\" font-weight=\"bold\" lengthAdjust=\"spacingAndGlyphs\" textLength=\"18\" x=\"20\" y=\"20.9951\">P1</text></a><!--MD5=[b4997ac47864f28c2f74865a473b2911]\n",
       "class E2--><a href=\"psysml:5d19b8ce-c5dc-4657-818e-bef8d51cb3ed\" target=\"_top\" title=\"psysml:5d19b8ce-c5dc-4657-818e-bef8d51cb3ed\" xlink:actuate=\"onRequest\" xlink:href=\"psysml:5d19b8ce-c5dc-4657-818e-bef8d51cb3ed\" xlink:show=\"new\" xlink:title=\"psysml:5d19b8ce-c5dc-4657-818e-bef8d51cb3ed\" xlink:type=\"simple\"><rect fill=\"#FFFFFF\" height=\"45.9375\" id=\"E2\" style=\"stroke: #383838; stroke-width: 1.5;\" width=\"70\" x=\"32\" y=\"41\"/><text fill=\"#000000\" font-family=\"sans-serif\" font-size=\"12\" font-style=\"italic\" lengthAdjust=\"spacingAndGlyphs\" textLength=\"68\" x=\"33\" y=\"57.1387\">«part  def»</text><text fill=\"#000000\" font-family=\"sans-serif\" font-size=\"12\" lengthAdjust=\"spacingAndGlyphs\" textLength=\"8\" x=\"63\" y=\"71.1074\">A</text><line style=\"stroke: #383838; stroke-width: 1.5;\" x1=\"33\" x2=\"101\" y1=\"78.9375\" y2=\"78.9375\"/></a><!--MD5=[f97e9f8b5500c147339ac10dc04d3e14]\n",
       "@startuml\r\n",
       "top to bottom direction\r\n",
       "skinparam monochrome true\r\n",
       "skinparam classbackgroundcolor white\r\n",
       "skinparam shadowing false\r\n",
       "skinparam wrapWidth 300\r\n",
       "hide circle\r\n",
       "\r\n",
       "package \"P1\" as E1  [[psysml:360ea886-60d8-41b4-b45e-ba2115a877e8 ]]  {\r\n",
       "comp def \"A\" as E2  <<(T,blue) part  def>> [[psysml:5d19b8ce-c5dc-4657-818e-bef8d51cb3ed ]] {\r\n",
       "}\r\n",
       "}\r\n",
       "@enduml\r\n",
       "\n",
       "PlantUML version 1.2020.13(Sat Jun 13 12:26:38 UTC 2020)\n",
       "(EPL source distribution)\n",
       "Java Runtime: OpenJDK Runtime Environment\n",
       "JVM: OpenJDK 64-Bit Server VM\n",
       "Default Encoding: UTF-8\n",
       "Language: en\n",
       "Country: null\n",
       "--></g></svg>"
      ]
     },
     "execution_count": 45,
     "metadata": {},
     "output_type": "execute_result"
    }
   ],
   "source": [
    "%viz --style=\"TB\" --view=\"Tree\" \"P1\""
   ]
  },
  {
   "cell_type": "code",
   "execution_count": 46,
   "id": "2f16f957",
   "metadata": {
    "execution": {
     "iopub.execute_input": "2022-03-03T09:58:40.248305Z",
     "iopub.status.busy": "2022-03-03T09:58:40.247861Z",
     "iopub.status.idle": "2022-03-03T09:58:40.252614Z",
     "shell.execute_reply": "2022-03-03T09:58:40.252922Z"
    }
   },
   "outputs": [
    {
     "data": {
      "image/svg+xml": [
       "<?xml version=\"1.0\" encoding=\"UTF-8\" standalone=\"no\"?><svg xmlns=\"http://www.w3.org/2000/svg\" xmlns:xlink=\"http://www.w3.org/1999/xlink\" contentScriptType=\"application/ecmascript\" contentStyleType=\"text/css\" height=\"12px\" preserveAspectRatio=\"none\" style=\"width:12px;height:12px;\" version=\"1.1\" viewBox=\"0 0 12 12\" width=\"12px\" zoomAndPan=\"magnify\"><defs/><g><!--MD5=[f4ee21bc66e489b5061b7c3e9601fdef]\n",
       "@startuml\r\n",
       "top to bottom direction\r\n",
       "skinparam monochrome true\r\n",
       "skinparam classbackgroundcolor white\r\n",
       "skinparam shadowing false\r\n",
       "skinparam wrapWidth 300\r\n",
       "hide circle\r\n",
       "\r\n",
       "@enduml\r\n",
       "\n",
       "PlantUML version 1.2020.13(Sat Jun 13 12:26:38 UTC 2020)\n",
       "(EPL source distribution)\n",
       "Java Runtime: OpenJDK Runtime Environment\n",
       "JVM: OpenJDK 64-Bit Server VM\n",
       "Default Encoding: UTF-8\n",
       "Language: en\n",
       "Country: null\n",
       "--></g></svg>"
      ]
     },
     "execution_count": 46,
     "metadata": {},
     "output_type": "execute_result"
    }
   ],
   "source": [
    "%viz --style=\"TB\" --view=\"State\" \"P1\""
   ]
  },
  {
   "cell_type": "code",
   "execution_count": 47,
   "id": "12b5626c",
   "metadata": {
    "execution": {
     "iopub.execute_input": "2022-03-03T09:58:40.302970Z",
     "iopub.status.busy": "2022-03-03T09:58:40.302529Z",
     "iopub.status.idle": "2022-03-03T09:58:40.326378Z",
     "shell.execute_reply": "2022-03-03T09:58:40.326073Z"
    }
   },
   "outputs": [
    {
     "data": {
      "image/svg+xml": [
       "<?xml version=\"1.0\" encoding=\"UTF-8\" standalone=\"no\"?><svg xmlns=\"http://www.w3.org/2000/svg\" xmlns:xlink=\"http://www.w3.org/1999/xlink\" contentScriptType=\"application/ecmascript\" contentStyleType=\"text/css\" height=\"112px\" preserveAspectRatio=\"none\" style=\"width:144px;height:112px;\" version=\"1.1\" viewBox=\"0 0 144 112\" width=\"144px\" zoomAndPan=\"magnify\"><defs/><g><!--MD5=[fbc87193dbaf4d95561dea2c320d4a47]\n",
       "cluster E1--><a href=\"psysml:360ea886-60d8-41b4-b45e-ba2115a877e8\" target=\"_top\" title=\"psysml:360ea886-60d8-41b4-b45e-ba2115a877e8\" xlink:actuate=\"onRequest\" xlink:href=\"psysml:360ea886-60d8-41b4-b45e-ba2115a877e8\" xlink:show=\"new\" xlink:title=\"psysml:360ea886-60d8-41b4-b45e-ba2115a877e8\" xlink:type=\"simple\"><polygon fill=\"#FFFFFF\" points=\"16,6,40,6,47,28.2969,122,28.2969,122,100,16,100,16,6\" style=\"stroke: #000000; stroke-width: 1.5;\"/><line style=\"stroke: #000000; stroke-width: 1.5;\" x1=\"16\" x2=\"47\" y1=\"28.2969\" y2=\"28.2969\"/><text fill=\"#000000\" font-family=\"sans-serif\" font-size=\"14\" font-weight=\"bold\" lengthAdjust=\"spacingAndGlyphs\" textLength=\"18\" x=\"20\" y=\"20.9951\">P1</text></a><g id=\"E1.E2\"><a href=\"psysml:5d19b8ce-c5dc-4657-818e-bef8d51cb3ed\" target=\"_top\" title=\"psysml:5d19b8ce-c5dc-4657-818e-bef8d51cb3ed\" xlink:actuate=\"onRequest\" xlink:href=\"psysml:5d19b8ce-c5dc-4657-818e-bef8d51cb3ed\" xlink:show=\"new\" xlink:title=\"psysml:5d19b8ce-c5dc-4657-818e-bef8d51cb3ed\" xlink:type=\"simple\"><rect fill=\"#FFFFFF\" height=\"42.9375\" id=\"E2\" style=\"stroke: #383838; stroke-width: 1.5;\" width=\"75\" x=\"31.5\" y=\"41\"/><rect fill=\"#F8F8F8\" height=\"37.9375\" style=\"stroke: #383838; stroke-width: 1.5;\" width=\"75\" x=\"31.5\" y=\"41\"/><text fill=\"#000000\" font-family=\"sans-serif\" font-size=\"12\" font-style=\"italic\" lengthAdjust=\"spacingAndGlyphs\" textLength=\"68\" x=\"35\" y=\"57.1387\">«part  def»</text><text fill=\"#000000\" font-family=\"sans-serif\" font-size=\"12\" lengthAdjust=\"spacingAndGlyphs\" textLength=\"8\" x=\"65\" y=\"71.1074\">A</text></a></g><!--MD5=[7d76b034f2a8713755554acecc7e7b3b]\n",
       "@startuml\r\n",
       "skinparam ranksep 10\r\n",
       "skinparam rectangle {\r\n",
       " backgroundColor<<block>> LightGreen\r\n",
       "}\r\n",
       "top to bottom direction\r\n",
       "skinparam monochrome true\r\n",
       "skinparam classbackgroundcolor white\r\n",
       "skinparam shadowing false\r\n",
       "skinparam wrapWidth 300\r\n",
       "hide circle\r\n",
       "\r\n",
       "package \"P1\" as E1  [[psysml:360ea886-60d8-41b4-b45e-ba2115a877e8 ]]  {\r\n",
       "rec def \"A\" as E2  <<(T,blue) part  def>> [[psysml:5d19b8ce-c5dc-4657-818e-bef8d51cb3ed ]] {\r\n",
       "}\r\n",
       "}\r\n",
       "@enduml\r\n",
       "\n",
       "PlantUML version 1.2020.13(Sat Jun 13 12:26:38 UTC 2020)\n",
       "(EPL source distribution)\n",
       "Java Runtime: OpenJDK Runtime Environment\n",
       "JVM: OpenJDK 64-Bit Server VM\n",
       "Default Encoding: UTF-8\n",
       "Language: en\n",
       "Country: null\n",
       "--></g></svg>"
      ]
     },
     "execution_count": 47,
     "metadata": {},
     "output_type": "execute_result"
    }
   ],
   "source": [
    "%viz --style=\"TB\" --view=\"Interconnection\" \"P1\""
   ]
  },
  {
   "cell_type": "code",
   "execution_count": 48,
   "id": "3d4756b0",
   "metadata": {
    "execution": {
     "iopub.execute_input": "2022-03-03T09:58:40.376470Z",
     "iopub.status.busy": "2022-03-03T09:58:40.376144Z",
     "iopub.status.idle": "2022-03-03T09:58:40.382268Z",
     "shell.execute_reply": "2022-03-03T09:58:40.382004Z"
    }
   },
   "outputs": [
    {
     "data": {
      "image/svg+xml": [
       "<?xml version=\"1.0\" encoding=\"UTF-8\" standalone=\"no\"?><svg xmlns=\"http://www.w3.org/2000/svg\" xmlns:xlink=\"http://www.w3.org/1999/xlink\" contentScriptType=\"application/ecmascript\" contentStyleType=\"text/css\" height=\"12px\" preserveAspectRatio=\"none\" style=\"width:12px;height:12px;\" version=\"1.1\" viewBox=\"0 0 12 12\" width=\"12px\" zoomAndPan=\"magnify\"><defs/><g><!--MD5=[06afc254b03ac5e9d9fb7773b07d0800]\n",
       "@startuml\r\n",
       "skinparam ranksep 8\r\n",
       "top to bottom direction\r\n",
       "skinparam monochrome true\r\n",
       "skinparam classbackgroundcolor white\r\n",
       "skinparam shadowing false\r\n",
       "skinparam wrapWidth 300\r\n",
       "hide circle\r\n",
       "\r\n",
       "@enduml\r\n",
       "\n",
       "PlantUML version 1.2020.13(Sat Jun 13 12:26:38 UTC 2020)\n",
       "(EPL source distribution)\n",
       "Java Runtime: OpenJDK Runtime Environment\n",
       "JVM: OpenJDK 64-Bit Server VM\n",
       "Default Encoding: UTF-8\n",
       "Language: en\n",
       "Country: null\n",
       "--></g></svg>"
      ]
     },
     "execution_count": 48,
     "metadata": {},
     "output_type": "execute_result"
    }
   ],
   "source": [
    "%viz --style=\"TB\" --view=\"Action\" \"P1\""
   ]
  },
  {
   "cell_type": "code",
   "execution_count": 49,
   "id": "414951e7",
   "metadata": {
    "execution": {
     "iopub.execute_input": "2022-03-03T09:58:40.432930Z",
     "iopub.status.busy": "2022-03-03T09:58:40.432601Z",
     "iopub.status.idle": "2022-03-03T09:58:40.437638Z",
     "shell.execute_reply": "2022-03-03T09:58:40.437958Z"
    }
   },
   "outputs": [
    {
     "data": {
      "image/svg+xml": [
       "<?xml version=\"1.0\" encoding=\"UTF-8\" standalone=\"no\"?><svg xmlns=\"http://www.w3.org/2000/svg\" xmlns:xlink=\"http://www.w3.org/1999/xlink\" contentScriptType=\"application/ecmascript\" contentStyleType=\"text/css\" height=\"12px\" preserveAspectRatio=\"none\" style=\"width:12px;height:12px;\" version=\"1.1\" viewBox=\"0 0 12 12\" width=\"12px\" zoomAndPan=\"magnify\"><defs/><g><!--MD5=[e1ab0c84c44d2fef8bf5f140f2689906]\n",
       "@startuml\r\n",
       "skinparam roundcorner 20\r\n",
       "skinparam BoxPadding 20\r\n",
       "skinparam SequenceBoxBackgroundColor #white\r\n",
       "skinparam style strictuml\r\n",
       "skinparam maxMessageSize 100\r\n",
       "top to bottom direction\r\n",
       "skinparam monochrome true\r\n",
       "skinparam classbackgroundcolor white\r\n",
       "skinparam shadowing false\r\n",
       "skinparam wrapWidth 300\r\n",
       "hide circle\r\n",
       "\r\n",
       "@enduml\r\n",
       "\n",
       "PlantUML version 1.2020.13(Sat Jun 13 12:26:38 UTC 2020)\n",
       "(EPL source distribution)\n",
       "Java Runtime: OpenJDK Runtime Environment\n",
       "JVM: OpenJDK 64-Bit Server VM\n",
       "Default Encoding: UTF-8\n",
       "Language: en\n",
       "Country: null\n",
       "--></g></svg>"
      ]
     },
     "execution_count": 49,
     "metadata": {},
     "output_type": "execute_result"
    }
   ],
   "source": [
    "%viz --style=\"TB\" --view=\"Sequence\" \"P1\""
   ]
  },
  {
   "cell_type": "code",
   "execution_count": 50,
   "id": "885acf14",
   "metadata": {
    "execution": {
     "iopub.execute_input": "2022-03-03T09:58:40.488235Z",
     "iopub.status.busy": "2022-03-03T09:58:40.487828Z",
     "iopub.status.idle": "2022-03-03T09:58:40.514521Z",
     "shell.execute_reply": "2022-03-03T09:58:40.514123Z"
    }
   },
   "outputs": [
    {
     "data": {
      "image/svg+xml": [
       "<?xml version=\"1.0\" encoding=\"UTF-8\" standalone=\"no\"?><svg xmlns=\"http://www.w3.org/2000/svg\" xmlns:xlink=\"http://www.w3.org/1999/xlink\" contentScriptType=\"application/ecmascript\" contentStyleType=\"text/css\" height=\"115px\" preserveAspectRatio=\"none\" style=\"width:140px;height:115px;\" version=\"1.1\" viewBox=\"0 0 140 115\" width=\"140px\" zoomAndPan=\"magnify\"><defs/><g><!--MD5=[fbc87193dbaf4d95561dea2c320d4a47]\n",
       "cluster E1--><a href=\"psysml:360ea886-60d8-41b4-b45e-ba2115a877e8\" target=\"_top\" title=\"psysml:360ea886-60d8-41b4-b45e-ba2115a877e8\" xlink:actuate=\"onRequest\" xlink:href=\"psysml:360ea886-60d8-41b4-b45e-ba2115a877e8\" xlink:show=\"new\" xlink:title=\"psysml:360ea886-60d8-41b4-b45e-ba2115a877e8\" xlink:type=\"simple\"><polygon fill=\"#FFFFFF\" points=\"16,6,40,6,47,28.2969,118,28.2969,118,103,16,103,16,6\" style=\"stroke: #000000; stroke-width: 1.5;\"/><line style=\"stroke: #000000; stroke-width: 1.5;\" x1=\"16\" x2=\"47\" y1=\"28.2969\" y2=\"28.2969\"/><text fill=\"#000000\" font-family=\"sans-serif\" font-size=\"14\" font-weight=\"bold\" lengthAdjust=\"spacingAndGlyphs\" textLength=\"18\" x=\"20\" y=\"20.9951\">P1</text></a><!--MD5=[b4997ac47864f28c2f74865a473b2911]\n",
       "class E2--><a href=\"psysml:5d19b8ce-c5dc-4657-818e-bef8d51cb3ed\" target=\"_top\" title=\"psysml:5d19b8ce-c5dc-4657-818e-bef8d51cb3ed\" xlink:actuate=\"onRequest\" xlink:href=\"psysml:5d19b8ce-c5dc-4657-818e-bef8d51cb3ed\" xlink:show=\"new\" xlink:title=\"psysml:5d19b8ce-c5dc-4657-818e-bef8d51cb3ed\" xlink:type=\"simple\"><rect fill=\"#FFFFFF\" height=\"45.9375\" id=\"E2\" style=\"stroke: #383838; stroke-width: 1.5;\" width=\"70\" x=\"32\" y=\"41\"/><text fill=\"#000000\" font-family=\"sans-serif\" font-size=\"12\" font-style=\"italic\" lengthAdjust=\"spacingAndGlyphs\" textLength=\"68\" x=\"33\" y=\"57.1387\">«part  def»</text><text fill=\"#000000\" font-family=\"sans-serif\" font-size=\"12\" lengthAdjust=\"spacingAndGlyphs\" textLength=\"8\" x=\"63\" y=\"71.1074\">A</text><line style=\"stroke: #383838; stroke-width: 1.5;\" x1=\"33\" x2=\"101\" y1=\"78.9375\" y2=\"78.9375\"/></a><!--MD5=[f97e9f8b5500c147339ac10dc04d3e14]\n",
       "@startuml\r\n",
       "top to bottom direction\r\n",
       "skinparam monochrome true\r\n",
       "skinparam classbackgroundcolor white\r\n",
       "skinparam shadowing false\r\n",
       "skinparam wrapWidth 300\r\n",
       "hide circle\r\n",
       "\r\n",
       "package \"P1\" as E1  [[psysml:360ea886-60d8-41b4-b45e-ba2115a877e8 ]]  {\r\n",
       "comp def \"A\" as E2  <<(T,blue) part  def>> [[psysml:5d19b8ce-c5dc-4657-818e-bef8d51cb3ed ]] {\r\n",
       "}\r\n",
       "}\r\n",
       "@enduml\r\n",
       "\n",
       "PlantUML version 1.2020.13(Sat Jun 13 12:26:38 UTC 2020)\n",
       "(EPL source distribution)\n",
       "Java Runtime: OpenJDK Runtime Environment\n",
       "JVM: OpenJDK 64-Bit Server VM\n",
       "Default Encoding: UTF-8\n",
       "Language: en\n",
       "Country: null\n",
       "--></g></svg>"
      ]
     },
     "execution_count": 50,
     "metadata": {},
     "output_type": "execute_result"
    }
   ],
   "source": [
    "%viz --style=\"TB\" --view=\"MIXED\" \"P1\""
   ]
  },
  {
   "cell_type": "code",
   "execution_count": 51,
   "id": "cbebdf3e",
   "metadata": {
    "execution": {
     "iopub.execute_input": "2022-03-03T09:58:40.563887Z",
     "iopub.status.busy": "2022-03-03T09:58:40.563466Z",
     "iopub.status.idle": "2022-03-03T09:58:40.586386Z",
     "shell.execute_reply": "2022-03-03T09:58:40.585979Z"
    }
   },
   "outputs": [
    {
     "data": {
      "image/svg+xml": [
       "<?xml version=\"1.0\" encoding=\"UTF-8\" standalone=\"no\"?><svg xmlns=\"http://www.w3.org/2000/svg\" xmlns:xlink=\"http://www.w3.org/1999/xlink\" contentScriptType=\"application/ecmascript\" contentStyleType=\"text/css\" height=\"115px\" preserveAspectRatio=\"none\" style=\"width:140px;height:115px;\" version=\"1.1\" viewBox=\"0 0 140 115\" width=\"140px\" zoomAndPan=\"magnify\"><defs/><g><!--MD5=[fbc87193dbaf4d95561dea2c320d4a47]\n",
       "cluster E1--><a href=\"psysml:360ea886-60d8-41b4-b45e-ba2115a877e8\" target=\"_top\" title=\"psysml:360ea886-60d8-41b4-b45e-ba2115a877e8\" xlink:actuate=\"onRequest\" xlink:href=\"psysml:360ea886-60d8-41b4-b45e-ba2115a877e8\" xlink:show=\"new\" xlink:title=\"psysml:360ea886-60d8-41b4-b45e-ba2115a877e8\" xlink:type=\"simple\"><polygon fill=\"#FFFFFF\" points=\"16,6,40,6,47,28.2969,118,28.2969,118,103,16,103,16,6\" style=\"stroke: #000000; stroke-width: 1.5;\"/><line style=\"stroke: #000000; stroke-width: 1.5;\" x1=\"16\" x2=\"47\" y1=\"28.2969\" y2=\"28.2969\"/><text fill=\"#000000\" font-family=\"sans-serif\" font-size=\"14\" font-weight=\"bold\" lengthAdjust=\"spacingAndGlyphs\" textLength=\"18\" x=\"20\" y=\"20.9951\">P1</text></a><!--MD5=[b4997ac47864f28c2f74865a473b2911]\n",
       "class E2--><a href=\"psysml:5d19b8ce-c5dc-4657-818e-bef8d51cb3ed\" target=\"_top\" title=\"psysml:5d19b8ce-c5dc-4657-818e-bef8d51cb3ed\" xlink:actuate=\"onRequest\" xlink:href=\"psysml:5d19b8ce-c5dc-4657-818e-bef8d51cb3ed\" xlink:show=\"new\" xlink:title=\"psysml:5d19b8ce-c5dc-4657-818e-bef8d51cb3ed\" xlink:type=\"simple\"><rect fill=\"#FFFFFF\" height=\"45.9375\" id=\"E2\" style=\"stroke: #383838; stroke-width: 1.5;\" width=\"70\" x=\"32\" y=\"41\"/><text fill=\"#000000\" font-family=\"sans-serif\" font-size=\"12\" font-style=\"italic\" lengthAdjust=\"spacingAndGlyphs\" textLength=\"68\" x=\"33\" y=\"57.1387\">«part  def»</text><text fill=\"#000000\" font-family=\"sans-serif\" font-size=\"12\" lengthAdjust=\"spacingAndGlyphs\" textLength=\"8\" x=\"63\" y=\"71.1074\">A</text><line style=\"stroke: #383838; stroke-width: 1.5;\" x1=\"33\" x2=\"101\" y1=\"78.9375\" y2=\"78.9375\"/></a><!--MD5=[e9a07df421d029a57fd3fab6dc71e830]\n",
       "@startuml\r\n",
       "skinparam linetype ortho\r\n",
       "skinparam monochrome true\r\n",
       "skinparam classbackgroundcolor white\r\n",
       "skinparam shadowing false\r\n",
       "skinparam wrapWidth 300\r\n",
       "hide circle\r\n",
       "\r\n",
       "package \"P1\" as E1  [[psysml:360ea886-60d8-41b4-b45e-ba2115a877e8 ]]  {\r\n",
       "comp def \"A\" as E2  <<(T,blue) part  def>> [[psysml:5d19b8ce-c5dc-4657-818e-bef8d51cb3ed ]] {\r\n",
       "}\r\n",
       "}\r\n",
       "@enduml\r\n",
       "\n",
       "PlantUML version 1.2020.13(Sat Jun 13 12:26:38 UTC 2020)\n",
       "(EPL source distribution)\n",
       "Java Runtime: OpenJDK Runtime Environment\n",
       "JVM: OpenJDK 64-Bit Server VM\n",
       "Default Encoding: UTF-8\n",
       "Language: en\n",
       "Country: null\n",
       "--></g></svg>"
      ]
     },
     "execution_count": 51,
     "metadata": {},
     "output_type": "execute_result"
    }
   ],
   "source": [
    "%viz --style=\"ORTHOLINE\" --view=\"Default\" \"P1\""
   ]
  },
  {
   "cell_type": "code",
   "execution_count": 52,
   "id": "3e311153",
   "metadata": {
    "execution": {
     "iopub.execute_input": "2022-03-03T09:58:40.636065Z",
     "iopub.status.busy": "2022-03-03T09:58:40.635650Z",
     "iopub.status.idle": "2022-03-03T09:58:40.658369Z",
     "shell.execute_reply": "2022-03-03T09:58:40.657973Z"
    }
   },
   "outputs": [
    {
     "data": {
      "image/svg+xml": [
       "<?xml version=\"1.0\" encoding=\"UTF-8\" standalone=\"no\"?><svg xmlns=\"http://www.w3.org/2000/svg\" xmlns:xlink=\"http://www.w3.org/1999/xlink\" contentScriptType=\"application/ecmascript\" contentStyleType=\"text/css\" height=\"115px\" preserveAspectRatio=\"none\" style=\"width:140px;height:115px;\" version=\"1.1\" viewBox=\"0 0 140 115\" width=\"140px\" zoomAndPan=\"magnify\"><defs/><g><!--MD5=[fbc87193dbaf4d95561dea2c320d4a47]\n",
       "cluster E1--><a href=\"psysml:360ea886-60d8-41b4-b45e-ba2115a877e8\" target=\"_top\" title=\"psysml:360ea886-60d8-41b4-b45e-ba2115a877e8\" xlink:actuate=\"onRequest\" xlink:href=\"psysml:360ea886-60d8-41b4-b45e-ba2115a877e8\" xlink:show=\"new\" xlink:title=\"psysml:360ea886-60d8-41b4-b45e-ba2115a877e8\" xlink:type=\"simple\"><polygon fill=\"#FFFFFF\" points=\"16,6,40,6,47,28.2969,118,28.2969,118,103,16,103,16,6\" style=\"stroke: #000000; stroke-width: 1.5;\"/><line style=\"stroke: #000000; stroke-width: 1.5;\" x1=\"16\" x2=\"47\" y1=\"28.2969\" y2=\"28.2969\"/><text fill=\"#000000\" font-family=\"sans-serif\" font-size=\"14\" font-weight=\"bold\" lengthAdjust=\"spacingAndGlyphs\" textLength=\"18\" x=\"20\" y=\"20.9951\">P1</text></a><!--MD5=[b4997ac47864f28c2f74865a473b2911]\n",
       "class E2--><a href=\"psysml:5d19b8ce-c5dc-4657-818e-bef8d51cb3ed\" target=\"_top\" title=\"psysml:5d19b8ce-c5dc-4657-818e-bef8d51cb3ed\" xlink:actuate=\"onRequest\" xlink:href=\"psysml:5d19b8ce-c5dc-4657-818e-bef8d51cb3ed\" xlink:show=\"new\" xlink:title=\"psysml:5d19b8ce-c5dc-4657-818e-bef8d51cb3ed\" xlink:type=\"simple\"><rect fill=\"#FFFFFF\" height=\"45.9375\" id=\"E2\" style=\"stroke: #383838; stroke-width: 1.5;\" width=\"70\" x=\"32\" y=\"41\"/><text fill=\"#000000\" font-family=\"sans-serif\" font-size=\"12\" font-style=\"italic\" lengthAdjust=\"spacingAndGlyphs\" textLength=\"68\" x=\"33\" y=\"57.1387\">«part  def»</text><text fill=\"#000000\" font-family=\"sans-serif\" font-size=\"12\" lengthAdjust=\"spacingAndGlyphs\" textLength=\"8\" x=\"63\" y=\"71.1074\">A</text><line style=\"stroke: #383838; stroke-width: 1.5;\" x1=\"33\" x2=\"101\" y1=\"78.9375\" y2=\"78.9375\"/></a><!--MD5=[e9a07df421d029a57fd3fab6dc71e830]\n",
       "@startuml\r\n",
       "skinparam linetype ortho\r\n",
       "skinparam monochrome true\r\n",
       "skinparam classbackgroundcolor white\r\n",
       "skinparam shadowing false\r\n",
       "skinparam wrapWidth 300\r\n",
       "hide circle\r\n",
       "\r\n",
       "package \"P1\" as E1  [[psysml:360ea886-60d8-41b4-b45e-ba2115a877e8 ]]  {\r\n",
       "comp def \"A\" as E2  <<(T,blue) part  def>> [[psysml:5d19b8ce-c5dc-4657-818e-bef8d51cb3ed ]] {\r\n",
       "}\r\n",
       "}\r\n",
       "@enduml\r\n",
       "\n",
       "PlantUML version 1.2020.13(Sat Jun 13 12:26:38 UTC 2020)\n",
       "(EPL source distribution)\n",
       "Java Runtime: OpenJDK Runtime Environment\n",
       "JVM: OpenJDK 64-Bit Server VM\n",
       "Default Encoding: UTF-8\n",
       "Language: en\n",
       "Country: null\n",
       "--></g></svg>"
      ]
     },
     "execution_count": 52,
     "metadata": {},
     "output_type": "execute_result"
    }
   ],
   "source": [
    "%viz --style=\"ORTHOLINE\" --view=\"Tree\" \"P1\""
   ]
  },
  {
   "cell_type": "code",
   "execution_count": 53,
   "id": "5a73d0cd",
   "metadata": {
    "execution": {
     "iopub.execute_input": "2022-03-03T09:58:40.708067Z",
     "iopub.status.busy": "2022-03-03T09:58:40.707651Z",
     "iopub.status.idle": "2022-03-03T09:58:40.713371Z",
     "shell.execute_reply": "2022-03-03T09:58:40.713030Z"
    }
   },
   "outputs": [
    {
     "data": {
      "image/svg+xml": [
       "<?xml version=\"1.0\" encoding=\"UTF-8\" standalone=\"no\"?><svg xmlns=\"http://www.w3.org/2000/svg\" xmlns:xlink=\"http://www.w3.org/1999/xlink\" contentScriptType=\"application/ecmascript\" contentStyleType=\"text/css\" height=\"12px\" preserveAspectRatio=\"none\" style=\"width:12px;height:12px;\" version=\"1.1\" viewBox=\"0 0 12 12\" width=\"12px\" zoomAndPan=\"magnify\"><defs/><g><!--MD5=[97d6f38768b311333d388e66b2b27985]\n",
       "@startuml\r\n",
       "skinparam linetype ortho\r\n",
       "skinparam monochrome true\r\n",
       "skinparam classbackgroundcolor white\r\n",
       "skinparam shadowing false\r\n",
       "skinparam wrapWidth 300\r\n",
       "hide circle\r\n",
       "\r\n",
       "@enduml\r\n",
       "\n",
       "PlantUML version 1.2020.13(Sat Jun 13 12:26:38 UTC 2020)\n",
       "(EPL source distribution)\n",
       "Java Runtime: OpenJDK Runtime Environment\n",
       "JVM: OpenJDK 64-Bit Server VM\n",
       "Default Encoding: UTF-8\n",
       "Language: en\n",
       "Country: null\n",
       "--></g></svg>"
      ]
     },
     "execution_count": 53,
     "metadata": {},
     "output_type": "execute_result"
    }
   ],
   "source": [
    "%viz --style=\"ORTHOLINE\" --view=\"State\" \"P1\""
   ]
  },
  {
   "cell_type": "code",
   "execution_count": 54,
   "id": "aefadb09",
   "metadata": {
    "execution": {
     "iopub.execute_input": "2022-03-03T09:58:40.763090Z",
     "iopub.status.busy": "2022-03-03T09:58:40.762640Z",
     "iopub.status.idle": "2022-03-03T09:58:40.785245Z",
     "shell.execute_reply": "2022-03-03T09:58:40.784886Z"
    }
   },
   "outputs": [
    {
     "data": {
      "image/svg+xml": [
       "<?xml version=\"1.0\" encoding=\"UTF-8\" standalone=\"no\"?><svg xmlns=\"http://www.w3.org/2000/svg\" xmlns:xlink=\"http://www.w3.org/1999/xlink\" contentScriptType=\"application/ecmascript\" contentStyleType=\"text/css\" height=\"112px\" preserveAspectRatio=\"none\" style=\"width:144px;height:112px;\" version=\"1.1\" viewBox=\"0 0 144 112\" width=\"144px\" zoomAndPan=\"magnify\"><defs/><g><!--MD5=[fbc87193dbaf4d95561dea2c320d4a47]\n",
       "cluster E1--><a href=\"psysml:360ea886-60d8-41b4-b45e-ba2115a877e8\" target=\"_top\" title=\"psysml:360ea886-60d8-41b4-b45e-ba2115a877e8\" xlink:actuate=\"onRequest\" xlink:href=\"psysml:360ea886-60d8-41b4-b45e-ba2115a877e8\" xlink:show=\"new\" xlink:title=\"psysml:360ea886-60d8-41b4-b45e-ba2115a877e8\" xlink:type=\"simple\"><polygon fill=\"#FFFFFF\" points=\"16,6,40,6,47,28.2969,122,28.2969,122,100,16,100,16,6\" style=\"stroke: #000000; stroke-width: 1.5;\"/><line style=\"stroke: #000000; stroke-width: 1.5;\" x1=\"16\" x2=\"47\" y1=\"28.2969\" y2=\"28.2969\"/><text fill=\"#000000\" font-family=\"sans-serif\" font-size=\"14\" font-weight=\"bold\" lengthAdjust=\"spacingAndGlyphs\" textLength=\"18\" x=\"20\" y=\"20.9951\">P1</text></a><g id=\"E1.E2\"><a href=\"psysml:5d19b8ce-c5dc-4657-818e-bef8d51cb3ed\" target=\"_top\" title=\"psysml:5d19b8ce-c5dc-4657-818e-bef8d51cb3ed\" xlink:actuate=\"onRequest\" xlink:href=\"psysml:5d19b8ce-c5dc-4657-818e-bef8d51cb3ed\" xlink:show=\"new\" xlink:title=\"psysml:5d19b8ce-c5dc-4657-818e-bef8d51cb3ed\" xlink:type=\"simple\"><rect fill=\"#FFFFFF\" height=\"42.9375\" id=\"E2\" style=\"stroke: #383838; stroke-width: 1.5;\" width=\"75\" x=\"31.5\" y=\"41\"/><rect fill=\"#F8F8F8\" height=\"37.9375\" style=\"stroke: #383838; stroke-width: 1.5;\" width=\"75\" x=\"31.5\" y=\"41\"/><text fill=\"#000000\" font-family=\"sans-serif\" font-size=\"12\" font-style=\"italic\" lengthAdjust=\"spacingAndGlyphs\" textLength=\"68\" x=\"35\" y=\"57.1387\">«part  def»</text><text fill=\"#000000\" font-family=\"sans-serif\" font-size=\"12\" lengthAdjust=\"spacingAndGlyphs\" textLength=\"8\" x=\"65\" y=\"71.1074\">A</text></a></g><!--MD5=[cedef5c13f1e2ac2d4003b4052c8cc2a]\n",
       "@startuml\r\n",
       "skinparam ranksep 10\r\n",
       "skinparam rectangle {\r\n",
       " backgroundColor<<block>> LightGreen\r\n",
       "}\r\n",
       "skinparam linetype ortho\r\n",
       "skinparam monochrome true\r\n",
       "skinparam classbackgroundcolor white\r\n",
       "skinparam shadowing false\r\n",
       "skinparam wrapWidth 300\r\n",
       "hide circle\r\n",
       "\r\n",
       "package \"P1\" as E1  [[psysml:360ea886-60d8-41b4-b45e-ba2115a877e8 ]]  {\r\n",
       "rec def \"A\" as E2  <<(T,blue) part  def>> [[psysml:5d19b8ce-c5dc-4657-818e-bef8d51cb3ed ]] {\r\n",
       "}\r\n",
       "}\r\n",
       "@enduml\r\n",
       "\n",
       "PlantUML version 1.2020.13(Sat Jun 13 12:26:38 UTC 2020)\n",
       "(EPL source distribution)\n",
       "Java Runtime: OpenJDK Runtime Environment\n",
       "JVM: OpenJDK 64-Bit Server VM\n",
       "Default Encoding: UTF-8\n",
       "Language: en\n",
       "Country: null\n",
       "--></g></svg>"
      ]
     },
     "execution_count": 54,
     "metadata": {},
     "output_type": "execute_result"
    }
   ],
   "source": [
    "%viz --style=\"ORTHOLINE\" --view=\"Interconnection\" \"P1\""
   ]
  },
  {
   "cell_type": "code",
   "execution_count": 55,
   "id": "7c4fd517",
   "metadata": {
    "execution": {
     "iopub.execute_input": "2022-03-03T09:58:40.834885Z",
     "iopub.status.busy": "2022-03-03T09:58:40.834444Z",
     "iopub.status.idle": "2022-03-03T09:58:40.839527Z",
     "shell.execute_reply": "2022-03-03T09:58:40.839162Z"
    }
   },
   "outputs": [
    {
     "data": {
      "image/svg+xml": [
       "<?xml version=\"1.0\" encoding=\"UTF-8\" standalone=\"no\"?><svg xmlns=\"http://www.w3.org/2000/svg\" xmlns:xlink=\"http://www.w3.org/1999/xlink\" contentScriptType=\"application/ecmascript\" contentStyleType=\"text/css\" height=\"12px\" preserveAspectRatio=\"none\" style=\"width:12px;height:12px;\" version=\"1.1\" viewBox=\"0 0 12 12\" width=\"12px\" zoomAndPan=\"magnify\"><defs/><g><!--MD5=[72934c63077099a26744516a776b4749]\n",
       "@startuml\r\n",
       "skinparam ranksep 8\r\n",
       "skinparam linetype ortho\r\n",
       "skinparam monochrome true\r\n",
       "skinparam classbackgroundcolor white\r\n",
       "skinparam shadowing false\r\n",
       "skinparam wrapWidth 300\r\n",
       "hide circle\r\n",
       "\r\n",
       "@enduml\r\n",
       "\n",
       "PlantUML version 1.2020.13(Sat Jun 13 12:26:38 UTC 2020)\n",
       "(EPL source distribution)\n",
       "Java Runtime: OpenJDK Runtime Environment\n",
       "JVM: OpenJDK 64-Bit Server VM\n",
       "Default Encoding: UTF-8\n",
       "Language: en\n",
       "Country: null\n",
       "--></g></svg>"
      ]
     },
     "execution_count": 55,
     "metadata": {},
     "output_type": "execute_result"
    }
   ],
   "source": [
    "%viz --style=\"ORTHOLINE\" --view=\"Action\" \"P1\""
   ]
  },
  {
   "cell_type": "code",
   "execution_count": 56,
   "id": "8289cc49",
   "metadata": {
    "execution": {
     "iopub.execute_input": "2022-03-03T09:58:40.889261Z",
     "iopub.status.busy": "2022-03-03T09:58:40.888852Z",
     "iopub.status.idle": "2022-03-03T09:58:40.893998Z",
     "shell.execute_reply": "2022-03-03T09:58:40.893639Z"
    }
   },
   "outputs": [
    {
     "data": {
      "image/svg+xml": [
       "<?xml version=\"1.0\" encoding=\"UTF-8\" standalone=\"no\"?><svg xmlns=\"http://www.w3.org/2000/svg\" xmlns:xlink=\"http://www.w3.org/1999/xlink\" contentScriptType=\"application/ecmascript\" contentStyleType=\"text/css\" height=\"12px\" preserveAspectRatio=\"none\" style=\"width:12px;height:12px;\" version=\"1.1\" viewBox=\"0 0 12 12\" width=\"12px\" zoomAndPan=\"magnify\"><defs/><g><!--MD5=[30fc1de5121c5abddedd55b44417fde8]\n",
       "@startuml\r\n",
       "skinparam roundcorner 20\r\n",
       "skinparam BoxPadding 20\r\n",
       "skinparam SequenceBoxBackgroundColor #white\r\n",
       "skinparam style strictuml\r\n",
       "skinparam maxMessageSize 100\r\n",
       "skinparam linetype ortho\r\n",
       "skinparam monochrome true\r\n",
       "skinparam classbackgroundcolor white\r\n",
       "skinparam shadowing false\r\n",
       "skinparam wrapWidth 300\r\n",
       "hide circle\r\n",
       "\r\n",
       "@enduml\r\n",
       "\n",
       "PlantUML version 1.2020.13(Sat Jun 13 12:26:38 UTC 2020)\n",
       "(EPL source distribution)\n",
       "Java Runtime: OpenJDK Runtime Environment\n",
       "JVM: OpenJDK 64-Bit Server VM\n",
       "Default Encoding: UTF-8\n",
       "Language: en\n",
       "Country: null\n",
       "--></g></svg>"
      ]
     },
     "execution_count": 56,
     "metadata": {},
     "output_type": "execute_result"
    }
   ],
   "source": [
    "%viz --style=\"ORTHOLINE\" --view=\"Sequence\" \"P1\""
   ]
  },
  {
   "cell_type": "code",
   "execution_count": 57,
   "id": "59a21496",
   "metadata": {
    "execution": {
     "iopub.execute_input": "2022-03-03T09:58:40.943789Z",
     "iopub.status.busy": "2022-03-03T09:58:40.943378Z",
     "iopub.status.idle": "2022-03-03T09:58:40.974016Z",
     "shell.execute_reply": "2022-03-03T09:58:40.973660Z"
    }
   },
   "outputs": [
    {
     "data": {
      "image/svg+xml": [
       "<?xml version=\"1.0\" encoding=\"UTF-8\" standalone=\"no\"?><svg xmlns=\"http://www.w3.org/2000/svg\" xmlns:xlink=\"http://www.w3.org/1999/xlink\" contentScriptType=\"application/ecmascript\" contentStyleType=\"text/css\" height=\"115px\" preserveAspectRatio=\"none\" style=\"width:140px;height:115px;\" version=\"1.1\" viewBox=\"0 0 140 115\" width=\"140px\" zoomAndPan=\"magnify\"><defs/><g><!--MD5=[fbc87193dbaf4d95561dea2c320d4a47]\n",
       "cluster E1--><a href=\"psysml:360ea886-60d8-41b4-b45e-ba2115a877e8\" target=\"_top\" title=\"psysml:360ea886-60d8-41b4-b45e-ba2115a877e8\" xlink:actuate=\"onRequest\" xlink:href=\"psysml:360ea886-60d8-41b4-b45e-ba2115a877e8\" xlink:show=\"new\" xlink:title=\"psysml:360ea886-60d8-41b4-b45e-ba2115a877e8\" xlink:type=\"simple\"><polygon fill=\"#FFFFFF\" points=\"16,6,40,6,47,28.2969,118,28.2969,118,103,16,103,16,6\" style=\"stroke: #000000; stroke-width: 1.5;\"/><line style=\"stroke: #000000; stroke-width: 1.5;\" x1=\"16\" x2=\"47\" y1=\"28.2969\" y2=\"28.2969\"/><text fill=\"#000000\" font-family=\"sans-serif\" font-size=\"14\" font-weight=\"bold\" lengthAdjust=\"spacingAndGlyphs\" textLength=\"18\" x=\"20\" y=\"20.9951\">P1</text></a><!--MD5=[b4997ac47864f28c2f74865a473b2911]\n",
       "class E2--><a href=\"psysml:5d19b8ce-c5dc-4657-818e-bef8d51cb3ed\" target=\"_top\" title=\"psysml:5d19b8ce-c5dc-4657-818e-bef8d51cb3ed\" xlink:actuate=\"onRequest\" xlink:href=\"psysml:5d19b8ce-c5dc-4657-818e-bef8d51cb3ed\" xlink:show=\"new\" xlink:title=\"psysml:5d19b8ce-c5dc-4657-818e-bef8d51cb3ed\" xlink:type=\"simple\"><rect fill=\"#FFFFFF\" height=\"45.9375\" id=\"E2\" style=\"stroke: #383838; stroke-width: 1.5;\" width=\"70\" x=\"32\" y=\"41\"/><text fill=\"#000000\" font-family=\"sans-serif\" font-size=\"12\" font-style=\"italic\" lengthAdjust=\"spacingAndGlyphs\" textLength=\"68\" x=\"33\" y=\"57.1387\">«part  def»</text><text fill=\"#000000\" font-family=\"sans-serif\" font-size=\"12\" lengthAdjust=\"spacingAndGlyphs\" textLength=\"8\" x=\"63\" y=\"71.1074\">A</text><line style=\"stroke: #383838; stroke-width: 1.5;\" x1=\"33\" x2=\"101\" y1=\"78.9375\" y2=\"78.9375\"/></a><!--MD5=[e9a07df421d029a57fd3fab6dc71e830]\n",
       "@startuml\r\n",
       "skinparam linetype ortho\r\n",
       "skinparam monochrome true\r\n",
       "skinparam classbackgroundcolor white\r\n",
       "skinparam shadowing false\r\n",
       "skinparam wrapWidth 300\r\n",
       "hide circle\r\n",
       "\r\n",
       "package \"P1\" as E1  [[psysml:360ea886-60d8-41b4-b45e-ba2115a877e8 ]]  {\r\n",
       "comp def \"A\" as E2  <<(T,blue) part  def>> [[psysml:5d19b8ce-c5dc-4657-818e-bef8d51cb3ed ]] {\r\n",
       "}\r\n",
       "}\r\n",
       "@enduml\r\n",
       "\n",
       "PlantUML version 1.2020.13(Sat Jun 13 12:26:38 UTC 2020)\n",
       "(EPL source distribution)\n",
       "Java Runtime: OpenJDK Runtime Environment\n",
       "JVM: OpenJDK 64-Bit Server VM\n",
       "Default Encoding: UTF-8\n",
       "Language: en\n",
       "Country: null\n",
       "--></g></svg>"
      ]
     },
     "execution_count": 57,
     "metadata": {},
     "output_type": "execute_result"
    }
   ],
   "source": [
    "%viz --style=\"ORTHOLINE\" --view=\"MIXED\" \"P1\""
   ]
  }
 ],
 "metadata": {
  "kernelspec": {
   "display_name": "SysML",
   "language": "sysml",
   "name": "sysml"
  },
  "language_info": {
   "codemirror_mode": "sysml",
   "file_extension": ".sysml",
   "mimetype": "text/x-sysml",
   "name": "SysML",
   "pygments_lexer": "java",
   "version": "1.0.0"
  }
 },
 "nbformat": 4,
 "nbformat_minor": 5
}
