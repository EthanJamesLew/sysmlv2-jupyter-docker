{
 "cells": [
  {
   "cell_type": "markdown",
   "id": "b9807e90",
   "metadata": {},
   "source": [
    "# SysML v2 Test Suite\n",
    "\n",
    "This can notebook can be cleared using menu `Edit --> Clear All Outputs` and then all cells can be\n",
    "run using menu `Run --> Run All Cells`.\n",
    "\n",
    "**WARNING**: This file is generated, all modifications here will be ignored.\n"
   ]
  },
  {
   "cell_type": "markdown",
   "id": "1ae741bc",
   "metadata": {},
   "source": [
    "## File: ../../sysml/src/examples/Simple Tests/RootPackageTest.sysml"
   ]
  },
  {
   "cell_type": "code",
   "execution_count": 1,
   "id": "c5e6fe78",
   "metadata": {
    "execution": {
     "iopub.execute_input": "2021-04-20T07:31:11.146528Z",
     "iopub.status.busy": "2021-04-20T07:31:11.145880Z",
     "iopub.status.idle": "2021-04-20T07:31:11.279709Z",
     "shell.execute_reply": "2021-04-20T07:31:11.278977Z"
    }
   },
   "outputs": [
    {
     "data": {
      "text/plain": [
       "Package P1 (fc59d83b-0738-4622-a30f-3d01b2eea062)\n",
       "Package P2 (2dda4182-e279-42bf-b390-acbc99547608)\n",
       "Package P3 (c5a96282-cdf3-4b0e-a22e-46e8f5d648b6)\n"
      ]
     },
     "execution_count": 1,
     "metadata": {},
     "output_type": "execute_result"
    }
   ],
   "source": [
    "package P1 {\n",
    "\tpart def A;\n",
    "}\n",
    "\n",
    "package P2 {\n",
    "\timport P1::*;\n",
    "\tpart a : A;\n",
    "}\n",
    "\n",
    "import P2::*;\n",
    "\n",
    "package P3 {\n",
    "\tpart b subsets a;\n",
    "}"
   ]
  },
  {
   "cell_type": "code",
   "execution_count": 2,
   "id": "6d1c663e",
   "metadata": {
    "execution": {
     "iopub.execute_input": "2021-04-20T07:31:11.330696Z",
     "iopub.status.busy": "2021-04-20T07:31:11.330203Z",
     "iopub.status.idle": "2021-04-20T07:31:11.941595Z",
     "shell.execute_reply": "2021-04-20T07:31:11.941129Z"
    }
   },
   "outputs": [
    {
     "data": {
      "image/svg+xml": [
       "<?xml version=\"1.0\" encoding=\"UTF-8\" standalone=\"no\"?><svg xmlns=\"http://www.w3.org/2000/svg\" xmlns:xlink=\"http://www.w3.org/1999/xlink\" contentScriptType=\"application/ecmascript\" contentStyleType=\"text/css\" height=\"115px\" preserveAspectRatio=\"none\" style=\"width:136px;height:115px;\" version=\"1.1\" viewBox=\"0 0 136 115\" width=\"136px\" zoomAndPan=\"magnify\"><defs/><g><!--MD5=[fbc87193dbaf4d95561dea2c320d4a47]\n",
       "cluster E1--><a href=\"psysml:611624e7-c7ed-4f74-a421-b5a21d227404\" target=\"_top\" title=\"psysml:611624e7-c7ed-4f74-a421-b5a21d227404\" xlink:actuate=\"onRequest\" xlink:href=\"psysml:611624e7-c7ed-4f74-a421-b5a21d227404\" xlink:show=\"new\" xlink:title=\"psysml:611624e7-c7ed-4f74-a421-b5a21d227404\" xlink:type=\"simple\"><polygon fill=\"#FFFFFF\" points=\"16,6,42,6,49,28.2969,114,28.2969,114,103,16,103,16,6\" style=\"stroke: #000000; stroke-width: 1.5;\"/><line style=\"stroke: #000000; stroke-width: 1.5;\" x1=\"16\" x2=\"49\" y1=\"28.2969\" y2=\"28.2969\"/><text fill=\"#000000\" font-family=\"sans-serif\" font-size=\"14\" font-weight=\"bold\" lengthAdjust=\"spacingAndGlyphs\" textLength=\"20\" x=\"20\" y=\"20.9951\">P1</text></a><!--MD5=[b4997ac47864f28c2f74865a473b2911]\n",
       "class E2--><a href=\"psysml:2313e16f-2d10-449a-8d9c-49e73c1dbd71\" target=\"_top\" title=\"psysml:2313e16f-2d10-449a-8d9c-49e73c1dbd71\" xlink:actuate=\"onRequest\" xlink:href=\"psysml:2313e16f-2d10-449a-8d9c-49e73c1dbd71\" xlink:show=\"new\" xlink:title=\"psysml:2313e16f-2d10-449a-8d9c-49e73c1dbd71\" xlink:type=\"simple\"><rect fill=\"#FFFFFF\" height=\"45.9375\" id=\"E2\" style=\"stroke: #383838; stroke-width: 1.5;\" width=\"66\" x=\"32\" y=\"41\"/><text fill=\"#000000\" font-family=\"sans-serif\" font-size=\"12\" font-style=\"italic\" lengthAdjust=\"spacingAndGlyphs\" textLength=\"64\" x=\"33\" y=\"57.1387\">«part def»</text><text fill=\"#000000\" font-family=\"sans-serif\" font-size=\"12\" lengthAdjust=\"spacingAndGlyphs\" textLength=\"8\" x=\"61\" y=\"71.1074\">A</text><line style=\"stroke: #383838; stroke-width: 1.5;\" x1=\"33\" x2=\"97\" y1=\"78.9375\" y2=\"78.9375\"/></a><!--MD5=[b7d3227300148f3140a77b8c8500d7eb]\n",
       "@startuml\r\n",
       " skinparam monochrome true\r\n",
       "skinparam classbackgroundcolor white\r\n",
       "skinparam shadowing false\r\n",
       "skinparam wrapWidth 300\r\n",
       "hide circle\r\n",
       "\r\n",
       "package \"P1\" as E1  [[psysml:611624e7-c7ed-4f74-a421-b5a21d227404 ]]  {\r\n",
       "comp def \"A\" as E2  <<(T,blue)part def>> [[psysml:2313e16f-2d10-449a-8d9c-49e73c1dbd71 ]] {\r\n",
       "}\r\n",
       "}\r\n",
       "@enduml\r\n",
       "\n",
       "PlantUML version 1.2020.13(Sat Jun 13 12:26:38 UTC 2020)\n",
       "(EPL source distribution)\n",
       "Java Runtime: OpenJDK Runtime Environment\n",
       "JVM: OpenJDK 64-Bit Server VM\n",
       "Default Encoding: UTF-8\n",
       "Language: en\n",
       "Country: null\n",
       "--></g></svg>"
      ]
     },
     "execution_count": 2,
     "metadata": {},
     "output_type": "execute_result"
    }
   ],
   "source": [
    "%viz --style=\"COMPTREE\" --view=\"Default\" \"P1\""
   ]
  },
  {
   "cell_type": "code",
   "execution_count": 3,
   "id": "12aeed5a",
   "metadata": {
    "execution": {
     "iopub.execute_input": "2021-04-20T07:31:11.993250Z",
     "iopub.status.busy": "2021-04-20T07:31:11.992791Z",
     "iopub.status.idle": "2021-04-20T07:31:12.048355Z",
     "shell.execute_reply": "2021-04-20T07:31:12.047909Z"
    }
   },
   "outputs": [
    {
     "data": {
      "image/svg+xml": [
       "<?xml version=\"1.0\" encoding=\"UTF-8\" standalone=\"no\"?><svg xmlns=\"http://www.w3.org/2000/svg\" xmlns:xlink=\"http://www.w3.org/1999/xlink\" contentScriptType=\"application/ecmascript\" contentStyleType=\"text/css\" height=\"115px\" preserveAspectRatio=\"none\" style=\"width:136px;height:115px;\" version=\"1.1\" viewBox=\"0 0 136 115\" width=\"136px\" zoomAndPan=\"magnify\"><defs/><g><!--MD5=[fbc87193dbaf4d95561dea2c320d4a47]\n",
       "cluster E1--><a href=\"psysml:611624e7-c7ed-4f74-a421-b5a21d227404\" target=\"_top\" title=\"psysml:611624e7-c7ed-4f74-a421-b5a21d227404\" xlink:actuate=\"onRequest\" xlink:href=\"psysml:611624e7-c7ed-4f74-a421-b5a21d227404\" xlink:show=\"new\" xlink:title=\"psysml:611624e7-c7ed-4f74-a421-b5a21d227404\" xlink:type=\"simple\"><polygon fill=\"#FFFFFF\" points=\"16,6,42,6,49,28.2969,114,28.2969,114,103,16,103,16,6\" style=\"stroke: #000000; stroke-width: 1.5;\"/><line style=\"stroke: #000000; stroke-width: 1.5;\" x1=\"16\" x2=\"49\" y1=\"28.2969\" y2=\"28.2969\"/><text fill=\"#000000\" font-family=\"sans-serif\" font-size=\"14\" font-weight=\"bold\" lengthAdjust=\"spacingAndGlyphs\" textLength=\"20\" x=\"20\" y=\"20.9951\">P1</text></a><!--MD5=[b4997ac47864f28c2f74865a473b2911]\n",
       "class E2--><a href=\"psysml:2313e16f-2d10-449a-8d9c-49e73c1dbd71\" target=\"_top\" title=\"psysml:2313e16f-2d10-449a-8d9c-49e73c1dbd71\" xlink:actuate=\"onRequest\" xlink:href=\"psysml:2313e16f-2d10-449a-8d9c-49e73c1dbd71\" xlink:show=\"new\" xlink:title=\"psysml:2313e16f-2d10-449a-8d9c-49e73c1dbd71\" xlink:type=\"simple\"><rect fill=\"#FFFFFF\" height=\"45.9375\" id=\"E2\" style=\"stroke: #383838; stroke-width: 1.5;\" width=\"66\" x=\"32\" y=\"41\"/><text fill=\"#000000\" font-family=\"sans-serif\" font-size=\"12\" font-style=\"italic\" lengthAdjust=\"spacingAndGlyphs\" textLength=\"64\" x=\"33\" y=\"57.1387\">«part def»</text><text fill=\"#000000\" font-family=\"sans-serif\" font-size=\"12\" lengthAdjust=\"spacingAndGlyphs\" textLength=\"8\" x=\"61\" y=\"71.1074\">A</text><line style=\"stroke: #383838; stroke-width: 1.5;\" x1=\"33\" x2=\"97\" y1=\"78.9375\" y2=\"78.9375\"/></a><!--MD5=[b7d3227300148f3140a77b8c8500d7eb]\n",
       "@startuml\r\n",
       " skinparam monochrome true\r\n",
       "skinparam classbackgroundcolor white\r\n",
       "skinparam shadowing false\r\n",
       "skinparam wrapWidth 300\r\n",
       "hide circle\r\n",
       "\r\n",
       "package \"P1\" as E1  [[psysml:611624e7-c7ed-4f74-a421-b5a21d227404 ]]  {\r\n",
       "comp def \"A\" as E2  <<(T,blue)part def>> [[psysml:2313e16f-2d10-449a-8d9c-49e73c1dbd71 ]] {\r\n",
       "}\r\n",
       "}\r\n",
       "@enduml\r\n",
       "\n",
       "PlantUML version 1.2020.13(Sat Jun 13 12:26:38 UTC 2020)\n",
       "(EPL source distribution)\n",
       "Java Runtime: OpenJDK Runtime Environment\n",
       "JVM: OpenJDK 64-Bit Server VM\n",
       "Default Encoding: UTF-8\n",
       "Language: en\n",
       "Country: null\n",
       "--></g></svg>"
      ]
     },
     "execution_count": 3,
     "metadata": {},
     "output_type": "execute_result"
    }
   ],
   "source": [
    "%viz --style=\"COMPTREE\" --view=\"Tree\" \"P1\""
   ]
  },
  {
   "cell_type": "code",
   "execution_count": 4,
   "id": "4e0a7700",
   "metadata": {
    "execution": {
     "iopub.execute_input": "2021-04-20T07:31:12.101008Z",
     "iopub.status.busy": "2021-04-20T07:31:12.100401Z",
     "iopub.status.idle": "2021-04-20T07:31:12.111861Z",
     "shell.execute_reply": "2021-04-20T07:31:12.111494Z"
    }
   },
   "outputs": [
    {
     "data": {
      "image/svg+xml": [
       "<?xml version=\"1.0\" encoding=\"UTF-8\" standalone=\"no\"?><svg xmlns=\"http://www.w3.org/2000/svg\" xmlns:xlink=\"http://www.w3.org/1999/xlink\" contentScriptType=\"application/ecmascript\" contentStyleType=\"text/css\" height=\"12px\" preserveAspectRatio=\"none\" style=\"width:12px;height:12px;\" version=\"1.1\" viewBox=\"0 0 12 12\" width=\"12px\" zoomAndPan=\"magnify\"><defs/><g><!--MD5=[f19188ef49e11757b5c46753f95d9edc]\n",
       "@startuml\r\n",
       " skinparam monochrome true\r\n",
       "skinparam classbackgroundcolor white\r\n",
       "skinparam shadowing false\r\n",
       "skinparam wrapWidth 300\r\n",
       "hide circle\r\n",
       "\r\n",
       "@enduml\r\n",
       "\n",
       "PlantUML version 1.2020.13(Sat Jun 13 12:26:38 UTC 2020)\n",
       "(EPL source distribution)\n",
       "Java Runtime: OpenJDK Runtime Environment\n",
       "JVM: OpenJDK 64-Bit Server VM\n",
       "Default Encoding: UTF-8\n",
       "Language: en\n",
       "Country: null\n",
       "--></g></svg>"
      ]
     },
     "execution_count": 4,
     "metadata": {},
     "output_type": "execute_result"
    }
   ],
   "source": [
    "%viz --style=\"COMPTREE\" --view=\"State\" \"P1\""
   ]
  },
  {
   "cell_type": "code",
   "execution_count": 5,
   "id": "6b498d0f",
   "metadata": {
    "execution": {
     "iopub.execute_input": "2021-04-20T07:31:12.163200Z",
     "iopub.status.busy": "2021-04-20T07:31:12.162621Z",
     "iopub.status.idle": "2021-04-20T07:31:12.209945Z",
     "shell.execute_reply": "2021-04-20T07:31:12.209590Z"
    }
   },
   "outputs": [
    {
     "data": {
      "image/svg+xml": [
       "<?xml version=\"1.0\" encoding=\"UTF-8\" standalone=\"no\"?><svg xmlns=\"http://www.w3.org/2000/svg\" xmlns:xlink=\"http://www.w3.org/1999/xlink\" contentScriptType=\"application/ecmascript\" contentStyleType=\"text/css\" height=\"112px\" preserveAspectRatio=\"none\" style=\"width:142px;height:112px;\" version=\"1.1\" viewBox=\"0 0 142 112\" width=\"142px\" zoomAndPan=\"magnify\"><defs/><g><!--MD5=[fbc87193dbaf4d95561dea2c320d4a47]\n",
       "cluster E1--><a href=\"psysml:611624e7-c7ed-4f74-a421-b5a21d227404\" target=\"_top\" title=\"psysml:611624e7-c7ed-4f74-a421-b5a21d227404\" xlink:actuate=\"onRequest\" xlink:href=\"psysml:611624e7-c7ed-4f74-a421-b5a21d227404\" xlink:show=\"new\" xlink:title=\"psysml:611624e7-c7ed-4f74-a421-b5a21d227404\" xlink:type=\"simple\"><polygon fill=\"#FFFFFF\" points=\"16,6,42,6,49,28.2969,120,28.2969,120,100,16,100,16,6\" style=\"stroke: #000000; stroke-width: 1.5;\"/><line style=\"stroke: #000000; stroke-width: 1.5;\" x1=\"16\" x2=\"49\" y1=\"28.2969\" y2=\"28.2969\"/><text fill=\"#000000\" font-family=\"sans-serif\" font-size=\"14\" font-weight=\"bold\" lengthAdjust=\"spacingAndGlyphs\" textLength=\"20\" x=\"20\" y=\"20.9951\">P1</text></a><g id=\"E1.E2\"><a href=\"psysml:2313e16f-2d10-449a-8d9c-49e73c1dbd71\" target=\"_top\" title=\"psysml:2313e16f-2d10-449a-8d9c-49e73c1dbd71\" xlink:actuate=\"onRequest\" xlink:href=\"psysml:2313e16f-2d10-449a-8d9c-49e73c1dbd71\" xlink:show=\"new\" xlink:title=\"psysml:2313e16f-2d10-449a-8d9c-49e73c1dbd71\" xlink:type=\"simple\"><rect fill=\"#FFFFFF\" height=\"42.9375\" id=\"E2\" style=\"stroke: #383838; stroke-width: 1.5;\" width=\"71\" x=\"32.5\" y=\"41\"/><rect fill=\"#F8F8F8\" height=\"37.9375\" style=\"stroke: #383838; stroke-width: 1.5;\" width=\"71\" x=\"32.5\" y=\"41\"/><text fill=\"#000000\" font-family=\"sans-serif\" font-size=\"12\" font-style=\"italic\" lengthAdjust=\"spacingAndGlyphs\" textLength=\"64\" x=\"36\" y=\"57.1387\">«part def»</text><text fill=\"#000000\" font-family=\"sans-serif\" font-size=\"12\" lengthAdjust=\"spacingAndGlyphs\" textLength=\"8\" x=\"64\" y=\"71.1074\">A</text></a></g><!--MD5=[30dc8fc85ea88b9dc526e9564edca5a3]\n",
       "@startuml\r\n",
       "skinparam ranksep 10\r\n",
       "skinparam rectangle {\r\n",
       " backgroundColor<<block>> LightGreen\r\n",
       "}\r\n",
       " skinparam monochrome true\r\n",
       "skinparam classbackgroundcolor white\r\n",
       "skinparam shadowing false\r\n",
       "skinparam wrapWidth 300\r\n",
       "hide circle\r\n",
       "\r\n",
       "package \"P1\" as E1  [[psysml:611624e7-c7ed-4f74-a421-b5a21d227404 ]]  {\r\n",
       "rec def \"A\" as E2  <<(T,blue)part def>> [[psysml:2313e16f-2d10-449a-8d9c-49e73c1dbd71 ]] {\r\n",
       "}\r\n",
       "}\r\n",
       "@enduml\r\n",
       "\n",
       "PlantUML version 1.2020.13(Sat Jun 13 12:26:38 UTC 2020)\n",
       "(EPL source distribution)\n",
       "Java Runtime: OpenJDK Runtime Environment\n",
       "JVM: OpenJDK 64-Bit Server VM\n",
       "Default Encoding: UTF-8\n",
       "Language: en\n",
       "Country: null\n",
       "--></g></svg>"
      ]
     },
     "execution_count": 5,
     "metadata": {},
     "output_type": "execute_result"
    }
   ],
   "source": [
    "%viz --style=\"COMPTREE\" --view=\"Interconnection\" \"P1\""
   ]
  },
  {
   "cell_type": "code",
   "execution_count": 6,
   "id": "3bd3cf7f",
   "metadata": {
    "execution": {
     "iopub.execute_input": "2021-04-20T07:31:12.261394Z",
     "iopub.status.busy": "2021-04-20T07:31:12.260845Z",
     "iopub.status.idle": "2021-04-20T07:31:12.270520Z",
     "shell.execute_reply": "2021-04-20T07:31:12.271018Z"
    }
   },
   "outputs": [
    {
     "data": {
      "image/svg+xml": [
       "<?xml version=\"1.0\" encoding=\"UTF-8\" standalone=\"no\"?><svg xmlns=\"http://www.w3.org/2000/svg\" xmlns:xlink=\"http://www.w3.org/1999/xlink\" contentScriptType=\"application/ecmascript\" contentStyleType=\"text/css\" height=\"12px\" preserveAspectRatio=\"none\" style=\"width:12px;height:12px;\" version=\"1.1\" viewBox=\"0 0 12 12\" width=\"12px\" zoomAndPan=\"magnify\"><defs/><g><!--MD5=[655b888544ca4751ea36af1068543f84]\n",
       "@startuml\r\n",
       "skinparam ranksep 8\r\n",
       " skinparam monochrome true\r\n",
       "skinparam classbackgroundcolor white\r\n",
       "skinparam shadowing false\r\n",
       "skinparam wrapWidth 300\r\n",
       "hide circle\r\n",
       "\r\n",
       "@enduml\r\n",
       "\n",
       "PlantUML version 1.2020.13(Sat Jun 13 12:26:38 UTC 2020)\n",
       "(EPL source distribution)\n",
       "Java Runtime: OpenJDK Runtime Environment\n",
       "JVM: OpenJDK 64-Bit Server VM\n",
       "Default Encoding: UTF-8\n",
       "Language: en\n",
       "Country: null\n",
       "--></g></svg>"
      ]
     },
     "execution_count": 6,
     "metadata": {},
     "output_type": "execute_result"
    }
   ],
   "source": [
    "%viz --style=\"COMPTREE\" --view=\"Action\" \"P1\""
   ]
  },
  {
   "cell_type": "code",
   "execution_count": 7,
   "id": "de2739c3",
   "metadata": {
    "execution": {
     "iopub.execute_input": "2021-04-20T07:31:12.323013Z",
     "iopub.status.busy": "2021-04-20T07:31:12.322305Z",
     "iopub.status.idle": "2021-04-20T07:31:12.358561Z",
     "shell.execute_reply": "2021-04-20T07:31:12.358173Z"
    }
   },
   "outputs": [
    {
     "data": {
      "image/svg+xml": [
       "<?xml version=\"1.0\" encoding=\"UTF-8\" standalone=\"no\"?><svg xmlns=\"http://www.w3.org/2000/svg\" xmlns:xlink=\"http://www.w3.org/1999/xlink\" contentScriptType=\"application/ecmascript\" contentStyleType=\"text/css\" height=\"115px\" preserveAspectRatio=\"none\" style=\"width:136px;height:115px;\" version=\"1.1\" viewBox=\"0 0 136 115\" width=\"136px\" zoomAndPan=\"magnify\"><defs/><g><!--MD5=[fbc87193dbaf4d95561dea2c320d4a47]\n",
       "cluster E1--><a href=\"psysml:611624e7-c7ed-4f74-a421-b5a21d227404\" target=\"_top\" title=\"psysml:611624e7-c7ed-4f74-a421-b5a21d227404\" xlink:actuate=\"onRequest\" xlink:href=\"psysml:611624e7-c7ed-4f74-a421-b5a21d227404\" xlink:show=\"new\" xlink:title=\"psysml:611624e7-c7ed-4f74-a421-b5a21d227404\" xlink:type=\"simple\"><polygon fill=\"#FFFFFF\" points=\"16,6,42,6,49,28.2969,114,28.2969,114,103,16,103,16,6\" style=\"stroke: #000000; stroke-width: 1.5;\"/><line style=\"stroke: #000000; stroke-width: 1.5;\" x1=\"16\" x2=\"49\" y1=\"28.2969\" y2=\"28.2969\"/><text fill=\"#000000\" font-family=\"sans-serif\" font-size=\"14\" font-weight=\"bold\" lengthAdjust=\"spacingAndGlyphs\" textLength=\"20\" x=\"20\" y=\"20.9951\">P1</text></a><!--MD5=[b4997ac47864f28c2f74865a473b2911]\n",
       "class E2--><a href=\"psysml:2313e16f-2d10-449a-8d9c-49e73c1dbd71\" target=\"_top\" title=\"psysml:2313e16f-2d10-449a-8d9c-49e73c1dbd71\" xlink:actuate=\"onRequest\" xlink:href=\"psysml:2313e16f-2d10-449a-8d9c-49e73c1dbd71\" xlink:show=\"new\" xlink:title=\"psysml:2313e16f-2d10-449a-8d9c-49e73c1dbd71\" xlink:type=\"simple\"><rect fill=\"#FFFFFF\" height=\"45.9375\" id=\"E2\" style=\"stroke: #383838; stroke-width: 1.5;\" width=\"66\" x=\"32\" y=\"41\"/><text fill=\"#000000\" font-family=\"sans-serif\" font-size=\"12\" font-style=\"italic\" lengthAdjust=\"spacingAndGlyphs\" textLength=\"64\" x=\"33\" y=\"57.1387\">«part def»</text><text fill=\"#000000\" font-family=\"sans-serif\" font-size=\"12\" lengthAdjust=\"spacingAndGlyphs\" textLength=\"8\" x=\"61\" y=\"71.1074\">A</text><line style=\"stroke: #383838; stroke-width: 1.5;\" x1=\"33\" x2=\"97\" y1=\"78.9375\" y2=\"78.9375\"/></a><!--MD5=[b7d3227300148f3140a77b8c8500d7eb]\n",
       "@startuml\r\n",
       " skinparam monochrome true\r\n",
       "skinparam classbackgroundcolor white\r\n",
       "skinparam shadowing false\r\n",
       "skinparam wrapWidth 300\r\n",
       "hide circle\r\n",
       "\r\n",
       "package \"P1\" as E1  [[psysml:611624e7-c7ed-4f74-a421-b5a21d227404 ]]  {\r\n",
       "comp def \"A\" as E2  <<(T,blue)part def>> [[psysml:2313e16f-2d10-449a-8d9c-49e73c1dbd71 ]] {\r\n",
       "}\r\n",
       "}\r\n",
       "@enduml\r\n",
       "\n",
       "PlantUML version 1.2020.13(Sat Jun 13 12:26:38 UTC 2020)\n",
       "(EPL source distribution)\n",
       "Java Runtime: OpenJDK Runtime Environment\n",
       "JVM: OpenJDK 64-Bit Server VM\n",
       "Default Encoding: UTF-8\n",
       "Language: en\n",
       "Country: null\n",
       "--></g></svg>"
      ]
     },
     "execution_count": 7,
     "metadata": {},
     "output_type": "execute_result"
    }
   ],
   "source": [
    "%viz --style=\"COMPTREE\" --view=\"Sequence\" \"P1\""
   ]
  },
  {
   "cell_type": "code",
   "execution_count": 8,
   "id": "b2cfbde0",
   "metadata": {
    "execution": {
     "iopub.execute_input": "2021-04-20T07:31:12.409143Z",
     "iopub.status.busy": "2021-04-20T07:31:12.408688Z",
     "iopub.status.idle": "2021-04-20T07:31:12.448571Z",
     "shell.execute_reply": "2021-04-20T07:31:12.448110Z"
    }
   },
   "outputs": [
    {
     "data": {
      "image/svg+xml": [
       "<?xml version=\"1.0\" encoding=\"UTF-8\" standalone=\"no\"?><svg xmlns=\"http://www.w3.org/2000/svg\" xmlns:xlink=\"http://www.w3.org/1999/xlink\" contentScriptType=\"application/ecmascript\" contentStyleType=\"text/css\" height=\"115px\" preserveAspectRatio=\"none\" style=\"width:136px;height:115px;\" version=\"1.1\" viewBox=\"0 0 136 115\" width=\"136px\" zoomAndPan=\"magnify\"><defs/><g><!--MD5=[fbc87193dbaf4d95561dea2c320d4a47]\n",
       "cluster E1--><a href=\"psysml:611624e7-c7ed-4f74-a421-b5a21d227404\" target=\"_top\" title=\"psysml:611624e7-c7ed-4f74-a421-b5a21d227404\" xlink:actuate=\"onRequest\" xlink:href=\"psysml:611624e7-c7ed-4f74-a421-b5a21d227404\" xlink:show=\"new\" xlink:title=\"psysml:611624e7-c7ed-4f74-a421-b5a21d227404\" xlink:type=\"simple\"><polygon fill=\"#FFFFFF\" points=\"16,6,42,6,49,28.2969,114,28.2969,114,103,16,103,16,6\" style=\"stroke: #000000; stroke-width: 1.5;\"/><line style=\"stroke: #000000; stroke-width: 1.5;\" x1=\"16\" x2=\"49\" y1=\"28.2969\" y2=\"28.2969\"/><text fill=\"#000000\" font-family=\"sans-serif\" font-size=\"14\" font-weight=\"bold\" lengthAdjust=\"spacingAndGlyphs\" textLength=\"20\" x=\"20\" y=\"20.9951\">P1</text></a><!--MD5=[b4997ac47864f28c2f74865a473b2911]\n",
       "class E2--><a href=\"psysml:2313e16f-2d10-449a-8d9c-49e73c1dbd71\" target=\"_top\" title=\"psysml:2313e16f-2d10-449a-8d9c-49e73c1dbd71\" xlink:actuate=\"onRequest\" xlink:href=\"psysml:2313e16f-2d10-449a-8d9c-49e73c1dbd71\" xlink:show=\"new\" xlink:title=\"psysml:2313e16f-2d10-449a-8d9c-49e73c1dbd71\" xlink:type=\"simple\"><rect fill=\"#FFFFFF\" height=\"45.9375\" id=\"E2\" style=\"stroke: #383838; stroke-width: 1.5;\" width=\"66\" x=\"32\" y=\"41\"/><text fill=\"#000000\" font-family=\"sans-serif\" font-size=\"12\" font-style=\"italic\" lengthAdjust=\"spacingAndGlyphs\" textLength=\"64\" x=\"33\" y=\"57.1387\">«part def»</text><text fill=\"#000000\" font-family=\"sans-serif\" font-size=\"12\" lengthAdjust=\"spacingAndGlyphs\" textLength=\"8\" x=\"61\" y=\"71.1074\">A</text><line style=\"stroke: #383838; stroke-width: 1.5;\" x1=\"33\" x2=\"97\" y1=\"78.9375\" y2=\"78.9375\"/></a><!--MD5=[b7d3227300148f3140a77b8c8500d7eb]\n",
       "@startuml\r\n",
       " skinparam monochrome true\r\n",
       "skinparam classbackgroundcolor white\r\n",
       "skinparam shadowing false\r\n",
       "skinparam wrapWidth 300\r\n",
       "hide circle\r\n",
       "\r\n",
       "package \"P1\" as E1  [[psysml:611624e7-c7ed-4f74-a421-b5a21d227404 ]]  {\r\n",
       "comp def \"A\" as E2  <<(T,blue)part def>> [[psysml:2313e16f-2d10-449a-8d9c-49e73c1dbd71 ]] {\r\n",
       "}\r\n",
       "}\r\n",
       "@enduml\r\n",
       "\n",
       "PlantUML version 1.2020.13(Sat Jun 13 12:26:38 UTC 2020)\n",
       "(EPL source distribution)\n",
       "Java Runtime: OpenJDK Runtime Environment\n",
       "JVM: OpenJDK 64-Bit Server VM\n",
       "Default Encoding: UTF-8\n",
       "Language: en\n",
       "Country: null\n",
       "--></g></svg>"
      ]
     },
     "execution_count": 8,
     "metadata": {},
     "output_type": "execute_result"
    }
   ],
   "source": [
    "%viz --style=\"COMPTREE\" --view=\"MIXED\" \"P1\""
   ]
  },
  {
   "cell_type": "code",
   "execution_count": 9,
   "id": "a341d9c0",
   "metadata": {
    "execution": {
     "iopub.execute_input": "2021-04-20T07:31:12.499455Z",
     "iopub.status.busy": "2021-04-20T07:31:12.499027Z",
     "iopub.status.idle": "2021-04-20T07:31:12.541462Z",
     "shell.execute_reply": "2021-04-20T07:31:12.541104Z"
    }
   },
   "outputs": [
    {
     "data": {
      "image/svg+xml": [
       "<?xml version=\"1.0\" encoding=\"UTF-8\" standalone=\"no\"?><svg xmlns=\"http://www.w3.org/2000/svg\" xmlns:xlink=\"http://www.w3.org/1999/xlink\" contentScriptType=\"application/ecmascript\" contentStyleType=\"text/css\" height=\"115px\" preserveAspectRatio=\"none\" style=\"width:136px;height:115px;\" version=\"1.1\" viewBox=\"0 0 136 115\" width=\"136px\" zoomAndPan=\"magnify\"><defs/><g><!--MD5=[fbc87193dbaf4d95561dea2c320d4a47]\n",
       "cluster E1--><a href=\"psysml:611624e7-c7ed-4f74-a421-b5a21d227404\" target=\"_top\" title=\"psysml:611624e7-c7ed-4f74-a421-b5a21d227404\" xlink:actuate=\"onRequest\" xlink:href=\"psysml:611624e7-c7ed-4f74-a421-b5a21d227404\" xlink:show=\"new\" xlink:title=\"psysml:611624e7-c7ed-4f74-a421-b5a21d227404\" xlink:type=\"simple\"><polygon fill=\"#FFFFFF\" points=\"16,6,42,6,49,28.2969,114,28.2969,114,103,16,103,16,6\" style=\"stroke: #000000; stroke-width: 1.5;\"/><line style=\"stroke: #000000; stroke-width: 1.5;\" x1=\"16\" x2=\"49\" y1=\"28.2969\" y2=\"28.2969\"/><text fill=\"#000000\" font-family=\"sans-serif\" font-size=\"14\" font-weight=\"bold\" lengthAdjust=\"spacingAndGlyphs\" textLength=\"20\" x=\"20\" y=\"20.9951\">P1</text></a><!--MD5=[b4997ac47864f28c2f74865a473b2911]\n",
       "class E2--><a href=\"psysml:2313e16f-2d10-449a-8d9c-49e73c1dbd71\" target=\"_top\" title=\"psysml:2313e16f-2d10-449a-8d9c-49e73c1dbd71\" xlink:actuate=\"onRequest\" xlink:href=\"psysml:2313e16f-2d10-449a-8d9c-49e73c1dbd71\" xlink:show=\"new\" xlink:title=\"psysml:2313e16f-2d10-449a-8d9c-49e73c1dbd71\" xlink:type=\"simple\"><rect fill=\"#FFFFFF\" height=\"45.9375\" id=\"E2\" style=\"stroke: #383838; stroke-width: 1.5;\" width=\"66\" x=\"32\" y=\"41\"/><text fill=\"#000000\" font-family=\"sans-serif\" font-size=\"12\" font-style=\"italic\" lengthAdjust=\"spacingAndGlyphs\" textLength=\"64\" x=\"33\" y=\"57.1387\">«part def»</text><text fill=\"#000000\" font-family=\"sans-serif\" font-size=\"12\" lengthAdjust=\"spacingAndGlyphs\" textLength=\"8\" x=\"61\" y=\"71.1074\">A</text><line style=\"stroke: #383838; stroke-width: 1.5;\" x1=\"33\" x2=\"97\" y1=\"78.9375\" y2=\"78.9375\"/></a><!--MD5=[a12a1b98c2c9052a21ccb8bbbadd4e10]\n",
       "@startuml\r\n",
       "skinparam linetype polyline\r\n",
       "skinparam monochrome true\r\n",
       "skinparam classbackgroundcolor white\r\n",
       "skinparam shadowing false\r\n",
       "skinparam wrapWidth 300\r\n",
       "hide circle\r\n",
       "\r\n",
       "package \"P1\" as E1  [[psysml:611624e7-c7ed-4f74-a421-b5a21d227404 ]]  {\r\n",
       "comp def \"A\" as E2  <<(T,blue)part def>> [[psysml:2313e16f-2d10-449a-8d9c-49e73c1dbd71 ]] {\r\n",
       "}\r\n",
       "}\r\n",
       "@enduml\r\n",
       "\n",
       "PlantUML version 1.2020.13(Sat Jun 13 12:26:38 UTC 2020)\n",
       "(EPL source distribution)\n",
       "Java Runtime: OpenJDK Runtime Environment\n",
       "JVM: OpenJDK 64-Bit Server VM\n",
       "Default Encoding: UTF-8\n",
       "Language: en\n",
       "Country: null\n",
       "--></g></svg>"
      ]
     },
     "execution_count": 9,
     "metadata": {},
     "output_type": "execute_result"
    }
   ],
   "source": [
    "%viz --style=\"POLYLINE\" --view=\"Default\" \"P1\""
   ]
  },
  {
   "cell_type": "code",
   "execution_count": 10,
   "id": "4fad8f0e",
   "metadata": {
    "execution": {
     "iopub.execute_input": "2021-04-20T07:31:12.592093Z",
     "iopub.status.busy": "2021-04-20T07:31:12.591416Z",
     "iopub.status.idle": "2021-04-20T07:31:12.631495Z",
     "shell.execute_reply": "2021-04-20T07:31:12.631162Z"
    }
   },
   "outputs": [
    {
     "data": {
      "image/svg+xml": [
       "<?xml version=\"1.0\" encoding=\"UTF-8\" standalone=\"no\"?><svg xmlns=\"http://www.w3.org/2000/svg\" xmlns:xlink=\"http://www.w3.org/1999/xlink\" contentScriptType=\"application/ecmascript\" contentStyleType=\"text/css\" height=\"115px\" preserveAspectRatio=\"none\" style=\"width:136px;height:115px;\" version=\"1.1\" viewBox=\"0 0 136 115\" width=\"136px\" zoomAndPan=\"magnify\"><defs/><g><!--MD5=[fbc87193dbaf4d95561dea2c320d4a47]\n",
       "cluster E1--><a href=\"psysml:611624e7-c7ed-4f74-a421-b5a21d227404\" target=\"_top\" title=\"psysml:611624e7-c7ed-4f74-a421-b5a21d227404\" xlink:actuate=\"onRequest\" xlink:href=\"psysml:611624e7-c7ed-4f74-a421-b5a21d227404\" xlink:show=\"new\" xlink:title=\"psysml:611624e7-c7ed-4f74-a421-b5a21d227404\" xlink:type=\"simple\"><polygon fill=\"#FFFFFF\" points=\"16,6,42,6,49,28.2969,114,28.2969,114,103,16,103,16,6\" style=\"stroke: #000000; stroke-width: 1.5;\"/><line style=\"stroke: #000000; stroke-width: 1.5;\" x1=\"16\" x2=\"49\" y1=\"28.2969\" y2=\"28.2969\"/><text fill=\"#000000\" font-family=\"sans-serif\" font-size=\"14\" font-weight=\"bold\" lengthAdjust=\"spacingAndGlyphs\" textLength=\"20\" x=\"20\" y=\"20.9951\">P1</text></a><!--MD5=[b4997ac47864f28c2f74865a473b2911]\n",
       "class E2--><a href=\"psysml:2313e16f-2d10-449a-8d9c-49e73c1dbd71\" target=\"_top\" title=\"psysml:2313e16f-2d10-449a-8d9c-49e73c1dbd71\" xlink:actuate=\"onRequest\" xlink:href=\"psysml:2313e16f-2d10-449a-8d9c-49e73c1dbd71\" xlink:show=\"new\" xlink:title=\"psysml:2313e16f-2d10-449a-8d9c-49e73c1dbd71\" xlink:type=\"simple\"><rect fill=\"#FFFFFF\" height=\"45.9375\" id=\"E2\" style=\"stroke: #383838; stroke-width: 1.5;\" width=\"66\" x=\"32\" y=\"41\"/><text fill=\"#000000\" font-family=\"sans-serif\" font-size=\"12\" font-style=\"italic\" lengthAdjust=\"spacingAndGlyphs\" textLength=\"64\" x=\"33\" y=\"57.1387\">«part def»</text><text fill=\"#000000\" font-family=\"sans-serif\" font-size=\"12\" lengthAdjust=\"spacingAndGlyphs\" textLength=\"8\" x=\"61\" y=\"71.1074\">A</text><line style=\"stroke: #383838; stroke-width: 1.5;\" x1=\"33\" x2=\"97\" y1=\"78.9375\" y2=\"78.9375\"/></a><!--MD5=[a12a1b98c2c9052a21ccb8bbbadd4e10]\n",
       "@startuml\r\n",
       "skinparam linetype polyline\r\n",
       "skinparam monochrome true\r\n",
       "skinparam classbackgroundcolor white\r\n",
       "skinparam shadowing false\r\n",
       "skinparam wrapWidth 300\r\n",
       "hide circle\r\n",
       "\r\n",
       "package \"P1\" as E1  [[psysml:611624e7-c7ed-4f74-a421-b5a21d227404 ]]  {\r\n",
       "comp def \"A\" as E2  <<(T,blue)part def>> [[psysml:2313e16f-2d10-449a-8d9c-49e73c1dbd71 ]] {\r\n",
       "}\r\n",
       "}\r\n",
       "@enduml\r\n",
       "\n",
       "PlantUML version 1.2020.13(Sat Jun 13 12:26:38 UTC 2020)\n",
       "(EPL source distribution)\n",
       "Java Runtime: OpenJDK Runtime Environment\n",
       "JVM: OpenJDK 64-Bit Server VM\n",
       "Default Encoding: UTF-8\n",
       "Language: en\n",
       "Country: null\n",
       "--></g></svg>"
      ]
     },
     "execution_count": 10,
     "metadata": {},
     "output_type": "execute_result"
    }
   ],
   "source": [
    "%viz --style=\"POLYLINE\" --view=\"Tree\" \"P1\""
   ]
  },
  {
   "cell_type": "code",
   "execution_count": 11,
   "id": "1516127e",
   "metadata": {
    "execution": {
     "iopub.execute_input": "2021-04-20T07:31:12.682058Z",
     "iopub.status.busy": "2021-04-20T07:31:12.681546Z",
     "iopub.status.idle": "2021-04-20T07:31:12.690618Z",
     "shell.execute_reply": "2021-04-20T07:31:12.690205Z"
    }
   },
   "outputs": [
    {
     "data": {
      "image/svg+xml": [
       "<?xml version=\"1.0\" encoding=\"UTF-8\" standalone=\"no\"?><svg xmlns=\"http://www.w3.org/2000/svg\" xmlns:xlink=\"http://www.w3.org/1999/xlink\" contentScriptType=\"application/ecmascript\" contentStyleType=\"text/css\" height=\"12px\" preserveAspectRatio=\"none\" style=\"width:12px;height:12px;\" version=\"1.1\" viewBox=\"0 0 12 12\" width=\"12px\" zoomAndPan=\"magnify\"><defs/><g><!--MD5=[896ac0e7a515d8dd7765a661cb4ee08b]\n",
       "@startuml\r\n",
       "skinparam linetype polyline\r\n",
       "skinparam monochrome true\r\n",
       "skinparam classbackgroundcolor white\r\n",
       "skinparam shadowing false\r\n",
       "skinparam wrapWidth 300\r\n",
       "hide circle\r\n",
       "\r\n",
       "@enduml\r\n",
       "\n",
       "PlantUML version 1.2020.13(Sat Jun 13 12:26:38 UTC 2020)\n",
       "(EPL source distribution)\n",
       "Java Runtime: OpenJDK Runtime Environment\n",
       "JVM: OpenJDK 64-Bit Server VM\n",
       "Default Encoding: UTF-8\n",
       "Language: en\n",
       "Country: null\n",
       "--></g></svg>"
      ]
     },
     "execution_count": 11,
     "metadata": {},
     "output_type": "execute_result"
    }
   ],
   "source": [
    "%viz --style=\"POLYLINE\" --view=\"State\" \"P1\""
   ]
  },
  {
   "cell_type": "code",
   "execution_count": 12,
   "id": "34770be4",
   "metadata": {
    "execution": {
     "iopub.execute_input": "2021-04-20T07:31:12.740971Z",
     "iopub.status.busy": "2021-04-20T07:31:12.740559Z",
     "iopub.status.idle": "2021-04-20T07:31:12.771917Z",
     "shell.execute_reply": "2021-04-20T07:31:12.770973Z"
    }
   },
   "outputs": [
    {
     "data": {
      "image/svg+xml": [
       "<?xml version=\"1.0\" encoding=\"UTF-8\" standalone=\"no\"?><svg xmlns=\"http://www.w3.org/2000/svg\" xmlns:xlink=\"http://www.w3.org/1999/xlink\" contentScriptType=\"application/ecmascript\" contentStyleType=\"text/css\" height=\"112px\" preserveAspectRatio=\"none\" style=\"width:142px;height:112px;\" version=\"1.1\" viewBox=\"0 0 142 112\" width=\"142px\" zoomAndPan=\"magnify\"><defs/><g><!--MD5=[fbc87193dbaf4d95561dea2c320d4a47]\n",
       "cluster E1--><a href=\"psysml:611624e7-c7ed-4f74-a421-b5a21d227404\" target=\"_top\" title=\"psysml:611624e7-c7ed-4f74-a421-b5a21d227404\" xlink:actuate=\"onRequest\" xlink:href=\"psysml:611624e7-c7ed-4f74-a421-b5a21d227404\" xlink:show=\"new\" xlink:title=\"psysml:611624e7-c7ed-4f74-a421-b5a21d227404\" xlink:type=\"simple\"><polygon fill=\"#FFFFFF\" points=\"16,6,42,6,49,28.2969,120,28.2969,120,100,16,100,16,6\" style=\"stroke: #000000; stroke-width: 1.5;\"/><line style=\"stroke: #000000; stroke-width: 1.5;\" x1=\"16\" x2=\"49\" y1=\"28.2969\" y2=\"28.2969\"/><text fill=\"#000000\" font-family=\"sans-serif\" font-size=\"14\" font-weight=\"bold\" lengthAdjust=\"spacingAndGlyphs\" textLength=\"20\" x=\"20\" y=\"20.9951\">P1</text></a><g id=\"E1.E2\"><a href=\"psysml:2313e16f-2d10-449a-8d9c-49e73c1dbd71\" target=\"_top\" title=\"psysml:2313e16f-2d10-449a-8d9c-49e73c1dbd71\" xlink:actuate=\"onRequest\" xlink:href=\"psysml:2313e16f-2d10-449a-8d9c-49e73c1dbd71\" xlink:show=\"new\" xlink:title=\"psysml:2313e16f-2d10-449a-8d9c-49e73c1dbd71\" xlink:type=\"simple\"><rect fill=\"#FFFFFF\" height=\"42.9375\" id=\"E2\" style=\"stroke: #383838; stroke-width: 1.5;\" width=\"71\" x=\"32.5\" y=\"41\"/><rect fill=\"#F8F8F8\" height=\"37.9375\" style=\"stroke: #383838; stroke-width: 1.5;\" width=\"71\" x=\"32.5\" y=\"41\"/><text fill=\"#000000\" font-family=\"sans-serif\" font-size=\"12\" font-style=\"italic\" lengthAdjust=\"spacingAndGlyphs\" textLength=\"64\" x=\"36\" y=\"57.1387\">«part def»</text><text fill=\"#000000\" font-family=\"sans-serif\" font-size=\"12\" lengthAdjust=\"spacingAndGlyphs\" textLength=\"8\" x=\"64\" y=\"71.1074\">A</text></a></g><!--MD5=[059c4d6e4193675de5dc4d121a9a460a]\n",
       "@startuml\r\n",
       "skinparam ranksep 10\r\n",
       "skinparam rectangle {\r\n",
       " backgroundColor<<block>> LightGreen\r\n",
       "}\r\n",
       "skinparam linetype polyline\r\n",
       "skinparam monochrome true\r\n",
       "skinparam classbackgroundcolor white\r\n",
       "skinparam shadowing false\r\n",
       "skinparam wrapWidth 300\r\n",
       "hide circle\r\n",
       "\r\n",
       "package \"P1\" as E1  [[psysml:611624e7-c7ed-4f74-a421-b5a21d227404 ]]  {\r\n",
       "rec def \"A\" as E2  <<(T,blue)part def>> [[psysml:2313e16f-2d10-449a-8d9c-49e73c1dbd71 ]] {\r\n",
       "}\r\n",
       "}\r\n",
       "@enduml\r\n",
       "\n",
       "PlantUML version 1.2020.13(Sat Jun 13 12:26:38 UTC 2020)\n",
       "(EPL source distribution)\n",
       "Java Runtime: OpenJDK Runtime Environment\n",
       "JVM: OpenJDK 64-Bit Server VM\n",
       "Default Encoding: UTF-8\n",
       "Language: en\n",
       "Country: null\n",
       "--></g></svg>"
      ]
     },
     "execution_count": 12,
     "metadata": {},
     "output_type": "execute_result"
    }
   ],
   "source": [
    "%viz --style=\"POLYLINE\" --view=\"Interconnection\" \"P1\""
   ]
  },
  {
   "cell_type": "code",
   "execution_count": 13,
   "id": "44a14ebb",
   "metadata": {
    "execution": {
     "iopub.execute_input": "2021-04-20T07:31:12.825765Z",
     "iopub.status.busy": "2021-04-20T07:31:12.823137Z",
     "iopub.status.idle": "2021-04-20T07:31:12.840256Z",
     "shell.execute_reply": "2021-04-20T07:31:12.839664Z"
    }
   },
   "outputs": [
    {
     "data": {
      "image/svg+xml": [
       "<?xml version=\"1.0\" encoding=\"UTF-8\" standalone=\"no\"?><svg xmlns=\"http://www.w3.org/2000/svg\" xmlns:xlink=\"http://www.w3.org/1999/xlink\" contentScriptType=\"application/ecmascript\" contentStyleType=\"text/css\" height=\"12px\" preserveAspectRatio=\"none\" style=\"width:12px;height:12px;\" version=\"1.1\" viewBox=\"0 0 12 12\" width=\"12px\" zoomAndPan=\"magnify\"><defs/><g><!--MD5=[97bbf32f66ccd50cbc40d92ea8f5a65e]\n",
       "@startuml\r\n",
       "skinparam ranksep 8\r\n",
       "skinparam linetype polyline\r\n",
       "skinparam monochrome true\r\n",
       "skinparam classbackgroundcolor white\r\n",
       "skinparam shadowing false\r\n",
       "skinparam wrapWidth 300\r\n",
       "hide circle\r\n",
       "\r\n",
       "@enduml\r\n",
       "\n",
       "PlantUML version 1.2020.13(Sat Jun 13 12:26:38 UTC 2020)\n",
       "(EPL source distribution)\n",
       "Java Runtime: OpenJDK Runtime Environment\n",
       "JVM: OpenJDK 64-Bit Server VM\n",
       "Default Encoding: UTF-8\n",
       "Language: en\n",
       "Country: null\n",
       "--></g></svg>"
      ]
     },
     "execution_count": 13,
     "metadata": {},
     "output_type": "execute_result"
    }
   ],
   "source": [
    "%viz --style=\"POLYLINE\" --view=\"Action\" \"P1\""
   ]
  },
  {
   "cell_type": "code",
   "execution_count": 14,
   "id": "fff5907a",
   "metadata": {
    "execution": {
     "iopub.execute_input": "2021-04-20T07:31:12.892400Z",
     "iopub.status.busy": "2021-04-20T07:31:12.891698Z",
     "iopub.status.idle": "2021-04-20T07:31:12.943183Z",
     "shell.execute_reply": "2021-04-20T07:31:12.942780Z"
    }
   },
   "outputs": [
    {
     "data": {
      "image/svg+xml": [
       "<?xml version=\"1.0\" encoding=\"UTF-8\" standalone=\"no\"?><svg xmlns=\"http://www.w3.org/2000/svg\" xmlns:xlink=\"http://www.w3.org/1999/xlink\" contentScriptType=\"application/ecmascript\" contentStyleType=\"text/css\" height=\"115px\" preserveAspectRatio=\"none\" style=\"width:136px;height:115px;\" version=\"1.1\" viewBox=\"0 0 136 115\" width=\"136px\" zoomAndPan=\"magnify\"><defs/><g><!--MD5=[fbc87193dbaf4d95561dea2c320d4a47]\n",
       "cluster E1--><a href=\"psysml:611624e7-c7ed-4f74-a421-b5a21d227404\" target=\"_top\" title=\"psysml:611624e7-c7ed-4f74-a421-b5a21d227404\" xlink:actuate=\"onRequest\" xlink:href=\"psysml:611624e7-c7ed-4f74-a421-b5a21d227404\" xlink:show=\"new\" xlink:title=\"psysml:611624e7-c7ed-4f74-a421-b5a21d227404\" xlink:type=\"simple\"><polygon fill=\"#FFFFFF\" points=\"16,6,42,6,49,28.2969,114,28.2969,114,103,16,103,16,6\" style=\"stroke: #000000; stroke-width: 1.5;\"/><line style=\"stroke: #000000; stroke-width: 1.5;\" x1=\"16\" x2=\"49\" y1=\"28.2969\" y2=\"28.2969\"/><text fill=\"#000000\" font-family=\"sans-serif\" font-size=\"14\" font-weight=\"bold\" lengthAdjust=\"spacingAndGlyphs\" textLength=\"20\" x=\"20\" y=\"20.9951\">P1</text></a><!--MD5=[b4997ac47864f28c2f74865a473b2911]\n",
       "class E2--><a href=\"psysml:2313e16f-2d10-449a-8d9c-49e73c1dbd71\" target=\"_top\" title=\"psysml:2313e16f-2d10-449a-8d9c-49e73c1dbd71\" xlink:actuate=\"onRequest\" xlink:href=\"psysml:2313e16f-2d10-449a-8d9c-49e73c1dbd71\" xlink:show=\"new\" xlink:title=\"psysml:2313e16f-2d10-449a-8d9c-49e73c1dbd71\" xlink:type=\"simple\"><rect fill=\"#FFFFFF\" height=\"45.9375\" id=\"E2\" style=\"stroke: #383838; stroke-width: 1.5;\" width=\"66\" x=\"32\" y=\"41\"/><text fill=\"#000000\" font-family=\"sans-serif\" font-size=\"12\" font-style=\"italic\" lengthAdjust=\"spacingAndGlyphs\" textLength=\"64\" x=\"33\" y=\"57.1387\">«part def»</text><text fill=\"#000000\" font-family=\"sans-serif\" font-size=\"12\" lengthAdjust=\"spacingAndGlyphs\" textLength=\"8\" x=\"61\" y=\"71.1074\">A</text><line style=\"stroke: #383838; stroke-width: 1.5;\" x1=\"33\" x2=\"97\" y1=\"78.9375\" y2=\"78.9375\"/></a><!--MD5=[a12a1b98c2c9052a21ccb8bbbadd4e10]\n",
       "@startuml\r\n",
       "skinparam linetype polyline\r\n",
       "skinparam monochrome true\r\n",
       "skinparam classbackgroundcolor white\r\n",
       "skinparam shadowing false\r\n",
       "skinparam wrapWidth 300\r\n",
       "hide circle\r\n",
       "\r\n",
       "package \"P1\" as E1  [[psysml:611624e7-c7ed-4f74-a421-b5a21d227404 ]]  {\r\n",
       "comp def \"A\" as E2  <<(T,blue)part def>> [[psysml:2313e16f-2d10-449a-8d9c-49e73c1dbd71 ]] {\r\n",
       "}\r\n",
       "}\r\n",
       "@enduml\r\n",
       "\n",
       "PlantUML version 1.2020.13(Sat Jun 13 12:26:38 UTC 2020)\n",
       "(EPL source distribution)\n",
       "Java Runtime: OpenJDK Runtime Environment\n",
       "JVM: OpenJDK 64-Bit Server VM\n",
       "Default Encoding: UTF-8\n",
       "Language: en\n",
       "Country: null\n",
       "--></g></svg>"
      ]
     },
     "execution_count": 14,
     "metadata": {},
     "output_type": "execute_result"
    }
   ],
   "source": [
    "%viz --style=\"POLYLINE\" --view=\"Sequence\" \"P1\""
   ]
  },
  {
   "cell_type": "code",
   "execution_count": 15,
   "id": "0def482d",
   "metadata": {
    "execution": {
     "iopub.execute_input": "2021-04-20T07:31:12.999969Z",
     "iopub.status.busy": "2021-04-20T07:31:12.997360Z",
     "iopub.status.idle": "2021-04-20T07:31:13.074443Z",
     "shell.execute_reply": "2021-04-20T07:31:13.073586Z"
    }
   },
   "outputs": [
    {
     "data": {
      "image/svg+xml": [
       "<?xml version=\"1.0\" encoding=\"UTF-8\" standalone=\"no\"?><svg xmlns=\"http://www.w3.org/2000/svg\" xmlns:xlink=\"http://www.w3.org/1999/xlink\" contentScriptType=\"application/ecmascript\" contentStyleType=\"text/css\" height=\"115px\" preserveAspectRatio=\"none\" style=\"width:136px;height:115px;\" version=\"1.1\" viewBox=\"0 0 136 115\" width=\"136px\" zoomAndPan=\"magnify\"><defs/><g><!--MD5=[fbc87193dbaf4d95561dea2c320d4a47]\n",
       "cluster E1--><a href=\"psysml:611624e7-c7ed-4f74-a421-b5a21d227404\" target=\"_top\" title=\"psysml:611624e7-c7ed-4f74-a421-b5a21d227404\" xlink:actuate=\"onRequest\" xlink:href=\"psysml:611624e7-c7ed-4f74-a421-b5a21d227404\" xlink:show=\"new\" xlink:title=\"psysml:611624e7-c7ed-4f74-a421-b5a21d227404\" xlink:type=\"simple\"><polygon fill=\"#FFFFFF\" points=\"16,6,42,6,49,28.2969,114,28.2969,114,103,16,103,16,6\" style=\"stroke: #000000; stroke-width: 1.5;\"/><line style=\"stroke: #000000; stroke-width: 1.5;\" x1=\"16\" x2=\"49\" y1=\"28.2969\" y2=\"28.2969\"/><text fill=\"#000000\" font-family=\"sans-serif\" font-size=\"14\" font-weight=\"bold\" lengthAdjust=\"spacingAndGlyphs\" textLength=\"20\" x=\"20\" y=\"20.9951\">P1</text></a><!--MD5=[b4997ac47864f28c2f74865a473b2911]\n",
       "class E2--><a href=\"psysml:2313e16f-2d10-449a-8d9c-49e73c1dbd71\" target=\"_top\" title=\"psysml:2313e16f-2d10-449a-8d9c-49e73c1dbd71\" xlink:actuate=\"onRequest\" xlink:href=\"psysml:2313e16f-2d10-449a-8d9c-49e73c1dbd71\" xlink:show=\"new\" xlink:title=\"psysml:2313e16f-2d10-449a-8d9c-49e73c1dbd71\" xlink:type=\"simple\"><rect fill=\"#FFFFFF\" height=\"45.9375\" id=\"E2\" style=\"stroke: #383838; stroke-width: 1.5;\" width=\"66\" x=\"32\" y=\"41\"/><text fill=\"#000000\" font-family=\"sans-serif\" font-size=\"12\" font-style=\"italic\" lengthAdjust=\"spacingAndGlyphs\" textLength=\"64\" x=\"33\" y=\"57.1387\">«part def»</text><text fill=\"#000000\" font-family=\"sans-serif\" font-size=\"12\" lengthAdjust=\"spacingAndGlyphs\" textLength=\"8\" x=\"61\" y=\"71.1074\">A</text><line style=\"stroke: #383838; stroke-width: 1.5;\" x1=\"33\" x2=\"97\" y1=\"78.9375\" y2=\"78.9375\"/></a><!--MD5=[a12a1b98c2c9052a21ccb8bbbadd4e10]\n",
       "@startuml\r\n",
       "skinparam linetype polyline\r\n",
       "skinparam monochrome true\r\n",
       "skinparam classbackgroundcolor white\r\n",
       "skinparam shadowing false\r\n",
       "skinparam wrapWidth 300\r\n",
       "hide circle\r\n",
       "\r\n",
       "package \"P1\" as E1  [[psysml:611624e7-c7ed-4f74-a421-b5a21d227404 ]]  {\r\n",
       "comp def \"A\" as E2  <<(T,blue)part def>> [[psysml:2313e16f-2d10-449a-8d9c-49e73c1dbd71 ]] {\r\n",
       "}\r\n",
       "}\r\n",
       "@enduml\r\n",
       "\n",
       "PlantUML version 1.2020.13(Sat Jun 13 12:26:38 UTC 2020)\n",
       "(EPL source distribution)\n",
       "Java Runtime: OpenJDK Runtime Environment\n",
       "JVM: OpenJDK 64-Bit Server VM\n",
       "Default Encoding: UTF-8\n",
       "Language: en\n",
       "Country: null\n",
       "--></g></svg>"
      ]
     },
     "execution_count": 15,
     "metadata": {},
     "output_type": "execute_result"
    }
   ],
   "source": [
    "%viz --style=\"POLYLINE\" --view=\"MIXED\" \"P1\""
   ]
  },
  {
   "cell_type": "code",
   "execution_count": 16,
   "id": "e8b1908b",
   "metadata": {
    "execution": {
     "iopub.execute_input": "2021-04-20T07:31:13.130751Z",
     "iopub.status.busy": "2021-04-20T07:31:13.126745Z",
     "iopub.status.idle": "2021-04-20T07:31:13.221844Z",
     "shell.execute_reply": "2021-04-20T07:31:13.222415Z"
    }
   },
   "outputs": [
    {
     "data": {
      "image/svg+xml": [
       "<?xml version=\"1.0\" encoding=\"UTF-8\" standalone=\"no\"?><svg xmlns=\"http://www.w3.org/2000/svg\" xmlns:xlink=\"http://www.w3.org/1999/xlink\" contentScriptType=\"application/ecmascript\" contentStyleType=\"text/css\" height=\"115px\" preserveAspectRatio=\"none\" style=\"width:136px;height:115px;\" version=\"1.1\" viewBox=\"0 0 136 115\" width=\"136px\" zoomAndPan=\"magnify\"><defs/><g><!--MD5=[fbc87193dbaf4d95561dea2c320d4a47]\n",
       "cluster E1--><a href=\"psysml:611624e7-c7ed-4f74-a421-b5a21d227404\" target=\"_top\" title=\"psysml:611624e7-c7ed-4f74-a421-b5a21d227404\" xlink:actuate=\"onRequest\" xlink:href=\"psysml:611624e7-c7ed-4f74-a421-b5a21d227404\" xlink:show=\"new\" xlink:title=\"psysml:611624e7-c7ed-4f74-a421-b5a21d227404\" xlink:type=\"simple\"><polygon fill=\"#FFFFFF\" points=\"16,6,42,6,49,28.2969,114,28.2969,114,103,16,103,16,6\" style=\"stroke: #000000; stroke-width: 1.5;\"/><line style=\"stroke: #000000; stroke-width: 1.5;\" x1=\"16\" x2=\"49\" y1=\"28.2969\" y2=\"28.2969\"/><text fill=\"#000000\" font-family=\"sans-serif\" font-size=\"14\" font-weight=\"bold\" lengthAdjust=\"spacingAndGlyphs\" textLength=\"20\" x=\"20\" y=\"20.9951\">P1</text></a><!--MD5=[b4997ac47864f28c2f74865a473b2911]\n",
       "class E2--><a href=\"psysml:2313e16f-2d10-449a-8d9c-49e73c1dbd71\" target=\"_top\" title=\"psysml:2313e16f-2d10-449a-8d9c-49e73c1dbd71\" xlink:actuate=\"onRequest\" xlink:href=\"psysml:2313e16f-2d10-449a-8d9c-49e73c1dbd71\" xlink:show=\"new\" xlink:title=\"psysml:2313e16f-2d10-449a-8d9c-49e73c1dbd71\" xlink:type=\"simple\"><rect fill=\"#FFFFFF\" height=\"45.9375\" id=\"E2\" style=\"stroke: #383838; stroke-width: 1.5;\" width=\"66\" x=\"32\" y=\"41\"/><text fill=\"#000000\" font-family=\"sans-serif\" font-size=\"12\" font-style=\"italic\" lengthAdjust=\"spacingAndGlyphs\" textLength=\"64\" x=\"33\" y=\"57.1387\">«part def»</text><text fill=\"#000000\" font-family=\"sans-serif\" font-size=\"12\" lengthAdjust=\"spacingAndGlyphs\" textLength=\"8\" x=\"61\" y=\"71.1074\">A</text><line style=\"stroke: #383838; stroke-width: 1.5;\" x1=\"33\" x2=\"97\" y1=\"78.9375\" y2=\"78.9375\"/></a><!--MD5=[81550bc643d131d58b3d1e9bf39b75f1]\n",
       "@startuml\r\n",
       "left to right direction\r\n",
       "skinparam monochrome true\r\n",
       "skinparam classbackgroundcolor white\r\n",
       "skinparam shadowing false\r\n",
       "skinparam wrapWidth 300\r\n",
       "hide circle\r\n",
       "\r\n",
       "package \"P1\" as E1  [[psysml:611624e7-c7ed-4f74-a421-b5a21d227404 ]]  {\r\n",
       "comp def \"A\" as E2  <<(T,blue)part def>> [[psysml:2313e16f-2d10-449a-8d9c-49e73c1dbd71 ]] {\r\n",
       "}\r\n",
       "}\r\n",
       "@enduml\r\n",
       "\n",
       "PlantUML version 1.2020.13(Sat Jun 13 12:26:38 UTC 2020)\n",
       "(EPL source distribution)\n",
       "Java Runtime: OpenJDK Runtime Environment\n",
       "JVM: OpenJDK 64-Bit Server VM\n",
       "Default Encoding: UTF-8\n",
       "Language: en\n",
       "Country: null\n",
       "--></g></svg>"
      ]
     },
     "execution_count": 16,
     "metadata": {},
     "output_type": "execute_result"
    }
   ],
   "source": [
    "%viz --style=\"LR\" --view=\"Default\" \"P1\""
   ]
  },
  {
   "cell_type": "code",
   "execution_count": 17,
   "id": "7134ee9a",
   "metadata": {
    "execution": {
     "iopub.execute_input": "2021-04-20T07:31:13.270740Z",
     "iopub.status.busy": "2021-04-20T07:31:13.269885Z",
     "iopub.status.idle": "2021-04-20T07:31:13.339990Z",
     "shell.execute_reply": "2021-04-20T07:31:13.339443Z"
    }
   },
   "outputs": [
    {
     "data": {
      "image/svg+xml": [
       "<?xml version=\"1.0\" encoding=\"UTF-8\" standalone=\"no\"?><svg xmlns=\"http://www.w3.org/2000/svg\" xmlns:xlink=\"http://www.w3.org/1999/xlink\" contentScriptType=\"application/ecmascript\" contentStyleType=\"text/css\" height=\"115px\" preserveAspectRatio=\"none\" style=\"width:136px;height:115px;\" version=\"1.1\" viewBox=\"0 0 136 115\" width=\"136px\" zoomAndPan=\"magnify\"><defs/><g><!--MD5=[fbc87193dbaf4d95561dea2c320d4a47]\n",
       "cluster E1--><a href=\"psysml:611624e7-c7ed-4f74-a421-b5a21d227404\" target=\"_top\" title=\"psysml:611624e7-c7ed-4f74-a421-b5a21d227404\" xlink:actuate=\"onRequest\" xlink:href=\"psysml:611624e7-c7ed-4f74-a421-b5a21d227404\" xlink:show=\"new\" xlink:title=\"psysml:611624e7-c7ed-4f74-a421-b5a21d227404\" xlink:type=\"simple\"><polygon fill=\"#FFFFFF\" points=\"16,6,42,6,49,28.2969,114,28.2969,114,103,16,103,16,6\" style=\"stroke: #000000; stroke-width: 1.5;\"/><line style=\"stroke: #000000; stroke-width: 1.5;\" x1=\"16\" x2=\"49\" y1=\"28.2969\" y2=\"28.2969\"/><text fill=\"#000000\" font-family=\"sans-serif\" font-size=\"14\" font-weight=\"bold\" lengthAdjust=\"spacingAndGlyphs\" textLength=\"20\" x=\"20\" y=\"20.9951\">P1</text></a><!--MD5=[b4997ac47864f28c2f74865a473b2911]\n",
       "class E2--><a href=\"psysml:2313e16f-2d10-449a-8d9c-49e73c1dbd71\" target=\"_top\" title=\"psysml:2313e16f-2d10-449a-8d9c-49e73c1dbd71\" xlink:actuate=\"onRequest\" xlink:href=\"psysml:2313e16f-2d10-449a-8d9c-49e73c1dbd71\" xlink:show=\"new\" xlink:title=\"psysml:2313e16f-2d10-449a-8d9c-49e73c1dbd71\" xlink:type=\"simple\"><rect fill=\"#FFFFFF\" height=\"45.9375\" id=\"E2\" style=\"stroke: #383838; stroke-width: 1.5;\" width=\"66\" x=\"32\" y=\"41\"/><text fill=\"#000000\" font-family=\"sans-serif\" font-size=\"12\" font-style=\"italic\" lengthAdjust=\"spacingAndGlyphs\" textLength=\"64\" x=\"33\" y=\"57.1387\">«part def»</text><text fill=\"#000000\" font-family=\"sans-serif\" font-size=\"12\" lengthAdjust=\"spacingAndGlyphs\" textLength=\"8\" x=\"61\" y=\"71.1074\">A</text><line style=\"stroke: #383838; stroke-width: 1.5;\" x1=\"33\" x2=\"97\" y1=\"78.9375\" y2=\"78.9375\"/></a><!--MD5=[81550bc643d131d58b3d1e9bf39b75f1]\n",
       "@startuml\r\n",
       "left to right direction\r\n",
       "skinparam monochrome true\r\n",
       "skinparam classbackgroundcolor white\r\n",
       "skinparam shadowing false\r\n",
       "skinparam wrapWidth 300\r\n",
       "hide circle\r\n",
       "\r\n",
       "package \"P1\" as E1  [[psysml:611624e7-c7ed-4f74-a421-b5a21d227404 ]]  {\r\n",
       "comp def \"A\" as E2  <<(T,blue)part def>> [[psysml:2313e16f-2d10-449a-8d9c-49e73c1dbd71 ]] {\r\n",
       "}\r\n",
       "}\r\n",
       "@enduml\r\n",
       "\n",
       "PlantUML version 1.2020.13(Sat Jun 13 12:26:38 UTC 2020)\n",
       "(EPL source distribution)\n",
       "Java Runtime: OpenJDK Runtime Environment\n",
       "JVM: OpenJDK 64-Bit Server VM\n",
       "Default Encoding: UTF-8\n",
       "Language: en\n",
       "Country: null\n",
       "--></g></svg>"
      ]
     },
     "execution_count": 17,
     "metadata": {},
     "output_type": "execute_result"
    }
   ],
   "source": [
    "%viz --style=\"LR\" --view=\"Tree\" \"P1\""
   ]
  },
  {
   "cell_type": "code",
   "execution_count": 18,
   "id": "6608b6c2",
   "metadata": {
    "execution": {
     "iopub.execute_input": "2021-04-20T07:31:13.391328Z",
     "iopub.status.busy": "2021-04-20T07:31:13.390810Z",
     "iopub.status.idle": "2021-04-20T07:31:13.402428Z",
     "shell.execute_reply": "2021-04-20T07:31:13.402017Z"
    }
   },
   "outputs": [
    {
     "data": {
      "image/svg+xml": [
       "<?xml version=\"1.0\" encoding=\"UTF-8\" standalone=\"no\"?><svg xmlns=\"http://www.w3.org/2000/svg\" xmlns:xlink=\"http://www.w3.org/1999/xlink\" contentScriptType=\"application/ecmascript\" contentStyleType=\"text/css\" height=\"12px\" preserveAspectRatio=\"none\" style=\"width:12px;height:12px;\" version=\"1.1\" viewBox=\"0 0 12 12\" width=\"12px\" zoomAndPan=\"magnify\"><defs/><g><!--MD5=[19d285c9d72a204eba4e2cd117d745e8]\n",
       "@startuml\r\n",
       "left to right direction\r\n",
       "skinparam monochrome true\r\n",
       "skinparam classbackgroundcolor white\r\n",
       "skinparam shadowing false\r\n",
       "skinparam wrapWidth 300\r\n",
       "hide circle\r\n",
       "\r\n",
       "@enduml\r\n",
       "\n",
       "PlantUML version 1.2020.13(Sat Jun 13 12:26:38 UTC 2020)\n",
       "(EPL source distribution)\n",
       "Java Runtime: OpenJDK Runtime Environment\n",
       "JVM: OpenJDK 64-Bit Server VM\n",
       "Default Encoding: UTF-8\n",
       "Language: en\n",
       "Country: null\n",
       "--></g></svg>"
      ]
     },
     "execution_count": 18,
     "metadata": {},
     "output_type": "execute_result"
    }
   ],
   "source": [
    "%viz --style=\"LR\" --view=\"State\" \"P1\""
   ]
  },
  {
   "cell_type": "code",
   "execution_count": 19,
   "id": "e01cc552",
   "metadata": {
    "execution": {
     "iopub.execute_input": "2021-04-20T07:31:13.456164Z",
     "iopub.status.busy": "2021-04-20T07:31:13.455643Z",
     "iopub.status.idle": "2021-04-20T07:31:13.494077Z",
     "shell.execute_reply": "2021-04-20T07:31:13.494570Z"
    }
   },
   "outputs": [
    {
     "data": {
      "image/svg+xml": [
       "<?xml version=\"1.0\" encoding=\"UTF-8\" standalone=\"no\"?><svg xmlns=\"http://www.w3.org/2000/svg\" xmlns:xlink=\"http://www.w3.org/1999/xlink\" contentScriptType=\"application/ecmascript\" contentStyleType=\"text/css\" height=\"113px\" preserveAspectRatio=\"none\" style=\"width:141px;height:113px;\" version=\"1.1\" viewBox=\"0 0 141 113\" width=\"141px\" zoomAndPan=\"magnify\"><defs/><g><!--MD5=[fbc87193dbaf4d95561dea2c320d4a47]\n",
       "cluster E1--><a href=\"psysml:611624e7-c7ed-4f74-a421-b5a21d227404\" target=\"_top\" title=\"psysml:611624e7-c7ed-4f74-a421-b5a21d227404\" xlink:actuate=\"onRequest\" xlink:href=\"psysml:611624e7-c7ed-4f74-a421-b5a21d227404\" xlink:show=\"new\" xlink:title=\"psysml:611624e7-c7ed-4f74-a421-b5a21d227404\" xlink:type=\"simple\"><polygon fill=\"#FFFFFF\" points=\"16,6,42,6,49,28.2969,119,28.2969,119,101,16,101,16,6\" style=\"stroke: #000000; stroke-width: 1.5;\"/><line style=\"stroke: #000000; stroke-width: 1.5;\" x1=\"16\" x2=\"49\" y1=\"28.2969\" y2=\"28.2969\"/><text fill=\"#000000\" font-family=\"sans-serif\" font-size=\"14\" font-weight=\"bold\" lengthAdjust=\"spacingAndGlyphs\" textLength=\"20\" x=\"20\" y=\"20.9951\">P1</text></a><g id=\"E1.E2\"><a href=\"psysml:2313e16f-2d10-449a-8d9c-49e73c1dbd71\" target=\"_top\" title=\"psysml:2313e16f-2d10-449a-8d9c-49e73c1dbd71\" xlink:actuate=\"onRequest\" xlink:href=\"psysml:2313e16f-2d10-449a-8d9c-49e73c1dbd71\" xlink:show=\"new\" xlink:title=\"psysml:2313e16f-2d10-449a-8d9c-49e73c1dbd71\" xlink:type=\"simple\"><rect fill=\"#FFFFFF\" height=\"42.9375\" id=\"E2\" style=\"stroke: #383838; stroke-width: 1.5;\" width=\"71\" x=\"32\" y=\"41.5\"/><rect fill=\"#F8F8F8\" height=\"37.9375\" style=\"stroke: #383838; stroke-width: 1.5;\" width=\"71\" x=\"32\" y=\"41.5\"/><text fill=\"#000000\" font-family=\"sans-serif\" font-size=\"12\" font-style=\"italic\" lengthAdjust=\"spacingAndGlyphs\" textLength=\"64\" x=\"35.5\" y=\"57.6387\">«part def»</text><text fill=\"#000000\" font-family=\"sans-serif\" font-size=\"12\" lengthAdjust=\"spacingAndGlyphs\" textLength=\"8\" x=\"63.5\" y=\"71.6074\">A</text></a></g><!--MD5=[fe343ece4aa51ef31d7809de8f85f362]\n",
       "@startuml\r\n",
       "skinparam ranksep 10\r\n",
       "skinparam rectangle {\r\n",
       " backgroundColor<<block>> LightGreen\r\n",
       "}\r\n",
       "left to right direction\r\n",
       "skinparam monochrome true\r\n",
       "skinparam classbackgroundcolor white\r\n",
       "skinparam shadowing false\r\n",
       "skinparam wrapWidth 300\r\n",
       "hide circle\r\n",
       "\r\n",
       "package \"P1\" as E1  [[psysml:611624e7-c7ed-4f74-a421-b5a21d227404 ]]  {\r\n",
       "rec def \"A\" as E2  <<(T,blue)part def>> [[psysml:2313e16f-2d10-449a-8d9c-49e73c1dbd71 ]] {\r\n",
       "}\r\n",
       "}\r\n",
       "@enduml\r\n",
       "\n",
       "PlantUML version 1.2020.13(Sat Jun 13 12:26:38 UTC 2020)\n",
       "(EPL source distribution)\n",
       "Java Runtime: OpenJDK Runtime Environment\n",
       "JVM: OpenJDK 64-Bit Server VM\n",
       "Default Encoding: UTF-8\n",
       "Language: en\n",
       "Country: null\n",
       "--></g></svg>"
      ]
     },
     "execution_count": 19,
     "metadata": {},
     "output_type": "execute_result"
    }
   ],
   "source": [
    "%viz --style=\"LR\" --view=\"Interconnection\" \"P1\""
   ]
  },
  {
   "cell_type": "code",
   "execution_count": 20,
   "id": "6eab4c87",
   "metadata": {
    "execution": {
     "iopub.execute_input": "2021-04-20T07:31:13.545446Z",
     "iopub.status.busy": "2021-04-20T07:31:13.544820Z",
     "iopub.status.idle": "2021-04-20T07:31:13.552931Z",
     "shell.execute_reply": "2021-04-20T07:31:13.553279Z"
    }
   },
   "outputs": [
    {
     "data": {
      "image/svg+xml": [
       "<?xml version=\"1.0\" encoding=\"UTF-8\" standalone=\"no\"?><svg xmlns=\"http://www.w3.org/2000/svg\" xmlns:xlink=\"http://www.w3.org/1999/xlink\" contentScriptType=\"application/ecmascript\" contentStyleType=\"text/css\" height=\"12px\" preserveAspectRatio=\"none\" style=\"width:12px;height:12px;\" version=\"1.1\" viewBox=\"0 0 12 12\" width=\"12px\" zoomAndPan=\"magnify\"><defs/><g><!--MD5=[7aeb398939421629f6affaa4a1a7b125]\n",
       "@startuml\r\n",
       "skinparam ranksep 8\r\n",
       "left to right direction\r\n",
       "skinparam monochrome true\r\n",
       "skinparam classbackgroundcolor white\r\n",
       "skinparam shadowing false\r\n",
       "skinparam wrapWidth 300\r\n",
       "hide circle\r\n",
       "\r\n",
       "@enduml\r\n",
       "\n",
       "PlantUML version 1.2020.13(Sat Jun 13 12:26:38 UTC 2020)\n",
       "(EPL source distribution)\n",
       "Java Runtime: OpenJDK Runtime Environment\n",
       "JVM: OpenJDK 64-Bit Server VM\n",
       "Default Encoding: UTF-8\n",
       "Language: en\n",
       "Country: null\n",
       "--></g></svg>"
      ]
     },
     "execution_count": 20,
     "metadata": {},
     "output_type": "execute_result"
    }
   ],
   "source": [
    "%viz --style=\"LR\" --view=\"Action\" \"P1\""
   ]
  },
  {
   "cell_type": "code",
   "execution_count": 21,
   "id": "5cd6e296",
   "metadata": {
    "execution": {
     "iopub.execute_input": "2021-04-20T07:31:13.604159Z",
     "iopub.status.busy": "2021-04-20T07:31:13.603676Z",
     "iopub.status.idle": "2021-04-20T07:31:13.648787Z",
     "shell.execute_reply": "2021-04-20T07:31:13.647014Z"
    }
   },
   "outputs": [
    {
     "data": {
      "image/svg+xml": [
       "<?xml version=\"1.0\" encoding=\"UTF-8\" standalone=\"no\"?><svg xmlns=\"http://www.w3.org/2000/svg\" xmlns:xlink=\"http://www.w3.org/1999/xlink\" contentScriptType=\"application/ecmascript\" contentStyleType=\"text/css\" height=\"115px\" preserveAspectRatio=\"none\" style=\"width:136px;height:115px;\" version=\"1.1\" viewBox=\"0 0 136 115\" width=\"136px\" zoomAndPan=\"magnify\"><defs/><g><!--MD5=[fbc87193dbaf4d95561dea2c320d4a47]\n",
       "cluster E1--><a href=\"psysml:611624e7-c7ed-4f74-a421-b5a21d227404\" target=\"_top\" title=\"psysml:611624e7-c7ed-4f74-a421-b5a21d227404\" xlink:actuate=\"onRequest\" xlink:href=\"psysml:611624e7-c7ed-4f74-a421-b5a21d227404\" xlink:show=\"new\" xlink:title=\"psysml:611624e7-c7ed-4f74-a421-b5a21d227404\" xlink:type=\"simple\"><polygon fill=\"#FFFFFF\" points=\"16,6,42,6,49,28.2969,114,28.2969,114,103,16,103,16,6\" style=\"stroke: #000000; stroke-width: 1.5;\"/><line style=\"stroke: #000000; stroke-width: 1.5;\" x1=\"16\" x2=\"49\" y1=\"28.2969\" y2=\"28.2969\"/><text fill=\"#000000\" font-family=\"sans-serif\" font-size=\"14\" font-weight=\"bold\" lengthAdjust=\"spacingAndGlyphs\" textLength=\"20\" x=\"20\" y=\"20.9951\">P1</text></a><!--MD5=[b4997ac47864f28c2f74865a473b2911]\n",
       "class E2--><a href=\"psysml:2313e16f-2d10-449a-8d9c-49e73c1dbd71\" target=\"_top\" title=\"psysml:2313e16f-2d10-449a-8d9c-49e73c1dbd71\" xlink:actuate=\"onRequest\" xlink:href=\"psysml:2313e16f-2d10-449a-8d9c-49e73c1dbd71\" xlink:show=\"new\" xlink:title=\"psysml:2313e16f-2d10-449a-8d9c-49e73c1dbd71\" xlink:type=\"simple\"><rect fill=\"#FFFFFF\" height=\"45.9375\" id=\"E2\" style=\"stroke: #383838; stroke-width: 1.5;\" width=\"66\" x=\"32\" y=\"41\"/><text fill=\"#000000\" font-family=\"sans-serif\" font-size=\"12\" font-style=\"italic\" lengthAdjust=\"spacingAndGlyphs\" textLength=\"64\" x=\"33\" y=\"57.1387\">«part def»</text><text fill=\"#000000\" font-family=\"sans-serif\" font-size=\"12\" lengthAdjust=\"spacingAndGlyphs\" textLength=\"8\" x=\"61\" y=\"71.1074\">A</text><line style=\"stroke: #383838; stroke-width: 1.5;\" x1=\"33\" x2=\"97\" y1=\"78.9375\" y2=\"78.9375\"/></a><!--MD5=[81550bc643d131d58b3d1e9bf39b75f1]\n",
       "@startuml\r\n",
       "left to right direction\r\n",
       "skinparam monochrome true\r\n",
       "skinparam classbackgroundcolor white\r\n",
       "skinparam shadowing false\r\n",
       "skinparam wrapWidth 300\r\n",
       "hide circle\r\n",
       "\r\n",
       "package \"P1\" as E1  [[psysml:611624e7-c7ed-4f74-a421-b5a21d227404 ]]  {\r\n",
       "comp def \"A\" as E2  <<(T,blue)part def>> [[psysml:2313e16f-2d10-449a-8d9c-49e73c1dbd71 ]] {\r\n",
       "}\r\n",
       "}\r\n",
       "@enduml\r\n",
       "\n",
       "PlantUML version 1.2020.13(Sat Jun 13 12:26:38 UTC 2020)\n",
       "(EPL source distribution)\n",
       "Java Runtime: OpenJDK Runtime Environment\n",
       "JVM: OpenJDK 64-Bit Server VM\n",
       "Default Encoding: UTF-8\n",
       "Language: en\n",
       "Country: null\n",
       "--></g></svg>"
      ]
     },
     "execution_count": 21,
     "metadata": {},
     "output_type": "execute_result"
    }
   ],
   "source": [
    "%viz --style=\"LR\" --view=\"Sequence\" \"P1\""
   ]
  },
  {
   "cell_type": "code",
   "execution_count": 22,
   "id": "8f0d6598",
   "metadata": {
    "execution": {
     "iopub.execute_input": "2021-04-20T07:31:13.701304Z",
     "iopub.status.busy": "2021-04-20T07:31:13.700495Z",
     "iopub.status.idle": "2021-04-20T07:31:13.737182Z",
     "shell.execute_reply": "2021-04-20T07:31:13.737496Z"
    }
   },
   "outputs": [
    {
     "data": {
      "image/svg+xml": [
       "<?xml version=\"1.0\" encoding=\"UTF-8\" standalone=\"no\"?><svg xmlns=\"http://www.w3.org/2000/svg\" xmlns:xlink=\"http://www.w3.org/1999/xlink\" contentScriptType=\"application/ecmascript\" contentStyleType=\"text/css\" height=\"115px\" preserveAspectRatio=\"none\" style=\"width:136px;height:115px;\" version=\"1.1\" viewBox=\"0 0 136 115\" width=\"136px\" zoomAndPan=\"magnify\"><defs/><g><!--MD5=[fbc87193dbaf4d95561dea2c320d4a47]\n",
       "cluster E1--><a href=\"psysml:611624e7-c7ed-4f74-a421-b5a21d227404\" target=\"_top\" title=\"psysml:611624e7-c7ed-4f74-a421-b5a21d227404\" xlink:actuate=\"onRequest\" xlink:href=\"psysml:611624e7-c7ed-4f74-a421-b5a21d227404\" xlink:show=\"new\" xlink:title=\"psysml:611624e7-c7ed-4f74-a421-b5a21d227404\" xlink:type=\"simple\"><polygon fill=\"#FFFFFF\" points=\"16,6,42,6,49,28.2969,114,28.2969,114,103,16,103,16,6\" style=\"stroke: #000000; stroke-width: 1.5;\"/><line style=\"stroke: #000000; stroke-width: 1.5;\" x1=\"16\" x2=\"49\" y1=\"28.2969\" y2=\"28.2969\"/><text fill=\"#000000\" font-family=\"sans-serif\" font-size=\"14\" font-weight=\"bold\" lengthAdjust=\"spacingAndGlyphs\" textLength=\"20\" x=\"20\" y=\"20.9951\">P1</text></a><!--MD5=[b4997ac47864f28c2f74865a473b2911]\n",
       "class E2--><a href=\"psysml:2313e16f-2d10-449a-8d9c-49e73c1dbd71\" target=\"_top\" title=\"psysml:2313e16f-2d10-449a-8d9c-49e73c1dbd71\" xlink:actuate=\"onRequest\" xlink:href=\"psysml:2313e16f-2d10-449a-8d9c-49e73c1dbd71\" xlink:show=\"new\" xlink:title=\"psysml:2313e16f-2d10-449a-8d9c-49e73c1dbd71\" xlink:type=\"simple\"><rect fill=\"#FFFFFF\" height=\"45.9375\" id=\"E2\" style=\"stroke: #383838; stroke-width: 1.5;\" width=\"66\" x=\"32\" y=\"41\"/><text fill=\"#000000\" font-family=\"sans-serif\" font-size=\"12\" font-style=\"italic\" lengthAdjust=\"spacingAndGlyphs\" textLength=\"64\" x=\"33\" y=\"57.1387\">«part def»</text><text fill=\"#000000\" font-family=\"sans-serif\" font-size=\"12\" lengthAdjust=\"spacingAndGlyphs\" textLength=\"8\" x=\"61\" y=\"71.1074\">A</text><line style=\"stroke: #383838; stroke-width: 1.5;\" x1=\"33\" x2=\"97\" y1=\"78.9375\" y2=\"78.9375\"/></a><!--MD5=[81550bc643d131d58b3d1e9bf39b75f1]\n",
       "@startuml\r\n",
       "left to right direction\r\n",
       "skinparam monochrome true\r\n",
       "skinparam classbackgroundcolor white\r\n",
       "skinparam shadowing false\r\n",
       "skinparam wrapWidth 300\r\n",
       "hide circle\r\n",
       "\r\n",
       "package \"P1\" as E1  [[psysml:611624e7-c7ed-4f74-a421-b5a21d227404 ]]  {\r\n",
       "comp def \"A\" as E2  <<(T,blue)part def>> [[psysml:2313e16f-2d10-449a-8d9c-49e73c1dbd71 ]] {\r\n",
       "}\r\n",
       "}\r\n",
       "@enduml\r\n",
       "\n",
       "PlantUML version 1.2020.13(Sat Jun 13 12:26:38 UTC 2020)\n",
       "(EPL source distribution)\n",
       "Java Runtime: OpenJDK Runtime Environment\n",
       "JVM: OpenJDK 64-Bit Server VM\n",
       "Default Encoding: UTF-8\n",
       "Language: en\n",
       "Country: null\n",
       "--></g></svg>"
      ]
     },
     "execution_count": 22,
     "metadata": {},
     "output_type": "execute_result"
    }
   ],
   "source": [
    "%viz --style=\"LR\" --view=\"MIXED\" \"P1\""
   ]
  },
  {
   "cell_type": "code",
   "execution_count": 23,
   "id": "55284f87",
   "metadata": {
    "execution": {
     "iopub.execute_input": "2021-04-20T07:31:13.789223Z",
     "iopub.status.busy": "2021-04-20T07:31:13.788360Z",
     "iopub.status.idle": "2021-04-20T07:31:13.820245Z",
     "shell.execute_reply": "2021-04-20T07:31:13.819858Z"
    }
   },
   "outputs": [
    {
     "data": {
      "image/svg+xml": [
       "<?xml version=\"1.0\" encoding=\"UTF-8\" standalone=\"no\"?><svg xmlns=\"http://www.w3.org/2000/svg\" xmlns:xlink=\"http://www.w3.org/1999/xlink\" contentScriptType=\"application/ecmascript\" contentStyleType=\"text/css\" height=\"115px\" preserveAspectRatio=\"none\" style=\"width:136px;height:115px;\" version=\"1.1\" viewBox=\"0 0 136 115\" width=\"136px\" zoomAndPan=\"magnify\"><defs><filter height=\"300%\" id=\"f1h787134qyjea\" width=\"300%\" x=\"-1\" y=\"-1\"><feGaussianBlur result=\"blurOut\" stdDeviation=\"2.0\"/><feColorMatrix in=\"blurOut\" result=\"blurOut2\" type=\"matrix\" values=\"0 0 0 0 0 0 0 0 0 0 0 0 0 0 0 0 0 0 .4 0\"/><feOffset dx=\"4.0\" dy=\"4.0\" in=\"blurOut2\" result=\"blurOut3\"/><feBlend in=\"SourceGraphic\" in2=\"blurOut3\" mode=\"normal\"/></filter></defs><g><!--MD5=[fbc87193dbaf4d95561dea2c320d4a47]\n",
       "cluster E1--><a href=\"psysml:611624e7-c7ed-4f74-a421-b5a21d227404\" target=\"_top\" title=\"psysml:611624e7-c7ed-4f74-a421-b5a21d227404\" xlink:actuate=\"onRequest\" xlink:href=\"psysml:611624e7-c7ed-4f74-a421-b5a21d227404\" xlink:show=\"new\" xlink:title=\"psysml:611624e7-c7ed-4f74-a421-b5a21d227404\" xlink:type=\"simple\"><polygon fill=\"#FFFFFF\" filter=\"url(#f1h787134qyjea)\" points=\"16,6,42,6,49,28.2969,114,28.2969,114,103,16,103,16,6\" style=\"stroke: #000000; stroke-width: 1.5;\"/><line style=\"stroke: #000000; stroke-width: 1.5;\" x1=\"16\" x2=\"49\" y1=\"28.2969\" y2=\"28.2969\"/><text fill=\"#000000\" font-family=\"sans-serif\" font-size=\"14\" font-weight=\"bold\" lengthAdjust=\"spacingAndGlyphs\" textLength=\"20\" x=\"20\" y=\"20.9951\">P1</text></a><!--MD5=[b4997ac47864f28c2f74865a473b2911]\n",
       "class E2--><a href=\"psysml:2313e16f-2d10-449a-8d9c-49e73c1dbd71\" target=\"_top\" title=\"psysml:2313e16f-2d10-449a-8d9c-49e73c1dbd71\" xlink:actuate=\"onRequest\" xlink:href=\"psysml:2313e16f-2d10-449a-8d9c-49e73c1dbd71\" xlink:show=\"new\" xlink:title=\"psysml:2313e16f-2d10-449a-8d9c-49e73c1dbd71\" xlink:type=\"simple\"><rect fill=\"#FEFECE\" filter=\"url(#f1h787134qyjea)\" height=\"45.9375\" id=\"E2\" style=\"stroke: #A80036; stroke-width: 1.5;\" width=\"66\" x=\"32\" y=\"41\"/><text fill=\"#000000\" font-family=\"sans-serif\" font-size=\"12\" font-style=\"italic\" lengthAdjust=\"spacingAndGlyphs\" textLength=\"64\" x=\"33\" y=\"57.1387\">«part def»</text><text fill=\"#000000\" font-family=\"sans-serif\" font-size=\"12\" lengthAdjust=\"spacingAndGlyphs\" textLength=\"8\" x=\"61\" y=\"71.1074\">A</text><line style=\"stroke: #A80036; stroke-width: 1.5;\" x1=\"33\" x2=\"97\" y1=\"78.9375\" y2=\"78.9375\"/></a><!--MD5=[772f89b1463d7f3df30770a3768270aa]\n",
       "@startuml\r\n",
       "skinparam wrapWidth 300\r\n",
       "hide circle\r\n",
       "\r\n",
       "package \"P1\" as E1  [[psysml:611624e7-c7ed-4f74-a421-b5a21d227404 ]]  {\r\n",
       "comp def \"A\" as E2  <<(T,blue)part def>> [[psysml:2313e16f-2d10-449a-8d9c-49e73c1dbd71 ]] {\r\n",
       "}\r\n",
       "}\r\n",
       "@enduml\r\n",
       "\n",
       "PlantUML version 1.2020.13(Sat Jun 13 12:26:38 UTC 2020)\n",
       "(EPL source distribution)\n",
       "Java Runtime: OpenJDK Runtime Environment\n",
       "JVM: OpenJDK 64-Bit Server VM\n",
       "Default Encoding: UTF-8\n",
       "Language: en\n",
       "Country: null\n",
       "--></g></svg>"
      ]
     },
     "execution_count": 23,
     "metadata": {},
     "output_type": "execute_result"
    }
   ],
   "source": [
    "%viz --style=\"STDCOLOR\" --view=\"Default\" \"P1\""
   ]
  },
  {
   "cell_type": "code",
   "execution_count": 24,
   "id": "51f9d8a1",
   "metadata": {
    "execution": {
     "iopub.execute_input": "2021-04-20T07:31:13.871880Z",
     "iopub.status.busy": "2021-04-20T07:31:13.870201Z",
     "iopub.status.idle": "2021-04-20T07:31:13.901199Z",
     "shell.execute_reply": "2021-04-20T07:31:13.900809Z"
    }
   },
   "outputs": [
    {
     "data": {
      "image/svg+xml": [
       "<?xml version=\"1.0\" encoding=\"UTF-8\" standalone=\"no\"?><svg xmlns=\"http://www.w3.org/2000/svg\" xmlns:xlink=\"http://www.w3.org/1999/xlink\" contentScriptType=\"application/ecmascript\" contentStyleType=\"text/css\" height=\"115px\" preserveAspectRatio=\"none\" style=\"width:136px;height:115px;\" version=\"1.1\" viewBox=\"0 0 136 115\" width=\"136px\" zoomAndPan=\"magnify\"><defs><filter height=\"300%\" id=\"f1h787134qyjea\" width=\"300%\" x=\"-1\" y=\"-1\"><feGaussianBlur result=\"blurOut\" stdDeviation=\"2.0\"/><feColorMatrix in=\"blurOut\" result=\"blurOut2\" type=\"matrix\" values=\"0 0 0 0 0 0 0 0 0 0 0 0 0 0 0 0 0 0 .4 0\"/><feOffset dx=\"4.0\" dy=\"4.0\" in=\"blurOut2\" result=\"blurOut3\"/><feBlend in=\"SourceGraphic\" in2=\"blurOut3\" mode=\"normal\"/></filter></defs><g><!--MD5=[fbc87193dbaf4d95561dea2c320d4a47]\n",
       "cluster E1--><a href=\"psysml:611624e7-c7ed-4f74-a421-b5a21d227404\" target=\"_top\" title=\"psysml:611624e7-c7ed-4f74-a421-b5a21d227404\" xlink:actuate=\"onRequest\" xlink:href=\"psysml:611624e7-c7ed-4f74-a421-b5a21d227404\" xlink:show=\"new\" xlink:title=\"psysml:611624e7-c7ed-4f74-a421-b5a21d227404\" xlink:type=\"simple\"><polygon fill=\"#FFFFFF\" filter=\"url(#f1h787134qyjea)\" points=\"16,6,42,6,49,28.2969,114,28.2969,114,103,16,103,16,6\" style=\"stroke: #000000; stroke-width: 1.5;\"/><line style=\"stroke: #000000; stroke-width: 1.5;\" x1=\"16\" x2=\"49\" y1=\"28.2969\" y2=\"28.2969\"/><text fill=\"#000000\" font-family=\"sans-serif\" font-size=\"14\" font-weight=\"bold\" lengthAdjust=\"spacingAndGlyphs\" textLength=\"20\" x=\"20\" y=\"20.9951\">P1</text></a><!--MD5=[b4997ac47864f28c2f74865a473b2911]\n",
       "class E2--><a href=\"psysml:2313e16f-2d10-449a-8d9c-49e73c1dbd71\" target=\"_top\" title=\"psysml:2313e16f-2d10-449a-8d9c-49e73c1dbd71\" xlink:actuate=\"onRequest\" xlink:href=\"psysml:2313e16f-2d10-449a-8d9c-49e73c1dbd71\" xlink:show=\"new\" xlink:title=\"psysml:2313e16f-2d10-449a-8d9c-49e73c1dbd71\" xlink:type=\"simple\"><rect fill=\"#FEFECE\" filter=\"url(#f1h787134qyjea)\" height=\"45.9375\" id=\"E2\" style=\"stroke: #A80036; stroke-width: 1.5;\" width=\"66\" x=\"32\" y=\"41\"/><text fill=\"#000000\" font-family=\"sans-serif\" font-size=\"12\" font-style=\"italic\" lengthAdjust=\"spacingAndGlyphs\" textLength=\"64\" x=\"33\" y=\"57.1387\">«part def»</text><text fill=\"#000000\" font-family=\"sans-serif\" font-size=\"12\" lengthAdjust=\"spacingAndGlyphs\" textLength=\"8\" x=\"61\" y=\"71.1074\">A</text><line style=\"stroke: #A80036; stroke-width: 1.5;\" x1=\"33\" x2=\"97\" y1=\"78.9375\" y2=\"78.9375\"/></a><!--MD5=[772f89b1463d7f3df30770a3768270aa]\n",
       "@startuml\r\n",
       "skinparam wrapWidth 300\r\n",
       "hide circle\r\n",
       "\r\n",
       "package \"P1\" as E1  [[psysml:611624e7-c7ed-4f74-a421-b5a21d227404 ]]  {\r\n",
       "comp def \"A\" as E2  <<(T,blue)part def>> [[psysml:2313e16f-2d10-449a-8d9c-49e73c1dbd71 ]] {\r\n",
       "}\r\n",
       "}\r\n",
       "@enduml\r\n",
       "\n",
       "PlantUML version 1.2020.13(Sat Jun 13 12:26:38 UTC 2020)\n",
       "(EPL source distribution)\n",
       "Java Runtime: OpenJDK Runtime Environment\n",
       "JVM: OpenJDK 64-Bit Server VM\n",
       "Default Encoding: UTF-8\n",
       "Language: en\n",
       "Country: null\n",
       "--></g></svg>"
      ]
     },
     "execution_count": 24,
     "metadata": {},
     "output_type": "execute_result"
    }
   ],
   "source": [
    "%viz --style=\"STDCOLOR\" --view=\"Tree\" \"P1\""
   ]
  },
  {
   "cell_type": "code",
   "execution_count": 25,
   "id": "67bb599e",
   "metadata": {
    "execution": {
     "iopub.execute_input": "2021-04-20T07:31:13.953061Z",
     "iopub.status.busy": "2021-04-20T07:31:13.952364Z",
     "iopub.status.idle": "2021-04-20T07:31:13.958406Z",
     "shell.execute_reply": "2021-04-20T07:31:13.958048Z"
    }
   },
   "outputs": [
    {
     "data": {
      "image/svg+xml": [
       "<?xml version=\"1.0\" encoding=\"UTF-8\" standalone=\"no\"?><svg xmlns=\"http://www.w3.org/2000/svg\" xmlns:xlink=\"http://www.w3.org/1999/xlink\" contentScriptType=\"application/ecmascript\" contentStyleType=\"text/css\" height=\"12px\" preserveAspectRatio=\"none\" style=\"width:12px;height:12px;\" version=\"1.1\" viewBox=\"0 0 12 12\" width=\"12px\" zoomAndPan=\"magnify\"><defs/><g><!--MD5=[aeeef50f102b80d730deb6443d14f702]\n",
       "@startuml\r\n",
       "skinparam wrapWidth 300\r\n",
       "hide circle\r\n",
       "\r\n",
       "@enduml\r\n",
       "\n",
       "PlantUML version 1.2020.13(Sat Jun 13 12:26:38 UTC 2020)\n",
       "(EPL source distribution)\n",
       "Java Runtime: OpenJDK Runtime Environment\n",
       "JVM: OpenJDK 64-Bit Server VM\n",
       "Default Encoding: UTF-8\n",
       "Language: en\n",
       "Country: null\n",
       "--></g></svg>"
      ]
     },
     "execution_count": 25,
     "metadata": {},
     "output_type": "execute_result"
    }
   ],
   "source": [
    "%viz --style=\"STDCOLOR\" --view=\"State\" \"P1\""
   ]
  },
  {
   "cell_type": "code",
   "execution_count": 26,
   "id": "bb2d22e1",
   "metadata": {
    "execution": {
     "iopub.execute_input": "2021-04-20T07:31:14.009300Z",
     "iopub.status.busy": "2021-04-20T07:31:14.008477Z",
     "iopub.status.idle": "2021-04-20T07:31:14.043488Z",
     "shell.execute_reply": "2021-04-20T07:31:14.043091Z"
    }
   },
   "outputs": [
    {
     "data": {
      "image/svg+xml": [
       "<?xml version=\"1.0\" encoding=\"UTF-8\" standalone=\"no\"?><svg xmlns=\"http://www.w3.org/2000/svg\" xmlns:xlink=\"http://www.w3.org/1999/xlink\" contentScriptType=\"application/ecmascript\" contentStyleType=\"text/css\" height=\"112px\" preserveAspectRatio=\"none\" style=\"width:142px;height:112px;\" version=\"1.1\" viewBox=\"0 0 142 112\" width=\"142px\" zoomAndPan=\"magnify\"><defs><filter height=\"300%\" id=\"fkgpskzw1mluc\" width=\"300%\" x=\"-1\" y=\"-1\"><feGaussianBlur result=\"blurOut\" stdDeviation=\"2.0\"/><feColorMatrix in=\"blurOut\" result=\"blurOut2\" type=\"matrix\" values=\"0 0 0 0 0 0 0 0 0 0 0 0 0 0 0 0 0 0 .4 0\"/><feOffset dx=\"4.0\" dy=\"4.0\" in=\"blurOut2\" result=\"blurOut3\"/><feBlend in=\"SourceGraphic\" in2=\"blurOut3\" mode=\"normal\"/></filter></defs><g><!--MD5=[fbc87193dbaf4d95561dea2c320d4a47]\n",
       "cluster E1--><a href=\"psysml:611624e7-c7ed-4f74-a421-b5a21d227404\" target=\"_top\" title=\"psysml:611624e7-c7ed-4f74-a421-b5a21d227404\" xlink:actuate=\"onRequest\" xlink:href=\"psysml:611624e7-c7ed-4f74-a421-b5a21d227404\" xlink:show=\"new\" xlink:title=\"psysml:611624e7-c7ed-4f74-a421-b5a21d227404\" xlink:type=\"simple\"><polygon fill=\"#FFFFFF\" filter=\"url(#fkgpskzw1mluc)\" points=\"16,6,42,6,49,28.2969,120,28.2969,120,100,16,100,16,6\" style=\"stroke: #000000; stroke-width: 1.5;\"/><line style=\"stroke: #000000; stroke-width: 1.5;\" x1=\"16\" x2=\"49\" y1=\"28.2969\" y2=\"28.2969\"/><text fill=\"#000000\" font-family=\"sans-serif\" font-size=\"14\" font-weight=\"bold\" lengthAdjust=\"spacingAndGlyphs\" textLength=\"20\" x=\"20\" y=\"20.9951\">P1</text></a><g id=\"E1.E2\"><a href=\"psysml:2313e16f-2d10-449a-8d9c-49e73c1dbd71\" target=\"_top\" title=\"psysml:2313e16f-2d10-449a-8d9c-49e73c1dbd71\" xlink:actuate=\"onRequest\" xlink:href=\"psysml:2313e16f-2d10-449a-8d9c-49e73c1dbd71\" xlink:show=\"new\" xlink:title=\"psysml:2313e16f-2d10-449a-8d9c-49e73c1dbd71\" xlink:type=\"simple\"><rect fill=\"#FEFECE\" filter=\"url(#fkgpskzw1mluc)\" height=\"42.9375\" id=\"E2\" style=\"stroke: #A80036; stroke-width: 1.5;\" width=\"71\" x=\"32.5\" y=\"41\"/><text fill=\"#000000\" font-family=\"sans-serif\" font-size=\"12\" font-style=\"italic\" lengthAdjust=\"spacingAndGlyphs\" textLength=\"64\" x=\"36\" y=\"57.1387\">«part def»</text><text fill=\"#000000\" font-family=\"sans-serif\" font-size=\"12\" lengthAdjust=\"spacingAndGlyphs\" textLength=\"8\" x=\"64\" y=\"71.1074\">A</text></a></g><!--MD5=[e8b832213b5218eb2c20504f2d7460ec]\n",
       "@startuml\r\n",
       "skinparam ranksep 10\r\n",
       "skinparam rectangle {\r\n",
       " backgroundColor<<block>> LightGreen\r\n",
       "}\r\n",
       "skinparam wrapWidth 300\r\n",
       "hide circle\r\n",
       "\r\n",
       "package \"P1\" as E1  [[psysml:611624e7-c7ed-4f74-a421-b5a21d227404 ]]  {\r\n",
       "rec def \"A\" as E2  <<(T,blue)part def>> [[psysml:2313e16f-2d10-449a-8d9c-49e73c1dbd71 ]] {\r\n",
       "}\r\n",
       "}\r\n",
       "@enduml\r\n",
       "\n",
       "PlantUML version 1.2020.13(Sat Jun 13 12:26:38 UTC 2020)\n",
       "(EPL source distribution)\n",
       "Java Runtime: OpenJDK Runtime Environment\n",
       "JVM: OpenJDK 64-Bit Server VM\n",
       "Default Encoding: UTF-8\n",
       "Language: en\n",
       "Country: null\n",
       "--></g></svg>"
      ]
     },
     "execution_count": 26,
     "metadata": {},
     "output_type": "execute_result"
    }
   ],
   "source": [
    "%viz --style=\"STDCOLOR\" --view=\"Interconnection\" \"P1\""
   ]
  },
  {
   "cell_type": "code",
   "execution_count": 27,
   "id": "b4e864fc",
   "metadata": {
    "execution": {
     "iopub.execute_input": "2021-04-20T07:31:14.095486Z",
     "iopub.status.busy": "2021-04-20T07:31:14.094708Z",
     "iopub.status.idle": "2021-04-20T07:31:14.125831Z",
     "shell.execute_reply": "2021-04-20T07:31:14.125398Z"
    }
   },
   "outputs": [
    {
     "data": {
      "image/svg+xml": [
       "<?xml version=\"1.0\" encoding=\"UTF-8\" standalone=\"no\"?><svg xmlns=\"http://www.w3.org/2000/svg\" xmlns:xlink=\"http://www.w3.org/1999/xlink\" contentScriptType=\"application/ecmascript\" contentStyleType=\"text/css\" height=\"12px\" preserveAspectRatio=\"none\" style=\"width:12px;height:12px;\" version=\"1.1\" viewBox=\"0 0 12 12\" width=\"12px\" zoomAndPan=\"magnify\"><defs/><g><!--MD5=[9863325348a96a77dacc89509d8ee65e]\n",
       "@startuml\r\n",
       "skinparam ranksep 8\r\n",
       "skinparam wrapWidth 300\r\n",
       "hide circle\r\n",
       "\r\n",
       "@enduml\r\n",
       "\n",
       "PlantUML version 1.2020.13(Sat Jun 13 12:26:38 UTC 2020)\n",
       "(EPL source distribution)\n",
       "Java Runtime: OpenJDK Runtime Environment\n",
       "JVM: OpenJDK 64-Bit Server VM\n",
       "Default Encoding: UTF-8\n",
       "Language: en\n",
       "Country: null\n",
       "--></g></svg>"
      ]
     },
     "execution_count": 27,
     "metadata": {},
     "output_type": "execute_result"
    }
   ],
   "source": [
    "%viz --style=\"STDCOLOR\" --view=\"Action\" \"P1\""
   ]
  },
  {
   "cell_type": "code",
   "execution_count": 28,
   "id": "ec5cd94e",
   "metadata": {
    "execution": {
     "iopub.execute_input": "2021-04-20T07:31:14.176477Z",
     "iopub.status.busy": "2021-04-20T07:31:14.175814Z",
     "iopub.status.idle": "2021-04-20T07:31:14.199534Z",
     "shell.execute_reply": "2021-04-20T07:31:14.199173Z"
    }
   },
   "outputs": [
    {
     "data": {
      "image/svg+xml": [
       "<?xml version=\"1.0\" encoding=\"UTF-8\" standalone=\"no\"?><svg xmlns=\"http://www.w3.org/2000/svg\" xmlns:xlink=\"http://www.w3.org/1999/xlink\" contentScriptType=\"application/ecmascript\" contentStyleType=\"text/css\" height=\"115px\" preserveAspectRatio=\"none\" style=\"width:136px;height:115px;\" version=\"1.1\" viewBox=\"0 0 136 115\" width=\"136px\" zoomAndPan=\"magnify\"><defs><filter height=\"300%\" id=\"f1h787134qyjea\" width=\"300%\" x=\"-1\" y=\"-1\"><feGaussianBlur result=\"blurOut\" stdDeviation=\"2.0\"/><feColorMatrix in=\"blurOut\" result=\"blurOut2\" type=\"matrix\" values=\"0 0 0 0 0 0 0 0 0 0 0 0 0 0 0 0 0 0 .4 0\"/><feOffset dx=\"4.0\" dy=\"4.0\" in=\"blurOut2\" result=\"blurOut3\"/><feBlend in=\"SourceGraphic\" in2=\"blurOut3\" mode=\"normal\"/></filter></defs><g><!--MD5=[fbc87193dbaf4d95561dea2c320d4a47]\n",
       "cluster E1--><a href=\"psysml:611624e7-c7ed-4f74-a421-b5a21d227404\" target=\"_top\" title=\"psysml:611624e7-c7ed-4f74-a421-b5a21d227404\" xlink:actuate=\"onRequest\" xlink:href=\"psysml:611624e7-c7ed-4f74-a421-b5a21d227404\" xlink:show=\"new\" xlink:title=\"psysml:611624e7-c7ed-4f74-a421-b5a21d227404\" xlink:type=\"simple\"><polygon fill=\"#FFFFFF\" filter=\"url(#f1h787134qyjea)\" points=\"16,6,42,6,49,28.2969,114,28.2969,114,103,16,103,16,6\" style=\"stroke: #000000; stroke-width: 1.5;\"/><line style=\"stroke: #000000; stroke-width: 1.5;\" x1=\"16\" x2=\"49\" y1=\"28.2969\" y2=\"28.2969\"/><text fill=\"#000000\" font-family=\"sans-serif\" font-size=\"14\" font-weight=\"bold\" lengthAdjust=\"spacingAndGlyphs\" textLength=\"20\" x=\"20\" y=\"20.9951\">P1</text></a><!--MD5=[b4997ac47864f28c2f74865a473b2911]\n",
       "class E2--><a href=\"psysml:2313e16f-2d10-449a-8d9c-49e73c1dbd71\" target=\"_top\" title=\"psysml:2313e16f-2d10-449a-8d9c-49e73c1dbd71\" xlink:actuate=\"onRequest\" xlink:href=\"psysml:2313e16f-2d10-449a-8d9c-49e73c1dbd71\" xlink:show=\"new\" xlink:title=\"psysml:2313e16f-2d10-449a-8d9c-49e73c1dbd71\" xlink:type=\"simple\"><rect fill=\"#FEFECE\" filter=\"url(#f1h787134qyjea)\" height=\"45.9375\" id=\"E2\" style=\"stroke: #A80036; stroke-width: 1.5;\" width=\"66\" x=\"32\" y=\"41\"/><text fill=\"#000000\" font-family=\"sans-serif\" font-size=\"12\" font-style=\"italic\" lengthAdjust=\"spacingAndGlyphs\" textLength=\"64\" x=\"33\" y=\"57.1387\">«part def»</text><text fill=\"#000000\" font-family=\"sans-serif\" font-size=\"12\" lengthAdjust=\"spacingAndGlyphs\" textLength=\"8\" x=\"61\" y=\"71.1074\">A</text><line style=\"stroke: #A80036; stroke-width: 1.5;\" x1=\"33\" x2=\"97\" y1=\"78.9375\" y2=\"78.9375\"/></a><!--MD5=[772f89b1463d7f3df30770a3768270aa]\n",
       "@startuml\r\n",
       "skinparam wrapWidth 300\r\n",
       "hide circle\r\n",
       "\r\n",
       "package \"P1\" as E1  [[psysml:611624e7-c7ed-4f74-a421-b5a21d227404 ]]  {\r\n",
       "comp def \"A\" as E2  <<(T,blue)part def>> [[psysml:2313e16f-2d10-449a-8d9c-49e73c1dbd71 ]] {\r\n",
       "}\r\n",
       "}\r\n",
       "@enduml\r\n",
       "\n",
       "PlantUML version 1.2020.13(Sat Jun 13 12:26:38 UTC 2020)\n",
       "(EPL source distribution)\n",
       "Java Runtime: OpenJDK Runtime Environment\n",
       "JVM: OpenJDK 64-Bit Server VM\n",
       "Default Encoding: UTF-8\n",
       "Language: en\n",
       "Country: null\n",
       "--></g></svg>"
      ]
     },
     "execution_count": 28,
     "metadata": {},
     "output_type": "execute_result"
    }
   ],
   "source": [
    "%viz --style=\"STDCOLOR\" --view=\"Sequence\" \"P1\""
   ]
  },
  {
   "cell_type": "code",
   "execution_count": 29,
   "id": "57590a6f",
   "metadata": {
    "execution": {
     "iopub.execute_input": "2021-04-20T07:31:14.249627Z",
     "iopub.status.busy": "2021-04-20T07:31:14.249220Z",
     "iopub.status.idle": "2021-04-20T07:31:14.278516Z",
     "shell.execute_reply": "2021-04-20T07:31:14.278104Z"
    }
   },
   "outputs": [
    {
     "data": {
      "image/svg+xml": [
       "<?xml version=\"1.0\" encoding=\"UTF-8\" standalone=\"no\"?><svg xmlns=\"http://www.w3.org/2000/svg\" xmlns:xlink=\"http://www.w3.org/1999/xlink\" contentScriptType=\"application/ecmascript\" contentStyleType=\"text/css\" height=\"115px\" preserveAspectRatio=\"none\" style=\"width:136px;height:115px;\" version=\"1.1\" viewBox=\"0 0 136 115\" width=\"136px\" zoomAndPan=\"magnify\"><defs><filter height=\"300%\" id=\"f1h787134qyjea\" width=\"300%\" x=\"-1\" y=\"-1\"><feGaussianBlur result=\"blurOut\" stdDeviation=\"2.0\"/><feColorMatrix in=\"blurOut\" result=\"blurOut2\" type=\"matrix\" values=\"0 0 0 0 0 0 0 0 0 0 0 0 0 0 0 0 0 0 .4 0\"/><feOffset dx=\"4.0\" dy=\"4.0\" in=\"blurOut2\" result=\"blurOut3\"/><feBlend in=\"SourceGraphic\" in2=\"blurOut3\" mode=\"normal\"/></filter></defs><g><!--MD5=[fbc87193dbaf4d95561dea2c320d4a47]\n",
       "cluster E1--><a href=\"psysml:611624e7-c7ed-4f74-a421-b5a21d227404\" target=\"_top\" title=\"psysml:611624e7-c7ed-4f74-a421-b5a21d227404\" xlink:actuate=\"onRequest\" xlink:href=\"psysml:611624e7-c7ed-4f74-a421-b5a21d227404\" xlink:show=\"new\" xlink:title=\"psysml:611624e7-c7ed-4f74-a421-b5a21d227404\" xlink:type=\"simple\"><polygon fill=\"#FFFFFF\" filter=\"url(#f1h787134qyjea)\" points=\"16,6,42,6,49,28.2969,114,28.2969,114,103,16,103,16,6\" style=\"stroke: #000000; stroke-width: 1.5;\"/><line style=\"stroke: #000000; stroke-width: 1.5;\" x1=\"16\" x2=\"49\" y1=\"28.2969\" y2=\"28.2969\"/><text fill=\"#000000\" font-family=\"sans-serif\" font-size=\"14\" font-weight=\"bold\" lengthAdjust=\"spacingAndGlyphs\" textLength=\"20\" x=\"20\" y=\"20.9951\">P1</text></a><!--MD5=[b4997ac47864f28c2f74865a473b2911]\n",
       "class E2--><a href=\"psysml:2313e16f-2d10-449a-8d9c-49e73c1dbd71\" target=\"_top\" title=\"psysml:2313e16f-2d10-449a-8d9c-49e73c1dbd71\" xlink:actuate=\"onRequest\" xlink:href=\"psysml:2313e16f-2d10-449a-8d9c-49e73c1dbd71\" xlink:show=\"new\" xlink:title=\"psysml:2313e16f-2d10-449a-8d9c-49e73c1dbd71\" xlink:type=\"simple\"><rect fill=\"#FEFECE\" filter=\"url(#f1h787134qyjea)\" height=\"45.9375\" id=\"E2\" style=\"stroke: #A80036; stroke-width: 1.5;\" width=\"66\" x=\"32\" y=\"41\"/><text fill=\"#000000\" font-family=\"sans-serif\" font-size=\"12\" font-style=\"italic\" lengthAdjust=\"spacingAndGlyphs\" textLength=\"64\" x=\"33\" y=\"57.1387\">«part def»</text><text fill=\"#000000\" font-family=\"sans-serif\" font-size=\"12\" lengthAdjust=\"spacingAndGlyphs\" textLength=\"8\" x=\"61\" y=\"71.1074\">A</text><line style=\"stroke: #A80036; stroke-width: 1.5;\" x1=\"33\" x2=\"97\" y1=\"78.9375\" y2=\"78.9375\"/></a><!--MD5=[772f89b1463d7f3df30770a3768270aa]\n",
       "@startuml\r\n",
       "skinparam wrapWidth 300\r\n",
       "hide circle\r\n",
       "\r\n",
       "package \"P1\" as E1  [[psysml:611624e7-c7ed-4f74-a421-b5a21d227404 ]]  {\r\n",
       "comp def \"A\" as E2  <<(T,blue)part def>> [[psysml:2313e16f-2d10-449a-8d9c-49e73c1dbd71 ]] {\r\n",
       "}\r\n",
       "}\r\n",
       "@enduml\r\n",
       "\n",
       "PlantUML version 1.2020.13(Sat Jun 13 12:26:38 UTC 2020)\n",
       "(EPL source distribution)\n",
       "Java Runtime: OpenJDK Runtime Environment\n",
       "JVM: OpenJDK 64-Bit Server VM\n",
       "Default Encoding: UTF-8\n",
       "Language: en\n",
       "Country: null\n",
       "--></g></svg>"
      ]
     },
     "execution_count": 29,
     "metadata": {},
     "output_type": "execute_result"
    }
   ],
   "source": [
    "%viz --style=\"STDCOLOR\" --view=\"MIXED\" \"P1\""
   ]
  },
  {
   "cell_type": "code",
   "execution_count": 30,
   "id": "13a99b88",
   "metadata": {
    "execution": {
     "iopub.execute_input": "2021-04-20T07:31:14.335530Z",
     "iopub.status.busy": "2021-04-20T07:31:14.335057Z",
     "iopub.status.idle": "2021-04-20T07:31:14.373123Z",
     "shell.execute_reply": "2021-04-20T07:31:14.372550Z"
    }
   },
   "outputs": [
    {
     "data": {
      "image/svg+xml": [
       "<?xml version=\"1.0\" encoding=\"UTF-8\" standalone=\"no\"?><svg xmlns=\"http://www.w3.org/2000/svg\" xmlns:xlink=\"http://www.w3.org/1999/xlink\" contentScriptType=\"application/ecmascript\" contentStyleType=\"text/css\" height=\"109px\" preserveAspectRatio=\"none\" style=\"width:110px;height:109px;\" version=\"1.1\" viewBox=\"0 0 110 109\" width=\"110px\" zoomAndPan=\"magnify\"><defs><filter height=\"300%\" id=\"fajzn02lply6\" width=\"300%\" x=\"-1\" y=\"-1\"><feGaussianBlur result=\"blurOut\" stdDeviation=\"2.0\"/><feColorMatrix in=\"blurOut\" result=\"blurOut2\" type=\"matrix\" values=\"0 0 0 0 0 0 0 0 0 0 0 0 0 0 0 0 0 0 .4 0\"/><feOffset dx=\"4.0\" dy=\"4.0\" in=\"blurOut2\" result=\"blurOut3\"/><feBlend in=\"SourceGraphic\" in2=\"blurOut3\" mode=\"normal\"/></filter></defs><g><!--MD5=[fbc87193dbaf4d95561dea2c320d4a47]\n",
       "cluster E1--><a href=\"psysml:611624e7-c7ed-4f74-a421-b5a21d227404\" target=\"_top\" title=\"psysml:611624e7-c7ed-4f74-a421-b5a21d227404\" xlink:actuate=\"onRequest\" xlink:href=\"psysml:611624e7-c7ed-4f74-a421-b5a21d227404\" xlink:show=\"new\" xlink:title=\"psysml:611624e7-c7ed-4f74-a421-b5a21d227404\" xlink:type=\"simple\"><polygon fill=\"#FFFFFF\" filter=\"url(#fajzn02lply6)\" points=\"16,6,42,6,49,28.2969,88,28.2969,88,97,16,97,16,6\" style=\"stroke: #000000; stroke-width: 1.5;\"/><line style=\"stroke: #000000; stroke-width: 1.5;\" x1=\"16\" x2=\"49\" y1=\"28.2969\" y2=\"28.2969\"/><text fill=\"#000000\" font-family=\"sans-serif\" font-size=\"14\" font-weight=\"bold\" lengthAdjust=\"spacingAndGlyphs\" textLength=\"20\" x=\"20\" y=\"20.9951\">P1</text></a><!--MD5=[b4997ac47864f28c2f74865a473b2911]\n",
       "class E2--><a href=\"psysml:2313e16f-2d10-449a-8d9c-49e73c1dbd71\" target=\"_top\" title=\"psysml:2313e16f-2d10-449a-8d9c-49e73c1dbd71\" xlink:actuate=\"onRequest\" xlink:href=\"psysml:2313e16f-2d10-449a-8d9c-49e73c1dbd71\" xlink:show=\"new\" xlink:title=\"psysml:2313e16f-2d10-449a-8d9c-49e73c1dbd71\" xlink:type=\"simple\"><rect fill=\"#FEFECE\" filter=\"url(#fajzn02lply6)\" height=\"40\" id=\"E2\" style=\"stroke: #A80036; stroke-width: 1.5;\" width=\"40\" x=\"32\" y=\"41\"/><ellipse cx=\"47\" cy=\"57\" fill=\"#008000\" rx=\"11\" ry=\"11\" style=\"stroke: #A80036; stroke-width: 1.0;\"/><path d=\"M45.9063,57.375 L45.9063,61.0469 L47.5313,61.0469 Q48.7031,61.0469 49.1719,60.6563 Q49.6406,60.25 49.6406,59.25 Q49.6406,58.25 49.1406,57.8125 Q48.6563,57.375 47.5313,57.375 L45.9063,57.375 Z M45.9063,52.5469 L45.9063,55.4219 L47.5313,55.4219 Q48.4531,55.4219 48.8438,55.0938 Q49.25,54.75 49.25,54 Q49.25,53.2344 48.8438,52.8906 Q48.4375,52.5469 47.5313,52.5469 L45.9063,52.5469 Z M43.5313,50.5938 L47.5313,50.5938 Q49.5938,50.5938 50.6406,51.375 Q51.6875,52.1563 51.6875,53.7188 Q51.6875,54.9219 51.0625,55.5938 Q50.4531,56.2656 49.2656,56.375 Q50.6875,56.5156 51.4063,57.3281 Q52.125,58.1406 52.125,59.5938 Q52.125,61.3906 51.0469,62.2031 Q49.9688,63 47.5313,63 L43.5313,63 L43.5313,50.5938 Z \"/><text fill=\"#000000\" font-family=\"sans-serif\" font-size=\"12\" lengthAdjust=\"spacingAndGlyphs\" textLength=\"8\" x=\"61\" y=\"61.1543\">A</text><line style=\"stroke: #A80036; stroke-width: 1.5;\" x1=\"33\" x2=\"71\" y1=\"73\" y2=\"73\"/></a><!--MD5=[c28e53843734c718aec71e6fa89a029a]\n",
       "@startuml\r\n",
       " \r\n",
       "package \"P1\" as E1  [[psysml:611624e7-c7ed-4f74-a421-b5a21d227404 ]]  {\r\n",
       "comp def \"A\" as E2  << (B,green) >> [[psysml:2313e16f-2d10-449a-8d9c-49e73c1dbd71 ]] {\r\n",
       "}\r\n",
       "}\r\n",
       "@enduml\r\n",
       "\n",
       "PlantUML version 1.2020.13(Sat Jun 13 12:26:38 UTC 2020)\n",
       "(EPL source distribution)\n",
       "Java Runtime: OpenJDK Runtime Environment\n",
       "JVM: OpenJDK 64-Bit Server VM\n",
       "Default Encoding: UTF-8\n",
       "Language: en\n",
       "Country: null\n",
       "--></g></svg>"
      ]
     },
     "execution_count": 30,
     "metadata": {},
     "output_type": "execute_result"
    }
   ],
   "source": [
    "%viz --style=\"PLANTUML\" --view=\"Default\" \"P1\""
   ]
  },
  {
   "cell_type": "code",
   "execution_count": 31,
   "id": "eb436a70",
   "metadata": {
    "execution": {
     "iopub.execute_input": "2021-04-20T07:31:14.423837Z",
     "iopub.status.busy": "2021-04-20T07:31:14.423252Z",
     "iopub.status.idle": "2021-04-20T07:31:14.426096Z",
     "shell.execute_reply": "2021-04-20T07:31:14.426380Z"
    }
   },
   "outputs": [
    {
     "data": {
      "image/svg+xml": [
       "<?xml version=\"1.0\" encoding=\"UTF-8\" standalone=\"no\"?><svg xmlns=\"http://www.w3.org/2000/svg\" xmlns:xlink=\"http://www.w3.org/1999/xlink\" contentScriptType=\"application/ecmascript\" contentStyleType=\"text/css\" height=\"109px\" preserveAspectRatio=\"none\" style=\"width:110px;height:109px;\" version=\"1.1\" viewBox=\"0 0 110 109\" width=\"110px\" zoomAndPan=\"magnify\"><defs><filter height=\"300%\" id=\"fajzn02lply6\" width=\"300%\" x=\"-1\" y=\"-1\"><feGaussianBlur result=\"blurOut\" stdDeviation=\"2.0\"/><feColorMatrix in=\"blurOut\" result=\"blurOut2\" type=\"matrix\" values=\"0 0 0 0 0 0 0 0 0 0 0 0 0 0 0 0 0 0 .4 0\"/><feOffset dx=\"4.0\" dy=\"4.0\" in=\"blurOut2\" result=\"blurOut3\"/><feBlend in=\"SourceGraphic\" in2=\"blurOut3\" mode=\"normal\"/></filter></defs><g><!--MD5=[fbc87193dbaf4d95561dea2c320d4a47]\n",
       "cluster E1--><a href=\"psysml:611624e7-c7ed-4f74-a421-b5a21d227404\" target=\"_top\" title=\"psysml:611624e7-c7ed-4f74-a421-b5a21d227404\" xlink:actuate=\"onRequest\" xlink:href=\"psysml:611624e7-c7ed-4f74-a421-b5a21d227404\" xlink:show=\"new\" xlink:title=\"psysml:611624e7-c7ed-4f74-a421-b5a21d227404\" xlink:type=\"simple\"><polygon fill=\"#FFFFFF\" filter=\"url(#fajzn02lply6)\" points=\"16,6,42,6,49,28.2969,88,28.2969,88,97,16,97,16,6\" style=\"stroke: #000000; stroke-width: 1.5;\"/><line style=\"stroke: #000000; stroke-width: 1.5;\" x1=\"16\" x2=\"49\" y1=\"28.2969\" y2=\"28.2969\"/><text fill=\"#000000\" font-family=\"sans-serif\" font-size=\"14\" font-weight=\"bold\" lengthAdjust=\"spacingAndGlyphs\" textLength=\"20\" x=\"20\" y=\"20.9951\">P1</text></a><!--MD5=[b4997ac47864f28c2f74865a473b2911]\n",
       "class E2--><a href=\"psysml:2313e16f-2d10-449a-8d9c-49e73c1dbd71\" target=\"_top\" title=\"psysml:2313e16f-2d10-449a-8d9c-49e73c1dbd71\" xlink:actuate=\"onRequest\" xlink:href=\"psysml:2313e16f-2d10-449a-8d9c-49e73c1dbd71\" xlink:show=\"new\" xlink:title=\"psysml:2313e16f-2d10-449a-8d9c-49e73c1dbd71\" xlink:type=\"simple\"><rect fill=\"#FEFECE\" filter=\"url(#fajzn02lply6)\" height=\"40\" id=\"E2\" style=\"stroke: #A80036; stroke-width: 1.5;\" width=\"40\" x=\"32\" y=\"41\"/><ellipse cx=\"47\" cy=\"57\" fill=\"#008000\" rx=\"11\" ry=\"11\" style=\"stroke: #A80036; stroke-width: 1.0;\"/><path d=\"M45.9063,57.375 L45.9063,61.0469 L47.5313,61.0469 Q48.7031,61.0469 49.1719,60.6563 Q49.6406,60.25 49.6406,59.25 Q49.6406,58.25 49.1406,57.8125 Q48.6563,57.375 47.5313,57.375 L45.9063,57.375 Z M45.9063,52.5469 L45.9063,55.4219 L47.5313,55.4219 Q48.4531,55.4219 48.8438,55.0938 Q49.25,54.75 49.25,54 Q49.25,53.2344 48.8438,52.8906 Q48.4375,52.5469 47.5313,52.5469 L45.9063,52.5469 Z M43.5313,50.5938 L47.5313,50.5938 Q49.5938,50.5938 50.6406,51.375 Q51.6875,52.1563 51.6875,53.7188 Q51.6875,54.9219 51.0625,55.5938 Q50.4531,56.2656 49.2656,56.375 Q50.6875,56.5156 51.4063,57.3281 Q52.125,58.1406 52.125,59.5938 Q52.125,61.3906 51.0469,62.2031 Q49.9688,63 47.5313,63 L43.5313,63 L43.5313,50.5938 Z \"/><text fill=\"#000000\" font-family=\"sans-serif\" font-size=\"12\" lengthAdjust=\"spacingAndGlyphs\" textLength=\"8\" x=\"61\" y=\"61.1543\">A</text><line style=\"stroke: #A80036; stroke-width: 1.5;\" x1=\"33\" x2=\"71\" y1=\"73\" y2=\"73\"/></a><!--MD5=[c28e53843734c718aec71e6fa89a029a]\n",
       "@startuml\r\n",
       " \r\n",
       "package \"P1\" as E1  [[psysml:611624e7-c7ed-4f74-a421-b5a21d227404 ]]  {\r\n",
       "comp def \"A\" as E2  << (B,green) >> [[psysml:2313e16f-2d10-449a-8d9c-49e73c1dbd71 ]] {\r\n",
       "}\r\n",
       "}\r\n",
       "@enduml\r\n",
       "\n",
       "PlantUML version 1.2020.13(Sat Jun 13 12:26:38 UTC 2020)\n",
       "(EPL source distribution)\n",
       "Java Runtime: OpenJDK Runtime Environment\n",
       "JVM: OpenJDK 64-Bit Server VM\n",
       "Default Encoding: UTF-8\n",
       "Language: en\n",
       "Country: null\n",
       "--></g></svg>"
      ]
     },
     "execution_count": 31,
     "metadata": {},
     "output_type": "execute_result"
    }
   ],
   "source": [
    "%viz --style=\"PLANTUML\" --view=\"Tree\" \"P1\""
   ]
  },
  {
   "cell_type": "code",
   "execution_count": 32,
   "id": "83a3c166",
   "metadata": {
    "execution": {
     "iopub.execute_input": "2021-04-20T07:31:14.477703Z",
     "iopub.status.busy": "2021-04-20T07:31:14.477194Z",
     "iopub.status.idle": "2021-04-20T07:31:14.572503Z",
     "shell.execute_reply": "2021-04-20T07:31:14.572179Z"
    }
   },
   "outputs": [
    {
     "data": {
      "image/svg+xml": [
       "<?xml version=\"1.0\" encoding=\"UTF-8\" standalone=\"no\"?><svg xmlns=\"http://www.w3.org/2000/svg\" xmlns:xlink=\"http://www.w3.org/1999/xlink\" contentScriptType=\"application/ecmascript\" contentStyleType=\"text/css\" height=\"303px\" preserveAspectRatio=\"none\" style=\"width:603px;height:303px;background:#000000;\" version=\"1.1\" viewBox=\"0 0 603 303\" width=\"603px\" zoomAndPan=\"magnify\"><defs/><g><rect fill=\"#241E21\" height=\"1\" style=\"stroke: #241E21; stroke-width: 1.0;\" width=\"1\" x=\"0\" y=\"0\"/><rect fill=\"#FFFFFF\" height=\"205.5625\" style=\"stroke: #FFFFFF; stroke-width: 1.0;\" width=\"602\" x=\"0\" y=\"0\"/><text fill=\"#000000\" font-family=\"sans-serif\" font-size=\"12\" font-weight=\"bold\" lengthAdjust=\"spacingAndGlyphs\" textLength=\"159\" x=\"5\" y=\"16.1387\">Welcome to PlantUML!</text><text fill=\"#000000\" font-family=\"sans-serif\" font-size=\"12\" lengthAdjust=\"spacingAndGlyphs\" textLength=\"0\" x=\"9\" y=\"30.1074\"/><text fill=\"#000000\" font-family=\"sans-serif\" font-size=\"12\" lengthAdjust=\"spacingAndGlyphs\" textLength=\"293\" x=\"5\" y=\"44.0762\">If you use this software, you accept its license.</text><text fill=\"#000000\" font-family=\"sans-serif\" font-size=\"12\" lengthAdjust=\"spacingAndGlyphs\" textLength=\"107\" x=\"5\" y=\"58.0449\">(details by typing</text><text fill=\"#000000\" font-family=\"monospace\" font-size=\"12\" lengthAdjust=\"spacingAndGlyphs\" textLength=\"49\" x=\"116\" y=\"58.0449\">license</text><text fill=\"#000000\" font-family=\"sans-serif\" font-size=\"12\" lengthAdjust=\"spacingAndGlyphs\" textLength=\"56\" x=\"169\" y=\"58.0449\">keyword)</text><text fill=\"#000000\" font-family=\"sans-serif\" font-size=\"12\" lengthAdjust=\"spacingAndGlyphs\" textLength=\"0\" x=\"9\" y=\"72.0137\"/><text fill=\"#000000\" font-family=\"sans-serif\" font-size=\"12\" lengthAdjust=\"spacingAndGlyphs\" textLength=\"283\" x=\"5\" y=\"85.9824\">You can start with a simple UML Diagram like:</text><text fill=\"#000000\" font-family=\"sans-serif\" font-size=\"12\" lengthAdjust=\"spacingAndGlyphs\" textLength=\"0\" x=\"9\" y=\"99.9512\"/><text fill=\"#000000\" font-family=\"monospace\" font-size=\"12\" lengthAdjust=\"spacingAndGlyphs\" textLength=\"119\" x=\"5\" y=\"113.9199\">Bob-&gt;Alice: Hello</text><text fill=\"#000000\" font-family=\"sans-serif\" font-size=\"12\" lengthAdjust=\"spacingAndGlyphs\" textLength=\"0\" x=\"9\" y=\"127.8887\"/><text fill=\"#000000\" font-family=\"sans-serif\" font-size=\"12\" lengthAdjust=\"spacingAndGlyphs\" textLength=\"14\" x=\"5\" y=\"141.8574\">Or</text><text fill=\"#000000\" font-family=\"sans-serif\" font-size=\"12\" lengthAdjust=\"spacingAndGlyphs\" textLength=\"0\" x=\"9\" y=\"155.8262\"/><text fill=\"#000000\" font-family=\"monospace\" font-size=\"12\" lengthAdjust=\"spacingAndGlyphs\" textLength=\"91\" x=\"5\" y=\"169.7949\">class Example</text><text fill=\"#000000\" font-family=\"sans-serif\" font-size=\"12\" lengthAdjust=\"spacingAndGlyphs\" textLength=\"0\" x=\"9\" y=\"183.7637\"/><text fill=\"#000000\" font-family=\"sans-serif\" font-size=\"12\" lengthAdjust=\"spacingAndGlyphs\" textLength=\"349\" x=\"5\" y=\"197.7324\">You will find more information about PlantUML syntax on</text><text fill=\"#000000\" font-family=\"sans-serif\" font-size=\"12\" lengthAdjust=\"spacingAndGlyphs\" text-decoration=\"underline\" textLength=\"129\" x=\"358\" y=\"197.7324\">https://plantuml.com</text><image height=\"71\" width=\"80\" x=\"516\" xlink:href=\"data:image/png;base64,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\" y=\"6\"/><rect fill=\"#000000\" height=\"96.4844\" style=\"stroke: #000000; stroke-width: 1.0;\" width=\"602\" x=\"0\" y=\"205.5625\"/><rect fill=\"#33FF02\" height=\"21.2969\" style=\"stroke: #33FF02; stroke-width: 1.0;\" width=\"170\" x=\"5\" y=\"210.5625\"/><text fill=\"#000000\" font-family=\"sans-serif\" font-size=\"14\" font-weight=\"bold\" lengthAdjust=\"spacingAndGlyphs\" textLength=\"168\" x=\"6\" y=\"225.5625\">[From string (line 2) ]</text><text fill=\"#33FF02\" font-family=\"sans-serif\" font-size=\"14\" font-weight=\"bold\" lengthAdjust=\"spacingAndGlyphs\" textLength=\"0\" x=\"10\" y=\"245.8594\"/><text fill=\"#33FF02\" font-family=\"sans-serif\" font-size=\"14\" font-weight=\"bold\" lengthAdjust=\"spacingAndGlyphs\" textLength=\"79\" x=\"5\" y=\"262.1563\">@startuml</text><text fill=\"#33FF02\" font-family=\"sans-serif\" font-size=\"14\" font-weight=\"bold\" lengthAdjust=\"spacingAndGlyphs\" textLength=\"0\" x=\"10\" y=\"278.4531\"/><text fill=\"#FF0000\" font-family=\"sans-serif\" font-size=\"14\" font-weight=\"bold\" lengthAdjust=\"spacingAndGlyphs\" textLength=\"142\" x=\"10\" y=\"294.75\">Empty description</text><!--MD5=[f59edd8218d337f74d0c332fc6737304]\n",
       "@startuml\r\n",
       " \r\n",
       "@enduml\r\n",
       "\n",
       "PlantUML version 1.2020.13(Sat Jun 13 12:26:38 UTC 2020)\n",
       "(EPL source distribution)\n",
       "Java Runtime: OpenJDK Runtime Environment\n",
       "JVM: OpenJDK 64-Bit Server VM\n",
       "Default Encoding: UTF-8\n",
       "Language: en\n",
       "Country: null\n",
       "--></g></svg>"
      ]
     },
     "execution_count": 32,
     "metadata": {},
     "output_type": "execute_result"
    }
   ],
   "source": [
    "%viz --style=\"PLANTUML\" --view=\"State\" \"P1\""
   ]
  },
  {
   "cell_type": "code",
   "execution_count": 33,
   "id": "0e0c83f1",
   "metadata": {
    "execution": {
     "iopub.execute_input": "2021-04-20T07:31:14.623111Z",
     "iopub.status.busy": "2021-04-20T07:31:14.622615Z",
     "iopub.status.idle": "2021-04-20T07:31:14.644898Z",
     "shell.execute_reply": "2021-04-20T07:31:14.644563Z"
    }
   },
   "outputs": [
    {
     "data": {
      "image/svg+xml": [
       "<?xml version=\"1.0\" encoding=\"UTF-8\" standalone=\"no\"?><svg xmlns=\"http://www.w3.org/2000/svg\" xmlns:xlink=\"http://www.w3.org/1999/xlink\" contentScriptType=\"application/ecmascript\" contentStyleType=\"text/css\" height=\"109px\" preserveAspectRatio=\"none\" style=\"width:120px;height:109px;\" version=\"1.1\" viewBox=\"0 0 120 109\" width=\"120px\" zoomAndPan=\"magnify\"><defs><filter height=\"300%\" id=\"f1ix7wnlna4c6w\" width=\"300%\" x=\"-1\" y=\"-1\"><feGaussianBlur result=\"blurOut\" stdDeviation=\"2.0\"/><feColorMatrix in=\"blurOut\" result=\"blurOut2\" type=\"matrix\" values=\"0 0 0 0 0 0 0 0 0 0 0 0 0 0 0 0 0 0 .4 0\"/><feOffset dx=\"4.0\" dy=\"4.0\" in=\"blurOut2\" result=\"blurOut3\"/><feBlend in=\"SourceGraphic\" in2=\"blurOut3\" mode=\"normal\"/></filter></defs><g><!--MD5=[fbc87193dbaf4d95561dea2c320d4a47]\n",
       "cluster E1--><a href=\"psysml:611624e7-c7ed-4f74-a421-b5a21d227404\" target=\"_top\" title=\"psysml:611624e7-c7ed-4f74-a421-b5a21d227404\" xlink:actuate=\"onRequest\" xlink:href=\"psysml:611624e7-c7ed-4f74-a421-b5a21d227404\" xlink:show=\"new\" xlink:title=\"psysml:611624e7-c7ed-4f74-a421-b5a21d227404\" xlink:type=\"simple\"><polygon fill=\"#FFFFFF\" filter=\"url(#f1ix7wnlna4c6w)\" points=\"16,6,42,6,49,28.2969,98,28.2969,98,97,16,97,16,6\" style=\"stroke: #000000; stroke-width: 1.5;\"/><line style=\"stroke: #000000; stroke-width: 1.5;\" x1=\"16\" x2=\"49\" y1=\"28.2969\" y2=\"28.2969\"/><text fill=\"#000000\" font-family=\"sans-serif\" font-size=\"14\" font-weight=\"bold\" lengthAdjust=\"spacingAndGlyphs\" textLength=\"20\" x=\"20\" y=\"20.9951\">P1</text></a><g id=\"E1.E2\"><a href=\"psysml:2313e16f-2d10-449a-8d9c-49e73c1dbd71\" target=\"_top\" title=\"psysml:2313e16f-2d10-449a-8d9c-49e73c1dbd71\" xlink:actuate=\"onRequest\" xlink:href=\"psysml:2313e16f-2d10-449a-8d9c-49e73c1dbd71\" xlink:show=\"new\" xlink:title=\"psysml:2313e16f-2d10-449a-8d9c-49e73c1dbd71\" xlink:type=\"simple\"><rect fill=\"#FEFECE\" filter=\"url(#f1ix7wnlna4c6w)\" height=\"40\" id=\"E2\" style=\"stroke: #A80036; stroke-width: 1.5;\" width=\"50\" x=\"32\" y=\"41\"/><ellipse cx=\"51.5\" cy=\"57\" fill=\"#008000\" rx=\"11\" ry=\"11\" style=\"stroke: #A80036; stroke-width: 1.0;\"/><path d=\"M50.4063,57.375 L50.4063,61.0469 L52.0313,61.0469 Q53.2031,61.0469 53.6719,60.6563 Q54.1406,60.25 54.1406,59.25 Q54.1406,58.25 53.6406,57.8125 Q53.1563,57.375 52.0313,57.375 L50.4063,57.375 Z M50.4063,52.5469 L50.4063,55.4219 L52.0313,55.4219 Q52.9531,55.4219 53.3438,55.0938 Q53.75,54.75 53.75,54 Q53.75,53.2344 53.3438,52.8906 Q52.9375,52.5469 52.0313,52.5469 L50.4063,52.5469 Z M48.0313,50.5938 L52.0313,50.5938 Q54.0938,50.5938 55.1406,51.375 Q56.1875,52.1563 56.1875,53.7188 Q56.1875,54.9219 55.5625,55.5938 Q54.9531,56.2656 53.7656,56.375 Q55.1875,56.5156 55.9063,57.3281 Q56.625,58.1406 56.625,59.5938 Q56.625,61.3906 55.5469,62.2031 Q54.4688,63 52.0313,63 L48.0313,63 L48.0313,50.5938 Z \"/><text fill=\"#000000\" font-family=\"sans-serif\" font-size=\"12\" lengthAdjust=\"spacingAndGlyphs\" textLength=\"8\" x=\"66.5\" y=\"61.1543\">A</text></a></g><!--MD5=[aff0621e19415610a5ced03eabfbff25]\n",
       "@startuml\r\n",
       "skinparam ranksep 10\r\n",
       "skinparam rectangle {\r\n",
       " backgroundColor<<block>> LightGreen\r\n",
       "}\r\n",
       " \r\n",
       "package \"P1\" as E1  [[psysml:611624e7-c7ed-4f74-a421-b5a21d227404 ]]  {\r\n",
       "rec def \"A\" as E2  << (B,green) >> [[psysml:2313e16f-2d10-449a-8d9c-49e73c1dbd71 ]] {\r\n",
       "}\r\n",
       "}\r\n",
       "@enduml\r\n",
       "\n",
       "PlantUML version 1.2020.13(Sat Jun 13 12:26:38 UTC 2020)\n",
       "(EPL source distribution)\n",
       "Java Runtime: OpenJDK Runtime Environment\n",
       "JVM: OpenJDK 64-Bit Server VM\n",
       "Default Encoding: UTF-8\n",
       "Language: en\n",
       "Country: null\n",
       "--></g></svg>"
      ]
     },
     "execution_count": 33,
     "metadata": {},
     "output_type": "execute_result"
    }
   ],
   "source": [
    "%viz --style=\"PLANTUML\" --view=\"Interconnection\" \"P1\""
   ]
  },
  {
   "cell_type": "code",
   "execution_count": 34,
   "id": "8b51dca2",
   "metadata": {
    "execution": {
     "iopub.execute_input": "2021-04-20T07:31:14.695242Z",
     "iopub.status.busy": "2021-04-20T07:31:14.694677Z",
     "iopub.status.idle": "2021-04-20T07:31:14.699926Z",
     "shell.execute_reply": "2021-04-20T07:31:14.699629Z"
    }
   },
   "outputs": [
    {
     "data": {
      "image/svg+xml": [
       "<?xml version=\"1.0\" encoding=\"UTF-8\" standalone=\"no\"?><svg xmlns=\"http://www.w3.org/2000/svg\" xmlns:xlink=\"http://www.w3.org/1999/xlink\" contentScriptType=\"application/ecmascript\" contentStyleType=\"text/css\" height=\"12px\" preserveAspectRatio=\"none\" style=\"width:12px;height:12px;\" version=\"1.1\" viewBox=\"0 0 12 12\" width=\"12px\" zoomAndPan=\"magnify\"><defs/><g><!--MD5=[6a4cb978cab31700e1ce5529f947a75d]\n",
       "@startuml\r\n",
       "skinparam ranksep 8\r\n",
       " \r\n",
       "@enduml\r\n",
       "\n",
       "PlantUML version 1.2020.13(Sat Jun 13 12:26:38 UTC 2020)\n",
       "(EPL source distribution)\n",
       "Java Runtime: OpenJDK Runtime Environment\n",
       "JVM: OpenJDK 64-Bit Server VM\n",
       "Default Encoding: UTF-8\n",
       "Language: en\n",
       "Country: null\n",
       "--></g></svg>"
      ]
     },
     "execution_count": 34,
     "metadata": {},
     "output_type": "execute_result"
    }
   ],
   "source": [
    "%viz --style=\"PLANTUML\" --view=\"Action\" \"P1\""
   ]
  },
  {
   "cell_type": "code",
   "execution_count": 35,
   "id": "1496adba",
   "metadata": {
    "execution": {
     "iopub.execute_input": "2021-04-20T07:31:14.752323Z",
     "iopub.status.busy": "2021-04-20T07:31:14.751470Z",
     "iopub.status.idle": "2021-04-20T07:31:14.774687Z",
     "shell.execute_reply": "2021-04-20T07:31:14.774348Z"
    }
   },
   "outputs": [
    {
     "data": {
      "image/svg+xml": [
       "<?xml version=\"1.0\" encoding=\"UTF-8\" standalone=\"no\"?><svg xmlns=\"http://www.w3.org/2000/svg\" xmlns:xlink=\"http://www.w3.org/1999/xlink\" contentScriptType=\"application/ecmascript\" contentStyleType=\"text/css\" height=\"109px\" preserveAspectRatio=\"none\" style=\"width:110px;height:109px;\" version=\"1.1\" viewBox=\"0 0 110 109\" width=\"110px\" zoomAndPan=\"magnify\"><defs><filter height=\"300%\" id=\"fajzn02lply6\" width=\"300%\" x=\"-1\" y=\"-1\"><feGaussianBlur result=\"blurOut\" stdDeviation=\"2.0\"/><feColorMatrix in=\"blurOut\" result=\"blurOut2\" type=\"matrix\" values=\"0 0 0 0 0 0 0 0 0 0 0 0 0 0 0 0 0 0 .4 0\"/><feOffset dx=\"4.0\" dy=\"4.0\" in=\"blurOut2\" result=\"blurOut3\"/><feBlend in=\"SourceGraphic\" in2=\"blurOut3\" mode=\"normal\"/></filter></defs><g><!--MD5=[fbc87193dbaf4d95561dea2c320d4a47]\n",
       "cluster E1--><a href=\"psysml:611624e7-c7ed-4f74-a421-b5a21d227404\" target=\"_top\" title=\"psysml:611624e7-c7ed-4f74-a421-b5a21d227404\" xlink:actuate=\"onRequest\" xlink:href=\"psysml:611624e7-c7ed-4f74-a421-b5a21d227404\" xlink:show=\"new\" xlink:title=\"psysml:611624e7-c7ed-4f74-a421-b5a21d227404\" xlink:type=\"simple\"><polygon fill=\"#FFFFFF\" filter=\"url(#fajzn02lply6)\" points=\"16,6,42,6,49,28.2969,88,28.2969,88,97,16,97,16,6\" style=\"stroke: #000000; stroke-width: 1.5;\"/><line style=\"stroke: #000000; stroke-width: 1.5;\" x1=\"16\" x2=\"49\" y1=\"28.2969\" y2=\"28.2969\"/><text fill=\"#000000\" font-family=\"sans-serif\" font-size=\"14\" font-weight=\"bold\" lengthAdjust=\"spacingAndGlyphs\" textLength=\"20\" x=\"20\" y=\"20.9951\">P1</text></a><!--MD5=[b4997ac47864f28c2f74865a473b2911]\n",
       "class E2--><a href=\"psysml:2313e16f-2d10-449a-8d9c-49e73c1dbd71\" target=\"_top\" title=\"psysml:2313e16f-2d10-449a-8d9c-49e73c1dbd71\" xlink:actuate=\"onRequest\" xlink:href=\"psysml:2313e16f-2d10-449a-8d9c-49e73c1dbd71\" xlink:show=\"new\" xlink:title=\"psysml:2313e16f-2d10-449a-8d9c-49e73c1dbd71\" xlink:type=\"simple\"><rect fill=\"#FEFECE\" filter=\"url(#fajzn02lply6)\" height=\"40\" id=\"E2\" style=\"stroke: #A80036; stroke-width: 1.5;\" width=\"40\" x=\"32\" y=\"41\"/><ellipse cx=\"47\" cy=\"57\" fill=\"#008000\" rx=\"11\" ry=\"11\" style=\"stroke: #A80036; stroke-width: 1.0;\"/><path d=\"M45.9063,57.375 L45.9063,61.0469 L47.5313,61.0469 Q48.7031,61.0469 49.1719,60.6563 Q49.6406,60.25 49.6406,59.25 Q49.6406,58.25 49.1406,57.8125 Q48.6563,57.375 47.5313,57.375 L45.9063,57.375 Z M45.9063,52.5469 L45.9063,55.4219 L47.5313,55.4219 Q48.4531,55.4219 48.8438,55.0938 Q49.25,54.75 49.25,54 Q49.25,53.2344 48.8438,52.8906 Q48.4375,52.5469 47.5313,52.5469 L45.9063,52.5469 Z M43.5313,50.5938 L47.5313,50.5938 Q49.5938,50.5938 50.6406,51.375 Q51.6875,52.1563 51.6875,53.7188 Q51.6875,54.9219 51.0625,55.5938 Q50.4531,56.2656 49.2656,56.375 Q50.6875,56.5156 51.4063,57.3281 Q52.125,58.1406 52.125,59.5938 Q52.125,61.3906 51.0469,62.2031 Q49.9688,63 47.5313,63 L43.5313,63 L43.5313,50.5938 Z \"/><text fill=\"#000000\" font-family=\"sans-serif\" font-size=\"12\" lengthAdjust=\"spacingAndGlyphs\" textLength=\"8\" x=\"61\" y=\"61.1543\">A</text><line style=\"stroke: #A80036; stroke-width: 1.5;\" x1=\"33\" x2=\"71\" y1=\"73\" y2=\"73\"/></a><!--MD5=[c28e53843734c718aec71e6fa89a029a]\n",
       "@startuml\r\n",
       " \r\n",
       "package \"P1\" as E1  [[psysml:611624e7-c7ed-4f74-a421-b5a21d227404 ]]  {\r\n",
       "comp def \"A\" as E2  << (B,green) >> [[psysml:2313e16f-2d10-449a-8d9c-49e73c1dbd71 ]] {\r\n",
       "}\r\n",
       "}\r\n",
       "@enduml\r\n",
       "\n",
       "PlantUML version 1.2020.13(Sat Jun 13 12:26:38 UTC 2020)\n",
       "(EPL source distribution)\n",
       "Java Runtime: OpenJDK Runtime Environment\n",
       "JVM: OpenJDK 64-Bit Server VM\n",
       "Default Encoding: UTF-8\n",
       "Language: en\n",
       "Country: null\n",
       "--></g></svg>"
      ]
     },
     "execution_count": 35,
     "metadata": {},
     "output_type": "execute_result"
    }
   ],
   "source": [
    "%viz --style=\"PLANTUML\" --view=\"Sequence\" \"P1\""
   ]
  },
  {
   "cell_type": "code",
   "execution_count": 36,
   "id": "cb10b66f",
   "metadata": {
    "execution": {
     "iopub.execute_input": "2021-04-20T07:31:14.825394Z",
     "iopub.status.busy": "2021-04-20T07:31:14.824212Z",
     "iopub.status.idle": "2021-04-20T07:31:14.849501Z",
     "shell.execute_reply": "2021-04-20T07:31:14.849135Z"
    }
   },
   "outputs": [
    {
     "data": {
      "image/svg+xml": [
       "<?xml version=\"1.0\" encoding=\"UTF-8\" standalone=\"no\"?><svg xmlns=\"http://www.w3.org/2000/svg\" xmlns:xlink=\"http://www.w3.org/1999/xlink\" contentScriptType=\"application/ecmascript\" contentStyleType=\"text/css\" height=\"109px\" preserveAspectRatio=\"none\" style=\"width:110px;height:109px;\" version=\"1.1\" viewBox=\"0 0 110 109\" width=\"110px\" zoomAndPan=\"magnify\"><defs><filter height=\"300%\" id=\"fajzn02lply6\" width=\"300%\" x=\"-1\" y=\"-1\"><feGaussianBlur result=\"blurOut\" stdDeviation=\"2.0\"/><feColorMatrix in=\"blurOut\" result=\"blurOut2\" type=\"matrix\" values=\"0 0 0 0 0 0 0 0 0 0 0 0 0 0 0 0 0 0 .4 0\"/><feOffset dx=\"4.0\" dy=\"4.0\" in=\"blurOut2\" result=\"blurOut3\"/><feBlend in=\"SourceGraphic\" in2=\"blurOut3\" mode=\"normal\"/></filter></defs><g><!--MD5=[fbc87193dbaf4d95561dea2c320d4a47]\n",
       "cluster E1--><a href=\"psysml:611624e7-c7ed-4f74-a421-b5a21d227404\" target=\"_top\" title=\"psysml:611624e7-c7ed-4f74-a421-b5a21d227404\" xlink:actuate=\"onRequest\" xlink:href=\"psysml:611624e7-c7ed-4f74-a421-b5a21d227404\" xlink:show=\"new\" xlink:title=\"psysml:611624e7-c7ed-4f74-a421-b5a21d227404\" xlink:type=\"simple\"><polygon fill=\"#FFFFFF\" filter=\"url(#fajzn02lply6)\" points=\"16,6,42,6,49,28.2969,88,28.2969,88,97,16,97,16,6\" style=\"stroke: #000000; stroke-width: 1.5;\"/><line style=\"stroke: #000000; stroke-width: 1.5;\" x1=\"16\" x2=\"49\" y1=\"28.2969\" y2=\"28.2969\"/><text fill=\"#000000\" font-family=\"sans-serif\" font-size=\"14\" font-weight=\"bold\" lengthAdjust=\"spacingAndGlyphs\" textLength=\"20\" x=\"20\" y=\"20.9951\">P1</text></a><!--MD5=[b4997ac47864f28c2f74865a473b2911]\n",
       "class E2--><a href=\"psysml:2313e16f-2d10-449a-8d9c-49e73c1dbd71\" target=\"_top\" title=\"psysml:2313e16f-2d10-449a-8d9c-49e73c1dbd71\" xlink:actuate=\"onRequest\" xlink:href=\"psysml:2313e16f-2d10-449a-8d9c-49e73c1dbd71\" xlink:show=\"new\" xlink:title=\"psysml:2313e16f-2d10-449a-8d9c-49e73c1dbd71\" xlink:type=\"simple\"><rect fill=\"#FEFECE\" filter=\"url(#fajzn02lply6)\" height=\"40\" id=\"E2\" style=\"stroke: #A80036; stroke-width: 1.5;\" width=\"40\" x=\"32\" y=\"41\"/><ellipse cx=\"47\" cy=\"57\" fill=\"#008000\" rx=\"11\" ry=\"11\" style=\"stroke: #A80036; stroke-width: 1.0;\"/><path d=\"M45.9063,57.375 L45.9063,61.0469 L47.5313,61.0469 Q48.7031,61.0469 49.1719,60.6563 Q49.6406,60.25 49.6406,59.25 Q49.6406,58.25 49.1406,57.8125 Q48.6563,57.375 47.5313,57.375 L45.9063,57.375 Z M45.9063,52.5469 L45.9063,55.4219 L47.5313,55.4219 Q48.4531,55.4219 48.8438,55.0938 Q49.25,54.75 49.25,54 Q49.25,53.2344 48.8438,52.8906 Q48.4375,52.5469 47.5313,52.5469 L45.9063,52.5469 Z M43.5313,50.5938 L47.5313,50.5938 Q49.5938,50.5938 50.6406,51.375 Q51.6875,52.1563 51.6875,53.7188 Q51.6875,54.9219 51.0625,55.5938 Q50.4531,56.2656 49.2656,56.375 Q50.6875,56.5156 51.4063,57.3281 Q52.125,58.1406 52.125,59.5938 Q52.125,61.3906 51.0469,62.2031 Q49.9688,63 47.5313,63 L43.5313,63 L43.5313,50.5938 Z \"/><text fill=\"#000000\" font-family=\"sans-serif\" font-size=\"12\" lengthAdjust=\"spacingAndGlyphs\" textLength=\"8\" x=\"61\" y=\"61.1543\">A</text><line style=\"stroke: #A80036; stroke-width: 1.5;\" x1=\"33\" x2=\"71\" y1=\"73\" y2=\"73\"/></a><!--MD5=[c28e53843734c718aec71e6fa89a029a]\n",
       "@startuml\r\n",
       " \r\n",
       "package \"P1\" as E1  [[psysml:611624e7-c7ed-4f74-a421-b5a21d227404 ]]  {\r\n",
       "comp def \"A\" as E2  << (B,green) >> [[psysml:2313e16f-2d10-449a-8d9c-49e73c1dbd71 ]] {\r\n",
       "}\r\n",
       "}\r\n",
       "@enduml\r\n",
       "\n",
       "PlantUML version 1.2020.13(Sat Jun 13 12:26:38 UTC 2020)\n",
       "(EPL source distribution)\n",
       "Java Runtime: OpenJDK Runtime Environment\n",
       "JVM: OpenJDK 64-Bit Server VM\n",
       "Default Encoding: UTF-8\n",
       "Language: en\n",
       "Country: null\n",
       "--></g></svg>"
      ]
     },
     "execution_count": 36,
     "metadata": {},
     "output_type": "execute_result"
    }
   ],
   "source": [
    "%viz --style=\"PLANTUML\" --view=\"MIXED\" \"P1\""
   ]
  },
  {
   "cell_type": "code",
   "execution_count": 37,
   "id": "028c50ea",
   "metadata": {
    "execution": {
     "iopub.execute_input": "2021-04-20T07:31:14.901072Z",
     "iopub.status.busy": "2021-04-20T07:31:14.900439Z",
     "iopub.status.idle": "2021-04-20T07:31:14.921946Z",
     "shell.execute_reply": "2021-04-20T07:31:14.921617Z"
    }
   },
   "outputs": [
    {
     "data": {
      "image/svg+xml": [
       "<?xml version=\"1.0\" encoding=\"UTF-8\" standalone=\"no\"?><svg xmlns=\"http://www.w3.org/2000/svg\" xmlns:xlink=\"http://www.w3.org/1999/xlink\" contentScriptType=\"application/ecmascript\" contentStyleType=\"text/css\" height=\"115px\" preserveAspectRatio=\"none\" style=\"width:136px;height:115px;\" version=\"1.1\" viewBox=\"0 0 136 115\" width=\"136px\" zoomAndPan=\"magnify\"><defs/><g><!--MD5=[fbc87193dbaf4d95561dea2c320d4a47]\n",
       "cluster E1--><a href=\"psysml:611624e7-c7ed-4f74-a421-b5a21d227404\" target=\"_top\" title=\"psysml:611624e7-c7ed-4f74-a421-b5a21d227404\" xlink:actuate=\"onRequest\" xlink:href=\"psysml:611624e7-c7ed-4f74-a421-b5a21d227404\" xlink:show=\"new\" xlink:title=\"psysml:611624e7-c7ed-4f74-a421-b5a21d227404\" xlink:type=\"simple\"><polygon fill=\"#FFFFFF\" points=\"16,6,42,6,49,28.2969,114,28.2969,114,103,16,103,16,6\" style=\"stroke: #000000; stroke-width: 1.5;\"/><line style=\"stroke: #000000; stroke-width: 1.5;\" x1=\"16\" x2=\"49\" y1=\"28.2969\" y2=\"28.2969\"/><text fill=\"#000000\" font-family=\"sans-serif\" font-size=\"14\" font-weight=\"bold\" lengthAdjust=\"spacingAndGlyphs\" textLength=\"20\" x=\"20\" y=\"20.9951\">P1</text></a><!--MD5=[b4997ac47864f28c2f74865a473b2911]\n",
       "class E2--><a href=\"psysml:2313e16f-2d10-449a-8d9c-49e73c1dbd71\" target=\"_top\" title=\"psysml:2313e16f-2d10-449a-8d9c-49e73c1dbd71\" xlink:actuate=\"onRequest\" xlink:href=\"psysml:2313e16f-2d10-449a-8d9c-49e73c1dbd71\" xlink:show=\"new\" xlink:title=\"psysml:2313e16f-2d10-449a-8d9c-49e73c1dbd71\" xlink:type=\"simple\"><rect fill=\"#FFFFFF\" height=\"45.9375\" id=\"E2\" style=\"stroke: #383838; stroke-width: 1.5;\" width=\"66\" x=\"32\" y=\"41\"/><text fill=\"#000000\" font-family=\"sans-serif\" font-size=\"12\" font-style=\"italic\" lengthAdjust=\"spacingAndGlyphs\" textLength=\"64\" x=\"33\" y=\"57.1387\">«part def»</text><text fill=\"#000000\" font-family=\"sans-serif\" font-size=\"12\" lengthAdjust=\"spacingAndGlyphs\" textLength=\"8\" x=\"61\" y=\"71.1074\">A</text><line style=\"stroke: #383838; stroke-width: 1.5;\" x1=\"33\" x2=\"97\" y1=\"78.9375\" y2=\"78.9375\"/></a><!--MD5=[da6dfb6a729a3c117d138205bb73d425]\n",
       "@startuml\r\n",
       "skinparam monochrome true\r\n",
       "skinparam classbackgroundcolor white\r\n",
       "skinparam shadowing false\r\n",
       "skinparam wrapWidth 300\r\n",
       "hide circle\r\n",
       "\r\n",
       "package \"P1\" as E1  [[psysml:611624e7-c7ed-4f74-a421-b5a21d227404 ]]  {\r\n",
       "comp def \"A\" as E2  <<(T,blue)part def>> [[psysml:2313e16f-2d10-449a-8d9c-49e73c1dbd71 ]] {\r\n",
       "}\r\n",
       "}\r\n",
       "@enduml\r\n",
       "\n",
       "PlantUML version 1.2020.13(Sat Jun 13 12:26:38 UTC 2020)\n",
       "(EPL source distribution)\n",
       "Java Runtime: OpenJDK Runtime Environment\n",
       "JVM: OpenJDK 64-Bit Server VM\n",
       "Default Encoding: UTF-8\n",
       "Language: en\n",
       "Country: null\n",
       "--></g></svg>"
      ]
     },
     "execution_count": 37,
     "metadata": {},
     "output_type": "execute_result"
    }
   ],
   "source": [
    "%viz --style=\"DEFAULT\" --view=\"Default\" \"P1\""
   ]
  },
  {
   "cell_type": "code",
   "execution_count": 38,
   "id": "9bf04692",
   "metadata": {
    "execution": {
     "iopub.execute_input": "2021-04-20T07:31:14.973460Z",
     "iopub.status.busy": "2021-04-20T07:31:14.972874Z",
     "iopub.status.idle": "2021-04-20T07:31:14.995060Z",
     "shell.execute_reply": "2021-04-20T07:31:14.994719Z"
    }
   },
   "outputs": [
    {
     "data": {
      "image/svg+xml": [
       "<?xml version=\"1.0\" encoding=\"UTF-8\" standalone=\"no\"?><svg xmlns=\"http://www.w3.org/2000/svg\" xmlns:xlink=\"http://www.w3.org/1999/xlink\" contentScriptType=\"application/ecmascript\" contentStyleType=\"text/css\" height=\"115px\" preserveAspectRatio=\"none\" style=\"width:136px;height:115px;\" version=\"1.1\" viewBox=\"0 0 136 115\" width=\"136px\" zoomAndPan=\"magnify\"><defs/><g><!--MD5=[fbc87193dbaf4d95561dea2c320d4a47]\n",
       "cluster E1--><a href=\"psysml:611624e7-c7ed-4f74-a421-b5a21d227404\" target=\"_top\" title=\"psysml:611624e7-c7ed-4f74-a421-b5a21d227404\" xlink:actuate=\"onRequest\" xlink:href=\"psysml:611624e7-c7ed-4f74-a421-b5a21d227404\" xlink:show=\"new\" xlink:title=\"psysml:611624e7-c7ed-4f74-a421-b5a21d227404\" xlink:type=\"simple\"><polygon fill=\"#FFFFFF\" points=\"16,6,42,6,49,28.2969,114,28.2969,114,103,16,103,16,6\" style=\"stroke: #000000; stroke-width: 1.5;\"/><line style=\"stroke: #000000; stroke-width: 1.5;\" x1=\"16\" x2=\"49\" y1=\"28.2969\" y2=\"28.2969\"/><text fill=\"#000000\" font-family=\"sans-serif\" font-size=\"14\" font-weight=\"bold\" lengthAdjust=\"spacingAndGlyphs\" textLength=\"20\" x=\"20\" y=\"20.9951\">P1</text></a><!--MD5=[b4997ac47864f28c2f74865a473b2911]\n",
       "class E2--><a href=\"psysml:2313e16f-2d10-449a-8d9c-49e73c1dbd71\" target=\"_top\" title=\"psysml:2313e16f-2d10-449a-8d9c-49e73c1dbd71\" xlink:actuate=\"onRequest\" xlink:href=\"psysml:2313e16f-2d10-449a-8d9c-49e73c1dbd71\" xlink:show=\"new\" xlink:title=\"psysml:2313e16f-2d10-449a-8d9c-49e73c1dbd71\" xlink:type=\"simple\"><rect fill=\"#FFFFFF\" height=\"45.9375\" id=\"E2\" style=\"stroke: #383838; stroke-width: 1.5;\" width=\"66\" x=\"32\" y=\"41\"/><text fill=\"#000000\" font-family=\"sans-serif\" font-size=\"12\" font-style=\"italic\" lengthAdjust=\"spacingAndGlyphs\" textLength=\"64\" x=\"33\" y=\"57.1387\">«part def»</text><text fill=\"#000000\" font-family=\"sans-serif\" font-size=\"12\" lengthAdjust=\"spacingAndGlyphs\" textLength=\"8\" x=\"61\" y=\"71.1074\">A</text><line style=\"stroke: #383838; stroke-width: 1.5;\" x1=\"33\" x2=\"97\" y1=\"78.9375\" y2=\"78.9375\"/></a><!--MD5=[da6dfb6a729a3c117d138205bb73d425]\n",
       "@startuml\r\n",
       "skinparam monochrome true\r\n",
       "skinparam classbackgroundcolor white\r\n",
       "skinparam shadowing false\r\n",
       "skinparam wrapWidth 300\r\n",
       "hide circle\r\n",
       "\r\n",
       "package \"P1\" as E1  [[psysml:611624e7-c7ed-4f74-a421-b5a21d227404 ]]  {\r\n",
       "comp def \"A\" as E2  <<(T,blue)part def>> [[psysml:2313e16f-2d10-449a-8d9c-49e73c1dbd71 ]] {\r\n",
       "}\r\n",
       "}\r\n",
       "@enduml\r\n",
       "\n",
       "PlantUML version 1.2020.13(Sat Jun 13 12:26:38 UTC 2020)\n",
       "(EPL source distribution)\n",
       "Java Runtime: OpenJDK Runtime Environment\n",
       "JVM: OpenJDK 64-Bit Server VM\n",
       "Default Encoding: UTF-8\n",
       "Language: en\n",
       "Country: null\n",
       "--></g></svg>"
      ]
     },
     "execution_count": 38,
     "metadata": {},
     "output_type": "execute_result"
    }
   ],
   "source": [
    "%viz --style=\"DEFAULT\" --view=\"Tree\" \"P1\""
   ]
  },
  {
   "cell_type": "code",
   "execution_count": 39,
   "id": "c8e78cf1",
   "metadata": {
    "execution": {
     "iopub.execute_input": "2021-04-20T07:31:15.045977Z",
     "iopub.status.busy": "2021-04-20T07:31:15.045474Z",
     "iopub.status.idle": "2021-04-20T07:31:15.050953Z",
     "shell.execute_reply": "2021-04-20T07:31:15.050610Z"
    }
   },
   "outputs": [
    {
     "data": {
      "image/svg+xml": [
       "<?xml version=\"1.0\" encoding=\"UTF-8\" standalone=\"no\"?><svg xmlns=\"http://www.w3.org/2000/svg\" xmlns:xlink=\"http://www.w3.org/1999/xlink\" contentScriptType=\"application/ecmascript\" contentStyleType=\"text/css\" height=\"12px\" preserveAspectRatio=\"none\" style=\"width:12px;height:12px;\" version=\"1.1\" viewBox=\"0 0 12 12\" width=\"12px\" zoomAndPan=\"magnify\"><defs/><g><!--MD5=[c5f280e076d0d61ccf4b0f27871bda1d]\n",
       "@startuml\r\n",
       "skinparam monochrome true\r\n",
       "skinparam classbackgroundcolor white\r\n",
       "skinparam shadowing false\r\n",
       "skinparam wrapWidth 300\r\n",
       "hide circle\r\n",
       "\r\n",
       "@enduml\r\n",
       "\n",
       "PlantUML version 1.2020.13(Sat Jun 13 12:26:38 UTC 2020)\n",
       "(EPL source distribution)\n",
       "Java Runtime: OpenJDK Runtime Environment\n",
       "JVM: OpenJDK 64-Bit Server VM\n",
       "Default Encoding: UTF-8\n",
       "Language: en\n",
       "Country: null\n",
       "--></g></svg>"
      ]
     },
     "execution_count": 39,
     "metadata": {},
     "output_type": "execute_result"
    }
   ],
   "source": [
    "%viz --style=\"DEFAULT\" --view=\"State\" \"P1\""
   ]
  },
  {
   "cell_type": "code",
   "execution_count": 40,
   "id": "ecc7a4e9",
   "metadata": {
    "execution": {
     "iopub.execute_input": "2021-04-20T07:31:15.102213Z",
     "iopub.status.busy": "2021-04-20T07:31:15.101730Z",
     "iopub.status.idle": "2021-04-20T07:31:15.123950Z",
     "shell.execute_reply": "2021-04-20T07:31:15.123525Z"
    }
   },
   "outputs": [
    {
     "data": {
      "image/svg+xml": [
       "<?xml version=\"1.0\" encoding=\"UTF-8\" standalone=\"no\"?><svg xmlns=\"http://www.w3.org/2000/svg\" xmlns:xlink=\"http://www.w3.org/1999/xlink\" contentScriptType=\"application/ecmascript\" contentStyleType=\"text/css\" height=\"112px\" preserveAspectRatio=\"none\" style=\"width:142px;height:112px;\" version=\"1.1\" viewBox=\"0 0 142 112\" width=\"142px\" zoomAndPan=\"magnify\"><defs/><g><!--MD5=[fbc87193dbaf4d95561dea2c320d4a47]\n",
       "cluster E1--><a href=\"psysml:611624e7-c7ed-4f74-a421-b5a21d227404\" target=\"_top\" title=\"psysml:611624e7-c7ed-4f74-a421-b5a21d227404\" xlink:actuate=\"onRequest\" xlink:href=\"psysml:611624e7-c7ed-4f74-a421-b5a21d227404\" xlink:show=\"new\" xlink:title=\"psysml:611624e7-c7ed-4f74-a421-b5a21d227404\" xlink:type=\"simple\"><polygon fill=\"#FFFFFF\" points=\"16,6,42,6,49,28.2969,120,28.2969,120,100,16,100,16,6\" style=\"stroke: #000000; stroke-width: 1.5;\"/><line style=\"stroke: #000000; stroke-width: 1.5;\" x1=\"16\" x2=\"49\" y1=\"28.2969\" y2=\"28.2969\"/><text fill=\"#000000\" font-family=\"sans-serif\" font-size=\"14\" font-weight=\"bold\" lengthAdjust=\"spacingAndGlyphs\" textLength=\"20\" x=\"20\" y=\"20.9951\">P1</text></a><g id=\"E1.E2\"><a href=\"psysml:2313e16f-2d10-449a-8d9c-49e73c1dbd71\" target=\"_top\" title=\"psysml:2313e16f-2d10-449a-8d9c-49e73c1dbd71\" xlink:actuate=\"onRequest\" xlink:href=\"psysml:2313e16f-2d10-449a-8d9c-49e73c1dbd71\" xlink:show=\"new\" xlink:title=\"psysml:2313e16f-2d10-449a-8d9c-49e73c1dbd71\" xlink:type=\"simple\"><rect fill=\"#FFFFFF\" height=\"42.9375\" id=\"E2\" style=\"stroke: #383838; stroke-width: 1.5;\" width=\"71\" x=\"32.5\" y=\"41\"/><rect fill=\"#F8F8F8\" height=\"37.9375\" style=\"stroke: #383838; stroke-width: 1.5;\" width=\"71\" x=\"32.5\" y=\"41\"/><text fill=\"#000000\" font-family=\"sans-serif\" font-size=\"12\" font-style=\"italic\" lengthAdjust=\"spacingAndGlyphs\" textLength=\"64\" x=\"36\" y=\"57.1387\">«part def»</text><text fill=\"#000000\" font-family=\"sans-serif\" font-size=\"12\" lengthAdjust=\"spacingAndGlyphs\" textLength=\"8\" x=\"64\" y=\"71.1074\">A</text></a></g><!--MD5=[b5864ff917163817bd596f352dca9abf]\n",
       "@startuml\r\n",
       "skinparam ranksep 10\r\n",
       "skinparam rectangle {\r\n",
       " backgroundColor<<block>> LightGreen\r\n",
       "}\r\n",
       "skinparam monochrome true\r\n",
       "skinparam classbackgroundcolor white\r\n",
       "skinparam shadowing false\r\n",
       "skinparam wrapWidth 300\r\n",
       "hide circle\r\n",
       "\r\n",
       "package \"P1\" as E1  [[psysml:611624e7-c7ed-4f74-a421-b5a21d227404 ]]  {\r\n",
       "rec def \"A\" as E2  <<(T,blue)part def>> [[psysml:2313e16f-2d10-449a-8d9c-49e73c1dbd71 ]] {\r\n",
       "}\r\n",
       "}\r\n",
       "@enduml\r\n",
       "\n",
       "PlantUML version 1.2020.13(Sat Jun 13 12:26:38 UTC 2020)\n",
       "(EPL source distribution)\n",
       "Java Runtime: OpenJDK Runtime Environment\n",
       "JVM: OpenJDK 64-Bit Server VM\n",
       "Default Encoding: UTF-8\n",
       "Language: en\n",
       "Country: null\n",
       "--></g></svg>"
      ]
     },
     "execution_count": 40,
     "metadata": {},
     "output_type": "execute_result"
    }
   ],
   "source": [
    "%viz --style=\"DEFAULT\" --view=\"Interconnection\" \"P1\""
   ]
  },
  {
   "cell_type": "code",
   "execution_count": 41,
   "id": "2b2d7415",
   "metadata": {
    "execution": {
     "iopub.execute_input": "2021-04-20T07:31:15.175201Z",
     "iopub.status.busy": "2021-04-20T07:31:15.174648Z",
     "iopub.status.idle": "2021-04-20T07:31:15.180415Z",
     "shell.execute_reply": "2021-04-20T07:31:15.179973Z"
    }
   },
   "outputs": [
    {
     "data": {
      "image/svg+xml": [
       "<?xml version=\"1.0\" encoding=\"UTF-8\" standalone=\"no\"?><svg xmlns=\"http://www.w3.org/2000/svg\" xmlns:xlink=\"http://www.w3.org/1999/xlink\" contentScriptType=\"application/ecmascript\" contentStyleType=\"text/css\" height=\"12px\" preserveAspectRatio=\"none\" style=\"width:12px;height:12px;\" version=\"1.1\" viewBox=\"0 0 12 12\" width=\"12px\" zoomAndPan=\"magnify\"><defs/><g><!--MD5=[388f21188e31bfdd97050473b19af356]\n",
       "@startuml\r\n",
       "skinparam ranksep 8\r\n",
       "skinparam monochrome true\r\n",
       "skinparam classbackgroundcolor white\r\n",
       "skinparam shadowing false\r\n",
       "skinparam wrapWidth 300\r\n",
       "hide circle\r\n",
       "\r\n",
       "@enduml\r\n",
       "\n",
       "PlantUML version 1.2020.13(Sat Jun 13 12:26:38 UTC 2020)\n",
       "(EPL source distribution)\n",
       "Java Runtime: OpenJDK Runtime Environment\n",
       "JVM: OpenJDK 64-Bit Server VM\n",
       "Default Encoding: UTF-8\n",
       "Language: en\n",
       "Country: null\n",
       "--></g></svg>"
      ]
     },
     "execution_count": 41,
     "metadata": {},
     "output_type": "execute_result"
    }
   ],
   "source": [
    "%viz --style=\"DEFAULT\" --view=\"Action\" \"P1\""
   ]
  },
  {
   "cell_type": "code",
   "execution_count": 42,
   "id": "03eefc75",
   "metadata": {
    "execution": {
     "iopub.execute_input": "2021-04-20T07:31:15.232449Z",
     "iopub.status.busy": "2021-04-20T07:31:15.232043Z",
     "iopub.status.idle": "2021-04-20T07:31:15.257344Z",
     "shell.execute_reply": "2021-04-20T07:31:15.257026Z"
    }
   },
   "outputs": [
    {
     "data": {
      "image/svg+xml": [
       "<?xml version=\"1.0\" encoding=\"UTF-8\" standalone=\"no\"?><svg xmlns=\"http://www.w3.org/2000/svg\" xmlns:xlink=\"http://www.w3.org/1999/xlink\" contentScriptType=\"application/ecmascript\" contentStyleType=\"text/css\" height=\"115px\" preserveAspectRatio=\"none\" style=\"width:136px;height:115px;\" version=\"1.1\" viewBox=\"0 0 136 115\" width=\"136px\" zoomAndPan=\"magnify\"><defs/><g><!--MD5=[fbc87193dbaf4d95561dea2c320d4a47]\n",
       "cluster E1--><a href=\"psysml:611624e7-c7ed-4f74-a421-b5a21d227404\" target=\"_top\" title=\"psysml:611624e7-c7ed-4f74-a421-b5a21d227404\" xlink:actuate=\"onRequest\" xlink:href=\"psysml:611624e7-c7ed-4f74-a421-b5a21d227404\" xlink:show=\"new\" xlink:title=\"psysml:611624e7-c7ed-4f74-a421-b5a21d227404\" xlink:type=\"simple\"><polygon fill=\"#FFFFFF\" points=\"16,6,42,6,49,28.2969,114,28.2969,114,103,16,103,16,6\" style=\"stroke: #000000; stroke-width: 1.5;\"/><line style=\"stroke: #000000; stroke-width: 1.5;\" x1=\"16\" x2=\"49\" y1=\"28.2969\" y2=\"28.2969\"/><text fill=\"#000000\" font-family=\"sans-serif\" font-size=\"14\" font-weight=\"bold\" lengthAdjust=\"spacingAndGlyphs\" textLength=\"20\" x=\"20\" y=\"20.9951\">P1</text></a><!--MD5=[b4997ac47864f28c2f74865a473b2911]\n",
       "class E2--><a href=\"psysml:2313e16f-2d10-449a-8d9c-49e73c1dbd71\" target=\"_top\" title=\"psysml:2313e16f-2d10-449a-8d9c-49e73c1dbd71\" xlink:actuate=\"onRequest\" xlink:href=\"psysml:2313e16f-2d10-449a-8d9c-49e73c1dbd71\" xlink:show=\"new\" xlink:title=\"psysml:2313e16f-2d10-449a-8d9c-49e73c1dbd71\" xlink:type=\"simple\"><rect fill=\"#FFFFFF\" height=\"45.9375\" id=\"E2\" style=\"stroke: #383838; stroke-width: 1.5;\" width=\"66\" x=\"32\" y=\"41\"/><text fill=\"#000000\" font-family=\"sans-serif\" font-size=\"12\" font-style=\"italic\" lengthAdjust=\"spacingAndGlyphs\" textLength=\"64\" x=\"33\" y=\"57.1387\">«part def»</text><text fill=\"#000000\" font-family=\"sans-serif\" font-size=\"12\" lengthAdjust=\"spacingAndGlyphs\" textLength=\"8\" x=\"61\" y=\"71.1074\">A</text><line style=\"stroke: #383838; stroke-width: 1.5;\" x1=\"33\" x2=\"97\" y1=\"78.9375\" y2=\"78.9375\"/></a><!--MD5=[da6dfb6a729a3c117d138205bb73d425]\n",
       "@startuml\r\n",
       "skinparam monochrome true\r\n",
       "skinparam classbackgroundcolor white\r\n",
       "skinparam shadowing false\r\n",
       "skinparam wrapWidth 300\r\n",
       "hide circle\r\n",
       "\r\n",
       "package \"P1\" as E1  [[psysml:611624e7-c7ed-4f74-a421-b5a21d227404 ]]  {\r\n",
       "comp def \"A\" as E2  <<(T,blue)part def>> [[psysml:2313e16f-2d10-449a-8d9c-49e73c1dbd71 ]] {\r\n",
       "}\r\n",
       "}\r\n",
       "@enduml\r\n",
       "\n",
       "PlantUML version 1.2020.13(Sat Jun 13 12:26:38 UTC 2020)\n",
       "(EPL source distribution)\n",
       "Java Runtime: OpenJDK Runtime Environment\n",
       "JVM: OpenJDK 64-Bit Server VM\n",
       "Default Encoding: UTF-8\n",
       "Language: en\n",
       "Country: null\n",
       "--></g></svg>"
      ]
     },
     "execution_count": 42,
     "metadata": {},
     "output_type": "execute_result"
    }
   ],
   "source": [
    "%viz --style=\"DEFAULT\" --view=\"Sequence\" \"P1\""
   ]
  },
  {
   "cell_type": "code",
   "execution_count": 43,
   "id": "b3de2ae8",
   "metadata": {
    "execution": {
     "iopub.execute_input": "2021-04-20T07:31:15.307926Z",
     "iopub.status.busy": "2021-04-20T07:31:15.307485Z",
     "iopub.status.idle": "2021-04-20T07:31:15.328603Z",
     "shell.execute_reply": "2021-04-20T07:31:15.328269Z"
    }
   },
   "outputs": [
    {
     "data": {
      "image/svg+xml": [
       "<?xml version=\"1.0\" encoding=\"UTF-8\" standalone=\"no\"?><svg xmlns=\"http://www.w3.org/2000/svg\" xmlns:xlink=\"http://www.w3.org/1999/xlink\" contentScriptType=\"application/ecmascript\" contentStyleType=\"text/css\" height=\"115px\" preserveAspectRatio=\"none\" style=\"width:136px;height:115px;\" version=\"1.1\" viewBox=\"0 0 136 115\" width=\"136px\" zoomAndPan=\"magnify\"><defs/><g><!--MD5=[fbc87193dbaf4d95561dea2c320d4a47]\n",
       "cluster E1--><a href=\"psysml:611624e7-c7ed-4f74-a421-b5a21d227404\" target=\"_top\" title=\"psysml:611624e7-c7ed-4f74-a421-b5a21d227404\" xlink:actuate=\"onRequest\" xlink:href=\"psysml:611624e7-c7ed-4f74-a421-b5a21d227404\" xlink:show=\"new\" xlink:title=\"psysml:611624e7-c7ed-4f74-a421-b5a21d227404\" xlink:type=\"simple\"><polygon fill=\"#FFFFFF\" points=\"16,6,42,6,49,28.2969,114,28.2969,114,103,16,103,16,6\" style=\"stroke: #000000; stroke-width: 1.5;\"/><line style=\"stroke: #000000; stroke-width: 1.5;\" x1=\"16\" x2=\"49\" y1=\"28.2969\" y2=\"28.2969\"/><text fill=\"#000000\" font-family=\"sans-serif\" font-size=\"14\" font-weight=\"bold\" lengthAdjust=\"spacingAndGlyphs\" textLength=\"20\" x=\"20\" y=\"20.9951\">P1</text></a><!--MD5=[b4997ac47864f28c2f74865a473b2911]\n",
       "class E2--><a href=\"psysml:2313e16f-2d10-449a-8d9c-49e73c1dbd71\" target=\"_top\" title=\"psysml:2313e16f-2d10-449a-8d9c-49e73c1dbd71\" xlink:actuate=\"onRequest\" xlink:href=\"psysml:2313e16f-2d10-449a-8d9c-49e73c1dbd71\" xlink:show=\"new\" xlink:title=\"psysml:2313e16f-2d10-449a-8d9c-49e73c1dbd71\" xlink:type=\"simple\"><rect fill=\"#FFFFFF\" height=\"45.9375\" id=\"E2\" style=\"stroke: #383838; stroke-width: 1.5;\" width=\"66\" x=\"32\" y=\"41\"/><text fill=\"#000000\" font-family=\"sans-serif\" font-size=\"12\" font-style=\"italic\" lengthAdjust=\"spacingAndGlyphs\" textLength=\"64\" x=\"33\" y=\"57.1387\">«part def»</text><text fill=\"#000000\" font-family=\"sans-serif\" font-size=\"12\" lengthAdjust=\"spacingAndGlyphs\" textLength=\"8\" x=\"61\" y=\"71.1074\">A</text><line style=\"stroke: #383838; stroke-width: 1.5;\" x1=\"33\" x2=\"97\" y1=\"78.9375\" y2=\"78.9375\"/></a><!--MD5=[da6dfb6a729a3c117d138205bb73d425]\n",
       "@startuml\r\n",
       "skinparam monochrome true\r\n",
       "skinparam classbackgroundcolor white\r\n",
       "skinparam shadowing false\r\n",
       "skinparam wrapWidth 300\r\n",
       "hide circle\r\n",
       "\r\n",
       "package \"P1\" as E1  [[psysml:611624e7-c7ed-4f74-a421-b5a21d227404 ]]  {\r\n",
       "comp def \"A\" as E2  <<(T,blue)part def>> [[psysml:2313e16f-2d10-449a-8d9c-49e73c1dbd71 ]] {\r\n",
       "}\r\n",
       "}\r\n",
       "@enduml\r\n",
       "\n",
       "PlantUML version 1.2020.13(Sat Jun 13 12:26:38 UTC 2020)\n",
       "(EPL source distribution)\n",
       "Java Runtime: OpenJDK Runtime Environment\n",
       "JVM: OpenJDK 64-Bit Server VM\n",
       "Default Encoding: UTF-8\n",
       "Language: en\n",
       "Country: null\n",
       "--></g></svg>"
      ]
     },
     "execution_count": 43,
     "metadata": {},
     "output_type": "execute_result"
    }
   ],
   "source": [
    "%viz --style=\"DEFAULT\" --view=\"MIXED\" \"P1\""
   ]
  },
  {
   "cell_type": "code",
   "execution_count": 44,
   "id": "8854815c",
   "metadata": {
    "execution": {
     "iopub.execute_input": "2021-04-20T07:31:15.379446Z",
     "iopub.status.busy": "2021-04-20T07:31:15.378897Z",
     "iopub.status.idle": "2021-04-20T07:31:15.399956Z",
     "shell.execute_reply": "2021-04-20T07:31:15.399153Z"
    }
   },
   "outputs": [
    {
     "data": {
      "image/svg+xml": [
       "<?xml version=\"1.0\" encoding=\"UTF-8\" standalone=\"no\"?><svg xmlns=\"http://www.w3.org/2000/svg\" xmlns:xlink=\"http://www.w3.org/1999/xlink\" contentScriptType=\"application/ecmascript\" contentStyleType=\"text/css\" height=\"115px\" preserveAspectRatio=\"none\" style=\"width:136px;height:115px;\" version=\"1.1\" viewBox=\"0 0 136 115\" width=\"136px\" zoomAndPan=\"magnify\"><defs/><g><!--MD5=[fbc87193dbaf4d95561dea2c320d4a47]\n",
       "cluster E1--><a href=\"psysml:611624e7-c7ed-4f74-a421-b5a21d227404\" target=\"_top\" title=\"psysml:611624e7-c7ed-4f74-a421-b5a21d227404\" xlink:actuate=\"onRequest\" xlink:href=\"psysml:611624e7-c7ed-4f74-a421-b5a21d227404\" xlink:show=\"new\" xlink:title=\"psysml:611624e7-c7ed-4f74-a421-b5a21d227404\" xlink:type=\"simple\"><polygon fill=\"#FFFFFF\" points=\"16,6,42,6,49,28.2969,114,28.2969,114,103,16,103,16,6\" style=\"stroke: #000000; stroke-width: 1.5;\"/><line style=\"stroke: #000000; stroke-width: 1.5;\" x1=\"16\" x2=\"49\" y1=\"28.2969\" y2=\"28.2969\"/><text fill=\"#000000\" font-family=\"sans-serif\" font-size=\"14\" font-weight=\"bold\" lengthAdjust=\"spacingAndGlyphs\" textLength=\"20\" x=\"20\" y=\"20.9951\">P1</text></a><!--MD5=[b4997ac47864f28c2f74865a473b2911]\n",
       "class E2--><a href=\"psysml:2313e16f-2d10-449a-8d9c-49e73c1dbd71\" target=\"_top\" title=\"psysml:2313e16f-2d10-449a-8d9c-49e73c1dbd71\" xlink:actuate=\"onRequest\" xlink:href=\"psysml:2313e16f-2d10-449a-8d9c-49e73c1dbd71\" xlink:show=\"new\" xlink:title=\"psysml:2313e16f-2d10-449a-8d9c-49e73c1dbd71\" xlink:type=\"simple\"><rect fill=\"#FFFFFF\" height=\"45.9375\" id=\"E2\" style=\"stroke: #383838; stroke-width: 1.5;\" width=\"66\" x=\"32\" y=\"41\"/><text fill=\"#000000\" font-family=\"sans-serif\" font-size=\"12\" font-style=\"italic\" lengthAdjust=\"spacingAndGlyphs\" textLength=\"64\" x=\"33\" y=\"57.1387\">«part def»</text><text fill=\"#000000\" font-family=\"sans-serif\" font-size=\"12\" lengthAdjust=\"spacingAndGlyphs\" textLength=\"8\" x=\"61\" y=\"71.1074\">A</text><line style=\"stroke: #383838; stroke-width: 1.5;\" x1=\"33\" x2=\"97\" y1=\"78.9375\" y2=\"78.9375\"/></a><!--MD5=[3033afb75ac5fec3bcdfcb9fd1d9fed4]\n",
       "@startuml\r\n",
       "top to bottom direction\r\n",
       "skinparam monochrome true\r\n",
       "skinparam classbackgroundcolor white\r\n",
       "skinparam shadowing false\r\n",
       "skinparam wrapWidth 300\r\n",
       "hide circle\r\n",
       "\r\n",
       "package \"P1\" as E1  [[psysml:611624e7-c7ed-4f74-a421-b5a21d227404 ]]  {\r\n",
       "comp def \"A\" as E2  <<(T,blue)part def>> [[psysml:2313e16f-2d10-449a-8d9c-49e73c1dbd71 ]] {\r\n",
       "}\r\n",
       "}\r\n",
       "@enduml\r\n",
       "\n",
       "PlantUML version 1.2020.13(Sat Jun 13 12:26:38 UTC 2020)\n",
       "(EPL source distribution)\n",
       "Java Runtime: OpenJDK Runtime Environment\n",
       "JVM: OpenJDK 64-Bit Server VM\n",
       "Default Encoding: UTF-8\n",
       "Language: en\n",
       "Country: null\n",
       "--></g></svg>"
      ]
     },
     "execution_count": 44,
     "metadata": {},
     "output_type": "execute_result"
    }
   ],
   "source": [
    "%viz --style=\"TB\" --view=\"Default\" \"P1\""
   ]
  },
  {
   "cell_type": "code",
   "execution_count": 45,
   "id": "9f843fa0",
   "metadata": {
    "execution": {
     "iopub.execute_input": "2021-04-20T07:31:15.452322Z",
     "iopub.status.busy": "2021-04-20T07:31:15.451906Z",
     "iopub.status.idle": "2021-04-20T07:31:15.476100Z",
     "shell.execute_reply": "2021-04-20T07:31:15.475785Z"
    }
   },
   "outputs": [
    {
     "data": {
      "image/svg+xml": [
       "<?xml version=\"1.0\" encoding=\"UTF-8\" standalone=\"no\"?><svg xmlns=\"http://www.w3.org/2000/svg\" xmlns:xlink=\"http://www.w3.org/1999/xlink\" contentScriptType=\"application/ecmascript\" contentStyleType=\"text/css\" height=\"115px\" preserveAspectRatio=\"none\" style=\"width:136px;height:115px;\" version=\"1.1\" viewBox=\"0 0 136 115\" width=\"136px\" zoomAndPan=\"magnify\"><defs/><g><!--MD5=[fbc87193dbaf4d95561dea2c320d4a47]\n",
       "cluster E1--><a href=\"psysml:611624e7-c7ed-4f74-a421-b5a21d227404\" target=\"_top\" title=\"psysml:611624e7-c7ed-4f74-a421-b5a21d227404\" xlink:actuate=\"onRequest\" xlink:href=\"psysml:611624e7-c7ed-4f74-a421-b5a21d227404\" xlink:show=\"new\" xlink:title=\"psysml:611624e7-c7ed-4f74-a421-b5a21d227404\" xlink:type=\"simple\"><polygon fill=\"#FFFFFF\" points=\"16,6,42,6,49,28.2969,114,28.2969,114,103,16,103,16,6\" style=\"stroke: #000000; stroke-width: 1.5;\"/><line style=\"stroke: #000000; stroke-width: 1.5;\" x1=\"16\" x2=\"49\" y1=\"28.2969\" y2=\"28.2969\"/><text fill=\"#000000\" font-family=\"sans-serif\" font-size=\"14\" font-weight=\"bold\" lengthAdjust=\"spacingAndGlyphs\" textLength=\"20\" x=\"20\" y=\"20.9951\">P1</text></a><!--MD5=[b4997ac47864f28c2f74865a473b2911]\n",
       "class E2--><a href=\"psysml:2313e16f-2d10-449a-8d9c-49e73c1dbd71\" target=\"_top\" title=\"psysml:2313e16f-2d10-449a-8d9c-49e73c1dbd71\" xlink:actuate=\"onRequest\" xlink:href=\"psysml:2313e16f-2d10-449a-8d9c-49e73c1dbd71\" xlink:show=\"new\" xlink:title=\"psysml:2313e16f-2d10-449a-8d9c-49e73c1dbd71\" xlink:type=\"simple\"><rect fill=\"#FFFFFF\" height=\"45.9375\" id=\"E2\" style=\"stroke: #383838; stroke-width: 1.5;\" width=\"66\" x=\"32\" y=\"41\"/><text fill=\"#000000\" font-family=\"sans-serif\" font-size=\"12\" font-style=\"italic\" lengthAdjust=\"spacingAndGlyphs\" textLength=\"64\" x=\"33\" y=\"57.1387\">«part def»</text><text fill=\"#000000\" font-family=\"sans-serif\" font-size=\"12\" lengthAdjust=\"spacingAndGlyphs\" textLength=\"8\" x=\"61\" y=\"71.1074\">A</text><line style=\"stroke: #383838; stroke-width: 1.5;\" x1=\"33\" x2=\"97\" y1=\"78.9375\" y2=\"78.9375\"/></a><!--MD5=[3033afb75ac5fec3bcdfcb9fd1d9fed4]\n",
       "@startuml\r\n",
       "top to bottom direction\r\n",
       "skinparam monochrome true\r\n",
       "skinparam classbackgroundcolor white\r\n",
       "skinparam shadowing false\r\n",
       "skinparam wrapWidth 300\r\n",
       "hide circle\r\n",
       "\r\n",
       "package \"P1\" as E1  [[psysml:611624e7-c7ed-4f74-a421-b5a21d227404 ]]  {\r\n",
       "comp def \"A\" as E2  <<(T,blue)part def>> [[psysml:2313e16f-2d10-449a-8d9c-49e73c1dbd71 ]] {\r\n",
       "}\r\n",
       "}\r\n",
       "@enduml\r\n",
       "\n",
       "PlantUML version 1.2020.13(Sat Jun 13 12:26:38 UTC 2020)\n",
       "(EPL source distribution)\n",
       "Java Runtime: OpenJDK Runtime Environment\n",
       "JVM: OpenJDK 64-Bit Server VM\n",
       "Default Encoding: UTF-8\n",
       "Language: en\n",
       "Country: null\n",
       "--></g></svg>"
      ]
     },
     "execution_count": 45,
     "metadata": {},
     "output_type": "execute_result"
    }
   ],
   "source": [
    "%viz --style=\"TB\" --view=\"Tree\" \"P1\""
   ]
  },
  {
   "cell_type": "code",
   "execution_count": 46,
   "id": "b9f77bdb",
   "metadata": {
    "execution": {
     "iopub.execute_input": "2021-04-20T07:31:15.527421Z",
     "iopub.status.busy": "2021-04-20T07:31:15.526852Z",
     "iopub.status.idle": "2021-04-20T07:31:15.533628Z",
     "shell.execute_reply": "2021-04-20T07:31:15.533288Z"
    }
   },
   "outputs": [
    {
     "data": {
      "image/svg+xml": [
       "<?xml version=\"1.0\" encoding=\"UTF-8\" standalone=\"no\"?><svg xmlns=\"http://www.w3.org/2000/svg\" xmlns:xlink=\"http://www.w3.org/1999/xlink\" contentScriptType=\"application/ecmascript\" contentStyleType=\"text/css\" height=\"12px\" preserveAspectRatio=\"none\" style=\"width:12px;height:12px;\" version=\"1.1\" viewBox=\"0 0 12 12\" width=\"12px\" zoomAndPan=\"magnify\"><defs/><g><!--MD5=[f4ee21bc66e489b5061b7c3e9601fdef]\n",
       "@startuml\r\n",
       "top to bottom direction\r\n",
       "skinparam monochrome true\r\n",
       "skinparam classbackgroundcolor white\r\n",
       "skinparam shadowing false\r\n",
       "skinparam wrapWidth 300\r\n",
       "hide circle\r\n",
       "\r\n",
       "@enduml\r\n",
       "\n",
       "PlantUML version 1.2020.13(Sat Jun 13 12:26:38 UTC 2020)\n",
       "(EPL source distribution)\n",
       "Java Runtime: OpenJDK Runtime Environment\n",
       "JVM: OpenJDK 64-Bit Server VM\n",
       "Default Encoding: UTF-8\n",
       "Language: en\n",
       "Country: null\n",
       "--></g></svg>"
      ]
     },
     "execution_count": 46,
     "metadata": {},
     "output_type": "execute_result"
    }
   ],
   "source": [
    "%viz --style=\"TB\" --view=\"State\" \"P1\""
   ]
  },
  {
   "cell_type": "code",
   "execution_count": 47,
   "id": "109365c9",
   "metadata": {
    "execution": {
     "iopub.execute_input": "2021-04-20T07:31:15.585729Z",
     "iopub.status.busy": "2021-04-20T07:31:15.584929Z",
     "iopub.status.idle": "2021-04-20T07:31:15.611335Z",
     "shell.execute_reply": "2021-04-20T07:31:15.611609Z"
    }
   },
   "outputs": [
    {
     "data": {
      "image/svg+xml": [
       "<?xml version=\"1.0\" encoding=\"UTF-8\" standalone=\"no\"?><svg xmlns=\"http://www.w3.org/2000/svg\" xmlns:xlink=\"http://www.w3.org/1999/xlink\" contentScriptType=\"application/ecmascript\" contentStyleType=\"text/css\" height=\"112px\" preserveAspectRatio=\"none\" style=\"width:142px;height:112px;\" version=\"1.1\" viewBox=\"0 0 142 112\" width=\"142px\" zoomAndPan=\"magnify\"><defs/><g><!--MD5=[fbc87193dbaf4d95561dea2c320d4a47]\n",
       "cluster E1--><a href=\"psysml:611624e7-c7ed-4f74-a421-b5a21d227404\" target=\"_top\" title=\"psysml:611624e7-c7ed-4f74-a421-b5a21d227404\" xlink:actuate=\"onRequest\" xlink:href=\"psysml:611624e7-c7ed-4f74-a421-b5a21d227404\" xlink:show=\"new\" xlink:title=\"psysml:611624e7-c7ed-4f74-a421-b5a21d227404\" xlink:type=\"simple\"><polygon fill=\"#FFFFFF\" points=\"16,6,42,6,49,28.2969,120,28.2969,120,100,16,100,16,6\" style=\"stroke: #000000; stroke-width: 1.5;\"/><line style=\"stroke: #000000; stroke-width: 1.5;\" x1=\"16\" x2=\"49\" y1=\"28.2969\" y2=\"28.2969\"/><text fill=\"#000000\" font-family=\"sans-serif\" font-size=\"14\" font-weight=\"bold\" lengthAdjust=\"spacingAndGlyphs\" textLength=\"20\" x=\"20\" y=\"20.9951\">P1</text></a><g id=\"E1.E2\"><a href=\"psysml:2313e16f-2d10-449a-8d9c-49e73c1dbd71\" target=\"_top\" title=\"psysml:2313e16f-2d10-449a-8d9c-49e73c1dbd71\" xlink:actuate=\"onRequest\" xlink:href=\"psysml:2313e16f-2d10-449a-8d9c-49e73c1dbd71\" xlink:show=\"new\" xlink:title=\"psysml:2313e16f-2d10-449a-8d9c-49e73c1dbd71\" xlink:type=\"simple\"><rect fill=\"#FFFFFF\" height=\"42.9375\" id=\"E2\" style=\"stroke: #383838; stroke-width: 1.5;\" width=\"71\" x=\"32.5\" y=\"41\"/><rect fill=\"#F8F8F8\" height=\"37.9375\" style=\"stroke: #383838; stroke-width: 1.5;\" width=\"71\" x=\"32.5\" y=\"41\"/><text fill=\"#000000\" font-family=\"sans-serif\" font-size=\"12\" font-style=\"italic\" lengthAdjust=\"spacingAndGlyphs\" textLength=\"64\" x=\"36\" y=\"57.1387\">«part def»</text><text fill=\"#000000\" font-family=\"sans-serif\" font-size=\"12\" lengthAdjust=\"spacingAndGlyphs\" textLength=\"8\" x=\"64\" y=\"71.1074\">A</text></a></g><!--MD5=[514ed56ea7fa63f7c41f0a9a48c23a66]\n",
       "@startuml\r\n",
       "skinparam ranksep 10\r\n",
       "skinparam rectangle {\r\n",
       " backgroundColor<<block>> LightGreen\r\n",
       "}\r\n",
       "top to bottom direction\r\n",
       "skinparam monochrome true\r\n",
       "skinparam classbackgroundcolor white\r\n",
       "skinparam shadowing false\r\n",
       "skinparam wrapWidth 300\r\n",
       "hide circle\r\n",
       "\r\n",
       "package \"P1\" as E1  [[psysml:611624e7-c7ed-4f74-a421-b5a21d227404 ]]  {\r\n",
       "rec def \"A\" as E2  <<(T,blue)part def>> [[psysml:2313e16f-2d10-449a-8d9c-49e73c1dbd71 ]] {\r\n",
       "}\r\n",
       "}\r\n",
       "@enduml\r\n",
       "\n",
       "PlantUML version 1.2020.13(Sat Jun 13 12:26:38 UTC 2020)\n",
       "(EPL source distribution)\n",
       "Java Runtime: OpenJDK Runtime Environment\n",
       "JVM: OpenJDK 64-Bit Server VM\n",
       "Default Encoding: UTF-8\n",
       "Language: en\n",
       "Country: null\n",
       "--></g></svg>"
      ]
     },
     "execution_count": 47,
     "metadata": {},
     "output_type": "execute_result"
    }
   ],
   "source": [
    "%viz --style=\"TB\" --view=\"Interconnection\" \"P1\""
   ]
  },
  {
   "cell_type": "code",
   "execution_count": 48,
   "id": "af4246b9",
   "metadata": {
    "execution": {
     "iopub.execute_input": "2021-04-20T07:31:15.662627Z",
     "iopub.status.busy": "2021-04-20T07:31:15.662013Z",
     "iopub.status.idle": "2021-04-20T07:31:15.667627Z",
     "shell.execute_reply": "2021-04-20T07:31:15.667267Z"
    }
   },
   "outputs": [
    {
     "data": {
      "image/svg+xml": [
       "<?xml version=\"1.0\" encoding=\"UTF-8\" standalone=\"no\"?><svg xmlns=\"http://www.w3.org/2000/svg\" xmlns:xlink=\"http://www.w3.org/1999/xlink\" contentScriptType=\"application/ecmascript\" contentStyleType=\"text/css\" height=\"12px\" preserveAspectRatio=\"none\" style=\"width:12px;height:12px;\" version=\"1.1\" viewBox=\"0 0 12 12\" width=\"12px\" zoomAndPan=\"magnify\"><defs/><g><!--MD5=[06afc254b03ac5e9d9fb7773b07d0800]\n",
       "@startuml\r\n",
       "skinparam ranksep 8\r\n",
       "top to bottom direction\r\n",
       "skinparam monochrome true\r\n",
       "skinparam classbackgroundcolor white\r\n",
       "skinparam shadowing false\r\n",
       "skinparam wrapWidth 300\r\n",
       "hide circle\r\n",
       "\r\n",
       "@enduml\r\n",
       "\n",
       "PlantUML version 1.2020.13(Sat Jun 13 12:26:38 UTC 2020)\n",
       "(EPL source distribution)\n",
       "Java Runtime: OpenJDK Runtime Environment\n",
       "JVM: OpenJDK 64-Bit Server VM\n",
       "Default Encoding: UTF-8\n",
       "Language: en\n",
       "Country: null\n",
       "--></g></svg>"
      ]
     },
     "execution_count": 48,
     "metadata": {},
     "output_type": "execute_result"
    }
   ],
   "source": [
    "%viz --style=\"TB\" --view=\"Action\" \"P1\""
   ]
  },
  {
   "cell_type": "code",
   "execution_count": 49,
   "id": "090f288f",
   "metadata": {
    "execution": {
     "iopub.execute_input": "2021-04-20T07:31:15.718502Z",
     "iopub.status.busy": "2021-04-20T07:31:15.717962Z",
     "iopub.status.idle": "2021-04-20T07:31:15.739572Z",
     "shell.execute_reply": "2021-04-20T07:31:15.739186Z"
    }
   },
   "outputs": [
    {
     "data": {
      "image/svg+xml": [
       "<?xml version=\"1.0\" encoding=\"UTF-8\" standalone=\"no\"?><svg xmlns=\"http://www.w3.org/2000/svg\" xmlns:xlink=\"http://www.w3.org/1999/xlink\" contentScriptType=\"application/ecmascript\" contentStyleType=\"text/css\" height=\"115px\" preserveAspectRatio=\"none\" style=\"width:136px;height:115px;\" version=\"1.1\" viewBox=\"0 0 136 115\" width=\"136px\" zoomAndPan=\"magnify\"><defs/><g><!--MD5=[fbc87193dbaf4d95561dea2c320d4a47]\n",
       "cluster E1--><a href=\"psysml:611624e7-c7ed-4f74-a421-b5a21d227404\" target=\"_top\" title=\"psysml:611624e7-c7ed-4f74-a421-b5a21d227404\" xlink:actuate=\"onRequest\" xlink:href=\"psysml:611624e7-c7ed-4f74-a421-b5a21d227404\" xlink:show=\"new\" xlink:title=\"psysml:611624e7-c7ed-4f74-a421-b5a21d227404\" xlink:type=\"simple\"><polygon fill=\"#FFFFFF\" points=\"16,6,42,6,49,28.2969,114,28.2969,114,103,16,103,16,6\" style=\"stroke: #000000; stroke-width: 1.5;\"/><line style=\"stroke: #000000; stroke-width: 1.5;\" x1=\"16\" x2=\"49\" y1=\"28.2969\" y2=\"28.2969\"/><text fill=\"#000000\" font-family=\"sans-serif\" font-size=\"14\" font-weight=\"bold\" lengthAdjust=\"spacingAndGlyphs\" textLength=\"20\" x=\"20\" y=\"20.9951\">P1</text></a><!--MD5=[b4997ac47864f28c2f74865a473b2911]\n",
       "class E2--><a href=\"psysml:2313e16f-2d10-449a-8d9c-49e73c1dbd71\" target=\"_top\" title=\"psysml:2313e16f-2d10-449a-8d9c-49e73c1dbd71\" xlink:actuate=\"onRequest\" xlink:href=\"psysml:2313e16f-2d10-449a-8d9c-49e73c1dbd71\" xlink:show=\"new\" xlink:title=\"psysml:2313e16f-2d10-449a-8d9c-49e73c1dbd71\" xlink:type=\"simple\"><rect fill=\"#FFFFFF\" height=\"45.9375\" id=\"E2\" style=\"stroke: #383838; stroke-width: 1.5;\" width=\"66\" x=\"32\" y=\"41\"/><text fill=\"#000000\" font-family=\"sans-serif\" font-size=\"12\" font-style=\"italic\" lengthAdjust=\"spacingAndGlyphs\" textLength=\"64\" x=\"33\" y=\"57.1387\">«part def»</text><text fill=\"#000000\" font-family=\"sans-serif\" font-size=\"12\" lengthAdjust=\"spacingAndGlyphs\" textLength=\"8\" x=\"61\" y=\"71.1074\">A</text><line style=\"stroke: #383838; stroke-width: 1.5;\" x1=\"33\" x2=\"97\" y1=\"78.9375\" y2=\"78.9375\"/></a><!--MD5=[3033afb75ac5fec3bcdfcb9fd1d9fed4]\n",
       "@startuml\r\n",
       "top to bottom direction\r\n",
       "skinparam monochrome true\r\n",
       "skinparam classbackgroundcolor white\r\n",
       "skinparam shadowing false\r\n",
       "skinparam wrapWidth 300\r\n",
       "hide circle\r\n",
       "\r\n",
       "package \"P1\" as E1  [[psysml:611624e7-c7ed-4f74-a421-b5a21d227404 ]]  {\r\n",
       "comp def \"A\" as E2  <<(T,blue)part def>> [[psysml:2313e16f-2d10-449a-8d9c-49e73c1dbd71 ]] {\r\n",
       "}\r\n",
       "}\r\n",
       "@enduml\r\n",
       "\n",
       "PlantUML version 1.2020.13(Sat Jun 13 12:26:38 UTC 2020)\n",
       "(EPL source distribution)\n",
       "Java Runtime: OpenJDK Runtime Environment\n",
       "JVM: OpenJDK 64-Bit Server VM\n",
       "Default Encoding: UTF-8\n",
       "Language: en\n",
       "Country: null\n",
       "--></g></svg>"
      ]
     },
     "execution_count": 49,
     "metadata": {},
     "output_type": "execute_result"
    }
   ],
   "source": [
    "%viz --style=\"TB\" --view=\"Sequence\" \"P1\""
   ]
  },
  {
   "cell_type": "code",
   "execution_count": 50,
   "id": "645a98b2",
   "metadata": {
    "execution": {
     "iopub.execute_input": "2021-04-20T07:31:15.792488Z",
     "iopub.status.busy": "2021-04-20T07:31:15.792020Z",
     "iopub.status.idle": "2021-04-20T07:31:15.811810Z",
     "shell.execute_reply": "2021-04-20T07:31:15.811455Z"
    }
   },
   "outputs": [
    {
     "data": {
      "image/svg+xml": [
       "<?xml version=\"1.0\" encoding=\"UTF-8\" standalone=\"no\"?><svg xmlns=\"http://www.w3.org/2000/svg\" xmlns:xlink=\"http://www.w3.org/1999/xlink\" contentScriptType=\"application/ecmascript\" contentStyleType=\"text/css\" height=\"115px\" preserveAspectRatio=\"none\" style=\"width:136px;height:115px;\" version=\"1.1\" viewBox=\"0 0 136 115\" width=\"136px\" zoomAndPan=\"magnify\"><defs/><g><!--MD5=[fbc87193dbaf4d95561dea2c320d4a47]\n",
       "cluster E1--><a href=\"psysml:611624e7-c7ed-4f74-a421-b5a21d227404\" target=\"_top\" title=\"psysml:611624e7-c7ed-4f74-a421-b5a21d227404\" xlink:actuate=\"onRequest\" xlink:href=\"psysml:611624e7-c7ed-4f74-a421-b5a21d227404\" xlink:show=\"new\" xlink:title=\"psysml:611624e7-c7ed-4f74-a421-b5a21d227404\" xlink:type=\"simple\"><polygon fill=\"#FFFFFF\" points=\"16,6,42,6,49,28.2969,114,28.2969,114,103,16,103,16,6\" style=\"stroke: #000000; stroke-width: 1.5;\"/><line style=\"stroke: #000000; stroke-width: 1.5;\" x1=\"16\" x2=\"49\" y1=\"28.2969\" y2=\"28.2969\"/><text fill=\"#000000\" font-family=\"sans-serif\" font-size=\"14\" font-weight=\"bold\" lengthAdjust=\"spacingAndGlyphs\" textLength=\"20\" x=\"20\" y=\"20.9951\">P1</text></a><!--MD5=[b4997ac47864f28c2f74865a473b2911]\n",
       "class E2--><a href=\"psysml:2313e16f-2d10-449a-8d9c-49e73c1dbd71\" target=\"_top\" title=\"psysml:2313e16f-2d10-449a-8d9c-49e73c1dbd71\" xlink:actuate=\"onRequest\" xlink:href=\"psysml:2313e16f-2d10-449a-8d9c-49e73c1dbd71\" xlink:show=\"new\" xlink:title=\"psysml:2313e16f-2d10-449a-8d9c-49e73c1dbd71\" xlink:type=\"simple\"><rect fill=\"#FFFFFF\" height=\"45.9375\" id=\"E2\" style=\"stroke: #383838; stroke-width: 1.5;\" width=\"66\" x=\"32\" y=\"41\"/><text fill=\"#000000\" font-family=\"sans-serif\" font-size=\"12\" font-style=\"italic\" lengthAdjust=\"spacingAndGlyphs\" textLength=\"64\" x=\"33\" y=\"57.1387\">«part def»</text><text fill=\"#000000\" font-family=\"sans-serif\" font-size=\"12\" lengthAdjust=\"spacingAndGlyphs\" textLength=\"8\" x=\"61\" y=\"71.1074\">A</text><line style=\"stroke: #383838; stroke-width: 1.5;\" x1=\"33\" x2=\"97\" y1=\"78.9375\" y2=\"78.9375\"/></a><!--MD5=[3033afb75ac5fec3bcdfcb9fd1d9fed4]\n",
       "@startuml\r\n",
       "top to bottom direction\r\n",
       "skinparam monochrome true\r\n",
       "skinparam classbackgroundcolor white\r\n",
       "skinparam shadowing false\r\n",
       "skinparam wrapWidth 300\r\n",
       "hide circle\r\n",
       "\r\n",
       "package \"P1\" as E1  [[psysml:611624e7-c7ed-4f74-a421-b5a21d227404 ]]  {\r\n",
       "comp def \"A\" as E2  <<(T,blue)part def>> [[psysml:2313e16f-2d10-449a-8d9c-49e73c1dbd71 ]] {\r\n",
       "}\r\n",
       "}\r\n",
       "@enduml\r\n",
       "\n",
       "PlantUML version 1.2020.13(Sat Jun 13 12:26:38 UTC 2020)\n",
       "(EPL source distribution)\n",
       "Java Runtime: OpenJDK Runtime Environment\n",
       "JVM: OpenJDK 64-Bit Server VM\n",
       "Default Encoding: UTF-8\n",
       "Language: en\n",
       "Country: null\n",
       "--></g></svg>"
      ]
     },
     "execution_count": 50,
     "metadata": {},
     "output_type": "execute_result"
    }
   ],
   "source": [
    "%viz --style=\"TB\" --view=\"MIXED\" \"P1\""
   ]
  },
  {
   "cell_type": "code",
   "execution_count": 51,
   "id": "c675ff44",
   "metadata": {
    "execution": {
     "iopub.execute_input": "2021-04-20T07:31:15.861176Z",
     "iopub.status.busy": "2021-04-20T07:31:15.860689Z",
     "iopub.status.idle": "2021-04-20T07:31:15.880464Z",
     "shell.execute_reply": "2021-04-20T07:31:15.880103Z"
    }
   },
   "outputs": [
    {
     "data": {
      "image/svg+xml": [
       "<?xml version=\"1.0\" encoding=\"UTF-8\" standalone=\"no\"?><svg xmlns=\"http://www.w3.org/2000/svg\" xmlns:xlink=\"http://www.w3.org/1999/xlink\" contentScriptType=\"application/ecmascript\" contentStyleType=\"text/css\" height=\"115px\" preserveAspectRatio=\"none\" style=\"width:136px;height:115px;\" version=\"1.1\" viewBox=\"0 0 136 115\" width=\"136px\" zoomAndPan=\"magnify\"><defs/><g><!--MD5=[fbc87193dbaf4d95561dea2c320d4a47]\n",
       "cluster E1--><a href=\"psysml:611624e7-c7ed-4f74-a421-b5a21d227404\" target=\"_top\" title=\"psysml:611624e7-c7ed-4f74-a421-b5a21d227404\" xlink:actuate=\"onRequest\" xlink:href=\"psysml:611624e7-c7ed-4f74-a421-b5a21d227404\" xlink:show=\"new\" xlink:title=\"psysml:611624e7-c7ed-4f74-a421-b5a21d227404\" xlink:type=\"simple\"><polygon fill=\"#FFFFFF\" points=\"16,6,42,6,49,28.2969,114,28.2969,114,103,16,103,16,6\" style=\"stroke: #000000; stroke-width: 1.5;\"/><line style=\"stroke: #000000; stroke-width: 1.5;\" x1=\"16\" x2=\"49\" y1=\"28.2969\" y2=\"28.2969\"/><text fill=\"#000000\" font-family=\"sans-serif\" font-size=\"14\" font-weight=\"bold\" lengthAdjust=\"spacingAndGlyphs\" textLength=\"20\" x=\"20\" y=\"20.9951\">P1</text></a><!--MD5=[b4997ac47864f28c2f74865a473b2911]\n",
       "class E2--><a href=\"psysml:2313e16f-2d10-449a-8d9c-49e73c1dbd71\" target=\"_top\" title=\"psysml:2313e16f-2d10-449a-8d9c-49e73c1dbd71\" xlink:actuate=\"onRequest\" xlink:href=\"psysml:2313e16f-2d10-449a-8d9c-49e73c1dbd71\" xlink:show=\"new\" xlink:title=\"psysml:2313e16f-2d10-449a-8d9c-49e73c1dbd71\" xlink:type=\"simple\"><rect fill=\"#FFFFFF\" height=\"45.9375\" id=\"E2\" style=\"stroke: #383838; stroke-width: 1.5;\" width=\"66\" x=\"32\" y=\"41\"/><text fill=\"#000000\" font-family=\"sans-serif\" font-size=\"12\" font-style=\"italic\" lengthAdjust=\"spacingAndGlyphs\" textLength=\"64\" x=\"33\" y=\"57.1387\">«part def»</text><text fill=\"#000000\" font-family=\"sans-serif\" font-size=\"12\" lengthAdjust=\"spacingAndGlyphs\" textLength=\"8\" x=\"61\" y=\"71.1074\">A</text><line style=\"stroke: #383838; stroke-width: 1.5;\" x1=\"33\" x2=\"97\" y1=\"78.9375\" y2=\"78.9375\"/></a><!--MD5=[eeeb0d37591bf542bbfc41e013d59c2f]\n",
       "@startuml\r\n",
       "skinparam linetype ortho\r\n",
       "skinparam monochrome true\r\n",
       "skinparam classbackgroundcolor white\r\n",
       "skinparam shadowing false\r\n",
       "skinparam wrapWidth 300\r\n",
       "hide circle\r\n",
       "\r\n",
       "package \"P1\" as E1  [[psysml:611624e7-c7ed-4f74-a421-b5a21d227404 ]]  {\r\n",
       "comp def \"A\" as E2  <<(T,blue)part def>> [[psysml:2313e16f-2d10-449a-8d9c-49e73c1dbd71 ]] {\r\n",
       "}\r\n",
       "}\r\n",
       "@enduml\r\n",
       "\n",
       "PlantUML version 1.2020.13(Sat Jun 13 12:26:38 UTC 2020)\n",
       "(EPL source distribution)\n",
       "Java Runtime: OpenJDK Runtime Environment\n",
       "JVM: OpenJDK 64-Bit Server VM\n",
       "Default Encoding: UTF-8\n",
       "Language: en\n",
       "Country: null\n",
       "--></g></svg>"
      ]
     },
     "execution_count": 51,
     "metadata": {},
     "output_type": "execute_result"
    }
   ],
   "source": [
    "%viz --style=\"ORTHOLINE\" --view=\"Default\" \"P1\""
   ]
  },
  {
   "cell_type": "code",
   "execution_count": 52,
   "id": "09482cca",
   "metadata": {
    "execution": {
     "iopub.execute_input": "2021-04-20T07:31:15.930782Z",
     "iopub.status.busy": "2021-04-20T07:31:15.930275Z",
     "iopub.status.idle": "2021-04-20T07:31:15.952060Z",
     "shell.execute_reply": "2021-04-20T07:31:15.951539Z"
    }
   },
   "outputs": [
    {
     "data": {
      "image/svg+xml": [
       "<?xml version=\"1.0\" encoding=\"UTF-8\" standalone=\"no\"?><svg xmlns=\"http://www.w3.org/2000/svg\" xmlns:xlink=\"http://www.w3.org/1999/xlink\" contentScriptType=\"application/ecmascript\" contentStyleType=\"text/css\" height=\"115px\" preserveAspectRatio=\"none\" style=\"width:136px;height:115px;\" version=\"1.1\" viewBox=\"0 0 136 115\" width=\"136px\" zoomAndPan=\"magnify\"><defs/><g><!--MD5=[fbc87193dbaf4d95561dea2c320d4a47]\n",
       "cluster E1--><a href=\"psysml:611624e7-c7ed-4f74-a421-b5a21d227404\" target=\"_top\" title=\"psysml:611624e7-c7ed-4f74-a421-b5a21d227404\" xlink:actuate=\"onRequest\" xlink:href=\"psysml:611624e7-c7ed-4f74-a421-b5a21d227404\" xlink:show=\"new\" xlink:title=\"psysml:611624e7-c7ed-4f74-a421-b5a21d227404\" xlink:type=\"simple\"><polygon fill=\"#FFFFFF\" points=\"16,6,42,6,49,28.2969,114,28.2969,114,103,16,103,16,6\" style=\"stroke: #000000; stroke-width: 1.5;\"/><line style=\"stroke: #000000; stroke-width: 1.5;\" x1=\"16\" x2=\"49\" y1=\"28.2969\" y2=\"28.2969\"/><text fill=\"#000000\" font-family=\"sans-serif\" font-size=\"14\" font-weight=\"bold\" lengthAdjust=\"spacingAndGlyphs\" textLength=\"20\" x=\"20\" y=\"20.9951\">P1</text></a><!--MD5=[b4997ac47864f28c2f74865a473b2911]\n",
       "class E2--><a href=\"psysml:2313e16f-2d10-449a-8d9c-49e73c1dbd71\" target=\"_top\" title=\"psysml:2313e16f-2d10-449a-8d9c-49e73c1dbd71\" xlink:actuate=\"onRequest\" xlink:href=\"psysml:2313e16f-2d10-449a-8d9c-49e73c1dbd71\" xlink:show=\"new\" xlink:title=\"psysml:2313e16f-2d10-449a-8d9c-49e73c1dbd71\" xlink:type=\"simple\"><rect fill=\"#FFFFFF\" height=\"45.9375\" id=\"E2\" style=\"stroke: #383838; stroke-width: 1.5;\" width=\"66\" x=\"32\" y=\"41\"/><text fill=\"#000000\" font-family=\"sans-serif\" font-size=\"12\" font-style=\"italic\" lengthAdjust=\"spacingAndGlyphs\" textLength=\"64\" x=\"33\" y=\"57.1387\">«part def»</text><text fill=\"#000000\" font-family=\"sans-serif\" font-size=\"12\" lengthAdjust=\"spacingAndGlyphs\" textLength=\"8\" x=\"61\" y=\"71.1074\">A</text><line style=\"stroke: #383838; stroke-width: 1.5;\" x1=\"33\" x2=\"97\" y1=\"78.9375\" y2=\"78.9375\"/></a><!--MD5=[eeeb0d37591bf542bbfc41e013d59c2f]\n",
       "@startuml\r\n",
       "skinparam linetype ortho\r\n",
       "skinparam monochrome true\r\n",
       "skinparam classbackgroundcolor white\r\n",
       "skinparam shadowing false\r\n",
       "skinparam wrapWidth 300\r\n",
       "hide circle\r\n",
       "\r\n",
       "package \"P1\" as E1  [[psysml:611624e7-c7ed-4f74-a421-b5a21d227404 ]]  {\r\n",
       "comp def \"A\" as E2  <<(T,blue)part def>> [[psysml:2313e16f-2d10-449a-8d9c-49e73c1dbd71 ]] {\r\n",
       "}\r\n",
       "}\r\n",
       "@enduml\r\n",
       "\n",
       "PlantUML version 1.2020.13(Sat Jun 13 12:26:38 UTC 2020)\n",
       "(EPL source distribution)\n",
       "Java Runtime: OpenJDK Runtime Environment\n",
       "JVM: OpenJDK 64-Bit Server VM\n",
       "Default Encoding: UTF-8\n",
       "Language: en\n",
       "Country: null\n",
       "--></g></svg>"
      ]
     },
     "execution_count": 52,
     "metadata": {},
     "output_type": "execute_result"
    }
   ],
   "source": [
    "%viz --style=\"ORTHOLINE\" --view=\"Tree\" \"P1\""
   ]
  },
  {
   "cell_type": "code",
   "execution_count": 53,
   "id": "458a9f2d",
   "metadata": {
    "execution": {
     "iopub.execute_input": "2021-04-20T07:31:16.001331Z",
     "iopub.status.busy": "2021-04-20T07:31:16.000581Z",
     "iopub.status.idle": "2021-04-20T07:31:16.005830Z",
     "shell.execute_reply": "2021-04-20T07:31:16.005474Z"
    }
   },
   "outputs": [
    {
     "data": {
      "image/svg+xml": [
       "<?xml version=\"1.0\" encoding=\"UTF-8\" standalone=\"no\"?><svg xmlns=\"http://www.w3.org/2000/svg\" xmlns:xlink=\"http://www.w3.org/1999/xlink\" contentScriptType=\"application/ecmascript\" contentStyleType=\"text/css\" height=\"12px\" preserveAspectRatio=\"none\" style=\"width:12px;height:12px;\" version=\"1.1\" viewBox=\"0 0 12 12\" width=\"12px\" zoomAndPan=\"magnify\"><defs/><g><!--MD5=[97d6f38768b311333d388e66b2b27985]\n",
       "@startuml\r\n",
       "skinparam linetype ortho\r\n",
       "skinparam monochrome true\r\n",
       "skinparam classbackgroundcolor white\r\n",
       "skinparam shadowing false\r\n",
       "skinparam wrapWidth 300\r\n",
       "hide circle\r\n",
       "\r\n",
       "@enduml\r\n",
       "\n",
       "PlantUML version 1.2020.13(Sat Jun 13 12:26:38 UTC 2020)\n",
       "(EPL source distribution)\n",
       "Java Runtime: OpenJDK Runtime Environment\n",
       "JVM: OpenJDK 64-Bit Server VM\n",
       "Default Encoding: UTF-8\n",
       "Language: en\n",
       "Country: null\n",
       "--></g></svg>"
      ]
     },
     "execution_count": 53,
     "metadata": {},
     "output_type": "execute_result"
    }
   ],
   "source": [
    "%viz --style=\"ORTHOLINE\" --view=\"State\" \"P1\""
   ]
  },
  {
   "cell_type": "code",
   "execution_count": 54,
   "id": "2ff75d7c",
   "metadata": {
    "execution": {
     "iopub.execute_input": "2021-04-20T07:31:16.057142Z",
     "iopub.status.busy": "2021-04-20T07:31:16.056683Z",
     "iopub.status.idle": "2021-04-20T07:31:16.083727Z",
     "shell.execute_reply": "2021-04-20T07:31:16.083310Z"
    }
   },
   "outputs": [
    {
     "data": {
      "image/svg+xml": [
       "<?xml version=\"1.0\" encoding=\"UTF-8\" standalone=\"no\"?><svg xmlns=\"http://www.w3.org/2000/svg\" xmlns:xlink=\"http://www.w3.org/1999/xlink\" contentScriptType=\"application/ecmascript\" contentStyleType=\"text/css\" height=\"112px\" preserveAspectRatio=\"none\" style=\"width:142px;height:112px;\" version=\"1.1\" viewBox=\"0 0 142 112\" width=\"142px\" zoomAndPan=\"magnify\"><defs/><g><!--MD5=[fbc87193dbaf4d95561dea2c320d4a47]\n",
       "cluster E1--><a href=\"psysml:611624e7-c7ed-4f74-a421-b5a21d227404\" target=\"_top\" title=\"psysml:611624e7-c7ed-4f74-a421-b5a21d227404\" xlink:actuate=\"onRequest\" xlink:href=\"psysml:611624e7-c7ed-4f74-a421-b5a21d227404\" xlink:show=\"new\" xlink:title=\"psysml:611624e7-c7ed-4f74-a421-b5a21d227404\" xlink:type=\"simple\"><polygon fill=\"#FFFFFF\" points=\"16,6,42,6,49,28.2969,120,28.2969,120,100,16,100,16,6\" style=\"stroke: #000000; stroke-width: 1.5;\"/><line style=\"stroke: #000000; stroke-width: 1.5;\" x1=\"16\" x2=\"49\" y1=\"28.2969\" y2=\"28.2969\"/><text fill=\"#000000\" font-family=\"sans-serif\" font-size=\"14\" font-weight=\"bold\" lengthAdjust=\"spacingAndGlyphs\" textLength=\"20\" x=\"20\" y=\"20.9951\">P1</text></a><g id=\"E1.E2\"><a href=\"psysml:2313e16f-2d10-449a-8d9c-49e73c1dbd71\" target=\"_top\" title=\"psysml:2313e16f-2d10-449a-8d9c-49e73c1dbd71\" xlink:actuate=\"onRequest\" xlink:href=\"psysml:2313e16f-2d10-449a-8d9c-49e73c1dbd71\" xlink:show=\"new\" xlink:title=\"psysml:2313e16f-2d10-449a-8d9c-49e73c1dbd71\" xlink:type=\"simple\"><rect fill=\"#FFFFFF\" height=\"42.9375\" id=\"E2\" style=\"stroke: #383838; stroke-width: 1.5;\" width=\"71\" x=\"32.5\" y=\"41\"/><rect fill=\"#F8F8F8\" height=\"37.9375\" style=\"stroke: #383838; stroke-width: 1.5;\" width=\"71\" x=\"32.5\" y=\"41\"/><text fill=\"#000000\" font-family=\"sans-serif\" font-size=\"12\" font-style=\"italic\" lengthAdjust=\"spacingAndGlyphs\" textLength=\"64\" x=\"36\" y=\"57.1387\">«part def»</text><text fill=\"#000000\" font-family=\"sans-serif\" font-size=\"12\" lengthAdjust=\"spacingAndGlyphs\" textLength=\"8\" x=\"64\" y=\"71.1074\">A</text></a></g><!--MD5=[cb262d934bb7b9704a071f511ed9d89e]\n",
       "@startuml\r\n",
       "skinparam ranksep 10\r\n",
       "skinparam rectangle {\r\n",
       " backgroundColor<<block>> LightGreen\r\n",
       "}\r\n",
       "skinparam linetype ortho\r\n",
       "skinparam monochrome true\r\n",
       "skinparam classbackgroundcolor white\r\n",
       "skinparam shadowing false\r\n",
       "skinparam wrapWidth 300\r\n",
       "hide circle\r\n",
       "\r\n",
       "package \"P1\" as E1  [[psysml:611624e7-c7ed-4f74-a421-b5a21d227404 ]]  {\r\n",
       "rec def \"A\" as E2  <<(T,blue)part def>> [[psysml:2313e16f-2d10-449a-8d9c-49e73c1dbd71 ]] {\r\n",
       "}\r\n",
       "}\r\n",
       "@enduml\r\n",
       "\n",
       "PlantUML version 1.2020.13(Sat Jun 13 12:26:38 UTC 2020)\n",
       "(EPL source distribution)\n",
       "Java Runtime: OpenJDK Runtime Environment\n",
       "JVM: OpenJDK 64-Bit Server VM\n",
       "Default Encoding: UTF-8\n",
       "Language: en\n",
       "Country: null\n",
       "--></g></svg>"
      ]
     },
     "execution_count": 54,
     "metadata": {},
     "output_type": "execute_result"
    }
   ],
   "source": [
    "%viz --style=\"ORTHOLINE\" --view=\"Interconnection\" \"P1\""
   ]
  },
  {
   "cell_type": "code",
   "execution_count": 55,
   "id": "11f35daf",
   "metadata": {
    "execution": {
     "iopub.execute_input": "2021-04-20T07:31:16.135150Z",
     "iopub.status.busy": "2021-04-20T07:31:16.134715Z",
     "iopub.status.idle": "2021-04-20T07:31:16.140696Z",
     "shell.execute_reply": "2021-04-20T07:31:16.139808Z"
    }
   },
   "outputs": [
    {
     "data": {
      "image/svg+xml": [
       "<?xml version=\"1.0\" encoding=\"UTF-8\" standalone=\"no\"?><svg xmlns=\"http://www.w3.org/2000/svg\" xmlns:xlink=\"http://www.w3.org/1999/xlink\" contentScriptType=\"application/ecmascript\" contentStyleType=\"text/css\" height=\"12px\" preserveAspectRatio=\"none\" style=\"width:12px;height:12px;\" version=\"1.1\" viewBox=\"0 0 12 12\" width=\"12px\" zoomAndPan=\"magnify\"><defs/><g><!--MD5=[72934c63077099a26744516a776b4749]\n",
       "@startuml\r\n",
       "skinparam ranksep 8\r\n",
       "skinparam linetype ortho\r\n",
       "skinparam monochrome true\r\n",
       "skinparam classbackgroundcolor white\r\n",
       "skinparam shadowing false\r\n",
       "skinparam wrapWidth 300\r\n",
       "hide circle\r\n",
       "\r\n",
       "@enduml\r\n",
       "\n",
       "PlantUML version 1.2020.13(Sat Jun 13 12:26:38 UTC 2020)\n",
       "(EPL source distribution)\n",
       "Java Runtime: OpenJDK Runtime Environment\n",
       "JVM: OpenJDK 64-Bit Server VM\n",
       "Default Encoding: UTF-8\n",
       "Language: en\n",
       "Country: null\n",
       "--></g></svg>"
      ]
     },
     "execution_count": 55,
     "metadata": {},
     "output_type": "execute_result"
    }
   ],
   "source": [
    "%viz --style=\"ORTHOLINE\" --view=\"Action\" \"P1\""
   ]
  },
  {
   "cell_type": "code",
   "execution_count": 56,
   "id": "5046f670",
   "metadata": {
    "execution": {
     "iopub.execute_input": "2021-04-20T07:31:16.193473Z",
     "iopub.status.busy": "2021-04-20T07:31:16.192078Z",
     "iopub.status.idle": "2021-04-20T07:31:16.215385Z",
     "shell.execute_reply": "2021-04-20T07:31:16.214394Z"
    }
   },
   "outputs": [
    {
     "data": {
      "image/svg+xml": [
       "<?xml version=\"1.0\" encoding=\"UTF-8\" standalone=\"no\"?><svg xmlns=\"http://www.w3.org/2000/svg\" xmlns:xlink=\"http://www.w3.org/1999/xlink\" contentScriptType=\"application/ecmascript\" contentStyleType=\"text/css\" height=\"115px\" preserveAspectRatio=\"none\" style=\"width:136px;height:115px;\" version=\"1.1\" viewBox=\"0 0 136 115\" width=\"136px\" zoomAndPan=\"magnify\"><defs/><g><!--MD5=[fbc87193dbaf4d95561dea2c320d4a47]\n",
       "cluster E1--><a href=\"psysml:611624e7-c7ed-4f74-a421-b5a21d227404\" target=\"_top\" title=\"psysml:611624e7-c7ed-4f74-a421-b5a21d227404\" xlink:actuate=\"onRequest\" xlink:href=\"psysml:611624e7-c7ed-4f74-a421-b5a21d227404\" xlink:show=\"new\" xlink:title=\"psysml:611624e7-c7ed-4f74-a421-b5a21d227404\" xlink:type=\"simple\"><polygon fill=\"#FFFFFF\" points=\"16,6,42,6,49,28.2969,114,28.2969,114,103,16,103,16,6\" style=\"stroke: #000000; stroke-width: 1.5;\"/><line style=\"stroke: #000000; stroke-width: 1.5;\" x1=\"16\" x2=\"49\" y1=\"28.2969\" y2=\"28.2969\"/><text fill=\"#000000\" font-family=\"sans-serif\" font-size=\"14\" font-weight=\"bold\" lengthAdjust=\"spacingAndGlyphs\" textLength=\"20\" x=\"20\" y=\"20.9951\">P1</text></a><!--MD5=[b4997ac47864f28c2f74865a473b2911]\n",
       "class E2--><a href=\"psysml:2313e16f-2d10-449a-8d9c-49e73c1dbd71\" target=\"_top\" title=\"psysml:2313e16f-2d10-449a-8d9c-49e73c1dbd71\" xlink:actuate=\"onRequest\" xlink:href=\"psysml:2313e16f-2d10-449a-8d9c-49e73c1dbd71\" xlink:show=\"new\" xlink:title=\"psysml:2313e16f-2d10-449a-8d9c-49e73c1dbd71\" xlink:type=\"simple\"><rect fill=\"#FFFFFF\" height=\"45.9375\" id=\"E2\" style=\"stroke: #383838; stroke-width: 1.5;\" width=\"66\" x=\"32\" y=\"41\"/><text fill=\"#000000\" font-family=\"sans-serif\" font-size=\"12\" font-style=\"italic\" lengthAdjust=\"spacingAndGlyphs\" textLength=\"64\" x=\"33\" y=\"57.1387\">«part def»</text><text fill=\"#000000\" font-family=\"sans-serif\" font-size=\"12\" lengthAdjust=\"spacingAndGlyphs\" textLength=\"8\" x=\"61\" y=\"71.1074\">A</text><line style=\"stroke: #383838; stroke-width: 1.5;\" x1=\"33\" x2=\"97\" y1=\"78.9375\" y2=\"78.9375\"/></a><!--MD5=[eeeb0d37591bf542bbfc41e013d59c2f]\n",
       "@startuml\r\n",
       "skinparam linetype ortho\r\n",
       "skinparam monochrome true\r\n",
       "skinparam classbackgroundcolor white\r\n",
       "skinparam shadowing false\r\n",
       "skinparam wrapWidth 300\r\n",
       "hide circle\r\n",
       "\r\n",
       "package \"P1\" as E1  [[psysml:611624e7-c7ed-4f74-a421-b5a21d227404 ]]  {\r\n",
       "comp def \"A\" as E2  <<(T,blue)part def>> [[psysml:2313e16f-2d10-449a-8d9c-49e73c1dbd71 ]] {\r\n",
       "}\r\n",
       "}\r\n",
       "@enduml\r\n",
       "\n",
       "PlantUML version 1.2020.13(Sat Jun 13 12:26:38 UTC 2020)\n",
       "(EPL source distribution)\n",
       "Java Runtime: OpenJDK Runtime Environment\n",
       "JVM: OpenJDK 64-Bit Server VM\n",
       "Default Encoding: UTF-8\n",
       "Language: en\n",
       "Country: null\n",
       "--></g></svg>"
      ]
     },
     "execution_count": 56,
     "metadata": {},
     "output_type": "execute_result"
    }
   ],
   "source": [
    "%viz --style=\"ORTHOLINE\" --view=\"Sequence\" \"P1\""
   ]
  },
  {
   "cell_type": "code",
   "execution_count": 57,
   "id": "f77091a0",
   "metadata": {
    "execution": {
     "iopub.execute_input": "2021-04-20T07:31:16.268327Z",
     "iopub.status.busy": "2021-04-20T07:31:16.267924Z",
     "iopub.status.idle": "2021-04-20T07:31:16.290003Z",
     "shell.execute_reply": "2021-04-20T07:31:16.289683Z"
    }
   },
   "outputs": [
    {
     "data": {
      "image/svg+xml": [
       "<?xml version=\"1.0\" encoding=\"UTF-8\" standalone=\"no\"?><svg xmlns=\"http://www.w3.org/2000/svg\" xmlns:xlink=\"http://www.w3.org/1999/xlink\" contentScriptType=\"application/ecmascript\" contentStyleType=\"text/css\" height=\"115px\" preserveAspectRatio=\"none\" style=\"width:136px;height:115px;\" version=\"1.1\" viewBox=\"0 0 136 115\" width=\"136px\" zoomAndPan=\"magnify\"><defs/><g><!--MD5=[fbc87193dbaf4d95561dea2c320d4a47]\n",
       "cluster E1--><a href=\"psysml:611624e7-c7ed-4f74-a421-b5a21d227404\" target=\"_top\" title=\"psysml:611624e7-c7ed-4f74-a421-b5a21d227404\" xlink:actuate=\"onRequest\" xlink:href=\"psysml:611624e7-c7ed-4f74-a421-b5a21d227404\" xlink:show=\"new\" xlink:title=\"psysml:611624e7-c7ed-4f74-a421-b5a21d227404\" xlink:type=\"simple\"><polygon fill=\"#FFFFFF\" points=\"16,6,42,6,49,28.2969,114,28.2969,114,103,16,103,16,6\" style=\"stroke: #000000; stroke-width: 1.5;\"/><line style=\"stroke: #000000; stroke-width: 1.5;\" x1=\"16\" x2=\"49\" y1=\"28.2969\" y2=\"28.2969\"/><text fill=\"#000000\" font-family=\"sans-serif\" font-size=\"14\" font-weight=\"bold\" lengthAdjust=\"spacingAndGlyphs\" textLength=\"20\" x=\"20\" y=\"20.9951\">P1</text></a><!--MD5=[b4997ac47864f28c2f74865a473b2911]\n",
       "class E2--><a href=\"psysml:2313e16f-2d10-449a-8d9c-49e73c1dbd71\" target=\"_top\" title=\"psysml:2313e16f-2d10-449a-8d9c-49e73c1dbd71\" xlink:actuate=\"onRequest\" xlink:href=\"psysml:2313e16f-2d10-449a-8d9c-49e73c1dbd71\" xlink:show=\"new\" xlink:title=\"psysml:2313e16f-2d10-449a-8d9c-49e73c1dbd71\" xlink:type=\"simple\"><rect fill=\"#FFFFFF\" height=\"45.9375\" id=\"E2\" style=\"stroke: #383838; stroke-width: 1.5;\" width=\"66\" x=\"32\" y=\"41\"/><text fill=\"#000000\" font-family=\"sans-serif\" font-size=\"12\" font-style=\"italic\" lengthAdjust=\"spacingAndGlyphs\" textLength=\"64\" x=\"33\" y=\"57.1387\">«part def»</text><text fill=\"#000000\" font-family=\"sans-serif\" font-size=\"12\" lengthAdjust=\"spacingAndGlyphs\" textLength=\"8\" x=\"61\" y=\"71.1074\">A</text><line style=\"stroke: #383838; stroke-width: 1.5;\" x1=\"33\" x2=\"97\" y1=\"78.9375\" y2=\"78.9375\"/></a><!--MD5=[eeeb0d37591bf542bbfc41e013d59c2f]\n",
       "@startuml\r\n",
       "skinparam linetype ortho\r\n",
       "skinparam monochrome true\r\n",
       "skinparam classbackgroundcolor white\r\n",
       "skinparam shadowing false\r\n",
       "skinparam wrapWidth 300\r\n",
       "hide circle\r\n",
       "\r\n",
       "package \"P1\" as E1  [[psysml:611624e7-c7ed-4f74-a421-b5a21d227404 ]]  {\r\n",
       "comp def \"A\" as E2  <<(T,blue)part def>> [[psysml:2313e16f-2d10-449a-8d9c-49e73c1dbd71 ]] {\r\n",
       "}\r\n",
       "}\r\n",
       "@enduml\r\n",
       "\n",
       "PlantUML version 1.2020.13(Sat Jun 13 12:26:38 UTC 2020)\n",
       "(EPL source distribution)\n",
       "Java Runtime: OpenJDK Runtime Environment\n",
       "JVM: OpenJDK 64-Bit Server VM\n",
       "Default Encoding: UTF-8\n",
       "Language: en\n",
       "Country: null\n",
       "--></g></svg>"
      ]
     },
     "execution_count": 57,
     "metadata": {},
     "output_type": "execute_result"
    }
   ],
   "source": [
    "%viz --style=\"ORTHOLINE\" --view=\"MIXED\" \"P1\""
   ]
  }
 ],
 "metadata": {
  "kernelspec": {
   "display_name": "SysML",
   "language": "sysml",
   "name": "sysml"
  },
  "language_info": {
   "codemirror_mode": "sysml",
   "file_extension": ".sysml",
   "mimetype": "text/x-sysml",
   "name": "SysML",
   "pygments_lexer": "java",
   "version": "1.0.0"
  }
 },
 "nbformat": 4,
 "nbformat_minor": 5
}
