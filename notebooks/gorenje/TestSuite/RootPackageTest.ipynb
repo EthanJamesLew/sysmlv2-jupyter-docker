{
 "cells": [
  {
   "cell_type": "markdown",
   "id": "c635c35f",
   "metadata": {},
   "source": [
    "# SysML v2 Test Suite\n",
    "\n",
    "This can notebook can be cleared using menu `Edit --> Clear All Outputs` and then all cells can be\n",
    "run using menu `Run --> Run All Cells`.\n",
    "\n",
    "**WARNING**: This file is generated, all modifications here will be ignored.\n"
   ]
  },
  {
   "cell_type": "markdown",
   "id": "26325bf8",
   "metadata": {},
   "source": [
    "## File: ../../sysml/src/examples/Simple Tests/RootPackageTest.sysml"
   ]
  },
  {
   "cell_type": "code",
   "execution_count": 1,
   "id": "f9d537b1",
   "metadata": {
    "execution": {
     "iopub.execute_input": "2022-05-19T08:45:45.836391Z",
     "iopub.status.busy": "2022-05-19T08:45:45.835281Z",
     "iopub.status.idle": "2022-05-19T08:45:45.962877Z",
     "shell.execute_reply": "2022-05-19T08:45:45.963325Z"
    }
   },
   "outputs": [
    {
     "data": {
      "text/plain": [
       "Package P1 (a8165327-1d39-4d0f-ab82-760e144b8575)\n",
       "Package P2 (b79e199a-9e26-4368-ac16-7b2b9b71a0a7)\n",
       "Package P3 (08137f98-8580-469f-8ca9-2b128285edf6)\n"
      ]
     },
     "execution_count": 1,
     "metadata": {},
     "output_type": "execute_result"
    }
   ],
   "source": [
    "package P1 {\n",
    "\tpart def A;\n",
    "}\n",
    "\n",
    "package P2 {\n",
    "\timport P1::*;\n",
    "\tpart a : A;\n",
    "}\n",
    "\n",
    "import P2::*;\n",
    "\n",
    "package P3 {\n",
    "\tpart b subsets a;\n",
    "}"
   ]
  },
  {
   "cell_type": "code",
   "execution_count": 2,
   "id": "8014a287",
   "metadata": {
    "execution": {
     "iopub.execute_input": "2022-05-19T08:45:46.013905Z",
     "iopub.status.busy": "2022-05-19T08:45:46.013405Z",
     "iopub.status.idle": "2022-05-19T08:45:46.465457Z",
     "shell.execute_reply": "2022-05-19T08:45:46.465028Z"
    }
   },
   "outputs": [
    {
     "data": {
      "image/svg+xml": [
       "<?xml version=\"1.0\" encoding=\"UTF-8\" standalone=\"no\"?><svg xmlns=\"http://www.w3.org/2000/svg\" xmlns:xlink=\"http://www.w3.org/1999/xlink\" contentScriptType=\"application/ecmascript\" contentStyleType=\"text/css\" height=\"115px\" preserveAspectRatio=\"none\" style=\"width:140px;height:115px;\" version=\"1.1\" viewBox=\"0 0 140 115\" width=\"140px\" zoomAndPan=\"magnify\"><defs/><g><!--MD5=[fbc87193dbaf4d95561dea2c320d4a47]\n",
       "cluster E1--><a href=\"psysml:a8165327-1d39-4d0f-ab82-760e144b8575\" target=\"_top\" title=\"psysml:a8165327-1d39-4d0f-ab82-760e144b8575\" xlink:actuate=\"onRequest\" xlink:href=\"psysml:a8165327-1d39-4d0f-ab82-760e144b8575\" xlink:show=\"new\" xlink:title=\"psysml:a8165327-1d39-4d0f-ab82-760e144b8575\" xlink:type=\"simple\"><polygon fill=\"#FFFFFF\" points=\"16,6,40,6,47,28.2969,118,28.2969,118,103,16,103,16,6\" style=\"stroke: #000000; stroke-width: 1.5;\"/><line style=\"stroke: #000000; stroke-width: 1.5;\" x1=\"16\" x2=\"47\" y1=\"28.2969\" y2=\"28.2969\"/><text fill=\"#000000\" font-family=\"sans-serif\" font-size=\"14\" font-weight=\"bold\" lengthAdjust=\"spacingAndGlyphs\" textLength=\"18\" x=\"20\" y=\"20.9951\">P1</text></a><!--MD5=[b4997ac47864f28c2f74865a473b2911]\n",
       "class E2--><a href=\"psysml:f3ff8d18-3866-4ad0-84e8-5fc2e50b87fe\" target=\"_top\" title=\"psysml:f3ff8d18-3866-4ad0-84e8-5fc2e50b87fe\" xlink:actuate=\"onRequest\" xlink:href=\"psysml:f3ff8d18-3866-4ad0-84e8-5fc2e50b87fe\" xlink:show=\"new\" xlink:title=\"psysml:f3ff8d18-3866-4ad0-84e8-5fc2e50b87fe\" xlink:type=\"simple\"><rect fill=\"#FFFFFF\" height=\"45.9375\" id=\"E2\" style=\"stroke: #383838; stroke-width: 1.5;\" width=\"70\" x=\"32\" y=\"41\"/><text fill=\"#000000\" font-family=\"sans-serif\" font-size=\"12\" font-style=\"italic\" lengthAdjust=\"spacingAndGlyphs\" textLength=\"68\" x=\"33\" y=\"57.1387\">«part  def»</text><text fill=\"#000000\" font-family=\"sans-serif\" font-size=\"12\" lengthAdjust=\"spacingAndGlyphs\" textLength=\"8\" x=\"63\" y=\"71.1074\">A</text><line style=\"stroke: #383838; stroke-width: 1.5;\" x1=\"33\" x2=\"101\" y1=\"78.9375\" y2=\"78.9375\"/></a><!--MD5=[62d85f4dcf39cebc9d38a36dbba07f54]\n",
       "@startuml\r\n",
       " skinparam monochrome true\r\n",
       "skinparam classbackgroundcolor white\r\n",
       "skinparam shadowing false\r\n",
       "skinparam wrapWidth 300\r\n",
       "hide circle\r\n",
       "\r\n",
       "package \"P1\" as E1  [[psysml:a8165327-1d39-4d0f-ab82-760e144b8575 ]]  {\r\n",
       "comp def \"A\" as E2  <<(T,blue) part  def>> [[psysml:f3ff8d18-3866-4ad0-84e8-5fc2e50b87fe ]] {\r\n",
       "}\r\n",
       "}\r\n",
       "@enduml\r\n",
       "\n",
       "PlantUML version 1.2020.13(Sat Jun 13 12:26:38 UTC 2020)\n",
       "(EPL source distribution)\n",
       "Java Runtime: OpenJDK Runtime Environment\n",
       "JVM: OpenJDK 64-Bit Server VM\n",
       "Default Encoding: UTF-8\n",
       "Language: en\n",
       "Country: null\n",
       "--></g></svg>"
      ]
     },
     "execution_count": 2,
     "metadata": {},
     "output_type": "execute_result"
    }
   ],
   "source": [
    "%viz --style=\"COMPTREE\" --view=\"Default\" \"P1\""
   ]
  },
  {
   "cell_type": "code",
   "execution_count": 3,
   "id": "119c10cc",
   "metadata": {
    "execution": {
     "iopub.execute_input": "2022-05-19T08:45:46.515243Z",
     "iopub.status.busy": "2022-05-19T08:45:46.514779Z",
     "iopub.status.idle": "2022-05-19T08:45:46.547525Z",
     "shell.execute_reply": "2022-05-19T08:45:46.547853Z"
    }
   },
   "outputs": [
    {
     "data": {
      "image/svg+xml": [
       "<?xml version=\"1.0\" encoding=\"UTF-8\" standalone=\"no\"?><svg xmlns=\"http://www.w3.org/2000/svg\" xmlns:xlink=\"http://www.w3.org/1999/xlink\" contentScriptType=\"application/ecmascript\" contentStyleType=\"text/css\" height=\"115px\" preserveAspectRatio=\"none\" style=\"width:140px;height:115px;\" version=\"1.1\" viewBox=\"0 0 140 115\" width=\"140px\" zoomAndPan=\"magnify\"><defs/><g><!--MD5=[fbc87193dbaf4d95561dea2c320d4a47]\n",
       "cluster E1--><a href=\"psysml:a8165327-1d39-4d0f-ab82-760e144b8575\" target=\"_top\" title=\"psysml:a8165327-1d39-4d0f-ab82-760e144b8575\" xlink:actuate=\"onRequest\" xlink:href=\"psysml:a8165327-1d39-4d0f-ab82-760e144b8575\" xlink:show=\"new\" xlink:title=\"psysml:a8165327-1d39-4d0f-ab82-760e144b8575\" xlink:type=\"simple\"><polygon fill=\"#FFFFFF\" points=\"16,6,40,6,47,28.2969,118,28.2969,118,103,16,103,16,6\" style=\"stroke: #000000; stroke-width: 1.5;\"/><line style=\"stroke: #000000; stroke-width: 1.5;\" x1=\"16\" x2=\"47\" y1=\"28.2969\" y2=\"28.2969\"/><text fill=\"#000000\" font-family=\"sans-serif\" font-size=\"14\" font-weight=\"bold\" lengthAdjust=\"spacingAndGlyphs\" textLength=\"18\" x=\"20\" y=\"20.9951\">P1</text></a><!--MD5=[b4997ac47864f28c2f74865a473b2911]\n",
       "class E2--><a href=\"psysml:f3ff8d18-3866-4ad0-84e8-5fc2e50b87fe\" target=\"_top\" title=\"psysml:f3ff8d18-3866-4ad0-84e8-5fc2e50b87fe\" xlink:actuate=\"onRequest\" xlink:href=\"psysml:f3ff8d18-3866-4ad0-84e8-5fc2e50b87fe\" xlink:show=\"new\" xlink:title=\"psysml:f3ff8d18-3866-4ad0-84e8-5fc2e50b87fe\" xlink:type=\"simple\"><rect fill=\"#FFFFFF\" height=\"45.9375\" id=\"E2\" style=\"stroke: #383838; stroke-width: 1.5;\" width=\"70\" x=\"32\" y=\"41\"/><text fill=\"#000000\" font-family=\"sans-serif\" font-size=\"12\" font-style=\"italic\" lengthAdjust=\"spacingAndGlyphs\" textLength=\"68\" x=\"33\" y=\"57.1387\">«part  def»</text><text fill=\"#000000\" font-family=\"sans-serif\" font-size=\"12\" lengthAdjust=\"spacingAndGlyphs\" textLength=\"8\" x=\"63\" y=\"71.1074\">A</text><line style=\"stroke: #383838; stroke-width: 1.5;\" x1=\"33\" x2=\"101\" y1=\"78.9375\" y2=\"78.9375\"/></a><!--MD5=[62d85f4dcf39cebc9d38a36dbba07f54]\n",
       "@startuml\r\n",
       " skinparam monochrome true\r\n",
       "skinparam classbackgroundcolor white\r\n",
       "skinparam shadowing false\r\n",
       "skinparam wrapWidth 300\r\n",
       "hide circle\r\n",
       "\r\n",
       "package \"P1\" as E1  [[psysml:a8165327-1d39-4d0f-ab82-760e144b8575 ]]  {\r\n",
       "comp def \"A\" as E2  <<(T,blue) part  def>> [[psysml:f3ff8d18-3866-4ad0-84e8-5fc2e50b87fe ]] {\r\n",
       "}\r\n",
       "}\r\n",
       "@enduml\r\n",
       "\n",
       "PlantUML version 1.2020.13(Sat Jun 13 12:26:38 UTC 2020)\n",
       "(EPL source distribution)\n",
       "Java Runtime: OpenJDK Runtime Environment\n",
       "JVM: OpenJDK 64-Bit Server VM\n",
       "Default Encoding: UTF-8\n",
       "Language: en\n",
       "Country: null\n",
       "--></g></svg>"
      ]
     },
     "execution_count": 3,
     "metadata": {},
     "output_type": "execute_result"
    }
   ],
   "source": [
    "%viz --style=\"COMPTREE\" --view=\"Tree\" \"P1\""
   ]
  },
  {
   "cell_type": "code",
   "execution_count": 4,
   "id": "c03f3fb8",
   "metadata": {
    "execution": {
     "iopub.execute_input": "2022-05-19T08:45:46.598560Z",
     "iopub.status.busy": "2022-05-19T08:45:46.598075Z",
     "iopub.status.idle": "2022-05-19T08:45:46.607488Z",
     "shell.execute_reply": "2022-05-19T08:45:46.607803Z"
    }
   },
   "outputs": [
    {
     "data": {
      "image/svg+xml": [
       "<?xml version=\"1.0\" encoding=\"UTF-8\" standalone=\"no\"?><svg xmlns=\"http://www.w3.org/2000/svg\" xmlns:xlink=\"http://www.w3.org/1999/xlink\" contentScriptType=\"application/ecmascript\" contentStyleType=\"text/css\" height=\"12px\" preserveAspectRatio=\"none\" style=\"width:12px;height:12px;\" version=\"1.1\" viewBox=\"0 0 12 12\" width=\"12px\" zoomAndPan=\"magnify\"><defs/><g><!--MD5=[f19188ef49e11757b5c46753f95d9edc]\n",
       "@startuml\r\n",
       " skinparam monochrome true\r\n",
       "skinparam classbackgroundcolor white\r\n",
       "skinparam shadowing false\r\n",
       "skinparam wrapWidth 300\r\n",
       "hide circle\r\n",
       "\r\n",
       "@enduml\r\n",
       "\n",
       "PlantUML version 1.2020.13(Sat Jun 13 12:26:38 UTC 2020)\n",
       "(EPL source distribution)\n",
       "Java Runtime: OpenJDK Runtime Environment\n",
       "JVM: OpenJDK 64-Bit Server VM\n",
       "Default Encoding: UTF-8\n",
       "Language: en\n",
       "Country: null\n",
       "--></g></svg>"
      ]
     },
     "execution_count": 4,
     "metadata": {},
     "output_type": "execute_result"
    }
   ],
   "source": [
    "%viz --style=\"COMPTREE\" --view=\"State\" \"P1\""
   ]
  },
  {
   "cell_type": "code",
   "execution_count": 5,
   "id": "e973b038",
   "metadata": {
    "execution": {
     "iopub.execute_input": "2022-05-19T08:45:46.658838Z",
     "iopub.status.busy": "2022-05-19T08:45:46.658393Z",
     "iopub.status.idle": "2022-05-19T08:45:46.695922Z",
     "shell.execute_reply": "2022-05-19T08:45:46.696244Z"
    }
   },
   "outputs": [
    {
     "data": {
      "image/svg+xml": [
       "<?xml version=\"1.0\" encoding=\"UTF-8\" standalone=\"no\"?><svg xmlns=\"http://www.w3.org/2000/svg\" xmlns:xlink=\"http://www.w3.org/1999/xlink\" contentScriptType=\"application/ecmascript\" contentStyleType=\"text/css\" height=\"112px\" preserveAspectRatio=\"none\" style=\"width:144px;height:112px;\" version=\"1.1\" viewBox=\"0 0 144 112\" width=\"144px\" zoomAndPan=\"magnify\"><defs/><g><!--MD5=[fbc87193dbaf4d95561dea2c320d4a47]\n",
       "cluster E1--><a href=\"psysml:a8165327-1d39-4d0f-ab82-760e144b8575\" target=\"_top\" title=\"psysml:a8165327-1d39-4d0f-ab82-760e144b8575\" xlink:actuate=\"onRequest\" xlink:href=\"psysml:a8165327-1d39-4d0f-ab82-760e144b8575\" xlink:show=\"new\" xlink:title=\"psysml:a8165327-1d39-4d0f-ab82-760e144b8575\" xlink:type=\"simple\"><polygon fill=\"#FFFFFF\" points=\"16,6,40,6,47,28.2969,122,28.2969,122,100,16,100,16,6\" style=\"stroke: #000000; stroke-width: 1.5;\"/><line style=\"stroke: #000000; stroke-width: 1.5;\" x1=\"16\" x2=\"47\" y1=\"28.2969\" y2=\"28.2969\"/><text fill=\"#000000\" font-family=\"sans-serif\" font-size=\"14\" font-weight=\"bold\" lengthAdjust=\"spacingAndGlyphs\" textLength=\"18\" x=\"20\" y=\"20.9951\">P1</text></a><g id=\"E1.E2\"><a href=\"psysml:f3ff8d18-3866-4ad0-84e8-5fc2e50b87fe\" target=\"_top\" title=\"psysml:f3ff8d18-3866-4ad0-84e8-5fc2e50b87fe\" xlink:actuate=\"onRequest\" xlink:href=\"psysml:f3ff8d18-3866-4ad0-84e8-5fc2e50b87fe\" xlink:show=\"new\" xlink:title=\"psysml:f3ff8d18-3866-4ad0-84e8-5fc2e50b87fe\" xlink:type=\"simple\"><rect fill=\"#FFFFFF\" height=\"42.9375\" id=\"E2\" style=\"stroke: #383838; stroke-width: 1.5;\" width=\"75\" x=\"31.5\" y=\"41\"/><rect fill=\"#F8F8F8\" height=\"37.9375\" style=\"stroke: #383838; stroke-width: 1.5;\" width=\"75\" x=\"31.5\" y=\"41\"/><text fill=\"#000000\" font-family=\"sans-serif\" font-size=\"12\" font-style=\"italic\" lengthAdjust=\"spacingAndGlyphs\" textLength=\"68\" x=\"35\" y=\"57.1387\">«part  def»</text><text fill=\"#000000\" font-family=\"sans-serif\" font-size=\"12\" lengthAdjust=\"spacingAndGlyphs\" textLength=\"8\" x=\"65\" y=\"71.1074\">A</text></a></g><!--MD5=[0c0da4c6790a11449936d8640d73a69f]\n",
       "@startuml\r\n",
       "skinparam ranksep 10\r\n",
       "skinparam rectangle {\r\n",
       " backgroundColor<<block>> LightGreen\r\n",
       "}\r\n",
       " skinparam monochrome true\r\n",
       "skinparam classbackgroundcolor white\r\n",
       "skinparam shadowing false\r\n",
       "skinparam wrapWidth 300\r\n",
       "hide circle\r\n",
       "\r\n",
       "package \"P1\" as E1  [[psysml:a8165327-1d39-4d0f-ab82-760e144b8575 ]]  {\r\n",
       "rec def \"A\" as E2  <<(T,blue) part  def>> [[psysml:f3ff8d18-3866-4ad0-84e8-5fc2e50b87fe ]] {\r\n",
       "}\r\n",
       "}\r\n",
       "@enduml\r\n",
       "\n",
       "PlantUML version 1.2020.13(Sat Jun 13 12:26:38 UTC 2020)\n",
       "(EPL source distribution)\n",
       "Java Runtime: OpenJDK Runtime Environment\n",
       "JVM: OpenJDK 64-Bit Server VM\n",
       "Default Encoding: UTF-8\n",
       "Language: en\n",
       "Country: null\n",
       "--></g></svg>"
      ]
     },
     "execution_count": 5,
     "metadata": {},
     "output_type": "execute_result"
    }
   ],
   "source": [
    "%viz --style=\"COMPTREE\" --view=\"Interconnection\" \"P1\""
   ]
  },
  {
   "cell_type": "code",
   "execution_count": 6,
   "id": "5880ff08",
   "metadata": {
    "execution": {
     "iopub.execute_input": "2022-05-19T08:45:46.746795Z",
     "iopub.status.busy": "2022-05-19T08:45:46.746347Z",
     "iopub.status.idle": "2022-05-19T08:45:46.753752Z",
     "shell.execute_reply": "2022-05-19T08:45:46.754063Z"
    }
   },
   "outputs": [
    {
     "data": {
      "image/svg+xml": [
       "<?xml version=\"1.0\" encoding=\"UTF-8\" standalone=\"no\"?><svg xmlns=\"http://www.w3.org/2000/svg\" xmlns:xlink=\"http://www.w3.org/1999/xlink\" contentScriptType=\"application/ecmascript\" contentStyleType=\"text/css\" height=\"12px\" preserveAspectRatio=\"none\" style=\"width:12px;height:12px;\" version=\"1.1\" viewBox=\"0 0 12 12\" width=\"12px\" zoomAndPan=\"magnify\"><defs/><g><!--MD5=[655b888544ca4751ea36af1068543f84]\n",
       "@startuml\r\n",
       "skinparam ranksep 8\r\n",
       " skinparam monochrome true\r\n",
       "skinparam classbackgroundcolor white\r\n",
       "skinparam shadowing false\r\n",
       "skinparam wrapWidth 300\r\n",
       "hide circle\r\n",
       "\r\n",
       "@enduml\r\n",
       "\n",
       "PlantUML version 1.2020.13(Sat Jun 13 12:26:38 UTC 2020)\n",
       "(EPL source distribution)\n",
       "Java Runtime: OpenJDK Runtime Environment\n",
       "JVM: OpenJDK 64-Bit Server VM\n",
       "Default Encoding: UTF-8\n",
       "Language: en\n",
       "Country: null\n",
       "--></g></svg>"
      ]
     },
     "execution_count": 6,
     "metadata": {},
     "output_type": "execute_result"
    }
   ],
   "source": [
    "%viz --style=\"COMPTREE\" --view=\"Action\" \"P1\""
   ]
  },
  {
   "cell_type": "code",
   "execution_count": 7,
   "id": "cb5296e7",
   "metadata": {
    "execution": {
     "iopub.execute_input": "2022-05-19T08:45:46.804705Z",
     "iopub.status.busy": "2022-05-19T08:45:46.804245Z",
     "iopub.status.idle": "2022-05-19T08:45:46.816335Z",
     "shell.execute_reply": "2022-05-19T08:45:46.816659Z"
    }
   },
   "outputs": [
    {
     "data": {
      "image/svg+xml": [
       "<?xml version=\"1.0\" encoding=\"UTF-8\" standalone=\"no\"?><svg xmlns=\"http://www.w3.org/2000/svg\" xmlns:xlink=\"http://www.w3.org/1999/xlink\" contentScriptType=\"application/ecmascript\" contentStyleType=\"text/css\" height=\"12px\" preserveAspectRatio=\"none\" style=\"width:12px;height:12px;\" version=\"1.1\" viewBox=\"0 0 12 12\" width=\"12px\" zoomAndPan=\"magnify\"><defs/><g><!--MD5=[803fc46c337be7a5c8a9831e35356779]\n",
       "@startuml\r\n",
       "skinparam roundcorner 20\r\n",
       "skinparam BoxPadding 20\r\n",
       "skinparam SequenceBoxBackgroundColor #white\r\n",
       "skinparam style strictuml\r\n",
       "skinparam maxMessageSize 100\r\n",
       " skinparam monochrome true\r\n",
       "skinparam classbackgroundcolor white\r\n",
       "skinparam shadowing false\r\n",
       "skinparam wrapWidth 300\r\n",
       "hide circle\r\n",
       "\r\n",
       "@enduml\r\n",
       "\n",
       "PlantUML version 1.2020.13(Sat Jun 13 12:26:38 UTC 2020)\n",
       "(EPL source distribution)\n",
       "Java Runtime: OpenJDK Runtime Environment\n",
       "JVM: OpenJDK 64-Bit Server VM\n",
       "Default Encoding: UTF-8\n",
       "Language: en\n",
       "Country: null\n",
       "--></g></svg>"
      ]
     },
     "execution_count": 7,
     "metadata": {},
     "output_type": "execute_result"
    }
   ],
   "source": [
    "%viz --style=\"COMPTREE\" --view=\"Sequence\" \"P1\""
   ]
  },
  {
   "cell_type": "code",
   "execution_count": 8,
   "id": "f447a6d8",
   "metadata": {
    "execution": {
     "iopub.execute_input": "2022-05-19T08:45:46.867168Z",
     "iopub.status.busy": "2022-05-19T08:45:46.866720Z",
     "iopub.status.idle": "2022-05-19T08:45:46.895481Z",
     "shell.execute_reply": "2022-05-19T08:45:46.895094Z"
    }
   },
   "outputs": [
    {
     "data": {
      "image/svg+xml": [
       "<?xml version=\"1.0\" encoding=\"UTF-8\" standalone=\"no\"?><svg xmlns=\"http://www.w3.org/2000/svg\" xmlns:xlink=\"http://www.w3.org/1999/xlink\" contentScriptType=\"application/ecmascript\" contentStyleType=\"text/css\" height=\"115px\" preserveAspectRatio=\"none\" style=\"width:140px;height:115px;\" version=\"1.1\" viewBox=\"0 0 140 115\" width=\"140px\" zoomAndPan=\"magnify\"><defs/><g><!--MD5=[fbc87193dbaf4d95561dea2c320d4a47]\n",
       "cluster E1--><a href=\"psysml:a8165327-1d39-4d0f-ab82-760e144b8575\" target=\"_top\" title=\"psysml:a8165327-1d39-4d0f-ab82-760e144b8575\" xlink:actuate=\"onRequest\" xlink:href=\"psysml:a8165327-1d39-4d0f-ab82-760e144b8575\" xlink:show=\"new\" xlink:title=\"psysml:a8165327-1d39-4d0f-ab82-760e144b8575\" xlink:type=\"simple\"><polygon fill=\"#FFFFFF\" points=\"16,6,40,6,47,28.2969,118,28.2969,118,103,16,103,16,6\" style=\"stroke: #000000; stroke-width: 1.5;\"/><line style=\"stroke: #000000; stroke-width: 1.5;\" x1=\"16\" x2=\"47\" y1=\"28.2969\" y2=\"28.2969\"/><text fill=\"#000000\" font-family=\"sans-serif\" font-size=\"14\" font-weight=\"bold\" lengthAdjust=\"spacingAndGlyphs\" textLength=\"18\" x=\"20\" y=\"20.9951\">P1</text></a><!--MD5=[b4997ac47864f28c2f74865a473b2911]\n",
       "class E2--><a href=\"psysml:f3ff8d18-3866-4ad0-84e8-5fc2e50b87fe\" target=\"_top\" title=\"psysml:f3ff8d18-3866-4ad0-84e8-5fc2e50b87fe\" xlink:actuate=\"onRequest\" xlink:href=\"psysml:f3ff8d18-3866-4ad0-84e8-5fc2e50b87fe\" xlink:show=\"new\" xlink:title=\"psysml:f3ff8d18-3866-4ad0-84e8-5fc2e50b87fe\" xlink:type=\"simple\"><rect fill=\"#FFFFFF\" height=\"45.9375\" id=\"E2\" style=\"stroke: #383838; stroke-width: 1.5;\" width=\"70\" x=\"32\" y=\"41\"/><text fill=\"#000000\" font-family=\"sans-serif\" font-size=\"12\" font-style=\"italic\" lengthAdjust=\"spacingAndGlyphs\" textLength=\"68\" x=\"33\" y=\"57.1387\">«part  def»</text><text fill=\"#000000\" font-family=\"sans-serif\" font-size=\"12\" lengthAdjust=\"spacingAndGlyphs\" textLength=\"8\" x=\"63\" y=\"71.1074\">A</text><line style=\"stroke: #383838; stroke-width: 1.5;\" x1=\"33\" x2=\"101\" y1=\"78.9375\" y2=\"78.9375\"/></a><!--MD5=[62d85f4dcf39cebc9d38a36dbba07f54]\n",
       "@startuml\r\n",
       " skinparam monochrome true\r\n",
       "skinparam classbackgroundcolor white\r\n",
       "skinparam shadowing false\r\n",
       "skinparam wrapWidth 300\r\n",
       "hide circle\r\n",
       "\r\n",
       "package \"P1\" as E1  [[psysml:a8165327-1d39-4d0f-ab82-760e144b8575 ]]  {\r\n",
       "comp def \"A\" as E2  <<(T,blue) part  def>> [[psysml:f3ff8d18-3866-4ad0-84e8-5fc2e50b87fe ]] {\r\n",
       "}\r\n",
       "}\r\n",
       "@enduml\r\n",
       "\n",
       "PlantUML version 1.2020.13(Sat Jun 13 12:26:38 UTC 2020)\n",
       "(EPL source distribution)\n",
       "Java Runtime: OpenJDK Runtime Environment\n",
       "JVM: OpenJDK 64-Bit Server VM\n",
       "Default Encoding: UTF-8\n",
       "Language: en\n",
       "Country: null\n",
       "--></g></svg>"
      ]
     },
     "execution_count": 8,
     "metadata": {},
     "output_type": "execute_result"
    }
   ],
   "source": [
    "%viz --style=\"COMPTREE\" --view=\"MIXED\" \"P1\""
   ]
  },
  {
   "cell_type": "code",
   "execution_count": 9,
   "id": "12c44fb3",
   "metadata": {
    "execution": {
     "iopub.execute_input": "2022-05-19T08:45:46.945291Z",
     "iopub.status.busy": "2022-05-19T08:45:46.944846Z",
     "iopub.status.idle": "2022-05-19T08:45:46.972674Z",
     "shell.execute_reply": "2022-05-19T08:45:46.972267Z"
    }
   },
   "outputs": [
    {
     "data": {
      "image/svg+xml": [
       "<?xml version=\"1.0\" encoding=\"UTF-8\" standalone=\"no\"?><svg xmlns=\"http://www.w3.org/2000/svg\" xmlns:xlink=\"http://www.w3.org/1999/xlink\" contentScriptType=\"application/ecmascript\" contentStyleType=\"text/css\" height=\"115px\" preserveAspectRatio=\"none\" style=\"width:140px;height:115px;\" version=\"1.1\" viewBox=\"0 0 140 115\" width=\"140px\" zoomAndPan=\"magnify\"><defs/><g><!--MD5=[fbc87193dbaf4d95561dea2c320d4a47]\n",
       "cluster E1--><a href=\"psysml:a8165327-1d39-4d0f-ab82-760e144b8575\" target=\"_top\" title=\"psysml:a8165327-1d39-4d0f-ab82-760e144b8575\" xlink:actuate=\"onRequest\" xlink:href=\"psysml:a8165327-1d39-4d0f-ab82-760e144b8575\" xlink:show=\"new\" xlink:title=\"psysml:a8165327-1d39-4d0f-ab82-760e144b8575\" xlink:type=\"simple\"><polygon fill=\"#FFFFFF\" points=\"16,6,40,6,47,28.2969,118,28.2969,118,103,16,103,16,6\" style=\"stroke: #000000; stroke-width: 1.5;\"/><line style=\"stroke: #000000; stroke-width: 1.5;\" x1=\"16\" x2=\"47\" y1=\"28.2969\" y2=\"28.2969\"/><text fill=\"#000000\" font-family=\"sans-serif\" font-size=\"14\" font-weight=\"bold\" lengthAdjust=\"spacingAndGlyphs\" textLength=\"18\" x=\"20\" y=\"20.9951\">P1</text></a><!--MD5=[b4997ac47864f28c2f74865a473b2911]\n",
       "class E2--><a href=\"psysml:f3ff8d18-3866-4ad0-84e8-5fc2e50b87fe\" target=\"_top\" title=\"psysml:f3ff8d18-3866-4ad0-84e8-5fc2e50b87fe\" xlink:actuate=\"onRequest\" xlink:href=\"psysml:f3ff8d18-3866-4ad0-84e8-5fc2e50b87fe\" xlink:show=\"new\" xlink:title=\"psysml:f3ff8d18-3866-4ad0-84e8-5fc2e50b87fe\" xlink:type=\"simple\"><rect fill=\"#FFFFFF\" height=\"45.9375\" id=\"E2\" style=\"stroke: #383838; stroke-width: 1.5;\" width=\"70\" x=\"32\" y=\"41\"/><text fill=\"#000000\" font-family=\"sans-serif\" font-size=\"12\" font-style=\"italic\" lengthAdjust=\"spacingAndGlyphs\" textLength=\"68\" x=\"33\" y=\"57.1387\">«part  def»</text><text fill=\"#000000\" font-family=\"sans-serif\" font-size=\"12\" lengthAdjust=\"spacingAndGlyphs\" textLength=\"8\" x=\"63\" y=\"71.1074\">A</text><line style=\"stroke: #383838; stroke-width: 1.5;\" x1=\"33\" x2=\"101\" y1=\"78.9375\" y2=\"78.9375\"/></a><!--MD5=[d62575546df690eda4c77306ab8e1649]\n",
       "@startuml\r\n",
       "skinparam linetype polyline\r\n",
       "skinparam monochrome true\r\n",
       "skinparam classbackgroundcolor white\r\n",
       "skinparam shadowing false\r\n",
       "skinparam wrapWidth 300\r\n",
       "hide circle\r\n",
       "\r\n",
       "package \"P1\" as E1  [[psysml:a8165327-1d39-4d0f-ab82-760e144b8575 ]]  {\r\n",
       "comp def \"A\" as E2  <<(T,blue) part  def>> [[psysml:f3ff8d18-3866-4ad0-84e8-5fc2e50b87fe ]] {\r\n",
       "}\r\n",
       "}\r\n",
       "@enduml\r\n",
       "\n",
       "PlantUML version 1.2020.13(Sat Jun 13 12:26:38 UTC 2020)\n",
       "(EPL source distribution)\n",
       "Java Runtime: OpenJDK Runtime Environment\n",
       "JVM: OpenJDK 64-Bit Server VM\n",
       "Default Encoding: UTF-8\n",
       "Language: en\n",
       "Country: null\n",
       "--></g></svg>"
      ]
     },
     "execution_count": 9,
     "metadata": {},
     "output_type": "execute_result"
    }
   ],
   "source": [
    "%viz --style=\"POLYLINE\" --view=\"Default\" \"P1\""
   ]
  },
  {
   "cell_type": "code",
   "execution_count": 10,
   "id": "7f7718dc",
   "metadata": {
    "execution": {
     "iopub.execute_input": "2022-05-19T08:45:47.022895Z",
     "iopub.status.busy": "2022-05-19T08:45:47.022451Z",
     "iopub.status.idle": "2022-05-19T08:45:47.050256Z",
     "shell.execute_reply": "2022-05-19T08:45:47.049874Z"
    }
   },
   "outputs": [
    {
     "data": {
      "image/svg+xml": [
       "<?xml version=\"1.0\" encoding=\"UTF-8\" standalone=\"no\"?><svg xmlns=\"http://www.w3.org/2000/svg\" xmlns:xlink=\"http://www.w3.org/1999/xlink\" contentScriptType=\"application/ecmascript\" contentStyleType=\"text/css\" height=\"115px\" preserveAspectRatio=\"none\" style=\"width:140px;height:115px;\" version=\"1.1\" viewBox=\"0 0 140 115\" width=\"140px\" zoomAndPan=\"magnify\"><defs/><g><!--MD5=[fbc87193dbaf4d95561dea2c320d4a47]\n",
       "cluster E1--><a href=\"psysml:a8165327-1d39-4d0f-ab82-760e144b8575\" target=\"_top\" title=\"psysml:a8165327-1d39-4d0f-ab82-760e144b8575\" xlink:actuate=\"onRequest\" xlink:href=\"psysml:a8165327-1d39-4d0f-ab82-760e144b8575\" xlink:show=\"new\" xlink:title=\"psysml:a8165327-1d39-4d0f-ab82-760e144b8575\" xlink:type=\"simple\"><polygon fill=\"#FFFFFF\" points=\"16,6,40,6,47,28.2969,118,28.2969,118,103,16,103,16,6\" style=\"stroke: #000000; stroke-width: 1.5;\"/><line style=\"stroke: #000000; stroke-width: 1.5;\" x1=\"16\" x2=\"47\" y1=\"28.2969\" y2=\"28.2969\"/><text fill=\"#000000\" font-family=\"sans-serif\" font-size=\"14\" font-weight=\"bold\" lengthAdjust=\"spacingAndGlyphs\" textLength=\"18\" x=\"20\" y=\"20.9951\">P1</text></a><!--MD5=[b4997ac47864f28c2f74865a473b2911]\n",
       "class E2--><a href=\"psysml:f3ff8d18-3866-4ad0-84e8-5fc2e50b87fe\" target=\"_top\" title=\"psysml:f3ff8d18-3866-4ad0-84e8-5fc2e50b87fe\" xlink:actuate=\"onRequest\" xlink:href=\"psysml:f3ff8d18-3866-4ad0-84e8-5fc2e50b87fe\" xlink:show=\"new\" xlink:title=\"psysml:f3ff8d18-3866-4ad0-84e8-5fc2e50b87fe\" xlink:type=\"simple\"><rect fill=\"#FFFFFF\" height=\"45.9375\" id=\"E2\" style=\"stroke: #383838; stroke-width: 1.5;\" width=\"70\" x=\"32\" y=\"41\"/><text fill=\"#000000\" font-family=\"sans-serif\" font-size=\"12\" font-style=\"italic\" lengthAdjust=\"spacingAndGlyphs\" textLength=\"68\" x=\"33\" y=\"57.1387\">«part  def»</text><text fill=\"#000000\" font-family=\"sans-serif\" font-size=\"12\" lengthAdjust=\"spacingAndGlyphs\" textLength=\"8\" x=\"63\" y=\"71.1074\">A</text><line style=\"stroke: #383838; stroke-width: 1.5;\" x1=\"33\" x2=\"101\" y1=\"78.9375\" y2=\"78.9375\"/></a><!--MD5=[d62575546df690eda4c77306ab8e1649]\n",
       "@startuml\r\n",
       "skinparam linetype polyline\r\n",
       "skinparam monochrome true\r\n",
       "skinparam classbackgroundcolor white\r\n",
       "skinparam shadowing false\r\n",
       "skinparam wrapWidth 300\r\n",
       "hide circle\r\n",
       "\r\n",
       "package \"P1\" as E1  [[psysml:a8165327-1d39-4d0f-ab82-760e144b8575 ]]  {\r\n",
       "comp def \"A\" as E2  <<(T,blue) part  def>> [[psysml:f3ff8d18-3866-4ad0-84e8-5fc2e50b87fe ]] {\r\n",
       "}\r\n",
       "}\r\n",
       "@enduml\r\n",
       "\n",
       "PlantUML version 1.2020.13(Sat Jun 13 12:26:38 UTC 2020)\n",
       "(EPL source distribution)\n",
       "Java Runtime: OpenJDK Runtime Environment\n",
       "JVM: OpenJDK 64-Bit Server VM\n",
       "Default Encoding: UTF-8\n",
       "Language: en\n",
       "Country: null\n",
       "--></g></svg>"
      ]
     },
     "execution_count": 10,
     "metadata": {},
     "output_type": "execute_result"
    }
   ],
   "source": [
    "%viz --style=\"POLYLINE\" --view=\"Tree\" \"P1\""
   ]
  },
  {
   "cell_type": "code",
   "execution_count": 11,
   "id": "b596abc5",
   "metadata": {
    "execution": {
     "iopub.execute_input": "2022-05-19T08:45:47.100319Z",
     "iopub.status.busy": "2022-05-19T08:45:47.099867Z",
     "iopub.status.idle": "2022-05-19T08:45:47.106491Z",
     "shell.execute_reply": "2022-05-19T08:45:47.106808Z"
    }
   },
   "outputs": [
    {
     "data": {
      "image/svg+xml": [
       "<?xml version=\"1.0\" encoding=\"UTF-8\" standalone=\"no\"?><svg xmlns=\"http://www.w3.org/2000/svg\" xmlns:xlink=\"http://www.w3.org/1999/xlink\" contentScriptType=\"application/ecmascript\" contentStyleType=\"text/css\" height=\"12px\" preserveAspectRatio=\"none\" style=\"width:12px;height:12px;\" version=\"1.1\" viewBox=\"0 0 12 12\" width=\"12px\" zoomAndPan=\"magnify\"><defs/><g><!--MD5=[896ac0e7a515d8dd7765a661cb4ee08b]\n",
       "@startuml\r\n",
       "skinparam linetype polyline\r\n",
       "skinparam monochrome true\r\n",
       "skinparam classbackgroundcolor white\r\n",
       "skinparam shadowing false\r\n",
       "skinparam wrapWidth 300\r\n",
       "hide circle\r\n",
       "\r\n",
       "@enduml\r\n",
       "\n",
       "PlantUML version 1.2020.13(Sat Jun 13 12:26:38 UTC 2020)\n",
       "(EPL source distribution)\n",
       "Java Runtime: OpenJDK Runtime Environment\n",
       "JVM: OpenJDK 64-Bit Server VM\n",
       "Default Encoding: UTF-8\n",
       "Language: en\n",
       "Country: null\n",
       "--></g></svg>"
      ]
     },
     "execution_count": 11,
     "metadata": {},
     "output_type": "execute_result"
    }
   ],
   "source": [
    "%viz --style=\"POLYLINE\" --view=\"State\" \"P1\""
   ]
  },
  {
   "cell_type": "code",
   "execution_count": 12,
   "id": "ed8a148b",
   "metadata": {
    "execution": {
     "iopub.execute_input": "2022-05-19T08:45:47.157129Z",
     "iopub.status.busy": "2022-05-19T08:45:47.156685Z",
     "iopub.status.idle": "2022-05-19T08:45:47.182875Z",
     "shell.execute_reply": "2022-05-19T08:45:47.183189Z"
    }
   },
   "outputs": [
    {
     "data": {
      "image/svg+xml": [
       "<?xml version=\"1.0\" encoding=\"UTF-8\" standalone=\"no\"?><svg xmlns=\"http://www.w3.org/2000/svg\" xmlns:xlink=\"http://www.w3.org/1999/xlink\" contentScriptType=\"application/ecmascript\" contentStyleType=\"text/css\" height=\"112px\" preserveAspectRatio=\"none\" style=\"width:144px;height:112px;\" version=\"1.1\" viewBox=\"0 0 144 112\" width=\"144px\" zoomAndPan=\"magnify\"><defs/><g><!--MD5=[fbc87193dbaf4d95561dea2c320d4a47]\n",
       "cluster E1--><a href=\"psysml:a8165327-1d39-4d0f-ab82-760e144b8575\" target=\"_top\" title=\"psysml:a8165327-1d39-4d0f-ab82-760e144b8575\" xlink:actuate=\"onRequest\" xlink:href=\"psysml:a8165327-1d39-4d0f-ab82-760e144b8575\" xlink:show=\"new\" xlink:title=\"psysml:a8165327-1d39-4d0f-ab82-760e144b8575\" xlink:type=\"simple\"><polygon fill=\"#FFFFFF\" points=\"16,6,40,6,47,28.2969,122,28.2969,122,100,16,100,16,6\" style=\"stroke: #000000; stroke-width: 1.5;\"/><line style=\"stroke: #000000; stroke-width: 1.5;\" x1=\"16\" x2=\"47\" y1=\"28.2969\" y2=\"28.2969\"/><text fill=\"#000000\" font-family=\"sans-serif\" font-size=\"14\" font-weight=\"bold\" lengthAdjust=\"spacingAndGlyphs\" textLength=\"18\" x=\"20\" y=\"20.9951\">P1</text></a><g id=\"E1.E2\"><a href=\"psysml:f3ff8d18-3866-4ad0-84e8-5fc2e50b87fe\" target=\"_top\" title=\"psysml:f3ff8d18-3866-4ad0-84e8-5fc2e50b87fe\" xlink:actuate=\"onRequest\" xlink:href=\"psysml:f3ff8d18-3866-4ad0-84e8-5fc2e50b87fe\" xlink:show=\"new\" xlink:title=\"psysml:f3ff8d18-3866-4ad0-84e8-5fc2e50b87fe\" xlink:type=\"simple\"><rect fill=\"#FFFFFF\" height=\"42.9375\" id=\"E2\" style=\"stroke: #383838; stroke-width: 1.5;\" width=\"75\" x=\"31.5\" y=\"41\"/><rect fill=\"#F8F8F8\" height=\"37.9375\" style=\"stroke: #383838; stroke-width: 1.5;\" width=\"75\" x=\"31.5\" y=\"41\"/><text fill=\"#000000\" font-family=\"sans-serif\" font-size=\"12\" font-style=\"italic\" lengthAdjust=\"spacingAndGlyphs\" textLength=\"68\" x=\"35\" y=\"57.1387\">«part  def»</text><text fill=\"#000000\" font-family=\"sans-serif\" font-size=\"12\" lengthAdjust=\"spacingAndGlyphs\" textLength=\"8\" x=\"65\" y=\"71.1074\">A</text></a></g><!--MD5=[5135eb80c448ad836132a035bbe6bbfb]\n",
       "@startuml\r\n",
       "skinparam ranksep 10\r\n",
       "skinparam rectangle {\r\n",
       " backgroundColor<<block>> LightGreen\r\n",
       "}\r\n",
       "skinparam linetype polyline\r\n",
       "skinparam monochrome true\r\n",
       "skinparam classbackgroundcolor white\r\n",
       "skinparam shadowing false\r\n",
       "skinparam wrapWidth 300\r\n",
       "hide circle\r\n",
       "\r\n",
       "package \"P1\" as E1  [[psysml:a8165327-1d39-4d0f-ab82-760e144b8575 ]]  {\r\n",
       "rec def \"A\" as E2  <<(T,blue) part  def>> [[psysml:f3ff8d18-3866-4ad0-84e8-5fc2e50b87fe ]] {\r\n",
       "}\r\n",
       "}\r\n",
       "@enduml\r\n",
       "\n",
       "PlantUML version 1.2020.13(Sat Jun 13 12:26:38 UTC 2020)\n",
       "(EPL source distribution)\n",
       "Java Runtime: OpenJDK Runtime Environment\n",
       "JVM: OpenJDK 64-Bit Server VM\n",
       "Default Encoding: UTF-8\n",
       "Language: en\n",
       "Country: null\n",
       "--></g></svg>"
      ]
     },
     "execution_count": 12,
     "metadata": {},
     "output_type": "execute_result"
    }
   ],
   "source": [
    "%viz --style=\"POLYLINE\" --view=\"Interconnection\" \"P1\""
   ]
  },
  {
   "cell_type": "code",
   "execution_count": 13,
   "id": "8759a63d",
   "metadata": {
    "execution": {
     "iopub.execute_input": "2022-05-19T08:45:47.233683Z",
     "iopub.status.busy": "2022-05-19T08:45:47.233238Z",
     "iopub.status.idle": "2022-05-19T08:45:47.238966Z",
     "shell.execute_reply": "2022-05-19T08:45:47.239284Z"
    }
   },
   "outputs": [
    {
     "data": {
      "image/svg+xml": [
       "<?xml version=\"1.0\" encoding=\"UTF-8\" standalone=\"no\"?><svg xmlns=\"http://www.w3.org/2000/svg\" xmlns:xlink=\"http://www.w3.org/1999/xlink\" contentScriptType=\"application/ecmascript\" contentStyleType=\"text/css\" height=\"12px\" preserveAspectRatio=\"none\" style=\"width:12px;height:12px;\" version=\"1.1\" viewBox=\"0 0 12 12\" width=\"12px\" zoomAndPan=\"magnify\"><defs/><g><!--MD5=[97bbf32f66ccd50cbc40d92ea8f5a65e]\n",
       "@startuml\r\n",
       "skinparam ranksep 8\r\n",
       "skinparam linetype polyline\r\n",
       "skinparam monochrome true\r\n",
       "skinparam classbackgroundcolor white\r\n",
       "skinparam shadowing false\r\n",
       "skinparam wrapWidth 300\r\n",
       "hide circle\r\n",
       "\r\n",
       "@enduml\r\n",
       "\n",
       "PlantUML version 1.2020.13(Sat Jun 13 12:26:38 UTC 2020)\n",
       "(EPL source distribution)\n",
       "Java Runtime: OpenJDK Runtime Environment\n",
       "JVM: OpenJDK 64-Bit Server VM\n",
       "Default Encoding: UTF-8\n",
       "Language: en\n",
       "Country: null\n",
       "--></g></svg>"
      ]
     },
     "execution_count": 13,
     "metadata": {},
     "output_type": "execute_result"
    }
   ],
   "source": [
    "%viz --style=\"POLYLINE\" --view=\"Action\" \"P1\""
   ]
  },
  {
   "cell_type": "code",
   "execution_count": 14,
   "id": "ccc0f7ea",
   "metadata": {
    "execution": {
     "iopub.execute_input": "2022-05-19T08:45:47.289532Z",
     "iopub.status.busy": "2022-05-19T08:45:47.289091Z",
     "iopub.status.idle": "2022-05-19T08:45:47.295315Z",
     "shell.execute_reply": "2022-05-19T08:45:47.295624Z"
    }
   },
   "outputs": [
    {
     "data": {
      "image/svg+xml": [
       "<?xml version=\"1.0\" encoding=\"UTF-8\" standalone=\"no\"?><svg xmlns=\"http://www.w3.org/2000/svg\" xmlns:xlink=\"http://www.w3.org/1999/xlink\" contentScriptType=\"application/ecmascript\" contentStyleType=\"text/css\" height=\"12px\" preserveAspectRatio=\"none\" style=\"width:12px;height:12px;\" version=\"1.1\" viewBox=\"0 0 12 12\" width=\"12px\" zoomAndPan=\"magnify\"><defs/><g><!--MD5=[dc938048236c351797870c36b62f92ad]\n",
       "@startuml\r\n",
       "skinparam roundcorner 20\r\n",
       "skinparam BoxPadding 20\r\n",
       "skinparam SequenceBoxBackgroundColor #white\r\n",
       "skinparam style strictuml\r\n",
       "skinparam maxMessageSize 100\r\n",
       "skinparam linetype polyline\r\n",
       "skinparam monochrome true\r\n",
       "skinparam classbackgroundcolor white\r\n",
       "skinparam shadowing false\r\n",
       "skinparam wrapWidth 300\r\n",
       "hide circle\r\n",
       "\r\n",
       "@enduml\r\n",
       "\n",
       "PlantUML version 1.2020.13(Sat Jun 13 12:26:38 UTC 2020)\n",
       "(EPL source distribution)\n",
       "Java Runtime: OpenJDK Runtime Environment\n",
       "JVM: OpenJDK 64-Bit Server VM\n",
       "Default Encoding: UTF-8\n",
       "Language: en\n",
       "Country: null\n",
       "--></g></svg>"
      ]
     },
     "execution_count": 14,
     "metadata": {},
     "output_type": "execute_result"
    }
   ],
   "source": [
    "%viz --style=\"POLYLINE\" --view=\"Sequence\" \"P1\""
   ]
  },
  {
   "cell_type": "code",
   "execution_count": 15,
   "id": "5cecb78a",
   "metadata": {
    "execution": {
     "iopub.execute_input": "2022-05-19T08:45:47.345872Z",
     "iopub.status.busy": "2022-05-19T08:45:47.345428Z",
     "iopub.status.idle": "2022-05-19T08:45:47.370598Z",
     "shell.execute_reply": "2022-05-19T08:45:47.370906Z"
    }
   },
   "outputs": [
    {
     "data": {
      "image/svg+xml": [
       "<?xml version=\"1.0\" encoding=\"UTF-8\" standalone=\"no\"?><svg xmlns=\"http://www.w3.org/2000/svg\" xmlns:xlink=\"http://www.w3.org/1999/xlink\" contentScriptType=\"application/ecmascript\" contentStyleType=\"text/css\" height=\"115px\" preserveAspectRatio=\"none\" style=\"width:140px;height:115px;\" version=\"1.1\" viewBox=\"0 0 140 115\" width=\"140px\" zoomAndPan=\"magnify\"><defs/><g><!--MD5=[fbc87193dbaf4d95561dea2c320d4a47]\n",
       "cluster E1--><a href=\"psysml:a8165327-1d39-4d0f-ab82-760e144b8575\" target=\"_top\" title=\"psysml:a8165327-1d39-4d0f-ab82-760e144b8575\" xlink:actuate=\"onRequest\" xlink:href=\"psysml:a8165327-1d39-4d0f-ab82-760e144b8575\" xlink:show=\"new\" xlink:title=\"psysml:a8165327-1d39-4d0f-ab82-760e144b8575\" xlink:type=\"simple\"><polygon fill=\"#FFFFFF\" points=\"16,6,40,6,47,28.2969,118,28.2969,118,103,16,103,16,6\" style=\"stroke: #000000; stroke-width: 1.5;\"/><line style=\"stroke: #000000; stroke-width: 1.5;\" x1=\"16\" x2=\"47\" y1=\"28.2969\" y2=\"28.2969\"/><text fill=\"#000000\" font-family=\"sans-serif\" font-size=\"14\" font-weight=\"bold\" lengthAdjust=\"spacingAndGlyphs\" textLength=\"18\" x=\"20\" y=\"20.9951\">P1</text></a><!--MD5=[b4997ac47864f28c2f74865a473b2911]\n",
       "class E2--><a href=\"psysml:f3ff8d18-3866-4ad0-84e8-5fc2e50b87fe\" target=\"_top\" title=\"psysml:f3ff8d18-3866-4ad0-84e8-5fc2e50b87fe\" xlink:actuate=\"onRequest\" xlink:href=\"psysml:f3ff8d18-3866-4ad0-84e8-5fc2e50b87fe\" xlink:show=\"new\" xlink:title=\"psysml:f3ff8d18-3866-4ad0-84e8-5fc2e50b87fe\" xlink:type=\"simple\"><rect fill=\"#FFFFFF\" height=\"45.9375\" id=\"E2\" style=\"stroke: #383838; stroke-width: 1.5;\" width=\"70\" x=\"32\" y=\"41\"/><text fill=\"#000000\" font-family=\"sans-serif\" font-size=\"12\" font-style=\"italic\" lengthAdjust=\"spacingAndGlyphs\" textLength=\"68\" x=\"33\" y=\"57.1387\">«part  def»</text><text fill=\"#000000\" font-family=\"sans-serif\" font-size=\"12\" lengthAdjust=\"spacingAndGlyphs\" textLength=\"8\" x=\"63\" y=\"71.1074\">A</text><line style=\"stroke: #383838; stroke-width: 1.5;\" x1=\"33\" x2=\"101\" y1=\"78.9375\" y2=\"78.9375\"/></a><!--MD5=[d62575546df690eda4c77306ab8e1649]\n",
       "@startuml\r\n",
       "skinparam linetype polyline\r\n",
       "skinparam monochrome true\r\n",
       "skinparam classbackgroundcolor white\r\n",
       "skinparam shadowing false\r\n",
       "skinparam wrapWidth 300\r\n",
       "hide circle\r\n",
       "\r\n",
       "package \"P1\" as E1  [[psysml:a8165327-1d39-4d0f-ab82-760e144b8575 ]]  {\r\n",
       "comp def \"A\" as E2  <<(T,blue) part  def>> [[psysml:f3ff8d18-3866-4ad0-84e8-5fc2e50b87fe ]] {\r\n",
       "}\r\n",
       "}\r\n",
       "@enduml\r\n",
       "\n",
       "PlantUML version 1.2020.13(Sat Jun 13 12:26:38 UTC 2020)\n",
       "(EPL source distribution)\n",
       "Java Runtime: OpenJDK Runtime Environment\n",
       "JVM: OpenJDK 64-Bit Server VM\n",
       "Default Encoding: UTF-8\n",
       "Language: en\n",
       "Country: null\n",
       "--></g></svg>"
      ]
     },
     "execution_count": 15,
     "metadata": {},
     "output_type": "execute_result"
    }
   ],
   "source": [
    "%viz --style=\"POLYLINE\" --view=\"MIXED\" \"P1\""
   ]
  },
  {
   "cell_type": "code",
   "execution_count": 16,
   "id": "4831e14c",
   "metadata": {
    "execution": {
     "iopub.execute_input": "2022-05-19T08:45:47.421445Z",
     "iopub.status.busy": "2022-05-19T08:45:47.420983Z",
     "iopub.status.idle": "2022-05-19T08:45:47.445524Z",
     "shell.execute_reply": "2022-05-19T08:45:47.445912Z"
    }
   },
   "outputs": [
    {
     "data": {
      "image/svg+xml": [
       "<?xml version=\"1.0\" encoding=\"UTF-8\" standalone=\"no\"?><svg xmlns=\"http://www.w3.org/2000/svg\" xmlns:xlink=\"http://www.w3.org/1999/xlink\" contentScriptType=\"application/ecmascript\" contentStyleType=\"text/css\" height=\"115px\" preserveAspectRatio=\"none\" style=\"width:140px;height:115px;\" version=\"1.1\" viewBox=\"0 0 140 115\" width=\"140px\" zoomAndPan=\"magnify\"><defs/><g><!--MD5=[fbc87193dbaf4d95561dea2c320d4a47]\n",
       "cluster E1--><a href=\"psysml:a8165327-1d39-4d0f-ab82-760e144b8575\" target=\"_top\" title=\"psysml:a8165327-1d39-4d0f-ab82-760e144b8575\" xlink:actuate=\"onRequest\" xlink:href=\"psysml:a8165327-1d39-4d0f-ab82-760e144b8575\" xlink:show=\"new\" xlink:title=\"psysml:a8165327-1d39-4d0f-ab82-760e144b8575\" xlink:type=\"simple\"><polygon fill=\"#FFFFFF\" points=\"16,6,40,6,47,28.2969,118,28.2969,118,103,16,103,16,6\" style=\"stroke: #000000; stroke-width: 1.5;\"/><line style=\"stroke: #000000; stroke-width: 1.5;\" x1=\"16\" x2=\"47\" y1=\"28.2969\" y2=\"28.2969\"/><text fill=\"#000000\" font-family=\"sans-serif\" font-size=\"14\" font-weight=\"bold\" lengthAdjust=\"spacingAndGlyphs\" textLength=\"18\" x=\"20\" y=\"20.9951\">P1</text></a><!--MD5=[b4997ac47864f28c2f74865a473b2911]\n",
       "class E2--><a href=\"psysml:f3ff8d18-3866-4ad0-84e8-5fc2e50b87fe\" target=\"_top\" title=\"psysml:f3ff8d18-3866-4ad0-84e8-5fc2e50b87fe\" xlink:actuate=\"onRequest\" xlink:href=\"psysml:f3ff8d18-3866-4ad0-84e8-5fc2e50b87fe\" xlink:show=\"new\" xlink:title=\"psysml:f3ff8d18-3866-4ad0-84e8-5fc2e50b87fe\" xlink:type=\"simple\"><rect fill=\"#FFFFFF\" height=\"45.9375\" id=\"E2\" style=\"stroke: #383838; stroke-width: 1.5;\" width=\"70\" x=\"32\" y=\"41\"/><text fill=\"#000000\" font-family=\"sans-serif\" font-size=\"12\" font-style=\"italic\" lengthAdjust=\"spacingAndGlyphs\" textLength=\"68\" x=\"33\" y=\"57.1387\">«part  def»</text><text fill=\"#000000\" font-family=\"sans-serif\" font-size=\"12\" lengthAdjust=\"spacingAndGlyphs\" textLength=\"8\" x=\"63\" y=\"71.1074\">A</text><line style=\"stroke: #383838; stroke-width: 1.5;\" x1=\"33\" x2=\"101\" y1=\"78.9375\" y2=\"78.9375\"/></a><!--MD5=[dcec65611cd5d9f7ef94d6f3706d11de]\n",
       "@startuml\r\n",
       "left to right direction\r\n",
       "skinparam monochrome true\r\n",
       "skinparam classbackgroundcolor white\r\n",
       "skinparam shadowing false\r\n",
       "skinparam wrapWidth 300\r\n",
       "hide circle\r\n",
       "\r\n",
       "package \"P1\" as E1  [[psysml:a8165327-1d39-4d0f-ab82-760e144b8575 ]]  {\r\n",
       "comp def \"A\" as E2  <<(T,blue) part  def>> [[psysml:f3ff8d18-3866-4ad0-84e8-5fc2e50b87fe ]] {\r\n",
       "}\r\n",
       "}\r\n",
       "@enduml\r\n",
       "\n",
       "PlantUML version 1.2020.13(Sat Jun 13 12:26:38 UTC 2020)\n",
       "(EPL source distribution)\n",
       "Java Runtime: OpenJDK Runtime Environment\n",
       "JVM: OpenJDK 64-Bit Server VM\n",
       "Default Encoding: UTF-8\n",
       "Language: en\n",
       "Country: null\n",
       "--></g></svg>"
      ]
     },
     "execution_count": 16,
     "metadata": {},
     "output_type": "execute_result"
    }
   ],
   "source": [
    "%viz --style=\"LR\" --view=\"Default\" \"P1\""
   ]
  },
  {
   "cell_type": "code",
   "execution_count": 17,
   "id": "6a937e55",
   "metadata": {
    "execution": {
     "iopub.execute_input": "2022-05-19T08:45:47.495999Z",
     "iopub.status.busy": "2022-05-19T08:45:47.495559Z",
     "iopub.status.idle": "2022-05-19T08:45:47.520911Z",
     "shell.execute_reply": "2022-05-19T08:45:47.521260Z"
    }
   },
   "outputs": [
    {
     "data": {
      "image/svg+xml": [
       "<?xml version=\"1.0\" encoding=\"UTF-8\" standalone=\"no\"?><svg xmlns=\"http://www.w3.org/2000/svg\" xmlns:xlink=\"http://www.w3.org/1999/xlink\" contentScriptType=\"application/ecmascript\" contentStyleType=\"text/css\" height=\"115px\" preserveAspectRatio=\"none\" style=\"width:140px;height:115px;\" version=\"1.1\" viewBox=\"0 0 140 115\" width=\"140px\" zoomAndPan=\"magnify\"><defs/><g><!--MD5=[fbc87193dbaf4d95561dea2c320d4a47]\n",
       "cluster E1--><a href=\"psysml:a8165327-1d39-4d0f-ab82-760e144b8575\" target=\"_top\" title=\"psysml:a8165327-1d39-4d0f-ab82-760e144b8575\" xlink:actuate=\"onRequest\" xlink:href=\"psysml:a8165327-1d39-4d0f-ab82-760e144b8575\" xlink:show=\"new\" xlink:title=\"psysml:a8165327-1d39-4d0f-ab82-760e144b8575\" xlink:type=\"simple\"><polygon fill=\"#FFFFFF\" points=\"16,6,40,6,47,28.2969,118,28.2969,118,103,16,103,16,6\" style=\"stroke: #000000; stroke-width: 1.5;\"/><line style=\"stroke: #000000; stroke-width: 1.5;\" x1=\"16\" x2=\"47\" y1=\"28.2969\" y2=\"28.2969\"/><text fill=\"#000000\" font-family=\"sans-serif\" font-size=\"14\" font-weight=\"bold\" lengthAdjust=\"spacingAndGlyphs\" textLength=\"18\" x=\"20\" y=\"20.9951\">P1</text></a><!--MD5=[b4997ac47864f28c2f74865a473b2911]\n",
       "class E2--><a href=\"psysml:f3ff8d18-3866-4ad0-84e8-5fc2e50b87fe\" target=\"_top\" title=\"psysml:f3ff8d18-3866-4ad0-84e8-5fc2e50b87fe\" xlink:actuate=\"onRequest\" xlink:href=\"psysml:f3ff8d18-3866-4ad0-84e8-5fc2e50b87fe\" xlink:show=\"new\" xlink:title=\"psysml:f3ff8d18-3866-4ad0-84e8-5fc2e50b87fe\" xlink:type=\"simple\"><rect fill=\"#FFFFFF\" height=\"45.9375\" id=\"E2\" style=\"stroke: #383838; stroke-width: 1.5;\" width=\"70\" x=\"32\" y=\"41\"/><text fill=\"#000000\" font-family=\"sans-serif\" font-size=\"12\" font-style=\"italic\" lengthAdjust=\"spacingAndGlyphs\" textLength=\"68\" x=\"33\" y=\"57.1387\">«part  def»</text><text fill=\"#000000\" font-family=\"sans-serif\" font-size=\"12\" lengthAdjust=\"spacingAndGlyphs\" textLength=\"8\" x=\"63\" y=\"71.1074\">A</text><line style=\"stroke: #383838; stroke-width: 1.5;\" x1=\"33\" x2=\"101\" y1=\"78.9375\" y2=\"78.9375\"/></a><!--MD5=[dcec65611cd5d9f7ef94d6f3706d11de]\n",
       "@startuml\r\n",
       "left to right direction\r\n",
       "skinparam monochrome true\r\n",
       "skinparam classbackgroundcolor white\r\n",
       "skinparam shadowing false\r\n",
       "skinparam wrapWidth 300\r\n",
       "hide circle\r\n",
       "\r\n",
       "package \"P1\" as E1  [[psysml:a8165327-1d39-4d0f-ab82-760e144b8575 ]]  {\r\n",
       "comp def \"A\" as E2  <<(T,blue) part  def>> [[psysml:f3ff8d18-3866-4ad0-84e8-5fc2e50b87fe ]] {\r\n",
       "}\r\n",
       "}\r\n",
       "@enduml\r\n",
       "\n",
       "PlantUML version 1.2020.13(Sat Jun 13 12:26:38 UTC 2020)\n",
       "(EPL source distribution)\n",
       "Java Runtime: OpenJDK Runtime Environment\n",
       "JVM: OpenJDK 64-Bit Server VM\n",
       "Default Encoding: UTF-8\n",
       "Language: en\n",
       "Country: null\n",
       "--></g></svg>"
      ]
     },
     "execution_count": 17,
     "metadata": {},
     "output_type": "execute_result"
    }
   ],
   "source": [
    "%viz --style=\"LR\" --view=\"Tree\" \"P1\""
   ]
  },
  {
   "cell_type": "code",
   "execution_count": 18,
   "id": "33122daa",
   "metadata": {
    "execution": {
     "iopub.execute_input": "2022-05-19T08:45:47.570943Z",
     "iopub.status.busy": "2022-05-19T08:45:47.570499Z",
     "iopub.status.idle": "2022-05-19T08:45:47.575808Z",
     "shell.execute_reply": "2022-05-19T08:45:47.576119Z"
    }
   },
   "outputs": [
    {
     "data": {
      "image/svg+xml": [
       "<?xml version=\"1.0\" encoding=\"UTF-8\" standalone=\"no\"?><svg xmlns=\"http://www.w3.org/2000/svg\" xmlns:xlink=\"http://www.w3.org/1999/xlink\" contentScriptType=\"application/ecmascript\" contentStyleType=\"text/css\" height=\"12px\" preserveAspectRatio=\"none\" style=\"width:12px;height:12px;\" version=\"1.1\" viewBox=\"0 0 12 12\" width=\"12px\" zoomAndPan=\"magnify\"><defs/><g><!--MD5=[19d285c9d72a204eba4e2cd117d745e8]\n",
       "@startuml\r\n",
       "left to right direction\r\n",
       "skinparam monochrome true\r\n",
       "skinparam classbackgroundcolor white\r\n",
       "skinparam shadowing false\r\n",
       "skinparam wrapWidth 300\r\n",
       "hide circle\r\n",
       "\r\n",
       "@enduml\r\n",
       "\n",
       "PlantUML version 1.2020.13(Sat Jun 13 12:26:38 UTC 2020)\n",
       "(EPL source distribution)\n",
       "Java Runtime: OpenJDK Runtime Environment\n",
       "JVM: OpenJDK 64-Bit Server VM\n",
       "Default Encoding: UTF-8\n",
       "Language: en\n",
       "Country: null\n",
       "--></g></svg>"
      ]
     },
     "execution_count": 18,
     "metadata": {},
     "output_type": "execute_result"
    }
   ],
   "source": [
    "%viz --style=\"LR\" --view=\"State\" \"P1\""
   ]
  },
  {
   "cell_type": "code",
   "execution_count": 19,
   "id": "a15d8207",
   "metadata": {
    "execution": {
     "iopub.execute_input": "2022-05-19T08:45:47.626333Z",
     "iopub.status.busy": "2022-05-19T08:45:47.625890Z",
     "iopub.status.idle": "2022-05-19T08:45:47.650409Z",
     "shell.execute_reply": "2022-05-19T08:45:47.650724Z"
    }
   },
   "outputs": [
    {
     "data": {
      "image/svg+xml": [
       "<?xml version=\"1.0\" encoding=\"UTF-8\" standalone=\"no\"?><svg xmlns=\"http://www.w3.org/2000/svg\" xmlns:xlink=\"http://www.w3.org/1999/xlink\" contentScriptType=\"application/ecmascript\" contentStyleType=\"text/css\" height=\"113px\" preserveAspectRatio=\"none\" style=\"width:145px;height:113px;\" version=\"1.1\" viewBox=\"0 0 145 113\" width=\"145px\" zoomAndPan=\"magnify\"><defs/><g><!--MD5=[fbc87193dbaf4d95561dea2c320d4a47]\n",
       "cluster E1--><a href=\"psysml:a8165327-1d39-4d0f-ab82-760e144b8575\" target=\"_top\" title=\"psysml:a8165327-1d39-4d0f-ab82-760e144b8575\" xlink:actuate=\"onRequest\" xlink:href=\"psysml:a8165327-1d39-4d0f-ab82-760e144b8575\" xlink:show=\"new\" xlink:title=\"psysml:a8165327-1d39-4d0f-ab82-760e144b8575\" xlink:type=\"simple\"><polygon fill=\"#FFFFFF\" points=\"16,6,40,6,47,28.2969,123,28.2969,123,101,16,101,16,6\" style=\"stroke: #000000; stroke-width: 1.5;\"/><line style=\"stroke: #000000; stroke-width: 1.5;\" x1=\"16\" x2=\"47\" y1=\"28.2969\" y2=\"28.2969\"/><text fill=\"#000000\" font-family=\"sans-serif\" font-size=\"14\" font-weight=\"bold\" lengthAdjust=\"spacingAndGlyphs\" textLength=\"18\" x=\"20\" y=\"20.9951\">P1</text></a><g id=\"E1.E2\"><a href=\"psysml:f3ff8d18-3866-4ad0-84e8-5fc2e50b87fe\" target=\"_top\" title=\"psysml:f3ff8d18-3866-4ad0-84e8-5fc2e50b87fe\" xlink:actuate=\"onRequest\" xlink:href=\"psysml:f3ff8d18-3866-4ad0-84e8-5fc2e50b87fe\" xlink:show=\"new\" xlink:title=\"psysml:f3ff8d18-3866-4ad0-84e8-5fc2e50b87fe\" xlink:type=\"simple\"><rect fill=\"#FFFFFF\" height=\"42.9375\" id=\"E2\" style=\"stroke: #383838; stroke-width: 1.5;\" width=\"75\" x=\"32\" y=\"41.5\"/><rect fill=\"#F8F8F8\" height=\"37.9375\" style=\"stroke: #383838; stroke-width: 1.5;\" width=\"75\" x=\"32\" y=\"41.5\"/><text fill=\"#000000\" font-family=\"sans-serif\" font-size=\"12\" font-style=\"italic\" lengthAdjust=\"spacingAndGlyphs\" textLength=\"68\" x=\"35.5\" y=\"57.6387\">«part  def»</text><text fill=\"#000000\" font-family=\"sans-serif\" font-size=\"12\" lengthAdjust=\"spacingAndGlyphs\" textLength=\"8\" x=\"65.5\" y=\"71.6074\">A</text></a></g><!--MD5=[faf013d1d64a410180098b9c6125c101]\n",
       "@startuml\r\n",
       "skinparam ranksep 10\r\n",
       "skinparam rectangle {\r\n",
       " backgroundColor<<block>> LightGreen\r\n",
       "}\r\n",
       "left to right direction\r\n",
       "skinparam monochrome true\r\n",
       "skinparam classbackgroundcolor white\r\n",
       "skinparam shadowing false\r\n",
       "skinparam wrapWidth 300\r\n",
       "hide circle\r\n",
       "\r\n",
       "package \"P1\" as E1  [[psysml:a8165327-1d39-4d0f-ab82-760e144b8575 ]]  {\r\n",
       "rec def \"A\" as E2  <<(T,blue) part  def>> [[psysml:f3ff8d18-3866-4ad0-84e8-5fc2e50b87fe ]] {\r\n",
       "}\r\n",
       "}\r\n",
       "@enduml\r\n",
       "\n",
       "PlantUML version 1.2020.13(Sat Jun 13 12:26:38 UTC 2020)\n",
       "(EPL source distribution)\n",
       "Java Runtime: OpenJDK Runtime Environment\n",
       "JVM: OpenJDK 64-Bit Server VM\n",
       "Default Encoding: UTF-8\n",
       "Language: en\n",
       "Country: null\n",
       "--></g></svg>"
      ]
     },
     "execution_count": 19,
     "metadata": {},
     "output_type": "execute_result"
    }
   ],
   "source": [
    "%viz --style=\"LR\" --view=\"Interconnection\" \"P1\""
   ]
  },
  {
   "cell_type": "code",
   "execution_count": 20,
   "id": "a40ccc42",
   "metadata": {
    "execution": {
     "iopub.execute_input": "2022-05-19T08:45:47.700840Z",
     "iopub.status.busy": "2022-05-19T08:45:47.700381Z",
     "iopub.status.idle": "2022-05-19T08:45:47.705819Z",
     "shell.execute_reply": "2022-05-19T08:45:47.706133Z"
    }
   },
   "outputs": [
    {
     "data": {
      "image/svg+xml": [
       "<?xml version=\"1.0\" encoding=\"UTF-8\" standalone=\"no\"?><svg xmlns=\"http://www.w3.org/2000/svg\" xmlns:xlink=\"http://www.w3.org/1999/xlink\" contentScriptType=\"application/ecmascript\" contentStyleType=\"text/css\" height=\"12px\" preserveAspectRatio=\"none\" style=\"width:12px;height:12px;\" version=\"1.1\" viewBox=\"0 0 12 12\" width=\"12px\" zoomAndPan=\"magnify\"><defs/><g><!--MD5=[7aeb398939421629f6affaa4a1a7b125]\n",
       "@startuml\r\n",
       "skinparam ranksep 8\r\n",
       "left to right direction\r\n",
       "skinparam monochrome true\r\n",
       "skinparam classbackgroundcolor white\r\n",
       "skinparam shadowing false\r\n",
       "skinparam wrapWidth 300\r\n",
       "hide circle\r\n",
       "\r\n",
       "@enduml\r\n",
       "\n",
       "PlantUML version 1.2020.13(Sat Jun 13 12:26:38 UTC 2020)\n",
       "(EPL source distribution)\n",
       "Java Runtime: OpenJDK Runtime Environment\n",
       "JVM: OpenJDK 64-Bit Server VM\n",
       "Default Encoding: UTF-8\n",
       "Language: en\n",
       "Country: null\n",
       "--></g></svg>"
      ]
     },
     "execution_count": 20,
     "metadata": {},
     "output_type": "execute_result"
    }
   ],
   "source": [
    "%viz --style=\"LR\" --view=\"Action\" \"P1\""
   ]
  },
  {
   "cell_type": "code",
   "execution_count": 21,
   "id": "d8d3a3e5",
   "metadata": {
    "execution": {
     "iopub.execute_input": "2022-05-19T08:45:47.756244Z",
     "iopub.status.busy": "2022-05-19T08:45:47.755804Z",
     "iopub.status.idle": "2022-05-19T08:45:47.761673Z",
     "shell.execute_reply": "2022-05-19T08:45:47.761985Z"
    }
   },
   "outputs": [
    {
     "data": {
      "image/svg+xml": [
       "<?xml version=\"1.0\" encoding=\"UTF-8\" standalone=\"no\"?><svg xmlns=\"http://www.w3.org/2000/svg\" xmlns:xlink=\"http://www.w3.org/1999/xlink\" contentScriptType=\"application/ecmascript\" contentStyleType=\"text/css\" height=\"12px\" preserveAspectRatio=\"none\" style=\"width:12px;height:12px;\" version=\"1.1\" viewBox=\"0 0 12 12\" width=\"12px\" zoomAndPan=\"magnify\"><defs/><g><!--MD5=[238c11ea2002f03115ad6b49a457d50e]\n",
       "@startuml\r\n",
       "skinparam roundcorner 20\r\n",
       "skinparam BoxPadding 20\r\n",
       "skinparam SequenceBoxBackgroundColor #white\r\n",
       "skinparam style strictuml\r\n",
       "skinparam maxMessageSize 100\r\n",
       "left to right direction\r\n",
       "skinparam monochrome true\r\n",
       "skinparam classbackgroundcolor white\r\n",
       "skinparam shadowing false\r\n",
       "skinparam wrapWidth 300\r\n",
       "hide circle\r\n",
       "\r\n",
       "@enduml\r\n",
       "\n",
       "PlantUML version 1.2020.13(Sat Jun 13 12:26:38 UTC 2020)\n",
       "(EPL source distribution)\n",
       "Java Runtime: OpenJDK Runtime Environment\n",
       "JVM: OpenJDK 64-Bit Server VM\n",
       "Default Encoding: UTF-8\n",
       "Language: en\n",
       "Country: null\n",
       "--></g></svg>"
      ]
     },
     "execution_count": 21,
     "metadata": {},
     "output_type": "execute_result"
    }
   ],
   "source": [
    "%viz --style=\"LR\" --view=\"Sequence\" \"P1\""
   ]
  },
  {
   "cell_type": "code",
   "execution_count": 22,
   "id": "6bd6dbc7",
   "metadata": {
    "execution": {
     "iopub.execute_input": "2022-05-19T08:45:47.812211Z",
     "iopub.status.busy": "2022-05-19T08:45:47.811772Z",
     "iopub.status.idle": "2022-05-19T08:45:47.835026Z",
     "shell.execute_reply": "2022-05-19T08:45:47.835340Z"
    }
   },
   "outputs": [
    {
     "data": {
      "image/svg+xml": [
       "<?xml version=\"1.0\" encoding=\"UTF-8\" standalone=\"no\"?><svg xmlns=\"http://www.w3.org/2000/svg\" xmlns:xlink=\"http://www.w3.org/1999/xlink\" contentScriptType=\"application/ecmascript\" contentStyleType=\"text/css\" height=\"115px\" preserveAspectRatio=\"none\" style=\"width:140px;height:115px;\" version=\"1.1\" viewBox=\"0 0 140 115\" width=\"140px\" zoomAndPan=\"magnify\"><defs/><g><!--MD5=[fbc87193dbaf4d95561dea2c320d4a47]\n",
       "cluster E1--><a href=\"psysml:a8165327-1d39-4d0f-ab82-760e144b8575\" target=\"_top\" title=\"psysml:a8165327-1d39-4d0f-ab82-760e144b8575\" xlink:actuate=\"onRequest\" xlink:href=\"psysml:a8165327-1d39-4d0f-ab82-760e144b8575\" xlink:show=\"new\" xlink:title=\"psysml:a8165327-1d39-4d0f-ab82-760e144b8575\" xlink:type=\"simple\"><polygon fill=\"#FFFFFF\" points=\"16,6,40,6,47,28.2969,118,28.2969,118,103,16,103,16,6\" style=\"stroke: #000000; stroke-width: 1.5;\"/><line style=\"stroke: #000000; stroke-width: 1.5;\" x1=\"16\" x2=\"47\" y1=\"28.2969\" y2=\"28.2969\"/><text fill=\"#000000\" font-family=\"sans-serif\" font-size=\"14\" font-weight=\"bold\" lengthAdjust=\"spacingAndGlyphs\" textLength=\"18\" x=\"20\" y=\"20.9951\">P1</text></a><!--MD5=[b4997ac47864f28c2f74865a473b2911]\n",
       "class E2--><a href=\"psysml:f3ff8d18-3866-4ad0-84e8-5fc2e50b87fe\" target=\"_top\" title=\"psysml:f3ff8d18-3866-4ad0-84e8-5fc2e50b87fe\" xlink:actuate=\"onRequest\" xlink:href=\"psysml:f3ff8d18-3866-4ad0-84e8-5fc2e50b87fe\" xlink:show=\"new\" xlink:title=\"psysml:f3ff8d18-3866-4ad0-84e8-5fc2e50b87fe\" xlink:type=\"simple\"><rect fill=\"#FFFFFF\" height=\"45.9375\" id=\"E2\" style=\"stroke: #383838; stroke-width: 1.5;\" width=\"70\" x=\"32\" y=\"41\"/><text fill=\"#000000\" font-family=\"sans-serif\" font-size=\"12\" font-style=\"italic\" lengthAdjust=\"spacingAndGlyphs\" textLength=\"68\" x=\"33\" y=\"57.1387\">«part  def»</text><text fill=\"#000000\" font-family=\"sans-serif\" font-size=\"12\" lengthAdjust=\"spacingAndGlyphs\" textLength=\"8\" x=\"63\" y=\"71.1074\">A</text><line style=\"stroke: #383838; stroke-width: 1.5;\" x1=\"33\" x2=\"101\" y1=\"78.9375\" y2=\"78.9375\"/></a><!--MD5=[dcec65611cd5d9f7ef94d6f3706d11de]\n",
       "@startuml\r\n",
       "left to right direction\r\n",
       "skinparam monochrome true\r\n",
       "skinparam classbackgroundcolor white\r\n",
       "skinparam shadowing false\r\n",
       "skinparam wrapWidth 300\r\n",
       "hide circle\r\n",
       "\r\n",
       "package \"P1\" as E1  [[psysml:a8165327-1d39-4d0f-ab82-760e144b8575 ]]  {\r\n",
       "comp def \"A\" as E2  <<(T,blue) part  def>> [[psysml:f3ff8d18-3866-4ad0-84e8-5fc2e50b87fe ]] {\r\n",
       "}\r\n",
       "}\r\n",
       "@enduml\r\n",
       "\n",
       "PlantUML version 1.2020.13(Sat Jun 13 12:26:38 UTC 2020)\n",
       "(EPL source distribution)\n",
       "Java Runtime: OpenJDK Runtime Environment\n",
       "JVM: OpenJDK 64-Bit Server VM\n",
       "Default Encoding: UTF-8\n",
       "Language: en\n",
       "Country: null\n",
       "--></g></svg>"
      ]
     },
     "execution_count": 22,
     "metadata": {},
     "output_type": "execute_result"
    }
   ],
   "source": [
    "%viz --style=\"LR\" --view=\"MIXED\" \"P1\""
   ]
  },
  {
   "cell_type": "code",
   "execution_count": 23,
   "id": "753a90e0",
   "metadata": {
    "execution": {
     "iopub.execute_input": "2022-05-19T08:45:47.885404Z",
     "iopub.status.busy": "2022-05-19T08:45:47.884966Z",
     "iopub.status.idle": "2022-05-19T08:45:47.906680Z",
     "shell.execute_reply": "2022-05-19T08:45:47.906996Z"
    }
   },
   "outputs": [
    {
     "data": {
      "image/svg+xml": [
       "<?xml version=\"1.0\" encoding=\"UTF-8\" standalone=\"no\"?><svg xmlns=\"http://www.w3.org/2000/svg\" xmlns:xlink=\"http://www.w3.org/1999/xlink\" contentScriptType=\"application/ecmascript\" contentStyleType=\"text/css\" height=\"115px\" preserveAspectRatio=\"none\" style=\"width:140px;height:115px;\" version=\"1.1\" viewBox=\"0 0 140 115\" width=\"140px\" zoomAndPan=\"magnify\"><defs><filter height=\"300%\" id=\"f1o3qi91jq33w2\" width=\"300%\" x=\"-1\" y=\"-1\"><feGaussianBlur result=\"blurOut\" stdDeviation=\"2.0\"/><feColorMatrix in=\"blurOut\" result=\"blurOut2\" type=\"matrix\" values=\"0 0 0 0 0 0 0 0 0 0 0 0 0 0 0 0 0 0 .4 0\"/><feOffset dx=\"4.0\" dy=\"4.0\" in=\"blurOut2\" result=\"blurOut3\"/><feBlend in=\"SourceGraphic\" in2=\"blurOut3\" mode=\"normal\"/></filter></defs><g><!--MD5=[fbc87193dbaf4d95561dea2c320d4a47]\n",
       "cluster E1--><a href=\"psysml:a8165327-1d39-4d0f-ab82-760e144b8575\" target=\"_top\" title=\"psysml:a8165327-1d39-4d0f-ab82-760e144b8575\" xlink:actuate=\"onRequest\" xlink:href=\"psysml:a8165327-1d39-4d0f-ab82-760e144b8575\" xlink:show=\"new\" xlink:title=\"psysml:a8165327-1d39-4d0f-ab82-760e144b8575\" xlink:type=\"simple\"><polygon fill=\"#FFFFFF\" filter=\"url(#f1o3qi91jq33w2)\" points=\"16,6,40,6,47,28.2969,118,28.2969,118,103,16,103,16,6\" style=\"stroke: #000000; stroke-width: 1.5;\"/><line style=\"stroke: #000000; stroke-width: 1.5;\" x1=\"16\" x2=\"47\" y1=\"28.2969\" y2=\"28.2969\"/><text fill=\"#000000\" font-family=\"sans-serif\" font-size=\"14\" font-weight=\"bold\" lengthAdjust=\"spacingAndGlyphs\" textLength=\"18\" x=\"20\" y=\"20.9951\">P1</text></a><!--MD5=[b4997ac47864f28c2f74865a473b2911]\n",
       "class E2--><a href=\"psysml:f3ff8d18-3866-4ad0-84e8-5fc2e50b87fe\" target=\"_top\" title=\"psysml:f3ff8d18-3866-4ad0-84e8-5fc2e50b87fe\" xlink:actuate=\"onRequest\" xlink:href=\"psysml:f3ff8d18-3866-4ad0-84e8-5fc2e50b87fe\" xlink:show=\"new\" xlink:title=\"psysml:f3ff8d18-3866-4ad0-84e8-5fc2e50b87fe\" xlink:type=\"simple\"><rect fill=\"#FEFECE\" filter=\"url(#f1o3qi91jq33w2)\" height=\"45.9375\" id=\"E2\" style=\"stroke: #A80036; stroke-width: 1.5;\" width=\"70\" x=\"32\" y=\"41\"/><text fill=\"#000000\" font-family=\"sans-serif\" font-size=\"12\" font-style=\"italic\" lengthAdjust=\"spacingAndGlyphs\" textLength=\"68\" x=\"33\" y=\"57.1387\">«part  def»</text><text fill=\"#000000\" font-family=\"sans-serif\" font-size=\"12\" lengthAdjust=\"spacingAndGlyphs\" textLength=\"8\" x=\"63\" y=\"71.1074\">A</text><line style=\"stroke: #A80036; stroke-width: 1.5;\" x1=\"33\" x2=\"101\" y1=\"78.9375\" y2=\"78.9375\"/></a><!--MD5=[3ec13e5b1081c3dfbb033499af1d57b7]\n",
       "@startuml\r\n",
       "skinparam wrapWidth 300\r\n",
       "hide circle\r\n",
       "\r\n",
       "package \"P1\" as E1  [[psysml:a8165327-1d39-4d0f-ab82-760e144b8575 ]]  {\r\n",
       "comp def \"A\" as E2  <<(T,blue) part  def>> [[psysml:f3ff8d18-3866-4ad0-84e8-5fc2e50b87fe ]] {\r\n",
       "}\r\n",
       "}\r\n",
       "@enduml\r\n",
       "\n",
       "PlantUML version 1.2020.13(Sat Jun 13 12:26:38 UTC 2020)\n",
       "(EPL source distribution)\n",
       "Java Runtime: OpenJDK Runtime Environment\n",
       "JVM: OpenJDK 64-Bit Server VM\n",
       "Default Encoding: UTF-8\n",
       "Language: en\n",
       "Country: null\n",
       "--></g></svg>"
      ]
     },
     "execution_count": 23,
     "metadata": {},
     "output_type": "execute_result"
    }
   ],
   "source": [
    "%viz --style=\"STDCOLOR\" --view=\"Default\" \"P1\""
   ]
  },
  {
   "cell_type": "code",
   "execution_count": 24,
   "id": "018082ed",
   "metadata": {
    "execution": {
     "iopub.execute_input": "2022-05-19T08:45:47.957137Z",
     "iopub.status.busy": "2022-05-19T08:45:47.956692Z",
     "iopub.status.idle": "2022-05-19T08:45:47.983530Z",
     "shell.execute_reply": "2022-05-19T08:45:47.983127Z"
    }
   },
   "outputs": [
    {
     "data": {
      "image/svg+xml": [
       "<?xml version=\"1.0\" encoding=\"UTF-8\" standalone=\"no\"?><svg xmlns=\"http://www.w3.org/2000/svg\" xmlns:xlink=\"http://www.w3.org/1999/xlink\" contentScriptType=\"application/ecmascript\" contentStyleType=\"text/css\" height=\"115px\" preserveAspectRatio=\"none\" style=\"width:140px;height:115px;\" version=\"1.1\" viewBox=\"0 0 140 115\" width=\"140px\" zoomAndPan=\"magnify\"><defs><filter height=\"300%\" id=\"f1o3qi91jq33w2\" width=\"300%\" x=\"-1\" y=\"-1\"><feGaussianBlur result=\"blurOut\" stdDeviation=\"2.0\"/><feColorMatrix in=\"blurOut\" result=\"blurOut2\" type=\"matrix\" values=\"0 0 0 0 0 0 0 0 0 0 0 0 0 0 0 0 0 0 .4 0\"/><feOffset dx=\"4.0\" dy=\"4.0\" in=\"blurOut2\" result=\"blurOut3\"/><feBlend in=\"SourceGraphic\" in2=\"blurOut3\" mode=\"normal\"/></filter></defs><g><!--MD5=[fbc87193dbaf4d95561dea2c320d4a47]\n",
       "cluster E1--><a href=\"psysml:a8165327-1d39-4d0f-ab82-760e144b8575\" target=\"_top\" title=\"psysml:a8165327-1d39-4d0f-ab82-760e144b8575\" xlink:actuate=\"onRequest\" xlink:href=\"psysml:a8165327-1d39-4d0f-ab82-760e144b8575\" xlink:show=\"new\" xlink:title=\"psysml:a8165327-1d39-4d0f-ab82-760e144b8575\" xlink:type=\"simple\"><polygon fill=\"#FFFFFF\" filter=\"url(#f1o3qi91jq33w2)\" points=\"16,6,40,6,47,28.2969,118,28.2969,118,103,16,103,16,6\" style=\"stroke: #000000; stroke-width: 1.5;\"/><line style=\"stroke: #000000; stroke-width: 1.5;\" x1=\"16\" x2=\"47\" y1=\"28.2969\" y2=\"28.2969\"/><text fill=\"#000000\" font-family=\"sans-serif\" font-size=\"14\" font-weight=\"bold\" lengthAdjust=\"spacingAndGlyphs\" textLength=\"18\" x=\"20\" y=\"20.9951\">P1</text></a><!--MD5=[b4997ac47864f28c2f74865a473b2911]\n",
       "class E2--><a href=\"psysml:f3ff8d18-3866-4ad0-84e8-5fc2e50b87fe\" target=\"_top\" title=\"psysml:f3ff8d18-3866-4ad0-84e8-5fc2e50b87fe\" xlink:actuate=\"onRequest\" xlink:href=\"psysml:f3ff8d18-3866-4ad0-84e8-5fc2e50b87fe\" xlink:show=\"new\" xlink:title=\"psysml:f3ff8d18-3866-4ad0-84e8-5fc2e50b87fe\" xlink:type=\"simple\"><rect fill=\"#FEFECE\" filter=\"url(#f1o3qi91jq33w2)\" height=\"45.9375\" id=\"E2\" style=\"stroke: #A80036; stroke-width: 1.5;\" width=\"70\" x=\"32\" y=\"41\"/><text fill=\"#000000\" font-family=\"sans-serif\" font-size=\"12\" font-style=\"italic\" lengthAdjust=\"spacingAndGlyphs\" textLength=\"68\" x=\"33\" y=\"57.1387\">«part  def»</text><text fill=\"#000000\" font-family=\"sans-serif\" font-size=\"12\" lengthAdjust=\"spacingAndGlyphs\" textLength=\"8\" x=\"63\" y=\"71.1074\">A</text><line style=\"stroke: #A80036; stroke-width: 1.5;\" x1=\"33\" x2=\"101\" y1=\"78.9375\" y2=\"78.9375\"/></a><!--MD5=[3ec13e5b1081c3dfbb033499af1d57b7]\n",
       "@startuml\r\n",
       "skinparam wrapWidth 300\r\n",
       "hide circle\r\n",
       "\r\n",
       "package \"P1\" as E1  [[psysml:a8165327-1d39-4d0f-ab82-760e144b8575 ]]  {\r\n",
       "comp def \"A\" as E2  <<(T,blue) part  def>> [[psysml:f3ff8d18-3866-4ad0-84e8-5fc2e50b87fe ]] {\r\n",
       "}\r\n",
       "}\r\n",
       "@enduml\r\n",
       "\n",
       "PlantUML version 1.2020.13(Sat Jun 13 12:26:38 UTC 2020)\n",
       "(EPL source distribution)\n",
       "Java Runtime: OpenJDK Runtime Environment\n",
       "JVM: OpenJDK 64-Bit Server VM\n",
       "Default Encoding: UTF-8\n",
       "Language: en\n",
       "Country: null\n",
       "--></g></svg>"
      ]
     },
     "execution_count": 24,
     "metadata": {},
     "output_type": "execute_result"
    }
   ],
   "source": [
    "%viz --style=\"STDCOLOR\" --view=\"Tree\" \"P1\""
   ]
  },
  {
   "cell_type": "code",
   "execution_count": 25,
   "id": "e872ab68",
   "metadata": {
    "execution": {
     "iopub.execute_input": "2022-05-19T08:45:48.033224Z",
     "iopub.status.busy": "2022-05-19T08:45:48.032779Z",
     "iopub.status.idle": "2022-05-19T08:45:48.037698Z",
     "shell.execute_reply": "2022-05-19T08:45:48.038008Z"
    }
   },
   "outputs": [
    {
     "data": {
      "image/svg+xml": [
       "<?xml version=\"1.0\" encoding=\"UTF-8\" standalone=\"no\"?><svg xmlns=\"http://www.w3.org/2000/svg\" xmlns:xlink=\"http://www.w3.org/1999/xlink\" contentScriptType=\"application/ecmascript\" contentStyleType=\"text/css\" height=\"12px\" preserveAspectRatio=\"none\" style=\"width:12px;height:12px;\" version=\"1.1\" viewBox=\"0 0 12 12\" width=\"12px\" zoomAndPan=\"magnify\"><defs/><g><!--MD5=[aeeef50f102b80d730deb6443d14f702]\n",
       "@startuml\r\n",
       "skinparam wrapWidth 300\r\n",
       "hide circle\r\n",
       "\r\n",
       "@enduml\r\n",
       "\n",
       "PlantUML version 1.2020.13(Sat Jun 13 12:26:38 UTC 2020)\n",
       "(EPL source distribution)\n",
       "Java Runtime: OpenJDK Runtime Environment\n",
       "JVM: OpenJDK 64-Bit Server VM\n",
       "Default Encoding: UTF-8\n",
       "Language: en\n",
       "Country: null\n",
       "--></g></svg>"
      ]
     },
     "execution_count": 25,
     "metadata": {},
     "output_type": "execute_result"
    }
   ],
   "source": [
    "%viz --style=\"STDCOLOR\" --view=\"State\" \"P1\""
   ]
  },
  {
   "cell_type": "code",
   "execution_count": 26,
   "id": "c97c8b9e",
   "metadata": {
    "execution": {
     "iopub.execute_input": "2022-05-19T08:45:48.088059Z",
     "iopub.status.busy": "2022-05-19T08:45:48.087620Z",
     "iopub.status.idle": "2022-05-19T08:45:48.108273Z",
     "shell.execute_reply": "2022-05-19T08:45:48.107879Z"
    }
   },
   "outputs": [
    {
     "data": {
      "image/svg+xml": [
       "<?xml version=\"1.0\" encoding=\"UTF-8\" standalone=\"no\"?><svg xmlns=\"http://www.w3.org/2000/svg\" xmlns:xlink=\"http://www.w3.org/1999/xlink\" contentScriptType=\"application/ecmascript\" contentStyleType=\"text/css\" height=\"112px\" preserveAspectRatio=\"none\" style=\"width:144px;height:112px;\" version=\"1.1\" viewBox=\"0 0 144 112\" width=\"144px\" zoomAndPan=\"magnify\"><defs><filter height=\"300%\" id=\"fouf5zuq3icgy\" width=\"300%\" x=\"-1\" y=\"-1\"><feGaussianBlur result=\"blurOut\" stdDeviation=\"2.0\"/><feColorMatrix in=\"blurOut\" result=\"blurOut2\" type=\"matrix\" values=\"0 0 0 0 0 0 0 0 0 0 0 0 0 0 0 0 0 0 .4 0\"/><feOffset dx=\"4.0\" dy=\"4.0\" in=\"blurOut2\" result=\"blurOut3\"/><feBlend in=\"SourceGraphic\" in2=\"blurOut3\" mode=\"normal\"/></filter></defs><g><!--MD5=[fbc87193dbaf4d95561dea2c320d4a47]\n",
       "cluster E1--><a href=\"psysml:a8165327-1d39-4d0f-ab82-760e144b8575\" target=\"_top\" title=\"psysml:a8165327-1d39-4d0f-ab82-760e144b8575\" xlink:actuate=\"onRequest\" xlink:href=\"psysml:a8165327-1d39-4d0f-ab82-760e144b8575\" xlink:show=\"new\" xlink:title=\"psysml:a8165327-1d39-4d0f-ab82-760e144b8575\" xlink:type=\"simple\"><polygon fill=\"#FFFFFF\" filter=\"url(#fouf5zuq3icgy)\" points=\"16,6,40,6,47,28.2969,122,28.2969,122,100,16,100,16,6\" style=\"stroke: #000000; stroke-width: 1.5;\"/><line style=\"stroke: #000000; stroke-width: 1.5;\" x1=\"16\" x2=\"47\" y1=\"28.2969\" y2=\"28.2969\"/><text fill=\"#000000\" font-family=\"sans-serif\" font-size=\"14\" font-weight=\"bold\" lengthAdjust=\"spacingAndGlyphs\" textLength=\"18\" x=\"20\" y=\"20.9951\">P1</text></a><g id=\"E1.E2\"><a href=\"psysml:f3ff8d18-3866-4ad0-84e8-5fc2e50b87fe\" target=\"_top\" title=\"psysml:f3ff8d18-3866-4ad0-84e8-5fc2e50b87fe\" xlink:actuate=\"onRequest\" xlink:href=\"psysml:f3ff8d18-3866-4ad0-84e8-5fc2e50b87fe\" xlink:show=\"new\" xlink:title=\"psysml:f3ff8d18-3866-4ad0-84e8-5fc2e50b87fe\" xlink:type=\"simple\"><rect fill=\"#FEFECE\" filter=\"url(#fouf5zuq3icgy)\" height=\"42.9375\" id=\"E2\" style=\"stroke: #A80036; stroke-width: 1.5;\" width=\"75\" x=\"31.5\" y=\"41\"/><text fill=\"#000000\" font-family=\"sans-serif\" font-size=\"12\" font-style=\"italic\" lengthAdjust=\"spacingAndGlyphs\" textLength=\"68\" x=\"35\" y=\"57.1387\">«part  def»</text><text fill=\"#000000\" font-family=\"sans-serif\" font-size=\"12\" lengthAdjust=\"spacingAndGlyphs\" textLength=\"8\" x=\"65\" y=\"71.1074\">A</text></a></g><!--MD5=[74c8778d5e7e4aae647c02648b24cb39]\n",
       "@startuml\r\n",
       "skinparam ranksep 10\r\n",
       "skinparam rectangle {\r\n",
       " backgroundColor<<block>> LightGreen\r\n",
       "}\r\n",
       "skinparam wrapWidth 300\r\n",
       "hide circle\r\n",
       "\r\n",
       "package \"P1\" as E1  [[psysml:a8165327-1d39-4d0f-ab82-760e144b8575 ]]  {\r\n",
       "rec def \"A\" as E2  <<(T,blue) part  def>> [[psysml:f3ff8d18-3866-4ad0-84e8-5fc2e50b87fe ]] {\r\n",
       "}\r\n",
       "}\r\n",
       "@enduml\r\n",
       "\n",
       "PlantUML version 1.2020.13(Sat Jun 13 12:26:38 UTC 2020)\n",
       "(EPL source distribution)\n",
       "Java Runtime: OpenJDK Runtime Environment\n",
       "JVM: OpenJDK 64-Bit Server VM\n",
       "Default Encoding: UTF-8\n",
       "Language: en\n",
       "Country: null\n",
       "--></g></svg>"
      ]
     },
     "execution_count": 26,
     "metadata": {},
     "output_type": "execute_result"
    }
   ],
   "source": [
    "%viz --style=\"STDCOLOR\" --view=\"Interconnection\" \"P1\""
   ]
  },
  {
   "cell_type": "code",
   "execution_count": 27,
   "id": "defd8328",
   "metadata": {
    "execution": {
     "iopub.execute_input": "2022-05-19T08:45:48.158293Z",
     "iopub.status.busy": "2022-05-19T08:45:48.157852Z",
     "iopub.status.idle": "2022-05-19T08:45:48.162531Z",
     "shell.execute_reply": "2022-05-19T08:45:48.162840Z"
    }
   },
   "outputs": [
    {
     "data": {
      "image/svg+xml": [
       "<?xml version=\"1.0\" encoding=\"UTF-8\" standalone=\"no\"?><svg xmlns=\"http://www.w3.org/2000/svg\" xmlns:xlink=\"http://www.w3.org/1999/xlink\" contentScriptType=\"application/ecmascript\" contentStyleType=\"text/css\" height=\"12px\" preserveAspectRatio=\"none\" style=\"width:12px;height:12px;\" version=\"1.1\" viewBox=\"0 0 12 12\" width=\"12px\" zoomAndPan=\"magnify\"><defs/><g><!--MD5=[9863325348a96a77dacc89509d8ee65e]\n",
       "@startuml\r\n",
       "skinparam ranksep 8\r\n",
       "skinparam wrapWidth 300\r\n",
       "hide circle\r\n",
       "\r\n",
       "@enduml\r\n",
       "\n",
       "PlantUML version 1.2020.13(Sat Jun 13 12:26:38 UTC 2020)\n",
       "(EPL source distribution)\n",
       "Java Runtime: OpenJDK Runtime Environment\n",
       "JVM: OpenJDK 64-Bit Server VM\n",
       "Default Encoding: UTF-8\n",
       "Language: en\n",
       "Country: null\n",
       "--></g></svg>"
      ]
     },
     "execution_count": 27,
     "metadata": {},
     "output_type": "execute_result"
    }
   ],
   "source": [
    "%viz --style=\"STDCOLOR\" --view=\"Action\" \"P1\""
   ]
  },
  {
   "cell_type": "code",
   "execution_count": 28,
   "id": "53de86a9",
   "metadata": {
    "execution": {
     "iopub.execute_input": "2022-05-19T08:45:48.213210Z",
     "iopub.status.busy": "2022-05-19T08:45:48.212772Z",
     "iopub.status.idle": "2022-05-19T08:45:48.218004Z",
     "shell.execute_reply": "2022-05-19T08:45:48.218312Z"
    }
   },
   "outputs": [
    {
     "data": {
      "image/svg+xml": [
       "<?xml version=\"1.0\" encoding=\"UTF-8\" standalone=\"no\"?><svg xmlns=\"http://www.w3.org/2000/svg\" xmlns:xlink=\"http://www.w3.org/1999/xlink\" contentScriptType=\"application/ecmascript\" contentStyleType=\"text/css\" height=\"12px\" preserveAspectRatio=\"none\" style=\"width:12px;height:12px;\" version=\"1.1\" viewBox=\"0 0 12 12\" width=\"12px\" zoomAndPan=\"magnify\"><defs/><g><!--MD5=[6c4bca67b4d71758159a5a7f1f1e1fc2]\n",
       "@startuml\r\n",
       "skinparam roundcorner 20\r\n",
       "skinparam BoxPadding 20\r\n",
       "skinparam SequenceBoxBackgroundColor #white\r\n",
       "skinparam style strictuml\r\n",
       "skinparam maxMessageSize 100\r\n",
       "skinparam wrapWidth 300\r\n",
       "hide circle\r\n",
       "\r\n",
       "@enduml\r\n",
       "\n",
       "PlantUML version 1.2020.13(Sat Jun 13 12:26:38 UTC 2020)\n",
       "(EPL source distribution)\n",
       "Java Runtime: OpenJDK Runtime Environment\n",
       "JVM: OpenJDK 64-Bit Server VM\n",
       "Default Encoding: UTF-8\n",
       "Language: en\n",
       "Country: null\n",
       "--></g></svg>"
      ]
     },
     "execution_count": 28,
     "metadata": {},
     "output_type": "execute_result"
    }
   ],
   "source": [
    "%viz --style=\"STDCOLOR\" --view=\"Sequence\" \"P1\""
   ]
  },
  {
   "cell_type": "code",
   "execution_count": 29,
   "id": "9769d8a3",
   "metadata": {
    "execution": {
     "iopub.execute_input": "2022-05-19T08:45:48.268412Z",
     "iopub.status.busy": "2022-05-19T08:45:48.267974Z",
     "iopub.status.idle": "2022-05-19T08:45:48.289266Z",
     "shell.execute_reply": "2022-05-19T08:45:48.288872Z"
    }
   },
   "outputs": [
    {
     "data": {
      "image/svg+xml": [
       "<?xml version=\"1.0\" encoding=\"UTF-8\" standalone=\"no\"?><svg xmlns=\"http://www.w3.org/2000/svg\" xmlns:xlink=\"http://www.w3.org/1999/xlink\" contentScriptType=\"application/ecmascript\" contentStyleType=\"text/css\" height=\"115px\" preserveAspectRatio=\"none\" style=\"width:140px;height:115px;\" version=\"1.1\" viewBox=\"0 0 140 115\" width=\"140px\" zoomAndPan=\"magnify\"><defs><filter height=\"300%\" id=\"f1o3qi91jq33w2\" width=\"300%\" x=\"-1\" y=\"-1\"><feGaussianBlur result=\"blurOut\" stdDeviation=\"2.0\"/><feColorMatrix in=\"blurOut\" result=\"blurOut2\" type=\"matrix\" values=\"0 0 0 0 0 0 0 0 0 0 0 0 0 0 0 0 0 0 .4 0\"/><feOffset dx=\"4.0\" dy=\"4.0\" in=\"blurOut2\" result=\"blurOut3\"/><feBlend in=\"SourceGraphic\" in2=\"blurOut3\" mode=\"normal\"/></filter></defs><g><!--MD5=[fbc87193dbaf4d95561dea2c320d4a47]\n",
       "cluster E1--><a href=\"psysml:a8165327-1d39-4d0f-ab82-760e144b8575\" target=\"_top\" title=\"psysml:a8165327-1d39-4d0f-ab82-760e144b8575\" xlink:actuate=\"onRequest\" xlink:href=\"psysml:a8165327-1d39-4d0f-ab82-760e144b8575\" xlink:show=\"new\" xlink:title=\"psysml:a8165327-1d39-4d0f-ab82-760e144b8575\" xlink:type=\"simple\"><polygon fill=\"#FFFFFF\" filter=\"url(#f1o3qi91jq33w2)\" points=\"16,6,40,6,47,28.2969,118,28.2969,118,103,16,103,16,6\" style=\"stroke: #000000; stroke-width: 1.5;\"/><line style=\"stroke: #000000; stroke-width: 1.5;\" x1=\"16\" x2=\"47\" y1=\"28.2969\" y2=\"28.2969\"/><text fill=\"#000000\" font-family=\"sans-serif\" font-size=\"14\" font-weight=\"bold\" lengthAdjust=\"spacingAndGlyphs\" textLength=\"18\" x=\"20\" y=\"20.9951\">P1</text></a><!--MD5=[b4997ac47864f28c2f74865a473b2911]\n",
       "class E2--><a href=\"psysml:f3ff8d18-3866-4ad0-84e8-5fc2e50b87fe\" target=\"_top\" title=\"psysml:f3ff8d18-3866-4ad0-84e8-5fc2e50b87fe\" xlink:actuate=\"onRequest\" xlink:href=\"psysml:f3ff8d18-3866-4ad0-84e8-5fc2e50b87fe\" xlink:show=\"new\" xlink:title=\"psysml:f3ff8d18-3866-4ad0-84e8-5fc2e50b87fe\" xlink:type=\"simple\"><rect fill=\"#FEFECE\" filter=\"url(#f1o3qi91jq33w2)\" height=\"45.9375\" id=\"E2\" style=\"stroke: #A80036; stroke-width: 1.5;\" width=\"70\" x=\"32\" y=\"41\"/><text fill=\"#000000\" font-family=\"sans-serif\" font-size=\"12\" font-style=\"italic\" lengthAdjust=\"spacingAndGlyphs\" textLength=\"68\" x=\"33\" y=\"57.1387\">«part  def»</text><text fill=\"#000000\" font-family=\"sans-serif\" font-size=\"12\" lengthAdjust=\"spacingAndGlyphs\" textLength=\"8\" x=\"63\" y=\"71.1074\">A</text><line style=\"stroke: #A80036; stroke-width: 1.5;\" x1=\"33\" x2=\"101\" y1=\"78.9375\" y2=\"78.9375\"/></a><!--MD5=[3ec13e5b1081c3dfbb033499af1d57b7]\n",
       "@startuml\r\n",
       "skinparam wrapWidth 300\r\n",
       "hide circle\r\n",
       "\r\n",
       "package \"P1\" as E1  [[psysml:a8165327-1d39-4d0f-ab82-760e144b8575 ]]  {\r\n",
       "comp def \"A\" as E2  <<(T,blue) part  def>> [[psysml:f3ff8d18-3866-4ad0-84e8-5fc2e50b87fe ]] {\r\n",
       "}\r\n",
       "}\r\n",
       "@enduml\r\n",
       "\n",
       "PlantUML version 1.2020.13(Sat Jun 13 12:26:38 UTC 2020)\n",
       "(EPL source distribution)\n",
       "Java Runtime: OpenJDK Runtime Environment\n",
       "JVM: OpenJDK 64-Bit Server VM\n",
       "Default Encoding: UTF-8\n",
       "Language: en\n",
       "Country: null\n",
       "--></g></svg>"
      ]
     },
     "execution_count": 29,
     "metadata": {},
     "output_type": "execute_result"
    }
   ],
   "source": [
    "%viz --style=\"STDCOLOR\" --view=\"MIXED\" \"P1\""
   ]
  },
  {
   "cell_type": "code",
   "execution_count": 30,
   "id": "23769bc9",
   "metadata": {
    "execution": {
     "iopub.execute_input": "2022-05-19T08:45:48.338958Z",
     "iopub.status.busy": "2022-05-19T08:45:48.338517Z",
     "iopub.status.idle": "2022-05-19T08:45:48.380711Z",
     "shell.execute_reply": "2022-05-19T08:45:48.380301Z"
    }
   },
   "outputs": [
    {
     "data": {
      "image/svg+xml": [
       "<?xml version=\"1.0\" encoding=\"UTF-8\" standalone=\"no\"?><svg xmlns=\"http://www.w3.org/2000/svg\" xmlns:xlink=\"http://www.w3.org/1999/xlink\" contentScriptType=\"application/ecmascript\" contentStyleType=\"text/css\" height=\"109px\" preserveAspectRatio=\"none\" style=\"width:110px;height:109px;\" version=\"1.1\" viewBox=\"0 0 110 109\" width=\"110px\" zoomAndPan=\"magnify\"><defs><filter height=\"300%\" id=\"f1w4fyybomuf62\" width=\"300%\" x=\"-1\" y=\"-1\"><feGaussianBlur result=\"blurOut\" stdDeviation=\"2.0\"/><feColorMatrix in=\"blurOut\" result=\"blurOut2\" type=\"matrix\" values=\"0 0 0 0 0 0 0 0 0 0 0 0 0 0 0 0 0 0 .4 0\"/><feOffset dx=\"4.0\" dy=\"4.0\" in=\"blurOut2\" result=\"blurOut3\"/><feBlend in=\"SourceGraphic\" in2=\"blurOut3\" mode=\"normal\"/></filter></defs><g><!--MD5=[fbc87193dbaf4d95561dea2c320d4a47]\n",
       "cluster E1--><a href=\"psysml:a8165327-1d39-4d0f-ab82-760e144b8575\" target=\"_top\" title=\"psysml:a8165327-1d39-4d0f-ab82-760e144b8575\" xlink:actuate=\"onRequest\" xlink:href=\"psysml:a8165327-1d39-4d0f-ab82-760e144b8575\" xlink:show=\"new\" xlink:title=\"psysml:a8165327-1d39-4d0f-ab82-760e144b8575\" xlink:type=\"simple\"><polygon fill=\"#FFFFFF\" filter=\"url(#f1w4fyybomuf62)\" points=\"16,6,40,6,47,28.2969,88,28.2969,88,97,16,97,16,6\" style=\"stroke: #000000; stroke-width: 1.5;\"/><line style=\"stroke: #000000; stroke-width: 1.5;\" x1=\"16\" x2=\"47\" y1=\"28.2969\" y2=\"28.2969\"/><text fill=\"#000000\" font-family=\"sans-serif\" font-size=\"14\" font-weight=\"bold\" lengthAdjust=\"spacingAndGlyphs\" textLength=\"18\" x=\"20\" y=\"20.9951\">P1</text></a><!--MD5=[b4997ac47864f28c2f74865a473b2911]\n",
       "class E2--><a href=\"psysml:f3ff8d18-3866-4ad0-84e8-5fc2e50b87fe\" target=\"_top\" title=\"psysml:f3ff8d18-3866-4ad0-84e8-5fc2e50b87fe\" xlink:actuate=\"onRequest\" xlink:href=\"psysml:f3ff8d18-3866-4ad0-84e8-5fc2e50b87fe\" xlink:show=\"new\" xlink:title=\"psysml:f3ff8d18-3866-4ad0-84e8-5fc2e50b87fe\" xlink:type=\"simple\"><rect fill=\"#FEFECE\" filter=\"url(#f1w4fyybomuf62)\" height=\"40\" id=\"E2\" style=\"stroke: #A80036; stroke-width: 1.5;\" width=\"40\" x=\"32\" y=\"41\"/><ellipse cx=\"47\" cy=\"57\" fill=\"#008000\" rx=\"11\" ry=\"11\" style=\"stroke: #A80036; stroke-width: 1.0;\"/><path d=\"M43.875,62 L43.875,51.4063 L47.1094,51.4063 Q49.0156,51.4063 49.9219,52.1563 Q50.8438,52.9063 50.8438,54.0781 Q50.8438,54.7656 50.4531,55.4219 Q50.0781,56.0781 49.3594,56.375 Q50.2188,56.75 50.7344,57.4375 Q51.25,58.125 51.25,58.9375 Q51.25,60.3125 50.2188,61.1563 Q49.2031,62 47.0938,62 L43.875,62 Z M45.7969,55.6406 L46.9531,55.6406 Q48.0781,55.6406 48.4844,55.2656 Q48.9063,54.875 48.9063,54.25 Q48.9063,53.6719 48.4844,53.3125 Q48.0625,52.9531 47.125,52.9531 L45.7969,52.9531 L45.7969,55.6406 Z M45.7969,60.4219 L47.2969,60.4219 Q48.2031,60.4219 48.7344,60.0313 Q49.2656,59.6406 49.2656,58.8906 Q49.2656,58.125 48.7656,57.6563 Q48.2656,57.1719 47,57.1719 L45.7969,57.1719 L45.7969,60.4219 Z \"/><text fill=\"#000000\" font-family=\"sans-serif\" font-size=\"12\" lengthAdjust=\"spacingAndGlyphs\" textLength=\"8\" x=\"61\" y=\"61.1543\">A</text><line style=\"stroke: #A80036; stroke-width: 1.5;\" x1=\"33\" x2=\"71\" y1=\"73\" y2=\"73\"/></a><!--MD5=[d7237897927e8f74fe4a76ed48893aea]\n",
       "@startuml\r\n",
       " \r\n",
       "package \"P1\" as E1  [[psysml:a8165327-1d39-4d0f-ab82-760e144b8575 ]]  {\r\n",
       "comp def \"A\" as E2 << << (B,green) >> [[psysml:f3ff8d18-3866-4ad0-84e8-5fc2e50b87fe ]] {\r\n",
       "}\r\n",
       "}\r\n",
       "@enduml\r\n",
       "\n",
       "PlantUML version 1.2020.13(Sat Jun 13 12:26:38 UTC 2020)\n",
       "(EPL source distribution)\n",
       "Java Runtime: OpenJDK Runtime Environment\n",
       "JVM: OpenJDK 64-Bit Server VM\n",
       "Default Encoding: UTF-8\n",
       "Language: en\n",
       "Country: null\n",
       "--></g></svg>"
      ]
     },
     "execution_count": 30,
     "metadata": {},
     "output_type": "execute_result"
    }
   ],
   "source": [
    "%viz --style=\"PLANTUML\" --view=\"Default\" \"P1\""
   ]
  },
  {
   "cell_type": "code",
   "execution_count": 31,
   "id": "44e17bef",
   "metadata": {
    "execution": {
     "iopub.execute_input": "2022-05-19T08:45:48.430588Z",
     "iopub.status.busy": "2022-05-19T08:45:48.430098Z",
     "iopub.status.idle": "2022-05-19T08:45:48.450514Z",
     "shell.execute_reply": "2022-05-19T08:45:48.450137Z"
    }
   },
   "outputs": [
    {
     "data": {
      "image/svg+xml": [
       "<?xml version=\"1.0\" encoding=\"UTF-8\" standalone=\"no\"?><svg xmlns=\"http://www.w3.org/2000/svg\" xmlns:xlink=\"http://www.w3.org/1999/xlink\" contentScriptType=\"application/ecmascript\" contentStyleType=\"text/css\" height=\"109px\" preserveAspectRatio=\"none\" style=\"width:110px;height:109px;\" version=\"1.1\" viewBox=\"0 0 110 109\" width=\"110px\" zoomAndPan=\"magnify\"><defs><filter height=\"300%\" id=\"f1w4fyybomuf62\" width=\"300%\" x=\"-1\" y=\"-1\"><feGaussianBlur result=\"blurOut\" stdDeviation=\"2.0\"/><feColorMatrix in=\"blurOut\" result=\"blurOut2\" type=\"matrix\" values=\"0 0 0 0 0 0 0 0 0 0 0 0 0 0 0 0 0 0 .4 0\"/><feOffset dx=\"4.0\" dy=\"4.0\" in=\"blurOut2\" result=\"blurOut3\"/><feBlend in=\"SourceGraphic\" in2=\"blurOut3\" mode=\"normal\"/></filter></defs><g><!--MD5=[fbc87193dbaf4d95561dea2c320d4a47]\n",
       "cluster E1--><a href=\"psysml:a8165327-1d39-4d0f-ab82-760e144b8575\" target=\"_top\" title=\"psysml:a8165327-1d39-4d0f-ab82-760e144b8575\" xlink:actuate=\"onRequest\" xlink:href=\"psysml:a8165327-1d39-4d0f-ab82-760e144b8575\" xlink:show=\"new\" xlink:title=\"psysml:a8165327-1d39-4d0f-ab82-760e144b8575\" xlink:type=\"simple\"><polygon fill=\"#FFFFFF\" filter=\"url(#f1w4fyybomuf62)\" points=\"16,6,40,6,47,28.2969,88,28.2969,88,97,16,97,16,6\" style=\"stroke: #000000; stroke-width: 1.5;\"/><line style=\"stroke: #000000; stroke-width: 1.5;\" x1=\"16\" x2=\"47\" y1=\"28.2969\" y2=\"28.2969\"/><text fill=\"#000000\" font-family=\"sans-serif\" font-size=\"14\" font-weight=\"bold\" lengthAdjust=\"spacingAndGlyphs\" textLength=\"18\" x=\"20\" y=\"20.9951\">P1</text></a><!--MD5=[b4997ac47864f28c2f74865a473b2911]\n",
       "class E2--><a href=\"psysml:f3ff8d18-3866-4ad0-84e8-5fc2e50b87fe\" target=\"_top\" title=\"psysml:f3ff8d18-3866-4ad0-84e8-5fc2e50b87fe\" xlink:actuate=\"onRequest\" xlink:href=\"psysml:f3ff8d18-3866-4ad0-84e8-5fc2e50b87fe\" xlink:show=\"new\" xlink:title=\"psysml:f3ff8d18-3866-4ad0-84e8-5fc2e50b87fe\" xlink:type=\"simple\"><rect fill=\"#FEFECE\" filter=\"url(#f1w4fyybomuf62)\" height=\"40\" id=\"E2\" style=\"stroke: #A80036; stroke-width: 1.5;\" width=\"40\" x=\"32\" y=\"41\"/><ellipse cx=\"47\" cy=\"57\" fill=\"#008000\" rx=\"11\" ry=\"11\" style=\"stroke: #A80036; stroke-width: 1.0;\"/><path d=\"M43.875,62 L43.875,51.4063 L47.1094,51.4063 Q49.0156,51.4063 49.9219,52.1563 Q50.8438,52.9063 50.8438,54.0781 Q50.8438,54.7656 50.4531,55.4219 Q50.0781,56.0781 49.3594,56.375 Q50.2188,56.75 50.7344,57.4375 Q51.25,58.125 51.25,58.9375 Q51.25,60.3125 50.2188,61.1563 Q49.2031,62 47.0938,62 L43.875,62 Z M45.7969,55.6406 L46.9531,55.6406 Q48.0781,55.6406 48.4844,55.2656 Q48.9063,54.875 48.9063,54.25 Q48.9063,53.6719 48.4844,53.3125 Q48.0625,52.9531 47.125,52.9531 L45.7969,52.9531 L45.7969,55.6406 Z M45.7969,60.4219 L47.2969,60.4219 Q48.2031,60.4219 48.7344,60.0313 Q49.2656,59.6406 49.2656,58.8906 Q49.2656,58.125 48.7656,57.6563 Q48.2656,57.1719 47,57.1719 L45.7969,57.1719 L45.7969,60.4219 Z \"/><text fill=\"#000000\" font-family=\"sans-serif\" font-size=\"12\" lengthAdjust=\"spacingAndGlyphs\" textLength=\"8\" x=\"61\" y=\"61.1543\">A</text><line style=\"stroke: #A80036; stroke-width: 1.5;\" x1=\"33\" x2=\"71\" y1=\"73\" y2=\"73\"/></a><!--MD5=[d7237897927e8f74fe4a76ed48893aea]\n",
       "@startuml\r\n",
       " \r\n",
       "package \"P1\" as E1  [[psysml:a8165327-1d39-4d0f-ab82-760e144b8575 ]]  {\r\n",
       "comp def \"A\" as E2 << << (B,green) >> [[psysml:f3ff8d18-3866-4ad0-84e8-5fc2e50b87fe ]] {\r\n",
       "}\r\n",
       "}\r\n",
       "@enduml\r\n",
       "\n",
       "PlantUML version 1.2020.13(Sat Jun 13 12:26:38 UTC 2020)\n",
       "(EPL source distribution)\n",
       "Java Runtime: OpenJDK Runtime Environment\n",
       "JVM: OpenJDK 64-Bit Server VM\n",
       "Default Encoding: UTF-8\n",
       "Language: en\n",
       "Country: null\n",
       "--></g></svg>"
      ]
     },
     "execution_count": 31,
     "metadata": {},
     "output_type": "execute_result"
    }
   ],
   "source": [
    "%viz --style=\"PLANTUML\" --view=\"Tree\" \"P1\""
   ]
  },
  {
   "cell_type": "code",
   "execution_count": 32,
   "id": "22bc3ad7",
   "metadata": {
    "execution": {
     "iopub.execute_input": "2022-05-19T08:45:48.500495Z",
     "iopub.status.busy": "2022-05-19T08:45:48.500056Z",
     "iopub.status.idle": "2022-05-19T08:45:48.596849Z",
     "shell.execute_reply": "2022-05-19T08:45:48.595243Z"
    }
   },
   "outputs": [
    {
     "data": {
      "image/svg+xml": [
       "<?xml version=\"1.0\" encoding=\"UTF-8\" standalone=\"no\"?><svg xmlns=\"http://www.w3.org/2000/svg\" xmlns:xlink=\"http://www.w3.org/1999/xlink\" contentScriptType=\"application/ecmascript\" contentStyleType=\"text/css\" height=\"300px\" preserveAspectRatio=\"none\" style=\"width:603px;height:300px;background:#000000;\" version=\"1.1\" viewBox=\"0 0 603 300\" width=\"603px\" zoomAndPan=\"magnify\"><defs/><g><rect fill=\"#1C0717\" height=\"1\" style=\"stroke: #1C0717; stroke-width: 1.0;\" width=\"1\" x=\"0\" y=\"0\"/><rect fill=\"#FFFFFF\" height=\"202.8012\" style=\"stroke: #FFFFFF; stroke-width: 1.0;\" width=\"602\" x=\"0\" y=\"0\"/><text fill=\"#000000\" font-family=\"sans-serif\" font-size=\"12\" font-weight=\"bold\" lengthAdjust=\"spacingAndGlyphs\" textLength=\"139\" x=\"5\" y=\"16.1387\">Welcome to PlantUML!</text><text fill=\"#000000\" font-family=\"sans-serif\" font-size=\"12\" lengthAdjust=\"spacingAndGlyphs\" textLength=\"0\" x=\"9\" y=\"30.1074\"/><text fill=\"#000000\" font-family=\"sans-serif\" font-size=\"12\" lengthAdjust=\"spacingAndGlyphs\" textLength=\"293\" x=\"5\" y=\"44.0762\">If you use this software, you accept its license.</text><text fill=\"#000000\" font-family=\"sans-serif\" font-size=\"12\" lengthAdjust=\"spacingAndGlyphs\" textLength=\"107\" x=\"5\" y=\"58.0449\">(details by typing</text><text fill=\"#000000\" font-family=\"monospace\" font-size=\"12\" lengthAdjust=\"spacingAndGlyphs\" textLength=\"42\" x=\"116\" y=\"58.595\">license</text><text fill=\"#000000\" font-family=\"sans-serif\" font-size=\"12\" lengthAdjust=\"spacingAndGlyphs\" textLength=\"56\" x=\"162\" y=\"58.0449\">keyword)</text><text fill=\"#000000\" font-family=\"sans-serif\" font-size=\"12\" lengthAdjust=\"spacingAndGlyphs\" textLength=\"0\" x=\"9\" y=\"72.0137\"/><text fill=\"#000000\" font-family=\"sans-serif\" font-size=\"12\" lengthAdjust=\"spacingAndGlyphs\" textLength=\"283\" x=\"5\" y=\"85.9824\">You can start with a simple UML Diagram like:</text><text fill=\"#000000\" font-family=\"sans-serif\" font-size=\"12\" lengthAdjust=\"spacingAndGlyphs\" textLength=\"0\" x=\"9\" y=\"99.9512\"/><text fill=\"#000000\" font-family=\"monospace\" font-size=\"12\" lengthAdjust=\"spacingAndGlyphs\" textLength=\"102\" x=\"5\" y=\"113.0893\">Bob-&gt;Alice: Hello</text><text fill=\"#000000\" font-family=\"sans-serif\" font-size=\"12\" lengthAdjust=\"spacingAndGlyphs\" textLength=\"0\" x=\"9\" y=\"126.508\"/><text fill=\"#000000\" font-family=\"sans-serif\" font-size=\"12\" lengthAdjust=\"spacingAndGlyphs\" textLength=\"14\" x=\"5\" y=\"140.4768\">Or</text><text fill=\"#000000\" font-family=\"sans-serif\" font-size=\"12\" lengthAdjust=\"spacingAndGlyphs\" textLength=\"0\" x=\"9\" y=\"154.4455\"/><text fill=\"#000000\" font-family=\"monospace\" font-size=\"12\" lengthAdjust=\"spacingAndGlyphs\" textLength=\"78\" x=\"5\" y=\"167.5837\">class Example</text><text fill=\"#000000\" font-family=\"sans-serif\" font-size=\"12\" lengthAdjust=\"spacingAndGlyphs\" textLength=\"0\" x=\"9\" y=\"181.0023\"/><text fill=\"#000000\" font-family=\"sans-serif\" font-size=\"12\" lengthAdjust=\"spacingAndGlyphs\" textLength=\"349\" x=\"5\" y=\"194.9711\">You will find more information about PlantUML syntax on</text><text fill=\"#000000\" font-family=\"sans-serif\" font-size=\"12\" lengthAdjust=\"spacingAndGlyphs\" text-decoration=\"underline\" textLength=\"129\" x=\"358\" y=\"194.9711\">https://plantuml.com</text><image height=\"71\" width=\"80\" x=\"516\" xlink:href=\"data:image/png;base64,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\" y=\"6\"/><rect fill=\"#000000\" height=\"96.4844\" style=\"stroke: #000000; stroke-width: 1.0;\" width=\"602\" x=\"0\" y=\"202.8012\"/><rect fill=\"#33FF02\" height=\"21.2969\" style=\"stroke: #33FF02; stroke-width: 1.0;\" width=\"145\" x=\"5\" y=\"207.8012\"/><text fill=\"#000000\" font-family=\"sans-serif\" font-size=\"14\" font-weight=\"bold\" lengthAdjust=\"spacingAndGlyphs\" textLength=\"143\" x=\"6\" y=\"222.8012\">[From string (line 2) ]</text><text fill=\"#33FF02\" font-family=\"sans-serif\" font-size=\"14\" font-weight=\"bold\" lengthAdjust=\"spacingAndGlyphs\" textLength=\"0\" x=\"9\" y=\"243.0981\"/><text fill=\"#33FF02\" font-family=\"sans-serif\" font-size=\"14\" font-weight=\"bold\" lengthAdjust=\"spacingAndGlyphs\" textLength=\"70\" x=\"5\" y=\"259.3949\">@startuml</text><text fill=\"#33FF02\" font-family=\"sans-serif\" font-size=\"14\" font-weight=\"bold\" lengthAdjust=\"spacingAndGlyphs\" textLength=\"0\" x=\"9\" y=\"275.6918\"/><text fill=\"#FF0000\" font-family=\"sans-serif\" font-size=\"14\" font-weight=\"bold\" lengthAdjust=\"spacingAndGlyphs\" textLength=\"124\" x=\"9\" y=\"291.9887\">Empty description</text><!--MD5=[f59edd8218d337f74d0c332fc6737304]\n",
       "@startuml\r\n",
       " \r\n",
       "@enduml\r\n",
       "\n",
       "PlantUML version 1.2020.13(Sat Jun 13 12:26:38 UTC 2020)\n",
       "(EPL source distribution)\n",
       "Java Runtime: OpenJDK Runtime Environment\n",
       "JVM: OpenJDK 64-Bit Server VM\n",
       "Default Encoding: UTF-8\n",
       "Language: en\n",
       "Country: null\n",
       "--></g></svg>"
      ]
     },
     "execution_count": 32,
     "metadata": {},
     "output_type": "execute_result"
    }
   ],
   "source": [
    "%viz --style=\"PLANTUML\" --view=\"State\" \"P1\""
   ]
  },
  {
   "cell_type": "code",
   "execution_count": 33,
   "id": "f9349b9c",
   "metadata": {
    "execution": {
     "iopub.execute_input": "2022-05-19T08:45:48.645888Z",
     "iopub.status.busy": "2022-05-19T08:45:48.645399Z",
     "iopub.status.idle": "2022-05-19T08:45:48.665728Z",
     "shell.execute_reply": "2022-05-19T08:45:48.665312Z"
    }
   },
   "outputs": [
    {
     "data": {
      "image/svg+xml": [
       "<?xml version=\"1.0\" encoding=\"UTF-8\" standalone=\"no\"?><svg xmlns=\"http://www.w3.org/2000/svg\" xmlns:xlink=\"http://www.w3.org/1999/xlink\" contentScriptType=\"application/ecmascript\" contentStyleType=\"text/css\" height=\"109px\" preserveAspectRatio=\"none\" style=\"width:120px;height:109px;\" version=\"1.1\" viewBox=\"0 0 120 109\" width=\"120px\" zoomAndPan=\"magnify\"><defs><filter height=\"300%\" id=\"fdwl7co6vtsym\" width=\"300%\" x=\"-1\" y=\"-1\"><feGaussianBlur result=\"blurOut\" stdDeviation=\"2.0\"/><feColorMatrix in=\"blurOut\" result=\"blurOut2\" type=\"matrix\" values=\"0 0 0 0 0 0 0 0 0 0 0 0 0 0 0 0 0 0 .4 0\"/><feOffset dx=\"4.0\" dy=\"4.0\" in=\"blurOut2\" result=\"blurOut3\"/><feBlend in=\"SourceGraphic\" in2=\"blurOut3\" mode=\"normal\"/></filter></defs><g><!--MD5=[fbc87193dbaf4d95561dea2c320d4a47]\n",
       "cluster E1--><a href=\"psysml:a8165327-1d39-4d0f-ab82-760e144b8575\" target=\"_top\" title=\"psysml:a8165327-1d39-4d0f-ab82-760e144b8575\" xlink:actuate=\"onRequest\" xlink:href=\"psysml:a8165327-1d39-4d0f-ab82-760e144b8575\" xlink:show=\"new\" xlink:title=\"psysml:a8165327-1d39-4d0f-ab82-760e144b8575\" xlink:type=\"simple\"><polygon fill=\"#FFFFFF\" filter=\"url(#fdwl7co6vtsym)\" points=\"16,6,40,6,47,28.2969,98,28.2969,98,97,16,97,16,6\" style=\"stroke: #000000; stroke-width: 1.5;\"/><line style=\"stroke: #000000; stroke-width: 1.5;\" x1=\"16\" x2=\"47\" y1=\"28.2969\" y2=\"28.2969\"/><text fill=\"#000000\" font-family=\"sans-serif\" font-size=\"14\" font-weight=\"bold\" lengthAdjust=\"spacingAndGlyphs\" textLength=\"18\" x=\"20\" y=\"20.9951\">P1</text></a><g id=\"E1.E2\"><a href=\"psysml:f3ff8d18-3866-4ad0-84e8-5fc2e50b87fe\" target=\"_top\" title=\"psysml:f3ff8d18-3866-4ad0-84e8-5fc2e50b87fe\" xlink:actuate=\"onRequest\" xlink:href=\"psysml:f3ff8d18-3866-4ad0-84e8-5fc2e50b87fe\" xlink:show=\"new\" xlink:title=\"psysml:f3ff8d18-3866-4ad0-84e8-5fc2e50b87fe\" xlink:type=\"simple\"><rect fill=\"#FEFECE\" filter=\"url(#fdwl7co6vtsym)\" height=\"40\" id=\"E2\" style=\"stroke: #A80036; stroke-width: 1.5;\" width=\"50\" x=\"32\" y=\"41\"/><ellipse cx=\"51.5\" cy=\"57\" fill=\"#008000\" rx=\"11\" ry=\"11\" style=\"stroke: #A80036; stroke-width: 1.0;\"/><path d=\"M48.375,62 L48.375,51.4063 L51.6094,51.4063 Q53.5156,51.4063 54.4219,52.1563 Q55.3438,52.9063 55.3438,54.0781 Q55.3438,54.7656 54.9531,55.4219 Q54.5781,56.0781 53.8594,56.375 Q54.7188,56.75 55.2344,57.4375 Q55.75,58.125 55.75,58.9375 Q55.75,60.3125 54.7188,61.1563 Q53.7031,62 51.5938,62 L48.375,62 Z M50.2969,55.6406 L51.4531,55.6406 Q52.5781,55.6406 52.9844,55.2656 Q53.4063,54.875 53.4063,54.25 Q53.4063,53.6719 52.9844,53.3125 Q52.5625,52.9531 51.625,52.9531 L50.2969,52.9531 L50.2969,55.6406 Z M50.2969,60.4219 L51.7969,60.4219 Q52.7031,60.4219 53.2344,60.0313 Q53.7656,59.6406 53.7656,58.8906 Q53.7656,58.125 53.2656,57.6563 Q52.7656,57.1719 51.5,57.1719 L50.2969,57.1719 L50.2969,60.4219 Z \"/><text fill=\"#000000\" font-family=\"sans-serif\" font-size=\"12\" lengthAdjust=\"spacingAndGlyphs\" textLength=\"8\" x=\"66.5\" y=\"61.1543\">A</text></a></g><!--MD5=[a9df144c2818ddb2250514446af97be5]\n",
       "@startuml\r\n",
       "skinparam ranksep 10\r\n",
       "skinparam rectangle {\r\n",
       " backgroundColor<<block>> LightGreen\r\n",
       "}\r\n",
       " \r\n",
       "package \"P1\" as E1  [[psysml:a8165327-1d39-4d0f-ab82-760e144b8575 ]]  {\r\n",
       "rec def \"A\" as E2 << << (B,green) >> [[psysml:f3ff8d18-3866-4ad0-84e8-5fc2e50b87fe ]] {\r\n",
       "}\r\n",
       "}\r\n",
       "@enduml\r\n",
       "\n",
       "PlantUML version 1.2020.13(Sat Jun 13 12:26:38 UTC 2020)\n",
       "(EPL source distribution)\n",
       "Java Runtime: OpenJDK Runtime Environment\n",
       "JVM: OpenJDK 64-Bit Server VM\n",
       "Default Encoding: UTF-8\n",
       "Language: en\n",
       "Country: null\n",
       "--></g></svg>"
      ]
     },
     "execution_count": 33,
     "metadata": {},
     "output_type": "execute_result"
    }
   ],
   "source": [
    "%viz --style=\"PLANTUML\" --view=\"Interconnection\" \"P1\""
   ]
  },
  {
   "cell_type": "code",
   "execution_count": 34,
   "id": "f8059cc8",
   "metadata": {
    "execution": {
     "iopub.execute_input": "2022-05-19T08:45:48.715425Z",
     "iopub.status.busy": "2022-05-19T08:45:48.714966Z",
     "iopub.status.idle": "2022-05-19T08:45:48.719770Z",
     "shell.execute_reply": "2022-05-19T08:45:48.719376Z"
    }
   },
   "outputs": [
    {
     "data": {
      "image/svg+xml": [
       "<?xml version=\"1.0\" encoding=\"UTF-8\" standalone=\"no\"?><svg xmlns=\"http://www.w3.org/2000/svg\" xmlns:xlink=\"http://www.w3.org/1999/xlink\" contentScriptType=\"application/ecmascript\" contentStyleType=\"text/css\" height=\"12px\" preserveAspectRatio=\"none\" style=\"width:12px;height:12px;\" version=\"1.1\" viewBox=\"0 0 12 12\" width=\"12px\" zoomAndPan=\"magnify\"><defs/><g><!--MD5=[6a4cb978cab31700e1ce5529f947a75d]\n",
       "@startuml\r\n",
       "skinparam ranksep 8\r\n",
       " \r\n",
       "@enduml\r\n",
       "\n",
       "PlantUML version 1.2020.13(Sat Jun 13 12:26:38 UTC 2020)\n",
       "(EPL source distribution)\n",
       "Java Runtime: OpenJDK Runtime Environment\n",
       "JVM: OpenJDK 64-Bit Server VM\n",
       "Default Encoding: UTF-8\n",
       "Language: en\n",
       "Country: null\n",
       "--></g></svg>"
      ]
     },
     "execution_count": 34,
     "metadata": {},
     "output_type": "execute_result"
    }
   ],
   "source": [
    "%viz --style=\"PLANTUML\" --view=\"Action\" \"P1\""
   ]
  },
  {
   "cell_type": "code",
   "execution_count": 35,
   "id": "fe62dad7",
   "metadata": {
    "execution": {
     "iopub.execute_input": "2022-05-19T08:45:48.769630Z",
     "iopub.status.busy": "2022-05-19T08:45:48.769174Z",
     "iopub.status.idle": "2022-05-19T08:45:48.774800Z",
     "shell.execute_reply": "2022-05-19T08:45:48.774416Z"
    }
   },
   "outputs": [
    {
     "data": {
      "image/svg+xml": [
       "<?xml version=\"1.0\" encoding=\"UTF-8\" standalone=\"no\"?><svg xmlns=\"http://www.w3.org/2000/svg\" xmlns:xlink=\"http://www.w3.org/1999/xlink\" contentScriptType=\"application/ecmascript\" contentStyleType=\"text/css\" height=\"12px\" preserveAspectRatio=\"none\" style=\"width:12px;height:12px;\" version=\"1.1\" viewBox=\"0 0 12 12\" width=\"12px\" zoomAndPan=\"magnify\"><defs/><g><!--MD5=[ca4faa0b02def275ea33c14ea7a1a98d]\n",
       "@startuml\r\n",
       "skinparam roundcorner 20\r\n",
       "skinparam BoxPadding 20\r\n",
       "skinparam SequenceBoxBackgroundColor #white\r\n",
       "skinparam style strictuml\r\n",
       "skinparam maxMessageSize 100\r\n",
       " \r\n",
       "@enduml\r\n",
       "\n",
       "PlantUML version 1.2020.13(Sat Jun 13 12:26:38 UTC 2020)\n",
       "(EPL source distribution)\n",
       "Java Runtime: OpenJDK Runtime Environment\n",
       "JVM: OpenJDK 64-Bit Server VM\n",
       "Default Encoding: UTF-8\n",
       "Language: en\n",
       "Country: null\n",
       "--></g></svg>"
      ]
     },
     "execution_count": 35,
     "metadata": {},
     "output_type": "execute_result"
    }
   ],
   "source": [
    "%viz --style=\"PLANTUML\" --view=\"Sequence\" \"P1\""
   ]
  },
  {
   "cell_type": "code",
   "execution_count": 36,
   "id": "de587d70",
   "metadata": {
    "execution": {
     "iopub.execute_input": "2022-05-19T08:45:48.824398Z",
     "iopub.status.busy": "2022-05-19T08:45:48.823943Z",
     "iopub.status.idle": "2022-05-19T08:45:48.846394Z",
     "shell.execute_reply": "2022-05-19T08:45:48.845815Z"
    }
   },
   "outputs": [
    {
     "data": {
      "image/svg+xml": [
       "<?xml version=\"1.0\" encoding=\"UTF-8\" standalone=\"no\"?><svg xmlns=\"http://www.w3.org/2000/svg\" xmlns:xlink=\"http://www.w3.org/1999/xlink\" contentScriptType=\"application/ecmascript\" contentStyleType=\"text/css\" height=\"109px\" preserveAspectRatio=\"none\" style=\"width:110px;height:109px;\" version=\"1.1\" viewBox=\"0 0 110 109\" width=\"110px\" zoomAndPan=\"magnify\"><defs><filter height=\"300%\" id=\"f1w4fyybomuf62\" width=\"300%\" x=\"-1\" y=\"-1\"><feGaussianBlur result=\"blurOut\" stdDeviation=\"2.0\"/><feColorMatrix in=\"blurOut\" result=\"blurOut2\" type=\"matrix\" values=\"0 0 0 0 0 0 0 0 0 0 0 0 0 0 0 0 0 0 .4 0\"/><feOffset dx=\"4.0\" dy=\"4.0\" in=\"blurOut2\" result=\"blurOut3\"/><feBlend in=\"SourceGraphic\" in2=\"blurOut3\" mode=\"normal\"/></filter></defs><g><!--MD5=[fbc87193dbaf4d95561dea2c320d4a47]\n",
       "cluster E1--><a href=\"psysml:a8165327-1d39-4d0f-ab82-760e144b8575\" target=\"_top\" title=\"psysml:a8165327-1d39-4d0f-ab82-760e144b8575\" xlink:actuate=\"onRequest\" xlink:href=\"psysml:a8165327-1d39-4d0f-ab82-760e144b8575\" xlink:show=\"new\" xlink:title=\"psysml:a8165327-1d39-4d0f-ab82-760e144b8575\" xlink:type=\"simple\"><polygon fill=\"#FFFFFF\" filter=\"url(#f1w4fyybomuf62)\" points=\"16,6,40,6,47,28.2969,88,28.2969,88,97,16,97,16,6\" style=\"stroke: #000000; stroke-width: 1.5;\"/><line style=\"stroke: #000000; stroke-width: 1.5;\" x1=\"16\" x2=\"47\" y1=\"28.2969\" y2=\"28.2969\"/><text fill=\"#000000\" font-family=\"sans-serif\" font-size=\"14\" font-weight=\"bold\" lengthAdjust=\"spacingAndGlyphs\" textLength=\"18\" x=\"20\" y=\"20.9951\">P1</text></a><!--MD5=[b4997ac47864f28c2f74865a473b2911]\n",
       "class E2--><a href=\"psysml:f3ff8d18-3866-4ad0-84e8-5fc2e50b87fe\" target=\"_top\" title=\"psysml:f3ff8d18-3866-4ad0-84e8-5fc2e50b87fe\" xlink:actuate=\"onRequest\" xlink:href=\"psysml:f3ff8d18-3866-4ad0-84e8-5fc2e50b87fe\" xlink:show=\"new\" xlink:title=\"psysml:f3ff8d18-3866-4ad0-84e8-5fc2e50b87fe\" xlink:type=\"simple\"><rect fill=\"#FEFECE\" filter=\"url(#f1w4fyybomuf62)\" height=\"40\" id=\"E2\" style=\"stroke: #A80036; stroke-width: 1.5;\" width=\"40\" x=\"32\" y=\"41\"/><ellipse cx=\"47\" cy=\"57\" fill=\"#008000\" rx=\"11\" ry=\"11\" style=\"stroke: #A80036; stroke-width: 1.0;\"/><path d=\"M43.875,62 L43.875,51.4063 L47.1094,51.4063 Q49.0156,51.4063 49.9219,52.1563 Q50.8438,52.9063 50.8438,54.0781 Q50.8438,54.7656 50.4531,55.4219 Q50.0781,56.0781 49.3594,56.375 Q50.2188,56.75 50.7344,57.4375 Q51.25,58.125 51.25,58.9375 Q51.25,60.3125 50.2188,61.1563 Q49.2031,62 47.0938,62 L43.875,62 Z M45.7969,55.6406 L46.9531,55.6406 Q48.0781,55.6406 48.4844,55.2656 Q48.9063,54.875 48.9063,54.25 Q48.9063,53.6719 48.4844,53.3125 Q48.0625,52.9531 47.125,52.9531 L45.7969,52.9531 L45.7969,55.6406 Z M45.7969,60.4219 L47.2969,60.4219 Q48.2031,60.4219 48.7344,60.0313 Q49.2656,59.6406 49.2656,58.8906 Q49.2656,58.125 48.7656,57.6563 Q48.2656,57.1719 47,57.1719 L45.7969,57.1719 L45.7969,60.4219 Z \"/><text fill=\"#000000\" font-family=\"sans-serif\" font-size=\"12\" lengthAdjust=\"spacingAndGlyphs\" textLength=\"8\" x=\"61\" y=\"61.1543\">A</text><line style=\"stroke: #A80036; stroke-width: 1.5;\" x1=\"33\" x2=\"71\" y1=\"73\" y2=\"73\"/></a><!--MD5=[d7237897927e8f74fe4a76ed48893aea]\n",
       "@startuml\r\n",
       " \r\n",
       "package \"P1\" as E1  [[psysml:a8165327-1d39-4d0f-ab82-760e144b8575 ]]  {\r\n",
       "comp def \"A\" as E2 << << (B,green) >> [[psysml:f3ff8d18-3866-4ad0-84e8-5fc2e50b87fe ]] {\r\n",
       "}\r\n",
       "}\r\n",
       "@enduml\r\n",
       "\n",
       "PlantUML version 1.2020.13(Sat Jun 13 12:26:38 UTC 2020)\n",
       "(EPL source distribution)\n",
       "Java Runtime: OpenJDK Runtime Environment\n",
       "JVM: OpenJDK 64-Bit Server VM\n",
       "Default Encoding: UTF-8\n",
       "Language: en\n",
       "Country: null\n",
       "--></g></svg>"
      ]
     },
     "execution_count": 36,
     "metadata": {},
     "output_type": "execute_result"
    }
   ],
   "source": [
    "%viz --style=\"PLANTUML\" --view=\"MIXED\" \"P1\""
   ]
  },
  {
   "cell_type": "code",
   "execution_count": 37,
   "id": "fec1b7f0",
   "metadata": {
    "execution": {
     "iopub.execute_input": "2022-05-19T08:45:48.895785Z",
     "iopub.status.busy": "2022-05-19T08:45:48.895136Z",
     "iopub.status.idle": "2022-05-19T08:45:48.916339Z",
     "shell.execute_reply": "2022-05-19T08:45:48.916017Z"
    }
   },
   "outputs": [
    {
     "data": {
      "image/svg+xml": [
       "<?xml version=\"1.0\" encoding=\"UTF-8\" standalone=\"no\"?><svg xmlns=\"http://www.w3.org/2000/svg\" xmlns:xlink=\"http://www.w3.org/1999/xlink\" contentScriptType=\"application/ecmascript\" contentStyleType=\"text/css\" height=\"115px\" preserveAspectRatio=\"none\" style=\"width:140px;height:115px;\" version=\"1.1\" viewBox=\"0 0 140 115\" width=\"140px\" zoomAndPan=\"magnify\"><defs/><g><!--MD5=[fbc87193dbaf4d95561dea2c320d4a47]\n",
       "cluster E1--><a href=\"psysml:a8165327-1d39-4d0f-ab82-760e144b8575\" target=\"_top\" title=\"psysml:a8165327-1d39-4d0f-ab82-760e144b8575\" xlink:actuate=\"onRequest\" xlink:href=\"psysml:a8165327-1d39-4d0f-ab82-760e144b8575\" xlink:show=\"new\" xlink:title=\"psysml:a8165327-1d39-4d0f-ab82-760e144b8575\" xlink:type=\"simple\"><polygon fill=\"#FFFFFF\" points=\"16,6,40,6,47,28.2969,118,28.2969,118,103,16,103,16,6\" style=\"stroke: #000000; stroke-width: 1.5;\"/><line style=\"stroke: #000000; stroke-width: 1.5;\" x1=\"16\" x2=\"47\" y1=\"28.2969\" y2=\"28.2969\"/><text fill=\"#000000\" font-family=\"sans-serif\" font-size=\"14\" font-weight=\"bold\" lengthAdjust=\"spacingAndGlyphs\" textLength=\"18\" x=\"20\" y=\"20.9951\">P1</text></a><!--MD5=[b4997ac47864f28c2f74865a473b2911]\n",
       "class E2--><a href=\"psysml:f3ff8d18-3866-4ad0-84e8-5fc2e50b87fe\" target=\"_top\" title=\"psysml:f3ff8d18-3866-4ad0-84e8-5fc2e50b87fe\" xlink:actuate=\"onRequest\" xlink:href=\"psysml:f3ff8d18-3866-4ad0-84e8-5fc2e50b87fe\" xlink:show=\"new\" xlink:title=\"psysml:f3ff8d18-3866-4ad0-84e8-5fc2e50b87fe\" xlink:type=\"simple\"><rect fill=\"#FFFFFF\" height=\"45.9375\" id=\"E2\" style=\"stroke: #383838; stroke-width: 1.5;\" width=\"70\" x=\"32\" y=\"41\"/><text fill=\"#000000\" font-family=\"sans-serif\" font-size=\"12\" font-style=\"italic\" lengthAdjust=\"spacingAndGlyphs\" textLength=\"68\" x=\"33\" y=\"57.1387\">«part  def»</text><text fill=\"#000000\" font-family=\"sans-serif\" font-size=\"12\" lengthAdjust=\"spacingAndGlyphs\" textLength=\"8\" x=\"63\" y=\"71.1074\">A</text><line style=\"stroke: #383838; stroke-width: 1.5;\" x1=\"33\" x2=\"101\" y1=\"78.9375\" y2=\"78.9375\"/></a><!--MD5=[429325ccf3122d1dec790b23720b7616]\n",
       "@startuml\r\n",
       "skinparam monochrome true\r\n",
       "skinparam classbackgroundcolor white\r\n",
       "skinparam shadowing false\r\n",
       "skinparam wrapWidth 300\r\n",
       "hide circle\r\n",
       "\r\n",
       "package \"P1\" as E1  [[psysml:a8165327-1d39-4d0f-ab82-760e144b8575 ]]  {\r\n",
       "comp def \"A\" as E2  <<(T,blue) part  def>> [[psysml:f3ff8d18-3866-4ad0-84e8-5fc2e50b87fe ]] {\r\n",
       "}\r\n",
       "}\r\n",
       "@enduml\r\n",
       "\n",
       "PlantUML version 1.2020.13(Sat Jun 13 12:26:38 UTC 2020)\n",
       "(EPL source distribution)\n",
       "Java Runtime: OpenJDK Runtime Environment\n",
       "JVM: OpenJDK 64-Bit Server VM\n",
       "Default Encoding: UTF-8\n",
       "Language: en\n",
       "Country: null\n",
       "--></g></svg>"
      ]
     },
     "execution_count": 37,
     "metadata": {},
     "output_type": "execute_result"
    }
   ],
   "source": [
    "%viz --style=\"DEFAULT\" --view=\"Default\" \"P1\""
   ]
  },
  {
   "cell_type": "code",
   "execution_count": 38,
   "id": "097547f6",
   "metadata": {
    "execution": {
     "iopub.execute_input": "2022-05-19T08:45:48.966019Z",
     "iopub.status.busy": "2022-05-19T08:45:48.965783Z",
     "iopub.status.idle": "2022-05-19T08:45:48.989772Z",
     "shell.execute_reply": "2022-05-19T08:45:48.989306Z"
    }
   },
   "outputs": [
    {
     "data": {
      "image/svg+xml": [
       "<?xml version=\"1.0\" encoding=\"UTF-8\" standalone=\"no\"?><svg xmlns=\"http://www.w3.org/2000/svg\" xmlns:xlink=\"http://www.w3.org/1999/xlink\" contentScriptType=\"application/ecmascript\" contentStyleType=\"text/css\" height=\"115px\" preserveAspectRatio=\"none\" style=\"width:140px;height:115px;\" version=\"1.1\" viewBox=\"0 0 140 115\" width=\"140px\" zoomAndPan=\"magnify\"><defs/><g><!--MD5=[fbc87193dbaf4d95561dea2c320d4a47]\n",
       "cluster E1--><a href=\"psysml:a8165327-1d39-4d0f-ab82-760e144b8575\" target=\"_top\" title=\"psysml:a8165327-1d39-4d0f-ab82-760e144b8575\" xlink:actuate=\"onRequest\" xlink:href=\"psysml:a8165327-1d39-4d0f-ab82-760e144b8575\" xlink:show=\"new\" xlink:title=\"psysml:a8165327-1d39-4d0f-ab82-760e144b8575\" xlink:type=\"simple\"><polygon fill=\"#FFFFFF\" points=\"16,6,40,6,47,28.2969,118,28.2969,118,103,16,103,16,6\" style=\"stroke: #000000; stroke-width: 1.5;\"/><line style=\"stroke: #000000; stroke-width: 1.5;\" x1=\"16\" x2=\"47\" y1=\"28.2969\" y2=\"28.2969\"/><text fill=\"#000000\" font-family=\"sans-serif\" font-size=\"14\" font-weight=\"bold\" lengthAdjust=\"spacingAndGlyphs\" textLength=\"18\" x=\"20\" y=\"20.9951\">P1</text></a><!--MD5=[b4997ac47864f28c2f74865a473b2911]\n",
       "class E2--><a href=\"psysml:f3ff8d18-3866-4ad0-84e8-5fc2e50b87fe\" target=\"_top\" title=\"psysml:f3ff8d18-3866-4ad0-84e8-5fc2e50b87fe\" xlink:actuate=\"onRequest\" xlink:href=\"psysml:f3ff8d18-3866-4ad0-84e8-5fc2e50b87fe\" xlink:show=\"new\" xlink:title=\"psysml:f3ff8d18-3866-4ad0-84e8-5fc2e50b87fe\" xlink:type=\"simple\"><rect fill=\"#FFFFFF\" height=\"45.9375\" id=\"E2\" style=\"stroke: #383838; stroke-width: 1.5;\" width=\"70\" x=\"32\" y=\"41\"/><text fill=\"#000000\" font-family=\"sans-serif\" font-size=\"12\" font-style=\"italic\" lengthAdjust=\"spacingAndGlyphs\" textLength=\"68\" x=\"33\" y=\"57.1387\">«part  def»</text><text fill=\"#000000\" font-family=\"sans-serif\" font-size=\"12\" lengthAdjust=\"spacingAndGlyphs\" textLength=\"8\" x=\"63\" y=\"71.1074\">A</text><line style=\"stroke: #383838; stroke-width: 1.5;\" x1=\"33\" x2=\"101\" y1=\"78.9375\" y2=\"78.9375\"/></a><!--MD5=[429325ccf3122d1dec790b23720b7616]\n",
       "@startuml\r\n",
       "skinparam monochrome true\r\n",
       "skinparam classbackgroundcolor white\r\n",
       "skinparam shadowing false\r\n",
       "skinparam wrapWidth 300\r\n",
       "hide circle\r\n",
       "\r\n",
       "package \"P1\" as E1  [[psysml:a8165327-1d39-4d0f-ab82-760e144b8575 ]]  {\r\n",
       "comp def \"A\" as E2  <<(T,blue) part  def>> [[psysml:f3ff8d18-3866-4ad0-84e8-5fc2e50b87fe ]] {\r\n",
       "}\r\n",
       "}\r\n",
       "@enduml\r\n",
       "\n",
       "PlantUML version 1.2020.13(Sat Jun 13 12:26:38 UTC 2020)\n",
       "(EPL source distribution)\n",
       "Java Runtime: OpenJDK Runtime Environment\n",
       "JVM: OpenJDK 64-Bit Server VM\n",
       "Default Encoding: UTF-8\n",
       "Language: en\n",
       "Country: null\n",
       "--></g></svg>"
      ]
     },
     "execution_count": 38,
     "metadata": {},
     "output_type": "execute_result"
    }
   ],
   "source": [
    "%viz --style=\"DEFAULT\" --view=\"Tree\" \"P1\""
   ]
  },
  {
   "cell_type": "code",
   "execution_count": 39,
   "id": "0a35149d",
   "metadata": {
    "execution": {
     "iopub.execute_input": "2022-05-19T08:45:49.039093Z",
     "iopub.status.busy": "2022-05-19T08:45:49.038728Z",
     "iopub.status.idle": "2022-05-19T08:45:49.044044Z",
     "shell.execute_reply": "2022-05-19T08:45:49.044474Z"
    }
   },
   "outputs": [
    {
     "data": {
      "image/svg+xml": [
       "<?xml version=\"1.0\" encoding=\"UTF-8\" standalone=\"no\"?><svg xmlns=\"http://www.w3.org/2000/svg\" xmlns:xlink=\"http://www.w3.org/1999/xlink\" contentScriptType=\"application/ecmascript\" contentStyleType=\"text/css\" height=\"12px\" preserveAspectRatio=\"none\" style=\"width:12px;height:12px;\" version=\"1.1\" viewBox=\"0 0 12 12\" width=\"12px\" zoomAndPan=\"magnify\"><defs/><g><!--MD5=[c5f280e076d0d61ccf4b0f27871bda1d]\n",
       "@startuml\r\n",
       "skinparam monochrome true\r\n",
       "skinparam classbackgroundcolor white\r\n",
       "skinparam shadowing false\r\n",
       "skinparam wrapWidth 300\r\n",
       "hide circle\r\n",
       "\r\n",
       "@enduml\r\n",
       "\n",
       "PlantUML version 1.2020.13(Sat Jun 13 12:26:38 UTC 2020)\n",
       "(EPL source distribution)\n",
       "Java Runtime: OpenJDK Runtime Environment\n",
       "JVM: OpenJDK 64-Bit Server VM\n",
       "Default Encoding: UTF-8\n",
       "Language: en\n",
       "Country: null\n",
       "--></g></svg>"
      ]
     },
     "execution_count": 39,
     "metadata": {},
     "output_type": "execute_result"
    }
   ],
   "source": [
    "%viz --style=\"DEFAULT\" --view=\"State\" \"P1\""
   ]
  },
  {
   "cell_type": "code",
   "execution_count": 40,
   "id": "3c9576f5",
   "metadata": {
    "execution": {
     "iopub.execute_input": "2022-05-19T08:45:49.093860Z",
     "iopub.status.busy": "2022-05-19T08:45:49.093409Z",
     "iopub.status.idle": "2022-05-19T08:45:49.117071Z",
     "shell.execute_reply": "2022-05-19T08:45:49.116452Z"
    }
   },
   "outputs": [
    {
     "data": {
      "image/svg+xml": [
       "<?xml version=\"1.0\" encoding=\"UTF-8\" standalone=\"no\"?><svg xmlns=\"http://www.w3.org/2000/svg\" xmlns:xlink=\"http://www.w3.org/1999/xlink\" contentScriptType=\"application/ecmascript\" contentStyleType=\"text/css\" height=\"112px\" preserveAspectRatio=\"none\" style=\"width:144px;height:112px;\" version=\"1.1\" viewBox=\"0 0 144 112\" width=\"144px\" zoomAndPan=\"magnify\"><defs/><g><!--MD5=[fbc87193dbaf4d95561dea2c320d4a47]\n",
       "cluster E1--><a href=\"psysml:a8165327-1d39-4d0f-ab82-760e144b8575\" target=\"_top\" title=\"psysml:a8165327-1d39-4d0f-ab82-760e144b8575\" xlink:actuate=\"onRequest\" xlink:href=\"psysml:a8165327-1d39-4d0f-ab82-760e144b8575\" xlink:show=\"new\" xlink:title=\"psysml:a8165327-1d39-4d0f-ab82-760e144b8575\" xlink:type=\"simple\"><polygon fill=\"#FFFFFF\" points=\"16,6,40,6,47,28.2969,122,28.2969,122,100,16,100,16,6\" style=\"stroke: #000000; stroke-width: 1.5;\"/><line style=\"stroke: #000000; stroke-width: 1.5;\" x1=\"16\" x2=\"47\" y1=\"28.2969\" y2=\"28.2969\"/><text fill=\"#000000\" font-family=\"sans-serif\" font-size=\"14\" font-weight=\"bold\" lengthAdjust=\"spacingAndGlyphs\" textLength=\"18\" x=\"20\" y=\"20.9951\">P1</text></a><g id=\"E1.E2\"><a href=\"psysml:f3ff8d18-3866-4ad0-84e8-5fc2e50b87fe\" target=\"_top\" title=\"psysml:f3ff8d18-3866-4ad0-84e8-5fc2e50b87fe\" xlink:actuate=\"onRequest\" xlink:href=\"psysml:f3ff8d18-3866-4ad0-84e8-5fc2e50b87fe\" xlink:show=\"new\" xlink:title=\"psysml:f3ff8d18-3866-4ad0-84e8-5fc2e50b87fe\" xlink:type=\"simple\"><rect fill=\"#FFFFFF\" height=\"42.9375\" id=\"E2\" style=\"stroke: #383838; stroke-width: 1.5;\" width=\"75\" x=\"31.5\" y=\"41\"/><rect fill=\"#F8F8F8\" height=\"37.9375\" style=\"stroke: #383838; stroke-width: 1.5;\" width=\"75\" x=\"31.5\" y=\"41\"/><text fill=\"#000000\" font-family=\"sans-serif\" font-size=\"12\" font-style=\"italic\" lengthAdjust=\"spacingAndGlyphs\" textLength=\"68\" x=\"35\" y=\"57.1387\">«part  def»</text><text fill=\"#000000\" font-family=\"sans-serif\" font-size=\"12\" lengthAdjust=\"spacingAndGlyphs\" textLength=\"8\" x=\"65\" y=\"71.1074\">A</text></a></g><!--MD5=[213e7f3da21bd8bac9a7be8e1972fa8a]\n",
       "@startuml\r\n",
       "skinparam ranksep 10\r\n",
       "skinparam rectangle {\r\n",
       " backgroundColor<<block>> LightGreen\r\n",
       "}\r\n",
       "skinparam monochrome true\r\n",
       "skinparam classbackgroundcolor white\r\n",
       "skinparam shadowing false\r\n",
       "skinparam wrapWidth 300\r\n",
       "hide circle\r\n",
       "\r\n",
       "package \"P1\" as E1  [[psysml:a8165327-1d39-4d0f-ab82-760e144b8575 ]]  {\r\n",
       "rec def \"A\" as E2  <<(T,blue) part  def>> [[psysml:f3ff8d18-3866-4ad0-84e8-5fc2e50b87fe ]] {\r\n",
       "}\r\n",
       "}\r\n",
       "@enduml\r\n",
       "\n",
       "PlantUML version 1.2020.13(Sat Jun 13 12:26:38 UTC 2020)\n",
       "(EPL source distribution)\n",
       "Java Runtime: OpenJDK Runtime Environment\n",
       "JVM: OpenJDK 64-Bit Server VM\n",
       "Default Encoding: UTF-8\n",
       "Language: en\n",
       "Country: null\n",
       "--></g></svg>"
      ]
     },
     "execution_count": 40,
     "metadata": {},
     "output_type": "execute_result"
    }
   ],
   "source": [
    "%viz --style=\"DEFAULT\" --view=\"Interconnection\" \"P1\""
   ]
  },
  {
   "cell_type": "code",
   "execution_count": 41,
   "id": "f51289fc",
   "metadata": {
    "execution": {
     "iopub.execute_input": "2022-05-19T08:45:49.166127Z",
     "iopub.status.busy": "2022-05-19T08:45:49.165651Z",
     "iopub.status.idle": "2022-05-19T08:45:49.171663Z",
     "shell.execute_reply": "2022-05-19T08:45:49.171122Z"
    }
   },
   "outputs": [
    {
     "data": {
      "image/svg+xml": [
       "<?xml version=\"1.0\" encoding=\"UTF-8\" standalone=\"no\"?><svg xmlns=\"http://www.w3.org/2000/svg\" xmlns:xlink=\"http://www.w3.org/1999/xlink\" contentScriptType=\"application/ecmascript\" contentStyleType=\"text/css\" height=\"12px\" preserveAspectRatio=\"none\" style=\"width:12px;height:12px;\" version=\"1.1\" viewBox=\"0 0 12 12\" width=\"12px\" zoomAndPan=\"magnify\"><defs/><g><!--MD5=[388f21188e31bfdd97050473b19af356]\n",
       "@startuml\r\n",
       "skinparam ranksep 8\r\n",
       "skinparam monochrome true\r\n",
       "skinparam classbackgroundcolor white\r\n",
       "skinparam shadowing false\r\n",
       "skinparam wrapWidth 300\r\n",
       "hide circle\r\n",
       "\r\n",
       "@enduml\r\n",
       "\n",
       "PlantUML version 1.2020.13(Sat Jun 13 12:26:38 UTC 2020)\n",
       "(EPL source distribution)\n",
       "Java Runtime: OpenJDK Runtime Environment\n",
       "JVM: OpenJDK 64-Bit Server VM\n",
       "Default Encoding: UTF-8\n",
       "Language: en\n",
       "Country: null\n",
       "--></g></svg>"
      ]
     },
     "execution_count": 41,
     "metadata": {},
     "output_type": "execute_result"
    }
   ],
   "source": [
    "%viz --style=\"DEFAULT\" --view=\"Action\" \"P1\""
   ]
  },
  {
   "cell_type": "code",
   "execution_count": 42,
   "id": "66600e4c",
   "metadata": {
    "execution": {
     "iopub.execute_input": "2022-05-19T08:45:49.221297Z",
     "iopub.status.busy": "2022-05-19T08:45:49.220663Z",
     "iopub.status.idle": "2022-05-19T08:45:49.226329Z",
     "shell.execute_reply": "2022-05-19T08:45:49.225921Z"
    }
   },
   "outputs": [
    {
     "data": {
      "image/svg+xml": [
       "<?xml version=\"1.0\" encoding=\"UTF-8\" standalone=\"no\"?><svg xmlns=\"http://www.w3.org/2000/svg\" xmlns:xlink=\"http://www.w3.org/1999/xlink\" contentScriptType=\"application/ecmascript\" contentStyleType=\"text/css\" height=\"12px\" preserveAspectRatio=\"none\" style=\"width:12px;height:12px;\" version=\"1.1\" viewBox=\"0 0 12 12\" width=\"12px\" zoomAndPan=\"magnify\"><defs/><g><!--MD5=[0b72472770326784bf6c2b53246e1e64]\n",
       "@startuml\r\n",
       "skinparam roundcorner 20\r\n",
       "skinparam BoxPadding 20\r\n",
       "skinparam SequenceBoxBackgroundColor #white\r\n",
       "skinparam style strictuml\r\n",
       "skinparam maxMessageSize 100\r\n",
       "skinparam monochrome true\r\n",
       "skinparam classbackgroundcolor white\r\n",
       "skinparam shadowing false\r\n",
       "skinparam wrapWidth 300\r\n",
       "hide circle\r\n",
       "\r\n",
       "@enduml\r\n",
       "\n",
       "PlantUML version 1.2020.13(Sat Jun 13 12:26:38 UTC 2020)\n",
       "(EPL source distribution)\n",
       "Java Runtime: OpenJDK Runtime Environment\n",
       "JVM: OpenJDK 64-Bit Server VM\n",
       "Default Encoding: UTF-8\n",
       "Language: en\n",
       "Country: null\n",
       "--></g></svg>"
      ]
     },
     "execution_count": 42,
     "metadata": {},
     "output_type": "execute_result"
    }
   ],
   "source": [
    "%viz --style=\"DEFAULT\" --view=\"Sequence\" \"P1\""
   ]
  },
  {
   "cell_type": "code",
   "execution_count": 43,
   "id": "e026b026",
   "metadata": {
    "execution": {
     "iopub.execute_input": "2022-05-19T08:45:49.276080Z",
     "iopub.status.busy": "2022-05-19T08:45:49.275613Z",
     "iopub.status.idle": "2022-05-19T08:45:49.296804Z",
     "shell.execute_reply": "2022-05-19T08:45:49.296340Z"
    }
   },
   "outputs": [
    {
     "data": {
      "image/svg+xml": [
       "<?xml version=\"1.0\" encoding=\"UTF-8\" standalone=\"no\"?><svg xmlns=\"http://www.w3.org/2000/svg\" xmlns:xlink=\"http://www.w3.org/1999/xlink\" contentScriptType=\"application/ecmascript\" contentStyleType=\"text/css\" height=\"115px\" preserveAspectRatio=\"none\" style=\"width:140px;height:115px;\" version=\"1.1\" viewBox=\"0 0 140 115\" width=\"140px\" zoomAndPan=\"magnify\"><defs/><g><!--MD5=[fbc87193dbaf4d95561dea2c320d4a47]\n",
       "cluster E1--><a href=\"psysml:a8165327-1d39-4d0f-ab82-760e144b8575\" target=\"_top\" title=\"psysml:a8165327-1d39-4d0f-ab82-760e144b8575\" xlink:actuate=\"onRequest\" xlink:href=\"psysml:a8165327-1d39-4d0f-ab82-760e144b8575\" xlink:show=\"new\" xlink:title=\"psysml:a8165327-1d39-4d0f-ab82-760e144b8575\" xlink:type=\"simple\"><polygon fill=\"#FFFFFF\" points=\"16,6,40,6,47,28.2969,118,28.2969,118,103,16,103,16,6\" style=\"stroke: #000000; stroke-width: 1.5;\"/><line style=\"stroke: #000000; stroke-width: 1.5;\" x1=\"16\" x2=\"47\" y1=\"28.2969\" y2=\"28.2969\"/><text fill=\"#000000\" font-family=\"sans-serif\" font-size=\"14\" font-weight=\"bold\" lengthAdjust=\"spacingAndGlyphs\" textLength=\"18\" x=\"20\" y=\"20.9951\">P1</text></a><!--MD5=[b4997ac47864f28c2f74865a473b2911]\n",
       "class E2--><a href=\"psysml:f3ff8d18-3866-4ad0-84e8-5fc2e50b87fe\" target=\"_top\" title=\"psysml:f3ff8d18-3866-4ad0-84e8-5fc2e50b87fe\" xlink:actuate=\"onRequest\" xlink:href=\"psysml:f3ff8d18-3866-4ad0-84e8-5fc2e50b87fe\" xlink:show=\"new\" xlink:title=\"psysml:f3ff8d18-3866-4ad0-84e8-5fc2e50b87fe\" xlink:type=\"simple\"><rect fill=\"#FFFFFF\" height=\"45.9375\" id=\"E2\" style=\"stroke: #383838; stroke-width: 1.5;\" width=\"70\" x=\"32\" y=\"41\"/><text fill=\"#000000\" font-family=\"sans-serif\" font-size=\"12\" font-style=\"italic\" lengthAdjust=\"spacingAndGlyphs\" textLength=\"68\" x=\"33\" y=\"57.1387\">«part  def»</text><text fill=\"#000000\" font-family=\"sans-serif\" font-size=\"12\" lengthAdjust=\"spacingAndGlyphs\" textLength=\"8\" x=\"63\" y=\"71.1074\">A</text><line style=\"stroke: #383838; stroke-width: 1.5;\" x1=\"33\" x2=\"101\" y1=\"78.9375\" y2=\"78.9375\"/></a><!--MD5=[429325ccf3122d1dec790b23720b7616]\n",
       "@startuml\r\n",
       "skinparam monochrome true\r\n",
       "skinparam classbackgroundcolor white\r\n",
       "skinparam shadowing false\r\n",
       "skinparam wrapWidth 300\r\n",
       "hide circle\r\n",
       "\r\n",
       "package \"P1\" as E1  [[psysml:a8165327-1d39-4d0f-ab82-760e144b8575 ]]  {\r\n",
       "comp def \"A\" as E2  <<(T,blue) part  def>> [[psysml:f3ff8d18-3866-4ad0-84e8-5fc2e50b87fe ]] {\r\n",
       "}\r\n",
       "}\r\n",
       "@enduml\r\n",
       "\n",
       "PlantUML version 1.2020.13(Sat Jun 13 12:26:38 UTC 2020)\n",
       "(EPL source distribution)\n",
       "Java Runtime: OpenJDK Runtime Environment\n",
       "JVM: OpenJDK 64-Bit Server VM\n",
       "Default Encoding: UTF-8\n",
       "Language: en\n",
       "Country: null\n",
       "--></g></svg>"
      ]
     },
     "execution_count": 43,
     "metadata": {},
     "output_type": "execute_result"
    }
   ],
   "source": [
    "%viz --style=\"DEFAULT\" --view=\"MIXED\" \"P1\""
   ]
  },
  {
   "cell_type": "code",
   "execution_count": 44,
   "id": "ce0feafe",
   "metadata": {
    "execution": {
     "iopub.execute_input": "2022-05-19T08:45:49.346405Z",
     "iopub.status.busy": "2022-05-19T08:45:49.345923Z",
     "iopub.status.idle": "2022-05-19T08:45:49.368073Z",
     "shell.execute_reply": "2022-05-19T08:45:49.367632Z"
    }
   },
   "outputs": [
    {
     "data": {
      "image/svg+xml": [
       "<?xml version=\"1.0\" encoding=\"UTF-8\" standalone=\"no\"?><svg xmlns=\"http://www.w3.org/2000/svg\" xmlns:xlink=\"http://www.w3.org/1999/xlink\" contentScriptType=\"application/ecmascript\" contentStyleType=\"text/css\" height=\"115px\" preserveAspectRatio=\"none\" style=\"width:140px;height:115px;\" version=\"1.1\" viewBox=\"0 0 140 115\" width=\"140px\" zoomAndPan=\"magnify\"><defs/><g><!--MD5=[fbc87193dbaf4d95561dea2c320d4a47]\n",
       "cluster E1--><a href=\"psysml:a8165327-1d39-4d0f-ab82-760e144b8575\" target=\"_top\" title=\"psysml:a8165327-1d39-4d0f-ab82-760e144b8575\" xlink:actuate=\"onRequest\" xlink:href=\"psysml:a8165327-1d39-4d0f-ab82-760e144b8575\" xlink:show=\"new\" xlink:title=\"psysml:a8165327-1d39-4d0f-ab82-760e144b8575\" xlink:type=\"simple\"><polygon fill=\"#FFFFFF\" points=\"16,6,40,6,47,28.2969,118,28.2969,118,103,16,103,16,6\" style=\"stroke: #000000; stroke-width: 1.5;\"/><line style=\"stroke: #000000; stroke-width: 1.5;\" x1=\"16\" x2=\"47\" y1=\"28.2969\" y2=\"28.2969\"/><text fill=\"#000000\" font-family=\"sans-serif\" font-size=\"14\" font-weight=\"bold\" lengthAdjust=\"spacingAndGlyphs\" textLength=\"18\" x=\"20\" y=\"20.9951\">P1</text></a><!--MD5=[b4997ac47864f28c2f74865a473b2911]\n",
       "class E2--><a href=\"psysml:f3ff8d18-3866-4ad0-84e8-5fc2e50b87fe\" target=\"_top\" title=\"psysml:f3ff8d18-3866-4ad0-84e8-5fc2e50b87fe\" xlink:actuate=\"onRequest\" xlink:href=\"psysml:f3ff8d18-3866-4ad0-84e8-5fc2e50b87fe\" xlink:show=\"new\" xlink:title=\"psysml:f3ff8d18-3866-4ad0-84e8-5fc2e50b87fe\" xlink:type=\"simple\"><rect fill=\"#FFFFFF\" height=\"45.9375\" id=\"E2\" style=\"stroke: #383838; stroke-width: 1.5;\" width=\"70\" x=\"32\" y=\"41\"/><text fill=\"#000000\" font-family=\"sans-serif\" font-size=\"12\" font-style=\"italic\" lengthAdjust=\"spacingAndGlyphs\" textLength=\"68\" x=\"33\" y=\"57.1387\">«part  def»</text><text fill=\"#000000\" font-family=\"sans-serif\" font-size=\"12\" lengthAdjust=\"spacingAndGlyphs\" textLength=\"8\" x=\"63\" y=\"71.1074\">A</text><line style=\"stroke: #383838; stroke-width: 1.5;\" x1=\"33\" x2=\"101\" y1=\"78.9375\" y2=\"78.9375\"/></a><!--MD5=[65360fffb45f82b8590b324622805368]\n",
       "@startuml\r\n",
       "top to bottom direction\r\n",
       "skinparam monochrome true\r\n",
       "skinparam classbackgroundcolor white\r\n",
       "skinparam shadowing false\r\n",
       "skinparam wrapWidth 300\r\n",
       "hide circle\r\n",
       "\r\n",
       "package \"P1\" as E1  [[psysml:a8165327-1d39-4d0f-ab82-760e144b8575 ]]  {\r\n",
       "comp def \"A\" as E2  <<(T,blue) part  def>> [[psysml:f3ff8d18-3866-4ad0-84e8-5fc2e50b87fe ]] {\r\n",
       "}\r\n",
       "}\r\n",
       "@enduml\r\n",
       "\n",
       "PlantUML version 1.2020.13(Sat Jun 13 12:26:38 UTC 2020)\n",
       "(EPL source distribution)\n",
       "Java Runtime: OpenJDK Runtime Environment\n",
       "JVM: OpenJDK 64-Bit Server VM\n",
       "Default Encoding: UTF-8\n",
       "Language: en\n",
       "Country: null\n",
       "--></g></svg>"
      ]
     },
     "execution_count": 44,
     "metadata": {},
     "output_type": "execute_result"
    }
   ],
   "source": [
    "%viz --style=\"TB\" --view=\"Default\" \"P1\""
   ]
  },
  {
   "cell_type": "code",
   "execution_count": 45,
   "id": "c30e4444",
   "metadata": {
    "execution": {
     "iopub.execute_input": "2022-05-19T08:45:49.417871Z",
     "iopub.status.busy": "2022-05-19T08:45:49.417368Z",
     "iopub.status.idle": "2022-05-19T08:45:49.439423Z",
     "shell.execute_reply": "2022-05-19T08:45:49.439029Z"
    }
   },
   "outputs": [
    {
     "data": {
      "image/svg+xml": [
       "<?xml version=\"1.0\" encoding=\"UTF-8\" standalone=\"no\"?><svg xmlns=\"http://www.w3.org/2000/svg\" xmlns:xlink=\"http://www.w3.org/1999/xlink\" contentScriptType=\"application/ecmascript\" contentStyleType=\"text/css\" height=\"115px\" preserveAspectRatio=\"none\" style=\"width:140px;height:115px;\" version=\"1.1\" viewBox=\"0 0 140 115\" width=\"140px\" zoomAndPan=\"magnify\"><defs/><g><!--MD5=[fbc87193dbaf4d95561dea2c320d4a47]\n",
       "cluster E1--><a href=\"psysml:a8165327-1d39-4d0f-ab82-760e144b8575\" target=\"_top\" title=\"psysml:a8165327-1d39-4d0f-ab82-760e144b8575\" xlink:actuate=\"onRequest\" xlink:href=\"psysml:a8165327-1d39-4d0f-ab82-760e144b8575\" xlink:show=\"new\" xlink:title=\"psysml:a8165327-1d39-4d0f-ab82-760e144b8575\" xlink:type=\"simple\"><polygon fill=\"#FFFFFF\" points=\"16,6,40,6,47,28.2969,118,28.2969,118,103,16,103,16,6\" style=\"stroke: #000000; stroke-width: 1.5;\"/><line style=\"stroke: #000000; stroke-width: 1.5;\" x1=\"16\" x2=\"47\" y1=\"28.2969\" y2=\"28.2969\"/><text fill=\"#000000\" font-family=\"sans-serif\" font-size=\"14\" font-weight=\"bold\" lengthAdjust=\"spacingAndGlyphs\" textLength=\"18\" x=\"20\" y=\"20.9951\">P1</text></a><!--MD5=[b4997ac47864f28c2f74865a473b2911]\n",
       "class E2--><a href=\"psysml:f3ff8d18-3866-4ad0-84e8-5fc2e50b87fe\" target=\"_top\" title=\"psysml:f3ff8d18-3866-4ad0-84e8-5fc2e50b87fe\" xlink:actuate=\"onRequest\" xlink:href=\"psysml:f3ff8d18-3866-4ad0-84e8-5fc2e50b87fe\" xlink:show=\"new\" xlink:title=\"psysml:f3ff8d18-3866-4ad0-84e8-5fc2e50b87fe\" xlink:type=\"simple\"><rect fill=\"#FFFFFF\" height=\"45.9375\" id=\"E2\" style=\"stroke: #383838; stroke-width: 1.5;\" width=\"70\" x=\"32\" y=\"41\"/><text fill=\"#000000\" font-family=\"sans-serif\" font-size=\"12\" font-style=\"italic\" lengthAdjust=\"spacingAndGlyphs\" textLength=\"68\" x=\"33\" y=\"57.1387\">«part  def»</text><text fill=\"#000000\" font-family=\"sans-serif\" font-size=\"12\" lengthAdjust=\"spacingAndGlyphs\" textLength=\"8\" x=\"63\" y=\"71.1074\">A</text><line style=\"stroke: #383838; stroke-width: 1.5;\" x1=\"33\" x2=\"101\" y1=\"78.9375\" y2=\"78.9375\"/></a><!--MD5=[65360fffb45f82b8590b324622805368]\n",
       "@startuml\r\n",
       "top to bottom direction\r\n",
       "skinparam monochrome true\r\n",
       "skinparam classbackgroundcolor white\r\n",
       "skinparam shadowing false\r\n",
       "skinparam wrapWidth 300\r\n",
       "hide circle\r\n",
       "\r\n",
       "package \"P1\" as E1  [[psysml:a8165327-1d39-4d0f-ab82-760e144b8575 ]]  {\r\n",
       "comp def \"A\" as E2  <<(T,blue) part  def>> [[psysml:f3ff8d18-3866-4ad0-84e8-5fc2e50b87fe ]] {\r\n",
       "}\r\n",
       "}\r\n",
       "@enduml\r\n",
       "\n",
       "PlantUML version 1.2020.13(Sat Jun 13 12:26:38 UTC 2020)\n",
       "(EPL source distribution)\n",
       "Java Runtime: OpenJDK Runtime Environment\n",
       "JVM: OpenJDK 64-Bit Server VM\n",
       "Default Encoding: UTF-8\n",
       "Language: en\n",
       "Country: null\n",
       "--></g></svg>"
      ]
     },
     "execution_count": 45,
     "metadata": {},
     "output_type": "execute_result"
    }
   ],
   "source": [
    "%viz --style=\"TB\" --view=\"Tree\" \"P1\""
   ]
  },
  {
   "cell_type": "code",
   "execution_count": 46,
   "id": "6639c9f7",
   "metadata": {
    "execution": {
     "iopub.execute_input": "2022-05-19T08:45:49.489273Z",
     "iopub.status.busy": "2022-05-19T08:45:49.488821Z",
     "iopub.status.idle": "2022-05-19T08:45:49.493912Z",
     "shell.execute_reply": "2022-05-19T08:45:49.493534Z"
    }
   },
   "outputs": [
    {
     "data": {
      "image/svg+xml": [
       "<?xml version=\"1.0\" encoding=\"UTF-8\" standalone=\"no\"?><svg xmlns=\"http://www.w3.org/2000/svg\" xmlns:xlink=\"http://www.w3.org/1999/xlink\" contentScriptType=\"application/ecmascript\" contentStyleType=\"text/css\" height=\"12px\" preserveAspectRatio=\"none\" style=\"width:12px;height:12px;\" version=\"1.1\" viewBox=\"0 0 12 12\" width=\"12px\" zoomAndPan=\"magnify\"><defs/><g><!--MD5=[f4ee21bc66e489b5061b7c3e9601fdef]\n",
       "@startuml\r\n",
       "top to bottom direction\r\n",
       "skinparam monochrome true\r\n",
       "skinparam classbackgroundcolor white\r\n",
       "skinparam shadowing false\r\n",
       "skinparam wrapWidth 300\r\n",
       "hide circle\r\n",
       "\r\n",
       "@enduml\r\n",
       "\n",
       "PlantUML version 1.2020.13(Sat Jun 13 12:26:38 UTC 2020)\n",
       "(EPL source distribution)\n",
       "Java Runtime: OpenJDK Runtime Environment\n",
       "JVM: OpenJDK 64-Bit Server VM\n",
       "Default Encoding: UTF-8\n",
       "Language: en\n",
       "Country: null\n",
       "--></g></svg>"
      ]
     },
     "execution_count": 46,
     "metadata": {},
     "output_type": "execute_result"
    }
   ],
   "source": [
    "%viz --style=\"TB\" --view=\"State\" \"P1\""
   ]
  },
  {
   "cell_type": "code",
   "execution_count": 47,
   "id": "99cdc79c",
   "metadata": {
    "execution": {
     "iopub.execute_input": "2022-05-19T08:45:49.543805Z",
     "iopub.status.busy": "2022-05-19T08:45:49.543358Z",
     "iopub.status.idle": "2022-05-19T08:45:49.567134Z",
     "shell.execute_reply": "2022-05-19T08:45:49.566753Z"
    }
   },
   "outputs": [
    {
     "data": {
      "image/svg+xml": [
       "<?xml version=\"1.0\" encoding=\"UTF-8\" standalone=\"no\"?><svg xmlns=\"http://www.w3.org/2000/svg\" xmlns:xlink=\"http://www.w3.org/1999/xlink\" contentScriptType=\"application/ecmascript\" contentStyleType=\"text/css\" height=\"112px\" preserveAspectRatio=\"none\" style=\"width:144px;height:112px;\" version=\"1.1\" viewBox=\"0 0 144 112\" width=\"144px\" zoomAndPan=\"magnify\"><defs/><g><!--MD5=[fbc87193dbaf4d95561dea2c320d4a47]\n",
       "cluster E1--><a href=\"psysml:a8165327-1d39-4d0f-ab82-760e144b8575\" target=\"_top\" title=\"psysml:a8165327-1d39-4d0f-ab82-760e144b8575\" xlink:actuate=\"onRequest\" xlink:href=\"psysml:a8165327-1d39-4d0f-ab82-760e144b8575\" xlink:show=\"new\" xlink:title=\"psysml:a8165327-1d39-4d0f-ab82-760e144b8575\" xlink:type=\"simple\"><polygon fill=\"#FFFFFF\" points=\"16,6,40,6,47,28.2969,122,28.2969,122,100,16,100,16,6\" style=\"stroke: #000000; stroke-width: 1.5;\"/><line style=\"stroke: #000000; stroke-width: 1.5;\" x1=\"16\" x2=\"47\" y1=\"28.2969\" y2=\"28.2969\"/><text fill=\"#000000\" font-family=\"sans-serif\" font-size=\"14\" font-weight=\"bold\" lengthAdjust=\"spacingAndGlyphs\" textLength=\"18\" x=\"20\" y=\"20.9951\">P1</text></a><g id=\"E1.E2\"><a href=\"psysml:f3ff8d18-3866-4ad0-84e8-5fc2e50b87fe\" target=\"_top\" title=\"psysml:f3ff8d18-3866-4ad0-84e8-5fc2e50b87fe\" xlink:actuate=\"onRequest\" xlink:href=\"psysml:f3ff8d18-3866-4ad0-84e8-5fc2e50b87fe\" xlink:show=\"new\" xlink:title=\"psysml:f3ff8d18-3866-4ad0-84e8-5fc2e50b87fe\" xlink:type=\"simple\"><rect fill=\"#FFFFFF\" height=\"42.9375\" id=\"E2\" style=\"stroke: #383838; stroke-width: 1.5;\" width=\"75\" x=\"31.5\" y=\"41\"/><rect fill=\"#F8F8F8\" height=\"37.9375\" style=\"stroke: #383838; stroke-width: 1.5;\" width=\"75\" x=\"31.5\" y=\"41\"/><text fill=\"#000000\" font-family=\"sans-serif\" font-size=\"12\" font-style=\"italic\" lengthAdjust=\"spacingAndGlyphs\" textLength=\"68\" x=\"35\" y=\"57.1387\">«part  def»</text><text fill=\"#000000\" font-family=\"sans-serif\" font-size=\"12\" lengthAdjust=\"spacingAndGlyphs\" textLength=\"8\" x=\"65\" y=\"71.1074\">A</text></a></g><!--MD5=[f70d5d5bc1ab60373e56260045a9e618]\n",
       "@startuml\r\n",
       "skinparam ranksep 10\r\n",
       "skinparam rectangle {\r\n",
       " backgroundColor<<block>> LightGreen\r\n",
       "}\r\n",
       "top to bottom direction\r\n",
       "skinparam monochrome true\r\n",
       "skinparam classbackgroundcolor white\r\n",
       "skinparam shadowing false\r\n",
       "skinparam wrapWidth 300\r\n",
       "hide circle\r\n",
       "\r\n",
       "package \"P1\" as E1  [[psysml:a8165327-1d39-4d0f-ab82-760e144b8575 ]]  {\r\n",
       "rec def \"A\" as E2  <<(T,blue) part  def>> [[psysml:f3ff8d18-3866-4ad0-84e8-5fc2e50b87fe ]] {\r\n",
       "}\r\n",
       "}\r\n",
       "@enduml\r\n",
       "\n",
       "PlantUML version 1.2020.13(Sat Jun 13 12:26:38 UTC 2020)\n",
       "(EPL source distribution)\n",
       "Java Runtime: OpenJDK Runtime Environment\n",
       "JVM: OpenJDK 64-Bit Server VM\n",
       "Default Encoding: UTF-8\n",
       "Language: en\n",
       "Country: null\n",
       "--></g></svg>"
      ]
     },
     "execution_count": 47,
     "metadata": {},
     "output_type": "execute_result"
    }
   ],
   "source": [
    "%viz --style=\"TB\" --view=\"Interconnection\" \"P1\""
   ]
  },
  {
   "cell_type": "code",
   "execution_count": 48,
   "id": "d19cda0f",
   "metadata": {
    "execution": {
     "iopub.execute_input": "2022-05-19T08:45:49.617302Z",
     "iopub.status.busy": "2022-05-19T08:45:49.616845Z",
     "iopub.status.idle": "2022-05-19T08:45:49.622043Z",
     "shell.execute_reply": "2022-05-19T08:45:49.622383Z"
    }
   },
   "outputs": [
    {
     "data": {
      "image/svg+xml": [
       "<?xml version=\"1.0\" encoding=\"UTF-8\" standalone=\"no\"?><svg xmlns=\"http://www.w3.org/2000/svg\" xmlns:xlink=\"http://www.w3.org/1999/xlink\" contentScriptType=\"application/ecmascript\" contentStyleType=\"text/css\" height=\"12px\" preserveAspectRatio=\"none\" style=\"width:12px;height:12px;\" version=\"1.1\" viewBox=\"0 0 12 12\" width=\"12px\" zoomAndPan=\"magnify\"><defs/><g><!--MD5=[06afc254b03ac5e9d9fb7773b07d0800]\n",
       "@startuml\r\n",
       "skinparam ranksep 8\r\n",
       "top to bottom direction\r\n",
       "skinparam monochrome true\r\n",
       "skinparam classbackgroundcolor white\r\n",
       "skinparam shadowing false\r\n",
       "skinparam wrapWidth 300\r\n",
       "hide circle\r\n",
       "\r\n",
       "@enduml\r\n",
       "\n",
       "PlantUML version 1.2020.13(Sat Jun 13 12:26:38 UTC 2020)\n",
       "(EPL source distribution)\n",
       "Java Runtime: OpenJDK Runtime Environment\n",
       "JVM: OpenJDK 64-Bit Server VM\n",
       "Default Encoding: UTF-8\n",
       "Language: en\n",
       "Country: null\n",
       "--></g></svg>"
      ]
     },
     "execution_count": 48,
     "metadata": {},
     "output_type": "execute_result"
    }
   ],
   "source": [
    "%viz --style=\"TB\" --view=\"Action\" \"P1\""
   ]
  },
  {
   "cell_type": "code",
   "execution_count": 49,
   "id": "fd1b825c",
   "metadata": {
    "execution": {
     "iopub.execute_input": "2022-05-19T08:45:49.672702Z",
     "iopub.status.busy": "2022-05-19T08:45:49.672185Z",
     "iopub.status.idle": "2022-05-19T08:45:49.677353Z",
     "shell.execute_reply": "2022-05-19T08:45:49.677672Z"
    }
   },
   "outputs": [
    {
     "data": {
      "image/svg+xml": [
       "<?xml version=\"1.0\" encoding=\"UTF-8\" standalone=\"no\"?><svg xmlns=\"http://www.w3.org/2000/svg\" xmlns:xlink=\"http://www.w3.org/1999/xlink\" contentScriptType=\"application/ecmascript\" contentStyleType=\"text/css\" height=\"12px\" preserveAspectRatio=\"none\" style=\"width:12px;height:12px;\" version=\"1.1\" viewBox=\"0 0 12 12\" width=\"12px\" zoomAndPan=\"magnify\"><defs/><g><!--MD5=[e1ab0c84c44d2fef8bf5f140f2689906]\n",
       "@startuml\r\n",
       "skinparam roundcorner 20\r\n",
       "skinparam BoxPadding 20\r\n",
       "skinparam SequenceBoxBackgroundColor #white\r\n",
       "skinparam style strictuml\r\n",
       "skinparam maxMessageSize 100\r\n",
       "top to bottom direction\r\n",
       "skinparam monochrome true\r\n",
       "skinparam classbackgroundcolor white\r\n",
       "skinparam shadowing false\r\n",
       "skinparam wrapWidth 300\r\n",
       "hide circle\r\n",
       "\r\n",
       "@enduml\r\n",
       "\n",
       "PlantUML version 1.2020.13(Sat Jun 13 12:26:38 UTC 2020)\n",
       "(EPL source distribution)\n",
       "Java Runtime: OpenJDK Runtime Environment\n",
       "JVM: OpenJDK 64-Bit Server VM\n",
       "Default Encoding: UTF-8\n",
       "Language: en\n",
       "Country: null\n",
       "--></g></svg>"
      ]
     },
     "execution_count": 49,
     "metadata": {},
     "output_type": "execute_result"
    }
   ],
   "source": [
    "%viz --style=\"TB\" --view=\"Sequence\" \"P1\""
   ]
  },
  {
   "cell_type": "code",
   "execution_count": 50,
   "id": "a604511c",
   "metadata": {
    "execution": {
     "iopub.execute_input": "2022-05-19T08:45:49.728408Z",
     "iopub.status.busy": "2022-05-19T08:45:49.727749Z",
     "iopub.status.idle": "2022-05-19T08:45:49.754829Z",
     "shell.execute_reply": "2022-05-19T08:45:49.754245Z"
    }
   },
   "outputs": [
    {
     "data": {
      "image/svg+xml": [
       "<?xml version=\"1.0\" encoding=\"UTF-8\" standalone=\"no\"?><svg xmlns=\"http://www.w3.org/2000/svg\" xmlns:xlink=\"http://www.w3.org/1999/xlink\" contentScriptType=\"application/ecmascript\" contentStyleType=\"text/css\" height=\"115px\" preserveAspectRatio=\"none\" style=\"width:140px;height:115px;\" version=\"1.1\" viewBox=\"0 0 140 115\" width=\"140px\" zoomAndPan=\"magnify\"><defs/><g><!--MD5=[fbc87193dbaf4d95561dea2c320d4a47]\n",
       "cluster E1--><a href=\"psysml:a8165327-1d39-4d0f-ab82-760e144b8575\" target=\"_top\" title=\"psysml:a8165327-1d39-4d0f-ab82-760e144b8575\" xlink:actuate=\"onRequest\" xlink:href=\"psysml:a8165327-1d39-4d0f-ab82-760e144b8575\" xlink:show=\"new\" xlink:title=\"psysml:a8165327-1d39-4d0f-ab82-760e144b8575\" xlink:type=\"simple\"><polygon fill=\"#FFFFFF\" points=\"16,6,40,6,47,28.2969,118,28.2969,118,103,16,103,16,6\" style=\"stroke: #000000; stroke-width: 1.5;\"/><line style=\"stroke: #000000; stroke-width: 1.5;\" x1=\"16\" x2=\"47\" y1=\"28.2969\" y2=\"28.2969\"/><text fill=\"#000000\" font-family=\"sans-serif\" font-size=\"14\" font-weight=\"bold\" lengthAdjust=\"spacingAndGlyphs\" textLength=\"18\" x=\"20\" y=\"20.9951\">P1</text></a><!--MD5=[b4997ac47864f28c2f74865a473b2911]\n",
       "class E2--><a href=\"psysml:f3ff8d18-3866-4ad0-84e8-5fc2e50b87fe\" target=\"_top\" title=\"psysml:f3ff8d18-3866-4ad0-84e8-5fc2e50b87fe\" xlink:actuate=\"onRequest\" xlink:href=\"psysml:f3ff8d18-3866-4ad0-84e8-5fc2e50b87fe\" xlink:show=\"new\" xlink:title=\"psysml:f3ff8d18-3866-4ad0-84e8-5fc2e50b87fe\" xlink:type=\"simple\"><rect fill=\"#FFFFFF\" height=\"45.9375\" id=\"E2\" style=\"stroke: #383838; stroke-width: 1.5;\" width=\"70\" x=\"32\" y=\"41\"/><text fill=\"#000000\" font-family=\"sans-serif\" font-size=\"12\" font-style=\"italic\" lengthAdjust=\"spacingAndGlyphs\" textLength=\"68\" x=\"33\" y=\"57.1387\">«part  def»</text><text fill=\"#000000\" font-family=\"sans-serif\" font-size=\"12\" lengthAdjust=\"spacingAndGlyphs\" textLength=\"8\" x=\"63\" y=\"71.1074\">A</text><line style=\"stroke: #383838; stroke-width: 1.5;\" x1=\"33\" x2=\"101\" y1=\"78.9375\" y2=\"78.9375\"/></a><!--MD5=[65360fffb45f82b8590b324622805368]\n",
       "@startuml\r\n",
       "top to bottom direction\r\n",
       "skinparam monochrome true\r\n",
       "skinparam classbackgroundcolor white\r\n",
       "skinparam shadowing false\r\n",
       "skinparam wrapWidth 300\r\n",
       "hide circle\r\n",
       "\r\n",
       "package \"P1\" as E1  [[psysml:a8165327-1d39-4d0f-ab82-760e144b8575 ]]  {\r\n",
       "comp def \"A\" as E2  <<(T,blue) part  def>> [[psysml:f3ff8d18-3866-4ad0-84e8-5fc2e50b87fe ]] {\r\n",
       "}\r\n",
       "}\r\n",
       "@enduml\r\n",
       "\n",
       "PlantUML version 1.2020.13(Sat Jun 13 12:26:38 UTC 2020)\n",
       "(EPL source distribution)\n",
       "Java Runtime: OpenJDK Runtime Environment\n",
       "JVM: OpenJDK 64-Bit Server VM\n",
       "Default Encoding: UTF-8\n",
       "Language: en\n",
       "Country: null\n",
       "--></g></svg>"
      ]
     },
     "execution_count": 50,
     "metadata": {},
     "output_type": "execute_result"
    }
   ],
   "source": [
    "%viz --style=\"TB\" --view=\"MIXED\" \"P1\""
   ]
  },
  {
   "cell_type": "code",
   "execution_count": 51,
   "id": "8abcfc12",
   "metadata": {
    "execution": {
     "iopub.execute_input": "2022-05-19T08:45:49.803874Z",
     "iopub.status.busy": "2022-05-19T08:45:49.803395Z",
     "iopub.status.idle": "2022-05-19T08:45:49.825563Z",
     "shell.execute_reply": "2022-05-19T08:45:49.825133Z"
    }
   },
   "outputs": [
    {
     "data": {
      "image/svg+xml": [
       "<?xml version=\"1.0\" encoding=\"UTF-8\" standalone=\"no\"?><svg xmlns=\"http://www.w3.org/2000/svg\" xmlns:xlink=\"http://www.w3.org/1999/xlink\" contentScriptType=\"application/ecmascript\" contentStyleType=\"text/css\" height=\"115px\" preserveAspectRatio=\"none\" style=\"width:140px;height:115px;\" version=\"1.1\" viewBox=\"0 0 140 115\" width=\"140px\" zoomAndPan=\"magnify\"><defs/><g><!--MD5=[fbc87193dbaf4d95561dea2c320d4a47]\n",
       "cluster E1--><a href=\"psysml:a8165327-1d39-4d0f-ab82-760e144b8575\" target=\"_top\" title=\"psysml:a8165327-1d39-4d0f-ab82-760e144b8575\" xlink:actuate=\"onRequest\" xlink:href=\"psysml:a8165327-1d39-4d0f-ab82-760e144b8575\" xlink:show=\"new\" xlink:title=\"psysml:a8165327-1d39-4d0f-ab82-760e144b8575\" xlink:type=\"simple\"><polygon fill=\"#FFFFFF\" points=\"16,6,40,6,47,28.2969,118,28.2969,118,103,16,103,16,6\" style=\"stroke: #000000; stroke-width: 1.5;\"/><line style=\"stroke: #000000; stroke-width: 1.5;\" x1=\"16\" x2=\"47\" y1=\"28.2969\" y2=\"28.2969\"/><text fill=\"#000000\" font-family=\"sans-serif\" font-size=\"14\" font-weight=\"bold\" lengthAdjust=\"spacingAndGlyphs\" textLength=\"18\" x=\"20\" y=\"20.9951\">P1</text></a><!--MD5=[b4997ac47864f28c2f74865a473b2911]\n",
       "class E2--><a href=\"psysml:f3ff8d18-3866-4ad0-84e8-5fc2e50b87fe\" target=\"_top\" title=\"psysml:f3ff8d18-3866-4ad0-84e8-5fc2e50b87fe\" xlink:actuate=\"onRequest\" xlink:href=\"psysml:f3ff8d18-3866-4ad0-84e8-5fc2e50b87fe\" xlink:show=\"new\" xlink:title=\"psysml:f3ff8d18-3866-4ad0-84e8-5fc2e50b87fe\" xlink:type=\"simple\"><rect fill=\"#FFFFFF\" height=\"45.9375\" id=\"E2\" style=\"stroke: #383838; stroke-width: 1.5;\" width=\"70\" x=\"32\" y=\"41\"/><text fill=\"#000000\" font-family=\"sans-serif\" font-size=\"12\" font-style=\"italic\" lengthAdjust=\"spacingAndGlyphs\" textLength=\"68\" x=\"33\" y=\"57.1387\">«part  def»</text><text fill=\"#000000\" font-family=\"sans-serif\" font-size=\"12\" lengthAdjust=\"spacingAndGlyphs\" textLength=\"8\" x=\"63\" y=\"71.1074\">A</text><line style=\"stroke: #383838; stroke-width: 1.5;\" x1=\"33\" x2=\"101\" y1=\"78.9375\" y2=\"78.9375\"/></a><!--MD5=[e8021a61bf6898c8d492459578f59c9d]\n",
       "@startuml\r\n",
       "skinparam linetype ortho\r\n",
       "skinparam monochrome true\r\n",
       "skinparam classbackgroundcolor white\r\n",
       "skinparam shadowing false\r\n",
       "skinparam wrapWidth 300\r\n",
       "hide circle\r\n",
       "\r\n",
       "package \"P1\" as E1  [[psysml:a8165327-1d39-4d0f-ab82-760e144b8575 ]]  {\r\n",
       "comp def \"A\" as E2  <<(T,blue) part  def>> [[psysml:f3ff8d18-3866-4ad0-84e8-5fc2e50b87fe ]] {\r\n",
       "}\r\n",
       "}\r\n",
       "@enduml\r\n",
       "\n",
       "PlantUML version 1.2020.13(Sat Jun 13 12:26:38 UTC 2020)\n",
       "(EPL source distribution)\n",
       "Java Runtime: OpenJDK Runtime Environment\n",
       "JVM: OpenJDK 64-Bit Server VM\n",
       "Default Encoding: UTF-8\n",
       "Language: en\n",
       "Country: null\n",
       "--></g></svg>"
      ]
     },
     "execution_count": 51,
     "metadata": {},
     "output_type": "execute_result"
    }
   ],
   "source": [
    "%viz --style=\"ORTHOLINE\" --view=\"Default\" \"P1\""
   ]
  },
  {
   "cell_type": "code",
   "execution_count": 52,
   "id": "2be8f620",
   "metadata": {
    "execution": {
     "iopub.execute_input": "2022-05-19T08:45:49.875295Z",
     "iopub.status.busy": "2022-05-19T08:45:49.874828Z",
     "iopub.status.idle": "2022-05-19T08:45:49.895444Z",
     "shell.execute_reply": "2022-05-19T08:45:49.895054Z"
    }
   },
   "outputs": [
    {
     "data": {
      "image/svg+xml": [
       "<?xml version=\"1.0\" encoding=\"UTF-8\" standalone=\"no\"?><svg xmlns=\"http://www.w3.org/2000/svg\" xmlns:xlink=\"http://www.w3.org/1999/xlink\" contentScriptType=\"application/ecmascript\" contentStyleType=\"text/css\" height=\"115px\" preserveAspectRatio=\"none\" style=\"width:140px;height:115px;\" version=\"1.1\" viewBox=\"0 0 140 115\" width=\"140px\" zoomAndPan=\"magnify\"><defs/><g><!--MD5=[fbc87193dbaf4d95561dea2c320d4a47]\n",
       "cluster E1--><a href=\"psysml:a8165327-1d39-4d0f-ab82-760e144b8575\" target=\"_top\" title=\"psysml:a8165327-1d39-4d0f-ab82-760e144b8575\" xlink:actuate=\"onRequest\" xlink:href=\"psysml:a8165327-1d39-4d0f-ab82-760e144b8575\" xlink:show=\"new\" xlink:title=\"psysml:a8165327-1d39-4d0f-ab82-760e144b8575\" xlink:type=\"simple\"><polygon fill=\"#FFFFFF\" points=\"16,6,40,6,47,28.2969,118,28.2969,118,103,16,103,16,6\" style=\"stroke: #000000; stroke-width: 1.5;\"/><line style=\"stroke: #000000; stroke-width: 1.5;\" x1=\"16\" x2=\"47\" y1=\"28.2969\" y2=\"28.2969\"/><text fill=\"#000000\" font-family=\"sans-serif\" font-size=\"14\" font-weight=\"bold\" lengthAdjust=\"spacingAndGlyphs\" textLength=\"18\" x=\"20\" y=\"20.9951\">P1</text></a><!--MD5=[b4997ac47864f28c2f74865a473b2911]\n",
       "class E2--><a href=\"psysml:f3ff8d18-3866-4ad0-84e8-5fc2e50b87fe\" target=\"_top\" title=\"psysml:f3ff8d18-3866-4ad0-84e8-5fc2e50b87fe\" xlink:actuate=\"onRequest\" xlink:href=\"psysml:f3ff8d18-3866-4ad0-84e8-5fc2e50b87fe\" xlink:show=\"new\" xlink:title=\"psysml:f3ff8d18-3866-4ad0-84e8-5fc2e50b87fe\" xlink:type=\"simple\"><rect fill=\"#FFFFFF\" height=\"45.9375\" id=\"E2\" style=\"stroke: #383838; stroke-width: 1.5;\" width=\"70\" x=\"32\" y=\"41\"/><text fill=\"#000000\" font-family=\"sans-serif\" font-size=\"12\" font-style=\"italic\" lengthAdjust=\"spacingAndGlyphs\" textLength=\"68\" x=\"33\" y=\"57.1387\">«part  def»</text><text fill=\"#000000\" font-family=\"sans-serif\" font-size=\"12\" lengthAdjust=\"spacingAndGlyphs\" textLength=\"8\" x=\"63\" y=\"71.1074\">A</text><line style=\"stroke: #383838; stroke-width: 1.5;\" x1=\"33\" x2=\"101\" y1=\"78.9375\" y2=\"78.9375\"/></a><!--MD5=[e8021a61bf6898c8d492459578f59c9d]\n",
       "@startuml\r\n",
       "skinparam linetype ortho\r\n",
       "skinparam monochrome true\r\n",
       "skinparam classbackgroundcolor white\r\n",
       "skinparam shadowing false\r\n",
       "skinparam wrapWidth 300\r\n",
       "hide circle\r\n",
       "\r\n",
       "package \"P1\" as E1  [[psysml:a8165327-1d39-4d0f-ab82-760e144b8575 ]]  {\r\n",
       "comp def \"A\" as E2  <<(T,blue) part  def>> [[psysml:f3ff8d18-3866-4ad0-84e8-5fc2e50b87fe ]] {\r\n",
       "}\r\n",
       "}\r\n",
       "@enduml\r\n",
       "\n",
       "PlantUML version 1.2020.13(Sat Jun 13 12:26:38 UTC 2020)\n",
       "(EPL source distribution)\n",
       "Java Runtime: OpenJDK Runtime Environment\n",
       "JVM: OpenJDK 64-Bit Server VM\n",
       "Default Encoding: UTF-8\n",
       "Language: en\n",
       "Country: null\n",
       "--></g></svg>"
      ]
     },
     "execution_count": 52,
     "metadata": {},
     "output_type": "execute_result"
    }
   ],
   "source": [
    "%viz --style=\"ORTHOLINE\" --view=\"Tree\" \"P1\""
   ]
  },
  {
   "cell_type": "code",
   "execution_count": 53,
   "id": "8c97b07a",
   "metadata": {
    "execution": {
     "iopub.execute_input": "2022-05-19T08:45:49.945292Z",
     "iopub.status.busy": "2022-05-19T08:45:49.944851Z",
     "iopub.status.idle": "2022-05-19T08:45:49.949864Z",
     "shell.execute_reply": "2022-05-19T08:45:49.949492Z"
    }
   },
   "outputs": [
    {
     "data": {
      "image/svg+xml": [
       "<?xml version=\"1.0\" encoding=\"UTF-8\" standalone=\"no\"?><svg xmlns=\"http://www.w3.org/2000/svg\" xmlns:xlink=\"http://www.w3.org/1999/xlink\" contentScriptType=\"application/ecmascript\" contentStyleType=\"text/css\" height=\"12px\" preserveAspectRatio=\"none\" style=\"width:12px;height:12px;\" version=\"1.1\" viewBox=\"0 0 12 12\" width=\"12px\" zoomAndPan=\"magnify\"><defs/><g><!--MD5=[97d6f38768b311333d388e66b2b27985]\n",
       "@startuml\r\n",
       "skinparam linetype ortho\r\n",
       "skinparam monochrome true\r\n",
       "skinparam classbackgroundcolor white\r\n",
       "skinparam shadowing false\r\n",
       "skinparam wrapWidth 300\r\n",
       "hide circle\r\n",
       "\r\n",
       "@enduml\r\n",
       "\n",
       "PlantUML version 1.2020.13(Sat Jun 13 12:26:38 UTC 2020)\n",
       "(EPL source distribution)\n",
       "Java Runtime: OpenJDK Runtime Environment\n",
       "JVM: OpenJDK 64-Bit Server VM\n",
       "Default Encoding: UTF-8\n",
       "Language: en\n",
       "Country: null\n",
       "--></g></svg>"
      ]
     },
     "execution_count": 53,
     "metadata": {},
     "output_type": "execute_result"
    }
   ],
   "source": [
    "%viz --style=\"ORTHOLINE\" --view=\"State\" \"P1\""
   ]
  },
  {
   "cell_type": "code",
   "execution_count": 54,
   "id": "cae72545",
   "metadata": {
    "execution": {
     "iopub.execute_input": "2022-05-19T08:45:49.999434Z",
     "iopub.status.busy": "2022-05-19T08:45:49.998992Z",
     "iopub.status.idle": "2022-05-19T08:45:50.021465Z",
     "shell.execute_reply": "2022-05-19T08:45:50.021060Z"
    }
   },
   "outputs": [
    {
     "data": {
      "image/svg+xml": [
       "<?xml version=\"1.0\" encoding=\"UTF-8\" standalone=\"no\"?><svg xmlns=\"http://www.w3.org/2000/svg\" xmlns:xlink=\"http://www.w3.org/1999/xlink\" contentScriptType=\"application/ecmascript\" contentStyleType=\"text/css\" height=\"112px\" preserveAspectRatio=\"none\" style=\"width:144px;height:112px;\" version=\"1.1\" viewBox=\"0 0 144 112\" width=\"144px\" zoomAndPan=\"magnify\"><defs/><g><!--MD5=[fbc87193dbaf4d95561dea2c320d4a47]\n",
       "cluster E1--><a href=\"psysml:a8165327-1d39-4d0f-ab82-760e144b8575\" target=\"_top\" title=\"psysml:a8165327-1d39-4d0f-ab82-760e144b8575\" xlink:actuate=\"onRequest\" xlink:href=\"psysml:a8165327-1d39-4d0f-ab82-760e144b8575\" xlink:show=\"new\" xlink:title=\"psysml:a8165327-1d39-4d0f-ab82-760e144b8575\" xlink:type=\"simple\"><polygon fill=\"#FFFFFF\" points=\"16,6,40,6,47,28.2969,122,28.2969,122,100,16,100,16,6\" style=\"stroke: #000000; stroke-width: 1.5;\"/><line style=\"stroke: #000000; stroke-width: 1.5;\" x1=\"16\" x2=\"47\" y1=\"28.2969\" y2=\"28.2969\"/><text fill=\"#000000\" font-family=\"sans-serif\" font-size=\"14\" font-weight=\"bold\" lengthAdjust=\"spacingAndGlyphs\" textLength=\"18\" x=\"20\" y=\"20.9951\">P1</text></a><g id=\"E1.E2\"><a href=\"psysml:f3ff8d18-3866-4ad0-84e8-5fc2e50b87fe\" target=\"_top\" title=\"psysml:f3ff8d18-3866-4ad0-84e8-5fc2e50b87fe\" xlink:actuate=\"onRequest\" xlink:href=\"psysml:f3ff8d18-3866-4ad0-84e8-5fc2e50b87fe\" xlink:show=\"new\" xlink:title=\"psysml:f3ff8d18-3866-4ad0-84e8-5fc2e50b87fe\" xlink:type=\"simple\"><rect fill=\"#FFFFFF\" height=\"42.9375\" id=\"E2\" style=\"stroke: #383838; stroke-width: 1.5;\" width=\"75\" x=\"31.5\" y=\"41\"/><rect fill=\"#F8F8F8\" height=\"37.9375\" style=\"stroke: #383838; stroke-width: 1.5;\" width=\"75\" x=\"31.5\" y=\"41\"/><text fill=\"#000000\" font-family=\"sans-serif\" font-size=\"12\" font-style=\"italic\" lengthAdjust=\"spacingAndGlyphs\" textLength=\"68\" x=\"35\" y=\"57.1387\">«part  def»</text><text fill=\"#000000\" font-family=\"sans-serif\" font-size=\"12\" lengthAdjust=\"spacingAndGlyphs\" textLength=\"8\" x=\"65\" y=\"71.1074\">A</text></a></g><!--MD5=[42e3c6902c25c3e5d0905c441c536e80]\n",
       "@startuml\r\n",
       "skinparam ranksep 10\r\n",
       "skinparam rectangle {\r\n",
       " backgroundColor<<block>> LightGreen\r\n",
       "}\r\n",
       "skinparam linetype ortho\r\n",
       "skinparam monochrome true\r\n",
       "skinparam classbackgroundcolor white\r\n",
       "skinparam shadowing false\r\n",
       "skinparam wrapWidth 300\r\n",
       "hide circle\r\n",
       "\r\n",
       "package \"P1\" as E1  [[psysml:a8165327-1d39-4d0f-ab82-760e144b8575 ]]  {\r\n",
       "rec def \"A\" as E2  <<(T,blue) part  def>> [[psysml:f3ff8d18-3866-4ad0-84e8-5fc2e50b87fe ]] {\r\n",
       "}\r\n",
       "}\r\n",
       "@enduml\r\n",
       "\n",
       "PlantUML version 1.2020.13(Sat Jun 13 12:26:38 UTC 2020)\n",
       "(EPL source distribution)\n",
       "Java Runtime: OpenJDK Runtime Environment\n",
       "JVM: OpenJDK 64-Bit Server VM\n",
       "Default Encoding: UTF-8\n",
       "Language: en\n",
       "Country: null\n",
       "--></g></svg>"
      ]
     },
     "execution_count": 54,
     "metadata": {},
     "output_type": "execute_result"
    }
   ],
   "source": [
    "%viz --style=\"ORTHOLINE\" --view=\"Interconnection\" \"P1\""
   ]
  },
  {
   "cell_type": "code",
   "execution_count": 55,
   "id": "ba3f7f5e",
   "metadata": {
    "execution": {
     "iopub.execute_input": "2022-05-19T08:45:50.071213Z",
     "iopub.status.busy": "2022-05-19T08:45:50.070773Z",
     "iopub.status.idle": "2022-05-19T08:45:50.075098Z",
     "shell.execute_reply": "2022-05-19T08:45:50.075389Z"
    }
   },
   "outputs": [
    {
     "data": {
      "image/svg+xml": [
       "<?xml version=\"1.0\" encoding=\"UTF-8\" standalone=\"no\"?><svg xmlns=\"http://www.w3.org/2000/svg\" xmlns:xlink=\"http://www.w3.org/1999/xlink\" contentScriptType=\"application/ecmascript\" contentStyleType=\"text/css\" height=\"12px\" preserveAspectRatio=\"none\" style=\"width:12px;height:12px;\" version=\"1.1\" viewBox=\"0 0 12 12\" width=\"12px\" zoomAndPan=\"magnify\"><defs/><g><!--MD5=[72934c63077099a26744516a776b4749]\n",
       "@startuml\r\n",
       "skinparam ranksep 8\r\n",
       "skinparam linetype ortho\r\n",
       "skinparam monochrome true\r\n",
       "skinparam classbackgroundcolor white\r\n",
       "skinparam shadowing false\r\n",
       "skinparam wrapWidth 300\r\n",
       "hide circle\r\n",
       "\r\n",
       "@enduml\r\n",
       "\n",
       "PlantUML version 1.2020.13(Sat Jun 13 12:26:38 UTC 2020)\n",
       "(EPL source distribution)\n",
       "Java Runtime: OpenJDK Runtime Environment\n",
       "JVM: OpenJDK 64-Bit Server VM\n",
       "Default Encoding: UTF-8\n",
       "Language: en\n",
       "Country: null\n",
       "--></g></svg>"
      ]
     },
     "execution_count": 55,
     "metadata": {},
     "output_type": "execute_result"
    }
   ],
   "source": [
    "%viz --style=\"ORTHOLINE\" --view=\"Action\" \"P1\""
   ]
  },
  {
   "cell_type": "code",
   "execution_count": 56,
   "id": "35f7bdd7",
   "metadata": {
    "execution": {
     "iopub.execute_input": "2022-05-19T08:45:50.125308Z",
     "iopub.status.busy": "2022-05-19T08:45:50.124873Z",
     "iopub.status.idle": "2022-05-19T08:45:50.129751Z",
     "shell.execute_reply": "2022-05-19T08:45:50.129382Z"
    }
   },
   "outputs": [
    {
     "data": {
      "image/svg+xml": [
       "<?xml version=\"1.0\" encoding=\"UTF-8\" standalone=\"no\"?><svg xmlns=\"http://www.w3.org/2000/svg\" xmlns:xlink=\"http://www.w3.org/1999/xlink\" contentScriptType=\"application/ecmascript\" contentStyleType=\"text/css\" height=\"12px\" preserveAspectRatio=\"none\" style=\"width:12px;height:12px;\" version=\"1.1\" viewBox=\"0 0 12 12\" width=\"12px\" zoomAndPan=\"magnify\"><defs/><g><!--MD5=[30fc1de5121c5abddedd55b44417fde8]\n",
       "@startuml\r\n",
       "skinparam roundcorner 20\r\n",
       "skinparam BoxPadding 20\r\n",
       "skinparam SequenceBoxBackgroundColor #white\r\n",
       "skinparam style strictuml\r\n",
       "skinparam maxMessageSize 100\r\n",
       "skinparam linetype ortho\r\n",
       "skinparam monochrome true\r\n",
       "skinparam classbackgroundcolor white\r\n",
       "skinparam shadowing false\r\n",
       "skinparam wrapWidth 300\r\n",
       "hide circle\r\n",
       "\r\n",
       "@enduml\r\n",
       "\n",
       "PlantUML version 1.2020.13(Sat Jun 13 12:26:38 UTC 2020)\n",
       "(EPL source distribution)\n",
       "Java Runtime: OpenJDK Runtime Environment\n",
       "JVM: OpenJDK 64-Bit Server VM\n",
       "Default Encoding: UTF-8\n",
       "Language: en\n",
       "Country: null\n",
       "--></g></svg>"
      ]
     },
     "execution_count": 56,
     "metadata": {},
     "output_type": "execute_result"
    }
   ],
   "source": [
    "%viz --style=\"ORTHOLINE\" --view=\"Sequence\" \"P1\""
   ]
  },
  {
   "cell_type": "code",
   "execution_count": 57,
   "id": "3866ea43",
   "metadata": {
    "execution": {
     "iopub.execute_input": "2022-05-19T08:45:50.179662Z",
     "iopub.status.busy": "2022-05-19T08:45:50.179223Z",
     "iopub.status.idle": "2022-05-19T08:45:50.197876Z",
     "shell.execute_reply": "2022-05-19T08:45:50.197483Z"
    }
   },
   "outputs": [
    {
     "data": {
      "image/svg+xml": [
       "<?xml version=\"1.0\" encoding=\"UTF-8\" standalone=\"no\"?><svg xmlns=\"http://www.w3.org/2000/svg\" xmlns:xlink=\"http://www.w3.org/1999/xlink\" contentScriptType=\"application/ecmascript\" contentStyleType=\"text/css\" height=\"115px\" preserveAspectRatio=\"none\" style=\"width:140px;height:115px;\" version=\"1.1\" viewBox=\"0 0 140 115\" width=\"140px\" zoomAndPan=\"magnify\"><defs/><g><!--MD5=[fbc87193dbaf4d95561dea2c320d4a47]\n",
       "cluster E1--><a href=\"psysml:a8165327-1d39-4d0f-ab82-760e144b8575\" target=\"_top\" title=\"psysml:a8165327-1d39-4d0f-ab82-760e144b8575\" xlink:actuate=\"onRequest\" xlink:href=\"psysml:a8165327-1d39-4d0f-ab82-760e144b8575\" xlink:show=\"new\" xlink:title=\"psysml:a8165327-1d39-4d0f-ab82-760e144b8575\" xlink:type=\"simple\"><polygon fill=\"#FFFFFF\" points=\"16,6,40,6,47,28.2969,118,28.2969,118,103,16,103,16,6\" style=\"stroke: #000000; stroke-width: 1.5;\"/><line style=\"stroke: #000000; stroke-width: 1.5;\" x1=\"16\" x2=\"47\" y1=\"28.2969\" y2=\"28.2969\"/><text fill=\"#000000\" font-family=\"sans-serif\" font-size=\"14\" font-weight=\"bold\" lengthAdjust=\"spacingAndGlyphs\" textLength=\"18\" x=\"20\" y=\"20.9951\">P1</text></a><!--MD5=[b4997ac47864f28c2f74865a473b2911]\n",
       "class E2--><a href=\"psysml:f3ff8d18-3866-4ad0-84e8-5fc2e50b87fe\" target=\"_top\" title=\"psysml:f3ff8d18-3866-4ad0-84e8-5fc2e50b87fe\" xlink:actuate=\"onRequest\" xlink:href=\"psysml:f3ff8d18-3866-4ad0-84e8-5fc2e50b87fe\" xlink:show=\"new\" xlink:title=\"psysml:f3ff8d18-3866-4ad0-84e8-5fc2e50b87fe\" xlink:type=\"simple\"><rect fill=\"#FFFFFF\" height=\"45.9375\" id=\"E2\" style=\"stroke: #383838; stroke-width: 1.5;\" width=\"70\" x=\"32\" y=\"41\"/><text fill=\"#000000\" font-family=\"sans-serif\" font-size=\"12\" font-style=\"italic\" lengthAdjust=\"spacingAndGlyphs\" textLength=\"68\" x=\"33\" y=\"57.1387\">«part  def»</text><text fill=\"#000000\" font-family=\"sans-serif\" font-size=\"12\" lengthAdjust=\"spacingAndGlyphs\" textLength=\"8\" x=\"63\" y=\"71.1074\">A</text><line style=\"stroke: #383838; stroke-width: 1.5;\" x1=\"33\" x2=\"101\" y1=\"78.9375\" y2=\"78.9375\"/></a><!--MD5=[e8021a61bf6898c8d492459578f59c9d]\n",
       "@startuml\r\n",
       "skinparam linetype ortho\r\n",
       "skinparam monochrome true\r\n",
       "skinparam classbackgroundcolor white\r\n",
       "skinparam shadowing false\r\n",
       "skinparam wrapWidth 300\r\n",
       "hide circle\r\n",
       "\r\n",
       "package \"P1\" as E1  [[psysml:a8165327-1d39-4d0f-ab82-760e144b8575 ]]  {\r\n",
       "comp def \"A\" as E2  <<(T,blue) part  def>> [[psysml:f3ff8d18-3866-4ad0-84e8-5fc2e50b87fe ]] {\r\n",
       "}\r\n",
       "}\r\n",
       "@enduml\r\n",
       "\n",
       "PlantUML version 1.2020.13(Sat Jun 13 12:26:38 UTC 2020)\n",
       "(EPL source distribution)\n",
       "Java Runtime: OpenJDK Runtime Environment\n",
       "JVM: OpenJDK 64-Bit Server VM\n",
       "Default Encoding: UTF-8\n",
       "Language: en\n",
       "Country: null\n",
       "--></g></svg>"
      ]
     },
     "execution_count": 57,
     "metadata": {},
     "output_type": "execute_result"
    }
   ],
   "source": [
    "%viz --style=\"ORTHOLINE\" --view=\"MIXED\" \"P1\""
   ]
  }
 ],
 "metadata": {
  "kernelspec": {
   "display_name": "SysML",
   "language": "sysml",
   "name": "sysml"
  },
  "language_info": {
   "codemirror_mode": "sysml",
   "file_extension": ".sysml",
   "mimetype": "text/x-sysml",
   "name": "SysML",
   "pygments_lexer": "java",
   "version": "1.0.0"
  }
 },
 "nbformat": 4,
 "nbformat_minor": 5
}
