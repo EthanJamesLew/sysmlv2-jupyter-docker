{
 "cells": [
  {
   "cell_type": "markdown",
   "id": "5910ec98",
   "metadata": {},
   "source": [
    "# SysML v2 Test Suite\n",
    "\n",
    "This can notebook can be cleared using menu `Edit --> Clear All Outputs` and then all cells can be\n",
    "run using menu `Run --> Run All Cells`.\n",
    "\n",
    "**WARNING**: This file is generated, all modifications here will be ignored.\n"
   ]
  },
  {
   "cell_type": "markdown",
   "id": "7de1987a",
   "metadata": {},
   "source": [
    "## File: ../../sysml/src/examples/Simple Tests/RootPackageTest.sysml"
   ]
  },
  {
   "cell_type": "code",
   "execution_count": 1,
   "id": "e13fe7af",
   "metadata": {
    "execution": {
     "iopub.execute_input": "2022-04-22T09:51:47.230758Z",
     "iopub.status.busy": "2022-04-22T09:51:47.229707Z",
     "iopub.status.idle": "2022-04-22T09:51:47.359686Z",
     "shell.execute_reply": "2022-04-22T09:51:47.359301Z"
    }
   },
   "outputs": [
    {
     "data": {
      "text/plain": [
       "Package P1 (956a238a-82ce-4e19-b7b2-fca29e2ac21d)\n",
       "Package P2 (03033ad4-1c3d-4a5d-a7f1-8110df8a115b)\n",
       "Package P3 (394875e5-f4e2-415b-8318-5a61945ca6c7)\n"
      ]
     },
     "execution_count": 1,
     "metadata": {},
     "output_type": "execute_result"
    }
   ],
   "source": [
    "package P1 {\n",
    "\tpart def A;\n",
    "}\n",
    "\n",
    "package P2 {\n",
    "\timport P1::*;\n",
    "\tpart a : A;\n",
    "}\n",
    "\n",
    "import P2::*;\n",
    "\n",
    "package P3 {\n",
    "\tpart b subsets a;\n",
    "}"
   ]
  },
  {
   "cell_type": "code",
   "execution_count": 2,
   "id": "7a41111d",
   "metadata": {
    "execution": {
     "iopub.execute_input": "2022-04-22T09:51:47.410814Z",
     "iopub.status.busy": "2022-04-22T09:51:47.410591Z",
     "iopub.status.idle": "2022-04-22T09:51:47.814597Z",
     "shell.execute_reply": "2022-04-22T09:51:47.814310Z"
    }
   },
   "outputs": [
    {
     "data": {
      "image/svg+xml": [
       "<?xml version=\"1.0\" encoding=\"UTF-8\" standalone=\"no\"?><svg xmlns=\"http://www.w3.org/2000/svg\" xmlns:xlink=\"http://www.w3.org/1999/xlink\" contentScriptType=\"application/ecmascript\" contentStyleType=\"text/css\" height=\"115px\" preserveAspectRatio=\"none\" style=\"width:140px;height:115px;\" version=\"1.1\" viewBox=\"0 0 140 115\" width=\"140px\" zoomAndPan=\"magnify\"><defs/><g><!--MD5=[fbc87193dbaf4d95561dea2c320d4a47]\n",
       "cluster E1--><a href=\"psysml:fb33a6e6-5dc2-431e-96a4-a3f08ce921dc\" target=\"_top\" title=\"psysml:fb33a6e6-5dc2-431e-96a4-a3f08ce921dc\" xlink:actuate=\"onRequest\" xlink:href=\"psysml:fb33a6e6-5dc2-431e-96a4-a3f08ce921dc\" xlink:show=\"new\" xlink:title=\"psysml:fb33a6e6-5dc2-431e-96a4-a3f08ce921dc\" xlink:type=\"simple\"><polygon fill=\"#FFFFFF\" points=\"16,6,40,6,47,28.2969,118,28.2969,118,103,16,103,16,6\" style=\"stroke: #000000; stroke-width: 1.5;\"/><line style=\"stroke: #000000; stroke-width: 1.5;\" x1=\"16\" x2=\"47\" y1=\"28.2969\" y2=\"28.2969\"/><text fill=\"#000000\" font-family=\"sans-serif\" font-size=\"14\" font-weight=\"bold\" lengthAdjust=\"spacingAndGlyphs\" textLength=\"18\" x=\"20\" y=\"20.9951\">P1</text></a><!--MD5=[b4997ac47864f28c2f74865a473b2911]\n",
       "class E2--><a href=\"psysml:db85db04-92da-46ca-8852-43fed38500fe\" target=\"_top\" title=\"psysml:db85db04-92da-46ca-8852-43fed38500fe\" xlink:actuate=\"onRequest\" xlink:href=\"psysml:db85db04-92da-46ca-8852-43fed38500fe\" xlink:show=\"new\" xlink:title=\"psysml:db85db04-92da-46ca-8852-43fed38500fe\" xlink:type=\"simple\"><rect fill=\"#FFFFFF\" height=\"45.9375\" id=\"E2\" style=\"stroke: #383838; stroke-width: 1.5;\" width=\"70\" x=\"32\" y=\"41\"/><text fill=\"#000000\" font-family=\"sans-serif\" font-size=\"12\" font-style=\"italic\" lengthAdjust=\"spacingAndGlyphs\" textLength=\"68\" x=\"33\" y=\"57.1387\">«part  def»</text><text fill=\"#000000\" font-family=\"sans-serif\" font-size=\"12\" lengthAdjust=\"spacingAndGlyphs\" textLength=\"8\" x=\"63\" y=\"71.1074\">A</text><line style=\"stroke: #383838; stroke-width: 1.5;\" x1=\"33\" x2=\"101\" y1=\"78.9375\" y2=\"78.9375\"/></a><!--MD5=[667d803f792c895245d94fef4f271142]\n",
       "@startuml\r\n",
       " skinparam monochrome true\r\n",
       "skinparam classbackgroundcolor white\r\n",
       "skinparam shadowing false\r\n",
       "skinparam wrapWidth 300\r\n",
       "hide circle\r\n",
       "\r\n",
       "package \"P1\" as E1  [[psysml:fb33a6e6-5dc2-431e-96a4-a3f08ce921dc ]]  {\r\n",
       "comp def \"A\" as E2  <<(T,blue) part  def>> [[psysml:db85db04-92da-46ca-8852-43fed38500fe ]] {\r\n",
       "}\r\n",
       "}\r\n",
       "@enduml\r\n",
       "\n",
       "PlantUML version 1.2020.13(Sat Jun 13 12:26:38 UTC 2020)\n",
       "(EPL source distribution)\n",
       "Java Runtime: OpenJDK Runtime Environment\n",
       "JVM: OpenJDK 64-Bit Server VM\n",
       "Default Encoding: UTF-8\n",
       "Language: en\n",
       "Country: null\n",
       "--></g></svg>"
      ]
     },
     "execution_count": 2,
     "metadata": {},
     "output_type": "execute_result"
    }
   ],
   "source": [
    "%viz --style=\"COMPTREE\" --view=\"Default\" \"P1\""
   ]
  },
  {
   "cell_type": "code",
   "execution_count": 3,
   "id": "3b618d54",
   "metadata": {
    "execution": {
     "iopub.execute_input": "2022-04-22T09:51:47.864582Z",
     "iopub.status.busy": "2022-04-22T09:51:47.864342Z",
     "iopub.status.idle": "2022-04-22T09:51:47.896768Z",
     "shell.execute_reply": "2022-04-22T09:51:47.897098Z"
    }
   },
   "outputs": [
    {
     "data": {
      "image/svg+xml": [
       "<?xml version=\"1.0\" encoding=\"UTF-8\" standalone=\"no\"?><svg xmlns=\"http://www.w3.org/2000/svg\" xmlns:xlink=\"http://www.w3.org/1999/xlink\" contentScriptType=\"application/ecmascript\" contentStyleType=\"text/css\" height=\"115px\" preserveAspectRatio=\"none\" style=\"width:140px;height:115px;\" version=\"1.1\" viewBox=\"0 0 140 115\" width=\"140px\" zoomAndPan=\"magnify\"><defs/><g><!--MD5=[fbc87193dbaf4d95561dea2c320d4a47]\n",
       "cluster E1--><a href=\"psysml:fb33a6e6-5dc2-431e-96a4-a3f08ce921dc\" target=\"_top\" title=\"psysml:fb33a6e6-5dc2-431e-96a4-a3f08ce921dc\" xlink:actuate=\"onRequest\" xlink:href=\"psysml:fb33a6e6-5dc2-431e-96a4-a3f08ce921dc\" xlink:show=\"new\" xlink:title=\"psysml:fb33a6e6-5dc2-431e-96a4-a3f08ce921dc\" xlink:type=\"simple\"><polygon fill=\"#FFFFFF\" points=\"16,6,40,6,47,28.2969,118,28.2969,118,103,16,103,16,6\" style=\"stroke: #000000; stroke-width: 1.5;\"/><line style=\"stroke: #000000; stroke-width: 1.5;\" x1=\"16\" x2=\"47\" y1=\"28.2969\" y2=\"28.2969\"/><text fill=\"#000000\" font-family=\"sans-serif\" font-size=\"14\" font-weight=\"bold\" lengthAdjust=\"spacingAndGlyphs\" textLength=\"18\" x=\"20\" y=\"20.9951\">P1</text></a><!--MD5=[b4997ac47864f28c2f74865a473b2911]\n",
       "class E2--><a href=\"psysml:db85db04-92da-46ca-8852-43fed38500fe\" target=\"_top\" title=\"psysml:db85db04-92da-46ca-8852-43fed38500fe\" xlink:actuate=\"onRequest\" xlink:href=\"psysml:db85db04-92da-46ca-8852-43fed38500fe\" xlink:show=\"new\" xlink:title=\"psysml:db85db04-92da-46ca-8852-43fed38500fe\" xlink:type=\"simple\"><rect fill=\"#FFFFFF\" height=\"45.9375\" id=\"E2\" style=\"stroke: #383838; stroke-width: 1.5;\" width=\"70\" x=\"32\" y=\"41\"/><text fill=\"#000000\" font-family=\"sans-serif\" font-size=\"12\" font-style=\"italic\" lengthAdjust=\"spacingAndGlyphs\" textLength=\"68\" x=\"33\" y=\"57.1387\">«part  def»</text><text fill=\"#000000\" font-family=\"sans-serif\" font-size=\"12\" lengthAdjust=\"spacingAndGlyphs\" textLength=\"8\" x=\"63\" y=\"71.1074\">A</text><line style=\"stroke: #383838; stroke-width: 1.5;\" x1=\"33\" x2=\"101\" y1=\"78.9375\" y2=\"78.9375\"/></a><!--MD5=[667d803f792c895245d94fef4f271142]\n",
       "@startuml\r\n",
       " skinparam monochrome true\r\n",
       "skinparam classbackgroundcolor white\r\n",
       "skinparam shadowing false\r\n",
       "skinparam wrapWidth 300\r\n",
       "hide circle\r\n",
       "\r\n",
       "package \"P1\" as E1  [[psysml:fb33a6e6-5dc2-431e-96a4-a3f08ce921dc ]]  {\r\n",
       "comp def \"A\" as E2  <<(T,blue) part  def>> [[psysml:db85db04-92da-46ca-8852-43fed38500fe ]] {\r\n",
       "}\r\n",
       "}\r\n",
       "@enduml\r\n",
       "\n",
       "PlantUML version 1.2020.13(Sat Jun 13 12:26:38 UTC 2020)\n",
       "(EPL source distribution)\n",
       "Java Runtime: OpenJDK Runtime Environment\n",
       "JVM: OpenJDK 64-Bit Server VM\n",
       "Default Encoding: UTF-8\n",
       "Language: en\n",
       "Country: null\n",
       "--></g></svg>"
      ]
     },
     "execution_count": 3,
     "metadata": {},
     "output_type": "execute_result"
    }
   ],
   "source": [
    "%viz --style=\"COMPTREE\" --view=\"Tree\" \"P1\""
   ]
  },
  {
   "cell_type": "code",
   "execution_count": 4,
   "id": "6472e54a",
   "metadata": {
    "execution": {
     "iopub.execute_input": "2022-04-22T09:51:47.948257Z",
     "iopub.status.busy": "2022-04-22T09:51:47.947634Z",
     "iopub.status.idle": "2022-04-22T09:51:47.957124Z",
     "shell.execute_reply": "2022-04-22T09:51:47.957581Z"
    }
   },
   "outputs": [
    {
     "data": {
      "image/svg+xml": [
       "<?xml version=\"1.0\" encoding=\"UTF-8\" standalone=\"no\"?><svg xmlns=\"http://www.w3.org/2000/svg\" xmlns:xlink=\"http://www.w3.org/1999/xlink\" contentScriptType=\"application/ecmascript\" contentStyleType=\"text/css\" height=\"12px\" preserveAspectRatio=\"none\" style=\"width:12px;height:12px;\" version=\"1.1\" viewBox=\"0 0 12 12\" width=\"12px\" zoomAndPan=\"magnify\"><defs/><g><!--MD5=[f19188ef49e11757b5c46753f95d9edc]\n",
       "@startuml\r\n",
       " skinparam monochrome true\r\n",
       "skinparam classbackgroundcolor white\r\n",
       "skinparam shadowing false\r\n",
       "skinparam wrapWidth 300\r\n",
       "hide circle\r\n",
       "\r\n",
       "@enduml\r\n",
       "\n",
       "PlantUML version 1.2020.13(Sat Jun 13 12:26:38 UTC 2020)\n",
       "(EPL source distribution)\n",
       "Java Runtime: OpenJDK Runtime Environment\n",
       "JVM: OpenJDK 64-Bit Server VM\n",
       "Default Encoding: UTF-8\n",
       "Language: en\n",
       "Country: null\n",
       "--></g></svg>"
      ]
     },
     "execution_count": 4,
     "metadata": {},
     "output_type": "execute_result"
    }
   ],
   "source": [
    "%viz --style=\"COMPTREE\" --view=\"State\" \"P1\""
   ]
  },
  {
   "cell_type": "code",
   "execution_count": 5,
   "id": "7027bea7",
   "metadata": {
    "execution": {
     "iopub.execute_input": "2022-04-22T09:51:48.008344Z",
     "iopub.status.busy": "2022-04-22T09:51:48.007725Z",
     "iopub.status.idle": "2022-04-22T09:51:48.040781Z",
     "shell.execute_reply": "2022-04-22T09:51:48.041242Z"
    }
   },
   "outputs": [
    {
     "data": {
      "image/svg+xml": [
       "<?xml version=\"1.0\" encoding=\"UTF-8\" standalone=\"no\"?><svg xmlns=\"http://www.w3.org/2000/svg\" xmlns:xlink=\"http://www.w3.org/1999/xlink\" contentScriptType=\"application/ecmascript\" contentStyleType=\"text/css\" height=\"112px\" preserveAspectRatio=\"none\" style=\"width:144px;height:112px;\" version=\"1.1\" viewBox=\"0 0 144 112\" width=\"144px\" zoomAndPan=\"magnify\"><defs/><g><!--MD5=[fbc87193dbaf4d95561dea2c320d4a47]\n",
       "cluster E1--><a href=\"psysml:fb33a6e6-5dc2-431e-96a4-a3f08ce921dc\" target=\"_top\" title=\"psysml:fb33a6e6-5dc2-431e-96a4-a3f08ce921dc\" xlink:actuate=\"onRequest\" xlink:href=\"psysml:fb33a6e6-5dc2-431e-96a4-a3f08ce921dc\" xlink:show=\"new\" xlink:title=\"psysml:fb33a6e6-5dc2-431e-96a4-a3f08ce921dc\" xlink:type=\"simple\"><polygon fill=\"#FFFFFF\" points=\"16,6,40,6,47,28.2969,122,28.2969,122,100,16,100,16,6\" style=\"stroke: #000000; stroke-width: 1.5;\"/><line style=\"stroke: #000000; stroke-width: 1.5;\" x1=\"16\" x2=\"47\" y1=\"28.2969\" y2=\"28.2969\"/><text fill=\"#000000\" font-family=\"sans-serif\" font-size=\"14\" font-weight=\"bold\" lengthAdjust=\"spacingAndGlyphs\" textLength=\"18\" x=\"20\" y=\"20.9951\">P1</text></a><g id=\"E1.E2\"><a href=\"psysml:db85db04-92da-46ca-8852-43fed38500fe\" target=\"_top\" title=\"psysml:db85db04-92da-46ca-8852-43fed38500fe\" xlink:actuate=\"onRequest\" xlink:href=\"psysml:db85db04-92da-46ca-8852-43fed38500fe\" xlink:show=\"new\" xlink:title=\"psysml:db85db04-92da-46ca-8852-43fed38500fe\" xlink:type=\"simple\"><rect fill=\"#FFFFFF\" height=\"42.9375\" id=\"E2\" style=\"stroke: #383838; stroke-width: 1.5;\" width=\"75\" x=\"31.5\" y=\"41\"/><rect fill=\"#F8F8F8\" height=\"37.9375\" style=\"stroke: #383838; stroke-width: 1.5;\" width=\"75\" x=\"31.5\" y=\"41\"/><text fill=\"#000000\" font-family=\"sans-serif\" font-size=\"12\" font-style=\"italic\" lengthAdjust=\"spacingAndGlyphs\" textLength=\"68\" x=\"35\" y=\"57.1387\">«part  def»</text><text fill=\"#000000\" font-family=\"sans-serif\" font-size=\"12\" lengthAdjust=\"spacingAndGlyphs\" textLength=\"8\" x=\"65\" y=\"71.1074\">A</text></a></g><!--MD5=[03e0b8a810b5539fa6b4fc7d8787dcab]\n",
       "@startuml\r\n",
       "skinparam ranksep 10\r\n",
       "skinparam rectangle {\r\n",
       " backgroundColor<<block>> LightGreen\r\n",
       "}\r\n",
       " skinparam monochrome true\r\n",
       "skinparam classbackgroundcolor white\r\n",
       "skinparam shadowing false\r\n",
       "skinparam wrapWidth 300\r\n",
       "hide circle\r\n",
       "\r\n",
       "package \"P1\" as E1  [[psysml:fb33a6e6-5dc2-431e-96a4-a3f08ce921dc ]]  {\r\n",
       "rec def \"A\" as E2  <<(T,blue) part  def>> [[psysml:db85db04-92da-46ca-8852-43fed38500fe ]] {\r\n",
       "}\r\n",
       "}\r\n",
       "@enduml\r\n",
       "\n",
       "PlantUML version 1.2020.13(Sat Jun 13 12:26:38 UTC 2020)\n",
       "(EPL source distribution)\n",
       "Java Runtime: OpenJDK Runtime Environment\n",
       "JVM: OpenJDK 64-Bit Server VM\n",
       "Default Encoding: UTF-8\n",
       "Language: en\n",
       "Country: null\n",
       "--></g></svg>"
      ]
     },
     "execution_count": 5,
     "metadata": {},
     "output_type": "execute_result"
    }
   ],
   "source": [
    "%viz --style=\"COMPTREE\" --view=\"Interconnection\" \"P1\""
   ]
  },
  {
   "cell_type": "code",
   "execution_count": 6,
   "id": "2775ab4f",
   "metadata": {
    "execution": {
     "iopub.execute_input": "2022-04-22T09:51:48.090518Z",
     "iopub.status.busy": "2022-04-22T09:51:48.090297Z",
     "iopub.status.idle": "2022-04-22T09:51:48.097255Z",
     "shell.execute_reply": "2022-04-22T09:51:48.097089Z"
    }
   },
   "outputs": [
    {
     "data": {
      "image/svg+xml": [
       "<?xml version=\"1.0\" encoding=\"UTF-8\" standalone=\"no\"?><svg xmlns=\"http://www.w3.org/2000/svg\" xmlns:xlink=\"http://www.w3.org/1999/xlink\" contentScriptType=\"application/ecmascript\" contentStyleType=\"text/css\" height=\"12px\" preserveAspectRatio=\"none\" style=\"width:12px;height:12px;\" version=\"1.1\" viewBox=\"0 0 12 12\" width=\"12px\" zoomAndPan=\"magnify\"><defs/><g><!--MD5=[655b888544ca4751ea36af1068543f84]\n",
       "@startuml\r\n",
       "skinparam ranksep 8\r\n",
       " skinparam monochrome true\r\n",
       "skinparam classbackgroundcolor white\r\n",
       "skinparam shadowing false\r\n",
       "skinparam wrapWidth 300\r\n",
       "hide circle\r\n",
       "\r\n",
       "@enduml\r\n",
       "\n",
       "PlantUML version 1.2020.13(Sat Jun 13 12:26:38 UTC 2020)\n",
       "(EPL source distribution)\n",
       "Java Runtime: OpenJDK Runtime Environment\n",
       "JVM: OpenJDK 64-Bit Server VM\n",
       "Default Encoding: UTF-8\n",
       "Language: en\n",
       "Country: null\n",
       "--></g></svg>"
      ]
     },
     "execution_count": 6,
     "metadata": {},
     "output_type": "execute_result"
    }
   ],
   "source": [
    "%viz --style=\"COMPTREE\" --view=\"Action\" \"P1\""
   ]
  },
  {
   "cell_type": "code",
   "execution_count": 7,
   "id": "e8664e4f",
   "metadata": {
    "execution": {
     "iopub.execute_input": "2022-04-22T09:51:48.148457Z",
     "iopub.status.busy": "2022-04-22T09:51:48.148034Z",
     "iopub.status.idle": "2022-04-22T09:51:48.159809Z",
     "shell.execute_reply": "2022-04-22T09:51:48.160127Z"
    }
   },
   "outputs": [
    {
     "data": {
      "image/svg+xml": [
       "<?xml version=\"1.0\" encoding=\"UTF-8\" standalone=\"no\"?><svg xmlns=\"http://www.w3.org/2000/svg\" xmlns:xlink=\"http://www.w3.org/1999/xlink\" contentScriptType=\"application/ecmascript\" contentStyleType=\"text/css\" height=\"12px\" preserveAspectRatio=\"none\" style=\"width:12px;height:12px;\" version=\"1.1\" viewBox=\"0 0 12 12\" width=\"12px\" zoomAndPan=\"magnify\"><defs/><g><!--MD5=[803fc46c337be7a5c8a9831e35356779]\n",
       "@startuml\r\n",
       "skinparam roundcorner 20\r\n",
       "skinparam BoxPadding 20\r\n",
       "skinparam SequenceBoxBackgroundColor #white\r\n",
       "skinparam style strictuml\r\n",
       "skinparam maxMessageSize 100\r\n",
       " skinparam monochrome true\r\n",
       "skinparam classbackgroundcolor white\r\n",
       "skinparam shadowing false\r\n",
       "skinparam wrapWidth 300\r\n",
       "hide circle\r\n",
       "\r\n",
       "@enduml\r\n",
       "\n",
       "PlantUML version 1.2020.13(Sat Jun 13 12:26:38 UTC 2020)\n",
       "(EPL source distribution)\n",
       "Java Runtime: OpenJDK Runtime Environment\n",
       "JVM: OpenJDK 64-Bit Server VM\n",
       "Default Encoding: UTF-8\n",
       "Language: en\n",
       "Country: null\n",
       "--></g></svg>"
      ]
     },
     "execution_count": 7,
     "metadata": {},
     "output_type": "execute_result"
    }
   ],
   "source": [
    "%viz --style=\"COMPTREE\" --view=\"Sequence\" \"P1\""
   ]
  },
  {
   "cell_type": "code",
   "execution_count": 8,
   "id": "3c6096a2",
   "metadata": {
    "execution": {
     "iopub.execute_input": "2022-04-22T09:51:48.210600Z",
     "iopub.status.busy": "2022-04-22T09:51:48.210170Z",
     "iopub.status.idle": "2022-04-22T09:51:48.241230Z",
     "shell.execute_reply": "2022-04-22T09:51:48.241719Z"
    }
   },
   "outputs": [
    {
     "data": {
      "image/svg+xml": [
       "<?xml version=\"1.0\" encoding=\"UTF-8\" standalone=\"no\"?><svg xmlns=\"http://www.w3.org/2000/svg\" xmlns:xlink=\"http://www.w3.org/1999/xlink\" contentScriptType=\"application/ecmascript\" contentStyleType=\"text/css\" height=\"115px\" preserveAspectRatio=\"none\" style=\"width:140px;height:115px;\" version=\"1.1\" viewBox=\"0 0 140 115\" width=\"140px\" zoomAndPan=\"magnify\"><defs/><g><!--MD5=[fbc87193dbaf4d95561dea2c320d4a47]\n",
       "cluster E1--><a href=\"psysml:fb33a6e6-5dc2-431e-96a4-a3f08ce921dc\" target=\"_top\" title=\"psysml:fb33a6e6-5dc2-431e-96a4-a3f08ce921dc\" xlink:actuate=\"onRequest\" xlink:href=\"psysml:fb33a6e6-5dc2-431e-96a4-a3f08ce921dc\" xlink:show=\"new\" xlink:title=\"psysml:fb33a6e6-5dc2-431e-96a4-a3f08ce921dc\" xlink:type=\"simple\"><polygon fill=\"#FFFFFF\" points=\"16,6,40,6,47,28.2969,118,28.2969,118,103,16,103,16,6\" style=\"stroke: #000000; stroke-width: 1.5;\"/><line style=\"stroke: #000000; stroke-width: 1.5;\" x1=\"16\" x2=\"47\" y1=\"28.2969\" y2=\"28.2969\"/><text fill=\"#000000\" font-family=\"sans-serif\" font-size=\"14\" font-weight=\"bold\" lengthAdjust=\"spacingAndGlyphs\" textLength=\"18\" x=\"20\" y=\"20.9951\">P1</text></a><!--MD5=[b4997ac47864f28c2f74865a473b2911]\n",
       "class E2--><a href=\"psysml:db85db04-92da-46ca-8852-43fed38500fe\" target=\"_top\" title=\"psysml:db85db04-92da-46ca-8852-43fed38500fe\" xlink:actuate=\"onRequest\" xlink:href=\"psysml:db85db04-92da-46ca-8852-43fed38500fe\" xlink:show=\"new\" xlink:title=\"psysml:db85db04-92da-46ca-8852-43fed38500fe\" xlink:type=\"simple\"><rect fill=\"#FFFFFF\" height=\"45.9375\" id=\"E2\" style=\"stroke: #383838; stroke-width: 1.5;\" width=\"70\" x=\"32\" y=\"41\"/><text fill=\"#000000\" font-family=\"sans-serif\" font-size=\"12\" font-style=\"italic\" lengthAdjust=\"spacingAndGlyphs\" textLength=\"68\" x=\"33\" y=\"57.1387\">«part  def»</text><text fill=\"#000000\" font-family=\"sans-serif\" font-size=\"12\" lengthAdjust=\"spacingAndGlyphs\" textLength=\"8\" x=\"63\" y=\"71.1074\">A</text><line style=\"stroke: #383838; stroke-width: 1.5;\" x1=\"33\" x2=\"101\" y1=\"78.9375\" y2=\"78.9375\"/></a><!--MD5=[667d803f792c895245d94fef4f271142]\n",
       "@startuml\r\n",
       " skinparam monochrome true\r\n",
       "skinparam classbackgroundcolor white\r\n",
       "skinparam shadowing false\r\n",
       "skinparam wrapWidth 300\r\n",
       "hide circle\r\n",
       "\r\n",
       "package \"P1\" as E1  [[psysml:fb33a6e6-5dc2-431e-96a4-a3f08ce921dc ]]  {\r\n",
       "comp def \"A\" as E2  <<(T,blue) part  def>> [[psysml:db85db04-92da-46ca-8852-43fed38500fe ]] {\r\n",
       "}\r\n",
       "}\r\n",
       "@enduml\r\n",
       "\n",
       "PlantUML version 1.2020.13(Sat Jun 13 12:26:38 UTC 2020)\n",
       "(EPL source distribution)\n",
       "Java Runtime: OpenJDK Runtime Environment\n",
       "JVM: OpenJDK 64-Bit Server VM\n",
       "Default Encoding: UTF-8\n",
       "Language: en\n",
       "Country: null\n",
       "--></g></svg>"
      ]
     },
     "execution_count": 8,
     "metadata": {},
     "output_type": "execute_result"
    }
   ],
   "source": [
    "%viz --style=\"COMPTREE\" --view=\"MIXED\" \"P1\""
   ]
  },
  {
   "cell_type": "code",
   "execution_count": 9,
   "id": "9e5c815f",
   "metadata": {
    "execution": {
     "iopub.execute_input": "2022-04-22T09:51:48.291905Z",
     "iopub.status.busy": "2022-04-22T09:51:48.291388Z",
     "iopub.status.idle": "2022-04-22T09:51:48.313385Z",
     "shell.execute_reply": "2022-04-22T09:51:48.313168Z"
    }
   },
   "outputs": [
    {
     "data": {
      "image/svg+xml": [
       "<?xml version=\"1.0\" encoding=\"UTF-8\" standalone=\"no\"?><svg xmlns=\"http://www.w3.org/2000/svg\" xmlns:xlink=\"http://www.w3.org/1999/xlink\" contentScriptType=\"application/ecmascript\" contentStyleType=\"text/css\" height=\"115px\" preserveAspectRatio=\"none\" style=\"width:140px;height:115px;\" version=\"1.1\" viewBox=\"0 0 140 115\" width=\"140px\" zoomAndPan=\"magnify\"><defs/><g><!--MD5=[fbc87193dbaf4d95561dea2c320d4a47]\n",
       "cluster E1--><a href=\"psysml:fb33a6e6-5dc2-431e-96a4-a3f08ce921dc\" target=\"_top\" title=\"psysml:fb33a6e6-5dc2-431e-96a4-a3f08ce921dc\" xlink:actuate=\"onRequest\" xlink:href=\"psysml:fb33a6e6-5dc2-431e-96a4-a3f08ce921dc\" xlink:show=\"new\" xlink:title=\"psysml:fb33a6e6-5dc2-431e-96a4-a3f08ce921dc\" xlink:type=\"simple\"><polygon fill=\"#FFFFFF\" points=\"16,6,40,6,47,28.2969,118,28.2969,118,103,16,103,16,6\" style=\"stroke: #000000; stroke-width: 1.5;\"/><line style=\"stroke: #000000; stroke-width: 1.5;\" x1=\"16\" x2=\"47\" y1=\"28.2969\" y2=\"28.2969\"/><text fill=\"#000000\" font-family=\"sans-serif\" font-size=\"14\" font-weight=\"bold\" lengthAdjust=\"spacingAndGlyphs\" textLength=\"18\" x=\"20\" y=\"20.9951\">P1</text></a><!--MD5=[b4997ac47864f28c2f74865a473b2911]\n",
       "class E2--><a href=\"psysml:db85db04-92da-46ca-8852-43fed38500fe\" target=\"_top\" title=\"psysml:db85db04-92da-46ca-8852-43fed38500fe\" xlink:actuate=\"onRequest\" xlink:href=\"psysml:db85db04-92da-46ca-8852-43fed38500fe\" xlink:show=\"new\" xlink:title=\"psysml:db85db04-92da-46ca-8852-43fed38500fe\" xlink:type=\"simple\"><rect fill=\"#FFFFFF\" height=\"45.9375\" id=\"E2\" style=\"stroke: #383838; stroke-width: 1.5;\" width=\"70\" x=\"32\" y=\"41\"/><text fill=\"#000000\" font-family=\"sans-serif\" font-size=\"12\" font-style=\"italic\" lengthAdjust=\"spacingAndGlyphs\" textLength=\"68\" x=\"33\" y=\"57.1387\">«part  def»</text><text fill=\"#000000\" font-family=\"sans-serif\" font-size=\"12\" lengthAdjust=\"spacingAndGlyphs\" textLength=\"8\" x=\"63\" y=\"71.1074\">A</text><line style=\"stroke: #383838; stroke-width: 1.5;\" x1=\"33\" x2=\"101\" y1=\"78.9375\" y2=\"78.9375\"/></a><!--MD5=[0cd3e1cfb72b1d1608639840717e4def]\n",
       "@startuml\r\n",
       "skinparam linetype polyline\r\n",
       "skinparam monochrome true\r\n",
       "skinparam classbackgroundcolor white\r\n",
       "skinparam shadowing false\r\n",
       "skinparam wrapWidth 300\r\n",
       "hide circle\r\n",
       "\r\n",
       "package \"P1\" as E1  [[psysml:fb33a6e6-5dc2-431e-96a4-a3f08ce921dc ]]  {\r\n",
       "comp def \"A\" as E2  <<(T,blue) part  def>> [[psysml:db85db04-92da-46ca-8852-43fed38500fe ]] {\r\n",
       "}\r\n",
       "}\r\n",
       "@enduml\r\n",
       "\n",
       "PlantUML version 1.2020.13(Sat Jun 13 12:26:38 UTC 2020)\n",
       "(EPL source distribution)\n",
       "Java Runtime: OpenJDK Runtime Environment\n",
       "JVM: OpenJDK 64-Bit Server VM\n",
       "Default Encoding: UTF-8\n",
       "Language: en\n",
       "Country: null\n",
       "--></g></svg>"
      ]
     },
     "execution_count": 9,
     "metadata": {},
     "output_type": "execute_result"
    }
   ],
   "source": [
    "%viz --style=\"POLYLINE\" --view=\"Default\" \"P1\""
   ]
  },
  {
   "cell_type": "code",
   "execution_count": 10,
   "id": "5b2398bc",
   "metadata": {
    "execution": {
     "iopub.execute_input": "2022-04-22T09:51:48.364072Z",
     "iopub.status.busy": "2022-04-22T09:51:48.363577Z",
     "iopub.status.idle": "2022-04-22T09:51:48.387750Z",
     "shell.execute_reply": "2022-04-22T09:51:48.387231Z"
    }
   },
   "outputs": [
    {
     "data": {
      "image/svg+xml": [
       "<?xml version=\"1.0\" encoding=\"UTF-8\" standalone=\"no\"?><svg xmlns=\"http://www.w3.org/2000/svg\" xmlns:xlink=\"http://www.w3.org/1999/xlink\" contentScriptType=\"application/ecmascript\" contentStyleType=\"text/css\" height=\"115px\" preserveAspectRatio=\"none\" style=\"width:140px;height:115px;\" version=\"1.1\" viewBox=\"0 0 140 115\" width=\"140px\" zoomAndPan=\"magnify\"><defs/><g><!--MD5=[fbc87193dbaf4d95561dea2c320d4a47]\n",
       "cluster E1--><a href=\"psysml:fb33a6e6-5dc2-431e-96a4-a3f08ce921dc\" target=\"_top\" title=\"psysml:fb33a6e6-5dc2-431e-96a4-a3f08ce921dc\" xlink:actuate=\"onRequest\" xlink:href=\"psysml:fb33a6e6-5dc2-431e-96a4-a3f08ce921dc\" xlink:show=\"new\" xlink:title=\"psysml:fb33a6e6-5dc2-431e-96a4-a3f08ce921dc\" xlink:type=\"simple\"><polygon fill=\"#FFFFFF\" points=\"16,6,40,6,47,28.2969,118,28.2969,118,103,16,103,16,6\" style=\"stroke: #000000; stroke-width: 1.5;\"/><line style=\"stroke: #000000; stroke-width: 1.5;\" x1=\"16\" x2=\"47\" y1=\"28.2969\" y2=\"28.2969\"/><text fill=\"#000000\" font-family=\"sans-serif\" font-size=\"14\" font-weight=\"bold\" lengthAdjust=\"spacingAndGlyphs\" textLength=\"18\" x=\"20\" y=\"20.9951\">P1</text></a><!--MD5=[b4997ac47864f28c2f74865a473b2911]\n",
       "class E2--><a href=\"psysml:db85db04-92da-46ca-8852-43fed38500fe\" target=\"_top\" title=\"psysml:db85db04-92da-46ca-8852-43fed38500fe\" xlink:actuate=\"onRequest\" xlink:href=\"psysml:db85db04-92da-46ca-8852-43fed38500fe\" xlink:show=\"new\" xlink:title=\"psysml:db85db04-92da-46ca-8852-43fed38500fe\" xlink:type=\"simple\"><rect fill=\"#FFFFFF\" height=\"45.9375\" id=\"E2\" style=\"stroke: #383838; stroke-width: 1.5;\" width=\"70\" x=\"32\" y=\"41\"/><text fill=\"#000000\" font-family=\"sans-serif\" font-size=\"12\" font-style=\"italic\" lengthAdjust=\"spacingAndGlyphs\" textLength=\"68\" x=\"33\" y=\"57.1387\">«part  def»</text><text fill=\"#000000\" font-family=\"sans-serif\" font-size=\"12\" lengthAdjust=\"spacingAndGlyphs\" textLength=\"8\" x=\"63\" y=\"71.1074\">A</text><line style=\"stroke: #383838; stroke-width: 1.5;\" x1=\"33\" x2=\"101\" y1=\"78.9375\" y2=\"78.9375\"/></a><!--MD5=[0cd3e1cfb72b1d1608639840717e4def]\n",
       "@startuml\r\n",
       "skinparam linetype polyline\r\n",
       "skinparam monochrome true\r\n",
       "skinparam classbackgroundcolor white\r\n",
       "skinparam shadowing false\r\n",
       "skinparam wrapWidth 300\r\n",
       "hide circle\r\n",
       "\r\n",
       "package \"P1\" as E1  [[psysml:fb33a6e6-5dc2-431e-96a4-a3f08ce921dc ]]  {\r\n",
       "comp def \"A\" as E2  <<(T,blue) part  def>> [[psysml:db85db04-92da-46ca-8852-43fed38500fe ]] {\r\n",
       "}\r\n",
       "}\r\n",
       "@enduml\r\n",
       "\n",
       "PlantUML version 1.2020.13(Sat Jun 13 12:26:38 UTC 2020)\n",
       "(EPL source distribution)\n",
       "Java Runtime: OpenJDK Runtime Environment\n",
       "JVM: OpenJDK 64-Bit Server VM\n",
       "Default Encoding: UTF-8\n",
       "Language: en\n",
       "Country: null\n",
       "--></g></svg>"
      ]
     },
     "execution_count": 10,
     "metadata": {},
     "output_type": "execute_result"
    }
   ],
   "source": [
    "%viz --style=\"POLYLINE\" --view=\"Tree\" \"P1\""
   ]
  },
  {
   "cell_type": "code",
   "execution_count": 11,
   "id": "fc32d07e",
   "metadata": {
    "execution": {
     "iopub.execute_input": "2022-04-22T09:51:48.437014Z",
     "iopub.status.busy": "2022-04-22T09:51:48.436589Z",
     "iopub.status.idle": "2022-04-22T09:51:48.443962Z",
     "shell.execute_reply": "2022-04-22T09:51:48.444284Z"
    }
   },
   "outputs": [
    {
     "data": {
      "image/svg+xml": [
       "<?xml version=\"1.0\" encoding=\"UTF-8\" standalone=\"no\"?><svg xmlns=\"http://www.w3.org/2000/svg\" xmlns:xlink=\"http://www.w3.org/1999/xlink\" contentScriptType=\"application/ecmascript\" contentStyleType=\"text/css\" height=\"12px\" preserveAspectRatio=\"none\" style=\"width:12px;height:12px;\" version=\"1.1\" viewBox=\"0 0 12 12\" width=\"12px\" zoomAndPan=\"magnify\"><defs/><g><!--MD5=[896ac0e7a515d8dd7765a661cb4ee08b]\n",
       "@startuml\r\n",
       "skinparam linetype polyline\r\n",
       "skinparam monochrome true\r\n",
       "skinparam classbackgroundcolor white\r\n",
       "skinparam shadowing false\r\n",
       "skinparam wrapWidth 300\r\n",
       "hide circle\r\n",
       "\r\n",
       "@enduml\r\n",
       "\n",
       "PlantUML version 1.2020.13(Sat Jun 13 12:26:38 UTC 2020)\n",
       "(EPL source distribution)\n",
       "Java Runtime: OpenJDK Runtime Environment\n",
       "JVM: OpenJDK 64-Bit Server VM\n",
       "Default Encoding: UTF-8\n",
       "Language: en\n",
       "Country: null\n",
       "--></g></svg>"
      ]
     },
     "execution_count": 11,
     "metadata": {},
     "output_type": "execute_result"
    }
   ],
   "source": [
    "%viz --style=\"POLYLINE\" --view=\"State\" \"P1\""
   ]
  },
  {
   "cell_type": "code",
   "execution_count": 12,
   "id": "90e0bfab",
   "metadata": {
    "execution": {
     "iopub.execute_input": "2022-04-22T09:51:48.494679Z",
     "iopub.status.busy": "2022-04-22T09:51:48.494260Z",
     "iopub.status.idle": "2022-04-22T09:51:48.520777Z",
     "shell.execute_reply": "2022-04-22T09:51:48.521095Z"
    }
   },
   "outputs": [
    {
     "data": {
      "image/svg+xml": [
       "<?xml version=\"1.0\" encoding=\"UTF-8\" standalone=\"no\"?><svg xmlns=\"http://www.w3.org/2000/svg\" xmlns:xlink=\"http://www.w3.org/1999/xlink\" contentScriptType=\"application/ecmascript\" contentStyleType=\"text/css\" height=\"112px\" preserveAspectRatio=\"none\" style=\"width:144px;height:112px;\" version=\"1.1\" viewBox=\"0 0 144 112\" width=\"144px\" zoomAndPan=\"magnify\"><defs/><g><!--MD5=[fbc87193dbaf4d95561dea2c320d4a47]\n",
       "cluster E1--><a href=\"psysml:fb33a6e6-5dc2-431e-96a4-a3f08ce921dc\" target=\"_top\" title=\"psysml:fb33a6e6-5dc2-431e-96a4-a3f08ce921dc\" xlink:actuate=\"onRequest\" xlink:href=\"psysml:fb33a6e6-5dc2-431e-96a4-a3f08ce921dc\" xlink:show=\"new\" xlink:title=\"psysml:fb33a6e6-5dc2-431e-96a4-a3f08ce921dc\" xlink:type=\"simple\"><polygon fill=\"#FFFFFF\" points=\"16,6,40,6,47,28.2969,122,28.2969,122,100,16,100,16,6\" style=\"stroke: #000000; stroke-width: 1.5;\"/><line style=\"stroke: #000000; stroke-width: 1.5;\" x1=\"16\" x2=\"47\" y1=\"28.2969\" y2=\"28.2969\"/><text fill=\"#000000\" font-family=\"sans-serif\" font-size=\"14\" font-weight=\"bold\" lengthAdjust=\"spacingAndGlyphs\" textLength=\"18\" x=\"20\" y=\"20.9951\">P1</text></a><g id=\"E1.E2\"><a href=\"psysml:db85db04-92da-46ca-8852-43fed38500fe\" target=\"_top\" title=\"psysml:db85db04-92da-46ca-8852-43fed38500fe\" xlink:actuate=\"onRequest\" xlink:href=\"psysml:db85db04-92da-46ca-8852-43fed38500fe\" xlink:show=\"new\" xlink:title=\"psysml:db85db04-92da-46ca-8852-43fed38500fe\" xlink:type=\"simple\"><rect fill=\"#FFFFFF\" height=\"42.9375\" id=\"E2\" style=\"stroke: #383838; stroke-width: 1.5;\" width=\"75\" x=\"31.5\" y=\"41\"/><rect fill=\"#F8F8F8\" height=\"37.9375\" style=\"stroke: #383838; stroke-width: 1.5;\" width=\"75\" x=\"31.5\" y=\"41\"/><text fill=\"#000000\" font-family=\"sans-serif\" font-size=\"12\" font-style=\"italic\" lengthAdjust=\"spacingAndGlyphs\" textLength=\"68\" x=\"35\" y=\"57.1387\">«part  def»</text><text fill=\"#000000\" font-family=\"sans-serif\" font-size=\"12\" lengthAdjust=\"spacingAndGlyphs\" textLength=\"8\" x=\"65\" y=\"71.1074\">A</text></a></g><!--MD5=[61f8d1a126a2d228c92b3d21fcc04cc0]\n",
       "@startuml\r\n",
       "skinparam ranksep 10\r\n",
       "skinparam rectangle {\r\n",
       " backgroundColor<<block>> LightGreen\r\n",
       "}\r\n",
       "skinparam linetype polyline\r\n",
       "skinparam monochrome true\r\n",
       "skinparam classbackgroundcolor white\r\n",
       "skinparam shadowing false\r\n",
       "skinparam wrapWidth 300\r\n",
       "hide circle\r\n",
       "\r\n",
       "package \"P1\" as E1  [[psysml:fb33a6e6-5dc2-431e-96a4-a3f08ce921dc ]]  {\r\n",
       "rec def \"A\" as E2  <<(T,blue) part  def>> [[psysml:db85db04-92da-46ca-8852-43fed38500fe ]] {\r\n",
       "}\r\n",
       "}\r\n",
       "@enduml\r\n",
       "\n",
       "PlantUML version 1.2020.13(Sat Jun 13 12:26:38 UTC 2020)\n",
       "(EPL source distribution)\n",
       "Java Runtime: OpenJDK Runtime Environment\n",
       "JVM: OpenJDK 64-Bit Server VM\n",
       "Default Encoding: UTF-8\n",
       "Language: en\n",
       "Country: null\n",
       "--></g></svg>"
      ]
     },
     "execution_count": 12,
     "metadata": {},
     "output_type": "execute_result"
    }
   ],
   "source": [
    "%viz --style=\"POLYLINE\" --view=\"Interconnection\" \"P1\""
   ]
  },
  {
   "cell_type": "code",
   "execution_count": 13,
   "id": "d86dee01",
   "metadata": {
    "execution": {
     "iopub.execute_input": "2022-04-22T09:51:48.571341Z",
     "iopub.status.busy": "2022-04-22T09:51:48.570932Z",
     "iopub.status.idle": "2022-04-22T09:51:48.576535Z",
     "shell.execute_reply": "2022-04-22T09:51:48.576847Z"
    }
   },
   "outputs": [
    {
     "data": {
      "image/svg+xml": [
       "<?xml version=\"1.0\" encoding=\"UTF-8\" standalone=\"no\"?><svg xmlns=\"http://www.w3.org/2000/svg\" xmlns:xlink=\"http://www.w3.org/1999/xlink\" contentScriptType=\"application/ecmascript\" contentStyleType=\"text/css\" height=\"12px\" preserveAspectRatio=\"none\" style=\"width:12px;height:12px;\" version=\"1.1\" viewBox=\"0 0 12 12\" width=\"12px\" zoomAndPan=\"magnify\"><defs/><g><!--MD5=[97bbf32f66ccd50cbc40d92ea8f5a65e]\n",
       "@startuml\r\n",
       "skinparam ranksep 8\r\n",
       "skinparam linetype polyline\r\n",
       "skinparam monochrome true\r\n",
       "skinparam classbackgroundcolor white\r\n",
       "skinparam shadowing false\r\n",
       "skinparam wrapWidth 300\r\n",
       "hide circle\r\n",
       "\r\n",
       "@enduml\r\n",
       "\n",
       "PlantUML version 1.2020.13(Sat Jun 13 12:26:38 UTC 2020)\n",
       "(EPL source distribution)\n",
       "Java Runtime: OpenJDK Runtime Environment\n",
       "JVM: OpenJDK 64-Bit Server VM\n",
       "Default Encoding: UTF-8\n",
       "Language: en\n",
       "Country: null\n",
       "--></g></svg>"
      ]
     },
     "execution_count": 13,
     "metadata": {},
     "output_type": "execute_result"
    }
   ],
   "source": [
    "%viz --style=\"POLYLINE\" --view=\"Action\" \"P1\""
   ]
  },
  {
   "cell_type": "code",
   "execution_count": 14,
   "id": "467f4170",
   "metadata": {
    "execution": {
     "iopub.execute_input": "2022-04-22T09:51:48.627224Z",
     "iopub.status.busy": "2022-04-22T09:51:48.626812Z",
     "iopub.status.idle": "2022-04-22T09:51:48.632924Z",
     "shell.execute_reply": "2022-04-22T09:51:48.633235Z"
    }
   },
   "outputs": [
    {
     "data": {
      "image/svg+xml": [
       "<?xml version=\"1.0\" encoding=\"UTF-8\" standalone=\"no\"?><svg xmlns=\"http://www.w3.org/2000/svg\" xmlns:xlink=\"http://www.w3.org/1999/xlink\" contentScriptType=\"application/ecmascript\" contentStyleType=\"text/css\" height=\"12px\" preserveAspectRatio=\"none\" style=\"width:12px;height:12px;\" version=\"1.1\" viewBox=\"0 0 12 12\" width=\"12px\" zoomAndPan=\"magnify\"><defs/><g><!--MD5=[dc938048236c351797870c36b62f92ad]\n",
       "@startuml\r\n",
       "skinparam roundcorner 20\r\n",
       "skinparam BoxPadding 20\r\n",
       "skinparam SequenceBoxBackgroundColor #white\r\n",
       "skinparam style strictuml\r\n",
       "skinparam maxMessageSize 100\r\n",
       "skinparam linetype polyline\r\n",
       "skinparam monochrome true\r\n",
       "skinparam classbackgroundcolor white\r\n",
       "skinparam shadowing false\r\n",
       "skinparam wrapWidth 300\r\n",
       "hide circle\r\n",
       "\r\n",
       "@enduml\r\n",
       "\n",
       "PlantUML version 1.2020.13(Sat Jun 13 12:26:38 UTC 2020)\n",
       "(EPL source distribution)\n",
       "Java Runtime: OpenJDK Runtime Environment\n",
       "JVM: OpenJDK 64-Bit Server VM\n",
       "Default Encoding: UTF-8\n",
       "Language: en\n",
       "Country: null\n",
       "--></g></svg>"
      ]
     },
     "execution_count": 14,
     "metadata": {},
     "output_type": "execute_result"
    }
   ],
   "source": [
    "%viz --style=\"POLYLINE\" --view=\"Sequence\" \"P1\""
   ]
  },
  {
   "cell_type": "code",
   "execution_count": 15,
   "id": "274c5f16",
   "metadata": {
    "execution": {
     "iopub.execute_input": "2022-04-22T09:51:48.683540Z",
     "iopub.status.busy": "2022-04-22T09:51:48.683135Z",
     "iopub.status.idle": "2022-04-22T09:51:48.707415Z",
     "shell.execute_reply": "2022-04-22T09:51:48.707728Z"
    }
   },
   "outputs": [
    {
     "data": {
      "image/svg+xml": [
       "<?xml version=\"1.0\" encoding=\"UTF-8\" standalone=\"no\"?><svg xmlns=\"http://www.w3.org/2000/svg\" xmlns:xlink=\"http://www.w3.org/1999/xlink\" contentScriptType=\"application/ecmascript\" contentStyleType=\"text/css\" height=\"115px\" preserveAspectRatio=\"none\" style=\"width:140px;height:115px;\" version=\"1.1\" viewBox=\"0 0 140 115\" width=\"140px\" zoomAndPan=\"magnify\"><defs/><g><!--MD5=[fbc87193dbaf4d95561dea2c320d4a47]\n",
       "cluster E1--><a href=\"psysml:fb33a6e6-5dc2-431e-96a4-a3f08ce921dc\" target=\"_top\" title=\"psysml:fb33a6e6-5dc2-431e-96a4-a3f08ce921dc\" xlink:actuate=\"onRequest\" xlink:href=\"psysml:fb33a6e6-5dc2-431e-96a4-a3f08ce921dc\" xlink:show=\"new\" xlink:title=\"psysml:fb33a6e6-5dc2-431e-96a4-a3f08ce921dc\" xlink:type=\"simple\"><polygon fill=\"#FFFFFF\" points=\"16,6,40,6,47,28.2969,118,28.2969,118,103,16,103,16,6\" style=\"stroke: #000000; stroke-width: 1.5;\"/><line style=\"stroke: #000000; stroke-width: 1.5;\" x1=\"16\" x2=\"47\" y1=\"28.2969\" y2=\"28.2969\"/><text fill=\"#000000\" font-family=\"sans-serif\" font-size=\"14\" font-weight=\"bold\" lengthAdjust=\"spacingAndGlyphs\" textLength=\"18\" x=\"20\" y=\"20.9951\">P1</text></a><!--MD5=[b4997ac47864f28c2f74865a473b2911]\n",
       "class E2--><a href=\"psysml:db85db04-92da-46ca-8852-43fed38500fe\" target=\"_top\" title=\"psysml:db85db04-92da-46ca-8852-43fed38500fe\" xlink:actuate=\"onRequest\" xlink:href=\"psysml:db85db04-92da-46ca-8852-43fed38500fe\" xlink:show=\"new\" xlink:title=\"psysml:db85db04-92da-46ca-8852-43fed38500fe\" xlink:type=\"simple\"><rect fill=\"#FFFFFF\" height=\"45.9375\" id=\"E2\" style=\"stroke: #383838; stroke-width: 1.5;\" width=\"70\" x=\"32\" y=\"41\"/><text fill=\"#000000\" font-family=\"sans-serif\" font-size=\"12\" font-style=\"italic\" lengthAdjust=\"spacingAndGlyphs\" textLength=\"68\" x=\"33\" y=\"57.1387\">«part  def»</text><text fill=\"#000000\" font-family=\"sans-serif\" font-size=\"12\" lengthAdjust=\"spacingAndGlyphs\" textLength=\"8\" x=\"63\" y=\"71.1074\">A</text><line style=\"stroke: #383838; stroke-width: 1.5;\" x1=\"33\" x2=\"101\" y1=\"78.9375\" y2=\"78.9375\"/></a><!--MD5=[0cd3e1cfb72b1d1608639840717e4def]\n",
       "@startuml\r\n",
       "skinparam linetype polyline\r\n",
       "skinparam monochrome true\r\n",
       "skinparam classbackgroundcolor white\r\n",
       "skinparam shadowing false\r\n",
       "skinparam wrapWidth 300\r\n",
       "hide circle\r\n",
       "\r\n",
       "package \"P1\" as E1  [[psysml:fb33a6e6-5dc2-431e-96a4-a3f08ce921dc ]]  {\r\n",
       "comp def \"A\" as E2  <<(T,blue) part  def>> [[psysml:db85db04-92da-46ca-8852-43fed38500fe ]] {\r\n",
       "}\r\n",
       "}\r\n",
       "@enduml\r\n",
       "\n",
       "PlantUML version 1.2020.13(Sat Jun 13 12:26:38 UTC 2020)\n",
       "(EPL source distribution)\n",
       "Java Runtime: OpenJDK Runtime Environment\n",
       "JVM: OpenJDK 64-Bit Server VM\n",
       "Default Encoding: UTF-8\n",
       "Language: en\n",
       "Country: null\n",
       "--></g></svg>"
      ]
     },
     "execution_count": 15,
     "metadata": {},
     "output_type": "execute_result"
    }
   ],
   "source": [
    "%viz --style=\"POLYLINE\" --view=\"MIXED\" \"P1\""
   ]
  },
  {
   "cell_type": "code",
   "execution_count": 16,
   "id": "7169d2a5",
   "metadata": {
    "execution": {
     "iopub.execute_input": "2022-04-22T09:51:48.758260Z",
     "iopub.status.busy": "2022-04-22T09:51:48.757857Z",
     "iopub.status.idle": "2022-04-22T09:51:48.782103Z",
     "shell.execute_reply": "2022-04-22T09:51:48.782420Z"
    }
   },
   "outputs": [
    {
     "data": {
      "image/svg+xml": [
       "<?xml version=\"1.0\" encoding=\"UTF-8\" standalone=\"no\"?><svg xmlns=\"http://www.w3.org/2000/svg\" xmlns:xlink=\"http://www.w3.org/1999/xlink\" contentScriptType=\"application/ecmascript\" contentStyleType=\"text/css\" height=\"115px\" preserveAspectRatio=\"none\" style=\"width:140px;height:115px;\" version=\"1.1\" viewBox=\"0 0 140 115\" width=\"140px\" zoomAndPan=\"magnify\"><defs/><g><!--MD5=[fbc87193dbaf4d95561dea2c320d4a47]\n",
       "cluster E1--><a href=\"psysml:fb33a6e6-5dc2-431e-96a4-a3f08ce921dc\" target=\"_top\" title=\"psysml:fb33a6e6-5dc2-431e-96a4-a3f08ce921dc\" xlink:actuate=\"onRequest\" xlink:href=\"psysml:fb33a6e6-5dc2-431e-96a4-a3f08ce921dc\" xlink:show=\"new\" xlink:title=\"psysml:fb33a6e6-5dc2-431e-96a4-a3f08ce921dc\" xlink:type=\"simple\"><polygon fill=\"#FFFFFF\" points=\"16,6,40,6,47,28.2969,118,28.2969,118,103,16,103,16,6\" style=\"stroke: #000000; stroke-width: 1.5;\"/><line style=\"stroke: #000000; stroke-width: 1.5;\" x1=\"16\" x2=\"47\" y1=\"28.2969\" y2=\"28.2969\"/><text fill=\"#000000\" font-family=\"sans-serif\" font-size=\"14\" font-weight=\"bold\" lengthAdjust=\"spacingAndGlyphs\" textLength=\"18\" x=\"20\" y=\"20.9951\">P1</text></a><!--MD5=[b4997ac47864f28c2f74865a473b2911]\n",
       "class E2--><a href=\"psysml:db85db04-92da-46ca-8852-43fed38500fe\" target=\"_top\" title=\"psysml:db85db04-92da-46ca-8852-43fed38500fe\" xlink:actuate=\"onRequest\" xlink:href=\"psysml:db85db04-92da-46ca-8852-43fed38500fe\" xlink:show=\"new\" xlink:title=\"psysml:db85db04-92da-46ca-8852-43fed38500fe\" xlink:type=\"simple\"><rect fill=\"#FFFFFF\" height=\"45.9375\" id=\"E2\" style=\"stroke: #383838; stroke-width: 1.5;\" width=\"70\" x=\"32\" y=\"41\"/><text fill=\"#000000\" font-family=\"sans-serif\" font-size=\"12\" font-style=\"italic\" lengthAdjust=\"spacingAndGlyphs\" textLength=\"68\" x=\"33\" y=\"57.1387\">«part  def»</text><text fill=\"#000000\" font-family=\"sans-serif\" font-size=\"12\" lengthAdjust=\"spacingAndGlyphs\" textLength=\"8\" x=\"63\" y=\"71.1074\">A</text><line style=\"stroke: #383838; stroke-width: 1.5;\" x1=\"33\" x2=\"101\" y1=\"78.9375\" y2=\"78.9375\"/></a><!--MD5=[aa3716a6b35b5b0e9a56b1c61d7635a2]\n",
       "@startuml\r\n",
       "left to right direction\r\n",
       "skinparam monochrome true\r\n",
       "skinparam classbackgroundcolor white\r\n",
       "skinparam shadowing false\r\n",
       "skinparam wrapWidth 300\r\n",
       "hide circle\r\n",
       "\r\n",
       "package \"P1\" as E1  [[psysml:fb33a6e6-5dc2-431e-96a4-a3f08ce921dc ]]  {\r\n",
       "comp def \"A\" as E2  <<(T,blue) part  def>> [[psysml:db85db04-92da-46ca-8852-43fed38500fe ]] {\r\n",
       "}\r\n",
       "}\r\n",
       "@enduml\r\n",
       "\n",
       "PlantUML version 1.2020.13(Sat Jun 13 12:26:38 UTC 2020)\n",
       "(EPL source distribution)\n",
       "Java Runtime: OpenJDK Runtime Environment\n",
       "JVM: OpenJDK 64-Bit Server VM\n",
       "Default Encoding: UTF-8\n",
       "Language: en\n",
       "Country: null\n",
       "--></g></svg>"
      ]
     },
     "execution_count": 16,
     "metadata": {},
     "output_type": "execute_result"
    }
   ],
   "source": [
    "%viz --style=\"LR\" --view=\"Default\" \"P1\""
   ]
  },
  {
   "cell_type": "code",
   "execution_count": 17,
   "id": "40cac030",
   "metadata": {
    "execution": {
     "iopub.execute_input": "2022-04-22T09:51:48.832535Z",
     "iopub.status.busy": "2022-04-22T09:51:48.832128Z",
     "iopub.status.idle": "2022-04-22T09:51:48.856588Z",
     "shell.execute_reply": "2022-04-22T09:51:48.856907Z"
    }
   },
   "outputs": [
    {
     "data": {
      "image/svg+xml": [
       "<?xml version=\"1.0\" encoding=\"UTF-8\" standalone=\"no\"?><svg xmlns=\"http://www.w3.org/2000/svg\" xmlns:xlink=\"http://www.w3.org/1999/xlink\" contentScriptType=\"application/ecmascript\" contentStyleType=\"text/css\" height=\"115px\" preserveAspectRatio=\"none\" style=\"width:140px;height:115px;\" version=\"1.1\" viewBox=\"0 0 140 115\" width=\"140px\" zoomAndPan=\"magnify\"><defs/><g><!--MD5=[fbc87193dbaf4d95561dea2c320d4a47]\n",
       "cluster E1--><a href=\"psysml:fb33a6e6-5dc2-431e-96a4-a3f08ce921dc\" target=\"_top\" title=\"psysml:fb33a6e6-5dc2-431e-96a4-a3f08ce921dc\" xlink:actuate=\"onRequest\" xlink:href=\"psysml:fb33a6e6-5dc2-431e-96a4-a3f08ce921dc\" xlink:show=\"new\" xlink:title=\"psysml:fb33a6e6-5dc2-431e-96a4-a3f08ce921dc\" xlink:type=\"simple\"><polygon fill=\"#FFFFFF\" points=\"16,6,40,6,47,28.2969,118,28.2969,118,103,16,103,16,6\" style=\"stroke: #000000; stroke-width: 1.5;\"/><line style=\"stroke: #000000; stroke-width: 1.5;\" x1=\"16\" x2=\"47\" y1=\"28.2969\" y2=\"28.2969\"/><text fill=\"#000000\" font-family=\"sans-serif\" font-size=\"14\" font-weight=\"bold\" lengthAdjust=\"spacingAndGlyphs\" textLength=\"18\" x=\"20\" y=\"20.9951\">P1</text></a><!--MD5=[b4997ac47864f28c2f74865a473b2911]\n",
       "class E2--><a href=\"psysml:db85db04-92da-46ca-8852-43fed38500fe\" target=\"_top\" title=\"psysml:db85db04-92da-46ca-8852-43fed38500fe\" xlink:actuate=\"onRequest\" xlink:href=\"psysml:db85db04-92da-46ca-8852-43fed38500fe\" xlink:show=\"new\" xlink:title=\"psysml:db85db04-92da-46ca-8852-43fed38500fe\" xlink:type=\"simple\"><rect fill=\"#FFFFFF\" height=\"45.9375\" id=\"E2\" style=\"stroke: #383838; stroke-width: 1.5;\" width=\"70\" x=\"32\" y=\"41\"/><text fill=\"#000000\" font-family=\"sans-serif\" font-size=\"12\" font-style=\"italic\" lengthAdjust=\"spacingAndGlyphs\" textLength=\"68\" x=\"33\" y=\"57.1387\">«part  def»</text><text fill=\"#000000\" font-family=\"sans-serif\" font-size=\"12\" lengthAdjust=\"spacingAndGlyphs\" textLength=\"8\" x=\"63\" y=\"71.1074\">A</text><line style=\"stroke: #383838; stroke-width: 1.5;\" x1=\"33\" x2=\"101\" y1=\"78.9375\" y2=\"78.9375\"/></a><!--MD5=[aa3716a6b35b5b0e9a56b1c61d7635a2]\n",
       "@startuml\r\n",
       "left to right direction\r\n",
       "skinparam monochrome true\r\n",
       "skinparam classbackgroundcolor white\r\n",
       "skinparam shadowing false\r\n",
       "skinparam wrapWidth 300\r\n",
       "hide circle\r\n",
       "\r\n",
       "package \"P1\" as E1  [[psysml:fb33a6e6-5dc2-431e-96a4-a3f08ce921dc ]]  {\r\n",
       "comp def \"A\" as E2  <<(T,blue) part  def>> [[psysml:db85db04-92da-46ca-8852-43fed38500fe ]] {\r\n",
       "}\r\n",
       "}\r\n",
       "@enduml\r\n",
       "\n",
       "PlantUML version 1.2020.13(Sat Jun 13 12:26:38 UTC 2020)\n",
       "(EPL source distribution)\n",
       "Java Runtime: OpenJDK Runtime Environment\n",
       "JVM: OpenJDK 64-Bit Server VM\n",
       "Default Encoding: UTF-8\n",
       "Language: en\n",
       "Country: null\n",
       "--></g></svg>"
      ]
     },
     "execution_count": 17,
     "metadata": {},
     "output_type": "execute_result"
    }
   ],
   "source": [
    "%viz --style=\"LR\" --view=\"Tree\" \"P1\""
   ]
  },
  {
   "cell_type": "code",
   "execution_count": 18,
   "id": "d0bad690",
   "metadata": {
    "execution": {
     "iopub.execute_input": "2022-04-22T09:51:48.906631Z",
     "iopub.status.busy": "2022-04-22T09:51:48.906229Z",
     "iopub.status.idle": "2022-04-22T09:51:48.910933Z",
     "shell.execute_reply": "2022-04-22T09:51:48.911247Z"
    }
   },
   "outputs": [
    {
     "data": {
      "image/svg+xml": [
       "<?xml version=\"1.0\" encoding=\"UTF-8\" standalone=\"no\"?><svg xmlns=\"http://www.w3.org/2000/svg\" xmlns:xlink=\"http://www.w3.org/1999/xlink\" contentScriptType=\"application/ecmascript\" contentStyleType=\"text/css\" height=\"12px\" preserveAspectRatio=\"none\" style=\"width:12px;height:12px;\" version=\"1.1\" viewBox=\"0 0 12 12\" width=\"12px\" zoomAndPan=\"magnify\"><defs/><g><!--MD5=[19d285c9d72a204eba4e2cd117d745e8]\n",
       "@startuml\r\n",
       "left to right direction\r\n",
       "skinparam monochrome true\r\n",
       "skinparam classbackgroundcolor white\r\n",
       "skinparam shadowing false\r\n",
       "skinparam wrapWidth 300\r\n",
       "hide circle\r\n",
       "\r\n",
       "@enduml\r\n",
       "\n",
       "PlantUML version 1.2020.13(Sat Jun 13 12:26:38 UTC 2020)\n",
       "(EPL source distribution)\n",
       "Java Runtime: OpenJDK Runtime Environment\n",
       "JVM: OpenJDK 64-Bit Server VM\n",
       "Default Encoding: UTF-8\n",
       "Language: en\n",
       "Country: null\n",
       "--></g></svg>"
      ]
     },
     "execution_count": 18,
     "metadata": {},
     "output_type": "execute_result"
    }
   ],
   "source": [
    "%viz --style=\"LR\" --view=\"State\" \"P1\""
   ]
  },
  {
   "cell_type": "code",
   "execution_count": 19,
   "id": "74d7e366",
   "metadata": {
    "execution": {
     "iopub.execute_input": "2022-04-22T09:51:48.961898Z",
     "iopub.status.busy": "2022-04-22T09:51:48.961345Z",
     "iopub.status.idle": "2022-04-22T09:51:48.984957Z",
     "shell.execute_reply": "2022-04-22T09:51:48.985255Z"
    }
   },
   "outputs": [
    {
     "data": {
      "image/svg+xml": [
       "<?xml version=\"1.0\" encoding=\"UTF-8\" standalone=\"no\"?><svg xmlns=\"http://www.w3.org/2000/svg\" xmlns:xlink=\"http://www.w3.org/1999/xlink\" contentScriptType=\"application/ecmascript\" contentStyleType=\"text/css\" height=\"113px\" preserveAspectRatio=\"none\" style=\"width:145px;height:113px;\" version=\"1.1\" viewBox=\"0 0 145 113\" width=\"145px\" zoomAndPan=\"magnify\"><defs/><g><!--MD5=[fbc87193dbaf4d95561dea2c320d4a47]\n",
       "cluster E1--><a href=\"psysml:fb33a6e6-5dc2-431e-96a4-a3f08ce921dc\" target=\"_top\" title=\"psysml:fb33a6e6-5dc2-431e-96a4-a3f08ce921dc\" xlink:actuate=\"onRequest\" xlink:href=\"psysml:fb33a6e6-5dc2-431e-96a4-a3f08ce921dc\" xlink:show=\"new\" xlink:title=\"psysml:fb33a6e6-5dc2-431e-96a4-a3f08ce921dc\" xlink:type=\"simple\"><polygon fill=\"#FFFFFF\" points=\"16,6,40,6,47,28.2969,123,28.2969,123,101,16,101,16,6\" style=\"stroke: #000000; stroke-width: 1.5;\"/><line style=\"stroke: #000000; stroke-width: 1.5;\" x1=\"16\" x2=\"47\" y1=\"28.2969\" y2=\"28.2969\"/><text fill=\"#000000\" font-family=\"sans-serif\" font-size=\"14\" font-weight=\"bold\" lengthAdjust=\"spacingAndGlyphs\" textLength=\"18\" x=\"20\" y=\"20.9951\">P1</text></a><g id=\"E1.E2\"><a href=\"psysml:db85db04-92da-46ca-8852-43fed38500fe\" target=\"_top\" title=\"psysml:db85db04-92da-46ca-8852-43fed38500fe\" xlink:actuate=\"onRequest\" xlink:href=\"psysml:db85db04-92da-46ca-8852-43fed38500fe\" xlink:show=\"new\" xlink:title=\"psysml:db85db04-92da-46ca-8852-43fed38500fe\" xlink:type=\"simple\"><rect fill=\"#FFFFFF\" height=\"42.9375\" id=\"E2\" style=\"stroke: #383838; stroke-width: 1.5;\" width=\"75\" x=\"32\" y=\"41.5\"/><rect fill=\"#F8F8F8\" height=\"37.9375\" style=\"stroke: #383838; stroke-width: 1.5;\" width=\"75\" x=\"32\" y=\"41.5\"/><text fill=\"#000000\" font-family=\"sans-serif\" font-size=\"12\" font-style=\"italic\" lengthAdjust=\"spacingAndGlyphs\" textLength=\"68\" x=\"35.5\" y=\"57.6387\">«part  def»</text><text fill=\"#000000\" font-family=\"sans-serif\" font-size=\"12\" lengthAdjust=\"spacingAndGlyphs\" textLength=\"8\" x=\"65.5\" y=\"71.6074\">A</text></a></g><!--MD5=[e5e3b9275ebc30c5d5ef2f1e79f392df]\n",
       "@startuml\r\n",
       "skinparam ranksep 10\r\n",
       "skinparam rectangle {\r\n",
       " backgroundColor<<block>> LightGreen\r\n",
       "}\r\n",
       "left to right direction\r\n",
       "skinparam monochrome true\r\n",
       "skinparam classbackgroundcolor white\r\n",
       "skinparam shadowing false\r\n",
       "skinparam wrapWidth 300\r\n",
       "hide circle\r\n",
       "\r\n",
       "package \"P1\" as E1  [[psysml:fb33a6e6-5dc2-431e-96a4-a3f08ce921dc ]]  {\r\n",
       "rec def \"A\" as E2  <<(T,blue) part  def>> [[psysml:db85db04-92da-46ca-8852-43fed38500fe ]] {\r\n",
       "}\r\n",
       "}\r\n",
       "@enduml\r\n",
       "\n",
       "PlantUML version 1.2020.13(Sat Jun 13 12:26:38 UTC 2020)\n",
       "(EPL source distribution)\n",
       "Java Runtime: OpenJDK Runtime Environment\n",
       "JVM: OpenJDK 64-Bit Server VM\n",
       "Default Encoding: UTF-8\n",
       "Language: en\n",
       "Country: null\n",
       "--></g></svg>"
      ]
     },
     "execution_count": 19,
     "metadata": {},
     "output_type": "execute_result"
    }
   ],
   "source": [
    "%viz --style=\"LR\" --view=\"Interconnection\" \"P1\""
   ]
  },
  {
   "cell_type": "code",
   "execution_count": 20,
   "id": "aefdfac2",
   "metadata": {
    "execution": {
     "iopub.execute_input": "2022-04-22T09:51:49.035153Z",
     "iopub.status.busy": "2022-04-22T09:51:49.034749Z",
     "iopub.status.idle": "2022-04-22T09:51:49.039965Z",
     "shell.execute_reply": "2022-04-22T09:51:49.040278Z"
    }
   },
   "outputs": [
    {
     "data": {
      "image/svg+xml": [
       "<?xml version=\"1.0\" encoding=\"UTF-8\" standalone=\"no\"?><svg xmlns=\"http://www.w3.org/2000/svg\" xmlns:xlink=\"http://www.w3.org/1999/xlink\" contentScriptType=\"application/ecmascript\" contentStyleType=\"text/css\" height=\"12px\" preserveAspectRatio=\"none\" style=\"width:12px;height:12px;\" version=\"1.1\" viewBox=\"0 0 12 12\" width=\"12px\" zoomAndPan=\"magnify\"><defs/><g><!--MD5=[7aeb398939421629f6affaa4a1a7b125]\n",
       "@startuml\r\n",
       "skinparam ranksep 8\r\n",
       "left to right direction\r\n",
       "skinparam monochrome true\r\n",
       "skinparam classbackgroundcolor white\r\n",
       "skinparam shadowing false\r\n",
       "skinparam wrapWidth 300\r\n",
       "hide circle\r\n",
       "\r\n",
       "@enduml\r\n",
       "\n",
       "PlantUML version 1.2020.13(Sat Jun 13 12:26:38 UTC 2020)\n",
       "(EPL source distribution)\n",
       "Java Runtime: OpenJDK Runtime Environment\n",
       "JVM: OpenJDK 64-Bit Server VM\n",
       "Default Encoding: UTF-8\n",
       "Language: en\n",
       "Country: null\n",
       "--></g></svg>"
      ]
     },
     "execution_count": 20,
     "metadata": {},
     "output_type": "execute_result"
    }
   ],
   "source": [
    "%viz --style=\"LR\" --view=\"Action\" \"P1\""
   ]
  },
  {
   "cell_type": "code",
   "execution_count": 21,
   "id": "75e72de3",
   "metadata": {
    "execution": {
     "iopub.execute_input": "2022-04-22T09:51:49.090522Z",
     "iopub.status.busy": "2022-04-22T09:51:49.090121Z",
     "iopub.status.idle": "2022-04-22T09:51:49.095801Z",
     "shell.execute_reply": "2022-04-22T09:51:49.096112Z"
    }
   },
   "outputs": [
    {
     "data": {
      "image/svg+xml": [
       "<?xml version=\"1.0\" encoding=\"UTF-8\" standalone=\"no\"?><svg xmlns=\"http://www.w3.org/2000/svg\" xmlns:xlink=\"http://www.w3.org/1999/xlink\" contentScriptType=\"application/ecmascript\" contentStyleType=\"text/css\" height=\"12px\" preserveAspectRatio=\"none\" style=\"width:12px;height:12px;\" version=\"1.1\" viewBox=\"0 0 12 12\" width=\"12px\" zoomAndPan=\"magnify\"><defs/><g><!--MD5=[238c11ea2002f03115ad6b49a457d50e]\n",
       "@startuml\r\n",
       "skinparam roundcorner 20\r\n",
       "skinparam BoxPadding 20\r\n",
       "skinparam SequenceBoxBackgroundColor #white\r\n",
       "skinparam style strictuml\r\n",
       "skinparam maxMessageSize 100\r\n",
       "left to right direction\r\n",
       "skinparam monochrome true\r\n",
       "skinparam classbackgroundcolor white\r\n",
       "skinparam shadowing false\r\n",
       "skinparam wrapWidth 300\r\n",
       "hide circle\r\n",
       "\r\n",
       "@enduml\r\n",
       "\n",
       "PlantUML version 1.2020.13(Sat Jun 13 12:26:38 UTC 2020)\n",
       "(EPL source distribution)\n",
       "Java Runtime: OpenJDK Runtime Environment\n",
       "JVM: OpenJDK 64-Bit Server VM\n",
       "Default Encoding: UTF-8\n",
       "Language: en\n",
       "Country: null\n",
       "--></g></svg>"
      ]
     },
     "execution_count": 21,
     "metadata": {},
     "output_type": "execute_result"
    }
   ],
   "source": [
    "%viz --style=\"LR\" --view=\"Sequence\" \"P1\""
   ]
  },
  {
   "cell_type": "code",
   "execution_count": 22,
   "id": "a39aa714",
   "metadata": {
    "execution": {
     "iopub.execute_input": "2022-04-22T09:51:49.146222Z",
     "iopub.status.busy": "2022-04-22T09:51:49.145825Z",
     "iopub.status.idle": "2022-04-22T09:51:49.168128Z",
     "shell.execute_reply": "2022-04-22T09:51:49.168438Z"
    }
   },
   "outputs": [
    {
     "data": {
      "image/svg+xml": [
       "<?xml version=\"1.0\" encoding=\"UTF-8\" standalone=\"no\"?><svg xmlns=\"http://www.w3.org/2000/svg\" xmlns:xlink=\"http://www.w3.org/1999/xlink\" contentScriptType=\"application/ecmascript\" contentStyleType=\"text/css\" height=\"115px\" preserveAspectRatio=\"none\" style=\"width:140px;height:115px;\" version=\"1.1\" viewBox=\"0 0 140 115\" width=\"140px\" zoomAndPan=\"magnify\"><defs/><g><!--MD5=[fbc87193dbaf4d95561dea2c320d4a47]\n",
       "cluster E1--><a href=\"psysml:fb33a6e6-5dc2-431e-96a4-a3f08ce921dc\" target=\"_top\" title=\"psysml:fb33a6e6-5dc2-431e-96a4-a3f08ce921dc\" xlink:actuate=\"onRequest\" xlink:href=\"psysml:fb33a6e6-5dc2-431e-96a4-a3f08ce921dc\" xlink:show=\"new\" xlink:title=\"psysml:fb33a6e6-5dc2-431e-96a4-a3f08ce921dc\" xlink:type=\"simple\"><polygon fill=\"#FFFFFF\" points=\"16,6,40,6,47,28.2969,118,28.2969,118,103,16,103,16,6\" style=\"stroke: #000000; stroke-width: 1.5;\"/><line style=\"stroke: #000000; stroke-width: 1.5;\" x1=\"16\" x2=\"47\" y1=\"28.2969\" y2=\"28.2969\"/><text fill=\"#000000\" font-family=\"sans-serif\" font-size=\"14\" font-weight=\"bold\" lengthAdjust=\"spacingAndGlyphs\" textLength=\"18\" x=\"20\" y=\"20.9951\">P1</text></a><!--MD5=[b4997ac47864f28c2f74865a473b2911]\n",
       "class E2--><a href=\"psysml:db85db04-92da-46ca-8852-43fed38500fe\" target=\"_top\" title=\"psysml:db85db04-92da-46ca-8852-43fed38500fe\" xlink:actuate=\"onRequest\" xlink:href=\"psysml:db85db04-92da-46ca-8852-43fed38500fe\" xlink:show=\"new\" xlink:title=\"psysml:db85db04-92da-46ca-8852-43fed38500fe\" xlink:type=\"simple\"><rect fill=\"#FFFFFF\" height=\"45.9375\" id=\"E2\" style=\"stroke: #383838; stroke-width: 1.5;\" width=\"70\" x=\"32\" y=\"41\"/><text fill=\"#000000\" font-family=\"sans-serif\" font-size=\"12\" font-style=\"italic\" lengthAdjust=\"spacingAndGlyphs\" textLength=\"68\" x=\"33\" y=\"57.1387\">«part  def»</text><text fill=\"#000000\" font-family=\"sans-serif\" font-size=\"12\" lengthAdjust=\"spacingAndGlyphs\" textLength=\"8\" x=\"63\" y=\"71.1074\">A</text><line style=\"stroke: #383838; stroke-width: 1.5;\" x1=\"33\" x2=\"101\" y1=\"78.9375\" y2=\"78.9375\"/></a><!--MD5=[aa3716a6b35b5b0e9a56b1c61d7635a2]\n",
       "@startuml\r\n",
       "left to right direction\r\n",
       "skinparam monochrome true\r\n",
       "skinparam classbackgroundcolor white\r\n",
       "skinparam shadowing false\r\n",
       "skinparam wrapWidth 300\r\n",
       "hide circle\r\n",
       "\r\n",
       "package \"P1\" as E1  [[psysml:fb33a6e6-5dc2-431e-96a4-a3f08ce921dc ]]  {\r\n",
       "comp def \"A\" as E2  <<(T,blue) part  def>> [[psysml:db85db04-92da-46ca-8852-43fed38500fe ]] {\r\n",
       "}\r\n",
       "}\r\n",
       "@enduml\r\n",
       "\n",
       "PlantUML version 1.2020.13(Sat Jun 13 12:26:38 UTC 2020)\n",
       "(EPL source distribution)\n",
       "Java Runtime: OpenJDK Runtime Environment\n",
       "JVM: OpenJDK 64-Bit Server VM\n",
       "Default Encoding: UTF-8\n",
       "Language: en\n",
       "Country: null\n",
       "--></g></svg>"
      ]
     },
     "execution_count": 22,
     "metadata": {},
     "output_type": "execute_result"
    }
   ],
   "source": [
    "%viz --style=\"LR\" --view=\"MIXED\" \"P1\""
   ]
  },
  {
   "cell_type": "code",
   "execution_count": 23,
   "id": "230e768d",
   "metadata": {
    "execution": {
     "iopub.execute_input": "2022-04-22T09:51:49.218590Z",
     "iopub.status.busy": "2022-04-22T09:51:49.218191Z",
     "iopub.status.idle": "2022-04-22T09:51:49.341050Z",
     "shell.execute_reply": "2022-04-22T09:51:49.340681Z"
    }
   },
   "outputs": [
    {
     "data": {
      "image/svg+xml": [
       "<?xml version=\"1.0\" encoding=\"UTF-8\" standalone=\"no\"?><svg xmlns=\"http://www.w3.org/2000/svg\" xmlns:xlink=\"http://www.w3.org/1999/xlink\" contentScriptType=\"application/ecmascript\" contentStyleType=\"text/css\" height=\"115px\" preserveAspectRatio=\"none\" style=\"width:140px;height:115px;\" version=\"1.1\" viewBox=\"0 0 140 115\" width=\"140px\" zoomAndPan=\"magnify\"><defs><filter height=\"300%\" id=\"f7krzwxnbcrvz\" width=\"300%\" x=\"-1\" y=\"-1\"><feGaussianBlur result=\"blurOut\" stdDeviation=\"2.0\"/><feColorMatrix in=\"blurOut\" result=\"blurOut2\" type=\"matrix\" values=\"0 0 0 0 0 0 0 0 0 0 0 0 0 0 0 0 0 0 .4 0\"/><feOffset dx=\"4.0\" dy=\"4.0\" in=\"blurOut2\" result=\"blurOut3\"/><feBlend in=\"SourceGraphic\" in2=\"blurOut3\" mode=\"normal\"/></filter></defs><g><!--MD5=[fbc87193dbaf4d95561dea2c320d4a47]\n",
       "cluster E1--><a href=\"psysml:fb33a6e6-5dc2-431e-96a4-a3f08ce921dc\" target=\"_top\" title=\"psysml:fb33a6e6-5dc2-431e-96a4-a3f08ce921dc\" xlink:actuate=\"onRequest\" xlink:href=\"psysml:fb33a6e6-5dc2-431e-96a4-a3f08ce921dc\" xlink:show=\"new\" xlink:title=\"psysml:fb33a6e6-5dc2-431e-96a4-a3f08ce921dc\" xlink:type=\"simple\"><polygon fill=\"#FFFFFF\" filter=\"url(#f7krzwxnbcrvz)\" points=\"16,6,40,6,47,28.2969,118,28.2969,118,103,16,103,16,6\" style=\"stroke: #000000; stroke-width: 1.5;\"/><line style=\"stroke: #000000; stroke-width: 1.5;\" x1=\"16\" x2=\"47\" y1=\"28.2969\" y2=\"28.2969\"/><text fill=\"#000000\" font-family=\"sans-serif\" font-size=\"14\" font-weight=\"bold\" lengthAdjust=\"spacingAndGlyphs\" textLength=\"18\" x=\"20\" y=\"20.9951\">P1</text></a><!--MD5=[b4997ac47864f28c2f74865a473b2911]\n",
       "class E2--><a href=\"psysml:db85db04-92da-46ca-8852-43fed38500fe\" target=\"_top\" title=\"psysml:db85db04-92da-46ca-8852-43fed38500fe\" xlink:actuate=\"onRequest\" xlink:href=\"psysml:db85db04-92da-46ca-8852-43fed38500fe\" xlink:show=\"new\" xlink:title=\"psysml:db85db04-92da-46ca-8852-43fed38500fe\" xlink:type=\"simple\"><rect fill=\"#FEFECE\" filter=\"url(#f7krzwxnbcrvz)\" height=\"45.9375\" id=\"E2\" style=\"stroke: #A80036; stroke-width: 1.5;\" width=\"70\" x=\"32\" y=\"41\"/><text fill=\"#000000\" font-family=\"sans-serif\" font-size=\"12\" font-style=\"italic\" lengthAdjust=\"spacingAndGlyphs\" textLength=\"68\" x=\"33\" y=\"57.1387\">«part  def»</text><text fill=\"#000000\" font-family=\"sans-serif\" font-size=\"12\" lengthAdjust=\"spacingAndGlyphs\" textLength=\"8\" x=\"63\" y=\"71.1074\">A</text><line style=\"stroke: #A80036; stroke-width: 1.5;\" x1=\"33\" x2=\"101\" y1=\"78.9375\" y2=\"78.9375\"/></a><!--MD5=[829e8fbbfe0c8c89c1bb362a8db5c0a6]\n",
       "@startuml\r\n",
       "skinparam wrapWidth 300\r\n",
       "hide circle\r\n",
       "\r\n",
       "package \"P1\" as E1  [[psysml:fb33a6e6-5dc2-431e-96a4-a3f08ce921dc ]]  {\r\n",
       "comp def \"A\" as E2  <<(T,blue) part  def>> [[psysml:db85db04-92da-46ca-8852-43fed38500fe ]] {\r\n",
       "}\r\n",
       "}\r\n",
       "@enduml\r\n",
       "\n",
       "PlantUML version 1.2020.13(Sat Jun 13 12:26:38 UTC 2020)\n",
       "(EPL source distribution)\n",
       "Java Runtime: OpenJDK Runtime Environment\n",
       "JVM: OpenJDK 64-Bit Server VM\n",
       "Default Encoding: UTF-8\n",
       "Language: en\n",
       "Country: null\n",
       "--></g></svg>"
      ]
     },
     "execution_count": 23,
     "metadata": {},
     "output_type": "execute_result"
    }
   ],
   "source": [
    "%viz --style=\"STDCOLOR\" --view=\"Default\" \"P1\""
   ]
  },
  {
   "cell_type": "code",
   "execution_count": 24,
   "id": "ff94de67",
   "metadata": {
    "execution": {
     "iopub.execute_input": "2022-04-22T09:51:49.390887Z",
     "iopub.status.busy": "2022-04-22T09:51:49.390476Z",
     "iopub.status.idle": "2022-04-22T09:51:49.413461Z",
     "shell.execute_reply": "2022-04-22T09:51:49.413122Z"
    }
   },
   "outputs": [
    {
     "data": {
      "image/svg+xml": [
       "<?xml version=\"1.0\" encoding=\"UTF-8\" standalone=\"no\"?><svg xmlns=\"http://www.w3.org/2000/svg\" xmlns:xlink=\"http://www.w3.org/1999/xlink\" contentScriptType=\"application/ecmascript\" contentStyleType=\"text/css\" height=\"115px\" preserveAspectRatio=\"none\" style=\"width:140px;height:115px;\" version=\"1.1\" viewBox=\"0 0 140 115\" width=\"140px\" zoomAndPan=\"magnify\"><defs><filter height=\"300%\" id=\"f7krzwxnbcrvz\" width=\"300%\" x=\"-1\" y=\"-1\"><feGaussianBlur result=\"blurOut\" stdDeviation=\"2.0\"/><feColorMatrix in=\"blurOut\" result=\"blurOut2\" type=\"matrix\" values=\"0 0 0 0 0 0 0 0 0 0 0 0 0 0 0 0 0 0 .4 0\"/><feOffset dx=\"4.0\" dy=\"4.0\" in=\"blurOut2\" result=\"blurOut3\"/><feBlend in=\"SourceGraphic\" in2=\"blurOut3\" mode=\"normal\"/></filter></defs><g><!--MD5=[fbc87193dbaf4d95561dea2c320d4a47]\n",
       "cluster E1--><a href=\"psysml:fb33a6e6-5dc2-431e-96a4-a3f08ce921dc\" target=\"_top\" title=\"psysml:fb33a6e6-5dc2-431e-96a4-a3f08ce921dc\" xlink:actuate=\"onRequest\" xlink:href=\"psysml:fb33a6e6-5dc2-431e-96a4-a3f08ce921dc\" xlink:show=\"new\" xlink:title=\"psysml:fb33a6e6-5dc2-431e-96a4-a3f08ce921dc\" xlink:type=\"simple\"><polygon fill=\"#FFFFFF\" filter=\"url(#f7krzwxnbcrvz)\" points=\"16,6,40,6,47,28.2969,118,28.2969,118,103,16,103,16,6\" style=\"stroke: #000000; stroke-width: 1.5;\"/><line style=\"stroke: #000000; stroke-width: 1.5;\" x1=\"16\" x2=\"47\" y1=\"28.2969\" y2=\"28.2969\"/><text fill=\"#000000\" font-family=\"sans-serif\" font-size=\"14\" font-weight=\"bold\" lengthAdjust=\"spacingAndGlyphs\" textLength=\"18\" x=\"20\" y=\"20.9951\">P1</text></a><!--MD5=[b4997ac47864f28c2f74865a473b2911]\n",
       "class E2--><a href=\"psysml:db85db04-92da-46ca-8852-43fed38500fe\" target=\"_top\" title=\"psysml:db85db04-92da-46ca-8852-43fed38500fe\" xlink:actuate=\"onRequest\" xlink:href=\"psysml:db85db04-92da-46ca-8852-43fed38500fe\" xlink:show=\"new\" xlink:title=\"psysml:db85db04-92da-46ca-8852-43fed38500fe\" xlink:type=\"simple\"><rect fill=\"#FEFECE\" filter=\"url(#f7krzwxnbcrvz)\" height=\"45.9375\" id=\"E2\" style=\"stroke: #A80036; stroke-width: 1.5;\" width=\"70\" x=\"32\" y=\"41\"/><text fill=\"#000000\" font-family=\"sans-serif\" font-size=\"12\" font-style=\"italic\" lengthAdjust=\"spacingAndGlyphs\" textLength=\"68\" x=\"33\" y=\"57.1387\">«part  def»</text><text fill=\"#000000\" font-family=\"sans-serif\" font-size=\"12\" lengthAdjust=\"spacingAndGlyphs\" textLength=\"8\" x=\"63\" y=\"71.1074\">A</text><line style=\"stroke: #A80036; stroke-width: 1.5;\" x1=\"33\" x2=\"101\" y1=\"78.9375\" y2=\"78.9375\"/></a><!--MD5=[829e8fbbfe0c8c89c1bb362a8db5c0a6]\n",
       "@startuml\r\n",
       "skinparam wrapWidth 300\r\n",
       "hide circle\r\n",
       "\r\n",
       "package \"P1\" as E1  [[psysml:fb33a6e6-5dc2-431e-96a4-a3f08ce921dc ]]  {\r\n",
       "comp def \"A\" as E2  <<(T,blue) part  def>> [[psysml:db85db04-92da-46ca-8852-43fed38500fe ]] {\r\n",
       "}\r\n",
       "}\r\n",
       "@enduml\r\n",
       "\n",
       "PlantUML version 1.2020.13(Sat Jun 13 12:26:38 UTC 2020)\n",
       "(EPL source distribution)\n",
       "Java Runtime: OpenJDK Runtime Environment\n",
       "JVM: OpenJDK 64-Bit Server VM\n",
       "Default Encoding: UTF-8\n",
       "Language: en\n",
       "Country: null\n",
       "--></g></svg>"
      ]
     },
     "execution_count": 24,
     "metadata": {},
     "output_type": "execute_result"
    }
   ],
   "source": [
    "%viz --style=\"STDCOLOR\" --view=\"Tree\" \"P1\""
   ]
  },
  {
   "cell_type": "code",
   "execution_count": 25,
   "id": "fc5d7058",
   "metadata": {
    "execution": {
     "iopub.execute_input": "2022-04-22T09:51:49.463270Z",
     "iopub.status.busy": "2022-04-22T09:51:49.462872Z",
     "iopub.status.idle": "2022-04-22T09:51:49.467352Z",
     "shell.execute_reply": "2022-04-22T09:51:49.467664Z"
    }
   },
   "outputs": [
    {
     "data": {
      "image/svg+xml": [
       "<?xml version=\"1.0\" encoding=\"UTF-8\" standalone=\"no\"?><svg xmlns=\"http://www.w3.org/2000/svg\" xmlns:xlink=\"http://www.w3.org/1999/xlink\" contentScriptType=\"application/ecmascript\" contentStyleType=\"text/css\" height=\"12px\" preserveAspectRatio=\"none\" style=\"width:12px;height:12px;\" version=\"1.1\" viewBox=\"0 0 12 12\" width=\"12px\" zoomAndPan=\"magnify\"><defs/><g><!--MD5=[aeeef50f102b80d730deb6443d14f702]\n",
       "@startuml\r\n",
       "skinparam wrapWidth 300\r\n",
       "hide circle\r\n",
       "\r\n",
       "@enduml\r\n",
       "\n",
       "PlantUML version 1.2020.13(Sat Jun 13 12:26:38 UTC 2020)\n",
       "(EPL source distribution)\n",
       "Java Runtime: OpenJDK Runtime Environment\n",
       "JVM: OpenJDK 64-Bit Server VM\n",
       "Default Encoding: UTF-8\n",
       "Language: en\n",
       "Country: null\n",
       "--></g></svg>"
      ]
     },
     "execution_count": 25,
     "metadata": {},
     "output_type": "execute_result"
    }
   ],
   "source": [
    "%viz --style=\"STDCOLOR\" --view=\"State\" \"P1\""
   ]
  },
  {
   "cell_type": "code",
   "execution_count": 26,
   "id": "71b36e5e",
   "metadata": {
    "execution": {
     "iopub.execute_input": "2022-04-22T09:51:49.518048Z",
     "iopub.status.busy": "2022-04-22T09:51:49.517651Z",
     "iopub.status.idle": "2022-04-22T09:51:49.541052Z",
     "shell.execute_reply": "2022-04-22T09:51:49.541355Z"
    }
   },
   "outputs": [
    {
     "data": {
      "image/svg+xml": [
       "<?xml version=\"1.0\" encoding=\"UTF-8\" standalone=\"no\"?><svg xmlns=\"http://www.w3.org/2000/svg\" xmlns:xlink=\"http://www.w3.org/1999/xlink\" contentScriptType=\"application/ecmascript\" contentStyleType=\"text/css\" height=\"112px\" preserveAspectRatio=\"none\" style=\"width:144px;height:112px;\" version=\"1.1\" viewBox=\"0 0 144 112\" width=\"144px\" zoomAndPan=\"magnify\"><defs><filter height=\"300%\" id=\"fz8k8pf8ca09t\" width=\"300%\" x=\"-1\" y=\"-1\"><feGaussianBlur result=\"blurOut\" stdDeviation=\"2.0\"/><feColorMatrix in=\"blurOut\" result=\"blurOut2\" type=\"matrix\" values=\"0 0 0 0 0 0 0 0 0 0 0 0 0 0 0 0 0 0 .4 0\"/><feOffset dx=\"4.0\" dy=\"4.0\" in=\"blurOut2\" result=\"blurOut3\"/><feBlend in=\"SourceGraphic\" in2=\"blurOut3\" mode=\"normal\"/></filter></defs><g><!--MD5=[fbc87193dbaf4d95561dea2c320d4a47]\n",
       "cluster E1--><a href=\"psysml:fb33a6e6-5dc2-431e-96a4-a3f08ce921dc\" target=\"_top\" title=\"psysml:fb33a6e6-5dc2-431e-96a4-a3f08ce921dc\" xlink:actuate=\"onRequest\" xlink:href=\"psysml:fb33a6e6-5dc2-431e-96a4-a3f08ce921dc\" xlink:show=\"new\" xlink:title=\"psysml:fb33a6e6-5dc2-431e-96a4-a3f08ce921dc\" xlink:type=\"simple\"><polygon fill=\"#FFFFFF\" filter=\"url(#fz8k8pf8ca09t)\" points=\"16,6,40,6,47,28.2969,122,28.2969,122,100,16,100,16,6\" style=\"stroke: #000000; stroke-width: 1.5;\"/><line style=\"stroke: #000000; stroke-width: 1.5;\" x1=\"16\" x2=\"47\" y1=\"28.2969\" y2=\"28.2969\"/><text fill=\"#000000\" font-family=\"sans-serif\" font-size=\"14\" font-weight=\"bold\" lengthAdjust=\"spacingAndGlyphs\" textLength=\"18\" x=\"20\" y=\"20.9951\">P1</text></a><g id=\"E1.E2\"><a href=\"psysml:db85db04-92da-46ca-8852-43fed38500fe\" target=\"_top\" title=\"psysml:db85db04-92da-46ca-8852-43fed38500fe\" xlink:actuate=\"onRequest\" xlink:href=\"psysml:db85db04-92da-46ca-8852-43fed38500fe\" xlink:show=\"new\" xlink:title=\"psysml:db85db04-92da-46ca-8852-43fed38500fe\" xlink:type=\"simple\"><rect fill=\"#FEFECE\" filter=\"url(#fz8k8pf8ca09t)\" height=\"42.9375\" id=\"E2\" style=\"stroke: #A80036; stroke-width: 1.5;\" width=\"75\" x=\"31.5\" y=\"41\"/><text fill=\"#000000\" font-family=\"sans-serif\" font-size=\"12\" font-style=\"italic\" lengthAdjust=\"spacingAndGlyphs\" textLength=\"68\" x=\"35\" y=\"57.1387\">«part  def»</text><text fill=\"#000000\" font-family=\"sans-serif\" font-size=\"12\" lengthAdjust=\"spacingAndGlyphs\" textLength=\"8\" x=\"65\" y=\"71.1074\">A</text></a></g><!--MD5=[0d5de86c3c1b3bfdd1027cefb1f24edc]\n",
       "@startuml\r\n",
       "skinparam ranksep 10\r\n",
       "skinparam rectangle {\r\n",
       " backgroundColor<<block>> LightGreen\r\n",
       "}\r\n",
       "skinparam wrapWidth 300\r\n",
       "hide circle\r\n",
       "\r\n",
       "package \"P1\" as E1  [[psysml:fb33a6e6-5dc2-431e-96a4-a3f08ce921dc ]]  {\r\n",
       "rec def \"A\" as E2  <<(T,blue) part  def>> [[psysml:db85db04-92da-46ca-8852-43fed38500fe ]] {\r\n",
       "}\r\n",
       "}\r\n",
       "@enduml\r\n",
       "\n",
       "PlantUML version 1.2020.13(Sat Jun 13 12:26:38 UTC 2020)\n",
       "(EPL source distribution)\n",
       "Java Runtime: OpenJDK Runtime Environment\n",
       "JVM: OpenJDK 64-Bit Server VM\n",
       "Default Encoding: UTF-8\n",
       "Language: en\n",
       "Country: null\n",
       "--></g></svg>"
      ]
     },
     "execution_count": 26,
     "metadata": {},
     "output_type": "execute_result"
    }
   ],
   "source": [
    "%viz --style=\"STDCOLOR\" --view=\"Interconnection\" \"P1\""
   ]
  },
  {
   "cell_type": "code",
   "execution_count": 27,
   "id": "b5ac35c0",
   "metadata": {
    "execution": {
     "iopub.execute_input": "2022-04-22T09:51:49.591324Z",
     "iopub.status.busy": "2022-04-22T09:51:49.590923Z",
     "iopub.status.idle": "2022-04-22T09:51:49.595404Z",
     "shell.execute_reply": "2022-04-22T09:51:49.595712Z"
    }
   },
   "outputs": [
    {
     "data": {
      "image/svg+xml": [
       "<?xml version=\"1.0\" encoding=\"UTF-8\" standalone=\"no\"?><svg xmlns=\"http://www.w3.org/2000/svg\" xmlns:xlink=\"http://www.w3.org/1999/xlink\" contentScriptType=\"application/ecmascript\" contentStyleType=\"text/css\" height=\"12px\" preserveAspectRatio=\"none\" style=\"width:12px;height:12px;\" version=\"1.1\" viewBox=\"0 0 12 12\" width=\"12px\" zoomAndPan=\"magnify\"><defs/><g><!--MD5=[9863325348a96a77dacc89509d8ee65e]\n",
       "@startuml\r\n",
       "skinparam ranksep 8\r\n",
       "skinparam wrapWidth 300\r\n",
       "hide circle\r\n",
       "\r\n",
       "@enduml\r\n",
       "\n",
       "PlantUML version 1.2020.13(Sat Jun 13 12:26:38 UTC 2020)\n",
       "(EPL source distribution)\n",
       "Java Runtime: OpenJDK Runtime Environment\n",
       "JVM: OpenJDK 64-Bit Server VM\n",
       "Default Encoding: UTF-8\n",
       "Language: en\n",
       "Country: null\n",
       "--></g></svg>"
      ]
     },
     "execution_count": 27,
     "metadata": {},
     "output_type": "execute_result"
    }
   ],
   "source": [
    "%viz --style=\"STDCOLOR\" --view=\"Action\" \"P1\""
   ]
  },
  {
   "cell_type": "code",
   "execution_count": 28,
   "id": "c5869457",
   "metadata": {
    "execution": {
     "iopub.execute_input": "2022-04-22T09:51:49.645904Z",
     "iopub.status.busy": "2022-04-22T09:51:49.645496Z",
     "iopub.status.idle": "2022-04-22T09:51:49.650524Z",
     "shell.execute_reply": "2022-04-22T09:51:49.650833Z"
    }
   },
   "outputs": [
    {
     "data": {
      "image/svg+xml": [
       "<?xml version=\"1.0\" encoding=\"UTF-8\" standalone=\"no\"?><svg xmlns=\"http://www.w3.org/2000/svg\" xmlns:xlink=\"http://www.w3.org/1999/xlink\" contentScriptType=\"application/ecmascript\" contentStyleType=\"text/css\" height=\"12px\" preserveAspectRatio=\"none\" style=\"width:12px;height:12px;\" version=\"1.1\" viewBox=\"0 0 12 12\" width=\"12px\" zoomAndPan=\"magnify\"><defs/><g><!--MD5=[6c4bca67b4d71758159a5a7f1f1e1fc2]\n",
       "@startuml\r\n",
       "skinparam roundcorner 20\r\n",
       "skinparam BoxPadding 20\r\n",
       "skinparam SequenceBoxBackgroundColor #white\r\n",
       "skinparam style strictuml\r\n",
       "skinparam maxMessageSize 100\r\n",
       "skinparam wrapWidth 300\r\n",
       "hide circle\r\n",
       "\r\n",
       "@enduml\r\n",
       "\n",
       "PlantUML version 1.2020.13(Sat Jun 13 12:26:38 UTC 2020)\n",
       "(EPL source distribution)\n",
       "Java Runtime: OpenJDK Runtime Environment\n",
       "JVM: OpenJDK 64-Bit Server VM\n",
       "Default Encoding: UTF-8\n",
       "Language: en\n",
       "Country: null\n",
       "--></g></svg>"
      ]
     },
     "execution_count": 28,
     "metadata": {},
     "output_type": "execute_result"
    }
   ],
   "source": [
    "%viz --style=\"STDCOLOR\" --view=\"Sequence\" \"P1\""
   ]
  },
  {
   "cell_type": "code",
   "execution_count": 29,
   "id": "9c886fcc",
   "metadata": {
    "execution": {
     "iopub.execute_input": "2022-04-22T09:51:49.700901Z",
     "iopub.status.busy": "2022-04-22T09:51:49.700505Z",
     "iopub.status.idle": "2022-04-22T09:51:49.723824Z",
     "shell.execute_reply": "2022-04-22T09:51:49.723483Z"
    }
   },
   "outputs": [
    {
     "data": {
      "image/svg+xml": [
       "<?xml version=\"1.0\" encoding=\"UTF-8\" standalone=\"no\"?><svg xmlns=\"http://www.w3.org/2000/svg\" xmlns:xlink=\"http://www.w3.org/1999/xlink\" contentScriptType=\"application/ecmascript\" contentStyleType=\"text/css\" height=\"115px\" preserveAspectRatio=\"none\" style=\"width:140px;height:115px;\" version=\"1.1\" viewBox=\"0 0 140 115\" width=\"140px\" zoomAndPan=\"magnify\"><defs><filter height=\"300%\" id=\"f7krzwxnbcrvz\" width=\"300%\" x=\"-1\" y=\"-1\"><feGaussianBlur result=\"blurOut\" stdDeviation=\"2.0\"/><feColorMatrix in=\"blurOut\" result=\"blurOut2\" type=\"matrix\" values=\"0 0 0 0 0 0 0 0 0 0 0 0 0 0 0 0 0 0 .4 0\"/><feOffset dx=\"4.0\" dy=\"4.0\" in=\"blurOut2\" result=\"blurOut3\"/><feBlend in=\"SourceGraphic\" in2=\"blurOut3\" mode=\"normal\"/></filter></defs><g><!--MD5=[fbc87193dbaf4d95561dea2c320d4a47]\n",
       "cluster E1--><a href=\"psysml:fb33a6e6-5dc2-431e-96a4-a3f08ce921dc\" target=\"_top\" title=\"psysml:fb33a6e6-5dc2-431e-96a4-a3f08ce921dc\" xlink:actuate=\"onRequest\" xlink:href=\"psysml:fb33a6e6-5dc2-431e-96a4-a3f08ce921dc\" xlink:show=\"new\" xlink:title=\"psysml:fb33a6e6-5dc2-431e-96a4-a3f08ce921dc\" xlink:type=\"simple\"><polygon fill=\"#FFFFFF\" filter=\"url(#f7krzwxnbcrvz)\" points=\"16,6,40,6,47,28.2969,118,28.2969,118,103,16,103,16,6\" style=\"stroke: #000000; stroke-width: 1.5;\"/><line style=\"stroke: #000000; stroke-width: 1.5;\" x1=\"16\" x2=\"47\" y1=\"28.2969\" y2=\"28.2969\"/><text fill=\"#000000\" font-family=\"sans-serif\" font-size=\"14\" font-weight=\"bold\" lengthAdjust=\"spacingAndGlyphs\" textLength=\"18\" x=\"20\" y=\"20.9951\">P1</text></a><!--MD5=[b4997ac47864f28c2f74865a473b2911]\n",
       "class E2--><a href=\"psysml:db85db04-92da-46ca-8852-43fed38500fe\" target=\"_top\" title=\"psysml:db85db04-92da-46ca-8852-43fed38500fe\" xlink:actuate=\"onRequest\" xlink:href=\"psysml:db85db04-92da-46ca-8852-43fed38500fe\" xlink:show=\"new\" xlink:title=\"psysml:db85db04-92da-46ca-8852-43fed38500fe\" xlink:type=\"simple\"><rect fill=\"#FEFECE\" filter=\"url(#f7krzwxnbcrvz)\" height=\"45.9375\" id=\"E2\" style=\"stroke: #A80036; stroke-width: 1.5;\" width=\"70\" x=\"32\" y=\"41\"/><text fill=\"#000000\" font-family=\"sans-serif\" font-size=\"12\" font-style=\"italic\" lengthAdjust=\"spacingAndGlyphs\" textLength=\"68\" x=\"33\" y=\"57.1387\">«part  def»</text><text fill=\"#000000\" font-family=\"sans-serif\" font-size=\"12\" lengthAdjust=\"spacingAndGlyphs\" textLength=\"8\" x=\"63\" y=\"71.1074\">A</text><line style=\"stroke: #A80036; stroke-width: 1.5;\" x1=\"33\" x2=\"101\" y1=\"78.9375\" y2=\"78.9375\"/></a><!--MD5=[829e8fbbfe0c8c89c1bb362a8db5c0a6]\n",
       "@startuml\r\n",
       "skinparam wrapWidth 300\r\n",
       "hide circle\r\n",
       "\r\n",
       "package \"P1\" as E1  [[psysml:fb33a6e6-5dc2-431e-96a4-a3f08ce921dc ]]  {\r\n",
       "comp def \"A\" as E2  <<(T,blue) part  def>> [[psysml:db85db04-92da-46ca-8852-43fed38500fe ]] {\r\n",
       "}\r\n",
       "}\r\n",
       "@enduml\r\n",
       "\n",
       "PlantUML version 1.2020.13(Sat Jun 13 12:26:38 UTC 2020)\n",
       "(EPL source distribution)\n",
       "Java Runtime: OpenJDK Runtime Environment\n",
       "JVM: OpenJDK 64-Bit Server VM\n",
       "Default Encoding: UTF-8\n",
       "Language: en\n",
       "Country: null\n",
       "--></g></svg>"
      ]
     },
     "execution_count": 29,
     "metadata": {},
     "output_type": "execute_result"
    }
   ],
   "source": [
    "%viz --style=\"STDCOLOR\" --view=\"MIXED\" \"P1\""
   ]
  },
  {
   "cell_type": "code",
   "execution_count": 30,
   "id": "2b975605",
   "metadata": {
    "execution": {
     "iopub.execute_input": "2022-04-22T09:51:49.773389Z",
     "iopub.status.busy": "2022-04-22T09:51:49.772995Z",
     "iopub.status.idle": "2022-04-22T09:51:49.815164Z",
     "shell.execute_reply": "2022-04-22T09:51:49.815523Z"
    }
   },
   "outputs": [
    {
     "data": {
      "image/svg+xml": [
       "<?xml version=\"1.0\" encoding=\"UTF-8\" standalone=\"no\"?><svg xmlns=\"http://www.w3.org/2000/svg\" xmlns:xlink=\"http://www.w3.org/1999/xlink\" contentScriptType=\"application/ecmascript\" contentStyleType=\"text/css\" height=\"109px\" preserveAspectRatio=\"none\" style=\"width:110px;height:109px;\" version=\"1.1\" viewBox=\"0 0 110 109\" width=\"110px\" zoomAndPan=\"magnify\"><defs><filter height=\"300%\" id=\"foft4gtkjqlpx\" width=\"300%\" x=\"-1\" y=\"-1\"><feGaussianBlur result=\"blurOut\" stdDeviation=\"2.0\"/><feColorMatrix in=\"blurOut\" result=\"blurOut2\" type=\"matrix\" values=\"0 0 0 0 0 0 0 0 0 0 0 0 0 0 0 0 0 0 .4 0\"/><feOffset dx=\"4.0\" dy=\"4.0\" in=\"blurOut2\" result=\"blurOut3\"/><feBlend in=\"SourceGraphic\" in2=\"blurOut3\" mode=\"normal\"/></filter></defs><g><!--MD5=[fbc87193dbaf4d95561dea2c320d4a47]\n",
       "cluster E1--><a href=\"psysml:fb33a6e6-5dc2-431e-96a4-a3f08ce921dc\" target=\"_top\" title=\"psysml:fb33a6e6-5dc2-431e-96a4-a3f08ce921dc\" xlink:actuate=\"onRequest\" xlink:href=\"psysml:fb33a6e6-5dc2-431e-96a4-a3f08ce921dc\" xlink:show=\"new\" xlink:title=\"psysml:fb33a6e6-5dc2-431e-96a4-a3f08ce921dc\" xlink:type=\"simple\"><polygon fill=\"#FFFFFF\" filter=\"url(#foft4gtkjqlpx)\" points=\"16,6,40,6,47,28.2969,88,28.2969,88,97,16,97,16,6\" style=\"stroke: #000000; stroke-width: 1.5;\"/><line style=\"stroke: #000000; stroke-width: 1.5;\" x1=\"16\" x2=\"47\" y1=\"28.2969\" y2=\"28.2969\"/><text fill=\"#000000\" font-family=\"sans-serif\" font-size=\"14\" font-weight=\"bold\" lengthAdjust=\"spacingAndGlyphs\" textLength=\"18\" x=\"20\" y=\"20.9951\">P1</text></a><!--MD5=[b4997ac47864f28c2f74865a473b2911]\n",
       "class E2--><a href=\"psysml:db85db04-92da-46ca-8852-43fed38500fe\" target=\"_top\" title=\"psysml:db85db04-92da-46ca-8852-43fed38500fe\" xlink:actuate=\"onRequest\" xlink:href=\"psysml:db85db04-92da-46ca-8852-43fed38500fe\" xlink:show=\"new\" xlink:title=\"psysml:db85db04-92da-46ca-8852-43fed38500fe\" xlink:type=\"simple\"><rect fill=\"#FEFECE\" filter=\"url(#foft4gtkjqlpx)\" height=\"40\" id=\"E2\" style=\"stroke: #A80036; stroke-width: 1.5;\" width=\"40\" x=\"32\" y=\"41\"/><ellipse cx=\"47\" cy=\"57\" fill=\"#008000\" rx=\"11\" ry=\"11\" style=\"stroke: #A80036; stroke-width: 1.0;\"/><path d=\"M43.875,62 L43.875,51.4063 L47.1094,51.4063 Q49.0156,51.4063 49.9219,52.1563 Q50.8438,52.9063 50.8438,54.0781 Q50.8438,54.7656 50.4531,55.4219 Q50.0781,56.0781 49.3594,56.375 Q50.2188,56.75 50.7344,57.4375 Q51.25,58.125 51.25,58.9375 Q51.25,60.3125 50.2188,61.1563 Q49.2031,62 47.0938,62 L43.875,62 Z M45.7969,55.6406 L46.9531,55.6406 Q48.0781,55.6406 48.4844,55.2656 Q48.9063,54.875 48.9063,54.25 Q48.9063,53.6719 48.4844,53.3125 Q48.0625,52.9531 47.125,52.9531 L45.7969,52.9531 L45.7969,55.6406 Z M45.7969,60.4219 L47.2969,60.4219 Q48.2031,60.4219 48.7344,60.0313 Q49.2656,59.6406 49.2656,58.8906 Q49.2656,58.125 48.7656,57.6563 Q48.2656,57.1719 47,57.1719 L45.7969,57.1719 L45.7969,60.4219 Z \"/><text fill=\"#000000\" font-family=\"sans-serif\" font-size=\"12\" lengthAdjust=\"spacingAndGlyphs\" textLength=\"8\" x=\"61\" y=\"61.1543\">A</text><line style=\"stroke: #A80036; stroke-width: 1.5;\" x1=\"33\" x2=\"71\" y1=\"73\" y2=\"73\"/></a><!--MD5=[8a80f6699da211d9bda91cb3c7749010]\n",
       "@startuml\r\n",
       " \r\n",
       "package \"P1\" as E1  [[psysml:fb33a6e6-5dc2-431e-96a4-a3f08ce921dc ]]  {\r\n",
       "comp def \"A\" as E2 << << (B,green) >> [[psysml:db85db04-92da-46ca-8852-43fed38500fe ]] {\r\n",
       "}\r\n",
       "}\r\n",
       "@enduml\r\n",
       "\n",
       "PlantUML version 1.2020.13(Sat Jun 13 12:26:38 UTC 2020)\n",
       "(EPL source distribution)\n",
       "Java Runtime: OpenJDK Runtime Environment\n",
       "JVM: OpenJDK 64-Bit Server VM\n",
       "Default Encoding: UTF-8\n",
       "Language: en\n",
       "Country: null\n",
       "--></g></svg>"
      ]
     },
     "execution_count": 30,
     "metadata": {},
     "output_type": "execute_result"
    }
   ],
   "source": [
    "%viz --style=\"PLANTUML\" --view=\"Default\" \"P1\""
   ]
  },
  {
   "cell_type": "code",
   "execution_count": 31,
   "id": "b55576e1",
   "metadata": {
    "execution": {
     "iopub.execute_input": "2022-04-22T09:51:49.865592Z",
     "iopub.status.busy": "2022-04-22T09:51:49.865176Z",
     "iopub.status.idle": "2022-04-22T09:51:49.887437Z",
     "shell.execute_reply": "2022-04-22T09:51:49.887727Z"
    }
   },
   "outputs": [
    {
     "data": {
      "image/svg+xml": [
       "<?xml version=\"1.0\" encoding=\"UTF-8\" standalone=\"no\"?><svg xmlns=\"http://www.w3.org/2000/svg\" xmlns:xlink=\"http://www.w3.org/1999/xlink\" contentScriptType=\"application/ecmascript\" contentStyleType=\"text/css\" height=\"109px\" preserveAspectRatio=\"none\" style=\"width:110px;height:109px;\" version=\"1.1\" viewBox=\"0 0 110 109\" width=\"110px\" zoomAndPan=\"magnify\"><defs><filter height=\"300%\" id=\"foft4gtkjqlpx\" width=\"300%\" x=\"-1\" y=\"-1\"><feGaussianBlur result=\"blurOut\" stdDeviation=\"2.0\"/><feColorMatrix in=\"blurOut\" result=\"blurOut2\" type=\"matrix\" values=\"0 0 0 0 0 0 0 0 0 0 0 0 0 0 0 0 0 0 .4 0\"/><feOffset dx=\"4.0\" dy=\"4.0\" in=\"blurOut2\" result=\"blurOut3\"/><feBlend in=\"SourceGraphic\" in2=\"blurOut3\" mode=\"normal\"/></filter></defs><g><!--MD5=[fbc87193dbaf4d95561dea2c320d4a47]\n",
       "cluster E1--><a href=\"psysml:fb33a6e6-5dc2-431e-96a4-a3f08ce921dc\" target=\"_top\" title=\"psysml:fb33a6e6-5dc2-431e-96a4-a3f08ce921dc\" xlink:actuate=\"onRequest\" xlink:href=\"psysml:fb33a6e6-5dc2-431e-96a4-a3f08ce921dc\" xlink:show=\"new\" xlink:title=\"psysml:fb33a6e6-5dc2-431e-96a4-a3f08ce921dc\" xlink:type=\"simple\"><polygon fill=\"#FFFFFF\" filter=\"url(#foft4gtkjqlpx)\" points=\"16,6,40,6,47,28.2969,88,28.2969,88,97,16,97,16,6\" style=\"stroke: #000000; stroke-width: 1.5;\"/><line style=\"stroke: #000000; stroke-width: 1.5;\" x1=\"16\" x2=\"47\" y1=\"28.2969\" y2=\"28.2969\"/><text fill=\"#000000\" font-family=\"sans-serif\" font-size=\"14\" font-weight=\"bold\" lengthAdjust=\"spacingAndGlyphs\" textLength=\"18\" x=\"20\" y=\"20.9951\">P1</text></a><!--MD5=[b4997ac47864f28c2f74865a473b2911]\n",
       "class E2--><a href=\"psysml:db85db04-92da-46ca-8852-43fed38500fe\" target=\"_top\" title=\"psysml:db85db04-92da-46ca-8852-43fed38500fe\" xlink:actuate=\"onRequest\" xlink:href=\"psysml:db85db04-92da-46ca-8852-43fed38500fe\" xlink:show=\"new\" xlink:title=\"psysml:db85db04-92da-46ca-8852-43fed38500fe\" xlink:type=\"simple\"><rect fill=\"#FEFECE\" filter=\"url(#foft4gtkjqlpx)\" height=\"40\" id=\"E2\" style=\"stroke: #A80036; stroke-width: 1.5;\" width=\"40\" x=\"32\" y=\"41\"/><ellipse cx=\"47\" cy=\"57\" fill=\"#008000\" rx=\"11\" ry=\"11\" style=\"stroke: #A80036; stroke-width: 1.0;\"/><path d=\"M43.875,62 L43.875,51.4063 L47.1094,51.4063 Q49.0156,51.4063 49.9219,52.1563 Q50.8438,52.9063 50.8438,54.0781 Q50.8438,54.7656 50.4531,55.4219 Q50.0781,56.0781 49.3594,56.375 Q50.2188,56.75 50.7344,57.4375 Q51.25,58.125 51.25,58.9375 Q51.25,60.3125 50.2188,61.1563 Q49.2031,62 47.0938,62 L43.875,62 Z M45.7969,55.6406 L46.9531,55.6406 Q48.0781,55.6406 48.4844,55.2656 Q48.9063,54.875 48.9063,54.25 Q48.9063,53.6719 48.4844,53.3125 Q48.0625,52.9531 47.125,52.9531 L45.7969,52.9531 L45.7969,55.6406 Z M45.7969,60.4219 L47.2969,60.4219 Q48.2031,60.4219 48.7344,60.0313 Q49.2656,59.6406 49.2656,58.8906 Q49.2656,58.125 48.7656,57.6563 Q48.2656,57.1719 47,57.1719 L45.7969,57.1719 L45.7969,60.4219 Z \"/><text fill=\"#000000\" font-family=\"sans-serif\" font-size=\"12\" lengthAdjust=\"spacingAndGlyphs\" textLength=\"8\" x=\"61\" y=\"61.1543\">A</text><line style=\"stroke: #A80036; stroke-width: 1.5;\" x1=\"33\" x2=\"71\" y1=\"73\" y2=\"73\"/></a><!--MD5=[8a80f6699da211d9bda91cb3c7749010]\n",
       "@startuml\r\n",
       " \r\n",
       "package \"P1\" as E1  [[psysml:fb33a6e6-5dc2-431e-96a4-a3f08ce921dc ]]  {\r\n",
       "comp def \"A\" as E2 << << (B,green) >> [[psysml:db85db04-92da-46ca-8852-43fed38500fe ]] {\r\n",
       "}\r\n",
       "}\r\n",
       "@enduml\r\n",
       "\n",
       "PlantUML version 1.2020.13(Sat Jun 13 12:26:38 UTC 2020)\n",
       "(EPL source distribution)\n",
       "Java Runtime: OpenJDK Runtime Environment\n",
       "JVM: OpenJDK 64-Bit Server VM\n",
       "Default Encoding: UTF-8\n",
       "Language: en\n",
       "Country: null\n",
       "--></g></svg>"
      ]
     },
     "execution_count": 31,
     "metadata": {},
     "output_type": "execute_result"
    }
   ],
   "source": [
    "%viz --style=\"PLANTUML\" --view=\"Tree\" \"P1\""
   ]
  },
  {
   "cell_type": "code",
   "execution_count": 32,
   "id": "9eed2455",
   "metadata": {
    "execution": {
     "iopub.execute_input": "2022-04-22T09:51:49.937854Z",
     "iopub.status.busy": "2022-04-22T09:51:49.937441Z",
     "iopub.status.idle": "2022-04-22T09:51:50.040808Z",
     "shell.execute_reply": "2022-04-22T09:51:50.039618Z"
    }
   },
   "outputs": [
    {
     "data": {
      "image/svg+xml": [
       "<?xml version=\"1.0\" encoding=\"UTF-8\" standalone=\"no\"?><svg xmlns=\"http://www.w3.org/2000/svg\" xmlns:xlink=\"http://www.w3.org/1999/xlink\" contentScriptType=\"application/ecmascript\" contentStyleType=\"text/css\" height=\"300px\" preserveAspectRatio=\"none\" style=\"width:603px;height:300px;background:#000000;\" version=\"1.1\" viewBox=\"0 0 603 300\" width=\"603px\" zoomAndPan=\"magnify\"><defs/><g><rect fill=\"#04001B\" height=\"1\" style=\"stroke: #04001B; stroke-width: 1.0;\" width=\"1\" x=\"0\" y=\"0\"/><rect fill=\"#FFFFFF\" height=\"202.8012\" style=\"stroke: #FFFFFF; stroke-width: 1.0;\" width=\"602\" x=\"0\" y=\"0\"/><text fill=\"#000000\" font-family=\"sans-serif\" font-size=\"12\" font-weight=\"bold\" lengthAdjust=\"spacingAndGlyphs\" textLength=\"139\" x=\"5\" y=\"16.1387\">Welcome to PlantUML!</text><text fill=\"#000000\" font-family=\"sans-serif\" font-size=\"12\" lengthAdjust=\"spacingAndGlyphs\" textLength=\"0\" x=\"9\" y=\"30.1074\"/><text fill=\"#000000\" font-family=\"sans-serif\" font-size=\"12\" lengthAdjust=\"spacingAndGlyphs\" textLength=\"293\" x=\"5\" y=\"44.0762\">If you use this software, you accept its license.</text><text fill=\"#000000\" font-family=\"sans-serif\" font-size=\"12\" lengthAdjust=\"spacingAndGlyphs\" textLength=\"107\" x=\"5\" y=\"58.0449\">(details by typing</text><text fill=\"#000000\" font-family=\"monospace\" font-size=\"12\" lengthAdjust=\"spacingAndGlyphs\" textLength=\"42\" x=\"116\" y=\"58.595\">license</text><text fill=\"#000000\" font-family=\"sans-serif\" font-size=\"12\" lengthAdjust=\"spacingAndGlyphs\" textLength=\"56\" x=\"162\" y=\"58.0449\">keyword)</text><text fill=\"#000000\" font-family=\"sans-serif\" font-size=\"12\" lengthAdjust=\"spacingAndGlyphs\" textLength=\"0\" x=\"9\" y=\"72.0137\"/><text fill=\"#000000\" font-family=\"sans-serif\" font-size=\"12\" lengthAdjust=\"spacingAndGlyphs\" textLength=\"283\" x=\"5\" y=\"85.9824\">You can start with a simple UML Diagram like:</text><text fill=\"#000000\" font-family=\"sans-serif\" font-size=\"12\" lengthAdjust=\"spacingAndGlyphs\" textLength=\"0\" x=\"9\" y=\"99.9512\"/><text fill=\"#000000\" font-family=\"monospace\" font-size=\"12\" lengthAdjust=\"spacingAndGlyphs\" textLength=\"102\" x=\"5\" y=\"113.0893\">Bob-&gt;Alice: Hello</text><text fill=\"#000000\" font-family=\"sans-serif\" font-size=\"12\" lengthAdjust=\"spacingAndGlyphs\" textLength=\"0\" x=\"9\" y=\"126.508\"/><text fill=\"#000000\" font-family=\"sans-serif\" font-size=\"12\" lengthAdjust=\"spacingAndGlyphs\" textLength=\"14\" x=\"5\" y=\"140.4768\">Or</text><text fill=\"#000000\" font-family=\"sans-serif\" font-size=\"12\" lengthAdjust=\"spacingAndGlyphs\" textLength=\"0\" x=\"9\" y=\"154.4455\"/><text fill=\"#000000\" font-family=\"monospace\" font-size=\"12\" lengthAdjust=\"spacingAndGlyphs\" textLength=\"78\" x=\"5\" y=\"167.5837\">class Example</text><text fill=\"#000000\" font-family=\"sans-serif\" font-size=\"12\" lengthAdjust=\"spacingAndGlyphs\" textLength=\"0\" x=\"9\" y=\"181.0023\"/><text fill=\"#000000\" font-family=\"sans-serif\" font-size=\"12\" lengthAdjust=\"spacingAndGlyphs\" textLength=\"349\" x=\"5\" y=\"194.9711\">You will find more information about PlantUML syntax on</text><text fill=\"#000000\" font-family=\"sans-serif\" font-size=\"12\" lengthAdjust=\"spacingAndGlyphs\" text-decoration=\"underline\" textLength=\"129\" x=\"358\" y=\"194.9711\">https://plantuml.com</text><image height=\"71\" width=\"80\" x=\"516\" xlink:href=\"data:image/png;base64,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\" y=\"6\"/><rect fill=\"#000000\" height=\"96.4844\" style=\"stroke: #000000; stroke-width: 1.0;\" width=\"602\" x=\"0\" y=\"202.8012\"/><rect fill=\"#33FF02\" height=\"21.2969\" style=\"stroke: #33FF02; stroke-width: 1.0;\" width=\"145\" x=\"5\" y=\"207.8012\"/><text fill=\"#000000\" font-family=\"sans-serif\" font-size=\"14\" font-weight=\"bold\" lengthAdjust=\"spacingAndGlyphs\" textLength=\"143\" x=\"6\" y=\"222.8012\">[From string (line 2) ]</text><text fill=\"#33FF02\" font-family=\"sans-serif\" font-size=\"14\" font-weight=\"bold\" lengthAdjust=\"spacingAndGlyphs\" textLength=\"0\" x=\"9\" y=\"243.0981\"/><text fill=\"#33FF02\" font-family=\"sans-serif\" font-size=\"14\" font-weight=\"bold\" lengthAdjust=\"spacingAndGlyphs\" textLength=\"70\" x=\"5\" y=\"259.3949\">@startuml</text><text fill=\"#33FF02\" font-family=\"sans-serif\" font-size=\"14\" font-weight=\"bold\" lengthAdjust=\"spacingAndGlyphs\" textLength=\"0\" x=\"9\" y=\"275.6918\"/><text fill=\"#FF0000\" font-family=\"sans-serif\" font-size=\"14\" font-weight=\"bold\" lengthAdjust=\"spacingAndGlyphs\" textLength=\"124\" x=\"9\" y=\"291.9887\">Empty description</text><!--MD5=[f59edd8218d337f74d0c332fc6737304]\n",
       "@startuml\r\n",
       " \r\n",
       "@enduml\r\n",
       "\n",
       "PlantUML version 1.2020.13(Sat Jun 13 12:26:38 UTC 2020)\n",
       "(EPL source distribution)\n",
       "Java Runtime: OpenJDK Runtime Environment\n",
       "JVM: OpenJDK 64-Bit Server VM\n",
       "Default Encoding: UTF-8\n",
       "Language: en\n",
       "Country: null\n",
       "--></g></svg>"
      ]
     },
     "execution_count": 32,
     "metadata": {},
     "output_type": "execute_result"
    }
   ],
   "source": [
    "%viz --style=\"PLANTUML\" --view=\"State\" \"P1\""
   ]
  },
  {
   "cell_type": "code",
   "execution_count": 33,
   "id": "e1f4bc17",
   "metadata": {
    "execution": {
     "iopub.execute_input": "2022-04-22T09:51:50.090368Z",
     "iopub.status.busy": "2022-04-22T09:51:50.089971Z",
     "iopub.status.idle": "2022-04-22T09:51:50.109947Z",
     "shell.execute_reply": "2022-04-22T09:51:50.109621Z"
    }
   },
   "outputs": [
    {
     "data": {
      "image/svg+xml": [
       "<?xml version=\"1.0\" encoding=\"UTF-8\" standalone=\"no\"?><svg xmlns=\"http://www.w3.org/2000/svg\" xmlns:xlink=\"http://www.w3.org/1999/xlink\" contentScriptType=\"application/ecmascript\" contentStyleType=\"text/css\" height=\"109px\" preserveAspectRatio=\"none\" style=\"width:120px;height:109px;\" version=\"1.1\" viewBox=\"0 0 120 109\" width=\"120px\" zoomAndPan=\"magnify\"><defs><filter height=\"300%\" id=\"fsakibnqnufxb\" width=\"300%\" x=\"-1\" y=\"-1\"><feGaussianBlur result=\"blurOut\" stdDeviation=\"2.0\"/><feColorMatrix in=\"blurOut\" result=\"blurOut2\" type=\"matrix\" values=\"0 0 0 0 0 0 0 0 0 0 0 0 0 0 0 0 0 0 .4 0\"/><feOffset dx=\"4.0\" dy=\"4.0\" in=\"blurOut2\" result=\"blurOut3\"/><feBlend in=\"SourceGraphic\" in2=\"blurOut3\" mode=\"normal\"/></filter></defs><g><!--MD5=[fbc87193dbaf4d95561dea2c320d4a47]\n",
       "cluster E1--><a href=\"psysml:fb33a6e6-5dc2-431e-96a4-a3f08ce921dc\" target=\"_top\" title=\"psysml:fb33a6e6-5dc2-431e-96a4-a3f08ce921dc\" xlink:actuate=\"onRequest\" xlink:href=\"psysml:fb33a6e6-5dc2-431e-96a4-a3f08ce921dc\" xlink:show=\"new\" xlink:title=\"psysml:fb33a6e6-5dc2-431e-96a4-a3f08ce921dc\" xlink:type=\"simple\"><polygon fill=\"#FFFFFF\" filter=\"url(#fsakibnqnufxb)\" points=\"16,6,40,6,47,28.2969,98,28.2969,98,97,16,97,16,6\" style=\"stroke: #000000; stroke-width: 1.5;\"/><line style=\"stroke: #000000; stroke-width: 1.5;\" x1=\"16\" x2=\"47\" y1=\"28.2969\" y2=\"28.2969\"/><text fill=\"#000000\" font-family=\"sans-serif\" font-size=\"14\" font-weight=\"bold\" lengthAdjust=\"spacingAndGlyphs\" textLength=\"18\" x=\"20\" y=\"20.9951\">P1</text></a><g id=\"E1.E2\"><a href=\"psysml:db85db04-92da-46ca-8852-43fed38500fe\" target=\"_top\" title=\"psysml:db85db04-92da-46ca-8852-43fed38500fe\" xlink:actuate=\"onRequest\" xlink:href=\"psysml:db85db04-92da-46ca-8852-43fed38500fe\" xlink:show=\"new\" xlink:title=\"psysml:db85db04-92da-46ca-8852-43fed38500fe\" xlink:type=\"simple\"><rect fill=\"#FEFECE\" filter=\"url(#fsakibnqnufxb)\" height=\"40\" id=\"E2\" style=\"stroke: #A80036; stroke-width: 1.5;\" width=\"50\" x=\"32\" y=\"41\"/><ellipse cx=\"51.5\" cy=\"57\" fill=\"#008000\" rx=\"11\" ry=\"11\" style=\"stroke: #A80036; stroke-width: 1.0;\"/><path d=\"M48.375,62 L48.375,51.4063 L51.6094,51.4063 Q53.5156,51.4063 54.4219,52.1563 Q55.3438,52.9063 55.3438,54.0781 Q55.3438,54.7656 54.9531,55.4219 Q54.5781,56.0781 53.8594,56.375 Q54.7188,56.75 55.2344,57.4375 Q55.75,58.125 55.75,58.9375 Q55.75,60.3125 54.7188,61.1563 Q53.7031,62 51.5938,62 L48.375,62 Z M50.2969,55.6406 L51.4531,55.6406 Q52.5781,55.6406 52.9844,55.2656 Q53.4063,54.875 53.4063,54.25 Q53.4063,53.6719 52.9844,53.3125 Q52.5625,52.9531 51.625,52.9531 L50.2969,52.9531 L50.2969,55.6406 Z M50.2969,60.4219 L51.7969,60.4219 Q52.7031,60.4219 53.2344,60.0313 Q53.7656,59.6406 53.7656,58.8906 Q53.7656,58.125 53.2656,57.6563 Q52.7656,57.1719 51.5,57.1719 L50.2969,57.1719 L50.2969,60.4219 Z \"/><text fill=\"#000000\" font-family=\"sans-serif\" font-size=\"12\" lengthAdjust=\"spacingAndGlyphs\" textLength=\"8\" x=\"66.5\" y=\"61.1543\">A</text></a></g><!--MD5=[65435099cb205a44b2dcbfed21e0df8a]\n",
       "@startuml\r\n",
       "skinparam ranksep 10\r\n",
       "skinparam rectangle {\r\n",
       " backgroundColor<<block>> LightGreen\r\n",
       "}\r\n",
       " \r\n",
       "package \"P1\" as E1  [[psysml:fb33a6e6-5dc2-431e-96a4-a3f08ce921dc ]]  {\r\n",
       "rec def \"A\" as E2 << << (B,green) >> [[psysml:db85db04-92da-46ca-8852-43fed38500fe ]] {\r\n",
       "}\r\n",
       "}\r\n",
       "@enduml\r\n",
       "\n",
       "PlantUML version 1.2020.13(Sat Jun 13 12:26:38 UTC 2020)\n",
       "(EPL source distribution)\n",
       "Java Runtime: OpenJDK Runtime Environment\n",
       "JVM: OpenJDK 64-Bit Server VM\n",
       "Default Encoding: UTF-8\n",
       "Language: en\n",
       "Country: null\n",
       "--></g></svg>"
      ]
     },
     "execution_count": 33,
     "metadata": {},
     "output_type": "execute_result"
    }
   ],
   "source": [
    "%viz --style=\"PLANTUML\" --view=\"Interconnection\" \"P1\""
   ]
  },
  {
   "cell_type": "code",
   "execution_count": 34,
   "id": "4a706087",
   "metadata": {
    "execution": {
     "iopub.execute_input": "2022-04-22T09:51:50.159922Z",
     "iopub.status.busy": "2022-04-22T09:51:50.159523Z",
     "iopub.status.idle": "2022-04-22T09:51:50.165142Z",
     "shell.execute_reply": "2022-04-22T09:51:50.164804Z"
    }
   },
   "outputs": [
    {
     "data": {
      "image/svg+xml": [
       "<?xml version=\"1.0\" encoding=\"UTF-8\" standalone=\"no\"?><svg xmlns=\"http://www.w3.org/2000/svg\" xmlns:xlink=\"http://www.w3.org/1999/xlink\" contentScriptType=\"application/ecmascript\" contentStyleType=\"text/css\" height=\"12px\" preserveAspectRatio=\"none\" style=\"width:12px;height:12px;\" version=\"1.1\" viewBox=\"0 0 12 12\" width=\"12px\" zoomAndPan=\"magnify\"><defs/><g><!--MD5=[6a4cb978cab31700e1ce5529f947a75d]\n",
       "@startuml\r\n",
       "skinparam ranksep 8\r\n",
       " \r\n",
       "@enduml\r\n",
       "\n",
       "PlantUML version 1.2020.13(Sat Jun 13 12:26:38 UTC 2020)\n",
       "(EPL source distribution)\n",
       "Java Runtime: OpenJDK Runtime Environment\n",
       "JVM: OpenJDK 64-Bit Server VM\n",
       "Default Encoding: UTF-8\n",
       "Language: en\n",
       "Country: null\n",
       "--></g></svg>"
      ]
     },
     "execution_count": 34,
     "metadata": {},
     "output_type": "execute_result"
    }
   ],
   "source": [
    "%viz --style=\"PLANTUML\" --view=\"Action\" \"P1\""
   ]
  },
  {
   "cell_type": "code",
   "execution_count": 35,
   "id": "864d3309",
   "metadata": {
    "execution": {
     "iopub.execute_input": "2022-04-22T09:51:50.215220Z",
     "iopub.status.busy": "2022-04-22T09:51:50.214784Z",
     "iopub.status.idle": "2022-04-22T09:51:50.219573Z",
     "shell.execute_reply": "2022-04-22T09:51:50.219864Z"
    }
   },
   "outputs": [
    {
     "data": {
      "image/svg+xml": [
       "<?xml version=\"1.0\" encoding=\"UTF-8\" standalone=\"no\"?><svg xmlns=\"http://www.w3.org/2000/svg\" xmlns:xlink=\"http://www.w3.org/1999/xlink\" contentScriptType=\"application/ecmascript\" contentStyleType=\"text/css\" height=\"12px\" preserveAspectRatio=\"none\" style=\"width:12px;height:12px;\" version=\"1.1\" viewBox=\"0 0 12 12\" width=\"12px\" zoomAndPan=\"magnify\"><defs/><g><!--MD5=[ca4faa0b02def275ea33c14ea7a1a98d]\n",
       "@startuml\r\n",
       "skinparam roundcorner 20\r\n",
       "skinparam BoxPadding 20\r\n",
       "skinparam SequenceBoxBackgroundColor #white\r\n",
       "skinparam style strictuml\r\n",
       "skinparam maxMessageSize 100\r\n",
       " \r\n",
       "@enduml\r\n",
       "\n",
       "PlantUML version 1.2020.13(Sat Jun 13 12:26:38 UTC 2020)\n",
       "(EPL source distribution)\n",
       "Java Runtime: OpenJDK Runtime Environment\n",
       "JVM: OpenJDK 64-Bit Server VM\n",
       "Default Encoding: UTF-8\n",
       "Language: en\n",
       "Country: null\n",
       "--></g></svg>"
      ]
     },
     "execution_count": 35,
     "metadata": {},
     "output_type": "execute_result"
    }
   ],
   "source": [
    "%viz --style=\"PLANTUML\" --view=\"Sequence\" \"P1\""
   ]
  },
  {
   "cell_type": "code",
   "execution_count": 36,
   "id": "f5984548",
   "metadata": {
    "execution": {
     "iopub.execute_input": "2022-04-22T09:51:50.269603Z",
     "iopub.status.busy": "2022-04-22T09:51:50.269197Z",
     "iopub.status.idle": "2022-04-22T09:51:50.290456Z",
     "shell.execute_reply": "2022-04-22T09:51:50.290113Z"
    }
   },
   "outputs": [
    {
     "data": {
      "image/svg+xml": [
       "<?xml version=\"1.0\" encoding=\"UTF-8\" standalone=\"no\"?><svg xmlns=\"http://www.w3.org/2000/svg\" xmlns:xlink=\"http://www.w3.org/1999/xlink\" contentScriptType=\"application/ecmascript\" contentStyleType=\"text/css\" height=\"109px\" preserveAspectRatio=\"none\" style=\"width:110px;height:109px;\" version=\"1.1\" viewBox=\"0 0 110 109\" width=\"110px\" zoomAndPan=\"magnify\"><defs><filter height=\"300%\" id=\"foft4gtkjqlpx\" width=\"300%\" x=\"-1\" y=\"-1\"><feGaussianBlur result=\"blurOut\" stdDeviation=\"2.0\"/><feColorMatrix in=\"blurOut\" result=\"blurOut2\" type=\"matrix\" values=\"0 0 0 0 0 0 0 0 0 0 0 0 0 0 0 0 0 0 .4 0\"/><feOffset dx=\"4.0\" dy=\"4.0\" in=\"blurOut2\" result=\"blurOut3\"/><feBlend in=\"SourceGraphic\" in2=\"blurOut3\" mode=\"normal\"/></filter></defs><g><!--MD5=[fbc87193dbaf4d95561dea2c320d4a47]\n",
       "cluster E1--><a href=\"psysml:fb33a6e6-5dc2-431e-96a4-a3f08ce921dc\" target=\"_top\" title=\"psysml:fb33a6e6-5dc2-431e-96a4-a3f08ce921dc\" xlink:actuate=\"onRequest\" xlink:href=\"psysml:fb33a6e6-5dc2-431e-96a4-a3f08ce921dc\" xlink:show=\"new\" xlink:title=\"psysml:fb33a6e6-5dc2-431e-96a4-a3f08ce921dc\" xlink:type=\"simple\"><polygon fill=\"#FFFFFF\" filter=\"url(#foft4gtkjqlpx)\" points=\"16,6,40,6,47,28.2969,88,28.2969,88,97,16,97,16,6\" style=\"stroke: #000000; stroke-width: 1.5;\"/><line style=\"stroke: #000000; stroke-width: 1.5;\" x1=\"16\" x2=\"47\" y1=\"28.2969\" y2=\"28.2969\"/><text fill=\"#000000\" font-family=\"sans-serif\" font-size=\"14\" font-weight=\"bold\" lengthAdjust=\"spacingAndGlyphs\" textLength=\"18\" x=\"20\" y=\"20.9951\">P1</text></a><!--MD5=[b4997ac47864f28c2f74865a473b2911]\n",
       "class E2--><a href=\"psysml:db85db04-92da-46ca-8852-43fed38500fe\" target=\"_top\" title=\"psysml:db85db04-92da-46ca-8852-43fed38500fe\" xlink:actuate=\"onRequest\" xlink:href=\"psysml:db85db04-92da-46ca-8852-43fed38500fe\" xlink:show=\"new\" xlink:title=\"psysml:db85db04-92da-46ca-8852-43fed38500fe\" xlink:type=\"simple\"><rect fill=\"#FEFECE\" filter=\"url(#foft4gtkjqlpx)\" height=\"40\" id=\"E2\" style=\"stroke: #A80036; stroke-width: 1.5;\" width=\"40\" x=\"32\" y=\"41\"/><ellipse cx=\"47\" cy=\"57\" fill=\"#008000\" rx=\"11\" ry=\"11\" style=\"stroke: #A80036; stroke-width: 1.0;\"/><path d=\"M43.875,62 L43.875,51.4063 L47.1094,51.4063 Q49.0156,51.4063 49.9219,52.1563 Q50.8438,52.9063 50.8438,54.0781 Q50.8438,54.7656 50.4531,55.4219 Q50.0781,56.0781 49.3594,56.375 Q50.2188,56.75 50.7344,57.4375 Q51.25,58.125 51.25,58.9375 Q51.25,60.3125 50.2188,61.1563 Q49.2031,62 47.0938,62 L43.875,62 Z M45.7969,55.6406 L46.9531,55.6406 Q48.0781,55.6406 48.4844,55.2656 Q48.9063,54.875 48.9063,54.25 Q48.9063,53.6719 48.4844,53.3125 Q48.0625,52.9531 47.125,52.9531 L45.7969,52.9531 L45.7969,55.6406 Z M45.7969,60.4219 L47.2969,60.4219 Q48.2031,60.4219 48.7344,60.0313 Q49.2656,59.6406 49.2656,58.8906 Q49.2656,58.125 48.7656,57.6563 Q48.2656,57.1719 47,57.1719 L45.7969,57.1719 L45.7969,60.4219 Z \"/><text fill=\"#000000\" font-family=\"sans-serif\" font-size=\"12\" lengthAdjust=\"spacingAndGlyphs\" textLength=\"8\" x=\"61\" y=\"61.1543\">A</text><line style=\"stroke: #A80036; stroke-width: 1.5;\" x1=\"33\" x2=\"71\" y1=\"73\" y2=\"73\"/></a><!--MD5=[8a80f6699da211d9bda91cb3c7749010]\n",
       "@startuml\r\n",
       " \r\n",
       "package \"P1\" as E1  [[psysml:fb33a6e6-5dc2-431e-96a4-a3f08ce921dc ]]  {\r\n",
       "comp def \"A\" as E2 << << (B,green) >> [[psysml:db85db04-92da-46ca-8852-43fed38500fe ]] {\r\n",
       "}\r\n",
       "}\r\n",
       "@enduml\r\n",
       "\n",
       "PlantUML version 1.2020.13(Sat Jun 13 12:26:38 UTC 2020)\n",
       "(EPL source distribution)\n",
       "Java Runtime: OpenJDK Runtime Environment\n",
       "JVM: OpenJDK 64-Bit Server VM\n",
       "Default Encoding: UTF-8\n",
       "Language: en\n",
       "Country: null\n",
       "--></g></svg>"
      ]
     },
     "execution_count": 36,
     "metadata": {},
     "output_type": "execute_result"
    }
   ],
   "source": [
    "%viz --style=\"PLANTUML\" --view=\"MIXED\" \"P1\""
   ]
  },
  {
   "cell_type": "code",
   "execution_count": 37,
   "id": "c939837d",
   "metadata": {
    "execution": {
     "iopub.execute_input": "2022-04-22T09:51:50.340365Z",
     "iopub.status.busy": "2022-04-22T09:51:50.339968Z",
     "iopub.status.idle": "2022-04-22T09:51:50.359984Z",
     "shell.execute_reply": "2022-04-22T09:51:50.359656Z"
    }
   },
   "outputs": [
    {
     "data": {
      "image/svg+xml": [
       "<?xml version=\"1.0\" encoding=\"UTF-8\" standalone=\"no\"?><svg xmlns=\"http://www.w3.org/2000/svg\" xmlns:xlink=\"http://www.w3.org/1999/xlink\" contentScriptType=\"application/ecmascript\" contentStyleType=\"text/css\" height=\"115px\" preserveAspectRatio=\"none\" style=\"width:140px;height:115px;\" version=\"1.1\" viewBox=\"0 0 140 115\" width=\"140px\" zoomAndPan=\"magnify\"><defs/><g><!--MD5=[fbc87193dbaf4d95561dea2c320d4a47]\n",
       "cluster E1--><a href=\"psysml:fb33a6e6-5dc2-431e-96a4-a3f08ce921dc\" target=\"_top\" title=\"psysml:fb33a6e6-5dc2-431e-96a4-a3f08ce921dc\" xlink:actuate=\"onRequest\" xlink:href=\"psysml:fb33a6e6-5dc2-431e-96a4-a3f08ce921dc\" xlink:show=\"new\" xlink:title=\"psysml:fb33a6e6-5dc2-431e-96a4-a3f08ce921dc\" xlink:type=\"simple\"><polygon fill=\"#FFFFFF\" points=\"16,6,40,6,47,28.2969,118,28.2969,118,103,16,103,16,6\" style=\"stroke: #000000; stroke-width: 1.5;\"/><line style=\"stroke: #000000; stroke-width: 1.5;\" x1=\"16\" x2=\"47\" y1=\"28.2969\" y2=\"28.2969\"/><text fill=\"#000000\" font-family=\"sans-serif\" font-size=\"14\" font-weight=\"bold\" lengthAdjust=\"spacingAndGlyphs\" textLength=\"18\" x=\"20\" y=\"20.9951\">P1</text></a><!--MD5=[b4997ac47864f28c2f74865a473b2911]\n",
       "class E2--><a href=\"psysml:db85db04-92da-46ca-8852-43fed38500fe\" target=\"_top\" title=\"psysml:db85db04-92da-46ca-8852-43fed38500fe\" xlink:actuate=\"onRequest\" xlink:href=\"psysml:db85db04-92da-46ca-8852-43fed38500fe\" xlink:show=\"new\" xlink:title=\"psysml:db85db04-92da-46ca-8852-43fed38500fe\" xlink:type=\"simple\"><rect fill=\"#FFFFFF\" height=\"45.9375\" id=\"E2\" style=\"stroke: #383838; stroke-width: 1.5;\" width=\"70\" x=\"32\" y=\"41\"/><text fill=\"#000000\" font-family=\"sans-serif\" font-size=\"12\" font-style=\"italic\" lengthAdjust=\"spacingAndGlyphs\" textLength=\"68\" x=\"33\" y=\"57.1387\">«part  def»</text><text fill=\"#000000\" font-family=\"sans-serif\" font-size=\"12\" lengthAdjust=\"spacingAndGlyphs\" textLength=\"8\" x=\"63\" y=\"71.1074\">A</text><line style=\"stroke: #383838; stroke-width: 1.5;\" x1=\"33\" x2=\"101\" y1=\"78.9375\" y2=\"78.9375\"/></a><!--MD5=[bc4d6bfd36b185bc454e7bcd115a9626]\n",
       "@startuml\r\n",
       "skinparam monochrome true\r\n",
       "skinparam classbackgroundcolor white\r\n",
       "skinparam shadowing false\r\n",
       "skinparam wrapWidth 300\r\n",
       "hide circle\r\n",
       "\r\n",
       "package \"P1\" as E1  [[psysml:fb33a6e6-5dc2-431e-96a4-a3f08ce921dc ]]  {\r\n",
       "comp def \"A\" as E2  <<(T,blue) part  def>> [[psysml:db85db04-92da-46ca-8852-43fed38500fe ]] {\r\n",
       "}\r\n",
       "}\r\n",
       "@enduml\r\n",
       "\n",
       "PlantUML version 1.2020.13(Sat Jun 13 12:26:38 UTC 2020)\n",
       "(EPL source distribution)\n",
       "Java Runtime: OpenJDK Runtime Environment\n",
       "JVM: OpenJDK 64-Bit Server VM\n",
       "Default Encoding: UTF-8\n",
       "Language: en\n",
       "Country: null\n",
       "--></g></svg>"
      ]
     },
     "execution_count": 37,
     "metadata": {},
     "output_type": "execute_result"
    }
   ],
   "source": [
    "%viz --style=\"DEFAULT\" --view=\"Default\" \"P1\""
   ]
  },
  {
   "cell_type": "code",
   "execution_count": 38,
   "id": "5fa22473",
   "metadata": {
    "execution": {
     "iopub.execute_input": "2022-04-22T09:51:50.410034Z",
     "iopub.status.busy": "2022-04-22T09:51:50.409607Z",
     "iopub.status.idle": "2022-04-22T09:51:50.431623Z",
     "shell.execute_reply": "2022-04-22T09:51:50.431935Z"
    }
   },
   "outputs": [
    {
     "data": {
      "image/svg+xml": [
       "<?xml version=\"1.0\" encoding=\"UTF-8\" standalone=\"no\"?><svg xmlns=\"http://www.w3.org/2000/svg\" xmlns:xlink=\"http://www.w3.org/1999/xlink\" contentScriptType=\"application/ecmascript\" contentStyleType=\"text/css\" height=\"115px\" preserveAspectRatio=\"none\" style=\"width:140px;height:115px;\" version=\"1.1\" viewBox=\"0 0 140 115\" width=\"140px\" zoomAndPan=\"magnify\"><defs/><g><!--MD5=[fbc87193dbaf4d95561dea2c320d4a47]\n",
       "cluster E1--><a href=\"psysml:fb33a6e6-5dc2-431e-96a4-a3f08ce921dc\" target=\"_top\" title=\"psysml:fb33a6e6-5dc2-431e-96a4-a3f08ce921dc\" xlink:actuate=\"onRequest\" xlink:href=\"psysml:fb33a6e6-5dc2-431e-96a4-a3f08ce921dc\" xlink:show=\"new\" xlink:title=\"psysml:fb33a6e6-5dc2-431e-96a4-a3f08ce921dc\" xlink:type=\"simple\"><polygon fill=\"#FFFFFF\" points=\"16,6,40,6,47,28.2969,118,28.2969,118,103,16,103,16,6\" style=\"stroke: #000000; stroke-width: 1.5;\"/><line style=\"stroke: #000000; stroke-width: 1.5;\" x1=\"16\" x2=\"47\" y1=\"28.2969\" y2=\"28.2969\"/><text fill=\"#000000\" font-family=\"sans-serif\" font-size=\"14\" font-weight=\"bold\" lengthAdjust=\"spacingAndGlyphs\" textLength=\"18\" x=\"20\" y=\"20.9951\">P1</text></a><!--MD5=[b4997ac47864f28c2f74865a473b2911]\n",
       "class E2--><a href=\"psysml:db85db04-92da-46ca-8852-43fed38500fe\" target=\"_top\" title=\"psysml:db85db04-92da-46ca-8852-43fed38500fe\" xlink:actuate=\"onRequest\" xlink:href=\"psysml:db85db04-92da-46ca-8852-43fed38500fe\" xlink:show=\"new\" xlink:title=\"psysml:db85db04-92da-46ca-8852-43fed38500fe\" xlink:type=\"simple\"><rect fill=\"#FFFFFF\" height=\"45.9375\" id=\"E2\" style=\"stroke: #383838; stroke-width: 1.5;\" width=\"70\" x=\"32\" y=\"41\"/><text fill=\"#000000\" font-family=\"sans-serif\" font-size=\"12\" font-style=\"italic\" lengthAdjust=\"spacingAndGlyphs\" textLength=\"68\" x=\"33\" y=\"57.1387\">«part  def»</text><text fill=\"#000000\" font-family=\"sans-serif\" font-size=\"12\" lengthAdjust=\"spacingAndGlyphs\" textLength=\"8\" x=\"63\" y=\"71.1074\">A</text><line style=\"stroke: #383838; stroke-width: 1.5;\" x1=\"33\" x2=\"101\" y1=\"78.9375\" y2=\"78.9375\"/></a><!--MD5=[bc4d6bfd36b185bc454e7bcd115a9626]\n",
       "@startuml\r\n",
       "skinparam monochrome true\r\n",
       "skinparam classbackgroundcolor white\r\n",
       "skinparam shadowing false\r\n",
       "skinparam wrapWidth 300\r\n",
       "hide circle\r\n",
       "\r\n",
       "package \"P1\" as E1  [[psysml:fb33a6e6-5dc2-431e-96a4-a3f08ce921dc ]]  {\r\n",
       "comp def \"A\" as E2  <<(T,blue) part  def>> [[psysml:db85db04-92da-46ca-8852-43fed38500fe ]] {\r\n",
       "}\r\n",
       "}\r\n",
       "@enduml\r\n",
       "\n",
       "PlantUML version 1.2020.13(Sat Jun 13 12:26:38 UTC 2020)\n",
       "(EPL source distribution)\n",
       "Java Runtime: OpenJDK Runtime Environment\n",
       "JVM: OpenJDK 64-Bit Server VM\n",
       "Default Encoding: UTF-8\n",
       "Language: en\n",
       "Country: null\n",
       "--></g></svg>"
      ]
     },
     "execution_count": 38,
     "metadata": {},
     "output_type": "execute_result"
    }
   ],
   "source": [
    "%viz --style=\"DEFAULT\" --view=\"Tree\" \"P1\""
   ]
  },
  {
   "cell_type": "code",
   "execution_count": 39,
   "id": "b987889f",
   "metadata": {
    "execution": {
     "iopub.execute_input": "2022-04-22T09:51:50.482149Z",
     "iopub.status.busy": "2022-04-22T09:51:50.481681Z",
     "iopub.status.idle": "2022-04-22T09:51:50.486292Z",
     "shell.execute_reply": "2022-04-22T09:51:50.486594Z"
    }
   },
   "outputs": [
    {
     "data": {
      "image/svg+xml": [
       "<?xml version=\"1.0\" encoding=\"UTF-8\" standalone=\"no\"?><svg xmlns=\"http://www.w3.org/2000/svg\" xmlns:xlink=\"http://www.w3.org/1999/xlink\" contentScriptType=\"application/ecmascript\" contentStyleType=\"text/css\" height=\"12px\" preserveAspectRatio=\"none\" style=\"width:12px;height:12px;\" version=\"1.1\" viewBox=\"0 0 12 12\" width=\"12px\" zoomAndPan=\"magnify\"><defs/><g><!--MD5=[c5f280e076d0d61ccf4b0f27871bda1d]\n",
       "@startuml\r\n",
       "skinparam monochrome true\r\n",
       "skinparam classbackgroundcolor white\r\n",
       "skinparam shadowing false\r\n",
       "skinparam wrapWidth 300\r\n",
       "hide circle\r\n",
       "\r\n",
       "@enduml\r\n",
       "\n",
       "PlantUML version 1.2020.13(Sat Jun 13 12:26:38 UTC 2020)\n",
       "(EPL source distribution)\n",
       "Java Runtime: OpenJDK Runtime Environment\n",
       "JVM: OpenJDK 64-Bit Server VM\n",
       "Default Encoding: UTF-8\n",
       "Language: en\n",
       "Country: null\n",
       "--></g></svg>"
      ]
     },
     "execution_count": 39,
     "metadata": {},
     "output_type": "execute_result"
    }
   ],
   "source": [
    "%viz --style=\"DEFAULT\" --view=\"State\" \"P1\""
   ]
  },
  {
   "cell_type": "code",
   "execution_count": 40,
   "id": "057e79ac",
   "metadata": {
    "execution": {
     "iopub.execute_input": "2022-04-22T09:51:50.536715Z",
     "iopub.status.busy": "2022-04-22T09:51:50.536319Z",
     "iopub.status.idle": "2022-04-22T09:51:50.560242Z",
     "shell.execute_reply": "2022-04-22T09:51:50.560558Z"
    }
   },
   "outputs": [
    {
     "data": {
      "image/svg+xml": [
       "<?xml version=\"1.0\" encoding=\"UTF-8\" standalone=\"no\"?><svg xmlns=\"http://www.w3.org/2000/svg\" xmlns:xlink=\"http://www.w3.org/1999/xlink\" contentScriptType=\"application/ecmascript\" contentStyleType=\"text/css\" height=\"112px\" preserveAspectRatio=\"none\" style=\"width:144px;height:112px;\" version=\"1.1\" viewBox=\"0 0 144 112\" width=\"144px\" zoomAndPan=\"magnify\"><defs/><g><!--MD5=[fbc87193dbaf4d95561dea2c320d4a47]\n",
       "cluster E1--><a href=\"psysml:fb33a6e6-5dc2-431e-96a4-a3f08ce921dc\" target=\"_top\" title=\"psysml:fb33a6e6-5dc2-431e-96a4-a3f08ce921dc\" xlink:actuate=\"onRequest\" xlink:href=\"psysml:fb33a6e6-5dc2-431e-96a4-a3f08ce921dc\" xlink:show=\"new\" xlink:title=\"psysml:fb33a6e6-5dc2-431e-96a4-a3f08ce921dc\" xlink:type=\"simple\"><polygon fill=\"#FFFFFF\" points=\"16,6,40,6,47,28.2969,122,28.2969,122,100,16,100,16,6\" style=\"stroke: #000000; stroke-width: 1.5;\"/><line style=\"stroke: #000000; stroke-width: 1.5;\" x1=\"16\" x2=\"47\" y1=\"28.2969\" y2=\"28.2969\"/><text fill=\"#000000\" font-family=\"sans-serif\" font-size=\"14\" font-weight=\"bold\" lengthAdjust=\"spacingAndGlyphs\" textLength=\"18\" x=\"20\" y=\"20.9951\">P1</text></a><g id=\"E1.E2\"><a href=\"psysml:db85db04-92da-46ca-8852-43fed38500fe\" target=\"_top\" title=\"psysml:db85db04-92da-46ca-8852-43fed38500fe\" xlink:actuate=\"onRequest\" xlink:href=\"psysml:db85db04-92da-46ca-8852-43fed38500fe\" xlink:show=\"new\" xlink:title=\"psysml:db85db04-92da-46ca-8852-43fed38500fe\" xlink:type=\"simple\"><rect fill=\"#FFFFFF\" height=\"42.9375\" id=\"E2\" style=\"stroke: #383838; stroke-width: 1.5;\" width=\"75\" x=\"31.5\" y=\"41\"/><rect fill=\"#F8F8F8\" height=\"37.9375\" style=\"stroke: #383838; stroke-width: 1.5;\" width=\"75\" x=\"31.5\" y=\"41\"/><text fill=\"#000000\" font-family=\"sans-serif\" font-size=\"12\" font-style=\"italic\" lengthAdjust=\"spacingAndGlyphs\" textLength=\"68\" x=\"35\" y=\"57.1387\">«part  def»</text><text fill=\"#000000\" font-family=\"sans-serif\" font-size=\"12\" lengthAdjust=\"spacingAndGlyphs\" textLength=\"8\" x=\"65\" y=\"71.1074\">A</text></a></g><!--MD5=[441c8d588ca0456fe920f4a38f4140ae]\n",
       "@startuml\r\n",
       "skinparam ranksep 10\r\n",
       "skinparam rectangle {\r\n",
       " backgroundColor<<block>> LightGreen\r\n",
       "}\r\n",
       "skinparam monochrome true\r\n",
       "skinparam classbackgroundcolor white\r\n",
       "skinparam shadowing false\r\n",
       "skinparam wrapWidth 300\r\n",
       "hide circle\r\n",
       "\r\n",
       "package \"P1\" as E1  [[psysml:fb33a6e6-5dc2-431e-96a4-a3f08ce921dc ]]  {\r\n",
       "rec def \"A\" as E2  <<(T,blue) part  def>> [[psysml:db85db04-92da-46ca-8852-43fed38500fe ]] {\r\n",
       "}\r\n",
       "}\r\n",
       "@enduml\r\n",
       "\n",
       "PlantUML version 1.2020.13(Sat Jun 13 12:26:38 UTC 2020)\n",
       "(EPL source distribution)\n",
       "Java Runtime: OpenJDK Runtime Environment\n",
       "JVM: OpenJDK 64-Bit Server VM\n",
       "Default Encoding: UTF-8\n",
       "Language: en\n",
       "Country: null\n",
       "--></g></svg>"
      ]
     },
     "execution_count": 40,
     "metadata": {},
     "output_type": "execute_result"
    }
   ],
   "source": [
    "%viz --style=\"DEFAULT\" --view=\"Interconnection\" \"P1\""
   ]
  },
  {
   "cell_type": "code",
   "execution_count": 41,
   "id": "be390712",
   "metadata": {
    "execution": {
     "iopub.execute_input": "2022-04-22T09:51:50.610761Z",
     "iopub.status.busy": "2022-04-22T09:51:50.610305Z",
     "iopub.status.idle": "2022-04-22T09:51:50.614951Z",
     "shell.execute_reply": "2022-04-22T09:51:50.615238Z"
    }
   },
   "outputs": [
    {
     "data": {
      "image/svg+xml": [
       "<?xml version=\"1.0\" encoding=\"UTF-8\" standalone=\"no\"?><svg xmlns=\"http://www.w3.org/2000/svg\" xmlns:xlink=\"http://www.w3.org/1999/xlink\" contentScriptType=\"application/ecmascript\" contentStyleType=\"text/css\" height=\"12px\" preserveAspectRatio=\"none\" style=\"width:12px;height:12px;\" version=\"1.1\" viewBox=\"0 0 12 12\" width=\"12px\" zoomAndPan=\"magnify\"><defs/><g><!--MD5=[388f21188e31bfdd97050473b19af356]\n",
       "@startuml\r\n",
       "skinparam ranksep 8\r\n",
       "skinparam monochrome true\r\n",
       "skinparam classbackgroundcolor white\r\n",
       "skinparam shadowing false\r\n",
       "skinparam wrapWidth 300\r\n",
       "hide circle\r\n",
       "\r\n",
       "@enduml\r\n",
       "\n",
       "PlantUML version 1.2020.13(Sat Jun 13 12:26:38 UTC 2020)\n",
       "(EPL source distribution)\n",
       "Java Runtime: OpenJDK Runtime Environment\n",
       "JVM: OpenJDK 64-Bit Server VM\n",
       "Default Encoding: UTF-8\n",
       "Language: en\n",
       "Country: null\n",
       "--></g></svg>"
      ]
     },
     "execution_count": 41,
     "metadata": {},
     "output_type": "execute_result"
    }
   ],
   "source": [
    "%viz --style=\"DEFAULT\" --view=\"Action\" \"P1\""
   ]
  },
  {
   "cell_type": "code",
   "execution_count": 42,
   "id": "8e6c24a0",
   "metadata": {
    "execution": {
     "iopub.execute_input": "2022-04-22T09:51:50.665336Z",
     "iopub.status.busy": "2022-04-22T09:51:50.664924Z",
     "iopub.status.idle": "2022-04-22T09:51:50.669994Z",
     "shell.execute_reply": "2022-04-22T09:51:50.669667Z"
    }
   },
   "outputs": [
    {
     "data": {
      "image/svg+xml": [
       "<?xml version=\"1.0\" encoding=\"UTF-8\" standalone=\"no\"?><svg xmlns=\"http://www.w3.org/2000/svg\" xmlns:xlink=\"http://www.w3.org/1999/xlink\" contentScriptType=\"application/ecmascript\" contentStyleType=\"text/css\" height=\"12px\" preserveAspectRatio=\"none\" style=\"width:12px;height:12px;\" version=\"1.1\" viewBox=\"0 0 12 12\" width=\"12px\" zoomAndPan=\"magnify\"><defs/><g><!--MD5=[0b72472770326784bf6c2b53246e1e64]\n",
       "@startuml\r\n",
       "skinparam roundcorner 20\r\n",
       "skinparam BoxPadding 20\r\n",
       "skinparam SequenceBoxBackgroundColor #white\r\n",
       "skinparam style strictuml\r\n",
       "skinparam maxMessageSize 100\r\n",
       "skinparam monochrome true\r\n",
       "skinparam classbackgroundcolor white\r\n",
       "skinparam shadowing false\r\n",
       "skinparam wrapWidth 300\r\n",
       "hide circle\r\n",
       "\r\n",
       "@enduml\r\n",
       "\n",
       "PlantUML version 1.2020.13(Sat Jun 13 12:26:38 UTC 2020)\n",
       "(EPL source distribution)\n",
       "Java Runtime: OpenJDK Runtime Environment\n",
       "JVM: OpenJDK 64-Bit Server VM\n",
       "Default Encoding: UTF-8\n",
       "Language: en\n",
       "Country: null\n",
       "--></g></svg>"
      ]
     },
     "execution_count": 42,
     "metadata": {},
     "output_type": "execute_result"
    }
   ],
   "source": [
    "%viz --style=\"DEFAULT\" --view=\"Sequence\" \"P1\""
   ]
  },
  {
   "cell_type": "code",
   "execution_count": 43,
   "id": "4b554d27",
   "metadata": {
    "execution": {
     "iopub.execute_input": "2022-04-22T09:51:50.719986Z",
     "iopub.status.busy": "2022-04-22T09:51:50.719563Z",
     "iopub.status.idle": "2022-04-22T09:51:50.741402Z",
     "shell.execute_reply": "2022-04-22T09:51:50.741057Z"
    }
   },
   "outputs": [
    {
     "data": {
      "image/svg+xml": [
       "<?xml version=\"1.0\" encoding=\"UTF-8\" standalone=\"no\"?><svg xmlns=\"http://www.w3.org/2000/svg\" xmlns:xlink=\"http://www.w3.org/1999/xlink\" contentScriptType=\"application/ecmascript\" contentStyleType=\"text/css\" height=\"115px\" preserveAspectRatio=\"none\" style=\"width:140px;height:115px;\" version=\"1.1\" viewBox=\"0 0 140 115\" width=\"140px\" zoomAndPan=\"magnify\"><defs/><g><!--MD5=[fbc87193dbaf4d95561dea2c320d4a47]\n",
       "cluster E1--><a href=\"psysml:fb33a6e6-5dc2-431e-96a4-a3f08ce921dc\" target=\"_top\" title=\"psysml:fb33a6e6-5dc2-431e-96a4-a3f08ce921dc\" xlink:actuate=\"onRequest\" xlink:href=\"psysml:fb33a6e6-5dc2-431e-96a4-a3f08ce921dc\" xlink:show=\"new\" xlink:title=\"psysml:fb33a6e6-5dc2-431e-96a4-a3f08ce921dc\" xlink:type=\"simple\"><polygon fill=\"#FFFFFF\" points=\"16,6,40,6,47,28.2969,118,28.2969,118,103,16,103,16,6\" style=\"stroke: #000000; stroke-width: 1.5;\"/><line style=\"stroke: #000000; stroke-width: 1.5;\" x1=\"16\" x2=\"47\" y1=\"28.2969\" y2=\"28.2969\"/><text fill=\"#000000\" font-family=\"sans-serif\" font-size=\"14\" font-weight=\"bold\" lengthAdjust=\"spacingAndGlyphs\" textLength=\"18\" x=\"20\" y=\"20.9951\">P1</text></a><!--MD5=[b4997ac47864f28c2f74865a473b2911]\n",
       "class E2--><a href=\"psysml:db85db04-92da-46ca-8852-43fed38500fe\" target=\"_top\" title=\"psysml:db85db04-92da-46ca-8852-43fed38500fe\" xlink:actuate=\"onRequest\" xlink:href=\"psysml:db85db04-92da-46ca-8852-43fed38500fe\" xlink:show=\"new\" xlink:title=\"psysml:db85db04-92da-46ca-8852-43fed38500fe\" xlink:type=\"simple\"><rect fill=\"#FFFFFF\" height=\"45.9375\" id=\"E2\" style=\"stroke: #383838; stroke-width: 1.5;\" width=\"70\" x=\"32\" y=\"41\"/><text fill=\"#000000\" font-family=\"sans-serif\" font-size=\"12\" font-style=\"italic\" lengthAdjust=\"spacingAndGlyphs\" textLength=\"68\" x=\"33\" y=\"57.1387\">«part  def»</text><text fill=\"#000000\" font-family=\"sans-serif\" font-size=\"12\" lengthAdjust=\"spacingAndGlyphs\" textLength=\"8\" x=\"63\" y=\"71.1074\">A</text><line style=\"stroke: #383838; stroke-width: 1.5;\" x1=\"33\" x2=\"101\" y1=\"78.9375\" y2=\"78.9375\"/></a><!--MD5=[bc4d6bfd36b185bc454e7bcd115a9626]\n",
       "@startuml\r\n",
       "skinparam monochrome true\r\n",
       "skinparam classbackgroundcolor white\r\n",
       "skinparam shadowing false\r\n",
       "skinparam wrapWidth 300\r\n",
       "hide circle\r\n",
       "\r\n",
       "package \"P1\" as E1  [[psysml:fb33a6e6-5dc2-431e-96a4-a3f08ce921dc ]]  {\r\n",
       "comp def \"A\" as E2  <<(T,blue) part  def>> [[psysml:db85db04-92da-46ca-8852-43fed38500fe ]] {\r\n",
       "}\r\n",
       "}\r\n",
       "@enduml\r\n",
       "\n",
       "PlantUML version 1.2020.13(Sat Jun 13 12:26:38 UTC 2020)\n",
       "(EPL source distribution)\n",
       "Java Runtime: OpenJDK Runtime Environment\n",
       "JVM: OpenJDK 64-Bit Server VM\n",
       "Default Encoding: UTF-8\n",
       "Language: en\n",
       "Country: null\n",
       "--></g></svg>"
      ]
     },
     "execution_count": 43,
     "metadata": {},
     "output_type": "execute_result"
    }
   ],
   "source": [
    "%viz --style=\"DEFAULT\" --view=\"MIXED\" \"P1\""
   ]
  },
  {
   "cell_type": "code",
   "execution_count": 44,
   "id": "d43f79cd",
   "metadata": {
    "execution": {
     "iopub.execute_input": "2022-04-22T09:51:50.791249Z",
     "iopub.status.busy": "2022-04-22T09:51:50.790854Z",
     "iopub.status.idle": "2022-04-22T09:51:50.809972Z",
     "shell.execute_reply": "2022-04-22T09:51:50.810285Z"
    }
   },
   "outputs": [
    {
     "data": {
      "image/svg+xml": [
       "<?xml version=\"1.0\" encoding=\"UTF-8\" standalone=\"no\"?><svg xmlns=\"http://www.w3.org/2000/svg\" xmlns:xlink=\"http://www.w3.org/1999/xlink\" contentScriptType=\"application/ecmascript\" contentStyleType=\"text/css\" height=\"115px\" preserveAspectRatio=\"none\" style=\"width:140px;height:115px;\" version=\"1.1\" viewBox=\"0 0 140 115\" width=\"140px\" zoomAndPan=\"magnify\"><defs/><g><!--MD5=[fbc87193dbaf4d95561dea2c320d4a47]\n",
       "cluster E1--><a href=\"psysml:fb33a6e6-5dc2-431e-96a4-a3f08ce921dc\" target=\"_top\" title=\"psysml:fb33a6e6-5dc2-431e-96a4-a3f08ce921dc\" xlink:actuate=\"onRequest\" xlink:href=\"psysml:fb33a6e6-5dc2-431e-96a4-a3f08ce921dc\" xlink:show=\"new\" xlink:title=\"psysml:fb33a6e6-5dc2-431e-96a4-a3f08ce921dc\" xlink:type=\"simple\"><polygon fill=\"#FFFFFF\" points=\"16,6,40,6,47,28.2969,118,28.2969,118,103,16,103,16,6\" style=\"stroke: #000000; stroke-width: 1.5;\"/><line style=\"stroke: #000000; stroke-width: 1.5;\" x1=\"16\" x2=\"47\" y1=\"28.2969\" y2=\"28.2969\"/><text fill=\"#000000\" font-family=\"sans-serif\" font-size=\"14\" font-weight=\"bold\" lengthAdjust=\"spacingAndGlyphs\" textLength=\"18\" x=\"20\" y=\"20.9951\">P1</text></a><!--MD5=[b4997ac47864f28c2f74865a473b2911]\n",
       "class E2--><a href=\"psysml:db85db04-92da-46ca-8852-43fed38500fe\" target=\"_top\" title=\"psysml:db85db04-92da-46ca-8852-43fed38500fe\" xlink:actuate=\"onRequest\" xlink:href=\"psysml:db85db04-92da-46ca-8852-43fed38500fe\" xlink:show=\"new\" xlink:title=\"psysml:db85db04-92da-46ca-8852-43fed38500fe\" xlink:type=\"simple\"><rect fill=\"#FFFFFF\" height=\"45.9375\" id=\"E2\" style=\"stroke: #383838; stroke-width: 1.5;\" width=\"70\" x=\"32\" y=\"41\"/><text fill=\"#000000\" font-family=\"sans-serif\" font-size=\"12\" font-style=\"italic\" lengthAdjust=\"spacingAndGlyphs\" textLength=\"68\" x=\"33\" y=\"57.1387\">«part  def»</text><text fill=\"#000000\" font-family=\"sans-serif\" font-size=\"12\" lengthAdjust=\"spacingAndGlyphs\" textLength=\"8\" x=\"63\" y=\"71.1074\">A</text><line style=\"stroke: #383838; stroke-width: 1.5;\" x1=\"33\" x2=\"101\" y1=\"78.9375\" y2=\"78.9375\"/></a><!--MD5=[dfb26a884119fd7427d54ca17227e7e9]\n",
       "@startuml\r\n",
       "top to bottom direction\r\n",
       "skinparam monochrome true\r\n",
       "skinparam classbackgroundcolor white\r\n",
       "skinparam shadowing false\r\n",
       "skinparam wrapWidth 300\r\n",
       "hide circle\r\n",
       "\r\n",
       "package \"P1\" as E1  [[psysml:fb33a6e6-5dc2-431e-96a4-a3f08ce921dc ]]  {\r\n",
       "comp def \"A\" as E2  <<(T,blue) part  def>> [[psysml:db85db04-92da-46ca-8852-43fed38500fe ]] {\r\n",
       "}\r\n",
       "}\r\n",
       "@enduml\r\n",
       "\n",
       "PlantUML version 1.2020.13(Sat Jun 13 12:26:38 UTC 2020)\n",
       "(EPL source distribution)\n",
       "Java Runtime: OpenJDK Runtime Environment\n",
       "JVM: OpenJDK 64-Bit Server VM\n",
       "Default Encoding: UTF-8\n",
       "Language: en\n",
       "Country: null\n",
       "--></g></svg>"
      ]
     },
     "execution_count": 44,
     "metadata": {},
     "output_type": "execute_result"
    }
   ],
   "source": [
    "%viz --style=\"TB\" --view=\"Default\" \"P1\""
   ]
  },
  {
   "cell_type": "code",
   "execution_count": 45,
   "id": "289c3de6",
   "metadata": {
    "execution": {
     "iopub.execute_input": "2022-04-22T09:51:50.860208Z",
     "iopub.status.busy": "2022-04-22T09:51:50.859812Z",
     "iopub.status.idle": "2022-04-22T09:51:50.882213Z",
     "shell.execute_reply": "2022-04-22T09:51:50.881870Z"
    }
   },
   "outputs": [
    {
     "data": {
      "image/svg+xml": [
       "<?xml version=\"1.0\" encoding=\"UTF-8\" standalone=\"no\"?><svg xmlns=\"http://www.w3.org/2000/svg\" xmlns:xlink=\"http://www.w3.org/1999/xlink\" contentScriptType=\"application/ecmascript\" contentStyleType=\"text/css\" height=\"115px\" preserveAspectRatio=\"none\" style=\"width:140px;height:115px;\" version=\"1.1\" viewBox=\"0 0 140 115\" width=\"140px\" zoomAndPan=\"magnify\"><defs/><g><!--MD5=[fbc87193dbaf4d95561dea2c320d4a47]\n",
       "cluster E1--><a href=\"psysml:fb33a6e6-5dc2-431e-96a4-a3f08ce921dc\" target=\"_top\" title=\"psysml:fb33a6e6-5dc2-431e-96a4-a3f08ce921dc\" xlink:actuate=\"onRequest\" xlink:href=\"psysml:fb33a6e6-5dc2-431e-96a4-a3f08ce921dc\" xlink:show=\"new\" xlink:title=\"psysml:fb33a6e6-5dc2-431e-96a4-a3f08ce921dc\" xlink:type=\"simple\"><polygon fill=\"#FFFFFF\" points=\"16,6,40,6,47,28.2969,118,28.2969,118,103,16,103,16,6\" style=\"stroke: #000000; stroke-width: 1.5;\"/><line style=\"stroke: #000000; stroke-width: 1.5;\" x1=\"16\" x2=\"47\" y1=\"28.2969\" y2=\"28.2969\"/><text fill=\"#000000\" font-family=\"sans-serif\" font-size=\"14\" font-weight=\"bold\" lengthAdjust=\"spacingAndGlyphs\" textLength=\"18\" x=\"20\" y=\"20.9951\">P1</text></a><!--MD5=[b4997ac47864f28c2f74865a473b2911]\n",
       "class E2--><a href=\"psysml:db85db04-92da-46ca-8852-43fed38500fe\" target=\"_top\" title=\"psysml:db85db04-92da-46ca-8852-43fed38500fe\" xlink:actuate=\"onRequest\" xlink:href=\"psysml:db85db04-92da-46ca-8852-43fed38500fe\" xlink:show=\"new\" xlink:title=\"psysml:db85db04-92da-46ca-8852-43fed38500fe\" xlink:type=\"simple\"><rect fill=\"#FFFFFF\" height=\"45.9375\" id=\"E2\" style=\"stroke: #383838; stroke-width: 1.5;\" width=\"70\" x=\"32\" y=\"41\"/><text fill=\"#000000\" font-family=\"sans-serif\" font-size=\"12\" font-style=\"italic\" lengthAdjust=\"spacingAndGlyphs\" textLength=\"68\" x=\"33\" y=\"57.1387\">«part  def»</text><text fill=\"#000000\" font-family=\"sans-serif\" font-size=\"12\" lengthAdjust=\"spacingAndGlyphs\" textLength=\"8\" x=\"63\" y=\"71.1074\">A</text><line style=\"stroke: #383838; stroke-width: 1.5;\" x1=\"33\" x2=\"101\" y1=\"78.9375\" y2=\"78.9375\"/></a><!--MD5=[dfb26a884119fd7427d54ca17227e7e9]\n",
       "@startuml\r\n",
       "top to bottom direction\r\n",
       "skinparam monochrome true\r\n",
       "skinparam classbackgroundcolor white\r\n",
       "skinparam shadowing false\r\n",
       "skinparam wrapWidth 300\r\n",
       "hide circle\r\n",
       "\r\n",
       "package \"P1\" as E1  [[psysml:fb33a6e6-5dc2-431e-96a4-a3f08ce921dc ]]  {\r\n",
       "comp def \"A\" as E2  <<(T,blue) part  def>> [[psysml:db85db04-92da-46ca-8852-43fed38500fe ]] {\r\n",
       "}\r\n",
       "}\r\n",
       "@enduml\r\n",
       "\n",
       "PlantUML version 1.2020.13(Sat Jun 13 12:26:38 UTC 2020)\n",
       "(EPL source distribution)\n",
       "Java Runtime: OpenJDK Runtime Environment\n",
       "JVM: OpenJDK 64-Bit Server VM\n",
       "Default Encoding: UTF-8\n",
       "Language: en\n",
       "Country: null\n",
       "--></g></svg>"
      ]
     },
     "execution_count": 45,
     "metadata": {},
     "output_type": "execute_result"
    }
   ],
   "source": [
    "%viz --style=\"TB\" --view=\"Tree\" \"P1\""
   ]
  },
  {
   "cell_type": "code",
   "execution_count": 46,
   "id": "68eb8c67",
   "metadata": {
    "execution": {
     "iopub.execute_input": "2022-04-22T09:51:50.932055Z",
     "iopub.status.busy": "2022-04-22T09:51:50.931659Z",
     "iopub.status.idle": "2022-04-22T09:51:50.936098Z",
     "shell.execute_reply": "2022-04-22T09:51:50.935777Z"
    }
   },
   "outputs": [
    {
     "data": {
      "image/svg+xml": [
       "<?xml version=\"1.0\" encoding=\"UTF-8\" standalone=\"no\"?><svg xmlns=\"http://www.w3.org/2000/svg\" xmlns:xlink=\"http://www.w3.org/1999/xlink\" contentScriptType=\"application/ecmascript\" contentStyleType=\"text/css\" height=\"12px\" preserveAspectRatio=\"none\" style=\"width:12px;height:12px;\" version=\"1.1\" viewBox=\"0 0 12 12\" width=\"12px\" zoomAndPan=\"magnify\"><defs/><g><!--MD5=[f4ee21bc66e489b5061b7c3e9601fdef]\n",
       "@startuml\r\n",
       "top to bottom direction\r\n",
       "skinparam monochrome true\r\n",
       "skinparam classbackgroundcolor white\r\n",
       "skinparam shadowing false\r\n",
       "skinparam wrapWidth 300\r\n",
       "hide circle\r\n",
       "\r\n",
       "@enduml\r\n",
       "\n",
       "PlantUML version 1.2020.13(Sat Jun 13 12:26:38 UTC 2020)\n",
       "(EPL source distribution)\n",
       "Java Runtime: OpenJDK Runtime Environment\n",
       "JVM: OpenJDK 64-Bit Server VM\n",
       "Default Encoding: UTF-8\n",
       "Language: en\n",
       "Country: null\n",
       "--></g></svg>"
      ]
     },
     "execution_count": 46,
     "metadata": {},
     "output_type": "execute_result"
    }
   ],
   "source": [
    "%viz --style=\"TB\" --view=\"State\" \"P1\""
   ]
  },
  {
   "cell_type": "code",
   "execution_count": 47,
   "id": "644aadd1",
   "metadata": {
    "execution": {
     "iopub.execute_input": "2022-04-22T09:51:50.986031Z",
     "iopub.status.busy": "2022-04-22T09:51:50.985638Z",
     "iopub.status.idle": "2022-04-22T09:51:51.008553Z",
     "shell.execute_reply": "2022-04-22T09:51:51.008233Z"
    }
   },
   "outputs": [
    {
     "data": {
      "image/svg+xml": [
       "<?xml version=\"1.0\" encoding=\"UTF-8\" standalone=\"no\"?><svg xmlns=\"http://www.w3.org/2000/svg\" xmlns:xlink=\"http://www.w3.org/1999/xlink\" contentScriptType=\"application/ecmascript\" contentStyleType=\"text/css\" height=\"112px\" preserveAspectRatio=\"none\" style=\"width:144px;height:112px;\" version=\"1.1\" viewBox=\"0 0 144 112\" width=\"144px\" zoomAndPan=\"magnify\"><defs/><g><!--MD5=[fbc87193dbaf4d95561dea2c320d4a47]\n",
       "cluster E1--><a href=\"psysml:fb33a6e6-5dc2-431e-96a4-a3f08ce921dc\" target=\"_top\" title=\"psysml:fb33a6e6-5dc2-431e-96a4-a3f08ce921dc\" xlink:actuate=\"onRequest\" xlink:href=\"psysml:fb33a6e6-5dc2-431e-96a4-a3f08ce921dc\" xlink:show=\"new\" xlink:title=\"psysml:fb33a6e6-5dc2-431e-96a4-a3f08ce921dc\" xlink:type=\"simple\"><polygon fill=\"#FFFFFF\" points=\"16,6,40,6,47,28.2969,122,28.2969,122,100,16,100,16,6\" style=\"stroke: #000000; stroke-width: 1.5;\"/><line style=\"stroke: #000000; stroke-width: 1.5;\" x1=\"16\" x2=\"47\" y1=\"28.2969\" y2=\"28.2969\"/><text fill=\"#000000\" font-family=\"sans-serif\" font-size=\"14\" font-weight=\"bold\" lengthAdjust=\"spacingAndGlyphs\" textLength=\"18\" x=\"20\" y=\"20.9951\">P1</text></a><g id=\"E1.E2\"><a href=\"psysml:db85db04-92da-46ca-8852-43fed38500fe\" target=\"_top\" title=\"psysml:db85db04-92da-46ca-8852-43fed38500fe\" xlink:actuate=\"onRequest\" xlink:href=\"psysml:db85db04-92da-46ca-8852-43fed38500fe\" xlink:show=\"new\" xlink:title=\"psysml:db85db04-92da-46ca-8852-43fed38500fe\" xlink:type=\"simple\"><rect fill=\"#FFFFFF\" height=\"42.9375\" id=\"E2\" style=\"stroke: #383838; stroke-width: 1.5;\" width=\"75\" x=\"31.5\" y=\"41\"/><rect fill=\"#F8F8F8\" height=\"37.9375\" style=\"stroke: #383838; stroke-width: 1.5;\" width=\"75\" x=\"31.5\" y=\"41\"/><text fill=\"#000000\" font-family=\"sans-serif\" font-size=\"12\" font-style=\"italic\" lengthAdjust=\"spacingAndGlyphs\" textLength=\"68\" x=\"35\" y=\"57.1387\">«part  def»</text><text fill=\"#000000\" font-family=\"sans-serif\" font-size=\"12\" lengthAdjust=\"spacingAndGlyphs\" textLength=\"8\" x=\"65\" y=\"71.1074\">A</text></a></g><!--MD5=[51856ff9dda168eeb8a8b8bbd63febf7]\n",
       "@startuml\r\n",
       "skinparam ranksep 10\r\n",
       "skinparam rectangle {\r\n",
       " backgroundColor<<block>> LightGreen\r\n",
       "}\r\n",
       "top to bottom direction\r\n",
       "skinparam monochrome true\r\n",
       "skinparam classbackgroundcolor white\r\n",
       "skinparam shadowing false\r\n",
       "skinparam wrapWidth 300\r\n",
       "hide circle\r\n",
       "\r\n",
       "package \"P1\" as E1  [[psysml:fb33a6e6-5dc2-431e-96a4-a3f08ce921dc ]]  {\r\n",
       "rec def \"A\" as E2  <<(T,blue) part  def>> [[psysml:db85db04-92da-46ca-8852-43fed38500fe ]] {\r\n",
       "}\r\n",
       "}\r\n",
       "@enduml\r\n",
       "\n",
       "PlantUML version 1.2020.13(Sat Jun 13 12:26:38 UTC 2020)\n",
       "(EPL source distribution)\n",
       "Java Runtime: OpenJDK Runtime Environment\n",
       "JVM: OpenJDK 64-Bit Server VM\n",
       "Default Encoding: UTF-8\n",
       "Language: en\n",
       "Country: null\n",
       "--></g></svg>"
      ]
     },
     "execution_count": 47,
     "metadata": {},
     "output_type": "execute_result"
    }
   ],
   "source": [
    "%viz --style=\"TB\" --view=\"Interconnection\" \"P1\""
   ]
  },
  {
   "cell_type": "code",
   "execution_count": 48,
   "id": "357f2a51",
   "metadata": {
    "execution": {
     "iopub.execute_input": "2022-04-22T09:51:51.058780Z",
     "iopub.status.busy": "2022-04-22T09:51:51.058384Z",
     "iopub.status.idle": "2022-04-22T09:51:51.063002Z",
     "shell.execute_reply": "2022-04-22T09:51:51.063288Z"
    }
   },
   "outputs": [
    {
     "data": {
      "image/svg+xml": [
       "<?xml version=\"1.0\" encoding=\"UTF-8\" standalone=\"no\"?><svg xmlns=\"http://www.w3.org/2000/svg\" xmlns:xlink=\"http://www.w3.org/1999/xlink\" contentScriptType=\"application/ecmascript\" contentStyleType=\"text/css\" height=\"12px\" preserveAspectRatio=\"none\" style=\"width:12px;height:12px;\" version=\"1.1\" viewBox=\"0 0 12 12\" width=\"12px\" zoomAndPan=\"magnify\"><defs/><g><!--MD5=[06afc254b03ac5e9d9fb7773b07d0800]\n",
       "@startuml\r\n",
       "skinparam ranksep 8\r\n",
       "top to bottom direction\r\n",
       "skinparam monochrome true\r\n",
       "skinparam classbackgroundcolor white\r\n",
       "skinparam shadowing false\r\n",
       "skinparam wrapWidth 300\r\n",
       "hide circle\r\n",
       "\r\n",
       "@enduml\r\n",
       "\n",
       "PlantUML version 1.2020.13(Sat Jun 13 12:26:38 UTC 2020)\n",
       "(EPL source distribution)\n",
       "Java Runtime: OpenJDK Runtime Environment\n",
       "JVM: OpenJDK 64-Bit Server VM\n",
       "Default Encoding: UTF-8\n",
       "Language: en\n",
       "Country: null\n",
       "--></g></svg>"
      ]
     },
     "execution_count": 48,
     "metadata": {},
     "output_type": "execute_result"
    }
   ],
   "source": [
    "%viz --style=\"TB\" --view=\"Action\" \"P1\""
   ]
  },
  {
   "cell_type": "code",
   "execution_count": 49,
   "id": "3bb03ca6",
   "metadata": {
    "execution": {
     "iopub.execute_input": "2022-04-22T09:51:51.113680Z",
     "iopub.status.busy": "2022-04-22T09:51:51.113258Z",
     "iopub.status.idle": "2022-04-22T09:51:51.118660Z",
     "shell.execute_reply": "2022-04-22T09:51:51.118310Z"
    }
   },
   "outputs": [
    {
     "data": {
      "image/svg+xml": [
       "<?xml version=\"1.0\" encoding=\"UTF-8\" standalone=\"no\"?><svg xmlns=\"http://www.w3.org/2000/svg\" xmlns:xlink=\"http://www.w3.org/1999/xlink\" contentScriptType=\"application/ecmascript\" contentStyleType=\"text/css\" height=\"12px\" preserveAspectRatio=\"none\" style=\"width:12px;height:12px;\" version=\"1.1\" viewBox=\"0 0 12 12\" width=\"12px\" zoomAndPan=\"magnify\"><defs/><g><!--MD5=[e1ab0c84c44d2fef8bf5f140f2689906]\n",
       "@startuml\r\n",
       "skinparam roundcorner 20\r\n",
       "skinparam BoxPadding 20\r\n",
       "skinparam SequenceBoxBackgroundColor #white\r\n",
       "skinparam style strictuml\r\n",
       "skinparam maxMessageSize 100\r\n",
       "top to bottom direction\r\n",
       "skinparam monochrome true\r\n",
       "skinparam classbackgroundcolor white\r\n",
       "skinparam shadowing false\r\n",
       "skinparam wrapWidth 300\r\n",
       "hide circle\r\n",
       "\r\n",
       "@enduml\r\n",
       "\n",
       "PlantUML version 1.2020.13(Sat Jun 13 12:26:38 UTC 2020)\n",
       "(EPL source distribution)\n",
       "Java Runtime: OpenJDK Runtime Environment\n",
       "JVM: OpenJDK 64-Bit Server VM\n",
       "Default Encoding: UTF-8\n",
       "Language: en\n",
       "Country: null\n",
       "--></g></svg>"
      ]
     },
     "execution_count": 49,
     "metadata": {},
     "output_type": "execute_result"
    }
   ],
   "source": [
    "%viz --style=\"TB\" --view=\"Sequence\" \"P1\""
   ]
  },
  {
   "cell_type": "code",
   "execution_count": 50,
   "id": "8265cfc6",
   "metadata": {
    "execution": {
     "iopub.execute_input": "2022-04-22T09:51:51.168773Z",
     "iopub.status.busy": "2022-04-22T09:51:51.168374Z",
     "iopub.status.idle": "2022-04-22T09:51:51.189683Z",
     "shell.execute_reply": "2022-04-22T09:51:51.189311Z"
    }
   },
   "outputs": [
    {
     "data": {
      "image/svg+xml": [
       "<?xml version=\"1.0\" encoding=\"UTF-8\" standalone=\"no\"?><svg xmlns=\"http://www.w3.org/2000/svg\" xmlns:xlink=\"http://www.w3.org/1999/xlink\" contentScriptType=\"application/ecmascript\" contentStyleType=\"text/css\" height=\"115px\" preserveAspectRatio=\"none\" style=\"width:140px;height:115px;\" version=\"1.1\" viewBox=\"0 0 140 115\" width=\"140px\" zoomAndPan=\"magnify\"><defs/><g><!--MD5=[fbc87193dbaf4d95561dea2c320d4a47]\n",
       "cluster E1--><a href=\"psysml:fb33a6e6-5dc2-431e-96a4-a3f08ce921dc\" target=\"_top\" title=\"psysml:fb33a6e6-5dc2-431e-96a4-a3f08ce921dc\" xlink:actuate=\"onRequest\" xlink:href=\"psysml:fb33a6e6-5dc2-431e-96a4-a3f08ce921dc\" xlink:show=\"new\" xlink:title=\"psysml:fb33a6e6-5dc2-431e-96a4-a3f08ce921dc\" xlink:type=\"simple\"><polygon fill=\"#FFFFFF\" points=\"16,6,40,6,47,28.2969,118,28.2969,118,103,16,103,16,6\" style=\"stroke: #000000; stroke-width: 1.5;\"/><line style=\"stroke: #000000; stroke-width: 1.5;\" x1=\"16\" x2=\"47\" y1=\"28.2969\" y2=\"28.2969\"/><text fill=\"#000000\" font-family=\"sans-serif\" font-size=\"14\" font-weight=\"bold\" lengthAdjust=\"spacingAndGlyphs\" textLength=\"18\" x=\"20\" y=\"20.9951\">P1</text></a><!--MD5=[b4997ac47864f28c2f74865a473b2911]\n",
       "class E2--><a href=\"psysml:db85db04-92da-46ca-8852-43fed38500fe\" target=\"_top\" title=\"psysml:db85db04-92da-46ca-8852-43fed38500fe\" xlink:actuate=\"onRequest\" xlink:href=\"psysml:db85db04-92da-46ca-8852-43fed38500fe\" xlink:show=\"new\" xlink:title=\"psysml:db85db04-92da-46ca-8852-43fed38500fe\" xlink:type=\"simple\"><rect fill=\"#FFFFFF\" height=\"45.9375\" id=\"E2\" style=\"stroke: #383838; stroke-width: 1.5;\" width=\"70\" x=\"32\" y=\"41\"/><text fill=\"#000000\" font-family=\"sans-serif\" font-size=\"12\" font-style=\"italic\" lengthAdjust=\"spacingAndGlyphs\" textLength=\"68\" x=\"33\" y=\"57.1387\">«part  def»</text><text fill=\"#000000\" font-family=\"sans-serif\" font-size=\"12\" lengthAdjust=\"spacingAndGlyphs\" textLength=\"8\" x=\"63\" y=\"71.1074\">A</text><line style=\"stroke: #383838; stroke-width: 1.5;\" x1=\"33\" x2=\"101\" y1=\"78.9375\" y2=\"78.9375\"/></a><!--MD5=[dfb26a884119fd7427d54ca17227e7e9]\n",
       "@startuml\r\n",
       "top to bottom direction\r\n",
       "skinparam monochrome true\r\n",
       "skinparam classbackgroundcolor white\r\n",
       "skinparam shadowing false\r\n",
       "skinparam wrapWidth 300\r\n",
       "hide circle\r\n",
       "\r\n",
       "package \"P1\" as E1  [[psysml:fb33a6e6-5dc2-431e-96a4-a3f08ce921dc ]]  {\r\n",
       "comp def \"A\" as E2  <<(T,blue) part  def>> [[psysml:db85db04-92da-46ca-8852-43fed38500fe ]] {\r\n",
       "}\r\n",
       "}\r\n",
       "@enduml\r\n",
       "\n",
       "PlantUML version 1.2020.13(Sat Jun 13 12:26:38 UTC 2020)\n",
       "(EPL source distribution)\n",
       "Java Runtime: OpenJDK Runtime Environment\n",
       "JVM: OpenJDK 64-Bit Server VM\n",
       "Default Encoding: UTF-8\n",
       "Language: en\n",
       "Country: null\n",
       "--></g></svg>"
      ]
     },
     "execution_count": 50,
     "metadata": {},
     "output_type": "execute_result"
    }
   ],
   "source": [
    "%viz --style=\"TB\" --view=\"MIXED\" \"P1\""
   ]
  },
  {
   "cell_type": "code",
   "execution_count": 51,
   "id": "9d8b5106",
   "metadata": {
    "execution": {
     "iopub.execute_input": "2022-04-22T09:51:51.239314Z",
     "iopub.status.busy": "2022-04-22T09:51:51.238916Z",
     "iopub.status.idle": "2022-04-22T09:51:51.260431Z",
     "shell.execute_reply": "2022-04-22T09:51:51.260047Z"
    }
   },
   "outputs": [
    {
     "data": {
      "image/svg+xml": [
       "<?xml version=\"1.0\" encoding=\"UTF-8\" standalone=\"no\"?><svg xmlns=\"http://www.w3.org/2000/svg\" xmlns:xlink=\"http://www.w3.org/1999/xlink\" contentScriptType=\"application/ecmascript\" contentStyleType=\"text/css\" height=\"115px\" preserveAspectRatio=\"none\" style=\"width:140px;height:115px;\" version=\"1.1\" viewBox=\"0 0 140 115\" width=\"140px\" zoomAndPan=\"magnify\"><defs/><g><!--MD5=[fbc87193dbaf4d95561dea2c320d4a47]\n",
       "cluster E1--><a href=\"psysml:fb33a6e6-5dc2-431e-96a4-a3f08ce921dc\" target=\"_top\" title=\"psysml:fb33a6e6-5dc2-431e-96a4-a3f08ce921dc\" xlink:actuate=\"onRequest\" xlink:href=\"psysml:fb33a6e6-5dc2-431e-96a4-a3f08ce921dc\" xlink:show=\"new\" xlink:title=\"psysml:fb33a6e6-5dc2-431e-96a4-a3f08ce921dc\" xlink:type=\"simple\"><polygon fill=\"#FFFFFF\" points=\"16,6,40,6,47,28.2969,118,28.2969,118,103,16,103,16,6\" style=\"stroke: #000000; stroke-width: 1.5;\"/><line style=\"stroke: #000000; stroke-width: 1.5;\" x1=\"16\" x2=\"47\" y1=\"28.2969\" y2=\"28.2969\"/><text fill=\"#000000\" font-family=\"sans-serif\" font-size=\"14\" font-weight=\"bold\" lengthAdjust=\"spacingAndGlyphs\" textLength=\"18\" x=\"20\" y=\"20.9951\">P1</text></a><!--MD5=[b4997ac47864f28c2f74865a473b2911]\n",
       "class E2--><a href=\"psysml:db85db04-92da-46ca-8852-43fed38500fe\" target=\"_top\" title=\"psysml:db85db04-92da-46ca-8852-43fed38500fe\" xlink:actuate=\"onRequest\" xlink:href=\"psysml:db85db04-92da-46ca-8852-43fed38500fe\" xlink:show=\"new\" xlink:title=\"psysml:db85db04-92da-46ca-8852-43fed38500fe\" xlink:type=\"simple\"><rect fill=\"#FFFFFF\" height=\"45.9375\" id=\"E2\" style=\"stroke: #383838; stroke-width: 1.5;\" width=\"70\" x=\"32\" y=\"41\"/><text fill=\"#000000\" font-family=\"sans-serif\" font-size=\"12\" font-style=\"italic\" lengthAdjust=\"spacingAndGlyphs\" textLength=\"68\" x=\"33\" y=\"57.1387\">«part  def»</text><text fill=\"#000000\" font-family=\"sans-serif\" font-size=\"12\" lengthAdjust=\"spacingAndGlyphs\" textLength=\"8\" x=\"63\" y=\"71.1074\">A</text><line style=\"stroke: #383838; stroke-width: 1.5;\" x1=\"33\" x2=\"101\" y1=\"78.9375\" y2=\"78.9375\"/></a><!--MD5=[ef143133169dde23370b00e31c06b51c]\n",
       "@startuml\r\n",
       "skinparam linetype ortho\r\n",
       "skinparam monochrome true\r\n",
       "skinparam classbackgroundcolor white\r\n",
       "skinparam shadowing false\r\n",
       "skinparam wrapWidth 300\r\n",
       "hide circle\r\n",
       "\r\n",
       "package \"P1\" as E1  [[psysml:fb33a6e6-5dc2-431e-96a4-a3f08ce921dc ]]  {\r\n",
       "comp def \"A\" as E2  <<(T,blue) part  def>> [[psysml:db85db04-92da-46ca-8852-43fed38500fe ]] {\r\n",
       "}\r\n",
       "}\r\n",
       "@enduml\r\n",
       "\n",
       "PlantUML version 1.2020.13(Sat Jun 13 12:26:38 UTC 2020)\n",
       "(EPL source distribution)\n",
       "Java Runtime: OpenJDK Runtime Environment\n",
       "JVM: OpenJDK 64-Bit Server VM\n",
       "Default Encoding: UTF-8\n",
       "Language: en\n",
       "Country: null\n",
       "--></g></svg>"
      ]
     },
     "execution_count": 51,
     "metadata": {},
     "output_type": "execute_result"
    }
   ],
   "source": [
    "%viz --style=\"ORTHOLINE\" --view=\"Default\" \"P1\""
   ]
  },
  {
   "cell_type": "code",
   "execution_count": 52,
   "id": "191fb4a1",
   "metadata": {
    "execution": {
     "iopub.execute_input": "2022-04-22T09:51:51.309865Z",
     "iopub.status.busy": "2022-04-22T09:51:51.309437Z",
     "iopub.status.idle": "2022-04-22T09:51:51.331319Z",
     "shell.execute_reply": "2022-04-22T09:51:51.330934Z"
    }
   },
   "outputs": [
    {
     "data": {
      "image/svg+xml": [
       "<?xml version=\"1.0\" encoding=\"UTF-8\" standalone=\"no\"?><svg xmlns=\"http://www.w3.org/2000/svg\" xmlns:xlink=\"http://www.w3.org/1999/xlink\" contentScriptType=\"application/ecmascript\" contentStyleType=\"text/css\" height=\"115px\" preserveAspectRatio=\"none\" style=\"width:140px;height:115px;\" version=\"1.1\" viewBox=\"0 0 140 115\" width=\"140px\" zoomAndPan=\"magnify\"><defs/><g><!--MD5=[fbc87193dbaf4d95561dea2c320d4a47]\n",
       "cluster E1--><a href=\"psysml:fb33a6e6-5dc2-431e-96a4-a3f08ce921dc\" target=\"_top\" title=\"psysml:fb33a6e6-5dc2-431e-96a4-a3f08ce921dc\" xlink:actuate=\"onRequest\" xlink:href=\"psysml:fb33a6e6-5dc2-431e-96a4-a3f08ce921dc\" xlink:show=\"new\" xlink:title=\"psysml:fb33a6e6-5dc2-431e-96a4-a3f08ce921dc\" xlink:type=\"simple\"><polygon fill=\"#FFFFFF\" points=\"16,6,40,6,47,28.2969,118,28.2969,118,103,16,103,16,6\" style=\"stroke: #000000; stroke-width: 1.5;\"/><line style=\"stroke: #000000; stroke-width: 1.5;\" x1=\"16\" x2=\"47\" y1=\"28.2969\" y2=\"28.2969\"/><text fill=\"#000000\" font-family=\"sans-serif\" font-size=\"14\" font-weight=\"bold\" lengthAdjust=\"spacingAndGlyphs\" textLength=\"18\" x=\"20\" y=\"20.9951\">P1</text></a><!--MD5=[b4997ac47864f28c2f74865a473b2911]\n",
       "class E2--><a href=\"psysml:db85db04-92da-46ca-8852-43fed38500fe\" target=\"_top\" title=\"psysml:db85db04-92da-46ca-8852-43fed38500fe\" xlink:actuate=\"onRequest\" xlink:href=\"psysml:db85db04-92da-46ca-8852-43fed38500fe\" xlink:show=\"new\" xlink:title=\"psysml:db85db04-92da-46ca-8852-43fed38500fe\" xlink:type=\"simple\"><rect fill=\"#FFFFFF\" height=\"45.9375\" id=\"E2\" style=\"stroke: #383838; stroke-width: 1.5;\" width=\"70\" x=\"32\" y=\"41\"/><text fill=\"#000000\" font-family=\"sans-serif\" font-size=\"12\" font-style=\"italic\" lengthAdjust=\"spacingAndGlyphs\" textLength=\"68\" x=\"33\" y=\"57.1387\">«part  def»</text><text fill=\"#000000\" font-family=\"sans-serif\" font-size=\"12\" lengthAdjust=\"spacingAndGlyphs\" textLength=\"8\" x=\"63\" y=\"71.1074\">A</text><line style=\"stroke: #383838; stroke-width: 1.5;\" x1=\"33\" x2=\"101\" y1=\"78.9375\" y2=\"78.9375\"/></a><!--MD5=[ef143133169dde23370b00e31c06b51c]\n",
       "@startuml\r\n",
       "skinparam linetype ortho\r\n",
       "skinparam monochrome true\r\n",
       "skinparam classbackgroundcolor white\r\n",
       "skinparam shadowing false\r\n",
       "skinparam wrapWidth 300\r\n",
       "hide circle\r\n",
       "\r\n",
       "package \"P1\" as E1  [[psysml:fb33a6e6-5dc2-431e-96a4-a3f08ce921dc ]]  {\r\n",
       "comp def \"A\" as E2  <<(T,blue) part  def>> [[psysml:db85db04-92da-46ca-8852-43fed38500fe ]] {\r\n",
       "}\r\n",
       "}\r\n",
       "@enduml\r\n",
       "\n",
       "PlantUML version 1.2020.13(Sat Jun 13 12:26:38 UTC 2020)\n",
       "(EPL source distribution)\n",
       "Java Runtime: OpenJDK Runtime Environment\n",
       "JVM: OpenJDK 64-Bit Server VM\n",
       "Default Encoding: UTF-8\n",
       "Language: en\n",
       "Country: null\n",
       "--></g></svg>"
      ]
     },
     "execution_count": 52,
     "metadata": {},
     "output_type": "execute_result"
    }
   ],
   "source": [
    "%viz --style=\"ORTHOLINE\" --view=\"Tree\" \"P1\""
   ]
  },
  {
   "cell_type": "code",
   "execution_count": 53,
   "id": "e7d82554",
   "metadata": {
    "execution": {
     "iopub.execute_input": "2022-04-22T09:51:51.380906Z",
     "iopub.status.busy": "2022-04-22T09:51:51.380500Z",
     "iopub.status.idle": "2022-04-22T09:51:51.385737Z",
     "shell.execute_reply": "2022-04-22T09:51:51.385383Z"
    }
   },
   "outputs": [
    {
     "data": {
      "image/svg+xml": [
       "<?xml version=\"1.0\" encoding=\"UTF-8\" standalone=\"no\"?><svg xmlns=\"http://www.w3.org/2000/svg\" xmlns:xlink=\"http://www.w3.org/1999/xlink\" contentScriptType=\"application/ecmascript\" contentStyleType=\"text/css\" height=\"12px\" preserveAspectRatio=\"none\" style=\"width:12px;height:12px;\" version=\"1.1\" viewBox=\"0 0 12 12\" width=\"12px\" zoomAndPan=\"magnify\"><defs/><g><!--MD5=[97d6f38768b311333d388e66b2b27985]\n",
       "@startuml\r\n",
       "skinparam linetype ortho\r\n",
       "skinparam monochrome true\r\n",
       "skinparam classbackgroundcolor white\r\n",
       "skinparam shadowing false\r\n",
       "skinparam wrapWidth 300\r\n",
       "hide circle\r\n",
       "\r\n",
       "@enduml\r\n",
       "\n",
       "PlantUML version 1.2020.13(Sat Jun 13 12:26:38 UTC 2020)\n",
       "(EPL source distribution)\n",
       "Java Runtime: OpenJDK Runtime Environment\n",
       "JVM: OpenJDK 64-Bit Server VM\n",
       "Default Encoding: UTF-8\n",
       "Language: en\n",
       "Country: null\n",
       "--></g></svg>"
      ]
     },
     "execution_count": 53,
     "metadata": {},
     "output_type": "execute_result"
    }
   ],
   "source": [
    "%viz --style=\"ORTHOLINE\" --view=\"State\" \"P1\""
   ]
  },
  {
   "cell_type": "code",
   "execution_count": 54,
   "id": "0fe6e72f",
   "metadata": {
    "execution": {
     "iopub.execute_input": "2022-04-22T09:51:51.435130Z",
     "iopub.status.busy": "2022-04-22T09:51:51.434723Z",
     "iopub.status.idle": "2022-04-22T09:51:51.457215Z",
     "shell.execute_reply": "2022-04-22T09:51:51.456848Z"
    }
   },
   "outputs": [
    {
     "data": {
      "image/svg+xml": [
       "<?xml version=\"1.0\" encoding=\"UTF-8\" standalone=\"no\"?><svg xmlns=\"http://www.w3.org/2000/svg\" xmlns:xlink=\"http://www.w3.org/1999/xlink\" contentScriptType=\"application/ecmascript\" contentStyleType=\"text/css\" height=\"112px\" preserveAspectRatio=\"none\" style=\"width:144px;height:112px;\" version=\"1.1\" viewBox=\"0 0 144 112\" width=\"144px\" zoomAndPan=\"magnify\"><defs/><g><!--MD5=[fbc87193dbaf4d95561dea2c320d4a47]\n",
       "cluster E1--><a href=\"psysml:fb33a6e6-5dc2-431e-96a4-a3f08ce921dc\" target=\"_top\" title=\"psysml:fb33a6e6-5dc2-431e-96a4-a3f08ce921dc\" xlink:actuate=\"onRequest\" xlink:href=\"psysml:fb33a6e6-5dc2-431e-96a4-a3f08ce921dc\" xlink:show=\"new\" xlink:title=\"psysml:fb33a6e6-5dc2-431e-96a4-a3f08ce921dc\" xlink:type=\"simple\"><polygon fill=\"#FFFFFF\" points=\"16,6,40,6,47,28.2969,122,28.2969,122,100,16,100,16,6\" style=\"stroke: #000000; stroke-width: 1.5;\"/><line style=\"stroke: #000000; stroke-width: 1.5;\" x1=\"16\" x2=\"47\" y1=\"28.2969\" y2=\"28.2969\"/><text fill=\"#000000\" font-family=\"sans-serif\" font-size=\"14\" font-weight=\"bold\" lengthAdjust=\"spacingAndGlyphs\" textLength=\"18\" x=\"20\" y=\"20.9951\">P1</text></a><g id=\"E1.E2\"><a href=\"psysml:db85db04-92da-46ca-8852-43fed38500fe\" target=\"_top\" title=\"psysml:db85db04-92da-46ca-8852-43fed38500fe\" xlink:actuate=\"onRequest\" xlink:href=\"psysml:db85db04-92da-46ca-8852-43fed38500fe\" xlink:show=\"new\" xlink:title=\"psysml:db85db04-92da-46ca-8852-43fed38500fe\" xlink:type=\"simple\"><rect fill=\"#FFFFFF\" height=\"42.9375\" id=\"E2\" style=\"stroke: #383838; stroke-width: 1.5;\" width=\"75\" x=\"31.5\" y=\"41\"/><rect fill=\"#F8F8F8\" height=\"37.9375\" style=\"stroke: #383838; stroke-width: 1.5;\" width=\"75\" x=\"31.5\" y=\"41\"/><text fill=\"#000000\" font-family=\"sans-serif\" font-size=\"12\" font-style=\"italic\" lengthAdjust=\"spacingAndGlyphs\" textLength=\"68\" x=\"35\" y=\"57.1387\">«part  def»</text><text fill=\"#000000\" font-family=\"sans-serif\" font-size=\"12\" lengthAdjust=\"spacingAndGlyphs\" textLength=\"8\" x=\"65\" y=\"71.1074\">A</text></a></g><!--MD5=[dcbdd8db0c0f0d9bcfb84f5d66d66f52]\n",
       "@startuml\r\n",
       "skinparam ranksep 10\r\n",
       "skinparam rectangle {\r\n",
       " backgroundColor<<block>> LightGreen\r\n",
       "}\r\n",
       "skinparam linetype ortho\r\n",
       "skinparam monochrome true\r\n",
       "skinparam classbackgroundcolor white\r\n",
       "skinparam shadowing false\r\n",
       "skinparam wrapWidth 300\r\n",
       "hide circle\r\n",
       "\r\n",
       "package \"P1\" as E1  [[psysml:fb33a6e6-5dc2-431e-96a4-a3f08ce921dc ]]  {\r\n",
       "rec def \"A\" as E2  <<(T,blue) part  def>> [[psysml:db85db04-92da-46ca-8852-43fed38500fe ]] {\r\n",
       "}\r\n",
       "}\r\n",
       "@enduml\r\n",
       "\n",
       "PlantUML version 1.2020.13(Sat Jun 13 12:26:38 UTC 2020)\n",
       "(EPL source distribution)\n",
       "Java Runtime: OpenJDK Runtime Environment\n",
       "JVM: OpenJDK 64-Bit Server VM\n",
       "Default Encoding: UTF-8\n",
       "Language: en\n",
       "Country: null\n",
       "--></g></svg>"
      ]
     },
     "execution_count": 54,
     "metadata": {},
     "output_type": "execute_result"
    }
   ],
   "source": [
    "%viz --style=\"ORTHOLINE\" --view=\"Interconnection\" \"P1\""
   ]
  },
  {
   "cell_type": "code",
   "execution_count": 55,
   "id": "a1d8d6f5",
   "metadata": {
    "execution": {
     "iopub.execute_input": "2022-04-22T09:51:51.506775Z",
     "iopub.status.busy": "2022-04-22T09:51:51.506368Z",
     "iopub.status.idle": "2022-04-22T09:51:51.511405Z",
     "shell.execute_reply": "2022-04-22T09:51:51.511048Z"
    }
   },
   "outputs": [
    {
     "data": {
      "image/svg+xml": [
       "<?xml version=\"1.0\" encoding=\"UTF-8\" standalone=\"no\"?><svg xmlns=\"http://www.w3.org/2000/svg\" xmlns:xlink=\"http://www.w3.org/1999/xlink\" contentScriptType=\"application/ecmascript\" contentStyleType=\"text/css\" height=\"12px\" preserveAspectRatio=\"none\" style=\"width:12px;height:12px;\" version=\"1.1\" viewBox=\"0 0 12 12\" width=\"12px\" zoomAndPan=\"magnify\"><defs/><g><!--MD5=[72934c63077099a26744516a776b4749]\n",
       "@startuml\r\n",
       "skinparam ranksep 8\r\n",
       "skinparam linetype ortho\r\n",
       "skinparam monochrome true\r\n",
       "skinparam classbackgroundcolor white\r\n",
       "skinparam shadowing false\r\n",
       "skinparam wrapWidth 300\r\n",
       "hide circle\r\n",
       "\r\n",
       "@enduml\r\n",
       "\n",
       "PlantUML version 1.2020.13(Sat Jun 13 12:26:38 UTC 2020)\n",
       "(EPL source distribution)\n",
       "Java Runtime: OpenJDK Runtime Environment\n",
       "JVM: OpenJDK 64-Bit Server VM\n",
       "Default Encoding: UTF-8\n",
       "Language: en\n",
       "Country: null\n",
       "--></g></svg>"
      ]
     },
     "execution_count": 55,
     "metadata": {},
     "output_type": "execute_result"
    }
   ],
   "source": [
    "%viz --style=\"ORTHOLINE\" --view=\"Action\" \"P1\""
   ]
  },
  {
   "cell_type": "code",
   "execution_count": 56,
   "id": "31f1e0f9",
   "metadata": {
    "execution": {
     "iopub.execute_input": "2022-04-22T09:51:51.561236Z",
     "iopub.status.busy": "2022-04-22T09:51:51.560830Z",
     "iopub.status.idle": "2022-04-22T09:51:51.565734Z",
     "shell.execute_reply": "2022-04-22T09:51:51.565371Z"
    }
   },
   "outputs": [
    {
     "data": {
      "image/svg+xml": [
       "<?xml version=\"1.0\" encoding=\"UTF-8\" standalone=\"no\"?><svg xmlns=\"http://www.w3.org/2000/svg\" xmlns:xlink=\"http://www.w3.org/1999/xlink\" contentScriptType=\"application/ecmascript\" contentStyleType=\"text/css\" height=\"12px\" preserveAspectRatio=\"none\" style=\"width:12px;height:12px;\" version=\"1.1\" viewBox=\"0 0 12 12\" width=\"12px\" zoomAndPan=\"magnify\"><defs/><g><!--MD5=[30fc1de5121c5abddedd55b44417fde8]\n",
       "@startuml\r\n",
       "skinparam roundcorner 20\r\n",
       "skinparam BoxPadding 20\r\n",
       "skinparam SequenceBoxBackgroundColor #white\r\n",
       "skinparam style strictuml\r\n",
       "skinparam maxMessageSize 100\r\n",
       "skinparam linetype ortho\r\n",
       "skinparam monochrome true\r\n",
       "skinparam classbackgroundcolor white\r\n",
       "skinparam shadowing false\r\n",
       "skinparam wrapWidth 300\r\n",
       "hide circle\r\n",
       "\r\n",
       "@enduml\r\n",
       "\n",
       "PlantUML version 1.2020.13(Sat Jun 13 12:26:38 UTC 2020)\n",
       "(EPL source distribution)\n",
       "Java Runtime: OpenJDK Runtime Environment\n",
       "JVM: OpenJDK 64-Bit Server VM\n",
       "Default Encoding: UTF-8\n",
       "Language: en\n",
       "Country: null\n",
       "--></g></svg>"
      ]
     },
     "execution_count": 56,
     "metadata": {},
     "output_type": "execute_result"
    }
   ],
   "source": [
    "%viz --style=\"ORTHOLINE\" --view=\"Sequence\" \"P1\""
   ]
  },
  {
   "cell_type": "code",
   "execution_count": 57,
   "id": "33575122",
   "metadata": {
    "execution": {
     "iopub.execute_input": "2022-04-22T09:51:51.615542Z",
     "iopub.status.busy": "2022-04-22T09:51:51.615137Z",
     "iopub.status.idle": "2022-04-22T09:51:51.635911Z",
     "shell.execute_reply": "2022-04-22T09:51:51.635550Z"
    }
   },
   "outputs": [
    {
     "data": {
      "image/svg+xml": [
       "<?xml version=\"1.0\" encoding=\"UTF-8\" standalone=\"no\"?><svg xmlns=\"http://www.w3.org/2000/svg\" xmlns:xlink=\"http://www.w3.org/1999/xlink\" contentScriptType=\"application/ecmascript\" contentStyleType=\"text/css\" height=\"115px\" preserveAspectRatio=\"none\" style=\"width:140px;height:115px;\" version=\"1.1\" viewBox=\"0 0 140 115\" width=\"140px\" zoomAndPan=\"magnify\"><defs/><g><!--MD5=[fbc87193dbaf4d95561dea2c320d4a47]\n",
       "cluster E1--><a href=\"psysml:fb33a6e6-5dc2-431e-96a4-a3f08ce921dc\" target=\"_top\" title=\"psysml:fb33a6e6-5dc2-431e-96a4-a3f08ce921dc\" xlink:actuate=\"onRequest\" xlink:href=\"psysml:fb33a6e6-5dc2-431e-96a4-a3f08ce921dc\" xlink:show=\"new\" xlink:title=\"psysml:fb33a6e6-5dc2-431e-96a4-a3f08ce921dc\" xlink:type=\"simple\"><polygon fill=\"#FFFFFF\" points=\"16,6,40,6,47,28.2969,118,28.2969,118,103,16,103,16,6\" style=\"stroke: #000000; stroke-width: 1.5;\"/><line style=\"stroke: #000000; stroke-width: 1.5;\" x1=\"16\" x2=\"47\" y1=\"28.2969\" y2=\"28.2969\"/><text fill=\"#000000\" font-family=\"sans-serif\" font-size=\"14\" font-weight=\"bold\" lengthAdjust=\"spacingAndGlyphs\" textLength=\"18\" x=\"20\" y=\"20.9951\">P1</text></a><!--MD5=[b4997ac47864f28c2f74865a473b2911]\n",
       "class E2--><a href=\"psysml:db85db04-92da-46ca-8852-43fed38500fe\" target=\"_top\" title=\"psysml:db85db04-92da-46ca-8852-43fed38500fe\" xlink:actuate=\"onRequest\" xlink:href=\"psysml:db85db04-92da-46ca-8852-43fed38500fe\" xlink:show=\"new\" xlink:title=\"psysml:db85db04-92da-46ca-8852-43fed38500fe\" xlink:type=\"simple\"><rect fill=\"#FFFFFF\" height=\"45.9375\" id=\"E2\" style=\"stroke: #383838; stroke-width: 1.5;\" width=\"70\" x=\"32\" y=\"41\"/><text fill=\"#000000\" font-family=\"sans-serif\" font-size=\"12\" font-style=\"italic\" lengthAdjust=\"spacingAndGlyphs\" textLength=\"68\" x=\"33\" y=\"57.1387\">«part  def»</text><text fill=\"#000000\" font-family=\"sans-serif\" font-size=\"12\" lengthAdjust=\"spacingAndGlyphs\" textLength=\"8\" x=\"63\" y=\"71.1074\">A</text><line style=\"stroke: #383838; stroke-width: 1.5;\" x1=\"33\" x2=\"101\" y1=\"78.9375\" y2=\"78.9375\"/></a><!--MD5=[ef143133169dde23370b00e31c06b51c]\n",
       "@startuml\r\n",
       "skinparam linetype ortho\r\n",
       "skinparam monochrome true\r\n",
       "skinparam classbackgroundcolor white\r\n",
       "skinparam shadowing false\r\n",
       "skinparam wrapWidth 300\r\n",
       "hide circle\r\n",
       "\r\n",
       "package \"P1\" as E1  [[psysml:fb33a6e6-5dc2-431e-96a4-a3f08ce921dc ]]  {\r\n",
       "comp def \"A\" as E2  <<(T,blue) part  def>> [[psysml:db85db04-92da-46ca-8852-43fed38500fe ]] {\r\n",
       "}\r\n",
       "}\r\n",
       "@enduml\r\n",
       "\n",
       "PlantUML version 1.2020.13(Sat Jun 13 12:26:38 UTC 2020)\n",
       "(EPL source distribution)\n",
       "Java Runtime: OpenJDK Runtime Environment\n",
       "JVM: OpenJDK 64-Bit Server VM\n",
       "Default Encoding: UTF-8\n",
       "Language: en\n",
       "Country: null\n",
       "--></g></svg>"
      ]
     },
     "execution_count": 57,
     "metadata": {},
     "output_type": "execute_result"
    }
   ],
   "source": [
    "%viz --style=\"ORTHOLINE\" --view=\"MIXED\" \"P1\""
   ]
  }
 ],
 "metadata": {
  "kernelspec": {
   "display_name": "SysML",
   "language": "sysml",
   "name": "sysml"
  },
  "language_info": {
   "codemirror_mode": "sysml",
   "file_extension": ".sysml",
   "mimetype": "text/x-sysml",
   "name": "SysML",
   "pygments_lexer": "java",
   "version": "1.0.0"
  }
 },
 "nbformat": 4,
 "nbformat_minor": 5
}
