{
 "cells": [
  {
   "cell_type": "markdown",
   "id": "dc89c374",
   "metadata": {},
   "source": [
    "# SysML v2 Test Suite\n",
    "\n",
    "This can notebook can be cleared using menu `Edit --> Clear All Outputs` and then all cells can be\n",
    "run using menu `Run --> Run All Cells`.\n",
    "\n",
    "**WARNING**: This file is generated, all modifications here will be ignored.\n"
   ]
  },
  {
   "cell_type": "markdown",
   "id": "9185c1c1",
   "metadata": {},
   "source": [
    "## File: ../../sysml/src/examples/Simple Tests/TextualRepresentationTest.sysml"
   ]
  },
  {
   "cell_type": "code",
   "execution_count": 1,
   "id": "3534d61c",
   "metadata": {
    "execution": {
     "iopub.execute_input": "2021-08-04T06:26:37.543496Z",
     "iopub.status.busy": "2021-08-04T06:26:37.542453Z",
     "iopub.status.idle": "2021-08-04T06:26:37.750858Z",
     "shell.execute_reply": "2021-08-04T06:26:37.751231Z"
    }
   },
   "outputs": [
    {
     "data": {
      "text/plain": [
       "Package TextualRepresentationTest (99cd69cc-f838-4c4a-a2bb-d15107ca3be0)\n"
      ]
     },
     "execution_count": 1,
     "metadata": {},
     "output_type": "execute_result"
    }
   ],
   "source": [
    "package TextualRepresentationTest {\n",
    "\timport ScalarValues::Real;\n",
    "\t\n",
    "\titem def C {\n",
    "\t    attribute x: Real;\n",
    "\t    assert constraint x_constraint;\n",
    "\t    rep inOCL about x_constraint language \"ocl\" \n",
    "\t        /* self.x > 0.0 */\n",
    "\t}\n",
    "\t\n",
    "\taction def setX(c : C, newX : Real) {\n",
    "\t    language \"alf\" \n",
    "\t        /* c.x = newX;\n",
    "\t         * WriteLine(\"Set new x\");\n",
    "\t         */\n",
    "\t}\n",
    "\t\n",
    "}"
   ]
  },
  {
   "cell_type": "code",
   "execution_count": 2,
   "id": "ed78c963",
   "metadata": {
    "execution": {
     "iopub.execute_input": "2021-08-04T06:26:37.802071Z",
     "iopub.status.busy": "2021-08-04T06:26:37.801650Z",
     "iopub.status.idle": "2021-08-04T06:26:38.196715Z",
     "shell.execute_reply": "2021-08-04T06:26:38.195867Z"
    }
   },
   "outputs": [
    {
     "data": {
      "image/svg+xml": [
       "<?xml version=\"1.0\" encoding=\"UTF-8\" standalone=\"no\"?><svg xmlns=\"http://www.w3.org/2000/svg\" xmlns:xlink=\"http://www.w3.org/1999/xlink\" contentScriptType=\"application/ecmascript\" contentStyleType=\"text/css\" height=\"261px\" preserveAspectRatio=\"none\" style=\"width:345px;height:261px;\" version=\"1.1\" viewBox=\"0 0 345 261\" width=\"345px\" zoomAndPan=\"magnify\"><defs/><g><!--MD5=[fbc87193dbaf4d95561dea2c320d4a47]\n",
       "cluster E1--><a href=\"psysml:7357ea5e-db14-480c-8643-46679caa3aca\" target=\"_top\" title=\"psysml:7357ea5e-db14-480c-8643-46679caa3aca\" xlink:actuate=\"onRequest\" xlink:href=\"psysml:7357ea5e-db14-480c-8643-46679caa3aca\" xlink:show=\"new\" xlink:title=\"psysml:7357ea5e-db14-480c-8643-46679caa3aca\" xlink:type=\"simple\"><polygon fill=\"#FFFFFF\" points=\"16,6,236,6,243,28.2969,323,28.2969,323,249.5,16,249.5,16,6\" style=\"stroke: #000000; stroke-width: 1.5;\"/><line style=\"stroke: #000000; stroke-width: 1.5;\" x1=\"16\" x2=\"243\" y1=\"28.2969\" y2=\"28.2969\"/><text fill=\"#000000\" font-family=\"sans-serif\" font-size=\"14\" font-weight=\"bold\" lengthAdjust=\"spacingAndGlyphs\" textLength=\"214\" x=\"20\" y=\"20.9951\">TextualRepresentationTest</text></a><!--MD5=[f6df4d0ebaf0b5dfb2ced0ae5af7c670]\n",
       "cluster E4--><a href=\"psysml:4d0e1ac7-0ffb-42d7-bf53-5a956dddc154\" target=\"_top\" title=\"psysml:4d0e1ac7-0ffb-42d7-bf53-5a956dddc154\" xlink:actuate=\"onRequest\" xlink:href=\"psysml:4d0e1ac7-0ffb-42d7-bf53-5a956dddc154\" xlink:show=\"new\" xlink:title=\"psysml:4d0e1ac7-0ffb-42d7-bf53-5a956dddc154\" xlink:type=\"simple\"><rect fill=\"#FFFFFF\" height=\"154.5\" id=\"E4\" style=\"stroke: #383838; stroke-width: 1.5;\" width=\"132\" x=\"175\" y=\"79\"/><rect fill=\"#F8F8F8\" height=\"37.9375\" style=\"stroke: #383838; stroke-width: 1.5;\" width=\"132\" x=\"175\" y=\"79\"/><text fill=\"#000000\" font-family=\"sans-serif\" font-size=\"12\" font-style=\"italic\" lengthAdjust=\"spacingAndGlyphs\" textLength=\"77\" x=\"202.5\" y=\"95.1387\">«action def»</text><text fill=\"#000000\" font-family=\"sans-serif\" font-size=\"12\" lengthAdjust=\"spacingAndGlyphs\" textLength=\"27\" x=\"227.5\" y=\"109.1074\">setX</text></a><!--MD5=[b4997ac47864f28c2f74865a473b2911]\n",
       "class E2--><a href=\"psysml:d8d89087-5f7a-40fd-9871-b52a02710321\" target=\"_top\" title=\"psysml:d8d89087-5f7a-40fd-9871-b52a02710321\" xlink:actuate=\"onRequest\" xlink:href=\"psysml:d8d89087-5f7a-40fd-9871-b52a02710321\" xlink:show=\"new\" xlink:title=\"psysml:d8d89087-5f7a-40fd-9871-b52a02710321\" xlink:type=\"simple\"><rect fill=\"#FFFFFF\" height=\"75.5469\" id=\"E2\" style=\"stroke: #383838; stroke-width: 1.5;\" width=\"67\" x=\"59.5\" y=\"41\"/><text fill=\"#000000\" font-family=\"sans-serif\" font-size=\"12\" font-style=\"italic\" lengthAdjust=\"spacingAndGlyphs\" textLength=\"65\" x=\"60.5\" y=\"57.1387\">«item def»</text><text fill=\"#000000\" font-family=\"sans-serif\" font-size=\"12\" lengthAdjust=\"spacingAndGlyphs\" textLength=\"8\" x=\"89\" y=\"71.1074\">C</text><line style=\"stroke: #383838; stroke-width: 1.5;\" x1=\"60.5\" x2=\"125.5\" y1=\"78.9375\" y2=\"78.9375\"/><text fill=\"#000000\" font-family=\"sans-serif\" font-size=\"11\" lengthAdjust=\"spacingAndGlyphs\" textLength=\"38\" x=\"65.5\" y=\"109.9526\">x: Real</text><line style=\"stroke: #383838; stroke-width: 1.0;\" x1=\"60.5\" x2=\"65.5\" y1=\"93.3398\" y2=\"93.3398\"/><text fill=\"#000000\" font-family=\"sans-serif\" font-size=\"11\" lengthAdjust=\"spacingAndGlyphs\" textLength=\"55\" x=\"65.5\" y=\"96.6479\">attributes</text><line style=\"stroke: #383838; stroke-width: 1.0;\" x1=\"120.5\" x2=\"125.5\" y1=\"93.3398\" y2=\"93.3398\"/></a><!--MD5=[09b614a08d8cba4a07c9adeb5e0fee81]\n",
       "class E3--><a href=\"psysml:24b29db4-a520-4ed1-8de3-5d8963222bac\" target=\"_top\" title=\"psysml:24b29db4-a520-4ed1-8de3-5d8963222bac\" xlink:actuate=\"onRequest\" xlink:href=\"psysml:24b29db4-a520-4ed1-8de3-5d8963222bac\" xlink:show=\"new\" xlink:title=\"psysml:24b29db4-a520-4ed1-8de3-5d8963222bac\" xlink:type=\"simple\"><rect fill=\"#FFFFFF\" height=\"45.9375\" id=\"E3\" rx=\"10\" ry=\"10\" style=\"stroke: #383838; stroke-width: 1.5;\" width=\"121\" x=\"32.5\" y=\"177\"/><text fill=\"#000000\" font-family=\"sans-serif\" font-size=\"12\" font-style=\"italic\" lengthAdjust=\"spacingAndGlyphs\" textLength=\"119\" x=\"33.5\" y=\"193.1387\">«assertConstraint»</text><text fill=\"#000000\" font-family=\"sans-serif\" font-size=\"12\" lengthAdjust=\"spacingAndGlyphs\" textLength=\"76\" x=\"55\" y=\"207.1074\">x_constraint</text><line style=\"stroke: #383838; stroke-width: 1.5;\" x1=\"33.5\" x2=\"152.5\" y1=\"214.9375\" y2=\"214.9375\"/></a><text fill=\"#000000\" font-family=\"sans-serif\" font-size=\"14\" lengthAdjust=\"spacingAndGlyphs\" textLength=\"8\" x=\"189\" y=\"57.6982\">c</text><rect fill=\"#383838\" height=\"12\" style=\"stroke: #F8F8F8; stroke-width: 1.5;\" width=\"12\" x=\"187\" y=\"73\"/><text fill=\"#000000\" font-family=\"sans-serif\" font-size=\"14\" lengthAdjust=\"spacingAndGlyphs\" textLength=\"38\" x=\"221\" y=\"57.6982\">newX</text><rect fill=\"#383838\" height=\"12\" style=\"stroke: #F8F8F8; stroke-width: 1.5;\" width=\"12\" x=\"234\" y=\"73\"/><!--MD5=[209b3feb70ccb6233bfe1053d122c12c]\n",
       "reverse link E2 to E3--><a href=\"psysml:92660e64-3893-4545-a353-67dbd76c0ff0\" target=\"_top\" title=\"psysml:92660e64-3893-4545-a353-67dbd76c0ff0\" xlink:actuate=\"onRequest\" xlink:href=\"psysml:92660e64-3893-4545-a353-67dbd76c0ff0\" xlink:show=\"new\" xlink:title=\"psysml:92660e64-3893-4545-a353-67dbd76c0ff0\" xlink:type=\"simple\"><path d=\"M93,130.34 C93,146.61 93,163.81 93,176.93 \" fill=\"none\" id=\"E2&lt;-E3\" style=\"stroke: #383838; stroke-width: 1.0;\"/><polygon fill=\"#383838\" points=\"93,117,89,123,93,129,97,123,93,117\" style=\"stroke: #383838; stroke-width: 1.0;\"/><text fill=\"#000000\" font-family=\"sans-serif\" font-size=\"13\" lengthAdjust=\"spacingAndGlyphs\" textLength=\"7\" x=\"85.0594\" y=\"165.8075\">*</text></a><!--MD5=[b46ae8ec82844d8c59142fd35027109e]\n",
       "@startuml\r\n",
       " skinparam monochrome true\r\n",
       "skinparam classbackgroundcolor white\r\n",
       "skinparam shadowing false\r\n",
       "skinparam wrapWidth 300\r\n",
       "hide circle\r\n",
       "\r\n",
       "package \"TextualRepresentationTest\" as E1  [[psysml:7357ea5e-db14-480c-8643-46679caa3aca ]]  {\r\n",
       "comp def \"C\" as E2  <<(T,blue) item def>> [[psysml:d8d89087-5f7a-40fd-9871-b52a02710321 ]] {\r\n",
       "- - attributes - -\r\n",
       "x: Real\r\n",
       "}\r\n",
       "comp usage \"x_constraint\" as E3  <<(T,blue) assertConstraint>> [[psysml:24b29db4-a520-4ed1-8de3-5d8963222bac ]] {\r\n",
       "}\r\n",
       "rec def \"setX\" as E4  <<(T,blue) action def>> [[psysml:4d0e1ac7-0ffb-42d7-bf53-5a956dddc154 ]] {\r\n",
       "portin \"c\" as E5  [[psysml:7b0b3a1a-f848-44f8-8668-45f7327338b0 ]] \r\n",
       "portin \"newX\" as E6  [[psysml:5310235f-3728-4e86-87c8-1dd93d46f083 ]] \r\n",
       "}\r\n",
       "\r\n",
       "E2 *- - \"*\"E3 [[psysml:92660e64-3893-4545-a353-67dbd76c0ff0 ]] \r\n",
       "}\r\n",
       "@enduml\r\n",
       "\n",
       "PlantUML version 1.2020.13(Sat Jun 13 12:26:38 UTC 2020)\n",
       "(EPL source distribution)\n",
       "Java Runtime: OpenJDK Runtime Environment\n",
       "JVM: OpenJDK 64-Bit Server VM\n",
       "Default Encoding: UTF-8\n",
       "Language: en\n",
       "Country: null\n",
       "--></g></svg>"
      ]
     },
     "execution_count": 2,
     "metadata": {},
     "output_type": "execute_result"
    }
   ],
   "source": [
    "%viz --style=\"COMPTREE\" --view=\"Default\" \"TextualRepresentationTest\""
   ]
  },
  {
   "cell_type": "code",
   "execution_count": 3,
   "id": "b8b2df2b",
   "metadata": {
    "execution": {
     "iopub.execute_input": "2021-08-04T06:26:38.247585Z",
     "iopub.status.busy": "2021-08-04T06:26:38.247209Z",
     "iopub.status.idle": "2021-08-04T06:26:38.296756Z",
     "shell.execute_reply": "2021-08-04T06:26:38.295193Z"
    }
   },
   "outputs": [
    {
     "data": {
      "image/svg+xml": [
       "<?xml version=\"1.0\" encoding=\"UTF-8\" standalone=\"no\"?><svg xmlns=\"http://www.w3.org/2000/svg\" xmlns:xlink=\"http://www.w3.org/1999/xlink\" contentScriptType=\"application/ecmascript\" contentStyleType=\"text/css\" height=\"375px\" preserveAspectRatio=\"none\" style=\"width:268px;height:375px;\" version=\"1.1\" viewBox=\"0 0 268 375\" width=\"268px\" zoomAndPan=\"magnify\"><defs/><g><!--MD5=[fbc87193dbaf4d95561dea2c320d4a47]\n",
       "cluster E1--><a href=\"psysml:7357ea5e-db14-480c-8643-46679caa3aca\" target=\"_top\" title=\"psysml:7357ea5e-db14-480c-8643-46679caa3aca\" xlink:actuate=\"onRequest\" xlink:href=\"psysml:7357ea5e-db14-480c-8643-46679caa3aca\" xlink:show=\"new\" xlink:title=\"psysml:7357ea5e-db14-480c-8643-46679caa3aca\" xlink:type=\"simple\"><polygon fill=\"#FFFFFF\" points=\"16,6,236,6,243,28.2969,246,28.2969,246,363,16,363,16,6\" style=\"stroke: #000000; stroke-width: 1.5;\"/><line style=\"stroke: #000000; stroke-width: 1.5;\" x1=\"16\" x2=\"243\" y1=\"28.2969\" y2=\"28.2969\"/><text fill=\"#000000\" font-family=\"sans-serif\" font-size=\"14\" font-weight=\"bold\" lengthAdjust=\"spacingAndGlyphs\" textLength=\"214\" x=\"20\" y=\"20.9951\">TextualRepresentationTest</text></a><!--MD5=[b4997ac47864f28c2f74865a473b2911]\n",
       "class E2--><a href=\"psysml:d8d89087-5f7a-40fd-9871-b52a02710321\" target=\"_top\" title=\"psysml:d8d89087-5f7a-40fd-9871-b52a02710321\" xlink:actuate=\"onRequest\" xlink:href=\"psysml:d8d89087-5f7a-40fd-9871-b52a02710321\" xlink:show=\"new\" xlink:title=\"psysml:d8d89087-5f7a-40fd-9871-b52a02710321\" xlink:type=\"simple\"><rect fill=\"#FFFFFF\" height=\"75.5469\" id=\"E2\" style=\"stroke: #383838; stroke-width: 1.5;\" width=\"67\" x=\"97.5\" y=\"164\"/><text fill=\"#000000\" font-family=\"sans-serif\" font-size=\"12\" font-style=\"italic\" lengthAdjust=\"spacingAndGlyphs\" textLength=\"65\" x=\"98.5\" y=\"180.1387\">«item def»</text><text fill=\"#000000\" font-family=\"sans-serif\" font-size=\"12\" lengthAdjust=\"spacingAndGlyphs\" textLength=\"8\" x=\"127\" y=\"194.1074\">C</text><line style=\"stroke: #383838; stroke-width: 1.5;\" x1=\"98.5\" x2=\"163.5\" y1=\"201.9375\" y2=\"201.9375\"/><text fill=\"#000000\" font-family=\"sans-serif\" font-size=\"11\" lengthAdjust=\"spacingAndGlyphs\" textLength=\"38\" x=\"103.5\" y=\"232.9526\">x: Real</text><line style=\"stroke: #383838; stroke-width: 1.0;\" x1=\"98.5\" x2=\"103.5\" y1=\"216.3398\" y2=\"216.3398\"/><text fill=\"#000000\" font-family=\"sans-serif\" font-size=\"11\" lengthAdjust=\"spacingAndGlyphs\" textLength=\"55\" x=\"103.5\" y=\"219.6479\">attributes</text><line style=\"stroke: #383838; stroke-width: 1.0;\" x1=\"158.5\" x2=\"163.5\" y1=\"216.3398\" y2=\"216.3398\"/></a><!--MD5=[09b614a08d8cba4a07c9adeb5e0fee81]\n",
       "class E3--><a href=\"psysml:24b29db4-a520-4ed1-8de3-5d8963222bac\" target=\"_top\" title=\"psysml:24b29db4-a520-4ed1-8de3-5d8963222bac\" xlink:actuate=\"onRequest\" xlink:href=\"psysml:24b29db4-a520-4ed1-8de3-5d8963222bac\" xlink:show=\"new\" xlink:title=\"psysml:24b29db4-a520-4ed1-8de3-5d8963222bac\" xlink:type=\"simple\"><rect fill=\"#FFFFFF\" height=\"45.9375\" id=\"E3\" rx=\"10\" ry=\"10\" style=\"stroke: #383838; stroke-width: 1.5;\" width=\"121\" x=\"70.5\" y=\"301\"/><text fill=\"#000000\" font-family=\"sans-serif\" font-size=\"12\" font-style=\"italic\" lengthAdjust=\"spacingAndGlyphs\" textLength=\"119\" x=\"71.5\" y=\"317.1387\">«assertConstraint»</text><text fill=\"#000000\" font-family=\"sans-serif\" font-size=\"12\" lengthAdjust=\"spacingAndGlyphs\" textLength=\"76\" x=\"93\" y=\"331.1074\">x_constraint</text><line style=\"stroke: #383838; stroke-width: 1.5;\" x1=\"71.5\" x2=\"190.5\" y1=\"338.9375\" y2=\"338.9375\"/></a><!--MD5=[ebbe1d658d1005bcc118a6aa81145e00]\n",
       "class E4--><a href=\"psysml:4d0e1ac7-0ffb-42d7-bf53-5a956dddc154\" target=\"_top\" title=\"psysml:4d0e1ac7-0ffb-42d7-bf53-5a956dddc154\" xlink:actuate=\"onRequest\" xlink:href=\"psysml:4d0e1ac7-0ffb-42d7-bf53-5a956dddc154\" xlink:show=\"new\" xlink:title=\"psysml:4d0e1ac7-0ffb-42d7-bf53-5a956dddc154\" xlink:type=\"simple\"><rect fill=\"#FFFFFF\" height=\"45.9375\" id=\"E4\" style=\"stroke: #383838; stroke-width: 1.5;\" width=\"79\" x=\"91.5\" y=\"41\"/><text fill=\"#000000\" font-family=\"sans-serif\" font-size=\"12\" font-style=\"italic\" lengthAdjust=\"spacingAndGlyphs\" textLength=\"77\" x=\"92.5\" y=\"57.1387\">«action def»</text><text fill=\"#000000\" font-family=\"sans-serif\" font-size=\"12\" lengthAdjust=\"spacingAndGlyphs\" textLength=\"27\" x=\"117.5\" y=\"71.1074\">setX</text><line style=\"stroke: #383838; stroke-width: 1.5;\" x1=\"92.5\" x2=\"169.5\" y1=\"78.9375\" y2=\"78.9375\"/></a><!--MD5=[209b3feb70ccb6233bfe1053d122c12c]\n",
       "reverse link E2 to E3--><a href=\"psysml:92660e64-3893-4545-a353-67dbd76c0ff0\" target=\"_top\" title=\"psysml:92660e64-3893-4545-a353-67dbd76c0ff0\" xlink:actuate=\"onRequest\" xlink:href=\"psysml:92660e64-3893-4545-a353-67dbd76c0ff0\" xlink:show=\"new\" xlink:title=\"psysml:92660e64-3893-4545-a353-67dbd76c0ff0\" xlink:type=\"simple\"><path d=\"M131,253.76 C131,270.17 131,287.52 131,300.75 \" fill=\"none\" id=\"E2&lt;-E3\" style=\"stroke: #383838; stroke-width: 1.0;\"/><polygon fill=\"#383838\" points=\"131,240.31,127,246.31,131,252.31,135,246.31,131,240.31\" style=\"stroke: #383838; stroke-width: 1.0;\"/><text fill=\"#000000\" font-family=\"sans-serif\" font-size=\"13\" lengthAdjust=\"spacingAndGlyphs\" textLength=\"7\" x=\"123.1031\" y=\"289.9622\">*</text></a><!--MD5=[ddeed8deb2209213b62e6cfabaa108b2]\n",
       "reverse link E4 to E2--><a href=\"psysml:7b0b3a1a-f848-44f8-8668-45f7327338b0\" target=\"_top\" title=\"psysml:7b0b3a1a-f848-44f8-8668-45f7327338b0\" xlink:actuate=\"onRequest\" xlink:href=\"psysml:7b0b3a1a-f848-44f8-8668-45f7327338b0\" xlink:show=\"new\" xlink:title=\"psysml:7b0b3a1a-f848-44f8-8668-45f7327338b0\" xlink:type=\"simple\"><path d=\"M131,100.42 C131,119.95 131,144.19 131,163.97 \" fill=\"none\" id=\"E4&lt;-E2\" style=\"stroke: #383838; stroke-width: 1.0;\"/><polygon fill=\"#FFFFFF\" points=\"131,87.15,127,93.15,131,99.15,135,93.15,131,87.15\" style=\"stroke: #383838; stroke-width: 1.0;\"/><text fill=\"#000000\" font-family=\"sans-serif\" font-size=\"13\" lengthAdjust=\"spacingAndGlyphs\" textLength=\"7\" x=\"132\" y=\"130.0669\">c</text></a><!--MD5=[52fdbf4d0a224a12f9526aadb91487cd]\n",
       "@startuml\r\n",
       " skinparam monochrome true\r\n",
       "skinparam classbackgroundcolor white\r\n",
       "skinparam shadowing false\r\n",
       "skinparam wrapWidth 300\r\n",
       "hide circle\r\n",
       "\r\n",
       "package \"TextualRepresentationTest\" as E1  [[psysml:7357ea5e-db14-480c-8643-46679caa3aca ]]  {\r\n",
       "comp def \"C\" as E2  <<(T,blue) item def>> [[psysml:d8d89087-5f7a-40fd-9871-b52a02710321 ]] {\r\n",
       "- - attributes - -\r\n",
       "x: Real\r\n",
       "}\r\n",
       "comp usage \"x_constraint\" as E3  <<(T,blue) assertConstraint>> [[psysml:24b29db4-a520-4ed1-8de3-5d8963222bac ]] {\r\n",
       "}\r\n",
       "comp def \"setX\" as E4  <<(T,blue) action def>> [[psysml:4d0e1ac7-0ffb-42d7-bf53-5a956dddc154 ]] {\r\n",
       "}\r\n",
       "E2 *- - \"*\"E3 [[psysml:92660e64-3893-4545-a353-67dbd76c0ff0 ]] \r\n",
       "E4 o- - E2 [[psysml:7b0b3a1a-f848-44f8-8668-45f7327338b0 ]] : c\r\n",
       "}\r\n",
       "@enduml\r\n",
       "\n",
       "PlantUML version 1.2020.13(Sat Jun 13 12:26:38 UTC 2020)\n",
       "(EPL source distribution)\n",
       "Java Runtime: OpenJDK Runtime Environment\n",
       "JVM: OpenJDK 64-Bit Server VM\n",
       "Default Encoding: UTF-8\n",
       "Language: en\n",
       "Country: null\n",
       "--></g></svg>"
      ]
     },
     "execution_count": 3,
     "metadata": {},
     "output_type": "execute_result"
    }
   ],
   "source": [
    "%viz --style=\"COMPTREE\" --view=\"Tree\" \"TextualRepresentationTest\""
   ]
  },
  {
   "cell_type": "code",
   "execution_count": 4,
   "id": "7c8ccf72",
   "metadata": {
    "execution": {
     "iopub.execute_input": "2021-08-04T06:26:38.346380Z",
     "iopub.status.busy": "2021-08-04T06:26:38.345782Z",
     "iopub.status.idle": "2021-08-04T06:26:38.352750Z",
     "shell.execute_reply": "2021-08-04T06:26:38.351712Z"
    }
   },
   "outputs": [
    {
     "data": {
      "image/svg+xml": [
       "<?xml version=\"1.0\" encoding=\"UTF-8\" standalone=\"no\"?><svg xmlns=\"http://www.w3.org/2000/svg\" xmlns:xlink=\"http://www.w3.org/1999/xlink\" contentScriptType=\"application/ecmascript\" contentStyleType=\"text/css\" height=\"12px\" preserveAspectRatio=\"none\" style=\"width:12px;height:12px;\" version=\"1.1\" viewBox=\"0 0 12 12\" width=\"12px\" zoomAndPan=\"magnify\"><defs/><g><!--MD5=[f19188ef49e11757b5c46753f95d9edc]\n",
       "@startuml\r\n",
       " skinparam monochrome true\r\n",
       "skinparam classbackgroundcolor white\r\n",
       "skinparam shadowing false\r\n",
       "skinparam wrapWidth 300\r\n",
       "hide circle\r\n",
       "\r\n",
       "@enduml\r\n",
       "\n",
       "PlantUML version 1.2020.13(Sat Jun 13 12:26:38 UTC 2020)\n",
       "(EPL source distribution)\n",
       "Java Runtime: OpenJDK Runtime Environment\n",
       "JVM: OpenJDK 64-Bit Server VM\n",
       "Default Encoding: UTF-8\n",
       "Language: en\n",
       "Country: null\n",
       "--></g></svg>"
      ]
     },
     "execution_count": 4,
     "metadata": {},
     "output_type": "execute_result"
    }
   ],
   "source": [
    "%viz --style=\"COMPTREE\" --view=\"State\" \"TextualRepresentationTest\""
   ]
  },
  {
   "cell_type": "code",
   "execution_count": 5,
   "id": "6ff22427",
   "metadata": {
    "execution": {
     "iopub.execute_input": "2021-08-04T06:26:38.403917Z",
     "iopub.status.busy": "2021-08-04T06:26:38.403482Z",
     "iopub.status.idle": "2021-08-04T06:26:38.445803Z",
     "shell.execute_reply": "2021-08-04T06:26:38.446139Z"
    }
   },
   "outputs": [
    {
     "data": {
      "image/svg+xml": [
       "<?xml version=\"1.0\" encoding=\"UTF-8\" standalone=\"no\"?><svg xmlns=\"http://www.w3.org/2000/svg\" xmlns:xlink=\"http://www.w3.org/1999/xlink\" contentScriptType=\"application/ecmascript\" contentStyleType=\"text/css\" height=\"179px\" preserveAspectRatio=\"none\" style=\"width:284px;height:179px;\" version=\"1.1\" viewBox=\"0 0 284 179\" width=\"284px\" zoomAndPan=\"magnify\"><defs/><g><!--MD5=[fbc87193dbaf4d95561dea2c320d4a47]\n",
       "cluster E1--><a href=\"psysml:7357ea5e-db14-480c-8643-46679caa3aca\" target=\"_top\" title=\"psysml:7357ea5e-db14-480c-8643-46679caa3aca\" xlink:actuate=\"onRequest\" xlink:href=\"psysml:7357ea5e-db14-480c-8643-46679caa3aca\" xlink:show=\"new\" xlink:title=\"psysml:7357ea5e-db14-480c-8643-46679caa3aca\" xlink:type=\"simple\"><polygon fill=\"#FFFFFF\" points=\"16,6,236,6,243,28.2969,262,28.2969,262,167,16,167,16,6\" style=\"stroke: #000000; stroke-width: 1.5;\"/><line style=\"stroke: #000000; stroke-width: 1.5;\" x1=\"16\" x2=\"243\" y1=\"28.2969\" y2=\"28.2969\"/><text fill=\"#000000\" font-family=\"sans-serif\" font-size=\"14\" font-weight=\"bold\" lengthAdjust=\"spacingAndGlyphs\" textLength=\"214\" x=\"20\" y=\"20.9951\">TextualRepresentationTest</text></a><!--MD5=[d5e69f78d87373223dbae638b30a9c99]\n",
       "cluster E3--><a href=\"psysml:4d0e1ac7-0ffb-42d7-bf53-5a956dddc154\" target=\"_top\" title=\"psysml:4d0e1ac7-0ffb-42d7-bf53-5a956dddc154\" xlink:actuate=\"onRequest\" xlink:href=\"psysml:4d0e1ac7-0ffb-42d7-bf53-5a956dddc154\" xlink:show=\"new\" xlink:title=\"psysml:4d0e1ac7-0ffb-42d7-bf53-5a956dddc154\" xlink:type=\"simple\"><rect fill=\"#FFFFFF\" height=\"88.5\" id=\"E3\" style=\"stroke: #383838; stroke-width: 1.5;\" width=\"96\" x=\"120.5\" y=\"62.5\"/><rect fill=\"#F8F8F8\" height=\"37.9375\" style=\"stroke: #383838; stroke-width: 1.5;\" width=\"96\" x=\"120.5\" y=\"62.5\"/><text fill=\"#000000\" font-family=\"sans-serif\" font-size=\"12\" font-style=\"italic\" lengthAdjust=\"spacingAndGlyphs\" textLength=\"77\" x=\"130\" y=\"78.6387\">«action def»</text><text fill=\"#000000\" font-family=\"sans-serif\" font-size=\"12\" lengthAdjust=\"spacingAndGlyphs\" textLength=\"27\" x=\"155\" y=\"92.6074\">setX</text></a><g id=\"E1.E2\"><a href=\"psysml:d8d89087-5f7a-40fd-9871-b52a02710321\" target=\"_top\" title=\"psysml:d8d89087-5f7a-40fd-9871-b52a02710321\" xlink:actuate=\"onRequest\" xlink:href=\"psysml:d8d89087-5f7a-40fd-9871-b52a02710321\" xlink:show=\"new\" xlink:title=\"psysml:d8d89087-5f7a-40fd-9871-b52a02710321\" xlink:type=\"simple\"><rect fill=\"#FFFFFF\" height=\"42.9375\" id=\"E2\" style=\"stroke: #383838; stroke-width: 1.5;\" width=\"72\" x=\"32\" y=\"41\"/><rect fill=\"#F8F8F8\" height=\"37.9375\" style=\"stroke: #383838; stroke-width: 1.5;\" width=\"72\" x=\"32\" y=\"41\"/><text fill=\"#000000\" font-family=\"sans-serif\" font-size=\"12\" font-style=\"italic\" lengthAdjust=\"spacingAndGlyphs\" textLength=\"65\" x=\"35.5\" y=\"57.1387\">«item def»</text><text fill=\"#000000\" font-family=\"sans-serif\" font-size=\"12\" lengthAdjust=\"spacingAndGlyphs\" textLength=\"8\" x=\"64\" y=\"71.1074\">C</text></a></g><text fill=\"#000000\" font-family=\"sans-serif\" font-size=\"14\" lengthAdjust=\"spacingAndGlyphs\" textLength=\"8\" x=\"141\" y=\"41.1982\">c</text><rect fill=\"#383838\" height=\"12\" style=\"stroke: #F8F8F8; stroke-width: 1.5;\" width=\"12\" x=\"139\" y=\"56.5\"/><text fill=\"#000000\" font-family=\"sans-serif\" font-size=\"14\" lengthAdjust=\"spacingAndGlyphs\" textLength=\"38\" x=\"173\" y=\"41.1982\">newX</text><rect fill=\"#383838\" height=\"12\" style=\"stroke: #F8F8F8; stroke-width: 1.5;\" width=\"12\" x=\"186\" y=\"56.5\"/><!--MD5=[4c53fc2a63a4a488e53834b1190f00c6]\n",
       "@startuml\r\n",
       "skinparam ranksep 10\r\n",
       "skinparam rectangle {\r\n",
       " backgroundColor<<block>> LightGreen\r\n",
       "}\r\n",
       " skinparam monochrome true\r\n",
       "skinparam classbackgroundcolor white\r\n",
       "skinparam shadowing false\r\n",
       "skinparam wrapWidth 300\r\n",
       "hide circle\r\n",
       "\r\n",
       "package \"TextualRepresentationTest\" as E1  [[psysml:7357ea5e-db14-480c-8643-46679caa3aca ]]  {\r\n",
       "def \"C\" as E2  <<(T,blue) item def>> [[psysml:d8d89087-5f7a-40fd-9871-b52a02710321 ]] \r\n",
       "rec def \"setX\" as E3  <<(T,blue) action def>> [[psysml:4d0e1ac7-0ffb-42d7-bf53-5a956dddc154 ]] {\r\n",
       "portin \"c\" as E4  [[psysml:7b0b3a1a-f848-44f8-8668-45f7327338b0 ]] \r\n",
       "portin \"newX\" as E5  [[psysml:5310235f-3728-4e86-87c8-1dd93d46f083 ]] \r\n",
       "}\r\n",
       "\r\n",
       "}\r\n",
       "@enduml\r\n",
       "\n",
       "PlantUML version 1.2020.13(Sat Jun 13 12:26:38 UTC 2020)\n",
       "(EPL source distribution)\n",
       "Java Runtime: OpenJDK Runtime Environment\n",
       "JVM: OpenJDK 64-Bit Server VM\n",
       "Default Encoding: UTF-8\n",
       "Language: en\n",
       "Country: null\n",
       "--></g></svg>"
      ]
     },
     "execution_count": 5,
     "metadata": {},
     "output_type": "execute_result"
    }
   ],
   "source": [
    "%viz --style=\"COMPTREE\" --view=\"Interconnection\" \"TextualRepresentationTest\""
   ]
  },
  {
   "cell_type": "code",
   "execution_count": 6,
   "id": "dd48fe2c",
   "metadata": {
    "execution": {
     "iopub.execute_input": "2021-08-04T06:26:38.496322Z",
     "iopub.status.busy": "2021-08-04T06:26:38.495845Z",
     "iopub.status.idle": "2021-08-04T06:26:38.530866Z",
     "shell.execute_reply": "2021-08-04T06:26:38.531201Z"
    }
   },
   "outputs": [
    {
     "data": {
      "image/svg+xml": [
       "<?xml version=\"1.0\" encoding=\"UTF-8\" standalone=\"no\"?><svg xmlns=\"http://www.w3.org/2000/svg\" xmlns:xlink=\"http://www.w3.org/1999/xlink\" contentScriptType=\"application/ecmascript\" contentStyleType=\"text/css\" height=\"126px\" preserveAspectRatio=\"none\" style=\"width:150px;height:126px;\" version=\"1.1\" viewBox=\"0 0 150 126\" width=\"150px\" zoomAndPan=\"magnify\"><defs/><g><!--MD5=[fbc87193dbaf4d95561dea2c320d4a47]\n",
       "cluster E1--><a href=\"psysml:4d0e1ac7-0ffb-42d7-bf53-5a956dddc154\" target=\"_top\" title=\"psysml:4d0e1ac7-0ffb-42d7-bf53-5a956dddc154\" xlink:actuate=\"onRequest\" xlink:href=\"psysml:4d0e1ac7-0ffb-42d7-bf53-5a956dddc154\" xlink:show=\"new\" xlink:title=\"psysml:4d0e1ac7-0ffb-42d7-bf53-5a956dddc154\" xlink:type=\"simple\"><rect fill=\"#FFFFFF\" height=\"73\" id=\"E1\" style=\"stroke: #383838; stroke-width: 1.5;\" width=\"132\" x=\"7\" y=\"42.0986\"/><rect fill=\"#F8F8F8\" height=\"37.9375\" style=\"stroke: #383838; stroke-width: 1.5;\" width=\"132\" x=\"7\" y=\"42.0986\"/><text fill=\"#000000\" font-family=\"sans-serif\" font-size=\"12\" font-style=\"italic\" lengthAdjust=\"spacingAndGlyphs\" textLength=\"77\" x=\"34.5\" y=\"58.2373\">«action def»</text><text fill=\"#000000\" font-family=\"sans-serif\" font-size=\"12\" lengthAdjust=\"spacingAndGlyphs\" textLength=\"27\" x=\"59.5\" y=\"72.2061\">setX</text></a><text fill=\"#000000\" font-family=\"sans-serif\" font-size=\"14\" lengthAdjust=\"spacingAndGlyphs\" textLength=\"8\" x=\"21\" y=\"20.7969\">c</text><rect fill=\"#383838\" height=\"12\" style=\"stroke: #F8F8F8; stroke-width: 1.5;\" width=\"12\" x=\"19\" y=\"36.0986\"/><text fill=\"#000000\" font-family=\"sans-serif\" font-size=\"14\" lengthAdjust=\"spacingAndGlyphs\" textLength=\"38\" x=\"53\" y=\"20.7969\">newX</text><rect fill=\"#383838\" height=\"12\" style=\"stroke: #F8F8F8; stroke-width: 1.5;\" width=\"12\" x=\"66\" y=\"36.0986\"/><!--MD5=[bf06dbe516e84d1046dc822b9c8b99f4]\n",
       "@startuml\r\n",
       "skinparam ranksep 8\r\n",
       " skinparam monochrome true\r\n",
       "skinparam classbackgroundcolor white\r\n",
       "skinparam shadowing false\r\n",
       "skinparam wrapWidth 300\r\n",
       "hide circle\r\n",
       "\r\n",
       "rec def \"setX\" as E1  <<(T,blue) action def>> [[psysml:4d0e1ac7-0ffb-42d7-bf53-5a956dddc154 ]] {\r\n",
       "portin \"c\" as E2  [[psysml:7b0b3a1a-f848-44f8-8668-45f7327338b0 ]] \r\n",
       "portin \"newX\" as E3  [[psysml:5310235f-3728-4e86-87c8-1dd93d46f083 ]] \r\n",
       "}\r\n",
       "\r\n",
       "@enduml\r\n",
       "\n",
       "PlantUML version 1.2020.13(Sat Jun 13 12:26:38 UTC 2020)\n",
       "(EPL source distribution)\n",
       "Java Runtime: OpenJDK Runtime Environment\n",
       "JVM: OpenJDK 64-Bit Server VM\n",
       "Default Encoding: UTF-8\n",
       "Language: en\n",
       "Country: null\n",
       "--></g></svg>"
      ]
     },
     "execution_count": 6,
     "metadata": {},
     "output_type": "execute_result"
    }
   ],
   "source": [
    "%viz --style=\"COMPTREE\" --view=\"Action\" \"TextualRepresentationTest\""
   ]
  },
  {
   "cell_type": "code",
   "execution_count": 7,
   "id": "d903efde",
   "metadata": {
    "execution": {
     "iopub.execute_input": "2021-08-04T06:26:38.581575Z",
     "iopub.status.busy": "2021-08-04T06:26:38.581107Z",
     "iopub.status.idle": "2021-08-04T06:26:38.631890Z",
     "shell.execute_reply": "2021-08-04T06:26:38.631161Z"
    }
   },
   "outputs": [
    {
     "data": {
      "image/svg+xml": [
       "<?xml version=\"1.0\" encoding=\"UTF-8\" standalone=\"no\"?><svg xmlns=\"http://www.w3.org/2000/svg\" xmlns:xlink=\"http://www.w3.org/1999/xlink\" contentScriptType=\"application/ecmascript\" contentStyleType=\"text/css\" height=\"375px\" preserveAspectRatio=\"none\" style=\"width:268px;height:375px;\" version=\"1.1\" viewBox=\"0 0 268 375\" width=\"268px\" zoomAndPan=\"magnify\"><defs/><g><!--MD5=[fbc87193dbaf4d95561dea2c320d4a47]\n",
       "cluster E1--><a href=\"psysml:7357ea5e-db14-480c-8643-46679caa3aca\" target=\"_top\" title=\"psysml:7357ea5e-db14-480c-8643-46679caa3aca\" xlink:actuate=\"onRequest\" xlink:href=\"psysml:7357ea5e-db14-480c-8643-46679caa3aca\" xlink:show=\"new\" xlink:title=\"psysml:7357ea5e-db14-480c-8643-46679caa3aca\" xlink:type=\"simple\"><polygon fill=\"#FFFFFF\" points=\"16,6,236,6,243,28.2969,246,28.2969,246,363,16,363,16,6\" style=\"stroke: #000000; stroke-width: 1.5;\"/><line style=\"stroke: #000000; stroke-width: 1.5;\" x1=\"16\" x2=\"243\" y1=\"28.2969\" y2=\"28.2969\"/><text fill=\"#000000\" font-family=\"sans-serif\" font-size=\"14\" font-weight=\"bold\" lengthAdjust=\"spacingAndGlyphs\" textLength=\"214\" x=\"20\" y=\"20.9951\">TextualRepresentationTest</text></a><!--MD5=[b4997ac47864f28c2f74865a473b2911]\n",
       "class E2--><a href=\"psysml:d8d89087-5f7a-40fd-9871-b52a02710321\" target=\"_top\" title=\"psysml:d8d89087-5f7a-40fd-9871-b52a02710321\" xlink:actuate=\"onRequest\" xlink:href=\"psysml:d8d89087-5f7a-40fd-9871-b52a02710321\" xlink:show=\"new\" xlink:title=\"psysml:d8d89087-5f7a-40fd-9871-b52a02710321\" xlink:type=\"simple\"><rect fill=\"#FFFFFF\" height=\"75.5469\" id=\"E2\" style=\"stroke: #383838; stroke-width: 1.5;\" width=\"67\" x=\"97.5\" y=\"164\"/><text fill=\"#000000\" font-family=\"sans-serif\" font-size=\"12\" font-style=\"italic\" lengthAdjust=\"spacingAndGlyphs\" textLength=\"65\" x=\"98.5\" y=\"180.1387\">«item def»</text><text fill=\"#000000\" font-family=\"sans-serif\" font-size=\"12\" lengthAdjust=\"spacingAndGlyphs\" textLength=\"8\" x=\"127\" y=\"194.1074\">C</text><line style=\"stroke: #383838; stroke-width: 1.5;\" x1=\"98.5\" x2=\"163.5\" y1=\"201.9375\" y2=\"201.9375\"/><text fill=\"#000000\" font-family=\"sans-serif\" font-size=\"11\" lengthAdjust=\"spacingAndGlyphs\" textLength=\"38\" x=\"103.5\" y=\"232.9526\">x: Real</text><line style=\"stroke: #383838; stroke-width: 1.0;\" x1=\"98.5\" x2=\"103.5\" y1=\"216.3398\" y2=\"216.3398\"/><text fill=\"#000000\" font-family=\"sans-serif\" font-size=\"11\" lengthAdjust=\"spacingAndGlyphs\" textLength=\"55\" x=\"103.5\" y=\"219.6479\">attributes</text><line style=\"stroke: #383838; stroke-width: 1.0;\" x1=\"158.5\" x2=\"163.5\" y1=\"216.3398\" y2=\"216.3398\"/></a><!--MD5=[09b614a08d8cba4a07c9adeb5e0fee81]\n",
       "class E3--><a href=\"psysml:24b29db4-a520-4ed1-8de3-5d8963222bac\" target=\"_top\" title=\"psysml:24b29db4-a520-4ed1-8de3-5d8963222bac\" xlink:actuate=\"onRequest\" xlink:href=\"psysml:24b29db4-a520-4ed1-8de3-5d8963222bac\" xlink:show=\"new\" xlink:title=\"psysml:24b29db4-a520-4ed1-8de3-5d8963222bac\" xlink:type=\"simple\"><rect fill=\"#FFFFFF\" height=\"45.9375\" id=\"E3\" rx=\"10\" ry=\"10\" style=\"stroke: #383838; stroke-width: 1.5;\" width=\"121\" x=\"70.5\" y=\"301\"/><text fill=\"#000000\" font-family=\"sans-serif\" font-size=\"12\" font-style=\"italic\" lengthAdjust=\"spacingAndGlyphs\" textLength=\"119\" x=\"71.5\" y=\"317.1387\">«assertConstraint»</text><text fill=\"#000000\" font-family=\"sans-serif\" font-size=\"12\" lengthAdjust=\"spacingAndGlyphs\" textLength=\"76\" x=\"93\" y=\"331.1074\">x_constraint</text><line style=\"stroke: #383838; stroke-width: 1.5;\" x1=\"71.5\" x2=\"190.5\" y1=\"338.9375\" y2=\"338.9375\"/></a><!--MD5=[ebbe1d658d1005bcc118a6aa81145e00]\n",
       "class E4--><a href=\"psysml:4d0e1ac7-0ffb-42d7-bf53-5a956dddc154\" target=\"_top\" title=\"psysml:4d0e1ac7-0ffb-42d7-bf53-5a956dddc154\" xlink:actuate=\"onRequest\" xlink:href=\"psysml:4d0e1ac7-0ffb-42d7-bf53-5a956dddc154\" xlink:show=\"new\" xlink:title=\"psysml:4d0e1ac7-0ffb-42d7-bf53-5a956dddc154\" xlink:type=\"simple\"><rect fill=\"#FFFFFF\" height=\"45.9375\" id=\"E4\" style=\"stroke: #383838; stroke-width: 1.5;\" width=\"79\" x=\"91.5\" y=\"41\"/><text fill=\"#000000\" font-family=\"sans-serif\" font-size=\"12\" font-style=\"italic\" lengthAdjust=\"spacingAndGlyphs\" textLength=\"77\" x=\"92.5\" y=\"57.1387\">«action def»</text><text fill=\"#000000\" font-family=\"sans-serif\" font-size=\"12\" lengthAdjust=\"spacingAndGlyphs\" textLength=\"27\" x=\"117.5\" y=\"71.1074\">setX</text><line style=\"stroke: #383838; stroke-width: 1.5;\" x1=\"92.5\" x2=\"169.5\" y1=\"78.9375\" y2=\"78.9375\"/></a><!--MD5=[209b3feb70ccb6233bfe1053d122c12c]\n",
       "reverse link E2 to E3--><a href=\"psysml:92660e64-3893-4545-a353-67dbd76c0ff0\" target=\"_top\" title=\"psysml:92660e64-3893-4545-a353-67dbd76c0ff0\" xlink:actuate=\"onRequest\" xlink:href=\"psysml:92660e64-3893-4545-a353-67dbd76c0ff0\" xlink:show=\"new\" xlink:title=\"psysml:92660e64-3893-4545-a353-67dbd76c0ff0\" xlink:type=\"simple\"><path d=\"M131,253.76 C131,270.17 131,287.52 131,300.75 \" fill=\"none\" id=\"E2&lt;-E3\" style=\"stroke: #383838; stroke-width: 1.0;\"/><polygon fill=\"#383838\" points=\"131,240.31,127,246.31,131,252.31,135,246.31,131,240.31\" style=\"stroke: #383838; stroke-width: 1.0;\"/><text fill=\"#000000\" font-family=\"sans-serif\" font-size=\"13\" lengthAdjust=\"spacingAndGlyphs\" textLength=\"7\" x=\"123.1031\" y=\"289.9622\">*</text></a><!--MD5=[ddeed8deb2209213b62e6cfabaa108b2]\n",
       "reverse link E4 to E2--><a href=\"psysml:7b0b3a1a-f848-44f8-8668-45f7327338b0\" target=\"_top\" title=\"psysml:7b0b3a1a-f848-44f8-8668-45f7327338b0\" xlink:actuate=\"onRequest\" xlink:href=\"psysml:7b0b3a1a-f848-44f8-8668-45f7327338b0\" xlink:show=\"new\" xlink:title=\"psysml:7b0b3a1a-f848-44f8-8668-45f7327338b0\" xlink:type=\"simple\"><path d=\"M131,100.42 C131,119.95 131,144.19 131,163.97 \" fill=\"none\" id=\"E4&lt;-E2\" style=\"stroke: #383838; stroke-width: 1.0;\"/><polygon fill=\"#FFFFFF\" points=\"131,87.15,127,93.15,131,99.15,135,93.15,131,87.15\" style=\"stroke: #383838; stroke-width: 1.0;\"/><text fill=\"#000000\" font-family=\"sans-serif\" font-size=\"13\" lengthAdjust=\"spacingAndGlyphs\" textLength=\"7\" x=\"132\" y=\"130.0669\">c</text></a><!--MD5=[52fdbf4d0a224a12f9526aadb91487cd]\n",
       "@startuml\r\n",
       " skinparam monochrome true\r\n",
       "skinparam classbackgroundcolor white\r\n",
       "skinparam shadowing false\r\n",
       "skinparam wrapWidth 300\r\n",
       "hide circle\r\n",
       "\r\n",
       "package \"TextualRepresentationTest\" as E1  [[psysml:7357ea5e-db14-480c-8643-46679caa3aca ]]  {\r\n",
       "comp def \"C\" as E2  <<(T,blue) item def>> [[psysml:d8d89087-5f7a-40fd-9871-b52a02710321 ]] {\r\n",
       "- - attributes - -\r\n",
       "x: Real\r\n",
       "}\r\n",
       "comp usage \"x_constraint\" as E3  <<(T,blue) assertConstraint>> [[psysml:24b29db4-a520-4ed1-8de3-5d8963222bac ]] {\r\n",
       "}\r\n",
       "comp def \"setX\" as E4  <<(T,blue) action def>> [[psysml:4d0e1ac7-0ffb-42d7-bf53-5a956dddc154 ]] {\r\n",
       "}\r\n",
       "E2 *- - \"*\"E3 [[psysml:92660e64-3893-4545-a353-67dbd76c0ff0 ]] \r\n",
       "E4 o- - E2 [[psysml:7b0b3a1a-f848-44f8-8668-45f7327338b0 ]] : c\r\n",
       "}\r\n",
       "@enduml\r\n",
       "\n",
       "PlantUML version 1.2020.13(Sat Jun 13 12:26:38 UTC 2020)\n",
       "(EPL source distribution)\n",
       "Java Runtime: OpenJDK Runtime Environment\n",
       "JVM: OpenJDK 64-Bit Server VM\n",
       "Default Encoding: UTF-8\n",
       "Language: en\n",
       "Country: null\n",
       "--></g></svg>"
      ]
     },
     "execution_count": 7,
     "metadata": {},
     "output_type": "execute_result"
    }
   ],
   "source": [
    "%viz --style=\"COMPTREE\" --view=\"Sequence\" \"TextualRepresentationTest\""
   ]
  },
  {
   "cell_type": "code",
   "execution_count": 8,
   "id": "98197ba3",
   "metadata": {
    "execution": {
     "iopub.execute_input": "2021-08-04T06:26:38.681968Z",
     "iopub.status.busy": "2021-08-04T06:26:38.681649Z",
     "iopub.status.idle": "2021-08-04T06:26:38.743327Z",
     "shell.execute_reply": "2021-08-04T06:26:38.742884Z"
    }
   },
   "outputs": [
    {
     "data": {
      "image/svg+xml": [
       "<?xml version=\"1.0\" encoding=\"UTF-8\" standalone=\"no\"?><svg xmlns=\"http://www.w3.org/2000/svg\" xmlns:xlink=\"http://www.w3.org/1999/xlink\" contentScriptType=\"application/ecmascript\" contentStyleType=\"text/css\" height=\"261px\" preserveAspectRatio=\"none\" style=\"width:345px;height:261px;\" version=\"1.1\" viewBox=\"0 0 345 261\" width=\"345px\" zoomAndPan=\"magnify\"><defs/><g><!--MD5=[fbc87193dbaf4d95561dea2c320d4a47]\n",
       "cluster E1--><a href=\"psysml:7357ea5e-db14-480c-8643-46679caa3aca\" target=\"_top\" title=\"psysml:7357ea5e-db14-480c-8643-46679caa3aca\" xlink:actuate=\"onRequest\" xlink:href=\"psysml:7357ea5e-db14-480c-8643-46679caa3aca\" xlink:show=\"new\" xlink:title=\"psysml:7357ea5e-db14-480c-8643-46679caa3aca\" xlink:type=\"simple\"><polygon fill=\"#FFFFFF\" points=\"16,6,236,6,243,28.2969,323,28.2969,323,249.5,16,249.5,16,6\" style=\"stroke: #000000; stroke-width: 1.5;\"/><line style=\"stroke: #000000; stroke-width: 1.5;\" x1=\"16\" x2=\"243\" y1=\"28.2969\" y2=\"28.2969\"/><text fill=\"#000000\" font-family=\"sans-serif\" font-size=\"14\" font-weight=\"bold\" lengthAdjust=\"spacingAndGlyphs\" textLength=\"214\" x=\"20\" y=\"20.9951\">TextualRepresentationTest</text></a><!--MD5=[f6df4d0ebaf0b5dfb2ced0ae5af7c670]\n",
       "cluster E4--><a href=\"psysml:4d0e1ac7-0ffb-42d7-bf53-5a956dddc154\" target=\"_top\" title=\"psysml:4d0e1ac7-0ffb-42d7-bf53-5a956dddc154\" xlink:actuate=\"onRequest\" xlink:href=\"psysml:4d0e1ac7-0ffb-42d7-bf53-5a956dddc154\" xlink:show=\"new\" xlink:title=\"psysml:4d0e1ac7-0ffb-42d7-bf53-5a956dddc154\" xlink:type=\"simple\"><rect fill=\"#FFFFFF\" height=\"154.5\" id=\"E4\" style=\"stroke: #383838; stroke-width: 1.5;\" width=\"132\" x=\"175\" y=\"79\"/><rect fill=\"#F8F8F8\" height=\"37.9375\" style=\"stroke: #383838; stroke-width: 1.5;\" width=\"132\" x=\"175\" y=\"79\"/><text fill=\"#000000\" font-family=\"sans-serif\" font-size=\"12\" font-style=\"italic\" lengthAdjust=\"spacingAndGlyphs\" textLength=\"77\" x=\"202.5\" y=\"95.1387\">«action def»</text><text fill=\"#000000\" font-family=\"sans-serif\" font-size=\"12\" lengthAdjust=\"spacingAndGlyphs\" textLength=\"27\" x=\"227.5\" y=\"109.1074\">setX</text></a><!--MD5=[b4997ac47864f28c2f74865a473b2911]\n",
       "class E2--><a href=\"psysml:d8d89087-5f7a-40fd-9871-b52a02710321\" target=\"_top\" title=\"psysml:d8d89087-5f7a-40fd-9871-b52a02710321\" xlink:actuate=\"onRequest\" xlink:href=\"psysml:d8d89087-5f7a-40fd-9871-b52a02710321\" xlink:show=\"new\" xlink:title=\"psysml:d8d89087-5f7a-40fd-9871-b52a02710321\" xlink:type=\"simple\"><rect fill=\"#FFFFFF\" height=\"75.5469\" id=\"E2\" style=\"stroke: #383838; stroke-width: 1.5;\" width=\"67\" x=\"59.5\" y=\"41\"/><text fill=\"#000000\" font-family=\"sans-serif\" font-size=\"12\" font-style=\"italic\" lengthAdjust=\"spacingAndGlyphs\" textLength=\"65\" x=\"60.5\" y=\"57.1387\">«item def»</text><text fill=\"#000000\" font-family=\"sans-serif\" font-size=\"12\" lengthAdjust=\"spacingAndGlyphs\" textLength=\"8\" x=\"89\" y=\"71.1074\">C</text><line style=\"stroke: #383838; stroke-width: 1.5;\" x1=\"60.5\" x2=\"125.5\" y1=\"78.9375\" y2=\"78.9375\"/><text fill=\"#000000\" font-family=\"sans-serif\" font-size=\"11\" lengthAdjust=\"spacingAndGlyphs\" textLength=\"38\" x=\"65.5\" y=\"109.9526\">x: Real</text><line style=\"stroke: #383838; stroke-width: 1.0;\" x1=\"60.5\" x2=\"65.5\" y1=\"93.3398\" y2=\"93.3398\"/><text fill=\"#000000\" font-family=\"sans-serif\" font-size=\"11\" lengthAdjust=\"spacingAndGlyphs\" textLength=\"55\" x=\"65.5\" y=\"96.6479\">attributes</text><line style=\"stroke: #383838; stroke-width: 1.0;\" x1=\"120.5\" x2=\"125.5\" y1=\"93.3398\" y2=\"93.3398\"/></a><!--MD5=[09b614a08d8cba4a07c9adeb5e0fee81]\n",
       "class E3--><a href=\"psysml:24b29db4-a520-4ed1-8de3-5d8963222bac\" target=\"_top\" title=\"psysml:24b29db4-a520-4ed1-8de3-5d8963222bac\" xlink:actuate=\"onRequest\" xlink:href=\"psysml:24b29db4-a520-4ed1-8de3-5d8963222bac\" xlink:show=\"new\" xlink:title=\"psysml:24b29db4-a520-4ed1-8de3-5d8963222bac\" xlink:type=\"simple\"><rect fill=\"#FFFFFF\" height=\"45.9375\" id=\"E3\" rx=\"10\" ry=\"10\" style=\"stroke: #383838; stroke-width: 1.5;\" width=\"121\" x=\"32.5\" y=\"177\"/><text fill=\"#000000\" font-family=\"sans-serif\" font-size=\"12\" font-style=\"italic\" lengthAdjust=\"spacingAndGlyphs\" textLength=\"119\" x=\"33.5\" y=\"193.1387\">«assertConstraint»</text><text fill=\"#000000\" font-family=\"sans-serif\" font-size=\"12\" lengthAdjust=\"spacingAndGlyphs\" textLength=\"76\" x=\"55\" y=\"207.1074\">x_constraint</text><line style=\"stroke: #383838; stroke-width: 1.5;\" x1=\"33.5\" x2=\"152.5\" y1=\"214.9375\" y2=\"214.9375\"/></a><text fill=\"#000000\" font-family=\"sans-serif\" font-size=\"14\" lengthAdjust=\"spacingAndGlyphs\" textLength=\"8\" x=\"189\" y=\"57.6982\">c</text><rect fill=\"#383838\" height=\"12\" style=\"stroke: #F8F8F8; stroke-width: 1.5;\" width=\"12\" x=\"187\" y=\"73\"/><text fill=\"#000000\" font-family=\"sans-serif\" font-size=\"14\" lengthAdjust=\"spacingAndGlyphs\" textLength=\"38\" x=\"221\" y=\"57.6982\">newX</text><rect fill=\"#383838\" height=\"12\" style=\"stroke: #F8F8F8; stroke-width: 1.5;\" width=\"12\" x=\"234\" y=\"73\"/><!--MD5=[209b3feb70ccb6233bfe1053d122c12c]\n",
       "reverse link E2 to E3--><a href=\"psysml:92660e64-3893-4545-a353-67dbd76c0ff0\" target=\"_top\" title=\"psysml:92660e64-3893-4545-a353-67dbd76c0ff0\" xlink:actuate=\"onRequest\" xlink:href=\"psysml:92660e64-3893-4545-a353-67dbd76c0ff0\" xlink:show=\"new\" xlink:title=\"psysml:92660e64-3893-4545-a353-67dbd76c0ff0\" xlink:type=\"simple\"><path d=\"M93,130.34 C93,146.61 93,163.81 93,176.93 \" fill=\"none\" id=\"E2&lt;-E3\" style=\"stroke: #383838; stroke-width: 1.0;\"/><polygon fill=\"#383838\" points=\"93,117,89,123,93,129,97,123,93,117\" style=\"stroke: #383838; stroke-width: 1.0;\"/><text fill=\"#000000\" font-family=\"sans-serif\" font-size=\"13\" lengthAdjust=\"spacingAndGlyphs\" textLength=\"7\" x=\"85.0594\" y=\"165.8075\">*</text></a><!--MD5=[b46ae8ec82844d8c59142fd35027109e]\n",
       "@startuml\r\n",
       " skinparam monochrome true\r\n",
       "skinparam classbackgroundcolor white\r\n",
       "skinparam shadowing false\r\n",
       "skinparam wrapWidth 300\r\n",
       "hide circle\r\n",
       "\r\n",
       "package \"TextualRepresentationTest\" as E1  [[psysml:7357ea5e-db14-480c-8643-46679caa3aca ]]  {\r\n",
       "comp def \"C\" as E2  <<(T,blue) item def>> [[psysml:d8d89087-5f7a-40fd-9871-b52a02710321 ]] {\r\n",
       "- - attributes - -\r\n",
       "x: Real\r\n",
       "}\r\n",
       "comp usage \"x_constraint\" as E3  <<(T,blue) assertConstraint>> [[psysml:24b29db4-a520-4ed1-8de3-5d8963222bac ]] {\r\n",
       "}\r\n",
       "rec def \"setX\" as E4  <<(T,blue) action def>> [[psysml:4d0e1ac7-0ffb-42d7-bf53-5a956dddc154 ]] {\r\n",
       "portin \"c\" as E5  [[psysml:7b0b3a1a-f848-44f8-8668-45f7327338b0 ]] \r\n",
       "portin \"newX\" as E6  [[psysml:5310235f-3728-4e86-87c8-1dd93d46f083 ]] \r\n",
       "}\r\n",
       "\r\n",
       "E2 *- - \"*\"E3 [[psysml:92660e64-3893-4545-a353-67dbd76c0ff0 ]] \r\n",
       "}\r\n",
       "@enduml\r\n",
       "\n",
       "PlantUML version 1.2020.13(Sat Jun 13 12:26:38 UTC 2020)\n",
       "(EPL source distribution)\n",
       "Java Runtime: OpenJDK Runtime Environment\n",
       "JVM: OpenJDK 64-Bit Server VM\n",
       "Default Encoding: UTF-8\n",
       "Language: en\n",
       "Country: null\n",
       "--></g></svg>"
      ]
     },
     "execution_count": 8,
     "metadata": {},
     "output_type": "execute_result"
    }
   ],
   "source": [
    "%viz --style=\"COMPTREE\" --view=\"MIXED\" \"TextualRepresentationTest\""
   ]
  },
  {
   "cell_type": "code",
   "execution_count": 9,
   "id": "38929665",
   "metadata": {
    "execution": {
     "iopub.execute_input": "2021-08-04T06:26:38.792788Z",
     "iopub.status.busy": "2021-08-04T06:26:38.792255Z",
     "iopub.status.idle": "2021-08-04T06:26:38.858286Z",
     "shell.execute_reply": "2021-08-04T06:26:38.857906Z"
    }
   },
   "outputs": [
    {
     "data": {
      "image/svg+xml": [
       "<?xml version=\"1.0\" encoding=\"UTF-8\" standalone=\"no\"?><svg xmlns=\"http://www.w3.org/2000/svg\" xmlns:xlink=\"http://www.w3.org/1999/xlink\" contentScriptType=\"application/ecmascript\" contentStyleType=\"text/css\" height=\"261px\" preserveAspectRatio=\"none\" style=\"width:345px;height:261px;\" version=\"1.1\" viewBox=\"0 0 345 261\" width=\"345px\" zoomAndPan=\"magnify\"><defs/><g><!--MD5=[fbc87193dbaf4d95561dea2c320d4a47]\n",
       "cluster E1--><a href=\"psysml:7357ea5e-db14-480c-8643-46679caa3aca\" target=\"_top\" title=\"psysml:7357ea5e-db14-480c-8643-46679caa3aca\" xlink:actuate=\"onRequest\" xlink:href=\"psysml:7357ea5e-db14-480c-8643-46679caa3aca\" xlink:show=\"new\" xlink:title=\"psysml:7357ea5e-db14-480c-8643-46679caa3aca\" xlink:type=\"simple\"><polygon fill=\"#FFFFFF\" points=\"16,6,236,6,243,28.2969,323,28.2969,323,249.5,16,249.5,16,6\" style=\"stroke: #000000; stroke-width: 1.5;\"/><line style=\"stroke: #000000; stroke-width: 1.5;\" x1=\"16\" x2=\"243\" y1=\"28.2969\" y2=\"28.2969\"/><text fill=\"#000000\" font-family=\"sans-serif\" font-size=\"14\" font-weight=\"bold\" lengthAdjust=\"spacingAndGlyphs\" textLength=\"214\" x=\"20\" y=\"20.9951\">TextualRepresentationTest</text></a><!--MD5=[f6df4d0ebaf0b5dfb2ced0ae5af7c670]\n",
       "cluster E4--><a href=\"psysml:4d0e1ac7-0ffb-42d7-bf53-5a956dddc154\" target=\"_top\" title=\"psysml:4d0e1ac7-0ffb-42d7-bf53-5a956dddc154\" xlink:actuate=\"onRequest\" xlink:href=\"psysml:4d0e1ac7-0ffb-42d7-bf53-5a956dddc154\" xlink:show=\"new\" xlink:title=\"psysml:4d0e1ac7-0ffb-42d7-bf53-5a956dddc154\" xlink:type=\"simple\"><rect fill=\"#FFFFFF\" height=\"154.5\" id=\"E4\" style=\"stroke: #383838; stroke-width: 1.5;\" width=\"132\" x=\"175\" y=\"79\"/><rect fill=\"#F8F8F8\" height=\"37.9375\" style=\"stroke: #383838; stroke-width: 1.5;\" width=\"132\" x=\"175\" y=\"79\"/><text fill=\"#000000\" font-family=\"sans-serif\" font-size=\"12\" font-style=\"italic\" lengthAdjust=\"spacingAndGlyphs\" textLength=\"77\" x=\"202.5\" y=\"95.1387\">«action def»</text><text fill=\"#000000\" font-family=\"sans-serif\" font-size=\"12\" lengthAdjust=\"spacingAndGlyphs\" textLength=\"27\" x=\"227.5\" y=\"109.1074\">setX</text></a><!--MD5=[b4997ac47864f28c2f74865a473b2911]\n",
       "class E2--><a href=\"psysml:d8d89087-5f7a-40fd-9871-b52a02710321\" target=\"_top\" title=\"psysml:d8d89087-5f7a-40fd-9871-b52a02710321\" xlink:actuate=\"onRequest\" xlink:href=\"psysml:d8d89087-5f7a-40fd-9871-b52a02710321\" xlink:show=\"new\" xlink:title=\"psysml:d8d89087-5f7a-40fd-9871-b52a02710321\" xlink:type=\"simple\"><rect fill=\"#FFFFFF\" height=\"75.5469\" id=\"E2\" style=\"stroke: #383838; stroke-width: 1.5;\" width=\"67\" x=\"59.5\" y=\"41\"/><text fill=\"#000000\" font-family=\"sans-serif\" font-size=\"12\" font-style=\"italic\" lengthAdjust=\"spacingAndGlyphs\" textLength=\"65\" x=\"60.5\" y=\"57.1387\">«item def»</text><text fill=\"#000000\" font-family=\"sans-serif\" font-size=\"12\" lengthAdjust=\"spacingAndGlyphs\" textLength=\"8\" x=\"89\" y=\"71.1074\">C</text><line style=\"stroke: #383838; stroke-width: 1.5;\" x1=\"60.5\" x2=\"125.5\" y1=\"78.9375\" y2=\"78.9375\"/><text fill=\"#000000\" font-family=\"sans-serif\" font-size=\"11\" lengthAdjust=\"spacingAndGlyphs\" textLength=\"38\" x=\"65.5\" y=\"109.9526\">x: Real</text><line style=\"stroke: #383838; stroke-width: 1.0;\" x1=\"60.5\" x2=\"65.5\" y1=\"93.3398\" y2=\"93.3398\"/><text fill=\"#000000\" font-family=\"sans-serif\" font-size=\"11\" lengthAdjust=\"spacingAndGlyphs\" textLength=\"55\" x=\"65.5\" y=\"96.6479\">attributes</text><line style=\"stroke: #383838; stroke-width: 1.0;\" x1=\"120.5\" x2=\"125.5\" y1=\"93.3398\" y2=\"93.3398\"/></a><!--MD5=[09b614a08d8cba4a07c9adeb5e0fee81]\n",
       "class E3--><a href=\"psysml:24b29db4-a520-4ed1-8de3-5d8963222bac\" target=\"_top\" title=\"psysml:24b29db4-a520-4ed1-8de3-5d8963222bac\" xlink:actuate=\"onRequest\" xlink:href=\"psysml:24b29db4-a520-4ed1-8de3-5d8963222bac\" xlink:show=\"new\" xlink:title=\"psysml:24b29db4-a520-4ed1-8de3-5d8963222bac\" xlink:type=\"simple\"><rect fill=\"#FFFFFF\" height=\"45.9375\" id=\"E3\" rx=\"10\" ry=\"10\" style=\"stroke: #383838; stroke-width: 1.5;\" width=\"121\" x=\"32.5\" y=\"177\"/><text fill=\"#000000\" font-family=\"sans-serif\" font-size=\"12\" font-style=\"italic\" lengthAdjust=\"spacingAndGlyphs\" textLength=\"119\" x=\"33.5\" y=\"193.1387\">«assertConstraint»</text><text fill=\"#000000\" font-family=\"sans-serif\" font-size=\"12\" lengthAdjust=\"spacingAndGlyphs\" textLength=\"76\" x=\"55\" y=\"207.1074\">x_constraint</text><line style=\"stroke: #383838; stroke-width: 1.5;\" x1=\"33.5\" x2=\"152.5\" y1=\"214.9375\" y2=\"214.9375\"/></a><text fill=\"#000000\" font-family=\"sans-serif\" font-size=\"14\" lengthAdjust=\"spacingAndGlyphs\" textLength=\"8\" x=\"189\" y=\"57.6982\">c</text><rect fill=\"#383838\" height=\"12\" style=\"stroke: #F8F8F8; stroke-width: 1.5;\" width=\"12\" x=\"187\" y=\"73\"/><text fill=\"#000000\" font-family=\"sans-serif\" font-size=\"14\" lengthAdjust=\"spacingAndGlyphs\" textLength=\"38\" x=\"221\" y=\"57.6982\">newX</text><rect fill=\"#383838\" height=\"12\" style=\"stroke: #F8F8F8; stroke-width: 1.5;\" width=\"12\" x=\"234\" y=\"73\"/><!--MD5=[209b3feb70ccb6233bfe1053d122c12c]\n",
       "reverse link E2 to E3--><a href=\"psysml:92660e64-3893-4545-a353-67dbd76c0ff0\" target=\"_top\" title=\"psysml:92660e64-3893-4545-a353-67dbd76c0ff0\" xlink:actuate=\"onRequest\" xlink:href=\"psysml:92660e64-3893-4545-a353-67dbd76c0ff0\" xlink:show=\"new\" xlink:title=\"psysml:92660e64-3893-4545-a353-67dbd76c0ff0\" xlink:type=\"simple\"><path d=\"M93,130.34 C93,146.61 93,163.81 93,176.93 \" fill=\"none\" id=\"E2&lt;-E3\" style=\"stroke: #383838; stroke-width: 1.0;\"/><polygon fill=\"#383838\" points=\"93,117,89,123,93,129,97,123,93,117\" style=\"stroke: #383838; stroke-width: 1.0;\"/><text fill=\"#000000\" font-family=\"sans-serif\" font-size=\"13\" lengthAdjust=\"spacingAndGlyphs\" textLength=\"7\" x=\"85.0594\" y=\"165.8075\">*</text></a><!--MD5=[14fed3be2cb5bbd9a8c3b6e52887e86f]\n",
       "@startuml\r\n",
       "skinparam linetype polyline\r\n",
       "skinparam monochrome true\r\n",
       "skinparam classbackgroundcolor white\r\n",
       "skinparam shadowing false\r\n",
       "skinparam wrapWidth 300\r\n",
       "hide circle\r\n",
       "\r\n",
       "package \"TextualRepresentationTest\" as E1  [[psysml:7357ea5e-db14-480c-8643-46679caa3aca ]]  {\r\n",
       "comp def \"C\" as E2  <<(T,blue) item def>> [[psysml:d8d89087-5f7a-40fd-9871-b52a02710321 ]] {\r\n",
       "- - attributes - -\r\n",
       "x: Real\r\n",
       "}\r\n",
       "comp usage \"x_constraint\" as E3  <<(T,blue) assertConstraint>> [[psysml:24b29db4-a520-4ed1-8de3-5d8963222bac ]] {\r\n",
       "}\r\n",
       "rec def \"setX\" as E4  <<(T,blue) action def>> [[psysml:4d0e1ac7-0ffb-42d7-bf53-5a956dddc154 ]] {\r\n",
       "portin \"c\" as E5  [[psysml:7b0b3a1a-f848-44f8-8668-45f7327338b0 ]] \r\n",
       "portin \"newX\" as E6  [[psysml:5310235f-3728-4e86-87c8-1dd93d46f083 ]] \r\n",
       "}\r\n",
       "\r\n",
       "E2 *- - \"*\"E3 [[psysml:92660e64-3893-4545-a353-67dbd76c0ff0 ]] \r\n",
       "}\r\n",
       "@enduml\r\n",
       "\n",
       "PlantUML version 1.2020.13(Sat Jun 13 12:26:38 UTC 2020)\n",
       "(EPL source distribution)\n",
       "Java Runtime: OpenJDK Runtime Environment\n",
       "JVM: OpenJDK 64-Bit Server VM\n",
       "Default Encoding: UTF-8\n",
       "Language: en\n",
       "Country: null\n",
       "--></g></svg>"
      ]
     },
     "execution_count": 9,
     "metadata": {},
     "output_type": "execute_result"
    }
   ],
   "source": [
    "%viz --style=\"POLYLINE\" --view=\"Default\" \"TextualRepresentationTest\""
   ]
  },
  {
   "cell_type": "code",
   "execution_count": 10,
   "id": "e88c6e85",
   "metadata": {
    "execution": {
     "iopub.execute_input": "2021-08-04T06:26:38.908128Z",
     "iopub.status.busy": "2021-08-04T06:26:38.907718Z",
     "iopub.status.idle": "2021-08-04T06:26:38.963589Z",
     "shell.execute_reply": "2021-08-04T06:26:38.963903Z"
    }
   },
   "outputs": [
    {
     "data": {
      "image/svg+xml": [
       "<?xml version=\"1.0\" encoding=\"UTF-8\" standalone=\"no\"?><svg xmlns=\"http://www.w3.org/2000/svg\" xmlns:xlink=\"http://www.w3.org/1999/xlink\" contentScriptType=\"application/ecmascript\" contentStyleType=\"text/css\" height=\"375px\" preserveAspectRatio=\"none\" style=\"width:268px;height:375px;\" version=\"1.1\" viewBox=\"0 0 268 375\" width=\"268px\" zoomAndPan=\"magnify\"><defs/><g><!--MD5=[fbc87193dbaf4d95561dea2c320d4a47]\n",
       "cluster E1--><a href=\"psysml:7357ea5e-db14-480c-8643-46679caa3aca\" target=\"_top\" title=\"psysml:7357ea5e-db14-480c-8643-46679caa3aca\" xlink:actuate=\"onRequest\" xlink:href=\"psysml:7357ea5e-db14-480c-8643-46679caa3aca\" xlink:show=\"new\" xlink:title=\"psysml:7357ea5e-db14-480c-8643-46679caa3aca\" xlink:type=\"simple\"><polygon fill=\"#FFFFFF\" points=\"16,6,236,6,243,28.2969,246,28.2969,246,363,16,363,16,6\" style=\"stroke: #000000; stroke-width: 1.5;\"/><line style=\"stroke: #000000; stroke-width: 1.5;\" x1=\"16\" x2=\"243\" y1=\"28.2969\" y2=\"28.2969\"/><text fill=\"#000000\" font-family=\"sans-serif\" font-size=\"14\" font-weight=\"bold\" lengthAdjust=\"spacingAndGlyphs\" textLength=\"214\" x=\"20\" y=\"20.9951\">TextualRepresentationTest</text></a><!--MD5=[b4997ac47864f28c2f74865a473b2911]\n",
       "class E2--><a href=\"psysml:d8d89087-5f7a-40fd-9871-b52a02710321\" target=\"_top\" title=\"psysml:d8d89087-5f7a-40fd-9871-b52a02710321\" xlink:actuate=\"onRequest\" xlink:href=\"psysml:d8d89087-5f7a-40fd-9871-b52a02710321\" xlink:show=\"new\" xlink:title=\"psysml:d8d89087-5f7a-40fd-9871-b52a02710321\" xlink:type=\"simple\"><rect fill=\"#FFFFFF\" height=\"75.5469\" id=\"E2\" style=\"stroke: #383838; stroke-width: 1.5;\" width=\"67\" x=\"97.5\" y=\"164\"/><text fill=\"#000000\" font-family=\"sans-serif\" font-size=\"12\" font-style=\"italic\" lengthAdjust=\"spacingAndGlyphs\" textLength=\"65\" x=\"98.5\" y=\"180.1387\">«item def»</text><text fill=\"#000000\" font-family=\"sans-serif\" font-size=\"12\" lengthAdjust=\"spacingAndGlyphs\" textLength=\"8\" x=\"127\" y=\"194.1074\">C</text><line style=\"stroke: #383838; stroke-width: 1.5;\" x1=\"98.5\" x2=\"163.5\" y1=\"201.9375\" y2=\"201.9375\"/><text fill=\"#000000\" font-family=\"sans-serif\" font-size=\"11\" lengthAdjust=\"spacingAndGlyphs\" textLength=\"38\" x=\"103.5\" y=\"232.9526\">x: Real</text><line style=\"stroke: #383838; stroke-width: 1.0;\" x1=\"98.5\" x2=\"103.5\" y1=\"216.3398\" y2=\"216.3398\"/><text fill=\"#000000\" font-family=\"sans-serif\" font-size=\"11\" lengthAdjust=\"spacingAndGlyphs\" textLength=\"55\" x=\"103.5\" y=\"219.6479\">attributes</text><line style=\"stroke: #383838; stroke-width: 1.0;\" x1=\"158.5\" x2=\"163.5\" y1=\"216.3398\" y2=\"216.3398\"/></a><!--MD5=[09b614a08d8cba4a07c9adeb5e0fee81]\n",
       "class E3--><a href=\"psysml:24b29db4-a520-4ed1-8de3-5d8963222bac\" target=\"_top\" title=\"psysml:24b29db4-a520-4ed1-8de3-5d8963222bac\" xlink:actuate=\"onRequest\" xlink:href=\"psysml:24b29db4-a520-4ed1-8de3-5d8963222bac\" xlink:show=\"new\" xlink:title=\"psysml:24b29db4-a520-4ed1-8de3-5d8963222bac\" xlink:type=\"simple\"><rect fill=\"#FFFFFF\" height=\"45.9375\" id=\"E3\" rx=\"10\" ry=\"10\" style=\"stroke: #383838; stroke-width: 1.5;\" width=\"121\" x=\"70.5\" y=\"301\"/><text fill=\"#000000\" font-family=\"sans-serif\" font-size=\"12\" font-style=\"italic\" lengthAdjust=\"spacingAndGlyphs\" textLength=\"119\" x=\"71.5\" y=\"317.1387\">«assertConstraint»</text><text fill=\"#000000\" font-family=\"sans-serif\" font-size=\"12\" lengthAdjust=\"spacingAndGlyphs\" textLength=\"76\" x=\"93\" y=\"331.1074\">x_constraint</text><line style=\"stroke: #383838; stroke-width: 1.5;\" x1=\"71.5\" x2=\"190.5\" y1=\"338.9375\" y2=\"338.9375\"/></a><!--MD5=[ebbe1d658d1005bcc118a6aa81145e00]\n",
       "class E4--><a href=\"psysml:4d0e1ac7-0ffb-42d7-bf53-5a956dddc154\" target=\"_top\" title=\"psysml:4d0e1ac7-0ffb-42d7-bf53-5a956dddc154\" xlink:actuate=\"onRequest\" xlink:href=\"psysml:4d0e1ac7-0ffb-42d7-bf53-5a956dddc154\" xlink:show=\"new\" xlink:title=\"psysml:4d0e1ac7-0ffb-42d7-bf53-5a956dddc154\" xlink:type=\"simple\"><rect fill=\"#FFFFFF\" height=\"45.9375\" id=\"E4\" style=\"stroke: #383838; stroke-width: 1.5;\" width=\"79\" x=\"91.5\" y=\"41\"/><text fill=\"#000000\" font-family=\"sans-serif\" font-size=\"12\" font-style=\"italic\" lengthAdjust=\"spacingAndGlyphs\" textLength=\"77\" x=\"92.5\" y=\"57.1387\">«action def»</text><text fill=\"#000000\" font-family=\"sans-serif\" font-size=\"12\" lengthAdjust=\"spacingAndGlyphs\" textLength=\"27\" x=\"117.5\" y=\"71.1074\">setX</text><line style=\"stroke: #383838; stroke-width: 1.5;\" x1=\"92.5\" x2=\"169.5\" y1=\"78.9375\" y2=\"78.9375\"/></a><!--MD5=[209b3feb70ccb6233bfe1053d122c12c]\n",
       "reverse link E2 to E3--><a href=\"psysml:92660e64-3893-4545-a353-67dbd76c0ff0\" target=\"_top\" title=\"psysml:92660e64-3893-4545-a353-67dbd76c0ff0\" xlink:actuate=\"onRequest\" xlink:href=\"psysml:92660e64-3893-4545-a353-67dbd76c0ff0\" xlink:show=\"new\" xlink:title=\"psysml:92660e64-3893-4545-a353-67dbd76c0ff0\" xlink:type=\"simple\"><path d=\"M131,253.76 C131,270.17 131,287.52 131,300.75 \" fill=\"none\" id=\"E2&lt;-E3\" style=\"stroke: #383838; stroke-width: 1.0;\"/><polygon fill=\"#383838\" points=\"131,240.31,127,246.31,131,252.31,135,246.31,131,240.31\" style=\"stroke: #383838; stroke-width: 1.0;\"/><text fill=\"#000000\" font-family=\"sans-serif\" font-size=\"13\" lengthAdjust=\"spacingAndGlyphs\" textLength=\"7\" x=\"123.1031\" y=\"289.9622\">*</text></a><!--MD5=[ddeed8deb2209213b62e6cfabaa108b2]\n",
       "reverse link E4 to E2--><a href=\"psysml:7b0b3a1a-f848-44f8-8668-45f7327338b0\" target=\"_top\" title=\"psysml:7b0b3a1a-f848-44f8-8668-45f7327338b0\" xlink:actuate=\"onRequest\" xlink:href=\"psysml:7b0b3a1a-f848-44f8-8668-45f7327338b0\" xlink:show=\"new\" xlink:title=\"psysml:7b0b3a1a-f848-44f8-8668-45f7327338b0\" xlink:type=\"simple\"><path d=\"M131,100.42 C131,119.95 131,144.19 131,163.97 \" fill=\"none\" id=\"E4&lt;-E2\" style=\"stroke: #383838; stroke-width: 1.0;\"/><polygon fill=\"#FFFFFF\" points=\"131,87.15,127,93.15,131,99.15,135,93.15,131,87.15\" style=\"stroke: #383838; stroke-width: 1.0;\"/><text fill=\"#000000\" font-family=\"sans-serif\" font-size=\"13\" lengthAdjust=\"spacingAndGlyphs\" textLength=\"7\" x=\"132\" y=\"130.0669\">c</text></a><!--MD5=[0fbcaac4329e0821f26d64ad81334119]\n",
       "@startuml\r\n",
       "skinparam linetype polyline\r\n",
       "skinparam monochrome true\r\n",
       "skinparam classbackgroundcolor white\r\n",
       "skinparam shadowing false\r\n",
       "skinparam wrapWidth 300\r\n",
       "hide circle\r\n",
       "\r\n",
       "package \"TextualRepresentationTest\" as E1  [[psysml:7357ea5e-db14-480c-8643-46679caa3aca ]]  {\r\n",
       "comp def \"C\" as E2  <<(T,blue) item def>> [[psysml:d8d89087-5f7a-40fd-9871-b52a02710321 ]] {\r\n",
       "- - attributes - -\r\n",
       "x: Real\r\n",
       "}\r\n",
       "comp usage \"x_constraint\" as E3  <<(T,blue) assertConstraint>> [[psysml:24b29db4-a520-4ed1-8de3-5d8963222bac ]] {\r\n",
       "}\r\n",
       "comp def \"setX\" as E4  <<(T,blue) action def>> [[psysml:4d0e1ac7-0ffb-42d7-bf53-5a956dddc154 ]] {\r\n",
       "}\r\n",
       "E2 *- - \"*\"E3 [[psysml:92660e64-3893-4545-a353-67dbd76c0ff0 ]] \r\n",
       "E4 o- - E2 [[psysml:7b0b3a1a-f848-44f8-8668-45f7327338b0 ]] : c\r\n",
       "}\r\n",
       "@enduml\r\n",
       "\n",
       "PlantUML version 1.2020.13(Sat Jun 13 12:26:38 UTC 2020)\n",
       "(EPL source distribution)\n",
       "Java Runtime: OpenJDK Runtime Environment\n",
       "JVM: OpenJDK 64-Bit Server VM\n",
       "Default Encoding: UTF-8\n",
       "Language: en\n",
       "Country: null\n",
       "--></g></svg>"
      ]
     },
     "execution_count": 10,
     "metadata": {},
     "output_type": "execute_result"
    }
   ],
   "source": [
    "%viz --style=\"POLYLINE\" --view=\"Tree\" \"TextualRepresentationTest\""
   ]
  },
  {
   "cell_type": "code",
   "execution_count": 11,
   "id": "90282f6f",
   "metadata": {
    "execution": {
     "iopub.execute_input": "2021-08-04T06:26:39.014017Z",
     "iopub.status.busy": "2021-08-04T06:26:39.013548Z",
     "iopub.status.idle": "2021-08-04T06:26:39.021083Z",
     "shell.execute_reply": "2021-08-04T06:26:39.021405Z"
    }
   },
   "outputs": [
    {
     "data": {
      "image/svg+xml": [
       "<?xml version=\"1.0\" encoding=\"UTF-8\" standalone=\"no\"?><svg xmlns=\"http://www.w3.org/2000/svg\" xmlns:xlink=\"http://www.w3.org/1999/xlink\" contentScriptType=\"application/ecmascript\" contentStyleType=\"text/css\" height=\"12px\" preserveAspectRatio=\"none\" style=\"width:12px;height:12px;\" version=\"1.1\" viewBox=\"0 0 12 12\" width=\"12px\" zoomAndPan=\"magnify\"><defs/><g><!--MD5=[896ac0e7a515d8dd7765a661cb4ee08b]\n",
       "@startuml\r\n",
       "skinparam linetype polyline\r\n",
       "skinparam monochrome true\r\n",
       "skinparam classbackgroundcolor white\r\n",
       "skinparam shadowing false\r\n",
       "skinparam wrapWidth 300\r\n",
       "hide circle\r\n",
       "\r\n",
       "@enduml\r\n",
       "\n",
       "PlantUML version 1.2020.13(Sat Jun 13 12:26:38 UTC 2020)\n",
       "(EPL source distribution)\n",
       "Java Runtime: OpenJDK Runtime Environment\n",
       "JVM: OpenJDK 64-Bit Server VM\n",
       "Default Encoding: UTF-8\n",
       "Language: en\n",
       "Country: null\n",
       "--></g></svg>"
      ]
     },
     "execution_count": 11,
     "metadata": {},
     "output_type": "execute_result"
    }
   ],
   "source": [
    "%viz --style=\"POLYLINE\" --view=\"State\" \"TextualRepresentationTest\""
   ]
  },
  {
   "cell_type": "code",
   "execution_count": 12,
   "id": "3f5e9913",
   "metadata": {
    "execution": {
     "iopub.execute_input": "2021-08-04T06:26:39.071814Z",
     "iopub.status.busy": "2021-08-04T06:26:39.071399Z",
     "iopub.status.idle": "2021-08-04T06:26:39.105433Z",
     "shell.execute_reply": "2021-08-04T06:26:39.105602Z"
    }
   },
   "outputs": [
    {
     "data": {
      "image/svg+xml": [
       "<?xml version=\"1.0\" encoding=\"UTF-8\" standalone=\"no\"?><svg xmlns=\"http://www.w3.org/2000/svg\" xmlns:xlink=\"http://www.w3.org/1999/xlink\" contentScriptType=\"application/ecmascript\" contentStyleType=\"text/css\" height=\"179px\" preserveAspectRatio=\"none\" style=\"width:284px;height:179px;\" version=\"1.1\" viewBox=\"0 0 284 179\" width=\"284px\" zoomAndPan=\"magnify\"><defs/><g><!--MD5=[fbc87193dbaf4d95561dea2c320d4a47]\n",
       "cluster E1--><a href=\"psysml:7357ea5e-db14-480c-8643-46679caa3aca\" target=\"_top\" title=\"psysml:7357ea5e-db14-480c-8643-46679caa3aca\" xlink:actuate=\"onRequest\" xlink:href=\"psysml:7357ea5e-db14-480c-8643-46679caa3aca\" xlink:show=\"new\" xlink:title=\"psysml:7357ea5e-db14-480c-8643-46679caa3aca\" xlink:type=\"simple\"><polygon fill=\"#FFFFFF\" points=\"16,6,236,6,243,28.2969,262,28.2969,262,167,16,167,16,6\" style=\"stroke: #000000; stroke-width: 1.5;\"/><line style=\"stroke: #000000; stroke-width: 1.5;\" x1=\"16\" x2=\"243\" y1=\"28.2969\" y2=\"28.2969\"/><text fill=\"#000000\" font-family=\"sans-serif\" font-size=\"14\" font-weight=\"bold\" lengthAdjust=\"spacingAndGlyphs\" textLength=\"214\" x=\"20\" y=\"20.9951\">TextualRepresentationTest</text></a><!--MD5=[d5e69f78d87373223dbae638b30a9c99]\n",
       "cluster E3--><a href=\"psysml:4d0e1ac7-0ffb-42d7-bf53-5a956dddc154\" target=\"_top\" title=\"psysml:4d0e1ac7-0ffb-42d7-bf53-5a956dddc154\" xlink:actuate=\"onRequest\" xlink:href=\"psysml:4d0e1ac7-0ffb-42d7-bf53-5a956dddc154\" xlink:show=\"new\" xlink:title=\"psysml:4d0e1ac7-0ffb-42d7-bf53-5a956dddc154\" xlink:type=\"simple\"><rect fill=\"#FFFFFF\" height=\"88.5\" id=\"E3\" style=\"stroke: #383838; stroke-width: 1.5;\" width=\"96\" x=\"120.5\" y=\"62.5\"/><rect fill=\"#F8F8F8\" height=\"37.9375\" style=\"stroke: #383838; stroke-width: 1.5;\" width=\"96\" x=\"120.5\" y=\"62.5\"/><text fill=\"#000000\" font-family=\"sans-serif\" font-size=\"12\" font-style=\"italic\" lengthAdjust=\"spacingAndGlyphs\" textLength=\"77\" x=\"130\" y=\"78.6387\">«action def»</text><text fill=\"#000000\" font-family=\"sans-serif\" font-size=\"12\" lengthAdjust=\"spacingAndGlyphs\" textLength=\"27\" x=\"155\" y=\"92.6074\">setX</text></a><g id=\"E1.E2\"><a href=\"psysml:d8d89087-5f7a-40fd-9871-b52a02710321\" target=\"_top\" title=\"psysml:d8d89087-5f7a-40fd-9871-b52a02710321\" xlink:actuate=\"onRequest\" xlink:href=\"psysml:d8d89087-5f7a-40fd-9871-b52a02710321\" xlink:show=\"new\" xlink:title=\"psysml:d8d89087-5f7a-40fd-9871-b52a02710321\" xlink:type=\"simple\"><rect fill=\"#FFFFFF\" height=\"42.9375\" id=\"E2\" style=\"stroke: #383838; stroke-width: 1.5;\" width=\"72\" x=\"32\" y=\"41\"/><rect fill=\"#F8F8F8\" height=\"37.9375\" style=\"stroke: #383838; stroke-width: 1.5;\" width=\"72\" x=\"32\" y=\"41\"/><text fill=\"#000000\" font-family=\"sans-serif\" font-size=\"12\" font-style=\"italic\" lengthAdjust=\"spacingAndGlyphs\" textLength=\"65\" x=\"35.5\" y=\"57.1387\">«item def»</text><text fill=\"#000000\" font-family=\"sans-serif\" font-size=\"12\" lengthAdjust=\"spacingAndGlyphs\" textLength=\"8\" x=\"64\" y=\"71.1074\">C</text></a></g><text fill=\"#000000\" font-family=\"sans-serif\" font-size=\"14\" lengthAdjust=\"spacingAndGlyphs\" textLength=\"8\" x=\"141\" y=\"41.1982\">c</text><rect fill=\"#383838\" height=\"12\" style=\"stroke: #F8F8F8; stroke-width: 1.5;\" width=\"12\" x=\"139\" y=\"56.5\"/><text fill=\"#000000\" font-family=\"sans-serif\" font-size=\"14\" lengthAdjust=\"spacingAndGlyphs\" textLength=\"38\" x=\"173\" y=\"41.1982\">newX</text><rect fill=\"#383838\" height=\"12\" style=\"stroke: #F8F8F8; stroke-width: 1.5;\" width=\"12\" x=\"186\" y=\"56.5\"/><!--MD5=[ef70be7f6227c7ec8876272842076a19]\n",
       "@startuml\r\n",
       "skinparam ranksep 10\r\n",
       "skinparam rectangle {\r\n",
       " backgroundColor<<block>> LightGreen\r\n",
       "}\r\n",
       "skinparam linetype polyline\r\n",
       "skinparam monochrome true\r\n",
       "skinparam classbackgroundcolor white\r\n",
       "skinparam shadowing false\r\n",
       "skinparam wrapWidth 300\r\n",
       "hide circle\r\n",
       "\r\n",
       "package \"TextualRepresentationTest\" as E1  [[psysml:7357ea5e-db14-480c-8643-46679caa3aca ]]  {\r\n",
       "def \"C\" as E2  <<(T,blue) item def>> [[psysml:d8d89087-5f7a-40fd-9871-b52a02710321 ]] \r\n",
       "rec def \"setX\" as E3  <<(T,blue) action def>> [[psysml:4d0e1ac7-0ffb-42d7-bf53-5a956dddc154 ]] {\r\n",
       "portin \"c\" as E4  [[psysml:7b0b3a1a-f848-44f8-8668-45f7327338b0 ]] \r\n",
       "portin \"newX\" as E5  [[psysml:5310235f-3728-4e86-87c8-1dd93d46f083 ]] \r\n",
       "}\r\n",
       "\r\n",
       "}\r\n",
       "@enduml\r\n",
       "\n",
       "PlantUML version 1.2020.13(Sat Jun 13 12:26:38 UTC 2020)\n",
       "(EPL source distribution)\n",
       "Java Runtime: OpenJDK Runtime Environment\n",
       "JVM: OpenJDK 64-Bit Server VM\n",
       "Default Encoding: UTF-8\n",
       "Language: en\n",
       "Country: null\n",
       "--></g></svg>"
      ]
     },
     "execution_count": 12,
     "metadata": {},
     "output_type": "execute_result"
    }
   ],
   "source": [
    "%viz --style=\"POLYLINE\" --view=\"Interconnection\" \"TextualRepresentationTest\""
   ]
  },
  {
   "cell_type": "code",
   "execution_count": 13,
   "id": "5911b773",
   "metadata": {
    "execution": {
     "iopub.execute_input": "2021-08-04T06:26:39.156099Z",
     "iopub.status.busy": "2021-08-04T06:26:39.155840Z",
     "iopub.status.idle": "2021-08-04T06:26:39.183203Z",
     "shell.execute_reply": "2021-08-04T06:26:39.183002Z"
    }
   },
   "outputs": [
    {
     "data": {
      "image/svg+xml": [
       "<?xml version=\"1.0\" encoding=\"UTF-8\" standalone=\"no\"?><svg xmlns=\"http://www.w3.org/2000/svg\" xmlns:xlink=\"http://www.w3.org/1999/xlink\" contentScriptType=\"application/ecmascript\" contentStyleType=\"text/css\" height=\"126px\" preserveAspectRatio=\"none\" style=\"width:150px;height:126px;\" version=\"1.1\" viewBox=\"0 0 150 126\" width=\"150px\" zoomAndPan=\"magnify\"><defs/><g><!--MD5=[fbc87193dbaf4d95561dea2c320d4a47]\n",
       "cluster E1--><a href=\"psysml:4d0e1ac7-0ffb-42d7-bf53-5a956dddc154\" target=\"_top\" title=\"psysml:4d0e1ac7-0ffb-42d7-bf53-5a956dddc154\" xlink:actuate=\"onRequest\" xlink:href=\"psysml:4d0e1ac7-0ffb-42d7-bf53-5a956dddc154\" xlink:show=\"new\" xlink:title=\"psysml:4d0e1ac7-0ffb-42d7-bf53-5a956dddc154\" xlink:type=\"simple\"><rect fill=\"#FFFFFF\" height=\"73\" id=\"E1\" style=\"stroke: #383838; stroke-width: 1.5;\" width=\"132\" x=\"7\" y=\"42.0986\"/><rect fill=\"#F8F8F8\" height=\"37.9375\" style=\"stroke: #383838; stroke-width: 1.5;\" width=\"132\" x=\"7\" y=\"42.0986\"/><text fill=\"#000000\" font-family=\"sans-serif\" font-size=\"12\" font-style=\"italic\" lengthAdjust=\"spacingAndGlyphs\" textLength=\"77\" x=\"34.5\" y=\"58.2373\">«action def»</text><text fill=\"#000000\" font-family=\"sans-serif\" font-size=\"12\" lengthAdjust=\"spacingAndGlyphs\" textLength=\"27\" x=\"59.5\" y=\"72.2061\">setX</text></a><text fill=\"#000000\" font-family=\"sans-serif\" font-size=\"14\" lengthAdjust=\"spacingAndGlyphs\" textLength=\"8\" x=\"21\" y=\"20.7969\">c</text><rect fill=\"#383838\" height=\"12\" style=\"stroke: #F8F8F8; stroke-width: 1.5;\" width=\"12\" x=\"19\" y=\"36.0986\"/><text fill=\"#000000\" font-family=\"sans-serif\" font-size=\"14\" lengthAdjust=\"spacingAndGlyphs\" textLength=\"38\" x=\"53\" y=\"20.7969\">newX</text><rect fill=\"#383838\" height=\"12\" style=\"stroke: #F8F8F8; stroke-width: 1.5;\" width=\"12\" x=\"66\" y=\"36.0986\"/><!--MD5=[c6800e25324959362a24269a65f71284]\n",
       "@startuml\r\n",
       "skinparam ranksep 8\r\n",
       "skinparam linetype polyline\r\n",
       "skinparam monochrome true\r\n",
       "skinparam classbackgroundcolor white\r\n",
       "skinparam shadowing false\r\n",
       "skinparam wrapWidth 300\r\n",
       "hide circle\r\n",
       "\r\n",
       "rec def \"setX\" as E1  <<(T,blue) action def>> [[psysml:4d0e1ac7-0ffb-42d7-bf53-5a956dddc154 ]] {\r\n",
       "portin \"c\" as E2  [[psysml:7b0b3a1a-f848-44f8-8668-45f7327338b0 ]] \r\n",
       "portin \"newX\" as E3  [[psysml:5310235f-3728-4e86-87c8-1dd93d46f083 ]] \r\n",
       "}\r\n",
       "\r\n",
       "@enduml\r\n",
       "\n",
       "PlantUML version 1.2020.13(Sat Jun 13 12:26:38 UTC 2020)\n",
       "(EPL source distribution)\n",
       "Java Runtime: OpenJDK Runtime Environment\n",
       "JVM: OpenJDK 64-Bit Server VM\n",
       "Default Encoding: UTF-8\n",
       "Language: en\n",
       "Country: null\n",
       "--></g></svg>"
      ]
     },
     "execution_count": 13,
     "metadata": {},
     "output_type": "execute_result"
    }
   ],
   "source": [
    "%viz --style=\"POLYLINE\" --view=\"Action\" \"TextualRepresentationTest\""
   ]
  },
  {
   "cell_type": "code",
   "execution_count": 14,
   "id": "04e51c9d",
   "metadata": {
    "execution": {
     "iopub.execute_input": "2021-08-04T06:26:39.233114Z",
     "iopub.status.busy": "2021-08-04T06:26:39.232861Z",
     "iopub.status.idle": "2021-08-04T06:26:39.266202Z",
     "shell.execute_reply": "2021-08-04T06:26:39.264992Z"
    }
   },
   "outputs": [
    {
     "data": {
      "image/svg+xml": [
       "<?xml version=\"1.0\" encoding=\"UTF-8\" standalone=\"no\"?><svg xmlns=\"http://www.w3.org/2000/svg\" xmlns:xlink=\"http://www.w3.org/1999/xlink\" contentScriptType=\"application/ecmascript\" contentStyleType=\"text/css\" height=\"375px\" preserveAspectRatio=\"none\" style=\"width:268px;height:375px;\" version=\"1.1\" viewBox=\"0 0 268 375\" width=\"268px\" zoomAndPan=\"magnify\"><defs/><g><!--MD5=[fbc87193dbaf4d95561dea2c320d4a47]\n",
       "cluster E1--><a href=\"psysml:7357ea5e-db14-480c-8643-46679caa3aca\" target=\"_top\" title=\"psysml:7357ea5e-db14-480c-8643-46679caa3aca\" xlink:actuate=\"onRequest\" xlink:href=\"psysml:7357ea5e-db14-480c-8643-46679caa3aca\" xlink:show=\"new\" xlink:title=\"psysml:7357ea5e-db14-480c-8643-46679caa3aca\" xlink:type=\"simple\"><polygon fill=\"#FFFFFF\" points=\"16,6,236,6,243,28.2969,246,28.2969,246,363,16,363,16,6\" style=\"stroke: #000000; stroke-width: 1.5;\"/><line style=\"stroke: #000000; stroke-width: 1.5;\" x1=\"16\" x2=\"243\" y1=\"28.2969\" y2=\"28.2969\"/><text fill=\"#000000\" font-family=\"sans-serif\" font-size=\"14\" font-weight=\"bold\" lengthAdjust=\"spacingAndGlyphs\" textLength=\"214\" x=\"20\" y=\"20.9951\">TextualRepresentationTest</text></a><!--MD5=[b4997ac47864f28c2f74865a473b2911]\n",
       "class E2--><a href=\"psysml:d8d89087-5f7a-40fd-9871-b52a02710321\" target=\"_top\" title=\"psysml:d8d89087-5f7a-40fd-9871-b52a02710321\" xlink:actuate=\"onRequest\" xlink:href=\"psysml:d8d89087-5f7a-40fd-9871-b52a02710321\" xlink:show=\"new\" xlink:title=\"psysml:d8d89087-5f7a-40fd-9871-b52a02710321\" xlink:type=\"simple\"><rect fill=\"#FFFFFF\" height=\"75.5469\" id=\"E2\" style=\"stroke: #383838; stroke-width: 1.5;\" width=\"67\" x=\"97.5\" y=\"164\"/><text fill=\"#000000\" font-family=\"sans-serif\" font-size=\"12\" font-style=\"italic\" lengthAdjust=\"spacingAndGlyphs\" textLength=\"65\" x=\"98.5\" y=\"180.1387\">«item def»</text><text fill=\"#000000\" font-family=\"sans-serif\" font-size=\"12\" lengthAdjust=\"spacingAndGlyphs\" textLength=\"8\" x=\"127\" y=\"194.1074\">C</text><line style=\"stroke: #383838; stroke-width: 1.5;\" x1=\"98.5\" x2=\"163.5\" y1=\"201.9375\" y2=\"201.9375\"/><text fill=\"#000000\" font-family=\"sans-serif\" font-size=\"11\" lengthAdjust=\"spacingAndGlyphs\" textLength=\"38\" x=\"103.5\" y=\"232.9526\">x: Real</text><line style=\"stroke: #383838; stroke-width: 1.0;\" x1=\"98.5\" x2=\"103.5\" y1=\"216.3398\" y2=\"216.3398\"/><text fill=\"#000000\" font-family=\"sans-serif\" font-size=\"11\" lengthAdjust=\"spacingAndGlyphs\" textLength=\"55\" x=\"103.5\" y=\"219.6479\">attributes</text><line style=\"stroke: #383838; stroke-width: 1.0;\" x1=\"158.5\" x2=\"163.5\" y1=\"216.3398\" y2=\"216.3398\"/></a><!--MD5=[09b614a08d8cba4a07c9adeb5e0fee81]\n",
       "class E3--><a href=\"psysml:24b29db4-a520-4ed1-8de3-5d8963222bac\" target=\"_top\" title=\"psysml:24b29db4-a520-4ed1-8de3-5d8963222bac\" xlink:actuate=\"onRequest\" xlink:href=\"psysml:24b29db4-a520-4ed1-8de3-5d8963222bac\" xlink:show=\"new\" xlink:title=\"psysml:24b29db4-a520-4ed1-8de3-5d8963222bac\" xlink:type=\"simple\"><rect fill=\"#FFFFFF\" height=\"45.9375\" id=\"E3\" rx=\"10\" ry=\"10\" style=\"stroke: #383838; stroke-width: 1.5;\" width=\"121\" x=\"70.5\" y=\"301\"/><text fill=\"#000000\" font-family=\"sans-serif\" font-size=\"12\" font-style=\"italic\" lengthAdjust=\"spacingAndGlyphs\" textLength=\"119\" x=\"71.5\" y=\"317.1387\">«assertConstraint»</text><text fill=\"#000000\" font-family=\"sans-serif\" font-size=\"12\" lengthAdjust=\"spacingAndGlyphs\" textLength=\"76\" x=\"93\" y=\"331.1074\">x_constraint</text><line style=\"stroke: #383838; stroke-width: 1.5;\" x1=\"71.5\" x2=\"190.5\" y1=\"338.9375\" y2=\"338.9375\"/></a><!--MD5=[ebbe1d658d1005bcc118a6aa81145e00]\n",
       "class E4--><a href=\"psysml:4d0e1ac7-0ffb-42d7-bf53-5a956dddc154\" target=\"_top\" title=\"psysml:4d0e1ac7-0ffb-42d7-bf53-5a956dddc154\" xlink:actuate=\"onRequest\" xlink:href=\"psysml:4d0e1ac7-0ffb-42d7-bf53-5a956dddc154\" xlink:show=\"new\" xlink:title=\"psysml:4d0e1ac7-0ffb-42d7-bf53-5a956dddc154\" xlink:type=\"simple\"><rect fill=\"#FFFFFF\" height=\"45.9375\" id=\"E4\" style=\"stroke: #383838; stroke-width: 1.5;\" width=\"79\" x=\"91.5\" y=\"41\"/><text fill=\"#000000\" font-family=\"sans-serif\" font-size=\"12\" font-style=\"italic\" lengthAdjust=\"spacingAndGlyphs\" textLength=\"77\" x=\"92.5\" y=\"57.1387\">«action def»</text><text fill=\"#000000\" font-family=\"sans-serif\" font-size=\"12\" lengthAdjust=\"spacingAndGlyphs\" textLength=\"27\" x=\"117.5\" y=\"71.1074\">setX</text><line style=\"stroke: #383838; stroke-width: 1.5;\" x1=\"92.5\" x2=\"169.5\" y1=\"78.9375\" y2=\"78.9375\"/></a><!--MD5=[209b3feb70ccb6233bfe1053d122c12c]\n",
       "reverse link E2 to E3--><a href=\"psysml:92660e64-3893-4545-a353-67dbd76c0ff0\" target=\"_top\" title=\"psysml:92660e64-3893-4545-a353-67dbd76c0ff0\" xlink:actuate=\"onRequest\" xlink:href=\"psysml:92660e64-3893-4545-a353-67dbd76c0ff0\" xlink:show=\"new\" xlink:title=\"psysml:92660e64-3893-4545-a353-67dbd76c0ff0\" xlink:type=\"simple\"><path d=\"M131,253.76 C131,270.17 131,287.52 131,300.75 \" fill=\"none\" id=\"E2&lt;-E3\" style=\"stroke: #383838; stroke-width: 1.0;\"/><polygon fill=\"#383838\" points=\"131,240.31,127,246.31,131,252.31,135,246.31,131,240.31\" style=\"stroke: #383838; stroke-width: 1.0;\"/><text fill=\"#000000\" font-family=\"sans-serif\" font-size=\"13\" lengthAdjust=\"spacingAndGlyphs\" textLength=\"7\" x=\"123.1031\" y=\"289.9622\">*</text></a><!--MD5=[ddeed8deb2209213b62e6cfabaa108b2]\n",
       "reverse link E4 to E2--><a href=\"psysml:7b0b3a1a-f848-44f8-8668-45f7327338b0\" target=\"_top\" title=\"psysml:7b0b3a1a-f848-44f8-8668-45f7327338b0\" xlink:actuate=\"onRequest\" xlink:href=\"psysml:7b0b3a1a-f848-44f8-8668-45f7327338b0\" xlink:show=\"new\" xlink:title=\"psysml:7b0b3a1a-f848-44f8-8668-45f7327338b0\" xlink:type=\"simple\"><path d=\"M131,100.42 C131,119.95 131,144.19 131,163.97 \" fill=\"none\" id=\"E4&lt;-E2\" style=\"stroke: #383838; stroke-width: 1.0;\"/><polygon fill=\"#FFFFFF\" points=\"131,87.15,127,93.15,131,99.15,135,93.15,131,87.15\" style=\"stroke: #383838; stroke-width: 1.0;\"/><text fill=\"#000000\" font-family=\"sans-serif\" font-size=\"13\" lengthAdjust=\"spacingAndGlyphs\" textLength=\"7\" x=\"132\" y=\"130.0669\">c</text></a><!--MD5=[0fbcaac4329e0821f26d64ad81334119]\n",
       "@startuml\r\n",
       "skinparam linetype polyline\r\n",
       "skinparam monochrome true\r\n",
       "skinparam classbackgroundcolor white\r\n",
       "skinparam shadowing false\r\n",
       "skinparam wrapWidth 300\r\n",
       "hide circle\r\n",
       "\r\n",
       "package \"TextualRepresentationTest\" as E1  [[psysml:7357ea5e-db14-480c-8643-46679caa3aca ]]  {\r\n",
       "comp def \"C\" as E2  <<(T,blue) item def>> [[psysml:d8d89087-5f7a-40fd-9871-b52a02710321 ]] {\r\n",
       "- - attributes - -\r\n",
       "x: Real\r\n",
       "}\r\n",
       "comp usage \"x_constraint\" as E3  <<(T,blue) assertConstraint>> [[psysml:24b29db4-a520-4ed1-8de3-5d8963222bac ]] {\r\n",
       "}\r\n",
       "comp def \"setX\" as E4  <<(T,blue) action def>> [[psysml:4d0e1ac7-0ffb-42d7-bf53-5a956dddc154 ]] {\r\n",
       "}\r\n",
       "E2 *- - \"*\"E3 [[psysml:92660e64-3893-4545-a353-67dbd76c0ff0 ]] \r\n",
       "E4 o- - E2 [[psysml:7b0b3a1a-f848-44f8-8668-45f7327338b0 ]] : c\r\n",
       "}\r\n",
       "@enduml\r\n",
       "\n",
       "PlantUML version 1.2020.13(Sat Jun 13 12:26:38 UTC 2020)\n",
       "(EPL source distribution)\n",
       "Java Runtime: OpenJDK Runtime Environment\n",
       "JVM: OpenJDK 64-Bit Server VM\n",
       "Default Encoding: UTF-8\n",
       "Language: en\n",
       "Country: null\n",
       "--></g></svg>"
      ]
     },
     "execution_count": 14,
     "metadata": {},
     "output_type": "execute_result"
    }
   ],
   "source": [
    "%viz --style=\"POLYLINE\" --view=\"Sequence\" \"TextualRepresentationTest\""
   ]
  },
  {
   "cell_type": "code",
   "execution_count": 15,
   "id": "de935ee3",
   "metadata": {
    "execution": {
     "iopub.execute_input": "2021-08-04T06:26:39.315816Z",
     "iopub.status.busy": "2021-08-04T06:26:39.315368Z",
     "iopub.status.idle": "2021-08-04T06:26:39.365744Z",
     "shell.execute_reply": "2021-08-04T06:26:39.366069Z"
    }
   },
   "outputs": [
    {
     "data": {
      "image/svg+xml": [
       "<?xml version=\"1.0\" encoding=\"UTF-8\" standalone=\"no\"?><svg xmlns=\"http://www.w3.org/2000/svg\" xmlns:xlink=\"http://www.w3.org/1999/xlink\" contentScriptType=\"application/ecmascript\" contentStyleType=\"text/css\" height=\"261px\" preserveAspectRatio=\"none\" style=\"width:345px;height:261px;\" version=\"1.1\" viewBox=\"0 0 345 261\" width=\"345px\" zoomAndPan=\"magnify\"><defs/><g><!--MD5=[fbc87193dbaf4d95561dea2c320d4a47]\n",
       "cluster E1--><a href=\"psysml:7357ea5e-db14-480c-8643-46679caa3aca\" target=\"_top\" title=\"psysml:7357ea5e-db14-480c-8643-46679caa3aca\" xlink:actuate=\"onRequest\" xlink:href=\"psysml:7357ea5e-db14-480c-8643-46679caa3aca\" xlink:show=\"new\" xlink:title=\"psysml:7357ea5e-db14-480c-8643-46679caa3aca\" xlink:type=\"simple\"><polygon fill=\"#FFFFFF\" points=\"16,6,236,6,243,28.2969,323,28.2969,323,249.5,16,249.5,16,6\" style=\"stroke: #000000; stroke-width: 1.5;\"/><line style=\"stroke: #000000; stroke-width: 1.5;\" x1=\"16\" x2=\"243\" y1=\"28.2969\" y2=\"28.2969\"/><text fill=\"#000000\" font-family=\"sans-serif\" font-size=\"14\" font-weight=\"bold\" lengthAdjust=\"spacingAndGlyphs\" textLength=\"214\" x=\"20\" y=\"20.9951\">TextualRepresentationTest</text></a><!--MD5=[f6df4d0ebaf0b5dfb2ced0ae5af7c670]\n",
       "cluster E4--><a href=\"psysml:4d0e1ac7-0ffb-42d7-bf53-5a956dddc154\" target=\"_top\" title=\"psysml:4d0e1ac7-0ffb-42d7-bf53-5a956dddc154\" xlink:actuate=\"onRequest\" xlink:href=\"psysml:4d0e1ac7-0ffb-42d7-bf53-5a956dddc154\" xlink:show=\"new\" xlink:title=\"psysml:4d0e1ac7-0ffb-42d7-bf53-5a956dddc154\" xlink:type=\"simple\"><rect fill=\"#FFFFFF\" height=\"154.5\" id=\"E4\" style=\"stroke: #383838; stroke-width: 1.5;\" width=\"132\" x=\"175\" y=\"79\"/><rect fill=\"#F8F8F8\" height=\"37.9375\" style=\"stroke: #383838; stroke-width: 1.5;\" width=\"132\" x=\"175\" y=\"79\"/><text fill=\"#000000\" font-family=\"sans-serif\" font-size=\"12\" font-style=\"italic\" lengthAdjust=\"spacingAndGlyphs\" textLength=\"77\" x=\"202.5\" y=\"95.1387\">«action def»</text><text fill=\"#000000\" font-family=\"sans-serif\" font-size=\"12\" lengthAdjust=\"spacingAndGlyphs\" textLength=\"27\" x=\"227.5\" y=\"109.1074\">setX</text></a><!--MD5=[b4997ac47864f28c2f74865a473b2911]\n",
       "class E2--><a href=\"psysml:d8d89087-5f7a-40fd-9871-b52a02710321\" target=\"_top\" title=\"psysml:d8d89087-5f7a-40fd-9871-b52a02710321\" xlink:actuate=\"onRequest\" xlink:href=\"psysml:d8d89087-5f7a-40fd-9871-b52a02710321\" xlink:show=\"new\" xlink:title=\"psysml:d8d89087-5f7a-40fd-9871-b52a02710321\" xlink:type=\"simple\"><rect fill=\"#FFFFFF\" height=\"75.5469\" id=\"E2\" style=\"stroke: #383838; stroke-width: 1.5;\" width=\"67\" x=\"59.5\" y=\"41\"/><text fill=\"#000000\" font-family=\"sans-serif\" font-size=\"12\" font-style=\"italic\" lengthAdjust=\"spacingAndGlyphs\" textLength=\"65\" x=\"60.5\" y=\"57.1387\">«item def»</text><text fill=\"#000000\" font-family=\"sans-serif\" font-size=\"12\" lengthAdjust=\"spacingAndGlyphs\" textLength=\"8\" x=\"89\" y=\"71.1074\">C</text><line style=\"stroke: #383838; stroke-width: 1.5;\" x1=\"60.5\" x2=\"125.5\" y1=\"78.9375\" y2=\"78.9375\"/><text fill=\"#000000\" font-family=\"sans-serif\" font-size=\"11\" lengthAdjust=\"spacingAndGlyphs\" textLength=\"38\" x=\"65.5\" y=\"109.9526\">x: Real</text><line style=\"stroke: #383838; stroke-width: 1.0;\" x1=\"60.5\" x2=\"65.5\" y1=\"93.3398\" y2=\"93.3398\"/><text fill=\"#000000\" font-family=\"sans-serif\" font-size=\"11\" lengthAdjust=\"spacingAndGlyphs\" textLength=\"55\" x=\"65.5\" y=\"96.6479\">attributes</text><line style=\"stroke: #383838; stroke-width: 1.0;\" x1=\"120.5\" x2=\"125.5\" y1=\"93.3398\" y2=\"93.3398\"/></a><!--MD5=[09b614a08d8cba4a07c9adeb5e0fee81]\n",
       "class E3--><a href=\"psysml:24b29db4-a520-4ed1-8de3-5d8963222bac\" target=\"_top\" title=\"psysml:24b29db4-a520-4ed1-8de3-5d8963222bac\" xlink:actuate=\"onRequest\" xlink:href=\"psysml:24b29db4-a520-4ed1-8de3-5d8963222bac\" xlink:show=\"new\" xlink:title=\"psysml:24b29db4-a520-4ed1-8de3-5d8963222bac\" xlink:type=\"simple\"><rect fill=\"#FFFFFF\" height=\"45.9375\" id=\"E3\" rx=\"10\" ry=\"10\" style=\"stroke: #383838; stroke-width: 1.5;\" width=\"121\" x=\"32.5\" y=\"177\"/><text fill=\"#000000\" font-family=\"sans-serif\" font-size=\"12\" font-style=\"italic\" lengthAdjust=\"spacingAndGlyphs\" textLength=\"119\" x=\"33.5\" y=\"193.1387\">«assertConstraint»</text><text fill=\"#000000\" font-family=\"sans-serif\" font-size=\"12\" lengthAdjust=\"spacingAndGlyphs\" textLength=\"76\" x=\"55\" y=\"207.1074\">x_constraint</text><line style=\"stroke: #383838; stroke-width: 1.5;\" x1=\"33.5\" x2=\"152.5\" y1=\"214.9375\" y2=\"214.9375\"/></a><text fill=\"#000000\" font-family=\"sans-serif\" font-size=\"14\" lengthAdjust=\"spacingAndGlyphs\" textLength=\"8\" x=\"189\" y=\"57.6982\">c</text><rect fill=\"#383838\" height=\"12\" style=\"stroke: #F8F8F8; stroke-width: 1.5;\" width=\"12\" x=\"187\" y=\"73\"/><text fill=\"#000000\" font-family=\"sans-serif\" font-size=\"14\" lengthAdjust=\"spacingAndGlyphs\" textLength=\"38\" x=\"221\" y=\"57.6982\">newX</text><rect fill=\"#383838\" height=\"12\" style=\"stroke: #F8F8F8; stroke-width: 1.5;\" width=\"12\" x=\"234\" y=\"73\"/><!--MD5=[209b3feb70ccb6233bfe1053d122c12c]\n",
       "reverse link E2 to E3--><a href=\"psysml:92660e64-3893-4545-a353-67dbd76c0ff0\" target=\"_top\" title=\"psysml:92660e64-3893-4545-a353-67dbd76c0ff0\" xlink:actuate=\"onRequest\" xlink:href=\"psysml:92660e64-3893-4545-a353-67dbd76c0ff0\" xlink:show=\"new\" xlink:title=\"psysml:92660e64-3893-4545-a353-67dbd76c0ff0\" xlink:type=\"simple\"><path d=\"M93,130.34 C93,146.61 93,163.81 93,176.93 \" fill=\"none\" id=\"E2&lt;-E3\" style=\"stroke: #383838; stroke-width: 1.0;\"/><polygon fill=\"#383838\" points=\"93,117,89,123,93,129,97,123,93,117\" style=\"stroke: #383838; stroke-width: 1.0;\"/><text fill=\"#000000\" font-family=\"sans-serif\" font-size=\"13\" lengthAdjust=\"spacingAndGlyphs\" textLength=\"7\" x=\"85.0594\" y=\"165.8075\">*</text></a><!--MD5=[14fed3be2cb5bbd9a8c3b6e52887e86f]\n",
       "@startuml\r\n",
       "skinparam linetype polyline\r\n",
       "skinparam monochrome true\r\n",
       "skinparam classbackgroundcolor white\r\n",
       "skinparam shadowing false\r\n",
       "skinparam wrapWidth 300\r\n",
       "hide circle\r\n",
       "\r\n",
       "package \"TextualRepresentationTest\" as E1  [[psysml:7357ea5e-db14-480c-8643-46679caa3aca ]]  {\r\n",
       "comp def \"C\" as E2  <<(T,blue) item def>> [[psysml:d8d89087-5f7a-40fd-9871-b52a02710321 ]] {\r\n",
       "- - attributes - -\r\n",
       "x: Real\r\n",
       "}\r\n",
       "comp usage \"x_constraint\" as E3  <<(T,blue) assertConstraint>> [[psysml:24b29db4-a520-4ed1-8de3-5d8963222bac ]] {\r\n",
       "}\r\n",
       "rec def \"setX\" as E4  <<(T,blue) action def>> [[psysml:4d0e1ac7-0ffb-42d7-bf53-5a956dddc154 ]] {\r\n",
       "portin \"c\" as E5  [[psysml:7b0b3a1a-f848-44f8-8668-45f7327338b0 ]] \r\n",
       "portin \"newX\" as E6  [[psysml:5310235f-3728-4e86-87c8-1dd93d46f083 ]] \r\n",
       "}\r\n",
       "\r\n",
       "E2 *- - \"*\"E3 [[psysml:92660e64-3893-4545-a353-67dbd76c0ff0 ]] \r\n",
       "}\r\n",
       "@enduml\r\n",
       "\n",
       "PlantUML version 1.2020.13(Sat Jun 13 12:26:38 UTC 2020)\n",
       "(EPL source distribution)\n",
       "Java Runtime: OpenJDK Runtime Environment\n",
       "JVM: OpenJDK 64-Bit Server VM\n",
       "Default Encoding: UTF-8\n",
       "Language: en\n",
       "Country: null\n",
       "--></g></svg>"
      ]
     },
     "execution_count": 15,
     "metadata": {},
     "output_type": "execute_result"
    }
   ],
   "source": [
    "%viz --style=\"POLYLINE\" --view=\"MIXED\" \"TextualRepresentationTest\""
   ]
  },
  {
   "cell_type": "code",
   "execution_count": 16,
   "id": "2a677e6b",
   "metadata": {
    "execution": {
     "iopub.execute_input": "2021-08-04T06:26:39.416563Z",
     "iopub.status.busy": "2021-08-04T06:26:39.416148Z",
     "iopub.status.idle": "2021-08-04T06:26:39.464674Z",
     "shell.execute_reply": "2021-08-04T06:26:39.464276Z"
    }
   },
   "outputs": [
    {
     "data": {
      "image/svg+xml": [
       "<?xml version=\"1.0\" encoding=\"UTF-8\" standalone=\"no\"?><svg xmlns=\"http://www.w3.org/2000/svg\" xmlns:xlink=\"http://www.w3.org/1999/xlink\" contentScriptType=\"application/ecmascript\" contentStyleType=\"text/css\" height=\"247px\" preserveAspectRatio=\"none\" style=\"width:324px;height:247px;\" version=\"1.1\" viewBox=\"0 0 324 247\" width=\"324px\" zoomAndPan=\"magnify\"><defs/><g><!--MD5=[fbc87193dbaf4d95561dea2c320d4a47]\n",
       "cluster E1--><a href=\"psysml:7357ea5e-db14-480c-8643-46679caa3aca\" target=\"_top\" title=\"psysml:7357ea5e-db14-480c-8643-46679caa3aca\" xlink:actuate=\"onRequest\" xlink:href=\"psysml:7357ea5e-db14-480c-8643-46679caa3aca\" xlink:show=\"new\" xlink:title=\"psysml:7357ea5e-db14-480c-8643-46679caa3aca\" xlink:type=\"simple\"><polygon fill=\"#FFFFFF\" points=\"16,6,236,6,243,28.2969,302.5,28.2969,302.5,235,16,235,16,6\" style=\"stroke: #000000; stroke-width: 1.5;\"/><line style=\"stroke: #000000; stroke-width: 1.5;\" x1=\"16\" x2=\"243\" y1=\"28.2969\" y2=\"28.2969\"/><text fill=\"#000000\" font-family=\"sans-serif\" font-size=\"14\" font-weight=\"bold\" lengthAdjust=\"spacingAndGlyphs\" textLength=\"214\" x=\"20\" y=\"20.9951\">TextualRepresentationTest</text></a><!--MD5=[f6df4d0ebaf0b5dfb2ced0ae5af7c670]\n",
       "cluster E4--><a href=\"psysml:4d0e1ac7-0ffb-42d7-bf53-5a956dddc154\" target=\"_top\" title=\"psysml:4d0e1ac7-0ffb-42d7-bf53-5a956dddc154\" xlink:actuate=\"onRequest\" xlink:href=\"psysml:4d0e1ac7-0ffb-42d7-bf53-5a956dddc154\" xlink:show=\"new\" xlink:title=\"psysml:4d0e1ac7-0ffb-42d7-bf53-5a956dddc154\" xlink:type=\"simple\"><rect fill=\"#FFFFFF\" height=\"47\" id=\"E4\" style=\"stroke: #383838; stroke-width: 1.5;\" width=\"239\" x=\"47.5\" y=\"55\"/><rect fill=\"#F8F8F8\" height=\"37.9375\" style=\"stroke: #383838; stroke-width: 1.5;\" width=\"239\" x=\"47.5\" y=\"55\"/><text fill=\"#000000\" font-family=\"sans-serif\" font-size=\"12\" font-style=\"italic\" lengthAdjust=\"spacingAndGlyphs\" textLength=\"77\" x=\"128.5\" y=\"71.1387\">«action def»</text><text fill=\"#000000\" font-family=\"sans-serif\" font-size=\"12\" lengthAdjust=\"spacingAndGlyphs\" textLength=\"27\" x=\"153.5\" y=\"85.1074\">setX</text></a><!--MD5=[b4997ac47864f28c2f74865a473b2911]\n",
       "class E2--><a href=\"psysml:d8d89087-5f7a-40fd-9871-b52a02710321\" target=\"_top\" title=\"psysml:d8d89087-5f7a-40fd-9871-b52a02710321\" xlink:actuate=\"onRequest\" xlink:href=\"psysml:d8d89087-5f7a-40fd-9871-b52a02710321\" xlink:show=\"new\" xlink:title=\"psysml:d8d89087-5f7a-40fd-9871-b52a02710321\" xlink:type=\"simple\"><rect fill=\"#FFFFFF\" height=\"75.5469\" id=\"E2\" style=\"stroke: #383838; stroke-width: 1.5;\" width=\"67\" x=\"32\" y=\"143\"/><text fill=\"#000000\" font-family=\"sans-serif\" font-size=\"12\" font-style=\"italic\" lengthAdjust=\"spacingAndGlyphs\" textLength=\"65\" x=\"33\" y=\"159.1387\">«item def»</text><text fill=\"#000000\" font-family=\"sans-serif\" font-size=\"12\" lengthAdjust=\"spacingAndGlyphs\" textLength=\"8\" x=\"61.5\" y=\"173.1074\">C</text><line style=\"stroke: #383838; stroke-width: 1.5;\" x1=\"33\" x2=\"98\" y1=\"180.9375\" y2=\"180.9375\"/><text fill=\"#000000\" font-family=\"sans-serif\" font-size=\"11\" lengthAdjust=\"spacingAndGlyphs\" textLength=\"38\" x=\"38\" y=\"211.9526\">x: Real</text><line style=\"stroke: #383838; stroke-width: 1.0;\" x1=\"33\" x2=\"38\" y1=\"195.3398\" y2=\"195.3398\"/><text fill=\"#000000\" font-family=\"sans-serif\" font-size=\"11\" lengthAdjust=\"spacingAndGlyphs\" textLength=\"55\" x=\"38\" y=\"198.6479\">attributes</text><line style=\"stroke: #383838; stroke-width: 1.0;\" x1=\"93\" x2=\"98\" y1=\"195.3398\" y2=\"195.3398\"/></a><!--MD5=[09b614a08d8cba4a07c9adeb5e0fee81]\n",
       "class E3--><a href=\"psysml:24b29db4-a520-4ed1-8de3-5d8963222bac\" target=\"_top\" title=\"psysml:24b29db4-a520-4ed1-8de3-5d8963222bac\" xlink:actuate=\"onRequest\" xlink:href=\"psysml:24b29db4-a520-4ed1-8de3-5d8963222bac\" xlink:show=\"new\" xlink:title=\"psysml:24b29db4-a520-4ed1-8de3-5d8963222bac\" xlink:type=\"simple\"><rect fill=\"#FFFFFF\" height=\"45.9375\" id=\"E3\" rx=\"10\" ry=\"10\" style=\"stroke: #383838; stroke-width: 1.5;\" width=\"121\" x=\"159\" y=\"158\"/><text fill=\"#000000\" font-family=\"sans-serif\" font-size=\"12\" font-style=\"italic\" lengthAdjust=\"spacingAndGlyphs\" textLength=\"119\" x=\"160\" y=\"174.1387\">«assertConstraint»</text><text fill=\"#000000\" font-family=\"sans-serif\" font-size=\"12\" lengthAdjust=\"spacingAndGlyphs\" textLength=\"76\" x=\"181.5\" y=\"188.1074\">x_constraint</text><line style=\"stroke: #383838; stroke-width: 1.5;\" x1=\"160\" x2=\"279\" y1=\"195.9375\" y2=\"195.9375\"/></a><text fill=\"#000000\" font-family=\"sans-serif\" font-size=\"14\" lengthAdjust=\"spacingAndGlyphs\" textLength=\"8\" x=\"61.5\" y=\"120.9951\">c</text><rect fill=\"#383838\" height=\"12\" style=\"stroke: #F8F8F8; stroke-width: 1.5;\" width=\"12\" x=\"59.5\" y=\"96\"/><text fill=\"#000000\" font-family=\"sans-serif\" font-size=\"14\" lengthAdjust=\"spacingAndGlyphs\" textLength=\"38\" x=\"46.5\" y=\"33.6982\">newX</text><rect fill=\"#383838\" height=\"12\" style=\"stroke: #F8F8F8; stroke-width: 1.5;\" width=\"12\" x=\"59.5\" y=\"49\"/><!--MD5=[209b3feb70ccb6233bfe1053d122c12c]\n",
       "reverse link E2 to E3--><a href=\"psysml:92660e64-3893-4545-a353-67dbd76c0ff0\" target=\"_top\" title=\"psysml:92660e64-3893-4545-a353-67dbd76c0ff0\" xlink:actuate=\"onRequest\" xlink:href=\"psysml:92660e64-3893-4545-a353-67dbd76c0ff0\" xlink:show=\"new\" xlink:title=\"psysml:92660e64-3893-4545-a353-67dbd76c0ff0\" xlink:type=\"simple\"><path d=\"M112.5,181 C127.13,181 143.52,181 158.96,181 \" fill=\"none\" id=\"E2&lt;-E3\" style=\"stroke: #383838; stroke-width: 1.0;\"/><polygon fill=\"#383838\" points=\"99.11,181,105.11,185,111.11,181,105.11,177,99.11,181\" style=\"stroke: #383838; stroke-width: 1.0;\"/><text fill=\"#000000\" font-family=\"sans-serif\" font-size=\"13\" lengthAdjust=\"spacingAndGlyphs\" textLength=\"7\" x=\"144.1551\" y=\"193.9929\">*</text></a><!--MD5=[ff95336e8966dd7467abba97134648c0]\n",
       "@startuml\r\n",
       "left to right direction\r\n",
       "skinparam monochrome true\r\n",
       "skinparam classbackgroundcolor white\r\n",
       "skinparam shadowing false\r\n",
       "skinparam wrapWidth 300\r\n",
       "hide circle\r\n",
       "\r\n",
       "package \"TextualRepresentationTest\" as E1  [[psysml:7357ea5e-db14-480c-8643-46679caa3aca ]]  {\r\n",
       "comp def \"C\" as E2  <<(T,blue) item def>> [[psysml:d8d89087-5f7a-40fd-9871-b52a02710321 ]] {\r\n",
       "- - attributes - -\r\n",
       "x: Real\r\n",
       "}\r\n",
       "comp usage \"x_constraint\" as E3  <<(T,blue) assertConstraint>> [[psysml:24b29db4-a520-4ed1-8de3-5d8963222bac ]] {\r\n",
       "}\r\n",
       "rec def \"setX\" as E4  <<(T,blue) action def>> [[psysml:4d0e1ac7-0ffb-42d7-bf53-5a956dddc154 ]] {\r\n",
       "portin \"c\" as E5  [[psysml:7b0b3a1a-f848-44f8-8668-45f7327338b0 ]] \r\n",
       "portin \"newX\" as E6  [[psysml:5310235f-3728-4e86-87c8-1dd93d46f083 ]] \r\n",
       "}\r\n",
       "\r\n",
       "E2 *- - \"*\"E3 [[psysml:92660e64-3893-4545-a353-67dbd76c0ff0 ]] \r\n",
       "}\r\n",
       "@enduml\r\n",
       "\n",
       "PlantUML version 1.2020.13(Sat Jun 13 12:26:38 UTC 2020)\n",
       "(EPL source distribution)\n",
       "Java Runtime: OpenJDK Runtime Environment\n",
       "JVM: OpenJDK 64-Bit Server VM\n",
       "Default Encoding: UTF-8\n",
       "Language: en\n",
       "Country: null\n",
       "--></g></svg>"
      ]
     },
     "execution_count": 16,
     "metadata": {},
     "output_type": "execute_result"
    }
   ],
   "source": [
    "%viz --style=\"LR\" --view=\"Default\" \"TextualRepresentationTest\""
   ]
  },
  {
   "cell_type": "code",
   "execution_count": 17,
   "id": "971d8f2f",
   "metadata": {
    "execution": {
     "iopub.execute_input": "2021-08-04T06:26:39.514695Z",
     "iopub.status.busy": "2021-08-04T06:26:39.514273Z",
     "iopub.status.idle": "2021-08-04T06:26:39.553489Z",
     "shell.execute_reply": "2021-08-04T06:26:39.553770Z"
    }
   },
   "outputs": [
    {
     "data": {
      "image/svg+xml": [
       "<?xml version=\"1.0\" encoding=\"UTF-8\" standalone=\"no\"?><svg xmlns=\"http://www.w3.org/2000/svg\" xmlns:xlink=\"http://www.w3.org/1999/xlink\" contentScriptType=\"application/ecmascript\" contentStyleType=\"text/css\" height=\"145px\" preserveAspectRatio=\"none\" style=\"width:467px;height:145px;\" version=\"1.1\" viewBox=\"0 0 467 145\" width=\"467px\" zoomAndPan=\"magnify\"><defs/><g><!--MD5=[fbc87193dbaf4d95561dea2c320d4a47]\n",
       "cluster E1--><a href=\"psysml:7357ea5e-db14-480c-8643-46679caa3aca\" target=\"_top\" title=\"psysml:7357ea5e-db14-480c-8643-46679caa3aca\" xlink:actuate=\"onRequest\" xlink:href=\"psysml:7357ea5e-db14-480c-8643-46679caa3aca\" xlink:show=\"new\" xlink:title=\"psysml:7357ea5e-db14-480c-8643-46679caa3aca\" xlink:type=\"simple\"><polygon fill=\"#FFFFFF\" points=\"16,6,236,6,243,28.2969,445,28.2969,445,133,16,133,16,6\" style=\"stroke: #000000; stroke-width: 1.5;\"/><line style=\"stroke: #000000; stroke-width: 1.5;\" x1=\"16\" x2=\"243\" y1=\"28.2969\" y2=\"28.2969\"/><text fill=\"#000000\" font-family=\"sans-serif\" font-size=\"14\" font-weight=\"bold\" lengthAdjust=\"spacingAndGlyphs\" textLength=\"214\" x=\"20\" y=\"20.9951\">TextualRepresentationTest</text></a><!--MD5=[b4997ac47864f28c2f74865a473b2911]\n",
       "class E2--><a href=\"psysml:d8d89087-5f7a-40fd-9871-b52a02710321\" target=\"_top\" title=\"psysml:d8d89087-5f7a-40fd-9871-b52a02710321\" xlink:actuate=\"onRequest\" xlink:href=\"psysml:d8d89087-5f7a-40fd-9871-b52a02710321\" xlink:show=\"new\" xlink:title=\"psysml:d8d89087-5f7a-40fd-9871-b52a02710321\" xlink:type=\"simple\"><rect fill=\"#FFFFFF\" height=\"75.5469\" id=\"E2\" style=\"stroke: #383838; stroke-width: 1.5;\" width=\"67\" x=\"180\" y=\"41\"/><text fill=\"#000000\" font-family=\"sans-serif\" font-size=\"12\" font-style=\"italic\" lengthAdjust=\"spacingAndGlyphs\" textLength=\"65\" x=\"181\" y=\"57.1387\">«item def»</text><text fill=\"#000000\" font-family=\"sans-serif\" font-size=\"12\" lengthAdjust=\"spacingAndGlyphs\" textLength=\"8\" x=\"209.5\" y=\"71.1074\">C</text><line style=\"stroke: #383838; stroke-width: 1.5;\" x1=\"181\" x2=\"246\" y1=\"78.9375\" y2=\"78.9375\"/><text fill=\"#000000\" font-family=\"sans-serif\" font-size=\"11\" lengthAdjust=\"spacingAndGlyphs\" textLength=\"38\" x=\"186\" y=\"109.9526\">x: Real</text><line style=\"stroke: #383838; stroke-width: 1.0;\" x1=\"181\" x2=\"186\" y1=\"93.3398\" y2=\"93.3398\"/><text fill=\"#000000\" font-family=\"sans-serif\" font-size=\"11\" lengthAdjust=\"spacingAndGlyphs\" textLength=\"55\" x=\"186\" y=\"96.6479\">attributes</text><line style=\"stroke: #383838; stroke-width: 1.0;\" x1=\"241\" x2=\"246\" y1=\"93.3398\" y2=\"93.3398\"/></a><!--MD5=[09b614a08d8cba4a07c9adeb5e0fee81]\n",
       "class E3--><a href=\"psysml:24b29db4-a520-4ed1-8de3-5d8963222bac\" target=\"_top\" title=\"psysml:24b29db4-a520-4ed1-8de3-5d8963222bac\" xlink:actuate=\"onRequest\" xlink:href=\"psysml:24b29db4-a520-4ed1-8de3-5d8963222bac\" xlink:show=\"new\" xlink:title=\"psysml:24b29db4-a520-4ed1-8de3-5d8963222bac\" xlink:type=\"simple\"><rect fill=\"#FFFFFF\" height=\"45.9375\" id=\"E3\" rx=\"10\" ry=\"10\" style=\"stroke: #383838; stroke-width: 1.5;\" width=\"121\" x=\"308\" y=\"56\"/><text fill=\"#000000\" font-family=\"sans-serif\" font-size=\"12\" font-style=\"italic\" lengthAdjust=\"spacingAndGlyphs\" textLength=\"119\" x=\"309\" y=\"72.1387\">«assertConstraint»</text><text fill=\"#000000\" font-family=\"sans-serif\" font-size=\"12\" lengthAdjust=\"spacingAndGlyphs\" textLength=\"76\" x=\"330.5\" y=\"86.1074\">x_constraint</text><line style=\"stroke: #383838; stroke-width: 1.5;\" x1=\"309\" x2=\"428\" y1=\"93.9375\" y2=\"93.9375\"/></a><!--MD5=[ebbe1d658d1005bcc118a6aa81145e00]\n",
       "class E4--><a href=\"psysml:4d0e1ac7-0ffb-42d7-bf53-5a956dddc154\" target=\"_top\" title=\"psysml:4d0e1ac7-0ffb-42d7-bf53-5a956dddc154\" xlink:actuate=\"onRequest\" xlink:href=\"psysml:4d0e1ac7-0ffb-42d7-bf53-5a956dddc154\" xlink:show=\"new\" xlink:title=\"psysml:4d0e1ac7-0ffb-42d7-bf53-5a956dddc154\" xlink:type=\"simple\"><rect fill=\"#FFFFFF\" height=\"45.9375\" id=\"E4\" style=\"stroke: #383838; stroke-width: 1.5;\" width=\"79\" x=\"32\" y=\"56\"/><text fill=\"#000000\" font-family=\"sans-serif\" font-size=\"12\" font-style=\"italic\" lengthAdjust=\"spacingAndGlyphs\" textLength=\"77\" x=\"33\" y=\"72.1387\">«action def»</text><text fill=\"#000000\" font-family=\"sans-serif\" font-size=\"12\" lengthAdjust=\"spacingAndGlyphs\" textLength=\"27\" x=\"58\" y=\"86.1074\">setX</text><line style=\"stroke: #383838; stroke-width: 1.5;\" x1=\"33\" x2=\"110\" y1=\"93.9375\" y2=\"93.9375\"/></a><!--MD5=[209b3feb70ccb6233bfe1053d122c12c]\n",
       "reverse link E2 to E3--><a href=\"psysml:92660e64-3893-4545-a353-67dbd76c0ff0\" target=\"_top\" title=\"psysml:92660e64-3893-4545-a353-67dbd76c0ff0\" xlink:actuate=\"onRequest\" xlink:href=\"psysml:92660e64-3893-4545-a353-67dbd76c0ff0\" xlink:show=\"new\" xlink:title=\"psysml:92660e64-3893-4545-a353-67dbd76c0ff0\" xlink:type=\"simple\"><path d=\"M260.42,79 C275.34,79 292.11,79 307.88,79 \" fill=\"none\" id=\"E2&lt;-E3\" style=\"stroke: #383838; stroke-width: 1.0;\"/><polygon fill=\"#383838\" points=\"247.32,79,253.32,83,259.32,79,253.32,75,247.32,79\" style=\"stroke: #383838; stroke-width: 1.0;\"/><text fill=\"#000000\" font-family=\"sans-serif\" font-size=\"13\" lengthAdjust=\"spacingAndGlyphs\" textLength=\"7\" x=\"293.0654\" y=\"91.9929\">*</text></a><!--MD5=[ddeed8deb2209213b62e6cfabaa108b2]\n",
       "reverse link E4 to E2--><a href=\"psysml:7b0b3a1a-f848-44f8-8668-45f7327338b0\" target=\"_top\" title=\"psysml:7b0b3a1a-f848-44f8-8668-45f7327338b0\" xlink:actuate=\"onRequest\" xlink:href=\"psysml:7b0b3a1a-f848-44f8-8668-45f7327338b0\" xlink:show=\"new\" xlink:title=\"psysml:7b0b3a1a-f848-44f8-8668-45f7327338b0\" xlink:type=\"simple\"><path d=\"M124.23,79 C142.79,79 163.18,79 179.69,79 \" fill=\"none\" id=\"E4&lt;-E2\" style=\"stroke: #383838; stroke-width: 1.0;\"/><polygon fill=\"#FFFFFF\" points=\"111.13,79,117.13,83,123.13,79,117.13,75,111.13,79\" style=\"stroke: #383838; stroke-width: 1.0;\"/><text fill=\"#000000\" font-family=\"sans-serif\" font-size=\"13\" lengthAdjust=\"spacingAndGlyphs\" textLength=\"7\" x=\"142\" y=\"75.0669\">c</text></a><!--MD5=[57f0bb602175fc287f06f41958ef81f6]\n",
       "@startuml\r\n",
       "left to right direction\r\n",
       "skinparam monochrome true\r\n",
       "skinparam classbackgroundcolor white\r\n",
       "skinparam shadowing false\r\n",
       "skinparam wrapWidth 300\r\n",
       "hide circle\r\n",
       "\r\n",
       "package \"TextualRepresentationTest\" as E1  [[psysml:7357ea5e-db14-480c-8643-46679caa3aca ]]  {\r\n",
       "comp def \"C\" as E2  <<(T,blue) item def>> [[psysml:d8d89087-5f7a-40fd-9871-b52a02710321 ]] {\r\n",
       "- - attributes - -\r\n",
       "x: Real\r\n",
       "}\r\n",
       "comp usage \"x_constraint\" as E3  <<(T,blue) assertConstraint>> [[psysml:24b29db4-a520-4ed1-8de3-5d8963222bac ]] {\r\n",
       "}\r\n",
       "comp def \"setX\" as E4  <<(T,blue) action def>> [[psysml:4d0e1ac7-0ffb-42d7-bf53-5a956dddc154 ]] {\r\n",
       "}\r\n",
       "E2 *- - \"*\"E3 [[psysml:92660e64-3893-4545-a353-67dbd76c0ff0 ]] \r\n",
       "E4 o- - E2 [[psysml:7b0b3a1a-f848-44f8-8668-45f7327338b0 ]] : c\r\n",
       "}\r\n",
       "@enduml\r\n",
       "\n",
       "PlantUML version 1.2020.13(Sat Jun 13 12:26:38 UTC 2020)\n",
       "(EPL source distribution)\n",
       "Java Runtime: OpenJDK Runtime Environment\n",
       "JVM: OpenJDK 64-Bit Server VM\n",
       "Default Encoding: UTF-8\n",
       "Language: en\n",
       "Country: null\n",
       "--></g></svg>"
      ]
     },
     "execution_count": 17,
     "metadata": {},
     "output_type": "execute_result"
    }
   ],
   "source": [
    "%viz --style=\"LR\" --view=\"Tree\" \"TextualRepresentationTest\""
   ]
  },
  {
   "cell_type": "code",
   "execution_count": 18,
   "id": "86b426ff",
   "metadata": {
    "execution": {
     "iopub.execute_input": "2021-08-04T06:26:39.604045Z",
     "iopub.status.busy": "2021-08-04T06:26:39.603635Z",
     "iopub.status.idle": "2021-08-04T06:26:39.610345Z",
     "shell.execute_reply": "2021-08-04T06:26:39.610662Z"
    }
   },
   "outputs": [
    {
     "data": {
      "image/svg+xml": [
       "<?xml version=\"1.0\" encoding=\"UTF-8\" standalone=\"no\"?><svg xmlns=\"http://www.w3.org/2000/svg\" xmlns:xlink=\"http://www.w3.org/1999/xlink\" contentScriptType=\"application/ecmascript\" contentStyleType=\"text/css\" height=\"12px\" preserveAspectRatio=\"none\" style=\"width:12px;height:12px;\" version=\"1.1\" viewBox=\"0 0 12 12\" width=\"12px\" zoomAndPan=\"magnify\"><defs/><g><!--MD5=[19d285c9d72a204eba4e2cd117d745e8]\n",
       "@startuml\r\n",
       "left to right direction\r\n",
       "skinparam monochrome true\r\n",
       "skinparam classbackgroundcolor white\r\n",
       "skinparam shadowing false\r\n",
       "skinparam wrapWidth 300\r\n",
       "hide circle\r\n",
       "\r\n",
       "@enduml\r\n",
       "\n",
       "PlantUML version 1.2020.13(Sat Jun 13 12:26:38 UTC 2020)\n",
       "(EPL source distribution)\n",
       "Java Runtime: OpenJDK Runtime Environment\n",
       "JVM: OpenJDK 64-Bit Server VM\n",
       "Default Encoding: UTF-8\n",
       "Language: en\n",
       "Country: null\n",
       "--></g></svg>"
      ]
     },
     "execution_count": 18,
     "metadata": {},
     "output_type": "execute_result"
    }
   ],
   "source": [
    "%viz --style=\"LR\" --view=\"State\" \"TextualRepresentationTest\""
   ]
  },
  {
   "cell_type": "code",
   "execution_count": 19,
   "id": "17cc0a4a",
   "metadata": {
    "execution": {
     "iopub.execute_input": "2021-08-04T06:26:39.661174Z",
     "iopub.status.busy": "2021-08-04T06:26:39.660766Z",
     "iopub.status.idle": "2021-08-04T06:26:39.687696Z",
     "shell.execute_reply": "2021-08-04T06:26:39.687864Z"
    }
   },
   "outputs": [
    {
     "data": {
      "image/svg+xml": [
       "<?xml version=\"1.0\" encoding=\"UTF-8\" standalone=\"no\"?><svg xmlns=\"http://www.w3.org/2000/svg\" xmlns:xlink=\"http://www.w3.org/1999/xlink\" contentScriptType=\"application/ecmascript\" contentStyleType=\"text/css\" height=\"215px\" preserveAspectRatio=\"none\" style=\"width:276px;height:215px;\" version=\"1.1\" viewBox=\"0 0 276 215\" width=\"276px\" zoomAndPan=\"magnify\"><defs/><g><!--MD5=[fbc87193dbaf4d95561dea2c320d4a47]\n",
       "cluster E1--><a href=\"psysml:7357ea5e-db14-480c-8643-46679caa3aca\" target=\"_top\" title=\"psysml:7357ea5e-db14-480c-8643-46679caa3aca\" xlink:actuate=\"onRequest\" xlink:href=\"psysml:7357ea5e-db14-480c-8643-46679caa3aca\" xlink:show=\"new\" xlink:title=\"psysml:7357ea5e-db14-480c-8643-46679caa3aca\" xlink:type=\"simple\"><polygon fill=\"#FFFFFF\" points=\"16,6,236,6,243,28.2969,254,28.2969,254,203,16,203,16,6\" style=\"stroke: #000000; stroke-width: 1.5;\"/><line style=\"stroke: #000000; stroke-width: 1.5;\" x1=\"16\" x2=\"243\" y1=\"28.2969\" y2=\"28.2969\"/><text fill=\"#000000\" font-family=\"sans-serif\" font-size=\"14\" font-weight=\"bold\" lengthAdjust=\"spacingAndGlyphs\" textLength=\"214\" x=\"20\" y=\"20.9951\">TextualRepresentationTest</text></a><!--MD5=[d5e69f78d87373223dbae638b30a9c99]\n",
       "cluster E3--><a href=\"psysml:4d0e1ac7-0ffb-42d7-bf53-5a956dddc154\" target=\"_top\" title=\"psysml:4d0e1ac7-0ffb-42d7-bf53-5a956dddc154\" xlink:actuate=\"onRequest\" xlink:href=\"psysml:4d0e1ac7-0ffb-42d7-bf53-5a956dddc154\" xlink:show=\"new\" xlink:title=\"psysml:4d0e1ac7-0ffb-42d7-bf53-5a956dddc154\" xlink:type=\"simple\"><rect fill=\"#FFFFFF\" height=\"47\" id=\"E3\" style=\"stroke: #383838; stroke-width: 1.5;\" width=\"188\" x=\"50\" y=\"55\"/><rect fill=\"#F8F8F8\" height=\"37.9375\" style=\"stroke: #383838; stroke-width: 1.5;\" width=\"188\" x=\"50\" y=\"55\"/><text fill=\"#000000\" font-family=\"sans-serif\" font-size=\"12\" font-style=\"italic\" lengthAdjust=\"spacingAndGlyphs\" textLength=\"77\" x=\"105.5\" y=\"71.1387\">«action def»</text><text fill=\"#000000\" font-family=\"sans-serif\" font-size=\"12\" lengthAdjust=\"spacingAndGlyphs\" textLength=\"27\" x=\"130.5\" y=\"85.1074\">setX</text></a><g id=\"E1.E2\"><a href=\"psysml:d8d89087-5f7a-40fd-9871-b52a02710321\" target=\"_top\" title=\"psysml:d8d89087-5f7a-40fd-9871-b52a02710321\" xlink:actuate=\"onRequest\" xlink:href=\"psysml:d8d89087-5f7a-40fd-9871-b52a02710321\" xlink:show=\"new\" xlink:title=\"psysml:d8d89087-5f7a-40fd-9871-b52a02710321\" xlink:type=\"simple\"><rect fill=\"#FFFFFF\" height=\"42.9375\" id=\"E2\" style=\"stroke: #383838; stroke-width: 1.5;\" width=\"72\" x=\"32\" y=\"143.5\"/><rect fill=\"#F8F8F8\" height=\"37.9375\" style=\"stroke: #383838; stroke-width: 1.5;\" width=\"72\" x=\"32\" y=\"143.5\"/><text fill=\"#000000\" font-family=\"sans-serif\" font-size=\"12\" font-style=\"italic\" lengthAdjust=\"spacingAndGlyphs\" textLength=\"65\" x=\"35.5\" y=\"159.6387\">«item def»</text><text fill=\"#000000\" font-family=\"sans-serif\" font-size=\"12\" lengthAdjust=\"spacingAndGlyphs\" textLength=\"8\" x=\"64\" y=\"173.6074\">C</text></a></g><text fill=\"#000000\" font-family=\"sans-serif\" font-size=\"14\" lengthAdjust=\"spacingAndGlyphs\" textLength=\"8\" x=\"64\" y=\"120.9951\">c</text><rect fill=\"#383838\" height=\"12\" style=\"stroke: #F8F8F8; stroke-width: 1.5;\" width=\"12\" x=\"62\" y=\"96\"/><text fill=\"#000000\" font-family=\"sans-serif\" font-size=\"14\" lengthAdjust=\"spacingAndGlyphs\" textLength=\"38\" x=\"49\" y=\"33.6982\">newX</text><rect fill=\"#383838\" height=\"12\" style=\"stroke: #F8F8F8; stroke-width: 1.5;\" width=\"12\" x=\"62\" y=\"49\"/><!--MD5=[7f95a2eb912afe24bf65a3803deceaa8]\n",
       "@startuml\r\n",
       "skinparam ranksep 10\r\n",
       "skinparam rectangle {\r\n",
       " backgroundColor<<block>> LightGreen\r\n",
       "}\r\n",
       "left to right direction\r\n",
       "skinparam monochrome true\r\n",
       "skinparam classbackgroundcolor white\r\n",
       "skinparam shadowing false\r\n",
       "skinparam wrapWidth 300\r\n",
       "hide circle\r\n",
       "\r\n",
       "package \"TextualRepresentationTest\" as E1  [[psysml:7357ea5e-db14-480c-8643-46679caa3aca ]]  {\r\n",
       "def \"C\" as E2  <<(T,blue) item def>> [[psysml:d8d89087-5f7a-40fd-9871-b52a02710321 ]] \r\n",
       "rec def \"setX\" as E3  <<(T,blue) action def>> [[psysml:4d0e1ac7-0ffb-42d7-bf53-5a956dddc154 ]] {\r\n",
       "portin \"c\" as E4  [[psysml:7b0b3a1a-f848-44f8-8668-45f7327338b0 ]] \r\n",
       "portin \"newX\" as E5  [[psysml:5310235f-3728-4e86-87c8-1dd93d46f083 ]] \r\n",
       "}\r\n",
       "\r\n",
       "}\r\n",
       "@enduml\r\n",
       "\n",
       "PlantUML version 1.2020.13(Sat Jun 13 12:26:38 UTC 2020)\n",
       "(EPL source distribution)\n",
       "Java Runtime: OpenJDK Runtime Environment\n",
       "JVM: OpenJDK 64-Bit Server VM\n",
       "Default Encoding: UTF-8\n",
       "Language: en\n",
       "Country: null\n",
       "--></g></svg>"
      ]
     },
     "execution_count": 19,
     "metadata": {},
     "output_type": "execute_result"
    }
   ],
   "source": [
    "%viz --style=\"LR\" --view=\"Interconnection\" \"TextualRepresentationTest\""
   ]
  },
  {
   "cell_type": "code",
   "execution_count": 20,
   "id": "6dd90169",
   "metadata": {
    "execution": {
     "iopub.execute_input": "2021-08-04T06:26:39.738074Z",
     "iopub.status.busy": "2021-08-04T06:26:39.737818Z",
     "iopub.status.idle": "2021-08-04T06:26:39.760077Z",
     "shell.execute_reply": "2021-08-04T06:26:39.759604Z"
    }
   },
   "outputs": [
    {
     "data": {
      "image/svg+xml": [
       "<?xml version=\"1.0\" encoding=\"UTF-8\" standalone=\"no\"?><svg xmlns=\"http://www.w3.org/2000/svg\" xmlns:xlink=\"http://www.w3.org/1999/xlink\" contentScriptType=\"application/ecmascript\" contentStyleType=\"text/css\" height=\"121px\" preserveAspectRatio=\"none\" style=\"width:176px;height:121px;\" version=\"1.1\" viewBox=\"0 0 176 121\" width=\"176px\" zoomAndPan=\"magnify\"><defs/><g><!--MD5=[fbc87193dbaf4d95561dea2c320d4a47]\n",
       "cluster E1--><a href=\"psysml:4d0e1ac7-0ffb-42d7-bf53-5a956dddc154\" target=\"_top\" title=\"psysml:4d0e1ac7-0ffb-42d7-bf53-5a956dddc154\" xlink:actuate=\"onRequest\" xlink:href=\"psysml:4d0e1ac7-0ffb-42d7-bf53-5a956dddc154\" xlink:show=\"new\" xlink:title=\"psysml:4d0e1ac7-0ffb-42d7-bf53-5a956dddc154\" xlink:type=\"simple\"><rect fill=\"#FFFFFF\" height=\"47\" id=\"E1\" style=\"stroke: #383838; stroke-width: 1.5;\" width=\"158\" x=\"7\" y=\"42.0986\"/><rect fill=\"#F8F8F8\" height=\"37.9375\" style=\"stroke: #383838; stroke-width: 1.5;\" width=\"158\" x=\"7\" y=\"42.0986\"/><text fill=\"#000000\" font-family=\"sans-serif\" font-size=\"12\" font-style=\"italic\" lengthAdjust=\"spacingAndGlyphs\" textLength=\"77\" x=\"47.5\" y=\"58.2373\">«action def»</text><text fill=\"#000000\" font-family=\"sans-serif\" font-size=\"12\" lengthAdjust=\"spacingAndGlyphs\" textLength=\"27\" x=\"72.5\" y=\"72.2061\">setX</text></a><text fill=\"#000000\" font-family=\"sans-serif\" font-size=\"14\" lengthAdjust=\"spacingAndGlyphs\" textLength=\"8\" x=\"21\" y=\"108.0938\">c</text><rect fill=\"#383838\" height=\"12\" style=\"stroke: #F8F8F8; stroke-width: 1.5;\" width=\"12\" x=\"19\" y=\"83.0986\"/><text fill=\"#000000\" font-family=\"sans-serif\" font-size=\"14\" lengthAdjust=\"spacingAndGlyphs\" textLength=\"38\" x=\"6\" y=\"20.7969\">newX</text><rect fill=\"#383838\" height=\"12\" style=\"stroke: #F8F8F8; stroke-width: 1.5;\" width=\"12\" x=\"19\" y=\"36.0986\"/><!--MD5=[a58481f5d9284e479c5f44477ad2a712]\n",
       "@startuml\r\n",
       "skinparam ranksep 8\r\n",
       "left to right direction\r\n",
       "skinparam monochrome true\r\n",
       "skinparam classbackgroundcolor white\r\n",
       "skinparam shadowing false\r\n",
       "skinparam wrapWidth 300\r\n",
       "hide circle\r\n",
       "\r\n",
       "rec def \"setX\" as E1  <<(T,blue) action def>> [[psysml:4d0e1ac7-0ffb-42d7-bf53-5a956dddc154 ]] {\r\n",
       "portin \"c\" as E2  [[psysml:7b0b3a1a-f848-44f8-8668-45f7327338b0 ]] \r\n",
       "portin \"newX\" as E3  [[psysml:5310235f-3728-4e86-87c8-1dd93d46f083 ]] \r\n",
       "}\r\n",
       "\r\n",
       "@enduml\r\n",
       "\n",
       "PlantUML version 1.2020.13(Sat Jun 13 12:26:38 UTC 2020)\n",
       "(EPL source distribution)\n",
       "Java Runtime: OpenJDK Runtime Environment\n",
       "JVM: OpenJDK 64-Bit Server VM\n",
       "Default Encoding: UTF-8\n",
       "Language: en\n",
       "Country: null\n",
       "--></g></svg>"
      ]
     },
     "execution_count": 20,
     "metadata": {},
     "output_type": "execute_result"
    }
   ],
   "source": [
    "%viz --style=\"LR\" --view=\"Action\" \"TextualRepresentationTest\""
   ]
  },
  {
   "cell_type": "code",
   "execution_count": 21,
   "id": "12fdaabe",
   "metadata": {
    "execution": {
     "iopub.execute_input": "2021-08-04T06:26:39.809778Z",
     "iopub.status.busy": "2021-08-04T06:26:39.809318Z",
     "iopub.status.idle": "2021-08-04T06:26:39.846428Z",
     "shell.execute_reply": "2021-08-04T06:26:39.844735Z"
    }
   },
   "outputs": [
    {
     "data": {
      "image/svg+xml": [
       "<?xml version=\"1.0\" encoding=\"UTF-8\" standalone=\"no\"?><svg xmlns=\"http://www.w3.org/2000/svg\" xmlns:xlink=\"http://www.w3.org/1999/xlink\" contentScriptType=\"application/ecmascript\" contentStyleType=\"text/css\" height=\"145px\" preserveAspectRatio=\"none\" style=\"width:467px;height:145px;\" version=\"1.1\" viewBox=\"0 0 467 145\" width=\"467px\" zoomAndPan=\"magnify\"><defs/><g><!--MD5=[fbc87193dbaf4d95561dea2c320d4a47]\n",
       "cluster E1--><a href=\"psysml:7357ea5e-db14-480c-8643-46679caa3aca\" target=\"_top\" title=\"psysml:7357ea5e-db14-480c-8643-46679caa3aca\" xlink:actuate=\"onRequest\" xlink:href=\"psysml:7357ea5e-db14-480c-8643-46679caa3aca\" xlink:show=\"new\" xlink:title=\"psysml:7357ea5e-db14-480c-8643-46679caa3aca\" xlink:type=\"simple\"><polygon fill=\"#FFFFFF\" points=\"16,6,236,6,243,28.2969,445,28.2969,445,133,16,133,16,6\" style=\"stroke: #000000; stroke-width: 1.5;\"/><line style=\"stroke: #000000; stroke-width: 1.5;\" x1=\"16\" x2=\"243\" y1=\"28.2969\" y2=\"28.2969\"/><text fill=\"#000000\" font-family=\"sans-serif\" font-size=\"14\" font-weight=\"bold\" lengthAdjust=\"spacingAndGlyphs\" textLength=\"214\" x=\"20\" y=\"20.9951\">TextualRepresentationTest</text></a><!--MD5=[b4997ac47864f28c2f74865a473b2911]\n",
       "class E2--><a href=\"psysml:d8d89087-5f7a-40fd-9871-b52a02710321\" target=\"_top\" title=\"psysml:d8d89087-5f7a-40fd-9871-b52a02710321\" xlink:actuate=\"onRequest\" xlink:href=\"psysml:d8d89087-5f7a-40fd-9871-b52a02710321\" xlink:show=\"new\" xlink:title=\"psysml:d8d89087-5f7a-40fd-9871-b52a02710321\" xlink:type=\"simple\"><rect fill=\"#FFFFFF\" height=\"75.5469\" id=\"E2\" style=\"stroke: #383838; stroke-width: 1.5;\" width=\"67\" x=\"180\" y=\"41\"/><text fill=\"#000000\" font-family=\"sans-serif\" font-size=\"12\" font-style=\"italic\" lengthAdjust=\"spacingAndGlyphs\" textLength=\"65\" x=\"181\" y=\"57.1387\">«item def»</text><text fill=\"#000000\" font-family=\"sans-serif\" font-size=\"12\" lengthAdjust=\"spacingAndGlyphs\" textLength=\"8\" x=\"209.5\" y=\"71.1074\">C</text><line style=\"stroke: #383838; stroke-width: 1.5;\" x1=\"181\" x2=\"246\" y1=\"78.9375\" y2=\"78.9375\"/><text fill=\"#000000\" font-family=\"sans-serif\" font-size=\"11\" lengthAdjust=\"spacingAndGlyphs\" textLength=\"38\" x=\"186\" y=\"109.9526\">x: Real</text><line style=\"stroke: #383838; stroke-width: 1.0;\" x1=\"181\" x2=\"186\" y1=\"93.3398\" y2=\"93.3398\"/><text fill=\"#000000\" font-family=\"sans-serif\" font-size=\"11\" lengthAdjust=\"spacingAndGlyphs\" textLength=\"55\" x=\"186\" y=\"96.6479\">attributes</text><line style=\"stroke: #383838; stroke-width: 1.0;\" x1=\"241\" x2=\"246\" y1=\"93.3398\" y2=\"93.3398\"/></a><!--MD5=[09b614a08d8cba4a07c9adeb5e0fee81]\n",
       "class E3--><a href=\"psysml:24b29db4-a520-4ed1-8de3-5d8963222bac\" target=\"_top\" title=\"psysml:24b29db4-a520-4ed1-8de3-5d8963222bac\" xlink:actuate=\"onRequest\" xlink:href=\"psysml:24b29db4-a520-4ed1-8de3-5d8963222bac\" xlink:show=\"new\" xlink:title=\"psysml:24b29db4-a520-4ed1-8de3-5d8963222bac\" xlink:type=\"simple\"><rect fill=\"#FFFFFF\" height=\"45.9375\" id=\"E3\" rx=\"10\" ry=\"10\" style=\"stroke: #383838; stroke-width: 1.5;\" width=\"121\" x=\"308\" y=\"56\"/><text fill=\"#000000\" font-family=\"sans-serif\" font-size=\"12\" font-style=\"italic\" lengthAdjust=\"spacingAndGlyphs\" textLength=\"119\" x=\"309\" y=\"72.1387\">«assertConstraint»</text><text fill=\"#000000\" font-family=\"sans-serif\" font-size=\"12\" lengthAdjust=\"spacingAndGlyphs\" textLength=\"76\" x=\"330.5\" y=\"86.1074\">x_constraint</text><line style=\"stroke: #383838; stroke-width: 1.5;\" x1=\"309\" x2=\"428\" y1=\"93.9375\" y2=\"93.9375\"/></a><!--MD5=[ebbe1d658d1005bcc118a6aa81145e00]\n",
       "class E4--><a href=\"psysml:4d0e1ac7-0ffb-42d7-bf53-5a956dddc154\" target=\"_top\" title=\"psysml:4d0e1ac7-0ffb-42d7-bf53-5a956dddc154\" xlink:actuate=\"onRequest\" xlink:href=\"psysml:4d0e1ac7-0ffb-42d7-bf53-5a956dddc154\" xlink:show=\"new\" xlink:title=\"psysml:4d0e1ac7-0ffb-42d7-bf53-5a956dddc154\" xlink:type=\"simple\"><rect fill=\"#FFFFFF\" height=\"45.9375\" id=\"E4\" style=\"stroke: #383838; stroke-width: 1.5;\" width=\"79\" x=\"32\" y=\"56\"/><text fill=\"#000000\" font-family=\"sans-serif\" font-size=\"12\" font-style=\"italic\" lengthAdjust=\"spacingAndGlyphs\" textLength=\"77\" x=\"33\" y=\"72.1387\">«action def»</text><text fill=\"#000000\" font-family=\"sans-serif\" font-size=\"12\" lengthAdjust=\"spacingAndGlyphs\" textLength=\"27\" x=\"58\" y=\"86.1074\">setX</text><line style=\"stroke: #383838; stroke-width: 1.5;\" x1=\"33\" x2=\"110\" y1=\"93.9375\" y2=\"93.9375\"/></a><!--MD5=[209b3feb70ccb6233bfe1053d122c12c]\n",
       "reverse link E2 to E3--><a href=\"psysml:92660e64-3893-4545-a353-67dbd76c0ff0\" target=\"_top\" title=\"psysml:92660e64-3893-4545-a353-67dbd76c0ff0\" xlink:actuate=\"onRequest\" xlink:href=\"psysml:92660e64-3893-4545-a353-67dbd76c0ff0\" xlink:show=\"new\" xlink:title=\"psysml:92660e64-3893-4545-a353-67dbd76c0ff0\" xlink:type=\"simple\"><path d=\"M260.42,79 C275.34,79 292.11,79 307.88,79 \" fill=\"none\" id=\"E2&lt;-E3\" style=\"stroke: #383838; stroke-width: 1.0;\"/><polygon fill=\"#383838\" points=\"247.32,79,253.32,83,259.32,79,253.32,75,247.32,79\" style=\"stroke: #383838; stroke-width: 1.0;\"/><text fill=\"#000000\" font-family=\"sans-serif\" font-size=\"13\" lengthAdjust=\"spacingAndGlyphs\" textLength=\"7\" x=\"293.0654\" y=\"91.9929\">*</text></a><!--MD5=[ddeed8deb2209213b62e6cfabaa108b2]\n",
       "reverse link E4 to E2--><a href=\"psysml:7b0b3a1a-f848-44f8-8668-45f7327338b0\" target=\"_top\" title=\"psysml:7b0b3a1a-f848-44f8-8668-45f7327338b0\" xlink:actuate=\"onRequest\" xlink:href=\"psysml:7b0b3a1a-f848-44f8-8668-45f7327338b0\" xlink:show=\"new\" xlink:title=\"psysml:7b0b3a1a-f848-44f8-8668-45f7327338b0\" xlink:type=\"simple\"><path d=\"M124.23,79 C142.79,79 163.18,79 179.69,79 \" fill=\"none\" id=\"E4&lt;-E2\" style=\"stroke: #383838; stroke-width: 1.0;\"/><polygon fill=\"#FFFFFF\" points=\"111.13,79,117.13,83,123.13,79,117.13,75,111.13,79\" style=\"stroke: #383838; stroke-width: 1.0;\"/><text fill=\"#000000\" font-family=\"sans-serif\" font-size=\"13\" lengthAdjust=\"spacingAndGlyphs\" textLength=\"7\" x=\"142\" y=\"75.0669\">c</text></a><!--MD5=[57f0bb602175fc287f06f41958ef81f6]\n",
       "@startuml\r\n",
       "left to right direction\r\n",
       "skinparam monochrome true\r\n",
       "skinparam classbackgroundcolor white\r\n",
       "skinparam shadowing false\r\n",
       "skinparam wrapWidth 300\r\n",
       "hide circle\r\n",
       "\r\n",
       "package \"TextualRepresentationTest\" as E1  [[psysml:7357ea5e-db14-480c-8643-46679caa3aca ]]  {\r\n",
       "comp def \"C\" as E2  <<(T,blue) item def>> [[psysml:d8d89087-5f7a-40fd-9871-b52a02710321 ]] {\r\n",
       "- - attributes - -\r\n",
       "x: Real\r\n",
       "}\r\n",
       "comp usage \"x_constraint\" as E3  <<(T,blue) assertConstraint>> [[psysml:24b29db4-a520-4ed1-8de3-5d8963222bac ]] {\r\n",
       "}\r\n",
       "comp def \"setX\" as E4  <<(T,blue) action def>> [[psysml:4d0e1ac7-0ffb-42d7-bf53-5a956dddc154 ]] {\r\n",
       "}\r\n",
       "E2 *- - \"*\"E3 [[psysml:92660e64-3893-4545-a353-67dbd76c0ff0 ]] \r\n",
       "E4 o- - E2 [[psysml:7b0b3a1a-f848-44f8-8668-45f7327338b0 ]] : c\r\n",
       "}\r\n",
       "@enduml\r\n",
       "\n",
       "PlantUML version 1.2020.13(Sat Jun 13 12:26:38 UTC 2020)\n",
       "(EPL source distribution)\n",
       "Java Runtime: OpenJDK Runtime Environment\n",
       "JVM: OpenJDK 64-Bit Server VM\n",
       "Default Encoding: UTF-8\n",
       "Language: en\n",
       "Country: null\n",
       "--></g></svg>"
      ]
     },
     "execution_count": 21,
     "metadata": {},
     "output_type": "execute_result"
    }
   ],
   "source": [
    "%viz --style=\"LR\" --view=\"Sequence\" \"TextualRepresentationTest\""
   ]
  },
  {
   "cell_type": "code",
   "execution_count": 22,
   "id": "061492bb",
   "metadata": {
    "execution": {
     "iopub.execute_input": "2021-08-04T06:26:39.895388Z",
     "iopub.status.busy": "2021-08-04T06:26:39.894956Z",
     "iopub.status.idle": "2021-08-04T06:26:39.928206Z",
     "shell.execute_reply": "2021-08-04T06:26:39.927863Z"
    }
   },
   "outputs": [
    {
     "data": {
      "image/svg+xml": [
       "<?xml version=\"1.0\" encoding=\"UTF-8\" standalone=\"no\"?><svg xmlns=\"http://www.w3.org/2000/svg\" xmlns:xlink=\"http://www.w3.org/1999/xlink\" contentScriptType=\"application/ecmascript\" contentStyleType=\"text/css\" height=\"247px\" preserveAspectRatio=\"none\" style=\"width:324px;height:247px;\" version=\"1.1\" viewBox=\"0 0 324 247\" width=\"324px\" zoomAndPan=\"magnify\"><defs/><g><!--MD5=[fbc87193dbaf4d95561dea2c320d4a47]\n",
       "cluster E1--><a href=\"psysml:7357ea5e-db14-480c-8643-46679caa3aca\" target=\"_top\" title=\"psysml:7357ea5e-db14-480c-8643-46679caa3aca\" xlink:actuate=\"onRequest\" xlink:href=\"psysml:7357ea5e-db14-480c-8643-46679caa3aca\" xlink:show=\"new\" xlink:title=\"psysml:7357ea5e-db14-480c-8643-46679caa3aca\" xlink:type=\"simple\"><polygon fill=\"#FFFFFF\" points=\"16,6,236,6,243,28.2969,302.5,28.2969,302.5,235,16,235,16,6\" style=\"stroke: #000000; stroke-width: 1.5;\"/><line style=\"stroke: #000000; stroke-width: 1.5;\" x1=\"16\" x2=\"243\" y1=\"28.2969\" y2=\"28.2969\"/><text fill=\"#000000\" font-family=\"sans-serif\" font-size=\"14\" font-weight=\"bold\" lengthAdjust=\"spacingAndGlyphs\" textLength=\"214\" x=\"20\" y=\"20.9951\">TextualRepresentationTest</text></a><!--MD5=[f6df4d0ebaf0b5dfb2ced0ae5af7c670]\n",
       "cluster E4--><a href=\"psysml:4d0e1ac7-0ffb-42d7-bf53-5a956dddc154\" target=\"_top\" title=\"psysml:4d0e1ac7-0ffb-42d7-bf53-5a956dddc154\" xlink:actuate=\"onRequest\" xlink:href=\"psysml:4d0e1ac7-0ffb-42d7-bf53-5a956dddc154\" xlink:show=\"new\" xlink:title=\"psysml:4d0e1ac7-0ffb-42d7-bf53-5a956dddc154\" xlink:type=\"simple\"><rect fill=\"#FFFFFF\" height=\"47\" id=\"E4\" style=\"stroke: #383838; stroke-width: 1.5;\" width=\"239\" x=\"47.5\" y=\"55\"/><rect fill=\"#F8F8F8\" height=\"37.9375\" style=\"stroke: #383838; stroke-width: 1.5;\" width=\"239\" x=\"47.5\" y=\"55\"/><text fill=\"#000000\" font-family=\"sans-serif\" font-size=\"12\" font-style=\"italic\" lengthAdjust=\"spacingAndGlyphs\" textLength=\"77\" x=\"128.5\" y=\"71.1387\">«action def»</text><text fill=\"#000000\" font-family=\"sans-serif\" font-size=\"12\" lengthAdjust=\"spacingAndGlyphs\" textLength=\"27\" x=\"153.5\" y=\"85.1074\">setX</text></a><!--MD5=[b4997ac47864f28c2f74865a473b2911]\n",
       "class E2--><a href=\"psysml:d8d89087-5f7a-40fd-9871-b52a02710321\" target=\"_top\" title=\"psysml:d8d89087-5f7a-40fd-9871-b52a02710321\" xlink:actuate=\"onRequest\" xlink:href=\"psysml:d8d89087-5f7a-40fd-9871-b52a02710321\" xlink:show=\"new\" xlink:title=\"psysml:d8d89087-5f7a-40fd-9871-b52a02710321\" xlink:type=\"simple\"><rect fill=\"#FFFFFF\" height=\"75.5469\" id=\"E2\" style=\"stroke: #383838; stroke-width: 1.5;\" width=\"67\" x=\"32\" y=\"143\"/><text fill=\"#000000\" font-family=\"sans-serif\" font-size=\"12\" font-style=\"italic\" lengthAdjust=\"spacingAndGlyphs\" textLength=\"65\" x=\"33\" y=\"159.1387\">«item def»</text><text fill=\"#000000\" font-family=\"sans-serif\" font-size=\"12\" lengthAdjust=\"spacingAndGlyphs\" textLength=\"8\" x=\"61.5\" y=\"173.1074\">C</text><line style=\"stroke: #383838; stroke-width: 1.5;\" x1=\"33\" x2=\"98\" y1=\"180.9375\" y2=\"180.9375\"/><text fill=\"#000000\" font-family=\"sans-serif\" font-size=\"11\" lengthAdjust=\"spacingAndGlyphs\" textLength=\"38\" x=\"38\" y=\"211.9526\">x: Real</text><line style=\"stroke: #383838; stroke-width: 1.0;\" x1=\"33\" x2=\"38\" y1=\"195.3398\" y2=\"195.3398\"/><text fill=\"#000000\" font-family=\"sans-serif\" font-size=\"11\" lengthAdjust=\"spacingAndGlyphs\" textLength=\"55\" x=\"38\" y=\"198.6479\">attributes</text><line style=\"stroke: #383838; stroke-width: 1.0;\" x1=\"93\" x2=\"98\" y1=\"195.3398\" y2=\"195.3398\"/></a><!--MD5=[09b614a08d8cba4a07c9adeb5e0fee81]\n",
       "class E3--><a href=\"psysml:24b29db4-a520-4ed1-8de3-5d8963222bac\" target=\"_top\" title=\"psysml:24b29db4-a520-4ed1-8de3-5d8963222bac\" xlink:actuate=\"onRequest\" xlink:href=\"psysml:24b29db4-a520-4ed1-8de3-5d8963222bac\" xlink:show=\"new\" xlink:title=\"psysml:24b29db4-a520-4ed1-8de3-5d8963222bac\" xlink:type=\"simple\"><rect fill=\"#FFFFFF\" height=\"45.9375\" id=\"E3\" rx=\"10\" ry=\"10\" style=\"stroke: #383838; stroke-width: 1.5;\" width=\"121\" x=\"159\" y=\"158\"/><text fill=\"#000000\" font-family=\"sans-serif\" font-size=\"12\" font-style=\"italic\" lengthAdjust=\"spacingAndGlyphs\" textLength=\"119\" x=\"160\" y=\"174.1387\">«assertConstraint»</text><text fill=\"#000000\" font-family=\"sans-serif\" font-size=\"12\" lengthAdjust=\"spacingAndGlyphs\" textLength=\"76\" x=\"181.5\" y=\"188.1074\">x_constraint</text><line style=\"stroke: #383838; stroke-width: 1.5;\" x1=\"160\" x2=\"279\" y1=\"195.9375\" y2=\"195.9375\"/></a><text fill=\"#000000\" font-family=\"sans-serif\" font-size=\"14\" lengthAdjust=\"spacingAndGlyphs\" textLength=\"8\" x=\"61.5\" y=\"120.9951\">c</text><rect fill=\"#383838\" height=\"12\" style=\"stroke: #F8F8F8; stroke-width: 1.5;\" width=\"12\" x=\"59.5\" y=\"96\"/><text fill=\"#000000\" font-family=\"sans-serif\" font-size=\"14\" lengthAdjust=\"spacingAndGlyphs\" textLength=\"38\" x=\"46.5\" y=\"33.6982\">newX</text><rect fill=\"#383838\" height=\"12\" style=\"stroke: #F8F8F8; stroke-width: 1.5;\" width=\"12\" x=\"59.5\" y=\"49\"/><!--MD5=[209b3feb70ccb6233bfe1053d122c12c]\n",
       "reverse link E2 to E3--><a href=\"psysml:92660e64-3893-4545-a353-67dbd76c0ff0\" target=\"_top\" title=\"psysml:92660e64-3893-4545-a353-67dbd76c0ff0\" xlink:actuate=\"onRequest\" xlink:href=\"psysml:92660e64-3893-4545-a353-67dbd76c0ff0\" xlink:show=\"new\" xlink:title=\"psysml:92660e64-3893-4545-a353-67dbd76c0ff0\" xlink:type=\"simple\"><path d=\"M112.5,181 C127.13,181 143.52,181 158.96,181 \" fill=\"none\" id=\"E2&lt;-E3\" style=\"stroke: #383838; stroke-width: 1.0;\"/><polygon fill=\"#383838\" points=\"99.11,181,105.11,185,111.11,181,105.11,177,99.11,181\" style=\"stroke: #383838; stroke-width: 1.0;\"/><text fill=\"#000000\" font-family=\"sans-serif\" font-size=\"13\" lengthAdjust=\"spacingAndGlyphs\" textLength=\"7\" x=\"144.1551\" y=\"193.9929\">*</text></a><!--MD5=[ff95336e8966dd7467abba97134648c0]\n",
       "@startuml\r\n",
       "left to right direction\r\n",
       "skinparam monochrome true\r\n",
       "skinparam classbackgroundcolor white\r\n",
       "skinparam shadowing false\r\n",
       "skinparam wrapWidth 300\r\n",
       "hide circle\r\n",
       "\r\n",
       "package \"TextualRepresentationTest\" as E1  [[psysml:7357ea5e-db14-480c-8643-46679caa3aca ]]  {\r\n",
       "comp def \"C\" as E2  <<(T,blue) item def>> [[psysml:d8d89087-5f7a-40fd-9871-b52a02710321 ]] {\r\n",
       "- - attributes - -\r\n",
       "x: Real\r\n",
       "}\r\n",
       "comp usage \"x_constraint\" as E3  <<(T,blue) assertConstraint>> [[psysml:24b29db4-a520-4ed1-8de3-5d8963222bac ]] {\r\n",
       "}\r\n",
       "rec def \"setX\" as E4  <<(T,blue) action def>> [[psysml:4d0e1ac7-0ffb-42d7-bf53-5a956dddc154 ]] {\r\n",
       "portin \"c\" as E5  [[psysml:7b0b3a1a-f848-44f8-8668-45f7327338b0 ]] \r\n",
       "portin \"newX\" as E6  [[psysml:5310235f-3728-4e86-87c8-1dd93d46f083 ]] \r\n",
       "}\r\n",
       "\r\n",
       "E2 *- - \"*\"E3 [[psysml:92660e64-3893-4545-a353-67dbd76c0ff0 ]] \r\n",
       "}\r\n",
       "@enduml\r\n",
       "\n",
       "PlantUML version 1.2020.13(Sat Jun 13 12:26:38 UTC 2020)\n",
       "(EPL source distribution)\n",
       "Java Runtime: OpenJDK Runtime Environment\n",
       "JVM: OpenJDK 64-Bit Server VM\n",
       "Default Encoding: UTF-8\n",
       "Language: en\n",
       "Country: null\n",
       "--></g></svg>"
      ]
     },
     "execution_count": 22,
     "metadata": {},
     "output_type": "execute_result"
    }
   ],
   "source": [
    "%viz --style=\"LR\" --view=\"MIXED\" \"TextualRepresentationTest\""
   ]
  },
  {
   "cell_type": "code",
   "execution_count": 23,
   "id": "04eacda3",
   "metadata": {
    "execution": {
     "iopub.execute_input": "2021-08-04T06:26:39.978253Z",
     "iopub.status.busy": "2021-08-04T06:26:39.977831Z",
     "iopub.status.idle": "2021-08-04T06:26:40.017378Z",
     "shell.execute_reply": "2021-08-04T06:26:40.017028Z"
    }
   },
   "outputs": [
    {
     "data": {
      "image/svg+xml": [
       "<?xml version=\"1.0\" encoding=\"UTF-8\" standalone=\"no\"?><svg xmlns=\"http://www.w3.org/2000/svg\" xmlns:xlink=\"http://www.w3.org/1999/xlink\" contentScriptType=\"application/ecmascript\" contentStyleType=\"text/css\" height=\"244px\" preserveAspectRatio=\"none\" style=\"width:345px;height:244px;\" version=\"1.1\" viewBox=\"0 0 345 244\" width=\"345px\" zoomAndPan=\"magnify\"><defs><filter height=\"300%\" id=\"f9x1ant1tuyt\" width=\"300%\" x=\"-1\" y=\"-1\"><feGaussianBlur result=\"blurOut\" stdDeviation=\"2.0\"/><feColorMatrix in=\"blurOut\" result=\"blurOut2\" type=\"matrix\" values=\"0 0 0 0 0 0 0 0 0 0 0 0 0 0 0 0 0 0 .4 0\"/><feOffset dx=\"4.0\" dy=\"4.0\" in=\"blurOut2\" result=\"blurOut3\"/><feBlend in=\"SourceGraphic\" in2=\"blurOut3\" mode=\"normal\"/></filter></defs><g><!--MD5=[fbc87193dbaf4d95561dea2c320d4a47]\n",
       "cluster E1--><a href=\"psysml:7357ea5e-db14-480c-8643-46679caa3aca\" target=\"_top\" title=\"psysml:7357ea5e-db14-480c-8643-46679caa3aca\" xlink:actuate=\"onRequest\" xlink:href=\"psysml:7357ea5e-db14-480c-8643-46679caa3aca\" xlink:show=\"new\" xlink:title=\"psysml:7357ea5e-db14-480c-8643-46679caa3aca\" xlink:type=\"simple\"><polygon fill=\"#FFFFFF\" filter=\"url(#f9x1ant1tuyt)\" points=\"16,6,236,6,243,28.2969,323,28.2969,323,232.5,16,232.5,16,6\" style=\"stroke: #000000; stroke-width: 1.5;\"/><line style=\"stroke: #000000; stroke-width: 1.5;\" x1=\"16\" x2=\"243\" y1=\"28.2969\" y2=\"28.2969\"/><text fill=\"#000000\" font-family=\"sans-serif\" font-size=\"14\" font-weight=\"bold\" lengthAdjust=\"spacingAndGlyphs\" textLength=\"214\" x=\"20\" y=\"20.9951\">TextualRepresentationTest</text></a><!--MD5=[f6df4d0ebaf0b5dfb2ced0ae5af7c670]\n",
       "cluster E4--><a href=\"psysml:4d0e1ac7-0ffb-42d7-bf53-5a956dddc154\" target=\"_top\" title=\"psysml:4d0e1ac7-0ffb-42d7-bf53-5a956dddc154\" xlink:actuate=\"onRequest\" xlink:href=\"psysml:4d0e1ac7-0ffb-42d7-bf53-5a956dddc154\" xlink:show=\"new\" xlink:title=\"psysml:4d0e1ac7-0ffb-42d7-bf53-5a956dddc154\" xlink:type=\"simple\"><rect fill=\"#FFFFFF\" filter=\"url(#f9x1ant1tuyt)\" height=\"146\" id=\"E4\" style=\"stroke: #A80036; stroke-width: 1.5;\" width=\"132\" x=\"175\" y=\"70.5\"/><rect fill=\"#FEFECE\" height=\"37.9375\" style=\"stroke: #A80036; stroke-width: 1.5;\" width=\"132\" x=\"175\" y=\"70.5\"/><text fill=\"#000000\" font-family=\"sans-serif\" font-size=\"12\" font-style=\"italic\" lengthAdjust=\"spacingAndGlyphs\" textLength=\"77\" x=\"202.5\" y=\"86.6387\">«action def»</text><text fill=\"#000000\" font-family=\"sans-serif\" font-size=\"12\" lengthAdjust=\"spacingAndGlyphs\" textLength=\"27\" x=\"227.5\" y=\"100.6074\">setX</text></a><!--MD5=[b4997ac47864f28c2f74865a473b2911]\n",
       "class E2--><a href=\"psysml:d8d89087-5f7a-40fd-9871-b52a02710321\" target=\"_top\" title=\"psysml:d8d89087-5f7a-40fd-9871-b52a02710321\" xlink:actuate=\"onRequest\" xlink:href=\"psysml:d8d89087-5f7a-40fd-9871-b52a02710321\" xlink:show=\"new\" xlink:title=\"psysml:d8d89087-5f7a-40fd-9871-b52a02710321\" xlink:type=\"simple\"><rect fill=\"#FEFECE\" filter=\"url(#f9x1ant1tuyt)\" height=\"58.7422\" id=\"E2\" style=\"stroke: #A80036; stroke-width: 1.5;\" width=\"67\" x=\"59.5\" y=\"41\"/><text fill=\"#000000\" font-family=\"sans-serif\" font-size=\"12\" font-style=\"italic\" lengthAdjust=\"spacingAndGlyphs\" textLength=\"65\" x=\"60.5\" y=\"57.1387\">«item def»</text><text fill=\"#000000\" font-family=\"sans-serif\" font-size=\"12\" lengthAdjust=\"spacingAndGlyphs\" textLength=\"8\" x=\"89\" y=\"71.1074\">C</text><line style=\"stroke: #A80036; stroke-width: 1.5;\" x1=\"60.5\" x2=\"125.5\" y1=\"78.9375\" y2=\"78.9375\"/><text fill=\"#000000\" font-family=\"sans-serif\" font-size=\"11\" lengthAdjust=\"spacingAndGlyphs\" textLength=\"38\" x=\"65.5\" y=\"93.1479\">x: Real</text></a><!--MD5=[09b614a08d8cba4a07c9adeb5e0fee81]\n",
       "class E3--><a href=\"psysml:24b29db4-a520-4ed1-8de3-5d8963222bac\" target=\"_top\" title=\"psysml:24b29db4-a520-4ed1-8de3-5d8963222bac\" xlink:actuate=\"onRequest\" xlink:href=\"psysml:24b29db4-a520-4ed1-8de3-5d8963222bac\" xlink:show=\"new\" xlink:title=\"psysml:24b29db4-a520-4ed1-8de3-5d8963222bac\" xlink:type=\"simple\"><rect fill=\"#FEFECE\" filter=\"url(#f9x1ant1tuyt)\" height=\"45.9375\" id=\"E3\" rx=\"10\" ry=\"10\" style=\"stroke: #A80036; stroke-width: 1.5;\" width=\"121\" x=\"32.5\" y=\"160\"/><text fill=\"#000000\" font-family=\"sans-serif\" font-size=\"12\" font-style=\"italic\" lengthAdjust=\"spacingAndGlyphs\" textLength=\"119\" x=\"33.5\" y=\"176.1387\">«assertConstraint»</text><text fill=\"#000000\" font-family=\"sans-serif\" font-size=\"12\" lengthAdjust=\"spacingAndGlyphs\" textLength=\"76\" x=\"55\" y=\"190.1074\">x_constraint</text><line style=\"stroke: #A80036; stroke-width: 1.5;\" x1=\"33.5\" x2=\"152.5\" y1=\"197.9375\" y2=\"197.9375\"/></a><text fill=\"#000000\" font-family=\"sans-serif\" font-size=\"14\" lengthAdjust=\"spacingAndGlyphs\" textLength=\"8\" x=\"189\" y=\"49.1982\">c</text><rect fill=\"#A80036\" height=\"12\" style=\"stroke: #FEFECE; stroke-width: 1.5;\" width=\"12\" x=\"187\" y=\"64.5\"/><text fill=\"#000000\" font-family=\"sans-serif\" font-size=\"14\" lengthAdjust=\"spacingAndGlyphs\" textLength=\"38\" x=\"221\" y=\"49.1982\">newX</text><rect fill=\"#A80036\" height=\"12\" style=\"stroke: #FEFECE; stroke-width: 1.5;\" width=\"12\" x=\"234\" y=\"64.5\"/><!--MD5=[209b3feb70ccb6233bfe1053d122c12c]\n",
       "reverse link E2 to E3--><a href=\"psysml:92660e64-3893-4545-a353-67dbd76c0ff0\" target=\"_top\" title=\"psysml:92660e64-3893-4545-a353-67dbd76c0ff0\" xlink:actuate=\"onRequest\" xlink:href=\"psysml:92660e64-3893-4545-a353-67dbd76c0ff0\" xlink:show=\"new\" xlink:title=\"psysml:92660e64-3893-4545-a353-67dbd76c0ff0\" xlink:type=\"simple\"><path d=\"M93,113.51 C93,129.22 93,146.43 93,159.68 \" fill=\"none\" id=\"E2&lt;-E3\" style=\"stroke: #A80036; stroke-width: 1.0;\"/><polygon fill=\"#A80036\" points=\"93,100.24,89,106.24,93,112.24,97,106.24,93,100.24\" style=\"stroke: #A80036; stroke-width: 1.0;\"/><text fill=\"#000000\" font-family=\"sans-serif\" font-size=\"13\" lengthAdjust=\"spacingAndGlyphs\" textLength=\"7\" x=\"85.1031\" y=\"148.8743\">*</text></a><!--MD5=[2e97e25b92292b08f305fce517d6fb13]\n",
       "@startuml\r\n",
       "skinparam wrapWidth 300\r\n",
       "hide circle\r\n",
       "\r\n",
       "package \"TextualRepresentationTest\" as E1  [[psysml:7357ea5e-db14-480c-8643-46679caa3aca ]]  {\r\n",
       "comp def \"C\" as E2  <<(T,blue) item def>> [[psysml:d8d89087-5f7a-40fd-9871-b52a02710321 ]] {\r\n",
       "x: Real\r\n",
       "}\r\n",
       "comp usage \"x_constraint\" as E3  <<(T,blue) assertConstraint>> [[psysml:24b29db4-a520-4ed1-8de3-5d8963222bac ]] {\r\n",
       "}\r\n",
       "rec def \"setX\" as E4  <<(T,blue) action def>> [[psysml:4d0e1ac7-0ffb-42d7-bf53-5a956dddc154 ]] {\r\n",
       "portin \"c\" as E5  [[psysml:7b0b3a1a-f848-44f8-8668-45f7327338b0 ]] \r\n",
       "portin \"newX\" as E6  [[psysml:5310235f-3728-4e86-87c8-1dd93d46f083 ]] \r\n",
       "}\r\n",
       "\r\n",
       "E2 *- - \"*\"E3 [[psysml:92660e64-3893-4545-a353-67dbd76c0ff0 ]] \r\n",
       "}\r\n",
       "@enduml\r\n",
       "\n",
       "PlantUML version 1.2020.13(Sat Jun 13 12:26:38 UTC 2020)\n",
       "(EPL source distribution)\n",
       "Java Runtime: OpenJDK Runtime Environment\n",
       "JVM: OpenJDK 64-Bit Server VM\n",
       "Default Encoding: UTF-8\n",
       "Language: en\n",
       "Country: null\n",
       "--></g></svg>"
      ]
     },
     "execution_count": 23,
     "metadata": {},
     "output_type": "execute_result"
    }
   ],
   "source": [
    "%viz --style=\"STDCOLOR\" --view=\"Default\" \"TextualRepresentationTest\""
   ]
  },
  {
   "cell_type": "code",
   "execution_count": 24,
   "id": "8109f28e",
   "metadata": {
    "execution": {
     "iopub.execute_input": "2021-08-04T06:26:40.067417Z",
     "iopub.status.busy": "2021-08-04T06:26:40.066994Z",
     "iopub.status.idle": "2021-08-04T06:26:40.099008Z",
     "shell.execute_reply": "2021-08-04T06:26:40.098634Z"
    }
   },
   "outputs": [
    {
     "data": {
      "image/svg+xml": [
       "<?xml version=\"1.0\" encoding=\"UTF-8\" standalone=\"no\"?><svg xmlns=\"http://www.w3.org/2000/svg\" xmlns:xlink=\"http://www.w3.org/1999/xlink\" contentScriptType=\"application/ecmascript\" contentStyleType=\"text/css\" height=\"358px\" preserveAspectRatio=\"none\" style=\"width:268px;height:358px;\" version=\"1.1\" viewBox=\"0 0 268 358\" width=\"268px\" zoomAndPan=\"magnify\"><defs><filter height=\"300%\" id=\"f1qb87uofswua4\" width=\"300%\" x=\"-1\" y=\"-1\"><feGaussianBlur result=\"blurOut\" stdDeviation=\"2.0\"/><feColorMatrix in=\"blurOut\" result=\"blurOut2\" type=\"matrix\" values=\"0 0 0 0 0 0 0 0 0 0 0 0 0 0 0 0 0 0 .4 0\"/><feOffset dx=\"4.0\" dy=\"4.0\" in=\"blurOut2\" result=\"blurOut3\"/><feBlend in=\"SourceGraphic\" in2=\"blurOut3\" mode=\"normal\"/></filter></defs><g><!--MD5=[fbc87193dbaf4d95561dea2c320d4a47]\n",
       "cluster E1--><a href=\"psysml:7357ea5e-db14-480c-8643-46679caa3aca\" target=\"_top\" title=\"psysml:7357ea5e-db14-480c-8643-46679caa3aca\" xlink:actuate=\"onRequest\" xlink:href=\"psysml:7357ea5e-db14-480c-8643-46679caa3aca\" xlink:show=\"new\" xlink:title=\"psysml:7357ea5e-db14-480c-8643-46679caa3aca\" xlink:type=\"simple\"><polygon fill=\"#FFFFFF\" filter=\"url(#f1qb87uofswua4)\" points=\"16,6,236,6,243,28.2969,246,28.2969,246,346,16,346,16,6\" style=\"stroke: #000000; stroke-width: 1.5;\"/><line style=\"stroke: #000000; stroke-width: 1.5;\" x1=\"16\" x2=\"243\" y1=\"28.2969\" y2=\"28.2969\"/><text fill=\"#000000\" font-family=\"sans-serif\" font-size=\"14\" font-weight=\"bold\" lengthAdjust=\"spacingAndGlyphs\" textLength=\"214\" x=\"20\" y=\"20.9951\">TextualRepresentationTest</text></a><!--MD5=[b4997ac47864f28c2f74865a473b2911]\n",
       "class E2--><a href=\"psysml:d8d89087-5f7a-40fd-9871-b52a02710321\" target=\"_top\" title=\"psysml:d8d89087-5f7a-40fd-9871-b52a02710321\" xlink:actuate=\"onRequest\" xlink:href=\"psysml:d8d89087-5f7a-40fd-9871-b52a02710321\" xlink:show=\"new\" xlink:title=\"psysml:d8d89087-5f7a-40fd-9871-b52a02710321\" xlink:type=\"simple\"><rect fill=\"#FEFECE\" filter=\"url(#f1qb87uofswua4)\" height=\"58.7422\" id=\"E2\" style=\"stroke: #A80036; stroke-width: 1.5;\" width=\"67\" x=\"97.5\" y=\"164\"/><text fill=\"#000000\" font-family=\"sans-serif\" font-size=\"12\" font-style=\"italic\" lengthAdjust=\"spacingAndGlyphs\" textLength=\"65\" x=\"98.5\" y=\"180.1387\">«item def»</text><text fill=\"#000000\" font-family=\"sans-serif\" font-size=\"12\" lengthAdjust=\"spacingAndGlyphs\" textLength=\"8\" x=\"127\" y=\"194.1074\">C</text><line style=\"stroke: #A80036; stroke-width: 1.5;\" x1=\"98.5\" x2=\"163.5\" y1=\"201.9375\" y2=\"201.9375\"/><text fill=\"#000000\" font-family=\"sans-serif\" font-size=\"11\" lengthAdjust=\"spacingAndGlyphs\" textLength=\"38\" x=\"103.5\" y=\"216.1479\">x: Real</text></a><!--MD5=[09b614a08d8cba4a07c9adeb5e0fee81]\n",
       "class E3--><a href=\"psysml:24b29db4-a520-4ed1-8de3-5d8963222bac\" target=\"_top\" title=\"psysml:24b29db4-a520-4ed1-8de3-5d8963222bac\" xlink:actuate=\"onRequest\" xlink:href=\"psysml:24b29db4-a520-4ed1-8de3-5d8963222bac\" xlink:show=\"new\" xlink:title=\"psysml:24b29db4-a520-4ed1-8de3-5d8963222bac\" xlink:type=\"simple\"><rect fill=\"#FEFECE\" filter=\"url(#f1qb87uofswua4)\" height=\"45.9375\" id=\"E3\" rx=\"10\" ry=\"10\" style=\"stroke: #A80036; stroke-width: 1.5;\" width=\"121\" x=\"70.5\" y=\"284\"/><text fill=\"#000000\" font-family=\"sans-serif\" font-size=\"12\" font-style=\"italic\" lengthAdjust=\"spacingAndGlyphs\" textLength=\"119\" x=\"71.5\" y=\"300.1387\">«assertConstraint»</text><text fill=\"#000000\" font-family=\"sans-serif\" font-size=\"12\" lengthAdjust=\"spacingAndGlyphs\" textLength=\"76\" x=\"93\" y=\"314.1074\">x_constraint</text><line style=\"stroke: #A80036; stroke-width: 1.5;\" x1=\"71.5\" x2=\"190.5\" y1=\"321.9375\" y2=\"321.9375\"/></a><!--MD5=[ebbe1d658d1005bcc118a6aa81145e00]\n",
       "class E4--><a href=\"psysml:4d0e1ac7-0ffb-42d7-bf53-5a956dddc154\" target=\"_top\" title=\"psysml:4d0e1ac7-0ffb-42d7-bf53-5a956dddc154\" xlink:actuate=\"onRequest\" xlink:href=\"psysml:4d0e1ac7-0ffb-42d7-bf53-5a956dddc154\" xlink:show=\"new\" xlink:title=\"psysml:4d0e1ac7-0ffb-42d7-bf53-5a956dddc154\" xlink:type=\"simple\"><rect fill=\"#FEFECE\" filter=\"url(#f1qb87uofswua4)\" height=\"45.9375\" id=\"E4\" style=\"stroke: #A80036; stroke-width: 1.5;\" width=\"79\" x=\"91.5\" y=\"41\"/><text fill=\"#000000\" font-family=\"sans-serif\" font-size=\"12\" font-style=\"italic\" lengthAdjust=\"spacingAndGlyphs\" textLength=\"77\" x=\"92.5\" y=\"57.1387\">«action def»</text><text fill=\"#000000\" font-family=\"sans-serif\" font-size=\"12\" lengthAdjust=\"spacingAndGlyphs\" textLength=\"27\" x=\"117.5\" y=\"71.1074\">setX</text><line style=\"stroke: #A80036; stroke-width: 1.5;\" x1=\"92.5\" x2=\"169.5\" y1=\"78.9375\" y2=\"78.9375\"/></a><!--MD5=[209b3feb70ccb6233bfe1053d122c12c]\n",
       "reverse link E2 to E3--><a href=\"psysml:92660e64-3893-4545-a353-67dbd76c0ff0\" target=\"_top\" title=\"psysml:92660e64-3893-4545-a353-67dbd76c0ff0\" xlink:actuate=\"onRequest\" xlink:href=\"psysml:92660e64-3893-4545-a353-67dbd76c0ff0\" xlink:show=\"new\" xlink:title=\"psysml:92660e64-3893-4545-a353-67dbd76c0ff0\" xlink:type=\"simple\"><path d=\"M131,236.23 C131,252.35 131,270.14 131,283.72 \" fill=\"none\" id=\"E2&lt;-E3\" style=\"stroke: #A80036; stroke-width: 1.0;\"/><polygon fill=\"#A80036\" points=\"131,223.21,127,229.21,131,235.21,135,229.21,131,223.21\" style=\"stroke: #A80036; stroke-width: 1.0;\"/><text fill=\"#000000\" font-family=\"sans-serif\" font-size=\"13\" lengthAdjust=\"spacingAndGlyphs\" textLength=\"7\" x=\"123.1031\" y=\"272.9245\">*</text></a><!--MD5=[ddeed8deb2209213b62e6cfabaa108b2]\n",
       "reverse link E4 to E2--><a href=\"psysml:7b0b3a1a-f848-44f8-8668-45f7327338b0\" target=\"_top\" title=\"psysml:7b0b3a1a-f848-44f8-8668-45f7327338b0\" xlink:actuate=\"onRequest\" xlink:href=\"psysml:7b0b3a1a-f848-44f8-8668-45f7327338b0\" xlink:show=\"new\" xlink:title=\"psysml:7b0b3a1a-f848-44f8-8668-45f7327338b0\" xlink:type=\"simple\"><path d=\"M131,100.48 C131,120.46 131,145.09 131,163.84 \" fill=\"none\" id=\"E4&lt;-E2\" style=\"stroke: #A80036; stroke-width: 1.0;\"/><polygon fill=\"#FFFFFF\" points=\"131,87.21,127,93.21,131,99.21,135,93.21,131,87.21\" style=\"stroke: #A80036; stroke-width: 1.0;\"/><text fill=\"#000000\" font-family=\"sans-serif\" font-size=\"13\" lengthAdjust=\"spacingAndGlyphs\" textLength=\"7\" x=\"132\" y=\"130.0669\">c</text></a><!--MD5=[7a2e310359e9a9d97108acccf83c6670]\n",
       "@startuml\r\n",
       "skinparam wrapWidth 300\r\n",
       "hide circle\r\n",
       "\r\n",
       "package \"TextualRepresentationTest\" as E1  [[psysml:7357ea5e-db14-480c-8643-46679caa3aca ]]  {\r\n",
       "comp def \"C\" as E2  <<(T,blue) item def>> [[psysml:d8d89087-5f7a-40fd-9871-b52a02710321 ]] {\r\n",
       "x: Real\r\n",
       "}\r\n",
       "comp usage \"x_constraint\" as E3  <<(T,blue) assertConstraint>> [[psysml:24b29db4-a520-4ed1-8de3-5d8963222bac ]] {\r\n",
       "}\r\n",
       "comp def \"setX\" as E4  <<(T,blue) action def>> [[psysml:4d0e1ac7-0ffb-42d7-bf53-5a956dddc154 ]] {\r\n",
       "}\r\n",
       "E2 *- - \"*\"E3 [[psysml:92660e64-3893-4545-a353-67dbd76c0ff0 ]] \r\n",
       "E4 o- - E2 [[psysml:7b0b3a1a-f848-44f8-8668-45f7327338b0 ]] : c\r\n",
       "}\r\n",
       "@enduml\r\n",
       "\n",
       "PlantUML version 1.2020.13(Sat Jun 13 12:26:38 UTC 2020)\n",
       "(EPL source distribution)\n",
       "Java Runtime: OpenJDK Runtime Environment\n",
       "JVM: OpenJDK 64-Bit Server VM\n",
       "Default Encoding: UTF-8\n",
       "Language: en\n",
       "Country: null\n",
       "--></g></svg>"
      ]
     },
     "execution_count": 24,
     "metadata": {},
     "output_type": "execute_result"
    }
   ],
   "source": [
    "%viz --style=\"STDCOLOR\" --view=\"Tree\" \"TextualRepresentationTest\""
   ]
  },
  {
   "cell_type": "code",
   "execution_count": 25,
   "id": "05f6ab87",
   "metadata": {
    "execution": {
     "iopub.execute_input": "2021-08-04T06:26:40.149026Z",
     "iopub.status.busy": "2021-08-04T06:26:40.148567Z",
     "iopub.status.idle": "2021-08-04T06:26:40.152628Z",
     "shell.execute_reply": "2021-08-04T06:26:40.152957Z"
    }
   },
   "outputs": [
    {
     "data": {
      "image/svg+xml": [
       "<?xml version=\"1.0\" encoding=\"UTF-8\" standalone=\"no\"?><svg xmlns=\"http://www.w3.org/2000/svg\" xmlns:xlink=\"http://www.w3.org/1999/xlink\" contentScriptType=\"application/ecmascript\" contentStyleType=\"text/css\" height=\"12px\" preserveAspectRatio=\"none\" style=\"width:12px;height:12px;\" version=\"1.1\" viewBox=\"0 0 12 12\" width=\"12px\" zoomAndPan=\"magnify\"><defs/><g><!--MD5=[aeeef50f102b80d730deb6443d14f702]\n",
       "@startuml\r\n",
       "skinparam wrapWidth 300\r\n",
       "hide circle\r\n",
       "\r\n",
       "@enduml\r\n",
       "\n",
       "PlantUML version 1.2020.13(Sat Jun 13 12:26:38 UTC 2020)\n",
       "(EPL source distribution)\n",
       "Java Runtime: OpenJDK Runtime Environment\n",
       "JVM: OpenJDK 64-Bit Server VM\n",
       "Default Encoding: UTF-8\n",
       "Language: en\n",
       "Country: null\n",
       "--></g></svg>"
      ]
     },
     "execution_count": 25,
     "metadata": {},
     "output_type": "execute_result"
    }
   ],
   "source": [
    "%viz --style=\"STDCOLOR\" --view=\"State\" \"TextualRepresentationTest\""
   ]
  },
  {
   "cell_type": "code",
   "execution_count": 26,
   "id": "1e59cdb2",
   "metadata": {
    "execution": {
     "iopub.execute_input": "2021-08-04T06:26:40.203028Z",
     "iopub.status.busy": "2021-08-04T06:26:40.202623Z",
     "iopub.status.idle": "2021-08-04T06:26:40.227458Z",
     "shell.execute_reply": "2021-08-04T06:26:40.227771Z"
    }
   },
   "outputs": [
    {
     "data": {
      "image/svg+xml": [
       "<?xml version=\"1.0\" encoding=\"UTF-8\" standalone=\"no\"?><svg xmlns=\"http://www.w3.org/2000/svg\" xmlns:xlink=\"http://www.w3.org/1999/xlink\" contentScriptType=\"application/ecmascript\" contentStyleType=\"text/css\" height=\"179px\" preserveAspectRatio=\"none\" style=\"width:284px;height:179px;\" version=\"1.1\" viewBox=\"0 0 284 179\" width=\"284px\" zoomAndPan=\"magnify\"><defs><filter height=\"300%\" id=\"fzlogs085faig\" width=\"300%\" x=\"-1\" y=\"-1\"><feGaussianBlur result=\"blurOut\" stdDeviation=\"2.0\"/><feColorMatrix in=\"blurOut\" result=\"blurOut2\" type=\"matrix\" values=\"0 0 0 0 0 0 0 0 0 0 0 0 0 0 0 0 0 0 .4 0\"/><feOffset dx=\"4.0\" dy=\"4.0\" in=\"blurOut2\" result=\"blurOut3\"/><feBlend in=\"SourceGraphic\" in2=\"blurOut3\" mode=\"normal\"/></filter></defs><g><!--MD5=[fbc87193dbaf4d95561dea2c320d4a47]\n",
       "cluster E1--><a href=\"psysml:7357ea5e-db14-480c-8643-46679caa3aca\" target=\"_top\" title=\"psysml:7357ea5e-db14-480c-8643-46679caa3aca\" xlink:actuate=\"onRequest\" xlink:href=\"psysml:7357ea5e-db14-480c-8643-46679caa3aca\" xlink:show=\"new\" xlink:title=\"psysml:7357ea5e-db14-480c-8643-46679caa3aca\" xlink:type=\"simple\"><polygon fill=\"#FFFFFF\" filter=\"url(#fzlogs085faig)\" points=\"16,6,236,6,243,28.2969,262,28.2969,262,167,16,167,16,6\" style=\"stroke: #000000; stroke-width: 1.5;\"/><line style=\"stroke: #000000; stroke-width: 1.5;\" x1=\"16\" x2=\"243\" y1=\"28.2969\" y2=\"28.2969\"/><text fill=\"#000000\" font-family=\"sans-serif\" font-size=\"14\" font-weight=\"bold\" lengthAdjust=\"spacingAndGlyphs\" textLength=\"214\" x=\"20\" y=\"20.9951\">TextualRepresentationTest</text></a><!--MD5=[d5e69f78d87373223dbae638b30a9c99]\n",
       "cluster E3--><a href=\"psysml:4d0e1ac7-0ffb-42d7-bf53-5a956dddc154\" target=\"_top\" title=\"psysml:4d0e1ac7-0ffb-42d7-bf53-5a956dddc154\" xlink:actuate=\"onRequest\" xlink:href=\"psysml:4d0e1ac7-0ffb-42d7-bf53-5a956dddc154\" xlink:show=\"new\" xlink:title=\"psysml:4d0e1ac7-0ffb-42d7-bf53-5a956dddc154\" xlink:type=\"simple\"><rect fill=\"#FFFFFF\" filter=\"url(#fzlogs085faig)\" height=\"88.5\" id=\"E3\" style=\"stroke: #A80036; stroke-width: 1.5;\" width=\"96\" x=\"120.5\" y=\"62.5\"/><rect fill=\"#FEFECE\" height=\"37.9375\" style=\"stroke: #A80036; stroke-width: 1.5;\" width=\"96\" x=\"120.5\" y=\"62.5\"/><text fill=\"#000000\" font-family=\"sans-serif\" font-size=\"12\" font-style=\"italic\" lengthAdjust=\"spacingAndGlyphs\" textLength=\"77\" x=\"130\" y=\"78.6387\">«action def»</text><text fill=\"#000000\" font-family=\"sans-serif\" font-size=\"12\" lengthAdjust=\"spacingAndGlyphs\" textLength=\"27\" x=\"155\" y=\"92.6074\">setX</text></a><g id=\"E1.E2\"><a href=\"psysml:d8d89087-5f7a-40fd-9871-b52a02710321\" target=\"_top\" title=\"psysml:d8d89087-5f7a-40fd-9871-b52a02710321\" xlink:actuate=\"onRequest\" xlink:href=\"psysml:d8d89087-5f7a-40fd-9871-b52a02710321\" xlink:show=\"new\" xlink:title=\"psysml:d8d89087-5f7a-40fd-9871-b52a02710321\" xlink:type=\"simple\"><rect fill=\"#FEFECE\" filter=\"url(#fzlogs085faig)\" height=\"42.9375\" id=\"E2\" style=\"stroke: #A80036; stroke-width: 1.5;\" width=\"72\" x=\"32\" y=\"41\"/><text fill=\"#000000\" font-family=\"sans-serif\" font-size=\"12\" font-style=\"italic\" lengthAdjust=\"spacingAndGlyphs\" textLength=\"65\" x=\"35.5\" y=\"57.1387\">«item def»</text><text fill=\"#000000\" font-family=\"sans-serif\" font-size=\"12\" lengthAdjust=\"spacingAndGlyphs\" textLength=\"8\" x=\"64\" y=\"71.1074\">C</text></a></g><text fill=\"#000000\" font-family=\"sans-serif\" font-size=\"14\" lengthAdjust=\"spacingAndGlyphs\" textLength=\"8\" x=\"141\" y=\"41.1982\">c</text><rect fill=\"#A80036\" height=\"12\" style=\"stroke: #FEFECE; stroke-width: 1.5;\" width=\"12\" x=\"139\" y=\"56.5\"/><text fill=\"#000000\" font-family=\"sans-serif\" font-size=\"14\" lengthAdjust=\"spacingAndGlyphs\" textLength=\"38\" x=\"173\" y=\"41.1982\">newX</text><rect fill=\"#A80036\" height=\"12\" style=\"stroke: #FEFECE; stroke-width: 1.5;\" width=\"12\" x=\"186\" y=\"56.5\"/><!--MD5=[50cb617c98511aa311af733d46da801b]\n",
       "@startuml\r\n",
       "skinparam ranksep 10\r\n",
       "skinparam rectangle {\r\n",
       " backgroundColor<<block>> LightGreen\r\n",
       "}\r\n",
       "skinparam wrapWidth 300\r\n",
       "hide circle\r\n",
       "\r\n",
       "package \"TextualRepresentationTest\" as E1  [[psysml:7357ea5e-db14-480c-8643-46679caa3aca ]]  {\r\n",
       "def \"C\" as E2  <<(T,blue) item def>> [[psysml:d8d89087-5f7a-40fd-9871-b52a02710321 ]] \r\n",
       "rec def \"setX\" as E3  <<(T,blue) action def>> [[psysml:4d0e1ac7-0ffb-42d7-bf53-5a956dddc154 ]] {\r\n",
       "portin \"c\" as E4  [[psysml:7b0b3a1a-f848-44f8-8668-45f7327338b0 ]] \r\n",
       "portin \"newX\" as E5  [[psysml:5310235f-3728-4e86-87c8-1dd93d46f083 ]] \r\n",
       "}\r\n",
       "\r\n",
       "}\r\n",
       "@enduml\r\n",
       "\n",
       "PlantUML version 1.2020.13(Sat Jun 13 12:26:38 UTC 2020)\n",
       "(EPL source distribution)\n",
       "Java Runtime: OpenJDK Runtime Environment\n",
       "JVM: OpenJDK 64-Bit Server VM\n",
       "Default Encoding: UTF-8\n",
       "Language: en\n",
       "Country: null\n",
       "--></g></svg>"
      ]
     },
     "execution_count": 26,
     "metadata": {},
     "output_type": "execute_result"
    }
   ],
   "source": [
    "%viz --style=\"STDCOLOR\" --view=\"Interconnection\" \"TextualRepresentationTest\""
   ]
  },
  {
   "cell_type": "code",
   "execution_count": 27,
   "id": "8e3cca06",
   "metadata": {
    "execution": {
     "iopub.execute_input": "2021-08-04T06:26:40.278005Z",
     "iopub.status.busy": "2021-08-04T06:26:40.277599Z",
     "iopub.status.idle": "2021-08-04T06:26:40.297902Z",
     "shell.execute_reply": "2021-08-04T06:26:40.298217Z"
    }
   },
   "outputs": [
    {
     "data": {
      "image/svg+xml": [
       "<?xml version=\"1.0\" encoding=\"UTF-8\" standalone=\"no\"?><svg xmlns=\"http://www.w3.org/2000/svg\" xmlns:xlink=\"http://www.w3.org/1999/xlink\" contentScriptType=\"application/ecmascript\" contentStyleType=\"text/css\" height=\"134px\" preserveAspectRatio=\"none\" style=\"width:158px;height:134px;\" version=\"1.1\" viewBox=\"0 0 158 134\" width=\"158px\" zoomAndPan=\"magnify\"><defs><filter height=\"300%\" id=\"f8ku081snwwn3\" width=\"300%\" x=\"-1\" y=\"-1\"><feGaussianBlur result=\"blurOut\" stdDeviation=\"2.0\"/><feColorMatrix in=\"blurOut\" result=\"blurOut2\" type=\"matrix\" values=\"0 0 0 0 0 0 0 0 0 0 0 0 0 0 0 0 0 0 .4 0\"/><feOffset dx=\"4.0\" dy=\"4.0\" in=\"blurOut2\" result=\"blurOut3\"/><feBlend in=\"SourceGraphic\" in2=\"blurOut3\" mode=\"normal\"/></filter></defs><g><!--MD5=[fbc87193dbaf4d95561dea2c320d4a47]\n",
       "cluster E1--><a href=\"psysml:4d0e1ac7-0ffb-42d7-bf53-5a956dddc154\" target=\"_top\" title=\"psysml:4d0e1ac7-0ffb-42d7-bf53-5a956dddc154\" xlink:actuate=\"onRequest\" xlink:href=\"psysml:4d0e1ac7-0ffb-42d7-bf53-5a956dddc154\" xlink:show=\"new\" xlink:title=\"psysml:4d0e1ac7-0ffb-42d7-bf53-5a956dddc154\" xlink:type=\"simple\"><rect fill=\"#FFFFFF\" filter=\"url(#f8ku081snwwn3)\" height=\"73\" id=\"E1\" style=\"stroke: #A80036; stroke-width: 1.5;\" width=\"132\" x=\"7\" y=\"42.0986\"/><rect fill=\"#FEFECE\" height=\"37.9375\" style=\"stroke: #A80036; stroke-width: 1.5;\" width=\"132\" x=\"7\" y=\"42.0986\"/><text fill=\"#000000\" font-family=\"sans-serif\" font-size=\"12\" font-style=\"italic\" lengthAdjust=\"spacingAndGlyphs\" textLength=\"77\" x=\"34.5\" y=\"58.2373\">«action def»</text><text fill=\"#000000\" font-family=\"sans-serif\" font-size=\"12\" lengthAdjust=\"spacingAndGlyphs\" textLength=\"27\" x=\"59.5\" y=\"72.2061\">setX</text></a><text fill=\"#000000\" font-family=\"sans-serif\" font-size=\"14\" lengthAdjust=\"spacingAndGlyphs\" textLength=\"8\" x=\"21\" y=\"20.7969\">c</text><rect fill=\"#A80036\" height=\"12\" style=\"stroke: #FEFECE; stroke-width: 1.5;\" width=\"12\" x=\"19\" y=\"36.0986\"/><text fill=\"#000000\" font-family=\"sans-serif\" font-size=\"14\" lengthAdjust=\"spacingAndGlyphs\" textLength=\"38\" x=\"53\" y=\"20.7969\">newX</text><rect fill=\"#A80036\" height=\"12\" style=\"stroke: #FEFECE; stroke-width: 1.5;\" width=\"12\" x=\"66\" y=\"36.0986\"/><!--MD5=[d6460b4c00ecb2b180f5ef870a12e861]\n",
       "@startuml\r\n",
       "skinparam ranksep 8\r\n",
       "skinparam wrapWidth 300\r\n",
       "hide circle\r\n",
       "\r\n",
       "rec def \"setX\" as E1  <<(T,blue) action def>> [[psysml:4d0e1ac7-0ffb-42d7-bf53-5a956dddc154 ]] {\r\n",
       "portin \"c\" as E2  [[psysml:7b0b3a1a-f848-44f8-8668-45f7327338b0 ]] \r\n",
       "portin \"newX\" as E3  [[psysml:5310235f-3728-4e86-87c8-1dd93d46f083 ]] \r\n",
       "}\r\n",
       "\r\n",
       "@enduml\r\n",
       "\n",
       "PlantUML version 1.2020.13(Sat Jun 13 12:26:38 UTC 2020)\n",
       "(EPL source distribution)\n",
       "Java Runtime: OpenJDK Runtime Environment\n",
       "JVM: OpenJDK 64-Bit Server VM\n",
       "Default Encoding: UTF-8\n",
       "Language: en\n",
       "Country: null\n",
       "--></g></svg>"
      ]
     },
     "execution_count": 27,
     "metadata": {},
     "output_type": "execute_result"
    }
   ],
   "source": [
    "%viz --style=\"STDCOLOR\" --view=\"Action\" \"TextualRepresentationTest\""
   ]
  },
  {
   "cell_type": "code",
   "execution_count": 28,
   "id": "ece684f9",
   "metadata": {
    "execution": {
     "iopub.execute_input": "2021-08-04T06:26:40.348370Z",
     "iopub.status.busy": "2021-08-04T06:26:40.347967Z",
     "iopub.status.idle": "2021-08-04T06:26:40.378251Z",
     "shell.execute_reply": "2021-08-04T06:26:40.378082Z"
    }
   },
   "outputs": [
    {
     "data": {
      "image/svg+xml": [
       "<?xml version=\"1.0\" encoding=\"UTF-8\" standalone=\"no\"?><svg xmlns=\"http://www.w3.org/2000/svg\" xmlns:xlink=\"http://www.w3.org/1999/xlink\" contentScriptType=\"application/ecmascript\" contentStyleType=\"text/css\" height=\"358px\" preserveAspectRatio=\"none\" style=\"width:268px;height:358px;\" version=\"1.1\" viewBox=\"0 0 268 358\" width=\"268px\" zoomAndPan=\"magnify\"><defs><filter height=\"300%\" id=\"f1qb87uofswua4\" width=\"300%\" x=\"-1\" y=\"-1\"><feGaussianBlur result=\"blurOut\" stdDeviation=\"2.0\"/><feColorMatrix in=\"blurOut\" result=\"blurOut2\" type=\"matrix\" values=\"0 0 0 0 0 0 0 0 0 0 0 0 0 0 0 0 0 0 .4 0\"/><feOffset dx=\"4.0\" dy=\"4.0\" in=\"blurOut2\" result=\"blurOut3\"/><feBlend in=\"SourceGraphic\" in2=\"blurOut3\" mode=\"normal\"/></filter></defs><g><!--MD5=[fbc87193dbaf4d95561dea2c320d4a47]\n",
       "cluster E1--><a href=\"psysml:7357ea5e-db14-480c-8643-46679caa3aca\" target=\"_top\" title=\"psysml:7357ea5e-db14-480c-8643-46679caa3aca\" xlink:actuate=\"onRequest\" xlink:href=\"psysml:7357ea5e-db14-480c-8643-46679caa3aca\" xlink:show=\"new\" xlink:title=\"psysml:7357ea5e-db14-480c-8643-46679caa3aca\" xlink:type=\"simple\"><polygon fill=\"#FFFFFF\" filter=\"url(#f1qb87uofswua4)\" points=\"16,6,236,6,243,28.2969,246,28.2969,246,346,16,346,16,6\" style=\"stroke: #000000; stroke-width: 1.5;\"/><line style=\"stroke: #000000; stroke-width: 1.5;\" x1=\"16\" x2=\"243\" y1=\"28.2969\" y2=\"28.2969\"/><text fill=\"#000000\" font-family=\"sans-serif\" font-size=\"14\" font-weight=\"bold\" lengthAdjust=\"spacingAndGlyphs\" textLength=\"214\" x=\"20\" y=\"20.9951\">TextualRepresentationTest</text></a><!--MD5=[b4997ac47864f28c2f74865a473b2911]\n",
       "class E2--><a href=\"psysml:d8d89087-5f7a-40fd-9871-b52a02710321\" target=\"_top\" title=\"psysml:d8d89087-5f7a-40fd-9871-b52a02710321\" xlink:actuate=\"onRequest\" xlink:href=\"psysml:d8d89087-5f7a-40fd-9871-b52a02710321\" xlink:show=\"new\" xlink:title=\"psysml:d8d89087-5f7a-40fd-9871-b52a02710321\" xlink:type=\"simple\"><rect fill=\"#FEFECE\" filter=\"url(#f1qb87uofswua4)\" height=\"58.7422\" id=\"E2\" style=\"stroke: #A80036; stroke-width: 1.5;\" width=\"67\" x=\"97.5\" y=\"164\"/><text fill=\"#000000\" font-family=\"sans-serif\" font-size=\"12\" font-style=\"italic\" lengthAdjust=\"spacingAndGlyphs\" textLength=\"65\" x=\"98.5\" y=\"180.1387\">«item def»</text><text fill=\"#000000\" font-family=\"sans-serif\" font-size=\"12\" lengthAdjust=\"spacingAndGlyphs\" textLength=\"8\" x=\"127\" y=\"194.1074\">C</text><line style=\"stroke: #A80036; stroke-width: 1.5;\" x1=\"98.5\" x2=\"163.5\" y1=\"201.9375\" y2=\"201.9375\"/><text fill=\"#000000\" font-family=\"sans-serif\" font-size=\"11\" lengthAdjust=\"spacingAndGlyphs\" textLength=\"38\" x=\"103.5\" y=\"216.1479\">x: Real</text></a><!--MD5=[09b614a08d8cba4a07c9adeb5e0fee81]\n",
       "class E3--><a href=\"psysml:24b29db4-a520-4ed1-8de3-5d8963222bac\" target=\"_top\" title=\"psysml:24b29db4-a520-4ed1-8de3-5d8963222bac\" xlink:actuate=\"onRequest\" xlink:href=\"psysml:24b29db4-a520-4ed1-8de3-5d8963222bac\" xlink:show=\"new\" xlink:title=\"psysml:24b29db4-a520-4ed1-8de3-5d8963222bac\" xlink:type=\"simple\"><rect fill=\"#FEFECE\" filter=\"url(#f1qb87uofswua4)\" height=\"45.9375\" id=\"E3\" rx=\"10\" ry=\"10\" style=\"stroke: #A80036; stroke-width: 1.5;\" width=\"121\" x=\"70.5\" y=\"284\"/><text fill=\"#000000\" font-family=\"sans-serif\" font-size=\"12\" font-style=\"italic\" lengthAdjust=\"spacingAndGlyphs\" textLength=\"119\" x=\"71.5\" y=\"300.1387\">«assertConstraint»</text><text fill=\"#000000\" font-family=\"sans-serif\" font-size=\"12\" lengthAdjust=\"spacingAndGlyphs\" textLength=\"76\" x=\"93\" y=\"314.1074\">x_constraint</text><line style=\"stroke: #A80036; stroke-width: 1.5;\" x1=\"71.5\" x2=\"190.5\" y1=\"321.9375\" y2=\"321.9375\"/></a><!--MD5=[ebbe1d658d1005bcc118a6aa81145e00]\n",
       "class E4--><a href=\"psysml:4d0e1ac7-0ffb-42d7-bf53-5a956dddc154\" target=\"_top\" title=\"psysml:4d0e1ac7-0ffb-42d7-bf53-5a956dddc154\" xlink:actuate=\"onRequest\" xlink:href=\"psysml:4d0e1ac7-0ffb-42d7-bf53-5a956dddc154\" xlink:show=\"new\" xlink:title=\"psysml:4d0e1ac7-0ffb-42d7-bf53-5a956dddc154\" xlink:type=\"simple\"><rect fill=\"#FEFECE\" filter=\"url(#f1qb87uofswua4)\" height=\"45.9375\" id=\"E4\" style=\"stroke: #A80036; stroke-width: 1.5;\" width=\"79\" x=\"91.5\" y=\"41\"/><text fill=\"#000000\" font-family=\"sans-serif\" font-size=\"12\" font-style=\"italic\" lengthAdjust=\"spacingAndGlyphs\" textLength=\"77\" x=\"92.5\" y=\"57.1387\">«action def»</text><text fill=\"#000000\" font-family=\"sans-serif\" font-size=\"12\" lengthAdjust=\"spacingAndGlyphs\" textLength=\"27\" x=\"117.5\" y=\"71.1074\">setX</text><line style=\"stroke: #A80036; stroke-width: 1.5;\" x1=\"92.5\" x2=\"169.5\" y1=\"78.9375\" y2=\"78.9375\"/></a><!--MD5=[209b3feb70ccb6233bfe1053d122c12c]\n",
       "reverse link E2 to E3--><a href=\"psysml:92660e64-3893-4545-a353-67dbd76c0ff0\" target=\"_top\" title=\"psysml:92660e64-3893-4545-a353-67dbd76c0ff0\" xlink:actuate=\"onRequest\" xlink:href=\"psysml:92660e64-3893-4545-a353-67dbd76c0ff0\" xlink:show=\"new\" xlink:title=\"psysml:92660e64-3893-4545-a353-67dbd76c0ff0\" xlink:type=\"simple\"><path d=\"M131,236.23 C131,252.35 131,270.14 131,283.72 \" fill=\"none\" id=\"E2&lt;-E3\" style=\"stroke: #A80036; stroke-width: 1.0;\"/><polygon fill=\"#A80036\" points=\"131,223.21,127,229.21,131,235.21,135,229.21,131,223.21\" style=\"stroke: #A80036; stroke-width: 1.0;\"/><text fill=\"#000000\" font-family=\"sans-serif\" font-size=\"13\" lengthAdjust=\"spacingAndGlyphs\" textLength=\"7\" x=\"123.1031\" y=\"272.9245\">*</text></a><!--MD5=[ddeed8deb2209213b62e6cfabaa108b2]\n",
       "reverse link E4 to E2--><a href=\"psysml:7b0b3a1a-f848-44f8-8668-45f7327338b0\" target=\"_top\" title=\"psysml:7b0b3a1a-f848-44f8-8668-45f7327338b0\" xlink:actuate=\"onRequest\" xlink:href=\"psysml:7b0b3a1a-f848-44f8-8668-45f7327338b0\" xlink:show=\"new\" xlink:title=\"psysml:7b0b3a1a-f848-44f8-8668-45f7327338b0\" xlink:type=\"simple\"><path d=\"M131,100.48 C131,120.46 131,145.09 131,163.84 \" fill=\"none\" id=\"E4&lt;-E2\" style=\"stroke: #A80036; stroke-width: 1.0;\"/><polygon fill=\"#FFFFFF\" points=\"131,87.21,127,93.21,131,99.21,135,93.21,131,87.21\" style=\"stroke: #A80036; stroke-width: 1.0;\"/><text fill=\"#000000\" font-family=\"sans-serif\" font-size=\"13\" lengthAdjust=\"spacingAndGlyphs\" textLength=\"7\" x=\"132\" y=\"130.0669\">c</text></a><!--MD5=[7a2e310359e9a9d97108acccf83c6670]\n",
       "@startuml\r\n",
       "skinparam wrapWidth 300\r\n",
       "hide circle\r\n",
       "\r\n",
       "package \"TextualRepresentationTest\" as E1  [[psysml:7357ea5e-db14-480c-8643-46679caa3aca ]]  {\r\n",
       "comp def \"C\" as E2  <<(T,blue) item def>> [[psysml:d8d89087-5f7a-40fd-9871-b52a02710321 ]] {\r\n",
       "x: Real\r\n",
       "}\r\n",
       "comp usage \"x_constraint\" as E3  <<(T,blue) assertConstraint>> [[psysml:24b29db4-a520-4ed1-8de3-5d8963222bac ]] {\r\n",
       "}\r\n",
       "comp def \"setX\" as E4  <<(T,blue) action def>> [[psysml:4d0e1ac7-0ffb-42d7-bf53-5a956dddc154 ]] {\r\n",
       "}\r\n",
       "E2 *- - \"*\"E3 [[psysml:92660e64-3893-4545-a353-67dbd76c0ff0 ]] \r\n",
       "E4 o- - E2 [[psysml:7b0b3a1a-f848-44f8-8668-45f7327338b0 ]] : c\r\n",
       "}\r\n",
       "@enduml\r\n",
       "\n",
       "PlantUML version 1.2020.13(Sat Jun 13 12:26:38 UTC 2020)\n",
       "(EPL source distribution)\n",
       "Java Runtime: OpenJDK Runtime Environment\n",
       "JVM: OpenJDK 64-Bit Server VM\n",
       "Default Encoding: UTF-8\n",
       "Language: en\n",
       "Country: null\n",
       "--></g></svg>"
      ]
     },
     "execution_count": 28,
     "metadata": {},
     "output_type": "execute_result"
    }
   ],
   "source": [
    "%viz --style=\"STDCOLOR\" --view=\"Sequence\" \"TextualRepresentationTest\""
   ]
  },
  {
   "cell_type": "code",
   "execution_count": 29,
   "id": "bc42f368",
   "metadata": {
    "execution": {
     "iopub.execute_input": "2021-08-04T06:26:40.428570Z",
     "iopub.status.busy": "2021-08-04T06:26:40.428325Z",
     "iopub.status.idle": "2021-08-04T06:26:40.449591Z",
     "shell.execute_reply": "2021-08-04T06:26:40.449391Z"
    }
   },
   "outputs": [
    {
     "data": {
      "image/svg+xml": [
       "<?xml version=\"1.0\" encoding=\"UTF-8\" standalone=\"no\"?><svg xmlns=\"http://www.w3.org/2000/svg\" xmlns:xlink=\"http://www.w3.org/1999/xlink\" contentScriptType=\"application/ecmascript\" contentStyleType=\"text/css\" height=\"244px\" preserveAspectRatio=\"none\" style=\"width:345px;height:244px;\" version=\"1.1\" viewBox=\"0 0 345 244\" width=\"345px\" zoomAndPan=\"magnify\"><defs><filter height=\"300%\" id=\"f9x1ant1tuyt\" width=\"300%\" x=\"-1\" y=\"-1\"><feGaussianBlur result=\"blurOut\" stdDeviation=\"2.0\"/><feColorMatrix in=\"blurOut\" result=\"blurOut2\" type=\"matrix\" values=\"0 0 0 0 0 0 0 0 0 0 0 0 0 0 0 0 0 0 .4 0\"/><feOffset dx=\"4.0\" dy=\"4.0\" in=\"blurOut2\" result=\"blurOut3\"/><feBlend in=\"SourceGraphic\" in2=\"blurOut3\" mode=\"normal\"/></filter></defs><g><!--MD5=[fbc87193dbaf4d95561dea2c320d4a47]\n",
       "cluster E1--><a href=\"psysml:7357ea5e-db14-480c-8643-46679caa3aca\" target=\"_top\" title=\"psysml:7357ea5e-db14-480c-8643-46679caa3aca\" xlink:actuate=\"onRequest\" xlink:href=\"psysml:7357ea5e-db14-480c-8643-46679caa3aca\" xlink:show=\"new\" xlink:title=\"psysml:7357ea5e-db14-480c-8643-46679caa3aca\" xlink:type=\"simple\"><polygon fill=\"#FFFFFF\" filter=\"url(#f9x1ant1tuyt)\" points=\"16,6,236,6,243,28.2969,323,28.2969,323,232.5,16,232.5,16,6\" style=\"stroke: #000000; stroke-width: 1.5;\"/><line style=\"stroke: #000000; stroke-width: 1.5;\" x1=\"16\" x2=\"243\" y1=\"28.2969\" y2=\"28.2969\"/><text fill=\"#000000\" font-family=\"sans-serif\" font-size=\"14\" font-weight=\"bold\" lengthAdjust=\"spacingAndGlyphs\" textLength=\"214\" x=\"20\" y=\"20.9951\">TextualRepresentationTest</text></a><!--MD5=[f6df4d0ebaf0b5dfb2ced0ae5af7c670]\n",
       "cluster E4--><a href=\"psysml:4d0e1ac7-0ffb-42d7-bf53-5a956dddc154\" target=\"_top\" title=\"psysml:4d0e1ac7-0ffb-42d7-bf53-5a956dddc154\" xlink:actuate=\"onRequest\" xlink:href=\"psysml:4d0e1ac7-0ffb-42d7-bf53-5a956dddc154\" xlink:show=\"new\" xlink:title=\"psysml:4d0e1ac7-0ffb-42d7-bf53-5a956dddc154\" xlink:type=\"simple\"><rect fill=\"#FFFFFF\" filter=\"url(#f9x1ant1tuyt)\" height=\"146\" id=\"E4\" style=\"stroke: #A80036; stroke-width: 1.5;\" width=\"132\" x=\"175\" y=\"70.5\"/><rect fill=\"#FEFECE\" height=\"37.9375\" style=\"stroke: #A80036; stroke-width: 1.5;\" width=\"132\" x=\"175\" y=\"70.5\"/><text fill=\"#000000\" font-family=\"sans-serif\" font-size=\"12\" font-style=\"italic\" lengthAdjust=\"spacingAndGlyphs\" textLength=\"77\" x=\"202.5\" y=\"86.6387\">«action def»</text><text fill=\"#000000\" font-family=\"sans-serif\" font-size=\"12\" lengthAdjust=\"spacingAndGlyphs\" textLength=\"27\" x=\"227.5\" y=\"100.6074\">setX</text></a><!--MD5=[b4997ac47864f28c2f74865a473b2911]\n",
       "class E2--><a href=\"psysml:d8d89087-5f7a-40fd-9871-b52a02710321\" target=\"_top\" title=\"psysml:d8d89087-5f7a-40fd-9871-b52a02710321\" xlink:actuate=\"onRequest\" xlink:href=\"psysml:d8d89087-5f7a-40fd-9871-b52a02710321\" xlink:show=\"new\" xlink:title=\"psysml:d8d89087-5f7a-40fd-9871-b52a02710321\" xlink:type=\"simple\"><rect fill=\"#FEFECE\" filter=\"url(#f9x1ant1tuyt)\" height=\"58.7422\" id=\"E2\" style=\"stroke: #A80036; stroke-width: 1.5;\" width=\"67\" x=\"59.5\" y=\"41\"/><text fill=\"#000000\" font-family=\"sans-serif\" font-size=\"12\" font-style=\"italic\" lengthAdjust=\"spacingAndGlyphs\" textLength=\"65\" x=\"60.5\" y=\"57.1387\">«item def»</text><text fill=\"#000000\" font-family=\"sans-serif\" font-size=\"12\" lengthAdjust=\"spacingAndGlyphs\" textLength=\"8\" x=\"89\" y=\"71.1074\">C</text><line style=\"stroke: #A80036; stroke-width: 1.5;\" x1=\"60.5\" x2=\"125.5\" y1=\"78.9375\" y2=\"78.9375\"/><text fill=\"#000000\" font-family=\"sans-serif\" font-size=\"11\" lengthAdjust=\"spacingAndGlyphs\" textLength=\"38\" x=\"65.5\" y=\"93.1479\">x: Real</text></a><!--MD5=[09b614a08d8cba4a07c9adeb5e0fee81]\n",
       "class E3--><a href=\"psysml:24b29db4-a520-4ed1-8de3-5d8963222bac\" target=\"_top\" title=\"psysml:24b29db4-a520-4ed1-8de3-5d8963222bac\" xlink:actuate=\"onRequest\" xlink:href=\"psysml:24b29db4-a520-4ed1-8de3-5d8963222bac\" xlink:show=\"new\" xlink:title=\"psysml:24b29db4-a520-4ed1-8de3-5d8963222bac\" xlink:type=\"simple\"><rect fill=\"#FEFECE\" filter=\"url(#f9x1ant1tuyt)\" height=\"45.9375\" id=\"E3\" rx=\"10\" ry=\"10\" style=\"stroke: #A80036; stroke-width: 1.5;\" width=\"121\" x=\"32.5\" y=\"160\"/><text fill=\"#000000\" font-family=\"sans-serif\" font-size=\"12\" font-style=\"italic\" lengthAdjust=\"spacingAndGlyphs\" textLength=\"119\" x=\"33.5\" y=\"176.1387\">«assertConstraint»</text><text fill=\"#000000\" font-family=\"sans-serif\" font-size=\"12\" lengthAdjust=\"spacingAndGlyphs\" textLength=\"76\" x=\"55\" y=\"190.1074\">x_constraint</text><line style=\"stroke: #A80036; stroke-width: 1.5;\" x1=\"33.5\" x2=\"152.5\" y1=\"197.9375\" y2=\"197.9375\"/></a><text fill=\"#000000\" font-family=\"sans-serif\" font-size=\"14\" lengthAdjust=\"spacingAndGlyphs\" textLength=\"8\" x=\"189\" y=\"49.1982\">c</text><rect fill=\"#A80036\" height=\"12\" style=\"stroke: #FEFECE; stroke-width: 1.5;\" width=\"12\" x=\"187\" y=\"64.5\"/><text fill=\"#000000\" font-family=\"sans-serif\" font-size=\"14\" lengthAdjust=\"spacingAndGlyphs\" textLength=\"38\" x=\"221\" y=\"49.1982\">newX</text><rect fill=\"#A80036\" height=\"12\" style=\"stroke: #FEFECE; stroke-width: 1.5;\" width=\"12\" x=\"234\" y=\"64.5\"/><!--MD5=[209b3feb70ccb6233bfe1053d122c12c]\n",
       "reverse link E2 to E3--><a href=\"psysml:92660e64-3893-4545-a353-67dbd76c0ff0\" target=\"_top\" title=\"psysml:92660e64-3893-4545-a353-67dbd76c0ff0\" xlink:actuate=\"onRequest\" xlink:href=\"psysml:92660e64-3893-4545-a353-67dbd76c0ff0\" xlink:show=\"new\" xlink:title=\"psysml:92660e64-3893-4545-a353-67dbd76c0ff0\" xlink:type=\"simple\"><path d=\"M93,113.51 C93,129.22 93,146.43 93,159.68 \" fill=\"none\" id=\"E2&lt;-E3\" style=\"stroke: #A80036; stroke-width: 1.0;\"/><polygon fill=\"#A80036\" points=\"93,100.24,89,106.24,93,112.24,97,106.24,93,100.24\" style=\"stroke: #A80036; stroke-width: 1.0;\"/><text fill=\"#000000\" font-family=\"sans-serif\" font-size=\"13\" lengthAdjust=\"spacingAndGlyphs\" textLength=\"7\" x=\"85.1031\" y=\"148.8743\">*</text></a><!--MD5=[2e97e25b92292b08f305fce517d6fb13]\n",
       "@startuml\r\n",
       "skinparam wrapWidth 300\r\n",
       "hide circle\r\n",
       "\r\n",
       "package \"TextualRepresentationTest\" as E1  [[psysml:7357ea5e-db14-480c-8643-46679caa3aca ]]  {\r\n",
       "comp def \"C\" as E2  <<(T,blue) item def>> [[psysml:d8d89087-5f7a-40fd-9871-b52a02710321 ]] {\r\n",
       "x: Real\r\n",
       "}\r\n",
       "comp usage \"x_constraint\" as E3  <<(T,blue) assertConstraint>> [[psysml:24b29db4-a520-4ed1-8de3-5d8963222bac ]] {\r\n",
       "}\r\n",
       "rec def \"setX\" as E4  <<(T,blue) action def>> [[psysml:4d0e1ac7-0ffb-42d7-bf53-5a956dddc154 ]] {\r\n",
       "portin \"c\" as E5  [[psysml:7b0b3a1a-f848-44f8-8668-45f7327338b0 ]] \r\n",
       "portin \"newX\" as E6  [[psysml:5310235f-3728-4e86-87c8-1dd93d46f083 ]] \r\n",
       "}\r\n",
       "\r\n",
       "E2 *- - \"*\"E3 [[psysml:92660e64-3893-4545-a353-67dbd76c0ff0 ]] \r\n",
       "}\r\n",
       "@enduml\r\n",
       "\n",
       "PlantUML version 1.2020.13(Sat Jun 13 12:26:38 UTC 2020)\n",
       "(EPL source distribution)\n",
       "Java Runtime: OpenJDK Runtime Environment\n",
       "JVM: OpenJDK 64-Bit Server VM\n",
       "Default Encoding: UTF-8\n",
       "Language: en\n",
       "Country: null\n",
       "--></g></svg>"
      ]
     },
     "execution_count": 29,
     "metadata": {},
     "output_type": "execute_result"
    }
   ],
   "source": [
    "%viz --style=\"STDCOLOR\" --view=\"MIXED\" \"TextualRepresentationTest\""
   ]
  },
  {
   "cell_type": "code",
   "execution_count": 30,
   "id": "23a5df4c",
   "metadata": {
    "execution": {
     "iopub.execute_input": "2021-08-04T06:26:40.499606Z",
     "iopub.status.busy": "2021-08-04T06:26:40.499163Z",
     "iopub.status.idle": "2021-08-04T06:26:40.547771Z",
     "shell.execute_reply": "2021-08-04T06:26:40.547386Z"
    }
   },
   "outputs": [
    {
     "data": {
      "image/svg+xml": [
       "<?xml version=\"1.0\" encoding=\"UTF-8\" standalone=\"no\"?><svg xmlns=\"http://www.w3.org/2000/svg\" xmlns:xlink=\"http://www.w3.org/1999/xlink\" contentScriptType=\"application/ecmascript\" contentStyleType=\"text/css\" height=\"238px\" preserveAspectRatio=\"none\" style=\"width:371px;height:238px;\" version=\"1.1\" viewBox=\"0 0 371 238\" width=\"371px\" zoomAndPan=\"magnify\"><defs><filter height=\"300%\" id=\"f7oyz1hrcdw04\" width=\"300%\" x=\"-1\" y=\"-1\"><feGaussianBlur result=\"blurOut\" stdDeviation=\"2.0\"/><feColorMatrix in=\"blurOut\" result=\"blurOut2\" type=\"matrix\" values=\"0 0 0 0 0 0 0 0 0 0 0 0 0 0 0 0 0 0 .4 0\"/><feOffset dx=\"4.0\" dy=\"4.0\" in=\"blurOut2\" result=\"blurOut3\"/><feBlend in=\"SourceGraphic\" in2=\"blurOut3\" mode=\"normal\"/></filter></defs><g><!--MD5=[fbc87193dbaf4d95561dea2c320d4a47]\n",
       "cluster E1--><a href=\"psysml:7357ea5e-db14-480c-8643-46679caa3aca\" target=\"_top\" title=\"psysml:7357ea5e-db14-480c-8643-46679caa3aca\" xlink:actuate=\"onRequest\" xlink:href=\"psysml:7357ea5e-db14-480c-8643-46679caa3aca\" xlink:show=\"new\" xlink:title=\"psysml:7357ea5e-db14-480c-8643-46679caa3aca\" xlink:type=\"simple\"><polygon fill=\"#FFFFFF\" filter=\"url(#f7oyz1hrcdw04)\" points=\"16,6,236,6,243,28.2969,349,28.2969,349,226.5,16,226.5,16,6\" style=\"stroke: #000000; stroke-width: 1.5;\"/><line style=\"stroke: #000000; stroke-width: 1.5;\" x1=\"16\" x2=\"243\" y1=\"28.2969\" y2=\"28.2969\"/><text fill=\"#000000\" font-family=\"sans-serif\" font-size=\"14\" font-weight=\"bold\" lengthAdjust=\"spacingAndGlyphs\" textLength=\"214\" x=\"20\" y=\"20.9951\">TextualRepresentationTest</text></a><!--MD5=[f6df4d0ebaf0b5dfb2ced0ae5af7c670]\n",
       "cluster E4--><a href=\"psysml:4d0e1ac7-0ffb-42d7-bf53-5a956dddc154\" target=\"_top\" title=\"psysml:4d0e1ac7-0ffb-42d7-bf53-5a956dddc154\" xlink:actuate=\"onRequest\" xlink:href=\"psysml:4d0e1ac7-0ffb-42d7-bf53-5a956dddc154\" xlink:show=\"new\" xlink:title=\"psysml:4d0e1ac7-0ffb-42d7-bf53-5a956dddc154\" xlink:type=\"simple\"><rect fill=\"#FFFFFF\" filter=\"url(#f7oyz1hrcdw04)\" height=\"143\" id=\"E4\" style=\"stroke: #A80036; stroke-width: 1.5;\" width=\"132\" x=\"201\" y=\"67.5\"/><rect fill=\"#FEFECE\" height=\"37.9375\" style=\"stroke: #A80036; stroke-width: 1.5;\" width=\"132\" x=\"201\" y=\"67.5\"/><text fill=\"#000000\" font-family=\"sans-serif\" font-size=\"12\" font-style=\"italic\" lengthAdjust=\"spacingAndGlyphs\" textLength=\"77\" x=\"228.5\" y=\"83.6387\">«action def»</text><text fill=\"#000000\" font-family=\"sans-serif\" font-size=\"12\" lengthAdjust=\"spacingAndGlyphs\" textLength=\"27\" x=\"253.5\" y=\"97.6074\">setX</text></a><!--MD5=[b4997ac47864f28c2f74865a473b2911]\n",
       "class E2--><a href=\"psysml:d8d89087-5f7a-40fd-9871-b52a02710321\" target=\"_top\" title=\"psysml:d8d89087-5f7a-40fd-9871-b52a02710321\" xlink:actuate=\"onRequest\" xlink:href=\"psysml:d8d89087-5f7a-40fd-9871-b52a02710321\" xlink:show=\"new\" xlink:title=\"psysml:d8d89087-5f7a-40fd-9871-b52a02710321\" xlink:type=\"simple\"><rect fill=\"#FEFECE\" filter=\"url(#f7oyz1hrcdw04)\" height=\"52.8047\" id=\"E2\" style=\"stroke: #A80036; stroke-width: 1.5;\" width=\"50\" x=\"81\" y=\"41\"/><ellipse cx=\"100.5\" cy=\"57\" fill=\"#008000\" rx=\"11\" ry=\"11\" style=\"stroke: #A80036; stroke-width: 1.0;\"/><path d=\"M99.4063,57.375 L99.4063,61.0469 L101.0313,61.0469 Q102.2031,61.0469 102.6719,60.6563 Q103.1406,60.25 103.1406,59.25 Q103.1406,58.25 102.6406,57.8125 Q102.1563,57.375 101.0313,57.375 L99.4063,57.375 Z M99.4063,52.5469 L99.4063,55.4219 L101.0313,55.4219 Q101.9531,55.4219 102.3438,55.0938 Q102.75,54.75 102.75,54 Q102.75,53.2344 102.3438,52.8906 Q101.9375,52.5469 101.0313,52.5469 L99.4063,52.5469 Z M97.0313,50.5938 L101.0313,50.5938 Q103.0938,50.5938 104.1406,51.375 Q105.1875,52.1563 105.1875,53.7188 Q105.1875,54.9219 104.5625,55.5938 Q103.9531,56.2656 102.7656,56.375 Q104.1875,56.5156 104.9063,57.3281 Q105.625,58.1406 105.625,59.5938 Q105.625,61.3906 104.5469,62.2031 Q103.4688,63 101.0313,63 L97.0313,63 L97.0313,50.5938 Z \"/><text fill=\"#000000\" font-family=\"sans-serif\" font-size=\"12\" lengthAdjust=\"spacingAndGlyphs\" textLength=\"8\" x=\"115.5\" y=\"61.1543\">C</text><line style=\"stroke: #A80036; stroke-width: 1.5;\" x1=\"82\" x2=\"130\" y1=\"73\" y2=\"73\"/><text fill=\"#000000\" font-family=\"sans-serif\" font-size=\"11\" lengthAdjust=\"spacingAndGlyphs\" textLength=\"38\" x=\"87\" y=\"87.2104\">x: Real</text></a><!--MD5=[09b614a08d8cba4a07c9adeb5e0fee81]\n",
       "class E3--><a href=\"psysml:24b29db4-a520-4ed1-8de3-5d8963222bac\" target=\"_top\" title=\"psysml:24b29db4-a520-4ed1-8de3-5d8963222bac\" xlink:actuate=\"onRequest\" xlink:href=\"psysml:24b29db4-a520-4ed1-8de3-5d8963222bac\" xlink:show=\"new\" xlink:title=\"psysml:24b29db4-a520-4ed1-8de3-5d8963222bac\" xlink:type=\"simple\"><rect fill=\"#FEFECE\" filter=\"url(#f7oyz1hrcdw04)\" height=\"45.9375\" id=\"E3\" rx=\"10\" ry=\"10\" style=\"stroke: #A80036; stroke-width: 1.5;\" width=\"147\" x=\"32.5\" y=\"154\"/><ellipse cx=\"47.5\" cy=\"172.9688\" fill=\"#FFA500\" rx=\"11\" ry=\"11\" style=\"stroke: #A80036; stroke-width: 1.0;\"/><path d=\"M43.375,174.8906 L43.375,167.0781 L45.8281,167.0781 L45.8281,175.5156 Q45.8281,176.4375 46.2969,176.9688 Q46.7813,177.5 47.6094,177.5 Q48.4531,177.5 48.9219,176.9688 Q49.3906,176.4375 49.3906,175.5156 L49.3906,167.0781 L51.8438,167.0781 L51.8438,174.8906 Q51.8438,177.4219 50.8438,178.5625 Q49.8438,179.7031 47.6094,179.7031 Q45.3906,179.7031 44.375,178.5625 Q43.375,177.4219 43.375,174.8906 Z \"/><text fill=\"#000000\" font-family=\"sans-serif\" font-size=\"12\" font-style=\"italic\" lengthAdjust=\"spacingAndGlyphs\" textLength=\"119\" x=\"59.5\" y=\"170.1387\">«assertConstraint»</text><text fill=\"#000000\" font-family=\"sans-serif\" font-size=\"12\" lengthAdjust=\"spacingAndGlyphs\" textLength=\"76\" x=\"81\" y=\"184.1074\">x_constraint</text><line style=\"stroke: #A80036; stroke-width: 1.5;\" x1=\"33.5\" x2=\"178.5\" y1=\"191.9375\" y2=\"191.9375\"/></a><text fill=\"#000000\" font-family=\"sans-serif\" font-size=\"14\" lengthAdjust=\"spacingAndGlyphs\" textLength=\"8\" x=\"215\" y=\"46.1982\">c</text><rect fill=\"#A80036\" height=\"12\" style=\"stroke: #FEFECE; stroke-width: 1.5;\" width=\"12\" x=\"213\" y=\"61.5\"/><text fill=\"#000000\" font-family=\"sans-serif\" font-size=\"14\" lengthAdjust=\"spacingAndGlyphs\" textLength=\"38\" x=\"247\" y=\"46.1982\">newX</text><rect fill=\"#A80036\" height=\"12\" style=\"stroke: #FEFECE; stroke-width: 1.5;\" width=\"12\" x=\"260\" y=\"61.5\"/><!--MD5=[209b3feb70ccb6233bfe1053d122c12c]\n",
       "reverse link E2 to E3--><a href=\"psysml:92660e64-3893-4545-a353-67dbd76c0ff0\" target=\"_top\" title=\"psysml:92660e64-3893-4545-a353-67dbd76c0ff0\" xlink:actuate=\"onRequest\" xlink:href=\"psysml:92660e64-3893-4545-a353-67dbd76c0ff0\" xlink:show=\"new\" xlink:title=\"psysml:92660e64-3893-4545-a353-67dbd76c0ff0\" xlink:type=\"simple\"><path d=\"M106,107.34 C106,122.93 106,140.35 106,153.74 \" fill=\"none\" id=\"E2&lt;-E3\" style=\"stroke: #A80036; stroke-width: 1.0;\"/><polygon fill=\"#A80036\" points=\"106,94.25,102,100.25,106,106.25,110,100.25,106,94.25\" style=\"stroke: #A80036; stroke-width: 1.0;\"/><text fill=\"#000000\" font-family=\"sans-serif\" font-size=\"13\" lengthAdjust=\"spacingAndGlyphs\" textLength=\"7\" x=\"98.1031\" y=\"142.9497\">*</text></a><!--MD5=[6824414e146c917a319f3fd2856ea23f]\n",
       "@startuml\r\n",
       " \r\n",
       "package \"TextualRepresentationTest\" as E1  [[psysml:7357ea5e-db14-480c-8643-46679caa3aca ]]  {\r\n",
       "comp def \"C\" as E2 << << (B,green) >> [[psysml:d8d89087-5f7a-40fd-9871-b52a02710321 ]] {\r\n",
       "x: Real\r\n",
       "}\r\n",
       "comp usage \"x_constraint\" as E3 << <<(U,orange) assertConstraint>> [[psysml:24b29db4-a520-4ed1-8de3-5d8963222bac ]] {\r\n",
       "}\r\n",
       "rec def \"setX\" as E4 << <<(B,lemonchiffon) action def>> [[psysml:4d0e1ac7-0ffb-42d7-bf53-5a956dddc154 ]] {\r\n",
       "portin \"c\" as E5  [[psysml:7b0b3a1a-f848-44f8-8668-45f7327338b0 ]] \r\n",
       "portin \"newX\" as E6  [[psysml:5310235f-3728-4e86-87c8-1dd93d46f083 ]] \r\n",
       "}\r\n",
       "\r\n",
       "E2 *- - \"*\"E3 [[psysml:92660e64-3893-4545-a353-67dbd76c0ff0 ]] \r\n",
       "}\r\n",
       "@enduml\r\n",
       "\n",
       "PlantUML version 1.2020.13(Sat Jun 13 12:26:38 UTC 2020)\n",
       "(EPL source distribution)\n",
       "Java Runtime: OpenJDK Runtime Environment\n",
       "JVM: OpenJDK 64-Bit Server VM\n",
       "Default Encoding: UTF-8\n",
       "Language: en\n",
       "Country: null\n",
       "--></g></svg>"
      ]
     },
     "execution_count": 30,
     "metadata": {},
     "output_type": "execute_result"
    }
   ],
   "source": [
    "%viz --style=\"PLANTUML\" --view=\"Default\" \"TextualRepresentationTest\""
   ]
  },
  {
   "cell_type": "code",
   "execution_count": 31,
   "id": "2de1d3d2",
   "metadata": {
    "execution": {
     "iopub.execute_input": "2021-08-04T06:26:40.597293Z",
     "iopub.status.busy": "2021-08-04T06:26:40.596882Z",
     "iopub.status.idle": "2021-08-04T06:26:40.626125Z",
     "shell.execute_reply": "2021-08-04T06:26:40.625773Z"
    }
   },
   "outputs": [
    {
     "data": {
      "image/svg+xml": [
       "<?xml version=\"1.0\" encoding=\"UTF-8\" standalone=\"no\"?><svg xmlns=\"http://www.w3.org/2000/svg\" xmlns:xlink=\"http://www.w3.org/1999/xlink\" contentScriptType=\"application/ecmascript\" contentStyleType=\"text/css\" height=\"352px\" preserveAspectRatio=\"none\" style=\"width:268px;height:352px;\" version=\"1.1\" viewBox=\"0 0 268 352\" width=\"268px\" zoomAndPan=\"magnify\"><defs><filter height=\"300%\" id=\"fku1v277czm1x\" width=\"300%\" x=\"-1\" y=\"-1\"><feGaussianBlur result=\"blurOut\" stdDeviation=\"2.0\"/><feColorMatrix in=\"blurOut\" result=\"blurOut2\" type=\"matrix\" values=\"0 0 0 0 0 0 0 0 0 0 0 0 0 0 0 0 0 0 .4 0\"/><feOffset dx=\"4.0\" dy=\"4.0\" in=\"blurOut2\" result=\"blurOut3\"/><feBlend in=\"SourceGraphic\" in2=\"blurOut3\" mode=\"normal\"/></filter></defs><g><!--MD5=[fbc87193dbaf4d95561dea2c320d4a47]\n",
       "cluster E1--><a href=\"psysml:7357ea5e-db14-480c-8643-46679caa3aca\" target=\"_top\" title=\"psysml:7357ea5e-db14-480c-8643-46679caa3aca\" xlink:actuate=\"onRequest\" xlink:href=\"psysml:7357ea5e-db14-480c-8643-46679caa3aca\" xlink:show=\"new\" xlink:title=\"psysml:7357ea5e-db14-480c-8643-46679caa3aca\" xlink:type=\"simple\"><polygon fill=\"#FFFFFF\" filter=\"url(#fku1v277czm1x)\" points=\"16,6,236,6,243,28.2969,246,28.2969,246,340,16,340,16,6\" style=\"stroke: #000000; stroke-width: 1.5;\"/><line style=\"stroke: #000000; stroke-width: 1.5;\" x1=\"16\" x2=\"243\" y1=\"28.2969\" y2=\"28.2969\"/><text fill=\"#000000\" font-family=\"sans-serif\" font-size=\"14\" font-weight=\"bold\" lengthAdjust=\"spacingAndGlyphs\" textLength=\"214\" x=\"20\" y=\"20.9951\">TextualRepresentationTest</text></a><!--MD5=[b4997ac47864f28c2f74865a473b2911]\n",
       "class E2--><a href=\"psysml:d8d89087-5f7a-40fd-9871-b52a02710321\" target=\"_top\" title=\"psysml:d8d89087-5f7a-40fd-9871-b52a02710321\" xlink:actuate=\"onRequest\" xlink:href=\"psysml:d8d89087-5f7a-40fd-9871-b52a02710321\" xlink:show=\"new\" xlink:title=\"psysml:d8d89087-5f7a-40fd-9871-b52a02710321\" xlink:type=\"simple\"><rect fill=\"#FEFECE\" filter=\"url(#fku1v277czm1x)\" height=\"52.8047\" id=\"E2\" style=\"stroke: #A80036; stroke-width: 1.5;\" width=\"50\" x=\"106\" y=\"164\"/><ellipse cx=\"125.5\" cy=\"180\" fill=\"#008000\" rx=\"11\" ry=\"11\" style=\"stroke: #A80036; stroke-width: 1.0;\"/><path d=\"M124.4063,180.375 L124.4063,184.0469 L126.0313,184.0469 Q127.2031,184.0469 127.6719,183.6563 Q128.1406,183.25 128.1406,182.25 Q128.1406,181.25 127.6406,180.8125 Q127.1563,180.375 126.0313,180.375 L124.4063,180.375 Z M124.4063,175.5469 L124.4063,178.4219 L126.0313,178.4219 Q126.9531,178.4219 127.3438,178.0938 Q127.75,177.75 127.75,177 Q127.75,176.2344 127.3438,175.8906 Q126.9375,175.5469 126.0313,175.5469 L124.4063,175.5469 Z M122.0313,173.5938 L126.0313,173.5938 Q128.0938,173.5938 129.1406,174.375 Q130.1875,175.1563 130.1875,176.7188 Q130.1875,177.9219 129.5625,178.5938 Q128.9531,179.2656 127.7656,179.375 Q129.1875,179.5156 129.9063,180.3281 Q130.625,181.1406 130.625,182.5938 Q130.625,184.3906 129.5469,185.2031 Q128.4688,186 126.0313,186 L122.0313,186 L122.0313,173.5938 Z \"/><text fill=\"#000000\" font-family=\"sans-serif\" font-size=\"12\" lengthAdjust=\"spacingAndGlyphs\" textLength=\"8\" x=\"140.5\" y=\"184.1543\">C</text><line style=\"stroke: #A80036; stroke-width: 1.5;\" x1=\"107\" x2=\"155\" y1=\"196\" y2=\"196\"/><text fill=\"#000000\" font-family=\"sans-serif\" font-size=\"11\" lengthAdjust=\"spacingAndGlyphs\" textLength=\"38\" x=\"112\" y=\"210.2104\">x: Real</text></a><!--MD5=[09b614a08d8cba4a07c9adeb5e0fee81]\n",
       "class E3--><a href=\"psysml:24b29db4-a520-4ed1-8de3-5d8963222bac\" target=\"_top\" title=\"psysml:24b29db4-a520-4ed1-8de3-5d8963222bac\" xlink:actuate=\"onRequest\" xlink:href=\"psysml:24b29db4-a520-4ed1-8de3-5d8963222bac\" xlink:show=\"new\" xlink:title=\"psysml:24b29db4-a520-4ed1-8de3-5d8963222bac\" xlink:type=\"simple\"><rect fill=\"#FEFECE\" filter=\"url(#fku1v277czm1x)\" height=\"45.9375\" id=\"E3\" rx=\"10\" ry=\"10\" style=\"stroke: #A80036; stroke-width: 1.5;\" width=\"147\" x=\"57.5\" y=\"278\"/><ellipse cx=\"72.5\" cy=\"296.9688\" fill=\"#FFA500\" rx=\"11\" ry=\"11\" style=\"stroke: #A80036; stroke-width: 1.0;\"/><path d=\"M68.375,298.8906 L68.375,291.0781 L70.8281,291.0781 L70.8281,299.5156 Q70.8281,300.4375 71.2969,300.9688 Q71.7813,301.5 72.6094,301.5 Q73.4531,301.5 73.9219,300.9688 Q74.3906,300.4375 74.3906,299.5156 L74.3906,291.0781 L76.8438,291.0781 L76.8438,298.8906 Q76.8438,301.4219 75.8438,302.5625 Q74.8438,303.7031 72.6094,303.7031 Q70.3906,303.7031 69.375,302.5625 Q68.375,301.4219 68.375,298.8906 Z \"/><text fill=\"#000000\" font-family=\"sans-serif\" font-size=\"12\" font-style=\"italic\" lengthAdjust=\"spacingAndGlyphs\" textLength=\"119\" x=\"84.5\" y=\"294.1387\">«assertConstraint»</text><text fill=\"#000000\" font-family=\"sans-serif\" font-size=\"12\" lengthAdjust=\"spacingAndGlyphs\" textLength=\"76\" x=\"106\" y=\"308.1074\">x_constraint</text><line style=\"stroke: #A80036; stroke-width: 1.5;\" x1=\"58.5\" x2=\"203.5\" y1=\"315.9375\" y2=\"315.9375\"/></a><!--MD5=[ebbe1d658d1005bcc118a6aa81145e00]\n",
       "class E4--><a href=\"psysml:4d0e1ac7-0ffb-42d7-bf53-5a956dddc154\" target=\"_top\" title=\"psysml:4d0e1ac7-0ffb-42d7-bf53-5a956dddc154\" xlink:actuate=\"onRequest\" xlink:href=\"psysml:4d0e1ac7-0ffb-42d7-bf53-5a956dddc154\" xlink:show=\"new\" xlink:title=\"psysml:4d0e1ac7-0ffb-42d7-bf53-5a956dddc154\" xlink:type=\"simple\"><rect fill=\"#FEFECE\" filter=\"url(#fku1v277czm1x)\" height=\"45.9375\" id=\"E4\" style=\"stroke: #A80036; stroke-width: 1.5;\" width=\"105\" x=\"78.5\" y=\"41\"/><ellipse cx=\"93.5\" cy=\"59.9688\" fill=\"#FFFACD\" rx=\"11\" ry=\"11\" style=\"stroke: #A80036; stroke-width: 1.0;\"/><path d=\"M92.4063,60.3438 L92.4063,64.0156 L94.0313,64.0156 Q95.2031,64.0156 95.6719,63.625 Q96.1406,63.2188 96.1406,62.2188 Q96.1406,61.2188 95.6406,60.7813 Q95.1563,60.3438 94.0313,60.3438 L92.4063,60.3438 Z M92.4063,55.5156 L92.4063,58.3906 L94.0313,58.3906 Q94.9531,58.3906 95.3438,58.0625 Q95.75,57.7188 95.75,56.9688 Q95.75,56.2031 95.3438,55.8594 Q94.9375,55.5156 94.0313,55.5156 L92.4063,55.5156 Z M90.0313,53.5625 L94.0313,53.5625 Q96.0938,53.5625 97.1406,54.3438 Q98.1875,55.125 98.1875,56.6875 Q98.1875,57.8906 97.5625,58.5625 Q96.9531,59.2344 95.7656,59.3438 Q97.1875,59.4844 97.9063,60.2969 Q98.625,61.1094 98.625,62.5625 Q98.625,64.3594 97.5469,65.1719 Q96.4688,65.9688 94.0313,65.9688 L90.0313,65.9688 L90.0313,53.5625 Z \"/><text fill=\"#000000\" font-family=\"sans-serif\" font-size=\"12\" font-style=\"italic\" lengthAdjust=\"spacingAndGlyphs\" textLength=\"77\" x=\"105.5\" y=\"57.1387\">«action def»</text><text fill=\"#000000\" font-family=\"sans-serif\" font-size=\"12\" lengthAdjust=\"spacingAndGlyphs\" textLength=\"27\" x=\"130.5\" y=\"71.1074\">setX</text><line style=\"stroke: #A80036; stroke-width: 1.5;\" x1=\"79.5\" x2=\"182.5\" y1=\"78.9375\" y2=\"78.9375\"/></a><!--MD5=[209b3feb70ccb6233bfe1053d122c12c]\n",
       "reverse link E2 to E3--><a href=\"psysml:92660e64-3893-4545-a353-67dbd76c0ff0\" target=\"_top\" title=\"psysml:92660e64-3893-4545-a353-67dbd76c0ff0\" xlink:actuate=\"onRequest\" xlink:href=\"psysml:92660e64-3893-4545-a353-67dbd76c0ff0\" xlink:show=\"new\" xlink:title=\"psysml:92660e64-3893-4545-a353-67dbd76c0ff0\" xlink:type=\"simple\"><path d=\"M131,230.53 C131,246.41 131,264.18 131,277.78 \" fill=\"none\" id=\"E2&lt;-E3\" style=\"stroke: #A80036; stroke-width: 1.0;\"/><polygon fill=\"#A80036\" points=\"131,217.21,127,223.21,131,229.21,135,223.21,131,217.21\" style=\"stroke: #A80036; stroke-width: 1.0;\"/><text fill=\"#000000\" font-family=\"sans-serif\" font-size=\"13\" lengthAdjust=\"spacingAndGlyphs\" textLength=\"7\" x=\"123.1031\" y=\"266.9999\">*</text></a><!--MD5=[ddeed8deb2209213b62e6cfabaa108b2]\n",
       "reverse link E4 to E2--><a href=\"psysml:7b0b3a1a-f848-44f8-8668-45f7327338b0\" target=\"_top\" title=\"psysml:7b0b3a1a-f848-44f8-8668-45f7327338b0\" xlink:actuate=\"onRequest\" xlink:href=\"psysml:7b0b3a1a-f848-44f8-8668-45f7327338b0\" xlink:show=\"new\" xlink:title=\"psysml:7b0b3a1a-f848-44f8-8668-45f7327338b0\" xlink:type=\"simple\"><path d=\"M131,100.31 C131,120.44 131,145.23 131,163.56 \" fill=\"none\" id=\"E4&lt;-E2\" style=\"stroke: #A80036; stroke-width: 1.0;\"/><polygon fill=\"#FFFFFF\" points=\"131,87.26,127,93.26,131,99.26,135,93.26,131,87.26\" style=\"stroke: #A80036; stroke-width: 1.0;\"/><text fill=\"#000000\" font-family=\"sans-serif\" font-size=\"13\" lengthAdjust=\"spacingAndGlyphs\" textLength=\"7\" x=\"132\" y=\"130.0669\">c</text></a><!--MD5=[fefa2ca6cd2489eda601a4b993dffa48]\n",
       "@startuml\r\n",
       " \r\n",
       "package \"TextualRepresentationTest\" as E1  [[psysml:7357ea5e-db14-480c-8643-46679caa3aca ]]  {\r\n",
       "comp def \"C\" as E2 << << (B,green) >> [[psysml:d8d89087-5f7a-40fd-9871-b52a02710321 ]] {\r\n",
       "x: Real\r\n",
       "}\r\n",
       "comp usage \"x_constraint\" as E3 << <<(U,orange) assertConstraint>> [[psysml:24b29db4-a520-4ed1-8de3-5d8963222bac ]] {\r\n",
       "}\r\n",
       "comp def \"setX\" as E4 << <<(B,lemonchiffon) action def>> [[psysml:4d0e1ac7-0ffb-42d7-bf53-5a956dddc154 ]] {\r\n",
       "}\r\n",
       "E2 *- - \"*\"E3 [[psysml:92660e64-3893-4545-a353-67dbd76c0ff0 ]] \r\n",
       "E4 o- - E2 [[psysml:7b0b3a1a-f848-44f8-8668-45f7327338b0 ]] : c\r\n",
       "}\r\n",
       "@enduml\r\n",
       "\n",
       "PlantUML version 1.2020.13(Sat Jun 13 12:26:38 UTC 2020)\n",
       "(EPL source distribution)\n",
       "Java Runtime: OpenJDK Runtime Environment\n",
       "JVM: OpenJDK 64-Bit Server VM\n",
       "Default Encoding: UTF-8\n",
       "Language: en\n",
       "Country: null\n",
       "--></g></svg>"
      ]
     },
     "execution_count": 31,
     "metadata": {},
     "output_type": "execute_result"
    }
   ],
   "source": [
    "%viz --style=\"PLANTUML\" --view=\"Tree\" \"TextualRepresentationTest\""
   ]
  },
  {
   "cell_type": "code",
   "execution_count": 32,
   "id": "d2ed9278",
   "metadata": {
    "execution": {
     "iopub.execute_input": "2021-08-04T06:26:40.675807Z",
     "iopub.status.busy": "2021-08-04T06:26:40.675399Z",
     "iopub.status.idle": "2021-08-04T06:26:40.753062Z",
     "shell.execute_reply": "2021-08-04T06:26:40.752685Z"
    }
   },
   "outputs": [
    {
     "data": {
      "image/svg+xml": [
       "<?xml version=\"1.0\" encoding=\"UTF-8\" standalone=\"no\"?><svg xmlns=\"http://www.w3.org/2000/svg\" xmlns:xlink=\"http://www.w3.org/1999/xlink\" contentScriptType=\"application/ecmascript\" contentStyleType=\"text/css\" height=\"303px\" preserveAspectRatio=\"none\" style=\"width:603px;height:303px;background:#000000;\" version=\"1.1\" viewBox=\"0 0 603 303\" width=\"603px\" zoomAndPan=\"magnify\"><defs/><g><rect fill=\"#221106\" height=\"1\" style=\"stroke: #221106; stroke-width: 1.0;\" width=\"1\" x=\"0\" y=\"0\"/><rect fill=\"#FFFFFF\" height=\"205.5625\" style=\"stroke: #FFFFFF; stroke-width: 1.0;\" width=\"602\" x=\"0\" y=\"0\"/><text fill=\"#000000\" font-family=\"sans-serif\" font-size=\"12\" font-weight=\"bold\" lengthAdjust=\"spacingAndGlyphs\" textLength=\"159\" x=\"5\" y=\"16.1387\">Welcome to PlantUML!</text><text fill=\"#000000\" font-family=\"sans-serif\" font-size=\"12\" lengthAdjust=\"spacingAndGlyphs\" textLength=\"0\" x=\"9\" y=\"30.1074\"/><text fill=\"#000000\" font-family=\"sans-serif\" font-size=\"12\" lengthAdjust=\"spacingAndGlyphs\" textLength=\"293\" x=\"5\" y=\"44.0762\">If you use this software, you accept its license.</text><text fill=\"#000000\" font-family=\"sans-serif\" font-size=\"12\" lengthAdjust=\"spacingAndGlyphs\" textLength=\"107\" x=\"5\" y=\"58.0449\">(details by typing</text><text fill=\"#000000\" font-family=\"monospace\" font-size=\"12\" lengthAdjust=\"spacingAndGlyphs\" textLength=\"49\" x=\"116\" y=\"58.0449\">license</text><text fill=\"#000000\" font-family=\"sans-serif\" font-size=\"12\" lengthAdjust=\"spacingAndGlyphs\" textLength=\"56\" x=\"169\" y=\"58.0449\">keyword)</text><text fill=\"#000000\" font-family=\"sans-serif\" font-size=\"12\" lengthAdjust=\"spacingAndGlyphs\" textLength=\"0\" x=\"9\" y=\"72.0137\"/><text fill=\"#000000\" font-family=\"sans-serif\" font-size=\"12\" lengthAdjust=\"spacingAndGlyphs\" textLength=\"283\" x=\"5\" y=\"85.9824\">You can start with a simple UML Diagram like:</text><text fill=\"#000000\" font-family=\"sans-serif\" font-size=\"12\" lengthAdjust=\"spacingAndGlyphs\" textLength=\"0\" x=\"9\" y=\"99.9512\"/><text fill=\"#000000\" font-family=\"monospace\" font-size=\"12\" lengthAdjust=\"spacingAndGlyphs\" textLength=\"119\" x=\"5\" y=\"113.9199\">Bob-&gt;Alice: Hello</text><text fill=\"#000000\" font-family=\"sans-serif\" font-size=\"12\" lengthAdjust=\"spacingAndGlyphs\" textLength=\"0\" x=\"9\" y=\"127.8887\"/><text fill=\"#000000\" font-family=\"sans-serif\" font-size=\"12\" lengthAdjust=\"spacingAndGlyphs\" textLength=\"14\" x=\"5\" y=\"141.8574\">Or</text><text fill=\"#000000\" font-family=\"sans-serif\" font-size=\"12\" lengthAdjust=\"spacingAndGlyphs\" textLength=\"0\" x=\"9\" y=\"155.8262\"/><text fill=\"#000000\" font-family=\"monospace\" font-size=\"12\" lengthAdjust=\"spacingAndGlyphs\" textLength=\"91\" x=\"5\" y=\"169.7949\">class Example</text><text fill=\"#000000\" font-family=\"sans-serif\" font-size=\"12\" lengthAdjust=\"spacingAndGlyphs\" textLength=\"0\" x=\"9\" y=\"183.7637\"/><text fill=\"#000000\" font-family=\"sans-serif\" font-size=\"12\" lengthAdjust=\"spacingAndGlyphs\" textLength=\"349\" x=\"5\" y=\"197.7324\">You will find more information about PlantUML syntax on</text><text fill=\"#000000\" font-family=\"sans-serif\" font-size=\"12\" lengthAdjust=\"spacingAndGlyphs\" text-decoration=\"underline\" textLength=\"129\" x=\"358\" y=\"197.7324\">https://plantuml.com</text><image height=\"71\" width=\"80\" x=\"516\" xlink:href=\"data:image/png;base64,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\" y=\"6\"/><rect fill=\"#000000\" height=\"96.4844\" style=\"stroke: #000000; stroke-width: 1.0;\" width=\"602\" x=\"0\" y=\"205.5625\"/><rect fill=\"#33FF02\" height=\"21.2969\" style=\"stroke: #33FF02; stroke-width: 1.0;\" width=\"170\" x=\"5\" y=\"210.5625\"/><text fill=\"#000000\" font-family=\"sans-serif\" font-size=\"14\" font-weight=\"bold\" lengthAdjust=\"spacingAndGlyphs\" textLength=\"168\" x=\"6\" y=\"225.5625\">[From string (line 2) ]</text><text fill=\"#33FF02\" font-family=\"sans-serif\" font-size=\"14\" font-weight=\"bold\" lengthAdjust=\"spacingAndGlyphs\" textLength=\"0\" x=\"10\" y=\"245.8594\"/><text fill=\"#33FF02\" font-family=\"sans-serif\" font-size=\"14\" font-weight=\"bold\" lengthAdjust=\"spacingAndGlyphs\" textLength=\"79\" x=\"5\" y=\"262.1563\">@startuml</text><text fill=\"#33FF02\" font-family=\"sans-serif\" font-size=\"14\" font-weight=\"bold\" lengthAdjust=\"spacingAndGlyphs\" textLength=\"0\" x=\"10\" y=\"278.4531\"/><text fill=\"#FF0000\" font-family=\"sans-serif\" font-size=\"14\" font-weight=\"bold\" lengthAdjust=\"spacingAndGlyphs\" textLength=\"142\" x=\"10\" y=\"294.75\">Empty description</text><!--MD5=[f59edd8218d337f74d0c332fc6737304]\n",
       "@startuml\r\n",
       " \r\n",
       "@enduml\r\n",
       "\n",
       "PlantUML version 1.2020.13(Sat Jun 13 12:26:38 UTC 2020)\n",
       "(EPL source distribution)\n",
       "Java Runtime: OpenJDK Runtime Environment\n",
       "JVM: OpenJDK 64-Bit Server VM\n",
       "Default Encoding: UTF-8\n",
       "Language: en\n",
       "Country: null\n",
       "--></g></svg>"
      ]
     },
     "execution_count": 32,
     "metadata": {},
     "output_type": "execute_result"
    }
   ],
   "source": [
    "%viz --style=\"PLANTUML\" --view=\"State\" \"TextualRepresentationTest\""
   ]
  },
  {
   "cell_type": "code",
   "execution_count": 33,
   "id": "8d65416e",
   "metadata": {
    "execution": {
     "iopub.execute_input": "2021-08-04T06:26:40.802444Z",
     "iopub.status.busy": "2021-08-04T06:26:40.802021Z",
     "iopub.status.idle": "2021-08-04T06:26:40.817834Z",
     "shell.execute_reply": "2021-08-04T06:26:40.817639Z"
    }
   },
   "outputs": [
    {
     "data": {
      "image/svg+xml": [
       "<?xml version=\"1.0\" encoding=\"UTF-8\" standalone=\"no\"?><svg xmlns=\"http://www.w3.org/2000/svg\" xmlns:xlink=\"http://www.w3.org/1999/xlink\" contentScriptType=\"application/ecmascript\" contentStyleType=\"text/css\" height=\"176px\" preserveAspectRatio=\"none\" style=\"width:268px;height:176px;\" version=\"1.1\" viewBox=\"0 0 268 176\" width=\"268px\" zoomAndPan=\"magnify\"><defs><filter height=\"300%\" id=\"fwrg1d33db8ai\" width=\"300%\" x=\"-1\" y=\"-1\"><feGaussianBlur result=\"blurOut\" stdDeviation=\"2.0\"/><feColorMatrix in=\"blurOut\" result=\"blurOut2\" type=\"matrix\" values=\"0 0 0 0 0 0 0 0 0 0 0 0 0 0 0 0 0 0 .4 0\"/><feOffset dx=\"4.0\" dy=\"4.0\" in=\"blurOut2\" result=\"blurOut3\"/><feBlend in=\"SourceGraphic\" in2=\"blurOut3\" mode=\"normal\"/></filter></defs><g><!--MD5=[fbc87193dbaf4d95561dea2c320d4a47]\n",
       "cluster E1--><a href=\"psysml:7357ea5e-db14-480c-8643-46679caa3aca\" target=\"_top\" title=\"psysml:7357ea5e-db14-480c-8643-46679caa3aca\" xlink:actuate=\"onRequest\" xlink:href=\"psysml:7357ea5e-db14-480c-8643-46679caa3aca\" xlink:show=\"new\" xlink:title=\"psysml:7357ea5e-db14-480c-8643-46679caa3aca\" xlink:type=\"simple\"><polygon fill=\"#FFFFFF\" filter=\"url(#fwrg1d33db8ai)\" points=\"16,6,236,6,243,28.2969,246,28.2969,246,164,16,164,16,6\" style=\"stroke: #000000; stroke-width: 1.5;\"/><line style=\"stroke: #000000; stroke-width: 1.5;\" x1=\"16\" x2=\"243\" y1=\"28.2969\" y2=\"28.2969\"/><text fill=\"#000000\" font-family=\"sans-serif\" font-size=\"14\" font-weight=\"bold\" lengthAdjust=\"spacingAndGlyphs\" textLength=\"214\" x=\"20\" y=\"20.9951\">TextualRepresentationTest</text></a><!--MD5=[d5e69f78d87373223dbae638b30a9c99]\n",
       "cluster E3--><a href=\"psysml:4d0e1ac7-0ffb-42d7-bf53-5a956dddc154\" target=\"_top\" title=\"psysml:4d0e1ac7-0ffb-42d7-bf53-5a956dddc154\" xlink:actuate=\"onRequest\" xlink:href=\"psysml:4d0e1ac7-0ffb-42d7-bf53-5a956dddc154\" xlink:show=\"new\" xlink:title=\"psysml:4d0e1ac7-0ffb-42d7-bf53-5a956dddc154\" xlink:type=\"simple\"><rect fill=\"#FFFFFF\" filter=\"url(#fwrg1d33db8ai)\" height=\"87\" id=\"E3\" style=\"stroke: #A80036; stroke-width: 1.5;\" width=\"96\" x=\"101.5\" y=\"61\"/><rect fill=\"#FEFECE\" height=\"37.9375\" style=\"stroke: #A80036; stroke-width: 1.5;\" width=\"96\" x=\"101.5\" y=\"61\"/><text fill=\"#000000\" font-family=\"sans-serif\" font-size=\"12\" font-style=\"italic\" lengthAdjust=\"spacingAndGlyphs\" textLength=\"77\" x=\"111\" y=\"77.1387\">«action def»</text><text fill=\"#000000\" font-family=\"sans-serif\" font-size=\"12\" lengthAdjust=\"spacingAndGlyphs\" textLength=\"27\" x=\"136\" y=\"91.1074\">setX</text></a><g id=\"E1.E2\"><a href=\"psysml:d8d89087-5f7a-40fd-9871-b52a02710321\" target=\"_top\" title=\"psysml:d8d89087-5f7a-40fd-9871-b52a02710321\" xlink:actuate=\"onRequest\" xlink:href=\"psysml:d8d89087-5f7a-40fd-9871-b52a02710321\" xlink:show=\"new\" xlink:title=\"psysml:d8d89087-5f7a-40fd-9871-b52a02710321\" xlink:type=\"simple\"><rect fill=\"#FEFECE\" filter=\"url(#fwrg1d33db8ai)\" height=\"40\" id=\"E2\" style=\"stroke: #A80036; stroke-width: 1.5;\" width=\"50\" x=\"35\" y=\"41\"/><ellipse cx=\"54.5\" cy=\"57\" fill=\"#008000\" rx=\"11\" ry=\"11\" style=\"stroke: #A80036; stroke-width: 1.0;\"/><path d=\"M53.4063,57.375 L53.4063,61.0469 L55.0313,61.0469 Q56.2031,61.0469 56.6719,60.6563 Q57.1406,60.25 57.1406,59.25 Q57.1406,58.25 56.6406,57.8125 Q56.1563,57.375 55.0313,57.375 L53.4063,57.375 Z M53.4063,52.5469 L53.4063,55.4219 L55.0313,55.4219 Q55.9531,55.4219 56.3438,55.0938 Q56.75,54.75 56.75,54 Q56.75,53.2344 56.3438,52.8906 Q55.9375,52.5469 55.0313,52.5469 L53.4063,52.5469 Z M51.0313,50.5938 L55.0313,50.5938 Q57.0938,50.5938 58.1406,51.375 Q59.1875,52.1563 59.1875,53.7188 Q59.1875,54.9219 58.5625,55.5938 Q57.9531,56.2656 56.7656,56.375 Q58.1875,56.5156 58.9063,57.3281 Q59.625,58.1406 59.625,59.5938 Q59.625,61.3906 58.5469,62.2031 Q57.4688,63 55.0313,63 L51.0313,63 L51.0313,50.5938 Z \"/><text fill=\"#000000\" font-family=\"sans-serif\" font-size=\"12\" lengthAdjust=\"spacingAndGlyphs\" textLength=\"8\" x=\"69.5\" y=\"61.1543\">C</text></a></g><text fill=\"#000000\" font-family=\"sans-serif\" font-size=\"14\" lengthAdjust=\"spacingAndGlyphs\" textLength=\"8\" x=\"122\" y=\"39.6982\">c</text><rect fill=\"#A80036\" height=\"12\" style=\"stroke: #FEFECE; stroke-width: 1.5;\" width=\"12\" x=\"120\" y=\"55\"/><text fill=\"#000000\" font-family=\"sans-serif\" font-size=\"14\" lengthAdjust=\"spacingAndGlyphs\" textLength=\"38\" x=\"154\" y=\"39.6982\">newX</text><rect fill=\"#A80036\" height=\"12\" style=\"stroke: #FEFECE; stroke-width: 1.5;\" width=\"12\" x=\"167\" y=\"55\"/><!--MD5=[6c8164a8cf84f1a433f995fc6ed5d29f]\n",
       "@startuml\r\n",
       "skinparam ranksep 10\r\n",
       "skinparam rectangle {\r\n",
       " backgroundColor<<block>> LightGreen\r\n",
       "}\r\n",
       " \r\n",
       "package \"TextualRepresentationTest\" as E1  [[psysml:7357ea5e-db14-480c-8643-46679caa3aca ]]  {\r\n",
       "def \"C\" as E2 << << (B,green) >> [[psysml:d8d89087-5f7a-40fd-9871-b52a02710321 ]] \r\n",
       "rec def \"setX\" as E3 << <<(B,lemonchiffon) action def>> [[psysml:4d0e1ac7-0ffb-42d7-bf53-5a956dddc154 ]] {\r\n",
       "portin \"c\" as E4  [[psysml:7b0b3a1a-f848-44f8-8668-45f7327338b0 ]] \r\n",
       "portin \"newX\" as E5  [[psysml:5310235f-3728-4e86-87c8-1dd93d46f083 ]] \r\n",
       "}\r\n",
       "\r\n",
       "}\r\n",
       "@enduml\r\n",
       "\n",
       "PlantUML version 1.2020.13(Sat Jun 13 12:26:38 UTC 2020)\n",
       "(EPL source distribution)\n",
       "Java Runtime: OpenJDK Runtime Environment\n",
       "JVM: OpenJDK 64-Bit Server VM\n",
       "Default Encoding: UTF-8\n",
       "Language: en\n",
       "Country: null\n",
       "--></g></svg>"
      ]
     },
     "execution_count": 33,
     "metadata": {},
     "output_type": "execute_result"
    }
   ],
   "source": [
    "%viz --style=\"PLANTUML\" --view=\"Interconnection\" \"TextualRepresentationTest\""
   ]
  },
  {
   "cell_type": "code",
   "execution_count": 34,
   "id": "2e755574",
   "metadata": {
    "execution": {
     "iopub.execute_input": "2021-08-04T06:26:40.868039Z",
     "iopub.status.busy": "2021-08-04T06:26:40.867602Z",
     "iopub.status.idle": "2021-08-04T06:26:40.881492Z",
     "shell.execute_reply": "2021-08-04T06:26:40.881132Z"
    }
   },
   "outputs": [
    {
     "data": {
      "image/svg+xml": [
       "<?xml version=\"1.0\" encoding=\"UTF-8\" standalone=\"no\"?><svg xmlns=\"http://www.w3.org/2000/svg\" xmlns:xlink=\"http://www.w3.org/1999/xlink\" contentScriptType=\"application/ecmascript\" contentStyleType=\"text/css\" height=\"134px\" preserveAspectRatio=\"none\" style=\"width:158px;height:134px;\" version=\"1.1\" viewBox=\"0 0 158 134\" width=\"158px\" zoomAndPan=\"magnify\"><defs><filter height=\"300%\" id=\"ffcrwralpr8k0\" width=\"300%\" x=\"-1\" y=\"-1\"><feGaussianBlur result=\"blurOut\" stdDeviation=\"2.0\"/><feColorMatrix in=\"blurOut\" result=\"blurOut2\" type=\"matrix\" values=\"0 0 0 0 0 0 0 0 0 0 0 0 0 0 0 0 0 0 .4 0\"/><feOffset dx=\"4.0\" dy=\"4.0\" in=\"blurOut2\" result=\"blurOut3\"/><feBlend in=\"SourceGraphic\" in2=\"blurOut3\" mode=\"normal\"/></filter></defs><g><!--MD5=[fbc87193dbaf4d95561dea2c320d4a47]\n",
       "cluster E1--><a href=\"psysml:4d0e1ac7-0ffb-42d7-bf53-5a956dddc154\" target=\"_top\" title=\"psysml:4d0e1ac7-0ffb-42d7-bf53-5a956dddc154\" xlink:actuate=\"onRequest\" xlink:href=\"psysml:4d0e1ac7-0ffb-42d7-bf53-5a956dddc154\" xlink:show=\"new\" xlink:title=\"psysml:4d0e1ac7-0ffb-42d7-bf53-5a956dddc154\" xlink:type=\"simple\"><rect fill=\"#FFFFFF\" filter=\"url(#ffcrwralpr8k0)\" height=\"73\" id=\"E1\" style=\"stroke: #A80036; stroke-width: 1.5;\" width=\"132\" x=\"7\" y=\"42.0986\"/><rect fill=\"#FEFECE\" height=\"37.9375\" style=\"stroke: #A80036; stroke-width: 1.5;\" width=\"132\" x=\"7\" y=\"42.0986\"/><text fill=\"#000000\" font-family=\"sans-serif\" font-size=\"12\" font-style=\"italic\" lengthAdjust=\"spacingAndGlyphs\" textLength=\"77\" x=\"34.5\" y=\"58.2373\">«action def»</text><text fill=\"#000000\" font-family=\"sans-serif\" font-size=\"12\" lengthAdjust=\"spacingAndGlyphs\" textLength=\"27\" x=\"59.5\" y=\"72.2061\">setX</text></a><text fill=\"#000000\" font-family=\"sans-serif\" font-size=\"14\" lengthAdjust=\"spacingAndGlyphs\" textLength=\"8\" x=\"21\" y=\"20.7969\">c</text><rect fill=\"#A80036\" height=\"12\" style=\"stroke: #FEFECE; stroke-width: 1.5;\" width=\"12\" x=\"19\" y=\"36.0986\"/><text fill=\"#000000\" font-family=\"sans-serif\" font-size=\"14\" lengthAdjust=\"spacingAndGlyphs\" textLength=\"38\" x=\"53\" y=\"20.7969\">newX</text><rect fill=\"#A80036\" height=\"12\" style=\"stroke: #FEFECE; stroke-width: 1.5;\" width=\"12\" x=\"66\" y=\"36.0986\"/><!--MD5=[b515840bb3c7848f4ab6ca4d0d32e8da]\n",
       "@startuml\r\n",
       "skinparam ranksep 8\r\n",
       " \r\n",
       "rec def \"setX\" as E1 << <<(B,lemonchiffon) action def>> [[psysml:4d0e1ac7-0ffb-42d7-bf53-5a956dddc154 ]] {\r\n",
       "portin \"c\" as E2  [[psysml:7b0b3a1a-f848-44f8-8668-45f7327338b0 ]] \r\n",
       "portin \"newX\" as E3  [[psysml:5310235f-3728-4e86-87c8-1dd93d46f083 ]] \r\n",
       "}\r\n",
       "\r\n",
       "@enduml\r\n",
       "\n",
       "PlantUML version 1.2020.13(Sat Jun 13 12:26:38 UTC 2020)\n",
       "(EPL source distribution)\n",
       "Java Runtime: OpenJDK Runtime Environment\n",
       "JVM: OpenJDK 64-Bit Server VM\n",
       "Default Encoding: UTF-8\n",
       "Language: en\n",
       "Country: null\n",
       "--></g></svg>"
      ]
     },
     "execution_count": 34,
     "metadata": {},
     "output_type": "execute_result"
    }
   ],
   "source": [
    "%viz --style=\"PLANTUML\" --view=\"Action\" \"TextualRepresentationTest\""
   ]
  },
  {
   "cell_type": "code",
   "execution_count": 35,
   "id": "57546657",
   "metadata": {
    "execution": {
     "iopub.execute_input": "2021-08-04T06:26:40.931330Z",
     "iopub.status.busy": "2021-08-04T06:26:40.930921Z",
     "iopub.status.idle": "2021-08-04T06:26:40.957814Z",
     "shell.execute_reply": "2021-08-04T06:26:40.957538Z"
    }
   },
   "outputs": [
    {
     "data": {
      "image/svg+xml": [
       "<?xml version=\"1.0\" encoding=\"UTF-8\" standalone=\"no\"?><svg xmlns=\"http://www.w3.org/2000/svg\" xmlns:xlink=\"http://www.w3.org/1999/xlink\" contentScriptType=\"application/ecmascript\" contentStyleType=\"text/css\" height=\"352px\" preserveAspectRatio=\"none\" style=\"width:268px;height:352px;\" version=\"1.1\" viewBox=\"0 0 268 352\" width=\"268px\" zoomAndPan=\"magnify\"><defs><filter height=\"300%\" id=\"fku1v277czm1x\" width=\"300%\" x=\"-1\" y=\"-1\"><feGaussianBlur result=\"blurOut\" stdDeviation=\"2.0\"/><feColorMatrix in=\"blurOut\" result=\"blurOut2\" type=\"matrix\" values=\"0 0 0 0 0 0 0 0 0 0 0 0 0 0 0 0 0 0 .4 0\"/><feOffset dx=\"4.0\" dy=\"4.0\" in=\"blurOut2\" result=\"blurOut3\"/><feBlend in=\"SourceGraphic\" in2=\"blurOut3\" mode=\"normal\"/></filter></defs><g><!--MD5=[fbc87193dbaf4d95561dea2c320d4a47]\n",
       "cluster E1--><a href=\"psysml:7357ea5e-db14-480c-8643-46679caa3aca\" target=\"_top\" title=\"psysml:7357ea5e-db14-480c-8643-46679caa3aca\" xlink:actuate=\"onRequest\" xlink:href=\"psysml:7357ea5e-db14-480c-8643-46679caa3aca\" xlink:show=\"new\" xlink:title=\"psysml:7357ea5e-db14-480c-8643-46679caa3aca\" xlink:type=\"simple\"><polygon fill=\"#FFFFFF\" filter=\"url(#fku1v277czm1x)\" points=\"16,6,236,6,243,28.2969,246,28.2969,246,340,16,340,16,6\" style=\"stroke: #000000; stroke-width: 1.5;\"/><line style=\"stroke: #000000; stroke-width: 1.5;\" x1=\"16\" x2=\"243\" y1=\"28.2969\" y2=\"28.2969\"/><text fill=\"#000000\" font-family=\"sans-serif\" font-size=\"14\" font-weight=\"bold\" lengthAdjust=\"spacingAndGlyphs\" textLength=\"214\" x=\"20\" y=\"20.9951\">TextualRepresentationTest</text></a><!--MD5=[b4997ac47864f28c2f74865a473b2911]\n",
       "class E2--><a href=\"psysml:d8d89087-5f7a-40fd-9871-b52a02710321\" target=\"_top\" title=\"psysml:d8d89087-5f7a-40fd-9871-b52a02710321\" xlink:actuate=\"onRequest\" xlink:href=\"psysml:d8d89087-5f7a-40fd-9871-b52a02710321\" xlink:show=\"new\" xlink:title=\"psysml:d8d89087-5f7a-40fd-9871-b52a02710321\" xlink:type=\"simple\"><rect fill=\"#FEFECE\" filter=\"url(#fku1v277czm1x)\" height=\"52.8047\" id=\"E2\" style=\"stroke: #A80036; stroke-width: 1.5;\" width=\"50\" x=\"106\" y=\"164\"/><ellipse cx=\"125.5\" cy=\"180\" fill=\"#008000\" rx=\"11\" ry=\"11\" style=\"stroke: #A80036; stroke-width: 1.0;\"/><path d=\"M124.4063,180.375 L124.4063,184.0469 L126.0313,184.0469 Q127.2031,184.0469 127.6719,183.6563 Q128.1406,183.25 128.1406,182.25 Q128.1406,181.25 127.6406,180.8125 Q127.1563,180.375 126.0313,180.375 L124.4063,180.375 Z M124.4063,175.5469 L124.4063,178.4219 L126.0313,178.4219 Q126.9531,178.4219 127.3438,178.0938 Q127.75,177.75 127.75,177 Q127.75,176.2344 127.3438,175.8906 Q126.9375,175.5469 126.0313,175.5469 L124.4063,175.5469 Z M122.0313,173.5938 L126.0313,173.5938 Q128.0938,173.5938 129.1406,174.375 Q130.1875,175.1563 130.1875,176.7188 Q130.1875,177.9219 129.5625,178.5938 Q128.9531,179.2656 127.7656,179.375 Q129.1875,179.5156 129.9063,180.3281 Q130.625,181.1406 130.625,182.5938 Q130.625,184.3906 129.5469,185.2031 Q128.4688,186 126.0313,186 L122.0313,186 L122.0313,173.5938 Z \"/><text fill=\"#000000\" font-family=\"sans-serif\" font-size=\"12\" lengthAdjust=\"spacingAndGlyphs\" textLength=\"8\" x=\"140.5\" y=\"184.1543\">C</text><line style=\"stroke: #A80036; stroke-width: 1.5;\" x1=\"107\" x2=\"155\" y1=\"196\" y2=\"196\"/><text fill=\"#000000\" font-family=\"sans-serif\" font-size=\"11\" lengthAdjust=\"spacingAndGlyphs\" textLength=\"38\" x=\"112\" y=\"210.2104\">x: Real</text></a><!--MD5=[09b614a08d8cba4a07c9adeb5e0fee81]\n",
       "class E3--><a href=\"psysml:24b29db4-a520-4ed1-8de3-5d8963222bac\" target=\"_top\" title=\"psysml:24b29db4-a520-4ed1-8de3-5d8963222bac\" xlink:actuate=\"onRequest\" xlink:href=\"psysml:24b29db4-a520-4ed1-8de3-5d8963222bac\" xlink:show=\"new\" xlink:title=\"psysml:24b29db4-a520-4ed1-8de3-5d8963222bac\" xlink:type=\"simple\"><rect fill=\"#FEFECE\" filter=\"url(#fku1v277czm1x)\" height=\"45.9375\" id=\"E3\" rx=\"10\" ry=\"10\" style=\"stroke: #A80036; stroke-width: 1.5;\" width=\"147\" x=\"57.5\" y=\"278\"/><ellipse cx=\"72.5\" cy=\"296.9688\" fill=\"#FFA500\" rx=\"11\" ry=\"11\" style=\"stroke: #A80036; stroke-width: 1.0;\"/><path d=\"M68.375,298.8906 L68.375,291.0781 L70.8281,291.0781 L70.8281,299.5156 Q70.8281,300.4375 71.2969,300.9688 Q71.7813,301.5 72.6094,301.5 Q73.4531,301.5 73.9219,300.9688 Q74.3906,300.4375 74.3906,299.5156 L74.3906,291.0781 L76.8438,291.0781 L76.8438,298.8906 Q76.8438,301.4219 75.8438,302.5625 Q74.8438,303.7031 72.6094,303.7031 Q70.3906,303.7031 69.375,302.5625 Q68.375,301.4219 68.375,298.8906 Z \"/><text fill=\"#000000\" font-family=\"sans-serif\" font-size=\"12\" font-style=\"italic\" lengthAdjust=\"spacingAndGlyphs\" textLength=\"119\" x=\"84.5\" y=\"294.1387\">«assertConstraint»</text><text fill=\"#000000\" font-family=\"sans-serif\" font-size=\"12\" lengthAdjust=\"spacingAndGlyphs\" textLength=\"76\" x=\"106\" y=\"308.1074\">x_constraint</text><line style=\"stroke: #A80036; stroke-width: 1.5;\" x1=\"58.5\" x2=\"203.5\" y1=\"315.9375\" y2=\"315.9375\"/></a><!--MD5=[ebbe1d658d1005bcc118a6aa81145e00]\n",
       "class E4--><a href=\"psysml:4d0e1ac7-0ffb-42d7-bf53-5a956dddc154\" target=\"_top\" title=\"psysml:4d0e1ac7-0ffb-42d7-bf53-5a956dddc154\" xlink:actuate=\"onRequest\" xlink:href=\"psysml:4d0e1ac7-0ffb-42d7-bf53-5a956dddc154\" xlink:show=\"new\" xlink:title=\"psysml:4d0e1ac7-0ffb-42d7-bf53-5a956dddc154\" xlink:type=\"simple\"><rect fill=\"#FEFECE\" filter=\"url(#fku1v277czm1x)\" height=\"45.9375\" id=\"E4\" style=\"stroke: #A80036; stroke-width: 1.5;\" width=\"105\" x=\"78.5\" y=\"41\"/><ellipse cx=\"93.5\" cy=\"59.9688\" fill=\"#FFFACD\" rx=\"11\" ry=\"11\" style=\"stroke: #A80036; stroke-width: 1.0;\"/><path d=\"M92.4063,60.3438 L92.4063,64.0156 L94.0313,64.0156 Q95.2031,64.0156 95.6719,63.625 Q96.1406,63.2188 96.1406,62.2188 Q96.1406,61.2188 95.6406,60.7813 Q95.1563,60.3438 94.0313,60.3438 L92.4063,60.3438 Z M92.4063,55.5156 L92.4063,58.3906 L94.0313,58.3906 Q94.9531,58.3906 95.3438,58.0625 Q95.75,57.7188 95.75,56.9688 Q95.75,56.2031 95.3438,55.8594 Q94.9375,55.5156 94.0313,55.5156 L92.4063,55.5156 Z M90.0313,53.5625 L94.0313,53.5625 Q96.0938,53.5625 97.1406,54.3438 Q98.1875,55.125 98.1875,56.6875 Q98.1875,57.8906 97.5625,58.5625 Q96.9531,59.2344 95.7656,59.3438 Q97.1875,59.4844 97.9063,60.2969 Q98.625,61.1094 98.625,62.5625 Q98.625,64.3594 97.5469,65.1719 Q96.4688,65.9688 94.0313,65.9688 L90.0313,65.9688 L90.0313,53.5625 Z \"/><text fill=\"#000000\" font-family=\"sans-serif\" font-size=\"12\" font-style=\"italic\" lengthAdjust=\"spacingAndGlyphs\" textLength=\"77\" x=\"105.5\" y=\"57.1387\">«action def»</text><text fill=\"#000000\" font-family=\"sans-serif\" font-size=\"12\" lengthAdjust=\"spacingAndGlyphs\" textLength=\"27\" x=\"130.5\" y=\"71.1074\">setX</text><line style=\"stroke: #A80036; stroke-width: 1.5;\" x1=\"79.5\" x2=\"182.5\" y1=\"78.9375\" y2=\"78.9375\"/></a><!--MD5=[209b3feb70ccb6233bfe1053d122c12c]\n",
       "reverse link E2 to E3--><a href=\"psysml:92660e64-3893-4545-a353-67dbd76c0ff0\" target=\"_top\" title=\"psysml:92660e64-3893-4545-a353-67dbd76c0ff0\" xlink:actuate=\"onRequest\" xlink:href=\"psysml:92660e64-3893-4545-a353-67dbd76c0ff0\" xlink:show=\"new\" xlink:title=\"psysml:92660e64-3893-4545-a353-67dbd76c0ff0\" xlink:type=\"simple\"><path d=\"M131,230.53 C131,246.41 131,264.18 131,277.78 \" fill=\"none\" id=\"E2&lt;-E3\" style=\"stroke: #A80036; stroke-width: 1.0;\"/><polygon fill=\"#A80036\" points=\"131,217.21,127,223.21,131,229.21,135,223.21,131,217.21\" style=\"stroke: #A80036; stroke-width: 1.0;\"/><text fill=\"#000000\" font-family=\"sans-serif\" font-size=\"13\" lengthAdjust=\"spacingAndGlyphs\" textLength=\"7\" x=\"123.1031\" y=\"266.9999\">*</text></a><!--MD5=[ddeed8deb2209213b62e6cfabaa108b2]\n",
       "reverse link E4 to E2--><a href=\"psysml:7b0b3a1a-f848-44f8-8668-45f7327338b0\" target=\"_top\" title=\"psysml:7b0b3a1a-f848-44f8-8668-45f7327338b0\" xlink:actuate=\"onRequest\" xlink:href=\"psysml:7b0b3a1a-f848-44f8-8668-45f7327338b0\" xlink:show=\"new\" xlink:title=\"psysml:7b0b3a1a-f848-44f8-8668-45f7327338b0\" xlink:type=\"simple\"><path d=\"M131,100.31 C131,120.44 131,145.23 131,163.56 \" fill=\"none\" id=\"E4&lt;-E2\" style=\"stroke: #A80036; stroke-width: 1.0;\"/><polygon fill=\"#FFFFFF\" points=\"131,87.26,127,93.26,131,99.26,135,93.26,131,87.26\" style=\"stroke: #A80036; stroke-width: 1.0;\"/><text fill=\"#000000\" font-family=\"sans-serif\" font-size=\"13\" lengthAdjust=\"spacingAndGlyphs\" textLength=\"7\" x=\"132\" y=\"130.0669\">c</text></a><!--MD5=[fefa2ca6cd2489eda601a4b993dffa48]\n",
       "@startuml\r\n",
       " \r\n",
       "package \"TextualRepresentationTest\" as E1  [[psysml:7357ea5e-db14-480c-8643-46679caa3aca ]]  {\r\n",
       "comp def \"C\" as E2 << << (B,green) >> [[psysml:d8d89087-5f7a-40fd-9871-b52a02710321 ]] {\r\n",
       "x: Real\r\n",
       "}\r\n",
       "comp usage \"x_constraint\" as E3 << <<(U,orange) assertConstraint>> [[psysml:24b29db4-a520-4ed1-8de3-5d8963222bac ]] {\r\n",
       "}\r\n",
       "comp def \"setX\" as E4 << <<(B,lemonchiffon) action def>> [[psysml:4d0e1ac7-0ffb-42d7-bf53-5a956dddc154 ]] {\r\n",
       "}\r\n",
       "E2 *- - \"*\"E3 [[psysml:92660e64-3893-4545-a353-67dbd76c0ff0 ]] \r\n",
       "E4 o- - E2 [[psysml:7b0b3a1a-f848-44f8-8668-45f7327338b0 ]] : c\r\n",
       "}\r\n",
       "@enduml\r\n",
       "\n",
       "PlantUML version 1.2020.13(Sat Jun 13 12:26:38 UTC 2020)\n",
       "(EPL source distribution)\n",
       "Java Runtime: OpenJDK Runtime Environment\n",
       "JVM: OpenJDK 64-Bit Server VM\n",
       "Default Encoding: UTF-8\n",
       "Language: en\n",
       "Country: null\n",
       "--></g></svg>"
      ]
     },
     "execution_count": 35,
     "metadata": {},
     "output_type": "execute_result"
    }
   ],
   "source": [
    "%viz --style=\"PLANTUML\" --view=\"Sequence\" \"TextualRepresentationTest\""
   ]
  },
  {
   "cell_type": "code",
   "execution_count": 36,
   "id": "f35768dd",
   "metadata": {
    "execution": {
     "iopub.execute_input": "2021-08-04T06:26:41.008051Z",
     "iopub.status.busy": "2021-08-04T06:26:41.007646Z",
     "iopub.status.idle": "2021-08-04T06:26:41.038421Z",
     "shell.execute_reply": "2021-08-04T06:26:41.038060Z"
    }
   },
   "outputs": [
    {
     "data": {
      "image/svg+xml": [
       "<?xml version=\"1.0\" encoding=\"UTF-8\" standalone=\"no\"?><svg xmlns=\"http://www.w3.org/2000/svg\" xmlns:xlink=\"http://www.w3.org/1999/xlink\" contentScriptType=\"application/ecmascript\" contentStyleType=\"text/css\" height=\"238px\" preserveAspectRatio=\"none\" style=\"width:371px;height:238px;\" version=\"1.1\" viewBox=\"0 0 371 238\" width=\"371px\" zoomAndPan=\"magnify\"><defs><filter height=\"300%\" id=\"f7oyz1hrcdw04\" width=\"300%\" x=\"-1\" y=\"-1\"><feGaussianBlur result=\"blurOut\" stdDeviation=\"2.0\"/><feColorMatrix in=\"blurOut\" result=\"blurOut2\" type=\"matrix\" values=\"0 0 0 0 0 0 0 0 0 0 0 0 0 0 0 0 0 0 .4 0\"/><feOffset dx=\"4.0\" dy=\"4.0\" in=\"blurOut2\" result=\"blurOut3\"/><feBlend in=\"SourceGraphic\" in2=\"blurOut3\" mode=\"normal\"/></filter></defs><g><!--MD5=[fbc87193dbaf4d95561dea2c320d4a47]\n",
       "cluster E1--><a href=\"psysml:7357ea5e-db14-480c-8643-46679caa3aca\" target=\"_top\" title=\"psysml:7357ea5e-db14-480c-8643-46679caa3aca\" xlink:actuate=\"onRequest\" xlink:href=\"psysml:7357ea5e-db14-480c-8643-46679caa3aca\" xlink:show=\"new\" xlink:title=\"psysml:7357ea5e-db14-480c-8643-46679caa3aca\" xlink:type=\"simple\"><polygon fill=\"#FFFFFF\" filter=\"url(#f7oyz1hrcdw04)\" points=\"16,6,236,6,243,28.2969,349,28.2969,349,226.5,16,226.5,16,6\" style=\"stroke: #000000; stroke-width: 1.5;\"/><line style=\"stroke: #000000; stroke-width: 1.5;\" x1=\"16\" x2=\"243\" y1=\"28.2969\" y2=\"28.2969\"/><text fill=\"#000000\" font-family=\"sans-serif\" font-size=\"14\" font-weight=\"bold\" lengthAdjust=\"spacingAndGlyphs\" textLength=\"214\" x=\"20\" y=\"20.9951\">TextualRepresentationTest</text></a><!--MD5=[f6df4d0ebaf0b5dfb2ced0ae5af7c670]\n",
       "cluster E4--><a href=\"psysml:4d0e1ac7-0ffb-42d7-bf53-5a956dddc154\" target=\"_top\" title=\"psysml:4d0e1ac7-0ffb-42d7-bf53-5a956dddc154\" xlink:actuate=\"onRequest\" xlink:href=\"psysml:4d0e1ac7-0ffb-42d7-bf53-5a956dddc154\" xlink:show=\"new\" xlink:title=\"psysml:4d0e1ac7-0ffb-42d7-bf53-5a956dddc154\" xlink:type=\"simple\"><rect fill=\"#FFFFFF\" filter=\"url(#f7oyz1hrcdw04)\" height=\"143\" id=\"E4\" style=\"stroke: #A80036; stroke-width: 1.5;\" width=\"132\" x=\"201\" y=\"67.5\"/><rect fill=\"#FEFECE\" height=\"37.9375\" style=\"stroke: #A80036; stroke-width: 1.5;\" width=\"132\" x=\"201\" y=\"67.5\"/><text fill=\"#000000\" font-family=\"sans-serif\" font-size=\"12\" font-style=\"italic\" lengthAdjust=\"spacingAndGlyphs\" textLength=\"77\" x=\"228.5\" y=\"83.6387\">«action def»</text><text fill=\"#000000\" font-family=\"sans-serif\" font-size=\"12\" lengthAdjust=\"spacingAndGlyphs\" textLength=\"27\" x=\"253.5\" y=\"97.6074\">setX</text></a><!--MD5=[b4997ac47864f28c2f74865a473b2911]\n",
       "class E2--><a href=\"psysml:d8d89087-5f7a-40fd-9871-b52a02710321\" target=\"_top\" title=\"psysml:d8d89087-5f7a-40fd-9871-b52a02710321\" xlink:actuate=\"onRequest\" xlink:href=\"psysml:d8d89087-5f7a-40fd-9871-b52a02710321\" xlink:show=\"new\" xlink:title=\"psysml:d8d89087-5f7a-40fd-9871-b52a02710321\" xlink:type=\"simple\"><rect fill=\"#FEFECE\" filter=\"url(#f7oyz1hrcdw04)\" height=\"52.8047\" id=\"E2\" style=\"stroke: #A80036; stroke-width: 1.5;\" width=\"50\" x=\"81\" y=\"41\"/><ellipse cx=\"100.5\" cy=\"57\" fill=\"#008000\" rx=\"11\" ry=\"11\" style=\"stroke: #A80036; stroke-width: 1.0;\"/><path d=\"M99.4063,57.375 L99.4063,61.0469 L101.0313,61.0469 Q102.2031,61.0469 102.6719,60.6563 Q103.1406,60.25 103.1406,59.25 Q103.1406,58.25 102.6406,57.8125 Q102.1563,57.375 101.0313,57.375 L99.4063,57.375 Z M99.4063,52.5469 L99.4063,55.4219 L101.0313,55.4219 Q101.9531,55.4219 102.3438,55.0938 Q102.75,54.75 102.75,54 Q102.75,53.2344 102.3438,52.8906 Q101.9375,52.5469 101.0313,52.5469 L99.4063,52.5469 Z M97.0313,50.5938 L101.0313,50.5938 Q103.0938,50.5938 104.1406,51.375 Q105.1875,52.1563 105.1875,53.7188 Q105.1875,54.9219 104.5625,55.5938 Q103.9531,56.2656 102.7656,56.375 Q104.1875,56.5156 104.9063,57.3281 Q105.625,58.1406 105.625,59.5938 Q105.625,61.3906 104.5469,62.2031 Q103.4688,63 101.0313,63 L97.0313,63 L97.0313,50.5938 Z \"/><text fill=\"#000000\" font-family=\"sans-serif\" font-size=\"12\" lengthAdjust=\"spacingAndGlyphs\" textLength=\"8\" x=\"115.5\" y=\"61.1543\">C</text><line style=\"stroke: #A80036; stroke-width: 1.5;\" x1=\"82\" x2=\"130\" y1=\"73\" y2=\"73\"/><text fill=\"#000000\" font-family=\"sans-serif\" font-size=\"11\" lengthAdjust=\"spacingAndGlyphs\" textLength=\"38\" x=\"87\" y=\"87.2104\">x: Real</text></a><!--MD5=[09b614a08d8cba4a07c9adeb5e0fee81]\n",
       "class E3--><a href=\"psysml:24b29db4-a520-4ed1-8de3-5d8963222bac\" target=\"_top\" title=\"psysml:24b29db4-a520-4ed1-8de3-5d8963222bac\" xlink:actuate=\"onRequest\" xlink:href=\"psysml:24b29db4-a520-4ed1-8de3-5d8963222bac\" xlink:show=\"new\" xlink:title=\"psysml:24b29db4-a520-4ed1-8de3-5d8963222bac\" xlink:type=\"simple\"><rect fill=\"#FEFECE\" filter=\"url(#f7oyz1hrcdw04)\" height=\"45.9375\" id=\"E3\" rx=\"10\" ry=\"10\" style=\"stroke: #A80036; stroke-width: 1.5;\" width=\"147\" x=\"32.5\" y=\"154\"/><ellipse cx=\"47.5\" cy=\"172.9688\" fill=\"#FFA500\" rx=\"11\" ry=\"11\" style=\"stroke: #A80036; stroke-width: 1.0;\"/><path d=\"M43.375,174.8906 L43.375,167.0781 L45.8281,167.0781 L45.8281,175.5156 Q45.8281,176.4375 46.2969,176.9688 Q46.7813,177.5 47.6094,177.5 Q48.4531,177.5 48.9219,176.9688 Q49.3906,176.4375 49.3906,175.5156 L49.3906,167.0781 L51.8438,167.0781 L51.8438,174.8906 Q51.8438,177.4219 50.8438,178.5625 Q49.8438,179.7031 47.6094,179.7031 Q45.3906,179.7031 44.375,178.5625 Q43.375,177.4219 43.375,174.8906 Z \"/><text fill=\"#000000\" font-family=\"sans-serif\" font-size=\"12\" font-style=\"italic\" lengthAdjust=\"spacingAndGlyphs\" textLength=\"119\" x=\"59.5\" y=\"170.1387\">«assertConstraint»</text><text fill=\"#000000\" font-family=\"sans-serif\" font-size=\"12\" lengthAdjust=\"spacingAndGlyphs\" textLength=\"76\" x=\"81\" y=\"184.1074\">x_constraint</text><line style=\"stroke: #A80036; stroke-width: 1.5;\" x1=\"33.5\" x2=\"178.5\" y1=\"191.9375\" y2=\"191.9375\"/></a><text fill=\"#000000\" font-family=\"sans-serif\" font-size=\"14\" lengthAdjust=\"spacingAndGlyphs\" textLength=\"8\" x=\"215\" y=\"46.1982\">c</text><rect fill=\"#A80036\" height=\"12\" style=\"stroke: #FEFECE; stroke-width: 1.5;\" width=\"12\" x=\"213\" y=\"61.5\"/><text fill=\"#000000\" font-family=\"sans-serif\" font-size=\"14\" lengthAdjust=\"spacingAndGlyphs\" textLength=\"38\" x=\"247\" y=\"46.1982\">newX</text><rect fill=\"#A80036\" height=\"12\" style=\"stroke: #FEFECE; stroke-width: 1.5;\" width=\"12\" x=\"260\" y=\"61.5\"/><!--MD5=[209b3feb70ccb6233bfe1053d122c12c]\n",
       "reverse link E2 to E3--><a href=\"psysml:92660e64-3893-4545-a353-67dbd76c0ff0\" target=\"_top\" title=\"psysml:92660e64-3893-4545-a353-67dbd76c0ff0\" xlink:actuate=\"onRequest\" xlink:href=\"psysml:92660e64-3893-4545-a353-67dbd76c0ff0\" xlink:show=\"new\" xlink:title=\"psysml:92660e64-3893-4545-a353-67dbd76c0ff0\" xlink:type=\"simple\"><path d=\"M106,107.34 C106,122.93 106,140.35 106,153.74 \" fill=\"none\" id=\"E2&lt;-E3\" style=\"stroke: #A80036; stroke-width: 1.0;\"/><polygon fill=\"#A80036\" points=\"106,94.25,102,100.25,106,106.25,110,100.25,106,94.25\" style=\"stroke: #A80036; stroke-width: 1.0;\"/><text fill=\"#000000\" font-family=\"sans-serif\" font-size=\"13\" lengthAdjust=\"spacingAndGlyphs\" textLength=\"7\" x=\"98.1031\" y=\"142.9497\">*</text></a><!--MD5=[6824414e146c917a319f3fd2856ea23f]\n",
       "@startuml\r\n",
       " \r\n",
       "package \"TextualRepresentationTest\" as E1  [[psysml:7357ea5e-db14-480c-8643-46679caa3aca ]]  {\r\n",
       "comp def \"C\" as E2 << << (B,green) >> [[psysml:d8d89087-5f7a-40fd-9871-b52a02710321 ]] {\r\n",
       "x: Real\r\n",
       "}\r\n",
       "comp usage \"x_constraint\" as E3 << <<(U,orange) assertConstraint>> [[psysml:24b29db4-a520-4ed1-8de3-5d8963222bac ]] {\r\n",
       "}\r\n",
       "rec def \"setX\" as E4 << <<(B,lemonchiffon) action def>> [[psysml:4d0e1ac7-0ffb-42d7-bf53-5a956dddc154 ]] {\r\n",
       "portin \"c\" as E5  [[psysml:7b0b3a1a-f848-44f8-8668-45f7327338b0 ]] \r\n",
       "portin \"newX\" as E6  [[psysml:5310235f-3728-4e86-87c8-1dd93d46f083 ]] \r\n",
       "}\r\n",
       "\r\n",
       "E2 *- - \"*\"E3 [[psysml:92660e64-3893-4545-a353-67dbd76c0ff0 ]] \r\n",
       "}\r\n",
       "@enduml\r\n",
       "\n",
       "PlantUML version 1.2020.13(Sat Jun 13 12:26:38 UTC 2020)\n",
       "(EPL source distribution)\n",
       "Java Runtime: OpenJDK Runtime Environment\n",
       "JVM: OpenJDK 64-Bit Server VM\n",
       "Default Encoding: UTF-8\n",
       "Language: en\n",
       "Country: null\n",
       "--></g></svg>"
      ]
     },
     "execution_count": 36,
     "metadata": {},
     "output_type": "execute_result"
    }
   ],
   "source": [
    "%viz --style=\"PLANTUML\" --view=\"MIXED\" \"TextualRepresentationTest\""
   ]
  },
  {
   "cell_type": "code",
   "execution_count": 37,
   "id": "bfb65f49",
   "metadata": {
    "execution": {
     "iopub.execute_input": "2021-08-04T06:26:41.088059Z",
     "iopub.status.busy": "2021-08-04T06:26:41.087650Z",
     "iopub.status.idle": "2021-08-04T06:26:41.121372Z",
     "shell.execute_reply": "2021-08-04T06:26:41.120451Z"
    }
   },
   "outputs": [
    {
     "data": {
      "image/svg+xml": [
       "<?xml version=\"1.0\" encoding=\"UTF-8\" standalone=\"no\"?><svg xmlns=\"http://www.w3.org/2000/svg\" xmlns:xlink=\"http://www.w3.org/1999/xlink\" contentScriptType=\"application/ecmascript\" contentStyleType=\"text/css\" height=\"261px\" preserveAspectRatio=\"none\" style=\"width:345px;height:261px;\" version=\"1.1\" viewBox=\"0 0 345 261\" width=\"345px\" zoomAndPan=\"magnify\"><defs/><g><!--MD5=[fbc87193dbaf4d95561dea2c320d4a47]\n",
       "cluster E1--><a href=\"psysml:7357ea5e-db14-480c-8643-46679caa3aca\" target=\"_top\" title=\"psysml:7357ea5e-db14-480c-8643-46679caa3aca\" xlink:actuate=\"onRequest\" xlink:href=\"psysml:7357ea5e-db14-480c-8643-46679caa3aca\" xlink:show=\"new\" xlink:title=\"psysml:7357ea5e-db14-480c-8643-46679caa3aca\" xlink:type=\"simple\"><polygon fill=\"#FFFFFF\" points=\"16,6,236,6,243,28.2969,323,28.2969,323,249.5,16,249.5,16,6\" style=\"stroke: #000000; stroke-width: 1.5;\"/><line style=\"stroke: #000000; stroke-width: 1.5;\" x1=\"16\" x2=\"243\" y1=\"28.2969\" y2=\"28.2969\"/><text fill=\"#000000\" font-family=\"sans-serif\" font-size=\"14\" font-weight=\"bold\" lengthAdjust=\"spacingAndGlyphs\" textLength=\"214\" x=\"20\" y=\"20.9951\">TextualRepresentationTest</text></a><!--MD5=[f6df4d0ebaf0b5dfb2ced0ae5af7c670]\n",
       "cluster E4--><a href=\"psysml:4d0e1ac7-0ffb-42d7-bf53-5a956dddc154\" target=\"_top\" title=\"psysml:4d0e1ac7-0ffb-42d7-bf53-5a956dddc154\" xlink:actuate=\"onRequest\" xlink:href=\"psysml:4d0e1ac7-0ffb-42d7-bf53-5a956dddc154\" xlink:show=\"new\" xlink:title=\"psysml:4d0e1ac7-0ffb-42d7-bf53-5a956dddc154\" xlink:type=\"simple\"><rect fill=\"#FFFFFF\" height=\"154.5\" id=\"E4\" style=\"stroke: #383838; stroke-width: 1.5;\" width=\"132\" x=\"175\" y=\"79\"/><rect fill=\"#F8F8F8\" height=\"37.9375\" style=\"stroke: #383838; stroke-width: 1.5;\" width=\"132\" x=\"175\" y=\"79\"/><text fill=\"#000000\" font-family=\"sans-serif\" font-size=\"12\" font-style=\"italic\" lengthAdjust=\"spacingAndGlyphs\" textLength=\"77\" x=\"202.5\" y=\"95.1387\">«action def»</text><text fill=\"#000000\" font-family=\"sans-serif\" font-size=\"12\" lengthAdjust=\"spacingAndGlyphs\" textLength=\"27\" x=\"227.5\" y=\"109.1074\">setX</text></a><!--MD5=[b4997ac47864f28c2f74865a473b2911]\n",
       "class E2--><a href=\"psysml:d8d89087-5f7a-40fd-9871-b52a02710321\" target=\"_top\" title=\"psysml:d8d89087-5f7a-40fd-9871-b52a02710321\" xlink:actuate=\"onRequest\" xlink:href=\"psysml:d8d89087-5f7a-40fd-9871-b52a02710321\" xlink:show=\"new\" xlink:title=\"psysml:d8d89087-5f7a-40fd-9871-b52a02710321\" xlink:type=\"simple\"><rect fill=\"#FFFFFF\" height=\"75.5469\" id=\"E2\" style=\"stroke: #383838; stroke-width: 1.5;\" width=\"67\" x=\"59.5\" y=\"41\"/><text fill=\"#000000\" font-family=\"sans-serif\" font-size=\"12\" font-style=\"italic\" lengthAdjust=\"spacingAndGlyphs\" textLength=\"65\" x=\"60.5\" y=\"57.1387\">«item def»</text><text fill=\"#000000\" font-family=\"sans-serif\" font-size=\"12\" lengthAdjust=\"spacingAndGlyphs\" textLength=\"8\" x=\"89\" y=\"71.1074\">C</text><line style=\"stroke: #383838; stroke-width: 1.5;\" x1=\"60.5\" x2=\"125.5\" y1=\"78.9375\" y2=\"78.9375\"/><text fill=\"#000000\" font-family=\"sans-serif\" font-size=\"11\" lengthAdjust=\"spacingAndGlyphs\" textLength=\"38\" x=\"65.5\" y=\"109.9526\">x: Real</text><line style=\"stroke: #383838; stroke-width: 1.0;\" x1=\"60.5\" x2=\"65.5\" y1=\"93.3398\" y2=\"93.3398\"/><text fill=\"#000000\" font-family=\"sans-serif\" font-size=\"11\" lengthAdjust=\"spacingAndGlyphs\" textLength=\"55\" x=\"65.5\" y=\"96.6479\">attributes</text><line style=\"stroke: #383838; stroke-width: 1.0;\" x1=\"120.5\" x2=\"125.5\" y1=\"93.3398\" y2=\"93.3398\"/></a><!--MD5=[09b614a08d8cba4a07c9adeb5e0fee81]\n",
       "class E3--><a href=\"psysml:24b29db4-a520-4ed1-8de3-5d8963222bac\" target=\"_top\" title=\"psysml:24b29db4-a520-4ed1-8de3-5d8963222bac\" xlink:actuate=\"onRequest\" xlink:href=\"psysml:24b29db4-a520-4ed1-8de3-5d8963222bac\" xlink:show=\"new\" xlink:title=\"psysml:24b29db4-a520-4ed1-8de3-5d8963222bac\" xlink:type=\"simple\"><rect fill=\"#FFFFFF\" height=\"45.9375\" id=\"E3\" rx=\"10\" ry=\"10\" style=\"stroke: #383838; stroke-width: 1.5;\" width=\"121\" x=\"32.5\" y=\"177\"/><text fill=\"#000000\" font-family=\"sans-serif\" font-size=\"12\" font-style=\"italic\" lengthAdjust=\"spacingAndGlyphs\" textLength=\"119\" x=\"33.5\" y=\"193.1387\">«assertConstraint»</text><text fill=\"#000000\" font-family=\"sans-serif\" font-size=\"12\" lengthAdjust=\"spacingAndGlyphs\" textLength=\"76\" x=\"55\" y=\"207.1074\">x_constraint</text><line style=\"stroke: #383838; stroke-width: 1.5;\" x1=\"33.5\" x2=\"152.5\" y1=\"214.9375\" y2=\"214.9375\"/></a><text fill=\"#000000\" font-family=\"sans-serif\" font-size=\"14\" lengthAdjust=\"spacingAndGlyphs\" textLength=\"8\" x=\"189\" y=\"57.6982\">c</text><rect fill=\"#383838\" height=\"12\" style=\"stroke: #F8F8F8; stroke-width: 1.5;\" width=\"12\" x=\"187\" y=\"73\"/><text fill=\"#000000\" font-family=\"sans-serif\" font-size=\"14\" lengthAdjust=\"spacingAndGlyphs\" textLength=\"38\" x=\"221\" y=\"57.6982\">newX</text><rect fill=\"#383838\" height=\"12\" style=\"stroke: #F8F8F8; stroke-width: 1.5;\" width=\"12\" x=\"234\" y=\"73\"/><!--MD5=[209b3feb70ccb6233bfe1053d122c12c]\n",
       "reverse link E2 to E3--><a href=\"psysml:92660e64-3893-4545-a353-67dbd76c0ff0\" target=\"_top\" title=\"psysml:92660e64-3893-4545-a353-67dbd76c0ff0\" xlink:actuate=\"onRequest\" xlink:href=\"psysml:92660e64-3893-4545-a353-67dbd76c0ff0\" xlink:show=\"new\" xlink:title=\"psysml:92660e64-3893-4545-a353-67dbd76c0ff0\" xlink:type=\"simple\"><path d=\"M93,130.34 C93,146.61 93,163.81 93,176.93 \" fill=\"none\" id=\"E2&lt;-E3\" style=\"stroke: #383838; stroke-width: 1.0;\"/><polygon fill=\"#383838\" points=\"93,117,89,123,93,129,97,123,93,117\" style=\"stroke: #383838; stroke-width: 1.0;\"/><text fill=\"#000000\" font-family=\"sans-serif\" font-size=\"13\" lengthAdjust=\"spacingAndGlyphs\" textLength=\"7\" x=\"85.0594\" y=\"165.8075\">*</text></a><!--MD5=[404bad20f2916c8e7f05d0d14d1167ef]\n",
       "@startuml\r\n",
       "skinparam monochrome true\r\n",
       "skinparam classbackgroundcolor white\r\n",
       "skinparam shadowing false\r\n",
       "skinparam wrapWidth 300\r\n",
       "hide circle\r\n",
       "\r\n",
       "package \"TextualRepresentationTest\" as E1  [[psysml:7357ea5e-db14-480c-8643-46679caa3aca ]]  {\r\n",
       "comp def \"C\" as E2  <<(T,blue) item def>> [[psysml:d8d89087-5f7a-40fd-9871-b52a02710321 ]] {\r\n",
       "- - attributes - -\r\n",
       "x: Real\r\n",
       "}\r\n",
       "comp usage \"x_constraint\" as E3  <<(T,blue) assertConstraint>> [[psysml:24b29db4-a520-4ed1-8de3-5d8963222bac ]] {\r\n",
       "}\r\n",
       "rec def \"setX\" as E4  <<(T,blue) action def>> [[psysml:4d0e1ac7-0ffb-42d7-bf53-5a956dddc154 ]] {\r\n",
       "portin \"c\" as E5  [[psysml:7b0b3a1a-f848-44f8-8668-45f7327338b0 ]] \r\n",
       "portin \"newX\" as E6  [[psysml:5310235f-3728-4e86-87c8-1dd93d46f083 ]] \r\n",
       "}\r\n",
       "\r\n",
       "E2 *- - \"*\"E3 [[psysml:92660e64-3893-4545-a353-67dbd76c0ff0 ]] \r\n",
       "}\r\n",
       "@enduml\r\n",
       "\n",
       "PlantUML version 1.2020.13(Sat Jun 13 12:26:38 UTC 2020)\n",
       "(EPL source distribution)\n",
       "Java Runtime: OpenJDK Runtime Environment\n",
       "JVM: OpenJDK 64-Bit Server VM\n",
       "Default Encoding: UTF-8\n",
       "Language: en\n",
       "Country: null\n",
       "--></g></svg>"
      ]
     },
     "execution_count": 37,
     "metadata": {},
     "output_type": "execute_result"
    }
   ],
   "source": [
    "%viz --style=\"DEFAULT\" --view=\"Default\" \"TextualRepresentationTest\""
   ]
  },
  {
   "cell_type": "code",
   "execution_count": 38,
   "id": "63615903",
   "metadata": {
    "execution": {
     "iopub.execute_input": "2021-08-04T06:26:41.170867Z",
     "iopub.status.busy": "2021-08-04T06:26:41.170618Z",
     "iopub.status.idle": "2021-08-04T06:26:41.198521Z",
     "shell.execute_reply": "2021-08-04T06:26:41.198178Z"
    }
   },
   "outputs": [
    {
     "data": {
      "image/svg+xml": [
       "<?xml version=\"1.0\" encoding=\"UTF-8\" standalone=\"no\"?><svg xmlns=\"http://www.w3.org/2000/svg\" xmlns:xlink=\"http://www.w3.org/1999/xlink\" contentScriptType=\"application/ecmascript\" contentStyleType=\"text/css\" height=\"375px\" preserveAspectRatio=\"none\" style=\"width:268px;height:375px;\" version=\"1.1\" viewBox=\"0 0 268 375\" width=\"268px\" zoomAndPan=\"magnify\"><defs/><g><!--MD5=[fbc87193dbaf4d95561dea2c320d4a47]\n",
       "cluster E1--><a href=\"psysml:7357ea5e-db14-480c-8643-46679caa3aca\" target=\"_top\" title=\"psysml:7357ea5e-db14-480c-8643-46679caa3aca\" xlink:actuate=\"onRequest\" xlink:href=\"psysml:7357ea5e-db14-480c-8643-46679caa3aca\" xlink:show=\"new\" xlink:title=\"psysml:7357ea5e-db14-480c-8643-46679caa3aca\" xlink:type=\"simple\"><polygon fill=\"#FFFFFF\" points=\"16,6,236,6,243,28.2969,246,28.2969,246,363,16,363,16,6\" style=\"stroke: #000000; stroke-width: 1.5;\"/><line style=\"stroke: #000000; stroke-width: 1.5;\" x1=\"16\" x2=\"243\" y1=\"28.2969\" y2=\"28.2969\"/><text fill=\"#000000\" font-family=\"sans-serif\" font-size=\"14\" font-weight=\"bold\" lengthAdjust=\"spacingAndGlyphs\" textLength=\"214\" x=\"20\" y=\"20.9951\">TextualRepresentationTest</text></a><!--MD5=[b4997ac47864f28c2f74865a473b2911]\n",
       "class E2--><a href=\"psysml:d8d89087-5f7a-40fd-9871-b52a02710321\" target=\"_top\" title=\"psysml:d8d89087-5f7a-40fd-9871-b52a02710321\" xlink:actuate=\"onRequest\" xlink:href=\"psysml:d8d89087-5f7a-40fd-9871-b52a02710321\" xlink:show=\"new\" xlink:title=\"psysml:d8d89087-5f7a-40fd-9871-b52a02710321\" xlink:type=\"simple\"><rect fill=\"#FFFFFF\" height=\"75.5469\" id=\"E2\" style=\"stroke: #383838; stroke-width: 1.5;\" width=\"67\" x=\"97.5\" y=\"164\"/><text fill=\"#000000\" font-family=\"sans-serif\" font-size=\"12\" font-style=\"italic\" lengthAdjust=\"spacingAndGlyphs\" textLength=\"65\" x=\"98.5\" y=\"180.1387\">«item def»</text><text fill=\"#000000\" font-family=\"sans-serif\" font-size=\"12\" lengthAdjust=\"spacingAndGlyphs\" textLength=\"8\" x=\"127\" y=\"194.1074\">C</text><line style=\"stroke: #383838; stroke-width: 1.5;\" x1=\"98.5\" x2=\"163.5\" y1=\"201.9375\" y2=\"201.9375\"/><text fill=\"#000000\" font-family=\"sans-serif\" font-size=\"11\" lengthAdjust=\"spacingAndGlyphs\" textLength=\"38\" x=\"103.5\" y=\"232.9526\">x: Real</text><line style=\"stroke: #383838; stroke-width: 1.0;\" x1=\"98.5\" x2=\"103.5\" y1=\"216.3398\" y2=\"216.3398\"/><text fill=\"#000000\" font-family=\"sans-serif\" font-size=\"11\" lengthAdjust=\"spacingAndGlyphs\" textLength=\"55\" x=\"103.5\" y=\"219.6479\">attributes</text><line style=\"stroke: #383838; stroke-width: 1.0;\" x1=\"158.5\" x2=\"163.5\" y1=\"216.3398\" y2=\"216.3398\"/></a><!--MD5=[09b614a08d8cba4a07c9adeb5e0fee81]\n",
       "class E3--><a href=\"psysml:24b29db4-a520-4ed1-8de3-5d8963222bac\" target=\"_top\" title=\"psysml:24b29db4-a520-4ed1-8de3-5d8963222bac\" xlink:actuate=\"onRequest\" xlink:href=\"psysml:24b29db4-a520-4ed1-8de3-5d8963222bac\" xlink:show=\"new\" xlink:title=\"psysml:24b29db4-a520-4ed1-8de3-5d8963222bac\" xlink:type=\"simple\"><rect fill=\"#FFFFFF\" height=\"45.9375\" id=\"E3\" rx=\"10\" ry=\"10\" style=\"stroke: #383838; stroke-width: 1.5;\" width=\"121\" x=\"70.5\" y=\"301\"/><text fill=\"#000000\" font-family=\"sans-serif\" font-size=\"12\" font-style=\"italic\" lengthAdjust=\"spacingAndGlyphs\" textLength=\"119\" x=\"71.5\" y=\"317.1387\">«assertConstraint»</text><text fill=\"#000000\" font-family=\"sans-serif\" font-size=\"12\" lengthAdjust=\"spacingAndGlyphs\" textLength=\"76\" x=\"93\" y=\"331.1074\">x_constraint</text><line style=\"stroke: #383838; stroke-width: 1.5;\" x1=\"71.5\" x2=\"190.5\" y1=\"338.9375\" y2=\"338.9375\"/></a><!--MD5=[ebbe1d658d1005bcc118a6aa81145e00]\n",
       "class E4--><a href=\"psysml:4d0e1ac7-0ffb-42d7-bf53-5a956dddc154\" target=\"_top\" title=\"psysml:4d0e1ac7-0ffb-42d7-bf53-5a956dddc154\" xlink:actuate=\"onRequest\" xlink:href=\"psysml:4d0e1ac7-0ffb-42d7-bf53-5a956dddc154\" xlink:show=\"new\" xlink:title=\"psysml:4d0e1ac7-0ffb-42d7-bf53-5a956dddc154\" xlink:type=\"simple\"><rect fill=\"#FFFFFF\" height=\"45.9375\" id=\"E4\" style=\"stroke: #383838; stroke-width: 1.5;\" width=\"79\" x=\"91.5\" y=\"41\"/><text fill=\"#000000\" font-family=\"sans-serif\" font-size=\"12\" font-style=\"italic\" lengthAdjust=\"spacingAndGlyphs\" textLength=\"77\" x=\"92.5\" y=\"57.1387\">«action def»</text><text fill=\"#000000\" font-family=\"sans-serif\" font-size=\"12\" lengthAdjust=\"spacingAndGlyphs\" textLength=\"27\" x=\"117.5\" y=\"71.1074\">setX</text><line style=\"stroke: #383838; stroke-width: 1.5;\" x1=\"92.5\" x2=\"169.5\" y1=\"78.9375\" y2=\"78.9375\"/></a><!--MD5=[209b3feb70ccb6233bfe1053d122c12c]\n",
       "reverse link E2 to E3--><a href=\"psysml:92660e64-3893-4545-a353-67dbd76c0ff0\" target=\"_top\" title=\"psysml:92660e64-3893-4545-a353-67dbd76c0ff0\" xlink:actuate=\"onRequest\" xlink:href=\"psysml:92660e64-3893-4545-a353-67dbd76c0ff0\" xlink:show=\"new\" xlink:title=\"psysml:92660e64-3893-4545-a353-67dbd76c0ff0\" xlink:type=\"simple\"><path d=\"M131,253.76 C131,270.17 131,287.52 131,300.75 \" fill=\"none\" id=\"E2&lt;-E3\" style=\"stroke: #383838; stroke-width: 1.0;\"/><polygon fill=\"#383838\" points=\"131,240.31,127,246.31,131,252.31,135,246.31,131,240.31\" style=\"stroke: #383838; stroke-width: 1.0;\"/><text fill=\"#000000\" font-family=\"sans-serif\" font-size=\"13\" lengthAdjust=\"spacingAndGlyphs\" textLength=\"7\" x=\"123.1031\" y=\"289.9622\">*</text></a><!--MD5=[ddeed8deb2209213b62e6cfabaa108b2]\n",
       "reverse link E4 to E2--><a href=\"psysml:7b0b3a1a-f848-44f8-8668-45f7327338b0\" target=\"_top\" title=\"psysml:7b0b3a1a-f848-44f8-8668-45f7327338b0\" xlink:actuate=\"onRequest\" xlink:href=\"psysml:7b0b3a1a-f848-44f8-8668-45f7327338b0\" xlink:show=\"new\" xlink:title=\"psysml:7b0b3a1a-f848-44f8-8668-45f7327338b0\" xlink:type=\"simple\"><path d=\"M131,100.42 C131,119.95 131,144.19 131,163.97 \" fill=\"none\" id=\"E4&lt;-E2\" style=\"stroke: #383838; stroke-width: 1.0;\"/><polygon fill=\"#FFFFFF\" points=\"131,87.15,127,93.15,131,99.15,135,93.15,131,87.15\" style=\"stroke: #383838; stroke-width: 1.0;\"/><text fill=\"#000000\" font-family=\"sans-serif\" font-size=\"13\" lengthAdjust=\"spacingAndGlyphs\" textLength=\"7\" x=\"132\" y=\"130.0669\">c</text></a><!--MD5=[b18f49cdea9664c9ca9116bd9228bc75]\n",
       "@startuml\r\n",
       "skinparam monochrome true\r\n",
       "skinparam classbackgroundcolor white\r\n",
       "skinparam shadowing false\r\n",
       "skinparam wrapWidth 300\r\n",
       "hide circle\r\n",
       "\r\n",
       "package \"TextualRepresentationTest\" as E1  [[psysml:7357ea5e-db14-480c-8643-46679caa3aca ]]  {\r\n",
       "comp def \"C\" as E2  <<(T,blue) item def>> [[psysml:d8d89087-5f7a-40fd-9871-b52a02710321 ]] {\r\n",
       "- - attributes - -\r\n",
       "x: Real\r\n",
       "}\r\n",
       "comp usage \"x_constraint\" as E3  <<(T,blue) assertConstraint>> [[psysml:24b29db4-a520-4ed1-8de3-5d8963222bac ]] {\r\n",
       "}\r\n",
       "comp def \"setX\" as E4  <<(T,blue) action def>> [[psysml:4d0e1ac7-0ffb-42d7-bf53-5a956dddc154 ]] {\r\n",
       "}\r\n",
       "E2 *- - \"*\"E3 [[psysml:92660e64-3893-4545-a353-67dbd76c0ff0 ]] \r\n",
       "E4 o- - E2 [[psysml:7b0b3a1a-f848-44f8-8668-45f7327338b0 ]] : c\r\n",
       "}\r\n",
       "@enduml\r\n",
       "\n",
       "PlantUML version 1.2020.13(Sat Jun 13 12:26:38 UTC 2020)\n",
       "(EPL source distribution)\n",
       "Java Runtime: OpenJDK Runtime Environment\n",
       "JVM: OpenJDK 64-Bit Server VM\n",
       "Default Encoding: UTF-8\n",
       "Language: en\n",
       "Country: null\n",
       "--></g></svg>"
      ]
     },
     "execution_count": 38,
     "metadata": {},
     "output_type": "execute_result"
    }
   ],
   "source": [
    "%viz --style=\"DEFAULT\" --view=\"Tree\" \"TextualRepresentationTest\""
   ]
  },
  {
   "cell_type": "code",
   "execution_count": 39,
   "id": "08f5e863",
   "metadata": {
    "execution": {
     "iopub.execute_input": "2021-08-04T06:26:41.248353Z",
     "iopub.status.busy": "2021-08-04T06:26:41.247936Z",
     "iopub.status.idle": "2021-08-04T06:26:41.252150Z",
     "shell.execute_reply": "2021-08-04T06:26:41.252465Z"
    }
   },
   "outputs": [
    {
     "data": {
      "image/svg+xml": [
       "<?xml version=\"1.0\" encoding=\"UTF-8\" standalone=\"no\"?><svg xmlns=\"http://www.w3.org/2000/svg\" xmlns:xlink=\"http://www.w3.org/1999/xlink\" contentScriptType=\"application/ecmascript\" contentStyleType=\"text/css\" height=\"12px\" preserveAspectRatio=\"none\" style=\"width:12px;height:12px;\" version=\"1.1\" viewBox=\"0 0 12 12\" width=\"12px\" zoomAndPan=\"magnify\"><defs/><g><!--MD5=[c5f280e076d0d61ccf4b0f27871bda1d]\n",
       "@startuml\r\n",
       "skinparam monochrome true\r\n",
       "skinparam classbackgroundcolor white\r\n",
       "skinparam shadowing false\r\n",
       "skinparam wrapWidth 300\r\n",
       "hide circle\r\n",
       "\r\n",
       "@enduml\r\n",
       "\n",
       "PlantUML version 1.2020.13(Sat Jun 13 12:26:38 UTC 2020)\n",
       "(EPL source distribution)\n",
       "Java Runtime: OpenJDK Runtime Environment\n",
       "JVM: OpenJDK 64-Bit Server VM\n",
       "Default Encoding: UTF-8\n",
       "Language: en\n",
       "Country: null\n",
       "--></g></svg>"
      ]
     },
     "execution_count": 39,
     "metadata": {},
     "output_type": "execute_result"
    }
   ],
   "source": [
    "%viz --style=\"DEFAULT\" --view=\"State\" \"TextualRepresentationTest\""
   ]
  },
  {
   "cell_type": "code",
   "execution_count": 40,
   "id": "d6c43968",
   "metadata": {
    "execution": {
     "iopub.execute_input": "2021-08-04T06:26:41.302576Z",
     "iopub.status.busy": "2021-08-04T06:26:41.302169Z",
     "iopub.status.idle": "2021-08-04T06:26:41.321854Z",
     "shell.execute_reply": "2021-08-04T06:26:41.321671Z"
    }
   },
   "outputs": [
    {
     "data": {
      "image/svg+xml": [
       "<?xml version=\"1.0\" encoding=\"UTF-8\" standalone=\"no\"?><svg xmlns=\"http://www.w3.org/2000/svg\" xmlns:xlink=\"http://www.w3.org/1999/xlink\" contentScriptType=\"application/ecmascript\" contentStyleType=\"text/css\" height=\"179px\" preserveAspectRatio=\"none\" style=\"width:284px;height:179px;\" version=\"1.1\" viewBox=\"0 0 284 179\" width=\"284px\" zoomAndPan=\"magnify\"><defs/><g><!--MD5=[fbc87193dbaf4d95561dea2c320d4a47]\n",
       "cluster E1--><a href=\"psysml:7357ea5e-db14-480c-8643-46679caa3aca\" target=\"_top\" title=\"psysml:7357ea5e-db14-480c-8643-46679caa3aca\" xlink:actuate=\"onRequest\" xlink:href=\"psysml:7357ea5e-db14-480c-8643-46679caa3aca\" xlink:show=\"new\" xlink:title=\"psysml:7357ea5e-db14-480c-8643-46679caa3aca\" xlink:type=\"simple\"><polygon fill=\"#FFFFFF\" points=\"16,6,236,6,243,28.2969,262,28.2969,262,167,16,167,16,6\" style=\"stroke: #000000; stroke-width: 1.5;\"/><line style=\"stroke: #000000; stroke-width: 1.5;\" x1=\"16\" x2=\"243\" y1=\"28.2969\" y2=\"28.2969\"/><text fill=\"#000000\" font-family=\"sans-serif\" font-size=\"14\" font-weight=\"bold\" lengthAdjust=\"spacingAndGlyphs\" textLength=\"214\" x=\"20\" y=\"20.9951\">TextualRepresentationTest</text></a><!--MD5=[d5e69f78d87373223dbae638b30a9c99]\n",
       "cluster E3--><a href=\"psysml:4d0e1ac7-0ffb-42d7-bf53-5a956dddc154\" target=\"_top\" title=\"psysml:4d0e1ac7-0ffb-42d7-bf53-5a956dddc154\" xlink:actuate=\"onRequest\" xlink:href=\"psysml:4d0e1ac7-0ffb-42d7-bf53-5a956dddc154\" xlink:show=\"new\" xlink:title=\"psysml:4d0e1ac7-0ffb-42d7-bf53-5a956dddc154\" xlink:type=\"simple\"><rect fill=\"#FFFFFF\" height=\"88.5\" id=\"E3\" style=\"stroke: #383838; stroke-width: 1.5;\" width=\"96\" x=\"120.5\" y=\"62.5\"/><rect fill=\"#F8F8F8\" height=\"37.9375\" style=\"stroke: #383838; stroke-width: 1.5;\" width=\"96\" x=\"120.5\" y=\"62.5\"/><text fill=\"#000000\" font-family=\"sans-serif\" font-size=\"12\" font-style=\"italic\" lengthAdjust=\"spacingAndGlyphs\" textLength=\"77\" x=\"130\" y=\"78.6387\">«action def»</text><text fill=\"#000000\" font-family=\"sans-serif\" font-size=\"12\" lengthAdjust=\"spacingAndGlyphs\" textLength=\"27\" x=\"155\" y=\"92.6074\">setX</text></a><g id=\"E1.E2\"><a href=\"psysml:d8d89087-5f7a-40fd-9871-b52a02710321\" target=\"_top\" title=\"psysml:d8d89087-5f7a-40fd-9871-b52a02710321\" xlink:actuate=\"onRequest\" xlink:href=\"psysml:d8d89087-5f7a-40fd-9871-b52a02710321\" xlink:show=\"new\" xlink:title=\"psysml:d8d89087-5f7a-40fd-9871-b52a02710321\" xlink:type=\"simple\"><rect fill=\"#FFFFFF\" height=\"42.9375\" id=\"E2\" style=\"stroke: #383838; stroke-width: 1.5;\" width=\"72\" x=\"32\" y=\"41\"/><rect fill=\"#F8F8F8\" height=\"37.9375\" style=\"stroke: #383838; stroke-width: 1.5;\" width=\"72\" x=\"32\" y=\"41\"/><text fill=\"#000000\" font-family=\"sans-serif\" font-size=\"12\" font-style=\"italic\" lengthAdjust=\"spacingAndGlyphs\" textLength=\"65\" x=\"35.5\" y=\"57.1387\">«item def»</text><text fill=\"#000000\" font-family=\"sans-serif\" font-size=\"12\" lengthAdjust=\"spacingAndGlyphs\" textLength=\"8\" x=\"64\" y=\"71.1074\">C</text></a></g><text fill=\"#000000\" font-family=\"sans-serif\" font-size=\"14\" lengthAdjust=\"spacingAndGlyphs\" textLength=\"8\" x=\"141\" y=\"41.1982\">c</text><rect fill=\"#383838\" height=\"12\" style=\"stroke: #F8F8F8; stroke-width: 1.5;\" width=\"12\" x=\"139\" y=\"56.5\"/><text fill=\"#000000\" font-family=\"sans-serif\" font-size=\"14\" lengthAdjust=\"spacingAndGlyphs\" textLength=\"38\" x=\"173\" y=\"41.1982\">newX</text><rect fill=\"#383838\" height=\"12\" style=\"stroke: #F8F8F8; stroke-width: 1.5;\" width=\"12\" x=\"186\" y=\"56.5\"/><!--MD5=[d3f657c8cdb6dcabcf89d7439b0fb90d]\n",
       "@startuml\r\n",
       "skinparam ranksep 10\r\n",
       "skinparam rectangle {\r\n",
       " backgroundColor<<block>> LightGreen\r\n",
       "}\r\n",
       "skinparam monochrome true\r\n",
       "skinparam classbackgroundcolor white\r\n",
       "skinparam shadowing false\r\n",
       "skinparam wrapWidth 300\r\n",
       "hide circle\r\n",
       "\r\n",
       "package \"TextualRepresentationTest\" as E1  [[psysml:7357ea5e-db14-480c-8643-46679caa3aca ]]  {\r\n",
       "def \"C\" as E2  <<(T,blue) item def>> [[psysml:d8d89087-5f7a-40fd-9871-b52a02710321 ]] \r\n",
       "rec def \"setX\" as E3  <<(T,blue) action def>> [[psysml:4d0e1ac7-0ffb-42d7-bf53-5a956dddc154 ]] {\r\n",
       "portin \"c\" as E4  [[psysml:7b0b3a1a-f848-44f8-8668-45f7327338b0 ]] \r\n",
       "portin \"newX\" as E5  [[psysml:5310235f-3728-4e86-87c8-1dd93d46f083 ]] \r\n",
       "}\r\n",
       "\r\n",
       "}\r\n",
       "@enduml\r\n",
       "\n",
       "PlantUML version 1.2020.13(Sat Jun 13 12:26:38 UTC 2020)\n",
       "(EPL source distribution)\n",
       "Java Runtime: OpenJDK Runtime Environment\n",
       "JVM: OpenJDK 64-Bit Server VM\n",
       "Default Encoding: UTF-8\n",
       "Language: en\n",
       "Country: null\n",
       "--></g></svg>"
      ]
     },
     "execution_count": 40,
     "metadata": {},
     "output_type": "execute_result"
    }
   ],
   "source": [
    "%viz --style=\"DEFAULT\" --view=\"Interconnection\" \"TextualRepresentationTest\""
   ]
  },
  {
   "cell_type": "code",
   "execution_count": 41,
   "id": "42353975",
   "metadata": {
    "execution": {
     "iopub.execute_input": "2021-08-04T06:26:41.372043Z",
     "iopub.status.busy": "2021-08-04T06:26:41.371611Z",
     "iopub.status.idle": "2021-08-04T06:26:41.383968Z",
     "shell.execute_reply": "2021-08-04T06:26:41.383775Z"
    }
   },
   "outputs": [
    {
     "data": {
      "image/svg+xml": [
       "<?xml version=\"1.0\" encoding=\"UTF-8\" standalone=\"no\"?><svg xmlns=\"http://www.w3.org/2000/svg\" xmlns:xlink=\"http://www.w3.org/1999/xlink\" contentScriptType=\"application/ecmascript\" contentStyleType=\"text/css\" height=\"126px\" preserveAspectRatio=\"none\" style=\"width:150px;height:126px;\" version=\"1.1\" viewBox=\"0 0 150 126\" width=\"150px\" zoomAndPan=\"magnify\"><defs/><g><!--MD5=[fbc87193dbaf4d95561dea2c320d4a47]\n",
       "cluster E1--><a href=\"psysml:4d0e1ac7-0ffb-42d7-bf53-5a956dddc154\" target=\"_top\" title=\"psysml:4d0e1ac7-0ffb-42d7-bf53-5a956dddc154\" xlink:actuate=\"onRequest\" xlink:href=\"psysml:4d0e1ac7-0ffb-42d7-bf53-5a956dddc154\" xlink:show=\"new\" xlink:title=\"psysml:4d0e1ac7-0ffb-42d7-bf53-5a956dddc154\" xlink:type=\"simple\"><rect fill=\"#FFFFFF\" height=\"73\" id=\"E1\" style=\"stroke: #383838; stroke-width: 1.5;\" width=\"132\" x=\"7\" y=\"42.0986\"/><rect fill=\"#F8F8F8\" height=\"37.9375\" style=\"stroke: #383838; stroke-width: 1.5;\" width=\"132\" x=\"7\" y=\"42.0986\"/><text fill=\"#000000\" font-family=\"sans-serif\" font-size=\"12\" font-style=\"italic\" lengthAdjust=\"spacingAndGlyphs\" textLength=\"77\" x=\"34.5\" y=\"58.2373\">«action def»</text><text fill=\"#000000\" font-family=\"sans-serif\" font-size=\"12\" lengthAdjust=\"spacingAndGlyphs\" textLength=\"27\" x=\"59.5\" y=\"72.2061\">setX</text></a><text fill=\"#000000\" font-family=\"sans-serif\" font-size=\"14\" lengthAdjust=\"spacingAndGlyphs\" textLength=\"8\" x=\"21\" y=\"20.7969\">c</text><rect fill=\"#383838\" height=\"12\" style=\"stroke: #F8F8F8; stroke-width: 1.5;\" width=\"12\" x=\"19\" y=\"36.0986\"/><text fill=\"#000000\" font-family=\"sans-serif\" font-size=\"14\" lengthAdjust=\"spacingAndGlyphs\" textLength=\"38\" x=\"53\" y=\"20.7969\">newX</text><rect fill=\"#383838\" height=\"12\" style=\"stroke: #F8F8F8; stroke-width: 1.5;\" width=\"12\" x=\"66\" y=\"36.0986\"/><!--MD5=[a58d384c16799de2416828fb997efe84]\n",
       "@startuml\r\n",
       "skinparam ranksep 8\r\n",
       "skinparam monochrome true\r\n",
       "skinparam classbackgroundcolor white\r\n",
       "skinparam shadowing false\r\n",
       "skinparam wrapWidth 300\r\n",
       "hide circle\r\n",
       "\r\n",
       "rec def \"setX\" as E1  <<(T,blue) action def>> [[psysml:4d0e1ac7-0ffb-42d7-bf53-5a956dddc154 ]] {\r\n",
       "portin \"c\" as E2  [[psysml:7b0b3a1a-f848-44f8-8668-45f7327338b0 ]] \r\n",
       "portin \"newX\" as E3  [[psysml:5310235f-3728-4e86-87c8-1dd93d46f083 ]] \r\n",
       "}\r\n",
       "\r\n",
       "@enduml\r\n",
       "\n",
       "PlantUML version 1.2020.13(Sat Jun 13 12:26:38 UTC 2020)\n",
       "(EPL source distribution)\n",
       "Java Runtime: OpenJDK Runtime Environment\n",
       "JVM: OpenJDK 64-Bit Server VM\n",
       "Default Encoding: UTF-8\n",
       "Language: en\n",
       "Country: null\n",
       "--></g></svg>"
      ]
     },
     "execution_count": 41,
     "metadata": {},
     "output_type": "execute_result"
    }
   ],
   "source": [
    "%viz --style=\"DEFAULT\" --view=\"Action\" \"TextualRepresentationTest\""
   ]
  },
  {
   "cell_type": "code",
   "execution_count": 42,
   "id": "44ea273b",
   "metadata": {
    "execution": {
     "iopub.execute_input": "2021-08-04T06:26:41.434223Z",
     "iopub.status.busy": "2021-08-04T06:26:41.433821Z",
     "iopub.status.idle": "2021-08-04T06:26:41.462424Z",
     "shell.execute_reply": "2021-08-04T06:26:41.461244Z"
    }
   },
   "outputs": [
    {
     "data": {
      "image/svg+xml": [
       "<?xml version=\"1.0\" encoding=\"UTF-8\" standalone=\"no\"?><svg xmlns=\"http://www.w3.org/2000/svg\" xmlns:xlink=\"http://www.w3.org/1999/xlink\" contentScriptType=\"application/ecmascript\" contentStyleType=\"text/css\" height=\"375px\" preserveAspectRatio=\"none\" style=\"width:268px;height:375px;\" version=\"1.1\" viewBox=\"0 0 268 375\" width=\"268px\" zoomAndPan=\"magnify\"><defs/><g><!--MD5=[fbc87193dbaf4d95561dea2c320d4a47]\n",
       "cluster E1--><a href=\"psysml:7357ea5e-db14-480c-8643-46679caa3aca\" target=\"_top\" title=\"psysml:7357ea5e-db14-480c-8643-46679caa3aca\" xlink:actuate=\"onRequest\" xlink:href=\"psysml:7357ea5e-db14-480c-8643-46679caa3aca\" xlink:show=\"new\" xlink:title=\"psysml:7357ea5e-db14-480c-8643-46679caa3aca\" xlink:type=\"simple\"><polygon fill=\"#FFFFFF\" points=\"16,6,236,6,243,28.2969,246,28.2969,246,363,16,363,16,6\" style=\"stroke: #000000; stroke-width: 1.5;\"/><line style=\"stroke: #000000; stroke-width: 1.5;\" x1=\"16\" x2=\"243\" y1=\"28.2969\" y2=\"28.2969\"/><text fill=\"#000000\" font-family=\"sans-serif\" font-size=\"14\" font-weight=\"bold\" lengthAdjust=\"spacingAndGlyphs\" textLength=\"214\" x=\"20\" y=\"20.9951\">TextualRepresentationTest</text></a><!--MD5=[b4997ac47864f28c2f74865a473b2911]\n",
       "class E2--><a href=\"psysml:d8d89087-5f7a-40fd-9871-b52a02710321\" target=\"_top\" title=\"psysml:d8d89087-5f7a-40fd-9871-b52a02710321\" xlink:actuate=\"onRequest\" xlink:href=\"psysml:d8d89087-5f7a-40fd-9871-b52a02710321\" xlink:show=\"new\" xlink:title=\"psysml:d8d89087-5f7a-40fd-9871-b52a02710321\" xlink:type=\"simple\"><rect fill=\"#FFFFFF\" height=\"75.5469\" id=\"E2\" style=\"stroke: #383838; stroke-width: 1.5;\" width=\"67\" x=\"97.5\" y=\"164\"/><text fill=\"#000000\" font-family=\"sans-serif\" font-size=\"12\" font-style=\"italic\" lengthAdjust=\"spacingAndGlyphs\" textLength=\"65\" x=\"98.5\" y=\"180.1387\">«item def»</text><text fill=\"#000000\" font-family=\"sans-serif\" font-size=\"12\" lengthAdjust=\"spacingAndGlyphs\" textLength=\"8\" x=\"127\" y=\"194.1074\">C</text><line style=\"stroke: #383838; stroke-width: 1.5;\" x1=\"98.5\" x2=\"163.5\" y1=\"201.9375\" y2=\"201.9375\"/><text fill=\"#000000\" font-family=\"sans-serif\" font-size=\"11\" lengthAdjust=\"spacingAndGlyphs\" textLength=\"38\" x=\"103.5\" y=\"232.9526\">x: Real</text><line style=\"stroke: #383838; stroke-width: 1.0;\" x1=\"98.5\" x2=\"103.5\" y1=\"216.3398\" y2=\"216.3398\"/><text fill=\"#000000\" font-family=\"sans-serif\" font-size=\"11\" lengthAdjust=\"spacingAndGlyphs\" textLength=\"55\" x=\"103.5\" y=\"219.6479\">attributes</text><line style=\"stroke: #383838; stroke-width: 1.0;\" x1=\"158.5\" x2=\"163.5\" y1=\"216.3398\" y2=\"216.3398\"/></a><!--MD5=[09b614a08d8cba4a07c9adeb5e0fee81]\n",
       "class E3--><a href=\"psysml:24b29db4-a520-4ed1-8de3-5d8963222bac\" target=\"_top\" title=\"psysml:24b29db4-a520-4ed1-8de3-5d8963222bac\" xlink:actuate=\"onRequest\" xlink:href=\"psysml:24b29db4-a520-4ed1-8de3-5d8963222bac\" xlink:show=\"new\" xlink:title=\"psysml:24b29db4-a520-4ed1-8de3-5d8963222bac\" xlink:type=\"simple\"><rect fill=\"#FFFFFF\" height=\"45.9375\" id=\"E3\" rx=\"10\" ry=\"10\" style=\"stroke: #383838; stroke-width: 1.5;\" width=\"121\" x=\"70.5\" y=\"301\"/><text fill=\"#000000\" font-family=\"sans-serif\" font-size=\"12\" font-style=\"italic\" lengthAdjust=\"spacingAndGlyphs\" textLength=\"119\" x=\"71.5\" y=\"317.1387\">«assertConstraint»</text><text fill=\"#000000\" font-family=\"sans-serif\" font-size=\"12\" lengthAdjust=\"spacingAndGlyphs\" textLength=\"76\" x=\"93\" y=\"331.1074\">x_constraint</text><line style=\"stroke: #383838; stroke-width: 1.5;\" x1=\"71.5\" x2=\"190.5\" y1=\"338.9375\" y2=\"338.9375\"/></a><!--MD5=[ebbe1d658d1005bcc118a6aa81145e00]\n",
       "class E4--><a href=\"psysml:4d0e1ac7-0ffb-42d7-bf53-5a956dddc154\" target=\"_top\" title=\"psysml:4d0e1ac7-0ffb-42d7-bf53-5a956dddc154\" xlink:actuate=\"onRequest\" xlink:href=\"psysml:4d0e1ac7-0ffb-42d7-bf53-5a956dddc154\" xlink:show=\"new\" xlink:title=\"psysml:4d0e1ac7-0ffb-42d7-bf53-5a956dddc154\" xlink:type=\"simple\"><rect fill=\"#FFFFFF\" height=\"45.9375\" id=\"E4\" style=\"stroke: #383838; stroke-width: 1.5;\" width=\"79\" x=\"91.5\" y=\"41\"/><text fill=\"#000000\" font-family=\"sans-serif\" font-size=\"12\" font-style=\"italic\" lengthAdjust=\"spacingAndGlyphs\" textLength=\"77\" x=\"92.5\" y=\"57.1387\">«action def»</text><text fill=\"#000000\" font-family=\"sans-serif\" font-size=\"12\" lengthAdjust=\"spacingAndGlyphs\" textLength=\"27\" x=\"117.5\" y=\"71.1074\">setX</text><line style=\"stroke: #383838; stroke-width: 1.5;\" x1=\"92.5\" x2=\"169.5\" y1=\"78.9375\" y2=\"78.9375\"/></a><!--MD5=[209b3feb70ccb6233bfe1053d122c12c]\n",
       "reverse link E2 to E3--><a href=\"psysml:92660e64-3893-4545-a353-67dbd76c0ff0\" target=\"_top\" title=\"psysml:92660e64-3893-4545-a353-67dbd76c0ff0\" xlink:actuate=\"onRequest\" xlink:href=\"psysml:92660e64-3893-4545-a353-67dbd76c0ff0\" xlink:show=\"new\" xlink:title=\"psysml:92660e64-3893-4545-a353-67dbd76c0ff0\" xlink:type=\"simple\"><path d=\"M131,253.76 C131,270.17 131,287.52 131,300.75 \" fill=\"none\" id=\"E2&lt;-E3\" style=\"stroke: #383838; stroke-width: 1.0;\"/><polygon fill=\"#383838\" points=\"131,240.31,127,246.31,131,252.31,135,246.31,131,240.31\" style=\"stroke: #383838; stroke-width: 1.0;\"/><text fill=\"#000000\" font-family=\"sans-serif\" font-size=\"13\" lengthAdjust=\"spacingAndGlyphs\" textLength=\"7\" x=\"123.1031\" y=\"289.9622\">*</text></a><!--MD5=[ddeed8deb2209213b62e6cfabaa108b2]\n",
       "reverse link E4 to E2--><a href=\"psysml:7b0b3a1a-f848-44f8-8668-45f7327338b0\" target=\"_top\" title=\"psysml:7b0b3a1a-f848-44f8-8668-45f7327338b0\" xlink:actuate=\"onRequest\" xlink:href=\"psysml:7b0b3a1a-f848-44f8-8668-45f7327338b0\" xlink:show=\"new\" xlink:title=\"psysml:7b0b3a1a-f848-44f8-8668-45f7327338b0\" xlink:type=\"simple\"><path d=\"M131,100.42 C131,119.95 131,144.19 131,163.97 \" fill=\"none\" id=\"E4&lt;-E2\" style=\"stroke: #383838; stroke-width: 1.0;\"/><polygon fill=\"#FFFFFF\" points=\"131,87.15,127,93.15,131,99.15,135,93.15,131,87.15\" style=\"stroke: #383838; stroke-width: 1.0;\"/><text fill=\"#000000\" font-family=\"sans-serif\" font-size=\"13\" lengthAdjust=\"spacingAndGlyphs\" textLength=\"7\" x=\"132\" y=\"130.0669\">c</text></a><!--MD5=[b18f49cdea9664c9ca9116bd9228bc75]\n",
       "@startuml\r\n",
       "skinparam monochrome true\r\n",
       "skinparam classbackgroundcolor white\r\n",
       "skinparam shadowing false\r\n",
       "skinparam wrapWidth 300\r\n",
       "hide circle\r\n",
       "\r\n",
       "package \"TextualRepresentationTest\" as E1  [[psysml:7357ea5e-db14-480c-8643-46679caa3aca ]]  {\r\n",
       "comp def \"C\" as E2  <<(T,blue) item def>> [[psysml:d8d89087-5f7a-40fd-9871-b52a02710321 ]] {\r\n",
       "- - attributes - -\r\n",
       "x: Real\r\n",
       "}\r\n",
       "comp usage \"x_constraint\" as E3  <<(T,blue) assertConstraint>> [[psysml:24b29db4-a520-4ed1-8de3-5d8963222bac ]] {\r\n",
       "}\r\n",
       "comp def \"setX\" as E4  <<(T,blue) action def>> [[psysml:4d0e1ac7-0ffb-42d7-bf53-5a956dddc154 ]] {\r\n",
       "}\r\n",
       "E2 *- - \"*\"E3 [[psysml:92660e64-3893-4545-a353-67dbd76c0ff0 ]] \r\n",
       "E4 o- - E2 [[psysml:7b0b3a1a-f848-44f8-8668-45f7327338b0 ]] : c\r\n",
       "}\r\n",
       "@enduml\r\n",
       "\n",
       "PlantUML version 1.2020.13(Sat Jun 13 12:26:38 UTC 2020)\n",
       "(EPL source distribution)\n",
       "Java Runtime: OpenJDK Runtime Environment\n",
       "JVM: OpenJDK 64-Bit Server VM\n",
       "Default Encoding: UTF-8\n",
       "Language: en\n",
       "Country: null\n",
       "--></g></svg>"
      ]
     },
     "execution_count": 42,
     "metadata": {},
     "output_type": "execute_result"
    }
   ],
   "source": [
    "%viz --style=\"DEFAULT\" --view=\"Sequence\" \"TextualRepresentationTest\""
   ]
  },
  {
   "cell_type": "code",
   "execution_count": 43,
   "id": "39422bda",
   "metadata": {
    "execution": {
     "iopub.execute_input": "2021-08-04T06:26:41.512055Z",
     "iopub.status.busy": "2021-08-04T06:26:41.511653Z",
     "iopub.status.idle": "2021-08-04T06:26:41.539726Z",
     "shell.execute_reply": "2021-08-04T06:26:41.539529Z"
    }
   },
   "outputs": [
    {
     "data": {
      "image/svg+xml": [
       "<?xml version=\"1.0\" encoding=\"UTF-8\" standalone=\"no\"?><svg xmlns=\"http://www.w3.org/2000/svg\" xmlns:xlink=\"http://www.w3.org/1999/xlink\" contentScriptType=\"application/ecmascript\" contentStyleType=\"text/css\" height=\"261px\" preserveAspectRatio=\"none\" style=\"width:345px;height:261px;\" version=\"1.1\" viewBox=\"0 0 345 261\" width=\"345px\" zoomAndPan=\"magnify\"><defs/><g><!--MD5=[fbc87193dbaf4d95561dea2c320d4a47]\n",
       "cluster E1--><a href=\"psysml:7357ea5e-db14-480c-8643-46679caa3aca\" target=\"_top\" title=\"psysml:7357ea5e-db14-480c-8643-46679caa3aca\" xlink:actuate=\"onRequest\" xlink:href=\"psysml:7357ea5e-db14-480c-8643-46679caa3aca\" xlink:show=\"new\" xlink:title=\"psysml:7357ea5e-db14-480c-8643-46679caa3aca\" xlink:type=\"simple\"><polygon fill=\"#FFFFFF\" points=\"16,6,236,6,243,28.2969,323,28.2969,323,249.5,16,249.5,16,6\" style=\"stroke: #000000; stroke-width: 1.5;\"/><line style=\"stroke: #000000; stroke-width: 1.5;\" x1=\"16\" x2=\"243\" y1=\"28.2969\" y2=\"28.2969\"/><text fill=\"#000000\" font-family=\"sans-serif\" font-size=\"14\" font-weight=\"bold\" lengthAdjust=\"spacingAndGlyphs\" textLength=\"214\" x=\"20\" y=\"20.9951\">TextualRepresentationTest</text></a><!--MD5=[f6df4d0ebaf0b5dfb2ced0ae5af7c670]\n",
       "cluster E4--><a href=\"psysml:4d0e1ac7-0ffb-42d7-bf53-5a956dddc154\" target=\"_top\" title=\"psysml:4d0e1ac7-0ffb-42d7-bf53-5a956dddc154\" xlink:actuate=\"onRequest\" xlink:href=\"psysml:4d0e1ac7-0ffb-42d7-bf53-5a956dddc154\" xlink:show=\"new\" xlink:title=\"psysml:4d0e1ac7-0ffb-42d7-bf53-5a956dddc154\" xlink:type=\"simple\"><rect fill=\"#FFFFFF\" height=\"154.5\" id=\"E4\" style=\"stroke: #383838; stroke-width: 1.5;\" width=\"132\" x=\"175\" y=\"79\"/><rect fill=\"#F8F8F8\" height=\"37.9375\" style=\"stroke: #383838; stroke-width: 1.5;\" width=\"132\" x=\"175\" y=\"79\"/><text fill=\"#000000\" font-family=\"sans-serif\" font-size=\"12\" font-style=\"italic\" lengthAdjust=\"spacingAndGlyphs\" textLength=\"77\" x=\"202.5\" y=\"95.1387\">«action def»</text><text fill=\"#000000\" font-family=\"sans-serif\" font-size=\"12\" lengthAdjust=\"spacingAndGlyphs\" textLength=\"27\" x=\"227.5\" y=\"109.1074\">setX</text></a><!--MD5=[b4997ac47864f28c2f74865a473b2911]\n",
       "class E2--><a href=\"psysml:d8d89087-5f7a-40fd-9871-b52a02710321\" target=\"_top\" title=\"psysml:d8d89087-5f7a-40fd-9871-b52a02710321\" xlink:actuate=\"onRequest\" xlink:href=\"psysml:d8d89087-5f7a-40fd-9871-b52a02710321\" xlink:show=\"new\" xlink:title=\"psysml:d8d89087-5f7a-40fd-9871-b52a02710321\" xlink:type=\"simple\"><rect fill=\"#FFFFFF\" height=\"75.5469\" id=\"E2\" style=\"stroke: #383838; stroke-width: 1.5;\" width=\"67\" x=\"59.5\" y=\"41\"/><text fill=\"#000000\" font-family=\"sans-serif\" font-size=\"12\" font-style=\"italic\" lengthAdjust=\"spacingAndGlyphs\" textLength=\"65\" x=\"60.5\" y=\"57.1387\">«item def»</text><text fill=\"#000000\" font-family=\"sans-serif\" font-size=\"12\" lengthAdjust=\"spacingAndGlyphs\" textLength=\"8\" x=\"89\" y=\"71.1074\">C</text><line style=\"stroke: #383838; stroke-width: 1.5;\" x1=\"60.5\" x2=\"125.5\" y1=\"78.9375\" y2=\"78.9375\"/><text fill=\"#000000\" font-family=\"sans-serif\" font-size=\"11\" lengthAdjust=\"spacingAndGlyphs\" textLength=\"38\" x=\"65.5\" y=\"109.9526\">x: Real</text><line style=\"stroke: #383838; stroke-width: 1.0;\" x1=\"60.5\" x2=\"65.5\" y1=\"93.3398\" y2=\"93.3398\"/><text fill=\"#000000\" font-family=\"sans-serif\" font-size=\"11\" lengthAdjust=\"spacingAndGlyphs\" textLength=\"55\" x=\"65.5\" y=\"96.6479\">attributes</text><line style=\"stroke: #383838; stroke-width: 1.0;\" x1=\"120.5\" x2=\"125.5\" y1=\"93.3398\" y2=\"93.3398\"/></a><!--MD5=[09b614a08d8cba4a07c9adeb5e0fee81]\n",
       "class E3--><a href=\"psysml:24b29db4-a520-4ed1-8de3-5d8963222bac\" target=\"_top\" title=\"psysml:24b29db4-a520-4ed1-8de3-5d8963222bac\" xlink:actuate=\"onRequest\" xlink:href=\"psysml:24b29db4-a520-4ed1-8de3-5d8963222bac\" xlink:show=\"new\" xlink:title=\"psysml:24b29db4-a520-4ed1-8de3-5d8963222bac\" xlink:type=\"simple\"><rect fill=\"#FFFFFF\" height=\"45.9375\" id=\"E3\" rx=\"10\" ry=\"10\" style=\"stroke: #383838; stroke-width: 1.5;\" width=\"121\" x=\"32.5\" y=\"177\"/><text fill=\"#000000\" font-family=\"sans-serif\" font-size=\"12\" font-style=\"italic\" lengthAdjust=\"spacingAndGlyphs\" textLength=\"119\" x=\"33.5\" y=\"193.1387\">«assertConstraint»</text><text fill=\"#000000\" font-family=\"sans-serif\" font-size=\"12\" lengthAdjust=\"spacingAndGlyphs\" textLength=\"76\" x=\"55\" y=\"207.1074\">x_constraint</text><line style=\"stroke: #383838; stroke-width: 1.5;\" x1=\"33.5\" x2=\"152.5\" y1=\"214.9375\" y2=\"214.9375\"/></a><text fill=\"#000000\" font-family=\"sans-serif\" font-size=\"14\" lengthAdjust=\"spacingAndGlyphs\" textLength=\"8\" x=\"189\" y=\"57.6982\">c</text><rect fill=\"#383838\" height=\"12\" style=\"stroke: #F8F8F8; stroke-width: 1.5;\" width=\"12\" x=\"187\" y=\"73\"/><text fill=\"#000000\" font-family=\"sans-serif\" font-size=\"14\" lengthAdjust=\"spacingAndGlyphs\" textLength=\"38\" x=\"221\" y=\"57.6982\">newX</text><rect fill=\"#383838\" height=\"12\" style=\"stroke: #F8F8F8; stroke-width: 1.5;\" width=\"12\" x=\"234\" y=\"73\"/><!--MD5=[209b3feb70ccb6233bfe1053d122c12c]\n",
       "reverse link E2 to E3--><a href=\"psysml:92660e64-3893-4545-a353-67dbd76c0ff0\" target=\"_top\" title=\"psysml:92660e64-3893-4545-a353-67dbd76c0ff0\" xlink:actuate=\"onRequest\" xlink:href=\"psysml:92660e64-3893-4545-a353-67dbd76c0ff0\" xlink:show=\"new\" xlink:title=\"psysml:92660e64-3893-4545-a353-67dbd76c0ff0\" xlink:type=\"simple\"><path d=\"M93,130.34 C93,146.61 93,163.81 93,176.93 \" fill=\"none\" id=\"E2&lt;-E3\" style=\"stroke: #383838; stroke-width: 1.0;\"/><polygon fill=\"#383838\" points=\"93,117,89,123,93,129,97,123,93,117\" style=\"stroke: #383838; stroke-width: 1.0;\"/><text fill=\"#000000\" font-family=\"sans-serif\" font-size=\"13\" lengthAdjust=\"spacingAndGlyphs\" textLength=\"7\" x=\"85.0594\" y=\"165.8075\">*</text></a><!--MD5=[404bad20f2916c8e7f05d0d14d1167ef]\n",
       "@startuml\r\n",
       "skinparam monochrome true\r\n",
       "skinparam classbackgroundcolor white\r\n",
       "skinparam shadowing false\r\n",
       "skinparam wrapWidth 300\r\n",
       "hide circle\r\n",
       "\r\n",
       "package \"TextualRepresentationTest\" as E1  [[psysml:7357ea5e-db14-480c-8643-46679caa3aca ]]  {\r\n",
       "comp def \"C\" as E2  <<(T,blue) item def>> [[psysml:d8d89087-5f7a-40fd-9871-b52a02710321 ]] {\r\n",
       "- - attributes - -\r\n",
       "x: Real\r\n",
       "}\r\n",
       "comp usage \"x_constraint\" as E3  <<(T,blue) assertConstraint>> [[psysml:24b29db4-a520-4ed1-8de3-5d8963222bac ]] {\r\n",
       "}\r\n",
       "rec def \"setX\" as E4  <<(T,blue) action def>> [[psysml:4d0e1ac7-0ffb-42d7-bf53-5a956dddc154 ]] {\r\n",
       "portin \"c\" as E5  [[psysml:7b0b3a1a-f848-44f8-8668-45f7327338b0 ]] \r\n",
       "portin \"newX\" as E6  [[psysml:5310235f-3728-4e86-87c8-1dd93d46f083 ]] \r\n",
       "}\r\n",
       "\r\n",
       "E2 *- - \"*\"E3 [[psysml:92660e64-3893-4545-a353-67dbd76c0ff0 ]] \r\n",
       "}\r\n",
       "@enduml\r\n",
       "\n",
       "PlantUML version 1.2020.13(Sat Jun 13 12:26:38 UTC 2020)\n",
       "(EPL source distribution)\n",
       "Java Runtime: OpenJDK Runtime Environment\n",
       "JVM: OpenJDK 64-Bit Server VM\n",
       "Default Encoding: UTF-8\n",
       "Language: en\n",
       "Country: null\n",
       "--></g></svg>"
      ]
     },
     "execution_count": 43,
     "metadata": {},
     "output_type": "execute_result"
    }
   ],
   "source": [
    "%viz --style=\"DEFAULT\" --view=\"MIXED\" \"TextualRepresentationTest\""
   ]
  },
  {
   "cell_type": "code",
   "execution_count": 44,
   "id": "bba14101",
   "metadata": {
    "execution": {
     "iopub.execute_input": "2021-08-04T06:26:41.589739Z",
     "iopub.status.busy": "2021-08-04T06:26:41.589330Z",
     "iopub.status.idle": "2021-08-04T06:26:41.611348Z",
     "shell.execute_reply": "2021-08-04T06:26:41.611147Z"
    }
   },
   "outputs": [
    {
     "data": {
      "image/svg+xml": [
       "<?xml version=\"1.0\" encoding=\"UTF-8\" standalone=\"no\"?><svg xmlns=\"http://www.w3.org/2000/svg\" xmlns:xlink=\"http://www.w3.org/1999/xlink\" contentScriptType=\"application/ecmascript\" contentStyleType=\"text/css\" height=\"261px\" preserveAspectRatio=\"none\" style=\"width:345px;height:261px;\" version=\"1.1\" viewBox=\"0 0 345 261\" width=\"345px\" zoomAndPan=\"magnify\"><defs/><g><!--MD5=[fbc87193dbaf4d95561dea2c320d4a47]\n",
       "cluster E1--><a href=\"psysml:7357ea5e-db14-480c-8643-46679caa3aca\" target=\"_top\" title=\"psysml:7357ea5e-db14-480c-8643-46679caa3aca\" xlink:actuate=\"onRequest\" xlink:href=\"psysml:7357ea5e-db14-480c-8643-46679caa3aca\" xlink:show=\"new\" xlink:title=\"psysml:7357ea5e-db14-480c-8643-46679caa3aca\" xlink:type=\"simple\"><polygon fill=\"#FFFFFF\" points=\"16,6,236,6,243,28.2969,323,28.2969,323,249.5,16,249.5,16,6\" style=\"stroke: #000000; stroke-width: 1.5;\"/><line style=\"stroke: #000000; stroke-width: 1.5;\" x1=\"16\" x2=\"243\" y1=\"28.2969\" y2=\"28.2969\"/><text fill=\"#000000\" font-family=\"sans-serif\" font-size=\"14\" font-weight=\"bold\" lengthAdjust=\"spacingAndGlyphs\" textLength=\"214\" x=\"20\" y=\"20.9951\">TextualRepresentationTest</text></a><!--MD5=[f6df4d0ebaf0b5dfb2ced0ae5af7c670]\n",
       "cluster E4--><a href=\"psysml:4d0e1ac7-0ffb-42d7-bf53-5a956dddc154\" target=\"_top\" title=\"psysml:4d0e1ac7-0ffb-42d7-bf53-5a956dddc154\" xlink:actuate=\"onRequest\" xlink:href=\"psysml:4d0e1ac7-0ffb-42d7-bf53-5a956dddc154\" xlink:show=\"new\" xlink:title=\"psysml:4d0e1ac7-0ffb-42d7-bf53-5a956dddc154\" xlink:type=\"simple\"><rect fill=\"#FFFFFF\" height=\"154.5\" id=\"E4\" style=\"stroke: #383838; stroke-width: 1.5;\" width=\"132\" x=\"175\" y=\"79\"/><rect fill=\"#F8F8F8\" height=\"37.9375\" style=\"stroke: #383838; stroke-width: 1.5;\" width=\"132\" x=\"175\" y=\"79\"/><text fill=\"#000000\" font-family=\"sans-serif\" font-size=\"12\" font-style=\"italic\" lengthAdjust=\"spacingAndGlyphs\" textLength=\"77\" x=\"202.5\" y=\"95.1387\">«action def»</text><text fill=\"#000000\" font-family=\"sans-serif\" font-size=\"12\" lengthAdjust=\"spacingAndGlyphs\" textLength=\"27\" x=\"227.5\" y=\"109.1074\">setX</text></a><!--MD5=[b4997ac47864f28c2f74865a473b2911]\n",
       "class E2--><a href=\"psysml:d8d89087-5f7a-40fd-9871-b52a02710321\" target=\"_top\" title=\"psysml:d8d89087-5f7a-40fd-9871-b52a02710321\" xlink:actuate=\"onRequest\" xlink:href=\"psysml:d8d89087-5f7a-40fd-9871-b52a02710321\" xlink:show=\"new\" xlink:title=\"psysml:d8d89087-5f7a-40fd-9871-b52a02710321\" xlink:type=\"simple\"><rect fill=\"#FFFFFF\" height=\"75.5469\" id=\"E2\" style=\"stroke: #383838; stroke-width: 1.5;\" width=\"67\" x=\"59.5\" y=\"41\"/><text fill=\"#000000\" font-family=\"sans-serif\" font-size=\"12\" font-style=\"italic\" lengthAdjust=\"spacingAndGlyphs\" textLength=\"65\" x=\"60.5\" y=\"57.1387\">«item def»</text><text fill=\"#000000\" font-family=\"sans-serif\" font-size=\"12\" lengthAdjust=\"spacingAndGlyphs\" textLength=\"8\" x=\"89\" y=\"71.1074\">C</text><line style=\"stroke: #383838; stroke-width: 1.5;\" x1=\"60.5\" x2=\"125.5\" y1=\"78.9375\" y2=\"78.9375\"/><text fill=\"#000000\" font-family=\"sans-serif\" font-size=\"11\" lengthAdjust=\"spacingAndGlyphs\" textLength=\"38\" x=\"65.5\" y=\"109.9526\">x: Real</text><line style=\"stroke: #383838; stroke-width: 1.0;\" x1=\"60.5\" x2=\"65.5\" y1=\"93.3398\" y2=\"93.3398\"/><text fill=\"#000000\" font-family=\"sans-serif\" font-size=\"11\" lengthAdjust=\"spacingAndGlyphs\" textLength=\"55\" x=\"65.5\" y=\"96.6479\">attributes</text><line style=\"stroke: #383838; stroke-width: 1.0;\" x1=\"120.5\" x2=\"125.5\" y1=\"93.3398\" y2=\"93.3398\"/></a><!--MD5=[09b614a08d8cba4a07c9adeb5e0fee81]\n",
       "class E3--><a href=\"psysml:24b29db4-a520-4ed1-8de3-5d8963222bac\" target=\"_top\" title=\"psysml:24b29db4-a520-4ed1-8de3-5d8963222bac\" xlink:actuate=\"onRequest\" xlink:href=\"psysml:24b29db4-a520-4ed1-8de3-5d8963222bac\" xlink:show=\"new\" xlink:title=\"psysml:24b29db4-a520-4ed1-8de3-5d8963222bac\" xlink:type=\"simple\"><rect fill=\"#FFFFFF\" height=\"45.9375\" id=\"E3\" rx=\"10\" ry=\"10\" style=\"stroke: #383838; stroke-width: 1.5;\" width=\"121\" x=\"32.5\" y=\"177\"/><text fill=\"#000000\" font-family=\"sans-serif\" font-size=\"12\" font-style=\"italic\" lengthAdjust=\"spacingAndGlyphs\" textLength=\"119\" x=\"33.5\" y=\"193.1387\">«assertConstraint»</text><text fill=\"#000000\" font-family=\"sans-serif\" font-size=\"12\" lengthAdjust=\"spacingAndGlyphs\" textLength=\"76\" x=\"55\" y=\"207.1074\">x_constraint</text><line style=\"stroke: #383838; stroke-width: 1.5;\" x1=\"33.5\" x2=\"152.5\" y1=\"214.9375\" y2=\"214.9375\"/></a><text fill=\"#000000\" font-family=\"sans-serif\" font-size=\"14\" lengthAdjust=\"spacingAndGlyphs\" textLength=\"8\" x=\"189\" y=\"57.6982\">c</text><rect fill=\"#383838\" height=\"12\" style=\"stroke: #F8F8F8; stroke-width: 1.5;\" width=\"12\" x=\"187\" y=\"73\"/><text fill=\"#000000\" font-family=\"sans-serif\" font-size=\"14\" lengthAdjust=\"spacingAndGlyphs\" textLength=\"38\" x=\"221\" y=\"57.6982\">newX</text><rect fill=\"#383838\" height=\"12\" style=\"stroke: #F8F8F8; stroke-width: 1.5;\" width=\"12\" x=\"234\" y=\"73\"/><!--MD5=[209b3feb70ccb6233bfe1053d122c12c]\n",
       "reverse link E2 to E3--><a href=\"psysml:92660e64-3893-4545-a353-67dbd76c0ff0\" target=\"_top\" title=\"psysml:92660e64-3893-4545-a353-67dbd76c0ff0\" xlink:actuate=\"onRequest\" xlink:href=\"psysml:92660e64-3893-4545-a353-67dbd76c0ff0\" xlink:show=\"new\" xlink:title=\"psysml:92660e64-3893-4545-a353-67dbd76c0ff0\" xlink:type=\"simple\"><path d=\"M93,130.34 C93,146.61 93,163.81 93,176.93 \" fill=\"none\" id=\"E2&lt;-E3\" style=\"stroke: #383838; stroke-width: 1.0;\"/><polygon fill=\"#383838\" points=\"93,117,89,123,93,129,97,123,93,117\" style=\"stroke: #383838; stroke-width: 1.0;\"/><text fill=\"#000000\" font-family=\"sans-serif\" font-size=\"13\" lengthAdjust=\"spacingAndGlyphs\" textLength=\"7\" x=\"85.0594\" y=\"165.8075\">*</text></a><!--MD5=[84a67e42739eaf538435b4d5a4e2ef00]\n",
       "@startuml\r\n",
       "top to bottom direction\r\n",
       "skinparam monochrome true\r\n",
       "skinparam classbackgroundcolor white\r\n",
       "skinparam shadowing false\r\n",
       "skinparam wrapWidth 300\r\n",
       "hide circle\r\n",
       "\r\n",
       "package \"TextualRepresentationTest\" as E1  [[psysml:7357ea5e-db14-480c-8643-46679caa3aca ]]  {\r\n",
       "comp def \"C\" as E2  <<(T,blue) item def>> [[psysml:d8d89087-5f7a-40fd-9871-b52a02710321 ]] {\r\n",
       "- - attributes - -\r\n",
       "x: Real\r\n",
       "}\r\n",
       "comp usage \"x_constraint\" as E3  <<(T,blue) assertConstraint>> [[psysml:24b29db4-a520-4ed1-8de3-5d8963222bac ]] {\r\n",
       "}\r\n",
       "rec def \"setX\" as E4  <<(T,blue) action def>> [[psysml:4d0e1ac7-0ffb-42d7-bf53-5a956dddc154 ]] {\r\n",
       "portin \"c\" as E5  [[psysml:7b0b3a1a-f848-44f8-8668-45f7327338b0 ]] \r\n",
       "portin \"newX\" as E6  [[psysml:5310235f-3728-4e86-87c8-1dd93d46f083 ]] \r\n",
       "}\r\n",
       "\r\n",
       "E2 *- - \"*\"E3 [[psysml:92660e64-3893-4545-a353-67dbd76c0ff0 ]] \r\n",
       "}\r\n",
       "@enduml\r\n",
       "\n",
       "PlantUML version 1.2020.13(Sat Jun 13 12:26:38 UTC 2020)\n",
       "(EPL source distribution)\n",
       "Java Runtime: OpenJDK Runtime Environment\n",
       "JVM: OpenJDK 64-Bit Server VM\n",
       "Default Encoding: UTF-8\n",
       "Language: en\n",
       "Country: null\n",
       "--></g></svg>"
      ]
     },
     "execution_count": 44,
     "metadata": {},
     "output_type": "execute_result"
    }
   ],
   "source": [
    "%viz --style=\"TB\" --view=\"Default\" \"TextualRepresentationTest\""
   ]
  },
  {
   "cell_type": "code",
   "execution_count": 45,
   "id": "47d83b0b",
   "metadata": {
    "execution": {
     "iopub.execute_input": "2021-08-04T06:26:41.661454Z",
     "iopub.status.busy": "2021-08-04T06:26:41.661041Z",
     "iopub.status.idle": "2021-08-04T06:26:41.681319Z",
     "shell.execute_reply": "2021-08-04T06:26:41.681120Z"
    }
   },
   "outputs": [
    {
     "data": {
      "image/svg+xml": [
       "<?xml version=\"1.0\" encoding=\"UTF-8\" standalone=\"no\"?><svg xmlns=\"http://www.w3.org/2000/svg\" xmlns:xlink=\"http://www.w3.org/1999/xlink\" contentScriptType=\"application/ecmascript\" contentStyleType=\"text/css\" height=\"375px\" preserveAspectRatio=\"none\" style=\"width:268px;height:375px;\" version=\"1.1\" viewBox=\"0 0 268 375\" width=\"268px\" zoomAndPan=\"magnify\"><defs/><g><!--MD5=[fbc87193dbaf4d95561dea2c320d4a47]\n",
       "cluster E1--><a href=\"psysml:7357ea5e-db14-480c-8643-46679caa3aca\" target=\"_top\" title=\"psysml:7357ea5e-db14-480c-8643-46679caa3aca\" xlink:actuate=\"onRequest\" xlink:href=\"psysml:7357ea5e-db14-480c-8643-46679caa3aca\" xlink:show=\"new\" xlink:title=\"psysml:7357ea5e-db14-480c-8643-46679caa3aca\" xlink:type=\"simple\"><polygon fill=\"#FFFFFF\" points=\"16,6,236,6,243,28.2969,246,28.2969,246,363,16,363,16,6\" style=\"stroke: #000000; stroke-width: 1.5;\"/><line style=\"stroke: #000000; stroke-width: 1.5;\" x1=\"16\" x2=\"243\" y1=\"28.2969\" y2=\"28.2969\"/><text fill=\"#000000\" font-family=\"sans-serif\" font-size=\"14\" font-weight=\"bold\" lengthAdjust=\"spacingAndGlyphs\" textLength=\"214\" x=\"20\" y=\"20.9951\">TextualRepresentationTest</text></a><!--MD5=[b4997ac47864f28c2f74865a473b2911]\n",
       "class E2--><a href=\"psysml:d8d89087-5f7a-40fd-9871-b52a02710321\" target=\"_top\" title=\"psysml:d8d89087-5f7a-40fd-9871-b52a02710321\" xlink:actuate=\"onRequest\" xlink:href=\"psysml:d8d89087-5f7a-40fd-9871-b52a02710321\" xlink:show=\"new\" xlink:title=\"psysml:d8d89087-5f7a-40fd-9871-b52a02710321\" xlink:type=\"simple\"><rect fill=\"#FFFFFF\" height=\"75.5469\" id=\"E2\" style=\"stroke: #383838; stroke-width: 1.5;\" width=\"67\" x=\"97.5\" y=\"164\"/><text fill=\"#000000\" font-family=\"sans-serif\" font-size=\"12\" font-style=\"italic\" lengthAdjust=\"spacingAndGlyphs\" textLength=\"65\" x=\"98.5\" y=\"180.1387\">«item def»</text><text fill=\"#000000\" font-family=\"sans-serif\" font-size=\"12\" lengthAdjust=\"spacingAndGlyphs\" textLength=\"8\" x=\"127\" y=\"194.1074\">C</text><line style=\"stroke: #383838; stroke-width: 1.5;\" x1=\"98.5\" x2=\"163.5\" y1=\"201.9375\" y2=\"201.9375\"/><text fill=\"#000000\" font-family=\"sans-serif\" font-size=\"11\" lengthAdjust=\"spacingAndGlyphs\" textLength=\"38\" x=\"103.5\" y=\"232.9526\">x: Real</text><line style=\"stroke: #383838; stroke-width: 1.0;\" x1=\"98.5\" x2=\"103.5\" y1=\"216.3398\" y2=\"216.3398\"/><text fill=\"#000000\" font-family=\"sans-serif\" font-size=\"11\" lengthAdjust=\"spacingAndGlyphs\" textLength=\"55\" x=\"103.5\" y=\"219.6479\">attributes</text><line style=\"stroke: #383838; stroke-width: 1.0;\" x1=\"158.5\" x2=\"163.5\" y1=\"216.3398\" y2=\"216.3398\"/></a><!--MD5=[09b614a08d8cba4a07c9adeb5e0fee81]\n",
       "class E3--><a href=\"psysml:24b29db4-a520-4ed1-8de3-5d8963222bac\" target=\"_top\" title=\"psysml:24b29db4-a520-4ed1-8de3-5d8963222bac\" xlink:actuate=\"onRequest\" xlink:href=\"psysml:24b29db4-a520-4ed1-8de3-5d8963222bac\" xlink:show=\"new\" xlink:title=\"psysml:24b29db4-a520-4ed1-8de3-5d8963222bac\" xlink:type=\"simple\"><rect fill=\"#FFFFFF\" height=\"45.9375\" id=\"E3\" rx=\"10\" ry=\"10\" style=\"stroke: #383838; stroke-width: 1.5;\" width=\"121\" x=\"70.5\" y=\"301\"/><text fill=\"#000000\" font-family=\"sans-serif\" font-size=\"12\" font-style=\"italic\" lengthAdjust=\"spacingAndGlyphs\" textLength=\"119\" x=\"71.5\" y=\"317.1387\">«assertConstraint»</text><text fill=\"#000000\" font-family=\"sans-serif\" font-size=\"12\" lengthAdjust=\"spacingAndGlyphs\" textLength=\"76\" x=\"93\" y=\"331.1074\">x_constraint</text><line style=\"stroke: #383838; stroke-width: 1.5;\" x1=\"71.5\" x2=\"190.5\" y1=\"338.9375\" y2=\"338.9375\"/></a><!--MD5=[ebbe1d658d1005bcc118a6aa81145e00]\n",
       "class E4--><a href=\"psysml:4d0e1ac7-0ffb-42d7-bf53-5a956dddc154\" target=\"_top\" title=\"psysml:4d0e1ac7-0ffb-42d7-bf53-5a956dddc154\" xlink:actuate=\"onRequest\" xlink:href=\"psysml:4d0e1ac7-0ffb-42d7-bf53-5a956dddc154\" xlink:show=\"new\" xlink:title=\"psysml:4d0e1ac7-0ffb-42d7-bf53-5a956dddc154\" xlink:type=\"simple\"><rect fill=\"#FFFFFF\" height=\"45.9375\" id=\"E4\" style=\"stroke: #383838; stroke-width: 1.5;\" width=\"79\" x=\"91.5\" y=\"41\"/><text fill=\"#000000\" font-family=\"sans-serif\" font-size=\"12\" font-style=\"italic\" lengthAdjust=\"spacingAndGlyphs\" textLength=\"77\" x=\"92.5\" y=\"57.1387\">«action def»</text><text fill=\"#000000\" font-family=\"sans-serif\" font-size=\"12\" lengthAdjust=\"spacingAndGlyphs\" textLength=\"27\" x=\"117.5\" y=\"71.1074\">setX</text><line style=\"stroke: #383838; stroke-width: 1.5;\" x1=\"92.5\" x2=\"169.5\" y1=\"78.9375\" y2=\"78.9375\"/></a><!--MD5=[209b3feb70ccb6233bfe1053d122c12c]\n",
       "reverse link E2 to E3--><a href=\"psysml:92660e64-3893-4545-a353-67dbd76c0ff0\" target=\"_top\" title=\"psysml:92660e64-3893-4545-a353-67dbd76c0ff0\" xlink:actuate=\"onRequest\" xlink:href=\"psysml:92660e64-3893-4545-a353-67dbd76c0ff0\" xlink:show=\"new\" xlink:title=\"psysml:92660e64-3893-4545-a353-67dbd76c0ff0\" xlink:type=\"simple\"><path d=\"M131,253.76 C131,270.17 131,287.52 131,300.75 \" fill=\"none\" id=\"E2&lt;-E3\" style=\"stroke: #383838; stroke-width: 1.0;\"/><polygon fill=\"#383838\" points=\"131,240.31,127,246.31,131,252.31,135,246.31,131,240.31\" style=\"stroke: #383838; stroke-width: 1.0;\"/><text fill=\"#000000\" font-family=\"sans-serif\" font-size=\"13\" lengthAdjust=\"spacingAndGlyphs\" textLength=\"7\" x=\"123.1031\" y=\"289.9622\">*</text></a><!--MD5=[ddeed8deb2209213b62e6cfabaa108b2]\n",
       "reverse link E4 to E2--><a href=\"psysml:7b0b3a1a-f848-44f8-8668-45f7327338b0\" target=\"_top\" title=\"psysml:7b0b3a1a-f848-44f8-8668-45f7327338b0\" xlink:actuate=\"onRequest\" xlink:href=\"psysml:7b0b3a1a-f848-44f8-8668-45f7327338b0\" xlink:show=\"new\" xlink:title=\"psysml:7b0b3a1a-f848-44f8-8668-45f7327338b0\" xlink:type=\"simple\"><path d=\"M131,100.42 C131,119.95 131,144.19 131,163.97 \" fill=\"none\" id=\"E4&lt;-E2\" style=\"stroke: #383838; stroke-width: 1.0;\"/><polygon fill=\"#FFFFFF\" points=\"131,87.15,127,93.15,131,99.15,135,93.15,131,87.15\" style=\"stroke: #383838; stroke-width: 1.0;\"/><text fill=\"#000000\" font-family=\"sans-serif\" font-size=\"13\" lengthAdjust=\"spacingAndGlyphs\" textLength=\"7\" x=\"132\" y=\"130.0669\">c</text></a><!--MD5=[50ef6cc3755c1fee9047a0795e141270]\n",
       "@startuml\r\n",
       "top to bottom direction\r\n",
       "skinparam monochrome true\r\n",
       "skinparam classbackgroundcolor white\r\n",
       "skinparam shadowing false\r\n",
       "skinparam wrapWidth 300\r\n",
       "hide circle\r\n",
       "\r\n",
       "package \"TextualRepresentationTest\" as E1  [[psysml:7357ea5e-db14-480c-8643-46679caa3aca ]]  {\r\n",
       "comp def \"C\" as E2  <<(T,blue) item def>> [[psysml:d8d89087-5f7a-40fd-9871-b52a02710321 ]] {\r\n",
       "- - attributes - -\r\n",
       "x: Real\r\n",
       "}\r\n",
       "comp usage \"x_constraint\" as E3  <<(T,blue) assertConstraint>> [[psysml:24b29db4-a520-4ed1-8de3-5d8963222bac ]] {\r\n",
       "}\r\n",
       "comp def \"setX\" as E4  <<(T,blue) action def>> [[psysml:4d0e1ac7-0ffb-42d7-bf53-5a956dddc154 ]] {\r\n",
       "}\r\n",
       "E2 *- - \"*\"E3 [[psysml:92660e64-3893-4545-a353-67dbd76c0ff0 ]] \r\n",
       "E4 o- - E2 [[psysml:7b0b3a1a-f848-44f8-8668-45f7327338b0 ]] : c\r\n",
       "}\r\n",
       "@enduml\r\n",
       "\n",
       "PlantUML version 1.2020.13(Sat Jun 13 12:26:38 UTC 2020)\n",
       "(EPL source distribution)\n",
       "Java Runtime: OpenJDK Runtime Environment\n",
       "JVM: OpenJDK 64-Bit Server VM\n",
       "Default Encoding: UTF-8\n",
       "Language: en\n",
       "Country: null\n",
       "--></g></svg>"
      ]
     },
     "execution_count": 45,
     "metadata": {},
     "output_type": "execute_result"
    }
   ],
   "source": [
    "%viz --style=\"TB\" --view=\"Tree\" \"TextualRepresentationTest\""
   ]
  },
  {
   "cell_type": "code",
   "execution_count": 46,
   "id": "01a796a9",
   "metadata": {
    "execution": {
     "iopub.execute_input": "2021-08-04T06:26:41.731035Z",
     "iopub.status.busy": "2021-08-04T06:26:41.730792Z",
     "iopub.status.idle": "2021-08-04T06:26:41.733567Z",
     "shell.execute_reply": "2021-08-04T06:26:41.733284Z"
    }
   },
   "outputs": [
    {
     "data": {
      "image/svg+xml": [
       "<?xml version=\"1.0\" encoding=\"UTF-8\" standalone=\"no\"?><svg xmlns=\"http://www.w3.org/2000/svg\" xmlns:xlink=\"http://www.w3.org/1999/xlink\" contentScriptType=\"application/ecmascript\" contentStyleType=\"text/css\" height=\"12px\" preserveAspectRatio=\"none\" style=\"width:12px;height:12px;\" version=\"1.1\" viewBox=\"0 0 12 12\" width=\"12px\" zoomAndPan=\"magnify\"><defs/><g><!--MD5=[f4ee21bc66e489b5061b7c3e9601fdef]\n",
       "@startuml\r\n",
       "top to bottom direction\r\n",
       "skinparam monochrome true\r\n",
       "skinparam classbackgroundcolor white\r\n",
       "skinparam shadowing false\r\n",
       "skinparam wrapWidth 300\r\n",
       "hide circle\r\n",
       "\r\n",
       "@enduml\r\n",
       "\n",
       "PlantUML version 1.2020.13(Sat Jun 13 12:26:38 UTC 2020)\n",
       "(EPL source distribution)\n",
       "Java Runtime: OpenJDK Runtime Environment\n",
       "JVM: OpenJDK 64-Bit Server VM\n",
       "Default Encoding: UTF-8\n",
       "Language: en\n",
       "Country: null\n",
       "--></g></svg>"
      ]
     },
     "execution_count": 46,
     "metadata": {},
     "output_type": "execute_result"
    }
   ],
   "source": [
    "%viz --style=\"TB\" --view=\"State\" \"TextualRepresentationTest\""
   ]
  },
  {
   "cell_type": "code",
   "execution_count": 47,
   "id": "dc9a7c1a",
   "metadata": {
    "execution": {
     "iopub.execute_input": "2021-08-04T06:26:41.784080Z",
     "iopub.status.busy": "2021-08-04T06:26:41.783685Z",
     "iopub.status.idle": "2021-08-04T06:26:41.805233Z",
     "shell.execute_reply": "2021-08-04T06:26:41.804874Z"
    }
   },
   "outputs": [
    {
     "data": {
      "image/svg+xml": [
       "<?xml version=\"1.0\" encoding=\"UTF-8\" standalone=\"no\"?><svg xmlns=\"http://www.w3.org/2000/svg\" xmlns:xlink=\"http://www.w3.org/1999/xlink\" contentScriptType=\"application/ecmascript\" contentStyleType=\"text/css\" height=\"179px\" preserveAspectRatio=\"none\" style=\"width:284px;height:179px;\" version=\"1.1\" viewBox=\"0 0 284 179\" width=\"284px\" zoomAndPan=\"magnify\"><defs/><g><!--MD5=[fbc87193dbaf4d95561dea2c320d4a47]\n",
       "cluster E1--><a href=\"psysml:7357ea5e-db14-480c-8643-46679caa3aca\" target=\"_top\" title=\"psysml:7357ea5e-db14-480c-8643-46679caa3aca\" xlink:actuate=\"onRequest\" xlink:href=\"psysml:7357ea5e-db14-480c-8643-46679caa3aca\" xlink:show=\"new\" xlink:title=\"psysml:7357ea5e-db14-480c-8643-46679caa3aca\" xlink:type=\"simple\"><polygon fill=\"#FFFFFF\" points=\"16,6,236,6,243,28.2969,262,28.2969,262,167,16,167,16,6\" style=\"stroke: #000000; stroke-width: 1.5;\"/><line style=\"stroke: #000000; stroke-width: 1.5;\" x1=\"16\" x2=\"243\" y1=\"28.2969\" y2=\"28.2969\"/><text fill=\"#000000\" font-family=\"sans-serif\" font-size=\"14\" font-weight=\"bold\" lengthAdjust=\"spacingAndGlyphs\" textLength=\"214\" x=\"20\" y=\"20.9951\">TextualRepresentationTest</text></a><!--MD5=[d5e69f78d87373223dbae638b30a9c99]\n",
       "cluster E3--><a href=\"psysml:4d0e1ac7-0ffb-42d7-bf53-5a956dddc154\" target=\"_top\" title=\"psysml:4d0e1ac7-0ffb-42d7-bf53-5a956dddc154\" xlink:actuate=\"onRequest\" xlink:href=\"psysml:4d0e1ac7-0ffb-42d7-bf53-5a956dddc154\" xlink:show=\"new\" xlink:title=\"psysml:4d0e1ac7-0ffb-42d7-bf53-5a956dddc154\" xlink:type=\"simple\"><rect fill=\"#FFFFFF\" height=\"88.5\" id=\"E3\" style=\"stroke: #383838; stroke-width: 1.5;\" width=\"96\" x=\"120.5\" y=\"62.5\"/><rect fill=\"#F8F8F8\" height=\"37.9375\" style=\"stroke: #383838; stroke-width: 1.5;\" width=\"96\" x=\"120.5\" y=\"62.5\"/><text fill=\"#000000\" font-family=\"sans-serif\" font-size=\"12\" font-style=\"italic\" lengthAdjust=\"spacingAndGlyphs\" textLength=\"77\" x=\"130\" y=\"78.6387\">«action def»</text><text fill=\"#000000\" font-family=\"sans-serif\" font-size=\"12\" lengthAdjust=\"spacingAndGlyphs\" textLength=\"27\" x=\"155\" y=\"92.6074\">setX</text></a><g id=\"E1.E2\"><a href=\"psysml:d8d89087-5f7a-40fd-9871-b52a02710321\" target=\"_top\" title=\"psysml:d8d89087-5f7a-40fd-9871-b52a02710321\" xlink:actuate=\"onRequest\" xlink:href=\"psysml:d8d89087-5f7a-40fd-9871-b52a02710321\" xlink:show=\"new\" xlink:title=\"psysml:d8d89087-5f7a-40fd-9871-b52a02710321\" xlink:type=\"simple\"><rect fill=\"#FFFFFF\" height=\"42.9375\" id=\"E2\" style=\"stroke: #383838; stroke-width: 1.5;\" width=\"72\" x=\"32\" y=\"41\"/><rect fill=\"#F8F8F8\" height=\"37.9375\" style=\"stroke: #383838; stroke-width: 1.5;\" width=\"72\" x=\"32\" y=\"41\"/><text fill=\"#000000\" font-family=\"sans-serif\" font-size=\"12\" font-style=\"italic\" lengthAdjust=\"spacingAndGlyphs\" textLength=\"65\" x=\"35.5\" y=\"57.1387\">«item def»</text><text fill=\"#000000\" font-family=\"sans-serif\" font-size=\"12\" lengthAdjust=\"spacingAndGlyphs\" textLength=\"8\" x=\"64\" y=\"71.1074\">C</text></a></g><text fill=\"#000000\" font-family=\"sans-serif\" font-size=\"14\" lengthAdjust=\"spacingAndGlyphs\" textLength=\"8\" x=\"141\" y=\"41.1982\">c</text><rect fill=\"#383838\" height=\"12\" style=\"stroke: #F8F8F8; stroke-width: 1.5;\" width=\"12\" x=\"139\" y=\"56.5\"/><text fill=\"#000000\" font-family=\"sans-serif\" font-size=\"14\" lengthAdjust=\"spacingAndGlyphs\" textLength=\"38\" x=\"173\" y=\"41.1982\">newX</text><rect fill=\"#383838\" height=\"12\" style=\"stroke: #F8F8F8; stroke-width: 1.5;\" width=\"12\" x=\"186\" y=\"56.5\"/><!--MD5=[d53816b44a65f59d892ed0b97d22c050]\n",
       "@startuml\r\n",
       "skinparam ranksep 10\r\n",
       "skinparam rectangle {\r\n",
       " backgroundColor<<block>> LightGreen\r\n",
       "}\r\n",
       "top to bottom direction\r\n",
       "skinparam monochrome true\r\n",
       "skinparam classbackgroundcolor white\r\n",
       "skinparam shadowing false\r\n",
       "skinparam wrapWidth 300\r\n",
       "hide circle\r\n",
       "\r\n",
       "package \"TextualRepresentationTest\" as E1  [[psysml:7357ea5e-db14-480c-8643-46679caa3aca ]]  {\r\n",
       "def \"C\" as E2  <<(T,blue) item def>> [[psysml:d8d89087-5f7a-40fd-9871-b52a02710321 ]] \r\n",
       "rec def \"setX\" as E3  <<(T,blue) action def>> [[psysml:4d0e1ac7-0ffb-42d7-bf53-5a956dddc154 ]] {\r\n",
       "portin \"c\" as E4  [[psysml:7b0b3a1a-f848-44f8-8668-45f7327338b0 ]] \r\n",
       "portin \"newX\" as E5  [[psysml:5310235f-3728-4e86-87c8-1dd93d46f083 ]] \r\n",
       "}\r\n",
       "\r\n",
       "}\r\n",
       "@enduml\r\n",
       "\n",
       "PlantUML version 1.2020.13(Sat Jun 13 12:26:38 UTC 2020)\n",
       "(EPL source distribution)\n",
       "Java Runtime: OpenJDK Runtime Environment\n",
       "JVM: OpenJDK 64-Bit Server VM\n",
       "Default Encoding: UTF-8\n",
       "Language: en\n",
       "Country: null\n",
       "--></g></svg>"
      ]
     },
     "execution_count": 47,
     "metadata": {},
     "output_type": "execute_result"
    }
   ],
   "source": [
    "%viz --style=\"TB\" --view=\"Interconnection\" \"TextualRepresentationTest\""
   ]
  },
  {
   "cell_type": "code",
   "execution_count": 48,
   "id": "5101d5e7",
   "metadata": {
    "execution": {
     "iopub.execute_input": "2021-08-04T06:26:41.855033Z",
     "iopub.status.busy": "2021-08-04T06:26:41.854635Z",
     "iopub.status.idle": "2021-08-04T06:26:41.869902Z",
     "shell.execute_reply": "2021-08-04T06:26:41.869707Z"
    }
   },
   "outputs": [
    {
     "data": {
      "image/svg+xml": [
       "<?xml version=\"1.0\" encoding=\"UTF-8\" standalone=\"no\"?><svg xmlns=\"http://www.w3.org/2000/svg\" xmlns:xlink=\"http://www.w3.org/1999/xlink\" contentScriptType=\"application/ecmascript\" contentStyleType=\"text/css\" height=\"126px\" preserveAspectRatio=\"none\" style=\"width:150px;height:126px;\" version=\"1.1\" viewBox=\"0 0 150 126\" width=\"150px\" zoomAndPan=\"magnify\"><defs/><g><!--MD5=[fbc87193dbaf4d95561dea2c320d4a47]\n",
       "cluster E1--><a href=\"psysml:4d0e1ac7-0ffb-42d7-bf53-5a956dddc154\" target=\"_top\" title=\"psysml:4d0e1ac7-0ffb-42d7-bf53-5a956dddc154\" xlink:actuate=\"onRequest\" xlink:href=\"psysml:4d0e1ac7-0ffb-42d7-bf53-5a956dddc154\" xlink:show=\"new\" xlink:title=\"psysml:4d0e1ac7-0ffb-42d7-bf53-5a956dddc154\" xlink:type=\"simple\"><rect fill=\"#FFFFFF\" height=\"73\" id=\"E1\" style=\"stroke: #383838; stroke-width: 1.5;\" width=\"132\" x=\"7\" y=\"42.0986\"/><rect fill=\"#F8F8F8\" height=\"37.9375\" style=\"stroke: #383838; stroke-width: 1.5;\" width=\"132\" x=\"7\" y=\"42.0986\"/><text fill=\"#000000\" font-family=\"sans-serif\" font-size=\"12\" font-style=\"italic\" lengthAdjust=\"spacingAndGlyphs\" textLength=\"77\" x=\"34.5\" y=\"58.2373\">«action def»</text><text fill=\"#000000\" font-family=\"sans-serif\" font-size=\"12\" lengthAdjust=\"spacingAndGlyphs\" textLength=\"27\" x=\"59.5\" y=\"72.2061\">setX</text></a><text fill=\"#000000\" font-family=\"sans-serif\" font-size=\"14\" lengthAdjust=\"spacingAndGlyphs\" textLength=\"8\" x=\"21\" y=\"20.7969\">c</text><rect fill=\"#383838\" height=\"12\" style=\"stroke: #F8F8F8; stroke-width: 1.5;\" width=\"12\" x=\"19\" y=\"36.0986\"/><text fill=\"#000000\" font-family=\"sans-serif\" font-size=\"14\" lengthAdjust=\"spacingAndGlyphs\" textLength=\"38\" x=\"53\" y=\"20.7969\">newX</text><rect fill=\"#383838\" height=\"12\" style=\"stroke: #F8F8F8; stroke-width: 1.5;\" width=\"12\" x=\"66\" y=\"36.0986\"/><!--MD5=[46beb7499a2ff7ab7b0c950b1b5d22f5]\n",
       "@startuml\r\n",
       "skinparam ranksep 8\r\n",
       "top to bottom direction\r\n",
       "skinparam monochrome true\r\n",
       "skinparam classbackgroundcolor white\r\n",
       "skinparam shadowing false\r\n",
       "skinparam wrapWidth 300\r\n",
       "hide circle\r\n",
       "\r\n",
       "rec def \"setX\" as E1  <<(T,blue) action def>> [[psysml:4d0e1ac7-0ffb-42d7-bf53-5a956dddc154 ]] {\r\n",
       "portin \"c\" as E2  [[psysml:7b0b3a1a-f848-44f8-8668-45f7327338b0 ]] \r\n",
       "portin \"newX\" as E3  [[psysml:5310235f-3728-4e86-87c8-1dd93d46f083 ]] \r\n",
       "}\r\n",
       "\r\n",
       "@enduml\r\n",
       "\n",
       "PlantUML version 1.2020.13(Sat Jun 13 12:26:38 UTC 2020)\n",
       "(EPL source distribution)\n",
       "Java Runtime: OpenJDK Runtime Environment\n",
       "JVM: OpenJDK 64-Bit Server VM\n",
       "Default Encoding: UTF-8\n",
       "Language: en\n",
       "Country: null\n",
       "--></g></svg>"
      ]
     },
     "execution_count": 48,
     "metadata": {},
     "output_type": "execute_result"
    }
   ],
   "source": [
    "%viz --style=\"TB\" --view=\"Action\" \"TextualRepresentationTest\""
   ]
  },
  {
   "cell_type": "code",
   "execution_count": 49,
   "id": "427df7cf",
   "metadata": {
    "execution": {
     "iopub.execute_input": "2021-08-04T06:26:41.919820Z",
     "iopub.status.busy": "2021-08-04T06:26:41.919580Z",
     "iopub.status.idle": "2021-08-04T06:26:41.941835Z",
     "shell.execute_reply": "2021-08-04T06:26:41.941132Z"
    }
   },
   "outputs": [
    {
     "data": {
      "image/svg+xml": [
       "<?xml version=\"1.0\" encoding=\"UTF-8\" standalone=\"no\"?><svg xmlns=\"http://www.w3.org/2000/svg\" xmlns:xlink=\"http://www.w3.org/1999/xlink\" contentScriptType=\"application/ecmascript\" contentStyleType=\"text/css\" height=\"375px\" preserveAspectRatio=\"none\" style=\"width:268px;height:375px;\" version=\"1.1\" viewBox=\"0 0 268 375\" width=\"268px\" zoomAndPan=\"magnify\"><defs/><g><!--MD5=[fbc87193dbaf4d95561dea2c320d4a47]\n",
       "cluster E1--><a href=\"psysml:7357ea5e-db14-480c-8643-46679caa3aca\" target=\"_top\" title=\"psysml:7357ea5e-db14-480c-8643-46679caa3aca\" xlink:actuate=\"onRequest\" xlink:href=\"psysml:7357ea5e-db14-480c-8643-46679caa3aca\" xlink:show=\"new\" xlink:title=\"psysml:7357ea5e-db14-480c-8643-46679caa3aca\" xlink:type=\"simple\"><polygon fill=\"#FFFFFF\" points=\"16,6,236,6,243,28.2969,246,28.2969,246,363,16,363,16,6\" style=\"stroke: #000000; stroke-width: 1.5;\"/><line style=\"stroke: #000000; stroke-width: 1.5;\" x1=\"16\" x2=\"243\" y1=\"28.2969\" y2=\"28.2969\"/><text fill=\"#000000\" font-family=\"sans-serif\" font-size=\"14\" font-weight=\"bold\" lengthAdjust=\"spacingAndGlyphs\" textLength=\"214\" x=\"20\" y=\"20.9951\">TextualRepresentationTest</text></a><!--MD5=[b4997ac47864f28c2f74865a473b2911]\n",
       "class E2--><a href=\"psysml:d8d89087-5f7a-40fd-9871-b52a02710321\" target=\"_top\" title=\"psysml:d8d89087-5f7a-40fd-9871-b52a02710321\" xlink:actuate=\"onRequest\" xlink:href=\"psysml:d8d89087-5f7a-40fd-9871-b52a02710321\" xlink:show=\"new\" xlink:title=\"psysml:d8d89087-5f7a-40fd-9871-b52a02710321\" xlink:type=\"simple\"><rect fill=\"#FFFFFF\" height=\"75.5469\" id=\"E2\" style=\"stroke: #383838; stroke-width: 1.5;\" width=\"67\" x=\"97.5\" y=\"164\"/><text fill=\"#000000\" font-family=\"sans-serif\" font-size=\"12\" font-style=\"italic\" lengthAdjust=\"spacingAndGlyphs\" textLength=\"65\" x=\"98.5\" y=\"180.1387\">«item def»</text><text fill=\"#000000\" font-family=\"sans-serif\" font-size=\"12\" lengthAdjust=\"spacingAndGlyphs\" textLength=\"8\" x=\"127\" y=\"194.1074\">C</text><line style=\"stroke: #383838; stroke-width: 1.5;\" x1=\"98.5\" x2=\"163.5\" y1=\"201.9375\" y2=\"201.9375\"/><text fill=\"#000000\" font-family=\"sans-serif\" font-size=\"11\" lengthAdjust=\"spacingAndGlyphs\" textLength=\"38\" x=\"103.5\" y=\"232.9526\">x: Real</text><line style=\"stroke: #383838; stroke-width: 1.0;\" x1=\"98.5\" x2=\"103.5\" y1=\"216.3398\" y2=\"216.3398\"/><text fill=\"#000000\" font-family=\"sans-serif\" font-size=\"11\" lengthAdjust=\"spacingAndGlyphs\" textLength=\"55\" x=\"103.5\" y=\"219.6479\">attributes</text><line style=\"stroke: #383838; stroke-width: 1.0;\" x1=\"158.5\" x2=\"163.5\" y1=\"216.3398\" y2=\"216.3398\"/></a><!--MD5=[09b614a08d8cba4a07c9adeb5e0fee81]\n",
       "class E3--><a href=\"psysml:24b29db4-a520-4ed1-8de3-5d8963222bac\" target=\"_top\" title=\"psysml:24b29db4-a520-4ed1-8de3-5d8963222bac\" xlink:actuate=\"onRequest\" xlink:href=\"psysml:24b29db4-a520-4ed1-8de3-5d8963222bac\" xlink:show=\"new\" xlink:title=\"psysml:24b29db4-a520-4ed1-8de3-5d8963222bac\" xlink:type=\"simple\"><rect fill=\"#FFFFFF\" height=\"45.9375\" id=\"E3\" rx=\"10\" ry=\"10\" style=\"stroke: #383838; stroke-width: 1.5;\" width=\"121\" x=\"70.5\" y=\"301\"/><text fill=\"#000000\" font-family=\"sans-serif\" font-size=\"12\" font-style=\"italic\" lengthAdjust=\"spacingAndGlyphs\" textLength=\"119\" x=\"71.5\" y=\"317.1387\">«assertConstraint»</text><text fill=\"#000000\" font-family=\"sans-serif\" font-size=\"12\" lengthAdjust=\"spacingAndGlyphs\" textLength=\"76\" x=\"93\" y=\"331.1074\">x_constraint</text><line style=\"stroke: #383838; stroke-width: 1.5;\" x1=\"71.5\" x2=\"190.5\" y1=\"338.9375\" y2=\"338.9375\"/></a><!--MD5=[ebbe1d658d1005bcc118a6aa81145e00]\n",
       "class E4--><a href=\"psysml:4d0e1ac7-0ffb-42d7-bf53-5a956dddc154\" target=\"_top\" title=\"psysml:4d0e1ac7-0ffb-42d7-bf53-5a956dddc154\" xlink:actuate=\"onRequest\" xlink:href=\"psysml:4d0e1ac7-0ffb-42d7-bf53-5a956dddc154\" xlink:show=\"new\" xlink:title=\"psysml:4d0e1ac7-0ffb-42d7-bf53-5a956dddc154\" xlink:type=\"simple\"><rect fill=\"#FFFFFF\" height=\"45.9375\" id=\"E4\" style=\"stroke: #383838; stroke-width: 1.5;\" width=\"79\" x=\"91.5\" y=\"41\"/><text fill=\"#000000\" font-family=\"sans-serif\" font-size=\"12\" font-style=\"italic\" lengthAdjust=\"spacingAndGlyphs\" textLength=\"77\" x=\"92.5\" y=\"57.1387\">«action def»</text><text fill=\"#000000\" font-family=\"sans-serif\" font-size=\"12\" lengthAdjust=\"spacingAndGlyphs\" textLength=\"27\" x=\"117.5\" y=\"71.1074\">setX</text><line style=\"stroke: #383838; stroke-width: 1.5;\" x1=\"92.5\" x2=\"169.5\" y1=\"78.9375\" y2=\"78.9375\"/></a><!--MD5=[209b3feb70ccb6233bfe1053d122c12c]\n",
       "reverse link E2 to E3--><a href=\"psysml:92660e64-3893-4545-a353-67dbd76c0ff0\" target=\"_top\" title=\"psysml:92660e64-3893-4545-a353-67dbd76c0ff0\" xlink:actuate=\"onRequest\" xlink:href=\"psysml:92660e64-3893-4545-a353-67dbd76c0ff0\" xlink:show=\"new\" xlink:title=\"psysml:92660e64-3893-4545-a353-67dbd76c0ff0\" xlink:type=\"simple\"><path d=\"M131,253.76 C131,270.17 131,287.52 131,300.75 \" fill=\"none\" id=\"E2&lt;-E3\" style=\"stroke: #383838; stroke-width: 1.0;\"/><polygon fill=\"#383838\" points=\"131,240.31,127,246.31,131,252.31,135,246.31,131,240.31\" style=\"stroke: #383838; stroke-width: 1.0;\"/><text fill=\"#000000\" font-family=\"sans-serif\" font-size=\"13\" lengthAdjust=\"spacingAndGlyphs\" textLength=\"7\" x=\"123.1031\" y=\"289.9622\">*</text></a><!--MD5=[ddeed8deb2209213b62e6cfabaa108b2]\n",
       "reverse link E4 to E2--><a href=\"psysml:7b0b3a1a-f848-44f8-8668-45f7327338b0\" target=\"_top\" title=\"psysml:7b0b3a1a-f848-44f8-8668-45f7327338b0\" xlink:actuate=\"onRequest\" xlink:href=\"psysml:7b0b3a1a-f848-44f8-8668-45f7327338b0\" xlink:show=\"new\" xlink:title=\"psysml:7b0b3a1a-f848-44f8-8668-45f7327338b0\" xlink:type=\"simple\"><path d=\"M131,100.42 C131,119.95 131,144.19 131,163.97 \" fill=\"none\" id=\"E4&lt;-E2\" style=\"stroke: #383838; stroke-width: 1.0;\"/><polygon fill=\"#FFFFFF\" points=\"131,87.15,127,93.15,131,99.15,135,93.15,131,87.15\" style=\"stroke: #383838; stroke-width: 1.0;\"/><text fill=\"#000000\" font-family=\"sans-serif\" font-size=\"13\" lengthAdjust=\"spacingAndGlyphs\" textLength=\"7\" x=\"132\" y=\"130.0669\">c</text></a><!--MD5=[50ef6cc3755c1fee9047a0795e141270]\n",
       "@startuml\r\n",
       "top to bottom direction\r\n",
       "skinparam monochrome true\r\n",
       "skinparam classbackgroundcolor white\r\n",
       "skinparam shadowing false\r\n",
       "skinparam wrapWidth 300\r\n",
       "hide circle\r\n",
       "\r\n",
       "package \"TextualRepresentationTest\" as E1  [[psysml:7357ea5e-db14-480c-8643-46679caa3aca ]]  {\r\n",
       "comp def \"C\" as E2  <<(T,blue) item def>> [[psysml:d8d89087-5f7a-40fd-9871-b52a02710321 ]] {\r\n",
       "- - attributes - -\r\n",
       "x: Real\r\n",
       "}\r\n",
       "comp usage \"x_constraint\" as E3  <<(T,blue) assertConstraint>> [[psysml:24b29db4-a520-4ed1-8de3-5d8963222bac ]] {\r\n",
       "}\r\n",
       "comp def \"setX\" as E4  <<(T,blue) action def>> [[psysml:4d0e1ac7-0ffb-42d7-bf53-5a956dddc154 ]] {\r\n",
       "}\r\n",
       "E2 *- - \"*\"E3 [[psysml:92660e64-3893-4545-a353-67dbd76c0ff0 ]] \r\n",
       "E4 o- - E2 [[psysml:7b0b3a1a-f848-44f8-8668-45f7327338b0 ]] : c\r\n",
       "}\r\n",
       "@enduml\r\n",
       "\n",
       "PlantUML version 1.2020.13(Sat Jun 13 12:26:38 UTC 2020)\n",
       "(EPL source distribution)\n",
       "Java Runtime: OpenJDK Runtime Environment\n",
       "JVM: OpenJDK 64-Bit Server VM\n",
       "Default Encoding: UTF-8\n",
       "Language: en\n",
       "Country: null\n",
       "--></g></svg>"
      ]
     },
     "execution_count": 49,
     "metadata": {},
     "output_type": "execute_result"
    }
   ],
   "source": [
    "%viz --style=\"TB\" --view=\"Sequence\" \"TextualRepresentationTest\""
   ]
  },
  {
   "cell_type": "code",
   "execution_count": 50,
   "id": "c20a9e0a",
   "metadata": {
    "execution": {
     "iopub.execute_input": "2021-08-04T06:26:41.992097Z",
     "iopub.status.busy": "2021-08-04T06:26:41.991642Z",
     "iopub.status.idle": "2021-08-04T06:26:42.015405Z",
     "shell.execute_reply": "2021-08-04T06:26:42.014303Z"
    }
   },
   "outputs": [
    {
     "data": {
      "image/svg+xml": [
       "<?xml version=\"1.0\" encoding=\"UTF-8\" standalone=\"no\"?><svg xmlns=\"http://www.w3.org/2000/svg\" xmlns:xlink=\"http://www.w3.org/1999/xlink\" contentScriptType=\"application/ecmascript\" contentStyleType=\"text/css\" height=\"261px\" preserveAspectRatio=\"none\" style=\"width:345px;height:261px;\" version=\"1.1\" viewBox=\"0 0 345 261\" width=\"345px\" zoomAndPan=\"magnify\"><defs/><g><!--MD5=[fbc87193dbaf4d95561dea2c320d4a47]\n",
       "cluster E1--><a href=\"psysml:7357ea5e-db14-480c-8643-46679caa3aca\" target=\"_top\" title=\"psysml:7357ea5e-db14-480c-8643-46679caa3aca\" xlink:actuate=\"onRequest\" xlink:href=\"psysml:7357ea5e-db14-480c-8643-46679caa3aca\" xlink:show=\"new\" xlink:title=\"psysml:7357ea5e-db14-480c-8643-46679caa3aca\" xlink:type=\"simple\"><polygon fill=\"#FFFFFF\" points=\"16,6,236,6,243,28.2969,323,28.2969,323,249.5,16,249.5,16,6\" style=\"stroke: #000000; stroke-width: 1.5;\"/><line style=\"stroke: #000000; stroke-width: 1.5;\" x1=\"16\" x2=\"243\" y1=\"28.2969\" y2=\"28.2969\"/><text fill=\"#000000\" font-family=\"sans-serif\" font-size=\"14\" font-weight=\"bold\" lengthAdjust=\"spacingAndGlyphs\" textLength=\"214\" x=\"20\" y=\"20.9951\">TextualRepresentationTest</text></a><!--MD5=[f6df4d0ebaf0b5dfb2ced0ae5af7c670]\n",
       "cluster E4--><a href=\"psysml:4d0e1ac7-0ffb-42d7-bf53-5a956dddc154\" target=\"_top\" title=\"psysml:4d0e1ac7-0ffb-42d7-bf53-5a956dddc154\" xlink:actuate=\"onRequest\" xlink:href=\"psysml:4d0e1ac7-0ffb-42d7-bf53-5a956dddc154\" xlink:show=\"new\" xlink:title=\"psysml:4d0e1ac7-0ffb-42d7-bf53-5a956dddc154\" xlink:type=\"simple\"><rect fill=\"#FFFFFF\" height=\"154.5\" id=\"E4\" style=\"stroke: #383838; stroke-width: 1.5;\" width=\"132\" x=\"175\" y=\"79\"/><rect fill=\"#F8F8F8\" height=\"37.9375\" style=\"stroke: #383838; stroke-width: 1.5;\" width=\"132\" x=\"175\" y=\"79\"/><text fill=\"#000000\" font-family=\"sans-serif\" font-size=\"12\" font-style=\"italic\" lengthAdjust=\"spacingAndGlyphs\" textLength=\"77\" x=\"202.5\" y=\"95.1387\">«action def»</text><text fill=\"#000000\" font-family=\"sans-serif\" font-size=\"12\" lengthAdjust=\"spacingAndGlyphs\" textLength=\"27\" x=\"227.5\" y=\"109.1074\">setX</text></a><!--MD5=[b4997ac47864f28c2f74865a473b2911]\n",
       "class E2--><a href=\"psysml:d8d89087-5f7a-40fd-9871-b52a02710321\" target=\"_top\" title=\"psysml:d8d89087-5f7a-40fd-9871-b52a02710321\" xlink:actuate=\"onRequest\" xlink:href=\"psysml:d8d89087-5f7a-40fd-9871-b52a02710321\" xlink:show=\"new\" xlink:title=\"psysml:d8d89087-5f7a-40fd-9871-b52a02710321\" xlink:type=\"simple\"><rect fill=\"#FFFFFF\" height=\"75.5469\" id=\"E2\" style=\"stroke: #383838; stroke-width: 1.5;\" width=\"67\" x=\"59.5\" y=\"41\"/><text fill=\"#000000\" font-family=\"sans-serif\" font-size=\"12\" font-style=\"italic\" lengthAdjust=\"spacingAndGlyphs\" textLength=\"65\" x=\"60.5\" y=\"57.1387\">«item def»</text><text fill=\"#000000\" font-family=\"sans-serif\" font-size=\"12\" lengthAdjust=\"spacingAndGlyphs\" textLength=\"8\" x=\"89\" y=\"71.1074\">C</text><line style=\"stroke: #383838; stroke-width: 1.5;\" x1=\"60.5\" x2=\"125.5\" y1=\"78.9375\" y2=\"78.9375\"/><text fill=\"#000000\" font-family=\"sans-serif\" font-size=\"11\" lengthAdjust=\"spacingAndGlyphs\" textLength=\"38\" x=\"65.5\" y=\"109.9526\">x: Real</text><line style=\"stroke: #383838; stroke-width: 1.0;\" x1=\"60.5\" x2=\"65.5\" y1=\"93.3398\" y2=\"93.3398\"/><text fill=\"#000000\" font-family=\"sans-serif\" font-size=\"11\" lengthAdjust=\"spacingAndGlyphs\" textLength=\"55\" x=\"65.5\" y=\"96.6479\">attributes</text><line style=\"stroke: #383838; stroke-width: 1.0;\" x1=\"120.5\" x2=\"125.5\" y1=\"93.3398\" y2=\"93.3398\"/></a><!--MD5=[09b614a08d8cba4a07c9adeb5e0fee81]\n",
       "class E3--><a href=\"psysml:24b29db4-a520-4ed1-8de3-5d8963222bac\" target=\"_top\" title=\"psysml:24b29db4-a520-4ed1-8de3-5d8963222bac\" xlink:actuate=\"onRequest\" xlink:href=\"psysml:24b29db4-a520-4ed1-8de3-5d8963222bac\" xlink:show=\"new\" xlink:title=\"psysml:24b29db4-a520-4ed1-8de3-5d8963222bac\" xlink:type=\"simple\"><rect fill=\"#FFFFFF\" height=\"45.9375\" id=\"E3\" rx=\"10\" ry=\"10\" style=\"stroke: #383838; stroke-width: 1.5;\" width=\"121\" x=\"32.5\" y=\"177\"/><text fill=\"#000000\" font-family=\"sans-serif\" font-size=\"12\" font-style=\"italic\" lengthAdjust=\"spacingAndGlyphs\" textLength=\"119\" x=\"33.5\" y=\"193.1387\">«assertConstraint»</text><text fill=\"#000000\" font-family=\"sans-serif\" font-size=\"12\" lengthAdjust=\"spacingAndGlyphs\" textLength=\"76\" x=\"55\" y=\"207.1074\">x_constraint</text><line style=\"stroke: #383838; stroke-width: 1.5;\" x1=\"33.5\" x2=\"152.5\" y1=\"214.9375\" y2=\"214.9375\"/></a><text fill=\"#000000\" font-family=\"sans-serif\" font-size=\"14\" lengthAdjust=\"spacingAndGlyphs\" textLength=\"8\" x=\"189\" y=\"57.6982\">c</text><rect fill=\"#383838\" height=\"12\" style=\"stroke: #F8F8F8; stroke-width: 1.5;\" width=\"12\" x=\"187\" y=\"73\"/><text fill=\"#000000\" font-family=\"sans-serif\" font-size=\"14\" lengthAdjust=\"spacingAndGlyphs\" textLength=\"38\" x=\"221\" y=\"57.6982\">newX</text><rect fill=\"#383838\" height=\"12\" style=\"stroke: #F8F8F8; stroke-width: 1.5;\" width=\"12\" x=\"234\" y=\"73\"/><!--MD5=[209b3feb70ccb6233bfe1053d122c12c]\n",
       "reverse link E2 to E3--><a href=\"psysml:92660e64-3893-4545-a353-67dbd76c0ff0\" target=\"_top\" title=\"psysml:92660e64-3893-4545-a353-67dbd76c0ff0\" xlink:actuate=\"onRequest\" xlink:href=\"psysml:92660e64-3893-4545-a353-67dbd76c0ff0\" xlink:show=\"new\" xlink:title=\"psysml:92660e64-3893-4545-a353-67dbd76c0ff0\" xlink:type=\"simple\"><path d=\"M93,130.34 C93,146.61 93,163.81 93,176.93 \" fill=\"none\" id=\"E2&lt;-E3\" style=\"stroke: #383838; stroke-width: 1.0;\"/><polygon fill=\"#383838\" points=\"93,117,89,123,93,129,97,123,93,117\" style=\"stroke: #383838; stroke-width: 1.0;\"/><text fill=\"#000000\" font-family=\"sans-serif\" font-size=\"13\" lengthAdjust=\"spacingAndGlyphs\" textLength=\"7\" x=\"85.0594\" y=\"165.8075\">*</text></a><!--MD5=[84a67e42739eaf538435b4d5a4e2ef00]\n",
       "@startuml\r\n",
       "top to bottom direction\r\n",
       "skinparam monochrome true\r\n",
       "skinparam classbackgroundcolor white\r\n",
       "skinparam shadowing false\r\n",
       "skinparam wrapWidth 300\r\n",
       "hide circle\r\n",
       "\r\n",
       "package \"TextualRepresentationTest\" as E1  [[psysml:7357ea5e-db14-480c-8643-46679caa3aca ]]  {\r\n",
       "comp def \"C\" as E2  <<(T,blue) item def>> [[psysml:d8d89087-5f7a-40fd-9871-b52a02710321 ]] {\r\n",
       "- - attributes - -\r\n",
       "x: Real\r\n",
       "}\r\n",
       "comp usage \"x_constraint\" as E3  <<(T,blue) assertConstraint>> [[psysml:24b29db4-a520-4ed1-8de3-5d8963222bac ]] {\r\n",
       "}\r\n",
       "rec def \"setX\" as E4  <<(T,blue) action def>> [[psysml:4d0e1ac7-0ffb-42d7-bf53-5a956dddc154 ]] {\r\n",
       "portin \"c\" as E5  [[psysml:7b0b3a1a-f848-44f8-8668-45f7327338b0 ]] \r\n",
       "portin \"newX\" as E6  [[psysml:5310235f-3728-4e86-87c8-1dd93d46f083 ]] \r\n",
       "}\r\n",
       "\r\n",
       "E2 *- - \"*\"E3 [[psysml:92660e64-3893-4545-a353-67dbd76c0ff0 ]] \r\n",
       "}\r\n",
       "@enduml\r\n",
       "\n",
       "PlantUML version 1.2020.13(Sat Jun 13 12:26:38 UTC 2020)\n",
       "(EPL source distribution)\n",
       "Java Runtime: OpenJDK Runtime Environment\n",
       "JVM: OpenJDK 64-Bit Server VM\n",
       "Default Encoding: UTF-8\n",
       "Language: en\n",
       "Country: null\n",
       "--></g></svg>"
      ]
     },
     "execution_count": 50,
     "metadata": {},
     "output_type": "execute_result"
    }
   ],
   "source": [
    "%viz --style=\"TB\" --view=\"MIXED\" \"TextualRepresentationTest\""
   ]
  },
  {
   "cell_type": "code",
   "execution_count": 51,
   "id": "8bd362e4",
   "metadata": {
    "execution": {
     "iopub.execute_input": "2021-08-04T06:26:42.064962Z",
     "iopub.status.busy": "2021-08-04T06:26:42.064499Z",
     "iopub.status.idle": "2021-08-04T06:26:42.091932Z",
     "shell.execute_reply": "2021-08-04T06:26:42.091234Z"
    }
   },
   "outputs": [
    {
     "data": {
      "image/svg+xml": [
       "<?xml version=\"1.0\" encoding=\"UTF-8\" standalone=\"no\"?><svg xmlns=\"http://www.w3.org/2000/svg\" xmlns:xlink=\"http://www.w3.org/1999/xlink\" contentScriptType=\"application/ecmascript\" contentStyleType=\"text/css\" height=\"261px\" preserveAspectRatio=\"none\" style=\"width:345px;height:261px;\" version=\"1.1\" viewBox=\"0 0 345 261\" width=\"345px\" zoomAndPan=\"magnify\"><defs/><g><!--MD5=[fbc87193dbaf4d95561dea2c320d4a47]\n",
       "cluster E1--><a href=\"psysml:7357ea5e-db14-480c-8643-46679caa3aca\" target=\"_top\" title=\"psysml:7357ea5e-db14-480c-8643-46679caa3aca\" xlink:actuate=\"onRequest\" xlink:href=\"psysml:7357ea5e-db14-480c-8643-46679caa3aca\" xlink:show=\"new\" xlink:title=\"psysml:7357ea5e-db14-480c-8643-46679caa3aca\" xlink:type=\"simple\"><polygon fill=\"#FFFFFF\" points=\"16,6,236,6,243,28.2969,323,28.2969,323,249.5,16,249.5,16,6\" style=\"stroke: #000000; stroke-width: 1.5;\"/><line style=\"stroke: #000000; stroke-width: 1.5;\" x1=\"16\" x2=\"243\" y1=\"28.2969\" y2=\"28.2969\"/><text fill=\"#000000\" font-family=\"sans-serif\" font-size=\"14\" font-weight=\"bold\" lengthAdjust=\"spacingAndGlyphs\" textLength=\"214\" x=\"20\" y=\"20.9951\">TextualRepresentationTest</text></a><!--MD5=[f6df4d0ebaf0b5dfb2ced0ae5af7c670]\n",
       "cluster E4--><a href=\"psysml:4d0e1ac7-0ffb-42d7-bf53-5a956dddc154\" target=\"_top\" title=\"psysml:4d0e1ac7-0ffb-42d7-bf53-5a956dddc154\" xlink:actuate=\"onRequest\" xlink:href=\"psysml:4d0e1ac7-0ffb-42d7-bf53-5a956dddc154\" xlink:show=\"new\" xlink:title=\"psysml:4d0e1ac7-0ffb-42d7-bf53-5a956dddc154\" xlink:type=\"simple\"><rect fill=\"#FFFFFF\" height=\"154.5\" id=\"E4\" style=\"stroke: #383838; stroke-width: 1.5;\" width=\"132\" x=\"175\" y=\"79\"/><rect fill=\"#F8F8F8\" height=\"37.9375\" style=\"stroke: #383838; stroke-width: 1.5;\" width=\"132\" x=\"175\" y=\"79\"/><text fill=\"#000000\" font-family=\"sans-serif\" font-size=\"12\" font-style=\"italic\" lengthAdjust=\"spacingAndGlyphs\" textLength=\"77\" x=\"202.5\" y=\"95.1387\">«action def»</text><text fill=\"#000000\" font-family=\"sans-serif\" font-size=\"12\" lengthAdjust=\"spacingAndGlyphs\" textLength=\"27\" x=\"227.5\" y=\"109.1074\">setX</text></a><!--MD5=[b4997ac47864f28c2f74865a473b2911]\n",
       "class E2--><a href=\"psysml:d8d89087-5f7a-40fd-9871-b52a02710321\" target=\"_top\" title=\"psysml:d8d89087-5f7a-40fd-9871-b52a02710321\" xlink:actuate=\"onRequest\" xlink:href=\"psysml:d8d89087-5f7a-40fd-9871-b52a02710321\" xlink:show=\"new\" xlink:title=\"psysml:d8d89087-5f7a-40fd-9871-b52a02710321\" xlink:type=\"simple\"><rect fill=\"#FFFFFF\" height=\"75.5469\" id=\"E2\" style=\"stroke: #383838; stroke-width: 1.5;\" width=\"67\" x=\"59.5\" y=\"41\"/><text fill=\"#000000\" font-family=\"sans-serif\" font-size=\"12\" font-style=\"italic\" lengthAdjust=\"spacingAndGlyphs\" textLength=\"65\" x=\"60.5\" y=\"57.1387\">«item def»</text><text fill=\"#000000\" font-family=\"sans-serif\" font-size=\"12\" lengthAdjust=\"spacingAndGlyphs\" textLength=\"8\" x=\"89\" y=\"71.1074\">C</text><line style=\"stroke: #383838; stroke-width: 1.5;\" x1=\"60.5\" x2=\"125.5\" y1=\"78.9375\" y2=\"78.9375\"/><text fill=\"#000000\" font-family=\"sans-serif\" font-size=\"11\" lengthAdjust=\"spacingAndGlyphs\" textLength=\"38\" x=\"65.5\" y=\"109.9526\">x: Real</text><line style=\"stroke: #383838; stroke-width: 1.0;\" x1=\"60.5\" x2=\"65.5\" y1=\"93.3398\" y2=\"93.3398\"/><text fill=\"#000000\" font-family=\"sans-serif\" font-size=\"11\" lengthAdjust=\"spacingAndGlyphs\" textLength=\"55\" x=\"65.5\" y=\"96.6479\">attributes</text><line style=\"stroke: #383838; stroke-width: 1.0;\" x1=\"120.5\" x2=\"125.5\" y1=\"93.3398\" y2=\"93.3398\"/></a><!--MD5=[09b614a08d8cba4a07c9adeb5e0fee81]\n",
       "class E3--><a href=\"psysml:24b29db4-a520-4ed1-8de3-5d8963222bac\" target=\"_top\" title=\"psysml:24b29db4-a520-4ed1-8de3-5d8963222bac\" xlink:actuate=\"onRequest\" xlink:href=\"psysml:24b29db4-a520-4ed1-8de3-5d8963222bac\" xlink:show=\"new\" xlink:title=\"psysml:24b29db4-a520-4ed1-8de3-5d8963222bac\" xlink:type=\"simple\"><rect fill=\"#FFFFFF\" height=\"45.9375\" id=\"E3\" rx=\"10\" ry=\"10\" style=\"stroke: #383838; stroke-width: 1.5;\" width=\"121\" x=\"32.5\" y=\"177\"/><text fill=\"#000000\" font-family=\"sans-serif\" font-size=\"12\" font-style=\"italic\" lengthAdjust=\"spacingAndGlyphs\" textLength=\"119\" x=\"33.5\" y=\"193.1387\">«assertConstraint»</text><text fill=\"#000000\" font-family=\"sans-serif\" font-size=\"12\" lengthAdjust=\"spacingAndGlyphs\" textLength=\"76\" x=\"55\" y=\"207.1074\">x_constraint</text><line style=\"stroke: #383838; stroke-width: 1.5;\" x1=\"33.5\" x2=\"152.5\" y1=\"214.9375\" y2=\"214.9375\"/></a><text fill=\"#000000\" font-family=\"sans-serif\" font-size=\"14\" lengthAdjust=\"spacingAndGlyphs\" textLength=\"8\" x=\"189\" y=\"57.6982\">c</text><rect fill=\"#383838\" height=\"12\" style=\"stroke: #F8F8F8; stroke-width: 1.5;\" width=\"12\" x=\"187\" y=\"73\"/><text fill=\"#000000\" font-family=\"sans-serif\" font-size=\"14\" lengthAdjust=\"spacingAndGlyphs\" textLength=\"38\" x=\"221\" y=\"57.6982\">newX</text><rect fill=\"#383838\" height=\"12\" style=\"stroke: #F8F8F8; stroke-width: 1.5;\" width=\"12\" x=\"234\" y=\"73\"/><!--MD5=[209b3feb70ccb6233bfe1053d122c12c]\n",
       "reverse link E2 to E3--><a href=\"psysml:92660e64-3893-4545-a353-67dbd76c0ff0\" target=\"_top\" title=\"psysml:92660e64-3893-4545-a353-67dbd76c0ff0\" xlink:actuate=\"onRequest\" xlink:href=\"psysml:92660e64-3893-4545-a353-67dbd76c0ff0\" xlink:show=\"new\" xlink:title=\"psysml:92660e64-3893-4545-a353-67dbd76c0ff0\" xlink:type=\"simple\"><path d=\"M93,130.29 C93,130.29 93,176.74 93,176.74 \" fill=\"none\" id=\"E2&lt;-E3\" style=\"stroke: #383838; stroke-width: 1.0;\"/><polygon fill=\"#383838\" points=\"93,117.29,89,123.29,93,129.29,97,123.29,93,117.29\" style=\"stroke: #383838; stroke-width: 1.0;\"/><text fill=\"#000000\" font-family=\"sans-serif\" font-size=\"13\" lengthAdjust=\"spacingAndGlyphs\" textLength=\"7\" x=\"85.1031\" y=\"165.9497\">*</text></a><!--MD5=[466ed20325f456f1380c03598cca60bb]\n",
       "@startuml\r\n",
       "skinparam linetype ortho\r\n",
       "skinparam monochrome true\r\n",
       "skinparam classbackgroundcolor white\r\n",
       "skinparam shadowing false\r\n",
       "skinparam wrapWidth 300\r\n",
       "hide circle\r\n",
       "\r\n",
       "package \"TextualRepresentationTest\" as E1  [[psysml:7357ea5e-db14-480c-8643-46679caa3aca ]]  {\r\n",
       "comp def \"C\" as E2  <<(T,blue) item def>> [[psysml:d8d89087-5f7a-40fd-9871-b52a02710321 ]] {\r\n",
       "- - attributes - -\r\n",
       "x: Real\r\n",
       "}\r\n",
       "comp usage \"x_constraint\" as E3  <<(T,blue) assertConstraint>> [[psysml:24b29db4-a520-4ed1-8de3-5d8963222bac ]] {\r\n",
       "}\r\n",
       "rec def \"setX\" as E4  <<(T,blue) action def>> [[psysml:4d0e1ac7-0ffb-42d7-bf53-5a956dddc154 ]] {\r\n",
       "portin \"c\" as E5  [[psysml:7b0b3a1a-f848-44f8-8668-45f7327338b0 ]] \r\n",
       "portin \"newX\" as E6  [[psysml:5310235f-3728-4e86-87c8-1dd93d46f083 ]] \r\n",
       "}\r\n",
       "\r\n",
       "E2 *- - \"*\"E3 [[psysml:92660e64-3893-4545-a353-67dbd76c0ff0 ]] \r\n",
       "}\r\n",
       "@enduml\r\n",
       "\n",
       "PlantUML version 1.2020.13(Sat Jun 13 12:26:38 UTC 2020)\n",
       "(EPL source distribution)\n",
       "Java Runtime: OpenJDK Runtime Environment\n",
       "JVM: OpenJDK 64-Bit Server VM\n",
       "Default Encoding: UTF-8\n",
       "Language: en\n",
       "Country: null\n",
       "--></g></svg>"
      ]
     },
     "execution_count": 51,
     "metadata": {},
     "output_type": "execute_result"
    }
   ],
   "source": [
    "%viz --style=\"ORTHOLINE\" --view=\"Default\" \"TextualRepresentationTest\""
   ]
  },
  {
   "cell_type": "code",
   "execution_count": 52,
   "id": "16d20f91",
   "metadata": {
    "execution": {
     "iopub.execute_input": "2021-08-04T06:26:42.142246Z",
     "iopub.status.busy": "2021-08-04T06:26:42.141769Z",
     "iopub.status.idle": "2021-08-04T06:26:42.173627Z",
     "shell.execute_reply": "2021-08-04T06:26:42.173255Z"
    }
   },
   "outputs": [
    {
     "data": {
      "image/svg+xml": [
       "<?xml version=\"1.0\" encoding=\"UTF-8\" standalone=\"no\"?><svg xmlns=\"http://www.w3.org/2000/svg\" xmlns:xlink=\"http://www.w3.org/1999/xlink\" contentScriptType=\"application/ecmascript\" contentStyleType=\"text/css\" height=\"375px\" preserveAspectRatio=\"none\" style=\"width:268px;height:375px;\" version=\"1.1\" viewBox=\"0 0 268 375\" width=\"268px\" zoomAndPan=\"magnify\"><defs/><g><!--MD5=[fbc87193dbaf4d95561dea2c320d4a47]\n",
       "cluster E1--><a href=\"psysml:7357ea5e-db14-480c-8643-46679caa3aca\" target=\"_top\" title=\"psysml:7357ea5e-db14-480c-8643-46679caa3aca\" xlink:actuate=\"onRequest\" xlink:href=\"psysml:7357ea5e-db14-480c-8643-46679caa3aca\" xlink:show=\"new\" xlink:title=\"psysml:7357ea5e-db14-480c-8643-46679caa3aca\" xlink:type=\"simple\"><polygon fill=\"#FFFFFF\" points=\"16,6,236,6,243,28.2969,246,28.2969,246,363,16,363,16,6\" style=\"stroke: #000000; stroke-width: 1.5;\"/><line style=\"stroke: #000000; stroke-width: 1.5;\" x1=\"16\" x2=\"243\" y1=\"28.2969\" y2=\"28.2969\"/><text fill=\"#000000\" font-family=\"sans-serif\" font-size=\"14\" font-weight=\"bold\" lengthAdjust=\"spacingAndGlyphs\" textLength=\"214\" x=\"20\" y=\"20.9951\">TextualRepresentationTest</text></a><!--MD5=[b4997ac47864f28c2f74865a473b2911]\n",
       "class E2--><a href=\"psysml:d8d89087-5f7a-40fd-9871-b52a02710321\" target=\"_top\" title=\"psysml:d8d89087-5f7a-40fd-9871-b52a02710321\" xlink:actuate=\"onRequest\" xlink:href=\"psysml:d8d89087-5f7a-40fd-9871-b52a02710321\" xlink:show=\"new\" xlink:title=\"psysml:d8d89087-5f7a-40fd-9871-b52a02710321\" xlink:type=\"simple\"><rect fill=\"#FFFFFF\" height=\"75.5469\" id=\"E2\" style=\"stroke: #383838; stroke-width: 1.5;\" width=\"67\" x=\"97.5\" y=\"164\"/><text fill=\"#000000\" font-family=\"sans-serif\" font-size=\"12\" font-style=\"italic\" lengthAdjust=\"spacingAndGlyphs\" textLength=\"65\" x=\"98.5\" y=\"180.1387\">«item def»</text><text fill=\"#000000\" font-family=\"sans-serif\" font-size=\"12\" lengthAdjust=\"spacingAndGlyphs\" textLength=\"8\" x=\"127\" y=\"194.1074\">C</text><line style=\"stroke: #383838; stroke-width: 1.5;\" x1=\"98.5\" x2=\"163.5\" y1=\"201.9375\" y2=\"201.9375\"/><text fill=\"#000000\" font-family=\"sans-serif\" font-size=\"11\" lengthAdjust=\"spacingAndGlyphs\" textLength=\"38\" x=\"103.5\" y=\"232.9526\">x: Real</text><line style=\"stroke: #383838; stroke-width: 1.0;\" x1=\"98.5\" x2=\"103.5\" y1=\"216.3398\" y2=\"216.3398\"/><text fill=\"#000000\" font-family=\"sans-serif\" font-size=\"11\" lengthAdjust=\"spacingAndGlyphs\" textLength=\"55\" x=\"103.5\" y=\"219.6479\">attributes</text><line style=\"stroke: #383838; stroke-width: 1.0;\" x1=\"158.5\" x2=\"163.5\" y1=\"216.3398\" y2=\"216.3398\"/></a><!--MD5=[09b614a08d8cba4a07c9adeb5e0fee81]\n",
       "class E3--><a href=\"psysml:24b29db4-a520-4ed1-8de3-5d8963222bac\" target=\"_top\" title=\"psysml:24b29db4-a520-4ed1-8de3-5d8963222bac\" xlink:actuate=\"onRequest\" xlink:href=\"psysml:24b29db4-a520-4ed1-8de3-5d8963222bac\" xlink:show=\"new\" xlink:title=\"psysml:24b29db4-a520-4ed1-8de3-5d8963222bac\" xlink:type=\"simple\"><rect fill=\"#FFFFFF\" height=\"45.9375\" id=\"E3\" rx=\"10\" ry=\"10\" style=\"stroke: #383838; stroke-width: 1.5;\" width=\"121\" x=\"70.5\" y=\"301\"/><text fill=\"#000000\" font-family=\"sans-serif\" font-size=\"12\" font-style=\"italic\" lengthAdjust=\"spacingAndGlyphs\" textLength=\"119\" x=\"71.5\" y=\"317.1387\">«assertConstraint»</text><text fill=\"#000000\" font-family=\"sans-serif\" font-size=\"12\" lengthAdjust=\"spacingAndGlyphs\" textLength=\"76\" x=\"93\" y=\"331.1074\">x_constraint</text><line style=\"stroke: #383838; stroke-width: 1.5;\" x1=\"71.5\" x2=\"190.5\" y1=\"338.9375\" y2=\"338.9375\"/></a><!--MD5=[ebbe1d658d1005bcc118a6aa81145e00]\n",
       "class E4--><a href=\"psysml:4d0e1ac7-0ffb-42d7-bf53-5a956dddc154\" target=\"_top\" title=\"psysml:4d0e1ac7-0ffb-42d7-bf53-5a956dddc154\" xlink:actuate=\"onRequest\" xlink:href=\"psysml:4d0e1ac7-0ffb-42d7-bf53-5a956dddc154\" xlink:show=\"new\" xlink:title=\"psysml:4d0e1ac7-0ffb-42d7-bf53-5a956dddc154\" xlink:type=\"simple\"><rect fill=\"#FFFFFF\" height=\"45.9375\" id=\"E4\" style=\"stroke: #383838; stroke-width: 1.5;\" width=\"79\" x=\"91.5\" y=\"41\"/><text fill=\"#000000\" font-family=\"sans-serif\" font-size=\"12\" font-style=\"italic\" lengthAdjust=\"spacingAndGlyphs\" textLength=\"77\" x=\"92.5\" y=\"57.1387\">«action def»</text><text fill=\"#000000\" font-family=\"sans-serif\" font-size=\"12\" lengthAdjust=\"spacingAndGlyphs\" textLength=\"27\" x=\"117.5\" y=\"71.1074\">setX</text><line style=\"stroke: #383838; stroke-width: 1.5;\" x1=\"92.5\" x2=\"169.5\" y1=\"78.9375\" y2=\"78.9375\"/></a><!--MD5=[209b3feb70ccb6233bfe1053d122c12c]\n",
       "reverse link E2 to E3--><a href=\"psysml:92660e64-3893-4545-a353-67dbd76c0ff0\" target=\"_top\" title=\"psysml:92660e64-3893-4545-a353-67dbd76c0ff0\" xlink:actuate=\"onRequest\" xlink:href=\"psysml:92660e64-3893-4545-a353-67dbd76c0ff0\" xlink:show=\"new\" xlink:title=\"psysml:92660e64-3893-4545-a353-67dbd76c0ff0\" xlink:type=\"simple\"><path d=\"M131,253.27 C131,253.27 131,300.78 131,300.78 \" fill=\"none\" id=\"E2&lt;-E3\" style=\"stroke: #383838; stroke-width: 1.0;\"/><polygon fill=\"#383838\" points=\"131,240.27,127,246.27,131,252.27,135,246.27,131,240.27\" style=\"stroke: #383838; stroke-width: 1.0;\"/><text fill=\"#000000\" font-family=\"sans-serif\" font-size=\"13\" lengthAdjust=\"spacingAndGlyphs\" textLength=\"7\" x=\"123.1031\" y=\"289.9999\">*</text></a><!--MD5=[ddeed8deb2209213b62e6cfabaa108b2]\n",
       "reverse link E4 to E2--><a href=\"psysml:7b0b3a1a-f848-44f8-8668-45f7327338b0\" target=\"_top\" title=\"psysml:7b0b3a1a-f848-44f8-8668-45f7327338b0\" xlink:actuate=\"onRequest\" xlink:href=\"psysml:7b0b3a1a-f848-44f8-8668-45f7327338b0\" xlink:show=\"new\" xlink:title=\"psysml:7b0b3a1a-f848-44f8-8668-45f7327338b0\" xlink:type=\"simple\"><path d=\"M131,100.1 C131,100.1 131,163.96 131,163.96 \" fill=\"none\" id=\"E4&lt;-E2\" style=\"stroke: #383838; stroke-width: 1.0;\"/><polygon fill=\"#FFFFFF\" points=\"131,87.1,127,93.1,131,99.1,135,93.1,131,87.1\" style=\"stroke: #383838; stroke-width: 1.0;\"/><text fill=\"#000000\" font-family=\"sans-serif\" font-size=\"13\" lengthAdjust=\"spacingAndGlyphs\" textLength=\"7\" x=\"132\" y=\"130.0669\">c</text></a><!--MD5=[4db363c4f689cbcfba768df077b0da39]\n",
       "@startuml\r\n",
       "skinparam linetype ortho\r\n",
       "skinparam monochrome true\r\n",
       "skinparam classbackgroundcolor white\r\n",
       "skinparam shadowing false\r\n",
       "skinparam wrapWidth 300\r\n",
       "hide circle\r\n",
       "\r\n",
       "package \"TextualRepresentationTest\" as E1  [[psysml:7357ea5e-db14-480c-8643-46679caa3aca ]]  {\r\n",
       "comp def \"C\" as E2  <<(T,blue) item def>> [[psysml:d8d89087-5f7a-40fd-9871-b52a02710321 ]] {\r\n",
       "- - attributes - -\r\n",
       "x: Real\r\n",
       "}\r\n",
       "comp usage \"x_constraint\" as E3  <<(T,blue) assertConstraint>> [[psysml:24b29db4-a520-4ed1-8de3-5d8963222bac ]] {\r\n",
       "}\r\n",
       "comp def \"setX\" as E4  <<(T,blue) action def>> [[psysml:4d0e1ac7-0ffb-42d7-bf53-5a956dddc154 ]] {\r\n",
       "}\r\n",
       "E2 *- - \"*\"E3 [[psysml:92660e64-3893-4545-a353-67dbd76c0ff0 ]] \r\n",
       "E4 o- - E2 [[psysml:7b0b3a1a-f848-44f8-8668-45f7327338b0 ]] : c\r\n",
       "}\r\n",
       "@enduml\r\n",
       "\n",
       "PlantUML version 1.2020.13(Sat Jun 13 12:26:38 UTC 2020)\n",
       "(EPL source distribution)\n",
       "Java Runtime: OpenJDK Runtime Environment\n",
       "JVM: OpenJDK 64-Bit Server VM\n",
       "Default Encoding: UTF-8\n",
       "Language: en\n",
       "Country: null\n",
       "--></g></svg>"
      ]
     },
     "execution_count": 52,
     "metadata": {},
     "output_type": "execute_result"
    }
   ],
   "source": [
    "%viz --style=\"ORTHOLINE\" --view=\"Tree\" \"TextualRepresentationTest\""
   ]
  },
  {
   "cell_type": "code",
   "execution_count": 53,
   "id": "81a96e3a",
   "metadata": {
    "execution": {
     "iopub.execute_input": "2021-08-04T06:26:42.223159Z",
     "iopub.status.busy": "2021-08-04T06:26:42.222748Z",
     "iopub.status.idle": "2021-08-04T06:26:42.227070Z",
     "shell.execute_reply": "2021-08-04T06:26:42.226733Z"
    }
   },
   "outputs": [
    {
     "data": {
      "image/svg+xml": [
       "<?xml version=\"1.0\" encoding=\"UTF-8\" standalone=\"no\"?><svg xmlns=\"http://www.w3.org/2000/svg\" xmlns:xlink=\"http://www.w3.org/1999/xlink\" contentScriptType=\"application/ecmascript\" contentStyleType=\"text/css\" height=\"12px\" preserveAspectRatio=\"none\" style=\"width:12px;height:12px;\" version=\"1.1\" viewBox=\"0 0 12 12\" width=\"12px\" zoomAndPan=\"magnify\"><defs/><g><!--MD5=[97d6f38768b311333d388e66b2b27985]\n",
       "@startuml\r\n",
       "skinparam linetype ortho\r\n",
       "skinparam monochrome true\r\n",
       "skinparam classbackgroundcolor white\r\n",
       "skinparam shadowing false\r\n",
       "skinparam wrapWidth 300\r\n",
       "hide circle\r\n",
       "\r\n",
       "@enduml\r\n",
       "\n",
       "PlantUML version 1.2020.13(Sat Jun 13 12:26:38 UTC 2020)\n",
       "(EPL source distribution)\n",
       "Java Runtime: OpenJDK Runtime Environment\n",
       "JVM: OpenJDK 64-Bit Server VM\n",
       "Default Encoding: UTF-8\n",
       "Language: en\n",
       "Country: null\n",
       "--></g></svg>"
      ]
     },
     "execution_count": 53,
     "metadata": {},
     "output_type": "execute_result"
    }
   ],
   "source": [
    "%viz --style=\"ORTHOLINE\" --view=\"State\" \"TextualRepresentationTest\""
   ]
  },
  {
   "cell_type": "code",
   "execution_count": 54,
   "id": "5fc3a5de",
   "metadata": {
    "execution": {
     "iopub.execute_input": "2021-08-04T06:26:42.277084Z",
     "iopub.status.busy": "2021-08-04T06:26:42.276676Z",
     "iopub.status.idle": "2021-08-04T06:26:42.296501Z",
     "shell.execute_reply": "2021-08-04T06:26:42.296302Z"
    }
   },
   "outputs": [
    {
     "data": {
      "image/svg+xml": [
       "<?xml version=\"1.0\" encoding=\"UTF-8\" standalone=\"no\"?><svg xmlns=\"http://www.w3.org/2000/svg\" xmlns:xlink=\"http://www.w3.org/1999/xlink\" contentScriptType=\"application/ecmascript\" contentStyleType=\"text/css\" height=\"179px\" preserveAspectRatio=\"none\" style=\"width:284px;height:179px;\" version=\"1.1\" viewBox=\"0 0 284 179\" width=\"284px\" zoomAndPan=\"magnify\"><defs/><g><!--MD5=[fbc87193dbaf4d95561dea2c320d4a47]\n",
       "cluster E1--><a href=\"psysml:7357ea5e-db14-480c-8643-46679caa3aca\" target=\"_top\" title=\"psysml:7357ea5e-db14-480c-8643-46679caa3aca\" xlink:actuate=\"onRequest\" xlink:href=\"psysml:7357ea5e-db14-480c-8643-46679caa3aca\" xlink:show=\"new\" xlink:title=\"psysml:7357ea5e-db14-480c-8643-46679caa3aca\" xlink:type=\"simple\"><polygon fill=\"#FFFFFF\" points=\"16,6,236,6,243,28.2969,262,28.2969,262,167,16,167,16,6\" style=\"stroke: #000000; stroke-width: 1.5;\"/><line style=\"stroke: #000000; stroke-width: 1.5;\" x1=\"16\" x2=\"243\" y1=\"28.2969\" y2=\"28.2969\"/><text fill=\"#000000\" font-family=\"sans-serif\" font-size=\"14\" font-weight=\"bold\" lengthAdjust=\"spacingAndGlyphs\" textLength=\"214\" x=\"20\" y=\"20.9951\">TextualRepresentationTest</text></a><!--MD5=[d5e69f78d87373223dbae638b30a9c99]\n",
       "cluster E3--><a href=\"psysml:4d0e1ac7-0ffb-42d7-bf53-5a956dddc154\" target=\"_top\" title=\"psysml:4d0e1ac7-0ffb-42d7-bf53-5a956dddc154\" xlink:actuate=\"onRequest\" xlink:href=\"psysml:4d0e1ac7-0ffb-42d7-bf53-5a956dddc154\" xlink:show=\"new\" xlink:title=\"psysml:4d0e1ac7-0ffb-42d7-bf53-5a956dddc154\" xlink:type=\"simple\"><rect fill=\"#FFFFFF\" height=\"88.5\" id=\"E3\" style=\"stroke: #383838; stroke-width: 1.5;\" width=\"96\" x=\"120.5\" y=\"62.5\"/><rect fill=\"#F8F8F8\" height=\"37.9375\" style=\"stroke: #383838; stroke-width: 1.5;\" width=\"96\" x=\"120.5\" y=\"62.5\"/><text fill=\"#000000\" font-family=\"sans-serif\" font-size=\"12\" font-style=\"italic\" lengthAdjust=\"spacingAndGlyphs\" textLength=\"77\" x=\"130\" y=\"78.6387\">«action def»</text><text fill=\"#000000\" font-family=\"sans-serif\" font-size=\"12\" lengthAdjust=\"spacingAndGlyphs\" textLength=\"27\" x=\"155\" y=\"92.6074\">setX</text></a><g id=\"E1.E2\"><a href=\"psysml:d8d89087-5f7a-40fd-9871-b52a02710321\" target=\"_top\" title=\"psysml:d8d89087-5f7a-40fd-9871-b52a02710321\" xlink:actuate=\"onRequest\" xlink:href=\"psysml:d8d89087-5f7a-40fd-9871-b52a02710321\" xlink:show=\"new\" xlink:title=\"psysml:d8d89087-5f7a-40fd-9871-b52a02710321\" xlink:type=\"simple\"><rect fill=\"#FFFFFF\" height=\"42.9375\" id=\"E2\" style=\"stroke: #383838; stroke-width: 1.5;\" width=\"72\" x=\"32\" y=\"41\"/><rect fill=\"#F8F8F8\" height=\"37.9375\" style=\"stroke: #383838; stroke-width: 1.5;\" width=\"72\" x=\"32\" y=\"41\"/><text fill=\"#000000\" font-family=\"sans-serif\" font-size=\"12\" font-style=\"italic\" lengthAdjust=\"spacingAndGlyphs\" textLength=\"65\" x=\"35.5\" y=\"57.1387\">«item def»</text><text fill=\"#000000\" font-family=\"sans-serif\" font-size=\"12\" lengthAdjust=\"spacingAndGlyphs\" textLength=\"8\" x=\"64\" y=\"71.1074\">C</text></a></g><text fill=\"#000000\" font-family=\"sans-serif\" font-size=\"14\" lengthAdjust=\"spacingAndGlyphs\" textLength=\"8\" x=\"141\" y=\"41.1982\">c</text><rect fill=\"#383838\" height=\"12\" style=\"stroke: #F8F8F8; stroke-width: 1.5;\" width=\"12\" x=\"139\" y=\"56.5\"/><text fill=\"#000000\" font-family=\"sans-serif\" font-size=\"14\" lengthAdjust=\"spacingAndGlyphs\" textLength=\"38\" x=\"173\" y=\"41.1982\">newX</text><rect fill=\"#383838\" height=\"12\" style=\"stroke: #F8F8F8; stroke-width: 1.5;\" width=\"12\" x=\"186\" y=\"56.5\"/><!--MD5=[6eba935c4cf725a0b9cf8f589259847b]\n",
       "@startuml\r\n",
       "skinparam ranksep 10\r\n",
       "skinparam rectangle {\r\n",
       " backgroundColor<<block>> LightGreen\r\n",
       "}\r\n",
       "skinparam linetype ortho\r\n",
       "skinparam monochrome true\r\n",
       "skinparam classbackgroundcolor white\r\n",
       "skinparam shadowing false\r\n",
       "skinparam wrapWidth 300\r\n",
       "hide circle\r\n",
       "\r\n",
       "package \"TextualRepresentationTest\" as E1  [[psysml:7357ea5e-db14-480c-8643-46679caa3aca ]]  {\r\n",
       "def \"C\" as E2  <<(T,blue) item def>> [[psysml:d8d89087-5f7a-40fd-9871-b52a02710321 ]] \r\n",
       "rec def \"setX\" as E3  <<(T,blue) action def>> [[psysml:4d0e1ac7-0ffb-42d7-bf53-5a956dddc154 ]] {\r\n",
       "portin \"c\" as E4  [[psysml:7b0b3a1a-f848-44f8-8668-45f7327338b0 ]] \r\n",
       "portin \"newX\" as E5  [[psysml:5310235f-3728-4e86-87c8-1dd93d46f083 ]] \r\n",
       "}\r\n",
       "\r\n",
       "}\r\n",
       "@enduml\r\n",
       "\n",
       "PlantUML version 1.2020.13(Sat Jun 13 12:26:38 UTC 2020)\n",
       "(EPL source distribution)\n",
       "Java Runtime: OpenJDK Runtime Environment\n",
       "JVM: OpenJDK 64-Bit Server VM\n",
       "Default Encoding: UTF-8\n",
       "Language: en\n",
       "Country: null\n",
       "--></g></svg>"
      ]
     },
     "execution_count": 54,
     "metadata": {},
     "output_type": "execute_result"
    }
   ],
   "source": [
    "%viz --style=\"ORTHOLINE\" --view=\"Interconnection\" \"TextualRepresentationTest\""
   ]
  },
  {
   "cell_type": "code",
   "execution_count": 55,
   "id": "f469d195",
   "metadata": {
    "execution": {
     "iopub.execute_input": "2021-08-04T06:26:42.346625Z",
     "iopub.status.busy": "2021-08-04T06:26:42.346152Z",
     "iopub.status.idle": "2021-08-04T06:26:42.363133Z",
     "shell.execute_reply": "2021-08-04T06:26:42.362715Z"
    }
   },
   "outputs": [
    {
     "data": {
      "image/svg+xml": [
       "<?xml version=\"1.0\" encoding=\"UTF-8\" standalone=\"no\"?><svg xmlns=\"http://www.w3.org/2000/svg\" xmlns:xlink=\"http://www.w3.org/1999/xlink\" contentScriptType=\"application/ecmascript\" contentStyleType=\"text/css\" height=\"126px\" preserveAspectRatio=\"none\" style=\"width:150px;height:126px;\" version=\"1.1\" viewBox=\"0 0 150 126\" width=\"150px\" zoomAndPan=\"magnify\"><defs/><g><!--MD5=[fbc87193dbaf4d95561dea2c320d4a47]\n",
       "cluster E1--><a href=\"psysml:4d0e1ac7-0ffb-42d7-bf53-5a956dddc154\" target=\"_top\" title=\"psysml:4d0e1ac7-0ffb-42d7-bf53-5a956dddc154\" xlink:actuate=\"onRequest\" xlink:href=\"psysml:4d0e1ac7-0ffb-42d7-bf53-5a956dddc154\" xlink:show=\"new\" xlink:title=\"psysml:4d0e1ac7-0ffb-42d7-bf53-5a956dddc154\" xlink:type=\"simple\"><rect fill=\"#FFFFFF\" height=\"73\" id=\"E1\" style=\"stroke: #383838; stroke-width: 1.5;\" width=\"132\" x=\"7\" y=\"42.0986\"/><rect fill=\"#F8F8F8\" height=\"37.9375\" style=\"stroke: #383838; stroke-width: 1.5;\" width=\"132\" x=\"7\" y=\"42.0986\"/><text fill=\"#000000\" font-family=\"sans-serif\" font-size=\"12\" font-style=\"italic\" lengthAdjust=\"spacingAndGlyphs\" textLength=\"77\" x=\"34.5\" y=\"58.2373\">«action def»</text><text fill=\"#000000\" font-family=\"sans-serif\" font-size=\"12\" lengthAdjust=\"spacingAndGlyphs\" textLength=\"27\" x=\"59.5\" y=\"72.2061\">setX</text></a><text fill=\"#000000\" font-family=\"sans-serif\" font-size=\"14\" lengthAdjust=\"spacingAndGlyphs\" textLength=\"8\" x=\"21\" y=\"20.7969\">c</text><rect fill=\"#383838\" height=\"12\" style=\"stroke: #F8F8F8; stroke-width: 1.5;\" width=\"12\" x=\"19\" y=\"36.0986\"/><text fill=\"#000000\" font-family=\"sans-serif\" font-size=\"14\" lengthAdjust=\"spacingAndGlyphs\" textLength=\"38\" x=\"53\" y=\"20.7969\">newX</text><rect fill=\"#383838\" height=\"12\" style=\"stroke: #F8F8F8; stroke-width: 1.5;\" width=\"12\" x=\"66\" y=\"36.0986\"/><!--MD5=[4af6a09b6e9d5942ee5c790bebb0e6ec]\n",
       "@startuml\r\n",
       "skinparam ranksep 8\r\n",
       "skinparam linetype ortho\r\n",
       "skinparam monochrome true\r\n",
       "skinparam classbackgroundcolor white\r\n",
       "skinparam shadowing false\r\n",
       "skinparam wrapWidth 300\r\n",
       "hide circle\r\n",
       "\r\n",
       "rec def \"setX\" as E1  <<(T,blue) action def>> [[psysml:4d0e1ac7-0ffb-42d7-bf53-5a956dddc154 ]] {\r\n",
       "portin \"c\" as E2  [[psysml:7b0b3a1a-f848-44f8-8668-45f7327338b0 ]] \r\n",
       "portin \"newX\" as E3  [[psysml:5310235f-3728-4e86-87c8-1dd93d46f083 ]] \r\n",
       "}\r\n",
       "\r\n",
       "@enduml\r\n",
       "\n",
       "PlantUML version 1.2020.13(Sat Jun 13 12:26:38 UTC 2020)\n",
       "(EPL source distribution)\n",
       "Java Runtime: OpenJDK Runtime Environment\n",
       "JVM: OpenJDK 64-Bit Server VM\n",
       "Default Encoding: UTF-8\n",
       "Language: en\n",
       "Country: null\n",
       "--></g></svg>"
      ]
     },
     "execution_count": 55,
     "metadata": {},
     "output_type": "execute_result"
    }
   ],
   "source": [
    "%viz --style=\"ORTHOLINE\" --view=\"Action\" \"TextualRepresentationTest\""
   ]
  },
  {
   "cell_type": "code",
   "execution_count": 56,
   "id": "632c88ff",
   "metadata": {
    "execution": {
     "iopub.execute_input": "2021-08-04T06:26:42.412263Z",
     "iopub.status.busy": "2021-08-04T06:26:42.411859Z",
     "iopub.status.idle": "2021-08-04T06:26:42.443281Z",
     "shell.execute_reply": "2021-08-04T06:26:42.442885Z"
    }
   },
   "outputs": [
    {
     "data": {
      "image/svg+xml": [
       "<?xml version=\"1.0\" encoding=\"UTF-8\" standalone=\"no\"?><svg xmlns=\"http://www.w3.org/2000/svg\" xmlns:xlink=\"http://www.w3.org/1999/xlink\" contentScriptType=\"application/ecmascript\" contentStyleType=\"text/css\" height=\"375px\" preserveAspectRatio=\"none\" style=\"width:268px;height:375px;\" version=\"1.1\" viewBox=\"0 0 268 375\" width=\"268px\" zoomAndPan=\"magnify\"><defs/><g><!--MD5=[fbc87193dbaf4d95561dea2c320d4a47]\n",
       "cluster E1--><a href=\"psysml:7357ea5e-db14-480c-8643-46679caa3aca\" target=\"_top\" title=\"psysml:7357ea5e-db14-480c-8643-46679caa3aca\" xlink:actuate=\"onRequest\" xlink:href=\"psysml:7357ea5e-db14-480c-8643-46679caa3aca\" xlink:show=\"new\" xlink:title=\"psysml:7357ea5e-db14-480c-8643-46679caa3aca\" xlink:type=\"simple\"><polygon fill=\"#FFFFFF\" points=\"16,6,236,6,243,28.2969,246,28.2969,246,363,16,363,16,6\" style=\"stroke: #000000; stroke-width: 1.5;\"/><line style=\"stroke: #000000; stroke-width: 1.5;\" x1=\"16\" x2=\"243\" y1=\"28.2969\" y2=\"28.2969\"/><text fill=\"#000000\" font-family=\"sans-serif\" font-size=\"14\" font-weight=\"bold\" lengthAdjust=\"spacingAndGlyphs\" textLength=\"214\" x=\"20\" y=\"20.9951\">TextualRepresentationTest</text></a><!--MD5=[b4997ac47864f28c2f74865a473b2911]\n",
       "class E2--><a href=\"psysml:d8d89087-5f7a-40fd-9871-b52a02710321\" target=\"_top\" title=\"psysml:d8d89087-5f7a-40fd-9871-b52a02710321\" xlink:actuate=\"onRequest\" xlink:href=\"psysml:d8d89087-5f7a-40fd-9871-b52a02710321\" xlink:show=\"new\" xlink:title=\"psysml:d8d89087-5f7a-40fd-9871-b52a02710321\" xlink:type=\"simple\"><rect fill=\"#FFFFFF\" height=\"75.5469\" id=\"E2\" style=\"stroke: #383838; stroke-width: 1.5;\" width=\"67\" x=\"97.5\" y=\"164\"/><text fill=\"#000000\" font-family=\"sans-serif\" font-size=\"12\" font-style=\"italic\" lengthAdjust=\"spacingAndGlyphs\" textLength=\"65\" x=\"98.5\" y=\"180.1387\">«item def»</text><text fill=\"#000000\" font-family=\"sans-serif\" font-size=\"12\" lengthAdjust=\"spacingAndGlyphs\" textLength=\"8\" x=\"127\" y=\"194.1074\">C</text><line style=\"stroke: #383838; stroke-width: 1.5;\" x1=\"98.5\" x2=\"163.5\" y1=\"201.9375\" y2=\"201.9375\"/><text fill=\"#000000\" font-family=\"sans-serif\" font-size=\"11\" lengthAdjust=\"spacingAndGlyphs\" textLength=\"38\" x=\"103.5\" y=\"232.9526\">x: Real</text><line style=\"stroke: #383838; stroke-width: 1.0;\" x1=\"98.5\" x2=\"103.5\" y1=\"216.3398\" y2=\"216.3398\"/><text fill=\"#000000\" font-family=\"sans-serif\" font-size=\"11\" lengthAdjust=\"spacingAndGlyphs\" textLength=\"55\" x=\"103.5\" y=\"219.6479\">attributes</text><line style=\"stroke: #383838; stroke-width: 1.0;\" x1=\"158.5\" x2=\"163.5\" y1=\"216.3398\" y2=\"216.3398\"/></a><!--MD5=[09b614a08d8cba4a07c9adeb5e0fee81]\n",
       "class E3--><a href=\"psysml:24b29db4-a520-4ed1-8de3-5d8963222bac\" target=\"_top\" title=\"psysml:24b29db4-a520-4ed1-8de3-5d8963222bac\" xlink:actuate=\"onRequest\" xlink:href=\"psysml:24b29db4-a520-4ed1-8de3-5d8963222bac\" xlink:show=\"new\" xlink:title=\"psysml:24b29db4-a520-4ed1-8de3-5d8963222bac\" xlink:type=\"simple\"><rect fill=\"#FFFFFF\" height=\"45.9375\" id=\"E3\" rx=\"10\" ry=\"10\" style=\"stroke: #383838; stroke-width: 1.5;\" width=\"121\" x=\"70.5\" y=\"301\"/><text fill=\"#000000\" font-family=\"sans-serif\" font-size=\"12\" font-style=\"italic\" lengthAdjust=\"spacingAndGlyphs\" textLength=\"119\" x=\"71.5\" y=\"317.1387\">«assertConstraint»</text><text fill=\"#000000\" font-family=\"sans-serif\" font-size=\"12\" lengthAdjust=\"spacingAndGlyphs\" textLength=\"76\" x=\"93\" y=\"331.1074\">x_constraint</text><line style=\"stroke: #383838; stroke-width: 1.5;\" x1=\"71.5\" x2=\"190.5\" y1=\"338.9375\" y2=\"338.9375\"/></a><!--MD5=[ebbe1d658d1005bcc118a6aa81145e00]\n",
       "class E4--><a href=\"psysml:4d0e1ac7-0ffb-42d7-bf53-5a956dddc154\" target=\"_top\" title=\"psysml:4d0e1ac7-0ffb-42d7-bf53-5a956dddc154\" xlink:actuate=\"onRequest\" xlink:href=\"psysml:4d0e1ac7-0ffb-42d7-bf53-5a956dddc154\" xlink:show=\"new\" xlink:title=\"psysml:4d0e1ac7-0ffb-42d7-bf53-5a956dddc154\" xlink:type=\"simple\"><rect fill=\"#FFFFFF\" height=\"45.9375\" id=\"E4\" style=\"stroke: #383838; stroke-width: 1.5;\" width=\"79\" x=\"91.5\" y=\"41\"/><text fill=\"#000000\" font-family=\"sans-serif\" font-size=\"12\" font-style=\"italic\" lengthAdjust=\"spacingAndGlyphs\" textLength=\"77\" x=\"92.5\" y=\"57.1387\">«action def»</text><text fill=\"#000000\" font-family=\"sans-serif\" font-size=\"12\" lengthAdjust=\"spacingAndGlyphs\" textLength=\"27\" x=\"117.5\" y=\"71.1074\">setX</text><line style=\"stroke: #383838; stroke-width: 1.5;\" x1=\"92.5\" x2=\"169.5\" y1=\"78.9375\" y2=\"78.9375\"/></a><!--MD5=[209b3feb70ccb6233bfe1053d122c12c]\n",
       "reverse link E2 to E3--><a href=\"psysml:92660e64-3893-4545-a353-67dbd76c0ff0\" target=\"_top\" title=\"psysml:92660e64-3893-4545-a353-67dbd76c0ff0\" xlink:actuate=\"onRequest\" xlink:href=\"psysml:92660e64-3893-4545-a353-67dbd76c0ff0\" xlink:show=\"new\" xlink:title=\"psysml:92660e64-3893-4545-a353-67dbd76c0ff0\" xlink:type=\"simple\"><path d=\"M131,253.27 C131,253.27 131,300.78 131,300.78 \" fill=\"none\" id=\"E2&lt;-E3\" style=\"stroke: #383838; stroke-width: 1.0;\"/><polygon fill=\"#383838\" points=\"131,240.27,127,246.27,131,252.27,135,246.27,131,240.27\" style=\"stroke: #383838; stroke-width: 1.0;\"/><text fill=\"#000000\" font-family=\"sans-serif\" font-size=\"13\" lengthAdjust=\"spacingAndGlyphs\" textLength=\"7\" x=\"123.1031\" y=\"289.9999\">*</text></a><!--MD5=[ddeed8deb2209213b62e6cfabaa108b2]\n",
       "reverse link E4 to E2--><a href=\"psysml:7b0b3a1a-f848-44f8-8668-45f7327338b0\" target=\"_top\" title=\"psysml:7b0b3a1a-f848-44f8-8668-45f7327338b0\" xlink:actuate=\"onRequest\" xlink:href=\"psysml:7b0b3a1a-f848-44f8-8668-45f7327338b0\" xlink:show=\"new\" xlink:title=\"psysml:7b0b3a1a-f848-44f8-8668-45f7327338b0\" xlink:type=\"simple\"><path d=\"M131,100.1 C131,100.1 131,163.96 131,163.96 \" fill=\"none\" id=\"E4&lt;-E2\" style=\"stroke: #383838; stroke-width: 1.0;\"/><polygon fill=\"#FFFFFF\" points=\"131,87.1,127,93.1,131,99.1,135,93.1,131,87.1\" style=\"stroke: #383838; stroke-width: 1.0;\"/><text fill=\"#000000\" font-family=\"sans-serif\" font-size=\"13\" lengthAdjust=\"spacingAndGlyphs\" textLength=\"7\" x=\"132\" y=\"130.0669\">c</text></a><!--MD5=[4db363c4f689cbcfba768df077b0da39]\n",
       "@startuml\r\n",
       "skinparam linetype ortho\r\n",
       "skinparam monochrome true\r\n",
       "skinparam classbackgroundcolor white\r\n",
       "skinparam shadowing false\r\n",
       "skinparam wrapWidth 300\r\n",
       "hide circle\r\n",
       "\r\n",
       "package \"TextualRepresentationTest\" as E1  [[psysml:7357ea5e-db14-480c-8643-46679caa3aca ]]  {\r\n",
       "comp def \"C\" as E2  <<(T,blue) item def>> [[psysml:d8d89087-5f7a-40fd-9871-b52a02710321 ]] {\r\n",
       "- - attributes - -\r\n",
       "x: Real\r\n",
       "}\r\n",
       "comp usage \"x_constraint\" as E3  <<(T,blue) assertConstraint>> [[psysml:24b29db4-a520-4ed1-8de3-5d8963222bac ]] {\r\n",
       "}\r\n",
       "comp def \"setX\" as E4  <<(T,blue) action def>> [[psysml:4d0e1ac7-0ffb-42d7-bf53-5a956dddc154 ]] {\r\n",
       "}\r\n",
       "E2 *- - \"*\"E3 [[psysml:92660e64-3893-4545-a353-67dbd76c0ff0 ]] \r\n",
       "E4 o- - E2 [[psysml:7b0b3a1a-f848-44f8-8668-45f7327338b0 ]] : c\r\n",
       "}\r\n",
       "@enduml\r\n",
       "\n",
       "PlantUML version 1.2020.13(Sat Jun 13 12:26:38 UTC 2020)\n",
       "(EPL source distribution)\n",
       "Java Runtime: OpenJDK Runtime Environment\n",
       "JVM: OpenJDK 64-Bit Server VM\n",
       "Default Encoding: UTF-8\n",
       "Language: en\n",
       "Country: null\n",
       "--></g></svg>"
      ]
     },
     "execution_count": 56,
     "metadata": {},
     "output_type": "execute_result"
    }
   ],
   "source": [
    "%viz --style=\"ORTHOLINE\" --view=\"Sequence\" \"TextualRepresentationTest\""
   ]
  },
  {
   "cell_type": "code",
   "execution_count": 57,
   "id": "8e813043",
   "metadata": {
    "execution": {
     "iopub.execute_input": "2021-08-04T06:26:42.492776Z",
     "iopub.status.busy": "2021-08-04T06:26:42.492323Z",
     "iopub.status.idle": "2021-08-04T06:26:42.526121Z",
     "shell.execute_reply": "2021-08-04T06:26:42.525753Z"
    }
   },
   "outputs": [
    {
     "data": {
      "image/svg+xml": [
       "<?xml version=\"1.0\" encoding=\"UTF-8\" standalone=\"no\"?><svg xmlns=\"http://www.w3.org/2000/svg\" xmlns:xlink=\"http://www.w3.org/1999/xlink\" contentScriptType=\"application/ecmascript\" contentStyleType=\"text/css\" height=\"261px\" preserveAspectRatio=\"none\" style=\"width:345px;height:261px;\" version=\"1.1\" viewBox=\"0 0 345 261\" width=\"345px\" zoomAndPan=\"magnify\"><defs/><g><!--MD5=[fbc87193dbaf4d95561dea2c320d4a47]\n",
       "cluster E1--><a href=\"psysml:7357ea5e-db14-480c-8643-46679caa3aca\" target=\"_top\" title=\"psysml:7357ea5e-db14-480c-8643-46679caa3aca\" xlink:actuate=\"onRequest\" xlink:href=\"psysml:7357ea5e-db14-480c-8643-46679caa3aca\" xlink:show=\"new\" xlink:title=\"psysml:7357ea5e-db14-480c-8643-46679caa3aca\" xlink:type=\"simple\"><polygon fill=\"#FFFFFF\" points=\"16,6,236,6,243,28.2969,323,28.2969,323,249.5,16,249.5,16,6\" style=\"stroke: #000000; stroke-width: 1.5;\"/><line style=\"stroke: #000000; stroke-width: 1.5;\" x1=\"16\" x2=\"243\" y1=\"28.2969\" y2=\"28.2969\"/><text fill=\"#000000\" font-family=\"sans-serif\" font-size=\"14\" font-weight=\"bold\" lengthAdjust=\"spacingAndGlyphs\" textLength=\"214\" x=\"20\" y=\"20.9951\">TextualRepresentationTest</text></a><!--MD5=[f6df4d0ebaf0b5dfb2ced0ae5af7c670]\n",
       "cluster E4--><a href=\"psysml:4d0e1ac7-0ffb-42d7-bf53-5a956dddc154\" target=\"_top\" title=\"psysml:4d0e1ac7-0ffb-42d7-bf53-5a956dddc154\" xlink:actuate=\"onRequest\" xlink:href=\"psysml:4d0e1ac7-0ffb-42d7-bf53-5a956dddc154\" xlink:show=\"new\" xlink:title=\"psysml:4d0e1ac7-0ffb-42d7-bf53-5a956dddc154\" xlink:type=\"simple\"><rect fill=\"#FFFFFF\" height=\"154.5\" id=\"E4\" style=\"stroke: #383838; stroke-width: 1.5;\" width=\"132\" x=\"175\" y=\"79\"/><rect fill=\"#F8F8F8\" height=\"37.9375\" style=\"stroke: #383838; stroke-width: 1.5;\" width=\"132\" x=\"175\" y=\"79\"/><text fill=\"#000000\" font-family=\"sans-serif\" font-size=\"12\" font-style=\"italic\" lengthAdjust=\"spacingAndGlyphs\" textLength=\"77\" x=\"202.5\" y=\"95.1387\">«action def»</text><text fill=\"#000000\" font-family=\"sans-serif\" font-size=\"12\" lengthAdjust=\"spacingAndGlyphs\" textLength=\"27\" x=\"227.5\" y=\"109.1074\">setX</text></a><!--MD5=[b4997ac47864f28c2f74865a473b2911]\n",
       "class E2--><a href=\"psysml:d8d89087-5f7a-40fd-9871-b52a02710321\" target=\"_top\" title=\"psysml:d8d89087-5f7a-40fd-9871-b52a02710321\" xlink:actuate=\"onRequest\" xlink:href=\"psysml:d8d89087-5f7a-40fd-9871-b52a02710321\" xlink:show=\"new\" xlink:title=\"psysml:d8d89087-5f7a-40fd-9871-b52a02710321\" xlink:type=\"simple\"><rect fill=\"#FFFFFF\" height=\"75.5469\" id=\"E2\" style=\"stroke: #383838; stroke-width: 1.5;\" width=\"67\" x=\"59.5\" y=\"41\"/><text fill=\"#000000\" font-family=\"sans-serif\" font-size=\"12\" font-style=\"italic\" lengthAdjust=\"spacingAndGlyphs\" textLength=\"65\" x=\"60.5\" y=\"57.1387\">«item def»</text><text fill=\"#000000\" font-family=\"sans-serif\" font-size=\"12\" lengthAdjust=\"spacingAndGlyphs\" textLength=\"8\" x=\"89\" y=\"71.1074\">C</text><line style=\"stroke: #383838; stroke-width: 1.5;\" x1=\"60.5\" x2=\"125.5\" y1=\"78.9375\" y2=\"78.9375\"/><text fill=\"#000000\" font-family=\"sans-serif\" font-size=\"11\" lengthAdjust=\"spacingAndGlyphs\" textLength=\"38\" x=\"65.5\" y=\"109.9526\">x: Real</text><line style=\"stroke: #383838; stroke-width: 1.0;\" x1=\"60.5\" x2=\"65.5\" y1=\"93.3398\" y2=\"93.3398\"/><text fill=\"#000000\" font-family=\"sans-serif\" font-size=\"11\" lengthAdjust=\"spacingAndGlyphs\" textLength=\"55\" x=\"65.5\" y=\"96.6479\">attributes</text><line style=\"stroke: #383838; stroke-width: 1.0;\" x1=\"120.5\" x2=\"125.5\" y1=\"93.3398\" y2=\"93.3398\"/></a><!--MD5=[09b614a08d8cba4a07c9adeb5e0fee81]\n",
       "class E3--><a href=\"psysml:24b29db4-a520-4ed1-8de3-5d8963222bac\" target=\"_top\" title=\"psysml:24b29db4-a520-4ed1-8de3-5d8963222bac\" xlink:actuate=\"onRequest\" xlink:href=\"psysml:24b29db4-a520-4ed1-8de3-5d8963222bac\" xlink:show=\"new\" xlink:title=\"psysml:24b29db4-a520-4ed1-8de3-5d8963222bac\" xlink:type=\"simple\"><rect fill=\"#FFFFFF\" height=\"45.9375\" id=\"E3\" rx=\"10\" ry=\"10\" style=\"stroke: #383838; stroke-width: 1.5;\" width=\"121\" x=\"32.5\" y=\"177\"/><text fill=\"#000000\" font-family=\"sans-serif\" font-size=\"12\" font-style=\"italic\" lengthAdjust=\"spacingAndGlyphs\" textLength=\"119\" x=\"33.5\" y=\"193.1387\">«assertConstraint»</text><text fill=\"#000000\" font-family=\"sans-serif\" font-size=\"12\" lengthAdjust=\"spacingAndGlyphs\" textLength=\"76\" x=\"55\" y=\"207.1074\">x_constraint</text><line style=\"stroke: #383838; stroke-width: 1.5;\" x1=\"33.5\" x2=\"152.5\" y1=\"214.9375\" y2=\"214.9375\"/></a><text fill=\"#000000\" font-family=\"sans-serif\" font-size=\"14\" lengthAdjust=\"spacingAndGlyphs\" textLength=\"8\" x=\"189\" y=\"57.6982\">c</text><rect fill=\"#383838\" height=\"12\" style=\"stroke: #F8F8F8; stroke-width: 1.5;\" width=\"12\" x=\"187\" y=\"73\"/><text fill=\"#000000\" font-family=\"sans-serif\" font-size=\"14\" lengthAdjust=\"spacingAndGlyphs\" textLength=\"38\" x=\"221\" y=\"57.6982\">newX</text><rect fill=\"#383838\" height=\"12\" style=\"stroke: #F8F8F8; stroke-width: 1.5;\" width=\"12\" x=\"234\" y=\"73\"/><!--MD5=[209b3feb70ccb6233bfe1053d122c12c]\n",
       "reverse link E2 to E3--><a href=\"psysml:92660e64-3893-4545-a353-67dbd76c0ff0\" target=\"_top\" title=\"psysml:92660e64-3893-4545-a353-67dbd76c0ff0\" xlink:actuate=\"onRequest\" xlink:href=\"psysml:92660e64-3893-4545-a353-67dbd76c0ff0\" xlink:show=\"new\" xlink:title=\"psysml:92660e64-3893-4545-a353-67dbd76c0ff0\" xlink:type=\"simple\"><path d=\"M93,130.29 C93,130.29 93,176.74 93,176.74 \" fill=\"none\" id=\"E2&lt;-E3\" style=\"stroke: #383838; stroke-width: 1.0;\"/><polygon fill=\"#383838\" points=\"93,117.29,89,123.29,93,129.29,97,123.29,93,117.29\" style=\"stroke: #383838; stroke-width: 1.0;\"/><text fill=\"#000000\" font-family=\"sans-serif\" font-size=\"13\" lengthAdjust=\"spacingAndGlyphs\" textLength=\"7\" x=\"85.1031\" y=\"165.9497\">*</text></a><!--MD5=[466ed20325f456f1380c03598cca60bb]\n",
       "@startuml\r\n",
       "skinparam linetype ortho\r\n",
       "skinparam monochrome true\r\n",
       "skinparam classbackgroundcolor white\r\n",
       "skinparam shadowing false\r\n",
       "skinparam wrapWidth 300\r\n",
       "hide circle\r\n",
       "\r\n",
       "package \"TextualRepresentationTest\" as E1  [[psysml:7357ea5e-db14-480c-8643-46679caa3aca ]]  {\r\n",
       "comp def \"C\" as E2  <<(T,blue) item def>> [[psysml:d8d89087-5f7a-40fd-9871-b52a02710321 ]] {\r\n",
       "- - attributes - -\r\n",
       "x: Real\r\n",
       "}\r\n",
       "comp usage \"x_constraint\" as E3  <<(T,blue) assertConstraint>> [[psysml:24b29db4-a520-4ed1-8de3-5d8963222bac ]] {\r\n",
       "}\r\n",
       "rec def \"setX\" as E4  <<(T,blue) action def>> [[psysml:4d0e1ac7-0ffb-42d7-bf53-5a956dddc154 ]] {\r\n",
       "portin \"c\" as E5  [[psysml:7b0b3a1a-f848-44f8-8668-45f7327338b0 ]] \r\n",
       "portin \"newX\" as E6  [[psysml:5310235f-3728-4e86-87c8-1dd93d46f083 ]] \r\n",
       "}\r\n",
       "\r\n",
       "E2 *- - \"*\"E3 [[psysml:92660e64-3893-4545-a353-67dbd76c0ff0 ]] \r\n",
       "}\r\n",
       "@enduml\r\n",
       "\n",
       "PlantUML version 1.2020.13(Sat Jun 13 12:26:38 UTC 2020)\n",
       "(EPL source distribution)\n",
       "Java Runtime: OpenJDK Runtime Environment\n",
       "JVM: OpenJDK 64-Bit Server VM\n",
       "Default Encoding: UTF-8\n",
       "Language: en\n",
       "Country: null\n",
       "--></g></svg>"
      ]
     },
     "execution_count": 57,
     "metadata": {},
     "output_type": "execute_result"
    }
   ],
   "source": [
    "%viz --style=\"ORTHOLINE\" --view=\"MIXED\" \"TextualRepresentationTest\""
   ]
  }
 ],
 "metadata": {
  "kernelspec": {
   "display_name": "SysML",
   "language": "sysml",
   "name": "sysml"
  },
  "language_info": {
   "codemirror_mode": "sysml",
   "file_extension": ".sysml",
   "mimetype": "text/x-sysml",
   "name": "SysML",
   "pygments_lexer": "java",
   "version": "1.0.0"
  }
 },
 "nbformat": 4,
 "nbformat_minor": 5
}
