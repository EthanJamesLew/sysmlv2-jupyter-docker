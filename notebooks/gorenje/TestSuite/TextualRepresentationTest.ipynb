{
 "cells": [
  {
   "cell_type": "markdown",
   "id": "0b44c5c3",
   "metadata": {},
   "source": [
    "# SysML v2 Test Suite\n",
    "\n",
    "This can notebook can be cleared using menu `Edit --> Clear All Outputs` and then all cells can be\n",
    "run using menu `Run --> Run All Cells`.\n",
    "\n",
    "**WARNING**: This file is generated, all modifications here will be ignored.\n"
   ]
  },
  {
   "cell_type": "markdown",
   "id": "35a07b4b",
   "metadata": {},
   "source": [
    "## File: ../../sysml/src/examples/Simple Tests/TextualRepresentationTest.sysml"
   ]
  },
  {
   "cell_type": "code",
   "execution_count": 1,
   "id": "068fad5e",
   "metadata": {
    "execution": {
     "iopub.execute_input": "2021-09-27T07:18:31.100845Z",
     "iopub.status.busy": "2021-09-27T07:18:31.099752Z",
     "iopub.status.idle": "2021-09-27T07:18:31.342189Z",
     "shell.execute_reply": "2021-09-27T07:18:31.341771Z"
    }
   },
   "outputs": [
    {
     "data": {
      "text/plain": [
       "Package TextualRepresentationTest (0ab54a0a-693a-4d90-a52f-05c71824c212)\n"
      ]
     },
     "execution_count": 1,
     "metadata": {},
     "output_type": "execute_result"
    }
   ],
   "source": [
    "package TextualRepresentationTest {\n",
    "\timport ScalarValues::Real;\n",
    "\t\n",
    "\titem def C {\n",
    "\t    attribute x: Real;\n",
    "\t    assert constraint x_constraint;\n",
    "\t    rep inOCL about x_constraint language \"ocl\" \n",
    "\t        /* self.x > 0.0 */\n",
    "\t}\n",
    "\t\n",
    "\taction def setX(c : C, newX : Real) {\n",
    "\t    language \"alf\" \n",
    "\t        /* c.x = newX;\n",
    "\t         * WriteLine(\"Set new x\");\n",
    "\t         */\n",
    "\t}\n",
    "\t\n",
    "}"
   ]
  },
  {
   "cell_type": "code",
   "execution_count": 2,
   "id": "fb34b760",
   "metadata": {
    "execution": {
     "iopub.execute_input": "2021-09-27T07:18:31.393704Z",
     "iopub.status.busy": "2021-09-27T07:18:31.393426Z",
     "iopub.status.idle": "2021-09-27T07:18:31.875498Z",
     "shell.execute_reply": "2021-09-27T07:18:31.875098Z"
    }
   },
   "outputs": [
    {
     "data": {
      "image/svg+xml": [
       "<?xml version=\"1.0\" encoding=\"UTF-8\" standalone=\"no\"?><svg xmlns=\"http://www.w3.org/2000/svg\" xmlns:xlink=\"http://www.w3.org/1999/xlink\" contentScriptType=\"application/ecmascript\" contentStyleType=\"text/css\" height=\"261px\" preserveAspectRatio=\"none\" style=\"width:345px;height:261px;\" version=\"1.1\" viewBox=\"0 0 345 261\" width=\"345px\" zoomAndPan=\"magnify\"><defs/><g><!--MD5=[fbc87193dbaf4d95561dea2c320d4a47]\n",
       "cluster E1--><a href=\"psysml:fa6c1bf2-147a-4459-8db1-4c7f2c0aa92b\" target=\"_top\" title=\"psysml:fa6c1bf2-147a-4459-8db1-4c7f2c0aa92b\" xlink:actuate=\"onRequest\" xlink:href=\"psysml:fa6c1bf2-147a-4459-8db1-4c7f2c0aa92b\" xlink:show=\"new\" xlink:title=\"psysml:fa6c1bf2-147a-4459-8db1-4c7f2c0aa92b\" xlink:type=\"simple\"><polygon fill=\"#FFFFFF\" points=\"16,6,210,6,217,28.2969,323,28.2969,323,249.5,16,249.5,16,6\" style=\"stroke: #000000; stroke-width: 1.5;\"/><line style=\"stroke: #000000; stroke-width: 1.5;\" x1=\"16\" x2=\"217\" y1=\"28.2969\" y2=\"28.2969\"/><text fill=\"#000000\" font-family=\"sans-serif\" font-size=\"14\" font-weight=\"bold\" lengthAdjust=\"spacingAndGlyphs\" textLength=\"188\" x=\"20\" y=\"20.9951\">TextualRepresentationTest</text></a><!--MD5=[f6df4d0ebaf0b5dfb2ced0ae5af7c670]\n",
       "cluster E4--><a href=\"psysml:13c6c11f-d2db-48ba-8729-714e79a71a8b\" target=\"_top\" title=\"psysml:13c6c11f-d2db-48ba-8729-714e79a71a8b\" xlink:actuate=\"onRequest\" xlink:href=\"psysml:13c6c11f-d2db-48ba-8729-714e79a71a8b\" xlink:show=\"new\" xlink:title=\"psysml:13c6c11f-d2db-48ba-8729-714e79a71a8b\" xlink:type=\"simple\"><rect fill=\"#FFFFFF\" height=\"154.5\" id=\"E4\" style=\"stroke: #383838; stroke-width: 1.5;\" width=\"132\" x=\"175\" y=\"79\"/><rect fill=\"#F8F8F8\" height=\"37.9375\" style=\"stroke: #383838; stroke-width: 1.5;\" width=\"132\" x=\"175\" y=\"79\"/><text fill=\"#000000\" font-family=\"sans-serif\" font-size=\"12\" font-style=\"italic\" lengthAdjust=\"spacingAndGlyphs\" textLength=\"77\" x=\"202.5\" y=\"95.1387\">«action def»</text><text fill=\"#000000\" font-family=\"sans-serif\" font-size=\"12\" lengthAdjust=\"spacingAndGlyphs\" textLength=\"27\" x=\"227.5\" y=\"109.1074\">setX</text></a><!--MD5=[b4997ac47864f28c2f74865a473b2911]\n",
       "class E2--><a href=\"psysml:7c3e9caa-80d9-4c4c-adc7-c498b9bc223a\" target=\"_top\" title=\"psysml:7c3e9caa-80d9-4c4c-adc7-c498b9bc223a\" xlink:actuate=\"onRequest\" xlink:href=\"psysml:7c3e9caa-80d9-4c4c-adc7-c498b9bc223a\" xlink:show=\"new\" xlink:title=\"psysml:7c3e9caa-80d9-4c4c-adc7-c498b9bc223a\" xlink:type=\"simple\"><rect fill=\"#FFFFFF\" height=\"75.5469\" id=\"E2\" style=\"stroke: #383838; stroke-width: 1.5;\" width=\"67\" x=\"59.5\" y=\"41\"/><text fill=\"#000000\" font-family=\"sans-serif\" font-size=\"12\" font-style=\"italic\" lengthAdjust=\"spacingAndGlyphs\" textLength=\"65\" x=\"60.5\" y=\"57.1387\">«item def»</text><text fill=\"#000000\" font-family=\"sans-serif\" font-size=\"12\" lengthAdjust=\"spacingAndGlyphs\" textLength=\"8\" x=\"89\" y=\"71.1074\">C</text><line style=\"stroke: #383838; stroke-width: 1.5;\" x1=\"60.5\" x2=\"125.5\" y1=\"78.9375\" y2=\"78.9375\"/><text fill=\"#000000\" font-family=\"sans-serif\" font-size=\"11\" lengthAdjust=\"spacingAndGlyphs\" textLength=\"38\" x=\"65.5\" y=\"109.9526\">x: Real</text><line style=\"stroke: #383838; stroke-width: 1.0;\" x1=\"60.5\" x2=\"65.5\" y1=\"93.3398\" y2=\"93.3398\"/><text fill=\"#000000\" font-family=\"sans-serif\" font-size=\"11\" lengthAdjust=\"spacingAndGlyphs\" textLength=\"55\" x=\"65.5\" y=\"96.6479\">attributes</text><line style=\"stroke: #383838; stroke-width: 1.0;\" x1=\"120.5\" x2=\"125.5\" y1=\"93.3398\" y2=\"93.3398\"/></a><!--MD5=[09b614a08d8cba4a07c9adeb5e0fee81]\n",
       "class E3--><a href=\"psysml:c1adaef5-a811-466e-b0b1-353fc6834fce\" target=\"_top\" title=\"psysml:c1adaef5-a811-466e-b0b1-353fc6834fce\" xlink:actuate=\"onRequest\" xlink:href=\"psysml:c1adaef5-a811-466e-b0b1-353fc6834fce\" xlink:show=\"new\" xlink:title=\"psysml:c1adaef5-a811-466e-b0b1-353fc6834fce\" xlink:type=\"simple\"><rect fill=\"#FFFFFF\" height=\"45.9375\" id=\"E3\" rx=\"10\" ry=\"10\" style=\"stroke: #383838; stroke-width: 1.5;\" width=\"121\" x=\"32.5\" y=\"177\"/><text fill=\"#000000\" font-family=\"sans-serif\" font-size=\"12\" font-style=\"italic\" lengthAdjust=\"spacingAndGlyphs\" textLength=\"119\" x=\"33.5\" y=\"193.1387\">«assertConstraint»</text><text fill=\"#000000\" font-family=\"sans-serif\" font-size=\"12\" lengthAdjust=\"spacingAndGlyphs\" textLength=\"76\" x=\"55\" y=\"207.1074\">x_constraint</text><line style=\"stroke: #383838; stroke-width: 1.5;\" x1=\"33.5\" x2=\"152.5\" y1=\"214.9375\" y2=\"214.9375\"/></a><text fill=\"#000000\" font-family=\"sans-serif\" font-size=\"14\" lengthAdjust=\"spacingAndGlyphs\" textLength=\"8\" x=\"189\" y=\"57.6982\">c</text><rect fill=\"#383838\" height=\"12\" style=\"stroke: #F8F8F8; stroke-width: 1.5;\" width=\"12\" x=\"187\" y=\"73\"/><text fill=\"#000000\" font-family=\"sans-serif\" font-size=\"14\" lengthAdjust=\"spacingAndGlyphs\" textLength=\"38\" x=\"221\" y=\"57.6982\">newX</text><rect fill=\"#383838\" height=\"12\" style=\"stroke: #F8F8F8; stroke-width: 1.5;\" width=\"12\" x=\"234\" y=\"73\"/><!--MD5=[209b3feb70ccb6233bfe1053d122c12c]\n",
       "reverse link E2 to E3--><a href=\"psysml:6c3bd0c1-e9ea-4acc-b51f-d35f7aefdb06\" target=\"_top\" title=\"psysml:6c3bd0c1-e9ea-4acc-b51f-d35f7aefdb06\" xlink:actuate=\"onRequest\" xlink:href=\"psysml:6c3bd0c1-e9ea-4acc-b51f-d35f7aefdb06\" xlink:show=\"new\" xlink:title=\"psysml:6c3bd0c1-e9ea-4acc-b51f-d35f7aefdb06\" xlink:type=\"simple\"><path d=\"M93,130.34 C93,146.61 93,163.81 93,176.93 \" fill=\"none\" id=\"E2&lt;-E3\" style=\"stroke: #383838; stroke-width: 1.0;\"/><polygon fill=\"#383838\" points=\"93,117,89,123,93,129,97,123,93,117\" style=\"stroke: #383838; stroke-width: 1.0;\"/><text fill=\"#000000\" font-family=\"sans-serif\" font-size=\"13\" lengthAdjust=\"spacingAndGlyphs\" textLength=\"7\" x=\"85.0594\" y=\"165.8075\">*</text></a><!--MD5=[6f5d917c3405ec901d9680de038e1cf2]\n",
       "@startuml\r\n",
       " skinparam monochrome true\r\n",
       "skinparam classbackgroundcolor white\r\n",
       "skinparam shadowing false\r\n",
       "skinparam wrapWidth 300\r\n",
       "hide circle\r\n",
       "\r\n",
       "package \"TextualRepresentationTest\" as E1  [[psysml:fa6c1bf2-147a-4459-8db1-4c7f2c0aa92b ]]  {\r\n",
       "comp def \"C\" as E2  <<(T,blue) item def>> [[psysml:7c3e9caa-80d9-4c4c-adc7-c498b9bc223a ]] {\r\n",
       "- - attributes - -\r\n",
       "x: Real\r\n",
       "}\r\n",
       "comp usage \"x_constraint\" as E3  <<(T,blue) assertConstraint>> [[psysml:c1adaef5-a811-466e-b0b1-353fc6834fce ]] {\r\n",
       "}\r\n",
       "rec def \"setX\" as E4  <<(T,blue) action def>> [[psysml:13c6c11f-d2db-48ba-8729-714e79a71a8b ]] {\r\n",
       "portin \"c\" as E5  [[psysml:b2a1dac5-50e3-4d3d-9a14-28fff19dad0f ]] \r\n",
       "portin \"newX\" as E6  [[psysml:3095d82e-c5b2-4faf-b7d1-254d70a18586 ]] \r\n",
       "}\r\n",
       "\r\n",
       "}\r\n",
       "E2 *- - \"*\"E3 [[psysml:6c3bd0c1-e9ea-4acc-b51f-d35f7aefdb06 ]] \r\n",
       "@enduml\r\n",
       "\n",
       "PlantUML version 1.2020.13(Sat Jun 13 12:26:38 UTC 2020)\n",
       "(EPL source distribution)\n",
       "Java Runtime: OpenJDK Runtime Environment\n",
       "JVM: OpenJDK 64-Bit Server VM\n",
       "Default Encoding: UTF-8\n",
       "Language: en\n",
       "Country: null\n",
       "--></g></svg>"
      ]
     },
     "execution_count": 2,
     "metadata": {},
     "output_type": "execute_result"
    }
   ],
   "source": [
    "%viz --style=\"COMPTREE\" --view=\"Default\" \"TextualRepresentationTest\""
   ]
  },
  {
   "cell_type": "code",
   "execution_count": 3,
   "id": "e273e2c2",
   "metadata": {
    "execution": {
     "iopub.execute_input": "2021-09-27T07:18:31.925657Z",
     "iopub.status.busy": "2021-09-27T07:18:31.925222Z",
     "iopub.status.idle": "2021-09-27T07:18:31.993016Z",
     "shell.execute_reply": "2021-09-27T07:18:31.993350Z"
    }
   },
   "outputs": [
    {
     "data": {
      "image/svg+xml": [
       "<?xml version=\"1.0\" encoding=\"UTF-8\" standalone=\"no\"?><svg xmlns=\"http://www.w3.org/2000/svg\" xmlns:xlink=\"http://www.w3.org/1999/xlink\" contentScriptType=\"application/ecmascript\" contentStyleType=\"text/css\" height=\"375px\" preserveAspectRatio=\"none\" style=\"width:242px;height:375px;\" version=\"1.1\" viewBox=\"0 0 242 375\" width=\"242px\" zoomAndPan=\"magnify\"><defs/><g><!--MD5=[fbc87193dbaf4d95561dea2c320d4a47]\n",
       "cluster E1--><a href=\"psysml:fa6c1bf2-147a-4459-8db1-4c7f2c0aa92b\" target=\"_top\" title=\"psysml:fa6c1bf2-147a-4459-8db1-4c7f2c0aa92b\" xlink:actuate=\"onRequest\" xlink:href=\"psysml:fa6c1bf2-147a-4459-8db1-4c7f2c0aa92b\" xlink:show=\"new\" xlink:title=\"psysml:fa6c1bf2-147a-4459-8db1-4c7f2c0aa92b\" xlink:type=\"simple\"><polygon fill=\"#FFFFFF\" points=\"16,6,210,6,217,28.2969,220,28.2969,220,363,16,363,16,6\" style=\"stroke: #000000; stroke-width: 1.5;\"/><line style=\"stroke: #000000; stroke-width: 1.5;\" x1=\"16\" x2=\"217\" y1=\"28.2969\" y2=\"28.2969\"/><text fill=\"#000000\" font-family=\"sans-serif\" font-size=\"14\" font-weight=\"bold\" lengthAdjust=\"spacingAndGlyphs\" textLength=\"188\" x=\"20\" y=\"20.9951\">TextualRepresentationTest</text></a><!--MD5=[b4997ac47864f28c2f74865a473b2911]\n",
       "class E2--><a href=\"psysml:7c3e9caa-80d9-4c4c-adc7-c498b9bc223a\" target=\"_top\" title=\"psysml:7c3e9caa-80d9-4c4c-adc7-c498b9bc223a\" xlink:actuate=\"onRequest\" xlink:href=\"psysml:7c3e9caa-80d9-4c4c-adc7-c498b9bc223a\" xlink:show=\"new\" xlink:title=\"psysml:7c3e9caa-80d9-4c4c-adc7-c498b9bc223a\" xlink:type=\"simple\"><rect fill=\"#FFFFFF\" height=\"75.5469\" id=\"E2\" style=\"stroke: #383838; stroke-width: 1.5;\" width=\"67\" x=\"84.5\" y=\"164\"/><text fill=\"#000000\" font-family=\"sans-serif\" font-size=\"12\" font-style=\"italic\" lengthAdjust=\"spacingAndGlyphs\" textLength=\"65\" x=\"85.5\" y=\"180.1387\">«item def»</text><text fill=\"#000000\" font-family=\"sans-serif\" font-size=\"12\" lengthAdjust=\"spacingAndGlyphs\" textLength=\"8\" x=\"114\" y=\"194.1074\">C</text><line style=\"stroke: #383838; stroke-width: 1.5;\" x1=\"85.5\" x2=\"150.5\" y1=\"201.9375\" y2=\"201.9375\"/><text fill=\"#000000\" font-family=\"sans-serif\" font-size=\"11\" lengthAdjust=\"spacingAndGlyphs\" textLength=\"38\" x=\"90.5\" y=\"232.9526\">x: Real</text><line style=\"stroke: #383838; stroke-width: 1.0;\" x1=\"85.5\" x2=\"90.5\" y1=\"216.3398\" y2=\"216.3398\"/><text fill=\"#000000\" font-family=\"sans-serif\" font-size=\"11\" lengthAdjust=\"spacingAndGlyphs\" textLength=\"55\" x=\"90.5\" y=\"219.6479\">attributes</text><line style=\"stroke: #383838; stroke-width: 1.0;\" x1=\"145.5\" x2=\"150.5\" y1=\"216.3398\" y2=\"216.3398\"/></a><!--MD5=[09b614a08d8cba4a07c9adeb5e0fee81]\n",
       "class E3--><a href=\"psysml:c1adaef5-a811-466e-b0b1-353fc6834fce\" target=\"_top\" title=\"psysml:c1adaef5-a811-466e-b0b1-353fc6834fce\" xlink:actuate=\"onRequest\" xlink:href=\"psysml:c1adaef5-a811-466e-b0b1-353fc6834fce\" xlink:show=\"new\" xlink:title=\"psysml:c1adaef5-a811-466e-b0b1-353fc6834fce\" xlink:type=\"simple\"><rect fill=\"#FFFFFF\" height=\"45.9375\" id=\"E3\" rx=\"10\" ry=\"10\" style=\"stroke: #383838; stroke-width: 1.5;\" width=\"121\" x=\"57.5\" y=\"301\"/><text fill=\"#000000\" font-family=\"sans-serif\" font-size=\"12\" font-style=\"italic\" lengthAdjust=\"spacingAndGlyphs\" textLength=\"119\" x=\"58.5\" y=\"317.1387\">«assertConstraint»</text><text fill=\"#000000\" font-family=\"sans-serif\" font-size=\"12\" lengthAdjust=\"spacingAndGlyphs\" textLength=\"76\" x=\"80\" y=\"331.1074\">x_constraint</text><line style=\"stroke: #383838; stroke-width: 1.5;\" x1=\"58.5\" x2=\"177.5\" y1=\"338.9375\" y2=\"338.9375\"/></a><!--MD5=[ebbe1d658d1005bcc118a6aa81145e00]\n",
       "class E4--><a href=\"psysml:13c6c11f-d2db-48ba-8729-714e79a71a8b\" target=\"_top\" title=\"psysml:13c6c11f-d2db-48ba-8729-714e79a71a8b\" xlink:actuate=\"onRequest\" xlink:href=\"psysml:13c6c11f-d2db-48ba-8729-714e79a71a8b\" xlink:show=\"new\" xlink:title=\"psysml:13c6c11f-d2db-48ba-8729-714e79a71a8b\" xlink:type=\"simple\"><rect fill=\"#FFFFFF\" height=\"45.9375\" id=\"E4\" style=\"stroke: #383838; stroke-width: 1.5;\" width=\"79\" x=\"78.5\" y=\"41\"/><text fill=\"#000000\" font-family=\"sans-serif\" font-size=\"12\" font-style=\"italic\" lengthAdjust=\"spacingAndGlyphs\" textLength=\"77\" x=\"79.5\" y=\"57.1387\">«action def»</text><text fill=\"#000000\" font-family=\"sans-serif\" font-size=\"12\" lengthAdjust=\"spacingAndGlyphs\" textLength=\"27\" x=\"104.5\" y=\"71.1074\">setX</text><line style=\"stroke: #383838; stroke-width: 1.5;\" x1=\"79.5\" x2=\"156.5\" y1=\"78.9375\" y2=\"78.9375\"/></a><!--MD5=[209b3feb70ccb6233bfe1053d122c12c]\n",
       "reverse link E2 to E3--><a href=\"psysml:6c3bd0c1-e9ea-4acc-b51f-d35f7aefdb06\" target=\"_top\" title=\"psysml:6c3bd0c1-e9ea-4acc-b51f-d35f7aefdb06\" xlink:actuate=\"onRequest\" xlink:href=\"psysml:6c3bd0c1-e9ea-4acc-b51f-d35f7aefdb06\" xlink:show=\"new\" xlink:title=\"psysml:6c3bd0c1-e9ea-4acc-b51f-d35f7aefdb06\" xlink:type=\"simple\"><path d=\"M118,253.76 C118,270.17 118,287.52 118,300.75 \" fill=\"none\" id=\"E2&lt;-E3\" style=\"stroke: #383838; stroke-width: 1.0;\"/><polygon fill=\"#383838\" points=\"118,240.31,114,246.31,118,252.31,122,246.31,118,240.31\" style=\"stroke: #383838; stroke-width: 1.0;\"/><text fill=\"#000000\" font-family=\"sans-serif\" font-size=\"13\" lengthAdjust=\"spacingAndGlyphs\" textLength=\"7\" x=\"110.1031\" y=\"289.9622\">*</text></a><!--MD5=[ddeed8deb2209213b62e6cfabaa108b2]\n",
       "reverse link E4 to E2--><a href=\"psysml:b2a1dac5-50e3-4d3d-9a14-28fff19dad0f\" target=\"_top\" title=\"psysml:b2a1dac5-50e3-4d3d-9a14-28fff19dad0f\" xlink:actuate=\"onRequest\" xlink:href=\"psysml:b2a1dac5-50e3-4d3d-9a14-28fff19dad0f\" xlink:show=\"new\" xlink:title=\"psysml:b2a1dac5-50e3-4d3d-9a14-28fff19dad0f\" xlink:type=\"simple\"><path d=\"M118,100.42 C118,119.95 118,144.19 118,163.97 \" fill=\"none\" id=\"E4&lt;-E2\" style=\"stroke: #383838; stroke-width: 1.0;\"/><polygon fill=\"#FFFFFF\" points=\"118,87.15,114,93.15,118,99.15,122,93.15,118,87.15\" style=\"stroke: #383838; stroke-width: 1.0;\"/><text fill=\"#000000\" font-family=\"sans-serif\" font-size=\"13\" lengthAdjust=\"spacingAndGlyphs\" textLength=\"7\" x=\"119\" y=\"130.0669\">c</text></a><!--MD5=[8279d27be0542ba98589ca0ffddda6cd]\n",
       "@startuml\r\n",
       " skinparam monochrome true\r\n",
       "skinparam classbackgroundcolor white\r\n",
       "skinparam shadowing false\r\n",
       "skinparam wrapWidth 300\r\n",
       "hide circle\r\n",
       "\r\n",
       "package \"TextualRepresentationTest\" as E1  [[psysml:fa6c1bf2-147a-4459-8db1-4c7f2c0aa92b ]]  {\r\n",
       "comp def \"C\" as E2  <<(T,blue) item def>> [[psysml:7c3e9caa-80d9-4c4c-adc7-c498b9bc223a ]] {\r\n",
       "- - attributes - -\r\n",
       "x: Real\r\n",
       "}\r\n",
       "comp usage \"x_constraint\" as E3  <<(T,blue) assertConstraint>> [[psysml:c1adaef5-a811-466e-b0b1-353fc6834fce ]] {\r\n",
       "}\r\n",
       "comp def \"setX\" as E4  <<(T,blue) action def>> [[psysml:13c6c11f-d2db-48ba-8729-714e79a71a8b ]] {\r\n",
       "}\r\n",
       "}\r\n",
       "E2 *- - \"*\"E3 [[psysml:6c3bd0c1-e9ea-4acc-b51f-d35f7aefdb06 ]] \r\n",
       "E4 o- - E2 [[psysml:b2a1dac5-50e3-4d3d-9a14-28fff19dad0f ]] : c\r\n",
       "@enduml\r\n",
       "\n",
       "PlantUML version 1.2020.13(Sat Jun 13 12:26:38 UTC 2020)\n",
       "(EPL source distribution)\n",
       "Java Runtime: OpenJDK Runtime Environment\n",
       "JVM: OpenJDK 64-Bit Server VM\n",
       "Default Encoding: UTF-8\n",
       "Language: en\n",
       "Country: null\n",
       "--></g></svg>"
      ]
     },
     "execution_count": 3,
     "metadata": {},
     "output_type": "execute_result"
    }
   ],
   "source": [
    "%viz --style=\"COMPTREE\" --view=\"Tree\" \"TextualRepresentationTest\""
   ]
  },
  {
   "cell_type": "code",
   "execution_count": 4,
   "id": "f322b949",
   "metadata": {
    "execution": {
     "iopub.execute_input": "2021-09-27T07:18:32.043932Z",
     "iopub.status.busy": "2021-09-27T07:18:32.043498Z",
     "iopub.status.idle": "2021-09-27T07:18:32.050630Z",
     "shell.execute_reply": "2021-09-27T07:18:32.050967Z"
    }
   },
   "outputs": [
    {
     "data": {
      "image/svg+xml": [
       "<?xml version=\"1.0\" encoding=\"UTF-8\" standalone=\"no\"?><svg xmlns=\"http://www.w3.org/2000/svg\" xmlns:xlink=\"http://www.w3.org/1999/xlink\" contentScriptType=\"application/ecmascript\" contentStyleType=\"text/css\" height=\"12px\" preserveAspectRatio=\"none\" style=\"width:12px;height:12px;\" version=\"1.1\" viewBox=\"0 0 12 12\" width=\"12px\" zoomAndPan=\"magnify\"><defs/><g><!--MD5=[f19188ef49e11757b5c46753f95d9edc]\n",
       "@startuml\r\n",
       " skinparam monochrome true\r\n",
       "skinparam classbackgroundcolor white\r\n",
       "skinparam shadowing false\r\n",
       "skinparam wrapWidth 300\r\n",
       "hide circle\r\n",
       "\r\n",
       "@enduml\r\n",
       "\n",
       "PlantUML version 1.2020.13(Sat Jun 13 12:26:38 UTC 2020)\n",
       "(EPL source distribution)\n",
       "Java Runtime: OpenJDK Runtime Environment\n",
       "JVM: OpenJDK 64-Bit Server VM\n",
       "Default Encoding: UTF-8\n",
       "Language: en\n",
       "Country: null\n",
       "--></g></svg>"
      ]
     },
     "execution_count": 4,
     "metadata": {},
     "output_type": "execute_result"
    }
   ],
   "source": [
    "%viz --style=\"COMPTREE\" --view=\"State\" \"TextualRepresentationTest\""
   ]
  },
  {
   "cell_type": "code",
   "execution_count": 5,
   "id": "3c22b70c",
   "metadata": {
    "execution": {
     "iopub.execute_input": "2021-09-27T07:18:32.101541Z",
     "iopub.status.busy": "2021-09-27T07:18:32.101088Z",
     "iopub.status.idle": "2021-09-27T07:18:32.142197Z",
     "shell.execute_reply": "2021-09-27T07:18:32.142530Z"
    }
   },
   "outputs": [
    {
     "data": {
      "image/svg+xml": [
       "<?xml version=\"1.0\" encoding=\"UTF-8\" standalone=\"no\"?><svg xmlns=\"http://www.w3.org/2000/svg\" xmlns:xlink=\"http://www.w3.org/1999/xlink\" contentScriptType=\"application/ecmascript\" contentStyleType=\"text/css\" height=\"179px\" preserveAspectRatio=\"none\" style=\"width:284px;height:179px;\" version=\"1.1\" viewBox=\"0 0 284 179\" width=\"284px\" zoomAndPan=\"magnify\"><defs/><g><!--MD5=[fbc87193dbaf4d95561dea2c320d4a47]\n",
       "cluster E1--><a href=\"psysml:fa6c1bf2-147a-4459-8db1-4c7f2c0aa92b\" target=\"_top\" title=\"psysml:fa6c1bf2-147a-4459-8db1-4c7f2c0aa92b\" xlink:actuate=\"onRequest\" xlink:href=\"psysml:fa6c1bf2-147a-4459-8db1-4c7f2c0aa92b\" xlink:show=\"new\" xlink:title=\"psysml:fa6c1bf2-147a-4459-8db1-4c7f2c0aa92b\" xlink:type=\"simple\"><polygon fill=\"#FFFFFF\" points=\"16,6,210,6,217,28.2969,262,28.2969,262,167,16,167,16,6\" style=\"stroke: #000000; stroke-width: 1.5;\"/><line style=\"stroke: #000000; stroke-width: 1.5;\" x1=\"16\" x2=\"217\" y1=\"28.2969\" y2=\"28.2969\"/><text fill=\"#000000\" font-family=\"sans-serif\" font-size=\"14\" font-weight=\"bold\" lengthAdjust=\"spacingAndGlyphs\" textLength=\"188\" x=\"20\" y=\"20.9951\">TextualRepresentationTest</text></a><!--MD5=[d5e69f78d87373223dbae638b30a9c99]\n",
       "cluster E3--><a href=\"psysml:13c6c11f-d2db-48ba-8729-714e79a71a8b\" target=\"_top\" title=\"psysml:13c6c11f-d2db-48ba-8729-714e79a71a8b\" xlink:actuate=\"onRequest\" xlink:href=\"psysml:13c6c11f-d2db-48ba-8729-714e79a71a8b\" xlink:show=\"new\" xlink:title=\"psysml:13c6c11f-d2db-48ba-8729-714e79a71a8b\" xlink:type=\"simple\"><rect fill=\"#FFFFFF\" height=\"88.5\" id=\"E3\" style=\"stroke: #383838; stroke-width: 1.5;\" width=\"96\" x=\"120.5\" y=\"62.5\"/><rect fill=\"#F8F8F8\" height=\"37.9375\" style=\"stroke: #383838; stroke-width: 1.5;\" width=\"96\" x=\"120.5\" y=\"62.5\"/><text fill=\"#000000\" font-family=\"sans-serif\" font-size=\"12\" font-style=\"italic\" lengthAdjust=\"spacingAndGlyphs\" textLength=\"77\" x=\"130\" y=\"78.6387\">«action def»</text><text fill=\"#000000\" font-family=\"sans-serif\" font-size=\"12\" lengthAdjust=\"spacingAndGlyphs\" textLength=\"27\" x=\"155\" y=\"92.6074\">setX</text></a><g id=\"E1.E2\"><a href=\"psysml:7c3e9caa-80d9-4c4c-adc7-c498b9bc223a\" target=\"_top\" title=\"psysml:7c3e9caa-80d9-4c4c-adc7-c498b9bc223a\" xlink:actuate=\"onRequest\" xlink:href=\"psysml:7c3e9caa-80d9-4c4c-adc7-c498b9bc223a\" xlink:show=\"new\" xlink:title=\"psysml:7c3e9caa-80d9-4c4c-adc7-c498b9bc223a\" xlink:type=\"simple\"><rect fill=\"#FFFFFF\" height=\"42.9375\" id=\"E2\" style=\"stroke: #383838; stroke-width: 1.5;\" width=\"72\" x=\"32\" y=\"41\"/><rect fill=\"#F8F8F8\" height=\"37.9375\" style=\"stroke: #383838; stroke-width: 1.5;\" width=\"72\" x=\"32\" y=\"41\"/><text fill=\"#000000\" font-family=\"sans-serif\" font-size=\"12\" font-style=\"italic\" lengthAdjust=\"spacingAndGlyphs\" textLength=\"65\" x=\"35.5\" y=\"57.1387\">«item def»</text><text fill=\"#000000\" font-family=\"sans-serif\" font-size=\"12\" lengthAdjust=\"spacingAndGlyphs\" textLength=\"8\" x=\"64\" y=\"71.1074\">C</text></a></g><text fill=\"#000000\" font-family=\"sans-serif\" font-size=\"14\" lengthAdjust=\"spacingAndGlyphs\" textLength=\"8\" x=\"141\" y=\"41.1982\">c</text><rect fill=\"#383838\" height=\"12\" style=\"stroke: #F8F8F8; stroke-width: 1.5;\" width=\"12\" x=\"139\" y=\"56.5\"/><text fill=\"#000000\" font-family=\"sans-serif\" font-size=\"14\" lengthAdjust=\"spacingAndGlyphs\" textLength=\"38\" x=\"173\" y=\"41.1982\">newX</text><rect fill=\"#383838\" height=\"12\" style=\"stroke: #F8F8F8; stroke-width: 1.5;\" width=\"12\" x=\"186\" y=\"56.5\"/><!--MD5=[cb953c58ab26ea95b4de2a94f3116e27]\n",
       "@startuml\r\n",
       "skinparam ranksep 10\r\n",
       "skinparam rectangle {\r\n",
       " backgroundColor<<block>> LightGreen\r\n",
       "}\r\n",
       " skinparam monochrome true\r\n",
       "skinparam classbackgroundcolor white\r\n",
       "skinparam shadowing false\r\n",
       "skinparam wrapWidth 300\r\n",
       "hide circle\r\n",
       "\r\n",
       "package \"TextualRepresentationTest\" as E1  [[psysml:fa6c1bf2-147a-4459-8db1-4c7f2c0aa92b ]]  {\r\n",
       "def \"C\" as E2  <<(T,blue) item def>> [[psysml:7c3e9caa-80d9-4c4c-adc7-c498b9bc223a ]] \r\n",
       "rec def \"setX\" as E3  <<(T,blue) action def>> [[psysml:13c6c11f-d2db-48ba-8729-714e79a71a8b ]] {\r\n",
       "portin \"c\" as E4  [[psysml:b2a1dac5-50e3-4d3d-9a14-28fff19dad0f ]] \r\n",
       "portin \"newX\" as E5  [[psysml:3095d82e-c5b2-4faf-b7d1-254d70a18586 ]] \r\n",
       "}\r\n",
       "\r\n",
       "}\r\n",
       "@enduml\r\n",
       "\n",
       "PlantUML version 1.2020.13(Sat Jun 13 12:26:38 UTC 2020)\n",
       "(EPL source distribution)\n",
       "Java Runtime: OpenJDK Runtime Environment\n",
       "JVM: OpenJDK 64-Bit Server VM\n",
       "Default Encoding: UTF-8\n",
       "Language: en\n",
       "Country: null\n",
       "--></g></svg>"
      ]
     },
     "execution_count": 5,
     "metadata": {},
     "output_type": "execute_result"
    }
   ],
   "source": [
    "%viz --style=\"COMPTREE\" --view=\"Interconnection\" \"TextualRepresentationTest\""
   ]
  },
  {
   "cell_type": "code",
   "execution_count": 6,
   "id": "9cda371a",
   "metadata": {
    "execution": {
     "iopub.execute_input": "2021-09-27T07:18:32.193067Z",
     "iopub.status.busy": "2021-09-27T07:18:32.192631Z",
     "iopub.status.idle": "2021-09-27T07:18:32.222617Z",
     "shell.execute_reply": "2021-09-27T07:18:32.222945Z"
    }
   },
   "outputs": [
    {
     "data": {
      "image/svg+xml": [
       "<?xml version=\"1.0\" encoding=\"UTF-8\" standalone=\"no\"?><svg xmlns=\"http://www.w3.org/2000/svg\" xmlns:xlink=\"http://www.w3.org/1999/xlink\" contentScriptType=\"application/ecmascript\" contentStyleType=\"text/css\" height=\"126px\" preserveAspectRatio=\"none\" style=\"width:150px;height:126px;\" version=\"1.1\" viewBox=\"0 0 150 126\" width=\"150px\" zoomAndPan=\"magnify\"><defs/><g><!--MD5=[fbc87193dbaf4d95561dea2c320d4a47]\n",
       "cluster E1--><a href=\"psysml:13c6c11f-d2db-48ba-8729-714e79a71a8b\" target=\"_top\" title=\"psysml:13c6c11f-d2db-48ba-8729-714e79a71a8b\" xlink:actuate=\"onRequest\" xlink:href=\"psysml:13c6c11f-d2db-48ba-8729-714e79a71a8b\" xlink:show=\"new\" xlink:title=\"psysml:13c6c11f-d2db-48ba-8729-714e79a71a8b\" xlink:type=\"simple\"><rect fill=\"#FFFFFF\" height=\"73\" id=\"E1\" style=\"stroke: #383838; stroke-width: 1.5;\" width=\"132\" x=\"7\" y=\"42.0986\"/><rect fill=\"#F8F8F8\" height=\"37.9375\" style=\"stroke: #383838; stroke-width: 1.5;\" width=\"132\" x=\"7\" y=\"42.0986\"/><text fill=\"#000000\" font-family=\"sans-serif\" font-size=\"12\" font-style=\"italic\" lengthAdjust=\"spacingAndGlyphs\" textLength=\"77\" x=\"34.5\" y=\"58.2373\">«action def»</text><text fill=\"#000000\" font-family=\"sans-serif\" font-size=\"12\" lengthAdjust=\"spacingAndGlyphs\" textLength=\"27\" x=\"59.5\" y=\"72.2061\">setX</text></a><text fill=\"#000000\" font-family=\"sans-serif\" font-size=\"14\" lengthAdjust=\"spacingAndGlyphs\" textLength=\"8\" x=\"21\" y=\"20.7969\">c</text><rect fill=\"#383838\" height=\"12\" style=\"stroke: #F8F8F8; stroke-width: 1.5;\" width=\"12\" x=\"19\" y=\"36.0986\"/><text fill=\"#000000\" font-family=\"sans-serif\" font-size=\"14\" lengthAdjust=\"spacingAndGlyphs\" textLength=\"38\" x=\"53\" y=\"20.7969\">newX</text><rect fill=\"#383838\" height=\"12\" style=\"stroke: #F8F8F8; stroke-width: 1.5;\" width=\"12\" x=\"66\" y=\"36.0986\"/><!--MD5=[3e3a0da25f49abf7f261bb8b6109c62c]\n",
       "@startuml\r\n",
       "skinparam ranksep 8\r\n",
       " skinparam monochrome true\r\n",
       "skinparam classbackgroundcolor white\r\n",
       "skinparam shadowing false\r\n",
       "skinparam wrapWidth 300\r\n",
       "hide circle\r\n",
       "\r\n",
       "rec def \"setX\" as E1  <<(T,blue) action def>> [[psysml:13c6c11f-d2db-48ba-8729-714e79a71a8b ]] {\r\n",
       "portin \"c\" as E2  [[psysml:b2a1dac5-50e3-4d3d-9a14-28fff19dad0f ]] \r\n",
       "portin \"newX\" as E3  [[psysml:3095d82e-c5b2-4faf-b7d1-254d70a18586 ]] \r\n",
       "}\r\n",
       "\r\n",
       "@enduml\r\n",
       "\n",
       "PlantUML version 1.2020.13(Sat Jun 13 12:26:38 UTC 2020)\n",
       "(EPL source distribution)\n",
       "Java Runtime: OpenJDK Runtime Environment\n",
       "JVM: OpenJDK 64-Bit Server VM\n",
       "Default Encoding: UTF-8\n",
       "Language: en\n",
       "Country: null\n",
       "--></g></svg>"
      ]
     },
     "execution_count": 6,
     "metadata": {},
     "output_type": "execute_result"
    }
   ],
   "source": [
    "%viz --style=\"COMPTREE\" --view=\"Action\" \"TextualRepresentationTest\""
   ]
  },
  {
   "cell_type": "code",
   "execution_count": 7,
   "id": "264e032e",
   "metadata": {
    "execution": {
     "iopub.execute_input": "2021-09-27T07:18:32.273352Z",
     "iopub.status.busy": "2021-09-27T07:18:32.272918Z",
     "iopub.status.idle": "2021-09-27T07:18:32.286213Z",
     "shell.execute_reply": "2021-09-27T07:18:32.286542Z"
    }
   },
   "outputs": [
    {
     "data": {
      "image/svg+xml": [
       "<?xml version=\"1.0\" encoding=\"UTF-8\" standalone=\"no\"?><svg xmlns=\"http://www.w3.org/2000/svg\" xmlns:xlink=\"http://www.w3.org/1999/xlink\" contentScriptType=\"application/ecmascript\" contentStyleType=\"text/css\" height=\"12px\" preserveAspectRatio=\"none\" style=\"width:12px;height:12px;\" version=\"1.1\" viewBox=\"0 0 12 12\" width=\"12px\" zoomAndPan=\"magnify\"><defs/><g><!--MD5=[803fc46c337be7a5c8a9831e35356779]\n",
       "@startuml\r\n",
       "skinparam roundcorner 20\r\n",
       "skinparam BoxPadding 20\r\n",
       "skinparam SequenceBoxBackgroundColor #white\r\n",
       "skinparam style strictuml\r\n",
       "skinparam maxMessageSize 100\r\n",
       " skinparam monochrome true\r\n",
       "skinparam classbackgroundcolor white\r\n",
       "skinparam shadowing false\r\n",
       "skinparam wrapWidth 300\r\n",
       "hide circle\r\n",
       "\r\n",
       "@enduml\r\n",
       "\n",
       "PlantUML version 1.2020.13(Sat Jun 13 12:26:38 UTC 2020)\n",
       "(EPL source distribution)\n",
       "Java Runtime: OpenJDK Runtime Environment\n",
       "JVM: OpenJDK 64-Bit Server VM\n",
       "Default Encoding: UTF-8\n",
       "Language: en\n",
       "Country: null\n",
       "--></g></svg>"
      ]
     },
     "execution_count": 7,
     "metadata": {},
     "output_type": "execute_result"
    }
   ],
   "source": [
    "%viz --style=\"COMPTREE\" --view=\"Sequence\" \"TextualRepresentationTest\""
   ]
  },
  {
   "cell_type": "code",
   "execution_count": 8,
   "id": "c7363dc8",
   "metadata": {
    "execution": {
     "iopub.execute_input": "2021-09-27T07:18:32.337088Z",
     "iopub.status.busy": "2021-09-27T07:18:32.336654Z",
     "iopub.status.idle": "2021-09-27T07:18:32.400142Z",
     "shell.execute_reply": "2021-09-27T07:18:32.400445Z"
    }
   },
   "outputs": [
    {
     "data": {
      "image/svg+xml": [
       "<?xml version=\"1.0\" encoding=\"UTF-8\" standalone=\"no\"?><svg xmlns=\"http://www.w3.org/2000/svg\" xmlns:xlink=\"http://www.w3.org/1999/xlink\" contentScriptType=\"application/ecmascript\" contentStyleType=\"text/css\" height=\"261px\" preserveAspectRatio=\"none\" style=\"width:345px;height:261px;\" version=\"1.1\" viewBox=\"0 0 345 261\" width=\"345px\" zoomAndPan=\"magnify\"><defs/><g><!--MD5=[fbc87193dbaf4d95561dea2c320d4a47]\n",
       "cluster E1--><a href=\"psysml:fa6c1bf2-147a-4459-8db1-4c7f2c0aa92b\" target=\"_top\" title=\"psysml:fa6c1bf2-147a-4459-8db1-4c7f2c0aa92b\" xlink:actuate=\"onRequest\" xlink:href=\"psysml:fa6c1bf2-147a-4459-8db1-4c7f2c0aa92b\" xlink:show=\"new\" xlink:title=\"psysml:fa6c1bf2-147a-4459-8db1-4c7f2c0aa92b\" xlink:type=\"simple\"><polygon fill=\"#FFFFFF\" points=\"16,6,210,6,217,28.2969,323,28.2969,323,249.5,16,249.5,16,6\" style=\"stroke: #000000; stroke-width: 1.5;\"/><line style=\"stroke: #000000; stroke-width: 1.5;\" x1=\"16\" x2=\"217\" y1=\"28.2969\" y2=\"28.2969\"/><text fill=\"#000000\" font-family=\"sans-serif\" font-size=\"14\" font-weight=\"bold\" lengthAdjust=\"spacingAndGlyphs\" textLength=\"188\" x=\"20\" y=\"20.9951\">TextualRepresentationTest</text></a><!--MD5=[f6df4d0ebaf0b5dfb2ced0ae5af7c670]\n",
       "cluster E4--><a href=\"psysml:13c6c11f-d2db-48ba-8729-714e79a71a8b\" target=\"_top\" title=\"psysml:13c6c11f-d2db-48ba-8729-714e79a71a8b\" xlink:actuate=\"onRequest\" xlink:href=\"psysml:13c6c11f-d2db-48ba-8729-714e79a71a8b\" xlink:show=\"new\" xlink:title=\"psysml:13c6c11f-d2db-48ba-8729-714e79a71a8b\" xlink:type=\"simple\"><rect fill=\"#FFFFFF\" height=\"154.5\" id=\"E4\" style=\"stroke: #383838; stroke-width: 1.5;\" width=\"132\" x=\"175\" y=\"79\"/><rect fill=\"#F8F8F8\" height=\"37.9375\" style=\"stroke: #383838; stroke-width: 1.5;\" width=\"132\" x=\"175\" y=\"79\"/><text fill=\"#000000\" font-family=\"sans-serif\" font-size=\"12\" font-style=\"italic\" lengthAdjust=\"spacingAndGlyphs\" textLength=\"77\" x=\"202.5\" y=\"95.1387\">«action def»</text><text fill=\"#000000\" font-family=\"sans-serif\" font-size=\"12\" lengthAdjust=\"spacingAndGlyphs\" textLength=\"27\" x=\"227.5\" y=\"109.1074\">setX</text></a><!--MD5=[b4997ac47864f28c2f74865a473b2911]\n",
       "class E2--><a href=\"psysml:7c3e9caa-80d9-4c4c-adc7-c498b9bc223a\" target=\"_top\" title=\"psysml:7c3e9caa-80d9-4c4c-adc7-c498b9bc223a\" xlink:actuate=\"onRequest\" xlink:href=\"psysml:7c3e9caa-80d9-4c4c-adc7-c498b9bc223a\" xlink:show=\"new\" xlink:title=\"psysml:7c3e9caa-80d9-4c4c-adc7-c498b9bc223a\" xlink:type=\"simple\"><rect fill=\"#FFFFFF\" height=\"75.5469\" id=\"E2\" style=\"stroke: #383838; stroke-width: 1.5;\" width=\"67\" x=\"59.5\" y=\"41\"/><text fill=\"#000000\" font-family=\"sans-serif\" font-size=\"12\" font-style=\"italic\" lengthAdjust=\"spacingAndGlyphs\" textLength=\"65\" x=\"60.5\" y=\"57.1387\">«item def»</text><text fill=\"#000000\" font-family=\"sans-serif\" font-size=\"12\" lengthAdjust=\"spacingAndGlyphs\" textLength=\"8\" x=\"89\" y=\"71.1074\">C</text><line style=\"stroke: #383838; stroke-width: 1.5;\" x1=\"60.5\" x2=\"125.5\" y1=\"78.9375\" y2=\"78.9375\"/><text fill=\"#000000\" font-family=\"sans-serif\" font-size=\"11\" lengthAdjust=\"spacingAndGlyphs\" textLength=\"38\" x=\"65.5\" y=\"109.9526\">x: Real</text><line style=\"stroke: #383838; stroke-width: 1.0;\" x1=\"60.5\" x2=\"65.5\" y1=\"93.3398\" y2=\"93.3398\"/><text fill=\"#000000\" font-family=\"sans-serif\" font-size=\"11\" lengthAdjust=\"spacingAndGlyphs\" textLength=\"55\" x=\"65.5\" y=\"96.6479\">attributes</text><line style=\"stroke: #383838; stroke-width: 1.0;\" x1=\"120.5\" x2=\"125.5\" y1=\"93.3398\" y2=\"93.3398\"/></a><!--MD5=[09b614a08d8cba4a07c9adeb5e0fee81]\n",
       "class E3--><a href=\"psysml:c1adaef5-a811-466e-b0b1-353fc6834fce\" target=\"_top\" title=\"psysml:c1adaef5-a811-466e-b0b1-353fc6834fce\" xlink:actuate=\"onRequest\" xlink:href=\"psysml:c1adaef5-a811-466e-b0b1-353fc6834fce\" xlink:show=\"new\" xlink:title=\"psysml:c1adaef5-a811-466e-b0b1-353fc6834fce\" xlink:type=\"simple\"><rect fill=\"#FFFFFF\" height=\"45.9375\" id=\"E3\" rx=\"10\" ry=\"10\" style=\"stroke: #383838; stroke-width: 1.5;\" width=\"121\" x=\"32.5\" y=\"177\"/><text fill=\"#000000\" font-family=\"sans-serif\" font-size=\"12\" font-style=\"italic\" lengthAdjust=\"spacingAndGlyphs\" textLength=\"119\" x=\"33.5\" y=\"193.1387\">«assertConstraint»</text><text fill=\"#000000\" font-family=\"sans-serif\" font-size=\"12\" lengthAdjust=\"spacingAndGlyphs\" textLength=\"76\" x=\"55\" y=\"207.1074\">x_constraint</text><line style=\"stroke: #383838; stroke-width: 1.5;\" x1=\"33.5\" x2=\"152.5\" y1=\"214.9375\" y2=\"214.9375\"/></a><text fill=\"#000000\" font-family=\"sans-serif\" font-size=\"14\" lengthAdjust=\"spacingAndGlyphs\" textLength=\"8\" x=\"189\" y=\"57.6982\">c</text><rect fill=\"#383838\" height=\"12\" style=\"stroke: #F8F8F8; stroke-width: 1.5;\" width=\"12\" x=\"187\" y=\"73\"/><text fill=\"#000000\" font-family=\"sans-serif\" font-size=\"14\" lengthAdjust=\"spacingAndGlyphs\" textLength=\"38\" x=\"221\" y=\"57.6982\">newX</text><rect fill=\"#383838\" height=\"12\" style=\"stroke: #F8F8F8; stroke-width: 1.5;\" width=\"12\" x=\"234\" y=\"73\"/><!--MD5=[209b3feb70ccb6233bfe1053d122c12c]\n",
       "reverse link E2 to E3--><a href=\"psysml:6c3bd0c1-e9ea-4acc-b51f-d35f7aefdb06\" target=\"_top\" title=\"psysml:6c3bd0c1-e9ea-4acc-b51f-d35f7aefdb06\" xlink:actuate=\"onRequest\" xlink:href=\"psysml:6c3bd0c1-e9ea-4acc-b51f-d35f7aefdb06\" xlink:show=\"new\" xlink:title=\"psysml:6c3bd0c1-e9ea-4acc-b51f-d35f7aefdb06\" xlink:type=\"simple\"><path d=\"M93,130.34 C93,146.61 93,163.81 93,176.93 \" fill=\"none\" id=\"E2&lt;-E3\" style=\"stroke: #383838; stroke-width: 1.0;\"/><polygon fill=\"#383838\" points=\"93,117,89,123,93,129,97,123,93,117\" style=\"stroke: #383838; stroke-width: 1.0;\"/><text fill=\"#000000\" font-family=\"sans-serif\" font-size=\"13\" lengthAdjust=\"spacingAndGlyphs\" textLength=\"7\" x=\"85.0594\" y=\"165.8075\">*</text></a><!--MD5=[6f5d917c3405ec901d9680de038e1cf2]\n",
       "@startuml\r\n",
       " skinparam monochrome true\r\n",
       "skinparam classbackgroundcolor white\r\n",
       "skinparam shadowing false\r\n",
       "skinparam wrapWidth 300\r\n",
       "hide circle\r\n",
       "\r\n",
       "package \"TextualRepresentationTest\" as E1  [[psysml:fa6c1bf2-147a-4459-8db1-4c7f2c0aa92b ]]  {\r\n",
       "comp def \"C\" as E2  <<(T,blue) item def>> [[psysml:7c3e9caa-80d9-4c4c-adc7-c498b9bc223a ]] {\r\n",
       "- - attributes - -\r\n",
       "x: Real\r\n",
       "}\r\n",
       "comp usage \"x_constraint\" as E3  <<(T,blue) assertConstraint>> [[psysml:c1adaef5-a811-466e-b0b1-353fc6834fce ]] {\r\n",
       "}\r\n",
       "rec def \"setX\" as E4  <<(T,blue) action def>> [[psysml:13c6c11f-d2db-48ba-8729-714e79a71a8b ]] {\r\n",
       "portin \"c\" as E5  [[psysml:b2a1dac5-50e3-4d3d-9a14-28fff19dad0f ]] \r\n",
       "portin \"newX\" as E6  [[psysml:3095d82e-c5b2-4faf-b7d1-254d70a18586 ]] \r\n",
       "}\r\n",
       "\r\n",
       "}\r\n",
       "E2 *- - \"*\"E3 [[psysml:6c3bd0c1-e9ea-4acc-b51f-d35f7aefdb06 ]] \r\n",
       "@enduml\r\n",
       "\n",
       "PlantUML version 1.2020.13(Sat Jun 13 12:26:38 UTC 2020)\n",
       "(EPL source distribution)\n",
       "Java Runtime: OpenJDK Runtime Environment\n",
       "JVM: OpenJDK 64-Bit Server VM\n",
       "Default Encoding: UTF-8\n",
       "Language: en\n",
       "Country: null\n",
       "--></g></svg>"
      ]
     },
     "execution_count": 8,
     "metadata": {},
     "output_type": "execute_result"
    }
   ],
   "source": [
    "%viz --style=\"COMPTREE\" --view=\"MIXED\" \"TextualRepresentationTest\""
   ]
  },
  {
   "cell_type": "code",
   "execution_count": 9,
   "id": "7361c7ff",
   "metadata": {
    "execution": {
     "iopub.execute_input": "2021-09-27T07:18:32.450727Z",
     "iopub.status.busy": "2021-09-27T07:18:32.450279Z",
     "iopub.status.idle": "2021-09-27T07:18:32.510468Z",
     "shell.execute_reply": "2021-09-27T07:18:32.509201Z"
    }
   },
   "outputs": [
    {
     "data": {
      "image/svg+xml": [
       "<?xml version=\"1.0\" encoding=\"UTF-8\" standalone=\"no\"?><svg xmlns=\"http://www.w3.org/2000/svg\" xmlns:xlink=\"http://www.w3.org/1999/xlink\" contentScriptType=\"application/ecmascript\" contentStyleType=\"text/css\" height=\"261px\" preserveAspectRatio=\"none\" style=\"width:345px;height:261px;\" version=\"1.1\" viewBox=\"0 0 345 261\" width=\"345px\" zoomAndPan=\"magnify\"><defs/><g><!--MD5=[fbc87193dbaf4d95561dea2c320d4a47]\n",
       "cluster E1--><a href=\"psysml:fa6c1bf2-147a-4459-8db1-4c7f2c0aa92b\" target=\"_top\" title=\"psysml:fa6c1bf2-147a-4459-8db1-4c7f2c0aa92b\" xlink:actuate=\"onRequest\" xlink:href=\"psysml:fa6c1bf2-147a-4459-8db1-4c7f2c0aa92b\" xlink:show=\"new\" xlink:title=\"psysml:fa6c1bf2-147a-4459-8db1-4c7f2c0aa92b\" xlink:type=\"simple\"><polygon fill=\"#FFFFFF\" points=\"16,6,210,6,217,28.2969,323,28.2969,323,249.5,16,249.5,16,6\" style=\"stroke: #000000; stroke-width: 1.5;\"/><line style=\"stroke: #000000; stroke-width: 1.5;\" x1=\"16\" x2=\"217\" y1=\"28.2969\" y2=\"28.2969\"/><text fill=\"#000000\" font-family=\"sans-serif\" font-size=\"14\" font-weight=\"bold\" lengthAdjust=\"spacingAndGlyphs\" textLength=\"188\" x=\"20\" y=\"20.9951\">TextualRepresentationTest</text></a><!--MD5=[f6df4d0ebaf0b5dfb2ced0ae5af7c670]\n",
       "cluster E4--><a href=\"psysml:13c6c11f-d2db-48ba-8729-714e79a71a8b\" target=\"_top\" title=\"psysml:13c6c11f-d2db-48ba-8729-714e79a71a8b\" xlink:actuate=\"onRequest\" xlink:href=\"psysml:13c6c11f-d2db-48ba-8729-714e79a71a8b\" xlink:show=\"new\" xlink:title=\"psysml:13c6c11f-d2db-48ba-8729-714e79a71a8b\" xlink:type=\"simple\"><rect fill=\"#FFFFFF\" height=\"154.5\" id=\"E4\" style=\"stroke: #383838; stroke-width: 1.5;\" width=\"132\" x=\"175\" y=\"79\"/><rect fill=\"#F8F8F8\" height=\"37.9375\" style=\"stroke: #383838; stroke-width: 1.5;\" width=\"132\" x=\"175\" y=\"79\"/><text fill=\"#000000\" font-family=\"sans-serif\" font-size=\"12\" font-style=\"italic\" lengthAdjust=\"spacingAndGlyphs\" textLength=\"77\" x=\"202.5\" y=\"95.1387\">«action def»</text><text fill=\"#000000\" font-family=\"sans-serif\" font-size=\"12\" lengthAdjust=\"spacingAndGlyphs\" textLength=\"27\" x=\"227.5\" y=\"109.1074\">setX</text></a><!--MD5=[b4997ac47864f28c2f74865a473b2911]\n",
       "class E2--><a href=\"psysml:7c3e9caa-80d9-4c4c-adc7-c498b9bc223a\" target=\"_top\" title=\"psysml:7c3e9caa-80d9-4c4c-adc7-c498b9bc223a\" xlink:actuate=\"onRequest\" xlink:href=\"psysml:7c3e9caa-80d9-4c4c-adc7-c498b9bc223a\" xlink:show=\"new\" xlink:title=\"psysml:7c3e9caa-80d9-4c4c-adc7-c498b9bc223a\" xlink:type=\"simple\"><rect fill=\"#FFFFFF\" height=\"75.5469\" id=\"E2\" style=\"stroke: #383838; stroke-width: 1.5;\" width=\"67\" x=\"59.5\" y=\"41\"/><text fill=\"#000000\" font-family=\"sans-serif\" font-size=\"12\" font-style=\"italic\" lengthAdjust=\"spacingAndGlyphs\" textLength=\"65\" x=\"60.5\" y=\"57.1387\">«item def»</text><text fill=\"#000000\" font-family=\"sans-serif\" font-size=\"12\" lengthAdjust=\"spacingAndGlyphs\" textLength=\"8\" x=\"89\" y=\"71.1074\">C</text><line style=\"stroke: #383838; stroke-width: 1.5;\" x1=\"60.5\" x2=\"125.5\" y1=\"78.9375\" y2=\"78.9375\"/><text fill=\"#000000\" font-family=\"sans-serif\" font-size=\"11\" lengthAdjust=\"spacingAndGlyphs\" textLength=\"38\" x=\"65.5\" y=\"109.9526\">x: Real</text><line style=\"stroke: #383838; stroke-width: 1.0;\" x1=\"60.5\" x2=\"65.5\" y1=\"93.3398\" y2=\"93.3398\"/><text fill=\"#000000\" font-family=\"sans-serif\" font-size=\"11\" lengthAdjust=\"spacingAndGlyphs\" textLength=\"55\" x=\"65.5\" y=\"96.6479\">attributes</text><line style=\"stroke: #383838; stroke-width: 1.0;\" x1=\"120.5\" x2=\"125.5\" y1=\"93.3398\" y2=\"93.3398\"/></a><!--MD5=[09b614a08d8cba4a07c9adeb5e0fee81]\n",
       "class E3--><a href=\"psysml:c1adaef5-a811-466e-b0b1-353fc6834fce\" target=\"_top\" title=\"psysml:c1adaef5-a811-466e-b0b1-353fc6834fce\" xlink:actuate=\"onRequest\" xlink:href=\"psysml:c1adaef5-a811-466e-b0b1-353fc6834fce\" xlink:show=\"new\" xlink:title=\"psysml:c1adaef5-a811-466e-b0b1-353fc6834fce\" xlink:type=\"simple\"><rect fill=\"#FFFFFF\" height=\"45.9375\" id=\"E3\" rx=\"10\" ry=\"10\" style=\"stroke: #383838; stroke-width: 1.5;\" width=\"121\" x=\"32.5\" y=\"177\"/><text fill=\"#000000\" font-family=\"sans-serif\" font-size=\"12\" font-style=\"italic\" lengthAdjust=\"spacingAndGlyphs\" textLength=\"119\" x=\"33.5\" y=\"193.1387\">«assertConstraint»</text><text fill=\"#000000\" font-family=\"sans-serif\" font-size=\"12\" lengthAdjust=\"spacingAndGlyphs\" textLength=\"76\" x=\"55\" y=\"207.1074\">x_constraint</text><line style=\"stroke: #383838; stroke-width: 1.5;\" x1=\"33.5\" x2=\"152.5\" y1=\"214.9375\" y2=\"214.9375\"/></a><text fill=\"#000000\" font-family=\"sans-serif\" font-size=\"14\" lengthAdjust=\"spacingAndGlyphs\" textLength=\"8\" x=\"189\" y=\"57.6982\">c</text><rect fill=\"#383838\" height=\"12\" style=\"stroke: #F8F8F8; stroke-width: 1.5;\" width=\"12\" x=\"187\" y=\"73\"/><text fill=\"#000000\" font-family=\"sans-serif\" font-size=\"14\" lengthAdjust=\"spacingAndGlyphs\" textLength=\"38\" x=\"221\" y=\"57.6982\">newX</text><rect fill=\"#383838\" height=\"12\" style=\"stroke: #F8F8F8; stroke-width: 1.5;\" width=\"12\" x=\"234\" y=\"73\"/><!--MD5=[209b3feb70ccb6233bfe1053d122c12c]\n",
       "reverse link E2 to E3--><a href=\"psysml:6c3bd0c1-e9ea-4acc-b51f-d35f7aefdb06\" target=\"_top\" title=\"psysml:6c3bd0c1-e9ea-4acc-b51f-d35f7aefdb06\" xlink:actuate=\"onRequest\" xlink:href=\"psysml:6c3bd0c1-e9ea-4acc-b51f-d35f7aefdb06\" xlink:show=\"new\" xlink:title=\"psysml:6c3bd0c1-e9ea-4acc-b51f-d35f7aefdb06\" xlink:type=\"simple\"><path d=\"M93,130.34 C93,146.61 93,163.81 93,176.93 \" fill=\"none\" id=\"E2&lt;-E3\" style=\"stroke: #383838; stroke-width: 1.0;\"/><polygon fill=\"#383838\" points=\"93,117,89,123,93,129,97,123,93,117\" style=\"stroke: #383838; stroke-width: 1.0;\"/><text fill=\"#000000\" font-family=\"sans-serif\" font-size=\"13\" lengthAdjust=\"spacingAndGlyphs\" textLength=\"7\" x=\"85.0594\" y=\"165.8075\">*</text></a><!--MD5=[bb3c78cd1c5bae20a53a88f2ba11a9a4]\n",
       "@startuml\r\n",
       "skinparam linetype polyline\r\n",
       "skinparam monochrome true\r\n",
       "skinparam classbackgroundcolor white\r\n",
       "skinparam shadowing false\r\n",
       "skinparam wrapWidth 300\r\n",
       "hide circle\r\n",
       "\r\n",
       "package \"TextualRepresentationTest\" as E1  [[psysml:fa6c1bf2-147a-4459-8db1-4c7f2c0aa92b ]]  {\r\n",
       "comp def \"C\" as E2  <<(T,blue) item def>> [[psysml:7c3e9caa-80d9-4c4c-adc7-c498b9bc223a ]] {\r\n",
       "- - attributes - -\r\n",
       "x: Real\r\n",
       "}\r\n",
       "comp usage \"x_constraint\" as E3  <<(T,blue) assertConstraint>> [[psysml:c1adaef5-a811-466e-b0b1-353fc6834fce ]] {\r\n",
       "}\r\n",
       "rec def \"setX\" as E4  <<(T,blue) action def>> [[psysml:13c6c11f-d2db-48ba-8729-714e79a71a8b ]] {\r\n",
       "portin \"c\" as E5  [[psysml:b2a1dac5-50e3-4d3d-9a14-28fff19dad0f ]] \r\n",
       "portin \"newX\" as E6  [[psysml:3095d82e-c5b2-4faf-b7d1-254d70a18586 ]] \r\n",
       "}\r\n",
       "\r\n",
       "}\r\n",
       "E2 *- - \"*\"E3 [[psysml:6c3bd0c1-e9ea-4acc-b51f-d35f7aefdb06 ]] \r\n",
       "@enduml\r\n",
       "\n",
       "PlantUML version 1.2020.13(Sat Jun 13 12:26:38 UTC 2020)\n",
       "(EPL source distribution)\n",
       "Java Runtime: OpenJDK Runtime Environment\n",
       "JVM: OpenJDK 64-Bit Server VM\n",
       "Default Encoding: UTF-8\n",
       "Language: en\n",
       "Country: null\n",
       "--></g></svg>"
      ]
     },
     "execution_count": 9,
     "metadata": {},
     "output_type": "execute_result"
    }
   ],
   "source": [
    "%viz --style=\"POLYLINE\" --view=\"Default\" \"TextualRepresentationTest\""
   ]
  },
  {
   "cell_type": "code",
   "execution_count": 10,
   "id": "92a2da9d",
   "metadata": {
    "execution": {
     "iopub.execute_input": "2021-09-27T07:18:32.560618Z",
     "iopub.status.busy": "2021-09-27T07:18:32.560175Z",
     "iopub.status.idle": "2021-09-27T07:18:32.612161Z",
     "shell.execute_reply": "2021-09-27T07:18:32.610583Z"
    }
   },
   "outputs": [
    {
     "data": {
      "image/svg+xml": [
       "<?xml version=\"1.0\" encoding=\"UTF-8\" standalone=\"no\"?><svg xmlns=\"http://www.w3.org/2000/svg\" xmlns:xlink=\"http://www.w3.org/1999/xlink\" contentScriptType=\"application/ecmascript\" contentStyleType=\"text/css\" height=\"375px\" preserveAspectRatio=\"none\" style=\"width:242px;height:375px;\" version=\"1.1\" viewBox=\"0 0 242 375\" width=\"242px\" zoomAndPan=\"magnify\"><defs/><g><!--MD5=[fbc87193dbaf4d95561dea2c320d4a47]\n",
       "cluster E1--><a href=\"psysml:fa6c1bf2-147a-4459-8db1-4c7f2c0aa92b\" target=\"_top\" title=\"psysml:fa6c1bf2-147a-4459-8db1-4c7f2c0aa92b\" xlink:actuate=\"onRequest\" xlink:href=\"psysml:fa6c1bf2-147a-4459-8db1-4c7f2c0aa92b\" xlink:show=\"new\" xlink:title=\"psysml:fa6c1bf2-147a-4459-8db1-4c7f2c0aa92b\" xlink:type=\"simple\"><polygon fill=\"#FFFFFF\" points=\"16,6,210,6,217,28.2969,220,28.2969,220,363,16,363,16,6\" style=\"stroke: #000000; stroke-width: 1.5;\"/><line style=\"stroke: #000000; stroke-width: 1.5;\" x1=\"16\" x2=\"217\" y1=\"28.2969\" y2=\"28.2969\"/><text fill=\"#000000\" font-family=\"sans-serif\" font-size=\"14\" font-weight=\"bold\" lengthAdjust=\"spacingAndGlyphs\" textLength=\"188\" x=\"20\" y=\"20.9951\">TextualRepresentationTest</text></a><!--MD5=[b4997ac47864f28c2f74865a473b2911]\n",
       "class E2--><a href=\"psysml:7c3e9caa-80d9-4c4c-adc7-c498b9bc223a\" target=\"_top\" title=\"psysml:7c3e9caa-80d9-4c4c-adc7-c498b9bc223a\" xlink:actuate=\"onRequest\" xlink:href=\"psysml:7c3e9caa-80d9-4c4c-adc7-c498b9bc223a\" xlink:show=\"new\" xlink:title=\"psysml:7c3e9caa-80d9-4c4c-adc7-c498b9bc223a\" xlink:type=\"simple\"><rect fill=\"#FFFFFF\" height=\"75.5469\" id=\"E2\" style=\"stroke: #383838; stroke-width: 1.5;\" width=\"67\" x=\"84.5\" y=\"164\"/><text fill=\"#000000\" font-family=\"sans-serif\" font-size=\"12\" font-style=\"italic\" lengthAdjust=\"spacingAndGlyphs\" textLength=\"65\" x=\"85.5\" y=\"180.1387\">«item def»</text><text fill=\"#000000\" font-family=\"sans-serif\" font-size=\"12\" lengthAdjust=\"spacingAndGlyphs\" textLength=\"8\" x=\"114\" y=\"194.1074\">C</text><line style=\"stroke: #383838; stroke-width: 1.5;\" x1=\"85.5\" x2=\"150.5\" y1=\"201.9375\" y2=\"201.9375\"/><text fill=\"#000000\" font-family=\"sans-serif\" font-size=\"11\" lengthAdjust=\"spacingAndGlyphs\" textLength=\"38\" x=\"90.5\" y=\"232.9526\">x: Real</text><line style=\"stroke: #383838; stroke-width: 1.0;\" x1=\"85.5\" x2=\"90.5\" y1=\"216.3398\" y2=\"216.3398\"/><text fill=\"#000000\" font-family=\"sans-serif\" font-size=\"11\" lengthAdjust=\"spacingAndGlyphs\" textLength=\"55\" x=\"90.5\" y=\"219.6479\">attributes</text><line style=\"stroke: #383838; stroke-width: 1.0;\" x1=\"145.5\" x2=\"150.5\" y1=\"216.3398\" y2=\"216.3398\"/></a><!--MD5=[09b614a08d8cba4a07c9adeb5e0fee81]\n",
       "class E3--><a href=\"psysml:c1adaef5-a811-466e-b0b1-353fc6834fce\" target=\"_top\" title=\"psysml:c1adaef5-a811-466e-b0b1-353fc6834fce\" xlink:actuate=\"onRequest\" xlink:href=\"psysml:c1adaef5-a811-466e-b0b1-353fc6834fce\" xlink:show=\"new\" xlink:title=\"psysml:c1adaef5-a811-466e-b0b1-353fc6834fce\" xlink:type=\"simple\"><rect fill=\"#FFFFFF\" height=\"45.9375\" id=\"E3\" rx=\"10\" ry=\"10\" style=\"stroke: #383838; stroke-width: 1.5;\" width=\"121\" x=\"57.5\" y=\"301\"/><text fill=\"#000000\" font-family=\"sans-serif\" font-size=\"12\" font-style=\"italic\" lengthAdjust=\"spacingAndGlyphs\" textLength=\"119\" x=\"58.5\" y=\"317.1387\">«assertConstraint»</text><text fill=\"#000000\" font-family=\"sans-serif\" font-size=\"12\" lengthAdjust=\"spacingAndGlyphs\" textLength=\"76\" x=\"80\" y=\"331.1074\">x_constraint</text><line style=\"stroke: #383838; stroke-width: 1.5;\" x1=\"58.5\" x2=\"177.5\" y1=\"338.9375\" y2=\"338.9375\"/></a><!--MD5=[ebbe1d658d1005bcc118a6aa81145e00]\n",
       "class E4--><a href=\"psysml:13c6c11f-d2db-48ba-8729-714e79a71a8b\" target=\"_top\" title=\"psysml:13c6c11f-d2db-48ba-8729-714e79a71a8b\" xlink:actuate=\"onRequest\" xlink:href=\"psysml:13c6c11f-d2db-48ba-8729-714e79a71a8b\" xlink:show=\"new\" xlink:title=\"psysml:13c6c11f-d2db-48ba-8729-714e79a71a8b\" xlink:type=\"simple\"><rect fill=\"#FFFFFF\" height=\"45.9375\" id=\"E4\" style=\"stroke: #383838; stroke-width: 1.5;\" width=\"79\" x=\"78.5\" y=\"41\"/><text fill=\"#000000\" font-family=\"sans-serif\" font-size=\"12\" font-style=\"italic\" lengthAdjust=\"spacingAndGlyphs\" textLength=\"77\" x=\"79.5\" y=\"57.1387\">«action def»</text><text fill=\"#000000\" font-family=\"sans-serif\" font-size=\"12\" lengthAdjust=\"spacingAndGlyphs\" textLength=\"27\" x=\"104.5\" y=\"71.1074\">setX</text><line style=\"stroke: #383838; stroke-width: 1.5;\" x1=\"79.5\" x2=\"156.5\" y1=\"78.9375\" y2=\"78.9375\"/></a><!--MD5=[209b3feb70ccb6233bfe1053d122c12c]\n",
       "reverse link E2 to E3--><a href=\"psysml:6c3bd0c1-e9ea-4acc-b51f-d35f7aefdb06\" target=\"_top\" title=\"psysml:6c3bd0c1-e9ea-4acc-b51f-d35f7aefdb06\" xlink:actuate=\"onRequest\" xlink:href=\"psysml:6c3bd0c1-e9ea-4acc-b51f-d35f7aefdb06\" xlink:show=\"new\" xlink:title=\"psysml:6c3bd0c1-e9ea-4acc-b51f-d35f7aefdb06\" xlink:type=\"simple\"><path d=\"M118,253.76 C118,270.17 118,287.52 118,300.75 \" fill=\"none\" id=\"E2&lt;-E3\" style=\"stroke: #383838; stroke-width: 1.0;\"/><polygon fill=\"#383838\" points=\"118,240.31,114,246.31,118,252.31,122,246.31,118,240.31\" style=\"stroke: #383838; stroke-width: 1.0;\"/><text fill=\"#000000\" font-family=\"sans-serif\" font-size=\"13\" lengthAdjust=\"spacingAndGlyphs\" textLength=\"7\" x=\"110.1031\" y=\"289.9622\">*</text></a><!--MD5=[ddeed8deb2209213b62e6cfabaa108b2]\n",
       "reverse link E4 to E2--><a href=\"psysml:b2a1dac5-50e3-4d3d-9a14-28fff19dad0f\" target=\"_top\" title=\"psysml:b2a1dac5-50e3-4d3d-9a14-28fff19dad0f\" xlink:actuate=\"onRequest\" xlink:href=\"psysml:b2a1dac5-50e3-4d3d-9a14-28fff19dad0f\" xlink:show=\"new\" xlink:title=\"psysml:b2a1dac5-50e3-4d3d-9a14-28fff19dad0f\" xlink:type=\"simple\"><path d=\"M118,100.42 C118,119.95 118,144.19 118,163.97 \" fill=\"none\" id=\"E4&lt;-E2\" style=\"stroke: #383838; stroke-width: 1.0;\"/><polygon fill=\"#FFFFFF\" points=\"118,87.15,114,93.15,118,99.15,122,93.15,118,87.15\" style=\"stroke: #383838; stroke-width: 1.0;\"/><text fill=\"#000000\" font-family=\"sans-serif\" font-size=\"13\" lengthAdjust=\"spacingAndGlyphs\" textLength=\"7\" x=\"119\" y=\"130.0669\">c</text></a><!--MD5=[169b4be4537e23862e4022e1d674f9e9]\n",
       "@startuml\r\n",
       "skinparam linetype polyline\r\n",
       "skinparam monochrome true\r\n",
       "skinparam classbackgroundcolor white\r\n",
       "skinparam shadowing false\r\n",
       "skinparam wrapWidth 300\r\n",
       "hide circle\r\n",
       "\r\n",
       "package \"TextualRepresentationTest\" as E1  [[psysml:fa6c1bf2-147a-4459-8db1-4c7f2c0aa92b ]]  {\r\n",
       "comp def \"C\" as E2  <<(T,blue) item def>> [[psysml:7c3e9caa-80d9-4c4c-adc7-c498b9bc223a ]] {\r\n",
       "- - attributes - -\r\n",
       "x: Real\r\n",
       "}\r\n",
       "comp usage \"x_constraint\" as E3  <<(T,blue) assertConstraint>> [[psysml:c1adaef5-a811-466e-b0b1-353fc6834fce ]] {\r\n",
       "}\r\n",
       "comp def \"setX\" as E4  <<(T,blue) action def>> [[psysml:13c6c11f-d2db-48ba-8729-714e79a71a8b ]] {\r\n",
       "}\r\n",
       "}\r\n",
       "E2 *- - \"*\"E3 [[psysml:6c3bd0c1-e9ea-4acc-b51f-d35f7aefdb06 ]] \r\n",
       "E4 o- - E2 [[psysml:b2a1dac5-50e3-4d3d-9a14-28fff19dad0f ]] : c\r\n",
       "@enduml\r\n",
       "\n",
       "PlantUML version 1.2020.13(Sat Jun 13 12:26:38 UTC 2020)\n",
       "(EPL source distribution)\n",
       "Java Runtime: OpenJDK Runtime Environment\n",
       "JVM: OpenJDK 64-Bit Server VM\n",
       "Default Encoding: UTF-8\n",
       "Language: en\n",
       "Country: null\n",
       "--></g></svg>"
      ]
     },
     "execution_count": 10,
     "metadata": {},
     "output_type": "execute_result"
    }
   ],
   "source": [
    "%viz --style=\"POLYLINE\" --view=\"Tree\" \"TextualRepresentationTest\""
   ]
  },
  {
   "cell_type": "code",
   "execution_count": 11,
   "id": "2f9a021f",
   "metadata": {
    "execution": {
     "iopub.execute_input": "2021-09-27T07:18:32.661832Z",
     "iopub.status.busy": "2021-09-27T07:18:32.661249Z",
     "iopub.status.idle": "2021-09-27T07:18:32.667097Z",
     "shell.execute_reply": "2021-09-27T07:18:32.667597Z"
    }
   },
   "outputs": [
    {
     "data": {
      "image/svg+xml": [
       "<?xml version=\"1.0\" encoding=\"UTF-8\" standalone=\"no\"?><svg xmlns=\"http://www.w3.org/2000/svg\" xmlns:xlink=\"http://www.w3.org/1999/xlink\" contentScriptType=\"application/ecmascript\" contentStyleType=\"text/css\" height=\"12px\" preserveAspectRatio=\"none\" style=\"width:12px;height:12px;\" version=\"1.1\" viewBox=\"0 0 12 12\" width=\"12px\" zoomAndPan=\"magnify\"><defs/><g><!--MD5=[896ac0e7a515d8dd7765a661cb4ee08b]\n",
       "@startuml\r\n",
       "skinparam linetype polyline\r\n",
       "skinparam monochrome true\r\n",
       "skinparam classbackgroundcolor white\r\n",
       "skinparam shadowing false\r\n",
       "skinparam wrapWidth 300\r\n",
       "hide circle\r\n",
       "\r\n",
       "@enduml\r\n",
       "\n",
       "PlantUML version 1.2020.13(Sat Jun 13 12:26:38 UTC 2020)\n",
       "(EPL source distribution)\n",
       "Java Runtime: OpenJDK Runtime Environment\n",
       "JVM: OpenJDK 64-Bit Server VM\n",
       "Default Encoding: UTF-8\n",
       "Language: en\n",
       "Country: null\n",
       "--></g></svg>"
      ]
     },
     "execution_count": 11,
     "metadata": {},
     "output_type": "execute_result"
    }
   ],
   "source": [
    "%viz --style=\"POLYLINE\" --view=\"State\" \"TextualRepresentationTest\""
   ]
  },
  {
   "cell_type": "code",
   "execution_count": 12,
   "id": "8560bfa8",
   "metadata": {
    "execution": {
     "iopub.execute_input": "2021-09-27T07:18:32.717427Z",
     "iopub.status.busy": "2021-09-27T07:18:32.716939Z",
     "iopub.status.idle": "2021-09-27T07:18:32.751904Z",
     "shell.execute_reply": "2021-09-27T07:18:32.752276Z"
    }
   },
   "outputs": [
    {
     "data": {
      "image/svg+xml": [
       "<?xml version=\"1.0\" encoding=\"UTF-8\" standalone=\"no\"?><svg xmlns=\"http://www.w3.org/2000/svg\" xmlns:xlink=\"http://www.w3.org/1999/xlink\" contentScriptType=\"application/ecmascript\" contentStyleType=\"text/css\" height=\"179px\" preserveAspectRatio=\"none\" style=\"width:284px;height:179px;\" version=\"1.1\" viewBox=\"0 0 284 179\" width=\"284px\" zoomAndPan=\"magnify\"><defs/><g><!--MD5=[fbc87193dbaf4d95561dea2c320d4a47]\n",
       "cluster E1--><a href=\"psysml:fa6c1bf2-147a-4459-8db1-4c7f2c0aa92b\" target=\"_top\" title=\"psysml:fa6c1bf2-147a-4459-8db1-4c7f2c0aa92b\" xlink:actuate=\"onRequest\" xlink:href=\"psysml:fa6c1bf2-147a-4459-8db1-4c7f2c0aa92b\" xlink:show=\"new\" xlink:title=\"psysml:fa6c1bf2-147a-4459-8db1-4c7f2c0aa92b\" xlink:type=\"simple\"><polygon fill=\"#FFFFFF\" points=\"16,6,210,6,217,28.2969,262,28.2969,262,167,16,167,16,6\" style=\"stroke: #000000; stroke-width: 1.5;\"/><line style=\"stroke: #000000; stroke-width: 1.5;\" x1=\"16\" x2=\"217\" y1=\"28.2969\" y2=\"28.2969\"/><text fill=\"#000000\" font-family=\"sans-serif\" font-size=\"14\" font-weight=\"bold\" lengthAdjust=\"spacingAndGlyphs\" textLength=\"188\" x=\"20\" y=\"20.9951\">TextualRepresentationTest</text></a><!--MD5=[d5e69f78d87373223dbae638b30a9c99]\n",
       "cluster E3--><a href=\"psysml:13c6c11f-d2db-48ba-8729-714e79a71a8b\" target=\"_top\" title=\"psysml:13c6c11f-d2db-48ba-8729-714e79a71a8b\" xlink:actuate=\"onRequest\" xlink:href=\"psysml:13c6c11f-d2db-48ba-8729-714e79a71a8b\" xlink:show=\"new\" xlink:title=\"psysml:13c6c11f-d2db-48ba-8729-714e79a71a8b\" xlink:type=\"simple\"><rect fill=\"#FFFFFF\" height=\"88.5\" id=\"E3\" style=\"stroke: #383838; stroke-width: 1.5;\" width=\"96\" x=\"120.5\" y=\"62.5\"/><rect fill=\"#F8F8F8\" height=\"37.9375\" style=\"stroke: #383838; stroke-width: 1.5;\" width=\"96\" x=\"120.5\" y=\"62.5\"/><text fill=\"#000000\" font-family=\"sans-serif\" font-size=\"12\" font-style=\"italic\" lengthAdjust=\"spacingAndGlyphs\" textLength=\"77\" x=\"130\" y=\"78.6387\">«action def»</text><text fill=\"#000000\" font-family=\"sans-serif\" font-size=\"12\" lengthAdjust=\"spacingAndGlyphs\" textLength=\"27\" x=\"155\" y=\"92.6074\">setX</text></a><g id=\"E1.E2\"><a href=\"psysml:7c3e9caa-80d9-4c4c-adc7-c498b9bc223a\" target=\"_top\" title=\"psysml:7c3e9caa-80d9-4c4c-adc7-c498b9bc223a\" xlink:actuate=\"onRequest\" xlink:href=\"psysml:7c3e9caa-80d9-4c4c-adc7-c498b9bc223a\" xlink:show=\"new\" xlink:title=\"psysml:7c3e9caa-80d9-4c4c-adc7-c498b9bc223a\" xlink:type=\"simple\"><rect fill=\"#FFFFFF\" height=\"42.9375\" id=\"E2\" style=\"stroke: #383838; stroke-width: 1.5;\" width=\"72\" x=\"32\" y=\"41\"/><rect fill=\"#F8F8F8\" height=\"37.9375\" style=\"stroke: #383838; stroke-width: 1.5;\" width=\"72\" x=\"32\" y=\"41\"/><text fill=\"#000000\" font-family=\"sans-serif\" font-size=\"12\" font-style=\"italic\" lengthAdjust=\"spacingAndGlyphs\" textLength=\"65\" x=\"35.5\" y=\"57.1387\">«item def»</text><text fill=\"#000000\" font-family=\"sans-serif\" font-size=\"12\" lengthAdjust=\"spacingAndGlyphs\" textLength=\"8\" x=\"64\" y=\"71.1074\">C</text></a></g><text fill=\"#000000\" font-family=\"sans-serif\" font-size=\"14\" lengthAdjust=\"spacingAndGlyphs\" textLength=\"8\" x=\"141\" y=\"41.1982\">c</text><rect fill=\"#383838\" height=\"12\" style=\"stroke: #F8F8F8; stroke-width: 1.5;\" width=\"12\" x=\"139\" y=\"56.5\"/><text fill=\"#000000\" font-family=\"sans-serif\" font-size=\"14\" lengthAdjust=\"spacingAndGlyphs\" textLength=\"38\" x=\"173\" y=\"41.1982\">newX</text><rect fill=\"#383838\" height=\"12\" style=\"stroke: #F8F8F8; stroke-width: 1.5;\" width=\"12\" x=\"186\" y=\"56.5\"/><!--MD5=[5e236b196241398a1f2630e62a04802b]\n",
       "@startuml\r\n",
       "skinparam ranksep 10\r\n",
       "skinparam rectangle {\r\n",
       " backgroundColor<<block>> LightGreen\r\n",
       "}\r\n",
       "skinparam linetype polyline\r\n",
       "skinparam monochrome true\r\n",
       "skinparam classbackgroundcolor white\r\n",
       "skinparam shadowing false\r\n",
       "skinparam wrapWidth 300\r\n",
       "hide circle\r\n",
       "\r\n",
       "package \"TextualRepresentationTest\" as E1  [[psysml:fa6c1bf2-147a-4459-8db1-4c7f2c0aa92b ]]  {\r\n",
       "def \"C\" as E2  <<(T,blue) item def>> [[psysml:7c3e9caa-80d9-4c4c-adc7-c498b9bc223a ]] \r\n",
       "rec def \"setX\" as E3  <<(T,blue) action def>> [[psysml:13c6c11f-d2db-48ba-8729-714e79a71a8b ]] {\r\n",
       "portin \"c\" as E4  [[psysml:b2a1dac5-50e3-4d3d-9a14-28fff19dad0f ]] \r\n",
       "portin \"newX\" as E5  [[psysml:3095d82e-c5b2-4faf-b7d1-254d70a18586 ]] \r\n",
       "}\r\n",
       "\r\n",
       "}\r\n",
       "@enduml\r\n",
       "\n",
       "PlantUML version 1.2020.13(Sat Jun 13 12:26:38 UTC 2020)\n",
       "(EPL source distribution)\n",
       "Java Runtime: OpenJDK Runtime Environment\n",
       "JVM: OpenJDK 64-Bit Server VM\n",
       "Default Encoding: UTF-8\n",
       "Language: en\n",
       "Country: null\n",
       "--></g></svg>"
      ]
     },
     "execution_count": 12,
     "metadata": {},
     "output_type": "execute_result"
    }
   ],
   "source": [
    "%viz --style=\"POLYLINE\" --view=\"Interconnection\" \"TextualRepresentationTest\""
   ]
  },
  {
   "cell_type": "code",
   "execution_count": 13,
   "id": "cbccfa6a",
   "metadata": {
    "execution": {
     "iopub.execute_input": "2021-09-27T07:18:32.802409Z",
     "iopub.status.busy": "2021-09-27T07:18:32.801945Z",
     "iopub.status.idle": "2021-09-27T07:18:32.829538Z",
     "shell.execute_reply": "2021-09-27T07:18:32.829974Z"
    }
   },
   "outputs": [
    {
     "data": {
      "image/svg+xml": [
       "<?xml version=\"1.0\" encoding=\"UTF-8\" standalone=\"no\"?><svg xmlns=\"http://www.w3.org/2000/svg\" xmlns:xlink=\"http://www.w3.org/1999/xlink\" contentScriptType=\"application/ecmascript\" contentStyleType=\"text/css\" height=\"126px\" preserveAspectRatio=\"none\" style=\"width:150px;height:126px;\" version=\"1.1\" viewBox=\"0 0 150 126\" width=\"150px\" zoomAndPan=\"magnify\"><defs/><g><!--MD5=[fbc87193dbaf4d95561dea2c320d4a47]\n",
       "cluster E1--><a href=\"psysml:13c6c11f-d2db-48ba-8729-714e79a71a8b\" target=\"_top\" title=\"psysml:13c6c11f-d2db-48ba-8729-714e79a71a8b\" xlink:actuate=\"onRequest\" xlink:href=\"psysml:13c6c11f-d2db-48ba-8729-714e79a71a8b\" xlink:show=\"new\" xlink:title=\"psysml:13c6c11f-d2db-48ba-8729-714e79a71a8b\" xlink:type=\"simple\"><rect fill=\"#FFFFFF\" height=\"73\" id=\"E1\" style=\"stroke: #383838; stroke-width: 1.5;\" width=\"132\" x=\"7\" y=\"42.0986\"/><rect fill=\"#F8F8F8\" height=\"37.9375\" style=\"stroke: #383838; stroke-width: 1.5;\" width=\"132\" x=\"7\" y=\"42.0986\"/><text fill=\"#000000\" font-family=\"sans-serif\" font-size=\"12\" font-style=\"italic\" lengthAdjust=\"spacingAndGlyphs\" textLength=\"77\" x=\"34.5\" y=\"58.2373\">«action def»</text><text fill=\"#000000\" font-family=\"sans-serif\" font-size=\"12\" lengthAdjust=\"spacingAndGlyphs\" textLength=\"27\" x=\"59.5\" y=\"72.2061\">setX</text></a><text fill=\"#000000\" font-family=\"sans-serif\" font-size=\"14\" lengthAdjust=\"spacingAndGlyphs\" textLength=\"8\" x=\"21\" y=\"20.7969\">c</text><rect fill=\"#383838\" height=\"12\" style=\"stroke: #F8F8F8; stroke-width: 1.5;\" width=\"12\" x=\"19\" y=\"36.0986\"/><text fill=\"#000000\" font-family=\"sans-serif\" font-size=\"14\" lengthAdjust=\"spacingAndGlyphs\" textLength=\"38\" x=\"53\" y=\"20.7969\">newX</text><rect fill=\"#383838\" height=\"12\" style=\"stroke: #F8F8F8; stroke-width: 1.5;\" width=\"12\" x=\"66\" y=\"36.0986\"/><!--MD5=[dcedc760f88a59f8705376992d314ea4]\n",
       "@startuml\r\n",
       "skinparam ranksep 8\r\n",
       "skinparam linetype polyline\r\n",
       "skinparam monochrome true\r\n",
       "skinparam classbackgroundcolor white\r\n",
       "skinparam shadowing false\r\n",
       "skinparam wrapWidth 300\r\n",
       "hide circle\r\n",
       "\r\n",
       "rec def \"setX\" as E1  <<(T,blue) action def>> [[psysml:13c6c11f-d2db-48ba-8729-714e79a71a8b ]] {\r\n",
       "portin \"c\" as E2  [[psysml:b2a1dac5-50e3-4d3d-9a14-28fff19dad0f ]] \r\n",
       "portin \"newX\" as E3  [[psysml:3095d82e-c5b2-4faf-b7d1-254d70a18586 ]] \r\n",
       "}\r\n",
       "\r\n",
       "@enduml\r\n",
       "\n",
       "PlantUML version 1.2020.13(Sat Jun 13 12:26:38 UTC 2020)\n",
       "(EPL source distribution)\n",
       "Java Runtime: OpenJDK Runtime Environment\n",
       "JVM: OpenJDK 64-Bit Server VM\n",
       "Default Encoding: UTF-8\n",
       "Language: en\n",
       "Country: null\n",
       "--></g></svg>"
      ]
     },
     "execution_count": 13,
     "metadata": {},
     "output_type": "execute_result"
    }
   ],
   "source": [
    "%viz --style=\"POLYLINE\" --view=\"Action\" \"TextualRepresentationTest\""
   ]
  },
  {
   "cell_type": "code",
   "execution_count": 14,
   "id": "b8f7a658",
   "metadata": {
    "execution": {
     "iopub.execute_input": "2021-09-27T07:18:32.879917Z",
     "iopub.status.busy": "2021-09-27T07:18:32.879437Z",
     "iopub.status.idle": "2021-09-27T07:18:32.886398Z",
     "shell.execute_reply": "2021-09-27T07:18:32.886747Z"
    }
   },
   "outputs": [
    {
     "data": {
      "image/svg+xml": [
       "<?xml version=\"1.0\" encoding=\"UTF-8\" standalone=\"no\"?><svg xmlns=\"http://www.w3.org/2000/svg\" xmlns:xlink=\"http://www.w3.org/1999/xlink\" contentScriptType=\"application/ecmascript\" contentStyleType=\"text/css\" height=\"12px\" preserveAspectRatio=\"none\" style=\"width:12px;height:12px;\" version=\"1.1\" viewBox=\"0 0 12 12\" width=\"12px\" zoomAndPan=\"magnify\"><defs/><g><!--MD5=[dc938048236c351797870c36b62f92ad]\n",
       "@startuml\r\n",
       "skinparam roundcorner 20\r\n",
       "skinparam BoxPadding 20\r\n",
       "skinparam SequenceBoxBackgroundColor #white\r\n",
       "skinparam style strictuml\r\n",
       "skinparam maxMessageSize 100\r\n",
       "skinparam linetype polyline\r\n",
       "skinparam monochrome true\r\n",
       "skinparam classbackgroundcolor white\r\n",
       "skinparam shadowing false\r\n",
       "skinparam wrapWidth 300\r\n",
       "hide circle\r\n",
       "\r\n",
       "@enduml\r\n",
       "\n",
       "PlantUML version 1.2020.13(Sat Jun 13 12:26:38 UTC 2020)\n",
       "(EPL source distribution)\n",
       "Java Runtime: OpenJDK Runtime Environment\n",
       "JVM: OpenJDK 64-Bit Server VM\n",
       "Default Encoding: UTF-8\n",
       "Language: en\n",
       "Country: null\n",
       "--></g></svg>"
      ]
     },
     "execution_count": 14,
     "metadata": {},
     "output_type": "execute_result"
    }
   ],
   "source": [
    "%viz --style=\"POLYLINE\" --view=\"Sequence\" \"TextualRepresentationTest\""
   ]
  },
  {
   "cell_type": "code",
   "execution_count": 15,
   "id": "c57ed68f",
   "metadata": {
    "execution": {
     "iopub.execute_input": "2021-09-27T07:18:32.937048Z",
     "iopub.status.busy": "2021-09-27T07:18:32.936580Z",
     "iopub.status.idle": "2021-09-27T07:18:33.013649Z",
     "shell.execute_reply": "2021-09-27T07:18:33.013101Z"
    }
   },
   "outputs": [
    {
     "data": {
      "image/svg+xml": [
       "<?xml version=\"1.0\" encoding=\"UTF-8\" standalone=\"no\"?><svg xmlns=\"http://www.w3.org/2000/svg\" xmlns:xlink=\"http://www.w3.org/1999/xlink\" contentScriptType=\"application/ecmascript\" contentStyleType=\"text/css\" height=\"261px\" preserveAspectRatio=\"none\" style=\"width:345px;height:261px;\" version=\"1.1\" viewBox=\"0 0 345 261\" width=\"345px\" zoomAndPan=\"magnify\"><defs/><g><!--MD5=[fbc87193dbaf4d95561dea2c320d4a47]\n",
       "cluster E1--><a href=\"psysml:fa6c1bf2-147a-4459-8db1-4c7f2c0aa92b\" target=\"_top\" title=\"psysml:fa6c1bf2-147a-4459-8db1-4c7f2c0aa92b\" xlink:actuate=\"onRequest\" xlink:href=\"psysml:fa6c1bf2-147a-4459-8db1-4c7f2c0aa92b\" xlink:show=\"new\" xlink:title=\"psysml:fa6c1bf2-147a-4459-8db1-4c7f2c0aa92b\" xlink:type=\"simple\"><polygon fill=\"#FFFFFF\" points=\"16,6,210,6,217,28.2969,323,28.2969,323,249.5,16,249.5,16,6\" style=\"stroke: #000000; stroke-width: 1.5;\"/><line style=\"stroke: #000000; stroke-width: 1.5;\" x1=\"16\" x2=\"217\" y1=\"28.2969\" y2=\"28.2969\"/><text fill=\"#000000\" font-family=\"sans-serif\" font-size=\"14\" font-weight=\"bold\" lengthAdjust=\"spacingAndGlyphs\" textLength=\"188\" x=\"20\" y=\"20.9951\">TextualRepresentationTest</text></a><!--MD5=[f6df4d0ebaf0b5dfb2ced0ae5af7c670]\n",
       "cluster E4--><a href=\"psysml:13c6c11f-d2db-48ba-8729-714e79a71a8b\" target=\"_top\" title=\"psysml:13c6c11f-d2db-48ba-8729-714e79a71a8b\" xlink:actuate=\"onRequest\" xlink:href=\"psysml:13c6c11f-d2db-48ba-8729-714e79a71a8b\" xlink:show=\"new\" xlink:title=\"psysml:13c6c11f-d2db-48ba-8729-714e79a71a8b\" xlink:type=\"simple\"><rect fill=\"#FFFFFF\" height=\"154.5\" id=\"E4\" style=\"stroke: #383838; stroke-width: 1.5;\" width=\"132\" x=\"175\" y=\"79\"/><rect fill=\"#F8F8F8\" height=\"37.9375\" style=\"stroke: #383838; stroke-width: 1.5;\" width=\"132\" x=\"175\" y=\"79\"/><text fill=\"#000000\" font-family=\"sans-serif\" font-size=\"12\" font-style=\"italic\" lengthAdjust=\"spacingAndGlyphs\" textLength=\"77\" x=\"202.5\" y=\"95.1387\">«action def»</text><text fill=\"#000000\" font-family=\"sans-serif\" font-size=\"12\" lengthAdjust=\"spacingAndGlyphs\" textLength=\"27\" x=\"227.5\" y=\"109.1074\">setX</text></a><!--MD5=[b4997ac47864f28c2f74865a473b2911]\n",
       "class E2--><a href=\"psysml:7c3e9caa-80d9-4c4c-adc7-c498b9bc223a\" target=\"_top\" title=\"psysml:7c3e9caa-80d9-4c4c-adc7-c498b9bc223a\" xlink:actuate=\"onRequest\" xlink:href=\"psysml:7c3e9caa-80d9-4c4c-adc7-c498b9bc223a\" xlink:show=\"new\" xlink:title=\"psysml:7c3e9caa-80d9-4c4c-adc7-c498b9bc223a\" xlink:type=\"simple\"><rect fill=\"#FFFFFF\" height=\"75.5469\" id=\"E2\" style=\"stroke: #383838; stroke-width: 1.5;\" width=\"67\" x=\"59.5\" y=\"41\"/><text fill=\"#000000\" font-family=\"sans-serif\" font-size=\"12\" font-style=\"italic\" lengthAdjust=\"spacingAndGlyphs\" textLength=\"65\" x=\"60.5\" y=\"57.1387\">«item def»</text><text fill=\"#000000\" font-family=\"sans-serif\" font-size=\"12\" lengthAdjust=\"spacingAndGlyphs\" textLength=\"8\" x=\"89\" y=\"71.1074\">C</text><line style=\"stroke: #383838; stroke-width: 1.5;\" x1=\"60.5\" x2=\"125.5\" y1=\"78.9375\" y2=\"78.9375\"/><text fill=\"#000000\" font-family=\"sans-serif\" font-size=\"11\" lengthAdjust=\"spacingAndGlyphs\" textLength=\"38\" x=\"65.5\" y=\"109.9526\">x: Real</text><line style=\"stroke: #383838; stroke-width: 1.0;\" x1=\"60.5\" x2=\"65.5\" y1=\"93.3398\" y2=\"93.3398\"/><text fill=\"#000000\" font-family=\"sans-serif\" font-size=\"11\" lengthAdjust=\"spacingAndGlyphs\" textLength=\"55\" x=\"65.5\" y=\"96.6479\">attributes</text><line style=\"stroke: #383838; stroke-width: 1.0;\" x1=\"120.5\" x2=\"125.5\" y1=\"93.3398\" y2=\"93.3398\"/></a><!--MD5=[09b614a08d8cba4a07c9adeb5e0fee81]\n",
       "class E3--><a href=\"psysml:c1adaef5-a811-466e-b0b1-353fc6834fce\" target=\"_top\" title=\"psysml:c1adaef5-a811-466e-b0b1-353fc6834fce\" xlink:actuate=\"onRequest\" xlink:href=\"psysml:c1adaef5-a811-466e-b0b1-353fc6834fce\" xlink:show=\"new\" xlink:title=\"psysml:c1adaef5-a811-466e-b0b1-353fc6834fce\" xlink:type=\"simple\"><rect fill=\"#FFFFFF\" height=\"45.9375\" id=\"E3\" rx=\"10\" ry=\"10\" style=\"stroke: #383838; stroke-width: 1.5;\" width=\"121\" x=\"32.5\" y=\"177\"/><text fill=\"#000000\" font-family=\"sans-serif\" font-size=\"12\" font-style=\"italic\" lengthAdjust=\"spacingAndGlyphs\" textLength=\"119\" x=\"33.5\" y=\"193.1387\">«assertConstraint»</text><text fill=\"#000000\" font-family=\"sans-serif\" font-size=\"12\" lengthAdjust=\"spacingAndGlyphs\" textLength=\"76\" x=\"55\" y=\"207.1074\">x_constraint</text><line style=\"stroke: #383838; stroke-width: 1.5;\" x1=\"33.5\" x2=\"152.5\" y1=\"214.9375\" y2=\"214.9375\"/></a><text fill=\"#000000\" font-family=\"sans-serif\" font-size=\"14\" lengthAdjust=\"spacingAndGlyphs\" textLength=\"8\" x=\"189\" y=\"57.6982\">c</text><rect fill=\"#383838\" height=\"12\" style=\"stroke: #F8F8F8; stroke-width: 1.5;\" width=\"12\" x=\"187\" y=\"73\"/><text fill=\"#000000\" font-family=\"sans-serif\" font-size=\"14\" lengthAdjust=\"spacingAndGlyphs\" textLength=\"38\" x=\"221\" y=\"57.6982\">newX</text><rect fill=\"#383838\" height=\"12\" style=\"stroke: #F8F8F8; stroke-width: 1.5;\" width=\"12\" x=\"234\" y=\"73\"/><!--MD5=[209b3feb70ccb6233bfe1053d122c12c]\n",
       "reverse link E2 to E3--><a href=\"psysml:6c3bd0c1-e9ea-4acc-b51f-d35f7aefdb06\" target=\"_top\" title=\"psysml:6c3bd0c1-e9ea-4acc-b51f-d35f7aefdb06\" xlink:actuate=\"onRequest\" xlink:href=\"psysml:6c3bd0c1-e9ea-4acc-b51f-d35f7aefdb06\" xlink:show=\"new\" xlink:title=\"psysml:6c3bd0c1-e9ea-4acc-b51f-d35f7aefdb06\" xlink:type=\"simple\"><path d=\"M93,130.34 C93,146.61 93,163.81 93,176.93 \" fill=\"none\" id=\"E2&lt;-E3\" style=\"stroke: #383838; stroke-width: 1.0;\"/><polygon fill=\"#383838\" points=\"93,117,89,123,93,129,97,123,93,117\" style=\"stroke: #383838; stroke-width: 1.0;\"/><text fill=\"#000000\" font-family=\"sans-serif\" font-size=\"13\" lengthAdjust=\"spacingAndGlyphs\" textLength=\"7\" x=\"85.0594\" y=\"165.8075\">*</text></a><!--MD5=[bb3c78cd1c5bae20a53a88f2ba11a9a4]\n",
       "@startuml\r\n",
       "skinparam linetype polyline\r\n",
       "skinparam monochrome true\r\n",
       "skinparam classbackgroundcolor white\r\n",
       "skinparam shadowing false\r\n",
       "skinparam wrapWidth 300\r\n",
       "hide circle\r\n",
       "\r\n",
       "package \"TextualRepresentationTest\" as E1  [[psysml:fa6c1bf2-147a-4459-8db1-4c7f2c0aa92b ]]  {\r\n",
       "comp def \"C\" as E2  <<(T,blue) item def>> [[psysml:7c3e9caa-80d9-4c4c-adc7-c498b9bc223a ]] {\r\n",
       "- - attributes - -\r\n",
       "x: Real\r\n",
       "}\r\n",
       "comp usage \"x_constraint\" as E3  <<(T,blue) assertConstraint>> [[psysml:c1adaef5-a811-466e-b0b1-353fc6834fce ]] {\r\n",
       "}\r\n",
       "rec def \"setX\" as E4  <<(T,blue) action def>> [[psysml:13c6c11f-d2db-48ba-8729-714e79a71a8b ]] {\r\n",
       "portin \"c\" as E5  [[psysml:b2a1dac5-50e3-4d3d-9a14-28fff19dad0f ]] \r\n",
       "portin \"newX\" as E6  [[psysml:3095d82e-c5b2-4faf-b7d1-254d70a18586 ]] \r\n",
       "}\r\n",
       "\r\n",
       "}\r\n",
       "E2 *- - \"*\"E3 [[psysml:6c3bd0c1-e9ea-4acc-b51f-d35f7aefdb06 ]] \r\n",
       "@enduml\r\n",
       "\n",
       "PlantUML version 1.2020.13(Sat Jun 13 12:26:38 UTC 2020)\n",
       "(EPL source distribution)\n",
       "Java Runtime: OpenJDK Runtime Environment\n",
       "JVM: OpenJDK 64-Bit Server VM\n",
       "Default Encoding: UTF-8\n",
       "Language: en\n",
       "Country: null\n",
       "--></g></svg>"
      ]
     },
     "execution_count": 15,
     "metadata": {},
     "output_type": "execute_result"
    }
   ],
   "source": [
    "%viz --style=\"POLYLINE\" --view=\"MIXED\" \"TextualRepresentationTest\""
   ]
  },
  {
   "cell_type": "code",
   "execution_count": 16,
   "id": "6b59e69b",
   "metadata": {
    "execution": {
     "iopub.execute_input": "2021-09-27T07:18:33.063452Z",
     "iopub.status.busy": "2021-09-27T07:18:33.062971Z",
     "iopub.status.idle": "2021-09-27T07:18:33.113615Z",
     "shell.execute_reply": "2021-09-27T07:18:33.113422Z"
    }
   },
   "outputs": [
    {
     "data": {
      "image/svg+xml": [
       "<?xml version=\"1.0\" encoding=\"UTF-8\" standalone=\"no\"?><svg xmlns=\"http://www.w3.org/2000/svg\" xmlns:xlink=\"http://www.w3.org/1999/xlink\" contentScriptType=\"application/ecmascript\" contentStyleType=\"text/css\" height=\"247px\" preserveAspectRatio=\"none\" style=\"width:324px;height:247px;\" version=\"1.1\" viewBox=\"0 0 324 247\" width=\"324px\" zoomAndPan=\"magnify\"><defs/><g><!--MD5=[fbc87193dbaf4d95561dea2c320d4a47]\n",
       "cluster E1--><a href=\"psysml:fa6c1bf2-147a-4459-8db1-4c7f2c0aa92b\" target=\"_top\" title=\"psysml:fa6c1bf2-147a-4459-8db1-4c7f2c0aa92b\" xlink:actuate=\"onRequest\" xlink:href=\"psysml:fa6c1bf2-147a-4459-8db1-4c7f2c0aa92b\" xlink:show=\"new\" xlink:title=\"psysml:fa6c1bf2-147a-4459-8db1-4c7f2c0aa92b\" xlink:type=\"simple\"><polygon fill=\"#FFFFFF\" points=\"16,6,210,6,217,28.2969,302.5,28.2969,302.5,235,16,235,16,6\" style=\"stroke: #000000; stroke-width: 1.5;\"/><line style=\"stroke: #000000; stroke-width: 1.5;\" x1=\"16\" x2=\"217\" y1=\"28.2969\" y2=\"28.2969\"/><text fill=\"#000000\" font-family=\"sans-serif\" font-size=\"14\" font-weight=\"bold\" lengthAdjust=\"spacingAndGlyphs\" textLength=\"188\" x=\"20\" y=\"20.9951\">TextualRepresentationTest</text></a><!--MD5=[f6df4d0ebaf0b5dfb2ced0ae5af7c670]\n",
       "cluster E4--><a href=\"psysml:13c6c11f-d2db-48ba-8729-714e79a71a8b\" target=\"_top\" title=\"psysml:13c6c11f-d2db-48ba-8729-714e79a71a8b\" xlink:actuate=\"onRequest\" xlink:href=\"psysml:13c6c11f-d2db-48ba-8729-714e79a71a8b\" xlink:show=\"new\" xlink:title=\"psysml:13c6c11f-d2db-48ba-8729-714e79a71a8b\" xlink:type=\"simple\"><rect fill=\"#FFFFFF\" height=\"47\" id=\"E4\" style=\"stroke: #383838; stroke-width: 1.5;\" width=\"239\" x=\"47.5\" y=\"55\"/><rect fill=\"#F8F8F8\" height=\"37.9375\" style=\"stroke: #383838; stroke-width: 1.5;\" width=\"239\" x=\"47.5\" y=\"55\"/><text fill=\"#000000\" font-family=\"sans-serif\" font-size=\"12\" font-style=\"italic\" lengthAdjust=\"spacingAndGlyphs\" textLength=\"77\" x=\"128.5\" y=\"71.1387\">«action def»</text><text fill=\"#000000\" font-family=\"sans-serif\" font-size=\"12\" lengthAdjust=\"spacingAndGlyphs\" textLength=\"27\" x=\"153.5\" y=\"85.1074\">setX</text></a><!--MD5=[b4997ac47864f28c2f74865a473b2911]\n",
       "class E2--><a href=\"psysml:7c3e9caa-80d9-4c4c-adc7-c498b9bc223a\" target=\"_top\" title=\"psysml:7c3e9caa-80d9-4c4c-adc7-c498b9bc223a\" xlink:actuate=\"onRequest\" xlink:href=\"psysml:7c3e9caa-80d9-4c4c-adc7-c498b9bc223a\" xlink:show=\"new\" xlink:title=\"psysml:7c3e9caa-80d9-4c4c-adc7-c498b9bc223a\" xlink:type=\"simple\"><rect fill=\"#FFFFFF\" height=\"75.5469\" id=\"E2\" style=\"stroke: #383838; stroke-width: 1.5;\" width=\"67\" x=\"32\" y=\"143\"/><text fill=\"#000000\" font-family=\"sans-serif\" font-size=\"12\" font-style=\"italic\" lengthAdjust=\"spacingAndGlyphs\" textLength=\"65\" x=\"33\" y=\"159.1387\">«item def»</text><text fill=\"#000000\" font-family=\"sans-serif\" font-size=\"12\" lengthAdjust=\"spacingAndGlyphs\" textLength=\"8\" x=\"61.5\" y=\"173.1074\">C</text><line style=\"stroke: #383838; stroke-width: 1.5;\" x1=\"33\" x2=\"98\" y1=\"180.9375\" y2=\"180.9375\"/><text fill=\"#000000\" font-family=\"sans-serif\" font-size=\"11\" lengthAdjust=\"spacingAndGlyphs\" textLength=\"38\" x=\"38\" y=\"211.9526\">x: Real</text><line style=\"stroke: #383838; stroke-width: 1.0;\" x1=\"33\" x2=\"38\" y1=\"195.3398\" y2=\"195.3398\"/><text fill=\"#000000\" font-family=\"sans-serif\" font-size=\"11\" lengthAdjust=\"spacingAndGlyphs\" textLength=\"55\" x=\"38\" y=\"198.6479\">attributes</text><line style=\"stroke: #383838; stroke-width: 1.0;\" x1=\"93\" x2=\"98\" y1=\"195.3398\" y2=\"195.3398\"/></a><!--MD5=[09b614a08d8cba4a07c9adeb5e0fee81]\n",
       "class E3--><a href=\"psysml:c1adaef5-a811-466e-b0b1-353fc6834fce\" target=\"_top\" title=\"psysml:c1adaef5-a811-466e-b0b1-353fc6834fce\" xlink:actuate=\"onRequest\" xlink:href=\"psysml:c1adaef5-a811-466e-b0b1-353fc6834fce\" xlink:show=\"new\" xlink:title=\"psysml:c1adaef5-a811-466e-b0b1-353fc6834fce\" xlink:type=\"simple\"><rect fill=\"#FFFFFF\" height=\"45.9375\" id=\"E3\" rx=\"10\" ry=\"10\" style=\"stroke: #383838; stroke-width: 1.5;\" width=\"121\" x=\"159\" y=\"158\"/><text fill=\"#000000\" font-family=\"sans-serif\" font-size=\"12\" font-style=\"italic\" lengthAdjust=\"spacingAndGlyphs\" textLength=\"119\" x=\"160\" y=\"174.1387\">«assertConstraint»</text><text fill=\"#000000\" font-family=\"sans-serif\" font-size=\"12\" lengthAdjust=\"spacingAndGlyphs\" textLength=\"76\" x=\"181.5\" y=\"188.1074\">x_constraint</text><line style=\"stroke: #383838; stroke-width: 1.5;\" x1=\"160\" x2=\"279\" y1=\"195.9375\" y2=\"195.9375\"/></a><text fill=\"#000000\" font-family=\"sans-serif\" font-size=\"14\" lengthAdjust=\"spacingAndGlyphs\" textLength=\"8\" x=\"61.5\" y=\"120.9951\">c</text><rect fill=\"#383838\" height=\"12\" style=\"stroke: #F8F8F8; stroke-width: 1.5;\" width=\"12\" x=\"59.5\" y=\"96\"/><text fill=\"#000000\" font-family=\"sans-serif\" font-size=\"14\" lengthAdjust=\"spacingAndGlyphs\" textLength=\"38\" x=\"46.5\" y=\"33.6982\">newX</text><rect fill=\"#383838\" height=\"12\" style=\"stroke: #F8F8F8; stroke-width: 1.5;\" width=\"12\" x=\"59.5\" y=\"49\"/><!--MD5=[209b3feb70ccb6233bfe1053d122c12c]\n",
       "reverse link E2 to E3--><a href=\"psysml:6c3bd0c1-e9ea-4acc-b51f-d35f7aefdb06\" target=\"_top\" title=\"psysml:6c3bd0c1-e9ea-4acc-b51f-d35f7aefdb06\" xlink:actuate=\"onRequest\" xlink:href=\"psysml:6c3bd0c1-e9ea-4acc-b51f-d35f7aefdb06\" xlink:show=\"new\" xlink:title=\"psysml:6c3bd0c1-e9ea-4acc-b51f-d35f7aefdb06\" xlink:type=\"simple\"><path d=\"M112.5,181 C127.13,181 143.52,181 158.96,181 \" fill=\"none\" id=\"E2&lt;-E3\" style=\"stroke: #383838; stroke-width: 1.0;\"/><polygon fill=\"#383838\" points=\"99.11,181,105.11,185,111.11,181,105.11,177,99.11,181\" style=\"stroke: #383838; stroke-width: 1.0;\"/><text fill=\"#000000\" font-family=\"sans-serif\" font-size=\"13\" lengthAdjust=\"spacingAndGlyphs\" textLength=\"7\" x=\"144.1551\" y=\"193.9929\">*</text></a><!--MD5=[0028254b2cee7766c076d758c4ababb7]\n",
       "@startuml\r\n",
       "left to right direction\r\n",
       "skinparam monochrome true\r\n",
       "skinparam classbackgroundcolor white\r\n",
       "skinparam shadowing false\r\n",
       "skinparam wrapWidth 300\r\n",
       "hide circle\r\n",
       "\r\n",
       "package \"TextualRepresentationTest\" as E1  [[psysml:fa6c1bf2-147a-4459-8db1-4c7f2c0aa92b ]]  {\r\n",
       "comp def \"C\" as E2  <<(T,blue) item def>> [[psysml:7c3e9caa-80d9-4c4c-adc7-c498b9bc223a ]] {\r\n",
       "- - attributes - -\r\n",
       "x: Real\r\n",
       "}\r\n",
       "comp usage \"x_constraint\" as E3  <<(T,blue) assertConstraint>> [[psysml:c1adaef5-a811-466e-b0b1-353fc6834fce ]] {\r\n",
       "}\r\n",
       "rec def \"setX\" as E4  <<(T,blue) action def>> [[psysml:13c6c11f-d2db-48ba-8729-714e79a71a8b ]] {\r\n",
       "portin \"c\" as E5  [[psysml:b2a1dac5-50e3-4d3d-9a14-28fff19dad0f ]] \r\n",
       "portin \"newX\" as E6  [[psysml:3095d82e-c5b2-4faf-b7d1-254d70a18586 ]] \r\n",
       "}\r\n",
       "\r\n",
       "}\r\n",
       "E2 *- - \"*\"E3 [[psysml:6c3bd0c1-e9ea-4acc-b51f-d35f7aefdb06 ]] \r\n",
       "@enduml\r\n",
       "\n",
       "PlantUML version 1.2020.13(Sat Jun 13 12:26:38 UTC 2020)\n",
       "(EPL source distribution)\n",
       "Java Runtime: OpenJDK Runtime Environment\n",
       "JVM: OpenJDK 64-Bit Server VM\n",
       "Default Encoding: UTF-8\n",
       "Language: en\n",
       "Country: null\n",
       "--></g></svg>"
      ]
     },
     "execution_count": 16,
     "metadata": {},
     "output_type": "execute_result"
    }
   ],
   "source": [
    "%viz --style=\"LR\" --view=\"Default\" \"TextualRepresentationTest\""
   ]
  },
  {
   "cell_type": "code",
   "execution_count": 17,
   "id": "3bdf620c",
   "metadata": {
    "execution": {
     "iopub.execute_input": "2021-09-27T07:18:33.163841Z",
     "iopub.status.busy": "2021-09-27T07:18:33.163623Z",
     "iopub.status.idle": "2021-09-27T07:18:33.204187Z",
     "shell.execute_reply": "2021-09-27T07:18:33.203938Z"
    }
   },
   "outputs": [
    {
     "data": {
      "image/svg+xml": [
       "<?xml version=\"1.0\" encoding=\"UTF-8\" standalone=\"no\"?><svg xmlns=\"http://www.w3.org/2000/svg\" xmlns:xlink=\"http://www.w3.org/1999/xlink\" contentScriptType=\"application/ecmascript\" contentStyleType=\"text/css\" height=\"145px\" preserveAspectRatio=\"none\" style=\"width:467px;height:145px;\" version=\"1.1\" viewBox=\"0 0 467 145\" width=\"467px\" zoomAndPan=\"magnify\"><defs/><g><!--MD5=[fbc87193dbaf4d95561dea2c320d4a47]\n",
       "cluster E1--><a href=\"psysml:fa6c1bf2-147a-4459-8db1-4c7f2c0aa92b\" target=\"_top\" title=\"psysml:fa6c1bf2-147a-4459-8db1-4c7f2c0aa92b\" xlink:actuate=\"onRequest\" xlink:href=\"psysml:fa6c1bf2-147a-4459-8db1-4c7f2c0aa92b\" xlink:show=\"new\" xlink:title=\"psysml:fa6c1bf2-147a-4459-8db1-4c7f2c0aa92b\" xlink:type=\"simple\"><polygon fill=\"#FFFFFF\" points=\"16,6,210,6,217,28.2969,445,28.2969,445,133,16,133,16,6\" style=\"stroke: #000000; stroke-width: 1.5;\"/><line style=\"stroke: #000000; stroke-width: 1.5;\" x1=\"16\" x2=\"217\" y1=\"28.2969\" y2=\"28.2969\"/><text fill=\"#000000\" font-family=\"sans-serif\" font-size=\"14\" font-weight=\"bold\" lengthAdjust=\"spacingAndGlyphs\" textLength=\"188\" x=\"20\" y=\"20.9951\">TextualRepresentationTest</text></a><!--MD5=[b4997ac47864f28c2f74865a473b2911]\n",
       "class E2--><a href=\"psysml:7c3e9caa-80d9-4c4c-adc7-c498b9bc223a\" target=\"_top\" title=\"psysml:7c3e9caa-80d9-4c4c-adc7-c498b9bc223a\" xlink:actuate=\"onRequest\" xlink:href=\"psysml:7c3e9caa-80d9-4c4c-adc7-c498b9bc223a\" xlink:show=\"new\" xlink:title=\"psysml:7c3e9caa-80d9-4c4c-adc7-c498b9bc223a\" xlink:type=\"simple\"><rect fill=\"#FFFFFF\" height=\"75.5469\" id=\"E2\" style=\"stroke: #383838; stroke-width: 1.5;\" width=\"67\" x=\"180\" y=\"41\"/><text fill=\"#000000\" font-family=\"sans-serif\" font-size=\"12\" font-style=\"italic\" lengthAdjust=\"spacingAndGlyphs\" textLength=\"65\" x=\"181\" y=\"57.1387\">«item def»</text><text fill=\"#000000\" font-family=\"sans-serif\" font-size=\"12\" lengthAdjust=\"spacingAndGlyphs\" textLength=\"8\" x=\"209.5\" y=\"71.1074\">C</text><line style=\"stroke: #383838; stroke-width: 1.5;\" x1=\"181\" x2=\"246\" y1=\"78.9375\" y2=\"78.9375\"/><text fill=\"#000000\" font-family=\"sans-serif\" font-size=\"11\" lengthAdjust=\"spacingAndGlyphs\" textLength=\"38\" x=\"186\" y=\"109.9526\">x: Real</text><line style=\"stroke: #383838; stroke-width: 1.0;\" x1=\"181\" x2=\"186\" y1=\"93.3398\" y2=\"93.3398\"/><text fill=\"#000000\" font-family=\"sans-serif\" font-size=\"11\" lengthAdjust=\"spacingAndGlyphs\" textLength=\"55\" x=\"186\" y=\"96.6479\">attributes</text><line style=\"stroke: #383838; stroke-width: 1.0;\" x1=\"241\" x2=\"246\" y1=\"93.3398\" y2=\"93.3398\"/></a><!--MD5=[09b614a08d8cba4a07c9adeb5e0fee81]\n",
       "class E3--><a href=\"psysml:c1adaef5-a811-466e-b0b1-353fc6834fce\" target=\"_top\" title=\"psysml:c1adaef5-a811-466e-b0b1-353fc6834fce\" xlink:actuate=\"onRequest\" xlink:href=\"psysml:c1adaef5-a811-466e-b0b1-353fc6834fce\" xlink:show=\"new\" xlink:title=\"psysml:c1adaef5-a811-466e-b0b1-353fc6834fce\" xlink:type=\"simple\"><rect fill=\"#FFFFFF\" height=\"45.9375\" id=\"E3\" rx=\"10\" ry=\"10\" style=\"stroke: #383838; stroke-width: 1.5;\" width=\"121\" x=\"308\" y=\"56\"/><text fill=\"#000000\" font-family=\"sans-serif\" font-size=\"12\" font-style=\"italic\" lengthAdjust=\"spacingAndGlyphs\" textLength=\"119\" x=\"309\" y=\"72.1387\">«assertConstraint»</text><text fill=\"#000000\" font-family=\"sans-serif\" font-size=\"12\" lengthAdjust=\"spacingAndGlyphs\" textLength=\"76\" x=\"330.5\" y=\"86.1074\">x_constraint</text><line style=\"stroke: #383838; stroke-width: 1.5;\" x1=\"309\" x2=\"428\" y1=\"93.9375\" y2=\"93.9375\"/></a><!--MD5=[ebbe1d658d1005bcc118a6aa81145e00]\n",
       "class E4--><a href=\"psysml:13c6c11f-d2db-48ba-8729-714e79a71a8b\" target=\"_top\" title=\"psysml:13c6c11f-d2db-48ba-8729-714e79a71a8b\" xlink:actuate=\"onRequest\" xlink:href=\"psysml:13c6c11f-d2db-48ba-8729-714e79a71a8b\" xlink:show=\"new\" xlink:title=\"psysml:13c6c11f-d2db-48ba-8729-714e79a71a8b\" xlink:type=\"simple\"><rect fill=\"#FFFFFF\" height=\"45.9375\" id=\"E4\" style=\"stroke: #383838; stroke-width: 1.5;\" width=\"79\" x=\"32\" y=\"56\"/><text fill=\"#000000\" font-family=\"sans-serif\" font-size=\"12\" font-style=\"italic\" lengthAdjust=\"spacingAndGlyphs\" textLength=\"77\" x=\"33\" y=\"72.1387\">«action def»</text><text fill=\"#000000\" font-family=\"sans-serif\" font-size=\"12\" lengthAdjust=\"spacingAndGlyphs\" textLength=\"27\" x=\"58\" y=\"86.1074\">setX</text><line style=\"stroke: #383838; stroke-width: 1.5;\" x1=\"33\" x2=\"110\" y1=\"93.9375\" y2=\"93.9375\"/></a><!--MD5=[209b3feb70ccb6233bfe1053d122c12c]\n",
       "reverse link E2 to E3--><a href=\"psysml:6c3bd0c1-e9ea-4acc-b51f-d35f7aefdb06\" target=\"_top\" title=\"psysml:6c3bd0c1-e9ea-4acc-b51f-d35f7aefdb06\" xlink:actuate=\"onRequest\" xlink:href=\"psysml:6c3bd0c1-e9ea-4acc-b51f-d35f7aefdb06\" xlink:show=\"new\" xlink:title=\"psysml:6c3bd0c1-e9ea-4acc-b51f-d35f7aefdb06\" xlink:type=\"simple\"><path d=\"M260.42,79 C275.34,79 292.11,79 307.88,79 \" fill=\"none\" id=\"E2&lt;-E3\" style=\"stroke: #383838; stroke-width: 1.0;\"/><polygon fill=\"#383838\" points=\"247.32,79,253.32,83,259.32,79,253.32,75,247.32,79\" style=\"stroke: #383838; stroke-width: 1.0;\"/><text fill=\"#000000\" font-family=\"sans-serif\" font-size=\"13\" lengthAdjust=\"spacingAndGlyphs\" textLength=\"7\" x=\"293.0654\" y=\"91.9929\">*</text></a><!--MD5=[ddeed8deb2209213b62e6cfabaa108b2]\n",
       "reverse link E4 to E2--><a href=\"psysml:b2a1dac5-50e3-4d3d-9a14-28fff19dad0f\" target=\"_top\" title=\"psysml:b2a1dac5-50e3-4d3d-9a14-28fff19dad0f\" xlink:actuate=\"onRequest\" xlink:href=\"psysml:b2a1dac5-50e3-4d3d-9a14-28fff19dad0f\" xlink:show=\"new\" xlink:title=\"psysml:b2a1dac5-50e3-4d3d-9a14-28fff19dad0f\" xlink:type=\"simple\"><path d=\"M124.23,79 C142.79,79 163.18,79 179.69,79 \" fill=\"none\" id=\"E4&lt;-E2\" style=\"stroke: #383838; stroke-width: 1.0;\"/><polygon fill=\"#FFFFFF\" points=\"111.13,79,117.13,83,123.13,79,117.13,75,111.13,79\" style=\"stroke: #383838; stroke-width: 1.0;\"/><text fill=\"#000000\" font-family=\"sans-serif\" font-size=\"13\" lengthAdjust=\"spacingAndGlyphs\" textLength=\"7\" x=\"142\" y=\"75.0669\">c</text></a><!--MD5=[7121790984c9d332a7793271dcf8c942]\n",
       "@startuml\r\n",
       "left to right direction\r\n",
       "skinparam monochrome true\r\n",
       "skinparam classbackgroundcolor white\r\n",
       "skinparam shadowing false\r\n",
       "skinparam wrapWidth 300\r\n",
       "hide circle\r\n",
       "\r\n",
       "package \"TextualRepresentationTest\" as E1  [[psysml:fa6c1bf2-147a-4459-8db1-4c7f2c0aa92b ]]  {\r\n",
       "comp def \"C\" as E2  <<(T,blue) item def>> [[psysml:7c3e9caa-80d9-4c4c-adc7-c498b9bc223a ]] {\r\n",
       "- - attributes - -\r\n",
       "x: Real\r\n",
       "}\r\n",
       "comp usage \"x_constraint\" as E3  <<(T,blue) assertConstraint>> [[psysml:c1adaef5-a811-466e-b0b1-353fc6834fce ]] {\r\n",
       "}\r\n",
       "comp def \"setX\" as E4  <<(T,blue) action def>> [[psysml:13c6c11f-d2db-48ba-8729-714e79a71a8b ]] {\r\n",
       "}\r\n",
       "}\r\n",
       "E2 *- - \"*\"E3 [[psysml:6c3bd0c1-e9ea-4acc-b51f-d35f7aefdb06 ]] \r\n",
       "E4 o- - E2 [[psysml:b2a1dac5-50e3-4d3d-9a14-28fff19dad0f ]] : c\r\n",
       "@enduml\r\n",
       "\n",
       "PlantUML version 1.2020.13(Sat Jun 13 12:26:38 UTC 2020)\n",
       "(EPL source distribution)\n",
       "Java Runtime: OpenJDK Runtime Environment\n",
       "JVM: OpenJDK 64-Bit Server VM\n",
       "Default Encoding: UTF-8\n",
       "Language: en\n",
       "Country: null\n",
       "--></g></svg>"
      ]
     },
     "execution_count": 17,
     "metadata": {},
     "output_type": "execute_result"
    }
   ],
   "source": [
    "%viz --style=\"LR\" --view=\"Tree\" \"TextualRepresentationTest\""
   ]
  },
  {
   "cell_type": "code",
   "execution_count": 18,
   "id": "4df559f6",
   "metadata": {
    "execution": {
     "iopub.execute_input": "2021-09-27T07:18:33.254722Z",
     "iopub.status.busy": "2021-09-27T07:18:33.254472Z",
     "iopub.status.idle": "2021-09-27T07:18:33.259811Z",
     "shell.execute_reply": "2021-09-27T07:18:33.259976Z"
    }
   },
   "outputs": [
    {
     "data": {
      "image/svg+xml": [
       "<?xml version=\"1.0\" encoding=\"UTF-8\" standalone=\"no\"?><svg xmlns=\"http://www.w3.org/2000/svg\" xmlns:xlink=\"http://www.w3.org/1999/xlink\" contentScriptType=\"application/ecmascript\" contentStyleType=\"text/css\" height=\"12px\" preserveAspectRatio=\"none\" style=\"width:12px;height:12px;\" version=\"1.1\" viewBox=\"0 0 12 12\" width=\"12px\" zoomAndPan=\"magnify\"><defs/><g><!--MD5=[19d285c9d72a204eba4e2cd117d745e8]\n",
       "@startuml\r\n",
       "left to right direction\r\n",
       "skinparam monochrome true\r\n",
       "skinparam classbackgroundcolor white\r\n",
       "skinparam shadowing false\r\n",
       "skinparam wrapWidth 300\r\n",
       "hide circle\r\n",
       "\r\n",
       "@enduml\r\n",
       "\n",
       "PlantUML version 1.2020.13(Sat Jun 13 12:26:38 UTC 2020)\n",
       "(EPL source distribution)\n",
       "Java Runtime: OpenJDK Runtime Environment\n",
       "JVM: OpenJDK 64-Bit Server VM\n",
       "Default Encoding: UTF-8\n",
       "Language: en\n",
       "Country: null\n",
       "--></g></svg>"
      ]
     },
     "execution_count": 18,
     "metadata": {},
     "output_type": "execute_result"
    }
   ],
   "source": [
    "%viz --style=\"LR\" --view=\"State\" \"TextualRepresentationTest\""
   ]
  },
  {
   "cell_type": "code",
   "execution_count": 19,
   "id": "7bfbec09",
   "metadata": {
    "execution": {
     "iopub.execute_input": "2021-09-27T07:18:33.310378Z",
     "iopub.status.busy": "2021-09-27T07:18:33.310156Z",
     "iopub.status.idle": "2021-09-27T07:18:33.338523Z",
     "shell.execute_reply": "2021-09-27T07:18:33.338709Z"
    }
   },
   "outputs": [
    {
     "data": {
      "image/svg+xml": [
       "<?xml version=\"1.0\" encoding=\"UTF-8\" standalone=\"no\"?><svg xmlns=\"http://www.w3.org/2000/svg\" xmlns:xlink=\"http://www.w3.org/1999/xlink\" contentScriptType=\"application/ecmascript\" contentStyleType=\"text/css\" height=\"215px\" preserveAspectRatio=\"none\" style=\"width:276px;height:215px;\" version=\"1.1\" viewBox=\"0 0 276 215\" width=\"276px\" zoomAndPan=\"magnify\"><defs/><g><!--MD5=[fbc87193dbaf4d95561dea2c320d4a47]\n",
       "cluster E1--><a href=\"psysml:fa6c1bf2-147a-4459-8db1-4c7f2c0aa92b\" target=\"_top\" title=\"psysml:fa6c1bf2-147a-4459-8db1-4c7f2c0aa92b\" xlink:actuate=\"onRequest\" xlink:href=\"psysml:fa6c1bf2-147a-4459-8db1-4c7f2c0aa92b\" xlink:show=\"new\" xlink:title=\"psysml:fa6c1bf2-147a-4459-8db1-4c7f2c0aa92b\" xlink:type=\"simple\"><polygon fill=\"#FFFFFF\" points=\"16,6,210,6,217,28.2969,254,28.2969,254,203,16,203,16,6\" style=\"stroke: #000000; stroke-width: 1.5;\"/><line style=\"stroke: #000000; stroke-width: 1.5;\" x1=\"16\" x2=\"217\" y1=\"28.2969\" y2=\"28.2969\"/><text fill=\"#000000\" font-family=\"sans-serif\" font-size=\"14\" font-weight=\"bold\" lengthAdjust=\"spacingAndGlyphs\" textLength=\"188\" x=\"20\" y=\"20.9951\">TextualRepresentationTest</text></a><!--MD5=[d5e69f78d87373223dbae638b30a9c99]\n",
       "cluster E3--><a href=\"psysml:13c6c11f-d2db-48ba-8729-714e79a71a8b\" target=\"_top\" title=\"psysml:13c6c11f-d2db-48ba-8729-714e79a71a8b\" xlink:actuate=\"onRequest\" xlink:href=\"psysml:13c6c11f-d2db-48ba-8729-714e79a71a8b\" xlink:show=\"new\" xlink:title=\"psysml:13c6c11f-d2db-48ba-8729-714e79a71a8b\" xlink:type=\"simple\"><rect fill=\"#FFFFFF\" height=\"47\" id=\"E3\" style=\"stroke: #383838; stroke-width: 1.5;\" width=\"188\" x=\"50\" y=\"55\"/><rect fill=\"#F8F8F8\" height=\"37.9375\" style=\"stroke: #383838; stroke-width: 1.5;\" width=\"188\" x=\"50\" y=\"55\"/><text fill=\"#000000\" font-family=\"sans-serif\" font-size=\"12\" font-style=\"italic\" lengthAdjust=\"spacingAndGlyphs\" textLength=\"77\" x=\"105.5\" y=\"71.1387\">«action def»</text><text fill=\"#000000\" font-family=\"sans-serif\" font-size=\"12\" lengthAdjust=\"spacingAndGlyphs\" textLength=\"27\" x=\"130.5\" y=\"85.1074\">setX</text></a><g id=\"E1.E2\"><a href=\"psysml:7c3e9caa-80d9-4c4c-adc7-c498b9bc223a\" target=\"_top\" title=\"psysml:7c3e9caa-80d9-4c4c-adc7-c498b9bc223a\" xlink:actuate=\"onRequest\" xlink:href=\"psysml:7c3e9caa-80d9-4c4c-adc7-c498b9bc223a\" xlink:show=\"new\" xlink:title=\"psysml:7c3e9caa-80d9-4c4c-adc7-c498b9bc223a\" xlink:type=\"simple\"><rect fill=\"#FFFFFF\" height=\"42.9375\" id=\"E2\" style=\"stroke: #383838; stroke-width: 1.5;\" width=\"72\" x=\"32\" y=\"143.5\"/><rect fill=\"#F8F8F8\" height=\"37.9375\" style=\"stroke: #383838; stroke-width: 1.5;\" width=\"72\" x=\"32\" y=\"143.5\"/><text fill=\"#000000\" font-family=\"sans-serif\" font-size=\"12\" font-style=\"italic\" lengthAdjust=\"spacingAndGlyphs\" textLength=\"65\" x=\"35.5\" y=\"159.6387\">«item def»</text><text fill=\"#000000\" font-family=\"sans-serif\" font-size=\"12\" lengthAdjust=\"spacingAndGlyphs\" textLength=\"8\" x=\"64\" y=\"173.6074\">C</text></a></g><text fill=\"#000000\" font-family=\"sans-serif\" font-size=\"14\" lengthAdjust=\"spacingAndGlyphs\" textLength=\"8\" x=\"64\" y=\"120.9951\">c</text><rect fill=\"#383838\" height=\"12\" style=\"stroke: #F8F8F8; stroke-width: 1.5;\" width=\"12\" x=\"62\" y=\"96\"/><text fill=\"#000000\" font-family=\"sans-serif\" font-size=\"14\" lengthAdjust=\"spacingAndGlyphs\" textLength=\"38\" x=\"49\" y=\"33.6982\">newX</text><rect fill=\"#383838\" height=\"12\" style=\"stroke: #F8F8F8; stroke-width: 1.5;\" width=\"12\" x=\"62\" y=\"49\"/><!--MD5=[9be1c306c7b0107f76858d2ce98a1ddb]\n",
       "@startuml\r\n",
       "skinparam ranksep 10\r\n",
       "skinparam rectangle {\r\n",
       " backgroundColor<<block>> LightGreen\r\n",
       "}\r\n",
       "left to right direction\r\n",
       "skinparam monochrome true\r\n",
       "skinparam classbackgroundcolor white\r\n",
       "skinparam shadowing false\r\n",
       "skinparam wrapWidth 300\r\n",
       "hide circle\r\n",
       "\r\n",
       "package \"TextualRepresentationTest\" as E1  [[psysml:fa6c1bf2-147a-4459-8db1-4c7f2c0aa92b ]]  {\r\n",
       "def \"C\" as E2  <<(T,blue) item def>> [[psysml:7c3e9caa-80d9-4c4c-adc7-c498b9bc223a ]] \r\n",
       "rec def \"setX\" as E3  <<(T,blue) action def>> [[psysml:13c6c11f-d2db-48ba-8729-714e79a71a8b ]] {\r\n",
       "portin \"c\" as E4  [[psysml:b2a1dac5-50e3-4d3d-9a14-28fff19dad0f ]] \r\n",
       "portin \"newX\" as E5  [[psysml:3095d82e-c5b2-4faf-b7d1-254d70a18586 ]] \r\n",
       "}\r\n",
       "\r\n",
       "}\r\n",
       "@enduml\r\n",
       "\n",
       "PlantUML version 1.2020.13(Sat Jun 13 12:26:38 UTC 2020)\n",
       "(EPL source distribution)\n",
       "Java Runtime: OpenJDK Runtime Environment\n",
       "JVM: OpenJDK 64-Bit Server VM\n",
       "Default Encoding: UTF-8\n",
       "Language: en\n",
       "Country: null\n",
       "--></g></svg>"
      ]
     },
     "execution_count": 19,
     "metadata": {},
     "output_type": "execute_result"
    }
   ],
   "source": [
    "%viz --style=\"LR\" --view=\"Interconnection\" \"TextualRepresentationTest\""
   ]
  },
  {
   "cell_type": "code",
   "execution_count": 20,
   "id": "700275b5",
   "metadata": {
    "execution": {
     "iopub.execute_input": "2021-09-27T07:18:33.389277Z",
     "iopub.status.busy": "2021-09-27T07:18:33.389055Z",
     "iopub.status.idle": "2021-09-27T07:18:33.411490Z",
     "shell.execute_reply": "2021-09-27T07:18:33.411760Z"
    }
   },
   "outputs": [
    {
     "data": {
      "image/svg+xml": [
       "<?xml version=\"1.0\" encoding=\"UTF-8\" standalone=\"no\"?><svg xmlns=\"http://www.w3.org/2000/svg\" xmlns:xlink=\"http://www.w3.org/1999/xlink\" contentScriptType=\"application/ecmascript\" contentStyleType=\"text/css\" height=\"121px\" preserveAspectRatio=\"none\" style=\"width:176px;height:121px;\" version=\"1.1\" viewBox=\"0 0 176 121\" width=\"176px\" zoomAndPan=\"magnify\"><defs/><g><!--MD5=[fbc87193dbaf4d95561dea2c320d4a47]\n",
       "cluster E1--><a href=\"psysml:13c6c11f-d2db-48ba-8729-714e79a71a8b\" target=\"_top\" title=\"psysml:13c6c11f-d2db-48ba-8729-714e79a71a8b\" xlink:actuate=\"onRequest\" xlink:href=\"psysml:13c6c11f-d2db-48ba-8729-714e79a71a8b\" xlink:show=\"new\" xlink:title=\"psysml:13c6c11f-d2db-48ba-8729-714e79a71a8b\" xlink:type=\"simple\"><rect fill=\"#FFFFFF\" height=\"47\" id=\"E1\" style=\"stroke: #383838; stroke-width: 1.5;\" width=\"158\" x=\"7\" y=\"42.0986\"/><rect fill=\"#F8F8F8\" height=\"37.9375\" style=\"stroke: #383838; stroke-width: 1.5;\" width=\"158\" x=\"7\" y=\"42.0986\"/><text fill=\"#000000\" font-family=\"sans-serif\" font-size=\"12\" font-style=\"italic\" lengthAdjust=\"spacingAndGlyphs\" textLength=\"77\" x=\"47.5\" y=\"58.2373\">«action def»</text><text fill=\"#000000\" font-family=\"sans-serif\" font-size=\"12\" lengthAdjust=\"spacingAndGlyphs\" textLength=\"27\" x=\"72.5\" y=\"72.2061\">setX</text></a><text fill=\"#000000\" font-family=\"sans-serif\" font-size=\"14\" lengthAdjust=\"spacingAndGlyphs\" textLength=\"8\" x=\"21\" y=\"108.0938\">c</text><rect fill=\"#383838\" height=\"12\" style=\"stroke: #F8F8F8; stroke-width: 1.5;\" width=\"12\" x=\"19\" y=\"83.0986\"/><text fill=\"#000000\" font-family=\"sans-serif\" font-size=\"14\" lengthAdjust=\"spacingAndGlyphs\" textLength=\"38\" x=\"6\" y=\"20.7969\">newX</text><rect fill=\"#383838\" height=\"12\" style=\"stroke: #F8F8F8; stroke-width: 1.5;\" width=\"12\" x=\"19\" y=\"36.0986\"/><!--MD5=[958b513f395049bb5ce15f794cf01a41]\n",
       "@startuml\r\n",
       "skinparam ranksep 8\r\n",
       "left to right direction\r\n",
       "skinparam monochrome true\r\n",
       "skinparam classbackgroundcolor white\r\n",
       "skinparam shadowing false\r\n",
       "skinparam wrapWidth 300\r\n",
       "hide circle\r\n",
       "\r\n",
       "rec def \"setX\" as E1  <<(T,blue) action def>> [[psysml:13c6c11f-d2db-48ba-8729-714e79a71a8b ]] {\r\n",
       "portin \"c\" as E2  [[psysml:b2a1dac5-50e3-4d3d-9a14-28fff19dad0f ]] \r\n",
       "portin \"newX\" as E3  [[psysml:3095d82e-c5b2-4faf-b7d1-254d70a18586 ]] \r\n",
       "}\r\n",
       "\r\n",
       "@enduml\r\n",
       "\n",
       "PlantUML version 1.2020.13(Sat Jun 13 12:26:38 UTC 2020)\n",
       "(EPL source distribution)\n",
       "Java Runtime: OpenJDK Runtime Environment\n",
       "JVM: OpenJDK 64-Bit Server VM\n",
       "Default Encoding: UTF-8\n",
       "Language: en\n",
       "Country: null\n",
       "--></g></svg>"
      ]
     },
     "execution_count": 20,
     "metadata": {},
     "output_type": "execute_result"
    }
   ],
   "source": [
    "%viz --style=\"LR\" --view=\"Action\" \"TextualRepresentationTest\""
   ]
  },
  {
   "cell_type": "code",
   "execution_count": 21,
   "id": "7f6512ec",
   "metadata": {
    "execution": {
     "iopub.execute_input": "2021-09-27T07:18:33.461854Z",
     "iopub.status.busy": "2021-09-27T07:18:33.461583Z",
     "iopub.status.idle": "2021-09-27T07:18:33.467024Z",
     "shell.execute_reply": "2021-09-27T07:18:33.467342Z"
    }
   },
   "outputs": [
    {
     "data": {
      "image/svg+xml": [
       "<?xml version=\"1.0\" encoding=\"UTF-8\" standalone=\"no\"?><svg xmlns=\"http://www.w3.org/2000/svg\" xmlns:xlink=\"http://www.w3.org/1999/xlink\" contentScriptType=\"application/ecmascript\" contentStyleType=\"text/css\" height=\"12px\" preserveAspectRatio=\"none\" style=\"width:12px;height:12px;\" version=\"1.1\" viewBox=\"0 0 12 12\" width=\"12px\" zoomAndPan=\"magnify\"><defs/><g><!--MD5=[238c11ea2002f03115ad6b49a457d50e]\n",
       "@startuml\r\n",
       "skinparam roundcorner 20\r\n",
       "skinparam BoxPadding 20\r\n",
       "skinparam SequenceBoxBackgroundColor #white\r\n",
       "skinparam style strictuml\r\n",
       "skinparam maxMessageSize 100\r\n",
       "left to right direction\r\n",
       "skinparam monochrome true\r\n",
       "skinparam classbackgroundcolor white\r\n",
       "skinparam shadowing false\r\n",
       "skinparam wrapWidth 300\r\n",
       "hide circle\r\n",
       "\r\n",
       "@enduml\r\n",
       "\n",
       "PlantUML version 1.2020.13(Sat Jun 13 12:26:38 UTC 2020)\n",
       "(EPL source distribution)\n",
       "Java Runtime: OpenJDK Runtime Environment\n",
       "JVM: OpenJDK 64-Bit Server VM\n",
       "Default Encoding: UTF-8\n",
       "Language: en\n",
       "Country: null\n",
       "--></g></svg>"
      ]
     },
     "execution_count": 21,
     "metadata": {},
     "output_type": "execute_result"
    }
   ],
   "source": [
    "%viz --style=\"LR\" --view=\"Sequence\" \"TextualRepresentationTest\""
   ]
  },
  {
   "cell_type": "code",
   "execution_count": 22,
   "id": "7a55edcd",
   "metadata": {
    "execution": {
     "iopub.execute_input": "2021-09-27T07:18:33.517111Z",
     "iopub.status.busy": "2021-09-27T07:18:33.516907Z",
     "iopub.status.idle": "2021-09-27T07:18:33.561018Z",
     "shell.execute_reply": "2021-09-27T07:18:33.560675Z"
    }
   },
   "outputs": [
    {
     "data": {
      "image/svg+xml": [
       "<?xml version=\"1.0\" encoding=\"UTF-8\" standalone=\"no\"?><svg xmlns=\"http://www.w3.org/2000/svg\" xmlns:xlink=\"http://www.w3.org/1999/xlink\" contentScriptType=\"application/ecmascript\" contentStyleType=\"text/css\" height=\"247px\" preserveAspectRatio=\"none\" style=\"width:324px;height:247px;\" version=\"1.1\" viewBox=\"0 0 324 247\" width=\"324px\" zoomAndPan=\"magnify\"><defs/><g><!--MD5=[fbc87193dbaf4d95561dea2c320d4a47]\n",
       "cluster E1--><a href=\"psysml:fa6c1bf2-147a-4459-8db1-4c7f2c0aa92b\" target=\"_top\" title=\"psysml:fa6c1bf2-147a-4459-8db1-4c7f2c0aa92b\" xlink:actuate=\"onRequest\" xlink:href=\"psysml:fa6c1bf2-147a-4459-8db1-4c7f2c0aa92b\" xlink:show=\"new\" xlink:title=\"psysml:fa6c1bf2-147a-4459-8db1-4c7f2c0aa92b\" xlink:type=\"simple\"><polygon fill=\"#FFFFFF\" points=\"16,6,210,6,217,28.2969,302.5,28.2969,302.5,235,16,235,16,6\" style=\"stroke: #000000; stroke-width: 1.5;\"/><line style=\"stroke: #000000; stroke-width: 1.5;\" x1=\"16\" x2=\"217\" y1=\"28.2969\" y2=\"28.2969\"/><text fill=\"#000000\" font-family=\"sans-serif\" font-size=\"14\" font-weight=\"bold\" lengthAdjust=\"spacingAndGlyphs\" textLength=\"188\" x=\"20\" y=\"20.9951\">TextualRepresentationTest</text></a><!--MD5=[f6df4d0ebaf0b5dfb2ced0ae5af7c670]\n",
       "cluster E4--><a href=\"psysml:13c6c11f-d2db-48ba-8729-714e79a71a8b\" target=\"_top\" title=\"psysml:13c6c11f-d2db-48ba-8729-714e79a71a8b\" xlink:actuate=\"onRequest\" xlink:href=\"psysml:13c6c11f-d2db-48ba-8729-714e79a71a8b\" xlink:show=\"new\" xlink:title=\"psysml:13c6c11f-d2db-48ba-8729-714e79a71a8b\" xlink:type=\"simple\"><rect fill=\"#FFFFFF\" height=\"47\" id=\"E4\" style=\"stroke: #383838; stroke-width: 1.5;\" width=\"239\" x=\"47.5\" y=\"55\"/><rect fill=\"#F8F8F8\" height=\"37.9375\" style=\"stroke: #383838; stroke-width: 1.5;\" width=\"239\" x=\"47.5\" y=\"55\"/><text fill=\"#000000\" font-family=\"sans-serif\" font-size=\"12\" font-style=\"italic\" lengthAdjust=\"spacingAndGlyphs\" textLength=\"77\" x=\"128.5\" y=\"71.1387\">«action def»</text><text fill=\"#000000\" font-family=\"sans-serif\" font-size=\"12\" lengthAdjust=\"spacingAndGlyphs\" textLength=\"27\" x=\"153.5\" y=\"85.1074\">setX</text></a><!--MD5=[b4997ac47864f28c2f74865a473b2911]\n",
       "class E2--><a href=\"psysml:7c3e9caa-80d9-4c4c-adc7-c498b9bc223a\" target=\"_top\" title=\"psysml:7c3e9caa-80d9-4c4c-adc7-c498b9bc223a\" xlink:actuate=\"onRequest\" xlink:href=\"psysml:7c3e9caa-80d9-4c4c-adc7-c498b9bc223a\" xlink:show=\"new\" xlink:title=\"psysml:7c3e9caa-80d9-4c4c-adc7-c498b9bc223a\" xlink:type=\"simple\"><rect fill=\"#FFFFFF\" height=\"75.5469\" id=\"E2\" style=\"stroke: #383838; stroke-width: 1.5;\" width=\"67\" x=\"32\" y=\"143\"/><text fill=\"#000000\" font-family=\"sans-serif\" font-size=\"12\" font-style=\"italic\" lengthAdjust=\"spacingAndGlyphs\" textLength=\"65\" x=\"33\" y=\"159.1387\">«item def»</text><text fill=\"#000000\" font-family=\"sans-serif\" font-size=\"12\" lengthAdjust=\"spacingAndGlyphs\" textLength=\"8\" x=\"61.5\" y=\"173.1074\">C</text><line style=\"stroke: #383838; stroke-width: 1.5;\" x1=\"33\" x2=\"98\" y1=\"180.9375\" y2=\"180.9375\"/><text fill=\"#000000\" font-family=\"sans-serif\" font-size=\"11\" lengthAdjust=\"spacingAndGlyphs\" textLength=\"38\" x=\"38\" y=\"211.9526\">x: Real</text><line style=\"stroke: #383838; stroke-width: 1.0;\" x1=\"33\" x2=\"38\" y1=\"195.3398\" y2=\"195.3398\"/><text fill=\"#000000\" font-family=\"sans-serif\" font-size=\"11\" lengthAdjust=\"spacingAndGlyphs\" textLength=\"55\" x=\"38\" y=\"198.6479\">attributes</text><line style=\"stroke: #383838; stroke-width: 1.0;\" x1=\"93\" x2=\"98\" y1=\"195.3398\" y2=\"195.3398\"/></a><!--MD5=[09b614a08d8cba4a07c9adeb5e0fee81]\n",
       "class E3--><a href=\"psysml:c1adaef5-a811-466e-b0b1-353fc6834fce\" target=\"_top\" title=\"psysml:c1adaef5-a811-466e-b0b1-353fc6834fce\" xlink:actuate=\"onRequest\" xlink:href=\"psysml:c1adaef5-a811-466e-b0b1-353fc6834fce\" xlink:show=\"new\" xlink:title=\"psysml:c1adaef5-a811-466e-b0b1-353fc6834fce\" xlink:type=\"simple\"><rect fill=\"#FFFFFF\" height=\"45.9375\" id=\"E3\" rx=\"10\" ry=\"10\" style=\"stroke: #383838; stroke-width: 1.5;\" width=\"121\" x=\"159\" y=\"158\"/><text fill=\"#000000\" font-family=\"sans-serif\" font-size=\"12\" font-style=\"italic\" lengthAdjust=\"spacingAndGlyphs\" textLength=\"119\" x=\"160\" y=\"174.1387\">«assertConstraint»</text><text fill=\"#000000\" font-family=\"sans-serif\" font-size=\"12\" lengthAdjust=\"spacingAndGlyphs\" textLength=\"76\" x=\"181.5\" y=\"188.1074\">x_constraint</text><line style=\"stroke: #383838; stroke-width: 1.5;\" x1=\"160\" x2=\"279\" y1=\"195.9375\" y2=\"195.9375\"/></a><text fill=\"#000000\" font-family=\"sans-serif\" font-size=\"14\" lengthAdjust=\"spacingAndGlyphs\" textLength=\"8\" x=\"61.5\" y=\"120.9951\">c</text><rect fill=\"#383838\" height=\"12\" style=\"stroke: #F8F8F8; stroke-width: 1.5;\" width=\"12\" x=\"59.5\" y=\"96\"/><text fill=\"#000000\" font-family=\"sans-serif\" font-size=\"14\" lengthAdjust=\"spacingAndGlyphs\" textLength=\"38\" x=\"46.5\" y=\"33.6982\">newX</text><rect fill=\"#383838\" height=\"12\" style=\"stroke: #F8F8F8; stroke-width: 1.5;\" width=\"12\" x=\"59.5\" y=\"49\"/><!--MD5=[209b3feb70ccb6233bfe1053d122c12c]\n",
       "reverse link E2 to E3--><a href=\"psysml:6c3bd0c1-e9ea-4acc-b51f-d35f7aefdb06\" target=\"_top\" title=\"psysml:6c3bd0c1-e9ea-4acc-b51f-d35f7aefdb06\" xlink:actuate=\"onRequest\" xlink:href=\"psysml:6c3bd0c1-e9ea-4acc-b51f-d35f7aefdb06\" xlink:show=\"new\" xlink:title=\"psysml:6c3bd0c1-e9ea-4acc-b51f-d35f7aefdb06\" xlink:type=\"simple\"><path d=\"M112.5,181 C127.13,181 143.52,181 158.96,181 \" fill=\"none\" id=\"E2&lt;-E3\" style=\"stroke: #383838; stroke-width: 1.0;\"/><polygon fill=\"#383838\" points=\"99.11,181,105.11,185,111.11,181,105.11,177,99.11,181\" style=\"stroke: #383838; stroke-width: 1.0;\"/><text fill=\"#000000\" font-family=\"sans-serif\" font-size=\"13\" lengthAdjust=\"spacingAndGlyphs\" textLength=\"7\" x=\"144.1551\" y=\"193.9929\">*</text></a><!--MD5=[0028254b2cee7766c076d758c4ababb7]\n",
       "@startuml\r\n",
       "left to right direction\r\n",
       "skinparam monochrome true\r\n",
       "skinparam classbackgroundcolor white\r\n",
       "skinparam shadowing false\r\n",
       "skinparam wrapWidth 300\r\n",
       "hide circle\r\n",
       "\r\n",
       "package \"TextualRepresentationTest\" as E1  [[psysml:fa6c1bf2-147a-4459-8db1-4c7f2c0aa92b ]]  {\r\n",
       "comp def \"C\" as E2  <<(T,blue) item def>> [[psysml:7c3e9caa-80d9-4c4c-adc7-c498b9bc223a ]] {\r\n",
       "- - attributes - -\r\n",
       "x: Real\r\n",
       "}\r\n",
       "comp usage \"x_constraint\" as E3  <<(T,blue) assertConstraint>> [[psysml:c1adaef5-a811-466e-b0b1-353fc6834fce ]] {\r\n",
       "}\r\n",
       "rec def \"setX\" as E4  <<(T,blue) action def>> [[psysml:13c6c11f-d2db-48ba-8729-714e79a71a8b ]] {\r\n",
       "portin \"c\" as E5  [[psysml:b2a1dac5-50e3-4d3d-9a14-28fff19dad0f ]] \r\n",
       "portin \"newX\" as E6  [[psysml:3095d82e-c5b2-4faf-b7d1-254d70a18586 ]] \r\n",
       "}\r\n",
       "\r\n",
       "}\r\n",
       "E2 *- - \"*\"E3 [[psysml:6c3bd0c1-e9ea-4acc-b51f-d35f7aefdb06 ]] \r\n",
       "@enduml\r\n",
       "\n",
       "PlantUML version 1.2020.13(Sat Jun 13 12:26:38 UTC 2020)\n",
       "(EPL source distribution)\n",
       "Java Runtime: OpenJDK Runtime Environment\n",
       "JVM: OpenJDK 64-Bit Server VM\n",
       "Default Encoding: UTF-8\n",
       "Language: en\n",
       "Country: null\n",
       "--></g></svg>"
      ]
     },
     "execution_count": 22,
     "metadata": {},
     "output_type": "execute_result"
    }
   ],
   "source": [
    "%viz --style=\"LR\" --view=\"MIXED\" \"TextualRepresentationTest\""
   ]
  },
  {
   "cell_type": "code",
   "execution_count": 23,
   "id": "16a2546e",
   "metadata": {
    "execution": {
     "iopub.execute_input": "2021-09-27T07:18:33.611246Z",
     "iopub.status.busy": "2021-09-27T07:18:33.610829Z",
     "iopub.status.idle": "2021-09-27T07:18:33.647984Z",
     "shell.execute_reply": "2021-09-27T07:18:33.647620Z"
    }
   },
   "outputs": [
    {
     "data": {
      "image/svg+xml": [
       "<?xml version=\"1.0\" encoding=\"UTF-8\" standalone=\"no\"?><svg xmlns=\"http://www.w3.org/2000/svg\" xmlns:xlink=\"http://www.w3.org/1999/xlink\" contentScriptType=\"application/ecmascript\" contentStyleType=\"text/css\" height=\"244px\" preserveAspectRatio=\"none\" style=\"width:345px;height:244px;\" version=\"1.1\" viewBox=\"0 0 345 244\" width=\"345px\" zoomAndPan=\"magnify\"><defs><filter height=\"300%\" id=\"fydb6kt7lnv6p\" width=\"300%\" x=\"-1\" y=\"-1\"><feGaussianBlur result=\"blurOut\" stdDeviation=\"2.0\"/><feColorMatrix in=\"blurOut\" result=\"blurOut2\" type=\"matrix\" values=\"0 0 0 0 0 0 0 0 0 0 0 0 0 0 0 0 0 0 .4 0\"/><feOffset dx=\"4.0\" dy=\"4.0\" in=\"blurOut2\" result=\"blurOut3\"/><feBlend in=\"SourceGraphic\" in2=\"blurOut3\" mode=\"normal\"/></filter></defs><g><!--MD5=[fbc87193dbaf4d95561dea2c320d4a47]\n",
       "cluster E1--><a href=\"psysml:fa6c1bf2-147a-4459-8db1-4c7f2c0aa92b\" target=\"_top\" title=\"psysml:fa6c1bf2-147a-4459-8db1-4c7f2c0aa92b\" xlink:actuate=\"onRequest\" xlink:href=\"psysml:fa6c1bf2-147a-4459-8db1-4c7f2c0aa92b\" xlink:show=\"new\" xlink:title=\"psysml:fa6c1bf2-147a-4459-8db1-4c7f2c0aa92b\" xlink:type=\"simple\"><polygon fill=\"#FFFFFF\" filter=\"url(#fydb6kt7lnv6p)\" points=\"16,6,210,6,217,28.2969,323,28.2969,323,232.5,16,232.5,16,6\" style=\"stroke: #000000; stroke-width: 1.5;\"/><line style=\"stroke: #000000; stroke-width: 1.5;\" x1=\"16\" x2=\"217\" y1=\"28.2969\" y2=\"28.2969\"/><text fill=\"#000000\" font-family=\"sans-serif\" font-size=\"14\" font-weight=\"bold\" lengthAdjust=\"spacingAndGlyphs\" textLength=\"188\" x=\"20\" y=\"20.9951\">TextualRepresentationTest</text></a><!--MD5=[f6df4d0ebaf0b5dfb2ced0ae5af7c670]\n",
       "cluster E4--><a href=\"psysml:13c6c11f-d2db-48ba-8729-714e79a71a8b\" target=\"_top\" title=\"psysml:13c6c11f-d2db-48ba-8729-714e79a71a8b\" xlink:actuate=\"onRequest\" xlink:href=\"psysml:13c6c11f-d2db-48ba-8729-714e79a71a8b\" xlink:show=\"new\" xlink:title=\"psysml:13c6c11f-d2db-48ba-8729-714e79a71a8b\" xlink:type=\"simple\"><rect fill=\"#FFFFFF\" filter=\"url(#fydb6kt7lnv6p)\" height=\"146\" id=\"E4\" style=\"stroke: #A80036; stroke-width: 1.5;\" width=\"132\" x=\"175\" y=\"70.5\"/><rect fill=\"#FEFECE\" height=\"37.9375\" style=\"stroke: #A80036; stroke-width: 1.5;\" width=\"132\" x=\"175\" y=\"70.5\"/><text fill=\"#000000\" font-family=\"sans-serif\" font-size=\"12\" font-style=\"italic\" lengthAdjust=\"spacingAndGlyphs\" textLength=\"77\" x=\"202.5\" y=\"86.6387\">«action def»</text><text fill=\"#000000\" font-family=\"sans-serif\" font-size=\"12\" lengthAdjust=\"spacingAndGlyphs\" textLength=\"27\" x=\"227.5\" y=\"100.6074\">setX</text></a><!--MD5=[b4997ac47864f28c2f74865a473b2911]\n",
       "class E2--><a href=\"psysml:7c3e9caa-80d9-4c4c-adc7-c498b9bc223a\" target=\"_top\" title=\"psysml:7c3e9caa-80d9-4c4c-adc7-c498b9bc223a\" xlink:actuate=\"onRequest\" xlink:href=\"psysml:7c3e9caa-80d9-4c4c-adc7-c498b9bc223a\" xlink:show=\"new\" xlink:title=\"psysml:7c3e9caa-80d9-4c4c-adc7-c498b9bc223a\" xlink:type=\"simple\"><rect fill=\"#FEFECE\" filter=\"url(#fydb6kt7lnv6p)\" height=\"58.7422\" id=\"E2\" style=\"stroke: #A80036; stroke-width: 1.5;\" width=\"67\" x=\"59.5\" y=\"41\"/><text fill=\"#000000\" font-family=\"sans-serif\" font-size=\"12\" font-style=\"italic\" lengthAdjust=\"spacingAndGlyphs\" textLength=\"65\" x=\"60.5\" y=\"57.1387\">«item def»</text><text fill=\"#000000\" font-family=\"sans-serif\" font-size=\"12\" lengthAdjust=\"spacingAndGlyphs\" textLength=\"8\" x=\"89\" y=\"71.1074\">C</text><line style=\"stroke: #A80036; stroke-width: 1.5;\" x1=\"60.5\" x2=\"125.5\" y1=\"78.9375\" y2=\"78.9375\"/><text fill=\"#000000\" font-family=\"sans-serif\" font-size=\"11\" lengthAdjust=\"spacingAndGlyphs\" textLength=\"38\" x=\"65.5\" y=\"93.1479\">x: Real</text></a><!--MD5=[09b614a08d8cba4a07c9adeb5e0fee81]\n",
       "class E3--><a href=\"psysml:c1adaef5-a811-466e-b0b1-353fc6834fce\" target=\"_top\" title=\"psysml:c1adaef5-a811-466e-b0b1-353fc6834fce\" xlink:actuate=\"onRequest\" xlink:href=\"psysml:c1adaef5-a811-466e-b0b1-353fc6834fce\" xlink:show=\"new\" xlink:title=\"psysml:c1adaef5-a811-466e-b0b1-353fc6834fce\" xlink:type=\"simple\"><rect fill=\"#FEFECE\" filter=\"url(#fydb6kt7lnv6p)\" height=\"45.9375\" id=\"E3\" rx=\"10\" ry=\"10\" style=\"stroke: #A80036; stroke-width: 1.5;\" width=\"121\" x=\"32.5\" y=\"160\"/><text fill=\"#000000\" font-family=\"sans-serif\" font-size=\"12\" font-style=\"italic\" lengthAdjust=\"spacingAndGlyphs\" textLength=\"119\" x=\"33.5\" y=\"176.1387\">«assertConstraint»</text><text fill=\"#000000\" font-family=\"sans-serif\" font-size=\"12\" lengthAdjust=\"spacingAndGlyphs\" textLength=\"76\" x=\"55\" y=\"190.1074\">x_constraint</text><line style=\"stroke: #A80036; stroke-width: 1.5;\" x1=\"33.5\" x2=\"152.5\" y1=\"197.9375\" y2=\"197.9375\"/></a><text fill=\"#000000\" font-family=\"sans-serif\" font-size=\"14\" lengthAdjust=\"spacingAndGlyphs\" textLength=\"8\" x=\"189\" y=\"49.1982\">c</text><rect fill=\"#A80036\" height=\"12\" style=\"stroke: #FEFECE; stroke-width: 1.5;\" width=\"12\" x=\"187\" y=\"64.5\"/><text fill=\"#000000\" font-family=\"sans-serif\" font-size=\"14\" lengthAdjust=\"spacingAndGlyphs\" textLength=\"38\" x=\"221\" y=\"49.1982\">newX</text><rect fill=\"#A80036\" height=\"12\" style=\"stroke: #FEFECE; stroke-width: 1.5;\" width=\"12\" x=\"234\" y=\"64.5\"/><!--MD5=[209b3feb70ccb6233bfe1053d122c12c]\n",
       "reverse link E2 to E3--><a href=\"psysml:6c3bd0c1-e9ea-4acc-b51f-d35f7aefdb06\" target=\"_top\" title=\"psysml:6c3bd0c1-e9ea-4acc-b51f-d35f7aefdb06\" xlink:actuate=\"onRequest\" xlink:href=\"psysml:6c3bd0c1-e9ea-4acc-b51f-d35f7aefdb06\" xlink:show=\"new\" xlink:title=\"psysml:6c3bd0c1-e9ea-4acc-b51f-d35f7aefdb06\" xlink:type=\"simple\"><path d=\"M93,113.51 C93,129.22 93,146.43 93,159.68 \" fill=\"none\" id=\"E2&lt;-E3\" style=\"stroke: #A80036; stroke-width: 1.0;\"/><polygon fill=\"#A80036\" points=\"93,100.24,89,106.24,93,112.24,97,106.24,93,100.24\" style=\"stroke: #A80036; stroke-width: 1.0;\"/><text fill=\"#000000\" font-family=\"sans-serif\" font-size=\"13\" lengthAdjust=\"spacingAndGlyphs\" textLength=\"7\" x=\"85.1031\" y=\"148.8743\">*</text></a><!--MD5=[5dbdf73359989bee84eff8647d70cef8]\n",
       "@startuml\r\n",
       "skinparam wrapWidth 300\r\n",
       "hide circle\r\n",
       "\r\n",
       "package \"TextualRepresentationTest\" as E1  [[psysml:fa6c1bf2-147a-4459-8db1-4c7f2c0aa92b ]]  {\r\n",
       "comp def \"C\" as E2  <<(T,blue) item def>> [[psysml:7c3e9caa-80d9-4c4c-adc7-c498b9bc223a ]] {\r\n",
       "x: Real\r\n",
       "}\r\n",
       "comp usage \"x_constraint\" as E3  <<(T,blue) assertConstraint>> [[psysml:c1adaef5-a811-466e-b0b1-353fc6834fce ]] {\r\n",
       "}\r\n",
       "rec def \"setX\" as E4  <<(T,blue) action def>> [[psysml:13c6c11f-d2db-48ba-8729-714e79a71a8b ]] {\r\n",
       "portin \"c\" as E5  [[psysml:b2a1dac5-50e3-4d3d-9a14-28fff19dad0f ]] \r\n",
       "portin \"newX\" as E6  [[psysml:3095d82e-c5b2-4faf-b7d1-254d70a18586 ]] \r\n",
       "}\r\n",
       "\r\n",
       "}\r\n",
       "E2 *- - \"*\"E3 [[psysml:6c3bd0c1-e9ea-4acc-b51f-d35f7aefdb06 ]] \r\n",
       "@enduml\r\n",
       "\n",
       "PlantUML version 1.2020.13(Sat Jun 13 12:26:38 UTC 2020)\n",
       "(EPL source distribution)\n",
       "Java Runtime: OpenJDK Runtime Environment\n",
       "JVM: OpenJDK 64-Bit Server VM\n",
       "Default Encoding: UTF-8\n",
       "Language: en\n",
       "Country: null\n",
       "--></g></svg>"
      ]
     },
     "execution_count": 23,
     "metadata": {},
     "output_type": "execute_result"
    }
   ],
   "source": [
    "%viz --style=\"STDCOLOR\" --view=\"Default\" \"TextualRepresentationTest\""
   ]
  },
  {
   "cell_type": "code",
   "execution_count": 24,
   "id": "46e06f6a",
   "metadata": {
    "execution": {
     "iopub.execute_input": "2021-09-27T07:18:33.697567Z",
     "iopub.status.busy": "2021-09-27T07:18:33.697346Z",
     "iopub.status.idle": "2021-09-27T07:18:33.727226Z",
     "shell.execute_reply": "2021-09-27T07:18:33.727037Z"
    }
   },
   "outputs": [
    {
     "data": {
      "image/svg+xml": [
       "<?xml version=\"1.0\" encoding=\"UTF-8\" standalone=\"no\"?><svg xmlns=\"http://www.w3.org/2000/svg\" xmlns:xlink=\"http://www.w3.org/1999/xlink\" contentScriptType=\"application/ecmascript\" contentStyleType=\"text/css\" height=\"358px\" preserveAspectRatio=\"none\" style=\"width:242px;height:358px;\" version=\"1.1\" viewBox=\"0 0 242 358\" width=\"242px\" zoomAndPan=\"magnify\"><defs><filter height=\"300%\" id=\"frcl2ue4dgbvo\" width=\"300%\" x=\"-1\" y=\"-1\"><feGaussianBlur result=\"blurOut\" stdDeviation=\"2.0\"/><feColorMatrix in=\"blurOut\" result=\"blurOut2\" type=\"matrix\" values=\"0 0 0 0 0 0 0 0 0 0 0 0 0 0 0 0 0 0 .4 0\"/><feOffset dx=\"4.0\" dy=\"4.0\" in=\"blurOut2\" result=\"blurOut3\"/><feBlend in=\"SourceGraphic\" in2=\"blurOut3\" mode=\"normal\"/></filter></defs><g><!--MD5=[fbc87193dbaf4d95561dea2c320d4a47]\n",
       "cluster E1--><a href=\"psysml:fa6c1bf2-147a-4459-8db1-4c7f2c0aa92b\" target=\"_top\" title=\"psysml:fa6c1bf2-147a-4459-8db1-4c7f2c0aa92b\" xlink:actuate=\"onRequest\" xlink:href=\"psysml:fa6c1bf2-147a-4459-8db1-4c7f2c0aa92b\" xlink:show=\"new\" xlink:title=\"psysml:fa6c1bf2-147a-4459-8db1-4c7f2c0aa92b\" xlink:type=\"simple\"><polygon fill=\"#FFFFFF\" filter=\"url(#frcl2ue4dgbvo)\" points=\"16,6,210,6,217,28.2969,220,28.2969,220,346,16,346,16,6\" style=\"stroke: #000000; stroke-width: 1.5;\"/><line style=\"stroke: #000000; stroke-width: 1.5;\" x1=\"16\" x2=\"217\" y1=\"28.2969\" y2=\"28.2969\"/><text fill=\"#000000\" font-family=\"sans-serif\" font-size=\"14\" font-weight=\"bold\" lengthAdjust=\"spacingAndGlyphs\" textLength=\"188\" x=\"20\" y=\"20.9951\">TextualRepresentationTest</text></a><!--MD5=[b4997ac47864f28c2f74865a473b2911]\n",
       "class E2--><a href=\"psysml:7c3e9caa-80d9-4c4c-adc7-c498b9bc223a\" target=\"_top\" title=\"psysml:7c3e9caa-80d9-4c4c-adc7-c498b9bc223a\" xlink:actuate=\"onRequest\" xlink:href=\"psysml:7c3e9caa-80d9-4c4c-adc7-c498b9bc223a\" xlink:show=\"new\" xlink:title=\"psysml:7c3e9caa-80d9-4c4c-adc7-c498b9bc223a\" xlink:type=\"simple\"><rect fill=\"#FEFECE\" filter=\"url(#frcl2ue4dgbvo)\" height=\"58.7422\" id=\"E2\" style=\"stroke: #A80036; stroke-width: 1.5;\" width=\"67\" x=\"84.5\" y=\"164\"/><text fill=\"#000000\" font-family=\"sans-serif\" font-size=\"12\" font-style=\"italic\" lengthAdjust=\"spacingAndGlyphs\" textLength=\"65\" x=\"85.5\" y=\"180.1387\">«item def»</text><text fill=\"#000000\" font-family=\"sans-serif\" font-size=\"12\" lengthAdjust=\"spacingAndGlyphs\" textLength=\"8\" x=\"114\" y=\"194.1074\">C</text><line style=\"stroke: #A80036; stroke-width: 1.5;\" x1=\"85.5\" x2=\"150.5\" y1=\"201.9375\" y2=\"201.9375\"/><text fill=\"#000000\" font-family=\"sans-serif\" font-size=\"11\" lengthAdjust=\"spacingAndGlyphs\" textLength=\"38\" x=\"90.5\" y=\"216.1479\">x: Real</text></a><!--MD5=[09b614a08d8cba4a07c9adeb5e0fee81]\n",
       "class E3--><a href=\"psysml:c1adaef5-a811-466e-b0b1-353fc6834fce\" target=\"_top\" title=\"psysml:c1adaef5-a811-466e-b0b1-353fc6834fce\" xlink:actuate=\"onRequest\" xlink:href=\"psysml:c1adaef5-a811-466e-b0b1-353fc6834fce\" xlink:show=\"new\" xlink:title=\"psysml:c1adaef5-a811-466e-b0b1-353fc6834fce\" xlink:type=\"simple\"><rect fill=\"#FEFECE\" filter=\"url(#frcl2ue4dgbvo)\" height=\"45.9375\" id=\"E3\" rx=\"10\" ry=\"10\" style=\"stroke: #A80036; stroke-width: 1.5;\" width=\"121\" x=\"57.5\" y=\"284\"/><text fill=\"#000000\" font-family=\"sans-serif\" font-size=\"12\" font-style=\"italic\" lengthAdjust=\"spacingAndGlyphs\" textLength=\"119\" x=\"58.5\" y=\"300.1387\">«assertConstraint»</text><text fill=\"#000000\" font-family=\"sans-serif\" font-size=\"12\" lengthAdjust=\"spacingAndGlyphs\" textLength=\"76\" x=\"80\" y=\"314.1074\">x_constraint</text><line style=\"stroke: #A80036; stroke-width: 1.5;\" x1=\"58.5\" x2=\"177.5\" y1=\"321.9375\" y2=\"321.9375\"/></a><!--MD5=[ebbe1d658d1005bcc118a6aa81145e00]\n",
       "class E4--><a href=\"psysml:13c6c11f-d2db-48ba-8729-714e79a71a8b\" target=\"_top\" title=\"psysml:13c6c11f-d2db-48ba-8729-714e79a71a8b\" xlink:actuate=\"onRequest\" xlink:href=\"psysml:13c6c11f-d2db-48ba-8729-714e79a71a8b\" xlink:show=\"new\" xlink:title=\"psysml:13c6c11f-d2db-48ba-8729-714e79a71a8b\" xlink:type=\"simple\"><rect fill=\"#FEFECE\" filter=\"url(#frcl2ue4dgbvo)\" height=\"45.9375\" id=\"E4\" style=\"stroke: #A80036; stroke-width: 1.5;\" width=\"79\" x=\"78.5\" y=\"41\"/><text fill=\"#000000\" font-family=\"sans-serif\" font-size=\"12\" font-style=\"italic\" lengthAdjust=\"spacingAndGlyphs\" textLength=\"77\" x=\"79.5\" y=\"57.1387\">«action def»</text><text fill=\"#000000\" font-family=\"sans-serif\" font-size=\"12\" lengthAdjust=\"spacingAndGlyphs\" textLength=\"27\" x=\"104.5\" y=\"71.1074\">setX</text><line style=\"stroke: #A80036; stroke-width: 1.5;\" x1=\"79.5\" x2=\"156.5\" y1=\"78.9375\" y2=\"78.9375\"/></a><!--MD5=[209b3feb70ccb6233bfe1053d122c12c]\n",
       "reverse link E2 to E3--><a href=\"psysml:6c3bd0c1-e9ea-4acc-b51f-d35f7aefdb06\" target=\"_top\" title=\"psysml:6c3bd0c1-e9ea-4acc-b51f-d35f7aefdb06\" xlink:actuate=\"onRequest\" xlink:href=\"psysml:6c3bd0c1-e9ea-4acc-b51f-d35f7aefdb06\" xlink:show=\"new\" xlink:title=\"psysml:6c3bd0c1-e9ea-4acc-b51f-d35f7aefdb06\" xlink:type=\"simple\"><path d=\"M118,236.23 C118,252.35 118,270.14 118,283.72 \" fill=\"none\" id=\"E2&lt;-E3\" style=\"stroke: #A80036; stroke-width: 1.0;\"/><polygon fill=\"#A80036\" points=\"118,223.21,114,229.21,118,235.21,122,229.21,118,223.21\" style=\"stroke: #A80036; stroke-width: 1.0;\"/><text fill=\"#000000\" font-family=\"sans-serif\" font-size=\"13\" lengthAdjust=\"spacingAndGlyphs\" textLength=\"7\" x=\"110.1031\" y=\"272.9245\">*</text></a><!--MD5=[ddeed8deb2209213b62e6cfabaa108b2]\n",
       "reverse link E4 to E2--><a href=\"psysml:b2a1dac5-50e3-4d3d-9a14-28fff19dad0f\" target=\"_top\" title=\"psysml:b2a1dac5-50e3-4d3d-9a14-28fff19dad0f\" xlink:actuate=\"onRequest\" xlink:href=\"psysml:b2a1dac5-50e3-4d3d-9a14-28fff19dad0f\" xlink:show=\"new\" xlink:title=\"psysml:b2a1dac5-50e3-4d3d-9a14-28fff19dad0f\" xlink:type=\"simple\"><path d=\"M118,100.48 C118,120.46 118,145.09 118,163.84 \" fill=\"none\" id=\"E4&lt;-E2\" style=\"stroke: #A80036; stroke-width: 1.0;\"/><polygon fill=\"#FFFFFF\" points=\"118,87.21,114,93.21,118,99.21,122,93.21,118,87.21\" style=\"stroke: #A80036; stroke-width: 1.0;\"/><text fill=\"#000000\" font-family=\"sans-serif\" font-size=\"13\" lengthAdjust=\"spacingAndGlyphs\" textLength=\"7\" x=\"119\" y=\"130.0669\">c</text></a><!--MD5=[78d540876a3613cc58628f888c72aaad]\n",
       "@startuml\r\n",
       "skinparam wrapWidth 300\r\n",
       "hide circle\r\n",
       "\r\n",
       "package \"TextualRepresentationTest\" as E1  [[psysml:fa6c1bf2-147a-4459-8db1-4c7f2c0aa92b ]]  {\r\n",
       "comp def \"C\" as E2  <<(T,blue) item def>> [[psysml:7c3e9caa-80d9-4c4c-adc7-c498b9bc223a ]] {\r\n",
       "x: Real\r\n",
       "}\r\n",
       "comp usage \"x_constraint\" as E3  <<(T,blue) assertConstraint>> [[psysml:c1adaef5-a811-466e-b0b1-353fc6834fce ]] {\r\n",
       "}\r\n",
       "comp def \"setX\" as E4  <<(T,blue) action def>> [[psysml:13c6c11f-d2db-48ba-8729-714e79a71a8b ]] {\r\n",
       "}\r\n",
       "}\r\n",
       "E2 *- - \"*\"E3 [[psysml:6c3bd0c1-e9ea-4acc-b51f-d35f7aefdb06 ]] \r\n",
       "E4 o- - E2 [[psysml:b2a1dac5-50e3-4d3d-9a14-28fff19dad0f ]] : c\r\n",
       "@enduml\r\n",
       "\n",
       "PlantUML version 1.2020.13(Sat Jun 13 12:26:38 UTC 2020)\n",
       "(EPL source distribution)\n",
       "Java Runtime: OpenJDK Runtime Environment\n",
       "JVM: OpenJDK 64-Bit Server VM\n",
       "Default Encoding: UTF-8\n",
       "Language: en\n",
       "Country: null\n",
       "--></g></svg>"
      ]
     },
     "execution_count": 24,
     "metadata": {},
     "output_type": "execute_result"
    }
   ],
   "source": [
    "%viz --style=\"STDCOLOR\" --view=\"Tree\" \"TextualRepresentationTest\""
   ]
  },
  {
   "cell_type": "code",
   "execution_count": 25,
   "id": "0308931d",
   "metadata": {
    "execution": {
     "iopub.execute_input": "2021-09-27T07:18:33.777976Z",
     "iopub.status.busy": "2021-09-27T07:18:33.777526Z",
     "iopub.status.idle": "2021-09-27T07:18:33.782005Z",
     "shell.execute_reply": "2021-09-27T07:18:33.782343Z"
    }
   },
   "outputs": [
    {
     "data": {
      "image/svg+xml": [
       "<?xml version=\"1.0\" encoding=\"UTF-8\" standalone=\"no\"?><svg xmlns=\"http://www.w3.org/2000/svg\" xmlns:xlink=\"http://www.w3.org/1999/xlink\" contentScriptType=\"application/ecmascript\" contentStyleType=\"text/css\" height=\"12px\" preserveAspectRatio=\"none\" style=\"width:12px;height:12px;\" version=\"1.1\" viewBox=\"0 0 12 12\" width=\"12px\" zoomAndPan=\"magnify\"><defs/><g><!--MD5=[aeeef50f102b80d730deb6443d14f702]\n",
       "@startuml\r\n",
       "skinparam wrapWidth 300\r\n",
       "hide circle\r\n",
       "\r\n",
       "@enduml\r\n",
       "\n",
       "PlantUML version 1.2020.13(Sat Jun 13 12:26:38 UTC 2020)\n",
       "(EPL source distribution)\n",
       "Java Runtime: OpenJDK Runtime Environment\n",
       "JVM: OpenJDK 64-Bit Server VM\n",
       "Default Encoding: UTF-8\n",
       "Language: en\n",
       "Country: null\n",
       "--></g></svg>"
      ]
     },
     "execution_count": 25,
     "metadata": {},
     "output_type": "execute_result"
    }
   ],
   "source": [
    "%viz --style=\"STDCOLOR\" --view=\"State\" \"TextualRepresentationTest\""
   ]
  },
  {
   "cell_type": "code",
   "execution_count": 26,
   "id": "9bd2c3ee",
   "metadata": {
    "execution": {
     "iopub.execute_input": "2021-09-27T07:18:33.832598Z",
     "iopub.status.busy": "2021-09-27T07:18:33.832165Z",
     "iopub.status.idle": "2021-09-27T07:18:33.860498Z",
     "shell.execute_reply": "2021-09-27T07:18:33.860656Z"
    }
   },
   "outputs": [
    {
     "data": {
      "image/svg+xml": [
       "<?xml version=\"1.0\" encoding=\"UTF-8\" standalone=\"no\"?><svg xmlns=\"http://www.w3.org/2000/svg\" xmlns:xlink=\"http://www.w3.org/1999/xlink\" contentScriptType=\"application/ecmascript\" contentStyleType=\"text/css\" height=\"179px\" preserveAspectRatio=\"none\" style=\"width:284px;height:179px;\" version=\"1.1\" viewBox=\"0 0 284 179\" width=\"284px\" zoomAndPan=\"magnify\"><defs><filter height=\"300%\" id=\"fkm8r3x49bc20\" width=\"300%\" x=\"-1\" y=\"-1\"><feGaussianBlur result=\"blurOut\" stdDeviation=\"2.0\"/><feColorMatrix in=\"blurOut\" result=\"blurOut2\" type=\"matrix\" values=\"0 0 0 0 0 0 0 0 0 0 0 0 0 0 0 0 0 0 .4 0\"/><feOffset dx=\"4.0\" dy=\"4.0\" in=\"blurOut2\" result=\"blurOut3\"/><feBlend in=\"SourceGraphic\" in2=\"blurOut3\" mode=\"normal\"/></filter></defs><g><!--MD5=[fbc87193dbaf4d95561dea2c320d4a47]\n",
       "cluster E1--><a href=\"psysml:fa6c1bf2-147a-4459-8db1-4c7f2c0aa92b\" target=\"_top\" title=\"psysml:fa6c1bf2-147a-4459-8db1-4c7f2c0aa92b\" xlink:actuate=\"onRequest\" xlink:href=\"psysml:fa6c1bf2-147a-4459-8db1-4c7f2c0aa92b\" xlink:show=\"new\" xlink:title=\"psysml:fa6c1bf2-147a-4459-8db1-4c7f2c0aa92b\" xlink:type=\"simple\"><polygon fill=\"#FFFFFF\" filter=\"url(#fkm8r3x49bc20)\" points=\"16,6,210,6,217,28.2969,262,28.2969,262,167,16,167,16,6\" style=\"stroke: #000000; stroke-width: 1.5;\"/><line style=\"stroke: #000000; stroke-width: 1.5;\" x1=\"16\" x2=\"217\" y1=\"28.2969\" y2=\"28.2969\"/><text fill=\"#000000\" font-family=\"sans-serif\" font-size=\"14\" font-weight=\"bold\" lengthAdjust=\"spacingAndGlyphs\" textLength=\"188\" x=\"20\" y=\"20.9951\">TextualRepresentationTest</text></a><!--MD5=[d5e69f78d87373223dbae638b30a9c99]\n",
       "cluster E3--><a href=\"psysml:13c6c11f-d2db-48ba-8729-714e79a71a8b\" target=\"_top\" title=\"psysml:13c6c11f-d2db-48ba-8729-714e79a71a8b\" xlink:actuate=\"onRequest\" xlink:href=\"psysml:13c6c11f-d2db-48ba-8729-714e79a71a8b\" xlink:show=\"new\" xlink:title=\"psysml:13c6c11f-d2db-48ba-8729-714e79a71a8b\" xlink:type=\"simple\"><rect fill=\"#FFFFFF\" filter=\"url(#fkm8r3x49bc20)\" height=\"88.5\" id=\"E3\" style=\"stroke: #A80036; stroke-width: 1.5;\" width=\"96\" x=\"120.5\" y=\"62.5\"/><rect fill=\"#FEFECE\" height=\"37.9375\" style=\"stroke: #A80036; stroke-width: 1.5;\" width=\"96\" x=\"120.5\" y=\"62.5\"/><text fill=\"#000000\" font-family=\"sans-serif\" font-size=\"12\" font-style=\"italic\" lengthAdjust=\"spacingAndGlyphs\" textLength=\"77\" x=\"130\" y=\"78.6387\">«action def»</text><text fill=\"#000000\" font-family=\"sans-serif\" font-size=\"12\" lengthAdjust=\"spacingAndGlyphs\" textLength=\"27\" x=\"155\" y=\"92.6074\">setX</text></a><g id=\"E1.E2\"><a href=\"psysml:7c3e9caa-80d9-4c4c-adc7-c498b9bc223a\" target=\"_top\" title=\"psysml:7c3e9caa-80d9-4c4c-adc7-c498b9bc223a\" xlink:actuate=\"onRequest\" xlink:href=\"psysml:7c3e9caa-80d9-4c4c-adc7-c498b9bc223a\" xlink:show=\"new\" xlink:title=\"psysml:7c3e9caa-80d9-4c4c-adc7-c498b9bc223a\" xlink:type=\"simple\"><rect fill=\"#FEFECE\" filter=\"url(#fkm8r3x49bc20)\" height=\"42.9375\" id=\"E2\" style=\"stroke: #A80036; stroke-width: 1.5;\" width=\"72\" x=\"32\" y=\"41\"/><text fill=\"#000000\" font-family=\"sans-serif\" font-size=\"12\" font-style=\"italic\" lengthAdjust=\"spacingAndGlyphs\" textLength=\"65\" x=\"35.5\" y=\"57.1387\">«item def»</text><text fill=\"#000000\" font-family=\"sans-serif\" font-size=\"12\" lengthAdjust=\"spacingAndGlyphs\" textLength=\"8\" x=\"64\" y=\"71.1074\">C</text></a></g><text fill=\"#000000\" font-family=\"sans-serif\" font-size=\"14\" lengthAdjust=\"spacingAndGlyphs\" textLength=\"8\" x=\"141\" y=\"41.1982\">c</text><rect fill=\"#A80036\" height=\"12\" style=\"stroke: #FEFECE; stroke-width: 1.5;\" width=\"12\" x=\"139\" y=\"56.5\"/><text fill=\"#000000\" font-family=\"sans-serif\" font-size=\"14\" lengthAdjust=\"spacingAndGlyphs\" textLength=\"38\" x=\"173\" y=\"41.1982\">newX</text><rect fill=\"#A80036\" height=\"12\" style=\"stroke: #FEFECE; stroke-width: 1.5;\" width=\"12\" x=\"186\" y=\"56.5\"/><!--MD5=[26bc9f1cd762df5f12e601eae2a47521]\n",
       "@startuml\r\n",
       "skinparam ranksep 10\r\n",
       "skinparam rectangle {\r\n",
       " backgroundColor<<block>> LightGreen\r\n",
       "}\r\n",
       "skinparam wrapWidth 300\r\n",
       "hide circle\r\n",
       "\r\n",
       "package \"TextualRepresentationTest\" as E1  [[psysml:fa6c1bf2-147a-4459-8db1-4c7f2c0aa92b ]]  {\r\n",
       "def \"C\" as E2  <<(T,blue) item def>> [[psysml:7c3e9caa-80d9-4c4c-adc7-c498b9bc223a ]] \r\n",
       "rec def \"setX\" as E3  <<(T,blue) action def>> [[psysml:13c6c11f-d2db-48ba-8729-714e79a71a8b ]] {\r\n",
       "portin \"c\" as E4  [[psysml:b2a1dac5-50e3-4d3d-9a14-28fff19dad0f ]] \r\n",
       "portin \"newX\" as E5  [[psysml:3095d82e-c5b2-4faf-b7d1-254d70a18586 ]] \r\n",
       "}\r\n",
       "\r\n",
       "}\r\n",
       "@enduml\r\n",
       "\n",
       "PlantUML version 1.2020.13(Sat Jun 13 12:26:38 UTC 2020)\n",
       "(EPL source distribution)\n",
       "Java Runtime: OpenJDK Runtime Environment\n",
       "JVM: OpenJDK 64-Bit Server VM\n",
       "Default Encoding: UTF-8\n",
       "Language: en\n",
       "Country: null\n",
       "--></g></svg>"
      ]
     },
     "execution_count": 26,
     "metadata": {},
     "output_type": "execute_result"
    }
   ],
   "source": [
    "%viz --style=\"STDCOLOR\" --view=\"Interconnection\" \"TextualRepresentationTest\""
   ]
  },
  {
   "cell_type": "code",
   "execution_count": 27,
   "id": "7507bed2",
   "metadata": {
    "execution": {
     "iopub.execute_input": "2021-09-27T07:18:33.911544Z",
     "iopub.status.busy": "2021-09-27T07:18:33.911206Z",
     "iopub.status.idle": "2021-09-27T07:18:33.930538Z",
     "shell.execute_reply": "2021-09-27T07:18:33.930353Z"
    }
   },
   "outputs": [
    {
     "data": {
      "image/svg+xml": [
       "<?xml version=\"1.0\" encoding=\"UTF-8\" standalone=\"no\"?><svg xmlns=\"http://www.w3.org/2000/svg\" xmlns:xlink=\"http://www.w3.org/1999/xlink\" contentScriptType=\"application/ecmascript\" contentStyleType=\"text/css\" height=\"134px\" preserveAspectRatio=\"none\" style=\"width:158px;height:134px;\" version=\"1.1\" viewBox=\"0 0 158 134\" width=\"158px\" zoomAndPan=\"magnify\"><defs><filter height=\"300%\" id=\"f1tpglhn4xhfsw\" width=\"300%\" x=\"-1\" y=\"-1\"><feGaussianBlur result=\"blurOut\" stdDeviation=\"2.0\"/><feColorMatrix in=\"blurOut\" result=\"blurOut2\" type=\"matrix\" values=\"0 0 0 0 0 0 0 0 0 0 0 0 0 0 0 0 0 0 .4 0\"/><feOffset dx=\"4.0\" dy=\"4.0\" in=\"blurOut2\" result=\"blurOut3\"/><feBlend in=\"SourceGraphic\" in2=\"blurOut3\" mode=\"normal\"/></filter></defs><g><!--MD5=[fbc87193dbaf4d95561dea2c320d4a47]\n",
       "cluster E1--><a href=\"psysml:13c6c11f-d2db-48ba-8729-714e79a71a8b\" target=\"_top\" title=\"psysml:13c6c11f-d2db-48ba-8729-714e79a71a8b\" xlink:actuate=\"onRequest\" xlink:href=\"psysml:13c6c11f-d2db-48ba-8729-714e79a71a8b\" xlink:show=\"new\" xlink:title=\"psysml:13c6c11f-d2db-48ba-8729-714e79a71a8b\" xlink:type=\"simple\"><rect fill=\"#FFFFFF\" filter=\"url(#f1tpglhn4xhfsw)\" height=\"73\" id=\"E1\" style=\"stroke: #A80036; stroke-width: 1.5;\" width=\"132\" x=\"7\" y=\"42.0986\"/><rect fill=\"#FEFECE\" height=\"37.9375\" style=\"stroke: #A80036; stroke-width: 1.5;\" width=\"132\" x=\"7\" y=\"42.0986\"/><text fill=\"#000000\" font-family=\"sans-serif\" font-size=\"12\" font-style=\"italic\" lengthAdjust=\"spacingAndGlyphs\" textLength=\"77\" x=\"34.5\" y=\"58.2373\">«action def»</text><text fill=\"#000000\" font-family=\"sans-serif\" font-size=\"12\" lengthAdjust=\"spacingAndGlyphs\" textLength=\"27\" x=\"59.5\" y=\"72.2061\">setX</text></a><text fill=\"#000000\" font-family=\"sans-serif\" font-size=\"14\" lengthAdjust=\"spacingAndGlyphs\" textLength=\"8\" x=\"21\" y=\"20.7969\">c</text><rect fill=\"#A80036\" height=\"12\" style=\"stroke: #FEFECE; stroke-width: 1.5;\" width=\"12\" x=\"19\" y=\"36.0986\"/><text fill=\"#000000\" font-family=\"sans-serif\" font-size=\"14\" lengthAdjust=\"spacingAndGlyphs\" textLength=\"38\" x=\"53\" y=\"20.7969\">newX</text><rect fill=\"#A80036\" height=\"12\" style=\"stroke: #FEFECE; stroke-width: 1.5;\" width=\"12\" x=\"66\" y=\"36.0986\"/><!--MD5=[476426bd0aec944df272cd9888928af0]\n",
       "@startuml\r\n",
       "skinparam ranksep 8\r\n",
       "skinparam wrapWidth 300\r\n",
       "hide circle\r\n",
       "\r\n",
       "rec def \"setX\" as E1  <<(T,blue) action def>> [[psysml:13c6c11f-d2db-48ba-8729-714e79a71a8b ]] {\r\n",
       "portin \"c\" as E2  [[psysml:b2a1dac5-50e3-4d3d-9a14-28fff19dad0f ]] \r\n",
       "portin \"newX\" as E3  [[psysml:3095d82e-c5b2-4faf-b7d1-254d70a18586 ]] \r\n",
       "}\r\n",
       "\r\n",
       "@enduml\r\n",
       "\n",
       "PlantUML version 1.2020.13(Sat Jun 13 12:26:38 UTC 2020)\n",
       "(EPL source distribution)\n",
       "Java Runtime: OpenJDK Runtime Environment\n",
       "JVM: OpenJDK 64-Bit Server VM\n",
       "Default Encoding: UTF-8\n",
       "Language: en\n",
       "Country: null\n",
       "--></g></svg>"
      ]
     },
     "execution_count": 27,
     "metadata": {},
     "output_type": "execute_result"
    }
   ],
   "source": [
    "%viz --style=\"STDCOLOR\" --view=\"Action\" \"TextualRepresentationTest\""
   ]
  },
  {
   "cell_type": "code",
   "execution_count": 28,
   "id": "8e8d8710",
   "metadata": {
    "execution": {
     "iopub.execute_input": "2021-09-27T07:18:33.980808Z",
     "iopub.status.busy": "2021-09-27T07:18:33.980604Z",
     "iopub.status.idle": "2021-09-27T07:18:33.986674Z",
     "shell.execute_reply": "2021-09-27T07:18:33.986939Z"
    }
   },
   "outputs": [
    {
     "data": {
      "image/svg+xml": [
       "<?xml version=\"1.0\" encoding=\"UTF-8\" standalone=\"no\"?><svg xmlns=\"http://www.w3.org/2000/svg\" xmlns:xlink=\"http://www.w3.org/1999/xlink\" contentScriptType=\"application/ecmascript\" contentStyleType=\"text/css\" height=\"12px\" preserveAspectRatio=\"none\" style=\"width:12px;height:12px;\" version=\"1.1\" viewBox=\"0 0 12 12\" width=\"12px\" zoomAndPan=\"magnify\"><defs/><g><!--MD5=[6c4bca67b4d71758159a5a7f1f1e1fc2]\n",
       "@startuml\r\n",
       "skinparam roundcorner 20\r\n",
       "skinparam BoxPadding 20\r\n",
       "skinparam SequenceBoxBackgroundColor #white\r\n",
       "skinparam style strictuml\r\n",
       "skinparam maxMessageSize 100\r\n",
       "skinparam wrapWidth 300\r\n",
       "hide circle\r\n",
       "\r\n",
       "@enduml\r\n",
       "\n",
       "PlantUML version 1.2020.13(Sat Jun 13 12:26:38 UTC 2020)\n",
       "(EPL source distribution)\n",
       "Java Runtime: OpenJDK Runtime Environment\n",
       "JVM: OpenJDK 64-Bit Server VM\n",
       "Default Encoding: UTF-8\n",
       "Language: en\n",
       "Country: null\n",
       "--></g></svg>"
      ]
     },
     "execution_count": 28,
     "metadata": {},
     "output_type": "execute_result"
    }
   ],
   "source": [
    "%viz --style=\"STDCOLOR\" --view=\"Sequence\" \"TextualRepresentationTest\""
   ]
  },
  {
   "cell_type": "code",
   "execution_count": 29,
   "id": "c436092e",
   "metadata": {
    "execution": {
     "iopub.execute_input": "2021-09-27T07:18:34.037515Z",
     "iopub.status.busy": "2021-09-27T07:18:34.037095Z",
     "iopub.status.idle": "2021-09-27T07:18:34.073972Z",
     "shell.execute_reply": "2021-09-27T07:18:34.073775Z"
    }
   },
   "outputs": [
    {
     "data": {
      "image/svg+xml": [
       "<?xml version=\"1.0\" encoding=\"UTF-8\" standalone=\"no\"?><svg xmlns=\"http://www.w3.org/2000/svg\" xmlns:xlink=\"http://www.w3.org/1999/xlink\" contentScriptType=\"application/ecmascript\" contentStyleType=\"text/css\" height=\"244px\" preserveAspectRatio=\"none\" style=\"width:345px;height:244px;\" version=\"1.1\" viewBox=\"0 0 345 244\" width=\"345px\" zoomAndPan=\"magnify\"><defs><filter height=\"300%\" id=\"fydb6kt7lnv6p\" width=\"300%\" x=\"-1\" y=\"-1\"><feGaussianBlur result=\"blurOut\" stdDeviation=\"2.0\"/><feColorMatrix in=\"blurOut\" result=\"blurOut2\" type=\"matrix\" values=\"0 0 0 0 0 0 0 0 0 0 0 0 0 0 0 0 0 0 .4 0\"/><feOffset dx=\"4.0\" dy=\"4.0\" in=\"blurOut2\" result=\"blurOut3\"/><feBlend in=\"SourceGraphic\" in2=\"blurOut3\" mode=\"normal\"/></filter></defs><g><!--MD5=[fbc87193dbaf4d95561dea2c320d4a47]\n",
       "cluster E1--><a href=\"psysml:fa6c1bf2-147a-4459-8db1-4c7f2c0aa92b\" target=\"_top\" title=\"psysml:fa6c1bf2-147a-4459-8db1-4c7f2c0aa92b\" xlink:actuate=\"onRequest\" xlink:href=\"psysml:fa6c1bf2-147a-4459-8db1-4c7f2c0aa92b\" xlink:show=\"new\" xlink:title=\"psysml:fa6c1bf2-147a-4459-8db1-4c7f2c0aa92b\" xlink:type=\"simple\"><polygon fill=\"#FFFFFF\" filter=\"url(#fydb6kt7lnv6p)\" points=\"16,6,210,6,217,28.2969,323,28.2969,323,232.5,16,232.5,16,6\" style=\"stroke: #000000; stroke-width: 1.5;\"/><line style=\"stroke: #000000; stroke-width: 1.5;\" x1=\"16\" x2=\"217\" y1=\"28.2969\" y2=\"28.2969\"/><text fill=\"#000000\" font-family=\"sans-serif\" font-size=\"14\" font-weight=\"bold\" lengthAdjust=\"spacingAndGlyphs\" textLength=\"188\" x=\"20\" y=\"20.9951\">TextualRepresentationTest</text></a><!--MD5=[f6df4d0ebaf0b5dfb2ced0ae5af7c670]\n",
       "cluster E4--><a href=\"psysml:13c6c11f-d2db-48ba-8729-714e79a71a8b\" target=\"_top\" title=\"psysml:13c6c11f-d2db-48ba-8729-714e79a71a8b\" xlink:actuate=\"onRequest\" xlink:href=\"psysml:13c6c11f-d2db-48ba-8729-714e79a71a8b\" xlink:show=\"new\" xlink:title=\"psysml:13c6c11f-d2db-48ba-8729-714e79a71a8b\" xlink:type=\"simple\"><rect fill=\"#FFFFFF\" filter=\"url(#fydb6kt7lnv6p)\" height=\"146\" id=\"E4\" style=\"stroke: #A80036; stroke-width: 1.5;\" width=\"132\" x=\"175\" y=\"70.5\"/><rect fill=\"#FEFECE\" height=\"37.9375\" style=\"stroke: #A80036; stroke-width: 1.5;\" width=\"132\" x=\"175\" y=\"70.5\"/><text fill=\"#000000\" font-family=\"sans-serif\" font-size=\"12\" font-style=\"italic\" lengthAdjust=\"spacingAndGlyphs\" textLength=\"77\" x=\"202.5\" y=\"86.6387\">«action def»</text><text fill=\"#000000\" font-family=\"sans-serif\" font-size=\"12\" lengthAdjust=\"spacingAndGlyphs\" textLength=\"27\" x=\"227.5\" y=\"100.6074\">setX</text></a><!--MD5=[b4997ac47864f28c2f74865a473b2911]\n",
       "class E2--><a href=\"psysml:7c3e9caa-80d9-4c4c-adc7-c498b9bc223a\" target=\"_top\" title=\"psysml:7c3e9caa-80d9-4c4c-adc7-c498b9bc223a\" xlink:actuate=\"onRequest\" xlink:href=\"psysml:7c3e9caa-80d9-4c4c-adc7-c498b9bc223a\" xlink:show=\"new\" xlink:title=\"psysml:7c3e9caa-80d9-4c4c-adc7-c498b9bc223a\" xlink:type=\"simple\"><rect fill=\"#FEFECE\" filter=\"url(#fydb6kt7lnv6p)\" height=\"58.7422\" id=\"E2\" style=\"stroke: #A80036; stroke-width: 1.5;\" width=\"67\" x=\"59.5\" y=\"41\"/><text fill=\"#000000\" font-family=\"sans-serif\" font-size=\"12\" font-style=\"italic\" lengthAdjust=\"spacingAndGlyphs\" textLength=\"65\" x=\"60.5\" y=\"57.1387\">«item def»</text><text fill=\"#000000\" font-family=\"sans-serif\" font-size=\"12\" lengthAdjust=\"spacingAndGlyphs\" textLength=\"8\" x=\"89\" y=\"71.1074\">C</text><line style=\"stroke: #A80036; stroke-width: 1.5;\" x1=\"60.5\" x2=\"125.5\" y1=\"78.9375\" y2=\"78.9375\"/><text fill=\"#000000\" font-family=\"sans-serif\" font-size=\"11\" lengthAdjust=\"spacingAndGlyphs\" textLength=\"38\" x=\"65.5\" y=\"93.1479\">x: Real</text></a><!--MD5=[09b614a08d8cba4a07c9adeb5e0fee81]\n",
       "class E3--><a href=\"psysml:c1adaef5-a811-466e-b0b1-353fc6834fce\" target=\"_top\" title=\"psysml:c1adaef5-a811-466e-b0b1-353fc6834fce\" xlink:actuate=\"onRequest\" xlink:href=\"psysml:c1adaef5-a811-466e-b0b1-353fc6834fce\" xlink:show=\"new\" xlink:title=\"psysml:c1adaef5-a811-466e-b0b1-353fc6834fce\" xlink:type=\"simple\"><rect fill=\"#FEFECE\" filter=\"url(#fydb6kt7lnv6p)\" height=\"45.9375\" id=\"E3\" rx=\"10\" ry=\"10\" style=\"stroke: #A80036; stroke-width: 1.5;\" width=\"121\" x=\"32.5\" y=\"160\"/><text fill=\"#000000\" font-family=\"sans-serif\" font-size=\"12\" font-style=\"italic\" lengthAdjust=\"spacingAndGlyphs\" textLength=\"119\" x=\"33.5\" y=\"176.1387\">«assertConstraint»</text><text fill=\"#000000\" font-family=\"sans-serif\" font-size=\"12\" lengthAdjust=\"spacingAndGlyphs\" textLength=\"76\" x=\"55\" y=\"190.1074\">x_constraint</text><line style=\"stroke: #A80036; stroke-width: 1.5;\" x1=\"33.5\" x2=\"152.5\" y1=\"197.9375\" y2=\"197.9375\"/></a><text fill=\"#000000\" font-family=\"sans-serif\" font-size=\"14\" lengthAdjust=\"spacingAndGlyphs\" textLength=\"8\" x=\"189\" y=\"49.1982\">c</text><rect fill=\"#A80036\" height=\"12\" style=\"stroke: #FEFECE; stroke-width: 1.5;\" width=\"12\" x=\"187\" y=\"64.5\"/><text fill=\"#000000\" font-family=\"sans-serif\" font-size=\"14\" lengthAdjust=\"spacingAndGlyphs\" textLength=\"38\" x=\"221\" y=\"49.1982\">newX</text><rect fill=\"#A80036\" height=\"12\" style=\"stroke: #FEFECE; stroke-width: 1.5;\" width=\"12\" x=\"234\" y=\"64.5\"/><!--MD5=[209b3feb70ccb6233bfe1053d122c12c]\n",
       "reverse link E2 to E3--><a href=\"psysml:6c3bd0c1-e9ea-4acc-b51f-d35f7aefdb06\" target=\"_top\" title=\"psysml:6c3bd0c1-e9ea-4acc-b51f-d35f7aefdb06\" xlink:actuate=\"onRequest\" xlink:href=\"psysml:6c3bd0c1-e9ea-4acc-b51f-d35f7aefdb06\" xlink:show=\"new\" xlink:title=\"psysml:6c3bd0c1-e9ea-4acc-b51f-d35f7aefdb06\" xlink:type=\"simple\"><path d=\"M93,113.51 C93,129.22 93,146.43 93,159.68 \" fill=\"none\" id=\"E2&lt;-E3\" style=\"stroke: #A80036; stroke-width: 1.0;\"/><polygon fill=\"#A80036\" points=\"93,100.24,89,106.24,93,112.24,97,106.24,93,100.24\" style=\"stroke: #A80036; stroke-width: 1.0;\"/><text fill=\"#000000\" font-family=\"sans-serif\" font-size=\"13\" lengthAdjust=\"spacingAndGlyphs\" textLength=\"7\" x=\"85.1031\" y=\"148.8743\">*</text></a><!--MD5=[5dbdf73359989bee84eff8647d70cef8]\n",
       "@startuml\r\n",
       "skinparam wrapWidth 300\r\n",
       "hide circle\r\n",
       "\r\n",
       "package \"TextualRepresentationTest\" as E1  [[psysml:fa6c1bf2-147a-4459-8db1-4c7f2c0aa92b ]]  {\r\n",
       "comp def \"C\" as E2  <<(T,blue) item def>> [[psysml:7c3e9caa-80d9-4c4c-adc7-c498b9bc223a ]] {\r\n",
       "x: Real\r\n",
       "}\r\n",
       "comp usage \"x_constraint\" as E3  <<(T,blue) assertConstraint>> [[psysml:c1adaef5-a811-466e-b0b1-353fc6834fce ]] {\r\n",
       "}\r\n",
       "rec def \"setX\" as E4  <<(T,blue) action def>> [[psysml:13c6c11f-d2db-48ba-8729-714e79a71a8b ]] {\r\n",
       "portin \"c\" as E5  [[psysml:b2a1dac5-50e3-4d3d-9a14-28fff19dad0f ]] \r\n",
       "portin \"newX\" as E6  [[psysml:3095d82e-c5b2-4faf-b7d1-254d70a18586 ]] \r\n",
       "}\r\n",
       "\r\n",
       "}\r\n",
       "E2 *- - \"*\"E3 [[psysml:6c3bd0c1-e9ea-4acc-b51f-d35f7aefdb06 ]] \r\n",
       "@enduml\r\n",
       "\n",
       "PlantUML version 1.2020.13(Sat Jun 13 12:26:38 UTC 2020)\n",
       "(EPL source distribution)\n",
       "Java Runtime: OpenJDK Runtime Environment\n",
       "JVM: OpenJDK 64-Bit Server VM\n",
       "Default Encoding: UTF-8\n",
       "Language: en\n",
       "Country: null\n",
       "--></g></svg>"
      ]
     },
     "execution_count": 29,
     "metadata": {},
     "output_type": "execute_result"
    }
   ],
   "source": [
    "%viz --style=\"STDCOLOR\" --view=\"MIXED\" \"TextualRepresentationTest\""
   ]
  },
  {
   "cell_type": "code",
   "execution_count": 30,
   "id": "8004d51d",
   "metadata": {
    "execution": {
     "iopub.execute_input": "2021-09-27T07:18:34.124098Z",
     "iopub.status.busy": "2021-09-27T07:18:34.123832Z",
     "iopub.status.idle": "2021-09-27T07:18:34.181877Z",
     "shell.execute_reply": "2021-09-27T07:18:34.181499Z"
    }
   },
   "outputs": [
    {
     "data": {
      "image/svg+xml": [
       "<?xml version=\"1.0\" encoding=\"UTF-8\" standalone=\"no\"?><svg xmlns=\"http://www.w3.org/2000/svg\" xmlns:xlink=\"http://www.w3.org/1999/xlink\" contentScriptType=\"application/ecmascript\" contentStyleType=\"text/css\" height=\"238px\" preserveAspectRatio=\"none\" style=\"width:371px;height:238px;\" version=\"1.1\" viewBox=\"0 0 371 238\" width=\"371px\" zoomAndPan=\"magnify\"><defs><filter height=\"300%\" id=\"fpjm8co7duiy0\" width=\"300%\" x=\"-1\" y=\"-1\"><feGaussianBlur result=\"blurOut\" stdDeviation=\"2.0\"/><feColorMatrix in=\"blurOut\" result=\"blurOut2\" type=\"matrix\" values=\"0 0 0 0 0 0 0 0 0 0 0 0 0 0 0 0 0 0 .4 0\"/><feOffset dx=\"4.0\" dy=\"4.0\" in=\"blurOut2\" result=\"blurOut3\"/><feBlend in=\"SourceGraphic\" in2=\"blurOut3\" mode=\"normal\"/></filter></defs><g><!--MD5=[fbc87193dbaf4d95561dea2c320d4a47]\n",
       "cluster E1--><a href=\"psysml:fa6c1bf2-147a-4459-8db1-4c7f2c0aa92b\" target=\"_top\" title=\"psysml:fa6c1bf2-147a-4459-8db1-4c7f2c0aa92b\" xlink:actuate=\"onRequest\" xlink:href=\"psysml:fa6c1bf2-147a-4459-8db1-4c7f2c0aa92b\" xlink:show=\"new\" xlink:title=\"psysml:fa6c1bf2-147a-4459-8db1-4c7f2c0aa92b\" xlink:type=\"simple\"><polygon fill=\"#FFFFFF\" filter=\"url(#fpjm8co7duiy0)\" points=\"16,6,210,6,217,28.2969,349,28.2969,349,226.5,16,226.5,16,6\" style=\"stroke: #000000; stroke-width: 1.5;\"/><line style=\"stroke: #000000; stroke-width: 1.5;\" x1=\"16\" x2=\"217\" y1=\"28.2969\" y2=\"28.2969\"/><text fill=\"#000000\" font-family=\"sans-serif\" font-size=\"14\" font-weight=\"bold\" lengthAdjust=\"spacingAndGlyphs\" textLength=\"188\" x=\"20\" y=\"20.9951\">TextualRepresentationTest</text></a><!--MD5=[f6df4d0ebaf0b5dfb2ced0ae5af7c670]\n",
       "cluster E4--><a href=\"psysml:13c6c11f-d2db-48ba-8729-714e79a71a8b\" target=\"_top\" title=\"psysml:13c6c11f-d2db-48ba-8729-714e79a71a8b\" xlink:actuate=\"onRequest\" xlink:href=\"psysml:13c6c11f-d2db-48ba-8729-714e79a71a8b\" xlink:show=\"new\" xlink:title=\"psysml:13c6c11f-d2db-48ba-8729-714e79a71a8b\" xlink:type=\"simple\"><rect fill=\"#FFFFFF\" filter=\"url(#fpjm8co7duiy0)\" height=\"143\" id=\"E4\" style=\"stroke: #A80036; stroke-width: 1.5;\" width=\"132\" x=\"201\" y=\"67.5\"/><rect fill=\"#FEFECE\" height=\"37.9375\" style=\"stroke: #A80036; stroke-width: 1.5;\" width=\"132\" x=\"201\" y=\"67.5\"/><text fill=\"#000000\" font-family=\"sans-serif\" font-size=\"12\" font-style=\"italic\" lengthAdjust=\"spacingAndGlyphs\" textLength=\"77\" x=\"228.5\" y=\"83.6387\">«action def»</text><text fill=\"#000000\" font-family=\"sans-serif\" font-size=\"12\" lengthAdjust=\"spacingAndGlyphs\" textLength=\"27\" x=\"253.5\" y=\"97.6074\">setX</text></a><!--MD5=[b4997ac47864f28c2f74865a473b2911]\n",
       "class E2--><a href=\"psysml:7c3e9caa-80d9-4c4c-adc7-c498b9bc223a\" target=\"_top\" title=\"psysml:7c3e9caa-80d9-4c4c-adc7-c498b9bc223a\" xlink:actuate=\"onRequest\" xlink:href=\"psysml:7c3e9caa-80d9-4c4c-adc7-c498b9bc223a\" xlink:show=\"new\" xlink:title=\"psysml:7c3e9caa-80d9-4c4c-adc7-c498b9bc223a\" xlink:type=\"simple\"><rect fill=\"#FEFECE\" filter=\"url(#fpjm8co7duiy0)\" height=\"52.8047\" id=\"E2\" style=\"stroke: #A80036; stroke-width: 1.5;\" width=\"50\" x=\"81\" y=\"41\"/><ellipse cx=\"100.5\" cy=\"57\" fill=\"#008000\" rx=\"11\" ry=\"11\" style=\"stroke: #A80036; stroke-width: 1.0;\"/><path d=\"M97.375,62 L97.375,51.4063 L100.6094,51.4063 Q102.5156,51.4063 103.4219,52.1563 Q104.3438,52.9063 104.3438,54.0781 Q104.3438,54.7656 103.9531,55.4219 Q103.5781,56.0781 102.8594,56.375 Q103.7188,56.75 104.2344,57.4375 Q104.75,58.125 104.75,58.9375 Q104.75,60.3125 103.7188,61.1563 Q102.7031,62 100.5938,62 L97.375,62 Z M99.2969,55.6406 L100.4531,55.6406 Q101.5781,55.6406 101.9844,55.2656 Q102.4063,54.875 102.4063,54.25 Q102.4063,53.6719 101.9844,53.3125 Q101.5625,52.9531 100.625,52.9531 L99.2969,52.9531 L99.2969,55.6406 Z M99.2969,60.4219 L100.7969,60.4219 Q101.7031,60.4219 102.2344,60.0313 Q102.7656,59.6406 102.7656,58.8906 Q102.7656,58.125 102.2656,57.6563 Q101.7656,57.1719 100.5,57.1719 L99.2969,57.1719 L99.2969,60.4219 Z \"/><text fill=\"#000000\" font-family=\"sans-serif\" font-size=\"12\" lengthAdjust=\"spacingAndGlyphs\" textLength=\"8\" x=\"115.5\" y=\"61.1543\">C</text><line style=\"stroke: #A80036; stroke-width: 1.5;\" x1=\"82\" x2=\"130\" y1=\"73\" y2=\"73\"/><text fill=\"#000000\" font-family=\"sans-serif\" font-size=\"11\" lengthAdjust=\"spacingAndGlyphs\" textLength=\"38\" x=\"87\" y=\"87.2104\">x: Real</text></a><!--MD5=[09b614a08d8cba4a07c9adeb5e0fee81]\n",
       "class E3--><a href=\"psysml:c1adaef5-a811-466e-b0b1-353fc6834fce\" target=\"_top\" title=\"psysml:c1adaef5-a811-466e-b0b1-353fc6834fce\" xlink:actuate=\"onRequest\" xlink:href=\"psysml:c1adaef5-a811-466e-b0b1-353fc6834fce\" xlink:show=\"new\" xlink:title=\"psysml:c1adaef5-a811-466e-b0b1-353fc6834fce\" xlink:type=\"simple\"><rect fill=\"#FEFECE\" filter=\"url(#fpjm8co7duiy0)\" height=\"45.9375\" id=\"E3\" rx=\"10\" ry=\"10\" style=\"stroke: #A80036; stroke-width: 1.5;\" width=\"147\" x=\"32.5\" y=\"154\"/><ellipse cx=\"47.5\" cy=\"172.9688\" fill=\"#FFA500\" rx=\"11\" ry=\"11\" style=\"stroke: #A80036; stroke-width: 1.0;\"/><path d=\"M47.25,178.4375 Q45.5,178.4375 44.5469,177.4063 Q43.6094,176.3594 43.6094,174.5156 L43.6094,167.625 L45.6719,167.625 L45.6719,167.7813 Q45.5781,167.875 45.5469,168.0156 Q45.5313,168.1406 45.5313,168.4063 L45.5313,174.5313 Q45.5313,175.625 45.9063,176.25 Q46.2813,176.875 47.2656,176.875 Q48.25,176.875 48.6406,176.25 Q49.0313,175.625 49.0313,174.4844 L49.0313,167.625 L50.9063,167.625 L50.9063,174.4688 Q50.9063,176.5 49.875,177.4688 Q48.8594,178.4375 47.25,178.4375 Z \"/><text fill=\"#000000\" font-family=\"sans-serif\" font-size=\"12\" font-style=\"italic\" lengthAdjust=\"spacingAndGlyphs\" textLength=\"119\" x=\"59.5\" y=\"170.1387\">«assertConstraint»</text><text fill=\"#000000\" font-family=\"sans-serif\" font-size=\"12\" lengthAdjust=\"spacingAndGlyphs\" textLength=\"76\" x=\"81\" y=\"184.1074\">x_constraint</text><line style=\"stroke: #A80036; stroke-width: 1.5;\" x1=\"33.5\" x2=\"178.5\" y1=\"191.9375\" y2=\"191.9375\"/></a><text fill=\"#000000\" font-family=\"sans-serif\" font-size=\"14\" lengthAdjust=\"spacingAndGlyphs\" textLength=\"8\" x=\"215\" y=\"46.1982\">c</text><rect fill=\"#A80036\" height=\"12\" style=\"stroke: #FEFECE; stroke-width: 1.5;\" width=\"12\" x=\"213\" y=\"61.5\"/><text fill=\"#000000\" font-family=\"sans-serif\" font-size=\"14\" lengthAdjust=\"spacingAndGlyphs\" textLength=\"38\" x=\"247\" y=\"46.1982\">newX</text><rect fill=\"#A80036\" height=\"12\" style=\"stroke: #FEFECE; stroke-width: 1.5;\" width=\"12\" x=\"260\" y=\"61.5\"/><!--MD5=[209b3feb70ccb6233bfe1053d122c12c]\n",
       "reverse link E2 to E3--><a href=\"psysml:6c3bd0c1-e9ea-4acc-b51f-d35f7aefdb06\" target=\"_top\" title=\"psysml:6c3bd0c1-e9ea-4acc-b51f-d35f7aefdb06\" xlink:actuate=\"onRequest\" xlink:href=\"psysml:6c3bd0c1-e9ea-4acc-b51f-d35f7aefdb06\" xlink:show=\"new\" xlink:title=\"psysml:6c3bd0c1-e9ea-4acc-b51f-d35f7aefdb06\" xlink:type=\"simple\"><path d=\"M106,107.34 C106,122.93 106,140.35 106,153.74 \" fill=\"none\" id=\"E2&lt;-E3\" style=\"stroke: #A80036; stroke-width: 1.0;\"/><polygon fill=\"#A80036\" points=\"106,94.25,102,100.25,106,106.25,110,100.25,106,94.25\" style=\"stroke: #A80036; stroke-width: 1.0;\"/><text fill=\"#000000\" font-family=\"sans-serif\" font-size=\"13\" lengthAdjust=\"spacingAndGlyphs\" textLength=\"7\" x=\"98.1031\" y=\"142.9497\">*</text></a><!--MD5=[80f14b934194d810f465dc4b762c1a18]\n",
       "@startuml\r\n",
       " \r\n",
       "package \"TextualRepresentationTest\" as E1  [[psysml:fa6c1bf2-147a-4459-8db1-4c7f2c0aa92b ]]  {\r\n",
       "comp def \"C\" as E2 << << (B,green) >> [[psysml:7c3e9caa-80d9-4c4c-adc7-c498b9bc223a ]] {\r\n",
       "x: Real\r\n",
       "}\r\n",
       "comp usage \"x_constraint\" as E3 << <<(U,orange) assertConstraint>> [[psysml:c1adaef5-a811-466e-b0b1-353fc6834fce ]] {\r\n",
       "}\r\n",
       "rec def \"setX\" as E4 << <<(B,lemonchiffon) action def>> [[psysml:13c6c11f-d2db-48ba-8729-714e79a71a8b ]] {\r\n",
       "portin \"c\" as E5  [[psysml:b2a1dac5-50e3-4d3d-9a14-28fff19dad0f ]] \r\n",
       "portin \"newX\" as E6  [[psysml:3095d82e-c5b2-4faf-b7d1-254d70a18586 ]] \r\n",
       "}\r\n",
       "\r\n",
       "}\r\n",
       "E2 *- - \"*\"E3 [[psysml:6c3bd0c1-e9ea-4acc-b51f-d35f7aefdb06 ]] \r\n",
       "@enduml\r\n",
       "\n",
       "PlantUML version 1.2020.13(Sat Jun 13 12:26:38 UTC 2020)\n",
       "(EPL source distribution)\n",
       "Java Runtime: OpenJDK Runtime Environment\n",
       "JVM: OpenJDK 64-Bit Server VM\n",
       "Default Encoding: UTF-8\n",
       "Language: en\n",
       "Country: null\n",
       "--></g></svg>"
      ]
     },
     "execution_count": 30,
     "metadata": {},
     "output_type": "execute_result"
    }
   ],
   "source": [
    "%viz --style=\"PLANTUML\" --view=\"Default\" \"TextualRepresentationTest\""
   ]
  },
  {
   "cell_type": "code",
   "execution_count": 31,
   "id": "04a30993",
   "metadata": {
    "execution": {
     "iopub.execute_input": "2021-09-27T07:18:34.231827Z",
     "iopub.status.busy": "2021-09-27T07:18:34.231411Z",
     "iopub.status.idle": "2021-09-27T07:18:34.264879Z",
     "shell.execute_reply": "2021-09-27T07:18:34.264528Z"
    }
   },
   "outputs": [
    {
     "data": {
      "image/svg+xml": [
       "<?xml version=\"1.0\" encoding=\"UTF-8\" standalone=\"no\"?><svg xmlns=\"http://www.w3.org/2000/svg\" xmlns:xlink=\"http://www.w3.org/1999/xlink\" contentScriptType=\"application/ecmascript\" contentStyleType=\"text/css\" height=\"352px\" preserveAspectRatio=\"none\" style=\"width:242px;height:352px;\" version=\"1.1\" viewBox=\"0 0 242 352\" width=\"242px\" zoomAndPan=\"magnify\"><defs><filter height=\"300%\" id=\"f2100sz3wk39\" width=\"300%\" x=\"-1\" y=\"-1\"><feGaussianBlur result=\"blurOut\" stdDeviation=\"2.0\"/><feColorMatrix in=\"blurOut\" result=\"blurOut2\" type=\"matrix\" values=\"0 0 0 0 0 0 0 0 0 0 0 0 0 0 0 0 0 0 .4 0\"/><feOffset dx=\"4.0\" dy=\"4.0\" in=\"blurOut2\" result=\"blurOut3\"/><feBlend in=\"SourceGraphic\" in2=\"blurOut3\" mode=\"normal\"/></filter></defs><g><!--MD5=[fbc87193dbaf4d95561dea2c320d4a47]\n",
       "cluster E1--><a href=\"psysml:fa6c1bf2-147a-4459-8db1-4c7f2c0aa92b\" target=\"_top\" title=\"psysml:fa6c1bf2-147a-4459-8db1-4c7f2c0aa92b\" xlink:actuate=\"onRequest\" xlink:href=\"psysml:fa6c1bf2-147a-4459-8db1-4c7f2c0aa92b\" xlink:show=\"new\" xlink:title=\"psysml:fa6c1bf2-147a-4459-8db1-4c7f2c0aa92b\" xlink:type=\"simple\"><polygon fill=\"#FFFFFF\" filter=\"url(#f2100sz3wk39)\" points=\"16,6,210,6,217,28.2969,220,28.2969,220,340,16,340,16,6\" style=\"stroke: #000000; stroke-width: 1.5;\"/><line style=\"stroke: #000000; stroke-width: 1.5;\" x1=\"16\" x2=\"217\" y1=\"28.2969\" y2=\"28.2969\"/><text fill=\"#000000\" font-family=\"sans-serif\" font-size=\"14\" font-weight=\"bold\" lengthAdjust=\"spacingAndGlyphs\" textLength=\"188\" x=\"20\" y=\"20.9951\">TextualRepresentationTest</text></a><!--MD5=[b4997ac47864f28c2f74865a473b2911]\n",
       "class E2--><a href=\"psysml:7c3e9caa-80d9-4c4c-adc7-c498b9bc223a\" target=\"_top\" title=\"psysml:7c3e9caa-80d9-4c4c-adc7-c498b9bc223a\" xlink:actuate=\"onRequest\" xlink:href=\"psysml:7c3e9caa-80d9-4c4c-adc7-c498b9bc223a\" xlink:show=\"new\" xlink:title=\"psysml:7c3e9caa-80d9-4c4c-adc7-c498b9bc223a\" xlink:type=\"simple\"><rect fill=\"#FEFECE\" filter=\"url(#f2100sz3wk39)\" height=\"52.8047\" id=\"E2\" style=\"stroke: #A80036; stroke-width: 1.5;\" width=\"50\" x=\"93\" y=\"164\"/><ellipse cx=\"112.5\" cy=\"180\" fill=\"#008000\" rx=\"11\" ry=\"11\" style=\"stroke: #A80036; stroke-width: 1.0;\"/><path d=\"M109.375,185 L109.375,174.4063 L112.6094,174.4063 Q114.5156,174.4063 115.4219,175.1563 Q116.3438,175.9063 116.3438,177.0781 Q116.3438,177.7656 115.9531,178.4219 Q115.5781,179.0781 114.8594,179.375 Q115.7188,179.75 116.2344,180.4375 Q116.75,181.125 116.75,181.9375 Q116.75,183.3125 115.7188,184.1563 Q114.7031,185 112.5938,185 L109.375,185 Z M111.2969,178.6406 L112.4531,178.6406 Q113.5781,178.6406 113.9844,178.2656 Q114.4063,177.875 114.4063,177.25 Q114.4063,176.6719 113.9844,176.3125 Q113.5625,175.9531 112.625,175.9531 L111.2969,175.9531 L111.2969,178.6406 Z M111.2969,183.4219 L112.7969,183.4219 Q113.7031,183.4219 114.2344,183.0313 Q114.7656,182.6406 114.7656,181.8906 Q114.7656,181.125 114.2656,180.6563 Q113.7656,180.1719 112.5,180.1719 L111.2969,180.1719 L111.2969,183.4219 Z \"/><text fill=\"#000000\" font-family=\"sans-serif\" font-size=\"12\" lengthAdjust=\"spacingAndGlyphs\" textLength=\"8\" x=\"127.5\" y=\"184.1543\">C</text><line style=\"stroke: #A80036; stroke-width: 1.5;\" x1=\"94\" x2=\"142\" y1=\"196\" y2=\"196\"/><text fill=\"#000000\" font-family=\"sans-serif\" font-size=\"11\" lengthAdjust=\"spacingAndGlyphs\" textLength=\"38\" x=\"99\" y=\"210.2104\">x: Real</text></a><!--MD5=[09b614a08d8cba4a07c9adeb5e0fee81]\n",
       "class E3--><a href=\"psysml:c1adaef5-a811-466e-b0b1-353fc6834fce\" target=\"_top\" title=\"psysml:c1adaef5-a811-466e-b0b1-353fc6834fce\" xlink:actuate=\"onRequest\" xlink:href=\"psysml:c1adaef5-a811-466e-b0b1-353fc6834fce\" xlink:show=\"new\" xlink:title=\"psysml:c1adaef5-a811-466e-b0b1-353fc6834fce\" xlink:type=\"simple\"><rect fill=\"#FEFECE\" filter=\"url(#f2100sz3wk39)\" height=\"45.9375\" id=\"E3\" rx=\"10\" ry=\"10\" style=\"stroke: #A80036; stroke-width: 1.5;\" width=\"147\" x=\"44.5\" y=\"278\"/><ellipse cx=\"59.5\" cy=\"296.9688\" fill=\"#FFA500\" rx=\"11\" ry=\"11\" style=\"stroke: #A80036; stroke-width: 1.0;\"/><path d=\"M59.25,302.4375 Q57.5,302.4375 56.5469,301.4063 Q55.6094,300.3594 55.6094,298.5156 L55.6094,291.625 L57.6719,291.625 L57.6719,291.7813 Q57.5781,291.875 57.5469,292.0156 Q57.5313,292.1406 57.5313,292.4063 L57.5313,298.5313 Q57.5313,299.625 57.9063,300.25 Q58.2813,300.875 59.2656,300.875 Q60.25,300.875 60.6406,300.25 Q61.0313,299.625 61.0313,298.4844 L61.0313,291.625 L62.9063,291.625 L62.9063,298.4688 Q62.9063,300.5 61.875,301.4688 Q60.8594,302.4375 59.25,302.4375 Z \"/><text fill=\"#000000\" font-family=\"sans-serif\" font-size=\"12\" font-style=\"italic\" lengthAdjust=\"spacingAndGlyphs\" textLength=\"119\" x=\"71.5\" y=\"294.1387\">«assertConstraint»</text><text fill=\"#000000\" font-family=\"sans-serif\" font-size=\"12\" lengthAdjust=\"spacingAndGlyphs\" textLength=\"76\" x=\"93\" y=\"308.1074\">x_constraint</text><line style=\"stroke: #A80036; stroke-width: 1.5;\" x1=\"45.5\" x2=\"190.5\" y1=\"315.9375\" y2=\"315.9375\"/></a><!--MD5=[ebbe1d658d1005bcc118a6aa81145e00]\n",
       "class E4--><a href=\"psysml:13c6c11f-d2db-48ba-8729-714e79a71a8b\" target=\"_top\" title=\"psysml:13c6c11f-d2db-48ba-8729-714e79a71a8b\" xlink:actuate=\"onRequest\" xlink:href=\"psysml:13c6c11f-d2db-48ba-8729-714e79a71a8b\" xlink:show=\"new\" xlink:title=\"psysml:13c6c11f-d2db-48ba-8729-714e79a71a8b\" xlink:type=\"simple\"><rect fill=\"#FEFECE\" filter=\"url(#f2100sz3wk39)\" height=\"45.9375\" id=\"E4\" style=\"stroke: #A80036; stroke-width: 1.5;\" width=\"105\" x=\"65.5\" y=\"41\"/><ellipse cx=\"80.5\" cy=\"59.9688\" fill=\"#FFFACD\" rx=\"11\" ry=\"11\" style=\"stroke: #A80036; stroke-width: 1.0;\"/><path d=\"M77.375,64.9688 L77.375,54.375 L80.6094,54.375 Q82.5156,54.375 83.4219,55.125 Q84.3438,55.875 84.3438,57.0469 Q84.3438,57.7344 83.9531,58.3906 Q83.5781,59.0469 82.8594,59.3438 Q83.7188,59.7188 84.2344,60.4063 Q84.75,61.0938 84.75,61.9063 Q84.75,63.2813 83.7188,64.125 Q82.7031,64.9688 80.5938,64.9688 L77.375,64.9688 Z M79.2969,58.6094 L80.4531,58.6094 Q81.5781,58.6094 81.9844,58.2344 Q82.4063,57.8438 82.4063,57.2188 Q82.4063,56.6406 81.9844,56.2813 Q81.5625,55.9219 80.625,55.9219 L79.2969,55.9219 L79.2969,58.6094 Z M79.2969,63.3906 L80.7969,63.3906 Q81.7031,63.3906 82.2344,63 Q82.7656,62.6094 82.7656,61.8594 Q82.7656,61.0938 82.2656,60.625 Q81.7656,60.1406 80.5,60.1406 L79.2969,60.1406 L79.2969,63.3906 Z \"/><text fill=\"#000000\" font-family=\"sans-serif\" font-size=\"12\" font-style=\"italic\" lengthAdjust=\"spacingAndGlyphs\" textLength=\"77\" x=\"92.5\" y=\"57.1387\">«action def»</text><text fill=\"#000000\" font-family=\"sans-serif\" font-size=\"12\" lengthAdjust=\"spacingAndGlyphs\" textLength=\"27\" x=\"117.5\" y=\"71.1074\">setX</text><line style=\"stroke: #A80036; stroke-width: 1.5;\" x1=\"66.5\" x2=\"169.5\" y1=\"78.9375\" y2=\"78.9375\"/></a><!--MD5=[209b3feb70ccb6233bfe1053d122c12c]\n",
       "reverse link E2 to E3--><a href=\"psysml:6c3bd0c1-e9ea-4acc-b51f-d35f7aefdb06\" target=\"_top\" title=\"psysml:6c3bd0c1-e9ea-4acc-b51f-d35f7aefdb06\" xlink:actuate=\"onRequest\" xlink:href=\"psysml:6c3bd0c1-e9ea-4acc-b51f-d35f7aefdb06\" xlink:show=\"new\" xlink:title=\"psysml:6c3bd0c1-e9ea-4acc-b51f-d35f7aefdb06\" xlink:type=\"simple\"><path d=\"M118,230.53 C118,246.41 118,264.18 118,277.78 \" fill=\"none\" id=\"E2&lt;-E3\" style=\"stroke: #A80036; stroke-width: 1.0;\"/><polygon fill=\"#A80036\" points=\"118,217.21,114,223.21,118,229.21,122,223.21,118,217.21\" style=\"stroke: #A80036; stroke-width: 1.0;\"/><text fill=\"#000000\" font-family=\"sans-serif\" font-size=\"13\" lengthAdjust=\"spacingAndGlyphs\" textLength=\"7\" x=\"110.1031\" y=\"266.9999\">*</text></a><!--MD5=[ddeed8deb2209213b62e6cfabaa108b2]\n",
       "reverse link E4 to E2--><a href=\"psysml:b2a1dac5-50e3-4d3d-9a14-28fff19dad0f\" target=\"_top\" title=\"psysml:b2a1dac5-50e3-4d3d-9a14-28fff19dad0f\" xlink:actuate=\"onRequest\" xlink:href=\"psysml:b2a1dac5-50e3-4d3d-9a14-28fff19dad0f\" xlink:show=\"new\" xlink:title=\"psysml:b2a1dac5-50e3-4d3d-9a14-28fff19dad0f\" xlink:type=\"simple\"><path d=\"M118,100.31 C118,120.44 118,145.23 118,163.56 \" fill=\"none\" id=\"E4&lt;-E2\" style=\"stroke: #A80036; stroke-width: 1.0;\"/><polygon fill=\"#FFFFFF\" points=\"118,87.26,114,93.26,118,99.26,122,93.26,118,87.26\" style=\"stroke: #A80036; stroke-width: 1.0;\"/><text fill=\"#000000\" font-family=\"sans-serif\" font-size=\"13\" lengthAdjust=\"spacingAndGlyphs\" textLength=\"7\" x=\"119\" y=\"130.0669\">c</text></a><!--MD5=[ce2b8e587e26a9029c7ea6a0c6adadcf]\n",
       "@startuml\r\n",
       " \r\n",
       "package \"TextualRepresentationTest\" as E1  [[psysml:fa6c1bf2-147a-4459-8db1-4c7f2c0aa92b ]]  {\r\n",
       "comp def \"C\" as E2 << << (B,green) >> [[psysml:7c3e9caa-80d9-4c4c-adc7-c498b9bc223a ]] {\r\n",
       "x: Real\r\n",
       "}\r\n",
       "comp usage \"x_constraint\" as E3 << <<(U,orange) assertConstraint>> [[psysml:c1adaef5-a811-466e-b0b1-353fc6834fce ]] {\r\n",
       "}\r\n",
       "comp def \"setX\" as E4 << <<(B,lemonchiffon) action def>> [[psysml:13c6c11f-d2db-48ba-8729-714e79a71a8b ]] {\r\n",
       "}\r\n",
       "}\r\n",
       "E2 *- - \"*\"E3 [[psysml:6c3bd0c1-e9ea-4acc-b51f-d35f7aefdb06 ]] \r\n",
       "E4 o- - E2 [[psysml:b2a1dac5-50e3-4d3d-9a14-28fff19dad0f ]] : c\r\n",
       "@enduml\r\n",
       "\n",
       "PlantUML version 1.2020.13(Sat Jun 13 12:26:38 UTC 2020)\n",
       "(EPL source distribution)\n",
       "Java Runtime: OpenJDK Runtime Environment\n",
       "JVM: OpenJDK 64-Bit Server VM\n",
       "Default Encoding: UTF-8\n",
       "Language: en\n",
       "Country: null\n",
       "--></g></svg>"
      ]
     },
     "execution_count": 31,
     "metadata": {},
     "output_type": "execute_result"
    }
   ],
   "source": [
    "%viz --style=\"PLANTUML\" --view=\"Tree\" \"TextualRepresentationTest\""
   ]
  },
  {
   "cell_type": "code",
   "execution_count": 32,
   "id": "f17a5060",
   "metadata": {
    "execution": {
     "iopub.execute_input": "2021-09-27T07:18:34.314419Z",
     "iopub.status.busy": "2021-09-27T07:18:34.314173Z",
     "iopub.status.idle": "2021-09-27T07:18:34.402753Z",
     "shell.execute_reply": "2021-09-27T07:18:34.402046Z"
    }
   },
   "outputs": [
    {
     "data": {
      "image/svg+xml": [
       "<?xml version=\"1.0\" encoding=\"UTF-8\" standalone=\"no\"?><svg xmlns=\"http://www.w3.org/2000/svg\" xmlns:xlink=\"http://www.w3.org/1999/xlink\" contentScriptType=\"application/ecmascript\" contentStyleType=\"text/css\" height=\"300px\" preserveAspectRatio=\"none\" style=\"width:603px;height:300px;background:#000000;\" version=\"1.1\" viewBox=\"0 0 603 300\" width=\"603px\" zoomAndPan=\"magnify\"><defs/><g><rect fill=\"#030A27\" height=\"1\" style=\"stroke: #030A27; stroke-width: 1.0;\" width=\"1\" x=\"0\" y=\"0\"/><rect fill=\"#FFFFFF\" height=\"202.8012\" style=\"stroke: #FFFFFF; stroke-width: 1.0;\" width=\"602\" x=\"0\" y=\"0\"/><text fill=\"#000000\" font-family=\"sans-serif\" font-size=\"12\" font-weight=\"bold\" lengthAdjust=\"spacingAndGlyphs\" textLength=\"139\" x=\"5\" y=\"16.1387\">Welcome to PlantUML!</text><text fill=\"#000000\" font-family=\"sans-serif\" font-size=\"12\" lengthAdjust=\"spacingAndGlyphs\" textLength=\"0\" x=\"9\" y=\"30.1074\"/><text fill=\"#000000\" font-family=\"sans-serif\" font-size=\"12\" lengthAdjust=\"spacingAndGlyphs\" textLength=\"293\" x=\"5\" y=\"44.0762\">If you use this software, you accept its license.</text><text fill=\"#000000\" font-family=\"sans-serif\" font-size=\"12\" lengthAdjust=\"spacingAndGlyphs\" textLength=\"107\" x=\"5\" y=\"58.0449\">(details by typing</text><text fill=\"#000000\" font-family=\"monospace\" font-size=\"12\" lengthAdjust=\"spacingAndGlyphs\" textLength=\"42\" x=\"116\" y=\"58.595\">license</text><text fill=\"#000000\" font-family=\"sans-serif\" font-size=\"12\" lengthAdjust=\"spacingAndGlyphs\" textLength=\"56\" x=\"162\" y=\"58.0449\">keyword)</text><text fill=\"#000000\" font-family=\"sans-serif\" font-size=\"12\" lengthAdjust=\"spacingAndGlyphs\" textLength=\"0\" x=\"9\" y=\"72.0137\"/><text fill=\"#000000\" font-family=\"sans-serif\" font-size=\"12\" lengthAdjust=\"spacingAndGlyphs\" textLength=\"283\" x=\"5\" y=\"85.9824\">You can start with a simple UML Diagram like:</text><text fill=\"#000000\" font-family=\"sans-serif\" font-size=\"12\" lengthAdjust=\"spacingAndGlyphs\" textLength=\"0\" x=\"9\" y=\"99.9512\"/><text fill=\"#000000\" font-family=\"monospace\" font-size=\"12\" lengthAdjust=\"spacingAndGlyphs\" textLength=\"102\" x=\"5\" y=\"113.0893\">Bob-&gt;Alice: Hello</text><text fill=\"#000000\" font-family=\"sans-serif\" font-size=\"12\" lengthAdjust=\"spacingAndGlyphs\" textLength=\"0\" x=\"9\" y=\"126.508\"/><text fill=\"#000000\" font-family=\"sans-serif\" font-size=\"12\" lengthAdjust=\"spacingAndGlyphs\" textLength=\"14\" x=\"5\" y=\"140.4768\">Or</text><text fill=\"#000000\" font-family=\"sans-serif\" font-size=\"12\" lengthAdjust=\"spacingAndGlyphs\" textLength=\"0\" x=\"9\" y=\"154.4455\"/><text fill=\"#000000\" font-family=\"monospace\" font-size=\"12\" lengthAdjust=\"spacingAndGlyphs\" textLength=\"78\" x=\"5\" y=\"167.5837\">class Example</text><text fill=\"#000000\" font-family=\"sans-serif\" font-size=\"12\" lengthAdjust=\"spacingAndGlyphs\" textLength=\"0\" x=\"9\" y=\"181.0023\"/><text fill=\"#000000\" font-family=\"sans-serif\" font-size=\"12\" lengthAdjust=\"spacingAndGlyphs\" textLength=\"349\" x=\"5\" y=\"194.9711\">You will find more information about PlantUML syntax on</text><text fill=\"#000000\" font-family=\"sans-serif\" font-size=\"12\" lengthAdjust=\"spacingAndGlyphs\" text-decoration=\"underline\" textLength=\"129\" x=\"358\" y=\"194.9711\">https://plantuml.com</text><image height=\"71\" width=\"80\" x=\"516\" xlink:href=\"data:image/png;base64,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\" y=\"6\"/><rect fill=\"#000000\" height=\"96.4844\" style=\"stroke: #000000; stroke-width: 1.0;\" width=\"602\" x=\"0\" y=\"202.8012\"/><rect fill=\"#33FF02\" height=\"21.2969\" style=\"stroke: #33FF02; stroke-width: 1.0;\" width=\"145\" x=\"5\" y=\"207.8012\"/><text fill=\"#000000\" font-family=\"sans-serif\" font-size=\"14\" font-weight=\"bold\" lengthAdjust=\"spacingAndGlyphs\" textLength=\"143\" x=\"6\" y=\"222.8012\">[From string (line 2) ]</text><text fill=\"#33FF02\" font-family=\"sans-serif\" font-size=\"14\" font-weight=\"bold\" lengthAdjust=\"spacingAndGlyphs\" textLength=\"0\" x=\"9\" y=\"243.0981\"/><text fill=\"#33FF02\" font-family=\"sans-serif\" font-size=\"14\" font-weight=\"bold\" lengthAdjust=\"spacingAndGlyphs\" textLength=\"70\" x=\"5\" y=\"259.3949\">@startuml</text><text fill=\"#33FF02\" font-family=\"sans-serif\" font-size=\"14\" font-weight=\"bold\" lengthAdjust=\"spacingAndGlyphs\" textLength=\"0\" x=\"9\" y=\"275.6918\"/><text fill=\"#FF0000\" font-family=\"sans-serif\" font-size=\"14\" font-weight=\"bold\" lengthAdjust=\"spacingAndGlyphs\" textLength=\"124\" x=\"9\" y=\"291.9887\">Empty description</text><!--MD5=[f59edd8218d337f74d0c332fc6737304]\n",
       "@startuml\r\n",
       " \r\n",
       "@enduml\r\n",
       "\n",
       "PlantUML version 1.2020.13(Sat Jun 13 12:26:38 UTC 2020)\n",
       "(EPL source distribution)\n",
       "Java Runtime: OpenJDK Runtime Environment\n",
       "JVM: OpenJDK 64-Bit Server VM\n",
       "Default Encoding: UTF-8\n",
       "Language: en\n",
       "Country: null\n",
       "--></g></svg>"
      ]
     },
     "execution_count": 32,
     "metadata": {},
     "output_type": "execute_result"
    }
   ],
   "source": [
    "%viz --style=\"PLANTUML\" --view=\"State\" \"TextualRepresentationTest\""
   ]
  },
  {
   "cell_type": "code",
   "execution_count": 33,
   "id": "e4c85ab9",
   "metadata": {
    "execution": {
     "iopub.execute_input": "2021-09-27T07:18:34.453268Z",
     "iopub.status.busy": "2021-09-27T07:18:34.452808Z",
     "iopub.status.idle": "2021-09-27T07:18:34.470362Z",
     "shell.execute_reply": "2021-09-27T07:18:34.470033Z"
    }
   },
   "outputs": [
    {
     "data": {
      "image/svg+xml": [
       "<?xml version=\"1.0\" encoding=\"UTF-8\" standalone=\"no\"?><svg xmlns=\"http://www.w3.org/2000/svg\" xmlns:xlink=\"http://www.w3.org/1999/xlink\" contentScriptType=\"application/ecmascript\" contentStyleType=\"text/css\" height=\"176px\" preserveAspectRatio=\"none\" style=\"width:262px;height:176px;\" version=\"1.1\" viewBox=\"0 0 262 176\" width=\"262px\" zoomAndPan=\"magnify\"><defs><filter height=\"300%\" id=\"f1g1641umzj8ai\" width=\"300%\" x=\"-1\" y=\"-1\"><feGaussianBlur result=\"blurOut\" stdDeviation=\"2.0\"/><feColorMatrix in=\"blurOut\" result=\"blurOut2\" type=\"matrix\" values=\"0 0 0 0 0 0 0 0 0 0 0 0 0 0 0 0 0 0 .4 0\"/><feOffset dx=\"4.0\" dy=\"4.0\" in=\"blurOut2\" result=\"blurOut3\"/><feBlend in=\"SourceGraphic\" in2=\"blurOut3\" mode=\"normal\"/></filter></defs><g><!--MD5=[fbc87193dbaf4d95561dea2c320d4a47]\n",
       "cluster E1--><a href=\"psysml:fa6c1bf2-147a-4459-8db1-4c7f2c0aa92b\" target=\"_top\" title=\"psysml:fa6c1bf2-147a-4459-8db1-4c7f2c0aa92b\" xlink:actuate=\"onRequest\" xlink:href=\"psysml:fa6c1bf2-147a-4459-8db1-4c7f2c0aa92b\" xlink:show=\"new\" xlink:title=\"psysml:fa6c1bf2-147a-4459-8db1-4c7f2c0aa92b\" xlink:type=\"simple\"><polygon fill=\"#FFFFFF\" filter=\"url(#f1g1641umzj8ai)\" points=\"16,6,210,6,217,28.2969,240,28.2969,240,164,16,164,16,6\" style=\"stroke: #000000; stroke-width: 1.5;\"/><line style=\"stroke: #000000; stroke-width: 1.5;\" x1=\"16\" x2=\"217\" y1=\"28.2969\" y2=\"28.2969\"/><text fill=\"#000000\" font-family=\"sans-serif\" font-size=\"14\" font-weight=\"bold\" lengthAdjust=\"spacingAndGlyphs\" textLength=\"188\" x=\"20\" y=\"20.9951\">TextualRepresentationTest</text></a><!--MD5=[d5e69f78d87373223dbae638b30a9c99]\n",
       "cluster E3--><a href=\"psysml:13c6c11f-d2db-48ba-8729-714e79a71a8b\" target=\"_top\" title=\"psysml:13c6c11f-d2db-48ba-8729-714e79a71a8b\" xlink:actuate=\"onRequest\" xlink:href=\"psysml:13c6c11f-d2db-48ba-8729-714e79a71a8b\" xlink:show=\"new\" xlink:title=\"psysml:13c6c11f-d2db-48ba-8729-714e79a71a8b\" xlink:type=\"simple\"><rect fill=\"#FFFFFF\" filter=\"url(#f1g1641umzj8ai)\" height=\"87\" id=\"E3\" style=\"stroke: #A80036; stroke-width: 1.5;\" width=\"96\" x=\"98.5\" y=\"61\"/><rect fill=\"#FEFECE\" height=\"37.9375\" style=\"stroke: #A80036; stroke-width: 1.5;\" width=\"96\" x=\"98.5\" y=\"61\"/><text fill=\"#000000\" font-family=\"sans-serif\" font-size=\"12\" font-style=\"italic\" lengthAdjust=\"spacingAndGlyphs\" textLength=\"77\" x=\"108\" y=\"77.1387\">«action def»</text><text fill=\"#000000\" font-family=\"sans-serif\" font-size=\"12\" lengthAdjust=\"spacingAndGlyphs\" textLength=\"27\" x=\"133\" y=\"91.1074\">setX</text></a><g id=\"E1.E2\"><a href=\"psysml:7c3e9caa-80d9-4c4c-adc7-c498b9bc223a\" target=\"_top\" title=\"psysml:7c3e9caa-80d9-4c4c-adc7-c498b9bc223a\" xlink:actuate=\"onRequest\" xlink:href=\"psysml:7c3e9caa-80d9-4c4c-adc7-c498b9bc223a\" xlink:show=\"new\" xlink:title=\"psysml:7c3e9caa-80d9-4c4c-adc7-c498b9bc223a\" xlink:type=\"simple\"><rect fill=\"#FEFECE\" filter=\"url(#f1g1641umzj8ai)\" height=\"40\" id=\"E2\" style=\"stroke: #A80036; stroke-width: 1.5;\" width=\"50\" x=\"32\" y=\"41\"/><ellipse cx=\"51.5\" cy=\"57\" fill=\"#008000\" rx=\"11\" ry=\"11\" style=\"stroke: #A80036; stroke-width: 1.0;\"/><path d=\"M48.375,62 L48.375,51.4063 L51.6094,51.4063 Q53.5156,51.4063 54.4219,52.1563 Q55.3438,52.9063 55.3438,54.0781 Q55.3438,54.7656 54.9531,55.4219 Q54.5781,56.0781 53.8594,56.375 Q54.7188,56.75 55.2344,57.4375 Q55.75,58.125 55.75,58.9375 Q55.75,60.3125 54.7188,61.1563 Q53.7031,62 51.5938,62 L48.375,62 Z M50.2969,55.6406 L51.4531,55.6406 Q52.5781,55.6406 52.9844,55.2656 Q53.4063,54.875 53.4063,54.25 Q53.4063,53.6719 52.9844,53.3125 Q52.5625,52.9531 51.625,52.9531 L50.2969,52.9531 L50.2969,55.6406 Z M50.2969,60.4219 L51.7969,60.4219 Q52.7031,60.4219 53.2344,60.0313 Q53.7656,59.6406 53.7656,58.8906 Q53.7656,58.125 53.2656,57.6563 Q52.7656,57.1719 51.5,57.1719 L50.2969,57.1719 L50.2969,60.4219 Z \"/><text fill=\"#000000\" font-family=\"sans-serif\" font-size=\"12\" lengthAdjust=\"spacingAndGlyphs\" textLength=\"8\" x=\"66.5\" y=\"61.1543\">C</text></a></g><text fill=\"#000000\" font-family=\"sans-serif\" font-size=\"14\" lengthAdjust=\"spacingAndGlyphs\" textLength=\"8\" x=\"119\" y=\"39.6982\">c</text><rect fill=\"#A80036\" height=\"12\" style=\"stroke: #FEFECE; stroke-width: 1.5;\" width=\"12\" x=\"117\" y=\"55\"/><text fill=\"#000000\" font-family=\"sans-serif\" font-size=\"14\" lengthAdjust=\"spacingAndGlyphs\" textLength=\"38\" x=\"151\" y=\"39.6982\">newX</text><rect fill=\"#A80036\" height=\"12\" style=\"stroke: #FEFECE; stroke-width: 1.5;\" width=\"12\" x=\"164\" y=\"55\"/><!--MD5=[cee1fe8da706c7c25ce8c2b84e43a6e8]\n",
       "@startuml\r\n",
       "skinparam ranksep 10\r\n",
       "skinparam rectangle {\r\n",
       " backgroundColor<<block>> LightGreen\r\n",
       "}\r\n",
       " \r\n",
       "package \"TextualRepresentationTest\" as E1  [[psysml:fa6c1bf2-147a-4459-8db1-4c7f2c0aa92b ]]  {\r\n",
       "def \"C\" as E2 << << (B,green) >> [[psysml:7c3e9caa-80d9-4c4c-adc7-c498b9bc223a ]] \r\n",
       "rec def \"setX\" as E3 << <<(B,lemonchiffon) action def>> [[psysml:13c6c11f-d2db-48ba-8729-714e79a71a8b ]] {\r\n",
       "portin \"c\" as E4  [[psysml:b2a1dac5-50e3-4d3d-9a14-28fff19dad0f ]] \r\n",
       "portin \"newX\" as E5  [[psysml:3095d82e-c5b2-4faf-b7d1-254d70a18586 ]] \r\n",
       "}\r\n",
       "\r\n",
       "}\r\n",
       "@enduml\r\n",
       "\n",
       "PlantUML version 1.2020.13(Sat Jun 13 12:26:38 UTC 2020)\n",
       "(EPL source distribution)\n",
       "Java Runtime: OpenJDK Runtime Environment\n",
       "JVM: OpenJDK 64-Bit Server VM\n",
       "Default Encoding: UTF-8\n",
       "Language: en\n",
       "Country: null\n",
       "--></g></svg>"
      ]
     },
     "execution_count": 33,
     "metadata": {},
     "output_type": "execute_result"
    }
   ],
   "source": [
    "%viz --style=\"PLANTUML\" --view=\"Interconnection\" \"TextualRepresentationTest\""
   ]
  },
  {
   "cell_type": "code",
   "execution_count": 34,
   "id": "16198601",
   "metadata": {
    "execution": {
     "iopub.execute_input": "2021-09-27T07:18:34.519771Z",
     "iopub.status.busy": "2021-09-27T07:18:34.519541Z",
     "iopub.status.idle": "2021-09-27T07:18:34.541124Z",
     "shell.execute_reply": "2021-09-27T07:18:34.541311Z"
    }
   },
   "outputs": [
    {
     "data": {
      "image/svg+xml": [
       "<?xml version=\"1.0\" encoding=\"UTF-8\" standalone=\"no\"?><svg xmlns=\"http://www.w3.org/2000/svg\" xmlns:xlink=\"http://www.w3.org/1999/xlink\" contentScriptType=\"application/ecmascript\" contentStyleType=\"text/css\" height=\"134px\" preserveAspectRatio=\"none\" style=\"width:158px;height:134px;\" version=\"1.1\" viewBox=\"0 0 158 134\" width=\"158px\" zoomAndPan=\"magnify\"><defs><filter height=\"300%\" id=\"f1mxioyebvn3vz\" width=\"300%\" x=\"-1\" y=\"-1\"><feGaussianBlur result=\"blurOut\" stdDeviation=\"2.0\"/><feColorMatrix in=\"blurOut\" result=\"blurOut2\" type=\"matrix\" values=\"0 0 0 0 0 0 0 0 0 0 0 0 0 0 0 0 0 0 .4 0\"/><feOffset dx=\"4.0\" dy=\"4.0\" in=\"blurOut2\" result=\"blurOut3\"/><feBlend in=\"SourceGraphic\" in2=\"blurOut3\" mode=\"normal\"/></filter></defs><g><!--MD5=[fbc87193dbaf4d95561dea2c320d4a47]\n",
       "cluster E1--><a href=\"psysml:13c6c11f-d2db-48ba-8729-714e79a71a8b\" target=\"_top\" title=\"psysml:13c6c11f-d2db-48ba-8729-714e79a71a8b\" xlink:actuate=\"onRequest\" xlink:href=\"psysml:13c6c11f-d2db-48ba-8729-714e79a71a8b\" xlink:show=\"new\" xlink:title=\"psysml:13c6c11f-d2db-48ba-8729-714e79a71a8b\" xlink:type=\"simple\"><rect fill=\"#FFFFFF\" filter=\"url(#f1mxioyebvn3vz)\" height=\"73\" id=\"E1\" style=\"stroke: #A80036; stroke-width: 1.5;\" width=\"132\" x=\"7\" y=\"42.0986\"/><rect fill=\"#FEFECE\" height=\"37.9375\" style=\"stroke: #A80036; stroke-width: 1.5;\" width=\"132\" x=\"7\" y=\"42.0986\"/><text fill=\"#000000\" font-family=\"sans-serif\" font-size=\"12\" font-style=\"italic\" lengthAdjust=\"spacingAndGlyphs\" textLength=\"77\" x=\"34.5\" y=\"58.2373\">«action def»</text><text fill=\"#000000\" font-family=\"sans-serif\" font-size=\"12\" lengthAdjust=\"spacingAndGlyphs\" textLength=\"27\" x=\"59.5\" y=\"72.2061\">setX</text></a><text fill=\"#000000\" font-family=\"sans-serif\" font-size=\"14\" lengthAdjust=\"spacingAndGlyphs\" textLength=\"8\" x=\"21\" y=\"20.7969\">c</text><rect fill=\"#A80036\" height=\"12\" style=\"stroke: #FEFECE; stroke-width: 1.5;\" width=\"12\" x=\"19\" y=\"36.0986\"/><text fill=\"#000000\" font-family=\"sans-serif\" font-size=\"14\" lengthAdjust=\"spacingAndGlyphs\" textLength=\"38\" x=\"53\" y=\"20.7969\">newX</text><rect fill=\"#A80036\" height=\"12\" style=\"stroke: #FEFECE; stroke-width: 1.5;\" width=\"12\" x=\"66\" y=\"36.0986\"/><!--MD5=[01a54e85560f4f5af3aa646e9f4b0c38]\n",
       "@startuml\r\n",
       "skinparam ranksep 8\r\n",
       " \r\n",
       "rec def \"setX\" as E1 << <<(B,lemonchiffon) action def>> [[psysml:13c6c11f-d2db-48ba-8729-714e79a71a8b ]] {\r\n",
       "portin \"c\" as E2  [[psysml:b2a1dac5-50e3-4d3d-9a14-28fff19dad0f ]] \r\n",
       "portin \"newX\" as E3  [[psysml:3095d82e-c5b2-4faf-b7d1-254d70a18586 ]] \r\n",
       "}\r\n",
       "\r\n",
       "@enduml\r\n",
       "\n",
       "PlantUML version 1.2020.13(Sat Jun 13 12:26:38 UTC 2020)\n",
       "(EPL source distribution)\n",
       "Java Runtime: OpenJDK Runtime Environment\n",
       "JVM: OpenJDK 64-Bit Server VM\n",
       "Default Encoding: UTF-8\n",
       "Language: en\n",
       "Country: null\n",
       "--></g></svg>"
      ]
     },
     "execution_count": 34,
     "metadata": {},
     "output_type": "execute_result"
    }
   ],
   "source": [
    "%viz --style=\"PLANTUML\" --view=\"Action\" \"TextualRepresentationTest\""
   ]
  },
  {
   "cell_type": "code",
   "execution_count": 35,
   "id": "a904cd11",
   "metadata": {
    "execution": {
     "iopub.execute_input": "2021-09-27T07:18:34.591875Z",
     "iopub.status.busy": "2021-09-27T07:18:34.591497Z",
     "iopub.status.idle": "2021-09-27T07:18:34.595578Z",
     "shell.execute_reply": "2021-09-27T07:18:34.595734Z"
    }
   },
   "outputs": [
    {
     "data": {
      "image/svg+xml": [
       "<?xml version=\"1.0\" encoding=\"UTF-8\" standalone=\"no\"?><svg xmlns=\"http://www.w3.org/2000/svg\" xmlns:xlink=\"http://www.w3.org/1999/xlink\" contentScriptType=\"application/ecmascript\" contentStyleType=\"text/css\" height=\"12px\" preserveAspectRatio=\"none\" style=\"width:12px;height:12px;\" version=\"1.1\" viewBox=\"0 0 12 12\" width=\"12px\" zoomAndPan=\"magnify\"><defs/><g><!--MD5=[ca4faa0b02def275ea33c14ea7a1a98d]\n",
       "@startuml\r\n",
       "skinparam roundcorner 20\r\n",
       "skinparam BoxPadding 20\r\n",
       "skinparam SequenceBoxBackgroundColor #white\r\n",
       "skinparam style strictuml\r\n",
       "skinparam maxMessageSize 100\r\n",
       " \r\n",
       "@enduml\r\n",
       "\n",
       "PlantUML version 1.2020.13(Sat Jun 13 12:26:38 UTC 2020)\n",
       "(EPL source distribution)\n",
       "Java Runtime: OpenJDK Runtime Environment\n",
       "JVM: OpenJDK 64-Bit Server VM\n",
       "Default Encoding: UTF-8\n",
       "Language: en\n",
       "Country: null\n",
       "--></g></svg>"
      ]
     },
     "execution_count": 35,
     "metadata": {},
     "output_type": "execute_result"
    }
   ],
   "source": [
    "%viz --style=\"PLANTUML\" --view=\"Sequence\" \"TextualRepresentationTest\""
   ]
  },
  {
   "cell_type": "code",
   "execution_count": 36,
   "id": "f1e06b68",
   "metadata": {
    "execution": {
     "iopub.execute_input": "2021-09-27T07:18:34.646284Z",
     "iopub.status.busy": "2021-09-27T07:18:34.646042Z",
     "iopub.status.idle": "2021-09-27T07:18:34.693334Z",
     "shell.execute_reply": "2021-09-27T07:18:34.691584Z"
    }
   },
   "outputs": [
    {
     "data": {
      "image/svg+xml": [
       "<?xml version=\"1.0\" encoding=\"UTF-8\" standalone=\"no\"?><svg xmlns=\"http://www.w3.org/2000/svg\" xmlns:xlink=\"http://www.w3.org/1999/xlink\" contentScriptType=\"application/ecmascript\" contentStyleType=\"text/css\" height=\"238px\" preserveAspectRatio=\"none\" style=\"width:371px;height:238px;\" version=\"1.1\" viewBox=\"0 0 371 238\" width=\"371px\" zoomAndPan=\"magnify\"><defs><filter height=\"300%\" id=\"fpjm8co7duiy0\" width=\"300%\" x=\"-1\" y=\"-1\"><feGaussianBlur result=\"blurOut\" stdDeviation=\"2.0\"/><feColorMatrix in=\"blurOut\" result=\"blurOut2\" type=\"matrix\" values=\"0 0 0 0 0 0 0 0 0 0 0 0 0 0 0 0 0 0 .4 0\"/><feOffset dx=\"4.0\" dy=\"4.0\" in=\"blurOut2\" result=\"blurOut3\"/><feBlend in=\"SourceGraphic\" in2=\"blurOut3\" mode=\"normal\"/></filter></defs><g><!--MD5=[fbc87193dbaf4d95561dea2c320d4a47]\n",
       "cluster E1--><a href=\"psysml:fa6c1bf2-147a-4459-8db1-4c7f2c0aa92b\" target=\"_top\" title=\"psysml:fa6c1bf2-147a-4459-8db1-4c7f2c0aa92b\" xlink:actuate=\"onRequest\" xlink:href=\"psysml:fa6c1bf2-147a-4459-8db1-4c7f2c0aa92b\" xlink:show=\"new\" xlink:title=\"psysml:fa6c1bf2-147a-4459-8db1-4c7f2c0aa92b\" xlink:type=\"simple\"><polygon fill=\"#FFFFFF\" filter=\"url(#fpjm8co7duiy0)\" points=\"16,6,210,6,217,28.2969,349,28.2969,349,226.5,16,226.5,16,6\" style=\"stroke: #000000; stroke-width: 1.5;\"/><line style=\"stroke: #000000; stroke-width: 1.5;\" x1=\"16\" x2=\"217\" y1=\"28.2969\" y2=\"28.2969\"/><text fill=\"#000000\" font-family=\"sans-serif\" font-size=\"14\" font-weight=\"bold\" lengthAdjust=\"spacingAndGlyphs\" textLength=\"188\" x=\"20\" y=\"20.9951\">TextualRepresentationTest</text></a><!--MD5=[f6df4d0ebaf0b5dfb2ced0ae5af7c670]\n",
       "cluster E4--><a href=\"psysml:13c6c11f-d2db-48ba-8729-714e79a71a8b\" target=\"_top\" title=\"psysml:13c6c11f-d2db-48ba-8729-714e79a71a8b\" xlink:actuate=\"onRequest\" xlink:href=\"psysml:13c6c11f-d2db-48ba-8729-714e79a71a8b\" xlink:show=\"new\" xlink:title=\"psysml:13c6c11f-d2db-48ba-8729-714e79a71a8b\" xlink:type=\"simple\"><rect fill=\"#FFFFFF\" filter=\"url(#fpjm8co7duiy0)\" height=\"143\" id=\"E4\" style=\"stroke: #A80036; stroke-width: 1.5;\" width=\"132\" x=\"201\" y=\"67.5\"/><rect fill=\"#FEFECE\" height=\"37.9375\" style=\"stroke: #A80036; stroke-width: 1.5;\" width=\"132\" x=\"201\" y=\"67.5\"/><text fill=\"#000000\" font-family=\"sans-serif\" font-size=\"12\" font-style=\"italic\" lengthAdjust=\"spacingAndGlyphs\" textLength=\"77\" x=\"228.5\" y=\"83.6387\">«action def»</text><text fill=\"#000000\" font-family=\"sans-serif\" font-size=\"12\" lengthAdjust=\"spacingAndGlyphs\" textLength=\"27\" x=\"253.5\" y=\"97.6074\">setX</text></a><!--MD5=[b4997ac47864f28c2f74865a473b2911]\n",
       "class E2--><a href=\"psysml:7c3e9caa-80d9-4c4c-adc7-c498b9bc223a\" target=\"_top\" title=\"psysml:7c3e9caa-80d9-4c4c-adc7-c498b9bc223a\" xlink:actuate=\"onRequest\" xlink:href=\"psysml:7c3e9caa-80d9-4c4c-adc7-c498b9bc223a\" xlink:show=\"new\" xlink:title=\"psysml:7c3e9caa-80d9-4c4c-adc7-c498b9bc223a\" xlink:type=\"simple\"><rect fill=\"#FEFECE\" filter=\"url(#fpjm8co7duiy0)\" height=\"52.8047\" id=\"E2\" style=\"stroke: #A80036; stroke-width: 1.5;\" width=\"50\" x=\"81\" y=\"41\"/><ellipse cx=\"100.5\" cy=\"57\" fill=\"#008000\" rx=\"11\" ry=\"11\" style=\"stroke: #A80036; stroke-width: 1.0;\"/><path d=\"M97.375,62 L97.375,51.4063 L100.6094,51.4063 Q102.5156,51.4063 103.4219,52.1563 Q104.3438,52.9063 104.3438,54.0781 Q104.3438,54.7656 103.9531,55.4219 Q103.5781,56.0781 102.8594,56.375 Q103.7188,56.75 104.2344,57.4375 Q104.75,58.125 104.75,58.9375 Q104.75,60.3125 103.7188,61.1563 Q102.7031,62 100.5938,62 L97.375,62 Z M99.2969,55.6406 L100.4531,55.6406 Q101.5781,55.6406 101.9844,55.2656 Q102.4063,54.875 102.4063,54.25 Q102.4063,53.6719 101.9844,53.3125 Q101.5625,52.9531 100.625,52.9531 L99.2969,52.9531 L99.2969,55.6406 Z M99.2969,60.4219 L100.7969,60.4219 Q101.7031,60.4219 102.2344,60.0313 Q102.7656,59.6406 102.7656,58.8906 Q102.7656,58.125 102.2656,57.6563 Q101.7656,57.1719 100.5,57.1719 L99.2969,57.1719 L99.2969,60.4219 Z \"/><text fill=\"#000000\" font-family=\"sans-serif\" font-size=\"12\" lengthAdjust=\"spacingAndGlyphs\" textLength=\"8\" x=\"115.5\" y=\"61.1543\">C</text><line style=\"stroke: #A80036; stroke-width: 1.5;\" x1=\"82\" x2=\"130\" y1=\"73\" y2=\"73\"/><text fill=\"#000000\" font-family=\"sans-serif\" font-size=\"11\" lengthAdjust=\"spacingAndGlyphs\" textLength=\"38\" x=\"87\" y=\"87.2104\">x: Real</text></a><!--MD5=[09b614a08d8cba4a07c9adeb5e0fee81]\n",
       "class E3--><a href=\"psysml:c1adaef5-a811-466e-b0b1-353fc6834fce\" target=\"_top\" title=\"psysml:c1adaef5-a811-466e-b0b1-353fc6834fce\" xlink:actuate=\"onRequest\" xlink:href=\"psysml:c1adaef5-a811-466e-b0b1-353fc6834fce\" xlink:show=\"new\" xlink:title=\"psysml:c1adaef5-a811-466e-b0b1-353fc6834fce\" xlink:type=\"simple\"><rect fill=\"#FEFECE\" filter=\"url(#fpjm8co7duiy0)\" height=\"45.9375\" id=\"E3\" rx=\"10\" ry=\"10\" style=\"stroke: #A80036; stroke-width: 1.5;\" width=\"147\" x=\"32.5\" y=\"154\"/><ellipse cx=\"47.5\" cy=\"172.9688\" fill=\"#FFA500\" rx=\"11\" ry=\"11\" style=\"stroke: #A80036; stroke-width: 1.0;\"/><path d=\"M47.25,178.4375 Q45.5,178.4375 44.5469,177.4063 Q43.6094,176.3594 43.6094,174.5156 L43.6094,167.625 L45.6719,167.625 L45.6719,167.7813 Q45.5781,167.875 45.5469,168.0156 Q45.5313,168.1406 45.5313,168.4063 L45.5313,174.5313 Q45.5313,175.625 45.9063,176.25 Q46.2813,176.875 47.2656,176.875 Q48.25,176.875 48.6406,176.25 Q49.0313,175.625 49.0313,174.4844 L49.0313,167.625 L50.9063,167.625 L50.9063,174.4688 Q50.9063,176.5 49.875,177.4688 Q48.8594,178.4375 47.25,178.4375 Z \"/><text fill=\"#000000\" font-family=\"sans-serif\" font-size=\"12\" font-style=\"italic\" lengthAdjust=\"spacingAndGlyphs\" textLength=\"119\" x=\"59.5\" y=\"170.1387\">«assertConstraint»</text><text fill=\"#000000\" font-family=\"sans-serif\" font-size=\"12\" lengthAdjust=\"spacingAndGlyphs\" textLength=\"76\" x=\"81\" y=\"184.1074\">x_constraint</text><line style=\"stroke: #A80036; stroke-width: 1.5;\" x1=\"33.5\" x2=\"178.5\" y1=\"191.9375\" y2=\"191.9375\"/></a><text fill=\"#000000\" font-family=\"sans-serif\" font-size=\"14\" lengthAdjust=\"spacingAndGlyphs\" textLength=\"8\" x=\"215\" y=\"46.1982\">c</text><rect fill=\"#A80036\" height=\"12\" style=\"stroke: #FEFECE; stroke-width: 1.5;\" width=\"12\" x=\"213\" y=\"61.5\"/><text fill=\"#000000\" font-family=\"sans-serif\" font-size=\"14\" lengthAdjust=\"spacingAndGlyphs\" textLength=\"38\" x=\"247\" y=\"46.1982\">newX</text><rect fill=\"#A80036\" height=\"12\" style=\"stroke: #FEFECE; stroke-width: 1.5;\" width=\"12\" x=\"260\" y=\"61.5\"/><!--MD5=[209b3feb70ccb6233bfe1053d122c12c]\n",
       "reverse link E2 to E3--><a href=\"psysml:6c3bd0c1-e9ea-4acc-b51f-d35f7aefdb06\" target=\"_top\" title=\"psysml:6c3bd0c1-e9ea-4acc-b51f-d35f7aefdb06\" xlink:actuate=\"onRequest\" xlink:href=\"psysml:6c3bd0c1-e9ea-4acc-b51f-d35f7aefdb06\" xlink:show=\"new\" xlink:title=\"psysml:6c3bd0c1-e9ea-4acc-b51f-d35f7aefdb06\" xlink:type=\"simple\"><path d=\"M106,107.34 C106,122.93 106,140.35 106,153.74 \" fill=\"none\" id=\"E2&lt;-E3\" style=\"stroke: #A80036; stroke-width: 1.0;\"/><polygon fill=\"#A80036\" points=\"106,94.25,102,100.25,106,106.25,110,100.25,106,94.25\" style=\"stroke: #A80036; stroke-width: 1.0;\"/><text fill=\"#000000\" font-family=\"sans-serif\" font-size=\"13\" lengthAdjust=\"spacingAndGlyphs\" textLength=\"7\" x=\"98.1031\" y=\"142.9497\">*</text></a><!--MD5=[80f14b934194d810f465dc4b762c1a18]\n",
       "@startuml\r\n",
       " \r\n",
       "package \"TextualRepresentationTest\" as E1  [[psysml:fa6c1bf2-147a-4459-8db1-4c7f2c0aa92b ]]  {\r\n",
       "comp def \"C\" as E2 << << (B,green) >> [[psysml:7c3e9caa-80d9-4c4c-adc7-c498b9bc223a ]] {\r\n",
       "x: Real\r\n",
       "}\r\n",
       "comp usage \"x_constraint\" as E3 << <<(U,orange) assertConstraint>> [[psysml:c1adaef5-a811-466e-b0b1-353fc6834fce ]] {\r\n",
       "}\r\n",
       "rec def \"setX\" as E4 << <<(B,lemonchiffon) action def>> [[psysml:13c6c11f-d2db-48ba-8729-714e79a71a8b ]] {\r\n",
       "portin \"c\" as E5  [[psysml:b2a1dac5-50e3-4d3d-9a14-28fff19dad0f ]] \r\n",
       "portin \"newX\" as E6  [[psysml:3095d82e-c5b2-4faf-b7d1-254d70a18586 ]] \r\n",
       "}\r\n",
       "\r\n",
       "}\r\n",
       "E2 *- - \"*\"E3 [[psysml:6c3bd0c1-e9ea-4acc-b51f-d35f7aefdb06 ]] \r\n",
       "@enduml\r\n",
       "\n",
       "PlantUML version 1.2020.13(Sat Jun 13 12:26:38 UTC 2020)\n",
       "(EPL source distribution)\n",
       "Java Runtime: OpenJDK Runtime Environment\n",
       "JVM: OpenJDK 64-Bit Server VM\n",
       "Default Encoding: UTF-8\n",
       "Language: en\n",
       "Country: null\n",
       "--></g></svg>"
      ]
     },
     "execution_count": 36,
     "metadata": {},
     "output_type": "execute_result"
    }
   ],
   "source": [
    "%viz --style=\"PLANTUML\" --view=\"MIXED\" \"TextualRepresentationTest\""
   ]
  },
  {
   "cell_type": "code",
   "execution_count": 37,
   "id": "79b0c3ab",
   "metadata": {
    "execution": {
     "iopub.execute_input": "2021-09-27T07:18:34.742855Z",
     "iopub.status.busy": "2021-09-27T07:18:34.742300Z",
     "iopub.status.idle": "2021-09-27T07:18:34.782682Z",
     "shell.execute_reply": "2021-09-27T07:18:34.781427Z"
    }
   },
   "outputs": [
    {
     "data": {
      "image/svg+xml": [
       "<?xml version=\"1.0\" encoding=\"UTF-8\" standalone=\"no\"?><svg xmlns=\"http://www.w3.org/2000/svg\" xmlns:xlink=\"http://www.w3.org/1999/xlink\" contentScriptType=\"application/ecmascript\" contentStyleType=\"text/css\" height=\"261px\" preserveAspectRatio=\"none\" style=\"width:345px;height:261px;\" version=\"1.1\" viewBox=\"0 0 345 261\" width=\"345px\" zoomAndPan=\"magnify\"><defs/><g><!--MD5=[fbc87193dbaf4d95561dea2c320d4a47]\n",
       "cluster E1--><a href=\"psysml:fa6c1bf2-147a-4459-8db1-4c7f2c0aa92b\" target=\"_top\" title=\"psysml:fa6c1bf2-147a-4459-8db1-4c7f2c0aa92b\" xlink:actuate=\"onRequest\" xlink:href=\"psysml:fa6c1bf2-147a-4459-8db1-4c7f2c0aa92b\" xlink:show=\"new\" xlink:title=\"psysml:fa6c1bf2-147a-4459-8db1-4c7f2c0aa92b\" xlink:type=\"simple\"><polygon fill=\"#FFFFFF\" points=\"16,6,210,6,217,28.2969,323,28.2969,323,249.5,16,249.5,16,6\" style=\"stroke: #000000; stroke-width: 1.5;\"/><line style=\"stroke: #000000; stroke-width: 1.5;\" x1=\"16\" x2=\"217\" y1=\"28.2969\" y2=\"28.2969\"/><text fill=\"#000000\" font-family=\"sans-serif\" font-size=\"14\" font-weight=\"bold\" lengthAdjust=\"spacingAndGlyphs\" textLength=\"188\" x=\"20\" y=\"20.9951\">TextualRepresentationTest</text></a><!--MD5=[f6df4d0ebaf0b5dfb2ced0ae5af7c670]\n",
       "cluster E4--><a href=\"psysml:13c6c11f-d2db-48ba-8729-714e79a71a8b\" target=\"_top\" title=\"psysml:13c6c11f-d2db-48ba-8729-714e79a71a8b\" xlink:actuate=\"onRequest\" xlink:href=\"psysml:13c6c11f-d2db-48ba-8729-714e79a71a8b\" xlink:show=\"new\" xlink:title=\"psysml:13c6c11f-d2db-48ba-8729-714e79a71a8b\" xlink:type=\"simple\"><rect fill=\"#FFFFFF\" height=\"154.5\" id=\"E4\" style=\"stroke: #383838; stroke-width: 1.5;\" width=\"132\" x=\"175\" y=\"79\"/><rect fill=\"#F8F8F8\" height=\"37.9375\" style=\"stroke: #383838; stroke-width: 1.5;\" width=\"132\" x=\"175\" y=\"79\"/><text fill=\"#000000\" font-family=\"sans-serif\" font-size=\"12\" font-style=\"italic\" lengthAdjust=\"spacingAndGlyphs\" textLength=\"77\" x=\"202.5\" y=\"95.1387\">«action def»</text><text fill=\"#000000\" font-family=\"sans-serif\" font-size=\"12\" lengthAdjust=\"spacingAndGlyphs\" textLength=\"27\" x=\"227.5\" y=\"109.1074\">setX</text></a><!--MD5=[b4997ac47864f28c2f74865a473b2911]\n",
       "class E2--><a href=\"psysml:7c3e9caa-80d9-4c4c-adc7-c498b9bc223a\" target=\"_top\" title=\"psysml:7c3e9caa-80d9-4c4c-adc7-c498b9bc223a\" xlink:actuate=\"onRequest\" xlink:href=\"psysml:7c3e9caa-80d9-4c4c-adc7-c498b9bc223a\" xlink:show=\"new\" xlink:title=\"psysml:7c3e9caa-80d9-4c4c-adc7-c498b9bc223a\" xlink:type=\"simple\"><rect fill=\"#FFFFFF\" height=\"75.5469\" id=\"E2\" style=\"stroke: #383838; stroke-width: 1.5;\" width=\"67\" x=\"59.5\" y=\"41\"/><text fill=\"#000000\" font-family=\"sans-serif\" font-size=\"12\" font-style=\"italic\" lengthAdjust=\"spacingAndGlyphs\" textLength=\"65\" x=\"60.5\" y=\"57.1387\">«item def»</text><text fill=\"#000000\" font-family=\"sans-serif\" font-size=\"12\" lengthAdjust=\"spacingAndGlyphs\" textLength=\"8\" x=\"89\" y=\"71.1074\">C</text><line style=\"stroke: #383838; stroke-width: 1.5;\" x1=\"60.5\" x2=\"125.5\" y1=\"78.9375\" y2=\"78.9375\"/><text fill=\"#000000\" font-family=\"sans-serif\" font-size=\"11\" lengthAdjust=\"spacingAndGlyphs\" textLength=\"38\" x=\"65.5\" y=\"109.9526\">x: Real</text><line style=\"stroke: #383838; stroke-width: 1.0;\" x1=\"60.5\" x2=\"65.5\" y1=\"93.3398\" y2=\"93.3398\"/><text fill=\"#000000\" font-family=\"sans-serif\" font-size=\"11\" lengthAdjust=\"spacingAndGlyphs\" textLength=\"55\" x=\"65.5\" y=\"96.6479\">attributes</text><line style=\"stroke: #383838; stroke-width: 1.0;\" x1=\"120.5\" x2=\"125.5\" y1=\"93.3398\" y2=\"93.3398\"/></a><!--MD5=[09b614a08d8cba4a07c9adeb5e0fee81]\n",
       "class E3--><a href=\"psysml:c1adaef5-a811-466e-b0b1-353fc6834fce\" target=\"_top\" title=\"psysml:c1adaef5-a811-466e-b0b1-353fc6834fce\" xlink:actuate=\"onRequest\" xlink:href=\"psysml:c1adaef5-a811-466e-b0b1-353fc6834fce\" xlink:show=\"new\" xlink:title=\"psysml:c1adaef5-a811-466e-b0b1-353fc6834fce\" xlink:type=\"simple\"><rect fill=\"#FFFFFF\" height=\"45.9375\" id=\"E3\" rx=\"10\" ry=\"10\" style=\"stroke: #383838; stroke-width: 1.5;\" width=\"121\" x=\"32.5\" y=\"177\"/><text fill=\"#000000\" font-family=\"sans-serif\" font-size=\"12\" font-style=\"italic\" lengthAdjust=\"spacingAndGlyphs\" textLength=\"119\" x=\"33.5\" y=\"193.1387\">«assertConstraint»</text><text fill=\"#000000\" font-family=\"sans-serif\" font-size=\"12\" lengthAdjust=\"spacingAndGlyphs\" textLength=\"76\" x=\"55\" y=\"207.1074\">x_constraint</text><line style=\"stroke: #383838; stroke-width: 1.5;\" x1=\"33.5\" x2=\"152.5\" y1=\"214.9375\" y2=\"214.9375\"/></a><text fill=\"#000000\" font-family=\"sans-serif\" font-size=\"14\" lengthAdjust=\"spacingAndGlyphs\" textLength=\"8\" x=\"189\" y=\"57.6982\">c</text><rect fill=\"#383838\" height=\"12\" style=\"stroke: #F8F8F8; stroke-width: 1.5;\" width=\"12\" x=\"187\" y=\"73\"/><text fill=\"#000000\" font-family=\"sans-serif\" font-size=\"14\" lengthAdjust=\"spacingAndGlyphs\" textLength=\"38\" x=\"221\" y=\"57.6982\">newX</text><rect fill=\"#383838\" height=\"12\" style=\"stroke: #F8F8F8; stroke-width: 1.5;\" width=\"12\" x=\"234\" y=\"73\"/><!--MD5=[209b3feb70ccb6233bfe1053d122c12c]\n",
       "reverse link E2 to E3--><a href=\"psysml:6c3bd0c1-e9ea-4acc-b51f-d35f7aefdb06\" target=\"_top\" title=\"psysml:6c3bd0c1-e9ea-4acc-b51f-d35f7aefdb06\" xlink:actuate=\"onRequest\" xlink:href=\"psysml:6c3bd0c1-e9ea-4acc-b51f-d35f7aefdb06\" xlink:show=\"new\" xlink:title=\"psysml:6c3bd0c1-e9ea-4acc-b51f-d35f7aefdb06\" xlink:type=\"simple\"><path d=\"M93,130.34 C93,146.61 93,163.81 93,176.93 \" fill=\"none\" id=\"E2&lt;-E3\" style=\"stroke: #383838; stroke-width: 1.0;\"/><polygon fill=\"#383838\" points=\"93,117,89,123,93,129,97,123,93,117\" style=\"stroke: #383838; stroke-width: 1.0;\"/><text fill=\"#000000\" font-family=\"sans-serif\" font-size=\"13\" lengthAdjust=\"spacingAndGlyphs\" textLength=\"7\" x=\"85.0594\" y=\"165.8075\">*</text></a><!--MD5=[f6614106e13e8a293f2f7457c63e8df4]\n",
       "@startuml\r\n",
       "skinparam monochrome true\r\n",
       "skinparam classbackgroundcolor white\r\n",
       "skinparam shadowing false\r\n",
       "skinparam wrapWidth 300\r\n",
       "hide circle\r\n",
       "\r\n",
       "package \"TextualRepresentationTest\" as E1  [[psysml:fa6c1bf2-147a-4459-8db1-4c7f2c0aa92b ]]  {\r\n",
       "comp def \"C\" as E2  <<(T,blue) item def>> [[psysml:7c3e9caa-80d9-4c4c-adc7-c498b9bc223a ]] {\r\n",
       "- - attributes - -\r\n",
       "x: Real\r\n",
       "}\r\n",
       "comp usage \"x_constraint\" as E3  <<(T,blue) assertConstraint>> [[psysml:c1adaef5-a811-466e-b0b1-353fc6834fce ]] {\r\n",
       "}\r\n",
       "rec def \"setX\" as E4  <<(T,blue) action def>> [[psysml:13c6c11f-d2db-48ba-8729-714e79a71a8b ]] {\r\n",
       "portin \"c\" as E5  [[psysml:b2a1dac5-50e3-4d3d-9a14-28fff19dad0f ]] \r\n",
       "portin \"newX\" as E6  [[psysml:3095d82e-c5b2-4faf-b7d1-254d70a18586 ]] \r\n",
       "}\r\n",
       "\r\n",
       "}\r\n",
       "E2 *- - \"*\"E3 [[psysml:6c3bd0c1-e9ea-4acc-b51f-d35f7aefdb06 ]] \r\n",
       "@enduml\r\n",
       "\n",
       "PlantUML version 1.2020.13(Sat Jun 13 12:26:38 UTC 2020)\n",
       "(EPL source distribution)\n",
       "Java Runtime: OpenJDK Runtime Environment\n",
       "JVM: OpenJDK 64-Bit Server VM\n",
       "Default Encoding: UTF-8\n",
       "Language: en\n",
       "Country: null\n",
       "--></g></svg>"
      ]
     },
     "execution_count": 37,
     "metadata": {},
     "output_type": "execute_result"
    }
   ],
   "source": [
    "%viz --style=\"DEFAULT\" --view=\"Default\" \"TextualRepresentationTest\""
   ]
  },
  {
   "cell_type": "code",
   "execution_count": 38,
   "id": "93b22652",
   "metadata": {
    "execution": {
     "iopub.execute_input": "2021-09-27T07:18:34.832448Z",
     "iopub.status.busy": "2021-09-27T07:18:34.831972Z",
     "iopub.status.idle": "2021-09-27T07:18:34.870210Z",
     "shell.execute_reply": "2021-09-27T07:18:34.870561Z"
    }
   },
   "outputs": [
    {
     "data": {
      "image/svg+xml": [
       "<?xml version=\"1.0\" encoding=\"UTF-8\" standalone=\"no\"?><svg xmlns=\"http://www.w3.org/2000/svg\" xmlns:xlink=\"http://www.w3.org/1999/xlink\" contentScriptType=\"application/ecmascript\" contentStyleType=\"text/css\" height=\"375px\" preserveAspectRatio=\"none\" style=\"width:242px;height:375px;\" version=\"1.1\" viewBox=\"0 0 242 375\" width=\"242px\" zoomAndPan=\"magnify\"><defs/><g><!--MD5=[fbc87193dbaf4d95561dea2c320d4a47]\n",
       "cluster E1--><a href=\"psysml:fa6c1bf2-147a-4459-8db1-4c7f2c0aa92b\" target=\"_top\" title=\"psysml:fa6c1bf2-147a-4459-8db1-4c7f2c0aa92b\" xlink:actuate=\"onRequest\" xlink:href=\"psysml:fa6c1bf2-147a-4459-8db1-4c7f2c0aa92b\" xlink:show=\"new\" xlink:title=\"psysml:fa6c1bf2-147a-4459-8db1-4c7f2c0aa92b\" xlink:type=\"simple\"><polygon fill=\"#FFFFFF\" points=\"16,6,210,6,217,28.2969,220,28.2969,220,363,16,363,16,6\" style=\"stroke: #000000; stroke-width: 1.5;\"/><line style=\"stroke: #000000; stroke-width: 1.5;\" x1=\"16\" x2=\"217\" y1=\"28.2969\" y2=\"28.2969\"/><text fill=\"#000000\" font-family=\"sans-serif\" font-size=\"14\" font-weight=\"bold\" lengthAdjust=\"spacingAndGlyphs\" textLength=\"188\" x=\"20\" y=\"20.9951\">TextualRepresentationTest</text></a><!--MD5=[b4997ac47864f28c2f74865a473b2911]\n",
       "class E2--><a href=\"psysml:7c3e9caa-80d9-4c4c-adc7-c498b9bc223a\" target=\"_top\" title=\"psysml:7c3e9caa-80d9-4c4c-adc7-c498b9bc223a\" xlink:actuate=\"onRequest\" xlink:href=\"psysml:7c3e9caa-80d9-4c4c-adc7-c498b9bc223a\" xlink:show=\"new\" xlink:title=\"psysml:7c3e9caa-80d9-4c4c-adc7-c498b9bc223a\" xlink:type=\"simple\"><rect fill=\"#FFFFFF\" height=\"75.5469\" id=\"E2\" style=\"stroke: #383838; stroke-width: 1.5;\" width=\"67\" x=\"84.5\" y=\"164\"/><text fill=\"#000000\" font-family=\"sans-serif\" font-size=\"12\" font-style=\"italic\" lengthAdjust=\"spacingAndGlyphs\" textLength=\"65\" x=\"85.5\" y=\"180.1387\">«item def»</text><text fill=\"#000000\" font-family=\"sans-serif\" font-size=\"12\" lengthAdjust=\"spacingAndGlyphs\" textLength=\"8\" x=\"114\" y=\"194.1074\">C</text><line style=\"stroke: #383838; stroke-width: 1.5;\" x1=\"85.5\" x2=\"150.5\" y1=\"201.9375\" y2=\"201.9375\"/><text fill=\"#000000\" font-family=\"sans-serif\" font-size=\"11\" lengthAdjust=\"spacingAndGlyphs\" textLength=\"38\" x=\"90.5\" y=\"232.9526\">x: Real</text><line style=\"stroke: #383838; stroke-width: 1.0;\" x1=\"85.5\" x2=\"90.5\" y1=\"216.3398\" y2=\"216.3398\"/><text fill=\"#000000\" font-family=\"sans-serif\" font-size=\"11\" lengthAdjust=\"spacingAndGlyphs\" textLength=\"55\" x=\"90.5\" y=\"219.6479\">attributes</text><line style=\"stroke: #383838; stroke-width: 1.0;\" x1=\"145.5\" x2=\"150.5\" y1=\"216.3398\" y2=\"216.3398\"/></a><!--MD5=[09b614a08d8cba4a07c9adeb5e0fee81]\n",
       "class E3--><a href=\"psysml:c1adaef5-a811-466e-b0b1-353fc6834fce\" target=\"_top\" title=\"psysml:c1adaef5-a811-466e-b0b1-353fc6834fce\" xlink:actuate=\"onRequest\" xlink:href=\"psysml:c1adaef5-a811-466e-b0b1-353fc6834fce\" xlink:show=\"new\" xlink:title=\"psysml:c1adaef5-a811-466e-b0b1-353fc6834fce\" xlink:type=\"simple\"><rect fill=\"#FFFFFF\" height=\"45.9375\" id=\"E3\" rx=\"10\" ry=\"10\" style=\"stroke: #383838; stroke-width: 1.5;\" width=\"121\" x=\"57.5\" y=\"301\"/><text fill=\"#000000\" font-family=\"sans-serif\" font-size=\"12\" font-style=\"italic\" lengthAdjust=\"spacingAndGlyphs\" textLength=\"119\" x=\"58.5\" y=\"317.1387\">«assertConstraint»</text><text fill=\"#000000\" font-family=\"sans-serif\" font-size=\"12\" lengthAdjust=\"spacingAndGlyphs\" textLength=\"76\" x=\"80\" y=\"331.1074\">x_constraint</text><line style=\"stroke: #383838; stroke-width: 1.5;\" x1=\"58.5\" x2=\"177.5\" y1=\"338.9375\" y2=\"338.9375\"/></a><!--MD5=[ebbe1d658d1005bcc118a6aa81145e00]\n",
       "class E4--><a href=\"psysml:13c6c11f-d2db-48ba-8729-714e79a71a8b\" target=\"_top\" title=\"psysml:13c6c11f-d2db-48ba-8729-714e79a71a8b\" xlink:actuate=\"onRequest\" xlink:href=\"psysml:13c6c11f-d2db-48ba-8729-714e79a71a8b\" xlink:show=\"new\" xlink:title=\"psysml:13c6c11f-d2db-48ba-8729-714e79a71a8b\" xlink:type=\"simple\"><rect fill=\"#FFFFFF\" height=\"45.9375\" id=\"E4\" style=\"stroke: #383838; stroke-width: 1.5;\" width=\"79\" x=\"78.5\" y=\"41\"/><text fill=\"#000000\" font-family=\"sans-serif\" font-size=\"12\" font-style=\"italic\" lengthAdjust=\"spacingAndGlyphs\" textLength=\"77\" x=\"79.5\" y=\"57.1387\">«action def»</text><text fill=\"#000000\" font-family=\"sans-serif\" font-size=\"12\" lengthAdjust=\"spacingAndGlyphs\" textLength=\"27\" x=\"104.5\" y=\"71.1074\">setX</text><line style=\"stroke: #383838; stroke-width: 1.5;\" x1=\"79.5\" x2=\"156.5\" y1=\"78.9375\" y2=\"78.9375\"/></a><!--MD5=[209b3feb70ccb6233bfe1053d122c12c]\n",
       "reverse link E2 to E3--><a href=\"psysml:6c3bd0c1-e9ea-4acc-b51f-d35f7aefdb06\" target=\"_top\" title=\"psysml:6c3bd0c1-e9ea-4acc-b51f-d35f7aefdb06\" xlink:actuate=\"onRequest\" xlink:href=\"psysml:6c3bd0c1-e9ea-4acc-b51f-d35f7aefdb06\" xlink:show=\"new\" xlink:title=\"psysml:6c3bd0c1-e9ea-4acc-b51f-d35f7aefdb06\" xlink:type=\"simple\"><path d=\"M118,253.76 C118,270.17 118,287.52 118,300.75 \" fill=\"none\" id=\"E2&lt;-E3\" style=\"stroke: #383838; stroke-width: 1.0;\"/><polygon fill=\"#383838\" points=\"118,240.31,114,246.31,118,252.31,122,246.31,118,240.31\" style=\"stroke: #383838; stroke-width: 1.0;\"/><text fill=\"#000000\" font-family=\"sans-serif\" font-size=\"13\" lengthAdjust=\"spacingAndGlyphs\" textLength=\"7\" x=\"110.1031\" y=\"289.9622\">*</text></a><!--MD5=[ddeed8deb2209213b62e6cfabaa108b2]\n",
       "reverse link E4 to E2--><a href=\"psysml:b2a1dac5-50e3-4d3d-9a14-28fff19dad0f\" target=\"_top\" title=\"psysml:b2a1dac5-50e3-4d3d-9a14-28fff19dad0f\" xlink:actuate=\"onRequest\" xlink:href=\"psysml:b2a1dac5-50e3-4d3d-9a14-28fff19dad0f\" xlink:show=\"new\" xlink:title=\"psysml:b2a1dac5-50e3-4d3d-9a14-28fff19dad0f\" xlink:type=\"simple\"><path d=\"M118,100.42 C118,119.95 118,144.19 118,163.97 \" fill=\"none\" id=\"E4&lt;-E2\" style=\"stroke: #383838; stroke-width: 1.0;\"/><polygon fill=\"#FFFFFF\" points=\"118,87.15,114,93.15,118,99.15,122,93.15,118,87.15\" style=\"stroke: #383838; stroke-width: 1.0;\"/><text fill=\"#000000\" font-family=\"sans-serif\" font-size=\"13\" lengthAdjust=\"spacingAndGlyphs\" textLength=\"7\" x=\"119\" y=\"130.0669\">c</text></a><!--MD5=[19d5bbf281ae098b42f9f4735d405115]\n",
       "@startuml\r\n",
       "skinparam monochrome true\r\n",
       "skinparam classbackgroundcolor white\r\n",
       "skinparam shadowing false\r\n",
       "skinparam wrapWidth 300\r\n",
       "hide circle\r\n",
       "\r\n",
       "package \"TextualRepresentationTest\" as E1  [[psysml:fa6c1bf2-147a-4459-8db1-4c7f2c0aa92b ]]  {\r\n",
       "comp def \"C\" as E2  <<(T,blue) item def>> [[psysml:7c3e9caa-80d9-4c4c-adc7-c498b9bc223a ]] {\r\n",
       "- - attributes - -\r\n",
       "x: Real\r\n",
       "}\r\n",
       "comp usage \"x_constraint\" as E3  <<(T,blue) assertConstraint>> [[psysml:c1adaef5-a811-466e-b0b1-353fc6834fce ]] {\r\n",
       "}\r\n",
       "comp def \"setX\" as E4  <<(T,blue) action def>> [[psysml:13c6c11f-d2db-48ba-8729-714e79a71a8b ]] {\r\n",
       "}\r\n",
       "}\r\n",
       "E2 *- - \"*\"E3 [[psysml:6c3bd0c1-e9ea-4acc-b51f-d35f7aefdb06 ]] \r\n",
       "E4 o- - E2 [[psysml:b2a1dac5-50e3-4d3d-9a14-28fff19dad0f ]] : c\r\n",
       "@enduml\r\n",
       "\n",
       "PlantUML version 1.2020.13(Sat Jun 13 12:26:38 UTC 2020)\n",
       "(EPL source distribution)\n",
       "Java Runtime: OpenJDK Runtime Environment\n",
       "JVM: OpenJDK 64-Bit Server VM\n",
       "Default Encoding: UTF-8\n",
       "Language: en\n",
       "Country: null\n",
       "--></g></svg>"
      ]
     },
     "execution_count": 38,
     "metadata": {},
     "output_type": "execute_result"
    }
   ],
   "source": [
    "%viz --style=\"DEFAULT\" --view=\"Tree\" \"TextualRepresentationTest\""
   ]
  },
  {
   "cell_type": "code",
   "execution_count": 39,
   "id": "bbc8f4c7",
   "metadata": {
    "execution": {
     "iopub.execute_input": "2021-09-27T07:18:34.920667Z",
     "iopub.status.busy": "2021-09-27T07:18:34.920204Z",
     "iopub.status.idle": "2021-09-27T07:18:34.925573Z",
     "shell.execute_reply": "2021-09-27T07:18:34.925182Z"
    }
   },
   "outputs": [
    {
     "data": {
      "image/svg+xml": [
       "<?xml version=\"1.0\" encoding=\"UTF-8\" standalone=\"no\"?><svg xmlns=\"http://www.w3.org/2000/svg\" xmlns:xlink=\"http://www.w3.org/1999/xlink\" contentScriptType=\"application/ecmascript\" contentStyleType=\"text/css\" height=\"12px\" preserveAspectRatio=\"none\" style=\"width:12px;height:12px;\" version=\"1.1\" viewBox=\"0 0 12 12\" width=\"12px\" zoomAndPan=\"magnify\"><defs/><g><!--MD5=[c5f280e076d0d61ccf4b0f27871bda1d]\n",
       "@startuml\r\n",
       "skinparam monochrome true\r\n",
       "skinparam classbackgroundcolor white\r\n",
       "skinparam shadowing false\r\n",
       "skinparam wrapWidth 300\r\n",
       "hide circle\r\n",
       "\r\n",
       "@enduml\r\n",
       "\n",
       "PlantUML version 1.2020.13(Sat Jun 13 12:26:38 UTC 2020)\n",
       "(EPL source distribution)\n",
       "Java Runtime: OpenJDK Runtime Environment\n",
       "JVM: OpenJDK 64-Bit Server VM\n",
       "Default Encoding: UTF-8\n",
       "Language: en\n",
       "Country: null\n",
       "--></g></svg>"
      ]
     },
     "execution_count": 39,
     "metadata": {},
     "output_type": "execute_result"
    }
   ],
   "source": [
    "%viz --style=\"DEFAULT\" --view=\"State\" \"TextualRepresentationTest\""
   ]
  },
  {
   "cell_type": "code",
   "execution_count": 40,
   "id": "e2bdb8fb",
   "metadata": {
    "execution": {
     "iopub.execute_input": "2021-09-27T07:18:34.975627Z",
     "iopub.status.busy": "2021-09-27T07:18:34.975005Z",
     "iopub.status.idle": "2021-09-27T07:18:35.004822Z",
     "shell.execute_reply": "2021-09-27T07:18:35.004453Z"
    }
   },
   "outputs": [
    {
     "data": {
      "image/svg+xml": [
       "<?xml version=\"1.0\" encoding=\"UTF-8\" standalone=\"no\"?><svg xmlns=\"http://www.w3.org/2000/svg\" xmlns:xlink=\"http://www.w3.org/1999/xlink\" contentScriptType=\"application/ecmascript\" contentStyleType=\"text/css\" height=\"179px\" preserveAspectRatio=\"none\" style=\"width:284px;height:179px;\" version=\"1.1\" viewBox=\"0 0 284 179\" width=\"284px\" zoomAndPan=\"magnify\"><defs/><g><!--MD5=[fbc87193dbaf4d95561dea2c320d4a47]\n",
       "cluster E1--><a href=\"psysml:fa6c1bf2-147a-4459-8db1-4c7f2c0aa92b\" target=\"_top\" title=\"psysml:fa6c1bf2-147a-4459-8db1-4c7f2c0aa92b\" xlink:actuate=\"onRequest\" xlink:href=\"psysml:fa6c1bf2-147a-4459-8db1-4c7f2c0aa92b\" xlink:show=\"new\" xlink:title=\"psysml:fa6c1bf2-147a-4459-8db1-4c7f2c0aa92b\" xlink:type=\"simple\"><polygon fill=\"#FFFFFF\" points=\"16,6,210,6,217,28.2969,262,28.2969,262,167,16,167,16,6\" style=\"stroke: #000000; stroke-width: 1.5;\"/><line style=\"stroke: #000000; stroke-width: 1.5;\" x1=\"16\" x2=\"217\" y1=\"28.2969\" y2=\"28.2969\"/><text fill=\"#000000\" font-family=\"sans-serif\" font-size=\"14\" font-weight=\"bold\" lengthAdjust=\"spacingAndGlyphs\" textLength=\"188\" x=\"20\" y=\"20.9951\">TextualRepresentationTest</text></a><!--MD5=[d5e69f78d87373223dbae638b30a9c99]\n",
       "cluster E3--><a href=\"psysml:13c6c11f-d2db-48ba-8729-714e79a71a8b\" target=\"_top\" title=\"psysml:13c6c11f-d2db-48ba-8729-714e79a71a8b\" xlink:actuate=\"onRequest\" xlink:href=\"psysml:13c6c11f-d2db-48ba-8729-714e79a71a8b\" xlink:show=\"new\" xlink:title=\"psysml:13c6c11f-d2db-48ba-8729-714e79a71a8b\" xlink:type=\"simple\"><rect fill=\"#FFFFFF\" height=\"88.5\" id=\"E3\" style=\"stroke: #383838; stroke-width: 1.5;\" width=\"96\" x=\"120.5\" y=\"62.5\"/><rect fill=\"#F8F8F8\" height=\"37.9375\" style=\"stroke: #383838; stroke-width: 1.5;\" width=\"96\" x=\"120.5\" y=\"62.5\"/><text fill=\"#000000\" font-family=\"sans-serif\" font-size=\"12\" font-style=\"italic\" lengthAdjust=\"spacingAndGlyphs\" textLength=\"77\" x=\"130\" y=\"78.6387\">«action def»</text><text fill=\"#000000\" font-family=\"sans-serif\" font-size=\"12\" lengthAdjust=\"spacingAndGlyphs\" textLength=\"27\" x=\"155\" y=\"92.6074\">setX</text></a><g id=\"E1.E2\"><a href=\"psysml:7c3e9caa-80d9-4c4c-adc7-c498b9bc223a\" target=\"_top\" title=\"psysml:7c3e9caa-80d9-4c4c-adc7-c498b9bc223a\" xlink:actuate=\"onRequest\" xlink:href=\"psysml:7c3e9caa-80d9-4c4c-adc7-c498b9bc223a\" xlink:show=\"new\" xlink:title=\"psysml:7c3e9caa-80d9-4c4c-adc7-c498b9bc223a\" xlink:type=\"simple\"><rect fill=\"#FFFFFF\" height=\"42.9375\" id=\"E2\" style=\"stroke: #383838; stroke-width: 1.5;\" width=\"72\" x=\"32\" y=\"41\"/><rect fill=\"#F8F8F8\" height=\"37.9375\" style=\"stroke: #383838; stroke-width: 1.5;\" width=\"72\" x=\"32\" y=\"41\"/><text fill=\"#000000\" font-family=\"sans-serif\" font-size=\"12\" font-style=\"italic\" lengthAdjust=\"spacingAndGlyphs\" textLength=\"65\" x=\"35.5\" y=\"57.1387\">«item def»</text><text fill=\"#000000\" font-family=\"sans-serif\" font-size=\"12\" lengthAdjust=\"spacingAndGlyphs\" textLength=\"8\" x=\"64\" y=\"71.1074\">C</text></a></g><text fill=\"#000000\" font-family=\"sans-serif\" font-size=\"14\" lengthAdjust=\"spacingAndGlyphs\" textLength=\"8\" x=\"141\" y=\"41.1982\">c</text><rect fill=\"#383838\" height=\"12\" style=\"stroke: #F8F8F8; stroke-width: 1.5;\" width=\"12\" x=\"139\" y=\"56.5\"/><text fill=\"#000000\" font-family=\"sans-serif\" font-size=\"14\" lengthAdjust=\"spacingAndGlyphs\" textLength=\"38\" x=\"173\" y=\"41.1982\">newX</text><rect fill=\"#383838\" height=\"12\" style=\"stroke: #F8F8F8; stroke-width: 1.5;\" width=\"12\" x=\"186\" y=\"56.5\"/><!--MD5=[6f301c671c178ab3271d170faac54600]\n",
       "@startuml\r\n",
       "skinparam ranksep 10\r\n",
       "skinparam rectangle {\r\n",
       " backgroundColor<<block>> LightGreen\r\n",
       "}\r\n",
       "skinparam monochrome true\r\n",
       "skinparam classbackgroundcolor white\r\n",
       "skinparam shadowing false\r\n",
       "skinparam wrapWidth 300\r\n",
       "hide circle\r\n",
       "\r\n",
       "package \"TextualRepresentationTest\" as E1  [[psysml:fa6c1bf2-147a-4459-8db1-4c7f2c0aa92b ]]  {\r\n",
       "def \"C\" as E2  <<(T,blue) item def>> [[psysml:7c3e9caa-80d9-4c4c-adc7-c498b9bc223a ]] \r\n",
       "rec def \"setX\" as E3  <<(T,blue) action def>> [[psysml:13c6c11f-d2db-48ba-8729-714e79a71a8b ]] {\r\n",
       "portin \"c\" as E4  [[psysml:b2a1dac5-50e3-4d3d-9a14-28fff19dad0f ]] \r\n",
       "portin \"newX\" as E5  [[psysml:3095d82e-c5b2-4faf-b7d1-254d70a18586 ]] \r\n",
       "}\r\n",
       "\r\n",
       "}\r\n",
       "@enduml\r\n",
       "\n",
       "PlantUML version 1.2020.13(Sat Jun 13 12:26:38 UTC 2020)\n",
       "(EPL source distribution)\n",
       "Java Runtime: OpenJDK Runtime Environment\n",
       "JVM: OpenJDK 64-Bit Server VM\n",
       "Default Encoding: UTF-8\n",
       "Language: en\n",
       "Country: null\n",
       "--></g></svg>"
      ]
     },
     "execution_count": 40,
     "metadata": {},
     "output_type": "execute_result"
    }
   ],
   "source": [
    "%viz --style=\"DEFAULT\" --view=\"Interconnection\" \"TextualRepresentationTest\""
   ]
  },
  {
   "cell_type": "code",
   "execution_count": 41,
   "id": "08f1baf8",
   "metadata": {
    "execution": {
     "iopub.execute_input": "2021-09-27T07:18:35.054700Z",
     "iopub.status.busy": "2021-09-27T07:18:35.054275Z",
     "iopub.status.idle": "2021-09-27T07:18:35.078292Z",
     "shell.execute_reply": "2021-09-27T07:18:35.078015Z"
    }
   },
   "outputs": [
    {
     "data": {
      "image/svg+xml": [
       "<?xml version=\"1.0\" encoding=\"UTF-8\" standalone=\"no\"?><svg xmlns=\"http://www.w3.org/2000/svg\" xmlns:xlink=\"http://www.w3.org/1999/xlink\" contentScriptType=\"application/ecmascript\" contentStyleType=\"text/css\" height=\"126px\" preserveAspectRatio=\"none\" style=\"width:150px;height:126px;\" version=\"1.1\" viewBox=\"0 0 150 126\" width=\"150px\" zoomAndPan=\"magnify\"><defs/><g><!--MD5=[fbc87193dbaf4d95561dea2c320d4a47]\n",
       "cluster E1--><a href=\"psysml:13c6c11f-d2db-48ba-8729-714e79a71a8b\" target=\"_top\" title=\"psysml:13c6c11f-d2db-48ba-8729-714e79a71a8b\" xlink:actuate=\"onRequest\" xlink:href=\"psysml:13c6c11f-d2db-48ba-8729-714e79a71a8b\" xlink:show=\"new\" xlink:title=\"psysml:13c6c11f-d2db-48ba-8729-714e79a71a8b\" xlink:type=\"simple\"><rect fill=\"#FFFFFF\" height=\"73\" id=\"E1\" style=\"stroke: #383838; stroke-width: 1.5;\" width=\"132\" x=\"7\" y=\"42.0986\"/><rect fill=\"#F8F8F8\" height=\"37.9375\" style=\"stroke: #383838; stroke-width: 1.5;\" width=\"132\" x=\"7\" y=\"42.0986\"/><text fill=\"#000000\" font-family=\"sans-serif\" font-size=\"12\" font-style=\"italic\" lengthAdjust=\"spacingAndGlyphs\" textLength=\"77\" x=\"34.5\" y=\"58.2373\">«action def»</text><text fill=\"#000000\" font-family=\"sans-serif\" font-size=\"12\" lengthAdjust=\"spacingAndGlyphs\" textLength=\"27\" x=\"59.5\" y=\"72.2061\">setX</text></a><text fill=\"#000000\" font-family=\"sans-serif\" font-size=\"14\" lengthAdjust=\"spacingAndGlyphs\" textLength=\"8\" x=\"21\" y=\"20.7969\">c</text><rect fill=\"#383838\" height=\"12\" style=\"stroke: #F8F8F8; stroke-width: 1.5;\" width=\"12\" x=\"19\" y=\"36.0986\"/><text fill=\"#000000\" font-family=\"sans-serif\" font-size=\"14\" lengthAdjust=\"spacingAndGlyphs\" textLength=\"38\" x=\"53\" y=\"20.7969\">newX</text><rect fill=\"#383838\" height=\"12\" style=\"stroke: #F8F8F8; stroke-width: 1.5;\" width=\"12\" x=\"66\" y=\"36.0986\"/><!--MD5=[7eee3a4ec1987b4d336e748eaa4d655d]\n",
       "@startuml\r\n",
       "skinparam ranksep 8\r\n",
       "skinparam monochrome true\r\n",
       "skinparam classbackgroundcolor white\r\n",
       "skinparam shadowing false\r\n",
       "skinparam wrapWidth 300\r\n",
       "hide circle\r\n",
       "\r\n",
       "rec def \"setX\" as E1  <<(T,blue) action def>> [[psysml:13c6c11f-d2db-48ba-8729-714e79a71a8b ]] {\r\n",
       "portin \"c\" as E2  [[psysml:b2a1dac5-50e3-4d3d-9a14-28fff19dad0f ]] \r\n",
       "portin \"newX\" as E3  [[psysml:3095d82e-c5b2-4faf-b7d1-254d70a18586 ]] \r\n",
       "}\r\n",
       "\r\n",
       "@enduml\r\n",
       "\n",
       "PlantUML version 1.2020.13(Sat Jun 13 12:26:38 UTC 2020)\n",
       "(EPL source distribution)\n",
       "Java Runtime: OpenJDK Runtime Environment\n",
       "JVM: OpenJDK 64-Bit Server VM\n",
       "Default Encoding: UTF-8\n",
       "Language: en\n",
       "Country: null\n",
       "--></g></svg>"
      ]
     },
     "execution_count": 41,
     "metadata": {},
     "output_type": "execute_result"
    }
   ],
   "source": [
    "%viz --style=\"DEFAULT\" --view=\"Action\" \"TextualRepresentationTest\""
   ]
  },
  {
   "cell_type": "code",
   "execution_count": 42,
   "id": "6fb34e44",
   "metadata": {
    "execution": {
     "iopub.execute_input": "2021-09-27T07:18:35.128901Z",
     "iopub.status.busy": "2021-09-27T07:18:35.128385Z",
     "iopub.status.idle": "2021-09-27T07:18:35.133761Z",
     "shell.execute_reply": "2021-09-27T07:18:35.133340Z"
    }
   },
   "outputs": [
    {
     "data": {
      "image/svg+xml": [
       "<?xml version=\"1.0\" encoding=\"UTF-8\" standalone=\"no\"?><svg xmlns=\"http://www.w3.org/2000/svg\" xmlns:xlink=\"http://www.w3.org/1999/xlink\" contentScriptType=\"application/ecmascript\" contentStyleType=\"text/css\" height=\"12px\" preserveAspectRatio=\"none\" style=\"width:12px;height:12px;\" version=\"1.1\" viewBox=\"0 0 12 12\" width=\"12px\" zoomAndPan=\"magnify\"><defs/><g><!--MD5=[0b72472770326784bf6c2b53246e1e64]\n",
       "@startuml\r\n",
       "skinparam roundcorner 20\r\n",
       "skinparam BoxPadding 20\r\n",
       "skinparam SequenceBoxBackgroundColor #white\r\n",
       "skinparam style strictuml\r\n",
       "skinparam maxMessageSize 100\r\n",
       "skinparam monochrome true\r\n",
       "skinparam classbackgroundcolor white\r\n",
       "skinparam shadowing false\r\n",
       "skinparam wrapWidth 300\r\n",
       "hide circle\r\n",
       "\r\n",
       "@enduml\r\n",
       "\n",
       "PlantUML version 1.2020.13(Sat Jun 13 12:26:38 UTC 2020)\n",
       "(EPL source distribution)\n",
       "Java Runtime: OpenJDK Runtime Environment\n",
       "JVM: OpenJDK 64-Bit Server VM\n",
       "Default Encoding: UTF-8\n",
       "Language: en\n",
       "Country: null\n",
       "--></g></svg>"
      ]
     },
     "execution_count": 42,
     "metadata": {},
     "output_type": "execute_result"
    }
   ],
   "source": [
    "%viz --style=\"DEFAULT\" --view=\"Sequence\" \"TextualRepresentationTest\""
   ]
  },
  {
   "cell_type": "code",
   "execution_count": 43,
   "id": "74e9a587",
   "metadata": {
    "execution": {
     "iopub.execute_input": "2021-09-27T07:18:35.183572Z",
     "iopub.status.busy": "2021-09-27T07:18:35.183156Z",
     "iopub.status.idle": "2021-09-27T07:18:35.226531Z",
     "shell.execute_reply": "2021-09-27T07:18:35.226164Z"
    }
   },
   "outputs": [
    {
     "data": {
      "image/svg+xml": [
       "<?xml version=\"1.0\" encoding=\"UTF-8\" standalone=\"no\"?><svg xmlns=\"http://www.w3.org/2000/svg\" xmlns:xlink=\"http://www.w3.org/1999/xlink\" contentScriptType=\"application/ecmascript\" contentStyleType=\"text/css\" height=\"261px\" preserveAspectRatio=\"none\" style=\"width:345px;height:261px;\" version=\"1.1\" viewBox=\"0 0 345 261\" width=\"345px\" zoomAndPan=\"magnify\"><defs/><g><!--MD5=[fbc87193dbaf4d95561dea2c320d4a47]\n",
       "cluster E1--><a href=\"psysml:fa6c1bf2-147a-4459-8db1-4c7f2c0aa92b\" target=\"_top\" title=\"psysml:fa6c1bf2-147a-4459-8db1-4c7f2c0aa92b\" xlink:actuate=\"onRequest\" xlink:href=\"psysml:fa6c1bf2-147a-4459-8db1-4c7f2c0aa92b\" xlink:show=\"new\" xlink:title=\"psysml:fa6c1bf2-147a-4459-8db1-4c7f2c0aa92b\" xlink:type=\"simple\"><polygon fill=\"#FFFFFF\" points=\"16,6,210,6,217,28.2969,323,28.2969,323,249.5,16,249.5,16,6\" style=\"stroke: #000000; stroke-width: 1.5;\"/><line style=\"stroke: #000000; stroke-width: 1.5;\" x1=\"16\" x2=\"217\" y1=\"28.2969\" y2=\"28.2969\"/><text fill=\"#000000\" font-family=\"sans-serif\" font-size=\"14\" font-weight=\"bold\" lengthAdjust=\"spacingAndGlyphs\" textLength=\"188\" x=\"20\" y=\"20.9951\">TextualRepresentationTest</text></a><!--MD5=[f6df4d0ebaf0b5dfb2ced0ae5af7c670]\n",
       "cluster E4--><a href=\"psysml:13c6c11f-d2db-48ba-8729-714e79a71a8b\" target=\"_top\" title=\"psysml:13c6c11f-d2db-48ba-8729-714e79a71a8b\" xlink:actuate=\"onRequest\" xlink:href=\"psysml:13c6c11f-d2db-48ba-8729-714e79a71a8b\" xlink:show=\"new\" xlink:title=\"psysml:13c6c11f-d2db-48ba-8729-714e79a71a8b\" xlink:type=\"simple\"><rect fill=\"#FFFFFF\" height=\"154.5\" id=\"E4\" style=\"stroke: #383838; stroke-width: 1.5;\" width=\"132\" x=\"175\" y=\"79\"/><rect fill=\"#F8F8F8\" height=\"37.9375\" style=\"stroke: #383838; stroke-width: 1.5;\" width=\"132\" x=\"175\" y=\"79\"/><text fill=\"#000000\" font-family=\"sans-serif\" font-size=\"12\" font-style=\"italic\" lengthAdjust=\"spacingAndGlyphs\" textLength=\"77\" x=\"202.5\" y=\"95.1387\">«action def»</text><text fill=\"#000000\" font-family=\"sans-serif\" font-size=\"12\" lengthAdjust=\"spacingAndGlyphs\" textLength=\"27\" x=\"227.5\" y=\"109.1074\">setX</text></a><!--MD5=[b4997ac47864f28c2f74865a473b2911]\n",
       "class E2--><a href=\"psysml:7c3e9caa-80d9-4c4c-adc7-c498b9bc223a\" target=\"_top\" title=\"psysml:7c3e9caa-80d9-4c4c-adc7-c498b9bc223a\" xlink:actuate=\"onRequest\" xlink:href=\"psysml:7c3e9caa-80d9-4c4c-adc7-c498b9bc223a\" xlink:show=\"new\" xlink:title=\"psysml:7c3e9caa-80d9-4c4c-adc7-c498b9bc223a\" xlink:type=\"simple\"><rect fill=\"#FFFFFF\" height=\"75.5469\" id=\"E2\" style=\"stroke: #383838; stroke-width: 1.5;\" width=\"67\" x=\"59.5\" y=\"41\"/><text fill=\"#000000\" font-family=\"sans-serif\" font-size=\"12\" font-style=\"italic\" lengthAdjust=\"spacingAndGlyphs\" textLength=\"65\" x=\"60.5\" y=\"57.1387\">«item def»</text><text fill=\"#000000\" font-family=\"sans-serif\" font-size=\"12\" lengthAdjust=\"spacingAndGlyphs\" textLength=\"8\" x=\"89\" y=\"71.1074\">C</text><line style=\"stroke: #383838; stroke-width: 1.5;\" x1=\"60.5\" x2=\"125.5\" y1=\"78.9375\" y2=\"78.9375\"/><text fill=\"#000000\" font-family=\"sans-serif\" font-size=\"11\" lengthAdjust=\"spacingAndGlyphs\" textLength=\"38\" x=\"65.5\" y=\"109.9526\">x: Real</text><line style=\"stroke: #383838; stroke-width: 1.0;\" x1=\"60.5\" x2=\"65.5\" y1=\"93.3398\" y2=\"93.3398\"/><text fill=\"#000000\" font-family=\"sans-serif\" font-size=\"11\" lengthAdjust=\"spacingAndGlyphs\" textLength=\"55\" x=\"65.5\" y=\"96.6479\">attributes</text><line style=\"stroke: #383838; stroke-width: 1.0;\" x1=\"120.5\" x2=\"125.5\" y1=\"93.3398\" y2=\"93.3398\"/></a><!--MD5=[09b614a08d8cba4a07c9adeb5e0fee81]\n",
       "class E3--><a href=\"psysml:c1adaef5-a811-466e-b0b1-353fc6834fce\" target=\"_top\" title=\"psysml:c1adaef5-a811-466e-b0b1-353fc6834fce\" xlink:actuate=\"onRequest\" xlink:href=\"psysml:c1adaef5-a811-466e-b0b1-353fc6834fce\" xlink:show=\"new\" xlink:title=\"psysml:c1adaef5-a811-466e-b0b1-353fc6834fce\" xlink:type=\"simple\"><rect fill=\"#FFFFFF\" height=\"45.9375\" id=\"E3\" rx=\"10\" ry=\"10\" style=\"stroke: #383838; stroke-width: 1.5;\" width=\"121\" x=\"32.5\" y=\"177\"/><text fill=\"#000000\" font-family=\"sans-serif\" font-size=\"12\" font-style=\"italic\" lengthAdjust=\"spacingAndGlyphs\" textLength=\"119\" x=\"33.5\" y=\"193.1387\">«assertConstraint»</text><text fill=\"#000000\" font-family=\"sans-serif\" font-size=\"12\" lengthAdjust=\"spacingAndGlyphs\" textLength=\"76\" x=\"55\" y=\"207.1074\">x_constraint</text><line style=\"stroke: #383838; stroke-width: 1.5;\" x1=\"33.5\" x2=\"152.5\" y1=\"214.9375\" y2=\"214.9375\"/></a><text fill=\"#000000\" font-family=\"sans-serif\" font-size=\"14\" lengthAdjust=\"spacingAndGlyphs\" textLength=\"8\" x=\"189\" y=\"57.6982\">c</text><rect fill=\"#383838\" height=\"12\" style=\"stroke: #F8F8F8; stroke-width: 1.5;\" width=\"12\" x=\"187\" y=\"73\"/><text fill=\"#000000\" font-family=\"sans-serif\" font-size=\"14\" lengthAdjust=\"spacingAndGlyphs\" textLength=\"38\" x=\"221\" y=\"57.6982\">newX</text><rect fill=\"#383838\" height=\"12\" style=\"stroke: #F8F8F8; stroke-width: 1.5;\" width=\"12\" x=\"234\" y=\"73\"/><!--MD5=[209b3feb70ccb6233bfe1053d122c12c]\n",
       "reverse link E2 to E3--><a href=\"psysml:6c3bd0c1-e9ea-4acc-b51f-d35f7aefdb06\" target=\"_top\" title=\"psysml:6c3bd0c1-e9ea-4acc-b51f-d35f7aefdb06\" xlink:actuate=\"onRequest\" xlink:href=\"psysml:6c3bd0c1-e9ea-4acc-b51f-d35f7aefdb06\" xlink:show=\"new\" xlink:title=\"psysml:6c3bd0c1-e9ea-4acc-b51f-d35f7aefdb06\" xlink:type=\"simple\"><path d=\"M93,130.34 C93,146.61 93,163.81 93,176.93 \" fill=\"none\" id=\"E2&lt;-E3\" style=\"stroke: #383838; stroke-width: 1.0;\"/><polygon fill=\"#383838\" points=\"93,117,89,123,93,129,97,123,93,117\" style=\"stroke: #383838; stroke-width: 1.0;\"/><text fill=\"#000000\" font-family=\"sans-serif\" font-size=\"13\" lengthAdjust=\"spacingAndGlyphs\" textLength=\"7\" x=\"85.0594\" y=\"165.8075\">*</text></a><!--MD5=[f6614106e13e8a293f2f7457c63e8df4]\n",
       "@startuml\r\n",
       "skinparam monochrome true\r\n",
       "skinparam classbackgroundcolor white\r\n",
       "skinparam shadowing false\r\n",
       "skinparam wrapWidth 300\r\n",
       "hide circle\r\n",
       "\r\n",
       "package \"TextualRepresentationTest\" as E1  [[psysml:fa6c1bf2-147a-4459-8db1-4c7f2c0aa92b ]]  {\r\n",
       "comp def \"C\" as E2  <<(T,blue) item def>> [[psysml:7c3e9caa-80d9-4c4c-adc7-c498b9bc223a ]] {\r\n",
       "- - attributes - -\r\n",
       "x: Real\r\n",
       "}\r\n",
       "comp usage \"x_constraint\" as E3  <<(T,blue) assertConstraint>> [[psysml:c1adaef5-a811-466e-b0b1-353fc6834fce ]] {\r\n",
       "}\r\n",
       "rec def \"setX\" as E4  <<(T,blue) action def>> [[psysml:13c6c11f-d2db-48ba-8729-714e79a71a8b ]] {\r\n",
       "portin \"c\" as E5  [[psysml:b2a1dac5-50e3-4d3d-9a14-28fff19dad0f ]] \r\n",
       "portin \"newX\" as E6  [[psysml:3095d82e-c5b2-4faf-b7d1-254d70a18586 ]] \r\n",
       "}\r\n",
       "\r\n",
       "}\r\n",
       "E2 *- - \"*\"E3 [[psysml:6c3bd0c1-e9ea-4acc-b51f-d35f7aefdb06 ]] \r\n",
       "@enduml\r\n",
       "\n",
       "PlantUML version 1.2020.13(Sat Jun 13 12:26:38 UTC 2020)\n",
       "(EPL source distribution)\n",
       "Java Runtime: OpenJDK Runtime Environment\n",
       "JVM: OpenJDK 64-Bit Server VM\n",
       "Default Encoding: UTF-8\n",
       "Language: en\n",
       "Country: null\n",
       "--></g></svg>"
      ]
     },
     "execution_count": 43,
     "metadata": {},
     "output_type": "execute_result"
    }
   ],
   "source": [
    "%viz --style=\"DEFAULT\" --view=\"MIXED\" \"TextualRepresentationTest\""
   ]
  },
  {
   "cell_type": "code",
   "execution_count": 44,
   "id": "89b28092",
   "metadata": {
    "execution": {
     "iopub.execute_input": "2021-09-27T07:18:35.276451Z",
     "iopub.status.busy": "2021-09-27T07:18:35.275946Z",
     "iopub.status.idle": "2021-09-27T07:18:35.315919Z",
     "shell.execute_reply": "2021-09-27T07:18:35.315332Z"
    }
   },
   "outputs": [
    {
     "data": {
      "image/svg+xml": [
       "<?xml version=\"1.0\" encoding=\"UTF-8\" standalone=\"no\"?><svg xmlns=\"http://www.w3.org/2000/svg\" xmlns:xlink=\"http://www.w3.org/1999/xlink\" contentScriptType=\"application/ecmascript\" contentStyleType=\"text/css\" height=\"261px\" preserveAspectRatio=\"none\" style=\"width:345px;height:261px;\" version=\"1.1\" viewBox=\"0 0 345 261\" width=\"345px\" zoomAndPan=\"magnify\"><defs/><g><!--MD5=[fbc87193dbaf4d95561dea2c320d4a47]\n",
       "cluster E1--><a href=\"psysml:fa6c1bf2-147a-4459-8db1-4c7f2c0aa92b\" target=\"_top\" title=\"psysml:fa6c1bf2-147a-4459-8db1-4c7f2c0aa92b\" xlink:actuate=\"onRequest\" xlink:href=\"psysml:fa6c1bf2-147a-4459-8db1-4c7f2c0aa92b\" xlink:show=\"new\" xlink:title=\"psysml:fa6c1bf2-147a-4459-8db1-4c7f2c0aa92b\" xlink:type=\"simple\"><polygon fill=\"#FFFFFF\" points=\"16,6,210,6,217,28.2969,323,28.2969,323,249.5,16,249.5,16,6\" style=\"stroke: #000000; stroke-width: 1.5;\"/><line style=\"stroke: #000000; stroke-width: 1.5;\" x1=\"16\" x2=\"217\" y1=\"28.2969\" y2=\"28.2969\"/><text fill=\"#000000\" font-family=\"sans-serif\" font-size=\"14\" font-weight=\"bold\" lengthAdjust=\"spacingAndGlyphs\" textLength=\"188\" x=\"20\" y=\"20.9951\">TextualRepresentationTest</text></a><!--MD5=[f6df4d0ebaf0b5dfb2ced0ae5af7c670]\n",
       "cluster E4--><a href=\"psysml:13c6c11f-d2db-48ba-8729-714e79a71a8b\" target=\"_top\" title=\"psysml:13c6c11f-d2db-48ba-8729-714e79a71a8b\" xlink:actuate=\"onRequest\" xlink:href=\"psysml:13c6c11f-d2db-48ba-8729-714e79a71a8b\" xlink:show=\"new\" xlink:title=\"psysml:13c6c11f-d2db-48ba-8729-714e79a71a8b\" xlink:type=\"simple\"><rect fill=\"#FFFFFF\" height=\"154.5\" id=\"E4\" style=\"stroke: #383838; stroke-width: 1.5;\" width=\"132\" x=\"175\" y=\"79\"/><rect fill=\"#F8F8F8\" height=\"37.9375\" style=\"stroke: #383838; stroke-width: 1.5;\" width=\"132\" x=\"175\" y=\"79\"/><text fill=\"#000000\" font-family=\"sans-serif\" font-size=\"12\" font-style=\"italic\" lengthAdjust=\"spacingAndGlyphs\" textLength=\"77\" x=\"202.5\" y=\"95.1387\">«action def»</text><text fill=\"#000000\" font-family=\"sans-serif\" font-size=\"12\" lengthAdjust=\"spacingAndGlyphs\" textLength=\"27\" x=\"227.5\" y=\"109.1074\">setX</text></a><!--MD5=[b4997ac47864f28c2f74865a473b2911]\n",
       "class E2--><a href=\"psysml:7c3e9caa-80d9-4c4c-adc7-c498b9bc223a\" target=\"_top\" title=\"psysml:7c3e9caa-80d9-4c4c-adc7-c498b9bc223a\" xlink:actuate=\"onRequest\" xlink:href=\"psysml:7c3e9caa-80d9-4c4c-adc7-c498b9bc223a\" xlink:show=\"new\" xlink:title=\"psysml:7c3e9caa-80d9-4c4c-adc7-c498b9bc223a\" xlink:type=\"simple\"><rect fill=\"#FFFFFF\" height=\"75.5469\" id=\"E2\" style=\"stroke: #383838; stroke-width: 1.5;\" width=\"67\" x=\"59.5\" y=\"41\"/><text fill=\"#000000\" font-family=\"sans-serif\" font-size=\"12\" font-style=\"italic\" lengthAdjust=\"spacingAndGlyphs\" textLength=\"65\" x=\"60.5\" y=\"57.1387\">«item def»</text><text fill=\"#000000\" font-family=\"sans-serif\" font-size=\"12\" lengthAdjust=\"spacingAndGlyphs\" textLength=\"8\" x=\"89\" y=\"71.1074\">C</text><line style=\"stroke: #383838; stroke-width: 1.5;\" x1=\"60.5\" x2=\"125.5\" y1=\"78.9375\" y2=\"78.9375\"/><text fill=\"#000000\" font-family=\"sans-serif\" font-size=\"11\" lengthAdjust=\"spacingAndGlyphs\" textLength=\"38\" x=\"65.5\" y=\"109.9526\">x: Real</text><line style=\"stroke: #383838; stroke-width: 1.0;\" x1=\"60.5\" x2=\"65.5\" y1=\"93.3398\" y2=\"93.3398\"/><text fill=\"#000000\" font-family=\"sans-serif\" font-size=\"11\" lengthAdjust=\"spacingAndGlyphs\" textLength=\"55\" x=\"65.5\" y=\"96.6479\">attributes</text><line style=\"stroke: #383838; stroke-width: 1.0;\" x1=\"120.5\" x2=\"125.5\" y1=\"93.3398\" y2=\"93.3398\"/></a><!--MD5=[09b614a08d8cba4a07c9adeb5e0fee81]\n",
       "class E3--><a href=\"psysml:c1adaef5-a811-466e-b0b1-353fc6834fce\" target=\"_top\" title=\"psysml:c1adaef5-a811-466e-b0b1-353fc6834fce\" xlink:actuate=\"onRequest\" xlink:href=\"psysml:c1adaef5-a811-466e-b0b1-353fc6834fce\" xlink:show=\"new\" xlink:title=\"psysml:c1adaef5-a811-466e-b0b1-353fc6834fce\" xlink:type=\"simple\"><rect fill=\"#FFFFFF\" height=\"45.9375\" id=\"E3\" rx=\"10\" ry=\"10\" style=\"stroke: #383838; stroke-width: 1.5;\" width=\"121\" x=\"32.5\" y=\"177\"/><text fill=\"#000000\" font-family=\"sans-serif\" font-size=\"12\" font-style=\"italic\" lengthAdjust=\"spacingAndGlyphs\" textLength=\"119\" x=\"33.5\" y=\"193.1387\">«assertConstraint»</text><text fill=\"#000000\" font-family=\"sans-serif\" font-size=\"12\" lengthAdjust=\"spacingAndGlyphs\" textLength=\"76\" x=\"55\" y=\"207.1074\">x_constraint</text><line style=\"stroke: #383838; stroke-width: 1.5;\" x1=\"33.5\" x2=\"152.5\" y1=\"214.9375\" y2=\"214.9375\"/></a><text fill=\"#000000\" font-family=\"sans-serif\" font-size=\"14\" lengthAdjust=\"spacingAndGlyphs\" textLength=\"8\" x=\"189\" y=\"57.6982\">c</text><rect fill=\"#383838\" height=\"12\" style=\"stroke: #F8F8F8; stroke-width: 1.5;\" width=\"12\" x=\"187\" y=\"73\"/><text fill=\"#000000\" font-family=\"sans-serif\" font-size=\"14\" lengthAdjust=\"spacingAndGlyphs\" textLength=\"38\" x=\"221\" y=\"57.6982\">newX</text><rect fill=\"#383838\" height=\"12\" style=\"stroke: #F8F8F8; stroke-width: 1.5;\" width=\"12\" x=\"234\" y=\"73\"/><!--MD5=[209b3feb70ccb6233bfe1053d122c12c]\n",
       "reverse link E2 to E3--><a href=\"psysml:6c3bd0c1-e9ea-4acc-b51f-d35f7aefdb06\" target=\"_top\" title=\"psysml:6c3bd0c1-e9ea-4acc-b51f-d35f7aefdb06\" xlink:actuate=\"onRequest\" xlink:href=\"psysml:6c3bd0c1-e9ea-4acc-b51f-d35f7aefdb06\" xlink:show=\"new\" xlink:title=\"psysml:6c3bd0c1-e9ea-4acc-b51f-d35f7aefdb06\" xlink:type=\"simple\"><path d=\"M93,130.34 C93,146.61 93,163.81 93,176.93 \" fill=\"none\" id=\"E2&lt;-E3\" style=\"stroke: #383838; stroke-width: 1.0;\"/><polygon fill=\"#383838\" points=\"93,117,89,123,93,129,97,123,93,117\" style=\"stroke: #383838; stroke-width: 1.0;\"/><text fill=\"#000000\" font-family=\"sans-serif\" font-size=\"13\" lengthAdjust=\"spacingAndGlyphs\" textLength=\"7\" x=\"85.0594\" y=\"165.8075\">*</text></a><!--MD5=[8ef7948736a1f5d91caddc69444e0f1f]\n",
       "@startuml\r\n",
       "top to bottom direction\r\n",
       "skinparam monochrome true\r\n",
       "skinparam classbackgroundcolor white\r\n",
       "skinparam shadowing false\r\n",
       "skinparam wrapWidth 300\r\n",
       "hide circle\r\n",
       "\r\n",
       "package \"TextualRepresentationTest\" as E1  [[psysml:fa6c1bf2-147a-4459-8db1-4c7f2c0aa92b ]]  {\r\n",
       "comp def \"C\" as E2  <<(T,blue) item def>> [[psysml:7c3e9caa-80d9-4c4c-adc7-c498b9bc223a ]] {\r\n",
       "- - attributes - -\r\n",
       "x: Real\r\n",
       "}\r\n",
       "comp usage \"x_constraint\" as E3  <<(T,blue) assertConstraint>> [[psysml:c1adaef5-a811-466e-b0b1-353fc6834fce ]] {\r\n",
       "}\r\n",
       "rec def \"setX\" as E4  <<(T,blue) action def>> [[psysml:13c6c11f-d2db-48ba-8729-714e79a71a8b ]] {\r\n",
       "portin \"c\" as E5  [[psysml:b2a1dac5-50e3-4d3d-9a14-28fff19dad0f ]] \r\n",
       "portin \"newX\" as E6  [[psysml:3095d82e-c5b2-4faf-b7d1-254d70a18586 ]] \r\n",
       "}\r\n",
       "\r\n",
       "}\r\n",
       "E2 *- - \"*\"E3 [[psysml:6c3bd0c1-e9ea-4acc-b51f-d35f7aefdb06 ]] \r\n",
       "@enduml\r\n",
       "\n",
       "PlantUML version 1.2020.13(Sat Jun 13 12:26:38 UTC 2020)\n",
       "(EPL source distribution)\n",
       "Java Runtime: OpenJDK Runtime Environment\n",
       "JVM: OpenJDK 64-Bit Server VM\n",
       "Default Encoding: UTF-8\n",
       "Language: en\n",
       "Country: null\n",
       "--></g></svg>"
      ]
     },
     "execution_count": 44,
     "metadata": {},
     "output_type": "execute_result"
    }
   ],
   "source": [
    "%viz --style=\"TB\" --view=\"Default\" \"TextualRepresentationTest\""
   ]
  },
  {
   "cell_type": "code",
   "execution_count": 45,
   "id": "6878c7bb",
   "metadata": {
    "execution": {
     "iopub.execute_input": "2021-09-27T07:18:35.364917Z",
     "iopub.status.busy": "2021-09-27T07:18:35.364461Z",
     "iopub.status.idle": "2021-09-27T07:18:35.403512Z",
     "shell.execute_reply": "2021-09-27T07:18:35.402232Z"
    }
   },
   "outputs": [
    {
     "data": {
      "image/svg+xml": [
       "<?xml version=\"1.0\" encoding=\"UTF-8\" standalone=\"no\"?><svg xmlns=\"http://www.w3.org/2000/svg\" xmlns:xlink=\"http://www.w3.org/1999/xlink\" contentScriptType=\"application/ecmascript\" contentStyleType=\"text/css\" height=\"375px\" preserveAspectRatio=\"none\" style=\"width:242px;height:375px;\" version=\"1.1\" viewBox=\"0 0 242 375\" width=\"242px\" zoomAndPan=\"magnify\"><defs/><g><!--MD5=[fbc87193dbaf4d95561dea2c320d4a47]\n",
       "cluster E1--><a href=\"psysml:fa6c1bf2-147a-4459-8db1-4c7f2c0aa92b\" target=\"_top\" title=\"psysml:fa6c1bf2-147a-4459-8db1-4c7f2c0aa92b\" xlink:actuate=\"onRequest\" xlink:href=\"psysml:fa6c1bf2-147a-4459-8db1-4c7f2c0aa92b\" xlink:show=\"new\" xlink:title=\"psysml:fa6c1bf2-147a-4459-8db1-4c7f2c0aa92b\" xlink:type=\"simple\"><polygon fill=\"#FFFFFF\" points=\"16,6,210,6,217,28.2969,220,28.2969,220,363,16,363,16,6\" style=\"stroke: #000000; stroke-width: 1.5;\"/><line style=\"stroke: #000000; stroke-width: 1.5;\" x1=\"16\" x2=\"217\" y1=\"28.2969\" y2=\"28.2969\"/><text fill=\"#000000\" font-family=\"sans-serif\" font-size=\"14\" font-weight=\"bold\" lengthAdjust=\"spacingAndGlyphs\" textLength=\"188\" x=\"20\" y=\"20.9951\">TextualRepresentationTest</text></a><!--MD5=[b4997ac47864f28c2f74865a473b2911]\n",
       "class E2--><a href=\"psysml:7c3e9caa-80d9-4c4c-adc7-c498b9bc223a\" target=\"_top\" title=\"psysml:7c3e9caa-80d9-4c4c-adc7-c498b9bc223a\" xlink:actuate=\"onRequest\" xlink:href=\"psysml:7c3e9caa-80d9-4c4c-adc7-c498b9bc223a\" xlink:show=\"new\" xlink:title=\"psysml:7c3e9caa-80d9-4c4c-adc7-c498b9bc223a\" xlink:type=\"simple\"><rect fill=\"#FFFFFF\" height=\"75.5469\" id=\"E2\" style=\"stroke: #383838; stroke-width: 1.5;\" width=\"67\" x=\"84.5\" y=\"164\"/><text fill=\"#000000\" font-family=\"sans-serif\" font-size=\"12\" font-style=\"italic\" lengthAdjust=\"spacingAndGlyphs\" textLength=\"65\" x=\"85.5\" y=\"180.1387\">«item def»</text><text fill=\"#000000\" font-family=\"sans-serif\" font-size=\"12\" lengthAdjust=\"spacingAndGlyphs\" textLength=\"8\" x=\"114\" y=\"194.1074\">C</text><line style=\"stroke: #383838; stroke-width: 1.5;\" x1=\"85.5\" x2=\"150.5\" y1=\"201.9375\" y2=\"201.9375\"/><text fill=\"#000000\" font-family=\"sans-serif\" font-size=\"11\" lengthAdjust=\"spacingAndGlyphs\" textLength=\"38\" x=\"90.5\" y=\"232.9526\">x: Real</text><line style=\"stroke: #383838; stroke-width: 1.0;\" x1=\"85.5\" x2=\"90.5\" y1=\"216.3398\" y2=\"216.3398\"/><text fill=\"#000000\" font-family=\"sans-serif\" font-size=\"11\" lengthAdjust=\"spacingAndGlyphs\" textLength=\"55\" x=\"90.5\" y=\"219.6479\">attributes</text><line style=\"stroke: #383838; stroke-width: 1.0;\" x1=\"145.5\" x2=\"150.5\" y1=\"216.3398\" y2=\"216.3398\"/></a><!--MD5=[09b614a08d8cba4a07c9adeb5e0fee81]\n",
       "class E3--><a href=\"psysml:c1adaef5-a811-466e-b0b1-353fc6834fce\" target=\"_top\" title=\"psysml:c1adaef5-a811-466e-b0b1-353fc6834fce\" xlink:actuate=\"onRequest\" xlink:href=\"psysml:c1adaef5-a811-466e-b0b1-353fc6834fce\" xlink:show=\"new\" xlink:title=\"psysml:c1adaef5-a811-466e-b0b1-353fc6834fce\" xlink:type=\"simple\"><rect fill=\"#FFFFFF\" height=\"45.9375\" id=\"E3\" rx=\"10\" ry=\"10\" style=\"stroke: #383838; stroke-width: 1.5;\" width=\"121\" x=\"57.5\" y=\"301\"/><text fill=\"#000000\" font-family=\"sans-serif\" font-size=\"12\" font-style=\"italic\" lengthAdjust=\"spacingAndGlyphs\" textLength=\"119\" x=\"58.5\" y=\"317.1387\">«assertConstraint»</text><text fill=\"#000000\" font-family=\"sans-serif\" font-size=\"12\" lengthAdjust=\"spacingAndGlyphs\" textLength=\"76\" x=\"80\" y=\"331.1074\">x_constraint</text><line style=\"stroke: #383838; stroke-width: 1.5;\" x1=\"58.5\" x2=\"177.5\" y1=\"338.9375\" y2=\"338.9375\"/></a><!--MD5=[ebbe1d658d1005bcc118a6aa81145e00]\n",
       "class E4--><a href=\"psysml:13c6c11f-d2db-48ba-8729-714e79a71a8b\" target=\"_top\" title=\"psysml:13c6c11f-d2db-48ba-8729-714e79a71a8b\" xlink:actuate=\"onRequest\" xlink:href=\"psysml:13c6c11f-d2db-48ba-8729-714e79a71a8b\" xlink:show=\"new\" xlink:title=\"psysml:13c6c11f-d2db-48ba-8729-714e79a71a8b\" xlink:type=\"simple\"><rect fill=\"#FFFFFF\" height=\"45.9375\" id=\"E4\" style=\"stroke: #383838; stroke-width: 1.5;\" width=\"79\" x=\"78.5\" y=\"41\"/><text fill=\"#000000\" font-family=\"sans-serif\" font-size=\"12\" font-style=\"italic\" lengthAdjust=\"spacingAndGlyphs\" textLength=\"77\" x=\"79.5\" y=\"57.1387\">«action def»</text><text fill=\"#000000\" font-family=\"sans-serif\" font-size=\"12\" lengthAdjust=\"spacingAndGlyphs\" textLength=\"27\" x=\"104.5\" y=\"71.1074\">setX</text><line style=\"stroke: #383838; stroke-width: 1.5;\" x1=\"79.5\" x2=\"156.5\" y1=\"78.9375\" y2=\"78.9375\"/></a><!--MD5=[209b3feb70ccb6233bfe1053d122c12c]\n",
       "reverse link E2 to E3--><a href=\"psysml:6c3bd0c1-e9ea-4acc-b51f-d35f7aefdb06\" target=\"_top\" title=\"psysml:6c3bd0c1-e9ea-4acc-b51f-d35f7aefdb06\" xlink:actuate=\"onRequest\" xlink:href=\"psysml:6c3bd0c1-e9ea-4acc-b51f-d35f7aefdb06\" xlink:show=\"new\" xlink:title=\"psysml:6c3bd0c1-e9ea-4acc-b51f-d35f7aefdb06\" xlink:type=\"simple\"><path d=\"M118,253.76 C118,270.17 118,287.52 118,300.75 \" fill=\"none\" id=\"E2&lt;-E3\" style=\"stroke: #383838; stroke-width: 1.0;\"/><polygon fill=\"#383838\" points=\"118,240.31,114,246.31,118,252.31,122,246.31,118,240.31\" style=\"stroke: #383838; stroke-width: 1.0;\"/><text fill=\"#000000\" font-family=\"sans-serif\" font-size=\"13\" lengthAdjust=\"spacingAndGlyphs\" textLength=\"7\" x=\"110.1031\" y=\"289.9622\">*</text></a><!--MD5=[ddeed8deb2209213b62e6cfabaa108b2]\n",
       "reverse link E4 to E2--><a href=\"psysml:b2a1dac5-50e3-4d3d-9a14-28fff19dad0f\" target=\"_top\" title=\"psysml:b2a1dac5-50e3-4d3d-9a14-28fff19dad0f\" xlink:actuate=\"onRequest\" xlink:href=\"psysml:b2a1dac5-50e3-4d3d-9a14-28fff19dad0f\" xlink:show=\"new\" xlink:title=\"psysml:b2a1dac5-50e3-4d3d-9a14-28fff19dad0f\" xlink:type=\"simple\"><path d=\"M118,100.42 C118,119.95 118,144.19 118,163.97 \" fill=\"none\" id=\"E4&lt;-E2\" style=\"stroke: #383838; stroke-width: 1.0;\"/><polygon fill=\"#FFFFFF\" points=\"118,87.15,114,93.15,118,99.15,122,93.15,118,87.15\" style=\"stroke: #383838; stroke-width: 1.0;\"/><text fill=\"#000000\" font-family=\"sans-serif\" font-size=\"13\" lengthAdjust=\"spacingAndGlyphs\" textLength=\"7\" x=\"119\" y=\"130.0669\">c</text></a><!--MD5=[4069d7438786cfbf85f1a4fd7ed86766]\n",
       "@startuml\r\n",
       "top to bottom direction\r\n",
       "skinparam monochrome true\r\n",
       "skinparam classbackgroundcolor white\r\n",
       "skinparam shadowing false\r\n",
       "skinparam wrapWidth 300\r\n",
       "hide circle\r\n",
       "\r\n",
       "package \"TextualRepresentationTest\" as E1  [[psysml:fa6c1bf2-147a-4459-8db1-4c7f2c0aa92b ]]  {\r\n",
       "comp def \"C\" as E2  <<(T,blue) item def>> [[psysml:7c3e9caa-80d9-4c4c-adc7-c498b9bc223a ]] {\r\n",
       "- - attributes - -\r\n",
       "x: Real\r\n",
       "}\r\n",
       "comp usage \"x_constraint\" as E3  <<(T,blue) assertConstraint>> [[psysml:c1adaef5-a811-466e-b0b1-353fc6834fce ]] {\r\n",
       "}\r\n",
       "comp def \"setX\" as E4  <<(T,blue) action def>> [[psysml:13c6c11f-d2db-48ba-8729-714e79a71a8b ]] {\r\n",
       "}\r\n",
       "}\r\n",
       "E2 *- - \"*\"E3 [[psysml:6c3bd0c1-e9ea-4acc-b51f-d35f7aefdb06 ]] \r\n",
       "E4 o- - E2 [[psysml:b2a1dac5-50e3-4d3d-9a14-28fff19dad0f ]] : c\r\n",
       "@enduml\r\n",
       "\n",
       "PlantUML version 1.2020.13(Sat Jun 13 12:26:38 UTC 2020)\n",
       "(EPL source distribution)\n",
       "Java Runtime: OpenJDK Runtime Environment\n",
       "JVM: OpenJDK 64-Bit Server VM\n",
       "Default Encoding: UTF-8\n",
       "Language: en\n",
       "Country: null\n",
       "--></g></svg>"
      ]
     },
     "execution_count": 45,
     "metadata": {},
     "output_type": "execute_result"
    }
   ],
   "source": [
    "%viz --style=\"TB\" --view=\"Tree\" \"TextualRepresentationTest\""
   ]
  },
  {
   "cell_type": "code",
   "execution_count": 46,
   "id": "0f541fea",
   "metadata": {
    "execution": {
     "iopub.execute_input": "2021-09-27T07:18:35.453161Z",
     "iopub.status.busy": "2021-09-27T07:18:35.452634Z",
     "iopub.status.idle": "2021-09-27T07:18:35.457739Z",
     "shell.execute_reply": "2021-09-27T07:18:35.457370Z"
    }
   },
   "outputs": [
    {
     "data": {
      "image/svg+xml": [
       "<?xml version=\"1.0\" encoding=\"UTF-8\" standalone=\"no\"?><svg xmlns=\"http://www.w3.org/2000/svg\" xmlns:xlink=\"http://www.w3.org/1999/xlink\" contentScriptType=\"application/ecmascript\" contentStyleType=\"text/css\" height=\"12px\" preserveAspectRatio=\"none\" style=\"width:12px;height:12px;\" version=\"1.1\" viewBox=\"0 0 12 12\" width=\"12px\" zoomAndPan=\"magnify\"><defs/><g><!--MD5=[f4ee21bc66e489b5061b7c3e9601fdef]\n",
       "@startuml\r\n",
       "top to bottom direction\r\n",
       "skinparam monochrome true\r\n",
       "skinparam classbackgroundcolor white\r\n",
       "skinparam shadowing false\r\n",
       "skinparam wrapWidth 300\r\n",
       "hide circle\r\n",
       "\r\n",
       "@enduml\r\n",
       "\n",
       "PlantUML version 1.2020.13(Sat Jun 13 12:26:38 UTC 2020)\n",
       "(EPL source distribution)\n",
       "Java Runtime: OpenJDK Runtime Environment\n",
       "JVM: OpenJDK 64-Bit Server VM\n",
       "Default Encoding: UTF-8\n",
       "Language: en\n",
       "Country: null\n",
       "--></g></svg>"
      ]
     },
     "execution_count": 46,
     "metadata": {},
     "output_type": "execute_result"
    }
   ],
   "source": [
    "%viz --style=\"TB\" --view=\"State\" \"TextualRepresentationTest\""
   ]
  },
  {
   "cell_type": "code",
   "execution_count": 47,
   "id": "03d4f978",
   "metadata": {
    "execution": {
     "iopub.execute_input": "2021-09-27T07:18:35.507604Z",
     "iopub.status.busy": "2021-09-27T07:18:35.507181Z",
     "iopub.status.idle": "2021-09-27T07:18:35.534918Z",
     "shell.execute_reply": "2021-09-27T07:18:35.534546Z"
    }
   },
   "outputs": [
    {
     "data": {
      "image/svg+xml": [
       "<?xml version=\"1.0\" encoding=\"UTF-8\" standalone=\"no\"?><svg xmlns=\"http://www.w3.org/2000/svg\" xmlns:xlink=\"http://www.w3.org/1999/xlink\" contentScriptType=\"application/ecmascript\" contentStyleType=\"text/css\" height=\"179px\" preserveAspectRatio=\"none\" style=\"width:284px;height:179px;\" version=\"1.1\" viewBox=\"0 0 284 179\" width=\"284px\" zoomAndPan=\"magnify\"><defs/><g><!--MD5=[fbc87193dbaf4d95561dea2c320d4a47]\n",
       "cluster E1--><a href=\"psysml:fa6c1bf2-147a-4459-8db1-4c7f2c0aa92b\" target=\"_top\" title=\"psysml:fa6c1bf2-147a-4459-8db1-4c7f2c0aa92b\" xlink:actuate=\"onRequest\" xlink:href=\"psysml:fa6c1bf2-147a-4459-8db1-4c7f2c0aa92b\" xlink:show=\"new\" xlink:title=\"psysml:fa6c1bf2-147a-4459-8db1-4c7f2c0aa92b\" xlink:type=\"simple\"><polygon fill=\"#FFFFFF\" points=\"16,6,210,6,217,28.2969,262,28.2969,262,167,16,167,16,6\" style=\"stroke: #000000; stroke-width: 1.5;\"/><line style=\"stroke: #000000; stroke-width: 1.5;\" x1=\"16\" x2=\"217\" y1=\"28.2969\" y2=\"28.2969\"/><text fill=\"#000000\" font-family=\"sans-serif\" font-size=\"14\" font-weight=\"bold\" lengthAdjust=\"spacingAndGlyphs\" textLength=\"188\" x=\"20\" y=\"20.9951\">TextualRepresentationTest</text></a><!--MD5=[d5e69f78d87373223dbae638b30a9c99]\n",
       "cluster E3--><a href=\"psysml:13c6c11f-d2db-48ba-8729-714e79a71a8b\" target=\"_top\" title=\"psysml:13c6c11f-d2db-48ba-8729-714e79a71a8b\" xlink:actuate=\"onRequest\" xlink:href=\"psysml:13c6c11f-d2db-48ba-8729-714e79a71a8b\" xlink:show=\"new\" xlink:title=\"psysml:13c6c11f-d2db-48ba-8729-714e79a71a8b\" xlink:type=\"simple\"><rect fill=\"#FFFFFF\" height=\"88.5\" id=\"E3\" style=\"stroke: #383838; stroke-width: 1.5;\" width=\"96\" x=\"120.5\" y=\"62.5\"/><rect fill=\"#F8F8F8\" height=\"37.9375\" style=\"stroke: #383838; stroke-width: 1.5;\" width=\"96\" x=\"120.5\" y=\"62.5\"/><text fill=\"#000000\" font-family=\"sans-serif\" font-size=\"12\" font-style=\"italic\" lengthAdjust=\"spacingAndGlyphs\" textLength=\"77\" x=\"130\" y=\"78.6387\">«action def»</text><text fill=\"#000000\" font-family=\"sans-serif\" font-size=\"12\" lengthAdjust=\"spacingAndGlyphs\" textLength=\"27\" x=\"155\" y=\"92.6074\">setX</text></a><g id=\"E1.E2\"><a href=\"psysml:7c3e9caa-80d9-4c4c-adc7-c498b9bc223a\" target=\"_top\" title=\"psysml:7c3e9caa-80d9-4c4c-adc7-c498b9bc223a\" xlink:actuate=\"onRequest\" xlink:href=\"psysml:7c3e9caa-80d9-4c4c-adc7-c498b9bc223a\" xlink:show=\"new\" xlink:title=\"psysml:7c3e9caa-80d9-4c4c-adc7-c498b9bc223a\" xlink:type=\"simple\"><rect fill=\"#FFFFFF\" height=\"42.9375\" id=\"E2\" style=\"stroke: #383838; stroke-width: 1.5;\" width=\"72\" x=\"32\" y=\"41\"/><rect fill=\"#F8F8F8\" height=\"37.9375\" style=\"stroke: #383838; stroke-width: 1.5;\" width=\"72\" x=\"32\" y=\"41\"/><text fill=\"#000000\" font-family=\"sans-serif\" font-size=\"12\" font-style=\"italic\" lengthAdjust=\"spacingAndGlyphs\" textLength=\"65\" x=\"35.5\" y=\"57.1387\">«item def»</text><text fill=\"#000000\" font-family=\"sans-serif\" font-size=\"12\" lengthAdjust=\"spacingAndGlyphs\" textLength=\"8\" x=\"64\" y=\"71.1074\">C</text></a></g><text fill=\"#000000\" font-family=\"sans-serif\" font-size=\"14\" lengthAdjust=\"spacingAndGlyphs\" textLength=\"8\" x=\"141\" y=\"41.1982\">c</text><rect fill=\"#383838\" height=\"12\" style=\"stroke: #F8F8F8; stroke-width: 1.5;\" width=\"12\" x=\"139\" y=\"56.5\"/><text fill=\"#000000\" font-family=\"sans-serif\" font-size=\"14\" lengthAdjust=\"spacingAndGlyphs\" textLength=\"38\" x=\"173\" y=\"41.1982\">newX</text><rect fill=\"#383838\" height=\"12\" style=\"stroke: #F8F8F8; stroke-width: 1.5;\" width=\"12\" x=\"186\" y=\"56.5\"/><!--MD5=[1ac72f4c72cfe3021c260a9444670f88]\n",
       "@startuml\r\n",
       "skinparam ranksep 10\r\n",
       "skinparam rectangle {\r\n",
       " backgroundColor<<block>> LightGreen\r\n",
       "}\r\n",
       "top to bottom direction\r\n",
       "skinparam monochrome true\r\n",
       "skinparam classbackgroundcolor white\r\n",
       "skinparam shadowing false\r\n",
       "skinparam wrapWidth 300\r\n",
       "hide circle\r\n",
       "\r\n",
       "package \"TextualRepresentationTest\" as E1  [[psysml:fa6c1bf2-147a-4459-8db1-4c7f2c0aa92b ]]  {\r\n",
       "def \"C\" as E2  <<(T,blue) item def>> [[psysml:7c3e9caa-80d9-4c4c-adc7-c498b9bc223a ]] \r\n",
       "rec def \"setX\" as E3  <<(T,blue) action def>> [[psysml:13c6c11f-d2db-48ba-8729-714e79a71a8b ]] {\r\n",
       "portin \"c\" as E4  [[psysml:b2a1dac5-50e3-4d3d-9a14-28fff19dad0f ]] \r\n",
       "portin \"newX\" as E5  [[psysml:3095d82e-c5b2-4faf-b7d1-254d70a18586 ]] \r\n",
       "}\r\n",
       "\r\n",
       "}\r\n",
       "@enduml\r\n",
       "\n",
       "PlantUML version 1.2020.13(Sat Jun 13 12:26:38 UTC 2020)\n",
       "(EPL source distribution)\n",
       "Java Runtime: OpenJDK Runtime Environment\n",
       "JVM: OpenJDK 64-Bit Server VM\n",
       "Default Encoding: UTF-8\n",
       "Language: en\n",
       "Country: null\n",
       "--></g></svg>"
      ]
     },
     "execution_count": 47,
     "metadata": {},
     "output_type": "execute_result"
    }
   ],
   "source": [
    "%viz --style=\"TB\" --view=\"Interconnection\" \"TextualRepresentationTest\""
   ]
  },
  {
   "cell_type": "code",
   "execution_count": 48,
   "id": "3d209127",
   "metadata": {
    "execution": {
     "iopub.execute_input": "2021-09-27T07:18:35.584740Z",
     "iopub.status.busy": "2021-09-27T07:18:35.584315Z",
     "iopub.status.idle": "2021-09-27T07:18:35.607200Z",
     "shell.execute_reply": "2021-09-27T07:18:35.606799Z"
    }
   },
   "outputs": [
    {
     "data": {
      "image/svg+xml": [
       "<?xml version=\"1.0\" encoding=\"UTF-8\" standalone=\"no\"?><svg xmlns=\"http://www.w3.org/2000/svg\" xmlns:xlink=\"http://www.w3.org/1999/xlink\" contentScriptType=\"application/ecmascript\" contentStyleType=\"text/css\" height=\"126px\" preserveAspectRatio=\"none\" style=\"width:150px;height:126px;\" version=\"1.1\" viewBox=\"0 0 150 126\" width=\"150px\" zoomAndPan=\"magnify\"><defs/><g><!--MD5=[fbc87193dbaf4d95561dea2c320d4a47]\n",
       "cluster E1--><a href=\"psysml:13c6c11f-d2db-48ba-8729-714e79a71a8b\" target=\"_top\" title=\"psysml:13c6c11f-d2db-48ba-8729-714e79a71a8b\" xlink:actuate=\"onRequest\" xlink:href=\"psysml:13c6c11f-d2db-48ba-8729-714e79a71a8b\" xlink:show=\"new\" xlink:title=\"psysml:13c6c11f-d2db-48ba-8729-714e79a71a8b\" xlink:type=\"simple\"><rect fill=\"#FFFFFF\" height=\"73\" id=\"E1\" style=\"stroke: #383838; stroke-width: 1.5;\" width=\"132\" x=\"7\" y=\"42.0986\"/><rect fill=\"#F8F8F8\" height=\"37.9375\" style=\"stroke: #383838; stroke-width: 1.5;\" width=\"132\" x=\"7\" y=\"42.0986\"/><text fill=\"#000000\" font-family=\"sans-serif\" font-size=\"12\" font-style=\"italic\" lengthAdjust=\"spacingAndGlyphs\" textLength=\"77\" x=\"34.5\" y=\"58.2373\">«action def»</text><text fill=\"#000000\" font-family=\"sans-serif\" font-size=\"12\" lengthAdjust=\"spacingAndGlyphs\" textLength=\"27\" x=\"59.5\" y=\"72.2061\">setX</text></a><text fill=\"#000000\" font-family=\"sans-serif\" font-size=\"14\" lengthAdjust=\"spacingAndGlyphs\" textLength=\"8\" x=\"21\" y=\"20.7969\">c</text><rect fill=\"#383838\" height=\"12\" style=\"stroke: #F8F8F8; stroke-width: 1.5;\" width=\"12\" x=\"19\" y=\"36.0986\"/><text fill=\"#000000\" font-family=\"sans-serif\" font-size=\"14\" lengthAdjust=\"spacingAndGlyphs\" textLength=\"38\" x=\"53\" y=\"20.7969\">newX</text><rect fill=\"#383838\" height=\"12\" style=\"stroke: #F8F8F8; stroke-width: 1.5;\" width=\"12\" x=\"66\" y=\"36.0986\"/><!--MD5=[0724a4e16996b247c181f212ac6acab9]\n",
       "@startuml\r\n",
       "skinparam ranksep 8\r\n",
       "top to bottom direction\r\n",
       "skinparam monochrome true\r\n",
       "skinparam classbackgroundcolor white\r\n",
       "skinparam shadowing false\r\n",
       "skinparam wrapWidth 300\r\n",
       "hide circle\r\n",
       "\r\n",
       "rec def \"setX\" as E1  <<(T,blue) action def>> [[psysml:13c6c11f-d2db-48ba-8729-714e79a71a8b ]] {\r\n",
       "portin \"c\" as E2  [[psysml:b2a1dac5-50e3-4d3d-9a14-28fff19dad0f ]] \r\n",
       "portin \"newX\" as E3  [[psysml:3095d82e-c5b2-4faf-b7d1-254d70a18586 ]] \r\n",
       "}\r\n",
       "\r\n",
       "@enduml\r\n",
       "\n",
       "PlantUML version 1.2020.13(Sat Jun 13 12:26:38 UTC 2020)\n",
       "(EPL source distribution)\n",
       "Java Runtime: OpenJDK Runtime Environment\n",
       "JVM: OpenJDK 64-Bit Server VM\n",
       "Default Encoding: UTF-8\n",
       "Language: en\n",
       "Country: null\n",
       "--></g></svg>"
      ]
     },
     "execution_count": 48,
     "metadata": {},
     "output_type": "execute_result"
    }
   ],
   "source": [
    "%viz --style=\"TB\" --view=\"Action\" \"TextualRepresentationTest\""
   ]
  },
  {
   "cell_type": "code",
   "execution_count": 49,
   "id": "8bf7803e",
   "metadata": {
    "execution": {
     "iopub.execute_input": "2021-09-27T07:18:35.656899Z",
     "iopub.status.busy": "2021-09-27T07:18:35.656481Z",
     "iopub.status.idle": "2021-09-27T07:18:35.661551Z",
     "shell.execute_reply": "2021-09-27T07:18:35.661902Z"
    }
   },
   "outputs": [
    {
     "data": {
      "image/svg+xml": [
       "<?xml version=\"1.0\" encoding=\"UTF-8\" standalone=\"no\"?><svg xmlns=\"http://www.w3.org/2000/svg\" xmlns:xlink=\"http://www.w3.org/1999/xlink\" contentScriptType=\"application/ecmascript\" contentStyleType=\"text/css\" height=\"12px\" preserveAspectRatio=\"none\" style=\"width:12px;height:12px;\" version=\"1.1\" viewBox=\"0 0 12 12\" width=\"12px\" zoomAndPan=\"magnify\"><defs/><g><!--MD5=[e1ab0c84c44d2fef8bf5f140f2689906]\n",
       "@startuml\r\n",
       "skinparam roundcorner 20\r\n",
       "skinparam BoxPadding 20\r\n",
       "skinparam SequenceBoxBackgroundColor #white\r\n",
       "skinparam style strictuml\r\n",
       "skinparam maxMessageSize 100\r\n",
       "top to bottom direction\r\n",
       "skinparam monochrome true\r\n",
       "skinparam classbackgroundcolor white\r\n",
       "skinparam shadowing false\r\n",
       "skinparam wrapWidth 300\r\n",
       "hide circle\r\n",
       "\r\n",
       "@enduml\r\n",
       "\n",
       "PlantUML version 1.2020.13(Sat Jun 13 12:26:38 UTC 2020)\n",
       "(EPL source distribution)\n",
       "Java Runtime: OpenJDK Runtime Environment\n",
       "JVM: OpenJDK 64-Bit Server VM\n",
       "Default Encoding: UTF-8\n",
       "Language: en\n",
       "Country: null\n",
       "--></g></svg>"
      ]
     },
     "execution_count": 49,
     "metadata": {},
     "output_type": "execute_result"
    }
   ],
   "source": [
    "%viz --style=\"TB\" --view=\"Sequence\" \"TextualRepresentationTest\""
   ]
  },
  {
   "cell_type": "code",
   "execution_count": 50,
   "id": "2f8e3e43",
   "metadata": {
    "execution": {
     "iopub.execute_input": "2021-09-27T07:18:35.712243Z",
     "iopub.status.busy": "2021-09-27T07:18:35.711835Z",
     "iopub.status.idle": "2021-09-27T07:18:35.750763Z",
     "shell.execute_reply": "2021-09-27T07:18:35.749513Z"
    }
   },
   "outputs": [
    {
     "data": {
      "image/svg+xml": [
       "<?xml version=\"1.0\" encoding=\"UTF-8\" standalone=\"no\"?><svg xmlns=\"http://www.w3.org/2000/svg\" xmlns:xlink=\"http://www.w3.org/1999/xlink\" contentScriptType=\"application/ecmascript\" contentStyleType=\"text/css\" height=\"261px\" preserveAspectRatio=\"none\" style=\"width:345px;height:261px;\" version=\"1.1\" viewBox=\"0 0 345 261\" width=\"345px\" zoomAndPan=\"magnify\"><defs/><g><!--MD5=[fbc87193dbaf4d95561dea2c320d4a47]\n",
       "cluster E1--><a href=\"psysml:fa6c1bf2-147a-4459-8db1-4c7f2c0aa92b\" target=\"_top\" title=\"psysml:fa6c1bf2-147a-4459-8db1-4c7f2c0aa92b\" xlink:actuate=\"onRequest\" xlink:href=\"psysml:fa6c1bf2-147a-4459-8db1-4c7f2c0aa92b\" xlink:show=\"new\" xlink:title=\"psysml:fa6c1bf2-147a-4459-8db1-4c7f2c0aa92b\" xlink:type=\"simple\"><polygon fill=\"#FFFFFF\" points=\"16,6,210,6,217,28.2969,323,28.2969,323,249.5,16,249.5,16,6\" style=\"stroke: #000000; stroke-width: 1.5;\"/><line style=\"stroke: #000000; stroke-width: 1.5;\" x1=\"16\" x2=\"217\" y1=\"28.2969\" y2=\"28.2969\"/><text fill=\"#000000\" font-family=\"sans-serif\" font-size=\"14\" font-weight=\"bold\" lengthAdjust=\"spacingAndGlyphs\" textLength=\"188\" x=\"20\" y=\"20.9951\">TextualRepresentationTest</text></a><!--MD5=[f6df4d0ebaf0b5dfb2ced0ae5af7c670]\n",
       "cluster E4--><a href=\"psysml:13c6c11f-d2db-48ba-8729-714e79a71a8b\" target=\"_top\" title=\"psysml:13c6c11f-d2db-48ba-8729-714e79a71a8b\" xlink:actuate=\"onRequest\" xlink:href=\"psysml:13c6c11f-d2db-48ba-8729-714e79a71a8b\" xlink:show=\"new\" xlink:title=\"psysml:13c6c11f-d2db-48ba-8729-714e79a71a8b\" xlink:type=\"simple\"><rect fill=\"#FFFFFF\" height=\"154.5\" id=\"E4\" style=\"stroke: #383838; stroke-width: 1.5;\" width=\"132\" x=\"175\" y=\"79\"/><rect fill=\"#F8F8F8\" height=\"37.9375\" style=\"stroke: #383838; stroke-width: 1.5;\" width=\"132\" x=\"175\" y=\"79\"/><text fill=\"#000000\" font-family=\"sans-serif\" font-size=\"12\" font-style=\"italic\" lengthAdjust=\"spacingAndGlyphs\" textLength=\"77\" x=\"202.5\" y=\"95.1387\">«action def»</text><text fill=\"#000000\" font-family=\"sans-serif\" font-size=\"12\" lengthAdjust=\"spacingAndGlyphs\" textLength=\"27\" x=\"227.5\" y=\"109.1074\">setX</text></a><!--MD5=[b4997ac47864f28c2f74865a473b2911]\n",
       "class E2--><a href=\"psysml:7c3e9caa-80d9-4c4c-adc7-c498b9bc223a\" target=\"_top\" title=\"psysml:7c3e9caa-80d9-4c4c-adc7-c498b9bc223a\" xlink:actuate=\"onRequest\" xlink:href=\"psysml:7c3e9caa-80d9-4c4c-adc7-c498b9bc223a\" xlink:show=\"new\" xlink:title=\"psysml:7c3e9caa-80d9-4c4c-adc7-c498b9bc223a\" xlink:type=\"simple\"><rect fill=\"#FFFFFF\" height=\"75.5469\" id=\"E2\" style=\"stroke: #383838; stroke-width: 1.5;\" width=\"67\" x=\"59.5\" y=\"41\"/><text fill=\"#000000\" font-family=\"sans-serif\" font-size=\"12\" font-style=\"italic\" lengthAdjust=\"spacingAndGlyphs\" textLength=\"65\" x=\"60.5\" y=\"57.1387\">«item def»</text><text fill=\"#000000\" font-family=\"sans-serif\" font-size=\"12\" lengthAdjust=\"spacingAndGlyphs\" textLength=\"8\" x=\"89\" y=\"71.1074\">C</text><line style=\"stroke: #383838; stroke-width: 1.5;\" x1=\"60.5\" x2=\"125.5\" y1=\"78.9375\" y2=\"78.9375\"/><text fill=\"#000000\" font-family=\"sans-serif\" font-size=\"11\" lengthAdjust=\"spacingAndGlyphs\" textLength=\"38\" x=\"65.5\" y=\"109.9526\">x: Real</text><line style=\"stroke: #383838; stroke-width: 1.0;\" x1=\"60.5\" x2=\"65.5\" y1=\"93.3398\" y2=\"93.3398\"/><text fill=\"#000000\" font-family=\"sans-serif\" font-size=\"11\" lengthAdjust=\"spacingAndGlyphs\" textLength=\"55\" x=\"65.5\" y=\"96.6479\">attributes</text><line style=\"stroke: #383838; stroke-width: 1.0;\" x1=\"120.5\" x2=\"125.5\" y1=\"93.3398\" y2=\"93.3398\"/></a><!--MD5=[09b614a08d8cba4a07c9adeb5e0fee81]\n",
       "class E3--><a href=\"psysml:c1adaef5-a811-466e-b0b1-353fc6834fce\" target=\"_top\" title=\"psysml:c1adaef5-a811-466e-b0b1-353fc6834fce\" xlink:actuate=\"onRequest\" xlink:href=\"psysml:c1adaef5-a811-466e-b0b1-353fc6834fce\" xlink:show=\"new\" xlink:title=\"psysml:c1adaef5-a811-466e-b0b1-353fc6834fce\" xlink:type=\"simple\"><rect fill=\"#FFFFFF\" height=\"45.9375\" id=\"E3\" rx=\"10\" ry=\"10\" style=\"stroke: #383838; stroke-width: 1.5;\" width=\"121\" x=\"32.5\" y=\"177\"/><text fill=\"#000000\" font-family=\"sans-serif\" font-size=\"12\" font-style=\"italic\" lengthAdjust=\"spacingAndGlyphs\" textLength=\"119\" x=\"33.5\" y=\"193.1387\">«assertConstraint»</text><text fill=\"#000000\" font-family=\"sans-serif\" font-size=\"12\" lengthAdjust=\"spacingAndGlyphs\" textLength=\"76\" x=\"55\" y=\"207.1074\">x_constraint</text><line style=\"stroke: #383838; stroke-width: 1.5;\" x1=\"33.5\" x2=\"152.5\" y1=\"214.9375\" y2=\"214.9375\"/></a><text fill=\"#000000\" font-family=\"sans-serif\" font-size=\"14\" lengthAdjust=\"spacingAndGlyphs\" textLength=\"8\" x=\"189\" y=\"57.6982\">c</text><rect fill=\"#383838\" height=\"12\" style=\"stroke: #F8F8F8; stroke-width: 1.5;\" width=\"12\" x=\"187\" y=\"73\"/><text fill=\"#000000\" font-family=\"sans-serif\" font-size=\"14\" lengthAdjust=\"spacingAndGlyphs\" textLength=\"38\" x=\"221\" y=\"57.6982\">newX</text><rect fill=\"#383838\" height=\"12\" style=\"stroke: #F8F8F8; stroke-width: 1.5;\" width=\"12\" x=\"234\" y=\"73\"/><!--MD5=[209b3feb70ccb6233bfe1053d122c12c]\n",
       "reverse link E2 to E3--><a href=\"psysml:6c3bd0c1-e9ea-4acc-b51f-d35f7aefdb06\" target=\"_top\" title=\"psysml:6c3bd0c1-e9ea-4acc-b51f-d35f7aefdb06\" xlink:actuate=\"onRequest\" xlink:href=\"psysml:6c3bd0c1-e9ea-4acc-b51f-d35f7aefdb06\" xlink:show=\"new\" xlink:title=\"psysml:6c3bd0c1-e9ea-4acc-b51f-d35f7aefdb06\" xlink:type=\"simple\"><path d=\"M93,130.34 C93,146.61 93,163.81 93,176.93 \" fill=\"none\" id=\"E2&lt;-E3\" style=\"stroke: #383838; stroke-width: 1.0;\"/><polygon fill=\"#383838\" points=\"93,117,89,123,93,129,97,123,93,117\" style=\"stroke: #383838; stroke-width: 1.0;\"/><text fill=\"#000000\" font-family=\"sans-serif\" font-size=\"13\" lengthAdjust=\"spacingAndGlyphs\" textLength=\"7\" x=\"85.0594\" y=\"165.8075\">*</text></a><!--MD5=[8ef7948736a1f5d91caddc69444e0f1f]\n",
       "@startuml\r\n",
       "top to bottom direction\r\n",
       "skinparam monochrome true\r\n",
       "skinparam classbackgroundcolor white\r\n",
       "skinparam shadowing false\r\n",
       "skinparam wrapWidth 300\r\n",
       "hide circle\r\n",
       "\r\n",
       "package \"TextualRepresentationTest\" as E1  [[psysml:fa6c1bf2-147a-4459-8db1-4c7f2c0aa92b ]]  {\r\n",
       "comp def \"C\" as E2  <<(T,blue) item def>> [[psysml:7c3e9caa-80d9-4c4c-adc7-c498b9bc223a ]] {\r\n",
       "- - attributes - -\r\n",
       "x: Real\r\n",
       "}\r\n",
       "comp usage \"x_constraint\" as E3  <<(T,blue) assertConstraint>> [[psysml:c1adaef5-a811-466e-b0b1-353fc6834fce ]] {\r\n",
       "}\r\n",
       "rec def \"setX\" as E4  <<(T,blue) action def>> [[psysml:13c6c11f-d2db-48ba-8729-714e79a71a8b ]] {\r\n",
       "portin \"c\" as E5  [[psysml:b2a1dac5-50e3-4d3d-9a14-28fff19dad0f ]] \r\n",
       "portin \"newX\" as E6  [[psysml:3095d82e-c5b2-4faf-b7d1-254d70a18586 ]] \r\n",
       "}\r\n",
       "\r\n",
       "}\r\n",
       "E2 *- - \"*\"E3 [[psysml:6c3bd0c1-e9ea-4acc-b51f-d35f7aefdb06 ]] \r\n",
       "@enduml\r\n",
       "\n",
       "PlantUML version 1.2020.13(Sat Jun 13 12:26:38 UTC 2020)\n",
       "(EPL source distribution)\n",
       "Java Runtime: OpenJDK Runtime Environment\n",
       "JVM: OpenJDK 64-Bit Server VM\n",
       "Default Encoding: UTF-8\n",
       "Language: en\n",
       "Country: null\n",
       "--></g></svg>"
      ]
     },
     "execution_count": 50,
     "metadata": {},
     "output_type": "execute_result"
    }
   ],
   "source": [
    "%viz --style=\"TB\" --view=\"MIXED\" \"TextualRepresentationTest\""
   ]
  },
  {
   "cell_type": "code",
   "execution_count": 51,
   "id": "2d386d2d",
   "metadata": {
    "execution": {
     "iopub.execute_input": "2021-09-27T07:18:35.800622Z",
     "iopub.status.busy": "2021-09-27T07:18:35.800010Z",
     "iopub.status.idle": "2021-09-27T07:18:35.840225Z",
     "shell.execute_reply": "2021-09-27T07:18:35.838952Z"
    }
   },
   "outputs": [
    {
     "data": {
      "image/svg+xml": [
       "<?xml version=\"1.0\" encoding=\"UTF-8\" standalone=\"no\"?><svg xmlns=\"http://www.w3.org/2000/svg\" xmlns:xlink=\"http://www.w3.org/1999/xlink\" contentScriptType=\"application/ecmascript\" contentStyleType=\"text/css\" height=\"261px\" preserveAspectRatio=\"none\" style=\"width:345px;height:261px;\" version=\"1.1\" viewBox=\"0 0 345 261\" width=\"345px\" zoomAndPan=\"magnify\"><defs/><g><!--MD5=[fbc87193dbaf4d95561dea2c320d4a47]\n",
       "cluster E1--><a href=\"psysml:fa6c1bf2-147a-4459-8db1-4c7f2c0aa92b\" target=\"_top\" title=\"psysml:fa6c1bf2-147a-4459-8db1-4c7f2c0aa92b\" xlink:actuate=\"onRequest\" xlink:href=\"psysml:fa6c1bf2-147a-4459-8db1-4c7f2c0aa92b\" xlink:show=\"new\" xlink:title=\"psysml:fa6c1bf2-147a-4459-8db1-4c7f2c0aa92b\" xlink:type=\"simple\"><polygon fill=\"#FFFFFF\" points=\"16,6,210,6,217,28.2969,323,28.2969,323,249.5,16,249.5,16,6\" style=\"stroke: #000000; stroke-width: 1.5;\"/><line style=\"stroke: #000000; stroke-width: 1.5;\" x1=\"16\" x2=\"217\" y1=\"28.2969\" y2=\"28.2969\"/><text fill=\"#000000\" font-family=\"sans-serif\" font-size=\"14\" font-weight=\"bold\" lengthAdjust=\"spacingAndGlyphs\" textLength=\"188\" x=\"20\" y=\"20.9951\">TextualRepresentationTest</text></a><!--MD5=[f6df4d0ebaf0b5dfb2ced0ae5af7c670]\n",
       "cluster E4--><a href=\"psysml:13c6c11f-d2db-48ba-8729-714e79a71a8b\" target=\"_top\" title=\"psysml:13c6c11f-d2db-48ba-8729-714e79a71a8b\" xlink:actuate=\"onRequest\" xlink:href=\"psysml:13c6c11f-d2db-48ba-8729-714e79a71a8b\" xlink:show=\"new\" xlink:title=\"psysml:13c6c11f-d2db-48ba-8729-714e79a71a8b\" xlink:type=\"simple\"><rect fill=\"#FFFFFF\" height=\"154.5\" id=\"E4\" style=\"stroke: #383838; stroke-width: 1.5;\" width=\"132\" x=\"175\" y=\"79\"/><rect fill=\"#F8F8F8\" height=\"37.9375\" style=\"stroke: #383838; stroke-width: 1.5;\" width=\"132\" x=\"175\" y=\"79\"/><text fill=\"#000000\" font-family=\"sans-serif\" font-size=\"12\" font-style=\"italic\" lengthAdjust=\"spacingAndGlyphs\" textLength=\"77\" x=\"202.5\" y=\"95.1387\">«action def»</text><text fill=\"#000000\" font-family=\"sans-serif\" font-size=\"12\" lengthAdjust=\"spacingAndGlyphs\" textLength=\"27\" x=\"227.5\" y=\"109.1074\">setX</text></a><!--MD5=[b4997ac47864f28c2f74865a473b2911]\n",
       "class E2--><a href=\"psysml:7c3e9caa-80d9-4c4c-adc7-c498b9bc223a\" target=\"_top\" title=\"psysml:7c3e9caa-80d9-4c4c-adc7-c498b9bc223a\" xlink:actuate=\"onRequest\" xlink:href=\"psysml:7c3e9caa-80d9-4c4c-adc7-c498b9bc223a\" xlink:show=\"new\" xlink:title=\"psysml:7c3e9caa-80d9-4c4c-adc7-c498b9bc223a\" xlink:type=\"simple\"><rect fill=\"#FFFFFF\" height=\"75.5469\" id=\"E2\" style=\"stroke: #383838; stroke-width: 1.5;\" width=\"67\" x=\"59.5\" y=\"41\"/><text fill=\"#000000\" font-family=\"sans-serif\" font-size=\"12\" font-style=\"italic\" lengthAdjust=\"spacingAndGlyphs\" textLength=\"65\" x=\"60.5\" y=\"57.1387\">«item def»</text><text fill=\"#000000\" font-family=\"sans-serif\" font-size=\"12\" lengthAdjust=\"spacingAndGlyphs\" textLength=\"8\" x=\"89\" y=\"71.1074\">C</text><line style=\"stroke: #383838; stroke-width: 1.5;\" x1=\"60.5\" x2=\"125.5\" y1=\"78.9375\" y2=\"78.9375\"/><text fill=\"#000000\" font-family=\"sans-serif\" font-size=\"11\" lengthAdjust=\"spacingAndGlyphs\" textLength=\"38\" x=\"65.5\" y=\"109.9526\">x: Real</text><line style=\"stroke: #383838; stroke-width: 1.0;\" x1=\"60.5\" x2=\"65.5\" y1=\"93.3398\" y2=\"93.3398\"/><text fill=\"#000000\" font-family=\"sans-serif\" font-size=\"11\" lengthAdjust=\"spacingAndGlyphs\" textLength=\"55\" x=\"65.5\" y=\"96.6479\">attributes</text><line style=\"stroke: #383838; stroke-width: 1.0;\" x1=\"120.5\" x2=\"125.5\" y1=\"93.3398\" y2=\"93.3398\"/></a><!--MD5=[09b614a08d8cba4a07c9adeb5e0fee81]\n",
       "class E3--><a href=\"psysml:c1adaef5-a811-466e-b0b1-353fc6834fce\" target=\"_top\" title=\"psysml:c1adaef5-a811-466e-b0b1-353fc6834fce\" xlink:actuate=\"onRequest\" xlink:href=\"psysml:c1adaef5-a811-466e-b0b1-353fc6834fce\" xlink:show=\"new\" xlink:title=\"psysml:c1adaef5-a811-466e-b0b1-353fc6834fce\" xlink:type=\"simple\"><rect fill=\"#FFFFFF\" height=\"45.9375\" id=\"E3\" rx=\"10\" ry=\"10\" style=\"stroke: #383838; stroke-width: 1.5;\" width=\"121\" x=\"32.5\" y=\"177\"/><text fill=\"#000000\" font-family=\"sans-serif\" font-size=\"12\" font-style=\"italic\" lengthAdjust=\"spacingAndGlyphs\" textLength=\"119\" x=\"33.5\" y=\"193.1387\">«assertConstraint»</text><text fill=\"#000000\" font-family=\"sans-serif\" font-size=\"12\" lengthAdjust=\"spacingAndGlyphs\" textLength=\"76\" x=\"55\" y=\"207.1074\">x_constraint</text><line style=\"stroke: #383838; stroke-width: 1.5;\" x1=\"33.5\" x2=\"152.5\" y1=\"214.9375\" y2=\"214.9375\"/></a><text fill=\"#000000\" font-family=\"sans-serif\" font-size=\"14\" lengthAdjust=\"spacingAndGlyphs\" textLength=\"8\" x=\"189\" y=\"57.6982\">c</text><rect fill=\"#383838\" height=\"12\" style=\"stroke: #F8F8F8; stroke-width: 1.5;\" width=\"12\" x=\"187\" y=\"73\"/><text fill=\"#000000\" font-family=\"sans-serif\" font-size=\"14\" lengthAdjust=\"spacingAndGlyphs\" textLength=\"38\" x=\"221\" y=\"57.6982\">newX</text><rect fill=\"#383838\" height=\"12\" style=\"stroke: #F8F8F8; stroke-width: 1.5;\" width=\"12\" x=\"234\" y=\"73\"/><!--MD5=[209b3feb70ccb6233bfe1053d122c12c]\n",
       "reverse link E2 to E3--><a href=\"psysml:6c3bd0c1-e9ea-4acc-b51f-d35f7aefdb06\" target=\"_top\" title=\"psysml:6c3bd0c1-e9ea-4acc-b51f-d35f7aefdb06\" xlink:actuate=\"onRequest\" xlink:href=\"psysml:6c3bd0c1-e9ea-4acc-b51f-d35f7aefdb06\" xlink:show=\"new\" xlink:title=\"psysml:6c3bd0c1-e9ea-4acc-b51f-d35f7aefdb06\" xlink:type=\"simple\"><path d=\"M93,130.29 C93,130.29 93,176.74 93,176.74 \" fill=\"none\" id=\"E2&lt;-E3\" style=\"stroke: #383838; stroke-width: 1.0;\"/><polygon fill=\"#383838\" points=\"93,117.29,89,123.29,93,129.29,97,123.29,93,117.29\" style=\"stroke: #383838; stroke-width: 1.0;\"/><text fill=\"#000000\" font-family=\"sans-serif\" font-size=\"13\" lengthAdjust=\"spacingAndGlyphs\" textLength=\"7\" x=\"85.1031\" y=\"165.9497\">*</text></a><!--MD5=[ea754ce9e9a5a11b937e412b5c921f6f]\n",
       "@startuml\r\n",
       "skinparam linetype ortho\r\n",
       "skinparam monochrome true\r\n",
       "skinparam classbackgroundcolor white\r\n",
       "skinparam shadowing false\r\n",
       "skinparam wrapWidth 300\r\n",
       "hide circle\r\n",
       "\r\n",
       "package \"TextualRepresentationTest\" as E1  [[psysml:fa6c1bf2-147a-4459-8db1-4c7f2c0aa92b ]]  {\r\n",
       "comp def \"C\" as E2  <<(T,blue) item def>> [[psysml:7c3e9caa-80d9-4c4c-adc7-c498b9bc223a ]] {\r\n",
       "- - attributes - -\r\n",
       "x: Real\r\n",
       "}\r\n",
       "comp usage \"x_constraint\" as E3  <<(T,blue) assertConstraint>> [[psysml:c1adaef5-a811-466e-b0b1-353fc6834fce ]] {\r\n",
       "}\r\n",
       "rec def \"setX\" as E4  <<(T,blue) action def>> [[psysml:13c6c11f-d2db-48ba-8729-714e79a71a8b ]] {\r\n",
       "portin \"c\" as E5  [[psysml:b2a1dac5-50e3-4d3d-9a14-28fff19dad0f ]] \r\n",
       "portin \"newX\" as E6  [[psysml:3095d82e-c5b2-4faf-b7d1-254d70a18586 ]] \r\n",
       "}\r\n",
       "\r\n",
       "}\r\n",
       "E2 *- - \"*\"E3 [[psysml:6c3bd0c1-e9ea-4acc-b51f-d35f7aefdb06 ]] \r\n",
       "@enduml\r\n",
       "\n",
       "PlantUML version 1.2020.13(Sat Jun 13 12:26:38 UTC 2020)\n",
       "(EPL source distribution)\n",
       "Java Runtime: OpenJDK Runtime Environment\n",
       "JVM: OpenJDK 64-Bit Server VM\n",
       "Default Encoding: UTF-8\n",
       "Language: en\n",
       "Country: null\n",
       "--></g></svg>"
      ]
     },
     "execution_count": 51,
     "metadata": {},
     "output_type": "execute_result"
    }
   ],
   "source": [
    "%viz --style=\"ORTHOLINE\" --view=\"Default\" \"TextualRepresentationTest\""
   ]
  },
  {
   "cell_type": "code",
   "execution_count": 52,
   "id": "44e4b621",
   "metadata": {
    "execution": {
     "iopub.execute_input": "2021-09-27T07:18:35.890133Z",
     "iopub.status.busy": "2021-09-27T07:18:35.889663Z",
     "iopub.status.idle": "2021-09-27T07:18:35.927623Z",
     "shell.execute_reply": "2021-09-27T07:18:35.925886Z"
    }
   },
   "outputs": [
    {
     "data": {
      "image/svg+xml": [
       "<?xml version=\"1.0\" encoding=\"UTF-8\" standalone=\"no\"?><svg xmlns=\"http://www.w3.org/2000/svg\" xmlns:xlink=\"http://www.w3.org/1999/xlink\" contentScriptType=\"application/ecmascript\" contentStyleType=\"text/css\" height=\"375px\" preserveAspectRatio=\"none\" style=\"width:242px;height:375px;\" version=\"1.1\" viewBox=\"0 0 242 375\" width=\"242px\" zoomAndPan=\"magnify\"><defs/><g><!--MD5=[fbc87193dbaf4d95561dea2c320d4a47]\n",
       "cluster E1--><a href=\"psysml:fa6c1bf2-147a-4459-8db1-4c7f2c0aa92b\" target=\"_top\" title=\"psysml:fa6c1bf2-147a-4459-8db1-4c7f2c0aa92b\" xlink:actuate=\"onRequest\" xlink:href=\"psysml:fa6c1bf2-147a-4459-8db1-4c7f2c0aa92b\" xlink:show=\"new\" xlink:title=\"psysml:fa6c1bf2-147a-4459-8db1-4c7f2c0aa92b\" xlink:type=\"simple\"><polygon fill=\"#FFFFFF\" points=\"16,6,210,6,217,28.2969,220,28.2969,220,363,16,363,16,6\" style=\"stroke: #000000; stroke-width: 1.5;\"/><line style=\"stroke: #000000; stroke-width: 1.5;\" x1=\"16\" x2=\"217\" y1=\"28.2969\" y2=\"28.2969\"/><text fill=\"#000000\" font-family=\"sans-serif\" font-size=\"14\" font-weight=\"bold\" lengthAdjust=\"spacingAndGlyphs\" textLength=\"188\" x=\"20\" y=\"20.9951\">TextualRepresentationTest</text></a><!--MD5=[b4997ac47864f28c2f74865a473b2911]\n",
       "class E2--><a href=\"psysml:7c3e9caa-80d9-4c4c-adc7-c498b9bc223a\" target=\"_top\" title=\"psysml:7c3e9caa-80d9-4c4c-adc7-c498b9bc223a\" xlink:actuate=\"onRequest\" xlink:href=\"psysml:7c3e9caa-80d9-4c4c-adc7-c498b9bc223a\" xlink:show=\"new\" xlink:title=\"psysml:7c3e9caa-80d9-4c4c-adc7-c498b9bc223a\" xlink:type=\"simple\"><rect fill=\"#FFFFFF\" height=\"75.5469\" id=\"E2\" style=\"stroke: #383838; stroke-width: 1.5;\" width=\"67\" x=\"84.5\" y=\"164\"/><text fill=\"#000000\" font-family=\"sans-serif\" font-size=\"12\" font-style=\"italic\" lengthAdjust=\"spacingAndGlyphs\" textLength=\"65\" x=\"85.5\" y=\"180.1387\">«item def»</text><text fill=\"#000000\" font-family=\"sans-serif\" font-size=\"12\" lengthAdjust=\"spacingAndGlyphs\" textLength=\"8\" x=\"114\" y=\"194.1074\">C</text><line style=\"stroke: #383838; stroke-width: 1.5;\" x1=\"85.5\" x2=\"150.5\" y1=\"201.9375\" y2=\"201.9375\"/><text fill=\"#000000\" font-family=\"sans-serif\" font-size=\"11\" lengthAdjust=\"spacingAndGlyphs\" textLength=\"38\" x=\"90.5\" y=\"232.9526\">x: Real</text><line style=\"stroke: #383838; stroke-width: 1.0;\" x1=\"85.5\" x2=\"90.5\" y1=\"216.3398\" y2=\"216.3398\"/><text fill=\"#000000\" font-family=\"sans-serif\" font-size=\"11\" lengthAdjust=\"spacingAndGlyphs\" textLength=\"55\" x=\"90.5\" y=\"219.6479\">attributes</text><line style=\"stroke: #383838; stroke-width: 1.0;\" x1=\"145.5\" x2=\"150.5\" y1=\"216.3398\" y2=\"216.3398\"/></a><!--MD5=[09b614a08d8cba4a07c9adeb5e0fee81]\n",
       "class E3--><a href=\"psysml:c1adaef5-a811-466e-b0b1-353fc6834fce\" target=\"_top\" title=\"psysml:c1adaef5-a811-466e-b0b1-353fc6834fce\" xlink:actuate=\"onRequest\" xlink:href=\"psysml:c1adaef5-a811-466e-b0b1-353fc6834fce\" xlink:show=\"new\" xlink:title=\"psysml:c1adaef5-a811-466e-b0b1-353fc6834fce\" xlink:type=\"simple\"><rect fill=\"#FFFFFF\" height=\"45.9375\" id=\"E3\" rx=\"10\" ry=\"10\" style=\"stroke: #383838; stroke-width: 1.5;\" width=\"121\" x=\"57.5\" y=\"301\"/><text fill=\"#000000\" font-family=\"sans-serif\" font-size=\"12\" font-style=\"italic\" lengthAdjust=\"spacingAndGlyphs\" textLength=\"119\" x=\"58.5\" y=\"317.1387\">«assertConstraint»</text><text fill=\"#000000\" font-family=\"sans-serif\" font-size=\"12\" lengthAdjust=\"spacingAndGlyphs\" textLength=\"76\" x=\"80\" y=\"331.1074\">x_constraint</text><line style=\"stroke: #383838; stroke-width: 1.5;\" x1=\"58.5\" x2=\"177.5\" y1=\"338.9375\" y2=\"338.9375\"/></a><!--MD5=[ebbe1d658d1005bcc118a6aa81145e00]\n",
       "class E4--><a href=\"psysml:13c6c11f-d2db-48ba-8729-714e79a71a8b\" target=\"_top\" title=\"psysml:13c6c11f-d2db-48ba-8729-714e79a71a8b\" xlink:actuate=\"onRequest\" xlink:href=\"psysml:13c6c11f-d2db-48ba-8729-714e79a71a8b\" xlink:show=\"new\" xlink:title=\"psysml:13c6c11f-d2db-48ba-8729-714e79a71a8b\" xlink:type=\"simple\"><rect fill=\"#FFFFFF\" height=\"45.9375\" id=\"E4\" style=\"stroke: #383838; stroke-width: 1.5;\" width=\"79\" x=\"78.5\" y=\"41\"/><text fill=\"#000000\" font-family=\"sans-serif\" font-size=\"12\" font-style=\"italic\" lengthAdjust=\"spacingAndGlyphs\" textLength=\"77\" x=\"79.5\" y=\"57.1387\">«action def»</text><text fill=\"#000000\" font-family=\"sans-serif\" font-size=\"12\" lengthAdjust=\"spacingAndGlyphs\" textLength=\"27\" x=\"104.5\" y=\"71.1074\">setX</text><line style=\"stroke: #383838; stroke-width: 1.5;\" x1=\"79.5\" x2=\"156.5\" y1=\"78.9375\" y2=\"78.9375\"/></a><!--MD5=[209b3feb70ccb6233bfe1053d122c12c]\n",
       "reverse link E2 to E3--><a href=\"psysml:6c3bd0c1-e9ea-4acc-b51f-d35f7aefdb06\" target=\"_top\" title=\"psysml:6c3bd0c1-e9ea-4acc-b51f-d35f7aefdb06\" xlink:actuate=\"onRequest\" xlink:href=\"psysml:6c3bd0c1-e9ea-4acc-b51f-d35f7aefdb06\" xlink:show=\"new\" xlink:title=\"psysml:6c3bd0c1-e9ea-4acc-b51f-d35f7aefdb06\" xlink:type=\"simple\"><path d=\"M118,253.27 C118,253.27 118,300.78 118,300.78 \" fill=\"none\" id=\"E2&lt;-E3\" style=\"stroke: #383838; stroke-width: 1.0;\"/><polygon fill=\"#383838\" points=\"118,240.27,114,246.27,118,252.27,122,246.27,118,240.27\" style=\"stroke: #383838; stroke-width: 1.0;\"/><text fill=\"#000000\" font-family=\"sans-serif\" font-size=\"13\" lengthAdjust=\"spacingAndGlyphs\" textLength=\"7\" x=\"110.1031\" y=\"289.9999\">*</text></a><!--MD5=[ddeed8deb2209213b62e6cfabaa108b2]\n",
       "reverse link E4 to E2--><a href=\"psysml:b2a1dac5-50e3-4d3d-9a14-28fff19dad0f\" target=\"_top\" title=\"psysml:b2a1dac5-50e3-4d3d-9a14-28fff19dad0f\" xlink:actuate=\"onRequest\" xlink:href=\"psysml:b2a1dac5-50e3-4d3d-9a14-28fff19dad0f\" xlink:show=\"new\" xlink:title=\"psysml:b2a1dac5-50e3-4d3d-9a14-28fff19dad0f\" xlink:type=\"simple\"><path d=\"M118,100.1 C118,100.1 118,163.96 118,163.96 \" fill=\"none\" id=\"E4&lt;-E2\" style=\"stroke: #383838; stroke-width: 1.0;\"/><polygon fill=\"#FFFFFF\" points=\"118,87.1,114,93.1,118,99.1,122,93.1,118,87.1\" style=\"stroke: #383838; stroke-width: 1.0;\"/><text fill=\"#000000\" font-family=\"sans-serif\" font-size=\"13\" lengthAdjust=\"spacingAndGlyphs\" textLength=\"7\" x=\"119\" y=\"130.0669\">c</text></a><!--MD5=[3cd013013ff82028a14e1bab9fbfe5b1]\n",
       "@startuml\r\n",
       "skinparam linetype ortho\r\n",
       "skinparam monochrome true\r\n",
       "skinparam classbackgroundcolor white\r\n",
       "skinparam shadowing false\r\n",
       "skinparam wrapWidth 300\r\n",
       "hide circle\r\n",
       "\r\n",
       "package \"TextualRepresentationTest\" as E1  [[psysml:fa6c1bf2-147a-4459-8db1-4c7f2c0aa92b ]]  {\r\n",
       "comp def \"C\" as E2  <<(T,blue) item def>> [[psysml:7c3e9caa-80d9-4c4c-adc7-c498b9bc223a ]] {\r\n",
       "- - attributes - -\r\n",
       "x: Real\r\n",
       "}\r\n",
       "comp usage \"x_constraint\" as E3  <<(T,blue) assertConstraint>> [[psysml:c1adaef5-a811-466e-b0b1-353fc6834fce ]] {\r\n",
       "}\r\n",
       "comp def \"setX\" as E4  <<(T,blue) action def>> [[psysml:13c6c11f-d2db-48ba-8729-714e79a71a8b ]] {\r\n",
       "}\r\n",
       "}\r\n",
       "E2 *- - \"*\"E3 [[psysml:6c3bd0c1-e9ea-4acc-b51f-d35f7aefdb06 ]] \r\n",
       "E4 o- - E2 [[psysml:b2a1dac5-50e3-4d3d-9a14-28fff19dad0f ]] : c\r\n",
       "@enduml\r\n",
       "\n",
       "PlantUML version 1.2020.13(Sat Jun 13 12:26:38 UTC 2020)\n",
       "(EPL source distribution)\n",
       "Java Runtime: OpenJDK Runtime Environment\n",
       "JVM: OpenJDK 64-Bit Server VM\n",
       "Default Encoding: UTF-8\n",
       "Language: en\n",
       "Country: null\n",
       "--></g></svg>"
      ]
     },
     "execution_count": 52,
     "metadata": {},
     "output_type": "execute_result"
    }
   ],
   "source": [
    "%viz --style=\"ORTHOLINE\" --view=\"Tree\" \"TextualRepresentationTest\""
   ]
  },
  {
   "cell_type": "code",
   "execution_count": 53,
   "id": "eba68b83",
   "metadata": {
    "execution": {
     "iopub.execute_input": "2021-09-27T07:18:35.976685Z",
     "iopub.status.busy": "2021-09-27T07:18:35.976241Z",
     "iopub.status.idle": "2021-09-27T07:18:35.981699Z",
     "shell.execute_reply": "2021-09-27T07:18:35.982170Z"
    }
   },
   "outputs": [
    {
     "data": {
      "image/svg+xml": [
       "<?xml version=\"1.0\" encoding=\"UTF-8\" standalone=\"no\"?><svg xmlns=\"http://www.w3.org/2000/svg\" xmlns:xlink=\"http://www.w3.org/1999/xlink\" contentScriptType=\"application/ecmascript\" contentStyleType=\"text/css\" height=\"12px\" preserveAspectRatio=\"none\" style=\"width:12px;height:12px;\" version=\"1.1\" viewBox=\"0 0 12 12\" width=\"12px\" zoomAndPan=\"magnify\"><defs/><g><!--MD5=[97d6f38768b311333d388e66b2b27985]\n",
       "@startuml\r\n",
       "skinparam linetype ortho\r\n",
       "skinparam monochrome true\r\n",
       "skinparam classbackgroundcolor white\r\n",
       "skinparam shadowing false\r\n",
       "skinparam wrapWidth 300\r\n",
       "hide circle\r\n",
       "\r\n",
       "@enduml\r\n",
       "\n",
       "PlantUML version 1.2020.13(Sat Jun 13 12:26:38 UTC 2020)\n",
       "(EPL source distribution)\n",
       "Java Runtime: OpenJDK Runtime Environment\n",
       "JVM: OpenJDK 64-Bit Server VM\n",
       "Default Encoding: UTF-8\n",
       "Language: en\n",
       "Country: null\n",
       "--></g></svg>"
      ]
     },
     "execution_count": 53,
     "metadata": {},
     "output_type": "execute_result"
    }
   ],
   "source": [
    "%viz --style=\"ORTHOLINE\" --view=\"State\" \"TextualRepresentationTest\""
   ]
  },
  {
   "cell_type": "code",
   "execution_count": 54,
   "id": "0d0501b6",
   "metadata": {
    "execution": {
     "iopub.execute_input": "2021-09-27T07:18:36.031527Z",
     "iopub.status.busy": "2021-09-27T07:18:36.031095Z",
     "iopub.status.idle": "2021-09-27T07:18:36.056127Z",
     "shell.execute_reply": "2021-09-27T07:18:36.055751Z"
    }
   },
   "outputs": [
    {
     "data": {
      "image/svg+xml": [
       "<?xml version=\"1.0\" encoding=\"UTF-8\" standalone=\"no\"?><svg xmlns=\"http://www.w3.org/2000/svg\" xmlns:xlink=\"http://www.w3.org/1999/xlink\" contentScriptType=\"application/ecmascript\" contentStyleType=\"text/css\" height=\"179px\" preserveAspectRatio=\"none\" style=\"width:284px;height:179px;\" version=\"1.1\" viewBox=\"0 0 284 179\" width=\"284px\" zoomAndPan=\"magnify\"><defs/><g><!--MD5=[fbc87193dbaf4d95561dea2c320d4a47]\n",
       "cluster E1--><a href=\"psysml:fa6c1bf2-147a-4459-8db1-4c7f2c0aa92b\" target=\"_top\" title=\"psysml:fa6c1bf2-147a-4459-8db1-4c7f2c0aa92b\" xlink:actuate=\"onRequest\" xlink:href=\"psysml:fa6c1bf2-147a-4459-8db1-4c7f2c0aa92b\" xlink:show=\"new\" xlink:title=\"psysml:fa6c1bf2-147a-4459-8db1-4c7f2c0aa92b\" xlink:type=\"simple\"><polygon fill=\"#FFFFFF\" points=\"16,6,210,6,217,28.2969,262,28.2969,262,167,16,167,16,6\" style=\"stroke: #000000; stroke-width: 1.5;\"/><line style=\"stroke: #000000; stroke-width: 1.5;\" x1=\"16\" x2=\"217\" y1=\"28.2969\" y2=\"28.2969\"/><text fill=\"#000000\" font-family=\"sans-serif\" font-size=\"14\" font-weight=\"bold\" lengthAdjust=\"spacingAndGlyphs\" textLength=\"188\" x=\"20\" y=\"20.9951\">TextualRepresentationTest</text></a><!--MD5=[d5e69f78d87373223dbae638b30a9c99]\n",
       "cluster E3--><a href=\"psysml:13c6c11f-d2db-48ba-8729-714e79a71a8b\" target=\"_top\" title=\"psysml:13c6c11f-d2db-48ba-8729-714e79a71a8b\" xlink:actuate=\"onRequest\" xlink:href=\"psysml:13c6c11f-d2db-48ba-8729-714e79a71a8b\" xlink:show=\"new\" xlink:title=\"psysml:13c6c11f-d2db-48ba-8729-714e79a71a8b\" xlink:type=\"simple\"><rect fill=\"#FFFFFF\" height=\"88.5\" id=\"E3\" style=\"stroke: #383838; stroke-width: 1.5;\" width=\"96\" x=\"120.5\" y=\"62.5\"/><rect fill=\"#F8F8F8\" height=\"37.9375\" style=\"stroke: #383838; stroke-width: 1.5;\" width=\"96\" x=\"120.5\" y=\"62.5\"/><text fill=\"#000000\" font-family=\"sans-serif\" font-size=\"12\" font-style=\"italic\" lengthAdjust=\"spacingAndGlyphs\" textLength=\"77\" x=\"130\" y=\"78.6387\">«action def»</text><text fill=\"#000000\" font-family=\"sans-serif\" font-size=\"12\" lengthAdjust=\"spacingAndGlyphs\" textLength=\"27\" x=\"155\" y=\"92.6074\">setX</text></a><g id=\"E1.E2\"><a href=\"psysml:7c3e9caa-80d9-4c4c-adc7-c498b9bc223a\" target=\"_top\" title=\"psysml:7c3e9caa-80d9-4c4c-adc7-c498b9bc223a\" xlink:actuate=\"onRequest\" xlink:href=\"psysml:7c3e9caa-80d9-4c4c-adc7-c498b9bc223a\" xlink:show=\"new\" xlink:title=\"psysml:7c3e9caa-80d9-4c4c-adc7-c498b9bc223a\" xlink:type=\"simple\"><rect fill=\"#FFFFFF\" height=\"42.9375\" id=\"E2\" style=\"stroke: #383838; stroke-width: 1.5;\" width=\"72\" x=\"32\" y=\"41\"/><rect fill=\"#F8F8F8\" height=\"37.9375\" style=\"stroke: #383838; stroke-width: 1.5;\" width=\"72\" x=\"32\" y=\"41\"/><text fill=\"#000000\" font-family=\"sans-serif\" font-size=\"12\" font-style=\"italic\" lengthAdjust=\"spacingAndGlyphs\" textLength=\"65\" x=\"35.5\" y=\"57.1387\">«item def»</text><text fill=\"#000000\" font-family=\"sans-serif\" font-size=\"12\" lengthAdjust=\"spacingAndGlyphs\" textLength=\"8\" x=\"64\" y=\"71.1074\">C</text></a></g><text fill=\"#000000\" font-family=\"sans-serif\" font-size=\"14\" lengthAdjust=\"spacingAndGlyphs\" textLength=\"8\" x=\"141\" y=\"41.1982\">c</text><rect fill=\"#383838\" height=\"12\" style=\"stroke: #F8F8F8; stroke-width: 1.5;\" width=\"12\" x=\"139\" y=\"56.5\"/><text fill=\"#000000\" font-family=\"sans-serif\" font-size=\"14\" lengthAdjust=\"spacingAndGlyphs\" textLength=\"38\" x=\"173\" y=\"41.1982\">newX</text><rect fill=\"#383838\" height=\"12\" style=\"stroke: #F8F8F8; stroke-width: 1.5;\" width=\"12\" x=\"186\" y=\"56.5\"/><!--MD5=[53b315fb220d301ab13a6facc190f140]\n",
       "@startuml\r\n",
       "skinparam ranksep 10\r\n",
       "skinparam rectangle {\r\n",
       " backgroundColor<<block>> LightGreen\r\n",
       "}\r\n",
       "skinparam linetype ortho\r\n",
       "skinparam monochrome true\r\n",
       "skinparam classbackgroundcolor white\r\n",
       "skinparam shadowing false\r\n",
       "skinparam wrapWidth 300\r\n",
       "hide circle\r\n",
       "\r\n",
       "package \"TextualRepresentationTest\" as E1  [[psysml:fa6c1bf2-147a-4459-8db1-4c7f2c0aa92b ]]  {\r\n",
       "def \"C\" as E2  <<(T,blue) item def>> [[psysml:7c3e9caa-80d9-4c4c-adc7-c498b9bc223a ]] \r\n",
       "rec def \"setX\" as E3  <<(T,blue) action def>> [[psysml:13c6c11f-d2db-48ba-8729-714e79a71a8b ]] {\r\n",
       "portin \"c\" as E4  [[psysml:b2a1dac5-50e3-4d3d-9a14-28fff19dad0f ]] \r\n",
       "portin \"newX\" as E5  [[psysml:3095d82e-c5b2-4faf-b7d1-254d70a18586 ]] \r\n",
       "}\r\n",
       "\r\n",
       "}\r\n",
       "@enduml\r\n",
       "\n",
       "PlantUML version 1.2020.13(Sat Jun 13 12:26:38 UTC 2020)\n",
       "(EPL source distribution)\n",
       "Java Runtime: OpenJDK Runtime Environment\n",
       "JVM: OpenJDK 64-Bit Server VM\n",
       "Default Encoding: UTF-8\n",
       "Language: en\n",
       "Country: null\n",
       "--></g></svg>"
      ]
     },
     "execution_count": 54,
     "metadata": {},
     "output_type": "execute_result"
    }
   ],
   "source": [
    "%viz --style=\"ORTHOLINE\" --view=\"Interconnection\" \"TextualRepresentationTest\""
   ]
  },
  {
   "cell_type": "code",
   "execution_count": 55,
   "id": "80873718",
   "metadata": {
    "execution": {
     "iopub.execute_input": "2021-09-27T07:18:36.105235Z",
     "iopub.status.busy": "2021-09-27T07:18:36.104824Z",
     "iopub.status.idle": "2021-09-27T07:18:36.127143Z",
     "shell.execute_reply": "2021-09-27T07:18:36.126774Z"
    }
   },
   "outputs": [
    {
     "data": {
      "image/svg+xml": [
       "<?xml version=\"1.0\" encoding=\"UTF-8\" standalone=\"no\"?><svg xmlns=\"http://www.w3.org/2000/svg\" xmlns:xlink=\"http://www.w3.org/1999/xlink\" contentScriptType=\"application/ecmascript\" contentStyleType=\"text/css\" height=\"126px\" preserveAspectRatio=\"none\" style=\"width:150px;height:126px;\" version=\"1.1\" viewBox=\"0 0 150 126\" width=\"150px\" zoomAndPan=\"magnify\"><defs/><g><!--MD5=[fbc87193dbaf4d95561dea2c320d4a47]\n",
       "cluster E1--><a href=\"psysml:13c6c11f-d2db-48ba-8729-714e79a71a8b\" target=\"_top\" title=\"psysml:13c6c11f-d2db-48ba-8729-714e79a71a8b\" xlink:actuate=\"onRequest\" xlink:href=\"psysml:13c6c11f-d2db-48ba-8729-714e79a71a8b\" xlink:show=\"new\" xlink:title=\"psysml:13c6c11f-d2db-48ba-8729-714e79a71a8b\" xlink:type=\"simple\"><rect fill=\"#FFFFFF\" height=\"73\" id=\"E1\" style=\"stroke: #383838; stroke-width: 1.5;\" width=\"132\" x=\"7\" y=\"42.0986\"/><rect fill=\"#F8F8F8\" height=\"37.9375\" style=\"stroke: #383838; stroke-width: 1.5;\" width=\"132\" x=\"7\" y=\"42.0986\"/><text fill=\"#000000\" font-family=\"sans-serif\" font-size=\"12\" font-style=\"italic\" lengthAdjust=\"spacingAndGlyphs\" textLength=\"77\" x=\"34.5\" y=\"58.2373\">«action def»</text><text fill=\"#000000\" font-family=\"sans-serif\" font-size=\"12\" lengthAdjust=\"spacingAndGlyphs\" textLength=\"27\" x=\"59.5\" y=\"72.2061\">setX</text></a><text fill=\"#000000\" font-family=\"sans-serif\" font-size=\"14\" lengthAdjust=\"spacingAndGlyphs\" textLength=\"8\" x=\"21\" y=\"20.7969\">c</text><rect fill=\"#383838\" height=\"12\" style=\"stroke: #F8F8F8; stroke-width: 1.5;\" width=\"12\" x=\"19\" y=\"36.0986\"/><text fill=\"#000000\" font-family=\"sans-serif\" font-size=\"14\" lengthAdjust=\"spacingAndGlyphs\" textLength=\"38\" x=\"53\" y=\"20.7969\">newX</text><rect fill=\"#383838\" height=\"12\" style=\"stroke: #F8F8F8; stroke-width: 1.5;\" width=\"12\" x=\"66\" y=\"36.0986\"/><!--MD5=[9f721bca239d5d54573b184cb7afac0f]\n",
       "@startuml\r\n",
       "skinparam ranksep 8\r\n",
       "skinparam linetype ortho\r\n",
       "skinparam monochrome true\r\n",
       "skinparam classbackgroundcolor white\r\n",
       "skinparam shadowing false\r\n",
       "skinparam wrapWidth 300\r\n",
       "hide circle\r\n",
       "\r\n",
       "rec def \"setX\" as E1  <<(T,blue) action def>> [[psysml:13c6c11f-d2db-48ba-8729-714e79a71a8b ]] {\r\n",
       "portin \"c\" as E2  [[psysml:b2a1dac5-50e3-4d3d-9a14-28fff19dad0f ]] \r\n",
       "portin \"newX\" as E3  [[psysml:3095d82e-c5b2-4faf-b7d1-254d70a18586 ]] \r\n",
       "}\r\n",
       "\r\n",
       "@enduml\r\n",
       "\n",
       "PlantUML version 1.2020.13(Sat Jun 13 12:26:38 UTC 2020)\n",
       "(EPL source distribution)\n",
       "Java Runtime: OpenJDK Runtime Environment\n",
       "JVM: OpenJDK 64-Bit Server VM\n",
       "Default Encoding: UTF-8\n",
       "Language: en\n",
       "Country: null\n",
       "--></g></svg>"
      ]
     },
     "execution_count": 55,
     "metadata": {},
     "output_type": "execute_result"
    }
   ],
   "source": [
    "%viz --style=\"ORTHOLINE\" --view=\"Action\" \"TextualRepresentationTest\""
   ]
  },
  {
   "cell_type": "code",
   "execution_count": 56,
   "id": "54f3ec1a",
   "metadata": {
    "execution": {
     "iopub.execute_input": "2021-09-27T07:18:36.176719Z",
     "iopub.status.busy": "2021-09-27T07:18:36.176305Z",
     "iopub.status.idle": "2021-09-27T07:18:36.181265Z",
     "shell.execute_reply": "2021-09-27T07:18:36.180924Z"
    }
   },
   "outputs": [
    {
     "data": {
      "image/svg+xml": [
       "<?xml version=\"1.0\" encoding=\"UTF-8\" standalone=\"no\"?><svg xmlns=\"http://www.w3.org/2000/svg\" xmlns:xlink=\"http://www.w3.org/1999/xlink\" contentScriptType=\"application/ecmascript\" contentStyleType=\"text/css\" height=\"12px\" preserveAspectRatio=\"none\" style=\"width:12px;height:12px;\" version=\"1.1\" viewBox=\"0 0 12 12\" width=\"12px\" zoomAndPan=\"magnify\"><defs/><g><!--MD5=[30fc1de5121c5abddedd55b44417fde8]\n",
       "@startuml\r\n",
       "skinparam roundcorner 20\r\n",
       "skinparam BoxPadding 20\r\n",
       "skinparam SequenceBoxBackgroundColor #white\r\n",
       "skinparam style strictuml\r\n",
       "skinparam maxMessageSize 100\r\n",
       "skinparam linetype ortho\r\n",
       "skinparam monochrome true\r\n",
       "skinparam classbackgroundcolor white\r\n",
       "skinparam shadowing false\r\n",
       "skinparam wrapWidth 300\r\n",
       "hide circle\r\n",
       "\r\n",
       "@enduml\r\n",
       "\n",
       "PlantUML version 1.2020.13(Sat Jun 13 12:26:38 UTC 2020)\n",
       "(EPL source distribution)\n",
       "Java Runtime: OpenJDK Runtime Environment\n",
       "JVM: OpenJDK 64-Bit Server VM\n",
       "Default Encoding: UTF-8\n",
       "Language: en\n",
       "Country: null\n",
       "--></g></svg>"
      ]
     },
     "execution_count": 56,
     "metadata": {},
     "output_type": "execute_result"
    }
   ],
   "source": [
    "%viz --style=\"ORTHOLINE\" --view=\"Sequence\" \"TextualRepresentationTest\""
   ]
  },
  {
   "cell_type": "code",
   "execution_count": 57,
   "id": "5bb8150b",
   "metadata": {
    "execution": {
     "iopub.execute_input": "2021-09-27T07:18:36.231265Z",
     "iopub.status.busy": "2021-09-27T07:18:36.230853Z",
     "iopub.status.idle": "2021-09-27T07:18:36.269930Z",
     "shell.execute_reply": "2021-09-27T07:18:36.268712Z"
    }
   },
   "outputs": [
    {
     "data": {
      "image/svg+xml": [
       "<?xml version=\"1.0\" encoding=\"UTF-8\" standalone=\"no\"?><svg xmlns=\"http://www.w3.org/2000/svg\" xmlns:xlink=\"http://www.w3.org/1999/xlink\" contentScriptType=\"application/ecmascript\" contentStyleType=\"text/css\" height=\"261px\" preserveAspectRatio=\"none\" style=\"width:345px;height:261px;\" version=\"1.1\" viewBox=\"0 0 345 261\" width=\"345px\" zoomAndPan=\"magnify\"><defs/><g><!--MD5=[fbc87193dbaf4d95561dea2c320d4a47]\n",
       "cluster E1--><a href=\"psysml:fa6c1bf2-147a-4459-8db1-4c7f2c0aa92b\" target=\"_top\" title=\"psysml:fa6c1bf2-147a-4459-8db1-4c7f2c0aa92b\" xlink:actuate=\"onRequest\" xlink:href=\"psysml:fa6c1bf2-147a-4459-8db1-4c7f2c0aa92b\" xlink:show=\"new\" xlink:title=\"psysml:fa6c1bf2-147a-4459-8db1-4c7f2c0aa92b\" xlink:type=\"simple\"><polygon fill=\"#FFFFFF\" points=\"16,6,210,6,217,28.2969,323,28.2969,323,249.5,16,249.5,16,6\" style=\"stroke: #000000; stroke-width: 1.5;\"/><line style=\"stroke: #000000; stroke-width: 1.5;\" x1=\"16\" x2=\"217\" y1=\"28.2969\" y2=\"28.2969\"/><text fill=\"#000000\" font-family=\"sans-serif\" font-size=\"14\" font-weight=\"bold\" lengthAdjust=\"spacingAndGlyphs\" textLength=\"188\" x=\"20\" y=\"20.9951\">TextualRepresentationTest</text></a><!--MD5=[f6df4d0ebaf0b5dfb2ced0ae5af7c670]\n",
       "cluster E4--><a href=\"psysml:13c6c11f-d2db-48ba-8729-714e79a71a8b\" target=\"_top\" title=\"psysml:13c6c11f-d2db-48ba-8729-714e79a71a8b\" xlink:actuate=\"onRequest\" xlink:href=\"psysml:13c6c11f-d2db-48ba-8729-714e79a71a8b\" xlink:show=\"new\" xlink:title=\"psysml:13c6c11f-d2db-48ba-8729-714e79a71a8b\" xlink:type=\"simple\"><rect fill=\"#FFFFFF\" height=\"154.5\" id=\"E4\" style=\"stroke: #383838; stroke-width: 1.5;\" width=\"132\" x=\"175\" y=\"79\"/><rect fill=\"#F8F8F8\" height=\"37.9375\" style=\"stroke: #383838; stroke-width: 1.5;\" width=\"132\" x=\"175\" y=\"79\"/><text fill=\"#000000\" font-family=\"sans-serif\" font-size=\"12\" font-style=\"italic\" lengthAdjust=\"spacingAndGlyphs\" textLength=\"77\" x=\"202.5\" y=\"95.1387\">«action def»</text><text fill=\"#000000\" font-family=\"sans-serif\" font-size=\"12\" lengthAdjust=\"spacingAndGlyphs\" textLength=\"27\" x=\"227.5\" y=\"109.1074\">setX</text></a><!--MD5=[b4997ac47864f28c2f74865a473b2911]\n",
       "class E2--><a href=\"psysml:7c3e9caa-80d9-4c4c-adc7-c498b9bc223a\" target=\"_top\" title=\"psysml:7c3e9caa-80d9-4c4c-adc7-c498b9bc223a\" xlink:actuate=\"onRequest\" xlink:href=\"psysml:7c3e9caa-80d9-4c4c-adc7-c498b9bc223a\" xlink:show=\"new\" xlink:title=\"psysml:7c3e9caa-80d9-4c4c-adc7-c498b9bc223a\" xlink:type=\"simple\"><rect fill=\"#FFFFFF\" height=\"75.5469\" id=\"E2\" style=\"stroke: #383838; stroke-width: 1.5;\" width=\"67\" x=\"59.5\" y=\"41\"/><text fill=\"#000000\" font-family=\"sans-serif\" font-size=\"12\" font-style=\"italic\" lengthAdjust=\"spacingAndGlyphs\" textLength=\"65\" x=\"60.5\" y=\"57.1387\">«item def»</text><text fill=\"#000000\" font-family=\"sans-serif\" font-size=\"12\" lengthAdjust=\"spacingAndGlyphs\" textLength=\"8\" x=\"89\" y=\"71.1074\">C</text><line style=\"stroke: #383838; stroke-width: 1.5;\" x1=\"60.5\" x2=\"125.5\" y1=\"78.9375\" y2=\"78.9375\"/><text fill=\"#000000\" font-family=\"sans-serif\" font-size=\"11\" lengthAdjust=\"spacingAndGlyphs\" textLength=\"38\" x=\"65.5\" y=\"109.9526\">x: Real</text><line style=\"stroke: #383838; stroke-width: 1.0;\" x1=\"60.5\" x2=\"65.5\" y1=\"93.3398\" y2=\"93.3398\"/><text fill=\"#000000\" font-family=\"sans-serif\" font-size=\"11\" lengthAdjust=\"spacingAndGlyphs\" textLength=\"55\" x=\"65.5\" y=\"96.6479\">attributes</text><line style=\"stroke: #383838; stroke-width: 1.0;\" x1=\"120.5\" x2=\"125.5\" y1=\"93.3398\" y2=\"93.3398\"/></a><!--MD5=[09b614a08d8cba4a07c9adeb5e0fee81]\n",
       "class E3--><a href=\"psysml:c1adaef5-a811-466e-b0b1-353fc6834fce\" target=\"_top\" title=\"psysml:c1adaef5-a811-466e-b0b1-353fc6834fce\" xlink:actuate=\"onRequest\" xlink:href=\"psysml:c1adaef5-a811-466e-b0b1-353fc6834fce\" xlink:show=\"new\" xlink:title=\"psysml:c1adaef5-a811-466e-b0b1-353fc6834fce\" xlink:type=\"simple\"><rect fill=\"#FFFFFF\" height=\"45.9375\" id=\"E3\" rx=\"10\" ry=\"10\" style=\"stroke: #383838; stroke-width: 1.5;\" width=\"121\" x=\"32.5\" y=\"177\"/><text fill=\"#000000\" font-family=\"sans-serif\" font-size=\"12\" font-style=\"italic\" lengthAdjust=\"spacingAndGlyphs\" textLength=\"119\" x=\"33.5\" y=\"193.1387\">«assertConstraint»</text><text fill=\"#000000\" font-family=\"sans-serif\" font-size=\"12\" lengthAdjust=\"spacingAndGlyphs\" textLength=\"76\" x=\"55\" y=\"207.1074\">x_constraint</text><line style=\"stroke: #383838; stroke-width: 1.5;\" x1=\"33.5\" x2=\"152.5\" y1=\"214.9375\" y2=\"214.9375\"/></a><text fill=\"#000000\" font-family=\"sans-serif\" font-size=\"14\" lengthAdjust=\"spacingAndGlyphs\" textLength=\"8\" x=\"189\" y=\"57.6982\">c</text><rect fill=\"#383838\" height=\"12\" style=\"stroke: #F8F8F8; stroke-width: 1.5;\" width=\"12\" x=\"187\" y=\"73\"/><text fill=\"#000000\" font-family=\"sans-serif\" font-size=\"14\" lengthAdjust=\"spacingAndGlyphs\" textLength=\"38\" x=\"221\" y=\"57.6982\">newX</text><rect fill=\"#383838\" height=\"12\" style=\"stroke: #F8F8F8; stroke-width: 1.5;\" width=\"12\" x=\"234\" y=\"73\"/><!--MD5=[209b3feb70ccb6233bfe1053d122c12c]\n",
       "reverse link E2 to E3--><a href=\"psysml:6c3bd0c1-e9ea-4acc-b51f-d35f7aefdb06\" target=\"_top\" title=\"psysml:6c3bd0c1-e9ea-4acc-b51f-d35f7aefdb06\" xlink:actuate=\"onRequest\" xlink:href=\"psysml:6c3bd0c1-e9ea-4acc-b51f-d35f7aefdb06\" xlink:show=\"new\" xlink:title=\"psysml:6c3bd0c1-e9ea-4acc-b51f-d35f7aefdb06\" xlink:type=\"simple\"><path d=\"M93,130.29 C93,130.29 93,176.74 93,176.74 \" fill=\"none\" id=\"E2&lt;-E3\" style=\"stroke: #383838; stroke-width: 1.0;\"/><polygon fill=\"#383838\" points=\"93,117.29,89,123.29,93,129.29,97,123.29,93,117.29\" style=\"stroke: #383838; stroke-width: 1.0;\"/><text fill=\"#000000\" font-family=\"sans-serif\" font-size=\"13\" lengthAdjust=\"spacingAndGlyphs\" textLength=\"7\" x=\"85.1031\" y=\"165.9497\">*</text></a><!--MD5=[ea754ce9e9a5a11b937e412b5c921f6f]\n",
       "@startuml\r\n",
       "skinparam linetype ortho\r\n",
       "skinparam monochrome true\r\n",
       "skinparam classbackgroundcolor white\r\n",
       "skinparam shadowing false\r\n",
       "skinparam wrapWidth 300\r\n",
       "hide circle\r\n",
       "\r\n",
       "package \"TextualRepresentationTest\" as E1  [[psysml:fa6c1bf2-147a-4459-8db1-4c7f2c0aa92b ]]  {\r\n",
       "comp def \"C\" as E2  <<(T,blue) item def>> [[psysml:7c3e9caa-80d9-4c4c-adc7-c498b9bc223a ]] {\r\n",
       "- - attributes - -\r\n",
       "x: Real\r\n",
       "}\r\n",
       "comp usage \"x_constraint\" as E3  <<(T,blue) assertConstraint>> [[psysml:c1adaef5-a811-466e-b0b1-353fc6834fce ]] {\r\n",
       "}\r\n",
       "rec def \"setX\" as E4  <<(T,blue) action def>> [[psysml:13c6c11f-d2db-48ba-8729-714e79a71a8b ]] {\r\n",
       "portin \"c\" as E5  [[psysml:b2a1dac5-50e3-4d3d-9a14-28fff19dad0f ]] \r\n",
       "portin \"newX\" as E6  [[psysml:3095d82e-c5b2-4faf-b7d1-254d70a18586 ]] \r\n",
       "}\r\n",
       "\r\n",
       "}\r\n",
       "E2 *- - \"*\"E3 [[psysml:6c3bd0c1-e9ea-4acc-b51f-d35f7aefdb06 ]] \r\n",
       "@enduml\r\n",
       "\n",
       "PlantUML version 1.2020.13(Sat Jun 13 12:26:38 UTC 2020)\n",
       "(EPL source distribution)\n",
       "Java Runtime: OpenJDK Runtime Environment\n",
       "JVM: OpenJDK 64-Bit Server VM\n",
       "Default Encoding: UTF-8\n",
       "Language: en\n",
       "Country: null\n",
       "--></g></svg>"
      ]
     },
     "execution_count": 57,
     "metadata": {},
     "output_type": "execute_result"
    }
   ],
   "source": [
    "%viz --style=\"ORTHOLINE\" --view=\"MIXED\" \"TextualRepresentationTest\""
   ]
  }
 ],
 "metadata": {
  "kernelspec": {
   "display_name": "SysML",
   "language": "sysml",
   "name": "sysml"
  },
  "language_info": {
   "codemirror_mode": "sysml",
   "file_extension": ".sysml",
   "mimetype": "text/x-sysml",
   "name": "SysML",
   "pygments_lexer": "java",
   "version": "1.0.0"
  }
 },
 "nbformat": 4,
 "nbformat_minor": 5
}
