{
 "cells": [
  {
   "cell_type": "markdown",
   "id": "e8918fdf",
   "metadata": {},
   "source": [
    "# SysML v2 Test Suite\n",
    "\n",
    "This can notebook can be cleared using menu `Edit --> Clear All Outputs` and then all cells can be\n",
    "run using menu `Run --> Run All Cells`.\n",
    "\n",
    "**WARNING**: This file is generated, all modifications here will be ignored.\n"
   ]
  },
  {
   "cell_type": "markdown",
   "id": "b2351dfe",
   "metadata": {},
   "source": [
    "## File: ../../sysml/src/examples/Simple Tests/TextualRepresentationTest.sysml"
   ]
  },
  {
   "cell_type": "code",
   "execution_count": 1,
   "id": "5aa0ec32",
   "metadata": {
    "execution": {
     "iopub.execute_input": "2022-06-20T11:13:34.390670Z",
     "iopub.status.busy": "2022-06-20T11:13:34.389636Z",
     "iopub.status.idle": "2022-06-20T11:13:34.650927Z",
     "shell.execute_reply": "2022-06-20T11:13:34.651297Z"
    }
   },
   "outputs": [
    {
     "data": {
      "text/plain": [
       "Package TextualRepresentationTest (44d40611-a894-4dae-a2f2-eb4bbba313e0)\n"
      ]
     },
     "execution_count": 1,
     "metadata": {},
     "output_type": "execute_result"
    }
   ],
   "source": [
    "package TextualRepresentationTest {\n",
    "\timport ScalarValues::Real;\n",
    "\t\n",
    "\titem def C {\n",
    "\t    attribute x: Real;\n",
    "\t    assert constraint x_constraint {\n",
    "\t\t    rep inOCL language \"ocl\" \n",
    "\t\t        /* self.x > 0.0 */\n",
    "\t    }\n",
    "\t}\n",
    "\t\n",
    "\taction def setX(c : C, newX : Real) {\n",
    "\t    language \"alf\" \n",
    "\t        /* c.x = newX;\n",
    "\t         * WriteLine(\"Set new x\");\n",
    "\t         */\n",
    "\t}\n",
    "\t\n",
    "}"
   ]
  },
  {
   "cell_type": "code",
   "execution_count": 2,
   "id": "5ba05fa1",
   "metadata": {
    "execution": {
     "iopub.execute_input": "2022-06-20T11:13:34.702554Z",
     "iopub.status.busy": "2022-06-20T11:13:34.702040Z",
     "iopub.status.idle": "2022-06-20T11:13:35.191079Z",
     "shell.execute_reply": "2022-06-20T11:13:35.190172Z"
    }
   },
   "outputs": [
    {
     "data": {
      "image/svg+xml": [
       "<?xml version=\"1.0\" encoding=\"UTF-8\" standalone=\"no\"?><svg xmlns=\"http://www.w3.org/2000/svg\" xmlns:xlink=\"http://www.w3.org/1999/xlink\" contentScriptType=\"application/ecmascript\" contentStyleType=\"text/css\" height=\"261px\" preserveAspectRatio=\"none\" style=\"width:351px;height:261px;\" version=\"1.1\" viewBox=\"0 0 351 261\" width=\"351px\" zoomAndPan=\"magnify\"><defs/><g><!--MD5=[fbc87193dbaf4d95561dea2c320d4a47]\n",
       "cluster E1--><a href=\"psysml:44d40611-a894-4dae-a2f2-eb4bbba313e0\" target=\"_top\" title=\"psysml:44d40611-a894-4dae-a2f2-eb4bbba313e0\" xlink:actuate=\"onRequest\" xlink:href=\"psysml:44d40611-a894-4dae-a2f2-eb4bbba313e0\" xlink:show=\"new\" xlink:title=\"psysml:44d40611-a894-4dae-a2f2-eb4bbba313e0\" xlink:type=\"simple\"><polygon fill=\"#FFFFFF\" points=\"16,6,210,6,217,28.2969,329,28.2969,329,249.5,16,249.5,16,6\" style=\"stroke: #000000; stroke-width: 1.5;\"/><line style=\"stroke: #000000; stroke-width: 1.5;\" x1=\"16\" x2=\"217\" y1=\"28.2969\" y2=\"28.2969\"/><text fill=\"#000000\" font-family=\"sans-serif\" font-size=\"14\" font-weight=\"bold\" lengthAdjust=\"spacingAndGlyphs\" textLength=\"188\" x=\"20\" y=\"20.9951\">TextualRepresentationTest</text></a><!--MD5=[f6df4d0ebaf0b5dfb2ced0ae5af7c670]\n",
       "cluster E4--><a href=\"psysml:6b33d7d4-0403-4693-aa76-fb8d39622677\" target=\"_top\" title=\"psysml:6b33d7d4-0403-4693-aa76-fb8d39622677\" xlink:actuate=\"onRequest\" xlink:href=\"psysml:6b33d7d4-0403-4693-aa76-fb8d39622677\" xlink:show=\"new\" xlink:title=\"psysml:6b33d7d4-0403-4693-aa76-fb8d39622677\" xlink:type=\"simple\"><rect fill=\"#FFFFFF\" height=\"154.5\" id=\"E4\" style=\"stroke: #383838; stroke-width: 1.5;\" width=\"134\" x=\"179\" y=\"79\"/><rect fill=\"#F8F8F8\" height=\"37.9375\" style=\"stroke: #383838; stroke-width: 1.5;\" width=\"134\" x=\"179\" y=\"79\"/><text fill=\"#000000\" font-family=\"sans-serif\" font-size=\"12\" font-style=\"italic\" lengthAdjust=\"spacingAndGlyphs\" textLength=\"81\" x=\"205.5\" y=\"95.1387\">«action  def»</text><text fill=\"#000000\" font-family=\"sans-serif\" font-size=\"12\" lengthAdjust=\"spacingAndGlyphs\" textLength=\"27\" x=\"232.5\" y=\"109.1074\">setX</text></a><!--MD5=[b4997ac47864f28c2f74865a473b2911]\n",
       "class E2--><a href=\"psysml:4aee70d7-2b51-44ea-8f07-d2f5d32d40ea\" target=\"_top\" title=\"psysml:4aee70d7-2b51-44ea-8f07-d2f5d32d40ea\" xlink:actuate=\"onRequest\" xlink:href=\"psysml:4aee70d7-2b51-44ea-8f07-d2f5d32d40ea\" xlink:show=\"new\" xlink:title=\"psysml:4aee70d7-2b51-44ea-8f07-d2f5d32d40ea\" xlink:type=\"simple\"><rect fill=\"#FFFFFF\" height=\"75.5469\" id=\"E2\" style=\"stroke: #383838; stroke-width: 1.5;\" width=\"71\" x=\"58.5\" y=\"41\"/><text fill=\"#000000\" font-family=\"sans-serif\" font-size=\"12\" font-style=\"italic\" lengthAdjust=\"spacingAndGlyphs\" textLength=\"69\" x=\"59.5\" y=\"57.1387\">«item  def»</text><text fill=\"#000000\" font-family=\"sans-serif\" font-size=\"12\" lengthAdjust=\"spacingAndGlyphs\" textLength=\"8\" x=\"90\" y=\"71.1074\">C</text><line style=\"stroke: #383838; stroke-width: 1.5;\" x1=\"59.5\" x2=\"128.5\" y1=\"78.9375\" y2=\"78.9375\"/><text fill=\"#000000\" font-family=\"sans-serif\" font-size=\"11\" lengthAdjust=\"spacingAndGlyphs\" textLength=\"38\" x=\"64.5\" y=\"109.9526\">x: Real</text><line style=\"stroke: #383838; stroke-width: 1.0;\" x1=\"59.5\" x2=\"66.5\" y1=\"93.3398\" y2=\"93.3398\"/><text fill=\"#000000\" font-family=\"sans-serif\" font-size=\"11\" lengthAdjust=\"spacingAndGlyphs\" textLength=\"55\" x=\"66.5\" y=\"96.6479\">attributes</text><line style=\"stroke: #383838; stroke-width: 1.0;\" x1=\"121.5\" x2=\"128.5\" y1=\"93.3398\" y2=\"93.3398\"/></a><!--MD5=[09b614a08d8cba4a07c9adeb5e0fee81]\n",
       "class E3--><a href=\"psysml:4e46f6e8-5c68-4c27-8860-5a5208ef4b7d\" target=\"_top\" title=\"psysml:4e46f6e8-5c68-4c27-8860-5a5208ef4b7d\" xlink:actuate=\"onRequest\" xlink:href=\"psysml:4e46f6e8-5c68-4c27-8860-5a5208ef4b7d\" xlink:show=\"new\" xlink:title=\"psysml:4e46f6e8-5c68-4c27-8860-5a5208ef4b7d\" xlink:type=\"simple\"><rect fill=\"#FFFFFF\" height=\"45.9375\" id=\"E3\" rx=\"10\" ry=\"10\" style=\"stroke: #383838; stroke-width: 1.5;\" width=\"124\" x=\"32\" y=\"177\"/><text fill=\"#000000\" font-family=\"sans-serif\" font-size=\"12\" font-style=\"italic\" lengthAdjust=\"spacingAndGlyphs\" textLength=\"122\" x=\"33\" y=\"193.1387\">«assert constraint»</text><text fill=\"#000000\" font-family=\"sans-serif\" font-size=\"12\" lengthAdjust=\"spacingAndGlyphs\" textLength=\"76\" x=\"54\" y=\"207.1074\">x_constraint</text><line style=\"stroke: #383838; stroke-width: 1.5;\" x1=\"33\" x2=\"155\" y1=\"214.9375\" y2=\"214.9375\"/></a><text fill=\"#000000\" font-family=\"sans-serif\" font-size=\"14\" lengthAdjust=\"spacingAndGlyphs\" textLength=\"8\" x=\"193\" y=\"57.6982\">c</text><rect fill=\"#383838\" height=\"12\" style=\"stroke: #F8F8F8; stroke-width: 1.5;\" width=\"12\" x=\"191\" y=\"73\"/><text fill=\"#000000\" font-family=\"sans-serif\" font-size=\"14\" lengthAdjust=\"spacingAndGlyphs\" textLength=\"38\" x=\"225\" y=\"57.6982\">newX</text><rect fill=\"#383838\" height=\"12\" style=\"stroke: #F8F8F8; stroke-width: 1.5;\" width=\"12\" x=\"238\" y=\"73\"/><!--MD5=[209b3feb70ccb6233bfe1053d122c12c]\n",
       "reverse link E2 to E3--><a href=\"psysml:057e15e5-e107-41c4-afdf-3f2cc89f9205\" target=\"_top\" title=\"psysml:057e15e5-e107-41c4-afdf-3f2cc89f9205\" xlink:actuate=\"onRequest\" xlink:href=\"psysml:057e15e5-e107-41c4-afdf-3f2cc89f9205\" xlink:show=\"new\" xlink:title=\"psysml:057e15e5-e107-41c4-afdf-3f2cc89f9205\" xlink:type=\"simple\"><path d=\"M94,130.34 C94,146.61 94,163.81 94,176.93 \" fill=\"none\" id=\"E2&lt;-E3\" style=\"stroke: #383838; stroke-width: 1.0;\"/><polygon fill=\"#383838\" points=\"94,117,90,123,94,129,98,123,94,117\" style=\"stroke: #383838; stroke-width: 1.0;\"/><text fill=\"#000000\" font-family=\"sans-serif\" font-size=\"13\" lengthAdjust=\"spacingAndGlyphs\" textLength=\"7\" x=\"86.0594\" y=\"165.8075\">*</text></a><!--MD5=[5c259c49ce70082dde581a977d1b05f7]\n",
       "@startuml\r\n",
       " skinparam monochrome true\r\n",
       "skinparam classbackgroundcolor white\r\n",
       "skinparam shadowing false\r\n",
       "skinparam wrapWidth 300\r\n",
       "hide circle\r\n",
       "\r\n",
       "package \"TextualRepresentationTest\" as E1  [[psysml:44d40611-a894-4dae-a2f2-eb4bbba313e0 ]]  {\r\n",
       "comp def \"C\" as E2  <<(T,blue) item  def>> [[psysml:4aee70d7-2b51-44ea-8f07-d2f5d32d40ea ]] {\r\n",
       "- - attributes - -\r\n",
       "x: Real\r\n",
       "}\r\n",
       "comp usage \"x_constraint \" as E3  <<(T,blue) assert constraint>> [[psysml:4e46f6e8-5c68-4c27-8860-5a5208ef4b7d ]] {\r\n",
       "}\r\n",
       "rec def \"setX\" as E4  <<(T,blue) action  def>> [[psysml:6b33d7d4-0403-4693-aa76-fb8d39622677 ]] {\r\n",
       "portin \"c\" as E5  [[psysml:aadc07b0-b627-4a1c-8a0b-7e2bc77ad3c9 ]] \r\n",
       "portin \"newX\" as E6  [[psysml:a8b47a70-45ce-488b-ad71-695ba05ffc83 ]] \r\n",
       "}\r\n",
       "\r\n",
       "}\r\n",
       "E2 *- - \"*\"E3 [[psysml:057e15e5-e107-41c4-afdf-3f2cc89f9205 ]] \r\n",
       "@enduml\r\n",
       "\n",
       "PlantUML version 1.2020.13(Sat Jun 13 12:26:38 UTC 2020)\n",
       "(EPL source distribution)\n",
       "Java Runtime: OpenJDK Runtime Environment\n",
       "JVM: OpenJDK 64-Bit Server VM\n",
       "Default Encoding: UTF-8\n",
       "Language: en\n",
       "Country: null\n",
       "--></g></svg>"
      ]
     },
     "execution_count": 2,
     "metadata": {},
     "output_type": "execute_result"
    }
   ],
   "source": [
    "%viz --style=\"COMPTREE\" --view=\"Default\" \"TextualRepresentationTest\""
   ]
  },
  {
   "cell_type": "code",
   "execution_count": 3,
   "id": "d4678298",
   "metadata": {
    "execution": {
     "iopub.execute_input": "2022-06-20T11:13:35.241751Z",
     "iopub.status.busy": "2022-06-20T11:13:35.241287Z",
     "iopub.status.idle": "2022-06-20T11:13:35.312826Z",
     "shell.execute_reply": "2022-06-20T11:13:35.312396Z"
    }
   },
   "outputs": [
    {
     "data": {
      "image/svg+xml": [
       "<?xml version=\"1.0\" encoding=\"UTF-8\" standalone=\"no\"?><svg xmlns=\"http://www.w3.org/2000/svg\" xmlns:xlink=\"http://www.w3.org/1999/xlink\" contentScriptType=\"application/ecmascript\" contentStyleType=\"text/css\" height=\"375px\" preserveAspectRatio=\"none\" style=\"width:242px;height:375px;\" version=\"1.1\" viewBox=\"0 0 242 375\" width=\"242px\" zoomAndPan=\"magnify\"><defs/><g><!--MD5=[fbc87193dbaf4d95561dea2c320d4a47]\n",
       "cluster E1--><a href=\"psysml:44d40611-a894-4dae-a2f2-eb4bbba313e0\" target=\"_top\" title=\"psysml:44d40611-a894-4dae-a2f2-eb4bbba313e0\" xlink:actuate=\"onRequest\" xlink:href=\"psysml:44d40611-a894-4dae-a2f2-eb4bbba313e0\" xlink:show=\"new\" xlink:title=\"psysml:44d40611-a894-4dae-a2f2-eb4bbba313e0\" xlink:type=\"simple\"><polygon fill=\"#FFFFFF\" points=\"16,6,210,6,217,28.2969,220,28.2969,220,363,16,363,16,6\" style=\"stroke: #000000; stroke-width: 1.5;\"/><line style=\"stroke: #000000; stroke-width: 1.5;\" x1=\"16\" x2=\"217\" y1=\"28.2969\" y2=\"28.2969\"/><text fill=\"#000000\" font-family=\"sans-serif\" font-size=\"14\" font-weight=\"bold\" lengthAdjust=\"spacingAndGlyphs\" textLength=\"188\" x=\"20\" y=\"20.9951\">TextualRepresentationTest</text></a><!--MD5=[b4997ac47864f28c2f74865a473b2911]\n",
       "class E2--><a href=\"psysml:4aee70d7-2b51-44ea-8f07-d2f5d32d40ea\" target=\"_top\" title=\"psysml:4aee70d7-2b51-44ea-8f07-d2f5d32d40ea\" xlink:actuate=\"onRequest\" xlink:href=\"psysml:4aee70d7-2b51-44ea-8f07-d2f5d32d40ea\" xlink:show=\"new\" xlink:title=\"psysml:4aee70d7-2b51-44ea-8f07-d2f5d32d40ea\" xlink:type=\"simple\"><rect fill=\"#FFFFFF\" height=\"75.5469\" id=\"E2\" style=\"stroke: #383838; stroke-width: 1.5;\" width=\"71\" x=\"82.5\" y=\"164\"/><text fill=\"#000000\" font-family=\"sans-serif\" font-size=\"12\" font-style=\"italic\" lengthAdjust=\"spacingAndGlyphs\" textLength=\"69\" x=\"83.5\" y=\"180.1387\">«item  def»</text><text fill=\"#000000\" font-family=\"sans-serif\" font-size=\"12\" lengthAdjust=\"spacingAndGlyphs\" textLength=\"8\" x=\"114\" y=\"194.1074\">C</text><line style=\"stroke: #383838; stroke-width: 1.5;\" x1=\"83.5\" x2=\"152.5\" y1=\"201.9375\" y2=\"201.9375\"/><text fill=\"#000000\" font-family=\"sans-serif\" font-size=\"11\" lengthAdjust=\"spacingAndGlyphs\" textLength=\"38\" x=\"88.5\" y=\"232.9526\">x: Real</text><line style=\"stroke: #383838; stroke-width: 1.0;\" x1=\"83.5\" x2=\"90.5\" y1=\"216.3398\" y2=\"216.3398\"/><text fill=\"#000000\" font-family=\"sans-serif\" font-size=\"11\" lengthAdjust=\"spacingAndGlyphs\" textLength=\"55\" x=\"90.5\" y=\"219.6479\">attributes</text><line style=\"stroke: #383838; stroke-width: 1.0;\" x1=\"145.5\" x2=\"152.5\" y1=\"216.3398\" y2=\"216.3398\"/></a><!--MD5=[09b614a08d8cba4a07c9adeb5e0fee81]\n",
       "class E3--><a href=\"psysml:4e46f6e8-5c68-4c27-8860-5a5208ef4b7d\" target=\"_top\" title=\"psysml:4e46f6e8-5c68-4c27-8860-5a5208ef4b7d\" xlink:actuate=\"onRequest\" xlink:href=\"psysml:4e46f6e8-5c68-4c27-8860-5a5208ef4b7d\" xlink:show=\"new\" xlink:title=\"psysml:4e46f6e8-5c68-4c27-8860-5a5208ef4b7d\" xlink:type=\"simple\"><rect fill=\"#FFFFFF\" height=\"45.9375\" id=\"E3\" rx=\"10\" ry=\"10\" style=\"stroke: #383838; stroke-width: 1.5;\" width=\"124\" x=\"56\" y=\"301\"/><text fill=\"#000000\" font-family=\"sans-serif\" font-size=\"12\" font-style=\"italic\" lengthAdjust=\"spacingAndGlyphs\" textLength=\"122\" x=\"57\" y=\"317.1387\">«assert constraint»</text><text fill=\"#000000\" font-family=\"sans-serif\" font-size=\"12\" lengthAdjust=\"spacingAndGlyphs\" textLength=\"76\" x=\"78\" y=\"331.1074\">x_constraint</text><line style=\"stroke: #383838; stroke-width: 1.5;\" x1=\"57\" x2=\"179\" y1=\"338.9375\" y2=\"338.9375\"/></a><!--MD5=[ebbe1d658d1005bcc118a6aa81145e00]\n",
       "class E4--><a href=\"psysml:6b33d7d4-0403-4693-aa76-fb8d39622677\" target=\"_top\" title=\"psysml:6b33d7d4-0403-4693-aa76-fb8d39622677\" xlink:actuate=\"onRequest\" xlink:href=\"psysml:6b33d7d4-0403-4693-aa76-fb8d39622677\" xlink:show=\"new\" xlink:title=\"psysml:6b33d7d4-0403-4693-aa76-fb8d39622677\" xlink:type=\"simple\"><rect fill=\"#FFFFFF\" height=\"45.9375\" id=\"E4\" style=\"stroke: #383838; stroke-width: 1.5;\" width=\"83\" x=\"76.5\" y=\"41\"/><text fill=\"#000000\" font-family=\"sans-serif\" font-size=\"12\" font-style=\"italic\" lengthAdjust=\"spacingAndGlyphs\" textLength=\"81\" x=\"77.5\" y=\"57.1387\">«action  def»</text><text fill=\"#000000\" font-family=\"sans-serif\" font-size=\"12\" lengthAdjust=\"spacingAndGlyphs\" textLength=\"27\" x=\"104.5\" y=\"71.1074\">setX</text><line style=\"stroke: #383838; stroke-width: 1.5;\" x1=\"77.5\" x2=\"158.5\" y1=\"78.9375\" y2=\"78.9375\"/></a><!--MD5=[209b3feb70ccb6233bfe1053d122c12c]\n",
       "reverse link E2 to E3--><a href=\"psysml:057e15e5-e107-41c4-afdf-3f2cc89f9205\" target=\"_top\" title=\"psysml:057e15e5-e107-41c4-afdf-3f2cc89f9205\" xlink:actuate=\"onRequest\" xlink:href=\"psysml:057e15e5-e107-41c4-afdf-3f2cc89f9205\" xlink:show=\"new\" xlink:title=\"psysml:057e15e5-e107-41c4-afdf-3f2cc89f9205\" xlink:type=\"simple\"><path d=\"M118,253.76 C118,270.17 118,287.52 118,300.75 \" fill=\"none\" id=\"E2&lt;-E3\" style=\"stroke: #383838; stroke-width: 1.0;\"/><polygon fill=\"#383838\" points=\"118,240.31,114,246.31,118,252.31,122,246.31,118,240.31\" style=\"stroke: #383838; stroke-width: 1.0;\"/><text fill=\"#000000\" font-family=\"sans-serif\" font-size=\"13\" lengthAdjust=\"spacingAndGlyphs\" textLength=\"7\" x=\"110.1031\" y=\"289.9622\">*</text></a><!--MD5=[ddeed8deb2209213b62e6cfabaa108b2]\n",
       "reverse link E4 to E2--><a href=\"psysml:aadc07b0-b627-4a1c-8a0b-7e2bc77ad3c9\" target=\"_top\" title=\"psysml:aadc07b0-b627-4a1c-8a0b-7e2bc77ad3c9\" xlink:actuate=\"onRequest\" xlink:href=\"psysml:aadc07b0-b627-4a1c-8a0b-7e2bc77ad3c9\" xlink:show=\"new\" xlink:title=\"psysml:aadc07b0-b627-4a1c-8a0b-7e2bc77ad3c9\" xlink:type=\"simple\"><path d=\"M118,100.42 C118,119.95 118,144.19 118,163.97 \" fill=\"none\" id=\"E4&lt;-E2\" style=\"stroke: #383838; stroke-width: 1.0;\"/><polygon fill=\"#FFFFFF\" points=\"118,87.15,114,93.15,118,99.15,122,93.15,118,87.15\" style=\"stroke: #383838; stroke-width: 1.0;\"/><text fill=\"#000000\" font-family=\"sans-serif\" font-size=\"13\" lengthAdjust=\"spacingAndGlyphs\" textLength=\"7\" x=\"119\" y=\"130.0669\">c</text></a><!--MD5=[1fbf2a5ee4548e379c49ffed41620d23]\n",
       "@startuml\r\n",
       " skinparam monochrome true\r\n",
       "skinparam classbackgroundcolor white\r\n",
       "skinparam shadowing false\r\n",
       "skinparam wrapWidth 300\r\n",
       "hide circle\r\n",
       "\r\n",
       "package \"TextualRepresentationTest\" as E1  [[psysml:44d40611-a894-4dae-a2f2-eb4bbba313e0 ]]  {\r\n",
       "comp def \"C\" as E2  <<(T,blue) item  def>> [[psysml:4aee70d7-2b51-44ea-8f07-d2f5d32d40ea ]] {\r\n",
       "- - attributes - -\r\n",
       "x: Real\r\n",
       "}\r\n",
       "comp usage \"x_constraint \" as E3  <<(T,blue) assert constraint>> [[psysml:4e46f6e8-5c68-4c27-8860-5a5208ef4b7d ]] {\r\n",
       "}\r\n",
       "comp def \"setX\" as E4  <<(T,blue) action  def>> [[psysml:6b33d7d4-0403-4693-aa76-fb8d39622677 ]] {\r\n",
       "}\r\n",
       "}\r\n",
       "E2 *- - \"*\"E3 [[psysml:057e15e5-e107-41c4-afdf-3f2cc89f9205 ]] \r\n",
       "E4 o- - E2 [[psysml:aadc07b0-b627-4a1c-8a0b-7e2bc77ad3c9 ]] : c\r\n",
       "@enduml\r\n",
       "\n",
       "PlantUML version 1.2020.13(Sat Jun 13 12:26:38 UTC 2020)\n",
       "(EPL source distribution)\n",
       "Java Runtime: OpenJDK Runtime Environment\n",
       "JVM: OpenJDK 64-Bit Server VM\n",
       "Default Encoding: UTF-8\n",
       "Language: en\n",
       "Country: null\n",
       "--></g></svg>"
      ]
     },
     "execution_count": 3,
     "metadata": {},
     "output_type": "execute_result"
    }
   ],
   "source": [
    "%viz --style=\"COMPTREE\" --view=\"Tree\" \"TextualRepresentationTest\""
   ]
  },
  {
   "cell_type": "code",
   "execution_count": 4,
   "id": "cd4c7559",
   "metadata": {
    "execution": {
     "iopub.execute_input": "2022-06-20T11:13:35.362808Z",
     "iopub.status.busy": "2022-06-20T11:13:35.362248Z",
     "iopub.status.idle": "2022-06-20T11:13:35.368230Z",
     "shell.execute_reply": "2022-06-20T11:13:35.367842Z"
    }
   },
   "outputs": [
    {
     "data": {
      "image/svg+xml": [
       "<?xml version=\"1.0\" encoding=\"UTF-8\" standalone=\"no\"?><svg xmlns=\"http://www.w3.org/2000/svg\" xmlns:xlink=\"http://www.w3.org/1999/xlink\" contentScriptType=\"application/ecmascript\" contentStyleType=\"text/css\" height=\"12px\" preserveAspectRatio=\"none\" style=\"width:12px;height:12px;\" version=\"1.1\" viewBox=\"0 0 12 12\" width=\"12px\" zoomAndPan=\"magnify\"><defs/><g><!--MD5=[f19188ef49e11757b5c46753f95d9edc]\n",
       "@startuml\r\n",
       " skinparam monochrome true\r\n",
       "skinparam classbackgroundcolor white\r\n",
       "skinparam shadowing false\r\n",
       "skinparam wrapWidth 300\r\n",
       "hide circle\r\n",
       "\r\n",
       "@enduml\r\n",
       "\n",
       "PlantUML version 1.2020.13(Sat Jun 13 12:26:38 UTC 2020)\n",
       "(EPL source distribution)\n",
       "Java Runtime: OpenJDK Runtime Environment\n",
       "JVM: OpenJDK 64-Bit Server VM\n",
       "Default Encoding: UTF-8\n",
       "Language: en\n",
       "Country: null\n",
       "--></g></svg>"
      ]
     },
     "execution_count": 4,
     "metadata": {},
     "output_type": "execute_result"
    }
   ],
   "source": [
    "%viz --style=\"COMPTREE\" --view=\"State\" \"TextualRepresentationTest\""
   ]
  },
  {
   "cell_type": "code",
   "execution_count": 5,
   "id": "bca0a201",
   "metadata": {
    "execution": {
     "iopub.execute_input": "2022-06-20T11:13:35.418518Z",
     "iopub.status.busy": "2022-06-20T11:13:35.418059Z",
     "iopub.status.idle": "2022-06-20T11:13:35.459406Z",
     "shell.execute_reply": "2022-06-20T11:13:35.459733Z"
    }
   },
   "outputs": [
    {
     "data": {
      "image/svg+xml": [
       "<?xml version=\"1.0\" encoding=\"UTF-8\" standalone=\"no\"?><svg xmlns=\"http://www.w3.org/2000/svg\" xmlns:xlink=\"http://www.w3.org/1999/xlink\" contentScriptType=\"application/ecmascript\" contentStyleType=\"text/css\" height=\"179px\" preserveAspectRatio=\"none\" style=\"width:292px;height:179px;\" version=\"1.1\" viewBox=\"0 0 292 179\" width=\"292px\" zoomAndPan=\"magnify\"><defs/><g><!--MD5=[fbc87193dbaf4d95561dea2c320d4a47]\n",
       "cluster E1--><a href=\"psysml:44d40611-a894-4dae-a2f2-eb4bbba313e0\" target=\"_top\" title=\"psysml:44d40611-a894-4dae-a2f2-eb4bbba313e0\" xlink:actuate=\"onRequest\" xlink:href=\"psysml:44d40611-a894-4dae-a2f2-eb4bbba313e0\" xlink:show=\"new\" xlink:title=\"psysml:44d40611-a894-4dae-a2f2-eb4bbba313e0\" xlink:type=\"simple\"><polygon fill=\"#FFFFFF\" points=\"16,6,210,6,217,28.2969,270,28.2969,270,167,16,167,16,6\" style=\"stroke: #000000; stroke-width: 1.5;\"/><line style=\"stroke: #000000; stroke-width: 1.5;\" x1=\"16\" x2=\"217\" y1=\"28.2969\" y2=\"28.2969\"/><text fill=\"#000000\" font-family=\"sans-serif\" font-size=\"14\" font-weight=\"bold\" lengthAdjust=\"spacingAndGlyphs\" textLength=\"188\" x=\"20\" y=\"20.9951\">TextualRepresentationTest</text></a><!--MD5=[d5e69f78d87373223dbae638b30a9c99]\n",
       "cluster E3--><a href=\"psysml:6b33d7d4-0403-4693-aa76-fb8d39622677\" target=\"_top\" title=\"psysml:6b33d7d4-0403-4693-aa76-fb8d39622677\" xlink:actuate=\"onRequest\" xlink:href=\"psysml:6b33d7d4-0403-4693-aa76-fb8d39622677\" xlink:show=\"new\" xlink:title=\"psysml:6b33d7d4-0403-4693-aa76-fb8d39622677\" xlink:type=\"simple\"><rect fill=\"#FFFFFF\" height=\"88.5\" id=\"E3\" style=\"stroke: #383838; stroke-width: 1.5;\" width=\"100\" x=\"122.5\" y=\"62.5\"/><rect fill=\"#F8F8F8\" height=\"37.9375\" style=\"stroke: #383838; stroke-width: 1.5;\" width=\"100\" x=\"122.5\" y=\"62.5\"/><text fill=\"#000000\" font-family=\"sans-serif\" font-size=\"12\" font-style=\"italic\" lengthAdjust=\"spacingAndGlyphs\" textLength=\"81\" x=\"132\" y=\"78.6387\">«action  def»</text><text fill=\"#000000\" font-family=\"sans-serif\" font-size=\"12\" lengthAdjust=\"spacingAndGlyphs\" textLength=\"27\" x=\"159\" y=\"92.6074\">setX</text></a><g id=\"E1.E2\"><a href=\"psysml:4aee70d7-2b51-44ea-8f07-d2f5d32d40ea\" target=\"_top\" title=\"psysml:4aee70d7-2b51-44ea-8f07-d2f5d32d40ea\" xlink:actuate=\"onRequest\" xlink:href=\"psysml:4aee70d7-2b51-44ea-8f07-d2f5d32d40ea\" xlink:show=\"new\" xlink:title=\"psysml:4aee70d7-2b51-44ea-8f07-d2f5d32d40ea\" xlink:type=\"simple\"><rect fill=\"#FFFFFF\" height=\"42.9375\" id=\"E2\" style=\"stroke: #383838; stroke-width: 1.5;\" width=\"76\" x=\"32\" y=\"41\"/><rect fill=\"#F8F8F8\" height=\"37.9375\" style=\"stroke: #383838; stroke-width: 1.5;\" width=\"76\" x=\"32\" y=\"41\"/><text fill=\"#000000\" font-family=\"sans-serif\" font-size=\"12\" font-style=\"italic\" lengthAdjust=\"spacingAndGlyphs\" textLength=\"69\" x=\"35.5\" y=\"57.1387\">«item  def»</text><text fill=\"#000000\" font-family=\"sans-serif\" font-size=\"12\" lengthAdjust=\"spacingAndGlyphs\" textLength=\"8\" x=\"66\" y=\"71.1074\">C</text></a></g><text fill=\"#000000\" font-family=\"sans-serif\" font-size=\"14\" lengthAdjust=\"spacingAndGlyphs\" textLength=\"8\" x=\"145\" y=\"41.1982\">c</text><rect fill=\"#383838\" height=\"12\" style=\"stroke: #F8F8F8; stroke-width: 1.5;\" width=\"12\" x=\"143\" y=\"56.5\"/><text fill=\"#000000\" font-family=\"sans-serif\" font-size=\"14\" lengthAdjust=\"spacingAndGlyphs\" textLength=\"38\" x=\"177\" y=\"41.1982\">newX</text><rect fill=\"#383838\" height=\"12\" style=\"stroke: #F8F8F8; stroke-width: 1.5;\" width=\"12\" x=\"190\" y=\"56.5\"/><!--MD5=[13520d44197320d588f5b7f1ab5e8bb4]\n",
       "@startuml\r\n",
       "skinparam ranksep 10\r\n",
       "skinparam rectangle {\r\n",
       " backgroundColor<<block>> LightGreen\r\n",
       "}\r\n",
       " skinparam monochrome true\r\n",
       "skinparam classbackgroundcolor white\r\n",
       "skinparam shadowing false\r\n",
       "skinparam wrapWidth 300\r\n",
       "hide circle\r\n",
       "\r\n",
       "package \"TextualRepresentationTest\" as E1  [[psysml:44d40611-a894-4dae-a2f2-eb4bbba313e0 ]]  {\r\n",
       "def \"C\" as E2  <<(T,blue) item  def>> [[psysml:4aee70d7-2b51-44ea-8f07-d2f5d32d40ea ]] \r\n",
       "rec def \"setX\" as E3  <<(T,blue) action  def>> [[psysml:6b33d7d4-0403-4693-aa76-fb8d39622677 ]] {\r\n",
       "portin \"c\" as E4  [[psysml:aadc07b0-b627-4a1c-8a0b-7e2bc77ad3c9 ]] \r\n",
       "portin \"newX\" as E5  [[psysml:a8b47a70-45ce-488b-ad71-695ba05ffc83 ]] \r\n",
       "}\r\n",
       "\r\n",
       "}\r\n",
       "@enduml\r\n",
       "\n",
       "PlantUML version 1.2020.13(Sat Jun 13 12:26:38 UTC 2020)\n",
       "(EPL source distribution)\n",
       "Java Runtime: OpenJDK Runtime Environment\n",
       "JVM: OpenJDK 64-Bit Server VM\n",
       "Default Encoding: UTF-8\n",
       "Language: en\n",
       "Country: null\n",
       "--></g></svg>"
      ]
     },
     "execution_count": 5,
     "metadata": {},
     "output_type": "execute_result"
    }
   ],
   "source": [
    "%viz --style=\"COMPTREE\" --view=\"Interconnection\" \"TextualRepresentationTest\""
   ]
  },
  {
   "cell_type": "code",
   "execution_count": 6,
   "id": "938fb515",
   "metadata": {
    "execution": {
     "iopub.execute_input": "2022-06-20T11:13:35.510077Z",
     "iopub.status.busy": "2022-06-20T11:13:35.509584Z",
     "iopub.status.idle": "2022-06-20T11:13:35.541146Z",
     "shell.execute_reply": "2022-06-20T11:13:35.541553Z"
    }
   },
   "outputs": [
    {
     "data": {
      "image/svg+xml": [
       "<?xml version=\"1.0\" encoding=\"UTF-8\" standalone=\"no\"?><svg xmlns=\"http://www.w3.org/2000/svg\" xmlns:xlink=\"http://www.w3.org/1999/xlink\" contentScriptType=\"application/ecmascript\" contentStyleType=\"text/css\" height=\"126px\" preserveAspectRatio=\"none\" style=\"width:152px;height:126px;\" version=\"1.1\" viewBox=\"0 0 152 126\" width=\"152px\" zoomAndPan=\"magnify\"><defs/><g><!--MD5=[fbc87193dbaf4d95561dea2c320d4a47]\n",
       "cluster E1--><a href=\"psysml:6b33d7d4-0403-4693-aa76-fb8d39622677\" target=\"_top\" title=\"psysml:6b33d7d4-0403-4693-aa76-fb8d39622677\" xlink:actuate=\"onRequest\" xlink:href=\"psysml:6b33d7d4-0403-4693-aa76-fb8d39622677\" xlink:show=\"new\" xlink:title=\"psysml:6b33d7d4-0403-4693-aa76-fb8d39622677\" xlink:type=\"simple\"><rect fill=\"#FFFFFF\" height=\"73\" id=\"E1\" style=\"stroke: #383838; stroke-width: 1.5;\" width=\"134\" x=\"7\" y=\"42.0986\"/><rect fill=\"#F8F8F8\" height=\"37.9375\" style=\"stroke: #383838; stroke-width: 1.5;\" width=\"134\" x=\"7\" y=\"42.0986\"/><text fill=\"#000000\" font-family=\"sans-serif\" font-size=\"12\" font-style=\"italic\" lengthAdjust=\"spacingAndGlyphs\" textLength=\"81\" x=\"33.5\" y=\"58.2373\">«action  def»</text><text fill=\"#000000\" font-family=\"sans-serif\" font-size=\"12\" lengthAdjust=\"spacingAndGlyphs\" textLength=\"27\" x=\"60.5\" y=\"72.2061\">setX</text></a><text fill=\"#000000\" font-family=\"sans-serif\" font-size=\"14\" lengthAdjust=\"spacingAndGlyphs\" textLength=\"8\" x=\"21\" y=\"20.7969\">c</text><rect fill=\"#383838\" height=\"12\" style=\"stroke: #F8F8F8; stroke-width: 1.5;\" width=\"12\" x=\"19\" y=\"36.0986\"/><text fill=\"#000000\" font-family=\"sans-serif\" font-size=\"14\" lengthAdjust=\"spacingAndGlyphs\" textLength=\"38\" x=\"53\" y=\"20.7969\">newX</text><rect fill=\"#383838\" height=\"12\" style=\"stroke: #F8F8F8; stroke-width: 1.5;\" width=\"12\" x=\"66\" y=\"36.0986\"/><!--MD5=[3e530beb8892bba746ddd2d2c3ee616f]\n",
       "@startuml\r\n",
       "skinparam ranksep 8\r\n",
       " skinparam monochrome true\r\n",
       "skinparam classbackgroundcolor white\r\n",
       "skinparam shadowing false\r\n",
       "skinparam wrapWidth 300\r\n",
       "hide circle\r\n",
       "\r\n",
       "rec def \"setX\" as E1  <<(T,blue) action  def>> [[psysml:6b33d7d4-0403-4693-aa76-fb8d39622677 ]] {\r\n",
       "portin \"c\" as E2  [[psysml:aadc07b0-b627-4a1c-8a0b-7e2bc77ad3c9 ]] \r\n",
       "portin \"newX\" as E3  [[psysml:a8b47a70-45ce-488b-ad71-695ba05ffc83 ]] \r\n",
       "}\r\n",
       "\r\n",
       "@enduml\r\n",
       "\n",
       "PlantUML version 1.2020.13(Sat Jun 13 12:26:38 UTC 2020)\n",
       "(EPL source distribution)\n",
       "Java Runtime: OpenJDK Runtime Environment\n",
       "JVM: OpenJDK 64-Bit Server VM\n",
       "Default Encoding: UTF-8\n",
       "Language: en\n",
       "Country: null\n",
       "--></g></svg>"
      ]
     },
     "execution_count": 6,
     "metadata": {},
     "output_type": "execute_result"
    }
   ],
   "source": [
    "%viz --style=\"COMPTREE\" --view=\"Action\" \"TextualRepresentationTest\""
   ]
  },
  {
   "cell_type": "code",
   "execution_count": 7,
   "id": "4bcad04c",
   "metadata": {
    "execution": {
     "iopub.execute_input": "2022-06-20T11:13:35.591911Z",
     "iopub.status.busy": "2022-06-20T11:13:35.591341Z",
     "iopub.status.idle": "2022-06-20T11:13:35.604151Z",
     "shell.execute_reply": "2022-06-20T11:13:35.604482Z"
    }
   },
   "outputs": [
    {
     "data": {
      "image/svg+xml": [
       "<?xml version=\"1.0\" encoding=\"UTF-8\" standalone=\"no\"?><svg xmlns=\"http://www.w3.org/2000/svg\" xmlns:xlink=\"http://www.w3.org/1999/xlink\" contentScriptType=\"application/ecmascript\" contentStyleType=\"text/css\" height=\"12px\" preserveAspectRatio=\"none\" style=\"width:12px;height:12px;\" version=\"1.1\" viewBox=\"0 0 12 12\" width=\"12px\" zoomAndPan=\"magnify\"><defs/><g><!--MD5=[803fc46c337be7a5c8a9831e35356779]\n",
       "@startuml\r\n",
       "skinparam roundcorner 20\r\n",
       "skinparam BoxPadding 20\r\n",
       "skinparam SequenceBoxBackgroundColor #white\r\n",
       "skinparam style strictuml\r\n",
       "skinparam maxMessageSize 100\r\n",
       " skinparam monochrome true\r\n",
       "skinparam classbackgroundcolor white\r\n",
       "skinparam shadowing false\r\n",
       "skinparam wrapWidth 300\r\n",
       "hide circle\r\n",
       "\r\n",
       "@enduml\r\n",
       "\n",
       "PlantUML version 1.2020.13(Sat Jun 13 12:26:38 UTC 2020)\n",
       "(EPL source distribution)\n",
       "Java Runtime: OpenJDK Runtime Environment\n",
       "JVM: OpenJDK 64-Bit Server VM\n",
       "Default Encoding: UTF-8\n",
       "Language: en\n",
       "Country: null\n",
       "--></g></svg>"
      ]
     },
     "execution_count": 7,
     "metadata": {},
     "output_type": "execute_result"
    }
   ],
   "source": [
    "%viz --style=\"COMPTREE\" --view=\"Sequence\" \"TextualRepresentationTest\""
   ]
  },
  {
   "cell_type": "code",
   "execution_count": 8,
   "id": "d2efce77",
   "metadata": {
    "execution": {
     "iopub.execute_input": "2022-06-20T11:13:35.655118Z",
     "iopub.status.busy": "2022-06-20T11:13:35.654547Z",
     "iopub.status.idle": "2022-06-20T11:13:35.712378Z",
     "shell.execute_reply": "2022-06-20T11:13:35.711979Z"
    }
   },
   "outputs": [
    {
     "data": {
      "image/svg+xml": [
       "<?xml version=\"1.0\" encoding=\"UTF-8\" standalone=\"no\"?><svg xmlns=\"http://www.w3.org/2000/svg\" xmlns:xlink=\"http://www.w3.org/1999/xlink\" contentScriptType=\"application/ecmascript\" contentStyleType=\"text/css\" height=\"261px\" preserveAspectRatio=\"none\" style=\"width:351px;height:261px;\" version=\"1.1\" viewBox=\"0 0 351 261\" width=\"351px\" zoomAndPan=\"magnify\"><defs/><g><!--MD5=[fbc87193dbaf4d95561dea2c320d4a47]\n",
       "cluster E1--><a href=\"psysml:44d40611-a894-4dae-a2f2-eb4bbba313e0\" target=\"_top\" title=\"psysml:44d40611-a894-4dae-a2f2-eb4bbba313e0\" xlink:actuate=\"onRequest\" xlink:href=\"psysml:44d40611-a894-4dae-a2f2-eb4bbba313e0\" xlink:show=\"new\" xlink:title=\"psysml:44d40611-a894-4dae-a2f2-eb4bbba313e0\" xlink:type=\"simple\"><polygon fill=\"#FFFFFF\" points=\"16,6,210,6,217,28.2969,329,28.2969,329,249.5,16,249.5,16,6\" style=\"stroke: #000000; stroke-width: 1.5;\"/><line style=\"stroke: #000000; stroke-width: 1.5;\" x1=\"16\" x2=\"217\" y1=\"28.2969\" y2=\"28.2969\"/><text fill=\"#000000\" font-family=\"sans-serif\" font-size=\"14\" font-weight=\"bold\" lengthAdjust=\"spacingAndGlyphs\" textLength=\"188\" x=\"20\" y=\"20.9951\">TextualRepresentationTest</text></a><!--MD5=[f6df4d0ebaf0b5dfb2ced0ae5af7c670]\n",
       "cluster E4--><a href=\"psysml:6b33d7d4-0403-4693-aa76-fb8d39622677\" target=\"_top\" title=\"psysml:6b33d7d4-0403-4693-aa76-fb8d39622677\" xlink:actuate=\"onRequest\" xlink:href=\"psysml:6b33d7d4-0403-4693-aa76-fb8d39622677\" xlink:show=\"new\" xlink:title=\"psysml:6b33d7d4-0403-4693-aa76-fb8d39622677\" xlink:type=\"simple\"><rect fill=\"#FFFFFF\" height=\"154.5\" id=\"E4\" style=\"stroke: #383838; stroke-width: 1.5;\" width=\"134\" x=\"179\" y=\"79\"/><rect fill=\"#F8F8F8\" height=\"37.9375\" style=\"stroke: #383838; stroke-width: 1.5;\" width=\"134\" x=\"179\" y=\"79\"/><text fill=\"#000000\" font-family=\"sans-serif\" font-size=\"12\" font-style=\"italic\" lengthAdjust=\"spacingAndGlyphs\" textLength=\"81\" x=\"205.5\" y=\"95.1387\">«action  def»</text><text fill=\"#000000\" font-family=\"sans-serif\" font-size=\"12\" lengthAdjust=\"spacingAndGlyphs\" textLength=\"27\" x=\"232.5\" y=\"109.1074\">setX</text></a><!--MD5=[b4997ac47864f28c2f74865a473b2911]\n",
       "class E2--><a href=\"psysml:4aee70d7-2b51-44ea-8f07-d2f5d32d40ea\" target=\"_top\" title=\"psysml:4aee70d7-2b51-44ea-8f07-d2f5d32d40ea\" xlink:actuate=\"onRequest\" xlink:href=\"psysml:4aee70d7-2b51-44ea-8f07-d2f5d32d40ea\" xlink:show=\"new\" xlink:title=\"psysml:4aee70d7-2b51-44ea-8f07-d2f5d32d40ea\" xlink:type=\"simple\"><rect fill=\"#FFFFFF\" height=\"75.5469\" id=\"E2\" style=\"stroke: #383838; stroke-width: 1.5;\" width=\"71\" x=\"58.5\" y=\"41\"/><text fill=\"#000000\" font-family=\"sans-serif\" font-size=\"12\" font-style=\"italic\" lengthAdjust=\"spacingAndGlyphs\" textLength=\"69\" x=\"59.5\" y=\"57.1387\">«item  def»</text><text fill=\"#000000\" font-family=\"sans-serif\" font-size=\"12\" lengthAdjust=\"spacingAndGlyphs\" textLength=\"8\" x=\"90\" y=\"71.1074\">C</text><line style=\"stroke: #383838; stroke-width: 1.5;\" x1=\"59.5\" x2=\"128.5\" y1=\"78.9375\" y2=\"78.9375\"/><text fill=\"#000000\" font-family=\"sans-serif\" font-size=\"11\" lengthAdjust=\"spacingAndGlyphs\" textLength=\"38\" x=\"64.5\" y=\"109.9526\">x: Real</text><line style=\"stroke: #383838; stroke-width: 1.0;\" x1=\"59.5\" x2=\"66.5\" y1=\"93.3398\" y2=\"93.3398\"/><text fill=\"#000000\" font-family=\"sans-serif\" font-size=\"11\" lengthAdjust=\"spacingAndGlyphs\" textLength=\"55\" x=\"66.5\" y=\"96.6479\">attributes</text><line style=\"stroke: #383838; stroke-width: 1.0;\" x1=\"121.5\" x2=\"128.5\" y1=\"93.3398\" y2=\"93.3398\"/></a><!--MD5=[09b614a08d8cba4a07c9adeb5e0fee81]\n",
       "class E3--><a href=\"psysml:4e46f6e8-5c68-4c27-8860-5a5208ef4b7d\" target=\"_top\" title=\"psysml:4e46f6e8-5c68-4c27-8860-5a5208ef4b7d\" xlink:actuate=\"onRequest\" xlink:href=\"psysml:4e46f6e8-5c68-4c27-8860-5a5208ef4b7d\" xlink:show=\"new\" xlink:title=\"psysml:4e46f6e8-5c68-4c27-8860-5a5208ef4b7d\" xlink:type=\"simple\"><rect fill=\"#FFFFFF\" height=\"45.9375\" id=\"E3\" rx=\"10\" ry=\"10\" style=\"stroke: #383838; stroke-width: 1.5;\" width=\"124\" x=\"32\" y=\"177\"/><text fill=\"#000000\" font-family=\"sans-serif\" font-size=\"12\" font-style=\"italic\" lengthAdjust=\"spacingAndGlyphs\" textLength=\"122\" x=\"33\" y=\"193.1387\">«assert constraint»</text><text fill=\"#000000\" font-family=\"sans-serif\" font-size=\"12\" lengthAdjust=\"spacingAndGlyphs\" textLength=\"76\" x=\"54\" y=\"207.1074\">x_constraint</text><line style=\"stroke: #383838; stroke-width: 1.5;\" x1=\"33\" x2=\"155\" y1=\"214.9375\" y2=\"214.9375\"/></a><text fill=\"#000000\" font-family=\"sans-serif\" font-size=\"14\" lengthAdjust=\"spacingAndGlyphs\" textLength=\"8\" x=\"193\" y=\"57.6982\">c</text><rect fill=\"#383838\" height=\"12\" style=\"stroke: #F8F8F8; stroke-width: 1.5;\" width=\"12\" x=\"191\" y=\"73\"/><text fill=\"#000000\" font-family=\"sans-serif\" font-size=\"14\" lengthAdjust=\"spacingAndGlyphs\" textLength=\"38\" x=\"225\" y=\"57.6982\">newX</text><rect fill=\"#383838\" height=\"12\" style=\"stroke: #F8F8F8; stroke-width: 1.5;\" width=\"12\" x=\"238\" y=\"73\"/><!--MD5=[209b3feb70ccb6233bfe1053d122c12c]\n",
       "reverse link E2 to E3--><a href=\"psysml:057e15e5-e107-41c4-afdf-3f2cc89f9205\" target=\"_top\" title=\"psysml:057e15e5-e107-41c4-afdf-3f2cc89f9205\" xlink:actuate=\"onRequest\" xlink:href=\"psysml:057e15e5-e107-41c4-afdf-3f2cc89f9205\" xlink:show=\"new\" xlink:title=\"psysml:057e15e5-e107-41c4-afdf-3f2cc89f9205\" xlink:type=\"simple\"><path d=\"M94,130.34 C94,146.61 94,163.81 94,176.93 \" fill=\"none\" id=\"E2&lt;-E3\" style=\"stroke: #383838; stroke-width: 1.0;\"/><polygon fill=\"#383838\" points=\"94,117,90,123,94,129,98,123,94,117\" style=\"stroke: #383838; stroke-width: 1.0;\"/><text fill=\"#000000\" font-family=\"sans-serif\" font-size=\"13\" lengthAdjust=\"spacingAndGlyphs\" textLength=\"7\" x=\"86.0594\" y=\"165.8075\">*</text></a><!--MD5=[5c259c49ce70082dde581a977d1b05f7]\n",
       "@startuml\r\n",
       " skinparam monochrome true\r\n",
       "skinparam classbackgroundcolor white\r\n",
       "skinparam shadowing false\r\n",
       "skinparam wrapWidth 300\r\n",
       "hide circle\r\n",
       "\r\n",
       "package \"TextualRepresentationTest\" as E1  [[psysml:44d40611-a894-4dae-a2f2-eb4bbba313e0 ]]  {\r\n",
       "comp def \"C\" as E2  <<(T,blue) item  def>> [[psysml:4aee70d7-2b51-44ea-8f07-d2f5d32d40ea ]] {\r\n",
       "- - attributes - -\r\n",
       "x: Real\r\n",
       "}\r\n",
       "comp usage \"x_constraint \" as E3  <<(T,blue) assert constraint>> [[psysml:4e46f6e8-5c68-4c27-8860-5a5208ef4b7d ]] {\r\n",
       "}\r\n",
       "rec def \"setX\" as E4  <<(T,blue) action  def>> [[psysml:6b33d7d4-0403-4693-aa76-fb8d39622677 ]] {\r\n",
       "portin \"c\" as E5  [[psysml:aadc07b0-b627-4a1c-8a0b-7e2bc77ad3c9 ]] \r\n",
       "portin \"newX\" as E6  [[psysml:a8b47a70-45ce-488b-ad71-695ba05ffc83 ]] \r\n",
       "}\r\n",
       "\r\n",
       "}\r\n",
       "E2 *- - \"*\"E3 [[psysml:057e15e5-e107-41c4-afdf-3f2cc89f9205 ]] \r\n",
       "@enduml\r\n",
       "\n",
       "PlantUML version 1.2020.13(Sat Jun 13 12:26:38 UTC 2020)\n",
       "(EPL source distribution)\n",
       "Java Runtime: OpenJDK Runtime Environment\n",
       "JVM: OpenJDK 64-Bit Server VM\n",
       "Default Encoding: UTF-8\n",
       "Language: en\n",
       "Country: null\n",
       "--></g></svg>"
      ]
     },
     "execution_count": 8,
     "metadata": {},
     "output_type": "execute_result"
    }
   ],
   "source": [
    "%viz --style=\"COMPTREE\" --view=\"MIXED\" \"TextualRepresentationTest\""
   ]
  },
  {
   "cell_type": "code",
   "execution_count": 9,
   "id": "1b1dbb51",
   "metadata": {
    "execution": {
     "iopub.execute_input": "2022-06-20T11:13:35.762602Z",
     "iopub.status.busy": "2022-06-20T11:13:35.762042Z",
     "iopub.status.idle": "2022-06-20T11:13:35.818517Z",
     "shell.execute_reply": "2022-06-20T11:13:35.817950Z"
    }
   },
   "outputs": [
    {
     "data": {
      "image/svg+xml": [
       "<?xml version=\"1.0\" encoding=\"UTF-8\" standalone=\"no\"?><svg xmlns=\"http://www.w3.org/2000/svg\" xmlns:xlink=\"http://www.w3.org/1999/xlink\" contentScriptType=\"application/ecmascript\" contentStyleType=\"text/css\" height=\"261px\" preserveAspectRatio=\"none\" style=\"width:351px;height:261px;\" version=\"1.1\" viewBox=\"0 0 351 261\" width=\"351px\" zoomAndPan=\"magnify\"><defs/><g><!--MD5=[fbc87193dbaf4d95561dea2c320d4a47]\n",
       "cluster E1--><a href=\"psysml:44d40611-a894-4dae-a2f2-eb4bbba313e0\" target=\"_top\" title=\"psysml:44d40611-a894-4dae-a2f2-eb4bbba313e0\" xlink:actuate=\"onRequest\" xlink:href=\"psysml:44d40611-a894-4dae-a2f2-eb4bbba313e0\" xlink:show=\"new\" xlink:title=\"psysml:44d40611-a894-4dae-a2f2-eb4bbba313e0\" xlink:type=\"simple\"><polygon fill=\"#FFFFFF\" points=\"16,6,210,6,217,28.2969,329,28.2969,329,249.5,16,249.5,16,6\" style=\"stroke: #000000; stroke-width: 1.5;\"/><line style=\"stroke: #000000; stroke-width: 1.5;\" x1=\"16\" x2=\"217\" y1=\"28.2969\" y2=\"28.2969\"/><text fill=\"#000000\" font-family=\"sans-serif\" font-size=\"14\" font-weight=\"bold\" lengthAdjust=\"spacingAndGlyphs\" textLength=\"188\" x=\"20\" y=\"20.9951\">TextualRepresentationTest</text></a><!--MD5=[f6df4d0ebaf0b5dfb2ced0ae5af7c670]\n",
       "cluster E4--><a href=\"psysml:6b33d7d4-0403-4693-aa76-fb8d39622677\" target=\"_top\" title=\"psysml:6b33d7d4-0403-4693-aa76-fb8d39622677\" xlink:actuate=\"onRequest\" xlink:href=\"psysml:6b33d7d4-0403-4693-aa76-fb8d39622677\" xlink:show=\"new\" xlink:title=\"psysml:6b33d7d4-0403-4693-aa76-fb8d39622677\" xlink:type=\"simple\"><rect fill=\"#FFFFFF\" height=\"154.5\" id=\"E4\" style=\"stroke: #383838; stroke-width: 1.5;\" width=\"134\" x=\"179\" y=\"79\"/><rect fill=\"#F8F8F8\" height=\"37.9375\" style=\"stroke: #383838; stroke-width: 1.5;\" width=\"134\" x=\"179\" y=\"79\"/><text fill=\"#000000\" font-family=\"sans-serif\" font-size=\"12\" font-style=\"italic\" lengthAdjust=\"spacingAndGlyphs\" textLength=\"81\" x=\"205.5\" y=\"95.1387\">«action  def»</text><text fill=\"#000000\" font-family=\"sans-serif\" font-size=\"12\" lengthAdjust=\"spacingAndGlyphs\" textLength=\"27\" x=\"232.5\" y=\"109.1074\">setX</text></a><!--MD5=[b4997ac47864f28c2f74865a473b2911]\n",
       "class E2--><a href=\"psysml:4aee70d7-2b51-44ea-8f07-d2f5d32d40ea\" target=\"_top\" title=\"psysml:4aee70d7-2b51-44ea-8f07-d2f5d32d40ea\" xlink:actuate=\"onRequest\" xlink:href=\"psysml:4aee70d7-2b51-44ea-8f07-d2f5d32d40ea\" xlink:show=\"new\" xlink:title=\"psysml:4aee70d7-2b51-44ea-8f07-d2f5d32d40ea\" xlink:type=\"simple\"><rect fill=\"#FFFFFF\" height=\"75.5469\" id=\"E2\" style=\"stroke: #383838; stroke-width: 1.5;\" width=\"71\" x=\"58.5\" y=\"41\"/><text fill=\"#000000\" font-family=\"sans-serif\" font-size=\"12\" font-style=\"italic\" lengthAdjust=\"spacingAndGlyphs\" textLength=\"69\" x=\"59.5\" y=\"57.1387\">«item  def»</text><text fill=\"#000000\" font-family=\"sans-serif\" font-size=\"12\" lengthAdjust=\"spacingAndGlyphs\" textLength=\"8\" x=\"90\" y=\"71.1074\">C</text><line style=\"stroke: #383838; stroke-width: 1.5;\" x1=\"59.5\" x2=\"128.5\" y1=\"78.9375\" y2=\"78.9375\"/><text fill=\"#000000\" font-family=\"sans-serif\" font-size=\"11\" lengthAdjust=\"spacingAndGlyphs\" textLength=\"38\" x=\"64.5\" y=\"109.9526\">x: Real</text><line style=\"stroke: #383838; stroke-width: 1.0;\" x1=\"59.5\" x2=\"66.5\" y1=\"93.3398\" y2=\"93.3398\"/><text fill=\"#000000\" font-family=\"sans-serif\" font-size=\"11\" lengthAdjust=\"spacingAndGlyphs\" textLength=\"55\" x=\"66.5\" y=\"96.6479\">attributes</text><line style=\"stroke: #383838; stroke-width: 1.0;\" x1=\"121.5\" x2=\"128.5\" y1=\"93.3398\" y2=\"93.3398\"/></a><!--MD5=[09b614a08d8cba4a07c9adeb5e0fee81]\n",
       "class E3--><a href=\"psysml:4e46f6e8-5c68-4c27-8860-5a5208ef4b7d\" target=\"_top\" title=\"psysml:4e46f6e8-5c68-4c27-8860-5a5208ef4b7d\" xlink:actuate=\"onRequest\" xlink:href=\"psysml:4e46f6e8-5c68-4c27-8860-5a5208ef4b7d\" xlink:show=\"new\" xlink:title=\"psysml:4e46f6e8-5c68-4c27-8860-5a5208ef4b7d\" xlink:type=\"simple\"><rect fill=\"#FFFFFF\" height=\"45.9375\" id=\"E3\" rx=\"10\" ry=\"10\" style=\"stroke: #383838; stroke-width: 1.5;\" width=\"124\" x=\"32\" y=\"177\"/><text fill=\"#000000\" font-family=\"sans-serif\" font-size=\"12\" font-style=\"italic\" lengthAdjust=\"spacingAndGlyphs\" textLength=\"122\" x=\"33\" y=\"193.1387\">«assert constraint»</text><text fill=\"#000000\" font-family=\"sans-serif\" font-size=\"12\" lengthAdjust=\"spacingAndGlyphs\" textLength=\"76\" x=\"54\" y=\"207.1074\">x_constraint</text><line style=\"stroke: #383838; stroke-width: 1.5;\" x1=\"33\" x2=\"155\" y1=\"214.9375\" y2=\"214.9375\"/></a><text fill=\"#000000\" font-family=\"sans-serif\" font-size=\"14\" lengthAdjust=\"spacingAndGlyphs\" textLength=\"8\" x=\"193\" y=\"57.6982\">c</text><rect fill=\"#383838\" height=\"12\" style=\"stroke: #F8F8F8; stroke-width: 1.5;\" width=\"12\" x=\"191\" y=\"73\"/><text fill=\"#000000\" font-family=\"sans-serif\" font-size=\"14\" lengthAdjust=\"spacingAndGlyphs\" textLength=\"38\" x=\"225\" y=\"57.6982\">newX</text><rect fill=\"#383838\" height=\"12\" style=\"stroke: #F8F8F8; stroke-width: 1.5;\" width=\"12\" x=\"238\" y=\"73\"/><!--MD5=[209b3feb70ccb6233bfe1053d122c12c]\n",
       "reverse link E2 to E3--><a href=\"psysml:057e15e5-e107-41c4-afdf-3f2cc89f9205\" target=\"_top\" title=\"psysml:057e15e5-e107-41c4-afdf-3f2cc89f9205\" xlink:actuate=\"onRequest\" xlink:href=\"psysml:057e15e5-e107-41c4-afdf-3f2cc89f9205\" xlink:show=\"new\" xlink:title=\"psysml:057e15e5-e107-41c4-afdf-3f2cc89f9205\" xlink:type=\"simple\"><path d=\"M94,130.34 C94,146.61 94,163.81 94,176.93 \" fill=\"none\" id=\"E2&lt;-E3\" style=\"stroke: #383838; stroke-width: 1.0;\"/><polygon fill=\"#383838\" points=\"94,117,90,123,94,129,98,123,94,117\" style=\"stroke: #383838; stroke-width: 1.0;\"/><text fill=\"#000000\" font-family=\"sans-serif\" font-size=\"13\" lengthAdjust=\"spacingAndGlyphs\" textLength=\"7\" x=\"86.0594\" y=\"165.8075\">*</text></a><!--MD5=[cc23b733a265b1a5c0c411c0f69c4532]\n",
       "@startuml\r\n",
       "skinparam linetype polyline\r\n",
       "skinparam monochrome true\r\n",
       "skinparam classbackgroundcolor white\r\n",
       "skinparam shadowing false\r\n",
       "skinparam wrapWidth 300\r\n",
       "hide circle\r\n",
       "\r\n",
       "package \"TextualRepresentationTest\" as E1  [[psysml:44d40611-a894-4dae-a2f2-eb4bbba313e0 ]]  {\r\n",
       "comp def \"C\" as E2  <<(T,blue) item  def>> [[psysml:4aee70d7-2b51-44ea-8f07-d2f5d32d40ea ]] {\r\n",
       "- - attributes - -\r\n",
       "x: Real\r\n",
       "}\r\n",
       "comp usage \"x_constraint \" as E3  <<(T,blue) assert constraint>> [[psysml:4e46f6e8-5c68-4c27-8860-5a5208ef4b7d ]] {\r\n",
       "}\r\n",
       "rec def \"setX\" as E4  <<(T,blue) action  def>> [[psysml:6b33d7d4-0403-4693-aa76-fb8d39622677 ]] {\r\n",
       "portin \"c\" as E5  [[psysml:aadc07b0-b627-4a1c-8a0b-7e2bc77ad3c9 ]] \r\n",
       "portin \"newX\" as E6  [[psysml:a8b47a70-45ce-488b-ad71-695ba05ffc83 ]] \r\n",
       "}\r\n",
       "\r\n",
       "}\r\n",
       "E2 *- - \"*\"E3 [[psysml:057e15e5-e107-41c4-afdf-3f2cc89f9205 ]] \r\n",
       "@enduml\r\n",
       "\n",
       "PlantUML version 1.2020.13(Sat Jun 13 12:26:38 UTC 2020)\n",
       "(EPL source distribution)\n",
       "Java Runtime: OpenJDK Runtime Environment\n",
       "JVM: OpenJDK 64-Bit Server VM\n",
       "Default Encoding: UTF-8\n",
       "Language: en\n",
       "Country: null\n",
       "--></g></svg>"
      ]
     },
     "execution_count": 9,
     "metadata": {},
     "output_type": "execute_result"
    }
   ],
   "source": [
    "%viz --style=\"POLYLINE\" --view=\"Default\" \"TextualRepresentationTest\""
   ]
  },
  {
   "cell_type": "code",
   "execution_count": 10,
   "id": "a289afb4",
   "metadata": {
    "execution": {
     "iopub.execute_input": "2022-06-20T11:13:35.868096Z",
     "iopub.status.busy": "2022-06-20T11:13:35.867632Z",
     "iopub.status.idle": "2022-06-20T11:13:35.923800Z",
     "shell.execute_reply": "2022-06-20T11:13:35.923317Z"
    }
   },
   "outputs": [
    {
     "data": {
      "image/svg+xml": [
       "<?xml version=\"1.0\" encoding=\"UTF-8\" standalone=\"no\"?><svg xmlns=\"http://www.w3.org/2000/svg\" xmlns:xlink=\"http://www.w3.org/1999/xlink\" contentScriptType=\"application/ecmascript\" contentStyleType=\"text/css\" height=\"375px\" preserveAspectRatio=\"none\" style=\"width:242px;height:375px;\" version=\"1.1\" viewBox=\"0 0 242 375\" width=\"242px\" zoomAndPan=\"magnify\"><defs/><g><!--MD5=[fbc87193dbaf4d95561dea2c320d4a47]\n",
       "cluster E1--><a href=\"psysml:44d40611-a894-4dae-a2f2-eb4bbba313e0\" target=\"_top\" title=\"psysml:44d40611-a894-4dae-a2f2-eb4bbba313e0\" xlink:actuate=\"onRequest\" xlink:href=\"psysml:44d40611-a894-4dae-a2f2-eb4bbba313e0\" xlink:show=\"new\" xlink:title=\"psysml:44d40611-a894-4dae-a2f2-eb4bbba313e0\" xlink:type=\"simple\"><polygon fill=\"#FFFFFF\" points=\"16,6,210,6,217,28.2969,220,28.2969,220,363,16,363,16,6\" style=\"stroke: #000000; stroke-width: 1.5;\"/><line style=\"stroke: #000000; stroke-width: 1.5;\" x1=\"16\" x2=\"217\" y1=\"28.2969\" y2=\"28.2969\"/><text fill=\"#000000\" font-family=\"sans-serif\" font-size=\"14\" font-weight=\"bold\" lengthAdjust=\"spacingAndGlyphs\" textLength=\"188\" x=\"20\" y=\"20.9951\">TextualRepresentationTest</text></a><!--MD5=[b4997ac47864f28c2f74865a473b2911]\n",
       "class E2--><a href=\"psysml:4aee70d7-2b51-44ea-8f07-d2f5d32d40ea\" target=\"_top\" title=\"psysml:4aee70d7-2b51-44ea-8f07-d2f5d32d40ea\" xlink:actuate=\"onRequest\" xlink:href=\"psysml:4aee70d7-2b51-44ea-8f07-d2f5d32d40ea\" xlink:show=\"new\" xlink:title=\"psysml:4aee70d7-2b51-44ea-8f07-d2f5d32d40ea\" xlink:type=\"simple\"><rect fill=\"#FFFFFF\" height=\"75.5469\" id=\"E2\" style=\"stroke: #383838; stroke-width: 1.5;\" width=\"71\" x=\"82.5\" y=\"164\"/><text fill=\"#000000\" font-family=\"sans-serif\" font-size=\"12\" font-style=\"italic\" lengthAdjust=\"spacingAndGlyphs\" textLength=\"69\" x=\"83.5\" y=\"180.1387\">«item  def»</text><text fill=\"#000000\" font-family=\"sans-serif\" font-size=\"12\" lengthAdjust=\"spacingAndGlyphs\" textLength=\"8\" x=\"114\" y=\"194.1074\">C</text><line style=\"stroke: #383838; stroke-width: 1.5;\" x1=\"83.5\" x2=\"152.5\" y1=\"201.9375\" y2=\"201.9375\"/><text fill=\"#000000\" font-family=\"sans-serif\" font-size=\"11\" lengthAdjust=\"spacingAndGlyphs\" textLength=\"38\" x=\"88.5\" y=\"232.9526\">x: Real</text><line style=\"stroke: #383838; stroke-width: 1.0;\" x1=\"83.5\" x2=\"90.5\" y1=\"216.3398\" y2=\"216.3398\"/><text fill=\"#000000\" font-family=\"sans-serif\" font-size=\"11\" lengthAdjust=\"spacingAndGlyphs\" textLength=\"55\" x=\"90.5\" y=\"219.6479\">attributes</text><line style=\"stroke: #383838; stroke-width: 1.0;\" x1=\"145.5\" x2=\"152.5\" y1=\"216.3398\" y2=\"216.3398\"/></a><!--MD5=[09b614a08d8cba4a07c9adeb5e0fee81]\n",
       "class E3--><a href=\"psysml:4e46f6e8-5c68-4c27-8860-5a5208ef4b7d\" target=\"_top\" title=\"psysml:4e46f6e8-5c68-4c27-8860-5a5208ef4b7d\" xlink:actuate=\"onRequest\" xlink:href=\"psysml:4e46f6e8-5c68-4c27-8860-5a5208ef4b7d\" xlink:show=\"new\" xlink:title=\"psysml:4e46f6e8-5c68-4c27-8860-5a5208ef4b7d\" xlink:type=\"simple\"><rect fill=\"#FFFFFF\" height=\"45.9375\" id=\"E3\" rx=\"10\" ry=\"10\" style=\"stroke: #383838; stroke-width: 1.5;\" width=\"124\" x=\"56\" y=\"301\"/><text fill=\"#000000\" font-family=\"sans-serif\" font-size=\"12\" font-style=\"italic\" lengthAdjust=\"spacingAndGlyphs\" textLength=\"122\" x=\"57\" y=\"317.1387\">«assert constraint»</text><text fill=\"#000000\" font-family=\"sans-serif\" font-size=\"12\" lengthAdjust=\"spacingAndGlyphs\" textLength=\"76\" x=\"78\" y=\"331.1074\">x_constraint</text><line style=\"stroke: #383838; stroke-width: 1.5;\" x1=\"57\" x2=\"179\" y1=\"338.9375\" y2=\"338.9375\"/></a><!--MD5=[ebbe1d658d1005bcc118a6aa81145e00]\n",
       "class E4--><a href=\"psysml:6b33d7d4-0403-4693-aa76-fb8d39622677\" target=\"_top\" title=\"psysml:6b33d7d4-0403-4693-aa76-fb8d39622677\" xlink:actuate=\"onRequest\" xlink:href=\"psysml:6b33d7d4-0403-4693-aa76-fb8d39622677\" xlink:show=\"new\" xlink:title=\"psysml:6b33d7d4-0403-4693-aa76-fb8d39622677\" xlink:type=\"simple\"><rect fill=\"#FFFFFF\" height=\"45.9375\" id=\"E4\" style=\"stroke: #383838; stroke-width: 1.5;\" width=\"83\" x=\"76.5\" y=\"41\"/><text fill=\"#000000\" font-family=\"sans-serif\" font-size=\"12\" font-style=\"italic\" lengthAdjust=\"spacingAndGlyphs\" textLength=\"81\" x=\"77.5\" y=\"57.1387\">«action  def»</text><text fill=\"#000000\" font-family=\"sans-serif\" font-size=\"12\" lengthAdjust=\"spacingAndGlyphs\" textLength=\"27\" x=\"104.5\" y=\"71.1074\">setX</text><line style=\"stroke: #383838; stroke-width: 1.5;\" x1=\"77.5\" x2=\"158.5\" y1=\"78.9375\" y2=\"78.9375\"/></a><!--MD5=[209b3feb70ccb6233bfe1053d122c12c]\n",
       "reverse link E2 to E3--><a href=\"psysml:057e15e5-e107-41c4-afdf-3f2cc89f9205\" target=\"_top\" title=\"psysml:057e15e5-e107-41c4-afdf-3f2cc89f9205\" xlink:actuate=\"onRequest\" xlink:href=\"psysml:057e15e5-e107-41c4-afdf-3f2cc89f9205\" xlink:show=\"new\" xlink:title=\"psysml:057e15e5-e107-41c4-afdf-3f2cc89f9205\" xlink:type=\"simple\"><path d=\"M118,253.76 C118,270.17 118,287.52 118,300.75 \" fill=\"none\" id=\"E2&lt;-E3\" style=\"stroke: #383838; stroke-width: 1.0;\"/><polygon fill=\"#383838\" points=\"118,240.31,114,246.31,118,252.31,122,246.31,118,240.31\" style=\"stroke: #383838; stroke-width: 1.0;\"/><text fill=\"#000000\" font-family=\"sans-serif\" font-size=\"13\" lengthAdjust=\"spacingAndGlyphs\" textLength=\"7\" x=\"110.1031\" y=\"289.9622\">*</text></a><!--MD5=[ddeed8deb2209213b62e6cfabaa108b2]\n",
       "reverse link E4 to E2--><a href=\"psysml:aadc07b0-b627-4a1c-8a0b-7e2bc77ad3c9\" target=\"_top\" title=\"psysml:aadc07b0-b627-4a1c-8a0b-7e2bc77ad3c9\" xlink:actuate=\"onRequest\" xlink:href=\"psysml:aadc07b0-b627-4a1c-8a0b-7e2bc77ad3c9\" xlink:show=\"new\" xlink:title=\"psysml:aadc07b0-b627-4a1c-8a0b-7e2bc77ad3c9\" xlink:type=\"simple\"><path d=\"M118,100.42 C118,119.95 118,144.19 118,163.97 \" fill=\"none\" id=\"E4&lt;-E2\" style=\"stroke: #383838; stroke-width: 1.0;\"/><polygon fill=\"#FFFFFF\" points=\"118,87.15,114,93.15,118,99.15,122,93.15,118,87.15\" style=\"stroke: #383838; stroke-width: 1.0;\"/><text fill=\"#000000\" font-family=\"sans-serif\" font-size=\"13\" lengthAdjust=\"spacingAndGlyphs\" textLength=\"7\" x=\"119\" y=\"130.0669\">c</text></a><!--MD5=[ecdc686709a32a79f41e62e108af9ee5]\n",
       "@startuml\r\n",
       "skinparam linetype polyline\r\n",
       "skinparam monochrome true\r\n",
       "skinparam classbackgroundcolor white\r\n",
       "skinparam shadowing false\r\n",
       "skinparam wrapWidth 300\r\n",
       "hide circle\r\n",
       "\r\n",
       "package \"TextualRepresentationTest\" as E1  [[psysml:44d40611-a894-4dae-a2f2-eb4bbba313e0 ]]  {\r\n",
       "comp def \"C\" as E2  <<(T,blue) item  def>> [[psysml:4aee70d7-2b51-44ea-8f07-d2f5d32d40ea ]] {\r\n",
       "- - attributes - -\r\n",
       "x: Real\r\n",
       "}\r\n",
       "comp usage \"x_constraint \" as E3  <<(T,blue) assert constraint>> [[psysml:4e46f6e8-5c68-4c27-8860-5a5208ef4b7d ]] {\r\n",
       "}\r\n",
       "comp def \"setX\" as E4  <<(T,blue) action  def>> [[psysml:6b33d7d4-0403-4693-aa76-fb8d39622677 ]] {\r\n",
       "}\r\n",
       "}\r\n",
       "E2 *- - \"*\"E3 [[psysml:057e15e5-e107-41c4-afdf-3f2cc89f9205 ]] \r\n",
       "E4 o- - E2 [[psysml:aadc07b0-b627-4a1c-8a0b-7e2bc77ad3c9 ]] : c\r\n",
       "@enduml\r\n",
       "\n",
       "PlantUML version 1.2020.13(Sat Jun 13 12:26:38 UTC 2020)\n",
       "(EPL source distribution)\n",
       "Java Runtime: OpenJDK Runtime Environment\n",
       "JVM: OpenJDK 64-Bit Server VM\n",
       "Default Encoding: UTF-8\n",
       "Language: en\n",
       "Country: null\n",
       "--></g></svg>"
      ]
     },
     "execution_count": 10,
     "metadata": {},
     "output_type": "execute_result"
    }
   ],
   "source": [
    "%viz --style=\"POLYLINE\" --view=\"Tree\" \"TextualRepresentationTest\""
   ]
  },
  {
   "cell_type": "code",
   "execution_count": 11,
   "id": "abcfaac4",
   "metadata": {
    "execution": {
     "iopub.execute_input": "2022-06-20T11:13:35.973339Z",
     "iopub.status.busy": "2022-06-20T11:13:35.972880Z",
     "iopub.status.idle": "2022-06-20T11:13:35.979991Z",
     "shell.execute_reply": "2022-06-20T11:13:35.980312Z"
    }
   },
   "outputs": [
    {
     "data": {
      "image/svg+xml": [
       "<?xml version=\"1.0\" encoding=\"UTF-8\" standalone=\"no\"?><svg xmlns=\"http://www.w3.org/2000/svg\" xmlns:xlink=\"http://www.w3.org/1999/xlink\" contentScriptType=\"application/ecmascript\" contentStyleType=\"text/css\" height=\"12px\" preserveAspectRatio=\"none\" style=\"width:12px;height:12px;\" version=\"1.1\" viewBox=\"0 0 12 12\" width=\"12px\" zoomAndPan=\"magnify\"><defs/><g><!--MD5=[896ac0e7a515d8dd7765a661cb4ee08b]\n",
       "@startuml\r\n",
       "skinparam linetype polyline\r\n",
       "skinparam monochrome true\r\n",
       "skinparam classbackgroundcolor white\r\n",
       "skinparam shadowing false\r\n",
       "skinparam wrapWidth 300\r\n",
       "hide circle\r\n",
       "\r\n",
       "@enduml\r\n",
       "\n",
       "PlantUML version 1.2020.13(Sat Jun 13 12:26:38 UTC 2020)\n",
       "(EPL source distribution)\n",
       "Java Runtime: OpenJDK Runtime Environment\n",
       "JVM: OpenJDK 64-Bit Server VM\n",
       "Default Encoding: UTF-8\n",
       "Language: en\n",
       "Country: null\n",
       "--></g></svg>"
      ]
     },
     "execution_count": 11,
     "metadata": {},
     "output_type": "execute_result"
    }
   ],
   "source": [
    "%viz --style=\"POLYLINE\" --view=\"State\" \"TextualRepresentationTest\""
   ]
  },
  {
   "cell_type": "code",
   "execution_count": 12,
   "id": "f948b59b",
   "metadata": {
    "execution": {
     "iopub.execute_input": "2022-06-20T11:13:36.030947Z",
     "iopub.status.busy": "2022-06-20T11:13:36.030395Z",
     "iopub.status.idle": "2022-06-20T11:13:36.064548Z",
     "shell.execute_reply": "2022-06-20T11:13:36.064942Z"
    }
   },
   "outputs": [
    {
     "data": {
      "image/svg+xml": [
       "<?xml version=\"1.0\" encoding=\"UTF-8\" standalone=\"no\"?><svg xmlns=\"http://www.w3.org/2000/svg\" xmlns:xlink=\"http://www.w3.org/1999/xlink\" contentScriptType=\"application/ecmascript\" contentStyleType=\"text/css\" height=\"179px\" preserveAspectRatio=\"none\" style=\"width:292px;height:179px;\" version=\"1.1\" viewBox=\"0 0 292 179\" width=\"292px\" zoomAndPan=\"magnify\"><defs/><g><!--MD5=[fbc87193dbaf4d95561dea2c320d4a47]\n",
       "cluster E1--><a href=\"psysml:44d40611-a894-4dae-a2f2-eb4bbba313e0\" target=\"_top\" title=\"psysml:44d40611-a894-4dae-a2f2-eb4bbba313e0\" xlink:actuate=\"onRequest\" xlink:href=\"psysml:44d40611-a894-4dae-a2f2-eb4bbba313e0\" xlink:show=\"new\" xlink:title=\"psysml:44d40611-a894-4dae-a2f2-eb4bbba313e0\" xlink:type=\"simple\"><polygon fill=\"#FFFFFF\" points=\"16,6,210,6,217,28.2969,270,28.2969,270,167,16,167,16,6\" style=\"stroke: #000000; stroke-width: 1.5;\"/><line style=\"stroke: #000000; stroke-width: 1.5;\" x1=\"16\" x2=\"217\" y1=\"28.2969\" y2=\"28.2969\"/><text fill=\"#000000\" font-family=\"sans-serif\" font-size=\"14\" font-weight=\"bold\" lengthAdjust=\"spacingAndGlyphs\" textLength=\"188\" x=\"20\" y=\"20.9951\">TextualRepresentationTest</text></a><!--MD5=[d5e69f78d87373223dbae638b30a9c99]\n",
       "cluster E3--><a href=\"psysml:6b33d7d4-0403-4693-aa76-fb8d39622677\" target=\"_top\" title=\"psysml:6b33d7d4-0403-4693-aa76-fb8d39622677\" xlink:actuate=\"onRequest\" xlink:href=\"psysml:6b33d7d4-0403-4693-aa76-fb8d39622677\" xlink:show=\"new\" xlink:title=\"psysml:6b33d7d4-0403-4693-aa76-fb8d39622677\" xlink:type=\"simple\"><rect fill=\"#FFFFFF\" height=\"88.5\" id=\"E3\" style=\"stroke: #383838; stroke-width: 1.5;\" width=\"100\" x=\"122.5\" y=\"62.5\"/><rect fill=\"#F8F8F8\" height=\"37.9375\" style=\"stroke: #383838; stroke-width: 1.5;\" width=\"100\" x=\"122.5\" y=\"62.5\"/><text fill=\"#000000\" font-family=\"sans-serif\" font-size=\"12\" font-style=\"italic\" lengthAdjust=\"spacingAndGlyphs\" textLength=\"81\" x=\"132\" y=\"78.6387\">«action  def»</text><text fill=\"#000000\" font-family=\"sans-serif\" font-size=\"12\" lengthAdjust=\"spacingAndGlyphs\" textLength=\"27\" x=\"159\" y=\"92.6074\">setX</text></a><g id=\"E1.E2\"><a href=\"psysml:4aee70d7-2b51-44ea-8f07-d2f5d32d40ea\" target=\"_top\" title=\"psysml:4aee70d7-2b51-44ea-8f07-d2f5d32d40ea\" xlink:actuate=\"onRequest\" xlink:href=\"psysml:4aee70d7-2b51-44ea-8f07-d2f5d32d40ea\" xlink:show=\"new\" xlink:title=\"psysml:4aee70d7-2b51-44ea-8f07-d2f5d32d40ea\" xlink:type=\"simple\"><rect fill=\"#FFFFFF\" height=\"42.9375\" id=\"E2\" style=\"stroke: #383838; stroke-width: 1.5;\" width=\"76\" x=\"32\" y=\"41\"/><rect fill=\"#F8F8F8\" height=\"37.9375\" style=\"stroke: #383838; stroke-width: 1.5;\" width=\"76\" x=\"32\" y=\"41\"/><text fill=\"#000000\" font-family=\"sans-serif\" font-size=\"12\" font-style=\"italic\" lengthAdjust=\"spacingAndGlyphs\" textLength=\"69\" x=\"35.5\" y=\"57.1387\">«item  def»</text><text fill=\"#000000\" font-family=\"sans-serif\" font-size=\"12\" lengthAdjust=\"spacingAndGlyphs\" textLength=\"8\" x=\"66\" y=\"71.1074\">C</text></a></g><text fill=\"#000000\" font-family=\"sans-serif\" font-size=\"14\" lengthAdjust=\"spacingAndGlyphs\" textLength=\"8\" x=\"145\" y=\"41.1982\">c</text><rect fill=\"#383838\" height=\"12\" style=\"stroke: #F8F8F8; stroke-width: 1.5;\" width=\"12\" x=\"143\" y=\"56.5\"/><text fill=\"#000000\" font-family=\"sans-serif\" font-size=\"14\" lengthAdjust=\"spacingAndGlyphs\" textLength=\"38\" x=\"177\" y=\"41.1982\">newX</text><rect fill=\"#383838\" height=\"12\" style=\"stroke: #F8F8F8; stroke-width: 1.5;\" width=\"12\" x=\"190\" y=\"56.5\"/><!--MD5=[df17b9ef936a9200e467b9c746f76352]\n",
       "@startuml\r\n",
       "skinparam ranksep 10\r\n",
       "skinparam rectangle {\r\n",
       " backgroundColor<<block>> LightGreen\r\n",
       "}\r\n",
       "skinparam linetype polyline\r\n",
       "skinparam monochrome true\r\n",
       "skinparam classbackgroundcolor white\r\n",
       "skinparam shadowing false\r\n",
       "skinparam wrapWidth 300\r\n",
       "hide circle\r\n",
       "\r\n",
       "package \"TextualRepresentationTest\" as E1  [[psysml:44d40611-a894-4dae-a2f2-eb4bbba313e0 ]]  {\r\n",
       "def \"C\" as E2  <<(T,blue) item  def>> [[psysml:4aee70d7-2b51-44ea-8f07-d2f5d32d40ea ]] \r\n",
       "rec def \"setX\" as E3  <<(T,blue) action  def>> [[psysml:6b33d7d4-0403-4693-aa76-fb8d39622677 ]] {\r\n",
       "portin \"c\" as E4  [[psysml:aadc07b0-b627-4a1c-8a0b-7e2bc77ad3c9 ]] \r\n",
       "portin \"newX\" as E5  [[psysml:a8b47a70-45ce-488b-ad71-695ba05ffc83 ]] \r\n",
       "}\r\n",
       "\r\n",
       "}\r\n",
       "@enduml\r\n",
       "\n",
       "PlantUML version 1.2020.13(Sat Jun 13 12:26:38 UTC 2020)\n",
       "(EPL source distribution)\n",
       "Java Runtime: OpenJDK Runtime Environment\n",
       "JVM: OpenJDK 64-Bit Server VM\n",
       "Default Encoding: UTF-8\n",
       "Language: en\n",
       "Country: null\n",
       "--></g></svg>"
      ]
     },
     "execution_count": 12,
     "metadata": {},
     "output_type": "execute_result"
    }
   ],
   "source": [
    "%viz --style=\"POLYLINE\" --view=\"Interconnection\" \"TextualRepresentationTest\""
   ]
  },
  {
   "cell_type": "code",
   "execution_count": 13,
   "id": "5aa4058d",
   "metadata": {
    "execution": {
     "iopub.execute_input": "2022-06-20T11:13:36.114629Z",
     "iopub.status.busy": "2022-06-20T11:13:36.114168Z",
     "iopub.status.idle": "2022-06-20T11:13:36.139979Z",
     "shell.execute_reply": "2022-06-20T11:13:36.140308Z"
    }
   },
   "outputs": [
    {
     "data": {
      "image/svg+xml": [
       "<?xml version=\"1.0\" encoding=\"UTF-8\" standalone=\"no\"?><svg xmlns=\"http://www.w3.org/2000/svg\" xmlns:xlink=\"http://www.w3.org/1999/xlink\" contentScriptType=\"application/ecmascript\" contentStyleType=\"text/css\" height=\"126px\" preserveAspectRatio=\"none\" style=\"width:152px;height:126px;\" version=\"1.1\" viewBox=\"0 0 152 126\" width=\"152px\" zoomAndPan=\"magnify\"><defs/><g><!--MD5=[fbc87193dbaf4d95561dea2c320d4a47]\n",
       "cluster E1--><a href=\"psysml:6b33d7d4-0403-4693-aa76-fb8d39622677\" target=\"_top\" title=\"psysml:6b33d7d4-0403-4693-aa76-fb8d39622677\" xlink:actuate=\"onRequest\" xlink:href=\"psysml:6b33d7d4-0403-4693-aa76-fb8d39622677\" xlink:show=\"new\" xlink:title=\"psysml:6b33d7d4-0403-4693-aa76-fb8d39622677\" xlink:type=\"simple\"><rect fill=\"#FFFFFF\" height=\"73\" id=\"E1\" style=\"stroke: #383838; stroke-width: 1.5;\" width=\"134\" x=\"7\" y=\"42.0986\"/><rect fill=\"#F8F8F8\" height=\"37.9375\" style=\"stroke: #383838; stroke-width: 1.5;\" width=\"134\" x=\"7\" y=\"42.0986\"/><text fill=\"#000000\" font-family=\"sans-serif\" font-size=\"12\" font-style=\"italic\" lengthAdjust=\"spacingAndGlyphs\" textLength=\"81\" x=\"33.5\" y=\"58.2373\">«action  def»</text><text fill=\"#000000\" font-family=\"sans-serif\" font-size=\"12\" lengthAdjust=\"spacingAndGlyphs\" textLength=\"27\" x=\"60.5\" y=\"72.2061\">setX</text></a><text fill=\"#000000\" font-family=\"sans-serif\" font-size=\"14\" lengthAdjust=\"spacingAndGlyphs\" textLength=\"8\" x=\"21\" y=\"20.7969\">c</text><rect fill=\"#383838\" height=\"12\" style=\"stroke: #F8F8F8; stroke-width: 1.5;\" width=\"12\" x=\"19\" y=\"36.0986\"/><text fill=\"#000000\" font-family=\"sans-serif\" font-size=\"14\" lengthAdjust=\"spacingAndGlyphs\" textLength=\"38\" x=\"53\" y=\"20.7969\">newX</text><rect fill=\"#383838\" height=\"12\" style=\"stroke: #F8F8F8; stroke-width: 1.5;\" width=\"12\" x=\"66\" y=\"36.0986\"/><!--MD5=[70bfd356465d1831c49d8f076f44a17a]\n",
       "@startuml\r\n",
       "skinparam ranksep 8\r\n",
       "skinparam linetype polyline\r\n",
       "skinparam monochrome true\r\n",
       "skinparam classbackgroundcolor white\r\n",
       "skinparam shadowing false\r\n",
       "skinparam wrapWidth 300\r\n",
       "hide circle\r\n",
       "\r\n",
       "rec def \"setX\" as E1  <<(T,blue) action  def>> [[psysml:6b33d7d4-0403-4693-aa76-fb8d39622677 ]] {\r\n",
       "portin \"c\" as E2  [[psysml:aadc07b0-b627-4a1c-8a0b-7e2bc77ad3c9 ]] \r\n",
       "portin \"newX\" as E3  [[psysml:a8b47a70-45ce-488b-ad71-695ba05ffc83 ]] \r\n",
       "}\r\n",
       "\r\n",
       "@enduml\r\n",
       "\n",
       "PlantUML version 1.2020.13(Sat Jun 13 12:26:38 UTC 2020)\n",
       "(EPL source distribution)\n",
       "Java Runtime: OpenJDK Runtime Environment\n",
       "JVM: OpenJDK 64-Bit Server VM\n",
       "Default Encoding: UTF-8\n",
       "Language: en\n",
       "Country: null\n",
       "--></g></svg>"
      ]
     },
     "execution_count": 13,
     "metadata": {},
     "output_type": "execute_result"
    }
   ],
   "source": [
    "%viz --style=\"POLYLINE\" --view=\"Action\" \"TextualRepresentationTest\""
   ]
  },
  {
   "cell_type": "code",
   "execution_count": 14,
   "id": "c3ee11c8",
   "metadata": {
    "execution": {
     "iopub.execute_input": "2022-06-20T11:13:36.190638Z",
     "iopub.status.busy": "2022-06-20T11:13:36.190077Z",
     "iopub.status.idle": "2022-06-20T11:13:36.197286Z",
     "shell.execute_reply": "2022-06-20T11:13:36.197670Z"
    }
   },
   "outputs": [
    {
     "data": {
      "image/svg+xml": [
       "<?xml version=\"1.0\" encoding=\"UTF-8\" standalone=\"no\"?><svg xmlns=\"http://www.w3.org/2000/svg\" xmlns:xlink=\"http://www.w3.org/1999/xlink\" contentScriptType=\"application/ecmascript\" contentStyleType=\"text/css\" height=\"12px\" preserveAspectRatio=\"none\" style=\"width:12px;height:12px;\" version=\"1.1\" viewBox=\"0 0 12 12\" width=\"12px\" zoomAndPan=\"magnify\"><defs/><g><!--MD5=[dc938048236c351797870c36b62f92ad]\n",
       "@startuml\r\n",
       "skinparam roundcorner 20\r\n",
       "skinparam BoxPadding 20\r\n",
       "skinparam SequenceBoxBackgroundColor #white\r\n",
       "skinparam style strictuml\r\n",
       "skinparam maxMessageSize 100\r\n",
       "skinparam linetype polyline\r\n",
       "skinparam monochrome true\r\n",
       "skinparam classbackgroundcolor white\r\n",
       "skinparam shadowing false\r\n",
       "skinparam wrapWidth 300\r\n",
       "hide circle\r\n",
       "\r\n",
       "@enduml\r\n",
       "\n",
       "PlantUML version 1.2020.13(Sat Jun 13 12:26:38 UTC 2020)\n",
       "(EPL source distribution)\n",
       "Java Runtime: OpenJDK Runtime Environment\n",
       "JVM: OpenJDK 64-Bit Server VM\n",
       "Default Encoding: UTF-8\n",
       "Language: en\n",
       "Country: null\n",
       "--></g></svg>"
      ]
     },
     "execution_count": 14,
     "metadata": {},
     "output_type": "execute_result"
    }
   ],
   "source": [
    "%viz --style=\"POLYLINE\" --view=\"Sequence\" \"TextualRepresentationTest\""
   ]
  },
  {
   "cell_type": "code",
   "execution_count": 15,
   "id": "6b2a0d6e",
   "metadata": {
    "execution": {
     "iopub.execute_input": "2022-06-20T11:13:36.247587Z",
     "iopub.status.busy": "2022-06-20T11:13:36.247133Z",
     "iopub.status.idle": "2022-06-20T11:13:36.299649Z",
     "shell.execute_reply": "2022-06-20T11:13:36.299149Z"
    }
   },
   "outputs": [
    {
     "data": {
      "image/svg+xml": [
       "<?xml version=\"1.0\" encoding=\"UTF-8\" standalone=\"no\"?><svg xmlns=\"http://www.w3.org/2000/svg\" xmlns:xlink=\"http://www.w3.org/1999/xlink\" contentScriptType=\"application/ecmascript\" contentStyleType=\"text/css\" height=\"261px\" preserveAspectRatio=\"none\" style=\"width:351px;height:261px;\" version=\"1.1\" viewBox=\"0 0 351 261\" width=\"351px\" zoomAndPan=\"magnify\"><defs/><g><!--MD5=[fbc87193dbaf4d95561dea2c320d4a47]\n",
       "cluster E1--><a href=\"psysml:44d40611-a894-4dae-a2f2-eb4bbba313e0\" target=\"_top\" title=\"psysml:44d40611-a894-4dae-a2f2-eb4bbba313e0\" xlink:actuate=\"onRequest\" xlink:href=\"psysml:44d40611-a894-4dae-a2f2-eb4bbba313e0\" xlink:show=\"new\" xlink:title=\"psysml:44d40611-a894-4dae-a2f2-eb4bbba313e0\" xlink:type=\"simple\"><polygon fill=\"#FFFFFF\" points=\"16,6,210,6,217,28.2969,329,28.2969,329,249.5,16,249.5,16,6\" style=\"stroke: #000000; stroke-width: 1.5;\"/><line style=\"stroke: #000000; stroke-width: 1.5;\" x1=\"16\" x2=\"217\" y1=\"28.2969\" y2=\"28.2969\"/><text fill=\"#000000\" font-family=\"sans-serif\" font-size=\"14\" font-weight=\"bold\" lengthAdjust=\"spacingAndGlyphs\" textLength=\"188\" x=\"20\" y=\"20.9951\">TextualRepresentationTest</text></a><!--MD5=[f6df4d0ebaf0b5dfb2ced0ae5af7c670]\n",
       "cluster E4--><a href=\"psysml:6b33d7d4-0403-4693-aa76-fb8d39622677\" target=\"_top\" title=\"psysml:6b33d7d4-0403-4693-aa76-fb8d39622677\" xlink:actuate=\"onRequest\" xlink:href=\"psysml:6b33d7d4-0403-4693-aa76-fb8d39622677\" xlink:show=\"new\" xlink:title=\"psysml:6b33d7d4-0403-4693-aa76-fb8d39622677\" xlink:type=\"simple\"><rect fill=\"#FFFFFF\" height=\"154.5\" id=\"E4\" style=\"stroke: #383838; stroke-width: 1.5;\" width=\"134\" x=\"179\" y=\"79\"/><rect fill=\"#F8F8F8\" height=\"37.9375\" style=\"stroke: #383838; stroke-width: 1.5;\" width=\"134\" x=\"179\" y=\"79\"/><text fill=\"#000000\" font-family=\"sans-serif\" font-size=\"12\" font-style=\"italic\" lengthAdjust=\"spacingAndGlyphs\" textLength=\"81\" x=\"205.5\" y=\"95.1387\">«action  def»</text><text fill=\"#000000\" font-family=\"sans-serif\" font-size=\"12\" lengthAdjust=\"spacingAndGlyphs\" textLength=\"27\" x=\"232.5\" y=\"109.1074\">setX</text></a><!--MD5=[b4997ac47864f28c2f74865a473b2911]\n",
       "class E2--><a href=\"psysml:4aee70d7-2b51-44ea-8f07-d2f5d32d40ea\" target=\"_top\" title=\"psysml:4aee70d7-2b51-44ea-8f07-d2f5d32d40ea\" xlink:actuate=\"onRequest\" xlink:href=\"psysml:4aee70d7-2b51-44ea-8f07-d2f5d32d40ea\" xlink:show=\"new\" xlink:title=\"psysml:4aee70d7-2b51-44ea-8f07-d2f5d32d40ea\" xlink:type=\"simple\"><rect fill=\"#FFFFFF\" height=\"75.5469\" id=\"E2\" style=\"stroke: #383838; stroke-width: 1.5;\" width=\"71\" x=\"58.5\" y=\"41\"/><text fill=\"#000000\" font-family=\"sans-serif\" font-size=\"12\" font-style=\"italic\" lengthAdjust=\"spacingAndGlyphs\" textLength=\"69\" x=\"59.5\" y=\"57.1387\">«item  def»</text><text fill=\"#000000\" font-family=\"sans-serif\" font-size=\"12\" lengthAdjust=\"spacingAndGlyphs\" textLength=\"8\" x=\"90\" y=\"71.1074\">C</text><line style=\"stroke: #383838; stroke-width: 1.5;\" x1=\"59.5\" x2=\"128.5\" y1=\"78.9375\" y2=\"78.9375\"/><text fill=\"#000000\" font-family=\"sans-serif\" font-size=\"11\" lengthAdjust=\"spacingAndGlyphs\" textLength=\"38\" x=\"64.5\" y=\"109.9526\">x: Real</text><line style=\"stroke: #383838; stroke-width: 1.0;\" x1=\"59.5\" x2=\"66.5\" y1=\"93.3398\" y2=\"93.3398\"/><text fill=\"#000000\" font-family=\"sans-serif\" font-size=\"11\" lengthAdjust=\"spacingAndGlyphs\" textLength=\"55\" x=\"66.5\" y=\"96.6479\">attributes</text><line style=\"stroke: #383838; stroke-width: 1.0;\" x1=\"121.5\" x2=\"128.5\" y1=\"93.3398\" y2=\"93.3398\"/></a><!--MD5=[09b614a08d8cba4a07c9adeb5e0fee81]\n",
       "class E3--><a href=\"psysml:4e46f6e8-5c68-4c27-8860-5a5208ef4b7d\" target=\"_top\" title=\"psysml:4e46f6e8-5c68-4c27-8860-5a5208ef4b7d\" xlink:actuate=\"onRequest\" xlink:href=\"psysml:4e46f6e8-5c68-4c27-8860-5a5208ef4b7d\" xlink:show=\"new\" xlink:title=\"psysml:4e46f6e8-5c68-4c27-8860-5a5208ef4b7d\" xlink:type=\"simple\"><rect fill=\"#FFFFFF\" height=\"45.9375\" id=\"E3\" rx=\"10\" ry=\"10\" style=\"stroke: #383838; stroke-width: 1.5;\" width=\"124\" x=\"32\" y=\"177\"/><text fill=\"#000000\" font-family=\"sans-serif\" font-size=\"12\" font-style=\"italic\" lengthAdjust=\"spacingAndGlyphs\" textLength=\"122\" x=\"33\" y=\"193.1387\">«assert constraint»</text><text fill=\"#000000\" font-family=\"sans-serif\" font-size=\"12\" lengthAdjust=\"spacingAndGlyphs\" textLength=\"76\" x=\"54\" y=\"207.1074\">x_constraint</text><line style=\"stroke: #383838; stroke-width: 1.5;\" x1=\"33\" x2=\"155\" y1=\"214.9375\" y2=\"214.9375\"/></a><text fill=\"#000000\" font-family=\"sans-serif\" font-size=\"14\" lengthAdjust=\"spacingAndGlyphs\" textLength=\"8\" x=\"193\" y=\"57.6982\">c</text><rect fill=\"#383838\" height=\"12\" style=\"stroke: #F8F8F8; stroke-width: 1.5;\" width=\"12\" x=\"191\" y=\"73\"/><text fill=\"#000000\" font-family=\"sans-serif\" font-size=\"14\" lengthAdjust=\"spacingAndGlyphs\" textLength=\"38\" x=\"225\" y=\"57.6982\">newX</text><rect fill=\"#383838\" height=\"12\" style=\"stroke: #F8F8F8; stroke-width: 1.5;\" width=\"12\" x=\"238\" y=\"73\"/><!--MD5=[209b3feb70ccb6233bfe1053d122c12c]\n",
       "reverse link E2 to E3--><a href=\"psysml:057e15e5-e107-41c4-afdf-3f2cc89f9205\" target=\"_top\" title=\"psysml:057e15e5-e107-41c4-afdf-3f2cc89f9205\" xlink:actuate=\"onRequest\" xlink:href=\"psysml:057e15e5-e107-41c4-afdf-3f2cc89f9205\" xlink:show=\"new\" xlink:title=\"psysml:057e15e5-e107-41c4-afdf-3f2cc89f9205\" xlink:type=\"simple\"><path d=\"M94,130.34 C94,146.61 94,163.81 94,176.93 \" fill=\"none\" id=\"E2&lt;-E3\" style=\"stroke: #383838; stroke-width: 1.0;\"/><polygon fill=\"#383838\" points=\"94,117,90,123,94,129,98,123,94,117\" style=\"stroke: #383838; stroke-width: 1.0;\"/><text fill=\"#000000\" font-family=\"sans-serif\" font-size=\"13\" lengthAdjust=\"spacingAndGlyphs\" textLength=\"7\" x=\"86.0594\" y=\"165.8075\">*</text></a><!--MD5=[cc23b733a265b1a5c0c411c0f69c4532]\n",
       "@startuml\r\n",
       "skinparam linetype polyline\r\n",
       "skinparam monochrome true\r\n",
       "skinparam classbackgroundcolor white\r\n",
       "skinparam shadowing false\r\n",
       "skinparam wrapWidth 300\r\n",
       "hide circle\r\n",
       "\r\n",
       "package \"TextualRepresentationTest\" as E1  [[psysml:44d40611-a894-4dae-a2f2-eb4bbba313e0 ]]  {\r\n",
       "comp def \"C\" as E2  <<(T,blue) item  def>> [[psysml:4aee70d7-2b51-44ea-8f07-d2f5d32d40ea ]] {\r\n",
       "- - attributes - -\r\n",
       "x: Real\r\n",
       "}\r\n",
       "comp usage \"x_constraint \" as E3  <<(T,blue) assert constraint>> [[psysml:4e46f6e8-5c68-4c27-8860-5a5208ef4b7d ]] {\r\n",
       "}\r\n",
       "rec def \"setX\" as E4  <<(T,blue) action  def>> [[psysml:6b33d7d4-0403-4693-aa76-fb8d39622677 ]] {\r\n",
       "portin \"c\" as E5  [[psysml:aadc07b0-b627-4a1c-8a0b-7e2bc77ad3c9 ]] \r\n",
       "portin \"newX\" as E6  [[psysml:a8b47a70-45ce-488b-ad71-695ba05ffc83 ]] \r\n",
       "}\r\n",
       "\r\n",
       "}\r\n",
       "E2 *- - \"*\"E3 [[psysml:057e15e5-e107-41c4-afdf-3f2cc89f9205 ]] \r\n",
       "@enduml\r\n",
       "\n",
       "PlantUML version 1.2020.13(Sat Jun 13 12:26:38 UTC 2020)\n",
       "(EPL source distribution)\n",
       "Java Runtime: OpenJDK Runtime Environment\n",
       "JVM: OpenJDK 64-Bit Server VM\n",
       "Default Encoding: UTF-8\n",
       "Language: en\n",
       "Country: null\n",
       "--></g></svg>"
      ]
     },
     "execution_count": 15,
     "metadata": {},
     "output_type": "execute_result"
    }
   ],
   "source": [
    "%viz --style=\"POLYLINE\" --view=\"MIXED\" \"TextualRepresentationTest\""
   ]
  },
  {
   "cell_type": "code",
   "execution_count": 16,
   "id": "5493280f",
   "metadata": {
    "execution": {
     "iopub.execute_input": "2022-06-20T11:13:36.349839Z",
     "iopub.status.busy": "2022-06-20T11:13:36.349280Z",
     "iopub.status.idle": "2022-06-20T11:13:36.406274Z",
     "shell.execute_reply": "2022-06-20T11:13:36.405860Z"
    }
   },
   "outputs": [
    {
     "data": {
      "image/svg+xml": [
       "<?xml version=\"1.0\" encoding=\"UTF-8\" standalone=\"no\"?><svg xmlns=\"http://www.w3.org/2000/svg\" xmlns:xlink=\"http://www.w3.org/1999/xlink\" contentScriptType=\"application/ecmascript\" contentStyleType=\"text/css\" height=\"247px\" preserveAspectRatio=\"none\" style=\"width:332px;height:247px;\" version=\"1.1\" viewBox=\"0 0 332 247\" width=\"332px\" zoomAndPan=\"magnify\"><defs/><g><!--MD5=[fbc87193dbaf4d95561dea2c320d4a47]\n",
       "cluster E1--><a href=\"psysml:44d40611-a894-4dae-a2f2-eb4bbba313e0\" target=\"_top\" title=\"psysml:44d40611-a894-4dae-a2f2-eb4bbba313e0\" xlink:actuate=\"onRequest\" xlink:href=\"psysml:44d40611-a894-4dae-a2f2-eb4bbba313e0\" xlink:show=\"new\" xlink:title=\"psysml:44d40611-a894-4dae-a2f2-eb4bbba313e0\" xlink:type=\"simple\"><polygon fill=\"#FFFFFF\" points=\"16,6,210,6,217,28.2969,310,28.2969,310,235,16,235,16,6\" style=\"stroke: #000000; stroke-width: 1.5;\"/><line style=\"stroke: #000000; stroke-width: 1.5;\" x1=\"16\" x2=\"217\" y1=\"28.2969\" y2=\"28.2969\"/><text fill=\"#000000\" font-family=\"sans-serif\" font-size=\"14\" font-weight=\"bold\" lengthAdjust=\"spacingAndGlyphs\" textLength=\"188\" x=\"20\" y=\"20.9951\">TextualRepresentationTest</text></a><!--MD5=[f6df4d0ebaf0b5dfb2ced0ae5af7c670]\n",
       "cluster E4--><a href=\"psysml:6b33d7d4-0403-4693-aa76-fb8d39622677\" target=\"_top\" title=\"psysml:6b33d7d4-0403-4693-aa76-fb8d39622677\" xlink:actuate=\"onRequest\" xlink:href=\"psysml:6b33d7d4-0403-4693-aa76-fb8d39622677\" xlink:show=\"new\" xlink:title=\"psysml:6b33d7d4-0403-4693-aa76-fb8d39622677\" xlink:type=\"simple\"><rect fill=\"#FFFFFF\" height=\"47\" id=\"E4\" style=\"stroke: #383838; stroke-width: 1.5;\" width=\"244.5\" x=\"49.5\" y=\"55\"/><rect fill=\"#F8F8F8\" height=\"37.9375\" style=\"stroke: #383838; stroke-width: 1.5;\" width=\"244.5\" x=\"49.5\" y=\"55\"/><text fill=\"#000000\" font-family=\"sans-serif\" font-size=\"12\" font-style=\"italic\" lengthAdjust=\"spacingAndGlyphs\" textLength=\"81\" x=\"131.25\" y=\"71.1387\">«action  def»</text><text fill=\"#000000\" font-family=\"sans-serif\" font-size=\"12\" lengthAdjust=\"spacingAndGlyphs\" textLength=\"27\" x=\"158.25\" y=\"85.1074\">setX</text></a><!--MD5=[b4997ac47864f28c2f74865a473b2911]\n",
       "class E2--><a href=\"psysml:4aee70d7-2b51-44ea-8f07-d2f5d32d40ea\" target=\"_top\" title=\"psysml:4aee70d7-2b51-44ea-8f07-d2f5d32d40ea\" xlink:actuate=\"onRequest\" xlink:href=\"psysml:4aee70d7-2b51-44ea-8f07-d2f5d32d40ea\" xlink:show=\"new\" xlink:title=\"psysml:4aee70d7-2b51-44ea-8f07-d2f5d32d40ea\" xlink:type=\"simple\"><rect fill=\"#FFFFFF\" height=\"75.5469\" id=\"E2\" style=\"stroke: #383838; stroke-width: 1.5;\" width=\"71\" x=\"32\" y=\"143\"/><text fill=\"#000000\" font-family=\"sans-serif\" font-size=\"12\" font-style=\"italic\" lengthAdjust=\"spacingAndGlyphs\" textLength=\"69\" x=\"33\" y=\"159.1387\">«item  def»</text><text fill=\"#000000\" font-family=\"sans-serif\" font-size=\"12\" lengthAdjust=\"spacingAndGlyphs\" textLength=\"8\" x=\"63.5\" y=\"173.1074\">C</text><line style=\"stroke: #383838; stroke-width: 1.5;\" x1=\"33\" x2=\"102\" y1=\"180.9375\" y2=\"180.9375\"/><text fill=\"#000000\" font-family=\"sans-serif\" font-size=\"11\" lengthAdjust=\"spacingAndGlyphs\" textLength=\"38\" x=\"38\" y=\"211.9526\">x: Real</text><line style=\"stroke: #383838; stroke-width: 1.0;\" x1=\"33\" x2=\"40\" y1=\"195.3398\" y2=\"195.3398\"/><text fill=\"#000000\" font-family=\"sans-serif\" font-size=\"11\" lengthAdjust=\"spacingAndGlyphs\" textLength=\"55\" x=\"40\" y=\"198.6479\">attributes</text><line style=\"stroke: #383838; stroke-width: 1.0;\" x1=\"95\" x2=\"102\" y1=\"195.3398\" y2=\"195.3398\"/></a><!--MD5=[09b614a08d8cba4a07c9adeb5e0fee81]\n",
       "class E3--><a href=\"psysml:4e46f6e8-5c68-4c27-8860-5a5208ef4b7d\" target=\"_top\" title=\"psysml:4e46f6e8-5c68-4c27-8860-5a5208ef4b7d\" xlink:actuate=\"onRequest\" xlink:href=\"psysml:4e46f6e8-5c68-4c27-8860-5a5208ef4b7d\" xlink:show=\"new\" xlink:title=\"psysml:4e46f6e8-5c68-4c27-8860-5a5208ef4b7d\" xlink:type=\"simple\"><rect fill=\"#FFFFFF\" height=\"45.9375\" id=\"E3\" rx=\"10\" ry=\"10\" style=\"stroke: #383838; stroke-width: 1.5;\" width=\"124\" x=\"163\" y=\"158\"/><text fill=\"#000000\" font-family=\"sans-serif\" font-size=\"12\" font-style=\"italic\" lengthAdjust=\"spacingAndGlyphs\" textLength=\"122\" x=\"164\" y=\"174.1387\">«assert constraint»</text><text fill=\"#000000\" font-family=\"sans-serif\" font-size=\"12\" lengthAdjust=\"spacingAndGlyphs\" textLength=\"76\" x=\"185\" y=\"188.1074\">x_constraint</text><line style=\"stroke: #383838; stroke-width: 1.5;\" x1=\"164\" x2=\"286\" y1=\"195.9375\" y2=\"195.9375\"/></a><text fill=\"#000000\" font-family=\"sans-serif\" font-size=\"14\" lengthAdjust=\"spacingAndGlyphs\" textLength=\"8\" x=\"63.5\" y=\"120.9951\">c</text><rect fill=\"#383838\" height=\"12\" style=\"stroke: #F8F8F8; stroke-width: 1.5;\" width=\"12\" x=\"61.5\" y=\"96\"/><text fill=\"#000000\" font-family=\"sans-serif\" font-size=\"14\" lengthAdjust=\"spacingAndGlyphs\" textLength=\"38\" x=\"48.5\" y=\"33.6982\">newX</text><rect fill=\"#383838\" height=\"12\" style=\"stroke: #F8F8F8; stroke-width: 1.5;\" width=\"12\" x=\"61.5\" y=\"49\"/><!--MD5=[209b3feb70ccb6233bfe1053d122c12c]\n",
       "reverse link E2 to E3--><a href=\"psysml:057e15e5-e107-41c4-afdf-3f2cc89f9205\" target=\"_top\" title=\"psysml:057e15e5-e107-41c4-afdf-3f2cc89f9205\" xlink:actuate=\"onRequest\" xlink:href=\"psysml:057e15e5-e107-41c4-afdf-3f2cc89f9205\" xlink:show=\"new\" xlink:title=\"psysml:057e15e5-e107-41c4-afdf-3f2cc89f9205\" xlink:type=\"simple\"><path d=\"M116.04,181 C130.85,181 147.38,181 162.98,181 \" fill=\"none\" id=\"E2&lt;-E3\" style=\"stroke: #383838; stroke-width: 1.0;\"/><polygon fill=\"#383838\" points=\"103.01,181,109.01,185,115.01,181,109.01,177,103.01,181\" style=\"stroke: #383838; stroke-width: 1.0;\"/><text fill=\"#000000\" font-family=\"sans-serif\" font-size=\"13\" lengthAdjust=\"spacingAndGlyphs\" textLength=\"7\" x=\"147.9947\" y=\"193.9929\">*</text></a><!--MD5=[58896519d7079eb9946a80c1d1697925]\n",
       "@startuml\r\n",
       "left to right direction\r\n",
       "skinparam monochrome true\r\n",
       "skinparam classbackgroundcolor white\r\n",
       "skinparam shadowing false\r\n",
       "skinparam wrapWidth 300\r\n",
       "hide circle\r\n",
       "\r\n",
       "package \"TextualRepresentationTest\" as E1  [[psysml:44d40611-a894-4dae-a2f2-eb4bbba313e0 ]]  {\r\n",
       "comp def \"C\" as E2  <<(T,blue) item  def>> [[psysml:4aee70d7-2b51-44ea-8f07-d2f5d32d40ea ]] {\r\n",
       "- - attributes - -\r\n",
       "x: Real\r\n",
       "}\r\n",
       "comp usage \"x_constraint \" as E3  <<(T,blue) assert constraint>> [[psysml:4e46f6e8-5c68-4c27-8860-5a5208ef4b7d ]] {\r\n",
       "}\r\n",
       "rec def \"setX\" as E4  <<(T,blue) action  def>> [[psysml:6b33d7d4-0403-4693-aa76-fb8d39622677 ]] {\r\n",
       "portin \"c\" as E5  [[psysml:aadc07b0-b627-4a1c-8a0b-7e2bc77ad3c9 ]] \r\n",
       "portin \"newX\" as E6  [[psysml:a8b47a70-45ce-488b-ad71-695ba05ffc83 ]] \r\n",
       "}\r\n",
       "\r\n",
       "}\r\n",
       "E2 *- - \"*\"E3 [[psysml:057e15e5-e107-41c4-afdf-3f2cc89f9205 ]] \r\n",
       "@enduml\r\n",
       "\n",
       "PlantUML version 1.2020.13(Sat Jun 13 12:26:38 UTC 2020)\n",
       "(EPL source distribution)\n",
       "Java Runtime: OpenJDK Runtime Environment\n",
       "JVM: OpenJDK 64-Bit Server VM\n",
       "Default Encoding: UTF-8\n",
       "Language: en\n",
       "Country: null\n",
       "--></g></svg>"
      ]
     },
     "execution_count": 16,
     "metadata": {},
     "output_type": "execute_result"
    }
   ],
   "source": [
    "%viz --style=\"LR\" --view=\"Default\" \"TextualRepresentationTest\""
   ]
  },
  {
   "cell_type": "code",
   "execution_count": 17,
   "id": "ce808730",
   "metadata": {
    "execution": {
     "iopub.execute_input": "2022-06-20T11:13:36.455848Z",
     "iopub.status.busy": "2022-06-20T11:13:36.455393Z",
     "iopub.status.idle": "2022-06-20T11:13:36.500677Z",
     "shell.execute_reply": "2022-06-20T11:13:36.500998Z"
    }
   },
   "outputs": [
    {
     "data": {
      "image/svg+xml": [
       "<?xml version=\"1.0\" encoding=\"UTF-8\" standalone=\"no\"?><svg xmlns=\"http://www.w3.org/2000/svg\" xmlns:xlink=\"http://www.w3.org/1999/xlink\" contentScriptType=\"application/ecmascript\" contentStyleType=\"text/css\" height=\"145px\" preserveAspectRatio=\"none\" style=\"width:478px;height:145px;\" version=\"1.1\" viewBox=\"0 0 478 145\" width=\"478px\" zoomAndPan=\"magnify\"><defs/><g><!--MD5=[fbc87193dbaf4d95561dea2c320d4a47]\n",
       "cluster E1--><a href=\"psysml:44d40611-a894-4dae-a2f2-eb4bbba313e0\" target=\"_top\" title=\"psysml:44d40611-a894-4dae-a2f2-eb4bbba313e0\" xlink:actuate=\"onRequest\" xlink:href=\"psysml:44d40611-a894-4dae-a2f2-eb4bbba313e0\" xlink:show=\"new\" xlink:title=\"psysml:44d40611-a894-4dae-a2f2-eb4bbba313e0\" xlink:type=\"simple\"><polygon fill=\"#FFFFFF\" points=\"16,6,210,6,217,28.2969,456,28.2969,456,133,16,133,16,6\" style=\"stroke: #000000; stroke-width: 1.5;\"/><line style=\"stroke: #000000; stroke-width: 1.5;\" x1=\"16\" x2=\"217\" y1=\"28.2969\" y2=\"28.2969\"/><text fill=\"#000000\" font-family=\"sans-serif\" font-size=\"14\" font-weight=\"bold\" lengthAdjust=\"spacingAndGlyphs\" textLength=\"188\" x=\"20\" y=\"20.9951\">TextualRepresentationTest</text></a><!--MD5=[b4997ac47864f28c2f74865a473b2911]\n",
       "class E2--><a href=\"psysml:4aee70d7-2b51-44ea-8f07-d2f5d32d40ea\" target=\"_top\" title=\"psysml:4aee70d7-2b51-44ea-8f07-d2f5d32d40ea\" xlink:actuate=\"onRequest\" xlink:href=\"psysml:4aee70d7-2b51-44ea-8f07-d2f5d32d40ea\" xlink:show=\"new\" xlink:title=\"psysml:4aee70d7-2b51-44ea-8f07-d2f5d32d40ea\" xlink:type=\"simple\"><rect fill=\"#FFFFFF\" height=\"75.5469\" id=\"E2\" style=\"stroke: #383838; stroke-width: 1.5;\" width=\"71\" x=\"184\" y=\"41\"/><text fill=\"#000000\" font-family=\"sans-serif\" font-size=\"12\" font-style=\"italic\" lengthAdjust=\"spacingAndGlyphs\" textLength=\"69\" x=\"185\" y=\"57.1387\">«item  def»</text><text fill=\"#000000\" font-family=\"sans-serif\" font-size=\"12\" lengthAdjust=\"spacingAndGlyphs\" textLength=\"8\" x=\"215.5\" y=\"71.1074\">C</text><line style=\"stroke: #383838; stroke-width: 1.5;\" x1=\"185\" x2=\"254\" y1=\"78.9375\" y2=\"78.9375\"/><text fill=\"#000000\" font-family=\"sans-serif\" font-size=\"11\" lengthAdjust=\"spacingAndGlyphs\" textLength=\"38\" x=\"190\" y=\"109.9526\">x: Real</text><line style=\"stroke: #383838; stroke-width: 1.0;\" x1=\"185\" x2=\"192\" y1=\"93.3398\" y2=\"93.3398\"/><text fill=\"#000000\" font-family=\"sans-serif\" font-size=\"11\" lengthAdjust=\"spacingAndGlyphs\" textLength=\"55\" x=\"192\" y=\"96.6479\">attributes</text><line style=\"stroke: #383838; stroke-width: 1.0;\" x1=\"247\" x2=\"254\" y1=\"93.3398\" y2=\"93.3398\"/></a><!--MD5=[09b614a08d8cba4a07c9adeb5e0fee81]\n",
       "class E3--><a href=\"psysml:4e46f6e8-5c68-4c27-8860-5a5208ef4b7d\" target=\"_top\" title=\"psysml:4e46f6e8-5c68-4c27-8860-5a5208ef4b7d\" xlink:actuate=\"onRequest\" xlink:href=\"psysml:4e46f6e8-5c68-4c27-8860-5a5208ef4b7d\" xlink:show=\"new\" xlink:title=\"psysml:4e46f6e8-5c68-4c27-8860-5a5208ef4b7d\" xlink:type=\"simple\"><rect fill=\"#FFFFFF\" height=\"45.9375\" id=\"E3\" rx=\"10\" ry=\"10\" style=\"stroke: #383838; stroke-width: 1.5;\" width=\"124\" x=\"316\" y=\"56\"/><text fill=\"#000000\" font-family=\"sans-serif\" font-size=\"12\" font-style=\"italic\" lengthAdjust=\"spacingAndGlyphs\" textLength=\"122\" x=\"317\" y=\"72.1387\">«assert constraint»</text><text fill=\"#000000\" font-family=\"sans-serif\" font-size=\"12\" lengthAdjust=\"spacingAndGlyphs\" textLength=\"76\" x=\"338\" y=\"86.1074\">x_constraint</text><line style=\"stroke: #383838; stroke-width: 1.5;\" x1=\"317\" x2=\"439\" y1=\"93.9375\" y2=\"93.9375\"/></a><!--MD5=[ebbe1d658d1005bcc118a6aa81145e00]\n",
       "class E4--><a href=\"psysml:6b33d7d4-0403-4693-aa76-fb8d39622677\" target=\"_top\" title=\"psysml:6b33d7d4-0403-4693-aa76-fb8d39622677\" xlink:actuate=\"onRequest\" xlink:href=\"psysml:6b33d7d4-0403-4693-aa76-fb8d39622677\" xlink:show=\"new\" xlink:title=\"psysml:6b33d7d4-0403-4693-aa76-fb8d39622677\" xlink:type=\"simple\"><rect fill=\"#FFFFFF\" height=\"45.9375\" id=\"E4\" style=\"stroke: #383838; stroke-width: 1.5;\" width=\"83\" x=\"32\" y=\"56\"/><text fill=\"#000000\" font-family=\"sans-serif\" font-size=\"12\" font-style=\"italic\" lengthAdjust=\"spacingAndGlyphs\" textLength=\"81\" x=\"33\" y=\"72.1387\">«action  def»</text><text fill=\"#000000\" font-family=\"sans-serif\" font-size=\"12\" lengthAdjust=\"spacingAndGlyphs\" textLength=\"27\" x=\"60\" y=\"86.1074\">setX</text><line style=\"stroke: #383838; stroke-width: 1.5;\" x1=\"33\" x2=\"114\" y1=\"93.9375\" y2=\"93.9375\"/></a><!--MD5=[209b3feb70ccb6233bfe1053d122c12c]\n",
       "reverse link E2 to E3--><a href=\"psysml:057e15e5-e107-41c4-afdf-3f2cc89f9205\" target=\"_top\" title=\"psysml:057e15e5-e107-41c4-afdf-3f2cc89f9205\" xlink:actuate=\"onRequest\" xlink:href=\"psysml:057e15e5-e107-41c4-afdf-3f2cc89f9205\" xlink:show=\"new\" xlink:title=\"psysml:057e15e5-e107-41c4-afdf-3f2cc89f9205\" xlink:type=\"simple\"><path d=\"M268.42,79 C283.4,79 300.14,79 315.9,79 \" fill=\"none\" id=\"E2&lt;-E3\" style=\"stroke: #383838; stroke-width: 1.0;\"/><polygon fill=\"#383838\" points=\"255.23,79,261.23,83,267.23,79,261.23,75,255.23,79\" style=\"stroke: #383838; stroke-width: 1.0;\"/><text fill=\"#000000\" font-family=\"sans-serif\" font-size=\"13\" lengthAdjust=\"spacingAndGlyphs\" textLength=\"7\" x=\"300.905\" y=\"91.9929\">*</text></a><!--MD5=[ddeed8deb2209213b62e6cfabaa108b2]\n",
       "reverse link E4 to E2--><a href=\"psysml:aadc07b0-b627-4a1c-8a0b-7e2bc77ad3c9\" target=\"_top\" title=\"psysml:aadc07b0-b627-4a1c-8a0b-7e2bc77ad3c9\" xlink:actuate=\"onRequest\" xlink:href=\"psysml:aadc07b0-b627-4a1c-8a0b-7e2bc77ad3c9\" xlink:show=\"new\" xlink:title=\"psysml:aadc07b0-b627-4a1c-8a0b-7e2bc77ad3c9\" xlink:type=\"simple\"><path d=\"M128.5,79 C147.04,79 167.28,79 183.86,79 \" fill=\"none\" id=\"E4&lt;-E2\" style=\"stroke: #383838; stroke-width: 1.0;\"/><polygon fill=\"#FFFFFF\" points=\"115.38,79,121.38,83,127.38,79,121.38,75,115.38,79\" style=\"stroke: #383838; stroke-width: 1.0;\"/><text fill=\"#000000\" font-family=\"sans-serif\" font-size=\"13\" lengthAdjust=\"spacingAndGlyphs\" textLength=\"7\" x=\"146\" y=\"75.0669\">c</text></a><!--MD5=[163a3bd712f659c3634e5e886a7ec89d]\n",
       "@startuml\r\n",
       "left to right direction\r\n",
       "skinparam monochrome true\r\n",
       "skinparam classbackgroundcolor white\r\n",
       "skinparam shadowing false\r\n",
       "skinparam wrapWidth 300\r\n",
       "hide circle\r\n",
       "\r\n",
       "package \"TextualRepresentationTest\" as E1  [[psysml:44d40611-a894-4dae-a2f2-eb4bbba313e0 ]]  {\r\n",
       "comp def \"C\" as E2  <<(T,blue) item  def>> [[psysml:4aee70d7-2b51-44ea-8f07-d2f5d32d40ea ]] {\r\n",
       "- - attributes - -\r\n",
       "x: Real\r\n",
       "}\r\n",
       "comp usage \"x_constraint \" as E3  <<(T,blue) assert constraint>> [[psysml:4e46f6e8-5c68-4c27-8860-5a5208ef4b7d ]] {\r\n",
       "}\r\n",
       "comp def \"setX\" as E4  <<(T,blue) action  def>> [[psysml:6b33d7d4-0403-4693-aa76-fb8d39622677 ]] {\r\n",
       "}\r\n",
       "}\r\n",
       "E2 *- - \"*\"E3 [[psysml:057e15e5-e107-41c4-afdf-3f2cc89f9205 ]] \r\n",
       "E4 o- - E2 [[psysml:aadc07b0-b627-4a1c-8a0b-7e2bc77ad3c9 ]] : c\r\n",
       "@enduml\r\n",
       "\n",
       "PlantUML version 1.2020.13(Sat Jun 13 12:26:38 UTC 2020)\n",
       "(EPL source distribution)\n",
       "Java Runtime: OpenJDK Runtime Environment\n",
       "JVM: OpenJDK 64-Bit Server VM\n",
       "Default Encoding: UTF-8\n",
       "Language: en\n",
       "Country: null\n",
       "--></g></svg>"
      ]
     },
     "execution_count": 17,
     "metadata": {},
     "output_type": "execute_result"
    }
   ],
   "source": [
    "%viz --style=\"LR\" --view=\"Tree\" \"TextualRepresentationTest\""
   ]
  },
  {
   "cell_type": "code",
   "execution_count": 18,
   "id": "fd09534c",
   "metadata": {
    "execution": {
     "iopub.execute_input": "2022-06-20T11:13:36.550639Z",
     "iopub.status.busy": "2022-06-20T11:13:36.550191Z",
     "iopub.status.idle": "2022-06-20T11:13:36.556425Z",
     "shell.execute_reply": "2022-06-20T11:13:36.556740Z"
    }
   },
   "outputs": [
    {
     "data": {
      "image/svg+xml": [
       "<?xml version=\"1.0\" encoding=\"UTF-8\" standalone=\"no\"?><svg xmlns=\"http://www.w3.org/2000/svg\" xmlns:xlink=\"http://www.w3.org/1999/xlink\" contentScriptType=\"application/ecmascript\" contentStyleType=\"text/css\" height=\"12px\" preserveAspectRatio=\"none\" style=\"width:12px;height:12px;\" version=\"1.1\" viewBox=\"0 0 12 12\" width=\"12px\" zoomAndPan=\"magnify\"><defs/><g><!--MD5=[19d285c9d72a204eba4e2cd117d745e8]\n",
       "@startuml\r\n",
       "left to right direction\r\n",
       "skinparam monochrome true\r\n",
       "skinparam classbackgroundcolor white\r\n",
       "skinparam shadowing false\r\n",
       "skinparam wrapWidth 300\r\n",
       "hide circle\r\n",
       "\r\n",
       "@enduml\r\n",
       "\n",
       "PlantUML version 1.2020.13(Sat Jun 13 12:26:38 UTC 2020)\n",
       "(EPL source distribution)\n",
       "Java Runtime: OpenJDK Runtime Environment\n",
       "JVM: OpenJDK 64-Bit Server VM\n",
       "Default Encoding: UTF-8\n",
       "Language: en\n",
       "Country: null\n",
       "--></g></svg>"
      ]
     },
     "execution_count": 18,
     "metadata": {},
     "output_type": "execute_result"
    }
   ],
   "source": [
    "%viz --style=\"LR\" --view=\"State\" \"TextualRepresentationTest\""
   ]
  },
  {
   "cell_type": "code",
   "execution_count": 19,
   "id": "f56556bb",
   "metadata": {
    "execution": {
     "iopub.execute_input": "2022-06-20T11:13:36.607085Z",
     "iopub.status.busy": "2022-06-20T11:13:36.606626Z",
     "iopub.status.idle": "2022-06-20T11:13:36.637407Z",
     "shell.execute_reply": "2022-06-20T11:13:36.636817Z"
    }
   },
   "outputs": [
    {
     "data": {
      "image/svg+xml": [
       "<?xml version=\"1.0\" encoding=\"UTF-8\" standalone=\"no\"?><svg xmlns=\"http://www.w3.org/2000/svg\" xmlns:xlink=\"http://www.w3.org/1999/xlink\" contentScriptType=\"application/ecmascript\" contentStyleType=\"text/css\" height=\"215px\" preserveAspectRatio=\"none\" style=\"width:284px;height:215px;\" version=\"1.1\" viewBox=\"0 0 284 215\" width=\"284px\" zoomAndPan=\"magnify\"><defs/><g><!--MD5=[fbc87193dbaf4d95561dea2c320d4a47]\n",
       "cluster E1--><a href=\"psysml:44d40611-a894-4dae-a2f2-eb4bbba313e0\" target=\"_top\" title=\"psysml:44d40611-a894-4dae-a2f2-eb4bbba313e0\" xlink:actuate=\"onRequest\" xlink:href=\"psysml:44d40611-a894-4dae-a2f2-eb4bbba313e0\" xlink:show=\"new\" xlink:title=\"psysml:44d40611-a894-4dae-a2f2-eb4bbba313e0\" xlink:type=\"simple\"><polygon fill=\"#FFFFFF\" points=\"16,6,210,6,217,28.2969,262,28.2969,262,203,16,203,16,6\" style=\"stroke: #000000; stroke-width: 1.5;\"/><line style=\"stroke: #000000; stroke-width: 1.5;\" x1=\"16\" x2=\"217\" y1=\"28.2969\" y2=\"28.2969\"/><text fill=\"#000000\" font-family=\"sans-serif\" font-size=\"14\" font-weight=\"bold\" lengthAdjust=\"spacingAndGlyphs\" textLength=\"188\" x=\"20\" y=\"20.9951\">TextualRepresentationTest</text></a><!--MD5=[d5e69f78d87373223dbae638b30a9c99]\n",
       "cluster E3--><a href=\"psysml:6b33d7d4-0403-4693-aa76-fb8d39622677\" target=\"_top\" title=\"psysml:6b33d7d4-0403-4693-aa76-fb8d39622677\" xlink:actuate=\"onRequest\" xlink:href=\"psysml:6b33d7d4-0403-4693-aa76-fb8d39622677\" xlink:show=\"new\" xlink:title=\"psysml:6b33d7d4-0403-4693-aa76-fb8d39622677\" xlink:type=\"simple\"><rect fill=\"#FFFFFF\" height=\"47\" id=\"E3\" style=\"stroke: #383838; stroke-width: 1.5;\" width=\"194\" x=\"52\" y=\"55\"/><rect fill=\"#F8F8F8\" height=\"37.9375\" style=\"stroke: #383838; stroke-width: 1.5;\" width=\"194\" x=\"52\" y=\"55\"/><text fill=\"#000000\" font-family=\"sans-serif\" font-size=\"12\" font-style=\"italic\" lengthAdjust=\"spacingAndGlyphs\" textLength=\"81\" x=\"108.5\" y=\"71.1387\">«action  def»</text><text fill=\"#000000\" font-family=\"sans-serif\" font-size=\"12\" lengthAdjust=\"spacingAndGlyphs\" textLength=\"27\" x=\"135.5\" y=\"85.1074\">setX</text></a><g id=\"E1.E2\"><a href=\"psysml:4aee70d7-2b51-44ea-8f07-d2f5d32d40ea\" target=\"_top\" title=\"psysml:4aee70d7-2b51-44ea-8f07-d2f5d32d40ea\" xlink:actuate=\"onRequest\" xlink:href=\"psysml:4aee70d7-2b51-44ea-8f07-d2f5d32d40ea\" xlink:show=\"new\" xlink:title=\"psysml:4aee70d7-2b51-44ea-8f07-d2f5d32d40ea\" xlink:type=\"simple\"><rect fill=\"#FFFFFF\" height=\"42.9375\" id=\"E2\" style=\"stroke: #383838; stroke-width: 1.5;\" width=\"76\" x=\"32\" y=\"143.5\"/><rect fill=\"#F8F8F8\" height=\"37.9375\" style=\"stroke: #383838; stroke-width: 1.5;\" width=\"76\" x=\"32\" y=\"143.5\"/><text fill=\"#000000\" font-family=\"sans-serif\" font-size=\"12\" font-style=\"italic\" lengthAdjust=\"spacingAndGlyphs\" textLength=\"69\" x=\"35.5\" y=\"159.6387\">«item  def»</text><text fill=\"#000000\" font-family=\"sans-serif\" font-size=\"12\" lengthAdjust=\"spacingAndGlyphs\" textLength=\"8\" x=\"66\" y=\"173.6074\">C</text></a></g><text fill=\"#000000\" font-family=\"sans-serif\" font-size=\"14\" lengthAdjust=\"spacingAndGlyphs\" textLength=\"8\" x=\"66\" y=\"120.9951\">c</text><rect fill=\"#383838\" height=\"12\" style=\"stroke: #F8F8F8; stroke-width: 1.5;\" width=\"12\" x=\"64\" y=\"96\"/><text fill=\"#000000\" font-family=\"sans-serif\" font-size=\"14\" lengthAdjust=\"spacingAndGlyphs\" textLength=\"38\" x=\"51\" y=\"33.6982\">newX</text><rect fill=\"#383838\" height=\"12\" style=\"stroke: #F8F8F8; stroke-width: 1.5;\" width=\"12\" x=\"64\" y=\"49\"/><!--MD5=[135aae1ac3e2cc8d4ea5f74e4d377524]\n",
       "@startuml\r\n",
       "skinparam ranksep 10\r\n",
       "skinparam rectangle {\r\n",
       " backgroundColor<<block>> LightGreen\r\n",
       "}\r\n",
       "left to right direction\r\n",
       "skinparam monochrome true\r\n",
       "skinparam classbackgroundcolor white\r\n",
       "skinparam shadowing false\r\n",
       "skinparam wrapWidth 300\r\n",
       "hide circle\r\n",
       "\r\n",
       "package \"TextualRepresentationTest\" as E1  [[psysml:44d40611-a894-4dae-a2f2-eb4bbba313e0 ]]  {\r\n",
       "def \"C\" as E2  <<(T,blue) item  def>> [[psysml:4aee70d7-2b51-44ea-8f07-d2f5d32d40ea ]] \r\n",
       "rec def \"setX\" as E3  <<(T,blue) action  def>> [[psysml:6b33d7d4-0403-4693-aa76-fb8d39622677 ]] {\r\n",
       "portin \"c\" as E4  [[psysml:aadc07b0-b627-4a1c-8a0b-7e2bc77ad3c9 ]] \r\n",
       "portin \"newX\" as E5  [[psysml:a8b47a70-45ce-488b-ad71-695ba05ffc83 ]] \r\n",
       "}\r\n",
       "\r\n",
       "}\r\n",
       "@enduml\r\n",
       "\n",
       "PlantUML version 1.2020.13(Sat Jun 13 12:26:38 UTC 2020)\n",
       "(EPL source distribution)\n",
       "Java Runtime: OpenJDK Runtime Environment\n",
       "JVM: OpenJDK 64-Bit Server VM\n",
       "Default Encoding: UTF-8\n",
       "Language: en\n",
       "Country: null\n",
       "--></g></svg>"
      ]
     },
     "execution_count": 19,
     "metadata": {},
     "output_type": "execute_result"
    }
   ],
   "source": [
    "%viz --style=\"LR\" --view=\"Interconnection\" \"TextualRepresentationTest\""
   ]
  },
  {
   "cell_type": "code",
   "execution_count": 20,
   "id": "b122fa73",
   "metadata": {
    "execution": {
     "iopub.execute_input": "2022-06-20T11:13:36.686569Z",
     "iopub.status.busy": "2022-06-20T11:13:36.686093Z",
     "iopub.status.idle": "2022-06-20T11:13:36.709643Z",
     "shell.execute_reply": "2022-06-20T11:13:36.709963Z"
    }
   },
   "outputs": [
    {
     "data": {
      "image/svg+xml": [
       "<?xml version=\"1.0\" encoding=\"UTF-8\" standalone=\"no\"?><svg xmlns=\"http://www.w3.org/2000/svg\" xmlns:xlink=\"http://www.w3.org/1999/xlink\" contentScriptType=\"application/ecmascript\" contentStyleType=\"text/css\" height=\"121px\" preserveAspectRatio=\"none\" style=\"width:180px;height:121px;\" version=\"1.1\" viewBox=\"0 0 180 121\" width=\"180px\" zoomAndPan=\"magnify\"><defs/><g><!--MD5=[fbc87193dbaf4d95561dea2c320d4a47]\n",
       "cluster E1--><a href=\"psysml:6b33d7d4-0403-4693-aa76-fb8d39622677\" target=\"_top\" title=\"psysml:6b33d7d4-0403-4693-aa76-fb8d39622677\" xlink:actuate=\"onRequest\" xlink:href=\"psysml:6b33d7d4-0403-4693-aa76-fb8d39622677\" xlink:show=\"new\" xlink:title=\"psysml:6b33d7d4-0403-4693-aa76-fb8d39622677\" xlink:type=\"simple\"><rect fill=\"#FFFFFF\" height=\"47\" id=\"E1\" style=\"stroke: #383838; stroke-width: 1.5;\" width=\"162\" x=\"7\" y=\"42.0986\"/><rect fill=\"#F8F8F8\" height=\"37.9375\" style=\"stroke: #383838; stroke-width: 1.5;\" width=\"162\" x=\"7\" y=\"42.0986\"/><text fill=\"#000000\" font-family=\"sans-serif\" font-size=\"12\" font-style=\"italic\" lengthAdjust=\"spacingAndGlyphs\" textLength=\"81\" x=\"47.5\" y=\"58.2373\">«action  def»</text><text fill=\"#000000\" font-family=\"sans-serif\" font-size=\"12\" lengthAdjust=\"spacingAndGlyphs\" textLength=\"27\" x=\"74.5\" y=\"72.2061\">setX</text></a><text fill=\"#000000\" font-family=\"sans-serif\" font-size=\"14\" lengthAdjust=\"spacingAndGlyphs\" textLength=\"8\" x=\"21\" y=\"108.0938\">c</text><rect fill=\"#383838\" height=\"12\" style=\"stroke: #F8F8F8; stroke-width: 1.5;\" width=\"12\" x=\"19\" y=\"83.0986\"/><text fill=\"#000000\" font-family=\"sans-serif\" font-size=\"14\" lengthAdjust=\"spacingAndGlyphs\" textLength=\"38\" x=\"6\" y=\"20.7969\">newX</text><rect fill=\"#383838\" height=\"12\" style=\"stroke: #F8F8F8; stroke-width: 1.5;\" width=\"12\" x=\"19\" y=\"36.0986\"/><!--MD5=[d38d5dd2bda4914631236ed08ac46b80]\n",
       "@startuml\r\n",
       "skinparam ranksep 8\r\n",
       "left to right direction\r\n",
       "skinparam monochrome true\r\n",
       "skinparam classbackgroundcolor white\r\n",
       "skinparam shadowing false\r\n",
       "skinparam wrapWidth 300\r\n",
       "hide circle\r\n",
       "\r\n",
       "rec def \"setX\" as E1  <<(T,blue) action  def>> [[psysml:6b33d7d4-0403-4693-aa76-fb8d39622677 ]] {\r\n",
       "portin \"c\" as E2  [[psysml:aadc07b0-b627-4a1c-8a0b-7e2bc77ad3c9 ]] \r\n",
       "portin \"newX\" as E3  [[psysml:a8b47a70-45ce-488b-ad71-695ba05ffc83 ]] \r\n",
       "}\r\n",
       "\r\n",
       "@enduml\r\n",
       "\n",
       "PlantUML version 1.2020.13(Sat Jun 13 12:26:38 UTC 2020)\n",
       "(EPL source distribution)\n",
       "Java Runtime: OpenJDK Runtime Environment\n",
       "JVM: OpenJDK 64-Bit Server VM\n",
       "Default Encoding: UTF-8\n",
       "Language: en\n",
       "Country: null\n",
       "--></g></svg>"
      ]
     },
     "execution_count": 20,
     "metadata": {},
     "output_type": "execute_result"
    }
   ],
   "source": [
    "%viz --style=\"LR\" --view=\"Action\" \"TextualRepresentationTest\""
   ]
  },
  {
   "cell_type": "code",
   "execution_count": 21,
   "id": "eff9e477",
   "metadata": {
    "execution": {
     "iopub.execute_input": "2022-06-20T11:13:36.759998Z",
     "iopub.status.busy": "2022-06-20T11:13:36.759553Z",
     "iopub.status.idle": "2022-06-20T11:13:36.765746Z",
     "shell.execute_reply": "2022-06-20T11:13:36.766059Z"
    }
   },
   "outputs": [
    {
     "data": {
      "image/svg+xml": [
       "<?xml version=\"1.0\" encoding=\"UTF-8\" standalone=\"no\"?><svg xmlns=\"http://www.w3.org/2000/svg\" xmlns:xlink=\"http://www.w3.org/1999/xlink\" contentScriptType=\"application/ecmascript\" contentStyleType=\"text/css\" height=\"12px\" preserveAspectRatio=\"none\" style=\"width:12px;height:12px;\" version=\"1.1\" viewBox=\"0 0 12 12\" width=\"12px\" zoomAndPan=\"magnify\"><defs/><g><!--MD5=[238c11ea2002f03115ad6b49a457d50e]\n",
       "@startuml\r\n",
       "skinparam roundcorner 20\r\n",
       "skinparam BoxPadding 20\r\n",
       "skinparam SequenceBoxBackgroundColor #white\r\n",
       "skinparam style strictuml\r\n",
       "skinparam maxMessageSize 100\r\n",
       "left to right direction\r\n",
       "skinparam monochrome true\r\n",
       "skinparam classbackgroundcolor white\r\n",
       "skinparam shadowing false\r\n",
       "skinparam wrapWidth 300\r\n",
       "hide circle\r\n",
       "\r\n",
       "@enduml\r\n",
       "\n",
       "PlantUML version 1.2020.13(Sat Jun 13 12:26:38 UTC 2020)\n",
       "(EPL source distribution)\n",
       "Java Runtime: OpenJDK Runtime Environment\n",
       "JVM: OpenJDK 64-Bit Server VM\n",
       "Default Encoding: UTF-8\n",
       "Language: en\n",
       "Country: null\n",
       "--></g></svg>"
      ]
     },
     "execution_count": 21,
     "metadata": {},
     "output_type": "execute_result"
    }
   ],
   "source": [
    "%viz --style=\"LR\" --view=\"Sequence\" \"TextualRepresentationTest\""
   ]
  },
  {
   "cell_type": "code",
   "execution_count": 22,
   "id": "5af1df65",
   "metadata": {
    "execution": {
     "iopub.execute_input": "2022-06-20T11:13:36.816306Z",
     "iopub.status.busy": "2022-06-20T11:13:36.815860Z",
     "iopub.status.idle": "2022-06-20T11:13:36.860319Z",
     "shell.execute_reply": "2022-06-20T11:13:36.859930Z"
    }
   },
   "outputs": [
    {
     "data": {
      "image/svg+xml": [
       "<?xml version=\"1.0\" encoding=\"UTF-8\" standalone=\"no\"?><svg xmlns=\"http://www.w3.org/2000/svg\" xmlns:xlink=\"http://www.w3.org/1999/xlink\" contentScriptType=\"application/ecmascript\" contentStyleType=\"text/css\" height=\"247px\" preserveAspectRatio=\"none\" style=\"width:332px;height:247px;\" version=\"1.1\" viewBox=\"0 0 332 247\" width=\"332px\" zoomAndPan=\"magnify\"><defs/><g><!--MD5=[fbc87193dbaf4d95561dea2c320d4a47]\n",
       "cluster E1--><a href=\"psysml:44d40611-a894-4dae-a2f2-eb4bbba313e0\" target=\"_top\" title=\"psysml:44d40611-a894-4dae-a2f2-eb4bbba313e0\" xlink:actuate=\"onRequest\" xlink:href=\"psysml:44d40611-a894-4dae-a2f2-eb4bbba313e0\" xlink:show=\"new\" xlink:title=\"psysml:44d40611-a894-4dae-a2f2-eb4bbba313e0\" xlink:type=\"simple\"><polygon fill=\"#FFFFFF\" points=\"16,6,210,6,217,28.2969,310,28.2969,310,235,16,235,16,6\" style=\"stroke: #000000; stroke-width: 1.5;\"/><line style=\"stroke: #000000; stroke-width: 1.5;\" x1=\"16\" x2=\"217\" y1=\"28.2969\" y2=\"28.2969\"/><text fill=\"#000000\" font-family=\"sans-serif\" font-size=\"14\" font-weight=\"bold\" lengthAdjust=\"spacingAndGlyphs\" textLength=\"188\" x=\"20\" y=\"20.9951\">TextualRepresentationTest</text></a><!--MD5=[f6df4d0ebaf0b5dfb2ced0ae5af7c670]\n",
       "cluster E4--><a href=\"psysml:6b33d7d4-0403-4693-aa76-fb8d39622677\" target=\"_top\" title=\"psysml:6b33d7d4-0403-4693-aa76-fb8d39622677\" xlink:actuate=\"onRequest\" xlink:href=\"psysml:6b33d7d4-0403-4693-aa76-fb8d39622677\" xlink:show=\"new\" xlink:title=\"psysml:6b33d7d4-0403-4693-aa76-fb8d39622677\" xlink:type=\"simple\"><rect fill=\"#FFFFFF\" height=\"47\" id=\"E4\" style=\"stroke: #383838; stroke-width: 1.5;\" width=\"244.5\" x=\"49.5\" y=\"55\"/><rect fill=\"#F8F8F8\" height=\"37.9375\" style=\"stroke: #383838; stroke-width: 1.5;\" width=\"244.5\" x=\"49.5\" y=\"55\"/><text fill=\"#000000\" font-family=\"sans-serif\" font-size=\"12\" font-style=\"italic\" lengthAdjust=\"spacingAndGlyphs\" textLength=\"81\" x=\"131.25\" y=\"71.1387\">«action  def»</text><text fill=\"#000000\" font-family=\"sans-serif\" font-size=\"12\" lengthAdjust=\"spacingAndGlyphs\" textLength=\"27\" x=\"158.25\" y=\"85.1074\">setX</text></a><!--MD5=[b4997ac47864f28c2f74865a473b2911]\n",
       "class E2--><a href=\"psysml:4aee70d7-2b51-44ea-8f07-d2f5d32d40ea\" target=\"_top\" title=\"psysml:4aee70d7-2b51-44ea-8f07-d2f5d32d40ea\" xlink:actuate=\"onRequest\" xlink:href=\"psysml:4aee70d7-2b51-44ea-8f07-d2f5d32d40ea\" xlink:show=\"new\" xlink:title=\"psysml:4aee70d7-2b51-44ea-8f07-d2f5d32d40ea\" xlink:type=\"simple\"><rect fill=\"#FFFFFF\" height=\"75.5469\" id=\"E2\" style=\"stroke: #383838; stroke-width: 1.5;\" width=\"71\" x=\"32\" y=\"143\"/><text fill=\"#000000\" font-family=\"sans-serif\" font-size=\"12\" font-style=\"italic\" lengthAdjust=\"spacingAndGlyphs\" textLength=\"69\" x=\"33\" y=\"159.1387\">«item  def»</text><text fill=\"#000000\" font-family=\"sans-serif\" font-size=\"12\" lengthAdjust=\"spacingAndGlyphs\" textLength=\"8\" x=\"63.5\" y=\"173.1074\">C</text><line style=\"stroke: #383838; stroke-width: 1.5;\" x1=\"33\" x2=\"102\" y1=\"180.9375\" y2=\"180.9375\"/><text fill=\"#000000\" font-family=\"sans-serif\" font-size=\"11\" lengthAdjust=\"spacingAndGlyphs\" textLength=\"38\" x=\"38\" y=\"211.9526\">x: Real</text><line style=\"stroke: #383838; stroke-width: 1.0;\" x1=\"33\" x2=\"40\" y1=\"195.3398\" y2=\"195.3398\"/><text fill=\"#000000\" font-family=\"sans-serif\" font-size=\"11\" lengthAdjust=\"spacingAndGlyphs\" textLength=\"55\" x=\"40\" y=\"198.6479\">attributes</text><line style=\"stroke: #383838; stroke-width: 1.0;\" x1=\"95\" x2=\"102\" y1=\"195.3398\" y2=\"195.3398\"/></a><!--MD5=[09b614a08d8cba4a07c9adeb5e0fee81]\n",
       "class E3--><a href=\"psysml:4e46f6e8-5c68-4c27-8860-5a5208ef4b7d\" target=\"_top\" title=\"psysml:4e46f6e8-5c68-4c27-8860-5a5208ef4b7d\" xlink:actuate=\"onRequest\" xlink:href=\"psysml:4e46f6e8-5c68-4c27-8860-5a5208ef4b7d\" xlink:show=\"new\" xlink:title=\"psysml:4e46f6e8-5c68-4c27-8860-5a5208ef4b7d\" xlink:type=\"simple\"><rect fill=\"#FFFFFF\" height=\"45.9375\" id=\"E3\" rx=\"10\" ry=\"10\" style=\"stroke: #383838; stroke-width: 1.5;\" width=\"124\" x=\"163\" y=\"158\"/><text fill=\"#000000\" font-family=\"sans-serif\" font-size=\"12\" font-style=\"italic\" lengthAdjust=\"spacingAndGlyphs\" textLength=\"122\" x=\"164\" y=\"174.1387\">«assert constraint»</text><text fill=\"#000000\" font-family=\"sans-serif\" font-size=\"12\" lengthAdjust=\"spacingAndGlyphs\" textLength=\"76\" x=\"185\" y=\"188.1074\">x_constraint</text><line style=\"stroke: #383838; stroke-width: 1.5;\" x1=\"164\" x2=\"286\" y1=\"195.9375\" y2=\"195.9375\"/></a><text fill=\"#000000\" font-family=\"sans-serif\" font-size=\"14\" lengthAdjust=\"spacingAndGlyphs\" textLength=\"8\" x=\"63.5\" y=\"120.9951\">c</text><rect fill=\"#383838\" height=\"12\" style=\"stroke: #F8F8F8; stroke-width: 1.5;\" width=\"12\" x=\"61.5\" y=\"96\"/><text fill=\"#000000\" font-family=\"sans-serif\" font-size=\"14\" lengthAdjust=\"spacingAndGlyphs\" textLength=\"38\" x=\"48.5\" y=\"33.6982\">newX</text><rect fill=\"#383838\" height=\"12\" style=\"stroke: #F8F8F8; stroke-width: 1.5;\" width=\"12\" x=\"61.5\" y=\"49\"/><!--MD5=[209b3feb70ccb6233bfe1053d122c12c]\n",
       "reverse link E2 to E3--><a href=\"psysml:057e15e5-e107-41c4-afdf-3f2cc89f9205\" target=\"_top\" title=\"psysml:057e15e5-e107-41c4-afdf-3f2cc89f9205\" xlink:actuate=\"onRequest\" xlink:href=\"psysml:057e15e5-e107-41c4-afdf-3f2cc89f9205\" xlink:show=\"new\" xlink:title=\"psysml:057e15e5-e107-41c4-afdf-3f2cc89f9205\" xlink:type=\"simple\"><path d=\"M116.04,181 C130.85,181 147.38,181 162.98,181 \" fill=\"none\" id=\"E2&lt;-E3\" style=\"stroke: #383838; stroke-width: 1.0;\"/><polygon fill=\"#383838\" points=\"103.01,181,109.01,185,115.01,181,109.01,177,103.01,181\" style=\"stroke: #383838; stroke-width: 1.0;\"/><text fill=\"#000000\" font-family=\"sans-serif\" font-size=\"13\" lengthAdjust=\"spacingAndGlyphs\" textLength=\"7\" x=\"147.9947\" y=\"193.9929\">*</text></a><!--MD5=[58896519d7079eb9946a80c1d1697925]\n",
       "@startuml\r\n",
       "left to right direction\r\n",
       "skinparam monochrome true\r\n",
       "skinparam classbackgroundcolor white\r\n",
       "skinparam shadowing false\r\n",
       "skinparam wrapWidth 300\r\n",
       "hide circle\r\n",
       "\r\n",
       "package \"TextualRepresentationTest\" as E1  [[psysml:44d40611-a894-4dae-a2f2-eb4bbba313e0 ]]  {\r\n",
       "comp def \"C\" as E2  <<(T,blue) item  def>> [[psysml:4aee70d7-2b51-44ea-8f07-d2f5d32d40ea ]] {\r\n",
       "- - attributes - -\r\n",
       "x: Real\r\n",
       "}\r\n",
       "comp usage \"x_constraint \" as E3  <<(T,blue) assert constraint>> [[psysml:4e46f6e8-5c68-4c27-8860-5a5208ef4b7d ]] {\r\n",
       "}\r\n",
       "rec def \"setX\" as E4  <<(T,blue) action  def>> [[psysml:6b33d7d4-0403-4693-aa76-fb8d39622677 ]] {\r\n",
       "portin \"c\" as E5  [[psysml:aadc07b0-b627-4a1c-8a0b-7e2bc77ad3c9 ]] \r\n",
       "portin \"newX\" as E6  [[psysml:a8b47a70-45ce-488b-ad71-695ba05ffc83 ]] \r\n",
       "}\r\n",
       "\r\n",
       "}\r\n",
       "E2 *- - \"*\"E3 [[psysml:057e15e5-e107-41c4-afdf-3f2cc89f9205 ]] \r\n",
       "@enduml\r\n",
       "\n",
       "PlantUML version 1.2020.13(Sat Jun 13 12:26:38 UTC 2020)\n",
       "(EPL source distribution)\n",
       "Java Runtime: OpenJDK Runtime Environment\n",
       "JVM: OpenJDK 64-Bit Server VM\n",
       "Default Encoding: UTF-8\n",
       "Language: en\n",
       "Country: null\n",
       "--></g></svg>"
      ]
     },
     "execution_count": 22,
     "metadata": {},
     "output_type": "execute_result"
    }
   ],
   "source": [
    "%viz --style=\"LR\" --view=\"MIXED\" \"TextualRepresentationTest\""
   ]
  },
  {
   "cell_type": "code",
   "execution_count": 23,
   "id": "4f2ed73d",
   "metadata": {
    "execution": {
     "iopub.execute_input": "2022-06-20T11:13:36.910362Z",
     "iopub.status.busy": "2022-06-20T11:13:36.909906Z",
     "iopub.status.idle": "2022-06-20T11:13:36.953474Z",
     "shell.execute_reply": "2022-06-20T11:13:36.953071Z"
    }
   },
   "outputs": [
    {
     "data": {
      "image/svg+xml": [
       "<?xml version=\"1.0\" encoding=\"UTF-8\" standalone=\"no\"?><svg xmlns=\"http://www.w3.org/2000/svg\" xmlns:xlink=\"http://www.w3.org/1999/xlink\" contentScriptType=\"application/ecmascript\" contentStyleType=\"text/css\" height=\"261px\" preserveAspectRatio=\"none\" style=\"width:351px;height:261px;\" version=\"1.1\" viewBox=\"0 0 351 261\" width=\"351px\" zoomAndPan=\"magnify\"><defs><filter height=\"300%\" id=\"f165dpjbnexezz\" width=\"300%\" x=\"-1\" y=\"-1\"><feGaussianBlur result=\"blurOut\" stdDeviation=\"2.0\"/><feColorMatrix in=\"blurOut\" result=\"blurOut2\" type=\"matrix\" values=\"0 0 0 0 0 0 0 0 0 0 0 0 0 0 0 0 0 0 .4 0\"/><feOffset dx=\"4.0\" dy=\"4.0\" in=\"blurOut2\" result=\"blurOut3\"/><feBlend in=\"SourceGraphic\" in2=\"blurOut3\" mode=\"normal\"/></filter></defs><g><!--MD5=[fbc87193dbaf4d95561dea2c320d4a47]\n",
       "cluster E1--><a href=\"psysml:44d40611-a894-4dae-a2f2-eb4bbba313e0\" target=\"_top\" title=\"psysml:44d40611-a894-4dae-a2f2-eb4bbba313e0\" xlink:actuate=\"onRequest\" xlink:href=\"psysml:44d40611-a894-4dae-a2f2-eb4bbba313e0\" xlink:show=\"new\" xlink:title=\"psysml:44d40611-a894-4dae-a2f2-eb4bbba313e0\" xlink:type=\"simple\"><polygon fill=\"#FFFFFF\" filter=\"url(#f165dpjbnexezz)\" points=\"16,6,210,6,217,28.2969,329,28.2969,329,249.5,16,249.5,16,6\" style=\"stroke: #000000; stroke-width: 1.5;\"/><line style=\"stroke: #000000; stroke-width: 1.5;\" x1=\"16\" x2=\"217\" y1=\"28.2969\" y2=\"28.2969\"/><text fill=\"#000000\" font-family=\"sans-serif\" font-size=\"14\" font-weight=\"bold\" lengthAdjust=\"spacingAndGlyphs\" textLength=\"188\" x=\"20\" y=\"20.9951\">TextualRepresentationTest</text></a><!--MD5=[f6df4d0ebaf0b5dfb2ced0ae5af7c670]\n",
       "cluster E4--><a href=\"psysml:6b33d7d4-0403-4693-aa76-fb8d39622677\" target=\"_top\" title=\"psysml:6b33d7d4-0403-4693-aa76-fb8d39622677\" xlink:actuate=\"onRequest\" xlink:href=\"psysml:6b33d7d4-0403-4693-aa76-fb8d39622677\" xlink:show=\"new\" xlink:title=\"psysml:6b33d7d4-0403-4693-aa76-fb8d39622677\" xlink:type=\"simple\"><rect fill=\"#FFFFFF\" filter=\"url(#f165dpjbnexezz)\" height=\"154.5\" id=\"E4\" style=\"stroke: #A80036; stroke-width: 1.5;\" width=\"134\" x=\"179\" y=\"79\"/><rect fill=\"#FEFECE\" height=\"37.9375\" style=\"stroke: #A80036; stroke-width: 1.5;\" width=\"134\" x=\"179\" y=\"79\"/><text fill=\"#000000\" font-family=\"sans-serif\" font-size=\"12\" font-style=\"italic\" lengthAdjust=\"spacingAndGlyphs\" textLength=\"81\" x=\"205.5\" y=\"95.1387\">«action  def»</text><text fill=\"#000000\" font-family=\"sans-serif\" font-size=\"12\" lengthAdjust=\"spacingAndGlyphs\" textLength=\"27\" x=\"232.5\" y=\"109.1074\">setX</text></a><!--MD5=[b4997ac47864f28c2f74865a473b2911]\n",
       "class E2--><a href=\"psysml:4aee70d7-2b51-44ea-8f07-d2f5d32d40ea\" target=\"_top\" title=\"psysml:4aee70d7-2b51-44ea-8f07-d2f5d32d40ea\" xlink:actuate=\"onRequest\" xlink:href=\"psysml:4aee70d7-2b51-44ea-8f07-d2f5d32d40ea\" xlink:show=\"new\" xlink:title=\"psysml:4aee70d7-2b51-44ea-8f07-d2f5d32d40ea\" xlink:type=\"simple\"><rect fill=\"#FEFECE\" filter=\"url(#f165dpjbnexezz)\" height=\"75.5469\" id=\"E2\" style=\"stroke: #A80036; stroke-width: 1.5;\" width=\"71\" x=\"58.5\" y=\"41\"/><text fill=\"#000000\" font-family=\"sans-serif\" font-size=\"12\" font-style=\"italic\" lengthAdjust=\"spacingAndGlyphs\" textLength=\"69\" x=\"59.5\" y=\"57.1387\">«item  def»</text><text fill=\"#000000\" font-family=\"sans-serif\" font-size=\"12\" lengthAdjust=\"spacingAndGlyphs\" textLength=\"8\" x=\"90\" y=\"71.1074\">C</text><line style=\"stroke: #A80036; stroke-width: 1.5;\" x1=\"59.5\" x2=\"128.5\" y1=\"78.9375\" y2=\"78.9375\"/><text fill=\"#000000\" font-family=\"sans-serif\" font-size=\"11\" lengthAdjust=\"spacingAndGlyphs\" textLength=\"38\" x=\"64.5\" y=\"109.9526\">x: Real</text><line style=\"stroke: #A80036; stroke-width: 1.0;\" x1=\"59.5\" x2=\"66.5\" y1=\"93.3398\" y2=\"93.3398\"/><text fill=\"#000000\" font-family=\"sans-serif\" font-size=\"11\" lengthAdjust=\"spacingAndGlyphs\" textLength=\"55\" x=\"66.5\" y=\"96.6479\">attributes</text><line style=\"stroke: #A80036; stroke-width: 1.0;\" x1=\"121.5\" x2=\"128.5\" y1=\"93.3398\" y2=\"93.3398\"/></a><!--MD5=[09b614a08d8cba4a07c9adeb5e0fee81]\n",
       "class E3--><a href=\"psysml:4e46f6e8-5c68-4c27-8860-5a5208ef4b7d\" target=\"_top\" title=\"psysml:4e46f6e8-5c68-4c27-8860-5a5208ef4b7d\" xlink:actuate=\"onRequest\" xlink:href=\"psysml:4e46f6e8-5c68-4c27-8860-5a5208ef4b7d\" xlink:show=\"new\" xlink:title=\"psysml:4e46f6e8-5c68-4c27-8860-5a5208ef4b7d\" xlink:type=\"simple\"><rect fill=\"#FEFECE\" filter=\"url(#f165dpjbnexezz)\" height=\"45.9375\" id=\"E3\" rx=\"10\" ry=\"10\" style=\"stroke: #A80036; stroke-width: 1.5;\" width=\"124\" x=\"32\" y=\"177\"/><text fill=\"#000000\" font-family=\"sans-serif\" font-size=\"12\" font-style=\"italic\" lengthAdjust=\"spacingAndGlyphs\" textLength=\"122\" x=\"33\" y=\"193.1387\">«assert constraint»</text><text fill=\"#000000\" font-family=\"sans-serif\" font-size=\"12\" lengthAdjust=\"spacingAndGlyphs\" textLength=\"76\" x=\"54\" y=\"207.1074\">x_constraint</text><line style=\"stroke: #A80036; stroke-width: 1.5;\" x1=\"33\" x2=\"155\" y1=\"214.9375\" y2=\"214.9375\"/></a><text fill=\"#000000\" font-family=\"sans-serif\" font-size=\"14\" lengthAdjust=\"spacingAndGlyphs\" textLength=\"8\" x=\"193\" y=\"57.6982\">c</text><rect fill=\"#A80036\" height=\"12\" style=\"stroke: #FEFECE; stroke-width: 1.5;\" width=\"12\" x=\"191\" y=\"73\"/><text fill=\"#000000\" font-family=\"sans-serif\" font-size=\"14\" lengthAdjust=\"spacingAndGlyphs\" textLength=\"38\" x=\"225\" y=\"57.6982\">newX</text><rect fill=\"#A80036\" height=\"12\" style=\"stroke: #FEFECE; stroke-width: 1.5;\" width=\"12\" x=\"238\" y=\"73\"/><!--MD5=[209b3feb70ccb6233bfe1053d122c12c]\n",
       "reverse link E2 to E3--><a href=\"psysml:057e15e5-e107-41c4-afdf-3f2cc89f9205\" target=\"_top\" title=\"psysml:057e15e5-e107-41c4-afdf-3f2cc89f9205\" xlink:actuate=\"onRequest\" xlink:href=\"psysml:057e15e5-e107-41c4-afdf-3f2cc89f9205\" xlink:show=\"new\" xlink:title=\"psysml:057e15e5-e107-41c4-afdf-3f2cc89f9205\" xlink:type=\"simple\"><path d=\"M94,130.34 C94,146.61 94,163.81 94,176.93 \" fill=\"none\" id=\"E2&lt;-E3\" style=\"stroke: #A80036; stroke-width: 1.0;\"/><polygon fill=\"#A80036\" points=\"94,117,90,123,94,129,98,123,94,117\" style=\"stroke: #A80036; stroke-width: 1.0;\"/><text fill=\"#000000\" font-family=\"sans-serif\" font-size=\"13\" lengthAdjust=\"spacingAndGlyphs\" textLength=\"7\" x=\"86.0594\" y=\"165.8075\">*</text></a><!--MD5=[1dfad1329dfb20c906cec00755d0e466]\n",
       "@startuml\r\n",
       "skinparam wrapWidth 300\r\n",
       "hide circle\r\n",
       "\r\n",
       "package \"TextualRepresentationTest\" as E1  [[psysml:44d40611-a894-4dae-a2f2-eb4bbba313e0 ]]  {\r\n",
       "comp def \"C\" as E2  <<(T,blue) item  def>> [[psysml:4aee70d7-2b51-44ea-8f07-d2f5d32d40ea ]] {\r\n",
       "- - attributes - -\r\n",
       "x: Real\r\n",
       "}\r\n",
       "comp usage \"x_constraint \" as E3  <<(T,blue) assert constraint>> [[psysml:4e46f6e8-5c68-4c27-8860-5a5208ef4b7d ]] {\r\n",
       "}\r\n",
       "rec def \"setX\" as E4  <<(T,blue) action  def>> [[psysml:6b33d7d4-0403-4693-aa76-fb8d39622677 ]] {\r\n",
       "portin \"c\" as E5  [[psysml:aadc07b0-b627-4a1c-8a0b-7e2bc77ad3c9 ]] \r\n",
       "portin \"newX\" as E6  [[psysml:a8b47a70-45ce-488b-ad71-695ba05ffc83 ]] \r\n",
       "}\r\n",
       "\r\n",
       "}\r\n",
       "E2 *- - \"*\"E3 [[psysml:057e15e5-e107-41c4-afdf-3f2cc89f9205 ]] \r\n",
       "@enduml\r\n",
       "\n",
       "PlantUML version 1.2020.13(Sat Jun 13 12:26:38 UTC 2020)\n",
       "(EPL source distribution)\n",
       "Java Runtime: OpenJDK Runtime Environment\n",
       "JVM: OpenJDK 64-Bit Server VM\n",
       "Default Encoding: UTF-8\n",
       "Language: en\n",
       "Country: null\n",
       "--></g></svg>"
      ]
     },
     "execution_count": 23,
     "metadata": {},
     "output_type": "execute_result"
    }
   ],
   "source": [
    "%viz --style=\"STDCOLOR\" --view=\"Default\" \"TextualRepresentationTest\""
   ]
  },
  {
   "cell_type": "code",
   "execution_count": 24,
   "id": "2252f8f9",
   "metadata": {
    "execution": {
     "iopub.execute_input": "2022-06-20T11:13:37.003556Z",
     "iopub.status.busy": "2022-06-20T11:13:37.003121Z",
     "iopub.status.idle": "2022-06-20T11:13:37.047629Z",
     "shell.execute_reply": "2022-06-20T11:13:37.047233Z"
    }
   },
   "outputs": [
    {
     "data": {
      "image/svg+xml": [
       "<?xml version=\"1.0\" encoding=\"UTF-8\" standalone=\"no\"?><svg xmlns=\"http://www.w3.org/2000/svg\" xmlns:xlink=\"http://www.w3.org/1999/xlink\" contentScriptType=\"application/ecmascript\" contentStyleType=\"text/css\" height=\"375px\" preserveAspectRatio=\"none\" style=\"width:242px;height:375px;\" version=\"1.1\" viewBox=\"0 0 242 375\" width=\"242px\" zoomAndPan=\"magnify\"><defs><filter height=\"300%\" id=\"f1hutpsb1ieo5w\" width=\"300%\" x=\"-1\" y=\"-1\"><feGaussianBlur result=\"blurOut\" stdDeviation=\"2.0\"/><feColorMatrix in=\"blurOut\" result=\"blurOut2\" type=\"matrix\" values=\"0 0 0 0 0 0 0 0 0 0 0 0 0 0 0 0 0 0 .4 0\"/><feOffset dx=\"4.0\" dy=\"4.0\" in=\"blurOut2\" result=\"blurOut3\"/><feBlend in=\"SourceGraphic\" in2=\"blurOut3\" mode=\"normal\"/></filter></defs><g><!--MD5=[fbc87193dbaf4d95561dea2c320d4a47]\n",
       "cluster E1--><a href=\"psysml:44d40611-a894-4dae-a2f2-eb4bbba313e0\" target=\"_top\" title=\"psysml:44d40611-a894-4dae-a2f2-eb4bbba313e0\" xlink:actuate=\"onRequest\" xlink:href=\"psysml:44d40611-a894-4dae-a2f2-eb4bbba313e0\" xlink:show=\"new\" xlink:title=\"psysml:44d40611-a894-4dae-a2f2-eb4bbba313e0\" xlink:type=\"simple\"><polygon fill=\"#FFFFFF\" filter=\"url(#f1hutpsb1ieo5w)\" points=\"16,6,210,6,217,28.2969,220,28.2969,220,363,16,363,16,6\" style=\"stroke: #000000; stroke-width: 1.5;\"/><line style=\"stroke: #000000; stroke-width: 1.5;\" x1=\"16\" x2=\"217\" y1=\"28.2969\" y2=\"28.2969\"/><text fill=\"#000000\" font-family=\"sans-serif\" font-size=\"14\" font-weight=\"bold\" lengthAdjust=\"spacingAndGlyphs\" textLength=\"188\" x=\"20\" y=\"20.9951\">TextualRepresentationTest</text></a><!--MD5=[b4997ac47864f28c2f74865a473b2911]\n",
       "class E2--><a href=\"psysml:4aee70d7-2b51-44ea-8f07-d2f5d32d40ea\" target=\"_top\" title=\"psysml:4aee70d7-2b51-44ea-8f07-d2f5d32d40ea\" xlink:actuate=\"onRequest\" xlink:href=\"psysml:4aee70d7-2b51-44ea-8f07-d2f5d32d40ea\" xlink:show=\"new\" xlink:title=\"psysml:4aee70d7-2b51-44ea-8f07-d2f5d32d40ea\" xlink:type=\"simple\"><rect fill=\"#FEFECE\" filter=\"url(#f1hutpsb1ieo5w)\" height=\"75.5469\" id=\"E2\" style=\"stroke: #A80036; stroke-width: 1.5;\" width=\"71\" x=\"82.5\" y=\"164\"/><text fill=\"#000000\" font-family=\"sans-serif\" font-size=\"12\" font-style=\"italic\" lengthAdjust=\"spacingAndGlyphs\" textLength=\"69\" x=\"83.5\" y=\"180.1387\">«item  def»</text><text fill=\"#000000\" font-family=\"sans-serif\" font-size=\"12\" lengthAdjust=\"spacingAndGlyphs\" textLength=\"8\" x=\"114\" y=\"194.1074\">C</text><line style=\"stroke: #A80036; stroke-width: 1.5;\" x1=\"83.5\" x2=\"152.5\" y1=\"201.9375\" y2=\"201.9375\"/><text fill=\"#000000\" font-family=\"sans-serif\" font-size=\"11\" lengthAdjust=\"spacingAndGlyphs\" textLength=\"38\" x=\"88.5\" y=\"232.9526\">x: Real</text><line style=\"stroke: #A80036; stroke-width: 1.0;\" x1=\"83.5\" x2=\"90.5\" y1=\"216.3398\" y2=\"216.3398\"/><text fill=\"#000000\" font-family=\"sans-serif\" font-size=\"11\" lengthAdjust=\"spacingAndGlyphs\" textLength=\"55\" x=\"90.5\" y=\"219.6479\">attributes</text><line style=\"stroke: #A80036; stroke-width: 1.0;\" x1=\"145.5\" x2=\"152.5\" y1=\"216.3398\" y2=\"216.3398\"/></a><!--MD5=[09b614a08d8cba4a07c9adeb5e0fee81]\n",
       "class E3--><a href=\"psysml:4e46f6e8-5c68-4c27-8860-5a5208ef4b7d\" target=\"_top\" title=\"psysml:4e46f6e8-5c68-4c27-8860-5a5208ef4b7d\" xlink:actuate=\"onRequest\" xlink:href=\"psysml:4e46f6e8-5c68-4c27-8860-5a5208ef4b7d\" xlink:show=\"new\" xlink:title=\"psysml:4e46f6e8-5c68-4c27-8860-5a5208ef4b7d\" xlink:type=\"simple\"><rect fill=\"#FEFECE\" filter=\"url(#f1hutpsb1ieo5w)\" height=\"45.9375\" id=\"E3\" rx=\"10\" ry=\"10\" style=\"stroke: #A80036; stroke-width: 1.5;\" width=\"124\" x=\"56\" y=\"301\"/><text fill=\"#000000\" font-family=\"sans-serif\" font-size=\"12\" font-style=\"italic\" lengthAdjust=\"spacingAndGlyphs\" textLength=\"122\" x=\"57\" y=\"317.1387\">«assert constraint»</text><text fill=\"#000000\" font-family=\"sans-serif\" font-size=\"12\" lengthAdjust=\"spacingAndGlyphs\" textLength=\"76\" x=\"78\" y=\"331.1074\">x_constraint</text><line style=\"stroke: #A80036; stroke-width: 1.5;\" x1=\"57\" x2=\"179\" y1=\"338.9375\" y2=\"338.9375\"/></a><!--MD5=[ebbe1d658d1005bcc118a6aa81145e00]\n",
       "class E4--><a href=\"psysml:6b33d7d4-0403-4693-aa76-fb8d39622677\" target=\"_top\" title=\"psysml:6b33d7d4-0403-4693-aa76-fb8d39622677\" xlink:actuate=\"onRequest\" xlink:href=\"psysml:6b33d7d4-0403-4693-aa76-fb8d39622677\" xlink:show=\"new\" xlink:title=\"psysml:6b33d7d4-0403-4693-aa76-fb8d39622677\" xlink:type=\"simple\"><rect fill=\"#FEFECE\" filter=\"url(#f1hutpsb1ieo5w)\" height=\"45.9375\" id=\"E4\" style=\"stroke: #A80036; stroke-width: 1.5;\" width=\"83\" x=\"76.5\" y=\"41\"/><text fill=\"#000000\" font-family=\"sans-serif\" font-size=\"12\" font-style=\"italic\" lengthAdjust=\"spacingAndGlyphs\" textLength=\"81\" x=\"77.5\" y=\"57.1387\">«action  def»</text><text fill=\"#000000\" font-family=\"sans-serif\" font-size=\"12\" lengthAdjust=\"spacingAndGlyphs\" textLength=\"27\" x=\"104.5\" y=\"71.1074\">setX</text><line style=\"stroke: #A80036; stroke-width: 1.5;\" x1=\"77.5\" x2=\"158.5\" y1=\"78.9375\" y2=\"78.9375\"/></a><!--MD5=[209b3feb70ccb6233bfe1053d122c12c]\n",
       "reverse link E2 to E3--><a href=\"psysml:057e15e5-e107-41c4-afdf-3f2cc89f9205\" target=\"_top\" title=\"psysml:057e15e5-e107-41c4-afdf-3f2cc89f9205\" xlink:actuate=\"onRequest\" xlink:href=\"psysml:057e15e5-e107-41c4-afdf-3f2cc89f9205\" xlink:show=\"new\" xlink:title=\"psysml:057e15e5-e107-41c4-afdf-3f2cc89f9205\" xlink:type=\"simple\"><path d=\"M118,253.76 C118,270.17 118,287.52 118,300.75 \" fill=\"none\" id=\"E2&lt;-E3\" style=\"stroke: #A80036; stroke-width: 1.0;\"/><polygon fill=\"#A80036\" points=\"118,240.31,114,246.31,118,252.31,122,246.31,118,240.31\" style=\"stroke: #A80036; stroke-width: 1.0;\"/><text fill=\"#000000\" font-family=\"sans-serif\" font-size=\"13\" lengthAdjust=\"spacingAndGlyphs\" textLength=\"7\" x=\"110.1031\" y=\"289.9622\">*</text></a><!--MD5=[ddeed8deb2209213b62e6cfabaa108b2]\n",
       "reverse link E4 to E2--><a href=\"psysml:aadc07b0-b627-4a1c-8a0b-7e2bc77ad3c9\" target=\"_top\" title=\"psysml:aadc07b0-b627-4a1c-8a0b-7e2bc77ad3c9\" xlink:actuate=\"onRequest\" xlink:href=\"psysml:aadc07b0-b627-4a1c-8a0b-7e2bc77ad3c9\" xlink:show=\"new\" xlink:title=\"psysml:aadc07b0-b627-4a1c-8a0b-7e2bc77ad3c9\" xlink:type=\"simple\"><path d=\"M118,100.42 C118,119.95 118,144.19 118,163.97 \" fill=\"none\" id=\"E4&lt;-E2\" style=\"stroke: #A80036; stroke-width: 1.0;\"/><polygon fill=\"#FFFFFF\" points=\"118,87.15,114,93.15,118,99.15,122,93.15,118,87.15\" style=\"stroke: #A80036; stroke-width: 1.0;\"/><text fill=\"#000000\" font-family=\"sans-serif\" font-size=\"13\" lengthAdjust=\"spacingAndGlyphs\" textLength=\"7\" x=\"119\" y=\"130.0669\">c</text></a><!--MD5=[23dcacade2d36611a179b5a42155ab0a]\n",
       "@startuml\r\n",
       "skinparam wrapWidth 300\r\n",
       "hide circle\r\n",
       "\r\n",
       "package \"TextualRepresentationTest\" as E1  [[psysml:44d40611-a894-4dae-a2f2-eb4bbba313e0 ]]  {\r\n",
       "comp def \"C\" as E2  <<(T,blue) item  def>> [[psysml:4aee70d7-2b51-44ea-8f07-d2f5d32d40ea ]] {\r\n",
       "- - attributes - -\r\n",
       "x: Real\r\n",
       "}\r\n",
       "comp usage \"x_constraint \" as E3  <<(T,blue) assert constraint>> [[psysml:4e46f6e8-5c68-4c27-8860-5a5208ef4b7d ]] {\r\n",
       "}\r\n",
       "comp def \"setX\" as E4  <<(T,blue) action  def>> [[psysml:6b33d7d4-0403-4693-aa76-fb8d39622677 ]] {\r\n",
       "}\r\n",
       "}\r\n",
       "E2 *- - \"*\"E3 [[psysml:057e15e5-e107-41c4-afdf-3f2cc89f9205 ]] \r\n",
       "E4 o- - E2 [[psysml:aadc07b0-b627-4a1c-8a0b-7e2bc77ad3c9 ]] : c\r\n",
       "@enduml\r\n",
       "\n",
       "PlantUML version 1.2020.13(Sat Jun 13 12:26:38 UTC 2020)\n",
       "(EPL source distribution)\n",
       "Java Runtime: OpenJDK Runtime Environment\n",
       "JVM: OpenJDK 64-Bit Server VM\n",
       "Default Encoding: UTF-8\n",
       "Language: en\n",
       "Country: null\n",
       "--></g></svg>"
      ]
     },
     "execution_count": 24,
     "metadata": {},
     "output_type": "execute_result"
    }
   ],
   "source": [
    "%viz --style=\"STDCOLOR\" --view=\"Tree\" \"TextualRepresentationTest\""
   ]
  },
  {
   "cell_type": "code",
   "execution_count": 25,
   "id": "1a6ae436",
   "metadata": {
    "execution": {
     "iopub.execute_input": "2022-06-20T11:13:37.097687Z",
     "iopub.status.busy": "2022-06-20T11:13:37.097245Z",
     "iopub.status.idle": "2022-06-20T11:13:37.102665Z",
     "shell.execute_reply": "2022-06-20T11:13:37.102977Z"
    }
   },
   "outputs": [
    {
     "data": {
      "image/svg+xml": [
       "<?xml version=\"1.0\" encoding=\"UTF-8\" standalone=\"no\"?><svg xmlns=\"http://www.w3.org/2000/svg\" xmlns:xlink=\"http://www.w3.org/1999/xlink\" contentScriptType=\"application/ecmascript\" contentStyleType=\"text/css\" height=\"12px\" preserveAspectRatio=\"none\" style=\"width:12px;height:12px;\" version=\"1.1\" viewBox=\"0 0 12 12\" width=\"12px\" zoomAndPan=\"magnify\"><defs/><g><!--MD5=[aeeef50f102b80d730deb6443d14f702]\n",
       "@startuml\r\n",
       "skinparam wrapWidth 300\r\n",
       "hide circle\r\n",
       "\r\n",
       "@enduml\r\n",
       "\n",
       "PlantUML version 1.2020.13(Sat Jun 13 12:26:38 UTC 2020)\n",
       "(EPL source distribution)\n",
       "Java Runtime: OpenJDK Runtime Environment\n",
       "JVM: OpenJDK 64-Bit Server VM\n",
       "Default Encoding: UTF-8\n",
       "Language: en\n",
       "Country: null\n",
       "--></g></svg>"
      ]
     },
     "execution_count": 25,
     "metadata": {},
     "output_type": "execute_result"
    }
   ],
   "source": [
    "%viz --style=\"STDCOLOR\" --view=\"State\" \"TextualRepresentationTest\""
   ]
  },
  {
   "cell_type": "code",
   "execution_count": 26,
   "id": "1f27d0c9",
   "metadata": {
    "execution": {
     "iopub.execute_input": "2022-06-20T11:13:37.153181Z",
     "iopub.status.busy": "2022-06-20T11:13:37.152740Z",
     "iopub.status.idle": "2022-06-20T11:13:37.180478Z",
     "shell.execute_reply": "2022-06-20T11:13:37.180771Z"
    }
   },
   "outputs": [
    {
     "data": {
      "image/svg+xml": [
       "<?xml version=\"1.0\" encoding=\"UTF-8\" standalone=\"no\"?><svg xmlns=\"http://www.w3.org/2000/svg\" xmlns:xlink=\"http://www.w3.org/1999/xlink\" contentScriptType=\"application/ecmascript\" contentStyleType=\"text/css\" height=\"179px\" preserveAspectRatio=\"none\" style=\"width:292px;height:179px;\" version=\"1.1\" viewBox=\"0 0 292 179\" width=\"292px\" zoomAndPan=\"magnify\"><defs><filter height=\"300%\" id=\"f1l3rq5vqcxhru\" width=\"300%\" x=\"-1\" y=\"-1\"><feGaussianBlur result=\"blurOut\" stdDeviation=\"2.0\"/><feColorMatrix in=\"blurOut\" result=\"blurOut2\" type=\"matrix\" values=\"0 0 0 0 0 0 0 0 0 0 0 0 0 0 0 0 0 0 .4 0\"/><feOffset dx=\"4.0\" dy=\"4.0\" in=\"blurOut2\" result=\"blurOut3\"/><feBlend in=\"SourceGraphic\" in2=\"blurOut3\" mode=\"normal\"/></filter></defs><g><!--MD5=[fbc87193dbaf4d95561dea2c320d4a47]\n",
       "cluster E1--><a href=\"psysml:44d40611-a894-4dae-a2f2-eb4bbba313e0\" target=\"_top\" title=\"psysml:44d40611-a894-4dae-a2f2-eb4bbba313e0\" xlink:actuate=\"onRequest\" xlink:href=\"psysml:44d40611-a894-4dae-a2f2-eb4bbba313e0\" xlink:show=\"new\" xlink:title=\"psysml:44d40611-a894-4dae-a2f2-eb4bbba313e0\" xlink:type=\"simple\"><polygon fill=\"#FFFFFF\" filter=\"url(#f1l3rq5vqcxhru)\" points=\"16,6,210,6,217,28.2969,270,28.2969,270,167,16,167,16,6\" style=\"stroke: #000000; stroke-width: 1.5;\"/><line style=\"stroke: #000000; stroke-width: 1.5;\" x1=\"16\" x2=\"217\" y1=\"28.2969\" y2=\"28.2969\"/><text fill=\"#000000\" font-family=\"sans-serif\" font-size=\"14\" font-weight=\"bold\" lengthAdjust=\"spacingAndGlyphs\" textLength=\"188\" x=\"20\" y=\"20.9951\">TextualRepresentationTest</text></a><!--MD5=[d5e69f78d87373223dbae638b30a9c99]\n",
       "cluster E3--><a href=\"psysml:6b33d7d4-0403-4693-aa76-fb8d39622677\" target=\"_top\" title=\"psysml:6b33d7d4-0403-4693-aa76-fb8d39622677\" xlink:actuate=\"onRequest\" xlink:href=\"psysml:6b33d7d4-0403-4693-aa76-fb8d39622677\" xlink:show=\"new\" xlink:title=\"psysml:6b33d7d4-0403-4693-aa76-fb8d39622677\" xlink:type=\"simple\"><rect fill=\"#FFFFFF\" filter=\"url(#f1l3rq5vqcxhru)\" height=\"88.5\" id=\"E3\" style=\"stroke: #A80036; stroke-width: 1.5;\" width=\"100\" x=\"122.5\" y=\"62.5\"/><rect fill=\"#FEFECE\" height=\"37.9375\" style=\"stroke: #A80036; stroke-width: 1.5;\" width=\"100\" x=\"122.5\" y=\"62.5\"/><text fill=\"#000000\" font-family=\"sans-serif\" font-size=\"12\" font-style=\"italic\" lengthAdjust=\"spacingAndGlyphs\" textLength=\"81\" x=\"132\" y=\"78.6387\">«action  def»</text><text fill=\"#000000\" font-family=\"sans-serif\" font-size=\"12\" lengthAdjust=\"spacingAndGlyphs\" textLength=\"27\" x=\"159\" y=\"92.6074\">setX</text></a><g id=\"E1.E2\"><a href=\"psysml:4aee70d7-2b51-44ea-8f07-d2f5d32d40ea\" target=\"_top\" title=\"psysml:4aee70d7-2b51-44ea-8f07-d2f5d32d40ea\" xlink:actuate=\"onRequest\" xlink:href=\"psysml:4aee70d7-2b51-44ea-8f07-d2f5d32d40ea\" xlink:show=\"new\" xlink:title=\"psysml:4aee70d7-2b51-44ea-8f07-d2f5d32d40ea\" xlink:type=\"simple\"><rect fill=\"#FEFECE\" filter=\"url(#f1l3rq5vqcxhru)\" height=\"42.9375\" id=\"E2\" style=\"stroke: #A80036; stroke-width: 1.5;\" width=\"76\" x=\"32\" y=\"41\"/><text fill=\"#000000\" font-family=\"sans-serif\" font-size=\"12\" font-style=\"italic\" lengthAdjust=\"spacingAndGlyphs\" textLength=\"69\" x=\"35.5\" y=\"57.1387\">«item  def»</text><text fill=\"#000000\" font-family=\"sans-serif\" font-size=\"12\" lengthAdjust=\"spacingAndGlyphs\" textLength=\"8\" x=\"66\" y=\"71.1074\">C</text></a></g><text fill=\"#000000\" font-family=\"sans-serif\" font-size=\"14\" lengthAdjust=\"spacingAndGlyphs\" textLength=\"8\" x=\"145\" y=\"41.1982\">c</text><rect fill=\"#A80036\" height=\"12\" style=\"stroke: #FEFECE; stroke-width: 1.5;\" width=\"12\" x=\"143\" y=\"56.5\"/><text fill=\"#000000\" font-family=\"sans-serif\" font-size=\"14\" lengthAdjust=\"spacingAndGlyphs\" textLength=\"38\" x=\"177\" y=\"41.1982\">newX</text><rect fill=\"#A80036\" height=\"12\" style=\"stroke: #FEFECE; stroke-width: 1.5;\" width=\"12\" x=\"190\" y=\"56.5\"/><!--MD5=[bfd94fbef7b9a04c536871893cddfc24]\n",
       "@startuml\r\n",
       "skinparam ranksep 10\r\n",
       "skinparam rectangle {\r\n",
       " backgroundColor<<block>> LightGreen\r\n",
       "}\r\n",
       "skinparam wrapWidth 300\r\n",
       "hide circle\r\n",
       "\r\n",
       "package \"TextualRepresentationTest\" as E1  [[psysml:44d40611-a894-4dae-a2f2-eb4bbba313e0 ]]  {\r\n",
       "def \"C\" as E2  <<(T,blue) item  def>> [[psysml:4aee70d7-2b51-44ea-8f07-d2f5d32d40ea ]] \r\n",
       "rec def \"setX\" as E3  <<(T,blue) action  def>> [[psysml:6b33d7d4-0403-4693-aa76-fb8d39622677 ]] {\r\n",
       "portin \"c\" as E4  [[psysml:aadc07b0-b627-4a1c-8a0b-7e2bc77ad3c9 ]] \r\n",
       "portin \"newX\" as E5  [[psysml:a8b47a70-45ce-488b-ad71-695ba05ffc83 ]] \r\n",
       "}\r\n",
       "\r\n",
       "}\r\n",
       "@enduml\r\n",
       "\n",
       "PlantUML version 1.2020.13(Sat Jun 13 12:26:38 UTC 2020)\n",
       "(EPL source distribution)\n",
       "Java Runtime: OpenJDK Runtime Environment\n",
       "JVM: OpenJDK 64-Bit Server VM\n",
       "Default Encoding: UTF-8\n",
       "Language: en\n",
       "Country: null\n",
       "--></g></svg>"
      ]
     },
     "execution_count": 26,
     "metadata": {},
     "output_type": "execute_result"
    }
   ],
   "source": [
    "%viz --style=\"STDCOLOR\" --view=\"Interconnection\" \"TextualRepresentationTest\""
   ]
  },
  {
   "cell_type": "code",
   "execution_count": 27,
   "id": "63967c95",
   "metadata": {
    "execution": {
     "iopub.execute_input": "2022-06-20T11:13:37.230758Z",
     "iopub.status.busy": "2022-06-20T11:13:37.230319Z",
     "iopub.status.idle": "2022-06-20T11:13:37.252987Z",
     "shell.execute_reply": "2022-06-20T11:13:37.252604Z"
    }
   },
   "outputs": [
    {
     "data": {
      "image/svg+xml": [
       "<?xml version=\"1.0\" encoding=\"UTF-8\" standalone=\"no\"?><svg xmlns=\"http://www.w3.org/2000/svg\" xmlns:xlink=\"http://www.w3.org/1999/xlink\" contentScriptType=\"application/ecmascript\" contentStyleType=\"text/css\" height=\"134px\" preserveAspectRatio=\"none\" style=\"width:160px;height:134px;\" version=\"1.1\" viewBox=\"0 0 160 134\" width=\"160px\" zoomAndPan=\"magnify\"><defs><filter height=\"300%\" id=\"f162unemrfmdze\" width=\"300%\" x=\"-1\" y=\"-1\"><feGaussianBlur result=\"blurOut\" stdDeviation=\"2.0\"/><feColorMatrix in=\"blurOut\" result=\"blurOut2\" type=\"matrix\" values=\"0 0 0 0 0 0 0 0 0 0 0 0 0 0 0 0 0 0 .4 0\"/><feOffset dx=\"4.0\" dy=\"4.0\" in=\"blurOut2\" result=\"blurOut3\"/><feBlend in=\"SourceGraphic\" in2=\"blurOut3\" mode=\"normal\"/></filter></defs><g><!--MD5=[fbc87193dbaf4d95561dea2c320d4a47]\n",
       "cluster E1--><a href=\"psysml:6b33d7d4-0403-4693-aa76-fb8d39622677\" target=\"_top\" title=\"psysml:6b33d7d4-0403-4693-aa76-fb8d39622677\" xlink:actuate=\"onRequest\" xlink:href=\"psysml:6b33d7d4-0403-4693-aa76-fb8d39622677\" xlink:show=\"new\" xlink:title=\"psysml:6b33d7d4-0403-4693-aa76-fb8d39622677\" xlink:type=\"simple\"><rect fill=\"#FFFFFF\" filter=\"url(#f162unemrfmdze)\" height=\"73\" id=\"E1\" style=\"stroke: #A80036; stroke-width: 1.5;\" width=\"134\" x=\"7\" y=\"42.0986\"/><rect fill=\"#FEFECE\" height=\"37.9375\" style=\"stroke: #A80036; stroke-width: 1.5;\" width=\"134\" x=\"7\" y=\"42.0986\"/><text fill=\"#000000\" font-family=\"sans-serif\" font-size=\"12\" font-style=\"italic\" lengthAdjust=\"spacingAndGlyphs\" textLength=\"81\" x=\"33.5\" y=\"58.2373\">«action  def»</text><text fill=\"#000000\" font-family=\"sans-serif\" font-size=\"12\" lengthAdjust=\"spacingAndGlyphs\" textLength=\"27\" x=\"60.5\" y=\"72.2061\">setX</text></a><text fill=\"#000000\" font-family=\"sans-serif\" font-size=\"14\" lengthAdjust=\"spacingAndGlyphs\" textLength=\"8\" x=\"21\" y=\"20.7969\">c</text><rect fill=\"#A80036\" height=\"12\" style=\"stroke: #FEFECE; stroke-width: 1.5;\" width=\"12\" x=\"19\" y=\"36.0986\"/><text fill=\"#000000\" font-family=\"sans-serif\" font-size=\"14\" lengthAdjust=\"spacingAndGlyphs\" textLength=\"38\" x=\"53\" y=\"20.7969\">newX</text><rect fill=\"#A80036\" height=\"12\" style=\"stroke: #FEFECE; stroke-width: 1.5;\" width=\"12\" x=\"66\" y=\"36.0986\"/><!--MD5=[63be90a9efde2d4800771036df742afa]\n",
       "@startuml\r\n",
       "skinparam ranksep 8\r\n",
       "skinparam wrapWidth 300\r\n",
       "hide circle\r\n",
       "\r\n",
       "rec def \"setX\" as E1  <<(T,blue) action  def>> [[psysml:6b33d7d4-0403-4693-aa76-fb8d39622677 ]] {\r\n",
       "portin \"c\" as E2  [[psysml:aadc07b0-b627-4a1c-8a0b-7e2bc77ad3c9 ]] \r\n",
       "portin \"newX\" as E3  [[psysml:a8b47a70-45ce-488b-ad71-695ba05ffc83 ]] \r\n",
       "}\r\n",
       "\r\n",
       "@enduml\r\n",
       "\n",
       "PlantUML version 1.2020.13(Sat Jun 13 12:26:38 UTC 2020)\n",
       "(EPL source distribution)\n",
       "Java Runtime: OpenJDK Runtime Environment\n",
       "JVM: OpenJDK 64-Bit Server VM\n",
       "Default Encoding: UTF-8\n",
       "Language: en\n",
       "Country: null\n",
       "--></g></svg>"
      ]
     },
     "execution_count": 27,
     "metadata": {},
     "output_type": "execute_result"
    }
   ],
   "source": [
    "%viz --style=\"STDCOLOR\" --view=\"Action\" \"TextualRepresentationTest\""
   ]
  },
  {
   "cell_type": "code",
   "execution_count": 28,
   "id": "25652ca5",
   "metadata": {
    "execution": {
     "iopub.execute_input": "2022-06-20T11:13:37.302993Z",
     "iopub.status.busy": "2022-06-20T11:13:37.302551Z",
     "iopub.status.idle": "2022-06-20T11:13:37.308115Z",
     "shell.execute_reply": "2022-06-20T11:13:37.308424Z"
    }
   },
   "outputs": [
    {
     "data": {
      "image/svg+xml": [
       "<?xml version=\"1.0\" encoding=\"UTF-8\" standalone=\"no\"?><svg xmlns=\"http://www.w3.org/2000/svg\" xmlns:xlink=\"http://www.w3.org/1999/xlink\" contentScriptType=\"application/ecmascript\" contentStyleType=\"text/css\" height=\"12px\" preserveAspectRatio=\"none\" style=\"width:12px;height:12px;\" version=\"1.1\" viewBox=\"0 0 12 12\" width=\"12px\" zoomAndPan=\"magnify\"><defs/><g><!--MD5=[6c4bca67b4d71758159a5a7f1f1e1fc2]\n",
       "@startuml\r\n",
       "skinparam roundcorner 20\r\n",
       "skinparam BoxPadding 20\r\n",
       "skinparam SequenceBoxBackgroundColor #white\r\n",
       "skinparam style strictuml\r\n",
       "skinparam maxMessageSize 100\r\n",
       "skinparam wrapWidth 300\r\n",
       "hide circle\r\n",
       "\r\n",
       "@enduml\r\n",
       "\n",
       "PlantUML version 1.2020.13(Sat Jun 13 12:26:38 UTC 2020)\n",
       "(EPL source distribution)\n",
       "Java Runtime: OpenJDK Runtime Environment\n",
       "JVM: OpenJDK 64-Bit Server VM\n",
       "Default Encoding: UTF-8\n",
       "Language: en\n",
       "Country: null\n",
       "--></g></svg>"
      ]
     },
     "execution_count": 28,
     "metadata": {},
     "output_type": "execute_result"
    }
   ],
   "source": [
    "%viz --style=\"STDCOLOR\" --view=\"Sequence\" \"TextualRepresentationTest\""
   ]
  },
  {
   "cell_type": "code",
   "execution_count": 29,
   "id": "2bdd099c",
   "metadata": {
    "execution": {
     "iopub.execute_input": "2022-06-20T11:13:37.358483Z",
     "iopub.status.busy": "2022-06-20T11:13:37.358042Z",
     "iopub.status.idle": "2022-06-20T11:13:37.399128Z",
     "shell.execute_reply": "2022-06-20T11:13:37.398721Z"
    }
   },
   "outputs": [
    {
     "data": {
      "image/svg+xml": [
       "<?xml version=\"1.0\" encoding=\"UTF-8\" standalone=\"no\"?><svg xmlns=\"http://www.w3.org/2000/svg\" xmlns:xlink=\"http://www.w3.org/1999/xlink\" contentScriptType=\"application/ecmascript\" contentStyleType=\"text/css\" height=\"261px\" preserveAspectRatio=\"none\" style=\"width:351px;height:261px;\" version=\"1.1\" viewBox=\"0 0 351 261\" width=\"351px\" zoomAndPan=\"magnify\"><defs><filter height=\"300%\" id=\"f165dpjbnexezz\" width=\"300%\" x=\"-1\" y=\"-1\"><feGaussianBlur result=\"blurOut\" stdDeviation=\"2.0\"/><feColorMatrix in=\"blurOut\" result=\"blurOut2\" type=\"matrix\" values=\"0 0 0 0 0 0 0 0 0 0 0 0 0 0 0 0 0 0 .4 0\"/><feOffset dx=\"4.0\" dy=\"4.0\" in=\"blurOut2\" result=\"blurOut3\"/><feBlend in=\"SourceGraphic\" in2=\"blurOut3\" mode=\"normal\"/></filter></defs><g><!--MD5=[fbc87193dbaf4d95561dea2c320d4a47]\n",
       "cluster E1--><a href=\"psysml:44d40611-a894-4dae-a2f2-eb4bbba313e0\" target=\"_top\" title=\"psysml:44d40611-a894-4dae-a2f2-eb4bbba313e0\" xlink:actuate=\"onRequest\" xlink:href=\"psysml:44d40611-a894-4dae-a2f2-eb4bbba313e0\" xlink:show=\"new\" xlink:title=\"psysml:44d40611-a894-4dae-a2f2-eb4bbba313e0\" xlink:type=\"simple\"><polygon fill=\"#FFFFFF\" filter=\"url(#f165dpjbnexezz)\" points=\"16,6,210,6,217,28.2969,329,28.2969,329,249.5,16,249.5,16,6\" style=\"stroke: #000000; stroke-width: 1.5;\"/><line style=\"stroke: #000000; stroke-width: 1.5;\" x1=\"16\" x2=\"217\" y1=\"28.2969\" y2=\"28.2969\"/><text fill=\"#000000\" font-family=\"sans-serif\" font-size=\"14\" font-weight=\"bold\" lengthAdjust=\"spacingAndGlyphs\" textLength=\"188\" x=\"20\" y=\"20.9951\">TextualRepresentationTest</text></a><!--MD5=[f6df4d0ebaf0b5dfb2ced0ae5af7c670]\n",
       "cluster E4--><a href=\"psysml:6b33d7d4-0403-4693-aa76-fb8d39622677\" target=\"_top\" title=\"psysml:6b33d7d4-0403-4693-aa76-fb8d39622677\" xlink:actuate=\"onRequest\" xlink:href=\"psysml:6b33d7d4-0403-4693-aa76-fb8d39622677\" xlink:show=\"new\" xlink:title=\"psysml:6b33d7d4-0403-4693-aa76-fb8d39622677\" xlink:type=\"simple\"><rect fill=\"#FFFFFF\" filter=\"url(#f165dpjbnexezz)\" height=\"154.5\" id=\"E4\" style=\"stroke: #A80036; stroke-width: 1.5;\" width=\"134\" x=\"179\" y=\"79\"/><rect fill=\"#FEFECE\" height=\"37.9375\" style=\"stroke: #A80036; stroke-width: 1.5;\" width=\"134\" x=\"179\" y=\"79\"/><text fill=\"#000000\" font-family=\"sans-serif\" font-size=\"12\" font-style=\"italic\" lengthAdjust=\"spacingAndGlyphs\" textLength=\"81\" x=\"205.5\" y=\"95.1387\">«action  def»</text><text fill=\"#000000\" font-family=\"sans-serif\" font-size=\"12\" lengthAdjust=\"spacingAndGlyphs\" textLength=\"27\" x=\"232.5\" y=\"109.1074\">setX</text></a><!--MD5=[b4997ac47864f28c2f74865a473b2911]\n",
       "class E2--><a href=\"psysml:4aee70d7-2b51-44ea-8f07-d2f5d32d40ea\" target=\"_top\" title=\"psysml:4aee70d7-2b51-44ea-8f07-d2f5d32d40ea\" xlink:actuate=\"onRequest\" xlink:href=\"psysml:4aee70d7-2b51-44ea-8f07-d2f5d32d40ea\" xlink:show=\"new\" xlink:title=\"psysml:4aee70d7-2b51-44ea-8f07-d2f5d32d40ea\" xlink:type=\"simple\"><rect fill=\"#FEFECE\" filter=\"url(#f165dpjbnexezz)\" height=\"75.5469\" id=\"E2\" style=\"stroke: #A80036; stroke-width: 1.5;\" width=\"71\" x=\"58.5\" y=\"41\"/><text fill=\"#000000\" font-family=\"sans-serif\" font-size=\"12\" font-style=\"italic\" lengthAdjust=\"spacingAndGlyphs\" textLength=\"69\" x=\"59.5\" y=\"57.1387\">«item  def»</text><text fill=\"#000000\" font-family=\"sans-serif\" font-size=\"12\" lengthAdjust=\"spacingAndGlyphs\" textLength=\"8\" x=\"90\" y=\"71.1074\">C</text><line style=\"stroke: #A80036; stroke-width: 1.5;\" x1=\"59.5\" x2=\"128.5\" y1=\"78.9375\" y2=\"78.9375\"/><text fill=\"#000000\" font-family=\"sans-serif\" font-size=\"11\" lengthAdjust=\"spacingAndGlyphs\" textLength=\"38\" x=\"64.5\" y=\"109.9526\">x: Real</text><line style=\"stroke: #A80036; stroke-width: 1.0;\" x1=\"59.5\" x2=\"66.5\" y1=\"93.3398\" y2=\"93.3398\"/><text fill=\"#000000\" font-family=\"sans-serif\" font-size=\"11\" lengthAdjust=\"spacingAndGlyphs\" textLength=\"55\" x=\"66.5\" y=\"96.6479\">attributes</text><line style=\"stroke: #A80036; stroke-width: 1.0;\" x1=\"121.5\" x2=\"128.5\" y1=\"93.3398\" y2=\"93.3398\"/></a><!--MD5=[09b614a08d8cba4a07c9adeb5e0fee81]\n",
       "class E3--><a href=\"psysml:4e46f6e8-5c68-4c27-8860-5a5208ef4b7d\" target=\"_top\" title=\"psysml:4e46f6e8-5c68-4c27-8860-5a5208ef4b7d\" xlink:actuate=\"onRequest\" xlink:href=\"psysml:4e46f6e8-5c68-4c27-8860-5a5208ef4b7d\" xlink:show=\"new\" xlink:title=\"psysml:4e46f6e8-5c68-4c27-8860-5a5208ef4b7d\" xlink:type=\"simple\"><rect fill=\"#FEFECE\" filter=\"url(#f165dpjbnexezz)\" height=\"45.9375\" id=\"E3\" rx=\"10\" ry=\"10\" style=\"stroke: #A80036; stroke-width: 1.5;\" width=\"124\" x=\"32\" y=\"177\"/><text fill=\"#000000\" font-family=\"sans-serif\" font-size=\"12\" font-style=\"italic\" lengthAdjust=\"spacingAndGlyphs\" textLength=\"122\" x=\"33\" y=\"193.1387\">«assert constraint»</text><text fill=\"#000000\" font-family=\"sans-serif\" font-size=\"12\" lengthAdjust=\"spacingAndGlyphs\" textLength=\"76\" x=\"54\" y=\"207.1074\">x_constraint</text><line style=\"stroke: #A80036; stroke-width: 1.5;\" x1=\"33\" x2=\"155\" y1=\"214.9375\" y2=\"214.9375\"/></a><text fill=\"#000000\" font-family=\"sans-serif\" font-size=\"14\" lengthAdjust=\"spacingAndGlyphs\" textLength=\"8\" x=\"193\" y=\"57.6982\">c</text><rect fill=\"#A80036\" height=\"12\" style=\"stroke: #FEFECE; stroke-width: 1.5;\" width=\"12\" x=\"191\" y=\"73\"/><text fill=\"#000000\" font-family=\"sans-serif\" font-size=\"14\" lengthAdjust=\"spacingAndGlyphs\" textLength=\"38\" x=\"225\" y=\"57.6982\">newX</text><rect fill=\"#A80036\" height=\"12\" style=\"stroke: #FEFECE; stroke-width: 1.5;\" width=\"12\" x=\"238\" y=\"73\"/><!--MD5=[209b3feb70ccb6233bfe1053d122c12c]\n",
       "reverse link E2 to E3--><a href=\"psysml:057e15e5-e107-41c4-afdf-3f2cc89f9205\" target=\"_top\" title=\"psysml:057e15e5-e107-41c4-afdf-3f2cc89f9205\" xlink:actuate=\"onRequest\" xlink:href=\"psysml:057e15e5-e107-41c4-afdf-3f2cc89f9205\" xlink:show=\"new\" xlink:title=\"psysml:057e15e5-e107-41c4-afdf-3f2cc89f9205\" xlink:type=\"simple\"><path d=\"M94,130.34 C94,146.61 94,163.81 94,176.93 \" fill=\"none\" id=\"E2&lt;-E3\" style=\"stroke: #A80036; stroke-width: 1.0;\"/><polygon fill=\"#A80036\" points=\"94,117,90,123,94,129,98,123,94,117\" style=\"stroke: #A80036; stroke-width: 1.0;\"/><text fill=\"#000000\" font-family=\"sans-serif\" font-size=\"13\" lengthAdjust=\"spacingAndGlyphs\" textLength=\"7\" x=\"86.0594\" y=\"165.8075\">*</text></a><!--MD5=[1dfad1329dfb20c906cec00755d0e466]\n",
       "@startuml\r\n",
       "skinparam wrapWidth 300\r\n",
       "hide circle\r\n",
       "\r\n",
       "package \"TextualRepresentationTest\" as E1  [[psysml:44d40611-a894-4dae-a2f2-eb4bbba313e0 ]]  {\r\n",
       "comp def \"C\" as E2  <<(T,blue) item  def>> [[psysml:4aee70d7-2b51-44ea-8f07-d2f5d32d40ea ]] {\r\n",
       "- - attributes - -\r\n",
       "x: Real\r\n",
       "}\r\n",
       "comp usage \"x_constraint \" as E3  <<(T,blue) assert constraint>> [[psysml:4e46f6e8-5c68-4c27-8860-5a5208ef4b7d ]] {\r\n",
       "}\r\n",
       "rec def \"setX\" as E4  <<(T,blue) action  def>> [[psysml:6b33d7d4-0403-4693-aa76-fb8d39622677 ]] {\r\n",
       "portin \"c\" as E5  [[psysml:aadc07b0-b627-4a1c-8a0b-7e2bc77ad3c9 ]] \r\n",
       "portin \"newX\" as E6  [[psysml:a8b47a70-45ce-488b-ad71-695ba05ffc83 ]] \r\n",
       "}\r\n",
       "\r\n",
       "}\r\n",
       "E2 *- - \"*\"E3 [[psysml:057e15e5-e107-41c4-afdf-3f2cc89f9205 ]] \r\n",
       "@enduml\r\n",
       "\n",
       "PlantUML version 1.2020.13(Sat Jun 13 12:26:38 UTC 2020)\n",
       "(EPL source distribution)\n",
       "Java Runtime: OpenJDK Runtime Environment\n",
       "JVM: OpenJDK 64-Bit Server VM\n",
       "Default Encoding: UTF-8\n",
       "Language: en\n",
       "Country: null\n",
       "--></g></svg>"
      ]
     },
     "execution_count": 29,
     "metadata": {},
     "output_type": "execute_result"
    }
   ],
   "source": [
    "%viz --style=\"STDCOLOR\" --view=\"MIXED\" \"TextualRepresentationTest\""
   ]
  },
  {
   "cell_type": "code",
   "execution_count": 30,
   "id": "14cd70c9",
   "metadata": {
    "execution": {
     "iopub.execute_input": "2022-06-20T11:13:37.449277Z",
     "iopub.status.busy": "2022-06-20T11:13:37.448789Z",
     "iopub.status.idle": "2022-06-20T11:13:37.513766Z",
     "shell.execute_reply": "2022-06-20T11:13:37.513352Z"
    }
   },
   "outputs": [
    {
     "data": {
      "image/svg+xml": [
       "<?xml version=\"1.0\" encoding=\"UTF-8\" standalone=\"no\"?><svg xmlns=\"http://www.w3.org/2000/svg\" xmlns:xlink=\"http://www.w3.org/1999/xlink\" contentScriptType=\"application/ecmascript\" contentStyleType=\"text/css\" height=\"255px\" preserveAspectRatio=\"none\" style=\"width:377px;height:255px;\" version=\"1.1\" viewBox=\"0 0 377 255\" width=\"377px\" zoomAndPan=\"magnify\"><defs><filter height=\"300%\" id=\"fgyhlvic6uy3s\" width=\"300%\" x=\"-1\" y=\"-1\"><feGaussianBlur result=\"blurOut\" stdDeviation=\"2.0\"/><feColorMatrix in=\"blurOut\" result=\"blurOut2\" type=\"matrix\" values=\"0 0 0 0 0 0 0 0 0 0 0 0 0 0 0 0 0 0 .4 0\"/><feOffset dx=\"4.0\" dy=\"4.0\" in=\"blurOut2\" result=\"blurOut3\"/><feBlend in=\"SourceGraphic\" in2=\"blurOut3\" mode=\"normal\"/></filter></defs><g><!--MD5=[fbc87193dbaf4d95561dea2c320d4a47]\n",
       "cluster E1--><a href=\"psysml:44d40611-a894-4dae-a2f2-eb4bbba313e0\" target=\"_top\" title=\"psysml:44d40611-a894-4dae-a2f2-eb4bbba313e0\" xlink:actuate=\"onRequest\" xlink:href=\"psysml:44d40611-a894-4dae-a2f2-eb4bbba313e0\" xlink:show=\"new\" xlink:title=\"psysml:44d40611-a894-4dae-a2f2-eb4bbba313e0\" xlink:type=\"simple\"><polygon fill=\"#FFFFFF\" filter=\"url(#fgyhlvic6uy3s)\" points=\"16,6,210,6,217,28.2969,355,28.2969,355,243.5,16,243.5,16,6\" style=\"stroke: #000000; stroke-width: 1.5;\"/><line style=\"stroke: #000000; stroke-width: 1.5;\" x1=\"16\" x2=\"217\" y1=\"28.2969\" y2=\"28.2969\"/><text fill=\"#000000\" font-family=\"sans-serif\" font-size=\"14\" font-weight=\"bold\" lengthAdjust=\"spacingAndGlyphs\" textLength=\"188\" x=\"20\" y=\"20.9951\">TextualRepresentationTest</text></a><!--MD5=[f6df4d0ebaf0b5dfb2ced0ae5af7c670]\n",
       "cluster E4--><a href=\"psysml:6b33d7d4-0403-4693-aa76-fb8d39622677\" target=\"_top\" title=\"psysml:6b33d7d4-0403-4693-aa76-fb8d39622677\" xlink:actuate=\"onRequest\" xlink:href=\"psysml:6b33d7d4-0403-4693-aa76-fb8d39622677\" xlink:show=\"new\" xlink:title=\"psysml:6b33d7d4-0403-4693-aa76-fb8d39622677\" xlink:type=\"simple\"><rect fill=\"#FFFFFF\" filter=\"url(#fgyhlvic6uy3s)\" height=\"151.5\" id=\"E4\" style=\"stroke: #A80036; stroke-width: 1.5;\" width=\"134\" x=\"205\" y=\"76\"/><rect fill=\"#FEFECE\" height=\"37.9375\" style=\"stroke: #A80036; stroke-width: 1.5;\" width=\"134\" x=\"205\" y=\"76\"/><text fill=\"#000000\" font-family=\"sans-serif\" font-size=\"12\" font-style=\"italic\" lengthAdjust=\"spacingAndGlyphs\" textLength=\"81\" x=\"231.5\" y=\"92.1387\">«action  def»</text><text fill=\"#000000\" font-family=\"sans-serif\" font-size=\"12\" lengthAdjust=\"spacingAndGlyphs\" textLength=\"27\" x=\"258.5\" y=\"106.1074\">setX</text></a><!--MD5=[b4997ac47864f28c2f74865a473b2911]\n",
       "class E2--><a href=\"psysml:4aee70d7-2b51-44ea-8f07-d2f5d32d40ea\" target=\"_top\" title=\"psysml:4aee70d7-2b51-44ea-8f07-d2f5d32d40ea\" xlink:actuate=\"onRequest\" xlink:href=\"psysml:4aee70d7-2b51-44ea-8f07-d2f5d32d40ea\" xlink:show=\"new\" xlink:title=\"psysml:4aee70d7-2b51-44ea-8f07-d2f5d32d40ea\" xlink:type=\"simple\"><rect fill=\"#FEFECE\" filter=\"url(#fgyhlvic6uy3s)\" height=\"69.6094\" id=\"E2\" style=\"stroke: #A80036; stroke-width: 1.5;\" width=\"63\" x=\"75.5\" y=\"41\"/><ellipse cx=\"100.85\" cy=\"57\" fill=\"#008000\" rx=\"11\" ry=\"11\" style=\"stroke: #A80036; stroke-width: 1.0;\"/><path d=\"M97.725,62 L97.725,51.4063 L100.9594,51.4063 Q102.8656,51.4063 103.7719,52.1563 Q104.6938,52.9063 104.6938,54.0781 Q104.6938,54.7656 104.3031,55.4219 Q103.9281,56.0781 103.2094,56.375 Q104.0688,56.75 104.5844,57.4375 Q105.1,58.125 105.1,58.9375 Q105.1,60.3125 104.0688,61.1563 Q103.0531,62 100.9438,62 L97.725,62 Z M99.6469,55.6406 L100.8031,55.6406 Q101.9281,55.6406 102.3344,55.2656 Q102.7563,54.875 102.7563,54.25 Q102.7563,53.6719 102.3344,53.3125 Q101.9125,52.9531 100.975,52.9531 L99.6469,52.9531 L99.6469,55.6406 Z M99.6469,60.4219 L101.1469,60.4219 Q102.0531,60.4219 102.5844,60.0313 Q103.1156,59.6406 103.1156,58.8906 Q103.1156,58.125 102.6156,57.6563 Q102.1156,57.1719 100.85,57.1719 L99.6469,57.1719 L99.6469,60.4219 Z \"/><text fill=\"#000000\" font-family=\"sans-serif\" font-size=\"12\" lengthAdjust=\"spacingAndGlyphs\" textLength=\"8\" x=\"117.15\" y=\"61.1543\">C</text><line style=\"stroke: #A80036; stroke-width: 1.5;\" x1=\"76.5\" x2=\"137.5\" y1=\"73\" y2=\"73\"/><text fill=\"#000000\" font-family=\"sans-serif\" font-size=\"11\" lengthAdjust=\"spacingAndGlyphs\" textLength=\"38\" x=\"81.5\" y=\"104.0151\">x: Real</text><line style=\"stroke: #A80036; stroke-width: 1.0;\" x1=\"76.5\" x2=\"79.5\" y1=\"87.4023\" y2=\"87.4023\"/><text fill=\"#000000\" font-family=\"sans-serif\" font-size=\"11\" lengthAdjust=\"spacingAndGlyphs\" textLength=\"55\" x=\"79.5\" y=\"90.7104\">attributes</text><line style=\"stroke: #A80036; stroke-width: 1.0;\" x1=\"134.5\" x2=\"137.5\" y1=\"87.4023\" y2=\"87.4023\"/></a><!--MD5=[09b614a08d8cba4a07c9adeb5e0fee81]\n",
       "class E3--><a href=\"psysml:4e46f6e8-5c68-4c27-8860-5a5208ef4b7d\" target=\"_top\" title=\"psysml:4e46f6e8-5c68-4c27-8860-5a5208ef4b7d\" xlink:actuate=\"onRequest\" xlink:href=\"psysml:4e46f6e8-5c68-4c27-8860-5a5208ef4b7d\" xlink:show=\"new\" xlink:title=\"psysml:4e46f6e8-5c68-4c27-8860-5a5208ef4b7d\" xlink:type=\"simple\"><rect fill=\"#FEFECE\" filter=\"url(#fgyhlvic6uy3s)\" height=\"45.9375\" id=\"E3\" rx=\"10\" ry=\"10\" style=\"stroke: #A80036; stroke-width: 1.5;\" width=\"150\" x=\"32\" y=\"171\"/><ellipse cx=\"47\" cy=\"189.9688\" fill=\"#FFA500\" rx=\"11\" ry=\"11\" style=\"stroke: #A80036; stroke-width: 1.0;\"/><path d=\"M46.75,195.4375 Q45,195.4375 44.0469,194.4063 Q43.1094,193.3594 43.1094,191.5156 L43.1094,184.625 L45.1719,184.625 L45.1719,184.7813 Q45.0781,184.875 45.0469,185.0156 Q45.0313,185.1406 45.0313,185.4063 L45.0313,191.5313 Q45.0313,192.625 45.4063,193.25 Q45.7813,193.875 46.7656,193.875 Q47.75,193.875 48.1406,193.25 Q48.5313,192.625 48.5313,191.4844 L48.5313,184.625 L50.4063,184.625 L50.4063,191.4688 Q50.4063,193.5 49.375,194.4688 Q48.3594,195.4375 46.75,195.4375 Z \"/><text fill=\"#000000\" font-family=\"sans-serif\" font-size=\"12\" font-style=\"italic\" lengthAdjust=\"spacingAndGlyphs\" textLength=\"122\" x=\"59\" y=\"187.1387\">«assert constraint»</text><text fill=\"#000000\" font-family=\"sans-serif\" font-size=\"12\" lengthAdjust=\"spacingAndGlyphs\" textLength=\"76\" x=\"80\" y=\"201.1074\">x_constraint</text><line style=\"stroke: #A80036; stroke-width: 1.5;\" x1=\"33\" x2=\"181\" y1=\"208.9375\" y2=\"208.9375\"/></a><text fill=\"#000000\" font-family=\"sans-serif\" font-size=\"14\" lengthAdjust=\"spacingAndGlyphs\" textLength=\"8\" x=\"219\" y=\"54.6982\">c</text><rect fill=\"#A80036\" height=\"12\" style=\"stroke: #FEFECE; stroke-width: 1.5;\" width=\"12\" x=\"217\" y=\"70\"/><text fill=\"#000000\" font-family=\"sans-serif\" font-size=\"14\" lengthAdjust=\"spacingAndGlyphs\" textLength=\"38\" x=\"251\" y=\"54.6982\">newX</text><rect fill=\"#A80036\" height=\"12\" style=\"stroke: #FEFECE; stroke-width: 1.5;\" width=\"12\" x=\"264\" y=\"70\"/><!--MD5=[209b3feb70ccb6233bfe1053d122c12c]\n",
       "reverse link E2 to E3--><a href=\"psysml:057e15e5-e107-41c4-afdf-3f2cc89f9205\" target=\"_top\" title=\"psysml:057e15e5-e107-41c4-afdf-3f2cc89f9205\" xlink:actuate=\"onRequest\" xlink:href=\"psysml:057e15e5-e107-41c4-afdf-3f2cc89f9205\" xlink:show=\"new\" xlink:title=\"psysml:057e15e5-e107-41c4-afdf-3f2cc89f9205\" xlink:type=\"simple\"><path d=\"M107,124.3 C107,140.38 107,157.6 107,170.77 \" fill=\"none\" id=\"E2&lt;-E3\" style=\"stroke: #A80036; stroke-width: 1.0;\"/><polygon fill=\"#A80036\" points=\"107,111.18,103,117.18,107,123.18,111,117.18,107,111.18\" style=\"stroke: #A80036; stroke-width: 1.0;\"/><text fill=\"#000000\" font-family=\"sans-serif\" font-size=\"13\" lengthAdjust=\"spacingAndGlyphs\" textLength=\"7\" x=\"99.1031\" y=\"159.9874\">*</text></a><!--MD5=[89c29d23239edb5ee57b54285b8ebf15]\n",
       "@startuml\r\n",
       " \r\n",
       "package \"TextualRepresentationTest\" as E1  [[psysml:44d40611-a894-4dae-a2f2-eb4bbba313e0 ]]  {\r\n",
       "comp def \"C\" as E2 << << (B,green) >> [[psysml:4aee70d7-2b51-44ea-8f07-d2f5d32d40ea ]] {\r\n",
       "- - attributes - -\r\n",
       "x: Real\r\n",
       "}\r\n",
       "comp usage \"x_constraint \" as E3 << <<(U,orange) assert constraint>> [[psysml:4e46f6e8-5c68-4c27-8860-5a5208ef4b7d ]] {\r\n",
       "}\r\n",
       "rec def \"setX\" as E4 << <<(B,lemonchiffon) action  def>> [[psysml:6b33d7d4-0403-4693-aa76-fb8d39622677 ]] {\r\n",
       "portin \"c\" as E5  [[psysml:aadc07b0-b627-4a1c-8a0b-7e2bc77ad3c9 ]] \r\n",
       "portin \"newX\" as E6  [[psysml:a8b47a70-45ce-488b-ad71-695ba05ffc83 ]] \r\n",
       "}\r\n",
       "\r\n",
       "}\r\n",
       "E2 *- - \"*\"E3 [[psysml:057e15e5-e107-41c4-afdf-3f2cc89f9205 ]] \r\n",
       "@enduml\r\n",
       "\n",
       "PlantUML version 1.2020.13(Sat Jun 13 12:26:38 UTC 2020)\n",
       "(EPL source distribution)\n",
       "Java Runtime: OpenJDK Runtime Environment\n",
       "JVM: OpenJDK 64-Bit Server VM\n",
       "Default Encoding: UTF-8\n",
       "Language: en\n",
       "Country: null\n",
       "--></g></svg>"
      ]
     },
     "execution_count": 30,
     "metadata": {},
     "output_type": "execute_result"
    }
   ],
   "source": [
    "%viz --style=\"PLANTUML\" --view=\"Default\" \"TextualRepresentationTest\""
   ]
  },
  {
   "cell_type": "code",
   "execution_count": 31,
   "id": "3ac8a2cc",
   "metadata": {
    "execution": {
     "iopub.execute_input": "2022-06-20T11:13:37.563334Z",
     "iopub.status.busy": "2022-06-20T11:13:37.562877Z",
     "iopub.status.idle": "2022-06-20T11:13:37.605016Z",
     "shell.execute_reply": "2022-06-20T11:13:37.604554Z"
    }
   },
   "outputs": [
    {
     "data": {
      "image/svg+xml": [
       "<?xml version=\"1.0\" encoding=\"UTF-8\" standalone=\"no\"?><svg xmlns=\"http://www.w3.org/2000/svg\" xmlns:xlink=\"http://www.w3.org/1999/xlink\" contentScriptType=\"application/ecmascript\" contentStyleType=\"text/css\" height=\"369px\" preserveAspectRatio=\"none\" style=\"width:242px;height:369px;\" version=\"1.1\" viewBox=\"0 0 242 369\" width=\"242px\" zoomAndPan=\"magnify\"><defs><filter height=\"300%\" id=\"f17lzw77uqs0v7\" width=\"300%\" x=\"-1\" y=\"-1\"><feGaussianBlur result=\"blurOut\" stdDeviation=\"2.0\"/><feColorMatrix in=\"blurOut\" result=\"blurOut2\" type=\"matrix\" values=\"0 0 0 0 0 0 0 0 0 0 0 0 0 0 0 0 0 0 .4 0\"/><feOffset dx=\"4.0\" dy=\"4.0\" in=\"blurOut2\" result=\"blurOut3\"/><feBlend in=\"SourceGraphic\" in2=\"blurOut3\" mode=\"normal\"/></filter></defs><g><!--MD5=[fbc87193dbaf4d95561dea2c320d4a47]\n",
       "cluster E1--><a href=\"psysml:44d40611-a894-4dae-a2f2-eb4bbba313e0\" target=\"_top\" title=\"psysml:44d40611-a894-4dae-a2f2-eb4bbba313e0\" xlink:actuate=\"onRequest\" xlink:href=\"psysml:44d40611-a894-4dae-a2f2-eb4bbba313e0\" xlink:show=\"new\" xlink:title=\"psysml:44d40611-a894-4dae-a2f2-eb4bbba313e0\" xlink:type=\"simple\"><polygon fill=\"#FFFFFF\" filter=\"url(#f17lzw77uqs0v7)\" points=\"16,6,210,6,217,28.2969,220,28.2969,220,357,16,357,16,6\" style=\"stroke: #000000; stroke-width: 1.5;\"/><line style=\"stroke: #000000; stroke-width: 1.5;\" x1=\"16\" x2=\"217\" y1=\"28.2969\" y2=\"28.2969\"/><text fill=\"#000000\" font-family=\"sans-serif\" font-size=\"14\" font-weight=\"bold\" lengthAdjust=\"spacingAndGlyphs\" textLength=\"188\" x=\"20\" y=\"20.9951\">TextualRepresentationTest</text></a><!--MD5=[b4997ac47864f28c2f74865a473b2911]\n",
       "class E2--><a href=\"psysml:4aee70d7-2b51-44ea-8f07-d2f5d32d40ea\" target=\"_top\" title=\"psysml:4aee70d7-2b51-44ea-8f07-d2f5d32d40ea\" xlink:actuate=\"onRequest\" xlink:href=\"psysml:4aee70d7-2b51-44ea-8f07-d2f5d32d40ea\" xlink:show=\"new\" xlink:title=\"psysml:4aee70d7-2b51-44ea-8f07-d2f5d32d40ea\" xlink:type=\"simple\"><rect fill=\"#FEFECE\" filter=\"url(#f17lzw77uqs0v7)\" height=\"69.6094\" id=\"E2\" style=\"stroke: #A80036; stroke-width: 1.5;\" width=\"63\" x=\"86.5\" y=\"164\"/><ellipse cx=\"111.85\" cy=\"180\" fill=\"#008000\" rx=\"11\" ry=\"11\" style=\"stroke: #A80036; stroke-width: 1.0;\"/><path d=\"M108.725,185 L108.725,174.4063 L111.9594,174.4063 Q113.8656,174.4063 114.7719,175.1563 Q115.6938,175.9063 115.6938,177.0781 Q115.6938,177.7656 115.3031,178.4219 Q114.9281,179.0781 114.2094,179.375 Q115.0688,179.75 115.5844,180.4375 Q116.1,181.125 116.1,181.9375 Q116.1,183.3125 115.0688,184.1563 Q114.0531,185 111.9438,185 L108.725,185 Z M110.6469,178.6406 L111.8031,178.6406 Q112.9281,178.6406 113.3344,178.2656 Q113.7563,177.875 113.7563,177.25 Q113.7563,176.6719 113.3344,176.3125 Q112.9125,175.9531 111.975,175.9531 L110.6469,175.9531 L110.6469,178.6406 Z M110.6469,183.4219 L112.1469,183.4219 Q113.0531,183.4219 113.5844,183.0313 Q114.1156,182.6406 114.1156,181.8906 Q114.1156,181.125 113.6156,180.6563 Q113.1156,180.1719 111.85,180.1719 L110.6469,180.1719 L110.6469,183.4219 Z \"/><text fill=\"#000000\" font-family=\"sans-serif\" font-size=\"12\" lengthAdjust=\"spacingAndGlyphs\" textLength=\"8\" x=\"128.15\" y=\"184.1543\">C</text><line style=\"stroke: #A80036; stroke-width: 1.5;\" x1=\"87.5\" x2=\"148.5\" y1=\"196\" y2=\"196\"/><text fill=\"#000000\" font-family=\"sans-serif\" font-size=\"11\" lengthAdjust=\"spacingAndGlyphs\" textLength=\"38\" x=\"92.5\" y=\"227.0151\">x: Real</text><line style=\"stroke: #A80036; stroke-width: 1.0;\" x1=\"87.5\" x2=\"90.5\" y1=\"210.4023\" y2=\"210.4023\"/><text fill=\"#000000\" font-family=\"sans-serif\" font-size=\"11\" lengthAdjust=\"spacingAndGlyphs\" textLength=\"55\" x=\"90.5\" y=\"213.7104\">attributes</text><line style=\"stroke: #A80036; stroke-width: 1.0;\" x1=\"145.5\" x2=\"148.5\" y1=\"210.4023\" y2=\"210.4023\"/></a><!--MD5=[09b614a08d8cba4a07c9adeb5e0fee81]\n",
       "class E3--><a href=\"psysml:4e46f6e8-5c68-4c27-8860-5a5208ef4b7d\" target=\"_top\" title=\"psysml:4e46f6e8-5c68-4c27-8860-5a5208ef4b7d\" xlink:actuate=\"onRequest\" xlink:href=\"psysml:4e46f6e8-5c68-4c27-8860-5a5208ef4b7d\" xlink:show=\"new\" xlink:title=\"psysml:4e46f6e8-5c68-4c27-8860-5a5208ef4b7d\" xlink:type=\"simple\"><rect fill=\"#FEFECE\" filter=\"url(#f17lzw77uqs0v7)\" height=\"45.9375\" id=\"E3\" rx=\"10\" ry=\"10\" style=\"stroke: #A80036; stroke-width: 1.5;\" width=\"150\" x=\"43\" y=\"295\"/><ellipse cx=\"58\" cy=\"313.9688\" fill=\"#FFA500\" rx=\"11\" ry=\"11\" style=\"stroke: #A80036; stroke-width: 1.0;\"/><path d=\"M57.75,319.4375 Q56,319.4375 55.0469,318.4063 Q54.1094,317.3594 54.1094,315.5156 L54.1094,308.625 L56.1719,308.625 L56.1719,308.7813 Q56.0781,308.875 56.0469,309.0156 Q56.0313,309.1406 56.0313,309.4063 L56.0313,315.5313 Q56.0313,316.625 56.4063,317.25 Q56.7813,317.875 57.7656,317.875 Q58.75,317.875 59.1406,317.25 Q59.5313,316.625 59.5313,315.4844 L59.5313,308.625 L61.4063,308.625 L61.4063,315.4688 Q61.4063,317.5 60.375,318.4688 Q59.3594,319.4375 57.75,319.4375 Z \"/><text fill=\"#000000\" font-family=\"sans-serif\" font-size=\"12\" font-style=\"italic\" lengthAdjust=\"spacingAndGlyphs\" textLength=\"122\" x=\"70\" y=\"311.1387\">«assert constraint»</text><text fill=\"#000000\" font-family=\"sans-serif\" font-size=\"12\" lengthAdjust=\"spacingAndGlyphs\" textLength=\"76\" x=\"91\" y=\"325.1074\">x_constraint</text><line style=\"stroke: #A80036; stroke-width: 1.5;\" x1=\"44\" x2=\"192\" y1=\"332.9375\" y2=\"332.9375\"/></a><!--MD5=[ebbe1d658d1005bcc118a6aa81145e00]\n",
       "class E4--><a href=\"psysml:6b33d7d4-0403-4693-aa76-fb8d39622677\" target=\"_top\" title=\"psysml:6b33d7d4-0403-4693-aa76-fb8d39622677\" xlink:actuate=\"onRequest\" xlink:href=\"psysml:6b33d7d4-0403-4693-aa76-fb8d39622677\" xlink:show=\"new\" xlink:title=\"psysml:6b33d7d4-0403-4693-aa76-fb8d39622677\" xlink:type=\"simple\"><rect fill=\"#FEFECE\" filter=\"url(#f17lzw77uqs0v7)\" height=\"45.9375\" id=\"E4\" style=\"stroke: #A80036; stroke-width: 1.5;\" width=\"109\" x=\"63.5\" y=\"41\"/><ellipse cx=\"78.5\" cy=\"59.9688\" fill=\"#FFFACD\" rx=\"11\" ry=\"11\" style=\"stroke: #A80036; stroke-width: 1.0;\"/><path d=\"M75.375,64.9688 L75.375,54.375 L78.6094,54.375 Q80.5156,54.375 81.4219,55.125 Q82.3438,55.875 82.3438,57.0469 Q82.3438,57.7344 81.9531,58.3906 Q81.5781,59.0469 80.8594,59.3438 Q81.7188,59.7188 82.2344,60.4063 Q82.75,61.0938 82.75,61.9063 Q82.75,63.2813 81.7188,64.125 Q80.7031,64.9688 78.5938,64.9688 L75.375,64.9688 Z M77.2969,58.6094 L78.4531,58.6094 Q79.5781,58.6094 79.9844,58.2344 Q80.4063,57.8438 80.4063,57.2188 Q80.4063,56.6406 79.9844,56.2813 Q79.5625,55.9219 78.625,55.9219 L77.2969,55.9219 L77.2969,58.6094 Z M77.2969,63.3906 L78.7969,63.3906 Q79.7031,63.3906 80.2344,63 Q80.7656,62.6094 80.7656,61.8594 Q80.7656,61.0938 80.2656,60.625 Q79.7656,60.1406 78.5,60.1406 L77.2969,60.1406 L77.2969,63.3906 Z \"/><text fill=\"#000000\" font-family=\"sans-serif\" font-size=\"12\" font-style=\"italic\" lengthAdjust=\"spacingAndGlyphs\" textLength=\"81\" x=\"90.5\" y=\"57.1387\">«action  def»</text><text fill=\"#000000\" font-family=\"sans-serif\" font-size=\"12\" lengthAdjust=\"spacingAndGlyphs\" textLength=\"27\" x=\"117.5\" y=\"71.1074\">setX</text><line style=\"stroke: #A80036; stroke-width: 1.5;\" x1=\"64.5\" x2=\"171.5\" y1=\"78.9375\" y2=\"78.9375\"/></a><!--MD5=[209b3feb70ccb6233bfe1053d122c12c]\n",
       "reverse link E2 to E3--><a href=\"psysml:057e15e5-e107-41c4-afdf-3f2cc89f9205\" target=\"_top\" title=\"psysml:057e15e5-e107-41c4-afdf-3f2cc89f9205\" xlink:actuate=\"onRequest\" xlink:href=\"psysml:057e15e5-e107-41c4-afdf-3f2cc89f9205\" xlink:show=\"new\" xlink:title=\"psysml:057e15e5-e107-41c4-afdf-3f2cc89f9205\" xlink:type=\"simple\"><path d=\"M118,247.51 C118,263.88 118,281.44 118,294.81 \" fill=\"none\" id=\"E2&lt;-E3\" style=\"stroke: #A80036; stroke-width: 1.0;\"/><polygon fill=\"#A80036\" points=\"118,234.16,114,240.16,118,246.16,122,240.16,118,234.16\" style=\"stroke: #A80036; stroke-width: 1.0;\"/><text fill=\"#000000\" font-family=\"sans-serif\" font-size=\"13\" lengthAdjust=\"spacingAndGlyphs\" textLength=\"7\" x=\"110.1031\" y=\"284.0376\">*</text></a><!--MD5=[ddeed8deb2209213b62e6cfabaa108b2]\n",
       "reverse link E4 to E2--><a href=\"psysml:aadc07b0-b627-4a1c-8a0b-7e2bc77ad3c9\" target=\"_top\" title=\"psysml:aadc07b0-b627-4a1c-8a0b-7e2bc77ad3c9\" xlink:actuate=\"onRequest\" xlink:href=\"psysml:aadc07b0-b627-4a1c-8a0b-7e2bc77ad3c9\" xlink:show=\"new\" xlink:title=\"psysml:aadc07b0-b627-4a1c-8a0b-7e2bc77ad3c9\" xlink:type=\"simple\"><path d=\"M118,100.33 C118,120.02 118,144.43 118,163.92 \" fill=\"none\" id=\"E4&lt;-E2\" style=\"stroke: #A80036; stroke-width: 1.0;\"/><polygon fill=\"#FFFFFF\" points=\"118,87.26,114,93.26,118,99.26,122,93.26,118,87.26\" style=\"stroke: #A80036; stroke-width: 1.0;\"/><text fill=\"#000000\" font-family=\"sans-serif\" font-size=\"13\" lengthAdjust=\"spacingAndGlyphs\" textLength=\"7\" x=\"119\" y=\"130.0669\">c</text></a><!--MD5=[cd23b3b565788c09459814b651928146]\n",
       "@startuml\r\n",
       " \r\n",
       "package \"TextualRepresentationTest\" as E1  [[psysml:44d40611-a894-4dae-a2f2-eb4bbba313e0 ]]  {\r\n",
       "comp def \"C\" as E2 << << (B,green) >> [[psysml:4aee70d7-2b51-44ea-8f07-d2f5d32d40ea ]] {\r\n",
       "- - attributes - -\r\n",
       "x: Real\r\n",
       "}\r\n",
       "comp usage \"x_constraint \" as E3 << <<(U,orange) assert constraint>> [[psysml:4e46f6e8-5c68-4c27-8860-5a5208ef4b7d ]] {\r\n",
       "}\r\n",
       "comp def \"setX\" as E4 << <<(B,lemonchiffon) action  def>> [[psysml:6b33d7d4-0403-4693-aa76-fb8d39622677 ]] {\r\n",
       "}\r\n",
       "}\r\n",
       "E2 *- - \"*\"E3 [[psysml:057e15e5-e107-41c4-afdf-3f2cc89f9205 ]] \r\n",
       "E4 o- - E2 [[psysml:aadc07b0-b627-4a1c-8a0b-7e2bc77ad3c9 ]] : c\r\n",
       "@enduml\r\n",
       "\n",
       "PlantUML version 1.2020.13(Sat Jun 13 12:26:38 UTC 2020)\n",
       "(EPL source distribution)\n",
       "Java Runtime: OpenJDK Runtime Environment\n",
       "JVM: OpenJDK 64-Bit Server VM\n",
       "Default Encoding: UTF-8\n",
       "Language: en\n",
       "Country: null\n",
       "--></g></svg>"
      ]
     },
     "execution_count": 31,
     "metadata": {},
     "output_type": "execute_result"
    }
   ],
   "source": [
    "%viz --style=\"PLANTUML\" --view=\"Tree\" \"TextualRepresentationTest\""
   ]
  },
  {
   "cell_type": "code",
   "execution_count": 32,
   "id": "2280f7e1",
   "metadata": {
    "execution": {
     "iopub.execute_input": "2022-06-20T11:13:37.654525Z",
     "iopub.status.busy": "2022-06-20T11:13:37.654079Z",
     "iopub.status.idle": "2022-06-20T11:13:37.801330Z",
     "shell.execute_reply": "2022-06-20T11:13:37.799717Z"
    }
   },
   "outputs": [
    {
     "data": {
      "image/svg+xml": [
       "<?xml version=\"1.0\" encoding=\"UTF-8\" standalone=\"no\"?><svg xmlns=\"http://www.w3.org/2000/svg\" xmlns:xlink=\"http://www.w3.org/1999/xlink\" contentScriptType=\"application/ecmascript\" contentStyleType=\"text/css\" height=\"407px\" preserveAspectRatio=\"none\" style=\"width:603px;height:407px;background:#000000;\" version=\"1.1\" viewBox=\"0 0 603 407\" width=\"603px\" zoomAndPan=\"magnify\"><defs/><g><rect fill=\"#0C0612\" height=\"1\" style=\"stroke: #0C0612; stroke-width: 1.0;\" width=\"1\" x=\"0\" y=\"0\"/><rect fill=\"#FFFFFF\" height=\"53\" style=\"stroke: #FFFFFF; stroke-width: 1.0;\" width=\"602\" x=\"0\" y=\"0\"/><image height=\"53\" width=\"450\" x=\"1\" xlink:href=\"data:image/png;base64,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\" y=\"1\"/><rect fill=\"#FFFFFF\" height=\"202.8012\" style=\"stroke: #FFFFFF; stroke-width: 1.0;\" width=\"602\" x=\"0\" y=\"53\"/><text fill=\"#000000\" font-family=\"sans-serif\" font-size=\"12\" font-weight=\"bold\" lengthAdjust=\"spacingAndGlyphs\" textLength=\"139\" x=\"5\" y=\"69.1387\">Welcome to PlantUML!</text><text fill=\"#000000\" font-family=\"sans-serif\" font-size=\"12\" lengthAdjust=\"spacingAndGlyphs\" textLength=\"0\" x=\"9\" y=\"83.1074\"/><text fill=\"#000000\" font-family=\"sans-serif\" font-size=\"12\" lengthAdjust=\"spacingAndGlyphs\" textLength=\"293\" x=\"5\" y=\"97.0762\">If you use this software, you accept its license.</text><text fill=\"#000000\" font-family=\"sans-serif\" font-size=\"12\" lengthAdjust=\"spacingAndGlyphs\" textLength=\"107\" x=\"5\" y=\"111.0449\">(details by typing</text><text fill=\"#000000\" font-family=\"monospace\" font-size=\"12\" lengthAdjust=\"spacingAndGlyphs\" textLength=\"42\" x=\"116\" y=\"111.595\">license</text><text fill=\"#000000\" font-family=\"sans-serif\" font-size=\"12\" lengthAdjust=\"spacingAndGlyphs\" textLength=\"56\" x=\"162\" y=\"111.0449\">keyword)</text><text fill=\"#000000\" font-family=\"sans-serif\" font-size=\"12\" lengthAdjust=\"spacingAndGlyphs\" textLength=\"0\" x=\"9\" y=\"125.0137\"/><text fill=\"#000000\" font-family=\"sans-serif\" font-size=\"12\" lengthAdjust=\"spacingAndGlyphs\" textLength=\"283\" x=\"5\" y=\"138.9824\">You can start with a simple UML Diagram like:</text><text fill=\"#000000\" font-family=\"sans-serif\" font-size=\"12\" lengthAdjust=\"spacingAndGlyphs\" textLength=\"0\" x=\"9\" y=\"152.9512\"/><text fill=\"#000000\" font-family=\"monospace\" font-size=\"12\" lengthAdjust=\"spacingAndGlyphs\" textLength=\"102\" x=\"5\" y=\"166.0893\">Bob-&gt;Alice: Hello</text><text fill=\"#000000\" font-family=\"sans-serif\" font-size=\"12\" lengthAdjust=\"spacingAndGlyphs\" textLength=\"0\" x=\"9\" y=\"179.508\"/><text fill=\"#000000\" font-family=\"sans-serif\" font-size=\"12\" lengthAdjust=\"spacingAndGlyphs\" textLength=\"14\" x=\"5\" y=\"193.4768\">Or</text><text fill=\"#000000\" font-family=\"sans-serif\" font-size=\"12\" lengthAdjust=\"spacingAndGlyphs\" textLength=\"0\" x=\"9\" y=\"207.4455\"/><text fill=\"#000000\" font-family=\"monospace\" font-size=\"12\" lengthAdjust=\"spacingAndGlyphs\" textLength=\"78\" x=\"5\" y=\"220.5837\">class Example</text><text fill=\"#000000\" font-family=\"sans-serif\" font-size=\"12\" lengthAdjust=\"spacingAndGlyphs\" textLength=\"0\" x=\"9\" y=\"234.0023\"/><text fill=\"#000000\" font-family=\"sans-serif\" font-size=\"12\" lengthAdjust=\"spacingAndGlyphs\" textLength=\"349\" x=\"5\" y=\"247.9711\">You will find more information about PlantUML syntax on</text><text fill=\"#000000\" font-family=\"sans-serif\" font-size=\"12\" lengthAdjust=\"spacingAndGlyphs\" text-decoration=\"underline\" textLength=\"129\" x=\"358\" y=\"247.9711\">https://plantuml.com</text><image height=\"71\" width=\"80\" x=\"516\" xlink:href=\"data:image/png;base64,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\" y=\"59\"/><rect fill=\"#000000\" height=\"96.4844\" style=\"stroke: #000000; stroke-width: 1.0;\" width=\"602\" x=\"0\" y=\"255.8012\"/><rect fill=\"#33FF02\" height=\"21.2969\" style=\"stroke: #33FF02; stroke-width: 1.0;\" width=\"145\" x=\"5\" y=\"260.8012\"/><text fill=\"#000000\" font-family=\"sans-serif\" font-size=\"14\" font-weight=\"bold\" lengthAdjust=\"spacingAndGlyphs\" textLength=\"143\" x=\"6\" y=\"275.8012\">[From string (line 2) ]</text><text fill=\"#33FF02\" font-family=\"sans-serif\" font-size=\"14\" font-weight=\"bold\" lengthAdjust=\"spacingAndGlyphs\" textLength=\"0\" x=\"9\" y=\"296.0981\"/><text fill=\"#33FF02\" font-family=\"sans-serif\" font-size=\"14\" font-weight=\"bold\" lengthAdjust=\"spacingAndGlyphs\" textLength=\"70\" x=\"5\" y=\"312.3949\">@startuml</text><text fill=\"#33FF02\" font-family=\"sans-serif\" font-size=\"14\" font-weight=\"bold\" lengthAdjust=\"spacingAndGlyphs\" textLength=\"0\" x=\"9\" y=\"328.6918\"/><text fill=\"#FF0000\" font-family=\"sans-serif\" font-size=\"14\" font-weight=\"bold\" lengthAdjust=\"spacingAndGlyphs\" textLength=\"124\" x=\"9\" y=\"344.9887\">Empty description</text><rect fill=\"#FFFFFF\" height=\"53\" style=\"stroke: #FFFFFF; stroke-width: 1.0;\" width=\"602\" x=\"0\" y=\"352.2856\"/><image height=\"53\" width=\"450\" x=\"1\" xlink:href=\"data:image/png;base64,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\" y=\"353.2856\"/><!--MD5=[f59edd8218d337f74d0c332fc6737304]\n",
       "@startuml\r\n",
       " \r\n",
       "@enduml\r\n",
       "\n",
       "PlantUML version 1.2020.13(Sat Jun 13 12:26:38 UTC 2020)\n",
       "(EPL source distribution)\n",
       "Java Runtime: OpenJDK Runtime Environment\n",
       "JVM: OpenJDK 64-Bit Server VM\n",
       "Default Encoding: UTF-8\n",
       "Language: en\n",
       "Country: null\n",
       "--></g></svg>"
      ]
     },
     "execution_count": 32,
     "metadata": {},
     "output_type": "execute_result"
    }
   ],
   "source": [
    "%viz --style=\"PLANTUML\" --view=\"State\" \"TextualRepresentationTest\""
   ]
  },
  {
   "cell_type": "code",
   "execution_count": 33,
   "id": "93743a8b",
   "metadata": {
    "execution": {
     "iopub.execute_input": "2022-06-20T11:13:37.850375Z",
     "iopub.status.busy": "2022-06-20T11:13:37.849916Z",
     "iopub.status.idle": "2022-06-20T11:13:37.870419Z",
     "shell.execute_reply": "2022-06-20T11:13:37.870738Z"
    }
   },
   "outputs": [
    {
     "data": {
      "image/svg+xml": [
       "<?xml version=\"1.0\" encoding=\"UTF-8\" standalone=\"no\"?><svg xmlns=\"http://www.w3.org/2000/svg\" xmlns:xlink=\"http://www.w3.org/1999/xlink\" contentScriptType=\"application/ecmascript\" contentStyleType=\"text/css\" height=\"176px\" preserveAspectRatio=\"none\" style=\"width:266px;height:176px;\" version=\"1.1\" viewBox=\"0 0 266 176\" width=\"266px\" zoomAndPan=\"magnify\"><defs><filter height=\"300%\" id=\"f1s85xg0s64tgi\" width=\"300%\" x=\"-1\" y=\"-1\"><feGaussianBlur result=\"blurOut\" stdDeviation=\"2.0\"/><feColorMatrix in=\"blurOut\" result=\"blurOut2\" type=\"matrix\" values=\"0 0 0 0 0 0 0 0 0 0 0 0 0 0 0 0 0 0 .4 0\"/><feOffset dx=\"4.0\" dy=\"4.0\" in=\"blurOut2\" result=\"blurOut3\"/><feBlend in=\"SourceGraphic\" in2=\"blurOut3\" mode=\"normal\"/></filter></defs><g><!--MD5=[fbc87193dbaf4d95561dea2c320d4a47]\n",
       "cluster E1--><a href=\"psysml:44d40611-a894-4dae-a2f2-eb4bbba313e0\" target=\"_top\" title=\"psysml:44d40611-a894-4dae-a2f2-eb4bbba313e0\" xlink:actuate=\"onRequest\" xlink:href=\"psysml:44d40611-a894-4dae-a2f2-eb4bbba313e0\" xlink:show=\"new\" xlink:title=\"psysml:44d40611-a894-4dae-a2f2-eb4bbba313e0\" xlink:type=\"simple\"><polygon fill=\"#FFFFFF\" filter=\"url(#f1s85xg0s64tgi)\" points=\"16,6,210,6,217,28.2969,244,28.2969,244,164,16,164,16,6\" style=\"stroke: #000000; stroke-width: 1.5;\"/><line style=\"stroke: #000000; stroke-width: 1.5;\" x1=\"16\" x2=\"217\" y1=\"28.2969\" y2=\"28.2969\"/><text fill=\"#000000\" font-family=\"sans-serif\" font-size=\"14\" font-weight=\"bold\" lengthAdjust=\"spacingAndGlyphs\" textLength=\"188\" x=\"20\" y=\"20.9951\">TextualRepresentationTest</text></a><!--MD5=[d5e69f78d87373223dbae638b30a9c99]\n",
       "cluster E3--><a href=\"psysml:6b33d7d4-0403-4693-aa76-fb8d39622677\" target=\"_top\" title=\"psysml:6b33d7d4-0403-4693-aa76-fb8d39622677\" xlink:actuate=\"onRequest\" xlink:href=\"psysml:6b33d7d4-0403-4693-aa76-fb8d39622677\" xlink:show=\"new\" xlink:title=\"psysml:6b33d7d4-0403-4693-aa76-fb8d39622677\" xlink:type=\"simple\"><rect fill=\"#FFFFFF\" filter=\"url(#f1s85xg0s64tgi)\" height=\"87\" id=\"E3\" style=\"stroke: #A80036; stroke-width: 1.5;\" width=\"100\" x=\"96.5\" y=\"61\"/><rect fill=\"#FEFECE\" height=\"37.9375\" style=\"stroke: #A80036; stroke-width: 1.5;\" width=\"100\" x=\"96.5\" y=\"61\"/><text fill=\"#000000\" font-family=\"sans-serif\" font-size=\"12\" font-style=\"italic\" lengthAdjust=\"spacingAndGlyphs\" textLength=\"81\" x=\"106\" y=\"77.1387\">«action  def»</text><text fill=\"#000000\" font-family=\"sans-serif\" font-size=\"12\" lengthAdjust=\"spacingAndGlyphs\" textLength=\"27\" x=\"133\" y=\"91.1074\">setX</text></a><g id=\"E1.E2\"><a href=\"psysml:4aee70d7-2b51-44ea-8f07-d2f5d32d40ea\" target=\"_top\" title=\"psysml:4aee70d7-2b51-44ea-8f07-d2f5d32d40ea\" xlink:actuate=\"onRequest\" xlink:href=\"psysml:4aee70d7-2b51-44ea-8f07-d2f5d32d40ea\" xlink:show=\"new\" xlink:title=\"psysml:4aee70d7-2b51-44ea-8f07-d2f5d32d40ea\" xlink:type=\"simple\"><rect fill=\"#FEFECE\" filter=\"url(#f1s85xg0s64tgi)\" height=\"40\" id=\"E2\" style=\"stroke: #A80036; stroke-width: 1.5;\" width=\"50\" x=\"32\" y=\"41\"/><ellipse cx=\"51.5\" cy=\"57\" fill=\"#008000\" rx=\"11\" ry=\"11\" style=\"stroke: #A80036; stroke-width: 1.0;\"/><path d=\"M48.375,62 L48.375,51.4063 L51.6094,51.4063 Q53.5156,51.4063 54.4219,52.1563 Q55.3438,52.9063 55.3438,54.0781 Q55.3438,54.7656 54.9531,55.4219 Q54.5781,56.0781 53.8594,56.375 Q54.7188,56.75 55.2344,57.4375 Q55.75,58.125 55.75,58.9375 Q55.75,60.3125 54.7188,61.1563 Q53.7031,62 51.5938,62 L48.375,62 Z M50.2969,55.6406 L51.4531,55.6406 Q52.5781,55.6406 52.9844,55.2656 Q53.4063,54.875 53.4063,54.25 Q53.4063,53.6719 52.9844,53.3125 Q52.5625,52.9531 51.625,52.9531 L50.2969,52.9531 L50.2969,55.6406 Z M50.2969,60.4219 L51.7969,60.4219 Q52.7031,60.4219 53.2344,60.0313 Q53.7656,59.6406 53.7656,58.8906 Q53.7656,58.125 53.2656,57.6563 Q52.7656,57.1719 51.5,57.1719 L50.2969,57.1719 L50.2969,60.4219 Z \"/><text fill=\"#000000\" font-family=\"sans-serif\" font-size=\"12\" lengthAdjust=\"spacingAndGlyphs\" textLength=\"8\" x=\"66.5\" y=\"61.1543\">C</text></a></g><text fill=\"#000000\" font-family=\"sans-serif\" font-size=\"14\" lengthAdjust=\"spacingAndGlyphs\" textLength=\"8\" x=\"119\" y=\"39.6982\">c</text><rect fill=\"#A80036\" height=\"12\" style=\"stroke: #FEFECE; stroke-width: 1.5;\" width=\"12\" x=\"117\" y=\"55\"/><text fill=\"#000000\" font-family=\"sans-serif\" font-size=\"14\" lengthAdjust=\"spacingAndGlyphs\" textLength=\"38\" x=\"151\" y=\"39.6982\">newX</text><rect fill=\"#A80036\" height=\"12\" style=\"stroke: #FEFECE; stroke-width: 1.5;\" width=\"12\" x=\"164\" y=\"55\"/><!--MD5=[33523b68486985bea38753ac9c8faef3]\n",
       "@startuml\r\n",
       "skinparam ranksep 10\r\n",
       "skinparam rectangle {\r\n",
       " backgroundColor<<block>> LightGreen\r\n",
       "}\r\n",
       " \r\n",
       "package \"TextualRepresentationTest\" as E1  [[psysml:44d40611-a894-4dae-a2f2-eb4bbba313e0 ]]  {\r\n",
       "def \"C\" as E2 << << (B,green) >> [[psysml:4aee70d7-2b51-44ea-8f07-d2f5d32d40ea ]] \r\n",
       "rec def \"setX\" as E3 << <<(B,lemonchiffon) action  def>> [[psysml:6b33d7d4-0403-4693-aa76-fb8d39622677 ]] {\r\n",
       "portin \"c\" as E4  [[psysml:aadc07b0-b627-4a1c-8a0b-7e2bc77ad3c9 ]] \r\n",
       "portin \"newX\" as E5  [[psysml:a8b47a70-45ce-488b-ad71-695ba05ffc83 ]] \r\n",
       "}\r\n",
       "\r\n",
       "}\r\n",
       "@enduml\r\n",
       "\n",
       "PlantUML version 1.2020.13(Sat Jun 13 12:26:38 UTC 2020)\n",
       "(EPL source distribution)\n",
       "Java Runtime: OpenJDK Runtime Environment\n",
       "JVM: OpenJDK 64-Bit Server VM\n",
       "Default Encoding: UTF-8\n",
       "Language: en\n",
       "Country: null\n",
       "--></g></svg>"
      ]
     },
     "execution_count": 33,
     "metadata": {},
     "output_type": "execute_result"
    }
   ],
   "source": [
    "%viz --style=\"PLANTUML\" --view=\"Interconnection\" \"TextualRepresentationTest\""
   ]
  },
  {
   "cell_type": "code",
   "execution_count": 34,
   "id": "a4127ec2",
   "metadata": {
    "execution": {
     "iopub.execute_input": "2022-06-20T11:13:37.920821Z",
     "iopub.status.busy": "2022-06-20T11:13:37.920353Z",
     "iopub.status.idle": "2022-06-20T11:13:37.943535Z",
     "shell.execute_reply": "2022-06-20T11:13:37.943145Z"
    }
   },
   "outputs": [
    {
     "data": {
      "image/svg+xml": [
       "<?xml version=\"1.0\" encoding=\"UTF-8\" standalone=\"no\"?><svg xmlns=\"http://www.w3.org/2000/svg\" xmlns:xlink=\"http://www.w3.org/1999/xlink\" contentScriptType=\"application/ecmascript\" contentStyleType=\"text/css\" height=\"134px\" preserveAspectRatio=\"none\" style=\"width:160px;height:134px;\" version=\"1.1\" viewBox=\"0 0 160 134\" width=\"160px\" zoomAndPan=\"magnify\"><defs><filter height=\"300%\" id=\"frtyc4w30pekl\" width=\"300%\" x=\"-1\" y=\"-1\"><feGaussianBlur result=\"blurOut\" stdDeviation=\"2.0\"/><feColorMatrix in=\"blurOut\" result=\"blurOut2\" type=\"matrix\" values=\"0 0 0 0 0 0 0 0 0 0 0 0 0 0 0 0 0 0 .4 0\"/><feOffset dx=\"4.0\" dy=\"4.0\" in=\"blurOut2\" result=\"blurOut3\"/><feBlend in=\"SourceGraphic\" in2=\"blurOut3\" mode=\"normal\"/></filter></defs><g><!--MD5=[fbc87193dbaf4d95561dea2c320d4a47]\n",
       "cluster E1--><a href=\"psysml:6b33d7d4-0403-4693-aa76-fb8d39622677\" target=\"_top\" title=\"psysml:6b33d7d4-0403-4693-aa76-fb8d39622677\" xlink:actuate=\"onRequest\" xlink:href=\"psysml:6b33d7d4-0403-4693-aa76-fb8d39622677\" xlink:show=\"new\" xlink:title=\"psysml:6b33d7d4-0403-4693-aa76-fb8d39622677\" xlink:type=\"simple\"><rect fill=\"#FFFFFF\" filter=\"url(#frtyc4w30pekl)\" height=\"73\" id=\"E1\" style=\"stroke: #A80036; stroke-width: 1.5;\" width=\"134\" x=\"7\" y=\"42.0986\"/><rect fill=\"#FEFECE\" height=\"37.9375\" style=\"stroke: #A80036; stroke-width: 1.5;\" width=\"134\" x=\"7\" y=\"42.0986\"/><text fill=\"#000000\" font-family=\"sans-serif\" font-size=\"12\" font-style=\"italic\" lengthAdjust=\"spacingAndGlyphs\" textLength=\"81\" x=\"33.5\" y=\"58.2373\">«action  def»</text><text fill=\"#000000\" font-family=\"sans-serif\" font-size=\"12\" lengthAdjust=\"spacingAndGlyphs\" textLength=\"27\" x=\"60.5\" y=\"72.2061\">setX</text></a><text fill=\"#000000\" font-family=\"sans-serif\" font-size=\"14\" lengthAdjust=\"spacingAndGlyphs\" textLength=\"8\" x=\"21\" y=\"20.7969\">c</text><rect fill=\"#A80036\" height=\"12\" style=\"stroke: #FEFECE; stroke-width: 1.5;\" width=\"12\" x=\"19\" y=\"36.0986\"/><text fill=\"#000000\" font-family=\"sans-serif\" font-size=\"14\" lengthAdjust=\"spacingAndGlyphs\" textLength=\"38\" x=\"53\" y=\"20.7969\">newX</text><rect fill=\"#A80036\" height=\"12\" style=\"stroke: #FEFECE; stroke-width: 1.5;\" width=\"12\" x=\"66\" y=\"36.0986\"/><!--MD5=[ad6d148f224bef901f59f1c86ee2147b]\n",
       "@startuml\r\n",
       "skinparam ranksep 8\r\n",
       " \r\n",
       "rec def \"setX\" as E1 << <<(B,lemonchiffon) action  def>> [[psysml:6b33d7d4-0403-4693-aa76-fb8d39622677 ]] {\r\n",
       "portin \"c\" as E2  [[psysml:aadc07b0-b627-4a1c-8a0b-7e2bc77ad3c9 ]] \r\n",
       "portin \"newX\" as E3  [[psysml:a8b47a70-45ce-488b-ad71-695ba05ffc83 ]] \r\n",
       "}\r\n",
       "\r\n",
       "@enduml\r\n",
       "\n",
       "PlantUML version 1.2020.13(Sat Jun 13 12:26:38 UTC 2020)\n",
       "(EPL source distribution)\n",
       "Java Runtime: OpenJDK Runtime Environment\n",
       "JVM: OpenJDK 64-Bit Server VM\n",
       "Default Encoding: UTF-8\n",
       "Language: en\n",
       "Country: null\n",
       "--></g></svg>"
      ]
     },
     "execution_count": 34,
     "metadata": {},
     "output_type": "execute_result"
    }
   ],
   "source": [
    "%viz --style=\"PLANTUML\" --view=\"Action\" \"TextualRepresentationTest\""
   ]
  },
  {
   "cell_type": "code",
   "execution_count": 35,
   "id": "aa7eded5",
   "metadata": {
    "execution": {
     "iopub.execute_input": "2022-06-20T11:13:37.993521Z",
     "iopub.status.busy": "2022-06-20T11:13:37.993063Z",
     "iopub.status.idle": "2022-06-20T11:13:37.999920Z",
     "shell.execute_reply": "2022-06-20T11:13:38.000291Z"
    }
   },
   "outputs": [
    {
     "data": {
      "image/svg+xml": [
       "<?xml version=\"1.0\" encoding=\"UTF-8\" standalone=\"no\"?><svg xmlns=\"http://www.w3.org/2000/svg\" xmlns:xlink=\"http://www.w3.org/1999/xlink\" contentScriptType=\"application/ecmascript\" contentStyleType=\"text/css\" height=\"12px\" preserveAspectRatio=\"none\" style=\"width:12px;height:12px;\" version=\"1.1\" viewBox=\"0 0 12 12\" width=\"12px\" zoomAndPan=\"magnify\"><defs/><g><!--MD5=[ca4faa0b02def275ea33c14ea7a1a98d]\n",
       "@startuml\r\n",
       "skinparam roundcorner 20\r\n",
       "skinparam BoxPadding 20\r\n",
       "skinparam SequenceBoxBackgroundColor #white\r\n",
       "skinparam style strictuml\r\n",
       "skinparam maxMessageSize 100\r\n",
       " \r\n",
       "@enduml\r\n",
       "\n",
       "PlantUML version 1.2020.13(Sat Jun 13 12:26:38 UTC 2020)\n",
       "(EPL source distribution)\n",
       "Java Runtime: OpenJDK Runtime Environment\n",
       "JVM: OpenJDK 64-Bit Server VM\n",
       "Default Encoding: UTF-8\n",
       "Language: en\n",
       "Country: null\n",
       "--></g></svg>"
      ]
     },
     "execution_count": 35,
     "metadata": {},
     "output_type": "execute_result"
    }
   ],
   "source": [
    "%viz --style=\"PLANTUML\" --view=\"Sequence\" \"TextualRepresentationTest\""
   ]
  },
  {
   "cell_type": "code",
   "execution_count": 36,
   "id": "bfaf94af",
   "metadata": {
    "execution": {
     "iopub.execute_input": "2022-06-20T11:13:38.048564Z",
     "iopub.status.busy": "2022-06-20T11:13:38.048054Z",
     "iopub.status.idle": "2022-06-20T11:13:38.089155Z",
     "shell.execute_reply": "2022-06-20T11:13:38.088755Z"
    }
   },
   "outputs": [
    {
     "data": {
      "image/svg+xml": [
       "<?xml version=\"1.0\" encoding=\"UTF-8\" standalone=\"no\"?><svg xmlns=\"http://www.w3.org/2000/svg\" xmlns:xlink=\"http://www.w3.org/1999/xlink\" contentScriptType=\"application/ecmascript\" contentStyleType=\"text/css\" height=\"255px\" preserveAspectRatio=\"none\" style=\"width:377px;height:255px;\" version=\"1.1\" viewBox=\"0 0 377 255\" width=\"377px\" zoomAndPan=\"magnify\"><defs><filter height=\"300%\" id=\"fgyhlvic6uy3s\" width=\"300%\" x=\"-1\" y=\"-1\"><feGaussianBlur result=\"blurOut\" stdDeviation=\"2.0\"/><feColorMatrix in=\"blurOut\" result=\"blurOut2\" type=\"matrix\" values=\"0 0 0 0 0 0 0 0 0 0 0 0 0 0 0 0 0 0 .4 0\"/><feOffset dx=\"4.0\" dy=\"4.0\" in=\"blurOut2\" result=\"blurOut3\"/><feBlend in=\"SourceGraphic\" in2=\"blurOut3\" mode=\"normal\"/></filter></defs><g><!--MD5=[fbc87193dbaf4d95561dea2c320d4a47]\n",
       "cluster E1--><a href=\"psysml:44d40611-a894-4dae-a2f2-eb4bbba313e0\" target=\"_top\" title=\"psysml:44d40611-a894-4dae-a2f2-eb4bbba313e0\" xlink:actuate=\"onRequest\" xlink:href=\"psysml:44d40611-a894-4dae-a2f2-eb4bbba313e0\" xlink:show=\"new\" xlink:title=\"psysml:44d40611-a894-4dae-a2f2-eb4bbba313e0\" xlink:type=\"simple\"><polygon fill=\"#FFFFFF\" filter=\"url(#fgyhlvic6uy3s)\" points=\"16,6,210,6,217,28.2969,355,28.2969,355,243.5,16,243.5,16,6\" style=\"stroke: #000000; stroke-width: 1.5;\"/><line style=\"stroke: #000000; stroke-width: 1.5;\" x1=\"16\" x2=\"217\" y1=\"28.2969\" y2=\"28.2969\"/><text fill=\"#000000\" font-family=\"sans-serif\" font-size=\"14\" font-weight=\"bold\" lengthAdjust=\"spacingAndGlyphs\" textLength=\"188\" x=\"20\" y=\"20.9951\">TextualRepresentationTest</text></a><!--MD5=[f6df4d0ebaf0b5dfb2ced0ae5af7c670]\n",
       "cluster E4--><a href=\"psysml:6b33d7d4-0403-4693-aa76-fb8d39622677\" target=\"_top\" title=\"psysml:6b33d7d4-0403-4693-aa76-fb8d39622677\" xlink:actuate=\"onRequest\" xlink:href=\"psysml:6b33d7d4-0403-4693-aa76-fb8d39622677\" xlink:show=\"new\" xlink:title=\"psysml:6b33d7d4-0403-4693-aa76-fb8d39622677\" xlink:type=\"simple\"><rect fill=\"#FFFFFF\" filter=\"url(#fgyhlvic6uy3s)\" height=\"151.5\" id=\"E4\" style=\"stroke: #A80036; stroke-width: 1.5;\" width=\"134\" x=\"205\" y=\"76\"/><rect fill=\"#FEFECE\" height=\"37.9375\" style=\"stroke: #A80036; stroke-width: 1.5;\" width=\"134\" x=\"205\" y=\"76\"/><text fill=\"#000000\" font-family=\"sans-serif\" font-size=\"12\" font-style=\"italic\" lengthAdjust=\"spacingAndGlyphs\" textLength=\"81\" x=\"231.5\" y=\"92.1387\">«action  def»</text><text fill=\"#000000\" font-family=\"sans-serif\" font-size=\"12\" lengthAdjust=\"spacingAndGlyphs\" textLength=\"27\" x=\"258.5\" y=\"106.1074\">setX</text></a><!--MD5=[b4997ac47864f28c2f74865a473b2911]\n",
       "class E2--><a href=\"psysml:4aee70d7-2b51-44ea-8f07-d2f5d32d40ea\" target=\"_top\" title=\"psysml:4aee70d7-2b51-44ea-8f07-d2f5d32d40ea\" xlink:actuate=\"onRequest\" xlink:href=\"psysml:4aee70d7-2b51-44ea-8f07-d2f5d32d40ea\" xlink:show=\"new\" xlink:title=\"psysml:4aee70d7-2b51-44ea-8f07-d2f5d32d40ea\" xlink:type=\"simple\"><rect fill=\"#FEFECE\" filter=\"url(#fgyhlvic6uy3s)\" height=\"69.6094\" id=\"E2\" style=\"stroke: #A80036; stroke-width: 1.5;\" width=\"63\" x=\"75.5\" y=\"41\"/><ellipse cx=\"100.85\" cy=\"57\" fill=\"#008000\" rx=\"11\" ry=\"11\" style=\"stroke: #A80036; stroke-width: 1.0;\"/><path d=\"M97.725,62 L97.725,51.4063 L100.9594,51.4063 Q102.8656,51.4063 103.7719,52.1563 Q104.6938,52.9063 104.6938,54.0781 Q104.6938,54.7656 104.3031,55.4219 Q103.9281,56.0781 103.2094,56.375 Q104.0688,56.75 104.5844,57.4375 Q105.1,58.125 105.1,58.9375 Q105.1,60.3125 104.0688,61.1563 Q103.0531,62 100.9438,62 L97.725,62 Z M99.6469,55.6406 L100.8031,55.6406 Q101.9281,55.6406 102.3344,55.2656 Q102.7563,54.875 102.7563,54.25 Q102.7563,53.6719 102.3344,53.3125 Q101.9125,52.9531 100.975,52.9531 L99.6469,52.9531 L99.6469,55.6406 Z M99.6469,60.4219 L101.1469,60.4219 Q102.0531,60.4219 102.5844,60.0313 Q103.1156,59.6406 103.1156,58.8906 Q103.1156,58.125 102.6156,57.6563 Q102.1156,57.1719 100.85,57.1719 L99.6469,57.1719 L99.6469,60.4219 Z \"/><text fill=\"#000000\" font-family=\"sans-serif\" font-size=\"12\" lengthAdjust=\"spacingAndGlyphs\" textLength=\"8\" x=\"117.15\" y=\"61.1543\">C</text><line style=\"stroke: #A80036; stroke-width: 1.5;\" x1=\"76.5\" x2=\"137.5\" y1=\"73\" y2=\"73\"/><text fill=\"#000000\" font-family=\"sans-serif\" font-size=\"11\" lengthAdjust=\"spacingAndGlyphs\" textLength=\"38\" x=\"81.5\" y=\"104.0151\">x: Real</text><line style=\"stroke: #A80036; stroke-width: 1.0;\" x1=\"76.5\" x2=\"79.5\" y1=\"87.4023\" y2=\"87.4023\"/><text fill=\"#000000\" font-family=\"sans-serif\" font-size=\"11\" lengthAdjust=\"spacingAndGlyphs\" textLength=\"55\" x=\"79.5\" y=\"90.7104\">attributes</text><line style=\"stroke: #A80036; stroke-width: 1.0;\" x1=\"134.5\" x2=\"137.5\" y1=\"87.4023\" y2=\"87.4023\"/></a><!--MD5=[09b614a08d8cba4a07c9adeb5e0fee81]\n",
       "class E3--><a href=\"psysml:4e46f6e8-5c68-4c27-8860-5a5208ef4b7d\" target=\"_top\" title=\"psysml:4e46f6e8-5c68-4c27-8860-5a5208ef4b7d\" xlink:actuate=\"onRequest\" xlink:href=\"psysml:4e46f6e8-5c68-4c27-8860-5a5208ef4b7d\" xlink:show=\"new\" xlink:title=\"psysml:4e46f6e8-5c68-4c27-8860-5a5208ef4b7d\" xlink:type=\"simple\"><rect fill=\"#FEFECE\" filter=\"url(#fgyhlvic6uy3s)\" height=\"45.9375\" id=\"E3\" rx=\"10\" ry=\"10\" style=\"stroke: #A80036; stroke-width: 1.5;\" width=\"150\" x=\"32\" y=\"171\"/><ellipse cx=\"47\" cy=\"189.9688\" fill=\"#FFA500\" rx=\"11\" ry=\"11\" style=\"stroke: #A80036; stroke-width: 1.0;\"/><path d=\"M46.75,195.4375 Q45,195.4375 44.0469,194.4063 Q43.1094,193.3594 43.1094,191.5156 L43.1094,184.625 L45.1719,184.625 L45.1719,184.7813 Q45.0781,184.875 45.0469,185.0156 Q45.0313,185.1406 45.0313,185.4063 L45.0313,191.5313 Q45.0313,192.625 45.4063,193.25 Q45.7813,193.875 46.7656,193.875 Q47.75,193.875 48.1406,193.25 Q48.5313,192.625 48.5313,191.4844 L48.5313,184.625 L50.4063,184.625 L50.4063,191.4688 Q50.4063,193.5 49.375,194.4688 Q48.3594,195.4375 46.75,195.4375 Z \"/><text fill=\"#000000\" font-family=\"sans-serif\" font-size=\"12\" font-style=\"italic\" lengthAdjust=\"spacingAndGlyphs\" textLength=\"122\" x=\"59\" y=\"187.1387\">«assert constraint»</text><text fill=\"#000000\" font-family=\"sans-serif\" font-size=\"12\" lengthAdjust=\"spacingAndGlyphs\" textLength=\"76\" x=\"80\" y=\"201.1074\">x_constraint</text><line style=\"stroke: #A80036; stroke-width: 1.5;\" x1=\"33\" x2=\"181\" y1=\"208.9375\" y2=\"208.9375\"/></a><text fill=\"#000000\" font-family=\"sans-serif\" font-size=\"14\" lengthAdjust=\"spacingAndGlyphs\" textLength=\"8\" x=\"219\" y=\"54.6982\">c</text><rect fill=\"#A80036\" height=\"12\" style=\"stroke: #FEFECE; stroke-width: 1.5;\" width=\"12\" x=\"217\" y=\"70\"/><text fill=\"#000000\" font-family=\"sans-serif\" font-size=\"14\" lengthAdjust=\"spacingAndGlyphs\" textLength=\"38\" x=\"251\" y=\"54.6982\">newX</text><rect fill=\"#A80036\" height=\"12\" style=\"stroke: #FEFECE; stroke-width: 1.5;\" width=\"12\" x=\"264\" y=\"70\"/><!--MD5=[209b3feb70ccb6233bfe1053d122c12c]\n",
       "reverse link E2 to E3--><a href=\"psysml:057e15e5-e107-41c4-afdf-3f2cc89f9205\" target=\"_top\" title=\"psysml:057e15e5-e107-41c4-afdf-3f2cc89f9205\" xlink:actuate=\"onRequest\" xlink:href=\"psysml:057e15e5-e107-41c4-afdf-3f2cc89f9205\" xlink:show=\"new\" xlink:title=\"psysml:057e15e5-e107-41c4-afdf-3f2cc89f9205\" xlink:type=\"simple\"><path d=\"M107,124.3 C107,140.38 107,157.6 107,170.77 \" fill=\"none\" id=\"E2&lt;-E3\" style=\"stroke: #A80036; stroke-width: 1.0;\"/><polygon fill=\"#A80036\" points=\"107,111.18,103,117.18,107,123.18,111,117.18,107,111.18\" style=\"stroke: #A80036; stroke-width: 1.0;\"/><text fill=\"#000000\" font-family=\"sans-serif\" font-size=\"13\" lengthAdjust=\"spacingAndGlyphs\" textLength=\"7\" x=\"99.1031\" y=\"159.9874\">*</text></a><!--MD5=[89c29d23239edb5ee57b54285b8ebf15]\n",
       "@startuml\r\n",
       " \r\n",
       "package \"TextualRepresentationTest\" as E1  [[psysml:44d40611-a894-4dae-a2f2-eb4bbba313e0 ]]  {\r\n",
       "comp def \"C\" as E2 << << (B,green) >> [[psysml:4aee70d7-2b51-44ea-8f07-d2f5d32d40ea ]] {\r\n",
       "- - attributes - -\r\n",
       "x: Real\r\n",
       "}\r\n",
       "comp usage \"x_constraint \" as E3 << <<(U,orange) assert constraint>> [[psysml:4e46f6e8-5c68-4c27-8860-5a5208ef4b7d ]] {\r\n",
       "}\r\n",
       "rec def \"setX\" as E4 << <<(B,lemonchiffon) action  def>> [[psysml:6b33d7d4-0403-4693-aa76-fb8d39622677 ]] {\r\n",
       "portin \"c\" as E5  [[psysml:aadc07b0-b627-4a1c-8a0b-7e2bc77ad3c9 ]] \r\n",
       "portin \"newX\" as E6  [[psysml:a8b47a70-45ce-488b-ad71-695ba05ffc83 ]] \r\n",
       "}\r\n",
       "\r\n",
       "}\r\n",
       "E2 *- - \"*\"E3 [[psysml:057e15e5-e107-41c4-afdf-3f2cc89f9205 ]] \r\n",
       "@enduml\r\n",
       "\n",
       "PlantUML version 1.2020.13(Sat Jun 13 12:26:38 UTC 2020)\n",
       "(EPL source distribution)\n",
       "Java Runtime: OpenJDK Runtime Environment\n",
       "JVM: OpenJDK 64-Bit Server VM\n",
       "Default Encoding: UTF-8\n",
       "Language: en\n",
       "Country: null\n",
       "--></g></svg>"
      ]
     },
     "execution_count": 36,
     "metadata": {},
     "output_type": "execute_result"
    }
   ],
   "source": [
    "%viz --style=\"PLANTUML\" --view=\"MIXED\" \"TextualRepresentationTest\""
   ]
  },
  {
   "cell_type": "code",
   "execution_count": 37,
   "id": "49bd6f5a",
   "metadata": {
    "execution": {
     "iopub.execute_input": "2022-06-20T11:13:38.138926Z",
     "iopub.status.busy": "2022-06-20T11:13:38.138483Z",
     "iopub.status.idle": "2022-06-20T11:13:38.180706Z",
     "shell.execute_reply": "2022-06-20T11:13:38.180260Z"
    }
   },
   "outputs": [
    {
     "data": {
      "image/svg+xml": [
       "<?xml version=\"1.0\" encoding=\"UTF-8\" standalone=\"no\"?><svg xmlns=\"http://www.w3.org/2000/svg\" xmlns:xlink=\"http://www.w3.org/1999/xlink\" contentScriptType=\"application/ecmascript\" contentStyleType=\"text/css\" height=\"261px\" preserveAspectRatio=\"none\" style=\"width:351px;height:261px;\" version=\"1.1\" viewBox=\"0 0 351 261\" width=\"351px\" zoomAndPan=\"magnify\"><defs/><g><!--MD5=[fbc87193dbaf4d95561dea2c320d4a47]\n",
       "cluster E1--><a href=\"psysml:44d40611-a894-4dae-a2f2-eb4bbba313e0\" target=\"_top\" title=\"psysml:44d40611-a894-4dae-a2f2-eb4bbba313e0\" xlink:actuate=\"onRequest\" xlink:href=\"psysml:44d40611-a894-4dae-a2f2-eb4bbba313e0\" xlink:show=\"new\" xlink:title=\"psysml:44d40611-a894-4dae-a2f2-eb4bbba313e0\" xlink:type=\"simple\"><polygon fill=\"#FFFFFF\" points=\"16,6,210,6,217,28.2969,329,28.2969,329,249.5,16,249.5,16,6\" style=\"stroke: #000000; stroke-width: 1.5;\"/><line style=\"stroke: #000000; stroke-width: 1.5;\" x1=\"16\" x2=\"217\" y1=\"28.2969\" y2=\"28.2969\"/><text fill=\"#000000\" font-family=\"sans-serif\" font-size=\"14\" font-weight=\"bold\" lengthAdjust=\"spacingAndGlyphs\" textLength=\"188\" x=\"20\" y=\"20.9951\">TextualRepresentationTest</text></a><!--MD5=[f6df4d0ebaf0b5dfb2ced0ae5af7c670]\n",
       "cluster E4--><a href=\"psysml:6b33d7d4-0403-4693-aa76-fb8d39622677\" target=\"_top\" title=\"psysml:6b33d7d4-0403-4693-aa76-fb8d39622677\" xlink:actuate=\"onRequest\" xlink:href=\"psysml:6b33d7d4-0403-4693-aa76-fb8d39622677\" xlink:show=\"new\" xlink:title=\"psysml:6b33d7d4-0403-4693-aa76-fb8d39622677\" xlink:type=\"simple\"><rect fill=\"#FFFFFF\" height=\"154.5\" id=\"E4\" style=\"stroke: #383838; stroke-width: 1.5;\" width=\"134\" x=\"179\" y=\"79\"/><rect fill=\"#F8F8F8\" height=\"37.9375\" style=\"stroke: #383838; stroke-width: 1.5;\" width=\"134\" x=\"179\" y=\"79\"/><text fill=\"#000000\" font-family=\"sans-serif\" font-size=\"12\" font-style=\"italic\" lengthAdjust=\"spacingAndGlyphs\" textLength=\"81\" x=\"205.5\" y=\"95.1387\">«action  def»</text><text fill=\"#000000\" font-family=\"sans-serif\" font-size=\"12\" lengthAdjust=\"spacingAndGlyphs\" textLength=\"27\" x=\"232.5\" y=\"109.1074\">setX</text></a><!--MD5=[b4997ac47864f28c2f74865a473b2911]\n",
       "class E2--><a href=\"psysml:4aee70d7-2b51-44ea-8f07-d2f5d32d40ea\" target=\"_top\" title=\"psysml:4aee70d7-2b51-44ea-8f07-d2f5d32d40ea\" xlink:actuate=\"onRequest\" xlink:href=\"psysml:4aee70d7-2b51-44ea-8f07-d2f5d32d40ea\" xlink:show=\"new\" xlink:title=\"psysml:4aee70d7-2b51-44ea-8f07-d2f5d32d40ea\" xlink:type=\"simple\"><rect fill=\"#FFFFFF\" height=\"75.5469\" id=\"E2\" style=\"stroke: #383838; stroke-width: 1.5;\" width=\"71\" x=\"58.5\" y=\"41\"/><text fill=\"#000000\" font-family=\"sans-serif\" font-size=\"12\" font-style=\"italic\" lengthAdjust=\"spacingAndGlyphs\" textLength=\"69\" x=\"59.5\" y=\"57.1387\">«item  def»</text><text fill=\"#000000\" font-family=\"sans-serif\" font-size=\"12\" lengthAdjust=\"spacingAndGlyphs\" textLength=\"8\" x=\"90\" y=\"71.1074\">C</text><line style=\"stroke: #383838; stroke-width: 1.5;\" x1=\"59.5\" x2=\"128.5\" y1=\"78.9375\" y2=\"78.9375\"/><text fill=\"#000000\" font-family=\"sans-serif\" font-size=\"11\" lengthAdjust=\"spacingAndGlyphs\" textLength=\"38\" x=\"64.5\" y=\"109.9526\">x: Real</text><line style=\"stroke: #383838; stroke-width: 1.0;\" x1=\"59.5\" x2=\"66.5\" y1=\"93.3398\" y2=\"93.3398\"/><text fill=\"#000000\" font-family=\"sans-serif\" font-size=\"11\" lengthAdjust=\"spacingAndGlyphs\" textLength=\"55\" x=\"66.5\" y=\"96.6479\">attributes</text><line style=\"stroke: #383838; stroke-width: 1.0;\" x1=\"121.5\" x2=\"128.5\" y1=\"93.3398\" y2=\"93.3398\"/></a><!--MD5=[09b614a08d8cba4a07c9adeb5e0fee81]\n",
       "class E3--><a href=\"psysml:4e46f6e8-5c68-4c27-8860-5a5208ef4b7d\" target=\"_top\" title=\"psysml:4e46f6e8-5c68-4c27-8860-5a5208ef4b7d\" xlink:actuate=\"onRequest\" xlink:href=\"psysml:4e46f6e8-5c68-4c27-8860-5a5208ef4b7d\" xlink:show=\"new\" xlink:title=\"psysml:4e46f6e8-5c68-4c27-8860-5a5208ef4b7d\" xlink:type=\"simple\"><rect fill=\"#FFFFFF\" height=\"45.9375\" id=\"E3\" rx=\"10\" ry=\"10\" style=\"stroke: #383838; stroke-width: 1.5;\" width=\"124\" x=\"32\" y=\"177\"/><text fill=\"#000000\" font-family=\"sans-serif\" font-size=\"12\" font-style=\"italic\" lengthAdjust=\"spacingAndGlyphs\" textLength=\"122\" x=\"33\" y=\"193.1387\">«assert constraint»</text><text fill=\"#000000\" font-family=\"sans-serif\" font-size=\"12\" lengthAdjust=\"spacingAndGlyphs\" textLength=\"76\" x=\"54\" y=\"207.1074\">x_constraint</text><line style=\"stroke: #383838; stroke-width: 1.5;\" x1=\"33\" x2=\"155\" y1=\"214.9375\" y2=\"214.9375\"/></a><text fill=\"#000000\" font-family=\"sans-serif\" font-size=\"14\" lengthAdjust=\"spacingAndGlyphs\" textLength=\"8\" x=\"193\" y=\"57.6982\">c</text><rect fill=\"#383838\" height=\"12\" style=\"stroke: #F8F8F8; stroke-width: 1.5;\" width=\"12\" x=\"191\" y=\"73\"/><text fill=\"#000000\" font-family=\"sans-serif\" font-size=\"14\" lengthAdjust=\"spacingAndGlyphs\" textLength=\"38\" x=\"225\" y=\"57.6982\">newX</text><rect fill=\"#383838\" height=\"12\" style=\"stroke: #F8F8F8; stroke-width: 1.5;\" width=\"12\" x=\"238\" y=\"73\"/><!--MD5=[209b3feb70ccb6233bfe1053d122c12c]\n",
       "reverse link E2 to E3--><a href=\"psysml:057e15e5-e107-41c4-afdf-3f2cc89f9205\" target=\"_top\" title=\"psysml:057e15e5-e107-41c4-afdf-3f2cc89f9205\" xlink:actuate=\"onRequest\" xlink:href=\"psysml:057e15e5-e107-41c4-afdf-3f2cc89f9205\" xlink:show=\"new\" xlink:title=\"psysml:057e15e5-e107-41c4-afdf-3f2cc89f9205\" xlink:type=\"simple\"><path d=\"M94,130.34 C94,146.61 94,163.81 94,176.93 \" fill=\"none\" id=\"E2&lt;-E3\" style=\"stroke: #383838; stroke-width: 1.0;\"/><polygon fill=\"#383838\" points=\"94,117,90,123,94,129,98,123,94,117\" style=\"stroke: #383838; stroke-width: 1.0;\"/><text fill=\"#000000\" font-family=\"sans-serif\" font-size=\"13\" lengthAdjust=\"spacingAndGlyphs\" textLength=\"7\" x=\"86.0594\" y=\"165.8075\">*</text></a><!--MD5=[becce0cae4f33eed279e5ac8869256da]\n",
       "@startuml\r\n",
       "skinparam monochrome true\r\n",
       "skinparam classbackgroundcolor white\r\n",
       "skinparam shadowing false\r\n",
       "skinparam wrapWidth 300\r\n",
       "hide circle\r\n",
       "\r\n",
       "package \"TextualRepresentationTest\" as E1  [[psysml:44d40611-a894-4dae-a2f2-eb4bbba313e0 ]]  {\r\n",
       "comp def \"C\" as E2  <<(T,blue) item  def>> [[psysml:4aee70d7-2b51-44ea-8f07-d2f5d32d40ea ]] {\r\n",
       "- - attributes - -\r\n",
       "x: Real\r\n",
       "}\r\n",
       "comp usage \"x_constraint \" as E3  <<(T,blue) assert constraint>> [[psysml:4e46f6e8-5c68-4c27-8860-5a5208ef4b7d ]] {\r\n",
       "}\r\n",
       "rec def \"setX\" as E4  <<(T,blue) action  def>> [[psysml:6b33d7d4-0403-4693-aa76-fb8d39622677 ]] {\r\n",
       "portin \"c\" as E5  [[psysml:aadc07b0-b627-4a1c-8a0b-7e2bc77ad3c9 ]] \r\n",
       "portin \"newX\" as E6  [[psysml:a8b47a70-45ce-488b-ad71-695ba05ffc83 ]] \r\n",
       "}\r\n",
       "\r\n",
       "}\r\n",
       "E2 *- - \"*\"E3 [[psysml:057e15e5-e107-41c4-afdf-3f2cc89f9205 ]] \r\n",
       "@enduml\r\n",
       "\n",
       "PlantUML version 1.2020.13(Sat Jun 13 12:26:38 UTC 2020)\n",
       "(EPL source distribution)\n",
       "Java Runtime: OpenJDK Runtime Environment\n",
       "JVM: OpenJDK 64-Bit Server VM\n",
       "Default Encoding: UTF-8\n",
       "Language: en\n",
       "Country: null\n",
       "--></g></svg>"
      ]
     },
     "execution_count": 37,
     "metadata": {},
     "output_type": "execute_result"
    }
   ],
   "source": [
    "%viz --style=\"DEFAULT\" --view=\"Default\" \"TextualRepresentationTest\""
   ]
  },
  {
   "cell_type": "code",
   "execution_count": 38,
   "id": "f49da35f",
   "metadata": {
    "execution": {
     "iopub.execute_input": "2022-06-20T11:13:38.230416Z",
     "iopub.status.busy": "2022-06-20T11:13:38.230024Z",
     "iopub.status.idle": "2022-06-20T11:13:38.269549Z",
     "shell.execute_reply": "2022-06-20T11:13:38.269225Z"
    }
   },
   "outputs": [
    {
     "data": {
      "image/svg+xml": [
       "<?xml version=\"1.0\" encoding=\"UTF-8\" standalone=\"no\"?><svg xmlns=\"http://www.w3.org/2000/svg\" xmlns:xlink=\"http://www.w3.org/1999/xlink\" contentScriptType=\"application/ecmascript\" contentStyleType=\"text/css\" height=\"375px\" preserveAspectRatio=\"none\" style=\"width:242px;height:375px;\" version=\"1.1\" viewBox=\"0 0 242 375\" width=\"242px\" zoomAndPan=\"magnify\"><defs/><g><!--MD5=[fbc87193dbaf4d95561dea2c320d4a47]\n",
       "cluster E1--><a href=\"psysml:44d40611-a894-4dae-a2f2-eb4bbba313e0\" target=\"_top\" title=\"psysml:44d40611-a894-4dae-a2f2-eb4bbba313e0\" xlink:actuate=\"onRequest\" xlink:href=\"psysml:44d40611-a894-4dae-a2f2-eb4bbba313e0\" xlink:show=\"new\" xlink:title=\"psysml:44d40611-a894-4dae-a2f2-eb4bbba313e0\" xlink:type=\"simple\"><polygon fill=\"#FFFFFF\" points=\"16,6,210,6,217,28.2969,220,28.2969,220,363,16,363,16,6\" style=\"stroke: #000000; stroke-width: 1.5;\"/><line style=\"stroke: #000000; stroke-width: 1.5;\" x1=\"16\" x2=\"217\" y1=\"28.2969\" y2=\"28.2969\"/><text fill=\"#000000\" font-family=\"sans-serif\" font-size=\"14\" font-weight=\"bold\" lengthAdjust=\"spacingAndGlyphs\" textLength=\"188\" x=\"20\" y=\"20.9951\">TextualRepresentationTest</text></a><!--MD5=[b4997ac47864f28c2f74865a473b2911]\n",
       "class E2--><a href=\"psysml:4aee70d7-2b51-44ea-8f07-d2f5d32d40ea\" target=\"_top\" title=\"psysml:4aee70d7-2b51-44ea-8f07-d2f5d32d40ea\" xlink:actuate=\"onRequest\" xlink:href=\"psysml:4aee70d7-2b51-44ea-8f07-d2f5d32d40ea\" xlink:show=\"new\" xlink:title=\"psysml:4aee70d7-2b51-44ea-8f07-d2f5d32d40ea\" xlink:type=\"simple\"><rect fill=\"#FFFFFF\" height=\"75.5469\" id=\"E2\" style=\"stroke: #383838; stroke-width: 1.5;\" width=\"71\" x=\"82.5\" y=\"164\"/><text fill=\"#000000\" font-family=\"sans-serif\" font-size=\"12\" font-style=\"italic\" lengthAdjust=\"spacingAndGlyphs\" textLength=\"69\" x=\"83.5\" y=\"180.1387\">«item  def»</text><text fill=\"#000000\" font-family=\"sans-serif\" font-size=\"12\" lengthAdjust=\"spacingAndGlyphs\" textLength=\"8\" x=\"114\" y=\"194.1074\">C</text><line style=\"stroke: #383838; stroke-width: 1.5;\" x1=\"83.5\" x2=\"152.5\" y1=\"201.9375\" y2=\"201.9375\"/><text fill=\"#000000\" font-family=\"sans-serif\" font-size=\"11\" lengthAdjust=\"spacingAndGlyphs\" textLength=\"38\" x=\"88.5\" y=\"232.9526\">x: Real</text><line style=\"stroke: #383838; stroke-width: 1.0;\" x1=\"83.5\" x2=\"90.5\" y1=\"216.3398\" y2=\"216.3398\"/><text fill=\"#000000\" font-family=\"sans-serif\" font-size=\"11\" lengthAdjust=\"spacingAndGlyphs\" textLength=\"55\" x=\"90.5\" y=\"219.6479\">attributes</text><line style=\"stroke: #383838; stroke-width: 1.0;\" x1=\"145.5\" x2=\"152.5\" y1=\"216.3398\" y2=\"216.3398\"/></a><!--MD5=[09b614a08d8cba4a07c9adeb5e0fee81]\n",
       "class E3--><a href=\"psysml:4e46f6e8-5c68-4c27-8860-5a5208ef4b7d\" target=\"_top\" title=\"psysml:4e46f6e8-5c68-4c27-8860-5a5208ef4b7d\" xlink:actuate=\"onRequest\" xlink:href=\"psysml:4e46f6e8-5c68-4c27-8860-5a5208ef4b7d\" xlink:show=\"new\" xlink:title=\"psysml:4e46f6e8-5c68-4c27-8860-5a5208ef4b7d\" xlink:type=\"simple\"><rect fill=\"#FFFFFF\" height=\"45.9375\" id=\"E3\" rx=\"10\" ry=\"10\" style=\"stroke: #383838; stroke-width: 1.5;\" width=\"124\" x=\"56\" y=\"301\"/><text fill=\"#000000\" font-family=\"sans-serif\" font-size=\"12\" font-style=\"italic\" lengthAdjust=\"spacingAndGlyphs\" textLength=\"122\" x=\"57\" y=\"317.1387\">«assert constraint»</text><text fill=\"#000000\" font-family=\"sans-serif\" font-size=\"12\" lengthAdjust=\"spacingAndGlyphs\" textLength=\"76\" x=\"78\" y=\"331.1074\">x_constraint</text><line style=\"stroke: #383838; stroke-width: 1.5;\" x1=\"57\" x2=\"179\" y1=\"338.9375\" y2=\"338.9375\"/></a><!--MD5=[ebbe1d658d1005bcc118a6aa81145e00]\n",
       "class E4--><a href=\"psysml:6b33d7d4-0403-4693-aa76-fb8d39622677\" target=\"_top\" title=\"psysml:6b33d7d4-0403-4693-aa76-fb8d39622677\" xlink:actuate=\"onRequest\" xlink:href=\"psysml:6b33d7d4-0403-4693-aa76-fb8d39622677\" xlink:show=\"new\" xlink:title=\"psysml:6b33d7d4-0403-4693-aa76-fb8d39622677\" xlink:type=\"simple\"><rect fill=\"#FFFFFF\" height=\"45.9375\" id=\"E4\" style=\"stroke: #383838; stroke-width: 1.5;\" width=\"83\" x=\"76.5\" y=\"41\"/><text fill=\"#000000\" font-family=\"sans-serif\" font-size=\"12\" font-style=\"italic\" lengthAdjust=\"spacingAndGlyphs\" textLength=\"81\" x=\"77.5\" y=\"57.1387\">«action  def»</text><text fill=\"#000000\" font-family=\"sans-serif\" font-size=\"12\" lengthAdjust=\"spacingAndGlyphs\" textLength=\"27\" x=\"104.5\" y=\"71.1074\">setX</text><line style=\"stroke: #383838; stroke-width: 1.5;\" x1=\"77.5\" x2=\"158.5\" y1=\"78.9375\" y2=\"78.9375\"/></a><!--MD5=[209b3feb70ccb6233bfe1053d122c12c]\n",
       "reverse link E2 to E3--><a href=\"psysml:057e15e5-e107-41c4-afdf-3f2cc89f9205\" target=\"_top\" title=\"psysml:057e15e5-e107-41c4-afdf-3f2cc89f9205\" xlink:actuate=\"onRequest\" xlink:href=\"psysml:057e15e5-e107-41c4-afdf-3f2cc89f9205\" xlink:show=\"new\" xlink:title=\"psysml:057e15e5-e107-41c4-afdf-3f2cc89f9205\" xlink:type=\"simple\"><path d=\"M118,253.76 C118,270.17 118,287.52 118,300.75 \" fill=\"none\" id=\"E2&lt;-E3\" style=\"stroke: #383838; stroke-width: 1.0;\"/><polygon fill=\"#383838\" points=\"118,240.31,114,246.31,118,252.31,122,246.31,118,240.31\" style=\"stroke: #383838; stroke-width: 1.0;\"/><text fill=\"#000000\" font-family=\"sans-serif\" font-size=\"13\" lengthAdjust=\"spacingAndGlyphs\" textLength=\"7\" x=\"110.1031\" y=\"289.9622\">*</text></a><!--MD5=[ddeed8deb2209213b62e6cfabaa108b2]\n",
       "reverse link E4 to E2--><a href=\"psysml:aadc07b0-b627-4a1c-8a0b-7e2bc77ad3c9\" target=\"_top\" title=\"psysml:aadc07b0-b627-4a1c-8a0b-7e2bc77ad3c9\" xlink:actuate=\"onRequest\" xlink:href=\"psysml:aadc07b0-b627-4a1c-8a0b-7e2bc77ad3c9\" xlink:show=\"new\" xlink:title=\"psysml:aadc07b0-b627-4a1c-8a0b-7e2bc77ad3c9\" xlink:type=\"simple\"><path d=\"M118,100.42 C118,119.95 118,144.19 118,163.97 \" fill=\"none\" id=\"E4&lt;-E2\" style=\"stroke: #383838; stroke-width: 1.0;\"/><polygon fill=\"#FFFFFF\" points=\"118,87.15,114,93.15,118,99.15,122,93.15,118,87.15\" style=\"stroke: #383838; stroke-width: 1.0;\"/><text fill=\"#000000\" font-family=\"sans-serif\" font-size=\"13\" lengthAdjust=\"spacingAndGlyphs\" textLength=\"7\" x=\"119\" y=\"130.0669\">c</text></a><!--MD5=[a318b339c16a2bd73f040003bf1c1742]\n",
       "@startuml\r\n",
       "skinparam monochrome true\r\n",
       "skinparam classbackgroundcolor white\r\n",
       "skinparam shadowing false\r\n",
       "skinparam wrapWidth 300\r\n",
       "hide circle\r\n",
       "\r\n",
       "package \"TextualRepresentationTest\" as E1  [[psysml:44d40611-a894-4dae-a2f2-eb4bbba313e0 ]]  {\r\n",
       "comp def \"C\" as E2  <<(T,blue) item  def>> [[psysml:4aee70d7-2b51-44ea-8f07-d2f5d32d40ea ]] {\r\n",
       "- - attributes - -\r\n",
       "x: Real\r\n",
       "}\r\n",
       "comp usage \"x_constraint \" as E3  <<(T,blue) assert constraint>> [[psysml:4e46f6e8-5c68-4c27-8860-5a5208ef4b7d ]] {\r\n",
       "}\r\n",
       "comp def \"setX\" as E4  <<(T,blue) action  def>> [[psysml:6b33d7d4-0403-4693-aa76-fb8d39622677 ]] {\r\n",
       "}\r\n",
       "}\r\n",
       "E2 *- - \"*\"E3 [[psysml:057e15e5-e107-41c4-afdf-3f2cc89f9205 ]] \r\n",
       "E4 o- - E2 [[psysml:aadc07b0-b627-4a1c-8a0b-7e2bc77ad3c9 ]] : c\r\n",
       "@enduml\r\n",
       "\n",
       "PlantUML version 1.2020.13(Sat Jun 13 12:26:38 UTC 2020)\n",
       "(EPL source distribution)\n",
       "Java Runtime: OpenJDK Runtime Environment\n",
       "JVM: OpenJDK 64-Bit Server VM\n",
       "Default Encoding: UTF-8\n",
       "Language: en\n",
       "Country: null\n",
       "--></g></svg>"
      ]
     },
     "execution_count": 38,
     "metadata": {},
     "output_type": "execute_result"
    }
   ],
   "source": [
    "%viz --style=\"DEFAULT\" --view=\"Tree\" \"TextualRepresentationTest\""
   ]
  },
  {
   "cell_type": "code",
   "execution_count": 39,
   "id": "4bbddeef",
   "metadata": {
    "execution": {
     "iopub.execute_input": "2022-06-20T11:13:38.319646Z",
     "iopub.status.busy": "2022-06-20T11:13:38.319196Z",
     "iopub.status.idle": "2022-06-20T11:13:38.323887Z",
     "shell.execute_reply": "2022-06-20T11:13:38.324203Z"
    }
   },
   "outputs": [
    {
     "data": {
      "image/svg+xml": [
       "<?xml version=\"1.0\" encoding=\"UTF-8\" standalone=\"no\"?><svg xmlns=\"http://www.w3.org/2000/svg\" xmlns:xlink=\"http://www.w3.org/1999/xlink\" contentScriptType=\"application/ecmascript\" contentStyleType=\"text/css\" height=\"12px\" preserveAspectRatio=\"none\" style=\"width:12px;height:12px;\" version=\"1.1\" viewBox=\"0 0 12 12\" width=\"12px\" zoomAndPan=\"magnify\"><defs/><g><!--MD5=[c5f280e076d0d61ccf4b0f27871bda1d]\n",
       "@startuml\r\n",
       "skinparam monochrome true\r\n",
       "skinparam classbackgroundcolor white\r\n",
       "skinparam shadowing false\r\n",
       "skinparam wrapWidth 300\r\n",
       "hide circle\r\n",
       "\r\n",
       "@enduml\r\n",
       "\n",
       "PlantUML version 1.2020.13(Sat Jun 13 12:26:38 UTC 2020)\n",
       "(EPL source distribution)\n",
       "Java Runtime: OpenJDK Runtime Environment\n",
       "JVM: OpenJDK 64-Bit Server VM\n",
       "Default Encoding: UTF-8\n",
       "Language: en\n",
       "Country: null\n",
       "--></g></svg>"
      ]
     },
     "execution_count": 39,
     "metadata": {},
     "output_type": "execute_result"
    }
   ],
   "source": [
    "%viz --style=\"DEFAULT\" --view=\"State\" \"TextualRepresentationTest\""
   ]
  },
  {
   "cell_type": "code",
   "execution_count": 40,
   "id": "4cd6efc7",
   "metadata": {
    "execution": {
     "iopub.execute_input": "2022-06-20T11:13:38.374182Z",
     "iopub.status.busy": "2022-06-20T11:13:38.373740Z",
     "iopub.status.idle": "2022-06-20T11:13:38.400377Z",
     "shell.execute_reply": "2022-06-20T11:13:38.400697Z"
    }
   },
   "outputs": [
    {
     "data": {
      "image/svg+xml": [
       "<?xml version=\"1.0\" encoding=\"UTF-8\" standalone=\"no\"?><svg xmlns=\"http://www.w3.org/2000/svg\" xmlns:xlink=\"http://www.w3.org/1999/xlink\" contentScriptType=\"application/ecmascript\" contentStyleType=\"text/css\" height=\"179px\" preserveAspectRatio=\"none\" style=\"width:292px;height:179px;\" version=\"1.1\" viewBox=\"0 0 292 179\" width=\"292px\" zoomAndPan=\"magnify\"><defs/><g><!--MD5=[fbc87193dbaf4d95561dea2c320d4a47]\n",
       "cluster E1--><a href=\"psysml:44d40611-a894-4dae-a2f2-eb4bbba313e0\" target=\"_top\" title=\"psysml:44d40611-a894-4dae-a2f2-eb4bbba313e0\" xlink:actuate=\"onRequest\" xlink:href=\"psysml:44d40611-a894-4dae-a2f2-eb4bbba313e0\" xlink:show=\"new\" xlink:title=\"psysml:44d40611-a894-4dae-a2f2-eb4bbba313e0\" xlink:type=\"simple\"><polygon fill=\"#FFFFFF\" points=\"16,6,210,6,217,28.2969,270,28.2969,270,167,16,167,16,6\" style=\"stroke: #000000; stroke-width: 1.5;\"/><line style=\"stroke: #000000; stroke-width: 1.5;\" x1=\"16\" x2=\"217\" y1=\"28.2969\" y2=\"28.2969\"/><text fill=\"#000000\" font-family=\"sans-serif\" font-size=\"14\" font-weight=\"bold\" lengthAdjust=\"spacingAndGlyphs\" textLength=\"188\" x=\"20\" y=\"20.9951\">TextualRepresentationTest</text></a><!--MD5=[d5e69f78d87373223dbae638b30a9c99]\n",
       "cluster E3--><a href=\"psysml:6b33d7d4-0403-4693-aa76-fb8d39622677\" target=\"_top\" title=\"psysml:6b33d7d4-0403-4693-aa76-fb8d39622677\" xlink:actuate=\"onRequest\" xlink:href=\"psysml:6b33d7d4-0403-4693-aa76-fb8d39622677\" xlink:show=\"new\" xlink:title=\"psysml:6b33d7d4-0403-4693-aa76-fb8d39622677\" xlink:type=\"simple\"><rect fill=\"#FFFFFF\" height=\"88.5\" id=\"E3\" style=\"stroke: #383838; stroke-width: 1.5;\" width=\"100\" x=\"122.5\" y=\"62.5\"/><rect fill=\"#F8F8F8\" height=\"37.9375\" style=\"stroke: #383838; stroke-width: 1.5;\" width=\"100\" x=\"122.5\" y=\"62.5\"/><text fill=\"#000000\" font-family=\"sans-serif\" font-size=\"12\" font-style=\"italic\" lengthAdjust=\"spacingAndGlyphs\" textLength=\"81\" x=\"132\" y=\"78.6387\">«action  def»</text><text fill=\"#000000\" font-family=\"sans-serif\" font-size=\"12\" lengthAdjust=\"spacingAndGlyphs\" textLength=\"27\" x=\"159\" y=\"92.6074\">setX</text></a><g id=\"E1.E2\"><a href=\"psysml:4aee70d7-2b51-44ea-8f07-d2f5d32d40ea\" target=\"_top\" title=\"psysml:4aee70d7-2b51-44ea-8f07-d2f5d32d40ea\" xlink:actuate=\"onRequest\" xlink:href=\"psysml:4aee70d7-2b51-44ea-8f07-d2f5d32d40ea\" xlink:show=\"new\" xlink:title=\"psysml:4aee70d7-2b51-44ea-8f07-d2f5d32d40ea\" xlink:type=\"simple\"><rect fill=\"#FFFFFF\" height=\"42.9375\" id=\"E2\" style=\"stroke: #383838; stroke-width: 1.5;\" width=\"76\" x=\"32\" y=\"41\"/><rect fill=\"#F8F8F8\" height=\"37.9375\" style=\"stroke: #383838; stroke-width: 1.5;\" width=\"76\" x=\"32\" y=\"41\"/><text fill=\"#000000\" font-family=\"sans-serif\" font-size=\"12\" font-style=\"italic\" lengthAdjust=\"spacingAndGlyphs\" textLength=\"69\" x=\"35.5\" y=\"57.1387\">«item  def»</text><text fill=\"#000000\" font-family=\"sans-serif\" font-size=\"12\" lengthAdjust=\"spacingAndGlyphs\" textLength=\"8\" x=\"66\" y=\"71.1074\">C</text></a></g><text fill=\"#000000\" font-family=\"sans-serif\" font-size=\"14\" lengthAdjust=\"spacingAndGlyphs\" textLength=\"8\" x=\"145\" y=\"41.1982\">c</text><rect fill=\"#383838\" height=\"12\" style=\"stroke: #F8F8F8; stroke-width: 1.5;\" width=\"12\" x=\"143\" y=\"56.5\"/><text fill=\"#000000\" font-family=\"sans-serif\" font-size=\"14\" lengthAdjust=\"spacingAndGlyphs\" textLength=\"38\" x=\"177\" y=\"41.1982\">newX</text><rect fill=\"#383838\" height=\"12\" style=\"stroke: #F8F8F8; stroke-width: 1.5;\" width=\"12\" x=\"190\" y=\"56.5\"/><!--MD5=[5ed528ed1fa59c95b030ac3dac321269]\n",
       "@startuml\r\n",
       "skinparam ranksep 10\r\n",
       "skinparam rectangle {\r\n",
       " backgroundColor<<block>> LightGreen\r\n",
       "}\r\n",
       "skinparam monochrome true\r\n",
       "skinparam classbackgroundcolor white\r\n",
       "skinparam shadowing false\r\n",
       "skinparam wrapWidth 300\r\n",
       "hide circle\r\n",
       "\r\n",
       "package \"TextualRepresentationTest\" as E1  [[psysml:44d40611-a894-4dae-a2f2-eb4bbba313e0 ]]  {\r\n",
       "def \"C\" as E2  <<(T,blue) item  def>> [[psysml:4aee70d7-2b51-44ea-8f07-d2f5d32d40ea ]] \r\n",
       "rec def \"setX\" as E3  <<(T,blue) action  def>> [[psysml:6b33d7d4-0403-4693-aa76-fb8d39622677 ]] {\r\n",
       "portin \"c\" as E4  [[psysml:aadc07b0-b627-4a1c-8a0b-7e2bc77ad3c9 ]] \r\n",
       "portin \"newX\" as E5  [[psysml:a8b47a70-45ce-488b-ad71-695ba05ffc83 ]] \r\n",
       "}\r\n",
       "\r\n",
       "}\r\n",
       "@enduml\r\n",
       "\n",
       "PlantUML version 1.2020.13(Sat Jun 13 12:26:38 UTC 2020)\n",
       "(EPL source distribution)\n",
       "Java Runtime: OpenJDK Runtime Environment\n",
       "JVM: OpenJDK 64-Bit Server VM\n",
       "Default Encoding: UTF-8\n",
       "Language: en\n",
       "Country: null\n",
       "--></g></svg>"
      ]
     },
     "execution_count": 40,
     "metadata": {},
     "output_type": "execute_result"
    }
   ],
   "source": [
    "%viz --style=\"DEFAULT\" --view=\"Interconnection\" \"TextualRepresentationTest\""
   ]
  },
  {
   "cell_type": "code",
   "execution_count": 41,
   "id": "4604d15b",
   "metadata": {
    "execution": {
     "iopub.execute_input": "2022-06-20T11:13:38.450686Z",
     "iopub.status.busy": "2022-06-20T11:13:38.450220Z",
     "iopub.status.idle": "2022-06-20T11:13:38.472908Z",
     "shell.execute_reply": "2022-06-20T11:13:38.472519Z"
    }
   },
   "outputs": [
    {
     "data": {
      "image/svg+xml": [
       "<?xml version=\"1.0\" encoding=\"UTF-8\" standalone=\"no\"?><svg xmlns=\"http://www.w3.org/2000/svg\" xmlns:xlink=\"http://www.w3.org/1999/xlink\" contentScriptType=\"application/ecmascript\" contentStyleType=\"text/css\" height=\"126px\" preserveAspectRatio=\"none\" style=\"width:152px;height:126px;\" version=\"1.1\" viewBox=\"0 0 152 126\" width=\"152px\" zoomAndPan=\"magnify\"><defs/><g><!--MD5=[fbc87193dbaf4d95561dea2c320d4a47]\n",
       "cluster E1--><a href=\"psysml:6b33d7d4-0403-4693-aa76-fb8d39622677\" target=\"_top\" title=\"psysml:6b33d7d4-0403-4693-aa76-fb8d39622677\" xlink:actuate=\"onRequest\" xlink:href=\"psysml:6b33d7d4-0403-4693-aa76-fb8d39622677\" xlink:show=\"new\" xlink:title=\"psysml:6b33d7d4-0403-4693-aa76-fb8d39622677\" xlink:type=\"simple\"><rect fill=\"#FFFFFF\" height=\"73\" id=\"E1\" style=\"stroke: #383838; stroke-width: 1.5;\" width=\"134\" x=\"7\" y=\"42.0986\"/><rect fill=\"#F8F8F8\" height=\"37.9375\" style=\"stroke: #383838; stroke-width: 1.5;\" width=\"134\" x=\"7\" y=\"42.0986\"/><text fill=\"#000000\" font-family=\"sans-serif\" font-size=\"12\" font-style=\"italic\" lengthAdjust=\"spacingAndGlyphs\" textLength=\"81\" x=\"33.5\" y=\"58.2373\">«action  def»</text><text fill=\"#000000\" font-family=\"sans-serif\" font-size=\"12\" lengthAdjust=\"spacingAndGlyphs\" textLength=\"27\" x=\"60.5\" y=\"72.2061\">setX</text></a><text fill=\"#000000\" font-family=\"sans-serif\" font-size=\"14\" lengthAdjust=\"spacingAndGlyphs\" textLength=\"8\" x=\"21\" y=\"20.7969\">c</text><rect fill=\"#383838\" height=\"12\" style=\"stroke: #F8F8F8; stroke-width: 1.5;\" width=\"12\" x=\"19\" y=\"36.0986\"/><text fill=\"#000000\" font-family=\"sans-serif\" font-size=\"14\" lengthAdjust=\"spacingAndGlyphs\" textLength=\"38\" x=\"53\" y=\"20.7969\">newX</text><rect fill=\"#383838\" height=\"12\" style=\"stroke: #F8F8F8; stroke-width: 1.5;\" width=\"12\" x=\"66\" y=\"36.0986\"/><!--MD5=[473ba93cb31cf51d26ae6584bd60fb8f]\n",
       "@startuml\r\n",
       "skinparam ranksep 8\r\n",
       "skinparam monochrome true\r\n",
       "skinparam classbackgroundcolor white\r\n",
       "skinparam shadowing false\r\n",
       "skinparam wrapWidth 300\r\n",
       "hide circle\r\n",
       "\r\n",
       "rec def \"setX\" as E1  <<(T,blue) action  def>> [[psysml:6b33d7d4-0403-4693-aa76-fb8d39622677 ]] {\r\n",
       "portin \"c\" as E2  [[psysml:aadc07b0-b627-4a1c-8a0b-7e2bc77ad3c9 ]] \r\n",
       "portin \"newX\" as E3  [[psysml:a8b47a70-45ce-488b-ad71-695ba05ffc83 ]] \r\n",
       "}\r\n",
       "\r\n",
       "@enduml\r\n",
       "\n",
       "PlantUML version 1.2020.13(Sat Jun 13 12:26:38 UTC 2020)\n",
       "(EPL source distribution)\n",
       "Java Runtime: OpenJDK Runtime Environment\n",
       "JVM: OpenJDK 64-Bit Server VM\n",
       "Default Encoding: UTF-8\n",
       "Language: en\n",
       "Country: null\n",
       "--></g></svg>"
      ]
     },
     "execution_count": 41,
     "metadata": {},
     "output_type": "execute_result"
    }
   ],
   "source": [
    "%viz --style=\"DEFAULT\" --view=\"Action\" \"TextualRepresentationTest\""
   ]
  },
  {
   "cell_type": "code",
   "execution_count": 42,
   "id": "6dc248f3",
   "metadata": {
    "execution": {
     "iopub.execute_input": "2022-06-20T11:13:38.522996Z",
     "iopub.status.busy": "2022-06-20T11:13:38.522522Z",
     "iopub.status.idle": "2022-06-20T11:13:38.527589Z",
     "shell.execute_reply": "2022-06-20T11:13:38.527910Z"
    }
   },
   "outputs": [
    {
     "data": {
      "image/svg+xml": [
       "<?xml version=\"1.0\" encoding=\"UTF-8\" standalone=\"no\"?><svg xmlns=\"http://www.w3.org/2000/svg\" xmlns:xlink=\"http://www.w3.org/1999/xlink\" contentScriptType=\"application/ecmascript\" contentStyleType=\"text/css\" height=\"12px\" preserveAspectRatio=\"none\" style=\"width:12px;height:12px;\" version=\"1.1\" viewBox=\"0 0 12 12\" width=\"12px\" zoomAndPan=\"magnify\"><defs/><g><!--MD5=[0b72472770326784bf6c2b53246e1e64]\n",
       "@startuml\r\n",
       "skinparam roundcorner 20\r\n",
       "skinparam BoxPadding 20\r\n",
       "skinparam SequenceBoxBackgroundColor #white\r\n",
       "skinparam style strictuml\r\n",
       "skinparam maxMessageSize 100\r\n",
       "skinparam monochrome true\r\n",
       "skinparam classbackgroundcolor white\r\n",
       "skinparam shadowing false\r\n",
       "skinparam wrapWidth 300\r\n",
       "hide circle\r\n",
       "\r\n",
       "@enduml\r\n",
       "\n",
       "PlantUML version 1.2020.13(Sat Jun 13 12:26:38 UTC 2020)\n",
       "(EPL source distribution)\n",
       "Java Runtime: OpenJDK Runtime Environment\n",
       "JVM: OpenJDK 64-Bit Server VM\n",
       "Default Encoding: UTF-8\n",
       "Language: en\n",
       "Country: null\n",
       "--></g></svg>"
      ]
     },
     "execution_count": 42,
     "metadata": {},
     "output_type": "execute_result"
    }
   ],
   "source": [
    "%viz --style=\"DEFAULT\" --view=\"Sequence\" \"TextualRepresentationTest\""
   ]
  },
  {
   "cell_type": "code",
   "execution_count": 43,
   "id": "d7c3e996",
   "metadata": {
    "execution": {
     "iopub.execute_input": "2022-06-20T11:13:38.577950Z",
     "iopub.status.busy": "2022-06-20T11:13:38.577493Z",
     "iopub.status.idle": "2022-06-20T11:13:38.614131Z",
     "shell.execute_reply": "2022-06-20T11:13:38.613720Z"
    }
   },
   "outputs": [
    {
     "data": {
      "image/svg+xml": [
       "<?xml version=\"1.0\" encoding=\"UTF-8\" standalone=\"no\"?><svg xmlns=\"http://www.w3.org/2000/svg\" xmlns:xlink=\"http://www.w3.org/1999/xlink\" contentScriptType=\"application/ecmascript\" contentStyleType=\"text/css\" height=\"261px\" preserveAspectRatio=\"none\" style=\"width:351px;height:261px;\" version=\"1.1\" viewBox=\"0 0 351 261\" width=\"351px\" zoomAndPan=\"magnify\"><defs/><g><!--MD5=[fbc87193dbaf4d95561dea2c320d4a47]\n",
       "cluster E1--><a href=\"psysml:44d40611-a894-4dae-a2f2-eb4bbba313e0\" target=\"_top\" title=\"psysml:44d40611-a894-4dae-a2f2-eb4bbba313e0\" xlink:actuate=\"onRequest\" xlink:href=\"psysml:44d40611-a894-4dae-a2f2-eb4bbba313e0\" xlink:show=\"new\" xlink:title=\"psysml:44d40611-a894-4dae-a2f2-eb4bbba313e0\" xlink:type=\"simple\"><polygon fill=\"#FFFFFF\" points=\"16,6,210,6,217,28.2969,329,28.2969,329,249.5,16,249.5,16,6\" style=\"stroke: #000000; stroke-width: 1.5;\"/><line style=\"stroke: #000000; stroke-width: 1.5;\" x1=\"16\" x2=\"217\" y1=\"28.2969\" y2=\"28.2969\"/><text fill=\"#000000\" font-family=\"sans-serif\" font-size=\"14\" font-weight=\"bold\" lengthAdjust=\"spacingAndGlyphs\" textLength=\"188\" x=\"20\" y=\"20.9951\">TextualRepresentationTest</text></a><!--MD5=[f6df4d0ebaf0b5dfb2ced0ae5af7c670]\n",
       "cluster E4--><a href=\"psysml:6b33d7d4-0403-4693-aa76-fb8d39622677\" target=\"_top\" title=\"psysml:6b33d7d4-0403-4693-aa76-fb8d39622677\" xlink:actuate=\"onRequest\" xlink:href=\"psysml:6b33d7d4-0403-4693-aa76-fb8d39622677\" xlink:show=\"new\" xlink:title=\"psysml:6b33d7d4-0403-4693-aa76-fb8d39622677\" xlink:type=\"simple\"><rect fill=\"#FFFFFF\" height=\"154.5\" id=\"E4\" style=\"stroke: #383838; stroke-width: 1.5;\" width=\"134\" x=\"179\" y=\"79\"/><rect fill=\"#F8F8F8\" height=\"37.9375\" style=\"stroke: #383838; stroke-width: 1.5;\" width=\"134\" x=\"179\" y=\"79\"/><text fill=\"#000000\" font-family=\"sans-serif\" font-size=\"12\" font-style=\"italic\" lengthAdjust=\"spacingAndGlyphs\" textLength=\"81\" x=\"205.5\" y=\"95.1387\">«action  def»</text><text fill=\"#000000\" font-family=\"sans-serif\" font-size=\"12\" lengthAdjust=\"spacingAndGlyphs\" textLength=\"27\" x=\"232.5\" y=\"109.1074\">setX</text></a><!--MD5=[b4997ac47864f28c2f74865a473b2911]\n",
       "class E2--><a href=\"psysml:4aee70d7-2b51-44ea-8f07-d2f5d32d40ea\" target=\"_top\" title=\"psysml:4aee70d7-2b51-44ea-8f07-d2f5d32d40ea\" xlink:actuate=\"onRequest\" xlink:href=\"psysml:4aee70d7-2b51-44ea-8f07-d2f5d32d40ea\" xlink:show=\"new\" xlink:title=\"psysml:4aee70d7-2b51-44ea-8f07-d2f5d32d40ea\" xlink:type=\"simple\"><rect fill=\"#FFFFFF\" height=\"75.5469\" id=\"E2\" style=\"stroke: #383838; stroke-width: 1.5;\" width=\"71\" x=\"58.5\" y=\"41\"/><text fill=\"#000000\" font-family=\"sans-serif\" font-size=\"12\" font-style=\"italic\" lengthAdjust=\"spacingAndGlyphs\" textLength=\"69\" x=\"59.5\" y=\"57.1387\">«item  def»</text><text fill=\"#000000\" font-family=\"sans-serif\" font-size=\"12\" lengthAdjust=\"spacingAndGlyphs\" textLength=\"8\" x=\"90\" y=\"71.1074\">C</text><line style=\"stroke: #383838; stroke-width: 1.5;\" x1=\"59.5\" x2=\"128.5\" y1=\"78.9375\" y2=\"78.9375\"/><text fill=\"#000000\" font-family=\"sans-serif\" font-size=\"11\" lengthAdjust=\"spacingAndGlyphs\" textLength=\"38\" x=\"64.5\" y=\"109.9526\">x: Real</text><line style=\"stroke: #383838; stroke-width: 1.0;\" x1=\"59.5\" x2=\"66.5\" y1=\"93.3398\" y2=\"93.3398\"/><text fill=\"#000000\" font-family=\"sans-serif\" font-size=\"11\" lengthAdjust=\"spacingAndGlyphs\" textLength=\"55\" x=\"66.5\" y=\"96.6479\">attributes</text><line style=\"stroke: #383838; stroke-width: 1.0;\" x1=\"121.5\" x2=\"128.5\" y1=\"93.3398\" y2=\"93.3398\"/></a><!--MD5=[09b614a08d8cba4a07c9adeb5e0fee81]\n",
       "class E3--><a href=\"psysml:4e46f6e8-5c68-4c27-8860-5a5208ef4b7d\" target=\"_top\" title=\"psysml:4e46f6e8-5c68-4c27-8860-5a5208ef4b7d\" xlink:actuate=\"onRequest\" xlink:href=\"psysml:4e46f6e8-5c68-4c27-8860-5a5208ef4b7d\" xlink:show=\"new\" xlink:title=\"psysml:4e46f6e8-5c68-4c27-8860-5a5208ef4b7d\" xlink:type=\"simple\"><rect fill=\"#FFFFFF\" height=\"45.9375\" id=\"E3\" rx=\"10\" ry=\"10\" style=\"stroke: #383838; stroke-width: 1.5;\" width=\"124\" x=\"32\" y=\"177\"/><text fill=\"#000000\" font-family=\"sans-serif\" font-size=\"12\" font-style=\"italic\" lengthAdjust=\"spacingAndGlyphs\" textLength=\"122\" x=\"33\" y=\"193.1387\">«assert constraint»</text><text fill=\"#000000\" font-family=\"sans-serif\" font-size=\"12\" lengthAdjust=\"spacingAndGlyphs\" textLength=\"76\" x=\"54\" y=\"207.1074\">x_constraint</text><line style=\"stroke: #383838; stroke-width: 1.5;\" x1=\"33\" x2=\"155\" y1=\"214.9375\" y2=\"214.9375\"/></a><text fill=\"#000000\" font-family=\"sans-serif\" font-size=\"14\" lengthAdjust=\"spacingAndGlyphs\" textLength=\"8\" x=\"193\" y=\"57.6982\">c</text><rect fill=\"#383838\" height=\"12\" style=\"stroke: #F8F8F8; stroke-width: 1.5;\" width=\"12\" x=\"191\" y=\"73\"/><text fill=\"#000000\" font-family=\"sans-serif\" font-size=\"14\" lengthAdjust=\"spacingAndGlyphs\" textLength=\"38\" x=\"225\" y=\"57.6982\">newX</text><rect fill=\"#383838\" height=\"12\" style=\"stroke: #F8F8F8; stroke-width: 1.5;\" width=\"12\" x=\"238\" y=\"73\"/><!--MD5=[209b3feb70ccb6233bfe1053d122c12c]\n",
       "reverse link E2 to E3--><a href=\"psysml:057e15e5-e107-41c4-afdf-3f2cc89f9205\" target=\"_top\" title=\"psysml:057e15e5-e107-41c4-afdf-3f2cc89f9205\" xlink:actuate=\"onRequest\" xlink:href=\"psysml:057e15e5-e107-41c4-afdf-3f2cc89f9205\" xlink:show=\"new\" xlink:title=\"psysml:057e15e5-e107-41c4-afdf-3f2cc89f9205\" xlink:type=\"simple\"><path d=\"M94,130.34 C94,146.61 94,163.81 94,176.93 \" fill=\"none\" id=\"E2&lt;-E3\" style=\"stroke: #383838; stroke-width: 1.0;\"/><polygon fill=\"#383838\" points=\"94,117,90,123,94,129,98,123,94,117\" style=\"stroke: #383838; stroke-width: 1.0;\"/><text fill=\"#000000\" font-family=\"sans-serif\" font-size=\"13\" lengthAdjust=\"spacingAndGlyphs\" textLength=\"7\" x=\"86.0594\" y=\"165.8075\">*</text></a><!--MD5=[becce0cae4f33eed279e5ac8869256da]\n",
       "@startuml\r\n",
       "skinparam monochrome true\r\n",
       "skinparam classbackgroundcolor white\r\n",
       "skinparam shadowing false\r\n",
       "skinparam wrapWidth 300\r\n",
       "hide circle\r\n",
       "\r\n",
       "package \"TextualRepresentationTest\" as E1  [[psysml:44d40611-a894-4dae-a2f2-eb4bbba313e0 ]]  {\r\n",
       "comp def \"C\" as E2  <<(T,blue) item  def>> [[psysml:4aee70d7-2b51-44ea-8f07-d2f5d32d40ea ]] {\r\n",
       "- - attributes - -\r\n",
       "x: Real\r\n",
       "}\r\n",
       "comp usage \"x_constraint \" as E3  <<(T,blue) assert constraint>> [[psysml:4e46f6e8-5c68-4c27-8860-5a5208ef4b7d ]] {\r\n",
       "}\r\n",
       "rec def \"setX\" as E4  <<(T,blue) action  def>> [[psysml:6b33d7d4-0403-4693-aa76-fb8d39622677 ]] {\r\n",
       "portin \"c\" as E5  [[psysml:aadc07b0-b627-4a1c-8a0b-7e2bc77ad3c9 ]] \r\n",
       "portin \"newX\" as E6  [[psysml:a8b47a70-45ce-488b-ad71-695ba05ffc83 ]] \r\n",
       "}\r\n",
       "\r\n",
       "}\r\n",
       "E2 *- - \"*\"E3 [[psysml:057e15e5-e107-41c4-afdf-3f2cc89f9205 ]] \r\n",
       "@enduml\r\n",
       "\n",
       "PlantUML version 1.2020.13(Sat Jun 13 12:26:38 UTC 2020)\n",
       "(EPL source distribution)\n",
       "Java Runtime: OpenJDK Runtime Environment\n",
       "JVM: OpenJDK 64-Bit Server VM\n",
       "Default Encoding: UTF-8\n",
       "Language: en\n",
       "Country: null\n",
       "--></g></svg>"
      ]
     },
     "execution_count": 43,
     "metadata": {},
     "output_type": "execute_result"
    }
   ],
   "source": [
    "%viz --style=\"DEFAULT\" --view=\"MIXED\" \"TextualRepresentationTest\""
   ]
  },
  {
   "cell_type": "code",
   "execution_count": 44,
   "id": "44a7fbf5",
   "metadata": {
    "execution": {
     "iopub.execute_input": "2022-06-20T11:13:38.663596Z",
     "iopub.status.busy": "2022-06-20T11:13:38.663147Z",
     "iopub.status.idle": "2022-06-20T11:13:38.706840Z",
     "shell.execute_reply": "2022-06-20T11:13:38.706332Z"
    }
   },
   "outputs": [
    {
     "data": {
      "image/svg+xml": [
       "<?xml version=\"1.0\" encoding=\"UTF-8\" standalone=\"no\"?><svg xmlns=\"http://www.w3.org/2000/svg\" xmlns:xlink=\"http://www.w3.org/1999/xlink\" contentScriptType=\"application/ecmascript\" contentStyleType=\"text/css\" height=\"261px\" preserveAspectRatio=\"none\" style=\"width:351px;height:261px;\" version=\"1.1\" viewBox=\"0 0 351 261\" width=\"351px\" zoomAndPan=\"magnify\"><defs/><g><!--MD5=[fbc87193dbaf4d95561dea2c320d4a47]\n",
       "cluster E1--><a href=\"psysml:44d40611-a894-4dae-a2f2-eb4bbba313e0\" target=\"_top\" title=\"psysml:44d40611-a894-4dae-a2f2-eb4bbba313e0\" xlink:actuate=\"onRequest\" xlink:href=\"psysml:44d40611-a894-4dae-a2f2-eb4bbba313e0\" xlink:show=\"new\" xlink:title=\"psysml:44d40611-a894-4dae-a2f2-eb4bbba313e0\" xlink:type=\"simple\"><polygon fill=\"#FFFFFF\" points=\"16,6,210,6,217,28.2969,329,28.2969,329,249.5,16,249.5,16,6\" style=\"stroke: #000000; stroke-width: 1.5;\"/><line style=\"stroke: #000000; stroke-width: 1.5;\" x1=\"16\" x2=\"217\" y1=\"28.2969\" y2=\"28.2969\"/><text fill=\"#000000\" font-family=\"sans-serif\" font-size=\"14\" font-weight=\"bold\" lengthAdjust=\"spacingAndGlyphs\" textLength=\"188\" x=\"20\" y=\"20.9951\">TextualRepresentationTest</text></a><!--MD5=[f6df4d0ebaf0b5dfb2ced0ae5af7c670]\n",
       "cluster E4--><a href=\"psysml:6b33d7d4-0403-4693-aa76-fb8d39622677\" target=\"_top\" title=\"psysml:6b33d7d4-0403-4693-aa76-fb8d39622677\" xlink:actuate=\"onRequest\" xlink:href=\"psysml:6b33d7d4-0403-4693-aa76-fb8d39622677\" xlink:show=\"new\" xlink:title=\"psysml:6b33d7d4-0403-4693-aa76-fb8d39622677\" xlink:type=\"simple\"><rect fill=\"#FFFFFF\" height=\"154.5\" id=\"E4\" style=\"stroke: #383838; stroke-width: 1.5;\" width=\"134\" x=\"179\" y=\"79\"/><rect fill=\"#F8F8F8\" height=\"37.9375\" style=\"stroke: #383838; stroke-width: 1.5;\" width=\"134\" x=\"179\" y=\"79\"/><text fill=\"#000000\" font-family=\"sans-serif\" font-size=\"12\" font-style=\"italic\" lengthAdjust=\"spacingAndGlyphs\" textLength=\"81\" x=\"205.5\" y=\"95.1387\">«action  def»</text><text fill=\"#000000\" font-family=\"sans-serif\" font-size=\"12\" lengthAdjust=\"spacingAndGlyphs\" textLength=\"27\" x=\"232.5\" y=\"109.1074\">setX</text></a><!--MD5=[b4997ac47864f28c2f74865a473b2911]\n",
       "class E2--><a href=\"psysml:4aee70d7-2b51-44ea-8f07-d2f5d32d40ea\" target=\"_top\" title=\"psysml:4aee70d7-2b51-44ea-8f07-d2f5d32d40ea\" xlink:actuate=\"onRequest\" xlink:href=\"psysml:4aee70d7-2b51-44ea-8f07-d2f5d32d40ea\" xlink:show=\"new\" xlink:title=\"psysml:4aee70d7-2b51-44ea-8f07-d2f5d32d40ea\" xlink:type=\"simple\"><rect fill=\"#FFFFFF\" height=\"75.5469\" id=\"E2\" style=\"stroke: #383838; stroke-width: 1.5;\" width=\"71\" x=\"58.5\" y=\"41\"/><text fill=\"#000000\" font-family=\"sans-serif\" font-size=\"12\" font-style=\"italic\" lengthAdjust=\"spacingAndGlyphs\" textLength=\"69\" x=\"59.5\" y=\"57.1387\">«item  def»</text><text fill=\"#000000\" font-family=\"sans-serif\" font-size=\"12\" lengthAdjust=\"spacingAndGlyphs\" textLength=\"8\" x=\"90\" y=\"71.1074\">C</text><line style=\"stroke: #383838; stroke-width: 1.5;\" x1=\"59.5\" x2=\"128.5\" y1=\"78.9375\" y2=\"78.9375\"/><text fill=\"#000000\" font-family=\"sans-serif\" font-size=\"11\" lengthAdjust=\"spacingAndGlyphs\" textLength=\"38\" x=\"64.5\" y=\"109.9526\">x: Real</text><line style=\"stroke: #383838; stroke-width: 1.0;\" x1=\"59.5\" x2=\"66.5\" y1=\"93.3398\" y2=\"93.3398\"/><text fill=\"#000000\" font-family=\"sans-serif\" font-size=\"11\" lengthAdjust=\"spacingAndGlyphs\" textLength=\"55\" x=\"66.5\" y=\"96.6479\">attributes</text><line style=\"stroke: #383838; stroke-width: 1.0;\" x1=\"121.5\" x2=\"128.5\" y1=\"93.3398\" y2=\"93.3398\"/></a><!--MD5=[09b614a08d8cba4a07c9adeb5e0fee81]\n",
       "class E3--><a href=\"psysml:4e46f6e8-5c68-4c27-8860-5a5208ef4b7d\" target=\"_top\" title=\"psysml:4e46f6e8-5c68-4c27-8860-5a5208ef4b7d\" xlink:actuate=\"onRequest\" xlink:href=\"psysml:4e46f6e8-5c68-4c27-8860-5a5208ef4b7d\" xlink:show=\"new\" xlink:title=\"psysml:4e46f6e8-5c68-4c27-8860-5a5208ef4b7d\" xlink:type=\"simple\"><rect fill=\"#FFFFFF\" height=\"45.9375\" id=\"E3\" rx=\"10\" ry=\"10\" style=\"stroke: #383838; stroke-width: 1.5;\" width=\"124\" x=\"32\" y=\"177\"/><text fill=\"#000000\" font-family=\"sans-serif\" font-size=\"12\" font-style=\"italic\" lengthAdjust=\"spacingAndGlyphs\" textLength=\"122\" x=\"33\" y=\"193.1387\">«assert constraint»</text><text fill=\"#000000\" font-family=\"sans-serif\" font-size=\"12\" lengthAdjust=\"spacingAndGlyphs\" textLength=\"76\" x=\"54\" y=\"207.1074\">x_constraint</text><line style=\"stroke: #383838; stroke-width: 1.5;\" x1=\"33\" x2=\"155\" y1=\"214.9375\" y2=\"214.9375\"/></a><text fill=\"#000000\" font-family=\"sans-serif\" font-size=\"14\" lengthAdjust=\"spacingAndGlyphs\" textLength=\"8\" x=\"193\" y=\"57.6982\">c</text><rect fill=\"#383838\" height=\"12\" style=\"stroke: #F8F8F8; stroke-width: 1.5;\" width=\"12\" x=\"191\" y=\"73\"/><text fill=\"#000000\" font-family=\"sans-serif\" font-size=\"14\" lengthAdjust=\"spacingAndGlyphs\" textLength=\"38\" x=\"225\" y=\"57.6982\">newX</text><rect fill=\"#383838\" height=\"12\" style=\"stroke: #F8F8F8; stroke-width: 1.5;\" width=\"12\" x=\"238\" y=\"73\"/><!--MD5=[209b3feb70ccb6233bfe1053d122c12c]\n",
       "reverse link E2 to E3--><a href=\"psysml:057e15e5-e107-41c4-afdf-3f2cc89f9205\" target=\"_top\" title=\"psysml:057e15e5-e107-41c4-afdf-3f2cc89f9205\" xlink:actuate=\"onRequest\" xlink:href=\"psysml:057e15e5-e107-41c4-afdf-3f2cc89f9205\" xlink:show=\"new\" xlink:title=\"psysml:057e15e5-e107-41c4-afdf-3f2cc89f9205\" xlink:type=\"simple\"><path d=\"M94,130.34 C94,146.61 94,163.81 94,176.93 \" fill=\"none\" id=\"E2&lt;-E3\" style=\"stroke: #383838; stroke-width: 1.0;\"/><polygon fill=\"#383838\" points=\"94,117,90,123,94,129,98,123,94,117\" style=\"stroke: #383838; stroke-width: 1.0;\"/><text fill=\"#000000\" font-family=\"sans-serif\" font-size=\"13\" lengthAdjust=\"spacingAndGlyphs\" textLength=\"7\" x=\"86.0594\" y=\"165.8075\">*</text></a><!--MD5=[a1e8aa62b8127557661b8a0835b27477]\n",
       "@startuml\r\n",
       "top to bottom direction\r\n",
       "skinparam monochrome true\r\n",
       "skinparam classbackgroundcolor white\r\n",
       "skinparam shadowing false\r\n",
       "skinparam wrapWidth 300\r\n",
       "hide circle\r\n",
       "\r\n",
       "package \"TextualRepresentationTest\" as E1  [[psysml:44d40611-a894-4dae-a2f2-eb4bbba313e0 ]]  {\r\n",
       "comp def \"C\" as E2  <<(T,blue) item  def>> [[psysml:4aee70d7-2b51-44ea-8f07-d2f5d32d40ea ]] {\r\n",
       "- - attributes - -\r\n",
       "x: Real\r\n",
       "}\r\n",
       "comp usage \"x_constraint \" as E3  <<(T,blue) assert constraint>> [[psysml:4e46f6e8-5c68-4c27-8860-5a5208ef4b7d ]] {\r\n",
       "}\r\n",
       "rec def \"setX\" as E4  <<(T,blue) action  def>> [[psysml:6b33d7d4-0403-4693-aa76-fb8d39622677 ]] {\r\n",
       "portin \"c\" as E5  [[psysml:aadc07b0-b627-4a1c-8a0b-7e2bc77ad3c9 ]] \r\n",
       "portin \"newX\" as E6  [[psysml:a8b47a70-45ce-488b-ad71-695ba05ffc83 ]] \r\n",
       "}\r\n",
       "\r\n",
       "}\r\n",
       "E2 *- - \"*\"E3 [[psysml:057e15e5-e107-41c4-afdf-3f2cc89f9205 ]] \r\n",
       "@enduml\r\n",
       "\n",
       "PlantUML version 1.2020.13(Sat Jun 13 12:26:38 UTC 2020)\n",
       "(EPL source distribution)\n",
       "Java Runtime: OpenJDK Runtime Environment\n",
       "JVM: OpenJDK 64-Bit Server VM\n",
       "Default Encoding: UTF-8\n",
       "Language: en\n",
       "Country: null\n",
       "--></g></svg>"
      ]
     },
     "execution_count": 44,
     "metadata": {},
     "output_type": "execute_result"
    }
   ],
   "source": [
    "%viz --style=\"TB\" --view=\"Default\" \"TextualRepresentationTest\""
   ]
  },
  {
   "cell_type": "code",
   "execution_count": 45,
   "id": "7771935f",
   "metadata": {
    "execution": {
     "iopub.execute_input": "2022-06-20T11:13:38.756144Z",
     "iopub.status.busy": "2022-06-20T11:13:38.755639Z",
     "iopub.status.idle": "2022-06-20T11:13:38.796238Z",
     "shell.execute_reply": "2022-06-20T11:13:38.795799Z"
    }
   },
   "outputs": [
    {
     "data": {
      "image/svg+xml": [
       "<?xml version=\"1.0\" encoding=\"UTF-8\" standalone=\"no\"?><svg xmlns=\"http://www.w3.org/2000/svg\" xmlns:xlink=\"http://www.w3.org/1999/xlink\" contentScriptType=\"application/ecmascript\" contentStyleType=\"text/css\" height=\"375px\" preserveAspectRatio=\"none\" style=\"width:242px;height:375px;\" version=\"1.1\" viewBox=\"0 0 242 375\" width=\"242px\" zoomAndPan=\"magnify\"><defs/><g><!--MD5=[fbc87193dbaf4d95561dea2c320d4a47]\n",
       "cluster E1--><a href=\"psysml:44d40611-a894-4dae-a2f2-eb4bbba313e0\" target=\"_top\" title=\"psysml:44d40611-a894-4dae-a2f2-eb4bbba313e0\" xlink:actuate=\"onRequest\" xlink:href=\"psysml:44d40611-a894-4dae-a2f2-eb4bbba313e0\" xlink:show=\"new\" xlink:title=\"psysml:44d40611-a894-4dae-a2f2-eb4bbba313e0\" xlink:type=\"simple\"><polygon fill=\"#FFFFFF\" points=\"16,6,210,6,217,28.2969,220,28.2969,220,363,16,363,16,6\" style=\"stroke: #000000; stroke-width: 1.5;\"/><line style=\"stroke: #000000; stroke-width: 1.5;\" x1=\"16\" x2=\"217\" y1=\"28.2969\" y2=\"28.2969\"/><text fill=\"#000000\" font-family=\"sans-serif\" font-size=\"14\" font-weight=\"bold\" lengthAdjust=\"spacingAndGlyphs\" textLength=\"188\" x=\"20\" y=\"20.9951\">TextualRepresentationTest</text></a><!--MD5=[b4997ac47864f28c2f74865a473b2911]\n",
       "class E2--><a href=\"psysml:4aee70d7-2b51-44ea-8f07-d2f5d32d40ea\" target=\"_top\" title=\"psysml:4aee70d7-2b51-44ea-8f07-d2f5d32d40ea\" xlink:actuate=\"onRequest\" xlink:href=\"psysml:4aee70d7-2b51-44ea-8f07-d2f5d32d40ea\" xlink:show=\"new\" xlink:title=\"psysml:4aee70d7-2b51-44ea-8f07-d2f5d32d40ea\" xlink:type=\"simple\"><rect fill=\"#FFFFFF\" height=\"75.5469\" id=\"E2\" style=\"stroke: #383838; stroke-width: 1.5;\" width=\"71\" x=\"82.5\" y=\"164\"/><text fill=\"#000000\" font-family=\"sans-serif\" font-size=\"12\" font-style=\"italic\" lengthAdjust=\"spacingAndGlyphs\" textLength=\"69\" x=\"83.5\" y=\"180.1387\">«item  def»</text><text fill=\"#000000\" font-family=\"sans-serif\" font-size=\"12\" lengthAdjust=\"spacingAndGlyphs\" textLength=\"8\" x=\"114\" y=\"194.1074\">C</text><line style=\"stroke: #383838; stroke-width: 1.5;\" x1=\"83.5\" x2=\"152.5\" y1=\"201.9375\" y2=\"201.9375\"/><text fill=\"#000000\" font-family=\"sans-serif\" font-size=\"11\" lengthAdjust=\"spacingAndGlyphs\" textLength=\"38\" x=\"88.5\" y=\"232.9526\">x: Real</text><line style=\"stroke: #383838; stroke-width: 1.0;\" x1=\"83.5\" x2=\"90.5\" y1=\"216.3398\" y2=\"216.3398\"/><text fill=\"#000000\" font-family=\"sans-serif\" font-size=\"11\" lengthAdjust=\"spacingAndGlyphs\" textLength=\"55\" x=\"90.5\" y=\"219.6479\">attributes</text><line style=\"stroke: #383838; stroke-width: 1.0;\" x1=\"145.5\" x2=\"152.5\" y1=\"216.3398\" y2=\"216.3398\"/></a><!--MD5=[09b614a08d8cba4a07c9adeb5e0fee81]\n",
       "class E3--><a href=\"psysml:4e46f6e8-5c68-4c27-8860-5a5208ef4b7d\" target=\"_top\" title=\"psysml:4e46f6e8-5c68-4c27-8860-5a5208ef4b7d\" xlink:actuate=\"onRequest\" xlink:href=\"psysml:4e46f6e8-5c68-4c27-8860-5a5208ef4b7d\" xlink:show=\"new\" xlink:title=\"psysml:4e46f6e8-5c68-4c27-8860-5a5208ef4b7d\" xlink:type=\"simple\"><rect fill=\"#FFFFFF\" height=\"45.9375\" id=\"E3\" rx=\"10\" ry=\"10\" style=\"stroke: #383838; stroke-width: 1.5;\" width=\"124\" x=\"56\" y=\"301\"/><text fill=\"#000000\" font-family=\"sans-serif\" font-size=\"12\" font-style=\"italic\" lengthAdjust=\"spacingAndGlyphs\" textLength=\"122\" x=\"57\" y=\"317.1387\">«assert constraint»</text><text fill=\"#000000\" font-family=\"sans-serif\" font-size=\"12\" lengthAdjust=\"spacingAndGlyphs\" textLength=\"76\" x=\"78\" y=\"331.1074\">x_constraint</text><line style=\"stroke: #383838; stroke-width: 1.5;\" x1=\"57\" x2=\"179\" y1=\"338.9375\" y2=\"338.9375\"/></a><!--MD5=[ebbe1d658d1005bcc118a6aa81145e00]\n",
       "class E4--><a href=\"psysml:6b33d7d4-0403-4693-aa76-fb8d39622677\" target=\"_top\" title=\"psysml:6b33d7d4-0403-4693-aa76-fb8d39622677\" xlink:actuate=\"onRequest\" xlink:href=\"psysml:6b33d7d4-0403-4693-aa76-fb8d39622677\" xlink:show=\"new\" xlink:title=\"psysml:6b33d7d4-0403-4693-aa76-fb8d39622677\" xlink:type=\"simple\"><rect fill=\"#FFFFFF\" height=\"45.9375\" id=\"E4\" style=\"stroke: #383838; stroke-width: 1.5;\" width=\"83\" x=\"76.5\" y=\"41\"/><text fill=\"#000000\" font-family=\"sans-serif\" font-size=\"12\" font-style=\"italic\" lengthAdjust=\"spacingAndGlyphs\" textLength=\"81\" x=\"77.5\" y=\"57.1387\">«action  def»</text><text fill=\"#000000\" font-family=\"sans-serif\" font-size=\"12\" lengthAdjust=\"spacingAndGlyphs\" textLength=\"27\" x=\"104.5\" y=\"71.1074\">setX</text><line style=\"stroke: #383838; stroke-width: 1.5;\" x1=\"77.5\" x2=\"158.5\" y1=\"78.9375\" y2=\"78.9375\"/></a><!--MD5=[209b3feb70ccb6233bfe1053d122c12c]\n",
       "reverse link E2 to E3--><a href=\"psysml:057e15e5-e107-41c4-afdf-3f2cc89f9205\" target=\"_top\" title=\"psysml:057e15e5-e107-41c4-afdf-3f2cc89f9205\" xlink:actuate=\"onRequest\" xlink:href=\"psysml:057e15e5-e107-41c4-afdf-3f2cc89f9205\" xlink:show=\"new\" xlink:title=\"psysml:057e15e5-e107-41c4-afdf-3f2cc89f9205\" xlink:type=\"simple\"><path d=\"M118,253.76 C118,270.17 118,287.52 118,300.75 \" fill=\"none\" id=\"E2&lt;-E3\" style=\"stroke: #383838; stroke-width: 1.0;\"/><polygon fill=\"#383838\" points=\"118,240.31,114,246.31,118,252.31,122,246.31,118,240.31\" style=\"stroke: #383838; stroke-width: 1.0;\"/><text fill=\"#000000\" font-family=\"sans-serif\" font-size=\"13\" lengthAdjust=\"spacingAndGlyphs\" textLength=\"7\" x=\"110.1031\" y=\"289.9622\">*</text></a><!--MD5=[ddeed8deb2209213b62e6cfabaa108b2]\n",
       "reverse link E4 to E2--><a href=\"psysml:aadc07b0-b627-4a1c-8a0b-7e2bc77ad3c9\" target=\"_top\" title=\"psysml:aadc07b0-b627-4a1c-8a0b-7e2bc77ad3c9\" xlink:actuate=\"onRequest\" xlink:href=\"psysml:aadc07b0-b627-4a1c-8a0b-7e2bc77ad3c9\" xlink:show=\"new\" xlink:title=\"psysml:aadc07b0-b627-4a1c-8a0b-7e2bc77ad3c9\" xlink:type=\"simple\"><path d=\"M118,100.42 C118,119.95 118,144.19 118,163.97 \" fill=\"none\" id=\"E4&lt;-E2\" style=\"stroke: #383838; stroke-width: 1.0;\"/><polygon fill=\"#FFFFFF\" points=\"118,87.15,114,93.15,118,99.15,122,93.15,118,87.15\" style=\"stroke: #383838; stroke-width: 1.0;\"/><text fill=\"#000000\" font-family=\"sans-serif\" font-size=\"13\" lengthAdjust=\"spacingAndGlyphs\" textLength=\"7\" x=\"119\" y=\"130.0669\">c</text></a><!--MD5=[d2f7eaa27977e5f1f234ead3a4fa628b]\n",
       "@startuml\r\n",
       "top to bottom direction\r\n",
       "skinparam monochrome true\r\n",
       "skinparam classbackgroundcolor white\r\n",
       "skinparam shadowing false\r\n",
       "skinparam wrapWidth 300\r\n",
       "hide circle\r\n",
       "\r\n",
       "package \"TextualRepresentationTest\" as E1  [[psysml:44d40611-a894-4dae-a2f2-eb4bbba313e0 ]]  {\r\n",
       "comp def \"C\" as E2  <<(T,blue) item  def>> [[psysml:4aee70d7-2b51-44ea-8f07-d2f5d32d40ea ]] {\r\n",
       "- - attributes - -\r\n",
       "x: Real\r\n",
       "}\r\n",
       "comp usage \"x_constraint \" as E3  <<(T,blue) assert constraint>> [[psysml:4e46f6e8-5c68-4c27-8860-5a5208ef4b7d ]] {\r\n",
       "}\r\n",
       "comp def \"setX\" as E4  <<(T,blue) action  def>> [[psysml:6b33d7d4-0403-4693-aa76-fb8d39622677 ]] {\r\n",
       "}\r\n",
       "}\r\n",
       "E2 *- - \"*\"E3 [[psysml:057e15e5-e107-41c4-afdf-3f2cc89f9205 ]] \r\n",
       "E4 o- - E2 [[psysml:aadc07b0-b627-4a1c-8a0b-7e2bc77ad3c9 ]] : c\r\n",
       "@enduml\r\n",
       "\n",
       "PlantUML version 1.2020.13(Sat Jun 13 12:26:38 UTC 2020)\n",
       "(EPL source distribution)\n",
       "Java Runtime: OpenJDK Runtime Environment\n",
       "JVM: OpenJDK 64-Bit Server VM\n",
       "Default Encoding: UTF-8\n",
       "Language: en\n",
       "Country: null\n",
       "--></g></svg>"
      ]
     },
     "execution_count": 45,
     "metadata": {},
     "output_type": "execute_result"
    }
   ],
   "source": [
    "%viz --style=\"TB\" --view=\"Tree\" \"TextualRepresentationTest\""
   ]
  },
  {
   "cell_type": "code",
   "execution_count": 46,
   "id": "dcd154d4",
   "metadata": {
    "execution": {
     "iopub.execute_input": "2022-06-20T11:13:38.845803Z",
     "iopub.status.busy": "2022-06-20T11:13:38.845324Z",
     "iopub.status.idle": "2022-06-20T11:13:38.850565Z",
     "shell.execute_reply": "2022-06-20T11:13:38.850157Z"
    }
   },
   "outputs": [
    {
     "data": {
      "image/svg+xml": [
       "<?xml version=\"1.0\" encoding=\"UTF-8\" standalone=\"no\"?><svg xmlns=\"http://www.w3.org/2000/svg\" xmlns:xlink=\"http://www.w3.org/1999/xlink\" contentScriptType=\"application/ecmascript\" contentStyleType=\"text/css\" height=\"12px\" preserveAspectRatio=\"none\" style=\"width:12px;height:12px;\" version=\"1.1\" viewBox=\"0 0 12 12\" width=\"12px\" zoomAndPan=\"magnify\"><defs/><g><!--MD5=[f4ee21bc66e489b5061b7c3e9601fdef]\n",
       "@startuml\r\n",
       "top to bottom direction\r\n",
       "skinparam monochrome true\r\n",
       "skinparam classbackgroundcolor white\r\n",
       "skinparam shadowing false\r\n",
       "skinparam wrapWidth 300\r\n",
       "hide circle\r\n",
       "\r\n",
       "@enduml\r\n",
       "\n",
       "PlantUML version 1.2020.13(Sat Jun 13 12:26:38 UTC 2020)\n",
       "(EPL source distribution)\n",
       "Java Runtime: OpenJDK Runtime Environment\n",
       "JVM: OpenJDK 64-Bit Server VM\n",
       "Default Encoding: UTF-8\n",
       "Language: en\n",
       "Country: null\n",
       "--></g></svg>"
      ]
     },
     "execution_count": 46,
     "metadata": {},
     "output_type": "execute_result"
    }
   ],
   "source": [
    "%viz --style=\"TB\" --view=\"State\" \"TextualRepresentationTest\""
   ]
  },
  {
   "cell_type": "code",
   "execution_count": 47,
   "id": "6f4b31b0",
   "metadata": {
    "execution": {
     "iopub.execute_input": "2022-06-20T11:13:38.900498Z",
     "iopub.status.busy": "2022-06-20T11:13:38.900014Z",
     "iopub.status.idle": "2022-06-20T11:13:38.929006Z",
     "shell.execute_reply": "2022-06-20T11:13:38.928564Z"
    }
   },
   "outputs": [
    {
     "data": {
      "image/svg+xml": [
       "<?xml version=\"1.0\" encoding=\"UTF-8\" standalone=\"no\"?><svg xmlns=\"http://www.w3.org/2000/svg\" xmlns:xlink=\"http://www.w3.org/1999/xlink\" contentScriptType=\"application/ecmascript\" contentStyleType=\"text/css\" height=\"179px\" preserveAspectRatio=\"none\" style=\"width:292px;height:179px;\" version=\"1.1\" viewBox=\"0 0 292 179\" width=\"292px\" zoomAndPan=\"magnify\"><defs/><g><!--MD5=[fbc87193dbaf4d95561dea2c320d4a47]\n",
       "cluster E1--><a href=\"psysml:44d40611-a894-4dae-a2f2-eb4bbba313e0\" target=\"_top\" title=\"psysml:44d40611-a894-4dae-a2f2-eb4bbba313e0\" xlink:actuate=\"onRequest\" xlink:href=\"psysml:44d40611-a894-4dae-a2f2-eb4bbba313e0\" xlink:show=\"new\" xlink:title=\"psysml:44d40611-a894-4dae-a2f2-eb4bbba313e0\" xlink:type=\"simple\"><polygon fill=\"#FFFFFF\" points=\"16,6,210,6,217,28.2969,270,28.2969,270,167,16,167,16,6\" style=\"stroke: #000000; stroke-width: 1.5;\"/><line style=\"stroke: #000000; stroke-width: 1.5;\" x1=\"16\" x2=\"217\" y1=\"28.2969\" y2=\"28.2969\"/><text fill=\"#000000\" font-family=\"sans-serif\" font-size=\"14\" font-weight=\"bold\" lengthAdjust=\"spacingAndGlyphs\" textLength=\"188\" x=\"20\" y=\"20.9951\">TextualRepresentationTest</text></a><!--MD5=[d5e69f78d87373223dbae638b30a9c99]\n",
       "cluster E3--><a href=\"psysml:6b33d7d4-0403-4693-aa76-fb8d39622677\" target=\"_top\" title=\"psysml:6b33d7d4-0403-4693-aa76-fb8d39622677\" xlink:actuate=\"onRequest\" xlink:href=\"psysml:6b33d7d4-0403-4693-aa76-fb8d39622677\" xlink:show=\"new\" xlink:title=\"psysml:6b33d7d4-0403-4693-aa76-fb8d39622677\" xlink:type=\"simple\"><rect fill=\"#FFFFFF\" height=\"88.5\" id=\"E3\" style=\"stroke: #383838; stroke-width: 1.5;\" width=\"100\" x=\"122.5\" y=\"62.5\"/><rect fill=\"#F8F8F8\" height=\"37.9375\" style=\"stroke: #383838; stroke-width: 1.5;\" width=\"100\" x=\"122.5\" y=\"62.5\"/><text fill=\"#000000\" font-family=\"sans-serif\" font-size=\"12\" font-style=\"italic\" lengthAdjust=\"spacingAndGlyphs\" textLength=\"81\" x=\"132\" y=\"78.6387\">«action  def»</text><text fill=\"#000000\" font-family=\"sans-serif\" font-size=\"12\" lengthAdjust=\"spacingAndGlyphs\" textLength=\"27\" x=\"159\" y=\"92.6074\">setX</text></a><g id=\"E1.E2\"><a href=\"psysml:4aee70d7-2b51-44ea-8f07-d2f5d32d40ea\" target=\"_top\" title=\"psysml:4aee70d7-2b51-44ea-8f07-d2f5d32d40ea\" xlink:actuate=\"onRequest\" xlink:href=\"psysml:4aee70d7-2b51-44ea-8f07-d2f5d32d40ea\" xlink:show=\"new\" xlink:title=\"psysml:4aee70d7-2b51-44ea-8f07-d2f5d32d40ea\" xlink:type=\"simple\"><rect fill=\"#FFFFFF\" height=\"42.9375\" id=\"E2\" style=\"stroke: #383838; stroke-width: 1.5;\" width=\"76\" x=\"32\" y=\"41\"/><rect fill=\"#F8F8F8\" height=\"37.9375\" style=\"stroke: #383838; stroke-width: 1.5;\" width=\"76\" x=\"32\" y=\"41\"/><text fill=\"#000000\" font-family=\"sans-serif\" font-size=\"12\" font-style=\"italic\" lengthAdjust=\"spacingAndGlyphs\" textLength=\"69\" x=\"35.5\" y=\"57.1387\">«item  def»</text><text fill=\"#000000\" font-family=\"sans-serif\" font-size=\"12\" lengthAdjust=\"spacingAndGlyphs\" textLength=\"8\" x=\"66\" y=\"71.1074\">C</text></a></g><text fill=\"#000000\" font-family=\"sans-serif\" font-size=\"14\" lengthAdjust=\"spacingAndGlyphs\" textLength=\"8\" x=\"145\" y=\"41.1982\">c</text><rect fill=\"#383838\" height=\"12\" style=\"stroke: #F8F8F8; stroke-width: 1.5;\" width=\"12\" x=\"143\" y=\"56.5\"/><text fill=\"#000000\" font-family=\"sans-serif\" font-size=\"14\" lengthAdjust=\"spacingAndGlyphs\" textLength=\"38\" x=\"177\" y=\"41.1982\">newX</text><rect fill=\"#383838\" height=\"12\" style=\"stroke: #F8F8F8; stroke-width: 1.5;\" width=\"12\" x=\"190\" y=\"56.5\"/><!--MD5=[bee32f6a73ed81b09639a49f420bc1ee]\n",
       "@startuml\r\n",
       "skinparam ranksep 10\r\n",
       "skinparam rectangle {\r\n",
       " backgroundColor<<block>> LightGreen\r\n",
       "}\r\n",
       "top to bottom direction\r\n",
       "skinparam monochrome true\r\n",
       "skinparam classbackgroundcolor white\r\n",
       "skinparam shadowing false\r\n",
       "skinparam wrapWidth 300\r\n",
       "hide circle\r\n",
       "\r\n",
       "package \"TextualRepresentationTest\" as E1  [[psysml:44d40611-a894-4dae-a2f2-eb4bbba313e0 ]]  {\r\n",
       "def \"C\" as E2  <<(T,blue) item  def>> [[psysml:4aee70d7-2b51-44ea-8f07-d2f5d32d40ea ]] \r\n",
       "rec def \"setX\" as E3  <<(T,blue) action  def>> [[psysml:6b33d7d4-0403-4693-aa76-fb8d39622677 ]] {\r\n",
       "portin \"c\" as E4  [[psysml:aadc07b0-b627-4a1c-8a0b-7e2bc77ad3c9 ]] \r\n",
       "portin \"newX\" as E5  [[psysml:a8b47a70-45ce-488b-ad71-695ba05ffc83 ]] \r\n",
       "}\r\n",
       "\r\n",
       "}\r\n",
       "@enduml\r\n",
       "\n",
       "PlantUML version 1.2020.13(Sat Jun 13 12:26:38 UTC 2020)\n",
       "(EPL source distribution)\n",
       "Java Runtime: OpenJDK Runtime Environment\n",
       "JVM: OpenJDK 64-Bit Server VM\n",
       "Default Encoding: UTF-8\n",
       "Language: en\n",
       "Country: null\n",
       "--></g></svg>"
      ]
     },
     "execution_count": 47,
     "metadata": {},
     "output_type": "execute_result"
    }
   ],
   "source": [
    "%viz --style=\"TB\" --view=\"Interconnection\" \"TextualRepresentationTest\""
   ]
  },
  {
   "cell_type": "code",
   "execution_count": 48,
   "id": "2ad53469",
   "metadata": {
    "execution": {
     "iopub.execute_input": "2022-06-20T11:13:38.978590Z",
     "iopub.status.busy": "2022-06-20T11:13:38.978103Z",
     "iopub.status.idle": "2022-06-20T11:13:39.001433Z",
     "shell.execute_reply": "2022-06-20T11:13:39.001002Z"
    }
   },
   "outputs": [
    {
     "data": {
      "image/svg+xml": [
       "<?xml version=\"1.0\" encoding=\"UTF-8\" standalone=\"no\"?><svg xmlns=\"http://www.w3.org/2000/svg\" xmlns:xlink=\"http://www.w3.org/1999/xlink\" contentScriptType=\"application/ecmascript\" contentStyleType=\"text/css\" height=\"126px\" preserveAspectRatio=\"none\" style=\"width:152px;height:126px;\" version=\"1.1\" viewBox=\"0 0 152 126\" width=\"152px\" zoomAndPan=\"magnify\"><defs/><g><!--MD5=[fbc87193dbaf4d95561dea2c320d4a47]\n",
       "cluster E1--><a href=\"psysml:6b33d7d4-0403-4693-aa76-fb8d39622677\" target=\"_top\" title=\"psysml:6b33d7d4-0403-4693-aa76-fb8d39622677\" xlink:actuate=\"onRequest\" xlink:href=\"psysml:6b33d7d4-0403-4693-aa76-fb8d39622677\" xlink:show=\"new\" xlink:title=\"psysml:6b33d7d4-0403-4693-aa76-fb8d39622677\" xlink:type=\"simple\"><rect fill=\"#FFFFFF\" height=\"73\" id=\"E1\" style=\"stroke: #383838; stroke-width: 1.5;\" width=\"134\" x=\"7\" y=\"42.0986\"/><rect fill=\"#F8F8F8\" height=\"37.9375\" style=\"stroke: #383838; stroke-width: 1.5;\" width=\"134\" x=\"7\" y=\"42.0986\"/><text fill=\"#000000\" font-family=\"sans-serif\" font-size=\"12\" font-style=\"italic\" lengthAdjust=\"spacingAndGlyphs\" textLength=\"81\" x=\"33.5\" y=\"58.2373\">«action  def»</text><text fill=\"#000000\" font-family=\"sans-serif\" font-size=\"12\" lengthAdjust=\"spacingAndGlyphs\" textLength=\"27\" x=\"60.5\" y=\"72.2061\">setX</text></a><text fill=\"#000000\" font-family=\"sans-serif\" font-size=\"14\" lengthAdjust=\"spacingAndGlyphs\" textLength=\"8\" x=\"21\" y=\"20.7969\">c</text><rect fill=\"#383838\" height=\"12\" style=\"stroke: #F8F8F8; stroke-width: 1.5;\" width=\"12\" x=\"19\" y=\"36.0986\"/><text fill=\"#000000\" font-family=\"sans-serif\" font-size=\"14\" lengthAdjust=\"spacingAndGlyphs\" textLength=\"38\" x=\"53\" y=\"20.7969\">newX</text><rect fill=\"#383838\" height=\"12\" style=\"stroke: #F8F8F8; stroke-width: 1.5;\" width=\"12\" x=\"66\" y=\"36.0986\"/><!--MD5=[6e7201cfba48db49b2d3f4901c797429]\n",
       "@startuml\r\n",
       "skinparam ranksep 8\r\n",
       "top to bottom direction\r\n",
       "skinparam monochrome true\r\n",
       "skinparam classbackgroundcolor white\r\n",
       "skinparam shadowing false\r\n",
       "skinparam wrapWidth 300\r\n",
       "hide circle\r\n",
       "\r\n",
       "rec def \"setX\" as E1  <<(T,blue) action  def>> [[psysml:6b33d7d4-0403-4693-aa76-fb8d39622677 ]] {\r\n",
       "portin \"c\" as E2  [[psysml:aadc07b0-b627-4a1c-8a0b-7e2bc77ad3c9 ]] \r\n",
       "portin \"newX\" as E3  [[psysml:a8b47a70-45ce-488b-ad71-695ba05ffc83 ]] \r\n",
       "}\r\n",
       "\r\n",
       "@enduml\r\n",
       "\n",
       "PlantUML version 1.2020.13(Sat Jun 13 12:26:38 UTC 2020)\n",
       "(EPL source distribution)\n",
       "Java Runtime: OpenJDK Runtime Environment\n",
       "JVM: OpenJDK 64-Bit Server VM\n",
       "Default Encoding: UTF-8\n",
       "Language: en\n",
       "Country: null\n",
       "--></g></svg>"
      ]
     },
     "execution_count": 48,
     "metadata": {},
     "output_type": "execute_result"
    }
   ],
   "source": [
    "%viz --style=\"TB\" --view=\"Action\" \"TextualRepresentationTest\""
   ]
  },
  {
   "cell_type": "code",
   "execution_count": 49,
   "id": "b582141b",
   "metadata": {
    "execution": {
     "iopub.execute_input": "2022-06-20T11:13:39.051338Z",
     "iopub.status.busy": "2022-06-20T11:13:39.050780Z",
     "iopub.status.idle": "2022-06-20T11:13:39.056856Z",
     "shell.execute_reply": "2022-06-20T11:13:39.056396Z"
    }
   },
   "outputs": [
    {
     "data": {
      "image/svg+xml": [
       "<?xml version=\"1.0\" encoding=\"UTF-8\" standalone=\"no\"?><svg xmlns=\"http://www.w3.org/2000/svg\" xmlns:xlink=\"http://www.w3.org/1999/xlink\" contentScriptType=\"application/ecmascript\" contentStyleType=\"text/css\" height=\"12px\" preserveAspectRatio=\"none\" style=\"width:12px;height:12px;\" version=\"1.1\" viewBox=\"0 0 12 12\" width=\"12px\" zoomAndPan=\"magnify\"><defs/><g><!--MD5=[e1ab0c84c44d2fef8bf5f140f2689906]\n",
       "@startuml\r\n",
       "skinparam roundcorner 20\r\n",
       "skinparam BoxPadding 20\r\n",
       "skinparam SequenceBoxBackgroundColor #white\r\n",
       "skinparam style strictuml\r\n",
       "skinparam maxMessageSize 100\r\n",
       "top to bottom direction\r\n",
       "skinparam monochrome true\r\n",
       "skinparam classbackgroundcolor white\r\n",
       "skinparam shadowing false\r\n",
       "skinparam wrapWidth 300\r\n",
       "hide circle\r\n",
       "\r\n",
       "@enduml\r\n",
       "\n",
       "PlantUML version 1.2020.13(Sat Jun 13 12:26:38 UTC 2020)\n",
       "(EPL source distribution)\n",
       "Java Runtime: OpenJDK Runtime Environment\n",
       "JVM: OpenJDK 64-Bit Server VM\n",
       "Default Encoding: UTF-8\n",
       "Language: en\n",
       "Country: null\n",
       "--></g></svg>"
      ]
     },
     "execution_count": 49,
     "metadata": {},
     "output_type": "execute_result"
    }
   ],
   "source": [
    "%viz --style=\"TB\" --view=\"Sequence\" \"TextualRepresentationTest\""
   ]
  },
  {
   "cell_type": "code",
   "execution_count": 50,
   "id": "0845f343",
   "metadata": {
    "execution": {
     "iopub.execute_input": "2022-06-20T11:13:39.106666Z",
     "iopub.status.busy": "2022-06-20T11:13:39.106213Z",
     "iopub.status.idle": "2022-06-20T11:13:39.152920Z",
     "shell.execute_reply": "2022-06-20T11:13:39.151303Z"
    }
   },
   "outputs": [
    {
     "data": {
      "image/svg+xml": [
       "<?xml version=\"1.0\" encoding=\"UTF-8\" standalone=\"no\"?><svg xmlns=\"http://www.w3.org/2000/svg\" xmlns:xlink=\"http://www.w3.org/1999/xlink\" contentScriptType=\"application/ecmascript\" contentStyleType=\"text/css\" height=\"261px\" preserveAspectRatio=\"none\" style=\"width:351px;height:261px;\" version=\"1.1\" viewBox=\"0 0 351 261\" width=\"351px\" zoomAndPan=\"magnify\"><defs/><g><!--MD5=[fbc87193dbaf4d95561dea2c320d4a47]\n",
       "cluster E1--><a href=\"psysml:44d40611-a894-4dae-a2f2-eb4bbba313e0\" target=\"_top\" title=\"psysml:44d40611-a894-4dae-a2f2-eb4bbba313e0\" xlink:actuate=\"onRequest\" xlink:href=\"psysml:44d40611-a894-4dae-a2f2-eb4bbba313e0\" xlink:show=\"new\" xlink:title=\"psysml:44d40611-a894-4dae-a2f2-eb4bbba313e0\" xlink:type=\"simple\"><polygon fill=\"#FFFFFF\" points=\"16,6,210,6,217,28.2969,329,28.2969,329,249.5,16,249.5,16,6\" style=\"stroke: #000000; stroke-width: 1.5;\"/><line style=\"stroke: #000000; stroke-width: 1.5;\" x1=\"16\" x2=\"217\" y1=\"28.2969\" y2=\"28.2969\"/><text fill=\"#000000\" font-family=\"sans-serif\" font-size=\"14\" font-weight=\"bold\" lengthAdjust=\"spacingAndGlyphs\" textLength=\"188\" x=\"20\" y=\"20.9951\">TextualRepresentationTest</text></a><!--MD5=[f6df4d0ebaf0b5dfb2ced0ae5af7c670]\n",
       "cluster E4--><a href=\"psysml:6b33d7d4-0403-4693-aa76-fb8d39622677\" target=\"_top\" title=\"psysml:6b33d7d4-0403-4693-aa76-fb8d39622677\" xlink:actuate=\"onRequest\" xlink:href=\"psysml:6b33d7d4-0403-4693-aa76-fb8d39622677\" xlink:show=\"new\" xlink:title=\"psysml:6b33d7d4-0403-4693-aa76-fb8d39622677\" xlink:type=\"simple\"><rect fill=\"#FFFFFF\" height=\"154.5\" id=\"E4\" style=\"stroke: #383838; stroke-width: 1.5;\" width=\"134\" x=\"179\" y=\"79\"/><rect fill=\"#F8F8F8\" height=\"37.9375\" style=\"stroke: #383838; stroke-width: 1.5;\" width=\"134\" x=\"179\" y=\"79\"/><text fill=\"#000000\" font-family=\"sans-serif\" font-size=\"12\" font-style=\"italic\" lengthAdjust=\"spacingAndGlyphs\" textLength=\"81\" x=\"205.5\" y=\"95.1387\">«action  def»</text><text fill=\"#000000\" font-family=\"sans-serif\" font-size=\"12\" lengthAdjust=\"spacingAndGlyphs\" textLength=\"27\" x=\"232.5\" y=\"109.1074\">setX</text></a><!--MD5=[b4997ac47864f28c2f74865a473b2911]\n",
       "class E2--><a href=\"psysml:4aee70d7-2b51-44ea-8f07-d2f5d32d40ea\" target=\"_top\" title=\"psysml:4aee70d7-2b51-44ea-8f07-d2f5d32d40ea\" xlink:actuate=\"onRequest\" xlink:href=\"psysml:4aee70d7-2b51-44ea-8f07-d2f5d32d40ea\" xlink:show=\"new\" xlink:title=\"psysml:4aee70d7-2b51-44ea-8f07-d2f5d32d40ea\" xlink:type=\"simple\"><rect fill=\"#FFFFFF\" height=\"75.5469\" id=\"E2\" style=\"stroke: #383838; stroke-width: 1.5;\" width=\"71\" x=\"58.5\" y=\"41\"/><text fill=\"#000000\" font-family=\"sans-serif\" font-size=\"12\" font-style=\"italic\" lengthAdjust=\"spacingAndGlyphs\" textLength=\"69\" x=\"59.5\" y=\"57.1387\">«item  def»</text><text fill=\"#000000\" font-family=\"sans-serif\" font-size=\"12\" lengthAdjust=\"spacingAndGlyphs\" textLength=\"8\" x=\"90\" y=\"71.1074\">C</text><line style=\"stroke: #383838; stroke-width: 1.5;\" x1=\"59.5\" x2=\"128.5\" y1=\"78.9375\" y2=\"78.9375\"/><text fill=\"#000000\" font-family=\"sans-serif\" font-size=\"11\" lengthAdjust=\"spacingAndGlyphs\" textLength=\"38\" x=\"64.5\" y=\"109.9526\">x: Real</text><line style=\"stroke: #383838; stroke-width: 1.0;\" x1=\"59.5\" x2=\"66.5\" y1=\"93.3398\" y2=\"93.3398\"/><text fill=\"#000000\" font-family=\"sans-serif\" font-size=\"11\" lengthAdjust=\"spacingAndGlyphs\" textLength=\"55\" x=\"66.5\" y=\"96.6479\">attributes</text><line style=\"stroke: #383838; stroke-width: 1.0;\" x1=\"121.5\" x2=\"128.5\" y1=\"93.3398\" y2=\"93.3398\"/></a><!--MD5=[09b614a08d8cba4a07c9adeb5e0fee81]\n",
       "class E3--><a href=\"psysml:4e46f6e8-5c68-4c27-8860-5a5208ef4b7d\" target=\"_top\" title=\"psysml:4e46f6e8-5c68-4c27-8860-5a5208ef4b7d\" xlink:actuate=\"onRequest\" xlink:href=\"psysml:4e46f6e8-5c68-4c27-8860-5a5208ef4b7d\" xlink:show=\"new\" xlink:title=\"psysml:4e46f6e8-5c68-4c27-8860-5a5208ef4b7d\" xlink:type=\"simple\"><rect fill=\"#FFFFFF\" height=\"45.9375\" id=\"E3\" rx=\"10\" ry=\"10\" style=\"stroke: #383838; stroke-width: 1.5;\" width=\"124\" x=\"32\" y=\"177\"/><text fill=\"#000000\" font-family=\"sans-serif\" font-size=\"12\" font-style=\"italic\" lengthAdjust=\"spacingAndGlyphs\" textLength=\"122\" x=\"33\" y=\"193.1387\">«assert constraint»</text><text fill=\"#000000\" font-family=\"sans-serif\" font-size=\"12\" lengthAdjust=\"spacingAndGlyphs\" textLength=\"76\" x=\"54\" y=\"207.1074\">x_constraint</text><line style=\"stroke: #383838; stroke-width: 1.5;\" x1=\"33\" x2=\"155\" y1=\"214.9375\" y2=\"214.9375\"/></a><text fill=\"#000000\" font-family=\"sans-serif\" font-size=\"14\" lengthAdjust=\"spacingAndGlyphs\" textLength=\"8\" x=\"193\" y=\"57.6982\">c</text><rect fill=\"#383838\" height=\"12\" style=\"stroke: #F8F8F8; stroke-width: 1.5;\" width=\"12\" x=\"191\" y=\"73\"/><text fill=\"#000000\" font-family=\"sans-serif\" font-size=\"14\" lengthAdjust=\"spacingAndGlyphs\" textLength=\"38\" x=\"225\" y=\"57.6982\">newX</text><rect fill=\"#383838\" height=\"12\" style=\"stroke: #F8F8F8; stroke-width: 1.5;\" width=\"12\" x=\"238\" y=\"73\"/><!--MD5=[209b3feb70ccb6233bfe1053d122c12c]\n",
       "reverse link E2 to E3--><a href=\"psysml:057e15e5-e107-41c4-afdf-3f2cc89f9205\" target=\"_top\" title=\"psysml:057e15e5-e107-41c4-afdf-3f2cc89f9205\" xlink:actuate=\"onRequest\" xlink:href=\"psysml:057e15e5-e107-41c4-afdf-3f2cc89f9205\" xlink:show=\"new\" xlink:title=\"psysml:057e15e5-e107-41c4-afdf-3f2cc89f9205\" xlink:type=\"simple\"><path d=\"M94,130.34 C94,146.61 94,163.81 94,176.93 \" fill=\"none\" id=\"E2&lt;-E3\" style=\"stroke: #383838; stroke-width: 1.0;\"/><polygon fill=\"#383838\" points=\"94,117,90,123,94,129,98,123,94,117\" style=\"stroke: #383838; stroke-width: 1.0;\"/><text fill=\"#000000\" font-family=\"sans-serif\" font-size=\"13\" lengthAdjust=\"spacingAndGlyphs\" textLength=\"7\" x=\"86.0594\" y=\"165.8075\">*</text></a><!--MD5=[a1e8aa62b8127557661b8a0835b27477]\n",
       "@startuml\r\n",
       "top to bottom direction\r\n",
       "skinparam monochrome true\r\n",
       "skinparam classbackgroundcolor white\r\n",
       "skinparam shadowing false\r\n",
       "skinparam wrapWidth 300\r\n",
       "hide circle\r\n",
       "\r\n",
       "package \"TextualRepresentationTest\" as E1  [[psysml:44d40611-a894-4dae-a2f2-eb4bbba313e0 ]]  {\r\n",
       "comp def \"C\" as E2  <<(T,blue) item  def>> [[psysml:4aee70d7-2b51-44ea-8f07-d2f5d32d40ea ]] {\r\n",
       "- - attributes - -\r\n",
       "x: Real\r\n",
       "}\r\n",
       "comp usage \"x_constraint \" as E3  <<(T,blue) assert constraint>> [[psysml:4e46f6e8-5c68-4c27-8860-5a5208ef4b7d ]] {\r\n",
       "}\r\n",
       "rec def \"setX\" as E4  <<(T,blue) action  def>> [[psysml:6b33d7d4-0403-4693-aa76-fb8d39622677 ]] {\r\n",
       "portin \"c\" as E5  [[psysml:aadc07b0-b627-4a1c-8a0b-7e2bc77ad3c9 ]] \r\n",
       "portin \"newX\" as E6  [[psysml:a8b47a70-45ce-488b-ad71-695ba05ffc83 ]] \r\n",
       "}\r\n",
       "\r\n",
       "}\r\n",
       "E2 *- - \"*\"E3 [[psysml:057e15e5-e107-41c4-afdf-3f2cc89f9205 ]] \r\n",
       "@enduml\r\n",
       "\n",
       "PlantUML version 1.2020.13(Sat Jun 13 12:26:38 UTC 2020)\n",
       "(EPL source distribution)\n",
       "Java Runtime: OpenJDK Runtime Environment\n",
       "JVM: OpenJDK 64-Bit Server VM\n",
       "Default Encoding: UTF-8\n",
       "Language: en\n",
       "Country: null\n",
       "--></g></svg>"
      ]
     },
     "execution_count": 50,
     "metadata": {},
     "output_type": "execute_result"
    }
   ],
   "source": [
    "%viz --style=\"TB\" --view=\"MIXED\" \"TextualRepresentationTest\""
   ]
  },
  {
   "cell_type": "code",
   "execution_count": 51,
   "id": "deaa57fe",
   "metadata": {
    "execution": {
     "iopub.execute_input": "2022-06-20T11:13:39.201569Z",
     "iopub.status.busy": "2022-06-20T11:13:39.201224Z",
     "iopub.status.idle": "2022-06-20T11:13:39.233097Z",
     "shell.execute_reply": "2022-06-20T11:13:39.232168Z"
    }
   },
   "outputs": [
    {
     "data": {
      "image/svg+xml": [
       "<?xml version=\"1.0\" encoding=\"UTF-8\" standalone=\"no\"?><svg xmlns=\"http://www.w3.org/2000/svg\" xmlns:xlink=\"http://www.w3.org/1999/xlink\" contentScriptType=\"application/ecmascript\" contentStyleType=\"text/css\" height=\"261px\" preserveAspectRatio=\"none\" style=\"width:351px;height:261px;\" version=\"1.1\" viewBox=\"0 0 351 261\" width=\"351px\" zoomAndPan=\"magnify\"><defs/><g><!--MD5=[fbc87193dbaf4d95561dea2c320d4a47]\n",
       "cluster E1--><a href=\"psysml:44d40611-a894-4dae-a2f2-eb4bbba313e0\" target=\"_top\" title=\"psysml:44d40611-a894-4dae-a2f2-eb4bbba313e0\" xlink:actuate=\"onRequest\" xlink:href=\"psysml:44d40611-a894-4dae-a2f2-eb4bbba313e0\" xlink:show=\"new\" xlink:title=\"psysml:44d40611-a894-4dae-a2f2-eb4bbba313e0\" xlink:type=\"simple\"><polygon fill=\"#FFFFFF\" points=\"16,6,210,6,217,28.2969,329,28.2969,329,249.5,16,249.5,16,6\" style=\"stroke: #000000; stroke-width: 1.5;\"/><line style=\"stroke: #000000; stroke-width: 1.5;\" x1=\"16\" x2=\"217\" y1=\"28.2969\" y2=\"28.2969\"/><text fill=\"#000000\" font-family=\"sans-serif\" font-size=\"14\" font-weight=\"bold\" lengthAdjust=\"spacingAndGlyphs\" textLength=\"188\" x=\"20\" y=\"20.9951\">TextualRepresentationTest</text></a><!--MD5=[f6df4d0ebaf0b5dfb2ced0ae5af7c670]\n",
       "cluster E4--><a href=\"psysml:6b33d7d4-0403-4693-aa76-fb8d39622677\" target=\"_top\" title=\"psysml:6b33d7d4-0403-4693-aa76-fb8d39622677\" xlink:actuate=\"onRequest\" xlink:href=\"psysml:6b33d7d4-0403-4693-aa76-fb8d39622677\" xlink:show=\"new\" xlink:title=\"psysml:6b33d7d4-0403-4693-aa76-fb8d39622677\" xlink:type=\"simple\"><rect fill=\"#FFFFFF\" height=\"154.5\" id=\"E4\" style=\"stroke: #383838; stroke-width: 1.5;\" width=\"134\" x=\"179\" y=\"79\"/><rect fill=\"#F8F8F8\" height=\"37.9375\" style=\"stroke: #383838; stroke-width: 1.5;\" width=\"134\" x=\"179\" y=\"79\"/><text fill=\"#000000\" font-family=\"sans-serif\" font-size=\"12\" font-style=\"italic\" lengthAdjust=\"spacingAndGlyphs\" textLength=\"81\" x=\"205.5\" y=\"95.1387\">«action  def»</text><text fill=\"#000000\" font-family=\"sans-serif\" font-size=\"12\" lengthAdjust=\"spacingAndGlyphs\" textLength=\"27\" x=\"232.5\" y=\"109.1074\">setX</text></a><!--MD5=[b4997ac47864f28c2f74865a473b2911]\n",
       "class E2--><a href=\"psysml:4aee70d7-2b51-44ea-8f07-d2f5d32d40ea\" target=\"_top\" title=\"psysml:4aee70d7-2b51-44ea-8f07-d2f5d32d40ea\" xlink:actuate=\"onRequest\" xlink:href=\"psysml:4aee70d7-2b51-44ea-8f07-d2f5d32d40ea\" xlink:show=\"new\" xlink:title=\"psysml:4aee70d7-2b51-44ea-8f07-d2f5d32d40ea\" xlink:type=\"simple\"><rect fill=\"#FFFFFF\" height=\"75.5469\" id=\"E2\" style=\"stroke: #383838; stroke-width: 1.5;\" width=\"71\" x=\"58.5\" y=\"41\"/><text fill=\"#000000\" font-family=\"sans-serif\" font-size=\"12\" font-style=\"italic\" lengthAdjust=\"spacingAndGlyphs\" textLength=\"69\" x=\"59.5\" y=\"57.1387\">«item  def»</text><text fill=\"#000000\" font-family=\"sans-serif\" font-size=\"12\" lengthAdjust=\"spacingAndGlyphs\" textLength=\"8\" x=\"90\" y=\"71.1074\">C</text><line style=\"stroke: #383838; stroke-width: 1.5;\" x1=\"59.5\" x2=\"128.5\" y1=\"78.9375\" y2=\"78.9375\"/><text fill=\"#000000\" font-family=\"sans-serif\" font-size=\"11\" lengthAdjust=\"spacingAndGlyphs\" textLength=\"38\" x=\"64.5\" y=\"109.9526\">x: Real</text><line style=\"stroke: #383838; stroke-width: 1.0;\" x1=\"59.5\" x2=\"66.5\" y1=\"93.3398\" y2=\"93.3398\"/><text fill=\"#000000\" font-family=\"sans-serif\" font-size=\"11\" lengthAdjust=\"spacingAndGlyphs\" textLength=\"55\" x=\"66.5\" y=\"96.6479\">attributes</text><line style=\"stroke: #383838; stroke-width: 1.0;\" x1=\"121.5\" x2=\"128.5\" y1=\"93.3398\" y2=\"93.3398\"/></a><!--MD5=[09b614a08d8cba4a07c9adeb5e0fee81]\n",
       "class E3--><a href=\"psysml:4e46f6e8-5c68-4c27-8860-5a5208ef4b7d\" target=\"_top\" title=\"psysml:4e46f6e8-5c68-4c27-8860-5a5208ef4b7d\" xlink:actuate=\"onRequest\" xlink:href=\"psysml:4e46f6e8-5c68-4c27-8860-5a5208ef4b7d\" xlink:show=\"new\" xlink:title=\"psysml:4e46f6e8-5c68-4c27-8860-5a5208ef4b7d\" xlink:type=\"simple\"><rect fill=\"#FFFFFF\" height=\"45.9375\" id=\"E3\" rx=\"10\" ry=\"10\" style=\"stroke: #383838; stroke-width: 1.5;\" width=\"124\" x=\"32\" y=\"177\"/><text fill=\"#000000\" font-family=\"sans-serif\" font-size=\"12\" font-style=\"italic\" lengthAdjust=\"spacingAndGlyphs\" textLength=\"122\" x=\"33\" y=\"193.1387\">«assert constraint»</text><text fill=\"#000000\" font-family=\"sans-serif\" font-size=\"12\" lengthAdjust=\"spacingAndGlyphs\" textLength=\"76\" x=\"54\" y=\"207.1074\">x_constraint</text><line style=\"stroke: #383838; stroke-width: 1.5;\" x1=\"33\" x2=\"155\" y1=\"214.9375\" y2=\"214.9375\"/></a><text fill=\"#000000\" font-family=\"sans-serif\" font-size=\"14\" lengthAdjust=\"spacingAndGlyphs\" textLength=\"8\" x=\"193\" y=\"57.6982\">c</text><rect fill=\"#383838\" height=\"12\" style=\"stroke: #F8F8F8; stroke-width: 1.5;\" width=\"12\" x=\"191\" y=\"73\"/><text fill=\"#000000\" font-family=\"sans-serif\" font-size=\"14\" lengthAdjust=\"spacingAndGlyphs\" textLength=\"38\" x=\"225\" y=\"57.6982\">newX</text><rect fill=\"#383838\" height=\"12\" style=\"stroke: #F8F8F8; stroke-width: 1.5;\" width=\"12\" x=\"238\" y=\"73\"/><!--MD5=[209b3feb70ccb6233bfe1053d122c12c]\n",
       "reverse link E2 to E3--><a href=\"psysml:057e15e5-e107-41c4-afdf-3f2cc89f9205\" target=\"_top\" title=\"psysml:057e15e5-e107-41c4-afdf-3f2cc89f9205\" xlink:actuate=\"onRequest\" xlink:href=\"psysml:057e15e5-e107-41c4-afdf-3f2cc89f9205\" xlink:show=\"new\" xlink:title=\"psysml:057e15e5-e107-41c4-afdf-3f2cc89f9205\" xlink:type=\"simple\"><path d=\"M94,130.29 C94,130.29 94,176.74 94,176.74 \" fill=\"none\" id=\"E2&lt;-E3\" style=\"stroke: #383838; stroke-width: 1.0;\"/><polygon fill=\"#383838\" points=\"94,117.29,90,123.29,94,129.29,98,123.29,94,117.29\" style=\"stroke: #383838; stroke-width: 1.0;\"/><text fill=\"#000000\" font-family=\"sans-serif\" font-size=\"13\" lengthAdjust=\"spacingAndGlyphs\" textLength=\"7\" x=\"86.1031\" y=\"165.9497\">*</text></a><!--MD5=[9827e0729e0ed0eab7a87dc2a05cd371]\n",
       "@startuml\r\n",
       "skinparam linetype ortho\r\n",
       "skinparam monochrome true\r\n",
       "skinparam classbackgroundcolor white\r\n",
       "skinparam shadowing false\r\n",
       "skinparam wrapWidth 300\r\n",
       "hide circle\r\n",
       "\r\n",
       "package \"TextualRepresentationTest\" as E1  [[psysml:44d40611-a894-4dae-a2f2-eb4bbba313e0 ]]  {\r\n",
       "comp def \"C\" as E2  <<(T,blue) item  def>> [[psysml:4aee70d7-2b51-44ea-8f07-d2f5d32d40ea ]] {\r\n",
       "- - attributes - -\r\n",
       "x: Real\r\n",
       "}\r\n",
       "comp usage \"x_constraint \" as E3  <<(T,blue) assert constraint>> [[psysml:4e46f6e8-5c68-4c27-8860-5a5208ef4b7d ]] {\r\n",
       "}\r\n",
       "rec def \"setX\" as E4  <<(T,blue) action  def>> [[psysml:6b33d7d4-0403-4693-aa76-fb8d39622677 ]] {\r\n",
       "portin \"c\" as E5  [[psysml:aadc07b0-b627-4a1c-8a0b-7e2bc77ad3c9 ]] \r\n",
       "portin \"newX\" as E6  [[psysml:a8b47a70-45ce-488b-ad71-695ba05ffc83 ]] \r\n",
       "}\r\n",
       "\r\n",
       "}\r\n",
       "E2 *- - \"*\"E3 [[psysml:057e15e5-e107-41c4-afdf-3f2cc89f9205 ]] \r\n",
       "@enduml\r\n",
       "\n",
       "PlantUML version 1.2020.13(Sat Jun 13 12:26:38 UTC 2020)\n",
       "(EPL source distribution)\n",
       "Java Runtime: OpenJDK Runtime Environment\n",
       "JVM: OpenJDK 64-Bit Server VM\n",
       "Default Encoding: UTF-8\n",
       "Language: en\n",
       "Country: null\n",
       "--></g></svg>"
      ]
     },
     "execution_count": 51,
     "metadata": {},
     "output_type": "execute_result"
    }
   ],
   "source": [
    "%viz --style=\"ORTHOLINE\" --view=\"Default\" \"TextualRepresentationTest\""
   ]
  },
  {
   "cell_type": "code",
   "execution_count": 52,
   "id": "886c8c5c",
   "metadata": {
    "execution": {
     "iopub.execute_input": "2022-06-20T11:13:39.283340Z",
     "iopub.status.busy": "2022-06-20T11:13:39.282776Z",
     "iopub.status.idle": "2022-06-20T11:13:39.314844Z",
     "shell.execute_reply": "2022-06-20T11:13:39.313397Z"
    }
   },
   "outputs": [
    {
     "data": {
      "image/svg+xml": [
       "<?xml version=\"1.0\" encoding=\"UTF-8\" standalone=\"no\"?><svg xmlns=\"http://www.w3.org/2000/svg\" xmlns:xlink=\"http://www.w3.org/1999/xlink\" contentScriptType=\"application/ecmascript\" contentStyleType=\"text/css\" height=\"375px\" preserveAspectRatio=\"none\" style=\"width:242px;height:375px;\" version=\"1.1\" viewBox=\"0 0 242 375\" width=\"242px\" zoomAndPan=\"magnify\"><defs/><g><!--MD5=[fbc87193dbaf4d95561dea2c320d4a47]\n",
       "cluster E1--><a href=\"psysml:44d40611-a894-4dae-a2f2-eb4bbba313e0\" target=\"_top\" title=\"psysml:44d40611-a894-4dae-a2f2-eb4bbba313e0\" xlink:actuate=\"onRequest\" xlink:href=\"psysml:44d40611-a894-4dae-a2f2-eb4bbba313e0\" xlink:show=\"new\" xlink:title=\"psysml:44d40611-a894-4dae-a2f2-eb4bbba313e0\" xlink:type=\"simple\"><polygon fill=\"#FFFFFF\" points=\"16,6,210,6,217,28.2969,220,28.2969,220,363,16,363,16,6\" style=\"stroke: #000000; stroke-width: 1.5;\"/><line style=\"stroke: #000000; stroke-width: 1.5;\" x1=\"16\" x2=\"217\" y1=\"28.2969\" y2=\"28.2969\"/><text fill=\"#000000\" font-family=\"sans-serif\" font-size=\"14\" font-weight=\"bold\" lengthAdjust=\"spacingAndGlyphs\" textLength=\"188\" x=\"20\" y=\"20.9951\">TextualRepresentationTest</text></a><!--MD5=[b4997ac47864f28c2f74865a473b2911]\n",
       "class E2--><a href=\"psysml:4aee70d7-2b51-44ea-8f07-d2f5d32d40ea\" target=\"_top\" title=\"psysml:4aee70d7-2b51-44ea-8f07-d2f5d32d40ea\" xlink:actuate=\"onRequest\" xlink:href=\"psysml:4aee70d7-2b51-44ea-8f07-d2f5d32d40ea\" xlink:show=\"new\" xlink:title=\"psysml:4aee70d7-2b51-44ea-8f07-d2f5d32d40ea\" xlink:type=\"simple\"><rect fill=\"#FFFFFF\" height=\"75.5469\" id=\"E2\" style=\"stroke: #383838; stroke-width: 1.5;\" width=\"71\" x=\"82.5\" y=\"164\"/><text fill=\"#000000\" font-family=\"sans-serif\" font-size=\"12\" font-style=\"italic\" lengthAdjust=\"spacingAndGlyphs\" textLength=\"69\" x=\"83.5\" y=\"180.1387\">«item  def»</text><text fill=\"#000000\" font-family=\"sans-serif\" font-size=\"12\" lengthAdjust=\"spacingAndGlyphs\" textLength=\"8\" x=\"114\" y=\"194.1074\">C</text><line style=\"stroke: #383838; stroke-width: 1.5;\" x1=\"83.5\" x2=\"152.5\" y1=\"201.9375\" y2=\"201.9375\"/><text fill=\"#000000\" font-family=\"sans-serif\" font-size=\"11\" lengthAdjust=\"spacingAndGlyphs\" textLength=\"38\" x=\"88.5\" y=\"232.9526\">x: Real</text><line style=\"stroke: #383838; stroke-width: 1.0;\" x1=\"83.5\" x2=\"90.5\" y1=\"216.3398\" y2=\"216.3398\"/><text fill=\"#000000\" font-family=\"sans-serif\" font-size=\"11\" lengthAdjust=\"spacingAndGlyphs\" textLength=\"55\" x=\"90.5\" y=\"219.6479\">attributes</text><line style=\"stroke: #383838; stroke-width: 1.0;\" x1=\"145.5\" x2=\"152.5\" y1=\"216.3398\" y2=\"216.3398\"/></a><!--MD5=[09b614a08d8cba4a07c9adeb5e0fee81]\n",
       "class E3--><a href=\"psysml:4e46f6e8-5c68-4c27-8860-5a5208ef4b7d\" target=\"_top\" title=\"psysml:4e46f6e8-5c68-4c27-8860-5a5208ef4b7d\" xlink:actuate=\"onRequest\" xlink:href=\"psysml:4e46f6e8-5c68-4c27-8860-5a5208ef4b7d\" xlink:show=\"new\" xlink:title=\"psysml:4e46f6e8-5c68-4c27-8860-5a5208ef4b7d\" xlink:type=\"simple\"><rect fill=\"#FFFFFF\" height=\"45.9375\" id=\"E3\" rx=\"10\" ry=\"10\" style=\"stroke: #383838; stroke-width: 1.5;\" width=\"124\" x=\"56\" y=\"301\"/><text fill=\"#000000\" font-family=\"sans-serif\" font-size=\"12\" font-style=\"italic\" lengthAdjust=\"spacingAndGlyphs\" textLength=\"122\" x=\"57\" y=\"317.1387\">«assert constraint»</text><text fill=\"#000000\" font-family=\"sans-serif\" font-size=\"12\" lengthAdjust=\"spacingAndGlyphs\" textLength=\"76\" x=\"78\" y=\"331.1074\">x_constraint</text><line style=\"stroke: #383838; stroke-width: 1.5;\" x1=\"57\" x2=\"179\" y1=\"338.9375\" y2=\"338.9375\"/></a><!--MD5=[ebbe1d658d1005bcc118a6aa81145e00]\n",
       "class E4--><a href=\"psysml:6b33d7d4-0403-4693-aa76-fb8d39622677\" target=\"_top\" title=\"psysml:6b33d7d4-0403-4693-aa76-fb8d39622677\" xlink:actuate=\"onRequest\" xlink:href=\"psysml:6b33d7d4-0403-4693-aa76-fb8d39622677\" xlink:show=\"new\" xlink:title=\"psysml:6b33d7d4-0403-4693-aa76-fb8d39622677\" xlink:type=\"simple\"><rect fill=\"#FFFFFF\" height=\"45.9375\" id=\"E4\" style=\"stroke: #383838; stroke-width: 1.5;\" width=\"83\" x=\"76.5\" y=\"41\"/><text fill=\"#000000\" font-family=\"sans-serif\" font-size=\"12\" font-style=\"italic\" lengthAdjust=\"spacingAndGlyphs\" textLength=\"81\" x=\"77.5\" y=\"57.1387\">«action  def»</text><text fill=\"#000000\" font-family=\"sans-serif\" font-size=\"12\" lengthAdjust=\"spacingAndGlyphs\" textLength=\"27\" x=\"104.5\" y=\"71.1074\">setX</text><line style=\"stroke: #383838; stroke-width: 1.5;\" x1=\"77.5\" x2=\"158.5\" y1=\"78.9375\" y2=\"78.9375\"/></a><!--MD5=[209b3feb70ccb6233bfe1053d122c12c]\n",
       "reverse link E2 to E3--><a href=\"psysml:057e15e5-e107-41c4-afdf-3f2cc89f9205\" target=\"_top\" title=\"psysml:057e15e5-e107-41c4-afdf-3f2cc89f9205\" xlink:actuate=\"onRequest\" xlink:href=\"psysml:057e15e5-e107-41c4-afdf-3f2cc89f9205\" xlink:show=\"new\" xlink:title=\"psysml:057e15e5-e107-41c4-afdf-3f2cc89f9205\" xlink:type=\"simple\"><path d=\"M118,253.27 C118,253.27 118,300.78 118,300.78 \" fill=\"none\" id=\"E2&lt;-E3\" style=\"stroke: #383838; stroke-width: 1.0;\"/><polygon fill=\"#383838\" points=\"118,240.27,114,246.27,118,252.27,122,246.27,118,240.27\" style=\"stroke: #383838; stroke-width: 1.0;\"/><text fill=\"#000000\" font-family=\"sans-serif\" font-size=\"13\" lengthAdjust=\"spacingAndGlyphs\" textLength=\"7\" x=\"110.1031\" y=\"289.9999\">*</text></a><!--MD5=[ddeed8deb2209213b62e6cfabaa108b2]\n",
       "reverse link E4 to E2--><a href=\"psysml:aadc07b0-b627-4a1c-8a0b-7e2bc77ad3c9\" target=\"_top\" title=\"psysml:aadc07b0-b627-4a1c-8a0b-7e2bc77ad3c9\" xlink:actuate=\"onRequest\" xlink:href=\"psysml:aadc07b0-b627-4a1c-8a0b-7e2bc77ad3c9\" xlink:show=\"new\" xlink:title=\"psysml:aadc07b0-b627-4a1c-8a0b-7e2bc77ad3c9\" xlink:type=\"simple\"><path d=\"M118,100.1 C118,100.1 118,163.96 118,163.96 \" fill=\"none\" id=\"E4&lt;-E2\" style=\"stroke: #383838; stroke-width: 1.0;\"/><polygon fill=\"#FFFFFF\" points=\"118,87.1,114,93.1,118,99.1,122,93.1,118,87.1\" style=\"stroke: #383838; stroke-width: 1.0;\"/><text fill=\"#000000\" font-family=\"sans-serif\" font-size=\"13\" lengthAdjust=\"spacingAndGlyphs\" textLength=\"7\" x=\"119\" y=\"130.0669\">c</text></a><!--MD5=[dd4f9e1c3413194fb2ac093f6a90d2fc]\n",
       "@startuml\r\n",
       "skinparam linetype ortho\r\n",
       "skinparam monochrome true\r\n",
       "skinparam classbackgroundcolor white\r\n",
       "skinparam shadowing false\r\n",
       "skinparam wrapWidth 300\r\n",
       "hide circle\r\n",
       "\r\n",
       "package \"TextualRepresentationTest\" as E1  [[psysml:44d40611-a894-4dae-a2f2-eb4bbba313e0 ]]  {\r\n",
       "comp def \"C\" as E2  <<(T,blue) item  def>> [[psysml:4aee70d7-2b51-44ea-8f07-d2f5d32d40ea ]] {\r\n",
       "- - attributes - -\r\n",
       "x: Real\r\n",
       "}\r\n",
       "comp usage \"x_constraint \" as E3  <<(T,blue) assert constraint>> [[psysml:4e46f6e8-5c68-4c27-8860-5a5208ef4b7d ]] {\r\n",
       "}\r\n",
       "comp def \"setX\" as E4  <<(T,blue) action  def>> [[psysml:6b33d7d4-0403-4693-aa76-fb8d39622677 ]] {\r\n",
       "}\r\n",
       "}\r\n",
       "E2 *- - \"*\"E3 [[psysml:057e15e5-e107-41c4-afdf-3f2cc89f9205 ]] \r\n",
       "E4 o- - E2 [[psysml:aadc07b0-b627-4a1c-8a0b-7e2bc77ad3c9 ]] : c\r\n",
       "@enduml\r\n",
       "\n",
       "PlantUML version 1.2020.13(Sat Jun 13 12:26:38 UTC 2020)\n",
       "(EPL source distribution)\n",
       "Java Runtime: OpenJDK Runtime Environment\n",
       "JVM: OpenJDK 64-Bit Server VM\n",
       "Default Encoding: UTF-8\n",
       "Language: en\n",
       "Country: null\n",
       "--></g></svg>"
      ]
     },
     "execution_count": 52,
     "metadata": {},
     "output_type": "execute_result"
    }
   ],
   "source": [
    "%viz --style=\"ORTHOLINE\" --view=\"Tree\" \"TextualRepresentationTest\""
   ]
  },
  {
   "cell_type": "code",
   "execution_count": 53,
   "id": "60a62168",
   "metadata": {
    "execution": {
     "iopub.execute_input": "2022-06-20T11:13:39.363934Z",
     "iopub.status.busy": "2022-06-20T11:13:39.363506Z",
     "iopub.status.idle": "2022-06-20T11:13:39.367764Z",
     "shell.execute_reply": "2022-06-20T11:13:39.367520Z"
    }
   },
   "outputs": [
    {
     "data": {
      "image/svg+xml": [
       "<?xml version=\"1.0\" encoding=\"UTF-8\" standalone=\"no\"?><svg xmlns=\"http://www.w3.org/2000/svg\" xmlns:xlink=\"http://www.w3.org/1999/xlink\" contentScriptType=\"application/ecmascript\" contentStyleType=\"text/css\" height=\"12px\" preserveAspectRatio=\"none\" style=\"width:12px;height:12px;\" version=\"1.1\" viewBox=\"0 0 12 12\" width=\"12px\" zoomAndPan=\"magnify\"><defs/><g><!--MD5=[97d6f38768b311333d388e66b2b27985]\n",
       "@startuml\r\n",
       "skinparam linetype ortho\r\n",
       "skinparam monochrome true\r\n",
       "skinparam classbackgroundcolor white\r\n",
       "skinparam shadowing false\r\n",
       "skinparam wrapWidth 300\r\n",
       "hide circle\r\n",
       "\r\n",
       "@enduml\r\n",
       "\n",
       "PlantUML version 1.2020.13(Sat Jun 13 12:26:38 UTC 2020)\n",
       "(EPL source distribution)\n",
       "Java Runtime: OpenJDK Runtime Environment\n",
       "JVM: OpenJDK 64-Bit Server VM\n",
       "Default Encoding: UTF-8\n",
       "Language: en\n",
       "Country: null\n",
       "--></g></svg>"
      ]
     },
     "execution_count": 53,
     "metadata": {},
     "output_type": "execute_result"
    }
   ],
   "source": [
    "%viz --style=\"ORTHOLINE\" --view=\"State\" \"TextualRepresentationTest\""
   ]
  },
  {
   "cell_type": "code",
   "execution_count": 54,
   "id": "2d3be467",
   "metadata": {
    "execution": {
     "iopub.execute_input": "2022-06-20T11:13:39.417832Z",
     "iopub.status.busy": "2022-06-20T11:13:39.417283Z",
     "iopub.status.idle": "2022-06-20T11:13:39.441482Z",
     "shell.execute_reply": "2022-06-20T11:13:39.441144Z"
    }
   },
   "outputs": [
    {
     "data": {
      "image/svg+xml": [
       "<?xml version=\"1.0\" encoding=\"UTF-8\" standalone=\"no\"?><svg xmlns=\"http://www.w3.org/2000/svg\" xmlns:xlink=\"http://www.w3.org/1999/xlink\" contentScriptType=\"application/ecmascript\" contentStyleType=\"text/css\" height=\"179px\" preserveAspectRatio=\"none\" style=\"width:292px;height:179px;\" version=\"1.1\" viewBox=\"0 0 292 179\" width=\"292px\" zoomAndPan=\"magnify\"><defs/><g><!--MD5=[fbc87193dbaf4d95561dea2c320d4a47]\n",
       "cluster E1--><a href=\"psysml:44d40611-a894-4dae-a2f2-eb4bbba313e0\" target=\"_top\" title=\"psysml:44d40611-a894-4dae-a2f2-eb4bbba313e0\" xlink:actuate=\"onRequest\" xlink:href=\"psysml:44d40611-a894-4dae-a2f2-eb4bbba313e0\" xlink:show=\"new\" xlink:title=\"psysml:44d40611-a894-4dae-a2f2-eb4bbba313e0\" xlink:type=\"simple\"><polygon fill=\"#FFFFFF\" points=\"16,6,210,6,217,28.2969,270,28.2969,270,167,16,167,16,6\" style=\"stroke: #000000; stroke-width: 1.5;\"/><line style=\"stroke: #000000; stroke-width: 1.5;\" x1=\"16\" x2=\"217\" y1=\"28.2969\" y2=\"28.2969\"/><text fill=\"#000000\" font-family=\"sans-serif\" font-size=\"14\" font-weight=\"bold\" lengthAdjust=\"spacingAndGlyphs\" textLength=\"188\" x=\"20\" y=\"20.9951\">TextualRepresentationTest</text></a><!--MD5=[d5e69f78d87373223dbae638b30a9c99]\n",
       "cluster E3--><a href=\"psysml:6b33d7d4-0403-4693-aa76-fb8d39622677\" target=\"_top\" title=\"psysml:6b33d7d4-0403-4693-aa76-fb8d39622677\" xlink:actuate=\"onRequest\" xlink:href=\"psysml:6b33d7d4-0403-4693-aa76-fb8d39622677\" xlink:show=\"new\" xlink:title=\"psysml:6b33d7d4-0403-4693-aa76-fb8d39622677\" xlink:type=\"simple\"><rect fill=\"#FFFFFF\" height=\"88.5\" id=\"E3\" style=\"stroke: #383838; stroke-width: 1.5;\" width=\"100\" x=\"122.5\" y=\"62.5\"/><rect fill=\"#F8F8F8\" height=\"37.9375\" style=\"stroke: #383838; stroke-width: 1.5;\" width=\"100\" x=\"122.5\" y=\"62.5\"/><text fill=\"#000000\" font-family=\"sans-serif\" font-size=\"12\" font-style=\"italic\" lengthAdjust=\"spacingAndGlyphs\" textLength=\"81\" x=\"132\" y=\"78.6387\">«action  def»</text><text fill=\"#000000\" font-family=\"sans-serif\" font-size=\"12\" lengthAdjust=\"spacingAndGlyphs\" textLength=\"27\" x=\"159\" y=\"92.6074\">setX</text></a><g id=\"E1.E2\"><a href=\"psysml:4aee70d7-2b51-44ea-8f07-d2f5d32d40ea\" target=\"_top\" title=\"psysml:4aee70d7-2b51-44ea-8f07-d2f5d32d40ea\" xlink:actuate=\"onRequest\" xlink:href=\"psysml:4aee70d7-2b51-44ea-8f07-d2f5d32d40ea\" xlink:show=\"new\" xlink:title=\"psysml:4aee70d7-2b51-44ea-8f07-d2f5d32d40ea\" xlink:type=\"simple\"><rect fill=\"#FFFFFF\" height=\"42.9375\" id=\"E2\" style=\"stroke: #383838; stroke-width: 1.5;\" width=\"76\" x=\"32\" y=\"41\"/><rect fill=\"#F8F8F8\" height=\"37.9375\" style=\"stroke: #383838; stroke-width: 1.5;\" width=\"76\" x=\"32\" y=\"41\"/><text fill=\"#000000\" font-family=\"sans-serif\" font-size=\"12\" font-style=\"italic\" lengthAdjust=\"spacingAndGlyphs\" textLength=\"69\" x=\"35.5\" y=\"57.1387\">«item  def»</text><text fill=\"#000000\" font-family=\"sans-serif\" font-size=\"12\" lengthAdjust=\"spacingAndGlyphs\" textLength=\"8\" x=\"66\" y=\"71.1074\">C</text></a></g><text fill=\"#000000\" font-family=\"sans-serif\" font-size=\"14\" lengthAdjust=\"spacingAndGlyphs\" textLength=\"8\" x=\"145\" y=\"41.1982\">c</text><rect fill=\"#383838\" height=\"12\" style=\"stroke: #F8F8F8; stroke-width: 1.5;\" width=\"12\" x=\"143\" y=\"56.5\"/><text fill=\"#000000\" font-family=\"sans-serif\" font-size=\"14\" lengthAdjust=\"spacingAndGlyphs\" textLength=\"38\" x=\"177\" y=\"41.1982\">newX</text><rect fill=\"#383838\" height=\"12\" style=\"stroke: #F8F8F8; stroke-width: 1.5;\" width=\"12\" x=\"190\" y=\"56.5\"/><!--MD5=[456344555a50d6a3fc0808143a3c272a]\n",
       "@startuml\r\n",
       "skinparam ranksep 10\r\n",
       "skinparam rectangle {\r\n",
       " backgroundColor<<block>> LightGreen\r\n",
       "}\r\n",
       "skinparam linetype ortho\r\n",
       "skinparam monochrome true\r\n",
       "skinparam classbackgroundcolor white\r\n",
       "skinparam shadowing false\r\n",
       "skinparam wrapWidth 300\r\n",
       "hide circle\r\n",
       "\r\n",
       "package \"TextualRepresentationTest\" as E1  [[psysml:44d40611-a894-4dae-a2f2-eb4bbba313e0 ]]  {\r\n",
       "def \"C\" as E2  <<(T,blue) item  def>> [[psysml:4aee70d7-2b51-44ea-8f07-d2f5d32d40ea ]] \r\n",
       "rec def \"setX\" as E3  <<(T,blue) action  def>> [[psysml:6b33d7d4-0403-4693-aa76-fb8d39622677 ]] {\r\n",
       "portin \"c\" as E4  [[psysml:aadc07b0-b627-4a1c-8a0b-7e2bc77ad3c9 ]] \r\n",
       "portin \"newX\" as E5  [[psysml:a8b47a70-45ce-488b-ad71-695ba05ffc83 ]] \r\n",
       "}\r\n",
       "\r\n",
       "}\r\n",
       "@enduml\r\n",
       "\n",
       "PlantUML version 1.2020.13(Sat Jun 13 12:26:38 UTC 2020)\n",
       "(EPL source distribution)\n",
       "Java Runtime: OpenJDK Runtime Environment\n",
       "JVM: OpenJDK 64-Bit Server VM\n",
       "Default Encoding: UTF-8\n",
       "Language: en\n",
       "Country: null\n",
       "--></g></svg>"
      ]
     },
     "execution_count": 54,
     "metadata": {},
     "output_type": "execute_result"
    }
   ],
   "source": [
    "%viz --style=\"ORTHOLINE\" --view=\"Interconnection\" \"TextualRepresentationTest\""
   ]
  },
  {
   "cell_type": "code",
   "execution_count": 55,
   "id": "febb3962",
   "metadata": {
    "execution": {
     "iopub.execute_input": "2022-06-20T11:13:39.490735Z",
     "iopub.status.busy": "2022-06-20T11:13:39.490503Z",
     "iopub.status.idle": "2022-06-20T11:13:39.512657Z",
     "shell.execute_reply": "2022-06-20T11:13:39.512441Z"
    }
   },
   "outputs": [
    {
     "data": {
      "image/svg+xml": [
       "<?xml version=\"1.0\" encoding=\"UTF-8\" standalone=\"no\"?><svg xmlns=\"http://www.w3.org/2000/svg\" xmlns:xlink=\"http://www.w3.org/1999/xlink\" contentScriptType=\"application/ecmascript\" contentStyleType=\"text/css\" height=\"126px\" preserveAspectRatio=\"none\" style=\"width:152px;height:126px;\" version=\"1.1\" viewBox=\"0 0 152 126\" width=\"152px\" zoomAndPan=\"magnify\"><defs/><g><!--MD5=[fbc87193dbaf4d95561dea2c320d4a47]\n",
       "cluster E1--><a href=\"psysml:6b33d7d4-0403-4693-aa76-fb8d39622677\" target=\"_top\" title=\"psysml:6b33d7d4-0403-4693-aa76-fb8d39622677\" xlink:actuate=\"onRequest\" xlink:href=\"psysml:6b33d7d4-0403-4693-aa76-fb8d39622677\" xlink:show=\"new\" xlink:title=\"psysml:6b33d7d4-0403-4693-aa76-fb8d39622677\" xlink:type=\"simple\"><rect fill=\"#FFFFFF\" height=\"73\" id=\"E1\" style=\"stroke: #383838; stroke-width: 1.5;\" width=\"134\" x=\"7\" y=\"42.0986\"/><rect fill=\"#F8F8F8\" height=\"37.9375\" style=\"stroke: #383838; stroke-width: 1.5;\" width=\"134\" x=\"7\" y=\"42.0986\"/><text fill=\"#000000\" font-family=\"sans-serif\" font-size=\"12\" font-style=\"italic\" lengthAdjust=\"spacingAndGlyphs\" textLength=\"81\" x=\"33.5\" y=\"58.2373\">«action  def»</text><text fill=\"#000000\" font-family=\"sans-serif\" font-size=\"12\" lengthAdjust=\"spacingAndGlyphs\" textLength=\"27\" x=\"60.5\" y=\"72.2061\">setX</text></a><text fill=\"#000000\" font-family=\"sans-serif\" font-size=\"14\" lengthAdjust=\"spacingAndGlyphs\" textLength=\"8\" x=\"21\" y=\"20.7969\">c</text><rect fill=\"#383838\" height=\"12\" style=\"stroke: #F8F8F8; stroke-width: 1.5;\" width=\"12\" x=\"19\" y=\"36.0986\"/><text fill=\"#000000\" font-family=\"sans-serif\" font-size=\"14\" lengthAdjust=\"spacingAndGlyphs\" textLength=\"38\" x=\"53\" y=\"20.7969\">newX</text><rect fill=\"#383838\" height=\"12\" style=\"stroke: #F8F8F8; stroke-width: 1.5;\" width=\"12\" x=\"66\" y=\"36.0986\"/><!--MD5=[94036f6e40bb387c584685498cea9663]\n",
       "@startuml\r\n",
       "skinparam ranksep 8\r\n",
       "skinparam linetype ortho\r\n",
       "skinparam monochrome true\r\n",
       "skinparam classbackgroundcolor white\r\n",
       "skinparam shadowing false\r\n",
       "skinparam wrapWidth 300\r\n",
       "hide circle\r\n",
       "\r\n",
       "rec def \"setX\" as E1  <<(T,blue) action  def>> [[psysml:6b33d7d4-0403-4693-aa76-fb8d39622677 ]] {\r\n",
       "portin \"c\" as E2  [[psysml:aadc07b0-b627-4a1c-8a0b-7e2bc77ad3c9 ]] \r\n",
       "portin \"newX\" as E3  [[psysml:a8b47a70-45ce-488b-ad71-695ba05ffc83 ]] \r\n",
       "}\r\n",
       "\r\n",
       "@enduml\r\n",
       "\n",
       "PlantUML version 1.2020.13(Sat Jun 13 12:26:38 UTC 2020)\n",
       "(EPL source distribution)\n",
       "Java Runtime: OpenJDK Runtime Environment\n",
       "JVM: OpenJDK 64-Bit Server VM\n",
       "Default Encoding: UTF-8\n",
       "Language: en\n",
       "Country: null\n",
       "--></g></svg>"
      ]
     },
     "execution_count": 55,
     "metadata": {},
     "output_type": "execute_result"
    }
   ],
   "source": [
    "%viz --style=\"ORTHOLINE\" --view=\"Action\" \"TextualRepresentationTest\""
   ]
  },
  {
   "cell_type": "code",
   "execution_count": 56,
   "id": "bae0248a",
   "metadata": {
    "execution": {
     "iopub.execute_input": "2022-06-20T11:13:39.562976Z",
     "iopub.status.busy": "2022-06-20T11:13:39.562516Z",
     "iopub.status.idle": "2022-06-20T11:13:39.567376Z",
     "shell.execute_reply": "2022-06-20T11:13:39.567070Z"
    }
   },
   "outputs": [
    {
     "data": {
      "image/svg+xml": [
       "<?xml version=\"1.0\" encoding=\"UTF-8\" standalone=\"no\"?><svg xmlns=\"http://www.w3.org/2000/svg\" xmlns:xlink=\"http://www.w3.org/1999/xlink\" contentScriptType=\"application/ecmascript\" contentStyleType=\"text/css\" height=\"12px\" preserveAspectRatio=\"none\" style=\"width:12px;height:12px;\" version=\"1.1\" viewBox=\"0 0 12 12\" width=\"12px\" zoomAndPan=\"magnify\"><defs/><g><!--MD5=[30fc1de5121c5abddedd55b44417fde8]\n",
       "@startuml\r\n",
       "skinparam roundcorner 20\r\n",
       "skinparam BoxPadding 20\r\n",
       "skinparam SequenceBoxBackgroundColor #white\r\n",
       "skinparam style strictuml\r\n",
       "skinparam maxMessageSize 100\r\n",
       "skinparam linetype ortho\r\n",
       "skinparam monochrome true\r\n",
       "skinparam classbackgroundcolor white\r\n",
       "skinparam shadowing false\r\n",
       "skinparam wrapWidth 300\r\n",
       "hide circle\r\n",
       "\r\n",
       "@enduml\r\n",
       "\n",
       "PlantUML version 1.2020.13(Sat Jun 13 12:26:38 UTC 2020)\n",
       "(EPL source distribution)\n",
       "Java Runtime: OpenJDK Runtime Environment\n",
       "JVM: OpenJDK 64-Bit Server VM\n",
       "Default Encoding: UTF-8\n",
       "Language: en\n",
       "Country: null\n",
       "--></g></svg>"
      ]
     },
     "execution_count": 56,
     "metadata": {},
     "output_type": "execute_result"
    }
   ],
   "source": [
    "%viz --style=\"ORTHOLINE\" --view=\"Sequence\" \"TextualRepresentationTest\""
   ]
  },
  {
   "cell_type": "code",
   "execution_count": 57,
   "id": "fac2fd6d",
   "metadata": {
    "execution": {
     "iopub.execute_input": "2022-06-20T11:13:39.617481Z",
     "iopub.status.busy": "2022-06-20T11:13:39.617027Z",
     "iopub.status.idle": "2022-06-20T11:13:39.655820Z",
     "shell.execute_reply": "2022-06-20T11:13:39.655386Z"
    }
   },
   "outputs": [
    {
     "data": {
      "image/svg+xml": [
       "<?xml version=\"1.0\" encoding=\"UTF-8\" standalone=\"no\"?><svg xmlns=\"http://www.w3.org/2000/svg\" xmlns:xlink=\"http://www.w3.org/1999/xlink\" contentScriptType=\"application/ecmascript\" contentStyleType=\"text/css\" height=\"261px\" preserveAspectRatio=\"none\" style=\"width:351px;height:261px;\" version=\"1.1\" viewBox=\"0 0 351 261\" width=\"351px\" zoomAndPan=\"magnify\"><defs/><g><!--MD5=[fbc87193dbaf4d95561dea2c320d4a47]\n",
       "cluster E1--><a href=\"psysml:44d40611-a894-4dae-a2f2-eb4bbba313e0\" target=\"_top\" title=\"psysml:44d40611-a894-4dae-a2f2-eb4bbba313e0\" xlink:actuate=\"onRequest\" xlink:href=\"psysml:44d40611-a894-4dae-a2f2-eb4bbba313e0\" xlink:show=\"new\" xlink:title=\"psysml:44d40611-a894-4dae-a2f2-eb4bbba313e0\" xlink:type=\"simple\"><polygon fill=\"#FFFFFF\" points=\"16,6,210,6,217,28.2969,329,28.2969,329,249.5,16,249.5,16,6\" style=\"stroke: #000000; stroke-width: 1.5;\"/><line style=\"stroke: #000000; stroke-width: 1.5;\" x1=\"16\" x2=\"217\" y1=\"28.2969\" y2=\"28.2969\"/><text fill=\"#000000\" font-family=\"sans-serif\" font-size=\"14\" font-weight=\"bold\" lengthAdjust=\"spacingAndGlyphs\" textLength=\"188\" x=\"20\" y=\"20.9951\">TextualRepresentationTest</text></a><!--MD5=[f6df4d0ebaf0b5dfb2ced0ae5af7c670]\n",
       "cluster E4--><a href=\"psysml:6b33d7d4-0403-4693-aa76-fb8d39622677\" target=\"_top\" title=\"psysml:6b33d7d4-0403-4693-aa76-fb8d39622677\" xlink:actuate=\"onRequest\" xlink:href=\"psysml:6b33d7d4-0403-4693-aa76-fb8d39622677\" xlink:show=\"new\" xlink:title=\"psysml:6b33d7d4-0403-4693-aa76-fb8d39622677\" xlink:type=\"simple\"><rect fill=\"#FFFFFF\" height=\"154.5\" id=\"E4\" style=\"stroke: #383838; stroke-width: 1.5;\" width=\"134\" x=\"179\" y=\"79\"/><rect fill=\"#F8F8F8\" height=\"37.9375\" style=\"stroke: #383838; stroke-width: 1.5;\" width=\"134\" x=\"179\" y=\"79\"/><text fill=\"#000000\" font-family=\"sans-serif\" font-size=\"12\" font-style=\"italic\" lengthAdjust=\"spacingAndGlyphs\" textLength=\"81\" x=\"205.5\" y=\"95.1387\">«action  def»</text><text fill=\"#000000\" font-family=\"sans-serif\" font-size=\"12\" lengthAdjust=\"spacingAndGlyphs\" textLength=\"27\" x=\"232.5\" y=\"109.1074\">setX</text></a><!--MD5=[b4997ac47864f28c2f74865a473b2911]\n",
       "class E2--><a href=\"psysml:4aee70d7-2b51-44ea-8f07-d2f5d32d40ea\" target=\"_top\" title=\"psysml:4aee70d7-2b51-44ea-8f07-d2f5d32d40ea\" xlink:actuate=\"onRequest\" xlink:href=\"psysml:4aee70d7-2b51-44ea-8f07-d2f5d32d40ea\" xlink:show=\"new\" xlink:title=\"psysml:4aee70d7-2b51-44ea-8f07-d2f5d32d40ea\" xlink:type=\"simple\"><rect fill=\"#FFFFFF\" height=\"75.5469\" id=\"E2\" style=\"stroke: #383838; stroke-width: 1.5;\" width=\"71\" x=\"58.5\" y=\"41\"/><text fill=\"#000000\" font-family=\"sans-serif\" font-size=\"12\" font-style=\"italic\" lengthAdjust=\"spacingAndGlyphs\" textLength=\"69\" x=\"59.5\" y=\"57.1387\">«item  def»</text><text fill=\"#000000\" font-family=\"sans-serif\" font-size=\"12\" lengthAdjust=\"spacingAndGlyphs\" textLength=\"8\" x=\"90\" y=\"71.1074\">C</text><line style=\"stroke: #383838; stroke-width: 1.5;\" x1=\"59.5\" x2=\"128.5\" y1=\"78.9375\" y2=\"78.9375\"/><text fill=\"#000000\" font-family=\"sans-serif\" font-size=\"11\" lengthAdjust=\"spacingAndGlyphs\" textLength=\"38\" x=\"64.5\" y=\"109.9526\">x: Real</text><line style=\"stroke: #383838; stroke-width: 1.0;\" x1=\"59.5\" x2=\"66.5\" y1=\"93.3398\" y2=\"93.3398\"/><text fill=\"#000000\" font-family=\"sans-serif\" font-size=\"11\" lengthAdjust=\"spacingAndGlyphs\" textLength=\"55\" x=\"66.5\" y=\"96.6479\">attributes</text><line style=\"stroke: #383838; stroke-width: 1.0;\" x1=\"121.5\" x2=\"128.5\" y1=\"93.3398\" y2=\"93.3398\"/></a><!--MD5=[09b614a08d8cba4a07c9adeb5e0fee81]\n",
       "class E3--><a href=\"psysml:4e46f6e8-5c68-4c27-8860-5a5208ef4b7d\" target=\"_top\" title=\"psysml:4e46f6e8-5c68-4c27-8860-5a5208ef4b7d\" xlink:actuate=\"onRequest\" xlink:href=\"psysml:4e46f6e8-5c68-4c27-8860-5a5208ef4b7d\" xlink:show=\"new\" xlink:title=\"psysml:4e46f6e8-5c68-4c27-8860-5a5208ef4b7d\" xlink:type=\"simple\"><rect fill=\"#FFFFFF\" height=\"45.9375\" id=\"E3\" rx=\"10\" ry=\"10\" style=\"stroke: #383838; stroke-width: 1.5;\" width=\"124\" x=\"32\" y=\"177\"/><text fill=\"#000000\" font-family=\"sans-serif\" font-size=\"12\" font-style=\"italic\" lengthAdjust=\"spacingAndGlyphs\" textLength=\"122\" x=\"33\" y=\"193.1387\">«assert constraint»</text><text fill=\"#000000\" font-family=\"sans-serif\" font-size=\"12\" lengthAdjust=\"spacingAndGlyphs\" textLength=\"76\" x=\"54\" y=\"207.1074\">x_constraint</text><line style=\"stroke: #383838; stroke-width: 1.5;\" x1=\"33\" x2=\"155\" y1=\"214.9375\" y2=\"214.9375\"/></a><text fill=\"#000000\" font-family=\"sans-serif\" font-size=\"14\" lengthAdjust=\"spacingAndGlyphs\" textLength=\"8\" x=\"193\" y=\"57.6982\">c</text><rect fill=\"#383838\" height=\"12\" style=\"stroke: #F8F8F8; stroke-width: 1.5;\" width=\"12\" x=\"191\" y=\"73\"/><text fill=\"#000000\" font-family=\"sans-serif\" font-size=\"14\" lengthAdjust=\"spacingAndGlyphs\" textLength=\"38\" x=\"225\" y=\"57.6982\">newX</text><rect fill=\"#383838\" height=\"12\" style=\"stroke: #F8F8F8; stroke-width: 1.5;\" width=\"12\" x=\"238\" y=\"73\"/><!--MD5=[209b3feb70ccb6233bfe1053d122c12c]\n",
       "reverse link E2 to E3--><a href=\"psysml:057e15e5-e107-41c4-afdf-3f2cc89f9205\" target=\"_top\" title=\"psysml:057e15e5-e107-41c4-afdf-3f2cc89f9205\" xlink:actuate=\"onRequest\" xlink:href=\"psysml:057e15e5-e107-41c4-afdf-3f2cc89f9205\" xlink:show=\"new\" xlink:title=\"psysml:057e15e5-e107-41c4-afdf-3f2cc89f9205\" xlink:type=\"simple\"><path d=\"M94,130.29 C94,130.29 94,176.74 94,176.74 \" fill=\"none\" id=\"E2&lt;-E3\" style=\"stroke: #383838; stroke-width: 1.0;\"/><polygon fill=\"#383838\" points=\"94,117.29,90,123.29,94,129.29,98,123.29,94,117.29\" style=\"stroke: #383838; stroke-width: 1.0;\"/><text fill=\"#000000\" font-family=\"sans-serif\" font-size=\"13\" lengthAdjust=\"spacingAndGlyphs\" textLength=\"7\" x=\"86.1031\" y=\"165.9497\">*</text></a><!--MD5=[9827e0729e0ed0eab7a87dc2a05cd371]\n",
       "@startuml\r\n",
       "skinparam linetype ortho\r\n",
       "skinparam monochrome true\r\n",
       "skinparam classbackgroundcolor white\r\n",
       "skinparam shadowing false\r\n",
       "skinparam wrapWidth 300\r\n",
       "hide circle\r\n",
       "\r\n",
       "package \"TextualRepresentationTest\" as E1  [[psysml:44d40611-a894-4dae-a2f2-eb4bbba313e0 ]]  {\r\n",
       "comp def \"C\" as E2  <<(T,blue) item  def>> [[psysml:4aee70d7-2b51-44ea-8f07-d2f5d32d40ea ]] {\r\n",
       "- - attributes - -\r\n",
       "x: Real\r\n",
       "}\r\n",
       "comp usage \"x_constraint \" as E3  <<(T,blue) assert constraint>> [[psysml:4e46f6e8-5c68-4c27-8860-5a5208ef4b7d ]] {\r\n",
       "}\r\n",
       "rec def \"setX\" as E4  <<(T,blue) action  def>> [[psysml:6b33d7d4-0403-4693-aa76-fb8d39622677 ]] {\r\n",
       "portin \"c\" as E5  [[psysml:aadc07b0-b627-4a1c-8a0b-7e2bc77ad3c9 ]] \r\n",
       "portin \"newX\" as E6  [[psysml:a8b47a70-45ce-488b-ad71-695ba05ffc83 ]] \r\n",
       "}\r\n",
       "\r\n",
       "}\r\n",
       "E2 *- - \"*\"E3 [[psysml:057e15e5-e107-41c4-afdf-3f2cc89f9205 ]] \r\n",
       "@enduml\r\n",
       "\n",
       "PlantUML version 1.2020.13(Sat Jun 13 12:26:38 UTC 2020)\n",
       "(EPL source distribution)\n",
       "Java Runtime: OpenJDK Runtime Environment\n",
       "JVM: OpenJDK 64-Bit Server VM\n",
       "Default Encoding: UTF-8\n",
       "Language: en\n",
       "Country: null\n",
       "--></g></svg>"
      ]
     },
     "execution_count": 57,
     "metadata": {},
     "output_type": "execute_result"
    }
   ],
   "source": [
    "%viz --style=\"ORTHOLINE\" --view=\"MIXED\" \"TextualRepresentationTest\""
   ]
  }
 ],
 "metadata": {
  "kernelspec": {
   "display_name": "SysML",
   "language": "sysml",
   "name": "sysml"
  },
  "language_info": {
   "codemirror_mode": "sysml",
   "file_extension": ".sysml",
   "mimetype": "text/x-sysml",
   "name": "SysML",
   "pygments_lexer": "java",
   "version": "1.0.0"
  }
 },
 "nbformat": 4,
 "nbformat_minor": 5
}
