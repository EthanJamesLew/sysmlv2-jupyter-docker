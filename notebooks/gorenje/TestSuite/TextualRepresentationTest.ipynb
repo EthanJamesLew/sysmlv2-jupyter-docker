{
 "cells": [
  {
   "cell_type": "markdown",
   "id": "ac2099ab",
   "metadata": {},
   "source": [
    "# SysML v2 Test Suite\n",
    "\n",
    "This can notebook can be cleared using menu `Edit --> Clear All Outputs` and then all cells can be\n",
    "run using menu `Run --> Run All Cells`.\n",
    "\n",
    "**WARNING**: This file is generated, all modifications here will be ignored.\n"
   ]
  },
  {
   "cell_type": "markdown",
   "id": "c0e8447b",
   "metadata": {},
   "source": [
    "## File: ../../sysml/src/examples/Simple Tests/TextualRepresentationTest.sysml"
   ]
  },
  {
   "cell_type": "code",
   "execution_count": 1,
   "id": "021ac9ef",
   "metadata": {
    "execution": {
     "iopub.execute_input": "2022-05-19T08:44:51.994978Z",
     "iopub.status.busy": "2022-05-19T08:44:51.993859Z",
     "iopub.status.idle": "2022-05-19T08:44:52.239772Z",
     "shell.execute_reply": "2022-05-19T08:44:52.240131Z"
    }
   },
   "outputs": [
    {
     "data": {
      "text/plain": [
       "Package TextualRepresentationTest (2524e1ec-43b2-4dd4-b81d-385c3decebbf)\n"
      ]
     },
     "execution_count": 1,
     "metadata": {},
     "output_type": "execute_result"
    }
   ],
   "source": [
    "package TextualRepresentationTest {\n",
    "\timport ScalarValues::Real;\n",
    "\t\n",
    "\titem def C {\n",
    "\t    attribute x: Real;\n",
    "\t    assert constraint x_constraint {\n",
    "\t\t    rep inOCL language \"ocl\" \n",
    "\t\t        /* self.x > 0.0 */\n",
    "\t    }\n",
    "\t}\n",
    "\t\n",
    "\taction def setX(c : C, newX : Real) {\n",
    "\t    language \"alf\" \n",
    "\t        /* c.x = newX;\n",
    "\t         * WriteLine(\"Set new x\");\n",
    "\t         */\n",
    "\t}\n",
    "\t\n",
    "}"
   ]
  },
  {
   "cell_type": "code",
   "execution_count": 2,
   "id": "2def16a4",
   "metadata": {
    "execution": {
     "iopub.execute_input": "2022-05-19T08:44:52.290749Z",
     "iopub.status.busy": "2022-05-19T08:44:52.290260Z",
     "iopub.status.idle": "2022-05-19T08:44:52.743588Z",
     "shell.execute_reply": "2022-05-19T08:44:52.741999Z"
    }
   },
   "outputs": [
    {
     "data": {
      "image/svg+xml": [
       "<?xml version=\"1.0\" encoding=\"UTF-8\" standalone=\"no\"?><svg xmlns=\"http://www.w3.org/2000/svg\" xmlns:xlink=\"http://www.w3.org/1999/xlink\" contentScriptType=\"application/ecmascript\" contentStyleType=\"text/css\" height=\"261px\" preserveAspectRatio=\"none\" style=\"width:351px;height:261px;\" version=\"1.1\" viewBox=\"0 0 351 261\" width=\"351px\" zoomAndPan=\"magnify\"><defs/><g><!--MD5=[fbc87193dbaf4d95561dea2c320d4a47]\n",
       "cluster E1--><a href=\"psysml:2524e1ec-43b2-4dd4-b81d-385c3decebbf\" target=\"_top\" title=\"psysml:2524e1ec-43b2-4dd4-b81d-385c3decebbf\" xlink:actuate=\"onRequest\" xlink:href=\"psysml:2524e1ec-43b2-4dd4-b81d-385c3decebbf\" xlink:show=\"new\" xlink:title=\"psysml:2524e1ec-43b2-4dd4-b81d-385c3decebbf\" xlink:type=\"simple\"><polygon fill=\"#FFFFFF\" points=\"16,6,210,6,217,28.2969,329,28.2969,329,249.5,16,249.5,16,6\" style=\"stroke: #000000; stroke-width: 1.5;\"/><line style=\"stroke: #000000; stroke-width: 1.5;\" x1=\"16\" x2=\"217\" y1=\"28.2969\" y2=\"28.2969\"/><text fill=\"#000000\" font-family=\"sans-serif\" font-size=\"14\" font-weight=\"bold\" lengthAdjust=\"spacingAndGlyphs\" textLength=\"188\" x=\"20\" y=\"20.9951\">TextualRepresentationTest</text></a><!--MD5=[f6df4d0ebaf0b5dfb2ced0ae5af7c670]\n",
       "cluster E4--><a href=\"psysml:fdd44db5-2b71-42e4-a6cb-0126cd22309d\" target=\"_top\" title=\"psysml:fdd44db5-2b71-42e4-a6cb-0126cd22309d\" xlink:actuate=\"onRequest\" xlink:href=\"psysml:fdd44db5-2b71-42e4-a6cb-0126cd22309d\" xlink:show=\"new\" xlink:title=\"psysml:fdd44db5-2b71-42e4-a6cb-0126cd22309d\" xlink:type=\"simple\"><rect fill=\"#FFFFFF\" height=\"154.5\" id=\"E4\" style=\"stroke: #383838; stroke-width: 1.5;\" width=\"134\" x=\"179\" y=\"79\"/><rect fill=\"#F8F8F8\" height=\"37.9375\" style=\"stroke: #383838; stroke-width: 1.5;\" width=\"134\" x=\"179\" y=\"79\"/><text fill=\"#000000\" font-family=\"sans-serif\" font-size=\"12\" font-style=\"italic\" lengthAdjust=\"spacingAndGlyphs\" textLength=\"81\" x=\"205.5\" y=\"95.1387\">«action  def»</text><text fill=\"#000000\" font-family=\"sans-serif\" font-size=\"12\" lengthAdjust=\"spacingAndGlyphs\" textLength=\"27\" x=\"232.5\" y=\"109.1074\">setX</text></a><!--MD5=[b4997ac47864f28c2f74865a473b2911]\n",
       "class E2--><a href=\"psysml:9149846c-b557-44f1-bb03-13041676b872\" target=\"_top\" title=\"psysml:9149846c-b557-44f1-bb03-13041676b872\" xlink:actuate=\"onRequest\" xlink:href=\"psysml:9149846c-b557-44f1-bb03-13041676b872\" xlink:show=\"new\" xlink:title=\"psysml:9149846c-b557-44f1-bb03-13041676b872\" xlink:type=\"simple\"><rect fill=\"#FFFFFF\" height=\"75.5469\" id=\"E2\" style=\"stroke: #383838; stroke-width: 1.5;\" width=\"71\" x=\"58.5\" y=\"41\"/><text fill=\"#000000\" font-family=\"sans-serif\" font-size=\"12\" font-style=\"italic\" lengthAdjust=\"spacingAndGlyphs\" textLength=\"69\" x=\"59.5\" y=\"57.1387\">«item  def»</text><text fill=\"#000000\" font-family=\"sans-serif\" font-size=\"12\" lengthAdjust=\"spacingAndGlyphs\" textLength=\"8\" x=\"90\" y=\"71.1074\">C</text><line style=\"stroke: #383838; stroke-width: 1.5;\" x1=\"59.5\" x2=\"128.5\" y1=\"78.9375\" y2=\"78.9375\"/><text fill=\"#000000\" font-family=\"sans-serif\" font-size=\"11\" lengthAdjust=\"spacingAndGlyphs\" textLength=\"38\" x=\"64.5\" y=\"109.9526\">x: Real</text><line style=\"stroke: #383838; stroke-width: 1.0;\" x1=\"59.5\" x2=\"66.5\" y1=\"93.3398\" y2=\"93.3398\"/><text fill=\"#000000\" font-family=\"sans-serif\" font-size=\"11\" lengthAdjust=\"spacingAndGlyphs\" textLength=\"55\" x=\"66.5\" y=\"96.6479\">attributes</text><line style=\"stroke: #383838; stroke-width: 1.0;\" x1=\"121.5\" x2=\"128.5\" y1=\"93.3398\" y2=\"93.3398\"/></a><!--MD5=[09b614a08d8cba4a07c9adeb5e0fee81]\n",
       "class E3--><a href=\"psysml:d102dace-404f-4787-94a0-7dab0b8761ce\" target=\"_top\" title=\"psysml:d102dace-404f-4787-94a0-7dab0b8761ce\" xlink:actuate=\"onRequest\" xlink:href=\"psysml:d102dace-404f-4787-94a0-7dab0b8761ce\" xlink:show=\"new\" xlink:title=\"psysml:d102dace-404f-4787-94a0-7dab0b8761ce\" xlink:type=\"simple\"><rect fill=\"#FFFFFF\" height=\"45.9375\" id=\"E3\" rx=\"10\" ry=\"10\" style=\"stroke: #383838; stroke-width: 1.5;\" width=\"124\" x=\"32\" y=\"177\"/><text fill=\"#000000\" font-family=\"sans-serif\" font-size=\"12\" font-style=\"italic\" lengthAdjust=\"spacingAndGlyphs\" textLength=\"122\" x=\"33\" y=\"193.1387\">«assert constraint»</text><text fill=\"#000000\" font-family=\"sans-serif\" font-size=\"12\" lengthAdjust=\"spacingAndGlyphs\" textLength=\"76\" x=\"54\" y=\"207.1074\">x_constraint</text><line style=\"stroke: #383838; stroke-width: 1.5;\" x1=\"33\" x2=\"155\" y1=\"214.9375\" y2=\"214.9375\"/></a><text fill=\"#000000\" font-family=\"sans-serif\" font-size=\"14\" lengthAdjust=\"spacingAndGlyphs\" textLength=\"8\" x=\"193\" y=\"57.6982\">c</text><rect fill=\"#383838\" height=\"12\" style=\"stroke: #F8F8F8; stroke-width: 1.5;\" width=\"12\" x=\"191\" y=\"73\"/><text fill=\"#000000\" font-family=\"sans-serif\" font-size=\"14\" lengthAdjust=\"spacingAndGlyphs\" textLength=\"38\" x=\"225\" y=\"57.6982\">newX</text><rect fill=\"#383838\" height=\"12\" style=\"stroke: #F8F8F8; stroke-width: 1.5;\" width=\"12\" x=\"238\" y=\"73\"/><!--MD5=[209b3feb70ccb6233bfe1053d122c12c]\n",
       "reverse link E2 to E3--><a href=\"psysml:0da81c8f-97bb-41c6-9a60-156bc4c734f4\" target=\"_top\" title=\"psysml:0da81c8f-97bb-41c6-9a60-156bc4c734f4\" xlink:actuate=\"onRequest\" xlink:href=\"psysml:0da81c8f-97bb-41c6-9a60-156bc4c734f4\" xlink:show=\"new\" xlink:title=\"psysml:0da81c8f-97bb-41c6-9a60-156bc4c734f4\" xlink:type=\"simple\"><path d=\"M94,130.34 C94,146.61 94,163.81 94,176.93 \" fill=\"none\" id=\"E2&lt;-E3\" style=\"stroke: #383838; stroke-width: 1.0;\"/><polygon fill=\"#383838\" points=\"94,117,90,123,94,129,98,123,94,117\" style=\"stroke: #383838; stroke-width: 1.0;\"/><text fill=\"#000000\" font-family=\"sans-serif\" font-size=\"13\" lengthAdjust=\"spacingAndGlyphs\" textLength=\"7\" x=\"86.0594\" y=\"165.8075\">*</text></a><!--MD5=[e36bbad25664d84539a7216f4eb53d0e]\n",
       "@startuml\r\n",
       " skinparam monochrome true\r\n",
       "skinparam classbackgroundcolor white\r\n",
       "skinparam shadowing false\r\n",
       "skinparam wrapWidth 300\r\n",
       "hide circle\r\n",
       "\r\n",
       "package \"TextualRepresentationTest\" as E1  [[psysml:2524e1ec-43b2-4dd4-b81d-385c3decebbf ]]  {\r\n",
       "comp def \"C\" as E2  <<(T,blue) item  def>> [[psysml:9149846c-b557-44f1-bb03-13041676b872 ]] {\r\n",
       "- - attributes - -\r\n",
       "x: Real\r\n",
       "}\r\n",
       "comp usage \"x_constraint \" as E3  <<(T,blue) assert constraint>> [[psysml:d102dace-404f-4787-94a0-7dab0b8761ce ]] {\r\n",
       "}\r\n",
       "rec def \"setX\" as E4  <<(T,blue) action  def>> [[psysml:fdd44db5-2b71-42e4-a6cb-0126cd22309d ]] {\r\n",
       "portin \"c\" as E5  [[psysml:70c0b2f6-f79a-4e90-a3c9-a244a9735aa8 ]] \r\n",
       "portin \"newX\" as E6  [[psysml:4245f76d-31bb-4c80-8014-7bc1277d6e35 ]] \r\n",
       "}\r\n",
       "\r\n",
       "}\r\n",
       "E2 *- - \"*\"E3 [[psysml:0da81c8f-97bb-41c6-9a60-156bc4c734f4 ]] \r\n",
       "@enduml\r\n",
       "\n",
       "PlantUML version 1.2020.13(Sat Jun 13 12:26:38 UTC 2020)\n",
       "(EPL source distribution)\n",
       "Java Runtime: OpenJDK Runtime Environment\n",
       "JVM: OpenJDK 64-Bit Server VM\n",
       "Default Encoding: UTF-8\n",
       "Language: en\n",
       "Country: null\n",
       "--></g></svg>"
      ]
     },
     "execution_count": 2,
     "metadata": {},
     "output_type": "execute_result"
    }
   ],
   "source": [
    "%viz --style=\"COMPTREE\" --view=\"Default\" \"TextualRepresentationTest\""
   ]
  },
  {
   "cell_type": "code",
   "execution_count": 3,
   "id": "101828d1",
   "metadata": {
    "execution": {
     "iopub.execute_input": "2022-05-19T08:44:52.793186Z",
     "iopub.status.busy": "2022-05-19T08:44:52.792696Z",
     "iopub.status.idle": "2022-05-19T08:44:52.859482Z",
     "shell.execute_reply": "2022-05-19T08:44:52.859077Z"
    }
   },
   "outputs": [
    {
     "data": {
      "image/svg+xml": [
       "<?xml version=\"1.0\" encoding=\"UTF-8\" standalone=\"no\"?><svg xmlns=\"http://www.w3.org/2000/svg\" xmlns:xlink=\"http://www.w3.org/1999/xlink\" contentScriptType=\"application/ecmascript\" contentStyleType=\"text/css\" height=\"375px\" preserveAspectRatio=\"none\" style=\"width:242px;height:375px;\" version=\"1.1\" viewBox=\"0 0 242 375\" width=\"242px\" zoomAndPan=\"magnify\"><defs/><g><!--MD5=[fbc87193dbaf4d95561dea2c320d4a47]\n",
       "cluster E1--><a href=\"psysml:2524e1ec-43b2-4dd4-b81d-385c3decebbf\" target=\"_top\" title=\"psysml:2524e1ec-43b2-4dd4-b81d-385c3decebbf\" xlink:actuate=\"onRequest\" xlink:href=\"psysml:2524e1ec-43b2-4dd4-b81d-385c3decebbf\" xlink:show=\"new\" xlink:title=\"psysml:2524e1ec-43b2-4dd4-b81d-385c3decebbf\" xlink:type=\"simple\"><polygon fill=\"#FFFFFF\" points=\"16,6,210,6,217,28.2969,220,28.2969,220,363,16,363,16,6\" style=\"stroke: #000000; stroke-width: 1.5;\"/><line style=\"stroke: #000000; stroke-width: 1.5;\" x1=\"16\" x2=\"217\" y1=\"28.2969\" y2=\"28.2969\"/><text fill=\"#000000\" font-family=\"sans-serif\" font-size=\"14\" font-weight=\"bold\" lengthAdjust=\"spacingAndGlyphs\" textLength=\"188\" x=\"20\" y=\"20.9951\">TextualRepresentationTest</text></a><!--MD5=[b4997ac47864f28c2f74865a473b2911]\n",
       "class E2--><a href=\"psysml:9149846c-b557-44f1-bb03-13041676b872\" target=\"_top\" title=\"psysml:9149846c-b557-44f1-bb03-13041676b872\" xlink:actuate=\"onRequest\" xlink:href=\"psysml:9149846c-b557-44f1-bb03-13041676b872\" xlink:show=\"new\" xlink:title=\"psysml:9149846c-b557-44f1-bb03-13041676b872\" xlink:type=\"simple\"><rect fill=\"#FFFFFF\" height=\"75.5469\" id=\"E2\" style=\"stroke: #383838; stroke-width: 1.5;\" width=\"71\" x=\"82.5\" y=\"164\"/><text fill=\"#000000\" font-family=\"sans-serif\" font-size=\"12\" font-style=\"italic\" lengthAdjust=\"spacingAndGlyphs\" textLength=\"69\" x=\"83.5\" y=\"180.1387\">«item  def»</text><text fill=\"#000000\" font-family=\"sans-serif\" font-size=\"12\" lengthAdjust=\"spacingAndGlyphs\" textLength=\"8\" x=\"114\" y=\"194.1074\">C</text><line style=\"stroke: #383838; stroke-width: 1.5;\" x1=\"83.5\" x2=\"152.5\" y1=\"201.9375\" y2=\"201.9375\"/><text fill=\"#000000\" font-family=\"sans-serif\" font-size=\"11\" lengthAdjust=\"spacingAndGlyphs\" textLength=\"38\" x=\"88.5\" y=\"232.9526\">x: Real</text><line style=\"stroke: #383838; stroke-width: 1.0;\" x1=\"83.5\" x2=\"90.5\" y1=\"216.3398\" y2=\"216.3398\"/><text fill=\"#000000\" font-family=\"sans-serif\" font-size=\"11\" lengthAdjust=\"spacingAndGlyphs\" textLength=\"55\" x=\"90.5\" y=\"219.6479\">attributes</text><line style=\"stroke: #383838; stroke-width: 1.0;\" x1=\"145.5\" x2=\"152.5\" y1=\"216.3398\" y2=\"216.3398\"/></a><!--MD5=[09b614a08d8cba4a07c9adeb5e0fee81]\n",
       "class E3--><a href=\"psysml:d102dace-404f-4787-94a0-7dab0b8761ce\" target=\"_top\" title=\"psysml:d102dace-404f-4787-94a0-7dab0b8761ce\" xlink:actuate=\"onRequest\" xlink:href=\"psysml:d102dace-404f-4787-94a0-7dab0b8761ce\" xlink:show=\"new\" xlink:title=\"psysml:d102dace-404f-4787-94a0-7dab0b8761ce\" xlink:type=\"simple\"><rect fill=\"#FFFFFF\" height=\"45.9375\" id=\"E3\" rx=\"10\" ry=\"10\" style=\"stroke: #383838; stroke-width: 1.5;\" width=\"124\" x=\"56\" y=\"301\"/><text fill=\"#000000\" font-family=\"sans-serif\" font-size=\"12\" font-style=\"italic\" lengthAdjust=\"spacingAndGlyphs\" textLength=\"122\" x=\"57\" y=\"317.1387\">«assert constraint»</text><text fill=\"#000000\" font-family=\"sans-serif\" font-size=\"12\" lengthAdjust=\"spacingAndGlyphs\" textLength=\"76\" x=\"78\" y=\"331.1074\">x_constraint</text><line style=\"stroke: #383838; stroke-width: 1.5;\" x1=\"57\" x2=\"179\" y1=\"338.9375\" y2=\"338.9375\"/></a><!--MD5=[ebbe1d658d1005bcc118a6aa81145e00]\n",
       "class E4--><a href=\"psysml:fdd44db5-2b71-42e4-a6cb-0126cd22309d\" target=\"_top\" title=\"psysml:fdd44db5-2b71-42e4-a6cb-0126cd22309d\" xlink:actuate=\"onRequest\" xlink:href=\"psysml:fdd44db5-2b71-42e4-a6cb-0126cd22309d\" xlink:show=\"new\" xlink:title=\"psysml:fdd44db5-2b71-42e4-a6cb-0126cd22309d\" xlink:type=\"simple\"><rect fill=\"#FFFFFF\" height=\"45.9375\" id=\"E4\" style=\"stroke: #383838; stroke-width: 1.5;\" width=\"83\" x=\"76.5\" y=\"41\"/><text fill=\"#000000\" font-family=\"sans-serif\" font-size=\"12\" font-style=\"italic\" lengthAdjust=\"spacingAndGlyphs\" textLength=\"81\" x=\"77.5\" y=\"57.1387\">«action  def»</text><text fill=\"#000000\" font-family=\"sans-serif\" font-size=\"12\" lengthAdjust=\"spacingAndGlyphs\" textLength=\"27\" x=\"104.5\" y=\"71.1074\">setX</text><line style=\"stroke: #383838; stroke-width: 1.5;\" x1=\"77.5\" x2=\"158.5\" y1=\"78.9375\" y2=\"78.9375\"/></a><!--MD5=[209b3feb70ccb6233bfe1053d122c12c]\n",
       "reverse link E2 to E3--><a href=\"psysml:0da81c8f-97bb-41c6-9a60-156bc4c734f4\" target=\"_top\" title=\"psysml:0da81c8f-97bb-41c6-9a60-156bc4c734f4\" xlink:actuate=\"onRequest\" xlink:href=\"psysml:0da81c8f-97bb-41c6-9a60-156bc4c734f4\" xlink:show=\"new\" xlink:title=\"psysml:0da81c8f-97bb-41c6-9a60-156bc4c734f4\" xlink:type=\"simple\"><path d=\"M118,253.76 C118,270.17 118,287.52 118,300.75 \" fill=\"none\" id=\"E2&lt;-E3\" style=\"stroke: #383838; stroke-width: 1.0;\"/><polygon fill=\"#383838\" points=\"118,240.31,114,246.31,118,252.31,122,246.31,118,240.31\" style=\"stroke: #383838; stroke-width: 1.0;\"/><text fill=\"#000000\" font-family=\"sans-serif\" font-size=\"13\" lengthAdjust=\"spacingAndGlyphs\" textLength=\"7\" x=\"110.1031\" y=\"289.9622\">*</text></a><!--MD5=[ddeed8deb2209213b62e6cfabaa108b2]\n",
       "reverse link E4 to E2--><a href=\"psysml:70c0b2f6-f79a-4e90-a3c9-a244a9735aa8\" target=\"_top\" title=\"psysml:70c0b2f6-f79a-4e90-a3c9-a244a9735aa8\" xlink:actuate=\"onRequest\" xlink:href=\"psysml:70c0b2f6-f79a-4e90-a3c9-a244a9735aa8\" xlink:show=\"new\" xlink:title=\"psysml:70c0b2f6-f79a-4e90-a3c9-a244a9735aa8\" xlink:type=\"simple\"><path d=\"M118,100.42 C118,119.95 118,144.19 118,163.97 \" fill=\"none\" id=\"E4&lt;-E2\" style=\"stroke: #383838; stroke-width: 1.0;\"/><polygon fill=\"#FFFFFF\" points=\"118,87.15,114,93.15,118,99.15,122,93.15,118,87.15\" style=\"stroke: #383838; stroke-width: 1.0;\"/><text fill=\"#000000\" font-family=\"sans-serif\" font-size=\"13\" lengthAdjust=\"spacingAndGlyphs\" textLength=\"7\" x=\"119\" y=\"130.0669\">c</text></a><!--MD5=[e9d63454e2b36ab699d51ff7191247ed]\n",
       "@startuml\r\n",
       " skinparam monochrome true\r\n",
       "skinparam classbackgroundcolor white\r\n",
       "skinparam shadowing false\r\n",
       "skinparam wrapWidth 300\r\n",
       "hide circle\r\n",
       "\r\n",
       "package \"TextualRepresentationTest\" as E1  [[psysml:2524e1ec-43b2-4dd4-b81d-385c3decebbf ]]  {\r\n",
       "comp def \"C\" as E2  <<(T,blue) item  def>> [[psysml:9149846c-b557-44f1-bb03-13041676b872 ]] {\r\n",
       "- - attributes - -\r\n",
       "x: Real\r\n",
       "}\r\n",
       "comp usage \"x_constraint \" as E3  <<(T,blue) assert constraint>> [[psysml:d102dace-404f-4787-94a0-7dab0b8761ce ]] {\r\n",
       "}\r\n",
       "comp def \"setX\" as E4  <<(T,blue) action  def>> [[psysml:fdd44db5-2b71-42e4-a6cb-0126cd22309d ]] {\r\n",
       "}\r\n",
       "}\r\n",
       "E2 *- - \"*\"E3 [[psysml:0da81c8f-97bb-41c6-9a60-156bc4c734f4 ]] \r\n",
       "E4 o- - E2 [[psysml:70c0b2f6-f79a-4e90-a3c9-a244a9735aa8 ]] : c\r\n",
       "@enduml\r\n",
       "\n",
       "PlantUML version 1.2020.13(Sat Jun 13 12:26:38 UTC 2020)\n",
       "(EPL source distribution)\n",
       "Java Runtime: OpenJDK Runtime Environment\n",
       "JVM: OpenJDK 64-Bit Server VM\n",
       "Default Encoding: UTF-8\n",
       "Language: en\n",
       "Country: null\n",
       "--></g></svg>"
      ]
     },
     "execution_count": 3,
     "metadata": {},
     "output_type": "execute_result"
    }
   ],
   "source": [
    "%viz --style=\"COMPTREE\" --view=\"Tree\" \"TextualRepresentationTest\""
   ]
  },
  {
   "cell_type": "code",
   "execution_count": 4,
   "id": "773e60d4",
   "metadata": {
    "execution": {
     "iopub.execute_input": "2022-05-19T08:44:52.909556Z",
     "iopub.status.busy": "2022-05-19T08:44:52.909096Z",
     "iopub.status.idle": "2022-05-19T08:44:52.918750Z",
     "shell.execute_reply": "2022-05-19T08:44:52.919086Z"
    }
   },
   "outputs": [
    {
     "data": {
      "image/svg+xml": [
       "<?xml version=\"1.0\" encoding=\"UTF-8\" standalone=\"no\"?><svg xmlns=\"http://www.w3.org/2000/svg\" xmlns:xlink=\"http://www.w3.org/1999/xlink\" contentScriptType=\"application/ecmascript\" contentStyleType=\"text/css\" height=\"12px\" preserveAspectRatio=\"none\" style=\"width:12px;height:12px;\" version=\"1.1\" viewBox=\"0 0 12 12\" width=\"12px\" zoomAndPan=\"magnify\"><defs/><g><!--MD5=[f19188ef49e11757b5c46753f95d9edc]\n",
       "@startuml\r\n",
       " skinparam monochrome true\r\n",
       "skinparam classbackgroundcolor white\r\n",
       "skinparam shadowing false\r\n",
       "skinparam wrapWidth 300\r\n",
       "hide circle\r\n",
       "\r\n",
       "@enduml\r\n",
       "\n",
       "PlantUML version 1.2020.13(Sat Jun 13 12:26:38 UTC 2020)\n",
       "(EPL source distribution)\n",
       "Java Runtime: OpenJDK Runtime Environment\n",
       "JVM: OpenJDK 64-Bit Server VM\n",
       "Default Encoding: UTF-8\n",
       "Language: en\n",
       "Country: null\n",
       "--></g></svg>"
      ]
     },
     "execution_count": 4,
     "metadata": {},
     "output_type": "execute_result"
    }
   ],
   "source": [
    "%viz --style=\"COMPTREE\" --view=\"State\" \"TextualRepresentationTest\""
   ]
  },
  {
   "cell_type": "code",
   "execution_count": 5,
   "id": "0bc9ae64",
   "metadata": {
    "execution": {
     "iopub.execute_input": "2022-05-19T08:44:52.969941Z",
     "iopub.status.busy": "2022-05-19T08:44:52.969431Z",
     "iopub.status.idle": "2022-05-19T08:44:53.014857Z",
     "shell.execute_reply": "2022-05-19T08:44:53.015189Z"
    }
   },
   "outputs": [
    {
     "data": {
      "image/svg+xml": [
       "<?xml version=\"1.0\" encoding=\"UTF-8\" standalone=\"no\"?><svg xmlns=\"http://www.w3.org/2000/svg\" xmlns:xlink=\"http://www.w3.org/1999/xlink\" contentScriptType=\"application/ecmascript\" contentStyleType=\"text/css\" height=\"179px\" preserveAspectRatio=\"none\" style=\"width:292px;height:179px;\" version=\"1.1\" viewBox=\"0 0 292 179\" width=\"292px\" zoomAndPan=\"magnify\"><defs/><g><!--MD5=[fbc87193dbaf4d95561dea2c320d4a47]\n",
       "cluster E1--><a href=\"psysml:2524e1ec-43b2-4dd4-b81d-385c3decebbf\" target=\"_top\" title=\"psysml:2524e1ec-43b2-4dd4-b81d-385c3decebbf\" xlink:actuate=\"onRequest\" xlink:href=\"psysml:2524e1ec-43b2-4dd4-b81d-385c3decebbf\" xlink:show=\"new\" xlink:title=\"psysml:2524e1ec-43b2-4dd4-b81d-385c3decebbf\" xlink:type=\"simple\"><polygon fill=\"#FFFFFF\" points=\"16,6,210,6,217,28.2969,270,28.2969,270,167,16,167,16,6\" style=\"stroke: #000000; stroke-width: 1.5;\"/><line style=\"stroke: #000000; stroke-width: 1.5;\" x1=\"16\" x2=\"217\" y1=\"28.2969\" y2=\"28.2969\"/><text fill=\"#000000\" font-family=\"sans-serif\" font-size=\"14\" font-weight=\"bold\" lengthAdjust=\"spacingAndGlyphs\" textLength=\"188\" x=\"20\" y=\"20.9951\">TextualRepresentationTest</text></a><!--MD5=[d5e69f78d87373223dbae638b30a9c99]\n",
       "cluster E3--><a href=\"psysml:fdd44db5-2b71-42e4-a6cb-0126cd22309d\" target=\"_top\" title=\"psysml:fdd44db5-2b71-42e4-a6cb-0126cd22309d\" xlink:actuate=\"onRequest\" xlink:href=\"psysml:fdd44db5-2b71-42e4-a6cb-0126cd22309d\" xlink:show=\"new\" xlink:title=\"psysml:fdd44db5-2b71-42e4-a6cb-0126cd22309d\" xlink:type=\"simple\"><rect fill=\"#FFFFFF\" height=\"88.5\" id=\"E3\" style=\"stroke: #383838; stroke-width: 1.5;\" width=\"100\" x=\"122.5\" y=\"62.5\"/><rect fill=\"#F8F8F8\" height=\"37.9375\" style=\"stroke: #383838; stroke-width: 1.5;\" width=\"100\" x=\"122.5\" y=\"62.5\"/><text fill=\"#000000\" font-family=\"sans-serif\" font-size=\"12\" font-style=\"italic\" lengthAdjust=\"spacingAndGlyphs\" textLength=\"81\" x=\"132\" y=\"78.6387\">«action  def»</text><text fill=\"#000000\" font-family=\"sans-serif\" font-size=\"12\" lengthAdjust=\"spacingAndGlyphs\" textLength=\"27\" x=\"159\" y=\"92.6074\">setX</text></a><g id=\"E1.E2\"><a href=\"psysml:9149846c-b557-44f1-bb03-13041676b872\" target=\"_top\" title=\"psysml:9149846c-b557-44f1-bb03-13041676b872\" xlink:actuate=\"onRequest\" xlink:href=\"psysml:9149846c-b557-44f1-bb03-13041676b872\" xlink:show=\"new\" xlink:title=\"psysml:9149846c-b557-44f1-bb03-13041676b872\" xlink:type=\"simple\"><rect fill=\"#FFFFFF\" height=\"42.9375\" id=\"E2\" style=\"stroke: #383838; stroke-width: 1.5;\" width=\"76\" x=\"32\" y=\"41\"/><rect fill=\"#F8F8F8\" height=\"37.9375\" style=\"stroke: #383838; stroke-width: 1.5;\" width=\"76\" x=\"32\" y=\"41\"/><text fill=\"#000000\" font-family=\"sans-serif\" font-size=\"12\" font-style=\"italic\" lengthAdjust=\"spacingAndGlyphs\" textLength=\"69\" x=\"35.5\" y=\"57.1387\">«item  def»</text><text fill=\"#000000\" font-family=\"sans-serif\" font-size=\"12\" lengthAdjust=\"spacingAndGlyphs\" textLength=\"8\" x=\"66\" y=\"71.1074\">C</text></a></g><text fill=\"#000000\" font-family=\"sans-serif\" font-size=\"14\" lengthAdjust=\"spacingAndGlyphs\" textLength=\"8\" x=\"145\" y=\"41.1982\">c</text><rect fill=\"#383838\" height=\"12\" style=\"stroke: #F8F8F8; stroke-width: 1.5;\" width=\"12\" x=\"143\" y=\"56.5\"/><text fill=\"#000000\" font-family=\"sans-serif\" font-size=\"14\" lengthAdjust=\"spacingAndGlyphs\" textLength=\"38\" x=\"177\" y=\"41.1982\">newX</text><rect fill=\"#383838\" height=\"12\" style=\"stroke: #F8F8F8; stroke-width: 1.5;\" width=\"12\" x=\"190\" y=\"56.5\"/><!--MD5=[aab8c3e00ecc68b1f056dc1528387d26]\n",
       "@startuml\r\n",
       "skinparam ranksep 10\r\n",
       "skinparam rectangle {\r\n",
       " backgroundColor<<block>> LightGreen\r\n",
       "}\r\n",
       " skinparam monochrome true\r\n",
       "skinparam classbackgroundcolor white\r\n",
       "skinparam shadowing false\r\n",
       "skinparam wrapWidth 300\r\n",
       "hide circle\r\n",
       "\r\n",
       "package \"TextualRepresentationTest\" as E1  [[psysml:2524e1ec-43b2-4dd4-b81d-385c3decebbf ]]  {\r\n",
       "def \"C\" as E2  <<(T,blue) item  def>> [[psysml:9149846c-b557-44f1-bb03-13041676b872 ]] \r\n",
       "rec def \"setX\" as E3  <<(T,blue) action  def>> [[psysml:fdd44db5-2b71-42e4-a6cb-0126cd22309d ]] {\r\n",
       "portin \"c\" as E4  [[psysml:70c0b2f6-f79a-4e90-a3c9-a244a9735aa8 ]] \r\n",
       "portin \"newX\" as E5  [[psysml:4245f76d-31bb-4c80-8014-7bc1277d6e35 ]] \r\n",
       "}\r\n",
       "\r\n",
       "}\r\n",
       "@enduml\r\n",
       "\n",
       "PlantUML version 1.2020.13(Sat Jun 13 12:26:38 UTC 2020)\n",
       "(EPL source distribution)\n",
       "Java Runtime: OpenJDK Runtime Environment\n",
       "JVM: OpenJDK 64-Bit Server VM\n",
       "Default Encoding: UTF-8\n",
       "Language: en\n",
       "Country: null\n",
       "--></g></svg>"
      ]
     },
     "execution_count": 5,
     "metadata": {},
     "output_type": "execute_result"
    }
   ],
   "source": [
    "%viz --style=\"COMPTREE\" --view=\"Interconnection\" \"TextualRepresentationTest\""
   ]
  },
  {
   "cell_type": "code",
   "execution_count": 6,
   "id": "50119492",
   "metadata": {
    "execution": {
     "iopub.execute_input": "2022-05-19T08:44:53.065520Z",
     "iopub.status.busy": "2022-05-19T08:44:53.065059Z",
     "iopub.status.idle": "2022-05-19T08:44:53.097352Z",
     "shell.execute_reply": "2022-05-19T08:44:53.097678Z"
    }
   },
   "outputs": [
    {
     "data": {
      "image/svg+xml": [
       "<?xml version=\"1.0\" encoding=\"UTF-8\" standalone=\"no\"?><svg xmlns=\"http://www.w3.org/2000/svg\" xmlns:xlink=\"http://www.w3.org/1999/xlink\" contentScriptType=\"application/ecmascript\" contentStyleType=\"text/css\" height=\"126px\" preserveAspectRatio=\"none\" style=\"width:152px;height:126px;\" version=\"1.1\" viewBox=\"0 0 152 126\" width=\"152px\" zoomAndPan=\"magnify\"><defs/><g><!--MD5=[fbc87193dbaf4d95561dea2c320d4a47]\n",
       "cluster E1--><a href=\"psysml:fdd44db5-2b71-42e4-a6cb-0126cd22309d\" target=\"_top\" title=\"psysml:fdd44db5-2b71-42e4-a6cb-0126cd22309d\" xlink:actuate=\"onRequest\" xlink:href=\"psysml:fdd44db5-2b71-42e4-a6cb-0126cd22309d\" xlink:show=\"new\" xlink:title=\"psysml:fdd44db5-2b71-42e4-a6cb-0126cd22309d\" xlink:type=\"simple\"><rect fill=\"#FFFFFF\" height=\"73\" id=\"E1\" style=\"stroke: #383838; stroke-width: 1.5;\" width=\"134\" x=\"7\" y=\"42.0986\"/><rect fill=\"#F8F8F8\" height=\"37.9375\" style=\"stroke: #383838; stroke-width: 1.5;\" width=\"134\" x=\"7\" y=\"42.0986\"/><text fill=\"#000000\" font-family=\"sans-serif\" font-size=\"12\" font-style=\"italic\" lengthAdjust=\"spacingAndGlyphs\" textLength=\"81\" x=\"33.5\" y=\"58.2373\">«action  def»</text><text fill=\"#000000\" font-family=\"sans-serif\" font-size=\"12\" lengthAdjust=\"spacingAndGlyphs\" textLength=\"27\" x=\"60.5\" y=\"72.2061\">setX</text></a><text fill=\"#000000\" font-family=\"sans-serif\" font-size=\"14\" lengthAdjust=\"spacingAndGlyphs\" textLength=\"8\" x=\"21\" y=\"20.7969\">c</text><rect fill=\"#383838\" height=\"12\" style=\"stroke: #F8F8F8; stroke-width: 1.5;\" width=\"12\" x=\"19\" y=\"36.0986\"/><text fill=\"#000000\" font-family=\"sans-serif\" font-size=\"14\" lengthAdjust=\"spacingAndGlyphs\" textLength=\"38\" x=\"53\" y=\"20.7969\">newX</text><rect fill=\"#383838\" height=\"12\" style=\"stroke: #F8F8F8; stroke-width: 1.5;\" width=\"12\" x=\"66\" y=\"36.0986\"/><!--MD5=[c259cff39c9e87a29ee4f2be5a1e6302]\n",
       "@startuml\r\n",
       "skinparam ranksep 8\r\n",
       " skinparam monochrome true\r\n",
       "skinparam classbackgroundcolor white\r\n",
       "skinparam shadowing false\r\n",
       "skinparam wrapWidth 300\r\n",
       "hide circle\r\n",
       "\r\n",
       "rec def \"setX\" as E1  <<(T,blue) action  def>> [[psysml:fdd44db5-2b71-42e4-a6cb-0126cd22309d ]] {\r\n",
       "portin \"c\" as E2  [[psysml:70c0b2f6-f79a-4e90-a3c9-a244a9735aa8 ]] \r\n",
       "portin \"newX\" as E3  [[psysml:4245f76d-31bb-4c80-8014-7bc1277d6e35 ]] \r\n",
       "}\r\n",
       "\r\n",
       "@enduml\r\n",
       "\n",
       "PlantUML version 1.2020.13(Sat Jun 13 12:26:38 UTC 2020)\n",
       "(EPL source distribution)\n",
       "Java Runtime: OpenJDK Runtime Environment\n",
       "JVM: OpenJDK 64-Bit Server VM\n",
       "Default Encoding: UTF-8\n",
       "Language: en\n",
       "Country: null\n",
       "--></g></svg>"
      ]
     },
     "execution_count": 6,
     "metadata": {},
     "output_type": "execute_result"
    }
   ],
   "source": [
    "%viz --style=\"COMPTREE\" --view=\"Action\" \"TextualRepresentationTest\""
   ]
  },
  {
   "cell_type": "code",
   "execution_count": 7,
   "id": "0fbc4731",
   "metadata": {
    "execution": {
     "iopub.execute_input": "2022-05-19T08:44:53.147953Z",
     "iopub.status.busy": "2022-05-19T08:44:53.147497Z",
     "iopub.status.idle": "2022-05-19T08:44:53.160456Z",
     "shell.execute_reply": "2022-05-19T08:44:53.160795Z"
    }
   },
   "outputs": [
    {
     "data": {
      "image/svg+xml": [
       "<?xml version=\"1.0\" encoding=\"UTF-8\" standalone=\"no\"?><svg xmlns=\"http://www.w3.org/2000/svg\" xmlns:xlink=\"http://www.w3.org/1999/xlink\" contentScriptType=\"application/ecmascript\" contentStyleType=\"text/css\" height=\"12px\" preserveAspectRatio=\"none\" style=\"width:12px;height:12px;\" version=\"1.1\" viewBox=\"0 0 12 12\" width=\"12px\" zoomAndPan=\"magnify\"><defs/><g><!--MD5=[803fc46c337be7a5c8a9831e35356779]\n",
       "@startuml\r\n",
       "skinparam roundcorner 20\r\n",
       "skinparam BoxPadding 20\r\n",
       "skinparam SequenceBoxBackgroundColor #white\r\n",
       "skinparam style strictuml\r\n",
       "skinparam maxMessageSize 100\r\n",
       " skinparam monochrome true\r\n",
       "skinparam classbackgroundcolor white\r\n",
       "skinparam shadowing false\r\n",
       "skinparam wrapWidth 300\r\n",
       "hide circle\r\n",
       "\r\n",
       "@enduml\r\n",
       "\n",
       "PlantUML version 1.2020.13(Sat Jun 13 12:26:38 UTC 2020)\n",
       "(EPL source distribution)\n",
       "Java Runtime: OpenJDK Runtime Environment\n",
       "JVM: OpenJDK 64-Bit Server VM\n",
       "Default Encoding: UTF-8\n",
       "Language: en\n",
       "Country: null\n",
       "--></g></svg>"
      ]
     },
     "execution_count": 7,
     "metadata": {},
     "output_type": "execute_result"
    }
   ],
   "source": [
    "%viz --style=\"COMPTREE\" --view=\"Sequence\" \"TextualRepresentationTest\""
   ]
  },
  {
   "cell_type": "code",
   "execution_count": 8,
   "id": "1f89c09e",
   "metadata": {
    "execution": {
     "iopub.execute_input": "2022-05-19T08:44:53.211168Z",
     "iopub.status.busy": "2022-05-19T08:44:53.210719Z",
     "iopub.status.idle": "2022-05-19T08:44:53.279347Z",
     "shell.execute_reply": "2022-05-19T08:44:53.279670Z"
    }
   },
   "outputs": [
    {
     "data": {
      "image/svg+xml": [
       "<?xml version=\"1.0\" encoding=\"UTF-8\" standalone=\"no\"?><svg xmlns=\"http://www.w3.org/2000/svg\" xmlns:xlink=\"http://www.w3.org/1999/xlink\" contentScriptType=\"application/ecmascript\" contentStyleType=\"text/css\" height=\"261px\" preserveAspectRatio=\"none\" style=\"width:351px;height:261px;\" version=\"1.1\" viewBox=\"0 0 351 261\" width=\"351px\" zoomAndPan=\"magnify\"><defs/><g><!--MD5=[fbc87193dbaf4d95561dea2c320d4a47]\n",
       "cluster E1--><a href=\"psysml:2524e1ec-43b2-4dd4-b81d-385c3decebbf\" target=\"_top\" title=\"psysml:2524e1ec-43b2-4dd4-b81d-385c3decebbf\" xlink:actuate=\"onRequest\" xlink:href=\"psysml:2524e1ec-43b2-4dd4-b81d-385c3decebbf\" xlink:show=\"new\" xlink:title=\"psysml:2524e1ec-43b2-4dd4-b81d-385c3decebbf\" xlink:type=\"simple\"><polygon fill=\"#FFFFFF\" points=\"16,6,210,6,217,28.2969,329,28.2969,329,249.5,16,249.5,16,6\" style=\"stroke: #000000; stroke-width: 1.5;\"/><line style=\"stroke: #000000; stroke-width: 1.5;\" x1=\"16\" x2=\"217\" y1=\"28.2969\" y2=\"28.2969\"/><text fill=\"#000000\" font-family=\"sans-serif\" font-size=\"14\" font-weight=\"bold\" lengthAdjust=\"spacingAndGlyphs\" textLength=\"188\" x=\"20\" y=\"20.9951\">TextualRepresentationTest</text></a><!--MD5=[f6df4d0ebaf0b5dfb2ced0ae5af7c670]\n",
       "cluster E4--><a href=\"psysml:fdd44db5-2b71-42e4-a6cb-0126cd22309d\" target=\"_top\" title=\"psysml:fdd44db5-2b71-42e4-a6cb-0126cd22309d\" xlink:actuate=\"onRequest\" xlink:href=\"psysml:fdd44db5-2b71-42e4-a6cb-0126cd22309d\" xlink:show=\"new\" xlink:title=\"psysml:fdd44db5-2b71-42e4-a6cb-0126cd22309d\" xlink:type=\"simple\"><rect fill=\"#FFFFFF\" height=\"154.5\" id=\"E4\" style=\"stroke: #383838; stroke-width: 1.5;\" width=\"134\" x=\"179\" y=\"79\"/><rect fill=\"#F8F8F8\" height=\"37.9375\" style=\"stroke: #383838; stroke-width: 1.5;\" width=\"134\" x=\"179\" y=\"79\"/><text fill=\"#000000\" font-family=\"sans-serif\" font-size=\"12\" font-style=\"italic\" lengthAdjust=\"spacingAndGlyphs\" textLength=\"81\" x=\"205.5\" y=\"95.1387\">«action  def»</text><text fill=\"#000000\" font-family=\"sans-serif\" font-size=\"12\" lengthAdjust=\"spacingAndGlyphs\" textLength=\"27\" x=\"232.5\" y=\"109.1074\">setX</text></a><!--MD5=[b4997ac47864f28c2f74865a473b2911]\n",
       "class E2--><a href=\"psysml:9149846c-b557-44f1-bb03-13041676b872\" target=\"_top\" title=\"psysml:9149846c-b557-44f1-bb03-13041676b872\" xlink:actuate=\"onRequest\" xlink:href=\"psysml:9149846c-b557-44f1-bb03-13041676b872\" xlink:show=\"new\" xlink:title=\"psysml:9149846c-b557-44f1-bb03-13041676b872\" xlink:type=\"simple\"><rect fill=\"#FFFFFF\" height=\"75.5469\" id=\"E2\" style=\"stroke: #383838; stroke-width: 1.5;\" width=\"71\" x=\"58.5\" y=\"41\"/><text fill=\"#000000\" font-family=\"sans-serif\" font-size=\"12\" font-style=\"italic\" lengthAdjust=\"spacingAndGlyphs\" textLength=\"69\" x=\"59.5\" y=\"57.1387\">«item  def»</text><text fill=\"#000000\" font-family=\"sans-serif\" font-size=\"12\" lengthAdjust=\"spacingAndGlyphs\" textLength=\"8\" x=\"90\" y=\"71.1074\">C</text><line style=\"stroke: #383838; stroke-width: 1.5;\" x1=\"59.5\" x2=\"128.5\" y1=\"78.9375\" y2=\"78.9375\"/><text fill=\"#000000\" font-family=\"sans-serif\" font-size=\"11\" lengthAdjust=\"spacingAndGlyphs\" textLength=\"38\" x=\"64.5\" y=\"109.9526\">x: Real</text><line style=\"stroke: #383838; stroke-width: 1.0;\" x1=\"59.5\" x2=\"66.5\" y1=\"93.3398\" y2=\"93.3398\"/><text fill=\"#000000\" font-family=\"sans-serif\" font-size=\"11\" lengthAdjust=\"spacingAndGlyphs\" textLength=\"55\" x=\"66.5\" y=\"96.6479\">attributes</text><line style=\"stroke: #383838; stroke-width: 1.0;\" x1=\"121.5\" x2=\"128.5\" y1=\"93.3398\" y2=\"93.3398\"/></a><!--MD5=[09b614a08d8cba4a07c9adeb5e0fee81]\n",
       "class E3--><a href=\"psysml:d102dace-404f-4787-94a0-7dab0b8761ce\" target=\"_top\" title=\"psysml:d102dace-404f-4787-94a0-7dab0b8761ce\" xlink:actuate=\"onRequest\" xlink:href=\"psysml:d102dace-404f-4787-94a0-7dab0b8761ce\" xlink:show=\"new\" xlink:title=\"psysml:d102dace-404f-4787-94a0-7dab0b8761ce\" xlink:type=\"simple\"><rect fill=\"#FFFFFF\" height=\"45.9375\" id=\"E3\" rx=\"10\" ry=\"10\" style=\"stroke: #383838; stroke-width: 1.5;\" width=\"124\" x=\"32\" y=\"177\"/><text fill=\"#000000\" font-family=\"sans-serif\" font-size=\"12\" font-style=\"italic\" lengthAdjust=\"spacingAndGlyphs\" textLength=\"122\" x=\"33\" y=\"193.1387\">«assert constraint»</text><text fill=\"#000000\" font-family=\"sans-serif\" font-size=\"12\" lengthAdjust=\"spacingAndGlyphs\" textLength=\"76\" x=\"54\" y=\"207.1074\">x_constraint</text><line style=\"stroke: #383838; stroke-width: 1.5;\" x1=\"33\" x2=\"155\" y1=\"214.9375\" y2=\"214.9375\"/></a><text fill=\"#000000\" font-family=\"sans-serif\" font-size=\"14\" lengthAdjust=\"spacingAndGlyphs\" textLength=\"8\" x=\"193\" y=\"57.6982\">c</text><rect fill=\"#383838\" height=\"12\" style=\"stroke: #F8F8F8; stroke-width: 1.5;\" width=\"12\" x=\"191\" y=\"73\"/><text fill=\"#000000\" font-family=\"sans-serif\" font-size=\"14\" lengthAdjust=\"spacingAndGlyphs\" textLength=\"38\" x=\"225\" y=\"57.6982\">newX</text><rect fill=\"#383838\" height=\"12\" style=\"stroke: #F8F8F8; stroke-width: 1.5;\" width=\"12\" x=\"238\" y=\"73\"/><!--MD5=[209b3feb70ccb6233bfe1053d122c12c]\n",
       "reverse link E2 to E3--><a href=\"psysml:0da81c8f-97bb-41c6-9a60-156bc4c734f4\" target=\"_top\" title=\"psysml:0da81c8f-97bb-41c6-9a60-156bc4c734f4\" xlink:actuate=\"onRequest\" xlink:href=\"psysml:0da81c8f-97bb-41c6-9a60-156bc4c734f4\" xlink:show=\"new\" xlink:title=\"psysml:0da81c8f-97bb-41c6-9a60-156bc4c734f4\" xlink:type=\"simple\"><path d=\"M94,130.34 C94,146.61 94,163.81 94,176.93 \" fill=\"none\" id=\"E2&lt;-E3\" style=\"stroke: #383838; stroke-width: 1.0;\"/><polygon fill=\"#383838\" points=\"94,117,90,123,94,129,98,123,94,117\" style=\"stroke: #383838; stroke-width: 1.0;\"/><text fill=\"#000000\" font-family=\"sans-serif\" font-size=\"13\" lengthAdjust=\"spacingAndGlyphs\" textLength=\"7\" x=\"86.0594\" y=\"165.8075\">*</text></a><!--MD5=[e36bbad25664d84539a7216f4eb53d0e]\n",
       "@startuml\r\n",
       " skinparam monochrome true\r\n",
       "skinparam classbackgroundcolor white\r\n",
       "skinparam shadowing false\r\n",
       "skinparam wrapWidth 300\r\n",
       "hide circle\r\n",
       "\r\n",
       "package \"TextualRepresentationTest\" as E1  [[psysml:2524e1ec-43b2-4dd4-b81d-385c3decebbf ]]  {\r\n",
       "comp def \"C\" as E2  <<(T,blue) item  def>> [[psysml:9149846c-b557-44f1-bb03-13041676b872 ]] {\r\n",
       "- - attributes - -\r\n",
       "x: Real\r\n",
       "}\r\n",
       "comp usage \"x_constraint \" as E3  <<(T,blue) assert constraint>> [[psysml:d102dace-404f-4787-94a0-7dab0b8761ce ]] {\r\n",
       "}\r\n",
       "rec def \"setX\" as E4  <<(T,blue) action  def>> [[psysml:fdd44db5-2b71-42e4-a6cb-0126cd22309d ]] {\r\n",
       "portin \"c\" as E5  [[psysml:70c0b2f6-f79a-4e90-a3c9-a244a9735aa8 ]] \r\n",
       "portin \"newX\" as E6  [[psysml:4245f76d-31bb-4c80-8014-7bc1277d6e35 ]] \r\n",
       "}\r\n",
       "\r\n",
       "}\r\n",
       "E2 *- - \"*\"E3 [[psysml:0da81c8f-97bb-41c6-9a60-156bc4c734f4 ]] \r\n",
       "@enduml\r\n",
       "\n",
       "PlantUML version 1.2020.13(Sat Jun 13 12:26:38 UTC 2020)\n",
       "(EPL source distribution)\n",
       "Java Runtime: OpenJDK Runtime Environment\n",
       "JVM: OpenJDK 64-Bit Server VM\n",
       "Default Encoding: UTF-8\n",
       "Language: en\n",
       "Country: null\n",
       "--></g></svg>"
      ]
     },
     "execution_count": 8,
     "metadata": {},
     "output_type": "execute_result"
    }
   ],
   "source": [
    "%viz --style=\"COMPTREE\" --view=\"MIXED\" \"TextualRepresentationTest\""
   ]
  },
  {
   "cell_type": "code",
   "execution_count": 9,
   "id": "4f3ce5bf",
   "metadata": {
    "execution": {
     "iopub.execute_input": "2022-05-19T08:44:53.329696Z",
     "iopub.status.busy": "2022-05-19T08:44:53.329241Z",
     "iopub.status.idle": "2022-05-19T08:44:53.400067Z",
     "shell.execute_reply": "2022-05-19T08:44:53.400388Z"
    }
   },
   "outputs": [
    {
     "data": {
      "image/svg+xml": [
       "<?xml version=\"1.0\" encoding=\"UTF-8\" standalone=\"no\"?><svg xmlns=\"http://www.w3.org/2000/svg\" xmlns:xlink=\"http://www.w3.org/1999/xlink\" contentScriptType=\"application/ecmascript\" contentStyleType=\"text/css\" height=\"261px\" preserveAspectRatio=\"none\" style=\"width:351px;height:261px;\" version=\"1.1\" viewBox=\"0 0 351 261\" width=\"351px\" zoomAndPan=\"magnify\"><defs/><g><!--MD5=[fbc87193dbaf4d95561dea2c320d4a47]\n",
       "cluster E1--><a href=\"psysml:2524e1ec-43b2-4dd4-b81d-385c3decebbf\" target=\"_top\" title=\"psysml:2524e1ec-43b2-4dd4-b81d-385c3decebbf\" xlink:actuate=\"onRequest\" xlink:href=\"psysml:2524e1ec-43b2-4dd4-b81d-385c3decebbf\" xlink:show=\"new\" xlink:title=\"psysml:2524e1ec-43b2-4dd4-b81d-385c3decebbf\" xlink:type=\"simple\"><polygon fill=\"#FFFFFF\" points=\"16,6,210,6,217,28.2969,329,28.2969,329,249.5,16,249.5,16,6\" style=\"stroke: #000000; stroke-width: 1.5;\"/><line style=\"stroke: #000000; stroke-width: 1.5;\" x1=\"16\" x2=\"217\" y1=\"28.2969\" y2=\"28.2969\"/><text fill=\"#000000\" font-family=\"sans-serif\" font-size=\"14\" font-weight=\"bold\" lengthAdjust=\"spacingAndGlyphs\" textLength=\"188\" x=\"20\" y=\"20.9951\">TextualRepresentationTest</text></a><!--MD5=[f6df4d0ebaf0b5dfb2ced0ae5af7c670]\n",
       "cluster E4--><a href=\"psysml:fdd44db5-2b71-42e4-a6cb-0126cd22309d\" target=\"_top\" title=\"psysml:fdd44db5-2b71-42e4-a6cb-0126cd22309d\" xlink:actuate=\"onRequest\" xlink:href=\"psysml:fdd44db5-2b71-42e4-a6cb-0126cd22309d\" xlink:show=\"new\" xlink:title=\"psysml:fdd44db5-2b71-42e4-a6cb-0126cd22309d\" xlink:type=\"simple\"><rect fill=\"#FFFFFF\" height=\"154.5\" id=\"E4\" style=\"stroke: #383838; stroke-width: 1.5;\" width=\"134\" x=\"179\" y=\"79\"/><rect fill=\"#F8F8F8\" height=\"37.9375\" style=\"stroke: #383838; stroke-width: 1.5;\" width=\"134\" x=\"179\" y=\"79\"/><text fill=\"#000000\" font-family=\"sans-serif\" font-size=\"12\" font-style=\"italic\" lengthAdjust=\"spacingAndGlyphs\" textLength=\"81\" x=\"205.5\" y=\"95.1387\">«action  def»</text><text fill=\"#000000\" font-family=\"sans-serif\" font-size=\"12\" lengthAdjust=\"spacingAndGlyphs\" textLength=\"27\" x=\"232.5\" y=\"109.1074\">setX</text></a><!--MD5=[b4997ac47864f28c2f74865a473b2911]\n",
       "class E2--><a href=\"psysml:9149846c-b557-44f1-bb03-13041676b872\" target=\"_top\" title=\"psysml:9149846c-b557-44f1-bb03-13041676b872\" xlink:actuate=\"onRequest\" xlink:href=\"psysml:9149846c-b557-44f1-bb03-13041676b872\" xlink:show=\"new\" xlink:title=\"psysml:9149846c-b557-44f1-bb03-13041676b872\" xlink:type=\"simple\"><rect fill=\"#FFFFFF\" height=\"75.5469\" id=\"E2\" style=\"stroke: #383838; stroke-width: 1.5;\" width=\"71\" x=\"58.5\" y=\"41\"/><text fill=\"#000000\" font-family=\"sans-serif\" font-size=\"12\" font-style=\"italic\" lengthAdjust=\"spacingAndGlyphs\" textLength=\"69\" x=\"59.5\" y=\"57.1387\">«item  def»</text><text fill=\"#000000\" font-family=\"sans-serif\" font-size=\"12\" lengthAdjust=\"spacingAndGlyphs\" textLength=\"8\" x=\"90\" y=\"71.1074\">C</text><line style=\"stroke: #383838; stroke-width: 1.5;\" x1=\"59.5\" x2=\"128.5\" y1=\"78.9375\" y2=\"78.9375\"/><text fill=\"#000000\" font-family=\"sans-serif\" font-size=\"11\" lengthAdjust=\"spacingAndGlyphs\" textLength=\"38\" x=\"64.5\" y=\"109.9526\">x: Real</text><line style=\"stroke: #383838; stroke-width: 1.0;\" x1=\"59.5\" x2=\"66.5\" y1=\"93.3398\" y2=\"93.3398\"/><text fill=\"#000000\" font-family=\"sans-serif\" font-size=\"11\" lengthAdjust=\"spacingAndGlyphs\" textLength=\"55\" x=\"66.5\" y=\"96.6479\">attributes</text><line style=\"stroke: #383838; stroke-width: 1.0;\" x1=\"121.5\" x2=\"128.5\" y1=\"93.3398\" y2=\"93.3398\"/></a><!--MD5=[09b614a08d8cba4a07c9adeb5e0fee81]\n",
       "class E3--><a href=\"psysml:d102dace-404f-4787-94a0-7dab0b8761ce\" target=\"_top\" title=\"psysml:d102dace-404f-4787-94a0-7dab0b8761ce\" xlink:actuate=\"onRequest\" xlink:href=\"psysml:d102dace-404f-4787-94a0-7dab0b8761ce\" xlink:show=\"new\" xlink:title=\"psysml:d102dace-404f-4787-94a0-7dab0b8761ce\" xlink:type=\"simple\"><rect fill=\"#FFFFFF\" height=\"45.9375\" id=\"E3\" rx=\"10\" ry=\"10\" style=\"stroke: #383838; stroke-width: 1.5;\" width=\"124\" x=\"32\" y=\"177\"/><text fill=\"#000000\" font-family=\"sans-serif\" font-size=\"12\" font-style=\"italic\" lengthAdjust=\"spacingAndGlyphs\" textLength=\"122\" x=\"33\" y=\"193.1387\">«assert constraint»</text><text fill=\"#000000\" font-family=\"sans-serif\" font-size=\"12\" lengthAdjust=\"spacingAndGlyphs\" textLength=\"76\" x=\"54\" y=\"207.1074\">x_constraint</text><line style=\"stroke: #383838; stroke-width: 1.5;\" x1=\"33\" x2=\"155\" y1=\"214.9375\" y2=\"214.9375\"/></a><text fill=\"#000000\" font-family=\"sans-serif\" font-size=\"14\" lengthAdjust=\"spacingAndGlyphs\" textLength=\"8\" x=\"193\" y=\"57.6982\">c</text><rect fill=\"#383838\" height=\"12\" style=\"stroke: #F8F8F8; stroke-width: 1.5;\" width=\"12\" x=\"191\" y=\"73\"/><text fill=\"#000000\" font-family=\"sans-serif\" font-size=\"14\" lengthAdjust=\"spacingAndGlyphs\" textLength=\"38\" x=\"225\" y=\"57.6982\">newX</text><rect fill=\"#383838\" height=\"12\" style=\"stroke: #F8F8F8; stroke-width: 1.5;\" width=\"12\" x=\"238\" y=\"73\"/><!--MD5=[209b3feb70ccb6233bfe1053d122c12c]\n",
       "reverse link E2 to E3--><a href=\"psysml:0da81c8f-97bb-41c6-9a60-156bc4c734f4\" target=\"_top\" title=\"psysml:0da81c8f-97bb-41c6-9a60-156bc4c734f4\" xlink:actuate=\"onRequest\" xlink:href=\"psysml:0da81c8f-97bb-41c6-9a60-156bc4c734f4\" xlink:show=\"new\" xlink:title=\"psysml:0da81c8f-97bb-41c6-9a60-156bc4c734f4\" xlink:type=\"simple\"><path d=\"M94,130.34 C94,146.61 94,163.81 94,176.93 \" fill=\"none\" id=\"E2&lt;-E3\" style=\"stroke: #383838; stroke-width: 1.0;\"/><polygon fill=\"#383838\" points=\"94,117,90,123,94,129,98,123,94,117\" style=\"stroke: #383838; stroke-width: 1.0;\"/><text fill=\"#000000\" font-family=\"sans-serif\" font-size=\"13\" lengthAdjust=\"spacingAndGlyphs\" textLength=\"7\" x=\"86.0594\" y=\"165.8075\">*</text></a><!--MD5=[ad9332c02ffeedf8e47ea9646672913b]\n",
       "@startuml\r\n",
       "skinparam linetype polyline\r\n",
       "skinparam monochrome true\r\n",
       "skinparam classbackgroundcolor white\r\n",
       "skinparam shadowing false\r\n",
       "skinparam wrapWidth 300\r\n",
       "hide circle\r\n",
       "\r\n",
       "package \"TextualRepresentationTest\" as E1  [[psysml:2524e1ec-43b2-4dd4-b81d-385c3decebbf ]]  {\r\n",
       "comp def \"C\" as E2  <<(T,blue) item  def>> [[psysml:9149846c-b557-44f1-bb03-13041676b872 ]] {\r\n",
       "- - attributes - -\r\n",
       "x: Real\r\n",
       "}\r\n",
       "comp usage \"x_constraint \" as E3  <<(T,blue) assert constraint>> [[psysml:d102dace-404f-4787-94a0-7dab0b8761ce ]] {\r\n",
       "}\r\n",
       "rec def \"setX\" as E4  <<(T,blue) action  def>> [[psysml:fdd44db5-2b71-42e4-a6cb-0126cd22309d ]] {\r\n",
       "portin \"c\" as E5  [[psysml:70c0b2f6-f79a-4e90-a3c9-a244a9735aa8 ]] \r\n",
       "portin \"newX\" as E6  [[psysml:4245f76d-31bb-4c80-8014-7bc1277d6e35 ]] \r\n",
       "}\r\n",
       "\r\n",
       "}\r\n",
       "E2 *- - \"*\"E3 [[psysml:0da81c8f-97bb-41c6-9a60-156bc4c734f4 ]] \r\n",
       "@enduml\r\n",
       "\n",
       "PlantUML version 1.2020.13(Sat Jun 13 12:26:38 UTC 2020)\n",
       "(EPL source distribution)\n",
       "Java Runtime: OpenJDK Runtime Environment\n",
       "JVM: OpenJDK 64-Bit Server VM\n",
       "Default Encoding: UTF-8\n",
       "Language: en\n",
       "Country: null\n",
       "--></g></svg>"
      ]
     },
     "execution_count": 9,
     "metadata": {},
     "output_type": "execute_result"
    }
   ],
   "source": [
    "%viz --style=\"POLYLINE\" --view=\"Default\" \"TextualRepresentationTest\""
   ]
  },
  {
   "cell_type": "code",
   "execution_count": 10,
   "id": "2e710d61",
   "metadata": {
    "execution": {
     "iopub.execute_input": "2022-05-19T08:44:53.450169Z",
     "iopub.status.busy": "2022-05-19T08:44:53.449725Z",
     "iopub.status.idle": "2022-05-19T08:44:53.504768Z",
     "shell.execute_reply": "2022-05-19T08:44:53.504335Z"
    }
   },
   "outputs": [
    {
     "data": {
      "image/svg+xml": [
       "<?xml version=\"1.0\" encoding=\"UTF-8\" standalone=\"no\"?><svg xmlns=\"http://www.w3.org/2000/svg\" xmlns:xlink=\"http://www.w3.org/1999/xlink\" contentScriptType=\"application/ecmascript\" contentStyleType=\"text/css\" height=\"375px\" preserveAspectRatio=\"none\" style=\"width:242px;height:375px;\" version=\"1.1\" viewBox=\"0 0 242 375\" width=\"242px\" zoomAndPan=\"magnify\"><defs/><g><!--MD5=[fbc87193dbaf4d95561dea2c320d4a47]\n",
       "cluster E1--><a href=\"psysml:2524e1ec-43b2-4dd4-b81d-385c3decebbf\" target=\"_top\" title=\"psysml:2524e1ec-43b2-4dd4-b81d-385c3decebbf\" xlink:actuate=\"onRequest\" xlink:href=\"psysml:2524e1ec-43b2-4dd4-b81d-385c3decebbf\" xlink:show=\"new\" xlink:title=\"psysml:2524e1ec-43b2-4dd4-b81d-385c3decebbf\" xlink:type=\"simple\"><polygon fill=\"#FFFFFF\" points=\"16,6,210,6,217,28.2969,220,28.2969,220,363,16,363,16,6\" style=\"stroke: #000000; stroke-width: 1.5;\"/><line style=\"stroke: #000000; stroke-width: 1.5;\" x1=\"16\" x2=\"217\" y1=\"28.2969\" y2=\"28.2969\"/><text fill=\"#000000\" font-family=\"sans-serif\" font-size=\"14\" font-weight=\"bold\" lengthAdjust=\"spacingAndGlyphs\" textLength=\"188\" x=\"20\" y=\"20.9951\">TextualRepresentationTest</text></a><!--MD5=[b4997ac47864f28c2f74865a473b2911]\n",
       "class E2--><a href=\"psysml:9149846c-b557-44f1-bb03-13041676b872\" target=\"_top\" title=\"psysml:9149846c-b557-44f1-bb03-13041676b872\" xlink:actuate=\"onRequest\" xlink:href=\"psysml:9149846c-b557-44f1-bb03-13041676b872\" xlink:show=\"new\" xlink:title=\"psysml:9149846c-b557-44f1-bb03-13041676b872\" xlink:type=\"simple\"><rect fill=\"#FFFFFF\" height=\"75.5469\" id=\"E2\" style=\"stroke: #383838; stroke-width: 1.5;\" width=\"71\" x=\"82.5\" y=\"164\"/><text fill=\"#000000\" font-family=\"sans-serif\" font-size=\"12\" font-style=\"italic\" lengthAdjust=\"spacingAndGlyphs\" textLength=\"69\" x=\"83.5\" y=\"180.1387\">«item  def»</text><text fill=\"#000000\" font-family=\"sans-serif\" font-size=\"12\" lengthAdjust=\"spacingAndGlyphs\" textLength=\"8\" x=\"114\" y=\"194.1074\">C</text><line style=\"stroke: #383838; stroke-width: 1.5;\" x1=\"83.5\" x2=\"152.5\" y1=\"201.9375\" y2=\"201.9375\"/><text fill=\"#000000\" font-family=\"sans-serif\" font-size=\"11\" lengthAdjust=\"spacingAndGlyphs\" textLength=\"38\" x=\"88.5\" y=\"232.9526\">x: Real</text><line style=\"stroke: #383838; stroke-width: 1.0;\" x1=\"83.5\" x2=\"90.5\" y1=\"216.3398\" y2=\"216.3398\"/><text fill=\"#000000\" font-family=\"sans-serif\" font-size=\"11\" lengthAdjust=\"spacingAndGlyphs\" textLength=\"55\" x=\"90.5\" y=\"219.6479\">attributes</text><line style=\"stroke: #383838; stroke-width: 1.0;\" x1=\"145.5\" x2=\"152.5\" y1=\"216.3398\" y2=\"216.3398\"/></a><!--MD5=[09b614a08d8cba4a07c9adeb5e0fee81]\n",
       "class E3--><a href=\"psysml:d102dace-404f-4787-94a0-7dab0b8761ce\" target=\"_top\" title=\"psysml:d102dace-404f-4787-94a0-7dab0b8761ce\" xlink:actuate=\"onRequest\" xlink:href=\"psysml:d102dace-404f-4787-94a0-7dab0b8761ce\" xlink:show=\"new\" xlink:title=\"psysml:d102dace-404f-4787-94a0-7dab0b8761ce\" xlink:type=\"simple\"><rect fill=\"#FFFFFF\" height=\"45.9375\" id=\"E3\" rx=\"10\" ry=\"10\" style=\"stroke: #383838; stroke-width: 1.5;\" width=\"124\" x=\"56\" y=\"301\"/><text fill=\"#000000\" font-family=\"sans-serif\" font-size=\"12\" font-style=\"italic\" lengthAdjust=\"spacingAndGlyphs\" textLength=\"122\" x=\"57\" y=\"317.1387\">«assert constraint»</text><text fill=\"#000000\" font-family=\"sans-serif\" font-size=\"12\" lengthAdjust=\"spacingAndGlyphs\" textLength=\"76\" x=\"78\" y=\"331.1074\">x_constraint</text><line style=\"stroke: #383838; stroke-width: 1.5;\" x1=\"57\" x2=\"179\" y1=\"338.9375\" y2=\"338.9375\"/></a><!--MD5=[ebbe1d658d1005bcc118a6aa81145e00]\n",
       "class E4--><a href=\"psysml:fdd44db5-2b71-42e4-a6cb-0126cd22309d\" target=\"_top\" title=\"psysml:fdd44db5-2b71-42e4-a6cb-0126cd22309d\" xlink:actuate=\"onRequest\" xlink:href=\"psysml:fdd44db5-2b71-42e4-a6cb-0126cd22309d\" xlink:show=\"new\" xlink:title=\"psysml:fdd44db5-2b71-42e4-a6cb-0126cd22309d\" xlink:type=\"simple\"><rect fill=\"#FFFFFF\" height=\"45.9375\" id=\"E4\" style=\"stroke: #383838; stroke-width: 1.5;\" width=\"83\" x=\"76.5\" y=\"41\"/><text fill=\"#000000\" font-family=\"sans-serif\" font-size=\"12\" font-style=\"italic\" lengthAdjust=\"spacingAndGlyphs\" textLength=\"81\" x=\"77.5\" y=\"57.1387\">«action  def»</text><text fill=\"#000000\" font-family=\"sans-serif\" font-size=\"12\" lengthAdjust=\"spacingAndGlyphs\" textLength=\"27\" x=\"104.5\" y=\"71.1074\">setX</text><line style=\"stroke: #383838; stroke-width: 1.5;\" x1=\"77.5\" x2=\"158.5\" y1=\"78.9375\" y2=\"78.9375\"/></a><!--MD5=[209b3feb70ccb6233bfe1053d122c12c]\n",
       "reverse link E2 to E3--><a href=\"psysml:0da81c8f-97bb-41c6-9a60-156bc4c734f4\" target=\"_top\" title=\"psysml:0da81c8f-97bb-41c6-9a60-156bc4c734f4\" xlink:actuate=\"onRequest\" xlink:href=\"psysml:0da81c8f-97bb-41c6-9a60-156bc4c734f4\" xlink:show=\"new\" xlink:title=\"psysml:0da81c8f-97bb-41c6-9a60-156bc4c734f4\" xlink:type=\"simple\"><path d=\"M118,253.76 C118,270.17 118,287.52 118,300.75 \" fill=\"none\" id=\"E2&lt;-E3\" style=\"stroke: #383838; stroke-width: 1.0;\"/><polygon fill=\"#383838\" points=\"118,240.31,114,246.31,118,252.31,122,246.31,118,240.31\" style=\"stroke: #383838; stroke-width: 1.0;\"/><text fill=\"#000000\" font-family=\"sans-serif\" font-size=\"13\" lengthAdjust=\"spacingAndGlyphs\" textLength=\"7\" x=\"110.1031\" y=\"289.9622\">*</text></a><!--MD5=[ddeed8deb2209213b62e6cfabaa108b2]\n",
       "reverse link E4 to E2--><a href=\"psysml:70c0b2f6-f79a-4e90-a3c9-a244a9735aa8\" target=\"_top\" title=\"psysml:70c0b2f6-f79a-4e90-a3c9-a244a9735aa8\" xlink:actuate=\"onRequest\" xlink:href=\"psysml:70c0b2f6-f79a-4e90-a3c9-a244a9735aa8\" xlink:show=\"new\" xlink:title=\"psysml:70c0b2f6-f79a-4e90-a3c9-a244a9735aa8\" xlink:type=\"simple\"><path d=\"M118,100.42 C118,119.95 118,144.19 118,163.97 \" fill=\"none\" id=\"E4&lt;-E2\" style=\"stroke: #383838; stroke-width: 1.0;\"/><polygon fill=\"#FFFFFF\" points=\"118,87.15,114,93.15,118,99.15,122,93.15,118,87.15\" style=\"stroke: #383838; stroke-width: 1.0;\"/><text fill=\"#000000\" font-family=\"sans-serif\" font-size=\"13\" lengthAdjust=\"spacingAndGlyphs\" textLength=\"7\" x=\"119\" y=\"130.0669\">c</text></a><!--MD5=[6d429133b97f43b5d15b2d4e4af43d1f]\n",
       "@startuml\r\n",
       "skinparam linetype polyline\r\n",
       "skinparam monochrome true\r\n",
       "skinparam classbackgroundcolor white\r\n",
       "skinparam shadowing false\r\n",
       "skinparam wrapWidth 300\r\n",
       "hide circle\r\n",
       "\r\n",
       "package \"TextualRepresentationTest\" as E1  [[psysml:2524e1ec-43b2-4dd4-b81d-385c3decebbf ]]  {\r\n",
       "comp def \"C\" as E2  <<(T,blue) item  def>> [[psysml:9149846c-b557-44f1-bb03-13041676b872 ]] {\r\n",
       "- - attributes - -\r\n",
       "x: Real\r\n",
       "}\r\n",
       "comp usage \"x_constraint \" as E3  <<(T,blue) assert constraint>> [[psysml:d102dace-404f-4787-94a0-7dab0b8761ce ]] {\r\n",
       "}\r\n",
       "comp def \"setX\" as E4  <<(T,blue) action  def>> [[psysml:fdd44db5-2b71-42e4-a6cb-0126cd22309d ]] {\r\n",
       "}\r\n",
       "}\r\n",
       "E2 *- - \"*\"E3 [[psysml:0da81c8f-97bb-41c6-9a60-156bc4c734f4 ]] \r\n",
       "E4 o- - E2 [[psysml:70c0b2f6-f79a-4e90-a3c9-a244a9735aa8 ]] : c\r\n",
       "@enduml\r\n",
       "\n",
       "PlantUML version 1.2020.13(Sat Jun 13 12:26:38 UTC 2020)\n",
       "(EPL source distribution)\n",
       "Java Runtime: OpenJDK Runtime Environment\n",
       "JVM: OpenJDK 64-Bit Server VM\n",
       "Default Encoding: UTF-8\n",
       "Language: en\n",
       "Country: null\n",
       "--></g></svg>"
      ]
     },
     "execution_count": 10,
     "metadata": {},
     "output_type": "execute_result"
    }
   ],
   "source": [
    "%viz --style=\"POLYLINE\" --view=\"Tree\" \"TextualRepresentationTest\""
   ]
  },
  {
   "cell_type": "code",
   "execution_count": 11,
   "id": "3ab1cbe8",
   "metadata": {
    "execution": {
     "iopub.execute_input": "2022-05-19T08:44:53.554566Z",
     "iopub.status.busy": "2022-05-19T08:44:53.554081Z",
     "iopub.status.idle": "2022-05-19T08:44:53.560100Z",
     "shell.execute_reply": "2022-05-19T08:44:53.560430Z"
    }
   },
   "outputs": [
    {
     "data": {
      "image/svg+xml": [
       "<?xml version=\"1.0\" encoding=\"UTF-8\" standalone=\"no\"?><svg xmlns=\"http://www.w3.org/2000/svg\" xmlns:xlink=\"http://www.w3.org/1999/xlink\" contentScriptType=\"application/ecmascript\" contentStyleType=\"text/css\" height=\"12px\" preserveAspectRatio=\"none\" style=\"width:12px;height:12px;\" version=\"1.1\" viewBox=\"0 0 12 12\" width=\"12px\" zoomAndPan=\"magnify\"><defs/><g><!--MD5=[896ac0e7a515d8dd7765a661cb4ee08b]\n",
       "@startuml\r\n",
       "skinparam linetype polyline\r\n",
       "skinparam monochrome true\r\n",
       "skinparam classbackgroundcolor white\r\n",
       "skinparam shadowing false\r\n",
       "skinparam wrapWidth 300\r\n",
       "hide circle\r\n",
       "\r\n",
       "@enduml\r\n",
       "\n",
       "PlantUML version 1.2020.13(Sat Jun 13 12:26:38 UTC 2020)\n",
       "(EPL source distribution)\n",
       "Java Runtime: OpenJDK Runtime Environment\n",
       "JVM: OpenJDK 64-Bit Server VM\n",
       "Default Encoding: UTF-8\n",
       "Language: en\n",
       "Country: null\n",
       "--></g></svg>"
      ]
     },
     "execution_count": 11,
     "metadata": {},
     "output_type": "execute_result"
    }
   ],
   "source": [
    "%viz --style=\"POLYLINE\" --view=\"State\" \"TextualRepresentationTest\""
   ]
  },
  {
   "cell_type": "code",
   "execution_count": 12,
   "id": "3ad6d979",
   "metadata": {
    "execution": {
     "iopub.execute_input": "2022-05-19T08:44:53.610713Z",
     "iopub.status.busy": "2022-05-19T08:44:53.610249Z",
     "iopub.status.idle": "2022-05-19T08:44:53.645505Z",
     "shell.execute_reply": "2022-05-19T08:44:53.645833Z"
    }
   },
   "outputs": [
    {
     "data": {
      "image/svg+xml": [
       "<?xml version=\"1.0\" encoding=\"UTF-8\" standalone=\"no\"?><svg xmlns=\"http://www.w3.org/2000/svg\" xmlns:xlink=\"http://www.w3.org/1999/xlink\" contentScriptType=\"application/ecmascript\" contentStyleType=\"text/css\" height=\"179px\" preserveAspectRatio=\"none\" style=\"width:292px;height:179px;\" version=\"1.1\" viewBox=\"0 0 292 179\" width=\"292px\" zoomAndPan=\"magnify\"><defs/><g><!--MD5=[fbc87193dbaf4d95561dea2c320d4a47]\n",
       "cluster E1--><a href=\"psysml:2524e1ec-43b2-4dd4-b81d-385c3decebbf\" target=\"_top\" title=\"psysml:2524e1ec-43b2-4dd4-b81d-385c3decebbf\" xlink:actuate=\"onRequest\" xlink:href=\"psysml:2524e1ec-43b2-4dd4-b81d-385c3decebbf\" xlink:show=\"new\" xlink:title=\"psysml:2524e1ec-43b2-4dd4-b81d-385c3decebbf\" xlink:type=\"simple\"><polygon fill=\"#FFFFFF\" points=\"16,6,210,6,217,28.2969,270,28.2969,270,167,16,167,16,6\" style=\"stroke: #000000; stroke-width: 1.5;\"/><line style=\"stroke: #000000; stroke-width: 1.5;\" x1=\"16\" x2=\"217\" y1=\"28.2969\" y2=\"28.2969\"/><text fill=\"#000000\" font-family=\"sans-serif\" font-size=\"14\" font-weight=\"bold\" lengthAdjust=\"spacingAndGlyphs\" textLength=\"188\" x=\"20\" y=\"20.9951\">TextualRepresentationTest</text></a><!--MD5=[d5e69f78d87373223dbae638b30a9c99]\n",
       "cluster E3--><a href=\"psysml:fdd44db5-2b71-42e4-a6cb-0126cd22309d\" target=\"_top\" title=\"psysml:fdd44db5-2b71-42e4-a6cb-0126cd22309d\" xlink:actuate=\"onRequest\" xlink:href=\"psysml:fdd44db5-2b71-42e4-a6cb-0126cd22309d\" xlink:show=\"new\" xlink:title=\"psysml:fdd44db5-2b71-42e4-a6cb-0126cd22309d\" xlink:type=\"simple\"><rect fill=\"#FFFFFF\" height=\"88.5\" id=\"E3\" style=\"stroke: #383838; stroke-width: 1.5;\" width=\"100\" x=\"122.5\" y=\"62.5\"/><rect fill=\"#F8F8F8\" height=\"37.9375\" style=\"stroke: #383838; stroke-width: 1.5;\" width=\"100\" x=\"122.5\" y=\"62.5\"/><text fill=\"#000000\" font-family=\"sans-serif\" font-size=\"12\" font-style=\"italic\" lengthAdjust=\"spacingAndGlyphs\" textLength=\"81\" x=\"132\" y=\"78.6387\">«action  def»</text><text fill=\"#000000\" font-family=\"sans-serif\" font-size=\"12\" lengthAdjust=\"spacingAndGlyphs\" textLength=\"27\" x=\"159\" y=\"92.6074\">setX</text></a><g id=\"E1.E2\"><a href=\"psysml:9149846c-b557-44f1-bb03-13041676b872\" target=\"_top\" title=\"psysml:9149846c-b557-44f1-bb03-13041676b872\" xlink:actuate=\"onRequest\" xlink:href=\"psysml:9149846c-b557-44f1-bb03-13041676b872\" xlink:show=\"new\" xlink:title=\"psysml:9149846c-b557-44f1-bb03-13041676b872\" xlink:type=\"simple\"><rect fill=\"#FFFFFF\" height=\"42.9375\" id=\"E2\" style=\"stroke: #383838; stroke-width: 1.5;\" width=\"76\" x=\"32\" y=\"41\"/><rect fill=\"#F8F8F8\" height=\"37.9375\" style=\"stroke: #383838; stroke-width: 1.5;\" width=\"76\" x=\"32\" y=\"41\"/><text fill=\"#000000\" font-family=\"sans-serif\" font-size=\"12\" font-style=\"italic\" lengthAdjust=\"spacingAndGlyphs\" textLength=\"69\" x=\"35.5\" y=\"57.1387\">«item  def»</text><text fill=\"#000000\" font-family=\"sans-serif\" font-size=\"12\" lengthAdjust=\"spacingAndGlyphs\" textLength=\"8\" x=\"66\" y=\"71.1074\">C</text></a></g><text fill=\"#000000\" font-family=\"sans-serif\" font-size=\"14\" lengthAdjust=\"spacingAndGlyphs\" textLength=\"8\" x=\"145\" y=\"41.1982\">c</text><rect fill=\"#383838\" height=\"12\" style=\"stroke: #F8F8F8; stroke-width: 1.5;\" width=\"12\" x=\"143\" y=\"56.5\"/><text fill=\"#000000\" font-family=\"sans-serif\" font-size=\"14\" lengthAdjust=\"spacingAndGlyphs\" textLength=\"38\" x=\"177\" y=\"41.1982\">newX</text><rect fill=\"#383838\" height=\"12\" style=\"stroke: #F8F8F8; stroke-width: 1.5;\" width=\"12\" x=\"190\" y=\"56.5\"/><!--MD5=[e37dce6feab8e94e06f471fcca3ed2ec]\n",
       "@startuml\r\n",
       "skinparam ranksep 10\r\n",
       "skinparam rectangle {\r\n",
       " backgroundColor<<block>> LightGreen\r\n",
       "}\r\n",
       "skinparam linetype polyline\r\n",
       "skinparam monochrome true\r\n",
       "skinparam classbackgroundcolor white\r\n",
       "skinparam shadowing false\r\n",
       "skinparam wrapWidth 300\r\n",
       "hide circle\r\n",
       "\r\n",
       "package \"TextualRepresentationTest\" as E1  [[psysml:2524e1ec-43b2-4dd4-b81d-385c3decebbf ]]  {\r\n",
       "def \"C\" as E2  <<(T,blue) item  def>> [[psysml:9149846c-b557-44f1-bb03-13041676b872 ]] \r\n",
       "rec def \"setX\" as E3  <<(T,blue) action  def>> [[psysml:fdd44db5-2b71-42e4-a6cb-0126cd22309d ]] {\r\n",
       "portin \"c\" as E4  [[psysml:70c0b2f6-f79a-4e90-a3c9-a244a9735aa8 ]] \r\n",
       "portin \"newX\" as E5  [[psysml:4245f76d-31bb-4c80-8014-7bc1277d6e35 ]] \r\n",
       "}\r\n",
       "\r\n",
       "}\r\n",
       "@enduml\r\n",
       "\n",
       "PlantUML version 1.2020.13(Sat Jun 13 12:26:38 UTC 2020)\n",
       "(EPL source distribution)\n",
       "Java Runtime: OpenJDK Runtime Environment\n",
       "JVM: OpenJDK 64-Bit Server VM\n",
       "Default Encoding: UTF-8\n",
       "Language: en\n",
       "Country: null\n",
       "--></g></svg>"
      ]
     },
     "execution_count": 12,
     "metadata": {},
     "output_type": "execute_result"
    }
   ],
   "source": [
    "%viz --style=\"POLYLINE\" --view=\"Interconnection\" \"TextualRepresentationTest\""
   ]
  },
  {
   "cell_type": "code",
   "execution_count": 13,
   "id": "4d964b66",
   "metadata": {
    "execution": {
     "iopub.execute_input": "2022-05-19T08:44:53.695897Z",
     "iopub.status.busy": "2022-05-19T08:44:53.695431Z",
     "iopub.status.idle": "2022-05-19T08:44:53.723243Z",
     "shell.execute_reply": "2022-05-19T08:44:53.723575Z"
    }
   },
   "outputs": [
    {
     "data": {
      "image/svg+xml": [
       "<?xml version=\"1.0\" encoding=\"UTF-8\" standalone=\"no\"?><svg xmlns=\"http://www.w3.org/2000/svg\" xmlns:xlink=\"http://www.w3.org/1999/xlink\" contentScriptType=\"application/ecmascript\" contentStyleType=\"text/css\" height=\"126px\" preserveAspectRatio=\"none\" style=\"width:152px;height:126px;\" version=\"1.1\" viewBox=\"0 0 152 126\" width=\"152px\" zoomAndPan=\"magnify\"><defs/><g><!--MD5=[fbc87193dbaf4d95561dea2c320d4a47]\n",
       "cluster E1--><a href=\"psysml:fdd44db5-2b71-42e4-a6cb-0126cd22309d\" target=\"_top\" title=\"psysml:fdd44db5-2b71-42e4-a6cb-0126cd22309d\" xlink:actuate=\"onRequest\" xlink:href=\"psysml:fdd44db5-2b71-42e4-a6cb-0126cd22309d\" xlink:show=\"new\" xlink:title=\"psysml:fdd44db5-2b71-42e4-a6cb-0126cd22309d\" xlink:type=\"simple\"><rect fill=\"#FFFFFF\" height=\"73\" id=\"E1\" style=\"stroke: #383838; stroke-width: 1.5;\" width=\"134\" x=\"7\" y=\"42.0986\"/><rect fill=\"#F8F8F8\" height=\"37.9375\" style=\"stroke: #383838; stroke-width: 1.5;\" width=\"134\" x=\"7\" y=\"42.0986\"/><text fill=\"#000000\" font-family=\"sans-serif\" font-size=\"12\" font-style=\"italic\" lengthAdjust=\"spacingAndGlyphs\" textLength=\"81\" x=\"33.5\" y=\"58.2373\">«action  def»</text><text fill=\"#000000\" font-family=\"sans-serif\" font-size=\"12\" lengthAdjust=\"spacingAndGlyphs\" textLength=\"27\" x=\"60.5\" y=\"72.2061\">setX</text></a><text fill=\"#000000\" font-family=\"sans-serif\" font-size=\"14\" lengthAdjust=\"spacingAndGlyphs\" textLength=\"8\" x=\"21\" y=\"20.7969\">c</text><rect fill=\"#383838\" height=\"12\" style=\"stroke: #F8F8F8; stroke-width: 1.5;\" width=\"12\" x=\"19\" y=\"36.0986\"/><text fill=\"#000000\" font-family=\"sans-serif\" font-size=\"14\" lengthAdjust=\"spacingAndGlyphs\" textLength=\"38\" x=\"53\" y=\"20.7969\">newX</text><rect fill=\"#383838\" height=\"12\" style=\"stroke: #F8F8F8; stroke-width: 1.5;\" width=\"12\" x=\"66\" y=\"36.0986\"/><!--MD5=[41c38e8100a62200e9fb7274392d6b87]\n",
       "@startuml\r\n",
       "skinparam ranksep 8\r\n",
       "skinparam linetype polyline\r\n",
       "skinparam monochrome true\r\n",
       "skinparam classbackgroundcolor white\r\n",
       "skinparam shadowing false\r\n",
       "skinparam wrapWidth 300\r\n",
       "hide circle\r\n",
       "\r\n",
       "rec def \"setX\" as E1  <<(T,blue) action  def>> [[psysml:fdd44db5-2b71-42e4-a6cb-0126cd22309d ]] {\r\n",
       "portin \"c\" as E2  [[psysml:70c0b2f6-f79a-4e90-a3c9-a244a9735aa8 ]] \r\n",
       "portin \"newX\" as E3  [[psysml:4245f76d-31bb-4c80-8014-7bc1277d6e35 ]] \r\n",
       "}\r\n",
       "\r\n",
       "@enduml\r\n",
       "\n",
       "PlantUML version 1.2020.13(Sat Jun 13 12:26:38 UTC 2020)\n",
       "(EPL source distribution)\n",
       "Java Runtime: OpenJDK Runtime Environment\n",
       "JVM: OpenJDK 64-Bit Server VM\n",
       "Default Encoding: UTF-8\n",
       "Language: en\n",
       "Country: null\n",
       "--></g></svg>"
      ]
     },
     "execution_count": 13,
     "metadata": {},
     "output_type": "execute_result"
    }
   ],
   "source": [
    "%viz --style=\"POLYLINE\" --view=\"Action\" \"TextualRepresentationTest\""
   ]
  },
  {
   "cell_type": "code",
   "execution_count": 14,
   "id": "53204e51",
   "metadata": {
    "execution": {
     "iopub.execute_input": "2022-05-19T08:44:53.773592Z",
     "iopub.status.busy": "2022-05-19T08:44:53.773138Z",
     "iopub.status.idle": "2022-05-19T08:44:53.780094Z",
     "shell.execute_reply": "2022-05-19T08:44:53.780414Z"
    }
   },
   "outputs": [
    {
     "data": {
      "image/svg+xml": [
       "<?xml version=\"1.0\" encoding=\"UTF-8\" standalone=\"no\"?><svg xmlns=\"http://www.w3.org/2000/svg\" xmlns:xlink=\"http://www.w3.org/1999/xlink\" contentScriptType=\"application/ecmascript\" contentStyleType=\"text/css\" height=\"12px\" preserveAspectRatio=\"none\" style=\"width:12px;height:12px;\" version=\"1.1\" viewBox=\"0 0 12 12\" width=\"12px\" zoomAndPan=\"magnify\"><defs/><g><!--MD5=[dc938048236c351797870c36b62f92ad]\n",
       "@startuml\r\n",
       "skinparam roundcorner 20\r\n",
       "skinparam BoxPadding 20\r\n",
       "skinparam SequenceBoxBackgroundColor #white\r\n",
       "skinparam style strictuml\r\n",
       "skinparam maxMessageSize 100\r\n",
       "skinparam linetype polyline\r\n",
       "skinparam monochrome true\r\n",
       "skinparam classbackgroundcolor white\r\n",
       "skinparam shadowing false\r\n",
       "skinparam wrapWidth 300\r\n",
       "hide circle\r\n",
       "\r\n",
       "@enduml\r\n",
       "\n",
       "PlantUML version 1.2020.13(Sat Jun 13 12:26:38 UTC 2020)\n",
       "(EPL source distribution)\n",
       "Java Runtime: OpenJDK Runtime Environment\n",
       "JVM: OpenJDK 64-Bit Server VM\n",
       "Default Encoding: UTF-8\n",
       "Language: en\n",
       "Country: null\n",
       "--></g></svg>"
      ]
     },
     "execution_count": 14,
     "metadata": {},
     "output_type": "execute_result"
    }
   ],
   "source": [
    "%viz --style=\"POLYLINE\" --view=\"Sequence\" \"TextualRepresentationTest\""
   ]
  },
  {
   "cell_type": "code",
   "execution_count": 15,
   "id": "bd88e881",
   "metadata": {
    "execution": {
     "iopub.execute_input": "2022-05-19T08:44:53.830628Z",
     "iopub.status.busy": "2022-05-19T08:44:53.830174Z",
     "iopub.status.idle": "2022-05-19T08:44:53.895355Z",
     "shell.execute_reply": "2022-05-19T08:44:53.893812Z"
    }
   },
   "outputs": [
    {
     "data": {
      "image/svg+xml": [
       "<?xml version=\"1.0\" encoding=\"UTF-8\" standalone=\"no\"?><svg xmlns=\"http://www.w3.org/2000/svg\" xmlns:xlink=\"http://www.w3.org/1999/xlink\" contentScriptType=\"application/ecmascript\" contentStyleType=\"text/css\" height=\"261px\" preserveAspectRatio=\"none\" style=\"width:351px;height:261px;\" version=\"1.1\" viewBox=\"0 0 351 261\" width=\"351px\" zoomAndPan=\"magnify\"><defs/><g><!--MD5=[fbc87193dbaf4d95561dea2c320d4a47]\n",
       "cluster E1--><a href=\"psysml:2524e1ec-43b2-4dd4-b81d-385c3decebbf\" target=\"_top\" title=\"psysml:2524e1ec-43b2-4dd4-b81d-385c3decebbf\" xlink:actuate=\"onRequest\" xlink:href=\"psysml:2524e1ec-43b2-4dd4-b81d-385c3decebbf\" xlink:show=\"new\" xlink:title=\"psysml:2524e1ec-43b2-4dd4-b81d-385c3decebbf\" xlink:type=\"simple\"><polygon fill=\"#FFFFFF\" points=\"16,6,210,6,217,28.2969,329,28.2969,329,249.5,16,249.5,16,6\" style=\"stroke: #000000; stroke-width: 1.5;\"/><line style=\"stroke: #000000; stroke-width: 1.5;\" x1=\"16\" x2=\"217\" y1=\"28.2969\" y2=\"28.2969\"/><text fill=\"#000000\" font-family=\"sans-serif\" font-size=\"14\" font-weight=\"bold\" lengthAdjust=\"spacingAndGlyphs\" textLength=\"188\" x=\"20\" y=\"20.9951\">TextualRepresentationTest</text></a><!--MD5=[f6df4d0ebaf0b5dfb2ced0ae5af7c670]\n",
       "cluster E4--><a href=\"psysml:fdd44db5-2b71-42e4-a6cb-0126cd22309d\" target=\"_top\" title=\"psysml:fdd44db5-2b71-42e4-a6cb-0126cd22309d\" xlink:actuate=\"onRequest\" xlink:href=\"psysml:fdd44db5-2b71-42e4-a6cb-0126cd22309d\" xlink:show=\"new\" xlink:title=\"psysml:fdd44db5-2b71-42e4-a6cb-0126cd22309d\" xlink:type=\"simple\"><rect fill=\"#FFFFFF\" height=\"154.5\" id=\"E4\" style=\"stroke: #383838; stroke-width: 1.5;\" width=\"134\" x=\"179\" y=\"79\"/><rect fill=\"#F8F8F8\" height=\"37.9375\" style=\"stroke: #383838; stroke-width: 1.5;\" width=\"134\" x=\"179\" y=\"79\"/><text fill=\"#000000\" font-family=\"sans-serif\" font-size=\"12\" font-style=\"italic\" lengthAdjust=\"spacingAndGlyphs\" textLength=\"81\" x=\"205.5\" y=\"95.1387\">«action  def»</text><text fill=\"#000000\" font-family=\"sans-serif\" font-size=\"12\" lengthAdjust=\"spacingAndGlyphs\" textLength=\"27\" x=\"232.5\" y=\"109.1074\">setX</text></a><!--MD5=[b4997ac47864f28c2f74865a473b2911]\n",
       "class E2--><a href=\"psysml:9149846c-b557-44f1-bb03-13041676b872\" target=\"_top\" title=\"psysml:9149846c-b557-44f1-bb03-13041676b872\" xlink:actuate=\"onRequest\" xlink:href=\"psysml:9149846c-b557-44f1-bb03-13041676b872\" xlink:show=\"new\" xlink:title=\"psysml:9149846c-b557-44f1-bb03-13041676b872\" xlink:type=\"simple\"><rect fill=\"#FFFFFF\" height=\"75.5469\" id=\"E2\" style=\"stroke: #383838; stroke-width: 1.5;\" width=\"71\" x=\"58.5\" y=\"41\"/><text fill=\"#000000\" font-family=\"sans-serif\" font-size=\"12\" font-style=\"italic\" lengthAdjust=\"spacingAndGlyphs\" textLength=\"69\" x=\"59.5\" y=\"57.1387\">«item  def»</text><text fill=\"#000000\" font-family=\"sans-serif\" font-size=\"12\" lengthAdjust=\"spacingAndGlyphs\" textLength=\"8\" x=\"90\" y=\"71.1074\">C</text><line style=\"stroke: #383838; stroke-width: 1.5;\" x1=\"59.5\" x2=\"128.5\" y1=\"78.9375\" y2=\"78.9375\"/><text fill=\"#000000\" font-family=\"sans-serif\" font-size=\"11\" lengthAdjust=\"spacingAndGlyphs\" textLength=\"38\" x=\"64.5\" y=\"109.9526\">x: Real</text><line style=\"stroke: #383838; stroke-width: 1.0;\" x1=\"59.5\" x2=\"66.5\" y1=\"93.3398\" y2=\"93.3398\"/><text fill=\"#000000\" font-family=\"sans-serif\" font-size=\"11\" lengthAdjust=\"spacingAndGlyphs\" textLength=\"55\" x=\"66.5\" y=\"96.6479\">attributes</text><line style=\"stroke: #383838; stroke-width: 1.0;\" x1=\"121.5\" x2=\"128.5\" y1=\"93.3398\" y2=\"93.3398\"/></a><!--MD5=[09b614a08d8cba4a07c9adeb5e0fee81]\n",
       "class E3--><a href=\"psysml:d102dace-404f-4787-94a0-7dab0b8761ce\" target=\"_top\" title=\"psysml:d102dace-404f-4787-94a0-7dab0b8761ce\" xlink:actuate=\"onRequest\" xlink:href=\"psysml:d102dace-404f-4787-94a0-7dab0b8761ce\" xlink:show=\"new\" xlink:title=\"psysml:d102dace-404f-4787-94a0-7dab0b8761ce\" xlink:type=\"simple\"><rect fill=\"#FFFFFF\" height=\"45.9375\" id=\"E3\" rx=\"10\" ry=\"10\" style=\"stroke: #383838; stroke-width: 1.5;\" width=\"124\" x=\"32\" y=\"177\"/><text fill=\"#000000\" font-family=\"sans-serif\" font-size=\"12\" font-style=\"italic\" lengthAdjust=\"spacingAndGlyphs\" textLength=\"122\" x=\"33\" y=\"193.1387\">«assert constraint»</text><text fill=\"#000000\" font-family=\"sans-serif\" font-size=\"12\" lengthAdjust=\"spacingAndGlyphs\" textLength=\"76\" x=\"54\" y=\"207.1074\">x_constraint</text><line style=\"stroke: #383838; stroke-width: 1.5;\" x1=\"33\" x2=\"155\" y1=\"214.9375\" y2=\"214.9375\"/></a><text fill=\"#000000\" font-family=\"sans-serif\" font-size=\"14\" lengthAdjust=\"spacingAndGlyphs\" textLength=\"8\" x=\"193\" y=\"57.6982\">c</text><rect fill=\"#383838\" height=\"12\" style=\"stroke: #F8F8F8; stroke-width: 1.5;\" width=\"12\" x=\"191\" y=\"73\"/><text fill=\"#000000\" font-family=\"sans-serif\" font-size=\"14\" lengthAdjust=\"spacingAndGlyphs\" textLength=\"38\" x=\"225\" y=\"57.6982\">newX</text><rect fill=\"#383838\" height=\"12\" style=\"stroke: #F8F8F8; stroke-width: 1.5;\" width=\"12\" x=\"238\" y=\"73\"/><!--MD5=[209b3feb70ccb6233bfe1053d122c12c]\n",
       "reverse link E2 to E3--><a href=\"psysml:0da81c8f-97bb-41c6-9a60-156bc4c734f4\" target=\"_top\" title=\"psysml:0da81c8f-97bb-41c6-9a60-156bc4c734f4\" xlink:actuate=\"onRequest\" xlink:href=\"psysml:0da81c8f-97bb-41c6-9a60-156bc4c734f4\" xlink:show=\"new\" xlink:title=\"psysml:0da81c8f-97bb-41c6-9a60-156bc4c734f4\" xlink:type=\"simple\"><path d=\"M94,130.34 C94,146.61 94,163.81 94,176.93 \" fill=\"none\" id=\"E2&lt;-E3\" style=\"stroke: #383838; stroke-width: 1.0;\"/><polygon fill=\"#383838\" points=\"94,117,90,123,94,129,98,123,94,117\" style=\"stroke: #383838; stroke-width: 1.0;\"/><text fill=\"#000000\" font-family=\"sans-serif\" font-size=\"13\" lengthAdjust=\"spacingAndGlyphs\" textLength=\"7\" x=\"86.0594\" y=\"165.8075\">*</text></a><!--MD5=[ad9332c02ffeedf8e47ea9646672913b]\n",
       "@startuml\r\n",
       "skinparam linetype polyline\r\n",
       "skinparam monochrome true\r\n",
       "skinparam classbackgroundcolor white\r\n",
       "skinparam shadowing false\r\n",
       "skinparam wrapWidth 300\r\n",
       "hide circle\r\n",
       "\r\n",
       "package \"TextualRepresentationTest\" as E1  [[psysml:2524e1ec-43b2-4dd4-b81d-385c3decebbf ]]  {\r\n",
       "comp def \"C\" as E2  <<(T,blue) item  def>> [[psysml:9149846c-b557-44f1-bb03-13041676b872 ]] {\r\n",
       "- - attributes - -\r\n",
       "x: Real\r\n",
       "}\r\n",
       "comp usage \"x_constraint \" as E3  <<(T,blue) assert constraint>> [[psysml:d102dace-404f-4787-94a0-7dab0b8761ce ]] {\r\n",
       "}\r\n",
       "rec def \"setX\" as E4  <<(T,blue) action  def>> [[psysml:fdd44db5-2b71-42e4-a6cb-0126cd22309d ]] {\r\n",
       "portin \"c\" as E5  [[psysml:70c0b2f6-f79a-4e90-a3c9-a244a9735aa8 ]] \r\n",
       "portin \"newX\" as E6  [[psysml:4245f76d-31bb-4c80-8014-7bc1277d6e35 ]] \r\n",
       "}\r\n",
       "\r\n",
       "}\r\n",
       "E2 *- - \"*\"E3 [[psysml:0da81c8f-97bb-41c6-9a60-156bc4c734f4 ]] \r\n",
       "@enduml\r\n",
       "\n",
       "PlantUML version 1.2020.13(Sat Jun 13 12:26:38 UTC 2020)\n",
       "(EPL source distribution)\n",
       "Java Runtime: OpenJDK Runtime Environment\n",
       "JVM: OpenJDK 64-Bit Server VM\n",
       "Default Encoding: UTF-8\n",
       "Language: en\n",
       "Country: null\n",
       "--></g></svg>"
      ]
     },
     "execution_count": 15,
     "metadata": {},
     "output_type": "execute_result"
    }
   ],
   "source": [
    "%viz --style=\"POLYLINE\" --view=\"MIXED\" \"TextualRepresentationTest\""
   ]
  },
  {
   "cell_type": "code",
   "execution_count": 16,
   "id": "5aa84b9d",
   "metadata": {
    "execution": {
     "iopub.execute_input": "2022-05-19T08:44:53.945105Z",
     "iopub.status.busy": "2022-05-19T08:44:53.944558Z",
     "iopub.status.idle": "2022-05-19T08:44:53.996958Z",
     "shell.execute_reply": "2022-05-19T08:44:53.996541Z"
    }
   },
   "outputs": [
    {
     "data": {
      "image/svg+xml": [
       "<?xml version=\"1.0\" encoding=\"UTF-8\" standalone=\"no\"?><svg xmlns=\"http://www.w3.org/2000/svg\" xmlns:xlink=\"http://www.w3.org/1999/xlink\" contentScriptType=\"application/ecmascript\" contentStyleType=\"text/css\" height=\"247px\" preserveAspectRatio=\"none\" style=\"width:332px;height:247px;\" version=\"1.1\" viewBox=\"0 0 332 247\" width=\"332px\" zoomAndPan=\"magnify\"><defs/><g><!--MD5=[fbc87193dbaf4d95561dea2c320d4a47]\n",
       "cluster E1--><a href=\"psysml:2524e1ec-43b2-4dd4-b81d-385c3decebbf\" target=\"_top\" title=\"psysml:2524e1ec-43b2-4dd4-b81d-385c3decebbf\" xlink:actuate=\"onRequest\" xlink:href=\"psysml:2524e1ec-43b2-4dd4-b81d-385c3decebbf\" xlink:show=\"new\" xlink:title=\"psysml:2524e1ec-43b2-4dd4-b81d-385c3decebbf\" xlink:type=\"simple\"><polygon fill=\"#FFFFFF\" points=\"16,6,210,6,217,28.2969,310,28.2969,310,235,16,235,16,6\" style=\"stroke: #000000; stroke-width: 1.5;\"/><line style=\"stroke: #000000; stroke-width: 1.5;\" x1=\"16\" x2=\"217\" y1=\"28.2969\" y2=\"28.2969\"/><text fill=\"#000000\" font-family=\"sans-serif\" font-size=\"14\" font-weight=\"bold\" lengthAdjust=\"spacingAndGlyphs\" textLength=\"188\" x=\"20\" y=\"20.9951\">TextualRepresentationTest</text></a><!--MD5=[f6df4d0ebaf0b5dfb2ced0ae5af7c670]\n",
       "cluster E4--><a href=\"psysml:fdd44db5-2b71-42e4-a6cb-0126cd22309d\" target=\"_top\" title=\"psysml:fdd44db5-2b71-42e4-a6cb-0126cd22309d\" xlink:actuate=\"onRequest\" xlink:href=\"psysml:fdd44db5-2b71-42e4-a6cb-0126cd22309d\" xlink:show=\"new\" xlink:title=\"psysml:fdd44db5-2b71-42e4-a6cb-0126cd22309d\" xlink:type=\"simple\"><rect fill=\"#FFFFFF\" height=\"47\" id=\"E4\" style=\"stroke: #383838; stroke-width: 1.5;\" width=\"244.5\" x=\"49.5\" y=\"55\"/><rect fill=\"#F8F8F8\" height=\"37.9375\" style=\"stroke: #383838; stroke-width: 1.5;\" width=\"244.5\" x=\"49.5\" y=\"55\"/><text fill=\"#000000\" font-family=\"sans-serif\" font-size=\"12\" font-style=\"italic\" lengthAdjust=\"spacingAndGlyphs\" textLength=\"81\" x=\"131.25\" y=\"71.1387\">«action  def»</text><text fill=\"#000000\" font-family=\"sans-serif\" font-size=\"12\" lengthAdjust=\"spacingAndGlyphs\" textLength=\"27\" x=\"158.25\" y=\"85.1074\">setX</text></a><!--MD5=[b4997ac47864f28c2f74865a473b2911]\n",
       "class E2--><a href=\"psysml:9149846c-b557-44f1-bb03-13041676b872\" target=\"_top\" title=\"psysml:9149846c-b557-44f1-bb03-13041676b872\" xlink:actuate=\"onRequest\" xlink:href=\"psysml:9149846c-b557-44f1-bb03-13041676b872\" xlink:show=\"new\" xlink:title=\"psysml:9149846c-b557-44f1-bb03-13041676b872\" xlink:type=\"simple\"><rect fill=\"#FFFFFF\" height=\"75.5469\" id=\"E2\" style=\"stroke: #383838; stroke-width: 1.5;\" width=\"71\" x=\"32\" y=\"143\"/><text fill=\"#000000\" font-family=\"sans-serif\" font-size=\"12\" font-style=\"italic\" lengthAdjust=\"spacingAndGlyphs\" textLength=\"69\" x=\"33\" y=\"159.1387\">«item  def»</text><text fill=\"#000000\" font-family=\"sans-serif\" font-size=\"12\" lengthAdjust=\"spacingAndGlyphs\" textLength=\"8\" x=\"63.5\" y=\"173.1074\">C</text><line style=\"stroke: #383838; stroke-width: 1.5;\" x1=\"33\" x2=\"102\" y1=\"180.9375\" y2=\"180.9375\"/><text fill=\"#000000\" font-family=\"sans-serif\" font-size=\"11\" lengthAdjust=\"spacingAndGlyphs\" textLength=\"38\" x=\"38\" y=\"211.9526\">x: Real</text><line style=\"stroke: #383838; stroke-width: 1.0;\" x1=\"33\" x2=\"40\" y1=\"195.3398\" y2=\"195.3398\"/><text fill=\"#000000\" font-family=\"sans-serif\" font-size=\"11\" lengthAdjust=\"spacingAndGlyphs\" textLength=\"55\" x=\"40\" y=\"198.6479\">attributes</text><line style=\"stroke: #383838; stroke-width: 1.0;\" x1=\"95\" x2=\"102\" y1=\"195.3398\" y2=\"195.3398\"/></a><!--MD5=[09b614a08d8cba4a07c9adeb5e0fee81]\n",
       "class E3--><a href=\"psysml:d102dace-404f-4787-94a0-7dab0b8761ce\" target=\"_top\" title=\"psysml:d102dace-404f-4787-94a0-7dab0b8761ce\" xlink:actuate=\"onRequest\" xlink:href=\"psysml:d102dace-404f-4787-94a0-7dab0b8761ce\" xlink:show=\"new\" xlink:title=\"psysml:d102dace-404f-4787-94a0-7dab0b8761ce\" xlink:type=\"simple\"><rect fill=\"#FFFFFF\" height=\"45.9375\" id=\"E3\" rx=\"10\" ry=\"10\" style=\"stroke: #383838; stroke-width: 1.5;\" width=\"124\" x=\"163\" y=\"158\"/><text fill=\"#000000\" font-family=\"sans-serif\" font-size=\"12\" font-style=\"italic\" lengthAdjust=\"spacingAndGlyphs\" textLength=\"122\" x=\"164\" y=\"174.1387\">«assert constraint»</text><text fill=\"#000000\" font-family=\"sans-serif\" font-size=\"12\" lengthAdjust=\"spacingAndGlyphs\" textLength=\"76\" x=\"185\" y=\"188.1074\">x_constraint</text><line style=\"stroke: #383838; stroke-width: 1.5;\" x1=\"164\" x2=\"286\" y1=\"195.9375\" y2=\"195.9375\"/></a><text fill=\"#000000\" font-family=\"sans-serif\" font-size=\"14\" lengthAdjust=\"spacingAndGlyphs\" textLength=\"8\" x=\"63.5\" y=\"120.9951\">c</text><rect fill=\"#383838\" height=\"12\" style=\"stroke: #F8F8F8; stroke-width: 1.5;\" width=\"12\" x=\"61.5\" y=\"96\"/><text fill=\"#000000\" font-family=\"sans-serif\" font-size=\"14\" lengthAdjust=\"spacingAndGlyphs\" textLength=\"38\" x=\"48.5\" y=\"33.6982\">newX</text><rect fill=\"#383838\" height=\"12\" style=\"stroke: #F8F8F8; stroke-width: 1.5;\" width=\"12\" x=\"61.5\" y=\"49\"/><!--MD5=[209b3feb70ccb6233bfe1053d122c12c]\n",
       "reverse link E2 to E3--><a href=\"psysml:0da81c8f-97bb-41c6-9a60-156bc4c734f4\" target=\"_top\" title=\"psysml:0da81c8f-97bb-41c6-9a60-156bc4c734f4\" xlink:actuate=\"onRequest\" xlink:href=\"psysml:0da81c8f-97bb-41c6-9a60-156bc4c734f4\" xlink:show=\"new\" xlink:title=\"psysml:0da81c8f-97bb-41c6-9a60-156bc4c734f4\" xlink:type=\"simple\"><path d=\"M116.04,181 C130.85,181 147.38,181 162.98,181 \" fill=\"none\" id=\"E2&lt;-E3\" style=\"stroke: #383838; stroke-width: 1.0;\"/><polygon fill=\"#383838\" points=\"103.01,181,109.01,185,115.01,181,109.01,177,103.01,181\" style=\"stroke: #383838; stroke-width: 1.0;\"/><text fill=\"#000000\" font-family=\"sans-serif\" font-size=\"13\" lengthAdjust=\"spacingAndGlyphs\" textLength=\"7\" x=\"147.9947\" y=\"193.9929\">*</text></a><!--MD5=[735c84f3bf98d1eefd00934bfd34ae80]\n",
       "@startuml\r\n",
       "left to right direction\r\n",
       "skinparam monochrome true\r\n",
       "skinparam classbackgroundcolor white\r\n",
       "skinparam shadowing false\r\n",
       "skinparam wrapWidth 300\r\n",
       "hide circle\r\n",
       "\r\n",
       "package \"TextualRepresentationTest\" as E1  [[psysml:2524e1ec-43b2-4dd4-b81d-385c3decebbf ]]  {\r\n",
       "comp def \"C\" as E2  <<(T,blue) item  def>> [[psysml:9149846c-b557-44f1-bb03-13041676b872 ]] {\r\n",
       "- - attributes - -\r\n",
       "x: Real\r\n",
       "}\r\n",
       "comp usage \"x_constraint \" as E3  <<(T,blue) assert constraint>> [[psysml:d102dace-404f-4787-94a0-7dab0b8761ce ]] {\r\n",
       "}\r\n",
       "rec def \"setX\" as E4  <<(T,blue) action  def>> [[psysml:fdd44db5-2b71-42e4-a6cb-0126cd22309d ]] {\r\n",
       "portin \"c\" as E5  [[psysml:70c0b2f6-f79a-4e90-a3c9-a244a9735aa8 ]] \r\n",
       "portin \"newX\" as E6  [[psysml:4245f76d-31bb-4c80-8014-7bc1277d6e35 ]] \r\n",
       "}\r\n",
       "\r\n",
       "}\r\n",
       "E2 *- - \"*\"E3 [[psysml:0da81c8f-97bb-41c6-9a60-156bc4c734f4 ]] \r\n",
       "@enduml\r\n",
       "\n",
       "PlantUML version 1.2020.13(Sat Jun 13 12:26:38 UTC 2020)\n",
       "(EPL source distribution)\n",
       "Java Runtime: OpenJDK Runtime Environment\n",
       "JVM: OpenJDK 64-Bit Server VM\n",
       "Default Encoding: UTF-8\n",
       "Language: en\n",
       "Country: null\n",
       "--></g></svg>"
      ]
     },
     "execution_count": 16,
     "metadata": {},
     "output_type": "execute_result"
    }
   ],
   "source": [
    "%viz --style=\"LR\" --view=\"Default\" \"TextualRepresentationTest\""
   ]
  },
  {
   "cell_type": "code",
   "execution_count": 17,
   "id": "f5887943",
   "metadata": {
    "execution": {
     "iopub.execute_input": "2022-05-19T08:44:54.047130Z",
     "iopub.status.busy": "2022-05-19T08:44:54.046550Z",
     "iopub.status.idle": "2022-05-19T08:44:54.085987Z",
     "shell.execute_reply": "2022-05-19T08:44:54.084025Z"
    }
   },
   "outputs": [
    {
     "data": {
      "image/svg+xml": [
       "<?xml version=\"1.0\" encoding=\"UTF-8\" standalone=\"no\"?><svg xmlns=\"http://www.w3.org/2000/svg\" xmlns:xlink=\"http://www.w3.org/1999/xlink\" contentScriptType=\"application/ecmascript\" contentStyleType=\"text/css\" height=\"145px\" preserveAspectRatio=\"none\" style=\"width:478px;height:145px;\" version=\"1.1\" viewBox=\"0 0 478 145\" width=\"478px\" zoomAndPan=\"magnify\"><defs/><g><!--MD5=[fbc87193dbaf4d95561dea2c320d4a47]\n",
       "cluster E1--><a href=\"psysml:2524e1ec-43b2-4dd4-b81d-385c3decebbf\" target=\"_top\" title=\"psysml:2524e1ec-43b2-4dd4-b81d-385c3decebbf\" xlink:actuate=\"onRequest\" xlink:href=\"psysml:2524e1ec-43b2-4dd4-b81d-385c3decebbf\" xlink:show=\"new\" xlink:title=\"psysml:2524e1ec-43b2-4dd4-b81d-385c3decebbf\" xlink:type=\"simple\"><polygon fill=\"#FFFFFF\" points=\"16,6,210,6,217,28.2969,456,28.2969,456,133,16,133,16,6\" style=\"stroke: #000000; stroke-width: 1.5;\"/><line style=\"stroke: #000000; stroke-width: 1.5;\" x1=\"16\" x2=\"217\" y1=\"28.2969\" y2=\"28.2969\"/><text fill=\"#000000\" font-family=\"sans-serif\" font-size=\"14\" font-weight=\"bold\" lengthAdjust=\"spacingAndGlyphs\" textLength=\"188\" x=\"20\" y=\"20.9951\">TextualRepresentationTest</text></a><!--MD5=[b4997ac47864f28c2f74865a473b2911]\n",
       "class E2--><a href=\"psysml:9149846c-b557-44f1-bb03-13041676b872\" target=\"_top\" title=\"psysml:9149846c-b557-44f1-bb03-13041676b872\" xlink:actuate=\"onRequest\" xlink:href=\"psysml:9149846c-b557-44f1-bb03-13041676b872\" xlink:show=\"new\" xlink:title=\"psysml:9149846c-b557-44f1-bb03-13041676b872\" xlink:type=\"simple\"><rect fill=\"#FFFFFF\" height=\"75.5469\" id=\"E2\" style=\"stroke: #383838; stroke-width: 1.5;\" width=\"71\" x=\"184\" y=\"41\"/><text fill=\"#000000\" font-family=\"sans-serif\" font-size=\"12\" font-style=\"italic\" lengthAdjust=\"spacingAndGlyphs\" textLength=\"69\" x=\"185\" y=\"57.1387\">«item  def»</text><text fill=\"#000000\" font-family=\"sans-serif\" font-size=\"12\" lengthAdjust=\"spacingAndGlyphs\" textLength=\"8\" x=\"215.5\" y=\"71.1074\">C</text><line style=\"stroke: #383838; stroke-width: 1.5;\" x1=\"185\" x2=\"254\" y1=\"78.9375\" y2=\"78.9375\"/><text fill=\"#000000\" font-family=\"sans-serif\" font-size=\"11\" lengthAdjust=\"spacingAndGlyphs\" textLength=\"38\" x=\"190\" y=\"109.9526\">x: Real</text><line style=\"stroke: #383838; stroke-width: 1.0;\" x1=\"185\" x2=\"192\" y1=\"93.3398\" y2=\"93.3398\"/><text fill=\"#000000\" font-family=\"sans-serif\" font-size=\"11\" lengthAdjust=\"spacingAndGlyphs\" textLength=\"55\" x=\"192\" y=\"96.6479\">attributes</text><line style=\"stroke: #383838; stroke-width: 1.0;\" x1=\"247\" x2=\"254\" y1=\"93.3398\" y2=\"93.3398\"/></a><!--MD5=[09b614a08d8cba4a07c9adeb5e0fee81]\n",
       "class E3--><a href=\"psysml:d102dace-404f-4787-94a0-7dab0b8761ce\" target=\"_top\" title=\"psysml:d102dace-404f-4787-94a0-7dab0b8761ce\" xlink:actuate=\"onRequest\" xlink:href=\"psysml:d102dace-404f-4787-94a0-7dab0b8761ce\" xlink:show=\"new\" xlink:title=\"psysml:d102dace-404f-4787-94a0-7dab0b8761ce\" xlink:type=\"simple\"><rect fill=\"#FFFFFF\" height=\"45.9375\" id=\"E3\" rx=\"10\" ry=\"10\" style=\"stroke: #383838; stroke-width: 1.5;\" width=\"124\" x=\"316\" y=\"56\"/><text fill=\"#000000\" font-family=\"sans-serif\" font-size=\"12\" font-style=\"italic\" lengthAdjust=\"spacingAndGlyphs\" textLength=\"122\" x=\"317\" y=\"72.1387\">«assert constraint»</text><text fill=\"#000000\" font-family=\"sans-serif\" font-size=\"12\" lengthAdjust=\"spacingAndGlyphs\" textLength=\"76\" x=\"338\" y=\"86.1074\">x_constraint</text><line style=\"stroke: #383838; stroke-width: 1.5;\" x1=\"317\" x2=\"439\" y1=\"93.9375\" y2=\"93.9375\"/></a><!--MD5=[ebbe1d658d1005bcc118a6aa81145e00]\n",
       "class E4--><a href=\"psysml:fdd44db5-2b71-42e4-a6cb-0126cd22309d\" target=\"_top\" title=\"psysml:fdd44db5-2b71-42e4-a6cb-0126cd22309d\" xlink:actuate=\"onRequest\" xlink:href=\"psysml:fdd44db5-2b71-42e4-a6cb-0126cd22309d\" xlink:show=\"new\" xlink:title=\"psysml:fdd44db5-2b71-42e4-a6cb-0126cd22309d\" xlink:type=\"simple\"><rect fill=\"#FFFFFF\" height=\"45.9375\" id=\"E4\" style=\"stroke: #383838; stroke-width: 1.5;\" width=\"83\" x=\"32\" y=\"56\"/><text fill=\"#000000\" font-family=\"sans-serif\" font-size=\"12\" font-style=\"italic\" lengthAdjust=\"spacingAndGlyphs\" textLength=\"81\" x=\"33\" y=\"72.1387\">«action  def»</text><text fill=\"#000000\" font-family=\"sans-serif\" font-size=\"12\" lengthAdjust=\"spacingAndGlyphs\" textLength=\"27\" x=\"60\" y=\"86.1074\">setX</text><line style=\"stroke: #383838; stroke-width: 1.5;\" x1=\"33\" x2=\"114\" y1=\"93.9375\" y2=\"93.9375\"/></a><!--MD5=[209b3feb70ccb6233bfe1053d122c12c]\n",
       "reverse link E2 to E3--><a href=\"psysml:0da81c8f-97bb-41c6-9a60-156bc4c734f4\" target=\"_top\" title=\"psysml:0da81c8f-97bb-41c6-9a60-156bc4c734f4\" xlink:actuate=\"onRequest\" xlink:href=\"psysml:0da81c8f-97bb-41c6-9a60-156bc4c734f4\" xlink:show=\"new\" xlink:title=\"psysml:0da81c8f-97bb-41c6-9a60-156bc4c734f4\" xlink:type=\"simple\"><path d=\"M268.42,79 C283.4,79 300.14,79 315.9,79 \" fill=\"none\" id=\"E2&lt;-E3\" style=\"stroke: #383838; stroke-width: 1.0;\"/><polygon fill=\"#383838\" points=\"255.23,79,261.23,83,267.23,79,261.23,75,255.23,79\" style=\"stroke: #383838; stroke-width: 1.0;\"/><text fill=\"#000000\" font-family=\"sans-serif\" font-size=\"13\" lengthAdjust=\"spacingAndGlyphs\" textLength=\"7\" x=\"300.905\" y=\"91.9929\">*</text></a><!--MD5=[ddeed8deb2209213b62e6cfabaa108b2]\n",
       "reverse link E4 to E2--><a href=\"psysml:70c0b2f6-f79a-4e90-a3c9-a244a9735aa8\" target=\"_top\" title=\"psysml:70c0b2f6-f79a-4e90-a3c9-a244a9735aa8\" xlink:actuate=\"onRequest\" xlink:href=\"psysml:70c0b2f6-f79a-4e90-a3c9-a244a9735aa8\" xlink:show=\"new\" xlink:title=\"psysml:70c0b2f6-f79a-4e90-a3c9-a244a9735aa8\" xlink:type=\"simple\"><path d=\"M128.5,79 C147.04,79 167.28,79 183.86,79 \" fill=\"none\" id=\"E4&lt;-E2\" style=\"stroke: #383838; stroke-width: 1.0;\"/><polygon fill=\"#FFFFFF\" points=\"115.38,79,121.38,83,127.38,79,121.38,75,115.38,79\" style=\"stroke: #383838; stroke-width: 1.0;\"/><text fill=\"#000000\" font-family=\"sans-serif\" font-size=\"13\" lengthAdjust=\"spacingAndGlyphs\" textLength=\"7\" x=\"146\" y=\"75.0669\">c</text></a><!--MD5=[a99b43d0f5572861704782ab82d11ab7]\n",
       "@startuml\r\n",
       "left to right direction\r\n",
       "skinparam monochrome true\r\n",
       "skinparam classbackgroundcolor white\r\n",
       "skinparam shadowing false\r\n",
       "skinparam wrapWidth 300\r\n",
       "hide circle\r\n",
       "\r\n",
       "package \"TextualRepresentationTest\" as E1  [[psysml:2524e1ec-43b2-4dd4-b81d-385c3decebbf ]]  {\r\n",
       "comp def \"C\" as E2  <<(T,blue) item  def>> [[psysml:9149846c-b557-44f1-bb03-13041676b872 ]] {\r\n",
       "- - attributes - -\r\n",
       "x: Real\r\n",
       "}\r\n",
       "comp usage \"x_constraint \" as E3  <<(T,blue) assert constraint>> [[psysml:d102dace-404f-4787-94a0-7dab0b8761ce ]] {\r\n",
       "}\r\n",
       "comp def \"setX\" as E4  <<(T,blue) action  def>> [[psysml:fdd44db5-2b71-42e4-a6cb-0126cd22309d ]] {\r\n",
       "}\r\n",
       "}\r\n",
       "E2 *- - \"*\"E3 [[psysml:0da81c8f-97bb-41c6-9a60-156bc4c734f4 ]] \r\n",
       "E4 o- - E2 [[psysml:70c0b2f6-f79a-4e90-a3c9-a244a9735aa8 ]] : c\r\n",
       "@enduml\r\n",
       "\n",
       "PlantUML version 1.2020.13(Sat Jun 13 12:26:38 UTC 2020)\n",
       "(EPL source distribution)\n",
       "Java Runtime: OpenJDK Runtime Environment\n",
       "JVM: OpenJDK 64-Bit Server VM\n",
       "Default Encoding: UTF-8\n",
       "Language: en\n",
       "Country: null\n",
       "--></g></svg>"
      ]
     },
     "execution_count": 17,
     "metadata": {},
     "output_type": "execute_result"
    }
   ],
   "source": [
    "%viz --style=\"LR\" --view=\"Tree\" \"TextualRepresentationTest\""
   ]
  },
  {
   "cell_type": "code",
   "execution_count": 18,
   "id": "fa78438f",
   "metadata": {
    "execution": {
     "iopub.execute_input": "2022-05-19T08:44:54.134881Z",
     "iopub.status.busy": "2022-05-19T08:44:54.134404Z",
     "iopub.status.idle": "2022-05-19T08:44:54.139655Z",
     "shell.execute_reply": "2022-05-19T08:44:54.139978Z"
    }
   },
   "outputs": [
    {
     "data": {
      "image/svg+xml": [
       "<?xml version=\"1.0\" encoding=\"UTF-8\" standalone=\"no\"?><svg xmlns=\"http://www.w3.org/2000/svg\" xmlns:xlink=\"http://www.w3.org/1999/xlink\" contentScriptType=\"application/ecmascript\" contentStyleType=\"text/css\" height=\"12px\" preserveAspectRatio=\"none\" style=\"width:12px;height:12px;\" version=\"1.1\" viewBox=\"0 0 12 12\" width=\"12px\" zoomAndPan=\"magnify\"><defs/><g><!--MD5=[19d285c9d72a204eba4e2cd117d745e8]\n",
       "@startuml\r\n",
       "left to right direction\r\n",
       "skinparam monochrome true\r\n",
       "skinparam classbackgroundcolor white\r\n",
       "skinparam shadowing false\r\n",
       "skinparam wrapWidth 300\r\n",
       "hide circle\r\n",
       "\r\n",
       "@enduml\r\n",
       "\n",
       "PlantUML version 1.2020.13(Sat Jun 13 12:26:38 UTC 2020)\n",
       "(EPL source distribution)\n",
       "Java Runtime: OpenJDK Runtime Environment\n",
       "JVM: OpenJDK 64-Bit Server VM\n",
       "Default Encoding: UTF-8\n",
       "Language: en\n",
       "Country: null\n",
       "--></g></svg>"
      ]
     },
     "execution_count": 18,
     "metadata": {},
     "output_type": "execute_result"
    }
   ],
   "source": [
    "%viz --style=\"LR\" --view=\"State\" \"TextualRepresentationTest\""
   ]
  },
  {
   "cell_type": "code",
   "execution_count": 19,
   "id": "c13cb850",
   "metadata": {
    "execution": {
     "iopub.execute_input": "2022-05-19T08:44:54.190298Z",
     "iopub.status.busy": "2022-05-19T08:44:54.189748Z",
     "iopub.status.idle": "2022-05-19T08:44:54.219528Z",
     "shell.execute_reply": "2022-05-19T08:44:54.219096Z"
    }
   },
   "outputs": [
    {
     "data": {
      "image/svg+xml": [
       "<?xml version=\"1.0\" encoding=\"UTF-8\" standalone=\"no\"?><svg xmlns=\"http://www.w3.org/2000/svg\" xmlns:xlink=\"http://www.w3.org/1999/xlink\" contentScriptType=\"application/ecmascript\" contentStyleType=\"text/css\" height=\"215px\" preserveAspectRatio=\"none\" style=\"width:284px;height:215px;\" version=\"1.1\" viewBox=\"0 0 284 215\" width=\"284px\" zoomAndPan=\"magnify\"><defs/><g><!--MD5=[fbc87193dbaf4d95561dea2c320d4a47]\n",
       "cluster E1--><a href=\"psysml:2524e1ec-43b2-4dd4-b81d-385c3decebbf\" target=\"_top\" title=\"psysml:2524e1ec-43b2-4dd4-b81d-385c3decebbf\" xlink:actuate=\"onRequest\" xlink:href=\"psysml:2524e1ec-43b2-4dd4-b81d-385c3decebbf\" xlink:show=\"new\" xlink:title=\"psysml:2524e1ec-43b2-4dd4-b81d-385c3decebbf\" xlink:type=\"simple\"><polygon fill=\"#FFFFFF\" points=\"16,6,210,6,217,28.2969,262,28.2969,262,203,16,203,16,6\" style=\"stroke: #000000; stroke-width: 1.5;\"/><line style=\"stroke: #000000; stroke-width: 1.5;\" x1=\"16\" x2=\"217\" y1=\"28.2969\" y2=\"28.2969\"/><text fill=\"#000000\" font-family=\"sans-serif\" font-size=\"14\" font-weight=\"bold\" lengthAdjust=\"spacingAndGlyphs\" textLength=\"188\" x=\"20\" y=\"20.9951\">TextualRepresentationTest</text></a><!--MD5=[d5e69f78d87373223dbae638b30a9c99]\n",
       "cluster E3--><a href=\"psysml:fdd44db5-2b71-42e4-a6cb-0126cd22309d\" target=\"_top\" title=\"psysml:fdd44db5-2b71-42e4-a6cb-0126cd22309d\" xlink:actuate=\"onRequest\" xlink:href=\"psysml:fdd44db5-2b71-42e4-a6cb-0126cd22309d\" xlink:show=\"new\" xlink:title=\"psysml:fdd44db5-2b71-42e4-a6cb-0126cd22309d\" xlink:type=\"simple\"><rect fill=\"#FFFFFF\" height=\"47\" id=\"E3\" style=\"stroke: #383838; stroke-width: 1.5;\" width=\"194\" x=\"52\" y=\"55\"/><rect fill=\"#F8F8F8\" height=\"37.9375\" style=\"stroke: #383838; stroke-width: 1.5;\" width=\"194\" x=\"52\" y=\"55\"/><text fill=\"#000000\" font-family=\"sans-serif\" font-size=\"12\" font-style=\"italic\" lengthAdjust=\"spacingAndGlyphs\" textLength=\"81\" x=\"108.5\" y=\"71.1387\">«action  def»</text><text fill=\"#000000\" font-family=\"sans-serif\" font-size=\"12\" lengthAdjust=\"spacingAndGlyphs\" textLength=\"27\" x=\"135.5\" y=\"85.1074\">setX</text></a><g id=\"E1.E2\"><a href=\"psysml:9149846c-b557-44f1-bb03-13041676b872\" target=\"_top\" title=\"psysml:9149846c-b557-44f1-bb03-13041676b872\" xlink:actuate=\"onRequest\" xlink:href=\"psysml:9149846c-b557-44f1-bb03-13041676b872\" xlink:show=\"new\" xlink:title=\"psysml:9149846c-b557-44f1-bb03-13041676b872\" xlink:type=\"simple\"><rect fill=\"#FFFFFF\" height=\"42.9375\" id=\"E2\" style=\"stroke: #383838; stroke-width: 1.5;\" width=\"76\" x=\"32\" y=\"143.5\"/><rect fill=\"#F8F8F8\" height=\"37.9375\" style=\"stroke: #383838; stroke-width: 1.5;\" width=\"76\" x=\"32\" y=\"143.5\"/><text fill=\"#000000\" font-family=\"sans-serif\" font-size=\"12\" font-style=\"italic\" lengthAdjust=\"spacingAndGlyphs\" textLength=\"69\" x=\"35.5\" y=\"159.6387\">«item  def»</text><text fill=\"#000000\" font-family=\"sans-serif\" font-size=\"12\" lengthAdjust=\"spacingAndGlyphs\" textLength=\"8\" x=\"66\" y=\"173.6074\">C</text></a></g><text fill=\"#000000\" font-family=\"sans-serif\" font-size=\"14\" lengthAdjust=\"spacingAndGlyphs\" textLength=\"8\" x=\"66\" y=\"120.9951\">c</text><rect fill=\"#383838\" height=\"12\" style=\"stroke: #F8F8F8; stroke-width: 1.5;\" width=\"12\" x=\"64\" y=\"96\"/><text fill=\"#000000\" font-family=\"sans-serif\" font-size=\"14\" lengthAdjust=\"spacingAndGlyphs\" textLength=\"38\" x=\"51\" y=\"33.6982\">newX</text><rect fill=\"#383838\" height=\"12\" style=\"stroke: #F8F8F8; stroke-width: 1.5;\" width=\"12\" x=\"64\" y=\"49\"/><!--MD5=[dd66b4ed49e6203c643bbdc89251a8f6]\n",
       "@startuml\r\n",
       "skinparam ranksep 10\r\n",
       "skinparam rectangle {\r\n",
       " backgroundColor<<block>> LightGreen\r\n",
       "}\r\n",
       "left to right direction\r\n",
       "skinparam monochrome true\r\n",
       "skinparam classbackgroundcolor white\r\n",
       "skinparam shadowing false\r\n",
       "skinparam wrapWidth 300\r\n",
       "hide circle\r\n",
       "\r\n",
       "package \"TextualRepresentationTest\" as E1  [[psysml:2524e1ec-43b2-4dd4-b81d-385c3decebbf ]]  {\r\n",
       "def \"C\" as E2  <<(T,blue) item  def>> [[psysml:9149846c-b557-44f1-bb03-13041676b872 ]] \r\n",
       "rec def \"setX\" as E3  <<(T,blue) action  def>> [[psysml:fdd44db5-2b71-42e4-a6cb-0126cd22309d ]] {\r\n",
       "portin \"c\" as E4  [[psysml:70c0b2f6-f79a-4e90-a3c9-a244a9735aa8 ]] \r\n",
       "portin \"newX\" as E5  [[psysml:4245f76d-31bb-4c80-8014-7bc1277d6e35 ]] \r\n",
       "}\r\n",
       "\r\n",
       "}\r\n",
       "@enduml\r\n",
       "\n",
       "PlantUML version 1.2020.13(Sat Jun 13 12:26:38 UTC 2020)\n",
       "(EPL source distribution)\n",
       "Java Runtime: OpenJDK Runtime Environment\n",
       "JVM: OpenJDK 64-Bit Server VM\n",
       "Default Encoding: UTF-8\n",
       "Language: en\n",
       "Country: null\n",
       "--></g></svg>"
      ]
     },
     "execution_count": 19,
     "metadata": {},
     "output_type": "execute_result"
    }
   ],
   "source": [
    "%viz --style=\"LR\" --view=\"Interconnection\" \"TextualRepresentationTest\""
   ]
  },
  {
   "cell_type": "code",
   "execution_count": 20,
   "id": "b45e05d7",
   "metadata": {
    "execution": {
     "iopub.execute_input": "2022-05-19T08:44:54.268941Z",
     "iopub.status.busy": "2022-05-19T08:44:54.268392Z",
     "iopub.status.idle": "2022-05-19T08:44:54.291791Z",
     "shell.execute_reply": "2022-05-19T08:44:54.292115Z"
    }
   },
   "outputs": [
    {
     "data": {
      "image/svg+xml": [
       "<?xml version=\"1.0\" encoding=\"UTF-8\" standalone=\"no\"?><svg xmlns=\"http://www.w3.org/2000/svg\" xmlns:xlink=\"http://www.w3.org/1999/xlink\" contentScriptType=\"application/ecmascript\" contentStyleType=\"text/css\" height=\"121px\" preserveAspectRatio=\"none\" style=\"width:180px;height:121px;\" version=\"1.1\" viewBox=\"0 0 180 121\" width=\"180px\" zoomAndPan=\"magnify\"><defs/><g><!--MD5=[fbc87193dbaf4d95561dea2c320d4a47]\n",
       "cluster E1--><a href=\"psysml:fdd44db5-2b71-42e4-a6cb-0126cd22309d\" target=\"_top\" title=\"psysml:fdd44db5-2b71-42e4-a6cb-0126cd22309d\" xlink:actuate=\"onRequest\" xlink:href=\"psysml:fdd44db5-2b71-42e4-a6cb-0126cd22309d\" xlink:show=\"new\" xlink:title=\"psysml:fdd44db5-2b71-42e4-a6cb-0126cd22309d\" xlink:type=\"simple\"><rect fill=\"#FFFFFF\" height=\"47\" id=\"E1\" style=\"stroke: #383838; stroke-width: 1.5;\" width=\"162\" x=\"7\" y=\"42.0986\"/><rect fill=\"#F8F8F8\" height=\"37.9375\" style=\"stroke: #383838; stroke-width: 1.5;\" width=\"162\" x=\"7\" y=\"42.0986\"/><text fill=\"#000000\" font-family=\"sans-serif\" font-size=\"12\" font-style=\"italic\" lengthAdjust=\"spacingAndGlyphs\" textLength=\"81\" x=\"47.5\" y=\"58.2373\">«action  def»</text><text fill=\"#000000\" font-family=\"sans-serif\" font-size=\"12\" lengthAdjust=\"spacingAndGlyphs\" textLength=\"27\" x=\"74.5\" y=\"72.2061\">setX</text></a><text fill=\"#000000\" font-family=\"sans-serif\" font-size=\"14\" lengthAdjust=\"spacingAndGlyphs\" textLength=\"8\" x=\"21\" y=\"108.0938\">c</text><rect fill=\"#383838\" height=\"12\" style=\"stroke: #F8F8F8; stroke-width: 1.5;\" width=\"12\" x=\"19\" y=\"83.0986\"/><text fill=\"#000000\" font-family=\"sans-serif\" font-size=\"14\" lengthAdjust=\"spacingAndGlyphs\" textLength=\"38\" x=\"6\" y=\"20.7969\">newX</text><rect fill=\"#383838\" height=\"12\" style=\"stroke: #F8F8F8; stroke-width: 1.5;\" width=\"12\" x=\"19\" y=\"36.0986\"/><!--MD5=[58a23e4a2fdf5e8f63d465df39254946]\n",
       "@startuml\r\n",
       "skinparam ranksep 8\r\n",
       "left to right direction\r\n",
       "skinparam monochrome true\r\n",
       "skinparam classbackgroundcolor white\r\n",
       "skinparam shadowing false\r\n",
       "skinparam wrapWidth 300\r\n",
       "hide circle\r\n",
       "\r\n",
       "rec def \"setX\" as E1  <<(T,blue) action  def>> [[psysml:fdd44db5-2b71-42e4-a6cb-0126cd22309d ]] {\r\n",
       "portin \"c\" as E2  [[psysml:70c0b2f6-f79a-4e90-a3c9-a244a9735aa8 ]] \r\n",
       "portin \"newX\" as E3  [[psysml:4245f76d-31bb-4c80-8014-7bc1277d6e35 ]] \r\n",
       "}\r\n",
       "\r\n",
       "@enduml\r\n",
       "\n",
       "PlantUML version 1.2020.13(Sat Jun 13 12:26:38 UTC 2020)\n",
       "(EPL source distribution)\n",
       "Java Runtime: OpenJDK Runtime Environment\n",
       "JVM: OpenJDK 64-Bit Server VM\n",
       "Default Encoding: UTF-8\n",
       "Language: en\n",
       "Country: null\n",
       "--></g></svg>"
      ]
     },
     "execution_count": 20,
     "metadata": {},
     "output_type": "execute_result"
    }
   ],
   "source": [
    "%viz --style=\"LR\" --view=\"Action\" \"TextualRepresentationTest\""
   ]
  },
  {
   "cell_type": "code",
   "execution_count": 21,
   "id": "1fba5d76",
   "metadata": {
    "execution": {
     "iopub.execute_input": "2022-05-19T08:44:54.342312Z",
     "iopub.status.busy": "2022-05-19T08:44:54.341846Z",
     "iopub.status.idle": "2022-05-19T08:44:54.347569Z",
     "shell.execute_reply": "2022-05-19T08:44:54.347891Z"
    }
   },
   "outputs": [
    {
     "data": {
      "image/svg+xml": [
       "<?xml version=\"1.0\" encoding=\"UTF-8\" standalone=\"no\"?><svg xmlns=\"http://www.w3.org/2000/svg\" xmlns:xlink=\"http://www.w3.org/1999/xlink\" contentScriptType=\"application/ecmascript\" contentStyleType=\"text/css\" height=\"12px\" preserveAspectRatio=\"none\" style=\"width:12px;height:12px;\" version=\"1.1\" viewBox=\"0 0 12 12\" width=\"12px\" zoomAndPan=\"magnify\"><defs/><g><!--MD5=[238c11ea2002f03115ad6b49a457d50e]\n",
       "@startuml\r\n",
       "skinparam roundcorner 20\r\n",
       "skinparam BoxPadding 20\r\n",
       "skinparam SequenceBoxBackgroundColor #white\r\n",
       "skinparam style strictuml\r\n",
       "skinparam maxMessageSize 100\r\n",
       "left to right direction\r\n",
       "skinparam monochrome true\r\n",
       "skinparam classbackgroundcolor white\r\n",
       "skinparam shadowing false\r\n",
       "skinparam wrapWidth 300\r\n",
       "hide circle\r\n",
       "\r\n",
       "@enduml\r\n",
       "\n",
       "PlantUML version 1.2020.13(Sat Jun 13 12:26:38 UTC 2020)\n",
       "(EPL source distribution)\n",
       "Java Runtime: OpenJDK Runtime Environment\n",
       "JVM: OpenJDK 64-Bit Server VM\n",
       "Default Encoding: UTF-8\n",
       "Language: en\n",
       "Country: null\n",
       "--></g></svg>"
      ]
     },
     "execution_count": 21,
     "metadata": {},
     "output_type": "execute_result"
    }
   ],
   "source": [
    "%viz --style=\"LR\" --view=\"Sequence\" \"TextualRepresentationTest\""
   ]
  },
  {
   "cell_type": "code",
   "execution_count": 22,
   "id": "ad8db1ab",
   "metadata": {
    "execution": {
     "iopub.execute_input": "2022-05-19T08:44:54.398183Z",
     "iopub.status.busy": "2022-05-19T08:44:54.397712Z",
     "iopub.status.idle": "2022-05-19T08:44:54.443440Z",
     "shell.execute_reply": "2022-05-19T08:44:54.441978Z"
    }
   },
   "outputs": [
    {
     "data": {
      "image/svg+xml": [
       "<?xml version=\"1.0\" encoding=\"UTF-8\" standalone=\"no\"?><svg xmlns=\"http://www.w3.org/2000/svg\" xmlns:xlink=\"http://www.w3.org/1999/xlink\" contentScriptType=\"application/ecmascript\" contentStyleType=\"text/css\" height=\"247px\" preserveAspectRatio=\"none\" style=\"width:332px;height:247px;\" version=\"1.1\" viewBox=\"0 0 332 247\" width=\"332px\" zoomAndPan=\"magnify\"><defs/><g><!--MD5=[fbc87193dbaf4d95561dea2c320d4a47]\n",
       "cluster E1--><a href=\"psysml:2524e1ec-43b2-4dd4-b81d-385c3decebbf\" target=\"_top\" title=\"psysml:2524e1ec-43b2-4dd4-b81d-385c3decebbf\" xlink:actuate=\"onRequest\" xlink:href=\"psysml:2524e1ec-43b2-4dd4-b81d-385c3decebbf\" xlink:show=\"new\" xlink:title=\"psysml:2524e1ec-43b2-4dd4-b81d-385c3decebbf\" xlink:type=\"simple\"><polygon fill=\"#FFFFFF\" points=\"16,6,210,6,217,28.2969,310,28.2969,310,235,16,235,16,6\" style=\"stroke: #000000; stroke-width: 1.5;\"/><line style=\"stroke: #000000; stroke-width: 1.5;\" x1=\"16\" x2=\"217\" y1=\"28.2969\" y2=\"28.2969\"/><text fill=\"#000000\" font-family=\"sans-serif\" font-size=\"14\" font-weight=\"bold\" lengthAdjust=\"spacingAndGlyphs\" textLength=\"188\" x=\"20\" y=\"20.9951\">TextualRepresentationTest</text></a><!--MD5=[f6df4d0ebaf0b5dfb2ced0ae5af7c670]\n",
       "cluster E4--><a href=\"psysml:fdd44db5-2b71-42e4-a6cb-0126cd22309d\" target=\"_top\" title=\"psysml:fdd44db5-2b71-42e4-a6cb-0126cd22309d\" xlink:actuate=\"onRequest\" xlink:href=\"psysml:fdd44db5-2b71-42e4-a6cb-0126cd22309d\" xlink:show=\"new\" xlink:title=\"psysml:fdd44db5-2b71-42e4-a6cb-0126cd22309d\" xlink:type=\"simple\"><rect fill=\"#FFFFFF\" height=\"47\" id=\"E4\" style=\"stroke: #383838; stroke-width: 1.5;\" width=\"244.5\" x=\"49.5\" y=\"55\"/><rect fill=\"#F8F8F8\" height=\"37.9375\" style=\"stroke: #383838; stroke-width: 1.5;\" width=\"244.5\" x=\"49.5\" y=\"55\"/><text fill=\"#000000\" font-family=\"sans-serif\" font-size=\"12\" font-style=\"italic\" lengthAdjust=\"spacingAndGlyphs\" textLength=\"81\" x=\"131.25\" y=\"71.1387\">«action  def»</text><text fill=\"#000000\" font-family=\"sans-serif\" font-size=\"12\" lengthAdjust=\"spacingAndGlyphs\" textLength=\"27\" x=\"158.25\" y=\"85.1074\">setX</text></a><!--MD5=[b4997ac47864f28c2f74865a473b2911]\n",
       "class E2--><a href=\"psysml:9149846c-b557-44f1-bb03-13041676b872\" target=\"_top\" title=\"psysml:9149846c-b557-44f1-bb03-13041676b872\" xlink:actuate=\"onRequest\" xlink:href=\"psysml:9149846c-b557-44f1-bb03-13041676b872\" xlink:show=\"new\" xlink:title=\"psysml:9149846c-b557-44f1-bb03-13041676b872\" xlink:type=\"simple\"><rect fill=\"#FFFFFF\" height=\"75.5469\" id=\"E2\" style=\"stroke: #383838; stroke-width: 1.5;\" width=\"71\" x=\"32\" y=\"143\"/><text fill=\"#000000\" font-family=\"sans-serif\" font-size=\"12\" font-style=\"italic\" lengthAdjust=\"spacingAndGlyphs\" textLength=\"69\" x=\"33\" y=\"159.1387\">«item  def»</text><text fill=\"#000000\" font-family=\"sans-serif\" font-size=\"12\" lengthAdjust=\"spacingAndGlyphs\" textLength=\"8\" x=\"63.5\" y=\"173.1074\">C</text><line style=\"stroke: #383838; stroke-width: 1.5;\" x1=\"33\" x2=\"102\" y1=\"180.9375\" y2=\"180.9375\"/><text fill=\"#000000\" font-family=\"sans-serif\" font-size=\"11\" lengthAdjust=\"spacingAndGlyphs\" textLength=\"38\" x=\"38\" y=\"211.9526\">x: Real</text><line style=\"stroke: #383838; stroke-width: 1.0;\" x1=\"33\" x2=\"40\" y1=\"195.3398\" y2=\"195.3398\"/><text fill=\"#000000\" font-family=\"sans-serif\" font-size=\"11\" lengthAdjust=\"spacingAndGlyphs\" textLength=\"55\" x=\"40\" y=\"198.6479\">attributes</text><line style=\"stroke: #383838; stroke-width: 1.0;\" x1=\"95\" x2=\"102\" y1=\"195.3398\" y2=\"195.3398\"/></a><!--MD5=[09b614a08d8cba4a07c9adeb5e0fee81]\n",
       "class E3--><a href=\"psysml:d102dace-404f-4787-94a0-7dab0b8761ce\" target=\"_top\" title=\"psysml:d102dace-404f-4787-94a0-7dab0b8761ce\" xlink:actuate=\"onRequest\" xlink:href=\"psysml:d102dace-404f-4787-94a0-7dab0b8761ce\" xlink:show=\"new\" xlink:title=\"psysml:d102dace-404f-4787-94a0-7dab0b8761ce\" xlink:type=\"simple\"><rect fill=\"#FFFFFF\" height=\"45.9375\" id=\"E3\" rx=\"10\" ry=\"10\" style=\"stroke: #383838; stroke-width: 1.5;\" width=\"124\" x=\"163\" y=\"158\"/><text fill=\"#000000\" font-family=\"sans-serif\" font-size=\"12\" font-style=\"italic\" lengthAdjust=\"spacingAndGlyphs\" textLength=\"122\" x=\"164\" y=\"174.1387\">«assert constraint»</text><text fill=\"#000000\" font-family=\"sans-serif\" font-size=\"12\" lengthAdjust=\"spacingAndGlyphs\" textLength=\"76\" x=\"185\" y=\"188.1074\">x_constraint</text><line style=\"stroke: #383838; stroke-width: 1.5;\" x1=\"164\" x2=\"286\" y1=\"195.9375\" y2=\"195.9375\"/></a><text fill=\"#000000\" font-family=\"sans-serif\" font-size=\"14\" lengthAdjust=\"spacingAndGlyphs\" textLength=\"8\" x=\"63.5\" y=\"120.9951\">c</text><rect fill=\"#383838\" height=\"12\" style=\"stroke: #F8F8F8; stroke-width: 1.5;\" width=\"12\" x=\"61.5\" y=\"96\"/><text fill=\"#000000\" font-family=\"sans-serif\" font-size=\"14\" lengthAdjust=\"spacingAndGlyphs\" textLength=\"38\" x=\"48.5\" y=\"33.6982\">newX</text><rect fill=\"#383838\" height=\"12\" style=\"stroke: #F8F8F8; stroke-width: 1.5;\" width=\"12\" x=\"61.5\" y=\"49\"/><!--MD5=[209b3feb70ccb6233bfe1053d122c12c]\n",
       "reverse link E2 to E3--><a href=\"psysml:0da81c8f-97bb-41c6-9a60-156bc4c734f4\" target=\"_top\" title=\"psysml:0da81c8f-97bb-41c6-9a60-156bc4c734f4\" xlink:actuate=\"onRequest\" xlink:href=\"psysml:0da81c8f-97bb-41c6-9a60-156bc4c734f4\" xlink:show=\"new\" xlink:title=\"psysml:0da81c8f-97bb-41c6-9a60-156bc4c734f4\" xlink:type=\"simple\"><path d=\"M116.04,181 C130.85,181 147.38,181 162.98,181 \" fill=\"none\" id=\"E2&lt;-E3\" style=\"stroke: #383838; stroke-width: 1.0;\"/><polygon fill=\"#383838\" points=\"103.01,181,109.01,185,115.01,181,109.01,177,103.01,181\" style=\"stroke: #383838; stroke-width: 1.0;\"/><text fill=\"#000000\" font-family=\"sans-serif\" font-size=\"13\" lengthAdjust=\"spacingAndGlyphs\" textLength=\"7\" x=\"147.9947\" y=\"193.9929\">*</text></a><!--MD5=[735c84f3bf98d1eefd00934bfd34ae80]\n",
       "@startuml\r\n",
       "left to right direction\r\n",
       "skinparam monochrome true\r\n",
       "skinparam classbackgroundcolor white\r\n",
       "skinparam shadowing false\r\n",
       "skinparam wrapWidth 300\r\n",
       "hide circle\r\n",
       "\r\n",
       "package \"TextualRepresentationTest\" as E1  [[psysml:2524e1ec-43b2-4dd4-b81d-385c3decebbf ]]  {\r\n",
       "comp def \"C\" as E2  <<(T,blue) item  def>> [[psysml:9149846c-b557-44f1-bb03-13041676b872 ]] {\r\n",
       "- - attributes - -\r\n",
       "x: Real\r\n",
       "}\r\n",
       "comp usage \"x_constraint \" as E3  <<(T,blue) assert constraint>> [[psysml:d102dace-404f-4787-94a0-7dab0b8761ce ]] {\r\n",
       "}\r\n",
       "rec def \"setX\" as E4  <<(T,blue) action  def>> [[psysml:fdd44db5-2b71-42e4-a6cb-0126cd22309d ]] {\r\n",
       "portin \"c\" as E5  [[psysml:70c0b2f6-f79a-4e90-a3c9-a244a9735aa8 ]] \r\n",
       "portin \"newX\" as E6  [[psysml:4245f76d-31bb-4c80-8014-7bc1277d6e35 ]] \r\n",
       "}\r\n",
       "\r\n",
       "}\r\n",
       "E2 *- - \"*\"E3 [[psysml:0da81c8f-97bb-41c6-9a60-156bc4c734f4 ]] \r\n",
       "@enduml\r\n",
       "\n",
       "PlantUML version 1.2020.13(Sat Jun 13 12:26:38 UTC 2020)\n",
       "(EPL source distribution)\n",
       "Java Runtime: OpenJDK Runtime Environment\n",
       "JVM: OpenJDK 64-Bit Server VM\n",
       "Default Encoding: UTF-8\n",
       "Language: en\n",
       "Country: null\n",
       "--></g></svg>"
      ]
     },
     "execution_count": 22,
     "metadata": {},
     "output_type": "execute_result"
    }
   ],
   "source": [
    "%viz --style=\"LR\" --view=\"MIXED\" \"TextualRepresentationTest\""
   ]
  },
  {
   "cell_type": "code",
   "execution_count": 23,
   "id": "ed95d49a",
   "metadata": {
    "execution": {
     "iopub.execute_input": "2022-05-19T08:44:54.493003Z",
     "iopub.status.busy": "2022-05-19T08:44:54.492516Z",
     "iopub.status.idle": "2022-05-19T08:44:54.536894Z",
     "shell.execute_reply": "2022-05-19T08:44:54.536467Z"
    }
   },
   "outputs": [
    {
     "data": {
      "image/svg+xml": [
       "<?xml version=\"1.0\" encoding=\"UTF-8\" standalone=\"no\"?><svg xmlns=\"http://www.w3.org/2000/svg\" xmlns:xlink=\"http://www.w3.org/1999/xlink\" contentScriptType=\"application/ecmascript\" contentStyleType=\"text/css\" height=\"261px\" preserveAspectRatio=\"none\" style=\"width:351px;height:261px;\" version=\"1.1\" viewBox=\"0 0 351 261\" width=\"351px\" zoomAndPan=\"magnify\"><defs><filter height=\"300%\" id=\"f16o0ddu2r7wct\" width=\"300%\" x=\"-1\" y=\"-1\"><feGaussianBlur result=\"blurOut\" stdDeviation=\"2.0\"/><feColorMatrix in=\"blurOut\" result=\"blurOut2\" type=\"matrix\" values=\"0 0 0 0 0 0 0 0 0 0 0 0 0 0 0 0 0 0 .4 0\"/><feOffset dx=\"4.0\" dy=\"4.0\" in=\"blurOut2\" result=\"blurOut3\"/><feBlend in=\"SourceGraphic\" in2=\"blurOut3\" mode=\"normal\"/></filter></defs><g><!--MD5=[fbc87193dbaf4d95561dea2c320d4a47]\n",
       "cluster E1--><a href=\"psysml:2524e1ec-43b2-4dd4-b81d-385c3decebbf\" target=\"_top\" title=\"psysml:2524e1ec-43b2-4dd4-b81d-385c3decebbf\" xlink:actuate=\"onRequest\" xlink:href=\"psysml:2524e1ec-43b2-4dd4-b81d-385c3decebbf\" xlink:show=\"new\" xlink:title=\"psysml:2524e1ec-43b2-4dd4-b81d-385c3decebbf\" xlink:type=\"simple\"><polygon fill=\"#FFFFFF\" filter=\"url(#f16o0ddu2r7wct)\" points=\"16,6,210,6,217,28.2969,329,28.2969,329,249.5,16,249.5,16,6\" style=\"stroke: #000000; stroke-width: 1.5;\"/><line style=\"stroke: #000000; stroke-width: 1.5;\" x1=\"16\" x2=\"217\" y1=\"28.2969\" y2=\"28.2969\"/><text fill=\"#000000\" font-family=\"sans-serif\" font-size=\"14\" font-weight=\"bold\" lengthAdjust=\"spacingAndGlyphs\" textLength=\"188\" x=\"20\" y=\"20.9951\">TextualRepresentationTest</text></a><!--MD5=[f6df4d0ebaf0b5dfb2ced0ae5af7c670]\n",
       "cluster E4--><a href=\"psysml:fdd44db5-2b71-42e4-a6cb-0126cd22309d\" target=\"_top\" title=\"psysml:fdd44db5-2b71-42e4-a6cb-0126cd22309d\" xlink:actuate=\"onRequest\" xlink:href=\"psysml:fdd44db5-2b71-42e4-a6cb-0126cd22309d\" xlink:show=\"new\" xlink:title=\"psysml:fdd44db5-2b71-42e4-a6cb-0126cd22309d\" xlink:type=\"simple\"><rect fill=\"#FFFFFF\" filter=\"url(#f16o0ddu2r7wct)\" height=\"154.5\" id=\"E4\" style=\"stroke: #A80036; stroke-width: 1.5;\" width=\"134\" x=\"179\" y=\"79\"/><rect fill=\"#FEFECE\" height=\"37.9375\" style=\"stroke: #A80036; stroke-width: 1.5;\" width=\"134\" x=\"179\" y=\"79\"/><text fill=\"#000000\" font-family=\"sans-serif\" font-size=\"12\" font-style=\"italic\" lengthAdjust=\"spacingAndGlyphs\" textLength=\"81\" x=\"205.5\" y=\"95.1387\">«action  def»</text><text fill=\"#000000\" font-family=\"sans-serif\" font-size=\"12\" lengthAdjust=\"spacingAndGlyphs\" textLength=\"27\" x=\"232.5\" y=\"109.1074\">setX</text></a><!--MD5=[b4997ac47864f28c2f74865a473b2911]\n",
       "class E2--><a href=\"psysml:9149846c-b557-44f1-bb03-13041676b872\" target=\"_top\" title=\"psysml:9149846c-b557-44f1-bb03-13041676b872\" xlink:actuate=\"onRequest\" xlink:href=\"psysml:9149846c-b557-44f1-bb03-13041676b872\" xlink:show=\"new\" xlink:title=\"psysml:9149846c-b557-44f1-bb03-13041676b872\" xlink:type=\"simple\"><rect fill=\"#FEFECE\" filter=\"url(#f16o0ddu2r7wct)\" height=\"75.5469\" id=\"E2\" style=\"stroke: #A80036; stroke-width: 1.5;\" width=\"71\" x=\"58.5\" y=\"41\"/><text fill=\"#000000\" font-family=\"sans-serif\" font-size=\"12\" font-style=\"italic\" lengthAdjust=\"spacingAndGlyphs\" textLength=\"69\" x=\"59.5\" y=\"57.1387\">«item  def»</text><text fill=\"#000000\" font-family=\"sans-serif\" font-size=\"12\" lengthAdjust=\"spacingAndGlyphs\" textLength=\"8\" x=\"90\" y=\"71.1074\">C</text><line style=\"stroke: #A80036; stroke-width: 1.5;\" x1=\"59.5\" x2=\"128.5\" y1=\"78.9375\" y2=\"78.9375\"/><text fill=\"#000000\" font-family=\"sans-serif\" font-size=\"11\" lengthAdjust=\"spacingAndGlyphs\" textLength=\"38\" x=\"64.5\" y=\"109.9526\">x: Real</text><line style=\"stroke: #A80036; stroke-width: 1.0;\" x1=\"59.5\" x2=\"66.5\" y1=\"93.3398\" y2=\"93.3398\"/><text fill=\"#000000\" font-family=\"sans-serif\" font-size=\"11\" lengthAdjust=\"spacingAndGlyphs\" textLength=\"55\" x=\"66.5\" y=\"96.6479\">attributes</text><line style=\"stroke: #A80036; stroke-width: 1.0;\" x1=\"121.5\" x2=\"128.5\" y1=\"93.3398\" y2=\"93.3398\"/></a><!--MD5=[09b614a08d8cba4a07c9adeb5e0fee81]\n",
       "class E3--><a href=\"psysml:d102dace-404f-4787-94a0-7dab0b8761ce\" target=\"_top\" title=\"psysml:d102dace-404f-4787-94a0-7dab0b8761ce\" xlink:actuate=\"onRequest\" xlink:href=\"psysml:d102dace-404f-4787-94a0-7dab0b8761ce\" xlink:show=\"new\" xlink:title=\"psysml:d102dace-404f-4787-94a0-7dab0b8761ce\" xlink:type=\"simple\"><rect fill=\"#FEFECE\" filter=\"url(#f16o0ddu2r7wct)\" height=\"45.9375\" id=\"E3\" rx=\"10\" ry=\"10\" style=\"stroke: #A80036; stroke-width: 1.5;\" width=\"124\" x=\"32\" y=\"177\"/><text fill=\"#000000\" font-family=\"sans-serif\" font-size=\"12\" font-style=\"italic\" lengthAdjust=\"spacingAndGlyphs\" textLength=\"122\" x=\"33\" y=\"193.1387\">«assert constraint»</text><text fill=\"#000000\" font-family=\"sans-serif\" font-size=\"12\" lengthAdjust=\"spacingAndGlyphs\" textLength=\"76\" x=\"54\" y=\"207.1074\">x_constraint</text><line style=\"stroke: #A80036; stroke-width: 1.5;\" x1=\"33\" x2=\"155\" y1=\"214.9375\" y2=\"214.9375\"/></a><text fill=\"#000000\" font-family=\"sans-serif\" font-size=\"14\" lengthAdjust=\"spacingAndGlyphs\" textLength=\"8\" x=\"193\" y=\"57.6982\">c</text><rect fill=\"#A80036\" height=\"12\" style=\"stroke: #FEFECE; stroke-width: 1.5;\" width=\"12\" x=\"191\" y=\"73\"/><text fill=\"#000000\" font-family=\"sans-serif\" font-size=\"14\" lengthAdjust=\"spacingAndGlyphs\" textLength=\"38\" x=\"225\" y=\"57.6982\">newX</text><rect fill=\"#A80036\" height=\"12\" style=\"stroke: #FEFECE; stroke-width: 1.5;\" width=\"12\" x=\"238\" y=\"73\"/><!--MD5=[209b3feb70ccb6233bfe1053d122c12c]\n",
       "reverse link E2 to E3--><a href=\"psysml:0da81c8f-97bb-41c6-9a60-156bc4c734f4\" target=\"_top\" title=\"psysml:0da81c8f-97bb-41c6-9a60-156bc4c734f4\" xlink:actuate=\"onRequest\" xlink:href=\"psysml:0da81c8f-97bb-41c6-9a60-156bc4c734f4\" xlink:show=\"new\" xlink:title=\"psysml:0da81c8f-97bb-41c6-9a60-156bc4c734f4\" xlink:type=\"simple\"><path d=\"M94,130.34 C94,146.61 94,163.81 94,176.93 \" fill=\"none\" id=\"E2&lt;-E3\" style=\"stroke: #A80036; stroke-width: 1.0;\"/><polygon fill=\"#A80036\" points=\"94,117,90,123,94,129,98,123,94,117\" style=\"stroke: #A80036; stroke-width: 1.0;\"/><text fill=\"#000000\" font-family=\"sans-serif\" font-size=\"13\" lengthAdjust=\"spacingAndGlyphs\" textLength=\"7\" x=\"86.0594\" y=\"165.8075\">*</text></a><!--MD5=[e7e9cb0ec451baa396f37c1f7c81baf5]\n",
       "@startuml\r\n",
       "skinparam wrapWidth 300\r\n",
       "hide circle\r\n",
       "\r\n",
       "package \"TextualRepresentationTest\" as E1  [[psysml:2524e1ec-43b2-4dd4-b81d-385c3decebbf ]]  {\r\n",
       "comp def \"C\" as E2  <<(T,blue) item  def>> [[psysml:9149846c-b557-44f1-bb03-13041676b872 ]] {\r\n",
       "- - attributes - -\r\n",
       "x: Real\r\n",
       "}\r\n",
       "comp usage \"x_constraint \" as E3  <<(T,blue) assert constraint>> [[psysml:d102dace-404f-4787-94a0-7dab0b8761ce ]] {\r\n",
       "}\r\n",
       "rec def \"setX\" as E4  <<(T,blue) action  def>> [[psysml:fdd44db5-2b71-42e4-a6cb-0126cd22309d ]] {\r\n",
       "portin \"c\" as E5  [[psysml:70c0b2f6-f79a-4e90-a3c9-a244a9735aa8 ]] \r\n",
       "portin \"newX\" as E6  [[psysml:4245f76d-31bb-4c80-8014-7bc1277d6e35 ]] \r\n",
       "}\r\n",
       "\r\n",
       "}\r\n",
       "E2 *- - \"*\"E3 [[psysml:0da81c8f-97bb-41c6-9a60-156bc4c734f4 ]] \r\n",
       "@enduml\r\n",
       "\n",
       "PlantUML version 1.2020.13(Sat Jun 13 12:26:38 UTC 2020)\n",
       "(EPL source distribution)\n",
       "Java Runtime: OpenJDK Runtime Environment\n",
       "JVM: OpenJDK 64-Bit Server VM\n",
       "Default Encoding: UTF-8\n",
       "Language: en\n",
       "Country: null\n",
       "--></g></svg>"
      ]
     },
     "execution_count": 23,
     "metadata": {},
     "output_type": "execute_result"
    }
   ],
   "source": [
    "%viz --style=\"STDCOLOR\" --view=\"Default\" \"TextualRepresentationTest\""
   ]
  },
  {
   "cell_type": "code",
   "execution_count": 24,
   "id": "93d98561",
   "metadata": {
    "execution": {
     "iopub.execute_input": "2022-05-19T08:44:54.587042Z",
     "iopub.status.busy": "2022-05-19T08:44:54.586479Z",
     "iopub.status.idle": "2022-05-19T08:44:54.627027Z",
     "shell.execute_reply": "2022-05-19T08:44:54.625582Z"
    }
   },
   "outputs": [
    {
     "data": {
      "image/svg+xml": [
       "<?xml version=\"1.0\" encoding=\"UTF-8\" standalone=\"no\"?><svg xmlns=\"http://www.w3.org/2000/svg\" xmlns:xlink=\"http://www.w3.org/1999/xlink\" contentScriptType=\"application/ecmascript\" contentStyleType=\"text/css\" height=\"375px\" preserveAspectRatio=\"none\" style=\"width:242px;height:375px;\" version=\"1.1\" viewBox=\"0 0 242 375\" width=\"242px\" zoomAndPan=\"magnify\"><defs><filter height=\"300%\" id=\"fk1q7lf10jh3o\" width=\"300%\" x=\"-1\" y=\"-1\"><feGaussianBlur result=\"blurOut\" stdDeviation=\"2.0\"/><feColorMatrix in=\"blurOut\" result=\"blurOut2\" type=\"matrix\" values=\"0 0 0 0 0 0 0 0 0 0 0 0 0 0 0 0 0 0 .4 0\"/><feOffset dx=\"4.0\" dy=\"4.0\" in=\"blurOut2\" result=\"blurOut3\"/><feBlend in=\"SourceGraphic\" in2=\"blurOut3\" mode=\"normal\"/></filter></defs><g><!--MD5=[fbc87193dbaf4d95561dea2c320d4a47]\n",
       "cluster E1--><a href=\"psysml:2524e1ec-43b2-4dd4-b81d-385c3decebbf\" target=\"_top\" title=\"psysml:2524e1ec-43b2-4dd4-b81d-385c3decebbf\" xlink:actuate=\"onRequest\" xlink:href=\"psysml:2524e1ec-43b2-4dd4-b81d-385c3decebbf\" xlink:show=\"new\" xlink:title=\"psysml:2524e1ec-43b2-4dd4-b81d-385c3decebbf\" xlink:type=\"simple\"><polygon fill=\"#FFFFFF\" filter=\"url(#fk1q7lf10jh3o)\" points=\"16,6,210,6,217,28.2969,220,28.2969,220,363,16,363,16,6\" style=\"stroke: #000000; stroke-width: 1.5;\"/><line style=\"stroke: #000000; stroke-width: 1.5;\" x1=\"16\" x2=\"217\" y1=\"28.2969\" y2=\"28.2969\"/><text fill=\"#000000\" font-family=\"sans-serif\" font-size=\"14\" font-weight=\"bold\" lengthAdjust=\"spacingAndGlyphs\" textLength=\"188\" x=\"20\" y=\"20.9951\">TextualRepresentationTest</text></a><!--MD5=[b4997ac47864f28c2f74865a473b2911]\n",
       "class E2--><a href=\"psysml:9149846c-b557-44f1-bb03-13041676b872\" target=\"_top\" title=\"psysml:9149846c-b557-44f1-bb03-13041676b872\" xlink:actuate=\"onRequest\" xlink:href=\"psysml:9149846c-b557-44f1-bb03-13041676b872\" xlink:show=\"new\" xlink:title=\"psysml:9149846c-b557-44f1-bb03-13041676b872\" xlink:type=\"simple\"><rect fill=\"#FEFECE\" filter=\"url(#fk1q7lf10jh3o)\" height=\"75.5469\" id=\"E2\" style=\"stroke: #A80036; stroke-width: 1.5;\" width=\"71\" x=\"82.5\" y=\"164\"/><text fill=\"#000000\" font-family=\"sans-serif\" font-size=\"12\" font-style=\"italic\" lengthAdjust=\"spacingAndGlyphs\" textLength=\"69\" x=\"83.5\" y=\"180.1387\">«item  def»</text><text fill=\"#000000\" font-family=\"sans-serif\" font-size=\"12\" lengthAdjust=\"spacingAndGlyphs\" textLength=\"8\" x=\"114\" y=\"194.1074\">C</text><line style=\"stroke: #A80036; stroke-width: 1.5;\" x1=\"83.5\" x2=\"152.5\" y1=\"201.9375\" y2=\"201.9375\"/><text fill=\"#000000\" font-family=\"sans-serif\" font-size=\"11\" lengthAdjust=\"spacingAndGlyphs\" textLength=\"38\" x=\"88.5\" y=\"232.9526\">x: Real</text><line style=\"stroke: #A80036; stroke-width: 1.0;\" x1=\"83.5\" x2=\"90.5\" y1=\"216.3398\" y2=\"216.3398\"/><text fill=\"#000000\" font-family=\"sans-serif\" font-size=\"11\" lengthAdjust=\"spacingAndGlyphs\" textLength=\"55\" x=\"90.5\" y=\"219.6479\">attributes</text><line style=\"stroke: #A80036; stroke-width: 1.0;\" x1=\"145.5\" x2=\"152.5\" y1=\"216.3398\" y2=\"216.3398\"/></a><!--MD5=[09b614a08d8cba4a07c9adeb5e0fee81]\n",
       "class E3--><a href=\"psysml:d102dace-404f-4787-94a0-7dab0b8761ce\" target=\"_top\" title=\"psysml:d102dace-404f-4787-94a0-7dab0b8761ce\" xlink:actuate=\"onRequest\" xlink:href=\"psysml:d102dace-404f-4787-94a0-7dab0b8761ce\" xlink:show=\"new\" xlink:title=\"psysml:d102dace-404f-4787-94a0-7dab0b8761ce\" xlink:type=\"simple\"><rect fill=\"#FEFECE\" filter=\"url(#fk1q7lf10jh3o)\" height=\"45.9375\" id=\"E3\" rx=\"10\" ry=\"10\" style=\"stroke: #A80036; stroke-width: 1.5;\" width=\"124\" x=\"56\" y=\"301\"/><text fill=\"#000000\" font-family=\"sans-serif\" font-size=\"12\" font-style=\"italic\" lengthAdjust=\"spacingAndGlyphs\" textLength=\"122\" x=\"57\" y=\"317.1387\">«assert constraint»</text><text fill=\"#000000\" font-family=\"sans-serif\" font-size=\"12\" lengthAdjust=\"spacingAndGlyphs\" textLength=\"76\" x=\"78\" y=\"331.1074\">x_constraint</text><line style=\"stroke: #A80036; stroke-width: 1.5;\" x1=\"57\" x2=\"179\" y1=\"338.9375\" y2=\"338.9375\"/></a><!--MD5=[ebbe1d658d1005bcc118a6aa81145e00]\n",
       "class E4--><a href=\"psysml:fdd44db5-2b71-42e4-a6cb-0126cd22309d\" target=\"_top\" title=\"psysml:fdd44db5-2b71-42e4-a6cb-0126cd22309d\" xlink:actuate=\"onRequest\" xlink:href=\"psysml:fdd44db5-2b71-42e4-a6cb-0126cd22309d\" xlink:show=\"new\" xlink:title=\"psysml:fdd44db5-2b71-42e4-a6cb-0126cd22309d\" xlink:type=\"simple\"><rect fill=\"#FEFECE\" filter=\"url(#fk1q7lf10jh3o)\" height=\"45.9375\" id=\"E4\" style=\"stroke: #A80036; stroke-width: 1.5;\" width=\"83\" x=\"76.5\" y=\"41\"/><text fill=\"#000000\" font-family=\"sans-serif\" font-size=\"12\" font-style=\"italic\" lengthAdjust=\"spacingAndGlyphs\" textLength=\"81\" x=\"77.5\" y=\"57.1387\">«action  def»</text><text fill=\"#000000\" font-family=\"sans-serif\" font-size=\"12\" lengthAdjust=\"spacingAndGlyphs\" textLength=\"27\" x=\"104.5\" y=\"71.1074\">setX</text><line style=\"stroke: #A80036; stroke-width: 1.5;\" x1=\"77.5\" x2=\"158.5\" y1=\"78.9375\" y2=\"78.9375\"/></a><!--MD5=[209b3feb70ccb6233bfe1053d122c12c]\n",
       "reverse link E2 to E3--><a href=\"psysml:0da81c8f-97bb-41c6-9a60-156bc4c734f4\" target=\"_top\" title=\"psysml:0da81c8f-97bb-41c6-9a60-156bc4c734f4\" xlink:actuate=\"onRequest\" xlink:href=\"psysml:0da81c8f-97bb-41c6-9a60-156bc4c734f4\" xlink:show=\"new\" xlink:title=\"psysml:0da81c8f-97bb-41c6-9a60-156bc4c734f4\" xlink:type=\"simple\"><path d=\"M118,253.76 C118,270.17 118,287.52 118,300.75 \" fill=\"none\" id=\"E2&lt;-E3\" style=\"stroke: #A80036; stroke-width: 1.0;\"/><polygon fill=\"#A80036\" points=\"118,240.31,114,246.31,118,252.31,122,246.31,118,240.31\" style=\"stroke: #A80036; stroke-width: 1.0;\"/><text fill=\"#000000\" font-family=\"sans-serif\" font-size=\"13\" lengthAdjust=\"spacingAndGlyphs\" textLength=\"7\" x=\"110.1031\" y=\"289.9622\">*</text></a><!--MD5=[ddeed8deb2209213b62e6cfabaa108b2]\n",
       "reverse link E4 to E2--><a href=\"psysml:70c0b2f6-f79a-4e90-a3c9-a244a9735aa8\" target=\"_top\" title=\"psysml:70c0b2f6-f79a-4e90-a3c9-a244a9735aa8\" xlink:actuate=\"onRequest\" xlink:href=\"psysml:70c0b2f6-f79a-4e90-a3c9-a244a9735aa8\" xlink:show=\"new\" xlink:title=\"psysml:70c0b2f6-f79a-4e90-a3c9-a244a9735aa8\" xlink:type=\"simple\"><path d=\"M118,100.42 C118,119.95 118,144.19 118,163.97 \" fill=\"none\" id=\"E4&lt;-E2\" style=\"stroke: #A80036; stroke-width: 1.0;\"/><polygon fill=\"#FFFFFF\" points=\"118,87.15,114,93.15,118,99.15,122,93.15,118,87.15\" style=\"stroke: #A80036; stroke-width: 1.0;\"/><text fill=\"#000000\" font-family=\"sans-serif\" font-size=\"13\" lengthAdjust=\"spacingAndGlyphs\" textLength=\"7\" x=\"119\" y=\"130.0669\">c</text></a><!--MD5=[54a705519ec8e6e4803ee3df9265cd94]\n",
       "@startuml\r\n",
       "skinparam wrapWidth 300\r\n",
       "hide circle\r\n",
       "\r\n",
       "package \"TextualRepresentationTest\" as E1  [[psysml:2524e1ec-43b2-4dd4-b81d-385c3decebbf ]]  {\r\n",
       "comp def \"C\" as E2  <<(T,blue) item  def>> [[psysml:9149846c-b557-44f1-bb03-13041676b872 ]] {\r\n",
       "- - attributes - -\r\n",
       "x: Real\r\n",
       "}\r\n",
       "comp usage \"x_constraint \" as E3  <<(T,blue) assert constraint>> [[psysml:d102dace-404f-4787-94a0-7dab0b8761ce ]] {\r\n",
       "}\r\n",
       "comp def \"setX\" as E4  <<(T,blue) action  def>> [[psysml:fdd44db5-2b71-42e4-a6cb-0126cd22309d ]] {\r\n",
       "}\r\n",
       "}\r\n",
       "E2 *- - \"*\"E3 [[psysml:0da81c8f-97bb-41c6-9a60-156bc4c734f4 ]] \r\n",
       "E4 o- - E2 [[psysml:70c0b2f6-f79a-4e90-a3c9-a244a9735aa8 ]] : c\r\n",
       "@enduml\r\n",
       "\n",
       "PlantUML version 1.2020.13(Sat Jun 13 12:26:38 UTC 2020)\n",
       "(EPL source distribution)\n",
       "Java Runtime: OpenJDK Runtime Environment\n",
       "JVM: OpenJDK 64-Bit Server VM\n",
       "Default Encoding: UTF-8\n",
       "Language: en\n",
       "Country: null\n",
       "--></g></svg>"
      ]
     },
     "execution_count": 24,
     "metadata": {},
     "output_type": "execute_result"
    }
   ],
   "source": [
    "%viz --style=\"STDCOLOR\" --view=\"Tree\" \"TextualRepresentationTest\""
   ]
  },
  {
   "cell_type": "code",
   "execution_count": 25,
   "id": "0065c9af",
   "metadata": {
    "execution": {
     "iopub.execute_input": "2022-05-19T08:44:54.676794Z",
     "iopub.status.busy": "2022-05-19T08:44:54.676235Z",
     "iopub.status.idle": "2022-05-19T08:44:54.681014Z",
     "shell.execute_reply": "2022-05-19T08:44:54.680630Z"
    }
   },
   "outputs": [
    {
     "data": {
      "image/svg+xml": [
       "<?xml version=\"1.0\" encoding=\"UTF-8\" standalone=\"no\"?><svg xmlns=\"http://www.w3.org/2000/svg\" xmlns:xlink=\"http://www.w3.org/1999/xlink\" contentScriptType=\"application/ecmascript\" contentStyleType=\"text/css\" height=\"12px\" preserveAspectRatio=\"none\" style=\"width:12px;height:12px;\" version=\"1.1\" viewBox=\"0 0 12 12\" width=\"12px\" zoomAndPan=\"magnify\"><defs/><g><!--MD5=[aeeef50f102b80d730deb6443d14f702]\n",
       "@startuml\r\n",
       "skinparam wrapWidth 300\r\n",
       "hide circle\r\n",
       "\r\n",
       "@enduml\r\n",
       "\n",
       "PlantUML version 1.2020.13(Sat Jun 13 12:26:38 UTC 2020)\n",
       "(EPL source distribution)\n",
       "Java Runtime: OpenJDK Runtime Environment\n",
       "JVM: OpenJDK 64-Bit Server VM\n",
       "Default Encoding: UTF-8\n",
       "Language: en\n",
       "Country: null\n",
       "--></g></svg>"
      ]
     },
     "execution_count": 25,
     "metadata": {},
     "output_type": "execute_result"
    }
   ],
   "source": [
    "%viz --style=\"STDCOLOR\" --view=\"State\" \"TextualRepresentationTest\""
   ]
  },
  {
   "cell_type": "code",
   "execution_count": 26,
   "id": "1c0b825e",
   "metadata": {
    "execution": {
     "iopub.execute_input": "2022-05-19T08:44:54.731187Z",
     "iopub.status.busy": "2022-05-19T08:44:54.730550Z",
     "iopub.status.idle": "2022-05-19T08:44:54.758604Z",
     "shell.execute_reply": "2022-05-19T08:44:54.758925Z"
    }
   },
   "outputs": [
    {
     "data": {
      "image/svg+xml": [
       "<?xml version=\"1.0\" encoding=\"UTF-8\" standalone=\"no\"?><svg xmlns=\"http://www.w3.org/2000/svg\" xmlns:xlink=\"http://www.w3.org/1999/xlink\" contentScriptType=\"application/ecmascript\" contentStyleType=\"text/css\" height=\"179px\" preserveAspectRatio=\"none\" style=\"width:292px;height:179px;\" version=\"1.1\" viewBox=\"0 0 292 179\" width=\"292px\" zoomAndPan=\"magnify\"><defs><filter height=\"300%\" id=\"f1mhu28opsdvzj\" width=\"300%\" x=\"-1\" y=\"-1\"><feGaussianBlur result=\"blurOut\" stdDeviation=\"2.0\"/><feColorMatrix in=\"blurOut\" result=\"blurOut2\" type=\"matrix\" values=\"0 0 0 0 0 0 0 0 0 0 0 0 0 0 0 0 0 0 .4 0\"/><feOffset dx=\"4.0\" dy=\"4.0\" in=\"blurOut2\" result=\"blurOut3\"/><feBlend in=\"SourceGraphic\" in2=\"blurOut3\" mode=\"normal\"/></filter></defs><g><!--MD5=[fbc87193dbaf4d95561dea2c320d4a47]\n",
       "cluster E1--><a href=\"psysml:2524e1ec-43b2-4dd4-b81d-385c3decebbf\" target=\"_top\" title=\"psysml:2524e1ec-43b2-4dd4-b81d-385c3decebbf\" xlink:actuate=\"onRequest\" xlink:href=\"psysml:2524e1ec-43b2-4dd4-b81d-385c3decebbf\" xlink:show=\"new\" xlink:title=\"psysml:2524e1ec-43b2-4dd4-b81d-385c3decebbf\" xlink:type=\"simple\"><polygon fill=\"#FFFFFF\" filter=\"url(#f1mhu28opsdvzj)\" points=\"16,6,210,6,217,28.2969,270,28.2969,270,167,16,167,16,6\" style=\"stroke: #000000; stroke-width: 1.5;\"/><line style=\"stroke: #000000; stroke-width: 1.5;\" x1=\"16\" x2=\"217\" y1=\"28.2969\" y2=\"28.2969\"/><text fill=\"#000000\" font-family=\"sans-serif\" font-size=\"14\" font-weight=\"bold\" lengthAdjust=\"spacingAndGlyphs\" textLength=\"188\" x=\"20\" y=\"20.9951\">TextualRepresentationTest</text></a><!--MD5=[d5e69f78d87373223dbae638b30a9c99]\n",
       "cluster E3--><a href=\"psysml:fdd44db5-2b71-42e4-a6cb-0126cd22309d\" target=\"_top\" title=\"psysml:fdd44db5-2b71-42e4-a6cb-0126cd22309d\" xlink:actuate=\"onRequest\" xlink:href=\"psysml:fdd44db5-2b71-42e4-a6cb-0126cd22309d\" xlink:show=\"new\" xlink:title=\"psysml:fdd44db5-2b71-42e4-a6cb-0126cd22309d\" xlink:type=\"simple\"><rect fill=\"#FFFFFF\" filter=\"url(#f1mhu28opsdvzj)\" height=\"88.5\" id=\"E3\" style=\"stroke: #A80036; stroke-width: 1.5;\" width=\"100\" x=\"122.5\" y=\"62.5\"/><rect fill=\"#FEFECE\" height=\"37.9375\" style=\"stroke: #A80036; stroke-width: 1.5;\" width=\"100\" x=\"122.5\" y=\"62.5\"/><text fill=\"#000000\" font-family=\"sans-serif\" font-size=\"12\" font-style=\"italic\" lengthAdjust=\"spacingAndGlyphs\" textLength=\"81\" x=\"132\" y=\"78.6387\">«action  def»</text><text fill=\"#000000\" font-family=\"sans-serif\" font-size=\"12\" lengthAdjust=\"spacingAndGlyphs\" textLength=\"27\" x=\"159\" y=\"92.6074\">setX</text></a><g id=\"E1.E2\"><a href=\"psysml:9149846c-b557-44f1-bb03-13041676b872\" target=\"_top\" title=\"psysml:9149846c-b557-44f1-bb03-13041676b872\" xlink:actuate=\"onRequest\" xlink:href=\"psysml:9149846c-b557-44f1-bb03-13041676b872\" xlink:show=\"new\" xlink:title=\"psysml:9149846c-b557-44f1-bb03-13041676b872\" xlink:type=\"simple\"><rect fill=\"#FEFECE\" filter=\"url(#f1mhu28opsdvzj)\" height=\"42.9375\" id=\"E2\" style=\"stroke: #A80036; stroke-width: 1.5;\" width=\"76\" x=\"32\" y=\"41\"/><text fill=\"#000000\" font-family=\"sans-serif\" font-size=\"12\" font-style=\"italic\" lengthAdjust=\"spacingAndGlyphs\" textLength=\"69\" x=\"35.5\" y=\"57.1387\">«item  def»</text><text fill=\"#000000\" font-family=\"sans-serif\" font-size=\"12\" lengthAdjust=\"spacingAndGlyphs\" textLength=\"8\" x=\"66\" y=\"71.1074\">C</text></a></g><text fill=\"#000000\" font-family=\"sans-serif\" font-size=\"14\" lengthAdjust=\"spacingAndGlyphs\" textLength=\"8\" x=\"145\" y=\"41.1982\">c</text><rect fill=\"#A80036\" height=\"12\" style=\"stroke: #FEFECE; stroke-width: 1.5;\" width=\"12\" x=\"143\" y=\"56.5\"/><text fill=\"#000000\" font-family=\"sans-serif\" font-size=\"14\" lengthAdjust=\"spacingAndGlyphs\" textLength=\"38\" x=\"177\" y=\"41.1982\">newX</text><rect fill=\"#A80036\" height=\"12\" style=\"stroke: #FEFECE; stroke-width: 1.5;\" width=\"12\" x=\"190\" y=\"56.5\"/><!--MD5=[ae465cf5e9c4119ffdbed0251f666238]\n",
       "@startuml\r\n",
       "skinparam ranksep 10\r\n",
       "skinparam rectangle {\r\n",
       " backgroundColor<<block>> LightGreen\r\n",
       "}\r\n",
       "skinparam wrapWidth 300\r\n",
       "hide circle\r\n",
       "\r\n",
       "package \"TextualRepresentationTest\" as E1  [[psysml:2524e1ec-43b2-4dd4-b81d-385c3decebbf ]]  {\r\n",
       "def \"C\" as E2  <<(T,blue) item  def>> [[psysml:9149846c-b557-44f1-bb03-13041676b872 ]] \r\n",
       "rec def \"setX\" as E3  <<(T,blue) action  def>> [[psysml:fdd44db5-2b71-42e4-a6cb-0126cd22309d ]] {\r\n",
       "portin \"c\" as E4  [[psysml:70c0b2f6-f79a-4e90-a3c9-a244a9735aa8 ]] \r\n",
       "portin \"newX\" as E5  [[psysml:4245f76d-31bb-4c80-8014-7bc1277d6e35 ]] \r\n",
       "}\r\n",
       "\r\n",
       "}\r\n",
       "@enduml\r\n",
       "\n",
       "PlantUML version 1.2020.13(Sat Jun 13 12:26:38 UTC 2020)\n",
       "(EPL source distribution)\n",
       "Java Runtime: OpenJDK Runtime Environment\n",
       "JVM: OpenJDK 64-Bit Server VM\n",
       "Default Encoding: UTF-8\n",
       "Language: en\n",
       "Country: null\n",
       "--></g></svg>"
      ]
     },
     "execution_count": 26,
     "metadata": {},
     "output_type": "execute_result"
    }
   ],
   "source": [
    "%viz --style=\"STDCOLOR\" --view=\"Interconnection\" \"TextualRepresentationTest\""
   ]
  },
  {
   "cell_type": "code",
   "execution_count": 27,
   "id": "f2fed42b",
   "metadata": {
    "execution": {
     "iopub.execute_input": "2022-05-19T08:44:54.809017Z",
     "iopub.status.busy": "2022-05-19T08:44:54.808494Z",
     "iopub.status.idle": "2022-05-19T08:44:54.830884Z",
     "shell.execute_reply": "2022-05-19T08:44:54.830489Z"
    }
   },
   "outputs": [
    {
     "data": {
      "image/svg+xml": [
       "<?xml version=\"1.0\" encoding=\"UTF-8\" standalone=\"no\"?><svg xmlns=\"http://www.w3.org/2000/svg\" xmlns:xlink=\"http://www.w3.org/1999/xlink\" contentScriptType=\"application/ecmascript\" contentStyleType=\"text/css\" height=\"134px\" preserveAspectRatio=\"none\" style=\"width:160px;height:134px;\" version=\"1.1\" viewBox=\"0 0 160 134\" width=\"160px\" zoomAndPan=\"magnify\"><defs><filter height=\"300%\" id=\"f1m7g3de5oinys\" width=\"300%\" x=\"-1\" y=\"-1\"><feGaussianBlur result=\"blurOut\" stdDeviation=\"2.0\"/><feColorMatrix in=\"blurOut\" result=\"blurOut2\" type=\"matrix\" values=\"0 0 0 0 0 0 0 0 0 0 0 0 0 0 0 0 0 0 .4 0\"/><feOffset dx=\"4.0\" dy=\"4.0\" in=\"blurOut2\" result=\"blurOut3\"/><feBlend in=\"SourceGraphic\" in2=\"blurOut3\" mode=\"normal\"/></filter></defs><g><!--MD5=[fbc87193dbaf4d95561dea2c320d4a47]\n",
       "cluster E1--><a href=\"psysml:fdd44db5-2b71-42e4-a6cb-0126cd22309d\" target=\"_top\" title=\"psysml:fdd44db5-2b71-42e4-a6cb-0126cd22309d\" xlink:actuate=\"onRequest\" xlink:href=\"psysml:fdd44db5-2b71-42e4-a6cb-0126cd22309d\" xlink:show=\"new\" xlink:title=\"psysml:fdd44db5-2b71-42e4-a6cb-0126cd22309d\" xlink:type=\"simple\"><rect fill=\"#FFFFFF\" filter=\"url(#f1m7g3de5oinys)\" height=\"73\" id=\"E1\" style=\"stroke: #A80036; stroke-width: 1.5;\" width=\"134\" x=\"7\" y=\"42.0986\"/><rect fill=\"#FEFECE\" height=\"37.9375\" style=\"stroke: #A80036; stroke-width: 1.5;\" width=\"134\" x=\"7\" y=\"42.0986\"/><text fill=\"#000000\" font-family=\"sans-serif\" font-size=\"12\" font-style=\"italic\" lengthAdjust=\"spacingAndGlyphs\" textLength=\"81\" x=\"33.5\" y=\"58.2373\">«action  def»</text><text fill=\"#000000\" font-family=\"sans-serif\" font-size=\"12\" lengthAdjust=\"spacingAndGlyphs\" textLength=\"27\" x=\"60.5\" y=\"72.2061\">setX</text></a><text fill=\"#000000\" font-family=\"sans-serif\" font-size=\"14\" lengthAdjust=\"spacingAndGlyphs\" textLength=\"8\" x=\"21\" y=\"20.7969\">c</text><rect fill=\"#A80036\" height=\"12\" style=\"stroke: #FEFECE; stroke-width: 1.5;\" width=\"12\" x=\"19\" y=\"36.0986\"/><text fill=\"#000000\" font-family=\"sans-serif\" font-size=\"14\" lengthAdjust=\"spacingAndGlyphs\" textLength=\"38\" x=\"53\" y=\"20.7969\">newX</text><rect fill=\"#A80036\" height=\"12\" style=\"stroke: #FEFECE; stroke-width: 1.5;\" width=\"12\" x=\"66\" y=\"36.0986\"/><!--MD5=[5479416db53e14a21c513fdb5bc604f1]\n",
       "@startuml\r\n",
       "skinparam ranksep 8\r\n",
       "skinparam wrapWidth 300\r\n",
       "hide circle\r\n",
       "\r\n",
       "rec def \"setX\" as E1  <<(T,blue) action  def>> [[psysml:fdd44db5-2b71-42e4-a6cb-0126cd22309d ]] {\r\n",
       "portin \"c\" as E2  [[psysml:70c0b2f6-f79a-4e90-a3c9-a244a9735aa8 ]] \r\n",
       "portin \"newX\" as E3  [[psysml:4245f76d-31bb-4c80-8014-7bc1277d6e35 ]] \r\n",
       "}\r\n",
       "\r\n",
       "@enduml\r\n",
       "\n",
       "PlantUML version 1.2020.13(Sat Jun 13 12:26:38 UTC 2020)\n",
       "(EPL source distribution)\n",
       "Java Runtime: OpenJDK Runtime Environment\n",
       "JVM: OpenJDK 64-Bit Server VM\n",
       "Default Encoding: UTF-8\n",
       "Language: en\n",
       "Country: null\n",
       "--></g></svg>"
      ]
     },
     "execution_count": 27,
     "metadata": {},
     "output_type": "execute_result"
    }
   ],
   "source": [
    "%viz --style=\"STDCOLOR\" --view=\"Action\" \"TextualRepresentationTest\""
   ]
  },
  {
   "cell_type": "code",
   "execution_count": 28,
   "id": "c0b1756f",
   "metadata": {
    "execution": {
     "iopub.execute_input": "2022-05-19T08:44:54.880484Z",
     "iopub.status.busy": "2022-05-19T08:44:54.880024Z",
     "iopub.status.idle": "2022-05-19T08:44:54.885092Z",
     "shell.execute_reply": "2022-05-19T08:44:54.885392Z"
    }
   },
   "outputs": [
    {
     "data": {
      "image/svg+xml": [
       "<?xml version=\"1.0\" encoding=\"UTF-8\" standalone=\"no\"?><svg xmlns=\"http://www.w3.org/2000/svg\" xmlns:xlink=\"http://www.w3.org/1999/xlink\" contentScriptType=\"application/ecmascript\" contentStyleType=\"text/css\" height=\"12px\" preserveAspectRatio=\"none\" style=\"width:12px;height:12px;\" version=\"1.1\" viewBox=\"0 0 12 12\" width=\"12px\" zoomAndPan=\"magnify\"><defs/><g><!--MD5=[6c4bca67b4d71758159a5a7f1f1e1fc2]\n",
       "@startuml\r\n",
       "skinparam roundcorner 20\r\n",
       "skinparam BoxPadding 20\r\n",
       "skinparam SequenceBoxBackgroundColor #white\r\n",
       "skinparam style strictuml\r\n",
       "skinparam maxMessageSize 100\r\n",
       "skinparam wrapWidth 300\r\n",
       "hide circle\r\n",
       "\r\n",
       "@enduml\r\n",
       "\n",
       "PlantUML version 1.2020.13(Sat Jun 13 12:26:38 UTC 2020)\n",
       "(EPL source distribution)\n",
       "Java Runtime: OpenJDK Runtime Environment\n",
       "JVM: OpenJDK 64-Bit Server VM\n",
       "Default Encoding: UTF-8\n",
       "Language: en\n",
       "Country: null\n",
       "--></g></svg>"
      ]
     },
     "execution_count": 28,
     "metadata": {},
     "output_type": "execute_result"
    }
   ],
   "source": [
    "%viz --style=\"STDCOLOR\" --view=\"Sequence\" \"TextualRepresentationTest\""
   ]
  },
  {
   "cell_type": "code",
   "execution_count": 29,
   "id": "2bb2f5ba",
   "metadata": {
    "execution": {
     "iopub.execute_input": "2022-05-19T08:44:54.935560Z",
     "iopub.status.busy": "2022-05-19T08:44:54.935032Z",
     "iopub.status.idle": "2022-05-19T08:44:54.978780Z",
     "shell.execute_reply": "2022-05-19T08:44:54.978368Z"
    }
   },
   "outputs": [
    {
     "data": {
      "image/svg+xml": [
       "<?xml version=\"1.0\" encoding=\"UTF-8\" standalone=\"no\"?><svg xmlns=\"http://www.w3.org/2000/svg\" xmlns:xlink=\"http://www.w3.org/1999/xlink\" contentScriptType=\"application/ecmascript\" contentStyleType=\"text/css\" height=\"261px\" preserveAspectRatio=\"none\" style=\"width:351px;height:261px;\" version=\"1.1\" viewBox=\"0 0 351 261\" width=\"351px\" zoomAndPan=\"magnify\"><defs><filter height=\"300%\" id=\"f16o0ddu2r7wct\" width=\"300%\" x=\"-1\" y=\"-1\"><feGaussianBlur result=\"blurOut\" stdDeviation=\"2.0\"/><feColorMatrix in=\"blurOut\" result=\"blurOut2\" type=\"matrix\" values=\"0 0 0 0 0 0 0 0 0 0 0 0 0 0 0 0 0 0 .4 0\"/><feOffset dx=\"4.0\" dy=\"4.0\" in=\"blurOut2\" result=\"blurOut3\"/><feBlend in=\"SourceGraphic\" in2=\"blurOut3\" mode=\"normal\"/></filter></defs><g><!--MD5=[fbc87193dbaf4d95561dea2c320d4a47]\n",
       "cluster E1--><a href=\"psysml:2524e1ec-43b2-4dd4-b81d-385c3decebbf\" target=\"_top\" title=\"psysml:2524e1ec-43b2-4dd4-b81d-385c3decebbf\" xlink:actuate=\"onRequest\" xlink:href=\"psysml:2524e1ec-43b2-4dd4-b81d-385c3decebbf\" xlink:show=\"new\" xlink:title=\"psysml:2524e1ec-43b2-4dd4-b81d-385c3decebbf\" xlink:type=\"simple\"><polygon fill=\"#FFFFFF\" filter=\"url(#f16o0ddu2r7wct)\" points=\"16,6,210,6,217,28.2969,329,28.2969,329,249.5,16,249.5,16,6\" style=\"stroke: #000000; stroke-width: 1.5;\"/><line style=\"stroke: #000000; stroke-width: 1.5;\" x1=\"16\" x2=\"217\" y1=\"28.2969\" y2=\"28.2969\"/><text fill=\"#000000\" font-family=\"sans-serif\" font-size=\"14\" font-weight=\"bold\" lengthAdjust=\"spacingAndGlyphs\" textLength=\"188\" x=\"20\" y=\"20.9951\">TextualRepresentationTest</text></a><!--MD5=[f6df4d0ebaf0b5dfb2ced0ae5af7c670]\n",
       "cluster E4--><a href=\"psysml:fdd44db5-2b71-42e4-a6cb-0126cd22309d\" target=\"_top\" title=\"psysml:fdd44db5-2b71-42e4-a6cb-0126cd22309d\" xlink:actuate=\"onRequest\" xlink:href=\"psysml:fdd44db5-2b71-42e4-a6cb-0126cd22309d\" xlink:show=\"new\" xlink:title=\"psysml:fdd44db5-2b71-42e4-a6cb-0126cd22309d\" xlink:type=\"simple\"><rect fill=\"#FFFFFF\" filter=\"url(#f16o0ddu2r7wct)\" height=\"154.5\" id=\"E4\" style=\"stroke: #A80036; stroke-width: 1.5;\" width=\"134\" x=\"179\" y=\"79\"/><rect fill=\"#FEFECE\" height=\"37.9375\" style=\"stroke: #A80036; stroke-width: 1.5;\" width=\"134\" x=\"179\" y=\"79\"/><text fill=\"#000000\" font-family=\"sans-serif\" font-size=\"12\" font-style=\"italic\" lengthAdjust=\"spacingAndGlyphs\" textLength=\"81\" x=\"205.5\" y=\"95.1387\">«action  def»</text><text fill=\"#000000\" font-family=\"sans-serif\" font-size=\"12\" lengthAdjust=\"spacingAndGlyphs\" textLength=\"27\" x=\"232.5\" y=\"109.1074\">setX</text></a><!--MD5=[b4997ac47864f28c2f74865a473b2911]\n",
       "class E2--><a href=\"psysml:9149846c-b557-44f1-bb03-13041676b872\" target=\"_top\" title=\"psysml:9149846c-b557-44f1-bb03-13041676b872\" xlink:actuate=\"onRequest\" xlink:href=\"psysml:9149846c-b557-44f1-bb03-13041676b872\" xlink:show=\"new\" xlink:title=\"psysml:9149846c-b557-44f1-bb03-13041676b872\" xlink:type=\"simple\"><rect fill=\"#FEFECE\" filter=\"url(#f16o0ddu2r7wct)\" height=\"75.5469\" id=\"E2\" style=\"stroke: #A80036; stroke-width: 1.5;\" width=\"71\" x=\"58.5\" y=\"41\"/><text fill=\"#000000\" font-family=\"sans-serif\" font-size=\"12\" font-style=\"italic\" lengthAdjust=\"spacingAndGlyphs\" textLength=\"69\" x=\"59.5\" y=\"57.1387\">«item  def»</text><text fill=\"#000000\" font-family=\"sans-serif\" font-size=\"12\" lengthAdjust=\"spacingAndGlyphs\" textLength=\"8\" x=\"90\" y=\"71.1074\">C</text><line style=\"stroke: #A80036; stroke-width: 1.5;\" x1=\"59.5\" x2=\"128.5\" y1=\"78.9375\" y2=\"78.9375\"/><text fill=\"#000000\" font-family=\"sans-serif\" font-size=\"11\" lengthAdjust=\"spacingAndGlyphs\" textLength=\"38\" x=\"64.5\" y=\"109.9526\">x: Real</text><line style=\"stroke: #A80036; stroke-width: 1.0;\" x1=\"59.5\" x2=\"66.5\" y1=\"93.3398\" y2=\"93.3398\"/><text fill=\"#000000\" font-family=\"sans-serif\" font-size=\"11\" lengthAdjust=\"spacingAndGlyphs\" textLength=\"55\" x=\"66.5\" y=\"96.6479\">attributes</text><line style=\"stroke: #A80036; stroke-width: 1.0;\" x1=\"121.5\" x2=\"128.5\" y1=\"93.3398\" y2=\"93.3398\"/></a><!--MD5=[09b614a08d8cba4a07c9adeb5e0fee81]\n",
       "class E3--><a href=\"psysml:d102dace-404f-4787-94a0-7dab0b8761ce\" target=\"_top\" title=\"psysml:d102dace-404f-4787-94a0-7dab0b8761ce\" xlink:actuate=\"onRequest\" xlink:href=\"psysml:d102dace-404f-4787-94a0-7dab0b8761ce\" xlink:show=\"new\" xlink:title=\"psysml:d102dace-404f-4787-94a0-7dab0b8761ce\" xlink:type=\"simple\"><rect fill=\"#FEFECE\" filter=\"url(#f16o0ddu2r7wct)\" height=\"45.9375\" id=\"E3\" rx=\"10\" ry=\"10\" style=\"stroke: #A80036; stroke-width: 1.5;\" width=\"124\" x=\"32\" y=\"177\"/><text fill=\"#000000\" font-family=\"sans-serif\" font-size=\"12\" font-style=\"italic\" lengthAdjust=\"spacingAndGlyphs\" textLength=\"122\" x=\"33\" y=\"193.1387\">«assert constraint»</text><text fill=\"#000000\" font-family=\"sans-serif\" font-size=\"12\" lengthAdjust=\"spacingAndGlyphs\" textLength=\"76\" x=\"54\" y=\"207.1074\">x_constraint</text><line style=\"stroke: #A80036; stroke-width: 1.5;\" x1=\"33\" x2=\"155\" y1=\"214.9375\" y2=\"214.9375\"/></a><text fill=\"#000000\" font-family=\"sans-serif\" font-size=\"14\" lengthAdjust=\"spacingAndGlyphs\" textLength=\"8\" x=\"193\" y=\"57.6982\">c</text><rect fill=\"#A80036\" height=\"12\" style=\"stroke: #FEFECE; stroke-width: 1.5;\" width=\"12\" x=\"191\" y=\"73\"/><text fill=\"#000000\" font-family=\"sans-serif\" font-size=\"14\" lengthAdjust=\"spacingAndGlyphs\" textLength=\"38\" x=\"225\" y=\"57.6982\">newX</text><rect fill=\"#A80036\" height=\"12\" style=\"stroke: #FEFECE; stroke-width: 1.5;\" width=\"12\" x=\"238\" y=\"73\"/><!--MD5=[209b3feb70ccb6233bfe1053d122c12c]\n",
       "reverse link E2 to E3--><a href=\"psysml:0da81c8f-97bb-41c6-9a60-156bc4c734f4\" target=\"_top\" title=\"psysml:0da81c8f-97bb-41c6-9a60-156bc4c734f4\" xlink:actuate=\"onRequest\" xlink:href=\"psysml:0da81c8f-97bb-41c6-9a60-156bc4c734f4\" xlink:show=\"new\" xlink:title=\"psysml:0da81c8f-97bb-41c6-9a60-156bc4c734f4\" xlink:type=\"simple\"><path d=\"M94,130.34 C94,146.61 94,163.81 94,176.93 \" fill=\"none\" id=\"E2&lt;-E3\" style=\"stroke: #A80036; stroke-width: 1.0;\"/><polygon fill=\"#A80036\" points=\"94,117,90,123,94,129,98,123,94,117\" style=\"stroke: #A80036; stroke-width: 1.0;\"/><text fill=\"#000000\" font-family=\"sans-serif\" font-size=\"13\" lengthAdjust=\"spacingAndGlyphs\" textLength=\"7\" x=\"86.0594\" y=\"165.8075\">*</text></a><!--MD5=[e7e9cb0ec451baa396f37c1f7c81baf5]\n",
       "@startuml\r\n",
       "skinparam wrapWidth 300\r\n",
       "hide circle\r\n",
       "\r\n",
       "package \"TextualRepresentationTest\" as E1  [[psysml:2524e1ec-43b2-4dd4-b81d-385c3decebbf ]]  {\r\n",
       "comp def \"C\" as E2  <<(T,blue) item  def>> [[psysml:9149846c-b557-44f1-bb03-13041676b872 ]] {\r\n",
       "- - attributes - -\r\n",
       "x: Real\r\n",
       "}\r\n",
       "comp usage \"x_constraint \" as E3  <<(T,blue) assert constraint>> [[psysml:d102dace-404f-4787-94a0-7dab0b8761ce ]] {\r\n",
       "}\r\n",
       "rec def \"setX\" as E4  <<(T,blue) action  def>> [[psysml:fdd44db5-2b71-42e4-a6cb-0126cd22309d ]] {\r\n",
       "portin \"c\" as E5  [[psysml:70c0b2f6-f79a-4e90-a3c9-a244a9735aa8 ]] \r\n",
       "portin \"newX\" as E6  [[psysml:4245f76d-31bb-4c80-8014-7bc1277d6e35 ]] \r\n",
       "}\r\n",
       "\r\n",
       "}\r\n",
       "E2 *- - \"*\"E3 [[psysml:0da81c8f-97bb-41c6-9a60-156bc4c734f4 ]] \r\n",
       "@enduml\r\n",
       "\n",
       "PlantUML version 1.2020.13(Sat Jun 13 12:26:38 UTC 2020)\n",
       "(EPL source distribution)\n",
       "Java Runtime: OpenJDK Runtime Environment\n",
       "JVM: OpenJDK 64-Bit Server VM\n",
       "Default Encoding: UTF-8\n",
       "Language: en\n",
       "Country: null\n",
       "--></g></svg>"
      ]
     },
     "execution_count": 29,
     "metadata": {},
     "output_type": "execute_result"
    }
   ],
   "source": [
    "%viz --style=\"STDCOLOR\" --view=\"MIXED\" \"TextualRepresentationTest\""
   ]
  },
  {
   "cell_type": "code",
   "execution_count": 30,
   "id": "7b488644",
   "metadata": {
    "execution": {
     "iopub.execute_input": "2022-05-19T08:44:55.028486Z",
     "iopub.status.busy": "2022-05-19T08:44:55.028033Z",
     "iopub.status.idle": "2022-05-19T08:44:55.093486Z",
     "shell.execute_reply": "2022-05-19T08:44:55.093077Z"
    }
   },
   "outputs": [
    {
     "data": {
      "image/svg+xml": [
       "<?xml version=\"1.0\" encoding=\"UTF-8\" standalone=\"no\"?><svg xmlns=\"http://www.w3.org/2000/svg\" xmlns:xlink=\"http://www.w3.org/1999/xlink\" contentScriptType=\"application/ecmascript\" contentStyleType=\"text/css\" height=\"255px\" preserveAspectRatio=\"none\" style=\"width:377px;height:255px;\" version=\"1.1\" viewBox=\"0 0 377 255\" width=\"377px\" zoomAndPan=\"magnify\"><defs><filter height=\"300%\" id=\"f1pkj5vutkubyo\" width=\"300%\" x=\"-1\" y=\"-1\"><feGaussianBlur result=\"blurOut\" stdDeviation=\"2.0\"/><feColorMatrix in=\"blurOut\" result=\"blurOut2\" type=\"matrix\" values=\"0 0 0 0 0 0 0 0 0 0 0 0 0 0 0 0 0 0 .4 0\"/><feOffset dx=\"4.0\" dy=\"4.0\" in=\"blurOut2\" result=\"blurOut3\"/><feBlend in=\"SourceGraphic\" in2=\"blurOut3\" mode=\"normal\"/></filter></defs><g><!--MD5=[fbc87193dbaf4d95561dea2c320d4a47]\n",
       "cluster E1--><a href=\"psysml:2524e1ec-43b2-4dd4-b81d-385c3decebbf\" target=\"_top\" title=\"psysml:2524e1ec-43b2-4dd4-b81d-385c3decebbf\" xlink:actuate=\"onRequest\" xlink:href=\"psysml:2524e1ec-43b2-4dd4-b81d-385c3decebbf\" xlink:show=\"new\" xlink:title=\"psysml:2524e1ec-43b2-4dd4-b81d-385c3decebbf\" xlink:type=\"simple\"><polygon fill=\"#FFFFFF\" filter=\"url(#f1pkj5vutkubyo)\" points=\"16,6,210,6,217,28.2969,355,28.2969,355,243.5,16,243.5,16,6\" style=\"stroke: #000000; stroke-width: 1.5;\"/><line style=\"stroke: #000000; stroke-width: 1.5;\" x1=\"16\" x2=\"217\" y1=\"28.2969\" y2=\"28.2969\"/><text fill=\"#000000\" font-family=\"sans-serif\" font-size=\"14\" font-weight=\"bold\" lengthAdjust=\"spacingAndGlyphs\" textLength=\"188\" x=\"20\" y=\"20.9951\">TextualRepresentationTest</text></a><!--MD5=[f6df4d0ebaf0b5dfb2ced0ae5af7c670]\n",
       "cluster E4--><a href=\"psysml:fdd44db5-2b71-42e4-a6cb-0126cd22309d\" target=\"_top\" title=\"psysml:fdd44db5-2b71-42e4-a6cb-0126cd22309d\" xlink:actuate=\"onRequest\" xlink:href=\"psysml:fdd44db5-2b71-42e4-a6cb-0126cd22309d\" xlink:show=\"new\" xlink:title=\"psysml:fdd44db5-2b71-42e4-a6cb-0126cd22309d\" xlink:type=\"simple\"><rect fill=\"#FFFFFF\" filter=\"url(#f1pkj5vutkubyo)\" height=\"151.5\" id=\"E4\" style=\"stroke: #A80036; stroke-width: 1.5;\" width=\"134\" x=\"205\" y=\"76\"/><rect fill=\"#FEFECE\" height=\"37.9375\" style=\"stroke: #A80036; stroke-width: 1.5;\" width=\"134\" x=\"205\" y=\"76\"/><text fill=\"#000000\" font-family=\"sans-serif\" font-size=\"12\" font-style=\"italic\" lengthAdjust=\"spacingAndGlyphs\" textLength=\"81\" x=\"231.5\" y=\"92.1387\">«action  def»</text><text fill=\"#000000\" font-family=\"sans-serif\" font-size=\"12\" lengthAdjust=\"spacingAndGlyphs\" textLength=\"27\" x=\"258.5\" y=\"106.1074\">setX</text></a><!--MD5=[b4997ac47864f28c2f74865a473b2911]\n",
       "class E2--><a href=\"psysml:9149846c-b557-44f1-bb03-13041676b872\" target=\"_top\" title=\"psysml:9149846c-b557-44f1-bb03-13041676b872\" xlink:actuate=\"onRequest\" xlink:href=\"psysml:9149846c-b557-44f1-bb03-13041676b872\" xlink:show=\"new\" xlink:title=\"psysml:9149846c-b557-44f1-bb03-13041676b872\" xlink:type=\"simple\"><rect fill=\"#FEFECE\" filter=\"url(#f1pkj5vutkubyo)\" height=\"69.6094\" id=\"E2\" style=\"stroke: #A80036; stroke-width: 1.5;\" width=\"63\" x=\"75.5\" y=\"41\"/><ellipse cx=\"100.85\" cy=\"57\" fill=\"#008000\" rx=\"11\" ry=\"11\" style=\"stroke: #A80036; stroke-width: 1.0;\"/><path d=\"M97.725,62 L97.725,51.4063 L100.9594,51.4063 Q102.8656,51.4063 103.7719,52.1563 Q104.6938,52.9063 104.6938,54.0781 Q104.6938,54.7656 104.3031,55.4219 Q103.9281,56.0781 103.2094,56.375 Q104.0688,56.75 104.5844,57.4375 Q105.1,58.125 105.1,58.9375 Q105.1,60.3125 104.0688,61.1563 Q103.0531,62 100.9438,62 L97.725,62 Z M99.6469,55.6406 L100.8031,55.6406 Q101.9281,55.6406 102.3344,55.2656 Q102.7563,54.875 102.7563,54.25 Q102.7563,53.6719 102.3344,53.3125 Q101.9125,52.9531 100.975,52.9531 L99.6469,52.9531 L99.6469,55.6406 Z M99.6469,60.4219 L101.1469,60.4219 Q102.0531,60.4219 102.5844,60.0313 Q103.1156,59.6406 103.1156,58.8906 Q103.1156,58.125 102.6156,57.6563 Q102.1156,57.1719 100.85,57.1719 L99.6469,57.1719 L99.6469,60.4219 Z \"/><text fill=\"#000000\" font-family=\"sans-serif\" font-size=\"12\" lengthAdjust=\"spacingAndGlyphs\" textLength=\"8\" x=\"117.15\" y=\"61.1543\">C</text><line style=\"stroke: #A80036; stroke-width: 1.5;\" x1=\"76.5\" x2=\"137.5\" y1=\"73\" y2=\"73\"/><text fill=\"#000000\" font-family=\"sans-serif\" font-size=\"11\" lengthAdjust=\"spacingAndGlyphs\" textLength=\"38\" x=\"81.5\" y=\"104.0151\">x: Real</text><line style=\"stroke: #A80036; stroke-width: 1.0;\" x1=\"76.5\" x2=\"79.5\" y1=\"87.4023\" y2=\"87.4023\"/><text fill=\"#000000\" font-family=\"sans-serif\" font-size=\"11\" lengthAdjust=\"spacingAndGlyphs\" textLength=\"55\" x=\"79.5\" y=\"90.7104\">attributes</text><line style=\"stroke: #A80036; stroke-width: 1.0;\" x1=\"134.5\" x2=\"137.5\" y1=\"87.4023\" y2=\"87.4023\"/></a><!--MD5=[09b614a08d8cba4a07c9adeb5e0fee81]\n",
       "class E3--><a href=\"psysml:d102dace-404f-4787-94a0-7dab0b8761ce\" target=\"_top\" title=\"psysml:d102dace-404f-4787-94a0-7dab0b8761ce\" xlink:actuate=\"onRequest\" xlink:href=\"psysml:d102dace-404f-4787-94a0-7dab0b8761ce\" xlink:show=\"new\" xlink:title=\"psysml:d102dace-404f-4787-94a0-7dab0b8761ce\" xlink:type=\"simple\"><rect fill=\"#FEFECE\" filter=\"url(#f1pkj5vutkubyo)\" height=\"45.9375\" id=\"E3\" rx=\"10\" ry=\"10\" style=\"stroke: #A80036; stroke-width: 1.5;\" width=\"150\" x=\"32\" y=\"171\"/><ellipse cx=\"47\" cy=\"189.9688\" fill=\"#FFA500\" rx=\"11\" ry=\"11\" style=\"stroke: #A80036; stroke-width: 1.0;\"/><path d=\"M46.75,195.4375 Q45,195.4375 44.0469,194.4063 Q43.1094,193.3594 43.1094,191.5156 L43.1094,184.625 L45.1719,184.625 L45.1719,184.7813 Q45.0781,184.875 45.0469,185.0156 Q45.0313,185.1406 45.0313,185.4063 L45.0313,191.5313 Q45.0313,192.625 45.4063,193.25 Q45.7813,193.875 46.7656,193.875 Q47.75,193.875 48.1406,193.25 Q48.5313,192.625 48.5313,191.4844 L48.5313,184.625 L50.4063,184.625 L50.4063,191.4688 Q50.4063,193.5 49.375,194.4688 Q48.3594,195.4375 46.75,195.4375 Z \"/><text fill=\"#000000\" font-family=\"sans-serif\" font-size=\"12\" font-style=\"italic\" lengthAdjust=\"spacingAndGlyphs\" textLength=\"122\" x=\"59\" y=\"187.1387\">«assert constraint»</text><text fill=\"#000000\" font-family=\"sans-serif\" font-size=\"12\" lengthAdjust=\"spacingAndGlyphs\" textLength=\"76\" x=\"80\" y=\"201.1074\">x_constraint</text><line style=\"stroke: #A80036; stroke-width: 1.5;\" x1=\"33\" x2=\"181\" y1=\"208.9375\" y2=\"208.9375\"/></a><text fill=\"#000000\" font-family=\"sans-serif\" font-size=\"14\" lengthAdjust=\"spacingAndGlyphs\" textLength=\"8\" x=\"219\" y=\"54.6982\">c</text><rect fill=\"#A80036\" height=\"12\" style=\"stroke: #FEFECE; stroke-width: 1.5;\" width=\"12\" x=\"217\" y=\"70\"/><text fill=\"#000000\" font-family=\"sans-serif\" font-size=\"14\" lengthAdjust=\"spacingAndGlyphs\" textLength=\"38\" x=\"251\" y=\"54.6982\">newX</text><rect fill=\"#A80036\" height=\"12\" style=\"stroke: #FEFECE; stroke-width: 1.5;\" width=\"12\" x=\"264\" y=\"70\"/><!--MD5=[209b3feb70ccb6233bfe1053d122c12c]\n",
       "reverse link E2 to E3--><a href=\"psysml:0da81c8f-97bb-41c6-9a60-156bc4c734f4\" target=\"_top\" title=\"psysml:0da81c8f-97bb-41c6-9a60-156bc4c734f4\" xlink:actuate=\"onRequest\" xlink:href=\"psysml:0da81c8f-97bb-41c6-9a60-156bc4c734f4\" xlink:show=\"new\" xlink:title=\"psysml:0da81c8f-97bb-41c6-9a60-156bc4c734f4\" xlink:type=\"simple\"><path d=\"M107,124.3 C107,140.38 107,157.6 107,170.77 \" fill=\"none\" id=\"E2&lt;-E3\" style=\"stroke: #A80036; stroke-width: 1.0;\"/><polygon fill=\"#A80036\" points=\"107,111.18,103,117.18,107,123.18,111,117.18,107,111.18\" style=\"stroke: #A80036; stroke-width: 1.0;\"/><text fill=\"#000000\" font-family=\"sans-serif\" font-size=\"13\" lengthAdjust=\"spacingAndGlyphs\" textLength=\"7\" x=\"99.1031\" y=\"159.9874\">*</text></a><!--MD5=[2873b38dc2943093587c54fa8ff939e0]\n",
       "@startuml\r\n",
       " \r\n",
       "package \"TextualRepresentationTest\" as E1  [[psysml:2524e1ec-43b2-4dd4-b81d-385c3decebbf ]]  {\r\n",
       "comp def \"C\" as E2 << << (B,green) >> [[psysml:9149846c-b557-44f1-bb03-13041676b872 ]] {\r\n",
       "- - attributes - -\r\n",
       "x: Real\r\n",
       "}\r\n",
       "comp usage \"x_constraint \" as E3 << <<(U,orange) assert constraint>> [[psysml:d102dace-404f-4787-94a0-7dab0b8761ce ]] {\r\n",
       "}\r\n",
       "rec def \"setX\" as E4 << <<(B,lemonchiffon) action  def>> [[psysml:fdd44db5-2b71-42e4-a6cb-0126cd22309d ]] {\r\n",
       "portin \"c\" as E5  [[psysml:70c0b2f6-f79a-4e90-a3c9-a244a9735aa8 ]] \r\n",
       "portin \"newX\" as E6  [[psysml:4245f76d-31bb-4c80-8014-7bc1277d6e35 ]] \r\n",
       "}\r\n",
       "\r\n",
       "}\r\n",
       "E2 *- - \"*\"E3 [[psysml:0da81c8f-97bb-41c6-9a60-156bc4c734f4 ]] \r\n",
       "@enduml\r\n",
       "\n",
       "PlantUML version 1.2020.13(Sat Jun 13 12:26:38 UTC 2020)\n",
       "(EPL source distribution)\n",
       "Java Runtime: OpenJDK Runtime Environment\n",
       "JVM: OpenJDK 64-Bit Server VM\n",
       "Default Encoding: UTF-8\n",
       "Language: en\n",
       "Country: null\n",
       "--></g></svg>"
      ]
     },
     "execution_count": 30,
     "metadata": {},
     "output_type": "execute_result"
    }
   ],
   "source": [
    "%viz --style=\"PLANTUML\" --view=\"Default\" \"TextualRepresentationTest\""
   ]
  },
  {
   "cell_type": "code",
   "execution_count": 31,
   "id": "237b3a6c",
   "metadata": {
    "execution": {
     "iopub.execute_input": "2022-05-19T08:44:55.142944Z",
     "iopub.status.busy": "2022-05-19T08:44:55.142489Z",
     "iopub.status.idle": "2022-05-19T08:44:55.184497Z",
     "shell.execute_reply": "2022-05-19T08:44:55.184093Z"
    }
   },
   "outputs": [
    {
     "data": {
      "image/svg+xml": [
       "<?xml version=\"1.0\" encoding=\"UTF-8\" standalone=\"no\"?><svg xmlns=\"http://www.w3.org/2000/svg\" xmlns:xlink=\"http://www.w3.org/1999/xlink\" contentScriptType=\"application/ecmascript\" contentStyleType=\"text/css\" height=\"369px\" preserveAspectRatio=\"none\" style=\"width:242px;height:369px;\" version=\"1.1\" viewBox=\"0 0 242 369\" width=\"242px\" zoomAndPan=\"magnify\"><defs><filter height=\"300%\" id=\"f1rf0kpslg38g1\" width=\"300%\" x=\"-1\" y=\"-1\"><feGaussianBlur result=\"blurOut\" stdDeviation=\"2.0\"/><feColorMatrix in=\"blurOut\" result=\"blurOut2\" type=\"matrix\" values=\"0 0 0 0 0 0 0 0 0 0 0 0 0 0 0 0 0 0 .4 0\"/><feOffset dx=\"4.0\" dy=\"4.0\" in=\"blurOut2\" result=\"blurOut3\"/><feBlend in=\"SourceGraphic\" in2=\"blurOut3\" mode=\"normal\"/></filter></defs><g><!--MD5=[fbc87193dbaf4d95561dea2c320d4a47]\n",
       "cluster E1--><a href=\"psysml:2524e1ec-43b2-4dd4-b81d-385c3decebbf\" target=\"_top\" title=\"psysml:2524e1ec-43b2-4dd4-b81d-385c3decebbf\" xlink:actuate=\"onRequest\" xlink:href=\"psysml:2524e1ec-43b2-4dd4-b81d-385c3decebbf\" xlink:show=\"new\" xlink:title=\"psysml:2524e1ec-43b2-4dd4-b81d-385c3decebbf\" xlink:type=\"simple\"><polygon fill=\"#FFFFFF\" filter=\"url(#f1rf0kpslg38g1)\" points=\"16,6,210,6,217,28.2969,220,28.2969,220,357,16,357,16,6\" style=\"stroke: #000000; stroke-width: 1.5;\"/><line style=\"stroke: #000000; stroke-width: 1.5;\" x1=\"16\" x2=\"217\" y1=\"28.2969\" y2=\"28.2969\"/><text fill=\"#000000\" font-family=\"sans-serif\" font-size=\"14\" font-weight=\"bold\" lengthAdjust=\"spacingAndGlyphs\" textLength=\"188\" x=\"20\" y=\"20.9951\">TextualRepresentationTest</text></a><!--MD5=[b4997ac47864f28c2f74865a473b2911]\n",
       "class E2--><a href=\"psysml:9149846c-b557-44f1-bb03-13041676b872\" target=\"_top\" title=\"psysml:9149846c-b557-44f1-bb03-13041676b872\" xlink:actuate=\"onRequest\" xlink:href=\"psysml:9149846c-b557-44f1-bb03-13041676b872\" xlink:show=\"new\" xlink:title=\"psysml:9149846c-b557-44f1-bb03-13041676b872\" xlink:type=\"simple\"><rect fill=\"#FEFECE\" filter=\"url(#f1rf0kpslg38g1)\" height=\"69.6094\" id=\"E2\" style=\"stroke: #A80036; stroke-width: 1.5;\" width=\"63\" x=\"86.5\" y=\"164\"/><ellipse cx=\"111.85\" cy=\"180\" fill=\"#008000\" rx=\"11\" ry=\"11\" style=\"stroke: #A80036; stroke-width: 1.0;\"/><path d=\"M108.725,185 L108.725,174.4063 L111.9594,174.4063 Q113.8656,174.4063 114.7719,175.1563 Q115.6938,175.9063 115.6938,177.0781 Q115.6938,177.7656 115.3031,178.4219 Q114.9281,179.0781 114.2094,179.375 Q115.0688,179.75 115.5844,180.4375 Q116.1,181.125 116.1,181.9375 Q116.1,183.3125 115.0688,184.1563 Q114.0531,185 111.9438,185 L108.725,185 Z M110.6469,178.6406 L111.8031,178.6406 Q112.9281,178.6406 113.3344,178.2656 Q113.7563,177.875 113.7563,177.25 Q113.7563,176.6719 113.3344,176.3125 Q112.9125,175.9531 111.975,175.9531 L110.6469,175.9531 L110.6469,178.6406 Z M110.6469,183.4219 L112.1469,183.4219 Q113.0531,183.4219 113.5844,183.0313 Q114.1156,182.6406 114.1156,181.8906 Q114.1156,181.125 113.6156,180.6563 Q113.1156,180.1719 111.85,180.1719 L110.6469,180.1719 L110.6469,183.4219 Z \"/><text fill=\"#000000\" font-family=\"sans-serif\" font-size=\"12\" lengthAdjust=\"spacingAndGlyphs\" textLength=\"8\" x=\"128.15\" y=\"184.1543\">C</text><line style=\"stroke: #A80036; stroke-width: 1.5;\" x1=\"87.5\" x2=\"148.5\" y1=\"196\" y2=\"196\"/><text fill=\"#000000\" font-family=\"sans-serif\" font-size=\"11\" lengthAdjust=\"spacingAndGlyphs\" textLength=\"38\" x=\"92.5\" y=\"227.0151\">x: Real</text><line style=\"stroke: #A80036; stroke-width: 1.0;\" x1=\"87.5\" x2=\"90.5\" y1=\"210.4023\" y2=\"210.4023\"/><text fill=\"#000000\" font-family=\"sans-serif\" font-size=\"11\" lengthAdjust=\"spacingAndGlyphs\" textLength=\"55\" x=\"90.5\" y=\"213.7104\">attributes</text><line style=\"stroke: #A80036; stroke-width: 1.0;\" x1=\"145.5\" x2=\"148.5\" y1=\"210.4023\" y2=\"210.4023\"/></a><!--MD5=[09b614a08d8cba4a07c9adeb5e0fee81]\n",
       "class E3--><a href=\"psysml:d102dace-404f-4787-94a0-7dab0b8761ce\" target=\"_top\" title=\"psysml:d102dace-404f-4787-94a0-7dab0b8761ce\" xlink:actuate=\"onRequest\" xlink:href=\"psysml:d102dace-404f-4787-94a0-7dab0b8761ce\" xlink:show=\"new\" xlink:title=\"psysml:d102dace-404f-4787-94a0-7dab0b8761ce\" xlink:type=\"simple\"><rect fill=\"#FEFECE\" filter=\"url(#f1rf0kpslg38g1)\" height=\"45.9375\" id=\"E3\" rx=\"10\" ry=\"10\" style=\"stroke: #A80036; stroke-width: 1.5;\" width=\"150\" x=\"43\" y=\"295\"/><ellipse cx=\"58\" cy=\"313.9688\" fill=\"#FFA500\" rx=\"11\" ry=\"11\" style=\"stroke: #A80036; stroke-width: 1.0;\"/><path d=\"M57.75,319.4375 Q56,319.4375 55.0469,318.4063 Q54.1094,317.3594 54.1094,315.5156 L54.1094,308.625 L56.1719,308.625 L56.1719,308.7813 Q56.0781,308.875 56.0469,309.0156 Q56.0313,309.1406 56.0313,309.4063 L56.0313,315.5313 Q56.0313,316.625 56.4063,317.25 Q56.7813,317.875 57.7656,317.875 Q58.75,317.875 59.1406,317.25 Q59.5313,316.625 59.5313,315.4844 L59.5313,308.625 L61.4063,308.625 L61.4063,315.4688 Q61.4063,317.5 60.375,318.4688 Q59.3594,319.4375 57.75,319.4375 Z \"/><text fill=\"#000000\" font-family=\"sans-serif\" font-size=\"12\" font-style=\"italic\" lengthAdjust=\"spacingAndGlyphs\" textLength=\"122\" x=\"70\" y=\"311.1387\">«assert constraint»</text><text fill=\"#000000\" font-family=\"sans-serif\" font-size=\"12\" lengthAdjust=\"spacingAndGlyphs\" textLength=\"76\" x=\"91\" y=\"325.1074\">x_constraint</text><line style=\"stroke: #A80036; stroke-width: 1.5;\" x1=\"44\" x2=\"192\" y1=\"332.9375\" y2=\"332.9375\"/></a><!--MD5=[ebbe1d658d1005bcc118a6aa81145e00]\n",
       "class E4--><a href=\"psysml:fdd44db5-2b71-42e4-a6cb-0126cd22309d\" target=\"_top\" title=\"psysml:fdd44db5-2b71-42e4-a6cb-0126cd22309d\" xlink:actuate=\"onRequest\" xlink:href=\"psysml:fdd44db5-2b71-42e4-a6cb-0126cd22309d\" xlink:show=\"new\" xlink:title=\"psysml:fdd44db5-2b71-42e4-a6cb-0126cd22309d\" xlink:type=\"simple\"><rect fill=\"#FEFECE\" filter=\"url(#f1rf0kpslg38g1)\" height=\"45.9375\" id=\"E4\" style=\"stroke: #A80036; stroke-width: 1.5;\" width=\"109\" x=\"63.5\" y=\"41\"/><ellipse cx=\"78.5\" cy=\"59.9688\" fill=\"#FFFACD\" rx=\"11\" ry=\"11\" style=\"stroke: #A80036; stroke-width: 1.0;\"/><path d=\"M75.375,64.9688 L75.375,54.375 L78.6094,54.375 Q80.5156,54.375 81.4219,55.125 Q82.3438,55.875 82.3438,57.0469 Q82.3438,57.7344 81.9531,58.3906 Q81.5781,59.0469 80.8594,59.3438 Q81.7188,59.7188 82.2344,60.4063 Q82.75,61.0938 82.75,61.9063 Q82.75,63.2813 81.7188,64.125 Q80.7031,64.9688 78.5938,64.9688 L75.375,64.9688 Z M77.2969,58.6094 L78.4531,58.6094 Q79.5781,58.6094 79.9844,58.2344 Q80.4063,57.8438 80.4063,57.2188 Q80.4063,56.6406 79.9844,56.2813 Q79.5625,55.9219 78.625,55.9219 L77.2969,55.9219 L77.2969,58.6094 Z M77.2969,63.3906 L78.7969,63.3906 Q79.7031,63.3906 80.2344,63 Q80.7656,62.6094 80.7656,61.8594 Q80.7656,61.0938 80.2656,60.625 Q79.7656,60.1406 78.5,60.1406 L77.2969,60.1406 L77.2969,63.3906 Z \"/><text fill=\"#000000\" font-family=\"sans-serif\" font-size=\"12\" font-style=\"italic\" lengthAdjust=\"spacingAndGlyphs\" textLength=\"81\" x=\"90.5\" y=\"57.1387\">«action  def»</text><text fill=\"#000000\" font-family=\"sans-serif\" font-size=\"12\" lengthAdjust=\"spacingAndGlyphs\" textLength=\"27\" x=\"117.5\" y=\"71.1074\">setX</text><line style=\"stroke: #A80036; stroke-width: 1.5;\" x1=\"64.5\" x2=\"171.5\" y1=\"78.9375\" y2=\"78.9375\"/></a><!--MD5=[209b3feb70ccb6233bfe1053d122c12c]\n",
       "reverse link E2 to E3--><a href=\"psysml:0da81c8f-97bb-41c6-9a60-156bc4c734f4\" target=\"_top\" title=\"psysml:0da81c8f-97bb-41c6-9a60-156bc4c734f4\" xlink:actuate=\"onRequest\" xlink:href=\"psysml:0da81c8f-97bb-41c6-9a60-156bc4c734f4\" xlink:show=\"new\" xlink:title=\"psysml:0da81c8f-97bb-41c6-9a60-156bc4c734f4\" xlink:type=\"simple\"><path d=\"M118,247.51 C118,263.88 118,281.44 118,294.81 \" fill=\"none\" id=\"E2&lt;-E3\" style=\"stroke: #A80036; stroke-width: 1.0;\"/><polygon fill=\"#A80036\" points=\"118,234.16,114,240.16,118,246.16,122,240.16,118,234.16\" style=\"stroke: #A80036; stroke-width: 1.0;\"/><text fill=\"#000000\" font-family=\"sans-serif\" font-size=\"13\" lengthAdjust=\"spacingAndGlyphs\" textLength=\"7\" x=\"110.1031\" y=\"284.0376\">*</text></a><!--MD5=[ddeed8deb2209213b62e6cfabaa108b2]\n",
       "reverse link E4 to E2--><a href=\"psysml:70c0b2f6-f79a-4e90-a3c9-a244a9735aa8\" target=\"_top\" title=\"psysml:70c0b2f6-f79a-4e90-a3c9-a244a9735aa8\" xlink:actuate=\"onRequest\" xlink:href=\"psysml:70c0b2f6-f79a-4e90-a3c9-a244a9735aa8\" xlink:show=\"new\" xlink:title=\"psysml:70c0b2f6-f79a-4e90-a3c9-a244a9735aa8\" xlink:type=\"simple\"><path d=\"M118,100.33 C118,120.02 118,144.43 118,163.92 \" fill=\"none\" id=\"E4&lt;-E2\" style=\"stroke: #A80036; stroke-width: 1.0;\"/><polygon fill=\"#FFFFFF\" points=\"118,87.26,114,93.26,118,99.26,122,93.26,118,87.26\" style=\"stroke: #A80036; stroke-width: 1.0;\"/><text fill=\"#000000\" font-family=\"sans-serif\" font-size=\"13\" lengthAdjust=\"spacingAndGlyphs\" textLength=\"7\" x=\"119\" y=\"130.0669\">c</text></a><!--MD5=[c19e16b4cce140dfab57e8e0cbc2c9da]\n",
       "@startuml\r\n",
       " \r\n",
       "package \"TextualRepresentationTest\" as E1  [[psysml:2524e1ec-43b2-4dd4-b81d-385c3decebbf ]]  {\r\n",
       "comp def \"C\" as E2 << << (B,green) >> [[psysml:9149846c-b557-44f1-bb03-13041676b872 ]] {\r\n",
       "- - attributes - -\r\n",
       "x: Real\r\n",
       "}\r\n",
       "comp usage \"x_constraint \" as E3 << <<(U,orange) assert constraint>> [[psysml:d102dace-404f-4787-94a0-7dab0b8761ce ]] {\r\n",
       "}\r\n",
       "comp def \"setX\" as E4 << <<(B,lemonchiffon) action  def>> [[psysml:fdd44db5-2b71-42e4-a6cb-0126cd22309d ]] {\r\n",
       "}\r\n",
       "}\r\n",
       "E2 *- - \"*\"E3 [[psysml:0da81c8f-97bb-41c6-9a60-156bc4c734f4 ]] \r\n",
       "E4 o- - E2 [[psysml:70c0b2f6-f79a-4e90-a3c9-a244a9735aa8 ]] : c\r\n",
       "@enduml\r\n",
       "\n",
       "PlantUML version 1.2020.13(Sat Jun 13 12:26:38 UTC 2020)\n",
       "(EPL source distribution)\n",
       "Java Runtime: OpenJDK Runtime Environment\n",
       "JVM: OpenJDK 64-Bit Server VM\n",
       "Default Encoding: UTF-8\n",
       "Language: en\n",
       "Country: null\n",
       "--></g></svg>"
      ]
     },
     "execution_count": 31,
     "metadata": {},
     "output_type": "execute_result"
    }
   ],
   "source": [
    "%viz --style=\"PLANTUML\" --view=\"Tree\" \"TextualRepresentationTest\""
   ]
  },
  {
   "cell_type": "code",
   "execution_count": 32,
   "id": "921cc68b",
   "metadata": {
    "execution": {
     "iopub.execute_input": "2022-05-19T08:44:55.234159Z",
     "iopub.status.busy": "2022-05-19T08:44:55.233683Z",
     "iopub.status.idle": "2022-05-19T08:44:55.324534Z",
     "shell.execute_reply": "2022-05-19T08:44:55.322987Z"
    }
   },
   "outputs": [
    {
     "data": {
      "image/svg+xml": [
       "<?xml version=\"1.0\" encoding=\"UTF-8\" standalone=\"no\"?><svg xmlns=\"http://www.w3.org/2000/svg\" xmlns:xlink=\"http://www.w3.org/1999/xlink\" contentScriptType=\"application/ecmascript\" contentStyleType=\"text/css\" height=\"300px\" preserveAspectRatio=\"none\" style=\"width:603px;height:300px;background:#000000;\" version=\"1.1\" viewBox=\"0 0 603 300\" width=\"603px\" zoomAndPan=\"magnify\"><defs/><g><rect fill=\"#26071B\" height=\"1\" style=\"stroke: #26071B; stroke-width: 1.0;\" width=\"1\" x=\"0\" y=\"0\"/><rect fill=\"#FFFFFF\" height=\"202.8012\" style=\"stroke: #FFFFFF; stroke-width: 1.0;\" width=\"602\" x=\"0\" y=\"0\"/><text fill=\"#000000\" font-family=\"sans-serif\" font-size=\"12\" font-weight=\"bold\" lengthAdjust=\"spacingAndGlyphs\" textLength=\"139\" x=\"5\" y=\"16.1387\">Welcome to PlantUML!</text><text fill=\"#000000\" font-family=\"sans-serif\" font-size=\"12\" lengthAdjust=\"spacingAndGlyphs\" textLength=\"0\" x=\"9\" y=\"30.1074\"/><text fill=\"#000000\" font-family=\"sans-serif\" font-size=\"12\" lengthAdjust=\"spacingAndGlyphs\" textLength=\"293\" x=\"5\" y=\"44.0762\">If you use this software, you accept its license.</text><text fill=\"#000000\" font-family=\"sans-serif\" font-size=\"12\" lengthAdjust=\"spacingAndGlyphs\" textLength=\"107\" x=\"5\" y=\"58.0449\">(details by typing</text><text fill=\"#000000\" font-family=\"monospace\" font-size=\"12\" lengthAdjust=\"spacingAndGlyphs\" textLength=\"42\" x=\"116\" y=\"58.595\">license</text><text fill=\"#000000\" font-family=\"sans-serif\" font-size=\"12\" lengthAdjust=\"spacingAndGlyphs\" textLength=\"56\" x=\"162\" y=\"58.0449\">keyword)</text><text fill=\"#000000\" font-family=\"sans-serif\" font-size=\"12\" lengthAdjust=\"spacingAndGlyphs\" textLength=\"0\" x=\"9\" y=\"72.0137\"/><text fill=\"#000000\" font-family=\"sans-serif\" font-size=\"12\" lengthAdjust=\"spacingAndGlyphs\" textLength=\"283\" x=\"5\" y=\"85.9824\">You can start with a simple UML Diagram like:</text><text fill=\"#000000\" font-family=\"sans-serif\" font-size=\"12\" lengthAdjust=\"spacingAndGlyphs\" textLength=\"0\" x=\"9\" y=\"99.9512\"/><text fill=\"#000000\" font-family=\"monospace\" font-size=\"12\" lengthAdjust=\"spacingAndGlyphs\" textLength=\"102\" x=\"5\" y=\"113.0893\">Bob-&gt;Alice: Hello</text><text fill=\"#000000\" font-family=\"sans-serif\" font-size=\"12\" lengthAdjust=\"spacingAndGlyphs\" textLength=\"0\" x=\"9\" y=\"126.508\"/><text fill=\"#000000\" font-family=\"sans-serif\" font-size=\"12\" lengthAdjust=\"spacingAndGlyphs\" textLength=\"14\" x=\"5\" y=\"140.4768\">Or</text><text fill=\"#000000\" font-family=\"sans-serif\" font-size=\"12\" lengthAdjust=\"spacingAndGlyphs\" textLength=\"0\" x=\"9\" y=\"154.4455\"/><text fill=\"#000000\" font-family=\"monospace\" font-size=\"12\" lengthAdjust=\"spacingAndGlyphs\" textLength=\"78\" x=\"5\" y=\"167.5837\">class Example</text><text fill=\"#000000\" font-family=\"sans-serif\" font-size=\"12\" lengthAdjust=\"spacingAndGlyphs\" textLength=\"0\" x=\"9\" y=\"181.0023\"/><text fill=\"#000000\" font-family=\"sans-serif\" font-size=\"12\" lengthAdjust=\"spacingAndGlyphs\" textLength=\"349\" x=\"5\" y=\"194.9711\">You will find more information about PlantUML syntax on</text><text fill=\"#000000\" font-family=\"sans-serif\" font-size=\"12\" lengthAdjust=\"spacingAndGlyphs\" text-decoration=\"underline\" textLength=\"129\" x=\"358\" y=\"194.9711\">https://plantuml.com</text><image height=\"71\" width=\"80\" x=\"516\" xlink:href=\"data:image/png;base64,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\" y=\"6\"/><rect fill=\"#000000\" height=\"96.4844\" style=\"stroke: #000000; stroke-width: 1.0;\" width=\"602\" x=\"0\" y=\"202.8012\"/><rect fill=\"#33FF02\" height=\"21.2969\" style=\"stroke: #33FF02; stroke-width: 1.0;\" width=\"145\" x=\"5\" y=\"207.8012\"/><text fill=\"#000000\" font-family=\"sans-serif\" font-size=\"14\" font-weight=\"bold\" lengthAdjust=\"spacingAndGlyphs\" textLength=\"143\" x=\"6\" y=\"222.8012\">[From string (line 2) ]</text><text fill=\"#33FF02\" font-family=\"sans-serif\" font-size=\"14\" font-weight=\"bold\" lengthAdjust=\"spacingAndGlyphs\" textLength=\"0\" x=\"9\" y=\"243.0981\"/><text fill=\"#33FF02\" font-family=\"sans-serif\" font-size=\"14\" font-weight=\"bold\" lengthAdjust=\"spacingAndGlyphs\" textLength=\"70\" x=\"5\" y=\"259.3949\">@startuml</text><text fill=\"#33FF02\" font-family=\"sans-serif\" font-size=\"14\" font-weight=\"bold\" lengthAdjust=\"spacingAndGlyphs\" textLength=\"0\" x=\"9\" y=\"275.6918\"/><text fill=\"#FF0000\" font-family=\"sans-serif\" font-size=\"14\" font-weight=\"bold\" lengthAdjust=\"spacingAndGlyphs\" textLength=\"124\" x=\"9\" y=\"291.9887\">Empty description</text><!--MD5=[f59edd8218d337f74d0c332fc6737304]\n",
       "@startuml\r\n",
       " \r\n",
       "@enduml\r\n",
       "\n",
       "PlantUML version 1.2020.13(Sat Jun 13 12:26:38 UTC 2020)\n",
       "(EPL source distribution)\n",
       "Java Runtime: OpenJDK Runtime Environment\n",
       "JVM: OpenJDK 64-Bit Server VM\n",
       "Default Encoding: UTF-8\n",
       "Language: en\n",
       "Country: null\n",
       "--></g></svg>"
      ]
     },
     "execution_count": 32,
     "metadata": {},
     "output_type": "execute_result"
    }
   ],
   "source": [
    "%viz --style=\"PLANTUML\" --view=\"State\" \"TextualRepresentationTest\""
   ]
  },
  {
   "cell_type": "code",
   "execution_count": 33,
   "id": "faf780d3",
   "metadata": {
    "execution": {
     "iopub.execute_input": "2022-05-19T08:44:55.373841Z",
     "iopub.status.busy": "2022-05-19T08:44:55.373383Z",
     "iopub.status.idle": "2022-05-19T08:44:55.396450Z",
     "shell.execute_reply": "2022-05-19T08:44:55.395975Z"
    }
   },
   "outputs": [
    {
     "data": {
      "image/svg+xml": [
       "<?xml version=\"1.0\" encoding=\"UTF-8\" standalone=\"no\"?><svg xmlns=\"http://www.w3.org/2000/svg\" xmlns:xlink=\"http://www.w3.org/1999/xlink\" contentScriptType=\"application/ecmascript\" contentStyleType=\"text/css\" height=\"176px\" preserveAspectRatio=\"none\" style=\"width:266px;height:176px;\" version=\"1.1\" viewBox=\"0 0 266 176\" width=\"266px\" zoomAndPan=\"magnify\"><defs><filter height=\"300%\" id=\"fy6larwweizzn\" width=\"300%\" x=\"-1\" y=\"-1\"><feGaussianBlur result=\"blurOut\" stdDeviation=\"2.0\"/><feColorMatrix in=\"blurOut\" result=\"blurOut2\" type=\"matrix\" values=\"0 0 0 0 0 0 0 0 0 0 0 0 0 0 0 0 0 0 .4 0\"/><feOffset dx=\"4.0\" dy=\"4.0\" in=\"blurOut2\" result=\"blurOut3\"/><feBlend in=\"SourceGraphic\" in2=\"blurOut3\" mode=\"normal\"/></filter></defs><g><!--MD5=[fbc87193dbaf4d95561dea2c320d4a47]\n",
       "cluster E1--><a href=\"psysml:2524e1ec-43b2-4dd4-b81d-385c3decebbf\" target=\"_top\" title=\"psysml:2524e1ec-43b2-4dd4-b81d-385c3decebbf\" xlink:actuate=\"onRequest\" xlink:href=\"psysml:2524e1ec-43b2-4dd4-b81d-385c3decebbf\" xlink:show=\"new\" xlink:title=\"psysml:2524e1ec-43b2-4dd4-b81d-385c3decebbf\" xlink:type=\"simple\"><polygon fill=\"#FFFFFF\" filter=\"url(#fy6larwweizzn)\" points=\"16,6,210,6,217,28.2969,244,28.2969,244,164,16,164,16,6\" style=\"stroke: #000000; stroke-width: 1.5;\"/><line style=\"stroke: #000000; stroke-width: 1.5;\" x1=\"16\" x2=\"217\" y1=\"28.2969\" y2=\"28.2969\"/><text fill=\"#000000\" font-family=\"sans-serif\" font-size=\"14\" font-weight=\"bold\" lengthAdjust=\"spacingAndGlyphs\" textLength=\"188\" x=\"20\" y=\"20.9951\">TextualRepresentationTest</text></a><!--MD5=[d5e69f78d87373223dbae638b30a9c99]\n",
       "cluster E3--><a href=\"psysml:fdd44db5-2b71-42e4-a6cb-0126cd22309d\" target=\"_top\" title=\"psysml:fdd44db5-2b71-42e4-a6cb-0126cd22309d\" xlink:actuate=\"onRequest\" xlink:href=\"psysml:fdd44db5-2b71-42e4-a6cb-0126cd22309d\" xlink:show=\"new\" xlink:title=\"psysml:fdd44db5-2b71-42e4-a6cb-0126cd22309d\" xlink:type=\"simple\"><rect fill=\"#FFFFFF\" filter=\"url(#fy6larwweizzn)\" height=\"87\" id=\"E3\" style=\"stroke: #A80036; stroke-width: 1.5;\" width=\"100\" x=\"96.5\" y=\"61\"/><rect fill=\"#FEFECE\" height=\"37.9375\" style=\"stroke: #A80036; stroke-width: 1.5;\" width=\"100\" x=\"96.5\" y=\"61\"/><text fill=\"#000000\" font-family=\"sans-serif\" font-size=\"12\" font-style=\"italic\" lengthAdjust=\"spacingAndGlyphs\" textLength=\"81\" x=\"106\" y=\"77.1387\">«action  def»</text><text fill=\"#000000\" font-family=\"sans-serif\" font-size=\"12\" lengthAdjust=\"spacingAndGlyphs\" textLength=\"27\" x=\"133\" y=\"91.1074\">setX</text></a><g id=\"E1.E2\"><a href=\"psysml:9149846c-b557-44f1-bb03-13041676b872\" target=\"_top\" title=\"psysml:9149846c-b557-44f1-bb03-13041676b872\" xlink:actuate=\"onRequest\" xlink:href=\"psysml:9149846c-b557-44f1-bb03-13041676b872\" xlink:show=\"new\" xlink:title=\"psysml:9149846c-b557-44f1-bb03-13041676b872\" xlink:type=\"simple\"><rect fill=\"#FEFECE\" filter=\"url(#fy6larwweizzn)\" height=\"40\" id=\"E2\" style=\"stroke: #A80036; stroke-width: 1.5;\" width=\"50\" x=\"32\" y=\"41\"/><ellipse cx=\"51.5\" cy=\"57\" fill=\"#008000\" rx=\"11\" ry=\"11\" style=\"stroke: #A80036; stroke-width: 1.0;\"/><path d=\"M48.375,62 L48.375,51.4063 L51.6094,51.4063 Q53.5156,51.4063 54.4219,52.1563 Q55.3438,52.9063 55.3438,54.0781 Q55.3438,54.7656 54.9531,55.4219 Q54.5781,56.0781 53.8594,56.375 Q54.7188,56.75 55.2344,57.4375 Q55.75,58.125 55.75,58.9375 Q55.75,60.3125 54.7188,61.1563 Q53.7031,62 51.5938,62 L48.375,62 Z M50.2969,55.6406 L51.4531,55.6406 Q52.5781,55.6406 52.9844,55.2656 Q53.4063,54.875 53.4063,54.25 Q53.4063,53.6719 52.9844,53.3125 Q52.5625,52.9531 51.625,52.9531 L50.2969,52.9531 L50.2969,55.6406 Z M50.2969,60.4219 L51.7969,60.4219 Q52.7031,60.4219 53.2344,60.0313 Q53.7656,59.6406 53.7656,58.8906 Q53.7656,58.125 53.2656,57.6563 Q52.7656,57.1719 51.5,57.1719 L50.2969,57.1719 L50.2969,60.4219 Z \"/><text fill=\"#000000\" font-family=\"sans-serif\" font-size=\"12\" lengthAdjust=\"spacingAndGlyphs\" textLength=\"8\" x=\"66.5\" y=\"61.1543\">C</text></a></g><text fill=\"#000000\" font-family=\"sans-serif\" font-size=\"14\" lengthAdjust=\"spacingAndGlyphs\" textLength=\"8\" x=\"119\" y=\"39.6982\">c</text><rect fill=\"#A80036\" height=\"12\" style=\"stroke: #FEFECE; stroke-width: 1.5;\" width=\"12\" x=\"117\" y=\"55\"/><text fill=\"#000000\" font-family=\"sans-serif\" font-size=\"14\" lengthAdjust=\"spacingAndGlyphs\" textLength=\"38\" x=\"151\" y=\"39.6982\">newX</text><rect fill=\"#A80036\" height=\"12\" style=\"stroke: #FEFECE; stroke-width: 1.5;\" width=\"12\" x=\"164\" y=\"55\"/><!--MD5=[922d29146d65a8d187d7023fbdd140ad]\n",
       "@startuml\r\n",
       "skinparam ranksep 10\r\n",
       "skinparam rectangle {\r\n",
       " backgroundColor<<block>> LightGreen\r\n",
       "}\r\n",
       " \r\n",
       "package \"TextualRepresentationTest\" as E1  [[psysml:2524e1ec-43b2-4dd4-b81d-385c3decebbf ]]  {\r\n",
       "def \"C\" as E2 << << (B,green) >> [[psysml:9149846c-b557-44f1-bb03-13041676b872 ]] \r\n",
       "rec def \"setX\" as E3 << <<(B,lemonchiffon) action  def>> [[psysml:fdd44db5-2b71-42e4-a6cb-0126cd22309d ]] {\r\n",
       "portin \"c\" as E4  [[psysml:70c0b2f6-f79a-4e90-a3c9-a244a9735aa8 ]] \r\n",
       "portin \"newX\" as E5  [[psysml:4245f76d-31bb-4c80-8014-7bc1277d6e35 ]] \r\n",
       "}\r\n",
       "\r\n",
       "}\r\n",
       "@enduml\r\n",
       "\n",
       "PlantUML version 1.2020.13(Sat Jun 13 12:26:38 UTC 2020)\n",
       "(EPL source distribution)\n",
       "Java Runtime: OpenJDK Runtime Environment\n",
       "JVM: OpenJDK 64-Bit Server VM\n",
       "Default Encoding: UTF-8\n",
       "Language: en\n",
       "Country: null\n",
       "--></g></svg>"
      ]
     },
     "execution_count": 33,
     "metadata": {},
     "output_type": "execute_result"
    }
   ],
   "source": [
    "%viz --style=\"PLANTUML\" --view=\"Interconnection\" \"TextualRepresentationTest\""
   ]
  },
  {
   "cell_type": "code",
   "execution_count": 34,
   "id": "a4ebf343",
   "metadata": {
    "execution": {
     "iopub.execute_input": "2022-05-19T08:44:55.446045Z",
     "iopub.status.busy": "2022-05-19T08:44:55.445506Z",
     "iopub.status.idle": "2022-05-19T08:44:55.474143Z",
     "shell.execute_reply": "2022-05-19T08:44:55.473667Z"
    }
   },
   "outputs": [
    {
     "data": {
      "image/svg+xml": [
       "<?xml version=\"1.0\" encoding=\"UTF-8\" standalone=\"no\"?><svg xmlns=\"http://www.w3.org/2000/svg\" xmlns:xlink=\"http://www.w3.org/1999/xlink\" contentScriptType=\"application/ecmascript\" contentStyleType=\"text/css\" height=\"134px\" preserveAspectRatio=\"none\" style=\"width:160px;height:134px;\" version=\"1.1\" viewBox=\"0 0 160 134\" width=\"160px\" zoomAndPan=\"magnify\"><defs><filter height=\"300%\" id=\"fbpcw64ort4l7\" width=\"300%\" x=\"-1\" y=\"-1\"><feGaussianBlur result=\"blurOut\" stdDeviation=\"2.0\"/><feColorMatrix in=\"blurOut\" result=\"blurOut2\" type=\"matrix\" values=\"0 0 0 0 0 0 0 0 0 0 0 0 0 0 0 0 0 0 .4 0\"/><feOffset dx=\"4.0\" dy=\"4.0\" in=\"blurOut2\" result=\"blurOut3\"/><feBlend in=\"SourceGraphic\" in2=\"blurOut3\" mode=\"normal\"/></filter></defs><g><!--MD5=[fbc87193dbaf4d95561dea2c320d4a47]\n",
       "cluster E1--><a href=\"psysml:fdd44db5-2b71-42e4-a6cb-0126cd22309d\" target=\"_top\" title=\"psysml:fdd44db5-2b71-42e4-a6cb-0126cd22309d\" xlink:actuate=\"onRequest\" xlink:href=\"psysml:fdd44db5-2b71-42e4-a6cb-0126cd22309d\" xlink:show=\"new\" xlink:title=\"psysml:fdd44db5-2b71-42e4-a6cb-0126cd22309d\" xlink:type=\"simple\"><rect fill=\"#FFFFFF\" filter=\"url(#fbpcw64ort4l7)\" height=\"73\" id=\"E1\" style=\"stroke: #A80036; stroke-width: 1.5;\" width=\"134\" x=\"7\" y=\"42.0986\"/><rect fill=\"#FEFECE\" height=\"37.9375\" style=\"stroke: #A80036; stroke-width: 1.5;\" width=\"134\" x=\"7\" y=\"42.0986\"/><text fill=\"#000000\" font-family=\"sans-serif\" font-size=\"12\" font-style=\"italic\" lengthAdjust=\"spacingAndGlyphs\" textLength=\"81\" x=\"33.5\" y=\"58.2373\">«action  def»</text><text fill=\"#000000\" font-family=\"sans-serif\" font-size=\"12\" lengthAdjust=\"spacingAndGlyphs\" textLength=\"27\" x=\"60.5\" y=\"72.2061\">setX</text></a><text fill=\"#000000\" font-family=\"sans-serif\" font-size=\"14\" lengthAdjust=\"spacingAndGlyphs\" textLength=\"8\" x=\"21\" y=\"20.7969\">c</text><rect fill=\"#A80036\" height=\"12\" style=\"stroke: #FEFECE; stroke-width: 1.5;\" width=\"12\" x=\"19\" y=\"36.0986\"/><text fill=\"#000000\" font-family=\"sans-serif\" font-size=\"14\" lengthAdjust=\"spacingAndGlyphs\" textLength=\"38\" x=\"53\" y=\"20.7969\">newX</text><rect fill=\"#A80036\" height=\"12\" style=\"stroke: #FEFECE; stroke-width: 1.5;\" width=\"12\" x=\"66\" y=\"36.0986\"/><!--MD5=[3f3e2db8d325fdd2cfa5c7c66f965a2d]\n",
       "@startuml\r\n",
       "skinparam ranksep 8\r\n",
       " \r\n",
       "rec def \"setX\" as E1 << <<(B,lemonchiffon) action  def>> [[psysml:fdd44db5-2b71-42e4-a6cb-0126cd22309d ]] {\r\n",
       "portin \"c\" as E2  [[psysml:70c0b2f6-f79a-4e90-a3c9-a244a9735aa8 ]] \r\n",
       "portin \"newX\" as E3  [[psysml:4245f76d-31bb-4c80-8014-7bc1277d6e35 ]] \r\n",
       "}\r\n",
       "\r\n",
       "@enduml\r\n",
       "\n",
       "PlantUML version 1.2020.13(Sat Jun 13 12:26:38 UTC 2020)\n",
       "(EPL source distribution)\n",
       "Java Runtime: OpenJDK Runtime Environment\n",
       "JVM: OpenJDK 64-Bit Server VM\n",
       "Default Encoding: UTF-8\n",
       "Language: en\n",
       "Country: null\n",
       "--></g></svg>"
      ]
     },
     "execution_count": 34,
     "metadata": {},
     "output_type": "execute_result"
    }
   ],
   "source": [
    "%viz --style=\"PLANTUML\" --view=\"Action\" \"TextualRepresentationTest\""
   ]
  },
  {
   "cell_type": "code",
   "execution_count": 35,
   "id": "042d5787",
   "metadata": {
    "execution": {
     "iopub.execute_input": "2022-05-19T08:44:55.523780Z",
     "iopub.status.busy": "2022-05-19T08:44:55.523284Z",
     "iopub.status.idle": "2022-05-19T08:44:55.528305Z",
     "shell.execute_reply": "2022-05-19T08:44:55.527911Z"
    }
   },
   "outputs": [
    {
     "data": {
      "image/svg+xml": [
       "<?xml version=\"1.0\" encoding=\"UTF-8\" standalone=\"no\"?><svg xmlns=\"http://www.w3.org/2000/svg\" xmlns:xlink=\"http://www.w3.org/1999/xlink\" contentScriptType=\"application/ecmascript\" contentStyleType=\"text/css\" height=\"12px\" preserveAspectRatio=\"none\" style=\"width:12px;height:12px;\" version=\"1.1\" viewBox=\"0 0 12 12\" width=\"12px\" zoomAndPan=\"magnify\"><defs/><g><!--MD5=[ca4faa0b02def275ea33c14ea7a1a98d]\n",
       "@startuml\r\n",
       "skinparam roundcorner 20\r\n",
       "skinparam BoxPadding 20\r\n",
       "skinparam SequenceBoxBackgroundColor #white\r\n",
       "skinparam style strictuml\r\n",
       "skinparam maxMessageSize 100\r\n",
       " \r\n",
       "@enduml\r\n",
       "\n",
       "PlantUML version 1.2020.13(Sat Jun 13 12:26:38 UTC 2020)\n",
       "(EPL source distribution)\n",
       "Java Runtime: OpenJDK Runtime Environment\n",
       "JVM: OpenJDK 64-Bit Server VM\n",
       "Default Encoding: UTF-8\n",
       "Language: en\n",
       "Country: null\n",
       "--></g></svg>"
      ]
     },
     "execution_count": 35,
     "metadata": {},
     "output_type": "execute_result"
    }
   ],
   "source": [
    "%viz --style=\"PLANTUML\" --view=\"Sequence\" \"TextualRepresentationTest\""
   ]
  },
  {
   "cell_type": "code",
   "execution_count": 36,
   "id": "cac9c368",
   "metadata": {
    "execution": {
     "iopub.execute_input": "2022-05-19T08:44:55.578220Z",
     "iopub.status.busy": "2022-05-19T08:44:55.577767Z",
     "iopub.status.idle": "2022-05-19T08:44:55.620208Z",
     "shell.execute_reply": "2022-05-19T08:44:55.618412Z"
    }
   },
   "outputs": [
    {
     "data": {
      "image/svg+xml": [
       "<?xml version=\"1.0\" encoding=\"UTF-8\" standalone=\"no\"?><svg xmlns=\"http://www.w3.org/2000/svg\" xmlns:xlink=\"http://www.w3.org/1999/xlink\" contentScriptType=\"application/ecmascript\" contentStyleType=\"text/css\" height=\"255px\" preserveAspectRatio=\"none\" style=\"width:377px;height:255px;\" version=\"1.1\" viewBox=\"0 0 377 255\" width=\"377px\" zoomAndPan=\"magnify\"><defs><filter height=\"300%\" id=\"f1pkj5vutkubyo\" width=\"300%\" x=\"-1\" y=\"-1\"><feGaussianBlur result=\"blurOut\" stdDeviation=\"2.0\"/><feColorMatrix in=\"blurOut\" result=\"blurOut2\" type=\"matrix\" values=\"0 0 0 0 0 0 0 0 0 0 0 0 0 0 0 0 0 0 .4 0\"/><feOffset dx=\"4.0\" dy=\"4.0\" in=\"blurOut2\" result=\"blurOut3\"/><feBlend in=\"SourceGraphic\" in2=\"blurOut3\" mode=\"normal\"/></filter></defs><g><!--MD5=[fbc87193dbaf4d95561dea2c320d4a47]\n",
       "cluster E1--><a href=\"psysml:2524e1ec-43b2-4dd4-b81d-385c3decebbf\" target=\"_top\" title=\"psysml:2524e1ec-43b2-4dd4-b81d-385c3decebbf\" xlink:actuate=\"onRequest\" xlink:href=\"psysml:2524e1ec-43b2-4dd4-b81d-385c3decebbf\" xlink:show=\"new\" xlink:title=\"psysml:2524e1ec-43b2-4dd4-b81d-385c3decebbf\" xlink:type=\"simple\"><polygon fill=\"#FFFFFF\" filter=\"url(#f1pkj5vutkubyo)\" points=\"16,6,210,6,217,28.2969,355,28.2969,355,243.5,16,243.5,16,6\" style=\"stroke: #000000; stroke-width: 1.5;\"/><line style=\"stroke: #000000; stroke-width: 1.5;\" x1=\"16\" x2=\"217\" y1=\"28.2969\" y2=\"28.2969\"/><text fill=\"#000000\" font-family=\"sans-serif\" font-size=\"14\" font-weight=\"bold\" lengthAdjust=\"spacingAndGlyphs\" textLength=\"188\" x=\"20\" y=\"20.9951\">TextualRepresentationTest</text></a><!--MD5=[f6df4d0ebaf0b5dfb2ced0ae5af7c670]\n",
       "cluster E4--><a href=\"psysml:fdd44db5-2b71-42e4-a6cb-0126cd22309d\" target=\"_top\" title=\"psysml:fdd44db5-2b71-42e4-a6cb-0126cd22309d\" xlink:actuate=\"onRequest\" xlink:href=\"psysml:fdd44db5-2b71-42e4-a6cb-0126cd22309d\" xlink:show=\"new\" xlink:title=\"psysml:fdd44db5-2b71-42e4-a6cb-0126cd22309d\" xlink:type=\"simple\"><rect fill=\"#FFFFFF\" filter=\"url(#f1pkj5vutkubyo)\" height=\"151.5\" id=\"E4\" style=\"stroke: #A80036; stroke-width: 1.5;\" width=\"134\" x=\"205\" y=\"76\"/><rect fill=\"#FEFECE\" height=\"37.9375\" style=\"stroke: #A80036; stroke-width: 1.5;\" width=\"134\" x=\"205\" y=\"76\"/><text fill=\"#000000\" font-family=\"sans-serif\" font-size=\"12\" font-style=\"italic\" lengthAdjust=\"spacingAndGlyphs\" textLength=\"81\" x=\"231.5\" y=\"92.1387\">«action  def»</text><text fill=\"#000000\" font-family=\"sans-serif\" font-size=\"12\" lengthAdjust=\"spacingAndGlyphs\" textLength=\"27\" x=\"258.5\" y=\"106.1074\">setX</text></a><!--MD5=[b4997ac47864f28c2f74865a473b2911]\n",
       "class E2--><a href=\"psysml:9149846c-b557-44f1-bb03-13041676b872\" target=\"_top\" title=\"psysml:9149846c-b557-44f1-bb03-13041676b872\" xlink:actuate=\"onRequest\" xlink:href=\"psysml:9149846c-b557-44f1-bb03-13041676b872\" xlink:show=\"new\" xlink:title=\"psysml:9149846c-b557-44f1-bb03-13041676b872\" xlink:type=\"simple\"><rect fill=\"#FEFECE\" filter=\"url(#f1pkj5vutkubyo)\" height=\"69.6094\" id=\"E2\" style=\"stroke: #A80036; stroke-width: 1.5;\" width=\"63\" x=\"75.5\" y=\"41\"/><ellipse cx=\"100.85\" cy=\"57\" fill=\"#008000\" rx=\"11\" ry=\"11\" style=\"stroke: #A80036; stroke-width: 1.0;\"/><path d=\"M97.725,62 L97.725,51.4063 L100.9594,51.4063 Q102.8656,51.4063 103.7719,52.1563 Q104.6938,52.9063 104.6938,54.0781 Q104.6938,54.7656 104.3031,55.4219 Q103.9281,56.0781 103.2094,56.375 Q104.0688,56.75 104.5844,57.4375 Q105.1,58.125 105.1,58.9375 Q105.1,60.3125 104.0688,61.1563 Q103.0531,62 100.9438,62 L97.725,62 Z M99.6469,55.6406 L100.8031,55.6406 Q101.9281,55.6406 102.3344,55.2656 Q102.7563,54.875 102.7563,54.25 Q102.7563,53.6719 102.3344,53.3125 Q101.9125,52.9531 100.975,52.9531 L99.6469,52.9531 L99.6469,55.6406 Z M99.6469,60.4219 L101.1469,60.4219 Q102.0531,60.4219 102.5844,60.0313 Q103.1156,59.6406 103.1156,58.8906 Q103.1156,58.125 102.6156,57.6563 Q102.1156,57.1719 100.85,57.1719 L99.6469,57.1719 L99.6469,60.4219 Z \"/><text fill=\"#000000\" font-family=\"sans-serif\" font-size=\"12\" lengthAdjust=\"spacingAndGlyphs\" textLength=\"8\" x=\"117.15\" y=\"61.1543\">C</text><line style=\"stroke: #A80036; stroke-width: 1.5;\" x1=\"76.5\" x2=\"137.5\" y1=\"73\" y2=\"73\"/><text fill=\"#000000\" font-family=\"sans-serif\" font-size=\"11\" lengthAdjust=\"spacingAndGlyphs\" textLength=\"38\" x=\"81.5\" y=\"104.0151\">x: Real</text><line style=\"stroke: #A80036; stroke-width: 1.0;\" x1=\"76.5\" x2=\"79.5\" y1=\"87.4023\" y2=\"87.4023\"/><text fill=\"#000000\" font-family=\"sans-serif\" font-size=\"11\" lengthAdjust=\"spacingAndGlyphs\" textLength=\"55\" x=\"79.5\" y=\"90.7104\">attributes</text><line style=\"stroke: #A80036; stroke-width: 1.0;\" x1=\"134.5\" x2=\"137.5\" y1=\"87.4023\" y2=\"87.4023\"/></a><!--MD5=[09b614a08d8cba4a07c9adeb5e0fee81]\n",
       "class E3--><a href=\"psysml:d102dace-404f-4787-94a0-7dab0b8761ce\" target=\"_top\" title=\"psysml:d102dace-404f-4787-94a0-7dab0b8761ce\" xlink:actuate=\"onRequest\" xlink:href=\"psysml:d102dace-404f-4787-94a0-7dab0b8761ce\" xlink:show=\"new\" xlink:title=\"psysml:d102dace-404f-4787-94a0-7dab0b8761ce\" xlink:type=\"simple\"><rect fill=\"#FEFECE\" filter=\"url(#f1pkj5vutkubyo)\" height=\"45.9375\" id=\"E3\" rx=\"10\" ry=\"10\" style=\"stroke: #A80036; stroke-width: 1.5;\" width=\"150\" x=\"32\" y=\"171\"/><ellipse cx=\"47\" cy=\"189.9688\" fill=\"#FFA500\" rx=\"11\" ry=\"11\" style=\"stroke: #A80036; stroke-width: 1.0;\"/><path d=\"M46.75,195.4375 Q45,195.4375 44.0469,194.4063 Q43.1094,193.3594 43.1094,191.5156 L43.1094,184.625 L45.1719,184.625 L45.1719,184.7813 Q45.0781,184.875 45.0469,185.0156 Q45.0313,185.1406 45.0313,185.4063 L45.0313,191.5313 Q45.0313,192.625 45.4063,193.25 Q45.7813,193.875 46.7656,193.875 Q47.75,193.875 48.1406,193.25 Q48.5313,192.625 48.5313,191.4844 L48.5313,184.625 L50.4063,184.625 L50.4063,191.4688 Q50.4063,193.5 49.375,194.4688 Q48.3594,195.4375 46.75,195.4375 Z \"/><text fill=\"#000000\" font-family=\"sans-serif\" font-size=\"12\" font-style=\"italic\" lengthAdjust=\"spacingAndGlyphs\" textLength=\"122\" x=\"59\" y=\"187.1387\">«assert constraint»</text><text fill=\"#000000\" font-family=\"sans-serif\" font-size=\"12\" lengthAdjust=\"spacingAndGlyphs\" textLength=\"76\" x=\"80\" y=\"201.1074\">x_constraint</text><line style=\"stroke: #A80036; stroke-width: 1.5;\" x1=\"33\" x2=\"181\" y1=\"208.9375\" y2=\"208.9375\"/></a><text fill=\"#000000\" font-family=\"sans-serif\" font-size=\"14\" lengthAdjust=\"spacingAndGlyphs\" textLength=\"8\" x=\"219\" y=\"54.6982\">c</text><rect fill=\"#A80036\" height=\"12\" style=\"stroke: #FEFECE; stroke-width: 1.5;\" width=\"12\" x=\"217\" y=\"70\"/><text fill=\"#000000\" font-family=\"sans-serif\" font-size=\"14\" lengthAdjust=\"spacingAndGlyphs\" textLength=\"38\" x=\"251\" y=\"54.6982\">newX</text><rect fill=\"#A80036\" height=\"12\" style=\"stroke: #FEFECE; stroke-width: 1.5;\" width=\"12\" x=\"264\" y=\"70\"/><!--MD5=[209b3feb70ccb6233bfe1053d122c12c]\n",
       "reverse link E2 to E3--><a href=\"psysml:0da81c8f-97bb-41c6-9a60-156bc4c734f4\" target=\"_top\" title=\"psysml:0da81c8f-97bb-41c6-9a60-156bc4c734f4\" xlink:actuate=\"onRequest\" xlink:href=\"psysml:0da81c8f-97bb-41c6-9a60-156bc4c734f4\" xlink:show=\"new\" xlink:title=\"psysml:0da81c8f-97bb-41c6-9a60-156bc4c734f4\" xlink:type=\"simple\"><path d=\"M107,124.3 C107,140.38 107,157.6 107,170.77 \" fill=\"none\" id=\"E2&lt;-E3\" style=\"stroke: #A80036; stroke-width: 1.0;\"/><polygon fill=\"#A80036\" points=\"107,111.18,103,117.18,107,123.18,111,117.18,107,111.18\" style=\"stroke: #A80036; stroke-width: 1.0;\"/><text fill=\"#000000\" font-family=\"sans-serif\" font-size=\"13\" lengthAdjust=\"spacingAndGlyphs\" textLength=\"7\" x=\"99.1031\" y=\"159.9874\">*</text></a><!--MD5=[2873b38dc2943093587c54fa8ff939e0]\n",
       "@startuml\r\n",
       " \r\n",
       "package \"TextualRepresentationTest\" as E1  [[psysml:2524e1ec-43b2-4dd4-b81d-385c3decebbf ]]  {\r\n",
       "comp def \"C\" as E2 << << (B,green) >> [[psysml:9149846c-b557-44f1-bb03-13041676b872 ]] {\r\n",
       "- - attributes - -\r\n",
       "x: Real\r\n",
       "}\r\n",
       "comp usage \"x_constraint \" as E3 << <<(U,orange) assert constraint>> [[psysml:d102dace-404f-4787-94a0-7dab0b8761ce ]] {\r\n",
       "}\r\n",
       "rec def \"setX\" as E4 << <<(B,lemonchiffon) action  def>> [[psysml:fdd44db5-2b71-42e4-a6cb-0126cd22309d ]] {\r\n",
       "portin \"c\" as E5  [[psysml:70c0b2f6-f79a-4e90-a3c9-a244a9735aa8 ]] \r\n",
       "portin \"newX\" as E6  [[psysml:4245f76d-31bb-4c80-8014-7bc1277d6e35 ]] \r\n",
       "}\r\n",
       "\r\n",
       "}\r\n",
       "E2 *- - \"*\"E3 [[psysml:0da81c8f-97bb-41c6-9a60-156bc4c734f4 ]] \r\n",
       "@enduml\r\n",
       "\n",
       "PlantUML version 1.2020.13(Sat Jun 13 12:26:38 UTC 2020)\n",
       "(EPL source distribution)\n",
       "Java Runtime: OpenJDK Runtime Environment\n",
       "JVM: OpenJDK 64-Bit Server VM\n",
       "Default Encoding: UTF-8\n",
       "Language: en\n",
       "Country: null\n",
       "--></g></svg>"
      ]
     },
     "execution_count": 36,
     "metadata": {},
     "output_type": "execute_result"
    }
   ],
   "source": [
    "%viz --style=\"PLANTUML\" --view=\"MIXED\" \"TextualRepresentationTest\""
   ]
  },
  {
   "cell_type": "code",
   "execution_count": 37,
   "id": "f137346e",
   "metadata": {
    "execution": {
     "iopub.execute_input": "2022-05-19T08:44:55.669455Z",
     "iopub.status.busy": "2022-05-19T08:44:55.669001Z",
     "iopub.status.idle": "2022-05-19T08:44:55.707924Z",
     "shell.execute_reply": "2022-05-19T08:44:55.707541Z"
    }
   },
   "outputs": [
    {
     "data": {
      "image/svg+xml": [
       "<?xml version=\"1.0\" encoding=\"UTF-8\" standalone=\"no\"?><svg xmlns=\"http://www.w3.org/2000/svg\" xmlns:xlink=\"http://www.w3.org/1999/xlink\" contentScriptType=\"application/ecmascript\" contentStyleType=\"text/css\" height=\"261px\" preserveAspectRatio=\"none\" style=\"width:351px;height:261px;\" version=\"1.1\" viewBox=\"0 0 351 261\" width=\"351px\" zoomAndPan=\"magnify\"><defs/><g><!--MD5=[fbc87193dbaf4d95561dea2c320d4a47]\n",
       "cluster E1--><a href=\"psysml:2524e1ec-43b2-4dd4-b81d-385c3decebbf\" target=\"_top\" title=\"psysml:2524e1ec-43b2-4dd4-b81d-385c3decebbf\" xlink:actuate=\"onRequest\" xlink:href=\"psysml:2524e1ec-43b2-4dd4-b81d-385c3decebbf\" xlink:show=\"new\" xlink:title=\"psysml:2524e1ec-43b2-4dd4-b81d-385c3decebbf\" xlink:type=\"simple\"><polygon fill=\"#FFFFFF\" points=\"16,6,210,6,217,28.2969,329,28.2969,329,249.5,16,249.5,16,6\" style=\"stroke: #000000; stroke-width: 1.5;\"/><line style=\"stroke: #000000; stroke-width: 1.5;\" x1=\"16\" x2=\"217\" y1=\"28.2969\" y2=\"28.2969\"/><text fill=\"#000000\" font-family=\"sans-serif\" font-size=\"14\" font-weight=\"bold\" lengthAdjust=\"spacingAndGlyphs\" textLength=\"188\" x=\"20\" y=\"20.9951\">TextualRepresentationTest</text></a><!--MD5=[f6df4d0ebaf0b5dfb2ced0ae5af7c670]\n",
       "cluster E4--><a href=\"psysml:fdd44db5-2b71-42e4-a6cb-0126cd22309d\" target=\"_top\" title=\"psysml:fdd44db5-2b71-42e4-a6cb-0126cd22309d\" xlink:actuate=\"onRequest\" xlink:href=\"psysml:fdd44db5-2b71-42e4-a6cb-0126cd22309d\" xlink:show=\"new\" xlink:title=\"psysml:fdd44db5-2b71-42e4-a6cb-0126cd22309d\" xlink:type=\"simple\"><rect fill=\"#FFFFFF\" height=\"154.5\" id=\"E4\" style=\"stroke: #383838; stroke-width: 1.5;\" width=\"134\" x=\"179\" y=\"79\"/><rect fill=\"#F8F8F8\" height=\"37.9375\" style=\"stroke: #383838; stroke-width: 1.5;\" width=\"134\" x=\"179\" y=\"79\"/><text fill=\"#000000\" font-family=\"sans-serif\" font-size=\"12\" font-style=\"italic\" lengthAdjust=\"spacingAndGlyphs\" textLength=\"81\" x=\"205.5\" y=\"95.1387\">«action  def»</text><text fill=\"#000000\" font-family=\"sans-serif\" font-size=\"12\" lengthAdjust=\"spacingAndGlyphs\" textLength=\"27\" x=\"232.5\" y=\"109.1074\">setX</text></a><!--MD5=[b4997ac47864f28c2f74865a473b2911]\n",
       "class E2--><a href=\"psysml:9149846c-b557-44f1-bb03-13041676b872\" target=\"_top\" title=\"psysml:9149846c-b557-44f1-bb03-13041676b872\" xlink:actuate=\"onRequest\" xlink:href=\"psysml:9149846c-b557-44f1-bb03-13041676b872\" xlink:show=\"new\" xlink:title=\"psysml:9149846c-b557-44f1-bb03-13041676b872\" xlink:type=\"simple\"><rect fill=\"#FFFFFF\" height=\"75.5469\" id=\"E2\" style=\"stroke: #383838; stroke-width: 1.5;\" width=\"71\" x=\"58.5\" y=\"41\"/><text fill=\"#000000\" font-family=\"sans-serif\" font-size=\"12\" font-style=\"italic\" lengthAdjust=\"spacingAndGlyphs\" textLength=\"69\" x=\"59.5\" y=\"57.1387\">«item  def»</text><text fill=\"#000000\" font-family=\"sans-serif\" font-size=\"12\" lengthAdjust=\"spacingAndGlyphs\" textLength=\"8\" x=\"90\" y=\"71.1074\">C</text><line style=\"stroke: #383838; stroke-width: 1.5;\" x1=\"59.5\" x2=\"128.5\" y1=\"78.9375\" y2=\"78.9375\"/><text fill=\"#000000\" font-family=\"sans-serif\" font-size=\"11\" lengthAdjust=\"spacingAndGlyphs\" textLength=\"38\" x=\"64.5\" y=\"109.9526\">x: Real</text><line style=\"stroke: #383838; stroke-width: 1.0;\" x1=\"59.5\" x2=\"66.5\" y1=\"93.3398\" y2=\"93.3398\"/><text fill=\"#000000\" font-family=\"sans-serif\" font-size=\"11\" lengthAdjust=\"spacingAndGlyphs\" textLength=\"55\" x=\"66.5\" y=\"96.6479\">attributes</text><line style=\"stroke: #383838; stroke-width: 1.0;\" x1=\"121.5\" x2=\"128.5\" y1=\"93.3398\" y2=\"93.3398\"/></a><!--MD5=[09b614a08d8cba4a07c9adeb5e0fee81]\n",
       "class E3--><a href=\"psysml:d102dace-404f-4787-94a0-7dab0b8761ce\" target=\"_top\" title=\"psysml:d102dace-404f-4787-94a0-7dab0b8761ce\" xlink:actuate=\"onRequest\" xlink:href=\"psysml:d102dace-404f-4787-94a0-7dab0b8761ce\" xlink:show=\"new\" xlink:title=\"psysml:d102dace-404f-4787-94a0-7dab0b8761ce\" xlink:type=\"simple\"><rect fill=\"#FFFFFF\" height=\"45.9375\" id=\"E3\" rx=\"10\" ry=\"10\" style=\"stroke: #383838; stroke-width: 1.5;\" width=\"124\" x=\"32\" y=\"177\"/><text fill=\"#000000\" font-family=\"sans-serif\" font-size=\"12\" font-style=\"italic\" lengthAdjust=\"spacingAndGlyphs\" textLength=\"122\" x=\"33\" y=\"193.1387\">«assert constraint»</text><text fill=\"#000000\" font-family=\"sans-serif\" font-size=\"12\" lengthAdjust=\"spacingAndGlyphs\" textLength=\"76\" x=\"54\" y=\"207.1074\">x_constraint</text><line style=\"stroke: #383838; stroke-width: 1.5;\" x1=\"33\" x2=\"155\" y1=\"214.9375\" y2=\"214.9375\"/></a><text fill=\"#000000\" font-family=\"sans-serif\" font-size=\"14\" lengthAdjust=\"spacingAndGlyphs\" textLength=\"8\" x=\"193\" y=\"57.6982\">c</text><rect fill=\"#383838\" height=\"12\" style=\"stroke: #F8F8F8; stroke-width: 1.5;\" width=\"12\" x=\"191\" y=\"73\"/><text fill=\"#000000\" font-family=\"sans-serif\" font-size=\"14\" lengthAdjust=\"spacingAndGlyphs\" textLength=\"38\" x=\"225\" y=\"57.6982\">newX</text><rect fill=\"#383838\" height=\"12\" style=\"stroke: #F8F8F8; stroke-width: 1.5;\" width=\"12\" x=\"238\" y=\"73\"/><!--MD5=[209b3feb70ccb6233bfe1053d122c12c]\n",
       "reverse link E2 to E3--><a href=\"psysml:0da81c8f-97bb-41c6-9a60-156bc4c734f4\" target=\"_top\" title=\"psysml:0da81c8f-97bb-41c6-9a60-156bc4c734f4\" xlink:actuate=\"onRequest\" xlink:href=\"psysml:0da81c8f-97bb-41c6-9a60-156bc4c734f4\" xlink:show=\"new\" xlink:title=\"psysml:0da81c8f-97bb-41c6-9a60-156bc4c734f4\" xlink:type=\"simple\"><path d=\"M94,130.34 C94,146.61 94,163.81 94,176.93 \" fill=\"none\" id=\"E2&lt;-E3\" style=\"stroke: #383838; stroke-width: 1.0;\"/><polygon fill=\"#383838\" points=\"94,117,90,123,94,129,98,123,94,117\" style=\"stroke: #383838; stroke-width: 1.0;\"/><text fill=\"#000000\" font-family=\"sans-serif\" font-size=\"13\" lengthAdjust=\"spacingAndGlyphs\" textLength=\"7\" x=\"86.0594\" y=\"165.8075\">*</text></a><!--MD5=[485e603d2a05a7e7f05f8bc315a1fca8]\n",
       "@startuml\r\n",
       "skinparam monochrome true\r\n",
       "skinparam classbackgroundcolor white\r\n",
       "skinparam shadowing false\r\n",
       "skinparam wrapWidth 300\r\n",
       "hide circle\r\n",
       "\r\n",
       "package \"TextualRepresentationTest\" as E1  [[psysml:2524e1ec-43b2-4dd4-b81d-385c3decebbf ]]  {\r\n",
       "comp def \"C\" as E2  <<(T,blue) item  def>> [[psysml:9149846c-b557-44f1-bb03-13041676b872 ]] {\r\n",
       "- - attributes - -\r\n",
       "x: Real\r\n",
       "}\r\n",
       "comp usage \"x_constraint \" as E3  <<(T,blue) assert constraint>> [[psysml:d102dace-404f-4787-94a0-7dab0b8761ce ]] {\r\n",
       "}\r\n",
       "rec def \"setX\" as E4  <<(T,blue) action  def>> [[psysml:fdd44db5-2b71-42e4-a6cb-0126cd22309d ]] {\r\n",
       "portin \"c\" as E5  [[psysml:70c0b2f6-f79a-4e90-a3c9-a244a9735aa8 ]] \r\n",
       "portin \"newX\" as E6  [[psysml:4245f76d-31bb-4c80-8014-7bc1277d6e35 ]] \r\n",
       "}\r\n",
       "\r\n",
       "}\r\n",
       "E2 *- - \"*\"E3 [[psysml:0da81c8f-97bb-41c6-9a60-156bc4c734f4 ]] \r\n",
       "@enduml\r\n",
       "\n",
       "PlantUML version 1.2020.13(Sat Jun 13 12:26:38 UTC 2020)\n",
       "(EPL source distribution)\n",
       "Java Runtime: OpenJDK Runtime Environment\n",
       "JVM: OpenJDK 64-Bit Server VM\n",
       "Default Encoding: UTF-8\n",
       "Language: en\n",
       "Country: null\n",
       "--></g></svg>"
      ]
     },
     "execution_count": 37,
     "metadata": {},
     "output_type": "execute_result"
    }
   ],
   "source": [
    "%viz --style=\"DEFAULT\" --view=\"Default\" \"TextualRepresentationTest\""
   ]
  },
  {
   "cell_type": "code",
   "execution_count": 38,
   "id": "3ab6eb81",
   "metadata": {
    "execution": {
     "iopub.execute_input": "2022-05-19T08:44:55.757772Z",
     "iopub.status.busy": "2022-05-19T08:44:55.757320Z",
     "iopub.status.idle": "2022-05-19T08:44:55.797440Z",
     "shell.execute_reply": "2022-05-19T08:44:55.797760Z"
    }
   },
   "outputs": [
    {
     "data": {
      "image/svg+xml": [
       "<?xml version=\"1.0\" encoding=\"UTF-8\" standalone=\"no\"?><svg xmlns=\"http://www.w3.org/2000/svg\" xmlns:xlink=\"http://www.w3.org/1999/xlink\" contentScriptType=\"application/ecmascript\" contentStyleType=\"text/css\" height=\"375px\" preserveAspectRatio=\"none\" style=\"width:242px;height:375px;\" version=\"1.1\" viewBox=\"0 0 242 375\" width=\"242px\" zoomAndPan=\"magnify\"><defs/><g><!--MD5=[fbc87193dbaf4d95561dea2c320d4a47]\n",
       "cluster E1--><a href=\"psysml:2524e1ec-43b2-4dd4-b81d-385c3decebbf\" target=\"_top\" title=\"psysml:2524e1ec-43b2-4dd4-b81d-385c3decebbf\" xlink:actuate=\"onRequest\" xlink:href=\"psysml:2524e1ec-43b2-4dd4-b81d-385c3decebbf\" xlink:show=\"new\" xlink:title=\"psysml:2524e1ec-43b2-4dd4-b81d-385c3decebbf\" xlink:type=\"simple\"><polygon fill=\"#FFFFFF\" points=\"16,6,210,6,217,28.2969,220,28.2969,220,363,16,363,16,6\" style=\"stroke: #000000; stroke-width: 1.5;\"/><line style=\"stroke: #000000; stroke-width: 1.5;\" x1=\"16\" x2=\"217\" y1=\"28.2969\" y2=\"28.2969\"/><text fill=\"#000000\" font-family=\"sans-serif\" font-size=\"14\" font-weight=\"bold\" lengthAdjust=\"spacingAndGlyphs\" textLength=\"188\" x=\"20\" y=\"20.9951\">TextualRepresentationTest</text></a><!--MD5=[b4997ac47864f28c2f74865a473b2911]\n",
       "class E2--><a href=\"psysml:9149846c-b557-44f1-bb03-13041676b872\" target=\"_top\" title=\"psysml:9149846c-b557-44f1-bb03-13041676b872\" xlink:actuate=\"onRequest\" xlink:href=\"psysml:9149846c-b557-44f1-bb03-13041676b872\" xlink:show=\"new\" xlink:title=\"psysml:9149846c-b557-44f1-bb03-13041676b872\" xlink:type=\"simple\"><rect fill=\"#FFFFFF\" height=\"75.5469\" id=\"E2\" style=\"stroke: #383838; stroke-width: 1.5;\" width=\"71\" x=\"82.5\" y=\"164\"/><text fill=\"#000000\" font-family=\"sans-serif\" font-size=\"12\" font-style=\"italic\" lengthAdjust=\"spacingAndGlyphs\" textLength=\"69\" x=\"83.5\" y=\"180.1387\">«item  def»</text><text fill=\"#000000\" font-family=\"sans-serif\" font-size=\"12\" lengthAdjust=\"spacingAndGlyphs\" textLength=\"8\" x=\"114\" y=\"194.1074\">C</text><line style=\"stroke: #383838; stroke-width: 1.5;\" x1=\"83.5\" x2=\"152.5\" y1=\"201.9375\" y2=\"201.9375\"/><text fill=\"#000000\" font-family=\"sans-serif\" font-size=\"11\" lengthAdjust=\"spacingAndGlyphs\" textLength=\"38\" x=\"88.5\" y=\"232.9526\">x: Real</text><line style=\"stroke: #383838; stroke-width: 1.0;\" x1=\"83.5\" x2=\"90.5\" y1=\"216.3398\" y2=\"216.3398\"/><text fill=\"#000000\" font-family=\"sans-serif\" font-size=\"11\" lengthAdjust=\"spacingAndGlyphs\" textLength=\"55\" x=\"90.5\" y=\"219.6479\">attributes</text><line style=\"stroke: #383838; stroke-width: 1.0;\" x1=\"145.5\" x2=\"152.5\" y1=\"216.3398\" y2=\"216.3398\"/></a><!--MD5=[09b614a08d8cba4a07c9adeb5e0fee81]\n",
       "class E3--><a href=\"psysml:d102dace-404f-4787-94a0-7dab0b8761ce\" target=\"_top\" title=\"psysml:d102dace-404f-4787-94a0-7dab0b8761ce\" xlink:actuate=\"onRequest\" xlink:href=\"psysml:d102dace-404f-4787-94a0-7dab0b8761ce\" xlink:show=\"new\" xlink:title=\"psysml:d102dace-404f-4787-94a0-7dab0b8761ce\" xlink:type=\"simple\"><rect fill=\"#FFFFFF\" height=\"45.9375\" id=\"E3\" rx=\"10\" ry=\"10\" style=\"stroke: #383838; stroke-width: 1.5;\" width=\"124\" x=\"56\" y=\"301\"/><text fill=\"#000000\" font-family=\"sans-serif\" font-size=\"12\" font-style=\"italic\" lengthAdjust=\"spacingAndGlyphs\" textLength=\"122\" x=\"57\" y=\"317.1387\">«assert constraint»</text><text fill=\"#000000\" font-family=\"sans-serif\" font-size=\"12\" lengthAdjust=\"spacingAndGlyphs\" textLength=\"76\" x=\"78\" y=\"331.1074\">x_constraint</text><line style=\"stroke: #383838; stroke-width: 1.5;\" x1=\"57\" x2=\"179\" y1=\"338.9375\" y2=\"338.9375\"/></a><!--MD5=[ebbe1d658d1005bcc118a6aa81145e00]\n",
       "class E4--><a href=\"psysml:fdd44db5-2b71-42e4-a6cb-0126cd22309d\" target=\"_top\" title=\"psysml:fdd44db5-2b71-42e4-a6cb-0126cd22309d\" xlink:actuate=\"onRequest\" xlink:href=\"psysml:fdd44db5-2b71-42e4-a6cb-0126cd22309d\" xlink:show=\"new\" xlink:title=\"psysml:fdd44db5-2b71-42e4-a6cb-0126cd22309d\" xlink:type=\"simple\"><rect fill=\"#FFFFFF\" height=\"45.9375\" id=\"E4\" style=\"stroke: #383838; stroke-width: 1.5;\" width=\"83\" x=\"76.5\" y=\"41\"/><text fill=\"#000000\" font-family=\"sans-serif\" font-size=\"12\" font-style=\"italic\" lengthAdjust=\"spacingAndGlyphs\" textLength=\"81\" x=\"77.5\" y=\"57.1387\">«action  def»</text><text fill=\"#000000\" font-family=\"sans-serif\" font-size=\"12\" lengthAdjust=\"spacingAndGlyphs\" textLength=\"27\" x=\"104.5\" y=\"71.1074\">setX</text><line style=\"stroke: #383838; stroke-width: 1.5;\" x1=\"77.5\" x2=\"158.5\" y1=\"78.9375\" y2=\"78.9375\"/></a><!--MD5=[209b3feb70ccb6233bfe1053d122c12c]\n",
       "reverse link E2 to E3--><a href=\"psysml:0da81c8f-97bb-41c6-9a60-156bc4c734f4\" target=\"_top\" title=\"psysml:0da81c8f-97bb-41c6-9a60-156bc4c734f4\" xlink:actuate=\"onRequest\" xlink:href=\"psysml:0da81c8f-97bb-41c6-9a60-156bc4c734f4\" xlink:show=\"new\" xlink:title=\"psysml:0da81c8f-97bb-41c6-9a60-156bc4c734f4\" xlink:type=\"simple\"><path d=\"M118,253.76 C118,270.17 118,287.52 118,300.75 \" fill=\"none\" id=\"E2&lt;-E3\" style=\"stroke: #383838; stroke-width: 1.0;\"/><polygon fill=\"#383838\" points=\"118,240.31,114,246.31,118,252.31,122,246.31,118,240.31\" style=\"stroke: #383838; stroke-width: 1.0;\"/><text fill=\"#000000\" font-family=\"sans-serif\" font-size=\"13\" lengthAdjust=\"spacingAndGlyphs\" textLength=\"7\" x=\"110.1031\" y=\"289.9622\">*</text></a><!--MD5=[ddeed8deb2209213b62e6cfabaa108b2]\n",
       "reverse link E4 to E2--><a href=\"psysml:70c0b2f6-f79a-4e90-a3c9-a244a9735aa8\" target=\"_top\" title=\"psysml:70c0b2f6-f79a-4e90-a3c9-a244a9735aa8\" xlink:actuate=\"onRequest\" xlink:href=\"psysml:70c0b2f6-f79a-4e90-a3c9-a244a9735aa8\" xlink:show=\"new\" xlink:title=\"psysml:70c0b2f6-f79a-4e90-a3c9-a244a9735aa8\" xlink:type=\"simple\"><path d=\"M118,100.42 C118,119.95 118,144.19 118,163.97 \" fill=\"none\" id=\"E4&lt;-E2\" style=\"stroke: #383838; stroke-width: 1.0;\"/><polygon fill=\"#FFFFFF\" points=\"118,87.15,114,93.15,118,99.15,122,93.15,118,87.15\" style=\"stroke: #383838; stroke-width: 1.0;\"/><text fill=\"#000000\" font-family=\"sans-serif\" font-size=\"13\" lengthAdjust=\"spacingAndGlyphs\" textLength=\"7\" x=\"119\" y=\"130.0669\">c</text></a><!--MD5=[22a7912f5611f9f029262543aeab94b6]\n",
       "@startuml\r\n",
       "skinparam monochrome true\r\n",
       "skinparam classbackgroundcolor white\r\n",
       "skinparam shadowing false\r\n",
       "skinparam wrapWidth 300\r\n",
       "hide circle\r\n",
       "\r\n",
       "package \"TextualRepresentationTest\" as E1  [[psysml:2524e1ec-43b2-4dd4-b81d-385c3decebbf ]]  {\r\n",
       "comp def \"C\" as E2  <<(T,blue) item  def>> [[psysml:9149846c-b557-44f1-bb03-13041676b872 ]] {\r\n",
       "- - attributes - -\r\n",
       "x: Real\r\n",
       "}\r\n",
       "comp usage \"x_constraint \" as E3  <<(T,blue) assert constraint>> [[psysml:d102dace-404f-4787-94a0-7dab0b8761ce ]] {\r\n",
       "}\r\n",
       "comp def \"setX\" as E4  <<(T,blue) action  def>> [[psysml:fdd44db5-2b71-42e4-a6cb-0126cd22309d ]] {\r\n",
       "}\r\n",
       "}\r\n",
       "E2 *- - \"*\"E3 [[psysml:0da81c8f-97bb-41c6-9a60-156bc4c734f4 ]] \r\n",
       "E4 o- - E2 [[psysml:70c0b2f6-f79a-4e90-a3c9-a244a9735aa8 ]] : c\r\n",
       "@enduml\r\n",
       "\n",
       "PlantUML version 1.2020.13(Sat Jun 13 12:26:38 UTC 2020)\n",
       "(EPL source distribution)\n",
       "Java Runtime: OpenJDK Runtime Environment\n",
       "JVM: OpenJDK 64-Bit Server VM\n",
       "Default Encoding: UTF-8\n",
       "Language: en\n",
       "Country: null\n",
       "--></g></svg>"
      ]
     },
     "execution_count": 38,
     "metadata": {},
     "output_type": "execute_result"
    }
   ],
   "source": [
    "%viz --style=\"DEFAULT\" --view=\"Tree\" \"TextualRepresentationTest\""
   ]
  },
  {
   "cell_type": "code",
   "execution_count": 39,
   "id": "6f6d06ab",
   "metadata": {
    "execution": {
     "iopub.execute_input": "2022-05-19T08:44:55.847783Z",
     "iopub.status.busy": "2022-05-19T08:44:55.847327Z",
     "iopub.status.idle": "2022-05-19T08:44:55.852100Z",
     "shell.execute_reply": "2022-05-19T08:44:55.852395Z"
    }
   },
   "outputs": [
    {
     "data": {
      "image/svg+xml": [
       "<?xml version=\"1.0\" encoding=\"UTF-8\" standalone=\"no\"?><svg xmlns=\"http://www.w3.org/2000/svg\" xmlns:xlink=\"http://www.w3.org/1999/xlink\" contentScriptType=\"application/ecmascript\" contentStyleType=\"text/css\" height=\"12px\" preserveAspectRatio=\"none\" style=\"width:12px;height:12px;\" version=\"1.1\" viewBox=\"0 0 12 12\" width=\"12px\" zoomAndPan=\"magnify\"><defs/><g><!--MD5=[c5f280e076d0d61ccf4b0f27871bda1d]\n",
       "@startuml\r\n",
       "skinparam monochrome true\r\n",
       "skinparam classbackgroundcolor white\r\n",
       "skinparam shadowing false\r\n",
       "skinparam wrapWidth 300\r\n",
       "hide circle\r\n",
       "\r\n",
       "@enduml\r\n",
       "\n",
       "PlantUML version 1.2020.13(Sat Jun 13 12:26:38 UTC 2020)\n",
       "(EPL source distribution)\n",
       "Java Runtime: OpenJDK Runtime Environment\n",
       "JVM: OpenJDK 64-Bit Server VM\n",
       "Default Encoding: UTF-8\n",
       "Language: en\n",
       "Country: null\n",
       "--></g></svg>"
      ]
     },
     "execution_count": 39,
     "metadata": {},
     "output_type": "execute_result"
    }
   ],
   "source": [
    "%viz --style=\"DEFAULT\" --view=\"State\" \"TextualRepresentationTest\""
   ]
  },
  {
   "cell_type": "code",
   "execution_count": 40,
   "id": "2a4b3bdf",
   "metadata": {
    "execution": {
     "iopub.execute_input": "2022-05-19T08:44:55.902403Z",
     "iopub.status.busy": "2022-05-19T08:44:55.901955Z",
     "iopub.status.idle": "2022-05-19T08:44:55.928994Z",
     "shell.execute_reply": "2022-05-19T08:44:55.929317Z"
    }
   },
   "outputs": [
    {
     "data": {
      "image/svg+xml": [
       "<?xml version=\"1.0\" encoding=\"UTF-8\" standalone=\"no\"?><svg xmlns=\"http://www.w3.org/2000/svg\" xmlns:xlink=\"http://www.w3.org/1999/xlink\" contentScriptType=\"application/ecmascript\" contentStyleType=\"text/css\" height=\"179px\" preserveAspectRatio=\"none\" style=\"width:292px;height:179px;\" version=\"1.1\" viewBox=\"0 0 292 179\" width=\"292px\" zoomAndPan=\"magnify\"><defs/><g><!--MD5=[fbc87193dbaf4d95561dea2c320d4a47]\n",
       "cluster E1--><a href=\"psysml:2524e1ec-43b2-4dd4-b81d-385c3decebbf\" target=\"_top\" title=\"psysml:2524e1ec-43b2-4dd4-b81d-385c3decebbf\" xlink:actuate=\"onRequest\" xlink:href=\"psysml:2524e1ec-43b2-4dd4-b81d-385c3decebbf\" xlink:show=\"new\" xlink:title=\"psysml:2524e1ec-43b2-4dd4-b81d-385c3decebbf\" xlink:type=\"simple\"><polygon fill=\"#FFFFFF\" points=\"16,6,210,6,217,28.2969,270,28.2969,270,167,16,167,16,6\" style=\"stroke: #000000; stroke-width: 1.5;\"/><line style=\"stroke: #000000; stroke-width: 1.5;\" x1=\"16\" x2=\"217\" y1=\"28.2969\" y2=\"28.2969\"/><text fill=\"#000000\" font-family=\"sans-serif\" font-size=\"14\" font-weight=\"bold\" lengthAdjust=\"spacingAndGlyphs\" textLength=\"188\" x=\"20\" y=\"20.9951\">TextualRepresentationTest</text></a><!--MD5=[d5e69f78d87373223dbae638b30a9c99]\n",
       "cluster E3--><a href=\"psysml:fdd44db5-2b71-42e4-a6cb-0126cd22309d\" target=\"_top\" title=\"psysml:fdd44db5-2b71-42e4-a6cb-0126cd22309d\" xlink:actuate=\"onRequest\" xlink:href=\"psysml:fdd44db5-2b71-42e4-a6cb-0126cd22309d\" xlink:show=\"new\" xlink:title=\"psysml:fdd44db5-2b71-42e4-a6cb-0126cd22309d\" xlink:type=\"simple\"><rect fill=\"#FFFFFF\" height=\"88.5\" id=\"E3\" style=\"stroke: #383838; stroke-width: 1.5;\" width=\"100\" x=\"122.5\" y=\"62.5\"/><rect fill=\"#F8F8F8\" height=\"37.9375\" style=\"stroke: #383838; stroke-width: 1.5;\" width=\"100\" x=\"122.5\" y=\"62.5\"/><text fill=\"#000000\" font-family=\"sans-serif\" font-size=\"12\" font-style=\"italic\" lengthAdjust=\"spacingAndGlyphs\" textLength=\"81\" x=\"132\" y=\"78.6387\">«action  def»</text><text fill=\"#000000\" font-family=\"sans-serif\" font-size=\"12\" lengthAdjust=\"spacingAndGlyphs\" textLength=\"27\" x=\"159\" y=\"92.6074\">setX</text></a><g id=\"E1.E2\"><a href=\"psysml:9149846c-b557-44f1-bb03-13041676b872\" target=\"_top\" title=\"psysml:9149846c-b557-44f1-bb03-13041676b872\" xlink:actuate=\"onRequest\" xlink:href=\"psysml:9149846c-b557-44f1-bb03-13041676b872\" xlink:show=\"new\" xlink:title=\"psysml:9149846c-b557-44f1-bb03-13041676b872\" xlink:type=\"simple\"><rect fill=\"#FFFFFF\" height=\"42.9375\" id=\"E2\" style=\"stroke: #383838; stroke-width: 1.5;\" width=\"76\" x=\"32\" y=\"41\"/><rect fill=\"#F8F8F8\" height=\"37.9375\" style=\"stroke: #383838; stroke-width: 1.5;\" width=\"76\" x=\"32\" y=\"41\"/><text fill=\"#000000\" font-family=\"sans-serif\" font-size=\"12\" font-style=\"italic\" lengthAdjust=\"spacingAndGlyphs\" textLength=\"69\" x=\"35.5\" y=\"57.1387\">«item  def»</text><text fill=\"#000000\" font-family=\"sans-serif\" font-size=\"12\" lengthAdjust=\"spacingAndGlyphs\" textLength=\"8\" x=\"66\" y=\"71.1074\">C</text></a></g><text fill=\"#000000\" font-family=\"sans-serif\" font-size=\"14\" lengthAdjust=\"spacingAndGlyphs\" textLength=\"8\" x=\"145\" y=\"41.1982\">c</text><rect fill=\"#383838\" height=\"12\" style=\"stroke: #F8F8F8; stroke-width: 1.5;\" width=\"12\" x=\"143\" y=\"56.5\"/><text fill=\"#000000\" font-family=\"sans-serif\" font-size=\"14\" lengthAdjust=\"spacingAndGlyphs\" textLength=\"38\" x=\"177\" y=\"41.1982\">newX</text><rect fill=\"#383838\" height=\"12\" style=\"stroke: #F8F8F8; stroke-width: 1.5;\" width=\"12\" x=\"190\" y=\"56.5\"/><!--MD5=[05564f11876302ea4adc79b3355394e0]\n",
       "@startuml\r\n",
       "skinparam ranksep 10\r\n",
       "skinparam rectangle {\r\n",
       " backgroundColor<<block>> LightGreen\r\n",
       "}\r\n",
       "skinparam monochrome true\r\n",
       "skinparam classbackgroundcolor white\r\n",
       "skinparam shadowing false\r\n",
       "skinparam wrapWidth 300\r\n",
       "hide circle\r\n",
       "\r\n",
       "package \"TextualRepresentationTest\" as E1  [[psysml:2524e1ec-43b2-4dd4-b81d-385c3decebbf ]]  {\r\n",
       "def \"C\" as E2  <<(T,blue) item  def>> [[psysml:9149846c-b557-44f1-bb03-13041676b872 ]] \r\n",
       "rec def \"setX\" as E3  <<(T,blue) action  def>> [[psysml:fdd44db5-2b71-42e4-a6cb-0126cd22309d ]] {\r\n",
       "portin \"c\" as E4  [[psysml:70c0b2f6-f79a-4e90-a3c9-a244a9735aa8 ]] \r\n",
       "portin \"newX\" as E5  [[psysml:4245f76d-31bb-4c80-8014-7bc1277d6e35 ]] \r\n",
       "}\r\n",
       "\r\n",
       "}\r\n",
       "@enduml\r\n",
       "\n",
       "PlantUML version 1.2020.13(Sat Jun 13 12:26:38 UTC 2020)\n",
       "(EPL source distribution)\n",
       "Java Runtime: OpenJDK Runtime Environment\n",
       "JVM: OpenJDK 64-Bit Server VM\n",
       "Default Encoding: UTF-8\n",
       "Language: en\n",
       "Country: null\n",
       "--></g></svg>"
      ]
     },
     "execution_count": 40,
     "metadata": {},
     "output_type": "execute_result"
    }
   ],
   "source": [
    "%viz --style=\"DEFAULT\" --view=\"Interconnection\" \"TextualRepresentationTest\""
   ]
  },
  {
   "cell_type": "code",
   "execution_count": 41,
   "id": "f46c930e",
   "metadata": {
    "execution": {
     "iopub.execute_input": "2022-05-19T08:44:55.979162Z",
     "iopub.status.busy": "2022-05-19T08:44:55.978702Z",
     "iopub.status.idle": "2022-05-19T08:44:56.001241Z",
     "shell.execute_reply": "2022-05-19T08:44:56.000830Z"
    }
   },
   "outputs": [
    {
     "data": {
      "image/svg+xml": [
       "<?xml version=\"1.0\" encoding=\"UTF-8\" standalone=\"no\"?><svg xmlns=\"http://www.w3.org/2000/svg\" xmlns:xlink=\"http://www.w3.org/1999/xlink\" contentScriptType=\"application/ecmascript\" contentStyleType=\"text/css\" height=\"126px\" preserveAspectRatio=\"none\" style=\"width:152px;height:126px;\" version=\"1.1\" viewBox=\"0 0 152 126\" width=\"152px\" zoomAndPan=\"magnify\"><defs/><g><!--MD5=[fbc87193dbaf4d95561dea2c320d4a47]\n",
       "cluster E1--><a href=\"psysml:fdd44db5-2b71-42e4-a6cb-0126cd22309d\" target=\"_top\" title=\"psysml:fdd44db5-2b71-42e4-a6cb-0126cd22309d\" xlink:actuate=\"onRequest\" xlink:href=\"psysml:fdd44db5-2b71-42e4-a6cb-0126cd22309d\" xlink:show=\"new\" xlink:title=\"psysml:fdd44db5-2b71-42e4-a6cb-0126cd22309d\" xlink:type=\"simple\"><rect fill=\"#FFFFFF\" height=\"73\" id=\"E1\" style=\"stroke: #383838; stroke-width: 1.5;\" width=\"134\" x=\"7\" y=\"42.0986\"/><rect fill=\"#F8F8F8\" height=\"37.9375\" style=\"stroke: #383838; stroke-width: 1.5;\" width=\"134\" x=\"7\" y=\"42.0986\"/><text fill=\"#000000\" font-family=\"sans-serif\" font-size=\"12\" font-style=\"italic\" lengthAdjust=\"spacingAndGlyphs\" textLength=\"81\" x=\"33.5\" y=\"58.2373\">«action  def»</text><text fill=\"#000000\" font-family=\"sans-serif\" font-size=\"12\" lengthAdjust=\"spacingAndGlyphs\" textLength=\"27\" x=\"60.5\" y=\"72.2061\">setX</text></a><text fill=\"#000000\" font-family=\"sans-serif\" font-size=\"14\" lengthAdjust=\"spacingAndGlyphs\" textLength=\"8\" x=\"21\" y=\"20.7969\">c</text><rect fill=\"#383838\" height=\"12\" style=\"stroke: #F8F8F8; stroke-width: 1.5;\" width=\"12\" x=\"19\" y=\"36.0986\"/><text fill=\"#000000\" font-family=\"sans-serif\" font-size=\"14\" lengthAdjust=\"spacingAndGlyphs\" textLength=\"38\" x=\"53\" y=\"20.7969\">newX</text><rect fill=\"#383838\" height=\"12\" style=\"stroke: #F8F8F8; stroke-width: 1.5;\" width=\"12\" x=\"66\" y=\"36.0986\"/><!--MD5=[894f50e92a2e6fb8004e211d71594868]\n",
       "@startuml\r\n",
       "skinparam ranksep 8\r\n",
       "skinparam monochrome true\r\n",
       "skinparam classbackgroundcolor white\r\n",
       "skinparam shadowing false\r\n",
       "skinparam wrapWidth 300\r\n",
       "hide circle\r\n",
       "\r\n",
       "rec def \"setX\" as E1  <<(T,blue) action  def>> [[psysml:fdd44db5-2b71-42e4-a6cb-0126cd22309d ]] {\r\n",
       "portin \"c\" as E2  [[psysml:70c0b2f6-f79a-4e90-a3c9-a244a9735aa8 ]] \r\n",
       "portin \"newX\" as E3  [[psysml:4245f76d-31bb-4c80-8014-7bc1277d6e35 ]] \r\n",
       "}\r\n",
       "\r\n",
       "@enduml\r\n",
       "\n",
       "PlantUML version 1.2020.13(Sat Jun 13 12:26:38 UTC 2020)\n",
       "(EPL source distribution)\n",
       "Java Runtime: OpenJDK Runtime Environment\n",
       "JVM: OpenJDK 64-Bit Server VM\n",
       "Default Encoding: UTF-8\n",
       "Language: en\n",
       "Country: null\n",
       "--></g></svg>"
      ]
     },
     "execution_count": 41,
     "metadata": {},
     "output_type": "execute_result"
    }
   ],
   "source": [
    "%viz --style=\"DEFAULT\" --view=\"Action\" \"TextualRepresentationTest\""
   ]
  },
  {
   "cell_type": "code",
   "execution_count": 42,
   "id": "933ffa2d",
   "metadata": {
    "execution": {
     "iopub.execute_input": "2022-05-19T08:44:56.050931Z",
     "iopub.status.busy": "2022-05-19T08:44:56.050486Z",
     "iopub.status.idle": "2022-05-19T08:44:56.055688Z",
     "shell.execute_reply": "2022-05-19T08:44:56.055294Z"
    }
   },
   "outputs": [
    {
     "data": {
      "image/svg+xml": [
       "<?xml version=\"1.0\" encoding=\"UTF-8\" standalone=\"no\"?><svg xmlns=\"http://www.w3.org/2000/svg\" xmlns:xlink=\"http://www.w3.org/1999/xlink\" contentScriptType=\"application/ecmascript\" contentStyleType=\"text/css\" height=\"12px\" preserveAspectRatio=\"none\" style=\"width:12px;height:12px;\" version=\"1.1\" viewBox=\"0 0 12 12\" width=\"12px\" zoomAndPan=\"magnify\"><defs/><g><!--MD5=[0b72472770326784bf6c2b53246e1e64]\n",
       "@startuml\r\n",
       "skinparam roundcorner 20\r\n",
       "skinparam BoxPadding 20\r\n",
       "skinparam SequenceBoxBackgroundColor #white\r\n",
       "skinparam style strictuml\r\n",
       "skinparam maxMessageSize 100\r\n",
       "skinparam monochrome true\r\n",
       "skinparam classbackgroundcolor white\r\n",
       "skinparam shadowing false\r\n",
       "skinparam wrapWidth 300\r\n",
       "hide circle\r\n",
       "\r\n",
       "@enduml\r\n",
       "\n",
       "PlantUML version 1.2020.13(Sat Jun 13 12:26:38 UTC 2020)\n",
       "(EPL source distribution)\n",
       "Java Runtime: OpenJDK Runtime Environment\n",
       "JVM: OpenJDK 64-Bit Server VM\n",
       "Default Encoding: UTF-8\n",
       "Language: en\n",
       "Country: null\n",
       "--></g></svg>"
      ]
     },
     "execution_count": 42,
     "metadata": {},
     "output_type": "execute_result"
    }
   ],
   "source": [
    "%viz --style=\"DEFAULT\" --view=\"Sequence\" \"TextualRepresentationTest\""
   ]
  },
  {
   "cell_type": "code",
   "execution_count": 43,
   "id": "b081f325",
   "metadata": {
    "execution": {
     "iopub.execute_input": "2022-05-19T08:44:56.105667Z",
     "iopub.status.busy": "2022-05-19T08:44:56.105175Z",
     "iopub.status.idle": "2022-05-19T08:44:56.147745Z",
     "shell.execute_reply": "2022-05-19T08:44:56.146349Z"
    }
   },
   "outputs": [
    {
     "data": {
      "image/svg+xml": [
       "<?xml version=\"1.0\" encoding=\"UTF-8\" standalone=\"no\"?><svg xmlns=\"http://www.w3.org/2000/svg\" xmlns:xlink=\"http://www.w3.org/1999/xlink\" contentScriptType=\"application/ecmascript\" contentStyleType=\"text/css\" height=\"261px\" preserveAspectRatio=\"none\" style=\"width:351px;height:261px;\" version=\"1.1\" viewBox=\"0 0 351 261\" width=\"351px\" zoomAndPan=\"magnify\"><defs/><g><!--MD5=[fbc87193dbaf4d95561dea2c320d4a47]\n",
       "cluster E1--><a href=\"psysml:2524e1ec-43b2-4dd4-b81d-385c3decebbf\" target=\"_top\" title=\"psysml:2524e1ec-43b2-4dd4-b81d-385c3decebbf\" xlink:actuate=\"onRequest\" xlink:href=\"psysml:2524e1ec-43b2-4dd4-b81d-385c3decebbf\" xlink:show=\"new\" xlink:title=\"psysml:2524e1ec-43b2-4dd4-b81d-385c3decebbf\" xlink:type=\"simple\"><polygon fill=\"#FFFFFF\" points=\"16,6,210,6,217,28.2969,329,28.2969,329,249.5,16,249.5,16,6\" style=\"stroke: #000000; stroke-width: 1.5;\"/><line style=\"stroke: #000000; stroke-width: 1.5;\" x1=\"16\" x2=\"217\" y1=\"28.2969\" y2=\"28.2969\"/><text fill=\"#000000\" font-family=\"sans-serif\" font-size=\"14\" font-weight=\"bold\" lengthAdjust=\"spacingAndGlyphs\" textLength=\"188\" x=\"20\" y=\"20.9951\">TextualRepresentationTest</text></a><!--MD5=[f6df4d0ebaf0b5dfb2ced0ae5af7c670]\n",
       "cluster E4--><a href=\"psysml:fdd44db5-2b71-42e4-a6cb-0126cd22309d\" target=\"_top\" title=\"psysml:fdd44db5-2b71-42e4-a6cb-0126cd22309d\" xlink:actuate=\"onRequest\" xlink:href=\"psysml:fdd44db5-2b71-42e4-a6cb-0126cd22309d\" xlink:show=\"new\" xlink:title=\"psysml:fdd44db5-2b71-42e4-a6cb-0126cd22309d\" xlink:type=\"simple\"><rect fill=\"#FFFFFF\" height=\"154.5\" id=\"E4\" style=\"stroke: #383838; stroke-width: 1.5;\" width=\"134\" x=\"179\" y=\"79\"/><rect fill=\"#F8F8F8\" height=\"37.9375\" style=\"stroke: #383838; stroke-width: 1.5;\" width=\"134\" x=\"179\" y=\"79\"/><text fill=\"#000000\" font-family=\"sans-serif\" font-size=\"12\" font-style=\"italic\" lengthAdjust=\"spacingAndGlyphs\" textLength=\"81\" x=\"205.5\" y=\"95.1387\">«action  def»</text><text fill=\"#000000\" font-family=\"sans-serif\" font-size=\"12\" lengthAdjust=\"spacingAndGlyphs\" textLength=\"27\" x=\"232.5\" y=\"109.1074\">setX</text></a><!--MD5=[b4997ac47864f28c2f74865a473b2911]\n",
       "class E2--><a href=\"psysml:9149846c-b557-44f1-bb03-13041676b872\" target=\"_top\" title=\"psysml:9149846c-b557-44f1-bb03-13041676b872\" xlink:actuate=\"onRequest\" xlink:href=\"psysml:9149846c-b557-44f1-bb03-13041676b872\" xlink:show=\"new\" xlink:title=\"psysml:9149846c-b557-44f1-bb03-13041676b872\" xlink:type=\"simple\"><rect fill=\"#FFFFFF\" height=\"75.5469\" id=\"E2\" style=\"stroke: #383838; stroke-width: 1.5;\" width=\"71\" x=\"58.5\" y=\"41\"/><text fill=\"#000000\" font-family=\"sans-serif\" font-size=\"12\" font-style=\"italic\" lengthAdjust=\"spacingAndGlyphs\" textLength=\"69\" x=\"59.5\" y=\"57.1387\">«item  def»</text><text fill=\"#000000\" font-family=\"sans-serif\" font-size=\"12\" lengthAdjust=\"spacingAndGlyphs\" textLength=\"8\" x=\"90\" y=\"71.1074\">C</text><line style=\"stroke: #383838; stroke-width: 1.5;\" x1=\"59.5\" x2=\"128.5\" y1=\"78.9375\" y2=\"78.9375\"/><text fill=\"#000000\" font-family=\"sans-serif\" font-size=\"11\" lengthAdjust=\"spacingAndGlyphs\" textLength=\"38\" x=\"64.5\" y=\"109.9526\">x: Real</text><line style=\"stroke: #383838; stroke-width: 1.0;\" x1=\"59.5\" x2=\"66.5\" y1=\"93.3398\" y2=\"93.3398\"/><text fill=\"#000000\" font-family=\"sans-serif\" font-size=\"11\" lengthAdjust=\"spacingAndGlyphs\" textLength=\"55\" x=\"66.5\" y=\"96.6479\">attributes</text><line style=\"stroke: #383838; stroke-width: 1.0;\" x1=\"121.5\" x2=\"128.5\" y1=\"93.3398\" y2=\"93.3398\"/></a><!--MD5=[09b614a08d8cba4a07c9adeb5e0fee81]\n",
       "class E3--><a href=\"psysml:d102dace-404f-4787-94a0-7dab0b8761ce\" target=\"_top\" title=\"psysml:d102dace-404f-4787-94a0-7dab0b8761ce\" xlink:actuate=\"onRequest\" xlink:href=\"psysml:d102dace-404f-4787-94a0-7dab0b8761ce\" xlink:show=\"new\" xlink:title=\"psysml:d102dace-404f-4787-94a0-7dab0b8761ce\" xlink:type=\"simple\"><rect fill=\"#FFFFFF\" height=\"45.9375\" id=\"E3\" rx=\"10\" ry=\"10\" style=\"stroke: #383838; stroke-width: 1.5;\" width=\"124\" x=\"32\" y=\"177\"/><text fill=\"#000000\" font-family=\"sans-serif\" font-size=\"12\" font-style=\"italic\" lengthAdjust=\"spacingAndGlyphs\" textLength=\"122\" x=\"33\" y=\"193.1387\">«assert constraint»</text><text fill=\"#000000\" font-family=\"sans-serif\" font-size=\"12\" lengthAdjust=\"spacingAndGlyphs\" textLength=\"76\" x=\"54\" y=\"207.1074\">x_constraint</text><line style=\"stroke: #383838; stroke-width: 1.5;\" x1=\"33\" x2=\"155\" y1=\"214.9375\" y2=\"214.9375\"/></a><text fill=\"#000000\" font-family=\"sans-serif\" font-size=\"14\" lengthAdjust=\"spacingAndGlyphs\" textLength=\"8\" x=\"193\" y=\"57.6982\">c</text><rect fill=\"#383838\" height=\"12\" style=\"stroke: #F8F8F8; stroke-width: 1.5;\" width=\"12\" x=\"191\" y=\"73\"/><text fill=\"#000000\" font-family=\"sans-serif\" font-size=\"14\" lengthAdjust=\"spacingAndGlyphs\" textLength=\"38\" x=\"225\" y=\"57.6982\">newX</text><rect fill=\"#383838\" height=\"12\" style=\"stroke: #F8F8F8; stroke-width: 1.5;\" width=\"12\" x=\"238\" y=\"73\"/><!--MD5=[209b3feb70ccb6233bfe1053d122c12c]\n",
       "reverse link E2 to E3--><a href=\"psysml:0da81c8f-97bb-41c6-9a60-156bc4c734f4\" target=\"_top\" title=\"psysml:0da81c8f-97bb-41c6-9a60-156bc4c734f4\" xlink:actuate=\"onRequest\" xlink:href=\"psysml:0da81c8f-97bb-41c6-9a60-156bc4c734f4\" xlink:show=\"new\" xlink:title=\"psysml:0da81c8f-97bb-41c6-9a60-156bc4c734f4\" xlink:type=\"simple\"><path d=\"M94,130.34 C94,146.61 94,163.81 94,176.93 \" fill=\"none\" id=\"E2&lt;-E3\" style=\"stroke: #383838; stroke-width: 1.0;\"/><polygon fill=\"#383838\" points=\"94,117,90,123,94,129,98,123,94,117\" style=\"stroke: #383838; stroke-width: 1.0;\"/><text fill=\"#000000\" font-family=\"sans-serif\" font-size=\"13\" lengthAdjust=\"spacingAndGlyphs\" textLength=\"7\" x=\"86.0594\" y=\"165.8075\">*</text></a><!--MD5=[485e603d2a05a7e7f05f8bc315a1fca8]\n",
       "@startuml\r\n",
       "skinparam monochrome true\r\n",
       "skinparam classbackgroundcolor white\r\n",
       "skinparam shadowing false\r\n",
       "skinparam wrapWidth 300\r\n",
       "hide circle\r\n",
       "\r\n",
       "package \"TextualRepresentationTest\" as E1  [[psysml:2524e1ec-43b2-4dd4-b81d-385c3decebbf ]]  {\r\n",
       "comp def \"C\" as E2  <<(T,blue) item  def>> [[psysml:9149846c-b557-44f1-bb03-13041676b872 ]] {\r\n",
       "- - attributes - -\r\n",
       "x: Real\r\n",
       "}\r\n",
       "comp usage \"x_constraint \" as E3  <<(T,blue) assert constraint>> [[psysml:d102dace-404f-4787-94a0-7dab0b8761ce ]] {\r\n",
       "}\r\n",
       "rec def \"setX\" as E4  <<(T,blue) action  def>> [[psysml:fdd44db5-2b71-42e4-a6cb-0126cd22309d ]] {\r\n",
       "portin \"c\" as E5  [[psysml:70c0b2f6-f79a-4e90-a3c9-a244a9735aa8 ]] \r\n",
       "portin \"newX\" as E6  [[psysml:4245f76d-31bb-4c80-8014-7bc1277d6e35 ]] \r\n",
       "}\r\n",
       "\r\n",
       "}\r\n",
       "E2 *- - \"*\"E3 [[psysml:0da81c8f-97bb-41c6-9a60-156bc4c734f4 ]] \r\n",
       "@enduml\r\n",
       "\n",
       "PlantUML version 1.2020.13(Sat Jun 13 12:26:38 UTC 2020)\n",
       "(EPL source distribution)\n",
       "Java Runtime: OpenJDK Runtime Environment\n",
       "JVM: OpenJDK 64-Bit Server VM\n",
       "Default Encoding: UTF-8\n",
       "Language: en\n",
       "Country: null\n",
       "--></g></svg>"
      ]
     },
     "execution_count": 43,
     "metadata": {},
     "output_type": "execute_result"
    }
   ],
   "source": [
    "%viz --style=\"DEFAULT\" --view=\"MIXED\" \"TextualRepresentationTest\""
   ]
  },
  {
   "cell_type": "code",
   "execution_count": 44,
   "id": "2c54a143",
   "metadata": {
    "execution": {
     "iopub.execute_input": "2022-05-19T08:44:56.197350Z",
     "iopub.status.busy": "2022-05-19T08:44:56.196898Z",
     "iopub.status.idle": "2022-05-19T08:44:56.241568Z",
     "shell.execute_reply": "2022-05-19T08:44:56.240182Z"
    }
   },
   "outputs": [
    {
     "data": {
      "image/svg+xml": [
       "<?xml version=\"1.0\" encoding=\"UTF-8\" standalone=\"no\"?><svg xmlns=\"http://www.w3.org/2000/svg\" xmlns:xlink=\"http://www.w3.org/1999/xlink\" contentScriptType=\"application/ecmascript\" contentStyleType=\"text/css\" height=\"261px\" preserveAspectRatio=\"none\" style=\"width:351px;height:261px;\" version=\"1.1\" viewBox=\"0 0 351 261\" width=\"351px\" zoomAndPan=\"magnify\"><defs/><g><!--MD5=[fbc87193dbaf4d95561dea2c320d4a47]\n",
       "cluster E1--><a href=\"psysml:2524e1ec-43b2-4dd4-b81d-385c3decebbf\" target=\"_top\" title=\"psysml:2524e1ec-43b2-4dd4-b81d-385c3decebbf\" xlink:actuate=\"onRequest\" xlink:href=\"psysml:2524e1ec-43b2-4dd4-b81d-385c3decebbf\" xlink:show=\"new\" xlink:title=\"psysml:2524e1ec-43b2-4dd4-b81d-385c3decebbf\" xlink:type=\"simple\"><polygon fill=\"#FFFFFF\" points=\"16,6,210,6,217,28.2969,329,28.2969,329,249.5,16,249.5,16,6\" style=\"stroke: #000000; stroke-width: 1.5;\"/><line style=\"stroke: #000000; stroke-width: 1.5;\" x1=\"16\" x2=\"217\" y1=\"28.2969\" y2=\"28.2969\"/><text fill=\"#000000\" font-family=\"sans-serif\" font-size=\"14\" font-weight=\"bold\" lengthAdjust=\"spacingAndGlyphs\" textLength=\"188\" x=\"20\" y=\"20.9951\">TextualRepresentationTest</text></a><!--MD5=[f6df4d0ebaf0b5dfb2ced0ae5af7c670]\n",
       "cluster E4--><a href=\"psysml:fdd44db5-2b71-42e4-a6cb-0126cd22309d\" target=\"_top\" title=\"psysml:fdd44db5-2b71-42e4-a6cb-0126cd22309d\" xlink:actuate=\"onRequest\" xlink:href=\"psysml:fdd44db5-2b71-42e4-a6cb-0126cd22309d\" xlink:show=\"new\" xlink:title=\"psysml:fdd44db5-2b71-42e4-a6cb-0126cd22309d\" xlink:type=\"simple\"><rect fill=\"#FFFFFF\" height=\"154.5\" id=\"E4\" style=\"stroke: #383838; stroke-width: 1.5;\" width=\"134\" x=\"179\" y=\"79\"/><rect fill=\"#F8F8F8\" height=\"37.9375\" style=\"stroke: #383838; stroke-width: 1.5;\" width=\"134\" x=\"179\" y=\"79\"/><text fill=\"#000000\" font-family=\"sans-serif\" font-size=\"12\" font-style=\"italic\" lengthAdjust=\"spacingAndGlyphs\" textLength=\"81\" x=\"205.5\" y=\"95.1387\">«action  def»</text><text fill=\"#000000\" font-family=\"sans-serif\" font-size=\"12\" lengthAdjust=\"spacingAndGlyphs\" textLength=\"27\" x=\"232.5\" y=\"109.1074\">setX</text></a><!--MD5=[b4997ac47864f28c2f74865a473b2911]\n",
       "class E2--><a href=\"psysml:9149846c-b557-44f1-bb03-13041676b872\" target=\"_top\" title=\"psysml:9149846c-b557-44f1-bb03-13041676b872\" xlink:actuate=\"onRequest\" xlink:href=\"psysml:9149846c-b557-44f1-bb03-13041676b872\" xlink:show=\"new\" xlink:title=\"psysml:9149846c-b557-44f1-bb03-13041676b872\" xlink:type=\"simple\"><rect fill=\"#FFFFFF\" height=\"75.5469\" id=\"E2\" style=\"stroke: #383838; stroke-width: 1.5;\" width=\"71\" x=\"58.5\" y=\"41\"/><text fill=\"#000000\" font-family=\"sans-serif\" font-size=\"12\" font-style=\"italic\" lengthAdjust=\"spacingAndGlyphs\" textLength=\"69\" x=\"59.5\" y=\"57.1387\">«item  def»</text><text fill=\"#000000\" font-family=\"sans-serif\" font-size=\"12\" lengthAdjust=\"spacingAndGlyphs\" textLength=\"8\" x=\"90\" y=\"71.1074\">C</text><line style=\"stroke: #383838; stroke-width: 1.5;\" x1=\"59.5\" x2=\"128.5\" y1=\"78.9375\" y2=\"78.9375\"/><text fill=\"#000000\" font-family=\"sans-serif\" font-size=\"11\" lengthAdjust=\"spacingAndGlyphs\" textLength=\"38\" x=\"64.5\" y=\"109.9526\">x: Real</text><line style=\"stroke: #383838; stroke-width: 1.0;\" x1=\"59.5\" x2=\"66.5\" y1=\"93.3398\" y2=\"93.3398\"/><text fill=\"#000000\" font-family=\"sans-serif\" font-size=\"11\" lengthAdjust=\"spacingAndGlyphs\" textLength=\"55\" x=\"66.5\" y=\"96.6479\">attributes</text><line style=\"stroke: #383838; stroke-width: 1.0;\" x1=\"121.5\" x2=\"128.5\" y1=\"93.3398\" y2=\"93.3398\"/></a><!--MD5=[09b614a08d8cba4a07c9adeb5e0fee81]\n",
       "class E3--><a href=\"psysml:d102dace-404f-4787-94a0-7dab0b8761ce\" target=\"_top\" title=\"psysml:d102dace-404f-4787-94a0-7dab0b8761ce\" xlink:actuate=\"onRequest\" xlink:href=\"psysml:d102dace-404f-4787-94a0-7dab0b8761ce\" xlink:show=\"new\" xlink:title=\"psysml:d102dace-404f-4787-94a0-7dab0b8761ce\" xlink:type=\"simple\"><rect fill=\"#FFFFFF\" height=\"45.9375\" id=\"E3\" rx=\"10\" ry=\"10\" style=\"stroke: #383838; stroke-width: 1.5;\" width=\"124\" x=\"32\" y=\"177\"/><text fill=\"#000000\" font-family=\"sans-serif\" font-size=\"12\" font-style=\"italic\" lengthAdjust=\"spacingAndGlyphs\" textLength=\"122\" x=\"33\" y=\"193.1387\">«assert constraint»</text><text fill=\"#000000\" font-family=\"sans-serif\" font-size=\"12\" lengthAdjust=\"spacingAndGlyphs\" textLength=\"76\" x=\"54\" y=\"207.1074\">x_constraint</text><line style=\"stroke: #383838; stroke-width: 1.5;\" x1=\"33\" x2=\"155\" y1=\"214.9375\" y2=\"214.9375\"/></a><text fill=\"#000000\" font-family=\"sans-serif\" font-size=\"14\" lengthAdjust=\"spacingAndGlyphs\" textLength=\"8\" x=\"193\" y=\"57.6982\">c</text><rect fill=\"#383838\" height=\"12\" style=\"stroke: #F8F8F8; stroke-width: 1.5;\" width=\"12\" x=\"191\" y=\"73\"/><text fill=\"#000000\" font-family=\"sans-serif\" font-size=\"14\" lengthAdjust=\"spacingAndGlyphs\" textLength=\"38\" x=\"225\" y=\"57.6982\">newX</text><rect fill=\"#383838\" height=\"12\" style=\"stroke: #F8F8F8; stroke-width: 1.5;\" width=\"12\" x=\"238\" y=\"73\"/><!--MD5=[209b3feb70ccb6233bfe1053d122c12c]\n",
       "reverse link E2 to E3--><a href=\"psysml:0da81c8f-97bb-41c6-9a60-156bc4c734f4\" target=\"_top\" title=\"psysml:0da81c8f-97bb-41c6-9a60-156bc4c734f4\" xlink:actuate=\"onRequest\" xlink:href=\"psysml:0da81c8f-97bb-41c6-9a60-156bc4c734f4\" xlink:show=\"new\" xlink:title=\"psysml:0da81c8f-97bb-41c6-9a60-156bc4c734f4\" xlink:type=\"simple\"><path d=\"M94,130.34 C94,146.61 94,163.81 94,176.93 \" fill=\"none\" id=\"E2&lt;-E3\" style=\"stroke: #383838; stroke-width: 1.0;\"/><polygon fill=\"#383838\" points=\"94,117,90,123,94,129,98,123,94,117\" style=\"stroke: #383838; stroke-width: 1.0;\"/><text fill=\"#000000\" font-family=\"sans-serif\" font-size=\"13\" lengthAdjust=\"spacingAndGlyphs\" textLength=\"7\" x=\"86.0594\" y=\"165.8075\">*</text></a><!--MD5=[215c5560702a08cf0ad29f62b7d757c1]\n",
       "@startuml\r\n",
       "top to bottom direction\r\n",
       "skinparam monochrome true\r\n",
       "skinparam classbackgroundcolor white\r\n",
       "skinparam shadowing false\r\n",
       "skinparam wrapWidth 300\r\n",
       "hide circle\r\n",
       "\r\n",
       "package \"TextualRepresentationTest\" as E1  [[psysml:2524e1ec-43b2-4dd4-b81d-385c3decebbf ]]  {\r\n",
       "comp def \"C\" as E2  <<(T,blue) item  def>> [[psysml:9149846c-b557-44f1-bb03-13041676b872 ]] {\r\n",
       "- - attributes - -\r\n",
       "x: Real\r\n",
       "}\r\n",
       "comp usage \"x_constraint \" as E3  <<(T,blue) assert constraint>> [[psysml:d102dace-404f-4787-94a0-7dab0b8761ce ]] {\r\n",
       "}\r\n",
       "rec def \"setX\" as E4  <<(T,blue) action  def>> [[psysml:fdd44db5-2b71-42e4-a6cb-0126cd22309d ]] {\r\n",
       "portin \"c\" as E5  [[psysml:70c0b2f6-f79a-4e90-a3c9-a244a9735aa8 ]] \r\n",
       "portin \"newX\" as E6  [[psysml:4245f76d-31bb-4c80-8014-7bc1277d6e35 ]] \r\n",
       "}\r\n",
       "\r\n",
       "}\r\n",
       "E2 *- - \"*\"E3 [[psysml:0da81c8f-97bb-41c6-9a60-156bc4c734f4 ]] \r\n",
       "@enduml\r\n",
       "\n",
       "PlantUML version 1.2020.13(Sat Jun 13 12:26:38 UTC 2020)\n",
       "(EPL source distribution)\n",
       "Java Runtime: OpenJDK Runtime Environment\n",
       "JVM: OpenJDK 64-Bit Server VM\n",
       "Default Encoding: UTF-8\n",
       "Language: en\n",
       "Country: null\n",
       "--></g></svg>"
      ]
     },
     "execution_count": 44,
     "metadata": {},
     "output_type": "execute_result"
    }
   ],
   "source": [
    "%viz --style=\"TB\" --view=\"Default\" \"TextualRepresentationTest\""
   ]
  },
  {
   "cell_type": "code",
   "execution_count": 45,
   "id": "315d0848",
   "metadata": {
    "execution": {
     "iopub.execute_input": "2022-05-19T08:44:56.291082Z",
     "iopub.status.busy": "2022-05-19T08:44:56.290636Z",
     "iopub.status.idle": "2022-05-19T08:44:56.330543Z",
     "shell.execute_reply": "2022-05-19T08:44:56.330145Z"
    }
   },
   "outputs": [
    {
     "data": {
      "image/svg+xml": [
       "<?xml version=\"1.0\" encoding=\"UTF-8\" standalone=\"no\"?><svg xmlns=\"http://www.w3.org/2000/svg\" xmlns:xlink=\"http://www.w3.org/1999/xlink\" contentScriptType=\"application/ecmascript\" contentStyleType=\"text/css\" height=\"375px\" preserveAspectRatio=\"none\" style=\"width:242px;height:375px;\" version=\"1.1\" viewBox=\"0 0 242 375\" width=\"242px\" zoomAndPan=\"magnify\"><defs/><g><!--MD5=[fbc87193dbaf4d95561dea2c320d4a47]\n",
       "cluster E1--><a href=\"psysml:2524e1ec-43b2-4dd4-b81d-385c3decebbf\" target=\"_top\" title=\"psysml:2524e1ec-43b2-4dd4-b81d-385c3decebbf\" xlink:actuate=\"onRequest\" xlink:href=\"psysml:2524e1ec-43b2-4dd4-b81d-385c3decebbf\" xlink:show=\"new\" xlink:title=\"psysml:2524e1ec-43b2-4dd4-b81d-385c3decebbf\" xlink:type=\"simple\"><polygon fill=\"#FFFFFF\" points=\"16,6,210,6,217,28.2969,220,28.2969,220,363,16,363,16,6\" style=\"stroke: #000000; stroke-width: 1.5;\"/><line style=\"stroke: #000000; stroke-width: 1.5;\" x1=\"16\" x2=\"217\" y1=\"28.2969\" y2=\"28.2969\"/><text fill=\"#000000\" font-family=\"sans-serif\" font-size=\"14\" font-weight=\"bold\" lengthAdjust=\"spacingAndGlyphs\" textLength=\"188\" x=\"20\" y=\"20.9951\">TextualRepresentationTest</text></a><!--MD5=[b4997ac47864f28c2f74865a473b2911]\n",
       "class E2--><a href=\"psysml:9149846c-b557-44f1-bb03-13041676b872\" target=\"_top\" title=\"psysml:9149846c-b557-44f1-bb03-13041676b872\" xlink:actuate=\"onRequest\" xlink:href=\"psysml:9149846c-b557-44f1-bb03-13041676b872\" xlink:show=\"new\" xlink:title=\"psysml:9149846c-b557-44f1-bb03-13041676b872\" xlink:type=\"simple\"><rect fill=\"#FFFFFF\" height=\"75.5469\" id=\"E2\" style=\"stroke: #383838; stroke-width: 1.5;\" width=\"71\" x=\"82.5\" y=\"164\"/><text fill=\"#000000\" font-family=\"sans-serif\" font-size=\"12\" font-style=\"italic\" lengthAdjust=\"spacingAndGlyphs\" textLength=\"69\" x=\"83.5\" y=\"180.1387\">«item  def»</text><text fill=\"#000000\" font-family=\"sans-serif\" font-size=\"12\" lengthAdjust=\"spacingAndGlyphs\" textLength=\"8\" x=\"114\" y=\"194.1074\">C</text><line style=\"stroke: #383838; stroke-width: 1.5;\" x1=\"83.5\" x2=\"152.5\" y1=\"201.9375\" y2=\"201.9375\"/><text fill=\"#000000\" font-family=\"sans-serif\" font-size=\"11\" lengthAdjust=\"spacingAndGlyphs\" textLength=\"38\" x=\"88.5\" y=\"232.9526\">x: Real</text><line style=\"stroke: #383838; stroke-width: 1.0;\" x1=\"83.5\" x2=\"90.5\" y1=\"216.3398\" y2=\"216.3398\"/><text fill=\"#000000\" font-family=\"sans-serif\" font-size=\"11\" lengthAdjust=\"spacingAndGlyphs\" textLength=\"55\" x=\"90.5\" y=\"219.6479\">attributes</text><line style=\"stroke: #383838; stroke-width: 1.0;\" x1=\"145.5\" x2=\"152.5\" y1=\"216.3398\" y2=\"216.3398\"/></a><!--MD5=[09b614a08d8cba4a07c9adeb5e0fee81]\n",
       "class E3--><a href=\"psysml:d102dace-404f-4787-94a0-7dab0b8761ce\" target=\"_top\" title=\"psysml:d102dace-404f-4787-94a0-7dab0b8761ce\" xlink:actuate=\"onRequest\" xlink:href=\"psysml:d102dace-404f-4787-94a0-7dab0b8761ce\" xlink:show=\"new\" xlink:title=\"psysml:d102dace-404f-4787-94a0-7dab0b8761ce\" xlink:type=\"simple\"><rect fill=\"#FFFFFF\" height=\"45.9375\" id=\"E3\" rx=\"10\" ry=\"10\" style=\"stroke: #383838; stroke-width: 1.5;\" width=\"124\" x=\"56\" y=\"301\"/><text fill=\"#000000\" font-family=\"sans-serif\" font-size=\"12\" font-style=\"italic\" lengthAdjust=\"spacingAndGlyphs\" textLength=\"122\" x=\"57\" y=\"317.1387\">«assert constraint»</text><text fill=\"#000000\" font-family=\"sans-serif\" font-size=\"12\" lengthAdjust=\"spacingAndGlyphs\" textLength=\"76\" x=\"78\" y=\"331.1074\">x_constraint</text><line style=\"stroke: #383838; stroke-width: 1.5;\" x1=\"57\" x2=\"179\" y1=\"338.9375\" y2=\"338.9375\"/></a><!--MD5=[ebbe1d658d1005bcc118a6aa81145e00]\n",
       "class E4--><a href=\"psysml:fdd44db5-2b71-42e4-a6cb-0126cd22309d\" target=\"_top\" title=\"psysml:fdd44db5-2b71-42e4-a6cb-0126cd22309d\" xlink:actuate=\"onRequest\" xlink:href=\"psysml:fdd44db5-2b71-42e4-a6cb-0126cd22309d\" xlink:show=\"new\" xlink:title=\"psysml:fdd44db5-2b71-42e4-a6cb-0126cd22309d\" xlink:type=\"simple\"><rect fill=\"#FFFFFF\" height=\"45.9375\" id=\"E4\" style=\"stroke: #383838; stroke-width: 1.5;\" width=\"83\" x=\"76.5\" y=\"41\"/><text fill=\"#000000\" font-family=\"sans-serif\" font-size=\"12\" font-style=\"italic\" lengthAdjust=\"spacingAndGlyphs\" textLength=\"81\" x=\"77.5\" y=\"57.1387\">«action  def»</text><text fill=\"#000000\" font-family=\"sans-serif\" font-size=\"12\" lengthAdjust=\"spacingAndGlyphs\" textLength=\"27\" x=\"104.5\" y=\"71.1074\">setX</text><line style=\"stroke: #383838; stroke-width: 1.5;\" x1=\"77.5\" x2=\"158.5\" y1=\"78.9375\" y2=\"78.9375\"/></a><!--MD5=[209b3feb70ccb6233bfe1053d122c12c]\n",
       "reverse link E2 to E3--><a href=\"psysml:0da81c8f-97bb-41c6-9a60-156bc4c734f4\" target=\"_top\" title=\"psysml:0da81c8f-97bb-41c6-9a60-156bc4c734f4\" xlink:actuate=\"onRequest\" xlink:href=\"psysml:0da81c8f-97bb-41c6-9a60-156bc4c734f4\" xlink:show=\"new\" xlink:title=\"psysml:0da81c8f-97bb-41c6-9a60-156bc4c734f4\" xlink:type=\"simple\"><path d=\"M118,253.76 C118,270.17 118,287.52 118,300.75 \" fill=\"none\" id=\"E2&lt;-E3\" style=\"stroke: #383838; stroke-width: 1.0;\"/><polygon fill=\"#383838\" points=\"118,240.31,114,246.31,118,252.31,122,246.31,118,240.31\" style=\"stroke: #383838; stroke-width: 1.0;\"/><text fill=\"#000000\" font-family=\"sans-serif\" font-size=\"13\" lengthAdjust=\"spacingAndGlyphs\" textLength=\"7\" x=\"110.1031\" y=\"289.9622\">*</text></a><!--MD5=[ddeed8deb2209213b62e6cfabaa108b2]\n",
       "reverse link E4 to E2--><a href=\"psysml:70c0b2f6-f79a-4e90-a3c9-a244a9735aa8\" target=\"_top\" title=\"psysml:70c0b2f6-f79a-4e90-a3c9-a244a9735aa8\" xlink:actuate=\"onRequest\" xlink:href=\"psysml:70c0b2f6-f79a-4e90-a3c9-a244a9735aa8\" xlink:show=\"new\" xlink:title=\"psysml:70c0b2f6-f79a-4e90-a3c9-a244a9735aa8\" xlink:type=\"simple\"><path d=\"M118,100.42 C118,119.95 118,144.19 118,163.97 \" fill=\"none\" id=\"E4&lt;-E2\" style=\"stroke: #383838; stroke-width: 1.0;\"/><polygon fill=\"#FFFFFF\" points=\"118,87.15,114,93.15,118,99.15,122,93.15,118,87.15\" style=\"stroke: #383838; stroke-width: 1.0;\"/><text fill=\"#000000\" font-family=\"sans-serif\" font-size=\"13\" lengthAdjust=\"spacingAndGlyphs\" textLength=\"7\" x=\"119\" y=\"130.0669\">c</text></a><!--MD5=[b2a894e54bf645fa034c3f98458fc5a1]\n",
       "@startuml\r\n",
       "top to bottom direction\r\n",
       "skinparam monochrome true\r\n",
       "skinparam classbackgroundcolor white\r\n",
       "skinparam shadowing false\r\n",
       "skinparam wrapWidth 300\r\n",
       "hide circle\r\n",
       "\r\n",
       "package \"TextualRepresentationTest\" as E1  [[psysml:2524e1ec-43b2-4dd4-b81d-385c3decebbf ]]  {\r\n",
       "comp def \"C\" as E2  <<(T,blue) item  def>> [[psysml:9149846c-b557-44f1-bb03-13041676b872 ]] {\r\n",
       "- - attributes - -\r\n",
       "x: Real\r\n",
       "}\r\n",
       "comp usage \"x_constraint \" as E3  <<(T,blue) assert constraint>> [[psysml:d102dace-404f-4787-94a0-7dab0b8761ce ]] {\r\n",
       "}\r\n",
       "comp def \"setX\" as E4  <<(T,blue) action  def>> [[psysml:fdd44db5-2b71-42e4-a6cb-0126cd22309d ]] {\r\n",
       "}\r\n",
       "}\r\n",
       "E2 *- - \"*\"E3 [[psysml:0da81c8f-97bb-41c6-9a60-156bc4c734f4 ]] \r\n",
       "E4 o- - E2 [[psysml:70c0b2f6-f79a-4e90-a3c9-a244a9735aa8 ]] : c\r\n",
       "@enduml\r\n",
       "\n",
       "PlantUML version 1.2020.13(Sat Jun 13 12:26:38 UTC 2020)\n",
       "(EPL source distribution)\n",
       "Java Runtime: OpenJDK Runtime Environment\n",
       "JVM: OpenJDK 64-Bit Server VM\n",
       "Default Encoding: UTF-8\n",
       "Language: en\n",
       "Country: null\n",
       "--></g></svg>"
      ]
     },
     "execution_count": 45,
     "metadata": {},
     "output_type": "execute_result"
    }
   ],
   "source": [
    "%viz --style=\"TB\" --view=\"Tree\" \"TextualRepresentationTest\""
   ]
  },
  {
   "cell_type": "code",
   "execution_count": 46,
   "id": "47be97cb",
   "metadata": {
    "execution": {
     "iopub.execute_input": "2022-05-19T08:44:56.380274Z",
     "iopub.status.busy": "2022-05-19T08:44:56.379829Z",
     "iopub.status.idle": "2022-05-19T08:44:56.384496Z",
     "shell.execute_reply": "2022-05-19T08:44:56.384830Z"
    }
   },
   "outputs": [
    {
     "data": {
      "image/svg+xml": [
       "<?xml version=\"1.0\" encoding=\"UTF-8\" standalone=\"no\"?><svg xmlns=\"http://www.w3.org/2000/svg\" xmlns:xlink=\"http://www.w3.org/1999/xlink\" contentScriptType=\"application/ecmascript\" contentStyleType=\"text/css\" height=\"12px\" preserveAspectRatio=\"none\" style=\"width:12px;height:12px;\" version=\"1.1\" viewBox=\"0 0 12 12\" width=\"12px\" zoomAndPan=\"magnify\"><defs/><g><!--MD5=[f4ee21bc66e489b5061b7c3e9601fdef]\n",
       "@startuml\r\n",
       "top to bottom direction\r\n",
       "skinparam monochrome true\r\n",
       "skinparam classbackgroundcolor white\r\n",
       "skinparam shadowing false\r\n",
       "skinparam wrapWidth 300\r\n",
       "hide circle\r\n",
       "\r\n",
       "@enduml\r\n",
       "\n",
       "PlantUML version 1.2020.13(Sat Jun 13 12:26:38 UTC 2020)\n",
       "(EPL source distribution)\n",
       "Java Runtime: OpenJDK Runtime Environment\n",
       "JVM: OpenJDK 64-Bit Server VM\n",
       "Default Encoding: UTF-8\n",
       "Language: en\n",
       "Country: null\n",
       "--></g></svg>"
      ]
     },
     "execution_count": 46,
     "metadata": {},
     "output_type": "execute_result"
    }
   ],
   "source": [
    "%viz --style=\"TB\" --view=\"State\" \"TextualRepresentationTest\""
   ]
  },
  {
   "cell_type": "code",
   "execution_count": 47,
   "id": "4cbdf622",
   "metadata": {
    "execution": {
     "iopub.execute_input": "2022-05-19T08:44:56.434799Z",
     "iopub.status.busy": "2022-05-19T08:44:56.434355Z",
     "iopub.status.idle": "2022-05-19T08:44:56.461479Z",
     "shell.execute_reply": "2022-05-19T08:44:56.461066Z"
    }
   },
   "outputs": [
    {
     "data": {
      "image/svg+xml": [
       "<?xml version=\"1.0\" encoding=\"UTF-8\" standalone=\"no\"?><svg xmlns=\"http://www.w3.org/2000/svg\" xmlns:xlink=\"http://www.w3.org/1999/xlink\" contentScriptType=\"application/ecmascript\" contentStyleType=\"text/css\" height=\"179px\" preserveAspectRatio=\"none\" style=\"width:292px;height:179px;\" version=\"1.1\" viewBox=\"0 0 292 179\" width=\"292px\" zoomAndPan=\"magnify\"><defs/><g><!--MD5=[fbc87193dbaf4d95561dea2c320d4a47]\n",
       "cluster E1--><a href=\"psysml:2524e1ec-43b2-4dd4-b81d-385c3decebbf\" target=\"_top\" title=\"psysml:2524e1ec-43b2-4dd4-b81d-385c3decebbf\" xlink:actuate=\"onRequest\" xlink:href=\"psysml:2524e1ec-43b2-4dd4-b81d-385c3decebbf\" xlink:show=\"new\" xlink:title=\"psysml:2524e1ec-43b2-4dd4-b81d-385c3decebbf\" xlink:type=\"simple\"><polygon fill=\"#FFFFFF\" points=\"16,6,210,6,217,28.2969,270,28.2969,270,167,16,167,16,6\" style=\"stroke: #000000; stroke-width: 1.5;\"/><line style=\"stroke: #000000; stroke-width: 1.5;\" x1=\"16\" x2=\"217\" y1=\"28.2969\" y2=\"28.2969\"/><text fill=\"#000000\" font-family=\"sans-serif\" font-size=\"14\" font-weight=\"bold\" lengthAdjust=\"spacingAndGlyphs\" textLength=\"188\" x=\"20\" y=\"20.9951\">TextualRepresentationTest</text></a><!--MD5=[d5e69f78d87373223dbae638b30a9c99]\n",
       "cluster E3--><a href=\"psysml:fdd44db5-2b71-42e4-a6cb-0126cd22309d\" target=\"_top\" title=\"psysml:fdd44db5-2b71-42e4-a6cb-0126cd22309d\" xlink:actuate=\"onRequest\" xlink:href=\"psysml:fdd44db5-2b71-42e4-a6cb-0126cd22309d\" xlink:show=\"new\" xlink:title=\"psysml:fdd44db5-2b71-42e4-a6cb-0126cd22309d\" xlink:type=\"simple\"><rect fill=\"#FFFFFF\" height=\"88.5\" id=\"E3\" style=\"stroke: #383838; stroke-width: 1.5;\" width=\"100\" x=\"122.5\" y=\"62.5\"/><rect fill=\"#F8F8F8\" height=\"37.9375\" style=\"stroke: #383838; stroke-width: 1.5;\" width=\"100\" x=\"122.5\" y=\"62.5\"/><text fill=\"#000000\" font-family=\"sans-serif\" font-size=\"12\" font-style=\"italic\" lengthAdjust=\"spacingAndGlyphs\" textLength=\"81\" x=\"132\" y=\"78.6387\">«action  def»</text><text fill=\"#000000\" font-family=\"sans-serif\" font-size=\"12\" lengthAdjust=\"spacingAndGlyphs\" textLength=\"27\" x=\"159\" y=\"92.6074\">setX</text></a><g id=\"E1.E2\"><a href=\"psysml:9149846c-b557-44f1-bb03-13041676b872\" target=\"_top\" title=\"psysml:9149846c-b557-44f1-bb03-13041676b872\" xlink:actuate=\"onRequest\" xlink:href=\"psysml:9149846c-b557-44f1-bb03-13041676b872\" xlink:show=\"new\" xlink:title=\"psysml:9149846c-b557-44f1-bb03-13041676b872\" xlink:type=\"simple\"><rect fill=\"#FFFFFF\" height=\"42.9375\" id=\"E2\" style=\"stroke: #383838; stroke-width: 1.5;\" width=\"76\" x=\"32\" y=\"41\"/><rect fill=\"#F8F8F8\" height=\"37.9375\" style=\"stroke: #383838; stroke-width: 1.5;\" width=\"76\" x=\"32\" y=\"41\"/><text fill=\"#000000\" font-family=\"sans-serif\" font-size=\"12\" font-style=\"italic\" lengthAdjust=\"spacingAndGlyphs\" textLength=\"69\" x=\"35.5\" y=\"57.1387\">«item  def»</text><text fill=\"#000000\" font-family=\"sans-serif\" font-size=\"12\" lengthAdjust=\"spacingAndGlyphs\" textLength=\"8\" x=\"66\" y=\"71.1074\">C</text></a></g><text fill=\"#000000\" font-family=\"sans-serif\" font-size=\"14\" lengthAdjust=\"spacingAndGlyphs\" textLength=\"8\" x=\"145\" y=\"41.1982\">c</text><rect fill=\"#383838\" height=\"12\" style=\"stroke: #F8F8F8; stroke-width: 1.5;\" width=\"12\" x=\"143\" y=\"56.5\"/><text fill=\"#000000\" font-family=\"sans-serif\" font-size=\"14\" lengthAdjust=\"spacingAndGlyphs\" textLength=\"38\" x=\"177\" y=\"41.1982\">newX</text><rect fill=\"#383838\" height=\"12\" style=\"stroke: #F8F8F8; stroke-width: 1.5;\" width=\"12\" x=\"190\" y=\"56.5\"/><!--MD5=[30942fd55b8bc8bba6b3f2948a71abae]\n",
       "@startuml\r\n",
       "skinparam ranksep 10\r\n",
       "skinparam rectangle {\r\n",
       " backgroundColor<<block>> LightGreen\r\n",
       "}\r\n",
       "top to bottom direction\r\n",
       "skinparam monochrome true\r\n",
       "skinparam classbackgroundcolor white\r\n",
       "skinparam shadowing false\r\n",
       "skinparam wrapWidth 300\r\n",
       "hide circle\r\n",
       "\r\n",
       "package \"TextualRepresentationTest\" as E1  [[psysml:2524e1ec-43b2-4dd4-b81d-385c3decebbf ]]  {\r\n",
       "def \"C\" as E2  <<(T,blue) item  def>> [[psysml:9149846c-b557-44f1-bb03-13041676b872 ]] \r\n",
       "rec def \"setX\" as E3  <<(T,blue) action  def>> [[psysml:fdd44db5-2b71-42e4-a6cb-0126cd22309d ]] {\r\n",
       "portin \"c\" as E4  [[psysml:70c0b2f6-f79a-4e90-a3c9-a244a9735aa8 ]] \r\n",
       "portin \"newX\" as E5  [[psysml:4245f76d-31bb-4c80-8014-7bc1277d6e35 ]] \r\n",
       "}\r\n",
       "\r\n",
       "}\r\n",
       "@enduml\r\n",
       "\n",
       "PlantUML version 1.2020.13(Sat Jun 13 12:26:38 UTC 2020)\n",
       "(EPL source distribution)\n",
       "Java Runtime: OpenJDK Runtime Environment\n",
       "JVM: OpenJDK 64-Bit Server VM\n",
       "Default Encoding: UTF-8\n",
       "Language: en\n",
       "Country: null\n",
       "--></g></svg>"
      ]
     },
     "execution_count": 47,
     "metadata": {},
     "output_type": "execute_result"
    }
   ],
   "source": [
    "%viz --style=\"TB\" --view=\"Interconnection\" \"TextualRepresentationTest\""
   ]
  },
  {
   "cell_type": "code",
   "execution_count": 48,
   "id": "928a97c3",
   "metadata": {
    "execution": {
     "iopub.execute_input": "2022-05-19T08:44:56.511229Z",
     "iopub.status.busy": "2022-05-19T08:44:56.510782Z",
     "iopub.status.idle": "2022-05-19T08:44:56.533409Z",
     "shell.execute_reply": "2022-05-19T08:44:56.533009Z"
    }
   },
   "outputs": [
    {
     "data": {
      "image/svg+xml": [
       "<?xml version=\"1.0\" encoding=\"UTF-8\" standalone=\"no\"?><svg xmlns=\"http://www.w3.org/2000/svg\" xmlns:xlink=\"http://www.w3.org/1999/xlink\" contentScriptType=\"application/ecmascript\" contentStyleType=\"text/css\" height=\"126px\" preserveAspectRatio=\"none\" style=\"width:152px;height:126px;\" version=\"1.1\" viewBox=\"0 0 152 126\" width=\"152px\" zoomAndPan=\"magnify\"><defs/><g><!--MD5=[fbc87193dbaf4d95561dea2c320d4a47]\n",
       "cluster E1--><a href=\"psysml:fdd44db5-2b71-42e4-a6cb-0126cd22309d\" target=\"_top\" title=\"psysml:fdd44db5-2b71-42e4-a6cb-0126cd22309d\" xlink:actuate=\"onRequest\" xlink:href=\"psysml:fdd44db5-2b71-42e4-a6cb-0126cd22309d\" xlink:show=\"new\" xlink:title=\"psysml:fdd44db5-2b71-42e4-a6cb-0126cd22309d\" xlink:type=\"simple\"><rect fill=\"#FFFFFF\" height=\"73\" id=\"E1\" style=\"stroke: #383838; stroke-width: 1.5;\" width=\"134\" x=\"7\" y=\"42.0986\"/><rect fill=\"#F8F8F8\" height=\"37.9375\" style=\"stroke: #383838; stroke-width: 1.5;\" width=\"134\" x=\"7\" y=\"42.0986\"/><text fill=\"#000000\" font-family=\"sans-serif\" font-size=\"12\" font-style=\"italic\" lengthAdjust=\"spacingAndGlyphs\" textLength=\"81\" x=\"33.5\" y=\"58.2373\">«action  def»</text><text fill=\"#000000\" font-family=\"sans-serif\" font-size=\"12\" lengthAdjust=\"spacingAndGlyphs\" textLength=\"27\" x=\"60.5\" y=\"72.2061\">setX</text></a><text fill=\"#000000\" font-family=\"sans-serif\" font-size=\"14\" lengthAdjust=\"spacingAndGlyphs\" textLength=\"8\" x=\"21\" y=\"20.7969\">c</text><rect fill=\"#383838\" height=\"12\" style=\"stroke: #F8F8F8; stroke-width: 1.5;\" width=\"12\" x=\"19\" y=\"36.0986\"/><text fill=\"#000000\" font-family=\"sans-serif\" font-size=\"14\" lengthAdjust=\"spacingAndGlyphs\" textLength=\"38\" x=\"53\" y=\"20.7969\">newX</text><rect fill=\"#383838\" height=\"12\" style=\"stroke: #F8F8F8; stroke-width: 1.5;\" width=\"12\" x=\"66\" y=\"36.0986\"/><!--MD5=[3c518eac081e0f9743a7eec736363994]\n",
       "@startuml\r\n",
       "skinparam ranksep 8\r\n",
       "top to bottom direction\r\n",
       "skinparam monochrome true\r\n",
       "skinparam classbackgroundcolor white\r\n",
       "skinparam shadowing false\r\n",
       "skinparam wrapWidth 300\r\n",
       "hide circle\r\n",
       "\r\n",
       "rec def \"setX\" as E1  <<(T,blue) action  def>> [[psysml:fdd44db5-2b71-42e4-a6cb-0126cd22309d ]] {\r\n",
       "portin \"c\" as E2  [[psysml:70c0b2f6-f79a-4e90-a3c9-a244a9735aa8 ]] \r\n",
       "portin \"newX\" as E3  [[psysml:4245f76d-31bb-4c80-8014-7bc1277d6e35 ]] \r\n",
       "}\r\n",
       "\r\n",
       "@enduml\r\n",
       "\n",
       "PlantUML version 1.2020.13(Sat Jun 13 12:26:38 UTC 2020)\n",
       "(EPL source distribution)\n",
       "Java Runtime: OpenJDK Runtime Environment\n",
       "JVM: OpenJDK 64-Bit Server VM\n",
       "Default Encoding: UTF-8\n",
       "Language: en\n",
       "Country: null\n",
       "--></g></svg>"
      ]
     },
     "execution_count": 48,
     "metadata": {},
     "output_type": "execute_result"
    }
   ],
   "source": [
    "%viz --style=\"TB\" --view=\"Action\" \"TextualRepresentationTest\""
   ]
  },
  {
   "cell_type": "code",
   "execution_count": 49,
   "id": "243ab46b",
   "metadata": {
    "execution": {
     "iopub.execute_input": "2022-05-19T08:44:56.583250Z",
     "iopub.status.busy": "2022-05-19T08:44:56.582796Z",
     "iopub.status.idle": "2022-05-19T08:44:56.587906Z",
     "shell.execute_reply": "2022-05-19T08:44:56.588223Z"
    }
   },
   "outputs": [
    {
     "data": {
      "image/svg+xml": [
       "<?xml version=\"1.0\" encoding=\"UTF-8\" standalone=\"no\"?><svg xmlns=\"http://www.w3.org/2000/svg\" xmlns:xlink=\"http://www.w3.org/1999/xlink\" contentScriptType=\"application/ecmascript\" contentStyleType=\"text/css\" height=\"12px\" preserveAspectRatio=\"none\" style=\"width:12px;height:12px;\" version=\"1.1\" viewBox=\"0 0 12 12\" width=\"12px\" zoomAndPan=\"magnify\"><defs/><g><!--MD5=[e1ab0c84c44d2fef8bf5f140f2689906]\n",
       "@startuml\r\n",
       "skinparam roundcorner 20\r\n",
       "skinparam BoxPadding 20\r\n",
       "skinparam SequenceBoxBackgroundColor #white\r\n",
       "skinparam style strictuml\r\n",
       "skinparam maxMessageSize 100\r\n",
       "top to bottom direction\r\n",
       "skinparam monochrome true\r\n",
       "skinparam classbackgroundcolor white\r\n",
       "skinparam shadowing false\r\n",
       "skinparam wrapWidth 300\r\n",
       "hide circle\r\n",
       "\r\n",
       "@enduml\r\n",
       "\n",
       "PlantUML version 1.2020.13(Sat Jun 13 12:26:38 UTC 2020)\n",
       "(EPL source distribution)\n",
       "Java Runtime: OpenJDK Runtime Environment\n",
       "JVM: OpenJDK 64-Bit Server VM\n",
       "Default Encoding: UTF-8\n",
       "Language: en\n",
       "Country: null\n",
       "--></g></svg>"
      ]
     },
     "execution_count": 49,
     "metadata": {},
     "output_type": "execute_result"
    }
   ],
   "source": [
    "%viz --style=\"TB\" --view=\"Sequence\" \"TextualRepresentationTest\""
   ]
  },
  {
   "cell_type": "code",
   "execution_count": 50,
   "id": "078bf2e5",
   "metadata": {
    "execution": {
     "iopub.execute_input": "2022-05-19T08:44:56.638416Z",
     "iopub.status.busy": "2022-05-19T08:44:56.637960Z",
     "iopub.status.idle": "2022-05-19T08:44:56.678114Z",
     "shell.execute_reply": "2022-05-19T08:44:56.677682Z"
    }
   },
   "outputs": [
    {
     "data": {
      "image/svg+xml": [
       "<?xml version=\"1.0\" encoding=\"UTF-8\" standalone=\"no\"?><svg xmlns=\"http://www.w3.org/2000/svg\" xmlns:xlink=\"http://www.w3.org/1999/xlink\" contentScriptType=\"application/ecmascript\" contentStyleType=\"text/css\" height=\"261px\" preserveAspectRatio=\"none\" style=\"width:351px;height:261px;\" version=\"1.1\" viewBox=\"0 0 351 261\" width=\"351px\" zoomAndPan=\"magnify\"><defs/><g><!--MD5=[fbc87193dbaf4d95561dea2c320d4a47]\n",
       "cluster E1--><a href=\"psysml:2524e1ec-43b2-4dd4-b81d-385c3decebbf\" target=\"_top\" title=\"psysml:2524e1ec-43b2-4dd4-b81d-385c3decebbf\" xlink:actuate=\"onRequest\" xlink:href=\"psysml:2524e1ec-43b2-4dd4-b81d-385c3decebbf\" xlink:show=\"new\" xlink:title=\"psysml:2524e1ec-43b2-4dd4-b81d-385c3decebbf\" xlink:type=\"simple\"><polygon fill=\"#FFFFFF\" points=\"16,6,210,6,217,28.2969,329,28.2969,329,249.5,16,249.5,16,6\" style=\"stroke: #000000; stroke-width: 1.5;\"/><line style=\"stroke: #000000; stroke-width: 1.5;\" x1=\"16\" x2=\"217\" y1=\"28.2969\" y2=\"28.2969\"/><text fill=\"#000000\" font-family=\"sans-serif\" font-size=\"14\" font-weight=\"bold\" lengthAdjust=\"spacingAndGlyphs\" textLength=\"188\" x=\"20\" y=\"20.9951\">TextualRepresentationTest</text></a><!--MD5=[f6df4d0ebaf0b5dfb2ced0ae5af7c670]\n",
       "cluster E4--><a href=\"psysml:fdd44db5-2b71-42e4-a6cb-0126cd22309d\" target=\"_top\" title=\"psysml:fdd44db5-2b71-42e4-a6cb-0126cd22309d\" xlink:actuate=\"onRequest\" xlink:href=\"psysml:fdd44db5-2b71-42e4-a6cb-0126cd22309d\" xlink:show=\"new\" xlink:title=\"psysml:fdd44db5-2b71-42e4-a6cb-0126cd22309d\" xlink:type=\"simple\"><rect fill=\"#FFFFFF\" height=\"154.5\" id=\"E4\" style=\"stroke: #383838; stroke-width: 1.5;\" width=\"134\" x=\"179\" y=\"79\"/><rect fill=\"#F8F8F8\" height=\"37.9375\" style=\"stroke: #383838; stroke-width: 1.5;\" width=\"134\" x=\"179\" y=\"79\"/><text fill=\"#000000\" font-family=\"sans-serif\" font-size=\"12\" font-style=\"italic\" lengthAdjust=\"spacingAndGlyphs\" textLength=\"81\" x=\"205.5\" y=\"95.1387\">«action  def»</text><text fill=\"#000000\" font-family=\"sans-serif\" font-size=\"12\" lengthAdjust=\"spacingAndGlyphs\" textLength=\"27\" x=\"232.5\" y=\"109.1074\">setX</text></a><!--MD5=[b4997ac47864f28c2f74865a473b2911]\n",
       "class E2--><a href=\"psysml:9149846c-b557-44f1-bb03-13041676b872\" target=\"_top\" title=\"psysml:9149846c-b557-44f1-bb03-13041676b872\" xlink:actuate=\"onRequest\" xlink:href=\"psysml:9149846c-b557-44f1-bb03-13041676b872\" xlink:show=\"new\" xlink:title=\"psysml:9149846c-b557-44f1-bb03-13041676b872\" xlink:type=\"simple\"><rect fill=\"#FFFFFF\" height=\"75.5469\" id=\"E2\" style=\"stroke: #383838; stroke-width: 1.5;\" width=\"71\" x=\"58.5\" y=\"41\"/><text fill=\"#000000\" font-family=\"sans-serif\" font-size=\"12\" font-style=\"italic\" lengthAdjust=\"spacingAndGlyphs\" textLength=\"69\" x=\"59.5\" y=\"57.1387\">«item  def»</text><text fill=\"#000000\" font-family=\"sans-serif\" font-size=\"12\" lengthAdjust=\"spacingAndGlyphs\" textLength=\"8\" x=\"90\" y=\"71.1074\">C</text><line style=\"stroke: #383838; stroke-width: 1.5;\" x1=\"59.5\" x2=\"128.5\" y1=\"78.9375\" y2=\"78.9375\"/><text fill=\"#000000\" font-family=\"sans-serif\" font-size=\"11\" lengthAdjust=\"spacingAndGlyphs\" textLength=\"38\" x=\"64.5\" y=\"109.9526\">x: Real</text><line style=\"stroke: #383838; stroke-width: 1.0;\" x1=\"59.5\" x2=\"66.5\" y1=\"93.3398\" y2=\"93.3398\"/><text fill=\"#000000\" font-family=\"sans-serif\" font-size=\"11\" lengthAdjust=\"spacingAndGlyphs\" textLength=\"55\" x=\"66.5\" y=\"96.6479\">attributes</text><line style=\"stroke: #383838; stroke-width: 1.0;\" x1=\"121.5\" x2=\"128.5\" y1=\"93.3398\" y2=\"93.3398\"/></a><!--MD5=[09b614a08d8cba4a07c9adeb5e0fee81]\n",
       "class E3--><a href=\"psysml:d102dace-404f-4787-94a0-7dab0b8761ce\" target=\"_top\" title=\"psysml:d102dace-404f-4787-94a0-7dab0b8761ce\" xlink:actuate=\"onRequest\" xlink:href=\"psysml:d102dace-404f-4787-94a0-7dab0b8761ce\" xlink:show=\"new\" xlink:title=\"psysml:d102dace-404f-4787-94a0-7dab0b8761ce\" xlink:type=\"simple\"><rect fill=\"#FFFFFF\" height=\"45.9375\" id=\"E3\" rx=\"10\" ry=\"10\" style=\"stroke: #383838; stroke-width: 1.5;\" width=\"124\" x=\"32\" y=\"177\"/><text fill=\"#000000\" font-family=\"sans-serif\" font-size=\"12\" font-style=\"italic\" lengthAdjust=\"spacingAndGlyphs\" textLength=\"122\" x=\"33\" y=\"193.1387\">«assert constraint»</text><text fill=\"#000000\" font-family=\"sans-serif\" font-size=\"12\" lengthAdjust=\"spacingAndGlyphs\" textLength=\"76\" x=\"54\" y=\"207.1074\">x_constraint</text><line style=\"stroke: #383838; stroke-width: 1.5;\" x1=\"33\" x2=\"155\" y1=\"214.9375\" y2=\"214.9375\"/></a><text fill=\"#000000\" font-family=\"sans-serif\" font-size=\"14\" lengthAdjust=\"spacingAndGlyphs\" textLength=\"8\" x=\"193\" y=\"57.6982\">c</text><rect fill=\"#383838\" height=\"12\" style=\"stroke: #F8F8F8; stroke-width: 1.5;\" width=\"12\" x=\"191\" y=\"73\"/><text fill=\"#000000\" font-family=\"sans-serif\" font-size=\"14\" lengthAdjust=\"spacingAndGlyphs\" textLength=\"38\" x=\"225\" y=\"57.6982\">newX</text><rect fill=\"#383838\" height=\"12\" style=\"stroke: #F8F8F8; stroke-width: 1.5;\" width=\"12\" x=\"238\" y=\"73\"/><!--MD5=[209b3feb70ccb6233bfe1053d122c12c]\n",
       "reverse link E2 to E3--><a href=\"psysml:0da81c8f-97bb-41c6-9a60-156bc4c734f4\" target=\"_top\" title=\"psysml:0da81c8f-97bb-41c6-9a60-156bc4c734f4\" xlink:actuate=\"onRequest\" xlink:href=\"psysml:0da81c8f-97bb-41c6-9a60-156bc4c734f4\" xlink:show=\"new\" xlink:title=\"psysml:0da81c8f-97bb-41c6-9a60-156bc4c734f4\" xlink:type=\"simple\"><path d=\"M94,130.34 C94,146.61 94,163.81 94,176.93 \" fill=\"none\" id=\"E2&lt;-E3\" style=\"stroke: #383838; stroke-width: 1.0;\"/><polygon fill=\"#383838\" points=\"94,117,90,123,94,129,98,123,94,117\" style=\"stroke: #383838; stroke-width: 1.0;\"/><text fill=\"#000000\" font-family=\"sans-serif\" font-size=\"13\" lengthAdjust=\"spacingAndGlyphs\" textLength=\"7\" x=\"86.0594\" y=\"165.8075\">*</text></a><!--MD5=[215c5560702a08cf0ad29f62b7d757c1]\n",
       "@startuml\r\n",
       "top to bottom direction\r\n",
       "skinparam monochrome true\r\n",
       "skinparam classbackgroundcolor white\r\n",
       "skinparam shadowing false\r\n",
       "skinparam wrapWidth 300\r\n",
       "hide circle\r\n",
       "\r\n",
       "package \"TextualRepresentationTest\" as E1  [[psysml:2524e1ec-43b2-4dd4-b81d-385c3decebbf ]]  {\r\n",
       "comp def \"C\" as E2  <<(T,blue) item  def>> [[psysml:9149846c-b557-44f1-bb03-13041676b872 ]] {\r\n",
       "- - attributes - -\r\n",
       "x: Real\r\n",
       "}\r\n",
       "comp usage \"x_constraint \" as E3  <<(T,blue) assert constraint>> [[psysml:d102dace-404f-4787-94a0-7dab0b8761ce ]] {\r\n",
       "}\r\n",
       "rec def \"setX\" as E4  <<(T,blue) action  def>> [[psysml:fdd44db5-2b71-42e4-a6cb-0126cd22309d ]] {\r\n",
       "portin \"c\" as E5  [[psysml:70c0b2f6-f79a-4e90-a3c9-a244a9735aa8 ]] \r\n",
       "portin \"newX\" as E6  [[psysml:4245f76d-31bb-4c80-8014-7bc1277d6e35 ]] \r\n",
       "}\r\n",
       "\r\n",
       "}\r\n",
       "E2 *- - \"*\"E3 [[psysml:0da81c8f-97bb-41c6-9a60-156bc4c734f4 ]] \r\n",
       "@enduml\r\n",
       "\n",
       "PlantUML version 1.2020.13(Sat Jun 13 12:26:38 UTC 2020)\n",
       "(EPL source distribution)\n",
       "Java Runtime: OpenJDK Runtime Environment\n",
       "JVM: OpenJDK 64-Bit Server VM\n",
       "Default Encoding: UTF-8\n",
       "Language: en\n",
       "Country: null\n",
       "--></g></svg>"
      ]
     },
     "execution_count": 50,
     "metadata": {},
     "output_type": "execute_result"
    }
   ],
   "source": [
    "%viz --style=\"TB\" --view=\"MIXED\" \"TextualRepresentationTest\""
   ]
  },
  {
   "cell_type": "code",
   "execution_count": 51,
   "id": "482362cf",
   "metadata": {
    "execution": {
     "iopub.execute_input": "2022-05-19T08:44:56.727716Z",
     "iopub.status.busy": "2022-05-19T08:44:56.727216Z",
     "iopub.status.idle": "2022-05-19T08:44:56.768052Z",
     "shell.execute_reply": "2022-05-19T08:44:56.767677Z"
    }
   },
   "outputs": [
    {
     "data": {
      "image/svg+xml": [
       "<?xml version=\"1.0\" encoding=\"UTF-8\" standalone=\"no\"?><svg xmlns=\"http://www.w3.org/2000/svg\" xmlns:xlink=\"http://www.w3.org/1999/xlink\" contentScriptType=\"application/ecmascript\" contentStyleType=\"text/css\" height=\"261px\" preserveAspectRatio=\"none\" style=\"width:351px;height:261px;\" version=\"1.1\" viewBox=\"0 0 351 261\" width=\"351px\" zoomAndPan=\"magnify\"><defs/><g><!--MD5=[fbc87193dbaf4d95561dea2c320d4a47]\n",
       "cluster E1--><a href=\"psysml:2524e1ec-43b2-4dd4-b81d-385c3decebbf\" target=\"_top\" title=\"psysml:2524e1ec-43b2-4dd4-b81d-385c3decebbf\" xlink:actuate=\"onRequest\" xlink:href=\"psysml:2524e1ec-43b2-4dd4-b81d-385c3decebbf\" xlink:show=\"new\" xlink:title=\"psysml:2524e1ec-43b2-4dd4-b81d-385c3decebbf\" xlink:type=\"simple\"><polygon fill=\"#FFFFFF\" points=\"16,6,210,6,217,28.2969,329,28.2969,329,249.5,16,249.5,16,6\" style=\"stroke: #000000; stroke-width: 1.5;\"/><line style=\"stroke: #000000; stroke-width: 1.5;\" x1=\"16\" x2=\"217\" y1=\"28.2969\" y2=\"28.2969\"/><text fill=\"#000000\" font-family=\"sans-serif\" font-size=\"14\" font-weight=\"bold\" lengthAdjust=\"spacingAndGlyphs\" textLength=\"188\" x=\"20\" y=\"20.9951\">TextualRepresentationTest</text></a><!--MD5=[f6df4d0ebaf0b5dfb2ced0ae5af7c670]\n",
       "cluster E4--><a href=\"psysml:fdd44db5-2b71-42e4-a6cb-0126cd22309d\" target=\"_top\" title=\"psysml:fdd44db5-2b71-42e4-a6cb-0126cd22309d\" xlink:actuate=\"onRequest\" xlink:href=\"psysml:fdd44db5-2b71-42e4-a6cb-0126cd22309d\" xlink:show=\"new\" xlink:title=\"psysml:fdd44db5-2b71-42e4-a6cb-0126cd22309d\" xlink:type=\"simple\"><rect fill=\"#FFFFFF\" height=\"154.5\" id=\"E4\" style=\"stroke: #383838; stroke-width: 1.5;\" width=\"134\" x=\"179\" y=\"79\"/><rect fill=\"#F8F8F8\" height=\"37.9375\" style=\"stroke: #383838; stroke-width: 1.5;\" width=\"134\" x=\"179\" y=\"79\"/><text fill=\"#000000\" font-family=\"sans-serif\" font-size=\"12\" font-style=\"italic\" lengthAdjust=\"spacingAndGlyphs\" textLength=\"81\" x=\"205.5\" y=\"95.1387\">«action  def»</text><text fill=\"#000000\" font-family=\"sans-serif\" font-size=\"12\" lengthAdjust=\"spacingAndGlyphs\" textLength=\"27\" x=\"232.5\" y=\"109.1074\">setX</text></a><!--MD5=[b4997ac47864f28c2f74865a473b2911]\n",
       "class E2--><a href=\"psysml:9149846c-b557-44f1-bb03-13041676b872\" target=\"_top\" title=\"psysml:9149846c-b557-44f1-bb03-13041676b872\" xlink:actuate=\"onRequest\" xlink:href=\"psysml:9149846c-b557-44f1-bb03-13041676b872\" xlink:show=\"new\" xlink:title=\"psysml:9149846c-b557-44f1-bb03-13041676b872\" xlink:type=\"simple\"><rect fill=\"#FFFFFF\" height=\"75.5469\" id=\"E2\" style=\"stroke: #383838; stroke-width: 1.5;\" width=\"71\" x=\"58.5\" y=\"41\"/><text fill=\"#000000\" font-family=\"sans-serif\" font-size=\"12\" font-style=\"italic\" lengthAdjust=\"spacingAndGlyphs\" textLength=\"69\" x=\"59.5\" y=\"57.1387\">«item  def»</text><text fill=\"#000000\" font-family=\"sans-serif\" font-size=\"12\" lengthAdjust=\"spacingAndGlyphs\" textLength=\"8\" x=\"90\" y=\"71.1074\">C</text><line style=\"stroke: #383838; stroke-width: 1.5;\" x1=\"59.5\" x2=\"128.5\" y1=\"78.9375\" y2=\"78.9375\"/><text fill=\"#000000\" font-family=\"sans-serif\" font-size=\"11\" lengthAdjust=\"spacingAndGlyphs\" textLength=\"38\" x=\"64.5\" y=\"109.9526\">x: Real</text><line style=\"stroke: #383838; stroke-width: 1.0;\" x1=\"59.5\" x2=\"66.5\" y1=\"93.3398\" y2=\"93.3398\"/><text fill=\"#000000\" font-family=\"sans-serif\" font-size=\"11\" lengthAdjust=\"spacingAndGlyphs\" textLength=\"55\" x=\"66.5\" y=\"96.6479\">attributes</text><line style=\"stroke: #383838; stroke-width: 1.0;\" x1=\"121.5\" x2=\"128.5\" y1=\"93.3398\" y2=\"93.3398\"/></a><!--MD5=[09b614a08d8cba4a07c9adeb5e0fee81]\n",
       "class E3--><a href=\"psysml:d102dace-404f-4787-94a0-7dab0b8761ce\" target=\"_top\" title=\"psysml:d102dace-404f-4787-94a0-7dab0b8761ce\" xlink:actuate=\"onRequest\" xlink:href=\"psysml:d102dace-404f-4787-94a0-7dab0b8761ce\" xlink:show=\"new\" xlink:title=\"psysml:d102dace-404f-4787-94a0-7dab0b8761ce\" xlink:type=\"simple\"><rect fill=\"#FFFFFF\" height=\"45.9375\" id=\"E3\" rx=\"10\" ry=\"10\" style=\"stroke: #383838; stroke-width: 1.5;\" width=\"124\" x=\"32\" y=\"177\"/><text fill=\"#000000\" font-family=\"sans-serif\" font-size=\"12\" font-style=\"italic\" lengthAdjust=\"spacingAndGlyphs\" textLength=\"122\" x=\"33\" y=\"193.1387\">«assert constraint»</text><text fill=\"#000000\" font-family=\"sans-serif\" font-size=\"12\" lengthAdjust=\"spacingAndGlyphs\" textLength=\"76\" x=\"54\" y=\"207.1074\">x_constraint</text><line style=\"stroke: #383838; stroke-width: 1.5;\" x1=\"33\" x2=\"155\" y1=\"214.9375\" y2=\"214.9375\"/></a><text fill=\"#000000\" font-family=\"sans-serif\" font-size=\"14\" lengthAdjust=\"spacingAndGlyphs\" textLength=\"8\" x=\"193\" y=\"57.6982\">c</text><rect fill=\"#383838\" height=\"12\" style=\"stroke: #F8F8F8; stroke-width: 1.5;\" width=\"12\" x=\"191\" y=\"73\"/><text fill=\"#000000\" font-family=\"sans-serif\" font-size=\"14\" lengthAdjust=\"spacingAndGlyphs\" textLength=\"38\" x=\"225\" y=\"57.6982\">newX</text><rect fill=\"#383838\" height=\"12\" style=\"stroke: #F8F8F8; stroke-width: 1.5;\" width=\"12\" x=\"238\" y=\"73\"/><!--MD5=[209b3feb70ccb6233bfe1053d122c12c]\n",
       "reverse link E2 to E3--><a href=\"psysml:0da81c8f-97bb-41c6-9a60-156bc4c734f4\" target=\"_top\" title=\"psysml:0da81c8f-97bb-41c6-9a60-156bc4c734f4\" xlink:actuate=\"onRequest\" xlink:href=\"psysml:0da81c8f-97bb-41c6-9a60-156bc4c734f4\" xlink:show=\"new\" xlink:title=\"psysml:0da81c8f-97bb-41c6-9a60-156bc4c734f4\" xlink:type=\"simple\"><path d=\"M94,130.29 C94,130.29 94,176.74 94,176.74 \" fill=\"none\" id=\"E2&lt;-E3\" style=\"stroke: #383838; stroke-width: 1.0;\"/><polygon fill=\"#383838\" points=\"94,117.29,90,123.29,94,129.29,98,123.29,94,117.29\" style=\"stroke: #383838; stroke-width: 1.0;\"/><text fill=\"#000000\" font-family=\"sans-serif\" font-size=\"13\" lengthAdjust=\"spacingAndGlyphs\" textLength=\"7\" x=\"86.1031\" y=\"165.9497\">*</text></a><!--MD5=[77ff0e05264e0834219828c0cb1abb60]\n",
       "@startuml\r\n",
       "skinparam linetype ortho\r\n",
       "skinparam monochrome true\r\n",
       "skinparam classbackgroundcolor white\r\n",
       "skinparam shadowing false\r\n",
       "skinparam wrapWidth 300\r\n",
       "hide circle\r\n",
       "\r\n",
       "package \"TextualRepresentationTest\" as E1  [[psysml:2524e1ec-43b2-4dd4-b81d-385c3decebbf ]]  {\r\n",
       "comp def \"C\" as E2  <<(T,blue) item  def>> [[psysml:9149846c-b557-44f1-bb03-13041676b872 ]] {\r\n",
       "- - attributes - -\r\n",
       "x: Real\r\n",
       "}\r\n",
       "comp usage \"x_constraint \" as E3  <<(T,blue) assert constraint>> [[psysml:d102dace-404f-4787-94a0-7dab0b8761ce ]] {\r\n",
       "}\r\n",
       "rec def \"setX\" as E4  <<(T,blue) action  def>> [[psysml:fdd44db5-2b71-42e4-a6cb-0126cd22309d ]] {\r\n",
       "portin \"c\" as E5  [[psysml:70c0b2f6-f79a-4e90-a3c9-a244a9735aa8 ]] \r\n",
       "portin \"newX\" as E6  [[psysml:4245f76d-31bb-4c80-8014-7bc1277d6e35 ]] \r\n",
       "}\r\n",
       "\r\n",
       "}\r\n",
       "E2 *- - \"*\"E3 [[psysml:0da81c8f-97bb-41c6-9a60-156bc4c734f4 ]] \r\n",
       "@enduml\r\n",
       "\n",
       "PlantUML version 1.2020.13(Sat Jun 13 12:26:38 UTC 2020)\n",
       "(EPL source distribution)\n",
       "Java Runtime: OpenJDK Runtime Environment\n",
       "JVM: OpenJDK 64-Bit Server VM\n",
       "Default Encoding: UTF-8\n",
       "Language: en\n",
       "Country: null\n",
       "--></g></svg>"
      ]
     },
     "execution_count": 51,
     "metadata": {},
     "output_type": "execute_result"
    }
   ],
   "source": [
    "%viz --style=\"ORTHOLINE\" --view=\"Default\" \"TextualRepresentationTest\""
   ]
  },
  {
   "cell_type": "code",
   "execution_count": 52,
   "id": "6ee21cb3",
   "metadata": {
    "execution": {
     "iopub.execute_input": "2022-05-19T08:44:56.817841Z",
     "iopub.status.busy": "2022-05-19T08:44:56.817397Z",
     "iopub.status.idle": "2022-05-19T08:44:56.855459Z",
     "shell.execute_reply": "2022-05-19T08:44:56.855062Z"
    }
   },
   "outputs": [
    {
     "data": {
      "image/svg+xml": [
       "<?xml version=\"1.0\" encoding=\"UTF-8\" standalone=\"no\"?><svg xmlns=\"http://www.w3.org/2000/svg\" xmlns:xlink=\"http://www.w3.org/1999/xlink\" contentScriptType=\"application/ecmascript\" contentStyleType=\"text/css\" height=\"375px\" preserveAspectRatio=\"none\" style=\"width:242px;height:375px;\" version=\"1.1\" viewBox=\"0 0 242 375\" width=\"242px\" zoomAndPan=\"magnify\"><defs/><g><!--MD5=[fbc87193dbaf4d95561dea2c320d4a47]\n",
       "cluster E1--><a href=\"psysml:2524e1ec-43b2-4dd4-b81d-385c3decebbf\" target=\"_top\" title=\"psysml:2524e1ec-43b2-4dd4-b81d-385c3decebbf\" xlink:actuate=\"onRequest\" xlink:href=\"psysml:2524e1ec-43b2-4dd4-b81d-385c3decebbf\" xlink:show=\"new\" xlink:title=\"psysml:2524e1ec-43b2-4dd4-b81d-385c3decebbf\" xlink:type=\"simple\"><polygon fill=\"#FFFFFF\" points=\"16,6,210,6,217,28.2969,220,28.2969,220,363,16,363,16,6\" style=\"stroke: #000000; stroke-width: 1.5;\"/><line style=\"stroke: #000000; stroke-width: 1.5;\" x1=\"16\" x2=\"217\" y1=\"28.2969\" y2=\"28.2969\"/><text fill=\"#000000\" font-family=\"sans-serif\" font-size=\"14\" font-weight=\"bold\" lengthAdjust=\"spacingAndGlyphs\" textLength=\"188\" x=\"20\" y=\"20.9951\">TextualRepresentationTest</text></a><!--MD5=[b4997ac47864f28c2f74865a473b2911]\n",
       "class E2--><a href=\"psysml:9149846c-b557-44f1-bb03-13041676b872\" target=\"_top\" title=\"psysml:9149846c-b557-44f1-bb03-13041676b872\" xlink:actuate=\"onRequest\" xlink:href=\"psysml:9149846c-b557-44f1-bb03-13041676b872\" xlink:show=\"new\" xlink:title=\"psysml:9149846c-b557-44f1-bb03-13041676b872\" xlink:type=\"simple\"><rect fill=\"#FFFFFF\" height=\"75.5469\" id=\"E2\" style=\"stroke: #383838; stroke-width: 1.5;\" width=\"71\" x=\"82.5\" y=\"164\"/><text fill=\"#000000\" font-family=\"sans-serif\" font-size=\"12\" font-style=\"italic\" lengthAdjust=\"spacingAndGlyphs\" textLength=\"69\" x=\"83.5\" y=\"180.1387\">«item  def»</text><text fill=\"#000000\" font-family=\"sans-serif\" font-size=\"12\" lengthAdjust=\"spacingAndGlyphs\" textLength=\"8\" x=\"114\" y=\"194.1074\">C</text><line style=\"stroke: #383838; stroke-width: 1.5;\" x1=\"83.5\" x2=\"152.5\" y1=\"201.9375\" y2=\"201.9375\"/><text fill=\"#000000\" font-family=\"sans-serif\" font-size=\"11\" lengthAdjust=\"spacingAndGlyphs\" textLength=\"38\" x=\"88.5\" y=\"232.9526\">x: Real</text><line style=\"stroke: #383838; stroke-width: 1.0;\" x1=\"83.5\" x2=\"90.5\" y1=\"216.3398\" y2=\"216.3398\"/><text fill=\"#000000\" font-family=\"sans-serif\" font-size=\"11\" lengthAdjust=\"spacingAndGlyphs\" textLength=\"55\" x=\"90.5\" y=\"219.6479\">attributes</text><line style=\"stroke: #383838; stroke-width: 1.0;\" x1=\"145.5\" x2=\"152.5\" y1=\"216.3398\" y2=\"216.3398\"/></a><!--MD5=[09b614a08d8cba4a07c9adeb5e0fee81]\n",
       "class E3--><a href=\"psysml:d102dace-404f-4787-94a0-7dab0b8761ce\" target=\"_top\" title=\"psysml:d102dace-404f-4787-94a0-7dab0b8761ce\" xlink:actuate=\"onRequest\" xlink:href=\"psysml:d102dace-404f-4787-94a0-7dab0b8761ce\" xlink:show=\"new\" xlink:title=\"psysml:d102dace-404f-4787-94a0-7dab0b8761ce\" xlink:type=\"simple\"><rect fill=\"#FFFFFF\" height=\"45.9375\" id=\"E3\" rx=\"10\" ry=\"10\" style=\"stroke: #383838; stroke-width: 1.5;\" width=\"124\" x=\"56\" y=\"301\"/><text fill=\"#000000\" font-family=\"sans-serif\" font-size=\"12\" font-style=\"italic\" lengthAdjust=\"spacingAndGlyphs\" textLength=\"122\" x=\"57\" y=\"317.1387\">«assert constraint»</text><text fill=\"#000000\" font-family=\"sans-serif\" font-size=\"12\" lengthAdjust=\"spacingAndGlyphs\" textLength=\"76\" x=\"78\" y=\"331.1074\">x_constraint</text><line style=\"stroke: #383838; stroke-width: 1.5;\" x1=\"57\" x2=\"179\" y1=\"338.9375\" y2=\"338.9375\"/></a><!--MD5=[ebbe1d658d1005bcc118a6aa81145e00]\n",
       "class E4--><a href=\"psysml:fdd44db5-2b71-42e4-a6cb-0126cd22309d\" target=\"_top\" title=\"psysml:fdd44db5-2b71-42e4-a6cb-0126cd22309d\" xlink:actuate=\"onRequest\" xlink:href=\"psysml:fdd44db5-2b71-42e4-a6cb-0126cd22309d\" xlink:show=\"new\" xlink:title=\"psysml:fdd44db5-2b71-42e4-a6cb-0126cd22309d\" xlink:type=\"simple\"><rect fill=\"#FFFFFF\" height=\"45.9375\" id=\"E4\" style=\"stroke: #383838; stroke-width: 1.5;\" width=\"83\" x=\"76.5\" y=\"41\"/><text fill=\"#000000\" font-family=\"sans-serif\" font-size=\"12\" font-style=\"italic\" lengthAdjust=\"spacingAndGlyphs\" textLength=\"81\" x=\"77.5\" y=\"57.1387\">«action  def»</text><text fill=\"#000000\" font-family=\"sans-serif\" font-size=\"12\" lengthAdjust=\"spacingAndGlyphs\" textLength=\"27\" x=\"104.5\" y=\"71.1074\">setX</text><line style=\"stroke: #383838; stroke-width: 1.5;\" x1=\"77.5\" x2=\"158.5\" y1=\"78.9375\" y2=\"78.9375\"/></a><!--MD5=[209b3feb70ccb6233bfe1053d122c12c]\n",
       "reverse link E2 to E3--><a href=\"psysml:0da81c8f-97bb-41c6-9a60-156bc4c734f4\" target=\"_top\" title=\"psysml:0da81c8f-97bb-41c6-9a60-156bc4c734f4\" xlink:actuate=\"onRequest\" xlink:href=\"psysml:0da81c8f-97bb-41c6-9a60-156bc4c734f4\" xlink:show=\"new\" xlink:title=\"psysml:0da81c8f-97bb-41c6-9a60-156bc4c734f4\" xlink:type=\"simple\"><path d=\"M118,253.27 C118,253.27 118,300.78 118,300.78 \" fill=\"none\" id=\"E2&lt;-E3\" style=\"stroke: #383838; stroke-width: 1.0;\"/><polygon fill=\"#383838\" points=\"118,240.27,114,246.27,118,252.27,122,246.27,118,240.27\" style=\"stroke: #383838; stroke-width: 1.0;\"/><text fill=\"#000000\" font-family=\"sans-serif\" font-size=\"13\" lengthAdjust=\"spacingAndGlyphs\" textLength=\"7\" x=\"110.1031\" y=\"289.9999\">*</text></a><!--MD5=[ddeed8deb2209213b62e6cfabaa108b2]\n",
       "reverse link E4 to E2--><a href=\"psysml:70c0b2f6-f79a-4e90-a3c9-a244a9735aa8\" target=\"_top\" title=\"psysml:70c0b2f6-f79a-4e90-a3c9-a244a9735aa8\" xlink:actuate=\"onRequest\" xlink:href=\"psysml:70c0b2f6-f79a-4e90-a3c9-a244a9735aa8\" xlink:show=\"new\" xlink:title=\"psysml:70c0b2f6-f79a-4e90-a3c9-a244a9735aa8\" xlink:type=\"simple\"><path d=\"M118,100.1 C118,100.1 118,163.96 118,163.96 \" fill=\"none\" id=\"E4&lt;-E2\" style=\"stroke: #383838; stroke-width: 1.0;\"/><polygon fill=\"#FFFFFF\" points=\"118,87.1,114,93.1,118,99.1,122,93.1,118,87.1\" style=\"stroke: #383838; stroke-width: 1.0;\"/><text fill=\"#000000\" font-family=\"sans-serif\" font-size=\"13\" lengthAdjust=\"spacingAndGlyphs\" textLength=\"7\" x=\"119\" y=\"130.0669\">c</text></a><!--MD5=[834d87c557df669a4d03dfaa3be2375d]\n",
       "@startuml\r\n",
       "skinparam linetype ortho\r\n",
       "skinparam monochrome true\r\n",
       "skinparam classbackgroundcolor white\r\n",
       "skinparam shadowing false\r\n",
       "skinparam wrapWidth 300\r\n",
       "hide circle\r\n",
       "\r\n",
       "package \"TextualRepresentationTest\" as E1  [[psysml:2524e1ec-43b2-4dd4-b81d-385c3decebbf ]]  {\r\n",
       "comp def \"C\" as E2  <<(T,blue) item  def>> [[psysml:9149846c-b557-44f1-bb03-13041676b872 ]] {\r\n",
       "- - attributes - -\r\n",
       "x: Real\r\n",
       "}\r\n",
       "comp usage \"x_constraint \" as E3  <<(T,blue) assert constraint>> [[psysml:d102dace-404f-4787-94a0-7dab0b8761ce ]] {\r\n",
       "}\r\n",
       "comp def \"setX\" as E4  <<(T,blue) action  def>> [[psysml:fdd44db5-2b71-42e4-a6cb-0126cd22309d ]] {\r\n",
       "}\r\n",
       "}\r\n",
       "E2 *- - \"*\"E3 [[psysml:0da81c8f-97bb-41c6-9a60-156bc4c734f4 ]] \r\n",
       "E4 o- - E2 [[psysml:70c0b2f6-f79a-4e90-a3c9-a244a9735aa8 ]] : c\r\n",
       "@enduml\r\n",
       "\n",
       "PlantUML version 1.2020.13(Sat Jun 13 12:26:38 UTC 2020)\n",
       "(EPL source distribution)\n",
       "Java Runtime: OpenJDK Runtime Environment\n",
       "JVM: OpenJDK 64-Bit Server VM\n",
       "Default Encoding: UTF-8\n",
       "Language: en\n",
       "Country: null\n",
       "--></g></svg>"
      ]
     },
     "execution_count": 52,
     "metadata": {},
     "output_type": "execute_result"
    }
   ],
   "source": [
    "%viz --style=\"ORTHOLINE\" --view=\"Tree\" \"TextualRepresentationTest\""
   ]
  },
  {
   "cell_type": "code",
   "execution_count": 53,
   "id": "ff7a3a04",
   "metadata": {
    "execution": {
     "iopub.execute_input": "2022-05-19T08:44:56.905159Z",
     "iopub.status.busy": "2022-05-19T08:44:56.904708Z",
     "iopub.status.idle": "2022-05-19T08:44:56.909373Z",
     "shell.execute_reply": "2022-05-19T08:44:56.909002Z"
    }
   },
   "outputs": [
    {
     "data": {
      "image/svg+xml": [
       "<?xml version=\"1.0\" encoding=\"UTF-8\" standalone=\"no\"?><svg xmlns=\"http://www.w3.org/2000/svg\" xmlns:xlink=\"http://www.w3.org/1999/xlink\" contentScriptType=\"application/ecmascript\" contentStyleType=\"text/css\" height=\"12px\" preserveAspectRatio=\"none\" style=\"width:12px;height:12px;\" version=\"1.1\" viewBox=\"0 0 12 12\" width=\"12px\" zoomAndPan=\"magnify\"><defs/><g><!--MD5=[97d6f38768b311333d388e66b2b27985]\n",
       "@startuml\r\n",
       "skinparam linetype ortho\r\n",
       "skinparam monochrome true\r\n",
       "skinparam classbackgroundcolor white\r\n",
       "skinparam shadowing false\r\n",
       "skinparam wrapWidth 300\r\n",
       "hide circle\r\n",
       "\r\n",
       "@enduml\r\n",
       "\n",
       "PlantUML version 1.2020.13(Sat Jun 13 12:26:38 UTC 2020)\n",
       "(EPL source distribution)\n",
       "Java Runtime: OpenJDK Runtime Environment\n",
       "JVM: OpenJDK 64-Bit Server VM\n",
       "Default Encoding: UTF-8\n",
       "Language: en\n",
       "Country: null\n",
       "--></g></svg>"
      ]
     },
     "execution_count": 53,
     "metadata": {},
     "output_type": "execute_result"
    }
   ],
   "source": [
    "%viz --style=\"ORTHOLINE\" --view=\"State\" \"TextualRepresentationTest\""
   ]
  },
  {
   "cell_type": "code",
   "execution_count": 54,
   "id": "ffe9fa1c",
   "metadata": {
    "execution": {
     "iopub.execute_input": "2022-05-19T08:44:56.959199Z",
     "iopub.status.busy": "2022-05-19T08:44:56.958757Z",
     "iopub.status.idle": "2022-05-19T08:44:56.986270Z",
     "shell.execute_reply": "2022-05-19T08:44:56.985839Z"
    }
   },
   "outputs": [
    {
     "data": {
      "image/svg+xml": [
       "<?xml version=\"1.0\" encoding=\"UTF-8\" standalone=\"no\"?><svg xmlns=\"http://www.w3.org/2000/svg\" xmlns:xlink=\"http://www.w3.org/1999/xlink\" contentScriptType=\"application/ecmascript\" contentStyleType=\"text/css\" height=\"179px\" preserveAspectRatio=\"none\" style=\"width:292px;height:179px;\" version=\"1.1\" viewBox=\"0 0 292 179\" width=\"292px\" zoomAndPan=\"magnify\"><defs/><g><!--MD5=[fbc87193dbaf4d95561dea2c320d4a47]\n",
       "cluster E1--><a href=\"psysml:2524e1ec-43b2-4dd4-b81d-385c3decebbf\" target=\"_top\" title=\"psysml:2524e1ec-43b2-4dd4-b81d-385c3decebbf\" xlink:actuate=\"onRequest\" xlink:href=\"psysml:2524e1ec-43b2-4dd4-b81d-385c3decebbf\" xlink:show=\"new\" xlink:title=\"psysml:2524e1ec-43b2-4dd4-b81d-385c3decebbf\" xlink:type=\"simple\"><polygon fill=\"#FFFFFF\" points=\"16,6,210,6,217,28.2969,270,28.2969,270,167,16,167,16,6\" style=\"stroke: #000000; stroke-width: 1.5;\"/><line style=\"stroke: #000000; stroke-width: 1.5;\" x1=\"16\" x2=\"217\" y1=\"28.2969\" y2=\"28.2969\"/><text fill=\"#000000\" font-family=\"sans-serif\" font-size=\"14\" font-weight=\"bold\" lengthAdjust=\"spacingAndGlyphs\" textLength=\"188\" x=\"20\" y=\"20.9951\">TextualRepresentationTest</text></a><!--MD5=[d5e69f78d87373223dbae638b30a9c99]\n",
       "cluster E3--><a href=\"psysml:fdd44db5-2b71-42e4-a6cb-0126cd22309d\" target=\"_top\" title=\"psysml:fdd44db5-2b71-42e4-a6cb-0126cd22309d\" xlink:actuate=\"onRequest\" xlink:href=\"psysml:fdd44db5-2b71-42e4-a6cb-0126cd22309d\" xlink:show=\"new\" xlink:title=\"psysml:fdd44db5-2b71-42e4-a6cb-0126cd22309d\" xlink:type=\"simple\"><rect fill=\"#FFFFFF\" height=\"88.5\" id=\"E3\" style=\"stroke: #383838; stroke-width: 1.5;\" width=\"100\" x=\"122.5\" y=\"62.5\"/><rect fill=\"#F8F8F8\" height=\"37.9375\" style=\"stroke: #383838; stroke-width: 1.5;\" width=\"100\" x=\"122.5\" y=\"62.5\"/><text fill=\"#000000\" font-family=\"sans-serif\" font-size=\"12\" font-style=\"italic\" lengthAdjust=\"spacingAndGlyphs\" textLength=\"81\" x=\"132\" y=\"78.6387\">«action  def»</text><text fill=\"#000000\" font-family=\"sans-serif\" font-size=\"12\" lengthAdjust=\"spacingAndGlyphs\" textLength=\"27\" x=\"159\" y=\"92.6074\">setX</text></a><g id=\"E1.E2\"><a href=\"psysml:9149846c-b557-44f1-bb03-13041676b872\" target=\"_top\" title=\"psysml:9149846c-b557-44f1-bb03-13041676b872\" xlink:actuate=\"onRequest\" xlink:href=\"psysml:9149846c-b557-44f1-bb03-13041676b872\" xlink:show=\"new\" xlink:title=\"psysml:9149846c-b557-44f1-bb03-13041676b872\" xlink:type=\"simple\"><rect fill=\"#FFFFFF\" height=\"42.9375\" id=\"E2\" style=\"stroke: #383838; stroke-width: 1.5;\" width=\"76\" x=\"32\" y=\"41\"/><rect fill=\"#F8F8F8\" height=\"37.9375\" style=\"stroke: #383838; stroke-width: 1.5;\" width=\"76\" x=\"32\" y=\"41\"/><text fill=\"#000000\" font-family=\"sans-serif\" font-size=\"12\" font-style=\"italic\" lengthAdjust=\"spacingAndGlyphs\" textLength=\"69\" x=\"35.5\" y=\"57.1387\">«item  def»</text><text fill=\"#000000\" font-family=\"sans-serif\" font-size=\"12\" lengthAdjust=\"spacingAndGlyphs\" textLength=\"8\" x=\"66\" y=\"71.1074\">C</text></a></g><text fill=\"#000000\" font-family=\"sans-serif\" font-size=\"14\" lengthAdjust=\"spacingAndGlyphs\" textLength=\"8\" x=\"145\" y=\"41.1982\">c</text><rect fill=\"#383838\" height=\"12\" style=\"stroke: #F8F8F8; stroke-width: 1.5;\" width=\"12\" x=\"143\" y=\"56.5\"/><text fill=\"#000000\" font-family=\"sans-serif\" font-size=\"14\" lengthAdjust=\"spacingAndGlyphs\" textLength=\"38\" x=\"177\" y=\"41.1982\">newX</text><rect fill=\"#383838\" height=\"12\" style=\"stroke: #F8F8F8; stroke-width: 1.5;\" width=\"12\" x=\"190\" y=\"56.5\"/><!--MD5=[8b7848c337f8109a4f4024cf178c56d2]\n",
       "@startuml\r\n",
       "skinparam ranksep 10\r\n",
       "skinparam rectangle {\r\n",
       " backgroundColor<<block>> LightGreen\r\n",
       "}\r\n",
       "skinparam linetype ortho\r\n",
       "skinparam monochrome true\r\n",
       "skinparam classbackgroundcolor white\r\n",
       "skinparam shadowing false\r\n",
       "skinparam wrapWidth 300\r\n",
       "hide circle\r\n",
       "\r\n",
       "package \"TextualRepresentationTest\" as E1  [[psysml:2524e1ec-43b2-4dd4-b81d-385c3decebbf ]]  {\r\n",
       "def \"C\" as E2  <<(T,blue) item  def>> [[psysml:9149846c-b557-44f1-bb03-13041676b872 ]] \r\n",
       "rec def \"setX\" as E3  <<(T,blue) action  def>> [[psysml:fdd44db5-2b71-42e4-a6cb-0126cd22309d ]] {\r\n",
       "portin \"c\" as E4  [[psysml:70c0b2f6-f79a-4e90-a3c9-a244a9735aa8 ]] \r\n",
       "portin \"newX\" as E5  [[psysml:4245f76d-31bb-4c80-8014-7bc1277d6e35 ]] \r\n",
       "}\r\n",
       "\r\n",
       "}\r\n",
       "@enduml\r\n",
       "\n",
       "PlantUML version 1.2020.13(Sat Jun 13 12:26:38 UTC 2020)\n",
       "(EPL source distribution)\n",
       "Java Runtime: OpenJDK Runtime Environment\n",
       "JVM: OpenJDK 64-Bit Server VM\n",
       "Default Encoding: UTF-8\n",
       "Language: en\n",
       "Country: null\n",
       "--></g></svg>"
      ]
     },
     "execution_count": 54,
     "metadata": {},
     "output_type": "execute_result"
    }
   ],
   "source": [
    "%viz --style=\"ORTHOLINE\" --view=\"Interconnection\" \"TextualRepresentationTest\""
   ]
  },
  {
   "cell_type": "code",
   "execution_count": 55,
   "id": "026c5bd1",
   "metadata": {
    "execution": {
     "iopub.execute_input": "2022-05-19T08:44:57.035473Z",
     "iopub.status.busy": "2022-05-19T08:44:57.034990Z",
     "iopub.status.idle": "2022-05-19T08:44:57.056559Z",
     "shell.execute_reply": "2022-05-19T08:44:57.056151Z"
    }
   },
   "outputs": [
    {
     "data": {
      "image/svg+xml": [
       "<?xml version=\"1.0\" encoding=\"UTF-8\" standalone=\"no\"?><svg xmlns=\"http://www.w3.org/2000/svg\" xmlns:xlink=\"http://www.w3.org/1999/xlink\" contentScriptType=\"application/ecmascript\" contentStyleType=\"text/css\" height=\"126px\" preserveAspectRatio=\"none\" style=\"width:152px;height:126px;\" version=\"1.1\" viewBox=\"0 0 152 126\" width=\"152px\" zoomAndPan=\"magnify\"><defs/><g><!--MD5=[fbc87193dbaf4d95561dea2c320d4a47]\n",
       "cluster E1--><a href=\"psysml:fdd44db5-2b71-42e4-a6cb-0126cd22309d\" target=\"_top\" title=\"psysml:fdd44db5-2b71-42e4-a6cb-0126cd22309d\" xlink:actuate=\"onRequest\" xlink:href=\"psysml:fdd44db5-2b71-42e4-a6cb-0126cd22309d\" xlink:show=\"new\" xlink:title=\"psysml:fdd44db5-2b71-42e4-a6cb-0126cd22309d\" xlink:type=\"simple\"><rect fill=\"#FFFFFF\" height=\"73\" id=\"E1\" style=\"stroke: #383838; stroke-width: 1.5;\" width=\"134\" x=\"7\" y=\"42.0986\"/><rect fill=\"#F8F8F8\" height=\"37.9375\" style=\"stroke: #383838; stroke-width: 1.5;\" width=\"134\" x=\"7\" y=\"42.0986\"/><text fill=\"#000000\" font-family=\"sans-serif\" font-size=\"12\" font-style=\"italic\" lengthAdjust=\"spacingAndGlyphs\" textLength=\"81\" x=\"33.5\" y=\"58.2373\">«action  def»</text><text fill=\"#000000\" font-family=\"sans-serif\" font-size=\"12\" lengthAdjust=\"spacingAndGlyphs\" textLength=\"27\" x=\"60.5\" y=\"72.2061\">setX</text></a><text fill=\"#000000\" font-family=\"sans-serif\" font-size=\"14\" lengthAdjust=\"spacingAndGlyphs\" textLength=\"8\" x=\"21\" y=\"20.7969\">c</text><rect fill=\"#383838\" height=\"12\" style=\"stroke: #F8F8F8; stroke-width: 1.5;\" width=\"12\" x=\"19\" y=\"36.0986\"/><text fill=\"#000000\" font-family=\"sans-serif\" font-size=\"14\" lengthAdjust=\"spacingAndGlyphs\" textLength=\"38\" x=\"53\" y=\"20.7969\">newX</text><rect fill=\"#383838\" height=\"12\" style=\"stroke: #F8F8F8; stroke-width: 1.5;\" width=\"12\" x=\"66\" y=\"36.0986\"/><!--MD5=[7ef582cbde588149186d8178d938c12e]\n",
       "@startuml\r\n",
       "skinparam ranksep 8\r\n",
       "skinparam linetype ortho\r\n",
       "skinparam monochrome true\r\n",
       "skinparam classbackgroundcolor white\r\n",
       "skinparam shadowing false\r\n",
       "skinparam wrapWidth 300\r\n",
       "hide circle\r\n",
       "\r\n",
       "rec def \"setX\" as E1  <<(T,blue) action  def>> [[psysml:fdd44db5-2b71-42e4-a6cb-0126cd22309d ]] {\r\n",
       "portin \"c\" as E2  [[psysml:70c0b2f6-f79a-4e90-a3c9-a244a9735aa8 ]] \r\n",
       "portin \"newX\" as E3  [[psysml:4245f76d-31bb-4c80-8014-7bc1277d6e35 ]] \r\n",
       "}\r\n",
       "\r\n",
       "@enduml\r\n",
       "\n",
       "PlantUML version 1.2020.13(Sat Jun 13 12:26:38 UTC 2020)\n",
       "(EPL source distribution)\n",
       "Java Runtime: OpenJDK Runtime Environment\n",
       "JVM: OpenJDK 64-Bit Server VM\n",
       "Default Encoding: UTF-8\n",
       "Language: en\n",
       "Country: null\n",
       "--></g></svg>"
      ]
     },
     "execution_count": 55,
     "metadata": {},
     "output_type": "execute_result"
    }
   ],
   "source": [
    "%viz --style=\"ORTHOLINE\" --view=\"Action\" \"TextualRepresentationTest\""
   ]
  },
  {
   "cell_type": "code",
   "execution_count": 56,
   "id": "a76f55cd",
   "metadata": {
    "execution": {
     "iopub.execute_input": "2022-05-19T08:44:57.106307Z",
     "iopub.status.busy": "2022-05-19T08:44:57.105864Z",
     "iopub.status.idle": "2022-05-19T08:44:57.111137Z",
     "shell.execute_reply": "2022-05-19T08:44:57.110746Z"
    }
   },
   "outputs": [
    {
     "data": {
      "image/svg+xml": [
       "<?xml version=\"1.0\" encoding=\"UTF-8\" standalone=\"no\"?><svg xmlns=\"http://www.w3.org/2000/svg\" xmlns:xlink=\"http://www.w3.org/1999/xlink\" contentScriptType=\"application/ecmascript\" contentStyleType=\"text/css\" height=\"12px\" preserveAspectRatio=\"none\" style=\"width:12px;height:12px;\" version=\"1.1\" viewBox=\"0 0 12 12\" width=\"12px\" zoomAndPan=\"magnify\"><defs/><g><!--MD5=[30fc1de5121c5abddedd55b44417fde8]\n",
       "@startuml\r\n",
       "skinparam roundcorner 20\r\n",
       "skinparam BoxPadding 20\r\n",
       "skinparam SequenceBoxBackgroundColor #white\r\n",
       "skinparam style strictuml\r\n",
       "skinparam maxMessageSize 100\r\n",
       "skinparam linetype ortho\r\n",
       "skinparam monochrome true\r\n",
       "skinparam classbackgroundcolor white\r\n",
       "skinparam shadowing false\r\n",
       "skinparam wrapWidth 300\r\n",
       "hide circle\r\n",
       "\r\n",
       "@enduml\r\n",
       "\n",
       "PlantUML version 1.2020.13(Sat Jun 13 12:26:38 UTC 2020)\n",
       "(EPL source distribution)\n",
       "Java Runtime: OpenJDK Runtime Environment\n",
       "JVM: OpenJDK 64-Bit Server VM\n",
       "Default Encoding: UTF-8\n",
       "Language: en\n",
       "Country: null\n",
       "--></g></svg>"
      ]
     },
     "execution_count": 56,
     "metadata": {},
     "output_type": "execute_result"
    }
   ],
   "source": [
    "%viz --style=\"ORTHOLINE\" --view=\"Sequence\" \"TextualRepresentationTest\""
   ]
  },
  {
   "cell_type": "code",
   "execution_count": 57,
   "id": "699fae3b",
   "metadata": {
    "execution": {
     "iopub.execute_input": "2022-05-19T08:44:57.160943Z",
     "iopub.status.busy": "2022-05-19T08:44:57.160488Z",
     "iopub.status.idle": "2022-05-19T08:44:57.202826Z",
     "shell.execute_reply": "2022-05-19T08:44:57.201463Z"
    }
   },
   "outputs": [
    {
     "data": {
      "image/svg+xml": [
       "<?xml version=\"1.0\" encoding=\"UTF-8\" standalone=\"no\"?><svg xmlns=\"http://www.w3.org/2000/svg\" xmlns:xlink=\"http://www.w3.org/1999/xlink\" contentScriptType=\"application/ecmascript\" contentStyleType=\"text/css\" height=\"261px\" preserveAspectRatio=\"none\" style=\"width:351px;height:261px;\" version=\"1.1\" viewBox=\"0 0 351 261\" width=\"351px\" zoomAndPan=\"magnify\"><defs/><g><!--MD5=[fbc87193dbaf4d95561dea2c320d4a47]\n",
       "cluster E1--><a href=\"psysml:2524e1ec-43b2-4dd4-b81d-385c3decebbf\" target=\"_top\" title=\"psysml:2524e1ec-43b2-4dd4-b81d-385c3decebbf\" xlink:actuate=\"onRequest\" xlink:href=\"psysml:2524e1ec-43b2-4dd4-b81d-385c3decebbf\" xlink:show=\"new\" xlink:title=\"psysml:2524e1ec-43b2-4dd4-b81d-385c3decebbf\" xlink:type=\"simple\"><polygon fill=\"#FFFFFF\" points=\"16,6,210,6,217,28.2969,329,28.2969,329,249.5,16,249.5,16,6\" style=\"stroke: #000000; stroke-width: 1.5;\"/><line style=\"stroke: #000000; stroke-width: 1.5;\" x1=\"16\" x2=\"217\" y1=\"28.2969\" y2=\"28.2969\"/><text fill=\"#000000\" font-family=\"sans-serif\" font-size=\"14\" font-weight=\"bold\" lengthAdjust=\"spacingAndGlyphs\" textLength=\"188\" x=\"20\" y=\"20.9951\">TextualRepresentationTest</text></a><!--MD5=[f6df4d0ebaf0b5dfb2ced0ae5af7c670]\n",
       "cluster E4--><a href=\"psysml:fdd44db5-2b71-42e4-a6cb-0126cd22309d\" target=\"_top\" title=\"psysml:fdd44db5-2b71-42e4-a6cb-0126cd22309d\" xlink:actuate=\"onRequest\" xlink:href=\"psysml:fdd44db5-2b71-42e4-a6cb-0126cd22309d\" xlink:show=\"new\" xlink:title=\"psysml:fdd44db5-2b71-42e4-a6cb-0126cd22309d\" xlink:type=\"simple\"><rect fill=\"#FFFFFF\" height=\"154.5\" id=\"E4\" style=\"stroke: #383838; stroke-width: 1.5;\" width=\"134\" x=\"179\" y=\"79\"/><rect fill=\"#F8F8F8\" height=\"37.9375\" style=\"stroke: #383838; stroke-width: 1.5;\" width=\"134\" x=\"179\" y=\"79\"/><text fill=\"#000000\" font-family=\"sans-serif\" font-size=\"12\" font-style=\"italic\" lengthAdjust=\"spacingAndGlyphs\" textLength=\"81\" x=\"205.5\" y=\"95.1387\">«action  def»</text><text fill=\"#000000\" font-family=\"sans-serif\" font-size=\"12\" lengthAdjust=\"spacingAndGlyphs\" textLength=\"27\" x=\"232.5\" y=\"109.1074\">setX</text></a><!--MD5=[b4997ac47864f28c2f74865a473b2911]\n",
       "class E2--><a href=\"psysml:9149846c-b557-44f1-bb03-13041676b872\" target=\"_top\" title=\"psysml:9149846c-b557-44f1-bb03-13041676b872\" xlink:actuate=\"onRequest\" xlink:href=\"psysml:9149846c-b557-44f1-bb03-13041676b872\" xlink:show=\"new\" xlink:title=\"psysml:9149846c-b557-44f1-bb03-13041676b872\" xlink:type=\"simple\"><rect fill=\"#FFFFFF\" height=\"75.5469\" id=\"E2\" style=\"stroke: #383838; stroke-width: 1.5;\" width=\"71\" x=\"58.5\" y=\"41\"/><text fill=\"#000000\" font-family=\"sans-serif\" font-size=\"12\" font-style=\"italic\" lengthAdjust=\"spacingAndGlyphs\" textLength=\"69\" x=\"59.5\" y=\"57.1387\">«item  def»</text><text fill=\"#000000\" font-family=\"sans-serif\" font-size=\"12\" lengthAdjust=\"spacingAndGlyphs\" textLength=\"8\" x=\"90\" y=\"71.1074\">C</text><line style=\"stroke: #383838; stroke-width: 1.5;\" x1=\"59.5\" x2=\"128.5\" y1=\"78.9375\" y2=\"78.9375\"/><text fill=\"#000000\" font-family=\"sans-serif\" font-size=\"11\" lengthAdjust=\"spacingAndGlyphs\" textLength=\"38\" x=\"64.5\" y=\"109.9526\">x: Real</text><line style=\"stroke: #383838; stroke-width: 1.0;\" x1=\"59.5\" x2=\"66.5\" y1=\"93.3398\" y2=\"93.3398\"/><text fill=\"#000000\" font-family=\"sans-serif\" font-size=\"11\" lengthAdjust=\"spacingAndGlyphs\" textLength=\"55\" x=\"66.5\" y=\"96.6479\">attributes</text><line style=\"stroke: #383838; stroke-width: 1.0;\" x1=\"121.5\" x2=\"128.5\" y1=\"93.3398\" y2=\"93.3398\"/></a><!--MD5=[09b614a08d8cba4a07c9adeb5e0fee81]\n",
       "class E3--><a href=\"psysml:d102dace-404f-4787-94a0-7dab0b8761ce\" target=\"_top\" title=\"psysml:d102dace-404f-4787-94a0-7dab0b8761ce\" xlink:actuate=\"onRequest\" xlink:href=\"psysml:d102dace-404f-4787-94a0-7dab0b8761ce\" xlink:show=\"new\" xlink:title=\"psysml:d102dace-404f-4787-94a0-7dab0b8761ce\" xlink:type=\"simple\"><rect fill=\"#FFFFFF\" height=\"45.9375\" id=\"E3\" rx=\"10\" ry=\"10\" style=\"stroke: #383838; stroke-width: 1.5;\" width=\"124\" x=\"32\" y=\"177\"/><text fill=\"#000000\" font-family=\"sans-serif\" font-size=\"12\" font-style=\"italic\" lengthAdjust=\"spacingAndGlyphs\" textLength=\"122\" x=\"33\" y=\"193.1387\">«assert constraint»</text><text fill=\"#000000\" font-family=\"sans-serif\" font-size=\"12\" lengthAdjust=\"spacingAndGlyphs\" textLength=\"76\" x=\"54\" y=\"207.1074\">x_constraint</text><line style=\"stroke: #383838; stroke-width: 1.5;\" x1=\"33\" x2=\"155\" y1=\"214.9375\" y2=\"214.9375\"/></a><text fill=\"#000000\" font-family=\"sans-serif\" font-size=\"14\" lengthAdjust=\"spacingAndGlyphs\" textLength=\"8\" x=\"193\" y=\"57.6982\">c</text><rect fill=\"#383838\" height=\"12\" style=\"stroke: #F8F8F8; stroke-width: 1.5;\" width=\"12\" x=\"191\" y=\"73\"/><text fill=\"#000000\" font-family=\"sans-serif\" font-size=\"14\" lengthAdjust=\"spacingAndGlyphs\" textLength=\"38\" x=\"225\" y=\"57.6982\">newX</text><rect fill=\"#383838\" height=\"12\" style=\"stroke: #F8F8F8; stroke-width: 1.5;\" width=\"12\" x=\"238\" y=\"73\"/><!--MD5=[209b3feb70ccb6233bfe1053d122c12c]\n",
       "reverse link E2 to E3--><a href=\"psysml:0da81c8f-97bb-41c6-9a60-156bc4c734f4\" target=\"_top\" title=\"psysml:0da81c8f-97bb-41c6-9a60-156bc4c734f4\" xlink:actuate=\"onRequest\" xlink:href=\"psysml:0da81c8f-97bb-41c6-9a60-156bc4c734f4\" xlink:show=\"new\" xlink:title=\"psysml:0da81c8f-97bb-41c6-9a60-156bc4c734f4\" xlink:type=\"simple\"><path d=\"M94,130.29 C94,130.29 94,176.74 94,176.74 \" fill=\"none\" id=\"E2&lt;-E3\" style=\"stroke: #383838; stroke-width: 1.0;\"/><polygon fill=\"#383838\" points=\"94,117.29,90,123.29,94,129.29,98,123.29,94,117.29\" style=\"stroke: #383838; stroke-width: 1.0;\"/><text fill=\"#000000\" font-family=\"sans-serif\" font-size=\"13\" lengthAdjust=\"spacingAndGlyphs\" textLength=\"7\" x=\"86.1031\" y=\"165.9497\">*</text></a><!--MD5=[77ff0e05264e0834219828c0cb1abb60]\n",
       "@startuml\r\n",
       "skinparam linetype ortho\r\n",
       "skinparam monochrome true\r\n",
       "skinparam classbackgroundcolor white\r\n",
       "skinparam shadowing false\r\n",
       "skinparam wrapWidth 300\r\n",
       "hide circle\r\n",
       "\r\n",
       "package \"TextualRepresentationTest\" as E1  [[psysml:2524e1ec-43b2-4dd4-b81d-385c3decebbf ]]  {\r\n",
       "comp def \"C\" as E2  <<(T,blue) item  def>> [[psysml:9149846c-b557-44f1-bb03-13041676b872 ]] {\r\n",
       "- - attributes - -\r\n",
       "x: Real\r\n",
       "}\r\n",
       "comp usage \"x_constraint \" as E3  <<(T,blue) assert constraint>> [[psysml:d102dace-404f-4787-94a0-7dab0b8761ce ]] {\r\n",
       "}\r\n",
       "rec def \"setX\" as E4  <<(T,blue) action  def>> [[psysml:fdd44db5-2b71-42e4-a6cb-0126cd22309d ]] {\r\n",
       "portin \"c\" as E5  [[psysml:70c0b2f6-f79a-4e90-a3c9-a244a9735aa8 ]] \r\n",
       "portin \"newX\" as E6  [[psysml:4245f76d-31bb-4c80-8014-7bc1277d6e35 ]] \r\n",
       "}\r\n",
       "\r\n",
       "}\r\n",
       "E2 *- - \"*\"E3 [[psysml:0da81c8f-97bb-41c6-9a60-156bc4c734f4 ]] \r\n",
       "@enduml\r\n",
       "\n",
       "PlantUML version 1.2020.13(Sat Jun 13 12:26:38 UTC 2020)\n",
       "(EPL source distribution)\n",
       "Java Runtime: OpenJDK Runtime Environment\n",
       "JVM: OpenJDK 64-Bit Server VM\n",
       "Default Encoding: UTF-8\n",
       "Language: en\n",
       "Country: null\n",
       "--></g></svg>"
      ]
     },
     "execution_count": 57,
     "metadata": {},
     "output_type": "execute_result"
    }
   ],
   "source": [
    "%viz --style=\"ORTHOLINE\" --view=\"MIXED\" \"TextualRepresentationTest\""
   ]
  }
 ],
 "metadata": {
  "kernelspec": {
   "display_name": "SysML",
   "language": "sysml",
   "name": "sysml"
  },
  "language_info": {
   "codemirror_mode": "sysml",
   "file_extension": ".sysml",
   "mimetype": "text/x-sysml",
   "name": "SysML",
   "pygments_lexer": "java",
   "version": "1.0.0"
  }
 },
 "nbformat": 4,
 "nbformat_minor": 5
}
