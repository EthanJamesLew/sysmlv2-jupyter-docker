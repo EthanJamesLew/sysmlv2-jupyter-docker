{
 "cells": [
  {
   "cell_type": "markdown",
   "id": "9ffc4bd8",
   "metadata": {},
   "source": [
    "# SysML v2 Test Suite\n",
    "\n",
    "This can notebook can be cleared using menu `Edit --> Clear All Outputs` and then all cells can be\n",
    "run using menu `Run --> Run All Cells`.\n",
    "\n",
    "**WARNING**: This file is generated, all modifications here will be ignored.\n"
   ]
  },
  {
   "cell_type": "markdown",
   "id": "b0fdbf51",
   "metadata": {},
   "source": [
    "## File: ../../sysml/src/examples/Simple Tests/TextualRepresentationTest.sysml"
   ]
  },
  {
   "cell_type": "code",
   "execution_count": 1,
   "id": "b8357313",
   "metadata": {
    "execution": {
     "iopub.execute_input": "2021-10-03T08:29:32.416761Z",
     "iopub.status.busy": "2021-10-03T08:29:32.415220Z",
     "iopub.status.idle": "2021-10-03T08:29:32.657417Z",
     "shell.execute_reply": "2021-10-03T08:29:32.657664Z"
    }
   },
   "outputs": [
    {
     "data": {
      "text/plain": [
       "Package TextualRepresentationTest (042ef01e-7595-4fab-8e61-886848d692bc)\n"
      ]
     },
     "execution_count": 1,
     "metadata": {},
     "output_type": "execute_result"
    }
   ],
   "source": [
    "package TextualRepresentationTest {\n",
    "\timport ScalarValues::Real;\n",
    "\t\n",
    "\titem def C {\n",
    "\t    attribute x: Real;\n",
    "\t    assert constraint x_constraint;\n",
    "\t    rep inOCL about x_constraint language \"ocl\" \n",
    "\t        /* self.x > 0.0 */\n",
    "\t}\n",
    "\t\n",
    "\taction def setX(c : C, newX : Real) {\n",
    "\t    language \"alf\" \n",
    "\t        /* c.x = newX;\n",
    "\t         * WriteLine(\"Set new x\");\n",
    "\t         */\n",
    "\t}\n",
    "\t\n",
    "}"
   ]
  },
  {
   "cell_type": "code",
   "execution_count": 2,
   "id": "3d580fdf",
   "metadata": {
    "execution": {
     "iopub.execute_input": "2021-10-03T08:29:32.708770Z",
     "iopub.status.busy": "2021-10-03T08:29:32.708516Z",
     "iopub.status.idle": "2021-10-03T08:29:33.178293Z",
     "shell.execute_reply": "2021-10-03T08:29:33.176900Z"
    }
   },
   "outputs": [
    {
     "data": {
      "image/svg+xml": [
       "<?xml version=\"1.0\" encoding=\"UTF-8\" standalone=\"no\"?><svg xmlns=\"http://www.w3.org/2000/svg\" xmlns:xlink=\"http://www.w3.org/1999/xlink\" contentScriptType=\"application/ecmascript\" contentStyleType=\"text/css\" height=\"261px\" preserveAspectRatio=\"none\" style=\"width:345px;height:261px;\" version=\"1.1\" viewBox=\"0 0 345 261\" width=\"345px\" zoomAndPan=\"magnify\"><defs/><g><!--MD5=[fbc87193dbaf4d95561dea2c320d4a47]\n",
       "cluster E1--><a href=\"psysml:806baf2e-ef33-48f4-9893-87a395ee6712\" target=\"_top\" title=\"psysml:806baf2e-ef33-48f4-9893-87a395ee6712\" xlink:actuate=\"onRequest\" xlink:href=\"psysml:806baf2e-ef33-48f4-9893-87a395ee6712\" xlink:show=\"new\" xlink:title=\"psysml:806baf2e-ef33-48f4-9893-87a395ee6712\" xlink:type=\"simple\"><polygon fill=\"#FFFFFF\" points=\"16,6,210,6,217,28.2969,323,28.2969,323,249.5,16,249.5,16,6\" style=\"stroke: #000000; stroke-width: 1.5;\"/><line style=\"stroke: #000000; stroke-width: 1.5;\" x1=\"16\" x2=\"217\" y1=\"28.2969\" y2=\"28.2969\"/><text fill=\"#000000\" font-family=\"sans-serif\" font-size=\"14\" font-weight=\"bold\" lengthAdjust=\"spacingAndGlyphs\" textLength=\"188\" x=\"20\" y=\"20.9951\">TextualRepresentationTest</text></a><!--MD5=[f6df4d0ebaf0b5dfb2ced0ae5af7c670]\n",
       "cluster E4--><a href=\"psysml:55b9c562-7faa-4cb8-ac86-d366721fd3cf\" target=\"_top\" title=\"psysml:55b9c562-7faa-4cb8-ac86-d366721fd3cf\" xlink:actuate=\"onRequest\" xlink:href=\"psysml:55b9c562-7faa-4cb8-ac86-d366721fd3cf\" xlink:show=\"new\" xlink:title=\"psysml:55b9c562-7faa-4cb8-ac86-d366721fd3cf\" xlink:type=\"simple\"><rect fill=\"#FFFFFF\" height=\"154.5\" id=\"E4\" style=\"stroke: #383838; stroke-width: 1.5;\" width=\"132\" x=\"175\" y=\"79\"/><rect fill=\"#F8F8F8\" height=\"37.9375\" style=\"stroke: #383838; stroke-width: 1.5;\" width=\"132\" x=\"175\" y=\"79\"/><text fill=\"#000000\" font-family=\"sans-serif\" font-size=\"12\" font-style=\"italic\" lengthAdjust=\"spacingAndGlyphs\" textLength=\"77\" x=\"202.5\" y=\"95.1387\">«action def»</text><text fill=\"#000000\" font-family=\"sans-serif\" font-size=\"12\" lengthAdjust=\"spacingAndGlyphs\" textLength=\"27\" x=\"227.5\" y=\"109.1074\">setX</text></a><!--MD5=[b4997ac47864f28c2f74865a473b2911]\n",
       "class E2--><a href=\"psysml:7ed521f9-b82c-428e-a042-7cd99724445f\" target=\"_top\" title=\"psysml:7ed521f9-b82c-428e-a042-7cd99724445f\" xlink:actuate=\"onRequest\" xlink:href=\"psysml:7ed521f9-b82c-428e-a042-7cd99724445f\" xlink:show=\"new\" xlink:title=\"psysml:7ed521f9-b82c-428e-a042-7cd99724445f\" xlink:type=\"simple\"><rect fill=\"#FFFFFF\" height=\"75.5469\" id=\"E2\" style=\"stroke: #383838; stroke-width: 1.5;\" width=\"67\" x=\"59.5\" y=\"41\"/><text fill=\"#000000\" font-family=\"sans-serif\" font-size=\"12\" font-style=\"italic\" lengthAdjust=\"spacingAndGlyphs\" textLength=\"65\" x=\"60.5\" y=\"57.1387\">«item def»</text><text fill=\"#000000\" font-family=\"sans-serif\" font-size=\"12\" lengthAdjust=\"spacingAndGlyphs\" textLength=\"8\" x=\"89\" y=\"71.1074\">C</text><line style=\"stroke: #383838; stroke-width: 1.5;\" x1=\"60.5\" x2=\"125.5\" y1=\"78.9375\" y2=\"78.9375\"/><text fill=\"#000000\" font-family=\"sans-serif\" font-size=\"11\" lengthAdjust=\"spacingAndGlyphs\" textLength=\"38\" x=\"65.5\" y=\"109.9526\">x: Real</text><line style=\"stroke: #383838; stroke-width: 1.0;\" x1=\"60.5\" x2=\"65.5\" y1=\"93.3398\" y2=\"93.3398\"/><text fill=\"#000000\" font-family=\"sans-serif\" font-size=\"11\" lengthAdjust=\"spacingAndGlyphs\" textLength=\"55\" x=\"65.5\" y=\"96.6479\">attributes</text><line style=\"stroke: #383838; stroke-width: 1.0;\" x1=\"120.5\" x2=\"125.5\" y1=\"93.3398\" y2=\"93.3398\"/></a><!--MD5=[09b614a08d8cba4a07c9adeb5e0fee81]\n",
       "class E3--><a href=\"psysml:f29a45b1-01e5-48c9-895e-094b774cc27f\" target=\"_top\" title=\"psysml:f29a45b1-01e5-48c9-895e-094b774cc27f\" xlink:actuate=\"onRequest\" xlink:href=\"psysml:f29a45b1-01e5-48c9-895e-094b774cc27f\" xlink:show=\"new\" xlink:title=\"psysml:f29a45b1-01e5-48c9-895e-094b774cc27f\" xlink:type=\"simple\"><rect fill=\"#FFFFFF\" height=\"45.9375\" id=\"E3\" rx=\"10\" ry=\"10\" style=\"stroke: #383838; stroke-width: 1.5;\" width=\"121\" x=\"32.5\" y=\"177\"/><text fill=\"#000000\" font-family=\"sans-serif\" font-size=\"12\" font-style=\"italic\" lengthAdjust=\"spacingAndGlyphs\" textLength=\"119\" x=\"33.5\" y=\"193.1387\">«assertConstraint»</text><text fill=\"#000000\" font-family=\"sans-serif\" font-size=\"12\" lengthAdjust=\"spacingAndGlyphs\" textLength=\"76\" x=\"55\" y=\"207.1074\">x_constraint</text><line style=\"stroke: #383838; stroke-width: 1.5;\" x1=\"33.5\" x2=\"152.5\" y1=\"214.9375\" y2=\"214.9375\"/></a><text fill=\"#000000\" font-family=\"sans-serif\" font-size=\"14\" lengthAdjust=\"spacingAndGlyphs\" textLength=\"8\" x=\"189\" y=\"57.6982\">c</text><rect fill=\"#383838\" height=\"12\" style=\"stroke: #F8F8F8; stroke-width: 1.5;\" width=\"12\" x=\"187\" y=\"73\"/><text fill=\"#000000\" font-family=\"sans-serif\" font-size=\"14\" lengthAdjust=\"spacingAndGlyphs\" textLength=\"38\" x=\"221\" y=\"57.6982\">newX</text><rect fill=\"#383838\" height=\"12\" style=\"stroke: #F8F8F8; stroke-width: 1.5;\" width=\"12\" x=\"234\" y=\"73\"/><!--MD5=[209b3feb70ccb6233bfe1053d122c12c]\n",
       "reverse link E2 to E3--><a href=\"psysml:54ab6d27-8883-4622-a03e-a53956db7fe1\" target=\"_top\" title=\"psysml:54ab6d27-8883-4622-a03e-a53956db7fe1\" xlink:actuate=\"onRequest\" xlink:href=\"psysml:54ab6d27-8883-4622-a03e-a53956db7fe1\" xlink:show=\"new\" xlink:title=\"psysml:54ab6d27-8883-4622-a03e-a53956db7fe1\" xlink:type=\"simple\"><path d=\"M93,130.34 C93,146.61 93,163.81 93,176.93 \" fill=\"none\" id=\"E2&lt;-E3\" style=\"stroke: #383838; stroke-width: 1.0;\"/><polygon fill=\"#383838\" points=\"93,117,89,123,93,129,97,123,93,117\" style=\"stroke: #383838; stroke-width: 1.0;\"/><text fill=\"#000000\" font-family=\"sans-serif\" font-size=\"13\" lengthAdjust=\"spacingAndGlyphs\" textLength=\"7\" x=\"85.0594\" y=\"165.8075\">*</text></a><!--MD5=[690cb33f4394166108cec1eec7dd020c]\n",
       "@startuml\r\n",
       " skinparam monochrome true\r\n",
       "skinparam classbackgroundcolor white\r\n",
       "skinparam shadowing false\r\n",
       "skinparam wrapWidth 300\r\n",
       "hide circle\r\n",
       "\r\n",
       "package \"TextualRepresentationTest\" as E1  [[psysml:806baf2e-ef33-48f4-9893-87a395ee6712 ]]  {\r\n",
       "comp def \"C\" as E2  <<(T,blue) item def>> [[psysml:7ed521f9-b82c-428e-a042-7cd99724445f ]] {\r\n",
       "- - attributes - -\r\n",
       "x: Real\r\n",
       "}\r\n",
       "comp usage \"x_constraint\" as E3  <<(T,blue) assertConstraint>> [[psysml:f29a45b1-01e5-48c9-895e-094b774cc27f ]] {\r\n",
       "}\r\n",
       "rec def \"setX\" as E4  <<(T,blue) action def>> [[psysml:55b9c562-7faa-4cb8-ac86-d366721fd3cf ]] {\r\n",
       "portin \"c\" as E5  [[psysml:6b50cc19-3c51-4fdc-acb9-7cb54732aaba ]] \r\n",
       "portin \"newX\" as E6  [[psysml:036e652a-b19a-4307-ba90-1008950a3600 ]] \r\n",
       "}\r\n",
       "\r\n",
       "}\r\n",
       "E2 *- - \"*\"E3 [[psysml:54ab6d27-8883-4622-a03e-a53956db7fe1 ]] \r\n",
       "@enduml\r\n",
       "\n",
       "PlantUML version 1.2020.13(Sat Jun 13 12:26:38 UTC 2020)\n",
       "(EPL source distribution)\n",
       "Java Runtime: OpenJDK Runtime Environment\n",
       "JVM: OpenJDK 64-Bit Server VM\n",
       "Default Encoding: UTF-8\n",
       "Language: en\n",
       "Country: null\n",
       "--></g></svg>"
      ]
     },
     "execution_count": 2,
     "metadata": {},
     "output_type": "execute_result"
    }
   ],
   "source": [
    "%viz --style=\"COMPTREE\" --view=\"Default\" \"TextualRepresentationTest\""
   ]
  },
  {
   "cell_type": "code",
   "execution_count": 3,
   "id": "508d9c88",
   "metadata": {
    "execution": {
     "iopub.execute_input": "2021-10-03T08:29:33.227868Z",
     "iopub.status.busy": "2021-10-03T08:29:33.227583Z",
     "iopub.status.idle": "2021-10-03T08:29:33.289955Z",
     "shell.execute_reply": "2021-10-03T08:29:33.290365Z"
    }
   },
   "outputs": [
    {
     "data": {
      "image/svg+xml": [
       "<?xml version=\"1.0\" encoding=\"UTF-8\" standalone=\"no\"?><svg xmlns=\"http://www.w3.org/2000/svg\" xmlns:xlink=\"http://www.w3.org/1999/xlink\" contentScriptType=\"application/ecmascript\" contentStyleType=\"text/css\" height=\"375px\" preserveAspectRatio=\"none\" style=\"width:242px;height:375px;\" version=\"1.1\" viewBox=\"0 0 242 375\" width=\"242px\" zoomAndPan=\"magnify\"><defs/><g><!--MD5=[fbc87193dbaf4d95561dea2c320d4a47]\n",
       "cluster E1--><a href=\"psysml:806baf2e-ef33-48f4-9893-87a395ee6712\" target=\"_top\" title=\"psysml:806baf2e-ef33-48f4-9893-87a395ee6712\" xlink:actuate=\"onRequest\" xlink:href=\"psysml:806baf2e-ef33-48f4-9893-87a395ee6712\" xlink:show=\"new\" xlink:title=\"psysml:806baf2e-ef33-48f4-9893-87a395ee6712\" xlink:type=\"simple\"><polygon fill=\"#FFFFFF\" points=\"16,6,210,6,217,28.2969,220,28.2969,220,363,16,363,16,6\" style=\"stroke: #000000; stroke-width: 1.5;\"/><line style=\"stroke: #000000; stroke-width: 1.5;\" x1=\"16\" x2=\"217\" y1=\"28.2969\" y2=\"28.2969\"/><text fill=\"#000000\" font-family=\"sans-serif\" font-size=\"14\" font-weight=\"bold\" lengthAdjust=\"spacingAndGlyphs\" textLength=\"188\" x=\"20\" y=\"20.9951\">TextualRepresentationTest</text></a><!--MD5=[b4997ac47864f28c2f74865a473b2911]\n",
       "class E2--><a href=\"psysml:7ed521f9-b82c-428e-a042-7cd99724445f\" target=\"_top\" title=\"psysml:7ed521f9-b82c-428e-a042-7cd99724445f\" xlink:actuate=\"onRequest\" xlink:href=\"psysml:7ed521f9-b82c-428e-a042-7cd99724445f\" xlink:show=\"new\" xlink:title=\"psysml:7ed521f9-b82c-428e-a042-7cd99724445f\" xlink:type=\"simple\"><rect fill=\"#FFFFFF\" height=\"75.5469\" id=\"E2\" style=\"stroke: #383838; stroke-width: 1.5;\" width=\"67\" x=\"84.5\" y=\"164\"/><text fill=\"#000000\" font-family=\"sans-serif\" font-size=\"12\" font-style=\"italic\" lengthAdjust=\"spacingAndGlyphs\" textLength=\"65\" x=\"85.5\" y=\"180.1387\">«item def»</text><text fill=\"#000000\" font-family=\"sans-serif\" font-size=\"12\" lengthAdjust=\"spacingAndGlyphs\" textLength=\"8\" x=\"114\" y=\"194.1074\">C</text><line style=\"stroke: #383838; stroke-width: 1.5;\" x1=\"85.5\" x2=\"150.5\" y1=\"201.9375\" y2=\"201.9375\"/><text fill=\"#000000\" font-family=\"sans-serif\" font-size=\"11\" lengthAdjust=\"spacingAndGlyphs\" textLength=\"38\" x=\"90.5\" y=\"232.9526\">x: Real</text><line style=\"stroke: #383838; stroke-width: 1.0;\" x1=\"85.5\" x2=\"90.5\" y1=\"216.3398\" y2=\"216.3398\"/><text fill=\"#000000\" font-family=\"sans-serif\" font-size=\"11\" lengthAdjust=\"spacingAndGlyphs\" textLength=\"55\" x=\"90.5\" y=\"219.6479\">attributes</text><line style=\"stroke: #383838; stroke-width: 1.0;\" x1=\"145.5\" x2=\"150.5\" y1=\"216.3398\" y2=\"216.3398\"/></a><!--MD5=[09b614a08d8cba4a07c9adeb5e0fee81]\n",
       "class E3--><a href=\"psysml:f29a45b1-01e5-48c9-895e-094b774cc27f\" target=\"_top\" title=\"psysml:f29a45b1-01e5-48c9-895e-094b774cc27f\" xlink:actuate=\"onRequest\" xlink:href=\"psysml:f29a45b1-01e5-48c9-895e-094b774cc27f\" xlink:show=\"new\" xlink:title=\"psysml:f29a45b1-01e5-48c9-895e-094b774cc27f\" xlink:type=\"simple\"><rect fill=\"#FFFFFF\" height=\"45.9375\" id=\"E3\" rx=\"10\" ry=\"10\" style=\"stroke: #383838; stroke-width: 1.5;\" width=\"121\" x=\"57.5\" y=\"301\"/><text fill=\"#000000\" font-family=\"sans-serif\" font-size=\"12\" font-style=\"italic\" lengthAdjust=\"spacingAndGlyphs\" textLength=\"119\" x=\"58.5\" y=\"317.1387\">«assertConstraint»</text><text fill=\"#000000\" font-family=\"sans-serif\" font-size=\"12\" lengthAdjust=\"spacingAndGlyphs\" textLength=\"76\" x=\"80\" y=\"331.1074\">x_constraint</text><line style=\"stroke: #383838; stroke-width: 1.5;\" x1=\"58.5\" x2=\"177.5\" y1=\"338.9375\" y2=\"338.9375\"/></a><!--MD5=[ebbe1d658d1005bcc118a6aa81145e00]\n",
       "class E4--><a href=\"psysml:55b9c562-7faa-4cb8-ac86-d366721fd3cf\" target=\"_top\" title=\"psysml:55b9c562-7faa-4cb8-ac86-d366721fd3cf\" xlink:actuate=\"onRequest\" xlink:href=\"psysml:55b9c562-7faa-4cb8-ac86-d366721fd3cf\" xlink:show=\"new\" xlink:title=\"psysml:55b9c562-7faa-4cb8-ac86-d366721fd3cf\" xlink:type=\"simple\"><rect fill=\"#FFFFFF\" height=\"45.9375\" id=\"E4\" style=\"stroke: #383838; stroke-width: 1.5;\" width=\"79\" x=\"78.5\" y=\"41\"/><text fill=\"#000000\" font-family=\"sans-serif\" font-size=\"12\" font-style=\"italic\" lengthAdjust=\"spacingAndGlyphs\" textLength=\"77\" x=\"79.5\" y=\"57.1387\">«action def»</text><text fill=\"#000000\" font-family=\"sans-serif\" font-size=\"12\" lengthAdjust=\"spacingAndGlyphs\" textLength=\"27\" x=\"104.5\" y=\"71.1074\">setX</text><line style=\"stroke: #383838; stroke-width: 1.5;\" x1=\"79.5\" x2=\"156.5\" y1=\"78.9375\" y2=\"78.9375\"/></a><!--MD5=[209b3feb70ccb6233bfe1053d122c12c]\n",
       "reverse link E2 to E3--><a href=\"psysml:54ab6d27-8883-4622-a03e-a53956db7fe1\" target=\"_top\" title=\"psysml:54ab6d27-8883-4622-a03e-a53956db7fe1\" xlink:actuate=\"onRequest\" xlink:href=\"psysml:54ab6d27-8883-4622-a03e-a53956db7fe1\" xlink:show=\"new\" xlink:title=\"psysml:54ab6d27-8883-4622-a03e-a53956db7fe1\" xlink:type=\"simple\"><path d=\"M118,253.76 C118,270.17 118,287.52 118,300.75 \" fill=\"none\" id=\"E2&lt;-E3\" style=\"stroke: #383838; stroke-width: 1.0;\"/><polygon fill=\"#383838\" points=\"118,240.31,114,246.31,118,252.31,122,246.31,118,240.31\" style=\"stroke: #383838; stroke-width: 1.0;\"/><text fill=\"#000000\" font-family=\"sans-serif\" font-size=\"13\" lengthAdjust=\"spacingAndGlyphs\" textLength=\"7\" x=\"110.1031\" y=\"289.9622\">*</text></a><!--MD5=[ddeed8deb2209213b62e6cfabaa108b2]\n",
       "reverse link E4 to E2--><a href=\"psysml:6b50cc19-3c51-4fdc-acb9-7cb54732aaba\" target=\"_top\" title=\"psysml:6b50cc19-3c51-4fdc-acb9-7cb54732aaba\" xlink:actuate=\"onRequest\" xlink:href=\"psysml:6b50cc19-3c51-4fdc-acb9-7cb54732aaba\" xlink:show=\"new\" xlink:title=\"psysml:6b50cc19-3c51-4fdc-acb9-7cb54732aaba\" xlink:type=\"simple\"><path d=\"M118,100.42 C118,119.95 118,144.19 118,163.97 \" fill=\"none\" id=\"E4&lt;-E2\" style=\"stroke: #383838; stroke-width: 1.0;\"/><polygon fill=\"#FFFFFF\" points=\"118,87.15,114,93.15,118,99.15,122,93.15,118,87.15\" style=\"stroke: #383838; stroke-width: 1.0;\"/><text fill=\"#000000\" font-family=\"sans-serif\" font-size=\"13\" lengthAdjust=\"spacingAndGlyphs\" textLength=\"7\" x=\"119\" y=\"130.0669\">c</text></a><!--MD5=[42c658de342da3fa8e3eb0206364b2b8]\n",
       "@startuml\r\n",
       " skinparam monochrome true\r\n",
       "skinparam classbackgroundcolor white\r\n",
       "skinparam shadowing false\r\n",
       "skinparam wrapWidth 300\r\n",
       "hide circle\r\n",
       "\r\n",
       "package \"TextualRepresentationTest\" as E1  [[psysml:806baf2e-ef33-48f4-9893-87a395ee6712 ]]  {\r\n",
       "comp def \"C\" as E2  <<(T,blue) item def>> [[psysml:7ed521f9-b82c-428e-a042-7cd99724445f ]] {\r\n",
       "- - attributes - -\r\n",
       "x: Real\r\n",
       "}\r\n",
       "comp usage \"x_constraint\" as E3  <<(T,blue) assertConstraint>> [[psysml:f29a45b1-01e5-48c9-895e-094b774cc27f ]] {\r\n",
       "}\r\n",
       "comp def \"setX\" as E4  <<(T,blue) action def>> [[psysml:55b9c562-7faa-4cb8-ac86-d366721fd3cf ]] {\r\n",
       "}\r\n",
       "}\r\n",
       "E2 *- - \"*\"E3 [[psysml:54ab6d27-8883-4622-a03e-a53956db7fe1 ]] \r\n",
       "E4 o- - E2 [[psysml:6b50cc19-3c51-4fdc-acb9-7cb54732aaba ]] : c\r\n",
       "@enduml\r\n",
       "\n",
       "PlantUML version 1.2020.13(Sat Jun 13 12:26:38 UTC 2020)\n",
       "(EPL source distribution)\n",
       "Java Runtime: OpenJDK Runtime Environment\n",
       "JVM: OpenJDK 64-Bit Server VM\n",
       "Default Encoding: UTF-8\n",
       "Language: en\n",
       "Country: null\n",
       "--></g></svg>"
      ]
     },
     "execution_count": 3,
     "metadata": {},
     "output_type": "execute_result"
    }
   ],
   "source": [
    "%viz --style=\"COMPTREE\" --view=\"Tree\" \"TextualRepresentationTest\""
   ]
  },
  {
   "cell_type": "code",
   "execution_count": 4,
   "id": "66d64fed",
   "metadata": {
    "execution": {
     "iopub.execute_input": "2021-10-03T08:29:33.339746Z",
     "iopub.status.busy": "2021-10-03T08:29:33.339303Z",
     "iopub.status.idle": "2021-10-03T08:29:33.347602Z",
     "shell.execute_reply": "2021-10-03T08:29:33.347937Z"
    }
   },
   "outputs": [
    {
     "data": {
      "image/svg+xml": [
       "<?xml version=\"1.0\" encoding=\"UTF-8\" standalone=\"no\"?><svg xmlns=\"http://www.w3.org/2000/svg\" xmlns:xlink=\"http://www.w3.org/1999/xlink\" contentScriptType=\"application/ecmascript\" contentStyleType=\"text/css\" height=\"12px\" preserveAspectRatio=\"none\" style=\"width:12px;height:12px;\" version=\"1.1\" viewBox=\"0 0 12 12\" width=\"12px\" zoomAndPan=\"magnify\"><defs/><g><!--MD5=[f19188ef49e11757b5c46753f95d9edc]\n",
       "@startuml\r\n",
       " skinparam monochrome true\r\n",
       "skinparam classbackgroundcolor white\r\n",
       "skinparam shadowing false\r\n",
       "skinparam wrapWidth 300\r\n",
       "hide circle\r\n",
       "\r\n",
       "@enduml\r\n",
       "\n",
       "PlantUML version 1.2020.13(Sat Jun 13 12:26:38 UTC 2020)\n",
       "(EPL source distribution)\n",
       "Java Runtime: OpenJDK Runtime Environment\n",
       "JVM: OpenJDK 64-Bit Server VM\n",
       "Default Encoding: UTF-8\n",
       "Language: en\n",
       "Country: null\n",
       "--></g></svg>"
      ]
     },
     "execution_count": 4,
     "metadata": {},
     "output_type": "execute_result"
    }
   ],
   "source": [
    "%viz --style=\"COMPTREE\" --view=\"State\" \"TextualRepresentationTest\""
   ]
  },
  {
   "cell_type": "code",
   "execution_count": 5,
   "id": "f7043e6a",
   "metadata": {
    "execution": {
     "iopub.execute_input": "2021-10-03T08:29:33.398013Z",
     "iopub.status.busy": "2021-10-03T08:29:33.397605Z",
     "iopub.status.idle": "2021-10-03T08:29:33.439814Z",
     "shell.execute_reply": "2021-10-03T08:29:33.440139Z"
    }
   },
   "outputs": [
    {
     "data": {
      "image/svg+xml": [
       "<?xml version=\"1.0\" encoding=\"UTF-8\" standalone=\"no\"?><svg xmlns=\"http://www.w3.org/2000/svg\" xmlns:xlink=\"http://www.w3.org/1999/xlink\" contentScriptType=\"application/ecmascript\" contentStyleType=\"text/css\" height=\"179px\" preserveAspectRatio=\"none\" style=\"width:284px;height:179px;\" version=\"1.1\" viewBox=\"0 0 284 179\" width=\"284px\" zoomAndPan=\"magnify\"><defs/><g><!--MD5=[fbc87193dbaf4d95561dea2c320d4a47]\n",
       "cluster E1--><a href=\"psysml:806baf2e-ef33-48f4-9893-87a395ee6712\" target=\"_top\" title=\"psysml:806baf2e-ef33-48f4-9893-87a395ee6712\" xlink:actuate=\"onRequest\" xlink:href=\"psysml:806baf2e-ef33-48f4-9893-87a395ee6712\" xlink:show=\"new\" xlink:title=\"psysml:806baf2e-ef33-48f4-9893-87a395ee6712\" xlink:type=\"simple\"><polygon fill=\"#FFFFFF\" points=\"16,6,210,6,217,28.2969,262,28.2969,262,167,16,167,16,6\" style=\"stroke: #000000; stroke-width: 1.5;\"/><line style=\"stroke: #000000; stroke-width: 1.5;\" x1=\"16\" x2=\"217\" y1=\"28.2969\" y2=\"28.2969\"/><text fill=\"#000000\" font-family=\"sans-serif\" font-size=\"14\" font-weight=\"bold\" lengthAdjust=\"spacingAndGlyphs\" textLength=\"188\" x=\"20\" y=\"20.9951\">TextualRepresentationTest</text></a><!--MD5=[d5e69f78d87373223dbae638b30a9c99]\n",
       "cluster E3--><a href=\"psysml:55b9c562-7faa-4cb8-ac86-d366721fd3cf\" target=\"_top\" title=\"psysml:55b9c562-7faa-4cb8-ac86-d366721fd3cf\" xlink:actuate=\"onRequest\" xlink:href=\"psysml:55b9c562-7faa-4cb8-ac86-d366721fd3cf\" xlink:show=\"new\" xlink:title=\"psysml:55b9c562-7faa-4cb8-ac86-d366721fd3cf\" xlink:type=\"simple\"><rect fill=\"#FFFFFF\" height=\"88.5\" id=\"E3\" style=\"stroke: #383838; stroke-width: 1.5;\" width=\"96\" x=\"120.5\" y=\"62.5\"/><rect fill=\"#F8F8F8\" height=\"37.9375\" style=\"stroke: #383838; stroke-width: 1.5;\" width=\"96\" x=\"120.5\" y=\"62.5\"/><text fill=\"#000000\" font-family=\"sans-serif\" font-size=\"12\" font-style=\"italic\" lengthAdjust=\"spacingAndGlyphs\" textLength=\"77\" x=\"130\" y=\"78.6387\">«action def»</text><text fill=\"#000000\" font-family=\"sans-serif\" font-size=\"12\" lengthAdjust=\"spacingAndGlyphs\" textLength=\"27\" x=\"155\" y=\"92.6074\">setX</text></a><g id=\"E1.E2\"><a href=\"psysml:7ed521f9-b82c-428e-a042-7cd99724445f\" target=\"_top\" title=\"psysml:7ed521f9-b82c-428e-a042-7cd99724445f\" xlink:actuate=\"onRequest\" xlink:href=\"psysml:7ed521f9-b82c-428e-a042-7cd99724445f\" xlink:show=\"new\" xlink:title=\"psysml:7ed521f9-b82c-428e-a042-7cd99724445f\" xlink:type=\"simple\"><rect fill=\"#FFFFFF\" height=\"42.9375\" id=\"E2\" style=\"stroke: #383838; stroke-width: 1.5;\" width=\"72\" x=\"32\" y=\"41\"/><rect fill=\"#F8F8F8\" height=\"37.9375\" style=\"stroke: #383838; stroke-width: 1.5;\" width=\"72\" x=\"32\" y=\"41\"/><text fill=\"#000000\" font-family=\"sans-serif\" font-size=\"12\" font-style=\"italic\" lengthAdjust=\"spacingAndGlyphs\" textLength=\"65\" x=\"35.5\" y=\"57.1387\">«item def»</text><text fill=\"#000000\" font-family=\"sans-serif\" font-size=\"12\" lengthAdjust=\"spacingAndGlyphs\" textLength=\"8\" x=\"64\" y=\"71.1074\">C</text></a></g><text fill=\"#000000\" font-family=\"sans-serif\" font-size=\"14\" lengthAdjust=\"spacingAndGlyphs\" textLength=\"8\" x=\"141\" y=\"41.1982\">c</text><rect fill=\"#383838\" height=\"12\" style=\"stroke: #F8F8F8; stroke-width: 1.5;\" width=\"12\" x=\"139\" y=\"56.5\"/><text fill=\"#000000\" font-family=\"sans-serif\" font-size=\"14\" lengthAdjust=\"spacingAndGlyphs\" textLength=\"38\" x=\"173\" y=\"41.1982\">newX</text><rect fill=\"#383838\" height=\"12\" style=\"stroke: #F8F8F8; stroke-width: 1.5;\" width=\"12\" x=\"186\" y=\"56.5\"/><!--MD5=[22c1577ec97a5ce4fe72c9ce725cd271]\n",
       "@startuml\r\n",
       "skinparam ranksep 10\r\n",
       "skinparam rectangle {\r\n",
       " backgroundColor<<block>> LightGreen\r\n",
       "}\r\n",
       " skinparam monochrome true\r\n",
       "skinparam classbackgroundcolor white\r\n",
       "skinparam shadowing false\r\n",
       "skinparam wrapWidth 300\r\n",
       "hide circle\r\n",
       "\r\n",
       "package \"TextualRepresentationTest\" as E1  [[psysml:806baf2e-ef33-48f4-9893-87a395ee6712 ]]  {\r\n",
       "def \"C\" as E2  <<(T,blue) item def>> [[psysml:7ed521f9-b82c-428e-a042-7cd99724445f ]] \r\n",
       "rec def \"setX\" as E3  <<(T,blue) action def>> [[psysml:55b9c562-7faa-4cb8-ac86-d366721fd3cf ]] {\r\n",
       "portin \"c\" as E4  [[psysml:6b50cc19-3c51-4fdc-acb9-7cb54732aaba ]] \r\n",
       "portin \"newX\" as E5  [[psysml:036e652a-b19a-4307-ba90-1008950a3600 ]] \r\n",
       "}\r\n",
       "\r\n",
       "}\r\n",
       "@enduml\r\n",
       "\n",
       "PlantUML version 1.2020.13(Sat Jun 13 12:26:38 UTC 2020)\n",
       "(EPL source distribution)\n",
       "Java Runtime: OpenJDK Runtime Environment\n",
       "JVM: OpenJDK 64-Bit Server VM\n",
       "Default Encoding: UTF-8\n",
       "Language: en\n",
       "Country: null\n",
       "--></g></svg>"
      ]
     },
     "execution_count": 5,
     "metadata": {},
     "output_type": "execute_result"
    }
   ],
   "source": [
    "%viz --style=\"COMPTREE\" --view=\"Interconnection\" \"TextualRepresentationTest\""
   ]
  },
  {
   "cell_type": "code",
   "execution_count": 6,
   "id": "16c1f5ea",
   "metadata": {
    "execution": {
     "iopub.execute_input": "2021-10-03T08:29:33.489866Z",
     "iopub.status.busy": "2021-10-03T08:29:33.489465Z",
     "iopub.status.idle": "2021-10-03T08:29:33.521589Z",
     "shell.execute_reply": "2021-10-03T08:29:33.521910Z"
    }
   },
   "outputs": [
    {
     "data": {
      "image/svg+xml": [
       "<?xml version=\"1.0\" encoding=\"UTF-8\" standalone=\"no\"?><svg xmlns=\"http://www.w3.org/2000/svg\" xmlns:xlink=\"http://www.w3.org/1999/xlink\" contentScriptType=\"application/ecmascript\" contentStyleType=\"text/css\" height=\"126px\" preserveAspectRatio=\"none\" style=\"width:150px;height:126px;\" version=\"1.1\" viewBox=\"0 0 150 126\" width=\"150px\" zoomAndPan=\"magnify\"><defs/><g><!--MD5=[fbc87193dbaf4d95561dea2c320d4a47]\n",
       "cluster E1--><a href=\"psysml:55b9c562-7faa-4cb8-ac86-d366721fd3cf\" target=\"_top\" title=\"psysml:55b9c562-7faa-4cb8-ac86-d366721fd3cf\" xlink:actuate=\"onRequest\" xlink:href=\"psysml:55b9c562-7faa-4cb8-ac86-d366721fd3cf\" xlink:show=\"new\" xlink:title=\"psysml:55b9c562-7faa-4cb8-ac86-d366721fd3cf\" xlink:type=\"simple\"><rect fill=\"#FFFFFF\" height=\"73\" id=\"E1\" style=\"stroke: #383838; stroke-width: 1.5;\" width=\"132\" x=\"7\" y=\"42.0986\"/><rect fill=\"#F8F8F8\" height=\"37.9375\" style=\"stroke: #383838; stroke-width: 1.5;\" width=\"132\" x=\"7\" y=\"42.0986\"/><text fill=\"#000000\" font-family=\"sans-serif\" font-size=\"12\" font-style=\"italic\" lengthAdjust=\"spacingAndGlyphs\" textLength=\"77\" x=\"34.5\" y=\"58.2373\">«action def»</text><text fill=\"#000000\" font-family=\"sans-serif\" font-size=\"12\" lengthAdjust=\"spacingAndGlyphs\" textLength=\"27\" x=\"59.5\" y=\"72.2061\">setX</text></a><text fill=\"#000000\" font-family=\"sans-serif\" font-size=\"14\" lengthAdjust=\"spacingAndGlyphs\" textLength=\"8\" x=\"21\" y=\"20.7969\">c</text><rect fill=\"#383838\" height=\"12\" style=\"stroke: #F8F8F8; stroke-width: 1.5;\" width=\"12\" x=\"19\" y=\"36.0986\"/><text fill=\"#000000\" font-family=\"sans-serif\" font-size=\"14\" lengthAdjust=\"spacingAndGlyphs\" textLength=\"38\" x=\"53\" y=\"20.7969\">newX</text><rect fill=\"#383838\" height=\"12\" style=\"stroke: #F8F8F8; stroke-width: 1.5;\" width=\"12\" x=\"66\" y=\"36.0986\"/><!--MD5=[37697d7f34abe9ec2a6934d8d21532a3]\n",
       "@startuml\r\n",
       "skinparam ranksep 8\r\n",
       " skinparam monochrome true\r\n",
       "skinparam classbackgroundcolor white\r\n",
       "skinparam shadowing false\r\n",
       "skinparam wrapWidth 300\r\n",
       "hide circle\r\n",
       "\r\n",
       "rec def \"setX\" as E1  <<(T,blue) action def>> [[psysml:55b9c562-7faa-4cb8-ac86-d366721fd3cf ]] {\r\n",
       "portin \"c\" as E2  [[psysml:6b50cc19-3c51-4fdc-acb9-7cb54732aaba ]] \r\n",
       "portin \"newX\" as E3  [[psysml:036e652a-b19a-4307-ba90-1008950a3600 ]] \r\n",
       "}\r\n",
       "\r\n",
       "@enduml\r\n",
       "\n",
       "PlantUML version 1.2020.13(Sat Jun 13 12:26:38 UTC 2020)\n",
       "(EPL source distribution)\n",
       "Java Runtime: OpenJDK Runtime Environment\n",
       "JVM: OpenJDK 64-Bit Server VM\n",
       "Default Encoding: UTF-8\n",
       "Language: en\n",
       "Country: null\n",
       "--></g></svg>"
      ]
     },
     "execution_count": 6,
     "metadata": {},
     "output_type": "execute_result"
    }
   ],
   "source": [
    "%viz --style=\"COMPTREE\" --view=\"Action\" \"TextualRepresentationTest\""
   ]
  },
  {
   "cell_type": "code",
   "execution_count": 7,
   "id": "5e44fad6",
   "metadata": {
    "execution": {
     "iopub.execute_input": "2021-10-03T08:29:33.572045Z",
     "iopub.status.busy": "2021-10-03T08:29:33.571599Z",
     "iopub.status.idle": "2021-10-03T08:29:33.584634Z",
     "shell.execute_reply": "2021-10-03T08:29:33.584957Z"
    }
   },
   "outputs": [
    {
     "data": {
      "image/svg+xml": [
       "<?xml version=\"1.0\" encoding=\"UTF-8\" standalone=\"no\"?><svg xmlns=\"http://www.w3.org/2000/svg\" xmlns:xlink=\"http://www.w3.org/1999/xlink\" contentScriptType=\"application/ecmascript\" contentStyleType=\"text/css\" height=\"12px\" preserveAspectRatio=\"none\" style=\"width:12px;height:12px;\" version=\"1.1\" viewBox=\"0 0 12 12\" width=\"12px\" zoomAndPan=\"magnify\"><defs/><g><!--MD5=[803fc46c337be7a5c8a9831e35356779]\n",
       "@startuml\r\n",
       "skinparam roundcorner 20\r\n",
       "skinparam BoxPadding 20\r\n",
       "skinparam SequenceBoxBackgroundColor #white\r\n",
       "skinparam style strictuml\r\n",
       "skinparam maxMessageSize 100\r\n",
       " skinparam monochrome true\r\n",
       "skinparam classbackgroundcolor white\r\n",
       "skinparam shadowing false\r\n",
       "skinparam wrapWidth 300\r\n",
       "hide circle\r\n",
       "\r\n",
       "@enduml\r\n",
       "\n",
       "PlantUML version 1.2020.13(Sat Jun 13 12:26:38 UTC 2020)\n",
       "(EPL source distribution)\n",
       "Java Runtime: OpenJDK Runtime Environment\n",
       "JVM: OpenJDK 64-Bit Server VM\n",
       "Default Encoding: UTF-8\n",
       "Language: en\n",
       "Country: null\n",
       "--></g></svg>"
      ]
     },
     "execution_count": 7,
     "metadata": {},
     "output_type": "execute_result"
    }
   ],
   "source": [
    "%viz --style=\"COMPTREE\" --view=\"Sequence\" \"TextualRepresentationTest\""
   ]
  },
  {
   "cell_type": "code",
   "execution_count": 8,
   "id": "d6818b7c",
   "metadata": {
    "execution": {
     "iopub.execute_input": "2021-10-03T08:29:33.634881Z",
     "iopub.status.busy": "2021-10-03T08:29:33.634474Z",
     "iopub.status.idle": "2021-10-03T08:29:33.697465Z",
     "shell.execute_reply": "2021-10-03T08:29:33.697107Z"
    }
   },
   "outputs": [
    {
     "data": {
      "image/svg+xml": [
       "<?xml version=\"1.0\" encoding=\"UTF-8\" standalone=\"no\"?><svg xmlns=\"http://www.w3.org/2000/svg\" xmlns:xlink=\"http://www.w3.org/1999/xlink\" contentScriptType=\"application/ecmascript\" contentStyleType=\"text/css\" height=\"261px\" preserveAspectRatio=\"none\" style=\"width:345px;height:261px;\" version=\"1.1\" viewBox=\"0 0 345 261\" width=\"345px\" zoomAndPan=\"magnify\"><defs/><g><!--MD5=[fbc87193dbaf4d95561dea2c320d4a47]\n",
       "cluster E1--><a href=\"psysml:806baf2e-ef33-48f4-9893-87a395ee6712\" target=\"_top\" title=\"psysml:806baf2e-ef33-48f4-9893-87a395ee6712\" xlink:actuate=\"onRequest\" xlink:href=\"psysml:806baf2e-ef33-48f4-9893-87a395ee6712\" xlink:show=\"new\" xlink:title=\"psysml:806baf2e-ef33-48f4-9893-87a395ee6712\" xlink:type=\"simple\"><polygon fill=\"#FFFFFF\" points=\"16,6,210,6,217,28.2969,323,28.2969,323,249.5,16,249.5,16,6\" style=\"stroke: #000000; stroke-width: 1.5;\"/><line style=\"stroke: #000000; stroke-width: 1.5;\" x1=\"16\" x2=\"217\" y1=\"28.2969\" y2=\"28.2969\"/><text fill=\"#000000\" font-family=\"sans-serif\" font-size=\"14\" font-weight=\"bold\" lengthAdjust=\"spacingAndGlyphs\" textLength=\"188\" x=\"20\" y=\"20.9951\">TextualRepresentationTest</text></a><!--MD5=[f6df4d0ebaf0b5dfb2ced0ae5af7c670]\n",
       "cluster E4--><a href=\"psysml:55b9c562-7faa-4cb8-ac86-d366721fd3cf\" target=\"_top\" title=\"psysml:55b9c562-7faa-4cb8-ac86-d366721fd3cf\" xlink:actuate=\"onRequest\" xlink:href=\"psysml:55b9c562-7faa-4cb8-ac86-d366721fd3cf\" xlink:show=\"new\" xlink:title=\"psysml:55b9c562-7faa-4cb8-ac86-d366721fd3cf\" xlink:type=\"simple\"><rect fill=\"#FFFFFF\" height=\"154.5\" id=\"E4\" style=\"stroke: #383838; stroke-width: 1.5;\" width=\"132\" x=\"175\" y=\"79\"/><rect fill=\"#F8F8F8\" height=\"37.9375\" style=\"stroke: #383838; stroke-width: 1.5;\" width=\"132\" x=\"175\" y=\"79\"/><text fill=\"#000000\" font-family=\"sans-serif\" font-size=\"12\" font-style=\"italic\" lengthAdjust=\"spacingAndGlyphs\" textLength=\"77\" x=\"202.5\" y=\"95.1387\">«action def»</text><text fill=\"#000000\" font-family=\"sans-serif\" font-size=\"12\" lengthAdjust=\"spacingAndGlyphs\" textLength=\"27\" x=\"227.5\" y=\"109.1074\">setX</text></a><!--MD5=[b4997ac47864f28c2f74865a473b2911]\n",
       "class E2--><a href=\"psysml:7ed521f9-b82c-428e-a042-7cd99724445f\" target=\"_top\" title=\"psysml:7ed521f9-b82c-428e-a042-7cd99724445f\" xlink:actuate=\"onRequest\" xlink:href=\"psysml:7ed521f9-b82c-428e-a042-7cd99724445f\" xlink:show=\"new\" xlink:title=\"psysml:7ed521f9-b82c-428e-a042-7cd99724445f\" xlink:type=\"simple\"><rect fill=\"#FFFFFF\" height=\"75.5469\" id=\"E2\" style=\"stroke: #383838; stroke-width: 1.5;\" width=\"67\" x=\"59.5\" y=\"41\"/><text fill=\"#000000\" font-family=\"sans-serif\" font-size=\"12\" font-style=\"italic\" lengthAdjust=\"spacingAndGlyphs\" textLength=\"65\" x=\"60.5\" y=\"57.1387\">«item def»</text><text fill=\"#000000\" font-family=\"sans-serif\" font-size=\"12\" lengthAdjust=\"spacingAndGlyphs\" textLength=\"8\" x=\"89\" y=\"71.1074\">C</text><line style=\"stroke: #383838; stroke-width: 1.5;\" x1=\"60.5\" x2=\"125.5\" y1=\"78.9375\" y2=\"78.9375\"/><text fill=\"#000000\" font-family=\"sans-serif\" font-size=\"11\" lengthAdjust=\"spacingAndGlyphs\" textLength=\"38\" x=\"65.5\" y=\"109.9526\">x: Real</text><line style=\"stroke: #383838; stroke-width: 1.0;\" x1=\"60.5\" x2=\"65.5\" y1=\"93.3398\" y2=\"93.3398\"/><text fill=\"#000000\" font-family=\"sans-serif\" font-size=\"11\" lengthAdjust=\"spacingAndGlyphs\" textLength=\"55\" x=\"65.5\" y=\"96.6479\">attributes</text><line style=\"stroke: #383838; stroke-width: 1.0;\" x1=\"120.5\" x2=\"125.5\" y1=\"93.3398\" y2=\"93.3398\"/></a><!--MD5=[09b614a08d8cba4a07c9adeb5e0fee81]\n",
       "class E3--><a href=\"psysml:f29a45b1-01e5-48c9-895e-094b774cc27f\" target=\"_top\" title=\"psysml:f29a45b1-01e5-48c9-895e-094b774cc27f\" xlink:actuate=\"onRequest\" xlink:href=\"psysml:f29a45b1-01e5-48c9-895e-094b774cc27f\" xlink:show=\"new\" xlink:title=\"psysml:f29a45b1-01e5-48c9-895e-094b774cc27f\" xlink:type=\"simple\"><rect fill=\"#FFFFFF\" height=\"45.9375\" id=\"E3\" rx=\"10\" ry=\"10\" style=\"stroke: #383838; stroke-width: 1.5;\" width=\"121\" x=\"32.5\" y=\"177\"/><text fill=\"#000000\" font-family=\"sans-serif\" font-size=\"12\" font-style=\"italic\" lengthAdjust=\"spacingAndGlyphs\" textLength=\"119\" x=\"33.5\" y=\"193.1387\">«assertConstraint»</text><text fill=\"#000000\" font-family=\"sans-serif\" font-size=\"12\" lengthAdjust=\"spacingAndGlyphs\" textLength=\"76\" x=\"55\" y=\"207.1074\">x_constraint</text><line style=\"stroke: #383838; stroke-width: 1.5;\" x1=\"33.5\" x2=\"152.5\" y1=\"214.9375\" y2=\"214.9375\"/></a><text fill=\"#000000\" font-family=\"sans-serif\" font-size=\"14\" lengthAdjust=\"spacingAndGlyphs\" textLength=\"8\" x=\"189\" y=\"57.6982\">c</text><rect fill=\"#383838\" height=\"12\" style=\"stroke: #F8F8F8; stroke-width: 1.5;\" width=\"12\" x=\"187\" y=\"73\"/><text fill=\"#000000\" font-family=\"sans-serif\" font-size=\"14\" lengthAdjust=\"spacingAndGlyphs\" textLength=\"38\" x=\"221\" y=\"57.6982\">newX</text><rect fill=\"#383838\" height=\"12\" style=\"stroke: #F8F8F8; stroke-width: 1.5;\" width=\"12\" x=\"234\" y=\"73\"/><!--MD5=[209b3feb70ccb6233bfe1053d122c12c]\n",
       "reverse link E2 to E3--><a href=\"psysml:54ab6d27-8883-4622-a03e-a53956db7fe1\" target=\"_top\" title=\"psysml:54ab6d27-8883-4622-a03e-a53956db7fe1\" xlink:actuate=\"onRequest\" xlink:href=\"psysml:54ab6d27-8883-4622-a03e-a53956db7fe1\" xlink:show=\"new\" xlink:title=\"psysml:54ab6d27-8883-4622-a03e-a53956db7fe1\" xlink:type=\"simple\"><path d=\"M93,130.34 C93,146.61 93,163.81 93,176.93 \" fill=\"none\" id=\"E2&lt;-E3\" style=\"stroke: #383838; stroke-width: 1.0;\"/><polygon fill=\"#383838\" points=\"93,117,89,123,93,129,97,123,93,117\" style=\"stroke: #383838; stroke-width: 1.0;\"/><text fill=\"#000000\" font-family=\"sans-serif\" font-size=\"13\" lengthAdjust=\"spacingAndGlyphs\" textLength=\"7\" x=\"85.0594\" y=\"165.8075\">*</text></a><!--MD5=[690cb33f4394166108cec1eec7dd020c]\n",
       "@startuml\r\n",
       " skinparam monochrome true\r\n",
       "skinparam classbackgroundcolor white\r\n",
       "skinparam shadowing false\r\n",
       "skinparam wrapWidth 300\r\n",
       "hide circle\r\n",
       "\r\n",
       "package \"TextualRepresentationTest\" as E1  [[psysml:806baf2e-ef33-48f4-9893-87a395ee6712 ]]  {\r\n",
       "comp def \"C\" as E2  <<(T,blue) item def>> [[psysml:7ed521f9-b82c-428e-a042-7cd99724445f ]] {\r\n",
       "- - attributes - -\r\n",
       "x: Real\r\n",
       "}\r\n",
       "comp usage \"x_constraint\" as E3  <<(T,blue) assertConstraint>> [[psysml:f29a45b1-01e5-48c9-895e-094b774cc27f ]] {\r\n",
       "}\r\n",
       "rec def \"setX\" as E4  <<(T,blue) action def>> [[psysml:55b9c562-7faa-4cb8-ac86-d366721fd3cf ]] {\r\n",
       "portin \"c\" as E5  [[psysml:6b50cc19-3c51-4fdc-acb9-7cb54732aaba ]] \r\n",
       "portin \"newX\" as E6  [[psysml:036e652a-b19a-4307-ba90-1008950a3600 ]] \r\n",
       "}\r\n",
       "\r\n",
       "}\r\n",
       "E2 *- - \"*\"E3 [[psysml:54ab6d27-8883-4622-a03e-a53956db7fe1 ]] \r\n",
       "@enduml\r\n",
       "\n",
       "PlantUML version 1.2020.13(Sat Jun 13 12:26:38 UTC 2020)\n",
       "(EPL source distribution)\n",
       "Java Runtime: OpenJDK Runtime Environment\n",
       "JVM: OpenJDK 64-Bit Server VM\n",
       "Default Encoding: UTF-8\n",
       "Language: en\n",
       "Country: null\n",
       "--></g></svg>"
      ]
     },
     "execution_count": 8,
     "metadata": {},
     "output_type": "execute_result"
    }
   ],
   "source": [
    "%viz --style=\"COMPTREE\" --view=\"MIXED\" \"TextualRepresentationTest\""
   ]
  },
  {
   "cell_type": "code",
   "execution_count": 9,
   "id": "f5b59d4c",
   "metadata": {
    "execution": {
     "iopub.execute_input": "2021-10-03T08:29:33.747124Z",
     "iopub.status.busy": "2021-10-03T08:29:33.746721Z",
     "iopub.status.idle": "2021-10-03T08:29:33.834020Z",
     "shell.execute_reply": "2021-10-03T08:29:33.833559Z"
    }
   },
   "outputs": [
    {
     "data": {
      "image/svg+xml": [
       "<?xml version=\"1.0\" encoding=\"UTF-8\" standalone=\"no\"?><svg xmlns=\"http://www.w3.org/2000/svg\" xmlns:xlink=\"http://www.w3.org/1999/xlink\" contentScriptType=\"application/ecmascript\" contentStyleType=\"text/css\" height=\"261px\" preserveAspectRatio=\"none\" style=\"width:345px;height:261px;\" version=\"1.1\" viewBox=\"0 0 345 261\" width=\"345px\" zoomAndPan=\"magnify\"><defs/><g><!--MD5=[fbc87193dbaf4d95561dea2c320d4a47]\n",
       "cluster E1--><a href=\"psysml:806baf2e-ef33-48f4-9893-87a395ee6712\" target=\"_top\" title=\"psysml:806baf2e-ef33-48f4-9893-87a395ee6712\" xlink:actuate=\"onRequest\" xlink:href=\"psysml:806baf2e-ef33-48f4-9893-87a395ee6712\" xlink:show=\"new\" xlink:title=\"psysml:806baf2e-ef33-48f4-9893-87a395ee6712\" xlink:type=\"simple\"><polygon fill=\"#FFFFFF\" points=\"16,6,210,6,217,28.2969,323,28.2969,323,249.5,16,249.5,16,6\" style=\"stroke: #000000; stroke-width: 1.5;\"/><line style=\"stroke: #000000; stroke-width: 1.5;\" x1=\"16\" x2=\"217\" y1=\"28.2969\" y2=\"28.2969\"/><text fill=\"#000000\" font-family=\"sans-serif\" font-size=\"14\" font-weight=\"bold\" lengthAdjust=\"spacingAndGlyphs\" textLength=\"188\" x=\"20\" y=\"20.9951\">TextualRepresentationTest</text></a><!--MD5=[f6df4d0ebaf0b5dfb2ced0ae5af7c670]\n",
       "cluster E4--><a href=\"psysml:55b9c562-7faa-4cb8-ac86-d366721fd3cf\" target=\"_top\" title=\"psysml:55b9c562-7faa-4cb8-ac86-d366721fd3cf\" xlink:actuate=\"onRequest\" xlink:href=\"psysml:55b9c562-7faa-4cb8-ac86-d366721fd3cf\" xlink:show=\"new\" xlink:title=\"psysml:55b9c562-7faa-4cb8-ac86-d366721fd3cf\" xlink:type=\"simple\"><rect fill=\"#FFFFFF\" height=\"154.5\" id=\"E4\" style=\"stroke: #383838; stroke-width: 1.5;\" width=\"132\" x=\"175\" y=\"79\"/><rect fill=\"#F8F8F8\" height=\"37.9375\" style=\"stroke: #383838; stroke-width: 1.5;\" width=\"132\" x=\"175\" y=\"79\"/><text fill=\"#000000\" font-family=\"sans-serif\" font-size=\"12\" font-style=\"italic\" lengthAdjust=\"spacingAndGlyphs\" textLength=\"77\" x=\"202.5\" y=\"95.1387\">«action def»</text><text fill=\"#000000\" font-family=\"sans-serif\" font-size=\"12\" lengthAdjust=\"spacingAndGlyphs\" textLength=\"27\" x=\"227.5\" y=\"109.1074\">setX</text></a><!--MD5=[b4997ac47864f28c2f74865a473b2911]\n",
       "class E2--><a href=\"psysml:7ed521f9-b82c-428e-a042-7cd99724445f\" target=\"_top\" title=\"psysml:7ed521f9-b82c-428e-a042-7cd99724445f\" xlink:actuate=\"onRequest\" xlink:href=\"psysml:7ed521f9-b82c-428e-a042-7cd99724445f\" xlink:show=\"new\" xlink:title=\"psysml:7ed521f9-b82c-428e-a042-7cd99724445f\" xlink:type=\"simple\"><rect fill=\"#FFFFFF\" height=\"75.5469\" id=\"E2\" style=\"stroke: #383838; stroke-width: 1.5;\" width=\"67\" x=\"59.5\" y=\"41\"/><text fill=\"#000000\" font-family=\"sans-serif\" font-size=\"12\" font-style=\"italic\" lengthAdjust=\"spacingAndGlyphs\" textLength=\"65\" x=\"60.5\" y=\"57.1387\">«item def»</text><text fill=\"#000000\" font-family=\"sans-serif\" font-size=\"12\" lengthAdjust=\"spacingAndGlyphs\" textLength=\"8\" x=\"89\" y=\"71.1074\">C</text><line style=\"stroke: #383838; stroke-width: 1.5;\" x1=\"60.5\" x2=\"125.5\" y1=\"78.9375\" y2=\"78.9375\"/><text fill=\"#000000\" font-family=\"sans-serif\" font-size=\"11\" lengthAdjust=\"spacingAndGlyphs\" textLength=\"38\" x=\"65.5\" y=\"109.9526\">x: Real</text><line style=\"stroke: #383838; stroke-width: 1.0;\" x1=\"60.5\" x2=\"65.5\" y1=\"93.3398\" y2=\"93.3398\"/><text fill=\"#000000\" font-family=\"sans-serif\" font-size=\"11\" lengthAdjust=\"spacingAndGlyphs\" textLength=\"55\" x=\"65.5\" y=\"96.6479\">attributes</text><line style=\"stroke: #383838; stroke-width: 1.0;\" x1=\"120.5\" x2=\"125.5\" y1=\"93.3398\" y2=\"93.3398\"/></a><!--MD5=[09b614a08d8cba4a07c9adeb5e0fee81]\n",
       "class E3--><a href=\"psysml:f29a45b1-01e5-48c9-895e-094b774cc27f\" target=\"_top\" title=\"psysml:f29a45b1-01e5-48c9-895e-094b774cc27f\" xlink:actuate=\"onRequest\" xlink:href=\"psysml:f29a45b1-01e5-48c9-895e-094b774cc27f\" xlink:show=\"new\" xlink:title=\"psysml:f29a45b1-01e5-48c9-895e-094b774cc27f\" xlink:type=\"simple\"><rect fill=\"#FFFFFF\" height=\"45.9375\" id=\"E3\" rx=\"10\" ry=\"10\" style=\"stroke: #383838; stroke-width: 1.5;\" width=\"121\" x=\"32.5\" y=\"177\"/><text fill=\"#000000\" font-family=\"sans-serif\" font-size=\"12\" font-style=\"italic\" lengthAdjust=\"spacingAndGlyphs\" textLength=\"119\" x=\"33.5\" y=\"193.1387\">«assertConstraint»</text><text fill=\"#000000\" font-family=\"sans-serif\" font-size=\"12\" lengthAdjust=\"spacingAndGlyphs\" textLength=\"76\" x=\"55\" y=\"207.1074\">x_constraint</text><line style=\"stroke: #383838; stroke-width: 1.5;\" x1=\"33.5\" x2=\"152.5\" y1=\"214.9375\" y2=\"214.9375\"/></a><text fill=\"#000000\" font-family=\"sans-serif\" font-size=\"14\" lengthAdjust=\"spacingAndGlyphs\" textLength=\"8\" x=\"189\" y=\"57.6982\">c</text><rect fill=\"#383838\" height=\"12\" style=\"stroke: #F8F8F8; stroke-width: 1.5;\" width=\"12\" x=\"187\" y=\"73\"/><text fill=\"#000000\" font-family=\"sans-serif\" font-size=\"14\" lengthAdjust=\"spacingAndGlyphs\" textLength=\"38\" x=\"221\" y=\"57.6982\">newX</text><rect fill=\"#383838\" height=\"12\" style=\"stroke: #F8F8F8; stroke-width: 1.5;\" width=\"12\" x=\"234\" y=\"73\"/><!--MD5=[209b3feb70ccb6233bfe1053d122c12c]\n",
       "reverse link E2 to E3--><a href=\"psysml:54ab6d27-8883-4622-a03e-a53956db7fe1\" target=\"_top\" title=\"psysml:54ab6d27-8883-4622-a03e-a53956db7fe1\" xlink:actuate=\"onRequest\" xlink:href=\"psysml:54ab6d27-8883-4622-a03e-a53956db7fe1\" xlink:show=\"new\" xlink:title=\"psysml:54ab6d27-8883-4622-a03e-a53956db7fe1\" xlink:type=\"simple\"><path d=\"M93,130.34 C93,146.61 93,163.81 93,176.93 \" fill=\"none\" id=\"E2&lt;-E3\" style=\"stroke: #383838; stroke-width: 1.0;\"/><polygon fill=\"#383838\" points=\"93,117,89,123,93,129,97,123,93,117\" style=\"stroke: #383838; stroke-width: 1.0;\"/><text fill=\"#000000\" font-family=\"sans-serif\" font-size=\"13\" lengthAdjust=\"spacingAndGlyphs\" textLength=\"7\" x=\"85.0594\" y=\"165.8075\">*</text></a><!--MD5=[52f8307fe519b2891b101e454cd1aa47]\n",
       "@startuml\r\n",
       "skinparam linetype polyline\r\n",
       "skinparam monochrome true\r\n",
       "skinparam classbackgroundcolor white\r\n",
       "skinparam shadowing false\r\n",
       "skinparam wrapWidth 300\r\n",
       "hide circle\r\n",
       "\r\n",
       "package \"TextualRepresentationTest\" as E1  [[psysml:806baf2e-ef33-48f4-9893-87a395ee6712 ]]  {\r\n",
       "comp def \"C\" as E2  <<(T,blue) item def>> [[psysml:7ed521f9-b82c-428e-a042-7cd99724445f ]] {\r\n",
       "- - attributes - -\r\n",
       "x: Real\r\n",
       "}\r\n",
       "comp usage \"x_constraint\" as E3  <<(T,blue) assertConstraint>> [[psysml:f29a45b1-01e5-48c9-895e-094b774cc27f ]] {\r\n",
       "}\r\n",
       "rec def \"setX\" as E4  <<(T,blue) action def>> [[psysml:55b9c562-7faa-4cb8-ac86-d366721fd3cf ]] {\r\n",
       "portin \"c\" as E5  [[psysml:6b50cc19-3c51-4fdc-acb9-7cb54732aaba ]] \r\n",
       "portin \"newX\" as E6  [[psysml:036e652a-b19a-4307-ba90-1008950a3600 ]] \r\n",
       "}\r\n",
       "\r\n",
       "}\r\n",
       "E2 *- - \"*\"E3 [[psysml:54ab6d27-8883-4622-a03e-a53956db7fe1 ]] \r\n",
       "@enduml\r\n",
       "\n",
       "PlantUML version 1.2020.13(Sat Jun 13 12:26:38 UTC 2020)\n",
       "(EPL source distribution)\n",
       "Java Runtime: OpenJDK Runtime Environment\n",
       "JVM: OpenJDK 64-Bit Server VM\n",
       "Default Encoding: UTF-8\n",
       "Language: en\n",
       "Country: null\n",
       "--></g></svg>"
      ]
     },
     "execution_count": 9,
     "metadata": {},
     "output_type": "execute_result"
    }
   ],
   "source": [
    "%viz --style=\"POLYLINE\" --view=\"Default\" \"TextualRepresentationTest\""
   ]
  },
  {
   "cell_type": "code",
   "execution_count": 10,
   "id": "fbfd3919",
   "metadata": {
    "execution": {
     "iopub.execute_input": "2021-10-03T08:29:33.882937Z",
     "iopub.status.busy": "2021-10-03T08:29:33.882454Z",
     "iopub.status.idle": "2021-10-03T08:29:33.934182Z",
     "shell.execute_reply": "2021-10-03T08:29:33.933813Z"
    }
   },
   "outputs": [
    {
     "data": {
      "image/svg+xml": [
       "<?xml version=\"1.0\" encoding=\"UTF-8\" standalone=\"no\"?><svg xmlns=\"http://www.w3.org/2000/svg\" xmlns:xlink=\"http://www.w3.org/1999/xlink\" contentScriptType=\"application/ecmascript\" contentStyleType=\"text/css\" height=\"375px\" preserveAspectRatio=\"none\" style=\"width:242px;height:375px;\" version=\"1.1\" viewBox=\"0 0 242 375\" width=\"242px\" zoomAndPan=\"magnify\"><defs/><g><!--MD5=[fbc87193dbaf4d95561dea2c320d4a47]\n",
       "cluster E1--><a href=\"psysml:806baf2e-ef33-48f4-9893-87a395ee6712\" target=\"_top\" title=\"psysml:806baf2e-ef33-48f4-9893-87a395ee6712\" xlink:actuate=\"onRequest\" xlink:href=\"psysml:806baf2e-ef33-48f4-9893-87a395ee6712\" xlink:show=\"new\" xlink:title=\"psysml:806baf2e-ef33-48f4-9893-87a395ee6712\" xlink:type=\"simple\"><polygon fill=\"#FFFFFF\" points=\"16,6,210,6,217,28.2969,220,28.2969,220,363,16,363,16,6\" style=\"stroke: #000000; stroke-width: 1.5;\"/><line style=\"stroke: #000000; stroke-width: 1.5;\" x1=\"16\" x2=\"217\" y1=\"28.2969\" y2=\"28.2969\"/><text fill=\"#000000\" font-family=\"sans-serif\" font-size=\"14\" font-weight=\"bold\" lengthAdjust=\"spacingAndGlyphs\" textLength=\"188\" x=\"20\" y=\"20.9951\">TextualRepresentationTest</text></a><!--MD5=[b4997ac47864f28c2f74865a473b2911]\n",
       "class E2--><a href=\"psysml:7ed521f9-b82c-428e-a042-7cd99724445f\" target=\"_top\" title=\"psysml:7ed521f9-b82c-428e-a042-7cd99724445f\" xlink:actuate=\"onRequest\" xlink:href=\"psysml:7ed521f9-b82c-428e-a042-7cd99724445f\" xlink:show=\"new\" xlink:title=\"psysml:7ed521f9-b82c-428e-a042-7cd99724445f\" xlink:type=\"simple\"><rect fill=\"#FFFFFF\" height=\"75.5469\" id=\"E2\" style=\"stroke: #383838; stroke-width: 1.5;\" width=\"67\" x=\"84.5\" y=\"164\"/><text fill=\"#000000\" font-family=\"sans-serif\" font-size=\"12\" font-style=\"italic\" lengthAdjust=\"spacingAndGlyphs\" textLength=\"65\" x=\"85.5\" y=\"180.1387\">«item def»</text><text fill=\"#000000\" font-family=\"sans-serif\" font-size=\"12\" lengthAdjust=\"spacingAndGlyphs\" textLength=\"8\" x=\"114\" y=\"194.1074\">C</text><line style=\"stroke: #383838; stroke-width: 1.5;\" x1=\"85.5\" x2=\"150.5\" y1=\"201.9375\" y2=\"201.9375\"/><text fill=\"#000000\" font-family=\"sans-serif\" font-size=\"11\" lengthAdjust=\"spacingAndGlyphs\" textLength=\"38\" x=\"90.5\" y=\"232.9526\">x: Real</text><line style=\"stroke: #383838; stroke-width: 1.0;\" x1=\"85.5\" x2=\"90.5\" y1=\"216.3398\" y2=\"216.3398\"/><text fill=\"#000000\" font-family=\"sans-serif\" font-size=\"11\" lengthAdjust=\"spacingAndGlyphs\" textLength=\"55\" x=\"90.5\" y=\"219.6479\">attributes</text><line style=\"stroke: #383838; stroke-width: 1.0;\" x1=\"145.5\" x2=\"150.5\" y1=\"216.3398\" y2=\"216.3398\"/></a><!--MD5=[09b614a08d8cba4a07c9adeb5e0fee81]\n",
       "class E3--><a href=\"psysml:f29a45b1-01e5-48c9-895e-094b774cc27f\" target=\"_top\" title=\"psysml:f29a45b1-01e5-48c9-895e-094b774cc27f\" xlink:actuate=\"onRequest\" xlink:href=\"psysml:f29a45b1-01e5-48c9-895e-094b774cc27f\" xlink:show=\"new\" xlink:title=\"psysml:f29a45b1-01e5-48c9-895e-094b774cc27f\" xlink:type=\"simple\"><rect fill=\"#FFFFFF\" height=\"45.9375\" id=\"E3\" rx=\"10\" ry=\"10\" style=\"stroke: #383838; stroke-width: 1.5;\" width=\"121\" x=\"57.5\" y=\"301\"/><text fill=\"#000000\" font-family=\"sans-serif\" font-size=\"12\" font-style=\"italic\" lengthAdjust=\"spacingAndGlyphs\" textLength=\"119\" x=\"58.5\" y=\"317.1387\">«assertConstraint»</text><text fill=\"#000000\" font-family=\"sans-serif\" font-size=\"12\" lengthAdjust=\"spacingAndGlyphs\" textLength=\"76\" x=\"80\" y=\"331.1074\">x_constraint</text><line style=\"stroke: #383838; stroke-width: 1.5;\" x1=\"58.5\" x2=\"177.5\" y1=\"338.9375\" y2=\"338.9375\"/></a><!--MD5=[ebbe1d658d1005bcc118a6aa81145e00]\n",
       "class E4--><a href=\"psysml:55b9c562-7faa-4cb8-ac86-d366721fd3cf\" target=\"_top\" title=\"psysml:55b9c562-7faa-4cb8-ac86-d366721fd3cf\" xlink:actuate=\"onRequest\" xlink:href=\"psysml:55b9c562-7faa-4cb8-ac86-d366721fd3cf\" xlink:show=\"new\" xlink:title=\"psysml:55b9c562-7faa-4cb8-ac86-d366721fd3cf\" xlink:type=\"simple\"><rect fill=\"#FFFFFF\" height=\"45.9375\" id=\"E4\" style=\"stroke: #383838; stroke-width: 1.5;\" width=\"79\" x=\"78.5\" y=\"41\"/><text fill=\"#000000\" font-family=\"sans-serif\" font-size=\"12\" font-style=\"italic\" lengthAdjust=\"spacingAndGlyphs\" textLength=\"77\" x=\"79.5\" y=\"57.1387\">«action def»</text><text fill=\"#000000\" font-family=\"sans-serif\" font-size=\"12\" lengthAdjust=\"spacingAndGlyphs\" textLength=\"27\" x=\"104.5\" y=\"71.1074\">setX</text><line style=\"stroke: #383838; stroke-width: 1.5;\" x1=\"79.5\" x2=\"156.5\" y1=\"78.9375\" y2=\"78.9375\"/></a><!--MD5=[209b3feb70ccb6233bfe1053d122c12c]\n",
       "reverse link E2 to E3--><a href=\"psysml:54ab6d27-8883-4622-a03e-a53956db7fe1\" target=\"_top\" title=\"psysml:54ab6d27-8883-4622-a03e-a53956db7fe1\" xlink:actuate=\"onRequest\" xlink:href=\"psysml:54ab6d27-8883-4622-a03e-a53956db7fe1\" xlink:show=\"new\" xlink:title=\"psysml:54ab6d27-8883-4622-a03e-a53956db7fe1\" xlink:type=\"simple\"><path d=\"M118,253.76 C118,270.17 118,287.52 118,300.75 \" fill=\"none\" id=\"E2&lt;-E3\" style=\"stroke: #383838; stroke-width: 1.0;\"/><polygon fill=\"#383838\" points=\"118,240.31,114,246.31,118,252.31,122,246.31,118,240.31\" style=\"stroke: #383838; stroke-width: 1.0;\"/><text fill=\"#000000\" font-family=\"sans-serif\" font-size=\"13\" lengthAdjust=\"spacingAndGlyphs\" textLength=\"7\" x=\"110.1031\" y=\"289.9622\">*</text></a><!--MD5=[ddeed8deb2209213b62e6cfabaa108b2]\n",
       "reverse link E4 to E2--><a href=\"psysml:6b50cc19-3c51-4fdc-acb9-7cb54732aaba\" target=\"_top\" title=\"psysml:6b50cc19-3c51-4fdc-acb9-7cb54732aaba\" xlink:actuate=\"onRequest\" xlink:href=\"psysml:6b50cc19-3c51-4fdc-acb9-7cb54732aaba\" xlink:show=\"new\" xlink:title=\"psysml:6b50cc19-3c51-4fdc-acb9-7cb54732aaba\" xlink:type=\"simple\"><path d=\"M118,100.42 C118,119.95 118,144.19 118,163.97 \" fill=\"none\" id=\"E4&lt;-E2\" style=\"stroke: #383838; stroke-width: 1.0;\"/><polygon fill=\"#FFFFFF\" points=\"118,87.15,114,93.15,118,99.15,122,93.15,118,87.15\" style=\"stroke: #383838; stroke-width: 1.0;\"/><text fill=\"#000000\" font-family=\"sans-serif\" font-size=\"13\" lengthAdjust=\"spacingAndGlyphs\" textLength=\"7\" x=\"119\" y=\"130.0669\">c</text></a><!--MD5=[84a7a173a3e64719a736098c42c81e0c]\n",
       "@startuml\r\n",
       "skinparam linetype polyline\r\n",
       "skinparam monochrome true\r\n",
       "skinparam classbackgroundcolor white\r\n",
       "skinparam shadowing false\r\n",
       "skinparam wrapWidth 300\r\n",
       "hide circle\r\n",
       "\r\n",
       "package \"TextualRepresentationTest\" as E1  [[psysml:806baf2e-ef33-48f4-9893-87a395ee6712 ]]  {\r\n",
       "comp def \"C\" as E2  <<(T,blue) item def>> [[psysml:7ed521f9-b82c-428e-a042-7cd99724445f ]] {\r\n",
       "- - attributes - -\r\n",
       "x: Real\r\n",
       "}\r\n",
       "comp usage \"x_constraint\" as E3  <<(T,blue) assertConstraint>> [[psysml:f29a45b1-01e5-48c9-895e-094b774cc27f ]] {\r\n",
       "}\r\n",
       "comp def \"setX\" as E4  <<(T,blue) action def>> [[psysml:55b9c562-7faa-4cb8-ac86-d366721fd3cf ]] {\r\n",
       "}\r\n",
       "}\r\n",
       "E2 *- - \"*\"E3 [[psysml:54ab6d27-8883-4622-a03e-a53956db7fe1 ]] \r\n",
       "E4 o- - E2 [[psysml:6b50cc19-3c51-4fdc-acb9-7cb54732aaba ]] : c\r\n",
       "@enduml\r\n",
       "\n",
       "PlantUML version 1.2020.13(Sat Jun 13 12:26:38 UTC 2020)\n",
       "(EPL source distribution)\n",
       "Java Runtime: OpenJDK Runtime Environment\n",
       "JVM: OpenJDK 64-Bit Server VM\n",
       "Default Encoding: UTF-8\n",
       "Language: en\n",
       "Country: null\n",
       "--></g></svg>"
      ]
     },
     "execution_count": 10,
     "metadata": {},
     "output_type": "execute_result"
    }
   ],
   "source": [
    "%viz --style=\"POLYLINE\" --view=\"Tree\" \"TextualRepresentationTest\""
   ]
  },
  {
   "cell_type": "code",
   "execution_count": 11,
   "id": "35ee5dad",
   "metadata": {
    "execution": {
     "iopub.execute_input": "2021-10-03T08:29:33.983436Z",
     "iopub.status.busy": "2021-10-03T08:29:33.983032Z",
     "iopub.status.idle": "2021-10-03T08:29:33.989581Z",
     "shell.execute_reply": "2021-10-03T08:29:33.989899Z"
    }
   },
   "outputs": [
    {
     "data": {
      "image/svg+xml": [
       "<?xml version=\"1.0\" encoding=\"UTF-8\" standalone=\"no\"?><svg xmlns=\"http://www.w3.org/2000/svg\" xmlns:xlink=\"http://www.w3.org/1999/xlink\" contentScriptType=\"application/ecmascript\" contentStyleType=\"text/css\" height=\"12px\" preserveAspectRatio=\"none\" style=\"width:12px;height:12px;\" version=\"1.1\" viewBox=\"0 0 12 12\" width=\"12px\" zoomAndPan=\"magnify\"><defs/><g><!--MD5=[896ac0e7a515d8dd7765a661cb4ee08b]\n",
       "@startuml\r\n",
       "skinparam linetype polyline\r\n",
       "skinparam monochrome true\r\n",
       "skinparam classbackgroundcolor white\r\n",
       "skinparam shadowing false\r\n",
       "skinparam wrapWidth 300\r\n",
       "hide circle\r\n",
       "\r\n",
       "@enduml\r\n",
       "\n",
       "PlantUML version 1.2020.13(Sat Jun 13 12:26:38 UTC 2020)\n",
       "(EPL source distribution)\n",
       "Java Runtime: OpenJDK Runtime Environment\n",
       "JVM: OpenJDK 64-Bit Server VM\n",
       "Default Encoding: UTF-8\n",
       "Language: en\n",
       "Country: null\n",
       "--></g></svg>"
      ]
     },
     "execution_count": 11,
     "metadata": {},
     "output_type": "execute_result"
    }
   ],
   "source": [
    "%viz --style=\"POLYLINE\" --view=\"State\" \"TextualRepresentationTest\""
   ]
  },
  {
   "cell_type": "code",
   "execution_count": 12,
   "id": "a7d77d41",
   "metadata": {
    "execution": {
     "iopub.execute_input": "2021-10-03T08:29:34.039817Z",
     "iopub.status.busy": "2021-10-03T08:29:34.039406Z",
     "iopub.status.idle": "2021-10-03T08:29:34.072646Z",
     "shell.execute_reply": "2021-10-03T08:29:34.072961Z"
    }
   },
   "outputs": [
    {
     "data": {
      "image/svg+xml": [
       "<?xml version=\"1.0\" encoding=\"UTF-8\" standalone=\"no\"?><svg xmlns=\"http://www.w3.org/2000/svg\" xmlns:xlink=\"http://www.w3.org/1999/xlink\" contentScriptType=\"application/ecmascript\" contentStyleType=\"text/css\" height=\"179px\" preserveAspectRatio=\"none\" style=\"width:284px;height:179px;\" version=\"1.1\" viewBox=\"0 0 284 179\" width=\"284px\" zoomAndPan=\"magnify\"><defs/><g><!--MD5=[fbc87193dbaf4d95561dea2c320d4a47]\n",
       "cluster E1--><a href=\"psysml:806baf2e-ef33-48f4-9893-87a395ee6712\" target=\"_top\" title=\"psysml:806baf2e-ef33-48f4-9893-87a395ee6712\" xlink:actuate=\"onRequest\" xlink:href=\"psysml:806baf2e-ef33-48f4-9893-87a395ee6712\" xlink:show=\"new\" xlink:title=\"psysml:806baf2e-ef33-48f4-9893-87a395ee6712\" xlink:type=\"simple\"><polygon fill=\"#FFFFFF\" points=\"16,6,210,6,217,28.2969,262,28.2969,262,167,16,167,16,6\" style=\"stroke: #000000; stroke-width: 1.5;\"/><line style=\"stroke: #000000; stroke-width: 1.5;\" x1=\"16\" x2=\"217\" y1=\"28.2969\" y2=\"28.2969\"/><text fill=\"#000000\" font-family=\"sans-serif\" font-size=\"14\" font-weight=\"bold\" lengthAdjust=\"spacingAndGlyphs\" textLength=\"188\" x=\"20\" y=\"20.9951\">TextualRepresentationTest</text></a><!--MD5=[d5e69f78d87373223dbae638b30a9c99]\n",
       "cluster E3--><a href=\"psysml:55b9c562-7faa-4cb8-ac86-d366721fd3cf\" target=\"_top\" title=\"psysml:55b9c562-7faa-4cb8-ac86-d366721fd3cf\" xlink:actuate=\"onRequest\" xlink:href=\"psysml:55b9c562-7faa-4cb8-ac86-d366721fd3cf\" xlink:show=\"new\" xlink:title=\"psysml:55b9c562-7faa-4cb8-ac86-d366721fd3cf\" xlink:type=\"simple\"><rect fill=\"#FFFFFF\" height=\"88.5\" id=\"E3\" style=\"stroke: #383838; stroke-width: 1.5;\" width=\"96\" x=\"120.5\" y=\"62.5\"/><rect fill=\"#F8F8F8\" height=\"37.9375\" style=\"stroke: #383838; stroke-width: 1.5;\" width=\"96\" x=\"120.5\" y=\"62.5\"/><text fill=\"#000000\" font-family=\"sans-serif\" font-size=\"12\" font-style=\"italic\" lengthAdjust=\"spacingAndGlyphs\" textLength=\"77\" x=\"130\" y=\"78.6387\">«action def»</text><text fill=\"#000000\" font-family=\"sans-serif\" font-size=\"12\" lengthAdjust=\"spacingAndGlyphs\" textLength=\"27\" x=\"155\" y=\"92.6074\">setX</text></a><g id=\"E1.E2\"><a href=\"psysml:7ed521f9-b82c-428e-a042-7cd99724445f\" target=\"_top\" title=\"psysml:7ed521f9-b82c-428e-a042-7cd99724445f\" xlink:actuate=\"onRequest\" xlink:href=\"psysml:7ed521f9-b82c-428e-a042-7cd99724445f\" xlink:show=\"new\" xlink:title=\"psysml:7ed521f9-b82c-428e-a042-7cd99724445f\" xlink:type=\"simple\"><rect fill=\"#FFFFFF\" height=\"42.9375\" id=\"E2\" style=\"stroke: #383838; stroke-width: 1.5;\" width=\"72\" x=\"32\" y=\"41\"/><rect fill=\"#F8F8F8\" height=\"37.9375\" style=\"stroke: #383838; stroke-width: 1.5;\" width=\"72\" x=\"32\" y=\"41\"/><text fill=\"#000000\" font-family=\"sans-serif\" font-size=\"12\" font-style=\"italic\" lengthAdjust=\"spacingAndGlyphs\" textLength=\"65\" x=\"35.5\" y=\"57.1387\">«item def»</text><text fill=\"#000000\" font-family=\"sans-serif\" font-size=\"12\" lengthAdjust=\"spacingAndGlyphs\" textLength=\"8\" x=\"64\" y=\"71.1074\">C</text></a></g><text fill=\"#000000\" font-family=\"sans-serif\" font-size=\"14\" lengthAdjust=\"spacingAndGlyphs\" textLength=\"8\" x=\"141\" y=\"41.1982\">c</text><rect fill=\"#383838\" height=\"12\" style=\"stroke: #F8F8F8; stroke-width: 1.5;\" width=\"12\" x=\"139\" y=\"56.5\"/><text fill=\"#000000\" font-family=\"sans-serif\" font-size=\"14\" lengthAdjust=\"spacingAndGlyphs\" textLength=\"38\" x=\"173\" y=\"41.1982\">newX</text><rect fill=\"#383838\" height=\"12\" style=\"stroke: #F8F8F8; stroke-width: 1.5;\" width=\"12\" x=\"186\" y=\"56.5\"/><!--MD5=[e688289487d02ed7e972bcdd98ca3935]\n",
       "@startuml\r\n",
       "skinparam ranksep 10\r\n",
       "skinparam rectangle {\r\n",
       " backgroundColor<<block>> LightGreen\r\n",
       "}\r\n",
       "skinparam linetype polyline\r\n",
       "skinparam monochrome true\r\n",
       "skinparam classbackgroundcolor white\r\n",
       "skinparam shadowing false\r\n",
       "skinparam wrapWidth 300\r\n",
       "hide circle\r\n",
       "\r\n",
       "package \"TextualRepresentationTest\" as E1  [[psysml:806baf2e-ef33-48f4-9893-87a395ee6712 ]]  {\r\n",
       "def \"C\" as E2  <<(T,blue) item def>> [[psysml:7ed521f9-b82c-428e-a042-7cd99724445f ]] \r\n",
       "rec def \"setX\" as E3  <<(T,blue) action def>> [[psysml:55b9c562-7faa-4cb8-ac86-d366721fd3cf ]] {\r\n",
       "portin \"c\" as E4  [[psysml:6b50cc19-3c51-4fdc-acb9-7cb54732aaba ]] \r\n",
       "portin \"newX\" as E5  [[psysml:036e652a-b19a-4307-ba90-1008950a3600 ]] \r\n",
       "}\r\n",
       "\r\n",
       "}\r\n",
       "@enduml\r\n",
       "\n",
       "PlantUML version 1.2020.13(Sat Jun 13 12:26:38 UTC 2020)\n",
       "(EPL source distribution)\n",
       "Java Runtime: OpenJDK Runtime Environment\n",
       "JVM: OpenJDK 64-Bit Server VM\n",
       "Default Encoding: UTF-8\n",
       "Language: en\n",
       "Country: null\n",
       "--></g></svg>"
      ]
     },
     "execution_count": 12,
     "metadata": {},
     "output_type": "execute_result"
    }
   ],
   "source": [
    "%viz --style=\"POLYLINE\" --view=\"Interconnection\" \"TextualRepresentationTest\""
   ]
  },
  {
   "cell_type": "code",
   "execution_count": 13,
   "id": "443fcc41",
   "metadata": {
    "execution": {
     "iopub.execute_input": "2021-10-03T08:29:34.122845Z",
     "iopub.status.busy": "2021-10-03T08:29:34.122439Z",
     "iopub.status.idle": "2021-10-03T08:29:34.147597Z",
     "shell.execute_reply": "2021-10-03T08:29:34.147932Z"
    }
   },
   "outputs": [
    {
     "data": {
      "image/svg+xml": [
       "<?xml version=\"1.0\" encoding=\"UTF-8\" standalone=\"no\"?><svg xmlns=\"http://www.w3.org/2000/svg\" xmlns:xlink=\"http://www.w3.org/1999/xlink\" contentScriptType=\"application/ecmascript\" contentStyleType=\"text/css\" height=\"126px\" preserveAspectRatio=\"none\" style=\"width:150px;height:126px;\" version=\"1.1\" viewBox=\"0 0 150 126\" width=\"150px\" zoomAndPan=\"magnify\"><defs/><g><!--MD5=[fbc87193dbaf4d95561dea2c320d4a47]\n",
       "cluster E1--><a href=\"psysml:55b9c562-7faa-4cb8-ac86-d366721fd3cf\" target=\"_top\" title=\"psysml:55b9c562-7faa-4cb8-ac86-d366721fd3cf\" xlink:actuate=\"onRequest\" xlink:href=\"psysml:55b9c562-7faa-4cb8-ac86-d366721fd3cf\" xlink:show=\"new\" xlink:title=\"psysml:55b9c562-7faa-4cb8-ac86-d366721fd3cf\" xlink:type=\"simple\"><rect fill=\"#FFFFFF\" height=\"73\" id=\"E1\" style=\"stroke: #383838; stroke-width: 1.5;\" width=\"132\" x=\"7\" y=\"42.0986\"/><rect fill=\"#F8F8F8\" height=\"37.9375\" style=\"stroke: #383838; stroke-width: 1.5;\" width=\"132\" x=\"7\" y=\"42.0986\"/><text fill=\"#000000\" font-family=\"sans-serif\" font-size=\"12\" font-style=\"italic\" lengthAdjust=\"spacingAndGlyphs\" textLength=\"77\" x=\"34.5\" y=\"58.2373\">«action def»</text><text fill=\"#000000\" font-family=\"sans-serif\" font-size=\"12\" lengthAdjust=\"spacingAndGlyphs\" textLength=\"27\" x=\"59.5\" y=\"72.2061\">setX</text></a><text fill=\"#000000\" font-family=\"sans-serif\" font-size=\"14\" lengthAdjust=\"spacingAndGlyphs\" textLength=\"8\" x=\"21\" y=\"20.7969\">c</text><rect fill=\"#383838\" height=\"12\" style=\"stroke: #F8F8F8; stroke-width: 1.5;\" width=\"12\" x=\"19\" y=\"36.0986\"/><text fill=\"#000000\" font-family=\"sans-serif\" font-size=\"14\" lengthAdjust=\"spacingAndGlyphs\" textLength=\"38\" x=\"53\" y=\"20.7969\">newX</text><rect fill=\"#383838\" height=\"12\" style=\"stroke: #F8F8F8; stroke-width: 1.5;\" width=\"12\" x=\"66\" y=\"36.0986\"/><!--MD5=[14cd69d2826968f94170248e97c53692]\n",
       "@startuml\r\n",
       "skinparam ranksep 8\r\n",
       "skinparam linetype polyline\r\n",
       "skinparam monochrome true\r\n",
       "skinparam classbackgroundcolor white\r\n",
       "skinparam shadowing false\r\n",
       "skinparam wrapWidth 300\r\n",
       "hide circle\r\n",
       "\r\n",
       "rec def \"setX\" as E1  <<(T,blue) action def>> [[psysml:55b9c562-7faa-4cb8-ac86-d366721fd3cf ]] {\r\n",
       "portin \"c\" as E2  [[psysml:6b50cc19-3c51-4fdc-acb9-7cb54732aaba ]] \r\n",
       "portin \"newX\" as E3  [[psysml:036e652a-b19a-4307-ba90-1008950a3600 ]] \r\n",
       "}\r\n",
       "\r\n",
       "@enduml\r\n",
       "\n",
       "PlantUML version 1.2020.13(Sat Jun 13 12:26:38 UTC 2020)\n",
       "(EPL source distribution)\n",
       "Java Runtime: OpenJDK Runtime Environment\n",
       "JVM: OpenJDK 64-Bit Server VM\n",
       "Default Encoding: UTF-8\n",
       "Language: en\n",
       "Country: null\n",
       "--></g></svg>"
      ]
     },
     "execution_count": 13,
     "metadata": {},
     "output_type": "execute_result"
    }
   ],
   "source": [
    "%viz --style=\"POLYLINE\" --view=\"Action\" \"TextualRepresentationTest\""
   ]
  },
  {
   "cell_type": "code",
   "execution_count": 14,
   "id": "36b607d3",
   "metadata": {
    "execution": {
     "iopub.execute_input": "2021-10-03T08:29:34.197441Z",
     "iopub.status.busy": "2021-10-03T08:29:34.197038Z",
     "iopub.status.idle": "2021-10-03T08:29:34.203528Z",
     "shell.execute_reply": "2021-10-03T08:29:34.203853Z"
    }
   },
   "outputs": [
    {
     "data": {
      "image/svg+xml": [
       "<?xml version=\"1.0\" encoding=\"UTF-8\" standalone=\"no\"?><svg xmlns=\"http://www.w3.org/2000/svg\" xmlns:xlink=\"http://www.w3.org/1999/xlink\" contentScriptType=\"application/ecmascript\" contentStyleType=\"text/css\" height=\"12px\" preserveAspectRatio=\"none\" style=\"width:12px;height:12px;\" version=\"1.1\" viewBox=\"0 0 12 12\" width=\"12px\" zoomAndPan=\"magnify\"><defs/><g><!--MD5=[dc938048236c351797870c36b62f92ad]\n",
       "@startuml\r\n",
       "skinparam roundcorner 20\r\n",
       "skinparam BoxPadding 20\r\n",
       "skinparam SequenceBoxBackgroundColor #white\r\n",
       "skinparam style strictuml\r\n",
       "skinparam maxMessageSize 100\r\n",
       "skinparam linetype polyline\r\n",
       "skinparam monochrome true\r\n",
       "skinparam classbackgroundcolor white\r\n",
       "skinparam shadowing false\r\n",
       "skinparam wrapWidth 300\r\n",
       "hide circle\r\n",
       "\r\n",
       "@enduml\r\n",
       "\n",
       "PlantUML version 1.2020.13(Sat Jun 13 12:26:38 UTC 2020)\n",
       "(EPL source distribution)\n",
       "Java Runtime: OpenJDK Runtime Environment\n",
       "JVM: OpenJDK 64-Bit Server VM\n",
       "Default Encoding: UTF-8\n",
       "Language: en\n",
       "Country: null\n",
       "--></g></svg>"
      ]
     },
     "execution_count": 14,
     "metadata": {},
     "output_type": "execute_result"
    }
   ],
   "source": [
    "%viz --style=\"POLYLINE\" --view=\"Sequence\" \"TextualRepresentationTest\""
   ]
  },
  {
   "cell_type": "code",
   "execution_count": 15,
   "id": "91829936",
   "metadata": {
    "execution": {
     "iopub.execute_input": "2021-10-03T08:29:34.253510Z",
     "iopub.status.busy": "2021-10-03T08:29:34.253119Z",
     "iopub.status.idle": "2021-10-03T08:29:34.302467Z",
     "shell.execute_reply": "2021-10-03T08:29:34.300878Z"
    }
   },
   "outputs": [
    {
     "data": {
      "image/svg+xml": [
       "<?xml version=\"1.0\" encoding=\"UTF-8\" standalone=\"no\"?><svg xmlns=\"http://www.w3.org/2000/svg\" xmlns:xlink=\"http://www.w3.org/1999/xlink\" contentScriptType=\"application/ecmascript\" contentStyleType=\"text/css\" height=\"261px\" preserveAspectRatio=\"none\" style=\"width:345px;height:261px;\" version=\"1.1\" viewBox=\"0 0 345 261\" width=\"345px\" zoomAndPan=\"magnify\"><defs/><g><!--MD5=[fbc87193dbaf4d95561dea2c320d4a47]\n",
       "cluster E1--><a href=\"psysml:806baf2e-ef33-48f4-9893-87a395ee6712\" target=\"_top\" title=\"psysml:806baf2e-ef33-48f4-9893-87a395ee6712\" xlink:actuate=\"onRequest\" xlink:href=\"psysml:806baf2e-ef33-48f4-9893-87a395ee6712\" xlink:show=\"new\" xlink:title=\"psysml:806baf2e-ef33-48f4-9893-87a395ee6712\" xlink:type=\"simple\"><polygon fill=\"#FFFFFF\" points=\"16,6,210,6,217,28.2969,323,28.2969,323,249.5,16,249.5,16,6\" style=\"stroke: #000000; stroke-width: 1.5;\"/><line style=\"stroke: #000000; stroke-width: 1.5;\" x1=\"16\" x2=\"217\" y1=\"28.2969\" y2=\"28.2969\"/><text fill=\"#000000\" font-family=\"sans-serif\" font-size=\"14\" font-weight=\"bold\" lengthAdjust=\"spacingAndGlyphs\" textLength=\"188\" x=\"20\" y=\"20.9951\">TextualRepresentationTest</text></a><!--MD5=[f6df4d0ebaf0b5dfb2ced0ae5af7c670]\n",
       "cluster E4--><a href=\"psysml:55b9c562-7faa-4cb8-ac86-d366721fd3cf\" target=\"_top\" title=\"psysml:55b9c562-7faa-4cb8-ac86-d366721fd3cf\" xlink:actuate=\"onRequest\" xlink:href=\"psysml:55b9c562-7faa-4cb8-ac86-d366721fd3cf\" xlink:show=\"new\" xlink:title=\"psysml:55b9c562-7faa-4cb8-ac86-d366721fd3cf\" xlink:type=\"simple\"><rect fill=\"#FFFFFF\" height=\"154.5\" id=\"E4\" style=\"stroke: #383838; stroke-width: 1.5;\" width=\"132\" x=\"175\" y=\"79\"/><rect fill=\"#F8F8F8\" height=\"37.9375\" style=\"stroke: #383838; stroke-width: 1.5;\" width=\"132\" x=\"175\" y=\"79\"/><text fill=\"#000000\" font-family=\"sans-serif\" font-size=\"12\" font-style=\"italic\" lengthAdjust=\"spacingAndGlyphs\" textLength=\"77\" x=\"202.5\" y=\"95.1387\">«action def»</text><text fill=\"#000000\" font-family=\"sans-serif\" font-size=\"12\" lengthAdjust=\"spacingAndGlyphs\" textLength=\"27\" x=\"227.5\" y=\"109.1074\">setX</text></a><!--MD5=[b4997ac47864f28c2f74865a473b2911]\n",
       "class E2--><a href=\"psysml:7ed521f9-b82c-428e-a042-7cd99724445f\" target=\"_top\" title=\"psysml:7ed521f9-b82c-428e-a042-7cd99724445f\" xlink:actuate=\"onRequest\" xlink:href=\"psysml:7ed521f9-b82c-428e-a042-7cd99724445f\" xlink:show=\"new\" xlink:title=\"psysml:7ed521f9-b82c-428e-a042-7cd99724445f\" xlink:type=\"simple\"><rect fill=\"#FFFFFF\" height=\"75.5469\" id=\"E2\" style=\"stroke: #383838; stroke-width: 1.5;\" width=\"67\" x=\"59.5\" y=\"41\"/><text fill=\"#000000\" font-family=\"sans-serif\" font-size=\"12\" font-style=\"italic\" lengthAdjust=\"spacingAndGlyphs\" textLength=\"65\" x=\"60.5\" y=\"57.1387\">«item def»</text><text fill=\"#000000\" font-family=\"sans-serif\" font-size=\"12\" lengthAdjust=\"spacingAndGlyphs\" textLength=\"8\" x=\"89\" y=\"71.1074\">C</text><line style=\"stroke: #383838; stroke-width: 1.5;\" x1=\"60.5\" x2=\"125.5\" y1=\"78.9375\" y2=\"78.9375\"/><text fill=\"#000000\" font-family=\"sans-serif\" font-size=\"11\" lengthAdjust=\"spacingAndGlyphs\" textLength=\"38\" x=\"65.5\" y=\"109.9526\">x: Real</text><line style=\"stroke: #383838; stroke-width: 1.0;\" x1=\"60.5\" x2=\"65.5\" y1=\"93.3398\" y2=\"93.3398\"/><text fill=\"#000000\" font-family=\"sans-serif\" font-size=\"11\" lengthAdjust=\"spacingAndGlyphs\" textLength=\"55\" x=\"65.5\" y=\"96.6479\">attributes</text><line style=\"stroke: #383838; stroke-width: 1.0;\" x1=\"120.5\" x2=\"125.5\" y1=\"93.3398\" y2=\"93.3398\"/></a><!--MD5=[09b614a08d8cba4a07c9adeb5e0fee81]\n",
       "class E3--><a href=\"psysml:f29a45b1-01e5-48c9-895e-094b774cc27f\" target=\"_top\" title=\"psysml:f29a45b1-01e5-48c9-895e-094b774cc27f\" xlink:actuate=\"onRequest\" xlink:href=\"psysml:f29a45b1-01e5-48c9-895e-094b774cc27f\" xlink:show=\"new\" xlink:title=\"psysml:f29a45b1-01e5-48c9-895e-094b774cc27f\" xlink:type=\"simple\"><rect fill=\"#FFFFFF\" height=\"45.9375\" id=\"E3\" rx=\"10\" ry=\"10\" style=\"stroke: #383838; stroke-width: 1.5;\" width=\"121\" x=\"32.5\" y=\"177\"/><text fill=\"#000000\" font-family=\"sans-serif\" font-size=\"12\" font-style=\"italic\" lengthAdjust=\"spacingAndGlyphs\" textLength=\"119\" x=\"33.5\" y=\"193.1387\">«assertConstraint»</text><text fill=\"#000000\" font-family=\"sans-serif\" font-size=\"12\" lengthAdjust=\"spacingAndGlyphs\" textLength=\"76\" x=\"55\" y=\"207.1074\">x_constraint</text><line style=\"stroke: #383838; stroke-width: 1.5;\" x1=\"33.5\" x2=\"152.5\" y1=\"214.9375\" y2=\"214.9375\"/></a><text fill=\"#000000\" font-family=\"sans-serif\" font-size=\"14\" lengthAdjust=\"spacingAndGlyphs\" textLength=\"8\" x=\"189\" y=\"57.6982\">c</text><rect fill=\"#383838\" height=\"12\" style=\"stroke: #F8F8F8; stroke-width: 1.5;\" width=\"12\" x=\"187\" y=\"73\"/><text fill=\"#000000\" font-family=\"sans-serif\" font-size=\"14\" lengthAdjust=\"spacingAndGlyphs\" textLength=\"38\" x=\"221\" y=\"57.6982\">newX</text><rect fill=\"#383838\" height=\"12\" style=\"stroke: #F8F8F8; stroke-width: 1.5;\" width=\"12\" x=\"234\" y=\"73\"/><!--MD5=[209b3feb70ccb6233bfe1053d122c12c]\n",
       "reverse link E2 to E3--><a href=\"psysml:54ab6d27-8883-4622-a03e-a53956db7fe1\" target=\"_top\" title=\"psysml:54ab6d27-8883-4622-a03e-a53956db7fe1\" xlink:actuate=\"onRequest\" xlink:href=\"psysml:54ab6d27-8883-4622-a03e-a53956db7fe1\" xlink:show=\"new\" xlink:title=\"psysml:54ab6d27-8883-4622-a03e-a53956db7fe1\" xlink:type=\"simple\"><path d=\"M93,130.34 C93,146.61 93,163.81 93,176.93 \" fill=\"none\" id=\"E2&lt;-E3\" style=\"stroke: #383838; stroke-width: 1.0;\"/><polygon fill=\"#383838\" points=\"93,117,89,123,93,129,97,123,93,117\" style=\"stroke: #383838; stroke-width: 1.0;\"/><text fill=\"#000000\" font-family=\"sans-serif\" font-size=\"13\" lengthAdjust=\"spacingAndGlyphs\" textLength=\"7\" x=\"85.0594\" y=\"165.8075\">*</text></a><!--MD5=[52f8307fe519b2891b101e454cd1aa47]\n",
       "@startuml\r\n",
       "skinparam linetype polyline\r\n",
       "skinparam monochrome true\r\n",
       "skinparam classbackgroundcolor white\r\n",
       "skinparam shadowing false\r\n",
       "skinparam wrapWidth 300\r\n",
       "hide circle\r\n",
       "\r\n",
       "package \"TextualRepresentationTest\" as E1  [[psysml:806baf2e-ef33-48f4-9893-87a395ee6712 ]]  {\r\n",
       "comp def \"C\" as E2  <<(T,blue) item def>> [[psysml:7ed521f9-b82c-428e-a042-7cd99724445f ]] {\r\n",
       "- - attributes - -\r\n",
       "x: Real\r\n",
       "}\r\n",
       "comp usage \"x_constraint\" as E3  <<(T,blue) assertConstraint>> [[psysml:f29a45b1-01e5-48c9-895e-094b774cc27f ]] {\r\n",
       "}\r\n",
       "rec def \"setX\" as E4  <<(T,blue) action def>> [[psysml:55b9c562-7faa-4cb8-ac86-d366721fd3cf ]] {\r\n",
       "portin \"c\" as E5  [[psysml:6b50cc19-3c51-4fdc-acb9-7cb54732aaba ]] \r\n",
       "portin \"newX\" as E6  [[psysml:036e652a-b19a-4307-ba90-1008950a3600 ]] \r\n",
       "}\r\n",
       "\r\n",
       "}\r\n",
       "E2 *- - \"*\"E3 [[psysml:54ab6d27-8883-4622-a03e-a53956db7fe1 ]] \r\n",
       "@enduml\r\n",
       "\n",
       "PlantUML version 1.2020.13(Sat Jun 13 12:26:38 UTC 2020)\n",
       "(EPL source distribution)\n",
       "Java Runtime: OpenJDK Runtime Environment\n",
       "JVM: OpenJDK 64-Bit Server VM\n",
       "Default Encoding: UTF-8\n",
       "Language: en\n",
       "Country: null\n",
       "--></g></svg>"
      ]
     },
     "execution_count": 15,
     "metadata": {},
     "output_type": "execute_result"
    }
   ],
   "source": [
    "%viz --style=\"POLYLINE\" --view=\"MIXED\" \"TextualRepresentationTest\""
   ]
  },
  {
   "cell_type": "code",
   "execution_count": 16,
   "id": "62f486f8",
   "metadata": {
    "execution": {
     "iopub.execute_input": "2021-10-03T08:29:34.352164Z",
     "iopub.status.busy": "2021-10-03T08:29:34.351763Z",
     "iopub.status.idle": "2021-10-03T08:29:34.399967Z",
     "shell.execute_reply": "2021-10-03T08:29:34.399578Z"
    }
   },
   "outputs": [
    {
     "data": {
      "image/svg+xml": [
       "<?xml version=\"1.0\" encoding=\"UTF-8\" standalone=\"no\"?><svg xmlns=\"http://www.w3.org/2000/svg\" xmlns:xlink=\"http://www.w3.org/1999/xlink\" contentScriptType=\"application/ecmascript\" contentStyleType=\"text/css\" height=\"247px\" preserveAspectRatio=\"none\" style=\"width:324px;height:247px;\" version=\"1.1\" viewBox=\"0 0 324 247\" width=\"324px\" zoomAndPan=\"magnify\"><defs/><g><!--MD5=[fbc87193dbaf4d95561dea2c320d4a47]\n",
       "cluster E1--><a href=\"psysml:806baf2e-ef33-48f4-9893-87a395ee6712\" target=\"_top\" title=\"psysml:806baf2e-ef33-48f4-9893-87a395ee6712\" xlink:actuate=\"onRequest\" xlink:href=\"psysml:806baf2e-ef33-48f4-9893-87a395ee6712\" xlink:show=\"new\" xlink:title=\"psysml:806baf2e-ef33-48f4-9893-87a395ee6712\" xlink:type=\"simple\"><polygon fill=\"#FFFFFF\" points=\"16,6,210,6,217,28.2969,302.5,28.2969,302.5,235,16,235,16,6\" style=\"stroke: #000000; stroke-width: 1.5;\"/><line style=\"stroke: #000000; stroke-width: 1.5;\" x1=\"16\" x2=\"217\" y1=\"28.2969\" y2=\"28.2969\"/><text fill=\"#000000\" font-family=\"sans-serif\" font-size=\"14\" font-weight=\"bold\" lengthAdjust=\"spacingAndGlyphs\" textLength=\"188\" x=\"20\" y=\"20.9951\">TextualRepresentationTest</text></a><!--MD5=[f6df4d0ebaf0b5dfb2ced0ae5af7c670]\n",
       "cluster E4--><a href=\"psysml:55b9c562-7faa-4cb8-ac86-d366721fd3cf\" target=\"_top\" title=\"psysml:55b9c562-7faa-4cb8-ac86-d366721fd3cf\" xlink:actuate=\"onRequest\" xlink:href=\"psysml:55b9c562-7faa-4cb8-ac86-d366721fd3cf\" xlink:show=\"new\" xlink:title=\"psysml:55b9c562-7faa-4cb8-ac86-d366721fd3cf\" xlink:type=\"simple\"><rect fill=\"#FFFFFF\" height=\"47\" id=\"E4\" style=\"stroke: #383838; stroke-width: 1.5;\" width=\"239\" x=\"47.5\" y=\"55\"/><rect fill=\"#F8F8F8\" height=\"37.9375\" style=\"stroke: #383838; stroke-width: 1.5;\" width=\"239\" x=\"47.5\" y=\"55\"/><text fill=\"#000000\" font-family=\"sans-serif\" font-size=\"12\" font-style=\"italic\" lengthAdjust=\"spacingAndGlyphs\" textLength=\"77\" x=\"128.5\" y=\"71.1387\">«action def»</text><text fill=\"#000000\" font-family=\"sans-serif\" font-size=\"12\" lengthAdjust=\"spacingAndGlyphs\" textLength=\"27\" x=\"153.5\" y=\"85.1074\">setX</text></a><!--MD5=[b4997ac47864f28c2f74865a473b2911]\n",
       "class E2--><a href=\"psysml:7ed521f9-b82c-428e-a042-7cd99724445f\" target=\"_top\" title=\"psysml:7ed521f9-b82c-428e-a042-7cd99724445f\" xlink:actuate=\"onRequest\" xlink:href=\"psysml:7ed521f9-b82c-428e-a042-7cd99724445f\" xlink:show=\"new\" xlink:title=\"psysml:7ed521f9-b82c-428e-a042-7cd99724445f\" xlink:type=\"simple\"><rect fill=\"#FFFFFF\" height=\"75.5469\" id=\"E2\" style=\"stroke: #383838; stroke-width: 1.5;\" width=\"67\" x=\"32\" y=\"143\"/><text fill=\"#000000\" font-family=\"sans-serif\" font-size=\"12\" font-style=\"italic\" lengthAdjust=\"spacingAndGlyphs\" textLength=\"65\" x=\"33\" y=\"159.1387\">«item def»</text><text fill=\"#000000\" font-family=\"sans-serif\" font-size=\"12\" lengthAdjust=\"spacingAndGlyphs\" textLength=\"8\" x=\"61.5\" y=\"173.1074\">C</text><line style=\"stroke: #383838; stroke-width: 1.5;\" x1=\"33\" x2=\"98\" y1=\"180.9375\" y2=\"180.9375\"/><text fill=\"#000000\" font-family=\"sans-serif\" font-size=\"11\" lengthAdjust=\"spacingAndGlyphs\" textLength=\"38\" x=\"38\" y=\"211.9526\">x: Real</text><line style=\"stroke: #383838; stroke-width: 1.0;\" x1=\"33\" x2=\"38\" y1=\"195.3398\" y2=\"195.3398\"/><text fill=\"#000000\" font-family=\"sans-serif\" font-size=\"11\" lengthAdjust=\"spacingAndGlyphs\" textLength=\"55\" x=\"38\" y=\"198.6479\">attributes</text><line style=\"stroke: #383838; stroke-width: 1.0;\" x1=\"93\" x2=\"98\" y1=\"195.3398\" y2=\"195.3398\"/></a><!--MD5=[09b614a08d8cba4a07c9adeb5e0fee81]\n",
       "class E3--><a href=\"psysml:f29a45b1-01e5-48c9-895e-094b774cc27f\" target=\"_top\" title=\"psysml:f29a45b1-01e5-48c9-895e-094b774cc27f\" xlink:actuate=\"onRequest\" xlink:href=\"psysml:f29a45b1-01e5-48c9-895e-094b774cc27f\" xlink:show=\"new\" xlink:title=\"psysml:f29a45b1-01e5-48c9-895e-094b774cc27f\" xlink:type=\"simple\"><rect fill=\"#FFFFFF\" height=\"45.9375\" id=\"E3\" rx=\"10\" ry=\"10\" style=\"stroke: #383838; stroke-width: 1.5;\" width=\"121\" x=\"159\" y=\"158\"/><text fill=\"#000000\" font-family=\"sans-serif\" font-size=\"12\" font-style=\"italic\" lengthAdjust=\"spacingAndGlyphs\" textLength=\"119\" x=\"160\" y=\"174.1387\">«assertConstraint»</text><text fill=\"#000000\" font-family=\"sans-serif\" font-size=\"12\" lengthAdjust=\"spacingAndGlyphs\" textLength=\"76\" x=\"181.5\" y=\"188.1074\">x_constraint</text><line style=\"stroke: #383838; stroke-width: 1.5;\" x1=\"160\" x2=\"279\" y1=\"195.9375\" y2=\"195.9375\"/></a><text fill=\"#000000\" font-family=\"sans-serif\" font-size=\"14\" lengthAdjust=\"spacingAndGlyphs\" textLength=\"8\" x=\"61.5\" y=\"120.9951\">c</text><rect fill=\"#383838\" height=\"12\" style=\"stroke: #F8F8F8; stroke-width: 1.5;\" width=\"12\" x=\"59.5\" y=\"96\"/><text fill=\"#000000\" font-family=\"sans-serif\" font-size=\"14\" lengthAdjust=\"spacingAndGlyphs\" textLength=\"38\" x=\"46.5\" y=\"33.6982\">newX</text><rect fill=\"#383838\" height=\"12\" style=\"stroke: #F8F8F8; stroke-width: 1.5;\" width=\"12\" x=\"59.5\" y=\"49\"/><!--MD5=[209b3feb70ccb6233bfe1053d122c12c]\n",
       "reverse link E2 to E3--><a href=\"psysml:54ab6d27-8883-4622-a03e-a53956db7fe1\" target=\"_top\" title=\"psysml:54ab6d27-8883-4622-a03e-a53956db7fe1\" xlink:actuate=\"onRequest\" xlink:href=\"psysml:54ab6d27-8883-4622-a03e-a53956db7fe1\" xlink:show=\"new\" xlink:title=\"psysml:54ab6d27-8883-4622-a03e-a53956db7fe1\" xlink:type=\"simple\"><path d=\"M112.5,181 C127.13,181 143.52,181 158.96,181 \" fill=\"none\" id=\"E2&lt;-E3\" style=\"stroke: #383838; stroke-width: 1.0;\"/><polygon fill=\"#383838\" points=\"99.11,181,105.11,185,111.11,181,105.11,177,99.11,181\" style=\"stroke: #383838; stroke-width: 1.0;\"/><text fill=\"#000000\" font-family=\"sans-serif\" font-size=\"13\" lengthAdjust=\"spacingAndGlyphs\" textLength=\"7\" x=\"144.1551\" y=\"193.9929\">*</text></a><!--MD5=[5440b475b99d5377f249d43aa13055ed]\n",
       "@startuml\r\n",
       "left to right direction\r\n",
       "skinparam monochrome true\r\n",
       "skinparam classbackgroundcolor white\r\n",
       "skinparam shadowing false\r\n",
       "skinparam wrapWidth 300\r\n",
       "hide circle\r\n",
       "\r\n",
       "package \"TextualRepresentationTest\" as E1  [[psysml:806baf2e-ef33-48f4-9893-87a395ee6712 ]]  {\r\n",
       "comp def \"C\" as E2  <<(T,blue) item def>> [[psysml:7ed521f9-b82c-428e-a042-7cd99724445f ]] {\r\n",
       "- - attributes - -\r\n",
       "x: Real\r\n",
       "}\r\n",
       "comp usage \"x_constraint\" as E3  <<(T,blue) assertConstraint>> [[psysml:f29a45b1-01e5-48c9-895e-094b774cc27f ]] {\r\n",
       "}\r\n",
       "rec def \"setX\" as E4  <<(T,blue) action def>> [[psysml:55b9c562-7faa-4cb8-ac86-d366721fd3cf ]] {\r\n",
       "portin \"c\" as E5  [[psysml:6b50cc19-3c51-4fdc-acb9-7cb54732aaba ]] \r\n",
       "portin \"newX\" as E6  [[psysml:036e652a-b19a-4307-ba90-1008950a3600 ]] \r\n",
       "}\r\n",
       "\r\n",
       "}\r\n",
       "E2 *- - \"*\"E3 [[psysml:54ab6d27-8883-4622-a03e-a53956db7fe1 ]] \r\n",
       "@enduml\r\n",
       "\n",
       "PlantUML version 1.2020.13(Sat Jun 13 12:26:38 UTC 2020)\n",
       "(EPL source distribution)\n",
       "Java Runtime: OpenJDK Runtime Environment\n",
       "JVM: OpenJDK 64-Bit Server VM\n",
       "Default Encoding: UTF-8\n",
       "Language: en\n",
       "Country: null\n",
       "--></g></svg>"
      ]
     },
     "execution_count": 16,
     "metadata": {},
     "output_type": "execute_result"
    }
   ],
   "source": [
    "%viz --style=\"LR\" --view=\"Default\" \"TextualRepresentationTest\""
   ]
  },
  {
   "cell_type": "code",
   "execution_count": 17,
   "id": "9ba4792d",
   "metadata": {
    "execution": {
     "iopub.execute_input": "2021-10-03T08:29:34.449248Z",
     "iopub.status.busy": "2021-10-03T08:29:34.448847Z",
     "iopub.status.idle": "2021-10-03T08:29:34.494057Z",
     "shell.execute_reply": "2021-10-03T08:29:34.493694Z"
    }
   },
   "outputs": [
    {
     "data": {
      "image/svg+xml": [
       "<?xml version=\"1.0\" encoding=\"UTF-8\" standalone=\"no\"?><svg xmlns=\"http://www.w3.org/2000/svg\" xmlns:xlink=\"http://www.w3.org/1999/xlink\" contentScriptType=\"application/ecmascript\" contentStyleType=\"text/css\" height=\"145px\" preserveAspectRatio=\"none\" style=\"width:467px;height:145px;\" version=\"1.1\" viewBox=\"0 0 467 145\" width=\"467px\" zoomAndPan=\"magnify\"><defs/><g><!--MD5=[fbc87193dbaf4d95561dea2c320d4a47]\n",
       "cluster E1--><a href=\"psysml:806baf2e-ef33-48f4-9893-87a395ee6712\" target=\"_top\" title=\"psysml:806baf2e-ef33-48f4-9893-87a395ee6712\" xlink:actuate=\"onRequest\" xlink:href=\"psysml:806baf2e-ef33-48f4-9893-87a395ee6712\" xlink:show=\"new\" xlink:title=\"psysml:806baf2e-ef33-48f4-9893-87a395ee6712\" xlink:type=\"simple\"><polygon fill=\"#FFFFFF\" points=\"16,6,210,6,217,28.2969,445,28.2969,445,133,16,133,16,6\" style=\"stroke: #000000; stroke-width: 1.5;\"/><line style=\"stroke: #000000; stroke-width: 1.5;\" x1=\"16\" x2=\"217\" y1=\"28.2969\" y2=\"28.2969\"/><text fill=\"#000000\" font-family=\"sans-serif\" font-size=\"14\" font-weight=\"bold\" lengthAdjust=\"spacingAndGlyphs\" textLength=\"188\" x=\"20\" y=\"20.9951\">TextualRepresentationTest</text></a><!--MD5=[b4997ac47864f28c2f74865a473b2911]\n",
       "class E2--><a href=\"psysml:7ed521f9-b82c-428e-a042-7cd99724445f\" target=\"_top\" title=\"psysml:7ed521f9-b82c-428e-a042-7cd99724445f\" xlink:actuate=\"onRequest\" xlink:href=\"psysml:7ed521f9-b82c-428e-a042-7cd99724445f\" xlink:show=\"new\" xlink:title=\"psysml:7ed521f9-b82c-428e-a042-7cd99724445f\" xlink:type=\"simple\"><rect fill=\"#FFFFFF\" height=\"75.5469\" id=\"E2\" style=\"stroke: #383838; stroke-width: 1.5;\" width=\"67\" x=\"180\" y=\"41\"/><text fill=\"#000000\" font-family=\"sans-serif\" font-size=\"12\" font-style=\"italic\" lengthAdjust=\"spacingAndGlyphs\" textLength=\"65\" x=\"181\" y=\"57.1387\">«item def»</text><text fill=\"#000000\" font-family=\"sans-serif\" font-size=\"12\" lengthAdjust=\"spacingAndGlyphs\" textLength=\"8\" x=\"209.5\" y=\"71.1074\">C</text><line style=\"stroke: #383838; stroke-width: 1.5;\" x1=\"181\" x2=\"246\" y1=\"78.9375\" y2=\"78.9375\"/><text fill=\"#000000\" font-family=\"sans-serif\" font-size=\"11\" lengthAdjust=\"spacingAndGlyphs\" textLength=\"38\" x=\"186\" y=\"109.9526\">x: Real</text><line style=\"stroke: #383838; stroke-width: 1.0;\" x1=\"181\" x2=\"186\" y1=\"93.3398\" y2=\"93.3398\"/><text fill=\"#000000\" font-family=\"sans-serif\" font-size=\"11\" lengthAdjust=\"spacingAndGlyphs\" textLength=\"55\" x=\"186\" y=\"96.6479\">attributes</text><line style=\"stroke: #383838; stroke-width: 1.0;\" x1=\"241\" x2=\"246\" y1=\"93.3398\" y2=\"93.3398\"/></a><!--MD5=[09b614a08d8cba4a07c9adeb5e0fee81]\n",
       "class E3--><a href=\"psysml:f29a45b1-01e5-48c9-895e-094b774cc27f\" target=\"_top\" title=\"psysml:f29a45b1-01e5-48c9-895e-094b774cc27f\" xlink:actuate=\"onRequest\" xlink:href=\"psysml:f29a45b1-01e5-48c9-895e-094b774cc27f\" xlink:show=\"new\" xlink:title=\"psysml:f29a45b1-01e5-48c9-895e-094b774cc27f\" xlink:type=\"simple\"><rect fill=\"#FFFFFF\" height=\"45.9375\" id=\"E3\" rx=\"10\" ry=\"10\" style=\"stroke: #383838; stroke-width: 1.5;\" width=\"121\" x=\"308\" y=\"56\"/><text fill=\"#000000\" font-family=\"sans-serif\" font-size=\"12\" font-style=\"italic\" lengthAdjust=\"spacingAndGlyphs\" textLength=\"119\" x=\"309\" y=\"72.1387\">«assertConstraint»</text><text fill=\"#000000\" font-family=\"sans-serif\" font-size=\"12\" lengthAdjust=\"spacingAndGlyphs\" textLength=\"76\" x=\"330.5\" y=\"86.1074\">x_constraint</text><line style=\"stroke: #383838; stroke-width: 1.5;\" x1=\"309\" x2=\"428\" y1=\"93.9375\" y2=\"93.9375\"/></a><!--MD5=[ebbe1d658d1005bcc118a6aa81145e00]\n",
       "class E4--><a href=\"psysml:55b9c562-7faa-4cb8-ac86-d366721fd3cf\" target=\"_top\" title=\"psysml:55b9c562-7faa-4cb8-ac86-d366721fd3cf\" xlink:actuate=\"onRequest\" xlink:href=\"psysml:55b9c562-7faa-4cb8-ac86-d366721fd3cf\" xlink:show=\"new\" xlink:title=\"psysml:55b9c562-7faa-4cb8-ac86-d366721fd3cf\" xlink:type=\"simple\"><rect fill=\"#FFFFFF\" height=\"45.9375\" id=\"E4\" style=\"stroke: #383838; stroke-width: 1.5;\" width=\"79\" x=\"32\" y=\"56\"/><text fill=\"#000000\" font-family=\"sans-serif\" font-size=\"12\" font-style=\"italic\" lengthAdjust=\"spacingAndGlyphs\" textLength=\"77\" x=\"33\" y=\"72.1387\">«action def»</text><text fill=\"#000000\" font-family=\"sans-serif\" font-size=\"12\" lengthAdjust=\"spacingAndGlyphs\" textLength=\"27\" x=\"58\" y=\"86.1074\">setX</text><line style=\"stroke: #383838; stroke-width: 1.5;\" x1=\"33\" x2=\"110\" y1=\"93.9375\" y2=\"93.9375\"/></a><!--MD5=[209b3feb70ccb6233bfe1053d122c12c]\n",
       "reverse link E2 to E3--><a href=\"psysml:54ab6d27-8883-4622-a03e-a53956db7fe1\" target=\"_top\" title=\"psysml:54ab6d27-8883-4622-a03e-a53956db7fe1\" xlink:actuate=\"onRequest\" xlink:href=\"psysml:54ab6d27-8883-4622-a03e-a53956db7fe1\" xlink:show=\"new\" xlink:title=\"psysml:54ab6d27-8883-4622-a03e-a53956db7fe1\" xlink:type=\"simple\"><path d=\"M260.42,79 C275.34,79 292.11,79 307.88,79 \" fill=\"none\" id=\"E2&lt;-E3\" style=\"stroke: #383838; stroke-width: 1.0;\"/><polygon fill=\"#383838\" points=\"247.32,79,253.32,83,259.32,79,253.32,75,247.32,79\" style=\"stroke: #383838; stroke-width: 1.0;\"/><text fill=\"#000000\" font-family=\"sans-serif\" font-size=\"13\" lengthAdjust=\"spacingAndGlyphs\" textLength=\"7\" x=\"293.0654\" y=\"91.9929\">*</text></a><!--MD5=[ddeed8deb2209213b62e6cfabaa108b2]\n",
       "reverse link E4 to E2--><a href=\"psysml:6b50cc19-3c51-4fdc-acb9-7cb54732aaba\" target=\"_top\" title=\"psysml:6b50cc19-3c51-4fdc-acb9-7cb54732aaba\" xlink:actuate=\"onRequest\" xlink:href=\"psysml:6b50cc19-3c51-4fdc-acb9-7cb54732aaba\" xlink:show=\"new\" xlink:title=\"psysml:6b50cc19-3c51-4fdc-acb9-7cb54732aaba\" xlink:type=\"simple\"><path d=\"M124.23,79 C142.79,79 163.18,79 179.69,79 \" fill=\"none\" id=\"E4&lt;-E2\" style=\"stroke: #383838; stroke-width: 1.0;\"/><polygon fill=\"#FFFFFF\" points=\"111.13,79,117.13,83,123.13,79,117.13,75,111.13,79\" style=\"stroke: #383838; stroke-width: 1.0;\"/><text fill=\"#000000\" font-family=\"sans-serif\" font-size=\"13\" lengthAdjust=\"spacingAndGlyphs\" textLength=\"7\" x=\"142\" y=\"75.0669\">c</text></a><!--MD5=[68847247116a8b40a2f453a0f7e3a490]\n",
       "@startuml\r\n",
       "left to right direction\r\n",
       "skinparam monochrome true\r\n",
       "skinparam classbackgroundcolor white\r\n",
       "skinparam shadowing false\r\n",
       "skinparam wrapWidth 300\r\n",
       "hide circle\r\n",
       "\r\n",
       "package \"TextualRepresentationTest\" as E1  [[psysml:806baf2e-ef33-48f4-9893-87a395ee6712 ]]  {\r\n",
       "comp def \"C\" as E2  <<(T,blue) item def>> [[psysml:7ed521f9-b82c-428e-a042-7cd99724445f ]] {\r\n",
       "- - attributes - -\r\n",
       "x: Real\r\n",
       "}\r\n",
       "comp usage \"x_constraint\" as E3  <<(T,blue) assertConstraint>> [[psysml:f29a45b1-01e5-48c9-895e-094b774cc27f ]] {\r\n",
       "}\r\n",
       "comp def \"setX\" as E4  <<(T,blue) action def>> [[psysml:55b9c562-7faa-4cb8-ac86-d366721fd3cf ]] {\r\n",
       "}\r\n",
       "}\r\n",
       "E2 *- - \"*\"E3 [[psysml:54ab6d27-8883-4622-a03e-a53956db7fe1 ]] \r\n",
       "E4 o- - E2 [[psysml:6b50cc19-3c51-4fdc-acb9-7cb54732aaba ]] : c\r\n",
       "@enduml\r\n",
       "\n",
       "PlantUML version 1.2020.13(Sat Jun 13 12:26:38 UTC 2020)\n",
       "(EPL source distribution)\n",
       "Java Runtime: OpenJDK Runtime Environment\n",
       "JVM: OpenJDK 64-Bit Server VM\n",
       "Default Encoding: UTF-8\n",
       "Language: en\n",
       "Country: null\n",
       "--></g></svg>"
      ]
     },
     "execution_count": 17,
     "metadata": {},
     "output_type": "execute_result"
    }
   ],
   "source": [
    "%viz --style=\"LR\" --view=\"Tree\" \"TextualRepresentationTest\""
   ]
  },
  {
   "cell_type": "code",
   "execution_count": 18,
   "id": "90a9eb6f",
   "metadata": {
    "execution": {
     "iopub.execute_input": "2021-10-03T08:29:34.543241Z",
     "iopub.status.busy": "2021-10-03T08:29:34.542846Z",
     "iopub.status.idle": "2021-10-03T08:29:34.549156Z",
     "shell.execute_reply": "2021-10-03T08:29:34.549469Z"
    }
   },
   "outputs": [
    {
     "data": {
      "image/svg+xml": [
       "<?xml version=\"1.0\" encoding=\"UTF-8\" standalone=\"no\"?><svg xmlns=\"http://www.w3.org/2000/svg\" xmlns:xlink=\"http://www.w3.org/1999/xlink\" contentScriptType=\"application/ecmascript\" contentStyleType=\"text/css\" height=\"12px\" preserveAspectRatio=\"none\" style=\"width:12px;height:12px;\" version=\"1.1\" viewBox=\"0 0 12 12\" width=\"12px\" zoomAndPan=\"magnify\"><defs/><g><!--MD5=[19d285c9d72a204eba4e2cd117d745e8]\n",
       "@startuml\r\n",
       "left to right direction\r\n",
       "skinparam monochrome true\r\n",
       "skinparam classbackgroundcolor white\r\n",
       "skinparam shadowing false\r\n",
       "skinparam wrapWidth 300\r\n",
       "hide circle\r\n",
       "\r\n",
       "@enduml\r\n",
       "\n",
       "PlantUML version 1.2020.13(Sat Jun 13 12:26:38 UTC 2020)\n",
       "(EPL source distribution)\n",
       "Java Runtime: OpenJDK Runtime Environment\n",
       "JVM: OpenJDK 64-Bit Server VM\n",
       "Default Encoding: UTF-8\n",
       "Language: en\n",
       "Country: null\n",
       "--></g></svg>"
      ]
     },
     "execution_count": 18,
     "metadata": {},
     "output_type": "execute_result"
    }
   ],
   "source": [
    "%viz --style=\"LR\" --view=\"State\" \"TextualRepresentationTest\""
   ]
  },
  {
   "cell_type": "code",
   "execution_count": 19,
   "id": "13535b39",
   "metadata": {
    "execution": {
     "iopub.execute_input": "2021-10-03T08:29:34.598919Z",
     "iopub.status.busy": "2021-10-03T08:29:34.598523Z",
     "iopub.status.idle": "2021-10-03T08:29:34.628638Z",
     "shell.execute_reply": "2021-10-03T08:29:34.628294Z"
    }
   },
   "outputs": [
    {
     "data": {
      "image/svg+xml": [
       "<?xml version=\"1.0\" encoding=\"UTF-8\" standalone=\"no\"?><svg xmlns=\"http://www.w3.org/2000/svg\" xmlns:xlink=\"http://www.w3.org/1999/xlink\" contentScriptType=\"application/ecmascript\" contentStyleType=\"text/css\" height=\"215px\" preserveAspectRatio=\"none\" style=\"width:276px;height:215px;\" version=\"1.1\" viewBox=\"0 0 276 215\" width=\"276px\" zoomAndPan=\"magnify\"><defs/><g><!--MD5=[fbc87193dbaf4d95561dea2c320d4a47]\n",
       "cluster E1--><a href=\"psysml:806baf2e-ef33-48f4-9893-87a395ee6712\" target=\"_top\" title=\"psysml:806baf2e-ef33-48f4-9893-87a395ee6712\" xlink:actuate=\"onRequest\" xlink:href=\"psysml:806baf2e-ef33-48f4-9893-87a395ee6712\" xlink:show=\"new\" xlink:title=\"psysml:806baf2e-ef33-48f4-9893-87a395ee6712\" xlink:type=\"simple\"><polygon fill=\"#FFFFFF\" points=\"16,6,210,6,217,28.2969,254,28.2969,254,203,16,203,16,6\" style=\"stroke: #000000; stroke-width: 1.5;\"/><line style=\"stroke: #000000; stroke-width: 1.5;\" x1=\"16\" x2=\"217\" y1=\"28.2969\" y2=\"28.2969\"/><text fill=\"#000000\" font-family=\"sans-serif\" font-size=\"14\" font-weight=\"bold\" lengthAdjust=\"spacingAndGlyphs\" textLength=\"188\" x=\"20\" y=\"20.9951\">TextualRepresentationTest</text></a><!--MD5=[d5e69f78d87373223dbae638b30a9c99]\n",
       "cluster E3--><a href=\"psysml:55b9c562-7faa-4cb8-ac86-d366721fd3cf\" target=\"_top\" title=\"psysml:55b9c562-7faa-4cb8-ac86-d366721fd3cf\" xlink:actuate=\"onRequest\" xlink:href=\"psysml:55b9c562-7faa-4cb8-ac86-d366721fd3cf\" xlink:show=\"new\" xlink:title=\"psysml:55b9c562-7faa-4cb8-ac86-d366721fd3cf\" xlink:type=\"simple\"><rect fill=\"#FFFFFF\" height=\"47\" id=\"E3\" style=\"stroke: #383838; stroke-width: 1.5;\" width=\"188\" x=\"50\" y=\"55\"/><rect fill=\"#F8F8F8\" height=\"37.9375\" style=\"stroke: #383838; stroke-width: 1.5;\" width=\"188\" x=\"50\" y=\"55\"/><text fill=\"#000000\" font-family=\"sans-serif\" font-size=\"12\" font-style=\"italic\" lengthAdjust=\"spacingAndGlyphs\" textLength=\"77\" x=\"105.5\" y=\"71.1387\">«action def»</text><text fill=\"#000000\" font-family=\"sans-serif\" font-size=\"12\" lengthAdjust=\"spacingAndGlyphs\" textLength=\"27\" x=\"130.5\" y=\"85.1074\">setX</text></a><g id=\"E1.E2\"><a href=\"psysml:7ed521f9-b82c-428e-a042-7cd99724445f\" target=\"_top\" title=\"psysml:7ed521f9-b82c-428e-a042-7cd99724445f\" xlink:actuate=\"onRequest\" xlink:href=\"psysml:7ed521f9-b82c-428e-a042-7cd99724445f\" xlink:show=\"new\" xlink:title=\"psysml:7ed521f9-b82c-428e-a042-7cd99724445f\" xlink:type=\"simple\"><rect fill=\"#FFFFFF\" height=\"42.9375\" id=\"E2\" style=\"stroke: #383838; stroke-width: 1.5;\" width=\"72\" x=\"32\" y=\"143.5\"/><rect fill=\"#F8F8F8\" height=\"37.9375\" style=\"stroke: #383838; stroke-width: 1.5;\" width=\"72\" x=\"32\" y=\"143.5\"/><text fill=\"#000000\" font-family=\"sans-serif\" font-size=\"12\" font-style=\"italic\" lengthAdjust=\"spacingAndGlyphs\" textLength=\"65\" x=\"35.5\" y=\"159.6387\">«item def»</text><text fill=\"#000000\" font-family=\"sans-serif\" font-size=\"12\" lengthAdjust=\"spacingAndGlyphs\" textLength=\"8\" x=\"64\" y=\"173.6074\">C</text></a></g><text fill=\"#000000\" font-family=\"sans-serif\" font-size=\"14\" lengthAdjust=\"spacingAndGlyphs\" textLength=\"8\" x=\"64\" y=\"120.9951\">c</text><rect fill=\"#383838\" height=\"12\" style=\"stroke: #F8F8F8; stroke-width: 1.5;\" width=\"12\" x=\"62\" y=\"96\"/><text fill=\"#000000\" font-family=\"sans-serif\" font-size=\"14\" lengthAdjust=\"spacingAndGlyphs\" textLength=\"38\" x=\"49\" y=\"33.6982\">newX</text><rect fill=\"#383838\" height=\"12\" style=\"stroke: #F8F8F8; stroke-width: 1.5;\" width=\"12\" x=\"62\" y=\"49\"/><!--MD5=[34b1981e6631b001d294a9ed52aa33f0]\n",
       "@startuml\r\n",
       "skinparam ranksep 10\r\n",
       "skinparam rectangle {\r\n",
       " backgroundColor<<block>> LightGreen\r\n",
       "}\r\n",
       "left to right direction\r\n",
       "skinparam monochrome true\r\n",
       "skinparam classbackgroundcolor white\r\n",
       "skinparam shadowing false\r\n",
       "skinparam wrapWidth 300\r\n",
       "hide circle\r\n",
       "\r\n",
       "package \"TextualRepresentationTest\" as E1  [[psysml:806baf2e-ef33-48f4-9893-87a395ee6712 ]]  {\r\n",
       "def \"C\" as E2  <<(T,blue) item def>> [[psysml:7ed521f9-b82c-428e-a042-7cd99724445f ]] \r\n",
       "rec def \"setX\" as E3  <<(T,blue) action def>> [[psysml:55b9c562-7faa-4cb8-ac86-d366721fd3cf ]] {\r\n",
       "portin \"c\" as E4  [[psysml:6b50cc19-3c51-4fdc-acb9-7cb54732aaba ]] \r\n",
       "portin \"newX\" as E5  [[psysml:036e652a-b19a-4307-ba90-1008950a3600 ]] \r\n",
       "}\r\n",
       "\r\n",
       "}\r\n",
       "@enduml\r\n",
       "\n",
       "PlantUML version 1.2020.13(Sat Jun 13 12:26:38 UTC 2020)\n",
       "(EPL source distribution)\n",
       "Java Runtime: OpenJDK Runtime Environment\n",
       "JVM: OpenJDK 64-Bit Server VM\n",
       "Default Encoding: UTF-8\n",
       "Language: en\n",
       "Country: null\n",
       "--></g></svg>"
      ]
     },
     "execution_count": 19,
     "metadata": {},
     "output_type": "execute_result"
    }
   ],
   "source": [
    "%viz --style=\"LR\" --view=\"Interconnection\" \"TextualRepresentationTest\""
   ]
  },
  {
   "cell_type": "code",
   "execution_count": 20,
   "id": "67269745",
   "metadata": {
    "execution": {
     "iopub.execute_input": "2021-10-03T08:29:34.677942Z",
     "iopub.status.busy": "2021-10-03T08:29:34.677544Z",
     "iopub.status.idle": "2021-10-03T08:29:34.701185Z",
     "shell.execute_reply": "2021-10-03T08:29:34.701476Z"
    }
   },
   "outputs": [
    {
     "data": {
      "image/svg+xml": [
       "<?xml version=\"1.0\" encoding=\"UTF-8\" standalone=\"no\"?><svg xmlns=\"http://www.w3.org/2000/svg\" xmlns:xlink=\"http://www.w3.org/1999/xlink\" contentScriptType=\"application/ecmascript\" contentStyleType=\"text/css\" height=\"121px\" preserveAspectRatio=\"none\" style=\"width:176px;height:121px;\" version=\"1.1\" viewBox=\"0 0 176 121\" width=\"176px\" zoomAndPan=\"magnify\"><defs/><g><!--MD5=[fbc87193dbaf4d95561dea2c320d4a47]\n",
       "cluster E1--><a href=\"psysml:55b9c562-7faa-4cb8-ac86-d366721fd3cf\" target=\"_top\" title=\"psysml:55b9c562-7faa-4cb8-ac86-d366721fd3cf\" xlink:actuate=\"onRequest\" xlink:href=\"psysml:55b9c562-7faa-4cb8-ac86-d366721fd3cf\" xlink:show=\"new\" xlink:title=\"psysml:55b9c562-7faa-4cb8-ac86-d366721fd3cf\" xlink:type=\"simple\"><rect fill=\"#FFFFFF\" height=\"47\" id=\"E1\" style=\"stroke: #383838; stroke-width: 1.5;\" width=\"158\" x=\"7\" y=\"42.0986\"/><rect fill=\"#F8F8F8\" height=\"37.9375\" style=\"stroke: #383838; stroke-width: 1.5;\" width=\"158\" x=\"7\" y=\"42.0986\"/><text fill=\"#000000\" font-family=\"sans-serif\" font-size=\"12\" font-style=\"italic\" lengthAdjust=\"spacingAndGlyphs\" textLength=\"77\" x=\"47.5\" y=\"58.2373\">«action def»</text><text fill=\"#000000\" font-family=\"sans-serif\" font-size=\"12\" lengthAdjust=\"spacingAndGlyphs\" textLength=\"27\" x=\"72.5\" y=\"72.2061\">setX</text></a><text fill=\"#000000\" font-family=\"sans-serif\" font-size=\"14\" lengthAdjust=\"spacingAndGlyphs\" textLength=\"8\" x=\"21\" y=\"108.0938\">c</text><rect fill=\"#383838\" height=\"12\" style=\"stroke: #F8F8F8; stroke-width: 1.5;\" width=\"12\" x=\"19\" y=\"83.0986\"/><text fill=\"#000000\" font-family=\"sans-serif\" font-size=\"14\" lengthAdjust=\"spacingAndGlyphs\" textLength=\"38\" x=\"6\" y=\"20.7969\">newX</text><rect fill=\"#383838\" height=\"12\" style=\"stroke: #F8F8F8; stroke-width: 1.5;\" width=\"12\" x=\"19\" y=\"36.0986\"/><!--MD5=[dcacbe6909694ef03a1b23abcfae7559]\n",
       "@startuml\r\n",
       "skinparam ranksep 8\r\n",
       "left to right direction\r\n",
       "skinparam monochrome true\r\n",
       "skinparam classbackgroundcolor white\r\n",
       "skinparam shadowing false\r\n",
       "skinparam wrapWidth 300\r\n",
       "hide circle\r\n",
       "\r\n",
       "rec def \"setX\" as E1  <<(T,blue) action def>> [[psysml:55b9c562-7faa-4cb8-ac86-d366721fd3cf ]] {\r\n",
       "portin \"c\" as E2  [[psysml:6b50cc19-3c51-4fdc-acb9-7cb54732aaba ]] \r\n",
       "portin \"newX\" as E3  [[psysml:036e652a-b19a-4307-ba90-1008950a3600 ]] \r\n",
       "}\r\n",
       "\r\n",
       "@enduml\r\n",
       "\n",
       "PlantUML version 1.2020.13(Sat Jun 13 12:26:38 UTC 2020)\n",
       "(EPL source distribution)\n",
       "Java Runtime: OpenJDK Runtime Environment\n",
       "JVM: OpenJDK 64-Bit Server VM\n",
       "Default Encoding: UTF-8\n",
       "Language: en\n",
       "Country: null\n",
       "--></g></svg>"
      ]
     },
     "execution_count": 20,
     "metadata": {},
     "output_type": "execute_result"
    }
   ],
   "source": [
    "%viz --style=\"LR\" --view=\"Action\" \"TextualRepresentationTest\""
   ]
  },
  {
   "cell_type": "code",
   "execution_count": 21,
   "id": "d472190d",
   "metadata": {
    "execution": {
     "iopub.execute_input": "2021-10-03T08:29:34.750942Z",
     "iopub.status.busy": "2021-10-03T08:29:34.750550Z",
     "iopub.status.idle": "2021-10-03T08:29:34.756874Z",
     "shell.execute_reply": "2021-10-03T08:29:34.757186Z"
    }
   },
   "outputs": [
    {
     "data": {
      "image/svg+xml": [
       "<?xml version=\"1.0\" encoding=\"UTF-8\" standalone=\"no\"?><svg xmlns=\"http://www.w3.org/2000/svg\" xmlns:xlink=\"http://www.w3.org/1999/xlink\" contentScriptType=\"application/ecmascript\" contentStyleType=\"text/css\" height=\"12px\" preserveAspectRatio=\"none\" style=\"width:12px;height:12px;\" version=\"1.1\" viewBox=\"0 0 12 12\" width=\"12px\" zoomAndPan=\"magnify\"><defs/><g><!--MD5=[238c11ea2002f03115ad6b49a457d50e]\n",
       "@startuml\r\n",
       "skinparam roundcorner 20\r\n",
       "skinparam BoxPadding 20\r\n",
       "skinparam SequenceBoxBackgroundColor #white\r\n",
       "skinparam style strictuml\r\n",
       "skinparam maxMessageSize 100\r\n",
       "left to right direction\r\n",
       "skinparam monochrome true\r\n",
       "skinparam classbackgroundcolor white\r\n",
       "skinparam shadowing false\r\n",
       "skinparam wrapWidth 300\r\n",
       "hide circle\r\n",
       "\r\n",
       "@enduml\r\n",
       "\n",
       "PlantUML version 1.2020.13(Sat Jun 13 12:26:38 UTC 2020)\n",
       "(EPL source distribution)\n",
       "Java Runtime: OpenJDK Runtime Environment\n",
       "JVM: OpenJDK 64-Bit Server VM\n",
       "Default Encoding: UTF-8\n",
       "Language: en\n",
       "Country: null\n",
       "--></g></svg>"
      ]
     },
     "execution_count": 21,
     "metadata": {},
     "output_type": "execute_result"
    }
   ],
   "source": [
    "%viz --style=\"LR\" --view=\"Sequence\" \"TextualRepresentationTest\""
   ]
  },
  {
   "cell_type": "code",
   "execution_count": 22,
   "id": "af72475e",
   "metadata": {
    "execution": {
     "iopub.execute_input": "2021-10-03T08:29:34.806763Z",
     "iopub.status.busy": "2021-10-03T08:29:34.806373Z",
     "iopub.status.idle": "2021-10-03T08:29:34.851906Z",
     "shell.execute_reply": "2021-10-03T08:29:34.851527Z"
    }
   },
   "outputs": [
    {
     "data": {
      "image/svg+xml": [
       "<?xml version=\"1.0\" encoding=\"UTF-8\" standalone=\"no\"?><svg xmlns=\"http://www.w3.org/2000/svg\" xmlns:xlink=\"http://www.w3.org/1999/xlink\" contentScriptType=\"application/ecmascript\" contentStyleType=\"text/css\" height=\"247px\" preserveAspectRatio=\"none\" style=\"width:324px;height:247px;\" version=\"1.1\" viewBox=\"0 0 324 247\" width=\"324px\" zoomAndPan=\"magnify\"><defs/><g><!--MD5=[fbc87193dbaf4d95561dea2c320d4a47]\n",
       "cluster E1--><a href=\"psysml:806baf2e-ef33-48f4-9893-87a395ee6712\" target=\"_top\" title=\"psysml:806baf2e-ef33-48f4-9893-87a395ee6712\" xlink:actuate=\"onRequest\" xlink:href=\"psysml:806baf2e-ef33-48f4-9893-87a395ee6712\" xlink:show=\"new\" xlink:title=\"psysml:806baf2e-ef33-48f4-9893-87a395ee6712\" xlink:type=\"simple\"><polygon fill=\"#FFFFFF\" points=\"16,6,210,6,217,28.2969,302.5,28.2969,302.5,235,16,235,16,6\" style=\"stroke: #000000; stroke-width: 1.5;\"/><line style=\"stroke: #000000; stroke-width: 1.5;\" x1=\"16\" x2=\"217\" y1=\"28.2969\" y2=\"28.2969\"/><text fill=\"#000000\" font-family=\"sans-serif\" font-size=\"14\" font-weight=\"bold\" lengthAdjust=\"spacingAndGlyphs\" textLength=\"188\" x=\"20\" y=\"20.9951\">TextualRepresentationTest</text></a><!--MD5=[f6df4d0ebaf0b5dfb2ced0ae5af7c670]\n",
       "cluster E4--><a href=\"psysml:55b9c562-7faa-4cb8-ac86-d366721fd3cf\" target=\"_top\" title=\"psysml:55b9c562-7faa-4cb8-ac86-d366721fd3cf\" xlink:actuate=\"onRequest\" xlink:href=\"psysml:55b9c562-7faa-4cb8-ac86-d366721fd3cf\" xlink:show=\"new\" xlink:title=\"psysml:55b9c562-7faa-4cb8-ac86-d366721fd3cf\" xlink:type=\"simple\"><rect fill=\"#FFFFFF\" height=\"47\" id=\"E4\" style=\"stroke: #383838; stroke-width: 1.5;\" width=\"239\" x=\"47.5\" y=\"55\"/><rect fill=\"#F8F8F8\" height=\"37.9375\" style=\"stroke: #383838; stroke-width: 1.5;\" width=\"239\" x=\"47.5\" y=\"55\"/><text fill=\"#000000\" font-family=\"sans-serif\" font-size=\"12\" font-style=\"italic\" lengthAdjust=\"spacingAndGlyphs\" textLength=\"77\" x=\"128.5\" y=\"71.1387\">«action def»</text><text fill=\"#000000\" font-family=\"sans-serif\" font-size=\"12\" lengthAdjust=\"spacingAndGlyphs\" textLength=\"27\" x=\"153.5\" y=\"85.1074\">setX</text></a><!--MD5=[b4997ac47864f28c2f74865a473b2911]\n",
       "class E2--><a href=\"psysml:7ed521f9-b82c-428e-a042-7cd99724445f\" target=\"_top\" title=\"psysml:7ed521f9-b82c-428e-a042-7cd99724445f\" xlink:actuate=\"onRequest\" xlink:href=\"psysml:7ed521f9-b82c-428e-a042-7cd99724445f\" xlink:show=\"new\" xlink:title=\"psysml:7ed521f9-b82c-428e-a042-7cd99724445f\" xlink:type=\"simple\"><rect fill=\"#FFFFFF\" height=\"75.5469\" id=\"E2\" style=\"stroke: #383838; stroke-width: 1.5;\" width=\"67\" x=\"32\" y=\"143\"/><text fill=\"#000000\" font-family=\"sans-serif\" font-size=\"12\" font-style=\"italic\" lengthAdjust=\"spacingAndGlyphs\" textLength=\"65\" x=\"33\" y=\"159.1387\">«item def»</text><text fill=\"#000000\" font-family=\"sans-serif\" font-size=\"12\" lengthAdjust=\"spacingAndGlyphs\" textLength=\"8\" x=\"61.5\" y=\"173.1074\">C</text><line style=\"stroke: #383838; stroke-width: 1.5;\" x1=\"33\" x2=\"98\" y1=\"180.9375\" y2=\"180.9375\"/><text fill=\"#000000\" font-family=\"sans-serif\" font-size=\"11\" lengthAdjust=\"spacingAndGlyphs\" textLength=\"38\" x=\"38\" y=\"211.9526\">x: Real</text><line style=\"stroke: #383838; stroke-width: 1.0;\" x1=\"33\" x2=\"38\" y1=\"195.3398\" y2=\"195.3398\"/><text fill=\"#000000\" font-family=\"sans-serif\" font-size=\"11\" lengthAdjust=\"spacingAndGlyphs\" textLength=\"55\" x=\"38\" y=\"198.6479\">attributes</text><line style=\"stroke: #383838; stroke-width: 1.0;\" x1=\"93\" x2=\"98\" y1=\"195.3398\" y2=\"195.3398\"/></a><!--MD5=[09b614a08d8cba4a07c9adeb5e0fee81]\n",
       "class E3--><a href=\"psysml:f29a45b1-01e5-48c9-895e-094b774cc27f\" target=\"_top\" title=\"psysml:f29a45b1-01e5-48c9-895e-094b774cc27f\" xlink:actuate=\"onRequest\" xlink:href=\"psysml:f29a45b1-01e5-48c9-895e-094b774cc27f\" xlink:show=\"new\" xlink:title=\"psysml:f29a45b1-01e5-48c9-895e-094b774cc27f\" xlink:type=\"simple\"><rect fill=\"#FFFFFF\" height=\"45.9375\" id=\"E3\" rx=\"10\" ry=\"10\" style=\"stroke: #383838; stroke-width: 1.5;\" width=\"121\" x=\"159\" y=\"158\"/><text fill=\"#000000\" font-family=\"sans-serif\" font-size=\"12\" font-style=\"italic\" lengthAdjust=\"spacingAndGlyphs\" textLength=\"119\" x=\"160\" y=\"174.1387\">«assertConstraint»</text><text fill=\"#000000\" font-family=\"sans-serif\" font-size=\"12\" lengthAdjust=\"spacingAndGlyphs\" textLength=\"76\" x=\"181.5\" y=\"188.1074\">x_constraint</text><line style=\"stroke: #383838; stroke-width: 1.5;\" x1=\"160\" x2=\"279\" y1=\"195.9375\" y2=\"195.9375\"/></a><text fill=\"#000000\" font-family=\"sans-serif\" font-size=\"14\" lengthAdjust=\"spacingAndGlyphs\" textLength=\"8\" x=\"61.5\" y=\"120.9951\">c</text><rect fill=\"#383838\" height=\"12\" style=\"stroke: #F8F8F8; stroke-width: 1.5;\" width=\"12\" x=\"59.5\" y=\"96\"/><text fill=\"#000000\" font-family=\"sans-serif\" font-size=\"14\" lengthAdjust=\"spacingAndGlyphs\" textLength=\"38\" x=\"46.5\" y=\"33.6982\">newX</text><rect fill=\"#383838\" height=\"12\" style=\"stroke: #F8F8F8; stroke-width: 1.5;\" width=\"12\" x=\"59.5\" y=\"49\"/><!--MD5=[209b3feb70ccb6233bfe1053d122c12c]\n",
       "reverse link E2 to E3--><a href=\"psysml:54ab6d27-8883-4622-a03e-a53956db7fe1\" target=\"_top\" title=\"psysml:54ab6d27-8883-4622-a03e-a53956db7fe1\" xlink:actuate=\"onRequest\" xlink:href=\"psysml:54ab6d27-8883-4622-a03e-a53956db7fe1\" xlink:show=\"new\" xlink:title=\"psysml:54ab6d27-8883-4622-a03e-a53956db7fe1\" xlink:type=\"simple\"><path d=\"M112.5,181 C127.13,181 143.52,181 158.96,181 \" fill=\"none\" id=\"E2&lt;-E3\" style=\"stroke: #383838; stroke-width: 1.0;\"/><polygon fill=\"#383838\" points=\"99.11,181,105.11,185,111.11,181,105.11,177,99.11,181\" style=\"stroke: #383838; stroke-width: 1.0;\"/><text fill=\"#000000\" font-family=\"sans-serif\" font-size=\"13\" lengthAdjust=\"spacingAndGlyphs\" textLength=\"7\" x=\"144.1551\" y=\"193.9929\">*</text></a><!--MD5=[5440b475b99d5377f249d43aa13055ed]\n",
       "@startuml\r\n",
       "left to right direction\r\n",
       "skinparam monochrome true\r\n",
       "skinparam classbackgroundcolor white\r\n",
       "skinparam shadowing false\r\n",
       "skinparam wrapWidth 300\r\n",
       "hide circle\r\n",
       "\r\n",
       "package \"TextualRepresentationTest\" as E1  [[psysml:806baf2e-ef33-48f4-9893-87a395ee6712 ]]  {\r\n",
       "comp def \"C\" as E2  <<(T,blue) item def>> [[psysml:7ed521f9-b82c-428e-a042-7cd99724445f ]] {\r\n",
       "- - attributes - -\r\n",
       "x: Real\r\n",
       "}\r\n",
       "comp usage \"x_constraint\" as E3  <<(T,blue) assertConstraint>> [[psysml:f29a45b1-01e5-48c9-895e-094b774cc27f ]] {\r\n",
       "}\r\n",
       "rec def \"setX\" as E4  <<(T,blue) action def>> [[psysml:55b9c562-7faa-4cb8-ac86-d366721fd3cf ]] {\r\n",
       "portin \"c\" as E5  [[psysml:6b50cc19-3c51-4fdc-acb9-7cb54732aaba ]] \r\n",
       "portin \"newX\" as E6  [[psysml:036e652a-b19a-4307-ba90-1008950a3600 ]] \r\n",
       "}\r\n",
       "\r\n",
       "}\r\n",
       "E2 *- - \"*\"E3 [[psysml:54ab6d27-8883-4622-a03e-a53956db7fe1 ]] \r\n",
       "@enduml\r\n",
       "\n",
       "PlantUML version 1.2020.13(Sat Jun 13 12:26:38 UTC 2020)\n",
       "(EPL source distribution)\n",
       "Java Runtime: OpenJDK Runtime Environment\n",
       "JVM: OpenJDK 64-Bit Server VM\n",
       "Default Encoding: UTF-8\n",
       "Language: en\n",
       "Country: null\n",
       "--></g></svg>"
      ]
     },
     "execution_count": 22,
     "metadata": {},
     "output_type": "execute_result"
    }
   ],
   "source": [
    "%viz --style=\"LR\" --view=\"MIXED\" \"TextualRepresentationTest\""
   ]
  },
  {
   "cell_type": "code",
   "execution_count": 23,
   "id": "beaef7e5",
   "metadata": {
    "execution": {
     "iopub.execute_input": "2021-10-03T08:29:34.901104Z",
     "iopub.status.busy": "2021-10-03T08:29:34.900699Z",
     "iopub.status.idle": "2021-10-03T08:29:34.939117Z",
     "shell.execute_reply": "2021-10-03T08:29:34.938754Z"
    }
   },
   "outputs": [
    {
     "data": {
      "image/svg+xml": [
       "<?xml version=\"1.0\" encoding=\"UTF-8\" standalone=\"no\"?><svg xmlns=\"http://www.w3.org/2000/svg\" xmlns:xlink=\"http://www.w3.org/1999/xlink\" contentScriptType=\"application/ecmascript\" contentStyleType=\"text/css\" height=\"244px\" preserveAspectRatio=\"none\" style=\"width:345px;height:244px;\" version=\"1.1\" viewBox=\"0 0 345 244\" width=\"345px\" zoomAndPan=\"magnify\"><defs><filter height=\"300%\" id=\"fac3upffsrng6\" width=\"300%\" x=\"-1\" y=\"-1\"><feGaussianBlur result=\"blurOut\" stdDeviation=\"2.0\"/><feColorMatrix in=\"blurOut\" result=\"blurOut2\" type=\"matrix\" values=\"0 0 0 0 0 0 0 0 0 0 0 0 0 0 0 0 0 0 .4 0\"/><feOffset dx=\"4.0\" dy=\"4.0\" in=\"blurOut2\" result=\"blurOut3\"/><feBlend in=\"SourceGraphic\" in2=\"blurOut3\" mode=\"normal\"/></filter></defs><g><!--MD5=[fbc87193dbaf4d95561dea2c320d4a47]\n",
       "cluster E1--><a href=\"psysml:806baf2e-ef33-48f4-9893-87a395ee6712\" target=\"_top\" title=\"psysml:806baf2e-ef33-48f4-9893-87a395ee6712\" xlink:actuate=\"onRequest\" xlink:href=\"psysml:806baf2e-ef33-48f4-9893-87a395ee6712\" xlink:show=\"new\" xlink:title=\"psysml:806baf2e-ef33-48f4-9893-87a395ee6712\" xlink:type=\"simple\"><polygon fill=\"#FFFFFF\" filter=\"url(#fac3upffsrng6)\" points=\"16,6,210,6,217,28.2969,323,28.2969,323,232.5,16,232.5,16,6\" style=\"stroke: #000000; stroke-width: 1.5;\"/><line style=\"stroke: #000000; stroke-width: 1.5;\" x1=\"16\" x2=\"217\" y1=\"28.2969\" y2=\"28.2969\"/><text fill=\"#000000\" font-family=\"sans-serif\" font-size=\"14\" font-weight=\"bold\" lengthAdjust=\"spacingAndGlyphs\" textLength=\"188\" x=\"20\" y=\"20.9951\">TextualRepresentationTest</text></a><!--MD5=[f6df4d0ebaf0b5dfb2ced0ae5af7c670]\n",
       "cluster E4--><a href=\"psysml:55b9c562-7faa-4cb8-ac86-d366721fd3cf\" target=\"_top\" title=\"psysml:55b9c562-7faa-4cb8-ac86-d366721fd3cf\" xlink:actuate=\"onRequest\" xlink:href=\"psysml:55b9c562-7faa-4cb8-ac86-d366721fd3cf\" xlink:show=\"new\" xlink:title=\"psysml:55b9c562-7faa-4cb8-ac86-d366721fd3cf\" xlink:type=\"simple\"><rect fill=\"#FFFFFF\" filter=\"url(#fac3upffsrng6)\" height=\"146\" id=\"E4\" style=\"stroke: #A80036; stroke-width: 1.5;\" width=\"132\" x=\"175\" y=\"70.5\"/><rect fill=\"#FEFECE\" height=\"37.9375\" style=\"stroke: #A80036; stroke-width: 1.5;\" width=\"132\" x=\"175\" y=\"70.5\"/><text fill=\"#000000\" font-family=\"sans-serif\" font-size=\"12\" font-style=\"italic\" lengthAdjust=\"spacingAndGlyphs\" textLength=\"77\" x=\"202.5\" y=\"86.6387\">«action def»</text><text fill=\"#000000\" font-family=\"sans-serif\" font-size=\"12\" lengthAdjust=\"spacingAndGlyphs\" textLength=\"27\" x=\"227.5\" y=\"100.6074\">setX</text></a><!--MD5=[b4997ac47864f28c2f74865a473b2911]\n",
       "class E2--><a href=\"psysml:7ed521f9-b82c-428e-a042-7cd99724445f\" target=\"_top\" title=\"psysml:7ed521f9-b82c-428e-a042-7cd99724445f\" xlink:actuate=\"onRequest\" xlink:href=\"psysml:7ed521f9-b82c-428e-a042-7cd99724445f\" xlink:show=\"new\" xlink:title=\"psysml:7ed521f9-b82c-428e-a042-7cd99724445f\" xlink:type=\"simple\"><rect fill=\"#FEFECE\" filter=\"url(#fac3upffsrng6)\" height=\"58.7422\" id=\"E2\" style=\"stroke: #A80036; stroke-width: 1.5;\" width=\"67\" x=\"59.5\" y=\"41\"/><text fill=\"#000000\" font-family=\"sans-serif\" font-size=\"12\" font-style=\"italic\" lengthAdjust=\"spacingAndGlyphs\" textLength=\"65\" x=\"60.5\" y=\"57.1387\">«item def»</text><text fill=\"#000000\" font-family=\"sans-serif\" font-size=\"12\" lengthAdjust=\"spacingAndGlyphs\" textLength=\"8\" x=\"89\" y=\"71.1074\">C</text><line style=\"stroke: #A80036; stroke-width: 1.5;\" x1=\"60.5\" x2=\"125.5\" y1=\"78.9375\" y2=\"78.9375\"/><text fill=\"#000000\" font-family=\"sans-serif\" font-size=\"11\" lengthAdjust=\"spacingAndGlyphs\" textLength=\"38\" x=\"65.5\" y=\"93.1479\">x: Real</text></a><!--MD5=[09b614a08d8cba4a07c9adeb5e0fee81]\n",
       "class E3--><a href=\"psysml:f29a45b1-01e5-48c9-895e-094b774cc27f\" target=\"_top\" title=\"psysml:f29a45b1-01e5-48c9-895e-094b774cc27f\" xlink:actuate=\"onRequest\" xlink:href=\"psysml:f29a45b1-01e5-48c9-895e-094b774cc27f\" xlink:show=\"new\" xlink:title=\"psysml:f29a45b1-01e5-48c9-895e-094b774cc27f\" xlink:type=\"simple\"><rect fill=\"#FEFECE\" filter=\"url(#fac3upffsrng6)\" height=\"45.9375\" id=\"E3\" rx=\"10\" ry=\"10\" style=\"stroke: #A80036; stroke-width: 1.5;\" width=\"121\" x=\"32.5\" y=\"160\"/><text fill=\"#000000\" font-family=\"sans-serif\" font-size=\"12\" font-style=\"italic\" lengthAdjust=\"spacingAndGlyphs\" textLength=\"119\" x=\"33.5\" y=\"176.1387\">«assertConstraint»</text><text fill=\"#000000\" font-family=\"sans-serif\" font-size=\"12\" lengthAdjust=\"spacingAndGlyphs\" textLength=\"76\" x=\"55\" y=\"190.1074\">x_constraint</text><line style=\"stroke: #A80036; stroke-width: 1.5;\" x1=\"33.5\" x2=\"152.5\" y1=\"197.9375\" y2=\"197.9375\"/></a><text fill=\"#000000\" font-family=\"sans-serif\" font-size=\"14\" lengthAdjust=\"spacingAndGlyphs\" textLength=\"8\" x=\"189\" y=\"49.1982\">c</text><rect fill=\"#A80036\" height=\"12\" style=\"stroke: #FEFECE; stroke-width: 1.5;\" width=\"12\" x=\"187\" y=\"64.5\"/><text fill=\"#000000\" font-family=\"sans-serif\" font-size=\"14\" lengthAdjust=\"spacingAndGlyphs\" textLength=\"38\" x=\"221\" y=\"49.1982\">newX</text><rect fill=\"#A80036\" height=\"12\" style=\"stroke: #FEFECE; stroke-width: 1.5;\" width=\"12\" x=\"234\" y=\"64.5\"/><!--MD5=[209b3feb70ccb6233bfe1053d122c12c]\n",
       "reverse link E2 to E3--><a href=\"psysml:54ab6d27-8883-4622-a03e-a53956db7fe1\" target=\"_top\" title=\"psysml:54ab6d27-8883-4622-a03e-a53956db7fe1\" xlink:actuate=\"onRequest\" xlink:href=\"psysml:54ab6d27-8883-4622-a03e-a53956db7fe1\" xlink:show=\"new\" xlink:title=\"psysml:54ab6d27-8883-4622-a03e-a53956db7fe1\" xlink:type=\"simple\"><path d=\"M93,113.51 C93,129.22 93,146.43 93,159.68 \" fill=\"none\" id=\"E2&lt;-E3\" style=\"stroke: #A80036; stroke-width: 1.0;\"/><polygon fill=\"#A80036\" points=\"93,100.24,89,106.24,93,112.24,97,106.24,93,100.24\" style=\"stroke: #A80036; stroke-width: 1.0;\"/><text fill=\"#000000\" font-family=\"sans-serif\" font-size=\"13\" lengthAdjust=\"spacingAndGlyphs\" textLength=\"7\" x=\"85.1031\" y=\"148.8743\">*</text></a><!--MD5=[1b1e2c71ab6e1addbed5413af79728c4]\n",
       "@startuml\r\n",
       "skinparam wrapWidth 300\r\n",
       "hide circle\r\n",
       "\r\n",
       "package \"TextualRepresentationTest\" as E1  [[psysml:806baf2e-ef33-48f4-9893-87a395ee6712 ]]  {\r\n",
       "comp def \"C\" as E2  <<(T,blue) item def>> [[psysml:7ed521f9-b82c-428e-a042-7cd99724445f ]] {\r\n",
       "x: Real\r\n",
       "}\r\n",
       "comp usage \"x_constraint\" as E3  <<(T,blue) assertConstraint>> [[psysml:f29a45b1-01e5-48c9-895e-094b774cc27f ]] {\r\n",
       "}\r\n",
       "rec def \"setX\" as E4  <<(T,blue) action def>> [[psysml:55b9c562-7faa-4cb8-ac86-d366721fd3cf ]] {\r\n",
       "portin \"c\" as E5  [[psysml:6b50cc19-3c51-4fdc-acb9-7cb54732aaba ]] \r\n",
       "portin \"newX\" as E6  [[psysml:036e652a-b19a-4307-ba90-1008950a3600 ]] \r\n",
       "}\r\n",
       "\r\n",
       "}\r\n",
       "E2 *- - \"*\"E3 [[psysml:54ab6d27-8883-4622-a03e-a53956db7fe1 ]] \r\n",
       "@enduml\r\n",
       "\n",
       "PlantUML version 1.2020.13(Sat Jun 13 12:26:38 UTC 2020)\n",
       "(EPL source distribution)\n",
       "Java Runtime: OpenJDK Runtime Environment\n",
       "JVM: OpenJDK 64-Bit Server VM\n",
       "Default Encoding: UTF-8\n",
       "Language: en\n",
       "Country: null\n",
       "--></g></svg>"
      ]
     },
     "execution_count": 23,
     "metadata": {},
     "output_type": "execute_result"
    }
   ],
   "source": [
    "%viz --style=\"STDCOLOR\" --view=\"Default\" \"TextualRepresentationTest\""
   ]
  },
  {
   "cell_type": "code",
   "execution_count": 24,
   "id": "88c20252",
   "metadata": {
    "execution": {
     "iopub.execute_input": "2021-10-03T08:29:34.988295Z",
     "iopub.status.busy": "2021-10-03T08:29:34.987904Z",
     "iopub.status.idle": "2021-10-03T08:29:35.030214Z",
     "shell.execute_reply": "2021-10-03T08:29:35.029855Z"
    }
   },
   "outputs": [
    {
     "data": {
      "image/svg+xml": [
       "<?xml version=\"1.0\" encoding=\"UTF-8\" standalone=\"no\"?><svg xmlns=\"http://www.w3.org/2000/svg\" xmlns:xlink=\"http://www.w3.org/1999/xlink\" contentScriptType=\"application/ecmascript\" contentStyleType=\"text/css\" height=\"358px\" preserveAspectRatio=\"none\" style=\"width:242px;height:358px;\" version=\"1.1\" viewBox=\"0 0 242 358\" width=\"242px\" zoomAndPan=\"magnify\"><defs><filter height=\"300%\" id=\"f1pt0mysdi2hnd\" width=\"300%\" x=\"-1\" y=\"-1\"><feGaussianBlur result=\"blurOut\" stdDeviation=\"2.0\"/><feColorMatrix in=\"blurOut\" result=\"blurOut2\" type=\"matrix\" values=\"0 0 0 0 0 0 0 0 0 0 0 0 0 0 0 0 0 0 .4 0\"/><feOffset dx=\"4.0\" dy=\"4.0\" in=\"blurOut2\" result=\"blurOut3\"/><feBlend in=\"SourceGraphic\" in2=\"blurOut3\" mode=\"normal\"/></filter></defs><g><!--MD5=[fbc87193dbaf4d95561dea2c320d4a47]\n",
       "cluster E1--><a href=\"psysml:806baf2e-ef33-48f4-9893-87a395ee6712\" target=\"_top\" title=\"psysml:806baf2e-ef33-48f4-9893-87a395ee6712\" xlink:actuate=\"onRequest\" xlink:href=\"psysml:806baf2e-ef33-48f4-9893-87a395ee6712\" xlink:show=\"new\" xlink:title=\"psysml:806baf2e-ef33-48f4-9893-87a395ee6712\" xlink:type=\"simple\"><polygon fill=\"#FFFFFF\" filter=\"url(#f1pt0mysdi2hnd)\" points=\"16,6,210,6,217,28.2969,220,28.2969,220,346,16,346,16,6\" style=\"stroke: #000000; stroke-width: 1.5;\"/><line style=\"stroke: #000000; stroke-width: 1.5;\" x1=\"16\" x2=\"217\" y1=\"28.2969\" y2=\"28.2969\"/><text fill=\"#000000\" font-family=\"sans-serif\" font-size=\"14\" font-weight=\"bold\" lengthAdjust=\"spacingAndGlyphs\" textLength=\"188\" x=\"20\" y=\"20.9951\">TextualRepresentationTest</text></a><!--MD5=[b4997ac47864f28c2f74865a473b2911]\n",
       "class E2--><a href=\"psysml:7ed521f9-b82c-428e-a042-7cd99724445f\" target=\"_top\" title=\"psysml:7ed521f9-b82c-428e-a042-7cd99724445f\" xlink:actuate=\"onRequest\" xlink:href=\"psysml:7ed521f9-b82c-428e-a042-7cd99724445f\" xlink:show=\"new\" xlink:title=\"psysml:7ed521f9-b82c-428e-a042-7cd99724445f\" xlink:type=\"simple\"><rect fill=\"#FEFECE\" filter=\"url(#f1pt0mysdi2hnd)\" height=\"58.7422\" id=\"E2\" style=\"stroke: #A80036; stroke-width: 1.5;\" width=\"67\" x=\"84.5\" y=\"164\"/><text fill=\"#000000\" font-family=\"sans-serif\" font-size=\"12\" font-style=\"italic\" lengthAdjust=\"spacingAndGlyphs\" textLength=\"65\" x=\"85.5\" y=\"180.1387\">«item def»</text><text fill=\"#000000\" font-family=\"sans-serif\" font-size=\"12\" lengthAdjust=\"spacingAndGlyphs\" textLength=\"8\" x=\"114\" y=\"194.1074\">C</text><line style=\"stroke: #A80036; stroke-width: 1.5;\" x1=\"85.5\" x2=\"150.5\" y1=\"201.9375\" y2=\"201.9375\"/><text fill=\"#000000\" font-family=\"sans-serif\" font-size=\"11\" lengthAdjust=\"spacingAndGlyphs\" textLength=\"38\" x=\"90.5\" y=\"216.1479\">x: Real</text></a><!--MD5=[09b614a08d8cba4a07c9adeb5e0fee81]\n",
       "class E3--><a href=\"psysml:f29a45b1-01e5-48c9-895e-094b774cc27f\" target=\"_top\" title=\"psysml:f29a45b1-01e5-48c9-895e-094b774cc27f\" xlink:actuate=\"onRequest\" xlink:href=\"psysml:f29a45b1-01e5-48c9-895e-094b774cc27f\" xlink:show=\"new\" xlink:title=\"psysml:f29a45b1-01e5-48c9-895e-094b774cc27f\" xlink:type=\"simple\"><rect fill=\"#FEFECE\" filter=\"url(#f1pt0mysdi2hnd)\" height=\"45.9375\" id=\"E3\" rx=\"10\" ry=\"10\" style=\"stroke: #A80036; stroke-width: 1.5;\" width=\"121\" x=\"57.5\" y=\"284\"/><text fill=\"#000000\" font-family=\"sans-serif\" font-size=\"12\" font-style=\"italic\" lengthAdjust=\"spacingAndGlyphs\" textLength=\"119\" x=\"58.5\" y=\"300.1387\">«assertConstraint»</text><text fill=\"#000000\" font-family=\"sans-serif\" font-size=\"12\" lengthAdjust=\"spacingAndGlyphs\" textLength=\"76\" x=\"80\" y=\"314.1074\">x_constraint</text><line style=\"stroke: #A80036; stroke-width: 1.5;\" x1=\"58.5\" x2=\"177.5\" y1=\"321.9375\" y2=\"321.9375\"/></a><!--MD5=[ebbe1d658d1005bcc118a6aa81145e00]\n",
       "class E4--><a href=\"psysml:55b9c562-7faa-4cb8-ac86-d366721fd3cf\" target=\"_top\" title=\"psysml:55b9c562-7faa-4cb8-ac86-d366721fd3cf\" xlink:actuate=\"onRequest\" xlink:href=\"psysml:55b9c562-7faa-4cb8-ac86-d366721fd3cf\" xlink:show=\"new\" xlink:title=\"psysml:55b9c562-7faa-4cb8-ac86-d366721fd3cf\" xlink:type=\"simple\"><rect fill=\"#FEFECE\" filter=\"url(#f1pt0mysdi2hnd)\" height=\"45.9375\" id=\"E4\" style=\"stroke: #A80036; stroke-width: 1.5;\" width=\"79\" x=\"78.5\" y=\"41\"/><text fill=\"#000000\" font-family=\"sans-serif\" font-size=\"12\" font-style=\"italic\" lengthAdjust=\"spacingAndGlyphs\" textLength=\"77\" x=\"79.5\" y=\"57.1387\">«action def»</text><text fill=\"#000000\" font-family=\"sans-serif\" font-size=\"12\" lengthAdjust=\"spacingAndGlyphs\" textLength=\"27\" x=\"104.5\" y=\"71.1074\">setX</text><line style=\"stroke: #A80036; stroke-width: 1.5;\" x1=\"79.5\" x2=\"156.5\" y1=\"78.9375\" y2=\"78.9375\"/></a><!--MD5=[209b3feb70ccb6233bfe1053d122c12c]\n",
       "reverse link E2 to E3--><a href=\"psysml:54ab6d27-8883-4622-a03e-a53956db7fe1\" target=\"_top\" title=\"psysml:54ab6d27-8883-4622-a03e-a53956db7fe1\" xlink:actuate=\"onRequest\" xlink:href=\"psysml:54ab6d27-8883-4622-a03e-a53956db7fe1\" xlink:show=\"new\" xlink:title=\"psysml:54ab6d27-8883-4622-a03e-a53956db7fe1\" xlink:type=\"simple\"><path d=\"M118,236.23 C118,252.35 118,270.14 118,283.72 \" fill=\"none\" id=\"E2&lt;-E3\" style=\"stroke: #A80036; stroke-width: 1.0;\"/><polygon fill=\"#A80036\" points=\"118,223.21,114,229.21,118,235.21,122,229.21,118,223.21\" style=\"stroke: #A80036; stroke-width: 1.0;\"/><text fill=\"#000000\" font-family=\"sans-serif\" font-size=\"13\" lengthAdjust=\"spacingAndGlyphs\" textLength=\"7\" x=\"110.1031\" y=\"272.9245\">*</text></a><!--MD5=[ddeed8deb2209213b62e6cfabaa108b2]\n",
       "reverse link E4 to E2--><a href=\"psysml:6b50cc19-3c51-4fdc-acb9-7cb54732aaba\" target=\"_top\" title=\"psysml:6b50cc19-3c51-4fdc-acb9-7cb54732aaba\" xlink:actuate=\"onRequest\" xlink:href=\"psysml:6b50cc19-3c51-4fdc-acb9-7cb54732aaba\" xlink:show=\"new\" xlink:title=\"psysml:6b50cc19-3c51-4fdc-acb9-7cb54732aaba\" xlink:type=\"simple\"><path d=\"M118,100.48 C118,120.46 118,145.09 118,163.84 \" fill=\"none\" id=\"E4&lt;-E2\" style=\"stroke: #A80036; stroke-width: 1.0;\"/><polygon fill=\"#FFFFFF\" points=\"118,87.21,114,93.21,118,99.21,122,93.21,118,87.21\" style=\"stroke: #A80036; stroke-width: 1.0;\"/><text fill=\"#000000\" font-family=\"sans-serif\" font-size=\"13\" lengthAdjust=\"spacingAndGlyphs\" textLength=\"7\" x=\"119\" y=\"130.0669\">c</text></a><!--MD5=[4533dd68285f6dabef26797e8549057f]\n",
       "@startuml\r\n",
       "skinparam wrapWidth 300\r\n",
       "hide circle\r\n",
       "\r\n",
       "package \"TextualRepresentationTest\" as E1  [[psysml:806baf2e-ef33-48f4-9893-87a395ee6712 ]]  {\r\n",
       "comp def \"C\" as E2  <<(T,blue) item def>> [[psysml:7ed521f9-b82c-428e-a042-7cd99724445f ]] {\r\n",
       "x: Real\r\n",
       "}\r\n",
       "comp usage \"x_constraint\" as E3  <<(T,blue) assertConstraint>> [[psysml:f29a45b1-01e5-48c9-895e-094b774cc27f ]] {\r\n",
       "}\r\n",
       "comp def \"setX\" as E4  <<(T,blue) action def>> [[psysml:55b9c562-7faa-4cb8-ac86-d366721fd3cf ]] {\r\n",
       "}\r\n",
       "}\r\n",
       "E2 *- - \"*\"E3 [[psysml:54ab6d27-8883-4622-a03e-a53956db7fe1 ]] \r\n",
       "E4 o- - E2 [[psysml:6b50cc19-3c51-4fdc-acb9-7cb54732aaba ]] : c\r\n",
       "@enduml\r\n",
       "\n",
       "PlantUML version 1.2020.13(Sat Jun 13 12:26:38 UTC 2020)\n",
       "(EPL source distribution)\n",
       "Java Runtime: OpenJDK Runtime Environment\n",
       "JVM: OpenJDK 64-Bit Server VM\n",
       "Default Encoding: UTF-8\n",
       "Language: en\n",
       "Country: null\n",
       "--></g></svg>"
      ]
     },
     "execution_count": 24,
     "metadata": {},
     "output_type": "execute_result"
    }
   ],
   "source": [
    "%viz --style=\"STDCOLOR\" --view=\"Tree\" \"TextualRepresentationTest\""
   ]
  },
  {
   "cell_type": "code",
   "execution_count": 25,
   "id": "9448a506",
   "metadata": {
    "execution": {
     "iopub.execute_input": "2021-10-03T08:29:35.079309Z",
     "iopub.status.busy": "2021-10-03T08:29:35.078915Z",
     "iopub.status.idle": "2021-10-03T08:29:35.083817Z",
     "shell.execute_reply": "2021-10-03T08:29:35.084130Z"
    }
   },
   "outputs": [
    {
     "data": {
      "image/svg+xml": [
       "<?xml version=\"1.0\" encoding=\"UTF-8\" standalone=\"no\"?><svg xmlns=\"http://www.w3.org/2000/svg\" xmlns:xlink=\"http://www.w3.org/1999/xlink\" contentScriptType=\"application/ecmascript\" contentStyleType=\"text/css\" height=\"12px\" preserveAspectRatio=\"none\" style=\"width:12px;height:12px;\" version=\"1.1\" viewBox=\"0 0 12 12\" width=\"12px\" zoomAndPan=\"magnify\"><defs/><g><!--MD5=[aeeef50f102b80d730deb6443d14f702]\n",
       "@startuml\r\n",
       "skinparam wrapWidth 300\r\n",
       "hide circle\r\n",
       "\r\n",
       "@enduml\r\n",
       "\n",
       "PlantUML version 1.2020.13(Sat Jun 13 12:26:38 UTC 2020)\n",
       "(EPL source distribution)\n",
       "Java Runtime: OpenJDK Runtime Environment\n",
       "JVM: OpenJDK 64-Bit Server VM\n",
       "Default Encoding: UTF-8\n",
       "Language: en\n",
       "Country: null\n",
       "--></g></svg>"
      ]
     },
     "execution_count": 25,
     "metadata": {},
     "output_type": "execute_result"
    }
   ],
   "source": [
    "%viz --style=\"STDCOLOR\" --view=\"State\" \"TextualRepresentationTest\""
   ]
  },
  {
   "cell_type": "code",
   "execution_count": 26,
   "id": "c0ab6f28",
   "metadata": {
    "execution": {
     "iopub.execute_input": "2021-10-03T08:29:35.133815Z",
     "iopub.status.busy": "2021-10-03T08:29:35.133422Z",
     "iopub.status.idle": "2021-10-03T08:29:35.161592Z",
     "shell.execute_reply": "2021-10-03T08:29:35.161234Z"
    }
   },
   "outputs": [
    {
     "data": {
      "image/svg+xml": [
       "<?xml version=\"1.0\" encoding=\"UTF-8\" standalone=\"no\"?><svg xmlns=\"http://www.w3.org/2000/svg\" xmlns:xlink=\"http://www.w3.org/1999/xlink\" contentScriptType=\"application/ecmascript\" contentStyleType=\"text/css\" height=\"179px\" preserveAspectRatio=\"none\" style=\"width:284px;height:179px;\" version=\"1.1\" viewBox=\"0 0 284 179\" width=\"284px\" zoomAndPan=\"magnify\"><defs><filter height=\"300%\" id=\"f16g928beqyxpq\" width=\"300%\" x=\"-1\" y=\"-1\"><feGaussianBlur result=\"blurOut\" stdDeviation=\"2.0\"/><feColorMatrix in=\"blurOut\" result=\"blurOut2\" type=\"matrix\" values=\"0 0 0 0 0 0 0 0 0 0 0 0 0 0 0 0 0 0 .4 0\"/><feOffset dx=\"4.0\" dy=\"4.0\" in=\"blurOut2\" result=\"blurOut3\"/><feBlend in=\"SourceGraphic\" in2=\"blurOut3\" mode=\"normal\"/></filter></defs><g><!--MD5=[fbc87193dbaf4d95561dea2c320d4a47]\n",
       "cluster E1--><a href=\"psysml:806baf2e-ef33-48f4-9893-87a395ee6712\" target=\"_top\" title=\"psysml:806baf2e-ef33-48f4-9893-87a395ee6712\" xlink:actuate=\"onRequest\" xlink:href=\"psysml:806baf2e-ef33-48f4-9893-87a395ee6712\" xlink:show=\"new\" xlink:title=\"psysml:806baf2e-ef33-48f4-9893-87a395ee6712\" xlink:type=\"simple\"><polygon fill=\"#FFFFFF\" filter=\"url(#f16g928beqyxpq)\" points=\"16,6,210,6,217,28.2969,262,28.2969,262,167,16,167,16,6\" style=\"stroke: #000000; stroke-width: 1.5;\"/><line style=\"stroke: #000000; stroke-width: 1.5;\" x1=\"16\" x2=\"217\" y1=\"28.2969\" y2=\"28.2969\"/><text fill=\"#000000\" font-family=\"sans-serif\" font-size=\"14\" font-weight=\"bold\" lengthAdjust=\"spacingAndGlyphs\" textLength=\"188\" x=\"20\" y=\"20.9951\">TextualRepresentationTest</text></a><!--MD5=[d5e69f78d87373223dbae638b30a9c99]\n",
       "cluster E3--><a href=\"psysml:55b9c562-7faa-4cb8-ac86-d366721fd3cf\" target=\"_top\" title=\"psysml:55b9c562-7faa-4cb8-ac86-d366721fd3cf\" xlink:actuate=\"onRequest\" xlink:href=\"psysml:55b9c562-7faa-4cb8-ac86-d366721fd3cf\" xlink:show=\"new\" xlink:title=\"psysml:55b9c562-7faa-4cb8-ac86-d366721fd3cf\" xlink:type=\"simple\"><rect fill=\"#FFFFFF\" filter=\"url(#f16g928beqyxpq)\" height=\"88.5\" id=\"E3\" style=\"stroke: #A80036; stroke-width: 1.5;\" width=\"96\" x=\"120.5\" y=\"62.5\"/><rect fill=\"#FEFECE\" height=\"37.9375\" style=\"stroke: #A80036; stroke-width: 1.5;\" width=\"96\" x=\"120.5\" y=\"62.5\"/><text fill=\"#000000\" font-family=\"sans-serif\" font-size=\"12\" font-style=\"italic\" lengthAdjust=\"spacingAndGlyphs\" textLength=\"77\" x=\"130\" y=\"78.6387\">«action def»</text><text fill=\"#000000\" font-family=\"sans-serif\" font-size=\"12\" lengthAdjust=\"spacingAndGlyphs\" textLength=\"27\" x=\"155\" y=\"92.6074\">setX</text></a><g id=\"E1.E2\"><a href=\"psysml:7ed521f9-b82c-428e-a042-7cd99724445f\" target=\"_top\" title=\"psysml:7ed521f9-b82c-428e-a042-7cd99724445f\" xlink:actuate=\"onRequest\" xlink:href=\"psysml:7ed521f9-b82c-428e-a042-7cd99724445f\" xlink:show=\"new\" xlink:title=\"psysml:7ed521f9-b82c-428e-a042-7cd99724445f\" xlink:type=\"simple\"><rect fill=\"#FEFECE\" filter=\"url(#f16g928beqyxpq)\" height=\"42.9375\" id=\"E2\" style=\"stroke: #A80036; stroke-width: 1.5;\" width=\"72\" x=\"32\" y=\"41\"/><text fill=\"#000000\" font-family=\"sans-serif\" font-size=\"12\" font-style=\"italic\" lengthAdjust=\"spacingAndGlyphs\" textLength=\"65\" x=\"35.5\" y=\"57.1387\">«item def»</text><text fill=\"#000000\" font-family=\"sans-serif\" font-size=\"12\" lengthAdjust=\"spacingAndGlyphs\" textLength=\"8\" x=\"64\" y=\"71.1074\">C</text></a></g><text fill=\"#000000\" font-family=\"sans-serif\" font-size=\"14\" lengthAdjust=\"spacingAndGlyphs\" textLength=\"8\" x=\"141\" y=\"41.1982\">c</text><rect fill=\"#A80036\" height=\"12\" style=\"stroke: #FEFECE; stroke-width: 1.5;\" width=\"12\" x=\"139\" y=\"56.5\"/><text fill=\"#000000\" font-family=\"sans-serif\" font-size=\"14\" lengthAdjust=\"spacingAndGlyphs\" textLength=\"38\" x=\"173\" y=\"41.1982\">newX</text><rect fill=\"#A80036\" height=\"12\" style=\"stroke: #FEFECE; stroke-width: 1.5;\" width=\"12\" x=\"186\" y=\"56.5\"/><!--MD5=[23042c27e80a4fe421304f2bd5d171d4]\n",
       "@startuml\r\n",
       "skinparam ranksep 10\r\n",
       "skinparam rectangle {\r\n",
       " backgroundColor<<block>> LightGreen\r\n",
       "}\r\n",
       "skinparam wrapWidth 300\r\n",
       "hide circle\r\n",
       "\r\n",
       "package \"TextualRepresentationTest\" as E1  [[psysml:806baf2e-ef33-48f4-9893-87a395ee6712 ]]  {\r\n",
       "def \"C\" as E2  <<(T,blue) item def>> [[psysml:7ed521f9-b82c-428e-a042-7cd99724445f ]] \r\n",
       "rec def \"setX\" as E3  <<(T,blue) action def>> [[psysml:55b9c562-7faa-4cb8-ac86-d366721fd3cf ]] {\r\n",
       "portin \"c\" as E4  [[psysml:6b50cc19-3c51-4fdc-acb9-7cb54732aaba ]] \r\n",
       "portin \"newX\" as E5  [[psysml:036e652a-b19a-4307-ba90-1008950a3600 ]] \r\n",
       "}\r\n",
       "\r\n",
       "}\r\n",
       "@enduml\r\n",
       "\n",
       "PlantUML version 1.2020.13(Sat Jun 13 12:26:38 UTC 2020)\n",
       "(EPL source distribution)\n",
       "Java Runtime: OpenJDK Runtime Environment\n",
       "JVM: OpenJDK 64-Bit Server VM\n",
       "Default Encoding: UTF-8\n",
       "Language: en\n",
       "Country: null\n",
       "--></g></svg>"
      ]
     },
     "execution_count": 26,
     "metadata": {},
     "output_type": "execute_result"
    }
   ],
   "source": [
    "%viz --style=\"STDCOLOR\" --view=\"Interconnection\" \"TextualRepresentationTest\""
   ]
  },
  {
   "cell_type": "code",
   "execution_count": 27,
   "id": "cb0df583",
   "metadata": {
    "execution": {
     "iopub.execute_input": "2021-10-03T08:29:35.210740Z",
     "iopub.status.busy": "2021-10-03T08:29:35.210347Z",
     "iopub.status.idle": "2021-10-03T08:29:35.233925Z",
     "shell.execute_reply": "2021-10-03T08:29:35.233592Z"
    }
   },
   "outputs": [
    {
     "data": {
      "image/svg+xml": [
       "<?xml version=\"1.0\" encoding=\"UTF-8\" standalone=\"no\"?><svg xmlns=\"http://www.w3.org/2000/svg\" xmlns:xlink=\"http://www.w3.org/1999/xlink\" contentScriptType=\"application/ecmascript\" contentStyleType=\"text/css\" height=\"134px\" preserveAspectRatio=\"none\" style=\"width:158px;height:134px;\" version=\"1.1\" viewBox=\"0 0 158 134\" width=\"158px\" zoomAndPan=\"magnify\"><defs><filter height=\"300%\" id=\"fiz6rwm8enaru\" width=\"300%\" x=\"-1\" y=\"-1\"><feGaussianBlur result=\"blurOut\" stdDeviation=\"2.0\"/><feColorMatrix in=\"blurOut\" result=\"blurOut2\" type=\"matrix\" values=\"0 0 0 0 0 0 0 0 0 0 0 0 0 0 0 0 0 0 .4 0\"/><feOffset dx=\"4.0\" dy=\"4.0\" in=\"blurOut2\" result=\"blurOut3\"/><feBlend in=\"SourceGraphic\" in2=\"blurOut3\" mode=\"normal\"/></filter></defs><g><!--MD5=[fbc87193dbaf4d95561dea2c320d4a47]\n",
       "cluster E1--><a href=\"psysml:55b9c562-7faa-4cb8-ac86-d366721fd3cf\" target=\"_top\" title=\"psysml:55b9c562-7faa-4cb8-ac86-d366721fd3cf\" xlink:actuate=\"onRequest\" xlink:href=\"psysml:55b9c562-7faa-4cb8-ac86-d366721fd3cf\" xlink:show=\"new\" xlink:title=\"psysml:55b9c562-7faa-4cb8-ac86-d366721fd3cf\" xlink:type=\"simple\"><rect fill=\"#FFFFFF\" filter=\"url(#fiz6rwm8enaru)\" height=\"73\" id=\"E1\" style=\"stroke: #A80036; stroke-width: 1.5;\" width=\"132\" x=\"7\" y=\"42.0986\"/><rect fill=\"#FEFECE\" height=\"37.9375\" style=\"stroke: #A80036; stroke-width: 1.5;\" width=\"132\" x=\"7\" y=\"42.0986\"/><text fill=\"#000000\" font-family=\"sans-serif\" font-size=\"12\" font-style=\"italic\" lengthAdjust=\"spacingAndGlyphs\" textLength=\"77\" x=\"34.5\" y=\"58.2373\">«action def»</text><text fill=\"#000000\" font-family=\"sans-serif\" font-size=\"12\" lengthAdjust=\"spacingAndGlyphs\" textLength=\"27\" x=\"59.5\" y=\"72.2061\">setX</text></a><text fill=\"#000000\" font-family=\"sans-serif\" font-size=\"14\" lengthAdjust=\"spacingAndGlyphs\" textLength=\"8\" x=\"21\" y=\"20.7969\">c</text><rect fill=\"#A80036\" height=\"12\" style=\"stroke: #FEFECE; stroke-width: 1.5;\" width=\"12\" x=\"19\" y=\"36.0986\"/><text fill=\"#000000\" font-family=\"sans-serif\" font-size=\"14\" lengthAdjust=\"spacingAndGlyphs\" textLength=\"38\" x=\"53\" y=\"20.7969\">newX</text><rect fill=\"#A80036\" height=\"12\" style=\"stroke: #FEFECE; stroke-width: 1.5;\" width=\"12\" x=\"66\" y=\"36.0986\"/><!--MD5=[c810857cb839108eb15268b1c7f926e2]\n",
       "@startuml\r\n",
       "skinparam ranksep 8\r\n",
       "skinparam wrapWidth 300\r\n",
       "hide circle\r\n",
       "\r\n",
       "rec def \"setX\" as E1  <<(T,blue) action def>> [[psysml:55b9c562-7faa-4cb8-ac86-d366721fd3cf ]] {\r\n",
       "portin \"c\" as E2  [[psysml:6b50cc19-3c51-4fdc-acb9-7cb54732aaba ]] \r\n",
       "portin \"newX\" as E3  [[psysml:036e652a-b19a-4307-ba90-1008950a3600 ]] \r\n",
       "}\r\n",
       "\r\n",
       "@enduml\r\n",
       "\n",
       "PlantUML version 1.2020.13(Sat Jun 13 12:26:38 UTC 2020)\n",
       "(EPL source distribution)\n",
       "Java Runtime: OpenJDK Runtime Environment\n",
       "JVM: OpenJDK 64-Bit Server VM\n",
       "Default Encoding: UTF-8\n",
       "Language: en\n",
       "Country: null\n",
       "--></g></svg>"
      ]
     },
     "execution_count": 27,
     "metadata": {},
     "output_type": "execute_result"
    }
   ],
   "source": [
    "%viz --style=\"STDCOLOR\" --view=\"Action\" \"TextualRepresentationTest\""
   ]
  },
  {
   "cell_type": "code",
   "execution_count": 28,
   "id": "25532c32",
   "metadata": {
    "execution": {
     "iopub.execute_input": "2021-10-03T08:29:35.283412Z",
     "iopub.status.busy": "2021-10-03T08:29:35.283024Z",
     "iopub.status.idle": "2021-10-03T08:29:35.288440Z",
     "shell.execute_reply": "2021-10-03T08:29:35.288748Z"
    }
   },
   "outputs": [
    {
     "data": {
      "image/svg+xml": [
       "<?xml version=\"1.0\" encoding=\"UTF-8\" standalone=\"no\"?><svg xmlns=\"http://www.w3.org/2000/svg\" xmlns:xlink=\"http://www.w3.org/1999/xlink\" contentScriptType=\"application/ecmascript\" contentStyleType=\"text/css\" height=\"12px\" preserveAspectRatio=\"none\" style=\"width:12px;height:12px;\" version=\"1.1\" viewBox=\"0 0 12 12\" width=\"12px\" zoomAndPan=\"magnify\"><defs/><g><!--MD5=[6c4bca67b4d71758159a5a7f1f1e1fc2]\n",
       "@startuml\r\n",
       "skinparam roundcorner 20\r\n",
       "skinparam BoxPadding 20\r\n",
       "skinparam SequenceBoxBackgroundColor #white\r\n",
       "skinparam style strictuml\r\n",
       "skinparam maxMessageSize 100\r\n",
       "skinparam wrapWidth 300\r\n",
       "hide circle\r\n",
       "\r\n",
       "@enduml\r\n",
       "\n",
       "PlantUML version 1.2020.13(Sat Jun 13 12:26:38 UTC 2020)\n",
       "(EPL source distribution)\n",
       "Java Runtime: OpenJDK Runtime Environment\n",
       "JVM: OpenJDK 64-Bit Server VM\n",
       "Default Encoding: UTF-8\n",
       "Language: en\n",
       "Country: null\n",
       "--></g></svg>"
      ]
     },
     "execution_count": 28,
     "metadata": {},
     "output_type": "execute_result"
    }
   ],
   "source": [
    "%viz --style=\"STDCOLOR\" --view=\"Sequence\" \"TextualRepresentationTest\""
   ]
  },
  {
   "cell_type": "code",
   "execution_count": 29,
   "id": "8823fd97",
   "metadata": {
    "execution": {
     "iopub.execute_input": "2021-10-03T08:29:35.338377Z",
     "iopub.status.busy": "2021-10-03T08:29:35.337990Z",
     "iopub.status.idle": "2021-10-03T08:29:35.374039Z",
     "shell.execute_reply": "2021-10-03T08:29:35.373696Z"
    }
   },
   "outputs": [
    {
     "data": {
      "image/svg+xml": [
       "<?xml version=\"1.0\" encoding=\"UTF-8\" standalone=\"no\"?><svg xmlns=\"http://www.w3.org/2000/svg\" xmlns:xlink=\"http://www.w3.org/1999/xlink\" contentScriptType=\"application/ecmascript\" contentStyleType=\"text/css\" height=\"244px\" preserveAspectRatio=\"none\" style=\"width:345px;height:244px;\" version=\"1.1\" viewBox=\"0 0 345 244\" width=\"345px\" zoomAndPan=\"magnify\"><defs><filter height=\"300%\" id=\"fac3upffsrng6\" width=\"300%\" x=\"-1\" y=\"-1\"><feGaussianBlur result=\"blurOut\" stdDeviation=\"2.0\"/><feColorMatrix in=\"blurOut\" result=\"blurOut2\" type=\"matrix\" values=\"0 0 0 0 0 0 0 0 0 0 0 0 0 0 0 0 0 0 .4 0\"/><feOffset dx=\"4.0\" dy=\"4.0\" in=\"blurOut2\" result=\"blurOut3\"/><feBlend in=\"SourceGraphic\" in2=\"blurOut3\" mode=\"normal\"/></filter></defs><g><!--MD5=[fbc87193dbaf4d95561dea2c320d4a47]\n",
       "cluster E1--><a href=\"psysml:806baf2e-ef33-48f4-9893-87a395ee6712\" target=\"_top\" title=\"psysml:806baf2e-ef33-48f4-9893-87a395ee6712\" xlink:actuate=\"onRequest\" xlink:href=\"psysml:806baf2e-ef33-48f4-9893-87a395ee6712\" xlink:show=\"new\" xlink:title=\"psysml:806baf2e-ef33-48f4-9893-87a395ee6712\" xlink:type=\"simple\"><polygon fill=\"#FFFFFF\" filter=\"url(#fac3upffsrng6)\" points=\"16,6,210,6,217,28.2969,323,28.2969,323,232.5,16,232.5,16,6\" style=\"stroke: #000000; stroke-width: 1.5;\"/><line style=\"stroke: #000000; stroke-width: 1.5;\" x1=\"16\" x2=\"217\" y1=\"28.2969\" y2=\"28.2969\"/><text fill=\"#000000\" font-family=\"sans-serif\" font-size=\"14\" font-weight=\"bold\" lengthAdjust=\"spacingAndGlyphs\" textLength=\"188\" x=\"20\" y=\"20.9951\">TextualRepresentationTest</text></a><!--MD5=[f6df4d0ebaf0b5dfb2ced0ae5af7c670]\n",
       "cluster E4--><a href=\"psysml:55b9c562-7faa-4cb8-ac86-d366721fd3cf\" target=\"_top\" title=\"psysml:55b9c562-7faa-4cb8-ac86-d366721fd3cf\" xlink:actuate=\"onRequest\" xlink:href=\"psysml:55b9c562-7faa-4cb8-ac86-d366721fd3cf\" xlink:show=\"new\" xlink:title=\"psysml:55b9c562-7faa-4cb8-ac86-d366721fd3cf\" xlink:type=\"simple\"><rect fill=\"#FFFFFF\" filter=\"url(#fac3upffsrng6)\" height=\"146\" id=\"E4\" style=\"stroke: #A80036; stroke-width: 1.5;\" width=\"132\" x=\"175\" y=\"70.5\"/><rect fill=\"#FEFECE\" height=\"37.9375\" style=\"stroke: #A80036; stroke-width: 1.5;\" width=\"132\" x=\"175\" y=\"70.5\"/><text fill=\"#000000\" font-family=\"sans-serif\" font-size=\"12\" font-style=\"italic\" lengthAdjust=\"spacingAndGlyphs\" textLength=\"77\" x=\"202.5\" y=\"86.6387\">«action def»</text><text fill=\"#000000\" font-family=\"sans-serif\" font-size=\"12\" lengthAdjust=\"spacingAndGlyphs\" textLength=\"27\" x=\"227.5\" y=\"100.6074\">setX</text></a><!--MD5=[b4997ac47864f28c2f74865a473b2911]\n",
       "class E2--><a href=\"psysml:7ed521f9-b82c-428e-a042-7cd99724445f\" target=\"_top\" title=\"psysml:7ed521f9-b82c-428e-a042-7cd99724445f\" xlink:actuate=\"onRequest\" xlink:href=\"psysml:7ed521f9-b82c-428e-a042-7cd99724445f\" xlink:show=\"new\" xlink:title=\"psysml:7ed521f9-b82c-428e-a042-7cd99724445f\" xlink:type=\"simple\"><rect fill=\"#FEFECE\" filter=\"url(#fac3upffsrng6)\" height=\"58.7422\" id=\"E2\" style=\"stroke: #A80036; stroke-width: 1.5;\" width=\"67\" x=\"59.5\" y=\"41\"/><text fill=\"#000000\" font-family=\"sans-serif\" font-size=\"12\" font-style=\"italic\" lengthAdjust=\"spacingAndGlyphs\" textLength=\"65\" x=\"60.5\" y=\"57.1387\">«item def»</text><text fill=\"#000000\" font-family=\"sans-serif\" font-size=\"12\" lengthAdjust=\"spacingAndGlyphs\" textLength=\"8\" x=\"89\" y=\"71.1074\">C</text><line style=\"stroke: #A80036; stroke-width: 1.5;\" x1=\"60.5\" x2=\"125.5\" y1=\"78.9375\" y2=\"78.9375\"/><text fill=\"#000000\" font-family=\"sans-serif\" font-size=\"11\" lengthAdjust=\"spacingAndGlyphs\" textLength=\"38\" x=\"65.5\" y=\"93.1479\">x: Real</text></a><!--MD5=[09b614a08d8cba4a07c9adeb5e0fee81]\n",
       "class E3--><a href=\"psysml:f29a45b1-01e5-48c9-895e-094b774cc27f\" target=\"_top\" title=\"psysml:f29a45b1-01e5-48c9-895e-094b774cc27f\" xlink:actuate=\"onRequest\" xlink:href=\"psysml:f29a45b1-01e5-48c9-895e-094b774cc27f\" xlink:show=\"new\" xlink:title=\"psysml:f29a45b1-01e5-48c9-895e-094b774cc27f\" xlink:type=\"simple\"><rect fill=\"#FEFECE\" filter=\"url(#fac3upffsrng6)\" height=\"45.9375\" id=\"E3\" rx=\"10\" ry=\"10\" style=\"stroke: #A80036; stroke-width: 1.5;\" width=\"121\" x=\"32.5\" y=\"160\"/><text fill=\"#000000\" font-family=\"sans-serif\" font-size=\"12\" font-style=\"italic\" lengthAdjust=\"spacingAndGlyphs\" textLength=\"119\" x=\"33.5\" y=\"176.1387\">«assertConstraint»</text><text fill=\"#000000\" font-family=\"sans-serif\" font-size=\"12\" lengthAdjust=\"spacingAndGlyphs\" textLength=\"76\" x=\"55\" y=\"190.1074\">x_constraint</text><line style=\"stroke: #A80036; stroke-width: 1.5;\" x1=\"33.5\" x2=\"152.5\" y1=\"197.9375\" y2=\"197.9375\"/></a><text fill=\"#000000\" font-family=\"sans-serif\" font-size=\"14\" lengthAdjust=\"spacingAndGlyphs\" textLength=\"8\" x=\"189\" y=\"49.1982\">c</text><rect fill=\"#A80036\" height=\"12\" style=\"stroke: #FEFECE; stroke-width: 1.5;\" width=\"12\" x=\"187\" y=\"64.5\"/><text fill=\"#000000\" font-family=\"sans-serif\" font-size=\"14\" lengthAdjust=\"spacingAndGlyphs\" textLength=\"38\" x=\"221\" y=\"49.1982\">newX</text><rect fill=\"#A80036\" height=\"12\" style=\"stroke: #FEFECE; stroke-width: 1.5;\" width=\"12\" x=\"234\" y=\"64.5\"/><!--MD5=[209b3feb70ccb6233bfe1053d122c12c]\n",
       "reverse link E2 to E3--><a href=\"psysml:54ab6d27-8883-4622-a03e-a53956db7fe1\" target=\"_top\" title=\"psysml:54ab6d27-8883-4622-a03e-a53956db7fe1\" xlink:actuate=\"onRequest\" xlink:href=\"psysml:54ab6d27-8883-4622-a03e-a53956db7fe1\" xlink:show=\"new\" xlink:title=\"psysml:54ab6d27-8883-4622-a03e-a53956db7fe1\" xlink:type=\"simple\"><path d=\"M93,113.51 C93,129.22 93,146.43 93,159.68 \" fill=\"none\" id=\"E2&lt;-E3\" style=\"stroke: #A80036; stroke-width: 1.0;\"/><polygon fill=\"#A80036\" points=\"93,100.24,89,106.24,93,112.24,97,106.24,93,100.24\" style=\"stroke: #A80036; stroke-width: 1.0;\"/><text fill=\"#000000\" font-family=\"sans-serif\" font-size=\"13\" lengthAdjust=\"spacingAndGlyphs\" textLength=\"7\" x=\"85.1031\" y=\"148.8743\">*</text></a><!--MD5=[1b1e2c71ab6e1addbed5413af79728c4]\n",
       "@startuml\r\n",
       "skinparam wrapWidth 300\r\n",
       "hide circle\r\n",
       "\r\n",
       "package \"TextualRepresentationTest\" as E1  [[psysml:806baf2e-ef33-48f4-9893-87a395ee6712 ]]  {\r\n",
       "comp def \"C\" as E2  <<(T,blue) item def>> [[psysml:7ed521f9-b82c-428e-a042-7cd99724445f ]] {\r\n",
       "x: Real\r\n",
       "}\r\n",
       "comp usage \"x_constraint\" as E3  <<(T,blue) assertConstraint>> [[psysml:f29a45b1-01e5-48c9-895e-094b774cc27f ]] {\r\n",
       "}\r\n",
       "rec def \"setX\" as E4  <<(T,blue) action def>> [[psysml:55b9c562-7faa-4cb8-ac86-d366721fd3cf ]] {\r\n",
       "portin \"c\" as E5  [[psysml:6b50cc19-3c51-4fdc-acb9-7cb54732aaba ]] \r\n",
       "portin \"newX\" as E6  [[psysml:036e652a-b19a-4307-ba90-1008950a3600 ]] \r\n",
       "}\r\n",
       "\r\n",
       "}\r\n",
       "E2 *- - \"*\"E3 [[psysml:54ab6d27-8883-4622-a03e-a53956db7fe1 ]] \r\n",
       "@enduml\r\n",
       "\n",
       "PlantUML version 1.2020.13(Sat Jun 13 12:26:38 UTC 2020)\n",
       "(EPL source distribution)\n",
       "Java Runtime: OpenJDK Runtime Environment\n",
       "JVM: OpenJDK 64-Bit Server VM\n",
       "Default Encoding: UTF-8\n",
       "Language: en\n",
       "Country: null\n",
       "--></g></svg>"
      ]
     },
     "execution_count": 29,
     "metadata": {},
     "output_type": "execute_result"
    }
   ],
   "source": [
    "%viz --style=\"STDCOLOR\" --view=\"MIXED\" \"TextualRepresentationTest\""
   ]
  },
  {
   "cell_type": "code",
   "execution_count": 30,
   "id": "1cb01462",
   "metadata": {
    "execution": {
     "iopub.execute_input": "2021-10-03T08:29:35.423523Z",
     "iopub.status.busy": "2021-10-03T08:29:35.423135Z",
     "iopub.status.idle": "2021-10-03T08:29:35.478442Z",
     "shell.execute_reply": "2021-10-03T08:29:35.478092Z"
    }
   },
   "outputs": [
    {
     "data": {
      "image/svg+xml": [
       "<?xml version=\"1.0\" encoding=\"UTF-8\" standalone=\"no\"?><svg xmlns=\"http://www.w3.org/2000/svg\" xmlns:xlink=\"http://www.w3.org/1999/xlink\" contentScriptType=\"application/ecmascript\" contentStyleType=\"text/css\" height=\"238px\" preserveAspectRatio=\"none\" style=\"width:371px;height:238px;\" version=\"1.1\" viewBox=\"0 0 371 238\" width=\"371px\" zoomAndPan=\"magnify\"><defs><filter height=\"300%\" id=\"f1dw8lxja24xr\" width=\"300%\" x=\"-1\" y=\"-1\"><feGaussianBlur result=\"blurOut\" stdDeviation=\"2.0\"/><feColorMatrix in=\"blurOut\" result=\"blurOut2\" type=\"matrix\" values=\"0 0 0 0 0 0 0 0 0 0 0 0 0 0 0 0 0 0 .4 0\"/><feOffset dx=\"4.0\" dy=\"4.0\" in=\"blurOut2\" result=\"blurOut3\"/><feBlend in=\"SourceGraphic\" in2=\"blurOut3\" mode=\"normal\"/></filter></defs><g><!--MD5=[fbc87193dbaf4d95561dea2c320d4a47]\n",
       "cluster E1--><a href=\"psysml:806baf2e-ef33-48f4-9893-87a395ee6712\" target=\"_top\" title=\"psysml:806baf2e-ef33-48f4-9893-87a395ee6712\" xlink:actuate=\"onRequest\" xlink:href=\"psysml:806baf2e-ef33-48f4-9893-87a395ee6712\" xlink:show=\"new\" xlink:title=\"psysml:806baf2e-ef33-48f4-9893-87a395ee6712\" xlink:type=\"simple\"><polygon fill=\"#FFFFFF\" filter=\"url(#f1dw8lxja24xr)\" points=\"16,6,210,6,217,28.2969,349,28.2969,349,226.5,16,226.5,16,6\" style=\"stroke: #000000; stroke-width: 1.5;\"/><line style=\"stroke: #000000; stroke-width: 1.5;\" x1=\"16\" x2=\"217\" y1=\"28.2969\" y2=\"28.2969\"/><text fill=\"#000000\" font-family=\"sans-serif\" font-size=\"14\" font-weight=\"bold\" lengthAdjust=\"spacingAndGlyphs\" textLength=\"188\" x=\"20\" y=\"20.9951\">TextualRepresentationTest</text></a><!--MD5=[f6df4d0ebaf0b5dfb2ced0ae5af7c670]\n",
       "cluster E4--><a href=\"psysml:55b9c562-7faa-4cb8-ac86-d366721fd3cf\" target=\"_top\" title=\"psysml:55b9c562-7faa-4cb8-ac86-d366721fd3cf\" xlink:actuate=\"onRequest\" xlink:href=\"psysml:55b9c562-7faa-4cb8-ac86-d366721fd3cf\" xlink:show=\"new\" xlink:title=\"psysml:55b9c562-7faa-4cb8-ac86-d366721fd3cf\" xlink:type=\"simple\"><rect fill=\"#FFFFFF\" filter=\"url(#f1dw8lxja24xr)\" height=\"143\" id=\"E4\" style=\"stroke: #A80036; stroke-width: 1.5;\" width=\"132\" x=\"201\" y=\"67.5\"/><rect fill=\"#FEFECE\" height=\"37.9375\" style=\"stroke: #A80036; stroke-width: 1.5;\" width=\"132\" x=\"201\" y=\"67.5\"/><text fill=\"#000000\" font-family=\"sans-serif\" font-size=\"12\" font-style=\"italic\" lengthAdjust=\"spacingAndGlyphs\" textLength=\"77\" x=\"228.5\" y=\"83.6387\">«action def»</text><text fill=\"#000000\" font-family=\"sans-serif\" font-size=\"12\" lengthAdjust=\"spacingAndGlyphs\" textLength=\"27\" x=\"253.5\" y=\"97.6074\">setX</text></a><!--MD5=[b4997ac47864f28c2f74865a473b2911]\n",
       "class E2--><a href=\"psysml:7ed521f9-b82c-428e-a042-7cd99724445f\" target=\"_top\" title=\"psysml:7ed521f9-b82c-428e-a042-7cd99724445f\" xlink:actuate=\"onRequest\" xlink:href=\"psysml:7ed521f9-b82c-428e-a042-7cd99724445f\" xlink:show=\"new\" xlink:title=\"psysml:7ed521f9-b82c-428e-a042-7cd99724445f\" xlink:type=\"simple\"><rect fill=\"#FEFECE\" filter=\"url(#f1dw8lxja24xr)\" height=\"52.8047\" id=\"E2\" style=\"stroke: #A80036; stroke-width: 1.5;\" width=\"50\" x=\"81\" y=\"41\"/><ellipse cx=\"100.5\" cy=\"57\" fill=\"#008000\" rx=\"11\" ry=\"11\" style=\"stroke: #A80036; stroke-width: 1.0;\"/><path d=\"M97.375,62 L97.375,51.4063 L100.6094,51.4063 Q102.5156,51.4063 103.4219,52.1563 Q104.3438,52.9063 104.3438,54.0781 Q104.3438,54.7656 103.9531,55.4219 Q103.5781,56.0781 102.8594,56.375 Q103.7188,56.75 104.2344,57.4375 Q104.75,58.125 104.75,58.9375 Q104.75,60.3125 103.7188,61.1563 Q102.7031,62 100.5938,62 L97.375,62 Z M99.2969,55.6406 L100.4531,55.6406 Q101.5781,55.6406 101.9844,55.2656 Q102.4063,54.875 102.4063,54.25 Q102.4063,53.6719 101.9844,53.3125 Q101.5625,52.9531 100.625,52.9531 L99.2969,52.9531 L99.2969,55.6406 Z M99.2969,60.4219 L100.7969,60.4219 Q101.7031,60.4219 102.2344,60.0313 Q102.7656,59.6406 102.7656,58.8906 Q102.7656,58.125 102.2656,57.6563 Q101.7656,57.1719 100.5,57.1719 L99.2969,57.1719 L99.2969,60.4219 Z \"/><text fill=\"#000000\" font-family=\"sans-serif\" font-size=\"12\" lengthAdjust=\"spacingAndGlyphs\" textLength=\"8\" x=\"115.5\" y=\"61.1543\">C</text><line style=\"stroke: #A80036; stroke-width: 1.5;\" x1=\"82\" x2=\"130\" y1=\"73\" y2=\"73\"/><text fill=\"#000000\" font-family=\"sans-serif\" font-size=\"11\" lengthAdjust=\"spacingAndGlyphs\" textLength=\"38\" x=\"87\" y=\"87.2104\">x: Real</text></a><!--MD5=[09b614a08d8cba4a07c9adeb5e0fee81]\n",
       "class E3--><a href=\"psysml:f29a45b1-01e5-48c9-895e-094b774cc27f\" target=\"_top\" title=\"psysml:f29a45b1-01e5-48c9-895e-094b774cc27f\" xlink:actuate=\"onRequest\" xlink:href=\"psysml:f29a45b1-01e5-48c9-895e-094b774cc27f\" xlink:show=\"new\" xlink:title=\"psysml:f29a45b1-01e5-48c9-895e-094b774cc27f\" xlink:type=\"simple\"><rect fill=\"#FEFECE\" filter=\"url(#f1dw8lxja24xr)\" height=\"45.9375\" id=\"E3\" rx=\"10\" ry=\"10\" style=\"stroke: #A80036; stroke-width: 1.5;\" width=\"147\" x=\"32.5\" y=\"154\"/><ellipse cx=\"47.5\" cy=\"172.9688\" fill=\"#FFA500\" rx=\"11\" ry=\"11\" style=\"stroke: #A80036; stroke-width: 1.0;\"/><path d=\"M47.25,178.4375 Q45.5,178.4375 44.5469,177.4063 Q43.6094,176.3594 43.6094,174.5156 L43.6094,167.625 L45.6719,167.625 L45.6719,167.7813 Q45.5781,167.875 45.5469,168.0156 Q45.5313,168.1406 45.5313,168.4063 L45.5313,174.5313 Q45.5313,175.625 45.9063,176.25 Q46.2813,176.875 47.2656,176.875 Q48.25,176.875 48.6406,176.25 Q49.0313,175.625 49.0313,174.4844 L49.0313,167.625 L50.9063,167.625 L50.9063,174.4688 Q50.9063,176.5 49.875,177.4688 Q48.8594,178.4375 47.25,178.4375 Z \"/><text fill=\"#000000\" font-family=\"sans-serif\" font-size=\"12\" font-style=\"italic\" lengthAdjust=\"spacingAndGlyphs\" textLength=\"119\" x=\"59.5\" y=\"170.1387\">«assertConstraint»</text><text fill=\"#000000\" font-family=\"sans-serif\" font-size=\"12\" lengthAdjust=\"spacingAndGlyphs\" textLength=\"76\" x=\"81\" y=\"184.1074\">x_constraint</text><line style=\"stroke: #A80036; stroke-width: 1.5;\" x1=\"33.5\" x2=\"178.5\" y1=\"191.9375\" y2=\"191.9375\"/></a><text fill=\"#000000\" font-family=\"sans-serif\" font-size=\"14\" lengthAdjust=\"spacingAndGlyphs\" textLength=\"8\" x=\"215\" y=\"46.1982\">c</text><rect fill=\"#A80036\" height=\"12\" style=\"stroke: #FEFECE; stroke-width: 1.5;\" width=\"12\" x=\"213\" y=\"61.5\"/><text fill=\"#000000\" font-family=\"sans-serif\" font-size=\"14\" lengthAdjust=\"spacingAndGlyphs\" textLength=\"38\" x=\"247\" y=\"46.1982\">newX</text><rect fill=\"#A80036\" height=\"12\" style=\"stroke: #FEFECE; stroke-width: 1.5;\" width=\"12\" x=\"260\" y=\"61.5\"/><!--MD5=[209b3feb70ccb6233bfe1053d122c12c]\n",
       "reverse link E2 to E3--><a href=\"psysml:54ab6d27-8883-4622-a03e-a53956db7fe1\" target=\"_top\" title=\"psysml:54ab6d27-8883-4622-a03e-a53956db7fe1\" xlink:actuate=\"onRequest\" xlink:href=\"psysml:54ab6d27-8883-4622-a03e-a53956db7fe1\" xlink:show=\"new\" xlink:title=\"psysml:54ab6d27-8883-4622-a03e-a53956db7fe1\" xlink:type=\"simple\"><path d=\"M106,107.34 C106,122.93 106,140.35 106,153.74 \" fill=\"none\" id=\"E2&lt;-E3\" style=\"stroke: #A80036; stroke-width: 1.0;\"/><polygon fill=\"#A80036\" points=\"106,94.25,102,100.25,106,106.25,110,100.25,106,94.25\" style=\"stroke: #A80036; stroke-width: 1.0;\"/><text fill=\"#000000\" font-family=\"sans-serif\" font-size=\"13\" lengthAdjust=\"spacingAndGlyphs\" textLength=\"7\" x=\"98.1031\" y=\"142.9497\">*</text></a><!--MD5=[13113299365c80752438385f876b2545]\n",
       "@startuml\r\n",
       " \r\n",
       "package \"TextualRepresentationTest\" as E1  [[psysml:806baf2e-ef33-48f4-9893-87a395ee6712 ]]  {\r\n",
       "comp def \"C\" as E2 << << (B,green) >> [[psysml:7ed521f9-b82c-428e-a042-7cd99724445f ]] {\r\n",
       "x: Real\r\n",
       "}\r\n",
       "comp usage \"x_constraint\" as E3 << <<(U,orange) assertConstraint>> [[psysml:f29a45b1-01e5-48c9-895e-094b774cc27f ]] {\r\n",
       "}\r\n",
       "rec def \"setX\" as E4 << <<(B,lemonchiffon) action def>> [[psysml:55b9c562-7faa-4cb8-ac86-d366721fd3cf ]] {\r\n",
       "portin \"c\" as E5  [[psysml:6b50cc19-3c51-4fdc-acb9-7cb54732aaba ]] \r\n",
       "portin \"newX\" as E6  [[psysml:036e652a-b19a-4307-ba90-1008950a3600 ]] \r\n",
       "}\r\n",
       "\r\n",
       "}\r\n",
       "E2 *- - \"*\"E3 [[psysml:54ab6d27-8883-4622-a03e-a53956db7fe1 ]] \r\n",
       "@enduml\r\n",
       "\n",
       "PlantUML version 1.2020.13(Sat Jun 13 12:26:38 UTC 2020)\n",
       "(EPL source distribution)\n",
       "Java Runtime: OpenJDK Runtime Environment\n",
       "JVM: OpenJDK 64-Bit Server VM\n",
       "Default Encoding: UTF-8\n",
       "Language: en\n",
       "Country: null\n",
       "--></g></svg>"
      ]
     },
     "execution_count": 30,
     "metadata": {},
     "output_type": "execute_result"
    }
   ],
   "source": [
    "%viz --style=\"PLANTUML\" --view=\"Default\" \"TextualRepresentationTest\""
   ]
  },
  {
   "cell_type": "code",
   "execution_count": 31,
   "id": "470f9735",
   "metadata": {
    "execution": {
     "iopub.execute_input": "2021-10-03T08:29:35.527660Z",
     "iopub.status.busy": "2021-10-03T08:29:35.527273Z",
     "iopub.status.idle": "2021-10-03T08:29:35.559777Z",
     "shell.execute_reply": "2021-10-03T08:29:35.559382Z"
    }
   },
   "outputs": [
    {
     "data": {
      "image/svg+xml": [
       "<?xml version=\"1.0\" encoding=\"UTF-8\" standalone=\"no\"?><svg xmlns=\"http://www.w3.org/2000/svg\" xmlns:xlink=\"http://www.w3.org/1999/xlink\" contentScriptType=\"application/ecmascript\" contentStyleType=\"text/css\" height=\"352px\" preserveAspectRatio=\"none\" style=\"width:242px;height:352px;\" version=\"1.1\" viewBox=\"0 0 242 352\" width=\"242px\" zoomAndPan=\"magnify\"><defs><filter height=\"300%\" id=\"fx4l25iznn7m6\" width=\"300%\" x=\"-1\" y=\"-1\"><feGaussianBlur result=\"blurOut\" stdDeviation=\"2.0\"/><feColorMatrix in=\"blurOut\" result=\"blurOut2\" type=\"matrix\" values=\"0 0 0 0 0 0 0 0 0 0 0 0 0 0 0 0 0 0 .4 0\"/><feOffset dx=\"4.0\" dy=\"4.0\" in=\"blurOut2\" result=\"blurOut3\"/><feBlend in=\"SourceGraphic\" in2=\"blurOut3\" mode=\"normal\"/></filter></defs><g><!--MD5=[fbc87193dbaf4d95561dea2c320d4a47]\n",
       "cluster E1--><a href=\"psysml:806baf2e-ef33-48f4-9893-87a395ee6712\" target=\"_top\" title=\"psysml:806baf2e-ef33-48f4-9893-87a395ee6712\" xlink:actuate=\"onRequest\" xlink:href=\"psysml:806baf2e-ef33-48f4-9893-87a395ee6712\" xlink:show=\"new\" xlink:title=\"psysml:806baf2e-ef33-48f4-9893-87a395ee6712\" xlink:type=\"simple\"><polygon fill=\"#FFFFFF\" filter=\"url(#fx4l25iznn7m6)\" points=\"16,6,210,6,217,28.2969,220,28.2969,220,340,16,340,16,6\" style=\"stroke: #000000; stroke-width: 1.5;\"/><line style=\"stroke: #000000; stroke-width: 1.5;\" x1=\"16\" x2=\"217\" y1=\"28.2969\" y2=\"28.2969\"/><text fill=\"#000000\" font-family=\"sans-serif\" font-size=\"14\" font-weight=\"bold\" lengthAdjust=\"spacingAndGlyphs\" textLength=\"188\" x=\"20\" y=\"20.9951\">TextualRepresentationTest</text></a><!--MD5=[b4997ac47864f28c2f74865a473b2911]\n",
       "class E2--><a href=\"psysml:7ed521f9-b82c-428e-a042-7cd99724445f\" target=\"_top\" title=\"psysml:7ed521f9-b82c-428e-a042-7cd99724445f\" xlink:actuate=\"onRequest\" xlink:href=\"psysml:7ed521f9-b82c-428e-a042-7cd99724445f\" xlink:show=\"new\" xlink:title=\"psysml:7ed521f9-b82c-428e-a042-7cd99724445f\" xlink:type=\"simple\"><rect fill=\"#FEFECE\" filter=\"url(#fx4l25iznn7m6)\" height=\"52.8047\" id=\"E2\" style=\"stroke: #A80036; stroke-width: 1.5;\" width=\"50\" x=\"93\" y=\"164\"/><ellipse cx=\"112.5\" cy=\"180\" fill=\"#008000\" rx=\"11\" ry=\"11\" style=\"stroke: #A80036; stroke-width: 1.0;\"/><path d=\"M109.375,185 L109.375,174.4063 L112.6094,174.4063 Q114.5156,174.4063 115.4219,175.1563 Q116.3438,175.9063 116.3438,177.0781 Q116.3438,177.7656 115.9531,178.4219 Q115.5781,179.0781 114.8594,179.375 Q115.7188,179.75 116.2344,180.4375 Q116.75,181.125 116.75,181.9375 Q116.75,183.3125 115.7188,184.1563 Q114.7031,185 112.5938,185 L109.375,185 Z M111.2969,178.6406 L112.4531,178.6406 Q113.5781,178.6406 113.9844,178.2656 Q114.4063,177.875 114.4063,177.25 Q114.4063,176.6719 113.9844,176.3125 Q113.5625,175.9531 112.625,175.9531 L111.2969,175.9531 L111.2969,178.6406 Z M111.2969,183.4219 L112.7969,183.4219 Q113.7031,183.4219 114.2344,183.0313 Q114.7656,182.6406 114.7656,181.8906 Q114.7656,181.125 114.2656,180.6563 Q113.7656,180.1719 112.5,180.1719 L111.2969,180.1719 L111.2969,183.4219 Z \"/><text fill=\"#000000\" font-family=\"sans-serif\" font-size=\"12\" lengthAdjust=\"spacingAndGlyphs\" textLength=\"8\" x=\"127.5\" y=\"184.1543\">C</text><line style=\"stroke: #A80036; stroke-width: 1.5;\" x1=\"94\" x2=\"142\" y1=\"196\" y2=\"196\"/><text fill=\"#000000\" font-family=\"sans-serif\" font-size=\"11\" lengthAdjust=\"spacingAndGlyphs\" textLength=\"38\" x=\"99\" y=\"210.2104\">x: Real</text></a><!--MD5=[09b614a08d8cba4a07c9adeb5e0fee81]\n",
       "class E3--><a href=\"psysml:f29a45b1-01e5-48c9-895e-094b774cc27f\" target=\"_top\" title=\"psysml:f29a45b1-01e5-48c9-895e-094b774cc27f\" xlink:actuate=\"onRequest\" xlink:href=\"psysml:f29a45b1-01e5-48c9-895e-094b774cc27f\" xlink:show=\"new\" xlink:title=\"psysml:f29a45b1-01e5-48c9-895e-094b774cc27f\" xlink:type=\"simple\"><rect fill=\"#FEFECE\" filter=\"url(#fx4l25iznn7m6)\" height=\"45.9375\" id=\"E3\" rx=\"10\" ry=\"10\" style=\"stroke: #A80036; stroke-width: 1.5;\" width=\"147\" x=\"44.5\" y=\"278\"/><ellipse cx=\"59.5\" cy=\"296.9688\" fill=\"#FFA500\" rx=\"11\" ry=\"11\" style=\"stroke: #A80036; stroke-width: 1.0;\"/><path d=\"M59.25,302.4375 Q57.5,302.4375 56.5469,301.4063 Q55.6094,300.3594 55.6094,298.5156 L55.6094,291.625 L57.6719,291.625 L57.6719,291.7813 Q57.5781,291.875 57.5469,292.0156 Q57.5313,292.1406 57.5313,292.4063 L57.5313,298.5313 Q57.5313,299.625 57.9063,300.25 Q58.2813,300.875 59.2656,300.875 Q60.25,300.875 60.6406,300.25 Q61.0313,299.625 61.0313,298.4844 L61.0313,291.625 L62.9063,291.625 L62.9063,298.4688 Q62.9063,300.5 61.875,301.4688 Q60.8594,302.4375 59.25,302.4375 Z \"/><text fill=\"#000000\" font-family=\"sans-serif\" font-size=\"12\" font-style=\"italic\" lengthAdjust=\"spacingAndGlyphs\" textLength=\"119\" x=\"71.5\" y=\"294.1387\">«assertConstraint»</text><text fill=\"#000000\" font-family=\"sans-serif\" font-size=\"12\" lengthAdjust=\"spacingAndGlyphs\" textLength=\"76\" x=\"93\" y=\"308.1074\">x_constraint</text><line style=\"stroke: #A80036; stroke-width: 1.5;\" x1=\"45.5\" x2=\"190.5\" y1=\"315.9375\" y2=\"315.9375\"/></a><!--MD5=[ebbe1d658d1005bcc118a6aa81145e00]\n",
       "class E4--><a href=\"psysml:55b9c562-7faa-4cb8-ac86-d366721fd3cf\" target=\"_top\" title=\"psysml:55b9c562-7faa-4cb8-ac86-d366721fd3cf\" xlink:actuate=\"onRequest\" xlink:href=\"psysml:55b9c562-7faa-4cb8-ac86-d366721fd3cf\" xlink:show=\"new\" xlink:title=\"psysml:55b9c562-7faa-4cb8-ac86-d366721fd3cf\" xlink:type=\"simple\"><rect fill=\"#FEFECE\" filter=\"url(#fx4l25iznn7m6)\" height=\"45.9375\" id=\"E4\" style=\"stroke: #A80036; stroke-width: 1.5;\" width=\"105\" x=\"65.5\" y=\"41\"/><ellipse cx=\"80.5\" cy=\"59.9688\" fill=\"#FFFACD\" rx=\"11\" ry=\"11\" style=\"stroke: #A80036; stroke-width: 1.0;\"/><path d=\"M77.375,64.9688 L77.375,54.375 L80.6094,54.375 Q82.5156,54.375 83.4219,55.125 Q84.3438,55.875 84.3438,57.0469 Q84.3438,57.7344 83.9531,58.3906 Q83.5781,59.0469 82.8594,59.3438 Q83.7188,59.7188 84.2344,60.4063 Q84.75,61.0938 84.75,61.9063 Q84.75,63.2813 83.7188,64.125 Q82.7031,64.9688 80.5938,64.9688 L77.375,64.9688 Z M79.2969,58.6094 L80.4531,58.6094 Q81.5781,58.6094 81.9844,58.2344 Q82.4063,57.8438 82.4063,57.2188 Q82.4063,56.6406 81.9844,56.2813 Q81.5625,55.9219 80.625,55.9219 L79.2969,55.9219 L79.2969,58.6094 Z M79.2969,63.3906 L80.7969,63.3906 Q81.7031,63.3906 82.2344,63 Q82.7656,62.6094 82.7656,61.8594 Q82.7656,61.0938 82.2656,60.625 Q81.7656,60.1406 80.5,60.1406 L79.2969,60.1406 L79.2969,63.3906 Z \"/><text fill=\"#000000\" font-family=\"sans-serif\" font-size=\"12\" font-style=\"italic\" lengthAdjust=\"spacingAndGlyphs\" textLength=\"77\" x=\"92.5\" y=\"57.1387\">«action def»</text><text fill=\"#000000\" font-family=\"sans-serif\" font-size=\"12\" lengthAdjust=\"spacingAndGlyphs\" textLength=\"27\" x=\"117.5\" y=\"71.1074\">setX</text><line style=\"stroke: #A80036; stroke-width: 1.5;\" x1=\"66.5\" x2=\"169.5\" y1=\"78.9375\" y2=\"78.9375\"/></a><!--MD5=[209b3feb70ccb6233bfe1053d122c12c]\n",
       "reverse link E2 to E3--><a href=\"psysml:54ab6d27-8883-4622-a03e-a53956db7fe1\" target=\"_top\" title=\"psysml:54ab6d27-8883-4622-a03e-a53956db7fe1\" xlink:actuate=\"onRequest\" xlink:href=\"psysml:54ab6d27-8883-4622-a03e-a53956db7fe1\" xlink:show=\"new\" xlink:title=\"psysml:54ab6d27-8883-4622-a03e-a53956db7fe1\" xlink:type=\"simple\"><path d=\"M118,230.53 C118,246.41 118,264.18 118,277.78 \" fill=\"none\" id=\"E2&lt;-E3\" style=\"stroke: #A80036; stroke-width: 1.0;\"/><polygon fill=\"#A80036\" points=\"118,217.21,114,223.21,118,229.21,122,223.21,118,217.21\" style=\"stroke: #A80036; stroke-width: 1.0;\"/><text fill=\"#000000\" font-family=\"sans-serif\" font-size=\"13\" lengthAdjust=\"spacingAndGlyphs\" textLength=\"7\" x=\"110.1031\" y=\"266.9999\">*</text></a><!--MD5=[ddeed8deb2209213b62e6cfabaa108b2]\n",
       "reverse link E4 to E2--><a href=\"psysml:6b50cc19-3c51-4fdc-acb9-7cb54732aaba\" target=\"_top\" title=\"psysml:6b50cc19-3c51-4fdc-acb9-7cb54732aaba\" xlink:actuate=\"onRequest\" xlink:href=\"psysml:6b50cc19-3c51-4fdc-acb9-7cb54732aaba\" xlink:show=\"new\" xlink:title=\"psysml:6b50cc19-3c51-4fdc-acb9-7cb54732aaba\" xlink:type=\"simple\"><path d=\"M118,100.31 C118,120.44 118,145.23 118,163.56 \" fill=\"none\" id=\"E4&lt;-E2\" style=\"stroke: #A80036; stroke-width: 1.0;\"/><polygon fill=\"#FFFFFF\" points=\"118,87.26,114,93.26,118,99.26,122,93.26,118,87.26\" style=\"stroke: #A80036; stroke-width: 1.0;\"/><text fill=\"#000000\" font-family=\"sans-serif\" font-size=\"13\" lengthAdjust=\"spacingAndGlyphs\" textLength=\"7\" x=\"119\" y=\"130.0669\">c</text></a><!--MD5=[29bcce68c16121d604014f1bc53a377e]\n",
       "@startuml\r\n",
       " \r\n",
       "package \"TextualRepresentationTest\" as E1  [[psysml:806baf2e-ef33-48f4-9893-87a395ee6712 ]]  {\r\n",
       "comp def \"C\" as E2 << << (B,green) >> [[psysml:7ed521f9-b82c-428e-a042-7cd99724445f ]] {\r\n",
       "x: Real\r\n",
       "}\r\n",
       "comp usage \"x_constraint\" as E3 << <<(U,orange) assertConstraint>> [[psysml:f29a45b1-01e5-48c9-895e-094b774cc27f ]] {\r\n",
       "}\r\n",
       "comp def \"setX\" as E4 << <<(B,lemonchiffon) action def>> [[psysml:55b9c562-7faa-4cb8-ac86-d366721fd3cf ]] {\r\n",
       "}\r\n",
       "}\r\n",
       "E2 *- - \"*\"E3 [[psysml:54ab6d27-8883-4622-a03e-a53956db7fe1 ]] \r\n",
       "E4 o- - E2 [[psysml:6b50cc19-3c51-4fdc-acb9-7cb54732aaba ]] : c\r\n",
       "@enduml\r\n",
       "\n",
       "PlantUML version 1.2020.13(Sat Jun 13 12:26:38 UTC 2020)\n",
       "(EPL source distribution)\n",
       "Java Runtime: OpenJDK Runtime Environment\n",
       "JVM: OpenJDK 64-Bit Server VM\n",
       "Default Encoding: UTF-8\n",
       "Language: en\n",
       "Country: null\n",
       "--></g></svg>"
      ]
     },
     "execution_count": 31,
     "metadata": {},
     "output_type": "execute_result"
    }
   ],
   "source": [
    "%viz --style=\"PLANTUML\" --view=\"Tree\" \"TextualRepresentationTest\""
   ]
  },
  {
   "cell_type": "code",
   "execution_count": 32,
   "id": "9175a47e",
   "metadata": {
    "execution": {
     "iopub.execute_input": "2021-10-03T08:29:35.609104Z",
     "iopub.status.busy": "2021-10-03T08:29:35.608706Z",
     "iopub.status.idle": "2021-10-03T08:29:35.696157Z",
     "shell.execute_reply": "2021-10-03T08:29:35.695790Z"
    }
   },
   "outputs": [
    {
     "data": {
      "image/svg+xml": [
       "<?xml version=\"1.0\" encoding=\"UTF-8\" standalone=\"no\"?><svg xmlns=\"http://www.w3.org/2000/svg\" xmlns:xlink=\"http://www.w3.org/1999/xlink\" contentScriptType=\"application/ecmascript\" contentStyleType=\"text/css\" height=\"300px\" preserveAspectRatio=\"none\" style=\"width:603px;height:300px;background:#000000;\" version=\"1.1\" viewBox=\"0 0 603 300\" width=\"603px\" zoomAndPan=\"magnify\"><defs/><g><rect fill=\"#221511\" height=\"1\" style=\"stroke: #221511; stroke-width: 1.0;\" width=\"1\" x=\"0\" y=\"0\"/><rect fill=\"#FFFFFF\" height=\"202.8012\" style=\"stroke: #FFFFFF; stroke-width: 1.0;\" width=\"602\" x=\"0\" y=\"0\"/><text fill=\"#000000\" font-family=\"sans-serif\" font-size=\"12\" font-weight=\"bold\" lengthAdjust=\"spacingAndGlyphs\" textLength=\"139\" x=\"5\" y=\"16.1387\">Welcome to PlantUML!</text><text fill=\"#000000\" font-family=\"sans-serif\" font-size=\"12\" lengthAdjust=\"spacingAndGlyphs\" textLength=\"0\" x=\"9\" y=\"30.1074\"/><text fill=\"#000000\" font-family=\"sans-serif\" font-size=\"12\" lengthAdjust=\"spacingAndGlyphs\" textLength=\"293\" x=\"5\" y=\"44.0762\">If you use this software, you accept its license.</text><text fill=\"#000000\" font-family=\"sans-serif\" font-size=\"12\" lengthAdjust=\"spacingAndGlyphs\" textLength=\"107\" x=\"5\" y=\"58.0449\">(details by typing</text><text fill=\"#000000\" font-family=\"monospace\" font-size=\"12\" lengthAdjust=\"spacingAndGlyphs\" textLength=\"42\" x=\"116\" y=\"58.595\">license</text><text fill=\"#000000\" font-family=\"sans-serif\" font-size=\"12\" lengthAdjust=\"spacingAndGlyphs\" textLength=\"56\" x=\"162\" y=\"58.0449\">keyword)</text><text fill=\"#000000\" font-family=\"sans-serif\" font-size=\"12\" lengthAdjust=\"spacingAndGlyphs\" textLength=\"0\" x=\"9\" y=\"72.0137\"/><text fill=\"#000000\" font-family=\"sans-serif\" font-size=\"12\" lengthAdjust=\"spacingAndGlyphs\" textLength=\"283\" x=\"5\" y=\"85.9824\">You can start with a simple UML Diagram like:</text><text fill=\"#000000\" font-family=\"sans-serif\" font-size=\"12\" lengthAdjust=\"spacingAndGlyphs\" textLength=\"0\" x=\"9\" y=\"99.9512\"/><text fill=\"#000000\" font-family=\"monospace\" font-size=\"12\" lengthAdjust=\"spacingAndGlyphs\" textLength=\"102\" x=\"5\" y=\"113.0893\">Bob-&gt;Alice: Hello</text><text fill=\"#000000\" font-family=\"sans-serif\" font-size=\"12\" lengthAdjust=\"spacingAndGlyphs\" textLength=\"0\" x=\"9\" y=\"126.508\"/><text fill=\"#000000\" font-family=\"sans-serif\" font-size=\"12\" lengthAdjust=\"spacingAndGlyphs\" textLength=\"14\" x=\"5\" y=\"140.4768\">Or</text><text fill=\"#000000\" font-family=\"sans-serif\" font-size=\"12\" lengthAdjust=\"spacingAndGlyphs\" textLength=\"0\" x=\"9\" y=\"154.4455\"/><text fill=\"#000000\" font-family=\"monospace\" font-size=\"12\" lengthAdjust=\"spacingAndGlyphs\" textLength=\"78\" x=\"5\" y=\"167.5837\">class Example</text><text fill=\"#000000\" font-family=\"sans-serif\" font-size=\"12\" lengthAdjust=\"spacingAndGlyphs\" textLength=\"0\" x=\"9\" y=\"181.0023\"/><text fill=\"#000000\" font-family=\"sans-serif\" font-size=\"12\" lengthAdjust=\"spacingAndGlyphs\" textLength=\"349\" x=\"5\" y=\"194.9711\">You will find more information about PlantUML syntax on</text><text fill=\"#000000\" font-family=\"sans-serif\" font-size=\"12\" lengthAdjust=\"spacingAndGlyphs\" text-decoration=\"underline\" textLength=\"129\" x=\"358\" y=\"194.9711\">https://plantuml.com</text><image height=\"71\" width=\"80\" x=\"516\" xlink:href=\"data:image/png;base64,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\" y=\"6\"/><rect fill=\"#000000\" height=\"96.4844\" style=\"stroke: #000000; stroke-width: 1.0;\" width=\"602\" x=\"0\" y=\"202.8012\"/><rect fill=\"#33FF02\" height=\"21.2969\" style=\"stroke: #33FF02; stroke-width: 1.0;\" width=\"145\" x=\"5\" y=\"207.8012\"/><text fill=\"#000000\" font-family=\"sans-serif\" font-size=\"14\" font-weight=\"bold\" lengthAdjust=\"spacingAndGlyphs\" textLength=\"143\" x=\"6\" y=\"222.8012\">[From string (line 2) ]</text><text fill=\"#33FF02\" font-family=\"sans-serif\" font-size=\"14\" font-weight=\"bold\" lengthAdjust=\"spacingAndGlyphs\" textLength=\"0\" x=\"9\" y=\"243.0981\"/><text fill=\"#33FF02\" font-family=\"sans-serif\" font-size=\"14\" font-weight=\"bold\" lengthAdjust=\"spacingAndGlyphs\" textLength=\"70\" x=\"5\" y=\"259.3949\">@startuml</text><text fill=\"#33FF02\" font-family=\"sans-serif\" font-size=\"14\" font-weight=\"bold\" lengthAdjust=\"spacingAndGlyphs\" textLength=\"0\" x=\"9\" y=\"275.6918\"/><text fill=\"#FF0000\" font-family=\"sans-serif\" font-size=\"14\" font-weight=\"bold\" lengthAdjust=\"spacingAndGlyphs\" textLength=\"124\" x=\"9\" y=\"291.9887\">Empty description</text><!--MD5=[f59edd8218d337f74d0c332fc6737304]\n",
       "@startuml\r\n",
       " \r\n",
       "@enduml\r\n",
       "\n",
       "PlantUML version 1.2020.13(Sat Jun 13 12:26:38 UTC 2020)\n",
       "(EPL source distribution)\n",
       "Java Runtime: OpenJDK Runtime Environment\n",
       "JVM: OpenJDK 64-Bit Server VM\n",
       "Default Encoding: UTF-8\n",
       "Language: en\n",
       "Country: null\n",
       "--></g></svg>"
      ]
     },
     "execution_count": 32,
     "metadata": {},
     "output_type": "execute_result"
    }
   ],
   "source": [
    "%viz --style=\"PLANTUML\" --view=\"State\" \"TextualRepresentationTest\""
   ]
  },
  {
   "cell_type": "code",
   "execution_count": 33,
   "id": "e56edb46",
   "metadata": {
    "execution": {
     "iopub.execute_input": "2021-10-03T08:29:35.745393Z",
     "iopub.status.busy": "2021-10-03T08:29:35.744996Z",
     "iopub.status.idle": "2021-10-03T08:29:35.761204Z",
     "shell.execute_reply": "2021-10-03T08:29:35.760858Z"
    }
   },
   "outputs": [
    {
     "data": {
      "image/svg+xml": [
       "<?xml version=\"1.0\" encoding=\"UTF-8\" standalone=\"no\"?><svg xmlns=\"http://www.w3.org/2000/svg\" xmlns:xlink=\"http://www.w3.org/1999/xlink\" contentScriptType=\"application/ecmascript\" contentStyleType=\"text/css\" height=\"176px\" preserveAspectRatio=\"none\" style=\"width:262px;height:176px;\" version=\"1.1\" viewBox=\"0 0 262 176\" width=\"262px\" zoomAndPan=\"magnify\"><defs><filter height=\"300%\" id=\"f1rnogcopkxjys\" width=\"300%\" x=\"-1\" y=\"-1\"><feGaussianBlur result=\"blurOut\" stdDeviation=\"2.0\"/><feColorMatrix in=\"blurOut\" result=\"blurOut2\" type=\"matrix\" values=\"0 0 0 0 0 0 0 0 0 0 0 0 0 0 0 0 0 0 .4 0\"/><feOffset dx=\"4.0\" dy=\"4.0\" in=\"blurOut2\" result=\"blurOut3\"/><feBlend in=\"SourceGraphic\" in2=\"blurOut3\" mode=\"normal\"/></filter></defs><g><!--MD5=[fbc87193dbaf4d95561dea2c320d4a47]\n",
       "cluster E1--><a href=\"psysml:806baf2e-ef33-48f4-9893-87a395ee6712\" target=\"_top\" title=\"psysml:806baf2e-ef33-48f4-9893-87a395ee6712\" xlink:actuate=\"onRequest\" xlink:href=\"psysml:806baf2e-ef33-48f4-9893-87a395ee6712\" xlink:show=\"new\" xlink:title=\"psysml:806baf2e-ef33-48f4-9893-87a395ee6712\" xlink:type=\"simple\"><polygon fill=\"#FFFFFF\" filter=\"url(#f1rnogcopkxjys)\" points=\"16,6,210,6,217,28.2969,240,28.2969,240,164,16,164,16,6\" style=\"stroke: #000000; stroke-width: 1.5;\"/><line style=\"stroke: #000000; stroke-width: 1.5;\" x1=\"16\" x2=\"217\" y1=\"28.2969\" y2=\"28.2969\"/><text fill=\"#000000\" font-family=\"sans-serif\" font-size=\"14\" font-weight=\"bold\" lengthAdjust=\"spacingAndGlyphs\" textLength=\"188\" x=\"20\" y=\"20.9951\">TextualRepresentationTest</text></a><!--MD5=[d5e69f78d87373223dbae638b30a9c99]\n",
       "cluster E3--><a href=\"psysml:55b9c562-7faa-4cb8-ac86-d366721fd3cf\" target=\"_top\" title=\"psysml:55b9c562-7faa-4cb8-ac86-d366721fd3cf\" xlink:actuate=\"onRequest\" xlink:href=\"psysml:55b9c562-7faa-4cb8-ac86-d366721fd3cf\" xlink:show=\"new\" xlink:title=\"psysml:55b9c562-7faa-4cb8-ac86-d366721fd3cf\" xlink:type=\"simple\"><rect fill=\"#FFFFFF\" filter=\"url(#f1rnogcopkxjys)\" height=\"87\" id=\"E3\" style=\"stroke: #A80036; stroke-width: 1.5;\" width=\"96\" x=\"98.5\" y=\"61\"/><rect fill=\"#FEFECE\" height=\"37.9375\" style=\"stroke: #A80036; stroke-width: 1.5;\" width=\"96\" x=\"98.5\" y=\"61\"/><text fill=\"#000000\" font-family=\"sans-serif\" font-size=\"12\" font-style=\"italic\" lengthAdjust=\"spacingAndGlyphs\" textLength=\"77\" x=\"108\" y=\"77.1387\">«action def»</text><text fill=\"#000000\" font-family=\"sans-serif\" font-size=\"12\" lengthAdjust=\"spacingAndGlyphs\" textLength=\"27\" x=\"133\" y=\"91.1074\">setX</text></a><g id=\"E1.E2\"><a href=\"psysml:7ed521f9-b82c-428e-a042-7cd99724445f\" target=\"_top\" title=\"psysml:7ed521f9-b82c-428e-a042-7cd99724445f\" xlink:actuate=\"onRequest\" xlink:href=\"psysml:7ed521f9-b82c-428e-a042-7cd99724445f\" xlink:show=\"new\" xlink:title=\"psysml:7ed521f9-b82c-428e-a042-7cd99724445f\" xlink:type=\"simple\"><rect fill=\"#FEFECE\" filter=\"url(#f1rnogcopkxjys)\" height=\"40\" id=\"E2\" style=\"stroke: #A80036; stroke-width: 1.5;\" width=\"50\" x=\"32\" y=\"41\"/><ellipse cx=\"51.5\" cy=\"57\" fill=\"#008000\" rx=\"11\" ry=\"11\" style=\"stroke: #A80036; stroke-width: 1.0;\"/><path d=\"M48.375,62 L48.375,51.4063 L51.6094,51.4063 Q53.5156,51.4063 54.4219,52.1563 Q55.3438,52.9063 55.3438,54.0781 Q55.3438,54.7656 54.9531,55.4219 Q54.5781,56.0781 53.8594,56.375 Q54.7188,56.75 55.2344,57.4375 Q55.75,58.125 55.75,58.9375 Q55.75,60.3125 54.7188,61.1563 Q53.7031,62 51.5938,62 L48.375,62 Z M50.2969,55.6406 L51.4531,55.6406 Q52.5781,55.6406 52.9844,55.2656 Q53.4063,54.875 53.4063,54.25 Q53.4063,53.6719 52.9844,53.3125 Q52.5625,52.9531 51.625,52.9531 L50.2969,52.9531 L50.2969,55.6406 Z M50.2969,60.4219 L51.7969,60.4219 Q52.7031,60.4219 53.2344,60.0313 Q53.7656,59.6406 53.7656,58.8906 Q53.7656,58.125 53.2656,57.6563 Q52.7656,57.1719 51.5,57.1719 L50.2969,57.1719 L50.2969,60.4219 Z \"/><text fill=\"#000000\" font-family=\"sans-serif\" font-size=\"12\" lengthAdjust=\"spacingAndGlyphs\" textLength=\"8\" x=\"66.5\" y=\"61.1543\">C</text></a></g><text fill=\"#000000\" font-family=\"sans-serif\" font-size=\"14\" lengthAdjust=\"spacingAndGlyphs\" textLength=\"8\" x=\"119\" y=\"39.6982\">c</text><rect fill=\"#A80036\" height=\"12\" style=\"stroke: #FEFECE; stroke-width: 1.5;\" width=\"12\" x=\"117\" y=\"55\"/><text fill=\"#000000\" font-family=\"sans-serif\" font-size=\"14\" lengthAdjust=\"spacingAndGlyphs\" textLength=\"38\" x=\"151\" y=\"39.6982\">newX</text><rect fill=\"#A80036\" height=\"12\" style=\"stroke: #FEFECE; stroke-width: 1.5;\" width=\"12\" x=\"164\" y=\"55\"/><!--MD5=[284065306f935b0f6cfc4c91b0168d65]\n",
       "@startuml\r\n",
       "skinparam ranksep 10\r\n",
       "skinparam rectangle {\r\n",
       " backgroundColor<<block>> LightGreen\r\n",
       "}\r\n",
       " \r\n",
       "package \"TextualRepresentationTest\" as E1  [[psysml:806baf2e-ef33-48f4-9893-87a395ee6712 ]]  {\r\n",
       "def \"C\" as E2 << << (B,green) >> [[psysml:7ed521f9-b82c-428e-a042-7cd99724445f ]] \r\n",
       "rec def \"setX\" as E3 << <<(B,lemonchiffon) action def>> [[psysml:55b9c562-7faa-4cb8-ac86-d366721fd3cf ]] {\r\n",
       "portin \"c\" as E4  [[psysml:6b50cc19-3c51-4fdc-acb9-7cb54732aaba ]] \r\n",
       "portin \"newX\" as E5  [[psysml:036e652a-b19a-4307-ba90-1008950a3600 ]] \r\n",
       "}\r\n",
       "\r\n",
       "}\r\n",
       "@enduml\r\n",
       "\n",
       "PlantUML version 1.2020.13(Sat Jun 13 12:26:38 UTC 2020)\n",
       "(EPL source distribution)\n",
       "Java Runtime: OpenJDK Runtime Environment\n",
       "JVM: OpenJDK 64-Bit Server VM\n",
       "Default Encoding: UTF-8\n",
       "Language: en\n",
       "Country: null\n",
       "--></g></svg>"
      ]
     },
     "execution_count": 33,
     "metadata": {},
     "output_type": "execute_result"
    }
   ],
   "source": [
    "%viz --style=\"PLANTUML\" --view=\"Interconnection\" \"TextualRepresentationTest\""
   ]
  },
  {
   "cell_type": "code",
   "execution_count": 34,
   "id": "5ac6dd02",
   "metadata": {
    "execution": {
     "iopub.execute_input": "2021-10-03T08:29:35.810422Z",
     "iopub.status.busy": "2021-10-03T08:29:35.810028Z",
     "iopub.status.idle": "2021-10-03T08:29:35.828230Z",
     "shell.execute_reply": "2021-10-03T08:29:35.827886Z"
    }
   },
   "outputs": [
    {
     "data": {
      "image/svg+xml": [
       "<?xml version=\"1.0\" encoding=\"UTF-8\" standalone=\"no\"?><svg xmlns=\"http://www.w3.org/2000/svg\" xmlns:xlink=\"http://www.w3.org/1999/xlink\" contentScriptType=\"application/ecmascript\" contentStyleType=\"text/css\" height=\"134px\" preserveAspectRatio=\"none\" style=\"width:158px;height:134px;\" version=\"1.1\" viewBox=\"0 0 158 134\" width=\"158px\" zoomAndPan=\"magnify\"><defs><filter height=\"300%\" id=\"fc78vddfcsyux\" width=\"300%\" x=\"-1\" y=\"-1\"><feGaussianBlur result=\"blurOut\" stdDeviation=\"2.0\"/><feColorMatrix in=\"blurOut\" result=\"blurOut2\" type=\"matrix\" values=\"0 0 0 0 0 0 0 0 0 0 0 0 0 0 0 0 0 0 .4 0\"/><feOffset dx=\"4.0\" dy=\"4.0\" in=\"blurOut2\" result=\"blurOut3\"/><feBlend in=\"SourceGraphic\" in2=\"blurOut3\" mode=\"normal\"/></filter></defs><g><!--MD5=[fbc87193dbaf4d95561dea2c320d4a47]\n",
       "cluster E1--><a href=\"psysml:55b9c562-7faa-4cb8-ac86-d366721fd3cf\" target=\"_top\" title=\"psysml:55b9c562-7faa-4cb8-ac86-d366721fd3cf\" xlink:actuate=\"onRequest\" xlink:href=\"psysml:55b9c562-7faa-4cb8-ac86-d366721fd3cf\" xlink:show=\"new\" xlink:title=\"psysml:55b9c562-7faa-4cb8-ac86-d366721fd3cf\" xlink:type=\"simple\"><rect fill=\"#FFFFFF\" filter=\"url(#fc78vddfcsyux)\" height=\"73\" id=\"E1\" style=\"stroke: #A80036; stroke-width: 1.5;\" width=\"132\" x=\"7\" y=\"42.0986\"/><rect fill=\"#FEFECE\" height=\"37.9375\" style=\"stroke: #A80036; stroke-width: 1.5;\" width=\"132\" x=\"7\" y=\"42.0986\"/><text fill=\"#000000\" font-family=\"sans-serif\" font-size=\"12\" font-style=\"italic\" lengthAdjust=\"spacingAndGlyphs\" textLength=\"77\" x=\"34.5\" y=\"58.2373\">«action def»</text><text fill=\"#000000\" font-family=\"sans-serif\" font-size=\"12\" lengthAdjust=\"spacingAndGlyphs\" textLength=\"27\" x=\"59.5\" y=\"72.2061\">setX</text></a><text fill=\"#000000\" font-family=\"sans-serif\" font-size=\"14\" lengthAdjust=\"spacingAndGlyphs\" textLength=\"8\" x=\"21\" y=\"20.7969\">c</text><rect fill=\"#A80036\" height=\"12\" style=\"stroke: #FEFECE; stroke-width: 1.5;\" width=\"12\" x=\"19\" y=\"36.0986\"/><text fill=\"#000000\" font-family=\"sans-serif\" font-size=\"14\" lengthAdjust=\"spacingAndGlyphs\" textLength=\"38\" x=\"53\" y=\"20.7969\">newX</text><rect fill=\"#A80036\" height=\"12\" style=\"stroke: #FEFECE; stroke-width: 1.5;\" width=\"12\" x=\"66\" y=\"36.0986\"/><!--MD5=[7321575ba11e7abfde51866410b0ed86]\n",
       "@startuml\r\n",
       "skinparam ranksep 8\r\n",
       " \r\n",
       "rec def \"setX\" as E1 << <<(B,lemonchiffon) action def>> [[psysml:55b9c562-7faa-4cb8-ac86-d366721fd3cf ]] {\r\n",
       "portin \"c\" as E2  [[psysml:6b50cc19-3c51-4fdc-acb9-7cb54732aaba ]] \r\n",
       "portin \"newX\" as E3  [[psysml:036e652a-b19a-4307-ba90-1008950a3600 ]] \r\n",
       "}\r\n",
       "\r\n",
       "@enduml\r\n",
       "\n",
       "PlantUML version 1.2020.13(Sat Jun 13 12:26:38 UTC 2020)\n",
       "(EPL source distribution)\n",
       "Java Runtime: OpenJDK Runtime Environment\n",
       "JVM: OpenJDK 64-Bit Server VM\n",
       "Default Encoding: UTF-8\n",
       "Language: en\n",
       "Country: null\n",
       "--></g></svg>"
      ]
     },
     "execution_count": 34,
     "metadata": {},
     "output_type": "execute_result"
    }
   ],
   "source": [
    "%viz --style=\"PLANTUML\" --view=\"Action\" \"TextualRepresentationTest\""
   ]
  },
  {
   "cell_type": "code",
   "execution_count": 35,
   "id": "4e6f5c6a",
   "metadata": {
    "execution": {
     "iopub.execute_input": "2021-10-03T08:29:35.877815Z",
     "iopub.status.busy": "2021-10-03T08:29:35.877377Z",
     "iopub.status.idle": "2021-10-03T08:29:35.881789Z",
     "shell.execute_reply": "2021-10-03T08:29:35.882072Z"
    }
   },
   "outputs": [
    {
     "data": {
      "image/svg+xml": [
       "<?xml version=\"1.0\" encoding=\"UTF-8\" standalone=\"no\"?><svg xmlns=\"http://www.w3.org/2000/svg\" xmlns:xlink=\"http://www.w3.org/1999/xlink\" contentScriptType=\"application/ecmascript\" contentStyleType=\"text/css\" height=\"12px\" preserveAspectRatio=\"none\" style=\"width:12px;height:12px;\" version=\"1.1\" viewBox=\"0 0 12 12\" width=\"12px\" zoomAndPan=\"magnify\"><defs/><g><!--MD5=[ca4faa0b02def275ea33c14ea7a1a98d]\n",
       "@startuml\r\n",
       "skinparam roundcorner 20\r\n",
       "skinparam BoxPadding 20\r\n",
       "skinparam SequenceBoxBackgroundColor #white\r\n",
       "skinparam style strictuml\r\n",
       "skinparam maxMessageSize 100\r\n",
       " \r\n",
       "@enduml\r\n",
       "\n",
       "PlantUML version 1.2020.13(Sat Jun 13 12:26:38 UTC 2020)\n",
       "(EPL source distribution)\n",
       "Java Runtime: OpenJDK Runtime Environment\n",
       "JVM: OpenJDK 64-Bit Server VM\n",
       "Default Encoding: UTF-8\n",
       "Language: en\n",
       "Country: null\n",
       "--></g></svg>"
      ]
     },
     "execution_count": 35,
     "metadata": {},
     "output_type": "execute_result"
    }
   ],
   "source": [
    "%viz --style=\"PLANTUML\" --view=\"Sequence\" \"TextualRepresentationTest\""
   ]
  },
  {
   "cell_type": "code",
   "execution_count": 36,
   "id": "fdbbd33f",
   "metadata": {
    "execution": {
     "iopub.execute_input": "2021-10-03T08:29:35.931633Z",
     "iopub.status.busy": "2021-10-03T08:29:35.931225Z",
     "iopub.status.idle": "2021-10-03T08:29:35.966771Z",
     "shell.execute_reply": "2021-10-03T08:29:35.964619Z"
    }
   },
   "outputs": [
    {
     "data": {
      "image/svg+xml": [
       "<?xml version=\"1.0\" encoding=\"UTF-8\" standalone=\"no\"?><svg xmlns=\"http://www.w3.org/2000/svg\" xmlns:xlink=\"http://www.w3.org/1999/xlink\" contentScriptType=\"application/ecmascript\" contentStyleType=\"text/css\" height=\"238px\" preserveAspectRatio=\"none\" style=\"width:371px;height:238px;\" version=\"1.1\" viewBox=\"0 0 371 238\" width=\"371px\" zoomAndPan=\"magnify\"><defs><filter height=\"300%\" id=\"f1dw8lxja24xr\" width=\"300%\" x=\"-1\" y=\"-1\"><feGaussianBlur result=\"blurOut\" stdDeviation=\"2.0\"/><feColorMatrix in=\"blurOut\" result=\"blurOut2\" type=\"matrix\" values=\"0 0 0 0 0 0 0 0 0 0 0 0 0 0 0 0 0 0 .4 0\"/><feOffset dx=\"4.0\" dy=\"4.0\" in=\"blurOut2\" result=\"blurOut3\"/><feBlend in=\"SourceGraphic\" in2=\"blurOut3\" mode=\"normal\"/></filter></defs><g><!--MD5=[fbc87193dbaf4d95561dea2c320d4a47]\n",
       "cluster E1--><a href=\"psysml:806baf2e-ef33-48f4-9893-87a395ee6712\" target=\"_top\" title=\"psysml:806baf2e-ef33-48f4-9893-87a395ee6712\" xlink:actuate=\"onRequest\" xlink:href=\"psysml:806baf2e-ef33-48f4-9893-87a395ee6712\" xlink:show=\"new\" xlink:title=\"psysml:806baf2e-ef33-48f4-9893-87a395ee6712\" xlink:type=\"simple\"><polygon fill=\"#FFFFFF\" filter=\"url(#f1dw8lxja24xr)\" points=\"16,6,210,6,217,28.2969,349,28.2969,349,226.5,16,226.5,16,6\" style=\"stroke: #000000; stroke-width: 1.5;\"/><line style=\"stroke: #000000; stroke-width: 1.5;\" x1=\"16\" x2=\"217\" y1=\"28.2969\" y2=\"28.2969\"/><text fill=\"#000000\" font-family=\"sans-serif\" font-size=\"14\" font-weight=\"bold\" lengthAdjust=\"spacingAndGlyphs\" textLength=\"188\" x=\"20\" y=\"20.9951\">TextualRepresentationTest</text></a><!--MD5=[f6df4d0ebaf0b5dfb2ced0ae5af7c670]\n",
       "cluster E4--><a href=\"psysml:55b9c562-7faa-4cb8-ac86-d366721fd3cf\" target=\"_top\" title=\"psysml:55b9c562-7faa-4cb8-ac86-d366721fd3cf\" xlink:actuate=\"onRequest\" xlink:href=\"psysml:55b9c562-7faa-4cb8-ac86-d366721fd3cf\" xlink:show=\"new\" xlink:title=\"psysml:55b9c562-7faa-4cb8-ac86-d366721fd3cf\" xlink:type=\"simple\"><rect fill=\"#FFFFFF\" filter=\"url(#f1dw8lxja24xr)\" height=\"143\" id=\"E4\" style=\"stroke: #A80036; stroke-width: 1.5;\" width=\"132\" x=\"201\" y=\"67.5\"/><rect fill=\"#FEFECE\" height=\"37.9375\" style=\"stroke: #A80036; stroke-width: 1.5;\" width=\"132\" x=\"201\" y=\"67.5\"/><text fill=\"#000000\" font-family=\"sans-serif\" font-size=\"12\" font-style=\"italic\" lengthAdjust=\"spacingAndGlyphs\" textLength=\"77\" x=\"228.5\" y=\"83.6387\">«action def»</text><text fill=\"#000000\" font-family=\"sans-serif\" font-size=\"12\" lengthAdjust=\"spacingAndGlyphs\" textLength=\"27\" x=\"253.5\" y=\"97.6074\">setX</text></a><!--MD5=[b4997ac47864f28c2f74865a473b2911]\n",
       "class E2--><a href=\"psysml:7ed521f9-b82c-428e-a042-7cd99724445f\" target=\"_top\" title=\"psysml:7ed521f9-b82c-428e-a042-7cd99724445f\" xlink:actuate=\"onRequest\" xlink:href=\"psysml:7ed521f9-b82c-428e-a042-7cd99724445f\" xlink:show=\"new\" xlink:title=\"psysml:7ed521f9-b82c-428e-a042-7cd99724445f\" xlink:type=\"simple\"><rect fill=\"#FEFECE\" filter=\"url(#f1dw8lxja24xr)\" height=\"52.8047\" id=\"E2\" style=\"stroke: #A80036; stroke-width: 1.5;\" width=\"50\" x=\"81\" y=\"41\"/><ellipse cx=\"100.5\" cy=\"57\" fill=\"#008000\" rx=\"11\" ry=\"11\" style=\"stroke: #A80036; stroke-width: 1.0;\"/><path d=\"M97.375,62 L97.375,51.4063 L100.6094,51.4063 Q102.5156,51.4063 103.4219,52.1563 Q104.3438,52.9063 104.3438,54.0781 Q104.3438,54.7656 103.9531,55.4219 Q103.5781,56.0781 102.8594,56.375 Q103.7188,56.75 104.2344,57.4375 Q104.75,58.125 104.75,58.9375 Q104.75,60.3125 103.7188,61.1563 Q102.7031,62 100.5938,62 L97.375,62 Z M99.2969,55.6406 L100.4531,55.6406 Q101.5781,55.6406 101.9844,55.2656 Q102.4063,54.875 102.4063,54.25 Q102.4063,53.6719 101.9844,53.3125 Q101.5625,52.9531 100.625,52.9531 L99.2969,52.9531 L99.2969,55.6406 Z M99.2969,60.4219 L100.7969,60.4219 Q101.7031,60.4219 102.2344,60.0313 Q102.7656,59.6406 102.7656,58.8906 Q102.7656,58.125 102.2656,57.6563 Q101.7656,57.1719 100.5,57.1719 L99.2969,57.1719 L99.2969,60.4219 Z \"/><text fill=\"#000000\" font-family=\"sans-serif\" font-size=\"12\" lengthAdjust=\"spacingAndGlyphs\" textLength=\"8\" x=\"115.5\" y=\"61.1543\">C</text><line style=\"stroke: #A80036; stroke-width: 1.5;\" x1=\"82\" x2=\"130\" y1=\"73\" y2=\"73\"/><text fill=\"#000000\" font-family=\"sans-serif\" font-size=\"11\" lengthAdjust=\"spacingAndGlyphs\" textLength=\"38\" x=\"87\" y=\"87.2104\">x: Real</text></a><!--MD5=[09b614a08d8cba4a07c9adeb5e0fee81]\n",
       "class E3--><a href=\"psysml:f29a45b1-01e5-48c9-895e-094b774cc27f\" target=\"_top\" title=\"psysml:f29a45b1-01e5-48c9-895e-094b774cc27f\" xlink:actuate=\"onRequest\" xlink:href=\"psysml:f29a45b1-01e5-48c9-895e-094b774cc27f\" xlink:show=\"new\" xlink:title=\"psysml:f29a45b1-01e5-48c9-895e-094b774cc27f\" xlink:type=\"simple\"><rect fill=\"#FEFECE\" filter=\"url(#f1dw8lxja24xr)\" height=\"45.9375\" id=\"E3\" rx=\"10\" ry=\"10\" style=\"stroke: #A80036; stroke-width: 1.5;\" width=\"147\" x=\"32.5\" y=\"154\"/><ellipse cx=\"47.5\" cy=\"172.9688\" fill=\"#FFA500\" rx=\"11\" ry=\"11\" style=\"stroke: #A80036; stroke-width: 1.0;\"/><path d=\"M47.25,178.4375 Q45.5,178.4375 44.5469,177.4063 Q43.6094,176.3594 43.6094,174.5156 L43.6094,167.625 L45.6719,167.625 L45.6719,167.7813 Q45.5781,167.875 45.5469,168.0156 Q45.5313,168.1406 45.5313,168.4063 L45.5313,174.5313 Q45.5313,175.625 45.9063,176.25 Q46.2813,176.875 47.2656,176.875 Q48.25,176.875 48.6406,176.25 Q49.0313,175.625 49.0313,174.4844 L49.0313,167.625 L50.9063,167.625 L50.9063,174.4688 Q50.9063,176.5 49.875,177.4688 Q48.8594,178.4375 47.25,178.4375 Z \"/><text fill=\"#000000\" font-family=\"sans-serif\" font-size=\"12\" font-style=\"italic\" lengthAdjust=\"spacingAndGlyphs\" textLength=\"119\" x=\"59.5\" y=\"170.1387\">«assertConstraint»</text><text fill=\"#000000\" font-family=\"sans-serif\" font-size=\"12\" lengthAdjust=\"spacingAndGlyphs\" textLength=\"76\" x=\"81\" y=\"184.1074\">x_constraint</text><line style=\"stroke: #A80036; stroke-width: 1.5;\" x1=\"33.5\" x2=\"178.5\" y1=\"191.9375\" y2=\"191.9375\"/></a><text fill=\"#000000\" font-family=\"sans-serif\" font-size=\"14\" lengthAdjust=\"spacingAndGlyphs\" textLength=\"8\" x=\"215\" y=\"46.1982\">c</text><rect fill=\"#A80036\" height=\"12\" style=\"stroke: #FEFECE; stroke-width: 1.5;\" width=\"12\" x=\"213\" y=\"61.5\"/><text fill=\"#000000\" font-family=\"sans-serif\" font-size=\"14\" lengthAdjust=\"spacingAndGlyphs\" textLength=\"38\" x=\"247\" y=\"46.1982\">newX</text><rect fill=\"#A80036\" height=\"12\" style=\"stroke: #FEFECE; stroke-width: 1.5;\" width=\"12\" x=\"260\" y=\"61.5\"/><!--MD5=[209b3feb70ccb6233bfe1053d122c12c]\n",
       "reverse link E2 to E3--><a href=\"psysml:54ab6d27-8883-4622-a03e-a53956db7fe1\" target=\"_top\" title=\"psysml:54ab6d27-8883-4622-a03e-a53956db7fe1\" xlink:actuate=\"onRequest\" xlink:href=\"psysml:54ab6d27-8883-4622-a03e-a53956db7fe1\" xlink:show=\"new\" xlink:title=\"psysml:54ab6d27-8883-4622-a03e-a53956db7fe1\" xlink:type=\"simple\"><path d=\"M106,107.34 C106,122.93 106,140.35 106,153.74 \" fill=\"none\" id=\"E2&lt;-E3\" style=\"stroke: #A80036; stroke-width: 1.0;\"/><polygon fill=\"#A80036\" points=\"106,94.25,102,100.25,106,106.25,110,100.25,106,94.25\" style=\"stroke: #A80036; stroke-width: 1.0;\"/><text fill=\"#000000\" font-family=\"sans-serif\" font-size=\"13\" lengthAdjust=\"spacingAndGlyphs\" textLength=\"7\" x=\"98.1031\" y=\"142.9497\">*</text></a><!--MD5=[13113299365c80752438385f876b2545]\n",
       "@startuml\r\n",
       " \r\n",
       "package \"TextualRepresentationTest\" as E1  [[psysml:806baf2e-ef33-48f4-9893-87a395ee6712 ]]  {\r\n",
       "comp def \"C\" as E2 << << (B,green) >> [[psysml:7ed521f9-b82c-428e-a042-7cd99724445f ]] {\r\n",
       "x: Real\r\n",
       "}\r\n",
       "comp usage \"x_constraint\" as E3 << <<(U,orange) assertConstraint>> [[psysml:f29a45b1-01e5-48c9-895e-094b774cc27f ]] {\r\n",
       "}\r\n",
       "rec def \"setX\" as E4 << <<(B,lemonchiffon) action def>> [[psysml:55b9c562-7faa-4cb8-ac86-d366721fd3cf ]] {\r\n",
       "portin \"c\" as E5  [[psysml:6b50cc19-3c51-4fdc-acb9-7cb54732aaba ]] \r\n",
       "portin \"newX\" as E6  [[psysml:036e652a-b19a-4307-ba90-1008950a3600 ]] \r\n",
       "}\r\n",
       "\r\n",
       "}\r\n",
       "E2 *- - \"*\"E3 [[psysml:54ab6d27-8883-4622-a03e-a53956db7fe1 ]] \r\n",
       "@enduml\r\n",
       "\n",
       "PlantUML version 1.2020.13(Sat Jun 13 12:26:38 UTC 2020)\n",
       "(EPL source distribution)\n",
       "Java Runtime: OpenJDK Runtime Environment\n",
       "JVM: OpenJDK 64-Bit Server VM\n",
       "Default Encoding: UTF-8\n",
       "Language: en\n",
       "Country: null\n",
       "--></g></svg>"
      ]
     },
     "execution_count": 36,
     "metadata": {},
     "output_type": "execute_result"
    }
   ],
   "source": [
    "%viz --style=\"PLANTUML\" --view=\"MIXED\" \"TextualRepresentationTest\""
   ]
  },
  {
   "cell_type": "code",
   "execution_count": 37,
   "id": "98bf306d",
   "metadata": {
    "execution": {
     "iopub.execute_input": "2021-10-03T08:29:36.015396Z",
     "iopub.status.busy": "2021-10-03T08:29:36.014981Z",
     "iopub.status.idle": "2021-10-03T08:29:36.054195Z",
     "shell.execute_reply": "2021-10-03T08:29:36.052431Z"
    }
   },
   "outputs": [
    {
     "data": {
      "image/svg+xml": [
       "<?xml version=\"1.0\" encoding=\"UTF-8\" standalone=\"no\"?><svg xmlns=\"http://www.w3.org/2000/svg\" xmlns:xlink=\"http://www.w3.org/1999/xlink\" contentScriptType=\"application/ecmascript\" contentStyleType=\"text/css\" height=\"261px\" preserveAspectRatio=\"none\" style=\"width:345px;height:261px;\" version=\"1.1\" viewBox=\"0 0 345 261\" width=\"345px\" zoomAndPan=\"magnify\"><defs/><g><!--MD5=[fbc87193dbaf4d95561dea2c320d4a47]\n",
       "cluster E1--><a href=\"psysml:806baf2e-ef33-48f4-9893-87a395ee6712\" target=\"_top\" title=\"psysml:806baf2e-ef33-48f4-9893-87a395ee6712\" xlink:actuate=\"onRequest\" xlink:href=\"psysml:806baf2e-ef33-48f4-9893-87a395ee6712\" xlink:show=\"new\" xlink:title=\"psysml:806baf2e-ef33-48f4-9893-87a395ee6712\" xlink:type=\"simple\"><polygon fill=\"#FFFFFF\" points=\"16,6,210,6,217,28.2969,323,28.2969,323,249.5,16,249.5,16,6\" style=\"stroke: #000000; stroke-width: 1.5;\"/><line style=\"stroke: #000000; stroke-width: 1.5;\" x1=\"16\" x2=\"217\" y1=\"28.2969\" y2=\"28.2969\"/><text fill=\"#000000\" font-family=\"sans-serif\" font-size=\"14\" font-weight=\"bold\" lengthAdjust=\"spacingAndGlyphs\" textLength=\"188\" x=\"20\" y=\"20.9951\">TextualRepresentationTest</text></a><!--MD5=[f6df4d0ebaf0b5dfb2ced0ae5af7c670]\n",
       "cluster E4--><a href=\"psysml:55b9c562-7faa-4cb8-ac86-d366721fd3cf\" target=\"_top\" title=\"psysml:55b9c562-7faa-4cb8-ac86-d366721fd3cf\" xlink:actuate=\"onRequest\" xlink:href=\"psysml:55b9c562-7faa-4cb8-ac86-d366721fd3cf\" xlink:show=\"new\" xlink:title=\"psysml:55b9c562-7faa-4cb8-ac86-d366721fd3cf\" xlink:type=\"simple\"><rect fill=\"#FFFFFF\" height=\"154.5\" id=\"E4\" style=\"stroke: #383838; stroke-width: 1.5;\" width=\"132\" x=\"175\" y=\"79\"/><rect fill=\"#F8F8F8\" height=\"37.9375\" style=\"stroke: #383838; stroke-width: 1.5;\" width=\"132\" x=\"175\" y=\"79\"/><text fill=\"#000000\" font-family=\"sans-serif\" font-size=\"12\" font-style=\"italic\" lengthAdjust=\"spacingAndGlyphs\" textLength=\"77\" x=\"202.5\" y=\"95.1387\">«action def»</text><text fill=\"#000000\" font-family=\"sans-serif\" font-size=\"12\" lengthAdjust=\"spacingAndGlyphs\" textLength=\"27\" x=\"227.5\" y=\"109.1074\">setX</text></a><!--MD5=[b4997ac47864f28c2f74865a473b2911]\n",
       "class E2--><a href=\"psysml:7ed521f9-b82c-428e-a042-7cd99724445f\" target=\"_top\" title=\"psysml:7ed521f9-b82c-428e-a042-7cd99724445f\" xlink:actuate=\"onRequest\" xlink:href=\"psysml:7ed521f9-b82c-428e-a042-7cd99724445f\" xlink:show=\"new\" xlink:title=\"psysml:7ed521f9-b82c-428e-a042-7cd99724445f\" xlink:type=\"simple\"><rect fill=\"#FFFFFF\" height=\"75.5469\" id=\"E2\" style=\"stroke: #383838; stroke-width: 1.5;\" width=\"67\" x=\"59.5\" y=\"41\"/><text fill=\"#000000\" font-family=\"sans-serif\" font-size=\"12\" font-style=\"italic\" lengthAdjust=\"spacingAndGlyphs\" textLength=\"65\" x=\"60.5\" y=\"57.1387\">«item def»</text><text fill=\"#000000\" font-family=\"sans-serif\" font-size=\"12\" lengthAdjust=\"spacingAndGlyphs\" textLength=\"8\" x=\"89\" y=\"71.1074\">C</text><line style=\"stroke: #383838; stroke-width: 1.5;\" x1=\"60.5\" x2=\"125.5\" y1=\"78.9375\" y2=\"78.9375\"/><text fill=\"#000000\" font-family=\"sans-serif\" font-size=\"11\" lengthAdjust=\"spacingAndGlyphs\" textLength=\"38\" x=\"65.5\" y=\"109.9526\">x: Real</text><line style=\"stroke: #383838; stroke-width: 1.0;\" x1=\"60.5\" x2=\"65.5\" y1=\"93.3398\" y2=\"93.3398\"/><text fill=\"#000000\" font-family=\"sans-serif\" font-size=\"11\" lengthAdjust=\"spacingAndGlyphs\" textLength=\"55\" x=\"65.5\" y=\"96.6479\">attributes</text><line style=\"stroke: #383838; stroke-width: 1.0;\" x1=\"120.5\" x2=\"125.5\" y1=\"93.3398\" y2=\"93.3398\"/></a><!--MD5=[09b614a08d8cba4a07c9adeb5e0fee81]\n",
       "class E3--><a href=\"psysml:f29a45b1-01e5-48c9-895e-094b774cc27f\" target=\"_top\" title=\"psysml:f29a45b1-01e5-48c9-895e-094b774cc27f\" xlink:actuate=\"onRequest\" xlink:href=\"psysml:f29a45b1-01e5-48c9-895e-094b774cc27f\" xlink:show=\"new\" xlink:title=\"psysml:f29a45b1-01e5-48c9-895e-094b774cc27f\" xlink:type=\"simple\"><rect fill=\"#FFFFFF\" height=\"45.9375\" id=\"E3\" rx=\"10\" ry=\"10\" style=\"stroke: #383838; stroke-width: 1.5;\" width=\"121\" x=\"32.5\" y=\"177\"/><text fill=\"#000000\" font-family=\"sans-serif\" font-size=\"12\" font-style=\"italic\" lengthAdjust=\"spacingAndGlyphs\" textLength=\"119\" x=\"33.5\" y=\"193.1387\">«assertConstraint»</text><text fill=\"#000000\" font-family=\"sans-serif\" font-size=\"12\" lengthAdjust=\"spacingAndGlyphs\" textLength=\"76\" x=\"55\" y=\"207.1074\">x_constraint</text><line style=\"stroke: #383838; stroke-width: 1.5;\" x1=\"33.5\" x2=\"152.5\" y1=\"214.9375\" y2=\"214.9375\"/></a><text fill=\"#000000\" font-family=\"sans-serif\" font-size=\"14\" lengthAdjust=\"spacingAndGlyphs\" textLength=\"8\" x=\"189\" y=\"57.6982\">c</text><rect fill=\"#383838\" height=\"12\" style=\"stroke: #F8F8F8; stroke-width: 1.5;\" width=\"12\" x=\"187\" y=\"73\"/><text fill=\"#000000\" font-family=\"sans-serif\" font-size=\"14\" lengthAdjust=\"spacingAndGlyphs\" textLength=\"38\" x=\"221\" y=\"57.6982\">newX</text><rect fill=\"#383838\" height=\"12\" style=\"stroke: #F8F8F8; stroke-width: 1.5;\" width=\"12\" x=\"234\" y=\"73\"/><!--MD5=[209b3feb70ccb6233bfe1053d122c12c]\n",
       "reverse link E2 to E3--><a href=\"psysml:54ab6d27-8883-4622-a03e-a53956db7fe1\" target=\"_top\" title=\"psysml:54ab6d27-8883-4622-a03e-a53956db7fe1\" xlink:actuate=\"onRequest\" xlink:href=\"psysml:54ab6d27-8883-4622-a03e-a53956db7fe1\" xlink:show=\"new\" xlink:title=\"psysml:54ab6d27-8883-4622-a03e-a53956db7fe1\" xlink:type=\"simple\"><path d=\"M93,130.34 C93,146.61 93,163.81 93,176.93 \" fill=\"none\" id=\"E2&lt;-E3\" style=\"stroke: #383838; stroke-width: 1.0;\"/><polygon fill=\"#383838\" points=\"93,117,89,123,93,129,97,123,93,117\" style=\"stroke: #383838; stroke-width: 1.0;\"/><text fill=\"#000000\" font-family=\"sans-serif\" font-size=\"13\" lengthAdjust=\"spacingAndGlyphs\" textLength=\"7\" x=\"85.0594\" y=\"165.8075\">*</text></a><!--MD5=[e502f682bcdf04e6a8ec354ccf7f0b1f]\n",
       "@startuml\r\n",
       "skinparam monochrome true\r\n",
       "skinparam classbackgroundcolor white\r\n",
       "skinparam shadowing false\r\n",
       "skinparam wrapWidth 300\r\n",
       "hide circle\r\n",
       "\r\n",
       "package \"TextualRepresentationTest\" as E1  [[psysml:806baf2e-ef33-48f4-9893-87a395ee6712 ]]  {\r\n",
       "comp def \"C\" as E2  <<(T,blue) item def>> [[psysml:7ed521f9-b82c-428e-a042-7cd99724445f ]] {\r\n",
       "- - attributes - -\r\n",
       "x: Real\r\n",
       "}\r\n",
       "comp usage \"x_constraint\" as E3  <<(T,blue) assertConstraint>> [[psysml:f29a45b1-01e5-48c9-895e-094b774cc27f ]] {\r\n",
       "}\r\n",
       "rec def \"setX\" as E4  <<(T,blue) action def>> [[psysml:55b9c562-7faa-4cb8-ac86-d366721fd3cf ]] {\r\n",
       "portin \"c\" as E5  [[psysml:6b50cc19-3c51-4fdc-acb9-7cb54732aaba ]] \r\n",
       "portin \"newX\" as E6  [[psysml:036e652a-b19a-4307-ba90-1008950a3600 ]] \r\n",
       "}\r\n",
       "\r\n",
       "}\r\n",
       "E2 *- - \"*\"E3 [[psysml:54ab6d27-8883-4622-a03e-a53956db7fe1 ]] \r\n",
       "@enduml\r\n",
       "\n",
       "PlantUML version 1.2020.13(Sat Jun 13 12:26:38 UTC 2020)\n",
       "(EPL source distribution)\n",
       "Java Runtime: OpenJDK Runtime Environment\n",
       "JVM: OpenJDK 64-Bit Server VM\n",
       "Default Encoding: UTF-8\n",
       "Language: en\n",
       "Country: null\n",
       "--></g></svg>"
      ]
     },
     "execution_count": 37,
     "metadata": {},
     "output_type": "execute_result"
    }
   ],
   "source": [
    "%viz --style=\"DEFAULT\" --view=\"Default\" \"TextualRepresentationTest\""
   ]
  },
  {
   "cell_type": "code",
   "execution_count": 38,
   "id": "9507ba8c",
   "metadata": {
    "execution": {
     "iopub.execute_input": "2021-10-03T08:29:36.103175Z",
     "iopub.status.busy": "2021-10-03T08:29:36.102770Z",
     "iopub.status.idle": "2021-10-03T08:29:36.142178Z",
     "shell.execute_reply": "2021-10-03T08:29:36.141777Z"
    }
   },
   "outputs": [
    {
     "data": {
      "image/svg+xml": [
       "<?xml version=\"1.0\" encoding=\"UTF-8\" standalone=\"no\"?><svg xmlns=\"http://www.w3.org/2000/svg\" xmlns:xlink=\"http://www.w3.org/1999/xlink\" contentScriptType=\"application/ecmascript\" contentStyleType=\"text/css\" height=\"375px\" preserveAspectRatio=\"none\" style=\"width:242px;height:375px;\" version=\"1.1\" viewBox=\"0 0 242 375\" width=\"242px\" zoomAndPan=\"magnify\"><defs/><g><!--MD5=[fbc87193dbaf4d95561dea2c320d4a47]\n",
       "cluster E1--><a href=\"psysml:806baf2e-ef33-48f4-9893-87a395ee6712\" target=\"_top\" title=\"psysml:806baf2e-ef33-48f4-9893-87a395ee6712\" xlink:actuate=\"onRequest\" xlink:href=\"psysml:806baf2e-ef33-48f4-9893-87a395ee6712\" xlink:show=\"new\" xlink:title=\"psysml:806baf2e-ef33-48f4-9893-87a395ee6712\" xlink:type=\"simple\"><polygon fill=\"#FFFFFF\" points=\"16,6,210,6,217,28.2969,220,28.2969,220,363,16,363,16,6\" style=\"stroke: #000000; stroke-width: 1.5;\"/><line style=\"stroke: #000000; stroke-width: 1.5;\" x1=\"16\" x2=\"217\" y1=\"28.2969\" y2=\"28.2969\"/><text fill=\"#000000\" font-family=\"sans-serif\" font-size=\"14\" font-weight=\"bold\" lengthAdjust=\"spacingAndGlyphs\" textLength=\"188\" x=\"20\" y=\"20.9951\">TextualRepresentationTest</text></a><!--MD5=[b4997ac47864f28c2f74865a473b2911]\n",
       "class E2--><a href=\"psysml:7ed521f9-b82c-428e-a042-7cd99724445f\" target=\"_top\" title=\"psysml:7ed521f9-b82c-428e-a042-7cd99724445f\" xlink:actuate=\"onRequest\" xlink:href=\"psysml:7ed521f9-b82c-428e-a042-7cd99724445f\" xlink:show=\"new\" xlink:title=\"psysml:7ed521f9-b82c-428e-a042-7cd99724445f\" xlink:type=\"simple\"><rect fill=\"#FFFFFF\" height=\"75.5469\" id=\"E2\" style=\"stroke: #383838; stroke-width: 1.5;\" width=\"67\" x=\"84.5\" y=\"164\"/><text fill=\"#000000\" font-family=\"sans-serif\" font-size=\"12\" font-style=\"italic\" lengthAdjust=\"spacingAndGlyphs\" textLength=\"65\" x=\"85.5\" y=\"180.1387\">«item def»</text><text fill=\"#000000\" font-family=\"sans-serif\" font-size=\"12\" lengthAdjust=\"spacingAndGlyphs\" textLength=\"8\" x=\"114\" y=\"194.1074\">C</text><line style=\"stroke: #383838; stroke-width: 1.5;\" x1=\"85.5\" x2=\"150.5\" y1=\"201.9375\" y2=\"201.9375\"/><text fill=\"#000000\" font-family=\"sans-serif\" font-size=\"11\" lengthAdjust=\"spacingAndGlyphs\" textLength=\"38\" x=\"90.5\" y=\"232.9526\">x: Real</text><line style=\"stroke: #383838; stroke-width: 1.0;\" x1=\"85.5\" x2=\"90.5\" y1=\"216.3398\" y2=\"216.3398\"/><text fill=\"#000000\" font-family=\"sans-serif\" font-size=\"11\" lengthAdjust=\"spacingAndGlyphs\" textLength=\"55\" x=\"90.5\" y=\"219.6479\">attributes</text><line style=\"stroke: #383838; stroke-width: 1.0;\" x1=\"145.5\" x2=\"150.5\" y1=\"216.3398\" y2=\"216.3398\"/></a><!--MD5=[09b614a08d8cba4a07c9adeb5e0fee81]\n",
       "class E3--><a href=\"psysml:f29a45b1-01e5-48c9-895e-094b774cc27f\" target=\"_top\" title=\"psysml:f29a45b1-01e5-48c9-895e-094b774cc27f\" xlink:actuate=\"onRequest\" xlink:href=\"psysml:f29a45b1-01e5-48c9-895e-094b774cc27f\" xlink:show=\"new\" xlink:title=\"psysml:f29a45b1-01e5-48c9-895e-094b774cc27f\" xlink:type=\"simple\"><rect fill=\"#FFFFFF\" height=\"45.9375\" id=\"E3\" rx=\"10\" ry=\"10\" style=\"stroke: #383838; stroke-width: 1.5;\" width=\"121\" x=\"57.5\" y=\"301\"/><text fill=\"#000000\" font-family=\"sans-serif\" font-size=\"12\" font-style=\"italic\" lengthAdjust=\"spacingAndGlyphs\" textLength=\"119\" x=\"58.5\" y=\"317.1387\">«assertConstraint»</text><text fill=\"#000000\" font-family=\"sans-serif\" font-size=\"12\" lengthAdjust=\"spacingAndGlyphs\" textLength=\"76\" x=\"80\" y=\"331.1074\">x_constraint</text><line style=\"stroke: #383838; stroke-width: 1.5;\" x1=\"58.5\" x2=\"177.5\" y1=\"338.9375\" y2=\"338.9375\"/></a><!--MD5=[ebbe1d658d1005bcc118a6aa81145e00]\n",
       "class E4--><a href=\"psysml:55b9c562-7faa-4cb8-ac86-d366721fd3cf\" target=\"_top\" title=\"psysml:55b9c562-7faa-4cb8-ac86-d366721fd3cf\" xlink:actuate=\"onRequest\" xlink:href=\"psysml:55b9c562-7faa-4cb8-ac86-d366721fd3cf\" xlink:show=\"new\" xlink:title=\"psysml:55b9c562-7faa-4cb8-ac86-d366721fd3cf\" xlink:type=\"simple\"><rect fill=\"#FFFFFF\" height=\"45.9375\" id=\"E4\" style=\"stroke: #383838; stroke-width: 1.5;\" width=\"79\" x=\"78.5\" y=\"41\"/><text fill=\"#000000\" font-family=\"sans-serif\" font-size=\"12\" font-style=\"italic\" lengthAdjust=\"spacingAndGlyphs\" textLength=\"77\" x=\"79.5\" y=\"57.1387\">«action def»</text><text fill=\"#000000\" font-family=\"sans-serif\" font-size=\"12\" lengthAdjust=\"spacingAndGlyphs\" textLength=\"27\" x=\"104.5\" y=\"71.1074\">setX</text><line style=\"stroke: #383838; stroke-width: 1.5;\" x1=\"79.5\" x2=\"156.5\" y1=\"78.9375\" y2=\"78.9375\"/></a><!--MD5=[209b3feb70ccb6233bfe1053d122c12c]\n",
       "reverse link E2 to E3--><a href=\"psysml:54ab6d27-8883-4622-a03e-a53956db7fe1\" target=\"_top\" title=\"psysml:54ab6d27-8883-4622-a03e-a53956db7fe1\" xlink:actuate=\"onRequest\" xlink:href=\"psysml:54ab6d27-8883-4622-a03e-a53956db7fe1\" xlink:show=\"new\" xlink:title=\"psysml:54ab6d27-8883-4622-a03e-a53956db7fe1\" xlink:type=\"simple\"><path d=\"M118,253.76 C118,270.17 118,287.52 118,300.75 \" fill=\"none\" id=\"E2&lt;-E3\" style=\"stroke: #383838; stroke-width: 1.0;\"/><polygon fill=\"#383838\" points=\"118,240.31,114,246.31,118,252.31,122,246.31,118,240.31\" style=\"stroke: #383838; stroke-width: 1.0;\"/><text fill=\"#000000\" font-family=\"sans-serif\" font-size=\"13\" lengthAdjust=\"spacingAndGlyphs\" textLength=\"7\" x=\"110.1031\" y=\"289.9622\">*</text></a><!--MD5=[ddeed8deb2209213b62e6cfabaa108b2]\n",
       "reverse link E4 to E2--><a href=\"psysml:6b50cc19-3c51-4fdc-acb9-7cb54732aaba\" target=\"_top\" title=\"psysml:6b50cc19-3c51-4fdc-acb9-7cb54732aaba\" xlink:actuate=\"onRequest\" xlink:href=\"psysml:6b50cc19-3c51-4fdc-acb9-7cb54732aaba\" xlink:show=\"new\" xlink:title=\"psysml:6b50cc19-3c51-4fdc-acb9-7cb54732aaba\" xlink:type=\"simple\"><path d=\"M118,100.42 C118,119.95 118,144.19 118,163.97 \" fill=\"none\" id=\"E4&lt;-E2\" style=\"stroke: #383838; stroke-width: 1.0;\"/><polygon fill=\"#FFFFFF\" points=\"118,87.15,114,93.15,118,99.15,122,93.15,118,87.15\" style=\"stroke: #383838; stroke-width: 1.0;\"/><text fill=\"#000000\" font-family=\"sans-serif\" font-size=\"13\" lengthAdjust=\"spacingAndGlyphs\" textLength=\"7\" x=\"119\" y=\"130.0669\">c</text></a><!--MD5=[071d82df6e9e78bc239230b97cda341a]\n",
       "@startuml\r\n",
       "skinparam monochrome true\r\n",
       "skinparam classbackgroundcolor white\r\n",
       "skinparam shadowing false\r\n",
       "skinparam wrapWidth 300\r\n",
       "hide circle\r\n",
       "\r\n",
       "package \"TextualRepresentationTest\" as E1  [[psysml:806baf2e-ef33-48f4-9893-87a395ee6712 ]]  {\r\n",
       "comp def \"C\" as E2  <<(T,blue) item def>> [[psysml:7ed521f9-b82c-428e-a042-7cd99724445f ]] {\r\n",
       "- - attributes - -\r\n",
       "x: Real\r\n",
       "}\r\n",
       "comp usage \"x_constraint\" as E3  <<(T,blue) assertConstraint>> [[psysml:f29a45b1-01e5-48c9-895e-094b774cc27f ]] {\r\n",
       "}\r\n",
       "comp def \"setX\" as E4  <<(T,blue) action def>> [[psysml:55b9c562-7faa-4cb8-ac86-d366721fd3cf ]] {\r\n",
       "}\r\n",
       "}\r\n",
       "E2 *- - \"*\"E3 [[psysml:54ab6d27-8883-4622-a03e-a53956db7fe1 ]] \r\n",
       "E4 o- - E2 [[psysml:6b50cc19-3c51-4fdc-acb9-7cb54732aaba ]] : c\r\n",
       "@enduml\r\n",
       "\n",
       "PlantUML version 1.2020.13(Sat Jun 13 12:26:38 UTC 2020)\n",
       "(EPL source distribution)\n",
       "Java Runtime: OpenJDK Runtime Environment\n",
       "JVM: OpenJDK 64-Bit Server VM\n",
       "Default Encoding: UTF-8\n",
       "Language: en\n",
       "Country: null\n",
       "--></g></svg>"
      ]
     },
     "execution_count": 38,
     "metadata": {},
     "output_type": "execute_result"
    }
   ],
   "source": [
    "%viz --style=\"DEFAULT\" --view=\"Tree\" \"TextualRepresentationTest\""
   ]
  },
  {
   "cell_type": "code",
   "execution_count": 39,
   "id": "6be74c63",
   "metadata": {
    "execution": {
     "iopub.execute_input": "2021-10-03T08:29:36.191264Z",
     "iopub.status.busy": "2021-10-03T08:29:36.190861Z",
     "iopub.status.idle": "2021-10-03T08:29:36.195879Z",
     "shell.execute_reply": "2021-10-03T08:29:36.195533Z"
    }
   },
   "outputs": [
    {
     "data": {
      "image/svg+xml": [
       "<?xml version=\"1.0\" encoding=\"UTF-8\" standalone=\"no\"?><svg xmlns=\"http://www.w3.org/2000/svg\" xmlns:xlink=\"http://www.w3.org/1999/xlink\" contentScriptType=\"application/ecmascript\" contentStyleType=\"text/css\" height=\"12px\" preserveAspectRatio=\"none\" style=\"width:12px;height:12px;\" version=\"1.1\" viewBox=\"0 0 12 12\" width=\"12px\" zoomAndPan=\"magnify\"><defs/><g><!--MD5=[c5f280e076d0d61ccf4b0f27871bda1d]\n",
       "@startuml\r\n",
       "skinparam monochrome true\r\n",
       "skinparam classbackgroundcolor white\r\n",
       "skinparam shadowing false\r\n",
       "skinparam wrapWidth 300\r\n",
       "hide circle\r\n",
       "\r\n",
       "@enduml\r\n",
       "\n",
       "PlantUML version 1.2020.13(Sat Jun 13 12:26:38 UTC 2020)\n",
       "(EPL source distribution)\n",
       "Java Runtime: OpenJDK Runtime Environment\n",
       "JVM: OpenJDK 64-Bit Server VM\n",
       "Default Encoding: UTF-8\n",
       "Language: en\n",
       "Country: null\n",
       "--></g></svg>"
      ]
     },
     "execution_count": 39,
     "metadata": {},
     "output_type": "execute_result"
    }
   ],
   "source": [
    "%viz --style=\"DEFAULT\" --view=\"State\" \"TextualRepresentationTest\""
   ]
  },
  {
   "cell_type": "code",
   "execution_count": 40,
   "id": "2ccb7414",
   "metadata": {
    "execution": {
     "iopub.execute_input": "2021-10-03T08:29:36.245305Z",
     "iopub.status.busy": "2021-10-03T08:29:36.244902Z",
     "iopub.status.idle": "2021-10-03T08:29:36.272713Z",
     "shell.execute_reply": "2021-10-03T08:29:36.272363Z"
    }
   },
   "outputs": [
    {
     "data": {
      "image/svg+xml": [
       "<?xml version=\"1.0\" encoding=\"UTF-8\" standalone=\"no\"?><svg xmlns=\"http://www.w3.org/2000/svg\" xmlns:xlink=\"http://www.w3.org/1999/xlink\" contentScriptType=\"application/ecmascript\" contentStyleType=\"text/css\" height=\"179px\" preserveAspectRatio=\"none\" style=\"width:284px;height:179px;\" version=\"1.1\" viewBox=\"0 0 284 179\" width=\"284px\" zoomAndPan=\"magnify\"><defs/><g><!--MD5=[fbc87193dbaf4d95561dea2c320d4a47]\n",
       "cluster E1--><a href=\"psysml:806baf2e-ef33-48f4-9893-87a395ee6712\" target=\"_top\" title=\"psysml:806baf2e-ef33-48f4-9893-87a395ee6712\" xlink:actuate=\"onRequest\" xlink:href=\"psysml:806baf2e-ef33-48f4-9893-87a395ee6712\" xlink:show=\"new\" xlink:title=\"psysml:806baf2e-ef33-48f4-9893-87a395ee6712\" xlink:type=\"simple\"><polygon fill=\"#FFFFFF\" points=\"16,6,210,6,217,28.2969,262,28.2969,262,167,16,167,16,6\" style=\"stroke: #000000; stroke-width: 1.5;\"/><line style=\"stroke: #000000; stroke-width: 1.5;\" x1=\"16\" x2=\"217\" y1=\"28.2969\" y2=\"28.2969\"/><text fill=\"#000000\" font-family=\"sans-serif\" font-size=\"14\" font-weight=\"bold\" lengthAdjust=\"spacingAndGlyphs\" textLength=\"188\" x=\"20\" y=\"20.9951\">TextualRepresentationTest</text></a><!--MD5=[d5e69f78d87373223dbae638b30a9c99]\n",
       "cluster E3--><a href=\"psysml:55b9c562-7faa-4cb8-ac86-d366721fd3cf\" target=\"_top\" title=\"psysml:55b9c562-7faa-4cb8-ac86-d366721fd3cf\" xlink:actuate=\"onRequest\" xlink:href=\"psysml:55b9c562-7faa-4cb8-ac86-d366721fd3cf\" xlink:show=\"new\" xlink:title=\"psysml:55b9c562-7faa-4cb8-ac86-d366721fd3cf\" xlink:type=\"simple\"><rect fill=\"#FFFFFF\" height=\"88.5\" id=\"E3\" style=\"stroke: #383838; stroke-width: 1.5;\" width=\"96\" x=\"120.5\" y=\"62.5\"/><rect fill=\"#F8F8F8\" height=\"37.9375\" style=\"stroke: #383838; stroke-width: 1.5;\" width=\"96\" x=\"120.5\" y=\"62.5\"/><text fill=\"#000000\" font-family=\"sans-serif\" font-size=\"12\" font-style=\"italic\" lengthAdjust=\"spacingAndGlyphs\" textLength=\"77\" x=\"130\" y=\"78.6387\">«action def»</text><text fill=\"#000000\" font-family=\"sans-serif\" font-size=\"12\" lengthAdjust=\"spacingAndGlyphs\" textLength=\"27\" x=\"155\" y=\"92.6074\">setX</text></a><g id=\"E1.E2\"><a href=\"psysml:7ed521f9-b82c-428e-a042-7cd99724445f\" target=\"_top\" title=\"psysml:7ed521f9-b82c-428e-a042-7cd99724445f\" xlink:actuate=\"onRequest\" xlink:href=\"psysml:7ed521f9-b82c-428e-a042-7cd99724445f\" xlink:show=\"new\" xlink:title=\"psysml:7ed521f9-b82c-428e-a042-7cd99724445f\" xlink:type=\"simple\"><rect fill=\"#FFFFFF\" height=\"42.9375\" id=\"E2\" style=\"stroke: #383838; stroke-width: 1.5;\" width=\"72\" x=\"32\" y=\"41\"/><rect fill=\"#F8F8F8\" height=\"37.9375\" style=\"stroke: #383838; stroke-width: 1.5;\" width=\"72\" x=\"32\" y=\"41\"/><text fill=\"#000000\" font-family=\"sans-serif\" font-size=\"12\" font-style=\"italic\" lengthAdjust=\"spacingAndGlyphs\" textLength=\"65\" x=\"35.5\" y=\"57.1387\">«item def»</text><text fill=\"#000000\" font-family=\"sans-serif\" font-size=\"12\" lengthAdjust=\"spacingAndGlyphs\" textLength=\"8\" x=\"64\" y=\"71.1074\">C</text></a></g><text fill=\"#000000\" font-family=\"sans-serif\" font-size=\"14\" lengthAdjust=\"spacingAndGlyphs\" textLength=\"8\" x=\"141\" y=\"41.1982\">c</text><rect fill=\"#383838\" height=\"12\" style=\"stroke: #F8F8F8; stroke-width: 1.5;\" width=\"12\" x=\"139\" y=\"56.5\"/><text fill=\"#000000\" font-family=\"sans-serif\" font-size=\"14\" lengthAdjust=\"spacingAndGlyphs\" textLength=\"38\" x=\"173\" y=\"41.1982\">newX</text><rect fill=\"#383838\" height=\"12\" style=\"stroke: #F8F8F8; stroke-width: 1.5;\" width=\"12\" x=\"186\" y=\"56.5\"/><!--MD5=[8ca37c4b4838dc8a703224ac10effc25]\n",
       "@startuml\r\n",
       "skinparam ranksep 10\r\n",
       "skinparam rectangle {\r\n",
       " backgroundColor<<block>> LightGreen\r\n",
       "}\r\n",
       "skinparam monochrome true\r\n",
       "skinparam classbackgroundcolor white\r\n",
       "skinparam shadowing false\r\n",
       "skinparam wrapWidth 300\r\n",
       "hide circle\r\n",
       "\r\n",
       "package \"TextualRepresentationTest\" as E1  [[psysml:806baf2e-ef33-48f4-9893-87a395ee6712 ]]  {\r\n",
       "def \"C\" as E2  <<(T,blue) item def>> [[psysml:7ed521f9-b82c-428e-a042-7cd99724445f ]] \r\n",
       "rec def \"setX\" as E3  <<(T,blue) action def>> [[psysml:55b9c562-7faa-4cb8-ac86-d366721fd3cf ]] {\r\n",
       "portin \"c\" as E4  [[psysml:6b50cc19-3c51-4fdc-acb9-7cb54732aaba ]] \r\n",
       "portin \"newX\" as E5  [[psysml:036e652a-b19a-4307-ba90-1008950a3600 ]] \r\n",
       "}\r\n",
       "\r\n",
       "}\r\n",
       "@enduml\r\n",
       "\n",
       "PlantUML version 1.2020.13(Sat Jun 13 12:26:38 UTC 2020)\n",
       "(EPL source distribution)\n",
       "Java Runtime: OpenJDK Runtime Environment\n",
       "JVM: OpenJDK 64-Bit Server VM\n",
       "Default Encoding: UTF-8\n",
       "Language: en\n",
       "Country: null\n",
       "--></g></svg>"
      ]
     },
     "execution_count": 40,
     "metadata": {},
     "output_type": "execute_result"
    }
   ],
   "source": [
    "%viz --style=\"DEFAULT\" --view=\"Interconnection\" \"TextualRepresentationTest\""
   ]
  },
  {
   "cell_type": "code",
   "execution_count": 41,
   "id": "b2df252b",
   "metadata": {
    "execution": {
     "iopub.execute_input": "2021-10-03T08:29:36.322248Z",
     "iopub.status.busy": "2021-10-03T08:29:36.321766Z",
     "iopub.status.idle": "2021-10-03T08:29:36.344576Z",
     "shell.execute_reply": "2021-10-03T08:29:36.344185Z"
    }
   },
   "outputs": [
    {
     "data": {
      "image/svg+xml": [
       "<?xml version=\"1.0\" encoding=\"UTF-8\" standalone=\"no\"?><svg xmlns=\"http://www.w3.org/2000/svg\" xmlns:xlink=\"http://www.w3.org/1999/xlink\" contentScriptType=\"application/ecmascript\" contentStyleType=\"text/css\" height=\"126px\" preserveAspectRatio=\"none\" style=\"width:150px;height:126px;\" version=\"1.1\" viewBox=\"0 0 150 126\" width=\"150px\" zoomAndPan=\"magnify\"><defs/><g><!--MD5=[fbc87193dbaf4d95561dea2c320d4a47]\n",
       "cluster E1--><a href=\"psysml:55b9c562-7faa-4cb8-ac86-d366721fd3cf\" target=\"_top\" title=\"psysml:55b9c562-7faa-4cb8-ac86-d366721fd3cf\" xlink:actuate=\"onRequest\" xlink:href=\"psysml:55b9c562-7faa-4cb8-ac86-d366721fd3cf\" xlink:show=\"new\" xlink:title=\"psysml:55b9c562-7faa-4cb8-ac86-d366721fd3cf\" xlink:type=\"simple\"><rect fill=\"#FFFFFF\" height=\"73\" id=\"E1\" style=\"stroke: #383838; stroke-width: 1.5;\" width=\"132\" x=\"7\" y=\"42.0986\"/><rect fill=\"#F8F8F8\" height=\"37.9375\" style=\"stroke: #383838; stroke-width: 1.5;\" width=\"132\" x=\"7\" y=\"42.0986\"/><text fill=\"#000000\" font-family=\"sans-serif\" font-size=\"12\" font-style=\"italic\" lengthAdjust=\"spacingAndGlyphs\" textLength=\"77\" x=\"34.5\" y=\"58.2373\">«action def»</text><text fill=\"#000000\" font-family=\"sans-serif\" font-size=\"12\" lengthAdjust=\"spacingAndGlyphs\" textLength=\"27\" x=\"59.5\" y=\"72.2061\">setX</text></a><text fill=\"#000000\" font-family=\"sans-serif\" font-size=\"14\" lengthAdjust=\"spacingAndGlyphs\" textLength=\"8\" x=\"21\" y=\"20.7969\">c</text><rect fill=\"#383838\" height=\"12\" style=\"stroke: #F8F8F8; stroke-width: 1.5;\" width=\"12\" x=\"19\" y=\"36.0986\"/><text fill=\"#000000\" font-family=\"sans-serif\" font-size=\"14\" lengthAdjust=\"spacingAndGlyphs\" textLength=\"38\" x=\"53\" y=\"20.7969\">newX</text><rect fill=\"#383838\" height=\"12\" style=\"stroke: #F8F8F8; stroke-width: 1.5;\" width=\"12\" x=\"66\" y=\"36.0986\"/><!--MD5=[b31fd5874c8ab3e232902ffb6da6f448]\n",
       "@startuml\r\n",
       "skinparam ranksep 8\r\n",
       "skinparam monochrome true\r\n",
       "skinparam classbackgroundcolor white\r\n",
       "skinparam shadowing false\r\n",
       "skinparam wrapWidth 300\r\n",
       "hide circle\r\n",
       "\r\n",
       "rec def \"setX\" as E1  <<(T,blue) action def>> [[psysml:55b9c562-7faa-4cb8-ac86-d366721fd3cf ]] {\r\n",
       "portin \"c\" as E2  [[psysml:6b50cc19-3c51-4fdc-acb9-7cb54732aaba ]] \r\n",
       "portin \"newX\" as E3  [[psysml:036e652a-b19a-4307-ba90-1008950a3600 ]] \r\n",
       "}\r\n",
       "\r\n",
       "@enduml\r\n",
       "\n",
       "PlantUML version 1.2020.13(Sat Jun 13 12:26:38 UTC 2020)\n",
       "(EPL source distribution)\n",
       "Java Runtime: OpenJDK Runtime Environment\n",
       "JVM: OpenJDK 64-Bit Server VM\n",
       "Default Encoding: UTF-8\n",
       "Language: en\n",
       "Country: null\n",
       "--></g></svg>"
      ]
     },
     "execution_count": 41,
     "metadata": {},
     "output_type": "execute_result"
    }
   ],
   "source": [
    "%viz --style=\"DEFAULT\" --view=\"Action\" \"TextualRepresentationTest\""
   ]
  },
  {
   "cell_type": "code",
   "execution_count": 42,
   "id": "5bcf8760",
   "metadata": {
    "execution": {
     "iopub.execute_input": "2021-10-03T08:29:36.394001Z",
     "iopub.status.busy": "2021-10-03T08:29:36.393671Z",
     "iopub.status.idle": "2021-10-03T08:29:36.398467Z",
     "shell.execute_reply": "2021-10-03T08:29:36.398217Z"
    }
   },
   "outputs": [
    {
     "data": {
      "image/svg+xml": [
       "<?xml version=\"1.0\" encoding=\"UTF-8\" standalone=\"no\"?><svg xmlns=\"http://www.w3.org/2000/svg\" xmlns:xlink=\"http://www.w3.org/1999/xlink\" contentScriptType=\"application/ecmascript\" contentStyleType=\"text/css\" height=\"12px\" preserveAspectRatio=\"none\" style=\"width:12px;height:12px;\" version=\"1.1\" viewBox=\"0 0 12 12\" width=\"12px\" zoomAndPan=\"magnify\"><defs/><g><!--MD5=[0b72472770326784bf6c2b53246e1e64]\n",
       "@startuml\r\n",
       "skinparam roundcorner 20\r\n",
       "skinparam BoxPadding 20\r\n",
       "skinparam SequenceBoxBackgroundColor #white\r\n",
       "skinparam style strictuml\r\n",
       "skinparam maxMessageSize 100\r\n",
       "skinparam monochrome true\r\n",
       "skinparam classbackgroundcolor white\r\n",
       "skinparam shadowing false\r\n",
       "skinparam wrapWidth 300\r\n",
       "hide circle\r\n",
       "\r\n",
       "@enduml\r\n",
       "\n",
       "PlantUML version 1.2020.13(Sat Jun 13 12:26:38 UTC 2020)\n",
       "(EPL source distribution)\n",
       "Java Runtime: OpenJDK Runtime Environment\n",
       "JVM: OpenJDK 64-Bit Server VM\n",
       "Default Encoding: UTF-8\n",
       "Language: en\n",
       "Country: null\n",
       "--></g></svg>"
      ]
     },
     "execution_count": 42,
     "metadata": {},
     "output_type": "execute_result"
    }
   ],
   "source": [
    "%viz --style=\"DEFAULT\" --view=\"Sequence\" \"TextualRepresentationTest\""
   ]
  },
  {
   "cell_type": "code",
   "execution_count": 43,
   "id": "0677d2cc",
   "metadata": {
    "execution": {
     "iopub.execute_input": "2021-10-03T08:29:36.448701Z",
     "iopub.status.busy": "2021-10-03T08:29:36.448368Z",
     "iopub.status.idle": "2021-10-03T08:29:36.489081Z",
     "shell.execute_reply": "2021-10-03T08:29:36.487301Z"
    }
   },
   "outputs": [
    {
     "data": {
      "image/svg+xml": [
       "<?xml version=\"1.0\" encoding=\"UTF-8\" standalone=\"no\"?><svg xmlns=\"http://www.w3.org/2000/svg\" xmlns:xlink=\"http://www.w3.org/1999/xlink\" contentScriptType=\"application/ecmascript\" contentStyleType=\"text/css\" height=\"261px\" preserveAspectRatio=\"none\" style=\"width:345px;height:261px;\" version=\"1.1\" viewBox=\"0 0 345 261\" width=\"345px\" zoomAndPan=\"magnify\"><defs/><g><!--MD5=[fbc87193dbaf4d95561dea2c320d4a47]\n",
       "cluster E1--><a href=\"psysml:806baf2e-ef33-48f4-9893-87a395ee6712\" target=\"_top\" title=\"psysml:806baf2e-ef33-48f4-9893-87a395ee6712\" xlink:actuate=\"onRequest\" xlink:href=\"psysml:806baf2e-ef33-48f4-9893-87a395ee6712\" xlink:show=\"new\" xlink:title=\"psysml:806baf2e-ef33-48f4-9893-87a395ee6712\" xlink:type=\"simple\"><polygon fill=\"#FFFFFF\" points=\"16,6,210,6,217,28.2969,323,28.2969,323,249.5,16,249.5,16,6\" style=\"stroke: #000000; stroke-width: 1.5;\"/><line style=\"stroke: #000000; stroke-width: 1.5;\" x1=\"16\" x2=\"217\" y1=\"28.2969\" y2=\"28.2969\"/><text fill=\"#000000\" font-family=\"sans-serif\" font-size=\"14\" font-weight=\"bold\" lengthAdjust=\"spacingAndGlyphs\" textLength=\"188\" x=\"20\" y=\"20.9951\">TextualRepresentationTest</text></a><!--MD5=[f6df4d0ebaf0b5dfb2ced0ae5af7c670]\n",
       "cluster E4--><a href=\"psysml:55b9c562-7faa-4cb8-ac86-d366721fd3cf\" target=\"_top\" title=\"psysml:55b9c562-7faa-4cb8-ac86-d366721fd3cf\" xlink:actuate=\"onRequest\" xlink:href=\"psysml:55b9c562-7faa-4cb8-ac86-d366721fd3cf\" xlink:show=\"new\" xlink:title=\"psysml:55b9c562-7faa-4cb8-ac86-d366721fd3cf\" xlink:type=\"simple\"><rect fill=\"#FFFFFF\" height=\"154.5\" id=\"E4\" style=\"stroke: #383838; stroke-width: 1.5;\" width=\"132\" x=\"175\" y=\"79\"/><rect fill=\"#F8F8F8\" height=\"37.9375\" style=\"stroke: #383838; stroke-width: 1.5;\" width=\"132\" x=\"175\" y=\"79\"/><text fill=\"#000000\" font-family=\"sans-serif\" font-size=\"12\" font-style=\"italic\" lengthAdjust=\"spacingAndGlyphs\" textLength=\"77\" x=\"202.5\" y=\"95.1387\">«action def»</text><text fill=\"#000000\" font-family=\"sans-serif\" font-size=\"12\" lengthAdjust=\"spacingAndGlyphs\" textLength=\"27\" x=\"227.5\" y=\"109.1074\">setX</text></a><!--MD5=[b4997ac47864f28c2f74865a473b2911]\n",
       "class E2--><a href=\"psysml:7ed521f9-b82c-428e-a042-7cd99724445f\" target=\"_top\" title=\"psysml:7ed521f9-b82c-428e-a042-7cd99724445f\" xlink:actuate=\"onRequest\" xlink:href=\"psysml:7ed521f9-b82c-428e-a042-7cd99724445f\" xlink:show=\"new\" xlink:title=\"psysml:7ed521f9-b82c-428e-a042-7cd99724445f\" xlink:type=\"simple\"><rect fill=\"#FFFFFF\" height=\"75.5469\" id=\"E2\" style=\"stroke: #383838; stroke-width: 1.5;\" width=\"67\" x=\"59.5\" y=\"41\"/><text fill=\"#000000\" font-family=\"sans-serif\" font-size=\"12\" font-style=\"italic\" lengthAdjust=\"spacingAndGlyphs\" textLength=\"65\" x=\"60.5\" y=\"57.1387\">«item def»</text><text fill=\"#000000\" font-family=\"sans-serif\" font-size=\"12\" lengthAdjust=\"spacingAndGlyphs\" textLength=\"8\" x=\"89\" y=\"71.1074\">C</text><line style=\"stroke: #383838; stroke-width: 1.5;\" x1=\"60.5\" x2=\"125.5\" y1=\"78.9375\" y2=\"78.9375\"/><text fill=\"#000000\" font-family=\"sans-serif\" font-size=\"11\" lengthAdjust=\"spacingAndGlyphs\" textLength=\"38\" x=\"65.5\" y=\"109.9526\">x: Real</text><line style=\"stroke: #383838; stroke-width: 1.0;\" x1=\"60.5\" x2=\"65.5\" y1=\"93.3398\" y2=\"93.3398\"/><text fill=\"#000000\" font-family=\"sans-serif\" font-size=\"11\" lengthAdjust=\"spacingAndGlyphs\" textLength=\"55\" x=\"65.5\" y=\"96.6479\">attributes</text><line style=\"stroke: #383838; stroke-width: 1.0;\" x1=\"120.5\" x2=\"125.5\" y1=\"93.3398\" y2=\"93.3398\"/></a><!--MD5=[09b614a08d8cba4a07c9adeb5e0fee81]\n",
       "class E3--><a href=\"psysml:f29a45b1-01e5-48c9-895e-094b774cc27f\" target=\"_top\" title=\"psysml:f29a45b1-01e5-48c9-895e-094b774cc27f\" xlink:actuate=\"onRequest\" xlink:href=\"psysml:f29a45b1-01e5-48c9-895e-094b774cc27f\" xlink:show=\"new\" xlink:title=\"psysml:f29a45b1-01e5-48c9-895e-094b774cc27f\" xlink:type=\"simple\"><rect fill=\"#FFFFFF\" height=\"45.9375\" id=\"E3\" rx=\"10\" ry=\"10\" style=\"stroke: #383838; stroke-width: 1.5;\" width=\"121\" x=\"32.5\" y=\"177\"/><text fill=\"#000000\" font-family=\"sans-serif\" font-size=\"12\" font-style=\"italic\" lengthAdjust=\"spacingAndGlyphs\" textLength=\"119\" x=\"33.5\" y=\"193.1387\">«assertConstraint»</text><text fill=\"#000000\" font-family=\"sans-serif\" font-size=\"12\" lengthAdjust=\"spacingAndGlyphs\" textLength=\"76\" x=\"55\" y=\"207.1074\">x_constraint</text><line style=\"stroke: #383838; stroke-width: 1.5;\" x1=\"33.5\" x2=\"152.5\" y1=\"214.9375\" y2=\"214.9375\"/></a><text fill=\"#000000\" font-family=\"sans-serif\" font-size=\"14\" lengthAdjust=\"spacingAndGlyphs\" textLength=\"8\" x=\"189\" y=\"57.6982\">c</text><rect fill=\"#383838\" height=\"12\" style=\"stroke: #F8F8F8; stroke-width: 1.5;\" width=\"12\" x=\"187\" y=\"73\"/><text fill=\"#000000\" font-family=\"sans-serif\" font-size=\"14\" lengthAdjust=\"spacingAndGlyphs\" textLength=\"38\" x=\"221\" y=\"57.6982\">newX</text><rect fill=\"#383838\" height=\"12\" style=\"stroke: #F8F8F8; stroke-width: 1.5;\" width=\"12\" x=\"234\" y=\"73\"/><!--MD5=[209b3feb70ccb6233bfe1053d122c12c]\n",
       "reverse link E2 to E3--><a href=\"psysml:54ab6d27-8883-4622-a03e-a53956db7fe1\" target=\"_top\" title=\"psysml:54ab6d27-8883-4622-a03e-a53956db7fe1\" xlink:actuate=\"onRequest\" xlink:href=\"psysml:54ab6d27-8883-4622-a03e-a53956db7fe1\" xlink:show=\"new\" xlink:title=\"psysml:54ab6d27-8883-4622-a03e-a53956db7fe1\" xlink:type=\"simple\"><path d=\"M93,130.34 C93,146.61 93,163.81 93,176.93 \" fill=\"none\" id=\"E2&lt;-E3\" style=\"stroke: #383838; stroke-width: 1.0;\"/><polygon fill=\"#383838\" points=\"93,117,89,123,93,129,97,123,93,117\" style=\"stroke: #383838; stroke-width: 1.0;\"/><text fill=\"#000000\" font-family=\"sans-serif\" font-size=\"13\" lengthAdjust=\"spacingAndGlyphs\" textLength=\"7\" x=\"85.0594\" y=\"165.8075\">*</text></a><!--MD5=[e502f682bcdf04e6a8ec354ccf7f0b1f]\n",
       "@startuml\r\n",
       "skinparam monochrome true\r\n",
       "skinparam classbackgroundcolor white\r\n",
       "skinparam shadowing false\r\n",
       "skinparam wrapWidth 300\r\n",
       "hide circle\r\n",
       "\r\n",
       "package \"TextualRepresentationTest\" as E1  [[psysml:806baf2e-ef33-48f4-9893-87a395ee6712 ]]  {\r\n",
       "comp def \"C\" as E2  <<(T,blue) item def>> [[psysml:7ed521f9-b82c-428e-a042-7cd99724445f ]] {\r\n",
       "- - attributes - -\r\n",
       "x: Real\r\n",
       "}\r\n",
       "comp usage \"x_constraint\" as E3  <<(T,blue) assertConstraint>> [[psysml:f29a45b1-01e5-48c9-895e-094b774cc27f ]] {\r\n",
       "}\r\n",
       "rec def \"setX\" as E4  <<(T,blue) action def>> [[psysml:55b9c562-7faa-4cb8-ac86-d366721fd3cf ]] {\r\n",
       "portin \"c\" as E5  [[psysml:6b50cc19-3c51-4fdc-acb9-7cb54732aaba ]] \r\n",
       "portin \"newX\" as E6  [[psysml:036e652a-b19a-4307-ba90-1008950a3600 ]] \r\n",
       "}\r\n",
       "\r\n",
       "}\r\n",
       "E2 *- - \"*\"E3 [[psysml:54ab6d27-8883-4622-a03e-a53956db7fe1 ]] \r\n",
       "@enduml\r\n",
       "\n",
       "PlantUML version 1.2020.13(Sat Jun 13 12:26:38 UTC 2020)\n",
       "(EPL source distribution)\n",
       "Java Runtime: OpenJDK Runtime Environment\n",
       "JVM: OpenJDK 64-Bit Server VM\n",
       "Default Encoding: UTF-8\n",
       "Language: en\n",
       "Country: null\n",
       "--></g></svg>"
      ]
     },
     "execution_count": 43,
     "metadata": {},
     "output_type": "execute_result"
    }
   ],
   "source": [
    "%viz --style=\"DEFAULT\" --view=\"MIXED\" \"TextualRepresentationTest\""
   ]
  },
  {
   "cell_type": "code",
   "execution_count": 44,
   "id": "88cb78ac",
   "metadata": {
    "execution": {
     "iopub.execute_input": "2021-10-03T08:29:36.538126Z",
     "iopub.status.busy": "2021-10-03T08:29:36.537721Z",
     "iopub.status.idle": "2021-10-03T08:29:36.579283Z",
     "shell.execute_reply": "2021-10-03T08:29:36.578943Z"
    }
   },
   "outputs": [
    {
     "data": {
      "image/svg+xml": [
       "<?xml version=\"1.0\" encoding=\"UTF-8\" standalone=\"no\"?><svg xmlns=\"http://www.w3.org/2000/svg\" xmlns:xlink=\"http://www.w3.org/1999/xlink\" contentScriptType=\"application/ecmascript\" contentStyleType=\"text/css\" height=\"261px\" preserveAspectRatio=\"none\" style=\"width:345px;height:261px;\" version=\"1.1\" viewBox=\"0 0 345 261\" width=\"345px\" zoomAndPan=\"magnify\"><defs/><g><!--MD5=[fbc87193dbaf4d95561dea2c320d4a47]\n",
       "cluster E1--><a href=\"psysml:806baf2e-ef33-48f4-9893-87a395ee6712\" target=\"_top\" title=\"psysml:806baf2e-ef33-48f4-9893-87a395ee6712\" xlink:actuate=\"onRequest\" xlink:href=\"psysml:806baf2e-ef33-48f4-9893-87a395ee6712\" xlink:show=\"new\" xlink:title=\"psysml:806baf2e-ef33-48f4-9893-87a395ee6712\" xlink:type=\"simple\"><polygon fill=\"#FFFFFF\" points=\"16,6,210,6,217,28.2969,323,28.2969,323,249.5,16,249.5,16,6\" style=\"stroke: #000000; stroke-width: 1.5;\"/><line style=\"stroke: #000000; stroke-width: 1.5;\" x1=\"16\" x2=\"217\" y1=\"28.2969\" y2=\"28.2969\"/><text fill=\"#000000\" font-family=\"sans-serif\" font-size=\"14\" font-weight=\"bold\" lengthAdjust=\"spacingAndGlyphs\" textLength=\"188\" x=\"20\" y=\"20.9951\">TextualRepresentationTest</text></a><!--MD5=[f6df4d0ebaf0b5dfb2ced0ae5af7c670]\n",
       "cluster E4--><a href=\"psysml:55b9c562-7faa-4cb8-ac86-d366721fd3cf\" target=\"_top\" title=\"psysml:55b9c562-7faa-4cb8-ac86-d366721fd3cf\" xlink:actuate=\"onRequest\" xlink:href=\"psysml:55b9c562-7faa-4cb8-ac86-d366721fd3cf\" xlink:show=\"new\" xlink:title=\"psysml:55b9c562-7faa-4cb8-ac86-d366721fd3cf\" xlink:type=\"simple\"><rect fill=\"#FFFFFF\" height=\"154.5\" id=\"E4\" style=\"stroke: #383838; stroke-width: 1.5;\" width=\"132\" x=\"175\" y=\"79\"/><rect fill=\"#F8F8F8\" height=\"37.9375\" style=\"stroke: #383838; stroke-width: 1.5;\" width=\"132\" x=\"175\" y=\"79\"/><text fill=\"#000000\" font-family=\"sans-serif\" font-size=\"12\" font-style=\"italic\" lengthAdjust=\"spacingAndGlyphs\" textLength=\"77\" x=\"202.5\" y=\"95.1387\">«action def»</text><text fill=\"#000000\" font-family=\"sans-serif\" font-size=\"12\" lengthAdjust=\"spacingAndGlyphs\" textLength=\"27\" x=\"227.5\" y=\"109.1074\">setX</text></a><!--MD5=[b4997ac47864f28c2f74865a473b2911]\n",
       "class E2--><a href=\"psysml:7ed521f9-b82c-428e-a042-7cd99724445f\" target=\"_top\" title=\"psysml:7ed521f9-b82c-428e-a042-7cd99724445f\" xlink:actuate=\"onRequest\" xlink:href=\"psysml:7ed521f9-b82c-428e-a042-7cd99724445f\" xlink:show=\"new\" xlink:title=\"psysml:7ed521f9-b82c-428e-a042-7cd99724445f\" xlink:type=\"simple\"><rect fill=\"#FFFFFF\" height=\"75.5469\" id=\"E2\" style=\"stroke: #383838; stroke-width: 1.5;\" width=\"67\" x=\"59.5\" y=\"41\"/><text fill=\"#000000\" font-family=\"sans-serif\" font-size=\"12\" font-style=\"italic\" lengthAdjust=\"spacingAndGlyphs\" textLength=\"65\" x=\"60.5\" y=\"57.1387\">«item def»</text><text fill=\"#000000\" font-family=\"sans-serif\" font-size=\"12\" lengthAdjust=\"spacingAndGlyphs\" textLength=\"8\" x=\"89\" y=\"71.1074\">C</text><line style=\"stroke: #383838; stroke-width: 1.5;\" x1=\"60.5\" x2=\"125.5\" y1=\"78.9375\" y2=\"78.9375\"/><text fill=\"#000000\" font-family=\"sans-serif\" font-size=\"11\" lengthAdjust=\"spacingAndGlyphs\" textLength=\"38\" x=\"65.5\" y=\"109.9526\">x: Real</text><line style=\"stroke: #383838; stroke-width: 1.0;\" x1=\"60.5\" x2=\"65.5\" y1=\"93.3398\" y2=\"93.3398\"/><text fill=\"#000000\" font-family=\"sans-serif\" font-size=\"11\" lengthAdjust=\"spacingAndGlyphs\" textLength=\"55\" x=\"65.5\" y=\"96.6479\">attributes</text><line style=\"stroke: #383838; stroke-width: 1.0;\" x1=\"120.5\" x2=\"125.5\" y1=\"93.3398\" y2=\"93.3398\"/></a><!--MD5=[09b614a08d8cba4a07c9adeb5e0fee81]\n",
       "class E3--><a href=\"psysml:f29a45b1-01e5-48c9-895e-094b774cc27f\" target=\"_top\" title=\"psysml:f29a45b1-01e5-48c9-895e-094b774cc27f\" xlink:actuate=\"onRequest\" xlink:href=\"psysml:f29a45b1-01e5-48c9-895e-094b774cc27f\" xlink:show=\"new\" xlink:title=\"psysml:f29a45b1-01e5-48c9-895e-094b774cc27f\" xlink:type=\"simple\"><rect fill=\"#FFFFFF\" height=\"45.9375\" id=\"E3\" rx=\"10\" ry=\"10\" style=\"stroke: #383838; stroke-width: 1.5;\" width=\"121\" x=\"32.5\" y=\"177\"/><text fill=\"#000000\" font-family=\"sans-serif\" font-size=\"12\" font-style=\"italic\" lengthAdjust=\"spacingAndGlyphs\" textLength=\"119\" x=\"33.5\" y=\"193.1387\">«assertConstraint»</text><text fill=\"#000000\" font-family=\"sans-serif\" font-size=\"12\" lengthAdjust=\"spacingAndGlyphs\" textLength=\"76\" x=\"55\" y=\"207.1074\">x_constraint</text><line style=\"stroke: #383838; stroke-width: 1.5;\" x1=\"33.5\" x2=\"152.5\" y1=\"214.9375\" y2=\"214.9375\"/></a><text fill=\"#000000\" font-family=\"sans-serif\" font-size=\"14\" lengthAdjust=\"spacingAndGlyphs\" textLength=\"8\" x=\"189\" y=\"57.6982\">c</text><rect fill=\"#383838\" height=\"12\" style=\"stroke: #F8F8F8; stroke-width: 1.5;\" width=\"12\" x=\"187\" y=\"73\"/><text fill=\"#000000\" font-family=\"sans-serif\" font-size=\"14\" lengthAdjust=\"spacingAndGlyphs\" textLength=\"38\" x=\"221\" y=\"57.6982\">newX</text><rect fill=\"#383838\" height=\"12\" style=\"stroke: #F8F8F8; stroke-width: 1.5;\" width=\"12\" x=\"234\" y=\"73\"/><!--MD5=[209b3feb70ccb6233bfe1053d122c12c]\n",
       "reverse link E2 to E3--><a href=\"psysml:54ab6d27-8883-4622-a03e-a53956db7fe1\" target=\"_top\" title=\"psysml:54ab6d27-8883-4622-a03e-a53956db7fe1\" xlink:actuate=\"onRequest\" xlink:href=\"psysml:54ab6d27-8883-4622-a03e-a53956db7fe1\" xlink:show=\"new\" xlink:title=\"psysml:54ab6d27-8883-4622-a03e-a53956db7fe1\" xlink:type=\"simple\"><path d=\"M93,130.34 C93,146.61 93,163.81 93,176.93 \" fill=\"none\" id=\"E2&lt;-E3\" style=\"stroke: #383838; stroke-width: 1.0;\"/><polygon fill=\"#383838\" points=\"93,117,89,123,93,129,97,123,93,117\" style=\"stroke: #383838; stroke-width: 1.0;\"/><text fill=\"#000000\" font-family=\"sans-serif\" font-size=\"13\" lengthAdjust=\"spacingAndGlyphs\" textLength=\"7\" x=\"85.0594\" y=\"165.8075\">*</text></a><!--MD5=[a249bb80a63b6f6eb35e74c846d24b8f]\n",
       "@startuml\r\n",
       "top to bottom direction\r\n",
       "skinparam monochrome true\r\n",
       "skinparam classbackgroundcolor white\r\n",
       "skinparam shadowing false\r\n",
       "skinparam wrapWidth 300\r\n",
       "hide circle\r\n",
       "\r\n",
       "package \"TextualRepresentationTest\" as E1  [[psysml:806baf2e-ef33-48f4-9893-87a395ee6712 ]]  {\r\n",
       "comp def \"C\" as E2  <<(T,blue) item def>> [[psysml:7ed521f9-b82c-428e-a042-7cd99724445f ]] {\r\n",
       "- - attributes - -\r\n",
       "x: Real\r\n",
       "}\r\n",
       "comp usage \"x_constraint\" as E3  <<(T,blue) assertConstraint>> [[psysml:f29a45b1-01e5-48c9-895e-094b774cc27f ]] {\r\n",
       "}\r\n",
       "rec def \"setX\" as E4  <<(T,blue) action def>> [[psysml:55b9c562-7faa-4cb8-ac86-d366721fd3cf ]] {\r\n",
       "portin \"c\" as E5  [[psysml:6b50cc19-3c51-4fdc-acb9-7cb54732aaba ]] \r\n",
       "portin \"newX\" as E6  [[psysml:036e652a-b19a-4307-ba90-1008950a3600 ]] \r\n",
       "}\r\n",
       "\r\n",
       "}\r\n",
       "E2 *- - \"*\"E3 [[psysml:54ab6d27-8883-4622-a03e-a53956db7fe1 ]] \r\n",
       "@enduml\r\n",
       "\n",
       "PlantUML version 1.2020.13(Sat Jun 13 12:26:38 UTC 2020)\n",
       "(EPL source distribution)\n",
       "Java Runtime: OpenJDK Runtime Environment\n",
       "JVM: OpenJDK 64-Bit Server VM\n",
       "Default Encoding: UTF-8\n",
       "Language: en\n",
       "Country: null\n",
       "--></g></svg>"
      ]
     },
     "execution_count": 44,
     "metadata": {},
     "output_type": "execute_result"
    }
   ],
   "source": [
    "%viz --style=\"TB\" --view=\"Default\" \"TextualRepresentationTest\""
   ]
  },
  {
   "cell_type": "code",
   "execution_count": 45,
   "id": "7b17fbcd",
   "metadata": {
    "execution": {
     "iopub.execute_input": "2021-10-03T08:29:36.628648Z",
     "iopub.status.busy": "2021-10-03T08:29:36.628241Z",
     "iopub.status.idle": "2021-10-03T08:29:36.664790Z",
     "shell.execute_reply": "2021-10-03T08:29:36.663107Z"
    }
   },
   "outputs": [
    {
     "data": {
      "image/svg+xml": [
       "<?xml version=\"1.0\" encoding=\"UTF-8\" standalone=\"no\"?><svg xmlns=\"http://www.w3.org/2000/svg\" xmlns:xlink=\"http://www.w3.org/1999/xlink\" contentScriptType=\"application/ecmascript\" contentStyleType=\"text/css\" height=\"375px\" preserveAspectRatio=\"none\" style=\"width:242px;height:375px;\" version=\"1.1\" viewBox=\"0 0 242 375\" width=\"242px\" zoomAndPan=\"magnify\"><defs/><g><!--MD5=[fbc87193dbaf4d95561dea2c320d4a47]\n",
       "cluster E1--><a href=\"psysml:806baf2e-ef33-48f4-9893-87a395ee6712\" target=\"_top\" title=\"psysml:806baf2e-ef33-48f4-9893-87a395ee6712\" xlink:actuate=\"onRequest\" xlink:href=\"psysml:806baf2e-ef33-48f4-9893-87a395ee6712\" xlink:show=\"new\" xlink:title=\"psysml:806baf2e-ef33-48f4-9893-87a395ee6712\" xlink:type=\"simple\"><polygon fill=\"#FFFFFF\" points=\"16,6,210,6,217,28.2969,220,28.2969,220,363,16,363,16,6\" style=\"stroke: #000000; stroke-width: 1.5;\"/><line style=\"stroke: #000000; stroke-width: 1.5;\" x1=\"16\" x2=\"217\" y1=\"28.2969\" y2=\"28.2969\"/><text fill=\"#000000\" font-family=\"sans-serif\" font-size=\"14\" font-weight=\"bold\" lengthAdjust=\"spacingAndGlyphs\" textLength=\"188\" x=\"20\" y=\"20.9951\">TextualRepresentationTest</text></a><!--MD5=[b4997ac47864f28c2f74865a473b2911]\n",
       "class E2--><a href=\"psysml:7ed521f9-b82c-428e-a042-7cd99724445f\" target=\"_top\" title=\"psysml:7ed521f9-b82c-428e-a042-7cd99724445f\" xlink:actuate=\"onRequest\" xlink:href=\"psysml:7ed521f9-b82c-428e-a042-7cd99724445f\" xlink:show=\"new\" xlink:title=\"psysml:7ed521f9-b82c-428e-a042-7cd99724445f\" xlink:type=\"simple\"><rect fill=\"#FFFFFF\" height=\"75.5469\" id=\"E2\" style=\"stroke: #383838; stroke-width: 1.5;\" width=\"67\" x=\"84.5\" y=\"164\"/><text fill=\"#000000\" font-family=\"sans-serif\" font-size=\"12\" font-style=\"italic\" lengthAdjust=\"spacingAndGlyphs\" textLength=\"65\" x=\"85.5\" y=\"180.1387\">«item def»</text><text fill=\"#000000\" font-family=\"sans-serif\" font-size=\"12\" lengthAdjust=\"spacingAndGlyphs\" textLength=\"8\" x=\"114\" y=\"194.1074\">C</text><line style=\"stroke: #383838; stroke-width: 1.5;\" x1=\"85.5\" x2=\"150.5\" y1=\"201.9375\" y2=\"201.9375\"/><text fill=\"#000000\" font-family=\"sans-serif\" font-size=\"11\" lengthAdjust=\"spacingAndGlyphs\" textLength=\"38\" x=\"90.5\" y=\"232.9526\">x: Real</text><line style=\"stroke: #383838; stroke-width: 1.0;\" x1=\"85.5\" x2=\"90.5\" y1=\"216.3398\" y2=\"216.3398\"/><text fill=\"#000000\" font-family=\"sans-serif\" font-size=\"11\" lengthAdjust=\"spacingAndGlyphs\" textLength=\"55\" x=\"90.5\" y=\"219.6479\">attributes</text><line style=\"stroke: #383838; stroke-width: 1.0;\" x1=\"145.5\" x2=\"150.5\" y1=\"216.3398\" y2=\"216.3398\"/></a><!--MD5=[09b614a08d8cba4a07c9adeb5e0fee81]\n",
       "class E3--><a href=\"psysml:f29a45b1-01e5-48c9-895e-094b774cc27f\" target=\"_top\" title=\"psysml:f29a45b1-01e5-48c9-895e-094b774cc27f\" xlink:actuate=\"onRequest\" xlink:href=\"psysml:f29a45b1-01e5-48c9-895e-094b774cc27f\" xlink:show=\"new\" xlink:title=\"psysml:f29a45b1-01e5-48c9-895e-094b774cc27f\" xlink:type=\"simple\"><rect fill=\"#FFFFFF\" height=\"45.9375\" id=\"E3\" rx=\"10\" ry=\"10\" style=\"stroke: #383838; stroke-width: 1.5;\" width=\"121\" x=\"57.5\" y=\"301\"/><text fill=\"#000000\" font-family=\"sans-serif\" font-size=\"12\" font-style=\"italic\" lengthAdjust=\"spacingAndGlyphs\" textLength=\"119\" x=\"58.5\" y=\"317.1387\">«assertConstraint»</text><text fill=\"#000000\" font-family=\"sans-serif\" font-size=\"12\" lengthAdjust=\"spacingAndGlyphs\" textLength=\"76\" x=\"80\" y=\"331.1074\">x_constraint</text><line style=\"stroke: #383838; stroke-width: 1.5;\" x1=\"58.5\" x2=\"177.5\" y1=\"338.9375\" y2=\"338.9375\"/></a><!--MD5=[ebbe1d658d1005bcc118a6aa81145e00]\n",
       "class E4--><a href=\"psysml:55b9c562-7faa-4cb8-ac86-d366721fd3cf\" target=\"_top\" title=\"psysml:55b9c562-7faa-4cb8-ac86-d366721fd3cf\" xlink:actuate=\"onRequest\" xlink:href=\"psysml:55b9c562-7faa-4cb8-ac86-d366721fd3cf\" xlink:show=\"new\" xlink:title=\"psysml:55b9c562-7faa-4cb8-ac86-d366721fd3cf\" xlink:type=\"simple\"><rect fill=\"#FFFFFF\" height=\"45.9375\" id=\"E4\" style=\"stroke: #383838; stroke-width: 1.5;\" width=\"79\" x=\"78.5\" y=\"41\"/><text fill=\"#000000\" font-family=\"sans-serif\" font-size=\"12\" font-style=\"italic\" lengthAdjust=\"spacingAndGlyphs\" textLength=\"77\" x=\"79.5\" y=\"57.1387\">«action def»</text><text fill=\"#000000\" font-family=\"sans-serif\" font-size=\"12\" lengthAdjust=\"spacingAndGlyphs\" textLength=\"27\" x=\"104.5\" y=\"71.1074\">setX</text><line style=\"stroke: #383838; stroke-width: 1.5;\" x1=\"79.5\" x2=\"156.5\" y1=\"78.9375\" y2=\"78.9375\"/></a><!--MD5=[209b3feb70ccb6233bfe1053d122c12c]\n",
       "reverse link E2 to E3--><a href=\"psysml:54ab6d27-8883-4622-a03e-a53956db7fe1\" target=\"_top\" title=\"psysml:54ab6d27-8883-4622-a03e-a53956db7fe1\" xlink:actuate=\"onRequest\" xlink:href=\"psysml:54ab6d27-8883-4622-a03e-a53956db7fe1\" xlink:show=\"new\" xlink:title=\"psysml:54ab6d27-8883-4622-a03e-a53956db7fe1\" xlink:type=\"simple\"><path d=\"M118,253.76 C118,270.17 118,287.52 118,300.75 \" fill=\"none\" id=\"E2&lt;-E3\" style=\"stroke: #383838; stroke-width: 1.0;\"/><polygon fill=\"#383838\" points=\"118,240.31,114,246.31,118,252.31,122,246.31,118,240.31\" style=\"stroke: #383838; stroke-width: 1.0;\"/><text fill=\"#000000\" font-family=\"sans-serif\" font-size=\"13\" lengthAdjust=\"spacingAndGlyphs\" textLength=\"7\" x=\"110.1031\" y=\"289.9622\">*</text></a><!--MD5=[ddeed8deb2209213b62e6cfabaa108b2]\n",
       "reverse link E4 to E2--><a href=\"psysml:6b50cc19-3c51-4fdc-acb9-7cb54732aaba\" target=\"_top\" title=\"psysml:6b50cc19-3c51-4fdc-acb9-7cb54732aaba\" xlink:actuate=\"onRequest\" xlink:href=\"psysml:6b50cc19-3c51-4fdc-acb9-7cb54732aaba\" xlink:show=\"new\" xlink:title=\"psysml:6b50cc19-3c51-4fdc-acb9-7cb54732aaba\" xlink:type=\"simple\"><path d=\"M118,100.42 C118,119.95 118,144.19 118,163.97 \" fill=\"none\" id=\"E4&lt;-E2\" style=\"stroke: #383838; stroke-width: 1.0;\"/><polygon fill=\"#FFFFFF\" points=\"118,87.15,114,93.15,118,99.15,122,93.15,118,87.15\" style=\"stroke: #383838; stroke-width: 1.0;\"/><text fill=\"#000000\" font-family=\"sans-serif\" font-size=\"13\" lengthAdjust=\"spacingAndGlyphs\" textLength=\"7\" x=\"119\" y=\"130.0669\">c</text></a><!--MD5=[124e4fb79fba6cc5eab95d705a0ecdf9]\n",
       "@startuml\r\n",
       "top to bottom direction\r\n",
       "skinparam monochrome true\r\n",
       "skinparam classbackgroundcolor white\r\n",
       "skinparam shadowing false\r\n",
       "skinparam wrapWidth 300\r\n",
       "hide circle\r\n",
       "\r\n",
       "package \"TextualRepresentationTest\" as E1  [[psysml:806baf2e-ef33-48f4-9893-87a395ee6712 ]]  {\r\n",
       "comp def \"C\" as E2  <<(T,blue) item def>> [[psysml:7ed521f9-b82c-428e-a042-7cd99724445f ]] {\r\n",
       "- - attributes - -\r\n",
       "x: Real\r\n",
       "}\r\n",
       "comp usage \"x_constraint\" as E3  <<(T,blue) assertConstraint>> [[psysml:f29a45b1-01e5-48c9-895e-094b774cc27f ]] {\r\n",
       "}\r\n",
       "comp def \"setX\" as E4  <<(T,blue) action def>> [[psysml:55b9c562-7faa-4cb8-ac86-d366721fd3cf ]] {\r\n",
       "}\r\n",
       "}\r\n",
       "E2 *- - \"*\"E3 [[psysml:54ab6d27-8883-4622-a03e-a53956db7fe1 ]] \r\n",
       "E4 o- - E2 [[psysml:6b50cc19-3c51-4fdc-acb9-7cb54732aaba ]] : c\r\n",
       "@enduml\r\n",
       "\n",
       "PlantUML version 1.2020.13(Sat Jun 13 12:26:38 UTC 2020)\n",
       "(EPL source distribution)\n",
       "Java Runtime: OpenJDK Runtime Environment\n",
       "JVM: OpenJDK 64-Bit Server VM\n",
       "Default Encoding: UTF-8\n",
       "Language: en\n",
       "Country: null\n",
       "--></g></svg>"
      ]
     },
     "execution_count": 45,
     "metadata": {},
     "output_type": "execute_result"
    }
   ],
   "source": [
    "%viz --style=\"TB\" --view=\"Tree\" \"TextualRepresentationTest\""
   ]
  },
  {
   "cell_type": "code",
   "execution_count": 46,
   "id": "91ee47c2",
   "metadata": {
    "execution": {
     "iopub.execute_input": "2021-10-03T08:29:36.713928Z",
     "iopub.status.busy": "2021-10-03T08:29:36.713528Z",
     "iopub.status.idle": "2021-10-03T08:29:36.718418Z",
     "shell.execute_reply": "2021-10-03T08:29:36.718091Z"
    }
   },
   "outputs": [
    {
     "data": {
      "image/svg+xml": [
       "<?xml version=\"1.0\" encoding=\"UTF-8\" standalone=\"no\"?><svg xmlns=\"http://www.w3.org/2000/svg\" xmlns:xlink=\"http://www.w3.org/1999/xlink\" contentScriptType=\"application/ecmascript\" contentStyleType=\"text/css\" height=\"12px\" preserveAspectRatio=\"none\" style=\"width:12px;height:12px;\" version=\"1.1\" viewBox=\"0 0 12 12\" width=\"12px\" zoomAndPan=\"magnify\"><defs/><g><!--MD5=[f4ee21bc66e489b5061b7c3e9601fdef]\n",
       "@startuml\r\n",
       "top to bottom direction\r\n",
       "skinparam monochrome true\r\n",
       "skinparam classbackgroundcolor white\r\n",
       "skinparam shadowing false\r\n",
       "skinparam wrapWidth 300\r\n",
       "hide circle\r\n",
       "\r\n",
       "@enduml\r\n",
       "\n",
       "PlantUML version 1.2020.13(Sat Jun 13 12:26:38 UTC 2020)\n",
       "(EPL source distribution)\n",
       "Java Runtime: OpenJDK Runtime Environment\n",
       "JVM: OpenJDK 64-Bit Server VM\n",
       "Default Encoding: UTF-8\n",
       "Language: en\n",
       "Country: null\n",
       "--></g></svg>"
      ]
     },
     "execution_count": 46,
     "metadata": {},
     "output_type": "execute_result"
    }
   ],
   "source": [
    "%viz --style=\"TB\" --view=\"State\" \"TextualRepresentationTest\""
   ]
  },
  {
   "cell_type": "code",
   "execution_count": 47,
   "id": "729afaf3",
   "metadata": {
    "execution": {
     "iopub.execute_input": "2021-10-03T08:29:36.767879Z",
     "iopub.status.busy": "2021-10-03T08:29:36.767472Z",
     "iopub.status.idle": "2021-10-03T08:29:36.793423Z",
     "shell.execute_reply": "2021-10-03T08:29:36.793095Z"
    }
   },
   "outputs": [
    {
     "data": {
      "image/svg+xml": [
       "<?xml version=\"1.0\" encoding=\"UTF-8\" standalone=\"no\"?><svg xmlns=\"http://www.w3.org/2000/svg\" xmlns:xlink=\"http://www.w3.org/1999/xlink\" contentScriptType=\"application/ecmascript\" contentStyleType=\"text/css\" height=\"179px\" preserveAspectRatio=\"none\" style=\"width:284px;height:179px;\" version=\"1.1\" viewBox=\"0 0 284 179\" width=\"284px\" zoomAndPan=\"magnify\"><defs/><g><!--MD5=[fbc87193dbaf4d95561dea2c320d4a47]\n",
       "cluster E1--><a href=\"psysml:806baf2e-ef33-48f4-9893-87a395ee6712\" target=\"_top\" title=\"psysml:806baf2e-ef33-48f4-9893-87a395ee6712\" xlink:actuate=\"onRequest\" xlink:href=\"psysml:806baf2e-ef33-48f4-9893-87a395ee6712\" xlink:show=\"new\" xlink:title=\"psysml:806baf2e-ef33-48f4-9893-87a395ee6712\" xlink:type=\"simple\"><polygon fill=\"#FFFFFF\" points=\"16,6,210,6,217,28.2969,262,28.2969,262,167,16,167,16,6\" style=\"stroke: #000000; stroke-width: 1.5;\"/><line style=\"stroke: #000000; stroke-width: 1.5;\" x1=\"16\" x2=\"217\" y1=\"28.2969\" y2=\"28.2969\"/><text fill=\"#000000\" font-family=\"sans-serif\" font-size=\"14\" font-weight=\"bold\" lengthAdjust=\"spacingAndGlyphs\" textLength=\"188\" x=\"20\" y=\"20.9951\">TextualRepresentationTest</text></a><!--MD5=[d5e69f78d87373223dbae638b30a9c99]\n",
       "cluster E3--><a href=\"psysml:55b9c562-7faa-4cb8-ac86-d366721fd3cf\" target=\"_top\" title=\"psysml:55b9c562-7faa-4cb8-ac86-d366721fd3cf\" xlink:actuate=\"onRequest\" xlink:href=\"psysml:55b9c562-7faa-4cb8-ac86-d366721fd3cf\" xlink:show=\"new\" xlink:title=\"psysml:55b9c562-7faa-4cb8-ac86-d366721fd3cf\" xlink:type=\"simple\"><rect fill=\"#FFFFFF\" height=\"88.5\" id=\"E3\" style=\"stroke: #383838; stroke-width: 1.5;\" width=\"96\" x=\"120.5\" y=\"62.5\"/><rect fill=\"#F8F8F8\" height=\"37.9375\" style=\"stroke: #383838; stroke-width: 1.5;\" width=\"96\" x=\"120.5\" y=\"62.5\"/><text fill=\"#000000\" font-family=\"sans-serif\" font-size=\"12\" font-style=\"italic\" lengthAdjust=\"spacingAndGlyphs\" textLength=\"77\" x=\"130\" y=\"78.6387\">«action def»</text><text fill=\"#000000\" font-family=\"sans-serif\" font-size=\"12\" lengthAdjust=\"spacingAndGlyphs\" textLength=\"27\" x=\"155\" y=\"92.6074\">setX</text></a><g id=\"E1.E2\"><a href=\"psysml:7ed521f9-b82c-428e-a042-7cd99724445f\" target=\"_top\" title=\"psysml:7ed521f9-b82c-428e-a042-7cd99724445f\" xlink:actuate=\"onRequest\" xlink:href=\"psysml:7ed521f9-b82c-428e-a042-7cd99724445f\" xlink:show=\"new\" xlink:title=\"psysml:7ed521f9-b82c-428e-a042-7cd99724445f\" xlink:type=\"simple\"><rect fill=\"#FFFFFF\" height=\"42.9375\" id=\"E2\" style=\"stroke: #383838; stroke-width: 1.5;\" width=\"72\" x=\"32\" y=\"41\"/><rect fill=\"#F8F8F8\" height=\"37.9375\" style=\"stroke: #383838; stroke-width: 1.5;\" width=\"72\" x=\"32\" y=\"41\"/><text fill=\"#000000\" font-family=\"sans-serif\" font-size=\"12\" font-style=\"italic\" lengthAdjust=\"spacingAndGlyphs\" textLength=\"65\" x=\"35.5\" y=\"57.1387\">«item def»</text><text fill=\"#000000\" font-family=\"sans-serif\" font-size=\"12\" lengthAdjust=\"spacingAndGlyphs\" textLength=\"8\" x=\"64\" y=\"71.1074\">C</text></a></g><text fill=\"#000000\" font-family=\"sans-serif\" font-size=\"14\" lengthAdjust=\"spacingAndGlyphs\" textLength=\"8\" x=\"141\" y=\"41.1982\">c</text><rect fill=\"#383838\" height=\"12\" style=\"stroke: #F8F8F8; stroke-width: 1.5;\" width=\"12\" x=\"139\" y=\"56.5\"/><text fill=\"#000000\" font-family=\"sans-serif\" font-size=\"14\" lengthAdjust=\"spacingAndGlyphs\" textLength=\"38\" x=\"173\" y=\"41.1982\">newX</text><rect fill=\"#383838\" height=\"12\" style=\"stroke: #F8F8F8; stroke-width: 1.5;\" width=\"12\" x=\"186\" y=\"56.5\"/><!--MD5=[88f8e5a970b0a6b30b1d506cf5e59195]\n",
       "@startuml\r\n",
       "skinparam ranksep 10\r\n",
       "skinparam rectangle {\r\n",
       " backgroundColor<<block>> LightGreen\r\n",
       "}\r\n",
       "top to bottom direction\r\n",
       "skinparam monochrome true\r\n",
       "skinparam classbackgroundcolor white\r\n",
       "skinparam shadowing false\r\n",
       "skinparam wrapWidth 300\r\n",
       "hide circle\r\n",
       "\r\n",
       "package \"TextualRepresentationTest\" as E1  [[psysml:806baf2e-ef33-48f4-9893-87a395ee6712 ]]  {\r\n",
       "def \"C\" as E2  <<(T,blue) item def>> [[psysml:7ed521f9-b82c-428e-a042-7cd99724445f ]] \r\n",
       "rec def \"setX\" as E3  <<(T,blue) action def>> [[psysml:55b9c562-7faa-4cb8-ac86-d366721fd3cf ]] {\r\n",
       "portin \"c\" as E4  [[psysml:6b50cc19-3c51-4fdc-acb9-7cb54732aaba ]] \r\n",
       "portin \"newX\" as E5  [[psysml:036e652a-b19a-4307-ba90-1008950a3600 ]] \r\n",
       "}\r\n",
       "\r\n",
       "}\r\n",
       "@enduml\r\n",
       "\n",
       "PlantUML version 1.2020.13(Sat Jun 13 12:26:38 UTC 2020)\n",
       "(EPL source distribution)\n",
       "Java Runtime: OpenJDK Runtime Environment\n",
       "JVM: OpenJDK 64-Bit Server VM\n",
       "Default Encoding: UTF-8\n",
       "Language: en\n",
       "Country: null\n",
       "--></g></svg>"
      ]
     },
     "execution_count": 47,
     "metadata": {},
     "output_type": "execute_result"
    }
   ],
   "source": [
    "%viz --style=\"TB\" --view=\"Interconnection\" \"TextualRepresentationTest\""
   ]
  },
  {
   "cell_type": "code",
   "execution_count": 48,
   "id": "0594b711",
   "metadata": {
    "execution": {
     "iopub.execute_input": "2021-10-03T08:29:36.842894Z",
     "iopub.status.busy": "2021-10-03T08:29:36.842499Z",
     "iopub.status.idle": "2021-10-03T08:29:36.864346Z",
     "shell.execute_reply": "2021-10-03T08:29:36.864009Z"
    }
   },
   "outputs": [
    {
     "data": {
      "image/svg+xml": [
       "<?xml version=\"1.0\" encoding=\"UTF-8\" standalone=\"no\"?><svg xmlns=\"http://www.w3.org/2000/svg\" xmlns:xlink=\"http://www.w3.org/1999/xlink\" contentScriptType=\"application/ecmascript\" contentStyleType=\"text/css\" height=\"126px\" preserveAspectRatio=\"none\" style=\"width:150px;height:126px;\" version=\"1.1\" viewBox=\"0 0 150 126\" width=\"150px\" zoomAndPan=\"magnify\"><defs/><g><!--MD5=[fbc87193dbaf4d95561dea2c320d4a47]\n",
       "cluster E1--><a href=\"psysml:55b9c562-7faa-4cb8-ac86-d366721fd3cf\" target=\"_top\" title=\"psysml:55b9c562-7faa-4cb8-ac86-d366721fd3cf\" xlink:actuate=\"onRequest\" xlink:href=\"psysml:55b9c562-7faa-4cb8-ac86-d366721fd3cf\" xlink:show=\"new\" xlink:title=\"psysml:55b9c562-7faa-4cb8-ac86-d366721fd3cf\" xlink:type=\"simple\"><rect fill=\"#FFFFFF\" height=\"73\" id=\"E1\" style=\"stroke: #383838; stroke-width: 1.5;\" width=\"132\" x=\"7\" y=\"42.0986\"/><rect fill=\"#F8F8F8\" height=\"37.9375\" style=\"stroke: #383838; stroke-width: 1.5;\" width=\"132\" x=\"7\" y=\"42.0986\"/><text fill=\"#000000\" font-family=\"sans-serif\" font-size=\"12\" font-style=\"italic\" lengthAdjust=\"spacingAndGlyphs\" textLength=\"77\" x=\"34.5\" y=\"58.2373\">«action def»</text><text fill=\"#000000\" font-family=\"sans-serif\" font-size=\"12\" lengthAdjust=\"spacingAndGlyphs\" textLength=\"27\" x=\"59.5\" y=\"72.2061\">setX</text></a><text fill=\"#000000\" font-family=\"sans-serif\" font-size=\"14\" lengthAdjust=\"spacingAndGlyphs\" textLength=\"8\" x=\"21\" y=\"20.7969\">c</text><rect fill=\"#383838\" height=\"12\" style=\"stroke: #F8F8F8; stroke-width: 1.5;\" width=\"12\" x=\"19\" y=\"36.0986\"/><text fill=\"#000000\" font-family=\"sans-serif\" font-size=\"14\" lengthAdjust=\"spacingAndGlyphs\" textLength=\"38\" x=\"53\" y=\"20.7969\">newX</text><rect fill=\"#383838\" height=\"12\" style=\"stroke: #F8F8F8; stroke-width: 1.5;\" width=\"12\" x=\"66\" y=\"36.0986\"/><!--MD5=[a827cd597de48e3787d044b34a2732fb]\n",
       "@startuml\r\n",
       "skinparam ranksep 8\r\n",
       "top to bottom direction\r\n",
       "skinparam monochrome true\r\n",
       "skinparam classbackgroundcolor white\r\n",
       "skinparam shadowing false\r\n",
       "skinparam wrapWidth 300\r\n",
       "hide circle\r\n",
       "\r\n",
       "rec def \"setX\" as E1  <<(T,blue) action def>> [[psysml:55b9c562-7faa-4cb8-ac86-d366721fd3cf ]] {\r\n",
       "portin \"c\" as E2  [[psysml:6b50cc19-3c51-4fdc-acb9-7cb54732aaba ]] \r\n",
       "portin \"newX\" as E3  [[psysml:036e652a-b19a-4307-ba90-1008950a3600 ]] \r\n",
       "}\r\n",
       "\r\n",
       "@enduml\r\n",
       "\n",
       "PlantUML version 1.2020.13(Sat Jun 13 12:26:38 UTC 2020)\n",
       "(EPL source distribution)\n",
       "Java Runtime: OpenJDK Runtime Environment\n",
       "JVM: OpenJDK 64-Bit Server VM\n",
       "Default Encoding: UTF-8\n",
       "Language: en\n",
       "Country: null\n",
       "--></g></svg>"
      ]
     },
     "execution_count": 48,
     "metadata": {},
     "output_type": "execute_result"
    }
   ],
   "source": [
    "%viz --style=\"TB\" --view=\"Action\" \"TextualRepresentationTest\""
   ]
  },
  {
   "cell_type": "code",
   "execution_count": 49,
   "id": "c0e0601e",
   "metadata": {
    "execution": {
     "iopub.execute_input": "2021-10-03T08:29:36.913829Z",
     "iopub.status.busy": "2021-10-03T08:29:36.913433Z",
     "iopub.status.idle": "2021-10-03T08:29:36.918163Z",
     "shell.execute_reply": "2021-10-03T08:29:36.918472Z"
    }
   },
   "outputs": [
    {
     "data": {
      "image/svg+xml": [
       "<?xml version=\"1.0\" encoding=\"UTF-8\" standalone=\"no\"?><svg xmlns=\"http://www.w3.org/2000/svg\" xmlns:xlink=\"http://www.w3.org/1999/xlink\" contentScriptType=\"application/ecmascript\" contentStyleType=\"text/css\" height=\"12px\" preserveAspectRatio=\"none\" style=\"width:12px;height:12px;\" version=\"1.1\" viewBox=\"0 0 12 12\" width=\"12px\" zoomAndPan=\"magnify\"><defs/><g><!--MD5=[e1ab0c84c44d2fef8bf5f140f2689906]\n",
       "@startuml\r\n",
       "skinparam roundcorner 20\r\n",
       "skinparam BoxPadding 20\r\n",
       "skinparam SequenceBoxBackgroundColor #white\r\n",
       "skinparam style strictuml\r\n",
       "skinparam maxMessageSize 100\r\n",
       "top to bottom direction\r\n",
       "skinparam monochrome true\r\n",
       "skinparam classbackgroundcolor white\r\n",
       "skinparam shadowing false\r\n",
       "skinparam wrapWidth 300\r\n",
       "hide circle\r\n",
       "\r\n",
       "@enduml\r\n",
       "\n",
       "PlantUML version 1.2020.13(Sat Jun 13 12:26:38 UTC 2020)\n",
       "(EPL source distribution)\n",
       "Java Runtime: OpenJDK Runtime Environment\n",
       "JVM: OpenJDK 64-Bit Server VM\n",
       "Default Encoding: UTF-8\n",
       "Language: en\n",
       "Country: null\n",
       "--></g></svg>"
      ]
     },
     "execution_count": 49,
     "metadata": {},
     "output_type": "execute_result"
    }
   ],
   "source": [
    "%viz --style=\"TB\" --view=\"Sequence\" \"TextualRepresentationTest\""
   ]
  },
  {
   "cell_type": "code",
   "execution_count": 50,
   "id": "53e87f03",
   "metadata": {
    "execution": {
     "iopub.execute_input": "2021-10-03T08:29:36.968279Z",
     "iopub.status.busy": "2021-10-03T08:29:36.967886Z",
     "iopub.status.idle": "2021-10-03T08:29:37.006001Z",
     "shell.execute_reply": "2021-10-03T08:29:37.004358Z"
    }
   },
   "outputs": [
    {
     "data": {
      "image/svg+xml": [
       "<?xml version=\"1.0\" encoding=\"UTF-8\" standalone=\"no\"?><svg xmlns=\"http://www.w3.org/2000/svg\" xmlns:xlink=\"http://www.w3.org/1999/xlink\" contentScriptType=\"application/ecmascript\" contentStyleType=\"text/css\" height=\"261px\" preserveAspectRatio=\"none\" style=\"width:345px;height:261px;\" version=\"1.1\" viewBox=\"0 0 345 261\" width=\"345px\" zoomAndPan=\"magnify\"><defs/><g><!--MD5=[fbc87193dbaf4d95561dea2c320d4a47]\n",
       "cluster E1--><a href=\"psysml:806baf2e-ef33-48f4-9893-87a395ee6712\" target=\"_top\" title=\"psysml:806baf2e-ef33-48f4-9893-87a395ee6712\" xlink:actuate=\"onRequest\" xlink:href=\"psysml:806baf2e-ef33-48f4-9893-87a395ee6712\" xlink:show=\"new\" xlink:title=\"psysml:806baf2e-ef33-48f4-9893-87a395ee6712\" xlink:type=\"simple\"><polygon fill=\"#FFFFFF\" points=\"16,6,210,6,217,28.2969,323,28.2969,323,249.5,16,249.5,16,6\" style=\"stroke: #000000; stroke-width: 1.5;\"/><line style=\"stroke: #000000; stroke-width: 1.5;\" x1=\"16\" x2=\"217\" y1=\"28.2969\" y2=\"28.2969\"/><text fill=\"#000000\" font-family=\"sans-serif\" font-size=\"14\" font-weight=\"bold\" lengthAdjust=\"spacingAndGlyphs\" textLength=\"188\" x=\"20\" y=\"20.9951\">TextualRepresentationTest</text></a><!--MD5=[f6df4d0ebaf0b5dfb2ced0ae5af7c670]\n",
       "cluster E4--><a href=\"psysml:55b9c562-7faa-4cb8-ac86-d366721fd3cf\" target=\"_top\" title=\"psysml:55b9c562-7faa-4cb8-ac86-d366721fd3cf\" xlink:actuate=\"onRequest\" xlink:href=\"psysml:55b9c562-7faa-4cb8-ac86-d366721fd3cf\" xlink:show=\"new\" xlink:title=\"psysml:55b9c562-7faa-4cb8-ac86-d366721fd3cf\" xlink:type=\"simple\"><rect fill=\"#FFFFFF\" height=\"154.5\" id=\"E4\" style=\"stroke: #383838; stroke-width: 1.5;\" width=\"132\" x=\"175\" y=\"79\"/><rect fill=\"#F8F8F8\" height=\"37.9375\" style=\"stroke: #383838; stroke-width: 1.5;\" width=\"132\" x=\"175\" y=\"79\"/><text fill=\"#000000\" font-family=\"sans-serif\" font-size=\"12\" font-style=\"italic\" lengthAdjust=\"spacingAndGlyphs\" textLength=\"77\" x=\"202.5\" y=\"95.1387\">«action def»</text><text fill=\"#000000\" font-family=\"sans-serif\" font-size=\"12\" lengthAdjust=\"spacingAndGlyphs\" textLength=\"27\" x=\"227.5\" y=\"109.1074\">setX</text></a><!--MD5=[b4997ac47864f28c2f74865a473b2911]\n",
       "class E2--><a href=\"psysml:7ed521f9-b82c-428e-a042-7cd99724445f\" target=\"_top\" title=\"psysml:7ed521f9-b82c-428e-a042-7cd99724445f\" xlink:actuate=\"onRequest\" xlink:href=\"psysml:7ed521f9-b82c-428e-a042-7cd99724445f\" xlink:show=\"new\" xlink:title=\"psysml:7ed521f9-b82c-428e-a042-7cd99724445f\" xlink:type=\"simple\"><rect fill=\"#FFFFFF\" height=\"75.5469\" id=\"E2\" style=\"stroke: #383838; stroke-width: 1.5;\" width=\"67\" x=\"59.5\" y=\"41\"/><text fill=\"#000000\" font-family=\"sans-serif\" font-size=\"12\" font-style=\"italic\" lengthAdjust=\"spacingAndGlyphs\" textLength=\"65\" x=\"60.5\" y=\"57.1387\">«item def»</text><text fill=\"#000000\" font-family=\"sans-serif\" font-size=\"12\" lengthAdjust=\"spacingAndGlyphs\" textLength=\"8\" x=\"89\" y=\"71.1074\">C</text><line style=\"stroke: #383838; stroke-width: 1.5;\" x1=\"60.5\" x2=\"125.5\" y1=\"78.9375\" y2=\"78.9375\"/><text fill=\"#000000\" font-family=\"sans-serif\" font-size=\"11\" lengthAdjust=\"spacingAndGlyphs\" textLength=\"38\" x=\"65.5\" y=\"109.9526\">x: Real</text><line style=\"stroke: #383838; stroke-width: 1.0;\" x1=\"60.5\" x2=\"65.5\" y1=\"93.3398\" y2=\"93.3398\"/><text fill=\"#000000\" font-family=\"sans-serif\" font-size=\"11\" lengthAdjust=\"spacingAndGlyphs\" textLength=\"55\" x=\"65.5\" y=\"96.6479\">attributes</text><line style=\"stroke: #383838; stroke-width: 1.0;\" x1=\"120.5\" x2=\"125.5\" y1=\"93.3398\" y2=\"93.3398\"/></a><!--MD5=[09b614a08d8cba4a07c9adeb5e0fee81]\n",
       "class E3--><a href=\"psysml:f29a45b1-01e5-48c9-895e-094b774cc27f\" target=\"_top\" title=\"psysml:f29a45b1-01e5-48c9-895e-094b774cc27f\" xlink:actuate=\"onRequest\" xlink:href=\"psysml:f29a45b1-01e5-48c9-895e-094b774cc27f\" xlink:show=\"new\" xlink:title=\"psysml:f29a45b1-01e5-48c9-895e-094b774cc27f\" xlink:type=\"simple\"><rect fill=\"#FFFFFF\" height=\"45.9375\" id=\"E3\" rx=\"10\" ry=\"10\" style=\"stroke: #383838; stroke-width: 1.5;\" width=\"121\" x=\"32.5\" y=\"177\"/><text fill=\"#000000\" font-family=\"sans-serif\" font-size=\"12\" font-style=\"italic\" lengthAdjust=\"spacingAndGlyphs\" textLength=\"119\" x=\"33.5\" y=\"193.1387\">«assertConstraint»</text><text fill=\"#000000\" font-family=\"sans-serif\" font-size=\"12\" lengthAdjust=\"spacingAndGlyphs\" textLength=\"76\" x=\"55\" y=\"207.1074\">x_constraint</text><line style=\"stroke: #383838; stroke-width: 1.5;\" x1=\"33.5\" x2=\"152.5\" y1=\"214.9375\" y2=\"214.9375\"/></a><text fill=\"#000000\" font-family=\"sans-serif\" font-size=\"14\" lengthAdjust=\"spacingAndGlyphs\" textLength=\"8\" x=\"189\" y=\"57.6982\">c</text><rect fill=\"#383838\" height=\"12\" style=\"stroke: #F8F8F8; stroke-width: 1.5;\" width=\"12\" x=\"187\" y=\"73\"/><text fill=\"#000000\" font-family=\"sans-serif\" font-size=\"14\" lengthAdjust=\"spacingAndGlyphs\" textLength=\"38\" x=\"221\" y=\"57.6982\">newX</text><rect fill=\"#383838\" height=\"12\" style=\"stroke: #F8F8F8; stroke-width: 1.5;\" width=\"12\" x=\"234\" y=\"73\"/><!--MD5=[209b3feb70ccb6233bfe1053d122c12c]\n",
       "reverse link E2 to E3--><a href=\"psysml:54ab6d27-8883-4622-a03e-a53956db7fe1\" target=\"_top\" title=\"psysml:54ab6d27-8883-4622-a03e-a53956db7fe1\" xlink:actuate=\"onRequest\" xlink:href=\"psysml:54ab6d27-8883-4622-a03e-a53956db7fe1\" xlink:show=\"new\" xlink:title=\"psysml:54ab6d27-8883-4622-a03e-a53956db7fe1\" xlink:type=\"simple\"><path d=\"M93,130.34 C93,146.61 93,163.81 93,176.93 \" fill=\"none\" id=\"E2&lt;-E3\" style=\"stroke: #383838; stroke-width: 1.0;\"/><polygon fill=\"#383838\" points=\"93,117,89,123,93,129,97,123,93,117\" style=\"stroke: #383838; stroke-width: 1.0;\"/><text fill=\"#000000\" font-family=\"sans-serif\" font-size=\"13\" lengthAdjust=\"spacingAndGlyphs\" textLength=\"7\" x=\"85.0594\" y=\"165.8075\">*</text></a><!--MD5=[a249bb80a63b6f6eb35e74c846d24b8f]\n",
       "@startuml\r\n",
       "top to bottom direction\r\n",
       "skinparam monochrome true\r\n",
       "skinparam classbackgroundcolor white\r\n",
       "skinparam shadowing false\r\n",
       "skinparam wrapWidth 300\r\n",
       "hide circle\r\n",
       "\r\n",
       "package \"TextualRepresentationTest\" as E1  [[psysml:806baf2e-ef33-48f4-9893-87a395ee6712 ]]  {\r\n",
       "comp def \"C\" as E2  <<(T,blue) item def>> [[psysml:7ed521f9-b82c-428e-a042-7cd99724445f ]] {\r\n",
       "- - attributes - -\r\n",
       "x: Real\r\n",
       "}\r\n",
       "comp usage \"x_constraint\" as E3  <<(T,blue) assertConstraint>> [[psysml:f29a45b1-01e5-48c9-895e-094b774cc27f ]] {\r\n",
       "}\r\n",
       "rec def \"setX\" as E4  <<(T,blue) action def>> [[psysml:55b9c562-7faa-4cb8-ac86-d366721fd3cf ]] {\r\n",
       "portin \"c\" as E5  [[psysml:6b50cc19-3c51-4fdc-acb9-7cb54732aaba ]] \r\n",
       "portin \"newX\" as E6  [[psysml:036e652a-b19a-4307-ba90-1008950a3600 ]] \r\n",
       "}\r\n",
       "\r\n",
       "}\r\n",
       "E2 *- - \"*\"E3 [[psysml:54ab6d27-8883-4622-a03e-a53956db7fe1 ]] \r\n",
       "@enduml\r\n",
       "\n",
       "PlantUML version 1.2020.13(Sat Jun 13 12:26:38 UTC 2020)\n",
       "(EPL source distribution)\n",
       "Java Runtime: OpenJDK Runtime Environment\n",
       "JVM: OpenJDK 64-Bit Server VM\n",
       "Default Encoding: UTF-8\n",
       "Language: en\n",
       "Country: null\n",
       "--></g></svg>"
      ]
     },
     "execution_count": 50,
     "metadata": {},
     "output_type": "execute_result"
    }
   ],
   "source": [
    "%viz --style=\"TB\" --view=\"MIXED\" \"TextualRepresentationTest\""
   ]
  },
  {
   "cell_type": "code",
   "execution_count": 51,
   "id": "d6bc9108",
   "metadata": {
    "execution": {
     "iopub.execute_input": "2021-10-03T08:29:37.055138Z",
     "iopub.status.busy": "2021-10-03T08:29:37.054742Z",
     "iopub.status.idle": "2021-10-03T08:29:37.094034Z",
     "shell.execute_reply": "2021-10-03T08:29:37.092448Z"
    }
   },
   "outputs": [
    {
     "data": {
      "image/svg+xml": [
       "<?xml version=\"1.0\" encoding=\"UTF-8\" standalone=\"no\"?><svg xmlns=\"http://www.w3.org/2000/svg\" xmlns:xlink=\"http://www.w3.org/1999/xlink\" contentScriptType=\"application/ecmascript\" contentStyleType=\"text/css\" height=\"261px\" preserveAspectRatio=\"none\" style=\"width:345px;height:261px;\" version=\"1.1\" viewBox=\"0 0 345 261\" width=\"345px\" zoomAndPan=\"magnify\"><defs/><g><!--MD5=[fbc87193dbaf4d95561dea2c320d4a47]\n",
       "cluster E1--><a href=\"psysml:806baf2e-ef33-48f4-9893-87a395ee6712\" target=\"_top\" title=\"psysml:806baf2e-ef33-48f4-9893-87a395ee6712\" xlink:actuate=\"onRequest\" xlink:href=\"psysml:806baf2e-ef33-48f4-9893-87a395ee6712\" xlink:show=\"new\" xlink:title=\"psysml:806baf2e-ef33-48f4-9893-87a395ee6712\" xlink:type=\"simple\"><polygon fill=\"#FFFFFF\" points=\"16,6,210,6,217,28.2969,323,28.2969,323,249.5,16,249.5,16,6\" style=\"stroke: #000000; stroke-width: 1.5;\"/><line style=\"stroke: #000000; stroke-width: 1.5;\" x1=\"16\" x2=\"217\" y1=\"28.2969\" y2=\"28.2969\"/><text fill=\"#000000\" font-family=\"sans-serif\" font-size=\"14\" font-weight=\"bold\" lengthAdjust=\"spacingAndGlyphs\" textLength=\"188\" x=\"20\" y=\"20.9951\">TextualRepresentationTest</text></a><!--MD5=[f6df4d0ebaf0b5dfb2ced0ae5af7c670]\n",
       "cluster E4--><a href=\"psysml:55b9c562-7faa-4cb8-ac86-d366721fd3cf\" target=\"_top\" title=\"psysml:55b9c562-7faa-4cb8-ac86-d366721fd3cf\" xlink:actuate=\"onRequest\" xlink:href=\"psysml:55b9c562-7faa-4cb8-ac86-d366721fd3cf\" xlink:show=\"new\" xlink:title=\"psysml:55b9c562-7faa-4cb8-ac86-d366721fd3cf\" xlink:type=\"simple\"><rect fill=\"#FFFFFF\" height=\"154.5\" id=\"E4\" style=\"stroke: #383838; stroke-width: 1.5;\" width=\"132\" x=\"175\" y=\"79\"/><rect fill=\"#F8F8F8\" height=\"37.9375\" style=\"stroke: #383838; stroke-width: 1.5;\" width=\"132\" x=\"175\" y=\"79\"/><text fill=\"#000000\" font-family=\"sans-serif\" font-size=\"12\" font-style=\"italic\" lengthAdjust=\"spacingAndGlyphs\" textLength=\"77\" x=\"202.5\" y=\"95.1387\">«action def»</text><text fill=\"#000000\" font-family=\"sans-serif\" font-size=\"12\" lengthAdjust=\"spacingAndGlyphs\" textLength=\"27\" x=\"227.5\" y=\"109.1074\">setX</text></a><!--MD5=[b4997ac47864f28c2f74865a473b2911]\n",
       "class E2--><a href=\"psysml:7ed521f9-b82c-428e-a042-7cd99724445f\" target=\"_top\" title=\"psysml:7ed521f9-b82c-428e-a042-7cd99724445f\" xlink:actuate=\"onRequest\" xlink:href=\"psysml:7ed521f9-b82c-428e-a042-7cd99724445f\" xlink:show=\"new\" xlink:title=\"psysml:7ed521f9-b82c-428e-a042-7cd99724445f\" xlink:type=\"simple\"><rect fill=\"#FFFFFF\" height=\"75.5469\" id=\"E2\" style=\"stroke: #383838; stroke-width: 1.5;\" width=\"67\" x=\"59.5\" y=\"41\"/><text fill=\"#000000\" font-family=\"sans-serif\" font-size=\"12\" font-style=\"italic\" lengthAdjust=\"spacingAndGlyphs\" textLength=\"65\" x=\"60.5\" y=\"57.1387\">«item def»</text><text fill=\"#000000\" font-family=\"sans-serif\" font-size=\"12\" lengthAdjust=\"spacingAndGlyphs\" textLength=\"8\" x=\"89\" y=\"71.1074\">C</text><line style=\"stroke: #383838; stroke-width: 1.5;\" x1=\"60.5\" x2=\"125.5\" y1=\"78.9375\" y2=\"78.9375\"/><text fill=\"#000000\" font-family=\"sans-serif\" font-size=\"11\" lengthAdjust=\"spacingAndGlyphs\" textLength=\"38\" x=\"65.5\" y=\"109.9526\">x: Real</text><line style=\"stroke: #383838; stroke-width: 1.0;\" x1=\"60.5\" x2=\"65.5\" y1=\"93.3398\" y2=\"93.3398\"/><text fill=\"#000000\" font-family=\"sans-serif\" font-size=\"11\" lengthAdjust=\"spacingAndGlyphs\" textLength=\"55\" x=\"65.5\" y=\"96.6479\">attributes</text><line style=\"stroke: #383838; stroke-width: 1.0;\" x1=\"120.5\" x2=\"125.5\" y1=\"93.3398\" y2=\"93.3398\"/></a><!--MD5=[09b614a08d8cba4a07c9adeb5e0fee81]\n",
       "class E3--><a href=\"psysml:f29a45b1-01e5-48c9-895e-094b774cc27f\" target=\"_top\" title=\"psysml:f29a45b1-01e5-48c9-895e-094b774cc27f\" xlink:actuate=\"onRequest\" xlink:href=\"psysml:f29a45b1-01e5-48c9-895e-094b774cc27f\" xlink:show=\"new\" xlink:title=\"psysml:f29a45b1-01e5-48c9-895e-094b774cc27f\" xlink:type=\"simple\"><rect fill=\"#FFFFFF\" height=\"45.9375\" id=\"E3\" rx=\"10\" ry=\"10\" style=\"stroke: #383838; stroke-width: 1.5;\" width=\"121\" x=\"32.5\" y=\"177\"/><text fill=\"#000000\" font-family=\"sans-serif\" font-size=\"12\" font-style=\"italic\" lengthAdjust=\"spacingAndGlyphs\" textLength=\"119\" x=\"33.5\" y=\"193.1387\">«assertConstraint»</text><text fill=\"#000000\" font-family=\"sans-serif\" font-size=\"12\" lengthAdjust=\"spacingAndGlyphs\" textLength=\"76\" x=\"55\" y=\"207.1074\">x_constraint</text><line style=\"stroke: #383838; stroke-width: 1.5;\" x1=\"33.5\" x2=\"152.5\" y1=\"214.9375\" y2=\"214.9375\"/></a><text fill=\"#000000\" font-family=\"sans-serif\" font-size=\"14\" lengthAdjust=\"spacingAndGlyphs\" textLength=\"8\" x=\"189\" y=\"57.6982\">c</text><rect fill=\"#383838\" height=\"12\" style=\"stroke: #F8F8F8; stroke-width: 1.5;\" width=\"12\" x=\"187\" y=\"73\"/><text fill=\"#000000\" font-family=\"sans-serif\" font-size=\"14\" lengthAdjust=\"spacingAndGlyphs\" textLength=\"38\" x=\"221\" y=\"57.6982\">newX</text><rect fill=\"#383838\" height=\"12\" style=\"stroke: #F8F8F8; stroke-width: 1.5;\" width=\"12\" x=\"234\" y=\"73\"/><!--MD5=[209b3feb70ccb6233bfe1053d122c12c]\n",
       "reverse link E2 to E3--><a href=\"psysml:54ab6d27-8883-4622-a03e-a53956db7fe1\" target=\"_top\" title=\"psysml:54ab6d27-8883-4622-a03e-a53956db7fe1\" xlink:actuate=\"onRequest\" xlink:href=\"psysml:54ab6d27-8883-4622-a03e-a53956db7fe1\" xlink:show=\"new\" xlink:title=\"psysml:54ab6d27-8883-4622-a03e-a53956db7fe1\" xlink:type=\"simple\"><path d=\"M93,130.29 C93,130.29 93,176.74 93,176.74 \" fill=\"none\" id=\"E2&lt;-E3\" style=\"stroke: #383838; stroke-width: 1.0;\"/><polygon fill=\"#383838\" points=\"93,117.29,89,123.29,93,129.29,97,123.29,93,117.29\" style=\"stroke: #383838; stroke-width: 1.0;\"/><text fill=\"#000000\" font-family=\"sans-serif\" font-size=\"13\" lengthAdjust=\"spacingAndGlyphs\" textLength=\"7\" x=\"85.1031\" y=\"165.9497\">*</text></a><!--MD5=[76415c9f13864538779f6868874f5b09]\n",
       "@startuml\r\n",
       "skinparam linetype ortho\r\n",
       "skinparam monochrome true\r\n",
       "skinparam classbackgroundcolor white\r\n",
       "skinparam shadowing false\r\n",
       "skinparam wrapWidth 300\r\n",
       "hide circle\r\n",
       "\r\n",
       "package \"TextualRepresentationTest\" as E1  [[psysml:806baf2e-ef33-48f4-9893-87a395ee6712 ]]  {\r\n",
       "comp def \"C\" as E2  <<(T,blue) item def>> [[psysml:7ed521f9-b82c-428e-a042-7cd99724445f ]] {\r\n",
       "- - attributes - -\r\n",
       "x: Real\r\n",
       "}\r\n",
       "comp usage \"x_constraint\" as E3  <<(T,blue) assertConstraint>> [[psysml:f29a45b1-01e5-48c9-895e-094b774cc27f ]] {\r\n",
       "}\r\n",
       "rec def \"setX\" as E4  <<(T,blue) action def>> [[psysml:55b9c562-7faa-4cb8-ac86-d366721fd3cf ]] {\r\n",
       "portin \"c\" as E5  [[psysml:6b50cc19-3c51-4fdc-acb9-7cb54732aaba ]] \r\n",
       "portin \"newX\" as E6  [[psysml:036e652a-b19a-4307-ba90-1008950a3600 ]] \r\n",
       "}\r\n",
       "\r\n",
       "}\r\n",
       "E2 *- - \"*\"E3 [[psysml:54ab6d27-8883-4622-a03e-a53956db7fe1 ]] \r\n",
       "@enduml\r\n",
       "\n",
       "PlantUML version 1.2020.13(Sat Jun 13 12:26:38 UTC 2020)\n",
       "(EPL source distribution)\n",
       "Java Runtime: OpenJDK Runtime Environment\n",
       "JVM: OpenJDK 64-Bit Server VM\n",
       "Default Encoding: UTF-8\n",
       "Language: en\n",
       "Country: null\n",
       "--></g></svg>"
      ]
     },
     "execution_count": 51,
     "metadata": {},
     "output_type": "execute_result"
    }
   ],
   "source": [
    "%viz --style=\"ORTHOLINE\" --view=\"Default\" \"TextualRepresentationTest\""
   ]
  },
  {
   "cell_type": "code",
   "execution_count": 52,
   "id": "9b658b59",
   "metadata": {
    "execution": {
     "iopub.execute_input": "2021-10-03T08:29:37.143241Z",
     "iopub.status.busy": "2021-10-03T08:29:37.142850Z",
     "iopub.status.idle": "2021-10-03T08:29:37.179243Z",
     "shell.execute_reply": "2021-10-03T08:29:37.178897Z"
    }
   },
   "outputs": [
    {
     "data": {
      "image/svg+xml": [
       "<?xml version=\"1.0\" encoding=\"UTF-8\" standalone=\"no\"?><svg xmlns=\"http://www.w3.org/2000/svg\" xmlns:xlink=\"http://www.w3.org/1999/xlink\" contentScriptType=\"application/ecmascript\" contentStyleType=\"text/css\" height=\"375px\" preserveAspectRatio=\"none\" style=\"width:242px;height:375px;\" version=\"1.1\" viewBox=\"0 0 242 375\" width=\"242px\" zoomAndPan=\"magnify\"><defs/><g><!--MD5=[fbc87193dbaf4d95561dea2c320d4a47]\n",
       "cluster E1--><a href=\"psysml:806baf2e-ef33-48f4-9893-87a395ee6712\" target=\"_top\" title=\"psysml:806baf2e-ef33-48f4-9893-87a395ee6712\" xlink:actuate=\"onRequest\" xlink:href=\"psysml:806baf2e-ef33-48f4-9893-87a395ee6712\" xlink:show=\"new\" xlink:title=\"psysml:806baf2e-ef33-48f4-9893-87a395ee6712\" xlink:type=\"simple\"><polygon fill=\"#FFFFFF\" points=\"16,6,210,6,217,28.2969,220,28.2969,220,363,16,363,16,6\" style=\"stroke: #000000; stroke-width: 1.5;\"/><line style=\"stroke: #000000; stroke-width: 1.5;\" x1=\"16\" x2=\"217\" y1=\"28.2969\" y2=\"28.2969\"/><text fill=\"#000000\" font-family=\"sans-serif\" font-size=\"14\" font-weight=\"bold\" lengthAdjust=\"spacingAndGlyphs\" textLength=\"188\" x=\"20\" y=\"20.9951\">TextualRepresentationTest</text></a><!--MD5=[b4997ac47864f28c2f74865a473b2911]\n",
       "class E2--><a href=\"psysml:7ed521f9-b82c-428e-a042-7cd99724445f\" target=\"_top\" title=\"psysml:7ed521f9-b82c-428e-a042-7cd99724445f\" xlink:actuate=\"onRequest\" xlink:href=\"psysml:7ed521f9-b82c-428e-a042-7cd99724445f\" xlink:show=\"new\" xlink:title=\"psysml:7ed521f9-b82c-428e-a042-7cd99724445f\" xlink:type=\"simple\"><rect fill=\"#FFFFFF\" height=\"75.5469\" id=\"E2\" style=\"stroke: #383838; stroke-width: 1.5;\" width=\"67\" x=\"84.5\" y=\"164\"/><text fill=\"#000000\" font-family=\"sans-serif\" font-size=\"12\" font-style=\"italic\" lengthAdjust=\"spacingAndGlyphs\" textLength=\"65\" x=\"85.5\" y=\"180.1387\">«item def»</text><text fill=\"#000000\" font-family=\"sans-serif\" font-size=\"12\" lengthAdjust=\"spacingAndGlyphs\" textLength=\"8\" x=\"114\" y=\"194.1074\">C</text><line style=\"stroke: #383838; stroke-width: 1.5;\" x1=\"85.5\" x2=\"150.5\" y1=\"201.9375\" y2=\"201.9375\"/><text fill=\"#000000\" font-family=\"sans-serif\" font-size=\"11\" lengthAdjust=\"spacingAndGlyphs\" textLength=\"38\" x=\"90.5\" y=\"232.9526\">x: Real</text><line style=\"stroke: #383838; stroke-width: 1.0;\" x1=\"85.5\" x2=\"90.5\" y1=\"216.3398\" y2=\"216.3398\"/><text fill=\"#000000\" font-family=\"sans-serif\" font-size=\"11\" lengthAdjust=\"spacingAndGlyphs\" textLength=\"55\" x=\"90.5\" y=\"219.6479\">attributes</text><line style=\"stroke: #383838; stroke-width: 1.0;\" x1=\"145.5\" x2=\"150.5\" y1=\"216.3398\" y2=\"216.3398\"/></a><!--MD5=[09b614a08d8cba4a07c9adeb5e0fee81]\n",
       "class E3--><a href=\"psysml:f29a45b1-01e5-48c9-895e-094b774cc27f\" target=\"_top\" title=\"psysml:f29a45b1-01e5-48c9-895e-094b774cc27f\" xlink:actuate=\"onRequest\" xlink:href=\"psysml:f29a45b1-01e5-48c9-895e-094b774cc27f\" xlink:show=\"new\" xlink:title=\"psysml:f29a45b1-01e5-48c9-895e-094b774cc27f\" xlink:type=\"simple\"><rect fill=\"#FFFFFF\" height=\"45.9375\" id=\"E3\" rx=\"10\" ry=\"10\" style=\"stroke: #383838; stroke-width: 1.5;\" width=\"121\" x=\"57.5\" y=\"301\"/><text fill=\"#000000\" font-family=\"sans-serif\" font-size=\"12\" font-style=\"italic\" lengthAdjust=\"spacingAndGlyphs\" textLength=\"119\" x=\"58.5\" y=\"317.1387\">«assertConstraint»</text><text fill=\"#000000\" font-family=\"sans-serif\" font-size=\"12\" lengthAdjust=\"spacingAndGlyphs\" textLength=\"76\" x=\"80\" y=\"331.1074\">x_constraint</text><line style=\"stroke: #383838; stroke-width: 1.5;\" x1=\"58.5\" x2=\"177.5\" y1=\"338.9375\" y2=\"338.9375\"/></a><!--MD5=[ebbe1d658d1005bcc118a6aa81145e00]\n",
       "class E4--><a href=\"psysml:55b9c562-7faa-4cb8-ac86-d366721fd3cf\" target=\"_top\" title=\"psysml:55b9c562-7faa-4cb8-ac86-d366721fd3cf\" xlink:actuate=\"onRequest\" xlink:href=\"psysml:55b9c562-7faa-4cb8-ac86-d366721fd3cf\" xlink:show=\"new\" xlink:title=\"psysml:55b9c562-7faa-4cb8-ac86-d366721fd3cf\" xlink:type=\"simple\"><rect fill=\"#FFFFFF\" height=\"45.9375\" id=\"E4\" style=\"stroke: #383838; stroke-width: 1.5;\" width=\"79\" x=\"78.5\" y=\"41\"/><text fill=\"#000000\" font-family=\"sans-serif\" font-size=\"12\" font-style=\"italic\" lengthAdjust=\"spacingAndGlyphs\" textLength=\"77\" x=\"79.5\" y=\"57.1387\">«action def»</text><text fill=\"#000000\" font-family=\"sans-serif\" font-size=\"12\" lengthAdjust=\"spacingAndGlyphs\" textLength=\"27\" x=\"104.5\" y=\"71.1074\">setX</text><line style=\"stroke: #383838; stroke-width: 1.5;\" x1=\"79.5\" x2=\"156.5\" y1=\"78.9375\" y2=\"78.9375\"/></a><!--MD5=[209b3feb70ccb6233bfe1053d122c12c]\n",
       "reverse link E2 to E3--><a href=\"psysml:54ab6d27-8883-4622-a03e-a53956db7fe1\" target=\"_top\" title=\"psysml:54ab6d27-8883-4622-a03e-a53956db7fe1\" xlink:actuate=\"onRequest\" xlink:href=\"psysml:54ab6d27-8883-4622-a03e-a53956db7fe1\" xlink:show=\"new\" xlink:title=\"psysml:54ab6d27-8883-4622-a03e-a53956db7fe1\" xlink:type=\"simple\"><path d=\"M118,253.27 C118,253.27 118,300.78 118,300.78 \" fill=\"none\" id=\"E2&lt;-E3\" style=\"stroke: #383838; stroke-width: 1.0;\"/><polygon fill=\"#383838\" points=\"118,240.27,114,246.27,118,252.27,122,246.27,118,240.27\" style=\"stroke: #383838; stroke-width: 1.0;\"/><text fill=\"#000000\" font-family=\"sans-serif\" font-size=\"13\" lengthAdjust=\"spacingAndGlyphs\" textLength=\"7\" x=\"110.1031\" y=\"289.9999\">*</text></a><!--MD5=[ddeed8deb2209213b62e6cfabaa108b2]\n",
       "reverse link E4 to E2--><a href=\"psysml:6b50cc19-3c51-4fdc-acb9-7cb54732aaba\" target=\"_top\" title=\"psysml:6b50cc19-3c51-4fdc-acb9-7cb54732aaba\" xlink:actuate=\"onRequest\" xlink:href=\"psysml:6b50cc19-3c51-4fdc-acb9-7cb54732aaba\" xlink:show=\"new\" xlink:title=\"psysml:6b50cc19-3c51-4fdc-acb9-7cb54732aaba\" xlink:type=\"simple\"><path d=\"M118,100.1 C118,100.1 118,163.96 118,163.96 \" fill=\"none\" id=\"E4&lt;-E2\" style=\"stroke: #383838; stroke-width: 1.0;\"/><polygon fill=\"#FFFFFF\" points=\"118,87.1,114,93.1,118,99.1,122,93.1,118,87.1\" style=\"stroke: #383838; stroke-width: 1.0;\"/><text fill=\"#000000\" font-family=\"sans-serif\" font-size=\"13\" lengthAdjust=\"spacingAndGlyphs\" textLength=\"7\" x=\"119\" y=\"130.0669\">c</text></a><!--MD5=[249fe14bdfaa256116f4c54090c1b911]\n",
       "@startuml\r\n",
       "skinparam linetype ortho\r\n",
       "skinparam monochrome true\r\n",
       "skinparam classbackgroundcolor white\r\n",
       "skinparam shadowing false\r\n",
       "skinparam wrapWidth 300\r\n",
       "hide circle\r\n",
       "\r\n",
       "package \"TextualRepresentationTest\" as E1  [[psysml:806baf2e-ef33-48f4-9893-87a395ee6712 ]]  {\r\n",
       "comp def \"C\" as E2  <<(T,blue) item def>> [[psysml:7ed521f9-b82c-428e-a042-7cd99724445f ]] {\r\n",
       "- - attributes - -\r\n",
       "x: Real\r\n",
       "}\r\n",
       "comp usage \"x_constraint\" as E3  <<(T,blue) assertConstraint>> [[psysml:f29a45b1-01e5-48c9-895e-094b774cc27f ]] {\r\n",
       "}\r\n",
       "comp def \"setX\" as E4  <<(T,blue) action def>> [[psysml:55b9c562-7faa-4cb8-ac86-d366721fd3cf ]] {\r\n",
       "}\r\n",
       "}\r\n",
       "E2 *- - \"*\"E3 [[psysml:54ab6d27-8883-4622-a03e-a53956db7fe1 ]] \r\n",
       "E4 o- - E2 [[psysml:6b50cc19-3c51-4fdc-acb9-7cb54732aaba ]] : c\r\n",
       "@enduml\r\n",
       "\n",
       "PlantUML version 1.2020.13(Sat Jun 13 12:26:38 UTC 2020)\n",
       "(EPL source distribution)\n",
       "Java Runtime: OpenJDK Runtime Environment\n",
       "JVM: OpenJDK 64-Bit Server VM\n",
       "Default Encoding: UTF-8\n",
       "Language: en\n",
       "Country: null\n",
       "--></g></svg>"
      ]
     },
     "execution_count": 52,
     "metadata": {},
     "output_type": "execute_result"
    }
   ],
   "source": [
    "%viz --style=\"ORTHOLINE\" --view=\"Tree\" \"TextualRepresentationTest\""
   ]
  },
  {
   "cell_type": "code",
   "execution_count": 53,
   "id": "9a4ae8a8",
   "metadata": {
    "execution": {
     "iopub.execute_input": "2021-10-03T08:29:37.228458Z",
     "iopub.status.busy": "2021-10-03T08:29:37.228067Z",
     "iopub.status.idle": "2021-10-03T08:29:37.232815Z",
     "shell.execute_reply": "2021-10-03T08:29:37.232470Z"
    }
   },
   "outputs": [
    {
     "data": {
      "image/svg+xml": [
       "<?xml version=\"1.0\" encoding=\"UTF-8\" standalone=\"no\"?><svg xmlns=\"http://www.w3.org/2000/svg\" xmlns:xlink=\"http://www.w3.org/1999/xlink\" contentScriptType=\"application/ecmascript\" contentStyleType=\"text/css\" height=\"12px\" preserveAspectRatio=\"none\" style=\"width:12px;height:12px;\" version=\"1.1\" viewBox=\"0 0 12 12\" width=\"12px\" zoomAndPan=\"magnify\"><defs/><g><!--MD5=[97d6f38768b311333d388e66b2b27985]\n",
       "@startuml\r\n",
       "skinparam linetype ortho\r\n",
       "skinparam monochrome true\r\n",
       "skinparam classbackgroundcolor white\r\n",
       "skinparam shadowing false\r\n",
       "skinparam wrapWidth 300\r\n",
       "hide circle\r\n",
       "\r\n",
       "@enduml\r\n",
       "\n",
       "PlantUML version 1.2020.13(Sat Jun 13 12:26:38 UTC 2020)\n",
       "(EPL source distribution)\n",
       "Java Runtime: OpenJDK Runtime Environment\n",
       "JVM: OpenJDK 64-Bit Server VM\n",
       "Default Encoding: UTF-8\n",
       "Language: en\n",
       "Country: null\n",
       "--></g></svg>"
      ]
     },
     "execution_count": 53,
     "metadata": {},
     "output_type": "execute_result"
    }
   ],
   "source": [
    "%viz --style=\"ORTHOLINE\" --view=\"State\" \"TextualRepresentationTest\""
   ]
  },
  {
   "cell_type": "code",
   "execution_count": 54,
   "id": "1f676427",
   "metadata": {
    "execution": {
     "iopub.execute_input": "2021-10-03T08:29:37.282158Z",
     "iopub.status.busy": "2021-10-03T08:29:37.281768Z",
     "iopub.status.idle": "2021-10-03T08:29:37.308000Z",
     "shell.execute_reply": "2021-10-03T08:29:37.307633Z"
    }
   },
   "outputs": [
    {
     "data": {
      "image/svg+xml": [
       "<?xml version=\"1.0\" encoding=\"UTF-8\" standalone=\"no\"?><svg xmlns=\"http://www.w3.org/2000/svg\" xmlns:xlink=\"http://www.w3.org/1999/xlink\" contentScriptType=\"application/ecmascript\" contentStyleType=\"text/css\" height=\"179px\" preserveAspectRatio=\"none\" style=\"width:284px;height:179px;\" version=\"1.1\" viewBox=\"0 0 284 179\" width=\"284px\" zoomAndPan=\"magnify\"><defs/><g><!--MD5=[fbc87193dbaf4d95561dea2c320d4a47]\n",
       "cluster E1--><a href=\"psysml:806baf2e-ef33-48f4-9893-87a395ee6712\" target=\"_top\" title=\"psysml:806baf2e-ef33-48f4-9893-87a395ee6712\" xlink:actuate=\"onRequest\" xlink:href=\"psysml:806baf2e-ef33-48f4-9893-87a395ee6712\" xlink:show=\"new\" xlink:title=\"psysml:806baf2e-ef33-48f4-9893-87a395ee6712\" xlink:type=\"simple\"><polygon fill=\"#FFFFFF\" points=\"16,6,210,6,217,28.2969,262,28.2969,262,167,16,167,16,6\" style=\"stroke: #000000; stroke-width: 1.5;\"/><line style=\"stroke: #000000; stroke-width: 1.5;\" x1=\"16\" x2=\"217\" y1=\"28.2969\" y2=\"28.2969\"/><text fill=\"#000000\" font-family=\"sans-serif\" font-size=\"14\" font-weight=\"bold\" lengthAdjust=\"spacingAndGlyphs\" textLength=\"188\" x=\"20\" y=\"20.9951\">TextualRepresentationTest</text></a><!--MD5=[d5e69f78d87373223dbae638b30a9c99]\n",
       "cluster E3--><a href=\"psysml:55b9c562-7faa-4cb8-ac86-d366721fd3cf\" target=\"_top\" title=\"psysml:55b9c562-7faa-4cb8-ac86-d366721fd3cf\" xlink:actuate=\"onRequest\" xlink:href=\"psysml:55b9c562-7faa-4cb8-ac86-d366721fd3cf\" xlink:show=\"new\" xlink:title=\"psysml:55b9c562-7faa-4cb8-ac86-d366721fd3cf\" xlink:type=\"simple\"><rect fill=\"#FFFFFF\" height=\"88.5\" id=\"E3\" style=\"stroke: #383838; stroke-width: 1.5;\" width=\"96\" x=\"120.5\" y=\"62.5\"/><rect fill=\"#F8F8F8\" height=\"37.9375\" style=\"stroke: #383838; stroke-width: 1.5;\" width=\"96\" x=\"120.5\" y=\"62.5\"/><text fill=\"#000000\" font-family=\"sans-serif\" font-size=\"12\" font-style=\"italic\" lengthAdjust=\"spacingAndGlyphs\" textLength=\"77\" x=\"130\" y=\"78.6387\">«action def»</text><text fill=\"#000000\" font-family=\"sans-serif\" font-size=\"12\" lengthAdjust=\"spacingAndGlyphs\" textLength=\"27\" x=\"155\" y=\"92.6074\">setX</text></a><g id=\"E1.E2\"><a href=\"psysml:7ed521f9-b82c-428e-a042-7cd99724445f\" target=\"_top\" title=\"psysml:7ed521f9-b82c-428e-a042-7cd99724445f\" xlink:actuate=\"onRequest\" xlink:href=\"psysml:7ed521f9-b82c-428e-a042-7cd99724445f\" xlink:show=\"new\" xlink:title=\"psysml:7ed521f9-b82c-428e-a042-7cd99724445f\" xlink:type=\"simple\"><rect fill=\"#FFFFFF\" height=\"42.9375\" id=\"E2\" style=\"stroke: #383838; stroke-width: 1.5;\" width=\"72\" x=\"32\" y=\"41\"/><rect fill=\"#F8F8F8\" height=\"37.9375\" style=\"stroke: #383838; stroke-width: 1.5;\" width=\"72\" x=\"32\" y=\"41\"/><text fill=\"#000000\" font-family=\"sans-serif\" font-size=\"12\" font-style=\"italic\" lengthAdjust=\"spacingAndGlyphs\" textLength=\"65\" x=\"35.5\" y=\"57.1387\">«item def»</text><text fill=\"#000000\" font-family=\"sans-serif\" font-size=\"12\" lengthAdjust=\"spacingAndGlyphs\" textLength=\"8\" x=\"64\" y=\"71.1074\">C</text></a></g><text fill=\"#000000\" font-family=\"sans-serif\" font-size=\"14\" lengthAdjust=\"spacingAndGlyphs\" textLength=\"8\" x=\"141\" y=\"41.1982\">c</text><rect fill=\"#383838\" height=\"12\" style=\"stroke: #F8F8F8; stroke-width: 1.5;\" width=\"12\" x=\"139\" y=\"56.5\"/><text fill=\"#000000\" font-family=\"sans-serif\" font-size=\"14\" lengthAdjust=\"spacingAndGlyphs\" textLength=\"38\" x=\"173\" y=\"41.1982\">newX</text><rect fill=\"#383838\" height=\"12\" style=\"stroke: #F8F8F8; stroke-width: 1.5;\" width=\"12\" x=\"186\" y=\"56.5\"/><!--MD5=[1a5efd7cbecbac7aff4842fd86c45897]\n",
       "@startuml\r\n",
       "skinparam ranksep 10\r\n",
       "skinparam rectangle {\r\n",
       " backgroundColor<<block>> LightGreen\r\n",
       "}\r\n",
       "skinparam linetype ortho\r\n",
       "skinparam monochrome true\r\n",
       "skinparam classbackgroundcolor white\r\n",
       "skinparam shadowing false\r\n",
       "skinparam wrapWidth 300\r\n",
       "hide circle\r\n",
       "\r\n",
       "package \"TextualRepresentationTest\" as E1  [[psysml:806baf2e-ef33-48f4-9893-87a395ee6712 ]]  {\r\n",
       "def \"C\" as E2  <<(T,blue) item def>> [[psysml:7ed521f9-b82c-428e-a042-7cd99724445f ]] \r\n",
       "rec def \"setX\" as E3  <<(T,blue) action def>> [[psysml:55b9c562-7faa-4cb8-ac86-d366721fd3cf ]] {\r\n",
       "portin \"c\" as E4  [[psysml:6b50cc19-3c51-4fdc-acb9-7cb54732aaba ]] \r\n",
       "portin \"newX\" as E5  [[psysml:036e652a-b19a-4307-ba90-1008950a3600 ]] \r\n",
       "}\r\n",
       "\r\n",
       "}\r\n",
       "@enduml\r\n",
       "\n",
       "PlantUML version 1.2020.13(Sat Jun 13 12:26:38 UTC 2020)\n",
       "(EPL source distribution)\n",
       "Java Runtime: OpenJDK Runtime Environment\n",
       "JVM: OpenJDK 64-Bit Server VM\n",
       "Default Encoding: UTF-8\n",
       "Language: en\n",
       "Country: null\n",
       "--></g></svg>"
      ]
     },
     "execution_count": 54,
     "metadata": {},
     "output_type": "execute_result"
    }
   ],
   "source": [
    "%viz --style=\"ORTHOLINE\" --view=\"Interconnection\" \"TextualRepresentationTest\""
   ]
  },
  {
   "cell_type": "code",
   "execution_count": 55,
   "id": "4318a2a9",
   "metadata": {
    "execution": {
     "iopub.execute_input": "2021-10-03T08:29:37.356958Z",
     "iopub.status.busy": "2021-10-03T08:29:37.356558Z",
     "iopub.status.idle": "2021-10-03T08:29:37.378373Z",
     "shell.execute_reply": "2021-10-03T08:29:37.378023Z"
    }
   },
   "outputs": [
    {
     "data": {
      "image/svg+xml": [
       "<?xml version=\"1.0\" encoding=\"UTF-8\" standalone=\"no\"?><svg xmlns=\"http://www.w3.org/2000/svg\" xmlns:xlink=\"http://www.w3.org/1999/xlink\" contentScriptType=\"application/ecmascript\" contentStyleType=\"text/css\" height=\"126px\" preserveAspectRatio=\"none\" style=\"width:150px;height:126px;\" version=\"1.1\" viewBox=\"0 0 150 126\" width=\"150px\" zoomAndPan=\"magnify\"><defs/><g><!--MD5=[fbc87193dbaf4d95561dea2c320d4a47]\n",
       "cluster E1--><a href=\"psysml:55b9c562-7faa-4cb8-ac86-d366721fd3cf\" target=\"_top\" title=\"psysml:55b9c562-7faa-4cb8-ac86-d366721fd3cf\" xlink:actuate=\"onRequest\" xlink:href=\"psysml:55b9c562-7faa-4cb8-ac86-d366721fd3cf\" xlink:show=\"new\" xlink:title=\"psysml:55b9c562-7faa-4cb8-ac86-d366721fd3cf\" xlink:type=\"simple\"><rect fill=\"#FFFFFF\" height=\"73\" id=\"E1\" style=\"stroke: #383838; stroke-width: 1.5;\" width=\"132\" x=\"7\" y=\"42.0986\"/><rect fill=\"#F8F8F8\" height=\"37.9375\" style=\"stroke: #383838; stroke-width: 1.5;\" width=\"132\" x=\"7\" y=\"42.0986\"/><text fill=\"#000000\" font-family=\"sans-serif\" font-size=\"12\" font-style=\"italic\" lengthAdjust=\"spacingAndGlyphs\" textLength=\"77\" x=\"34.5\" y=\"58.2373\">«action def»</text><text fill=\"#000000\" font-family=\"sans-serif\" font-size=\"12\" lengthAdjust=\"spacingAndGlyphs\" textLength=\"27\" x=\"59.5\" y=\"72.2061\">setX</text></a><text fill=\"#000000\" font-family=\"sans-serif\" font-size=\"14\" lengthAdjust=\"spacingAndGlyphs\" textLength=\"8\" x=\"21\" y=\"20.7969\">c</text><rect fill=\"#383838\" height=\"12\" style=\"stroke: #F8F8F8; stroke-width: 1.5;\" width=\"12\" x=\"19\" y=\"36.0986\"/><text fill=\"#000000\" font-family=\"sans-serif\" font-size=\"14\" lengthAdjust=\"spacingAndGlyphs\" textLength=\"38\" x=\"53\" y=\"20.7969\">newX</text><rect fill=\"#383838\" height=\"12\" style=\"stroke: #F8F8F8; stroke-width: 1.5;\" width=\"12\" x=\"66\" y=\"36.0986\"/><!--MD5=[c7d8c86a0927fea785c994af33aa5f8f]\n",
       "@startuml\r\n",
       "skinparam ranksep 8\r\n",
       "skinparam linetype ortho\r\n",
       "skinparam monochrome true\r\n",
       "skinparam classbackgroundcolor white\r\n",
       "skinparam shadowing false\r\n",
       "skinparam wrapWidth 300\r\n",
       "hide circle\r\n",
       "\r\n",
       "rec def \"setX\" as E1  <<(T,blue) action def>> [[psysml:55b9c562-7faa-4cb8-ac86-d366721fd3cf ]] {\r\n",
       "portin \"c\" as E2  [[psysml:6b50cc19-3c51-4fdc-acb9-7cb54732aaba ]] \r\n",
       "portin \"newX\" as E3  [[psysml:036e652a-b19a-4307-ba90-1008950a3600 ]] \r\n",
       "}\r\n",
       "\r\n",
       "@enduml\r\n",
       "\n",
       "PlantUML version 1.2020.13(Sat Jun 13 12:26:38 UTC 2020)\n",
       "(EPL source distribution)\n",
       "Java Runtime: OpenJDK Runtime Environment\n",
       "JVM: OpenJDK 64-Bit Server VM\n",
       "Default Encoding: UTF-8\n",
       "Language: en\n",
       "Country: null\n",
       "--></g></svg>"
      ]
     },
     "execution_count": 55,
     "metadata": {},
     "output_type": "execute_result"
    }
   ],
   "source": [
    "%viz --style=\"ORTHOLINE\" --view=\"Action\" \"TextualRepresentationTest\""
   ]
  },
  {
   "cell_type": "code",
   "execution_count": 56,
   "id": "c9ab4267",
   "metadata": {
    "execution": {
     "iopub.execute_input": "2021-10-03T08:29:37.427722Z",
     "iopub.status.busy": "2021-10-03T08:29:37.427322Z",
     "iopub.status.idle": "2021-10-03T08:29:37.432345Z",
     "shell.execute_reply": "2021-10-03T08:29:37.432016Z"
    }
   },
   "outputs": [
    {
     "data": {
      "image/svg+xml": [
       "<?xml version=\"1.0\" encoding=\"UTF-8\" standalone=\"no\"?><svg xmlns=\"http://www.w3.org/2000/svg\" xmlns:xlink=\"http://www.w3.org/1999/xlink\" contentScriptType=\"application/ecmascript\" contentStyleType=\"text/css\" height=\"12px\" preserveAspectRatio=\"none\" style=\"width:12px;height:12px;\" version=\"1.1\" viewBox=\"0 0 12 12\" width=\"12px\" zoomAndPan=\"magnify\"><defs/><g><!--MD5=[30fc1de5121c5abddedd55b44417fde8]\n",
       "@startuml\r\n",
       "skinparam roundcorner 20\r\n",
       "skinparam BoxPadding 20\r\n",
       "skinparam SequenceBoxBackgroundColor #white\r\n",
       "skinparam style strictuml\r\n",
       "skinparam maxMessageSize 100\r\n",
       "skinparam linetype ortho\r\n",
       "skinparam monochrome true\r\n",
       "skinparam classbackgroundcolor white\r\n",
       "skinparam shadowing false\r\n",
       "skinparam wrapWidth 300\r\n",
       "hide circle\r\n",
       "\r\n",
       "@enduml\r\n",
       "\n",
       "PlantUML version 1.2020.13(Sat Jun 13 12:26:38 UTC 2020)\n",
       "(EPL source distribution)\n",
       "Java Runtime: OpenJDK Runtime Environment\n",
       "JVM: OpenJDK 64-Bit Server VM\n",
       "Default Encoding: UTF-8\n",
       "Language: en\n",
       "Country: null\n",
       "--></g></svg>"
      ]
     },
     "execution_count": 56,
     "metadata": {},
     "output_type": "execute_result"
    }
   ],
   "source": [
    "%viz --style=\"ORTHOLINE\" --view=\"Sequence\" \"TextualRepresentationTest\""
   ]
  },
  {
   "cell_type": "code",
   "execution_count": 57,
   "id": "0662c7d1",
   "metadata": {
    "execution": {
     "iopub.execute_input": "2021-10-03T08:29:37.481755Z",
     "iopub.status.busy": "2021-10-03T08:29:37.481362Z",
     "iopub.status.idle": "2021-10-03T08:29:37.518908Z",
     "shell.execute_reply": "2021-10-03T08:29:37.517341Z"
    }
   },
   "outputs": [
    {
     "data": {
      "image/svg+xml": [
       "<?xml version=\"1.0\" encoding=\"UTF-8\" standalone=\"no\"?><svg xmlns=\"http://www.w3.org/2000/svg\" xmlns:xlink=\"http://www.w3.org/1999/xlink\" contentScriptType=\"application/ecmascript\" contentStyleType=\"text/css\" height=\"261px\" preserveAspectRatio=\"none\" style=\"width:345px;height:261px;\" version=\"1.1\" viewBox=\"0 0 345 261\" width=\"345px\" zoomAndPan=\"magnify\"><defs/><g><!--MD5=[fbc87193dbaf4d95561dea2c320d4a47]\n",
       "cluster E1--><a href=\"psysml:806baf2e-ef33-48f4-9893-87a395ee6712\" target=\"_top\" title=\"psysml:806baf2e-ef33-48f4-9893-87a395ee6712\" xlink:actuate=\"onRequest\" xlink:href=\"psysml:806baf2e-ef33-48f4-9893-87a395ee6712\" xlink:show=\"new\" xlink:title=\"psysml:806baf2e-ef33-48f4-9893-87a395ee6712\" xlink:type=\"simple\"><polygon fill=\"#FFFFFF\" points=\"16,6,210,6,217,28.2969,323,28.2969,323,249.5,16,249.5,16,6\" style=\"stroke: #000000; stroke-width: 1.5;\"/><line style=\"stroke: #000000; stroke-width: 1.5;\" x1=\"16\" x2=\"217\" y1=\"28.2969\" y2=\"28.2969\"/><text fill=\"#000000\" font-family=\"sans-serif\" font-size=\"14\" font-weight=\"bold\" lengthAdjust=\"spacingAndGlyphs\" textLength=\"188\" x=\"20\" y=\"20.9951\">TextualRepresentationTest</text></a><!--MD5=[f6df4d0ebaf0b5dfb2ced0ae5af7c670]\n",
       "cluster E4--><a href=\"psysml:55b9c562-7faa-4cb8-ac86-d366721fd3cf\" target=\"_top\" title=\"psysml:55b9c562-7faa-4cb8-ac86-d366721fd3cf\" xlink:actuate=\"onRequest\" xlink:href=\"psysml:55b9c562-7faa-4cb8-ac86-d366721fd3cf\" xlink:show=\"new\" xlink:title=\"psysml:55b9c562-7faa-4cb8-ac86-d366721fd3cf\" xlink:type=\"simple\"><rect fill=\"#FFFFFF\" height=\"154.5\" id=\"E4\" style=\"stroke: #383838; stroke-width: 1.5;\" width=\"132\" x=\"175\" y=\"79\"/><rect fill=\"#F8F8F8\" height=\"37.9375\" style=\"stroke: #383838; stroke-width: 1.5;\" width=\"132\" x=\"175\" y=\"79\"/><text fill=\"#000000\" font-family=\"sans-serif\" font-size=\"12\" font-style=\"italic\" lengthAdjust=\"spacingAndGlyphs\" textLength=\"77\" x=\"202.5\" y=\"95.1387\">«action def»</text><text fill=\"#000000\" font-family=\"sans-serif\" font-size=\"12\" lengthAdjust=\"spacingAndGlyphs\" textLength=\"27\" x=\"227.5\" y=\"109.1074\">setX</text></a><!--MD5=[b4997ac47864f28c2f74865a473b2911]\n",
       "class E2--><a href=\"psysml:7ed521f9-b82c-428e-a042-7cd99724445f\" target=\"_top\" title=\"psysml:7ed521f9-b82c-428e-a042-7cd99724445f\" xlink:actuate=\"onRequest\" xlink:href=\"psysml:7ed521f9-b82c-428e-a042-7cd99724445f\" xlink:show=\"new\" xlink:title=\"psysml:7ed521f9-b82c-428e-a042-7cd99724445f\" xlink:type=\"simple\"><rect fill=\"#FFFFFF\" height=\"75.5469\" id=\"E2\" style=\"stroke: #383838; stroke-width: 1.5;\" width=\"67\" x=\"59.5\" y=\"41\"/><text fill=\"#000000\" font-family=\"sans-serif\" font-size=\"12\" font-style=\"italic\" lengthAdjust=\"spacingAndGlyphs\" textLength=\"65\" x=\"60.5\" y=\"57.1387\">«item def»</text><text fill=\"#000000\" font-family=\"sans-serif\" font-size=\"12\" lengthAdjust=\"spacingAndGlyphs\" textLength=\"8\" x=\"89\" y=\"71.1074\">C</text><line style=\"stroke: #383838; stroke-width: 1.5;\" x1=\"60.5\" x2=\"125.5\" y1=\"78.9375\" y2=\"78.9375\"/><text fill=\"#000000\" font-family=\"sans-serif\" font-size=\"11\" lengthAdjust=\"spacingAndGlyphs\" textLength=\"38\" x=\"65.5\" y=\"109.9526\">x: Real</text><line style=\"stroke: #383838; stroke-width: 1.0;\" x1=\"60.5\" x2=\"65.5\" y1=\"93.3398\" y2=\"93.3398\"/><text fill=\"#000000\" font-family=\"sans-serif\" font-size=\"11\" lengthAdjust=\"spacingAndGlyphs\" textLength=\"55\" x=\"65.5\" y=\"96.6479\">attributes</text><line style=\"stroke: #383838; stroke-width: 1.0;\" x1=\"120.5\" x2=\"125.5\" y1=\"93.3398\" y2=\"93.3398\"/></a><!--MD5=[09b614a08d8cba4a07c9adeb5e0fee81]\n",
       "class E3--><a href=\"psysml:f29a45b1-01e5-48c9-895e-094b774cc27f\" target=\"_top\" title=\"psysml:f29a45b1-01e5-48c9-895e-094b774cc27f\" xlink:actuate=\"onRequest\" xlink:href=\"psysml:f29a45b1-01e5-48c9-895e-094b774cc27f\" xlink:show=\"new\" xlink:title=\"psysml:f29a45b1-01e5-48c9-895e-094b774cc27f\" xlink:type=\"simple\"><rect fill=\"#FFFFFF\" height=\"45.9375\" id=\"E3\" rx=\"10\" ry=\"10\" style=\"stroke: #383838; stroke-width: 1.5;\" width=\"121\" x=\"32.5\" y=\"177\"/><text fill=\"#000000\" font-family=\"sans-serif\" font-size=\"12\" font-style=\"italic\" lengthAdjust=\"spacingAndGlyphs\" textLength=\"119\" x=\"33.5\" y=\"193.1387\">«assertConstraint»</text><text fill=\"#000000\" font-family=\"sans-serif\" font-size=\"12\" lengthAdjust=\"spacingAndGlyphs\" textLength=\"76\" x=\"55\" y=\"207.1074\">x_constraint</text><line style=\"stroke: #383838; stroke-width: 1.5;\" x1=\"33.5\" x2=\"152.5\" y1=\"214.9375\" y2=\"214.9375\"/></a><text fill=\"#000000\" font-family=\"sans-serif\" font-size=\"14\" lengthAdjust=\"spacingAndGlyphs\" textLength=\"8\" x=\"189\" y=\"57.6982\">c</text><rect fill=\"#383838\" height=\"12\" style=\"stroke: #F8F8F8; stroke-width: 1.5;\" width=\"12\" x=\"187\" y=\"73\"/><text fill=\"#000000\" font-family=\"sans-serif\" font-size=\"14\" lengthAdjust=\"spacingAndGlyphs\" textLength=\"38\" x=\"221\" y=\"57.6982\">newX</text><rect fill=\"#383838\" height=\"12\" style=\"stroke: #F8F8F8; stroke-width: 1.5;\" width=\"12\" x=\"234\" y=\"73\"/><!--MD5=[209b3feb70ccb6233bfe1053d122c12c]\n",
       "reverse link E2 to E3--><a href=\"psysml:54ab6d27-8883-4622-a03e-a53956db7fe1\" target=\"_top\" title=\"psysml:54ab6d27-8883-4622-a03e-a53956db7fe1\" xlink:actuate=\"onRequest\" xlink:href=\"psysml:54ab6d27-8883-4622-a03e-a53956db7fe1\" xlink:show=\"new\" xlink:title=\"psysml:54ab6d27-8883-4622-a03e-a53956db7fe1\" xlink:type=\"simple\"><path d=\"M93,130.29 C93,130.29 93,176.74 93,176.74 \" fill=\"none\" id=\"E2&lt;-E3\" style=\"stroke: #383838; stroke-width: 1.0;\"/><polygon fill=\"#383838\" points=\"93,117.29,89,123.29,93,129.29,97,123.29,93,117.29\" style=\"stroke: #383838; stroke-width: 1.0;\"/><text fill=\"#000000\" font-family=\"sans-serif\" font-size=\"13\" lengthAdjust=\"spacingAndGlyphs\" textLength=\"7\" x=\"85.1031\" y=\"165.9497\">*</text></a><!--MD5=[76415c9f13864538779f6868874f5b09]\n",
       "@startuml\r\n",
       "skinparam linetype ortho\r\n",
       "skinparam monochrome true\r\n",
       "skinparam classbackgroundcolor white\r\n",
       "skinparam shadowing false\r\n",
       "skinparam wrapWidth 300\r\n",
       "hide circle\r\n",
       "\r\n",
       "package \"TextualRepresentationTest\" as E1  [[psysml:806baf2e-ef33-48f4-9893-87a395ee6712 ]]  {\r\n",
       "comp def \"C\" as E2  <<(T,blue) item def>> [[psysml:7ed521f9-b82c-428e-a042-7cd99724445f ]] {\r\n",
       "- - attributes - -\r\n",
       "x: Real\r\n",
       "}\r\n",
       "comp usage \"x_constraint\" as E3  <<(T,blue) assertConstraint>> [[psysml:f29a45b1-01e5-48c9-895e-094b774cc27f ]] {\r\n",
       "}\r\n",
       "rec def \"setX\" as E4  <<(T,blue) action def>> [[psysml:55b9c562-7faa-4cb8-ac86-d366721fd3cf ]] {\r\n",
       "portin \"c\" as E5  [[psysml:6b50cc19-3c51-4fdc-acb9-7cb54732aaba ]] \r\n",
       "portin \"newX\" as E6  [[psysml:036e652a-b19a-4307-ba90-1008950a3600 ]] \r\n",
       "}\r\n",
       "\r\n",
       "}\r\n",
       "E2 *- - \"*\"E3 [[psysml:54ab6d27-8883-4622-a03e-a53956db7fe1 ]] \r\n",
       "@enduml\r\n",
       "\n",
       "PlantUML version 1.2020.13(Sat Jun 13 12:26:38 UTC 2020)\n",
       "(EPL source distribution)\n",
       "Java Runtime: OpenJDK Runtime Environment\n",
       "JVM: OpenJDK 64-Bit Server VM\n",
       "Default Encoding: UTF-8\n",
       "Language: en\n",
       "Country: null\n",
       "--></g></svg>"
      ]
     },
     "execution_count": 57,
     "metadata": {},
     "output_type": "execute_result"
    }
   ],
   "source": [
    "%viz --style=\"ORTHOLINE\" --view=\"MIXED\" \"TextualRepresentationTest\""
   ]
  }
 ],
 "metadata": {
  "kernelspec": {
   "display_name": "SysML",
   "language": "sysml",
   "name": "sysml"
  },
  "language_info": {
   "codemirror_mode": "sysml",
   "file_extension": ".sysml",
   "mimetype": "text/x-sysml",
   "name": "SysML",
   "pygments_lexer": "java",
   "version": "1.0.0"
  }
 },
 "nbformat": 4,
 "nbformat_minor": 5
}
