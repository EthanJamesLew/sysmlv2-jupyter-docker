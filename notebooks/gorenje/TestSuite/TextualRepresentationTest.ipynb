{
 "cells": [
  {
   "cell_type": "markdown",
   "id": "9ffa2199",
   "metadata": {},
   "source": [
    "# SysML v2 Test Suite\n",
    "\n",
    "This can notebook can be cleared using menu `Edit --> Clear All Outputs` and then all cells can be\n",
    "run using menu `Run --> Run All Cells`.\n",
    "\n",
    "**WARNING**: This file is generated, all modifications here will be ignored.\n"
   ]
  },
  {
   "cell_type": "markdown",
   "id": "3fc8cd09",
   "metadata": {},
   "source": [
    "## File: ../../sysml/src/examples/Simple Tests/TextualRepresentationTest.sysml"
   ]
  },
  {
   "cell_type": "code",
   "execution_count": 1,
   "id": "9288d946",
   "metadata": {
    "execution": {
     "iopub.execute_input": "2021-11-13T13:00:33.509945Z",
     "iopub.status.busy": "2021-11-13T13:00:33.508860Z",
     "iopub.status.idle": "2021-11-13T13:00:33.733662Z",
     "shell.execute_reply": "2021-11-13T13:00:33.733922Z"
    }
   },
   "outputs": [
    {
     "data": {
      "text/plain": [
       "Package TextualRepresentationTest (8acdd8b8-203d-4dca-8074-adaa67a2c310)\n"
      ]
     },
     "execution_count": 1,
     "metadata": {},
     "output_type": "execute_result"
    }
   ],
   "source": [
    "package TextualRepresentationTest {\n",
    "\timport ScalarValues::Real;\n",
    "\t\n",
    "\titem def C {\n",
    "\t    attribute x: Real;\n",
    "\t    assert constraint x_constraint;\n",
    "\t    rep inOCL about x_constraint language \"ocl\" \n",
    "\t        /* self.x > 0.0 */\n",
    "\t}\n",
    "\t\n",
    "\taction def setX(c : C, newX : Real) {\n",
    "\t    language \"alf\" \n",
    "\t        /* c.x = newX;\n",
    "\t         * WriteLine(\"Set new x\");\n",
    "\t         */\n",
    "\t}\n",
    "\t\n",
    "}"
   ]
  },
  {
   "cell_type": "code",
   "execution_count": 2,
   "id": "28cae898",
   "metadata": {
    "execution": {
     "iopub.execute_input": "2021-11-13T13:00:33.784992Z",
     "iopub.status.busy": "2021-11-13T13:00:33.784737Z",
     "iopub.status.idle": "2021-11-13T13:00:34.233790Z",
     "shell.execute_reply": "2021-11-13T13:00:34.231934Z"
    }
   },
   "outputs": [
    {
     "data": {
      "image/svg+xml": [
       "<?xml version=\"1.0\" encoding=\"UTF-8\" standalone=\"no\"?><svg xmlns=\"http://www.w3.org/2000/svg\" xmlns:xlink=\"http://www.w3.org/1999/xlink\" contentScriptType=\"application/ecmascript\" contentStyleType=\"text/css\" height=\"261px\" preserveAspectRatio=\"none\" style=\"width:351px;height:261px;\" version=\"1.1\" viewBox=\"0 0 351 261\" width=\"351px\" zoomAndPan=\"magnify\"><defs/><g><!--MD5=[fbc87193dbaf4d95561dea2c320d4a47]\n",
       "cluster E1--><a href=\"psysml:6b3c9659-b47e-4a53-85ed-693ccedcdfc8\" target=\"_top\" title=\"psysml:6b3c9659-b47e-4a53-85ed-693ccedcdfc8\" xlink:actuate=\"onRequest\" xlink:href=\"psysml:6b3c9659-b47e-4a53-85ed-693ccedcdfc8\" xlink:show=\"new\" xlink:title=\"psysml:6b3c9659-b47e-4a53-85ed-693ccedcdfc8\" xlink:type=\"simple\"><polygon fill=\"#FFFFFF\" points=\"16,6,210,6,217,28.2969,329,28.2969,329,249.5,16,249.5,16,6\" style=\"stroke: #000000; stroke-width: 1.5;\"/><line style=\"stroke: #000000; stroke-width: 1.5;\" x1=\"16\" x2=\"217\" y1=\"28.2969\" y2=\"28.2969\"/><text fill=\"#000000\" font-family=\"sans-serif\" font-size=\"14\" font-weight=\"bold\" lengthAdjust=\"spacingAndGlyphs\" textLength=\"188\" x=\"20\" y=\"20.9951\">TextualRepresentationTest</text></a><!--MD5=[f6df4d0ebaf0b5dfb2ced0ae5af7c670]\n",
       "cluster E4--><a href=\"psysml:056920e1-03e4-42f5-9f87-f97cbdc58602\" target=\"_top\" title=\"psysml:056920e1-03e4-42f5-9f87-f97cbdc58602\" xlink:actuate=\"onRequest\" xlink:href=\"psysml:056920e1-03e4-42f5-9f87-f97cbdc58602\" xlink:show=\"new\" xlink:title=\"psysml:056920e1-03e4-42f5-9f87-f97cbdc58602\" xlink:type=\"simple\"><rect fill=\"#FFFFFF\" height=\"154.5\" id=\"E4\" style=\"stroke: #383838; stroke-width: 1.5;\" width=\"134\" x=\"179\" y=\"79\"/><rect fill=\"#F8F8F8\" height=\"37.9375\" style=\"stroke: #383838; stroke-width: 1.5;\" width=\"134\" x=\"179\" y=\"79\"/><text fill=\"#000000\" font-family=\"sans-serif\" font-size=\"12\" font-style=\"italic\" lengthAdjust=\"spacingAndGlyphs\" textLength=\"81\" x=\"205.5\" y=\"95.1387\">«action  def»</text><text fill=\"#000000\" font-family=\"sans-serif\" font-size=\"12\" lengthAdjust=\"spacingAndGlyphs\" textLength=\"27\" x=\"232.5\" y=\"109.1074\">setX</text></a><!--MD5=[b4997ac47864f28c2f74865a473b2911]\n",
       "class E2--><a href=\"psysml:83925eaf-d327-49ae-8c67-e64c48e757fa\" target=\"_top\" title=\"psysml:83925eaf-d327-49ae-8c67-e64c48e757fa\" xlink:actuate=\"onRequest\" xlink:href=\"psysml:83925eaf-d327-49ae-8c67-e64c48e757fa\" xlink:show=\"new\" xlink:title=\"psysml:83925eaf-d327-49ae-8c67-e64c48e757fa\" xlink:type=\"simple\"><rect fill=\"#FFFFFF\" height=\"75.5469\" id=\"E2\" style=\"stroke: #383838; stroke-width: 1.5;\" width=\"71\" x=\"58.5\" y=\"41\"/><text fill=\"#000000\" font-family=\"sans-serif\" font-size=\"12\" font-style=\"italic\" lengthAdjust=\"spacingAndGlyphs\" textLength=\"69\" x=\"59.5\" y=\"57.1387\">«item  def»</text><text fill=\"#000000\" font-family=\"sans-serif\" font-size=\"12\" lengthAdjust=\"spacingAndGlyphs\" textLength=\"8\" x=\"90\" y=\"71.1074\">C</text><line style=\"stroke: #383838; stroke-width: 1.5;\" x1=\"59.5\" x2=\"128.5\" y1=\"78.9375\" y2=\"78.9375\"/><text fill=\"#000000\" font-family=\"sans-serif\" font-size=\"11\" lengthAdjust=\"spacingAndGlyphs\" textLength=\"38\" x=\"64.5\" y=\"109.9526\">x: Real</text><line style=\"stroke: #383838; stroke-width: 1.0;\" x1=\"59.5\" x2=\"66.5\" y1=\"93.3398\" y2=\"93.3398\"/><text fill=\"#000000\" font-family=\"sans-serif\" font-size=\"11\" lengthAdjust=\"spacingAndGlyphs\" textLength=\"55\" x=\"66.5\" y=\"96.6479\">attributes</text><line style=\"stroke: #383838; stroke-width: 1.0;\" x1=\"121.5\" x2=\"128.5\" y1=\"93.3398\" y2=\"93.3398\"/></a><!--MD5=[09b614a08d8cba4a07c9adeb5e0fee81]\n",
       "class E3--><a href=\"psysml:9e9e8e01-075a-4e09-a2e1-8d13feba95d6\" target=\"_top\" title=\"psysml:9e9e8e01-075a-4e09-a2e1-8d13feba95d6\" xlink:actuate=\"onRequest\" xlink:href=\"psysml:9e9e8e01-075a-4e09-a2e1-8d13feba95d6\" xlink:show=\"new\" xlink:title=\"psysml:9e9e8e01-075a-4e09-a2e1-8d13feba95d6\" xlink:type=\"simple\"><rect fill=\"#FFFFFF\" height=\"45.9375\" id=\"E3\" rx=\"10\" ry=\"10\" style=\"stroke: #383838; stroke-width: 1.5;\" width=\"124\" x=\"32\" y=\"177\"/><text fill=\"#000000\" font-family=\"sans-serif\" font-size=\"12\" font-style=\"italic\" lengthAdjust=\"spacingAndGlyphs\" textLength=\"122\" x=\"33\" y=\"193.1387\">«assert constraint»</text><text fill=\"#000000\" font-family=\"sans-serif\" font-size=\"12\" lengthAdjust=\"spacingAndGlyphs\" textLength=\"76\" x=\"56\" y=\"207.1074\">x_constraint</text><line style=\"stroke: #383838; stroke-width: 1.5;\" x1=\"33\" x2=\"155\" y1=\"214.9375\" y2=\"214.9375\"/></a><text fill=\"#000000\" font-family=\"sans-serif\" font-size=\"14\" lengthAdjust=\"spacingAndGlyphs\" textLength=\"8\" x=\"193\" y=\"57.6982\">c</text><rect fill=\"#383838\" height=\"12\" style=\"stroke: #F8F8F8; stroke-width: 1.5;\" width=\"12\" x=\"191\" y=\"73\"/><text fill=\"#000000\" font-family=\"sans-serif\" font-size=\"14\" lengthAdjust=\"spacingAndGlyphs\" textLength=\"38\" x=\"225\" y=\"57.6982\">newX</text><rect fill=\"#383838\" height=\"12\" style=\"stroke: #F8F8F8; stroke-width: 1.5;\" width=\"12\" x=\"238\" y=\"73\"/><!--MD5=[209b3feb70ccb6233bfe1053d122c12c]\n",
       "reverse link E2 to E3--><a href=\"psysml:03d8b6ce-86e3-4804-a1ae-2a2287936712\" target=\"_top\" title=\"psysml:03d8b6ce-86e3-4804-a1ae-2a2287936712\" xlink:actuate=\"onRequest\" xlink:href=\"psysml:03d8b6ce-86e3-4804-a1ae-2a2287936712\" xlink:show=\"new\" xlink:title=\"psysml:03d8b6ce-86e3-4804-a1ae-2a2287936712\" xlink:type=\"simple\"><path d=\"M94,130.34 C94,146.61 94,163.81 94,176.93 \" fill=\"none\" id=\"E2&lt;-E3\" style=\"stroke: #383838; stroke-width: 1.0;\"/><polygon fill=\"#383838\" points=\"94,117,90,123,94,129,98,123,94,117\" style=\"stroke: #383838; stroke-width: 1.0;\"/><text fill=\"#000000\" font-family=\"sans-serif\" font-size=\"13\" lengthAdjust=\"spacingAndGlyphs\" textLength=\"7\" x=\"86.0594\" y=\"165.8075\">*</text></a><!--MD5=[f0f5e3b1f41e017cb28f0578d35664cd]\n",
       "@startuml\r\n",
       " skinparam monochrome true\r\n",
       "skinparam classbackgroundcolor white\r\n",
       "skinparam shadowing false\r\n",
       "skinparam wrapWidth 300\r\n",
       "hide circle\r\n",
       "\r\n",
       "package \"TextualRepresentationTest\" as E1  [[psysml:6b3c9659-b47e-4a53-85ed-693ccedcdfc8 ]]  {\r\n",
       "comp def \"C\" as E2  <<(T,blue) item  def>> [[psysml:83925eaf-d327-49ae-8c67-e64c48e757fa ]] {\r\n",
       "- - attributes - -\r\n",
       "x: Real\r\n",
       "}\r\n",
       "comp usage \"x_constraint\" as E3  <<(T,blue) assert constraint>> [[psysml:9e9e8e01-075a-4e09-a2e1-8d13feba95d6 ]] {\r\n",
       "}\r\n",
       "rec def \"setX\" as E4  <<(T,blue) action  def>> [[psysml:056920e1-03e4-42f5-9f87-f97cbdc58602 ]] {\r\n",
       "portin \"c\" as E5  [[psysml:01d56035-c08c-482f-9257-c9260a493ad7 ]] \r\n",
       "portin \"newX\" as E6  [[psysml:7d0c1fa2-09eb-4f19-a101-add490a57fbe ]] \r\n",
       "}\r\n",
       "\r\n",
       "}\r\n",
       "E2 *- - \"*\"E3 [[psysml:03d8b6ce-86e3-4804-a1ae-2a2287936712 ]] \r\n",
       "@enduml\r\n",
       "\n",
       "PlantUML version 1.2020.13(Sat Jun 13 12:26:38 UTC 2020)\n",
       "(EPL source distribution)\n",
       "Java Runtime: OpenJDK Runtime Environment\n",
       "JVM: OpenJDK 64-Bit Server VM\n",
       "Default Encoding: UTF-8\n",
       "Language: en\n",
       "Country: null\n",
       "--></g></svg>"
      ]
     },
     "execution_count": 2,
     "metadata": {},
     "output_type": "execute_result"
    }
   ],
   "source": [
    "%viz --style=\"COMPTREE\" --view=\"Default\" \"TextualRepresentationTest\""
   ]
  },
  {
   "cell_type": "code",
   "execution_count": 3,
   "id": "ea7463bd",
   "metadata": {
    "execution": {
     "iopub.execute_input": "2021-11-13T13:00:34.282923Z",
     "iopub.status.busy": "2021-11-13T13:00:34.282362Z",
     "iopub.status.idle": "2021-11-13T13:00:34.378798Z",
     "shell.execute_reply": "2021-11-13T13:00:34.376699Z"
    }
   },
   "outputs": [
    {
     "data": {
      "image/svg+xml": [
       "<?xml version=\"1.0\" encoding=\"UTF-8\" standalone=\"no\"?><svg xmlns=\"http://www.w3.org/2000/svg\" xmlns:xlink=\"http://www.w3.org/1999/xlink\" contentScriptType=\"application/ecmascript\" contentStyleType=\"text/css\" height=\"417px\" preserveAspectRatio=\"none\" style=\"width:242px;height:417px;\" version=\"1.1\" viewBox=\"0 0 242 417\" width=\"242px\" zoomAndPan=\"magnify\"><defs/><g><!--MD5=[fbc87193dbaf4d95561dea2c320d4a47]\n",
       "cluster E1--><a href=\"psysml:6b3c9659-b47e-4a53-85ed-693ccedcdfc8\" target=\"_top\" title=\"psysml:6b3c9659-b47e-4a53-85ed-693ccedcdfc8\" xlink:actuate=\"onRequest\" xlink:href=\"psysml:6b3c9659-b47e-4a53-85ed-693ccedcdfc8\" xlink:show=\"new\" xlink:title=\"psysml:6b3c9659-b47e-4a53-85ed-693ccedcdfc8\" xlink:type=\"simple\"><polygon fill=\"#FFFFFF\" points=\"16,6,210,6,217,28.2969,220,28.2969,220,405,16,405,16,6\" style=\"stroke: #000000; stroke-width: 1.5;\"/><line style=\"stroke: #000000; stroke-width: 1.5;\" x1=\"16\" x2=\"217\" y1=\"28.2969\" y2=\"28.2969\"/><text fill=\"#000000\" font-family=\"sans-serif\" font-size=\"14\" font-weight=\"bold\" lengthAdjust=\"spacingAndGlyphs\" textLength=\"188\" x=\"20\" y=\"20.9951\">TextualRepresentationTest</text></a><!--MD5=[b4997ac47864f28c2f74865a473b2911]\n",
       "class E2--><a href=\"psysml:83925eaf-d327-49ae-8c67-e64c48e757fa\" target=\"_top\" title=\"psysml:83925eaf-d327-49ae-8c67-e64c48e757fa\" xlink:actuate=\"onRequest\" xlink:href=\"psysml:83925eaf-d327-49ae-8c67-e64c48e757fa\" xlink:show=\"new\" xlink:title=\"psysml:83925eaf-d327-49ae-8c67-e64c48e757fa\" xlink:type=\"simple\"><rect fill=\"#FFFFFF\" height=\"75.5469\" id=\"E2\" style=\"stroke: #383838; stroke-width: 1.5;\" width=\"71\" x=\"82.5\" y=\"206\"/><text fill=\"#000000\" font-family=\"sans-serif\" font-size=\"12\" font-style=\"italic\" lengthAdjust=\"spacingAndGlyphs\" textLength=\"69\" x=\"83.5\" y=\"222.1387\">«item  def»</text><text fill=\"#000000\" font-family=\"sans-serif\" font-size=\"12\" lengthAdjust=\"spacingAndGlyphs\" textLength=\"8\" x=\"114\" y=\"236.1074\">C</text><line style=\"stroke: #383838; stroke-width: 1.5;\" x1=\"83.5\" x2=\"152.5\" y1=\"243.9375\" y2=\"243.9375\"/><text fill=\"#000000\" font-family=\"sans-serif\" font-size=\"11\" lengthAdjust=\"spacingAndGlyphs\" textLength=\"38\" x=\"88.5\" y=\"274.9526\">x: Real</text><line style=\"stroke: #383838; stroke-width: 1.0;\" x1=\"83.5\" x2=\"90.5\" y1=\"258.3398\" y2=\"258.3398\"/><text fill=\"#000000\" font-family=\"sans-serif\" font-size=\"11\" lengthAdjust=\"spacingAndGlyphs\" textLength=\"55\" x=\"90.5\" y=\"261.6479\">attributes</text><line style=\"stroke: #383838; stroke-width: 1.0;\" x1=\"145.5\" x2=\"152.5\" y1=\"258.3398\" y2=\"258.3398\"/></a><!--MD5=[09b614a08d8cba4a07c9adeb5e0fee81]\n",
       "class E3--><a href=\"psysml:9e9e8e01-075a-4e09-a2e1-8d13feba95d6\" target=\"_top\" title=\"psysml:9e9e8e01-075a-4e09-a2e1-8d13feba95d6\" xlink:actuate=\"onRequest\" xlink:href=\"psysml:9e9e8e01-075a-4e09-a2e1-8d13feba95d6\" xlink:show=\"new\" xlink:title=\"psysml:9e9e8e01-075a-4e09-a2e1-8d13feba95d6\" xlink:type=\"simple\"><rect fill=\"#FFFFFF\" height=\"45.9375\" id=\"E3\" rx=\"10\" ry=\"10\" style=\"stroke: #383838; stroke-width: 1.5;\" width=\"124\" x=\"56\" y=\"343\"/><text fill=\"#000000\" font-family=\"sans-serif\" font-size=\"12\" font-style=\"italic\" lengthAdjust=\"spacingAndGlyphs\" textLength=\"122\" x=\"57\" y=\"359.1387\">«assert constraint»</text><text fill=\"#000000\" font-family=\"sans-serif\" font-size=\"12\" lengthAdjust=\"spacingAndGlyphs\" textLength=\"76\" x=\"80\" y=\"373.1074\">x_constraint</text><line style=\"stroke: #383838; stroke-width: 1.5;\" x1=\"57\" x2=\"179\" y1=\"380.9375\" y2=\"380.9375\"/></a><!--MD5=[ebbe1d658d1005bcc118a6aa81145e00]\n",
       "class E4--><a href=\"psysml:056920e1-03e4-42f5-9f87-f97cbdc58602\" target=\"_top\" title=\"psysml:056920e1-03e4-42f5-9f87-f97cbdc58602\" xlink:actuate=\"onRequest\" xlink:href=\"psysml:056920e1-03e4-42f5-9f87-f97cbdc58602\" xlink:show=\"new\" xlink:title=\"psysml:056920e1-03e4-42f5-9f87-f97cbdc58602\" xlink:type=\"simple\"><rect fill=\"#FFFFFF\" height=\"88.3516\" id=\"E4\" style=\"stroke: #383838; stroke-width: 1.5;\" width=\"88\" x=\"74\" y=\"41\"/><text fill=\"#000000\" font-family=\"sans-serif\" font-size=\"12\" font-style=\"italic\" lengthAdjust=\"spacingAndGlyphs\" textLength=\"81\" x=\"77.5\" y=\"57.1387\">«action  def»</text><text fill=\"#000000\" font-family=\"sans-serif\" font-size=\"12\" lengthAdjust=\"spacingAndGlyphs\" textLength=\"27\" x=\"104.5\" y=\"71.1074\">setX</text><line style=\"stroke: #383838; stroke-width: 1.5;\" x1=\"75\" x2=\"161\" y1=\"78.9375\" y2=\"78.9375\"/><text fill=\"#000000\" font-family=\"sans-serif\" font-size=\"11\" font-weight=\"bold\" lengthAdjust=\"spacingAndGlyphs\" textLength=\"10\" x=\"80\" y=\"109.9526\">in</text><text fill=\"#000000\" font-family=\"sans-serif\" font-size=\"11\" lengthAdjust=\"spacingAndGlyphs\" textLength=\"22\" x=\"94\" y=\"109.9526\">c: C</text><text fill=\"#000000\" font-family=\"sans-serif\" font-size=\"11\" font-weight=\"bold\" lengthAdjust=\"spacingAndGlyphs\" textLength=\"10\" x=\"80\" y=\"122.7573\">in</text><text fill=\"#000000\" font-family=\"sans-serif\" font-size=\"11\" lengthAdjust=\"spacingAndGlyphs\" textLength=\"62\" x=\"94\" y=\"122.7573\">newX: Real</text><line style=\"stroke: #383838; stroke-width: 1.0;\" x1=\"75\" x2=\"84.5\" y1=\"93.3398\" y2=\"93.3398\"/><text fill=\"#000000\" font-family=\"sans-serif\" font-size=\"11\" lengthAdjust=\"spacingAndGlyphs\" textLength=\"67\" x=\"84.5\" y=\"96.6479\">parameters</text><line style=\"stroke: #383838; stroke-width: 1.0;\" x1=\"151.5\" x2=\"161\" y1=\"93.3398\" y2=\"93.3398\"/></a><!--MD5=[209b3feb70ccb6233bfe1053d122c12c]\n",
       "reverse link E2 to E3--><a href=\"psysml:03d8b6ce-86e3-4804-a1ae-2a2287936712\" target=\"_top\" title=\"psysml:03d8b6ce-86e3-4804-a1ae-2a2287936712\" xlink:actuate=\"onRequest\" xlink:href=\"psysml:03d8b6ce-86e3-4804-a1ae-2a2287936712\" xlink:show=\"new\" xlink:title=\"psysml:03d8b6ce-86e3-4804-a1ae-2a2287936712\" xlink:type=\"simple\"><path d=\"M118,295.76 C118,312.17 118,329.52 118,342.75 \" fill=\"none\" id=\"E2&lt;-E3\" style=\"stroke: #383838; stroke-width: 1.0;\"/><polygon fill=\"#383838\" points=\"118,282.31,114,288.31,118,294.31,122,288.31,118,282.31\" style=\"stroke: #383838; stroke-width: 1.0;\"/><text fill=\"#000000\" font-family=\"sans-serif\" font-size=\"13\" lengthAdjust=\"spacingAndGlyphs\" textLength=\"7\" x=\"110.1031\" y=\"331.9622\">*</text></a><!--MD5=[ddeed8deb2209213b62e6cfabaa108b2]\n",
       "reverse link E4 to E2--><a href=\"psysml:01d56035-c08c-482f-9257-c9260a493ad7\" target=\"_top\" title=\"psysml:01d56035-c08c-482f-9257-c9260a493ad7\" xlink:actuate=\"onRequest\" xlink:href=\"psysml:01d56035-c08c-482f-9257-c9260a493ad7\" xlink:show=\"new\" xlink:title=\"psysml:01d56035-c08c-482f-9257-c9260a493ad7\" xlink:type=\"simple\"><path d=\"M105.65,142.57 C104.42,153.63 103.96,165.16 105,176 C105.94,185.79 107.64,196.27 109.5,205.97 \" fill=\"none\" id=\"E4&lt;-E2\" style=\"stroke: #383838; stroke-width: 1.0;\"/><polygon fill=\"#FFFFFF\" points=\"107.49,129.39,102.7034,134.7834,105.841,141.2762,110.6275,135.8828,107.49,129.39\" style=\"stroke: #383838; stroke-width: 1.0;\"/><text fill=\"#000000\" font-family=\"sans-serif\" font-size=\"13\" lengthAdjust=\"spacingAndGlyphs\" textLength=\"7\" x=\"106\" y=\"172.0669\">c</text></a><!--MD5=[ddeed8deb2209213b62e6cfabaa108b2]\n",
       "reverse link E4 to E2--><a href=\"psysml:01d56035-c08c-482f-9257-c9260a493ad7\" target=\"_top\" title=\"psysml:01d56035-c08c-482f-9257-c9260a493ad7\" xlink:actuate=\"onRequest\" xlink:href=\"psysml:01d56035-c08c-482f-9257-c9260a493ad7\" xlink:show=\"new\" xlink:title=\"psysml:01d56035-c08c-482f-9257-c9260a493ad7\" xlink:type=\"simple\"><path d=\"M118,142.45 C118,163.57 118,187.02 118,205.95 \" fill=\"none\" id=\"E4&lt;-E2-1\" style=\"stroke: #383838; stroke-width: 1.0;\"/><polygon fill=\"#FFFFFF\" points=\"118,129.32,114,135.32,118,141.32,122,135.32,118,129.32\" style=\"stroke: #383838; stroke-width: 1.0;\"/><text fill=\"#000000\" font-family=\"sans-serif\" font-size=\"13\" lengthAdjust=\"spacingAndGlyphs\" textLength=\"7\" x=\"119\" y=\"172.0669\">c</text></a><!--MD5=[6bf02e82c1054951f84cff4a3f90eae4]\n",
       "@startuml\r\n",
       " skinparam monochrome true\r\n",
       "skinparam classbackgroundcolor white\r\n",
       "skinparam shadowing false\r\n",
       "skinparam wrapWidth 300\r\n",
       "hide circle\r\n",
       "\r\n",
       "package \"TextualRepresentationTest\" as E1  [[psysml:6b3c9659-b47e-4a53-85ed-693ccedcdfc8 ]]  {\r\n",
       "comp def \"C\" as E2  <<(T,blue) item  def>> [[psysml:83925eaf-d327-49ae-8c67-e64c48e757fa ]] {\r\n",
       "- - attributes - -\r\n",
       "x: Real\r\n",
       "}\r\n",
       "comp usage \"x_constraint\" as E3  <<(T,blue) assert constraint>> [[psysml:9e9e8e01-075a-4e09-a2e1-8d13feba95d6 ]] {\r\n",
       "}\r\n",
       "comp def \"setX\" as E4  <<(T,blue) action  def>> [[psysml:056920e1-03e4-42f5-9f87-f97cbdc58602 ]] {\r\n",
       "- - parameters - -\r\n",
       "<b>in</b> c: C\r\n",
       "<b>in</b> newX: Real\r\n",
       "}\r\n",
       "}\r\n",
       "E2 *- - \"*\"E3 [[psysml:03d8b6ce-86e3-4804-a1ae-2a2287936712 ]] \r\n",
       "E4 o- - E2 [[psysml:01d56035-c08c-482f-9257-c9260a493ad7 ]] : c\r\n",
       "E4 o- - E2 [[psysml:01d56035-c08c-482f-9257-c9260a493ad7 ]] : c\r\n",
       "@enduml\r\n",
       "\n",
       "PlantUML version 1.2020.13(Sat Jun 13 12:26:38 UTC 2020)\n",
       "(EPL source distribution)\n",
       "Java Runtime: OpenJDK Runtime Environment\n",
       "JVM: OpenJDK 64-Bit Server VM\n",
       "Default Encoding: UTF-8\n",
       "Language: en\n",
       "Country: null\n",
       "--></g></svg>"
      ]
     },
     "execution_count": 3,
     "metadata": {},
     "output_type": "execute_result"
    }
   ],
   "source": [
    "%viz --style=\"COMPTREE\" --view=\"Tree\" \"TextualRepresentationTest\""
   ]
  },
  {
   "cell_type": "code",
   "execution_count": 4,
   "id": "e774a439",
   "metadata": {
    "execution": {
     "iopub.execute_input": "2021-11-13T13:00:34.427522Z",
     "iopub.status.busy": "2021-11-13T13:00:34.427069Z",
     "iopub.status.idle": "2021-11-13T13:00:34.433907Z",
     "shell.execute_reply": "2021-11-13T13:00:34.434232Z"
    }
   },
   "outputs": [
    {
     "data": {
      "image/svg+xml": [
       "<?xml version=\"1.0\" encoding=\"UTF-8\" standalone=\"no\"?><svg xmlns=\"http://www.w3.org/2000/svg\" xmlns:xlink=\"http://www.w3.org/1999/xlink\" contentScriptType=\"application/ecmascript\" contentStyleType=\"text/css\" height=\"12px\" preserveAspectRatio=\"none\" style=\"width:12px;height:12px;\" version=\"1.1\" viewBox=\"0 0 12 12\" width=\"12px\" zoomAndPan=\"magnify\"><defs/><g><!--MD5=[f19188ef49e11757b5c46753f95d9edc]\n",
       "@startuml\r\n",
       " skinparam monochrome true\r\n",
       "skinparam classbackgroundcolor white\r\n",
       "skinparam shadowing false\r\n",
       "skinparam wrapWidth 300\r\n",
       "hide circle\r\n",
       "\r\n",
       "@enduml\r\n",
       "\n",
       "PlantUML version 1.2020.13(Sat Jun 13 12:26:38 UTC 2020)\n",
       "(EPL source distribution)\n",
       "Java Runtime: OpenJDK Runtime Environment\n",
       "JVM: OpenJDK 64-Bit Server VM\n",
       "Default Encoding: UTF-8\n",
       "Language: en\n",
       "Country: null\n",
       "--></g></svg>"
      ]
     },
     "execution_count": 4,
     "metadata": {},
     "output_type": "execute_result"
    }
   ],
   "source": [
    "%viz --style=\"COMPTREE\" --view=\"State\" \"TextualRepresentationTest\""
   ]
  },
  {
   "cell_type": "code",
   "execution_count": 5,
   "id": "7461bfb6",
   "metadata": {
    "execution": {
     "iopub.execute_input": "2021-11-13T13:00:34.484322Z",
     "iopub.status.busy": "2021-11-13T13:00:34.483803Z",
     "iopub.status.idle": "2021-11-13T13:00:34.523619Z",
     "shell.execute_reply": "2021-11-13T13:00:34.523949Z"
    }
   },
   "outputs": [
    {
     "data": {
      "image/svg+xml": [
       "<?xml version=\"1.0\" encoding=\"UTF-8\" standalone=\"no\"?><svg xmlns=\"http://www.w3.org/2000/svg\" xmlns:xlink=\"http://www.w3.org/1999/xlink\" contentScriptType=\"application/ecmascript\" contentStyleType=\"text/css\" height=\"179px\" preserveAspectRatio=\"none\" style=\"width:292px;height:179px;\" version=\"1.1\" viewBox=\"0 0 292 179\" width=\"292px\" zoomAndPan=\"magnify\"><defs/><g><!--MD5=[fbc87193dbaf4d95561dea2c320d4a47]\n",
       "cluster E1--><a href=\"psysml:6b3c9659-b47e-4a53-85ed-693ccedcdfc8\" target=\"_top\" title=\"psysml:6b3c9659-b47e-4a53-85ed-693ccedcdfc8\" xlink:actuate=\"onRequest\" xlink:href=\"psysml:6b3c9659-b47e-4a53-85ed-693ccedcdfc8\" xlink:show=\"new\" xlink:title=\"psysml:6b3c9659-b47e-4a53-85ed-693ccedcdfc8\" xlink:type=\"simple\"><polygon fill=\"#FFFFFF\" points=\"16,6,210,6,217,28.2969,270,28.2969,270,167,16,167,16,6\" style=\"stroke: #000000; stroke-width: 1.5;\"/><line style=\"stroke: #000000; stroke-width: 1.5;\" x1=\"16\" x2=\"217\" y1=\"28.2969\" y2=\"28.2969\"/><text fill=\"#000000\" font-family=\"sans-serif\" font-size=\"14\" font-weight=\"bold\" lengthAdjust=\"spacingAndGlyphs\" textLength=\"188\" x=\"20\" y=\"20.9951\">TextualRepresentationTest</text></a><!--MD5=[d5e69f78d87373223dbae638b30a9c99]\n",
       "cluster E3--><a href=\"psysml:056920e1-03e4-42f5-9f87-f97cbdc58602\" target=\"_top\" title=\"psysml:056920e1-03e4-42f5-9f87-f97cbdc58602\" xlink:actuate=\"onRequest\" xlink:href=\"psysml:056920e1-03e4-42f5-9f87-f97cbdc58602\" xlink:show=\"new\" xlink:title=\"psysml:056920e1-03e4-42f5-9f87-f97cbdc58602\" xlink:type=\"simple\"><rect fill=\"#FFFFFF\" height=\"88.5\" id=\"E3\" style=\"stroke: #383838; stroke-width: 1.5;\" width=\"100\" x=\"122.5\" y=\"62.5\"/><rect fill=\"#F8F8F8\" height=\"37.9375\" style=\"stroke: #383838; stroke-width: 1.5;\" width=\"100\" x=\"122.5\" y=\"62.5\"/><text fill=\"#000000\" font-family=\"sans-serif\" font-size=\"12\" font-style=\"italic\" lengthAdjust=\"spacingAndGlyphs\" textLength=\"81\" x=\"132\" y=\"78.6387\">«action  def»</text><text fill=\"#000000\" font-family=\"sans-serif\" font-size=\"12\" lengthAdjust=\"spacingAndGlyphs\" textLength=\"27\" x=\"159\" y=\"92.6074\">setX</text></a><g id=\"E1.E2\"><a href=\"psysml:83925eaf-d327-49ae-8c67-e64c48e757fa\" target=\"_top\" title=\"psysml:83925eaf-d327-49ae-8c67-e64c48e757fa\" xlink:actuate=\"onRequest\" xlink:href=\"psysml:83925eaf-d327-49ae-8c67-e64c48e757fa\" xlink:show=\"new\" xlink:title=\"psysml:83925eaf-d327-49ae-8c67-e64c48e757fa\" xlink:type=\"simple\"><rect fill=\"#FFFFFF\" height=\"42.9375\" id=\"E2\" style=\"stroke: #383838; stroke-width: 1.5;\" width=\"76\" x=\"32\" y=\"41\"/><rect fill=\"#F8F8F8\" height=\"37.9375\" style=\"stroke: #383838; stroke-width: 1.5;\" width=\"76\" x=\"32\" y=\"41\"/><text fill=\"#000000\" font-family=\"sans-serif\" font-size=\"12\" font-style=\"italic\" lengthAdjust=\"spacingAndGlyphs\" textLength=\"69\" x=\"35.5\" y=\"57.1387\">«item  def»</text><text fill=\"#000000\" font-family=\"sans-serif\" font-size=\"12\" lengthAdjust=\"spacingAndGlyphs\" textLength=\"8\" x=\"66\" y=\"71.1074\">C</text></a></g><text fill=\"#000000\" font-family=\"sans-serif\" font-size=\"14\" lengthAdjust=\"spacingAndGlyphs\" textLength=\"8\" x=\"145\" y=\"41.1982\">c</text><rect fill=\"#383838\" height=\"12\" style=\"stroke: #F8F8F8; stroke-width: 1.5;\" width=\"12\" x=\"143\" y=\"56.5\"/><text fill=\"#000000\" font-family=\"sans-serif\" font-size=\"14\" lengthAdjust=\"spacingAndGlyphs\" textLength=\"38\" x=\"177\" y=\"41.1982\">newX</text><rect fill=\"#383838\" height=\"12\" style=\"stroke: #F8F8F8; stroke-width: 1.5;\" width=\"12\" x=\"190\" y=\"56.5\"/><!--MD5=[53792c61fa6d5f4daf9428b21f355186]\n",
       "@startuml\r\n",
       "skinparam ranksep 10\r\n",
       "skinparam rectangle {\r\n",
       " backgroundColor<<block>> LightGreen\r\n",
       "}\r\n",
       " skinparam monochrome true\r\n",
       "skinparam classbackgroundcolor white\r\n",
       "skinparam shadowing false\r\n",
       "skinparam wrapWidth 300\r\n",
       "hide circle\r\n",
       "\r\n",
       "package \"TextualRepresentationTest\" as E1  [[psysml:6b3c9659-b47e-4a53-85ed-693ccedcdfc8 ]]  {\r\n",
       "def \"C\" as E2  <<(T,blue) item  def>> [[psysml:83925eaf-d327-49ae-8c67-e64c48e757fa ]] \r\n",
       "rec def \"setX\" as E3  <<(T,blue) action  def>> [[psysml:056920e1-03e4-42f5-9f87-f97cbdc58602 ]] {\r\n",
       "portin \"c\" as E4  [[psysml:01d56035-c08c-482f-9257-c9260a493ad7 ]] \r\n",
       "portin \"newX\" as E5  [[psysml:7d0c1fa2-09eb-4f19-a101-add490a57fbe ]] \r\n",
       "}\r\n",
       "\r\n",
       "}\r\n",
       "@enduml\r\n",
       "\n",
       "PlantUML version 1.2020.13(Sat Jun 13 12:26:38 UTC 2020)\n",
       "(EPL source distribution)\n",
       "Java Runtime: OpenJDK Runtime Environment\n",
       "JVM: OpenJDK 64-Bit Server VM\n",
       "Default Encoding: UTF-8\n",
       "Language: en\n",
       "Country: null\n",
       "--></g></svg>"
      ]
     },
     "execution_count": 5,
     "metadata": {},
     "output_type": "execute_result"
    }
   ],
   "source": [
    "%viz --style=\"COMPTREE\" --view=\"Interconnection\" \"TextualRepresentationTest\""
   ]
  },
  {
   "cell_type": "code",
   "execution_count": 6,
   "id": "0fbe20c9",
   "metadata": {
    "execution": {
     "iopub.execute_input": "2021-11-13T13:00:34.573453Z",
     "iopub.status.busy": "2021-11-13T13:00:34.573120Z",
     "iopub.status.idle": "2021-11-13T13:00:34.604046Z",
     "shell.execute_reply": "2021-11-13T13:00:34.604390Z"
    }
   },
   "outputs": [
    {
     "data": {
      "image/svg+xml": [
       "<?xml version=\"1.0\" encoding=\"UTF-8\" standalone=\"no\"?><svg xmlns=\"http://www.w3.org/2000/svg\" xmlns:xlink=\"http://www.w3.org/1999/xlink\" contentScriptType=\"application/ecmascript\" contentStyleType=\"text/css\" height=\"126px\" preserveAspectRatio=\"none\" style=\"width:152px;height:126px;\" version=\"1.1\" viewBox=\"0 0 152 126\" width=\"152px\" zoomAndPan=\"magnify\"><defs/><g><!--MD5=[fbc87193dbaf4d95561dea2c320d4a47]\n",
       "cluster E1--><a href=\"psysml:056920e1-03e4-42f5-9f87-f97cbdc58602\" target=\"_top\" title=\"psysml:056920e1-03e4-42f5-9f87-f97cbdc58602\" xlink:actuate=\"onRequest\" xlink:href=\"psysml:056920e1-03e4-42f5-9f87-f97cbdc58602\" xlink:show=\"new\" xlink:title=\"psysml:056920e1-03e4-42f5-9f87-f97cbdc58602\" xlink:type=\"simple\"><rect fill=\"#FFFFFF\" height=\"73\" id=\"E1\" style=\"stroke: #383838; stroke-width: 1.5;\" width=\"134\" x=\"7\" y=\"42.0986\"/><rect fill=\"#F8F8F8\" height=\"37.9375\" style=\"stroke: #383838; stroke-width: 1.5;\" width=\"134\" x=\"7\" y=\"42.0986\"/><text fill=\"#000000\" font-family=\"sans-serif\" font-size=\"12\" font-style=\"italic\" lengthAdjust=\"spacingAndGlyphs\" textLength=\"81\" x=\"33.5\" y=\"58.2373\">«action  def»</text><text fill=\"#000000\" font-family=\"sans-serif\" font-size=\"12\" lengthAdjust=\"spacingAndGlyphs\" textLength=\"27\" x=\"60.5\" y=\"72.2061\">setX</text></a><text fill=\"#000000\" font-family=\"sans-serif\" font-size=\"14\" lengthAdjust=\"spacingAndGlyphs\" textLength=\"8\" x=\"21\" y=\"20.7969\">c</text><rect fill=\"#383838\" height=\"12\" style=\"stroke: #F8F8F8; stroke-width: 1.5;\" width=\"12\" x=\"19\" y=\"36.0986\"/><text fill=\"#000000\" font-family=\"sans-serif\" font-size=\"14\" lengthAdjust=\"spacingAndGlyphs\" textLength=\"38\" x=\"53\" y=\"20.7969\">newX</text><rect fill=\"#383838\" height=\"12\" style=\"stroke: #F8F8F8; stroke-width: 1.5;\" width=\"12\" x=\"66\" y=\"36.0986\"/><!--MD5=[ec8ce15f62c8e7d97a60fc15b1002249]\n",
       "@startuml\r\n",
       "skinparam ranksep 8\r\n",
       " skinparam monochrome true\r\n",
       "skinparam classbackgroundcolor white\r\n",
       "skinparam shadowing false\r\n",
       "skinparam wrapWidth 300\r\n",
       "hide circle\r\n",
       "\r\n",
       "rec def \"setX\" as E1  <<(T,blue) action  def>> [[psysml:056920e1-03e4-42f5-9f87-f97cbdc58602 ]] {\r\n",
       "portin \"c\" as E2  [[psysml:01d56035-c08c-482f-9257-c9260a493ad7 ]] \r\n",
       "portin \"newX\" as E3  [[psysml:7d0c1fa2-09eb-4f19-a101-add490a57fbe ]] \r\n",
       "}\r\n",
       "\r\n",
       "@enduml\r\n",
       "\n",
       "PlantUML version 1.2020.13(Sat Jun 13 12:26:38 UTC 2020)\n",
       "(EPL source distribution)\n",
       "Java Runtime: OpenJDK Runtime Environment\n",
       "JVM: OpenJDK 64-Bit Server VM\n",
       "Default Encoding: UTF-8\n",
       "Language: en\n",
       "Country: null\n",
       "--></g></svg>"
      ]
     },
     "execution_count": 6,
     "metadata": {},
     "output_type": "execute_result"
    }
   ],
   "source": [
    "%viz --style=\"COMPTREE\" --view=\"Action\" \"TextualRepresentationTest\""
   ]
  },
  {
   "cell_type": "code",
   "execution_count": 7,
   "id": "2657fb80",
   "metadata": {
    "execution": {
     "iopub.execute_input": "2021-11-13T13:00:34.654545Z",
     "iopub.status.busy": "2021-11-13T13:00:34.654159Z",
     "iopub.status.idle": "2021-11-13T13:00:34.667499Z",
     "shell.execute_reply": "2021-11-13T13:00:34.667842Z"
    }
   },
   "outputs": [
    {
     "data": {
      "image/svg+xml": [
       "<?xml version=\"1.0\" encoding=\"UTF-8\" standalone=\"no\"?><svg xmlns=\"http://www.w3.org/2000/svg\" xmlns:xlink=\"http://www.w3.org/1999/xlink\" contentScriptType=\"application/ecmascript\" contentStyleType=\"text/css\" height=\"12px\" preserveAspectRatio=\"none\" style=\"width:12px;height:12px;\" version=\"1.1\" viewBox=\"0 0 12 12\" width=\"12px\" zoomAndPan=\"magnify\"><defs/><g><!--MD5=[803fc46c337be7a5c8a9831e35356779]\n",
       "@startuml\r\n",
       "skinparam roundcorner 20\r\n",
       "skinparam BoxPadding 20\r\n",
       "skinparam SequenceBoxBackgroundColor #white\r\n",
       "skinparam style strictuml\r\n",
       "skinparam maxMessageSize 100\r\n",
       " skinparam monochrome true\r\n",
       "skinparam classbackgroundcolor white\r\n",
       "skinparam shadowing false\r\n",
       "skinparam wrapWidth 300\r\n",
       "hide circle\r\n",
       "\r\n",
       "@enduml\r\n",
       "\n",
       "PlantUML version 1.2020.13(Sat Jun 13 12:26:38 UTC 2020)\n",
       "(EPL source distribution)\n",
       "Java Runtime: OpenJDK Runtime Environment\n",
       "JVM: OpenJDK 64-Bit Server VM\n",
       "Default Encoding: UTF-8\n",
       "Language: en\n",
       "Country: null\n",
       "--></g></svg>"
      ]
     },
     "execution_count": 7,
     "metadata": {},
     "output_type": "execute_result"
    }
   ],
   "source": [
    "%viz --style=\"COMPTREE\" --view=\"Sequence\" \"TextualRepresentationTest\""
   ]
  },
  {
   "cell_type": "code",
   "execution_count": 8,
   "id": "8a2c39b7",
   "metadata": {
    "execution": {
     "iopub.execute_input": "2021-11-13T13:00:34.717869Z",
     "iopub.status.busy": "2021-11-13T13:00:34.717467Z",
     "iopub.status.idle": "2021-11-13T13:00:34.778561Z",
     "shell.execute_reply": "2021-11-13T13:00:34.776992Z"
    }
   },
   "outputs": [
    {
     "data": {
      "image/svg+xml": [
       "<?xml version=\"1.0\" encoding=\"UTF-8\" standalone=\"no\"?><svg xmlns=\"http://www.w3.org/2000/svg\" xmlns:xlink=\"http://www.w3.org/1999/xlink\" contentScriptType=\"application/ecmascript\" contentStyleType=\"text/css\" height=\"261px\" preserveAspectRatio=\"none\" style=\"width:351px;height:261px;\" version=\"1.1\" viewBox=\"0 0 351 261\" width=\"351px\" zoomAndPan=\"magnify\"><defs/><g><!--MD5=[fbc87193dbaf4d95561dea2c320d4a47]\n",
       "cluster E1--><a href=\"psysml:6b3c9659-b47e-4a53-85ed-693ccedcdfc8\" target=\"_top\" title=\"psysml:6b3c9659-b47e-4a53-85ed-693ccedcdfc8\" xlink:actuate=\"onRequest\" xlink:href=\"psysml:6b3c9659-b47e-4a53-85ed-693ccedcdfc8\" xlink:show=\"new\" xlink:title=\"psysml:6b3c9659-b47e-4a53-85ed-693ccedcdfc8\" xlink:type=\"simple\"><polygon fill=\"#FFFFFF\" points=\"16,6,210,6,217,28.2969,329,28.2969,329,249.5,16,249.5,16,6\" style=\"stroke: #000000; stroke-width: 1.5;\"/><line style=\"stroke: #000000; stroke-width: 1.5;\" x1=\"16\" x2=\"217\" y1=\"28.2969\" y2=\"28.2969\"/><text fill=\"#000000\" font-family=\"sans-serif\" font-size=\"14\" font-weight=\"bold\" lengthAdjust=\"spacingAndGlyphs\" textLength=\"188\" x=\"20\" y=\"20.9951\">TextualRepresentationTest</text></a><!--MD5=[f6df4d0ebaf0b5dfb2ced0ae5af7c670]\n",
       "cluster E4--><a href=\"psysml:056920e1-03e4-42f5-9f87-f97cbdc58602\" target=\"_top\" title=\"psysml:056920e1-03e4-42f5-9f87-f97cbdc58602\" xlink:actuate=\"onRequest\" xlink:href=\"psysml:056920e1-03e4-42f5-9f87-f97cbdc58602\" xlink:show=\"new\" xlink:title=\"psysml:056920e1-03e4-42f5-9f87-f97cbdc58602\" xlink:type=\"simple\"><rect fill=\"#FFFFFF\" height=\"154.5\" id=\"E4\" style=\"stroke: #383838; stroke-width: 1.5;\" width=\"134\" x=\"179\" y=\"79\"/><rect fill=\"#F8F8F8\" height=\"37.9375\" style=\"stroke: #383838; stroke-width: 1.5;\" width=\"134\" x=\"179\" y=\"79\"/><text fill=\"#000000\" font-family=\"sans-serif\" font-size=\"12\" font-style=\"italic\" lengthAdjust=\"spacingAndGlyphs\" textLength=\"81\" x=\"205.5\" y=\"95.1387\">«action  def»</text><text fill=\"#000000\" font-family=\"sans-serif\" font-size=\"12\" lengthAdjust=\"spacingAndGlyphs\" textLength=\"27\" x=\"232.5\" y=\"109.1074\">setX</text></a><!--MD5=[b4997ac47864f28c2f74865a473b2911]\n",
       "class E2--><a href=\"psysml:83925eaf-d327-49ae-8c67-e64c48e757fa\" target=\"_top\" title=\"psysml:83925eaf-d327-49ae-8c67-e64c48e757fa\" xlink:actuate=\"onRequest\" xlink:href=\"psysml:83925eaf-d327-49ae-8c67-e64c48e757fa\" xlink:show=\"new\" xlink:title=\"psysml:83925eaf-d327-49ae-8c67-e64c48e757fa\" xlink:type=\"simple\"><rect fill=\"#FFFFFF\" height=\"75.5469\" id=\"E2\" style=\"stroke: #383838; stroke-width: 1.5;\" width=\"71\" x=\"58.5\" y=\"41\"/><text fill=\"#000000\" font-family=\"sans-serif\" font-size=\"12\" font-style=\"italic\" lengthAdjust=\"spacingAndGlyphs\" textLength=\"69\" x=\"59.5\" y=\"57.1387\">«item  def»</text><text fill=\"#000000\" font-family=\"sans-serif\" font-size=\"12\" lengthAdjust=\"spacingAndGlyphs\" textLength=\"8\" x=\"90\" y=\"71.1074\">C</text><line style=\"stroke: #383838; stroke-width: 1.5;\" x1=\"59.5\" x2=\"128.5\" y1=\"78.9375\" y2=\"78.9375\"/><text fill=\"#000000\" font-family=\"sans-serif\" font-size=\"11\" lengthAdjust=\"spacingAndGlyphs\" textLength=\"38\" x=\"64.5\" y=\"109.9526\">x: Real</text><line style=\"stroke: #383838; stroke-width: 1.0;\" x1=\"59.5\" x2=\"66.5\" y1=\"93.3398\" y2=\"93.3398\"/><text fill=\"#000000\" font-family=\"sans-serif\" font-size=\"11\" lengthAdjust=\"spacingAndGlyphs\" textLength=\"55\" x=\"66.5\" y=\"96.6479\">attributes</text><line style=\"stroke: #383838; stroke-width: 1.0;\" x1=\"121.5\" x2=\"128.5\" y1=\"93.3398\" y2=\"93.3398\"/></a><!--MD5=[09b614a08d8cba4a07c9adeb5e0fee81]\n",
       "class E3--><a href=\"psysml:9e9e8e01-075a-4e09-a2e1-8d13feba95d6\" target=\"_top\" title=\"psysml:9e9e8e01-075a-4e09-a2e1-8d13feba95d6\" xlink:actuate=\"onRequest\" xlink:href=\"psysml:9e9e8e01-075a-4e09-a2e1-8d13feba95d6\" xlink:show=\"new\" xlink:title=\"psysml:9e9e8e01-075a-4e09-a2e1-8d13feba95d6\" xlink:type=\"simple\"><rect fill=\"#FFFFFF\" height=\"45.9375\" id=\"E3\" rx=\"10\" ry=\"10\" style=\"stroke: #383838; stroke-width: 1.5;\" width=\"124\" x=\"32\" y=\"177\"/><text fill=\"#000000\" font-family=\"sans-serif\" font-size=\"12\" font-style=\"italic\" lengthAdjust=\"spacingAndGlyphs\" textLength=\"122\" x=\"33\" y=\"193.1387\">«assert constraint»</text><text fill=\"#000000\" font-family=\"sans-serif\" font-size=\"12\" lengthAdjust=\"spacingAndGlyphs\" textLength=\"76\" x=\"56\" y=\"207.1074\">x_constraint</text><line style=\"stroke: #383838; stroke-width: 1.5;\" x1=\"33\" x2=\"155\" y1=\"214.9375\" y2=\"214.9375\"/></a><text fill=\"#000000\" font-family=\"sans-serif\" font-size=\"14\" lengthAdjust=\"spacingAndGlyphs\" textLength=\"8\" x=\"193\" y=\"57.6982\">c</text><rect fill=\"#383838\" height=\"12\" style=\"stroke: #F8F8F8; stroke-width: 1.5;\" width=\"12\" x=\"191\" y=\"73\"/><text fill=\"#000000\" font-family=\"sans-serif\" font-size=\"14\" lengthAdjust=\"spacingAndGlyphs\" textLength=\"38\" x=\"225\" y=\"57.6982\">newX</text><rect fill=\"#383838\" height=\"12\" style=\"stroke: #F8F8F8; stroke-width: 1.5;\" width=\"12\" x=\"238\" y=\"73\"/><!--MD5=[209b3feb70ccb6233bfe1053d122c12c]\n",
       "reverse link E2 to E3--><a href=\"psysml:03d8b6ce-86e3-4804-a1ae-2a2287936712\" target=\"_top\" title=\"psysml:03d8b6ce-86e3-4804-a1ae-2a2287936712\" xlink:actuate=\"onRequest\" xlink:href=\"psysml:03d8b6ce-86e3-4804-a1ae-2a2287936712\" xlink:show=\"new\" xlink:title=\"psysml:03d8b6ce-86e3-4804-a1ae-2a2287936712\" xlink:type=\"simple\"><path d=\"M94,130.34 C94,146.61 94,163.81 94,176.93 \" fill=\"none\" id=\"E2&lt;-E3\" style=\"stroke: #383838; stroke-width: 1.0;\"/><polygon fill=\"#383838\" points=\"94,117,90,123,94,129,98,123,94,117\" style=\"stroke: #383838; stroke-width: 1.0;\"/><text fill=\"#000000\" font-family=\"sans-serif\" font-size=\"13\" lengthAdjust=\"spacingAndGlyphs\" textLength=\"7\" x=\"86.0594\" y=\"165.8075\">*</text></a><!--MD5=[f0f5e3b1f41e017cb28f0578d35664cd]\n",
       "@startuml\r\n",
       " skinparam monochrome true\r\n",
       "skinparam classbackgroundcolor white\r\n",
       "skinparam shadowing false\r\n",
       "skinparam wrapWidth 300\r\n",
       "hide circle\r\n",
       "\r\n",
       "package \"TextualRepresentationTest\" as E1  [[psysml:6b3c9659-b47e-4a53-85ed-693ccedcdfc8 ]]  {\r\n",
       "comp def \"C\" as E2  <<(T,blue) item  def>> [[psysml:83925eaf-d327-49ae-8c67-e64c48e757fa ]] {\r\n",
       "- - attributes - -\r\n",
       "x: Real\r\n",
       "}\r\n",
       "comp usage \"x_constraint\" as E3  <<(T,blue) assert constraint>> [[psysml:9e9e8e01-075a-4e09-a2e1-8d13feba95d6 ]] {\r\n",
       "}\r\n",
       "rec def \"setX\" as E4  <<(T,blue) action  def>> [[psysml:056920e1-03e4-42f5-9f87-f97cbdc58602 ]] {\r\n",
       "portin \"c\" as E5  [[psysml:01d56035-c08c-482f-9257-c9260a493ad7 ]] \r\n",
       "portin \"newX\" as E6  [[psysml:7d0c1fa2-09eb-4f19-a101-add490a57fbe ]] \r\n",
       "}\r\n",
       "\r\n",
       "}\r\n",
       "E2 *- - \"*\"E3 [[psysml:03d8b6ce-86e3-4804-a1ae-2a2287936712 ]] \r\n",
       "@enduml\r\n",
       "\n",
       "PlantUML version 1.2020.13(Sat Jun 13 12:26:38 UTC 2020)\n",
       "(EPL source distribution)\n",
       "Java Runtime: OpenJDK Runtime Environment\n",
       "JVM: OpenJDK 64-Bit Server VM\n",
       "Default Encoding: UTF-8\n",
       "Language: en\n",
       "Country: null\n",
       "--></g></svg>"
      ]
     },
     "execution_count": 8,
     "metadata": {},
     "output_type": "execute_result"
    }
   ],
   "source": [
    "%viz --style=\"COMPTREE\" --view=\"MIXED\" \"TextualRepresentationTest\""
   ]
  },
  {
   "cell_type": "code",
   "execution_count": 9,
   "id": "2f6c8070",
   "metadata": {
    "execution": {
     "iopub.execute_input": "2021-11-13T13:00:34.828113Z",
     "iopub.status.busy": "2021-11-13T13:00:34.827718Z",
     "iopub.status.idle": "2021-11-13T13:00:34.909936Z",
     "shell.execute_reply": "2021-11-13T13:00:34.909617Z"
    }
   },
   "outputs": [
    {
     "data": {
      "image/svg+xml": [
       "<?xml version=\"1.0\" encoding=\"UTF-8\" standalone=\"no\"?><svg xmlns=\"http://www.w3.org/2000/svg\" xmlns:xlink=\"http://www.w3.org/1999/xlink\" contentScriptType=\"application/ecmascript\" contentStyleType=\"text/css\" height=\"261px\" preserveAspectRatio=\"none\" style=\"width:351px;height:261px;\" version=\"1.1\" viewBox=\"0 0 351 261\" width=\"351px\" zoomAndPan=\"magnify\"><defs/><g><!--MD5=[fbc87193dbaf4d95561dea2c320d4a47]\n",
       "cluster E1--><a href=\"psysml:6b3c9659-b47e-4a53-85ed-693ccedcdfc8\" target=\"_top\" title=\"psysml:6b3c9659-b47e-4a53-85ed-693ccedcdfc8\" xlink:actuate=\"onRequest\" xlink:href=\"psysml:6b3c9659-b47e-4a53-85ed-693ccedcdfc8\" xlink:show=\"new\" xlink:title=\"psysml:6b3c9659-b47e-4a53-85ed-693ccedcdfc8\" xlink:type=\"simple\"><polygon fill=\"#FFFFFF\" points=\"16,6,210,6,217,28.2969,329,28.2969,329,249.5,16,249.5,16,6\" style=\"stroke: #000000; stroke-width: 1.5;\"/><line style=\"stroke: #000000; stroke-width: 1.5;\" x1=\"16\" x2=\"217\" y1=\"28.2969\" y2=\"28.2969\"/><text fill=\"#000000\" font-family=\"sans-serif\" font-size=\"14\" font-weight=\"bold\" lengthAdjust=\"spacingAndGlyphs\" textLength=\"188\" x=\"20\" y=\"20.9951\">TextualRepresentationTest</text></a><!--MD5=[f6df4d0ebaf0b5dfb2ced0ae5af7c670]\n",
       "cluster E4--><a href=\"psysml:056920e1-03e4-42f5-9f87-f97cbdc58602\" target=\"_top\" title=\"psysml:056920e1-03e4-42f5-9f87-f97cbdc58602\" xlink:actuate=\"onRequest\" xlink:href=\"psysml:056920e1-03e4-42f5-9f87-f97cbdc58602\" xlink:show=\"new\" xlink:title=\"psysml:056920e1-03e4-42f5-9f87-f97cbdc58602\" xlink:type=\"simple\"><rect fill=\"#FFFFFF\" height=\"154.5\" id=\"E4\" style=\"stroke: #383838; stroke-width: 1.5;\" width=\"134\" x=\"179\" y=\"79\"/><rect fill=\"#F8F8F8\" height=\"37.9375\" style=\"stroke: #383838; stroke-width: 1.5;\" width=\"134\" x=\"179\" y=\"79\"/><text fill=\"#000000\" font-family=\"sans-serif\" font-size=\"12\" font-style=\"italic\" lengthAdjust=\"spacingAndGlyphs\" textLength=\"81\" x=\"205.5\" y=\"95.1387\">«action  def»</text><text fill=\"#000000\" font-family=\"sans-serif\" font-size=\"12\" lengthAdjust=\"spacingAndGlyphs\" textLength=\"27\" x=\"232.5\" y=\"109.1074\">setX</text></a><!--MD5=[b4997ac47864f28c2f74865a473b2911]\n",
       "class E2--><a href=\"psysml:83925eaf-d327-49ae-8c67-e64c48e757fa\" target=\"_top\" title=\"psysml:83925eaf-d327-49ae-8c67-e64c48e757fa\" xlink:actuate=\"onRequest\" xlink:href=\"psysml:83925eaf-d327-49ae-8c67-e64c48e757fa\" xlink:show=\"new\" xlink:title=\"psysml:83925eaf-d327-49ae-8c67-e64c48e757fa\" xlink:type=\"simple\"><rect fill=\"#FFFFFF\" height=\"75.5469\" id=\"E2\" style=\"stroke: #383838; stroke-width: 1.5;\" width=\"71\" x=\"58.5\" y=\"41\"/><text fill=\"#000000\" font-family=\"sans-serif\" font-size=\"12\" font-style=\"italic\" lengthAdjust=\"spacingAndGlyphs\" textLength=\"69\" x=\"59.5\" y=\"57.1387\">«item  def»</text><text fill=\"#000000\" font-family=\"sans-serif\" font-size=\"12\" lengthAdjust=\"spacingAndGlyphs\" textLength=\"8\" x=\"90\" y=\"71.1074\">C</text><line style=\"stroke: #383838; stroke-width: 1.5;\" x1=\"59.5\" x2=\"128.5\" y1=\"78.9375\" y2=\"78.9375\"/><text fill=\"#000000\" font-family=\"sans-serif\" font-size=\"11\" lengthAdjust=\"spacingAndGlyphs\" textLength=\"38\" x=\"64.5\" y=\"109.9526\">x: Real</text><line style=\"stroke: #383838; stroke-width: 1.0;\" x1=\"59.5\" x2=\"66.5\" y1=\"93.3398\" y2=\"93.3398\"/><text fill=\"#000000\" font-family=\"sans-serif\" font-size=\"11\" lengthAdjust=\"spacingAndGlyphs\" textLength=\"55\" x=\"66.5\" y=\"96.6479\">attributes</text><line style=\"stroke: #383838; stroke-width: 1.0;\" x1=\"121.5\" x2=\"128.5\" y1=\"93.3398\" y2=\"93.3398\"/></a><!--MD5=[09b614a08d8cba4a07c9adeb5e0fee81]\n",
       "class E3--><a href=\"psysml:9e9e8e01-075a-4e09-a2e1-8d13feba95d6\" target=\"_top\" title=\"psysml:9e9e8e01-075a-4e09-a2e1-8d13feba95d6\" xlink:actuate=\"onRequest\" xlink:href=\"psysml:9e9e8e01-075a-4e09-a2e1-8d13feba95d6\" xlink:show=\"new\" xlink:title=\"psysml:9e9e8e01-075a-4e09-a2e1-8d13feba95d6\" xlink:type=\"simple\"><rect fill=\"#FFFFFF\" height=\"45.9375\" id=\"E3\" rx=\"10\" ry=\"10\" style=\"stroke: #383838; stroke-width: 1.5;\" width=\"124\" x=\"32\" y=\"177\"/><text fill=\"#000000\" font-family=\"sans-serif\" font-size=\"12\" font-style=\"italic\" lengthAdjust=\"spacingAndGlyphs\" textLength=\"122\" x=\"33\" y=\"193.1387\">«assert constraint»</text><text fill=\"#000000\" font-family=\"sans-serif\" font-size=\"12\" lengthAdjust=\"spacingAndGlyphs\" textLength=\"76\" x=\"56\" y=\"207.1074\">x_constraint</text><line style=\"stroke: #383838; stroke-width: 1.5;\" x1=\"33\" x2=\"155\" y1=\"214.9375\" y2=\"214.9375\"/></a><text fill=\"#000000\" font-family=\"sans-serif\" font-size=\"14\" lengthAdjust=\"spacingAndGlyphs\" textLength=\"8\" x=\"193\" y=\"57.6982\">c</text><rect fill=\"#383838\" height=\"12\" style=\"stroke: #F8F8F8; stroke-width: 1.5;\" width=\"12\" x=\"191\" y=\"73\"/><text fill=\"#000000\" font-family=\"sans-serif\" font-size=\"14\" lengthAdjust=\"spacingAndGlyphs\" textLength=\"38\" x=\"225\" y=\"57.6982\">newX</text><rect fill=\"#383838\" height=\"12\" style=\"stroke: #F8F8F8; stroke-width: 1.5;\" width=\"12\" x=\"238\" y=\"73\"/><!--MD5=[209b3feb70ccb6233bfe1053d122c12c]\n",
       "reverse link E2 to E3--><a href=\"psysml:03d8b6ce-86e3-4804-a1ae-2a2287936712\" target=\"_top\" title=\"psysml:03d8b6ce-86e3-4804-a1ae-2a2287936712\" xlink:actuate=\"onRequest\" xlink:href=\"psysml:03d8b6ce-86e3-4804-a1ae-2a2287936712\" xlink:show=\"new\" xlink:title=\"psysml:03d8b6ce-86e3-4804-a1ae-2a2287936712\" xlink:type=\"simple\"><path d=\"M94,130.34 C94,146.61 94,163.81 94,176.93 \" fill=\"none\" id=\"E2&lt;-E3\" style=\"stroke: #383838; stroke-width: 1.0;\"/><polygon fill=\"#383838\" points=\"94,117,90,123,94,129,98,123,94,117\" style=\"stroke: #383838; stroke-width: 1.0;\"/><text fill=\"#000000\" font-family=\"sans-serif\" font-size=\"13\" lengthAdjust=\"spacingAndGlyphs\" textLength=\"7\" x=\"86.0594\" y=\"165.8075\">*</text></a><!--MD5=[03a7aee90665a5611de21d7f2c5b7446]\n",
       "@startuml\r\n",
       "skinparam linetype polyline\r\n",
       "skinparam monochrome true\r\n",
       "skinparam classbackgroundcolor white\r\n",
       "skinparam shadowing false\r\n",
       "skinparam wrapWidth 300\r\n",
       "hide circle\r\n",
       "\r\n",
       "package \"TextualRepresentationTest\" as E1  [[psysml:6b3c9659-b47e-4a53-85ed-693ccedcdfc8 ]]  {\r\n",
       "comp def \"C\" as E2  <<(T,blue) item  def>> [[psysml:83925eaf-d327-49ae-8c67-e64c48e757fa ]] {\r\n",
       "- - attributes - -\r\n",
       "x: Real\r\n",
       "}\r\n",
       "comp usage \"x_constraint\" as E3  <<(T,blue) assert constraint>> [[psysml:9e9e8e01-075a-4e09-a2e1-8d13feba95d6 ]] {\r\n",
       "}\r\n",
       "rec def \"setX\" as E4  <<(T,blue) action  def>> [[psysml:056920e1-03e4-42f5-9f87-f97cbdc58602 ]] {\r\n",
       "portin \"c\" as E5  [[psysml:01d56035-c08c-482f-9257-c9260a493ad7 ]] \r\n",
       "portin \"newX\" as E6  [[psysml:7d0c1fa2-09eb-4f19-a101-add490a57fbe ]] \r\n",
       "}\r\n",
       "\r\n",
       "}\r\n",
       "E2 *- - \"*\"E3 [[psysml:03d8b6ce-86e3-4804-a1ae-2a2287936712 ]] \r\n",
       "@enduml\r\n",
       "\n",
       "PlantUML version 1.2020.13(Sat Jun 13 12:26:38 UTC 2020)\n",
       "(EPL source distribution)\n",
       "Java Runtime: OpenJDK Runtime Environment\n",
       "JVM: OpenJDK 64-Bit Server VM\n",
       "Default Encoding: UTF-8\n",
       "Language: en\n",
       "Country: null\n",
       "--></g></svg>"
      ]
     },
     "execution_count": 9,
     "metadata": {},
     "output_type": "execute_result"
    }
   ],
   "source": [
    "%viz --style=\"POLYLINE\" --view=\"Default\" \"TextualRepresentationTest\""
   ]
  },
  {
   "cell_type": "code",
   "execution_count": 10,
   "id": "02d26848",
   "metadata": {
    "execution": {
     "iopub.execute_input": "2021-11-13T13:00:34.959283Z",
     "iopub.status.busy": "2021-11-13T13:00:34.959038Z",
     "iopub.status.idle": "2021-11-13T13:00:35.038341Z",
     "shell.execute_reply": "2021-11-13T13:00:35.037980Z"
    }
   },
   "outputs": [
    {
     "data": {
      "image/svg+xml": [
       "<?xml version=\"1.0\" encoding=\"UTF-8\" standalone=\"no\"?><svg xmlns=\"http://www.w3.org/2000/svg\" xmlns:xlink=\"http://www.w3.org/1999/xlink\" contentScriptType=\"application/ecmascript\" contentStyleType=\"text/css\" height=\"417px\" preserveAspectRatio=\"none\" style=\"width:242px;height:417px;\" version=\"1.1\" viewBox=\"0 0 242 417\" width=\"242px\" zoomAndPan=\"magnify\"><defs/><g><!--MD5=[fbc87193dbaf4d95561dea2c320d4a47]\n",
       "cluster E1--><a href=\"psysml:6b3c9659-b47e-4a53-85ed-693ccedcdfc8\" target=\"_top\" title=\"psysml:6b3c9659-b47e-4a53-85ed-693ccedcdfc8\" xlink:actuate=\"onRequest\" xlink:href=\"psysml:6b3c9659-b47e-4a53-85ed-693ccedcdfc8\" xlink:show=\"new\" xlink:title=\"psysml:6b3c9659-b47e-4a53-85ed-693ccedcdfc8\" xlink:type=\"simple\"><polygon fill=\"#FFFFFF\" points=\"16,6,210,6,217,28.2969,220,28.2969,220,405,16,405,16,6\" style=\"stroke: #000000; stroke-width: 1.5;\"/><line style=\"stroke: #000000; stroke-width: 1.5;\" x1=\"16\" x2=\"217\" y1=\"28.2969\" y2=\"28.2969\"/><text fill=\"#000000\" font-family=\"sans-serif\" font-size=\"14\" font-weight=\"bold\" lengthAdjust=\"spacingAndGlyphs\" textLength=\"188\" x=\"20\" y=\"20.9951\">TextualRepresentationTest</text></a><!--MD5=[b4997ac47864f28c2f74865a473b2911]\n",
       "class E2--><a href=\"psysml:83925eaf-d327-49ae-8c67-e64c48e757fa\" target=\"_top\" title=\"psysml:83925eaf-d327-49ae-8c67-e64c48e757fa\" xlink:actuate=\"onRequest\" xlink:href=\"psysml:83925eaf-d327-49ae-8c67-e64c48e757fa\" xlink:show=\"new\" xlink:title=\"psysml:83925eaf-d327-49ae-8c67-e64c48e757fa\" xlink:type=\"simple\"><rect fill=\"#FFFFFF\" height=\"75.5469\" id=\"E2\" style=\"stroke: #383838; stroke-width: 1.5;\" width=\"71\" x=\"82.5\" y=\"206\"/><text fill=\"#000000\" font-family=\"sans-serif\" font-size=\"12\" font-style=\"italic\" lengthAdjust=\"spacingAndGlyphs\" textLength=\"69\" x=\"83.5\" y=\"222.1387\">«item  def»</text><text fill=\"#000000\" font-family=\"sans-serif\" font-size=\"12\" lengthAdjust=\"spacingAndGlyphs\" textLength=\"8\" x=\"114\" y=\"236.1074\">C</text><line style=\"stroke: #383838; stroke-width: 1.5;\" x1=\"83.5\" x2=\"152.5\" y1=\"243.9375\" y2=\"243.9375\"/><text fill=\"#000000\" font-family=\"sans-serif\" font-size=\"11\" lengthAdjust=\"spacingAndGlyphs\" textLength=\"38\" x=\"88.5\" y=\"274.9526\">x: Real</text><line style=\"stroke: #383838; stroke-width: 1.0;\" x1=\"83.5\" x2=\"90.5\" y1=\"258.3398\" y2=\"258.3398\"/><text fill=\"#000000\" font-family=\"sans-serif\" font-size=\"11\" lengthAdjust=\"spacingAndGlyphs\" textLength=\"55\" x=\"90.5\" y=\"261.6479\">attributes</text><line style=\"stroke: #383838; stroke-width: 1.0;\" x1=\"145.5\" x2=\"152.5\" y1=\"258.3398\" y2=\"258.3398\"/></a><!--MD5=[09b614a08d8cba4a07c9adeb5e0fee81]\n",
       "class E3--><a href=\"psysml:9e9e8e01-075a-4e09-a2e1-8d13feba95d6\" target=\"_top\" title=\"psysml:9e9e8e01-075a-4e09-a2e1-8d13feba95d6\" xlink:actuate=\"onRequest\" xlink:href=\"psysml:9e9e8e01-075a-4e09-a2e1-8d13feba95d6\" xlink:show=\"new\" xlink:title=\"psysml:9e9e8e01-075a-4e09-a2e1-8d13feba95d6\" xlink:type=\"simple\"><rect fill=\"#FFFFFF\" height=\"45.9375\" id=\"E3\" rx=\"10\" ry=\"10\" style=\"stroke: #383838; stroke-width: 1.5;\" width=\"124\" x=\"56\" y=\"343\"/><text fill=\"#000000\" font-family=\"sans-serif\" font-size=\"12\" font-style=\"italic\" lengthAdjust=\"spacingAndGlyphs\" textLength=\"122\" x=\"57\" y=\"359.1387\">«assert constraint»</text><text fill=\"#000000\" font-family=\"sans-serif\" font-size=\"12\" lengthAdjust=\"spacingAndGlyphs\" textLength=\"76\" x=\"80\" y=\"373.1074\">x_constraint</text><line style=\"stroke: #383838; stroke-width: 1.5;\" x1=\"57\" x2=\"179\" y1=\"380.9375\" y2=\"380.9375\"/></a><!--MD5=[ebbe1d658d1005bcc118a6aa81145e00]\n",
       "class E4--><a href=\"psysml:056920e1-03e4-42f5-9f87-f97cbdc58602\" target=\"_top\" title=\"psysml:056920e1-03e4-42f5-9f87-f97cbdc58602\" xlink:actuate=\"onRequest\" xlink:href=\"psysml:056920e1-03e4-42f5-9f87-f97cbdc58602\" xlink:show=\"new\" xlink:title=\"psysml:056920e1-03e4-42f5-9f87-f97cbdc58602\" xlink:type=\"simple\"><rect fill=\"#FFFFFF\" height=\"88.3516\" id=\"E4\" style=\"stroke: #383838; stroke-width: 1.5;\" width=\"88\" x=\"74\" y=\"41\"/><text fill=\"#000000\" font-family=\"sans-serif\" font-size=\"12\" font-style=\"italic\" lengthAdjust=\"spacingAndGlyphs\" textLength=\"81\" x=\"77.5\" y=\"57.1387\">«action  def»</text><text fill=\"#000000\" font-family=\"sans-serif\" font-size=\"12\" lengthAdjust=\"spacingAndGlyphs\" textLength=\"27\" x=\"104.5\" y=\"71.1074\">setX</text><line style=\"stroke: #383838; stroke-width: 1.5;\" x1=\"75\" x2=\"161\" y1=\"78.9375\" y2=\"78.9375\"/><text fill=\"#000000\" font-family=\"sans-serif\" font-size=\"11\" font-weight=\"bold\" lengthAdjust=\"spacingAndGlyphs\" textLength=\"10\" x=\"80\" y=\"109.9526\">in</text><text fill=\"#000000\" font-family=\"sans-serif\" font-size=\"11\" lengthAdjust=\"spacingAndGlyphs\" textLength=\"22\" x=\"94\" y=\"109.9526\">c: C</text><text fill=\"#000000\" font-family=\"sans-serif\" font-size=\"11\" font-weight=\"bold\" lengthAdjust=\"spacingAndGlyphs\" textLength=\"10\" x=\"80\" y=\"122.7573\">in</text><text fill=\"#000000\" font-family=\"sans-serif\" font-size=\"11\" lengthAdjust=\"spacingAndGlyphs\" textLength=\"62\" x=\"94\" y=\"122.7573\">newX: Real</text><line style=\"stroke: #383838; stroke-width: 1.0;\" x1=\"75\" x2=\"84.5\" y1=\"93.3398\" y2=\"93.3398\"/><text fill=\"#000000\" font-family=\"sans-serif\" font-size=\"11\" lengthAdjust=\"spacingAndGlyphs\" textLength=\"67\" x=\"84.5\" y=\"96.6479\">parameters</text><line style=\"stroke: #383838; stroke-width: 1.0;\" x1=\"151.5\" x2=\"161\" y1=\"93.3398\" y2=\"93.3398\"/></a><!--MD5=[209b3feb70ccb6233bfe1053d122c12c]\n",
       "reverse link E2 to E3--><a href=\"psysml:03d8b6ce-86e3-4804-a1ae-2a2287936712\" target=\"_top\" title=\"psysml:03d8b6ce-86e3-4804-a1ae-2a2287936712\" xlink:actuate=\"onRequest\" xlink:href=\"psysml:03d8b6ce-86e3-4804-a1ae-2a2287936712\" xlink:show=\"new\" xlink:title=\"psysml:03d8b6ce-86e3-4804-a1ae-2a2287936712\" xlink:type=\"simple\"><path d=\"M118,295.76 C118,312.17 118,329.52 118,342.75 \" fill=\"none\" id=\"E2&lt;-E3\" style=\"stroke: #383838; stroke-width: 1.0;\"/><polygon fill=\"#383838\" points=\"118,282.31,114,288.31,118,294.31,122,288.31,118,282.31\" style=\"stroke: #383838; stroke-width: 1.0;\"/><text fill=\"#000000\" font-family=\"sans-serif\" font-size=\"13\" lengthAdjust=\"spacingAndGlyphs\" textLength=\"7\" x=\"110.1031\" y=\"331.9622\">*</text></a><!--MD5=[ddeed8deb2209213b62e6cfabaa108b2]\n",
       "reverse link E4 to E2--><a href=\"psysml:01d56035-c08c-482f-9257-c9260a493ad7\" target=\"_top\" title=\"psysml:01d56035-c08c-482f-9257-c9260a493ad7\" xlink:actuate=\"onRequest\" xlink:href=\"psysml:01d56035-c08c-482f-9257-c9260a493ad7\" xlink:show=\"new\" xlink:title=\"psysml:01d56035-c08c-482f-9257-c9260a493ad7\" xlink:type=\"simple\"><path d=\"M107.99,142.21 C106.26,151.94 105,159 105,159 C105,159 105,176 105,176 C105,176 107.81,190.48 110.82,205.97 \" fill=\"none\" id=\"E4&lt;-E2\" style=\"stroke: #383838; stroke-width: 1.0;\"/><polygon fill=\"#FFFFFF\" points=\"110.29,129.31,105.3032,134.5188,108.1933,141.1254,113.1801,135.9166,110.29,129.31\" style=\"stroke: #383838; stroke-width: 1.0;\"/><text fill=\"#000000\" font-family=\"sans-serif\" font-size=\"13\" lengthAdjust=\"spacingAndGlyphs\" textLength=\"7\" x=\"106\" y=\"172.0669\">c</text></a><!--MD5=[ddeed8deb2209213b62e6cfabaa108b2]\n",
       "reverse link E4 to E2--><a href=\"psysml:01d56035-c08c-482f-9257-c9260a493ad7\" target=\"_top\" title=\"psysml:01d56035-c08c-482f-9257-c9260a493ad7\" xlink:actuate=\"onRequest\" xlink:href=\"psysml:01d56035-c08c-482f-9257-c9260a493ad7\" xlink:show=\"new\" xlink:title=\"psysml:01d56035-c08c-482f-9257-c9260a493ad7\" xlink:type=\"simple\"><path d=\"M118,142.45 C118,163.57 118,187.02 118,205.95 \" fill=\"none\" id=\"E4&lt;-E2-1\" style=\"stroke: #383838; stroke-width: 1.0;\"/><polygon fill=\"#FFFFFF\" points=\"118,129.32,114,135.32,118,141.32,122,135.32,118,129.32\" style=\"stroke: #383838; stroke-width: 1.0;\"/><text fill=\"#000000\" font-family=\"sans-serif\" font-size=\"13\" lengthAdjust=\"spacingAndGlyphs\" textLength=\"7\" x=\"119\" y=\"172.0669\">c</text></a><!--MD5=[c375ab0e3787f231b2a216fcfa736548]\n",
       "@startuml\r\n",
       "skinparam linetype polyline\r\n",
       "skinparam monochrome true\r\n",
       "skinparam classbackgroundcolor white\r\n",
       "skinparam shadowing false\r\n",
       "skinparam wrapWidth 300\r\n",
       "hide circle\r\n",
       "\r\n",
       "package \"TextualRepresentationTest\" as E1  [[psysml:6b3c9659-b47e-4a53-85ed-693ccedcdfc8 ]]  {\r\n",
       "comp def \"C\" as E2  <<(T,blue) item  def>> [[psysml:83925eaf-d327-49ae-8c67-e64c48e757fa ]] {\r\n",
       "- - attributes - -\r\n",
       "x: Real\r\n",
       "}\r\n",
       "comp usage \"x_constraint\" as E3  <<(T,blue) assert constraint>> [[psysml:9e9e8e01-075a-4e09-a2e1-8d13feba95d6 ]] {\r\n",
       "}\r\n",
       "comp def \"setX\" as E4  <<(T,blue) action  def>> [[psysml:056920e1-03e4-42f5-9f87-f97cbdc58602 ]] {\r\n",
       "- - parameters - -\r\n",
       "<b>in</b> c: C\r\n",
       "<b>in</b> newX: Real\r\n",
       "}\r\n",
       "}\r\n",
       "E2 *- - \"*\"E3 [[psysml:03d8b6ce-86e3-4804-a1ae-2a2287936712 ]] \r\n",
       "E4 o- - E2 [[psysml:01d56035-c08c-482f-9257-c9260a493ad7 ]] : c\r\n",
       "E4 o- - E2 [[psysml:01d56035-c08c-482f-9257-c9260a493ad7 ]] : c\r\n",
       "@enduml\r\n",
       "\n",
       "PlantUML version 1.2020.13(Sat Jun 13 12:26:38 UTC 2020)\n",
       "(EPL source distribution)\n",
       "Java Runtime: OpenJDK Runtime Environment\n",
       "JVM: OpenJDK 64-Bit Server VM\n",
       "Default Encoding: UTF-8\n",
       "Language: en\n",
       "Country: null\n",
       "--></g></svg>"
      ]
     },
     "execution_count": 10,
     "metadata": {},
     "output_type": "execute_result"
    }
   ],
   "source": [
    "%viz --style=\"POLYLINE\" --view=\"Tree\" \"TextualRepresentationTest\""
   ]
  },
  {
   "cell_type": "code",
   "execution_count": 11,
   "id": "8b5b95ce",
   "metadata": {
    "execution": {
     "iopub.execute_input": "2021-11-13T13:00:35.087505Z",
     "iopub.status.busy": "2021-11-13T13:00:35.087092Z",
     "iopub.status.idle": "2021-11-13T13:00:35.093120Z",
     "shell.execute_reply": "2021-11-13T13:00:35.093434Z"
    }
   },
   "outputs": [
    {
     "data": {
      "image/svg+xml": [
       "<?xml version=\"1.0\" encoding=\"UTF-8\" standalone=\"no\"?><svg xmlns=\"http://www.w3.org/2000/svg\" xmlns:xlink=\"http://www.w3.org/1999/xlink\" contentScriptType=\"application/ecmascript\" contentStyleType=\"text/css\" height=\"12px\" preserveAspectRatio=\"none\" style=\"width:12px;height:12px;\" version=\"1.1\" viewBox=\"0 0 12 12\" width=\"12px\" zoomAndPan=\"magnify\"><defs/><g><!--MD5=[896ac0e7a515d8dd7765a661cb4ee08b]\n",
       "@startuml\r\n",
       "skinparam linetype polyline\r\n",
       "skinparam monochrome true\r\n",
       "skinparam classbackgroundcolor white\r\n",
       "skinparam shadowing false\r\n",
       "skinparam wrapWidth 300\r\n",
       "hide circle\r\n",
       "\r\n",
       "@enduml\r\n",
       "\n",
       "PlantUML version 1.2020.13(Sat Jun 13 12:26:38 UTC 2020)\n",
       "(EPL source distribution)\n",
       "Java Runtime: OpenJDK Runtime Environment\n",
       "JVM: OpenJDK 64-Bit Server VM\n",
       "Default Encoding: UTF-8\n",
       "Language: en\n",
       "Country: null\n",
       "--></g></svg>"
      ]
     },
     "execution_count": 11,
     "metadata": {},
     "output_type": "execute_result"
    }
   ],
   "source": [
    "%viz --style=\"POLYLINE\" --view=\"State\" \"TextualRepresentationTest\""
   ]
  },
  {
   "cell_type": "code",
   "execution_count": 12,
   "id": "d1e5a6f7",
   "metadata": {
    "execution": {
     "iopub.execute_input": "2021-11-13T13:00:35.143217Z",
     "iopub.status.busy": "2021-11-13T13:00:35.142894Z",
     "iopub.status.idle": "2021-11-13T13:00:35.174828Z",
     "shell.execute_reply": "2021-11-13T13:00:35.175078Z"
    }
   },
   "outputs": [
    {
     "data": {
      "image/svg+xml": [
       "<?xml version=\"1.0\" encoding=\"UTF-8\" standalone=\"no\"?><svg xmlns=\"http://www.w3.org/2000/svg\" xmlns:xlink=\"http://www.w3.org/1999/xlink\" contentScriptType=\"application/ecmascript\" contentStyleType=\"text/css\" height=\"179px\" preserveAspectRatio=\"none\" style=\"width:292px;height:179px;\" version=\"1.1\" viewBox=\"0 0 292 179\" width=\"292px\" zoomAndPan=\"magnify\"><defs/><g><!--MD5=[fbc87193dbaf4d95561dea2c320d4a47]\n",
       "cluster E1--><a href=\"psysml:6b3c9659-b47e-4a53-85ed-693ccedcdfc8\" target=\"_top\" title=\"psysml:6b3c9659-b47e-4a53-85ed-693ccedcdfc8\" xlink:actuate=\"onRequest\" xlink:href=\"psysml:6b3c9659-b47e-4a53-85ed-693ccedcdfc8\" xlink:show=\"new\" xlink:title=\"psysml:6b3c9659-b47e-4a53-85ed-693ccedcdfc8\" xlink:type=\"simple\"><polygon fill=\"#FFFFFF\" points=\"16,6,210,6,217,28.2969,270,28.2969,270,167,16,167,16,6\" style=\"stroke: #000000; stroke-width: 1.5;\"/><line style=\"stroke: #000000; stroke-width: 1.5;\" x1=\"16\" x2=\"217\" y1=\"28.2969\" y2=\"28.2969\"/><text fill=\"#000000\" font-family=\"sans-serif\" font-size=\"14\" font-weight=\"bold\" lengthAdjust=\"spacingAndGlyphs\" textLength=\"188\" x=\"20\" y=\"20.9951\">TextualRepresentationTest</text></a><!--MD5=[d5e69f78d87373223dbae638b30a9c99]\n",
       "cluster E3--><a href=\"psysml:056920e1-03e4-42f5-9f87-f97cbdc58602\" target=\"_top\" title=\"psysml:056920e1-03e4-42f5-9f87-f97cbdc58602\" xlink:actuate=\"onRequest\" xlink:href=\"psysml:056920e1-03e4-42f5-9f87-f97cbdc58602\" xlink:show=\"new\" xlink:title=\"psysml:056920e1-03e4-42f5-9f87-f97cbdc58602\" xlink:type=\"simple\"><rect fill=\"#FFFFFF\" height=\"88.5\" id=\"E3\" style=\"stroke: #383838; stroke-width: 1.5;\" width=\"100\" x=\"122.5\" y=\"62.5\"/><rect fill=\"#F8F8F8\" height=\"37.9375\" style=\"stroke: #383838; stroke-width: 1.5;\" width=\"100\" x=\"122.5\" y=\"62.5\"/><text fill=\"#000000\" font-family=\"sans-serif\" font-size=\"12\" font-style=\"italic\" lengthAdjust=\"spacingAndGlyphs\" textLength=\"81\" x=\"132\" y=\"78.6387\">«action  def»</text><text fill=\"#000000\" font-family=\"sans-serif\" font-size=\"12\" lengthAdjust=\"spacingAndGlyphs\" textLength=\"27\" x=\"159\" y=\"92.6074\">setX</text></a><g id=\"E1.E2\"><a href=\"psysml:83925eaf-d327-49ae-8c67-e64c48e757fa\" target=\"_top\" title=\"psysml:83925eaf-d327-49ae-8c67-e64c48e757fa\" xlink:actuate=\"onRequest\" xlink:href=\"psysml:83925eaf-d327-49ae-8c67-e64c48e757fa\" xlink:show=\"new\" xlink:title=\"psysml:83925eaf-d327-49ae-8c67-e64c48e757fa\" xlink:type=\"simple\"><rect fill=\"#FFFFFF\" height=\"42.9375\" id=\"E2\" style=\"stroke: #383838; stroke-width: 1.5;\" width=\"76\" x=\"32\" y=\"41\"/><rect fill=\"#F8F8F8\" height=\"37.9375\" style=\"stroke: #383838; stroke-width: 1.5;\" width=\"76\" x=\"32\" y=\"41\"/><text fill=\"#000000\" font-family=\"sans-serif\" font-size=\"12\" font-style=\"italic\" lengthAdjust=\"spacingAndGlyphs\" textLength=\"69\" x=\"35.5\" y=\"57.1387\">«item  def»</text><text fill=\"#000000\" font-family=\"sans-serif\" font-size=\"12\" lengthAdjust=\"spacingAndGlyphs\" textLength=\"8\" x=\"66\" y=\"71.1074\">C</text></a></g><text fill=\"#000000\" font-family=\"sans-serif\" font-size=\"14\" lengthAdjust=\"spacingAndGlyphs\" textLength=\"8\" x=\"145\" y=\"41.1982\">c</text><rect fill=\"#383838\" height=\"12\" style=\"stroke: #F8F8F8; stroke-width: 1.5;\" width=\"12\" x=\"143\" y=\"56.5\"/><text fill=\"#000000\" font-family=\"sans-serif\" font-size=\"14\" lengthAdjust=\"spacingAndGlyphs\" textLength=\"38\" x=\"177\" y=\"41.1982\">newX</text><rect fill=\"#383838\" height=\"12\" style=\"stroke: #F8F8F8; stroke-width: 1.5;\" width=\"12\" x=\"190\" y=\"56.5\"/><!--MD5=[125fe79ec69f45ef576ee7de7262ca2b]\n",
       "@startuml\r\n",
       "skinparam ranksep 10\r\n",
       "skinparam rectangle {\r\n",
       " backgroundColor<<block>> LightGreen\r\n",
       "}\r\n",
       "skinparam linetype polyline\r\n",
       "skinparam monochrome true\r\n",
       "skinparam classbackgroundcolor white\r\n",
       "skinparam shadowing false\r\n",
       "skinparam wrapWidth 300\r\n",
       "hide circle\r\n",
       "\r\n",
       "package \"TextualRepresentationTest\" as E1  [[psysml:6b3c9659-b47e-4a53-85ed-693ccedcdfc8 ]]  {\r\n",
       "def \"C\" as E2  <<(T,blue) item  def>> [[psysml:83925eaf-d327-49ae-8c67-e64c48e757fa ]] \r\n",
       "rec def \"setX\" as E3  <<(T,blue) action  def>> [[psysml:056920e1-03e4-42f5-9f87-f97cbdc58602 ]] {\r\n",
       "portin \"c\" as E4  [[psysml:01d56035-c08c-482f-9257-c9260a493ad7 ]] \r\n",
       "portin \"newX\" as E5  [[psysml:7d0c1fa2-09eb-4f19-a101-add490a57fbe ]] \r\n",
       "}\r\n",
       "\r\n",
       "}\r\n",
       "@enduml\r\n",
       "\n",
       "PlantUML version 1.2020.13(Sat Jun 13 12:26:38 UTC 2020)\n",
       "(EPL source distribution)\n",
       "Java Runtime: OpenJDK Runtime Environment\n",
       "JVM: OpenJDK 64-Bit Server VM\n",
       "Default Encoding: UTF-8\n",
       "Language: en\n",
       "Country: null\n",
       "--></g></svg>"
      ]
     },
     "execution_count": 12,
     "metadata": {},
     "output_type": "execute_result"
    }
   ],
   "source": [
    "%viz --style=\"POLYLINE\" --view=\"Interconnection\" \"TextualRepresentationTest\""
   ]
  },
  {
   "cell_type": "code",
   "execution_count": 13,
   "id": "43b51612",
   "metadata": {
    "execution": {
     "iopub.execute_input": "2021-11-13T13:00:35.224874Z",
     "iopub.status.busy": "2021-11-13T13:00:35.224558Z",
     "iopub.status.idle": "2021-11-13T13:00:35.250052Z",
     "shell.execute_reply": "2021-11-13T13:00:35.250345Z"
    }
   },
   "outputs": [
    {
     "data": {
      "image/svg+xml": [
       "<?xml version=\"1.0\" encoding=\"UTF-8\" standalone=\"no\"?><svg xmlns=\"http://www.w3.org/2000/svg\" xmlns:xlink=\"http://www.w3.org/1999/xlink\" contentScriptType=\"application/ecmascript\" contentStyleType=\"text/css\" height=\"126px\" preserveAspectRatio=\"none\" style=\"width:152px;height:126px;\" version=\"1.1\" viewBox=\"0 0 152 126\" width=\"152px\" zoomAndPan=\"magnify\"><defs/><g><!--MD5=[fbc87193dbaf4d95561dea2c320d4a47]\n",
       "cluster E1--><a href=\"psysml:056920e1-03e4-42f5-9f87-f97cbdc58602\" target=\"_top\" title=\"psysml:056920e1-03e4-42f5-9f87-f97cbdc58602\" xlink:actuate=\"onRequest\" xlink:href=\"psysml:056920e1-03e4-42f5-9f87-f97cbdc58602\" xlink:show=\"new\" xlink:title=\"psysml:056920e1-03e4-42f5-9f87-f97cbdc58602\" xlink:type=\"simple\"><rect fill=\"#FFFFFF\" height=\"73\" id=\"E1\" style=\"stroke: #383838; stroke-width: 1.5;\" width=\"134\" x=\"7\" y=\"42.0986\"/><rect fill=\"#F8F8F8\" height=\"37.9375\" style=\"stroke: #383838; stroke-width: 1.5;\" width=\"134\" x=\"7\" y=\"42.0986\"/><text fill=\"#000000\" font-family=\"sans-serif\" font-size=\"12\" font-style=\"italic\" lengthAdjust=\"spacingAndGlyphs\" textLength=\"81\" x=\"33.5\" y=\"58.2373\">«action  def»</text><text fill=\"#000000\" font-family=\"sans-serif\" font-size=\"12\" lengthAdjust=\"spacingAndGlyphs\" textLength=\"27\" x=\"60.5\" y=\"72.2061\">setX</text></a><text fill=\"#000000\" font-family=\"sans-serif\" font-size=\"14\" lengthAdjust=\"spacingAndGlyphs\" textLength=\"8\" x=\"21\" y=\"20.7969\">c</text><rect fill=\"#383838\" height=\"12\" style=\"stroke: #F8F8F8; stroke-width: 1.5;\" width=\"12\" x=\"19\" y=\"36.0986\"/><text fill=\"#000000\" font-family=\"sans-serif\" font-size=\"14\" lengthAdjust=\"spacingAndGlyphs\" textLength=\"38\" x=\"53\" y=\"20.7969\">newX</text><rect fill=\"#383838\" height=\"12\" style=\"stroke: #F8F8F8; stroke-width: 1.5;\" width=\"12\" x=\"66\" y=\"36.0986\"/><!--MD5=[13651987d5b0ad32194b240ef8bda731]\n",
       "@startuml\r\n",
       "skinparam ranksep 8\r\n",
       "skinparam linetype polyline\r\n",
       "skinparam monochrome true\r\n",
       "skinparam classbackgroundcolor white\r\n",
       "skinparam shadowing false\r\n",
       "skinparam wrapWidth 300\r\n",
       "hide circle\r\n",
       "\r\n",
       "rec def \"setX\" as E1  <<(T,blue) action  def>> [[psysml:056920e1-03e4-42f5-9f87-f97cbdc58602 ]] {\r\n",
       "portin \"c\" as E2  [[psysml:01d56035-c08c-482f-9257-c9260a493ad7 ]] \r\n",
       "portin \"newX\" as E3  [[psysml:7d0c1fa2-09eb-4f19-a101-add490a57fbe ]] \r\n",
       "}\r\n",
       "\r\n",
       "@enduml\r\n",
       "\n",
       "PlantUML version 1.2020.13(Sat Jun 13 12:26:38 UTC 2020)\n",
       "(EPL source distribution)\n",
       "Java Runtime: OpenJDK Runtime Environment\n",
       "JVM: OpenJDK 64-Bit Server VM\n",
       "Default Encoding: UTF-8\n",
       "Language: en\n",
       "Country: null\n",
       "--></g></svg>"
      ]
     },
     "execution_count": 13,
     "metadata": {},
     "output_type": "execute_result"
    }
   ],
   "source": [
    "%viz --style=\"POLYLINE\" --view=\"Action\" \"TextualRepresentationTest\""
   ]
  },
  {
   "cell_type": "code",
   "execution_count": 14,
   "id": "953a999b",
   "metadata": {
    "execution": {
     "iopub.execute_input": "2021-11-13T13:00:35.299866Z",
     "iopub.status.busy": "2021-11-13T13:00:35.299432Z",
     "iopub.status.idle": "2021-11-13T13:00:35.305696Z",
     "shell.execute_reply": "2021-11-13T13:00:35.305940Z"
    }
   },
   "outputs": [
    {
     "data": {
      "image/svg+xml": [
       "<?xml version=\"1.0\" encoding=\"UTF-8\" standalone=\"no\"?><svg xmlns=\"http://www.w3.org/2000/svg\" xmlns:xlink=\"http://www.w3.org/1999/xlink\" contentScriptType=\"application/ecmascript\" contentStyleType=\"text/css\" height=\"12px\" preserveAspectRatio=\"none\" style=\"width:12px;height:12px;\" version=\"1.1\" viewBox=\"0 0 12 12\" width=\"12px\" zoomAndPan=\"magnify\"><defs/><g><!--MD5=[dc938048236c351797870c36b62f92ad]\n",
       "@startuml\r\n",
       "skinparam roundcorner 20\r\n",
       "skinparam BoxPadding 20\r\n",
       "skinparam SequenceBoxBackgroundColor #white\r\n",
       "skinparam style strictuml\r\n",
       "skinparam maxMessageSize 100\r\n",
       "skinparam linetype polyline\r\n",
       "skinparam monochrome true\r\n",
       "skinparam classbackgroundcolor white\r\n",
       "skinparam shadowing false\r\n",
       "skinparam wrapWidth 300\r\n",
       "hide circle\r\n",
       "\r\n",
       "@enduml\r\n",
       "\n",
       "PlantUML version 1.2020.13(Sat Jun 13 12:26:38 UTC 2020)\n",
       "(EPL source distribution)\n",
       "Java Runtime: OpenJDK Runtime Environment\n",
       "JVM: OpenJDK 64-Bit Server VM\n",
       "Default Encoding: UTF-8\n",
       "Language: en\n",
       "Country: null\n",
       "--></g></svg>"
      ]
     },
     "execution_count": 14,
     "metadata": {},
     "output_type": "execute_result"
    }
   ],
   "source": [
    "%viz --style=\"POLYLINE\" --view=\"Sequence\" \"TextualRepresentationTest\""
   ]
  },
  {
   "cell_type": "code",
   "execution_count": 15,
   "id": "15b38543",
   "metadata": {
    "execution": {
     "iopub.execute_input": "2021-11-13T13:00:35.355746Z",
     "iopub.status.busy": "2021-11-13T13:00:35.355425Z",
     "iopub.status.idle": "2021-11-13T13:00:35.401461Z",
     "shell.execute_reply": "2021-11-13T13:00:35.401179Z"
    }
   },
   "outputs": [
    {
     "data": {
      "image/svg+xml": [
       "<?xml version=\"1.0\" encoding=\"UTF-8\" standalone=\"no\"?><svg xmlns=\"http://www.w3.org/2000/svg\" xmlns:xlink=\"http://www.w3.org/1999/xlink\" contentScriptType=\"application/ecmascript\" contentStyleType=\"text/css\" height=\"261px\" preserveAspectRatio=\"none\" style=\"width:351px;height:261px;\" version=\"1.1\" viewBox=\"0 0 351 261\" width=\"351px\" zoomAndPan=\"magnify\"><defs/><g><!--MD5=[fbc87193dbaf4d95561dea2c320d4a47]\n",
       "cluster E1--><a href=\"psysml:6b3c9659-b47e-4a53-85ed-693ccedcdfc8\" target=\"_top\" title=\"psysml:6b3c9659-b47e-4a53-85ed-693ccedcdfc8\" xlink:actuate=\"onRequest\" xlink:href=\"psysml:6b3c9659-b47e-4a53-85ed-693ccedcdfc8\" xlink:show=\"new\" xlink:title=\"psysml:6b3c9659-b47e-4a53-85ed-693ccedcdfc8\" xlink:type=\"simple\"><polygon fill=\"#FFFFFF\" points=\"16,6,210,6,217,28.2969,329,28.2969,329,249.5,16,249.5,16,6\" style=\"stroke: #000000; stroke-width: 1.5;\"/><line style=\"stroke: #000000; stroke-width: 1.5;\" x1=\"16\" x2=\"217\" y1=\"28.2969\" y2=\"28.2969\"/><text fill=\"#000000\" font-family=\"sans-serif\" font-size=\"14\" font-weight=\"bold\" lengthAdjust=\"spacingAndGlyphs\" textLength=\"188\" x=\"20\" y=\"20.9951\">TextualRepresentationTest</text></a><!--MD5=[f6df4d0ebaf0b5dfb2ced0ae5af7c670]\n",
       "cluster E4--><a href=\"psysml:056920e1-03e4-42f5-9f87-f97cbdc58602\" target=\"_top\" title=\"psysml:056920e1-03e4-42f5-9f87-f97cbdc58602\" xlink:actuate=\"onRequest\" xlink:href=\"psysml:056920e1-03e4-42f5-9f87-f97cbdc58602\" xlink:show=\"new\" xlink:title=\"psysml:056920e1-03e4-42f5-9f87-f97cbdc58602\" xlink:type=\"simple\"><rect fill=\"#FFFFFF\" height=\"154.5\" id=\"E4\" style=\"stroke: #383838; stroke-width: 1.5;\" width=\"134\" x=\"179\" y=\"79\"/><rect fill=\"#F8F8F8\" height=\"37.9375\" style=\"stroke: #383838; stroke-width: 1.5;\" width=\"134\" x=\"179\" y=\"79\"/><text fill=\"#000000\" font-family=\"sans-serif\" font-size=\"12\" font-style=\"italic\" lengthAdjust=\"spacingAndGlyphs\" textLength=\"81\" x=\"205.5\" y=\"95.1387\">«action  def»</text><text fill=\"#000000\" font-family=\"sans-serif\" font-size=\"12\" lengthAdjust=\"spacingAndGlyphs\" textLength=\"27\" x=\"232.5\" y=\"109.1074\">setX</text></a><!--MD5=[b4997ac47864f28c2f74865a473b2911]\n",
       "class E2--><a href=\"psysml:83925eaf-d327-49ae-8c67-e64c48e757fa\" target=\"_top\" title=\"psysml:83925eaf-d327-49ae-8c67-e64c48e757fa\" xlink:actuate=\"onRequest\" xlink:href=\"psysml:83925eaf-d327-49ae-8c67-e64c48e757fa\" xlink:show=\"new\" xlink:title=\"psysml:83925eaf-d327-49ae-8c67-e64c48e757fa\" xlink:type=\"simple\"><rect fill=\"#FFFFFF\" height=\"75.5469\" id=\"E2\" style=\"stroke: #383838; stroke-width: 1.5;\" width=\"71\" x=\"58.5\" y=\"41\"/><text fill=\"#000000\" font-family=\"sans-serif\" font-size=\"12\" font-style=\"italic\" lengthAdjust=\"spacingAndGlyphs\" textLength=\"69\" x=\"59.5\" y=\"57.1387\">«item  def»</text><text fill=\"#000000\" font-family=\"sans-serif\" font-size=\"12\" lengthAdjust=\"spacingAndGlyphs\" textLength=\"8\" x=\"90\" y=\"71.1074\">C</text><line style=\"stroke: #383838; stroke-width: 1.5;\" x1=\"59.5\" x2=\"128.5\" y1=\"78.9375\" y2=\"78.9375\"/><text fill=\"#000000\" font-family=\"sans-serif\" font-size=\"11\" lengthAdjust=\"spacingAndGlyphs\" textLength=\"38\" x=\"64.5\" y=\"109.9526\">x: Real</text><line style=\"stroke: #383838; stroke-width: 1.0;\" x1=\"59.5\" x2=\"66.5\" y1=\"93.3398\" y2=\"93.3398\"/><text fill=\"#000000\" font-family=\"sans-serif\" font-size=\"11\" lengthAdjust=\"spacingAndGlyphs\" textLength=\"55\" x=\"66.5\" y=\"96.6479\">attributes</text><line style=\"stroke: #383838; stroke-width: 1.0;\" x1=\"121.5\" x2=\"128.5\" y1=\"93.3398\" y2=\"93.3398\"/></a><!--MD5=[09b614a08d8cba4a07c9adeb5e0fee81]\n",
       "class E3--><a href=\"psysml:9e9e8e01-075a-4e09-a2e1-8d13feba95d6\" target=\"_top\" title=\"psysml:9e9e8e01-075a-4e09-a2e1-8d13feba95d6\" xlink:actuate=\"onRequest\" xlink:href=\"psysml:9e9e8e01-075a-4e09-a2e1-8d13feba95d6\" xlink:show=\"new\" xlink:title=\"psysml:9e9e8e01-075a-4e09-a2e1-8d13feba95d6\" xlink:type=\"simple\"><rect fill=\"#FFFFFF\" height=\"45.9375\" id=\"E3\" rx=\"10\" ry=\"10\" style=\"stroke: #383838; stroke-width: 1.5;\" width=\"124\" x=\"32\" y=\"177\"/><text fill=\"#000000\" font-family=\"sans-serif\" font-size=\"12\" font-style=\"italic\" lengthAdjust=\"spacingAndGlyphs\" textLength=\"122\" x=\"33\" y=\"193.1387\">«assert constraint»</text><text fill=\"#000000\" font-family=\"sans-serif\" font-size=\"12\" lengthAdjust=\"spacingAndGlyphs\" textLength=\"76\" x=\"56\" y=\"207.1074\">x_constraint</text><line style=\"stroke: #383838; stroke-width: 1.5;\" x1=\"33\" x2=\"155\" y1=\"214.9375\" y2=\"214.9375\"/></a><text fill=\"#000000\" font-family=\"sans-serif\" font-size=\"14\" lengthAdjust=\"spacingAndGlyphs\" textLength=\"8\" x=\"193\" y=\"57.6982\">c</text><rect fill=\"#383838\" height=\"12\" style=\"stroke: #F8F8F8; stroke-width: 1.5;\" width=\"12\" x=\"191\" y=\"73\"/><text fill=\"#000000\" font-family=\"sans-serif\" font-size=\"14\" lengthAdjust=\"spacingAndGlyphs\" textLength=\"38\" x=\"225\" y=\"57.6982\">newX</text><rect fill=\"#383838\" height=\"12\" style=\"stroke: #F8F8F8; stroke-width: 1.5;\" width=\"12\" x=\"238\" y=\"73\"/><!--MD5=[209b3feb70ccb6233bfe1053d122c12c]\n",
       "reverse link E2 to E3--><a href=\"psysml:03d8b6ce-86e3-4804-a1ae-2a2287936712\" target=\"_top\" title=\"psysml:03d8b6ce-86e3-4804-a1ae-2a2287936712\" xlink:actuate=\"onRequest\" xlink:href=\"psysml:03d8b6ce-86e3-4804-a1ae-2a2287936712\" xlink:show=\"new\" xlink:title=\"psysml:03d8b6ce-86e3-4804-a1ae-2a2287936712\" xlink:type=\"simple\"><path d=\"M94,130.34 C94,146.61 94,163.81 94,176.93 \" fill=\"none\" id=\"E2&lt;-E3\" style=\"stroke: #383838; stroke-width: 1.0;\"/><polygon fill=\"#383838\" points=\"94,117,90,123,94,129,98,123,94,117\" style=\"stroke: #383838; stroke-width: 1.0;\"/><text fill=\"#000000\" font-family=\"sans-serif\" font-size=\"13\" lengthAdjust=\"spacingAndGlyphs\" textLength=\"7\" x=\"86.0594\" y=\"165.8075\">*</text></a><!--MD5=[03a7aee90665a5611de21d7f2c5b7446]\n",
       "@startuml\r\n",
       "skinparam linetype polyline\r\n",
       "skinparam monochrome true\r\n",
       "skinparam classbackgroundcolor white\r\n",
       "skinparam shadowing false\r\n",
       "skinparam wrapWidth 300\r\n",
       "hide circle\r\n",
       "\r\n",
       "package \"TextualRepresentationTest\" as E1  [[psysml:6b3c9659-b47e-4a53-85ed-693ccedcdfc8 ]]  {\r\n",
       "comp def \"C\" as E2  <<(T,blue) item  def>> [[psysml:83925eaf-d327-49ae-8c67-e64c48e757fa ]] {\r\n",
       "- - attributes - -\r\n",
       "x: Real\r\n",
       "}\r\n",
       "comp usage \"x_constraint\" as E3  <<(T,blue) assert constraint>> [[psysml:9e9e8e01-075a-4e09-a2e1-8d13feba95d6 ]] {\r\n",
       "}\r\n",
       "rec def \"setX\" as E4  <<(T,blue) action  def>> [[psysml:056920e1-03e4-42f5-9f87-f97cbdc58602 ]] {\r\n",
       "portin \"c\" as E5  [[psysml:01d56035-c08c-482f-9257-c9260a493ad7 ]] \r\n",
       "portin \"newX\" as E6  [[psysml:7d0c1fa2-09eb-4f19-a101-add490a57fbe ]] \r\n",
       "}\r\n",
       "\r\n",
       "}\r\n",
       "E2 *- - \"*\"E3 [[psysml:03d8b6ce-86e3-4804-a1ae-2a2287936712 ]] \r\n",
       "@enduml\r\n",
       "\n",
       "PlantUML version 1.2020.13(Sat Jun 13 12:26:38 UTC 2020)\n",
       "(EPL source distribution)\n",
       "Java Runtime: OpenJDK Runtime Environment\n",
       "JVM: OpenJDK 64-Bit Server VM\n",
       "Default Encoding: UTF-8\n",
       "Language: en\n",
       "Country: null\n",
       "--></g></svg>"
      ]
     },
     "execution_count": 15,
     "metadata": {},
     "output_type": "execute_result"
    }
   ],
   "source": [
    "%viz --style=\"POLYLINE\" --view=\"MIXED\" \"TextualRepresentationTest\""
   ]
  },
  {
   "cell_type": "code",
   "execution_count": 16,
   "id": "baceb52c",
   "metadata": {
    "execution": {
     "iopub.execute_input": "2021-11-13T13:00:35.451534Z",
     "iopub.status.busy": "2021-11-13T13:00:35.451131Z",
     "iopub.status.idle": "2021-11-13T13:00:35.495939Z",
     "shell.execute_reply": "2021-11-13T13:00:35.495647Z"
    }
   },
   "outputs": [
    {
     "data": {
      "image/svg+xml": [
       "<?xml version=\"1.0\" encoding=\"UTF-8\" standalone=\"no\"?><svg xmlns=\"http://www.w3.org/2000/svg\" xmlns:xlink=\"http://www.w3.org/1999/xlink\" contentScriptType=\"application/ecmascript\" contentStyleType=\"text/css\" height=\"247px\" preserveAspectRatio=\"none\" style=\"width:332px;height:247px;\" version=\"1.1\" viewBox=\"0 0 332 247\" width=\"332px\" zoomAndPan=\"magnify\"><defs/><g><!--MD5=[fbc87193dbaf4d95561dea2c320d4a47]\n",
       "cluster E1--><a href=\"psysml:6b3c9659-b47e-4a53-85ed-693ccedcdfc8\" target=\"_top\" title=\"psysml:6b3c9659-b47e-4a53-85ed-693ccedcdfc8\" xlink:actuate=\"onRequest\" xlink:href=\"psysml:6b3c9659-b47e-4a53-85ed-693ccedcdfc8\" xlink:show=\"new\" xlink:title=\"psysml:6b3c9659-b47e-4a53-85ed-693ccedcdfc8\" xlink:type=\"simple\"><polygon fill=\"#FFFFFF\" points=\"16,6,210,6,217,28.2969,310,28.2969,310,235,16,235,16,6\" style=\"stroke: #000000; stroke-width: 1.5;\"/><line style=\"stroke: #000000; stroke-width: 1.5;\" x1=\"16\" x2=\"217\" y1=\"28.2969\" y2=\"28.2969\"/><text fill=\"#000000\" font-family=\"sans-serif\" font-size=\"14\" font-weight=\"bold\" lengthAdjust=\"spacingAndGlyphs\" textLength=\"188\" x=\"20\" y=\"20.9951\">TextualRepresentationTest</text></a><!--MD5=[f6df4d0ebaf0b5dfb2ced0ae5af7c670]\n",
       "cluster E4--><a href=\"psysml:056920e1-03e4-42f5-9f87-f97cbdc58602\" target=\"_top\" title=\"psysml:056920e1-03e4-42f5-9f87-f97cbdc58602\" xlink:actuate=\"onRequest\" xlink:href=\"psysml:056920e1-03e4-42f5-9f87-f97cbdc58602\" xlink:show=\"new\" xlink:title=\"psysml:056920e1-03e4-42f5-9f87-f97cbdc58602\" xlink:type=\"simple\"><rect fill=\"#FFFFFF\" height=\"47\" id=\"E4\" style=\"stroke: #383838; stroke-width: 1.5;\" width=\"244.5\" x=\"49.5\" y=\"55\"/><rect fill=\"#F8F8F8\" height=\"37.9375\" style=\"stroke: #383838; stroke-width: 1.5;\" width=\"244.5\" x=\"49.5\" y=\"55\"/><text fill=\"#000000\" font-family=\"sans-serif\" font-size=\"12\" font-style=\"italic\" lengthAdjust=\"spacingAndGlyphs\" textLength=\"81\" x=\"131.25\" y=\"71.1387\">«action  def»</text><text fill=\"#000000\" font-family=\"sans-serif\" font-size=\"12\" lengthAdjust=\"spacingAndGlyphs\" textLength=\"27\" x=\"158.25\" y=\"85.1074\">setX</text></a><!--MD5=[b4997ac47864f28c2f74865a473b2911]\n",
       "class E2--><a href=\"psysml:83925eaf-d327-49ae-8c67-e64c48e757fa\" target=\"_top\" title=\"psysml:83925eaf-d327-49ae-8c67-e64c48e757fa\" xlink:actuate=\"onRequest\" xlink:href=\"psysml:83925eaf-d327-49ae-8c67-e64c48e757fa\" xlink:show=\"new\" xlink:title=\"psysml:83925eaf-d327-49ae-8c67-e64c48e757fa\" xlink:type=\"simple\"><rect fill=\"#FFFFFF\" height=\"75.5469\" id=\"E2\" style=\"stroke: #383838; stroke-width: 1.5;\" width=\"71\" x=\"32\" y=\"143\"/><text fill=\"#000000\" font-family=\"sans-serif\" font-size=\"12\" font-style=\"italic\" lengthAdjust=\"spacingAndGlyphs\" textLength=\"69\" x=\"33\" y=\"159.1387\">«item  def»</text><text fill=\"#000000\" font-family=\"sans-serif\" font-size=\"12\" lengthAdjust=\"spacingAndGlyphs\" textLength=\"8\" x=\"63.5\" y=\"173.1074\">C</text><line style=\"stroke: #383838; stroke-width: 1.5;\" x1=\"33\" x2=\"102\" y1=\"180.9375\" y2=\"180.9375\"/><text fill=\"#000000\" font-family=\"sans-serif\" font-size=\"11\" lengthAdjust=\"spacingAndGlyphs\" textLength=\"38\" x=\"38\" y=\"211.9526\">x: Real</text><line style=\"stroke: #383838; stroke-width: 1.0;\" x1=\"33\" x2=\"40\" y1=\"195.3398\" y2=\"195.3398\"/><text fill=\"#000000\" font-family=\"sans-serif\" font-size=\"11\" lengthAdjust=\"spacingAndGlyphs\" textLength=\"55\" x=\"40\" y=\"198.6479\">attributes</text><line style=\"stroke: #383838; stroke-width: 1.0;\" x1=\"95\" x2=\"102\" y1=\"195.3398\" y2=\"195.3398\"/></a><!--MD5=[09b614a08d8cba4a07c9adeb5e0fee81]\n",
       "class E3--><a href=\"psysml:9e9e8e01-075a-4e09-a2e1-8d13feba95d6\" target=\"_top\" title=\"psysml:9e9e8e01-075a-4e09-a2e1-8d13feba95d6\" xlink:actuate=\"onRequest\" xlink:href=\"psysml:9e9e8e01-075a-4e09-a2e1-8d13feba95d6\" xlink:show=\"new\" xlink:title=\"psysml:9e9e8e01-075a-4e09-a2e1-8d13feba95d6\" xlink:type=\"simple\"><rect fill=\"#FFFFFF\" height=\"45.9375\" id=\"E3\" rx=\"10\" ry=\"10\" style=\"stroke: #383838; stroke-width: 1.5;\" width=\"124\" x=\"163\" y=\"158\"/><text fill=\"#000000\" font-family=\"sans-serif\" font-size=\"12\" font-style=\"italic\" lengthAdjust=\"spacingAndGlyphs\" textLength=\"122\" x=\"164\" y=\"174.1387\">«assert constraint»</text><text fill=\"#000000\" font-family=\"sans-serif\" font-size=\"12\" lengthAdjust=\"spacingAndGlyphs\" textLength=\"76\" x=\"187\" y=\"188.1074\">x_constraint</text><line style=\"stroke: #383838; stroke-width: 1.5;\" x1=\"164\" x2=\"286\" y1=\"195.9375\" y2=\"195.9375\"/></a><text fill=\"#000000\" font-family=\"sans-serif\" font-size=\"14\" lengthAdjust=\"spacingAndGlyphs\" textLength=\"8\" x=\"63.5\" y=\"120.9951\">c</text><rect fill=\"#383838\" height=\"12\" style=\"stroke: #F8F8F8; stroke-width: 1.5;\" width=\"12\" x=\"61.5\" y=\"96\"/><text fill=\"#000000\" font-family=\"sans-serif\" font-size=\"14\" lengthAdjust=\"spacingAndGlyphs\" textLength=\"38\" x=\"48.5\" y=\"33.6982\">newX</text><rect fill=\"#383838\" height=\"12\" style=\"stroke: #F8F8F8; stroke-width: 1.5;\" width=\"12\" x=\"61.5\" y=\"49\"/><!--MD5=[209b3feb70ccb6233bfe1053d122c12c]\n",
       "reverse link E2 to E3--><a href=\"psysml:03d8b6ce-86e3-4804-a1ae-2a2287936712\" target=\"_top\" title=\"psysml:03d8b6ce-86e3-4804-a1ae-2a2287936712\" xlink:actuate=\"onRequest\" xlink:href=\"psysml:03d8b6ce-86e3-4804-a1ae-2a2287936712\" xlink:show=\"new\" xlink:title=\"psysml:03d8b6ce-86e3-4804-a1ae-2a2287936712\" xlink:type=\"simple\"><path d=\"M116.04,181 C130.85,181 147.38,181 162.98,181 \" fill=\"none\" id=\"E2&lt;-E3\" style=\"stroke: #383838; stroke-width: 1.0;\"/><polygon fill=\"#383838\" points=\"103.01,181,109.01,185,115.01,181,109.01,177,103.01,181\" style=\"stroke: #383838; stroke-width: 1.0;\"/><text fill=\"#000000\" font-family=\"sans-serif\" font-size=\"13\" lengthAdjust=\"spacingAndGlyphs\" textLength=\"7\" x=\"147.9947\" y=\"193.9929\">*</text></a><!--MD5=[608e35e173e24848d8d1a0f5a311357e]\n",
       "@startuml\r\n",
       "left to right direction\r\n",
       "skinparam monochrome true\r\n",
       "skinparam classbackgroundcolor white\r\n",
       "skinparam shadowing false\r\n",
       "skinparam wrapWidth 300\r\n",
       "hide circle\r\n",
       "\r\n",
       "package \"TextualRepresentationTest\" as E1  [[psysml:6b3c9659-b47e-4a53-85ed-693ccedcdfc8 ]]  {\r\n",
       "comp def \"C\" as E2  <<(T,blue) item  def>> [[psysml:83925eaf-d327-49ae-8c67-e64c48e757fa ]] {\r\n",
       "- - attributes - -\r\n",
       "x: Real\r\n",
       "}\r\n",
       "comp usage \"x_constraint\" as E3  <<(T,blue) assert constraint>> [[psysml:9e9e8e01-075a-4e09-a2e1-8d13feba95d6 ]] {\r\n",
       "}\r\n",
       "rec def \"setX\" as E4  <<(T,blue) action  def>> [[psysml:056920e1-03e4-42f5-9f87-f97cbdc58602 ]] {\r\n",
       "portin \"c\" as E5  [[psysml:01d56035-c08c-482f-9257-c9260a493ad7 ]] \r\n",
       "portin \"newX\" as E6  [[psysml:7d0c1fa2-09eb-4f19-a101-add490a57fbe ]] \r\n",
       "}\r\n",
       "\r\n",
       "}\r\n",
       "E2 *- - \"*\"E3 [[psysml:03d8b6ce-86e3-4804-a1ae-2a2287936712 ]] \r\n",
       "@enduml\r\n",
       "\n",
       "PlantUML version 1.2020.13(Sat Jun 13 12:26:38 UTC 2020)\n",
       "(EPL source distribution)\n",
       "Java Runtime: OpenJDK Runtime Environment\n",
       "JVM: OpenJDK 64-Bit Server VM\n",
       "Default Encoding: UTF-8\n",
       "Language: en\n",
       "Country: null\n",
       "--></g></svg>"
      ]
     },
     "execution_count": 16,
     "metadata": {},
     "output_type": "execute_result"
    }
   ],
   "source": [
    "%viz --style=\"LR\" --view=\"Default\" \"TextualRepresentationTest\""
   ]
  },
  {
   "cell_type": "code",
   "execution_count": 17,
   "id": "287752ef",
   "metadata": {
    "execution": {
     "iopub.execute_input": "2021-11-13T13:00:35.545867Z",
     "iopub.status.busy": "2021-11-13T13:00:35.545465Z",
     "iopub.status.idle": "2021-11-13T13:00:35.613903Z",
     "shell.execute_reply": "2021-11-13T13:00:35.614060Z"
    }
   },
   "outputs": [
    {
     "data": {
      "image/svg+xml": [
       "<?xml version=\"1.0\" encoding=\"UTF-8\" standalone=\"no\"?><svg xmlns=\"http://www.w3.org/2000/svg\" xmlns:xlink=\"http://www.w3.org/1999/xlink\" contentScriptType=\"application/ecmascript\" contentStyleType=\"text/css\" height=\"178px\" preserveAspectRatio=\"none\" style=\"width:483px;height:178px;\" version=\"1.1\" viewBox=\"0 0 483 178\" width=\"483px\" zoomAndPan=\"magnify\"><defs/><g><!--MD5=[fbc87193dbaf4d95561dea2c320d4a47]\n",
       "cluster E1--><a href=\"psysml:6b3c9659-b47e-4a53-85ed-693ccedcdfc8\" target=\"_top\" title=\"psysml:6b3c9659-b47e-4a53-85ed-693ccedcdfc8\" xlink:actuate=\"onRequest\" xlink:href=\"psysml:6b3c9659-b47e-4a53-85ed-693ccedcdfc8\" xlink:show=\"new\" xlink:title=\"psysml:6b3c9659-b47e-4a53-85ed-693ccedcdfc8\" xlink:type=\"simple\"><polygon fill=\"#FFFFFF\" points=\"16,6,210,6,217,28.2969,461,28.2969,461,166,16,166,16,6\" style=\"stroke: #000000; stroke-width: 1.5;\"/><line style=\"stroke: #000000; stroke-width: 1.5;\" x1=\"16\" x2=\"217\" y1=\"28.2969\" y2=\"28.2969\"/><text fill=\"#000000\" font-family=\"sans-serif\" font-size=\"14\" font-weight=\"bold\" lengthAdjust=\"spacingAndGlyphs\" textLength=\"188\" x=\"20\" y=\"20.9951\">TextualRepresentationTest</text></a><!--MD5=[b4997ac47864f28c2f74865a473b2911]\n",
       "class E2--><a href=\"psysml:83925eaf-d327-49ae-8c67-e64c48e757fa\" target=\"_top\" title=\"psysml:83925eaf-d327-49ae-8c67-e64c48e757fa\" xlink:actuate=\"onRequest\" xlink:href=\"psysml:83925eaf-d327-49ae-8c67-e64c48e757fa\" xlink:show=\"new\" xlink:title=\"psysml:83925eaf-d327-49ae-8c67-e64c48e757fa\" xlink:type=\"simple\"><rect fill=\"#FFFFFF\" height=\"75.5469\" id=\"E2\" style=\"stroke: #383838; stroke-width: 1.5;\" width=\"71\" x=\"189\" y=\"58\"/><text fill=\"#000000\" font-family=\"sans-serif\" font-size=\"12\" font-style=\"italic\" lengthAdjust=\"spacingAndGlyphs\" textLength=\"69\" x=\"190\" y=\"74.1387\">«item  def»</text><text fill=\"#000000\" font-family=\"sans-serif\" font-size=\"12\" lengthAdjust=\"spacingAndGlyphs\" textLength=\"8\" x=\"220.5\" y=\"88.1074\">C</text><line style=\"stroke: #383838; stroke-width: 1.5;\" x1=\"190\" x2=\"259\" y1=\"95.9375\" y2=\"95.9375\"/><text fill=\"#000000\" font-family=\"sans-serif\" font-size=\"11\" lengthAdjust=\"spacingAndGlyphs\" textLength=\"38\" x=\"195\" y=\"126.9526\">x: Real</text><line style=\"stroke: #383838; stroke-width: 1.0;\" x1=\"190\" x2=\"197\" y1=\"110.3398\" y2=\"110.3398\"/><text fill=\"#000000\" font-family=\"sans-serif\" font-size=\"11\" lengthAdjust=\"spacingAndGlyphs\" textLength=\"55\" x=\"197\" y=\"113.6479\">attributes</text><line style=\"stroke: #383838; stroke-width: 1.0;\" x1=\"252\" x2=\"259\" y1=\"110.3398\" y2=\"110.3398\"/></a><!--MD5=[09b614a08d8cba4a07c9adeb5e0fee81]\n",
       "class E3--><a href=\"psysml:9e9e8e01-075a-4e09-a2e1-8d13feba95d6\" target=\"_top\" title=\"psysml:9e9e8e01-075a-4e09-a2e1-8d13feba95d6\" xlink:actuate=\"onRequest\" xlink:href=\"psysml:9e9e8e01-075a-4e09-a2e1-8d13feba95d6\" xlink:show=\"new\" xlink:title=\"psysml:9e9e8e01-075a-4e09-a2e1-8d13feba95d6\" xlink:type=\"simple\"><rect fill=\"#FFFFFF\" height=\"45.9375\" id=\"E3\" rx=\"10\" ry=\"10\" style=\"stroke: #383838; stroke-width: 1.5;\" width=\"124\" x=\"321\" y=\"73\"/><text fill=\"#000000\" font-family=\"sans-serif\" font-size=\"12\" font-style=\"italic\" lengthAdjust=\"spacingAndGlyphs\" textLength=\"122\" x=\"322\" y=\"89.1387\">«assert constraint»</text><text fill=\"#000000\" font-family=\"sans-serif\" font-size=\"12\" lengthAdjust=\"spacingAndGlyphs\" textLength=\"76\" x=\"345\" y=\"103.1074\">x_constraint</text><line style=\"stroke: #383838; stroke-width: 1.5;\" x1=\"322\" x2=\"444\" y1=\"110.9375\" y2=\"110.9375\"/></a><!--MD5=[ebbe1d658d1005bcc118a6aa81145e00]\n",
       "class E4--><a href=\"psysml:056920e1-03e4-42f5-9f87-f97cbdc58602\" target=\"_top\" title=\"psysml:056920e1-03e4-42f5-9f87-f97cbdc58602\" xlink:actuate=\"onRequest\" xlink:href=\"psysml:056920e1-03e4-42f5-9f87-f97cbdc58602\" xlink:show=\"new\" xlink:title=\"psysml:056920e1-03e4-42f5-9f87-f97cbdc58602\" xlink:type=\"simple\"><rect fill=\"#FFFFFF\" height=\"88.3516\" id=\"E4\" style=\"stroke: #383838; stroke-width: 1.5;\" width=\"88\" x=\"32\" y=\"52\"/><text fill=\"#000000\" font-family=\"sans-serif\" font-size=\"12\" font-style=\"italic\" lengthAdjust=\"spacingAndGlyphs\" textLength=\"81\" x=\"35.5\" y=\"68.1387\">«action  def»</text><text fill=\"#000000\" font-family=\"sans-serif\" font-size=\"12\" lengthAdjust=\"spacingAndGlyphs\" textLength=\"27\" x=\"62.5\" y=\"82.1074\">setX</text><line style=\"stroke: #383838; stroke-width: 1.5;\" x1=\"33\" x2=\"119\" y1=\"89.9375\" y2=\"89.9375\"/><text fill=\"#000000\" font-family=\"sans-serif\" font-size=\"11\" font-weight=\"bold\" lengthAdjust=\"spacingAndGlyphs\" textLength=\"10\" x=\"38\" y=\"120.9526\">in</text><text fill=\"#000000\" font-family=\"sans-serif\" font-size=\"11\" lengthAdjust=\"spacingAndGlyphs\" textLength=\"22\" x=\"52\" y=\"120.9526\">c: C</text><text fill=\"#000000\" font-family=\"sans-serif\" font-size=\"11\" font-weight=\"bold\" lengthAdjust=\"spacingAndGlyphs\" textLength=\"10\" x=\"38\" y=\"133.7573\">in</text><text fill=\"#000000\" font-family=\"sans-serif\" font-size=\"11\" lengthAdjust=\"spacingAndGlyphs\" textLength=\"62\" x=\"52\" y=\"133.7573\">newX: Real</text><line style=\"stroke: #383838; stroke-width: 1.0;\" x1=\"33\" x2=\"42.5\" y1=\"104.3398\" y2=\"104.3398\"/><text fill=\"#000000\" font-family=\"sans-serif\" font-size=\"11\" lengthAdjust=\"spacingAndGlyphs\" textLength=\"67\" x=\"42.5\" y=\"107.6479\">parameters</text><line style=\"stroke: #383838; stroke-width: 1.0;\" x1=\"109.5\" x2=\"119\" y1=\"104.3398\" y2=\"104.3398\"/></a><!--MD5=[209b3feb70ccb6233bfe1053d122c12c]\n",
       "reverse link E2 to E3--><a href=\"psysml:03d8b6ce-86e3-4804-a1ae-2a2287936712\" target=\"_top\" title=\"psysml:03d8b6ce-86e3-4804-a1ae-2a2287936712\" xlink:actuate=\"onRequest\" xlink:href=\"psysml:03d8b6ce-86e3-4804-a1ae-2a2287936712\" xlink:show=\"new\" xlink:title=\"psysml:03d8b6ce-86e3-4804-a1ae-2a2287936712\" xlink:type=\"simple\"><path d=\"M273.42,96 C288.4,96 305.14,96 320.9,96 \" fill=\"none\" id=\"E2&lt;-E3\" style=\"stroke: #383838; stroke-width: 1.0;\"/><polygon fill=\"#383838\" points=\"260.23,96,266.23,100,272.23,96,266.23,92,260.23,96\" style=\"stroke: #383838; stroke-width: 1.0;\"/><text fill=\"#000000\" font-family=\"sans-serif\" font-size=\"13\" lengthAdjust=\"spacingAndGlyphs\" textLength=\"7\" x=\"305.905\" y=\"108.9929\">*</text></a><!--MD5=[ddeed8deb2209213b62e6cfabaa108b2]\n",
       "reverse link E4 to E2--><a href=\"psysml:01d56035-c08c-482f-9257-c9260a493ad7\" target=\"_top\" title=\"psysml:01d56035-c08c-482f-9257-c9260a493ad7\" xlink:actuate=\"onRequest\" xlink:href=\"psysml:01d56035-c08c-482f-9257-c9260a493ad7\" xlink:show=\"new\" xlink:title=\"psysml:01d56035-c08c-482f-9257-c9260a493ad7\" xlink:type=\"simple\"><path d=\"M132.95,117.6 C141.61,119.03 150.5,119.41 159,118 C168.92,116.35 179.36,113.38 188.89,110.13 \" fill=\"none\" id=\"E4&lt;-E2\" style=\"stroke: #383838; stroke-width: 1.0;\"/><polygon fill=\"#FFFFFF\" points=\"120.06,114.73,125.0457,119.9399,131.7724,117.3415,126.7867,112.1316,120.06,114.73\" style=\"stroke: #383838; stroke-width: 1.0;\"/><text fill=\"#000000\" font-family=\"sans-serif\" font-size=\"13\" lengthAdjust=\"spacingAndGlyphs\" textLength=\"7\" x=\"151\" y=\"114.0669\">c</text></a><!--MD5=[ddeed8deb2209213b62e6cfabaa108b2]\n",
       "reverse link E4 to E2--><a href=\"psysml:01d56035-c08c-482f-9257-c9260a493ad7\" target=\"_top\" title=\"psysml:01d56035-c08c-482f-9257-c9260a493ad7\" xlink:actuate=\"onRequest\" xlink:href=\"psysml:01d56035-c08c-482f-9257-c9260a493ad7\" xlink:show=\"new\" xlink:title=\"psysml:01d56035-c08c-482f-9257-c9260a493ad7\" xlink:type=\"simple\"><path d=\"M133.17,96 C151.97,96 172.35,96 188.99,96 \" fill=\"none\" id=\"E4&lt;-E2-1\" style=\"stroke: #383838; stroke-width: 1.0;\"/><polygon fill=\"#FFFFFF\" points=\"120.16,96,126.16,100,132.16,96,126.16,92,120.16,96\" style=\"stroke: #383838; stroke-width: 1.0;\"/><text fill=\"#000000\" font-family=\"sans-serif\" font-size=\"13\" lengthAdjust=\"spacingAndGlyphs\" textLength=\"7\" x=\"151\" y=\"92.0669\">c</text></a><!--MD5=[6d04a2c76ecb3af8c678df631c2720b5]\n",
       "@startuml\r\n",
       "left to right direction\r\n",
       "skinparam monochrome true\r\n",
       "skinparam classbackgroundcolor white\r\n",
       "skinparam shadowing false\r\n",
       "skinparam wrapWidth 300\r\n",
       "hide circle\r\n",
       "\r\n",
       "package \"TextualRepresentationTest\" as E1  [[psysml:6b3c9659-b47e-4a53-85ed-693ccedcdfc8 ]]  {\r\n",
       "comp def \"C\" as E2  <<(T,blue) item  def>> [[psysml:83925eaf-d327-49ae-8c67-e64c48e757fa ]] {\r\n",
       "- - attributes - -\r\n",
       "x: Real\r\n",
       "}\r\n",
       "comp usage \"x_constraint\" as E3  <<(T,blue) assert constraint>> [[psysml:9e9e8e01-075a-4e09-a2e1-8d13feba95d6 ]] {\r\n",
       "}\r\n",
       "comp def \"setX\" as E4  <<(T,blue) action  def>> [[psysml:056920e1-03e4-42f5-9f87-f97cbdc58602 ]] {\r\n",
       "- - parameters - -\r\n",
       "<b>in</b> c: C\r\n",
       "<b>in</b> newX: Real\r\n",
       "}\r\n",
       "}\r\n",
       "E2 *- - \"*\"E3 [[psysml:03d8b6ce-86e3-4804-a1ae-2a2287936712 ]] \r\n",
       "E4 o- - E2 [[psysml:01d56035-c08c-482f-9257-c9260a493ad7 ]] : c\r\n",
       "E4 o- - E2 [[psysml:01d56035-c08c-482f-9257-c9260a493ad7 ]] : c\r\n",
       "@enduml\r\n",
       "\n",
       "PlantUML version 1.2020.13(Sat Jun 13 12:26:38 UTC 2020)\n",
       "(EPL source distribution)\n",
       "Java Runtime: OpenJDK Runtime Environment\n",
       "JVM: OpenJDK 64-Bit Server VM\n",
       "Default Encoding: UTF-8\n",
       "Language: en\n",
       "Country: null\n",
       "--></g></svg>"
      ]
     },
     "execution_count": 17,
     "metadata": {},
     "output_type": "execute_result"
    }
   ],
   "source": [
    "%viz --style=\"LR\" --view=\"Tree\" \"TextualRepresentationTest\""
   ]
  },
  {
   "cell_type": "code",
   "execution_count": 18,
   "id": "dfdb73bf",
   "metadata": {
    "execution": {
     "iopub.execute_input": "2021-11-13T13:00:35.664113Z",
     "iopub.status.busy": "2021-11-13T13:00:35.663858Z",
     "iopub.status.idle": "2021-11-13T13:00:35.669043Z",
     "shell.execute_reply": "2021-11-13T13:00:35.669202Z"
    }
   },
   "outputs": [
    {
     "data": {
      "image/svg+xml": [
       "<?xml version=\"1.0\" encoding=\"UTF-8\" standalone=\"no\"?><svg xmlns=\"http://www.w3.org/2000/svg\" xmlns:xlink=\"http://www.w3.org/1999/xlink\" contentScriptType=\"application/ecmascript\" contentStyleType=\"text/css\" height=\"12px\" preserveAspectRatio=\"none\" style=\"width:12px;height:12px;\" version=\"1.1\" viewBox=\"0 0 12 12\" width=\"12px\" zoomAndPan=\"magnify\"><defs/><g><!--MD5=[19d285c9d72a204eba4e2cd117d745e8]\n",
       "@startuml\r\n",
       "left to right direction\r\n",
       "skinparam monochrome true\r\n",
       "skinparam classbackgroundcolor white\r\n",
       "skinparam shadowing false\r\n",
       "skinparam wrapWidth 300\r\n",
       "hide circle\r\n",
       "\r\n",
       "@enduml\r\n",
       "\n",
       "PlantUML version 1.2020.13(Sat Jun 13 12:26:38 UTC 2020)\n",
       "(EPL source distribution)\n",
       "Java Runtime: OpenJDK Runtime Environment\n",
       "JVM: OpenJDK 64-Bit Server VM\n",
       "Default Encoding: UTF-8\n",
       "Language: en\n",
       "Country: null\n",
       "--></g></svg>"
      ]
     },
     "execution_count": 18,
     "metadata": {},
     "output_type": "execute_result"
    }
   ],
   "source": [
    "%viz --style=\"LR\" --view=\"State\" \"TextualRepresentationTest\""
   ]
  },
  {
   "cell_type": "code",
   "execution_count": 19,
   "id": "cd2ac50f",
   "metadata": {
    "execution": {
     "iopub.execute_input": "2021-11-13T13:00:35.719904Z",
     "iopub.status.busy": "2021-11-13T13:00:35.719472Z",
     "iopub.status.idle": "2021-11-13T13:00:35.747925Z",
     "shell.execute_reply": "2021-11-13T13:00:35.748178Z"
    }
   },
   "outputs": [
    {
     "data": {
      "image/svg+xml": [
       "<?xml version=\"1.0\" encoding=\"UTF-8\" standalone=\"no\"?><svg xmlns=\"http://www.w3.org/2000/svg\" xmlns:xlink=\"http://www.w3.org/1999/xlink\" contentScriptType=\"application/ecmascript\" contentStyleType=\"text/css\" height=\"215px\" preserveAspectRatio=\"none\" style=\"width:284px;height:215px;\" version=\"1.1\" viewBox=\"0 0 284 215\" width=\"284px\" zoomAndPan=\"magnify\"><defs/><g><!--MD5=[fbc87193dbaf4d95561dea2c320d4a47]\n",
       "cluster E1--><a href=\"psysml:6b3c9659-b47e-4a53-85ed-693ccedcdfc8\" target=\"_top\" title=\"psysml:6b3c9659-b47e-4a53-85ed-693ccedcdfc8\" xlink:actuate=\"onRequest\" xlink:href=\"psysml:6b3c9659-b47e-4a53-85ed-693ccedcdfc8\" xlink:show=\"new\" xlink:title=\"psysml:6b3c9659-b47e-4a53-85ed-693ccedcdfc8\" xlink:type=\"simple\"><polygon fill=\"#FFFFFF\" points=\"16,6,210,6,217,28.2969,262,28.2969,262,203,16,203,16,6\" style=\"stroke: #000000; stroke-width: 1.5;\"/><line style=\"stroke: #000000; stroke-width: 1.5;\" x1=\"16\" x2=\"217\" y1=\"28.2969\" y2=\"28.2969\"/><text fill=\"#000000\" font-family=\"sans-serif\" font-size=\"14\" font-weight=\"bold\" lengthAdjust=\"spacingAndGlyphs\" textLength=\"188\" x=\"20\" y=\"20.9951\">TextualRepresentationTest</text></a><!--MD5=[d5e69f78d87373223dbae638b30a9c99]\n",
       "cluster E3--><a href=\"psysml:056920e1-03e4-42f5-9f87-f97cbdc58602\" target=\"_top\" title=\"psysml:056920e1-03e4-42f5-9f87-f97cbdc58602\" xlink:actuate=\"onRequest\" xlink:href=\"psysml:056920e1-03e4-42f5-9f87-f97cbdc58602\" xlink:show=\"new\" xlink:title=\"psysml:056920e1-03e4-42f5-9f87-f97cbdc58602\" xlink:type=\"simple\"><rect fill=\"#FFFFFF\" height=\"47\" id=\"E3\" style=\"stroke: #383838; stroke-width: 1.5;\" width=\"194\" x=\"52\" y=\"55\"/><rect fill=\"#F8F8F8\" height=\"37.9375\" style=\"stroke: #383838; stroke-width: 1.5;\" width=\"194\" x=\"52\" y=\"55\"/><text fill=\"#000000\" font-family=\"sans-serif\" font-size=\"12\" font-style=\"italic\" lengthAdjust=\"spacingAndGlyphs\" textLength=\"81\" x=\"108.5\" y=\"71.1387\">«action  def»</text><text fill=\"#000000\" font-family=\"sans-serif\" font-size=\"12\" lengthAdjust=\"spacingAndGlyphs\" textLength=\"27\" x=\"135.5\" y=\"85.1074\">setX</text></a><g id=\"E1.E2\"><a href=\"psysml:83925eaf-d327-49ae-8c67-e64c48e757fa\" target=\"_top\" title=\"psysml:83925eaf-d327-49ae-8c67-e64c48e757fa\" xlink:actuate=\"onRequest\" xlink:href=\"psysml:83925eaf-d327-49ae-8c67-e64c48e757fa\" xlink:show=\"new\" xlink:title=\"psysml:83925eaf-d327-49ae-8c67-e64c48e757fa\" xlink:type=\"simple\"><rect fill=\"#FFFFFF\" height=\"42.9375\" id=\"E2\" style=\"stroke: #383838; stroke-width: 1.5;\" width=\"76\" x=\"32\" y=\"143.5\"/><rect fill=\"#F8F8F8\" height=\"37.9375\" style=\"stroke: #383838; stroke-width: 1.5;\" width=\"76\" x=\"32\" y=\"143.5\"/><text fill=\"#000000\" font-family=\"sans-serif\" font-size=\"12\" font-style=\"italic\" lengthAdjust=\"spacingAndGlyphs\" textLength=\"69\" x=\"35.5\" y=\"159.6387\">«item  def»</text><text fill=\"#000000\" font-family=\"sans-serif\" font-size=\"12\" lengthAdjust=\"spacingAndGlyphs\" textLength=\"8\" x=\"66\" y=\"173.6074\">C</text></a></g><text fill=\"#000000\" font-family=\"sans-serif\" font-size=\"14\" lengthAdjust=\"spacingAndGlyphs\" textLength=\"8\" x=\"66\" y=\"120.9951\">c</text><rect fill=\"#383838\" height=\"12\" style=\"stroke: #F8F8F8; stroke-width: 1.5;\" width=\"12\" x=\"64\" y=\"96\"/><text fill=\"#000000\" font-family=\"sans-serif\" font-size=\"14\" lengthAdjust=\"spacingAndGlyphs\" textLength=\"38\" x=\"51\" y=\"33.6982\">newX</text><rect fill=\"#383838\" height=\"12\" style=\"stroke: #F8F8F8; stroke-width: 1.5;\" width=\"12\" x=\"64\" y=\"49\"/><!--MD5=[2970abfcfbd6f546b1f32448769868bd]\n",
       "@startuml\r\n",
       "skinparam ranksep 10\r\n",
       "skinparam rectangle {\r\n",
       " backgroundColor<<block>> LightGreen\r\n",
       "}\r\n",
       "left to right direction\r\n",
       "skinparam monochrome true\r\n",
       "skinparam classbackgroundcolor white\r\n",
       "skinparam shadowing false\r\n",
       "skinparam wrapWidth 300\r\n",
       "hide circle\r\n",
       "\r\n",
       "package \"TextualRepresentationTest\" as E1  [[psysml:6b3c9659-b47e-4a53-85ed-693ccedcdfc8 ]]  {\r\n",
       "def \"C\" as E2  <<(T,blue) item  def>> [[psysml:83925eaf-d327-49ae-8c67-e64c48e757fa ]] \r\n",
       "rec def \"setX\" as E3  <<(T,blue) action  def>> [[psysml:056920e1-03e4-42f5-9f87-f97cbdc58602 ]] {\r\n",
       "portin \"c\" as E4  [[psysml:01d56035-c08c-482f-9257-c9260a493ad7 ]] \r\n",
       "portin \"newX\" as E5  [[psysml:7d0c1fa2-09eb-4f19-a101-add490a57fbe ]] \r\n",
       "}\r\n",
       "\r\n",
       "}\r\n",
       "@enduml\r\n",
       "\n",
       "PlantUML version 1.2020.13(Sat Jun 13 12:26:38 UTC 2020)\n",
       "(EPL source distribution)\n",
       "Java Runtime: OpenJDK Runtime Environment\n",
       "JVM: OpenJDK 64-Bit Server VM\n",
       "Default Encoding: UTF-8\n",
       "Language: en\n",
       "Country: null\n",
       "--></g></svg>"
      ]
     },
     "execution_count": 19,
     "metadata": {},
     "output_type": "execute_result"
    }
   ],
   "source": [
    "%viz --style=\"LR\" --view=\"Interconnection\" \"TextualRepresentationTest\""
   ]
  },
  {
   "cell_type": "code",
   "execution_count": 20,
   "id": "987a3eda",
   "metadata": {
    "execution": {
     "iopub.execute_input": "2021-11-13T13:00:35.797784Z",
     "iopub.status.busy": "2021-11-13T13:00:35.797576Z",
     "iopub.status.idle": "2021-11-13T13:00:35.819867Z",
     "shell.execute_reply": "2021-11-13T13:00:35.820022Z"
    }
   },
   "outputs": [
    {
     "data": {
      "image/svg+xml": [
       "<?xml version=\"1.0\" encoding=\"UTF-8\" standalone=\"no\"?><svg xmlns=\"http://www.w3.org/2000/svg\" xmlns:xlink=\"http://www.w3.org/1999/xlink\" contentScriptType=\"application/ecmascript\" contentStyleType=\"text/css\" height=\"121px\" preserveAspectRatio=\"none\" style=\"width:180px;height:121px;\" version=\"1.1\" viewBox=\"0 0 180 121\" width=\"180px\" zoomAndPan=\"magnify\"><defs/><g><!--MD5=[fbc87193dbaf4d95561dea2c320d4a47]\n",
       "cluster E1--><a href=\"psysml:056920e1-03e4-42f5-9f87-f97cbdc58602\" target=\"_top\" title=\"psysml:056920e1-03e4-42f5-9f87-f97cbdc58602\" xlink:actuate=\"onRequest\" xlink:href=\"psysml:056920e1-03e4-42f5-9f87-f97cbdc58602\" xlink:show=\"new\" xlink:title=\"psysml:056920e1-03e4-42f5-9f87-f97cbdc58602\" xlink:type=\"simple\"><rect fill=\"#FFFFFF\" height=\"47\" id=\"E1\" style=\"stroke: #383838; stroke-width: 1.5;\" width=\"162\" x=\"7\" y=\"42.0986\"/><rect fill=\"#F8F8F8\" height=\"37.9375\" style=\"stroke: #383838; stroke-width: 1.5;\" width=\"162\" x=\"7\" y=\"42.0986\"/><text fill=\"#000000\" font-family=\"sans-serif\" font-size=\"12\" font-style=\"italic\" lengthAdjust=\"spacingAndGlyphs\" textLength=\"81\" x=\"47.5\" y=\"58.2373\">«action  def»</text><text fill=\"#000000\" font-family=\"sans-serif\" font-size=\"12\" lengthAdjust=\"spacingAndGlyphs\" textLength=\"27\" x=\"74.5\" y=\"72.2061\">setX</text></a><text fill=\"#000000\" font-family=\"sans-serif\" font-size=\"14\" lengthAdjust=\"spacingAndGlyphs\" textLength=\"8\" x=\"21\" y=\"108.0938\">c</text><rect fill=\"#383838\" height=\"12\" style=\"stroke: #F8F8F8; stroke-width: 1.5;\" width=\"12\" x=\"19\" y=\"83.0986\"/><text fill=\"#000000\" font-family=\"sans-serif\" font-size=\"14\" lengthAdjust=\"spacingAndGlyphs\" textLength=\"38\" x=\"6\" y=\"20.7969\">newX</text><rect fill=\"#383838\" height=\"12\" style=\"stroke: #F8F8F8; stroke-width: 1.5;\" width=\"12\" x=\"19\" y=\"36.0986\"/><!--MD5=[fb657eb1c5c4687a815b59d62c05b670]\n",
       "@startuml\r\n",
       "skinparam ranksep 8\r\n",
       "left to right direction\r\n",
       "skinparam monochrome true\r\n",
       "skinparam classbackgroundcolor white\r\n",
       "skinparam shadowing false\r\n",
       "skinparam wrapWidth 300\r\n",
       "hide circle\r\n",
       "\r\n",
       "rec def \"setX\" as E1  <<(T,blue) action  def>> [[psysml:056920e1-03e4-42f5-9f87-f97cbdc58602 ]] {\r\n",
       "portin \"c\" as E2  [[psysml:01d56035-c08c-482f-9257-c9260a493ad7 ]] \r\n",
       "portin \"newX\" as E3  [[psysml:7d0c1fa2-09eb-4f19-a101-add490a57fbe ]] \r\n",
       "}\r\n",
       "\r\n",
       "@enduml\r\n",
       "\n",
       "PlantUML version 1.2020.13(Sat Jun 13 12:26:38 UTC 2020)\n",
       "(EPL source distribution)\n",
       "Java Runtime: OpenJDK Runtime Environment\n",
       "JVM: OpenJDK 64-Bit Server VM\n",
       "Default Encoding: UTF-8\n",
       "Language: en\n",
       "Country: null\n",
       "--></g></svg>"
      ]
     },
     "execution_count": 20,
     "metadata": {},
     "output_type": "execute_result"
    }
   ],
   "source": [
    "%viz --style=\"LR\" --view=\"Action\" \"TextualRepresentationTest\""
   ]
  },
  {
   "cell_type": "code",
   "execution_count": 21,
   "id": "8b847c72",
   "metadata": {
    "execution": {
     "iopub.execute_input": "2021-11-13T13:00:35.870644Z",
     "iopub.status.busy": "2021-11-13T13:00:35.870243Z",
     "iopub.status.idle": "2021-11-13T13:00:35.875615Z",
     "shell.execute_reply": "2021-11-13T13:00:35.875883Z"
    }
   },
   "outputs": [
    {
     "data": {
      "image/svg+xml": [
       "<?xml version=\"1.0\" encoding=\"UTF-8\" standalone=\"no\"?><svg xmlns=\"http://www.w3.org/2000/svg\" xmlns:xlink=\"http://www.w3.org/1999/xlink\" contentScriptType=\"application/ecmascript\" contentStyleType=\"text/css\" height=\"12px\" preserveAspectRatio=\"none\" style=\"width:12px;height:12px;\" version=\"1.1\" viewBox=\"0 0 12 12\" width=\"12px\" zoomAndPan=\"magnify\"><defs/><g><!--MD5=[238c11ea2002f03115ad6b49a457d50e]\n",
       "@startuml\r\n",
       "skinparam roundcorner 20\r\n",
       "skinparam BoxPadding 20\r\n",
       "skinparam SequenceBoxBackgroundColor #white\r\n",
       "skinparam style strictuml\r\n",
       "skinparam maxMessageSize 100\r\n",
       "left to right direction\r\n",
       "skinparam monochrome true\r\n",
       "skinparam classbackgroundcolor white\r\n",
       "skinparam shadowing false\r\n",
       "skinparam wrapWidth 300\r\n",
       "hide circle\r\n",
       "\r\n",
       "@enduml\r\n",
       "\n",
       "PlantUML version 1.2020.13(Sat Jun 13 12:26:38 UTC 2020)\n",
       "(EPL source distribution)\n",
       "Java Runtime: OpenJDK Runtime Environment\n",
       "JVM: OpenJDK 64-Bit Server VM\n",
       "Default Encoding: UTF-8\n",
       "Language: en\n",
       "Country: null\n",
       "--></g></svg>"
      ]
     },
     "execution_count": 21,
     "metadata": {},
     "output_type": "execute_result"
    }
   ],
   "source": [
    "%viz --style=\"LR\" --view=\"Sequence\" \"TextualRepresentationTest\""
   ]
  },
  {
   "cell_type": "code",
   "execution_count": 22,
   "id": "681db524",
   "metadata": {
    "execution": {
     "iopub.execute_input": "2021-11-13T13:00:35.925822Z",
     "iopub.status.busy": "2021-11-13T13:00:35.925495Z",
     "iopub.status.idle": "2021-11-13T13:00:35.969990Z",
     "shell.execute_reply": "2021-11-13T13:00:35.969637Z"
    }
   },
   "outputs": [
    {
     "data": {
      "image/svg+xml": [
       "<?xml version=\"1.0\" encoding=\"UTF-8\" standalone=\"no\"?><svg xmlns=\"http://www.w3.org/2000/svg\" xmlns:xlink=\"http://www.w3.org/1999/xlink\" contentScriptType=\"application/ecmascript\" contentStyleType=\"text/css\" height=\"247px\" preserveAspectRatio=\"none\" style=\"width:332px;height:247px;\" version=\"1.1\" viewBox=\"0 0 332 247\" width=\"332px\" zoomAndPan=\"magnify\"><defs/><g><!--MD5=[fbc87193dbaf4d95561dea2c320d4a47]\n",
       "cluster E1--><a href=\"psysml:6b3c9659-b47e-4a53-85ed-693ccedcdfc8\" target=\"_top\" title=\"psysml:6b3c9659-b47e-4a53-85ed-693ccedcdfc8\" xlink:actuate=\"onRequest\" xlink:href=\"psysml:6b3c9659-b47e-4a53-85ed-693ccedcdfc8\" xlink:show=\"new\" xlink:title=\"psysml:6b3c9659-b47e-4a53-85ed-693ccedcdfc8\" xlink:type=\"simple\"><polygon fill=\"#FFFFFF\" points=\"16,6,210,6,217,28.2969,310,28.2969,310,235,16,235,16,6\" style=\"stroke: #000000; stroke-width: 1.5;\"/><line style=\"stroke: #000000; stroke-width: 1.5;\" x1=\"16\" x2=\"217\" y1=\"28.2969\" y2=\"28.2969\"/><text fill=\"#000000\" font-family=\"sans-serif\" font-size=\"14\" font-weight=\"bold\" lengthAdjust=\"spacingAndGlyphs\" textLength=\"188\" x=\"20\" y=\"20.9951\">TextualRepresentationTest</text></a><!--MD5=[f6df4d0ebaf0b5dfb2ced0ae5af7c670]\n",
       "cluster E4--><a href=\"psysml:056920e1-03e4-42f5-9f87-f97cbdc58602\" target=\"_top\" title=\"psysml:056920e1-03e4-42f5-9f87-f97cbdc58602\" xlink:actuate=\"onRequest\" xlink:href=\"psysml:056920e1-03e4-42f5-9f87-f97cbdc58602\" xlink:show=\"new\" xlink:title=\"psysml:056920e1-03e4-42f5-9f87-f97cbdc58602\" xlink:type=\"simple\"><rect fill=\"#FFFFFF\" height=\"47\" id=\"E4\" style=\"stroke: #383838; stroke-width: 1.5;\" width=\"244.5\" x=\"49.5\" y=\"55\"/><rect fill=\"#F8F8F8\" height=\"37.9375\" style=\"stroke: #383838; stroke-width: 1.5;\" width=\"244.5\" x=\"49.5\" y=\"55\"/><text fill=\"#000000\" font-family=\"sans-serif\" font-size=\"12\" font-style=\"italic\" lengthAdjust=\"spacingAndGlyphs\" textLength=\"81\" x=\"131.25\" y=\"71.1387\">«action  def»</text><text fill=\"#000000\" font-family=\"sans-serif\" font-size=\"12\" lengthAdjust=\"spacingAndGlyphs\" textLength=\"27\" x=\"158.25\" y=\"85.1074\">setX</text></a><!--MD5=[b4997ac47864f28c2f74865a473b2911]\n",
       "class E2--><a href=\"psysml:83925eaf-d327-49ae-8c67-e64c48e757fa\" target=\"_top\" title=\"psysml:83925eaf-d327-49ae-8c67-e64c48e757fa\" xlink:actuate=\"onRequest\" xlink:href=\"psysml:83925eaf-d327-49ae-8c67-e64c48e757fa\" xlink:show=\"new\" xlink:title=\"psysml:83925eaf-d327-49ae-8c67-e64c48e757fa\" xlink:type=\"simple\"><rect fill=\"#FFFFFF\" height=\"75.5469\" id=\"E2\" style=\"stroke: #383838; stroke-width: 1.5;\" width=\"71\" x=\"32\" y=\"143\"/><text fill=\"#000000\" font-family=\"sans-serif\" font-size=\"12\" font-style=\"italic\" lengthAdjust=\"spacingAndGlyphs\" textLength=\"69\" x=\"33\" y=\"159.1387\">«item  def»</text><text fill=\"#000000\" font-family=\"sans-serif\" font-size=\"12\" lengthAdjust=\"spacingAndGlyphs\" textLength=\"8\" x=\"63.5\" y=\"173.1074\">C</text><line style=\"stroke: #383838; stroke-width: 1.5;\" x1=\"33\" x2=\"102\" y1=\"180.9375\" y2=\"180.9375\"/><text fill=\"#000000\" font-family=\"sans-serif\" font-size=\"11\" lengthAdjust=\"spacingAndGlyphs\" textLength=\"38\" x=\"38\" y=\"211.9526\">x: Real</text><line style=\"stroke: #383838; stroke-width: 1.0;\" x1=\"33\" x2=\"40\" y1=\"195.3398\" y2=\"195.3398\"/><text fill=\"#000000\" font-family=\"sans-serif\" font-size=\"11\" lengthAdjust=\"spacingAndGlyphs\" textLength=\"55\" x=\"40\" y=\"198.6479\">attributes</text><line style=\"stroke: #383838; stroke-width: 1.0;\" x1=\"95\" x2=\"102\" y1=\"195.3398\" y2=\"195.3398\"/></a><!--MD5=[09b614a08d8cba4a07c9adeb5e0fee81]\n",
       "class E3--><a href=\"psysml:9e9e8e01-075a-4e09-a2e1-8d13feba95d6\" target=\"_top\" title=\"psysml:9e9e8e01-075a-4e09-a2e1-8d13feba95d6\" xlink:actuate=\"onRequest\" xlink:href=\"psysml:9e9e8e01-075a-4e09-a2e1-8d13feba95d6\" xlink:show=\"new\" xlink:title=\"psysml:9e9e8e01-075a-4e09-a2e1-8d13feba95d6\" xlink:type=\"simple\"><rect fill=\"#FFFFFF\" height=\"45.9375\" id=\"E3\" rx=\"10\" ry=\"10\" style=\"stroke: #383838; stroke-width: 1.5;\" width=\"124\" x=\"163\" y=\"158\"/><text fill=\"#000000\" font-family=\"sans-serif\" font-size=\"12\" font-style=\"italic\" lengthAdjust=\"spacingAndGlyphs\" textLength=\"122\" x=\"164\" y=\"174.1387\">«assert constraint»</text><text fill=\"#000000\" font-family=\"sans-serif\" font-size=\"12\" lengthAdjust=\"spacingAndGlyphs\" textLength=\"76\" x=\"187\" y=\"188.1074\">x_constraint</text><line style=\"stroke: #383838; stroke-width: 1.5;\" x1=\"164\" x2=\"286\" y1=\"195.9375\" y2=\"195.9375\"/></a><text fill=\"#000000\" font-family=\"sans-serif\" font-size=\"14\" lengthAdjust=\"spacingAndGlyphs\" textLength=\"8\" x=\"63.5\" y=\"120.9951\">c</text><rect fill=\"#383838\" height=\"12\" style=\"stroke: #F8F8F8; stroke-width: 1.5;\" width=\"12\" x=\"61.5\" y=\"96\"/><text fill=\"#000000\" font-family=\"sans-serif\" font-size=\"14\" lengthAdjust=\"spacingAndGlyphs\" textLength=\"38\" x=\"48.5\" y=\"33.6982\">newX</text><rect fill=\"#383838\" height=\"12\" style=\"stroke: #F8F8F8; stroke-width: 1.5;\" width=\"12\" x=\"61.5\" y=\"49\"/><!--MD5=[209b3feb70ccb6233bfe1053d122c12c]\n",
       "reverse link E2 to E3--><a href=\"psysml:03d8b6ce-86e3-4804-a1ae-2a2287936712\" target=\"_top\" title=\"psysml:03d8b6ce-86e3-4804-a1ae-2a2287936712\" xlink:actuate=\"onRequest\" xlink:href=\"psysml:03d8b6ce-86e3-4804-a1ae-2a2287936712\" xlink:show=\"new\" xlink:title=\"psysml:03d8b6ce-86e3-4804-a1ae-2a2287936712\" xlink:type=\"simple\"><path d=\"M116.04,181 C130.85,181 147.38,181 162.98,181 \" fill=\"none\" id=\"E2&lt;-E3\" style=\"stroke: #383838; stroke-width: 1.0;\"/><polygon fill=\"#383838\" points=\"103.01,181,109.01,185,115.01,181,109.01,177,103.01,181\" style=\"stroke: #383838; stroke-width: 1.0;\"/><text fill=\"#000000\" font-family=\"sans-serif\" font-size=\"13\" lengthAdjust=\"spacingAndGlyphs\" textLength=\"7\" x=\"147.9947\" y=\"193.9929\">*</text></a><!--MD5=[608e35e173e24848d8d1a0f5a311357e]\n",
       "@startuml\r\n",
       "left to right direction\r\n",
       "skinparam monochrome true\r\n",
       "skinparam classbackgroundcolor white\r\n",
       "skinparam shadowing false\r\n",
       "skinparam wrapWidth 300\r\n",
       "hide circle\r\n",
       "\r\n",
       "package \"TextualRepresentationTest\" as E1  [[psysml:6b3c9659-b47e-4a53-85ed-693ccedcdfc8 ]]  {\r\n",
       "comp def \"C\" as E2  <<(T,blue) item  def>> [[psysml:83925eaf-d327-49ae-8c67-e64c48e757fa ]] {\r\n",
       "- - attributes - -\r\n",
       "x: Real\r\n",
       "}\r\n",
       "comp usage \"x_constraint\" as E3  <<(T,blue) assert constraint>> [[psysml:9e9e8e01-075a-4e09-a2e1-8d13feba95d6 ]] {\r\n",
       "}\r\n",
       "rec def \"setX\" as E4  <<(T,blue) action  def>> [[psysml:056920e1-03e4-42f5-9f87-f97cbdc58602 ]] {\r\n",
       "portin \"c\" as E5  [[psysml:01d56035-c08c-482f-9257-c9260a493ad7 ]] \r\n",
       "portin \"newX\" as E6  [[psysml:7d0c1fa2-09eb-4f19-a101-add490a57fbe ]] \r\n",
       "}\r\n",
       "\r\n",
       "}\r\n",
       "E2 *- - \"*\"E3 [[psysml:03d8b6ce-86e3-4804-a1ae-2a2287936712 ]] \r\n",
       "@enduml\r\n",
       "\n",
       "PlantUML version 1.2020.13(Sat Jun 13 12:26:38 UTC 2020)\n",
       "(EPL source distribution)\n",
       "Java Runtime: OpenJDK Runtime Environment\n",
       "JVM: OpenJDK 64-Bit Server VM\n",
       "Default Encoding: UTF-8\n",
       "Language: en\n",
       "Country: null\n",
       "--></g></svg>"
      ]
     },
     "execution_count": 22,
     "metadata": {},
     "output_type": "execute_result"
    }
   ],
   "source": [
    "%viz --style=\"LR\" --view=\"MIXED\" \"TextualRepresentationTest\""
   ]
  },
  {
   "cell_type": "code",
   "execution_count": 23,
   "id": "80127af4",
   "metadata": {
    "execution": {
     "iopub.execute_input": "2021-11-13T13:00:36.019437Z",
     "iopub.status.busy": "2021-11-13T13:00:36.019039Z",
     "iopub.status.idle": "2021-11-13T13:00:36.068816Z",
     "shell.execute_reply": "2021-11-13T13:00:36.067845Z"
    }
   },
   "outputs": [
    {
     "data": {
      "image/svg+xml": [
       "<?xml version=\"1.0\" encoding=\"UTF-8\" standalone=\"no\"?><svg xmlns=\"http://www.w3.org/2000/svg\" xmlns:xlink=\"http://www.w3.org/1999/xlink\" contentScriptType=\"application/ecmascript\" contentStyleType=\"text/css\" height=\"261px\" preserveAspectRatio=\"none\" style=\"width:351px;height:261px;\" version=\"1.1\" viewBox=\"0 0 351 261\" width=\"351px\" zoomAndPan=\"magnify\"><defs><filter height=\"300%\" id=\"fsb1vpmz1sjc5\" width=\"300%\" x=\"-1\" y=\"-1\"><feGaussianBlur result=\"blurOut\" stdDeviation=\"2.0\"/><feColorMatrix in=\"blurOut\" result=\"blurOut2\" type=\"matrix\" values=\"0 0 0 0 0 0 0 0 0 0 0 0 0 0 0 0 0 0 .4 0\"/><feOffset dx=\"4.0\" dy=\"4.0\" in=\"blurOut2\" result=\"blurOut3\"/><feBlend in=\"SourceGraphic\" in2=\"blurOut3\" mode=\"normal\"/></filter></defs><g><!--MD5=[fbc87193dbaf4d95561dea2c320d4a47]\n",
       "cluster E1--><a href=\"psysml:6b3c9659-b47e-4a53-85ed-693ccedcdfc8\" target=\"_top\" title=\"psysml:6b3c9659-b47e-4a53-85ed-693ccedcdfc8\" xlink:actuate=\"onRequest\" xlink:href=\"psysml:6b3c9659-b47e-4a53-85ed-693ccedcdfc8\" xlink:show=\"new\" xlink:title=\"psysml:6b3c9659-b47e-4a53-85ed-693ccedcdfc8\" xlink:type=\"simple\"><polygon fill=\"#FFFFFF\" filter=\"url(#fsb1vpmz1sjc5)\" points=\"16,6,210,6,217,28.2969,329,28.2969,329,249.5,16,249.5,16,6\" style=\"stroke: #000000; stroke-width: 1.5;\"/><line style=\"stroke: #000000; stroke-width: 1.5;\" x1=\"16\" x2=\"217\" y1=\"28.2969\" y2=\"28.2969\"/><text fill=\"#000000\" font-family=\"sans-serif\" font-size=\"14\" font-weight=\"bold\" lengthAdjust=\"spacingAndGlyphs\" textLength=\"188\" x=\"20\" y=\"20.9951\">TextualRepresentationTest</text></a><!--MD5=[f6df4d0ebaf0b5dfb2ced0ae5af7c670]\n",
       "cluster E4--><a href=\"psysml:056920e1-03e4-42f5-9f87-f97cbdc58602\" target=\"_top\" title=\"psysml:056920e1-03e4-42f5-9f87-f97cbdc58602\" xlink:actuate=\"onRequest\" xlink:href=\"psysml:056920e1-03e4-42f5-9f87-f97cbdc58602\" xlink:show=\"new\" xlink:title=\"psysml:056920e1-03e4-42f5-9f87-f97cbdc58602\" xlink:type=\"simple\"><rect fill=\"#FFFFFF\" filter=\"url(#fsb1vpmz1sjc5)\" height=\"154.5\" id=\"E4\" style=\"stroke: #A80036; stroke-width: 1.5;\" width=\"134\" x=\"179\" y=\"79\"/><rect fill=\"#FEFECE\" height=\"37.9375\" style=\"stroke: #A80036; stroke-width: 1.5;\" width=\"134\" x=\"179\" y=\"79\"/><text fill=\"#000000\" font-family=\"sans-serif\" font-size=\"12\" font-style=\"italic\" lengthAdjust=\"spacingAndGlyphs\" textLength=\"81\" x=\"205.5\" y=\"95.1387\">«action  def»</text><text fill=\"#000000\" font-family=\"sans-serif\" font-size=\"12\" lengthAdjust=\"spacingAndGlyphs\" textLength=\"27\" x=\"232.5\" y=\"109.1074\">setX</text></a><!--MD5=[b4997ac47864f28c2f74865a473b2911]\n",
       "class E2--><a href=\"psysml:83925eaf-d327-49ae-8c67-e64c48e757fa\" target=\"_top\" title=\"psysml:83925eaf-d327-49ae-8c67-e64c48e757fa\" xlink:actuate=\"onRequest\" xlink:href=\"psysml:83925eaf-d327-49ae-8c67-e64c48e757fa\" xlink:show=\"new\" xlink:title=\"psysml:83925eaf-d327-49ae-8c67-e64c48e757fa\" xlink:type=\"simple\"><rect fill=\"#FEFECE\" filter=\"url(#fsb1vpmz1sjc5)\" height=\"75.5469\" id=\"E2\" style=\"stroke: #A80036; stroke-width: 1.5;\" width=\"71\" x=\"58.5\" y=\"41\"/><text fill=\"#000000\" font-family=\"sans-serif\" font-size=\"12\" font-style=\"italic\" lengthAdjust=\"spacingAndGlyphs\" textLength=\"69\" x=\"59.5\" y=\"57.1387\">«item  def»</text><text fill=\"#000000\" font-family=\"sans-serif\" font-size=\"12\" lengthAdjust=\"spacingAndGlyphs\" textLength=\"8\" x=\"90\" y=\"71.1074\">C</text><line style=\"stroke: #A80036; stroke-width: 1.5;\" x1=\"59.5\" x2=\"128.5\" y1=\"78.9375\" y2=\"78.9375\"/><text fill=\"#000000\" font-family=\"sans-serif\" font-size=\"11\" lengthAdjust=\"spacingAndGlyphs\" textLength=\"38\" x=\"64.5\" y=\"109.9526\">x: Real</text><line style=\"stroke: #A80036; stroke-width: 1.0;\" x1=\"59.5\" x2=\"66.5\" y1=\"93.3398\" y2=\"93.3398\"/><text fill=\"#000000\" font-family=\"sans-serif\" font-size=\"11\" lengthAdjust=\"spacingAndGlyphs\" textLength=\"55\" x=\"66.5\" y=\"96.6479\">attributes</text><line style=\"stroke: #A80036; stroke-width: 1.0;\" x1=\"121.5\" x2=\"128.5\" y1=\"93.3398\" y2=\"93.3398\"/></a><!--MD5=[09b614a08d8cba4a07c9adeb5e0fee81]\n",
       "class E3--><a href=\"psysml:9e9e8e01-075a-4e09-a2e1-8d13feba95d6\" target=\"_top\" title=\"psysml:9e9e8e01-075a-4e09-a2e1-8d13feba95d6\" xlink:actuate=\"onRequest\" xlink:href=\"psysml:9e9e8e01-075a-4e09-a2e1-8d13feba95d6\" xlink:show=\"new\" xlink:title=\"psysml:9e9e8e01-075a-4e09-a2e1-8d13feba95d6\" xlink:type=\"simple\"><rect fill=\"#FEFECE\" filter=\"url(#fsb1vpmz1sjc5)\" height=\"45.9375\" id=\"E3\" rx=\"10\" ry=\"10\" style=\"stroke: #A80036; stroke-width: 1.5;\" width=\"124\" x=\"32\" y=\"177\"/><text fill=\"#000000\" font-family=\"sans-serif\" font-size=\"12\" font-style=\"italic\" lengthAdjust=\"spacingAndGlyphs\" textLength=\"122\" x=\"33\" y=\"193.1387\">«assert constraint»</text><text fill=\"#000000\" font-family=\"sans-serif\" font-size=\"12\" lengthAdjust=\"spacingAndGlyphs\" textLength=\"76\" x=\"56\" y=\"207.1074\">x_constraint</text><line style=\"stroke: #A80036; stroke-width: 1.5;\" x1=\"33\" x2=\"155\" y1=\"214.9375\" y2=\"214.9375\"/></a><text fill=\"#000000\" font-family=\"sans-serif\" font-size=\"14\" lengthAdjust=\"spacingAndGlyphs\" textLength=\"8\" x=\"193\" y=\"57.6982\">c</text><rect fill=\"#A80036\" height=\"12\" style=\"stroke: #FEFECE; stroke-width: 1.5;\" width=\"12\" x=\"191\" y=\"73\"/><text fill=\"#000000\" font-family=\"sans-serif\" font-size=\"14\" lengthAdjust=\"spacingAndGlyphs\" textLength=\"38\" x=\"225\" y=\"57.6982\">newX</text><rect fill=\"#A80036\" height=\"12\" style=\"stroke: #FEFECE; stroke-width: 1.5;\" width=\"12\" x=\"238\" y=\"73\"/><!--MD5=[209b3feb70ccb6233bfe1053d122c12c]\n",
       "reverse link E2 to E3--><a href=\"psysml:03d8b6ce-86e3-4804-a1ae-2a2287936712\" target=\"_top\" title=\"psysml:03d8b6ce-86e3-4804-a1ae-2a2287936712\" xlink:actuate=\"onRequest\" xlink:href=\"psysml:03d8b6ce-86e3-4804-a1ae-2a2287936712\" xlink:show=\"new\" xlink:title=\"psysml:03d8b6ce-86e3-4804-a1ae-2a2287936712\" xlink:type=\"simple\"><path d=\"M94,130.34 C94,146.61 94,163.81 94,176.93 \" fill=\"none\" id=\"E2&lt;-E3\" style=\"stroke: #A80036; stroke-width: 1.0;\"/><polygon fill=\"#A80036\" points=\"94,117,90,123,94,129,98,123,94,117\" style=\"stroke: #A80036; stroke-width: 1.0;\"/><text fill=\"#000000\" font-family=\"sans-serif\" font-size=\"13\" lengthAdjust=\"spacingAndGlyphs\" textLength=\"7\" x=\"86.0594\" y=\"165.8075\">*</text></a><!--MD5=[a96dd4bc9ae67f2c09419af0be7b8219]\n",
       "@startuml\r\n",
       "skinparam wrapWidth 300\r\n",
       "hide circle\r\n",
       "\r\n",
       "package \"TextualRepresentationTest\" as E1  [[psysml:6b3c9659-b47e-4a53-85ed-693ccedcdfc8 ]]  {\r\n",
       "comp def \"C\" as E2  <<(T,blue) item  def>> [[psysml:83925eaf-d327-49ae-8c67-e64c48e757fa ]] {\r\n",
       "- - attributes - -\r\n",
       "x: Real\r\n",
       "}\r\n",
       "comp usage \"x_constraint\" as E3  <<(T,blue) assert constraint>> [[psysml:9e9e8e01-075a-4e09-a2e1-8d13feba95d6 ]] {\r\n",
       "}\r\n",
       "rec def \"setX\" as E4  <<(T,blue) action  def>> [[psysml:056920e1-03e4-42f5-9f87-f97cbdc58602 ]] {\r\n",
       "portin \"c\" as E5  [[psysml:01d56035-c08c-482f-9257-c9260a493ad7 ]] \r\n",
       "portin \"newX\" as E6  [[psysml:7d0c1fa2-09eb-4f19-a101-add490a57fbe ]] \r\n",
       "}\r\n",
       "\r\n",
       "}\r\n",
       "E2 *- - \"*\"E3 [[psysml:03d8b6ce-86e3-4804-a1ae-2a2287936712 ]] \r\n",
       "@enduml\r\n",
       "\n",
       "PlantUML version 1.2020.13(Sat Jun 13 12:26:38 UTC 2020)\n",
       "(EPL source distribution)\n",
       "Java Runtime: OpenJDK Runtime Environment\n",
       "JVM: OpenJDK 64-Bit Server VM\n",
       "Default Encoding: UTF-8\n",
       "Language: en\n",
       "Country: null\n",
       "--></g></svg>"
      ]
     },
     "execution_count": 23,
     "metadata": {},
     "output_type": "execute_result"
    }
   ],
   "source": [
    "%viz --style=\"STDCOLOR\" --view=\"Default\" \"TextualRepresentationTest\""
   ]
  },
  {
   "cell_type": "code",
   "execution_count": 24,
   "id": "c5bdf0fb",
   "metadata": {
    "execution": {
     "iopub.execute_input": "2021-11-13T13:00:36.118955Z",
     "iopub.status.busy": "2021-11-13T13:00:36.118553Z",
     "iopub.status.idle": "2021-11-13T13:00:36.182694Z",
     "shell.execute_reply": "2021-11-13T13:00:36.182423Z"
    }
   },
   "outputs": [
    {
     "data": {
      "image/svg+xml": [
       "<?xml version=\"1.0\" encoding=\"UTF-8\" standalone=\"no\"?><svg xmlns=\"http://www.w3.org/2000/svg\" xmlns:xlink=\"http://www.w3.org/1999/xlink\" contentScriptType=\"application/ecmascript\" contentStyleType=\"text/css\" height=\"417px\" preserveAspectRatio=\"none\" style=\"width:242px;height:417px;\" version=\"1.1\" viewBox=\"0 0 242 417\" width=\"242px\" zoomAndPan=\"magnify\"><defs><filter height=\"300%\" id=\"f1l46apkvbhvar\" width=\"300%\" x=\"-1\" y=\"-1\"><feGaussianBlur result=\"blurOut\" stdDeviation=\"2.0\"/><feColorMatrix in=\"blurOut\" result=\"blurOut2\" type=\"matrix\" values=\"0 0 0 0 0 0 0 0 0 0 0 0 0 0 0 0 0 0 .4 0\"/><feOffset dx=\"4.0\" dy=\"4.0\" in=\"blurOut2\" result=\"blurOut3\"/><feBlend in=\"SourceGraphic\" in2=\"blurOut3\" mode=\"normal\"/></filter></defs><g><!--MD5=[fbc87193dbaf4d95561dea2c320d4a47]\n",
       "cluster E1--><a href=\"psysml:6b3c9659-b47e-4a53-85ed-693ccedcdfc8\" target=\"_top\" title=\"psysml:6b3c9659-b47e-4a53-85ed-693ccedcdfc8\" xlink:actuate=\"onRequest\" xlink:href=\"psysml:6b3c9659-b47e-4a53-85ed-693ccedcdfc8\" xlink:show=\"new\" xlink:title=\"psysml:6b3c9659-b47e-4a53-85ed-693ccedcdfc8\" xlink:type=\"simple\"><polygon fill=\"#FFFFFF\" filter=\"url(#f1l46apkvbhvar)\" points=\"16,6,210,6,217,28.2969,220,28.2969,220,405,16,405,16,6\" style=\"stroke: #000000; stroke-width: 1.5;\"/><line style=\"stroke: #000000; stroke-width: 1.5;\" x1=\"16\" x2=\"217\" y1=\"28.2969\" y2=\"28.2969\"/><text fill=\"#000000\" font-family=\"sans-serif\" font-size=\"14\" font-weight=\"bold\" lengthAdjust=\"spacingAndGlyphs\" textLength=\"188\" x=\"20\" y=\"20.9951\">TextualRepresentationTest</text></a><!--MD5=[b4997ac47864f28c2f74865a473b2911]\n",
       "class E2--><a href=\"psysml:83925eaf-d327-49ae-8c67-e64c48e757fa\" target=\"_top\" title=\"psysml:83925eaf-d327-49ae-8c67-e64c48e757fa\" xlink:actuate=\"onRequest\" xlink:href=\"psysml:83925eaf-d327-49ae-8c67-e64c48e757fa\" xlink:show=\"new\" xlink:title=\"psysml:83925eaf-d327-49ae-8c67-e64c48e757fa\" xlink:type=\"simple\"><rect fill=\"#FEFECE\" filter=\"url(#f1l46apkvbhvar)\" height=\"75.5469\" id=\"E2\" style=\"stroke: #A80036; stroke-width: 1.5;\" width=\"71\" x=\"82.5\" y=\"206\"/><text fill=\"#000000\" font-family=\"sans-serif\" font-size=\"12\" font-style=\"italic\" lengthAdjust=\"spacingAndGlyphs\" textLength=\"69\" x=\"83.5\" y=\"222.1387\">«item  def»</text><text fill=\"#000000\" font-family=\"sans-serif\" font-size=\"12\" lengthAdjust=\"spacingAndGlyphs\" textLength=\"8\" x=\"114\" y=\"236.1074\">C</text><line style=\"stroke: #A80036; stroke-width: 1.5;\" x1=\"83.5\" x2=\"152.5\" y1=\"243.9375\" y2=\"243.9375\"/><text fill=\"#000000\" font-family=\"sans-serif\" font-size=\"11\" lengthAdjust=\"spacingAndGlyphs\" textLength=\"38\" x=\"88.5\" y=\"274.9526\">x: Real</text><line style=\"stroke: #A80036; stroke-width: 1.0;\" x1=\"83.5\" x2=\"90.5\" y1=\"258.3398\" y2=\"258.3398\"/><text fill=\"#000000\" font-family=\"sans-serif\" font-size=\"11\" lengthAdjust=\"spacingAndGlyphs\" textLength=\"55\" x=\"90.5\" y=\"261.6479\">attributes</text><line style=\"stroke: #A80036; stroke-width: 1.0;\" x1=\"145.5\" x2=\"152.5\" y1=\"258.3398\" y2=\"258.3398\"/></a><!--MD5=[09b614a08d8cba4a07c9adeb5e0fee81]\n",
       "class E3--><a href=\"psysml:9e9e8e01-075a-4e09-a2e1-8d13feba95d6\" target=\"_top\" title=\"psysml:9e9e8e01-075a-4e09-a2e1-8d13feba95d6\" xlink:actuate=\"onRequest\" xlink:href=\"psysml:9e9e8e01-075a-4e09-a2e1-8d13feba95d6\" xlink:show=\"new\" xlink:title=\"psysml:9e9e8e01-075a-4e09-a2e1-8d13feba95d6\" xlink:type=\"simple\"><rect fill=\"#FEFECE\" filter=\"url(#f1l46apkvbhvar)\" height=\"45.9375\" id=\"E3\" rx=\"10\" ry=\"10\" style=\"stroke: #A80036; stroke-width: 1.5;\" width=\"124\" x=\"56\" y=\"343\"/><text fill=\"#000000\" font-family=\"sans-serif\" font-size=\"12\" font-style=\"italic\" lengthAdjust=\"spacingAndGlyphs\" textLength=\"122\" x=\"57\" y=\"359.1387\">«assert constraint»</text><text fill=\"#000000\" font-family=\"sans-serif\" font-size=\"12\" lengthAdjust=\"spacingAndGlyphs\" textLength=\"76\" x=\"80\" y=\"373.1074\">x_constraint</text><line style=\"stroke: #A80036; stroke-width: 1.5;\" x1=\"57\" x2=\"179\" y1=\"380.9375\" y2=\"380.9375\"/></a><!--MD5=[ebbe1d658d1005bcc118a6aa81145e00]\n",
       "class E4--><a href=\"psysml:056920e1-03e4-42f5-9f87-f97cbdc58602\" target=\"_top\" title=\"psysml:056920e1-03e4-42f5-9f87-f97cbdc58602\" xlink:actuate=\"onRequest\" xlink:href=\"psysml:056920e1-03e4-42f5-9f87-f97cbdc58602\" xlink:show=\"new\" xlink:title=\"psysml:056920e1-03e4-42f5-9f87-f97cbdc58602\" xlink:type=\"simple\"><rect fill=\"#FEFECE\" filter=\"url(#f1l46apkvbhvar)\" height=\"88.3516\" id=\"E4\" style=\"stroke: #A80036; stroke-width: 1.5;\" width=\"88\" x=\"74\" y=\"41\"/><text fill=\"#000000\" font-family=\"sans-serif\" font-size=\"12\" font-style=\"italic\" lengthAdjust=\"spacingAndGlyphs\" textLength=\"81\" x=\"77.5\" y=\"57.1387\">«action  def»</text><text fill=\"#000000\" font-family=\"sans-serif\" font-size=\"12\" lengthAdjust=\"spacingAndGlyphs\" textLength=\"27\" x=\"104.5\" y=\"71.1074\">setX</text><line style=\"stroke: #A80036; stroke-width: 1.5;\" x1=\"75\" x2=\"161\" y1=\"78.9375\" y2=\"78.9375\"/><text fill=\"#000000\" font-family=\"sans-serif\" font-size=\"11\" font-weight=\"bold\" lengthAdjust=\"spacingAndGlyphs\" textLength=\"10\" x=\"80\" y=\"109.9526\">in</text><text fill=\"#000000\" font-family=\"sans-serif\" font-size=\"11\" lengthAdjust=\"spacingAndGlyphs\" textLength=\"22\" x=\"94\" y=\"109.9526\">c: C</text><text fill=\"#000000\" font-family=\"sans-serif\" font-size=\"11\" font-weight=\"bold\" lengthAdjust=\"spacingAndGlyphs\" textLength=\"10\" x=\"80\" y=\"122.7573\">in</text><text fill=\"#000000\" font-family=\"sans-serif\" font-size=\"11\" lengthAdjust=\"spacingAndGlyphs\" textLength=\"62\" x=\"94\" y=\"122.7573\">newX: Real</text><line style=\"stroke: #A80036; stroke-width: 1.0;\" x1=\"75\" x2=\"84.5\" y1=\"93.3398\" y2=\"93.3398\"/><text fill=\"#000000\" font-family=\"sans-serif\" font-size=\"11\" lengthAdjust=\"spacingAndGlyphs\" textLength=\"67\" x=\"84.5\" y=\"96.6479\">parameters</text><line style=\"stroke: #A80036; stroke-width: 1.0;\" x1=\"151.5\" x2=\"161\" y1=\"93.3398\" y2=\"93.3398\"/></a><!--MD5=[209b3feb70ccb6233bfe1053d122c12c]\n",
       "reverse link E2 to E3--><a href=\"psysml:03d8b6ce-86e3-4804-a1ae-2a2287936712\" target=\"_top\" title=\"psysml:03d8b6ce-86e3-4804-a1ae-2a2287936712\" xlink:actuate=\"onRequest\" xlink:href=\"psysml:03d8b6ce-86e3-4804-a1ae-2a2287936712\" xlink:show=\"new\" xlink:title=\"psysml:03d8b6ce-86e3-4804-a1ae-2a2287936712\" xlink:type=\"simple\"><path d=\"M118,295.76 C118,312.17 118,329.52 118,342.75 \" fill=\"none\" id=\"E2&lt;-E3\" style=\"stroke: #A80036; stroke-width: 1.0;\"/><polygon fill=\"#A80036\" points=\"118,282.31,114,288.31,118,294.31,122,288.31,118,282.31\" style=\"stroke: #A80036; stroke-width: 1.0;\"/><text fill=\"#000000\" font-family=\"sans-serif\" font-size=\"13\" lengthAdjust=\"spacingAndGlyphs\" textLength=\"7\" x=\"110.1031\" y=\"331.9622\">*</text></a><!--MD5=[ddeed8deb2209213b62e6cfabaa108b2]\n",
       "reverse link E4 to E2--><a href=\"psysml:01d56035-c08c-482f-9257-c9260a493ad7\" target=\"_top\" title=\"psysml:01d56035-c08c-482f-9257-c9260a493ad7\" xlink:actuate=\"onRequest\" xlink:href=\"psysml:01d56035-c08c-482f-9257-c9260a493ad7\" xlink:show=\"new\" xlink:title=\"psysml:01d56035-c08c-482f-9257-c9260a493ad7\" xlink:type=\"simple\"><path d=\"M105.65,142.57 C104.42,153.63 103.96,165.16 105,176 C105.94,185.79 107.64,196.27 109.5,205.97 \" fill=\"none\" id=\"E4&lt;-E2\" style=\"stroke: #A80036; stroke-width: 1.0;\"/><polygon fill=\"#FFFFFF\" points=\"107.49,129.39,102.7034,134.7834,105.841,141.2762,110.6275,135.8828,107.49,129.39\" style=\"stroke: #A80036; stroke-width: 1.0;\"/><text fill=\"#000000\" font-family=\"sans-serif\" font-size=\"13\" lengthAdjust=\"spacingAndGlyphs\" textLength=\"7\" x=\"106\" y=\"172.0669\">c</text></a><!--MD5=[ddeed8deb2209213b62e6cfabaa108b2]\n",
       "reverse link E4 to E2--><a href=\"psysml:01d56035-c08c-482f-9257-c9260a493ad7\" target=\"_top\" title=\"psysml:01d56035-c08c-482f-9257-c9260a493ad7\" xlink:actuate=\"onRequest\" xlink:href=\"psysml:01d56035-c08c-482f-9257-c9260a493ad7\" xlink:show=\"new\" xlink:title=\"psysml:01d56035-c08c-482f-9257-c9260a493ad7\" xlink:type=\"simple\"><path d=\"M118,142.45 C118,163.57 118,187.02 118,205.95 \" fill=\"none\" id=\"E4&lt;-E2-1\" style=\"stroke: #A80036; stroke-width: 1.0;\"/><polygon fill=\"#FFFFFF\" points=\"118,129.32,114,135.32,118,141.32,122,135.32,118,129.32\" style=\"stroke: #A80036; stroke-width: 1.0;\"/><text fill=\"#000000\" font-family=\"sans-serif\" font-size=\"13\" lengthAdjust=\"spacingAndGlyphs\" textLength=\"7\" x=\"119\" y=\"172.0669\">c</text></a><!--MD5=[452f9cc85e0a00ab36e707dac249dc4e]\n",
       "@startuml\r\n",
       "skinparam wrapWidth 300\r\n",
       "hide circle\r\n",
       "\r\n",
       "package \"TextualRepresentationTest\" as E1  [[psysml:6b3c9659-b47e-4a53-85ed-693ccedcdfc8 ]]  {\r\n",
       "comp def \"C\" as E2  <<(T,blue) item  def>> [[psysml:83925eaf-d327-49ae-8c67-e64c48e757fa ]] {\r\n",
       "- - attributes - -\r\n",
       "x: Real\r\n",
       "}\r\n",
       "comp usage \"x_constraint\" as E3  <<(T,blue) assert constraint>> [[psysml:9e9e8e01-075a-4e09-a2e1-8d13feba95d6 ]] {\r\n",
       "}\r\n",
       "comp def \"setX\" as E4  <<(T,blue) action  def>> [[psysml:056920e1-03e4-42f5-9f87-f97cbdc58602 ]] {\r\n",
       "- - parameters - -\r\n",
       "<b>in</b> c: C\r\n",
       "<b>in</b> newX: Real\r\n",
       "}\r\n",
       "}\r\n",
       "E2 *- - \"*\"E3 [[psysml:03d8b6ce-86e3-4804-a1ae-2a2287936712 ]] \r\n",
       "E4 o- - E2 [[psysml:01d56035-c08c-482f-9257-c9260a493ad7 ]] : c\r\n",
       "E4 o- - E2 [[psysml:01d56035-c08c-482f-9257-c9260a493ad7 ]] : c\r\n",
       "@enduml\r\n",
       "\n",
       "PlantUML version 1.2020.13(Sat Jun 13 12:26:38 UTC 2020)\n",
       "(EPL source distribution)\n",
       "Java Runtime: OpenJDK Runtime Environment\n",
       "JVM: OpenJDK 64-Bit Server VM\n",
       "Default Encoding: UTF-8\n",
       "Language: en\n",
       "Country: null\n",
       "--></g></svg>"
      ]
     },
     "execution_count": 24,
     "metadata": {},
     "output_type": "execute_result"
    }
   ],
   "source": [
    "%viz --style=\"STDCOLOR\" --view=\"Tree\" \"TextualRepresentationTest\""
   ]
  },
  {
   "cell_type": "code",
   "execution_count": 25,
   "id": "1fabbd32",
   "metadata": {
    "execution": {
     "iopub.execute_input": "2021-11-13T13:00:36.232141Z",
     "iopub.status.busy": "2021-11-13T13:00:36.231787Z",
     "iopub.status.idle": "2021-11-13T13:00:36.236163Z",
     "shell.execute_reply": "2021-11-13T13:00:36.236416Z"
    }
   },
   "outputs": [
    {
     "data": {
      "image/svg+xml": [
       "<?xml version=\"1.0\" encoding=\"UTF-8\" standalone=\"no\"?><svg xmlns=\"http://www.w3.org/2000/svg\" xmlns:xlink=\"http://www.w3.org/1999/xlink\" contentScriptType=\"application/ecmascript\" contentStyleType=\"text/css\" height=\"12px\" preserveAspectRatio=\"none\" style=\"width:12px;height:12px;\" version=\"1.1\" viewBox=\"0 0 12 12\" width=\"12px\" zoomAndPan=\"magnify\"><defs/><g><!--MD5=[aeeef50f102b80d730deb6443d14f702]\n",
       "@startuml\r\n",
       "skinparam wrapWidth 300\r\n",
       "hide circle\r\n",
       "\r\n",
       "@enduml\r\n",
       "\n",
       "PlantUML version 1.2020.13(Sat Jun 13 12:26:38 UTC 2020)\n",
       "(EPL source distribution)\n",
       "Java Runtime: OpenJDK Runtime Environment\n",
       "JVM: OpenJDK 64-Bit Server VM\n",
       "Default Encoding: UTF-8\n",
       "Language: en\n",
       "Country: null\n",
       "--></g></svg>"
      ]
     },
     "execution_count": 25,
     "metadata": {},
     "output_type": "execute_result"
    }
   ],
   "source": [
    "%viz --style=\"STDCOLOR\" --view=\"State\" \"TextualRepresentationTest\""
   ]
  },
  {
   "cell_type": "code",
   "execution_count": 26,
   "id": "f9c71de4",
   "metadata": {
    "execution": {
     "iopub.execute_input": "2021-11-13T13:00:36.286016Z",
     "iopub.status.busy": "2021-11-13T13:00:36.285770Z",
     "iopub.status.idle": "2021-11-13T13:00:36.311988Z",
     "shell.execute_reply": "2021-11-13T13:00:36.311632Z"
    }
   },
   "outputs": [
    {
     "data": {
      "image/svg+xml": [
       "<?xml version=\"1.0\" encoding=\"UTF-8\" standalone=\"no\"?><svg xmlns=\"http://www.w3.org/2000/svg\" xmlns:xlink=\"http://www.w3.org/1999/xlink\" contentScriptType=\"application/ecmascript\" contentStyleType=\"text/css\" height=\"179px\" preserveAspectRatio=\"none\" style=\"width:292px;height:179px;\" version=\"1.1\" viewBox=\"0 0 292 179\" width=\"292px\" zoomAndPan=\"magnify\"><defs><filter height=\"300%\" id=\"f14d1gd48pog7p\" width=\"300%\" x=\"-1\" y=\"-1\"><feGaussianBlur result=\"blurOut\" stdDeviation=\"2.0\"/><feColorMatrix in=\"blurOut\" result=\"blurOut2\" type=\"matrix\" values=\"0 0 0 0 0 0 0 0 0 0 0 0 0 0 0 0 0 0 .4 0\"/><feOffset dx=\"4.0\" dy=\"4.0\" in=\"blurOut2\" result=\"blurOut3\"/><feBlend in=\"SourceGraphic\" in2=\"blurOut3\" mode=\"normal\"/></filter></defs><g><!--MD5=[fbc87193dbaf4d95561dea2c320d4a47]\n",
       "cluster E1--><a href=\"psysml:6b3c9659-b47e-4a53-85ed-693ccedcdfc8\" target=\"_top\" title=\"psysml:6b3c9659-b47e-4a53-85ed-693ccedcdfc8\" xlink:actuate=\"onRequest\" xlink:href=\"psysml:6b3c9659-b47e-4a53-85ed-693ccedcdfc8\" xlink:show=\"new\" xlink:title=\"psysml:6b3c9659-b47e-4a53-85ed-693ccedcdfc8\" xlink:type=\"simple\"><polygon fill=\"#FFFFFF\" filter=\"url(#f14d1gd48pog7p)\" points=\"16,6,210,6,217,28.2969,270,28.2969,270,167,16,167,16,6\" style=\"stroke: #000000; stroke-width: 1.5;\"/><line style=\"stroke: #000000; stroke-width: 1.5;\" x1=\"16\" x2=\"217\" y1=\"28.2969\" y2=\"28.2969\"/><text fill=\"#000000\" font-family=\"sans-serif\" font-size=\"14\" font-weight=\"bold\" lengthAdjust=\"spacingAndGlyphs\" textLength=\"188\" x=\"20\" y=\"20.9951\">TextualRepresentationTest</text></a><!--MD5=[d5e69f78d87373223dbae638b30a9c99]\n",
       "cluster E3--><a href=\"psysml:056920e1-03e4-42f5-9f87-f97cbdc58602\" target=\"_top\" title=\"psysml:056920e1-03e4-42f5-9f87-f97cbdc58602\" xlink:actuate=\"onRequest\" xlink:href=\"psysml:056920e1-03e4-42f5-9f87-f97cbdc58602\" xlink:show=\"new\" xlink:title=\"psysml:056920e1-03e4-42f5-9f87-f97cbdc58602\" xlink:type=\"simple\"><rect fill=\"#FFFFFF\" filter=\"url(#f14d1gd48pog7p)\" height=\"88.5\" id=\"E3\" style=\"stroke: #A80036; stroke-width: 1.5;\" width=\"100\" x=\"122.5\" y=\"62.5\"/><rect fill=\"#FEFECE\" height=\"37.9375\" style=\"stroke: #A80036; stroke-width: 1.5;\" width=\"100\" x=\"122.5\" y=\"62.5\"/><text fill=\"#000000\" font-family=\"sans-serif\" font-size=\"12\" font-style=\"italic\" lengthAdjust=\"spacingAndGlyphs\" textLength=\"81\" x=\"132\" y=\"78.6387\">«action  def»</text><text fill=\"#000000\" font-family=\"sans-serif\" font-size=\"12\" lengthAdjust=\"spacingAndGlyphs\" textLength=\"27\" x=\"159\" y=\"92.6074\">setX</text></a><g id=\"E1.E2\"><a href=\"psysml:83925eaf-d327-49ae-8c67-e64c48e757fa\" target=\"_top\" title=\"psysml:83925eaf-d327-49ae-8c67-e64c48e757fa\" xlink:actuate=\"onRequest\" xlink:href=\"psysml:83925eaf-d327-49ae-8c67-e64c48e757fa\" xlink:show=\"new\" xlink:title=\"psysml:83925eaf-d327-49ae-8c67-e64c48e757fa\" xlink:type=\"simple\"><rect fill=\"#FEFECE\" filter=\"url(#f14d1gd48pog7p)\" height=\"42.9375\" id=\"E2\" style=\"stroke: #A80036; stroke-width: 1.5;\" width=\"76\" x=\"32\" y=\"41\"/><text fill=\"#000000\" font-family=\"sans-serif\" font-size=\"12\" font-style=\"italic\" lengthAdjust=\"spacingAndGlyphs\" textLength=\"69\" x=\"35.5\" y=\"57.1387\">«item  def»</text><text fill=\"#000000\" font-family=\"sans-serif\" font-size=\"12\" lengthAdjust=\"spacingAndGlyphs\" textLength=\"8\" x=\"66\" y=\"71.1074\">C</text></a></g><text fill=\"#000000\" font-family=\"sans-serif\" font-size=\"14\" lengthAdjust=\"spacingAndGlyphs\" textLength=\"8\" x=\"145\" y=\"41.1982\">c</text><rect fill=\"#A80036\" height=\"12\" style=\"stroke: #FEFECE; stroke-width: 1.5;\" width=\"12\" x=\"143\" y=\"56.5\"/><text fill=\"#000000\" font-family=\"sans-serif\" font-size=\"14\" lengthAdjust=\"spacingAndGlyphs\" textLength=\"38\" x=\"177\" y=\"41.1982\">newX</text><rect fill=\"#A80036\" height=\"12\" style=\"stroke: #FEFECE; stroke-width: 1.5;\" width=\"12\" x=\"190\" y=\"56.5\"/><!--MD5=[8d11ea2a0fa1aef461c8d12a80dea591]\n",
       "@startuml\r\n",
       "skinparam ranksep 10\r\n",
       "skinparam rectangle {\r\n",
       " backgroundColor<<block>> LightGreen\r\n",
       "}\r\n",
       "skinparam wrapWidth 300\r\n",
       "hide circle\r\n",
       "\r\n",
       "package \"TextualRepresentationTest\" as E1  [[psysml:6b3c9659-b47e-4a53-85ed-693ccedcdfc8 ]]  {\r\n",
       "def \"C\" as E2  <<(T,blue) item  def>> [[psysml:83925eaf-d327-49ae-8c67-e64c48e757fa ]] \r\n",
       "rec def \"setX\" as E3  <<(T,blue) action  def>> [[psysml:056920e1-03e4-42f5-9f87-f97cbdc58602 ]] {\r\n",
       "portin \"c\" as E4  [[psysml:01d56035-c08c-482f-9257-c9260a493ad7 ]] \r\n",
       "portin \"newX\" as E5  [[psysml:7d0c1fa2-09eb-4f19-a101-add490a57fbe ]] \r\n",
       "}\r\n",
       "\r\n",
       "}\r\n",
       "@enduml\r\n",
       "\n",
       "PlantUML version 1.2020.13(Sat Jun 13 12:26:38 UTC 2020)\n",
       "(EPL source distribution)\n",
       "Java Runtime: OpenJDK Runtime Environment\n",
       "JVM: OpenJDK 64-Bit Server VM\n",
       "Default Encoding: UTF-8\n",
       "Language: en\n",
       "Country: null\n",
       "--></g></svg>"
      ]
     },
     "execution_count": 26,
     "metadata": {},
     "output_type": "execute_result"
    }
   ],
   "source": [
    "%viz --style=\"STDCOLOR\" --view=\"Interconnection\" \"TextualRepresentationTest\""
   ]
  },
  {
   "cell_type": "code",
   "execution_count": 27,
   "id": "49a98f82",
   "metadata": {
    "execution": {
     "iopub.execute_input": "2021-11-13T13:00:36.361093Z",
     "iopub.status.busy": "2021-11-13T13:00:36.360839Z",
     "iopub.status.idle": "2021-11-13T13:00:36.383904Z",
     "shell.execute_reply": "2021-11-13T13:00:36.383627Z"
    }
   },
   "outputs": [
    {
     "data": {
      "image/svg+xml": [
       "<?xml version=\"1.0\" encoding=\"UTF-8\" standalone=\"no\"?><svg xmlns=\"http://www.w3.org/2000/svg\" xmlns:xlink=\"http://www.w3.org/1999/xlink\" contentScriptType=\"application/ecmascript\" contentStyleType=\"text/css\" height=\"134px\" preserveAspectRatio=\"none\" style=\"width:160px;height:134px;\" version=\"1.1\" viewBox=\"0 0 160 134\" width=\"160px\" zoomAndPan=\"magnify\"><defs><filter height=\"300%\" id=\"f1kzj164frkpwu\" width=\"300%\" x=\"-1\" y=\"-1\"><feGaussianBlur result=\"blurOut\" stdDeviation=\"2.0\"/><feColorMatrix in=\"blurOut\" result=\"blurOut2\" type=\"matrix\" values=\"0 0 0 0 0 0 0 0 0 0 0 0 0 0 0 0 0 0 .4 0\"/><feOffset dx=\"4.0\" dy=\"4.0\" in=\"blurOut2\" result=\"blurOut3\"/><feBlend in=\"SourceGraphic\" in2=\"blurOut3\" mode=\"normal\"/></filter></defs><g><!--MD5=[fbc87193dbaf4d95561dea2c320d4a47]\n",
       "cluster E1--><a href=\"psysml:056920e1-03e4-42f5-9f87-f97cbdc58602\" target=\"_top\" title=\"psysml:056920e1-03e4-42f5-9f87-f97cbdc58602\" xlink:actuate=\"onRequest\" xlink:href=\"psysml:056920e1-03e4-42f5-9f87-f97cbdc58602\" xlink:show=\"new\" xlink:title=\"psysml:056920e1-03e4-42f5-9f87-f97cbdc58602\" xlink:type=\"simple\"><rect fill=\"#FFFFFF\" filter=\"url(#f1kzj164frkpwu)\" height=\"73\" id=\"E1\" style=\"stroke: #A80036; stroke-width: 1.5;\" width=\"134\" x=\"7\" y=\"42.0986\"/><rect fill=\"#FEFECE\" height=\"37.9375\" style=\"stroke: #A80036; stroke-width: 1.5;\" width=\"134\" x=\"7\" y=\"42.0986\"/><text fill=\"#000000\" font-family=\"sans-serif\" font-size=\"12\" font-style=\"italic\" lengthAdjust=\"spacingAndGlyphs\" textLength=\"81\" x=\"33.5\" y=\"58.2373\">«action  def»</text><text fill=\"#000000\" font-family=\"sans-serif\" font-size=\"12\" lengthAdjust=\"spacingAndGlyphs\" textLength=\"27\" x=\"60.5\" y=\"72.2061\">setX</text></a><text fill=\"#000000\" font-family=\"sans-serif\" font-size=\"14\" lengthAdjust=\"spacingAndGlyphs\" textLength=\"8\" x=\"21\" y=\"20.7969\">c</text><rect fill=\"#A80036\" height=\"12\" style=\"stroke: #FEFECE; stroke-width: 1.5;\" width=\"12\" x=\"19\" y=\"36.0986\"/><text fill=\"#000000\" font-family=\"sans-serif\" font-size=\"14\" lengthAdjust=\"spacingAndGlyphs\" textLength=\"38\" x=\"53\" y=\"20.7969\">newX</text><rect fill=\"#A80036\" height=\"12\" style=\"stroke: #FEFECE; stroke-width: 1.5;\" width=\"12\" x=\"66\" y=\"36.0986\"/><!--MD5=[1af619ffbcc378f60daa4ac0a7a33b91]\n",
       "@startuml\r\n",
       "skinparam ranksep 8\r\n",
       "skinparam wrapWidth 300\r\n",
       "hide circle\r\n",
       "\r\n",
       "rec def \"setX\" as E1  <<(T,blue) action  def>> [[psysml:056920e1-03e4-42f5-9f87-f97cbdc58602 ]] {\r\n",
       "portin \"c\" as E2  [[psysml:01d56035-c08c-482f-9257-c9260a493ad7 ]] \r\n",
       "portin \"newX\" as E3  [[psysml:7d0c1fa2-09eb-4f19-a101-add490a57fbe ]] \r\n",
       "}\r\n",
       "\r\n",
       "@enduml\r\n",
       "\n",
       "PlantUML version 1.2020.13(Sat Jun 13 12:26:38 UTC 2020)\n",
       "(EPL source distribution)\n",
       "Java Runtime: OpenJDK Runtime Environment\n",
       "JVM: OpenJDK 64-Bit Server VM\n",
       "Default Encoding: UTF-8\n",
       "Language: en\n",
       "Country: null\n",
       "--></g></svg>"
      ]
     },
     "execution_count": 27,
     "metadata": {},
     "output_type": "execute_result"
    }
   ],
   "source": [
    "%viz --style=\"STDCOLOR\" --view=\"Action\" \"TextualRepresentationTest\""
   ]
  },
  {
   "cell_type": "code",
   "execution_count": 28,
   "id": "1ba7fa53",
   "metadata": {
    "execution": {
     "iopub.execute_input": "2021-11-13T13:00:36.433480Z",
     "iopub.status.busy": "2021-11-13T13:00:36.433151Z",
     "iopub.status.idle": "2021-11-13T13:00:36.438318Z",
     "shell.execute_reply": "2021-11-13T13:00:36.438632Z"
    }
   },
   "outputs": [
    {
     "data": {
      "image/svg+xml": [
       "<?xml version=\"1.0\" encoding=\"UTF-8\" standalone=\"no\"?><svg xmlns=\"http://www.w3.org/2000/svg\" xmlns:xlink=\"http://www.w3.org/1999/xlink\" contentScriptType=\"application/ecmascript\" contentStyleType=\"text/css\" height=\"12px\" preserveAspectRatio=\"none\" style=\"width:12px;height:12px;\" version=\"1.1\" viewBox=\"0 0 12 12\" width=\"12px\" zoomAndPan=\"magnify\"><defs/><g><!--MD5=[6c4bca67b4d71758159a5a7f1f1e1fc2]\n",
       "@startuml\r\n",
       "skinparam roundcorner 20\r\n",
       "skinparam BoxPadding 20\r\n",
       "skinparam SequenceBoxBackgroundColor #white\r\n",
       "skinparam style strictuml\r\n",
       "skinparam maxMessageSize 100\r\n",
       "skinparam wrapWidth 300\r\n",
       "hide circle\r\n",
       "\r\n",
       "@enduml\r\n",
       "\n",
       "PlantUML version 1.2020.13(Sat Jun 13 12:26:38 UTC 2020)\n",
       "(EPL source distribution)\n",
       "Java Runtime: OpenJDK Runtime Environment\n",
       "JVM: OpenJDK 64-Bit Server VM\n",
       "Default Encoding: UTF-8\n",
       "Language: en\n",
       "Country: null\n",
       "--></g></svg>"
      ]
     },
     "execution_count": 28,
     "metadata": {},
     "output_type": "execute_result"
    }
   ],
   "source": [
    "%viz --style=\"STDCOLOR\" --view=\"Sequence\" \"TextualRepresentationTest\""
   ]
  },
  {
   "cell_type": "code",
   "execution_count": 29,
   "id": "49cd72d5",
   "metadata": {
    "execution": {
     "iopub.execute_input": "2021-11-13T13:00:36.487928Z",
     "iopub.status.busy": "2021-11-13T13:00:36.487676Z",
     "iopub.status.idle": "2021-11-13T13:00:36.527194Z",
     "shell.execute_reply": "2021-11-13T13:00:36.527020Z"
    }
   },
   "outputs": [
    {
     "data": {
      "image/svg+xml": [
       "<?xml version=\"1.0\" encoding=\"UTF-8\" standalone=\"no\"?><svg xmlns=\"http://www.w3.org/2000/svg\" xmlns:xlink=\"http://www.w3.org/1999/xlink\" contentScriptType=\"application/ecmascript\" contentStyleType=\"text/css\" height=\"261px\" preserveAspectRatio=\"none\" style=\"width:351px;height:261px;\" version=\"1.1\" viewBox=\"0 0 351 261\" width=\"351px\" zoomAndPan=\"magnify\"><defs><filter height=\"300%\" id=\"fsb1vpmz1sjc5\" width=\"300%\" x=\"-1\" y=\"-1\"><feGaussianBlur result=\"blurOut\" stdDeviation=\"2.0\"/><feColorMatrix in=\"blurOut\" result=\"blurOut2\" type=\"matrix\" values=\"0 0 0 0 0 0 0 0 0 0 0 0 0 0 0 0 0 0 .4 0\"/><feOffset dx=\"4.0\" dy=\"4.0\" in=\"blurOut2\" result=\"blurOut3\"/><feBlend in=\"SourceGraphic\" in2=\"blurOut3\" mode=\"normal\"/></filter></defs><g><!--MD5=[fbc87193dbaf4d95561dea2c320d4a47]\n",
       "cluster E1--><a href=\"psysml:6b3c9659-b47e-4a53-85ed-693ccedcdfc8\" target=\"_top\" title=\"psysml:6b3c9659-b47e-4a53-85ed-693ccedcdfc8\" xlink:actuate=\"onRequest\" xlink:href=\"psysml:6b3c9659-b47e-4a53-85ed-693ccedcdfc8\" xlink:show=\"new\" xlink:title=\"psysml:6b3c9659-b47e-4a53-85ed-693ccedcdfc8\" xlink:type=\"simple\"><polygon fill=\"#FFFFFF\" filter=\"url(#fsb1vpmz1sjc5)\" points=\"16,6,210,6,217,28.2969,329,28.2969,329,249.5,16,249.5,16,6\" style=\"stroke: #000000; stroke-width: 1.5;\"/><line style=\"stroke: #000000; stroke-width: 1.5;\" x1=\"16\" x2=\"217\" y1=\"28.2969\" y2=\"28.2969\"/><text fill=\"#000000\" font-family=\"sans-serif\" font-size=\"14\" font-weight=\"bold\" lengthAdjust=\"spacingAndGlyphs\" textLength=\"188\" x=\"20\" y=\"20.9951\">TextualRepresentationTest</text></a><!--MD5=[f6df4d0ebaf0b5dfb2ced0ae5af7c670]\n",
       "cluster E4--><a href=\"psysml:056920e1-03e4-42f5-9f87-f97cbdc58602\" target=\"_top\" title=\"psysml:056920e1-03e4-42f5-9f87-f97cbdc58602\" xlink:actuate=\"onRequest\" xlink:href=\"psysml:056920e1-03e4-42f5-9f87-f97cbdc58602\" xlink:show=\"new\" xlink:title=\"psysml:056920e1-03e4-42f5-9f87-f97cbdc58602\" xlink:type=\"simple\"><rect fill=\"#FFFFFF\" filter=\"url(#fsb1vpmz1sjc5)\" height=\"154.5\" id=\"E4\" style=\"stroke: #A80036; stroke-width: 1.5;\" width=\"134\" x=\"179\" y=\"79\"/><rect fill=\"#FEFECE\" height=\"37.9375\" style=\"stroke: #A80036; stroke-width: 1.5;\" width=\"134\" x=\"179\" y=\"79\"/><text fill=\"#000000\" font-family=\"sans-serif\" font-size=\"12\" font-style=\"italic\" lengthAdjust=\"spacingAndGlyphs\" textLength=\"81\" x=\"205.5\" y=\"95.1387\">«action  def»</text><text fill=\"#000000\" font-family=\"sans-serif\" font-size=\"12\" lengthAdjust=\"spacingAndGlyphs\" textLength=\"27\" x=\"232.5\" y=\"109.1074\">setX</text></a><!--MD5=[b4997ac47864f28c2f74865a473b2911]\n",
       "class E2--><a href=\"psysml:83925eaf-d327-49ae-8c67-e64c48e757fa\" target=\"_top\" title=\"psysml:83925eaf-d327-49ae-8c67-e64c48e757fa\" xlink:actuate=\"onRequest\" xlink:href=\"psysml:83925eaf-d327-49ae-8c67-e64c48e757fa\" xlink:show=\"new\" xlink:title=\"psysml:83925eaf-d327-49ae-8c67-e64c48e757fa\" xlink:type=\"simple\"><rect fill=\"#FEFECE\" filter=\"url(#fsb1vpmz1sjc5)\" height=\"75.5469\" id=\"E2\" style=\"stroke: #A80036; stroke-width: 1.5;\" width=\"71\" x=\"58.5\" y=\"41\"/><text fill=\"#000000\" font-family=\"sans-serif\" font-size=\"12\" font-style=\"italic\" lengthAdjust=\"spacingAndGlyphs\" textLength=\"69\" x=\"59.5\" y=\"57.1387\">«item  def»</text><text fill=\"#000000\" font-family=\"sans-serif\" font-size=\"12\" lengthAdjust=\"spacingAndGlyphs\" textLength=\"8\" x=\"90\" y=\"71.1074\">C</text><line style=\"stroke: #A80036; stroke-width: 1.5;\" x1=\"59.5\" x2=\"128.5\" y1=\"78.9375\" y2=\"78.9375\"/><text fill=\"#000000\" font-family=\"sans-serif\" font-size=\"11\" lengthAdjust=\"spacingAndGlyphs\" textLength=\"38\" x=\"64.5\" y=\"109.9526\">x: Real</text><line style=\"stroke: #A80036; stroke-width: 1.0;\" x1=\"59.5\" x2=\"66.5\" y1=\"93.3398\" y2=\"93.3398\"/><text fill=\"#000000\" font-family=\"sans-serif\" font-size=\"11\" lengthAdjust=\"spacingAndGlyphs\" textLength=\"55\" x=\"66.5\" y=\"96.6479\">attributes</text><line style=\"stroke: #A80036; stroke-width: 1.0;\" x1=\"121.5\" x2=\"128.5\" y1=\"93.3398\" y2=\"93.3398\"/></a><!--MD5=[09b614a08d8cba4a07c9adeb5e0fee81]\n",
       "class E3--><a href=\"psysml:9e9e8e01-075a-4e09-a2e1-8d13feba95d6\" target=\"_top\" title=\"psysml:9e9e8e01-075a-4e09-a2e1-8d13feba95d6\" xlink:actuate=\"onRequest\" xlink:href=\"psysml:9e9e8e01-075a-4e09-a2e1-8d13feba95d6\" xlink:show=\"new\" xlink:title=\"psysml:9e9e8e01-075a-4e09-a2e1-8d13feba95d6\" xlink:type=\"simple\"><rect fill=\"#FEFECE\" filter=\"url(#fsb1vpmz1sjc5)\" height=\"45.9375\" id=\"E3\" rx=\"10\" ry=\"10\" style=\"stroke: #A80036; stroke-width: 1.5;\" width=\"124\" x=\"32\" y=\"177\"/><text fill=\"#000000\" font-family=\"sans-serif\" font-size=\"12\" font-style=\"italic\" lengthAdjust=\"spacingAndGlyphs\" textLength=\"122\" x=\"33\" y=\"193.1387\">«assert constraint»</text><text fill=\"#000000\" font-family=\"sans-serif\" font-size=\"12\" lengthAdjust=\"spacingAndGlyphs\" textLength=\"76\" x=\"56\" y=\"207.1074\">x_constraint</text><line style=\"stroke: #A80036; stroke-width: 1.5;\" x1=\"33\" x2=\"155\" y1=\"214.9375\" y2=\"214.9375\"/></a><text fill=\"#000000\" font-family=\"sans-serif\" font-size=\"14\" lengthAdjust=\"spacingAndGlyphs\" textLength=\"8\" x=\"193\" y=\"57.6982\">c</text><rect fill=\"#A80036\" height=\"12\" style=\"stroke: #FEFECE; stroke-width: 1.5;\" width=\"12\" x=\"191\" y=\"73\"/><text fill=\"#000000\" font-family=\"sans-serif\" font-size=\"14\" lengthAdjust=\"spacingAndGlyphs\" textLength=\"38\" x=\"225\" y=\"57.6982\">newX</text><rect fill=\"#A80036\" height=\"12\" style=\"stroke: #FEFECE; stroke-width: 1.5;\" width=\"12\" x=\"238\" y=\"73\"/><!--MD5=[209b3feb70ccb6233bfe1053d122c12c]\n",
       "reverse link E2 to E3--><a href=\"psysml:03d8b6ce-86e3-4804-a1ae-2a2287936712\" target=\"_top\" title=\"psysml:03d8b6ce-86e3-4804-a1ae-2a2287936712\" xlink:actuate=\"onRequest\" xlink:href=\"psysml:03d8b6ce-86e3-4804-a1ae-2a2287936712\" xlink:show=\"new\" xlink:title=\"psysml:03d8b6ce-86e3-4804-a1ae-2a2287936712\" xlink:type=\"simple\"><path d=\"M94,130.34 C94,146.61 94,163.81 94,176.93 \" fill=\"none\" id=\"E2&lt;-E3\" style=\"stroke: #A80036; stroke-width: 1.0;\"/><polygon fill=\"#A80036\" points=\"94,117,90,123,94,129,98,123,94,117\" style=\"stroke: #A80036; stroke-width: 1.0;\"/><text fill=\"#000000\" font-family=\"sans-serif\" font-size=\"13\" lengthAdjust=\"spacingAndGlyphs\" textLength=\"7\" x=\"86.0594\" y=\"165.8075\">*</text></a><!--MD5=[a96dd4bc9ae67f2c09419af0be7b8219]\n",
       "@startuml\r\n",
       "skinparam wrapWidth 300\r\n",
       "hide circle\r\n",
       "\r\n",
       "package \"TextualRepresentationTest\" as E1  [[psysml:6b3c9659-b47e-4a53-85ed-693ccedcdfc8 ]]  {\r\n",
       "comp def \"C\" as E2  <<(T,blue) item  def>> [[psysml:83925eaf-d327-49ae-8c67-e64c48e757fa ]] {\r\n",
       "- - attributes - -\r\n",
       "x: Real\r\n",
       "}\r\n",
       "comp usage \"x_constraint\" as E3  <<(T,blue) assert constraint>> [[psysml:9e9e8e01-075a-4e09-a2e1-8d13feba95d6 ]] {\r\n",
       "}\r\n",
       "rec def \"setX\" as E4  <<(T,blue) action  def>> [[psysml:056920e1-03e4-42f5-9f87-f97cbdc58602 ]] {\r\n",
       "portin \"c\" as E5  [[psysml:01d56035-c08c-482f-9257-c9260a493ad7 ]] \r\n",
       "portin \"newX\" as E6  [[psysml:7d0c1fa2-09eb-4f19-a101-add490a57fbe ]] \r\n",
       "}\r\n",
       "\r\n",
       "}\r\n",
       "E2 *- - \"*\"E3 [[psysml:03d8b6ce-86e3-4804-a1ae-2a2287936712 ]] \r\n",
       "@enduml\r\n",
       "\n",
       "PlantUML version 1.2020.13(Sat Jun 13 12:26:38 UTC 2020)\n",
       "(EPL source distribution)\n",
       "Java Runtime: OpenJDK Runtime Environment\n",
       "JVM: OpenJDK 64-Bit Server VM\n",
       "Default Encoding: UTF-8\n",
       "Language: en\n",
       "Country: null\n",
       "--></g></svg>"
      ]
     },
     "execution_count": 29,
     "metadata": {},
     "output_type": "execute_result"
    }
   ],
   "source": [
    "%viz --style=\"STDCOLOR\" --view=\"MIXED\" \"TextualRepresentationTest\""
   ]
  },
  {
   "cell_type": "code",
   "execution_count": 30,
   "id": "de70321c",
   "metadata": {
    "execution": {
     "iopub.execute_input": "2021-11-13T13:00:36.577090Z",
     "iopub.status.busy": "2021-11-13T13:00:36.576787Z",
     "iopub.status.idle": "2021-11-13T13:00:36.633046Z",
     "shell.execute_reply": "2021-11-13T13:00:36.632879Z"
    }
   },
   "outputs": [
    {
     "data": {
      "image/svg+xml": [
       "<?xml version=\"1.0\" encoding=\"UTF-8\" standalone=\"no\"?><svg xmlns=\"http://www.w3.org/2000/svg\" xmlns:xlink=\"http://www.w3.org/1999/xlink\" contentScriptType=\"application/ecmascript\" contentStyleType=\"text/css\" height=\"255px\" preserveAspectRatio=\"none\" style=\"width:377px;height:255px;\" version=\"1.1\" viewBox=\"0 0 377 255\" width=\"377px\" zoomAndPan=\"magnify\"><defs><filter height=\"300%\" id=\"f1mkqdtm01nqx4\" width=\"300%\" x=\"-1\" y=\"-1\"><feGaussianBlur result=\"blurOut\" stdDeviation=\"2.0\"/><feColorMatrix in=\"blurOut\" result=\"blurOut2\" type=\"matrix\" values=\"0 0 0 0 0 0 0 0 0 0 0 0 0 0 0 0 0 0 .4 0\"/><feOffset dx=\"4.0\" dy=\"4.0\" in=\"blurOut2\" result=\"blurOut3\"/><feBlend in=\"SourceGraphic\" in2=\"blurOut3\" mode=\"normal\"/></filter></defs><g><!--MD5=[fbc87193dbaf4d95561dea2c320d4a47]\n",
       "cluster E1--><a href=\"psysml:6b3c9659-b47e-4a53-85ed-693ccedcdfc8\" target=\"_top\" title=\"psysml:6b3c9659-b47e-4a53-85ed-693ccedcdfc8\" xlink:actuate=\"onRequest\" xlink:href=\"psysml:6b3c9659-b47e-4a53-85ed-693ccedcdfc8\" xlink:show=\"new\" xlink:title=\"psysml:6b3c9659-b47e-4a53-85ed-693ccedcdfc8\" xlink:type=\"simple\"><polygon fill=\"#FFFFFF\" filter=\"url(#f1mkqdtm01nqx4)\" points=\"16,6,210,6,217,28.2969,355,28.2969,355,243.5,16,243.5,16,6\" style=\"stroke: #000000; stroke-width: 1.5;\"/><line style=\"stroke: #000000; stroke-width: 1.5;\" x1=\"16\" x2=\"217\" y1=\"28.2969\" y2=\"28.2969\"/><text fill=\"#000000\" font-family=\"sans-serif\" font-size=\"14\" font-weight=\"bold\" lengthAdjust=\"spacingAndGlyphs\" textLength=\"188\" x=\"20\" y=\"20.9951\">TextualRepresentationTest</text></a><!--MD5=[f6df4d0ebaf0b5dfb2ced0ae5af7c670]\n",
       "cluster E4--><a href=\"psysml:056920e1-03e4-42f5-9f87-f97cbdc58602\" target=\"_top\" title=\"psysml:056920e1-03e4-42f5-9f87-f97cbdc58602\" xlink:actuate=\"onRequest\" xlink:href=\"psysml:056920e1-03e4-42f5-9f87-f97cbdc58602\" xlink:show=\"new\" xlink:title=\"psysml:056920e1-03e4-42f5-9f87-f97cbdc58602\" xlink:type=\"simple\"><rect fill=\"#FFFFFF\" filter=\"url(#f1mkqdtm01nqx4)\" height=\"151.5\" id=\"E4\" style=\"stroke: #A80036; stroke-width: 1.5;\" width=\"134\" x=\"205\" y=\"76\"/><rect fill=\"#FEFECE\" height=\"37.9375\" style=\"stroke: #A80036; stroke-width: 1.5;\" width=\"134\" x=\"205\" y=\"76\"/><text fill=\"#000000\" font-family=\"sans-serif\" font-size=\"12\" font-style=\"italic\" lengthAdjust=\"spacingAndGlyphs\" textLength=\"81\" x=\"231.5\" y=\"92.1387\">«action  def»</text><text fill=\"#000000\" font-family=\"sans-serif\" font-size=\"12\" lengthAdjust=\"spacingAndGlyphs\" textLength=\"27\" x=\"258.5\" y=\"106.1074\">setX</text></a><!--MD5=[b4997ac47864f28c2f74865a473b2911]\n",
       "class E2--><a href=\"psysml:83925eaf-d327-49ae-8c67-e64c48e757fa\" target=\"_top\" title=\"psysml:83925eaf-d327-49ae-8c67-e64c48e757fa\" xlink:actuate=\"onRequest\" xlink:href=\"psysml:83925eaf-d327-49ae-8c67-e64c48e757fa\" xlink:show=\"new\" xlink:title=\"psysml:83925eaf-d327-49ae-8c67-e64c48e757fa\" xlink:type=\"simple\"><rect fill=\"#FEFECE\" filter=\"url(#f1mkqdtm01nqx4)\" height=\"69.6094\" id=\"E2\" style=\"stroke: #A80036; stroke-width: 1.5;\" width=\"63\" x=\"75.5\" y=\"41\"/><ellipse cx=\"100.85\" cy=\"57\" fill=\"#008000\" rx=\"11\" ry=\"11\" style=\"stroke: #A80036; stroke-width: 1.0;\"/><path d=\"M97.725,62 L97.725,51.4063 L100.9594,51.4063 Q102.8656,51.4063 103.7719,52.1563 Q104.6938,52.9063 104.6938,54.0781 Q104.6938,54.7656 104.3031,55.4219 Q103.9281,56.0781 103.2094,56.375 Q104.0688,56.75 104.5844,57.4375 Q105.1,58.125 105.1,58.9375 Q105.1,60.3125 104.0688,61.1563 Q103.0531,62 100.9438,62 L97.725,62 Z M99.6469,55.6406 L100.8031,55.6406 Q101.9281,55.6406 102.3344,55.2656 Q102.7563,54.875 102.7563,54.25 Q102.7563,53.6719 102.3344,53.3125 Q101.9125,52.9531 100.975,52.9531 L99.6469,52.9531 L99.6469,55.6406 Z M99.6469,60.4219 L101.1469,60.4219 Q102.0531,60.4219 102.5844,60.0313 Q103.1156,59.6406 103.1156,58.8906 Q103.1156,58.125 102.6156,57.6563 Q102.1156,57.1719 100.85,57.1719 L99.6469,57.1719 L99.6469,60.4219 Z \"/><text fill=\"#000000\" font-family=\"sans-serif\" font-size=\"12\" lengthAdjust=\"spacingAndGlyphs\" textLength=\"8\" x=\"117.15\" y=\"61.1543\">C</text><line style=\"stroke: #A80036; stroke-width: 1.5;\" x1=\"76.5\" x2=\"137.5\" y1=\"73\" y2=\"73\"/><text fill=\"#000000\" font-family=\"sans-serif\" font-size=\"11\" lengthAdjust=\"spacingAndGlyphs\" textLength=\"38\" x=\"81.5\" y=\"104.0151\">x: Real</text><line style=\"stroke: #A80036; stroke-width: 1.0;\" x1=\"76.5\" x2=\"79.5\" y1=\"87.4023\" y2=\"87.4023\"/><text fill=\"#000000\" font-family=\"sans-serif\" font-size=\"11\" lengthAdjust=\"spacingAndGlyphs\" textLength=\"55\" x=\"79.5\" y=\"90.7104\">attributes</text><line style=\"stroke: #A80036; stroke-width: 1.0;\" x1=\"134.5\" x2=\"137.5\" y1=\"87.4023\" y2=\"87.4023\"/></a><!--MD5=[09b614a08d8cba4a07c9adeb5e0fee81]\n",
       "class E3--><a href=\"psysml:9e9e8e01-075a-4e09-a2e1-8d13feba95d6\" target=\"_top\" title=\"psysml:9e9e8e01-075a-4e09-a2e1-8d13feba95d6\" xlink:actuate=\"onRequest\" xlink:href=\"psysml:9e9e8e01-075a-4e09-a2e1-8d13feba95d6\" xlink:show=\"new\" xlink:title=\"psysml:9e9e8e01-075a-4e09-a2e1-8d13feba95d6\" xlink:type=\"simple\"><rect fill=\"#FEFECE\" filter=\"url(#f1mkqdtm01nqx4)\" height=\"45.9375\" id=\"E3\" rx=\"10\" ry=\"10\" style=\"stroke: #A80036; stroke-width: 1.5;\" width=\"150\" x=\"32\" y=\"171\"/><ellipse cx=\"47\" cy=\"189.9688\" fill=\"#FFA500\" rx=\"11\" ry=\"11\" style=\"stroke: #A80036; stroke-width: 1.0;\"/><path d=\"M46.75,195.4375 Q45,195.4375 44.0469,194.4063 Q43.1094,193.3594 43.1094,191.5156 L43.1094,184.625 L45.1719,184.625 L45.1719,184.7813 Q45.0781,184.875 45.0469,185.0156 Q45.0313,185.1406 45.0313,185.4063 L45.0313,191.5313 Q45.0313,192.625 45.4063,193.25 Q45.7813,193.875 46.7656,193.875 Q47.75,193.875 48.1406,193.25 Q48.5313,192.625 48.5313,191.4844 L48.5313,184.625 L50.4063,184.625 L50.4063,191.4688 Q50.4063,193.5 49.375,194.4688 Q48.3594,195.4375 46.75,195.4375 Z \"/><text fill=\"#000000\" font-family=\"sans-serif\" font-size=\"12\" font-style=\"italic\" lengthAdjust=\"spacingAndGlyphs\" textLength=\"122\" x=\"59\" y=\"187.1387\">«assert constraint»</text><text fill=\"#000000\" font-family=\"sans-serif\" font-size=\"12\" lengthAdjust=\"spacingAndGlyphs\" textLength=\"76\" x=\"82\" y=\"201.1074\">x_constraint</text><line style=\"stroke: #A80036; stroke-width: 1.5;\" x1=\"33\" x2=\"181\" y1=\"208.9375\" y2=\"208.9375\"/></a><text fill=\"#000000\" font-family=\"sans-serif\" font-size=\"14\" lengthAdjust=\"spacingAndGlyphs\" textLength=\"8\" x=\"219\" y=\"54.6982\">c</text><rect fill=\"#A80036\" height=\"12\" style=\"stroke: #FEFECE; stroke-width: 1.5;\" width=\"12\" x=\"217\" y=\"70\"/><text fill=\"#000000\" font-family=\"sans-serif\" font-size=\"14\" lengthAdjust=\"spacingAndGlyphs\" textLength=\"38\" x=\"251\" y=\"54.6982\">newX</text><rect fill=\"#A80036\" height=\"12\" style=\"stroke: #FEFECE; stroke-width: 1.5;\" width=\"12\" x=\"264\" y=\"70\"/><!--MD5=[209b3feb70ccb6233bfe1053d122c12c]\n",
       "reverse link E2 to E3--><a href=\"psysml:03d8b6ce-86e3-4804-a1ae-2a2287936712\" target=\"_top\" title=\"psysml:03d8b6ce-86e3-4804-a1ae-2a2287936712\" xlink:actuate=\"onRequest\" xlink:href=\"psysml:03d8b6ce-86e3-4804-a1ae-2a2287936712\" xlink:show=\"new\" xlink:title=\"psysml:03d8b6ce-86e3-4804-a1ae-2a2287936712\" xlink:type=\"simple\"><path d=\"M107,124.3 C107,140.38 107,157.6 107,170.77 \" fill=\"none\" id=\"E2&lt;-E3\" style=\"stroke: #A80036; stroke-width: 1.0;\"/><polygon fill=\"#A80036\" points=\"107,111.18,103,117.18,107,123.18,111,117.18,107,111.18\" style=\"stroke: #A80036; stroke-width: 1.0;\"/><text fill=\"#000000\" font-family=\"sans-serif\" font-size=\"13\" lengthAdjust=\"spacingAndGlyphs\" textLength=\"7\" x=\"99.1031\" y=\"159.9874\">*</text></a><!--MD5=[404bfdab2964fbdc280c3e665b7d01da]\n",
       "@startuml\r\n",
       " \r\n",
       "package \"TextualRepresentationTest\" as E1  [[psysml:6b3c9659-b47e-4a53-85ed-693ccedcdfc8 ]]  {\r\n",
       "comp def \"C\" as E2 << << (B,green) >> [[psysml:83925eaf-d327-49ae-8c67-e64c48e757fa ]] {\r\n",
       "- - attributes - -\r\n",
       "x: Real\r\n",
       "}\r\n",
       "comp usage \"x_constraint\" as E3 << <<(U,orange) assert constraint>> [[psysml:9e9e8e01-075a-4e09-a2e1-8d13feba95d6 ]] {\r\n",
       "}\r\n",
       "rec def \"setX\" as E4 << <<(B,lemonchiffon) action  def>> [[psysml:056920e1-03e4-42f5-9f87-f97cbdc58602 ]] {\r\n",
       "portin \"c\" as E5  [[psysml:01d56035-c08c-482f-9257-c9260a493ad7 ]] \r\n",
       "portin \"newX\" as E6  [[psysml:7d0c1fa2-09eb-4f19-a101-add490a57fbe ]] \r\n",
       "}\r\n",
       "\r\n",
       "}\r\n",
       "E2 *- - \"*\"E3 [[psysml:03d8b6ce-86e3-4804-a1ae-2a2287936712 ]] \r\n",
       "@enduml\r\n",
       "\n",
       "PlantUML version 1.2020.13(Sat Jun 13 12:26:38 UTC 2020)\n",
       "(EPL source distribution)\n",
       "Java Runtime: OpenJDK Runtime Environment\n",
       "JVM: OpenJDK 64-Bit Server VM\n",
       "Default Encoding: UTF-8\n",
       "Language: en\n",
       "Country: null\n",
       "--></g></svg>"
      ]
     },
     "execution_count": 30,
     "metadata": {},
     "output_type": "execute_result"
    }
   ],
   "source": [
    "%viz --style=\"PLANTUML\" --view=\"Default\" \"TextualRepresentationTest\""
   ]
  },
  {
   "cell_type": "code",
   "execution_count": 31,
   "id": "a6474f90",
   "metadata": {
    "execution": {
     "iopub.execute_input": "2021-11-13T13:00:36.682982Z",
     "iopub.status.busy": "2021-11-13T13:00:36.682731Z",
     "iopub.status.idle": "2021-11-13T13:00:36.746169Z",
     "shell.execute_reply": "2021-11-13T13:00:36.745805Z"
    }
   },
   "outputs": [
    {
     "data": {
      "image/svg+xml": [
       "<?xml version=\"1.0\" encoding=\"UTF-8\" standalone=\"no\"?><svg xmlns=\"http://www.w3.org/2000/svg\" xmlns:xlink=\"http://www.w3.org/1999/xlink\" contentScriptType=\"application/ecmascript\" contentStyleType=\"text/css\" height=\"411px\" preserveAspectRatio=\"none\" style=\"width:242px;height:411px;\" version=\"1.1\" viewBox=\"0 0 242 411\" width=\"242px\" zoomAndPan=\"magnify\"><defs><filter height=\"300%\" id=\"f1bvuhc30k15rk\" width=\"300%\" x=\"-1\" y=\"-1\"><feGaussianBlur result=\"blurOut\" stdDeviation=\"2.0\"/><feColorMatrix in=\"blurOut\" result=\"blurOut2\" type=\"matrix\" values=\"0 0 0 0 0 0 0 0 0 0 0 0 0 0 0 0 0 0 .4 0\"/><feOffset dx=\"4.0\" dy=\"4.0\" in=\"blurOut2\" result=\"blurOut3\"/><feBlend in=\"SourceGraphic\" in2=\"blurOut3\" mode=\"normal\"/></filter></defs><g><!--MD5=[fbc87193dbaf4d95561dea2c320d4a47]\n",
       "cluster E1--><a href=\"psysml:6b3c9659-b47e-4a53-85ed-693ccedcdfc8\" target=\"_top\" title=\"psysml:6b3c9659-b47e-4a53-85ed-693ccedcdfc8\" xlink:actuate=\"onRequest\" xlink:href=\"psysml:6b3c9659-b47e-4a53-85ed-693ccedcdfc8\" xlink:show=\"new\" xlink:title=\"psysml:6b3c9659-b47e-4a53-85ed-693ccedcdfc8\" xlink:type=\"simple\"><polygon fill=\"#FFFFFF\" filter=\"url(#f1bvuhc30k15rk)\" points=\"16,6,210,6,217,28.2969,220,28.2969,220,399,16,399,16,6\" style=\"stroke: #000000; stroke-width: 1.5;\"/><line style=\"stroke: #000000; stroke-width: 1.5;\" x1=\"16\" x2=\"217\" y1=\"28.2969\" y2=\"28.2969\"/><text fill=\"#000000\" font-family=\"sans-serif\" font-size=\"14\" font-weight=\"bold\" lengthAdjust=\"spacingAndGlyphs\" textLength=\"188\" x=\"20\" y=\"20.9951\">TextualRepresentationTest</text></a><!--MD5=[b4997ac47864f28c2f74865a473b2911]\n",
       "class E2--><a href=\"psysml:83925eaf-d327-49ae-8c67-e64c48e757fa\" target=\"_top\" title=\"psysml:83925eaf-d327-49ae-8c67-e64c48e757fa\" xlink:actuate=\"onRequest\" xlink:href=\"psysml:83925eaf-d327-49ae-8c67-e64c48e757fa\" xlink:show=\"new\" xlink:title=\"psysml:83925eaf-d327-49ae-8c67-e64c48e757fa\" xlink:type=\"simple\"><rect fill=\"#FEFECE\" filter=\"url(#f1bvuhc30k15rk)\" height=\"69.6094\" id=\"E2\" style=\"stroke: #A80036; stroke-width: 1.5;\" width=\"63\" x=\"86.5\" y=\"206\"/><ellipse cx=\"111.85\" cy=\"222\" fill=\"#008000\" rx=\"11\" ry=\"11\" style=\"stroke: #A80036; stroke-width: 1.0;\"/><path d=\"M108.725,227 L108.725,216.4063 L111.9594,216.4063 Q113.8656,216.4063 114.7719,217.1563 Q115.6938,217.9063 115.6938,219.0781 Q115.6938,219.7656 115.3031,220.4219 Q114.9281,221.0781 114.2094,221.375 Q115.0688,221.75 115.5844,222.4375 Q116.1,223.125 116.1,223.9375 Q116.1,225.3125 115.0688,226.1563 Q114.0531,227 111.9438,227 L108.725,227 Z M110.6469,220.6406 L111.8031,220.6406 Q112.9281,220.6406 113.3344,220.2656 Q113.7563,219.875 113.7563,219.25 Q113.7563,218.6719 113.3344,218.3125 Q112.9125,217.9531 111.975,217.9531 L110.6469,217.9531 L110.6469,220.6406 Z M110.6469,225.4219 L112.1469,225.4219 Q113.0531,225.4219 113.5844,225.0313 Q114.1156,224.6406 114.1156,223.8906 Q114.1156,223.125 113.6156,222.6563 Q113.1156,222.1719 111.85,222.1719 L110.6469,222.1719 L110.6469,225.4219 Z \"/><text fill=\"#000000\" font-family=\"sans-serif\" font-size=\"12\" lengthAdjust=\"spacingAndGlyphs\" textLength=\"8\" x=\"128.15\" y=\"226.1543\">C</text><line style=\"stroke: #A80036; stroke-width: 1.5;\" x1=\"87.5\" x2=\"148.5\" y1=\"238\" y2=\"238\"/><text fill=\"#000000\" font-family=\"sans-serif\" font-size=\"11\" lengthAdjust=\"spacingAndGlyphs\" textLength=\"38\" x=\"92.5\" y=\"269.0151\">x: Real</text><line style=\"stroke: #A80036; stroke-width: 1.0;\" x1=\"87.5\" x2=\"90.5\" y1=\"252.4023\" y2=\"252.4023\"/><text fill=\"#000000\" font-family=\"sans-serif\" font-size=\"11\" lengthAdjust=\"spacingAndGlyphs\" textLength=\"55\" x=\"90.5\" y=\"255.7104\">attributes</text><line style=\"stroke: #A80036; stroke-width: 1.0;\" x1=\"145.5\" x2=\"148.5\" y1=\"252.4023\" y2=\"252.4023\"/></a><!--MD5=[09b614a08d8cba4a07c9adeb5e0fee81]\n",
       "class E3--><a href=\"psysml:9e9e8e01-075a-4e09-a2e1-8d13feba95d6\" target=\"_top\" title=\"psysml:9e9e8e01-075a-4e09-a2e1-8d13feba95d6\" xlink:actuate=\"onRequest\" xlink:href=\"psysml:9e9e8e01-075a-4e09-a2e1-8d13feba95d6\" xlink:show=\"new\" xlink:title=\"psysml:9e9e8e01-075a-4e09-a2e1-8d13feba95d6\" xlink:type=\"simple\"><rect fill=\"#FEFECE\" filter=\"url(#f1bvuhc30k15rk)\" height=\"45.9375\" id=\"E3\" rx=\"10\" ry=\"10\" style=\"stroke: #A80036; stroke-width: 1.5;\" width=\"150\" x=\"43\" y=\"337\"/><ellipse cx=\"58\" cy=\"355.9688\" fill=\"#FFA500\" rx=\"11\" ry=\"11\" style=\"stroke: #A80036; stroke-width: 1.0;\"/><path d=\"M57.75,361.4375 Q56,361.4375 55.0469,360.4063 Q54.1094,359.3594 54.1094,357.5156 L54.1094,350.625 L56.1719,350.625 L56.1719,350.7813 Q56.0781,350.875 56.0469,351.0156 Q56.0313,351.1406 56.0313,351.4063 L56.0313,357.5313 Q56.0313,358.625 56.4063,359.25 Q56.7813,359.875 57.7656,359.875 Q58.75,359.875 59.1406,359.25 Q59.5313,358.625 59.5313,357.4844 L59.5313,350.625 L61.4063,350.625 L61.4063,357.4688 Q61.4063,359.5 60.375,360.4688 Q59.3594,361.4375 57.75,361.4375 Z \"/><text fill=\"#000000\" font-family=\"sans-serif\" font-size=\"12\" font-style=\"italic\" lengthAdjust=\"spacingAndGlyphs\" textLength=\"122\" x=\"70\" y=\"353.1387\">«assert constraint»</text><text fill=\"#000000\" font-family=\"sans-serif\" font-size=\"12\" lengthAdjust=\"spacingAndGlyphs\" textLength=\"76\" x=\"93\" y=\"367.1074\">x_constraint</text><line style=\"stroke: #A80036; stroke-width: 1.5;\" x1=\"44\" x2=\"192\" y1=\"374.9375\" y2=\"374.9375\"/></a><!--MD5=[ebbe1d658d1005bcc118a6aa81145e00]\n",
       "class E4--><a href=\"psysml:056920e1-03e4-42f5-9f87-f97cbdc58602\" target=\"_top\" title=\"psysml:056920e1-03e4-42f5-9f87-f97cbdc58602\" xlink:actuate=\"onRequest\" xlink:href=\"psysml:056920e1-03e4-42f5-9f87-f97cbdc58602\" xlink:show=\"new\" xlink:title=\"psysml:056920e1-03e4-42f5-9f87-f97cbdc58602\" xlink:type=\"simple\"><rect fill=\"#FEFECE\" filter=\"url(#f1bvuhc30k15rk)\" height=\"88.3516\" id=\"E4\" style=\"stroke: #A80036; stroke-width: 1.5;\" width=\"109\" x=\"58.5\" y=\"41\"/><ellipse cx=\"73.5\" cy=\"59.9688\" fill=\"#FFFACD\" rx=\"11\" ry=\"11\" style=\"stroke: #A80036; stroke-width: 1.0;\"/><path d=\"M70.375,64.9688 L70.375,54.375 L73.6094,54.375 Q75.5156,54.375 76.4219,55.125 Q77.3438,55.875 77.3438,57.0469 Q77.3438,57.7344 76.9531,58.3906 Q76.5781,59.0469 75.8594,59.3438 Q76.7188,59.7188 77.2344,60.4063 Q77.75,61.0938 77.75,61.9063 Q77.75,63.2813 76.7188,64.125 Q75.7031,64.9688 73.5938,64.9688 L70.375,64.9688 Z M72.2969,58.6094 L73.4531,58.6094 Q74.5781,58.6094 74.9844,58.2344 Q75.4063,57.8438 75.4063,57.2188 Q75.4063,56.6406 74.9844,56.2813 Q74.5625,55.9219 73.625,55.9219 L72.2969,55.9219 L72.2969,58.6094 Z M72.2969,63.3906 L73.7969,63.3906 Q74.7031,63.3906 75.2344,63 Q75.7656,62.6094 75.7656,61.8594 Q75.7656,61.0938 75.2656,60.625 Q74.7656,60.1406 73.5,60.1406 L72.2969,60.1406 L72.2969,63.3906 Z \"/><text fill=\"#000000\" font-family=\"sans-serif\" font-size=\"12\" font-style=\"italic\" lengthAdjust=\"spacingAndGlyphs\" textLength=\"81\" x=\"85.5\" y=\"57.1387\">«action  def»</text><text fill=\"#000000\" font-family=\"sans-serif\" font-size=\"12\" lengthAdjust=\"spacingAndGlyphs\" textLength=\"27\" x=\"112.5\" y=\"71.1074\">setX</text><line style=\"stroke: #A80036; stroke-width: 1.5;\" x1=\"59.5\" x2=\"166.5\" y1=\"78.9375\" y2=\"78.9375\"/><text fill=\"#000000\" font-family=\"sans-serif\" font-size=\"11\" font-weight=\"bold\" lengthAdjust=\"spacingAndGlyphs\" textLength=\"10\" x=\"64.5\" y=\"109.9526\">in</text><text fill=\"#000000\" font-family=\"sans-serif\" font-size=\"11\" lengthAdjust=\"spacingAndGlyphs\" textLength=\"22\" x=\"78.5\" y=\"109.9526\">c: C</text><text fill=\"#000000\" font-family=\"sans-serif\" font-size=\"11\" font-weight=\"bold\" lengthAdjust=\"spacingAndGlyphs\" textLength=\"10\" x=\"64.5\" y=\"122.7573\">in</text><text fill=\"#000000\" font-family=\"sans-serif\" font-size=\"11\" lengthAdjust=\"spacingAndGlyphs\" textLength=\"62\" x=\"78.5\" y=\"122.7573\">newX: Real</text><line style=\"stroke: #A80036; stroke-width: 1.0;\" x1=\"59.5\" x2=\"79.5\" y1=\"93.3398\" y2=\"93.3398\"/><text fill=\"#000000\" font-family=\"sans-serif\" font-size=\"11\" lengthAdjust=\"spacingAndGlyphs\" textLength=\"67\" x=\"79.5\" y=\"96.6479\">parameters</text><line style=\"stroke: #A80036; stroke-width: 1.0;\" x1=\"146.5\" x2=\"166.5\" y1=\"93.3398\" y2=\"93.3398\"/></a><!--MD5=[209b3feb70ccb6233bfe1053d122c12c]\n",
       "reverse link E2 to E3--><a href=\"psysml:03d8b6ce-86e3-4804-a1ae-2a2287936712\" target=\"_top\" title=\"psysml:03d8b6ce-86e3-4804-a1ae-2a2287936712\" xlink:actuate=\"onRequest\" xlink:href=\"psysml:03d8b6ce-86e3-4804-a1ae-2a2287936712\" xlink:show=\"new\" xlink:title=\"psysml:03d8b6ce-86e3-4804-a1ae-2a2287936712\" xlink:type=\"simple\"><path d=\"M118,289.51 C118,305.88 118,323.44 118,336.81 \" fill=\"none\" id=\"E2&lt;-E3\" style=\"stroke: #A80036; stroke-width: 1.0;\"/><polygon fill=\"#A80036\" points=\"118,276.16,114,282.16,118,288.16,122,282.16,118,276.16\" style=\"stroke: #A80036; stroke-width: 1.0;\"/><text fill=\"#000000\" font-family=\"sans-serif\" font-size=\"13\" lengthAdjust=\"spacingAndGlyphs\" textLength=\"7\" x=\"110.1031\" y=\"326.0376\">*</text></a><!--MD5=[ddeed8deb2209213b62e6cfabaa108b2]\n",
       "reverse link E4 to E2--><a href=\"psysml:01d56035-c08c-482f-9257-c9260a493ad7\" target=\"_top\" title=\"psysml:01d56035-c08c-482f-9257-c9260a493ad7\" xlink:actuate=\"onRequest\" xlink:href=\"psysml:01d56035-c08c-482f-9257-c9260a493ad7\" xlink:show=\"new\" xlink:title=\"psysml:01d56035-c08c-482f-9257-c9260a493ad7\" xlink:type=\"simple\"><path d=\"M103.77,142.34 C102.96,153.5 102.82,165.12 104,176 C105.05,185.72 106.98,196.14 109.07,205.68 \" fill=\"none\" id=\"E4&lt;-E2\" style=\"stroke: #A80036; stroke-width: 1.0;\"/><polygon fill=\"#FFFFFF\" points=\"105.06,129.05,100.5048,134.6402,103.913,140.9951,108.4682,135.4049,105.06,129.05\" style=\"stroke: #A80036; stroke-width: 1.0;\"/><text fill=\"#000000\" font-family=\"sans-serif\" font-size=\"13\" lengthAdjust=\"spacingAndGlyphs\" textLength=\"7\" x=\"105\" y=\"172.0669\">c</text></a><!--MD5=[ddeed8deb2209213b62e6cfabaa108b2]\n",
       "reverse link E4 to E2--><a href=\"psysml:01d56035-c08c-482f-9257-c9260a493ad7\" target=\"_top\" title=\"psysml:01d56035-c08c-482f-9257-c9260a493ad7\" xlink:actuate=\"onRequest\" xlink:href=\"psysml:01d56035-c08c-482f-9257-c9260a493ad7\" xlink:show=\"new\" xlink:title=\"psysml:01d56035-c08c-482f-9257-c9260a493ad7\" xlink:type=\"simple\"><path d=\"M114.83,142.51 C115.52,163.74 116.29,187.2 116.89,205.79 \" fill=\"none\" id=\"E4&lt;-E2-1\" style=\"stroke: #A80036; stroke-width: 1.0;\"/><polygon fill=\"#FFFFFF\" points=\"114.41,129.31,110.6099,135.4385,114.8054,141.3035,118.6055,135.1749,114.41,129.31\" style=\"stroke: #A80036; stroke-width: 1.0;\"/><text fill=\"#000000\" font-family=\"sans-serif\" font-size=\"13\" lengthAdjust=\"spacingAndGlyphs\" textLength=\"7\" x=\"116\" y=\"172.0669\">c</text></a><!--MD5=[cc6308ed50acf1a30d48db371d709f87]\n",
       "@startuml\r\n",
       " \r\n",
       "package \"TextualRepresentationTest\" as E1  [[psysml:6b3c9659-b47e-4a53-85ed-693ccedcdfc8 ]]  {\r\n",
       "comp def \"C\" as E2 << << (B,green) >> [[psysml:83925eaf-d327-49ae-8c67-e64c48e757fa ]] {\r\n",
       "- - attributes - -\r\n",
       "x: Real\r\n",
       "}\r\n",
       "comp usage \"x_constraint\" as E3 << <<(U,orange) assert constraint>> [[psysml:9e9e8e01-075a-4e09-a2e1-8d13feba95d6 ]] {\r\n",
       "}\r\n",
       "comp def \"setX\" as E4 << <<(B,lemonchiffon) action  def>> [[psysml:056920e1-03e4-42f5-9f87-f97cbdc58602 ]] {\r\n",
       "- - parameters - -\r\n",
       "<b>in</b> c: C\r\n",
       "<b>in</b> newX: Real\r\n",
       "}\r\n",
       "}\r\n",
       "E2 *- - \"*\"E3 [[psysml:03d8b6ce-86e3-4804-a1ae-2a2287936712 ]] \r\n",
       "E4 o- - E2 [[psysml:01d56035-c08c-482f-9257-c9260a493ad7 ]] : c\r\n",
       "E4 o- - E2 [[psysml:01d56035-c08c-482f-9257-c9260a493ad7 ]] : c\r\n",
       "@enduml\r\n",
       "\n",
       "PlantUML version 1.2020.13(Sat Jun 13 12:26:38 UTC 2020)\n",
       "(EPL source distribution)\n",
       "Java Runtime: OpenJDK Runtime Environment\n",
       "JVM: OpenJDK 64-Bit Server VM\n",
       "Default Encoding: UTF-8\n",
       "Language: en\n",
       "Country: null\n",
       "--></g></svg>"
      ]
     },
     "execution_count": 31,
     "metadata": {},
     "output_type": "execute_result"
    }
   ],
   "source": [
    "%viz --style=\"PLANTUML\" --view=\"Tree\" \"TextualRepresentationTest\""
   ]
  },
  {
   "cell_type": "code",
   "execution_count": 32,
   "id": "0cd45b63",
   "metadata": {
    "execution": {
     "iopub.execute_input": "2021-11-13T13:00:36.795492Z",
     "iopub.status.busy": "2021-11-13T13:00:36.795047Z",
     "iopub.status.idle": "2021-11-13T13:00:36.876751Z",
     "shell.execute_reply": "2021-11-13T13:00:36.876400Z"
    }
   },
   "outputs": [
    {
     "data": {
      "image/svg+xml": [
       "<?xml version=\"1.0\" encoding=\"UTF-8\" standalone=\"no\"?><svg xmlns=\"http://www.w3.org/2000/svg\" xmlns:xlink=\"http://www.w3.org/1999/xlink\" contentScriptType=\"application/ecmascript\" contentStyleType=\"text/css\" height=\"300px\" preserveAspectRatio=\"none\" style=\"width:603px;height:300px;background:#000000;\" version=\"1.1\" viewBox=\"0 0 603 300\" width=\"603px\" zoomAndPan=\"magnify\"><defs/><g><rect fill=\"#1F0708\" height=\"1\" style=\"stroke: #1F0708; stroke-width: 1.0;\" width=\"1\" x=\"0\" y=\"0\"/><rect fill=\"#FFFFFF\" height=\"202.8012\" style=\"stroke: #FFFFFF; stroke-width: 1.0;\" width=\"602\" x=\"0\" y=\"0\"/><text fill=\"#000000\" font-family=\"sans-serif\" font-size=\"12\" font-weight=\"bold\" lengthAdjust=\"spacingAndGlyphs\" textLength=\"139\" x=\"5\" y=\"16.1387\">Welcome to PlantUML!</text><text fill=\"#000000\" font-family=\"sans-serif\" font-size=\"12\" lengthAdjust=\"spacingAndGlyphs\" textLength=\"0\" x=\"9\" y=\"30.1074\"/><text fill=\"#000000\" font-family=\"sans-serif\" font-size=\"12\" lengthAdjust=\"spacingAndGlyphs\" textLength=\"293\" x=\"5\" y=\"44.0762\">If you use this software, you accept its license.</text><text fill=\"#000000\" font-family=\"sans-serif\" font-size=\"12\" lengthAdjust=\"spacingAndGlyphs\" textLength=\"107\" x=\"5\" y=\"58.0449\">(details by typing</text><text fill=\"#000000\" font-family=\"monospace\" font-size=\"12\" lengthAdjust=\"spacingAndGlyphs\" textLength=\"42\" x=\"116\" y=\"58.595\">license</text><text fill=\"#000000\" font-family=\"sans-serif\" font-size=\"12\" lengthAdjust=\"spacingAndGlyphs\" textLength=\"56\" x=\"162\" y=\"58.0449\">keyword)</text><text fill=\"#000000\" font-family=\"sans-serif\" font-size=\"12\" lengthAdjust=\"spacingAndGlyphs\" textLength=\"0\" x=\"9\" y=\"72.0137\"/><text fill=\"#000000\" font-family=\"sans-serif\" font-size=\"12\" lengthAdjust=\"spacingAndGlyphs\" textLength=\"283\" x=\"5\" y=\"85.9824\">You can start with a simple UML Diagram like:</text><text fill=\"#000000\" font-family=\"sans-serif\" font-size=\"12\" lengthAdjust=\"spacingAndGlyphs\" textLength=\"0\" x=\"9\" y=\"99.9512\"/><text fill=\"#000000\" font-family=\"monospace\" font-size=\"12\" lengthAdjust=\"spacingAndGlyphs\" textLength=\"102\" x=\"5\" y=\"113.0893\">Bob-&gt;Alice: Hello</text><text fill=\"#000000\" font-family=\"sans-serif\" font-size=\"12\" lengthAdjust=\"spacingAndGlyphs\" textLength=\"0\" x=\"9\" y=\"126.508\"/><text fill=\"#000000\" font-family=\"sans-serif\" font-size=\"12\" lengthAdjust=\"spacingAndGlyphs\" textLength=\"14\" x=\"5\" y=\"140.4768\">Or</text><text fill=\"#000000\" font-family=\"sans-serif\" font-size=\"12\" lengthAdjust=\"spacingAndGlyphs\" textLength=\"0\" x=\"9\" y=\"154.4455\"/><text fill=\"#000000\" font-family=\"monospace\" font-size=\"12\" lengthAdjust=\"spacingAndGlyphs\" textLength=\"78\" x=\"5\" y=\"167.5837\">class Example</text><text fill=\"#000000\" font-family=\"sans-serif\" font-size=\"12\" lengthAdjust=\"spacingAndGlyphs\" textLength=\"0\" x=\"9\" y=\"181.0023\"/><text fill=\"#000000\" font-family=\"sans-serif\" font-size=\"12\" lengthAdjust=\"spacingAndGlyphs\" textLength=\"349\" x=\"5\" y=\"194.9711\">You will find more information about PlantUML syntax on</text><text fill=\"#000000\" font-family=\"sans-serif\" font-size=\"12\" lengthAdjust=\"spacingAndGlyphs\" text-decoration=\"underline\" textLength=\"129\" x=\"358\" y=\"194.9711\">https://plantuml.com</text><image height=\"71\" width=\"80\" x=\"516\" xlink:href=\"data:image/png;base64,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\" y=\"6\"/><rect fill=\"#000000\" height=\"96.4844\" style=\"stroke: #000000; stroke-width: 1.0;\" width=\"602\" x=\"0\" y=\"202.8012\"/><rect fill=\"#33FF02\" height=\"21.2969\" style=\"stroke: #33FF02; stroke-width: 1.0;\" width=\"145\" x=\"5\" y=\"207.8012\"/><text fill=\"#000000\" font-family=\"sans-serif\" font-size=\"14\" font-weight=\"bold\" lengthAdjust=\"spacingAndGlyphs\" textLength=\"143\" x=\"6\" y=\"222.8012\">[From string (line 2) ]</text><text fill=\"#33FF02\" font-family=\"sans-serif\" font-size=\"14\" font-weight=\"bold\" lengthAdjust=\"spacingAndGlyphs\" textLength=\"0\" x=\"9\" y=\"243.0981\"/><text fill=\"#33FF02\" font-family=\"sans-serif\" font-size=\"14\" font-weight=\"bold\" lengthAdjust=\"spacingAndGlyphs\" textLength=\"70\" x=\"5\" y=\"259.3949\">@startuml</text><text fill=\"#33FF02\" font-family=\"sans-serif\" font-size=\"14\" font-weight=\"bold\" lengthAdjust=\"spacingAndGlyphs\" textLength=\"0\" x=\"9\" y=\"275.6918\"/><text fill=\"#FF0000\" font-family=\"sans-serif\" font-size=\"14\" font-weight=\"bold\" lengthAdjust=\"spacingAndGlyphs\" textLength=\"124\" x=\"9\" y=\"291.9887\">Empty description</text><!--MD5=[f59edd8218d337f74d0c332fc6737304]\n",
       "@startuml\r\n",
       " \r\n",
       "@enduml\r\n",
       "\n",
       "PlantUML version 1.2020.13(Sat Jun 13 12:26:38 UTC 2020)\n",
       "(EPL source distribution)\n",
       "Java Runtime: OpenJDK Runtime Environment\n",
       "JVM: OpenJDK 64-Bit Server VM\n",
       "Default Encoding: UTF-8\n",
       "Language: en\n",
       "Country: null\n",
       "--></g></svg>"
      ]
     },
     "execution_count": 32,
     "metadata": {},
     "output_type": "execute_result"
    }
   ],
   "source": [
    "%viz --style=\"PLANTUML\" --view=\"State\" \"TextualRepresentationTest\""
   ]
  },
  {
   "cell_type": "code",
   "execution_count": 33,
   "id": "7a3346e0",
   "metadata": {
    "execution": {
     "iopub.execute_input": "2021-11-13T13:00:36.926151Z",
     "iopub.status.busy": "2021-11-13T13:00:36.925825Z",
     "iopub.status.idle": "2021-11-13T13:00:36.948280Z",
     "shell.execute_reply": "2021-11-13T13:00:36.947994Z"
    }
   },
   "outputs": [
    {
     "data": {
      "image/svg+xml": [
       "<?xml version=\"1.0\" encoding=\"UTF-8\" standalone=\"no\"?><svg xmlns=\"http://www.w3.org/2000/svg\" xmlns:xlink=\"http://www.w3.org/1999/xlink\" contentScriptType=\"application/ecmascript\" contentStyleType=\"text/css\" height=\"176px\" preserveAspectRatio=\"none\" style=\"width:266px;height:176px;\" version=\"1.1\" viewBox=\"0 0 266 176\" width=\"266px\" zoomAndPan=\"magnify\"><defs><filter height=\"300%\" id=\"f2rksxesltfix\" width=\"300%\" x=\"-1\" y=\"-1\"><feGaussianBlur result=\"blurOut\" stdDeviation=\"2.0\"/><feColorMatrix in=\"blurOut\" result=\"blurOut2\" type=\"matrix\" values=\"0 0 0 0 0 0 0 0 0 0 0 0 0 0 0 0 0 0 .4 0\"/><feOffset dx=\"4.0\" dy=\"4.0\" in=\"blurOut2\" result=\"blurOut3\"/><feBlend in=\"SourceGraphic\" in2=\"blurOut3\" mode=\"normal\"/></filter></defs><g><!--MD5=[fbc87193dbaf4d95561dea2c320d4a47]\n",
       "cluster E1--><a href=\"psysml:6b3c9659-b47e-4a53-85ed-693ccedcdfc8\" target=\"_top\" title=\"psysml:6b3c9659-b47e-4a53-85ed-693ccedcdfc8\" xlink:actuate=\"onRequest\" xlink:href=\"psysml:6b3c9659-b47e-4a53-85ed-693ccedcdfc8\" xlink:show=\"new\" xlink:title=\"psysml:6b3c9659-b47e-4a53-85ed-693ccedcdfc8\" xlink:type=\"simple\"><polygon fill=\"#FFFFFF\" filter=\"url(#f2rksxesltfix)\" points=\"16,6,210,6,217,28.2969,244,28.2969,244,164,16,164,16,6\" style=\"stroke: #000000; stroke-width: 1.5;\"/><line style=\"stroke: #000000; stroke-width: 1.5;\" x1=\"16\" x2=\"217\" y1=\"28.2969\" y2=\"28.2969\"/><text fill=\"#000000\" font-family=\"sans-serif\" font-size=\"14\" font-weight=\"bold\" lengthAdjust=\"spacingAndGlyphs\" textLength=\"188\" x=\"20\" y=\"20.9951\">TextualRepresentationTest</text></a><!--MD5=[d5e69f78d87373223dbae638b30a9c99]\n",
       "cluster E3--><a href=\"psysml:056920e1-03e4-42f5-9f87-f97cbdc58602\" target=\"_top\" title=\"psysml:056920e1-03e4-42f5-9f87-f97cbdc58602\" xlink:actuate=\"onRequest\" xlink:href=\"psysml:056920e1-03e4-42f5-9f87-f97cbdc58602\" xlink:show=\"new\" xlink:title=\"psysml:056920e1-03e4-42f5-9f87-f97cbdc58602\" xlink:type=\"simple\"><rect fill=\"#FFFFFF\" filter=\"url(#f2rksxesltfix)\" height=\"87\" id=\"E3\" style=\"stroke: #A80036; stroke-width: 1.5;\" width=\"100\" x=\"96.5\" y=\"61\"/><rect fill=\"#FEFECE\" height=\"37.9375\" style=\"stroke: #A80036; stroke-width: 1.5;\" width=\"100\" x=\"96.5\" y=\"61\"/><text fill=\"#000000\" font-family=\"sans-serif\" font-size=\"12\" font-style=\"italic\" lengthAdjust=\"spacingAndGlyphs\" textLength=\"81\" x=\"106\" y=\"77.1387\">«action  def»</text><text fill=\"#000000\" font-family=\"sans-serif\" font-size=\"12\" lengthAdjust=\"spacingAndGlyphs\" textLength=\"27\" x=\"133\" y=\"91.1074\">setX</text></a><g id=\"E1.E2\"><a href=\"psysml:83925eaf-d327-49ae-8c67-e64c48e757fa\" target=\"_top\" title=\"psysml:83925eaf-d327-49ae-8c67-e64c48e757fa\" xlink:actuate=\"onRequest\" xlink:href=\"psysml:83925eaf-d327-49ae-8c67-e64c48e757fa\" xlink:show=\"new\" xlink:title=\"psysml:83925eaf-d327-49ae-8c67-e64c48e757fa\" xlink:type=\"simple\"><rect fill=\"#FEFECE\" filter=\"url(#f2rksxesltfix)\" height=\"40\" id=\"E2\" style=\"stroke: #A80036; stroke-width: 1.5;\" width=\"50\" x=\"32\" y=\"41\"/><ellipse cx=\"51.5\" cy=\"57\" fill=\"#008000\" rx=\"11\" ry=\"11\" style=\"stroke: #A80036; stroke-width: 1.0;\"/><path d=\"M48.375,62 L48.375,51.4063 L51.6094,51.4063 Q53.5156,51.4063 54.4219,52.1563 Q55.3438,52.9063 55.3438,54.0781 Q55.3438,54.7656 54.9531,55.4219 Q54.5781,56.0781 53.8594,56.375 Q54.7188,56.75 55.2344,57.4375 Q55.75,58.125 55.75,58.9375 Q55.75,60.3125 54.7188,61.1563 Q53.7031,62 51.5938,62 L48.375,62 Z M50.2969,55.6406 L51.4531,55.6406 Q52.5781,55.6406 52.9844,55.2656 Q53.4063,54.875 53.4063,54.25 Q53.4063,53.6719 52.9844,53.3125 Q52.5625,52.9531 51.625,52.9531 L50.2969,52.9531 L50.2969,55.6406 Z M50.2969,60.4219 L51.7969,60.4219 Q52.7031,60.4219 53.2344,60.0313 Q53.7656,59.6406 53.7656,58.8906 Q53.7656,58.125 53.2656,57.6563 Q52.7656,57.1719 51.5,57.1719 L50.2969,57.1719 L50.2969,60.4219 Z \"/><text fill=\"#000000\" font-family=\"sans-serif\" font-size=\"12\" lengthAdjust=\"spacingAndGlyphs\" textLength=\"8\" x=\"66.5\" y=\"61.1543\">C</text></a></g><text fill=\"#000000\" font-family=\"sans-serif\" font-size=\"14\" lengthAdjust=\"spacingAndGlyphs\" textLength=\"8\" x=\"119\" y=\"39.6982\">c</text><rect fill=\"#A80036\" height=\"12\" style=\"stroke: #FEFECE; stroke-width: 1.5;\" width=\"12\" x=\"117\" y=\"55\"/><text fill=\"#000000\" font-family=\"sans-serif\" font-size=\"14\" lengthAdjust=\"spacingAndGlyphs\" textLength=\"38\" x=\"151\" y=\"39.6982\">newX</text><rect fill=\"#A80036\" height=\"12\" style=\"stroke: #FEFECE; stroke-width: 1.5;\" width=\"12\" x=\"164\" y=\"55\"/><!--MD5=[ca193adbb98dff24c61c847e45acbb1d]\n",
       "@startuml\r\n",
       "skinparam ranksep 10\r\n",
       "skinparam rectangle {\r\n",
       " backgroundColor<<block>> LightGreen\r\n",
       "}\r\n",
       " \r\n",
       "package \"TextualRepresentationTest\" as E1  [[psysml:6b3c9659-b47e-4a53-85ed-693ccedcdfc8 ]]  {\r\n",
       "def \"C\" as E2 << << (B,green) >> [[psysml:83925eaf-d327-49ae-8c67-e64c48e757fa ]] \r\n",
       "rec def \"setX\" as E3 << <<(B,lemonchiffon) action  def>> [[psysml:056920e1-03e4-42f5-9f87-f97cbdc58602 ]] {\r\n",
       "portin \"c\" as E4  [[psysml:01d56035-c08c-482f-9257-c9260a493ad7 ]] \r\n",
       "portin \"newX\" as E5  [[psysml:7d0c1fa2-09eb-4f19-a101-add490a57fbe ]] \r\n",
       "}\r\n",
       "\r\n",
       "}\r\n",
       "@enduml\r\n",
       "\n",
       "PlantUML version 1.2020.13(Sat Jun 13 12:26:38 UTC 2020)\n",
       "(EPL source distribution)\n",
       "Java Runtime: OpenJDK Runtime Environment\n",
       "JVM: OpenJDK 64-Bit Server VM\n",
       "Default Encoding: UTF-8\n",
       "Language: en\n",
       "Country: null\n",
       "--></g></svg>"
      ]
     },
     "execution_count": 33,
     "metadata": {},
     "output_type": "execute_result"
    }
   ],
   "source": [
    "%viz --style=\"PLANTUML\" --view=\"Interconnection\" \"TextualRepresentationTest\""
   ]
  },
  {
   "cell_type": "code",
   "execution_count": 34,
   "id": "1796bdd2",
   "metadata": {
    "execution": {
     "iopub.execute_input": "2021-11-13T13:00:36.997438Z",
     "iopub.status.busy": "2021-11-13T13:00:36.997241Z",
     "iopub.status.idle": "2021-11-13T13:00:37.019733Z",
     "shell.execute_reply": "2021-11-13T13:00:37.019380Z"
    }
   },
   "outputs": [
    {
     "data": {
      "image/svg+xml": [
       "<?xml version=\"1.0\" encoding=\"UTF-8\" standalone=\"no\"?><svg xmlns=\"http://www.w3.org/2000/svg\" xmlns:xlink=\"http://www.w3.org/1999/xlink\" contentScriptType=\"application/ecmascript\" contentStyleType=\"text/css\" height=\"134px\" preserveAspectRatio=\"none\" style=\"width:160px;height:134px;\" version=\"1.1\" viewBox=\"0 0 160 134\" width=\"160px\" zoomAndPan=\"magnify\"><defs><filter height=\"300%\" id=\"fcx9ydeeor2n5\" width=\"300%\" x=\"-1\" y=\"-1\"><feGaussianBlur result=\"blurOut\" stdDeviation=\"2.0\"/><feColorMatrix in=\"blurOut\" result=\"blurOut2\" type=\"matrix\" values=\"0 0 0 0 0 0 0 0 0 0 0 0 0 0 0 0 0 0 .4 0\"/><feOffset dx=\"4.0\" dy=\"4.0\" in=\"blurOut2\" result=\"blurOut3\"/><feBlend in=\"SourceGraphic\" in2=\"blurOut3\" mode=\"normal\"/></filter></defs><g><!--MD5=[fbc87193dbaf4d95561dea2c320d4a47]\n",
       "cluster E1--><a href=\"psysml:056920e1-03e4-42f5-9f87-f97cbdc58602\" target=\"_top\" title=\"psysml:056920e1-03e4-42f5-9f87-f97cbdc58602\" xlink:actuate=\"onRequest\" xlink:href=\"psysml:056920e1-03e4-42f5-9f87-f97cbdc58602\" xlink:show=\"new\" xlink:title=\"psysml:056920e1-03e4-42f5-9f87-f97cbdc58602\" xlink:type=\"simple\"><rect fill=\"#FFFFFF\" filter=\"url(#fcx9ydeeor2n5)\" height=\"73\" id=\"E1\" style=\"stroke: #A80036; stroke-width: 1.5;\" width=\"134\" x=\"7\" y=\"42.0986\"/><rect fill=\"#FEFECE\" height=\"37.9375\" style=\"stroke: #A80036; stroke-width: 1.5;\" width=\"134\" x=\"7\" y=\"42.0986\"/><text fill=\"#000000\" font-family=\"sans-serif\" font-size=\"12\" font-style=\"italic\" lengthAdjust=\"spacingAndGlyphs\" textLength=\"81\" x=\"33.5\" y=\"58.2373\">«action  def»</text><text fill=\"#000000\" font-family=\"sans-serif\" font-size=\"12\" lengthAdjust=\"spacingAndGlyphs\" textLength=\"27\" x=\"60.5\" y=\"72.2061\">setX</text></a><text fill=\"#000000\" font-family=\"sans-serif\" font-size=\"14\" lengthAdjust=\"spacingAndGlyphs\" textLength=\"8\" x=\"21\" y=\"20.7969\">c</text><rect fill=\"#A80036\" height=\"12\" style=\"stroke: #FEFECE; stroke-width: 1.5;\" width=\"12\" x=\"19\" y=\"36.0986\"/><text fill=\"#000000\" font-family=\"sans-serif\" font-size=\"14\" lengthAdjust=\"spacingAndGlyphs\" textLength=\"38\" x=\"53\" y=\"20.7969\">newX</text><rect fill=\"#A80036\" height=\"12\" style=\"stroke: #FEFECE; stroke-width: 1.5;\" width=\"12\" x=\"66\" y=\"36.0986\"/><!--MD5=[238bcf674af09512cf118ba596994c4b]\n",
       "@startuml\r\n",
       "skinparam ranksep 8\r\n",
       " \r\n",
       "rec def \"setX\" as E1 << <<(B,lemonchiffon) action  def>> [[psysml:056920e1-03e4-42f5-9f87-f97cbdc58602 ]] {\r\n",
       "portin \"c\" as E2  [[psysml:01d56035-c08c-482f-9257-c9260a493ad7 ]] \r\n",
       "portin \"newX\" as E3  [[psysml:7d0c1fa2-09eb-4f19-a101-add490a57fbe ]] \r\n",
       "}\r\n",
       "\r\n",
       "@enduml\r\n",
       "\n",
       "PlantUML version 1.2020.13(Sat Jun 13 12:26:38 UTC 2020)\n",
       "(EPL source distribution)\n",
       "Java Runtime: OpenJDK Runtime Environment\n",
       "JVM: OpenJDK 64-Bit Server VM\n",
       "Default Encoding: UTF-8\n",
       "Language: en\n",
       "Country: null\n",
       "--></g></svg>"
      ]
     },
     "execution_count": 34,
     "metadata": {},
     "output_type": "execute_result"
    }
   ],
   "source": [
    "%viz --style=\"PLANTUML\" --view=\"Action\" \"TextualRepresentationTest\""
   ]
  },
  {
   "cell_type": "code",
   "execution_count": 35,
   "id": "ff71b421",
   "metadata": {
    "execution": {
     "iopub.execute_input": "2021-11-13T13:00:37.069049Z",
     "iopub.status.busy": "2021-11-13T13:00:37.068647Z",
     "iopub.status.idle": "2021-11-13T13:00:37.073603Z",
     "shell.execute_reply": "2021-11-13T13:00:37.073849Z"
    }
   },
   "outputs": [
    {
     "data": {
      "image/svg+xml": [
       "<?xml version=\"1.0\" encoding=\"UTF-8\" standalone=\"no\"?><svg xmlns=\"http://www.w3.org/2000/svg\" xmlns:xlink=\"http://www.w3.org/1999/xlink\" contentScriptType=\"application/ecmascript\" contentStyleType=\"text/css\" height=\"12px\" preserveAspectRatio=\"none\" style=\"width:12px;height:12px;\" version=\"1.1\" viewBox=\"0 0 12 12\" width=\"12px\" zoomAndPan=\"magnify\"><defs/><g><!--MD5=[ca4faa0b02def275ea33c14ea7a1a98d]\n",
       "@startuml\r\n",
       "skinparam roundcorner 20\r\n",
       "skinparam BoxPadding 20\r\n",
       "skinparam SequenceBoxBackgroundColor #white\r\n",
       "skinparam style strictuml\r\n",
       "skinparam maxMessageSize 100\r\n",
       " \r\n",
       "@enduml\r\n",
       "\n",
       "PlantUML version 1.2020.13(Sat Jun 13 12:26:38 UTC 2020)\n",
       "(EPL source distribution)\n",
       "Java Runtime: OpenJDK Runtime Environment\n",
       "JVM: OpenJDK 64-Bit Server VM\n",
       "Default Encoding: UTF-8\n",
       "Language: en\n",
       "Country: null\n",
       "--></g></svg>"
      ]
     },
     "execution_count": 35,
     "metadata": {},
     "output_type": "execute_result"
    }
   ],
   "source": [
    "%viz --style=\"PLANTUML\" --view=\"Sequence\" \"TextualRepresentationTest\""
   ]
  },
  {
   "cell_type": "code",
   "execution_count": 36,
   "id": "8546dfbd",
   "metadata": {
    "execution": {
     "iopub.execute_input": "2021-11-13T13:00:37.123233Z",
     "iopub.status.busy": "2021-11-13T13:00:37.122834Z",
     "iopub.status.idle": "2021-11-13T13:00:37.162101Z",
     "shell.execute_reply": "2021-11-13T13:00:37.161214Z"
    }
   },
   "outputs": [
    {
     "data": {
      "image/svg+xml": [
       "<?xml version=\"1.0\" encoding=\"UTF-8\" standalone=\"no\"?><svg xmlns=\"http://www.w3.org/2000/svg\" xmlns:xlink=\"http://www.w3.org/1999/xlink\" contentScriptType=\"application/ecmascript\" contentStyleType=\"text/css\" height=\"255px\" preserveAspectRatio=\"none\" style=\"width:377px;height:255px;\" version=\"1.1\" viewBox=\"0 0 377 255\" width=\"377px\" zoomAndPan=\"magnify\"><defs><filter height=\"300%\" id=\"f1mkqdtm01nqx4\" width=\"300%\" x=\"-1\" y=\"-1\"><feGaussianBlur result=\"blurOut\" stdDeviation=\"2.0\"/><feColorMatrix in=\"blurOut\" result=\"blurOut2\" type=\"matrix\" values=\"0 0 0 0 0 0 0 0 0 0 0 0 0 0 0 0 0 0 .4 0\"/><feOffset dx=\"4.0\" dy=\"4.0\" in=\"blurOut2\" result=\"blurOut3\"/><feBlend in=\"SourceGraphic\" in2=\"blurOut3\" mode=\"normal\"/></filter></defs><g><!--MD5=[fbc87193dbaf4d95561dea2c320d4a47]\n",
       "cluster E1--><a href=\"psysml:6b3c9659-b47e-4a53-85ed-693ccedcdfc8\" target=\"_top\" title=\"psysml:6b3c9659-b47e-4a53-85ed-693ccedcdfc8\" xlink:actuate=\"onRequest\" xlink:href=\"psysml:6b3c9659-b47e-4a53-85ed-693ccedcdfc8\" xlink:show=\"new\" xlink:title=\"psysml:6b3c9659-b47e-4a53-85ed-693ccedcdfc8\" xlink:type=\"simple\"><polygon fill=\"#FFFFFF\" filter=\"url(#f1mkqdtm01nqx4)\" points=\"16,6,210,6,217,28.2969,355,28.2969,355,243.5,16,243.5,16,6\" style=\"stroke: #000000; stroke-width: 1.5;\"/><line style=\"stroke: #000000; stroke-width: 1.5;\" x1=\"16\" x2=\"217\" y1=\"28.2969\" y2=\"28.2969\"/><text fill=\"#000000\" font-family=\"sans-serif\" font-size=\"14\" font-weight=\"bold\" lengthAdjust=\"spacingAndGlyphs\" textLength=\"188\" x=\"20\" y=\"20.9951\">TextualRepresentationTest</text></a><!--MD5=[f6df4d0ebaf0b5dfb2ced0ae5af7c670]\n",
       "cluster E4--><a href=\"psysml:056920e1-03e4-42f5-9f87-f97cbdc58602\" target=\"_top\" title=\"psysml:056920e1-03e4-42f5-9f87-f97cbdc58602\" xlink:actuate=\"onRequest\" xlink:href=\"psysml:056920e1-03e4-42f5-9f87-f97cbdc58602\" xlink:show=\"new\" xlink:title=\"psysml:056920e1-03e4-42f5-9f87-f97cbdc58602\" xlink:type=\"simple\"><rect fill=\"#FFFFFF\" filter=\"url(#f1mkqdtm01nqx4)\" height=\"151.5\" id=\"E4\" style=\"stroke: #A80036; stroke-width: 1.5;\" width=\"134\" x=\"205\" y=\"76\"/><rect fill=\"#FEFECE\" height=\"37.9375\" style=\"stroke: #A80036; stroke-width: 1.5;\" width=\"134\" x=\"205\" y=\"76\"/><text fill=\"#000000\" font-family=\"sans-serif\" font-size=\"12\" font-style=\"italic\" lengthAdjust=\"spacingAndGlyphs\" textLength=\"81\" x=\"231.5\" y=\"92.1387\">«action  def»</text><text fill=\"#000000\" font-family=\"sans-serif\" font-size=\"12\" lengthAdjust=\"spacingAndGlyphs\" textLength=\"27\" x=\"258.5\" y=\"106.1074\">setX</text></a><!--MD5=[b4997ac47864f28c2f74865a473b2911]\n",
       "class E2--><a href=\"psysml:83925eaf-d327-49ae-8c67-e64c48e757fa\" target=\"_top\" title=\"psysml:83925eaf-d327-49ae-8c67-e64c48e757fa\" xlink:actuate=\"onRequest\" xlink:href=\"psysml:83925eaf-d327-49ae-8c67-e64c48e757fa\" xlink:show=\"new\" xlink:title=\"psysml:83925eaf-d327-49ae-8c67-e64c48e757fa\" xlink:type=\"simple\"><rect fill=\"#FEFECE\" filter=\"url(#f1mkqdtm01nqx4)\" height=\"69.6094\" id=\"E2\" style=\"stroke: #A80036; stroke-width: 1.5;\" width=\"63\" x=\"75.5\" y=\"41\"/><ellipse cx=\"100.85\" cy=\"57\" fill=\"#008000\" rx=\"11\" ry=\"11\" style=\"stroke: #A80036; stroke-width: 1.0;\"/><path d=\"M97.725,62 L97.725,51.4063 L100.9594,51.4063 Q102.8656,51.4063 103.7719,52.1563 Q104.6938,52.9063 104.6938,54.0781 Q104.6938,54.7656 104.3031,55.4219 Q103.9281,56.0781 103.2094,56.375 Q104.0688,56.75 104.5844,57.4375 Q105.1,58.125 105.1,58.9375 Q105.1,60.3125 104.0688,61.1563 Q103.0531,62 100.9438,62 L97.725,62 Z M99.6469,55.6406 L100.8031,55.6406 Q101.9281,55.6406 102.3344,55.2656 Q102.7563,54.875 102.7563,54.25 Q102.7563,53.6719 102.3344,53.3125 Q101.9125,52.9531 100.975,52.9531 L99.6469,52.9531 L99.6469,55.6406 Z M99.6469,60.4219 L101.1469,60.4219 Q102.0531,60.4219 102.5844,60.0313 Q103.1156,59.6406 103.1156,58.8906 Q103.1156,58.125 102.6156,57.6563 Q102.1156,57.1719 100.85,57.1719 L99.6469,57.1719 L99.6469,60.4219 Z \"/><text fill=\"#000000\" font-family=\"sans-serif\" font-size=\"12\" lengthAdjust=\"spacingAndGlyphs\" textLength=\"8\" x=\"117.15\" y=\"61.1543\">C</text><line style=\"stroke: #A80036; stroke-width: 1.5;\" x1=\"76.5\" x2=\"137.5\" y1=\"73\" y2=\"73\"/><text fill=\"#000000\" font-family=\"sans-serif\" font-size=\"11\" lengthAdjust=\"spacingAndGlyphs\" textLength=\"38\" x=\"81.5\" y=\"104.0151\">x: Real</text><line style=\"stroke: #A80036; stroke-width: 1.0;\" x1=\"76.5\" x2=\"79.5\" y1=\"87.4023\" y2=\"87.4023\"/><text fill=\"#000000\" font-family=\"sans-serif\" font-size=\"11\" lengthAdjust=\"spacingAndGlyphs\" textLength=\"55\" x=\"79.5\" y=\"90.7104\">attributes</text><line style=\"stroke: #A80036; stroke-width: 1.0;\" x1=\"134.5\" x2=\"137.5\" y1=\"87.4023\" y2=\"87.4023\"/></a><!--MD5=[09b614a08d8cba4a07c9adeb5e0fee81]\n",
       "class E3--><a href=\"psysml:9e9e8e01-075a-4e09-a2e1-8d13feba95d6\" target=\"_top\" title=\"psysml:9e9e8e01-075a-4e09-a2e1-8d13feba95d6\" xlink:actuate=\"onRequest\" xlink:href=\"psysml:9e9e8e01-075a-4e09-a2e1-8d13feba95d6\" xlink:show=\"new\" xlink:title=\"psysml:9e9e8e01-075a-4e09-a2e1-8d13feba95d6\" xlink:type=\"simple\"><rect fill=\"#FEFECE\" filter=\"url(#f1mkqdtm01nqx4)\" height=\"45.9375\" id=\"E3\" rx=\"10\" ry=\"10\" style=\"stroke: #A80036; stroke-width: 1.5;\" width=\"150\" x=\"32\" y=\"171\"/><ellipse cx=\"47\" cy=\"189.9688\" fill=\"#FFA500\" rx=\"11\" ry=\"11\" style=\"stroke: #A80036; stroke-width: 1.0;\"/><path d=\"M46.75,195.4375 Q45,195.4375 44.0469,194.4063 Q43.1094,193.3594 43.1094,191.5156 L43.1094,184.625 L45.1719,184.625 L45.1719,184.7813 Q45.0781,184.875 45.0469,185.0156 Q45.0313,185.1406 45.0313,185.4063 L45.0313,191.5313 Q45.0313,192.625 45.4063,193.25 Q45.7813,193.875 46.7656,193.875 Q47.75,193.875 48.1406,193.25 Q48.5313,192.625 48.5313,191.4844 L48.5313,184.625 L50.4063,184.625 L50.4063,191.4688 Q50.4063,193.5 49.375,194.4688 Q48.3594,195.4375 46.75,195.4375 Z \"/><text fill=\"#000000\" font-family=\"sans-serif\" font-size=\"12\" font-style=\"italic\" lengthAdjust=\"spacingAndGlyphs\" textLength=\"122\" x=\"59\" y=\"187.1387\">«assert constraint»</text><text fill=\"#000000\" font-family=\"sans-serif\" font-size=\"12\" lengthAdjust=\"spacingAndGlyphs\" textLength=\"76\" x=\"82\" y=\"201.1074\">x_constraint</text><line style=\"stroke: #A80036; stroke-width: 1.5;\" x1=\"33\" x2=\"181\" y1=\"208.9375\" y2=\"208.9375\"/></a><text fill=\"#000000\" font-family=\"sans-serif\" font-size=\"14\" lengthAdjust=\"spacingAndGlyphs\" textLength=\"8\" x=\"219\" y=\"54.6982\">c</text><rect fill=\"#A80036\" height=\"12\" style=\"stroke: #FEFECE; stroke-width: 1.5;\" width=\"12\" x=\"217\" y=\"70\"/><text fill=\"#000000\" font-family=\"sans-serif\" font-size=\"14\" lengthAdjust=\"spacingAndGlyphs\" textLength=\"38\" x=\"251\" y=\"54.6982\">newX</text><rect fill=\"#A80036\" height=\"12\" style=\"stroke: #FEFECE; stroke-width: 1.5;\" width=\"12\" x=\"264\" y=\"70\"/><!--MD5=[209b3feb70ccb6233bfe1053d122c12c]\n",
       "reverse link E2 to E3--><a href=\"psysml:03d8b6ce-86e3-4804-a1ae-2a2287936712\" target=\"_top\" title=\"psysml:03d8b6ce-86e3-4804-a1ae-2a2287936712\" xlink:actuate=\"onRequest\" xlink:href=\"psysml:03d8b6ce-86e3-4804-a1ae-2a2287936712\" xlink:show=\"new\" xlink:title=\"psysml:03d8b6ce-86e3-4804-a1ae-2a2287936712\" xlink:type=\"simple\"><path d=\"M107,124.3 C107,140.38 107,157.6 107,170.77 \" fill=\"none\" id=\"E2&lt;-E3\" style=\"stroke: #A80036; stroke-width: 1.0;\"/><polygon fill=\"#A80036\" points=\"107,111.18,103,117.18,107,123.18,111,117.18,107,111.18\" style=\"stroke: #A80036; stroke-width: 1.0;\"/><text fill=\"#000000\" font-family=\"sans-serif\" font-size=\"13\" lengthAdjust=\"spacingAndGlyphs\" textLength=\"7\" x=\"99.1031\" y=\"159.9874\">*</text></a><!--MD5=[404bfdab2964fbdc280c3e665b7d01da]\n",
       "@startuml\r\n",
       " \r\n",
       "package \"TextualRepresentationTest\" as E1  [[psysml:6b3c9659-b47e-4a53-85ed-693ccedcdfc8 ]]  {\r\n",
       "comp def \"C\" as E2 << << (B,green) >> [[psysml:83925eaf-d327-49ae-8c67-e64c48e757fa ]] {\r\n",
       "- - attributes - -\r\n",
       "x: Real\r\n",
       "}\r\n",
       "comp usage \"x_constraint\" as E3 << <<(U,orange) assert constraint>> [[psysml:9e9e8e01-075a-4e09-a2e1-8d13feba95d6 ]] {\r\n",
       "}\r\n",
       "rec def \"setX\" as E4 << <<(B,lemonchiffon) action  def>> [[psysml:056920e1-03e4-42f5-9f87-f97cbdc58602 ]] {\r\n",
       "portin \"c\" as E5  [[psysml:01d56035-c08c-482f-9257-c9260a493ad7 ]] \r\n",
       "portin \"newX\" as E6  [[psysml:7d0c1fa2-09eb-4f19-a101-add490a57fbe ]] \r\n",
       "}\r\n",
       "\r\n",
       "}\r\n",
       "E2 *- - \"*\"E3 [[psysml:03d8b6ce-86e3-4804-a1ae-2a2287936712 ]] \r\n",
       "@enduml\r\n",
       "\n",
       "PlantUML version 1.2020.13(Sat Jun 13 12:26:38 UTC 2020)\n",
       "(EPL source distribution)\n",
       "Java Runtime: OpenJDK Runtime Environment\n",
       "JVM: OpenJDK 64-Bit Server VM\n",
       "Default Encoding: UTF-8\n",
       "Language: en\n",
       "Country: null\n",
       "--></g></svg>"
      ]
     },
     "execution_count": 36,
     "metadata": {},
     "output_type": "execute_result"
    }
   ],
   "source": [
    "%viz --style=\"PLANTUML\" --view=\"MIXED\" \"TextualRepresentationTest\""
   ]
  },
  {
   "cell_type": "code",
   "execution_count": 37,
   "id": "0b67335e",
   "metadata": {
    "execution": {
     "iopub.execute_input": "2021-11-13T13:00:37.212301Z",
     "iopub.status.busy": "2021-11-13T13:00:37.211894Z",
     "iopub.status.idle": "2021-11-13T13:00:37.250649Z",
     "shell.execute_reply": "2021-11-13T13:00:37.250811Z"
    }
   },
   "outputs": [
    {
     "data": {
      "image/svg+xml": [
       "<?xml version=\"1.0\" encoding=\"UTF-8\" standalone=\"no\"?><svg xmlns=\"http://www.w3.org/2000/svg\" xmlns:xlink=\"http://www.w3.org/1999/xlink\" contentScriptType=\"application/ecmascript\" contentStyleType=\"text/css\" height=\"261px\" preserveAspectRatio=\"none\" style=\"width:351px;height:261px;\" version=\"1.1\" viewBox=\"0 0 351 261\" width=\"351px\" zoomAndPan=\"magnify\"><defs/><g><!--MD5=[fbc87193dbaf4d95561dea2c320d4a47]\n",
       "cluster E1--><a href=\"psysml:6b3c9659-b47e-4a53-85ed-693ccedcdfc8\" target=\"_top\" title=\"psysml:6b3c9659-b47e-4a53-85ed-693ccedcdfc8\" xlink:actuate=\"onRequest\" xlink:href=\"psysml:6b3c9659-b47e-4a53-85ed-693ccedcdfc8\" xlink:show=\"new\" xlink:title=\"psysml:6b3c9659-b47e-4a53-85ed-693ccedcdfc8\" xlink:type=\"simple\"><polygon fill=\"#FFFFFF\" points=\"16,6,210,6,217,28.2969,329,28.2969,329,249.5,16,249.5,16,6\" style=\"stroke: #000000; stroke-width: 1.5;\"/><line style=\"stroke: #000000; stroke-width: 1.5;\" x1=\"16\" x2=\"217\" y1=\"28.2969\" y2=\"28.2969\"/><text fill=\"#000000\" font-family=\"sans-serif\" font-size=\"14\" font-weight=\"bold\" lengthAdjust=\"spacingAndGlyphs\" textLength=\"188\" x=\"20\" y=\"20.9951\">TextualRepresentationTest</text></a><!--MD5=[f6df4d0ebaf0b5dfb2ced0ae5af7c670]\n",
       "cluster E4--><a href=\"psysml:056920e1-03e4-42f5-9f87-f97cbdc58602\" target=\"_top\" title=\"psysml:056920e1-03e4-42f5-9f87-f97cbdc58602\" xlink:actuate=\"onRequest\" xlink:href=\"psysml:056920e1-03e4-42f5-9f87-f97cbdc58602\" xlink:show=\"new\" xlink:title=\"psysml:056920e1-03e4-42f5-9f87-f97cbdc58602\" xlink:type=\"simple\"><rect fill=\"#FFFFFF\" height=\"154.5\" id=\"E4\" style=\"stroke: #383838; stroke-width: 1.5;\" width=\"134\" x=\"179\" y=\"79\"/><rect fill=\"#F8F8F8\" height=\"37.9375\" style=\"stroke: #383838; stroke-width: 1.5;\" width=\"134\" x=\"179\" y=\"79\"/><text fill=\"#000000\" font-family=\"sans-serif\" font-size=\"12\" font-style=\"italic\" lengthAdjust=\"spacingAndGlyphs\" textLength=\"81\" x=\"205.5\" y=\"95.1387\">«action  def»</text><text fill=\"#000000\" font-family=\"sans-serif\" font-size=\"12\" lengthAdjust=\"spacingAndGlyphs\" textLength=\"27\" x=\"232.5\" y=\"109.1074\">setX</text></a><!--MD5=[b4997ac47864f28c2f74865a473b2911]\n",
       "class E2--><a href=\"psysml:83925eaf-d327-49ae-8c67-e64c48e757fa\" target=\"_top\" title=\"psysml:83925eaf-d327-49ae-8c67-e64c48e757fa\" xlink:actuate=\"onRequest\" xlink:href=\"psysml:83925eaf-d327-49ae-8c67-e64c48e757fa\" xlink:show=\"new\" xlink:title=\"psysml:83925eaf-d327-49ae-8c67-e64c48e757fa\" xlink:type=\"simple\"><rect fill=\"#FFFFFF\" height=\"75.5469\" id=\"E2\" style=\"stroke: #383838; stroke-width: 1.5;\" width=\"71\" x=\"58.5\" y=\"41\"/><text fill=\"#000000\" font-family=\"sans-serif\" font-size=\"12\" font-style=\"italic\" lengthAdjust=\"spacingAndGlyphs\" textLength=\"69\" x=\"59.5\" y=\"57.1387\">«item  def»</text><text fill=\"#000000\" font-family=\"sans-serif\" font-size=\"12\" lengthAdjust=\"spacingAndGlyphs\" textLength=\"8\" x=\"90\" y=\"71.1074\">C</text><line style=\"stroke: #383838; stroke-width: 1.5;\" x1=\"59.5\" x2=\"128.5\" y1=\"78.9375\" y2=\"78.9375\"/><text fill=\"#000000\" font-family=\"sans-serif\" font-size=\"11\" lengthAdjust=\"spacingAndGlyphs\" textLength=\"38\" x=\"64.5\" y=\"109.9526\">x: Real</text><line style=\"stroke: #383838; stroke-width: 1.0;\" x1=\"59.5\" x2=\"66.5\" y1=\"93.3398\" y2=\"93.3398\"/><text fill=\"#000000\" font-family=\"sans-serif\" font-size=\"11\" lengthAdjust=\"spacingAndGlyphs\" textLength=\"55\" x=\"66.5\" y=\"96.6479\">attributes</text><line style=\"stroke: #383838; stroke-width: 1.0;\" x1=\"121.5\" x2=\"128.5\" y1=\"93.3398\" y2=\"93.3398\"/></a><!--MD5=[09b614a08d8cba4a07c9adeb5e0fee81]\n",
       "class E3--><a href=\"psysml:9e9e8e01-075a-4e09-a2e1-8d13feba95d6\" target=\"_top\" title=\"psysml:9e9e8e01-075a-4e09-a2e1-8d13feba95d6\" xlink:actuate=\"onRequest\" xlink:href=\"psysml:9e9e8e01-075a-4e09-a2e1-8d13feba95d6\" xlink:show=\"new\" xlink:title=\"psysml:9e9e8e01-075a-4e09-a2e1-8d13feba95d6\" xlink:type=\"simple\"><rect fill=\"#FFFFFF\" height=\"45.9375\" id=\"E3\" rx=\"10\" ry=\"10\" style=\"stroke: #383838; stroke-width: 1.5;\" width=\"124\" x=\"32\" y=\"177\"/><text fill=\"#000000\" font-family=\"sans-serif\" font-size=\"12\" font-style=\"italic\" lengthAdjust=\"spacingAndGlyphs\" textLength=\"122\" x=\"33\" y=\"193.1387\">«assert constraint»</text><text fill=\"#000000\" font-family=\"sans-serif\" font-size=\"12\" lengthAdjust=\"spacingAndGlyphs\" textLength=\"76\" x=\"56\" y=\"207.1074\">x_constraint</text><line style=\"stroke: #383838; stroke-width: 1.5;\" x1=\"33\" x2=\"155\" y1=\"214.9375\" y2=\"214.9375\"/></a><text fill=\"#000000\" font-family=\"sans-serif\" font-size=\"14\" lengthAdjust=\"spacingAndGlyphs\" textLength=\"8\" x=\"193\" y=\"57.6982\">c</text><rect fill=\"#383838\" height=\"12\" style=\"stroke: #F8F8F8; stroke-width: 1.5;\" width=\"12\" x=\"191\" y=\"73\"/><text fill=\"#000000\" font-family=\"sans-serif\" font-size=\"14\" lengthAdjust=\"spacingAndGlyphs\" textLength=\"38\" x=\"225\" y=\"57.6982\">newX</text><rect fill=\"#383838\" height=\"12\" style=\"stroke: #F8F8F8; stroke-width: 1.5;\" width=\"12\" x=\"238\" y=\"73\"/><!--MD5=[209b3feb70ccb6233bfe1053d122c12c]\n",
       "reverse link E2 to E3--><a href=\"psysml:03d8b6ce-86e3-4804-a1ae-2a2287936712\" target=\"_top\" title=\"psysml:03d8b6ce-86e3-4804-a1ae-2a2287936712\" xlink:actuate=\"onRequest\" xlink:href=\"psysml:03d8b6ce-86e3-4804-a1ae-2a2287936712\" xlink:show=\"new\" xlink:title=\"psysml:03d8b6ce-86e3-4804-a1ae-2a2287936712\" xlink:type=\"simple\"><path d=\"M94,130.34 C94,146.61 94,163.81 94,176.93 \" fill=\"none\" id=\"E2&lt;-E3\" style=\"stroke: #383838; stroke-width: 1.0;\"/><polygon fill=\"#383838\" points=\"94,117,90,123,94,129,98,123,94,117\" style=\"stroke: #383838; stroke-width: 1.0;\"/><text fill=\"#000000\" font-family=\"sans-serif\" font-size=\"13\" lengthAdjust=\"spacingAndGlyphs\" textLength=\"7\" x=\"86.0594\" y=\"165.8075\">*</text></a><!--MD5=[2aa5f9c398bd0b583f04208b882e7813]\n",
       "@startuml\r\n",
       "skinparam monochrome true\r\n",
       "skinparam classbackgroundcolor white\r\n",
       "skinparam shadowing false\r\n",
       "skinparam wrapWidth 300\r\n",
       "hide circle\r\n",
       "\r\n",
       "package \"TextualRepresentationTest\" as E1  [[psysml:6b3c9659-b47e-4a53-85ed-693ccedcdfc8 ]]  {\r\n",
       "comp def \"C\" as E2  <<(T,blue) item  def>> [[psysml:83925eaf-d327-49ae-8c67-e64c48e757fa ]] {\r\n",
       "- - attributes - -\r\n",
       "x: Real\r\n",
       "}\r\n",
       "comp usage \"x_constraint\" as E3  <<(T,blue) assert constraint>> [[psysml:9e9e8e01-075a-4e09-a2e1-8d13feba95d6 ]] {\r\n",
       "}\r\n",
       "rec def \"setX\" as E4  <<(T,blue) action  def>> [[psysml:056920e1-03e4-42f5-9f87-f97cbdc58602 ]] {\r\n",
       "portin \"c\" as E5  [[psysml:01d56035-c08c-482f-9257-c9260a493ad7 ]] \r\n",
       "portin \"newX\" as E6  [[psysml:7d0c1fa2-09eb-4f19-a101-add490a57fbe ]] \r\n",
       "}\r\n",
       "\r\n",
       "}\r\n",
       "E2 *- - \"*\"E3 [[psysml:03d8b6ce-86e3-4804-a1ae-2a2287936712 ]] \r\n",
       "@enduml\r\n",
       "\n",
       "PlantUML version 1.2020.13(Sat Jun 13 12:26:38 UTC 2020)\n",
       "(EPL source distribution)\n",
       "Java Runtime: OpenJDK Runtime Environment\n",
       "JVM: OpenJDK 64-Bit Server VM\n",
       "Default Encoding: UTF-8\n",
       "Language: en\n",
       "Country: null\n",
       "--></g></svg>"
      ]
     },
     "execution_count": 37,
     "metadata": {},
     "output_type": "execute_result"
    }
   ],
   "source": [
    "%viz --style=\"DEFAULT\" --view=\"Default\" \"TextualRepresentationTest\""
   ]
  },
  {
   "cell_type": "code",
   "execution_count": 38,
   "id": "a895d085",
   "metadata": {
    "execution": {
     "iopub.execute_input": "2021-11-13T13:00:37.300805Z",
     "iopub.status.busy": "2021-11-13T13:00:37.300561Z",
     "iopub.status.idle": "2021-11-13T13:00:37.368587Z",
     "shell.execute_reply": "2021-11-13T13:00:37.368231Z"
    }
   },
   "outputs": [
    {
     "data": {
      "image/svg+xml": [
       "<?xml version=\"1.0\" encoding=\"UTF-8\" standalone=\"no\"?><svg xmlns=\"http://www.w3.org/2000/svg\" xmlns:xlink=\"http://www.w3.org/1999/xlink\" contentScriptType=\"application/ecmascript\" contentStyleType=\"text/css\" height=\"417px\" preserveAspectRatio=\"none\" style=\"width:242px;height:417px;\" version=\"1.1\" viewBox=\"0 0 242 417\" width=\"242px\" zoomAndPan=\"magnify\"><defs/><g><!--MD5=[fbc87193dbaf4d95561dea2c320d4a47]\n",
       "cluster E1--><a href=\"psysml:6b3c9659-b47e-4a53-85ed-693ccedcdfc8\" target=\"_top\" title=\"psysml:6b3c9659-b47e-4a53-85ed-693ccedcdfc8\" xlink:actuate=\"onRequest\" xlink:href=\"psysml:6b3c9659-b47e-4a53-85ed-693ccedcdfc8\" xlink:show=\"new\" xlink:title=\"psysml:6b3c9659-b47e-4a53-85ed-693ccedcdfc8\" xlink:type=\"simple\"><polygon fill=\"#FFFFFF\" points=\"16,6,210,6,217,28.2969,220,28.2969,220,405,16,405,16,6\" style=\"stroke: #000000; stroke-width: 1.5;\"/><line style=\"stroke: #000000; stroke-width: 1.5;\" x1=\"16\" x2=\"217\" y1=\"28.2969\" y2=\"28.2969\"/><text fill=\"#000000\" font-family=\"sans-serif\" font-size=\"14\" font-weight=\"bold\" lengthAdjust=\"spacingAndGlyphs\" textLength=\"188\" x=\"20\" y=\"20.9951\">TextualRepresentationTest</text></a><!--MD5=[b4997ac47864f28c2f74865a473b2911]\n",
       "class E2--><a href=\"psysml:83925eaf-d327-49ae-8c67-e64c48e757fa\" target=\"_top\" title=\"psysml:83925eaf-d327-49ae-8c67-e64c48e757fa\" xlink:actuate=\"onRequest\" xlink:href=\"psysml:83925eaf-d327-49ae-8c67-e64c48e757fa\" xlink:show=\"new\" xlink:title=\"psysml:83925eaf-d327-49ae-8c67-e64c48e757fa\" xlink:type=\"simple\"><rect fill=\"#FFFFFF\" height=\"75.5469\" id=\"E2\" style=\"stroke: #383838; stroke-width: 1.5;\" width=\"71\" x=\"82.5\" y=\"206\"/><text fill=\"#000000\" font-family=\"sans-serif\" font-size=\"12\" font-style=\"italic\" lengthAdjust=\"spacingAndGlyphs\" textLength=\"69\" x=\"83.5\" y=\"222.1387\">«item  def»</text><text fill=\"#000000\" font-family=\"sans-serif\" font-size=\"12\" lengthAdjust=\"spacingAndGlyphs\" textLength=\"8\" x=\"114\" y=\"236.1074\">C</text><line style=\"stroke: #383838; stroke-width: 1.5;\" x1=\"83.5\" x2=\"152.5\" y1=\"243.9375\" y2=\"243.9375\"/><text fill=\"#000000\" font-family=\"sans-serif\" font-size=\"11\" lengthAdjust=\"spacingAndGlyphs\" textLength=\"38\" x=\"88.5\" y=\"274.9526\">x: Real</text><line style=\"stroke: #383838; stroke-width: 1.0;\" x1=\"83.5\" x2=\"90.5\" y1=\"258.3398\" y2=\"258.3398\"/><text fill=\"#000000\" font-family=\"sans-serif\" font-size=\"11\" lengthAdjust=\"spacingAndGlyphs\" textLength=\"55\" x=\"90.5\" y=\"261.6479\">attributes</text><line style=\"stroke: #383838; stroke-width: 1.0;\" x1=\"145.5\" x2=\"152.5\" y1=\"258.3398\" y2=\"258.3398\"/></a><!--MD5=[09b614a08d8cba4a07c9adeb5e0fee81]\n",
       "class E3--><a href=\"psysml:9e9e8e01-075a-4e09-a2e1-8d13feba95d6\" target=\"_top\" title=\"psysml:9e9e8e01-075a-4e09-a2e1-8d13feba95d6\" xlink:actuate=\"onRequest\" xlink:href=\"psysml:9e9e8e01-075a-4e09-a2e1-8d13feba95d6\" xlink:show=\"new\" xlink:title=\"psysml:9e9e8e01-075a-4e09-a2e1-8d13feba95d6\" xlink:type=\"simple\"><rect fill=\"#FFFFFF\" height=\"45.9375\" id=\"E3\" rx=\"10\" ry=\"10\" style=\"stroke: #383838; stroke-width: 1.5;\" width=\"124\" x=\"56\" y=\"343\"/><text fill=\"#000000\" font-family=\"sans-serif\" font-size=\"12\" font-style=\"italic\" lengthAdjust=\"spacingAndGlyphs\" textLength=\"122\" x=\"57\" y=\"359.1387\">«assert constraint»</text><text fill=\"#000000\" font-family=\"sans-serif\" font-size=\"12\" lengthAdjust=\"spacingAndGlyphs\" textLength=\"76\" x=\"80\" y=\"373.1074\">x_constraint</text><line style=\"stroke: #383838; stroke-width: 1.5;\" x1=\"57\" x2=\"179\" y1=\"380.9375\" y2=\"380.9375\"/></a><!--MD5=[ebbe1d658d1005bcc118a6aa81145e00]\n",
       "class E4--><a href=\"psysml:056920e1-03e4-42f5-9f87-f97cbdc58602\" target=\"_top\" title=\"psysml:056920e1-03e4-42f5-9f87-f97cbdc58602\" xlink:actuate=\"onRequest\" xlink:href=\"psysml:056920e1-03e4-42f5-9f87-f97cbdc58602\" xlink:show=\"new\" xlink:title=\"psysml:056920e1-03e4-42f5-9f87-f97cbdc58602\" xlink:type=\"simple\"><rect fill=\"#FFFFFF\" height=\"88.3516\" id=\"E4\" style=\"stroke: #383838; stroke-width: 1.5;\" width=\"88\" x=\"74\" y=\"41\"/><text fill=\"#000000\" font-family=\"sans-serif\" font-size=\"12\" font-style=\"italic\" lengthAdjust=\"spacingAndGlyphs\" textLength=\"81\" x=\"77.5\" y=\"57.1387\">«action  def»</text><text fill=\"#000000\" font-family=\"sans-serif\" font-size=\"12\" lengthAdjust=\"spacingAndGlyphs\" textLength=\"27\" x=\"104.5\" y=\"71.1074\">setX</text><line style=\"stroke: #383838; stroke-width: 1.5;\" x1=\"75\" x2=\"161\" y1=\"78.9375\" y2=\"78.9375\"/><text fill=\"#000000\" font-family=\"sans-serif\" font-size=\"11\" font-weight=\"bold\" lengthAdjust=\"spacingAndGlyphs\" textLength=\"10\" x=\"80\" y=\"109.9526\">in</text><text fill=\"#000000\" font-family=\"sans-serif\" font-size=\"11\" lengthAdjust=\"spacingAndGlyphs\" textLength=\"22\" x=\"94\" y=\"109.9526\">c: C</text><text fill=\"#000000\" font-family=\"sans-serif\" font-size=\"11\" font-weight=\"bold\" lengthAdjust=\"spacingAndGlyphs\" textLength=\"10\" x=\"80\" y=\"122.7573\">in</text><text fill=\"#000000\" font-family=\"sans-serif\" font-size=\"11\" lengthAdjust=\"spacingAndGlyphs\" textLength=\"62\" x=\"94\" y=\"122.7573\">newX: Real</text><line style=\"stroke: #383838; stroke-width: 1.0;\" x1=\"75\" x2=\"84.5\" y1=\"93.3398\" y2=\"93.3398\"/><text fill=\"#000000\" font-family=\"sans-serif\" font-size=\"11\" lengthAdjust=\"spacingAndGlyphs\" textLength=\"67\" x=\"84.5\" y=\"96.6479\">parameters</text><line style=\"stroke: #383838; stroke-width: 1.0;\" x1=\"151.5\" x2=\"161\" y1=\"93.3398\" y2=\"93.3398\"/></a><!--MD5=[209b3feb70ccb6233bfe1053d122c12c]\n",
       "reverse link E2 to E3--><a href=\"psysml:03d8b6ce-86e3-4804-a1ae-2a2287936712\" target=\"_top\" title=\"psysml:03d8b6ce-86e3-4804-a1ae-2a2287936712\" xlink:actuate=\"onRequest\" xlink:href=\"psysml:03d8b6ce-86e3-4804-a1ae-2a2287936712\" xlink:show=\"new\" xlink:title=\"psysml:03d8b6ce-86e3-4804-a1ae-2a2287936712\" xlink:type=\"simple\"><path d=\"M118,295.76 C118,312.17 118,329.52 118,342.75 \" fill=\"none\" id=\"E2&lt;-E3\" style=\"stroke: #383838; stroke-width: 1.0;\"/><polygon fill=\"#383838\" points=\"118,282.31,114,288.31,118,294.31,122,288.31,118,282.31\" style=\"stroke: #383838; stroke-width: 1.0;\"/><text fill=\"#000000\" font-family=\"sans-serif\" font-size=\"13\" lengthAdjust=\"spacingAndGlyphs\" textLength=\"7\" x=\"110.1031\" y=\"331.9622\">*</text></a><!--MD5=[ddeed8deb2209213b62e6cfabaa108b2]\n",
       "reverse link E4 to E2--><a href=\"psysml:01d56035-c08c-482f-9257-c9260a493ad7\" target=\"_top\" title=\"psysml:01d56035-c08c-482f-9257-c9260a493ad7\" xlink:actuate=\"onRequest\" xlink:href=\"psysml:01d56035-c08c-482f-9257-c9260a493ad7\" xlink:show=\"new\" xlink:title=\"psysml:01d56035-c08c-482f-9257-c9260a493ad7\" xlink:type=\"simple\"><path d=\"M105.65,142.57 C104.42,153.63 103.96,165.16 105,176 C105.94,185.79 107.64,196.27 109.5,205.97 \" fill=\"none\" id=\"E4&lt;-E2\" style=\"stroke: #383838; stroke-width: 1.0;\"/><polygon fill=\"#FFFFFF\" points=\"107.49,129.39,102.7034,134.7834,105.841,141.2762,110.6275,135.8828,107.49,129.39\" style=\"stroke: #383838; stroke-width: 1.0;\"/><text fill=\"#000000\" font-family=\"sans-serif\" font-size=\"13\" lengthAdjust=\"spacingAndGlyphs\" textLength=\"7\" x=\"106\" y=\"172.0669\">c</text></a><!--MD5=[ddeed8deb2209213b62e6cfabaa108b2]\n",
       "reverse link E4 to E2--><a href=\"psysml:01d56035-c08c-482f-9257-c9260a493ad7\" target=\"_top\" title=\"psysml:01d56035-c08c-482f-9257-c9260a493ad7\" xlink:actuate=\"onRequest\" xlink:href=\"psysml:01d56035-c08c-482f-9257-c9260a493ad7\" xlink:show=\"new\" xlink:title=\"psysml:01d56035-c08c-482f-9257-c9260a493ad7\" xlink:type=\"simple\"><path d=\"M118,142.45 C118,163.57 118,187.02 118,205.95 \" fill=\"none\" id=\"E4&lt;-E2-1\" style=\"stroke: #383838; stroke-width: 1.0;\"/><polygon fill=\"#FFFFFF\" points=\"118,129.32,114,135.32,118,141.32,122,135.32,118,129.32\" style=\"stroke: #383838; stroke-width: 1.0;\"/><text fill=\"#000000\" font-family=\"sans-serif\" font-size=\"13\" lengthAdjust=\"spacingAndGlyphs\" textLength=\"7\" x=\"119\" y=\"172.0669\">c</text></a><!--MD5=[bd10fc4a1aec5e6ca9e8de4c5d9ffc93]\n",
       "@startuml\r\n",
       "skinparam monochrome true\r\n",
       "skinparam classbackgroundcolor white\r\n",
       "skinparam shadowing false\r\n",
       "skinparam wrapWidth 300\r\n",
       "hide circle\r\n",
       "\r\n",
       "package \"TextualRepresentationTest\" as E1  [[psysml:6b3c9659-b47e-4a53-85ed-693ccedcdfc8 ]]  {\r\n",
       "comp def \"C\" as E2  <<(T,blue) item  def>> [[psysml:83925eaf-d327-49ae-8c67-e64c48e757fa ]] {\r\n",
       "- - attributes - -\r\n",
       "x: Real\r\n",
       "}\r\n",
       "comp usage \"x_constraint\" as E3  <<(T,blue) assert constraint>> [[psysml:9e9e8e01-075a-4e09-a2e1-8d13feba95d6 ]] {\r\n",
       "}\r\n",
       "comp def \"setX\" as E4  <<(T,blue) action  def>> [[psysml:056920e1-03e4-42f5-9f87-f97cbdc58602 ]] {\r\n",
       "- - parameters - -\r\n",
       "<b>in</b> c: C\r\n",
       "<b>in</b> newX: Real\r\n",
       "}\r\n",
       "}\r\n",
       "E2 *- - \"*\"E3 [[psysml:03d8b6ce-86e3-4804-a1ae-2a2287936712 ]] \r\n",
       "E4 o- - E2 [[psysml:01d56035-c08c-482f-9257-c9260a493ad7 ]] : c\r\n",
       "E4 o- - E2 [[psysml:01d56035-c08c-482f-9257-c9260a493ad7 ]] : c\r\n",
       "@enduml\r\n",
       "\n",
       "PlantUML version 1.2020.13(Sat Jun 13 12:26:38 UTC 2020)\n",
       "(EPL source distribution)\n",
       "Java Runtime: OpenJDK Runtime Environment\n",
       "JVM: OpenJDK 64-Bit Server VM\n",
       "Default Encoding: UTF-8\n",
       "Language: en\n",
       "Country: null\n",
       "--></g></svg>"
      ]
     },
     "execution_count": 38,
     "metadata": {},
     "output_type": "execute_result"
    }
   ],
   "source": [
    "%viz --style=\"DEFAULT\" --view=\"Tree\" \"TextualRepresentationTest\""
   ]
  },
  {
   "cell_type": "code",
   "execution_count": 39,
   "id": "64990966",
   "metadata": {
    "execution": {
     "iopub.execute_input": "2021-11-13T13:00:37.417610Z",
     "iopub.status.busy": "2021-11-13T13:00:37.417366Z",
     "iopub.status.idle": "2021-11-13T13:00:37.421386Z",
     "shell.execute_reply": "2021-11-13T13:00:37.421558Z"
    }
   },
   "outputs": [
    {
     "data": {
      "image/svg+xml": [
       "<?xml version=\"1.0\" encoding=\"UTF-8\" standalone=\"no\"?><svg xmlns=\"http://www.w3.org/2000/svg\" xmlns:xlink=\"http://www.w3.org/1999/xlink\" contentScriptType=\"application/ecmascript\" contentStyleType=\"text/css\" height=\"12px\" preserveAspectRatio=\"none\" style=\"width:12px;height:12px;\" version=\"1.1\" viewBox=\"0 0 12 12\" width=\"12px\" zoomAndPan=\"magnify\"><defs/><g><!--MD5=[c5f280e076d0d61ccf4b0f27871bda1d]\n",
       "@startuml\r\n",
       "skinparam monochrome true\r\n",
       "skinparam classbackgroundcolor white\r\n",
       "skinparam shadowing false\r\n",
       "skinparam wrapWidth 300\r\n",
       "hide circle\r\n",
       "\r\n",
       "@enduml\r\n",
       "\n",
       "PlantUML version 1.2020.13(Sat Jun 13 12:26:38 UTC 2020)\n",
       "(EPL source distribution)\n",
       "Java Runtime: OpenJDK Runtime Environment\n",
       "JVM: OpenJDK 64-Bit Server VM\n",
       "Default Encoding: UTF-8\n",
       "Language: en\n",
       "Country: null\n",
       "--></g></svg>"
      ]
     },
     "execution_count": 39,
     "metadata": {},
     "output_type": "execute_result"
    }
   ],
   "source": [
    "%viz --style=\"DEFAULT\" --view=\"State\" \"TextualRepresentationTest\""
   ]
  },
  {
   "cell_type": "code",
   "execution_count": 40,
   "id": "6eb95fe8",
   "metadata": {
    "execution": {
     "iopub.execute_input": "2021-11-13T13:00:37.471498Z",
     "iopub.status.busy": "2021-11-13T13:00:37.471260Z",
     "iopub.status.idle": "2021-11-13T13:00:37.496146Z",
     "shell.execute_reply": "2021-11-13T13:00:37.496307Z"
    }
   },
   "outputs": [
    {
     "data": {
      "image/svg+xml": [
       "<?xml version=\"1.0\" encoding=\"UTF-8\" standalone=\"no\"?><svg xmlns=\"http://www.w3.org/2000/svg\" xmlns:xlink=\"http://www.w3.org/1999/xlink\" contentScriptType=\"application/ecmascript\" contentStyleType=\"text/css\" height=\"179px\" preserveAspectRatio=\"none\" style=\"width:292px;height:179px;\" version=\"1.1\" viewBox=\"0 0 292 179\" width=\"292px\" zoomAndPan=\"magnify\"><defs/><g><!--MD5=[fbc87193dbaf4d95561dea2c320d4a47]\n",
       "cluster E1--><a href=\"psysml:6b3c9659-b47e-4a53-85ed-693ccedcdfc8\" target=\"_top\" title=\"psysml:6b3c9659-b47e-4a53-85ed-693ccedcdfc8\" xlink:actuate=\"onRequest\" xlink:href=\"psysml:6b3c9659-b47e-4a53-85ed-693ccedcdfc8\" xlink:show=\"new\" xlink:title=\"psysml:6b3c9659-b47e-4a53-85ed-693ccedcdfc8\" xlink:type=\"simple\"><polygon fill=\"#FFFFFF\" points=\"16,6,210,6,217,28.2969,270,28.2969,270,167,16,167,16,6\" style=\"stroke: #000000; stroke-width: 1.5;\"/><line style=\"stroke: #000000; stroke-width: 1.5;\" x1=\"16\" x2=\"217\" y1=\"28.2969\" y2=\"28.2969\"/><text fill=\"#000000\" font-family=\"sans-serif\" font-size=\"14\" font-weight=\"bold\" lengthAdjust=\"spacingAndGlyphs\" textLength=\"188\" x=\"20\" y=\"20.9951\">TextualRepresentationTest</text></a><!--MD5=[d5e69f78d87373223dbae638b30a9c99]\n",
       "cluster E3--><a href=\"psysml:056920e1-03e4-42f5-9f87-f97cbdc58602\" target=\"_top\" title=\"psysml:056920e1-03e4-42f5-9f87-f97cbdc58602\" xlink:actuate=\"onRequest\" xlink:href=\"psysml:056920e1-03e4-42f5-9f87-f97cbdc58602\" xlink:show=\"new\" xlink:title=\"psysml:056920e1-03e4-42f5-9f87-f97cbdc58602\" xlink:type=\"simple\"><rect fill=\"#FFFFFF\" height=\"88.5\" id=\"E3\" style=\"stroke: #383838; stroke-width: 1.5;\" width=\"100\" x=\"122.5\" y=\"62.5\"/><rect fill=\"#F8F8F8\" height=\"37.9375\" style=\"stroke: #383838; stroke-width: 1.5;\" width=\"100\" x=\"122.5\" y=\"62.5\"/><text fill=\"#000000\" font-family=\"sans-serif\" font-size=\"12\" font-style=\"italic\" lengthAdjust=\"spacingAndGlyphs\" textLength=\"81\" x=\"132\" y=\"78.6387\">«action  def»</text><text fill=\"#000000\" font-family=\"sans-serif\" font-size=\"12\" lengthAdjust=\"spacingAndGlyphs\" textLength=\"27\" x=\"159\" y=\"92.6074\">setX</text></a><g id=\"E1.E2\"><a href=\"psysml:83925eaf-d327-49ae-8c67-e64c48e757fa\" target=\"_top\" title=\"psysml:83925eaf-d327-49ae-8c67-e64c48e757fa\" xlink:actuate=\"onRequest\" xlink:href=\"psysml:83925eaf-d327-49ae-8c67-e64c48e757fa\" xlink:show=\"new\" xlink:title=\"psysml:83925eaf-d327-49ae-8c67-e64c48e757fa\" xlink:type=\"simple\"><rect fill=\"#FFFFFF\" height=\"42.9375\" id=\"E2\" style=\"stroke: #383838; stroke-width: 1.5;\" width=\"76\" x=\"32\" y=\"41\"/><rect fill=\"#F8F8F8\" height=\"37.9375\" style=\"stroke: #383838; stroke-width: 1.5;\" width=\"76\" x=\"32\" y=\"41\"/><text fill=\"#000000\" font-family=\"sans-serif\" font-size=\"12\" font-style=\"italic\" lengthAdjust=\"spacingAndGlyphs\" textLength=\"69\" x=\"35.5\" y=\"57.1387\">«item  def»</text><text fill=\"#000000\" font-family=\"sans-serif\" font-size=\"12\" lengthAdjust=\"spacingAndGlyphs\" textLength=\"8\" x=\"66\" y=\"71.1074\">C</text></a></g><text fill=\"#000000\" font-family=\"sans-serif\" font-size=\"14\" lengthAdjust=\"spacingAndGlyphs\" textLength=\"8\" x=\"145\" y=\"41.1982\">c</text><rect fill=\"#383838\" height=\"12\" style=\"stroke: #F8F8F8; stroke-width: 1.5;\" width=\"12\" x=\"143\" y=\"56.5\"/><text fill=\"#000000\" font-family=\"sans-serif\" font-size=\"14\" lengthAdjust=\"spacingAndGlyphs\" textLength=\"38\" x=\"177\" y=\"41.1982\">newX</text><rect fill=\"#383838\" height=\"12\" style=\"stroke: #F8F8F8; stroke-width: 1.5;\" width=\"12\" x=\"190\" y=\"56.5\"/><!--MD5=[f8984677dfe25f43c55ad4a0da14e202]\n",
       "@startuml\r\n",
       "skinparam ranksep 10\r\n",
       "skinparam rectangle {\r\n",
       " backgroundColor<<block>> LightGreen\r\n",
       "}\r\n",
       "skinparam monochrome true\r\n",
       "skinparam classbackgroundcolor white\r\n",
       "skinparam shadowing false\r\n",
       "skinparam wrapWidth 300\r\n",
       "hide circle\r\n",
       "\r\n",
       "package \"TextualRepresentationTest\" as E1  [[psysml:6b3c9659-b47e-4a53-85ed-693ccedcdfc8 ]]  {\r\n",
       "def \"C\" as E2  <<(T,blue) item  def>> [[psysml:83925eaf-d327-49ae-8c67-e64c48e757fa ]] \r\n",
       "rec def \"setX\" as E3  <<(T,blue) action  def>> [[psysml:056920e1-03e4-42f5-9f87-f97cbdc58602 ]] {\r\n",
       "portin \"c\" as E4  [[psysml:01d56035-c08c-482f-9257-c9260a493ad7 ]] \r\n",
       "portin \"newX\" as E5  [[psysml:7d0c1fa2-09eb-4f19-a101-add490a57fbe ]] \r\n",
       "}\r\n",
       "\r\n",
       "}\r\n",
       "@enduml\r\n",
       "\n",
       "PlantUML version 1.2020.13(Sat Jun 13 12:26:38 UTC 2020)\n",
       "(EPL source distribution)\n",
       "Java Runtime: OpenJDK Runtime Environment\n",
       "JVM: OpenJDK 64-Bit Server VM\n",
       "Default Encoding: UTF-8\n",
       "Language: en\n",
       "Country: null\n",
       "--></g></svg>"
      ]
     },
     "execution_count": 40,
     "metadata": {},
     "output_type": "execute_result"
    }
   ],
   "source": [
    "%viz --style=\"DEFAULT\" --view=\"Interconnection\" \"TextualRepresentationTest\""
   ]
  },
  {
   "cell_type": "code",
   "execution_count": 41,
   "id": "23a8501a",
   "metadata": {
    "execution": {
     "iopub.execute_input": "2021-11-13T13:00:37.546390Z",
     "iopub.status.busy": "2021-11-13T13:00:37.546079Z",
     "iopub.status.idle": "2021-11-13T13:00:37.568141Z",
     "shell.execute_reply": "2021-11-13T13:00:37.567779Z"
    }
   },
   "outputs": [
    {
     "data": {
      "image/svg+xml": [
       "<?xml version=\"1.0\" encoding=\"UTF-8\" standalone=\"no\"?><svg xmlns=\"http://www.w3.org/2000/svg\" xmlns:xlink=\"http://www.w3.org/1999/xlink\" contentScriptType=\"application/ecmascript\" contentStyleType=\"text/css\" height=\"126px\" preserveAspectRatio=\"none\" style=\"width:152px;height:126px;\" version=\"1.1\" viewBox=\"0 0 152 126\" width=\"152px\" zoomAndPan=\"magnify\"><defs/><g><!--MD5=[fbc87193dbaf4d95561dea2c320d4a47]\n",
       "cluster E1--><a href=\"psysml:056920e1-03e4-42f5-9f87-f97cbdc58602\" target=\"_top\" title=\"psysml:056920e1-03e4-42f5-9f87-f97cbdc58602\" xlink:actuate=\"onRequest\" xlink:href=\"psysml:056920e1-03e4-42f5-9f87-f97cbdc58602\" xlink:show=\"new\" xlink:title=\"psysml:056920e1-03e4-42f5-9f87-f97cbdc58602\" xlink:type=\"simple\"><rect fill=\"#FFFFFF\" height=\"73\" id=\"E1\" style=\"stroke: #383838; stroke-width: 1.5;\" width=\"134\" x=\"7\" y=\"42.0986\"/><rect fill=\"#F8F8F8\" height=\"37.9375\" style=\"stroke: #383838; stroke-width: 1.5;\" width=\"134\" x=\"7\" y=\"42.0986\"/><text fill=\"#000000\" font-family=\"sans-serif\" font-size=\"12\" font-style=\"italic\" lengthAdjust=\"spacingAndGlyphs\" textLength=\"81\" x=\"33.5\" y=\"58.2373\">«action  def»</text><text fill=\"#000000\" font-family=\"sans-serif\" font-size=\"12\" lengthAdjust=\"spacingAndGlyphs\" textLength=\"27\" x=\"60.5\" y=\"72.2061\">setX</text></a><text fill=\"#000000\" font-family=\"sans-serif\" font-size=\"14\" lengthAdjust=\"spacingAndGlyphs\" textLength=\"8\" x=\"21\" y=\"20.7969\">c</text><rect fill=\"#383838\" height=\"12\" style=\"stroke: #F8F8F8; stroke-width: 1.5;\" width=\"12\" x=\"19\" y=\"36.0986\"/><text fill=\"#000000\" font-family=\"sans-serif\" font-size=\"14\" lengthAdjust=\"spacingAndGlyphs\" textLength=\"38\" x=\"53\" y=\"20.7969\">newX</text><rect fill=\"#383838\" height=\"12\" style=\"stroke: #F8F8F8; stroke-width: 1.5;\" width=\"12\" x=\"66\" y=\"36.0986\"/><!--MD5=[95d47ad61f95f014276bca0c2323a15c]\n",
       "@startuml\r\n",
       "skinparam ranksep 8\r\n",
       "skinparam monochrome true\r\n",
       "skinparam classbackgroundcolor white\r\n",
       "skinparam shadowing false\r\n",
       "skinparam wrapWidth 300\r\n",
       "hide circle\r\n",
       "\r\n",
       "rec def \"setX\" as E1  <<(T,blue) action  def>> [[psysml:056920e1-03e4-42f5-9f87-f97cbdc58602 ]] {\r\n",
       "portin \"c\" as E2  [[psysml:01d56035-c08c-482f-9257-c9260a493ad7 ]] \r\n",
       "portin \"newX\" as E3  [[psysml:7d0c1fa2-09eb-4f19-a101-add490a57fbe ]] \r\n",
       "}\r\n",
       "\r\n",
       "@enduml\r\n",
       "\n",
       "PlantUML version 1.2020.13(Sat Jun 13 12:26:38 UTC 2020)\n",
       "(EPL source distribution)\n",
       "Java Runtime: OpenJDK Runtime Environment\n",
       "JVM: OpenJDK 64-Bit Server VM\n",
       "Default Encoding: UTF-8\n",
       "Language: en\n",
       "Country: null\n",
       "--></g></svg>"
      ]
     },
     "execution_count": 41,
     "metadata": {},
     "output_type": "execute_result"
    }
   ],
   "source": [
    "%viz --style=\"DEFAULT\" --view=\"Action\" \"TextualRepresentationTest\""
   ]
  },
  {
   "cell_type": "code",
   "execution_count": 42,
   "id": "261741ff",
   "metadata": {
    "execution": {
     "iopub.execute_input": "2021-11-13T13:00:37.617234Z",
     "iopub.status.busy": "2021-11-13T13:00:37.616989Z",
     "iopub.status.idle": "2021-11-13T13:00:37.622445Z",
     "shell.execute_reply": "2021-11-13T13:00:37.622756Z"
    }
   },
   "outputs": [
    {
     "data": {
      "image/svg+xml": [
       "<?xml version=\"1.0\" encoding=\"UTF-8\" standalone=\"no\"?><svg xmlns=\"http://www.w3.org/2000/svg\" xmlns:xlink=\"http://www.w3.org/1999/xlink\" contentScriptType=\"application/ecmascript\" contentStyleType=\"text/css\" height=\"12px\" preserveAspectRatio=\"none\" style=\"width:12px;height:12px;\" version=\"1.1\" viewBox=\"0 0 12 12\" width=\"12px\" zoomAndPan=\"magnify\"><defs/><g><!--MD5=[0b72472770326784bf6c2b53246e1e64]\n",
       "@startuml\r\n",
       "skinparam roundcorner 20\r\n",
       "skinparam BoxPadding 20\r\n",
       "skinparam SequenceBoxBackgroundColor #white\r\n",
       "skinparam style strictuml\r\n",
       "skinparam maxMessageSize 100\r\n",
       "skinparam monochrome true\r\n",
       "skinparam classbackgroundcolor white\r\n",
       "skinparam shadowing false\r\n",
       "skinparam wrapWidth 300\r\n",
       "hide circle\r\n",
       "\r\n",
       "@enduml\r\n",
       "\n",
       "PlantUML version 1.2020.13(Sat Jun 13 12:26:38 UTC 2020)\n",
       "(EPL source distribution)\n",
       "Java Runtime: OpenJDK Runtime Environment\n",
       "JVM: OpenJDK 64-Bit Server VM\n",
       "Default Encoding: UTF-8\n",
       "Language: en\n",
       "Country: null\n",
       "--></g></svg>"
      ]
     },
     "execution_count": 42,
     "metadata": {},
     "output_type": "execute_result"
    }
   ],
   "source": [
    "%viz --style=\"DEFAULT\" --view=\"Sequence\" \"TextualRepresentationTest\""
   ]
  },
  {
   "cell_type": "code",
   "execution_count": 43,
   "id": "76df6db5",
   "metadata": {
    "execution": {
     "iopub.execute_input": "2021-11-13T13:00:37.672028Z",
     "iopub.status.busy": "2021-11-13T13:00:37.671824Z",
     "iopub.status.idle": "2021-11-13T13:00:37.711695Z",
     "shell.execute_reply": "2021-11-13T13:00:37.710251Z"
    }
   },
   "outputs": [
    {
     "data": {
      "image/svg+xml": [
       "<?xml version=\"1.0\" encoding=\"UTF-8\" standalone=\"no\"?><svg xmlns=\"http://www.w3.org/2000/svg\" xmlns:xlink=\"http://www.w3.org/1999/xlink\" contentScriptType=\"application/ecmascript\" contentStyleType=\"text/css\" height=\"261px\" preserveAspectRatio=\"none\" style=\"width:351px;height:261px;\" version=\"1.1\" viewBox=\"0 0 351 261\" width=\"351px\" zoomAndPan=\"magnify\"><defs/><g><!--MD5=[fbc87193dbaf4d95561dea2c320d4a47]\n",
       "cluster E1--><a href=\"psysml:6b3c9659-b47e-4a53-85ed-693ccedcdfc8\" target=\"_top\" title=\"psysml:6b3c9659-b47e-4a53-85ed-693ccedcdfc8\" xlink:actuate=\"onRequest\" xlink:href=\"psysml:6b3c9659-b47e-4a53-85ed-693ccedcdfc8\" xlink:show=\"new\" xlink:title=\"psysml:6b3c9659-b47e-4a53-85ed-693ccedcdfc8\" xlink:type=\"simple\"><polygon fill=\"#FFFFFF\" points=\"16,6,210,6,217,28.2969,329,28.2969,329,249.5,16,249.5,16,6\" style=\"stroke: #000000; stroke-width: 1.5;\"/><line style=\"stroke: #000000; stroke-width: 1.5;\" x1=\"16\" x2=\"217\" y1=\"28.2969\" y2=\"28.2969\"/><text fill=\"#000000\" font-family=\"sans-serif\" font-size=\"14\" font-weight=\"bold\" lengthAdjust=\"spacingAndGlyphs\" textLength=\"188\" x=\"20\" y=\"20.9951\">TextualRepresentationTest</text></a><!--MD5=[f6df4d0ebaf0b5dfb2ced0ae5af7c670]\n",
       "cluster E4--><a href=\"psysml:056920e1-03e4-42f5-9f87-f97cbdc58602\" target=\"_top\" title=\"psysml:056920e1-03e4-42f5-9f87-f97cbdc58602\" xlink:actuate=\"onRequest\" xlink:href=\"psysml:056920e1-03e4-42f5-9f87-f97cbdc58602\" xlink:show=\"new\" xlink:title=\"psysml:056920e1-03e4-42f5-9f87-f97cbdc58602\" xlink:type=\"simple\"><rect fill=\"#FFFFFF\" height=\"154.5\" id=\"E4\" style=\"stroke: #383838; stroke-width: 1.5;\" width=\"134\" x=\"179\" y=\"79\"/><rect fill=\"#F8F8F8\" height=\"37.9375\" style=\"stroke: #383838; stroke-width: 1.5;\" width=\"134\" x=\"179\" y=\"79\"/><text fill=\"#000000\" font-family=\"sans-serif\" font-size=\"12\" font-style=\"italic\" lengthAdjust=\"spacingAndGlyphs\" textLength=\"81\" x=\"205.5\" y=\"95.1387\">«action  def»</text><text fill=\"#000000\" font-family=\"sans-serif\" font-size=\"12\" lengthAdjust=\"spacingAndGlyphs\" textLength=\"27\" x=\"232.5\" y=\"109.1074\">setX</text></a><!--MD5=[b4997ac47864f28c2f74865a473b2911]\n",
       "class E2--><a href=\"psysml:83925eaf-d327-49ae-8c67-e64c48e757fa\" target=\"_top\" title=\"psysml:83925eaf-d327-49ae-8c67-e64c48e757fa\" xlink:actuate=\"onRequest\" xlink:href=\"psysml:83925eaf-d327-49ae-8c67-e64c48e757fa\" xlink:show=\"new\" xlink:title=\"psysml:83925eaf-d327-49ae-8c67-e64c48e757fa\" xlink:type=\"simple\"><rect fill=\"#FFFFFF\" height=\"75.5469\" id=\"E2\" style=\"stroke: #383838; stroke-width: 1.5;\" width=\"71\" x=\"58.5\" y=\"41\"/><text fill=\"#000000\" font-family=\"sans-serif\" font-size=\"12\" font-style=\"italic\" lengthAdjust=\"spacingAndGlyphs\" textLength=\"69\" x=\"59.5\" y=\"57.1387\">«item  def»</text><text fill=\"#000000\" font-family=\"sans-serif\" font-size=\"12\" lengthAdjust=\"spacingAndGlyphs\" textLength=\"8\" x=\"90\" y=\"71.1074\">C</text><line style=\"stroke: #383838; stroke-width: 1.5;\" x1=\"59.5\" x2=\"128.5\" y1=\"78.9375\" y2=\"78.9375\"/><text fill=\"#000000\" font-family=\"sans-serif\" font-size=\"11\" lengthAdjust=\"spacingAndGlyphs\" textLength=\"38\" x=\"64.5\" y=\"109.9526\">x: Real</text><line style=\"stroke: #383838; stroke-width: 1.0;\" x1=\"59.5\" x2=\"66.5\" y1=\"93.3398\" y2=\"93.3398\"/><text fill=\"#000000\" font-family=\"sans-serif\" font-size=\"11\" lengthAdjust=\"spacingAndGlyphs\" textLength=\"55\" x=\"66.5\" y=\"96.6479\">attributes</text><line style=\"stroke: #383838; stroke-width: 1.0;\" x1=\"121.5\" x2=\"128.5\" y1=\"93.3398\" y2=\"93.3398\"/></a><!--MD5=[09b614a08d8cba4a07c9adeb5e0fee81]\n",
       "class E3--><a href=\"psysml:9e9e8e01-075a-4e09-a2e1-8d13feba95d6\" target=\"_top\" title=\"psysml:9e9e8e01-075a-4e09-a2e1-8d13feba95d6\" xlink:actuate=\"onRequest\" xlink:href=\"psysml:9e9e8e01-075a-4e09-a2e1-8d13feba95d6\" xlink:show=\"new\" xlink:title=\"psysml:9e9e8e01-075a-4e09-a2e1-8d13feba95d6\" xlink:type=\"simple\"><rect fill=\"#FFFFFF\" height=\"45.9375\" id=\"E3\" rx=\"10\" ry=\"10\" style=\"stroke: #383838; stroke-width: 1.5;\" width=\"124\" x=\"32\" y=\"177\"/><text fill=\"#000000\" font-family=\"sans-serif\" font-size=\"12\" font-style=\"italic\" lengthAdjust=\"spacingAndGlyphs\" textLength=\"122\" x=\"33\" y=\"193.1387\">«assert constraint»</text><text fill=\"#000000\" font-family=\"sans-serif\" font-size=\"12\" lengthAdjust=\"spacingAndGlyphs\" textLength=\"76\" x=\"56\" y=\"207.1074\">x_constraint</text><line style=\"stroke: #383838; stroke-width: 1.5;\" x1=\"33\" x2=\"155\" y1=\"214.9375\" y2=\"214.9375\"/></a><text fill=\"#000000\" font-family=\"sans-serif\" font-size=\"14\" lengthAdjust=\"spacingAndGlyphs\" textLength=\"8\" x=\"193\" y=\"57.6982\">c</text><rect fill=\"#383838\" height=\"12\" style=\"stroke: #F8F8F8; stroke-width: 1.5;\" width=\"12\" x=\"191\" y=\"73\"/><text fill=\"#000000\" font-family=\"sans-serif\" font-size=\"14\" lengthAdjust=\"spacingAndGlyphs\" textLength=\"38\" x=\"225\" y=\"57.6982\">newX</text><rect fill=\"#383838\" height=\"12\" style=\"stroke: #F8F8F8; stroke-width: 1.5;\" width=\"12\" x=\"238\" y=\"73\"/><!--MD5=[209b3feb70ccb6233bfe1053d122c12c]\n",
       "reverse link E2 to E3--><a href=\"psysml:03d8b6ce-86e3-4804-a1ae-2a2287936712\" target=\"_top\" title=\"psysml:03d8b6ce-86e3-4804-a1ae-2a2287936712\" xlink:actuate=\"onRequest\" xlink:href=\"psysml:03d8b6ce-86e3-4804-a1ae-2a2287936712\" xlink:show=\"new\" xlink:title=\"psysml:03d8b6ce-86e3-4804-a1ae-2a2287936712\" xlink:type=\"simple\"><path d=\"M94,130.34 C94,146.61 94,163.81 94,176.93 \" fill=\"none\" id=\"E2&lt;-E3\" style=\"stroke: #383838; stroke-width: 1.0;\"/><polygon fill=\"#383838\" points=\"94,117,90,123,94,129,98,123,94,117\" style=\"stroke: #383838; stroke-width: 1.0;\"/><text fill=\"#000000\" font-family=\"sans-serif\" font-size=\"13\" lengthAdjust=\"spacingAndGlyphs\" textLength=\"7\" x=\"86.0594\" y=\"165.8075\">*</text></a><!--MD5=[2aa5f9c398bd0b583f04208b882e7813]\n",
       "@startuml\r\n",
       "skinparam monochrome true\r\n",
       "skinparam classbackgroundcolor white\r\n",
       "skinparam shadowing false\r\n",
       "skinparam wrapWidth 300\r\n",
       "hide circle\r\n",
       "\r\n",
       "package \"TextualRepresentationTest\" as E1  [[psysml:6b3c9659-b47e-4a53-85ed-693ccedcdfc8 ]]  {\r\n",
       "comp def \"C\" as E2  <<(T,blue) item  def>> [[psysml:83925eaf-d327-49ae-8c67-e64c48e757fa ]] {\r\n",
       "- - attributes - -\r\n",
       "x: Real\r\n",
       "}\r\n",
       "comp usage \"x_constraint\" as E3  <<(T,blue) assert constraint>> [[psysml:9e9e8e01-075a-4e09-a2e1-8d13feba95d6 ]] {\r\n",
       "}\r\n",
       "rec def \"setX\" as E4  <<(T,blue) action  def>> [[psysml:056920e1-03e4-42f5-9f87-f97cbdc58602 ]] {\r\n",
       "portin \"c\" as E5  [[psysml:01d56035-c08c-482f-9257-c9260a493ad7 ]] \r\n",
       "portin \"newX\" as E6  [[psysml:7d0c1fa2-09eb-4f19-a101-add490a57fbe ]] \r\n",
       "}\r\n",
       "\r\n",
       "}\r\n",
       "E2 *- - \"*\"E3 [[psysml:03d8b6ce-86e3-4804-a1ae-2a2287936712 ]] \r\n",
       "@enduml\r\n",
       "\n",
       "PlantUML version 1.2020.13(Sat Jun 13 12:26:38 UTC 2020)\n",
       "(EPL source distribution)\n",
       "Java Runtime: OpenJDK Runtime Environment\n",
       "JVM: OpenJDK 64-Bit Server VM\n",
       "Default Encoding: UTF-8\n",
       "Language: en\n",
       "Country: null\n",
       "--></g></svg>"
      ]
     },
     "execution_count": 43,
     "metadata": {},
     "output_type": "execute_result"
    }
   ],
   "source": [
    "%viz --style=\"DEFAULT\" --view=\"MIXED\" \"TextualRepresentationTest\""
   ]
  },
  {
   "cell_type": "code",
   "execution_count": 44,
   "id": "e404e742",
   "metadata": {
    "execution": {
     "iopub.execute_input": "2021-11-13T13:00:37.760973Z",
     "iopub.status.busy": "2021-11-13T13:00:37.760728Z",
     "iopub.status.idle": "2021-11-13T13:00:37.799399Z",
     "shell.execute_reply": "2021-11-13T13:00:37.799223Z"
    }
   },
   "outputs": [
    {
     "data": {
      "image/svg+xml": [
       "<?xml version=\"1.0\" encoding=\"UTF-8\" standalone=\"no\"?><svg xmlns=\"http://www.w3.org/2000/svg\" xmlns:xlink=\"http://www.w3.org/1999/xlink\" contentScriptType=\"application/ecmascript\" contentStyleType=\"text/css\" height=\"261px\" preserveAspectRatio=\"none\" style=\"width:351px;height:261px;\" version=\"1.1\" viewBox=\"0 0 351 261\" width=\"351px\" zoomAndPan=\"magnify\"><defs/><g><!--MD5=[fbc87193dbaf4d95561dea2c320d4a47]\n",
       "cluster E1--><a href=\"psysml:6b3c9659-b47e-4a53-85ed-693ccedcdfc8\" target=\"_top\" title=\"psysml:6b3c9659-b47e-4a53-85ed-693ccedcdfc8\" xlink:actuate=\"onRequest\" xlink:href=\"psysml:6b3c9659-b47e-4a53-85ed-693ccedcdfc8\" xlink:show=\"new\" xlink:title=\"psysml:6b3c9659-b47e-4a53-85ed-693ccedcdfc8\" xlink:type=\"simple\"><polygon fill=\"#FFFFFF\" points=\"16,6,210,6,217,28.2969,329,28.2969,329,249.5,16,249.5,16,6\" style=\"stroke: #000000; stroke-width: 1.5;\"/><line style=\"stroke: #000000; stroke-width: 1.5;\" x1=\"16\" x2=\"217\" y1=\"28.2969\" y2=\"28.2969\"/><text fill=\"#000000\" font-family=\"sans-serif\" font-size=\"14\" font-weight=\"bold\" lengthAdjust=\"spacingAndGlyphs\" textLength=\"188\" x=\"20\" y=\"20.9951\">TextualRepresentationTest</text></a><!--MD5=[f6df4d0ebaf0b5dfb2ced0ae5af7c670]\n",
       "cluster E4--><a href=\"psysml:056920e1-03e4-42f5-9f87-f97cbdc58602\" target=\"_top\" title=\"psysml:056920e1-03e4-42f5-9f87-f97cbdc58602\" xlink:actuate=\"onRequest\" xlink:href=\"psysml:056920e1-03e4-42f5-9f87-f97cbdc58602\" xlink:show=\"new\" xlink:title=\"psysml:056920e1-03e4-42f5-9f87-f97cbdc58602\" xlink:type=\"simple\"><rect fill=\"#FFFFFF\" height=\"154.5\" id=\"E4\" style=\"stroke: #383838; stroke-width: 1.5;\" width=\"134\" x=\"179\" y=\"79\"/><rect fill=\"#F8F8F8\" height=\"37.9375\" style=\"stroke: #383838; stroke-width: 1.5;\" width=\"134\" x=\"179\" y=\"79\"/><text fill=\"#000000\" font-family=\"sans-serif\" font-size=\"12\" font-style=\"italic\" lengthAdjust=\"spacingAndGlyphs\" textLength=\"81\" x=\"205.5\" y=\"95.1387\">«action  def»</text><text fill=\"#000000\" font-family=\"sans-serif\" font-size=\"12\" lengthAdjust=\"spacingAndGlyphs\" textLength=\"27\" x=\"232.5\" y=\"109.1074\">setX</text></a><!--MD5=[b4997ac47864f28c2f74865a473b2911]\n",
       "class E2--><a href=\"psysml:83925eaf-d327-49ae-8c67-e64c48e757fa\" target=\"_top\" title=\"psysml:83925eaf-d327-49ae-8c67-e64c48e757fa\" xlink:actuate=\"onRequest\" xlink:href=\"psysml:83925eaf-d327-49ae-8c67-e64c48e757fa\" xlink:show=\"new\" xlink:title=\"psysml:83925eaf-d327-49ae-8c67-e64c48e757fa\" xlink:type=\"simple\"><rect fill=\"#FFFFFF\" height=\"75.5469\" id=\"E2\" style=\"stroke: #383838; stroke-width: 1.5;\" width=\"71\" x=\"58.5\" y=\"41\"/><text fill=\"#000000\" font-family=\"sans-serif\" font-size=\"12\" font-style=\"italic\" lengthAdjust=\"spacingAndGlyphs\" textLength=\"69\" x=\"59.5\" y=\"57.1387\">«item  def»</text><text fill=\"#000000\" font-family=\"sans-serif\" font-size=\"12\" lengthAdjust=\"spacingAndGlyphs\" textLength=\"8\" x=\"90\" y=\"71.1074\">C</text><line style=\"stroke: #383838; stroke-width: 1.5;\" x1=\"59.5\" x2=\"128.5\" y1=\"78.9375\" y2=\"78.9375\"/><text fill=\"#000000\" font-family=\"sans-serif\" font-size=\"11\" lengthAdjust=\"spacingAndGlyphs\" textLength=\"38\" x=\"64.5\" y=\"109.9526\">x: Real</text><line style=\"stroke: #383838; stroke-width: 1.0;\" x1=\"59.5\" x2=\"66.5\" y1=\"93.3398\" y2=\"93.3398\"/><text fill=\"#000000\" font-family=\"sans-serif\" font-size=\"11\" lengthAdjust=\"spacingAndGlyphs\" textLength=\"55\" x=\"66.5\" y=\"96.6479\">attributes</text><line style=\"stroke: #383838; stroke-width: 1.0;\" x1=\"121.5\" x2=\"128.5\" y1=\"93.3398\" y2=\"93.3398\"/></a><!--MD5=[09b614a08d8cba4a07c9adeb5e0fee81]\n",
       "class E3--><a href=\"psysml:9e9e8e01-075a-4e09-a2e1-8d13feba95d6\" target=\"_top\" title=\"psysml:9e9e8e01-075a-4e09-a2e1-8d13feba95d6\" xlink:actuate=\"onRequest\" xlink:href=\"psysml:9e9e8e01-075a-4e09-a2e1-8d13feba95d6\" xlink:show=\"new\" xlink:title=\"psysml:9e9e8e01-075a-4e09-a2e1-8d13feba95d6\" xlink:type=\"simple\"><rect fill=\"#FFFFFF\" height=\"45.9375\" id=\"E3\" rx=\"10\" ry=\"10\" style=\"stroke: #383838; stroke-width: 1.5;\" width=\"124\" x=\"32\" y=\"177\"/><text fill=\"#000000\" font-family=\"sans-serif\" font-size=\"12\" font-style=\"italic\" lengthAdjust=\"spacingAndGlyphs\" textLength=\"122\" x=\"33\" y=\"193.1387\">«assert constraint»</text><text fill=\"#000000\" font-family=\"sans-serif\" font-size=\"12\" lengthAdjust=\"spacingAndGlyphs\" textLength=\"76\" x=\"56\" y=\"207.1074\">x_constraint</text><line style=\"stroke: #383838; stroke-width: 1.5;\" x1=\"33\" x2=\"155\" y1=\"214.9375\" y2=\"214.9375\"/></a><text fill=\"#000000\" font-family=\"sans-serif\" font-size=\"14\" lengthAdjust=\"spacingAndGlyphs\" textLength=\"8\" x=\"193\" y=\"57.6982\">c</text><rect fill=\"#383838\" height=\"12\" style=\"stroke: #F8F8F8; stroke-width: 1.5;\" width=\"12\" x=\"191\" y=\"73\"/><text fill=\"#000000\" font-family=\"sans-serif\" font-size=\"14\" lengthAdjust=\"spacingAndGlyphs\" textLength=\"38\" x=\"225\" y=\"57.6982\">newX</text><rect fill=\"#383838\" height=\"12\" style=\"stroke: #F8F8F8; stroke-width: 1.5;\" width=\"12\" x=\"238\" y=\"73\"/><!--MD5=[209b3feb70ccb6233bfe1053d122c12c]\n",
       "reverse link E2 to E3--><a href=\"psysml:03d8b6ce-86e3-4804-a1ae-2a2287936712\" target=\"_top\" title=\"psysml:03d8b6ce-86e3-4804-a1ae-2a2287936712\" xlink:actuate=\"onRequest\" xlink:href=\"psysml:03d8b6ce-86e3-4804-a1ae-2a2287936712\" xlink:show=\"new\" xlink:title=\"psysml:03d8b6ce-86e3-4804-a1ae-2a2287936712\" xlink:type=\"simple\"><path d=\"M94,130.34 C94,146.61 94,163.81 94,176.93 \" fill=\"none\" id=\"E2&lt;-E3\" style=\"stroke: #383838; stroke-width: 1.0;\"/><polygon fill=\"#383838\" points=\"94,117,90,123,94,129,98,123,94,117\" style=\"stroke: #383838; stroke-width: 1.0;\"/><text fill=\"#000000\" font-family=\"sans-serif\" font-size=\"13\" lengthAdjust=\"spacingAndGlyphs\" textLength=\"7\" x=\"86.0594\" y=\"165.8075\">*</text></a><!--MD5=[e6924b46194222f42c651536dabea0af]\n",
       "@startuml\r\n",
       "top to bottom direction\r\n",
       "skinparam monochrome true\r\n",
       "skinparam classbackgroundcolor white\r\n",
       "skinparam shadowing false\r\n",
       "skinparam wrapWidth 300\r\n",
       "hide circle\r\n",
       "\r\n",
       "package \"TextualRepresentationTest\" as E1  [[psysml:6b3c9659-b47e-4a53-85ed-693ccedcdfc8 ]]  {\r\n",
       "comp def \"C\" as E2  <<(T,blue) item  def>> [[psysml:83925eaf-d327-49ae-8c67-e64c48e757fa ]] {\r\n",
       "- - attributes - -\r\n",
       "x: Real\r\n",
       "}\r\n",
       "comp usage \"x_constraint\" as E3  <<(T,blue) assert constraint>> [[psysml:9e9e8e01-075a-4e09-a2e1-8d13feba95d6 ]] {\r\n",
       "}\r\n",
       "rec def \"setX\" as E4  <<(T,blue) action  def>> [[psysml:056920e1-03e4-42f5-9f87-f97cbdc58602 ]] {\r\n",
       "portin \"c\" as E5  [[psysml:01d56035-c08c-482f-9257-c9260a493ad7 ]] \r\n",
       "portin \"newX\" as E6  [[psysml:7d0c1fa2-09eb-4f19-a101-add490a57fbe ]] \r\n",
       "}\r\n",
       "\r\n",
       "}\r\n",
       "E2 *- - \"*\"E3 [[psysml:03d8b6ce-86e3-4804-a1ae-2a2287936712 ]] \r\n",
       "@enduml\r\n",
       "\n",
       "PlantUML version 1.2020.13(Sat Jun 13 12:26:38 UTC 2020)\n",
       "(EPL source distribution)\n",
       "Java Runtime: OpenJDK Runtime Environment\n",
       "JVM: OpenJDK 64-Bit Server VM\n",
       "Default Encoding: UTF-8\n",
       "Language: en\n",
       "Country: null\n",
       "--></g></svg>"
      ]
     },
     "execution_count": 44,
     "metadata": {},
     "output_type": "execute_result"
    }
   ],
   "source": [
    "%viz --style=\"TB\" --view=\"Default\" \"TextualRepresentationTest\""
   ]
  },
  {
   "cell_type": "code",
   "execution_count": 45,
   "id": "29f9e4b4",
   "metadata": {
    "execution": {
     "iopub.execute_input": "2021-11-13T13:00:37.849389Z",
     "iopub.status.busy": "2021-11-13T13:00:37.849148Z",
     "iopub.status.idle": "2021-11-13T13:00:37.909226Z",
     "shell.execute_reply": "2021-11-13T13:00:37.909049Z"
    }
   },
   "outputs": [
    {
     "data": {
      "image/svg+xml": [
       "<?xml version=\"1.0\" encoding=\"UTF-8\" standalone=\"no\"?><svg xmlns=\"http://www.w3.org/2000/svg\" xmlns:xlink=\"http://www.w3.org/1999/xlink\" contentScriptType=\"application/ecmascript\" contentStyleType=\"text/css\" height=\"417px\" preserveAspectRatio=\"none\" style=\"width:242px;height:417px;\" version=\"1.1\" viewBox=\"0 0 242 417\" width=\"242px\" zoomAndPan=\"magnify\"><defs/><g><!--MD5=[fbc87193dbaf4d95561dea2c320d4a47]\n",
       "cluster E1--><a href=\"psysml:6b3c9659-b47e-4a53-85ed-693ccedcdfc8\" target=\"_top\" title=\"psysml:6b3c9659-b47e-4a53-85ed-693ccedcdfc8\" xlink:actuate=\"onRequest\" xlink:href=\"psysml:6b3c9659-b47e-4a53-85ed-693ccedcdfc8\" xlink:show=\"new\" xlink:title=\"psysml:6b3c9659-b47e-4a53-85ed-693ccedcdfc8\" xlink:type=\"simple\"><polygon fill=\"#FFFFFF\" points=\"16,6,210,6,217,28.2969,220,28.2969,220,405,16,405,16,6\" style=\"stroke: #000000; stroke-width: 1.5;\"/><line style=\"stroke: #000000; stroke-width: 1.5;\" x1=\"16\" x2=\"217\" y1=\"28.2969\" y2=\"28.2969\"/><text fill=\"#000000\" font-family=\"sans-serif\" font-size=\"14\" font-weight=\"bold\" lengthAdjust=\"spacingAndGlyphs\" textLength=\"188\" x=\"20\" y=\"20.9951\">TextualRepresentationTest</text></a><!--MD5=[b4997ac47864f28c2f74865a473b2911]\n",
       "class E2--><a href=\"psysml:83925eaf-d327-49ae-8c67-e64c48e757fa\" target=\"_top\" title=\"psysml:83925eaf-d327-49ae-8c67-e64c48e757fa\" xlink:actuate=\"onRequest\" xlink:href=\"psysml:83925eaf-d327-49ae-8c67-e64c48e757fa\" xlink:show=\"new\" xlink:title=\"psysml:83925eaf-d327-49ae-8c67-e64c48e757fa\" xlink:type=\"simple\"><rect fill=\"#FFFFFF\" height=\"75.5469\" id=\"E2\" style=\"stroke: #383838; stroke-width: 1.5;\" width=\"71\" x=\"82.5\" y=\"206\"/><text fill=\"#000000\" font-family=\"sans-serif\" font-size=\"12\" font-style=\"italic\" lengthAdjust=\"spacingAndGlyphs\" textLength=\"69\" x=\"83.5\" y=\"222.1387\">«item  def»</text><text fill=\"#000000\" font-family=\"sans-serif\" font-size=\"12\" lengthAdjust=\"spacingAndGlyphs\" textLength=\"8\" x=\"114\" y=\"236.1074\">C</text><line style=\"stroke: #383838; stroke-width: 1.5;\" x1=\"83.5\" x2=\"152.5\" y1=\"243.9375\" y2=\"243.9375\"/><text fill=\"#000000\" font-family=\"sans-serif\" font-size=\"11\" lengthAdjust=\"spacingAndGlyphs\" textLength=\"38\" x=\"88.5\" y=\"274.9526\">x: Real</text><line style=\"stroke: #383838; stroke-width: 1.0;\" x1=\"83.5\" x2=\"90.5\" y1=\"258.3398\" y2=\"258.3398\"/><text fill=\"#000000\" font-family=\"sans-serif\" font-size=\"11\" lengthAdjust=\"spacingAndGlyphs\" textLength=\"55\" x=\"90.5\" y=\"261.6479\">attributes</text><line style=\"stroke: #383838; stroke-width: 1.0;\" x1=\"145.5\" x2=\"152.5\" y1=\"258.3398\" y2=\"258.3398\"/></a><!--MD5=[09b614a08d8cba4a07c9adeb5e0fee81]\n",
       "class E3--><a href=\"psysml:9e9e8e01-075a-4e09-a2e1-8d13feba95d6\" target=\"_top\" title=\"psysml:9e9e8e01-075a-4e09-a2e1-8d13feba95d6\" xlink:actuate=\"onRequest\" xlink:href=\"psysml:9e9e8e01-075a-4e09-a2e1-8d13feba95d6\" xlink:show=\"new\" xlink:title=\"psysml:9e9e8e01-075a-4e09-a2e1-8d13feba95d6\" xlink:type=\"simple\"><rect fill=\"#FFFFFF\" height=\"45.9375\" id=\"E3\" rx=\"10\" ry=\"10\" style=\"stroke: #383838; stroke-width: 1.5;\" width=\"124\" x=\"56\" y=\"343\"/><text fill=\"#000000\" font-family=\"sans-serif\" font-size=\"12\" font-style=\"italic\" lengthAdjust=\"spacingAndGlyphs\" textLength=\"122\" x=\"57\" y=\"359.1387\">«assert constraint»</text><text fill=\"#000000\" font-family=\"sans-serif\" font-size=\"12\" lengthAdjust=\"spacingAndGlyphs\" textLength=\"76\" x=\"80\" y=\"373.1074\">x_constraint</text><line style=\"stroke: #383838; stroke-width: 1.5;\" x1=\"57\" x2=\"179\" y1=\"380.9375\" y2=\"380.9375\"/></a><!--MD5=[ebbe1d658d1005bcc118a6aa81145e00]\n",
       "class E4--><a href=\"psysml:056920e1-03e4-42f5-9f87-f97cbdc58602\" target=\"_top\" title=\"psysml:056920e1-03e4-42f5-9f87-f97cbdc58602\" xlink:actuate=\"onRequest\" xlink:href=\"psysml:056920e1-03e4-42f5-9f87-f97cbdc58602\" xlink:show=\"new\" xlink:title=\"psysml:056920e1-03e4-42f5-9f87-f97cbdc58602\" xlink:type=\"simple\"><rect fill=\"#FFFFFF\" height=\"88.3516\" id=\"E4\" style=\"stroke: #383838; stroke-width: 1.5;\" width=\"88\" x=\"74\" y=\"41\"/><text fill=\"#000000\" font-family=\"sans-serif\" font-size=\"12\" font-style=\"italic\" lengthAdjust=\"spacingAndGlyphs\" textLength=\"81\" x=\"77.5\" y=\"57.1387\">«action  def»</text><text fill=\"#000000\" font-family=\"sans-serif\" font-size=\"12\" lengthAdjust=\"spacingAndGlyphs\" textLength=\"27\" x=\"104.5\" y=\"71.1074\">setX</text><line style=\"stroke: #383838; stroke-width: 1.5;\" x1=\"75\" x2=\"161\" y1=\"78.9375\" y2=\"78.9375\"/><text fill=\"#000000\" font-family=\"sans-serif\" font-size=\"11\" font-weight=\"bold\" lengthAdjust=\"spacingAndGlyphs\" textLength=\"10\" x=\"80\" y=\"109.9526\">in</text><text fill=\"#000000\" font-family=\"sans-serif\" font-size=\"11\" lengthAdjust=\"spacingAndGlyphs\" textLength=\"22\" x=\"94\" y=\"109.9526\">c: C</text><text fill=\"#000000\" font-family=\"sans-serif\" font-size=\"11\" font-weight=\"bold\" lengthAdjust=\"spacingAndGlyphs\" textLength=\"10\" x=\"80\" y=\"122.7573\">in</text><text fill=\"#000000\" font-family=\"sans-serif\" font-size=\"11\" lengthAdjust=\"spacingAndGlyphs\" textLength=\"62\" x=\"94\" y=\"122.7573\">newX: Real</text><line style=\"stroke: #383838; stroke-width: 1.0;\" x1=\"75\" x2=\"84.5\" y1=\"93.3398\" y2=\"93.3398\"/><text fill=\"#000000\" font-family=\"sans-serif\" font-size=\"11\" lengthAdjust=\"spacingAndGlyphs\" textLength=\"67\" x=\"84.5\" y=\"96.6479\">parameters</text><line style=\"stroke: #383838; stroke-width: 1.0;\" x1=\"151.5\" x2=\"161\" y1=\"93.3398\" y2=\"93.3398\"/></a><!--MD5=[209b3feb70ccb6233bfe1053d122c12c]\n",
       "reverse link E2 to E3--><a href=\"psysml:03d8b6ce-86e3-4804-a1ae-2a2287936712\" target=\"_top\" title=\"psysml:03d8b6ce-86e3-4804-a1ae-2a2287936712\" xlink:actuate=\"onRequest\" xlink:href=\"psysml:03d8b6ce-86e3-4804-a1ae-2a2287936712\" xlink:show=\"new\" xlink:title=\"psysml:03d8b6ce-86e3-4804-a1ae-2a2287936712\" xlink:type=\"simple\"><path d=\"M118,295.76 C118,312.17 118,329.52 118,342.75 \" fill=\"none\" id=\"E2&lt;-E3\" style=\"stroke: #383838; stroke-width: 1.0;\"/><polygon fill=\"#383838\" points=\"118,282.31,114,288.31,118,294.31,122,288.31,118,282.31\" style=\"stroke: #383838; stroke-width: 1.0;\"/><text fill=\"#000000\" font-family=\"sans-serif\" font-size=\"13\" lengthAdjust=\"spacingAndGlyphs\" textLength=\"7\" x=\"110.1031\" y=\"331.9622\">*</text></a><!--MD5=[ddeed8deb2209213b62e6cfabaa108b2]\n",
       "reverse link E4 to E2--><a href=\"psysml:01d56035-c08c-482f-9257-c9260a493ad7\" target=\"_top\" title=\"psysml:01d56035-c08c-482f-9257-c9260a493ad7\" xlink:actuate=\"onRequest\" xlink:href=\"psysml:01d56035-c08c-482f-9257-c9260a493ad7\" xlink:show=\"new\" xlink:title=\"psysml:01d56035-c08c-482f-9257-c9260a493ad7\" xlink:type=\"simple\"><path d=\"M105.65,142.57 C104.42,153.63 103.96,165.16 105,176 C105.94,185.79 107.64,196.27 109.5,205.97 \" fill=\"none\" id=\"E4&lt;-E2\" style=\"stroke: #383838; stroke-width: 1.0;\"/><polygon fill=\"#FFFFFF\" points=\"107.49,129.39,102.7034,134.7834,105.841,141.2762,110.6275,135.8828,107.49,129.39\" style=\"stroke: #383838; stroke-width: 1.0;\"/><text fill=\"#000000\" font-family=\"sans-serif\" font-size=\"13\" lengthAdjust=\"spacingAndGlyphs\" textLength=\"7\" x=\"106\" y=\"172.0669\">c</text></a><!--MD5=[ddeed8deb2209213b62e6cfabaa108b2]\n",
       "reverse link E4 to E2--><a href=\"psysml:01d56035-c08c-482f-9257-c9260a493ad7\" target=\"_top\" title=\"psysml:01d56035-c08c-482f-9257-c9260a493ad7\" xlink:actuate=\"onRequest\" xlink:href=\"psysml:01d56035-c08c-482f-9257-c9260a493ad7\" xlink:show=\"new\" xlink:title=\"psysml:01d56035-c08c-482f-9257-c9260a493ad7\" xlink:type=\"simple\"><path d=\"M118,142.45 C118,163.57 118,187.02 118,205.95 \" fill=\"none\" id=\"E4&lt;-E2-1\" style=\"stroke: #383838; stroke-width: 1.0;\"/><polygon fill=\"#FFFFFF\" points=\"118,129.32,114,135.32,118,141.32,122,135.32,118,129.32\" style=\"stroke: #383838; stroke-width: 1.0;\"/><text fill=\"#000000\" font-family=\"sans-serif\" font-size=\"13\" lengthAdjust=\"spacingAndGlyphs\" textLength=\"7\" x=\"119\" y=\"172.0669\">c</text></a><!--MD5=[649a371008c72ace80f1182bfa8e2f36]\n",
       "@startuml\r\n",
       "top to bottom direction\r\n",
       "skinparam monochrome true\r\n",
       "skinparam classbackgroundcolor white\r\n",
       "skinparam shadowing false\r\n",
       "skinparam wrapWidth 300\r\n",
       "hide circle\r\n",
       "\r\n",
       "package \"TextualRepresentationTest\" as E1  [[psysml:6b3c9659-b47e-4a53-85ed-693ccedcdfc8 ]]  {\r\n",
       "comp def \"C\" as E2  <<(T,blue) item  def>> [[psysml:83925eaf-d327-49ae-8c67-e64c48e757fa ]] {\r\n",
       "- - attributes - -\r\n",
       "x: Real\r\n",
       "}\r\n",
       "comp usage \"x_constraint\" as E3  <<(T,blue) assert constraint>> [[psysml:9e9e8e01-075a-4e09-a2e1-8d13feba95d6 ]] {\r\n",
       "}\r\n",
       "comp def \"setX\" as E4  <<(T,blue) action  def>> [[psysml:056920e1-03e4-42f5-9f87-f97cbdc58602 ]] {\r\n",
       "- - parameters - -\r\n",
       "<b>in</b> c: C\r\n",
       "<b>in</b> newX: Real\r\n",
       "}\r\n",
       "}\r\n",
       "E2 *- - \"*\"E3 [[psysml:03d8b6ce-86e3-4804-a1ae-2a2287936712 ]] \r\n",
       "E4 o- - E2 [[psysml:01d56035-c08c-482f-9257-c9260a493ad7 ]] : c\r\n",
       "E4 o- - E2 [[psysml:01d56035-c08c-482f-9257-c9260a493ad7 ]] : c\r\n",
       "@enduml\r\n",
       "\n",
       "PlantUML version 1.2020.13(Sat Jun 13 12:26:38 UTC 2020)\n",
       "(EPL source distribution)\n",
       "Java Runtime: OpenJDK Runtime Environment\n",
       "JVM: OpenJDK 64-Bit Server VM\n",
       "Default Encoding: UTF-8\n",
       "Language: en\n",
       "Country: null\n",
       "--></g></svg>"
      ]
     },
     "execution_count": 45,
     "metadata": {},
     "output_type": "execute_result"
    }
   ],
   "source": [
    "%viz --style=\"TB\" --view=\"Tree\" \"TextualRepresentationTest\""
   ]
  },
  {
   "cell_type": "code",
   "execution_count": 46,
   "id": "4c8b2620",
   "metadata": {
    "execution": {
     "iopub.execute_input": "2021-11-13T13:00:37.959092Z",
     "iopub.status.busy": "2021-11-13T13:00:37.958851Z",
     "iopub.status.idle": "2021-11-13T13:00:37.963993Z",
     "shell.execute_reply": "2021-11-13T13:00:37.964280Z"
    }
   },
   "outputs": [
    {
     "data": {
      "image/svg+xml": [
       "<?xml version=\"1.0\" encoding=\"UTF-8\" standalone=\"no\"?><svg xmlns=\"http://www.w3.org/2000/svg\" xmlns:xlink=\"http://www.w3.org/1999/xlink\" contentScriptType=\"application/ecmascript\" contentStyleType=\"text/css\" height=\"12px\" preserveAspectRatio=\"none\" style=\"width:12px;height:12px;\" version=\"1.1\" viewBox=\"0 0 12 12\" width=\"12px\" zoomAndPan=\"magnify\"><defs/><g><!--MD5=[f4ee21bc66e489b5061b7c3e9601fdef]\n",
       "@startuml\r\n",
       "top to bottom direction\r\n",
       "skinparam monochrome true\r\n",
       "skinparam classbackgroundcolor white\r\n",
       "skinparam shadowing false\r\n",
       "skinparam wrapWidth 300\r\n",
       "hide circle\r\n",
       "\r\n",
       "@enduml\r\n",
       "\n",
       "PlantUML version 1.2020.13(Sat Jun 13 12:26:38 UTC 2020)\n",
       "(EPL source distribution)\n",
       "Java Runtime: OpenJDK Runtime Environment\n",
       "JVM: OpenJDK 64-Bit Server VM\n",
       "Default Encoding: UTF-8\n",
       "Language: en\n",
       "Country: null\n",
       "--></g></svg>"
      ]
     },
     "execution_count": 46,
     "metadata": {},
     "output_type": "execute_result"
    }
   ],
   "source": [
    "%viz --style=\"TB\" --view=\"State\" \"TextualRepresentationTest\""
   ]
  },
  {
   "cell_type": "code",
   "execution_count": 47,
   "id": "1407e7cd",
   "metadata": {
    "execution": {
     "iopub.execute_input": "2021-11-13T13:00:38.013567Z",
     "iopub.status.busy": "2021-11-13T13:00:38.013364Z",
     "iopub.status.idle": "2021-11-13T13:00:38.039689Z",
     "shell.execute_reply": "2021-11-13T13:00:38.039357Z"
    }
   },
   "outputs": [
    {
     "data": {
      "image/svg+xml": [
       "<?xml version=\"1.0\" encoding=\"UTF-8\" standalone=\"no\"?><svg xmlns=\"http://www.w3.org/2000/svg\" xmlns:xlink=\"http://www.w3.org/1999/xlink\" contentScriptType=\"application/ecmascript\" contentStyleType=\"text/css\" height=\"179px\" preserveAspectRatio=\"none\" style=\"width:292px;height:179px;\" version=\"1.1\" viewBox=\"0 0 292 179\" width=\"292px\" zoomAndPan=\"magnify\"><defs/><g><!--MD5=[fbc87193dbaf4d95561dea2c320d4a47]\n",
       "cluster E1--><a href=\"psysml:6b3c9659-b47e-4a53-85ed-693ccedcdfc8\" target=\"_top\" title=\"psysml:6b3c9659-b47e-4a53-85ed-693ccedcdfc8\" xlink:actuate=\"onRequest\" xlink:href=\"psysml:6b3c9659-b47e-4a53-85ed-693ccedcdfc8\" xlink:show=\"new\" xlink:title=\"psysml:6b3c9659-b47e-4a53-85ed-693ccedcdfc8\" xlink:type=\"simple\"><polygon fill=\"#FFFFFF\" points=\"16,6,210,6,217,28.2969,270,28.2969,270,167,16,167,16,6\" style=\"stroke: #000000; stroke-width: 1.5;\"/><line style=\"stroke: #000000; stroke-width: 1.5;\" x1=\"16\" x2=\"217\" y1=\"28.2969\" y2=\"28.2969\"/><text fill=\"#000000\" font-family=\"sans-serif\" font-size=\"14\" font-weight=\"bold\" lengthAdjust=\"spacingAndGlyphs\" textLength=\"188\" x=\"20\" y=\"20.9951\">TextualRepresentationTest</text></a><!--MD5=[d5e69f78d87373223dbae638b30a9c99]\n",
       "cluster E3--><a href=\"psysml:056920e1-03e4-42f5-9f87-f97cbdc58602\" target=\"_top\" title=\"psysml:056920e1-03e4-42f5-9f87-f97cbdc58602\" xlink:actuate=\"onRequest\" xlink:href=\"psysml:056920e1-03e4-42f5-9f87-f97cbdc58602\" xlink:show=\"new\" xlink:title=\"psysml:056920e1-03e4-42f5-9f87-f97cbdc58602\" xlink:type=\"simple\"><rect fill=\"#FFFFFF\" height=\"88.5\" id=\"E3\" style=\"stroke: #383838; stroke-width: 1.5;\" width=\"100\" x=\"122.5\" y=\"62.5\"/><rect fill=\"#F8F8F8\" height=\"37.9375\" style=\"stroke: #383838; stroke-width: 1.5;\" width=\"100\" x=\"122.5\" y=\"62.5\"/><text fill=\"#000000\" font-family=\"sans-serif\" font-size=\"12\" font-style=\"italic\" lengthAdjust=\"spacingAndGlyphs\" textLength=\"81\" x=\"132\" y=\"78.6387\">«action  def»</text><text fill=\"#000000\" font-family=\"sans-serif\" font-size=\"12\" lengthAdjust=\"spacingAndGlyphs\" textLength=\"27\" x=\"159\" y=\"92.6074\">setX</text></a><g id=\"E1.E2\"><a href=\"psysml:83925eaf-d327-49ae-8c67-e64c48e757fa\" target=\"_top\" title=\"psysml:83925eaf-d327-49ae-8c67-e64c48e757fa\" xlink:actuate=\"onRequest\" xlink:href=\"psysml:83925eaf-d327-49ae-8c67-e64c48e757fa\" xlink:show=\"new\" xlink:title=\"psysml:83925eaf-d327-49ae-8c67-e64c48e757fa\" xlink:type=\"simple\"><rect fill=\"#FFFFFF\" height=\"42.9375\" id=\"E2\" style=\"stroke: #383838; stroke-width: 1.5;\" width=\"76\" x=\"32\" y=\"41\"/><rect fill=\"#F8F8F8\" height=\"37.9375\" style=\"stroke: #383838; stroke-width: 1.5;\" width=\"76\" x=\"32\" y=\"41\"/><text fill=\"#000000\" font-family=\"sans-serif\" font-size=\"12\" font-style=\"italic\" lengthAdjust=\"spacingAndGlyphs\" textLength=\"69\" x=\"35.5\" y=\"57.1387\">«item  def»</text><text fill=\"#000000\" font-family=\"sans-serif\" font-size=\"12\" lengthAdjust=\"spacingAndGlyphs\" textLength=\"8\" x=\"66\" y=\"71.1074\">C</text></a></g><text fill=\"#000000\" font-family=\"sans-serif\" font-size=\"14\" lengthAdjust=\"spacingAndGlyphs\" textLength=\"8\" x=\"145\" y=\"41.1982\">c</text><rect fill=\"#383838\" height=\"12\" style=\"stroke: #F8F8F8; stroke-width: 1.5;\" width=\"12\" x=\"143\" y=\"56.5\"/><text fill=\"#000000\" font-family=\"sans-serif\" font-size=\"14\" lengthAdjust=\"spacingAndGlyphs\" textLength=\"38\" x=\"177\" y=\"41.1982\">newX</text><rect fill=\"#383838\" height=\"12\" style=\"stroke: #F8F8F8; stroke-width: 1.5;\" width=\"12\" x=\"190\" y=\"56.5\"/><!--MD5=[5a0cb7ec9102e7a6e0130abe778d13ad]\n",
       "@startuml\r\n",
       "skinparam ranksep 10\r\n",
       "skinparam rectangle {\r\n",
       " backgroundColor<<block>> LightGreen\r\n",
       "}\r\n",
       "top to bottom direction\r\n",
       "skinparam monochrome true\r\n",
       "skinparam classbackgroundcolor white\r\n",
       "skinparam shadowing false\r\n",
       "skinparam wrapWidth 300\r\n",
       "hide circle\r\n",
       "\r\n",
       "package \"TextualRepresentationTest\" as E1  [[psysml:6b3c9659-b47e-4a53-85ed-693ccedcdfc8 ]]  {\r\n",
       "def \"C\" as E2  <<(T,blue) item  def>> [[psysml:83925eaf-d327-49ae-8c67-e64c48e757fa ]] \r\n",
       "rec def \"setX\" as E3  <<(T,blue) action  def>> [[psysml:056920e1-03e4-42f5-9f87-f97cbdc58602 ]] {\r\n",
       "portin \"c\" as E4  [[psysml:01d56035-c08c-482f-9257-c9260a493ad7 ]] \r\n",
       "portin \"newX\" as E5  [[psysml:7d0c1fa2-09eb-4f19-a101-add490a57fbe ]] \r\n",
       "}\r\n",
       "\r\n",
       "}\r\n",
       "@enduml\r\n",
       "\n",
       "PlantUML version 1.2020.13(Sat Jun 13 12:26:38 UTC 2020)\n",
       "(EPL source distribution)\n",
       "Java Runtime: OpenJDK Runtime Environment\n",
       "JVM: OpenJDK 64-Bit Server VM\n",
       "Default Encoding: UTF-8\n",
       "Language: en\n",
       "Country: null\n",
       "--></g></svg>"
      ]
     },
     "execution_count": 47,
     "metadata": {},
     "output_type": "execute_result"
    }
   ],
   "source": [
    "%viz --style=\"TB\" --view=\"Interconnection\" \"TextualRepresentationTest\""
   ]
  },
  {
   "cell_type": "code",
   "execution_count": 48,
   "id": "5f357b51",
   "metadata": {
    "execution": {
     "iopub.execute_input": "2021-11-13T13:00:38.088812Z",
     "iopub.status.busy": "2021-11-13T13:00:38.088622Z",
     "iopub.status.idle": "2021-11-13T13:00:38.105234Z",
     "shell.execute_reply": "2021-11-13T13:00:38.105389Z"
    }
   },
   "outputs": [
    {
     "data": {
      "image/svg+xml": [
       "<?xml version=\"1.0\" encoding=\"UTF-8\" standalone=\"no\"?><svg xmlns=\"http://www.w3.org/2000/svg\" xmlns:xlink=\"http://www.w3.org/1999/xlink\" contentScriptType=\"application/ecmascript\" contentStyleType=\"text/css\" height=\"126px\" preserveAspectRatio=\"none\" style=\"width:152px;height:126px;\" version=\"1.1\" viewBox=\"0 0 152 126\" width=\"152px\" zoomAndPan=\"magnify\"><defs/><g><!--MD5=[fbc87193dbaf4d95561dea2c320d4a47]\n",
       "cluster E1--><a href=\"psysml:056920e1-03e4-42f5-9f87-f97cbdc58602\" target=\"_top\" title=\"psysml:056920e1-03e4-42f5-9f87-f97cbdc58602\" xlink:actuate=\"onRequest\" xlink:href=\"psysml:056920e1-03e4-42f5-9f87-f97cbdc58602\" xlink:show=\"new\" xlink:title=\"psysml:056920e1-03e4-42f5-9f87-f97cbdc58602\" xlink:type=\"simple\"><rect fill=\"#FFFFFF\" height=\"73\" id=\"E1\" style=\"stroke: #383838; stroke-width: 1.5;\" width=\"134\" x=\"7\" y=\"42.0986\"/><rect fill=\"#F8F8F8\" height=\"37.9375\" style=\"stroke: #383838; stroke-width: 1.5;\" width=\"134\" x=\"7\" y=\"42.0986\"/><text fill=\"#000000\" font-family=\"sans-serif\" font-size=\"12\" font-style=\"italic\" lengthAdjust=\"spacingAndGlyphs\" textLength=\"81\" x=\"33.5\" y=\"58.2373\">«action  def»</text><text fill=\"#000000\" font-family=\"sans-serif\" font-size=\"12\" lengthAdjust=\"spacingAndGlyphs\" textLength=\"27\" x=\"60.5\" y=\"72.2061\">setX</text></a><text fill=\"#000000\" font-family=\"sans-serif\" font-size=\"14\" lengthAdjust=\"spacingAndGlyphs\" textLength=\"8\" x=\"21\" y=\"20.7969\">c</text><rect fill=\"#383838\" height=\"12\" style=\"stroke: #F8F8F8; stroke-width: 1.5;\" width=\"12\" x=\"19\" y=\"36.0986\"/><text fill=\"#000000\" font-family=\"sans-serif\" font-size=\"14\" lengthAdjust=\"spacingAndGlyphs\" textLength=\"38\" x=\"53\" y=\"20.7969\">newX</text><rect fill=\"#383838\" height=\"12\" style=\"stroke: #F8F8F8; stroke-width: 1.5;\" width=\"12\" x=\"66\" y=\"36.0986\"/><!--MD5=[04985ec01bc8f1fc243a73c6d1464536]\n",
       "@startuml\r\n",
       "skinparam ranksep 8\r\n",
       "top to bottom direction\r\n",
       "skinparam monochrome true\r\n",
       "skinparam classbackgroundcolor white\r\n",
       "skinparam shadowing false\r\n",
       "skinparam wrapWidth 300\r\n",
       "hide circle\r\n",
       "\r\n",
       "rec def \"setX\" as E1  <<(T,blue) action  def>> [[psysml:056920e1-03e4-42f5-9f87-f97cbdc58602 ]] {\r\n",
       "portin \"c\" as E2  [[psysml:01d56035-c08c-482f-9257-c9260a493ad7 ]] \r\n",
       "portin \"newX\" as E3  [[psysml:7d0c1fa2-09eb-4f19-a101-add490a57fbe ]] \r\n",
       "}\r\n",
       "\r\n",
       "@enduml\r\n",
       "\n",
       "PlantUML version 1.2020.13(Sat Jun 13 12:26:38 UTC 2020)\n",
       "(EPL source distribution)\n",
       "Java Runtime: OpenJDK Runtime Environment\n",
       "JVM: OpenJDK 64-Bit Server VM\n",
       "Default Encoding: UTF-8\n",
       "Language: en\n",
       "Country: null\n",
       "--></g></svg>"
      ]
     },
     "execution_count": 48,
     "metadata": {},
     "output_type": "execute_result"
    }
   ],
   "source": [
    "%viz --style=\"TB\" --view=\"Action\" \"TextualRepresentationTest\""
   ]
  },
  {
   "cell_type": "code",
   "execution_count": 49,
   "id": "30b1d9f1",
   "metadata": {
    "execution": {
     "iopub.execute_input": "2021-11-13T13:00:38.155529Z",
     "iopub.status.busy": "2021-11-13T13:00:38.155293Z",
     "iopub.status.idle": "2021-11-13T13:00:38.159580Z",
     "shell.execute_reply": "2021-11-13T13:00:38.159741Z"
    }
   },
   "outputs": [
    {
     "data": {
      "image/svg+xml": [
       "<?xml version=\"1.0\" encoding=\"UTF-8\" standalone=\"no\"?><svg xmlns=\"http://www.w3.org/2000/svg\" xmlns:xlink=\"http://www.w3.org/1999/xlink\" contentScriptType=\"application/ecmascript\" contentStyleType=\"text/css\" height=\"12px\" preserveAspectRatio=\"none\" style=\"width:12px;height:12px;\" version=\"1.1\" viewBox=\"0 0 12 12\" width=\"12px\" zoomAndPan=\"magnify\"><defs/><g><!--MD5=[e1ab0c84c44d2fef8bf5f140f2689906]\n",
       "@startuml\r\n",
       "skinparam roundcorner 20\r\n",
       "skinparam BoxPadding 20\r\n",
       "skinparam SequenceBoxBackgroundColor #white\r\n",
       "skinparam style strictuml\r\n",
       "skinparam maxMessageSize 100\r\n",
       "top to bottom direction\r\n",
       "skinparam monochrome true\r\n",
       "skinparam classbackgroundcolor white\r\n",
       "skinparam shadowing false\r\n",
       "skinparam wrapWidth 300\r\n",
       "hide circle\r\n",
       "\r\n",
       "@enduml\r\n",
       "\n",
       "PlantUML version 1.2020.13(Sat Jun 13 12:26:38 UTC 2020)\n",
       "(EPL source distribution)\n",
       "Java Runtime: OpenJDK Runtime Environment\n",
       "JVM: OpenJDK 64-Bit Server VM\n",
       "Default Encoding: UTF-8\n",
       "Language: en\n",
       "Country: null\n",
       "--></g></svg>"
      ]
     },
     "execution_count": 49,
     "metadata": {},
     "output_type": "execute_result"
    }
   ],
   "source": [
    "%viz --style=\"TB\" --view=\"Sequence\" \"TextualRepresentationTest\""
   ]
  },
  {
   "cell_type": "code",
   "execution_count": 50,
   "id": "aa5cba55",
   "metadata": {
    "execution": {
     "iopub.execute_input": "2021-11-13T13:00:38.209859Z",
     "iopub.status.busy": "2021-11-13T13:00:38.209664Z",
     "iopub.status.idle": "2021-11-13T13:00:38.251046Z",
     "shell.execute_reply": "2021-11-13T13:00:38.249338Z"
    }
   },
   "outputs": [
    {
     "data": {
      "image/svg+xml": [
       "<?xml version=\"1.0\" encoding=\"UTF-8\" standalone=\"no\"?><svg xmlns=\"http://www.w3.org/2000/svg\" xmlns:xlink=\"http://www.w3.org/1999/xlink\" contentScriptType=\"application/ecmascript\" contentStyleType=\"text/css\" height=\"261px\" preserveAspectRatio=\"none\" style=\"width:351px;height:261px;\" version=\"1.1\" viewBox=\"0 0 351 261\" width=\"351px\" zoomAndPan=\"magnify\"><defs/><g><!--MD5=[fbc87193dbaf4d95561dea2c320d4a47]\n",
       "cluster E1--><a href=\"psysml:6b3c9659-b47e-4a53-85ed-693ccedcdfc8\" target=\"_top\" title=\"psysml:6b3c9659-b47e-4a53-85ed-693ccedcdfc8\" xlink:actuate=\"onRequest\" xlink:href=\"psysml:6b3c9659-b47e-4a53-85ed-693ccedcdfc8\" xlink:show=\"new\" xlink:title=\"psysml:6b3c9659-b47e-4a53-85ed-693ccedcdfc8\" xlink:type=\"simple\"><polygon fill=\"#FFFFFF\" points=\"16,6,210,6,217,28.2969,329,28.2969,329,249.5,16,249.5,16,6\" style=\"stroke: #000000; stroke-width: 1.5;\"/><line style=\"stroke: #000000; stroke-width: 1.5;\" x1=\"16\" x2=\"217\" y1=\"28.2969\" y2=\"28.2969\"/><text fill=\"#000000\" font-family=\"sans-serif\" font-size=\"14\" font-weight=\"bold\" lengthAdjust=\"spacingAndGlyphs\" textLength=\"188\" x=\"20\" y=\"20.9951\">TextualRepresentationTest</text></a><!--MD5=[f6df4d0ebaf0b5dfb2ced0ae5af7c670]\n",
       "cluster E4--><a href=\"psysml:056920e1-03e4-42f5-9f87-f97cbdc58602\" target=\"_top\" title=\"psysml:056920e1-03e4-42f5-9f87-f97cbdc58602\" xlink:actuate=\"onRequest\" xlink:href=\"psysml:056920e1-03e4-42f5-9f87-f97cbdc58602\" xlink:show=\"new\" xlink:title=\"psysml:056920e1-03e4-42f5-9f87-f97cbdc58602\" xlink:type=\"simple\"><rect fill=\"#FFFFFF\" height=\"154.5\" id=\"E4\" style=\"stroke: #383838; stroke-width: 1.5;\" width=\"134\" x=\"179\" y=\"79\"/><rect fill=\"#F8F8F8\" height=\"37.9375\" style=\"stroke: #383838; stroke-width: 1.5;\" width=\"134\" x=\"179\" y=\"79\"/><text fill=\"#000000\" font-family=\"sans-serif\" font-size=\"12\" font-style=\"italic\" lengthAdjust=\"spacingAndGlyphs\" textLength=\"81\" x=\"205.5\" y=\"95.1387\">«action  def»</text><text fill=\"#000000\" font-family=\"sans-serif\" font-size=\"12\" lengthAdjust=\"spacingAndGlyphs\" textLength=\"27\" x=\"232.5\" y=\"109.1074\">setX</text></a><!--MD5=[b4997ac47864f28c2f74865a473b2911]\n",
       "class E2--><a href=\"psysml:83925eaf-d327-49ae-8c67-e64c48e757fa\" target=\"_top\" title=\"psysml:83925eaf-d327-49ae-8c67-e64c48e757fa\" xlink:actuate=\"onRequest\" xlink:href=\"psysml:83925eaf-d327-49ae-8c67-e64c48e757fa\" xlink:show=\"new\" xlink:title=\"psysml:83925eaf-d327-49ae-8c67-e64c48e757fa\" xlink:type=\"simple\"><rect fill=\"#FFFFFF\" height=\"75.5469\" id=\"E2\" style=\"stroke: #383838; stroke-width: 1.5;\" width=\"71\" x=\"58.5\" y=\"41\"/><text fill=\"#000000\" font-family=\"sans-serif\" font-size=\"12\" font-style=\"italic\" lengthAdjust=\"spacingAndGlyphs\" textLength=\"69\" x=\"59.5\" y=\"57.1387\">«item  def»</text><text fill=\"#000000\" font-family=\"sans-serif\" font-size=\"12\" lengthAdjust=\"spacingAndGlyphs\" textLength=\"8\" x=\"90\" y=\"71.1074\">C</text><line style=\"stroke: #383838; stroke-width: 1.5;\" x1=\"59.5\" x2=\"128.5\" y1=\"78.9375\" y2=\"78.9375\"/><text fill=\"#000000\" font-family=\"sans-serif\" font-size=\"11\" lengthAdjust=\"spacingAndGlyphs\" textLength=\"38\" x=\"64.5\" y=\"109.9526\">x: Real</text><line style=\"stroke: #383838; stroke-width: 1.0;\" x1=\"59.5\" x2=\"66.5\" y1=\"93.3398\" y2=\"93.3398\"/><text fill=\"#000000\" font-family=\"sans-serif\" font-size=\"11\" lengthAdjust=\"spacingAndGlyphs\" textLength=\"55\" x=\"66.5\" y=\"96.6479\">attributes</text><line style=\"stroke: #383838; stroke-width: 1.0;\" x1=\"121.5\" x2=\"128.5\" y1=\"93.3398\" y2=\"93.3398\"/></a><!--MD5=[09b614a08d8cba4a07c9adeb5e0fee81]\n",
       "class E3--><a href=\"psysml:9e9e8e01-075a-4e09-a2e1-8d13feba95d6\" target=\"_top\" title=\"psysml:9e9e8e01-075a-4e09-a2e1-8d13feba95d6\" xlink:actuate=\"onRequest\" xlink:href=\"psysml:9e9e8e01-075a-4e09-a2e1-8d13feba95d6\" xlink:show=\"new\" xlink:title=\"psysml:9e9e8e01-075a-4e09-a2e1-8d13feba95d6\" xlink:type=\"simple\"><rect fill=\"#FFFFFF\" height=\"45.9375\" id=\"E3\" rx=\"10\" ry=\"10\" style=\"stroke: #383838; stroke-width: 1.5;\" width=\"124\" x=\"32\" y=\"177\"/><text fill=\"#000000\" font-family=\"sans-serif\" font-size=\"12\" font-style=\"italic\" lengthAdjust=\"spacingAndGlyphs\" textLength=\"122\" x=\"33\" y=\"193.1387\">«assert constraint»</text><text fill=\"#000000\" font-family=\"sans-serif\" font-size=\"12\" lengthAdjust=\"spacingAndGlyphs\" textLength=\"76\" x=\"56\" y=\"207.1074\">x_constraint</text><line style=\"stroke: #383838; stroke-width: 1.5;\" x1=\"33\" x2=\"155\" y1=\"214.9375\" y2=\"214.9375\"/></a><text fill=\"#000000\" font-family=\"sans-serif\" font-size=\"14\" lengthAdjust=\"spacingAndGlyphs\" textLength=\"8\" x=\"193\" y=\"57.6982\">c</text><rect fill=\"#383838\" height=\"12\" style=\"stroke: #F8F8F8; stroke-width: 1.5;\" width=\"12\" x=\"191\" y=\"73\"/><text fill=\"#000000\" font-family=\"sans-serif\" font-size=\"14\" lengthAdjust=\"spacingAndGlyphs\" textLength=\"38\" x=\"225\" y=\"57.6982\">newX</text><rect fill=\"#383838\" height=\"12\" style=\"stroke: #F8F8F8; stroke-width: 1.5;\" width=\"12\" x=\"238\" y=\"73\"/><!--MD5=[209b3feb70ccb6233bfe1053d122c12c]\n",
       "reverse link E2 to E3--><a href=\"psysml:03d8b6ce-86e3-4804-a1ae-2a2287936712\" target=\"_top\" title=\"psysml:03d8b6ce-86e3-4804-a1ae-2a2287936712\" xlink:actuate=\"onRequest\" xlink:href=\"psysml:03d8b6ce-86e3-4804-a1ae-2a2287936712\" xlink:show=\"new\" xlink:title=\"psysml:03d8b6ce-86e3-4804-a1ae-2a2287936712\" xlink:type=\"simple\"><path d=\"M94,130.34 C94,146.61 94,163.81 94,176.93 \" fill=\"none\" id=\"E2&lt;-E3\" style=\"stroke: #383838; stroke-width: 1.0;\"/><polygon fill=\"#383838\" points=\"94,117,90,123,94,129,98,123,94,117\" style=\"stroke: #383838; stroke-width: 1.0;\"/><text fill=\"#000000\" font-family=\"sans-serif\" font-size=\"13\" lengthAdjust=\"spacingAndGlyphs\" textLength=\"7\" x=\"86.0594\" y=\"165.8075\">*</text></a><!--MD5=[e6924b46194222f42c651536dabea0af]\n",
       "@startuml\r\n",
       "top to bottom direction\r\n",
       "skinparam monochrome true\r\n",
       "skinparam classbackgroundcolor white\r\n",
       "skinparam shadowing false\r\n",
       "skinparam wrapWidth 300\r\n",
       "hide circle\r\n",
       "\r\n",
       "package \"TextualRepresentationTest\" as E1  [[psysml:6b3c9659-b47e-4a53-85ed-693ccedcdfc8 ]]  {\r\n",
       "comp def \"C\" as E2  <<(T,blue) item  def>> [[psysml:83925eaf-d327-49ae-8c67-e64c48e757fa ]] {\r\n",
       "- - attributes - -\r\n",
       "x: Real\r\n",
       "}\r\n",
       "comp usage \"x_constraint\" as E3  <<(T,blue) assert constraint>> [[psysml:9e9e8e01-075a-4e09-a2e1-8d13feba95d6 ]] {\r\n",
       "}\r\n",
       "rec def \"setX\" as E4  <<(T,blue) action  def>> [[psysml:056920e1-03e4-42f5-9f87-f97cbdc58602 ]] {\r\n",
       "portin \"c\" as E5  [[psysml:01d56035-c08c-482f-9257-c9260a493ad7 ]] \r\n",
       "portin \"newX\" as E6  [[psysml:7d0c1fa2-09eb-4f19-a101-add490a57fbe ]] \r\n",
       "}\r\n",
       "\r\n",
       "}\r\n",
       "E2 *- - \"*\"E3 [[psysml:03d8b6ce-86e3-4804-a1ae-2a2287936712 ]] \r\n",
       "@enduml\r\n",
       "\n",
       "PlantUML version 1.2020.13(Sat Jun 13 12:26:38 UTC 2020)\n",
       "(EPL source distribution)\n",
       "Java Runtime: OpenJDK Runtime Environment\n",
       "JVM: OpenJDK 64-Bit Server VM\n",
       "Default Encoding: UTF-8\n",
       "Language: en\n",
       "Country: null\n",
       "--></g></svg>"
      ]
     },
     "execution_count": 50,
     "metadata": {},
     "output_type": "execute_result"
    }
   ],
   "source": [
    "%viz --style=\"TB\" --view=\"MIXED\" \"TextualRepresentationTest\""
   ]
  },
  {
   "cell_type": "code",
   "execution_count": 51,
   "id": "4ad0bdb6",
   "metadata": {
    "execution": {
     "iopub.execute_input": "2021-11-13T13:00:38.300115Z",
     "iopub.status.busy": "2021-11-13T13:00:38.299689Z",
     "iopub.status.idle": "2021-11-13T13:00:38.340416Z",
     "shell.execute_reply": "2021-11-13T13:00:38.340196Z"
    }
   },
   "outputs": [
    {
     "data": {
      "image/svg+xml": [
       "<?xml version=\"1.0\" encoding=\"UTF-8\" standalone=\"no\"?><svg xmlns=\"http://www.w3.org/2000/svg\" xmlns:xlink=\"http://www.w3.org/1999/xlink\" contentScriptType=\"application/ecmascript\" contentStyleType=\"text/css\" height=\"261px\" preserveAspectRatio=\"none\" style=\"width:351px;height:261px;\" version=\"1.1\" viewBox=\"0 0 351 261\" width=\"351px\" zoomAndPan=\"magnify\"><defs/><g><!--MD5=[fbc87193dbaf4d95561dea2c320d4a47]\n",
       "cluster E1--><a href=\"psysml:6b3c9659-b47e-4a53-85ed-693ccedcdfc8\" target=\"_top\" title=\"psysml:6b3c9659-b47e-4a53-85ed-693ccedcdfc8\" xlink:actuate=\"onRequest\" xlink:href=\"psysml:6b3c9659-b47e-4a53-85ed-693ccedcdfc8\" xlink:show=\"new\" xlink:title=\"psysml:6b3c9659-b47e-4a53-85ed-693ccedcdfc8\" xlink:type=\"simple\"><polygon fill=\"#FFFFFF\" points=\"16,6,210,6,217,28.2969,329,28.2969,329,249.5,16,249.5,16,6\" style=\"stroke: #000000; stroke-width: 1.5;\"/><line style=\"stroke: #000000; stroke-width: 1.5;\" x1=\"16\" x2=\"217\" y1=\"28.2969\" y2=\"28.2969\"/><text fill=\"#000000\" font-family=\"sans-serif\" font-size=\"14\" font-weight=\"bold\" lengthAdjust=\"spacingAndGlyphs\" textLength=\"188\" x=\"20\" y=\"20.9951\">TextualRepresentationTest</text></a><!--MD5=[f6df4d0ebaf0b5dfb2ced0ae5af7c670]\n",
       "cluster E4--><a href=\"psysml:056920e1-03e4-42f5-9f87-f97cbdc58602\" target=\"_top\" title=\"psysml:056920e1-03e4-42f5-9f87-f97cbdc58602\" xlink:actuate=\"onRequest\" xlink:href=\"psysml:056920e1-03e4-42f5-9f87-f97cbdc58602\" xlink:show=\"new\" xlink:title=\"psysml:056920e1-03e4-42f5-9f87-f97cbdc58602\" xlink:type=\"simple\"><rect fill=\"#FFFFFF\" height=\"154.5\" id=\"E4\" style=\"stroke: #383838; stroke-width: 1.5;\" width=\"134\" x=\"179\" y=\"79\"/><rect fill=\"#F8F8F8\" height=\"37.9375\" style=\"stroke: #383838; stroke-width: 1.5;\" width=\"134\" x=\"179\" y=\"79\"/><text fill=\"#000000\" font-family=\"sans-serif\" font-size=\"12\" font-style=\"italic\" lengthAdjust=\"spacingAndGlyphs\" textLength=\"81\" x=\"205.5\" y=\"95.1387\">«action  def»</text><text fill=\"#000000\" font-family=\"sans-serif\" font-size=\"12\" lengthAdjust=\"spacingAndGlyphs\" textLength=\"27\" x=\"232.5\" y=\"109.1074\">setX</text></a><!--MD5=[b4997ac47864f28c2f74865a473b2911]\n",
       "class E2--><a href=\"psysml:83925eaf-d327-49ae-8c67-e64c48e757fa\" target=\"_top\" title=\"psysml:83925eaf-d327-49ae-8c67-e64c48e757fa\" xlink:actuate=\"onRequest\" xlink:href=\"psysml:83925eaf-d327-49ae-8c67-e64c48e757fa\" xlink:show=\"new\" xlink:title=\"psysml:83925eaf-d327-49ae-8c67-e64c48e757fa\" xlink:type=\"simple\"><rect fill=\"#FFFFFF\" height=\"75.5469\" id=\"E2\" style=\"stroke: #383838; stroke-width: 1.5;\" width=\"71\" x=\"58.5\" y=\"41\"/><text fill=\"#000000\" font-family=\"sans-serif\" font-size=\"12\" font-style=\"italic\" lengthAdjust=\"spacingAndGlyphs\" textLength=\"69\" x=\"59.5\" y=\"57.1387\">«item  def»</text><text fill=\"#000000\" font-family=\"sans-serif\" font-size=\"12\" lengthAdjust=\"spacingAndGlyphs\" textLength=\"8\" x=\"90\" y=\"71.1074\">C</text><line style=\"stroke: #383838; stroke-width: 1.5;\" x1=\"59.5\" x2=\"128.5\" y1=\"78.9375\" y2=\"78.9375\"/><text fill=\"#000000\" font-family=\"sans-serif\" font-size=\"11\" lengthAdjust=\"spacingAndGlyphs\" textLength=\"38\" x=\"64.5\" y=\"109.9526\">x: Real</text><line style=\"stroke: #383838; stroke-width: 1.0;\" x1=\"59.5\" x2=\"66.5\" y1=\"93.3398\" y2=\"93.3398\"/><text fill=\"#000000\" font-family=\"sans-serif\" font-size=\"11\" lengthAdjust=\"spacingAndGlyphs\" textLength=\"55\" x=\"66.5\" y=\"96.6479\">attributes</text><line style=\"stroke: #383838; stroke-width: 1.0;\" x1=\"121.5\" x2=\"128.5\" y1=\"93.3398\" y2=\"93.3398\"/></a><!--MD5=[09b614a08d8cba4a07c9adeb5e0fee81]\n",
       "class E3--><a href=\"psysml:9e9e8e01-075a-4e09-a2e1-8d13feba95d6\" target=\"_top\" title=\"psysml:9e9e8e01-075a-4e09-a2e1-8d13feba95d6\" xlink:actuate=\"onRequest\" xlink:href=\"psysml:9e9e8e01-075a-4e09-a2e1-8d13feba95d6\" xlink:show=\"new\" xlink:title=\"psysml:9e9e8e01-075a-4e09-a2e1-8d13feba95d6\" xlink:type=\"simple\"><rect fill=\"#FFFFFF\" height=\"45.9375\" id=\"E3\" rx=\"10\" ry=\"10\" style=\"stroke: #383838; stroke-width: 1.5;\" width=\"124\" x=\"32\" y=\"177\"/><text fill=\"#000000\" font-family=\"sans-serif\" font-size=\"12\" font-style=\"italic\" lengthAdjust=\"spacingAndGlyphs\" textLength=\"122\" x=\"33\" y=\"193.1387\">«assert constraint»</text><text fill=\"#000000\" font-family=\"sans-serif\" font-size=\"12\" lengthAdjust=\"spacingAndGlyphs\" textLength=\"76\" x=\"56\" y=\"207.1074\">x_constraint</text><line style=\"stroke: #383838; stroke-width: 1.5;\" x1=\"33\" x2=\"155\" y1=\"214.9375\" y2=\"214.9375\"/></a><text fill=\"#000000\" font-family=\"sans-serif\" font-size=\"14\" lengthAdjust=\"spacingAndGlyphs\" textLength=\"8\" x=\"193\" y=\"57.6982\">c</text><rect fill=\"#383838\" height=\"12\" style=\"stroke: #F8F8F8; stroke-width: 1.5;\" width=\"12\" x=\"191\" y=\"73\"/><text fill=\"#000000\" font-family=\"sans-serif\" font-size=\"14\" lengthAdjust=\"spacingAndGlyphs\" textLength=\"38\" x=\"225\" y=\"57.6982\">newX</text><rect fill=\"#383838\" height=\"12\" style=\"stroke: #F8F8F8; stroke-width: 1.5;\" width=\"12\" x=\"238\" y=\"73\"/><!--MD5=[209b3feb70ccb6233bfe1053d122c12c]\n",
       "reverse link E2 to E3--><a href=\"psysml:03d8b6ce-86e3-4804-a1ae-2a2287936712\" target=\"_top\" title=\"psysml:03d8b6ce-86e3-4804-a1ae-2a2287936712\" xlink:actuate=\"onRequest\" xlink:href=\"psysml:03d8b6ce-86e3-4804-a1ae-2a2287936712\" xlink:show=\"new\" xlink:title=\"psysml:03d8b6ce-86e3-4804-a1ae-2a2287936712\" xlink:type=\"simple\"><path d=\"M94,130.29 C94,130.29 94,176.74 94,176.74 \" fill=\"none\" id=\"E2&lt;-E3\" style=\"stroke: #383838; stroke-width: 1.0;\"/><polygon fill=\"#383838\" points=\"94,117.29,90,123.29,94,129.29,98,123.29,94,117.29\" style=\"stroke: #383838; stroke-width: 1.0;\"/><text fill=\"#000000\" font-family=\"sans-serif\" font-size=\"13\" lengthAdjust=\"spacingAndGlyphs\" textLength=\"7\" x=\"86.1031\" y=\"165.9497\">*</text></a><!--MD5=[833f1fb302a42573d730d804cd5b97c2]\n",
       "@startuml\r\n",
       "skinparam linetype ortho\r\n",
       "skinparam monochrome true\r\n",
       "skinparam classbackgroundcolor white\r\n",
       "skinparam shadowing false\r\n",
       "skinparam wrapWidth 300\r\n",
       "hide circle\r\n",
       "\r\n",
       "package \"TextualRepresentationTest\" as E1  [[psysml:6b3c9659-b47e-4a53-85ed-693ccedcdfc8 ]]  {\r\n",
       "comp def \"C\" as E2  <<(T,blue) item  def>> [[psysml:83925eaf-d327-49ae-8c67-e64c48e757fa ]] {\r\n",
       "- - attributes - -\r\n",
       "x: Real\r\n",
       "}\r\n",
       "comp usage \"x_constraint\" as E3  <<(T,blue) assert constraint>> [[psysml:9e9e8e01-075a-4e09-a2e1-8d13feba95d6 ]] {\r\n",
       "}\r\n",
       "rec def \"setX\" as E4  <<(T,blue) action  def>> [[psysml:056920e1-03e4-42f5-9f87-f97cbdc58602 ]] {\r\n",
       "portin \"c\" as E5  [[psysml:01d56035-c08c-482f-9257-c9260a493ad7 ]] \r\n",
       "portin \"newX\" as E6  [[psysml:7d0c1fa2-09eb-4f19-a101-add490a57fbe ]] \r\n",
       "}\r\n",
       "\r\n",
       "}\r\n",
       "E2 *- - \"*\"E3 [[psysml:03d8b6ce-86e3-4804-a1ae-2a2287936712 ]] \r\n",
       "@enduml\r\n",
       "\n",
       "PlantUML version 1.2020.13(Sat Jun 13 12:26:38 UTC 2020)\n",
       "(EPL source distribution)\n",
       "Java Runtime: OpenJDK Runtime Environment\n",
       "JVM: OpenJDK 64-Bit Server VM\n",
       "Default Encoding: UTF-8\n",
       "Language: en\n",
       "Country: null\n",
       "--></g></svg>"
      ]
     },
     "execution_count": 51,
     "metadata": {},
     "output_type": "execute_result"
    }
   ],
   "source": [
    "%viz --style=\"ORTHOLINE\" --view=\"Default\" \"TextualRepresentationTest\""
   ]
  },
  {
   "cell_type": "code",
   "execution_count": 52,
   "id": "72128c58",
   "metadata": {
    "execution": {
     "iopub.execute_input": "2021-11-13T13:00:38.390498Z",
     "iopub.status.busy": "2021-11-13T13:00:38.390040Z",
     "iopub.status.idle": "2021-11-13T13:00:38.453910Z",
     "shell.execute_reply": "2021-11-13T13:00:38.453558Z"
    }
   },
   "outputs": [
    {
     "data": {
      "image/svg+xml": [
       "<?xml version=\"1.0\" encoding=\"UTF-8\" standalone=\"no\"?><svg xmlns=\"http://www.w3.org/2000/svg\" xmlns:xlink=\"http://www.w3.org/1999/xlink\" contentScriptType=\"application/ecmascript\" contentStyleType=\"text/css\" height=\"417px\" preserveAspectRatio=\"none\" style=\"width:242px;height:417px;\" version=\"1.1\" viewBox=\"0 0 242 417\" width=\"242px\" zoomAndPan=\"magnify\"><defs/><g><!--MD5=[fbc87193dbaf4d95561dea2c320d4a47]\n",
       "cluster E1--><a href=\"psysml:6b3c9659-b47e-4a53-85ed-693ccedcdfc8\" target=\"_top\" title=\"psysml:6b3c9659-b47e-4a53-85ed-693ccedcdfc8\" xlink:actuate=\"onRequest\" xlink:href=\"psysml:6b3c9659-b47e-4a53-85ed-693ccedcdfc8\" xlink:show=\"new\" xlink:title=\"psysml:6b3c9659-b47e-4a53-85ed-693ccedcdfc8\" xlink:type=\"simple\"><polygon fill=\"#FFFFFF\" points=\"16,6,210,6,217,28.2969,220,28.2969,220,405,16,405,16,6\" style=\"stroke: #000000; stroke-width: 1.5;\"/><line style=\"stroke: #000000; stroke-width: 1.5;\" x1=\"16\" x2=\"217\" y1=\"28.2969\" y2=\"28.2969\"/><text fill=\"#000000\" font-family=\"sans-serif\" font-size=\"14\" font-weight=\"bold\" lengthAdjust=\"spacingAndGlyphs\" textLength=\"188\" x=\"20\" y=\"20.9951\">TextualRepresentationTest</text></a><!--MD5=[b4997ac47864f28c2f74865a473b2911]\n",
       "class E2--><a href=\"psysml:83925eaf-d327-49ae-8c67-e64c48e757fa\" target=\"_top\" title=\"psysml:83925eaf-d327-49ae-8c67-e64c48e757fa\" xlink:actuate=\"onRequest\" xlink:href=\"psysml:83925eaf-d327-49ae-8c67-e64c48e757fa\" xlink:show=\"new\" xlink:title=\"psysml:83925eaf-d327-49ae-8c67-e64c48e757fa\" xlink:type=\"simple\"><rect fill=\"#FFFFFF\" height=\"75.5469\" id=\"E2\" style=\"stroke: #383838; stroke-width: 1.5;\" width=\"71\" x=\"82.5\" y=\"206\"/><text fill=\"#000000\" font-family=\"sans-serif\" font-size=\"12\" font-style=\"italic\" lengthAdjust=\"spacingAndGlyphs\" textLength=\"69\" x=\"83.5\" y=\"222.1387\">«item  def»</text><text fill=\"#000000\" font-family=\"sans-serif\" font-size=\"12\" lengthAdjust=\"spacingAndGlyphs\" textLength=\"8\" x=\"114\" y=\"236.1074\">C</text><line style=\"stroke: #383838; stroke-width: 1.5;\" x1=\"83.5\" x2=\"152.5\" y1=\"243.9375\" y2=\"243.9375\"/><text fill=\"#000000\" font-family=\"sans-serif\" font-size=\"11\" lengthAdjust=\"spacingAndGlyphs\" textLength=\"38\" x=\"88.5\" y=\"274.9526\">x: Real</text><line style=\"stroke: #383838; stroke-width: 1.0;\" x1=\"83.5\" x2=\"90.5\" y1=\"258.3398\" y2=\"258.3398\"/><text fill=\"#000000\" font-family=\"sans-serif\" font-size=\"11\" lengthAdjust=\"spacingAndGlyphs\" textLength=\"55\" x=\"90.5\" y=\"261.6479\">attributes</text><line style=\"stroke: #383838; stroke-width: 1.0;\" x1=\"145.5\" x2=\"152.5\" y1=\"258.3398\" y2=\"258.3398\"/></a><!--MD5=[09b614a08d8cba4a07c9adeb5e0fee81]\n",
       "class E3--><a href=\"psysml:9e9e8e01-075a-4e09-a2e1-8d13feba95d6\" target=\"_top\" title=\"psysml:9e9e8e01-075a-4e09-a2e1-8d13feba95d6\" xlink:actuate=\"onRequest\" xlink:href=\"psysml:9e9e8e01-075a-4e09-a2e1-8d13feba95d6\" xlink:show=\"new\" xlink:title=\"psysml:9e9e8e01-075a-4e09-a2e1-8d13feba95d6\" xlink:type=\"simple\"><rect fill=\"#FFFFFF\" height=\"45.9375\" id=\"E3\" rx=\"10\" ry=\"10\" style=\"stroke: #383838; stroke-width: 1.5;\" width=\"124\" x=\"56\" y=\"343\"/><text fill=\"#000000\" font-family=\"sans-serif\" font-size=\"12\" font-style=\"italic\" lengthAdjust=\"spacingAndGlyphs\" textLength=\"122\" x=\"57\" y=\"359.1387\">«assert constraint»</text><text fill=\"#000000\" font-family=\"sans-serif\" font-size=\"12\" lengthAdjust=\"spacingAndGlyphs\" textLength=\"76\" x=\"80\" y=\"373.1074\">x_constraint</text><line style=\"stroke: #383838; stroke-width: 1.5;\" x1=\"57\" x2=\"179\" y1=\"380.9375\" y2=\"380.9375\"/></a><!--MD5=[ebbe1d658d1005bcc118a6aa81145e00]\n",
       "class E4--><a href=\"psysml:056920e1-03e4-42f5-9f87-f97cbdc58602\" target=\"_top\" title=\"psysml:056920e1-03e4-42f5-9f87-f97cbdc58602\" xlink:actuate=\"onRequest\" xlink:href=\"psysml:056920e1-03e4-42f5-9f87-f97cbdc58602\" xlink:show=\"new\" xlink:title=\"psysml:056920e1-03e4-42f5-9f87-f97cbdc58602\" xlink:type=\"simple\"><rect fill=\"#FFFFFF\" height=\"88.3516\" id=\"E4\" style=\"stroke: #383838; stroke-width: 1.5;\" width=\"88\" x=\"74\" y=\"41\"/><text fill=\"#000000\" font-family=\"sans-serif\" font-size=\"12\" font-style=\"italic\" lengthAdjust=\"spacingAndGlyphs\" textLength=\"81\" x=\"77.5\" y=\"57.1387\">«action  def»</text><text fill=\"#000000\" font-family=\"sans-serif\" font-size=\"12\" lengthAdjust=\"spacingAndGlyphs\" textLength=\"27\" x=\"104.5\" y=\"71.1074\">setX</text><line style=\"stroke: #383838; stroke-width: 1.5;\" x1=\"75\" x2=\"161\" y1=\"78.9375\" y2=\"78.9375\"/><text fill=\"#000000\" font-family=\"sans-serif\" font-size=\"11\" font-weight=\"bold\" lengthAdjust=\"spacingAndGlyphs\" textLength=\"10\" x=\"80\" y=\"109.9526\">in</text><text fill=\"#000000\" font-family=\"sans-serif\" font-size=\"11\" lengthAdjust=\"spacingAndGlyphs\" textLength=\"22\" x=\"94\" y=\"109.9526\">c: C</text><text fill=\"#000000\" font-family=\"sans-serif\" font-size=\"11\" font-weight=\"bold\" lengthAdjust=\"spacingAndGlyphs\" textLength=\"10\" x=\"80\" y=\"122.7573\">in</text><text fill=\"#000000\" font-family=\"sans-serif\" font-size=\"11\" lengthAdjust=\"spacingAndGlyphs\" textLength=\"62\" x=\"94\" y=\"122.7573\">newX: Real</text><line style=\"stroke: #383838; stroke-width: 1.0;\" x1=\"75\" x2=\"84.5\" y1=\"93.3398\" y2=\"93.3398\"/><text fill=\"#000000\" font-family=\"sans-serif\" font-size=\"11\" lengthAdjust=\"spacingAndGlyphs\" textLength=\"67\" x=\"84.5\" y=\"96.6479\">parameters</text><line style=\"stroke: #383838; stroke-width: 1.0;\" x1=\"151.5\" x2=\"161\" y1=\"93.3398\" y2=\"93.3398\"/></a><!--MD5=[209b3feb70ccb6233bfe1053d122c12c]\n",
       "reverse link E2 to E3--><a href=\"psysml:03d8b6ce-86e3-4804-a1ae-2a2287936712\" target=\"_top\" title=\"psysml:03d8b6ce-86e3-4804-a1ae-2a2287936712\" xlink:actuate=\"onRequest\" xlink:href=\"psysml:03d8b6ce-86e3-4804-a1ae-2a2287936712\" xlink:show=\"new\" xlink:title=\"psysml:03d8b6ce-86e3-4804-a1ae-2a2287936712\" xlink:type=\"simple\"><path d=\"M118,295.27 C118,295.27 118,342.78 118,342.78 \" fill=\"none\" id=\"E2&lt;-E3\" style=\"stroke: #383838; stroke-width: 1.0;\"/><polygon fill=\"#383838\" points=\"118,282.27,114,288.27,118,294.27,122,288.27,118,282.27\" style=\"stroke: #383838; stroke-width: 1.0;\"/><text fill=\"#000000\" font-family=\"sans-serif\" font-size=\"13\" lengthAdjust=\"spacingAndGlyphs\" textLength=\"7\" x=\"110.1031\" y=\"331.9999\">*</text></a><!--MD5=[ddeed8deb2209213b62e6cfabaa108b2]\n",
       "reverse link E4 to E2--><a href=\"psysml:01d56035-c08c-482f-9257-c9260a493ad7\" target=\"_top\" title=\"psysml:01d56035-c08c-482f-9257-c9260a493ad7\" xlink:actuate=\"onRequest\" xlink:href=\"psysml:01d56035-c08c-482f-9257-c9260a493ad7\" xlink:show=\"new\" xlink:title=\"psysml:01d56035-c08c-482f-9257-c9260a493ad7\" xlink:type=\"simple\"><path d=\"M106.17,142.29 C106.17,142.29 106.17,205.88 106.17,205.88 \" fill=\"none\" id=\"E4&lt;-E2\" style=\"stroke: #383838; stroke-width: 1.0;\"/><polygon fill=\"#FFFFFF\" points=\"106.17,129.29,102.17,135.29,106.17,141.29,110.17,135.29,106.17,129.29\" style=\"stroke: #383838; stroke-width: 1.0;\"/><text fill=\"#000000\" font-family=\"sans-serif\" font-size=\"13\" lengthAdjust=\"spacingAndGlyphs\" textLength=\"7\" x=\"105\" y=\"172.0669\">c</text></a><!--MD5=[ddeed8deb2209213b62e6cfabaa108b2]\n",
       "reverse link E4 to E2--><a href=\"psysml:01d56035-c08c-482f-9257-c9260a493ad7\" target=\"_top\" title=\"psysml:01d56035-c08c-482f-9257-c9260a493ad7\" xlink:actuate=\"onRequest\" xlink:href=\"psysml:01d56035-c08c-482f-9257-c9260a493ad7\" xlink:show=\"new\" xlink:title=\"psysml:01d56035-c08c-482f-9257-c9260a493ad7\" xlink:type=\"simple\"><path d=\"M129.83,142.29 C129.83,142.29 129.83,205.88 129.83,205.88 \" fill=\"none\" id=\"E4&lt;-E2-1\" style=\"stroke: #383838; stroke-width: 1.0;\"/><polygon fill=\"#FFFFFF\" points=\"129.83,129.29,125.83,135.29,129.83,141.29,133.83,135.29,129.83,129.29\" style=\"stroke: #383838; stroke-width: 1.0;\"/><text fill=\"#000000\" font-family=\"sans-serif\" font-size=\"13\" lengthAdjust=\"spacingAndGlyphs\" textLength=\"7\" x=\"154\" y=\"172.0669\">c</text></a><!--MD5=[bc76719c91901855a3843db31ae30dac]\n",
       "@startuml\r\n",
       "skinparam linetype ortho\r\n",
       "skinparam monochrome true\r\n",
       "skinparam classbackgroundcolor white\r\n",
       "skinparam shadowing false\r\n",
       "skinparam wrapWidth 300\r\n",
       "hide circle\r\n",
       "\r\n",
       "package \"TextualRepresentationTest\" as E1  [[psysml:6b3c9659-b47e-4a53-85ed-693ccedcdfc8 ]]  {\r\n",
       "comp def \"C\" as E2  <<(T,blue) item  def>> [[psysml:83925eaf-d327-49ae-8c67-e64c48e757fa ]] {\r\n",
       "- - attributes - -\r\n",
       "x: Real\r\n",
       "}\r\n",
       "comp usage \"x_constraint\" as E3  <<(T,blue) assert constraint>> [[psysml:9e9e8e01-075a-4e09-a2e1-8d13feba95d6 ]] {\r\n",
       "}\r\n",
       "comp def \"setX\" as E4  <<(T,blue) action  def>> [[psysml:056920e1-03e4-42f5-9f87-f97cbdc58602 ]] {\r\n",
       "- - parameters - -\r\n",
       "<b>in</b> c: C\r\n",
       "<b>in</b> newX: Real\r\n",
       "}\r\n",
       "}\r\n",
       "E2 *- - \"*\"E3 [[psysml:03d8b6ce-86e3-4804-a1ae-2a2287936712 ]] \r\n",
       "E4 o- - E2 [[psysml:01d56035-c08c-482f-9257-c9260a493ad7 ]] : c\r\n",
       "E4 o- - E2 [[psysml:01d56035-c08c-482f-9257-c9260a493ad7 ]] : c\r\n",
       "@enduml\r\n",
       "\n",
       "PlantUML version 1.2020.13(Sat Jun 13 12:26:38 UTC 2020)\n",
       "(EPL source distribution)\n",
       "Java Runtime: OpenJDK Runtime Environment\n",
       "JVM: OpenJDK 64-Bit Server VM\n",
       "Default Encoding: UTF-8\n",
       "Language: en\n",
       "Country: null\n",
       "--></g></svg>"
      ]
     },
     "execution_count": 52,
     "metadata": {},
     "output_type": "execute_result"
    }
   ],
   "source": [
    "%viz --style=\"ORTHOLINE\" --view=\"Tree\" \"TextualRepresentationTest\""
   ]
  },
  {
   "cell_type": "code",
   "execution_count": 53,
   "id": "addb1fc8",
   "metadata": {
    "execution": {
     "iopub.execute_input": "2021-11-13T13:00:38.503105Z",
     "iopub.status.busy": "2021-11-13T13:00:38.502714Z",
     "iopub.status.idle": "2021-11-13T13:00:38.507872Z",
     "shell.execute_reply": "2021-11-13T13:00:38.507581Z"
    }
   },
   "outputs": [
    {
     "data": {
      "image/svg+xml": [
       "<?xml version=\"1.0\" encoding=\"UTF-8\" standalone=\"no\"?><svg xmlns=\"http://www.w3.org/2000/svg\" xmlns:xlink=\"http://www.w3.org/1999/xlink\" contentScriptType=\"application/ecmascript\" contentStyleType=\"text/css\" height=\"12px\" preserveAspectRatio=\"none\" style=\"width:12px;height:12px;\" version=\"1.1\" viewBox=\"0 0 12 12\" width=\"12px\" zoomAndPan=\"magnify\"><defs/><g><!--MD5=[97d6f38768b311333d388e66b2b27985]\n",
       "@startuml\r\n",
       "skinparam linetype ortho\r\n",
       "skinparam monochrome true\r\n",
       "skinparam classbackgroundcolor white\r\n",
       "skinparam shadowing false\r\n",
       "skinparam wrapWidth 300\r\n",
       "hide circle\r\n",
       "\r\n",
       "@enduml\r\n",
       "\n",
       "PlantUML version 1.2020.13(Sat Jun 13 12:26:38 UTC 2020)\n",
       "(EPL source distribution)\n",
       "Java Runtime: OpenJDK Runtime Environment\n",
       "JVM: OpenJDK 64-Bit Server VM\n",
       "Default Encoding: UTF-8\n",
       "Language: en\n",
       "Country: null\n",
       "--></g></svg>"
      ]
     },
     "execution_count": 53,
     "metadata": {},
     "output_type": "execute_result"
    }
   ],
   "source": [
    "%viz --style=\"ORTHOLINE\" --view=\"State\" \"TextualRepresentationTest\""
   ]
  },
  {
   "cell_type": "code",
   "execution_count": 54,
   "id": "cd0e31be",
   "metadata": {
    "execution": {
     "iopub.execute_input": "2021-11-13T13:00:38.557193Z",
     "iopub.status.busy": "2021-11-13T13:00:38.556736Z",
     "iopub.status.idle": "2021-11-13T13:00:38.583478Z",
     "shell.execute_reply": "2021-11-13T13:00:38.583115Z"
    }
   },
   "outputs": [
    {
     "data": {
      "image/svg+xml": [
       "<?xml version=\"1.0\" encoding=\"UTF-8\" standalone=\"no\"?><svg xmlns=\"http://www.w3.org/2000/svg\" xmlns:xlink=\"http://www.w3.org/1999/xlink\" contentScriptType=\"application/ecmascript\" contentStyleType=\"text/css\" height=\"179px\" preserveAspectRatio=\"none\" style=\"width:292px;height:179px;\" version=\"1.1\" viewBox=\"0 0 292 179\" width=\"292px\" zoomAndPan=\"magnify\"><defs/><g><!--MD5=[fbc87193dbaf4d95561dea2c320d4a47]\n",
       "cluster E1--><a href=\"psysml:6b3c9659-b47e-4a53-85ed-693ccedcdfc8\" target=\"_top\" title=\"psysml:6b3c9659-b47e-4a53-85ed-693ccedcdfc8\" xlink:actuate=\"onRequest\" xlink:href=\"psysml:6b3c9659-b47e-4a53-85ed-693ccedcdfc8\" xlink:show=\"new\" xlink:title=\"psysml:6b3c9659-b47e-4a53-85ed-693ccedcdfc8\" xlink:type=\"simple\"><polygon fill=\"#FFFFFF\" points=\"16,6,210,6,217,28.2969,270,28.2969,270,167,16,167,16,6\" style=\"stroke: #000000; stroke-width: 1.5;\"/><line style=\"stroke: #000000; stroke-width: 1.5;\" x1=\"16\" x2=\"217\" y1=\"28.2969\" y2=\"28.2969\"/><text fill=\"#000000\" font-family=\"sans-serif\" font-size=\"14\" font-weight=\"bold\" lengthAdjust=\"spacingAndGlyphs\" textLength=\"188\" x=\"20\" y=\"20.9951\">TextualRepresentationTest</text></a><!--MD5=[d5e69f78d87373223dbae638b30a9c99]\n",
       "cluster E3--><a href=\"psysml:056920e1-03e4-42f5-9f87-f97cbdc58602\" target=\"_top\" title=\"psysml:056920e1-03e4-42f5-9f87-f97cbdc58602\" xlink:actuate=\"onRequest\" xlink:href=\"psysml:056920e1-03e4-42f5-9f87-f97cbdc58602\" xlink:show=\"new\" xlink:title=\"psysml:056920e1-03e4-42f5-9f87-f97cbdc58602\" xlink:type=\"simple\"><rect fill=\"#FFFFFF\" height=\"88.5\" id=\"E3\" style=\"stroke: #383838; stroke-width: 1.5;\" width=\"100\" x=\"122.5\" y=\"62.5\"/><rect fill=\"#F8F8F8\" height=\"37.9375\" style=\"stroke: #383838; stroke-width: 1.5;\" width=\"100\" x=\"122.5\" y=\"62.5\"/><text fill=\"#000000\" font-family=\"sans-serif\" font-size=\"12\" font-style=\"italic\" lengthAdjust=\"spacingAndGlyphs\" textLength=\"81\" x=\"132\" y=\"78.6387\">«action  def»</text><text fill=\"#000000\" font-family=\"sans-serif\" font-size=\"12\" lengthAdjust=\"spacingAndGlyphs\" textLength=\"27\" x=\"159\" y=\"92.6074\">setX</text></a><g id=\"E1.E2\"><a href=\"psysml:83925eaf-d327-49ae-8c67-e64c48e757fa\" target=\"_top\" title=\"psysml:83925eaf-d327-49ae-8c67-e64c48e757fa\" xlink:actuate=\"onRequest\" xlink:href=\"psysml:83925eaf-d327-49ae-8c67-e64c48e757fa\" xlink:show=\"new\" xlink:title=\"psysml:83925eaf-d327-49ae-8c67-e64c48e757fa\" xlink:type=\"simple\"><rect fill=\"#FFFFFF\" height=\"42.9375\" id=\"E2\" style=\"stroke: #383838; stroke-width: 1.5;\" width=\"76\" x=\"32\" y=\"41\"/><rect fill=\"#F8F8F8\" height=\"37.9375\" style=\"stroke: #383838; stroke-width: 1.5;\" width=\"76\" x=\"32\" y=\"41\"/><text fill=\"#000000\" font-family=\"sans-serif\" font-size=\"12\" font-style=\"italic\" lengthAdjust=\"spacingAndGlyphs\" textLength=\"69\" x=\"35.5\" y=\"57.1387\">«item  def»</text><text fill=\"#000000\" font-family=\"sans-serif\" font-size=\"12\" lengthAdjust=\"spacingAndGlyphs\" textLength=\"8\" x=\"66\" y=\"71.1074\">C</text></a></g><text fill=\"#000000\" font-family=\"sans-serif\" font-size=\"14\" lengthAdjust=\"spacingAndGlyphs\" textLength=\"8\" x=\"145\" y=\"41.1982\">c</text><rect fill=\"#383838\" height=\"12\" style=\"stroke: #F8F8F8; stroke-width: 1.5;\" width=\"12\" x=\"143\" y=\"56.5\"/><text fill=\"#000000\" font-family=\"sans-serif\" font-size=\"14\" lengthAdjust=\"spacingAndGlyphs\" textLength=\"38\" x=\"177\" y=\"41.1982\">newX</text><rect fill=\"#383838\" height=\"12\" style=\"stroke: #F8F8F8; stroke-width: 1.5;\" width=\"12\" x=\"190\" y=\"56.5\"/><!--MD5=[8f72ea383069b7441e0ea6c7a33a315d]\n",
       "@startuml\r\n",
       "skinparam ranksep 10\r\n",
       "skinparam rectangle {\r\n",
       " backgroundColor<<block>> LightGreen\r\n",
       "}\r\n",
       "skinparam linetype ortho\r\n",
       "skinparam monochrome true\r\n",
       "skinparam classbackgroundcolor white\r\n",
       "skinparam shadowing false\r\n",
       "skinparam wrapWidth 300\r\n",
       "hide circle\r\n",
       "\r\n",
       "package \"TextualRepresentationTest\" as E1  [[psysml:6b3c9659-b47e-4a53-85ed-693ccedcdfc8 ]]  {\r\n",
       "def \"C\" as E2  <<(T,blue) item  def>> [[psysml:83925eaf-d327-49ae-8c67-e64c48e757fa ]] \r\n",
       "rec def \"setX\" as E3  <<(T,blue) action  def>> [[psysml:056920e1-03e4-42f5-9f87-f97cbdc58602 ]] {\r\n",
       "portin \"c\" as E4  [[psysml:01d56035-c08c-482f-9257-c9260a493ad7 ]] \r\n",
       "portin \"newX\" as E5  [[psysml:7d0c1fa2-09eb-4f19-a101-add490a57fbe ]] \r\n",
       "}\r\n",
       "\r\n",
       "}\r\n",
       "@enduml\r\n",
       "\n",
       "PlantUML version 1.2020.13(Sat Jun 13 12:26:38 UTC 2020)\n",
       "(EPL source distribution)\n",
       "Java Runtime: OpenJDK Runtime Environment\n",
       "JVM: OpenJDK 64-Bit Server VM\n",
       "Default Encoding: UTF-8\n",
       "Language: en\n",
       "Country: null\n",
       "--></g></svg>"
      ]
     },
     "execution_count": 54,
     "metadata": {},
     "output_type": "execute_result"
    }
   ],
   "source": [
    "%viz --style=\"ORTHOLINE\" --view=\"Interconnection\" \"TextualRepresentationTest\""
   ]
  },
  {
   "cell_type": "code",
   "execution_count": 55,
   "id": "a39721a5",
   "metadata": {
    "execution": {
     "iopub.execute_input": "2021-11-13T13:00:38.632858Z",
     "iopub.status.busy": "2021-11-13T13:00:38.632447Z",
     "iopub.status.idle": "2021-11-13T13:00:38.655362Z",
     "shell.execute_reply": "2021-11-13T13:00:38.654999Z"
    }
   },
   "outputs": [
    {
     "data": {
      "image/svg+xml": [
       "<?xml version=\"1.0\" encoding=\"UTF-8\" standalone=\"no\"?><svg xmlns=\"http://www.w3.org/2000/svg\" xmlns:xlink=\"http://www.w3.org/1999/xlink\" contentScriptType=\"application/ecmascript\" contentStyleType=\"text/css\" height=\"126px\" preserveAspectRatio=\"none\" style=\"width:152px;height:126px;\" version=\"1.1\" viewBox=\"0 0 152 126\" width=\"152px\" zoomAndPan=\"magnify\"><defs/><g><!--MD5=[fbc87193dbaf4d95561dea2c320d4a47]\n",
       "cluster E1--><a href=\"psysml:056920e1-03e4-42f5-9f87-f97cbdc58602\" target=\"_top\" title=\"psysml:056920e1-03e4-42f5-9f87-f97cbdc58602\" xlink:actuate=\"onRequest\" xlink:href=\"psysml:056920e1-03e4-42f5-9f87-f97cbdc58602\" xlink:show=\"new\" xlink:title=\"psysml:056920e1-03e4-42f5-9f87-f97cbdc58602\" xlink:type=\"simple\"><rect fill=\"#FFFFFF\" height=\"73\" id=\"E1\" style=\"stroke: #383838; stroke-width: 1.5;\" width=\"134\" x=\"7\" y=\"42.0986\"/><rect fill=\"#F8F8F8\" height=\"37.9375\" style=\"stroke: #383838; stroke-width: 1.5;\" width=\"134\" x=\"7\" y=\"42.0986\"/><text fill=\"#000000\" font-family=\"sans-serif\" font-size=\"12\" font-style=\"italic\" lengthAdjust=\"spacingAndGlyphs\" textLength=\"81\" x=\"33.5\" y=\"58.2373\">«action  def»</text><text fill=\"#000000\" font-family=\"sans-serif\" font-size=\"12\" lengthAdjust=\"spacingAndGlyphs\" textLength=\"27\" x=\"60.5\" y=\"72.2061\">setX</text></a><text fill=\"#000000\" font-family=\"sans-serif\" font-size=\"14\" lengthAdjust=\"spacingAndGlyphs\" textLength=\"8\" x=\"21\" y=\"20.7969\">c</text><rect fill=\"#383838\" height=\"12\" style=\"stroke: #F8F8F8; stroke-width: 1.5;\" width=\"12\" x=\"19\" y=\"36.0986\"/><text fill=\"#000000\" font-family=\"sans-serif\" font-size=\"14\" lengthAdjust=\"spacingAndGlyphs\" textLength=\"38\" x=\"53\" y=\"20.7969\">newX</text><rect fill=\"#383838\" height=\"12\" style=\"stroke: #F8F8F8; stroke-width: 1.5;\" width=\"12\" x=\"66\" y=\"36.0986\"/><!--MD5=[e1ef5dddcbfc412e9ba6c32098b42f30]\n",
       "@startuml\r\n",
       "skinparam ranksep 8\r\n",
       "skinparam linetype ortho\r\n",
       "skinparam monochrome true\r\n",
       "skinparam classbackgroundcolor white\r\n",
       "skinparam shadowing false\r\n",
       "skinparam wrapWidth 300\r\n",
       "hide circle\r\n",
       "\r\n",
       "rec def \"setX\" as E1  <<(T,blue) action  def>> [[psysml:056920e1-03e4-42f5-9f87-f97cbdc58602 ]] {\r\n",
       "portin \"c\" as E2  [[psysml:01d56035-c08c-482f-9257-c9260a493ad7 ]] \r\n",
       "portin \"newX\" as E3  [[psysml:7d0c1fa2-09eb-4f19-a101-add490a57fbe ]] \r\n",
       "}\r\n",
       "\r\n",
       "@enduml\r\n",
       "\n",
       "PlantUML version 1.2020.13(Sat Jun 13 12:26:38 UTC 2020)\n",
       "(EPL source distribution)\n",
       "Java Runtime: OpenJDK Runtime Environment\n",
       "JVM: OpenJDK 64-Bit Server VM\n",
       "Default Encoding: UTF-8\n",
       "Language: en\n",
       "Country: null\n",
       "--></g></svg>"
      ]
     },
     "execution_count": 55,
     "metadata": {},
     "output_type": "execute_result"
    }
   ],
   "source": [
    "%viz --style=\"ORTHOLINE\" --view=\"Action\" \"TextualRepresentationTest\""
   ]
  },
  {
   "cell_type": "code",
   "execution_count": 56,
   "id": "f6130e70",
   "metadata": {
    "execution": {
     "iopub.execute_input": "2021-11-13T13:00:38.704751Z",
     "iopub.status.busy": "2021-11-13T13:00:38.704246Z",
     "iopub.status.idle": "2021-11-13T13:00:38.708894Z",
     "shell.execute_reply": "2021-11-13T13:00:38.708714Z"
    }
   },
   "outputs": [
    {
     "data": {
      "image/svg+xml": [
       "<?xml version=\"1.0\" encoding=\"UTF-8\" standalone=\"no\"?><svg xmlns=\"http://www.w3.org/2000/svg\" xmlns:xlink=\"http://www.w3.org/1999/xlink\" contentScriptType=\"application/ecmascript\" contentStyleType=\"text/css\" height=\"12px\" preserveAspectRatio=\"none\" style=\"width:12px;height:12px;\" version=\"1.1\" viewBox=\"0 0 12 12\" width=\"12px\" zoomAndPan=\"magnify\"><defs/><g><!--MD5=[30fc1de5121c5abddedd55b44417fde8]\n",
       "@startuml\r\n",
       "skinparam roundcorner 20\r\n",
       "skinparam BoxPadding 20\r\n",
       "skinparam SequenceBoxBackgroundColor #white\r\n",
       "skinparam style strictuml\r\n",
       "skinparam maxMessageSize 100\r\n",
       "skinparam linetype ortho\r\n",
       "skinparam monochrome true\r\n",
       "skinparam classbackgroundcolor white\r\n",
       "skinparam shadowing false\r\n",
       "skinparam wrapWidth 300\r\n",
       "hide circle\r\n",
       "\r\n",
       "@enduml\r\n",
       "\n",
       "PlantUML version 1.2020.13(Sat Jun 13 12:26:38 UTC 2020)\n",
       "(EPL source distribution)\n",
       "Java Runtime: OpenJDK Runtime Environment\n",
       "JVM: OpenJDK 64-Bit Server VM\n",
       "Default Encoding: UTF-8\n",
       "Language: en\n",
       "Country: null\n",
       "--></g></svg>"
      ]
     },
     "execution_count": 56,
     "metadata": {},
     "output_type": "execute_result"
    }
   ],
   "source": [
    "%viz --style=\"ORTHOLINE\" --view=\"Sequence\" \"TextualRepresentationTest\""
   ]
  },
  {
   "cell_type": "code",
   "execution_count": 57,
   "id": "9d479abc",
   "metadata": {
    "execution": {
     "iopub.execute_input": "2021-11-13T13:00:38.758558Z",
     "iopub.status.busy": "2021-11-13T13:00:38.758329Z",
     "iopub.status.idle": "2021-11-13T13:00:38.799262Z",
     "shell.execute_reply": "2021-11-13T13:00:38.799075Z"
    }
   },
   "outputs": [
    {
     "data": {
      "image/svg+xml": [
       "<?xml version=\"1.0\" encoding=\"UTF-8\" standalone=\"no\"?><svg xmlns=\"http://www.w3.org/2000/svg\" xmlns:xlink=\"http://www.w3.org/1999/xlink\" contentScriptType=\"application/ecmascript\" contentStyleType=\"text/css\" height=\"261px\" preserveAspectRatio=\"none\" style=\"width:351px;height:261px;\" version=\"1.1\" viewBox=\"0 0 351 261\" width=\"351px\" zoomAndPan=\"magnify\"><defs/><g><!--MD5=[fbc87193dbaf4d95561dea2c320d4a47]\n",
       "cluster E1--><a href=\"psysml:6b3c9659-b47e-4a53-85ed-693ccedcdfc8\" target=\"_top\" title=\"psysml:6b3c9659-b47e-4a53-85ed-693ccedcdfc8\" xlink:actuate=\"onRequest\" xlink:href=\"psysml:6b3c9659-b47e-4a53-85ed-693ccedcdfc8\" xlink:show=\"new\" xlink:title=\"psysml:6b3c9659-b47e-4a53-85ed-693ccedcdfc8\" xlink:type=\"simple\"><polygon fill=\"#FFFFFF\" points=\"16,6,210,6,217,28.2969,329,28.2969,329,249.5,16,249.5,16,6\" style=\"stroke: #000000; stroke-width: 1.5;\"/><line style=\"stroke: #000000; stroke-width: 1.5;\" x1=\"16\" x2=\"217\" y1=\"28.2969\" y2=\"28.2969\"/><text fill=\"#000000\" font-family=\"sans-serif\" font-size=\"14\" font-weight=\"bold\" lengthAdjust=\"spacingAndGlyphs\" textLength=\"188\" x=\"20\" y=\"20.9951\">TextualRepresentationTest</text></a><!--MD5=[f6df4d0ebaf0b5dfb2ced0ae5af7c670]\n",
       "cluster E4--><a href=\"psysml:056920e1-03e4-42f5-9f87-f97cbdc58602\" target=\"_top\" title=\"psysml:056920e1-03e4-42f5-9f87-f97cbdc58602\" xlink:actuate=\"onRequest\" xlink:href=\"psysml:056920e1-03e4-42f5-9f87-f97cbdc58602\" xlink:show=\"new\" xlink:title=\"psysml:056920e1-03e4-42f5-9f87-f97cbdc58602\" xlink:type=\"simple\"><rect fill=\"#FFFFFF\" height=\"154.5\" id=\"E4\" style=\"stroke: #383838; stroke-width: 1.5;\" width=\"134\" x=\"179\" y=\"79\"/><rect fill=\"#F8F8F8\" height=\"37.9375\" style=\"stroke: #383838; stroke-width: 1.5;\" width=\"134\" x=\"179\" y=\"79\"/><text fill=\"#000000\" font-family=\"sans-serif\" font-size=\"12\" font-style=\"italic\" lengthAdjust=\"spacingAndGlyphs\" textLength=\"81\" x=\"205.5\" y=\"95.1387\">«action  def»</text><text fill=\"#000000\" font-family=\"sans-serif\" font-size=\"12\" lengthAdjust=\"spacingAndGlyphs\" textLength=\"27\" x=\"232.5\" y=\"109.1074\">setX</text></a><!--MD5=[b4997ac47864f28c2f74865a473b2911]\n",
       "class E2--><a href=\"psysml:83925eaf-d327-49ae-8c67-e64c48e757fa\" target=\"_top\" title=\"psysml:83925eaf-d327-49ae-8c67-e64c48e757fa\" xlink:actuate=\"onRequest\" xlink:href=\"psysml:83925eaf-d327-49ae-8c67-e64c48e757fa\" xlink:show=\"new\" xlink:title=\"psysml:83925eaf-d327-49ae-8c67-e64c48e757fa\" xlink:type=\"simple\"><rect fill=\"#FFFFFF\" height=\"75.5469\" id=\"E2\" style=\"stroke: #383838; stroke-width: 1.5;\" width=\"71\" x=\"58.5\" y=\"41\"/><text fill=\"#000000\" font-family=\"sans-serif\" font-size=\"12\" font-style=\"italic\" lengthAdjust=\"spacingAndGlyphs\" textLength=\"69\" x=\"59.5\" y=\"57.1387\">«item  def»</text><text fill=\"#000000\" font-family=\"sans-serif\" font-size=\"12\" lengthAdjust=\"spacingAndGlyphs\" textLength=\"8\" x=\"90\" y=\"71.1074\">C</text><line style=\"stroke: #383838; stroke-width: 1.5;\" x1=\"59.5\" x2=\"128.5\" y1=\"78.9375\" y2=\"78.9375\"/><text fill=\"#000000\" font-family=\"sans-serif\" font-size=\"11\" lengthAdjust=\"spacingAndGlyphs\" textLength=\"38\" x=\"64.5\" y=\"109.9526\">x: Real</text><line style=\"stroke: #383838; stroke-width: 1.0;\" x1=\"59.5\" x2=\"66.5\" y1=\"93.3398\" y2=\"93.3398\"/><text fill=\"#000000\" font-family=\"sans-serif\" font-size=\"11\" lengthAdjust=\"spacingAndGlyphs\" textLength=\"55\" x=\"66.5\" y=\"96.6479\">attributes</text><line style=\"stroke: #383838; stroke-width: 1.0;\" x1=\"121.5\" x2=\"128.5\" y1=\"93.3398\" y2=\"93.3398\"/></a><!--MD5=[09b614a08d8cba4a07c9adeb5e0fee81]\n",
       "class E3--><a href=\"psysml:9e9e8e01-075a-4e09-a2e1-8d13feba95d6\" target=\"_top\" title=\"psysml:9e9e8e01-075a-4e09-a2e1-8d13feba95d6\" xlink:actuate=\"onRequest\" xlink:href=\"psysml:9e9e8e01-075a-4e09-a2e1-8d13feba95d6\" xlink:show=\"new\" xlink:title=\"psysml:9e9e8e01-075a-4e09-a2e1-8d13feba95d6\" xlink:type=\"simple\"><rect fill=\"#FFFFFF\" height=\"45.9375\" id=\"E3\" rx=\"10\" ry=\"10\" style=\"stroke: #383838; stroke-width: 1.5;\" width=\"124\" x=\"32\" y=\"177\"/><text fill=\"#000000\" font-family=\"sans-serif\" font-size=\"12\" font-style=\"italic\" lengthAdjust=\"spacingAndGlyphs\" textLength=\"122\" x=\"33\" y=\"193.1387\">«assert constraint»</text><text fill=\"#000000\" font-family=\"sans-serif\" font-size=\"12\" lengthAdjust=\"spacingAndGlyphs\" textLength=\"76\" x=\"56\" y=\"207.1074\">x_constraint</text><line style=\"stroke: #383838; stroke-width: 1.5;\" x1=\"33\" x2=\"155\" y1=\"214.9375\" y2=\"214.9375\"/></a><text fill=\"#000000\" font-family=\"sans-serif\" font-size=\"14\" lengthAdjust=\"spacingAndGlyphs\" textLength=\"8\" x=\"193\" y=\"57.6982\">c</text><rect fill=\"#383838\" height=\"12\" style=\"stroke: #F8F8F8; stroke-width: 1.5;\" width=\"12\" x=\"191\" y=\"73\"/><text fill=\"#000000\" font-family=\"sans-serif\" font-size=\"14\" lengthAdjust=\"spacingAndGlyphs\" textLength=\"38\" x=\"225\" y=\"57.6982\">newX</text><rect fill=\"#383838\" height=\"12\" style=\"stroke: #F8F8F8; stroke-width: 1.5;\" width=\"12\" x=\"238\" y=\"73\"/><!--MD5=[209b3feb70ccb6233bfe1053d122c12c]\n",
       "reverse link E2 to E3--><a href=\"psysml:03d8b6ce-86e3-4804-a1ae-2a2287936712\" target=\"_top\" title=\"psysml:03d8b6ce-86e3-4804-a1ae-2a2287936712\" xlink:actuate=\"onRequest\" xlink:href=\"psysml:03d8b6ce-86e3-4804-a1ae-2a2287936712\" xlink:show=\"new\" xlink:title=\"psysml:03d8b6ce-86e3-4804-a1ae-2a2287936712\" xlink:type=\"simple\"><path d=\"M94,130.29 C94,130.29 94,176.74 94,176.74 \" fill=\"none\" id=\"E2&lt;-E3\" style=\"stroke: #383838; stroke-width: 1.0;\"/><polygon fill=\"#383838\" points=\"94,117.29,90,123.29,94,129.29,98,123.29,94,117.29\" style=\"stroke: #383838; stroke-width: 1.0;\"/><text fill=\"#000000\" font-family=\"sans-serif\" font-size=\"13\" lengthAdjust=\"spacingAndGlyphs\" textLength=\"7\" x=\"86.1031\" y=\"165.9497\">*</text></a><!--MD5=[833f1fb302a42573d730d804cd5b97c2]\n",
       "@startuml\r\n",
       "skinparam linetype ortho\r\n",
       "skinparam monochrome true\r\n",
       "skinparam classbackgroundcolor white\r\n",
       "skinparam shadowing false\r\n",
       "skinparam wrapWidth 300\r\n",
       "hide circle\r\n",
       "\r\n",
       "package \"TextualRepresentationTest\" as E1  [[psysml:6b3c9659-b47e-4a53-85ed-693ccedcdfc8 ]]  {\r\n",
       "comp def \"C\" as E2  <<(T,blue) item  def>> [[psysml:83925eaf-d327-49ae-8c67-e64c48e757fa ]] {\r\n",
       "- - attributes - -\r\n",
       "x: Real\r\n",
       "}\r\n",
       "comp usage \"x_constraint\" as E3  <<(T,blue) assert constraint>> [[psysml:9e9e8e01-075a-4e09-a2e1-8d13feba95d6 ]] {\r\n",
       "}\r\n",
       "rec def \"setX\" as E4  <<(T,blue) action  def>> [[psysml:056920e1-03e4-42f5-9f87-f97cbdc58602 ]] {\r\n",
       "portin \"c\" as E5  [[psysml:01d56035-c08c-482f-9257-c9260a493ad7 ]] \r\n",
       "portin \"newX\" as E6  [[psysml:7d0c1fa2-09eb-4f19-a101-add490a57fbe ]] \r\n",
       "}\r\n",
       "\r\n",
       "}\r\n",
       "E2 *- - \"*\"E3 [[psysml:03d8b6ce-86e3-4804-a1ae-2a2287936712 ]] \r\n",
       "@enduml\r\n",
       "\n",
       "PlantUML version 1.2020.13(Sat Jun 13 12:26:38 UTC 2020)\n",
       "(EPL source distribution)\n",
       "Java Runtime: OpenJDK Runtime Environment\n",
       "JVM: OpenJDK 64-Bit Server VM\n",
       "Default Encoding: UTF-8\n",
       "Language: en\n",
       "Country: null\n",
       "--></g></svg>"
      ]
     },
     "execution_count": 57,
     "metadata": {},
     "output_type": "execute_result"
    }
   ],
   "source": [
    "%viz --style=\"ORTHOLINE\" --view=\"MIXED\" \"TextualRepresentationTest\""
   ]
  }
 ],
 "metadata": {
  "kernelspec": {
   "display_name": "SysML",
   "language": "sysml",
   "name": "sysml"
  },
  "language_info": {
   "codemirror_mode": "sysml",
   "file_extension": ".sysml",
   "mimetype": "text/x-sysml",
   "name": "SysML",
   "pygments_lexer": "java",
   "version": "1.0.0"
  }
 },
 "nbformat": 4,
 "nbformat_minor": 5
}
