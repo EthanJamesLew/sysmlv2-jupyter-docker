{
 "cells": [
  {
   "cell_type": "markdown",
   "id": "99e55d1a",
   "metadata": {},
   "source": [
    "# SysML v2 Test Suite\n",
    "\n",
    "This can notebook can be cleared using menu `Edit --> Clear All Outputs` and then all cells can be\n",
    "run using menu `Run --> Run All Cells`.\n",
    "\n",
    "**WARNING**: This file is generated, all modifications here will be ignored.\n"
   ]
  },
  {
   "cell_type": "markdown",
   "id": "01ad3c0a",
   "metadata": {},
   "source": [
    "## File: ../../sysml/src/examples/Simple Tests/TextualRepresentationTest.sysml"
   ]
  },
  {
   "cell_type": "code",
   "execution_count": 1,
   "id": "e2420fa7",
   "metadata": {
    "execution": {
     "iopub.execute_input": "2021-06-30T09:21:14.002906Z",
     "iopub.status.busy": "2021-06-30T09:21:13.992475Z",
     "iopub.status.idle": "2021-06-30T09:21:14.445386Z",
     "shell.execute_reply": "2021-06-30T09:21:14.441261Z"
    }
   },
   "outputs": [
    {
     "data": {
      "text/plain": [
       "Package TextualRepresentationTest (ed2fa453-a5b0-4c46-8519-be1854ed8ebc)\n"
      ]
     },
     "execution_count": 1,
     "metadata": {},
     "output_type": "execute_result"
    }
   ],
   "source": [
    "package TextualRepresentationTest {\n",
    "\timport ScalarValues::Real;\n",
    "\t\n",
    "\titem def C {\n",
    "\t    attribute x: Real;\n",
    "\t    assert constraint x_constraint;\n",
    "\t    rep inOCL about x_constraint language \"ocl\" \n",
    "\t        /* self.x > 0.0 */\n",
    "\t}\n",
    "\t\n",
    "\taction def setX(c : C, newX : Real) {\n",
    "\t    language \"alf\" \n",
    "\t        /* c.x = newX;\n",
    "\t         * WriteLine(\"Set new x\");\n",
    "\t         */\n",
    "\t}\n",
    "\t\n",
    "}"
   ]
  },
  {
   "cell_type": "code",
   "execution_count": 2,
   "id": "419b5d0c",
   "metadata": {
    "execution": {
     "iopub.execute_input": "2021-06-30T09:21:14.500283Z",
     "iopub.status.busy": "2021-06-30T09:21:14.499805Z",
     "iopub.status.idle": "2021-06-30T09:21:15.352867Z",
     "shell.execute_reply": "2021-06-30T09:21:15.347674Z"
    }
   },
   "outputs": [
    {
     "data": {
      "image/svg+xml": [
       "<?xml version=\"1.0\" encoding=\"UTF-8\" standalone=\"no\"?><svg xmlns=\"http://www.w3.org/2000/svg\" xmlns:xlink=\"http://www.w3.org/1999/xlink\" contentScriptType=\"application/ecmascript\" contentStyleType=\"text/css\" height=\"261px\" preserveAspectRatio=\"none\" style=\"width:389px;height:261px;\" version=\"1.1\" viewBox=\"0 0 389 261\" width=\"389px\" zoomAndPan=\"magnify\"><defs/><g><!--MD5=[fbc87193dbaf4d95561dea2c320d4a47]\n",
       "cluster E1--><a href=\"psysml:1e396b56-292d-4ed9-bbba-ca6bb661746c\" target=\"_top\" title=\"psysml:1e396b56-292d-4ed9-bbba-ca6bb661746c\" xlink:actuate=\"onRequest\" xlink:href=\"psysml:1e396b56-292d-4ed9-bbba-ca6bb661746c\" xlink:show=\"new\" xlink:title=\"psysml:1e396b56-292d-4ed9-bbba-ca6bb661746c\" xlink:type=\"simple\"><polygon fill=\"#FFFFFF\" points=\"16,6,236,6,243,28.2969,367,28.2969,367,249.5,16,249.5,16,6\" style=\"stroke: #000000; stroke-width: 1.5;\"/><line style=\"stroke: #000000; stroke-width: 1.5;\" x1=\"16\" x2=\"243\" y1=\"28.2969\" y2=\"28.2969\"/><text fill=\"#000000\" font-family=\"sans-serif\" font-size=\"14\" font-weight=\"bold\" lengthAdjust=\"spacingAndGlyphs\" textLength=\"214\" x=\"20\" y=\"20.9951\">TextualRepresentationTest</text></a><!--MD5=[de5ec2e2e8f62f467e546659f5068c88]\n",
       "cluster E5--><a href=\"psysml:7113fdf5-c3b3-43b5-a3fa-02abb845fbc2\" target=\"_top\" title=\"psysml:7113fdf5-c3b3-43b5-a3fa-02abb845fbc2\" xlink:actuate=\"onRequest\" xlink:href=\"psysml:7113fdf5-c3b3-43b5-a3fa-02abb845fbc2\" xlink:show=\"new\" xlink:title=\"psysml:7113fdf5-c3b3-43b5-a3fa-02abb845fbc2\" xlink:type=\"simple\"><rect fill=\"#FFFFFF\" height=\"154.5\" id=\"E5\" style=\"stroke: #383838; stroke-width: 1.5;\" width=\"96\" x=\"225.5\" y=\"79\"/><rect fill=\"#F8F8F8\" height=\"37.9375\" style=\"stroke: #383838; stroke-width: 1.5;\" width=\"96\" x=\"225.5\" y=\"79\"/><text fill=\"#000000\" font-family=\"sans-serif\" font-size=\"12\" font-style=\"italic\" lengthAdjust=\"spacingAndGlyphs\" textLength=\"77\" x=\"235\" y=\"95.1387\">«action def»</text><text fill=\"#000000\" font-family=\"sans-serif\" font-size=\"12\" lengthAdjust=\"spacingAndGlyphs\" textLength=\"27\" x=\"260\" y=\"109.1074\">setX</text></a><!--MD5=[b4997ac47864f28c2f74865a473b2911]\n",
       "class E2--><a href=\"psysml:2e771e59-55ab-4895-8e71-4691f1152b9b\" target=\"_top\" title=\"psysml:2e771e59-55ab-4895-8e71-4691f1152b9b\" xlink:actuate=\"onRequest\" xlink:href=\"psysml:2e771e59-55ab-4895-8e71-4691f1152b9b\" xlink:show=\"new\" xlink:title=\"psysml:2e771e59-55ab-4895-8e71-4691f1152b9b\" xlink:type=\"simple\"><rect fill=\"#FFFFFF\" height=\"45.9375\" id=\"E2\" style=\"stroke: #383838; stroke-width: 1.5;\" width=\"74\" x=\"135\" y=\"56\"/><text fill=\"#000000\" font-family=\"sans-serif\" font-size=\"12\" font-style=\"italic\" lengthAdjust=\"spacingAndGlyphs\" textLength=\"72\" x=\"136\" y=\"72.1387\">«dataType»</text><text fill=\"#000000\" font-family=\"sans-serif\" font-size=\"12\" lengthAdjust=\"spacingAndGlyphs\" textLength=\"27\" x=\"158.5\" y=\"86.1074\">Real</text><line style=\"stroke: #383838; stroke-width: 1.5;\" x1=\"136\" x2=\"208\" y1=\"93.9375\" y2=\"93.9375\"/></a><!--MD5=[09b614a08d8cba4a07c9adeb5e0fee81]\n",
       "class E3--><a href=\"psysml:e4de1612-4570-4c3a-878c-e0dca14f25a7\" target=\"_top\" title=\"psysml:e4de1612-4570-4c3a-878c-e0dca14f25a7\" xlink:actuate=\"onRequest\" xlink:href=\"psysml:e4de1612-4570-4c3a-878c-e0dca14f25a7\" xlink:show=\"new\" xlink:title=\"psysml:e4de1612-4570-4c3a-878c-e0dca14f25a7\" xlink:type=\"simple\"><rect fill=\"#FFFFFF\" height=\"75.5469\" id=\"E3\" style=\"stroke: #383838; stroke-width: 1.5;\" width=\"67\" x=\"32.5\" y=\"41\"/><text fill=\"#000000\" font-family=\"sans-serif\" font-size=\"12\" font-style=\"italic\" lengthAdjust=\"spacingAndGlyphs\" textLength=\"65\" x=\"33.5\" y=\"57.1387\">«item def»</text><text fill=\"#000000\" font-family=\"sans-serif\" font-size=\"12\" lengthAdjust=\"spacingAndGlyphs\" textLength=\"8\" x=\"62\" y=\"71.1074\">C</text><line style=\"stroke: #383838; stroke-width: 1.5;\" x1=\"33.5\" x2=\"98.5\" y1=\"78.9375\" y2=\"78.9375\"/><text fill=\"#000000\" font-family=\"sans-serif\" font-size=\"11\" lengthAdjust=\"spacingAndGlyphs\" textLength=\"38\" x=\"38.5\" y=\"109.9526\">x: Real</text><line style=\"stroke: #383838; stroke-width: 1.0;\" x1=\"33.5\" x2=\"38.5\" y1=\"93.3398\" y2=\"93.3398\"/><text fill=\"#000000\" font-family=\"sans-serif\" font-size=\"11\" lengthAdjust=\"spacingAndGlyphs\" textLength=\"55\" x=\"38.5\" y=\"96.6479\">attributes</text><line style=\"stroke: #383838; stroke-width: 1.0;\" x1=\"93.5\" x2=\"98.5\" y1=\"93.3398\" y2=\"93.3398\"/></a><!--MD5=[ebbe1d658d1005bcc118a6aa81145e00]\n",
       "class E4--><a href=\"psysml:8c3cf46e-c423-4c70-a710-66f9a3632f6b\" target=\"_top\" title=\"psysml:8c3cf46e-c423-4c70-a710-66f9a3632f6b\" xlink:actuate=\"onRequest\" xlink:href=\"psysml:8c3cf46e-c423-4c70-a710-66f9a3632f6b\" xlink:show=\"new\" xlink:title=\"psysml:8c3cf46e-c423-4c70-a710-66f9a3632f6b\" xlink:type=\"simple\"><rect fill=\"#FFFFFF\" height=\"45.9375\" id=\"E4\" rx=\"10\" ry=\"10\" style=\"stroke: #383838; stroke-width: 1.5;\" width=\"121\" x=\"32.5\" y=\"177\"/><text fill=\"#000000\" font-family=\"sans-serif\" font-size=\"12\" font-style=\"italic\" lengthAdjust=\"spacingAndGlyphs\" textLength=\"119\" x=\"33.5\" y=\"193.1387\">«assertConstraint»</text><text fill=\"#000000\" font-family=\"sans-serif\" font-size=\"12\" lengthAdjust=\"spacingAndGlyphs\" textLength=\"76\" x=\"55\" y=\"207.1074\">x_constraint</text><line style=\"stroke: #383838; stroke-width: 1.5;\" x1=\"33.5\" x2=\"152.5\" y1=\"214.9375\" y2=\"214.9375\"/></a><text fill=\"#000000\" font-family=\"sans-serif\" font-size=\"14\" lengthAdjust=\"spacingAndGlyphs\" textLength=\"8\" x=\"246\" y=\"57.6982\">c</text><rect fill=\"#383838\" height=\"12\" style=\"stroke: #F8F8F8; stroke-width: 1.5;\" width=\"12\" x=\"244\" y=\"73\"/><text fill=\"#000000\" font-family=\"sans-serif\" font-size=\"14\" lengthAdjust=\"spacingAndGlyphs\" textLength=\"38\" x=\"278\" y=\"57.6982\">newX</text><rect fill=\"#383838\" height=\"12\" style=\"stroke: #F8F8F8; stroke-width: 1.5;\" width=\"12\" x=\"291\" y=\"73\"/><!--MD5=[4672eba38e49728da53d11aeb285b987]\n",
       "reverse link E3 to E4--><a href=\"psysml:53eca076-bd38-4ff8-88cd-ccaa057f7e59\" target=\"_top\" title=\"psysml:53eca076-bd38-4ff8-88cd-ccaa057f7e59\" xlink:actuate=\"onRequest\" xlink:href=\"psysml:53eca076-bd38-4ff8-88cd-ccaa057f7e59\" xlink:show=\"new\" xlink:title=\"psysml:53eca076-bd38-4ff8-88cd-ccaa057f7e59\" xlink:type=\"simple\"><path d=\"M77.31,129.85 C81.03,146.26 84.99,163.68 87.99,176.93 \" fill=\"none\" id=\"E3&lt;-E4\" style=\"stroke: #383838; stroke-width: 1.0;\"/><polygon fill=\"#FFFFFF\" points=\"74.39,117,71.8133,123.735,77.0392,128.7039,79.6159,121.9689,74.39,117\" style=\"stroke: #383838; stroke-width: 1.0;\"/></a><!--MD5=[1fe090a83853d4fad2d8e7bdc3b68043]\n",
       "@startuml\r\n",
       " skinparam monochrome true\r\n",
       "skinparam classbackgroundcolor white\r\n",
       "skinparam shadowing false\r\n",
       "skinparam wrapWidth 300\r\n",
       "hide circle\r\n",
       "\r\n",
       "package \"TextualRepresentationTest\" as E1  [[psysml:1e396b56-292d-4ed9-bbba-ca6bb661746c ]]  {\r\n",
       "comp def \"Real\" as E2  <<(T,blue) dataType>> [[psysml:2e771e59-55ab-4895-8e71-4691f1152b9b ]] {\r\n",
       "}\r\n",
       "comp def \"C\" as E3  <<(T,blue) item def>> [[psysml:e4de1612-4570-4c3a-878c-e0dca14f25a7 ]] {\r\n",
       "- - attributes - -\r\n",
       "x: Real\r\n",
       "}\r\n",
       "comp usage \"x_constraint\" as E4  <<(T,blue) assertConstraint>> [[psysml:8c3cf46e-c423-4c70-a710-66f9a3632f6b ]] {\r\n",
       "}\r\n",
       "rec def \"setX\" as E5  <<(T,blue) action def>> [[psysml:7113fdf5-c3b3-43b5-a3fa-02abb845fbc2 ]] {\r\n",
       "portin \"c\" as E6  [[psysml:34b277fa-246f-4890-8f8b-22f79f83c872 ]] \r\n",
       "portin \"newX\" as E7  [[psysml:085fc47f-09d9-4ca0-b48d-81ba6e318ca7 ]] \r\n",
       "}\r\n",
       "\r\n",
       "E3 o- - E4 [[psysml:53eca076-bd38-4ff8-88cd-ccaa057f7e59 ]] \r\n",
       "}\r\n",
       "@enduml\r\n",
       "\n",
       "PlantUML version 1.2020.13(Sat Jun 13 12:26:38 UTC 2020)\n",
       "(EPL source distribution)\n",
       "Java Runtime: OpenJDK Runtime Environment\n",
       "JVM: OpenJDK 64-Bit Server VM\n",
       "Default Encoding: UTF-8\n",
       "Language: en\n",
       "Country: null\n",
       "--></g></svg>"
      ]
     },
     "execution_count": 2,
     "metadata": {},
     "output_type": "execute_result"
    }
   ],
   "source": [
    "%viz --style=\"COMPTREE\" --view=\"Default\" \"TextualRepresentationTest\""
   ]
  },
  {
   "cell_type": "code",
   "execution_count": 3,
   "id": "fcbeb06b",
   "metadata": {
    "execution": {
     "iopub.execute_input": "2021-06-30T09:21:15.399486Z",
     "iopub.status.busy": "2021-06-30T09:21:15.399090Z",
     "iopub.status.idle": "2021-06-30T09:21:15.501723Z",
     "shell.execute_reply": "2021-06-30T09:21:15.501336Z"
    }
   },
   "outputs": [
    {
     "data": {
      "image/svg+xml": [
       "<?xml version=\"1.0\" encoding=\"UTF-8\" standalone=\"no\"?><svg xmlns=\"http://www.w3.org/2000/svg\" xmlns:xlink=\"http://www.w3.org/1999/xlink\" contentScriptType=\"application/ecmascript\" contentStyleType=\"text/css\" height=\"375px\" preserveAspectRatio=\"none\" style=\"width:268px;height:375px;\" version=\"1.1\" viewBox=\"0 0 268 375\" width=\"268px\" zoomAndPan=\"magnify\"><defs/><g><!--MD5=[fbc87193dbaf4d95561dea2c320d4a47]\n",
       "cluster E1--><a href=\"psysml:1e396b56-292d-4ed9-bbba-ca6bb661746c\" target=\"_top\" title=\"psysml:1e396b56-292d-4ed9-bbba-ca6bb661746c\" xlink:actuate=\"onRequest\" xlink:href=\"psysml:1e396b56-292d-4ed9-bbba-ca6bb661746c\" xlink:show=\"new\" xlink:title=\"psysml:1e396b56-292d-4ed9-bbba-ca6bb661746c\" xlink:type=\"simple\"><polygon fill=\"#FFFFFF\" points=\"16,6,236,6,243,28.2969,246,28.2969,246,363,16,363,16,6\" style=\"stroke: #000000; stroke-width: 1.5;\"/><line style=\"stroke: #000000; stroke-width: 1.5;\" x1=\"16\" x2=\"243\" y1=\"28.2969\" y2=\"28.2969\"/><text fill=\"#000000\" font-family=\"sans-serif\" font-size=\"14\" font-weight=\"bold\" lengthAdjust=\"spacingAndGlyphs\" textLength=\"214\" x=\"20\" y=\"20.9951\">TextualRepresentationTest</text></a><!--MD5=[b4997ac47864f28c2f74865a473b2911]\n",
       "class E2--><a href=\"psysml:2e771e59-55ab-4895-8e71-4691f1152b9b\" target=\"_top\" title=\"psysml:2e771e59-55ab-4895-8e71-4691f1152b9b\" xlink:actuate=\"onRequest\" xlink:href=\"psysml:2e771e59-55ab-4895-8e71-4691f1152b9b\" xlink:show=\"new\" xlink:title=\"psysml:2e771e59-55ab-4895-8e71-4691f1152b9b\" xlink:type=\"simple\"><rect fill=\"#FFFFFF\" height=\"45.9375\" id=\"E2\" style=\"stroke: #383838; stroke-width: 1.5;\" width=\"74\" x=\"42\" y=\"179\"/><text fill=\"#000000\" font-family=\"sans-serif\" font-size=\"12\" font-style=\"italic\" lengthAdjust=\"spacingAndGlyphs\" textLength=\"72\" x=\"43\" y=\"195.1387\">«dataType»</text><text fill=\"#000000\" font-family=\"sans-serif\" font-size=\"12\" lengthAdjust=\"spacingAndGlyphs\" textLength=\"27\" x=\"65.5\" y=\"209.1074\">Real</text><line style=\"stroke: #383838; stroke-width: 1.5;\" x1=\"43\" x2=\"115\" y1=\"216.9375\" y2=\"216.9375\"/></a><!--MD5=[09b614a08d8cba4a07c9adeb5e0fee81]\n",
       "class E3--><a href=\"psysml:e4de1612-4570-4c3a-878c-e0dca14f25a7\" target=\"_top\" title=\"psysml:e4de1612-4570-4c3a-878c-e0dca14f25a7\" xlink:actuate=\"onRequest\" xlink:href=\"psysml:e4de1612-4570-4c3a-878c-e0dca14f25a7\" xlink:show=\"new\" xlink:title=\"psysml:e4de1612-4570-4c3a-878c-e0dca14f25a7\" xlink:type=\"simple\"><rect fill=\"#FFFFFF\" height=\"75.5469\" id=\"E3\" style=\"stroke: #383838; stroke-width: 1.5;\" width=\"67\" x=\"151.5\" y=\"164\"/><text fill=\"#000000\" font-family=\"sans-serif\" font-size=\"12\" font-style=\"italic\" lengthAdjust=\"spacingAndGlyphs\" textLength=\"65\" x=\"152.5\" y=\"180.1387\">«item def»</text><text fill=\"#000000\" font-family=\"sans-serif\" font-size=\"12\" lengthAdjust=\"spacingAndGlyphs\" textLength=\"8\" x=\"181\" y=\"194.1074\">C</text><line style=\"stroke: #383838; stroke-width: 1.5;\" x1=\"152.5\" x2=\"217.5\" y1=\"201.9375\" y2=\"201.9375\"/><text fill=\"#000000\" font-family=\"sans-serif\" font-size=\"11\" lengthAdjust=\"spacingAndGlyphs\" textLength=\"38\" x=\"157.5\" y=\"232.9526\">x: Real</text><line style=\"stroke: #383838; stroke-width: 1.0;\" x1=\"152.5\" x2=\"157.5\" y1=\"216.3398\" y2=\"216.3398\"/><text fill=\"#000000\" font-family=\"sans-serif\" font-size=\"11\" lengthAdjust=\"spacingAndGlyphs\" textLength=\"55\" x=\"157.5\" y=\"219.6479\">attributes</text><line style=\"stroke: #383838; stroke-width: 1.0;\" x1=\"212.5\" x2=\"217.5\" y1=\"216.3398\" y2=\"216.3398\"/></a><!--MD5=[ebbe1d658d1005bcc118a6aa81145e00]\n",
       "class E4--><a href=\"psysml:8c3cf46e-c423-4c70-a710-66f9a3632f6b\" target=\"_top\" title=\"psysml:8c3cf46e-c423-4c70-a710-66f9a3632f6b\" xlink:actuate=\"onRequest\" xlink:href=\"psysml:8c3cf46e-c423-4c70-a710-66f9a3632f6b\" xlink:show=\"new\" xlink:title=\"psysml:8c3cf46e-c423-4c70-a710-66f9a3632f6b\" xlink:type=\"simple\"><rect fill=\"#FFFFFF\" height=\"45.9375\" id=\"E4\" rx=\"10\" ry=\"10\" style=\"stroke: #383838; stroke-width: 1.5;\" width=\"121\" x=\"97.5\" y=\"301\"/><text fill=\"#000000\" font-family=\"sans-serif\" font-size=\"12\" font-style=\"italic\" lengthAdjust=\"spacingAndGlyphs\" textLength=\"119\" x=\"98.5\" y=\"317.1387\">«assertConstraint»</text><text fill=\"#000000\" font-family=\"sans-serif\" font-size=\"12\" lengthAdjust=\"spacingAndGlyphs\" textLength=\"76\" x=\"120\" y=\"331.1074\">x_constraint</text><line style=\"stroke: #383838; stroke-width: 1.5;\" x1=\"98.5\" x2=\"217.5\" y1=\"338.9375\" y2=\"338.9375\"/></a><!--MD5=[270fce915f116d4de14055a7c1d9a0f3]\n",
       "class E5--><a href=\"psysml:7113fdf5-c3b3-43b5-a3fa-02abb845fbc2\" target=\"_top\" title=\"psysml:7113fdf5-c3b3-43b5-a3fa-02abb845fbc2\" xlink:actuate=\"onRequest\" xlink:href=\"psysml:7113fdf5-c3b3-43b5-a3fa-02abb845fbc2\" xlink:show=\"new\" xlink:title=\"psysml:7113fdf5-c3b3-43b5-a3fa-02abb845fbc2\" xlink:type=\"simple\"><rect fill=\"#FFFFFF\" height=\"45.9375\" id=\"E5\" style=\"stroke: #383838; stroke-width: 1.5;\" width=\"79\" x=\"77.5\" y=\"41\"/><text fill=\"#000000\" font-family=\"sans-serif\" font-size=\"12\" font-style=\"italic\" lengthAdjust=\"spacingAndGlyphs\" textLength=\"77\" x=\"78.5\" y=\"57.1387\">«action def»</text><text fill=\"#000000\" font-family=\"sans-serif\" font-size=\"12\" lengthAdjust=\"spacingAndGlyphs\" textLength=\"27\" x=\"103.5\" y=\"71.1074\">setX</text><line style=\"stroke: #383838; stroke-width: 1.5;\" x1=\"78.5\" x2=\"155.5\" y1=\"78.9375\" y2=\"78.9375\"/></a><!--MD5=[4672eba38e49728da53d11aeb285b987]\n",
       "reverse link E3 to E4--><a href=\"psysml:53eca076-bd38-4ff8-88cd-ccaa057f7e59\" target=\"_top\" title=\"psysml:53eca076-bd38-4ff8-88cd-ccaa057f7e59\" xlink:actuate=\"onRequest\" xlink:href=\"psysml:53eca076-bd38-4ff8-88cd-ccaa057f7e59\" xlink:show=\"new\" xlink:title=\"psysml:53eca076-bd38-4ff8-88cd-ccaa057f7e59\" xlink:type=\"simple\"><path d=\"M173.69,253.27 C169.97,269.82 166.01,287.38 163.01,300.75 \" fill=\"none\" id=\"E3&lt;-E4\" style=\"stroke: #383838; stroke-width: 1.0;\"/><polygon fill=\"#FFFFFF\" points=\"176.61,240.31,171.3948,245.2901,173.9859,252.0196,179.2011,247.0395,176.61,240.31\" style=\"stroke: #383838; stroke-width: 1.0;\"/></a><!--MD5=[6f107eb264eda4b26325f39a5516f1f3]\n",
       "reverse link E5 to E3--><a href=\"psysml:34b277fa-246f-4890-8f8b-22f79f83c872\" target=\"_top\" title=\"psysml:34b277fa-246f-4890-8f8b-22f79f83c872\" xlink:actuate=\"onRequest\" xlink:href=\"psysml:34b277fa-246f-4890-8f8b-22f79f83c872\" xlink:show=\"new\" xlink:title=\"psysml:34b277fa-246f-4890-8f8b-22f79f83c872\" xlink:type=\"simple\"><path d=\"M134,99 C143.89,118.78 156.35,143.71 166.49,163.97 \" fill=\"none\" id=\"E5&lt;-E3\" style=\"stroke: #383838; stroke-width: 1.0;\"/><polygon fill=\"#FFFFFF\" points=\"128.08,87.15,127.1856,94.3054,133.4466,97.8831,134.341,90.7277,128.08,87.15\" style=\"stroke: #383838; stroke-width: 1.0;\"/><text fill=\"#000000\" font-family=\"sans-serif\" font-size=\"13\" lengthAdjust=\"spacingAndGlyphs\" textLength=\"7\" x=\"152\" y=\"130.0669\">c</text></a><!--MD5=[f51c6d1f1856fe338ac0413483fb1ccf]\n",
       "reverse link E5 to E2--><a href=\"psysml:085fc47f-09d9-4ca0-b48d-81ba6e318ca7\" target=\"_top\" title=\"psysml:085fc47f-09d9-4ca0-b48d-81ba6e318ca7\" xlink:actuate=\"onRequest\" xlink:href=\"psysml:085fc47f-09d9-4ca0-b48d-81ba6e318ca7\" xlink:show=\"new\" xlink:title=\"psysml:085fc47f-09d9-4ca0-b48d-81ba6e318ca7\" xlink:type=\"simple\"><path d=\"M104.55,99.41 C102.59,105.25 100.67,111.27 99,117 C92.96,137.73 87.39,161.71 83.67,178.73 \" fill=\"none\" id=\"E5&lt;-E2\" style=\"stroke: #383838; stroke-width: 1.0;\"/><polygon fill=\"#FFFFFF\" points=\"108.8,87.11,103.0605,91.4756,104.8828,98.4527,110.6223,94.0871,108.8,87.11\" style=\"stroke: #383838; stroke-width: 1.0;\"/><text fill=\"#000000\" font-family=\"sans-serif\" font-size=\"13\" lengthAdjust=\"spacingAndGlyphs\" textLength=\"33\" x=\"100\" y=\"130.0669\">newX</text></a><!--MD5=[d19436eaabad3b0e573968d2251ef2c1]\n",
       "@startuml\r\n",
       " skinparam monochrome true\r\n",
       "skinparam classbackgroundcolor white\r\n",
       "skinparam shadowing false\r\n",
       "skinparam wrapWidth 300\r\n",
       "hide circle\r\n",
       "\r\n",
       "package \"TextualRepresentationTest\" as E1  [[psysml:1e396b56-292d-4ed9-bbba-ca6bb661746c ]]  {\r\n",
       "comp def \"Real\" as E2  <<(T,blue) dataType>> [[psysml:2e771e59-55ab-4895-8e71-4691f1152b9b ]] {\r\n",
       "}\r\n",
       "comp def \"C\" as E3  <<(T,blue) item def>> [[psysml:e4de1612-4570-4c3a-878c-e0dca14f25a7 ]] {\r\n",
       "- - attributes - -\r\n",
       "x: Real\r\n",
       "}\r\n",
       "comp usage \"x_constraint\" as E4  <<(T,blue) assertConstraint>> [[psysml:8c3cf46e-c423-4c70-a710-66f9a3632f6b ]] {\r\n",
       "}\r\n",
       "comp def \"setX\" as E5  <<(T,blue) action def>> [[psysml:7113fdf5-c3b3-43b5-a3fa-02abb845fbc2 ]] {\r\n",
       "}\r\n",
       "E3 o- - E4 [[psysml:53eca076-bd38-4ff8-88cd-ccaa057f7e59 ]] \r\n",
       "E5 o- - E3 [[psysml:34b277fa-246f-4890-8f8b-22f79f83c872 ]] : c\r\n",
       "E5 o- - E2 [[psysml:085fc47f-09d9-4ca0-b48d-81ba6e318ca7 ]] : newX\r\n",
       "}\r\n",
       "@enduml\r\n",
       "\n",
       "PlantUML version 1.2020.13(Sat Jun 13 12:26:38 UTC 2020)\n",
       "(EPL source distribution)\n",
       "Java Runtime: OpenJDK Runtime Environment\n",
       "JVM: OpenJDK 64-Bit Server VM\n",
       "Default Encoding: UTF-8\n",
       "Language: en\n",
       "Country: null\n",
       "--></g></svg>"
      ]
     },
     "execution_count": 3,
     "metadata": {},
     "output_type": "execute_result"
    }
   ],
   "source": [
    "%viz --style=\"COMPTREE\" --view=\"Tree\" \"TextualRepresentationTest\""
   ]
  },
  {
   "cell_type": "code",
   "execution_count": 4,
   "id": "c7120c96",
   "metadata": {
    "execution": {
     "iopub.execute_input": "2021-06-30T09:21:15.551906Z",
     "iopub.status.busy": "2021-06-30T09:21:15.551486Z",
     "iopub.status.idle": "2021-06-30T09:21:15.563935Z",
     "shell.execute_reply": "2021-06-30T09:21:15.564289Z"
    }
   },
   "outputs": [
    {
     "data": {
      "image/svg+xml": [
       "<?xml version=\"1.0\" encoding=\"UTF-8\" standalone=\"no\"?><svg xmlns=\"http://www.w3.org/2000/svg\" xmlns:xlink=\"http://www.w3.org/1999/xlink\" contentScriptType=\"application/ecmascript\" contentStyleType=\"text/css\" height=\"12px\" preserveAspectRatio=\"none\" style=\"width:12px;height:12px;\" version=\"1.1\" viewBox=\"0 0 12 12\" width=\"12px\" zoomAndPan=\"magnify\"><defs/><g><!--MD5=[f19188ef49e11757b5c46753f95d9edc]\n",
       "@startuml\r\n",
       " skinparam monochrome true\r\n",
       "skinparam classbackgroundcolor white\r\n",
       "skinparam shadowing false\r\n",
       "skinparam wrapWidth 300\r\n",
       "hide circle\r\n",
       "\r\n",
       "@enduml\r\n",
       "\n",
       "PlantUML version 1.2020.13(Sat Jun 13 12:26:38 UTC 2020)\n",
       "(EPL source distribution)\n",
       "Java Runtime: OpenJDK Runtime Environment\n",
       "JVM: OpenJDK 64-Bit Server VM\n",
       "Default Encoding: UTF-8\n",
       "Language: en\n",
       "Country: null\n",
       "--></g></svg>"
      ]
     },
     "execution_count": 4,
     "metadata": {},
     "output_type": "execute_result"
    }
   ],
   "source": [
    "%viz --style=\"COMPTREE\" --view=\"State\" \"TextualRepresentationTest\""
   ]
  },
  {
   "cell_type": "code",
   "execution_count": 5,
   "id": "ee7b56aa",
   "metadata": {
    "execution": {
     "iopub.execute_input": "2021-06-30T09:21:15.615880Z",
     "iopub.status.busy": "2021-06-30T09:21:15.614595Z",
     "iopub.status.idle": "2021-06-30T09:21:15.685146Z",
     "shell.execute_reply": "2021-06-30T09:21:15.683932Z"
    }
   },
   "outputs": [
    {
     "data": {
      "image/svg+xml": [
       "<?xml version=\"1.0\" encoding=\"UTF-8\" standalone=\"no\"?><svg xmlns=\"http://www.w3.org/2000/svg\" xmlns:xlink=\"http://www.w3.org/1999/xlink\" contentScriptType=\"application/ecmascript\" contentStyleType=\"text/css\" height=\"179px\" preserveAspectRatio=\"none\" style=\"width:398px;height:179px;\" version=\"1.1\" viewBox=\"0 0 398 179\" width=\"398px\" zoomAndPan=\"magnify\"><defs/><g><!--MD5=[fbc87193dbaf4d95561dea2c320d4a47]\n",
       "cluster E1--><a href=\"psysml:1e396b56-292d-4ed9-bbba-ca6bb661746c\" target=\"_top\" title=\"psysml:1e396b56-292d-4ed9-bbba-ca6bb661746c\" xlink:actuate=\"onRequest\" xlink:href=\"psysml:1e396b56-292d-4ed9-bbba-ca6bb661746c\" xlink:show=\"new\" xlink:title=\"psysml:1e396b56-292d-4ed9-bbba-ca6bb661746c\" xlink:type=\"simple\"><polygon fill=\"#FFFFFF\" points=\"16,6,236,6,243,28.2969,376,28.2969,376,167,16,167,16,6\" style=\"stroke: #000000; stroke-width: 1.5;\"/><line style=\"stroke: #000000; stroke-width: 1.5;\" x1=\"16\" x2=\"243\" y1=\"28.2969\" y2=\"28.2969\"/><text fill=\"#000000\" font-family=\"sans-serif\" font-size=\"14\" font-weight=\"bold\" lengthAdjust=\"spacingAndGlyphs\" textLength=\"214\" x=\"20\" y=\"20.9951\">TextualRepresentationTest</text></a><!--MD5=[f6df4d0ebaf0b5dfb2ced0ae5af7c670]\n",
       "cluster E4--><a href=\"psysml:7113fdf5-c3b3-43b5-a3fa-02abb845fbc2\" target=\"_top\" title=\"psysml:7113fdf5-c3b3-43b5-a3fa-02abb845fbc2\" xlink:actuate=\"onRequest\" xlink:href=\"psysml:7113fdf5-c3b3-43b5-a3fa-02abb845fbc2\" xlink:show=\"new\" xlink:title=\"psysml:7113fdf5-c3b3-43b5-a3fa-02abb845fbc2\" xlink:type=\"simple\"><rect fill=\"#FFFFFF\" height=\"88.5\" id=\"E4\" style=\"stroke: #383838; stroke-width: 1.5;\" width=\"96\" x=\"235.5\" y=\"62.5\"/><rect fill=\"#F8F8F8\" height=\"37.9375\" style=\"stroke: #383838; stroke-width: 1.5;\" width=\"96\" x=\"235.5\" y=\"62.5\"/><text fill=\"#000000\" font-family=\"sans-serif\" font-size=\"12\" font-style=\"italic\" lengthAdjust=\"spacingAndGlyphs\" textLength=\"77\" x=\"245\" y=\"78.6387\">«action def»</text><text fill=\"#000000\" font-family=\"sans-serif\" font-size=\"12\" lengthAdjust=\"spacingAndGlyphs\" textLength=\"27\" x=\"270\" y=\"92.6074\">setX</text></a><g id=\"E1.E2\"><a href=\"psysml:2e771e59-55ab-4895-8e71-4691f1152b9b\" target=\"_top\" title=\"psysml:2e771e59-55ab-4895-8e71-4691f1152b9b\" xlink:actuate=\"onRequest\" xlink:href=\"psysml:2e771e59-55ab-4895-8e71-4691f1152b9b\" xlink:show=\"new\" xlink:title=\"psysml:2e771e59-55ab-4895-8e71-4691f1152b9b\" xlink:type=\"simple\"><rect fill=\"#FFFFFF\" height=\"42.9375\" id=\"E2\" style=\"stroke: #383838; stroke-width: 1.5;\" width=\"79\" x=\"139.5\" y=\"41\"/><rect fill=\"#F8F8F8\" height=\"37.9375\" style=\"stroke: #383838; stroke-width: 1.5;\" width=\"79\" x=\"139.5\" y=\"41\"/><text fill=\"#000000\" font-family=\"sans-serif\" font-size=\"12\" font-style=\"italic\" lengthAdjust=\"spacingAndGlyphs\" textLength=\"72\" x=\"143\" y=\"57.1387\">«dataType»</text><text fill=\"#000000\" font-family=\"sans-serif\" font-size=\"12\" lengthAdjust=\"spacingAndGlyphs\" textLength=\"27\" x=\"165.5\" y=\"71.1074\">Real</text></a></g><g id=\"E1.E3\"><a href=\"psysml:e4de1612-4570-4c3a-878c-e0dca14f25a7\" target=\"_top\" title=\"psysml:e4de1612-4570-4c3a-878c-e0dca14f25a7\" xlink:actuate=\"onRequest\" xlink:href=\"psysml:e4de1612-4570-4c3a-878c-e0dca14f25a7\" xlink:show=\"new\" xlink:title=\"psysml:e4de1612-4570-4c3a-878c-e0dca14f25a7\" xlink:type=\"simple\"><rect fill=\"#FFFFFF\" height=\"42.9375\" id=\"E3\" style=\"stroke: #383838; stroke-width: 1.5;\" width=\"72\" x=\"32\" y=\"41\"/><rect fill=\"#F8F8F8\" height=\"37.9375\" style=\"stroke: #383838; stroke-width: 1.5;\" width=\"72\" x=\"32\" y=\"41\"/><text fill=\"#000000\" font-family=\"sans-serif\" font-size=\"12\" font-style=\"italic\" lengthAdjust=\"spacingAndGlyphs\" textLength=\"65\" x=\"35.5\" y=\"57.1387\">«item def»</text><text fill=\"#000000\" font-family=\"sans-serif\" font-size=\"12\" lengthAdjust=\"spacingAndGlyphs\" textLength=\"8\" x=\"64\" y=\"71.1074\">C</text></a></g><text fill=\"#000000\" font-family=\"sans-serif\" font-size=\"14\" lengthAdjust=\"spacingAndGlyphs\" textLength=\"8\" x=\"256\" y=\"41.1982\">c</text><rect fill=\"#383838\" height=\"12\" style=\"stroke: #F8F8F8; stroke-width: 1.5;\" width=\"12\" x=\"254\" y=\"56.5\"/><text fill=\"#000000\" font-family=\"sans-serif\" font-size=\"14\" lengthAdjust=\"spacingAndGlyphs\" textLength=\"38\" x=\"288\" y=\"41.1982\">newX</text><rect fill=\"#383838\" height=\"12\" style=\"stroke: #F8F8F8; stroke-width: 1.5;\" width=\"12\" x=\"301\" y=\"56.5\"/><!--MD5=[ce49cac7f6b69f2d3266b9ecb2838e1b]\n",
       "@startuml\r\n",
       "skinparam ranksep 10\r\n",
       "skinparam rectangle {\r\n",
       " backgroundColor<<block>> LightGreen\r\n",
       "}\r\n",
       " skinparam monochrome true\r\n",
       "skinparam classbackgroundcolor white\r\n",
       "skinparam shadowing false\r\n",
       "skinparam wrapWidth 300\r\n",
       "hide circle\r\n",
       "\r\n",
       "package \"TextualRepresentationTest\" as E1  [[psysml:1e396b56-292d-4ed9-bbba-ca6bb661746c ]]  {\r\n",
       "def \"Real\" as E2  <<(T,blue) dataType>> [[psysml:2e771e59-55ab-4895-8e71-4691f1152b9b ]] \r\n",
       "def \"C\" as E3  <<(T,blue) item def>> [[psysml:e4de1612-4570-4c3a-878c-e0dca14f25a7 ]] \r\n",
       "rec def \"setX\" as E4  <<(T,blue) action def>> [[psysml:7113fdf5-c3b3-43b5-a3fa-02abb845fbc2 ]] {\r\n",
       "portin \"c\" as E5  [[psysml:34b277fa-246f-4890-8f8b-22f79f83c872 ]] \r\n",
       "portin \"newX\" as E6  [[psysml:085fc47f-09d9-4ca0-b48d-81ba6e318ca7 ]] \r\n",
       "}\r\n",
       "\r\n",
       "}\r\n",
       "@enduml\r\n",
       "\n",
       "PlantUML version 1.2020.13(Sat Jun 13 12:26:38 UTC 2020)\n",
       "(EPL source distribution)\n",
       "Java Runtime: OpenJDK Runtime Environment\n",
       "JVM: OpenJDK 64-Bit Server VM\n",
       "Default Encoding: UTF-8\n",
       "Language: en\n",
       "Country: null\n",
       "--></g></svg>"
      ]
     },
     "execution_count": 5,
     "metadata": {},
     "output_type": "execute_result"
    }
   ],
   "source": [
    "%viz --style=\"COMPTREE\" --view=\"Interconnection\" \"TextualRepresentationTest\""
   ]
  },
  {
   "cell_type": "code",
   "execution_count": 6,
   "id": "85763fe1",
   "metadata": {
    "execution": {
     "iopub.execute_input": "2021-06-30T09:21:15.735799Z",
     "iopub.status.busy": "2021-06-30T09:21:15.735245Z",
     "iopub.status.idle": "2021-06-30T09:21:15.788243Z",
     "shell.execute_reply": "2021-06-30T09:21:15.786578Z"
    }
   },
   "outputs": [
    {
     "data": {
      "image/svg+xml": [
       "<?xml version=\"1.0\" encoding=\"UTF-8\" standalone=\"no\"?><svg xmlns=\"http://www.w3.org/2000/svg\" xmlns:xlink=\"http://www.w3.org/1999/xlink\" contentScriptType=\"application/ecmascript\" contentStyleType=\"text/css\" height=\"126px\" preserveAspectRatio=\"none\" style=\"width:150px;height:126px;\" version=\"1.1\" viewBox=\"0 0 150 126\" width=\"150px\" zoomAndPan=\"magnify\"><defs/><g><!--MD5=[fbc87193dbaf4d95561dea2c320d4a47]\n",
       "cluster E1--><a href=\"psysml:7113fdf5-c3b3-43b5-a3fa-02abb845fbc2\" target=\"_top\" title=\"psysml:7113fdf5-c3b3-43b5-a3fa-02abb845fbc2\" xlink:actuate=\"onRequest\" xlink:href=\"psysml:7113fdf5-c3b3-43b5-a3fa-02abb845fbc2\" xlink:show=\"new\" xlink:title=\"psysml:7113fdf5-c3b3-43b5-a3fa-02abb845fbc2\" xlink:type=\"simple\"><rect fill=\"#FFFFFF\" height=\"73\" id=\"E1\" style=\"stroke: #383838; stroke-width: 1.5;\" width=\"132\" x=\"7\" y=\"42.0986\"/><rect fill=\"#F8F8F8\" height=\"37.9375\" style=\"stroke: #383838; stroke-width: 1.5;\" width=\"132\" x=\"7\" y=\"42.0986\"/><text fill=\"#000000\" font-family=\"sans-serif\" font-size=\"12\" font-style=\"italic\" lengthAdjust=\"spacingAndGlyphs\" textLength=\"77\" x=\"34.5\" y=\"58.2373\">«action def»</text><text fill=\"#000000\" font-family=\"sans-serif\" font-size=\"12\" lengthAdjust=\"spacingAndGlyphs\" textLength=\"27\" x=\"59.5\" y=\"72.2061\">setX</text></a><text fill=\"#000000\" font-family=\"sans-serif\" font-size=\"14\" lengthAdjust=\"spacingAndGlyphs\" textLength=\"8\" x=\"21\" y=\"20.7969\">c</text><rect fill=\"#383838\" height=\"12\" style=\"stroke: #F8F8F8; stroke-width: 1.5;\" width=\"12\" x=\"19\" y=\"36.0986\"/><text fill=\"#000000\" font-family=\"sans-serif\" font-size=\"14\" lengthAdjust=\"spacingAndGlyphs\" textLength=\"38\" x=\"53\" y=\"20.7969\">newX</text><rect fill=\"#383838\" height=\"12\" style=\"stroke: #F8F8F8; stroke-width: 1.5;\" width=\"12\" x=\"66\" y=\"36.0986\"/><!--MD5=[852c6a33359253601829744c88249e26]\n",
       "@startuml\r\n",
       "skinparam ranksep 8\r\n",
       " skinparam monochrome true\r\n",
       "skinparam classbackgroundcolor white\r\n",
       "skinparam shadowing false\r\n",
       "skinparam wrapWidth 300\r\n",
       "hide circle\r\n",
       "\r\n",
       "rec def \"setX\" as E1  <<(T,blue) action def>> [[psysml:7113fdf5-c3b3-43b5-a3fa-02abb845fbc2 ]] {\r\n",
       "portin \"c\" as E2  [[psysml:34b277fa-246f-4890-8f8b-22f79f83c872 ]] \r\n",
       "portin \"newX\" as E3  [[psysml:085fc47f-09d9-4ca0-b48d-81ba6e318ca7 ]] \r\n",
       "}\r\n",
       "\r\n",
       "@enduml\r\n",
       "\n",
       "PlantUML version 1.2020.13(Sat Jun 13 12:26:38 UTC 2020)\n",
       "(EPL source distribution)\n",
       "Java Runtime: OpenJDK Runtime Environment\n",
       "JVM: OpenJDK 64-Bit Server VM\n",
       "Default Encoding: UTF-8\n",
       "Language: en\n",
       "Country: null\n",
       "--></g></svg>"
      ]
     },
     "execution_count": 6,
     "metadata": {},
     "output_type": "execute_result"
    }
   ],
   "source": [
    "%viz --style=\"COMPTREE\" --view=\"Action\" \"TextualRepresentationTest\""
   ]
  },
  {
   "cell_type": "code",
   "execution_count": 7,
   "id": "3edf1b2e",
   "metadata": {
    "execution": {
     "iopub.execute_input": "2021-06-30T09:21:15.838153Z",
     "iopub.status.busy": "2021-06-30T09:21:15.837065Z",
     "iopub.status.idle": "2021-06-30T09:21:15.926498Z",
     "shell.execute_reply": "2021-06-30T09:21:15.925977Z"
    }
   },
   "outputs": [
    {
     "data": {
      "image/svg+xml": [
       "<?xml version=\"1.0\" encoding=\"UTF-8\" standalone=\"no\"?><svg xmlns=\"http://www.w3.org/2000/svg\" xmlns:xlink=\"http://www.w3.org/1999/xlink\" contentScriptType=\"application/ecmascript\" contentStyleType=\"text/css\" height=\"375px\" preserveAspectRatio=\"none\" style=\"width:268px;height:375px;\" version=\"1.1\" viewBox=\"0 0 268 375\" width=\"268px\" zoomAndPan=\"magnify\"><defs/><g><!--MD5=[fbc87193dbaf4d95561dea2c320d4a47]\n",
       "cluster E1--><a href=\"psysml:1e396b56-292d-4ed9-bbba-ca6bb661746c\" target=\"_top\" title=\"psysml:1e396b56-292d-4ed9-bbba-ca6bb661746c\" xlink:actuate=\"onRequest\" xlink:href=\"psysml:1e396b56-292d-4ed9-bbba-ca6bb661746c\" xlink:show=\"new\" xlink:title=\"psysml:1e396b56-292d-4ed9-bbba-ca6bb661746c\" xlink:type=\"simple\"><polygon fill=\"#FFFFFF\" points=\"16,6,236,6,243,28.2969,246,28.2969,246,363,16,363,16,6\" style=\"stroke: #000000; stroke-width: 1.5;\"/><line style=\"stroke: #000000; stroke-width: 1.5;\" x1=\"16\" x2=\"243\" y1=\"28.2969\" y2=\"28.2969\"/><text fill=\"#000000\" font-family=\"sans-serif\" font-size=\"14\" font-weight=\"bold\" lengthAdjust=\"spacingAndGlyphs\" textLength=\"214\" x=\"20\" y=\"20.9951\">TextualRepresentationTest</text></a><!--MD5=[b4997ac47864f28c2f74865a473b2911]\n",
       "class E2--><a href=\"psysml:2e771e59-55ab-4895-8e71-4691f1152b9b\" target=\"_top\" title=\"psysml:2e771e59-55ab-4895-8e71-4691f1152b9b\" xlink:actuate=\"onRequest\" xlink:href=\"psysml:2e771e59-55ab-4895-8e71-4691f1152b9b\" xlink:show=\"new\" xlink:title=\"psysml:2e771e59-55ab-4895-8e71-4691f1152b9b\" xlink:type=\"simple\"><rect fill=\"#FFFFFF\" height=\"45.9375\" id=\"E2\" style=\"stroke: #383838; stroke-width: 1.5;\" width=\"74\" x=\"42\" y=\"179\"/><text fill=\"#000000\" font-family=\"sans-serif\" font-size=\"12\" font-style=\"italic\" lengthAdjust=\"spacingAndGlyphs\" textLength=\"72\" x=\"43\" y=\"195.1387\">«dataType»</text><text fill=\"#000000\" font-family=\"sans-serif\" font-size=\"12\" lengthAdjust=\"spacingAndGlyphs\" textLength=\"27\" x=\"65.5\" y=\"209.1074\">Real</text><line style=\"stroke: #383838; stroke-width: 1.5;\" x1=\"43\" x2=\"115\" y1=\"216.9375\" y2=\"216.9375\"/></a><!--MD5=[09b614a08d8cba4a07c9adeb5e0fee81]\n",
       "class E3--><a href=\"psysml:e4de1612-4570-4c3a-878c-e0dca14f25a7\" target=\"_top\" title=\"psysml:e4de1612-4570-4c3a-878c-e0dca14f25a7\" xlink:actuate=\"onRequest\" xlink:href=\"psysml:e4de1612-4570-4c3a-878c-e0dca14f25a7\" xlink:show=\"new\" xlink:title=\"psysml:e4de1612-4570-4c3a-878c-e0dca14f25a7\" xlink:type=\"simple\"><rect fill=\"#FFFFFF\" height=\"75.5469\" id=\"E3\" style=\"stroke: #383838; stroke-width: 1.5;\" width=\"67\" x=\"151.5\" y=\"164\"/><text fill=\"#000000\" font-family=\"sans-serif\" font-size=\"12\" font-style=\"italic\" lengthAdjust=\"spacingAndGlyphs\" textLength=\"65\" x=\"152.5\" y=\"180.1387\">«item def»</text><text fill=\"#000000\" font-family=\"sans-serif\" font-size=\"12\" lengthAdjust=\"spacingAndGlyphs\" textLength=\"8\" x=\"181\" y=\"194.1074\">C</text><line style=\"stroke: #383838; stroke-width: 1.5;\" x1=\"152.5\" x2=\"217.5\" y1=\"201.9375\" y2=\"201.9375\"/><text fill=\"#000000\" font-family=\"sans-serif\" font-size=\"11\" lengthAdjust=\"spacingAndGlyphs\" textLength=\"38\" x=\"157.5\" y=\"232.9526\">x: Real</text><line style=\"stroke: #383838; stroke-width: 1.0;\" x1=\"152.5\" x2=\"157.5\" y1=\"216.3398\" y2=\"216.3398\"/><text fill=\"#000000\" font-family=\"sans-serif\" font-size=\"11\" lengthAdjust=\"spacingAndGlyphs\" textLength=\"55\" x=\"157.5\" y=\"219.6479\">attributes</text><line style=\"stroke: #383838; stroke-width: 1.0;\" x1=\"212.5\" x2=\"217.5\" y1=\"216.3398\" y2=\"216.3398\"/></a><!--MD5=[ebbe1d658d1005bcc118a6aa81145e00]\n",
       "class E4--><a href=\"psysml:8c3cf46e-c423-4c70-a710-66f9a3632f6b\" target=\"_top\" title=\"psysml:8c3cf46e-c423-4c70-a710-66f9a3632f6b\" xlink:actuate=\"onRequest\" xlink:href=\"psysml:8c3cf46e-c423-4c70-a710-66f9a3632f6b\" xlink:show=\"new\" xlink:title=\"psysml:8c3cf46e-c423-4c70-a710-66f9a3632f6b\" xlink:type=\"simple\"><rect fill=\"#FFFFFF\" height=\"45.9375\" id=\"E4\" rx=\"10\" ry=\"10\" style=\"stroke: #383838; stroke-width: 1.5;\" width=\"121\" x=\"97.5\" y=\"301\"/><text fill=\"#000000\" font-family=\"sans-serif\" font-size=\"12\" font-style=\"italic\" lengthAdjust=\"spacingAndGlyphs\" textLength=\"119\" x=\"98.5\" y=\"317.1387\">«assertConstraint»</text><text fill=\"#000000\" font-family=\"sans-serif\" font-size=\"12\" lengthAdjust=\"spacingAndGlyphs\" textLength=\"76\" x=\"120\" y=\"331.1074\">x_constraint</text><line style=\"stroke: #383838; stroke-width: 1.5;\" x1=\"98.5\" x2=\"217.5\" y1=\"338.9375\" y2=\"338.9375\"/></a><!--MD5=[270fce915f116d4de14055a7c1d9a0f3]\n",
       "class E5--><a href=\"psysml:7113fdf5-c3b3-43b5-a3fa-02abb845fbc2\" target=\"_top\" title=\"psysml:7113fdf5-c3b3-43b5-a3fa-02abb845fbc2\" xlink:actuate=\"onRequest\" xlink:href=\"psysml:7113fdf5-c3b3-43b5-a3fa-02abb845fbc2\" xlink:show=\"new\" xlink:title=\"psysml:7113fdf5-c3b3-43b5-a3fa-02abb845fbc2\" xlink:type=\"simple\"><rect fill=\"#FFFFFF\" height=\"45.9375\" id=\"E5\" style=\"stroke: #383838; stroke-width: 1.5;\" width=\"79\" x=\"77.5\" y=\"41\"/><text fill=\"#000000\" font-family=\"sans-serif\" font-size=\"12\" font-style=\"italic\" lengthAdjust=\"spacingAndGlyphs\" textLength=\"77\" x=\"78.5\" y=\"57.1387\">«action def»</text><text fill=\"#000000\" font-family=\"sans-serif\" font-size=\"12\" lengthAdjust=\"spacingAndGlyphs\" textLength=\"27\" x=\"103.5\" y=\"71.1074\">setX</text><line style=\"stroke: #383838; stroke-width: 1.5;\" x1=\"78.5\" x2=\"155.5\" y1=\"78.9375\" y2=\"78.9375\"/></a><!--MD5=[4672eba38e49728da53d11aeb285b987]\n",
       "reverse link E3 to E4--><a href=\"psysml:53eca076-bd38-4ff8-88cd-ccaa057f7e59\" target=\"_top\" title=\"psysml:53eca076-bd38-4ff8-88cd-ccaa057f7e59\" xlink:actuate=\"onRequest\" xlink:href=\"psysml:53eca076-bd38-4ff8-88cd-ccaa057f7e59\" xlink:show=\"new\" xlink:title=\"psysml:53eca076-bd38-4ff8-88cd-ccaa057f7e59\" xlink:type=\"simple\"><path d=\"M173.69,253.27 C169.97,269.82 166.01,287.38 163.01,300.75 \" fill=\"none\" id=\"E3&lt;-E4\" style=\"stroke: #383838; stroke-width: 1.0;\"/><polygon fill=\"#FFFFFF\" points=\"176.61,240.31,171.3948,245.2901,173.9859,252.0196,179.2011,247.0395,176.61,240.31\" style=\"stroke: #383838; stroke-width: 1.0;\"/></a><!--MD5=[6f107eb264eda4b26325f39a5516f1f3]\n",
       "reverse link E5 to E3--><a href=\"psysml:34b277fa-246f-4890-8f8b-22f79f83c872\" target=\"_top\" title=\"psysml:34b277fa-246f-4890-8f8b-22f79f83c872\" xlink:actuate=\"onRequest\" xlink:href=\"psysml:34b277fa-246f-4890-8f8b-22f79f83c872\" xlink:show=\"new\" xlink:title=\"psysml:34b277fa-246f-4890-8f8b-22f79f83c872\" xlink:type=\"simple\"><path d=\"M134,99 C143.89,118.78 156.35,143.71 166.49,163.97 \" fill=\"none\" id=\"E5&lt;-E3\" style=\"stroke: #383838; stroke-width: 1.0;\"/><polygon fill=\"#FFFFFF\" points=\"128.08,87.15,127.1856,94.3054,133.4466,97.8831,134.341,90.7277,128.08,87.15\" style=\"stroke: #383838; stroke-width: 1.0;\"/><text fill=\"#000000\" font-family=\"sans-serif\" font-size=\"13\" lengthAdjust=\"spacingAndGlyphs\" textLength=\"7\" x=\"152\" y=\"130.0669\">c</text></a><!--MD5=[f51c6d1f1856fe338ac0413483fb1ccf]\n",
       "reverse link E5 to E2--><a href=\"psysml:085fc47f-09d9-4ca0-b48d-81ba6e318ca7\" target=\"_top\" title=\"psysml:085fc47f-09d9-4ca0-b48d-81ba6e318ca7\" xlink:actuate=\"onRequest\" xlink:href=\"psysml:085fc47f-09d9-4ca0-b48d-81ba6e318ca7\" xlink:show=\"new\" xlink:title=\"psysml:085fc47f-09d9-4ca0-b48d-81ba6e318ca7\" xlink:type=\"simple\"><path d=\"M104.55,99.41 C102.59,105.25 100.67,111.27 99,117 C92.96,137.73 87.39,161.71 83.67,178.73 \" fill=\"none\" id=\"E5&lt;-E2\" style=\"stroke: #383838; stroke-width: 1.0;\"/><polygon fill=\"#FFFFFF\" points=\"108.8,87.11,103.0605,91.4756,104.8828,98.4527,110.6223,94.0871,108.8,87.11\" style=\"stroke: #383838; stroke-width: 1.0;\"/><text fill=\"#000000\" font-family=\"sans-serif\" font-size=\"13\" lengthAdjust=\"spacingAndGlyphs\" textLength=\"33\" x=\"100\" y=\"130.0669\">newX</text></a><!--MD5=[d19436eaabad3b0e573968d2251ef2c1]\n",
       "@startuml\r\n",
       " skinparam monochrome true\r\n",
       "skinparam classbackgroundcolor white\r\n",
       "skinparam shadowing false\r\n",
       "skinparam wrapWidth 300\r\n",
       "hide circle\r\n",
       "\r\n",
       "package \"TextualRepresentationTest\" as E1  [[psysml:1e396b56-292d-4ed9-bbba-ca6bb661746c ]]  {\r\n",
       "comp def \"Real\" as E2  <<(T,blue) dataType>> [[psysml:2e771e59-55ab-4895-8e71-4691f1152b9b ]] {\r\n",
       "}\r\n",
       "comp def \"C\" as E3  <<(T,blue) item def>> [[psysml:e4de1612-4570-4c3a-878c-e0dca14f25a7 ]] {\r\n",
       "- - attributes - -\r\n",
       "x: Real\r\n",
       "}\r\n",
       "comp usage \"x_constraint\" as E4  <<(T,blue) assertConstraint>> [[psysml:8c3cf46e-c423-4c70-a710-66f9a3632f6b ]] {\r\n",
       "}\r\n",
       "comp def \"setX\" as E5  <<(T,blue) action def>> [[psysml:7113fdf5-c3b3-43b5-a3fa-02abb845fbc2 ]] {\r\n",
       "}\r\n",
       "E3 o- - E4 [[psysml:53eca076-bd38-4ff8-88cd-ccaa057f7e59 ]] \r\n",
       "E5 o- - E3 [[psysml:34b277fa-246f-4890-8f8b-22f79f83c872 ]] : c\r\n",
       "E5 o- - E2 [[psysml:085fc47f-09d9-4ca0-b48d-81ba6e318ca7 ]] : newX\r\n",
       "}\r\n",
       "@enduml\r\n",
       "\n",
       "PlantUML version 1.2020.13(Sat Jun 13 12:26:38 UTC 2020)\n",
       "(EPL source distribution)\n",
       "Java Runtime: OpenJDK Runtime Environment\n",
       "JVM: OpenJDK 64-Bit Server VM\n",
       "Default Encoding: UTF-8\n",
       "Language: en\n",
       "Country: null\n",
       "--></g></svg>"
      ]
     },
     "execution_count": 7,
     "metadata": {},
     "output_type": "execute_result"
    }
   ],
   "source": [
    "%viz --style=\"COMPTREE\" --view=\"Sequence\" \"TextualRepresentationTest\""
   ]
  },
  {
   "cell_type": "code",
   "execution_count": 8,
   "id": "01bd293d",
   "metadata": {
    "execution": {
     "iopub.execute_input": "2021-06-30T09:21:15.976360Z",
     "iopub.status.busy": "2021-06-30T09:21:15.975834Z",
     "iopub.status.idle": "2021-06-30T09:21:16.090657Z",
     "shell.execute_reply": "2021-06-30T09:21:16.088309Z"
    }
   },
   "outputs": [
    {
     "data": {
      "image/svg+xml": [
       "<?xml version=\"1.0\" encoding=\"UTF-8\" standalone=\"no\"?><svg xmlns=\"http://www.w3.org/2000/svg\" xmlns:xlink=\"http://www.w3.org/1999/xlink\" contentScriptType=\"application/ecmascript\" contentStyleType=\"text/css\" height=\"261px\" preserveAspectRatio=\"none\" style=\"width:389px;height:261px;\" version=\"1.1\" viewBox=\"0 0 389 261\" width=\"389px\" zoomAndPan=\"magnify\"><defs/><g><!--MD5=[fbc87193dbaf4d95561dea2c320d4a47]\n",
       "cluster E1--><a href=\"psysml:1e396b56-292d-4ed9-bbba-ca6bb661746c\" target=\"_top\" title=\"psysml:1e396b56-292d-4ed9-bbba-ca6bb661746c\" xlink:actuate=\"onRequest\" xlink:href=\"psysml:1e396b56-292d-4ed9-bbba-ca6bb661746c\" xlink:show=\"new\" xlink:title=\"psysml:1e396b56-292d-4ed9-bbba-ca6bb661746c\" xlink:type=\"simple\"><polygon fill=\"#FFFFFF\" points=\"16,6,236,6,243,28.2969,367,28.2969,367,249.5,16,249.5,16,6\" style=\"stroke: #000000; stroke-width: 1.5;\"/><line style=\"stroke: #000000; stroke-width: 1.5;\" x1=\"16\" x2=\"243\" y1=\"28.2969\" y2=\"28.2969\"/><text fill=\"#000000\" font-family=\"sans-serif\" font-size=\"14\" font-weight=\"bold\" lengthAdjust=\"spacingAndGlyphs\" textLength=\"214\" x=\"20\" y=\"20.9951\">TextualRepresentationTest</text></a><!--MD5=[de5ec2e2e8f62f467e546659f5068c88]\n",
       "cluster E5--><a href=\"psysml:7113fdf5-c3b3-43b5-a3fa-02abb845fbc2\" target=\"_top\" title=\"psysml:7113fdf5-c3b3-43b5-a3fa-02abb845fbc2\" xlink:actuate=\"onRequest\" xlink:href=\"psysml:7113fdf5-c3b3-43b5-a3fa-02abb845fbc2\" xlink:show=\"new\" xlink:title=\"psysml:7113fdf5-c3b3-43b5-a3fa-02abb845fbc2\" xlink:type=\"simple\"><rect fill=\"#FFFFFF\" height=\"154.5\" id=\"E5\" style=\"stroke: #383838; stroke-width: 1.5;\" width=\"96\" x=\"225.5\" y=\"79\"/><rect fill=\"#F8F8F8\" height=\"37.9375\" style=\"stroke: #383838; stroke-width: 1.5;\" width=\"96\" x=\"225.5\" y=\"79\"/><text fill=\"#000000\" font-family=\"sans-serif\" font-size=\"12\" font-style=\"italic\" lengthAdjust=\"spacingAndGlyphs\" textLength=\"77\" x=\"235\" y=\"95.1387\">«action def»</text><text fill=\"#000000\" font-family=\"sans-serif\" font-size=\"12\" lengthAdjust=\"spacingAndGlyphs\" textLength=\"27\" x=\"260\" y=\"109.1074\">setX</text></a><!--MD5=[b4997ac47864f28c2f74865a473b2911]\n",
       "class E2--><a href=\"psysml:2e771e59-55ab-4895-8e71-4691f1152b9b\" target=\"_top\" title=\"psysml:2e771e59-55ab-4895-8e71-4691f1152b9b\" xlink:actuate=\"onRequest\" xlink:href=\"psysml:2e771e59-55ab-4895-8e71-4691f1152b9b\" xlink:show=\"new\" xlink:title=\"psysml:2e771e59-55ab-4895-8e71-4691f1152b9b\" xlink:type=\"simple\"><rect fill=\"#FFFFFF\" height=\"45.9375\" id=\"E2\" style=\"stroke: #383838; stroke-width: 1.5;\" width=\"74\" x=\"135\" y=\"56\"/><text fill=\"#000000\" font-family=\"sans-serif\" font-size=\"12\" font-style=\"italic\" lengthAdjust=\"spacingAndGlyphs\" textLength=\"72\" x=\"136\" y=\"72.1387\">«dataType»</text><text fill=\"#000000\" font-family=\"sans-serif\" font-size=\"12\" lengthAdjust=\"spacingAndGlyphs\" textLength=\"27\" x=\"158.5\" y=\"86.1074\">Real</text><line style=\"stroke: #383838; stroke-width: 1.5;\" x1=\"136\" x2=\"208\" y1=\"93.9375\" y2=\"93.9375\"/></a><!--MD5=[09b614a08d8cba4a07c9adeb5e0fee81]\n",
       "class E3--><a href=\"psysml:e4de1612-4570-4c3a-878c-e0dca14f25a7\" target=\"_top\" title=\"psysml:e4de1612-4570-4c3a-878c-e0dca14f25a7\" xlink:actuate=\"onRequest\" xlink:href=\"psysml:e4de1612-4570-4c3a-878c-e0dca14f25a7\" xlink:show=\"new\" xlink:title=\"psysml:e4de1612-4570-4c3a-878c-e0dca14f25a7\" xlink:type=\"simple\"><rect fill=\"#FFFFFF\" height=\"75.5469\" id=\"E3\" style=\"stroke: #383838; stroke-width: 1.5;\" width=\"67\" x=\"32.5\" y=\"41\"/><text fill=\"#000000\" font-family=\"sans-serif\" font-size=\"12\" font-style=\"italic\" lengthAdjust=\"spacingAndGlyphs\" textLength=\"65\" x=\"33.5\" y=\"57.1387\">«item def»</text><text fill=\"#000000\" font-family=\"sans-serif\" font-size=\"12\" lengthAdjust=\"spacingAndGlyphs\" textLength=\"8\" x=\"62\" y=\"71.1074\">C</text><line style=\"stroke: #383838; stroke-width: 1.5;\" x1=\"33.5\" x2=\"98.5\" y1=\"78.9375\" y2=\"78.9375\"/><text fill=\"#000000\" font-family=\"sans-serif\" font-size=\"11\" lengthAdjust=\"spacingAndGlyphs\" textLength=\"38\" x=\"38.5\" y=\"109.9526\">x: Real</text><line style=\"stroke: #383838; stroke-width: 1.0;\" x1=\"33.5\" x2=\"38.5\" y1=\"93.3398\" y2=\"93.3398\"/><text fill=\"#000000\" font-family=\"sans-serif\" font-size=\"11\" lengthAdjust=\"spacingAndGlyphs\" textLength=\"55\" x=\"38.5\" y=\"96.6479\">attributes</text><line style=\"stroke: #383838; stroke-width: 1.0;\" x1=\"93.5\" x2=\"98.5\" y1=\"93.3398\" y2=\"93.3398\"/></a><!--MD5=[ebbe1d658d1005bcc118a6aa81145e00]\n",
       "class E4--><a href=\"psysml:8c3cf46e-c423-4c70-a710-66f9a3632f6b\" target=\"_top\" title=\"psysml:8c3cf46e-c423-4c70-a710-66f9a3632f6b\" xlink:actuate=\"onRequest\" xlink:href=\"psysml:8c3cf46e-c423-4c70-a710-66f9a3632f6b\" xlink:show=\"new\" xlink:title=\"psysml:8c3cf46e-c423-4c70-a710-66f9a3632f6b\" xlink:type=\"simple\"><rect fill=\"#FFFFFF\" height=\"45.9375\" id=\"E4\" rx=\"10\" ry=\"10\" style=\"stroke: #383838; stroke-width: 1.5;\" width=\"121\" x=\"32.5\" y=\"177\"/><text fill=\"#000000\" font-family=\"sans-serif\" font-size=\"12\" font-style=\"italic\" lengthAdjust=\"spacingAndGlyphs\" textLength=\"119\" x=\"33.5\" y=\"193.1387\">«assertConstraint»</text><text fill=\"#000000\" font-family=\"sans-serif\" font-size=\"12\" lengthAdjust=\"spacingAndGlyphs\" textLength=\"76\" x=\"55\" y=\"207.1074\">x_constraint</text><line style=\"stroke: #383838; stroke-width: 1.5;\" x1=\"33.5\" x2=\"152.5\" y1=\"214.9375\" y2=\"214.9375\"/></a><text fill=\"#000000\" font-family=\"sans-serif\" font-size=\"14\" lengthAdjust=\"spacingAndGlyphs\" textLength=\"8\" x=\"246\" y=\"57.6982\">c</text><rect fill=\"#383838\" height=\"12\" style=\"stroke: #F8F8F8; stroke-width: 1.5;\" width=\"12\" x=\"244\" y=\"73\"/><text fill=\"#000000\" font-family=\"sans-serif\" font-size=\"14\" lengthAdjust=\"spacingAndGlyphs\" textLength=\"38\" x=\"278\" y=\"57.6982\">newX</text><rect fill=\"#383838\" height=\"12\" style=\"stroke: #F8F8F8; stroke-width: 1.5;\" width=\"12\" x=\"291\" y=\"73\"/><!--MD5=[4672eba38e49728da53d11aeb285b987]\n",
       "reverse link E3 to E4--><a href=\"psysml:53eca076-bd38-4ff8-88cd-ccaa057f7e59\" target=\"_top\" title=\"psysml:53eca076-bd38-4ff8-88cd-ccaa057f7e59\" xlink:actuate=\"onRequest\" xlink:href=\"psysml:53eca076-bd38-4ff8-88cd-ccaa057f7e59\" xlink:show=\"new\" xlink:title=\"psysml:53eca076-bd38-4ff8-88cd-ccaa057f7e59\" xlink:type=\"simple\"><path d=\"M77.31,129.85 C81.03,146.26 84.99,163.68 87.99,176.93 \" fill=\"none\" id=\"E3&lt;-E4\" style=\"stroke: #383838; stroke-width: 1.0;\"/><polygon fill=\"#FFFFFF\" points=\"74.39,117,71.8133,123.735,77.0392,128.7039,79.6159,121.9689,74.39,117\" style=\"stroke: #383838; stroke-width: 1.0;\"/></a><!--MD5=[1fe090a83853d4fad2d8e7bdc3b68043]\n",
       "@startuml\r\n",
       " skinparam monochrome true\r\n",
       "skinparam classbackgroundcolor white\r\n",
       "skinparam shadowing false\r\n",
       "skinparam wrapWidth 300\r\n",
       "hide circle\r\n",
       "\r\n",
       "package \"TextualRepresentationTest\" as E1  [[psysml:1e396b56-292d-4ed9-bbba-ca6bb661746c ]]  {\r\n",
       "comp def \"Real\" as E2  <<(T,blue) dataType>> [[psysml:2e771e59-55ab-4895-8e71-4691f1152b9b ]] {\r\n",
       "}\r\n",
       "comp def \"C\" as E3  <<(T,blue) item def>> [[psysml:e4de1612-4570-4c3a-878c-e0dca14f25a7 ]] {\r\n",
       "- - attributes - -\r\n",
       "x: Real\r\n",
       "}\r\n",
       "comp usage \"x_constraint\" as E4  <<(T,blue) assertConstraint>> [[psysml:8c3cf46e-c423-4c70-a710-66f9a3632f6b ]] {\r\n",
       "}\r\n",
       "rec def \"setX\" as E5  <<(T,blue) action def>> [[psysml:7113fdf5-c3b3-43b5-a3fa-02abb845fbc2 ]] {\r\n",
       "portin \"c\" as E6  [[psysml:34b277fa-246f-4890-8f8b-22f79f83c872 ]] \r\n",
       "portin \"newX\" as E7  [[psysml:085fc47f-09d9-4ca0-b48d-81ba6e318ca7 ]] \r\n",
       "}\r\n",
       "\r\n",
       "E3 o- - E4 [[psysml:53eca076-bd38-4ff8-88cd-ccaa057f7e59 ]] \r\n",
       "}\r\n",
       "@enduml\r\n",
       "\n",
       "PlantUML version 1.2020.13(Sat Jun 13 12:26:38 UTC 2020)\n",
       "(EPL source distribution)\n",
       "Java Runtime: OpenJDK Runtime Environment\n",
       "JVM: OpenJDK 64-Bit Server VM\n",
       "Default Encoding: UTF-8\n",
       "Language: en\n",
       "Country: null\n",
       "--></g></svg>"
      ]
     },
     "execution_count": 8,
     "metadata": {},
     "output_type": "execute_result"
    }
   ],
   "source": [
    "%viz --style=\"COMPTREE\" --view=\"MIXED\" \"TextualRepresentationTest\""
   ]
  },
  {
   "cell_type": "code",
   "execution_count": 9,
   "id": "ab3c1166",
   "metadata": {
    "execution": {
     "iopub.execute_input": "2021-06-30T09:21:16.143005Z",
     "iopub.status.busy": "2021-06-30T09:21:16.142188Z",
     "iopub.status.idle": "2021-06-30T09:21:16.228743Z",
     "shell.execute_reply": "2021-06-30T09:21:16.228349Z"
    }
   },
   "outputs": [
    {
     "data": {
      "image/svg+xml": [
       "<?xml version=\"1.0\" encoding=\"UTF-8\" standalone=\"no\"?><svg xmlns=\"http://www.w3.org/2000/svg\" xmlns:xlink=\"http://www.w3.org/1999/xlink\" contentScriptType=\"application/ecmascript\" contentStyleType=\"text/css\" height=\"261px\" preserveAspectRatio=\"none\" style=\"width:389px;height:261px;\" version=\"1.1\" viewBox=\"0 0 389 261\" width=\"389px\" zoomAndPan=\"magnify\"><defs/><g><!--MD5=[fbc87193dbaf4d95561dea2c320d4a47]\n",
       "cluster E1--><a href=\"psysml:1e396b56-292d-4ed9-bbba-ca6bb661746c\" target=\"_top\" title=\"psysml:1e396b56-292d-4ed9-bbba-ca6bb661746c\" xlink:actuate=\"onRequest\" xlink:href=\"psysml:1e396b56-292d-4ed9-bbba-ca6bb661746c\" xlink:show=\"new\" xlink:title=\"psysml:1e396b56-292d-4ed9-bbba-ca6bb661746c\" xlink:type=\"simple\"><polygon fill=\"#FFFFFF\" points=\"16,6,236,6,243,28.2969,367,28.2969,367,249.5,16,249.5,16,6\" style=\"stroke: #000000; stroke-width: 1.5;\"/><line style=\"stroke: #000000; stroke-width: 1.5;\" x1=\"16\" x2=\"243\" y1=\"28.2969\" y2=\"28.2969\"/><text fill=\"#000000\" font-family=\"sans-serif\" font-size=\"14\" font-weight=\"bold\" lengthAdjust=\"spacingAndGlyphs\" textLength=\"214\" x=\"20\" y=\"20.9951\">TextualRepresentationTest</text></a><!--MD5=[de5ec2e2e8f62f467e546659f5068c88]\n",
       "cluster E5--><a href=\"psysml:7113fdf5-c3b3-43b5-a3fa-02abb845fbc2\" target=\"_top\" title=\"psysml:7113fdf5-c3b3-43b5-a3fa-02abb845fbc2\" xlink:actuate=\"onRequest\" xlink:href=\"psysml:7113fdf5-c3b3-43b5-a3fa-02abb845fbc2\" xlink:show=\"new\" xlink:title=\"psysml:7113fdf5-c3b3-43b5-a3fa-02abb845fbc2\" xlink:type=\"simple\"><rect fill=\"#FFFFFF\" height=\"154.5\" id=\"E5\" style=\"stroke: #383838; stroke-width: 1.5;\" width=\"96\" x=\"225.5\" y=\"79\"/><rect fill=\"#F8F8F8\" height=\"37.9375\" style=\"stroke: #383838; stroke-width: 1.5;\" width=\"96\" x=\"225.5\" y=\"79\"/><text fill=\"#000000\" font-family=\"sans-serif\" font-size=\"12\" font-style=\"italic\" lengthAdjust=\"spacingAndGlyphs\" textLength=\"77\" x=\"235\" y=\"95.1387\">«action def»</text><text fill=\"#000000\" font-family=\"sans-serif\" font-size=\"12\" lengthAdjust=\"spacingAndGlyphs\" textLength=\"27\" x=\"260\" y=\"109.1074\">setX</text></a><!--MD5=[b4997ac47864f28c2f74865a473b2911]\n",
       "class E2--><a href=\"psysml:2e771e59-55ab-4895-8e71-4691f1152b9b\" target=\"_top\" title=\"psysml:2e771e59-55ab-4895-8e71-4691f1152b9b\" xlink:actuate=\"onRequest\" xlink:href=\"psysml:2e771e59-55ab-4895-8e71-4691f1152b9b\" xlink:show=\"new\" xlink:title=\"psysml:2e771e59-55ab-4895-8e71-4691f1152b9b\" xlink:type=\"simple\"><rect fill=\"#FFFFFF\" height=\"45.9375\" id=\"E2\" style=\"stroke: #383838; stroke-width: 1.5;\" width=\"74\" x=\"135\" y=\"56\"/><text fill=\"#000000\" font-family=\"sans-serif\" font-size=\"12\" font-style=\"italic\" lengthAdjust=\"spacingAndGlyphs\" textLength=\"72\" x=\"136\" y=\"72.1387\">«dataType»</text><text fill=\"#000000\" font-family=\"sans-serif\" font-size=\"12\" lengthAdjust=\"spacingAndGlyphs\" textLength=\"27\" x=\"158.5\" y=\"86.1074\">Real</text><line style=\"stroke: #383838; stroke-width: 1.5;\" x1=\"136\" x2=\"208\" y1=\"93.9375\" y2=\"93.9375\"/></a><!--MD5=[09b614a08d8cba4a07c9adeb5e0fee81]\n",
       "class E3--><a href=\"psysml:e4de1612-4570-4c3a-878c-e0dca14f25a7\" target=\"_top\" title=\"psysml:e4de1612-4570-4c3a-878c-e0dca14f25a7\" xlink:actuate=\"onRequest\" xlink:href=\"psysml:e4de1612-4570-4c3a-878c-e0dca14f25a7\" xlink:show=\"new\" xlink:title=\"psysml:e4de1612-4570-4c3a-878c-e0dca14f25a7\" xlink:type=\"simple\"><rect fill=\"#FFFFFF\" height=\"75.5469\" id=\"E3\" style=\"stroke: #383838; stroke-width: 1.5;\" width=\"67\" x=\"32.5\" y=\"41\"/><text fill=\"#000000\" font-family=\"sans-serif\" font-size=\"12\" font-style=\"italic\" lengthAdjust=\"spacingAndGlyphs\" textLength=\"65\" x=\"33.5\" y=\"57.1387\">«item def»</text><text fill=\"#000000\" font-family=\"sans-serif\" font-size=\"12\" lengthAdjust=\"spacingAndGlyphs\" textLength=\"8\" x=\"62\" y=\"71.1074\">C</text><line style=\"stroke: #383838; stroke-width: 1.5;\" x1=\"33.5\" x2=\"98.5\" y1=\"78.9375\" y2=\"78.9375\"/><text fill=\"#000000\" font-family=\"sans-serif\" font-size=\"11\" lengthAdjust=\"spacingAndGlyphs\" textLength=\"38\" x=\"38.5\" y=\"109.9526\">x: Real</text><line style=\"stroke: #383838; stroke-width: 1.0;\" x1=\"33.5\" x2=\"38.5\" y1=\"93.3398\" y2=\"93.3398\"/><text fill=\"#000000\" font-family=\"sans-serif\" font-size=\"11\" lengthAdjust=\"spacingAndGlyphs\" textLength=\"55\" x=\"38.5\" y=\"96.6479\">attributes</text><line style=\"stroke: #383838; stroke-width: 1.0;\" x1=\"93.5\" x2=\"98.5\" y1=\"93.3398\" y2=\"93.3398\"/></a><!--MD5=[ebbe1d658d1005bcc118a6aa81145e00]\n",
       "class E4--><a href=\"psysml:8c3cf46e-c423-4c70-a710-66f9a3632f6b\" target=\"_top\" title=\"psysml:8c3cf46e-c423-4c70-a710-66f9a3632f6b\" xlink:actuate=\"onRequest\" xlink:href=\"psysml:8c3cf46e-c423-4c70-a710-66f9a3632f6b\" xlink:show=\"new\" xlink:title=\"psysml:8c3cf46e-c423-4c70-a710-66f9a3632f6b\" xlink:type=\"simple\"><rect fill=\"#FFFFFF\" height=\"45.9375\" id=\"E4\" rx=\"10\" ry=\"10\" style=\"stroke: #383838; stroke-width: 1.5;\" width=\"121\" x=\"32.5\" y=\"177\"/><text fill=\"#000000\" font-family=\"sans-serif\" font-size=\"12\" font-style=\"italic\" lengthAdjust=\"spacingAndGlyphs\" textLength=\"119\" x=\"33.5\" y=\"193.1387\">«assertConstraint»</text><text fill=\"#000000\" font-family=\"sans-serif\" font-size=\"12\" lengthAdjust=\"spacingAndGlyphs\" textLength=\"76\" x=\"55\" y=\"207.1074\">x_constraint</text><line style=\"stroke: #383838; stroke-width: 1.5;\" x1=\"33.5\" x2=\"152.5\" y1=\"214.9375\" y2=\"214.9375\"/></a><text fill=\"#000000\" font-family=\"sans-serif\" font-size=\"14\" lengthAdjust=\"spacingAndGlyphs\" textLength=\"8\" x=\"246\" y=\"57.6982\">c</text><rect fill=\"#383838\" height=\"12\" style=\"stroke: #F8F8F8; stroke-width: 1.5;\" width=\"12\" x=\"244\" y=\"73\"/><text fill=\"#000000\" font-family=\"sans-serif\" font-size=\"14\" lengthAdjust=\"spacingAndGlyphs\" textLength=\"38\" x=\"278\" y=\"57.6982\">newX</text><rect fill=\"#383838\" height=\"12\" style=\"stroke: #F8F8F8; stroke-width: 1.5;\" width=\"12\" x=\"291\" y=\"73\"/><!--MD5=[4672eba38e49728da53d11aeb285b987]\n",
       "reverse link E3 to E4--><a href=\"psysml:53eca076-bd38-4ff8-88cd-ccaa057f7e59\" target=\"_top\" title=\"psysml:53eca076-bd38-4ff8-88cd-ccaa057f7e59\" xlink:actuate=\"onRequest\" xlink:href=\"psysml:53eca076-bd38-4ff8-88cd-ccaa057f7e59\" xlink:show=\"new\" xlink:title=\"psysml:53eca076-bd38-4ff8-88cd-ccaa057f7e59\" xlink:type=\"simple\"><path d=\"M77.31,129.85 C81.03,146.26 84.99,163.68 87.99,176.93 \" fill=\"none\" id=\"E3&lt;-E4\" style=\"stroke: #383838; stroke-width: 1.0;\"/><polygon fill=\"#FFFFFF\" points=\"74.39,117,71.8133,123.735,77.0392,128.7039,79.6159,121.9689,74.39,117\" style=\"stroke: #383838; stroke-width: 1.0;\"/></a><!--MD5=[b28fb1c1bc0db087c488a5544afbbcea]\n",
       "@startuml\r\n",
       "skinparam linetype polyline\r\n",
       "skinparam monochrome true\r\n",
       "skinparam classbackgroundcolor white\r\n",
       "skinparam shadowing false\r\n",
       "skinparam wrapWidth 300\r\n",
       "hide circle\r\n",
       "\r\n",
       "package \"TextualRepresentationTest\" as E1  [[psysml:1e396b56-292d-4ed9-bbba-ca6bb661746c ]]  {\r\n",
       "comp def \"Real\" as E2  <<(T,blue) dataType>> [[psysml:2e771e59-55ab-4895-8e71-4691f1152b9b ]] {\r\n",
       "}\r\n",
       "comp def \"C\" as E3  <<(T,blue) item def>> [[psysml:e4de1612-4570-4c3a-878c-e0dca14f25a7 ]] {\r\n",
       "- - attributes - -\r\n",
       "x: Real\r\n",
       "}\r\n",
       "comp usage \"x_constraint\" as E4  <<(T,blue) assertConstraint>> [[psysml:8c3cf46e-c423-4c70-a710-66f9a3632f6b ]] {\r\n",
       "}\r\n",
       "rec def \"setX\" as E5  <<(T,blue) action def>> [[psysml:7113fdf5-c3b3-43b5-a3fa-02abb845fbc2 ]] {\r\n",
       "portin \"c\" as E6  [[psysml:34b277fa-246f-4890-8f8b-22f79f83c872 ]] \r\n",
       "portin \"newX\" as E7  [[psysml:085fc47f-09d9-4ca0-b48d-81ba6e318ca7 ]] \r\n",
       "}\r\n",
       "\r\n",
       "E3 o- - E4 [[psysml:53eca076-bd38-4ff8-88cd-ccaa057f7e59 ]] \r\n",
       "}\r\n",
       "@enduml\r\n",
       "\n",
       "PlantUML version 1.2020.13(Sat Jun 13 12:26:38 UTC 2020)\n",
       "(EPL source distribution)\n",
       "Java Runtime: OpenJDK Runtime Environment\n",
       "JVM: OpenJDK 64-Bit Server VM\n",
       "Default Encoding: UTF-8\n",
       "Language: en\n",
       "Country: null\n",
       "--></g></svg>"
      ]
     },
     "execution_count": 9,
     "metadata": {},
     "output_type": "execute_result"
    }
   ],
   "source": [
    "%viz --style=\"POLYLINE\" --view=\"Default\" \"TextualRepresentationTest\""
   ]
  },
  {
   "cell_type": "code",
   "execution_count": 10,
   "id": "362be820",
   "metadata": {
    "execution": {
     "iopub.execute_input": "2021-06-30T09:21:16.286397Z",
     "iopub.status.busy": "2021-06-30T09:21:16.285594Z",
     "iopub.status.idle": "2021-06-30T09:21:16.365817Z",
     "shell.execute_reply": "2021-06-30T09:21:16.365233Z"
    }
   },
   "outputs": [
    {
     "data": {
      "image/svg+xml": [
       "<?xml version=\"1.0\" encoding=\"UTF-8\" standalone=\"no\"?><svg xmlns=\"http://www.w3.org/2000/svg\" xmlns:xlink=\"http://www.w3.org/1999/xlink\" contentScriptType=\"application/ecmascript\" contentStyleType=\"text/css\" height=\"375px\" preserveAspectRatio=\"none\" style=\"width:268px;height:375px;\" version=\"1.1\" viewBox=\"0 0 268 375\" width=\"268px\" zoomAndPan=\"magnify\"><defs/><g><!--MD5=[fbc87193dbaf4d95561dea2c320d4a47]\n",
       "cluster E1--><a href=\"psysml:1e396b56-292d-4ed9-bbba-ca6bb661746c\" target=\"_top\" title=\"psysml:1e396b56-292d-4ed9-bbba-ca6bb661746c\" xlink:actuate=\"onRequest\" xlink:href=\"psysml:1e396b56-292d-4ed9-bbba-ca6bb661746c\" xlink:show=\"new\" xlink:title=\"psysml:1e396b56-292d-4ed9-bbba-ca6bb661746c\" xlink:type=\"simple\"><polygon fill=\"#FFFFFF\" points=\"16,6,236,6,243,28.2969,246,28.2969,246,363,16,363,16,6\" style=\"stroke: #000000; stroke-width: 1.5;\"/><line style=\"stroke: #000000; stroke-width: 1.5;\" x1=\"16\" x2=\"243\" y1=\"28.2969\" y2=\"28.2969\"/><text fill=\"#000000\" font-family=\"sans-serif\" font-size=\"14\" font-weight=\"bold\" lengthAdjust=\"spacingAndGlyphs\" textLength=\"214\" x=\"20\" y=\"20.9951\">TextualRepresentationTest</text></a><!--MD5=[b4997ac47864f28c2f74865a473b2911]\n",
       "class E2--><a href=\"psysml:2e771e59-55ab-4895-8e71-4691f1152b9b\" target=\"_top\" title=\"psysml:2e771e59-55ab-4895-8e71-4691f1152b9b\" xlink:actuate=\"onRequest\" xlink:href=\"psysml:2e771e59-55ab-4895-8e71-4691f1152b9b\" xlink:show=\"new\" xlink:title=\"psysml:2e771e59-55ab-4895-8e71-4691f1152b9b\" xlink:type=\"simple\"><rect fill=\"#FFFFFF\" height=\"45.9375\" id=\"E2\" style=\"stroke: #383838; stroke-width: 1.5;\" width=\"74\" x=\"42\" y=\"179\"/><text fill=\"#000000\" font-family=\"sans-serif\" font-size=\"12\" font-style=\"italic\" lengthAdjust=\"spacingAndGlyphs\" textLength=\"72\" x=\"43\" y=\"195.1387\">«dataType»</text><text fill=\"#000000\" font-family=\"sans-serif\" font-size=\"12\" lengthAdjust=\"spacingAndGlyphs\" textLength=\"27\" x=\"65.5\" y=\"209.1074\">Real</text><line style=\"stroke: #383838; stroke-width: 1.5;\" x1=\"43\" x2=\"115\" y1=\"216.9375\" y2=\"216.9375\"/></a><!--MD5=[09b614a08d8cba4a07c9adeb5e0fee81]\n",
       "class E3--><a href=\"psysml:e4de1612-4570-4c3a-878c-e0dca14f25a7\" target=\"_top\" title=\"psysml:e4de1612-4570-4c3a-878c-e0dca14f25a7\" xlink:actuate=\"onRequest\" xlink:href=\"psysml:e4de1612-4570-4c3a-878c-e0dca14f25a7\" xlink:show=\"new\" xlink:title=\"psysml:e4de1612-4570-4c3a-878c-e0dca14f25a7\" xlink:type=\"simple\"><rect fill=\"#FFFFFF\" height=\"75.5469\" id=\"E3\" style=\"stroke: #383838; stroke-width: 1.5;\" width=\"67\" x=\"151.5\" y=\"164\"/><text fill=\"#000000\" font-family=\"sans-serif\" font-size=\"12\" font-style=\"italic\" lengthAdjust=\"spacingAndGlyphs\" textLength=\"65\" x=\"152.5\" y=\"180.1387\">«item def»</text><text fill=\"#000000\" font-family=\"sans-serif\" font-size=\"12\" lengthAdjust=\"spacingAndGlyphs\" textLength=\"8\" x=\"181\" y=\"194.1074\">C</text><line style=\"stroke: #383838; stroke-width: 1.5;\" x1=\"152.5\" x2=\"217.5\" y1=\"201.9375\" y2=\"201.9375\"/><text fill=\"#000000\" font-family=\"sans-serif\" font-size=\"11\" lengthAdjust=\"spacingAndGlyphs\" textLength=\"38\" x=\"157.5\" y=\"232.9526\">x: Real</text><line style=\"stroke: #383838; stroke-width: 1.0;\" x1=\"152.5\" x2=\"157.5\" y1=\"216.3398\" y2=\"216.3398\"/><text fill=\"#000000\" font-family=\"sans-serif\" font-size=\"11\" lengthAdjust=\"spacingAndGlyphs\" textLength=\"55\" x=\"157.5\" y=\"219.6479\">attributes</text><line style=\"stroke: #383838; stroke-width: 1.0;\" x1=\"212.5\" x2=\"217.5\" y1=\"216.3398\" y2=\"216.3398\"/></a><!--MD5=[ebbe1d658d1005bcc118a6aa81145e00]\n",
       "class E4--><a href=\"psysml:8c3cf46e-c423-4c70-a710-66f9a3632f6b\" target=\"_top\" title=\"psysml:8c3cf46e-c423-4c70-a710-66f9a3632f6b\" xlink:actuate=\"onRequest\" xlink:href=\"psysml:8c3cf46e-c423-4c70-a710-66f9a3632f6b\" xlink:show=\"new\" xlink:title=\"psysml:8c3cf46e-c423-4c70-a710-66f9a3632f6b\" xlink:type=\"simple\"><rect fill=\"#FFFFFF\" height=\"45.9375\" id=\"E4\" rx=\"10\" ry=\"10\" style=\"stroke: #383838; stroke-width: 1.5;\" width=\"121\" x=\"97.5\" y=\"301\"/><text fill=\"#000000\" font-family=\"sans-serif\" font-size=\"12\" font-style=\"italic\" lengthAdjust=\"spacingAndGlyphs\" textLength=\"119\" x=\"98.5\" y=\"317.1387\">«assertConstraint»</text><text fill=\"#000000\" font-family=\"sans-serif\" font-size=\"12\" lengthAdjust=\"spacingAndGlyphs\" textLength=\"76\" x=\"120\" y=\"331.1074\">x_constraint</text><line style=\"stroke: #383838; stroke-width: 1.5;\" x1=\"98.5\" x2=\"217.5\" y1=\"338.9375\" y2=\"338.9375\"/></a><!--MD5=[270fce915f116d4de14055a7c1d9a0f3]\n",
       "class E5--><a href=\"psysml:7113fdf5-c3b3-43b5-a3fa-02abb845fbc2\" target=\"_top\" title=\"psysml:7113fdf5-c3b3-43b5-a3fa-02abb845fbc2\" xlink:actuate=\"onRequest\" xlink:href=\"psysml:7113fdf5-c3b3-43b5-a3fa-02abb845fbc2\" xlink:show=\"new\" xlink:title=\"psysml:7113fdf5-c3b3-43b5-a3fa-02abb845fbc2\" xlink:type=\"simple\"><rect fill=\"#FFFFFF\" height=\"45.9375\" id=\"E5\" style=\"stroke: #383838; stroke-width: 1.5;\" width=\"79\" x=\"77.5\" y=\"41\"/><text fill=\"#000000\" font-family=\"sans-serif\" font-size=\"12\" font-style=\"italic\" lengthAdjust=\"spacingAndGlyphs\" textLength=\"77\" x=\"78.5\" y=\"57.1387\">«action def»</text><text fill=\"#000000\" font-family=\"sans-serif\" font-size=\"12\" lengthAdjust=\"spacingAndGlyphs\" textLength=\"27\" x=\"103.5\" y=\"71.1074\">setX</text><line style=\"stroke: #383838; stroke-width: 1.5;\" x1=\"78.5\" x2=\"155.5\" y1=\"78.9375\" y2=\"78.9375\"/></a><!--MD5=[4672eba38e49728da53d11aeb285b987]\n",
       "reverse link E3 to E4--><a href=\"psysml:53eca076-bd38-4ff8-88cd-ccaa057f7e59\" target=\"_top\" title=\"psysml:53eca076-bd38-4ff8-88cd-ccaa057f7e59\" xlink:actuate=\"onRequest\" xlink:href=\"psysml:53eca076-bd38-4ff8-88cd-ccaa057f7e59\" xlink:show=\"new\" xlink:title=\"psysml:53eca076-bd38-4ff8-88cd-ccaa057f7e59\" xlink:type=\"simple\"><path d=\"M173.69,253.27 C169.97,269.82 166.01,287.38 163.01,300.75 \" fill=\"none\" id=\"E3&lt;-E4\" style=\"stroke: #383838; stroke-width: 1.0;\"/><polygon fill=\"#FFFFFF\" points=\"176.61,240.31,171.3948,245.2901,173.9859,252.0196,179.2011,247.0395,176.61,240.31\" style=\"stroke: #383838; stroke-width: 1.0;\"/></a><!--MD5=[6f107eb264eda4b26325f39a5516f1f3]\n",
       "reverse link E5 to E3--><a href=\"psysml:34b277fa-246f-4890-8f8b-22f79f83c872\" target=\"_top\" title=\"psysml:34b277fa-246f-4890-8f8b-22f79f83c872\" xlink:actuate=\"onRequest\" xlink:href=\"psysml:34b277fa-246f-4890-8f8b-22f79f83c872\" xlink:show=\"new\" xlink:title=\"psysml:34b277fa-246f-4890-8f8b-22f79f83c872\" xlink:type=\"simple\"><path d=\"M134,99 C143.89,118.78 156.35,143.71 166.49,163.97 \" fill=\"none\" id=\"E5&lt;-E3\" style=\"stroke: #383838; stroke-width: 1.0;\"/><polygon fill=\"#FFFFFF\" points=\"128.08,87.15,127.1856,94.3054,133.4466,97.8831,134.341,90.7277,128.08,87.15\" style=\"stroke: #383838; stroke-width: 1.0;\"/><text fill=\"#000000\" font-family=\"sans-serif\" font-size=\"13\" lengthAdjust=\"spacingAndGlyphs\" textLength=\"7\" x=\"152\" y=\"130.0669\">c</text></a><!--MD5=[f51c6d1f1856fe338ac0413483fb1ccf]\n",
       "reverse link E5 to E2--><a href=\"psysml:085fc47f-09d9-4ca0-b48d-81ba6e318ca7\" target=\"_top\" title=\"psysml:085fc47f-09d9-4ca0-b48d-81ba6e318ca7\" xlink:actuate=\"onRequest\" xlink:href=\"psysml:085fc47f-09d9-4ca0-b48d-81ba6e318ca7\" xlink:show=\"new\" xlink:title=\"psysml:085fc47f-09d9-4ca0-b48d-81ba6e318ca7\" xlink:type=\"simple\"><path d=\"M105.01,99.64 C101.7,109.2 99,117 99,117 C99,117 90.18,154.04 84.25,178.93 \" fill=\"none\" id=\"E5&lt;-E2\" style=\"stroke: #383838; stroke-width: 1.0;\"/><polygon fill=\"#FFFFFF\" points=\"109.37,87.05,103.626,91.4096,105.4411,98.3886,111.1851,94.0289,109.37,87.05\" style=\"stroke: #383838; stroke-width: 1.0;\"/><text fill=\"#000000\" font-family=\"sans-serif\" font-size=\"13\" lengthAdjust=\"spacingAndGlyphs\" textLength=\"33\" x=\"100\" y=\"130.0669\">newX</text></a><!--MD5=[754c10d407aba99b36e3c55f1986e218]\n",
       "@startuml\r\n",
       "skinparam linetype polyline\r\n",
       "skinparam monochrome true\r\n",
       "skinparam classbackgroundcolor white\r\n",
       "skinparam shadowing false\r\n",
       "skinparam wrapWidth 300\r\n",
       "hide circle\r\n",
       "\r\n",
       "package \"TextualRepresentationTest\" as E1  [[psysml:1e396b56-292d-4ed9-bbba-ca6bb661746c ]]  {\r\n",
       "comp def \"Real\" as E2  <<(T,blue) dataType>> [[psysml:2e771e59-55ab-4895-8e71-4691f1152b9b ]] {\r\n",
       "}\r\n",
       "comp def \"C\" as E3  <<(T,blue) item def>> [[psysml:e4de1612-4570-4c3a-878c-e0dca14f25a7 ]] {\r\n",
       "- - attributes - -\r\n",
       "x: Real\r\n",
       "}\r\n",
       "comp usage \"x_constraint\" as E4  <<(T,blue) assertConstraint>> [[psysml:8c3cf46e-c423-4c70-a710-66f9a3632f6b ]] {\r\n",
       "}\r\n",
       "comp def \"setX\" as E5  <<(T,blue) action def>> [[psysml:7113fdf5-c3b3-43b5-a3fa-02abb845fbc2 ]] {\r\n",
       "}\r\n",
       "E3 o- - E4 [[psysml:53eca076-bd38-4ff8-88cd-ccaa057f7e59 ]] \r\n",
       "E5 o- - E3 [[psysml:34b277fa-246f-4890-8f8b-22f79f83c872 ]] : c\r\n",
       "E5 o- - E2 [[psysml:085fc47f-09d9-4ca0-b48d-81ba6e318ca7 ]] : newX\r\n",
       "}\r\n",
       "@enduml\r\n",
       "\n",
       "PlantUML version 1.2020.13(Sat Jun 13 12:26:38 UTC 2020)\n",
       "(EPL source distribution)\n",
       "Java Runtime: OpenJDK Runtime Environment\n",
       "JVM: OpenJDK 64-Bit Server VM\n",
       "Default Encoding: UTF-8\n",
       "Language: en\n",
       "Country: null\n",
       "--></g></svg>"
      ]
     },
     "execution_count": 10,
     "metadata": {},
     "output_type": "execute_result"
    }
   ],
   "source": [
    "%viz --style=\"POLYLINE\" --view=\"Tree\" \"TextualRepresentationTest\""
   ]
  },
  {
   "cell_type": "code",
   "execution_count": 11,
   "id": "2abcf7da",
   "metadata": {
    "execution": {
     "iopub.execute_input": "2021-06-30T09:21:16.417779Z",
     "iopub.status.busy": "2021-06-30T09:21:16.415941Z",
     "iopub.status.idle": "2021-06-30T09:21:16.435741Z",
     "shell.execute_reply": "2021-06-30T09:21:16.435318Z"
    }
   },
   "outputs": [
    {
     "data": {
      "image/svg+xml": [
       "<?xml version=\"1.0\" encoding=\"UTF-8\" standalone=\"no\"?><svg xmlns=\"http://www.w3.org/2000/svg\" xmlns:xlink=\"http://www.w3.org/1999/xlink\" contentScriptType=\"application/ecmascript\" contentStyleType=\"text/css\" height=\"12px\" preserveAspectRatio=\"none\" style=\"width:12px;height:12px;\" version=\"1.1\" viewBox=\"0 0 12 12\" width=\"12px\" zoomAndPan=\"magnify\"><defs/><g><!--MD5=[896ac0e7a515d8dd7765a661cb4ee08b]\n",
       "@startuml\r\n",
       "skinparam linetype polyline\r\n",
       "skinparam monochrome true\r\n",
       "skinparam classbackgroundcolor white\r\n",
       "skinparam shadowing false\r\n",
       "skinparam wrapWidth 300\r\n",
       "hide circle\r\n",
       "\r\n",
       "@enduml\r\n",
       "\n",
       "PlantUML version 1.2020.13(Sat Jun 13 12:26:38 UTC 2020)\n",
       "(EPL source distribution)\n",
       "Java Runtime: OpenJDK Runtime Environment\n",
       "JVM: OpenJDK 64-Bit Server VM\n",
       "Default Encoding: UTF-8\n",
       "Language: en\n",
       "Country: null\n",
       "--></g></svg>"
      ]
     },
     "execution_count": 11,
     "metadata": {},
     "output_type": "execute_result"
    }
   ],
   "source": [
    "%viz --style=\"POLYLINE\" --view=\"State\" \"TextualRepresentationTest\""
   ]
  },
  {
   "cell_type": "code",
   "execution_count": 12,
   "id": "c108f3d6",
   "metadata": {
    "execution": {
     "iopub.execute_input": "2021-06-30T09:21:16.492462Z",
     "iopub.status.busy": "2021-06-30T09:21:16.491975Z",
     "iopub.status.idle": "2021-06-30T09:21:16.541310Z",
     "shell.execute_reply": "2021-06-30T09:21:16.540301Z"
    }
   },
   "outputs": [
    {
     "data": {
      "image/svg+xml": [
       "<?xml version=\"1.0\" encoding=\"UTF-8\" standalone=\"no\"?><svg xmlns=\"http://www.w3.org/2000/svg\" xmlns:xlink=\"http://www.w3.org/1999/xlink\" contentScriptType=\"application/ecmascript\" contentStyleType=\"text/css\" height=\"179px\" preserveAspectRatio=\"none\" style=\"width:398px;height:179px;\" version=\"1.1\" viewBox=\"0 0 398 179\" width=\"398px\" zoomAndPan=\"magnify\"><defs/><g><!--MD5=[fbc87193dbaf4d95561dea2c320d4a47]\n",
       "cluster E1--><a href=\"psysml:1e396b56-292d-4ed9-bbba-ca6bb661746c\" target=\"_top\" title=\"psysml:1e396b56-292d-4ed9-bbba-ca6bb661746c\" xlink:actuate=\"onRequest\" xlink:href=\"psysml:1e396b56-292d-4ed9-bbba-ca6bb661746c\" xlink:show=\"new\" xlink:title=\"psysml:1e396b56-292d-4ed9-bbba-ca6bb661746c\" xlink:type=\"simple\"><polygon fill=\"#FFFFFF\" points=\"16,6,236,6,243,28.2969,376,28.2969,376,167,16,167,16,6\" style=\"stroke: #000000; stroke-width: 1.5;\"/><line style=\"stroke: #000000; stroke-width: 1.5;\" x1=\"16\" x2=\"243\" y1=\"28.2969\" y2=\"28.2969\"/><text fill=\"#000000\" font-family=\"sans-serif\" font-size=\"14\" font-weight=\"bold\" lengthAdjust=\"spacingAndGlyphs\" textLength=\"214\" x=\"20\" y=\"20.9951\">TextualRepresentationTest</text></a><!--MD5=[f6df4d0ebaf0b5dfb2ced0ae5af7c670]\n",
       "cluster E4--><a href=\"psysml:7113fdf5-c3b3-43b5-a3fa-02abb845fbc2\" target=\"_top\" title=\"psysml:7113fdf5-c3b3-43b5-a3fa-02abb845fbc2\" xlink:actuate=\"onRequest\" xlink:href=\"psysml:7113fdf5-c3b3-43b5-a3fa-02abb845fbc2\" xlink:show=\"new\" xlink:title=\"psysml:7113fdf5-c3b3-43b5-a3fa-02abb845fbc2\" xlink:type=\"simple\"><rect fill=\"#FFFFFF\" height=\"88.5\" id=\"E4\" style=\"stroke: #383838; stroke-width: 1.5;\" width=\"96\" x=\"235.5\" y=\"62.5\"/><rect fill=\"#F8F8F8\" height=\"37.9375\" style=\"stroke: #383838; stroke-width: 1.5;\" width=\"96\" x=\"235.5\" y=\"62.5\"/><text fill=\"#000000\" font-family=\"sans-serif\" font-size=\"12\" font-style=\"italic\" lengthAdjust=\"spacingAndGlyphs\" textLength=\"77\" x=\"245\" y=\"78.6387\">«action def»</text><text fill=\"#000000\" font-family=\"sans-serif\" font-size=\"12\" lengthAdjust=\"spacingAndGlyphs\" textLength=\"27\" x=\"270\" y=\"92.6074\">setX</text></a><g id=\"E1.E2\"><a href=\"psysml:2e771e59-55ab-4895-8e71-4691f1152b9b\" target=\"_top\" title=\"psysml:2e771e59-55ab-4895-8e71-4691f1152b9b\" xlink:actuate=\"onRequest\" xlink:href=\"psysml:2e771e59-55ab-4895-8e71-4691f1152b9b\" xlink:show=\"new\" xlink:title=\"psysml:2e771e59-55ab-4895-8e71-4691f1152b9b\" xlink:type=\"simple\"><rect fill=\"#FFFFFF\" height=\"42.9375\" id=\"E2\" style=\"stroke: #383838; stroke-width: 1.5;\" width=\"79\" x=\"139.5\" y=\"41\"/><rect fill=\"#F8F8F8\" height=\"37.9375\" style=\"stroke: #383838; stroke-width: 1.5;\" width=\"79\" x=\"139.5\" y=\"41\"/><text fill=\"#000000\" font-family=\"sans-serif\" font-size=\"12\" font-style=\"italic\" lengthAdjust=\"spacingAndGlyphs\" textLength=\"72\" x=\"143\" y=\"57.1387\">«dataType»</text><text fill=\"#000000\" font-family=\"sans-serif\" font-size=\"12\" lengthAdjust=\"spacingAndGlyphs\" textLength=\"27\" x=\"165.5\" y=\"71.1074\">Real</text></a></g><g id=\"E1.E3\"><a href=\"psysml:e4de1612-4570-4c3a-878c-e0dca14f25a7\" target=\"_top\" title=\"psysml:e4de1612-4570-4c3a-878c-e0dca14f25a7\" xlink:actuate=\"onRequest\" xlink:href=\"psysml:e4de1612-4570-4c3a-878c-e0dca14f25a7\" xlink:show=\"new\" xlink:title=\"psysml:e4de1612-4570-4c3a-878c-e0dca14f25a7\" xlink:type=\"simple\"><rect fill=\"#FFFFFF\" height=\"42.9375\" id=\"E3\" style=\"stroke: #383838; stroke-width: 1.5;\" width=\"72\" x=\"32\" y=\"41\"/><rect fill=\"#F8F8F8\" height=\"37.9375\" style=\"stroke: #383838; stroke-width: 1.5;\" width=\"72\" x=\"32\" y=\"41\"/><text fill=\"#000000\" font-family=\"sans-serif\" font-size=\"12\" font-style=\"italic\" lengthAdjust=\"spacingAndGlyphs\" textLength=\"65\" x=\"35.5\" y=\"57.1387\">«item def»</text><text fill=\"#000000\" font-family=\"sans-serif\" font-size=\"12\" lengthAdjust=\"spacingAndGlyphs\" textLength=\"8\" x=\"64\" y=\"71.1074\">C</text></a></g><text fill=\"#000000\" font-family=\"sans-serif\" font-size=\"14\" lengthAdjust=\"spacingAndGlyphs\" textLength=\"8\" x=\"256\" y=\"41.1982\">c</text><rect fill=\"#383838\" height=\"12\" style=\"stroke: #F8F8F8; stroke-width: 1.5;\" width=\"12\" x=\"254\" y=\"56.5\"/><text fill=\"#000000\" font-family=\"sans-serif\" font-size=\"14\" lengthAdjust=\"spacingAndGlyphs\" textLength=\"38\" x=\"288\" y=\"41.1982\">newX</text><rect fill=\"#383838\" height=\"12\" style=\"stroke: #F8F8F8; stroke-width: 1.5;\" width=\"12\" x=\"301\" y=\"56.5\"/><!--MD5=[ab73715466701a96cc76bddb5a3e04c5]\n",
       "@startuml\r\n",
       "skinparam ranksep 10\r\n",
       "skinparam rectangle {\r\n",
       " backgroundColor<<block>> LightGreen\r\n",
       "}\r\n",
       "skinparam linetype polyline\r\n",
       "skinparam monochrome true\r\n",
       "skinparam classbackgroundcolor white\r\n",
       "skinparam shadowing false\r\n",
       "skinparam wrapWidth 300\r\n",
       "hide circle\r\n",
       "\r\n",
       "package \"TextualRepresentationTest\" as E1  [[psysml:1e396b56-292d-4ed9-bbba-ca6bb661746c ]]  {\r\n",
       "def \"Real\" as E2  <<(T,blue) dataType>> [[psysml:2e771e59-55ab-4895-8e71-4691f1152b9b ]] \r\n",
       "def \"C\" as E3  <<(T,blue) item def>> [[psysml:e4de1612-4570-4c3a-878c-e0dca14f25a7 ]] \r\n",
       "rec def \"setX\" as E4  <<(T,blue) action def>> [[psysml:7113fdf5-c3b3-43b5-a3fa-02abb845fbc2 ]] {\r\n",
       "portin \"c\" as E5  [[psysml:34b277fa-246f-4890-8f8b-22f79f83c872 ]] \r\n",
       "portin \"newX\" as E6  [[psysml:085fc47f-09d9-4ca0-b48d-81ba6e318ca7 ]] \r\n",
       "}\r\n",
       "\r\n",
       "}\r\n",
       "@enduml\r\n",
       "\n",
       "PlantUML version 1.2020.13(Sat Jun 13 12:26:38 UTC 2020)\n",
       "(EPL source distribution)\n",
       "Java Runtime: OpenJDK Runtime Environment\n",
       "JVM: OpenJDK 64-Bit Server VM\n",
       "Default Encoding: UTF-8\n",
       "Language: en\n",
       "Country: null\n",
       "--></g></svg>"
      ]
     },
     "execution_count": 12,
     "metadata": {},
     "output_type": "execute_result"
    }
   ],
   "source": [
    "%viz --style=\"POLYLINE\" --view=\"Interconnection\" \"TextualRepresentationTest\""
   ]
  },
  {
   "cell_type": "code",
   "execution_count": 13,
   "id": "aeb757b9",
   "metadata": {
    "execution": {
     "iopub.execute_input": "2021-06-30T09:21:16.601236Z",
     "iopub.status.busy": "2021-06-30T09:21:16.600747Z",
     "iopub.status.idle": "2021-06-30T09:21:16.633083Z",
     "shell.execute_reply": "2021-06-30T09:21:16.632621Z"
    }
   },
   "outputs": [
    {
     "data": {
      "image/svg+xml": [
       "<?xml version=\"1.0\" encoding=\"UTF-8\" standalone=\"no\"?><svg xmlns=\"http://www.w3.org/2000/svg\" xmlns:xlink=\"http://www.w3.org/1999/xlink\" contentScriptType=\"application/ecmascript\" contentStyleType=\"text/css\" height=\"126px\" preserveAspectRatio=\"none\" style=\"width:150px;height:126px;\" version=\"1.1\" viewBox=\"0 0 150 126\" width=\"150px\" zoomAndPan=\"magnify\"><defs/><g><!--MD5=[fbc87193dbaf4d95561dea2c320d4a47]\n",
       "cluster E1--><a href=\"psysml:7113fdf5-c3b3-43b5-a3fa-02abb845fbc2\" target=\"_top\" title=\"psysml:7113fdf5-c3b3-43b5-a3fa-02abb845fbc2\" xlink:actuate=\"onRequest\" xlink:href=\"psysml:7113fdf5-c3b3-43b5-a3fa-02abb845fbc2\" xlink:show=\"new\" xlink:title=\"psysml:7113fdf5-c3b3-43b5-a3fa-02abb845fbc2\" xlink:type=\"simple\"><rect fill=\"#FFFFFF\" height=\"73\" id=\"E1\" style=\"stroke: #383838; stroke-width: 1.5;\" width=\"132\" x=\"7\" y=\"42.0986\"/><rect fill=\"#F8F8F8\" height=\"37.9375\" style=\"stroke: #383838; stroke-width: 1.5;\" width=\"132\" x=\"7\" y=\"42.0986\"/><text fill=\"#000000\" font-family=\"sans-serif\" font-size=\"12\" font-style=\"italic\" lengthAdjust=\"spacingAndGlyphs\" textLength=\"77\" x=\"34.5\" y=\"58.2373\">«action def»</text><text fill=\"#000000\" font-family=\"sans-serif\" font-size=\"12\" lengthAdjust=\"spacingAndGlyphs\" textLength=\"27\" x=\"59.5\" y=\"72.2061\">setX</text></a><text fill=\"#000000\" font-family=\"sans-serif\" font-size=\"14\" lengthAdjust=\"spacingAndGlyphs\" textLength=\"8\" x=\"21\" y=\"20.7969\">c</text><rect fill=\"#383838\" height=\"12\" style=\"stroke: #F8F8F8; stroke-width: 1.5;\" width=\"12\" x=\"19\" y=\"36.0986\"/><text fill=\"#000000\" font-family=\"sans-serif\" font-size=\"14\" lengthAdjust=\"spacingAndGlyphs\" textLength=\"38\" x=\"53\" y=\"20.7969\">newX</text><rect fill=\"#383838\" height=\"12\" style=\"stroke: #F8F8F8; stroke-width: 1.5;\" width=\"12\" x=\"66\" y=\"36.0986\"/><!--MD5=[fe976dc4796fc4aae8c4d36d101d45d1]\n",
       "@startuml\r\n",
       "skinparam ranksep 8\r\n",
       "skinparam linetype polyline\r\n",
       "skinparam monochrome true\r\n",
       "skinparam classbackgroundcolor white\r\n",
       "skinparam shadowing false\r\n",
       "skinparam wrapWidth 300\r\n",
       "hide circle\r\n",
       "\r\n",
       "rec def \"setX\" as E1  <<(T,blue) action def>> [[psysml:7113fdf5-c3b3-43b5-a3fa-02abb845fbc2 ]] {\r\n",
       "portin \"c\" as E2  [[psysml:34b277fa-246f-4890-8f8b-22f79f83c872 ]] \r\n",
       "portin \"newX\" as E3  [[psysml:085fc47f-09d9-4ca0-b48d-81ba6e318ca7 ]] \r\n",
       "}\r\n",
       "\r\n",
       "@enduml\r\n",
       "\n",
       "PlantUML version 1.2020.13(Sat Jun 13 12:26:38 UTC 2020)\n",
       "(EPL source distribution)\n",
       "Java Runtime: OpenJDK Runtime Environment\n",
       "JVM: OpenJDK 64-Bit Server VM\n",
       "Default Encoding: UTF-8\n",
       "Language: en\n",
       "Country: null\n",
       "--></g></svg>"
      ]
     },
     "execution_count": 13,
     "metadata": {},
     "output_type": "execute_result"
    }
   ],
   "source": [
    "%viz --style=\"POLYLINE\" --view=\"Action\" \"TextualRepresentationTest\""
   ]
  },
  {
   "cell_type": "code",
   "execution_count": 14,
   "id": "038deb7f",
   "metadata": {
    "execution": {
     "iopub.execute_input": "2021-06-30T09:21:16.687275Z",
     "iopub.status.busy": "2021-06-30T09:21:16.686822Z",
     "iopub.status.idle": "2021-06-30T09:21:16.754707Z",
     "shell.execute_reply": "2021-06-30T09:21:16.752638Z"
    }
   },
   "outputs": [
    {
     "data": {
      "image/svg+xml": [
       "<?xml version=\"1.0\" encoding=\"UTF-8\" standalone=\"no\"?><svg xmlns=\"http://www.w3.org/2000/svg\" xmlns:xlink=\"http://www.w3.org/1999/xlink\" contentScriptType=\"application/ecmascript\" contentStyleType=\"text/css\" height=\"375px\" preserveAspectRatio=\"none\" style=\"width:268px;height:375px;\" version=\"1.1\" viewBox=\"0 0 268 375\" width=\"268px\" zoomAndPan=\"magnify\"><defs/><g><!--MD5=[fbc87193dbaf4d95561dea2c320d4a47]\n",
       "cluster E1--><a href=\"psysml:1e396b56-292d-4ed9-bbba-ca6bb661746c\" target=\"_top\" title=\"psysml:1e396b56-292d-4ed9-bbba-ca6bb661746c\" xlink:actuate=\"onRequest\" xlink:href=\"psysml:1e396b56-292d-4ed9-bbba-ca6bb661746c\" xlink:show=\"new\" xlink:title=\"psysml:1e396b56-292d-4ed9-bbba-ca6bb661746c\" xlink:type=\"simple\"><polygon fill=\"#FFFFFF\" points=\"16,6,236,6,243,28.2969,246,28.2969,246,363,16,363,16,6\" style=\"stroke: #000000; stroke-width: 1.5;\"/><line style=\"stroke: #000000; stroke-width: 1.5;\" x1=\"16\" x2=\"243\" y1=\"28.2969\" y2=\"28.2969\"/><text fill=\"#000000\" font-family=\"sans-serif\" font-size=\"14\" font-weight=\"bold\" lengthAdjust=\"spacingAndGlyphs\" textLength=\"214\" x=\"20\" y=\"20.9951\">TextualRepresentationTest</text></a><!--MD5=[b4997ac47864f28c2f74865a473b2911]\n",
       "class E2--><a href=\"psysml:2e771e59-55ab-4895-8e71-4691f1152b9b\" target=\"_top\" title=\"psysml:2e771e59-55ab-4895-8e71-4691f1152b9b\" xlink:actuate=\"onRequest\" xlink:href=\"psysml:2e771e59-55ab-4895-8e71-4691f1152b9b\" xlink:show=\"new\" xlink:title=\"psysml:2e771e59-55ab-4895-8e71-4691f1152b9b\" xlink:type=\"simple\"><rect fill=\"#FFFFFF\" height=\"45.9375\" id=\"E2\" style=\"stroke: #383838; stroke-width: 1.5;\" width=\"74\" x=\"42\" y=\"179\"/><text fill=\"#000000\" font-family=\"sans-serif\" font-size=\"12\" font-style=\"italic\" lengthAdjust=\"spacingAndGlyphs\" textLength=\"72\" x=\"43\" y=\"195.1387\">«dataType»</text><text fill=\"#000000\" font-family=\"sans-serif\" font-size=\"12\" lengthAdjust=\"spacingAndGlyphs\" textLength=\"27\" x=\"65.5\" y=\"209.1074\">Real</text><line style=\"stroke: #383838; stroke-width: 1.5;\" x1=\"43\" x2=\"115\" y1=\"216.9375\" y2=\"216.9375\"/></a><!--MD5=[09b614a08d8cba4a07c9adeb5e0fee81]\n",
       "class E3--><a href=\"psysml:e4de1612-4570-4c3a-878c-e0dca14f25a7\" target=\"_top\" title=\"psysml:e4de1612-4570-4c3a-878c-e0dca14f25a7\" xlink:actuate=\"onRequest\" xlink:href=\"psysml:e4de1612-4570-4c3a-878c-e0dca14f25a7\" xlink:show=\"new\" xlink:title=\"psysml:e4de1612-4570-4c3a-878c-e0dca14f25a7\" xlink:type=\"simple\"><rect fill=\"#FFFFFF\" height=\"75.5469\" id=\"E3\" style=\"stroke: #383838; stroke-width: 1.5;\" width=\"67\" x=\"151.5\" y=\"164\"/><text fill=\"#000000\" font-family=\"sans-serif\" font-size=\"12\" font-style=\"italic\" lengthAdjust=\"spacingAndGlyphs\" textLength=\"65\" x=\"152.5\" y=\"180.1387\">«item def»</text><text fill=\"#000000\" font-family=\"sans-serif\" font-size=\"12\" lengthAdjust=\"spacingAndGlyphs\" textLength=\"8\" x=\"181\" y=\"194.1074\">C</text><line style=\"stroke: #383838; stroke-width: 1.5;\" x1=\"152.5\" x2=\"217.5\" y1=\"201.9375\" y2=\"201.9375\"/><text fill=\"#000000\" font-family=\"sans-serif\" font-size=\"11\" lengthAdjust=\"spacingAndGlyphs\" textLength=\"38\" x=\"157.5\" y=\"232.9526\">x: Real</text><line style=\"stroke: #383838; stroke-width: 1.0;\" x1=\"152.5\" x2=\"157.5\" y1=\"216.3398\" y2=\"216.3398\"/><text fill=\"#000000\" font-family=\"sans-serif\" font-size=\"11\" lengthAdjust=\"spacingAndGlyphs\" textLength=\"55\" x=\"157.5\" y=\"219.6479\">attributes</text><line style=\"stroke: #383838; stroke-width: 1.0;\" x1=\"212.5\" x2=\"217.5\" y1=\"216.3398\" y2=\"216.3398\"/></a><!--MD5=[ebbe1d658d1005bcc118a6aa81145e00]\n",
       "class E4--><a href=\"psysml:8c3cf46e-c423-4c70-a710-66f9a3632f6b\" target=\"_top\" title=\"psysml:8c3cf46e-c423-4c70-a710-66f9a3632f6b\" xlink:actuate=\"onRequest\" xlink:href=\"psysml:8c3cf46e-c423-4c70-a710-66f9a3632f6b\" xlink:show=\"new\" xlink:title=\"psysml:8c3cf46e-c423-4c70-a710-66f9a3632f6b\" xlink:type=\"simple\"><rect fill=\"#FFFFFF\" height=\"45.9375\" id=\"E4\" rx=\"10\" ry=\"10\" style=\"stroke: #383838; stroke-width: 1.5;\" width=\"121\" x=\"97.5\" y=\"301\"/><text fill=\"#000000\" font-family=\"sans-serif\" font-size=\"12\" font-style=\"italic\" lengthAdjust=\"spacingAndGlyphs\" textLength=\"119\" x=\"98.5\" y=\"317.1387\">«assertConstraint»</text><text fill=\"#000000\" font-family=\"sans-serif\" font-size=\"12\" lengthAdjust=\"spacingAndGlyphs\" textLength=\"76\" x=\"120\" y=\"331.1074\">x_constraint</text><line style=\"stroke: #383838; stroke-width: 1.5;\" x1=\"98.5\" x2=\"217.5\" y1=\"338.9375\" y2=\"338.9375\"/></a><!--MD5=[270fce915f116d4de14055a7c1d9a0f3]\n",
       "class E5--><a href=\"psysml:7113fdf5-c3b3-43b5-a3fa-02abb845fbc2\" target=\"_top\" title=\"psysml:7113fdf5-c3b3-43b5-a3fa-02abb845fbc2\" xlink:actuate=\"onRequest\" xlink:href=\"psysml:7113fdf5-c3b3-43b5-a3fa-02abb845fbc2\" xlink:show=\"new\" xlink:title=\"psysml:7113fdf5-c3b3-43b5-a3fa-02abb845fbc2\" xlink:type=\"simple\"><rect fill=\"#FFFFFF\" height=\"45.9375\" id=\"E5\" style=\"stroke: #383838; stroke-width: 1.5;\" width=\"79\" x=\"77.5\" y=\"41\"/><text fill=\"#000000\" font-family=\"sans-serif\" font-size=\"12\" font-style=\"italic\" lengthAdjust=\"spacingAndGlyphs\" textLength=\"77\" x=\"78.5\" y=\"57.1387\">«action def»</text><text fill=\"#000000\" font-family=\"sans-serif\" font-size=\"12\" lengthAdjust=\"spacingAndGlyphs\" textLength=\"27\" x=\"103.5\" y=\"71.1074\">setX</text><line style=\"stroke: #383838; stroke-width: 1.5;\" x1=\"78.5\" x2=\"155.5\" y1=\"78.9375\" y2=\"78.9375\"/></a><!--MD5=[4672eba38e49728da53d11aeb285b987]\n",
       "reverse link E3 to E4--><a href=\"psysml:53eca076-bd38-4ff8-88cd-ccaa057f7e59\" target=\"_top\" title=\"psysml:53eca076-bd38-4ff8-88cd-ccaa057f7e59\" xlink:actuate=\"onRequest\" xlink:href=\"psysml:53eca076-bd38-4ff8-88cd-ccaa057f7e59\" xlink:show=\"new\" xlink:title=\"psysml:53eca076-bd38-4ff8-88cd-ccaa057f7e59\" xlink:type=\"simple\"><path d=\"M173.69,253.27 C169.97,269.82 166.01,287.38 163.01,300.75 \" fill=\"none\" id=\"E3&lt;-E4\" style=\"stroke: #383838; stroke-width: 1.0;\"/><polygon fill=\"#FFFFFF\" points=\"176.61,240.31,171.3948,245.2901,173.9859,252.0196,179.2011,247.0395,176.61,240.31\" style=\"stroke: #383838; stroke-width: 1.0;\"/></a><!--MD5=[6f107eb264eda4b26325f39a5516f1f3]\n",
       "reverse link E5 to E3--><a href=\"psysml:34b277fa-246f-4890-8f8b-22f79f83c872\" target=\"_top\" title=\"psysml:34b277fa-246f-4890-8f8b-22f79f83c872\" xlink:actuate=\"onRequest\" xlink:href=\"psysml:34b277fa-246f-4890-8f8b-22f79f83c872\" xlink:show=\"new\" xlink:title=\"psysml:34b277fa-246f-4890-8f8b-22f79f83c872\" xlink:type=\"simple\"><path d=\"M134,99 C143.89,118.78 156.35,143.71 166.49,163.97 \" fill=\"none\" id=\"E5&lt;-E3\" style=\"stroke: #383838; stroke-width: 1.0;\"/><polygon fill=\"#FFFFFF\" points=\"128.08,87.15,127.1856,94.3054,133.4466,97.8831,134.341,90.7277,128.08,87.15\" style=\"stroke: #383838; stroke-width: 1.0;\"/><text fill=\"#000000\" font-family=\"sans-serif\" font-size=\"13\" lengthAdjust=\"spacingAndGlyphs\" textLength=\"7\" x=\"152\" y=\"130.0669\">c</text></a><!--MD5=[f51c6d1f1856fe338ac0413483fb1ccf]\n",
       "reverse link E5 to E2--><a href=\"psysml:085fc47f-09d9-4ca0-b48d-81ba6e318ca7\" target=\"_top\" title=\"psysml:085fc47f-09d9-4ca0-b48d-81ba6e318ca7\" xlink:actuate=\"onRequest\" xlink:href=\"psysml:085fc47f-09d9-4ca0-b48d-81ba6e318ca7\" xlink:show=\"new\" xlink:title=\"psysml:085fc47f-09d9-4ca0-b48d-81ba6e318ca7\" xlink:type=\"simple\"><path d=\"M105.01,99.64 C101.7,109.2 99,117 99,117 C99,117 90.18,154.04 84.25,178.93 \" fill=\"none\" id=\"E5&lt;-E2\" style=\"stroke: #383838; stroke-width: 1.0;\"/><polygon fill=\"#FFFFFF\" points=\"109.37,87.05,103.626,91.4096,105.4411,98.3886,111.1851,94.0289,109.37,87.05\" style=\"stroke: #383838; stroke-width: 1.0;\"/><text fill=\"#000000\" font-family=\"sans-serif\" font-size=\"13\" lengthAdjust=\"spacingAndGlyphs\" textLength=\"33\" x=\"100\" y=\"130.0669\">newX</text></a><!--MD5=[754c10d407aba99b36e3c55f1986e218]\n",
       "@startuml\r\n",
       "skinparam linetype polyline\r\n",
       "skinparam monochrome true\r\n",
       "skinparam classbackgroundcolor white\r\n",
       "skinparam shadowing false\r\n",
       "skinparam wrapWidth 300\r\n",
       "hide circle\r\n",
       "\r\n",
       "package \"TextualRepresentationTest\" as E1  [[psysml:1e396b56-292d-4ed9-bbba-ca6bb661746c ]]  {\r\n",
       "comp def \"Real\" as E2  <<(T,blue) dataType>> [[psysml:2e771e59-55ab-4895-8e71-4691f1152b9b ]] {\r\n",
       "}\r\n",
       "comp def \"C\" as E3  <<(T,blue) item def>> [[psysml:e4de1612-4570-4c3a-878c-e0dca14f25a7 ]] {\r\n",
       "- - attributes - -\r\n",
       "x: Real\r\n",
       "}\r\n",
       "comp usage \"x_constraint\" as E4  <<(T,blue) assertConstraint>> [[psysml:8c3cf46e-c423-4c70-a710-66f9a3632f6b ]] {\r\n",
       "}\r\n",
       "comp def \"setX\" as E5  <<(T,blue) action def>> [[psysml:7113fdf5-c3b3-43b5-a3fa-02abb845fbc2 ]] {\r\n",
       "}\r\n",
       "E3 o- - E4 [[psysml:53eca076-bd38-4ff8-88cd-ccaa057f7e59 ]] \r\n",
       "E5 o- - E3 [[psysml:34b277fa-246f-4890-8f8b-22f79f83c872 ]] : c\r\n",
       "E5 o- - E2 [[psysml:085fc47f-09d9-4ca0-b48d-81ba6e318ca7 ]] : newX\r\n",
       "}\r\n",
       "@enduml\r\n",
       "\n",
       "PlantUML version 1.2020.13(Sat Jun 13 12:26:38 UTC 2020)\n",
       "(EPL source distribution)\n",
       "Java Runtime: OpenJDK Runtime Environment\n",
       "JVM: OpenJDK 64-Bit Server VM\n",
       "Default Encoding: UTF-8\n",
       "Language: en\n",
       "Country: null\n",
       "--></g></svg>"
      ]
     },
     "execution_count": 14,
     "metadata": {},
     "output_type": "execute_result"
    }
   ],
   "source": [
    "%viz --style=\"POLYLINE\" --view=\"Sequence\" \"TextualRepresentationTest\""
   ]
  },
  {
   "cell_type": "code",
   "execution_count": 15,
   "id": "d5a6b123",
   "metadata": {
    "execution": {
     "iopub.execute_input": "2021-06-30T09:21:16.805723Z",
     "iopub.status.busy": "2021-06-30T09:21:16.805360Z",
     "iopub.status.idle": "2021-06-30T09:21:16.859797Z",
     "shell.execute_reply": "2021-06-30T09:21:16.859413Z"
    }
   },
   "outputs": [
    {
     "data": {
      "image/svg+xml": [
       "<?xml version=\"1.0\" encoding=\"UTF-8\" standalone=\"no\"?><svg xmlns=\"http://www.w3.org/2000/svg\" xmlns:xlink=\"http://www.w3.org/1999/xlink\" contentScriptType=\"application/ecmascript\" contentStyleType=\"text/css\" height=\"261px\" preserveAspectRatio=\"none\" style=\"width:389px;height:261px;\" version=\"1.1\" viewBox=\"0 0 389 261\" width=\"389px\" zoomAndPan=\"magnify\"><defs/><g><!--MD5=[fbc87193dbaf4d95561dea2c320d4a47]\n",
       "cluster E1--><a href=\"psysml:1e396b56-292d-4ed9-bbba-ca6bb661746c\" target=\"_top\" title=\"psysml:1e396b56-292d-4ed9-bbba-ca6bb661746c\" xlink:actuate=\"onRequest\" xlink:href=\"psysml:1e396b56-292d-4ed9-bbba-ca6bb661746c\" xlink:show=\"new\" xlink:title=\"psysml:1e396b56-292d-4ed9-bbba-ca6bb661746c\" xlink:type=\"simple\"><polygon fill=\"#FFFFFF\" points=\"16,6,236,6,243,28.2969,367,28.2969,367,249.5,16,249.5,16,6\" style=\"stroke: #000000; stroke-width: 1.5;\"/><line style=\"stroke: #000000; stroke-width: 1.5;\" x1=\"16\" x2=\"243\" y1=\"28.2969\" y2=\"28.2969\"/><text fill=\"#000000\" font-family=\"sans-serif\" font-size=\"14\" font-weight=\"bold\" lengthAdjust=\"spacingAndGlyphs\" textLength=\"214\" x=\"20\" y=\"20.9951\">TextualRepresentationTest</text></a><!--MD5=[de5ec2e2e8f62f467e546659f5068c88]\n",
       "cluster E5--><a href=\"psysml:7113fdf5-c3b3-43b5-a3fa-02abb845fbc2\" target=\"_top\" title=\"psysml:7113fdf5-c3b3-43b5-a3fa-02abb845fbc2\" xlink:actuate=\"onRequest\" xlink:href=\"psysml:7113fdf5-c3b3-43b5-a3fa-02abb845fbc2\" xlink:show=\"new\" xlink:title=\"psysml:7113fdf5-c3b3-43b5-a3fa-02abb845fbc2\" xlink:type=\"simple\"><rect fill=\"#FFFFFF\" height=\"154.5\" id=\"E5\" style=\"stroke: #383838; stroke-width: 1.5;\" width=\"96\" x=\"225.5\" y=\"79\"/><rect fill=\"#F8F8F8\" height=\"37.9375\" style=\"stroke: #383838; stroke-width: 1.5;\" width=\"96\" x=\"225.5\" y=\"79\"/><text fill=\"#000000\" font-family=\"sans-serif\" font-size=\"12\" font-style=\"italic\" lengthAdjust=\"spacingAndGlyphs\" textLength=\"77\" x=\"235\" y=\"95.1387\">«action def»</text><text fill=\"#000000\" font-family=\"sans-serif\" font-size=\"12\" lengthAdjust=\"spacingAndGlyphs\" textLength=\"27\" x=\"260\" y=\"109.1074\">setX</text></a><!--MD5=[b4997ac47864f28c2f74865a473b2911]\n",
       "class E2--><a href=\"psysml:2e771e59-55ab-4895-8e71-4691f1152b9b\" target=\"_top\" title=\"psysml:2e771e59-55ab-4895-8e71-4691f1152b9b\" xlink:actuate=\"onRequest\" xlink:href=\"psysml:2e771e59-55ab-4895-8e71-4691f1152b9b\" xlink:show=\"new\" xlink:title=\"psysml:2e771e59-55ab-4895-8e71-4691f1152b9b\" xlink:type=\"simple\"><rect fill=\"#FFFFFF\" height=\"45.9375\" id=\"E2\" style=\"stroke: #383838; stroke-width: 1.5;\" width=\"74\" x=\"135\" y=\"56\"/><text fill=\"#000000\" font-family=\"sans-serif\" font-size=\"12\" font-style=\"italic\" lengthAdjust=\"spacingAndGlyphs\" textLength=\"72\" x=\"136\" y=\"72.1387\">«dataType»</text><text fill=\"#000000\" font-family=\"sans-serif\" font-size=\"12\" lengthAdjust=\"spacingAndGlyphs\" textLength=\"27\" x=\"158.5\" y=\"86.1074\">Real</text><line style=\"stroke: #383838; stroke-width: 1.5;\" x1=\"136\" x2=\"208\" y1=\"93.9375\" y2=\"93.9375\"/></a><!--MD5=[09b614a08d8cba4a07c9adeb5e0fee81]\n",
       "class E3--><a href=\"psysml:e4de1612-4570-4c3a-878c-e0dca14f25a7\" target=\"_top\" title=\"psysml:e4de1612-4570-4c3a-878c-e0dca14f25a7\" xlink:actuate=\"onRequest\" xlink:href=\"psysml:e4de1612-4570-4c3a-878c-e0dca14f25a7\" xlink:show=\"new\" xlink:title=\"psysml:e4de1612-4570-4c3a-878c-e0dca14f25a7\" xlink:type=\"simple\"><rect fill=\"#FFFFFF\" height=\"75.5469\" id=\"E3\" style=\"stroke: #383838; stroke-width: 1.5;\" width=\"67\" x=\"32.5\" y=\"41\"/><text fill=\"#000000\" font-family=\"sans-serif\" font-size=\"12\" font-style=\"italic\" lengthAdjust=\"spacingAndGlyphs\" textLength=\"65\" x=\"33.5\" y=\"57.1387\">«item def»</text><text fill=\"#000000\" font-family=\"sans-serif\" font-size=\"12\" lengthAdjust=\"spacingAndGlyphs\" textLength=\"8\" x=\"62\" y=\"71.1074\">C</text><line style=\"stroke: #383838; stroke-width: 1.5;\" x1=\"33.5\" x2=\"98.5\" y1=\"78.9375\" y2=\"78.9375\"/><text fill=\"#000000\" font-family=\"sans-serif\" font-size=\"11\" lengthAdjust=\"spacingAndGlyphs\" textLength=\"38\" x=\"38.5\" y=\"109.9526\">x: Real</text><line style=\"stroke: #383838; stroke-width: 1.0;\" x1=\"33.5\" x2=\"38.5\" y1=\"93.3398\" y2=\"93.3398\"/><text fill=\"#000000\" font-family=\"sans-serif\" font-size=\"11\" lengthAdjust=\"spacingAndGlyphs\" textLength=\"55\" x=\"38.5\" y=\"96.6479\">attributes</text><line style=\"stroke: #383838; stroke-width: 1.0;\" x1=\"93.5\" x2=\"98.5\" y1=\"93.3398\" y2=\"93.3398\"/></a><!--MD5=[ebbe1d658d1005bcc118a6aa81145e00]\n",
       "class E4--><a href=\"psysml:8c3cf46e-c423-4c70-a710-66f9a3632f6b\" target=\"_top\" title=\"psysml:8c3cf46e-c423-4c70-a710-66f9a3632f6b\" xlink:actuate=\"onRequest\" xlink:href=\"psysml:8c3cf46e-c423-4c70-a710-66f9a3632f6b\" xlink:show=\"new\" xlink:title=\"psysml:8c3cf46e-c423-4c70-a710-66f9a3632f6b\" xlink:type=\"simple\"><rect fill=\"#FFFFFF\" height=\"45.9375\" id=\"E4\" rx=\"10\" ry=\"10\" style=\"stroke: #383838; stroke-width: 1.5;\" width=\"121\" x=\"32.5\" y=\"177\"/><text fill=\"#000000\" font-family=\"sans-serif\" font-size=\"12\" font-style=\"italic\" lengthAdjust=\"spacingAndGlyphs\" textLength=\"119\" x=\"33.5\" y=\"193.1387\">«assertConstraint»</text><text fill=\"#000000\" font-family=\"sans-serif\" font-size=\"12\" lengthAdjust=\"spacingAndGlyphs\" textLength=\"76\" x=\"55\" y=\"207.1074\">x_constraint</text><line style=\"stroke: #383838; stroke-width: 1.5;\" x1=\"33.5\" x2=\"152.5\" y1=\"214.9375\" y2=\"214.9375\"/></a><text fill=\"#000000\" font-family=\"sans-serif\" font-size=\"14\" lengthAdjust=\"spacingAndGlyphs\" textLength=\"8\" x=\"246\" y=\"57.6982\">c</text><rect fill=\"#383838\" height=\"12\" style=\"stroke: #F8F8F8; stroke-width: 1.5;\" width=\"12\" x=\"244\" y=\"73\"/><text fill=\"#000000\" font-family=\"sans-serif\" font-size=\"14\" lengthAdjust=\"spacingAndGlyphs\" textLength=\"38\" x=\"278\" y=\"57.6982\">newX</text><rect fill=\"#383838\" height=\"12\" style=\"stroke: #F8F8F8; stroke-width: 1.5;\" width=\"12\" x=\"291\" y=\"73\"/><!--MD5=[4672eba38e49728da53d11aeb285b987]\n",
       "reverse link E3 to E4--><a href=\"psysml:53eca076-bd38-4ff8-88cd-ccaa057f7e59\" target=\"_top\" title=\"psysml:53eca076-bd38-4ff8-88cd-ccaa057f7e59\" xlink:actuate=\"onRequest\" xlink:href=\"psysml:53eca076-bd38-4ff8-88cd-ccaa057f7e59\" xlink:show=\"new\" xlink:title=\"psysml:53eca076-bd38-4ff8-88cd-ccaa057f7e59\" xlink:type=\"simple\"><path d=\"M77.31,129.85 C81.03,146.26 84.99,163.68 87.99,176.93 \" fill=\"none\" id=\"E3&lt;-E4\" style=\"stroke: #383838; stroke-width: 1.0;\"/><polygon fill=\"#FFFFFF\" points=\"74.39,117,71.8133,123.735,77.0392,128.7039,79.6159,121.9689,74.39,117\" style=\"stroke: #383838; stroke-width: 1.0;\"/></a><!--MD5=[b28fb1c1bc0db087c488a5544afbbcea]\n",
       "@startuml\r\n",
       "skinparam linetype polyline\r\n",
       "skinparam monochrome true\r\n",
       "skinparam classbackgroundcolor white\r\n",
       "skinparam shadowing false\r\n",
       "skinparam wrapWidth 300\r\n",
       "hide circle\r\n",
       "\r\n",
       "package \"TextualRepresentationTest\" as E1  [[psysml:1e396b56-292d-4ed9-bbba-ca6bb661746c ]]  {\r\n",
       "comp def \"Real\" as E2  <<(T,blue) dataType>> [[psysml:2e771e59-55ab-4895-8e71-4691f1152b9b ]] {\r\n",
       "}\r\n",
       "comp def \"C\" as E3  <<(T,blue) item def>> [[psysml:e4de1612-4570-4c3a-878c-e0dca14f25a7 ]] {\r\n",
       "- - attributes - -\r\n",
       "x: Real\r\n",
       "}\r\n",
       "comp usage \"x_constraint\" as E4  <<(T,blue) assertConstraint>> [[psysml:8c3cf46e-c423-4c70-a710-66f9a3632f6b ]] {\r\n",
       "}\r\n",
       "rec def \"setX\" as E5  <<(T,blue) action def>> [[psysml:7113fdf5-c3b3-43b5-a3fa-02abb845fbc2 ]] {\r\n",
       "portin \"c\" as E6  [[psysml:34b277fa-246f-4890-8f8b-22f79f83c872 ]] \r\n",
       "portin \"newX\" as E7  [[psysml:085fc47f-09d9-4ca0-b48d-81ba6e318ca7 ]] \r\n",
       "}\r\n",
       "\r\n",
       "E3 o- - E4 [[psysml:53eca076-bd38-4ff8-88cd-ccaa057f7e59 ]] \r\n",
       "}\r\n",
       "@enduml\r\n",
       "\n",
       "PlantUML version 1.2020.13(Sat Jun 13 12:26:38 UTC 2020)\n",
       "(EPL source distribution)\n",
       "Java Runtime: OpenJDK Runtime Environment\n",
       "JVM: OpenJDK 64-Bit Server VM\n",
       "Default Encoding: UTF-8\n",
       "Language: en\n",
       "Country: null\n",
       "--></g></svg>"
      ]
     },
     "execution_count": 15,
     "metadata": {},
     "output_type": "execute_result"
    }
   ],
   "source": [
    "%viz --style=\"POLYLINE\" --view=\"MIXED\" \"TextualRepresentationTest\""
   ]
  },
  {
   "cell_type": "code",
   "execution_count": 16,
   "id": "dfa0d55e",
   "metadata": {
    "execution": {
     "iopub.execute_input": "2021-06-30T09:21:16.911166Z",
     "iopub.status.busy": "2021-06-30T09:21:16.910570Z",
     "iopub.status.idle": "2021-06-30T09:21:16.977042Z",
     "shell.execute_reply": "2021-06-30T09:21:16.975485Z"
    }
   },
   "outputs": [
    {
     "data": {
      "image/svg+xml": [
       "<?xml version=\"1.0\" encoding=\"UTF-8\" standalone=\"no\"?><svg xmlns=\"http://www.w3.org/2000/svg\" xmlns:xlink=\"http://www.w3.org/1999/xlink\" contentScriptType=\"application/ecmascript\" contentStyleType=\"text/css\" height=\"328px\" preserveAspectRatio=\"none\" style=\"width:331px;height:328px;\" version=\"1.1\" viewBox=\"0 0 331 328\" width=\"331px\" zoomAndPan=\"magnify\"><defs/><g><!--MD5=[fbc87193dbaf4d95561dea2c320d4a47]\n",
       "cluster E1--><a href=\"psysml:1e396b56-292d-4ed9-bbba-ca6bb661746c\" target=\"_top\" title=\"psysml:1e396b56-292d-4ed9-bbba-ca6bb661746c\" xlink:actuate=\"onRequest\" xlink:href=\"psysml:1e396b56-292d-4ed9-bbba-ca6bb661746c\" xlink:show=\"new\" xlink:title=\"psysml:1e396b56-292d-4ed9-bbba-ca6bb661746c\" xlink:type=\"simple\"><polygon fill=\"#FFFFFF\" points=\"16,6,236,6,243,28.2969,309.5,28.2969,309.5,316,16,316,16,6\" style=\"stroke: #000000; stroke-width: 1.5;\"/><line style=\"stroke: #000000; stroke-width: 1.5;\" x1=\"16\" x2=\"243\" y1=\"28.2969\" y2=\"28.2969\"/><text fill=\"#000000\" font-family=\"sans-serif\" font-size=\"14\" font-weight=\"bold\" lengthAdjust=\"spacingAndGlyphs\" textLength=\"214\" x=\"20\" y=\"20.9951\">TextualRepresentationTest</text></a><!--MD5=[de5ec2e2e8f62f467e546659f5068c88]\n",
       "cluster E5--><a href=\"psysml:7113fdf5-c3b3-43b5-a3fa-02abb845fbc2\" target=\"_top\" title=\"psysml:7113fdf5-c3b3-43b5-a3fa-02abb845fbc2\" xlink:actuate=\"onRequest\" xlink:href=\"psysml:7113fdf5-c3b3-43b5-a3fa-02abb845fbc2\" xlink:show=\"new\" xlink:title=\"psysml:7113fdf5-c3b3-43b5-a3fa-02abb845fbc2\" xlink:type=\"simple\"><rect fill=\"#FFFFFF\" height=\"47\" id=\"E5\" style=\"stroke: #383838; stroke-width: 1.5;\" width=\"242.5\" x=\"51\" y=\"55\"/><rect fill=\"#F8F8F8\" height=\"37.9375\" style=\"stroke: #383838; stroke-width: 1.5;\" width=\"242.5\" x=\"51\" y=\"55\"/><text fill=\"#000000\" font-family=\"sans-serif\" font-size=\"12\" font-style=\"italic\" lengthAdjust=\"spacingAndGlyphs\" textLength=\"77\" x=\"133.75\" y=\"71.1387\">«action def»</text><text fill=\"#000000\" font-family=\"sans-serif\" font-size=\"12\" lengthAdjust=\"spacingAndGlyphs\" textLength=\"27\" x=\"158.75\" y=\"85.1074\">setX</text></a><!--MD5=[b4997ac47864f28c2f74865a473b2911]\n",
       "class E2--><a href=\"psysml:2e771e59-55ab-4895-8e71-4691f1152b9b\" target=\"_top\" title=\"psysml:2e771e59-55ab-4895-8e71-4691f1152b9b\" xlink:actuate=\"onRequest\" xlink:href=\"psysml:2e771e59-55ab-4895-8e71-4691f1152b9b\" xlink:show=\"new\" xlink:title=\"psysml:2e771e59-55ab-4895-8e71-4691f1152b9b\" xlink:type=\"simple\"><rect fill=\"#FFFFFF\" height=\"45.9375\" id=\"E2\" style=\"stroke: #383838; stroke-width: 1.5;\" width=\"74\" x=\"32\" y=\"143\"/><text fill=\"#000000\" font-family=\"sans-serif\" font-size=\"12\" font-style=\"italic\" lengthAdjust=\"spacingAndGlyphs\" textLength=\"72\" x=\"33\" y=\"159.1387\">«dataType»</text><text fill=\"#000000\" font-family=\"sans-serif\" font-size=\"12\" lengthAdjust=\"spacingAndGlyphs\" textLength=\"27\" x=\"55.5\" y=\"173.1074\">Real</text><line style=\"stroke: #383838; stroke-width: 1.5;\" x1=\"33\" x2=\"105\" y1=\"180.9375\" y2=\"180.9375\"/></a><!--MD5=[09b614a08d8cba4a07c9adeb5e0fee81]\n",
       "class E3--><a href=\"psysml:e4de1612-4570-4c3a-878c-e0dca14f25a7\" target=\"_top\" title=\"psysml:e4de1612-4570-4c3a-878c-e0dca14f25a7\" xlink:actuate=\"onRequest\" xlink:href=\"psysml:e4de1612-4570-4c3a-878c-e0dca14f25a7\" xlink:show=\"new\" xlink:title=\"psysml:e4de1612-4570-4c3a-878c-e0dca14f25a7\" xlink:type=\"simple\"><rect fill=\"#FFFFFF\" height=\"75.5469\" id=\"E3\" style=\"stroke: #383838; stroke-width: 1.5;\" width=\"67\" x=\"35.5\" y=\"224\"/><text fill=\"#000000\" font-family=\"sans-serif\" font-size=\"12\" font-style=\"italic\" lengthAdjust=\"spacingAndGlyphs\" textLength=\"65\" x=\"36.5\" y=\"240.1387\">«item def»</text><text fill=\"#000000\" font-family=\"sans-serif\" font-size=\"12\" lengthAdjust=\"spacingAndGlyphs\" textLength=\"8\" x=\"65\" y=\"254.1074\">C</text><line style=\"stroke: #383838; stroke-width: 1.5;\" x1=\"36.5\" x2=\"101.5\" y1=\"261.9375\" y2=\"261.9375\"/><text fill=\"#000000\" font-family=\"sans-serif\" font-size=\"11\" lengthAdjust=\"spacingAndGlyphs\" textLength=\"38\" x=\"41.5\" y=\"292.9526\">x: Real</text><line style=\"stroke: #383838; stroke-width: 1.0;\" x1=\"36.5\" x2=\"41.5\" y1=\"276.3398\" y2=\"276.3398\"/><text fill=\"#000000\" font-family=\"sans-serif\" font-size=\"11\" lengthAdjust=\"spacingAndGlyphs\" textLength=\"55\" x=\"41.5\" y=\"279.6479\">attributes</text><line style=\"stroke: #383838; stroke-width: 1.0;\" x1=\"96.5\" x2=\"101.5\" y1=\"276.3398\" y2=\"276.3398\"/></a><!--MD5=[ebbe1d658d1005bcc118a6aa81145e00]\n",
       "class E4--><a href=\"psysml:8c3cf46e-c423-4c70-a710-66f9a3632f6b\" target=\"_top\" title=\"psysml:8c3cf46e-c423-4c70-a710-66f9a3632f6b\" xlink:actuate=\"onRequest\" xlink:href=\"psysml:8c3cf46e-c423-4c70-a710-66f9a3632f6b\" xlink:show=\"new\" xlink:title=\"psysml:8c3cf46e-c423-4c70-a710-66f9a3632f6b\" xlink:type=\"simple\"><rect fill=\"#FFFFFF\" height=\"45.9375\" id=\"E4\" rx=\"10\" ry=\"10\" style=\"stroke: #383838; stroke-width: 1.5;\" width=\"121\" x=\"166\" y=\"239\"/><text fill=\"#000000\" font-family=\"sans-serif\" font-size=\"12\" font-style=\"italic\" lengthAdjust=\"spacingAndGlyphs\" textLength=\"119\" x=\"167\" y=\"255.1387\">«assertConstraint»</text><text fill=\"#000000\" font-family=\"sans-serif\" font-size=\"12\" lengthAdjust=\"spacingAndGlyphs\" textLength=\"76\" x=\"188.5\" y=\"269.1074\">x_constraint</text><line style=\"stroke: #383838; stroke-width: 1.5;\" x1=\"167\" x2=\"286\" y1=\"276.9375\" y2=\"276.9375\"/></a><text fill=\"#000000\" font-family=\"sans-serif\" font-size=\"14\" lengthAdjust=\"spacingAndGlyphs\" textLength=\"8\" x=\"65\" y=\"120.9951\">c</text><rect fill=\"#383838\" height=\"12\" style=\"stroke: #F8F8F8; stroke-width: 1.5;\" width=\"12\" x=\"63\" y=\"96\"/><text fill=\"#000000\" font-family=\"sans-serif\" font-size=\"14\" lengthAdjust=\"spacingAndGlyphs\" textLength=\"38\" x=\"50\" y=\"33.6982\">newX</text><rect fill=\"#383838\" height=\"12\" style=\"stroke: #F8F8F8; stroke-width: 1.5;\" width=\"12\" x=\"63\" y=\"49\"/><!--MD5=[4672eba38e49728da53d11aeb285b987]\n",
       "reverse link E3 to E4--><a href=\"psysml:53eca076-bd38-4ff8-88cd-ccaa057f7e59\" target=\"_top\" title=\"psysml:53eca076-bd38-4ff8-88cd-ccaa057f7e59\" xlink:actuate=\"onRequest\" xlink:href=\"psysml:53eca076-bd38-4ff8-88cd-ccaa057f7e59\" xlink:show=\"new\" xlink:title=\"psysml:53eca076-bd38-4ff8-88cd-ccaa057f7e59\" xlink:type=\"simple\"><path d=\"M115.78,262 C131.48,262 149.3,262 165.93,262 \" fill=\"none\" id=\"E3&lt;-E4\" style=\"stroke: #383838; stroke-width: 1.0;\"/><polygon fill=\"#FFFFFF\" points=\"102.6,262,108.6,266,114.6,262,108.6,258,102.6,262\" style=\"stroke: #383838; stroke-width: 1.0;\"/></a><!--MD5=[181d18f8c1a044ab4febd8f7dae073bf]\n",
       "@startuml\r\n",
       "left to right direction\r\n",
       "skinparam monochrome true\r\n",
       "skinparam classbackgroundcolor white\r\n",
       "skinparam shadowing false\r\n",
       "skinparam wrapWidth 300\r\n",
       "hide circle\r\n",
       "\r\n",
       "package \"TextualRepresentationTest\" as E1  [[psysml:1e396b56-292d-4ed9-bbba-ca6bb661746c ]]  {\r\n",
       "comp def \"Real\" as E2  <<(T,blue) dataType>> [[psysml:2e771e59-55ab-4895-8e71-4691f1152b9b ]] {\r\n",
       "}\r\n",
       "comp def \"C\" as E3  <<(T,blue) item def>> [[psysml:e4de1612-4570-4c3a-878c-e0dca14f25a7 ]] {\r\n",
       "- - attributes - -\r\n",
       "x: Real\r\n",
       "}\r\n",
       "comp usage \"x_constraint\" as E4  <<(T,blue) assertConstraint>> [[psysml:8c3cf46e-c423-4c70-a710-66f9a3632f6b ]] {\r\n",
       "}\r\n",
       "rec def \"setX\" as E5  <<(T,blue) action def>> [[psysml:7113fdf5-c3b3-43b5-a3fa-02abb845fbc2 ]] {\r\n",
       "portin \"c\" as E6  [[psysml:34b277fa-246f-4890-8f8b-22f79f83c872 ]] \r\n",
       "portin \"newX\" as E7  [[psysml:085fc47f-09d9-4ca0-b48d-81ba6e318ca7 ]] \r\n",
       "}\r\n",
       "\r\n",
       "E3 o- - E4 [[psysml:53eca076-bd38-4ff8-88cd-ccaa057f7e59 ]] \r\n",
       "}\r\n",
       "@enduml\r\n",
       "\n",
       "PlantUML version 1.2020.13(Sat Jun 13 12:26:38 UTC 2020)\n",
       "(EPL source distribution)\n",
       "Java Runtime: OpenJDK Runtime Environment\n",
       "JVM: OpenJDK 64-Bit Server VM\n",
       "Default Encoding: UTF-8\n",
       "Language: en\n",
       "Country: null\n",
       "--></g></svg>"
      ]
     },
     "execution_count": 16,
     "metadata": {},
     "output_type": "execute_result"
    }
   ],
   "source": [
    "%viz --style=\"LR\" --view=\"Default\" \"TextualRepresentationTest\""
   ]
  },
  {
   "cell_type": "code",
   "execution_count": 17,
   "id": "3457084e",
   "metadata": {
    "execution": {
     "iopub.execute_input": "2021-06-30T09:21:17.027778Z",
     "iopub.status.busy": "2021-06-30T09:21:17.026872Z",
     "iopub.status.idle": "2021-06-30T09:21:17.088046Z",
     "shell.execute_reply": "2021-06-30T09:21:17.088415Z"
    }
   },
   "outputs": [
    {
     "data": {
      "image/svg+xml": [
       "<?xml version=\"1.0\" encoding=\"UTF-8\" standalone=\"no\"?><svg xmlns=\"http://www.w3.org/2000/svg\" xmlns:xlink=\"http://www.w3.org/1999/xlink\" contentScriptType=\"application/ecmascript\" contentStyleType=\"text/css\" height=\"226px\" preserveAspectRatio=\"none\" style=\"width:500px;height:226px;\" version=\"1.1\" viewBox=\"0 0 500 226\" width=\"500px\" zoomAndPan=\"magnify\"><defs/><g><!--MD5=[fbc87193dbaf4d95561dea2c320d4a47]\n",
       "cluster E1--><a href=\"psysml:1e396b56-292d-4ed9-bbba-ca6bb661746c\" target=\"_top\" title=\"psysml:1e396b56-292d-4ed9-bbba-ca6bb661746c\" xlink:actuate=\"onRequest\" xlink:href=\"psysml:1e396b56-292d-4ed9-bbba-ca6bb661746c\" xlink:show=\"new\" xlink:title=\"psysml:1e396b56-292d-4ed9-bbba-ca6bb661746c\" xlink:type=\"simple\"><polygon fill=\"#FFFFFF\" points=\"16,6,236,6,243,28.2969,478,28.2969,478,214,16,214,16,6\" style=\"stroke: #000000; stroke-width: 1.5;\"/><line style=\"stroke: #000000; stroke-width: 1.5;\" x1=\"16\" x2=\"243\" y1=\"28.2969\" y2=\"28.2969\"/><text fill=\"#000000\" font-family=\"sans-serif\" font-size=\"14\" font-weight=\"bold\" lengthAdjust=\"spacingAndGlyphs\" textLength=\"214\" x=\"20\" y=\"20.9951\">TextualRepresentationTest</text></a><!--MD5=[b4997ac47864f28c2f74865a473b2911]\n",
       "class E2--><a href=\"psysml:2e771e59-55ab-4895-8e71-4691f1152b9b\" target=\"_top\" title=\"psysml:2e771e59-55ab-4895-8e71-4691f1152b9b\" xlink:actuate=\"onRequest\" xlink:href=\"psysml:2e771e59-55ab-4895-8e71-4691f1152b9b\" xlink:show=\"new\" xlink:title=\"psysml:2e771e59-55ab-4895-8e71-4691f1152b9b\" xlink:type=\"simple\"><rect fill=\"#FFFFFF\" height=\"45.9375\" id=\"E2\" style=\"stroke: #383838; stroke-width: 1.5;\" width=\"74\" x=\"206\" y=\"152\"/><text fill=\"#000000\" font-family=\"sans-serif\" font-size=\"12\" font-style=\"italic\" lengthAdjust=\"spacingAndGlyphs\" textLength=\"72\" x=\"207\" y=\"168.1387\">«dataType»</text><text fill=\"#000000\" font-family=\"sans-serif\" font-size=\"12\" lengthAdjust=\"spacingAndGlyphs\" textLength=\"27\" x=\"229.5\" y=\"182.1074\">Real</text><line style=\"stroke: #383838; stroke-width: 1.5;\" x1=\"207\" x2=\"279\" y1=\"189.9375\" y2=\"189.9375\"/></a><!--MD5=[09b614a08d8cba4a07c9adeb5e0fee81]\n",
       "class E3--><a href=\"psysml:e4de1612-4570-4c3a-878c-e0dca14f25a7\" target=\"_top\" title=\"psysml:e4de1612-4570-4c3a-878c-e0dca14f25a7\" xlink:actuate=\"onRequest\" xlink:href=\"psysml:e4de1612-4570-4c3a-878c-e0dca14f25a7\" xlink:show=\"new\" xlink:title=\"psysml:e4de1612-4570-4c3a-878c-e0dca14f25a7\" xlink:type=\"simple\"><rect fill=\"#FFFFFF\" height=\"75.5469\" id=\"E3\" style=\"stroke: #383838; stroke-width: 1.5;\" width=\"67\" x=\"209.5\" y=\"41\"/><text fill=\"#000000\" font-family=\"sans-serif\" font-size=\"12\" font-style=\"italic\" lengthAdjust=\"spacingAndGlyphs\" textLength=\"65\" x=\"210.5\" y=\"57.1387\">«item def»</text><text fill=\"#000000\" font-family=\"sans-serif\" font-size=\"12\" lengthAdjust=\"spacingAndGlyphs\" textLength=\"8\" x=\"239\" y=\"71.1074\">C</text><line style=\"stroke: #383838; stroke-width: 1.5;\" x1=\"210.5\" x2=\"275.5\" y1=\"78.9375\" y2=\"78.9375\"/><text fill=\"#000000\" font-family=\"sans-serif\" font-size=\"11\" lengthAdjust=\"spacingAndGlyphs\" textLength=\"38\" x=\"215.5\" y=\"109.9526\">x: Real</text><line style=\"stroke: #383838; stroke-width: 1.0;\" x1=\"210.5\" x2=\"215.5\" y1=\"93.3398\" y2=\"93.3398\"/><text fill=\"#000000\" font-family=\"sans-serif\" font-size=\"11\" lengthAdjust=\"spacingAndGlyphs\" textLength=\"55\" x=\"215.5\" y=\"96.6479\">attributes</text><line style=\"stroke: #383838; stroke-width: 1.0;\" x1=\"270.5\" x2=\"275.5\" y1=\"93.3398\" y2=\"93.3398\"/></a><!--MD5=[ebbe1d658d1005bcc118a6aa81145e00]\n",
       "class E4--><a href=\"psysml:8c3cf46e-c423-4c70-a710-66f9a3632f6b\" target=\"_top\" title=\"psysml:8c3cf46e-c423-4c70-a710-66f9a3632f6b\" xlink:actuate=\"onRequest\" xlink:href=\"psysml:8c3cf46e-c423-4c70-a710-66f9a3632f6b\" xlink:show=\"new\" xlink:title=\"psysml:8c3cf46e-c423-4c70-a710-66f9a3632f6b\" xlink:type=\"simple\"><rect fill=\"#FFFFFF\" height=\"45.9375\" id=\"E4\" rx=\"10\" ry=\"10\" style=\"stroke: #383838; stroke-width: 1.5;\" width=\"121\" x=\"341\" y=\"56\"/><text fill=\"#000000\" font-family=\"sans-serif\" font-size=\"12\" font-style=\"italic\" lengthAdjust=\"spacingAndGlyphs\" textLength=\"119\" x=\"342\" y=\"72.1387\">«assertConstraint»</text><text fill=\"#000000\" font-family=\"sans-serif\" font-size=\"12\" lengthAdjust=\"spacingAndGlyphs\" textLength=\"76\" x=\"363.5\" y=\"86.1074\">x_constraint</text><line style=\"stroke: #383838; stroke-width: 1.5;\" x1=\"342\" x2=\"461\" y1=\"93.9375\" y2=\"93.9375\"/></a><!--MD5=[270fce915f116d4de14055a7c1d9a0f3]\n",
       "class E5--><a href=\"psysml:7113fdf5-c3b3-43b5-a3fa-02abb845fbc2\" target=\"_top\" title=\"psysml:7113fdf5-c3b3-43b5-a3fa-02abb845fbc2\" xlink:actuate=\"onRequest\" xlink:href=\"psysml:7113fdf5-c3b3-43b5-a3fa-02abb845fbc2\" xlink:show=\"new\" xlink:title=\"psysml:7113fdf5-c3b3-43b5-a3fa-02abb845fbc2\" xlink:type=\"simple\"><rect fill=\"#FFFFFF\" height=\"45.9375\" id=\"E5\" style=\"stroke: #383838; stroke-width: 1.5;\" width=\"79\" x=\"32\" y=\"95\"/><text fill=\"#000000\" font-family=\"sans-serif\" font-size=\"12\" font-style=\"italic\" lengthAdjust=\"spacingAndGlyphs\" textLength=\"77\" x=\"33\" y=\"111.1387\">«action def»</text><text fill=\"#000000\" font-family=\"sans-serif\" font-size=\"12\" lengthAdjust=\"spacingAndGlyphs\" textLength=\"27\" x=\"58\" y=\"125.1074\">setX</text><line style=\"stroke: #383838; stroke-width: 1.5;\" x1=\"33\" x2=\"110\" y1=\"132.9375\" y2=\"132.9375\"/></a><!--MD5=[4672eba38e49728da53d11aeb285b987]\n",
       "reverse link E3 to E4--><a href=\"psysml:53eca076-bd38-4ff8-88cd-ccaa057f7e59\" target=\"_top\" title=\"psysml:53eca076-bd38-4ff8-88cd-ccaa057f7e59\" xlink:actuate=\"onRequest\" xlink:href=\"psysml:53eca076-bd38-4ff8-88cd-ccaa057f7e59\" xlink:show=\"new\" xlink:title=\"psysml:53eca076-bd38-4ff8-88cd-ccaa057f7e59\" xlink:type=\"simple\"><path d=\"M290.14,79 C306.03,79 324.05,79 340.87,79 \" fill=\"none\" id=\"E3&lt;-E4\" style=\"stroke: #383838; stroke-width: 1.0;\"/><polygon fill=\"#FFFFFF\" points=\"276.81,79,282.81,83,288.81,79,282.81,75,276.81,79\" style=\"stroke: #383838; stroke-width: 1.0;\"/></a><!--MD5=[6f107eb264eda4b26325f39a5516f1f3]\n",
       "reverse link E5 to E3--><a href=\"psysml:34b277fa-246f-4890-8f8b-22f79f83c872\" target=\"_top\" title=\"psysml:34b277fa-246f-4890-8f8b-22f79f83c872\" xlink:actuate=\"onRequest\" xlink:href=\"psysml:34b277fa-246f-4890-8f8b-22f79f83c872\" xlink:show=\"new\" xlink:title=\"psysml:34b277fa-246f-4890-8f8b-22f79f83c872\" xlink:type=\"simple\"><path d=\"M124.07,106.13 C151.79,99.76 185.13,92.08 209.28,86.53 \" fill=\"none\" id=\"E5&lt;-E3\" style=\"stroke: #383838; stroke-width: 1.0;\"/><polygon fill=\"#FFFFFF\" points=\"111.39,109.05,118.1339,111.6034,123.0847,106.3604,116.3408,103.8069,111.39,109.05\" style=\"stroke: #383838; stroke-width: 1.0;\"/><text fill=\"#000000\" font-family=\"sans-serif\" font-size=\"13\" lengthAdjust=\"spacingAndGlyphs\" textLength=\"7\" x=\"155\" y=\"92.0669\">c</text></a><!--MD5=[f51c6d1f1856fe338ac0413483fb1ccf]\n",
       "reverse link E5 to E2--><a href=\"psysml:085fc47f-09d9-4ca0-b48d-81ba6e318ca7\" target=\"_top\" title=\"psysml:085fc47f-09d9-4ca0-b48d-81ba6e318ca7\" xlink:actuate=\"onRequest\" xlink:href=\"psysml:085fc47f-09d9-4ca0-b48d-81ba6e318ca7\" xlink:show=\"new\" xlink:title=\"psysml:085fc47f-09d9-4ca0-b48d-81ba6e318ca7\" xlink:type=\"simple\"><path d=\"M123.91,135.29 C150.39,144.19 182.04,154.84 205.9,162.86 \" fill=\"none\" id=\"E5&lt;-E2\" style=\"stroke: #383838; stroke-width: 1.0;\"/><polygon fill=\"#FFFFFF\" points=\"111.39,131.08,115.8013,136.7844,122.7636,134.9064,118.3523,129.202,111.39,131.08\" style=\"stroke: #383838; stroke-width: 1.0;\"/><text fill=\"#000000\" font-family=\"sans-serif\" font-size=\"13\" lengthAdjust=\"spacingAndGlyphs\" textLength=\"33\" x=\"142\" y=\"138.0669\">newX</text></a><!--MD5=[6f2edd58d1f43a2a344c8277af441633]\n",
       "@startuml\r\n",
       "left to right direction\r\n",
       "skinparam monochrome true\r\n",
       "skinparam classbackgroundcolor white\r\n",
       "skinparam shadowing false\r\n",
       "skinparam wrapWidth 300\r\n",
       "hide circle\r\n",
       "\r\n",
       "package \"TextualRepresentationTest\" as E1  [[psysml:1e396b56-292d-4ed9-bbba-ca6bb661746c ]]  {\r\n",
       "comp def \"Real\" as E2  <<(T,blue) dataType>> [[psysml:2e771e59-55ab-4895-8e71-4691f1152b9b ]] {\r\n",
       "}\r\n",
       "comp def \"C\" as E3  <<(T,blue) item def>> [[psysml:e4de1612-4570-4c3a-878c-e0dca14f25a7 ]] {\r\n",
       "- - attributes - -\r\n",
       "x: Real\r\n",
       "}\r\n",
       "comp usage \"x_constraint\" as E4  <<(T,blue) assertConstraint>> [[psysml:8c3cf46e-c423-4c70-a710-66f9a3632f6b ]] {\r\n",
       "}\r\n",
       "comp def \"setX\" as E5  <<(T,blue) action def>> [[psysml:7113fdf5-c3b3-43b5-a3fa-02abb845fbc2 ]] {\r\n",
       "}\r\n",
       "E3 o- - E4 [[psysml:53eca076-bd38-4ff8-88cd-ccaa057f7e59 ]] \r\n",
       "E5 o- - E3 [[psysml:34b277fa-246f-4890-8f8b-22f79f83c872 ]] : c\r\n",
       "E5 o- - E2 [[psysml:085fc47f-09d9-4ca0-b48d-81ba6e318ca7 ]] : newX\r\n",
       "}\r\n",
       "@enduml\r\n",
       "\n",
       "PlantUML version 1.2020.13(Sat Jun 13 12:26:38 UTC 2020)\n",
       "(EPL source distribution)\n",
       "Java Runtime: OpenJDK Runtime Environment\n",
       "JVM: OpenJDK 64-Bit Server VM\n",
       "Default Encoding: UTF-8\n",
       "Language: en\n",
       "Country: null\n",
       "--></g></svg>"
      ]
     },
     "execution_count": 17,
     "metadata": {},
     "output_type": "execute_result"
    }
   ],
   "source": [
    "%viz --style=\"LR\" --view=\"Tree\" \"TextualRepresentationTest\""
   ]
  },
  {
   "cell_type": "code",
   "execution_count": 18,
   "id": "2effa58b",
   "metadata": {
    "execution": {
     "iopub.execute_input": "2021-06-30T09:21:17.138841Z",
     "iopub.status.busy": "2021-06-30T09:21:17.138466Z",
     "iopub.status.idle": "2021-06-30T09:21:17.143944Z",
     "shell.execute_reply": "2021-06-30T09:21:17.143587Z"
    }
   },
   "outputs": [
    {
     "data": {
      "image/svg+xml": [
       "<?xml version=\"1.0\" encoding=\"UTF-8\" standalone=\"no\"?><svg xmlns=\"http://www.w3.org/2000/svg\" xmlns:xlink=\"http://www.w3.org/1999/xlink\" contentScriptType=\"application/ecmascript\" contentStyleType=\"text/css\" height=\"12px\" preserveAspectRatio=\"none\" style=\"width:12px;height:12px;\" version=\"1.1\" viewBox=\"0 0 12 12\" width=\"12px\" zoomAndPan=\"magnify\"><defs/><g><!--MD5=[19d285c9d72a204eba4e2cd117d745e8]\n",
       "@startuml\r\n",
       "left to right direction\r\n",
       "skinparam monochrome true\r\n",
       "skinparam classbackgroundcolor white\r\n",
       "skinparam shadowing false\r\n",
       "skinparam wrapWidth 300\r\n",
       "hide circle\r\n",
       "\r\n",
       "@enduml\r\n",
       "\n",
       "PlantUML version 1.2020.13(Sat Jun 13 12:26:38 UTC 2020)\n",
       "(EPL source distribution)\n",
       "Java Runtime: OpenJDK Runtime Environment\n",
       "JVM: OpenJDK 64-Bit Server VM\n",
       "Default Encoding: UTF-8\n",
       "Language: en\n",
       "Country: null\n",
       "--></g></svg>"
      ]
     },
     "execution_count": 18,
     "metadata": {},
     "output_type": "execute_result"
    }
   ],
   "source": [
    "%viz --style=\"LR\" --view=\"State\" \"TextualRepresentationTest\""
   ]
  },
  {
   "cell_type": "code",
   "execution_count": 19,
   "id": "074997bc",
   "metadata": {
    "execution": {
     "iopub.execute_input": "2021-06-30T09:21:17.196973Z",
     "iopub.status.busy": "2021-06-30T09:21:17.196046Z",
     "iopub.status.idle": "2021-06-30T09:21:17.237990Z",
     "shell.execute_reply": "2021-06-30T09:21:17.237587Z"
    }
   },
   "outputs": [
    {
     "data": {
      "image/svg+xml": [
       "<?xml version=\"1.0\" encoding=\"UTF-8\" standalone=\"no\"?><svg xmlns=\"http://www.w3.org/2000/svg\" xmlns:xlink=\"http://www.w3.org/1999/xlink\" contentScriptType=\"application/ecmascript\" contentStyleType=\"text/css\" height=\"293px\" preserveAspectRatio=\"none\" style=\"width:283px;height:293px;\" version=\"1.1\" viewBox=\"0 0 283 293\" width=\"283px\" zoomAndPan=\"magnify\"><defs/><g><!--MD5=[fbc87193dbaf4d95561dea2c320d4a47]\n",
       "cluster E1--><a href=\"psysml:1e396b56-292d-4ed9-bbba-ca6bb661746c\" target=\"_top\" title=\"psysml:1e396b56-292d-4ed9-bbba-ca6bb661746c\" xlink:actuate=\"onRequest\" xlink:href=\"psysml:1e396b56-292d-4ed9-bbba-ca6bb661746c\" xlink:show=\"new\" xlink:title=\"psysml:1e396b56-292d-4ed9-bbba-ca6bb661746c\" xlink:type=\"simple\"><polygon fill=\"#FFFFFF\" points=\"16,6,236,6,243,28.2969,261,28.2969,261,281,16,281,16,6\" style=\"stroke: #000000; stroke-width: 1.5;\"/><line style=\"stroke: #000000; stroke-width: 1.5;\" x1=\"16\" x2=\"243\" y1=\"28.2969\" y2=\"28.2969\"/><text fill=\"#000000\" font-family=\"sans-serif\" font-size=\"14\" font-weight=\"bold\" lengthAdjust=\"spacingAndGlyphs\" textLength=\"214\" x=\"20\" y=\"20.9951\">TextualRepresentationTest</text></a><!--MD5=[f6df4d0ebaf0b5dfb2ced0ae5af7c670]\n",
       "cluster E4--><a href=\"psysml:7113fdf5-c3b3-43b5-a3fa-02abb845fbc2\" target=\"_top\" title=\"psysml:7113fdf5-c3b3-43b5-a3fa-02abb845fbc2\" xlink:actuate=\"onRequest\" xlink:href=\"psysml:7113fdf5-c3b3-43b5-a3fa-02abb845fbc2\" xlink:show=\"new\" xlink:title=\"psysml:7113fdf5-c3b3-43b5-a3fa-02abb845fbc2\" xlink:type=\"simple\"><rect fill=\"#FFFFFF\" height=\"47\" id=\"E4\" style=\"stroke: #383838; stroke-width: 1.5;\" width=\"191.5\" x=\"53.5\" y=\"55\"/><rect fill=\"#F8F8F8\" height=\"37.9375\" style=\"stroke: #383838; stroke-width: 1.5;\" width=\"191.5\" x=\"53.5\" y=\"55\"/><text fill=\"#000000\" font-family=\"sans-serif\" font-size=\"12\" font-style=\"italic\" lengthAdjust=\"spacingAndGlyphs\" textLength=\"77\" x=\"110.75\" y=\"71.1387\">«action def»</text><text fill=\"#000000\" font-family=\"sans-serif\" font-size=\"12\" lengthAdjust=\"spacingAndGlyphs\" textLength=\"27\" x=\"135.75\" y=\"85.1074\">setX</text></a><g id=\"E1.E2\"><a href=\"psysml:2e771e59-55ab-4895-8e71-4691f1152b9b\" target=\"_top\" title=\"psysml:2e771e59-55ab-4895-8e71-4691f1152b9b\" xlink:actuate=\"onRequest\" xlink:href=\"psysml:2e771e59-55ab-4895-8e71-4691f1152b9b\" xlink:show=\"new\" xlink:title=\"psysml:2e771e59-55ab-4895-8e71-4691f1152b9b\" xlink:type=\"simple\"><rect fill=\"#FFFFFF\" height=\"42.9375\" id=\"E2\" style=\"stroke: #383838; stroke-width: 1.5;\" width=\"79\" x=\"32\" y=\"143.5\"/><rect fill=\"#F8F8F8\" height=\"37.9375\" style=\"stroke: #383838; stroke-width: 1.5;\" width=\"79\" x=\"32\" y=\"143.5\"/><text fill=\"#000000\" font-family=\"sans-serif\" font-size=\"12\" font-style=\"italic\" lengthAdjust=\"spacingAndGlyphs\" textLength=\"72\" x=\"35.5\" y=\"159.6387\">«dataType»</text><text fill=\"#000000\" font-family=\"sans-serif\" font-size=\"12\" lengthAdjust=\"spacingAndGlyphs\" textLength=\"27\" x=\"58\" y=\"173.6074\">Real</text></a></g><g id=\"E1.E3\"><a href=\"psysml:e4de1612-4570-4c3a-878c-e0dca14f25a7\" target=\"_top\" title=\"psysml:e4de1612-4570-4c3a-878c-e0dca14f25a7\" xlink:actuate=\"onRequest\" xlink:href=\"psysml:e4de1612-4570-4c3a-878c-e0dca14f25a7\" xlink:show=\"new\" xlink:title=\"psysml:e4de1612-4570-4c3a-878c-e0dca14f25a7\" xlink:type=\"simple\"><rect fill=\"#FFFFFF\" height=\"42.9375\" id=\"E3\" style=\"stroke: #383838; stroke-width: 1.5;\" width=\"72\" x=\"35.5\" y=\"221.5\"/><rect fill=\"#F8F8F8\" height=\"37.9375\" style=\"stroke: #383838; stroke-width: 1.5;\" width=\"72\" x=\"35.5\" y=\"221.5\"/><text fill=\"#000000\" font-family=\"sans-serif\" font-size=\"12\" font-style=\"italic\" lengthAdjust=\"spacingAndGlyphs\" textLength=\"65\" x=\"39\" y=\"237.6387\">«item def»</text><text fill=\"#000000\" font-family=\"sans-serif\" font-size=\"12\" lengthAdjust=\"spacingAndGlyphs\" textLength=\"8\" x=\"67.5\" y=\"251.6074\">C</text></a></g><text fill=\"#000000\" font-family=\"sans-serif\" font-size=\"14\" lengthAdjust=\"spacingAndGlyphs\" textLength=\"8\" x=\"67.5\" y=\"120.9951\">c</text><rect fill=\"#383838\" height=\"12\" style=\"stroke: #F8F8F8; stroke-width: 1.5;\" width=\"12\" x=\"65.5\" y=\"96\"/><text fill=\"#000000\" font-family=\"sans-serif\" font-size=\"14\" lengthAdjust=\"spacingAndGlyphs\" textLength=\"38\" x=\"52.5\" y=\"33.6982\">newX</text><rect fill=\"#383838\" height=\"12\" style=\"stroke: #F8F8F8; stroke-width: 1.5;\" width=\"12\" x=\"65.5\" y=\"49\"/><!--MD5=[5e095549f12b2e0ee4e38bf217720803]\n",
       "@startuml\r\n",
       "skinparam ranksep 10\r\n",
       "skinparam rectangle {\r\n",
       " backgroundColor<<block>> LightGreen\r\n",
       "}\r\n",
       "left to right direction\r\n",
       "skinparam monochrome true\r\n",
       "skinparam classbackgroundcolor white\r\n",
       "skinparam shadowing false\r\n",
       "skinparam wrapWidth 300\r\n",
       "hide circle\r\n",
       "\r\n",
       "package \"TextualRepresentationTest\" as E1  [[psysml:1e396b56-292d-4ed9-bbba-ca6bb661746c ]]  {\r\n",
       "def \"Real\" as E2  <<(T,blue) dataType>> [[psysml:2e771e59-55ab-4895-8e71-4691f1152b9b ]] \r\n",
       "def \"C\" as E3  <<(T,blue) item def>> [[psysml:e4de1612-4570-4c3a-878c-e0dca14f25a7 ]] \r\n",
       "rec def \"setX\" as E4  <<(T,blue) action def>> [[psysml:7113fdf5-c3b3-43b5-a3fa-02abb845fbc2 ]] {\r\n",
       "portin \"c\" as E5  [[psysml:34b277fa-246f-4890-8f8b-22f79f83c872 ]] \r\n",
       "portin \"newX\" as E6  [[psysml:085fc47f-09d9-4ca0-b48d-81ba6e318ca7 ]] \r\n",
       "}\r\n",
       "\r\n",
       "}\r\n",
       "@enduml\r\n",
       "\n",
       "PlantUML version 1.2020.13(Sat Jun 13 12:26:38 UTC 2020)\n",
       "(EPL source distribution)\n",
       "Java Runtime: OpenJDK Runtime Environment\n",
       "JVM: OpenJDK 64-Bit Server VM\n",
       "Default Encoding: UTF-8\n",
       "Language: en\n",
       "Country: null\n",
       "--></g></svg>"
      ]
     },
     "execution_count": 19,
     "metadata": {},
     "output_type": "execute_result"
    }
   ],
   "source": [
    "%viz --style=\"LR\" --view=\"Interconnection\" \"TextualRepresentationTest\""
   ]
  },
  {
   "cell_type": "code",
   "execution_count": 20,
   "id": "856bb22c",
   "metadata": {
    "execution": {
     "iopub.execute_input": "2021-06-30T09:21:17.288555Z",
     "iopub.status.busy": "2021-06-30T09:21:17.288066Z",
     "iopub.status.idle": "2021-06-30T09:21:17.315189Z",
     "shell.execute_reply": "2021-06-30T09:21:17.314621Z"
    }
   },
   "outputs": [
    {
     "data": {
      "image/svg+xml": [
       "<?xml version=\"1.0\" encoding=\"UTF-8\" standalone=\"no\"?><svg xmlns=\"http://www.w3.org/2000/svg\" xmlns:xlink=\"http://www.w3.org/1999/xlink\" contentScriptType=\"application/ecmascript\" contentStyleType=\"text/css\" height=\"121px\" preserveAspectRatio=\"none\" style=\"width:176px;height:121px;\" version=\"1.1\" viewBox=\"0 0 176 121\" width=\"176px\" zoomAndPan=\"magnify\"><defs/><g><!--MD5=[fbc87193dbaf4d95561dea2c320d4a47]\n",
       "cluster E1--><a href=\"psysml:7113fdf5-c3b3-43b5-a3fa-02abb845fbc2\" target=\"_top\" title=\"psysml:7113fdf5-c3b3-43b5-a3fa-02abb845fbc2\" xlink:actuate=\"onRequest\" xlink:href=\"psysml:7113fdf5-c3b3-43b5-a3fa-02abb845fbc2\" xlink:show=\"new\" xlink:title=\"psysml:7113fdf5-c3b3-43b5-a3fa-02abb845fbc2\" xlink:type=\"simple\"><rect fill=\"#FFFFFF\" height=\"47\" id=\"E1\" style=\"stroke: #383838; stroke-width: 1.5;\" width=\"158\" x=\"7\" y=\"42.0986\"/><rect fill=\"#F8F8F8\" height=\"37.9375\" style=\"stroke: #383838; stroke-width: 1.5;\" width=\"158\" x=\"7\" y=\"42.0986\"/><text fill=\"#000000\" font-family=\"sans-serif\" font-size=\"12\" font-style=\"italic\" lengthAdjust=\"spacingAndGlyphs\" textLength=\"77\" x=\"47.5\" y=\"58.2373\">«action def»</text><text fill=\"#000000\" font-family=\"sans-serif\" font-size=\"12\" lengthAdjust=\"spacingAndGlyphs\" textLength=\"27\" x=\"72.5\" y=\"72.2061\">setX</text></a><text fill=\"#000000\" font-family=\"sans-serif\" font-size=\"14\" lengthAdjust=\"spacingAndGlyphs\" textLength=\"8\" x=\"21\" y=\"108.0938\">c</text><rect fill=\"#383838\" height=\"12\" style=\"stroke: #F8F8F8; stroke-width: 1.5;\" width=\"12\" x=\"19\" y=\"83.0986\"/><text fill=\"#000000\" font-family=\"sans-serif\" font-size=\"14\" lengthAdjust=\"spacingAndGlyphs\" textLength=\"38\" x=\"6\" y=\"20.7969\">newX</text><rect fill=\"#383838\" height=\"12\" style=\"stroke: #F8F8F8; stroke-width: 1.5;\" width=\"12\" x=\"19\" y=\"36.0986\"/><!--MD5=[3564c1948fb106bb4632b437f7318eff]\n",
       "@startuml\r\n",
       "skinparam ranksep 8\r\n",
       "left to right direction\r\n",
       "skinparam monochrome true\r\n",
       "skinparam classbackgroundcolor white\r\n",
       "skinparam shadowing false\r\n",
       "skinparam wrapWidth 300\r\n",
       "hide circle\r\n",
       "\r\n",
       "rec def \"setX\" as E1  <<(T,blue) action def>> [[psysml:7113fdf5-c3b3-43b5-a3fa-02abb845fbc2 ]] {\r\n",
       "portin \"c\" as E2  [[psysml:34b277fa-246f-4890-8f8b-22f79f83c872 ]] \r\n",
       "portin \"newX\" as E3  [[psysml:085fc47f-09d9-4ca0-b48d-81ba6e318ca7 ]] \r\n",
       "}\r\n",
       "\r\n",
       "@enduml\r\n",
       "\n",
       "PlantUML version 1.2020.13(Sat Jun 13 12:26:38 UTC 2020)\n",
       "(EPL source distribution)\n",
       "Java Runtime: OpenJDK Runtime Environment\n",
       "JVM: OpenJDK 64-Bit Server VM\n",
       "Default Encoding: UTF-8\n",
       "Language: en\n",
       "Country: null\n",
       "--></g></svg>"
      ]
     },
     "execution_count": 20,
     "metadata": {},
     "output_type": "execute_result"
    }
   ],
   "source": [
    "%viz --style=\"LR\" --view=\"Action\" \"TextualRepresentationTest\""
   ]
  },
  {
   "cell_type": "code",
   "execution_count": 21,
   "id": "01e5d2d2",
   "metadata": {
    "execution": {
     "iopub.execute_input": "2021-06-30T09:21:17.364461Z",
     "iopub.status.busy": "2021-06-30T09:21:17.364028Z",
     "iopub.status.idle": "2021-06-30T09:21:17.419690Z",
     "shell.execute_reply": "2021-06-30T09:21:17.417809Z"
    }
   },
   "outputs": [
    {
     "data": {
      "image/svg+xml": [
       "<?xml version=\"1.0\" encoding=\"UTF-8\" standalone=\"no\"?><svg xmlns=\"http://www.w3.org/2000/svg\" xmlns:xlink=\"http://www.w3.org/1999/xlink\" contentScriptType=\"application/ecmascript\" contentStyleType=\"text/css\" height=\"226px\" preserveAspectRatio=\"none\" style=\"width:500px;height:226px;\" version=\"1.1\" viewBox=\"0 0 500 226\" width=\"500px\" zoomAndPan=\"magnify\"><defs/><g><!--MD5=[fbc87193dbaf4d95561dea2c320d4a47]\n",
       "cluster E1--><a href=\"psysml:1e396b56-292d-4ed9-bbba-ca6bb661746c\" target=\"_top\" title=\"psysml:1e396b56-292d-4ed9-bbba-ca6bb661746c\" xlink:actuate=\"onRequest\" xlink:href=\"psysml:1e396b56-292d-4ed9-bbba-ca6bb661746c\" xlink:show=\"new\" xlink:title=\"psysml:1e396b56-292d-4ed9-bbba-ca6bb661746c\" xlink:type=\"simple\"><polygon fill=\"#FFFFFF\" points=\"16,6,236,6,243,28.2969,478,28.2969,478,214,16,214,16,6\" style=\"stroke: #000000; stroke-width: 1.5;\"/><line style=\"stroke: #000000; stroke-width: 1.5;\" x1=\"16\" x2=\"243\" y1=\"28.2969\" y2=\"28.2969\"/><text fill=\"#000000\" font-family=\"sans-serif\" font-size=\"14\" font-weight=\"bold\" lengthAdjust=\"spacingAndGlyphs\" textLength=\"214\" x=\"20\" y=\"20.9951\">TextualRepresentationTest</text></a><!--MD5=[b4997ac47864f28c2f74865a473b2911]\n",
       "class E2--><a href=\"psysml:2e771e59-55ab-4895-8e71-4691f1152b9b\" target=\"_top\" title=\"psysml:2e771e59-55ab-4895-8e71-4691f1152b9b\" xlink:actuate=\"onRequest\" xlink:href=\"psysml:2e771e59-55ab-4895-8e71-4691f1152b9b\" xlink:show=\"new\" xlink:title=\"psysml:2e771e59-55ab-4895-8e71-4691f1152b9b\" xlink:type=\"simple\"><rect fill=\"#FFFFFF\" height=\"45.9375\" id=\"E2\" style=\"stroke: #383838; stroke-width: 1.5;\" width=\"74\" x=\"206\" y=\"152\"/><text fill=\"#000000\" font-family=\"sans-serif\" font-size=\"12\" font-style=\"italic\" lengthAdjust=\"spacingAndGlyphs\" textLength=\"72\" x=\"207\" y=\"168.1387\">«dataType»</text><text fill=\"#000000\" font-family=\"sans-serif\" font-size=\"12\" lengthAdjust=\"spacingAndGlyphs\" textLength=\"27\" x=\"229.5\" y=\"182.1074\">Real</text><line style=\"stroke: #383838; stroke-width: 1.5;\" x1=\"207\" x2=\"279\" y1=\"189.9375\" y2=\"189.9375\"/></a><!--MD5=[09b614a08d8cba4a07c9adeb5e0fee81]\n",
       "class E3--><a href=\"psysml:e4de1612-4570-4c3a-878c-e0dca14f25a7\" target=\"_top\" title=\"psysml:e4de1612-4570-4c3a-878c-e0dca14f25a7\" xlink:actuate=\"onRequest\" xlink:href=\"psysml:e4de1612-4570-4c3a-878c-e0dca14f25a7\" xlink:show=\"new\" xlink:title=\"psysml:e4de1612-4570-4c3a-878c-e0dca14f25a7\" xlink:type=\"simple\"><rect fill=\"#FFFFFF\" height=\"75.5469\" id=\"E3\" style=\"stroke: #383838; stroke-width: 1.5;\" width=\"67\" x=\"209.5\" y=\"41\"/><text fill=\"#000000\" font-family=\"sans-serif\" font-size=\"12\" font-style=\"italic\" lengthAdjust=\"spacingAndGlyphs\" textLength=\"65\" x=\"210.5\" y=\"57.1387\">«item def»</text><text fill=\"#000000\" font-family=\"sans-serif\" font-size=\"12\" lengthAdjust=\"spacingAndGlyphs\" textLength=\"8\" x=\"239\" y=\"71.1074\">C</text><line style=\"stroke: #383838; stroke-width: 1.5;\" x1=\"210.5\" x2=\"275.5\" y1=\"78.9375\" y2=\"78.9375\"/><text fill=\"#000000\" font-family=\"sans-serif\" font-size=\"11\" lengthAdjust=\"spacingAndGlyphs\" textLength=\"38\" x=\"215.5\" y=\"109.9526\">x: Real</text><line style=\"stroke: #383838; stroke-width: 1.0;\" x1=\"210.5\" x2=\"215.5\" y1=\"93.3398\" y2=\"93.3398\"/><text fill=\"#000000\" font-family=\"sans-serif\" font-size=\"11\" lengthAdjust=\"spacingAndGlyphs\" textLength=\"55\" x=\"215.5\" y=\"96.6479\">attributes</text><line style=\"stroke: #383838; stroke-width: 1.0;\" x1=\"270.5\" x2=\"275.5\" y1=\"93.3398\" y2=\"93.3398\"/></a><!--MD5=[ebbe1d658d1005bcc118a6aa81145e00]\n",
       "class E4--><a href=\"psysml:8c3cf46e-c423-4c70-a710-66f9a3632f6b\" target=\"_top\" title=\"psysml:8c3cf46e-c423-4c70-a710-66f9a3632f6b\" xlink:actuate=\"onRequest\" xlink:href=\"psysml:8c3cf46e-c423-4c70-a710-66f9a3632f6b\" xlink:show=\"new\" xlink:title=\"psysml:8c3cf46e-c423-4c70-a710-66f9a3632f6b\" xlink:type=\"simple\"><rect fill=\"#FFFFFF\" height=\"45.9375\" id=\"E4\" rx=\"10\" ry=\"10\" style=\"stroke: #383838; stroke-width: 1.5;\" width=\"121\" x=\"341\" y=\"56\"/><text fill=\"#000000\" font-family=\"sans-serif\" font-size=\"12\" font-style=\"italic\" lengthAdjust=\"spacingAndGlyphs\" textLength=\"119\" x=\"342\" y=\"72.1387\">«assertConstraint»</text><text fill=\"#000000\" font-family=\"sans-serif\" font-size=\"12\" lengthAdjust=\"spacingAndGlyphs\" textLength=\"76\" x=\"363.5\" y=\"86.1074\">x_constraint</text><line style=\"stroke: #383838; stroke-width: 1.5;\" x1=\"342\" x2=\"461\" y1=\"93.9375\" y2=\"93.9375\"/></a><!--MD5=[270fce915f116d4de14055a7c1d9a0f3]\n",
       "class E5--><a href=\"psysml:7113fdf5-c3b3-43b5-a3fa-02abb845fbc2\" target=\"_top\" title=\"psysml:7113fdf5-c3b3-43b5-a3fa-02abb845fbc2\" xlink:actuate=\"onRequest\" xlink:href=\"psysml:7113fdf5-c3b3-43b5-a3fa-02abb845fbc2\" xlink:show=\"new\" xlink:title=\"psysml:7113fdf5-c3b3-43b5-a3fa-02abb845fbc2\" xlink:type=\"simple\"><rect fill=\"#FFFFFF\" height=\"45.9375\" id=\"E5\" style=\"stroke: #383838; stroke-width: 1.5;\" width=\"79\" x=\"32\" y=\"95\"/><text fill=\"#000000\" font-family=\"sans-serif\" font-size=\"12\" font-style=\"italic\" lengthAdjust=\"spacingAndGlyphs\" textLength=\"77\" x=\"33\" y=\"111.1387\">«action def»</text><text fill=\"#000000\" font-family=\"sans-serif\" font-size=\"12\" lengthAdjust=\"spacingAndGlyphs\" textLength=\"27\" x=\"58\" y=\"125.1074\">setX</text><line style=\"stroke: #383838; stroke-width: 1.5;\" x1=\"33\" x2=\"110\" y1=\"132.9375\" y2=\"132.9375\"/></a><!--MD5=[4672eba38e49728da53d11aeb285b987]\n",
       "reverse link E3 to E4--><a href=\"psysml:53eca076-bd38-4ff8-88cd-ccaa057f7e59\" target=\"_top\" title=\"psysml:53eca076-bd38-4ff8-88cd-ccaa057f7e59\" xlink:actuate=\"onRequest\" xlink:href=\"psysml:53eca076-bd38-4ff8-88cd-ccaa057f7e59\" xlink:show=\"new\" xlink:title=\"psysml:53eca076-bd38-4ff8-88cd-ccaa057f7e59\" xlink:type=\"simple\"><path d=\"M290.14,79 C306.03,79 324.05,79 340.87,79 \" fill=\"none\" id=\"E3&lt;-E4\" style=\"stroke: #383838; stroke-width: 1.0;\"/><polygon fill=\"#FFFFFF\" points=\"276.81,79,282.81,83,288.81,79,282.81,75,276.81,79\" style=\"stroke: #383838; stroke-width: 1.0;\"/></a><!--MD5=[6f107eb264eda4b26325f39a5516f1f3]\n",
       "reverse link E5 to E3--><a href=\"psysml:34b277fa-246f-4890-8f8b-22f79f83c872\" target=\"_top\" title=\"psysml:34b277fa-246f-4890-8f8b-22f79f83c872\" xlink:actuate=\"onRequest\" xlink:href=\"psysml:34b277fa-246f-4890-8f8b-22f79f83c872\" xlink:show=\"new\" xlink:title=\"psysml:34b277fa-246f-4890-8f8b-22f79f83c872\" xlink:type=\"simple\"><path d=\"M124.07,106.13 C151.79,99.76 185.13,92.08 209.28,86.53 \" fill=\"none\" id=\"E5&lt;-E3\" style=\"stroke: #383838; stroke-width: 1.0;\"/><polygon fill=\"#FFFFFF\" points=\"111.39,109.05,118.1339,111.6034,123.0847,106.3604,116.3408,103.8069,111.39,109.05\" style=\"stroke: #383838; stroke-width: 1.0;\"/><text fill=\"#000000\" font-family=\"sans-serif\" font-size=\"13\" lengthAdjust=\"spacingAndGlyphs\" textLength=\"7\" x=\"155\" y=\"92.0669\">c</text></a><!--MD5=[f51c6d1f1856fe338ac0413483fb1ccf]\n",
       "reverse link E5 to E2--><a href=\"psysml:085fc47f-09d9-4ca0-b48d-81ba6e318ca7\" target=\"_top\" title=\"psysml:085fc47f-09d9-4ca0-b48d-81ba6e318ca7\" xlink:actuate=\"onRequest\" xlink:href=\"psysml:085fc47f-09d9-4ca0-b48d-81ba6e318ca7\" xlink:show=\"new\" xlink:title=\"psysml:085fc47f-09d9-4ca0-b48d-81ba6e318ca7\" xlink:type=\"simple\"><path d=\"M123.91,135.29 C150.39,144.19 182.04,154.84 205.9,162.86 \" fill=\"none\" id=\"E5&lt;-E2\" style=\"stroke: #383838; stroke-width: 1.0;\"/><polygon fill=\"#FFFFFF\" points=\"111.39,131.08,115.8013,136.7844,122.7636,134.9064,118.3523,129.202,111.39,131.08\" style=\"stroke: #383838; stroke-width: 1.0;\"/><text fill=\"#000000\" font-family=\"sans-serif\" font-size=\"13\" lengthAdjust=\"spacingAndGlyphs\" textLength=\"33\" x=\"142\" y=\"138.0669\">newX</text></a><!--MD5=[6f2edd58d1f43a2a344c8277af441633]\n",
       "@startuml\r\n",
       "left to right direction\r\n",
       "skinparam monochrome true\r\n",
       "skinparam classbackgroundcolor white\r\n",
       "skinparam shadowing false\r\n",
       "skinparam wrapWidth 300\r\n",
       "hide circle\r\n",
       "\r\n",
       "package \"TextualRepresentationTest\" as E1  [[psysml:1e396b56-292d-4ed9-bbba-ca6bb661746c ]]  {\r\n",
       "comp def \"Real\" as E2  <<(T,blue) dataType>> [[psysml:2e771e59-55ab-4895-8e71-4691f1152b9b ]] {\r\n",
       "}\r\n",
       "comp def \"C\" as E3  <<(T,blue) item def>> [[psysml:e4de1612-4570-4c3a-878c-e0dca14f25a7 ]] {\r\n",
       "- - attributes - -\r\n",
       "x: Real\r\n",
       "}\r\n",
       "comp usage \"x_constraint\" as E4  <<(T,blue) assertConstraint>> [[psysml:8c3cf46e-c423-4c70-a710-66f9a3632f6b ]] {\r\n",
       "}\r\n",
       "comp def \"setX\" as E5  <<(T,blue) action def>> [[psysml:7113fdf5-c3b3-43b5-a3fa-02abb845fbc2 ]] {\r\n",
       "}\r\n",
       "E3 o- - E4 [[psysml:53eca076-bd38-4ff8-88cd-ccaa057f7e59 ]] \r\n",
       "E5 o- - E3 [[psysml:34b277fa-246f-4890-8f8b-22f79f83c872 ]] : c\r\n",
       "E5 o- - E2 [[psysml:085fc47f-09d9-4ca0-b48d-81ba6e318ca7 ]] : newX\r\n",
       "}\r\n",
       "@enduml\r\n",
       "\n",
       "PlantUML version 1.2020.13(Sat Jun 13 12:26:38 UTC 2020)\n",
       "(EPL source distribution)\n",
       "Java Runtime: OpenJDK Runtime Environment\n",
       "JVM: OpenJDK 64-Bit Server VM\n",
       "Default Encoding: UTF-8\n",
       "Language: en\n",
       "Country: null\n",
       "--></g></svg>"
      ]
     },
     "execution_count": 21,
     "metadata": {},
     "output_type": "execute_result"
    }
   ],
   "source": [
    "%viz --style=\"LR\" --view=\"Sequence\" \"TextualRepresentationTest\""
   ]
  },
  {
   "cell_type": "code",
   "execution_count": 22,
   "id": "976578b0",
   "metadata": {
    "execution": {
     "iopub.execute_input": "2021-06-30T09:21:17.472077Z",
     "iopub.status.busy": "2021-06-30T09:21:17.471192Z",
     "iopub.status.idle": "2021-06-30T09:21:17.520925Z",
     "shell.execute_reply": "2021-06-30T09:21:17.520571Z"
    }
   },
   "outputs": [
    {
     "data": {
      "image/svg+xml": [
       "<?xml version=\"1.0\" encoding=\"UTF-8\" standalone=\"no\"?><svg xmlns=\"http://www.w3.org/2000/svg\" xmlns:xlink=\"http://www.w3.org/1999/xlink\" contentScriptType=\"application/ecmascript\" contentStyleType=\"text/css\" height=\"328px\" preserveAspectRatio=\"none\" style=\"width:331px;height:328px;\" version=\"1.1\" viewBox=\"0 0 331 328\" width=\"331px\" zoomAndPan=\"magnify\"><defs/><g><!--MD5=[fbc87193dbaf4d95561dea2c320d4a47]\n",
       "cluster E1--><a href=\"psysml:1e396b56-292d-4ed9-bbba-ca6bb661746c\" target=\"_top\" title=\"psysml:1e396b56-292d-4ed9-bbba-ca6bb661746c\" xlink:actuate=\"onRequest\" xlink:href=\"psysml:1e396b56-292d-4ed9-bbba-ca6bb661746c\" xlink:show=\"new\" xlink:title=\"psysml:1e396b56-292d-4ed9-bbba-ca6bb661746c\" xlink:type=\"simple\"><polygon fill=\"#FFFFFF\" points=\"16,6,236,6,243,28.2969,309.5,28.2969,309.5,316,16,316,16,6\" style=\"stroke: #000000; stroke-width: 1.5;\"/><line style=\"stroke: #000000; stroke-width: 1.5;\" x1=\"16\" x2=\"243\" y1=\"28.2969\" y2=\"28.2969\"/><text fill=\"#000000\" font-family=\"sans-serif\" font-size=\"14\" font-weight=\"bold\" lengthAdjust=\"spacingAndGlyphs\" textLength=\"214\" x=\"20\" y=\"20.9951\">TextualRepresentationTest</text></a><!--MD5=[de5ec2e2e8f62f467e546659f5068c88]\n",
       "cluster E5--><a href=\"psysml:7113fdf5-c3b3-43b5-a3fa-02abb845fbc2\" target=\"_top\" title=\"psysml:7113fdf5-c3b3-43b5-a3fa-02abb845fbc2\" xlink:actuate=\"onRequest\" xlink:href=\"psysml:7113fdf5-c3b3-43b5-a3fa-02abb845fbc2\" xlink:show=\"new\" xlink:title=\"psysml:7113fdf5-c3b3-43b5-a3fa-02abb845fbc2\" xlink:type=\"simple\"><rect fill=\"#FFFFFF\" height=\"47\" id=\"E5\" style=\"stroke: #383838; stroke-width: 1.5;\" width=\"242.5\" x=\"51\" y=\"55\"/><rect fill=\"#F8F8F8\" height=\"37.9375\" style=\"stroke: #383838; stroke-width: 1.5;\" width=\"242.5\" x=\"51\" y=\"55\"/><text fill=\"#000000\" font-family=\"sans-serif\" font-size=\"12\" font-style=\"italic\" lengthAdjust=\"spacingAndGlyphs\" textLength=\"77\" x=\"133.75\" y=\"71.1387\">«action def»</text><text fill=\"#000000\" font-family=\"sans-serif\" font-size=\"12\" lengthAdjust=\"spacingAndGlyphs\" textLength=\"27\" x=\"158.75\" y=\"85.1074\">setX</text></a><!--MD5=[b4997ac47864f28c2f74865a473b2911]\n",
       "class E2--><a href=\"psysml:2e771e59-55ab-4895-8e71-4691f1152b9b\" target=\"_top\" title=\"psysml:2e771e59-55ab-4895-8e71-4691f1152b9b\" xlink:actuate=\"onRequest\" xlink:href=\"psysml:2e771e59-55ab-4895-8e71-4691f1152b9b\" xlink:show=\"new\" xlink:title=\"psysml:2e771e59-55ab-4895-8e71-4691f1152b9b\" xlink:type=\"simple\"><rect fill=\"#FFFFFF\" height=\"45.9375\" id=\"E2\" style=\"stroke: #383838; stroke-width: 1.5;\" width=\"74\" x=\"32\" y=\"143\"/><text fill=\"#000000\" font-family=\"sans-serif\" font-size=\"12\" font-style=\"italic\" lengthAdjust=\"spacingAndGlyphs\" textLength=\"72\" x=\"33\" y=\"159.1387\">«dataType»</text><text fill=\"#000000\" font-family=\"sans-serif\" font-size=\"12\" lengthAdjust=\"spacingAndGlyphs\" textLength=\"27\" x=\"55.5\" y=\"173.1074\">Real</text><line style=\"stroke: #383838; stroke-width: 1.5;\" x1=\"33\" x2=\"105\" y1=\"180.9375\" y2=\"180.9375\"/></a><!--MD5=[09b614a08d8cba4a07c9adeb5e0fee81]\n",
       "class E3--><a href=\"psysml:e4de1612-4570-4c3a-878c-e0dca14f25a7\" target=\"_top\" title=\"psysml:e4de1612-4570-4c3a-878c-e0dca14f25a7\" xlink:actuate=\"onRequest\" xlink:href=\"psysml:e4de1612-4570-4c3a-878c-e0dca14f25a7\" xlink:show=\"new\" xlink:title=\"psysml:e4de1612-4570-4c3a-878c-e0dca14f25a7\" xlink:type=\"simple\"><rect fill=\"#FFFFFF\" height=\"75.5469\" id=\"E3\" style=\"stroke: #383838; stroke-width: 1.5;\" width=\"67\" x=\"35.5\" y=\"224\"/><text fill=\"#000000\" font-family=\"sans-serif\" font-size=\"12\" font-style=\"italic\" lengthAdjust=\"spacingAndGlyphs\" textLength=\"65\" x=\"36.5\" y=\"240.1387\">«item def»</text><text fill=\"#000000\" font-family=\"sans-serif\" font-size=\"12\" lengthAdjust=\"spacingAndGlyphs\" textLength=\"8\" x=\"65\" y=\"254.1074\">C</text><line style=\"stroke: #383838; stroke-width: 1.5;\" x1=\"36.5\" x2=\"101.5\" y1=\"261.9375\" y2=\"261.9375\"/><text fill=\"#000000\" font-family=\"sans-serif\" font-size=\"11\" lengthAdjust=\"spacingAndGlyphs\" textLength=\"38\" x=\"41.5\" y=\"292.9526\">x: Real</text><line style=\"stroke: #383838; stroke-width: 1.0;\" x1=\"36.5\" x2=\"41.5\" y1=\"276.3398\" y2=\"276.3398\"/><text fill=\"#000000\" font-family=\"sans-serif\" font-size=\"11\" lengthAdjust=\"spacingAndGlyphs\" textLength=\"55\" x=\"41.5\" y=\"279.6479\">attributes</text><line style=\"stroke: #383838; stroke-width: 1.0;\" x1=\"96.5\" x2=\"101.5\" y1=\"276.3398\" y2=\"276.3398\"/></a><!--MD5=[ebbe1d658d1005bcc118a6aa81145e00]\n",
       "class E4--><a href=\"psysml:8c3cf46e-c423-4c70-a710-66f9a3632f6b\" target=\"_top\" title=\"psysml:8c3cf46e-c423-4c70-a710-66f9a3632f6b\" xlink:actuate=\"onRequest\" xlink:href=\"psysml:8c3cf46e-c423-4c70-a710-66f9a3632f6b\" xlink:show=\"new\" xlink:title=\"psysml:8c3cf46e-c423-4c70-a710-66f9a3632f6b\" xlink:type=\"simple\"><rect fill=\"#FFFFFF\" height=\"45.9375\" id=\"E4\" rx=\"10\" ry=\"10\" style=\"stroke: #383838; stroke-width: 1.5;\" width=\"121\" x=\"166\" y=\"239\"/><text fill=\"#000000\" font-family=\"sans-serif\" font-size=\"12\" font-style=\"italic\" lengthAdjust=\"spacingAndGlyphs\" textLength=\"119\" x=\"167\" y=\"255.1387\">«assertConstraint»</text><text fill=\"#000000\" font-family=\"sans-serif\" font-size=\"12\" lengthAdjust=\"spacingAndGlyphs\" textLength=\"76\" x=\"188.5\" y=\"269.1074\">x_constraint</text><line style=\"stroke: #383838; stroke-width: 1.5;\" x1=\"167\" x2=\"286\" y1=\"276.9375\" y2=\"276.9375\"/></a><text fill=\"#000000\" font-family=\"sans-serif\" font-size=\"14\" lengthAdjust=\"spacingAndGlyphs\" textLength=\"8\" x=\"65\" y=\"120.9951\">c</text><rect fill=\"#383838\" height=\"12\" style=\"stroke: #F8F8F8; stroke-width: 1.5;\" width=\"12\" x=\"63\" y=\"96\"/><text fill=\"#000000\" font-family=\"sans-serif\" font-size=\"14\" lengthAdjust=\"spacingAndGlyphs\" textLength=\"38\" x=\"50\" y=\"33.6982\">newX</text><rect fill=\"#383838\" height=\"12\" style=\"stroke: #F8F8F8; stroke-width: 1.5;\" width=\"12\" x=\"63\" y=\"49\"/><!--MD5=[4672eba38e49728da53d11aeb285b987]\n",
       "reverse link E3 to E4--><a href=\"psysml:53eca076-bd38-4ff8-88cd-ccaa057f7e59\" target=\"_top\" title=\"psysml:53eca076-bd38-4ff8-88cd-ccaa057f7e59\" xlink:actuate=\"onRequest\" xlink:href=\"psysml:53eca076-bd38-4ff8-88cd-ccaa057f7e59\" xlink:show=\"new\" xlink:title=\"psysml:53eca076-bd38-4ff8-88cd-ccaa057f7e59\" xlink:type=\"simple\"><path d=\"M115.78,262 C131.48,262 149.3,262 165.93,262 \" fill=\"none\" id=\"E3&lt;-E4\" style=\"stroke: #383838; stroke-width: 1.0;\"/><polygon fill=\"#FFFFFF\" points=\"102.6,262,108.6,266,114.6,262,108.6,258,102.6,262\" style=\"stroke: #383838; stroke-width: 1.0;\"/></a><!--MD5=[181d18f8c1a044ab4febd8f7dae073bf]\n",
       "@startuml\r\n",
       "left to right direction\r\n",
       "skinparam monochrome true\r\n",
       "skinparam classbackgroundcolor white\r\n",
       "skinparam shadowing false\r\n",
       "skinparam wrapWidth 300\r\n",
       "hide circle\r\n",
       "\r\n",
       "package \"TextualRepresentationTest\" as E1  [[psysml:1e396b56-292d-4ed9-bbba-ca6bb661746c ]]  {\r\n",
       "comp def \"Real\" as E2  <<(T,blue) dataType>> [[psysml:2e771e59-55ab-4895-8e71-4691f1152b9b ]] {\r\n",
       "}\r\n",
       "comp def \"C\" as E3  <<(T,blue) item def>> [[psysml:e4de1612-4570-4c3a-878c-e0dca14f25a7 ]] {\r\n",
       "- - attributes - -\r\n",
       "x: Real\r\n",
       "}\r\n",
       "comp usage \"x_constraint\" as E4  <<(T,blue) assertConstraint>> [[psysml:8c3cf46e-c423-4c70-a710-66f9a3632f6b ]] {\r\n",
       "}\r\n",
       "rec def \"setX\" as E5  <<(T,blue) action def>> [[psysml:7113fdf5-c3b3-43b5-a3fa-02abb845fbc2 ]] {\r\n",
       "portin \"c\" as E6  [[psysml:34b277fa-246f-4890-8f8b-22f79f83c872 ]] \r\n",
       "portin \"newX\" as E7  [[psysml:085fc47f-09d9-4ca0-b48d-81ba6e318ca7 ]] \r\n",
       "}\r\n",
       "\r\n",
       "E3 o- - E4 [[psysml:53eca076-bd38-4ff8-88cd-ccaa057f7e59 ]] \r\n",
       "}\r\n",
       "@enduml\r\n",
       "\n",
       "PlantUML version 1.2020.13(Sat Jun 13 12:26:38 UTC 2020)\n",
       "(EPL source distribution)\n",
       "Java Runtime: OpenJDK Runtime Environment\n",
       "JVM: OpenJDK 64-Bit Server VM\n",
       "Default Encoding: UTF-8\n",
       "Language: en\n",
       "Country: null\n",
       "--></g></svg>"
      ]
     },
     "execution_count": 22,
     "metadata": {},
     "output_type": "execute_result"
    }
   ],
   "source": [
    "%viz --style=\"LR\" --view=\"MIXED\" \"TextualRepresentationTest\""
   ]
  },
  {
   "cell_type": "code",
   "execution_count": 23,
   "id": "a13137bb",
   "metadata": {
    "execution": {
     "iopub.execute_input": "2021-06-30T09:21:17.572189Z",
     "iopub.status.busy": "2021-06-30T09:21:17.571705Z",
     "iopub.status.idle": "2021-06-30T09:21:17.624497Z",
     "shell.execute_reply": "2021-06-30T09:21:17.624113Z"
    }
   },
   "outputs": [
    {
     "data": {
      "image/svg+xml": [
       "<?xml version=\"1.0\" encoding=\"UTF-8\" standalone=\"no\"?><svg xmlns=\"http://www.w3.org/2000/svg\" xmlns:xlink=\"http://www.w3.org/1999/xlink\" contentScriptType=\"application/ecmascript\" contentStyleType=\"text/css\" height=\"244px\" preserveAspectRatio=\"none\" style=\"width:389px;height:244px;\" version=\"1.1\" viewBox=\"0 0 389 244\" width=\"389px\" zoomAndPan=\"magnify\"><defs><filter height=\"300%\" id=\"f8c8vvqh2ofxo\" width=\"300%\" x=\"-1\" y=\"-1\"><feGaussianBlur result=\"blurOut\" stdDeviation=\"2.0\"/><feColorMatrix in=\"blurOut\" result=\"blurOut2\" type=\"matrix\" values=\"0 0 0 0 0 0 0 0 0 0 0 0 0 0 0 0 0 0 .4 0\"/><feOffset dx=\"4.0\" dy=\"4.0\" in=\"blurOut2\" result=\"blurOut3\"/><feBlend in=\"SourceGraphic\" in2=\"blurOut3\" mode=\"normal\"/></filter></defs><g><!--MD5=[fbc87193dbaf4d95561dea2c320d4a47]\n",
       "cluster E1--><a href=\"psysml:1e396b56-292d-4ed9-bbba-ca6bb661746c\" target=\"_top\" title=\"psysml:1e396b56-292d-4ed9-bbba-ca6bb661746c\" xlink:actuate=\"onRequest\" xlink:href=\"psysml:1e396b56-292d-4ed9-bbba-ca6bb661746c\" xlink:show=\"new\" xlink:title=\"psysml:1e396b56-292d-4ed9-bbba-ca6bb661746c\" xlink:type=\"simple\"><polygon fill=\"#FFFFFF\" filter=\"url(#f8c8vvqh2ofxo)\" points=\"16,6,236,6,243,28.2969,367,28.2969,367,232.5,16,232.5,16,6\" style=\"stroke: #000000; stroke-width: 1.5;\"/><line style=\"stroke: #000000; stroke-width: 1.5;\" x1=\"16\" x2=\"243\" y1=\"28.2969\" y2=\"28.2969\"/><text fill=\"#000000\" font-family=\"sans-serif\" font-size=\"14\" font-weight=\"bold\" lengthAdjust=\"spacingAndGlyphs\" textLength=\"214\" x=\"20\" y=\"20.9951\">TextualRepresentationTest</text></a><!--MD5=[de5ec2e2e8f62f467e546659f5068c88]\n",
       "cluster E5--><a href=\"psysml:7113fdf5-c3b3-43b5-a3fa-02abb845fbc2\" target=\"_top\" title=\"psysml:7113fdf5-c3b3-43b5-a3fa-02abb845fbc2\" xlink:actuate=\"onRequest\" xlink:href=\"psysml:7113fdf5-c3b3-43b5-a3fa-02abb845fbc2\" xlink:show=\"new\" xlink:title=\"psysml:7113fdf5-c3b3-43b5-a3fa-02abb845fbc2\" xlink:type=\"simple\"><rect fill=\"#FFFFFF\" filter=\"url(#f8c8vvqh2ofxo)\" height=\"146\" id=\"E5\" style=\"stroke: #A80036; stroke-width: 1.5;\" width=\"96\" x=\"225.5\" y=\"70.5\"/><rect fill=\"#FEFECE\" height=\"37.9375\" style=\"stroke: #A80036; stroke-width: 1.5;\" width=\"96\" x=\"225.5\" y=\"70.5\"/><text fill=\"#000000\" font-family=\"sans-serif\" font-size=\"12\" font-style=\"italic\" lengthAdjust=\"spacingAndGlyphs\" textLength=\"77\" x=\"235\" y=\"86.6387\">«action def»</text><text fill=\"#000000\" font-family=\"sans-serif\" font-size=\"12\" lengthAdjust=\"spacingAndGlyphs\" textLength=\"27\" x=\"260\" y=\"100.6074\">setX</text></a><!--MD5=[b4997ac47864f28c2f74865a473b2911]\n",
       "class E2--><a href=\"psysml:2e771e59-55ab-4895-8e71-4691f1152b9b\" target=\"_top\" title=\"psysml:2e771e59-55ab-4895-8e71-4691f1152b9b\" xlink:actuate=\"onRequest\" xlink:href=\"psysml:2e771e59-55ab-4895-8e71-4691f1152b9b\" xlink:show=\"new\" xlink:title=\"psysml:2e771e59-55ab-4895-8e71-4691f1152b9b\" xlink:type=\"simple\"><rect fill=\"#FEFECE\" filter=\"url(#f8c8vvqh2ofxo)\" height=\"45.9375\" id=\"E2\" style=\"stroke: #A80036; stroke-width: 1.5;\" width=\"74\" x=\"135\" y=\"47.5\"/><text fill=\"#000000\" font-family=\"sans-serif\" font-size=\"12\" font-style=\"italic\" lengthAdjust=\"spacingAndGlyphs\" textLength=\"72\" x=\"136\" y=\"63.6387\">«dataType»</text><text fill=\"#000000\" font-family=\"sans-serif\" font-size=\"12\" lengthAdjust=\"spacingAndGlyphs\" textLength=\"27\" x=\"158.5\" y=\"77.6074\">Real</text><line style=\"stroke: #A80036; stroke-width: 1.5;\" x1=\"136\" x2=\"208\" y1=\"85.4375\" y2=\"85.4375\"/></a><!--MD5=[09b614a08d8cba4a07c9adeb5e0fee81]\n",
       "class E3--><a href=\"psysml:e4de1612-4570-4c3a-878c-e0dca14f25a7\" target=\"_top\" title=\"psysml:e4de1612-4570-4c3a-878c-e0dca14f25a7\" xlink:actuate=\"onRequest\" xlink:href=\"psysml:e4de1612-4570-4c3a-878c-e0dca14f25a7\" xlink:show=\"new\" xlink:title=\"psysml:e4de1612-4570-4c3a-878c-e0dca14f25a7\" xlink:type=\"simple\"><rect fill=\"#FEFECE\" filter=\"url(#f8c8vvqh2ofxo)\" height=\"58.7422\" id=\"E3\" style=\"stroke: #A80036; stroke-width: 1.5;\" width=\"67\" x=\"32.5\" y=\"41\"/><text fill=\"#000000\" font-family=\"sans-serif\" font-size=\"12\" font-style=\"italic\" lengthAdjust=\"spacingAndGlyphs\" textLength=\"65\" x=\"33.5\" y=\"57.1387\">«item def»</text><text fill=\"#000000\" font-family=\"sans-serif\" font-size=\"12\" lengthAdjust=\"spacingAndGlyphs\" textLength=\"8\" x=\"62\" y=\"71.1074\">C</text><line style=\"stroke: #A80036; stroke-width: 1.5;\" x1=\"33.5\" x2=\"98.5\" y1=\"78.9375\" y2=\"78.9375\"/><text fill=\"#000000\" font-family=\"sans-serif\" font-size=\"11\" lengthAdjust=\"spacingAndGlyphs\" textLength=\"38\" x=\"38.5\" y=\"93.1479\">x: Real</text></a><!--MD5=[ebbe1d658d1005bcc118a6aa81145e00]\n",
       "class E4--><a href=\"psysml:8c3cf46e-c423-4c70-a710-66f9a3632f6b\" target=\"_top\" title=\"psysml:8c3cf46e-c423-4c70-a710-66f9a3632f6b\" xlink:actuate=\"onRequest\" xlink:href=\"psysml:8c3cf46e-c423-4c70-a710-66f9a3632f6b\" xlink:show=\"new\" xlink:title=\"psysml:8c3cf46e-c423-4c70-a710-66f9a3632f6b\" xlink:type=\"simple\"><rect fill=\"#FEFECE\" filter=\"url(#f8c8vvqh2ofxo)\" height=\"45.9375\" id=\"E4\" rx=\"10\" ry=\"10\" style=\"stroke: #A80036; stroke-width: 1.5;\" width=\"121\" x=\"32.5\" y=\"160\"/><text fill=\"#000000\" font-family=\"sans-serif\" font-size=\"12\" font-style=\"italic\" lengthAdjust=\"spacingAndGlyphs\" textLength=\"119\" x=\"33.5\" y=\"176.1387\">«assertConstraint»</text><text fill=\"#000000\" font-family=\"sans-serif\" font-size=\"12\" lengthAdjust=\"spacingAndGlyphs\" textLength=\"76\" x=\"55\" y=\"190.1074\">x_constraint</text><line style=\"stroke: #A80036; stroke-width: 1.5;\" x1=\"33.5\" x2=\"152.5\" y1=\"197.9375\" y2=\"197.9375\"/></a><text fill=\"#000000\" font-family=\"sans-serif\" font-size=\"14\" lengthAdjust=\"spacingAndGlyphs\" textLength=\"8\" x=\"246\" y=\"49.1982\">c</text><rect fill=\"#A80036\" height=\"12\" style=\"stroke: #FEFECE; stroke-width: 1.5;\" width=\"12\" x=\"244\" y=\"64.5\"/><text fill=\"#000000\" font-family=\"sans-serif\" font-size=\"14\" lengthAdjust=\"spacingAndGlyphs\" textLength=\"38\" x=\"278\" y=\"49.1982\">newX</text><rect fill=\"#A80036\" height=\"12\" style=\"stroke: #FEFECE; stroke-width: 1.5;\" width=\"12\" x=\"291\" y=\"64.5\"/><!--MD5=[4672eba38e49728da53d11aeb285b987]\n",
       "reverse link E3 to E4--><a href=\"psysml:53eca076-bd38-4ff8-88cd-ccaa057f7e59\" target=\"_top\" title=\"psysml:53eca076-bd38-4ff8-88cd-ccaa057f7e59\" xlink:actuate=\"onRequest\" xlink:href=\"psysml:53eca076-bd38-4ff8-88cd-ccaa057f7e59\" xlink:show=\"new\" xlink:title=\"psysml:53eca076-bd38-4ff8-88cd-ccaa057f7e59\" xlink:type=\"simple\"><path d=\"M76.15,113.04 C80.02,128.87 84.28,146.3 87.55,159.68 \" fill=\"none\" id=\"E3&lt;-E4\" style=\"stroke: #A80036; stroke-width: 1.0;\"/><polygon fill=\"#FFFFFF\" points=\"73.02,100.24,70.5585,107.018,75.8683,111.8971,78.3299,105.1191,73.02,100.24\" style=\"stroke: #A80036; stroke-width: 1.0;\"/></a><!--MD5=[b21ba630dff016089392d8b1ecc2b8fa]\n",
       "@startuml\r\n",
       "skinparam wrapWidth 300\r\n",
       "hide circle\r\n",
       "\r\n",
       "package \"TextualRepresentationTest\" as E1  [[psysml:1e396b56-292d-4ed9-bbba-ca6bb661746c ]]  {\r\n",
       "comp def \"Real\" as E2  <<(T,blue) dataType>> [[psysml:2e771e59-55ab-4895-8e71-4691f1152b9b ]] {\r\n",
       "}\r\n",
       "comp def \"C\" as E3  <<(T,blue) item def>> [[psysml:e4de1612-4570-4c3a-878c-e0dca14f25a7 ]] {\r\n",
       "x: Real\r\n",
       "}\r\n",
       "comp usage \"x_constraint\" as E4  <<(T,blue) assertConstraint>> [[psysml:8c3cf46e-c423-4c70-a710-66f9a3632f6b ]] {\r\n",
       "}\r\n",
       "rec def \"setX\" as E5  <<(T,blue) action def>> [[psysml:7113fdf5-c3b3-43b5-a3fa-02abb845fbc2 ]] {\r\n",
       "portin \"c\" as E6  [[psysml:34b277fa-246f-4890-8f8b-22f79f83c872 ]] \r\n",
       "portin \"newX\" as E7  [[psysml:085fc47f-09d9-4ca0-b48d-81ba6e318ca7 ]] \r\n",
       "}\r\n",
       "\r\n",
       "E3 o- - E4 [[psysml:53eca076-bd38-4ff8-88cd-ccaa057f7e59 ]] \r\n",
       "}\r\n",
       "@enduml\r\n",
       "\n",
       "PlantUML version 1.2020.13(Sat Jun 13 12:26:38 UTC 2020)\n",
       "(EPL source distribution)\n",
       "Java Runtime: OpenJDK Runtime Environment\n",
       "JVM: OpenJDK 64-Bit Server VM\n",
       "Default Encoding: UTF-8\n",
       "Language: en\n",
       "Country: null\n",
       "--></g></svg>"
      ]
     },
     "execution_count": 23,
     "metadata": {},
     "output_type": "execute_result"
    }
   ],
   "source": [
    "%viz --style=\"STDCOLOR\" --view=\"Default\" \"TextualRepresentationTest\""
   ]
  },
  {
   "cell_type": "code",
   "execution_count": 24,
   "id": "a4f19b67",
   "metadata": {
    "execution": {
     "iopub.execute_input": "2021-06-30T09:21:17.674778Z",
     "iopub.status.busy": "2021-06-30T09:21:17.674346Z",
     "iopub.status.idle": "2021-06-30T09:21:17.709845Z",
     "shell.execute_reply": "2021-06-30T09:21:17.708562Z"
    }
   },
   "outputs": [
    {
     "data": {
      "image/svg+xml": [
       "<?xml version=\"1.0\" encoding=\"UTF-8\" standalone=\"no\"?><svg xmlns=\"http://www.w3.org/2000/svg\" xmlns:xlink=\"http://www.w3.org/1999/xlink\" contentScriptType=\"application/ecmascript\" contentStyleType=\"text/css\" height=\"358px\" preserveAspectRatio=\"none\" style=\"width:268px;height:358px;\" version=\"1.1\" viewBox=\"0 0 268 358\" width=\"268px\" zoomAndPan=\"magnify\"><defs><filter height=\"300%\" id=\"ftsd8oo2y84hy\" width=\"300%\" x=\"-1\" y=\"-1\"><feGaussianBlur result=\"blurOut\" stdDeviation=\"2.0\"/><feColorMatrix in=\"blurOut\" result=\"blurOut2\" type=\"matrix\" values=\"0 0 0 0 0 0 0 0 0 0 0 0 0 0 0 0 0 0 .4 0\"/><feOffset dx=\"4.0\" dy=\"4.0\" in=\"blurOut2\" result=\"blurOut3\"/><feBlend in=\"SourceGraphic\" in2=\"blurOut3\" mode=\"normal\"/></filter></defs><g><!--MD5=[fbc87193dbaf4d95561dea2c320d4a47]\n",
       "cluster E1--><a href=\"psysml:1e396b56-292d-4ed9-bbba-ca6bb661746c\" target=\"_top\" title=\"psysml:1e396b56-292d-4ed9-bbba-ca6bb661746c\" xlink:actuate=\"onRequest\" xlink:href=\"psysml:1e396b56-292d-4ed9-bbba-ca6bb661746c\" xlink:show=\"new\" xlink:title=\"psysml:1e396b56-292d-4ed9-bbba-ca6bb661746c\" xlink:type=\"simple\"><polygon fill=\"#FFFFFF\" filter=\"url(#ftsd8oo2y84hy)\" points=\"16,6,236,6,243,28.2969,246,28.2969,246,346,16,346,16,6\" style=\"stroke: #000000; stroke-width: 1.5;\"/><line style=\"stroke: #000000; stroke-width: 1.5;\" x1=\"16\" x2=\"243\" y1=\"28.2969\" y2=\"28.2969\"/><text fill=\"#000000\" font-family=\"sans-serif\" font-size=\"14\" font-weight=\"bold\" lengthAdjust=\"spacingAndGlyphs\" textLength=\"214\" x=\"20\" y=\"20.9951\">TextualRepresentationTest</text></a><!--MD5=[b4997ac47864f28c2f74865a473b2911]\n",
       "class E2--><a href=\"psysml:2e771e59-55ab-4895-8e71-4691f1152b9b\" target=\"_top\" title=\"psysml:2e771e59-55ab-4895-8e71-4691f1152b9b\" xlink:actuate=\"onRequest\" xlink:href=\"psysml:2e771e59-55ab-4895-8e71-4691f1152b9b\" xlink:show=\"new\" xlink:title=\"psysml:2e771e59-55ab-4895-8e71-4691f1152b9b\" xlink:type=\"simple\"><rect fill=\"#FEFECE\" filter=\"url(#ftsd8oo2y84hy)\" height=\"45.9375\" id=\"E2\" style=\"stroke: #A80036; stroke-width: 1.5;\" width=\"74\" x=\"42\" y=\"170.5\"/><text fill=\"#000000\" font-family=\"sans-serif\" font-size=\"12\" font-style=\"italic\" lengthAdjust=\"spacingAndGlyphs\" textLength=\"72\" x=\"43\" y=\"186.6387\">«dataType»</text><text fill=\"#000000\" font-family=\"sans-serif\" font-size=\"12\" lengthAdjust=\"spacingAndGlyphs\" textLength=\"27\" x=\"65.5\" y=\"200.6074\">Real</text><line style=\"stroke: #A80036; stroke-width: 1.5;\" x1=\"43\" x2=\"115\" y1=\"208.4375\" y2=\"208.4375\"/></a><!--MD5=[09b614a08d8cba4a07c9adeb5e0fee81]\n",
       "class E3--><a href=\"psysml:e4de1612-4570-4c3a-878c-e0dca14f25a7\" target=\"_top\" title=\"psysml:e4de1612-4570-4c3a-878c-e0dca14f25a7\" xlink:actuate=\"onRequest\" xlink:href=\"psysml:e4de1612-4570-4c3a-878c-e0dca14f25a7\" xlink:show=\"new\" xlink:title=\"psysml:e4de1612-4570-4c3a-878c-e0dca14f25a7\" xlink:type=\"simple\"><rect fill=\"#FEFECE\" filter=\"url(#ftsd8oo2y84hy)\" height=\"58.7422\" id=\"E3\" style=\"stroke: #A80036; stroke-width: 1.5;\" width=\"67\" x=\"151.5\" y=\"164\"/><text fill=\"#000000\" font-family=\"sans-serif\" font-size=\"12\" font-style=\"italic\" lengthAdjust=\"spacingAndGlyphs\" textLength=\"65\" x=\"152.5\" y=\"180.1387\">«item def»</text><text fill=\"#000000\" font-family=\"sans-serif\" font-size=\"12\" lengthAdjust=\"spacingAndGlyphs\" textLength=\"8\" x=\"181\" y=\"194.1074\">C</text><line style=\"stroke: #A80036; stroke-width: 1.5;\" x1=\"152.5\" x2=\"217.5\" y1=\"201.9375\" y2=\"201.9375\"/><text fill=\"#000000\" font-family=\"sans-serif\" font-size=\"11\" lengthAdjust=\"spacingAndGlyphs\" textLength=\"38\" x=\"157.5\" y=\"216.1479\">x: Real</text></a><!--MD5=[ebbe1d658d1005bcc118a6aa81145e00]\n",
       "class E4--><a href=\"psysml:8c3cf46e-c423-4c70-a710-66f9a3632f6b\" target=\"_top\" title=\"psysml:8c3cf46e-c423-4c70-a710-66f9a3632f6b\" xlink:actuate=\"onRequest\" xlink:href=\"psysml:8c3cf46e-c423-4c70-a710-66f9a3632f6b\" xlink:show=\"new\" xlink:title=\"psysml:8c3cf46e-c423-4c70-a710-66f9a3632f6b\" xlink:type=\"simple\"><rect fill=\"#FEFECE\" filter=\"url(#ftsd8oo2y84hy)\" height=\"45.9375\" id=\"E4\" rx=\"10\" ry=\"10\" style=\"stroke: #A80036; stroke-width: 1.5;\" width=\"121\" x=\"97.5\" y=\"284\"/><text fill=\"#000000\" font-family=\"sans-serif\" font-size=\"12\" font-style=\"italic\" lengthAdjust=\"spacingAndGlyphs\" textLength=\"119\" x=\"98.5\" y=\"300.1387\">«assertConstraint»</text><text fill=\"#000000\" font-family=\"sans-serif\" font-size=\"12\" lengthAdjust=\"spacingAndGlyphs\" textLength=\"76\" x=\"120\" y=\"314.1074\">x_constraint</text><line style=\"stroke: #A80036; stroke-width: 1.5;\" x1=\"98.5\" x2=\"217.5\" y1=\"321.9375\" y2=\"321.9375\"/></a><!--MD5=[270fce915f116d4de14055a7c1d9a0f3]\n",
       "class E5--><a href=\"psysml:7113fdf5-c3b3-43b5-a3fa-02abb845fbc2\" target=\"_top\" title=\"psysml:7113fdf5-c3b3-43b5-a3fa-02abb845fbc2\" xlink:actuate=\"onRequest\" xlink:href=\"psysml:7113fdf5-c3b3-43b5-a3fa-02abb845fbc2\" xlink:show=\"new\" xlink:title=\"psysml:7113fdf5-c3b3-43b5-a3fa-02abb845fbc2\" xlink:type=\"simple\"><rect fill=\"#FEFECE\" filter=\"url(#ftsd8oo2y84hy)\" height=\"45.9375\" id=\"E5\" style=\"stroke: #A80036; stroke-width: 1.5;\" width=\"79\" x=\"77.5\" y=\"41\"/><text fill=\"#000000\" font-family=\"sans-serif\" font-size=\"12\" font-style=\"italic\" lengthAdjust=\"spacingAndGlyphs\" textLength=\"77\" x=\"78.5\" y=\"57.1387\">«action def»</text><text fill=\"#000000\" font-family=\"sans-serif\" font-size=\"12\" lengthAdjust=\"spacingAndGlyphs\" textLength=\"27\" x=\"103.5\" y=\"71.1074\">setX</text><line style=\"stroke: #A80036; stroke-width: 1.5;\" x1=\"78.5\" x2=\"155.5\" y1=\"78.9375\" y2=\"78.9375\"/></a><!--MD5=[4672eba38e49728da53d11aeb285b987]\n",
       "reverse link E3 to E4--><a href=\"psysml:53eca076-bd38-4ff8-88cd-ccaa057f7e59\" target=\"_top\" title=\"psysml:53eca076-bd38-4ff8-88cd-ccaa057f7e59\" xlink:actuate=\"onRequest\" xlink:href=\"psysml:53eca076-bd38-4ff8-88cd-ccaa057f7e59\" xlink:show=\"new\" xlink:title=\"psysml:53eca076-bd38-4ff8-88cd-ccaa057f7e59\" xlink:type=\"simple\"><path d=\"M174.9,236.23 C170.99,252.35 166.68,270.14 163.4,283.72 \" fill=\"none\" id=\"E3&lt;-E4\" style=\"stroke: #A80036; stroke-width: 1.0;\"/><polygon fill=\"#FFFFFF\" points=\"178.05,223.21,172.7506,228.1004,175.2266,234.8731,180.526,229.9827,178.05,223.21\" style=\"stroke: #A80036; stroke-width: 1.0;\"/></a><!--MD5=[6f107eb264eda4b26325f39a5516f1f3]\n",
       "reverse link E5 to E3--><a href=\"psysml:34b277fa-246f-4890-8f8b-22f79f83c872\" target=\"_top\" title=\"psysml:34b277fa-246f-4890-8f8b-22f79f83c872\" xlink:actuate=\"onRequest\" xlink:href=\"psysml:34b277fa-246f-4890-8f8b-22f79f83c872\" xlink:show=\"new\" xlink:title=\"psysml:34b277fa-246f-4890-8f8b-22f79f83c872\" xlink:type=\"simple\"><path d=\"M135,98.75 C145.81,119.03 159.42,144.55 169.71,163.84 \" fill=\"none\" id=\"E5&lt;-E3\" style=\"stroke: #A80036; stroke-width: 1.0;\"/><polygon fill=\"#FFFFFF\" points=\"128.84,87.21,128.1323,94.3863,134.4843,97.7997,135.1921,90.6234,128.84,87.21\" style=\"stroke: #A80036; stroke-width: 1.0;\"/><text fill=\"#000000\" font-family=\"sans-serif\" font-size=\"13\" lengthAdjust=\"spacingAndGlyphs\" textLength=\"7\" x=\"154\" y=\"130.0669\">c</text></a><!--MD5=[f51c6d1f1856fe338ac0413483fb1ccf]\n",
       "reverse link E5 to E2--><a href=\"psysml:085fc47f-09d9-4ca0-b48d-81ba6e318ca7\" target=\"_top\" title=\"psysml:085fc47f-09d9-4ca0-b48d-81ba6e318ca7\" xlink:actuate=\"onRequest\" xlink:href=\"psysml:085fc47f-09d9-4ca0-b48d-81ba6e318ca7\" xlink:show=\"new\" xlink:title=\"psysml:085fc47f-09d9-4ca0-b48d-81ba6e318ca7\" xlink:type=\"simple\"><path d=\"M104.68,99.44 C102.7,105.28 100.74,111.29 99,117 C93.58,134.77 88.23,155.14 84.43,170.24 \" fill=\"none\" id=\"E5&lt;-E2\" style=\"stroke: #A80036; stroke-width: 1.0;\"/><polygon fill=\"#FFFFFF\" points=\"108.93,87.15,103.1905,91.5156,105.0128,98.4927,110.7523,94.1271,108.93,87.15\" style=\"stroke: #A80036; stroke-width: 1.0;\"/><text fill=\"#000000\" font-family=\"sans-serif\" font-size=\"13\" lengthAdjust=\"spacingAndGlyphs\" textLength=\"33\" x=\"100\" y=\"130.0669\">newX</text></a><!--MD5=[530df4a341e032079bf4041a762ec25f]\n",
       "@startuml\r\n",
       "skinparam wrapWidth 300\r\n",
       "hide circle\r\n",
       "\r\n",
       "package \"TextualRepresentationTest\" as E1  [[psysml:1e396b56-292d-4ed9-bbba-ca6bb661746c ]]  {\r\n",
       "comp def \"Real\" as E2  <<(T,blue) dataType>> [[psysml:2e771e59-55ab-4895-8e71-4691f1152b9b ]] {\r\n",
       "}\r\n",
       "comp def \"C\" as E3  <<(T,blue) item def>> [[psysml:e4de1612-4570-4c3a-878c-e0dca14f25a7 ]] {\r\n",
       "x: Real\r\n",
       "}\r\n",
       "comp usage \"x_constraint\" as E4  <<(T,blue) assertConstraint>> [[psysml:8c3cf46e-c423-4c70-a710-66f9a3632f6b ]] {\r\n",
       "}\r\n",
       "comp def \"setX\" as E5  <<(T,blue) action def>> [[psysml:7113fdf5-c3b3-43b5-a3fa-02abb845fbc2 ]] {\r\n",
       "}\r\n",
       "E3 o- - E4 [[psysml:53eca076-bd38-4ff8-88cd-ccaa057f7e59 ]] \r\n",
       "E5 o- - E3 [[psysml:34b277fa-246f-4890-8f8b-22f79f83c872 ]] : c\r\n",
       "E5 o- - E2 [[psysml:085fc47f-09d9-4ca0-b48d-81ba6e318ca7 ]] : newX\r\n",
       "}\r\n",
       "@enduml\r\n",
       "\n",
       "PlantUML version 1.2020.13(Sat Jun 13 12:26:38 UTC 2020)\n",
       "(EPL source distribution)\n",
       "Java Runtime: OpenJDK Runtime Environment\n",
       "JVM: OpenJDK 64-Bit Server VM\n",
       "Default Encoding: UTF-8\n",
       "Language: en\n",
       "Country: null\n",
       "--></g></svg>"
      ]
     },
     "execution_count": 24,
     "metadata": {},
     "output_type": "execute_result"
    }
   ],
   "source": [
    "%viz --style=\"STDCOLOR\" --view=\"Tree\" \"TextualRepresentationTest\""
   ]
  },
  {
   "cell_type": "code",
   "execution_count": 25,
   "id": "f9020764",
   "metadata": {
    "execution": {
     "iopub.execute_input": "2021-06-30T09:21:17.760679Z",
     "iopub.status.busy": "2021-06-30T09:21:17.759986Z",
     "iopub.status.idle": "2021-06-30T09:21:17.764468Z",
     "shell.execute_reply": "2021-06-30T09:21:17.764169Z"
    }
   },
   "outputs": [
    {
     "data": {
      "image/svg+xml": [
       "<?xml version=\"1.0\" encoding=\"UTF-8\" standalone=\"no\"?><svg xmlns=\"http://www.w3.org/2000/svg\" xmlns:xlink=\"http://www.w3.org/1999/xlink\" contentScriptType=\"application/ecmascript\" contentStyleType=\"text/css\" height=\"12px\" preserveAspectRatio=\"none\" style=\"width:12px;height:12px;\" version=\"1.1\" viewBox=\"0 0 12 12\" width=\"12px\" zoomAndPan=\"magnify\"><defs/><g><!--MD5=[aeeef50f102b80d730deb6443d14f702]\n",
       "@startuml\r\n",
       "skinparam wrapWidth 300\r\n",
       "hide circle\r\n",
       "\r\n",
       "@enduml\r\n",
       "\n",
       "PlantUML version 1.2020.13(Sat Jun 13 12:26:38 UTC 2020)\n",
       "(EPL source distribution)\n",
       "Java Runtime: OpenJDK Runtime Environment\n",
       "JVM: OpenJDK 64-Bit Server VM\n",
       "Default Encoding: UTF-8\n",
       "Language: en\n",
       "Country: null\n",
       "--></g></svg>"
      ]
     },
     "execution_count": 25,
     "metadata": {},
     "output_type": "execute_result"
    }
   ],
   "source": [
    "%viz --style=\"STDCOLOR\" --view=\"State\" \"TextualRepresentationTest\""
   ]
  },
  {
   "cell_type": "code",
   "execution_count": 26,
   "id": "992c9254",
   "metadata": {
    "execution": {
     "iopub.execute_input": "2021-06-30T09:21:17.816532Z",
     "iopub.status.busy": "2021-06-30T09:21:17.816140Z",
     "iopub.status.idle": "2021-06-30T09:21:17.851264Z",
     "shell.execute_reply": "2021-06-30T09:21:17.851531Z"
    }
   },
   "outputs": [
    {
     "data": {
      "image/svg+xml": [
       "<?xml version=\"1.0\" encoding=\"UTF-8\" standalone=\"no\"?><svg xmlns=\"http://www.w3.org/2000/svg\" xmlns:xlink=\"http://www.w3.org/1999/xlink\" contentScriptType=\"application/ecmascript\" contentStyleType=\"text/css\" height=\"179px\" preserveAspectRatio=\"none\" style=\"width:398px;height:179px;\" version=\"1.1\" viewBox=\"0 0 398 179\" width=\"398px\" zoomAndPan=\"magnify\"><defs><filter height=\"300%\" id=\"fudtmcxyx2om8\" width=\"300%\" x=\"-1\" y=\"-1\"><feGaussianBlur result=\"blurOut\" stdDeviation=\"2.0\"/><feColorMatrix in=\"blurOut\" result=\"blurOut2\" type=\"matrix\" values=\"0 0 0 0 0 0 0 0 0 0 0 0 0 0 0 0 0 0 .4 0\"/><feOffset dx=\"4.0\" dy=\"4.0\" in=\"blurOut2\" result=\"blurOut3\"/><feBlend in=\"SourceGraphic\" in2=\"blurOut3\" mode=\"normal\"/></filter></defs><g><!--MD5=[fbc87193dbaf4d95561dea2c320d4a47]\n",
       "cluster E1--><a href=\"psysml:1e396b56-292d-4ed9-bbba-ca6bb661746c\" target=\"_top\" title=\"psysml:1e396b56-292d-4ed9-bbba-ca6bb661746c\" xlink:actuate=\"onRequest\" xlink:href=\"psysml:1e396b56-292d-4ed9-bbba-ca6bb661746c\" xlink:show=\"new\" xlink:title=\"psysml:1e396b56-292d-4ed9-bbba-ca6bb661746c\" xlink:type=\"simple\"><polygon fill=\"#FFFFFF\" filter=\"url(#fudtmcxyx2om8)\" points=\"16,6,236,6,243,28.2969,376,28.2969,376,167,16,167,16,6\" style=\"stroke: #000000; stroke-width: 1.5;\"/><line style=\"stroke: #000000; stroke-width: 1.5;\" x1=\"16\" x2=\"243\" y1=\"28.2969\" y2=\"28.2969\"/><text fill=\"#000000\" font-family=\"sans-serif\" font-size=\"14\" font-weight=\"bold\" lengthAdjust=\"spacingAndGlyphs\" textLength=\"214\" x=\"20\" y=\"20.9951\">TextualRepresentationTest</text></a><!--MD5=[f6df4d0ebaf0b5dfb2ced0ae5af7c670]\n",
       "cluster E4--><a href=\"psysml:7113fdf5-c3b3-43b5-a3fa-02abb845fbc2\" target=\"_top\" title=\"psysml:7113fdf5-c3b3-43b5-a3fa-02abb845fbc2\" xlink:actuate=\"onRequest\" xlink:href=\"psysml:7113fdf5-c3b3-43b5-a3fa-02abb845fbc2\" xlink:show=\"new\" xlink:title=\"psysml:7113fdf5-c3b3-43b5-a3fa-02abb845fbc2\" xlink:type=\"simple\"><rect fill=\"#FFFFFF\" filter=\"url(#fudtmcxyx2om8)\" height=\"88.5\" id=\"E4\" style=\"stroke: #A80036; stroke-width: 1.5;\" width=\"96\" x=\"235.5\" y=\"62.5\"/><rect fill=\"#FEFECE\" height=\"37.9375\" style=\"stroke: #A80036; stroke-width: 1.5;\" width=\"96\" x=\"235.5\" y=\"62.5\"/><text fill=\"#000000\" font-family=\"sans-serif\" font-size=\"12\" font-style=\"italic\" lengthAdjust=\"spacingAndGlyphs\" textLength=\"77\" x=\"245\" y=\"78.6387\">«action def»</text><text fill=\"#000000\" font-family=\"sans-serif\" font-size=\"12\" lengthAdjust=\"spacingAndGlyphs\" textLength=\"27\" x=\"270\" y=\"92.6074\">setX</text></a><g id=\"E1.E2\"><a href=\"psysml:2e771e59-55ab-4895-8e71-4691f1152b9b\" target=\"_top\" title=\"psysml:2e771e59-55ab-4895-8e71-4691f1152b9b\" xlink:actuate=\"onRequest\" xlink:href=\"psysml:2e771e59-55ab-4895-8e71-4691f1152b9b\" xlink:show=\"new\" xlink:title=\"psysml:2e771e59-55ab-4895-8e71-4691f1152b9b\" xlink:type=\"simple\"><rect fill=\"#FEFECE\" filter=\"url(#fudtmcxyx2om8)\" height=\"42.9375\" id=\"E2\" style=\"stroke: #A80036; stroke-width: 1.5;\" width=\"79\" x=\"139.5\" y=\"41\"/><text fill=\"#000000\" font-family=\"sans-serif\" font-size=\"12\" font-style=\"italic\" lengthAdjust=\"spacingAndGlyphs\" textLength=\"72\" x=\"143\" y=\"57.1387\">«dataType»</text><text fill=\"#000000\" font-family=\"sans-serif\" font-size=\"12\" lengthAdjust=\"spacingAndGlyphs\" textLength=\"27\" x=\"165.5\" y=\"71.1074\">Real</text></a></g><g id=\"E1.E3\"><a href=\"psysml:e4de1612-4570-4c3a-878c-e0dca14f25a7\" target=\"_top\" title=\"psysml:e4de1612-4570-4c3a-878c-e0dca14f25a7\" xlink:actuate=\"onRequest\" xlink:href=\"psysml:e4de1612-4570-4c3a-878c-e0dca14f25a7\" xlink:show=\"new\" xlink:title=\"psysml:e4de1612-4570-4c3a-878c-e0dca14f25a7\" xlink:type=\"simple\"><rect fill=\"#FEFECE\" filter=\"url(#fudtmcxyx2om8)\" height=\"42.9375\" id=\"E3\" style=\"stroke: #A80036; stroke-width: 1.5;\" width=\"72\" x=\"32\" y=\"41\"/><text fill=\"#000000\" font-family=\"sans-serif\" font-size=\"12\" font-style=\"italic\" lengthAdjust=\"spacingAndGlyphs\" textLength=\"65\" x=\"35.5\" y=\"57.1387\">«item def»</text><text fill=\"#000000\" font-family=\"sans-serif\" font-size=\"12\" lengthAdjust=\"spacingAndGlyphs\" textLength=\"8\" x=\"64\" y=\"71.1074\">C</text></a></g><text fill=\"#000000\" font-family=\"sans-serif\" font-size=\"14\" lengthAdjust=\"spacingAndGlyphs\" textLength=\"8\" x=\"256\" y=\"41.1982\">c</text><rect fill=\"#A80036\" height=\"12\" style=\"stroke: #FEFECE; stroke-width: 1.5;\" width=\"12\" x=\"254\" y=\"56.5\"/><text fill=\"#000000\" font-family=\"sans-serif\" font-size=\"14\" lengthAdjust=\"spacingAndGlyphs\" textLength=\"38\" x=\"288\" y=\"41.1982\">newX</text><rect fill=\"#A80036\" height=\"12\" style=\"stroke: #FEFECE; stroke-width: 1.5;\" width=\"12\" x=\"301\" y=\"56.5\"/><!--MD5=[48feb88736eb4ed1d49ca185cefc123c]\n",
       "@startuml\r\n",
       "skinparam ranksep 10\r\n",
       "skinparam rectangle {\r\n",
       " backgroundColor<<block>> LightGreen\r\n",
       "}\r\n",
       "skinparam wrapWidth 300\r\n",
       "hide circle\r\n",
       "\r\n",
       "package \"TextualRepresentationTest\" as E1  [[psysml:1e396b56-292d-4ed9-bbba-ca6bb661746c ]]  {\r\n",
       "def \"Real\" as E2  <<(T,blue) dataType>> [[psysml:2e771e59-55ab-4895-8e71-4691f1152b9b ]] \r\n",
       "def \"C\" as E3  <<(T,blue) item def>> [[psysml:e4de1612-4570-4c3a-878c-e0dca14f25a7 ]] \r\n",
       "rec def \"setX\" as E4  <<(T,blue) action def>> [[psysml:7113fdf5-c3b3-43b5-a3fa-02abb845fbc2 ]] {\r\n",
       "portin \"c\" as E5  [[psysml:34b277fa-246f-4890-8f8b-22f79f83c872 ]] \r\n",
       "portin \"newX\" as E6  [[psysml:085fc47f-09d9-4ca0-b48d-81ba6e318ca7 ]] \r\n",
       "}\r\n",
       "\r\n",
       "}\r\n",
       "@enduml\r\n",
       "\n",
       "PlantUML version 1.2020.13(Sat Jun 13 12:26:38 UTC 2020)\n",
       "(EPL source distribution)\n",
       "Java Runtime: OpenJDK Runtime Environment\n",
       "JVM: OpenJDK 64-Bit Server VM\n",
       "Default Encoding: UTF-8\n",
       "Language: en\n",
       "Country: null\n",
       "--></g></svg>"
      ]
     },
     "execution_count": 26,
     "metadata": {},
     "output_type": "execute_result"
    }
   ],
   "source": [
    "%viz --style=\"STDCOLOR\" --view=\"Interconnection\" \"TextualRepresentationTest\""
   ]
  },
  {
   "cell_type": "code",
   "execution_count": 27,
   "id": "dfa202de",
   "metadata": {
    "execution": {
     "iopub.execute_input": "2021-06-30T09:21:17.900769Z",
     "iopub.status.busy": "2021-06-30T09:21:17.900341Z",
     "iopub.status.idle": "2021-06-30T09:21:17.926712Z",
     "shell.execute_reply": "2021-06-30T09:21:17.926385Z"
    }
   },
   "outputs": [
    {
     "data": {
      "image/svg+xml": [
       "<?xml version=\"1.0\" encoding=\"UTF-8\" standalone=\"no\"?><svg xmlns=\"http://www.w3.org/2000/svg\" xmlns:xlink=\"http://www.w3.org/1999/xlink\" contentScriptType=\"application/ecmascript\" contentStyleType=\"text/css\" height=\"134px\" preserveAspectRatio=\"none\" style=\"width:158px;height:134px;\" version=\"1.1\" viewBox=\"0 0 158 134\" width=\"158px\" zoomAndPan=\"magnify\"><defs><filter height=\"300%\" id=\"f1i5v9wxs83w6g\" width=\"300%\" x=\"-1\" y=\"-1\"><feGaussianBlur result=\"blurOut\" stdDeviation=\"2.0\"/><feColorMatrix in=\"blurOut\" result=\"blurOut2\" type=\"matrix\" values=\"0 0 0 0 0 0 0 0 0 0 0 0 0 0 0 0 0 0 .4 0\"/><feOffset dx=\"4.0\" dy=\"4.0\" in=\"blurOut2\" result=\"blurOut3\"/><feBlend in=\"SourceGraphic\" in2=\"blurOut3\" mode=\"normal\"/></filter></defs><g><!--MD5=[fbc87193dbaf4d95561dea2c320d4a47]\n",
       "cluster E1--><a href=\"psysml:7113fdf5-c3b3-43b5-a3fa-02abb845fbc2\" target=\"_top\" title=\"psysml:7113fdf5-c3b3-43b5-a3fa-02abb845fbc2\" xlink:actuate=\"onRequest\" xlink:href=\"psysml:7113fdf5-c3b3-43b5-a3fa-02abb845fbc2\" xlink:show=\"new\" xlink:title=\"psysml:7113fdf5-c3b3-43b5-a3fa-02abb845fbc2\" xlink:type=\"simple\"><rect fill=\"#FFFFFF\" filter=\"url(#f1i5v9wxs83w6g)\" height=\"73\" id=\"E1\" style=\"stroke: #A80036; stroke-width: 1.5;\" width=\"132\" x=\"7\" y=\"42.0986\"/><rect fill=\"#FEFECE\" height=\"37.9375\" style=\"stroke: #A80036; stroke-width: 1.5;\" width=\"132\" x=\"7\" y=\"42.0986\"/><text fill=\"#000000\" font-family=\"sans-serif\" font-size=\"12\" font-style=\"italic\" lengthAdjust=\"spacingAndGlyphs\" textLength=\"77\" x=\"34.5\" y=\"58.2373\">«action def»</text><text fill=\"#000000\" font-family=\"sans-serif\" font-size=\"12\" lengthAdjust=\"spacingAndGlyphs\" textLength=\"27\" x=\"59.5\" y=\"72.2061\">setX</text></a><text fill=\"#000000\" font-family=\"sans-serif\" font-size=\"14\" lengthAdjust=\"spacingAndGlyphs\" textLength=\"8\" x=\"21\" y=\"20.7969\">c</text><rect fill=\"#A80036\" height=\"12\" style=\"stroke: #FEFECE; stroke-width: 1.5;\" width=\"12\" x=\"19\" y=\"36.0986\"/><text fill=\"#000000\" font-family=\"sans-serif\" font-size=\"14\" lengthAdjust=\"spacingAndGlyphs\" textLength=\"38\" x=\"53\" y=\"20.7969\">newX</text><rect fill=\"#A80036\" height=\"12\" style=\"stroke: #FEFECE; stroke-width: 1.5;\" width=\"12\" x=\"66\" y=\"36.0986\"/><!--MD5=[0809943f53907d3dedeb8aca69e3b713]\n",
       "@startuml\r\n",
       "skinparam ranksep 8\r\n",
       "skinparam wrapWidth 300\r\n",
       "hide circle\r\n",
       "\r\n",
       "rec def \"setX\" as E1  <<(T,blue) action def>> [[psysml:7113fdf5-c3b3-43b5-a3fa-02abb845fbc2 ]] {\r\n",
       "portin \"c\" as E2  [[psysml:34b277fa-246f-4890-8f8b-22f79f83c872 ]] \r\n",
       "portin \"newX\" as E3  [[psysml:085fc47f-09d9-4ca0-b48d-81ba6e318ca7 ]] \r\n",
       "}\r\n",
       "\r\n",
       "@enduml\r\n",
       "\n",
       "PlantUML version 1.2020.13(Sat Jun 13 12:26:38 UTC 2020)\n",
       "(EPL source distribution)\n",
       "Java Runtime: OpenJDK Runtime Environment\n",
       "JVM: OpenJDK 64-Bit Server VM\n",
       "Default Encoding: UTF-8\n",
       "Language: en\n",
       "Country: null\n",
       "--></g></svg>"
      ]
     },
     "execution_count": 27,
     "metadata": {},
     "output_type": "execute_result"
    }
   ],
   "source": [
    "%viz --style=\"STDCOLOR\" --view=\"Action\" \"TextualRepresentationTest\""
   ]
  },
  {
   "cell_type": "code",
   "execution_count": 28,
   "id": "f281db4c",
   "metadata": {
    "execution": {
     "iopub.execute_input": "2021-06-30T09:21:17.976524Z",
     "iopub.status.busy": "2021-06-30T09:21:17.975909Z",
     "iopub.status.idle": "2021-06-30T09:21:18.029877Z",
     "shell.execute_reply": "2021-06-30T09:21:18.029510Z"
    }
   },
   "outputs": [
    {
     "data": {
      "image/svg+xml": [
       "<?xml version=\"1.0\" encoding=\"UTF-8\" standalone=\"no\"?><svg xmlns=\"http://www.w3.org/2000/svg\" xmlns:xlink=\"http://www.w3.org/1999/xlink\" contentScriptType=\"application/ecmascript\" contentStyleType=\"text/css\" height=\"358px\" preserveAspectRatio=\"none\" style=\"width:268px;height:358px;\" version=\"1.1\" viewBox=\"0 0 268 358\" width=\"268px\" zoomAndPan=\"magnify\"><defs><filter height=\"300%\" id=\"ftsd8oo2y84hy\" width=\"300%\" x=\"-1\" y=\"-1\"><feGaussianBlur result=\"blurOut\" stdDeviation=\"2.0\"/><feColorMatrix in=\"blurOut\" result=\"blurOut2\" type=\"matrix\" values=\"0 0 0 0 0 0 0 0 0 0 0 0 0 0 0 0 0 0 .4 0\"/><feOffset dx=\"4.0\" dy=\"4.0\" in=\"blurOut2\" result=\"blurOut3\"/><feBlend in=\"SourceGraphic\" in2=\"blurOut3\" mode=\"normal\"/></filter></defs><g><!--MD5=[fbc87193dbaf4d95561dea2c320d4a47]\n",
       "cluster E1--><a href=\"psysml:1e396b56-292d-4ed9-bbba-ca6bb661746c\" target=\"_top\" title=\"psysml:1e396b56-292d-4ed9-bbba-ca6bb661746c\" xlink:actuate=\"onRequest\" xlink:href=\"psysml:1e396b56-292d-4ed9-bbba-ca6bb661746c\" xlink:show=\"new\" xlink:title=\"psysml:1e396b56-292d-4ed9-bbba-ca6bb661746c\" xlink:type=\"simple\"><polygon fill=\"#FFFFFF\" filter=\"url(#ftsd8oo2y84hy)\" points=\"16,6,236,6,243,28.2969,246,28.2969,246,346,16,346,16,6\" style=\"stroke: #000000; stroke-width: 1.5;\"/><line style=\"stroke: #000000; stroke-width: 1.5;\" x1=\"16\" x2=\"243\" y1=\"28.2969\" y2=\"28.2969\"/><text fill=\"#000000\" font-family=\"sans-serif\" font-size=\"14\" font-weight=\"bold\" lengthAdjust=\"spacingAndGlyphs\" textLength=\"214\" x=\"20\" y=\"20.9951\">TextualRepresentationTest</text></a><!--MD5=[b4997ac47864f28c2f74865a473b2911]\n",
       "class E2--><a href=\"psysml:2e771e59-55ab-4895-8e71-4691f1152b9b\" target=\"_top\" title=\"psysml:2e771e59-55ab-4895-8e71-4691f1152b9b\" xlink:actuate=\"onRequest\" xlink:href=\"psysml:2e771e59-55ab-4895-8e71-4691f1152b9b\" xlink:show=\"new\" xlink:title=\"psysml:2e771e59-55ab-4895-8e71-4691f1152b9b\" xlink:type=\"simple\"><rect fill=\"#FEFECE\" filter=\"url(#ftsd8oo2y84hy)\" height=\"45.9375\" id=\"E2\" style=\"stroke: #A80036; stroke-width: 1.5;\" width=\"74\" x=\"42\" y=\"170.5\"/><text fill=\"#000000\" font-family=\"sans-serif\" font-size=\"12\" font-style=\"italic\" lengthAdjust=\"spacingAndGlyphs\" textLength=\"72\" x=\"43\" y=\"186.6387\">«dataType»</text><text fill=\"#000000\" font-family=\"sans-serif\" font-size=\"12\" lengthAdjust=\"spacingAndGlyphs\" textLength=\"27\" x=\"65.5\" y=\"200.6074\">Real</text><line style=\"stroke: #A80036; stroke-width: 1.5;\" x1=\"43\" x2=\"115\" y1=\"208.4375\" y2=\"208.4375\"/></a><!--MD5=[09b614a08d8cba4a07c9adeb5e0fee81]\n",
       "class E3--><a href=\"psysml:e4de1612-4570-4c3a-878c-e0dca14f25a7\" target=\"_top\" title=\"psysml:e4de1612-4570-4c3a-878c-e0dca14f25a7\" xlink:actuate=\"onRequest\" xlink:href=\"psysml:e4de1612-4570-4c3a-878c-e0dca14f25a7\" xlink:show=\"new\" xlink:title=\"psysml:e4de1612-4570-4c3a-878c-e0dca14f25a7\" xlink:type=\"simple\"><rect fill=\"#FEFECE\" filter=\"url(#ftsd8oo2y84hy)\" height=\"58.7422\" id=\"E3\" style=\"stroke: #A80036; stroke-width: 1.5;\" width=\"67\" x=\"151.5\" y=\"164\"/><text fill=\"#000000\" font-family=\"sans-serif\" font-size=\"12\" font-style=\"italic\" lengthAdjust=\"spacingAndGlyphs\" textLength=\"65\" x=\"152.5\" y=\"180.1387\">«item def»</text><text fill=\"#000000\" font-family=\"sans-serif\" font-size=\"12\" lengthAdjust=\"spacingAndGlyphs\" textLength=\"8\" x=\"181\" y=\"194.1074\">C</text><line style=\"stroke: #A80036; stroke-width: 1.5;\" x1=\"152.5\" x2=\"217.5\" y1=\"201.9375\" y2=\"201.9375\"/><text fill=\"#000000\" font-family=\"sans-serif\" font-size=\"11\" lengthAdjust=\"spacingAndGlyphs\" textLength=\"38\" x=\"157.5\" y=\"216.1479\">x: Real</text></a><!--MD5=[ebbe1d658d1005bcc118a6aa81145e00]\n",
       "class E4--><a href=\"psysml:8c3cf46e-c423-4c70-a710-66f9a3632f6b\" target=\"_top\" title=\"psysml:8c3cf46e-c423-4c70-a710-66f9a3632f6b\" xlink:actuate=\"onRequest\" xlink:href=\"psysml:8c3cf46e-c423-4c70-a710-66f9a3632f6b\" xlink:show=\"new\" xlink:title=\"psysml:8c3cf46e-c423-4c70-a710-66f9a3632f6b\" xlink:type=\"simple\"><rect fill=\"#FEFECE\" filter=\"url(#ftsd8oo2y84hy)\" height=\"45.9375\" id=\"E4\" rx=\"10\" ry=\"10\" style=\"stroke: #A80036; stroke-width: 1.5;\" width=\"121\" x=\"97.5\" y=\"284\"/><text fill=\"#000000\" font-family=\"sans-serif\" font-size=\"12\" font-style=\"italic\" lengthAdjust=\"spacingAndGlyphs\" textLength=\"119\" x=\"98.5\" y=\"300.1387\">«assertConstraint»</text><text fill=\"#000000\" font-family=\"sans-serif\" font-size=\"12\" lengthAdjust=\"spacingAndGlyphs\" textLength=\"76\" x=\"120\" y=\"314.1074\">x_constraint</text><line style=\"stroke: #A80036; stroke-width: 1.5;\" x1=\"98.5\" x2=\"217.5\" y1=\"321.9375\" y2=\"321.9375\"/></a><!--MD5=[270fce915f116d4de14055a7c1d9a0f3]\n",
       "class E5--><a href=\"psysml:7113fdf5-c3b3-43b5-a3fa-02abb845fbc2\" target=\"_top\" title=\"psysml:7113fdf5-c3b3-43b5-a3fa-02abb845fbc2\" xlink:actuate=\"onRequest\" xlink:href=\"psysml:7113fdf5-c3b3-43b5-a3fa-02abb845fbc2\" xlink:show=\"new\" xlink:title=\"psysml:7113fdf5-c3b3-43b5-a3fa-02abb845fbc2\" xlink:type=\"simple\"><rect fill=\"#FEFECE\" filter=\"url(#ftsd8oo2y84hy)\" height=\"45.9375\" id=\"E5\" style=\"stroke: #A80036; stroke-width: 1.5;\" width=\"79\" x=\"77.5\" y=\"41\"/><text fill=\"#000000\" font-family=\"sans-serif\" font-size=\"12\" font-style=\"italic\" lengthAdjust=\"spacingAndGlyphs\" textLength=\"77\" x=\"78.5\" y=\"57.1387\">«action def»</text><text fill=\"#000000\" font-family=\"sans-serif\" font-size=\"12\" lengthAdjust=\"spacingAndGlyphs\" textLength=\"27\" x=\"103.5\" y=\"71.1074\">setX</text><line style=\"stroke: #A80036; stroke-width: 1.5;\" x1=\"78.5\" x2=\"155.5\" y1=\"78.9375\" y2=\"78.9375\"/></a><!--MD5=[4672eba38e49728da53d11aeb285b987]\n",
       "reverse link E3 to E4--><a href=\"psysml:53eca076-bd38-4ff8-88cd-ccaa057f7e59\" target=\"_top\" title=\"psysml:53eca076-bd38-4ff8-88cd-ccaa057f7e59\" xlink:actuate=\"onRequest\" xlink:href=\"psysml:53eca076-bd38-4ff8-88cd-ccaa057f7e59\" xlink:show=\"new\" xlink:title=\"psysml:53eca076-bd38-4ff8-88cd-ccaa057f7e59\" xlink:type=\"simple\"><path d=\"M174.9,236.23 C170.99,252.35 166.68,270.14 163.4,283.72 \" fill=\"none\" id=\"E3&lt;-E4\" style=\"stroke: #A80036; stroke-width: 1.0;\"/><polygon fill=\"#FFFFFF\" points=\"178.05,223.21,172.7506,228.1004,175.2266,234.8731,180.526,229.9827,178.05,223.21\" style=\"stroke: #A80036; stroke-width: 1.0;\"/></a><!--MD5=[6f107eb264eda4b26325f39a5516f1f3]\n",
       "reverse link E5 to E3--><a href=\"psysml:34b277fa-246f-4890-8f8b-22f79f83c872\" target=\"_top\" title=\"psysml:34b277fa-246f-4890-8f8b-22f79f83c872\" xlink:actuate=\"onRequest\" xlink:href=\"psysml:34b277fa-246f-4890-8f8b-22f79f83c872\" xlink:show=\"new\" xlink:title=\"psysml:34b277fa-246f-4890-8f8b-22f79f83c872\" xlink:type=\"simple\"><path d=\"M135,98.75 C145.81,119.03 159.42,144.55 169.71,163.84 \" fill=\"none\" id=\"E5&lt;-E3\" style=\"stroke: #A80036; stroke-width: 1.0;\"/><polygon fill=\"#FFFFFF\" points=\"128.84,87.21,128.1323,94.3863,134.4843,97.7997,135.1921,90.6234,128.84,87.21\" style=\"stroke: #A80036; stroke-width: 1.0;\"/><text fill=\"#000000\" font-family=\"sans-serif\" font-size=\"13\" lengthAdjust=\"spacingAndGlyphs\" textLength=\"7\" x=\"154\" y=\"130.0669\">c</text></a><!--MD5=[f51c6d1f1856fe338ac0413483fb1ccf]\n",
       "reverse link E5 to E2--><a href=\"psysml:085fc47f-09d9-4ca0-b48d-81ba6e318ca7\" target=\"_top\" title=\"psysml:085fc47f-09d9-4ca0-b48d-81ba6e318ca7\" xlink:actuate=\"onRequest\" xlink:href=\"psysml:085fc47f-09d9-4ca0-b48d-81ba6e318ca7\" xlink:show=\"new\" xlink:title=\"psysml:085fc47f-09d9-4ca0-b48d-81ba6e318ca7\" xlink:type=\"simple\"><path d=\"M104.68,99.44 C102.7,105.28 100.74,111.29 99,117 C93.58,134.77 88.23,155.14 84.43,170.24 \" fill=\"none\" id=\"E5&lt;-E2\" style=\"stroke: #A80036; stroke-width: 1.0;\"/><polygon fill=\"#FFFFFF\" points=\"108.93,87.15,103.1905,91.5156,105.0128,98.4927,110.7523,94.1271,108.93,87.15\" style=\"stroke: #A80036; stroke-width: 1.0;\"/><text fill=\"#000000\" font-family=\"sans-serif\" font-size=\"13\" lengthAdjust=\"spacingAndGlyphs\" textLength=\"33\" x=\"100\" y=\"130.0669\">newX</text></a><!--MD5=[530df4a341e032079bf4041a762ec25f]\n",
       "@startuml\r\n",
       "skinparam wrapWidth 300\r\n",
       "hide circle\r\n",
       "\r\n",
       "package \"TextualRepresentationTest\" as E1  [[psysml:1e396b56-292d-4ed9-bbba-ca6bb661746c ]]  {\r\n",
       "comp def \"Real\" as E2  <<(T,blue) dataType>> [[psysml:2e771e59-55ab-4895-8e71-4691f1152b9b ]] {\r\n",
       "}\r\n",
       "comp def \"C\" as E3  <<(T,blue) item def>> [[psysml:e4de1612-4570-4c3a-878c-e0dca14f25a7 ]] {\r\n",
       "x: Real\r\n",
       "}\r\n",
       "comp usage \"x_constraint\" as E4  <<(T,blue) assertConstraint>> [[psysml:8c3cf46e-c423-4c70-a710-66f9a3632f6b ]] {\r\n",
       "}\r\n",
       "comp def \"setX\" as E5  <<(T,blue) action def>> [[psysml:7113fdf5-c3b3-43b5-a3fa-02abb845fbc2 ]] {\r\n",
       "}\r\n",
       "E3 o- - E4 [[psysml:53eca076-bd38-4ff8-88cd-ccaa057f7e59 ]] \r\n",
       "E5 o- - E3 [[psysml:34b277fa-246f-4890-8f8b-22f79f83c872 ]] : c\r\n",
       "E5 o- - E2 [[psysml:085fc47f-09d9-4ca0-b48d-81ba6e318ca7 ]] : newX\r\n",
       "}\r\n",
       "@enduml\r\n",
       "\n",
       "PlantUML version 1.2020.13(Sat Jun 13 12:26:38 UTC 2020)\n",
       "(EPL source distribution)\n",
       "Java Runtime: OpenJDK Runtime Environment\n",
       "JVM: OpenJDK 64-Bit Server VM\n",
       "Default Encoding: UTF-8\n",
       "Language: en\n",
       "Country: null\n",
       "--></g></svg>"
      ]
     },
     "execution_count": 28,
     "metadata": {},
     "output_type": "execute_result"
    }
   ],
   "source": [
    "%viz --style=\"STDCOLOR\" --view=\"Sequence\" \"TextualRepresentationTest\""
   ]
  },
  {
   "cell_type": "code",
   "execution_count": 29,
   "id": "1bc51c25",
   "metadata": {
    "execution": {
     "iopub.execute_input": "2021-06-30T09:21:18.080470Z",
     "iopub.status.busy": "2021-06-30T09:21:18.080033Z",
     "iopub.status.idle": "2021-06-30T09:21:18.130069Z",
     "shell.execute_reply": "2021-06-30T09:21:18.130781Z"
    }
   },
   "outputs": [
    {
     "data": {
      "image/svg+xml": [
       "<?xml version=\"1.0\" encoding=\"UTF-8\" standalone=\"no\"?><svg xmlns=\"http://www.w3.org/2000/svg\" xmlns:xlink=\"http://www.w3.org/1999/xlink\" contentScriptType=\"application/ecmascript\" contentStyleType=\"text/css\" height=\"244px\" preserveAspectRatio=\"none\" style=\"width:389px;height:244px;\" version=\"1.1\" viewBox=\"0 0 389 244\" width=\"389px\" zoomAndPan=\"magnify\"><defs><filter height=\"300%\" id=\"f8c8vvqh2ofxo\" width=\"300%\" x=\"-1\" y=\"-1\"><feGaussianBlur result=\"blurOut\" stdDeviation=\"2.0\"/><feColorMatrix in=\"blurOut\" result=\"blurOut2\" type=\"matrix\" values=\"0 0 0 0 0 0 0 0 0 0 0 0 0 0 0 0 0 0 .4 0\"/><feOffset dx=\"4.0\" dy=\"4.0\" in=\"blurOut2\" result=\"blurOut3\"/><feBlend in=\"SourceGraphic\" in2=\"blurOut3\" mode=\"normal\"/></filter></defs><g><!--MD5=[fbc87193dbaf4d95561dea2c320d4a47]\n",
       "cluster E1--><a href=\"psysml:1e396b56-292d-4ed9-bbba-ca6bb661746c\" target=\"_top\" title=\"psysml:1e396b56-292d-4ed9-bbba-ca6bb661746c\" xlink:actuate=\"onRequest\" xlink:href=\"psysml:1e396b56-292d-4ed9-bbba-ca6bb661746c\" xlink:show=\"new\" xlink:title=\"psysml:1e396b56-292d-4ed9-bbba-ca6bb661746c\" xlink:type=\"simple\"><polygon fill=\"#FFFFFF\" filter=\"url(#f8c8vvqh2ofxo)\" points=\"16,6,236,6,243,28.2969,367,28.2969,367,232.5,16,232.5,16,6\" style=\"stroke: #000000; stroke-width: 1.5;\"/><line style=\"stroke: #000000; stroke-width: 1.5;\" x1=\"16\" x2=\"243\" y1=\"28.2969\" y2=\"28.2969\"/><text fill=\"#000000\" font-family=\"sans-serif\" font-size=\"14\" font-weight=\"bold\" lengthAdjust=\"spacingAndGlyphs\" textLength=\"214\" x=\"20\" y=\"20.9951\">TextualRepresentationTest</text></a><!--MD5=[de5ec2e2e8f62f467e546659f5068c88]\n",
       "cluster E5--><a href=\"psysml:7113fdf5-c3b3-43b5-a3fa-02abb845fbc2\" target=\"_top\" title=\"psysml:7113fdf5-c3b3-43b5-a3fa-02abb845fbc2\" xlink:actuate=\"onRequest\" xlink:href=\"psysml:7113fdf5-c3b3-43b5-a3fa-02abb845fbc2\" xlink:show=\"new\" xlink:title=\"psysml:7113fdf5-c3b3-43b5-a3fa-02abb845fbc2\" xlink:type=\"simple\"><rect fill=\"#FFFFFF\" filter=\"url(#f8c8vvqh2ofxo)\" height=\"146\" id=\"E5\" style=\"stroke: #A80036; stroke-width: 1.5;\" width=\"96\" x=\"225.5\" y=\"70.5\"/><rect fill=\"#FEFECE\" height=\"37.9375\" style=\"stroke: #A80036; stroke-width: 1.5;\" width=\"96\" x=\"225.5\" y=\"70.5\"/><text fill=\"#000000\" font-family=\"sans-serif\" font-size=\"12\" font-style=\"italic\" lengthAdjust=\"spacingAndGlyphs\" textLength=\"77\" x=\"235\" y=\"86.6387\">«action def»</text><text fill=\"#000000\" font-family=\"sans-serif\" font-size=\"12\" lengthAdjust=\"spacingAndGlyphs\" textLength=\"27\" x=\"260\" y=\"100.6074\">setX</text></a><!--MD5=[b4997ac47864f28c2f74865a473b2911]\n",
       "class E2--><a href=\"psysml:2e771e59-55ab-4895-8e71-4691f1152b9b\" target=\"_top\" title=\"psysml:2e771e59-55ab-4895-8e71-4691f1152b9b\" xlink:actuate=\"onRequest\" xlink:href=\"psysml:2e771e59-55ab-4895-8e71-4691f1152b9b\" xlink:show=\"new\" xlink:title=\"psysml:2e771e59-55ab-4895-8e71-4691f1152b9b\" xlink:type=\"simple\"><rect fill=\"#FEFECE\" filter=\"url(#f8c8vvqh2ofxo)\" height=\"45.9375\" id=\"E2\" style=\"stroke: #A80036; stroke-width: 1.5;\" width=\"74\" x=\"135\" y=\"47.5\"/><text fill=\"#000000\" font-family=\"sans-serif\" font-size=\"12\" font-style=\"italic\" lengthAdjust=\"spacingAndGlyphs\" textLength=\"72\" x=\"136\" y=\"63.6387\">«dataType»</text><text fill=\"#000000\" font-family=\"sans-serif\" font-size=\"12\" lengthAdjust=\"spacingAndGlyphs\" textLength=\"27\" x=\"158.5\" y=\"77.6074\">Real</text><line style=\"stroke: #A80036; stroke-width: 1.5;\" x1=\"136\" x2=\"208\" y1=\"85.4375\" y2=\"85.4375\"/></a><!--MD5=[09b614a08d8cba4a07c9adeb5e0fee81]\n",
       "class E3--><a href=\"psysml:e4de1612-4570-4c3a-878c-e0dca14f25a7\" target=\"_top\" title=\"psysml:e4de1612-4570-4c3a-878c-e0dca14f25a7\" xlink:actuate=\"onRequest\" xlink:href=\"psysml:e4de1612-4570-4c3a-878c-e0dca14f25a7\" xlink:show=\"new\" xlink:title=\"psysml:e4de1612-4570-4c3a-878c-e0dca14f25a7\" xlink:type=\"simple\"><rect fill=\"#FEFECE\" filter=\"url(#f8c8vvqh2ofxo)\" height=\"58.7422\" id=\"E3\" style=\"stroke: #A80036; stroke-width: 1.5;\" width=\"67\" x=\"32.5\" y=\"41\"/><text fill=\"#000000\" font-family=\"sans-serif\" font-size=\"12\" font-style=\"italic\" lengthAdjust=\"spacingAndGlyphs\" textLength=\"65\" x=\"33.5\" y=\"57.1387\">«item def»</text><text fill=\"#000000\" font-family=\"sans-serif\" font-size=\"12\" lengthAdjust=\"spacingAndGlyphs\" textLength=\"8\" x=\"62\" y=\"71.1074\">C</text><line style=\"stroke: #A80036; stroke-width: 1.5;\" x1=\"33.5\" x2=\"98.5\" y1=\"78.9375\" y2=\"78.9375\"/><text fill=\"#000000\" font-family=\"sans-serif\" font-size=\"11\" lengthAdjust=\"spacingAndGlyphs\" textLength=\"38\" x=\"38.5\" y=\"93.1479\">x: Real</text></a><!--MD5=[ebbe1d658d1005bcc118a6aa81145e00]\n",
       "class E4--><a href=\"psysml:8c3cf46e-c423-4c70-a710-66f9a3632f6b\" target=\"_top\" title=\"psysml:8c3cf46e-c423-4c70-a710-66f9a3632f6b\" xlink:actuate=\"onRequest\" xlink:href=\"psysml:8c3cf46e-c423-4c70-a710-66f9a3632f6b\" xlink:show=\"new\" xlink:title=\"psysml:8c3cf46e-c423-4c70-a710-66f9a3632f6b\" xlink:type=\"simple\"><rect fill=\"#FEFECE\" filter=\"url(#f8c8vvqh2ofxo)\" height=\"45.9375\" id=\"E4\" rx=\"10\" ry=\"10\" style=\"stroke: #A80036; stroke-width: 1.5;\" width=\"121\" x=\"32.5\" y=\"160\"/><text fill=\"#000000\" font-family=\"sans-serif\" font-size=\"12\" font-style=\"italic\" lengthAdjust=\"spacingAndGlyphs\" textLength=\"119\" x=\"33.5\" y=\"176.1387\">«assertConstraint»</text><text fill=\"#000000\" font-family=\"sans-serif\" font-size=\"12\" lengthAdjust=\"spacingAndGlyphs\" textLength=\"76\" x=\"55\" y=\"190.1074\">x_constraint</text><line style=\"stroke: #A80036; stroke-width: 1.5;\" x1=\"33.5\" x2=\"152.5\" y1=\"197.9375\" y2=\"197.9375\"/></a><text fill=\"#000000\" font-family=\"sans-serif\" font-size=\"14\" lengthAdjust=\"spacingAndGlyphs\" textLength=\"8\" x=\"246\" y=\"49.1982\">c</text><rect fill=\"#A80036\" height=\"12\" style=\"stroke: #FEFECE; stroke-width: 1.5;\" width=\"12\" x=\"244\" y=\"64.5\"/><text fill=\"#000000\" font-family=\"sans-serif\" font-size=\"14\" lengthAdjust=\"spacingAndGlyphs\" textLength=\"38\" x=\"278\" y=\"49.1982\">newX</text><rect fill=\"#A80036\" height=\"12\" style=\"stroke: #FEFECE; stroke-width: 1.5;\" width=\"12\" x=\"291\" y=\"64.5\"/><!--MD5=[4672eba38e49728da53d11aeb285b987]\n",
       "reverse link E3 to E4--><a href=\"psysml:53eca076-bd38-4ff8-88cd-ccaa057f7e59\" target=\"_top\" title=\"psysml:53eca076-bd38-4ff8-88cd-ccaa057f7e59\" xlink:actuate=\"onRequest\" xlink:href=\"psysml:53eca076-bd38-4ff8-88cd-ccaa057f7e59\" xlink:show=\"new\" xlink:title=\"psysml:53eca076-bd38-4ff8-88cd-ccaa057f7e59\" xlink:type=\"simple\"><path d=\"M76.15,113.04 C80.02,128.87 84.28,146.3 87.55,159.68 \" fill=\"none\" id=\"E3&lt;-E4\" style=\"stroke: #A80036; stroke-width: 1.0;\"/><polygon fill=\"#FFFFFF\" points=\"73.02,100.24,70.5585,107.018,75.8683,111.8971,78.3299,105.1191,73.02,100.24\" style=\"stroke: #A80036; stroke-width: 1.0;\"/></a><!--MD5=[b21ba630dff016089392d8b1ecc2b8fa]\n",
       "@startuml\r\n",
       "skinparam wrapWidth 300\r\n",
       "hide circle\r\n",
       "\r\n",
       "package \"TextualRepresentationTest\" as E1  [[psysml:1e396b56-292d-4ed9-bbba-ca6bb661746c ]]  {\r\n",
       "comp def \"Real\" as E2  <<(T,blue) dataType>> [[psysml:2e771e59-55ab-4895-8e71-4691f1152b9b ]] {\r\n",
       "}\r\n",
       "comp def \"C\" as E3  <<(T,blue) item def>> [[psysml:e4de1612-4570-4c3a-878c-e0dca14f25a7 ]] {\r\n",
       "x: Real\r\n",
       "}\r\n",
       "comp usage \"x_constraint\" as E4  <<(T,blue) assertConstraint>> [[psysml:8c3cf46e-c423-4c70-a710-66f9a3632f6b ]] {\r\n",
       "}\r\n",
       "rec def \"setX\" as E5  <<(T,blue) action def>> [[psysml:7113fdf5-c3b3-43b5-a3fa-02abb845fbc2 ]] {\r\n",
       "portin \"c\" as E6  [[psysml:34b277fa-246f-4890-8f8b-22f79f83c872 ]] \r\n",
       "portin \"newX\" as E7  [[psysml:085fc47f-09d9-4ca0-b48d-81ba6e318ca7 ]] \r\n",
       "}\r\n",
       "\r\n",
       "E3 o- - E4 [[psysml:53eca076-bd38-4ff8-88cd-ccaa057f7e59 ]] \r\n",
       "}\r\n",
       "@enduml\r\n",
       "\n",
       "PlantUML version 1.2020.13(Sat Jun 13 12:26:38 UTC 2020)\n",
       "(EPL source distribution)\n",
       "Java Runtime: OpenJDK Runtime Environment\n",
       "JVM: OpenJDK 64-Bit Server VM\n",
       "Default Encoding: UTF-8\n",
       "Language: en\n",
       "Country: null\n",
       "--></g></svg>"
      ]
     },
     "execution_count": 29,
     "metadata": {},
     "output_type": "execute_result"
    }
   ],
   "source": [
    "%viz --style=\"STDCOLOR\" --view=\"MIXED\" \"TextualRepresentationTest\""
   ]
  },
  {
   "cell_type": "code",
   "execution_count": 30,
   "id": "7e7665b4",
   "metadata": {
    "execution": {
     "iopub.execute_input": "2021-06-30T09:21:18.180098Z",
     "iopub.status.busy": "2021-06-30T09:21:18.179582Z",
     "iopub.status.idle": "2021-06-30T09:21:18.326511Z",
     "shell.execute_reply": "2021-06-30T09:21:18.325494Z"
    }
   },
   "outputs": [
    {
     "data": {
      "image/svg+xml": [
       "<?xml version=\"1.0\" encoding=\"UTF-8\" standalone=\"no\"?><svg xmlns=\"http://www.w3.org/2000/svg\" xmlns:xlink=\"http://www.w3.org/1999/xlink\" contentScriptType=\"application/ecmascript\" contentStyleType=\"text/css\" height=\"238px\" preserveAspectRatio=\"none\" style=\"width:397px;height:238px;\" version=\"1.1\" viewBox=\"0 0 397 238\" width=\"397px\" zoomAndPan=\"magnify\"><defs><filter height=\"300%\" id=\"f6a4p83bb5lml\" width=\"300%\" x=\"-1\" y=\"-1\"><feGaussianBlur result=\"blurOut\" stdDeviation=\"2.0\"/><feColorMatrix in=\"blurOut\" result=\"blurOut2\" type=\"matrix\" values=\"0 0 0 0 0 0 0 0 0 0 0 0 0 0 0 0 0 0 .4 0\"/><feOffset dx=\"4.0\" dy=\"4.0\" in=\"blurOut2\" result=\"blurOut3\"/><feBlend in=\"SourceGraphic\" in2=\"blurOut3\" mode=\"normal\"/></filter></defs><g><!--MD5=[fbc87193dbaf4d95561dea2c320d4a47]\n",
       "cluster E1--><a href=\"psysml:1e396b56-292d-4ed9-bbba-ca6bb661746c\" target=\"_top\" title=\"psysml:1e396b56-292d-4ed9-bbba-ca6bb661746c\" xlink:actuate=\"onRequest\" xlink:href=\"psysml:1e396b56-292d-4ed9-bbba-ca6bb661746c\" xlink:show=\"new\" xlink:title=\"psysml:1e396b56-292d-4ed9-bbba-ca6bb661746c\" xlink:type=\"simple\"><polygon fill=\"#FFFFFF\" filter=\"url(#f6a4p83bb5lml)\" points=\"16,6,236,6,243,28.2969,375,28.2969,375,226.5,16,226.5,16,6\" style=\"stroke: #000000; stroke-width: 1.5;\"/><line style=\"stroke: #000000; stroke-width: 1.5;\" x1=\"16\" x2=\"243\" y1=\"28.2969\" y2=\"28.2969\"/><text fill=\"#000000\" font-family=\"sans-serif\" font-size=\"14\" font-weight=\"bold\" lengthAdjust=\"spacingAndGlyphs\" textLength=\"214\" x=\"20\" y=\"20.9951\">TextualRepresentationTest</text></a><!--MD5=[de5ec2e2e8f62f467e546659f5068c88]\n",
       "cluster E5--><a href=\"psysml:7113fdf5-c3b3-43b5-a3fa-02abb845fbc2\" target=\"_top\" title=\"psysml:7113fdf5-c3b3-43b5-a3fa-02abb845fbc2\" xlink:actuate=\"onRequest\" xlink:href=\"psysml:7113fdf5-c3b3-43b5-a3fa-02abb845fbc2\" xlink:show=\"new\" xlink:title=\"psysml:7113fdf5-c3b3-43b5-a3fa-02abb845fbc2\" xlink:type=\"simple\"><rect fill=\"#FFFFFF\" filter=\"url(#f6a4p83bb5lml)\" height=\"143\" id=\"E5\" style=\"stroke: #A80036; stroke-width: 1.5;\" width=\"96\" x=\"233.5\" y=\"67.5\"/><rect fill=\"#FEFECE\" height=\"37.9375\" style=\"stroke: #A80036; stroke-width: 1.5;\" width=\"96\" x=\"233.5\" y=\"67.5\"/><text fill=\"#000000\" font-family=\"sans-serif\" font-size=\"12\" font-style=\"italic\" lengthAdjust=\"spacingAndGlyphs\" textLength=\"77\" x=\"243\" y=\"83.6387\">«action def»</text><text fill=\"#000000\" font-family=\"sans-serif\" font-size=\"12\" lengthAdjust=\"spacingAndGlyphs\" textLength=\"27\" x=\"268\" y=\"97.6074\">setX</text></a><!--MD5=[b4997ac47864f28c2f74865a473b2911]\n",
       "class E2--><a href=\"psysml:2e771e59-55ab-4895-8e71-4691f1152b9b\" target=\"_top\" title=\"psysml:2e771e59-55ab-4895-8e71-4691f1152b9b\" xlink:actuate=\"onRequest\" xlink:href=\"psysml:2e771e59-55ab-4895-8e71-4691f1152b9b\" xlink:show=\"new\" xlink:title=\"psysml:2e771e59-55ab-4895-8e71-4691f1152b9b\" xlink:type=\"simple\"><rect fill=\"#FEFECE\" filter=\"url(#f6a4p83bb5lml)\" height=\"45.9375\" id=\"E2\" style=\"stroke: #A80036; stroke-width: 1.5;\" width=\"100\" x=\"117\" y=\"44.5\"/><ellipse cx=\"132\" cy=\"63.4688\" fill=\"#0000FF\" rx=\"11\" ry=\"11\" style=\"stroke: #A80036; stroke-width: 1.0;\"/><path d=\"M132.8438,70.2188 L130.3906,70.2188 L130.3906,59.9688 L127.25,59.9688 L127.25,57.8281 L135.9844,57.8281 L135.9844,59.9688 L132.8438,59.9688 L132.8438,70.2188 Z \"/><text fill=\"#000000\" font-family=\"sans-serif\" font-size=\"12\" font-style=\"italic\" lengthAdjust=\"spacingAndGlyphs\" textLength=\"72\" x=\"144\" y=\"60.6387\">«dataType»</text><text fill=\"#000000\" font-family=\"sans-serif\" font-size=\"12\" lengthAdjust=\"spacingAndGlyphs\" textLength=\"27\" x=\"166.5\" y=\"74.6074\">Real</text><line style=\"stroke: #A80036; stroke-width: 1.5;\" x1=\"118\" x2=\"216\" y1=\"82.4375\" y2=\"82.4375\"/></a><!--MD5=[09b614a08d8cba4a07c9adeb5e0fee81]\n",
       "class E3--><a href=\"psysml:e4de1612-4570-4c3a-878c-e0dca14f25a7\" target=\"_top\" title=\"psysml:e4de1612-4570-4c3a-878c-e0dca14f25a7\" xlink:actuate=\"onRequest\" xlink:href=\"psysml:e4de1612-4570-4c3a-878c-e0dca14f25a7\" xlink:show=\"new\" xlink:title=\"psysml:e4de1612-4570-4c3a-878c-e0dca14f25a7\" xlink:type=\"simple\"><rect fill=\"#FEFECE\" filter=\"url(#f6a4p83bb5lml)\" height=\"52.8047\" id=\"E3\" style=\"stroke: #A80036; stroke-width: 1.5;\" width=\"50\" x=\"32\" y=\"41\"/><ellipse cx=\"51.5\" cy=\"57\" fill=\"#008000\" rx=\"11\" ry=\"11\" style=\"stroke: #A80036; stroke-width: 1.0;\"/><path d=\"M50.4063,57.375 L50.4063,61.0469 L52.0313,61.0469 Q53.2031,61.0469 53.6719,60.6563 Q54.1406,60.25 54.1406,59.25 Q54.1406,58.25 53.6406,57.8125 Q53.1563,57.375 52.0313,57.375 L50.4063,57.375 Z M50.4063,52.5469 L50.4063,55.4219 L52.0313,55.4219 Q52.9531,55.4219 53.3438,55.0938 Q53.75,54.75 53.75,54 Q53.75,53.2344 53.3438,52.8906 Q52.9375,52.5469 52.0313,52.5469 L50.4063,52.5469 Z M48.0313,50.5938 L52.0313,50.5938 Q54.0938,50.5938 55.1406,51.375 Q56.1875,52.1563 56.1875,53.7188 Q56.1875,54.9219 55.5625,55.5938 Q54.9531,56.2656 53.7656,56.375 Q55.1875,56.5156 55.9063,57.3281 Q56.625,58.1406 56.625,59.5938 Q56.625,61.3906 55.5469,62.2031 Q54.4688,63 52.0313,63 L48.0313,63 L48.0313,50.5938 Z \"/><text fill=\"#000000\" font-family=\"sans-serif\" font-size=\"12\" lengthAdjust=\"spacingAndGlyphs\" textLength=\"8\" x=\"66.5\" y=\"61.1543\">C</text><line style=\"stroke: #A80036; stroke-width: 1.5;\" x1=\"33\" x2=\"81\" y1=\"73\" y2=\"73\"/><text fill=\"#000000\" font-family=\"sans-serif\" font-size=\"11\" lengthAdjust=\"spacingAndGlyphs\" textLength=\"38\" x=\"38\" y=\"87.2104\">x: Real</text></a><!--MD5=[ebbe1d658d1005bcc118a6aa81145e00]\n",
       "class E4--><a href=\"psysml:8c3cf46e-c423-4c70-a710-66f9a3632f6b\" target=\"_top\" title=\"psysml:8c3cf46e-c423-4c70-a710-66f9a3632f6b\" xlink:actuate=\"onRequest\" xlink:href=\"psysml:8c3cf46e-c423-4c70-a710-66f9a3632f6b\" xlink:show=\"new\" xlink:title=\"psysml:8c3cf46e-c423-4c70-a710-66f9a3632f6b\" xlink:type=\"simple\"><rect fill=\"#FEFECE\" filter=\"url(#f6a4p83bb5lml)\" height=\"45.9375\" id=\"E4\" rx=\"10\" ry=\"10\" style=\"stroke: #A80036; stroke-width: 1.5;\" width=\"147\" x=\"32.5\" y=\"154\"/><ellipse cx=\"47.5\" cy=\"172.9688\" fill=\"#FFA500\" rx=\"11\" ry=\"11\" style=\"stroke: #A80036; stroke-width: 1.0;\"/><path d=\"M43.375,174.8906 L43.375,167.0781 L45.8281,167.0781 L45.8281,175.5156 Q45.8281,176.4375 46.2969,176.9688 Q46.7813,177.5 47.6094,177.5 Q48.4531,177.5 48.9219,176.9688 Q49.3906,176.4375 49.3906,175.5156 L49.3906,167.0781 L51.8438,167.0781 L51.8438,174.8906 Q51.8438,177.4219 50.8438,178.5625 Q49.8438,179.7031 47.6094,179.7031 Q45.3906,179.7031 44.375,178.5625 Q43.375,177.4219 43.375,174.8906 Z \"/><text fill=\"#000000\" font-family=\"sans-serif\" font-size=\"12\" font-style=\"italic\" lengthAdjust=\"spacingAndGlyphs\" textLength=\"119\" x=\"59.5\" y=\"170.1387\">«assertConstraint»</text><text fill=\"#000000\" font-family=\"sans-serif\" font-size=\"12\" lengthAdjust=\"spacingAndGlyphs\" textLength=\"76\" x=\"81\" y=\"184.1074\">x_constraint</text><line style=\"stroke: #A80036; stroke-width: 1.5;\" x1=\"33.5\" x2=\"178.5\" y1=\"191.9375\" y2=\"191.9375\"/></a><text fill=\"#000000\" font-family=\"sans-serif\" font-size=\"14\" lengthAdjust=\"spacingAndGlyphs\" textLength=\"8\" x=\"254\" y=\"46.1982\">c</text><rect fill=\"#A80036\" height=\"12\" style=\"stroke: #FEFECE; stroke-width: 1.5;\" width=\"12\" x=\"252\" y=\"61.5\"/><text fill=\"#000000\" font-family=\"sans-serif\" font-size=\"14\" lengthAdjust=\"spacingAndGlyphs\" textLength=\"38\" x=\"286\" y=\"46.1982\">newX</text><rect fill=\"#A80036\" height=\"12\" style=\"stroke: #FEFECE; stroke-width: 1.5;\" width=\"12\" x=\"299\" y=\"61.5\"/><!--MD5=[4672eba38e49728da53d11aeb285b987]\n",
       "reverse link E3 to E4--><a href=\"psysml:53eca076-bd38-4ff8-88cd-ccaa057f7e59\" target=\"_top\" title=\"psysml:53eca076-bd38-4ff8-88cd-ccaa057f7e59\" xlink:actuate=\"onRequest\" xlink:href=\"psysml:53eca076-bd38-4ff8-88cd-ccaa057f7e59\" xlink:show=\"new\" xlink:title=\"psysml:53eca076-bd38-4ff8-88cd-ccaa057f7e59\" xlink:type=\"simple\"><path d=\"M74.27,106.4 C81.49,122.23 89.63,140.08 95.85,153.74 \" fill=\"none\" id=\"E3&lt;-E4\" style=\"stroke: #A80036; stroke-width: 1.0;\"/><polygon fill=\"#FFFFFF\" points=\"68.74,94.25,67.593,101.3693,73.7235,105.1663,74.8705,98.047,68.74,94.25\" style=\"stroke: #A80036; stroke-width: 1.0;\"/></a><!--MD5=[4d856507e5be3ffcbf3818e625a15878]\n",
       "@startuml\r\n",
       " \r\n",
       "package \"TextualRepresentationTest\" as E1  [[psysml:1e396b56-292d-4ed9-bbba-ca6bb661746c ]]  {\r\n",
       "comp def \"Real\" as E2  <<(T,blue) dataType>> [[psysml:2e771e59-55ab-4895-8e71-4691f1152b9b ]] {\r\n",
       "}\r\n",
       "comp def \"C\" as E3 << << (B,green) >> [[psysml:e4de1612-4570-4c3a-878c-e0dca14f25a7 ]] {\r\n",
       "x: Real\r\n",
       "}\r\n",
       "comp usage \"x_constraint\" as E4 << <<(U,orange) assertConstraint>> [[psysml:8c3cf46e-c423-4c70-a710-66f9a3632f6b ]] {\r\n",
       "}\r\n",
       "rec def \"setX\" as E5 << <<(B,lemonchiffon) action def>> [[psysml:7113fdf5-c3b3-43b5-a3fa-02abb845fbc2 ]] {\r\n",
       "portin \"c\" as E6  [[psysml:34b277fa-246f-4890-8f8b-22f79f83c872 ]] \r\n",
       "portin \"newX\" as E7  [[psysml:085fc47f-09d9-4ca0-b48d-81ba6e318ca7 ]] \r\n",
       "}\r\n",
       "\r\n",
       "E3 o- - E4 [[psysml:53eca076-bd38-4ff8-88cd-ccaa057f7e59 ]] \r\n",
       "}\r\n",
       "@enduml\r\n",
       "\n",
       "PlantUML version 1.2020.13(Sat Jun 13 12:26:38 UTC 2020)\n",
       "(EPL source distribution)\n",
       "Java Runtime: OpenJDK Runtime Environment\n",
       "JVM: OpenJDK 64-Bit Server VM\n",
       "Default Encoding: UTF-8\n",
       "Language: en\n",
       "Country: null\n",
       "--></g></svg>"
      ]
     },
     "execution_count": 30,
     "metadata": {},
     "output_type": "execute_result"
    }
   ],
   "source": [
    "%viz --style=\"PLANTUML\" --view=\"Default\" \"TextualRepresentationTest\""
   ]
  },
  {
   "cell_type": "code",
   "execution_count": 31,
   "id": "ab9762b8",
   "metadata": {
    "execution": {
     "iopub.execute_input": "2021-06-30T09:21:18.376672Z",
     "iopub.status.busy": "2021-06-30T09:21:18.375025Z",
     "iopub.status.idle": "2021-06-30T09:21:18.427551Z",
     "shell.execute_reply": "2021-06-30T09:21:18.427881Z"
    }
   },
   "outputs": [
    {
     "data": {
      "image/svg+xml": [
       "<?xml version=\"1.0\" encoding=\"UTF-8\" standalone=\"no\"?><svg xmlns=\"http://www.w3.org/2000/svg\" xmlns:xlink=\"http://www.w3.org/1999/xlink\" contentScriptType=\"application/ecmascript\" contentStyleType=\"text/css\" height=\"352px\" preserveAspectRatio=\"none\" style=\"width:268px;height:352px;\" version=\"1.1\" viewBox=\"0 0 268 352\" width=\"268px\" zoomAndPan=\"magnify\"><defs><filter height=\"300%\" id=\"f1x3mqymxp60v5\" width=\"300%\" x=\"-1\" y=\"-1\"><feGaussianBlur result=\"blurOut\" stdDeviation=\"2.0\"/><feColorMatrix in=\"blurOut\" result=\"blurOut2\" type=\"matrix\" values=\"0 0 0 0 0 0 0 0 0 0 0 0 0 0 0 0 0 0 .4 0\"/><feOffset dx=\"4.0\" dy=\"4.0\" in=\"blurOut2\" result=\"blurOut3\"/><feBlend in=\"SourceGraphic\" in2=\"blurOut3\" mode=\"normal\"/></filter></defs><g><!--MD5=[fbc87193dbaf4d95561dea2c320d4a47]\n",
       "cluster E1--><a href=\"psysml:1e396b56-292d-4ed9-bbba-ca6bb661746c\" target=\"_top\" title=\"psysml:1e396b56-292d-4ed9-bbba-ca6bb661746c\" xlink:actuate=\"onRequest\" xlink:href=\"psysml:1e396b56-292d-4ed9-bbba-ca6bb661746c\" xlink:show=\"new\" xlink:title=\"psysml:1e396b56-292d-4ed9-bbba-ca6bb661746c\" xlink:type=\"simple\"><polygon fill=\"#FFFFFF\" filter=\"url(#f1x3mqymxp60v5)\" points=\"16,6,236,6,243,28.2969,246,28.2969,246,340,16,340,16,6\" style=\"stroke: #000000; stroke-width: 1.5;\"/><line style=\"stroke: #000000; stroke-width: 1.5;\" x1=\"16\" x2=\"243\" y1=\"28.2969\" y2=\"28.2969\"/><text fill=\"#000000\" font-family=\"sans-serif\" font-size=\"14\" font-weight=\"bold\" lengthAdjust=\"spacingAndGlyphs\" textLength=\"214\" x=\"20\" y=\"20.9951\">TextualRepresentationTest</text></a><!--MD5=[b4997ac47864f28c2f74865a473b2911]\n",
       "class E2--><a href=\"psysml:2e771e59-55ab-4895-8e71-4691f1152b9b\" target=\"_top\" title=\"psysml:2e771e59-55ab-4895-8e71-4691f1152b9b\" xlink:actuate=\"onRequest\" xlink:href=\"psysml:2e771e59-55ab-4895-8e71-4691f1152b9b\" xlink:show=\"new\" xlink:title=\"psysml:2e771e59-55ab-4895-8e71-4691f1152b9b\" xlink:type=\"simple\"><rect fill=\"#FEFECE\" filter=\"url(#f1x3mqymxp60v5)\" height=\"45.9375\" id=\"E2\" style=\"stroke: #A80036; stroke-width: 1.5;\" width=\"100\" x=\"38\" y=\"167.5\"/><ellipse cx=\"53\" cy=\"186.4688\" fill=\"#0000FF\" rx=\"11\" ry=\"11\" style=\"stroke: #A80036; stroke-width: 1.0;\"/><path d=\"M53.8438,193.2188 L51.3906,193.2188 L51.3906,182.9688 L48.25,182.9688 L48.25,180.8281 L56.9844,180.8281 L56.9844,182.9688 L53.8438,182.9688 L53.8438,193.2188 Z \"/><text fill=\"#000000\" font-family=\"sans-serif\" font-size=\"12\" font-style=\"italic\" lengthAdjust=\"spacingAndGlyphs\" textLength=\"72\" x=\"65\" y=\"183.6387\">«dataType»</text><text fill=\"#000000\" font-family=\"sans-serif\" font-size=\"12\" lengthAdjust=\"spacingAndGlyphs\" textLength=\"27\" x=\"87.5\" y=\"197.6074\">Real</text><line style=\"stroke: #A80036; stroke-width: 1.5;\" x1=\"39\" x2=\"137\" y1=\"205.4375\" y2=\"205.4375\"/></a><!--MD5=[09b614a08d8cba4a07c9adeb5e0fee81]\n",
       "class E3--><a href=\"psysml:e4de1612-4570-4c3a-878c-e0dca14f25a7\" target=\"_top\" title=\"psysml:e4de1612-4570-4c3a-878c-e0dca14f25a7\" xlink:actuate=\"onRequest\" xlink:href=\"psysml:e4de1612-4570-4c3a-878c-e0dca14f25a7\" xlink:show=\"new\" xlink:title=\"psysml:e4de1612-4570-4c3a-878c-e0dca14f25a7\" xlink:type=\"simple\"><rect fill=\"#FEFECE\" filter=\"url(#f1x3mqymxp60v5)\" height=\"52.8047\" id=\"E3\" style=\"stroke: #A80036; stroke-width: 1.5;\" width=\"50\" x=\"173\" y=\"164\"/><ellipse cx=\"192.5\" cy=\"180\" fill=\"#008000\" rx=\"11\" ry=\"11\" style=\"stroke: #A80036; stroke-width: 1.0;\"/><path d=\"M191.4063,180.375 L191.4063,184.0469 L193.0313,184.0469 Q194.2031,184.0469 194.6719,183.6563 Q195.1406,183.25 195.1406,182.25 Q195.1406,181.25 194.6406,180.8125 Q194.1563,180.375 193.0313,180.375 L191.4063,180.375 Z M191.4063,175.5469 L191.4063,178.4219 L193.0313,178.4219 Q193.9531,178.4219 194.3438,178.0938 Q194.75,177.75 194.75,177 Q194.75,176.2344 194.3438,175.8906 Q193.9375,175.5469 193.0313,175.5469 L191.4063,175.5469 Z M189.0313,173.5938 L193.0313,173.5938 Q195.0938,173.5938 196.1406,174.375 Q197.1875,175.1563 197.1875,176.7188 Q197.1875,177.9219 196.5625,178.5938 Q195.9531,179.2656 194.7656,179.375 Q196.1875,179.5156 196.9063,180.3281 Q197.625,181.1406 197.625,182.5938 Q197.625,184.3906 196.5469,185.2031 Q195.4688,186 193.0313,186 L189.0313,186 L189.0313,173.5938 Z \"/><text fill=\"#000000\" font-family=\"sans-serif\" font-size=\"12\" lengthAdjust=\"spacingAndGlyphs\" textLength=\"8\" x=\"207.5\" y=\"184.1543\">C</text><line style=\"stroke: #A80036; stroke-width: 1.5;\" x1=\"174\" x2=\"222\" y1=\"196\" y2=\"196\"/><text fill=\"#000000\" font-family=\"sans-serif\" font-size=\"11\" lengthAdjust=\"spacingAndGlyphs\" textLength=\"38\" x=\"179\" y=\"210.2104\">x: Real</text></a><!--MD5=[ebbe1d658d1005bcc118a6aa81145e00]\n",
       "class E4--><a href=\"psysml:8c3cf46e-c423-4c70-a710-66f9a3632f6b\" target=\"_top\" title=\"psysml:8c3cf46e-c423-4c70-a710-66f9a3632f6b\" xlink:actuate=\"onRequest\" xlink:href=\"psysml:8c3cf46e-c423-4c70-a710-66f9a3632f6b\" xlink:show=\"new\" xlink:title=\"psysml:8c3cf46e-c423-4c70-a710-66f9a3632f6b\" xlink:type=\"simple\"><rect fill=\"#FEFECE\" filter=\"url(#f1x3mqymxp60v5)\" height=\"45.9375\" id=\"E4\" rx=\"10\" ry=\"10\" style=\"stroke: #A80036; stroke-width: 1.5;\" width=\"147\" x=\"75.5\" y=\"278\"/><ellipse cx=\"90.5\" cy=\"296.9688\" fill=\"#FFA500\" rx=\"11\" ry=\"11\" style=\"stroke: #A80036; stroke-width: 1.0;\"/><path d=\"M86.375,298.8906 L86.375,291.0781 L88.8281,291.0781 L88.8281,299.5156 Q88.8281,300.4375 89.2969,300.9688 Q89.7813,301.5 90.6094,301.5 Q91.4531,301.5 91.9219,300.9688 Q92.3906,300.4375 92.3906,299.5156 L92.3906,291.0781 L94.8438,291.0781 L94.8438,298.8906 Q94.8438,301.4219 93.8438,302.5625 Q92.8438,303.7031 90.6094,303.7031 Q88.3906,303.7031 87.375,302.5625 Q86.375,301.4219 86.375,298.8906 Z \"/><text fill=\"#000000\" font-family=\"sans-serif\" font-size=\"12\" font-style=\"italic\" lengthAdjust=\"spacingAndGlyphs\" textLength=\"119\" x=\"102.5\" y=\"294.1387\">«assertConstraint»</text><text fill=\"#000000\" font-family=\"sans-serif\" font-size=\"12\" lengthAdjust=\"spacingAndGlyphs\" textLength=\"76\" x=\"124\" y=\"308.1074\">x_constraint</text><line style=\"stroke: #A80036; stroke-width: 1.5;\" x1=\"76.5\" x2=\"221.5\" y1=\"315.9375\" y2=\"315.9375\"/></a><!--MD5=[270fce915f116d4de14055a7c1d9a0f3]\n",
       "class E5--><a href=\"psysml:7113fdf5-c3b3-43b5-a3fa-02abb845fbc2\" target=\"_top\" title=\"psysml:7113fdf5-c3b3-43b5-a3fa-02abb845fbc2\" xlink:actuate=\"onRequest\" xlink:href=\"psysml:7113fdf5-c3b3-43b5-a3fa-02abb845fbc2\" xlink:show=\"new\" xlink:title=\"psysml:7113fdf5-c3b3-43b5-a3fa-02abb845fbc2\" xlink:type=\"simple\"><rect fill=\"#FEFECE\" filter=\"url(#f1x3mqymxp60v5)\" height=\"45.9375\" id=\"E5\" style=\"stroke: #A80036; stroke-width: 1.5;\" width=\"105\" x=\"74.5\" y=\"41\"/><ellipse cx=\"89.5\" cy=\"59.9688\" fill=\"#FFFACD\" rx=\"11\" ry=\"11\" style=\"stroke: #A80036; stroke-width: 1.0;\"/><path d=\"M88.4063,60.3438 L88.4063,64.0156 L90.0313,64.0156 Q91.2031,64.0156 91.6719,63.625 Q92.1406,63.2188 92.1406,62.2188 Q92.1406,61.2188 91.6406,60.7813 Q91.1563,60.3438 90.0313,60.3438 L88.4063,60.3438 Z M88.4063,55.5156 L88.4063,58.3906 L90.0313,58.3906 Q90.9531,58.3906 91.3438,58.0625 Q91.75,57.7188 91.75,56.9688 Q91.75,56.2031 91.3438,55.8594 Q90.9375,55.5156 90.0313,55.5156 L88.4063,55.5156 Z M86.0313,53.5625 L90.0313,53.5625 Q92.0938,53.5625 93.1406,54.3438 Q94.1875,55.125 94.1875,56.6875 Q94.1875,57.8906 93.5625,58.5625 Q92.9531,59.2344 91.7656,59.3438 Q93.1875,59.4844 93.9063,60.2969 Q94.625,61.1094 94.625,62.5625 Q94.625,64.3594 93.5469,65.1719 Q92.4688,65.9688 90.0313,65.9688 L86.0313,65.9688 L86.0313,53.5625 Z \"/><text fill=\"#000000\" font-family=\"sans-serif\" font-size=\"12\" font-style=\"italic\" lengthAdjust=\"spacingAndGlyphs\" textLength=\"77\" x=\"101.5\" y=\"57.1387\">«action def»</text><text fill=\"#000000\" font-family=\"sans-serif\" font-size=\"12\" lengthAdjust=\"spacingAndGlyphs\" textLength=\"27\" x=\"126.5\" y=\"71.1074\">setX</text><line style=\"stroke: #A80036; stroke-width: 1.5;\" x1=\"75.5\" x2=\"178.5\" y1=\"78.9375\" y2=\"78.9375\"/></a><!--MD5=[4672eba38e49728da53d11aeb285b987]\n",
       "reverse link E3 to E4--><a href=\"psysml:53eca076-bd38-4ff8-88cd-ccaa057f7e59\" target=\"_top\" title=\"psysml:53eca076-bd38-4ff8-88cd-ccaa057f7e59\" xlink:actuate=\"onRequest\" xlink:href=\"psysml:53eca076-bd38-4ff8-88cd-ccaa057f7e59\" xlink:show=\"new\" xlink:title=\"psysml:53eca076-bd38-4ff8-88cd-ccaa057f7e59\" xlink:type=\"simple\"><path d=\"M181.02,229.09 C173.69,245.33 165.36,263.77 159.04,277.78 \" fill=\"none\" id=\"E3&lt;-E4\" style=\"stroke: #A80036; stroke-width: 1.0;\"/><polygon fill=\"#FFFFFF\" points=\"186.39,217.21,180.2765,221.0342,181.4552,228.1484,187.5687,224.3241,186.39,217.21\" style=\"stroke: #A80036; stroke-width: 1.0;\"/></a><!--MD5=[6f107eb264eda4b26325f39a5516f1f3]\n",
       "reverse link E5 to E3--><a href=\"psysml:34b277fa-246f-4890-8f8b-22f79f83c872\" target=\"_top\" title=\"psysml:34b277fa-246f-4890-8f8b-22f79f83c872\" xlink:actuate=\"onRequest\" xlink:href=\"psysml:34b277fa-246f-4890-8f8b-22f79f83c872\" xlink:show=\"new\" xlink:title=\"psysml:34b277fa-246f-4890-8f8b-22f79f83c872\" xlink:type=\"simple\"><path d=\"M146.15,98.58 C157.8,119.01 172.45,144.7 183.21,163.56 \" fill=\"none\" id=\"E5&lt;-E3\" style=\"stroke: #A80036; stroke-width: 1.0;\"/><polygon fill=\"#FFFFFF\" points=\"139.69,87.26,139.1801,94.4531,145.6238,97.6903,146.1336,90.4972,139.69,87.26\" style=\"stroke: #A80036; stroke-width: 1.0;\"/><text fill=\"#000000\" font-family=\"sans-serif\" font-size=\"13\" lengthAdjust=\"spacingAndGlyphs\" textLength=\"7\" x=\"165\" y=\"130.0669\">c</text></a><!--MD5=[f51c6d1f1856fe338ac0413483fb1ccf]\n",
       "reverse link E5 to E2--><a href=\"psysml:085fc47f-09d9-4ca0-b48d-81ba6e318ca7\" target=\"_top\" title=\"psysml:085fc47f-09d9-4ca0-b48d-81ba6e318ca7\" xlink:actuate=\"onRequest\" xlink:href=\"psysml:085fc47f-09d9-4ca0-b48d-81ba6e318ca7\" xlink:show=\"new\" xlink:title=\"psysml:085fc47f-09d9-4ca0-b48d-81ba6e318ca7\" xlink:type=\"simple\"><path d=\"M116.07,99.9 C109.28,121.56 100.77,148.73 94.91,167.43 \" fill=\"none\" id=\"E5&lt;-E2\" style=\"stroke: #A80036; stroke-width: 1.0;\"/><polygon fill=\"#FFFFFF\" points=\"120.03,87.26,114.4189,91.7894,116.4417,98.7109,122.0528,94.1816,120.03,87.26\" style=\"stroke: #A80036; stroke-width: 1.0;\"/><text fill=\"#000000\" font-family=\"sans-serif\" font-size=\"13\" lengthAdjust=\"spacingAndGlyphs\" textLength=\"33\" x=\"110\" y=\"130.0669\">newX</text></a><!--MD5=[57ca08b9d4f39a31403a73ac4766844d]\n",
       "@startuml\r\n",
       " \r\n",
       "package \"TextualRepresentationTest\" as E1  [[psysml:1e396b56-292d-4ed9-bbba-ca6bb661746c ]]  {\r\n",
       "comp def \"Real\" as E2  <<(T,blue) dataType>> [[psysml:2e771e59-55ab-4895-8e71-4691f1152b9b ]] {\r\n",
       "}\r\n",
       "comp def \"C\" as E3 << << (B,green) >> [[psysml:e4de1612-4570-4c3a-878c-e0dca14f25a7 ]] {\r\n",
       "x: Real\r\n",
       "}\r\n",
       "comp usage \"x_constraint\" as E4 << <<(U,orange) assertConstraint>> [[psysml:8c3cf46e-c423-4c70-a710-66f9a3632f6b ]] {\r\n",
       "}\r\n",
       "comp def \"setX\" as E5 << <<(B,lemonchiffon) action def>> [[psysml:7113fdf5-c3b3-43b5-a3fa-02abb845fbc2 ]] {\r\n",
       "}\r\n",
       "E3 o- - E4 [[psysml:53eca076-bd38-4ff8-88cd-ccaa057f7e59 ]] \r\n",
       "E5 o- - E3 [[psysml:34b277fa-246f-4890-8f8b-22f79f83c872 ]] : c\r\n",
       "E5 o- - E2 [[psysml:085fc47f-09d9-4ca0-b48d-81ba6e318ca7 ]] : newX\r\n",
       "}\r\n",
       "@enduml\r\n",
       "\n",
       "PlantUML version 1.2020.13(Sat Jun 13 12:26:38 UTC 2020)\n",
       "(EPL source distribution)\n",
       "Java Runtime: OpenJDK Runtime Environment\n",
       "JVM: OpenJDK 64-Bit Server VM\n",
       "Default Encoding: UTF-8\n",
       "Language: en\n",
       "Country: null\n",
       "--></g></svg>"
      ]
     },
     "execution_count": 31,
     "metadata": {},
     "output_type": "execute_result"
    }
   ],
   "source": [
    "%viz --style=\"PLANTUML\" --view=\"Tree\" \"TextualRepresentationTest\""
   ]
  },
  {
   "cell_type": "code",
   "execution_count": 32,
   "id": "7b447962",
   "metadata": {
    "execution": {
     "iopub.execute_input": "2021-06-30T09:21:18.480473Z",
     "iopub.status.busy": "2021-06-30T09:21:18.479816Z",
     "iopub.status.idle": "2021-06-30T09:21:18.593812Z",
     "shell.execute_reply": "2021-06-30T09:21:18.593311Z"
    }
   },
   "outputs": [
    {
     "data": {
      "image/svg+xml": [
       "<?xml version=\"1.0\" encoding=\"UTF-8\" standalone=\"no\"?><svg xmlns=\"http://www.w3.org/2000/svg\" xmlns:xlink=\"http://www.w3.org/1999/xlink\" contentScriptType=\"application/ecmascript\" contentStyleType=\"text/css\" height=\"303px\" preserveAspectRatio=\"none\" style=\"width:603px;height:303px;background:#000000;\" version=\"1.1\" viewBox=\"0 0 603 303\" width=\"603px\" zoomAndPan=\"magnify\"><defs/><g><rect fill=\"#1E1122\" height=\"1\" style=\"stroke: #1E1122; stroke-width: 1.0;\" width=\"1\" x=\"0\" y=\"0\"/><rect fill=\"#FFFFFF\" height=\"205.5625\" style=\"stroke: #FFFFFF; stroke-width: 1.0;\" width=\"602\" x=\"0\" y=\"0\"/><text fill=\"#000000\" font-family=\"sans-serif\" font-size=\"12\" font-weight=\"bold\" lengthAdjust=\"spacingAndGlyphs\" textLength=\"159\" x=\"5\" y=\"16.1387\">Welcome to PlantUML!</text><text fill=\"#000000\" font-family=\"sans-serif\" font-size=\"12\" lengthAdjust=\"spacingAndGlyphs\" textLength=\"0\" x=\"9\" y=\"30.1074\"/><text fill=\"#000000\" font-family=\"sans-serif\" font-size=\"12\" lengthAdjust=\"spacingAndGlyphs\" textLength=\"293\" x=\"5\" y=\"44.0762\">If you use this software, you accept its license.</text><text fill=\"#000000\" font-family=\"sans-serif\" font-size=\"12\" lengthAdjust=\"spacingAndGlyphs\" textLength=\"107\" x=\"5\" y=\"58.0449\">(details by typing</text><text fill=\"#000000\" font-family=\"monospace\" font-size=\"12\" lengthAdjust=\"spacingAndGlyphs\" textLength=\"49\" x=\"116\" y=\"58.0449\">license</text><text fill=\"#000000\" font-family=\"sans-serif\" font-size=\"12\" lengthAdjust=\"spacingAndGlyphs\" textLength=\"56\" x=\"169\" y=\"58.0449\">keyword)</text><text fill=\"#000000\" font-family=\"sans-serif\" font-size=\"12\" lengthAdjust=\"spacingAndGlyphs\" textLength=\"0\" x=\"9\" y=\"72.0137\"/><text fill=\"#000000\" font-family=\"sans-serif\" font-size=\"12\" lengthAdjust=\"spacingAndGlyphs\" textLength=\"283\" x=\"5\" y=\"85.9824\">You can start with a simple UML Diagram like:</text><text fill=\"#000000\" font-family=\"sans-serif\" font-size=\"12\" lengthAdjust=\"spacingAndGlyphs\" textLength=\"0\" x=\"9\" y=\"99.9512\"/><text fill=\"#000000\" font-family=\"monospace\" font-size=\"12\" lengthAdjust=\"spacingAndGlyphs\" textLength=\"119\" x=\"5\" y=\"113.9199\">Bob-&gt;Alice: Hello</text><text fill=\"#000000\" font-family=\"sans-serif\" font-size=\"12\" lengthAdjust=\"spacingAndGlyphs\" textLength=\"0\" x=\"9\" y=\"127.8887\"/><text fill=\"#000000\" font-family=\"sans-serif\" font-size=\"12\" lengthAdjust=\"spacingAndGlyphs\" textLength=\"14\" x=\"5\" y=\"141.8574\">Or</text><text fill=\"#000000\" font-family=\"sans-serif\" font-size=\"12\" lengthAdjust=\"spacingAndGlyphs\" textLength=\"0\" x=\"9\" y=\"155.8262\"/><text fill=\"#000000\" font-family=\"monospace\" font-size=\"12\" lengthAdjust=\"spacingAndGlyphs\" textLength=\"91\" x=\"5\" y=\"169.7949\">class Example</text><text fill=\"#000000\" font-family=\"sans-serif\" font-size=\"12\" lengthAdjust=\"spacingAndGlyphs\" textLength=\"0\" x=\"9\" y=\"183.7637\"/><text fill=\"#000000\" font-family=\"sans-serif\" font-size=\"12\" lengthAdjust=\"spacingAndGlyphs\" textLength=\"349\" x=\"5\" y=\"197.7324\">You will find more information about PlantUML syntax on</text><text fill=\"#000000\" font-family=\"sans-serif\" font-size=\"12\" lengthAdjust=\"spacingAndGlyphs\" text-decoration=\"underline\" textLength=\"129\" x=\"358\" y=\"197.7324\">https://plantuml.com</text><image height=\"71\" width=\"80\" x=\"516\" xlink:href=\"data:image/png;base64,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\" y=\"6\"/><rect fill=\"#000000\" height=\"96.4844\" style=\"stroke: #000000; stroke-width: 1.0;\" width=\"602\" x=\"0\" y=\"205.5625\"/><rect fill=\"#33FF02\" height=\"21.2969\" style=\"stroke: #33FF02; stroke-width: 1.0;\" width=\"170\" x=\"5\" y=\"210.5625\"/><text fill=\"#000000\" font-family=\"sans-serif\" font-size=\"14\" font-weight=\"bold\" lengthAdjust=\"spacingAndGlyphs\" textLength=\"168\" x=\"6\" y=\"225.5625\">[From string (line 2) ]</text><text fill=\"#33FF02\" font-family=\"sans-serif\" font-size=\"14\" font-weight=\"bold\" lengthAdjust=\"spacingAndGlyphs\" textLength=\"0\" x=\"10\" y=\"245.8594\"/><text fill=\"#33FF02\" font-family=\"sans-serif\" font-size=\"14\" font-weight=\"bold\" lengthAdjust=\"spacingAndGlyphs\" textLength=\"79\" x=\"5\" y=\"262.1563\">@startuml</text><text fill=\"#33FF02\" font-family=\"sans-serif\" font-size=\"14\" font-weight=\"bold\" lengthAdjust=\"spacingAndGlyphs\" textLength=\"0\" x=\"10\" y=\"278.4531\"/><text fill=\"#FF0000\" font-family=\"sans-serif\" font-size=\"14\" font-weight=\"bold\" lengthAdjust=\"spacingAndGlyphs\" textLength=\"142\" x=\"10\" y=\"294.75\">Empty description</text><!--MD5=[f59edd8218d337f74d0c332fc6737304]\n",
       "@startuml\r\n",
       " \r\n",
       "@enduml\r\n",
       "\n",
       "PlantUML version 1.2020.13(Sat Jun 13 12:26:38 UTC 2020)\n",
       "(EPL source distribution)\n",
       "Java Runtime: OpenJDK Runtime Environment\n",
       "JVM: OpenJDK 64-Bit Server VM\n",
       "Default Encoding: UTF-8\n",
       "Language: en\n",
       "Country: null\n",
       "--></g></svg>"
      ]
     },
     "execution_count": 32,
     "metadata": {},
     "output_type": "execute_result"
    }
   ],
   "source": [
    "%viz --style=\"PLANTUML\" --view=\"State\" \"TextualRepresentationTest\""
   ]
  },
  {
   "cell_type": "code",
   "execution_count": 33,
   "id": "ac5d871a",
   "metadata": {
    "execution": {
     "iopub.execute_input": "2021-06-30T09:21:18.645051Z",
     "iopub.status.busy": "2021-06-30T09:21:18.644520Z",
     "iopub.status.idle": "2021-06-30T09:21:18.681695Z",
     "shell.execute_reply": "2021-06-30T09:21:18.681304Z"
    }
   },
   "outputs": [
    {
     "data": {
      "image/svg+xml": [
       "<?xml version=\"1.0\" encoding=\"UTF-8\" standalone=\"no\"?><svg xmlns=\"http://www.w3.org/2000/svg\" xmlns:xlink=\"http://www.w3.org/1999/xlink\" contentScriptType=\"application/ecmascript\" contentStyleType=\"text/css\" height=\"179px\" preserveAspectRatio=\"none\" style=\"width:403px;height:179px;\" version=\"1.1\" viewBox=\"0 0 403 179\" width=\"403px\" zoomAndPan=\"magnify\"><defs><filter height=\"300%\" id=\"f1uvwbnadnvats\" width=\"300%\" x=\"-1\" y=\"-1\"><feGaussianBlur result=\"blurOut\" stdDeviation=\"2.0\"/><feColorMatrix in=\"blurOut\" result=\"blurOut2\" type=\"matrix\" values=\"0 0 0 0 0 0 0 0 0 0 0 0 0 0 0 0 0 0 .4 0\"/><feOffset dx=\"4.0\" dy=\"4.0\" in=\"blurOut2\" result=\"blurOut3\"/><feBlend in=\"SourceGraphic\" in2=\"blurOut3\" mode=\"normal\"/></filter></defs><g><!--MD5=[fbc87193dbaf4d95561dea2c320d4a47]\n",
       "cluster E1--><a href=\"psysml:1e396b56-292d-4ed9-bbba-ca6bb661746c\" target=\"_top\" title=\"psysml:1e396b56-292d-4ed9-bbba-ca6bb661746c\" xlink:actuate=\"onRequest\" xlink:href=\"psysml:1e396b56-292d-4ed9-bbba-ca6bb661746c\" xlink:show=\"new\" xlink:title=\"psysml:1e396b56-292d-4ed9-bbba-ca6bb661746c\" xlink:type=\"simple\"><polygon fill=\"#FFFFFF\" filter=\"url(#f1uvwbnadnvats)\" points=\"16,6,236,6,243,28.2969,381,28.2969,381,167,16,167,16,6\" style=\"stroke: #000000; stroke-width: 1.5;\"/><line style=\"stroke: #000000; stroke-width: 1.5;\" x1=\"16\" x2=\"243\" y1=\"28.2969\" y2=\"28.2969\"/><text fill=\"#000000\" font-family=\"sans-serif\" font-size=\"14\" font-weight=\"bold\" lengthAdjust=\"spacingAndGlyphs\" textLength=\"214\" x=\"20\" y=\"20.9951\">TextualRepresentationTest</text></a><!--MD5=[f6df4d0ebaf0b5dfb2ced0ae5af7c670]\n",
       "cluster E4--><a href=\"psysml:7113fdf5-c3b3-43b5-a3fa-02abb845fbc2\" target=\"_top\" title=\"psysml:7113fdf5-c3b3-43b5-a3fa-02abb845fbc2\" xlink:actuate=\"onRequest\" xlink:href=\"psysml:7113fdf5-c3b3-43b5-a3fa-02abb845fbc2\" xlink:show=\"new\" xlink:title=\"psysml:7113fdf5-c3b3-43b5-a3fa-02abb845fbc2\" xlink:type=\"simple\"><rect fill=\"#FFFFFF\" filter=\"url(#f1uvwbnadnvats)\" height=\"88.5\" id=\"E4\" style=\"stroke: #A80036; stroke-width: 1.5;\" width=\"96\" x=\"239.5\" y=\"62.5\"/><rect fill=\"#FEFECE\" height=\"37.9375\" style=\"stroke: #A80036; stroke-width: 1.5;\" width=\"96\" x=\"239.5\" y=\"62.5\"/><text fill=\"#000000\" font-family=\"sans-serif\" font-size=\"12\" font-style=\"italic\" lengthAdjust=\"spacingAndGlyphs\" textLength=\"77\" x=\"249\" y=\"78.6387\">«action def»</text><text fill=\"#000000\" font-family=\"sans-serif\" font-size=\"12\" lengthAdjust=\"spacingAndGlyphs\" textLength=\"27\" x=\"274\" y=\"92.6074\">setX</text></a><g id=\"E1.E2\"><a href=\"psysml:2e771e59-55ab-4895-8e71-4691f1152b9b\" target=\"_top\" title=\"psysml:2e771e59-55ab-4895-8e71-4691f1152b9b\" xlink:actuate=\"onRequest\" xlink:href=\"psysml:2e771e59-55ab-4895-8e71-4691f1152b9b\" xlink:show=\"new\" xlink:title=\"psysml:2e771e59-55ab-4895-8e71-4691f1152b9b\" xlink:type=\"simple\"><rect fill=\"#FEFECE\" filter=\"url(#f1uvwbnadnvats)\" height=\"42.9375\" id=\"E2\" style=\"stroke: #A80036; stroke-width: 1.5;\" width=\"105\" x=\"117.5\" y=\"41\"/><ellipse cx=\"134.75\" cy=\"59.9688\" fill=\"#0000FF\" rx=\"11\" ry=\"11\" style=\"stroke: #A80036; stroke-width: 1.0;\"/><path d=\"M135.5938,66.7188 L133.1406,66.7188 L133.1406,56.4688 L130,56.4688 L130,54.3281 L138.7344,54.3281 L138.7344,56.4688 L135.5938,56.4688 L135.5938,66.7188 Z \"/><text fill=\"#000000\" font-family=\"sans-serif\" font-size=\"12\" font-style=\"italic\" lengthAdjust=\"spacingAndGlyphs\" textLength=\"72\" x=\"147.25\" y=\"57.1387\">«dataType»</text><text fill=\"#000000\" font-family=\"sans-serif\" font-size=\"12\" lengthAdjust=\"spacingAndGlyphs\" textLength=\"27\" x=\"169.75\" y=\"71.1074\">Real</text></a></g><g id=\"E1.E3\"><a href=\"psysml:e4de1612-4570-4c3a-878c-e0dca14f25a7\" target=\"_top\" title=\"psysml:e4de1612-4570-4c3a-878c-e0dca14f25a7\" xlink:actuate=\"onRequest\" xlink:href=\"psysml:e4de1612-4570-4c3a-878c-e0dca14f25a7\" xlink:show=\"new\" xlink:title=\"psysml:e4de1612-4570-4c3a-878c-e0dca14f25a7\" xlink:type=\"simple\"><rect fill=\"#FEFECE\" filter=\"url(#f1uvwbnadnvats)\" height=\"40\" id=\"E3\" style=\"stroke: #A80036; stroke-width: 1.5;\" width=\"50\" x=\"32\" y=\"42.5\"/><ellipse cx=\"51.5\" cy=\"58.5\" fill=\"#008000\" rx=\"11\" ry=\"11\" style=\"stroke: #A80036; stroke-width: 1.0;\"/><path d=\"M50.4063,58.875 L50.4063,62.5469 L52.0313,62.5469 Q53.2031,62.5469 53.6719,62.1563 Q54.1406,61.75 54.1406,60.75 Q54.1406,59.75 53.6406,59.3125 Q53.1563,58.875 52.0313,58.875 L50.4063,58.875 Z M50.4063,54.0469 L50.4063,56.9219 L52.0313,56.9219 Q52.9531,56.9219 53.3438,56.5938 Q53.75,56.25 53.75,55.5 Q53.75,54.7344 53.3438,54.3906 Q52.9375,54.0469 52.0313,54.0469 L50.4063,54.0469 Z M48.0313,52.0938 L52.0313,52.0938 Q54.0938,52.0938 55.1406,52.875 Q56.1875,53.6563 56.1875,55.2188 Q56.1875,56.4219 55.5625,57.0938 Q54.9531,57.7656 53.7656,57.875 Q55.1875,58.0156 55.9063,58.8281 Q56.625,59.6406 56.625,61.0938 Q56.625,62.8906 55.5469,63.7031 Q54.4688,64.5 52.0313,64.5 L48.0313,64.5 L48.0313,52.0938 Z \"/><text fill=\"#000000\" font-family=\"sans-serif\" font-size=\"12\" lengthAdjust=\"spacingAndGlyphs\" textLength=\"8\" x=\"66.5\" y=\"62.6543\">C</text></a></g><text fill=\"#000000\" font-family=\"sans-serif\" font-size=\"14\" lengthAdjust=\"spacingAndGlyphs\" textLength=\"8\" x=\"260\" y=\"41.1982\">c</text><rect fill=\"#A80036\" height=\"12\" style=\"stroke: #FEFECE; stroke-width: 1.5;\" width=\"12\" x=\"258\" y=\"56.5\"/><text fill=\"#000000\" font-family=\"sans-serif\" font-size=\"14\" lengthAdjust=\"spacingAndGlyphs\" textLength=\"38\" x=\"292\" y=\"41.1982\">newX</text><rect fill=\"#A80036\" height=\"12\" style=\"stroke: #FEFECE; stroke-width: 1.5;\" width=\"12\" x=\"305\" y=\"56.5\"/><!--MD5=[43769c7ae7af139d39a95432e4e93a10]\n",
       "@startuml\r\n",
       "skinparam ranksep 10\r\n",
       "skinparam rectangle {\r\n",
       " backgroundColor<<block>> LightGreen\r\n",
       "}\r\n",
       " \r\n",
       "package \"TextualRepresentationTest\" as E1  [[psysml:1e396b56-292d-4ed9-bbba-ca6bb661746c ]]  {\r\n",
       "def \"Real\" as E2  <<(T,blue) dataType>> [[psysml:2e771e59-55ab-4895-8e71-4691f1152b9b ]] \r\n",
       "def \"C\" as E3 << << (B,green) >> [[psysml:e4de1612-4570-4c3a-878c-e0dca14f25a7 ]] \r\n",
       "rec def \"setX\" as E4 << <<(B,lemonchiffon) action def>> [[psysml:7113fdf5-c3b3-43b5-a3fa-02abb845fbc2 ]] {\r\n",
       "portin \"c\" as E5  [[psysml:34b277fa-246f-4890-8f8b-22f79f83c872 ]] \r\n",
       "portin \"newX\" as E6  [[psysml:085fc47f-09d9-4ca0-b48d-81ba6e318ca7 ]] \r\n",
       "}\r\n",
       "\r\n",
       "}\r\n",
       "@enduml\r\n",
       "\n",
       "PlantUML version 1.2020.13(Sat Jun 13 12:26:38 UTC 2020)\n",
       "(EPL source distribution)\n",
       "Java Runtime: OpenJDK Runtime Environment\n",
       "JVM: OpenJDK 64-Bit Server VM\n",
       "Default Encoding: UTF-8\n",
       "Language: en\n",
       "Country: null\n",
       "--></g></svg>"
      ]
     },
     "execution_count": 33,
     "metadata": {},
     "output_type": "execute_result"
    }
   ],
   "source": [
    "%viz --style=\"PLANTUML\" --view=\"Interconnection\" \"TextualRepresentationTest\""
   ]
  },
  {
   "cell_type": "code",
   "execution_count": 34,
   "id": "440657b7",
   "metadata": {
    "execution": {
     "iopub.execute_input": "2021-06-30T09:21:18.732375Z",
     "iopub.status.busy": "2021-06-30T09:21:18.731799Z",
     "iopub.status.idle": "2021-06-30T09:21:18.761268Z",
     "shell.execute_reply": "2021-06-30T09:21:18.760844Z"
    }
   },
   "outputs": [
    {
     "data": {
      "image/svg+xml": [
       "<?xml version=\"1.0\" encoding=\"UTF-8\" standalone=\"no\"?><svg xmlns=\"http://www.w3.org/2000/svg\" xmlns:xlink=\"http://www.w3.org/1999/xlink\" contentScriptType=\"application/ecmascript\" contentStyleType=\"text/css\" height=\"134px\" preserveAspectRatio=\"none\" style=\"width:158px;height:134px;\" version=\"1.1\" viewBox=\"0 0 158 134\" width=\"158px\" zoomAndPan=\"magnify\"><defs><filter height=\"300%\" id=\"f1bdxddoz69k9j\" width=\"300%\" x=\"-1\" y=\"-1\"><feGaussianBlur result=\"blurOut\" stdDeviation=\"2.0\"/><feColorMatrix in=\"blurOut\" result=\"blurOut2\" type=\"matrix\" values=\"0 0 0 0 0 0 0 0 0 0 0 0 0 0 0 0 0 0 .4 0\"/><feOffset dx=\"4.0\" dy=\"4.0\" in=\"blurOut2\" result=\"blurOut3\"/><feBlend in=\"SourceGraphic\" in2=\"blurOut3\" mode=\"normal\"/></filter></defs><g><!--MD5=[fbc87193dbaf4d95561dea2c320d4a47]\n",
       "cluster E1--><a href=\"psysml:7113fdf5-c3b3-43b5-a3fa-02abb845fbc2\" target=\"_top\" title=\"psysml:7113fdf5-c3b3-43b5-a3fa-02abb845fbc2\" xlink:actuate=\"onRequest\" xlink:href=\"psysml:7113fdf5-c3b3-43b5-a3fa-02abb845fbc2\" xlink:show=\"new\" xlink:title=\"psysml:7113fdf5-c3b3-43b5-a3fa-02abb845fbc2\" xlink:type=\"simple\"><rect fill=\"#FFFFFF\" filter=\"url(#f1bdxddoz69k9j)\" height=\"73\" id=\"E1\" style=\"stroke: #A80036; stroke-width: 1.5;\" width=\"132\" x=\"7\" y=\"42.0986\"/><rect fill=\"#FEFECE\" height=\"37.9375\" style=\"stroke: #A80036; stroke-width: 1.5;\" width=\"132\" x=\"7\" y=\"42.0986\"/><text fill=\"#000000\" font-family=\"sans-serif\" font-size=\"12\" font-style=\"italic\" lengthAdjust=\"spacingAndGlyphs\" textLength=\"77\" x=\"34.5\" y=\"58.2373\">«action def»</text><text fill=\"#000000\" font-family=\"sans-serif\" font-size=\"12\" lengthAdjust=\"spacingAndGlyphs\" textLength=\"27\" x=\"59.5\" y=\"72.2061\">setX</text></a><text fill=\"#000000\" font-family=\"sans-serif\" font-size=\"14\" lengthAdjust=\"spacingAndGlyphs\" textLength=\"8\" x=\"21\" y=\"20.7969\">c</text><rect fill=\"#A80036\" height=\"12\" style=\"stroke: #FEFECE; stroke-width: 1.5;\" width=\"12\" x=\"19\" y=\"36.0986\"/><text fill=\"#000000\" font-family=\"sans-serif\" font-size=\"14\" lengthAdjust=\"spacingAndGlyphs\" textLength=\"38\" x=\"53\" y=\"20.7969\">newX</text><rect fill=\"#A80036\" height=\"12\" style=\"stroke: #FEFECE; stroke-width: 1.5;\" width=\"12\" x=\"66\" y=\"36.0986\"/><!--MD5=[6c7e65365795b4c8f3092d62b83087f8]\n",
       "@startuml\r\n",
       "skinparam ranksep 8\r\n",
       " \r\n",
       "rec def \"setX\" as E1 << <<(B,lemonchiffon) action def>> [[psysml:7113fdf5-c3b3-43b5-a3fa-02abb845fbc2 ]] {\r\n",
       "portin \"c\" as E2  [[psysml:34b277fa-246f-4890-8f8b-22f79f83c872 ]] \r\n",
       "portin \"newX\" as E3  [[psysml:085fc47f-09d9-4ca0-b48d-81ba6e318ca7 ]] \r\n",
       "}\r\n",
       "\r\n",
       "@enduml\r\n",
       "\n",
       "PlantUML version 1.2020.13(Sat Jun 13 12:26:38 UTC 2020)\n",
       "(EPL source distribution)\n",
       "Java Runtime: OpenJDK Runtime Environment\n",
       "JVM: OpenJDK 64-Bit Server VM\n",
       "Default Encoding: UTF-8\n",
       "Language: en\n",
       "Country: null\n",
       "--></g></svg>"
      ]
     },
     "execution_count": 34,
     "metadata": {},
     "output_type": "execute_result"
    }
   ],
   "source": [
    "%viz --style=\"PLANTUML\" --view=\"Action\" \"TextualRepresentationTest\""
   ]
  },
  {
   "cell_type": "code",
   "execution_count": 35,
   "id": "60d21a98",
   "metadata": {
    "execution": {
     "iopub.execute_input": "2021-06-30T09:21:18.812858Z",
     "iopub.status.busy": "2021-06-30T09:21:18.811864Z",
     "iopub.status.idle": "2021-06-30T09:21:18.854289Z",
     "shell.execute_reply": "2021-06-30T09:21:18.854612Z"
    }
   },
   "outputs": [
    {
     "data": {
      "image/svg+xml": [
       "<?xml version=\"1.0\" encoding=\"UTF-8\" standalone=\"no\"?><svg xmlns=\"http://www.w3.org/2000/svg\" xmlns:xlink=\"http://www.w3.org/1999/xlink\" contentScriptType=\"application/ecmascript\" contentStyleType=\"text/css\" height=\"352px\" preserveAspectRatio=\"none\" style=\"width:268px;height:352px;\" version=\"1.1\" viewBox=\"0 0 268 352\" width=\"268px\" zoomAndPan=\"magnify\"><defs><filter height=\"300%\" id=\"f1x3mqymxp60v5\" width=\"300%\" x=\"-1\" y=\"-1\"><feGaussianBlur result=\"blurOut\" stdDeviation=\"2.0\"/><feColorMatrix in=\"blurOut\" result=\"blurOut2\" type=\"matrix\" values=\"0 0 0 0 0 0 0 0 0 0 0 0 0 0 0 0 0 0 .4 0\"/><feOffset dx=\"4.0\" dy=\"4.0\" in=\"blurOut2\" result=\"blurOut3\"/><feBlend in=\"SourceGraphic\" in2=\"blurOut3\" mode=\"normal\"/></filter></defs><g><!--MD5=[fbc87193dbaf4d95561dea2c320d4a47]\n",
       "cluster E1--><a href=\"psysml:1e396b56-292d-4ed9-bbba-ca6bb661746c\" target=\"_top\" title=\"psysml:1e396b56-292d-4ed9-bbba-ca6bb661746c\" xlink:actuate=\"onRequest\" xlink:href=\"psysml:1e396b56-292d-4ed9-bbba-ca6bb661746c\" xlink:show=\"new\" xlink:title=\"psysml:1e396b56-292d-4ed9-bbba-ca6bb661746c\" xlink:type=\"simple\"><polygon fill=\"#FFFFFF\" filter=\"url(#f1x3mqymxp60v5)\" points=\"16,6,236,6,243,28.2969,246,28.2969,246,340,16,340,16,6\" style=\"stroke: #000000; stroke-width: 1.5;\"/><line style=\"stroke: #000000; stroke-width: 1.5;\" x1=\"16\" x2=\"243\" y1=\"28.2969\" y2=\"28.2969\"/><text fill=\"#000000\" font-family=\"sans-serif\" font-size=\"14\" font-weight=\"bold\" lengthAdjust=\"spacingAndGlyphs\" textLength=\"214\" x=\"20\" y=\"20.9951\">TextualRepresentationTest</text></a><!--MD5=[b4997ac47864f28c2f74865a473b2911]\n",
       "class E2--><a href=\"psysml:2e771e59-55ab-4895-8e71-4691f1152b9b\" target=\"_top\" title=\"psysml:2e771e59-55ab-4895-8e71-4691f1152b9b\" xlink:actuate=\"onRequest\" xlink:href=\"psysml:2e771e59-55ab-4895-8e71-4691f1152b9b\" xlink:show=\"new\" xlink:title=\"psysml:2e771e59-55ab-4895-8e71-4691f1152b9b\" xlink:type=\"simple\"><rect fill=\"#FEFECE\" filter=\"url(#f1x3mqymxp60v5)\" height=\"45.9375\" id=\"E2\" style=\"stroke: #A80036; stroke-width: 1.5;\" width=\"100\" x=\"38\" y=\"167.5\"/><ellipse cx=\"53\" cy=\"186.4688\" fill=\"#0000FF\" rx=\"11\" ry=\"11\" style=\"stroke: #A80036; stroke-width: 1.0;\"/><path d=\"M53.8438,193.2188 L51.3906,193.2188 L51.3906,182.9688 L48.25,182.9688 L48.25,180.8281 L56.9844,180.8281 L56.9844,182.9688 L53.8438,182.9688 L53.8438,193.2188 Z \"/><text fill=\"#000000\" font-family=\"sans-serif\" font-size=\"12\" font-style=\"italic\" lengthAdjust=\"spacingAndGlyphs\" textLength=\"72\" x=\"65\" y=\"183.6387\">«dataType»</text><text fill=\"#000000\" font-family=\"sans-serif\" font-size=\"12\" lengthAdjust=\"spacingAndGlyphs\" textLength=\"27\" x=\"87.5\" y=\"197.6074\">Real</text><line style=\"stroke: #A80036; stroke-width: 1.5;\" x1=\"39\" x2=\"137\" y1=\"205.4375\" y2=\"205.4375\"/></a><!--MD5=[09b614a08d8cba4a07c9adeb5e0fee81]\n",
       "class E3--><a href=\"psysml:e4de1612-4570-4c3a-878c-e0dca14f25a7\" target=\"_top\" title=\"psysml:e4de1612-4570-4c3a-878c-e0dca14f25a7\" xlink:actuate=\"onRequest\" xlink:href=\"psysml:e4de1612-4570-4c3a-878c-e0dca14f25a7\" xlink:show=\"new\" xlink:title=\"psysml:e4de1612-4570-4c3a-878c-e0dca14f25a7\" xlink:type=\"simple\"><rect fill=\"#FEFECE\" filter=\"url(#f1x3mqymxp60v5)\" height=\"52.8047\" id=\"E3\" style=\"stroke: #A80036; stroke-width: 1.5;\" width=\"50\" x=\"173\" y=\"164\"/><ellipse cx=\"192.5\" cy=\"180\" fill=\"#008000\" rx=\"11\" ry=\"11\" style=\"stroke: #A80036; stroke-width: 1.0;\"/><path d=\"M191.4063,180.375 L191.4063,184.0469 L193.0313,184.0469 Q194.2031,184.0469 194.6719,183.6563 Q195.1406,183.25 195.1406,182.25 Q195.1406,181.25 194.6406,180.8125 Q194.1563,180.375 193.0313,180.375 L191.4063,180.375 Z M191.4063,175.5469 L191.4063,178.4219 L193.0313,178.4219 Q193.9531,178.4219 194.3438,178.0938 Q194.75,177.75 194.75,177 Q194.75,176.2344 194.3438,175.8906 Q193.9375,175.5469 193.0313,175.5469 L191.4063,175.5469 Z M189.0313,173.5938 L193.0313,173.5938 Q195.0938,173.5938 196.1406,174.375 Q197.1875,175.1563 197.1875,176.7188 Q197.1875,177.9219 196.5625,178.5938 Q195.9531,179.2656 194.7656,179.375 Q196.1875,179.5156 196.9063,180.3281 Q197.625,181.1406 197.625,182.5938 Q197.625,184.3906 196.5469,185.2031 Q195.4688,186 193.0313,186 L189.0313,186 L189.0313,173.5938 Z \"/><text fill=\"#000000\" font-family=\"sans-serif\" font-size=\"12\" lengthAdjust=\"spacingAndGlyphs\" textLength=\"8\" x=\"207.5\" y=\"184.1543\">C</text><line style=\"stroke: #A80036; stroke-width: 1.5;\" x1=\"174\" x2=\"222\" y1=\"196\" y2=\"196\"/><text fill=\"#000000\" font-family=\"sans-serif\" font-size=\"11\" lengthAdjust=\"spacingAndGlyphs\" textLength=\"38\" x=\"179\" y=\"210.2104\">x: Real</text></a><!--MD5=[ebbe1d658d1005bcc118a6aa81145e00]\n",
       "class E4--><a href=\"psysml:8c3cf46e-c423-4c70-a710-66f9a3632f6b\" target=\"_top\" title=\"psysml:8c3cf46e-c423-4c70-a710-66f9a3632f6b\" xlink:actuate=\"onRequest\" xlink:href=\"psysml:8c3cf46e-c423-4c70-a710-66f9a3632f6b\" xlink:show=\"new\" xlink:title=\"psysml:8c3cf46e-c423-4c70-a710-66f9a3632f6b\" xlink:type=\"simple\"><rect fill=\"#FEFECE\" filter=\"url(#f1x3mqymxp60v5)\" height=\"45.9375\" id=\"E4\" rx=\"10\" ry=\"10\" style=\"stroke: #A80036; stroke-width: 1.5;\" width=\"147\" x=\"75.5\" y=\"278\"/><ellipse cx=\"90.5\" cy=\"296.9688\" fill=\"#FFA500\" rx=\"11\" ry=\"11\" style=\"stroke: #A80036; stroke-width: 1.0;\"/><path d=\"M86.375,298.8906 L86.375,291.0781 L88.8281,291.0781 L88.8281,299.5156 Q88.8281,300.4375 89.2969,300.9688 Q89.7813,301.5 90.6094,301.5 Q91.4531,301.5 91.9219,300.9688 Q92.3906,300.4375 92.3906,299.5156 L92.3906,291.0781 L94.8438,291.0781 L94.8438,298.8906 Q94.8438,301.4219 93.8438,302.5625 Q92.8438,303.7031 90.6094,303.7031 Q88.3906,303.7031 87.375,302.5625 Q86.375,301.4219 86.375,298.8906 Z \"/><text fill=\"#000000\" font-family=\"sans-serif\" font-size=\"12\" font-style=\"italic\" lengthAdjust=\"spacingAndGlyphs\" textLength=\"119\" x=\"102.5\" y=\"294.1387\">«assertConstraint»</text><text fill=\"#000000\" font-family=\"sans-serif\" font-size=\"12\" lengthAdjust=\"spacingAndGlyphs\" textLength=\"76\" x=\"124\" y=\"308.1074\">x_constraint</text><line style=\"stroke: #A80036; stroke-width: 1.5;\" x1=\"76.5\" x2=\"221.5\" y1=\"315.9375\" y2=\"315.9375\"/></a><!--MD5=[270fce915f116d4de14055a7c1d9a0f3]\n",
       "class E5--><a href=\"psysml:7113fdf5-c3b3-43b5-a3fa-02abb845fbc2\" target=\"_top\" title=\"psysml:7113fdf5-c3b3-43b5-a3fa-02abb845fbc2\" xlink:actuate=\"onRequest\" xlink:href=\"psysml:7113fdf5-c3b3-43b5-a3fa-02abb845fbc2\" xlink:show=\"new\" xlink:title=\"psysml:7113fdf5-c3b3-43b5-a3fa-02abb845fbc2\" xlink:type=\"simple\"><rect fill=\"#FEFECE\" filter=\"url(#f1x3mqymxp60v5)\" height=\"45.9375\" id=\"E5\" style=\"stroke: #A80036; stroke-width: 1.5;\" width=\"105\" x=\"74.5\" y=\"41\"/><ellipse cx=\"89.5\" cy=\"59.9688\" fill=\"#FFFACD\" rx=\"11\" ry=\"11\" style=\"stroke: #A80036; stroke-width: 1.0;\"/><path d=\"M88.4063,60.3438 L88.4063,64.0156 L90.0313,64.0156 Q91.2031,64.0156 91.6719,63.625 Q92.1406,63.2188 92.1406,62.2188 Q92.1406,61.2188 91.6406,60.7813 Q91.1563,60.3438 90.0313,60.3438 L88.4063,60.3438 Z M88.4063,55.5156 L88.4063,58.3906 L90.0313,58.3906 Q90.9531,58.3906 91.3438,58.0625 Q91.75,57.7188 91.75,56.9688 Q91.75,56.2031 91.3438,55.8594 Q90.9375,55.5156 90.0313,55.5156 L88.4063,55.5156 Z M86.0313,53.5625 L90.0313,53.5625 Q92.0938,53.5625 93.1406,54.3438 Q94.1875,55.125 94.1875,56.6875 Q94.1875,57.8906 93.5625,58.5625 Q92.9531,59.2344 91.7656,59.3438 Q93.1875,59.4844 93.9063,60.2969 Q94.625,61.1094 94.625,62.5625 Q94.625,64.3594 93.5469,65.1719 Q92.4688,65.9688 90.0313,65.9688 L86.0313,65.9688 L86.0313,53.5625 Z \"/><text fill=\"#000000\" font-family=\"sans-serif\" font-size=\"12\" font-style=\"italic\" lengthAdjust=\"spacingAndGlyphs\" textLength=\"77\" x=\"101.5\" y=\"57.1387\">«action def»</text><text fill=\"#000000\" font-family=\"sans-serif\" font-size=\"12\" lengthAdjust=\"spacingAndGlyphs\" textLength=\"27\" x=\"126.5\" y=\"71.1074\">setX</text><line style=\"stroke: #A80036; stroke-width: 1.5;\" x1=\"75.5\" x2=\"178.5\" y1=\"78.9375\" y2=\"78.9375\"/></a><!--MD5=[4672eba38e49728da53d11aeb285b987]\n",
       "reverse link E3 to E4--><a href=\"psysml:53eca076-bd38-4ff8-88cd-ccaa057f7e59\" target=\"_top\" title=\"psysml:53eca076-bd38-4ff8-88cd-ccaa057f7e59\" xlink:actuate=\"onRequest\" xlink:href=\"psysml:53eca076-bd38-4ff8-88cd-ccaa057f7e59\" xlink:show=\"new\" xlink:title=\"psysml:53eca076-bd38-4ff8-88cd-ccaa057f7e59\" xlink:type=\"simple\"><path d=\"M181.02,229.09 C173.69,245.33 165.36,263.77 159.04,277.78 \" fill=\"none\" id=\"E3&lt;-E4\" style=\"stroke: #A80036; stroke-width: 1.0;\"/><polygon fill=\"#FFFFFF\" points=\"186.39,217.21,180.2765,221.0342,181.4552,228.1484,187.5687,224.3241,186.39,217.21\" style=\"stroke: #A80036; stroke-width: 1.0;\"/></a><!--MD5=[6f107eb264eda4b26325f39a5516f1f3]\n",
       "reverse link E5 to E3--><a href=\"psysml:34b277fa-246f-4890-8f8b-22f79f83c872\" target=\"_top\" title=\"psysml:34b277fa-246f-4890-8f8b-22f79f83c872\" xlink:actuate=\"onRequest\" xlink:href=\"psysml:34b277fa-246f-4890-8f8b-22f79f83c872\" xlink:show=\"new\" xlink:title=\"psysml:34b277fa-246f-4890-8f8b-22f79f83c872\" xlink:type=\"simple\"><path d=\"M146.15,98.58 C157.8,119.01 172.45,144.7 183.21,163.56 \" fill=\"none\" id=\"E5&lt;-E3\" style=\"stroke: #A80036; stroke-width: 1.0;\"/><polygon fill=\"#FFFFFF\" points=\"139.69,87.26,139.1801,94.4531,145.6238,97.6903,146.1336,90.4972,139.69,87.26\" style=\"stroke: #A80036; stroke-width: 1.0;\"/><text fill=\"#000000\" font-family=\"sans-serif\" font-size=\"13\" lengthAdjust=\"spacingAndGlyphs\" textLength=\"7\" x=\"165\" y=\"130.0669\">c</text></a><!--MD5=[f51c6d1f1856fe338ac0413483fb1ccf]\n",
       "reverse link E5 to E2--><a href=\"psysml:085fc47f-09d9-4ca0-b48d-81ba6e318ca7\" target=\"_top\" title=\"psysml:085fc47f-09d9-4ca0-b48d-81ba6e318ca7\" xlink:actuate=\"onRequest\" xlink:href=\"psysml:085fc47f-09d9-4ca0-b48d-81ba6e318ca7\" xlink:show=\"new\" xlink:title=\"psysml:085fc47f-09d9-4ca0-b48d-81ba6e318ca7\" xlink:type=\"simple\"><path d=\"M116.07,99.9 C109.28,121.56 100.77,148.73 94.91,167.43 \" fill=\"none\" id=\"E5&lt;-E2\" style=\"stroke: #A80036; stroke-width: 1.0;\"/><polygon fill=\"#FFFFFF\" points=\"120.03,87.26,114.4189,91.7894,116.4417,98.7109,122.0528,94.1816,120.03,87.26\" style=\"stroke: #A80036; stroke-width: 1.0;\"/><text fill=\"#000000\" font-family=\"sans-serif\" font-size=\"13\" lengthAdjust=\"spacingAndGlyphs\" textLength=\"33\" x=\"110\" y=\"130.0669\">newX</text></a><!--MD5=[57ca08b9d4f39a31403a73ac4766844d]\n",
       "@startuml\r\n",
       " \r\n",
       "package \"TextualRepresentationTest\" as E1  [[psysml:1e396b56-292d-4ed9-bbba-ca6bb661746c ]]  {\r\n",
       "comp def \"Real\" as E2  <<(T,blue) dataType>> [[psysml:2e771e59-55ab-4895-8e71-4691f1152b9b ]] {\r\n",
       "}\r\n",
       "comp def \"C\" as E3 << << (B,green) >> [[psysml:e4de1612-4570-4c3a-878c-e0dca14f25a7 ]] {\r\n",
       "x: Real\r\n",
       "}\r\n",
       "comp usage \"x_constraint\" as E4 << <<(U,orange) assertConstraint>> [[psysml:8c3cf46e-c423-4c70-a710-66f9a3632f6b ]] {\r\n",
       "}\r\n",
       "comp def \"setX\" as E5 << <<(B,lemonchiffon) action def>> [[psysml:7113fdf5-c3b3-43b5-a3fa-02abb845fbc2 ]] {\r\n",
       "}\r\n",
       "E3 o- - E4 [[psysml:53eca076-bd38-4ff8-88cd-ccaa057f7e59 ]] \r\n",
       "E5 o- - E3 [[psysml:34b277fa-246f-4890-8f8b-22f79f83c872 ]] : c\r\n",
       "E5 o- - E2 [[psysml:085fc47f-09d9-4ca0-b48d-81ba6e318ca7 ]] : newX\r\n",
       "}\r\n",
       "@enduml\r\n",
       "\n",
       "PlantUML version 1.2020.13(Sat Jun 13 12:26:38 UTC 2020)\n",
       "(EPL source distribution)\n",
       "Java Runtime: OpenJDK Runtime Environment\n",
       "JVM: OpenJDK 64-Bit Server VM\n",
       "Default Encoding: UTF-8\n",
       "Language: en\n",
       "Country: null\n",
       "--></g></svg>"
      ]
     },
     "execution_count": 35,
     "metadata": {},
     "output_type": "execute_result"
    }
   ],
   "source": [
    "%viz --style=\"PLANTUML\" --view=\"Sequence\" \"TextualRepresentationTest\""
   ]
  },
  {
   "cell_type": "code",
   "execution_count": 36,
   "id": "9799a437",
   "metadata": {
    "execution": {
     "iopub.execute_input": "2021-06-30T09:21:18.905677Z",
     "iopub.status.busy": "2021-06-30T09:21:18.905050Z",
     "iopub.status.idle": "2021-06-30T09:21:18.949768Z",
     "shell.execute_reply": "2021-06-30T09:21:18.948301Z"
    }
   },
   "outputs": [
    {
     "data": {
      "image/svg+xml": [
       "<?xml version=\"1.0\" encoding=\"UTF-8\" standalone=\"no\"?><svg xmlns=\"http://www.w3.org/2000/svg\" xmlns:xlink=\"http://www.w3.org/1999/xlink\" contentScriptType=\"application/ecmascript\" contentStyleType=\"text/css\" height=\"238px\" preserveAspectRatio=\"none\" style=\"width:397px;height:238px;\" version=\"1.1\" viewBox=\"0 0 397 238\" width=\"397px\" zoomAndPan=\"magnify\"><defs><filter height=\"300%\" id=\"f6a4p83bb5lml\" width=\"300%\" x=\"-1\" y=\"-1\"><feGaussianBlur result=\"blurOut\" stdDeviation=\"2.0\"/><feColorMatrix in=\"blurOut\" result=\"blurOut2\" type=\"matrix\" values=\"0 0 0 0 0 0 0 0 0 0 0 0 0 0 0 0 0 0 .4 0\"/><feOffset dx=\"4.0\" dy=\"4.0\" in=\"blurOut2\" result=\"blurOut3\"/><feBlend in=\"SourceGraphic\" in2=\"blurOut3\" mode=\"normal\"/></filter></defs><g><!--MD5=[fbc87193dbaf4d95561dea2c320d4a47]\n",
       "cluster E1--><a href=\"psysml:1e396b56-292d-4ed9-bbba-ca6bb661746c\" target=\"_top\" title=\"psysml:1e396b56-292d-4ed9-bbba-ca6bb661746c\" xlink:actuate=\"onRequest\" xlink:href=\"psysml:1e396b56-292d-4ed9-bbba-ca6bb661746c\" xlink:show=\"new\" xlink:title=\"psysml:1e396b56-292d-4ed9-bbba-ca6bb661746c\" xlink:type=\"simple\"><polygon fill=\"#FFFFFF\" filter=\"url(#f6a4p83bb5lml)\" points=\"16,6,236,6,243,28.2969,375,28.2969,375,226.5,16,226.5,16,6\" style=\"stroke: #000000; stroke-width: 1.5;\"/><line style=\"stroke: #000000; stroke-width: 1.5;\" x1=\"16\" x2=\"243\" y1=\"28.2969\" y2=\"28.2969\"/><text fill=\"#000000\" font-family=\"sans-serif\" font-size=\"14\" font-weight=\"bold\" lengthAdjust=\"spacingAndGlyphs\" textLength=\"214\" x=\"20\" y=\"20.9951\">TextualRepresentationTest</text></a><!--MD5=[de5ec2e2e8f62f467e546659f5068c88]\n",
       "cluster E5--><a href=\"psysml:7113fdf5-c3b3-43b5-a3fa-02abb845fbc2\" target=\"_top\" title=\"psysml:7113fdf5-c3b3-43b5-a3fa-02abb845fbc2\" xlink:actuate=\"onRequest\" xlink:href=\"psysml:7113fdf5-c3b3-43b5-a3fa-02abb845fbc2\" xlink:show=\"new\" xlink:title=\"psysml:7113fdf5-c3b3-43b5-a3fa-02abb845fbc2\" xlink:type=\"simple\"><rect fill=\"#FFFFFF\" filter=\"url(#f6a4p83bb5lml)\" height=\"143\" id=\"E5\" style=\"stroke: #A80036; stroke-width: 1.5;\" width=\"96\" x=\"233.5\" y=\"67.5\"/><rect fill=\"#FEFECE\" height=\"37.9375\" style=\"stroke: #A80036; stroke-width: 1.5;\" width=\"96\" x=\"233.5\" y=\"67.5\"/><text fill=\"#000000\" font-family=\"sans-serif\" font-size=\"12\" font-style=\"italic\" lengthAdjust=\"spacingAndGlyphs\" textLength=\"77\" x=\"243\" y=\"83.6387\">«action def»</text><text fill=\"#000000\" font-family=\"sans-serif\" font-size=\"12\" lengthAdjust=\"spacingAndGlyphs\" textLength=\"27\" x=\"268\" y=\"97.6074\">setX</text></a><!--MD5=[b4997ac47864f28c2f74865a473b2911]\n",
       "class E2--><a href=\"psysml:2e771e59-55ab-4895-8e71-4691f1152b9b\" target=\"_top\" title=\"psysml:2e771e59-55ab-4895-8e71-4691f1152b9b\" xlink:actuate=\"onRequest\" xlink:href=\"psysml:2e771e59-55ab-4895-8e71-4691f1152b9b\" xlink:show=\"new\" xlink:title=\"psysml:2e771e59-55ab-4895-8e71-4691f1152b9b\" xlink:type=\"simple\"><rect fill=\"#FEFECE\" filter=\"url(#f6a4p83bb5lml)\" height=\"45.9375\" id=\"E2\" style=\"stroke: #A80036; stroke-width: 1.5;\" width=\"100\" x=\"117\" y=\"44.5\"/><ellipse cx=\"132\" cy=\"63.4688\" fill=\"#0000FF\" rx=\"11\" ry=\"11\" style=\"stroke: #A80036; stroke-width: 1.0;\"/><path d=\"M132.8438,70.2188 L130.3906,70.2188 L130.3906,59.9688 L127.25,59.9688 L127.25,57.8281 L135.9844,57.8281 L135.9844,59.9688 L132.8438,59.9688 L132.8438,70.2188 Z \"/><text fill=\"#000000\" font-family=\"sans-serif\" font-size=\"12\" font-style=\"italic\" lengthAdjust=\"spacingAndGlyphs\" textLength=\"72\" x=\"144\" y=\"60.6387\">«dataType»</text><text fill=\"#000000\" font-family=\"sans-serif\" font-size=\"12\" lengthAdjust=\"spacingAndGlyphs\" textLength=\"27\" x=\"166.5\" y=\"74.6074\">Real</text><line style=\"stroke: #A80036; stroke-width: 1.5;\" x1=\"118\" x2=\"216\" y1=\"82.4375\" y2=\"82.4375\"/></a><!--MD5=[09b614a08d8cba4a07c9adeb5e0fee81]\n",
       "class E3--><a href=\"psysml:e4de1612-4570-4c3a-878c-e0dca14f25a7\" target=\"_top\" title=\"psysml:e4de1612-4570-4c3a-878c-e0dca14f25a7\" xlink:actuate=\"onRequest\" xlink:href=\"psysml:e4de1612-4570-4c3a-878c-e0dca14f25a7\" xlink:show=\"new\" xlink:title=\"psysml:e4de1612-4570-4c3a-878c-e0dca14f25a7\" xlink:type=\"simple\"><rect fill=\"#FEFECE\" filter=\"url(#f6a4p83bb5lml)\" height=\"52.8047\" id=\"E3\" style=\"stroke: #A80036; stroke-width: 1.5;\" width=\"50\" x=\"32\" y=\"41\"/><ellipse cx=\"51.5\" cy=\"57\" fill=\"#008000\" rx=\"11\" ry=\"11\" style=\"stroke: #A80036; stroke-width: 1.0;\"/><path d=\"M50.4063,57.375 L50.4063,61.0469 L52.0313,61.0469 Q53.2031,61.0469 53.6719,60.6563 Q54.1406,60.25 54.1406,59.25 Q54.1406,58.25 53.6406,57.8125 Q53.1563,57.375 52.0313,57.375 L50.4063,57.375 Z M50.4063,52.5469 L50.4063,55.4219 L52.0313,55.4219 Q52.9531,55.4219 53.3438,55.0938 Q53.75,54.75 53.75,54 Q53.75,53.2344 53.3438,52.8906 Q52.9375,52.5469 52.0313,52.5469 L50.4063,52.5469 Z M48.0313,50.5938 L52.0313,50.5938 Q54.0938,50.5938 55.1406,51.375 Q56.1875,52.1563 56.1875,53.7188 Q56.1875,54.9219 55.5625,55.5938 Q54.9531,56.2656 53.7656,56.375 Q55.1875,56.5156 55.9063,57.3281 Q56.625,58.1406 56.625,59.5938 Q56.625,61.3906 55.5469,62.2031 Q54.4688,63 52.0313,63 L48.0313,63 L48.0313,50.5938 Z \"/><text fill=\"#000000\" font-family=\"sans-serif\" font-size=\"12\" lengthAdjust=\"spacingAndGlyphs\" textLength=\"8\" x=\"66.5\" y=\"61.1543\">C</text><line style=\"stroke: #A80036; stroke-width: 1.5;\" x1=\"33\" x2=\"81\" y1=\"73\" y2=\"73\"/><text fill=\"#000000\" font-family=\"sans-serif\" font-size=\"11\" lengthAdjust=\"spacingAndGlyphs\" textLength=\"38\" x=\"38\" y=\"87.2104\">x: Real</text></a><!--MD5=[ebbe1d658d1005bcc118a6aa81145e00]\n",
       "class E4--><a href=\"psysml:8c3cf46e-c423-4c70-a710-66f9a3632f6b\" target=\"_top\" title=\"psysml:8c3cf46e-c423-4c70-a710-66f9a3632f6b\" xlink:actuate=\"onRequest\" xlink:href=\"psysml:8c3cf46e-c423-4c70-a710-66f9a3632f6b\" xlink:show=\"new\" xlink:title=\"psysml:8c3cf46e-c423-4c70-a710-66f9a3632f6b\" xlink:type=\"simple\"><rect fill=\"#FEFECE\" filter=\"url(#f6a4p83bb5lml)\" height=\"45.9375\" id=\"E4\" rx=\"10\" ry=\"10\" style=\"stroke: #A80036; stroke-width: 1.5;\" width=\"147\" x=\"32.5\" y=\"154\"/><ellipse cx=\"47.5\" cy=\"172.9688\" fill=\"#FFA500\" rx=\"11\" ry=\"11\" style=\"stroke: #A80036; stroke-width: 1.0;\"/><path d=\"M43.375,174.8906 L43.375,167.0781 L45.8281,167.0781 L45.8281,175.5156 Q45.8281,176.4375 46.2969,176.9688 Q46.7813,177.5 47.6094,177.5 Q48.4531,177.5 48.9219,176.9688 Q49.3906,176.4375 49.3906,175.5156 L49.3906,167.0781 L51.8438,167.0781 L51.8438,174.8906 Q51.8438,177.4219 50.8438,178.5625 Q49.8438,179.7031 47.6094,179.7031 Q45.3906,179.7031 44.375,178.5625 Q43.375,177.4219 43.375,174.8906 Z \"/><text fill=\"#000000\" font-family=\"sans-serif\" font-size=\"12\" font-style=\"italic\" lengthAdjust=\"spacingAndGlyphs\" textLength=\"119\" x=\"59.5\" y=\"170.1387\">«assertConstraint»</text><text fill=\"#000000\" font-family=\"sans-serif\" font-size=\"12\" lengthAdjust=\"spacingAndGlyphs\" textLength=\"76\" x=\"81\" y=\"184.1074\">x_constraint</text><line style=\"stroke: #A80036; stroke-width: 1.5;\" x1=\"33.5\" x2=\"178.5\" y1=\"191.9375\" y2=\"191.9375\"/></a><text fill=\"#000000\" font-family=\"sans-serif\" font-size=\"14\" lengthAdjust=\"spacingAndGlyphs\" textLength=\"8\" x=\"254\" y=\"46.1982\">c</text><rect fill=\"#A80036\" height=\"12\" style=\"stroke: #FEFECE; stroke-width: 1.5;\" width=\"12\" x=\"252\" y=\"61.5\"/><text fill=\"#000000\" font-family=\"sans-serif\" font-size=\"14\" lengthAdjust=\"spacingAndGlyphs\" textLength=\"38\" x=\"286\" y=\"46.1982\">newX</text><rect fill=\"#A80036\" height=\"12\" style=\"stroke: #FEFECE; stroke-width: 1.5;\" width=\"12\" x=\"299\" y=\"61.5\"/><!--MD5=[4672eba38e49728da53d11aeb285b987]\n",
       "reverse link E3 to E4--><a href=\"psysml:53eca076-bd38-4ff8-88cd-ccaa057f7e59\" target=\"_top\" title=\"psysml:53eca076-bd38-4ff8-88cd-ccaa057f7e59\" xlink:actuate=\"onRequest\" xlink:href=\"psysml:53eca076-bd38-4ff8-88cd-ccaa057f7e59\" xlink:show=\"new\" xlink:title=\"psysml:53eca076-bd38-4ff8-88cd-ccaa057f7e59\" xlink:type=\"simple\"><path d=\"M74.27,106.4 C81.49,122.23 89.63,140.08 95.85,153.74 \" fill=\"none\" id=\"E3&lt;-E4\" style=\"stroke: #A80036; stroke-width: 1.0;\"/><polygon fill=\"#FFFFFF\" points=\"68.74,94.25,67.593,101.3693,73.7235,105.1663,74.8705,98.047,68.74,94.25\" style=\"stroke: #A80036; stroke-width: 1.0;\"/></a><!--MD5=[4d856507e5be3ffcbf3818e625a15878]\n",
       "@startuml\r\n",
       " \r\n",
       "package \"TextualRepresentationTest\" as E1  [[psysml:1e396b56-292d-4ed9-bbba-ca6bb661746c ]]  {\r\n",
       "comp def \"Real\" as E2  <<(T,blue) dataType>> [[psysml:2e771e59-55ab-4895-8e71-4691f1152b9b ]] {\r\n",
       "}\r\n",
       "comp def \"C\" as E3 << << (B,green) >> [[psysml:e4de1612-4570-4c3a-878c-e0dca14f25a7 ]] {\r\n",
       "x: Real\r\n",
       "}\r\n",
       "comp usage \"x_constraint\" as E4 << <<(U,orange) assertConstraint>> [[psysml:8c3cf46e-c423-4c70-a710-66f9a3632f6b ]] {\r\n",
       "}\r\n",
       "rec def \"setX\" as E5 << <<(B,lemonchiffon) action def>> [[psysml:7113fdf5-c3b3-43b5-a3fa-02abb845fbc2 ]] {\r\n",
       "portin \"c\" as E6  [[psysml:34b277fa-246f-4890-8f8b-22f79f83c872 ]] \r\n",
       "portin \"newX\" as E7  [[psysml:085fc47f-09d9-4ca0-b48d-81ba6e318ca7 ]] \r\n",
       "}\r\n",
       "\r\n",
       "E3 o- - E4 [[psysml:53eca076-bd38-4ff8-88cd-ccaa057f7e59 ]] \r\n",
       "}\r\n",
       "@enduml\r\n",
       "\n",
       "PlantUML version 1.2020.13(Sat Jun 13 12:26:38 UTC 2020)\n",
       "(EPL source distribution)\n",
       "Java Runtime: OpenJDK Runtime Environment\n",
       "JVM: OpenJDK 64-Bit Server VM\n",
       "Default Encoding: UTF-8\n",
       "Language: en\n",
       "Country: null\n",
       "--></g></svg>"
      ]
     },
     "execution_count": 36,
     "metadata": {},
     "output_type": "execute_result"
    }
   ],
   "source": [
    "%viz --style=\"PLANTUML\" --view=\"MIXED\" \"TextualRepresentationTest\""
   ]
  },
  {
   "cell_type": "code",
   "execution_count": 37,
   "id": "36d3ee6d",
   "metadata": {
    "execution": {
     "iopub.execute_input": "2021-06-30T09:21:19.002992Z",
     "iopub.status.busy": "2021-06-30T09:21:19.000835Z",
     "iopub.status.idle": "2021-06-30T09:21:19.099499Z",
     "shell.execute_reply": "2021-06-30T09:21:19.096668Z"
    }
   },
   "outputs": [
    {
     "data": {
      "image/svg+xml": [
       "<?xml version=\"1.0\" encoding=\"UTF-8\" standalone=\"no\"?><svg xmlns=\"http://www.w3.org/2000/svg\" xmlns:xlink=\"http://www.w3.org/1999/xlink\" contentScriptType=\"application/ecmascript\" contentStyleType=\"text/css\" height=\"261px\" preserveAspectRatio=\"none\" style=\"width:389px;height:261px;\" version=\"1.1\" viewBox=\"0 0 389 261\" width=\"389px\" zoomAndPan=\"magnify\"><defs/><g><!--MD5=[fbc87193dbaf4d95561dea2c320d4a47]\n",
       "cluster E1--><a href=\"psysml:1e396b56-292d-4ed9-bbba-ca6bb661746c\" target=\"_top\" title=\"psysml:1e396b56-292d-4ed9-bbba-ca6bb661746c\" xlink:actuate=\"onRequest\" xlink:href=\"psysml:1e396b56-292d-4ed9-bbba-ca6bb661746c\" xlink:show=\"new\" xlink:title=\"psysml:1e396b56-292d-4ed9-bbba-ca6bb661746c\" xlink:type=\"simple\"><polygon fill=\"#FFFFFF\" points=\"16,6,236,6,243,28.2969,367,28.2969,367,249.5,16,249.5,16,6\" style=\"stroke: #000000; stroke-width: 1.5;\"/><line style=\"stroke: #000000; stroke-width: 1.5;\" x1=\"16\" x2=\"243\" y1=\"28.2969\" y2=\"28.2969\"/><text fill=\"#000000\" font-family=\"sans-serif\" font-size=\"14\" font-weight=\"bold\" lengthAdjust=\"spacingAndGlyphs\" textLength=\"214\" x=\"20\" y=\"20.9951\">TextualRepresentationTest</text></a><!--MD5=[de5ec2e2e8f62f467e546659f5068c88]\n",
       "cluster E5--><a href=\"psysml:7113fdf5-c3b3-43b5-a3fa-02abb845fbc2\" target=\"_top\" title=\"psysml:7113fdf5-c3b3-43b5-a3fa-02abb845fbc2\" xlink:actuate=\"onRequest\" xlink:href=\"psysml:7113fdf5-c3b3-43b5-a3fa-02abb845fbc2\" xlink:show=\"new\" xlink:title=\"psysml:7113fdf5-c3b3-43b5-a3fa-02abb845fbc2\" xlink:type=\"simple\"><rect fill=\"#FFFFFF\" height=\"154.5\" id=\"E5\" style=\"stroke: #383838; stroke-width: 1.5;\" width=\"96\" x=\"225.5\" y=\"79\"/><rect fill=\"#F8F8F8\" height=\"37.9375\" style=\"stroke: #383838; stroke-width: 1.5;\" width=\"96\" x=\"225.5\" y=\"79\"/><text fill=\"#000000\" font-family=\"sans-serif\" font-size=\"12\" font-style=\"italic\" lengthAdjust=\"spacingAndGlyphs\" textLength=\"77\" x=\"235\" y=\"95.1387\">«action def»</text><text fill=\"#000000\" font-family=\"sans-serif\" font-size=\"12\" lengthAdjust=\"spacingAndGlyphs\" textLength=\"27\" x=\"260\" y=\"109.1074\">setX</text></a><!--MD5=[b4997ac47864f28c2f74865a473b2911]\n",
       "class E2--><a href=\"psysml:2e771e59-55ab-4895-8e71-4691f1152b9b\" target=\"_top\" title=\"psysml:2e771e59-55ab-4895-8e71-4691f1152b9b\" xlink:actuate=\"onRequest\" xlink:href=\"psysml:2e771e59-55ab-4895-8e71-4691f1152b9b\" xlink:show=\"new\" xlink:title=\"psysml:2e771e59-55ab-4895-8e71-4691f1152b9b\" xlink:type=\"simple\"><rect fill=\"#FFFFFF\" height=\"45.9375\" id=\"E2\" style=\"stroke: #383838; stroke-width: 1.5;\" width=\"74\" x=\"135\" y=\"56\"/><text fill=\"#000000\" font-family=\"sans-serif\" font-size=\"12\" font-style=\"italic\" lengthAdjust=\"spacingAndGlyphs\" textLength=\"72\" x=\"136\" y=\"72.1387\">«dataType»</text><text fill=\"#000000\" font-family=\"sans-serif\" font-size=\"12\" lengthAdjust=\"spacingAndGlyphs\" textLength=\"27\" x=\"158.5\" y=\"86.1074\">Real</text><line style=\"stroke: #383838; stroke-width: 1.5;\" x1=\"136\" x2=\"208\" y1=\"93.9375\" y2=\"93.9375\"/></a><!--MD5=[09b614a08d8cba4a07c9adeb5e0fee81]\n",
       "class E3--><a href=\"psysml:e4de1612-4570-4c3a-878c-e0dca14f25a7\" target=\"_top\" title=\"psysml:e4de1612-4570-4c3a-878c-e0dca14f25a7\" xlink:actuate=\"onRequest\" xlink:href=\"psysml:e4de1612-4570-4c3a-878c-e0dca14f25a7\" xlink:show=\"new\" xlink:title=\"psysml:e4de1612-4570-4c3a-878c-e0dca14f25a7\" xlink:type=\"simple\"><rect fill=\"#FFFFFF\" height=\"75.5469\" id=\"E3\" style=\"stroke: #383838; stroke-width: 1.5;\" width=\"67\" x=\"32.5\" y=\"41\"/><text fill=\"#000000\" font-family=\"sans-serif\" font-size=\"12\" font-style=\"italic\" lengthAdjust=\"spacingAndGlyphs\" textLength=\"65\" x=\"33.5\" y=\"57.1387\">«item def»</text><text fill=\"#000000\" font-family=\"sans-serif\" font-size=\"12\" lengthAdjust=\"spacingAndGlyphs\" textLength=\"8\" x=\"62\" y=\"71.1074\">C</text><line style=\"stroke: #383838; stroke-width: 1.5;\" x1=\"33.5\" x2=\"98.5\" y1=\"78.9375\" y2=\"78.9375\"/><text fill=\"#000000\" font-family=\"sans-serif\" font-size=\"11\" lengthAdjust=\"spacingAndGlyphs\" textLength=\"38\" x=\"38.5\" y=\"109.9526\">x: Real</text><line style=\"stroke: #383838; stroke-width: 1.0;\" x1=\"33.5\" x2=\"38.5\" y1=\"93.3398\" y2=\"93.3398\"/><text fill=\"#000000\" font-family=\"sans-serif\" font-size=\"11\" lengthAdjust=\"spacingAndGlyphs\" textLength=\"55\" x=\"38.5\" y=\"96.6479\">attributes</text><line style=\"stroke: #383838; stroke-width: 1.0;\" x1=\"93.5\" x2=\"98.5\" y1=\"93.3398\" y2=\"93.3398\"/></a><!--MD5=[ebbe1d658d1005bcc118a6aa81145e00]\n",
       "class E4--><a href=\"psysml:8c3cf46e-c423-4c70-a710-66f9a3632f6b\" target=\"_top\" title=\"psysml:8c3cf46e-c423-4c70-a710-66f9a3632f6b\" xlink:actuate=\"onRequest\" xlink:href=\"psysml:8c3cf46e-c423-4c70-a710-66f9a3632f6b\" xlink:show=\"new\" xlink:title=\"psysml:8c3cf46e-c423-4c70-a710-66f9a3632f6b\" xlink:type=\"simple\"><rect fill=\"#FFFFFF\" height=\"45.9375\" id=\"E4\" rx=\"10\" ry=\"10\" style=\"stroke: #383838; stroke-width: 1.5;\" width=\"121\" x=\"32.5\" y=\"177\"/><text fill=\"#000000\" font-family=\"sans-serif\" font-size=\"12\" font-style=\"italic\" lengthAdjust=\"spacingAndGlyphs\" textLength=\"119\" x=\"33.5\" y=\"193.1387\">«assertConstraint»</text><text fill=\"#000000\" font-family=\"sans-serif\" font-size=\"12\" lengthAdjust=\"spacingAndGlyphs\" textLength=\"76\" x=\"55\" y=\"207.1074\">x_constraint</text><line style=\"stroke: #383838; stroke-width: 1.5;\" x1=\"33.5\" x2=\"152.5\" y1=\"214.9375\" y2=\"214.9375\"/></a><text fill=\"#000000\" font-family=\"sans-serif\" font-size=\"14\" lengthAdjust=\"spacingAndGlyphs\" textLength=\"8\" x=\"246\" y=\"57.6982\">c</text><rect fill=\"#383838\" height=\"12\" style=\"stroke: #F8F8F8; stroke-width: 1.5;\" width=\"12\" x=\"244\" y=\"73\"/><text fill=\"#000000\" font-family=\"sans-serif\" font-size=\"14\" lengthAdjust=\"spacingAndGlyphs\" textLength=\"38\" x=\"278\" y=\"57.6982\">newX</text><rect fill=\"#383838\" height=\"12\" style=\"stroke: #F8F8F8; stroke-width: 1.5;\" width=\"12\" x=\"291\" y=\"73\"/><!--MD5=[4672eba38e49728da53d11aeb285b987]\n",
       "reverse link E3 to E4--><a href=\"psysml:53eca076-bd38-4ff8-88cd-ccaa057f7e59\" target=\"_top\" title=\"psysml:53eca076-bd38-4ff8-88cd-ccaa057f7e59\" xlink:actuate=\"onRequest\" xlink:href=\"psysml:53eca076-bd38-4ff8-88cd-ccaa057f7e59\" xlink:show=\"new\" xlink:title=\"psysml:53eca076-bd38-4ff8-88cd-ccaa057f7e59\" xlink:type=\"simple\"><path d=\"M77.31,129.85 C81.03,146.26 84.99,163.68 87.99,176.93 \" fill=\"none\" id=\"E3&lt;-E4\" style=\"stroke: #383838; stroke-width: 1.0;\"/><polygon fill=\"#FFFFFF\" points=\"74.39,117,71.8133,123.735,77.0392,128.7039,79.6159,121.9689,74.39,117\" style=\"stroke: #383838; stroke-width: 1.0;\"/></a><!--MD5=[ab9e765bf7240ff921713dd735c2e16e]\n",
       "@startuml\r\n",
       "skinparam monochrome true\r\n",
       "skinparam classbackgroundcolor white\r\n",
       "skinparam shadowing false\r\n",
       "skinparam wrapWidth 300\r\n",
       "hide circle\r\n",
       "\r\n",
       "package \"TextualRepresentationTest\" as E1  [[psysml:1e396b56-292d-4ed9-bbba-ca6bb661746c ]]  {\r\n",
       "comp def \"Real\" as E2  <<(T,blue) dataType>> [[psysml:2e771e59-55ab-4895-8e71-4691f1152b9b ]] {\r\n",
       "}\r\n",
       "comp def \"C\" as E3  <<(T,blue) item def>> [[psysml:e4de1612-4570-4c3a-878c-e0dca14f25a7 ]] {\r\n",
       "- - attributes - -\r\n",
       "x: Real\r\n",
       "}\r\n",
       "comp usage \"x_constraint\" as E4  <<(T,blue) assertConstraint>> [[psysml:8c3cf46e-c423-4c70-a710-66f9a3632f6b ]] {\r\n",
       "}\r\n",
       "rec def \"setX\" as E5  <<(T,blue) action def>> [[psysml:7113fdf5-c3b3-43b5-a3fa-02abb845fbc2 ]] {\r\n",
       "portin \"c\" as E6  [[psysml:34b277fa-246f-4890-8f8b-22f79f83c872 ]] \r\n",
       "portin \"newX\" as E7  [[psysml:085fc47f-09d9-4ca0-b48d-81ba6e318ca7 ]] \r\n",
       "}\r\n",
       "\r\n",
       "E3 o- - E4 [[psysml:53eca076-bd38-4ff8-88cd-ccaa057f7e59 ]] \r\n",
       "}\r\n",
       "@enduml\r\n",
       "\n",
       "PlantUML version 1.2020.13(Sat Jun 13 12:26:38 UTC 2020)\n",
       "(EPL source distribution)\n",
       "Java Runtime: OpenJDK Runtime Environment\n",
       "JVM: OpenJDK 64-Bit Server VM\n",
       "Default Encoding: UTF-8\n",
       "Language: en\n",
       "Country: null\n",
       "--></g></svg>"
      ]
     },
     "execution_count": 37,
     "metadata": {},
     "output_type": "execute_result"
    }
   ],
   "source": [
    "%viz --style=\"DEFAULT\" --view=\"Default\" \"TextualRepresentationTest\""
   ]
  },
  {
   "cell_type": "code",
   "execution_count": 38,
   "id": "d99a9d23",
   "metadata": {
    "execution": {
     "iopub.execute_input": "2021-06-30T09:21:19.147044Z",
     "iopub.status.busy": "2021-06-30T09:21:19.145951Z",
     "iopub.status.idle": "2021-06-30T09:21:19.199916Z",
     "shell.execute_reply": "2021-06-30T09:21:19.198562Z"
    }
   },
   "outputs": [
    {
     "data": {
      "image/svg+xml": [
       "<?xml version=\"1.0\" encoding=\"UTF-8\" standalone=\"no\"?><svg xmlns=\"http://www.w3.org/2000/svg\" xmlns:xlink=\"http://www.w3.org/1999/xlink\" contentScriptType=\"application/ecmascript\" contentStyleType=\"text/css\" height=\"375px\" preserveAspectRatio=\"none\" style=\"width:268px;height:375px;\" version=\"1.1\" viewBox=\"0 0 268 375\" width=\"268px\" zoomAndPan=\"magnify\"><defs/><g><!--MD5=[fbc87193dbaf4d95561dea2c320d4a47]\n",
       "cluster E1--><a href=\"psysml:1e396b56-292d-4ed9-bbba-ca6bb661746c\" target=\"_top\" title=\"psysml:1e396b56-292d-4ed9-bbba-ca6bb661746c\" xlink:actuate=\"onRequest\" xlink:href=\"psysml:1e396b56-292d-4ed9-bbba-ca6bb661746c\" xlink:show=\"new\" xlink:title=\"psysml:1e396b56-292d-4ed9-bbba-ca6bb661746c\" xlink:type=\"simple\"><polygon fill=\"#FFFFFF\" points=\"16,6,236,6,243,28.2969,246,28.2969,246,363,16,363,16,6\" style=\"stroke: #000000; stroke-width: 1.5;\"/><line style=\"stroke: #000000; stroke-width: 1.5;\" x1=\"16\" x2=\"243\" y1=\"28.2969\" y2=\"28.2969\"/><text fill=\"#000000\" font-family=\"sans-serif\" font-size=\"14\" font-weight=\"bold\" lengthAdjust=\"spacingAndGlyphs\" textLength=\"214\" x=\"20\" y=\"20.9951\">TextualRepresentationTest</text></a><!--MD5=[b4997ac47864f28c2f74865a473b2911]\n",
       "class E2--><a href=\"psysml:2e771e59-55ab-4895-8e71-4691f1152b9b\" target=\"_top\" title=\"psysml:2e771e59-55ab-4895-8e71-4691f1152b9b\" xlink:actuate=\"onRequest\" xlink:href=\"psysml:2e771e59-55ab-4895-8e71-4691f1152b9b\" xlink:show=\"new\" xlink:title=\"psysml:2e771e59-55ab-4895-8e71-4691f1152b9b\" xlink:type=\"simple\"><rect fill=\"#FFFFFF\" height=\"45.9375\" id=\"E2\" style=\"stroke: #383838; stroke-width: 1.5;\" width=\"74\" x=\"42\" y=\"179\"/><text fill=\"#000000\" font-family=\"sans-serif\" font-size=\"12\" font-style=\"italic\" lengthAdjust=\"spacingAndGlyphs\" textLength=\"72\" x=\"43\" y=\"195.1387\">«dataType»</text><text fill=\"#000000\" font-family=\"sans-serif\" font-size=\"12\" lengthAdjust=\"spacingAndGlyphs\" textLength=\"27\" x=\"65.5\" y=\"209.1074\">Real</text><line style=\"stroke: #383838; stroke-width: 1.5;\" x1=\"43\" x2=\"115\" y1=\"216.9375\" y2=\"216.9375\"/></a><!--MD5=[09b614a08d8cba4a07c9adeb5e0fee81]\n",
       "class E3--><a href=\"psysml:e4de1612-4570-4c3a-878c-e0dca14f25a7\" target=\"_top\" title=\"psysml:e4de1612-4570-4c3a-878c-e0dca14f25a7\" xlink:actuate=\"onRequest\" xlink:href=\"psysml:e4de1612-4570-4c3a-878c-e0dca14f25a7\" xlink:show=\"new\" xlink:title=\"psysml:e4de1612-4570-4c3a-878c-e0dca14f25a7\" xlink:type=\"simple\"><rect fill=\"#FFFFFF\" height=\"75.5469\" id=\"E3\" style=\"stroke: #383838; stroke-width: 1.5;\" width=\"67\" x=\"151.5\" y=\"164\"/><text fill=\"#000000\" font-family=\"sans-serif\" font-size=\"12\" font-style=\"italic\" lengthAdjust=\"spacingAndGlyphs\" textLength=\"65\" x=\"152.5\" y=\"180.1387\">«item def»</text><text fill=\"#000000\" font-family=\"sans-serif\" font-size=\"12\" lengthAdjust=\"spacingAndGlyphs\" textLength=\"8\" x=\"181\" y=\"194.1074\">C</text><line style=\"stroke: #383838; stroke-width: 1.5;\" x1=\"152.5\" x2=\"217.5\" y1=\"201.9375\" y2=\"201.9375\"/><text fill=\"#000000\" font-family=\"sans-serif\" font-size=\"11\" lengthAdjust=\"spacingAndGlyphs\" textLength=\"38\" x=\"157.5\" y=\"232.9526\">x: Real</text><line style=\"stroke: #383838; stroke-width: 1.0;\" x1=\"152.5\" x2=\"157.5\" y1=\"216.3398\" y2=\"216.3398\"/><text fill=\"#000000\" font-family=\"sans-serif\" font-size=\"11\" lengthAdjust=\"spacingAndGlyphs\" textLength=\"55\" x=\"157.5\" y=\"219.6479\">attributes</text><line style=\"stroke: #383838; stroke-width: 1.0;\" x1=\"212.5\" x2=\"217.5\" y1=\"216.3398\" y2=\"216.3398\"/></a><!--MD5=[ebbe1d658d1005bcc118a6aa81145e00]\n",
       "class E4--><a href=\"psysml:8c3cf46e-c423-4c70-a710-66f9a3632f6b\" target=\"_top\" title=\"psysml:8c3cf46e-c423-4c70-a710-66f9a3632f6b\" xlink:actuate=\"onRequest\" xlink:href=\"psysml:8c3cf46e-c423-4c70-a710-66f9a3632f6b\" xlink:show=\"new\" xlink:title=\"psysml:8c3cf46e-c423-4c70-a710-66f9a3632f6b\" xlink:type=\"simple\"><rect fill=\"#FFFFFF\" height=\"45.9375\" id=\"E4\" rx=\"10\" ry=\"10\" style=\"stroke: #383838; stroke-width: 1.5;\" width=\"121\" x=\"97.5\" y=\"301\"/><text fill=\"#000000\" font-family=\"sans-serif\" font-size=\"12\" font-style=\"italic\" lengthAdjust=\"spacingAndGlyphs\" textLength=\"119\" x=\"98.5\" y=\"317.1387\">«assertConstraint»</text><text fill=\"#000000\" font-family=\"sans-serif\" font-size=\"12\" lengthAdjust=\"spacingAndGlyphs\" textLength=\"76\" x=\"120\" y=\"331.1074\">x_constraint</text><line style=\"stroke: #383838; stroke-width: 1.5;\" x1=\"98.5\" x2=\"217.5\" y1=\"338.9375\" y2=\"338.9375\"/></a><!--MD5=[270fce915f116d4de14055a7c1d9a0f3]\n",
       "class E5--><a href=\"psysml:7113fdf5-c3b3-43b5-a3fa-02abb845fbc2\" target=\"_top\" title=\"psysml:7113fdf5-c3b3-43b5-a3fa-02abb845fbc2\" xlink:actuate=\"onRequest\" xlink:href=\"psysml:7113fdf5-c3b3-43b5-a3fa-02abb845fbc2\" xlink:show=\"new\" xlink:title=\"psysml:7113fdf5-c3b3-43b5-a3fa-02abb845fbc2\" xlink:type=\"simple\"><rect fill=\"#FFFFFF\" height=\"45.9375\" id=\"E5\" style=\"stroke: #383838; stroke-width: 1.5;\" width=\"79\" x=\"77.5\" y=\"41\"/><text fill=\"#000000\" font-family=\"sans-serif\" font-size=\"12\" font-style=\"italic\" lengthAdjust=\"spacingAndGlyphs\" textLength=\"77\" x=\"78.5\" y=\"57.1387\">«action def»</text><text fill=\"#000000\" font-family=\"sans-serif\" font-size=\"12\" lengthAdjust=\"spacingAndGlyphs\" textLength=\"27\" x=\"103.5\" y=\"71.1074\">setX</text><line style=\"stroke: #383838; stroke-width: 1.5;\" x1=\"78.5\" x2=\"155.5\" y1=\"78.9375\" y2=\"78.9375\"/></a><!--MD5=[4672eba38e49728da53d11aeb285b987]\n",
       "reverse link E3 to E4--><a href=\"psysml:53eca076-bd38-4ff8-88cd-ccaa057f7e59\" target=\"_top\" title=\"psysml:53eca076-bd38-4ff8-88cd-ccaa057f7e59\" xlink:actuate=\"onRequest\" xlink:href=\"psysml:53eca076-bd38-4ff8-88cd-ccaa057f7e59\" xlink:show=\"new\" xlink:title=\"psysml:53eca076-bd38-4ff8-88cd-ccaa057f7e59\" xlink:type=\"simple\"><path d=\"M173.69,253.27 C169.97,269.82 166.01,287.38 163.01,300.75 \" fill=\"none\" id=\"E3&lt;-E4\" style=\"stroke: #383838; stroke-width: 1.0;\"/><polygon fill=\"#FFFFFF\" points=\"176.61,240.31,171.3948,245.2901,173.9859,252.0196,179.2011,247.0395,176.61,240.31\" style=\"stroke: #383838; stroke-width: 1.0;\"/></a><!--MD5=[6f107eb264eda4b26325f39a5516f1f3]\n",
       "reverse link E5 to E3--><a href=\"psysml:34b277fa-246f-4890-8f8b-22f79f83c872\" target=\"_top\" title=\"psysml:34b277fa-246f-4890-8f8b-22f79f83c872\" xlink:actuate=\"onRequest\" xlink:href=\"psysml:34b277fa-246f-4890-8f8b-22f79f83c872\" xlink:show=\"new\" xlink:title=\"psysml:34b277fa-246f-4890-8f8b-22f79f83c872\" xlink:type=\"simple\"><path d=\"M134,99 C143.89,118.78 156.35,143.71 166.49,163.97 \" fill=\"none\" id=\"E5&lt;-E3\" style=\"stroke: #383838; stroke-width: 1.0;\"/><polygon fill=\"#FFFFFF\" points=\"128.08,87.15,127.1856,94.3054,133.4466,97.8831,134.341,90.7277,128.08,87.15\" style=\"stroke: #383838; stroke-width: 1.0;\"/><text fill=\"#000000\" font-family=\"sans-serif\" font-size=\"13\" lengthAdjust=\"spacingAndGlyphs\" textLength=\"7\" x=\"152\" y=\"130.0669\">c</text></a><!--MD5=[f51c6d1f1856fe338ac0413483fb1ccf]\n",
       "reverse link E5 to E2--><a href=\"psysml:085fc47f-09d9-4ca0-b48d-81ba6e318ca7\" target=\"_top\" title=\"psysml:085fc47f-09d9-4ca0-b48d-81ba6e318ca7\" xlink:actuate=\"onRequest\" xlink:href=\"psysml:085fc47f-09d9-4ca0-b48d-81ba6e318ca7\" xlink:show=\"new\" xlink:title=\"psysml:085fc47f-09d9-4ca0-b48d-81ba6e318ca7\" xlink:type=\"simple\"><path d=\"M104.55,99.41 C102.59,105.25 100.67,111.27 99,117 C92.96,137.73 87.39,161.71 83.67,178.73 \" fill=\"none\" id=\"E5&lt;-E2\" style=\"stroke: #383838; stroke-width: 1.0;\"/><polygon fill=\"#FFFFFF\" points=\"108.8,87.11,103.0605,91.4756,104.8828,98.4527,110.6223,94.0871,108.8,87.11\" style=\"stroke: #383838; stroke-width: 1.0;\"/><text fill=\"#000000\" font-family=\"sans-serif\" font-size=\"13\" lengthAdjust=\"spacingAndGlyphs\" textLength=\"33\" x=\"100\" y=\"130.0669\">newX</text></a><!--MD5=[c5921ff2b664206191a9e373ac917ab0]\n",
       "@startuml\r\n",
       "skinparam monochrome true\r\n",
       "skinparam classbackgroundcolor white\r\n",
       "skinparam shadowing false\r\n",
       "skinparam wrapWidth 300\r\n",
       "hide circle\r\n",
       "\r\n",
       "package \"TextualRepresentationTest\" as E1  [[psysml:1e396b56-292d-4ed9-bbba-ca6bb661746c ]]  {\r\n",
       "comp def \"Real\" as E2  <<(T,blue) dataType>> [[psysml:2e771e59-55ab-4895-8e71-4691f1152b9b ]] {\r\n",
       "}\r\n",
       "comp def \"C\" as E3  <<(T,blue) item def>> [[psysml:e4de1612-4570-4c3a-878c-e0dca14f25a7 ]] {\r\n",
       "- - attributes - -\r\n",
       "x: Real\r\n",
       "}\r\n",
       "comp usage \"x_constraint\" as E4  <<(T,blue) assertConstraint>> [[psysml:8c3cf46e-c423-4c70-a710-66f9a3632f6b ]] {\r\n",
       "}\r\n",
       "comp def \"setX\" as E5  <<(T,blue) action def>> [[psysml:7113fdf5-c3b3-43b5-a3fa-02abb845fbc2 ]] {\r\n",
       "}\r\n",
       "E3 o- - E4 [[psysml:53eca076-bd38-4ff8-88cd-ccaa057f7e59 ]] \r\n",
       "E5 o- - E3 [[psysml:34b277fa-246f-4890-8f8b-22f79f83c872 ]] : c\r\n",
       "E5 o- - E2 [[psysml:085fc47f-09d9-4ca0-b48d-81ba6e318ca7 ]] : newX\r\n",
       "}\r\n",
       "@enduml\r\n",
       "\n",
       "PlantUML version 1.2020.13(Sat Jun 13 12:26:38 UTC 2020)\n",
       "(EPL source distribution)\n",
       "Java Runtime: OpenJDK Runtime Environment\n",
       "JVM: OpenJDK 64-Bit Server VM\n",
       "Default Encoding: UTF-8\n",
       "Language: en\n",
       "Country: null\n",
       "--></g></svg>"
      ]
     },
     "execution_count": 38,
     "metadata": {},
     "output_type": "execute_result"
    }
   ],
   "source": [
    "%viz --style=\"DEFAULT\" --view=\"Tree\" \"TextualRepresentationTest\""
   ]
  },
  {
   "cell_type": "code",
   "execution_count": 39,
   "id": "987688a5",
   "metadata": {
    "execution": {
     "iopub.execute_input": "2021-06-30T09:21:19.252406Z",
     "iopub.status.busy": "2021-06-30T09:21:19.250224Z",
     "iopub.status.idle": "2021-06-30T09:21:19.264475Z",
     "shell.execute_reply": "2021-06-30T09:21:19.263464Z"
    }
   },
   "outputs": [
    {
     "data": {
      "image/svg+xml": [
       "<?xml version=\"1.0\" encoding=\"UTF-8\" standalone=\"no\"?><svg xmlns=\"http://www.w3.org/2000/svg\" xmlns:xlink=\"http://www.w3.org/1999/xlink\" contentScriptType=\"application/ecmascript\" contentStyleType=\"text/css\" height=\"12px\" preserveAspectRatio=\"none\" style=\"width:12px;height:12px;\" version=\"1.1\" viewBox=\"0 0 12 12\" width=\"12px\" zoomAndPan=\"magnify\"><defs/><g><!--MD5=[c5f280e076d0d61ccf4b0f27871bda1d]\n",
       "@startuml\r\n",
       "skinparam monochrome true\r\n",
       "skinparam classbackgroundcolor white\r\n",
       "skinparam shadowing false\r\n",
       "skinparam wrapWidth 300\r\n",
       "hide circle\r\n",
       "\r\n",
       "@enduml\r\n",
       "\n",
       "PlantUML version 1.2020.13(Sat Jun 13 12:26:38 UTC 2020)\n",
       "(EPL source distribution)\n",
       "Java Runtime: OpenJDK Runtime Environment\n",
       "JVM: OpenJDK 64-Bit Server VM\n",
       "Default Encoding: UTF-8\n",
       "Language: en\n",
       "Country: null\n",
       "--></g></svg>"
      ]
     },
     "execution_count": 39,
     "metadata": {},
     "output_type": "execute_result"
    }
   ],
   "source": [
    "%viz --style=\"DEFAULT\" --view=\"State\" \"TextualRepresentationTest\""
   ]
  },
  {
   "cell_type": "code",
   "execution_count": 40,
   "id": "2e0edf5f",
   "metadata": {
    "execution": {
     "iopub.execute_input": "2021-06-30T09:21:19.319424Z",
     "iopub.status.busy": "2021-06-30T09:21:19.318486Z",
     "iopub.status.idle": "2021-06-30T09:21:19.359171Z",
     "shell.execute_reply": "2021-06-30T09:21:19.358778Z"
    }
   },
   "outputs": [
    {
     "data": {
      "image/svg+xml": [
       "<?xml version=\"1.0\" encoding=\"UTF-8\" standalone=\"no\"?><svg xmlns=\"http://www.w3.org/2000/svg\" xmlns:xlink=\"http://www.w3.org/1999/xlink\" contentScriptType=\"application/ecmascript\" contentStyleType=\"text/css\" height=\"179px\" preserveAspectRatio=\"none\" style=\"width:398px;height:179px;\" version=\"1.1\" viewBox=\"0 0 398 179\" width=\"398px\" zoomAndPan=\"magnify\"><defs/><g><!--MD5=[fbc87193dbaf4d95561dea2c320d4a47]\n",
       "cluster E1--><a href=\"psysml:1e396b56-292d-4ed9-bbba-ca6bb661746c\" target=\"_top\" title=\"psysml:1e396b56-292d-4ed9-bbba-ca6bb661746c\" xlink:actuate=\"onRequest\" xlink:href=\"psysml:1e396b56-292d-4ed9-bbba-ca6bb661746c\" xlink:show=\"new\" xlink:title=\"psysml:1e396b56-292d-4ed9-bbba-ca6bb661746c\" xlink:type=\"simple\"><polygon fill=\"#FFFFFF\" points=\"16,6,236,6,243,28.2969,376,28.2969,376,167,16,167,16,6\" style=\"stroke: #000000; stroke-width: 1.5;\"/><line style=\"stroke: #000000; stroke-width: 1.5;\" x1=\"16\" x2=\"243\" y1=\"28.2969\" y2=\"28.2969\"/><text fill=\"#000000\" font-family=\"sans-serif\" font-size=\"14\" font-weight=\"bold\" lengthAdjust=\"spacingAndGlyphs\" textLength=\"214\" x=\"20\" y=\"20.9951\">TextualRepresentationTest</text></a><!--MD5=[f6df4d0ebaf0b5dfb2ced0ae5af7c670]\n",
       "cluster E4--><a href=\"psysml:7113fdf5-c3b3-43b5-a3fa-02abb845fbc2\" target=\"_top\" title=\"psysml:7113fdf5-c3b3-43b5-a3fa-02abb845fbc2\" xlink:actuate=\"onRequest\" xlink:href=\"psysml:7113fdf5-c3b3-43b5-a3fa-02abb845fbc2\" xlink:show=\"new\" xlink:title=\"psysml:7113fdf5-c3b3-43b5-a3fa-02abb845fbc2\" xlink:type=\"simple\"><rect fill=\"#FFFFFF\" height=\"88.5\" id=\"E4\" style=\"stroke: #383838; stroke-width: 1.5;\" width=\"96\" x=\"235.5\" y=\"62.5\"/><rect fill=\"#F8F8F8\" height=\"37.9375\" style=\"stroke: #383838; stroke-width: 1.5;\" width=\"96\" x=\"235.5\" y=\"62.5\"/><text fill=\"#000000\" font-family=\"sans-serif\" font-size=\"12\" font-style=\"italic\" lengthAdjust=\"spacingAndGlyphs\" textLength=\"77\" x=\"245\" y=\"78.6387\">«action def»</text><text fill=\"#000000\" font-family=\"sans-serif\" font-size=\"12\" lengthAdjust=\"spacingAndGlyphs\" textLength=\"27\" x=\"270\" y=\"92.6074\">setX</text></a><g id=\"E1.E2\"><a href=\"psysml:2e771e59-55ab-4895-8e71-4691f1152b9b\" target=\"_top\" title=\"psysml:2e771e59-55ab-4895-8e71-4691f1152b9b\" xlink:actuate=\"onRequest\" xlink:href=\"psysml:2e771e59-55ab-4895-8e71-4691f1152b9b\" xlink:show=\"new\" xlink:title=\"psysml:2e771e59-55ab-4895-8e71-4691f1152b9b\" xlink:type=\"simple\"><rect fill=\"#FFFFFF\" height=\"42.9375\" id=\"E2\" style=\"stroke: #383838; stroke-width: 1.5;\" width=\"79\" x=\"139.5\" y=\"41\"/><rect fill=\"#F8F8F8\" height=\"37.9375\" style=\"stroke: #383838; stroke-width: 1.5;\" width=\"79\" x=\"139.5\" y=\"41\"/><text fill=\"#000000\" font-family=\"sans-serif\" font-size=\"12\" font-style=\"italic\" lengthAdjust=\"spacingAndGlyphs\" textLength=\"72\" x=\"143\" y=\"57.1387\">«dataType»</text><text fill=\"#000000\" font-family=\"sans-serif\" font-size=\"12\" lengthAdjust=\"spacingAndGlyphs\" textLength=\"27\" x=\"165.5\" y=\"71.1074\">Real</text></a></g><g id=\"E1.E3\"><a href=\"psysml:e4de1612-4570-4c3a-878c-e0dca14f25a7\" target=\"_top\" title=\"psysml:e4de1612-4570-4c3a-878c-e0dca14f25a7\" xlink:actuate=\"onRequest\" xlink:href=\"psysml:e4de1612-4570-4c3a-878c-e0dca14f25a7\" xlink:show=\"new\" xlink:title=\"psysml:e4de1612-4570-4c3a-878c-e0dca14f25a7\" xlink:type=\"simple\"><rect fill=\"#FFFFFF\" height=\"42.9375\" id=\"E3\" style=\"stroke: #383838; stroke-width: 1.5;\" width=\"72\" x=\"32\" y=\"41\"/><rect fill=\"#F8F8F8\" height=\"37.9375\" style=\"stroke: #383838; stroke-width: 1.5;\" width=\"72\" x=\"32\" y=\"41\"/><text fill=\"#000000\" font-family=\"sans-serif\" font-size=\"12\" font-style=\"italic\" lengthAdjust=\"spacingAndGlyphs\" textLength=\"65\" x=\"35.5\" y=\"57.1387\">«item def»</text><text fill=\"#000000\" font-family=\"sans-serif\" font-size=\"12\" lengthAdjust=\"spacingAndGlyphs\" textLength=\"8\" x=\"64\" y=\"71.1074\">C</text></a></g><text fill=\"#000000\" font-family=\"sans-serif\" font-size=\"14\" lengthAdjust=\"spacingAndGlyphs\" textLength=\"8\" x=\"256\" y=\"41.1982\">c</text><rect fill=\"#383838\" height=\"12\" style=\"stroke: #F8F8F8; stroke-width: 1.5;\" width=\"12\" x=\"254\" y=\"56.5\"/><text fill=\"#000000\" font-family=\"sans-serif\" font-size=\"14\" lengthAdjust=\"spacingAndGlyphs\" textLength=\"38\" x=\"288\" y=\"41.1982\">newX</text><rect fill=\"#383838\" height=\"12\" style=\"stroke: #F8F8F8; stroke-width: 1.5;\" width=\"12\" x=\"301\" y=\"56.5\"/><!--MD5=[b737f5b2cd102c7281d828c15c0aa4c4]\n",
       "@startuml\r\n",
       "skinparam ranksep 10\r\n",
       "skinparam rectangle {\r\n",
       " backgroundColor<<block>> LightGreen\r\n",
       "}\r\n",
       "skinparam monochrome true\r\n",
       "skinparam classbackgroundcolor white\r\n",
       "skinparam shadowing false\r\n",
       "skinparam wrapWidth 300\r\n",
       "hide circle\r\n",
       "\r\n",
       "package \"TextualRepresentationTest\" as E1  [[psysml:1e396b56-292d-4ed9-bbba-ca6bb661746c ]]  {\r\n",
       "def \"Real\" as E2  <<(T,blue) dataType>> [[psysml:2e771e59-55ab-4895-8e71-4691f1152b9b ]] \r\n",
       "def \"C\" as E3  <<(T,blue) item def>> [[psysml:e4de1612-4570-4c3a-878c-e0dca14f25a7 ]] \r\n",
       "rec def \"setX\" as E4  <<(T,blue) action def>> [[psysml:7113fdf5-c3b3-43b5-a3fa-02abb845fbc2 ]] {\r\n",
       "portin \"c\" as E5  [[psysml:34b277fa-246f-4890-8f8b-22f79f83c872 ]] \r\n",
       "portin \"newX\" as E6  [[psysml:085fc47f-09d9-4ca0-b48d-81ba6e318ca7 ]] \r\n",
       "}\r\n",
       "\r\n",
       "}\r\n",
       "@enduml\r\n",
       "\n",
       "PlantUML version 1.2020.13(Sat Jun 13 12:26:38 UTC 2020)\n",
       "(EPL source distribution)\n",
       "Java Runtime: OpenJDK Runtime Environment\n",
       "JVM: OpenJDK 64-Bit Server VM\n",
       "Default Encoding: UTF-8\n",
       "Language: en\n",
       "Country: null\n",
       "--></g></svg>"
      ]
     },
     "execution_count": 40,
     "metadata": {},
     "output_type": "execute_result"
    }
   ],
   "source": [
    "%viz --style=\"DEFAULT\" --view=\"Interconnection\" \"TextualRepresentationTest\""
   ]
  },
  {
   "cell_type": "code",
   "execution_count": 41,
   "id": "dc722f97",
   "metadata": {
    "execution": {
     "iopub.execute_input": "2021-06-30T09:21:19.410918Z",
     "iopub.status.busy": "2021-06-30T09:21:19.409609Z",
     "iopub.status.idle": "2021-06-30T09:21:19.449241Z",
     "shell.execute_reply": "2021-06-30T09:21:19.448808Z"
    }
   },
   "outputs": [
    {
     "data": {
      "image/svg+xml": [
       "<?xml version=\"1.0\" encoding=\"UTF-8\" standalone=\"no\"?><svg xmlns=\"http://www.w3.org/2000/svg\" xmlns:xlink=\"http://www.w3.org/1999/xlink\" contentScriptType=\"application/ecmascript\" contentStyleType=\"text/css\" height=\"126px\" preserveAspectRatio=\"none\" style=\"width:150px;height:126px;\" version=\"1.1\" viewBox=\"0 0 150 126\" width=\"150px\" zoomAndPan=\"magnify\"><defs/><g><!--MD5=[fbc87193dbaf4d95561dea2c320d4a47]\n",
       "cluster E1--><a href=\"psysml:7113fdf5-c3b3-43b5-a3fa-02abb845fbc2\" target=\"_top\" title=\"psysml:7113fdf5-c3b3-43b5-a3fa-02abb845fbc2\" xlink:actuate=\"onRequest\" xlink:href=\"psysml:7113fdf5-c3b3-43b5-a3fa-02abb845fbc2\" xlink:show=\"new\" xlink:title=\"psysml:7113fdf5-c3b3-43b5-a3fa-02abb845fbc2\" xlink:type=\"simple\"><rect fill=\"#FFFFFF\" height=\"73\" id=\"E1\" style=\"stroke: #383838; stroke-width: 1.5;\" width=\"132\" x=\"7\" y=\"42.0986\"/><rect fill=\"#F8F8F8\" height=\"37.9375\" style=\"stroke: #383838; stroke-width: 1.5;\" width=\"132\" x=\"7\" y=\"42.0986\"/><text fill=\"#000000\" font-family=\"sans-serif\" font-size=\"12\" font-style=\"italic\" lengthAdjust=\"spacingAndGlyphs\" textLength=\"77\" x=\"34.5\" y=\"58.2373\">«action def»</text><text fill=\"#000000\" font-family=\"sans-serif\" font-size=\"12\" lengthAdjust=\"spacingAndGlyphs\" textLength=\"27\" x=\"59.5\" y=\"72.2061\">setX</text></a><text fill=\"#000000\" font-family=\"sans-serif\" font-size=\"14\" lengthAdjust=\"spacingAndGlyphs\" textLength=\"8\" x=\"21\" y=\"20.7969\">c</text><rect fill=\"#383838\" height=\"12\" style=\"stroke: #F8F8F8; stroke-width: 1.5;\" width=\"12\" x=\"19\" y=\"36.0986\"/><text fill=\"#000000\" font-family=\"sans-serif\" font-size=\"14\" lengthAdjust=\"spacingAndGlyphs\" textLength=\"38\" x=\"53\" y=\"20.7969\">newX</text><rect fill=\"#383838\" height=\"12\" style=\"stroke: #F8F8F8; stroke-width: 1.5;\" width=\"12\" x=\"66\" y=\"36.0986\"/><!--MD5=[6a38709ad327d8eb0f7e767618e4bc48]\n",
       "@startuml\r\n",
       "skinparam ranksep 8\r\n",
       "skinparam monochrome true\r\n",
       "skinparam classbackgroundcolor white\r\n",
       "skinparam shadowing false\r\n",
       "skinparam wrapWidth 300\r\n",
       "hide circle\r\n",
       "\r\n",
       "rec def \"setX\" as E1  <<(T,blue) action def>> [[psysml:7113fdf5-c3b3-43b5-a3fa-02abb845fbc2 ]] {\r\n",
       "portin \"c\" as E2  [[psysml:34b277fa-246f-4890-8f8b-22f79f83c872 ]] \r\n",
       "portin \"newX\" as E3  [[psysml:085fc47f-09d9-4ca0-b48d-81ba6e318ca7 ]] \r\n",
       "}\r\n",
       "\r\n",
       "@enduml\r\n",
       "\n",
       "PlantUML version 1.2020.13(Sat Jun 13 12:26:38 UTC 2020)\n",
       "(EPL source distribution)\n",
       "Java Runtime: OpenJDK Runtime Environment\n",
       "JVM: OpenJDK 64-Bit Server VM\n",
       "Default Encoding: UTF-8\n",
       "Language: en\n",
       "Country: null\n",
       "--></g></svg>"
      ]
     },
     "execution_count": 41,
     "metadata": {},
     "output_type": "execute_result"
    }
   ],
   "source": [
    "%viz --style=\"DEFAULT\" --view=\"Action\" \"TextualRepresentationTest\""
   ]
  },
  {
   "cell_type": "code",
   "execution_count": 42,
   "id": "38561f13",
   "metadata": {
    "execution": {
     "iopub.execute_input": "2021-06-30T09:21:19.498779Z",
     "iopub.status.busy": "2021-06-30T09:21:19.497996Z",
     "iopub.status.idle": "2021-06-30T09:21:19.561125Z",
     "shell.execute_reply": "2021-06-30T09:21:19.548531Z"
    }
   },
   "outputs": [
    {
     "data": {
      "image/svg+xml": [
       "<?xml version=\"1.0\" encoding=\"UTF-8\" standalone=\"no\"?><svg xmlns=\"http://www.w3.org/2000/svg\" xmlns:xlink=\"http://www.w3.org/1999/xlink\" contentScriptType=\"application/ecmascript\" contentStyleType=\"text/css\" height=\"375px\" preserveAspectRatio=\"none\" style=\"width:268px;height:375px;\" version=\"1.1\" viewBox=\"0 0 268 375\" width=\"268px\" zoomAndPan=\"magnify\"><defs/><g><!--MD5=[fbc87193dbaf4d95561dea2c320d4a47]\n",
       "cluster E1--><a href=\"psysml:1e396b56-292d-4ed9-bbba-ca6bb661746c\" target=\"_top\" title=\"psysml:1e396b56-292d-4ed9-bbba-ca6bb661746c\" xlink:actuate=\"onRequest\" xlink:href=\"psysml:1e396b56-292d-4ed9-bbba-ca6bb661746c\" xlink:show=\"new\" xlink:title=\"psysml:1e396b56-292d-4ed9-bbba-ca6bb661746c\" xlink:type=\"simple\"><polygon fill=\"#FFFFFF\" points=\"16,6,236,6,243,28.2969,246,28.2969,246,363,16,363,16,6\" style=\"stroke: #000000; stroke-width: 1.5;\"/><line style=\"stroke: #000000; stroke-width: 1.5;\" x1=\"16\" x2=\"243\" y1=\"28.2969\" y2=\"28.2969\"/><text fill=\"#000000\" font-family=\"sans-serif\" font-size=\"14\" font-weight=\"bold\" lengthAdjust=\"spacingAndGlyphs\" textLength=\"214\" x=\"20\" y=\"20.9951\">TextualRepresentationTest</text></a><!--MD5=[b4997ac47864f28c2f74865a473b2911]\n",
       "class E2--><a href=\"psysml:2e771e59-55ab-4895-8e71-4691f1152b9b\" target=\"_top\" title=\"psysml:2e771e59-55ab-4895-8e71-4691f1152b9b\" xlink:actuate=\"onRequest\" xlink:href=\"psysml:2e771e59-55ab-4895-8e71-4691f1152b9b\" xlink:show=\"new\" xlink:title=\"psysml:2e771e59-55ab-4895-8e71-4691f1152b9b\" xlink:type=\"simple\"><rect fill=\"#FFFFFF\" height=\"45.9375\" id=\"E2\" style=\"stroke: #383838; stroke-width: 1.5;\" width=\"74\" x=\"42\" y=\"179\"/><text fill=\"#000000\" font-family=\"sans-serif\" font-size=\"12\" font-style=\"italic\" lengthAdjust=\"spacingAndGlyphs\" textLength=\"72\" x=\"43\" y=\"195.1387\">«dataType»</text><text fill=\"#000000\" font-family=\"sans-serif\" font-size=\"12\" lengthAdjust=\"spacingAndGlyphs\" textLength=\"27\" x=\"65.5\" y=\"209.1074\">Real</text><line style=\"stroke: #383838; stroke-width: 1.5;\" x1=\"43\" x2=\"115\" y1=\"216.9375\" y2=\"216.9375\"/></a><!--MD5=[09b614a08d8cba4a07c9adeb5e0fee81]\n",
       "class E3--><a href=\"psysml:e4de1612-4570-4c3a-878c-e0dca14f25a7\" target=\"_top\" title=\"psysml:e4de1612-4570-4c3a-878c-e0dca14f25a7\" xlink:actuate=\"onRequest\" xlink:href=\"psysml:e4de1612-4570-4c3a-878c-e0dca14f25a7\" xlink:show=\"new\" xlink:title=\"psysml:e4de1612-4570-4c3a-878c-e0dca14f25a7\" xlink:type=\"simple\"><rect fill=\"#FFFFFF\" height=\"75.5469\" id=\"E3\" style=\"stroke: #383838; stroke-width: 1.5;\" width=\"67\" x=\"151.5\" y=\"164\"/><text fill=\"#000000\" font-family=\"sans-serif\" font-size=\"12\" font-style=\"italic\" lengthAdjust=\"spacingAndGlyphs\" textLength=\"65\" x=\"152.5\" y=\"180.1387\">«item def»</text><text fill=\"#000000\" font-family=\"sans-serif\" font-size=\"12\" lengthAdjust=\"spacingAndGlyphs\" textLength=\"8\" x=\"181\" y=\"194.1074\">C</text><line style=\"stroke: #383838; stroke-width: 1.5;\" x1=\"152.5\" x2=\"217.5\" y1=\"201.9375\" y2=\"201.9375\"/><text fill=\"#000000\" font-family=\"sans-serif\" font-size=\"11\" lengthAdjust=\"spacingAndGlyphs\" textLength=\"38\" x=\"157.5\" y=\"232.9526\">x: Real</text><line style=\"stroke: #383838; stroke-width: 1.0;\" x1=\"152.5\" x2=\"157.5\" y1=\"216.3398\" y2=\"216.3398\"/><text fill=\"#000000\" font-family=\"sans-serif\" font-size=\"11\" lengthAdjust=\"spacingAndGlyphs\" textLength=\"55\" x=\"157.5\" y=\"219.6479\">attributes</text><line style=\"stroke: #383838; stroke-width: 1.0;\" x1=\"212.5\" x2=\"217.5\" y1=\"216.3398\" y2=\"216.3398\"/></a><!--MD5=[ebbe1d658d1005bcc118a6aa81145e00]\n",
       "class E4--><a href=\"psysml:8c3cf46e-c423-4c70-a710-66f9a3632f6b\" target=\"_top\" title=\"psysml:8c3cf46e-c423-4c70-a710-66f9a3632f6b\" xlink:actuate=\"onRequest\" xlink:href=\"psysml:8c3cf46e-c423-4c70-a710-66f9a3632f6b\" xlink:show=\"new\" xlink:title=\"psysml:8c3cf46e-c423-4c70-a710-66f9a3632f6b\" xlink:type=\"simple\"><rect fill=\"#FFFFFF\" height=\"45.9375\" id=\"E4\" rx=\"10\" ry=\"10\" style=\"stroke: #383838; stroke-width: 1.5;\" width=\"121\" x=\"97.5\" y=\"301\"/><text fill=\"#000000\" font-family=\"sans-serif\" font-size=\"12\" font-style=\"italic\" lengthAdjust=\"spacingAndGlyphs\" textLength=\"119\" x=\"98.5\" y=\"317.1387\">«assertConstraint»</text><text fill=\"#000000\" font-family=\"sans-serif\" font-size=\"12\" lengthAdjust=\"spacingAndGlyphs\" textLength=\"76\" x=\"120\" y=\"331.1074\">x_constraint</text><line style=\"stroke: #383838; stroke-width: 1.5;\" x1=\"98.5\" x2=\"217.5\" y1=\"338.9375\" y2=\"338.9375\"/></a><!--MD5=[270fce915f116d4de14055a7c1d9a0f3]\n",
       "class E5--><a href=\"psysml:7113fdf5-c3b3-43b5-a3fa-02abb845fbc2\" target=\"_top\" title=\"psysml:7113fdf5-c3b3-43b5-a3fa-02abb845fbc2\" xlink:actuate=\"onRequest\" xlink:href=\"psysml:7113fdf5-c3b3-43b5-a3fa-02abb845fbc2\" xlink:show=\"new\" xlink:title=\"psysml:7113fdf5-c3b3-43b5-a3fa-02abb845fbc2\" xlink:type=\"simple\"><rect fill=\"#FFFFFF\" height=\"45.9375\" id=\"E5\" style=\"stroke: #383838; stroke-width: 1.5;\" width=\"79\" x=\"77.5\" y=\"41\"/><text fill=\"#000000\" font-family=\"sans-serif\" font-size=\"12\" font-style=\"italic\" lengthAdjust=\"spacingAndGlyphs\" textLength=\"77\" x=\"78.5\" y=\"57.1387\">«action def»</text><text fill=\"#000000\" font-family=\"sans-serif\" font-size=\"12\" lengthAdjust=\"spacingAndGlyphs\" textLength=\"27\" x=\"103.5\" y=\"71.1074\">setX</text><line style=\"stroke: #383838; stroke-width: 1.5;\" x1=\"78.5\" x2=\"155.5\" y1=\"78.9375\" y2=\"78.9375\"/></a><!--MD5=[4672eba38e49728da53d11aeb285b987]\n",
       "reverse link E3 to E4--><a href=\"psysml:53eca076-bd38-4ff8-88cd-ccaa057f7e59\" target=\"_top\" title=\"psysml:53eca076-bd38-4ff8-88cd-ccaa057f7e59\" xlink:actuate=\"onRequest\" xlink:href=\"psysml:53eca076-bd38-4ff8-88cd-ccaa057f7e59\" xlink:show=\"new\" xlink:title=\"psysml:53eca076-bd38-4ff8-88cd-ccaa057f7e59\" xlink:type=\"simple\"><path d=\"M173.69,253.27 C169.97,269.82 166.01,287.38 163.01,300.75 \" fill=\"none\" id=\"E3&lt;-E4\" style=\"stroke: #383838; stroke-width: 1.0;\"/><polygon fill=\"#FFFFFF\" points=\"176.61,240.31,171.3948,245.2901,173.9859,252.0196,179.2011,247.0395,176.61,240.31\" style=\"stroke: #383838; stroke-width: 1.0;\"/></a><!--MD5=[6f107eb264eda4b26325f39a5516f1f3]\n",
       "reverse link E5 to E3--><a href=\"psysml:34b277fa-246f-4890-8f8b-22f79f83c872\" target=\"_top\" title=\"psysml:34b277fa-246f-4890-8f8b-22f79f83c872\" xlink:actuate=\"onRequest\" xlink:href=\"psysml:34b277fa-246f-4890-8f8b-22f79f83c872\" xlink:show=\"new\" xlink:title=\"psysml:34b277fa-246f-4890-8f8b-22f79f83c872\" xlink:type=\"simple\"><path d=\"M134,99 C143.89,118.78 156.35,143.71 166.49,163.97 \" fill=\"none\" id=\"E5&lt;-E3\" style=\"stroke: #383838; stroke-width: 1.0;\"/><polygon fill=\"#FFFFFF\" points=\"128.08,87.15,127.1856,94.3054,133.4466,97.8831,134.341,90.7277,128.08,87.15\" style=\"stroke: #383838; stroke-width: 1.0;\"/><text fill=\"#000000\" font-family=\"sans-serif\" font-size=\"13\" lengthAdjust=\"spacingAndGlyphs\" textLength=\"7\" x=\"152\" y=\"130.0669\">c</text></a><!--MD5=[f51c6d1f1856fe338ac0413483fb1ccf]\n",
       "reverse link E5 to E2--><a href=\"psysml:085fc47f-09d9-4ca0-b48d-81ba6e318ca7\" target=\"_top\" title=\"psysml:085fc47f-09d9-4ca0-b48d-81ba6e318ca7\" xlink:actuate=\"onRequest\" xlink:href=\"psysml:085fc47f-09d9-4ca0-b48d-81ba6e318ca7\" xlink:show=\"new\" xlink:title=\"psysml:085fc47f-09d9-4ca0-b48d-81ba6e318ca7\" xlink:type=\"simple\"><path d=\"M104.55,99.41 C102.59,105.25 100.67,111.27 99,117 C92.96,137.73 87.39,161.71 83.67,178.73 \" fill=\"none\" id=\"E5&lt;-E2\" style=\"stroke: #383838; stroke-width: 1.0;\"/><polygon fill=\"#FFFFFF\" points=\"108.8,87.11,103.0605,91.4756,104.8828,98.4527,110.6223,94.0871,108.8,87.11\" style=\"stroke: #383838; stroke-width: 1.0;\"/><text fill=\"#000000\" font-family=\"sans-serif\" font-size=\"13\" lengthAdjust=\"spacingAndGlyphs\" textLength=\"33\" x=\"100\" y=\"130.0669\">newX</text></a><!--MD5=[c5921ff2b664206191a9e373ac917ab0]\n",
       "@startuml\r\n",
       "skinparam monochrome true\r\n",
       "skinparam classbackgroundcolor white\r\n",
       "skinparam shadowing false\r\n",
       "skinparam wrapWidth 300\r\n",
       "hide circle\r\n",
       "\r\n",
       "package \"TextualRepresentationTest\" as E1  [[psysml:1e396b56-292d-4ed9-bbba-ca6bb661746c ]]  {\r\n",
       "comp def \"Real\" as E2  <<(T,blue) dataType>> [[psysml:2e771e59-55ab-4895-8e71-4691f1152b9b ]] {\r\n",
       "}\r\n",
       "comp def \"C\" as E3  <<(T,blue) item def>> [[psysml:e4de1612-4570-4c3a-878c-e0dca14f25a7 ]] {\r\n",
       "- - attributes - -\r\n",
       "x: Real\r\n",
       "}\r\n",
       "comp usage \"x_constraint\" as E4  <<(T,blue) assertConstraint>> [[psysml:8c3cf46e-c423-4c70-a710-66f9a3632f6b ]] {\r\n",
       "}\r\n",
       "comp def \"setX\" as E5  <<(T,blue) action def>> [[psysml:7113fdf5-c3b3-43b5-a3fa-02abb845fbc2 ]] {\r\n",
       "}\r\n",
       "E3 o- - E4 [[psysml:53eca076-bd38-4ff8-88cd-ccaa057f7e59 ]] \r\n",
       "E5 o- - E3 [[psysml:34b277fa-246f-4890-8f8b-22f79f83c872 ]] : c\r\n",
       "E5 o- - E2 [[psysml:085fc47f-09d9-4ca0-b48d-81ba6e318ca7 ]] : newX\r\n",
       "}\r\n",
       "@enduml\r\n",
       "\n",
       "PlantUML version 1.2020.13(Sat Jun 13 12:26:38 UTC 2020)\n",
       "(EPL source distribution)\n",
       "Java Runtime: OpenJDK Runtime Environment\n",
       "JVM: OpenJDK 64-Bit Server VM\n",
       "Default Encoding: UTF-8\n",
       "Language: en\n",
       "Country: null\n",
       "--></g></svg>"
      ]
     },
     "execution_count": 42,
     "metadata": {},
     "output_type": "execute_result"
    }
   ],
   "source": [
    "%viz --style=\"DEFAULT\" --view=\"Sequence\" \"TextualRepresentationTest\""
   ]
  },
  {
   "cell_type": "code",
   "execution_count": 43,
   "id": "682e6fa9",
   "metadata": {
    "execution": {
     "iopub.execute_input": "2021-06-30T09:21:19.620760Z",
     "iopub.status.busy": "2021-06-30T09:21:19.620330Z",
     "iopub.status.idle": "2021-06-30T09:21:19.681691Z",
     "shell.execute_reply": "2021-06-30T09:21:19.680160Z"
    }
   },
   "outputs": [
    {
     "data": {
      "image/svg+xml": [
       "<?xml version=\"1.0\" encoding=\"UTF-8\" standalone=\"no\"?><svg xmlns=\"http://www.w3.org/2000/svg\" xmlns:xlink=\"http://www.w3.org/1999/xlink\" contentScriptType=\"application/ecmascript\" contentStyleType=\"text/css\" height=\"261px\" preserveAspectRatio=\"none\" style=\"width:389px;height:261px;\" version=\"1.1\" viewBox=\"0 0 389 261\" width=\"389px\" zoomAndPan=\"magnify\"><defs/><g><!--MD5=[fbc87193dbaf4d95561dea2c320d4a47]\n",
       "cluster E1--><a href=\"psysml:1e396b56-292d-4ed9-bbba-ca6bb661746c\" target=\"_top\" title=\"psysml:1e396b56-292d-4ed9-bbba-ca6bb661746c\" xlink:actuate=\"onRequest\" xlink:href=\"psysml:1e396b56-292d-4ed9-bbba-ca6bb661746c\" xlink:show=\"new\" xlink:title=\"psysml:1e396b56-292d-4ed9-bbba-ca6bb661746c\" xlink:type=\"simple\"><polygon fill=\"#FFFFFF\" points=\"16,6,236,6,243,28.2969,367,28.2969,367,249.5,16,249.5,16,6\" style=\"stroke: #000000; stroke-width: 1.5;\"/><line style=\"stroke: #000000; stroke-width: 1.5;\" x1=\"16\" x2=\"243\" y1=\"28.2969\" y2=\"28.2969\"/><text fill=\"#000000\" font-family=\"sans-serif\" font-size=\"14\" font-weight=\"bold\" lengthAdjust=\"spacingAndGlyphs\" textLength=\"214\" x=\"20\" y=\"20.9951\">TextualRepresentationTest</text></a><!--MD5=[de5ec2e2e8f62f467e546659f5068c88]\n",
       "cluster E5--><a href=\"psysml:7113fdf5-c3b3-43b5-a3fa-02abb845fbc2\" target=\"_top\" title=\"psysml:7113fdf5-c3b3-43b5-a3fa-02abb845fbc2\" xlink:actuate=\"onRequest\" xlink:href=\"psysml:7113fdf5-c3b3-43b5-a3fa-02abb845fbc2\" xlink:show=\"new\" xlink:title=\"psysml:7113fdf5-c3b3-43b5-a3fa-02abb845fbc2\" xlink:type=\"simple\"><rect fill=\"#FFFFFF\" height=\"154.5\" id=\"E5\" style=\"stroke: #383838; stroke-width: 1.5;\" width=\"96\" x=\"225.5\" y=\"79\"/><rect fill=\"#F8F8F8\" height=\"37.9375\" style=\"stroke: #383838; stroke-width: 1.5;\" width=\"96\" x=\"225.5\" y=\"79\"/><text fill=\"#000000\" font-family=\"sans-serif\" font-size=\"12\" font-style=\"italic\" lengthAdjust=\"spacingAndGlyphs\" textLength=\"77\" x=\"235\" y=\"95.1387\">«action def»</text><text fill=\"#000000\" font-family=\"sans-serif\" font-size=\"12\" lengthAdjust=\"spacingAndGlyphs\" textLength=\"27\" x=\"260\" y=\"109.1074\">setX</text></a><!--MD5=[b4997ac47864f28c2f74865a473b2911]\n",
       "class E2--><a href=\"psysml:2e771e59-55ab-4895-8e71-4691f1152b9b\" target=\"_top\" title=\"psysml:2e771e59-55ab-4895-8e71-4691f1152b9b\" xlink:actuate=\"onRequest\" xlink:href=\"psysml:2e771e59-55ab-4895-8e71-4691f1152b9b\" xlink:show=\"new\" xlink:title=\"psysml:2e771e59-55ab-4895-8e71-4691f1152b9b\" xlink:type=\"simple\"><rect fill=\"#FFFFFF\" height=\"45.9375\" id=\"E2\" style=\"stroke: #383838; stroke-width: 1.5;\" width=\"74\" x=\"135\" y=\"56\"/><text fill=\"#000000\" font-family=\"sans-serif\" font-size=\"12\" font-style=\"italic\" lengthAdjust=\"spacingAndGlyphs\" textLength=\"72\" x=\"136\" y=\"72.1387\">«dataType»</text><text fill=\"#000000\" font-family=\"sans-serif\" font-size=\"12\" lengthAdjust=\"spacingAndGlyphs\" textLength=\"27\" x=\"158.5\" y=\"86.1074\">Real</text><line style=\"stroke: #383838; stroke-width: 1.5;\" x1=\"136\" x2=\"208\" y1=\"93.9375\" y2=\"93.9375\"/></a><!--MD5=[09b614a08d8cba4a07c9adeb5e0fee81]\n",
       "class E3--><a href=\"psysml:e4de1612-4570-4c3a-878c-e0dca14f25a7\" target=\"_top\" title=\"psysml:e4de1612-4570-4c3a-878c-e0dca14f25a7\" xlink:actuate=\"onRequest\" xlink:href=\"psysml:e4de1612-4570-4c3a-878c-e0dca14f25a7\" xlink:show=\"new\" xlink:title=\"psysml:e4de1612-4570-4c3a-878c-e0dca14f25a7\" xlink:type=\"simple\"><rect fill=\"#FFFFFF\" height=\"75.5469\" id=\"E3\" style=\"stroke: #383838; stroke-width: 1.5;\" width=\"67\" x=\"32.5\" y=\"41\"/><text fill=\"#000000\" font-family=\"sans-serif\" font-size=\"12\" font-style=\"italic\" lengthAdjust=\"spacingAndGlyphs\" textLength=\"65\" x=\"33.5\" y=\"57.1387\">«item def»</text><text fill=\"#000000\" font-family=\"sans-serif\" font-size=\"12\" lengthAdjust=\"spacingAndGlyphs\" textLength=\"8\" x=\"62\" y=\"71.1074\">C</text><line style=\"stroke: #383838; stroke-width: 1.5;\" x1=\"33.5\" x2=\"98.5\" y1=\"78.9375\" y2=\"78.9375\"/><text fill=\"#000000\" font-family=\"sans-serif\" font-size=\"11\" lengthAdjust=\"spacingAndGlyphs\" textLength=\"38\" x=\"38.5\" y=\"109.9526\">x: Real</text><line style=\"stroke: #383838; stroke-width: 1.0;\" x1=\"33.5\" x2=\"38.5\" y1=\"93.3398\" y2=\"93.3398\"/><text fill=\"#000000\" font-family=\"sans-serif\" font-size=\"11\" lengthAdjust=\"spacingAndGlyphs\" textLength=\"55\" x=\"38.5\" y=\"96.6479\">attributes</text><line style=\"stroke: #383838; stroke-width: 1.0;\" x1=\"93.5\" x2=\"98.5\" y1=\"93.3398\" y2=\"93.3398\"/></a><!--MD5=[ebbe1d658d1005bcc118a6aa81145e00]\n",
       "class E4--><a href=\"psysml:8c3cf46e-c423-4c70-a710-66f9a3632f6b\" target=\"_top\" title=\"psysml:8c3cf46e-c423-4c70-a710-66f9a3632f6b\" xlink:actuate=\"onRequest\" xlink:href=\"psysml:8c3cf46e-c423-4c70-a710-66f9a3632f6b\" xlink:show=\"new\" xlink:title=\"psysml:8c3cf46e-c423-4c70-a710-66f9a3632f6b\" xlink:type=\"simple\"><rect fill=\"#FFFFFF\" height=\"45.9375\" id=\"E4\" rx=\"10\" ry=\"10\" style=\"stroke: #383838; stroke-width: 1.5;\" width=\"121\" x=\"32.5\" y=\"177\"/><text fill=\"#000000\" font-family=\"sans-serif\" font-size=\"12\" font-style=\"italic\" lengthAdjust=\"spacingAndGlyphs\" textLength=\"119\" x=\"33.5\" y=\"193.1387\">«assertConstraint»</text><text fill=\"#000000\" font-family=\"sans-serif\" font-size=\"12\" lengthAdjust=\"spacingAndGlyphs\" textLength=\"76\" x=\"55\" y=\"207.1074\">x_constraint</text><line style=\"stroke: #383838; stroke-width: 1.5;\" x1=\"33.5\" x2=\"152.5\" y1=\"214.9375\" y2=\"214.9375\"/></a><text fill=\"#000000\" font-family=\"sans-serif\" font-size=\"14\" lengthAdjust=\"spacingAndGlyphs\" textLength=\"8\" x=\"246\" y=\"57.6982\">c</text><rect fill=\"#383838\" height=\"12\" style=\"stroke: #F8F8F8; stroke-width: 1.5;\" width=\"12\" x=\"244\" y=\"73\"/><text fill=\"#000000\" font-family=\"sans-serif\" font-size=\"14\" lengthAdjust=\"spacingAndGlyphs\" textLength=\"38\" x=\"278\" y=\"57.6982\">newX</text><rect fill=\"#383838\" height=\"12\" style=\"stroke: #F8F8F8; stroke-width: 1.5;\" width=\"12\" x=\"291\" y=\"73\"/><!--MD5=[4672eba38e49728da53d11aeb285b987]\n",
       "reverse link E3 to E4--><a href=\"psysml:53eca076-bd38-4ff8-88cd-ccaa057f7e59\" target=\"_top\" title=\"psysml:53eca076-bd38-4ff8-88cd-ccaa057f7e59\" xlink:actuate=\"onRequest\" xlink:href=\"psysml:53eca076-bd38-4ff8-88cd-ccaa057f7e59\" xlink:show=\"new\" xlink:title=\"psysml:53eca076-bd38-4ff8-88cd-ccaa057f7e59\" xlink:type=\"simple\"><path d=\"M77.31,129.85 C81.03,146.26 84.99,163.68 87.99,176.93 \" fill=\"none\" id=\"E3&lt;-E4\" style=\"stroke: #383838; stroke-width: 1.0;\"/><polygon fill=\"#FFFFFF\" points=\"74.39,117,71.8133,123.735,77.0392,128.7039,79.6159,121.9689,74.39,117\" style=\"stroke: #383838; stroke-width: 1.0;\"/></a><!--MD5=[ab9e765bf7240ff921713dd735c2e16e]\n",
       "@startuml\r\n",
       "skinparam monochrome true\r\n",
       "skinparam classbackgroundcolor white\r\n",
       "skinparam shadowing false\r\n",
       "skinparam wrapWidth 300\r\n",
       "hide circle\r\n",
       "\r\n",
       "package \"TextualRepresentationTest\" as E1  [[psysml:1e396b56-292d-4ed9-bbba-ca6bb661746c ]]  {\r\n",
       "comp def \"Real\" as E2  <<(T,blue) dataType>> [[psysml:2e771e59-55ab-4895-8e71-4691f1152b9b ]] {\r\n",
       "}\r\n",
       "comp def \"C\" as E3  <<(T,blue) item def>> [[psysml:e4de1612-4570-4c3a-878c-e0dca14f25a7 ]] {\r\n",
       "- - attributes - -\r\n",
       "x: Real\r\n",
       "}\r\n",
       "comp usage \"x_constraint\" as E4  <<(T,blue) assertConstraint>> [[psysml:8c3cf46e-c423-4c70-a710-66f9a3632f6b ]] {\r\n",
       "}\r\n",
       "rec def \"setX\" as E5  <<(T,blue) action def>> [[psysml:7113fdf5-c3b3-43b5-a3fa-02abb845fbc2 ]] {\r\n",
       "portin \"c\" as E6  [[psysml:34b277fa-246f-4890-8f8b-22f79f83c872 ]] \r\n",
       "portin \"newX\" as E7  [[psysml:085fc47f-09d9-4ca0-b48d-81ba6e318ca7 ]] \r\n",
       "}\r\n",
       "\r\n",
       "E3 o- - E4 [[psysml:53eca076-bd38-4ff8-88cd-ccaa057f7e59 ]] \r\n",
       "}\r\n",
       "@enduml\r\n",
       "\n",
       "PlantUML version 1.2020.13(Sat Jun 13 12:26:38 UTC 2020)\n",
       "(EPL source distribution)\n",
       "Java Runtime: OpenJDK Runtime Environment\n",
       "JVM: OpenJDK 64-Bit Server VM\n",
       "Default Encoding: UTF-8\n",
       "Language: en\n",
       "Country: null\n",
       "--></g></svg>"
      ]
     },
     "execution_count": 43,
     "metadata": {},
     "output_type": "execute_result"
    }
   ],
   "source": [
    "%viz --style=\"DEFAULT\" --view=\"MIXED\" \"TextualRepresentationTest\""
   ]
  },
  {
   "cell_type": "code",
   "execution_count": 44,
   "id": "21c0981c",
   "metadata": {
    "execution": {
     "iopub.execute_input": "2021-06-30T09:21:19.735102Z",
     "iopub.status.busy": "2021-06-30T09:21:19.733254Z",
     "iopub.status.idle": "2021-06-30T09:21:19.802992Z",
     "shell.execute_reply": "2021-06-30T09:21:19.800406Z"
    }
   },
   "outputs": [
    {
     "data": {
      "image/svg+xml": [
       "<?xml version=\"1.0\" encoding=\"UTF-8\" standalone=\"no\"?><svg xmlns=\"http://www.w3.org/2000/svg\" xmlns:xlink=\"http://www.w3.org/1999/xlink\" contentScriptType=\"application/ecmascript\" contentStyleType=\"text/css\" height=\"261px\" preserveAspectRatio=\"none\" style=\"width:389px;height:261px;\" version=\"1.1\" viewBox=\"0 0 389 261\" width=\"389px\" zoomAndPan=\"magnify\"><defs/><g><!--MD5=[fbc87193dbaf4d95561dea2c320d4a47]\n",
       "cluster E1--><a href=\"psysml:1e396b56-292d-4ed9-bbba-ca6bb661746c\" target=\"_top\" title=\"psysml:1e396b56-292d-4ed9-bbba-ca6bb661746c\" xlink:actuate=\"onRequest\" xlink:href=\"psysml:1e396b56-292d-4ed9-bbba-ca6bb661746c\" xlink:show=\"new\" xlink:title=\"psysml:1e396b56-292d-4ed9-bbba-ca6bb661746c\" xlink:type=\"simple\"><polygon fill=\"#FFFFFF\" points=\"16,6,236,6,243,28.2969,367,28.2969,367,249.5,16,249.5,16,6\" style=\"stroke: #000000; stroke-width: 1.5;\"/><line style=\"stroke: #000000; stroke-width: 1.5;\" x1=\"16\" x2=\"243\" y1=\"28.2969\" y2=\"28.2969\"/><text fill=\"#000000\" font-family=\"sans-serif\" font-size=\"14\" font-weight=\"bold\" lengthAdjust=\"spacingAndGlyphs\" textLength=\"214\" x=\"20\" y=\"20.9951\">TextualRepresentationTest</text></a><!--MD5=[de5ec2e2e8f62f467e546659f5068c88]\n",
       "cluster E5--><a href=\"psysml:7113fdf5-c3b3-43b5-a3fa-02abb845fbc2\" target=\"_top\" title=\"psysml:7113fdf5-c3b3-43b5-a3fa-02abb845fbc2\" xlink:actuate=\"onRequest\" xlink:href=\"psysml:7113fdf5-c3b3-43b5-a3fa-02abb845fbc2\" xlink:show=\"new\" xlink:title=\"psysml:7113fdf5-c3b3-43b5-a3fa-02abb845fbc2\" xlink:type=\"simple\"><rect fill=\"#FFFFFF\" height=\"154.5\" id=\"E5\" style=\"stroke: #383838; stroke-width: 1.5;\" width=\"96\" x=\"225.5\" y=\"79\"/><rect fill=\"#F8F8F8\" height=\"37.9375\" style=\"stroke: #383838; stroke-width: 1.5;\" width=\"96\" x=\"225.5\" y=\"79\"/><text fill=\"#000000\" font-family=\"sans-serif\" font-size=\"12\" font-style=\"italic\" lengthAdjust=\"spacingAndGlyphs\" textLength=\"77\" x=\"235\" y=\"95.1387\">«action def»</text><text fill=\"#000000\" font-family=\"sans-serif\" font-size=\"12\" lengthAdjust=\"spacingAndGlyphs\" textLength=\"27\" x=\"260\" y=\"109.1074\">setX</text></a><!--MD5=[b4997ac47864f28c2f74865a473b2911]\n",
       "class E2--><a href=\"psysml:2e771e59-55ab-4895-8e71-4691f1152b9b\" target=\"_top\" title=\"psysml:2e771e59-55ab-4895-8e71-4691f1152b9b\" xlink:actuate=\"onRequest\" xlink:href=\"psysml:2e771e59-55ab-4895-8e71-4691f1152b9b\" xlink:show=\"new\" xlink:title=\"psysml:2e771e59-55ab-4895-8e71-4691f1152b9b\" xlink:type=\"simple\"><rect fill=\"#FFFFFF\" height=\"45.9375\" id=\"E2\" style=\"stroke: #383838; stroke-width: 1.5;\" width=\"74\" x=\"135\" y=\"56\"/><text fill=\"#000000\" font-family=\"sans-serif\" font-size=\"12\" font-style=\"italic\" lengthAdjust=\"spacingAndGlyphs\" textLength=\"72\" x=\"136\" y=\"72.1387\">«dataType»</text><text fill=\"#000000\" font-family=\"sans-serif\" font-size=\"12\" lengthAdjust=\"spacingAndGlyphs\" textLength=\"27\" x=\"158.5\" y=\"86.1074\">Real</text><line style=\"stroke: #383838; stroke-width: 1.5;\" x1=\"136\" x2=\"208\" y1=\"93.9375\" y2=\"93.9375\"/></a><!--MD5=[09b614a08d8cba4a07c9adeb5e0fee81]\n",
       "class E3--><a href=\"psysml:e4de1612-4570-4c3a-878c-e0dca14f25a7\" target=\"_top\" title=\"psysml:e4de1612-4570-4c3a-878c-e0dca14f25a7\" xlink:actuate=\"onRequest\" xlink:href=\"psysml:e4de1612-4570-4c3a-878c-e0dca14f25a7\" xlink:show=\"new\" xlink:title=\"psysml:e4de1612-4570-4c3a-878c-e0dca14f25a7\" xlink:type=\"simple\"><rect fill=\"#FFFFFF\" height=\"75.5469\" id=\"E3\" style=\"stroke: #383838; stroke-width: 1.5;\" width=\"67\" x=\"32.5\" y=\"41\"/><text fill=\"#000000\" font-family=\"sans-serif\" font-size=\"12\" font-style=\"italic\" lengthAdjust=\"spacingAndGlyphs\" textLength=\"65\" x=\"33.5\" y=\"57.1387\">«item def»</text><text fill=\"#000000\" font-family=\"sans-serif\" font-size=\"12\" lengthAdjust=\"spacingAndGlyphs\" textLength=\"8\" x=\"62\" y=\"71.1074\">C</text><line style=\"stroke: #383838; stroke-width: 1.5;\" x1=\"33.5\" x2=\"98.5\" y1=\"78.9375\" y2=\"78.9375\"/><text fill=\"#000000\" font-family=\"sans-serif\" font-size=\"11\" lengthAdjust=\"spacingAndGlyphs\" textLength=\"38\" x=\"38.5\" y=\"109.9526\">x: Real</text><line style=\"stroke: #383838; stroke-width: 1.0;\" x1=\"33.5\" x2=\"38.5\" y1=\"93.3398\" y2=\"93.3398\"/><text fill=\"#000000\" font-family=\"sans-serif\" font-size=\"11\" lengthAdjust=\"spacingAndGlyphs\" textLength=\"55\" x=\"38.5\" y=\"96.6479\">attributes</text><line style=\"stroke: #383838; stroke-width: 1.0;\" x1=\"93.5\" x2=\"98.5\" y1=\"93.3398\" y2=\"93.3398\"/></a><!--MD5=[ebbe1d658d1005bcc118a6aa81145e00]\n",
       "class E4--><a href=\"psysml:8c3cf46e-c423-4c70-a710-66f9a3632f6b\" target=\"_top\" title=\"psysml:8c3cf46e-c423-4c70-a710-66f9a3632f6b\" xlink:actuate=\"onRequest\" xlink:href=\"psysml:8c3cf46e-c423-4c70-a710-66f9a3632f6b\" xlink:show=\"new\" xlink:title=\"psysml:8c3cf46e-c423-4c70-a710-66f9a3632f6b\" xlink:type=\"simple\"><rect fill=\"#FFFFFF\" height=\"45.9375\" id=\"E4\" rx=\"10\" ry=\"10\" style=\"stroke: #383838; stroke-width: 1.5;\" width=\"121\" x=\"32.5\" y=\"177\"/><text fill=\"#000000\" font-family=\"sans-serif\" font-size=\"12\" font-style=\"italic\" lengthAdjust=\"spacingAndGlyphs\" textLength=\"119\" x=\"33.5\" y=\"193.1387\">«assertConstraint»</text><text fill=\"#000000\" font-family=\"sans-serif\" font-size=\"12\" lengthAdjust=\"spacingAndGlyphs\" textLength=\"76\" x=\"55\" y=\"207.1074\">x_constraint</text><line style=\"stroke: #383838; stroke-width: 1.5;\" x1=\"33.5\" x2=\"152.5\" y1=\"214.9375\" y2=\"214.9375\"/></a><text fill=\"#000000\" font-family=\"sans-serif\" font-size=\"14\" lengthAdjust=\"spacingAndGlyphs\" textLength=\"8\" x=\"246\" y=\"57.6982\">c</text><rect fill=\"#383838\" height=\"12\" style=\"stroke: #F8F8F8; stroke-width: 1.5;\" width=\"12\" x=\"244\" y=\"73\"/><text fill=\"#000000\" font-family=\"sans-serif\" font-size=\"14\" lengthAdjust=\"spacingAndGlyphs\" textLength=\"38\" x=\"278\" y=\"57.6982\">newX</text><rect fill=\"#383838\" height=\"12\" style=\"stroke: #F8F8F8; stroke-width: 1.5;\" width=\"12\" x=\"291\" y=\"73\"/><!--MD5=[4672eba38e49728da53d11aeb285b987]\n",
       "reverse link E3 to E4--><a href=\"psysml:53eca076-bd38-4ff8-88cd-ccaa057f7e59\" target=\"_top\" title=\"psysml:53eca076-bd38-4ff8-88cd-ccaa057f7e59\" xlink:actuate=\"onRequest\" xlink:href=\"psysml:53eca076-bd38-4ff8-88cd-ccaa057f7e59\" xlink:show=\"new\" xlink:title=\"psysml:53eca076-bd38-4ff8-88cd-ccaa057f7e59\" xlink:type=\"simple\"><path d=\"M77.31,129.85 C81.03,146.26 84.99,163.68 87.99,176.93 \" fill=\"none\" id=\"E3&lt;-E4\" style=\"stroke: #383838; stroke-width: 1.0;\"/><polygon fill=\"#FFFFFF\" points=\"74.39,117,71.8133,123.735,77.0392,128.7039,79.6159,121.9689,74.39,117\" style=\"stroke: #383838; stroke-width: 1.0;\"/></a><!--MD5=[ca14aee69d93b61ee478723c59745a31]\n",
       "@startuml\r\n",
       "top to bottom direction\r\n",
       "skinparam monochrome true\r\n",
       "skinparam classbackgroundcolor white\r\n",
       "skinparam shadowing false\r\n",
       "skinparam wrapWidth 300\r\n",
       "hide circle\r\n",
       "\r\n",
       "package \"TextualRepresentationTest\" as E1  [[psysml:1e396b56-292d-4ed9-bbba-ca6bb661746c ]]  {\r\n",
       "comp def \"Real\" as E2  <<(T,blue) dataType>> [[psysml:2e771e59-55ab-4895-8e71-4691f1152b9b ]] {\r\n",
       "}\r\n",
       "comp def \"C\" as E3  <<(T,blue) item def>> [[psysml:e4de1612-4570-4c3a-878c-e0dca14f25a7 ]] {\r\n",
       "- - attributes - -\r\n",
       "x: Real\r\n",
       "}\r\n",
       "comp usage \"x_constraint\" as E4  <<(T,blue) assertConstraint>> [[psysml:8c3cf46e-c423-4c70-a710-66f9a3632f6b ]] {\r\n",
       "}\r\n",
       "rec def \"setX\" as E5  <<(T,blue) action def>> [[psysml:7113fdf5-c3b3-43b5-a3fa-02abb845fbc2 ]] {\r\n",
       "portin \"c\" as E6  [[psysml:34b277fa-246f-4890-8f8b-22f79f83c872 ]] \r\n",
       "portin \"newX\" as E7  [[psysml:085fc47f-09d9-4ca0-b48d-81ba6e318ca7 ]] \r\n",
       "}\r\n",
       "\r\n",
       "E3 o- - E4 [[psysml:53eca076-bd38-4ff8-88cd-ccaa057f7e59 ]] \r\n",
       "}\r\n",
       "@enduml\r\n",
       "\n",
       "PlantUML version 1.2020.13(Sat Jun 13 12:26:38 UTC 2020)\n",
       "(EPL source distribution)\n",
       "Java Runtime: OpenJDK Runtime Environment\n",
       "JVM: OpenJDK 64-Bit Server VM\n",
       "Default Encoding: UTF-8\n",
       "Language: en\n",
       "Country: null\n",
       "--></g></svg>"
      ]
     },
     "execution_count": 44,
     "metadata": {},
     "output_type": "execute_result"
    }
   ],
   "source": [
    "%viz --style=\"TB\" --view=\"Default\" \"TextualRepresentationTest\""
   ]
  },
  {
   "cell_type": "code",
   "execution_count": 45,
   "id": "b1e651a6",
   "metadata": {
    "execution": {
     "iopub.execute_input": "2021-06-30T09:21:19.851861Z",
     "iopub.status.busy": "2021-06-30T09:21:19.850791Z",
     "iopub.status.idle": "2021-06-30T09:21:19.900171Z",
     "shell.execute_reply": "2021-06-30T09:21:19.898931Z"
    }
   },
   "outputs": [
    {
     "data": {
      "image/svg+xml": [
       "<?xml version=\"1.0\" encoding=\"UTF-8\" standalone=\"no\"?><svg xmlns=\"http://www.w3.org/2000/svg\" xmlns:xlink=\"http://www.w3.org/1999/xlink\" contentScriptType=\"application/ecmascript\" contentStyleType=\"text/css\" height=\"375px\" preserveAspectRatio=\"none\" style=\"width:268px;height:375px;\" version=\"1.1\" viewBox=\"0 0 268 375\" width=\"268px\" zoomAndPan=\"magnify\"><defs/><g><!--MD5=[fbc87193dbaf4d95561dea2c320d4a47]\n",
       "cluster E1--><a href=\"psysml:1e396b56-292d-4ed9-bbba-ca6bb661746c\" target=\"_top\" title=\"psysml:1e396b56-292d-4ed9-bbba-ca6bb661746c\" xlink:actuate=\"onRequest\" xlink:href=\"psysml:1e396b56-292d-4ed9-bbba-ca6bb661746c\" xlink:show=\"new\" xlink:title=\"psysml:1e396b56-292d-4ed9-bbba-ca6bb661746c\" xlink:type=\"simple\"><polygon fill=\"#FFFFFF\" points=\"16,6,236,6,243,28.2969,246,28.2969,246,363,16,363,16,6\" style=\"stroke: #000000; stroke-width: 1.5;\"/><line style=\"stroke: #000000; stroke-width: 1.5;\" x1=\"16\" x2=\"243\" y1=\"28.2969\" y2=\"28.2969\"/><text fill=\"#000000\" font-family=\"sans-serif\" font-size=\"14\" font-weight=\"bold\" lengthAdjust=\"spacingAndGlyphs\" textLength=\"214\" x=\"20\" y=\"20.9951\">TextualRepresentationTest</text></a><!--MD5=[b4997ac47864f28c2f74865a473b2911]\n",
       "class E2--><a href=\"psysml:2e771e59-55ab-4895-8e71-4691f1152b9b\" target=\"_top\" title=\"psysml:2e771e59-55ab-4895-8e71-4691f1152b9b\" xlink:actuate=\"onRequest\" xlink:href=\"psysml:2e771e59-55ab-4895-8e71-4691f1152b9b\" xlink:show=\"new\" xlink:title=\"psysml:2e771e59-55ab-4895-8e71-4691f1152b9b\" xlink:type=\"simple\"><rect fill=\"#FFFFFF\" height=\"45.9375\" id=\"E2\" style=\"stroke: #383838; stroke-width: 1.5;\" width=\"74\" x=\"42\" y=\"179\"/><text fill=\"#000000\" font-family=\"sans-serif\" font-size=\"12\" font-style=\"italic\" lengthAdjust=\"spacingAndGlyphs\" textLength=\"72\" x=\"43\" y=\"195.1387\">«dataType»</text><text fill=\"#000000\" font-family=\"sans-serif\" font-size=\"12\" lengthAdjust=\"spacingAndGlyphs\" textLength=\"27\" x=\"65.5\" y=\"209.1074\">Real</text><line style=\"stroke: #383838; stroke-width: 1.5;\" x1=\"43\" x2=\"115\" y1=\"216.9375\" y2=\"216.9375\"/></a><!--MD5=[09b614a08d8cba4a07c9adeb5e0fee81]\n",
       "class E3--><a href=\"psysml:e4de1612-4570-4c3a-878c-e0dca14f25a7\" target=\"_top\" title=\"psysml:e4de1612-4570-4c3a-878c-e0dca14f25a7\" xlink:actuate=\"onRequest\" xlink:href=\"psysml:e4de1612-4570-4c3a-878c-e0dca14f25a7\" xlink:show=\"new\" xlink:title=\"psysml:e4de1612-4570-4c3a-878c-e0dca14f25a7\" xlink:type=\"simple\"><rect fill=\"#FFFFFF\" height=\"75.5469\" id=\"E3\" style=\"stroke: #383838; stroke-width: 1.5;\" width=\"67\" x=\"151.5\" y=\"164\"/><text fill=\"#000000\" font-family=\"sans-serif\" font-size=\"12\" font-style=\"italic\" lengthAdjust=\"spacingAndGlyphs\" textLength=\"65\" x=\"152.5\" y=\"180.1387\">«item def»</text><text fill=\"#000000\" font-family=\"sans-serif\" font-size=\"12\" lengthAdjust=\"spacingAndGlyphs\" textLength=\"8\" x=\"181\" y=\"194.1074\">C</text><line style=\"stroke: #383838; stroke-width: 1.5;\" x1=\"152.5\" x2=\"217.5\" y1=\"201.9375\" y2=\"201.9375\"/><text fill=\"#000000\" font-family=\"sans-serif\" font-size=\"11\" lengthAdjust=\"spacingAndGlyphs\" textLength=\"38\" x=\"157.5\" y=\"232.9526\">x: Real</text><line style=\"stroke: #383838; stroke-width: 1.0;\" x1=\"152.5\" x2=\"157.5\" y1=\"216.3398\" y2=\"216.3398\"/><text fill=\"#000000\" font-family=\"sans-serif\" font-size=\"11\" lengthAdjust=\"spacingAndGlyphs\" textLength=\"55\" x=\"157.5\" y=\"219.6479\">attributes</text><line style=\"stroke: #383838; stroke-width: 1.0;\" x1=\"212.5\" x2=\"217.5\" y1=\"216.3398\" y2=\"216.3398\"/></a><!--MD5=[ebbe1d658d1005bcc118a6aa81145e00]\n",
       "class E4--><a href=\"psysml:8c3cf46e-c423-4c70-a710-66f9a3632f6b\" target=\"_top\" title=\"psysml:8c3cf46e-c423-4c70-a710-66f9a3632f6b\" xlink:actuate=\"onRequest\" xlink:href=\"psysml:8c3cf46e-c423-4c70-a710-66f9a3632f6b\" xlink:show=\"new\" xlink:title=\"psysml:8c3cf46e-c423-4c70-a710-66f9a3632f6b\" xlink:type=\"simple\"><rect fill=\"#FFFFFF\" height=\"45.9375\" id=\"E4\" rx=\"10\" ry=\"10\" style=\"stroke: #383838; stroke-width: 1.5;\" width=\"121\" x=\"97.5\" y=\"301\"/><text fill=\"#000000\" font-family=\"sans-serif\" font-size=\"12\" font-style=\"italic\" lengthAdjust=\"spacingAndGlyphs\" textLength=\"119\" x=\"98.5\" y=\"317.1387\">«assertConstraint»</text><text fill=\"#000000\" font-family=\"sans-serif\" font-size=\"12\" lengthAdjust=\"spacingAndGlyphs\" textLength=\"76\" x=\"120\" y=\"331.1074\">x_constraint</text><line style=\"stroke: #383838; stroke-width: 1.5;\" x1=\"98.5\" x2=\"217.5\" y1=\"338.9375\" y2=\"338.9375\"/></a><!--MD5=[270fce915f116d4de14055a7c1d9a0f3]\n",
       "class E5--><a href=\"psysml:7113fdf5-c3b3-43b5-a3fa-02abb845fbc2\" target=\"_top\" title=\"psysml:7113fdf5-c3b3-43b5-a3fa-02abb845fbc2\" xlink:actuate=\"onRequest\" xlink:href=\"psysml:7113fdf5-c3b3-43b5-a3fa-02abb845fbc2\" xlink:show=\"new\" xlink:title=\"psysml:7113fdf5-c3b3-43b5-a3fa-02abb845fbc2\" xlink:type=\"simple\"><rect fill=\"#FFFFFF\" height=\"45.9375\" id=\"E5\" style=\"stroke: #383838; stroke-width: 1.5;\" width=\"79\" x=\"77.5\" y=\"41\"/><text fill=\"#000000\" font-family=\"sans-serif\" font-size=\"12\" font-style=\"italic\" lengthAdjust=\"spacingAndGlyphs\" textLength=\"77\" x=\"78.5\" y=\"57.1387\">«action def»</text><text fill=\"#000000\" font-family=\"sans-serif\" font-size=\"12\" lengthAdjust=\"spacingAndGlyphs\" textLength=\"27\" x=\"103.5\" y=\"71.1074\">setX</text><line style=\"stroke: #383838; stroke-width: 1.5;\" x1=\"78.5\" x2=\"155.5\" y1=\"78.9375\" y2=\"78.9375\"/></a><!--MD5=[4672eba38e49728da53d11aeb285b987]\n",
       "reverse link E3 to E4--><a href=\"psysml:53eca076-bd38-4ff8-88cd-ccaa057f7e59\" target=\"_top\" title=\"psysml:53eca076-bd38-4ff8-88cd-ccaa057f7e59\" xlink:actuate=\"onRequest\" xlink:href=\"psysml:53eca076-bd38-4ff8-88cd-ccaa057f7e59\" xlink:show=\"new\" xlink:title=\"psysml:53eca076-bd38-4ff8-88cd-ccaa057f7e59\" xlink:type=\"simple\"><path d=\"M173.69,253.27 C169.97,269.82 166.01,287.38 163.01,300.75 \" fill=\"none\" id=\"E3&lt;-E4\" style=\"stroke: #383838; stroke-width: 1.0;\"/><polygon fill=\"#FFFFFF\" points=\"176.61,240.31,171.3948,245.2901,173.9859,252.0196,179.2011,247.0395,176.61,240.31\" style=\"stroke: #383838; stroke-width: 1.0;\"/></a><!--MD5=[6f107eb264eda4b26325f39a5516f1f3]\n",
       "reverse link E5 to E3--><a href=\"psysml:34b277fa-246f-4890-8f8b-22f79f83c872\" target=\"_top\" title=\"psysml:34b277fa-246f-4890-8f8b-22f79f83c872\" xlink:actuate=\"onRequest\" xlink:href=\"psysml:34b277fa-246f-4890-8f8b-22f79f83c872\" xlink:show=\"new\" xlink:title=\"psysml:34b277fa-246f-4890-8f8b-22f79f83c872\" xlink:type=\"simple\"><path d=\"M134,99 C143.89,118.78 156.35,143.71 166.49,163.97 \" fill=\"none\" id=\"E5&lt;-E3\" style=\"stroke: #383838; stroke-width: 1.0;\"/><polygon fill=\"#FFFFFF\" points=\"128.08,87.15,127.1856,94.3054,133.4466,97.8831,134.341,90.7277,128.08,87.15\" style=\"stroke: #383838; stroke-width: 1.0;\"/><text fill=\"#000000\" font-family=\"sans-serif\" font-size=\"13\" lengthAdjust=\"spacingAndGlyphs\" textLength=\"7\" x=\"152\" y=\"130.0669\">c</text></a><!--MD5=[f51c6d1f1856fe338ac0413483fb1ccf]\n",
       "reverse link E5 to E2--><a href=\"psysml:085fc47f-09d9-4ca0-b48d-81ba6e318ca7\" target=\"_top\" title=\"psysml:085fc47f-09d9-4ca0-b48d-81ba6e318ca7\" xlink:actuate=\"onRequest\" xlink:href=\"psysml:085fc47f-09d9-4ca0-b48d-81ba6e318ca7\" xlink:show=\"new\" xlink:title=\"psysml:085fc47f-09d9-4ca0-b48d-81ba6e318ca7\" xlink:type=\"simple\"><path d=\"M104.55,99.41 C102.59,105.25 100.67,111.27 99,117 C92.96,137.73 87.39,161.71 83.67,178.73 \" fill=\"none\" id=\"E5&lt;-E2\" style=\"stroke: #383838; stroke-width: 1.0;\"/><polygon fill=\"#FFFFFF\" points=\"108.8,87.11,103.0605,91.4756,104.8828,98.4527,110.6223,94.0871,108.8,87.11\" style=\"stroke: #383838; stroke-width: 1.0;\"/><text fill=\"#000000\" font-family=\"sans-serif\" font-size=\"13\" lengthAdjust=\"spacingAndGlyphs\" textLength=\"33\" x=\"100\" y=\"130.0669\">newX</text></a><!--MD5=[4c19a3dd2aaf217e351aa80478b03fa0]\n",
       "@startuml\r\n",
       "top to bottom direction\r\n",
       "skinparam monochrome true\r\n",
       "skinparam classbackgroundcolor white\r\n",
       "skinparam shadowing false\r\n",
       "skinparam wrapWidth 300\r\n",
       "hide circle\r\n",
       "\r\n",
       "package \"TextualRepresentationTest\" as E1  [[psysml:1e396b56-292d-4ed9-bbba-ca6bb661746c ]]  {\r\n",
       "comp def \"Real\" as E2  <<(T,blue) dataType>> [[psysml:2e771e59-55ab-4895-8e71-4691f1152b9b ]] {\r\n",
       "}\r\n",
       "comp def \"C\" as E3  <<(T,blue) item def>> [[psysml:e4de1612-4570-4c3a-878c-e0dca14f25a7 ]] {\r\n",
       "- - attributes - -\r\n",
       "x: Real\r\n",
       "}\r\n",
       "comp usage \"x_constraint\" as E4  <<(T,blue) assertConstraint>> [[psysml:8c3cf46e-c423-4c70-a710-66f9a3632f6b ]] {\r\n",
       "}\r\n",
       "comp def \"setX\" as E5  <<(T,blue) action def>> [[psysml:7113fdf5-c3b3-43b5-a3fa-02abb845fbc2 ]] {\r\n",
       "}\r\n",
       "E3 o- - E4 [[psysml:53eca076-bd38-4ff8-88cd-ccaa057f7e59 ]] \r\n",
       "E5 o- - E3 [[psysml:34b277fa-246f-4890-8f8b-22f79f83c872 ]] : c\r\n",
       "E5 o- - E2 [[psysml:085fc47f-09d9-4ca0-b48d-81ba6e318ca7 ]] : newX\r\n",
       "}\r\n",
       "@enduml\r\n",
       "\n",
       "PlantUML version 1.2020.13(Sat Jun 13 12:26:38 UTC 2020)\n",
       "(EPL source distribution)\n",
       "Java Runtime: OpenJDK Runtime Environment\n",
       "JVM: OpenJDK 64-Bit Server VM\n",
       "Default Encoding: UTF-8\n",
       "Language: en\n",
       "Country: null\n",
       "--></g></svg>"
      ]
     },
     "execution_count": 45,
     "metadata": {},
     "output_type": "execute_result"
    }
   ],
   "source": [
    "%viz --style=\"TB\" --view=\"Tree\" \"TextualRepresentationTest\""
   ]
  },
  {
   "cell_type": "code",
   "execution_count": 46,
   "id": "ca29a287",
   "metadata": {
    "execution": {
     "iopub.execute_input": "2021-06-30T09:21:19.950394Z",
     "iopub.status.busy": "2021-06-30T09:21:19.950044Z",
     "iopub.status.idle": "2021-06-30T09:21:19.954012Z",
     "shell.execute_reply": "2021-06-30T09:21:19.953705Z"
    }
   },
   "outputs": [
    {
     "data": {
      "image/svg+xml": [
       "<?xml version=\"1.0\" encoding=\"UTF-8\" standalone=\"no\"?><svg xmlns=\"http://www.w3.org/2000/svg\" xmlns:xlink=\"http://www.w3.org/1999/xlink\" contentScriptType=\"application/ecmascript\" contentStyleType=\"text/css\" height=\"12px\" preserveAspectRatio=\"none\" style=\"width:12px;height:12px;\" version=\"1.1\" viewBox=\"0 0 12 12\" width=\"12px\" zoomAndPan=\"magnify\"><defs/><g><!--MD5=[f4ee21bc66e489b5061b7c3e9601fdef]\n",
       "@startuml\r\n",
       "top to bottom direction\r\n",
       "skinparam monochrome true\r\n",
       "skinparam classbackgroundcolor white\r\n",
       "skinparam shadowing false\r\n",
       "skinparam wrapWidth 300\r\n",
       "hide circle\r\n",
       "\r\n",
       "@enduml\r\n",
       "\n",
       "PlantUML version 1.2020.13(Sat Jun 13 12:26:38 UTC 2020)\n",
       "(EPL source distribution)\n",
       "Java Runtime: OpenJDK Runtime Environment\n",
       "JVM: OpenJDK 64-Bit Server VM\n",
       "Default Encoding: UTF-8\n",
       "Language: en\n",
       "Country: null\n",
       "--></g></svg>"
      ]
     },
     "execution_count": 46,
     "metadata": {},
     "output_type": "execute_result"
    }
   ],
   "source": [
    "%viz --style=\"TB\" --view=\"State\" \"TextualRepresentationTest\""
   ]
  },
  {
   "cell_type": "code",
   "execution_count": 47,
   "id": "af5f7744",
   "metadata": {
    "execution": {
     "iopub.execute_input": "2021-06-30T09:21:20.009544Z",
     "iopub.status.busy": "2021-06-30T09:21:20.008768Z",
     "iopub.status.idle": "2021-06-30T09:21:20.036390Z",
     "shell.execute_reply": "2021-06-30T09:21:20.036044Z"
    }
   },
   "outputs": [
    {
     "data": {
      "image/svg+xml": [
       "<?xml version=\"1.0\" encoding=\"UTF-8\" standalone=\"no\"?><svg xmlns=\"http://www.w3.org/2000/svg\" xmlns:xlink=\"http://www.w3.org/1999/xlink\" contentScriptType=\"application/ecmascript\" contentStyleType=\"text/css\" height=\"179px\" preserveAspectRatio=\"none\" style=\"width:398px;height:179px;\" version=\"1.1\" viewBox=\"0 0 398 179\" width=\"398px\" zoomAndPan=\"magnify\"><defs/><g><!--MD5=[fbc87193dbaf4d95561dea2c320d4a47]\n",
       "cluster E1--><a href=\"psysml:1e396b56-292d-4ed9-bbba-ca6bb661746c\" target=\"_top\" title=\"psysml:1e396b56-292d-4ed9-bbba-ca6bb661746c\" xlink:actuate=\"onRequest\" xlink:href=\"psysml:1e396b56-292d-4ed9-bbba-ca6bb661746c\" xlink:show=\"new\" xlink:title=\"psysml:1e396b56-292d-4ed9-bbba-ca6bb661746c\" xlink:type=\"simple\"><polygon fill=\"#FFFFFF\" points=\"16,6,236,6,243,28.2969,376,28.2969,376,167,16,167,16,6\" style=\"stroke: #000000; stroke-width: 1.5;\"/><line style=\"stroke: #000000; stroke-width: 1.5;\" x1=\"16\" x2=\"243\" y1=\"28.2969\" y2=\"28.2969\"/><text fill=\"#000000\" font-family=\"sans-serif\" font-size=\"14\" font-weight=\"bold\" lengthAdjust=\"spacingAndGlyphs\" textLength=\"214\" x=\"20\" y=\"20.9951\">TextualRepresentationTest</text></a><!--MD5=[f6df4d0ebaf0b5dfb2ced0ae5af7c670]\n",
       "cluster E4--><a href=\"psysml:7113fdf5-c3b3-43b5-a3fa-02abb845fbc2\" target=\"_top\" title=\"psysml:7113fdf5-c3b3-43b5-a3fa-02abb845fbc2\" xlink:actuate=\"onRequest\" xlink:href=\"psysml:7113fdf5-c3b3-43b5-a3fa-02abb845fbc2\" xlink:show=\"new\" xlink:title=\"psysml:7113fdf5-c3b3-43b5-a3fa-02abb845fbc2\" xlink:type=\"simple\"><rect fill=\"#FFFFFF\" height=\"88.5\" id=\"E4\" style=\"stroke: #383838; stroke-width: 1.5;\" width=\"96\" x=\"235.5\" y=\"62.5\"/><rect fill=\"#F8F8F8\" height=\"37.9375\" style=\"stroke: #383838; stroke-width: 1.5;\" width=\"96\" x=\"235.5\" y=\"62.5\"/><text fill=\"#000000\" font-family=\"sans-serif\" font-size=\"12\" font-style=\"italic\" lengthAdjust=\"spacingAndGlyphs\" textLength=\"77\" x=\"245\" y=\"78.6387\">«action def»</text><text fill=\"#000000\" font-family=\"sans-serif\" font-size=\"12\" lengthAdjust=\"spacingAndGlyphs\" textLength=\"27\" x=\"270\" y=\"92.6074\">setX</text></a><g id=\"E1.E2\"><a href=\"psysml:2e771e59-55ab-4895-8e71-4691f1152b9b\" target=\"_top\" title=\"psysml:2e771e59-55ab-4895-8e71-4691f1152b9b\" xlink:actuate=\"onRequest\" xlink:href=\"psysml:2e771e59-55ab-4895-8e71-4691f1152b9b\" xlink:show=\"new\" xlink:title=\"psysml:2e771e59-55ab-4895-8e71-4691f1152b9b\" xlink:type=\"simple\"><rect fill=\"#FFFFFF\" height=\"42.9375\" id=\"E2\" style=\"stroke: #383838; stroke-width: 1.5;\" width=\"79\" x=\"139.5\" y=\"41\"/><rect fill=\"#F8F8F8\" height=\"37.9375\" style=\"stroke: #383838; stroke-width: 1.5;\" width=\"79\" x=\"139.5\" y=\"41\"/><text fill=\"#000000\" font-family=\"sans-serif\" font-size=\"12\" font-style=\"italic\" lengthAdjust=\"spacingAndGlyphs\" textLength=\"72\" x=\"143\" y=\"57.1387\">«dataType»</text><text fill=\"#000000\" font-family=\"sans-serif\" font-size=\"12\" lengthAdjust=\"spacingAndGlyphs\" textLength=\"27\" x=\"165.5\" y=\"71.1074\">Real</text></a></g><g id=\"E1.E3\"><a href=\"psysml:e4de1612-4570-4c3a-878c-e0dca14f25a7\" target=\"_top\" title=\"psysml:e4de1612-4570-4c3a-878c-e0dca14f25a7\" xlink:actuate=\"onRequest\" xlink:href=\"psysml:e4de1612-4570-4c3a-878c-e0dca14f25a7\" xlink:show=\"new\" xlink:title=\"psysml:e4de1612-4570-4c3a-878c-e0dca14f25a7\" xlink:type=\"simple\"><rect fill=\"#FFFFFF\" height=\"42.9375\" id=\"E3\" style=\"stroke: #383838; stroke-width: 1.5;\" width=\"72\" x=\"32\" y=\"41\"/><rect fill=\"#F8F8F8\" height=\"37.9375\" style=\"stroke: #383838; stroke-width: 1.5;\" width=\"72\" x=\"32\" y=\"41\"/><text fill=\"#000000\" font-family=\"sans-serif\" font-size=\"12\" font-style=\"italic\" lengthAdjust=\"spacingAndGlyphs\" textLength=\"65\" x=\"35.5\" y=\"57.1387\">«item def»</text><text fill=\"#000000\" font-family=\"sans-serif\" font-size=\"12\" lengthAdjust=\"spacingAndGlyphs\" textLength=\"8\" x=\"64\" y=\"71.1074\">C</text></a></g><text fill=\"#000000\" font-family=\"sans-serif\" font-size=\"14\" lengthAdjust=\"spacingAndGlyphs\" textLength=\"8\" x=\"256\" y=\"41.1982\">c</text><rect fill=\"#383838\" height=\"12\" style=\"stroke: #F8F8F8; stroke-width: 1.5;\" width=\"12\" x=\"254\" y=\"56.5\"/><text fill=\"#000000\" font-family=\"sans-serif\" font-size=\"14\" lengthAdjust=\"spacingAndGlyphs\" textLength=\"38\" x=\"288\" y=\"41.1982\">newX</text><rect fill=\"#383838\" height=\"12\" style=\"stroke: #F8F8F8; stroke-width: 1.5;\" width=\"12\" x=\"301\" y=\"56.5\"/><!--MD5=[c2adb10356a7c0e47a0252f940d57748]\n",
       "@startuml\r\n",
       "skinparam ranksep 10\r\n",
       "skinparam rectangle {\r\n",
       " backgroundColor<<block>> LightGreen\r\n",
       "}\r\n",
       "top to bottom direction\r\n",
       "skinparam monochrome true\r\n",
       "skinparam classbackgroundcolor white\r\n",
       "skinparam shadowing false\r\n",
       "skinparam wrapWidth 300\r\n",
       "hide circle\r\n",
       "\r\n",
       "package \"TextualRepresentationTest\" as E1  [[psysml:1e396b56-292d-4ed9-bbba-ca6bb661746c ]]  {\r\n",
       "def \"Real\" as E2  <<(T,blue) dataType>> [[psysml:2e771e59-55ab-4895-8e71-4691f1152b9b ]] \r\n",
       "def \"C\" as E3  <<(T,blue) item def>> [[psysml:e4de1612-4570-4c3a-878c-e0dca14f25a7 ]] \r\n",
       "rec def \"setX\" as E4  <<(T,blue) action def>> [[psysml:7113fdf5-c3b3-43b5-a3fa-02abb845fbc2 ]] {\r\n",
       "portin \"c\" as E5  [[psysml:34b277fa-246f-4890-8f8b-22f79f83c872 ]] \r\n",
       "portin \"newX\" as E6  [[psysml:085fc47f-09d9-4ca0-b48d-81ba6e318ca7 ]] \r\n",
       "}\r\n",
       "\r\n",
       "}\r\n",
       "@enduml\r\n",
       "\n",
       "PlantUML version 1.2020.13(Sat Jun 13 12:26:38 UTC 2020)\n",
       "(EPL source distribution)\n",
       "Java Runtime: OpenJDK Runtime Environment\n",
       "JVM: OpenJDK 64-Bit Server VM\n",
       "Default Encoding: UTF-8\n",
       "Language: en\n",
       "Country: null\n",
       "--></g></svg>"
      ]
     },
     "execution_count": 47,
     "metadata": {},
     "output_type": "execute_result"
    }
   ],
   "source": [
    "%viz --style=\"TB\" --view=\"Interconnection\" \"TextualRepresentationTest\""
   ]
  },
  {
   "cell_type": "code",
   "execution_count": 48,
   "id": "d692ee90",
   "metadata": {
    "execution": {
     "iopub.execute_input": "2021-06-30T09:21:20.086750Z",
     "iopub.status.busy": "2021-06-30T09:21:20.086312Z",
     "iopub.status.idle": "2021-06-30T09:21:20.105837Z",
     "shell.execute_reply": "2021-06-30T09:21:20.105536Z"
    }
   },
   "outputs": [
    {
     "data": {
      "image/svg+xml": [
       "<?xml version=\"1.0\" encoding=\"UTF-8\" standalone=\"no\"?><svg xmlns=\"http://www.w3.org/2000/svg\" xmlns:xlink=\"http://www.w3.org/1999/xlink\" contentScriptType=\"application/ecmascript\" contentStyleType=\"text/css\" height=\"126px\" preserveAspectRatio=\"none\" style=\"width:150px;height:126px;\" version=\"1.1\" viewBox=\"0 0 150 126\" width=\"150px\" zoomAndPan=\"magnify\"><defs/><g><!--MD5=[fbc87193dbaf4d95561dea2c320d4a47]\n",
       "cluster E1--><a href=\"psysml:7113fdf5-c3b3-43b5-a3fa-02abb845fbc2\" target=\"_top\" title=\"psysml:7113fdf5-c3b3-43b5-a3fa-02abb845fbc2\" xlink:actuate=\"onRequest\" xlink:href=\"psysml:7113fdf5-c3b3-43b5-a3fa-02abb845fbc2\" xlink:show=\"new\" xlink:title=\"psysml:7113fdf5-c3b3-43b5-a3fa-02abb845fbc2\" xlink:type=\"simple\"><rect fill=\"#FFFFFF\" height=\"73\" id=\"E1\" style=\"stroke: #383838; stroke-width: 1.5;\" width=\"132\" x=\"7\" y=\"42.0986\"/><rect fill=\"#F8F8F8\" height=\"37.9375\" style=\"stroke: #383838; stroke-width: 1.5;\" width=\"132\" x=\"7\" y=\"42.0986\"/><text fill=\"#000000\" font-family=\"sans-serif\" font-size=\"12\" font-style=\"italic\" lengthAdjust=\"spacingAndGlyphs\" textLength=\"77\" x=\"34.5\" y=\"58.2373\">«action def»</text><text fill=\"#000000\" font-family=\"sans-serif\" font-size=\"12\" lengthAdjust=\"spacingAndGlyphs\" textLength=\"27\" x=\"59.5\" y=\"72.2061\">setX</text></a><text fill=\"#000000\" font-family=\"sans-serif\" font-size=\"14\" lengthAdjust=\"spacingAndGlyphs\" textLength=\"8\" x=\"21\" y=\"20.7969\">c</text><rect fill=\"#383838\" height=\"12\" style=\"stroke: #F8F8F8; stroke-width: 1.5;\" width=\"12\" x=\"19\" y=\"36.0986\"/><text fill=\"#000000\" font-family=\"sans-serif\" font-size=\"14\" lengthAdjust=\"spacingAndGlyphs\" textLength=\"38\" x=\"53\" y=\"20.7969\">newX</text><rect fill=\"#383838\" height=\"12\" style=\"stroke: #F8F8F8; stroke-width: 1.5;\" width=\"12\" x=\"66\" y=\"36.0986\"/><!--MD5=[4cb6c41991e3a8aeb5046a6980f29452]\n",
       "@startuml\r\n",
       "skinparam ranksep 8\r\n",
       "top to bottom direction\r\n",
       "skinparam monochrome true\r\n",
       "skinparam classbackgroundcolor white\r\n",
       "skinparam shadowing false\r\n",
       "skinparam wrapWidth 300\r\n",
       "hide circle\r\n",
       "\r\n",
       "rec def \"setX\" as E1  <<(T,blue) action def>> [[psysml:7113fdf5-c3b3-43b5-a3fa-02abb845fbc2 ]] {\r\n",
       "portin \"c\" as E2  [[psysml:34b277fa-246f-4890-8f8b-22f79f83c872 ]] \r\n",
       "portin \"newX\" as E3  [[psysml:085fc47f-09d9-4ca0-b48d-81ba6e318ca7 ]] \r\n",
       "}\r\n",
       "\r\n",
       "@enduml\r\n",
       "\n",
       "PlantUML version 1.2020.13(Sat Jun 13 12:26:38 UTC 2020)\n",
       "(EPL source distribution)\n",
       "Java Runtime: OpenJDK Runtime Environment\n",
       "JVM: OpenJDK 64-Bit Server VM\n",
       "Default Encoding: UTF-8\n",
       "Language: en\n",
       "Country: null\n",
       "--></g></svg>"
      ]
     },
     "execution_count": 48,
     "metadata": {},
     "output_type": "execute_result"
    }
   ],
   "source": [
    "%viz --style=\"TB\" --view=\"Action\" \"TextualRepresentationTest\""
   ]
  },
  {
   "cell_type": "code",
   "execution_count": 49,
   "id": "0f7943c4",
   "metadata": {
    "execution": {
     "iopub.execute_input": "2021-06-30T09:21:20.156117Z",
     "iopub.status.busy": "2021-06-30T09:21:20.155663Z",
     "iopub.status.idle": "2021-06-30T09:21:20.191923Z",
     "shell.execute_reply": "2021-06-30T09:21:20.190312Z"
    }
   },
   "outputs": [
    {
     "data": {
      "image/svg+xml": [
       "<?xml version=\"1.0\" encoding=\"UTF-8\" standalone=\"no\"?><svg xmlns=\"http://www.w3.org/2000/svg\" xmlns:xlink=\"http://www.w3.org/1999/xlink\" contentScriptType=\"application/ecmascript\" contentStyleType=\"text/css\" height=\"375px\" preserveAspectRatio=\"none\" style=\"width:268px;height:375px;\" version=\"1.1\" viewBox=\"0 0 268 375\" width=\"268px\" zoomAndPan=\"magnify\"><defs/><g><!--MD5=[fbc87193dbaf4d95561dea2c320d4a47]\n",
       "cluster E1--><a href=\"psysml:1e396b56-292d-4ed9-bbba-ca6bb661746c\" target=\"_top\" title=\"psysml:1e396b56-292d-4ed9-bbba-ca6bb661746c\" xlink:actuate=\"onRequest\" xlink:href=\"psysml:1e396b56-292d-4ed9-bbba-ca6bb661746c\" xlink:show=\"new\" xlink:title=\"psysml:1e396b56-292d-4ed9-bbba-ca6bb661746c\" xlink:type=\"simple\"><polygon fill=\"#FFFFFF\" points=\"16,6,236,6,243,28.2969,246,28.2969,246,363,16,363,16,6\" style=\"stroke: #000000; stroke-width: 1.5;\"/><line style=\"stroke: #000000; stroke-width: 1.5;\" x1=\"16\" x2=\"243\" y1=\"28.2969\" y2=\"28.2969\"/><text fill=\"#000000\" font-family=\"sans-serif\" font-size=\"14\" font-weight=\"bold\" lengthAdjust=\"spacingAndGlyphs\" textLength=\"214\" x=\"20\" y=\"20.9951\">TextualRepresentationTest</text></a><!--MD5=[b4997ac47864f28c2f74865a473b2911]\n",
       "class E2--><a href=\"psysml:2e771e59-55ab-4895-8e71-4691f1152b9b\" target=\"_top\" title=\"psysml:2e771e59-55ab-4895-8e71-4691f1152b9b\" xlink:actuate=\"onRequest\" xlink:href=\"psysml:2e771e59-55ab-4895-8e71-4691f1152b9b\" xlink:show=\"new\" xlink:title=\"psysml:2e771e59-55ab-4895-8e71-4691f1152b9b\" xlink:type=\"simple\"><rect fill=\"#FFFFFF\" height=\"45.9375\" id=\"E2\" style=\"stroke: #383838; stroke-width: 1.5;\" width=\"74\" x=\"42\" y=\"179\"/><text fill=\"#000000\" font-family=\"sans-serif\" font-size=\"12\" font-style=\"italic\" lengthAdjust=\"spacingAndGlyphs\" textLength=\"72\" x=\"43\" y=\"195.1387\">«dataType»</text><text fill=\"#000000\" font-family=\"sans-serif\" font-size=\"12\" lengthAdjust=\"spacingAndGlyphs\" textLength=\"27\" x=\"65.5\" y=\"209.1074\">Real</text><line style=\"stroke: #383838; stroke-width: 1.5;\" x1=\"43\" x2=\"115\" y1=\"216.9375\" y2=\"216.9375\"/></a><!--MD5=[09b614a08d8cba4a07c9adeb5e0fee81]\n",
       "class E3--><a href=\"psysml:e4de1612-4570-4c3a-878c-e0dca14f25a7\" target=\"_top\" title=\"psysml:e4de1612-4570-4c3a-878c-e0dca14f25a7\" xlink:actuate=\"onRequest\" xlink:href=\"psysml:e4de1612-4570-4c3a-878c-e0dca14f25a7\" xlink:show=\"new\" xlink:title=\"psysml:e4de1612-4570-4c3a-878c-e0dca14f25a7\" xlink:type=\"simple\"><rect fill=\"#FFFFFF\" height=\"75.5469\" id=\"E3\" style=\"stroke: #383838; stroke-width: 1.5;\" width=\"67\" x=\"151.5\" y=\"164\"/><text fill=\"#000000\" font-family=\"sans-serif\" font-size=\"12\" font-style=\"italic\" lengthAdjust=\"spacingAndGlyphs\" textLength=\"65\" x=\"152.5\" y=\"180.1387\">«item def»</text><text fill=\"#000000\" font-family=\"sans-serif\" font-size=\"12\" lengthAdjust=\"spacingAndGlyphs\" textLength=\"8\" x=\"181\" y=\"194.1074\">C</text><line style=\"stroke: #383838; stroke-width: 1.5;\" x1=\"152.5\" x2=\"217.5\" y1=\"201.9375\" y2=\"201.9375\"/><text fill=\"#000000\" font-family=\"sans-serif\" font-size=\"11\" lengthAdjust=\"spacingAndGlyphs\" textLength=\"38\" x=\"157.5\" y=\"232.9526\">x: Real</text><line style=\"stroke: #383838; stroke-width: 1.0;\" x1=\"152.5\" x2=\"157.5\" y1=\"216.3398\" y2=\"216.3398\"/><text fill=\"#000000\" font-family=\"sans-serif\" font-size=\"11\" lengthAdjust=\"spacingAndGlyphs\" textLength=\"55\" x=\"157.5\" y=\"219.6479\">attributes</text><line style=\"stroke: #383838; stroke-width: 1.0;\" x1=\"212.5\" x2=\"217.5\" y1=\"216.3398\" y2=\"216.3398\"/></a><!--MD5=[ebbe1d658d1005bcc118a6aa81145e00]\n",
       "class E4--><a href=\"psysml:8c3cf46e-c423-4c70-a710-66f9a3632f6b\" target=\"_top\" title=\"psysml:8c3cf46e-c423-4c70-a710-66f9a3632f6b\" xlink:actuate=\"onRequest\" xlink:href=\"psysml:8c3cf46e-c423-4c70-a710-66f9a3632f6b\" xlink:show=\"new\" xlink:title=\"psysml:8c3cf46e-c423-4c70-a710-66f9a3632f6b\" xlink:type=\"simple\"><rect fill=\"#FFFFFF\" height=\"45.9375\" id=\"E4\" rx=\"10\" ry=\"10\" style=\"stroke: #383838; stroke-width: 1.5;\" width=\"121\" x=\"97.5\" y=\"301\"/><text fill=\"#000000\" font-family=\"sans-serif\" font-size=\"12\" font-style=\"italic\" lengthAdjust=\"spacingAndGlyphs\" textLength=\"119\" x=\"98.5\" y=\"317.1387\">«assertConstraint»</text><text fill=\"#000000\" font-family=\"sans-serif\" font-size=\"12\" lengthAdjust=\"spacingAndGlyphs\" textLength=\"76\" x=\"120\" y=\"331.1074\">x_constraint</text><line style=\"stroke: #383838; stroke-width: 1.5;\" x1=\"98.5\" x2=\"217.5\" y1=\"338.9375\" y2=\"338.9375\"/></a><!--MD5=[270fce915f116d4de14055a7c1d9a0f3]\n",
       "class E5--><a href=\"psysml:7113fdf5-c3b3-43b5-a3fa-02abb845fbc2\" target=\"_top\" title=\"psysml:7113fdf5-c3b3-43b5-a3fa-02abb845fbc2\" xlink:actuate=\"onRequest\" xlink:href=\"psysml:7113fdf5-c3b3-43b5-a3fa-02abb845fbc2\" xlink:show=\"new\" xlink:title=\"psysml:7113fdf5-c3b3-43b5-a3fa-02abb845fbc2\" xlink:type=\"simple\"><rect fill=\"#FFFFFF\" height=\"45.9375\" id=\"E5\" style=\"stroke: #383838; stroke-width: 1.5;\" width=\"79\" x=\"77.5\" y=\"41\"/><text fill=\"#000000\" font-family=\"sans-serif\" font-size=\"12\" font-style=\"italic\" lengthAdjust=\"spacingAndGlyphs\" textLength=\"77\" x=\"78.5\" y=\"57.1387\">«action def»</text><text fill=\"#000000\" font-family=\"sans-serif\" font-size=\"12\" lengthAdjust=\"spacingAndGlyphs\" textLength=\"27\" x=\"103.5\" y=\"71.1074\">setX</text><line style=\"stroke: #383838; stroke-width: 1.5;\" x1=\"78.5\" x2=\"155.5\" y1=\"78.9375\" y2=\"78.9375\"/></a><!--MD5=[4672eba38e49728da53d11aeb285b987]\n",
       "reverse link E3 to E4--><a href=\"psysml:53eca076-bd38-4ff8-88cd-ccaa057f7e59\" target=\"_top\" title=\"psysml:53eca076-bd38-4ff8-88cd-ccaa057f7e59\" xlink:actuate=\"onRequest\" xlink:href=\"psysml:53eca076-bd38-4ff8-88cd-ccaa057f7e59\" xlink:show=\"new\" xlink:title=\"psysml:53eca076-bd38-4ff8-88cd-ccaa057f7e59\" xlink:type=\"simple\"><path d=\"M173.69,253.27 C169.97,269.82 166.01,287.38 163.01,300.75 \" fill=\"none\" id=\"E3&lt;-E4\" style=\"stroke: #383838; stroke-width: 1.0;\"/><polygon fill=\"#FFFFFF\" points=\"176.61,240.31,171.3948,245.2901,173.9859,252.0196,179.2011,247.0395,176.61,240.31\" style=\"stroke: #383838; stroke-width: 1.0;\"/></a><!--MD5=[6f107eb264eda4b26325f39a5516f1f3]\n",
       "reverse link E5 to E3--><a href=\"psysml:34b277fa-246f-4890-8f8b-22f79f83c872\" target=\"_top\" title=\"psysml:34b277fa-246f-4890-8f8b-22f79f83c872\" xlink:actuate=\"onRequest\" xlink:href=\"psysml:34b277fa-246f-4890-8f8b-22f79f83c872\" xlink:show=\"new\" xlink:title=\"psysml:34b277fa-246f-4890-8f8b-22f79f83c872\" xlink:type=\"simple\"><path d=\"M134,99 C143.89,118.78 156.35,143.71 166.49,163.97 \" fill=\"none\" id=\"E5&lt;-E3\" style=\"stroke: #383838; stroke-width: 1.0;\"/><polygon fill=\"#FFFFFF\" points=\"128.08,87.15,127.1856,94.3054,133.4466,97.8831,134.341,90.7277,128.08,87.15\" style=\"stroke: #383838; stroke-width: 1.0;\"/><text fill=\"#000000\" font-family=\"sans-serif\" font-size=\"13\" lengthAdjust=\"spacingAndGlyphs\" textLength=\"7\" x=\"152\" y=\"130.0669\">c</text></a><!--MD5=[f51c6d1f1856fe338ac0413483fb1ccf]\n",
       "reverse link E5 to E2--><a href=\"psysml:085fc47f-09d9-4ca0-b48d-81ba6e318ca7\" target=\"_top\" title=\"psysml:085fc47f-09d9-4ca0-b48d-81ba6e318ca7\" xlink:actuate=\"onRequest\" xlink:href=\"psysml:085fc47f-09d9-4ca0-b48d-81ba6e318ca7\" xlink:show=\"new\" xlink:title=\"psysml:085fc47f-09d9-4ca0-b48d-81ba6e318ca7\" xlink:type=\"simple\"><path d=\"M104.55,99.41 C102.59,105.25 100.67,111.27 99,117 C92.96,137.73 87.39,161.71 83.67,178.73 \" fill=\"none\" id=\"E5&lt;-E2\" style=\"stroke: #383838; stroke-width: 1.0;\"/><polygon fill=\"#FFFFFF\" points=\"108.8,87.11,103.0605,91.4756,104.8828,98.4527,110.6223,94.0871,108.8,87.11\" style=\"stroke: #383838; stroke-width: 1.0;\"/><text fill=\"#000000\" font-family=\"sans-serif\" font-size=\"13\" lengthAdjust=\"spacingAndGlyphs\" textLength=\"33\" x=\"100\" y=\"130.0669\">newX</text></a><!--MD5=[4c19a3dd2aaf217e351aa80478b03fa0]\n",
       "@startuml\r\n",
       "top to bottom direction\r\n",
       "skinparam monochrome true\r\n",
       "skinparam classbackgroundcolor white\r\n",
       "skinparam shadowing false\r\n",
       "skinparam wrapWidth 300\r\n",
       "hide circle\r\n",
       "\r\n",
       "package \"TextualRepresentationTest\" as E1  [[psysml:1e396b56-292d-4ed9-bbba-ca6bb661746c ]]  {\r\n",
       "comp def \"Real\" as E2  <<(T,blue) dataType>> [[psysml:2e771e59-55ab-4895-8e71-4691f1152b9b ]] {\r\n",
       "}\r\n",
       "comp def \"C\" as E3  <<(T,blue) item def>> [[psysml:e4de1612-4570-4c3a-878c-e0dca14f25a7 ]] {\r\n",
       "- - attributes - -\r\n",
       "x: Real\r\n",
       "}\r\n",
       "comp usage \"x_constraint\" as E4  <<(T,blue) assertConstraint>> [[psysml:8c3cf46e-c423-4c70-a710-66f9a3632f6b ]] {\r\n",
       "}\r\n",
       "comp def \"setX\" as E5  <<(T,blue) action def>> [[psysml:7113fdf5-c3b3-43b5-a3fa-02abb845fbc2 ]] {\r\n",
       "}\r\n",
       "E3 o- - E4 [[psysml:53eca076-bd38-4ff8-88cd-ccaa057f7e59 ]] \r\n",
       "E5 o- - E3 [[psysml:34b277fa-246f-4890-8f8b-22f79f83c872 ]] : c\r\n",
       "E5 o- - E2 [[psysml:085fc47f-09d9-4ca0-b48d-81ba6e318ca7 ]] : newX\r\n",
       "}\r\n",
       "@enduml\r\n",
       "\n",
       "PlantUML version 1.2020.13(Sat Jun 13 12:26:38 UTC 2020)\n",
       "(EPL source distribution)\n",
       "Java Runtime: OpenJDK Runtime Environment\n",
       "JVM: OpenJDK 64-Bit Server VM\n",
       "Default Encoding: UTF-8\n",
       "Language: en\n",
       "Country: null\n",
       "--></g></svg>"
      ]
     },
     "execution_count": 49,
     "metadata": {},
     "output_type": "execute_result"
    }
   ],
   "source": [
    "%viz --style=\"TB\" --view=\"Sequence\" \"TextualRepresentationTest\""
   ]
  },
  {
   "cell_type": "code",
   "execution_count": 50,
   "id": "c0bdc6f3",
   "metadata": {
    "execution": {
     "iopub.execute_input": "2021-06-30T09:21:20.242209Z",
     "iopub.status.busy": "2021-06-30T09:21:20.241690Z",
     "iopub.status.idle": "2021-06-30T09:21:20.293735Z",
     "shell.execute_reply": "2021-06-30T09:21:20.290571Z"
    }
   },
   "outputs": [
    {
     "data": {
      "image/svg+xml": [
       "<?xml version=\"1.0\" encoding=\"UTF-8\" standalone=\"no\"?><svg xmlns=\"http://www.w3.org/2000/svg\" xmlns:xlink=\"http://www.w3.org/1999/xlink\" contentScriptType=\"application/ecmascript\" contentStyleType=\"text/css\" height=\"261px\" preserveAspectRatio=\"none\" style=\"width:389px;height:261px;\" version=\"1.1\" viewBox=\"0 0 389 261\" width=\"389px\" zoomAndPan=\"magnify\"><defs/><g><!--MD5=[fbc87193dbaf4d95561dea2c320d4a47]\n",
       "cluster E1--><a href=\"psysml:1e396b56-292d-4ed9-bbba-ca6bb661746c\" target=\"_top\" title=\"psysml:1e396b56-292d-4ed9-bbba-ca6bb661746c\" xlink:actuate=\"onRequest\" xlink:href=\"psysml:1e396b56-292d-4ed9-bbba-ca6bb661746c\" xlink:show=\"new\" xlink:title=\"psysml:1e396b56-292d-4ed9-bbba-ca6bb661746c\" xlink:type=\"simple\"><polygon fill=\"#FFFFFF\" points=\"16,6,236,6,243,28.2969,367,28.2969,367,249.5,16,249.5,16,6\" style=\"stroke: #000000; stroke-width: 1.5;\"/><line style=\"stroke: #000000; stroke-width: 1.5;\" x1=\"16\" x2=\"243\" y1=\"28.2969\" y2=\"28.2969\"/><text fill=\"#000000\" font-family=\"sans-serif\" font-size=\"14\" font-weight=\"bold\" lengthAdjust=\"spacingAndGlyphs\" textLength=\"214\" x=\"20\" y=\"20.9951\">TextualRepresentationTest</text></a><!--MD5=[de5ec2e2e8f62f467e546659f5068c88]\n",
       "cluster E5--><a href=\"psysml:7113fdf5-c3b3-43b5-a3fa-02abb845fbc2\" target=\"_top\" title=\"psysml:7113fdf5-c3b3-43b5-a3fa-02abb845fbc2\" xlink:actuate=\"onRequest\" xlink:href=\"psysml:7113fdf5-c3b3-43b5-a3fa-02abb845fbc2\" xlink:show=\"new\" xlink:title=\"psysml:7113fdf5-c3b3-43b5-a3fa-02abb845fbc2\" xlink:type=\"simple\"><rect fill=\"#FFFFFF\" height=\"154.5\" id=\"E5\" style=\"stroke: #383838; stroke-width: 1.5;\" width=\"96\" x=\"225.5\" y=\"79\"/><rect fill=\"#F8F8F8\" height=\"37.9375\" style=\"stroke: #383838; stroke-width: 1.5;\" width=\"96\" x=\"225.5\" y=\"79\"/><text fill=\"#000000\" font-family=\"sans-serif\" font-size=\"12\" font-style=\"italic\" lengthAdjust=\"spacingAndGlyphs\" textLength=\"77\" x=\"235\" y=\"95.1387\">«action def»</text><text fill=\"#000000\" font-family=\"sans-serif\" font-size=\"12\" lengthAdjust=\"spacingAndGlyphs\" textLength=\"27\" x=\"260\" y=\"109.1074\">setX</text></a><!--MD5=[b4997ac47864f28c2f74865a473b2911]\n",
       "class E2--><a href=\"psysml:2e771e59-55ab-4895-8e71-4691f1152b9b\" target=\"_top\" title=\"psysml:2e771e59-55ab-4895-8e71-4691f1152b9b\" xlink:actuate=\"onRequest\" xlink:href=\"psysml:2e771e59-55ab-4895-8e71-4691f1152b9b\" xlink:show=\"new\" xlink:title=\"psysml:2e771e59-55ab-4895-8e71-4691f1152b9b\" xlink:type=\"simple\"><rect fill=\"#FFFFFF\" height=\"45.9375\" id=\"E2\" style=\"stroke: #383838; stroke-width: 1.5;\" width=\"74\" x=\"135\" y=\"56\"/><text fill=\"#000000\" font-family=\"sans-serif\" font-size=\"12\" font-style=\"italic\" lengthAdjust=\"spacingAndGlyphs\" textLength=\"72\" x=\"136\" y=\"72.1387\">«dataType»</text><text fill=\"#000000\" font-family=\"sans-serif\" font-size=\"12\" lengthAdjust=\"spacingAndGlyphs\" textLength=\"27\" x=\"158.5\" y=\"86.1074\">Real</text><line style=\"stroke: #383838; stroke-width: 1.5;\" x1=\"136\" x2=\"208\" y1=\"93.9375\" y2=\"93.9375\"/></a><!--MD5=[09b614a08d8cba4a07c9adeb5e0fee81]\n",
       "class E3--><a href=\"psysml:e4de1612-4570-4c3a-878c-e0dca14f25a7\" target=\"_top\" title=\"psysml:e4de1612-4570-4c3a-878c-e0dca14f25a7\" xlink:actuate=\"onRequest\" xlink:href=\"psysml:e4de1612-4570-4c3a-878c-e0dca14f25a7\" xlink:show=\"new\" xlink:title=\"psysml:e4de1612-4570-4c3a-878c-e0dca14f25a7\" xlink:type=\"simple\"><rect fill=\"#FFFFFF\" height=\"75.5469\" id=\"E3\" style=\"stroke: #383838; stroke-width: 1.5;\" width=\"67\" x=\"32.5\" y=\"41\"/><text fill=\"#000000\" font-family=\"sans-serif\" font-size=\"12\" font-style=\"italic\" lengthAdjust=\"spacingAndGlyphs\" textLength=\"65\" x=\"33.5\" y=\"57.1387\">«item def»</text><text fill=\"#000000\" font-family=\"sans-serif\" font-size=\"12\" lengthAdjust=\"spacingAndGlyphs\" textLength=\"8\" x=\"62\" y=\"71.1074\">C</text><line style=\"stroke: #383838; stroke-width: 1.5;\" x1=\"33.5\" x2=\"98.5\" y1=\"78.9375\" y2=\"78.9375\"/><text fill=\"#000000\" font-family=\"sans-serif\" font-size=\"11\" lengthAdjust=\"spacingAndGlyphs\" textLength=\"38\" x=\"38.5\" y=\"109.9526\">x: Real</text><line style=\"stroke: #383838; stroke-width: 1.0;\" x1=\"33.5\" x2=\"38.5\" y1=\"93.3398\" y2=\"93.3398\"/><text fill=\"#000000\" font-family=\"sans-serif\" font-size=\"11\" lengthAdjust=\"spacingAndGlyphs\" textLength=\"55\" x=\"38.5\" y=\"96.6479\">attributes</text><line style=\"stroke: #383838; stroke-width: 1.0;\" x1=\"93.5\" x2=\"98.5\" y1=\"93.3398\" y2=\"93.3398\"/></a><!--MD5=[ebbe1d658d1005bcc118a6aa81145e00]\n",
       "class E4--><a href=\"psysml:8c3cf46e-c423-4c70-a710-66f9a3632f6b\" target=\"_top\" title=\"psysml:8c3cf46e-c423-4c70-a710-66f9a3632f6b\" xlink:actuate=\"onRequest\" xlink:href=\"psysml:8c3cf46e-c423-4c70-a710-66f9a3632f6b\" xlink:show=\"new\" xlink:title=\"psysml:8c3cf46e-c423-4c70-a710-66f9a3632f6b\" xlink:type=\"simple\"><rect fill=\"#FFFFFF\" height=\"45.9375\" id=\"E4\" rx=\"10\" ry=\"10\" style=\"stroke: #383838; stroke-width: 1.5;\" width=\"121\" x=\"32.5\" y=\"177\"/><text fill=\"#000000\" font-family=\"sans-serif\" font-size=\"12\" font-style=\"italic\" lengthAdjust=\"spacingAndGlyphs\" textLength=\"119\" x=\"33.5\" y=\"193.1387\">«assertConstraint»</text><text fill=\"#000000\" font-family=\"sans-serif\" font-size=\"12\" lengthAdjust=\"spacingAndGlyphs\" textLength=\"76\" x=\"55\" y=\"207.1074\">x_constraint</text><line style=\"stroke: #383838; stroke-width: 1.5;\" x1=\"33.5\" x2=\"152.5\" y1=\"214.9375\" y2=\"214.9375\"/></a><text fill=\"#000000\" font-family=\"sans-serif\" font-size=\"14\" lengthAdjust=\"spacingAndGlyphs\" textLength=\"8\" x=\"246\" y=\"57.6982\">c</text><rect fill=\"#383838\" height=\"12\" style=\"stroke: #F8F8F8; stroke-width: 1.5;\" width=\"12\" x=\"244\" y=\"73\"/><text fill=\"#000000\" font-family=\"sans-serif\" font-size=\"14\" lengthAdjust=\"spacingAndGlyphs\" textLength=\"38\" x=\"278\" y=\"57.6982\">newX</text><rect fill=\"#383838\" height=\"12\" style=\"stroke: #F8F8F8; stroke-width: 1.5;\" width=\"12\" x=\"291\" y=\"73\"/><!--MD5=[4672eba38e49728da53d11aeb285b987]\n",
       "reverse link E3 to E4--><a href=\"psysml:53eca076-bd38-4ff8-88cd-ccaa057f7e59\" target=\"_top\" title=\"psysml:53eca076-bd38-4ff8-88cd-ccaa057f7e59\" xlink:actuate=\"onRequest\" xlink:href=\"psysml:53eca076-bd38-4ff8-88cd-ccaa057f7e59\" xlink:show=\"new\" xlink:title=\"psysml:53eca076-bd38-4ff8-88cd-ccaa057f7e59\" xlink:type=\"simple\"><path d=\"M77.31,129.85 C81.03,146.26 84.99,163.68 87.99,176.93 \" fill=\"none\" id=\"E3&lt;-E4\" style=\"stroke: #383838; stroke-width: 1.0;\"/><polygon fill=\"#FFFFFF\" points=\"74.39,117,71.8133,123.735,77.0392,128.7039,79.6159,121.9689,74.39,117\" style=\"stroke: #383838; stroke-width: 1.0;\"/></a><!--MD5=[ca14aee69d93b61ee478723c59745a31]\n",
       "@startuml\r\n",
       "top to bottom direction\r\n",
       "skinparam monochrome true\r\n",
       "skinparam classbackgroundcolor white\r\n",
       "skinparam shadowing false\r\n",
       "skinparam wrapWidth 300\r\n",
       "hide circle\r\n",
       "\r\n",
       "package \"TextualRepresentationTest\" as E1  [[psysml:1e396b56-292d-4ed9-bbba-ca6bb661746c ]]  {\r\n",
       "comp def \"Real\" as E2  <<(T,blue) dataType>> [[psysml:2e771e59-55ab-4895-8e71-4691f1152b9b ]] {\r\n",
       "}\r\n",
       "comp def \"C\" as E3  <<(T,blue) item def>> [[psysml:e4de1612-4570-4c3a-878c-e0dca14f25a7 ]] {\r\n",
       "- - attributes - -\r\n",
       "x: Real\r\n",
       "}\r\n",
       "comp usage \"x_constraint\" as E4  <<(T,blue) assertConstraint>> [[psysml:8c3cf46e-c423-4c70-a710-66f9a3632f6b ]] {\r\n",
       "}\r\n",
       "rec def \"setX\" as E5  <<(T,blue) action def>> [[psysml:7113fdf5-c3b3-43b5-a3fa-02abb845fbc2 ]] {\r\n",
       "portin \"c\" as E6  [[psysml:34b277fa-246f-4890-8f8b-22f79f83c872 ]] \r\n",
       "portin \"newX\" as E7  [[psysml:085fc47f-09d9-4ca0-b48d-81ba6e318ca7 ]] \r\n",
       "}\r\n",
       "\r\n",
       "E3 o- - E4 [[psysml:53eca076-bd38-4ff8-88cd-ccaa057f7e59 ]] \r\n",
       "}\r\n",
       "@enduml\r\n",
       "\n",
       "PlantUML version 1.2020.13(Sat Jun 13 12:26:38 UTC 2020)\n",
       "(EPL source distribution)\n",
       "Java Runtime: OpenJDK Runtime Environment\n",
       "JVM: OpenJDK 64-Bit Server VM\n",
       "Default Encoding: UTF-8\n",
       "Language: en\n",
       "Country: null\n",
       "--></g></svg>"
      ]
     },
     "execution_count": 50,
     "metadata": {},
     "output_type": "execute_result"
    }
   ],
   "source": [
    "%viz --style=\"TB\" --view=\"MIXED\" \"TextualRepresentationTest\""
   ]
  },
  {
   "cell_type": "code",
   "execution_count": 51,
   "id": "403ed241",
   "metadata": {
    "execution": {
     "iopub.execute_input": "2021-06-30T09:21:20.341058Z",
     "iopub.status.busy": "2021-06-30T09:21:20.340623Z",
     "iopub.status.idle": "2021-06-30T09:21:20.391510Z",
     "shell.execute_reply": "2021-06-30T09:21:20.390345Z"
    }
   },
   "outputs": [
    {
     "data": {
      "image/svg+xml": [
       "<?xml version=\"1.0\" encoding=\"UTF-8\" standalone=\"no\"?><svg xmlns=\"http://www.w3.org/2000/svg\" xmlns:xlink=\"http://www.w3.org/1999/xlink\" contentScriptType=\"application/ecmascript\" contentStyleType=\"text/css\" height=\"261px\" preserveAspectRatio=\"none\" style=\"width:389px;height:261px;\" version=\"1.1\" viewBox=\"0 0 389 261\" width=\"389px\" zoomAndPan=\"magnify\"><defs/><g><!--MD5=[fbc87193dbaf4d95561dea2c320d4a47]\n",
       "cluster E1--><a href=\"psysml:1e396b56-292d-4ed9-bbba-ca6bb661746c\" target=\"_top\" title=\"psysml:1e396b56-292d-4ed9-bbba-ca6bb661746c\" xlink:actuate=\"onRequest\" xlink:href=\"psysml:1e396b56-292d-4ed9-bbba-ca6bb661746c\" xlink:show=\"new\" xlink:title=\"psysml:1e396b56-292d-4ed9-bbba-ca6bb661746c\" xlink:type=\"simple\"><polygon fill=\"#FFFFFF\" points=\"16,6,236,6,243,28.2969,367,28.2969,367,249.5,16,249.5,16,6\" style=\"stroke: #000000; stroke-width: 1.5;\"/><line style=\"stroke: #000000; stroke-width: 1.5;\" x1=\"16\" x2=\"243\" y1=\"28.2969\" y2=\"28.2969\"/><text fill=\"#000000\" font-family=\"sans-serif\" font-size=\"14\" font-weight=\"bold\" lengthAdjust=\"spacingAndGlyphs\" textLength=\"214\" x=\"20\" y=\"20.9951\">TextualRepresentationTest</text></a><!--MD5=[de5ec2e2e8f62f467e546659f5068c88]\n",
       "cluster E5--><a href=\"psysml:7113fdf5-c3b3-43b5-a3fa-02abb845fbc2\" target=\"_top\" title=\"psysml:7113fdf5-c3b3-43b5-a3fa-02abb845fbc2\" xlink:actuate=\"onRequest\" xlink:href=\"psysml:7113fdf5-c3b3-43b5-a3fa-02abb845fbc2\" xlink:show=\"new\" xlink:title=\"psysml:7113fdf5-c3b3-43b5-a3fa-02abb845fbc2\" xlink:type=\"simple\"><rect fill=\"#FFFFFF\" height=\"154.5\" id=\"E5\" style=\"stroke: #383838; stroke-width: 1.5;\" width=\"96\" x=\"225.5\" y=\"79\"/><rect fill=\"#F8F8F8\" height=\"37.9375\" style=\"stroke: #383838; stroke-width: 1.5;\" width=\"96\" x=\"225.5\" y=\"79\"/><text fill=\"#000000\" font-family=\"sans-serif\" font-size=\"12\" font-style=\"italic\" lengthAdjust=\"spacingAndGlyphs\" textLength=\"77\" x=\"235\" y=\"95.1387\">«action def»</text><text fill=\"#000000\" font-family=\"sans-serif\" font-size=\"12\" lengthAdjust=\"spacingAndGlyphs\" textLength=\"27\" x=\"260\" y=\"109.1074\">setX</text></a><!--MD5=[b4997ac47864f28c2f74865a473b2911]\n",
       "class E2--><a href=\"psysml:2e771e59-55ab-4895-8e71-4691f1152b9b\" target=\"_top\" title=\"psysml:2e771e59-55ab-4895-8e71-4691f1152b9b\" xlink:actuate=\"onRequest\" xlink:href=\"psysml:2e771e59-55ab-4895-8e71-4691f1152b9b\" xlink:show=\"new\" xlink:title=\"psysml:2e771e59-55ab-4895-8e71-4691f1152b9b\" xlink:type=\"simple\"><rect fill=\"#FFFFFF\" height=\"45.9375\" id=\"E2\" style=\"stroke: #383838; stroke-width: 1.5;\" width=\"74\" x=\"135\" y=\"56\"/><text fill=\"#000000\" font-family=\"sans-serif\" font-size=\"12\" font-style=\"italic\" lengthAdjust=\"spacingAndGlyphs\" textLength=\"72\" x=\"136\" y=\"72.1387\">«dataType»</text><text fill=\"#000000\" font-family=\"sans-serif\" font-size=\"12\" lengthAdjust=\"spacingAndGlyphs\" textLength=\"27\" x=\"158.5\" y=\"86.1074\">Real</text><line style=\"stroke: #383838; stroke-width: 1.5;\" x1=\"136\" x2=\"208\" y1=\"93.9375\" y2=\"93.9375\"/></a><!--MD5=[09b614a08d8cba4a07c9adeb5e0fee81]\n",
       "class E3--><a href=\"psysml:e4de1612-4570-4c3a-878c-e0dca14f25a7\" target=\"_top\" title=\"psysml:e4de1612-4570-4c3a-878c-e0dca14f25a7\" xlink:actuate=\"onRequest\" xlink:href=\"psysml:e4de1612-4570-4c3a-878c-e0dca14f25a7\" xlink:show=\"new\" xlink:title=\"psysml:e4de1612-4570-4c3a-878c-e0dca14f25a7\" xlink:type=\"simple\"><rect fill=\"#FFFFFF\" height=\"75.5469\" id=\"E3\" style=\"stroke: #383838; stroke-width: 1.5;\" width=\"67\" x=\"32.5\" y=\"41\"/><text fill=\"#000000\" font-family=\"sans-serif\" font-size=\"12\" font-style=\"italic\" lengthAdjust=\"spacingAndGlyphs\" textLength=\"65\" x=\"33.5\" y=\"57.1387\">«item def»</text><text fill=\"#000000\" font-family=\"sans-serif\" font-size=\"12\" lengthAdjust=\"spacingAndGlyphs\" textLength=\"8\" x=\"62\" y=\"71.1074\">C</text><line style=\"stroke: #383838; stroke-width: 1.5;\" x1=\"33.5\" x2=\"98.5\" y1=\"78.9375\" y2=\"78.9375\"/><text fill=\"#000000\" font-family=\"sans-serif\" font-size=\"11\" lengthAdjust=\"spacingAndGlyphs\" textLength=\"38\" x=\"38.5\" y=\"109.9526\">x: Real</text><line style=\"stroke: #383838; stroke-width: 1.0;\" x1=\"33.5\" x2=\"38.5\" y1=\"93.3398\" y2=\"93.3398\"/><text fill=\"#000000\" font-family=\"sans-serif\" font-size=\"11\" lengthAdjust=\"spacingAndGlyphs\" textLength=\"55\" x=\"38.5\" y=\"96.6479\">attributes</text><line style=\"stroke: #383838; stroke-width: 1.0;\" x1=\"93.5\" x2=\"98.5\" y1=\"93.3398\" y2=\"93.3398\"/></a><!--MD5=[ebbe1d658d1005bcc118a6aa81145e00]\n",
       "class E4--><a href=\"psysml:8c3cf46e-c423-4c70-a710-66f9a3632f6b\" target=\"_top\" title=\"psysml:8c3cf46e-c423-4c70-a710-66f9a3632f6b\" xlink:actuate=\"onRequest\" xlink:href=\"psysml:8c3cf46e-c423-4c70-a710-66f9a3632f6b\" xlink:show=\"new\" xlink:title=\"psysml:8c3cf46e-c423-4c70-a710-66f9a3632f6b\" xlink:type=\"simple\"><rect fill=\"#FFFFFF\" height=\"45.9375\" id=\"E4\" rx=\"10\" ry=\"10\" style=\"stroke: #383838; stroke-width: 1.5;\" width=\"121\" x=\"32.5\" y=\"177\"/><text fill=\"#000000\" font-family=\"sans-serif\" font-size=\"12\" font-style=\"italic\" lengthAdjust=\"spacingAndGlyphs\" textLength=\"119\" x=\"33.5\" y=\"193.1387\">«assertConstraint»</text><text fill=\"#000000\" font-family=\"sans-serif\" font-size=\"12\" lengthAdjust=\"spacingAndGlyphs\" textLength=\"76\" x=\"55\" y=\"207.1074\">x_constraint</text><line style=\"stroke: #383838; stroke-width: 1.5;\" x1=\"33.5\" x2=\"152.5\" y1=\"214.9375\" y2=\"214.9375\"/></a><text fill=\"#000000\" font-family=\"sans-serif\" font-size=\"14\" lengthAdjust=\"spacingAndGlyphs\" textLength=\"8\" x=\"246\" y=\"57.6982\">c</text><rect fill=\"#383838\" height=\"12\" style=\"stroke: #F8F8F8; stroke-width: 1.5;\" width=\"12\" x=\"244\" y=\"73\"/><text fill=\"#000000\" font-family=\"sans-serif\" font-size=\"14\" lengthAdjust=\"spacingAndGlyphs\" textLength=\"38\" x=\"278\" y=\"57.6982\">newX</text><rect fill=\"#383838\" height=\"12\" style=\"stroke: #F8F8F8; stroke-width: 1.5;\" width=\"12\" x=\"291\" y=\"73\"/><!--MD5=[4672eba38e49728da53d11aeb285b987]\n",
       "reverse link E3 to E4--><a href=\"psysml:53eca076-bd38-4ff8-88cd-ccaa057f7e59\" target=\"_top\" title=\"psysml:53eca076-bd38-4ff8-88cd-ccaa057f7e59\" xlink:actuate=\"onRequest\" xlink:href=\"psysml:53eca076-bd38-4ff8-88cd-ccaa057f7e59\" xlink:show=\"new\" xlink:title=\"psysml:53eca076-bd38-4ff8-88cd-ccaa057f7e59\" xlink:type=\"simple\"><path d=\"M66,130.29 C66,130.29 66,176.74 66,176.74 \" fill=\"none\" id=\"E3&lt;-E4\" style=\"stroke: #383838; stroke-width: 1.0;\"/><polygon fill=\"#FFFFFF\" points=\"66,117.29,62,123.29,66,129.29,70,123.29,66,117.29\" style=\"stroke: #383838; stroke-width: 1.0;\"/></a><!--MD5=[7a3407d1ddfc9a804da6a55cc6a873bf]\n",
       "@startuml\r\n",
       "skinparam linetype ortho\r\n",
       "skinparam monochrome true\r\n",
       "skinparam classbackgroundcolor white\r\n",
       "skinparam shadowing false\r\n",
       "skinparam wrapWidth 300\r\n",
       "hide circle\r\n",
       "\r\n",
       "package \"TextualRepresentationTest\" as E1  [[psysml:1e396b56-292d-4ed9-bbba-ca6bb661746c ]]  {\r\n",
       "comp def \"Real\" as E2  <<(T,blue) dataType>> [[psysml:2e771e59-55ab-4895-8e71-4691f1152b9b ]] {\r\n",
       "}\r\n",
       "comp def \"C\" as E3  <<(T,blue) item def>> [[psysml:e4de1612-4570-4c3a-878c-e0dca14f25a7 ]] {\r\n",
       "- - attributes - -\r\n",
       "x: Real\r\n",
       "}\r\n",
       "comp usage \"x_constraint\" as E4  <<(T,blue) assertConstraint>> [[psysml:8c3cf46e-c423-4c70-a710-66f9a3632f6b ]] {\r\n",
       "}\r\n",
       "rec def \"setX\" as E5  <<(T,blue) action def>> [[psysml:7113fdf5-c3b3-43b5-a3fa-02abb845fbc2 ]] {\r\n",
       "portin \"c\" as E6  [[psysml:34b277fa-246f-4890-8f8b-22f79f83c872 ]] \r\n",
       "portin \"newX\" as E7  [[psysml:085fc47f-09d9-4ca0-b48d-81ba6e318ca7 ]] \r\n",
       "}\r\n",
       "\r\n",
       "E3 o- - E4 [[psysml:53eca076-bd38-4ff8-88cd-ccaa057f7e59 ]] \r\n",
       "}\r\n",
       "@enduml\r\n",
       "\n",
       "PlantUML version 1.2020.13(Sat Jun 13 12:26:38 UTC 2020)\n",
       "(EPL source distribution)\n",
       "Java Runtime: OpenJDK Runtime Environment\n",
       "JVM: OpenJDK 64-Bit Server VM\n",
       "Default Encoding: UTF-8\n",
       "Language: en\n",
       "Country: null\n",
       "--></g></svg>"
      ]
     },
     "execution_count": 51,
     "metadata": {},
     "output_type": "execute_result"
    }
   ],
   "source": [
    "%viz --style=\"ORTHOLINE\" --view=\"Default\" \"TextualRepresentationTest\""
   ]
  },
  {
   "cell_type": "code",
   "execution_count": 52,
   "id": "116f9c57",
   "metadata": {
    "execution": {
     "iopub.execute_input": "2021-06-30T09:21:20.445648Z",
     "iopub.status.busy": "2021-06-30T09:21:20.444746Z",
     "iopub.status.idle": "2021-06-30T09:21:20.492939Z",
     "shell.execute_reply": "2021-06-30T09:21:20.492595Z"
    }
   },
   "outputs": [
    {
     "data": {
      "image/svg+xml": [
       "<?xml version=\"1.0\" encoding=\"UTF-8\" standalone=\"no\"?><svg xmlns=\"http://www.w3.org/2000/svg\" xmlns:xlink=\"http://www.w3.org/1999/xlink\" contentScriptType=\"application/ecmascript\" contentStyleType=\"text/css\" height=\"375px\" preserveAspectRatio=\"none\" style=\"width:268px;height:375px;\" version=\"1.1\" viewBox=\"0 0 268 375\" width=\"268px\" zoomAndPan=\"magnify\"><defs/><g><!--MD5=[fbc87193dbaf4d95561dea2c320d4a47]\n",
       "cluster E1--><a href=\"psysml:1e396b56-292d-4ed9-bbba-ca6bb661746c\" target=\"_top\" title=\"psysml:1e396b56-292d-4ed9-bbba-ca6bb661746c\" xlink:actuate=\"onRequest\" xlink:href=\"psysml:1e396b56-292d-4ed9-bbba-ca6bb661746c\" xlink:show=\"new\" xlink:title=\"psysml:1e396b56-292d-4ed9-bbba-ca6bb661746c\" xlink:type=\"simple\"><polygon fill=\"#FFFFFF\" points=\"16,6,236,6,243,28.2969,246,28.2969,246,363,16,363,16,6\" style=\"stroke: #000000; stroke-width: 1.5;\"/><line style=\"stroke: #000000; stroke-width: 1.5;\" x1=\"16\" x2=\"243\" y1=\"28.2969\" y2=\"28.2969\"/><text fill=\"#000000\" font-family=\"sans-serif\" font-size=\"14\" font-weight=\"bold\" lengthAdjust=\"spacingAndGlyphs\" textLength=\"214\" x=\"20\" y=\"20.9951\">TextualRepresentationTest</text></a><!--MD5=[b4997ac47864f28c2f74865a473b2911]\n",
       "class E2--><a href=\"psysml:2e771e59-55ab-4895-8e71-4691f1152b9b\" target=\"_top\" title=\"psysml:2e771e59-55ab-4895-8e71-4691f1152b9b\" xlink:actuate=\"onRequest\" xlink:href=\"psysml:2e771e59-55ab-4895-8e71-4691f1152b9b\" xlink:show=\"new\" xlink:title=\"psysml:2e771e59-55ab-4895-8e71-4691f1152b9b\" xlink:type=\"simple\"><rect fill=\"#FFFFFF\" height=\"45.9375\" id=\"E2\" style=\"stroke: #383838; stroke-width: 1.5;\" width=\"74\" x=\"42\" y=\"179\"/><text fill=\"#000000\" font-family=\"sans-serif\" font-size=\"12\" font-style=\"italic\" lengthAdjust=\"spacingAndGlyphs\" textLength=\"72\" x=\"43\" y=\"195.1387\">«dataType»</text><text fill=\"#000000\" font-family=\"sans-serif\" font-size=\"12\" lengthAdjust=\"spacingAndGlyphs\" textLength=\"27\" x=\"65.5\" y=\"209.1074\">Real</text><line style=\"stroke: #383838; stroke-width: 1.5;\" x1=\"43\" x2=\"115\" y1=\"216.9375\" y2=\"216.9375\"/></a><!--MD5=[09b614a08d8cba4a07c9adeb5e0fee81]\n",
       "class E3--><a href=\"psysml:e4de1612-4570-4c3a-878c-e0dca14f25a7\" target=\"_top\" title=\"psysml:e4de1612-4570-4c3a-878c-e0dca14f25a7\" xlink:actuate=\"onRequest\" xlink:href=\"psysml:e4de1612-4570-4c3a-878c-e0dca14f25a7\" xlink:show=\"new\" xlink:title=\"psysml:e4de1612-4570-4c3a-878c-e0dca14f25a7\" xlink:type=\"simple\"><rect fill=\"#FFFFFF\" height=\"75.5469\" id=\"E3\" style=\"stroke: #383838; stroke-width: 1.5;\" width=\"67\" x=\"151.5\" y=\"164\"/><text fill=\"#000000\" font-family=\"sans-serif\" font-size=\"12\" font-style=\"italic\" lengthAdjust=\"spacingAndGlyphs\" textLength=\"65\" x=\"152.5\" y=\"180.1387\">«item def»</text><text fill=\"#000000\" font-family=\"sans-serif\" font-size=\"12\" lengthAdjust=\"spacingAndGlyphs\" textLength=\"8\" x=\"181\" y=\"194.1074\">C</text><line style=\"stroke: #383838; stroke-width: 1.5;\" x1=\"152.5\" x2=\"217.5\" y1=\"201.9375\" y2=\"201.9375\"/><text fill=\"#000000\" font-family=\"sans-serif\" font-size=\"11\" lengthAdjust=\"spacingAndGlyphs\" textLength=\"38\" x=\"157.5\" y=\"232.9526\">x: Real</text><line style=\"stroke: #383838; stroke-width: 1.0;\" x1=\"152.5\" x2=\"157.5\" y1=\"216.3398\" y2=\"216.3398\"/><text fill=\"#000000\" font-family=\"sans-serif\" font-size=\"11\" lengthAdjust=\"spacingAndGlyphs\" textLength=\"55\" x=\"157.5\" y=\"219.6479\">attributes</text><line style=\"stroke: #383838; stroke-width: 1.0;\" x1=\"212.5\" x2=\"217.5\" y1=\"216.3398\" y2=\"216.3398\"/></a><!--MD5=[ebbe1d658d1005bcc118a6aa81145e00]\n",
       "class E4--><a href=\"psysml:8c3cf46e-c423-4c70-a710-66f9a3632f6b\" target=\"_top\" title=\"psysml:8c3cf46e-c423-4c70-a710-66f9a3632f6b\" xlink:actuate=\"onRequest\" xlink:href=\"psysml:8c3cf46e-c423-4c70-a710-66f9a3632f6b\" xlink:show=\"new\" xlink:title=\"psysml:8c3cf46e-c423-4c70-a710-66f9a3632f6b\" xlink:type=\"simple\"><rect fill=\"#FFFFFF\" height=\"45.9375\" id=\"E4\" rx=\"10\" ry=\"10\" style=\"stroke: #383838; stroke-width: 1.5;\" width=\"121\" x=\"97.5\" y=\"301\"/><text fill=\"#000000\" font-family=\"sans-serif\" font-size=\"12\" font-style=\"italic\" lengthAdjust=\"spacingAndGlyphs\" textLength=\"119\" x=\"98.5\" y=\"317.1387\">«assertConstraint»</text><text fill=\"#000000\" font-family=\"sans-serif\" font-size=\"12\" lengthAdjust=\"spacingAndGlyphs\" textLength=\"76\" x=\"120\" y=\"331.1074\">x_constraint</text><line style=\"stroke: #383838; stroke-width: 1.5;\" x1=\"98.5\" x2=\"217.5\" y1=\"338.9375\" y2=\"338.9375\"/></a><!--MD5=[270fce915f116d4de14055a7c1d9a0f3]\n",
       "class E5--><a href=\"psysml:7113fdf5-c3b3-43b5-a3fa-02abb845fbc2\" target=\"_top\" title=\"psysml:7113fdf5-c3b3-43b5-a3fa-02abb845fbc2\" xlink:actuate=\"onRequest\" xlink:href=\"psysml:7113fdf5-c3b3-43b5-a3fa-02abb845fbc2\" xlink:show=\"new\" xlink:title=\"psysml:7113fdf5-c3b3-43b5-a3fa-02abb845fbc2\" xlink:type=\"simple\"><rect fill=\"#FFFFFF\" height=\"45.9375\" id=\"E5\" style=\"stroke: #383838; stroke-width: 1.5;\" width=\"79\" x=\"77.5\" y=\"41\"/><text fill=\"#000000\" font-family=\"sans-serif\" font-size=\"12\" font-style=\"italic\" lengthAdjust=\"spacingAndGlyphs\" textLength=\"77\" x=\"78.5\" y=\"57.1387\">«action def»</text><text fill=\"#000000\" font-family=\"sans-serif\" font-size=\"12\" lengthAdjust=\"spacingAndGlyphs\" textLength=\"27\" x=\"103.5\" y=\"71.1074\">setX</text><line style=\"stroke: #383838; stroke-width: 1.5;\" x1=\"78.5\" x2=\"155.5\" y1=\"78.9375\" y2=\"78.9375\"/></a><!--MD5=[4672eba38e49728da53d11aeb285b987]\n",
       "reverse link E3 to E4--><a href=\"psysml:53eca076-bd38-4ff8-88cd-ccaa057f7e59\" target=\"_top\" title=\"psysml:53eca076-bd38-4ff8-88cd-ccaa057f7e59\" xlink:actuate=\"onRequest\" xlink:href=\"psysml:53eca076-bd38-4ff8-88cd-ccaa057f7e59\" xlink:show=\"new\" xlink:title=\"psysml:53eca076-bd38-4ff8-88cd-ccaa057f7e59\" xlink:type=\"simple\"><path d=\"M185,253.27 C185,253.27 185,300.78 185,300.78 \" fill=\"none\" id=\"E3&lt;-E4\" style=\"stroke: #383838; stroke-width: 1.0;\"/><polygon fill=\"#FFFFFF\" points=\"185,240.27,181,246.27,185,252.27,189,246.27,185,240.27\" style=\"stroke: #383838; stroke-width: 1.0;\"/></a><!--MD5=[6f107eb264eda4b26325f39a5516f1f3]\n",
       "reverse link E5 to E3--><a href=\"psysml:34b277fa-246f-4890-8f8b-22f79f83c872\" target=\"_top\" title=\"psysml:34b277fa-246f-4890-8f8b-22f79f83c872\" xlink:actuate=\"onRequest\" xlink:href=\"psysml:34b277fa-246f-4890-8f8b-22f79f83c872\" xlink:show=\"new\" xlink:title=\"psysml:34b277fa-246f-4890-8f8b-22f79f83c872\" xlink:type=\"simple\"><path d=\"M133.75,100.17 C133.75,100.17 133.75,172 133.75,172 C133.75,172 141.73,172 151.39,172 \" fill=\"none\" id=\"E5&lt;-E3\" style=\"stroke: #383838; stroke-width: 1.0;\"/><polygon fill=\"#FFFFFF\" points=\"133.75,87.17,129.75,93.17,133.75,99.17,137.75,93.17,133.75,87.17\" style=\"stroke: #383838; stroke-width: 1.0;\"/><text fill=\"#000000\" font-family=\"sans-serif\" font-size=\"13\" lengthAdjust=\"spacingAndGlyphs\" textLength=\"7\" x=\"178\" y=\"130.0669\">c</text></a><!--MD5=[f51c6d1f1856fe338ac0413483fb1ccf]\n",
       "reverse link E5 to E2--><a href=\"psysml:085fc47f-09d9-4ca0-b48d-81ba6e318ca7\" target=\"_top\" title=\"psysml:085fc47f-09d9-4ca0-b48d-81ba6e318ca7\" xlink:actuate=\"onRequest\" xlink:href=\"psysml:085fc47f-09d9-4ca0-b48d-81ba6e318ca7\" xlink:show=\"new\" xlink:title=\"psysml:085fc47f-09d9-4ca0-b48d-81ba6e318ca7\" xlink:type=\"simple\"><path d=\"M96.75,100.1 C96.75,100.1 96.75,178.83 96.75,178.83 \" fill=\"none\" id=\"E5&lt;-E2\" style=\"stroke: #383838; stroke-width: 1.0;\"/><polygon fill=\"#FFFFFF\" points=\"96.75,87.1,92.75,93.1,96.75,99.1,100.75,93.1,96.75,87.1\" style=\"stroke: #383838; stroke-width: 1.0;\"/><text fill=\"#000000\" font-family=\"sans-serif\" font-size=\"13\" lengthAdjust=\"spacingAndGlyphs\" textLength=\"33\" x=\"88\" y=\"130.0669\">newX</text></a><!--MD5=[93510750aedd494ed4fdccb298fa8f2b]\n",
       "@startuml\r\n",
       "skinparam linetype ortho\r\n",
       "skinparam monochrome true\r\n",
       "skinparam classbackgroundcolor white\r\n",
       "skinparam shadowing false\r\n",
       "skinparam wrapWidth 300\r\n",
       "hide circle\r\n",
       "\r\n",
       "package \"TextualRepresentationTest\" as E1  [[psysml:1e396b56-292d-4ed9-bbba-ca6bb661746c ]]  {\r\n",
       "comp def \"Real\" as E2  <<(T,blue) dataType>> [[psysml:2e771e59-55ab-4895-8e71-4691f1152b9b ]] {\r\n",
       "}\r\n",
       "comp def \"C\" as E3  <<(T,blue) item def>> [[psysml:e4de1612-4570-4c3a-878c-e0dca14f25a7 ]] {\r\n",
       "- - attributes - -\r\n",
       "x: Real\r\n",
       "}\r\n",
       "comp usage \"x_constraint\" as E4  <<(T,blue) assertConstraint>> [[psysml:8c3cf46e-c423-4c70-a710-66f9a3632f6b ]] {\r\n",
       "}\r\n",
       "comp def \"setX\" as E5  <<(T,blue) action def>> [[psysml:7113fdf5-c3b3-43b5-a3fa-02abb845fbc2 ]] {\r\n",
       "}\r\n",
       "E3 o- - E4 [[psysml:53eca076-bd38-4ff8-88cd-ccaa057f7e59 ]] \r\n",
       "E5 o- - E3 [[psysml:34b277fa-246f-4890-8f8b-22f79f83c872 ]] : c\r\n",
       "E5 o- - E2 [[psysml:085fc47f-09d9-4ca0-b48d-81ba6e318ca7 ]] : newX\r\n",
       "}\r\n",
       "@enduml\r\n",
       "\n",
       "PlantUML version 1.2020.13(Sat Jun 13 12:26:38 UTC 2020)\n",
       "(EPL source distribution)\n",
       "Java Runtime: OpenJDK Runtime Environment\n",
       "JVM: OpenJDK 64-Bit Server VM\n",
       "Default Encoding: UTF-8\n",
       "Language: en\n",
       "Country: null\n",
       "--></g></svg>"
      ]
     },
     "execution_count": 52,
     "metadata": {},
     "output_type": "execute_result"
    }
   ],
   "source": [
    "%viz --style=\"ORTHOLINE\" --view=\"Tree\" \"TextualRepresentationTest\""
   ]
  },
  {
   "cell_type": "code",
   "execution_count": 53,
   "id": "955156f9",
   "metadata": {
    "execution": {
     "iopub.execute_input": "2021-06-30T09:21:20.550523Z",
     "iopub.status.busy": "2021-06-30T09:21:20.544190Z",
     "iopub.status.idle": "2021-06-30T09:21:20.557745Z",
     "shell.execute_reply": "2021-06-30T09:21:20.557400Z"
    }
   },
   "outputs": [
    {
     "data": {
      "image/svg+xml": [
       "<?xml version=\"1.0\" encoding=\"UTF-8\" standalone=\"no\"?><svg xmlns=\"http://www.w3.org/2000/svg\" xmlns:xlink=\"http://www.w3.org/1999/xlink\" contentScriptType=\"application/ecmascript\" contentStyleType=\"text/css\" height=\"12px\" preserveAspectRatio=\"none\" style=\"width:12px;height:12px;\" version=\"1.1\" viewBox=\"0 0 12 12\" width=\"12px\" zoomAndPan=\"magnify\"><defs/><g><!--MD5=[97d6f38768b311333d388e66b2b27985]\n",
       "@startuml\r\n",
       "skinparam linetype ortho\r\n",
       "skinparam monochrome true\r\n",
       "skinparam classbackgroundcolor white\r\n",
       "skinparam shadowing false\r\n",
       "skinparam wrapWidth 300\r\n",
       "hide circle\r\n",
       "\r\n",
       "@enduml\r\n",
       "\n",
       "PlantUML version 1.2020.13(Sat Jun 13 12:26:38 UTC 2020)\n",
       "(EPL source distribution)\n",
       "Java Runtime: OpenJDK Runtime Environment\n",
       "JVM: OpenJDK 64-Bit Server VM\n",
       "Default Encoding: UTF-8\n",
       "Language: en\n",
       "Country: null\n",
       "--></g></svg>"
      ]
     },
     "execution_count": 53,
     "metadata": {},
     "output_type": "execute_result"
    }
   ],
   "source": [
    "%viz --style=\"ORTHOLINE\" --view=\"State\" \"TextualRepresentationTest\""
   ]
  },
  {
   "cell_type": "code",
   "execution_count": 54,
   "id": "59b0a544",
   "metadata": {
    "execution": {
     "iopub.execute_input": "2021-06-30T09:21:20.610441Z",
     "iopub.status.busy": "2021-06-30T09:21:20.608890Z",
     "iopub.status.idle": "2021-06-30T09:21:20.659760Z",
     "shell.execute_reply": "2021-06-30T09:21:20.659460Z"
    }
   },
   "outputs": [
    {
     "data": {
      "image/svg+xml": [
       "<?xml version=\"1.0\" encoding=\"UTF-8\" standalone=\"no\"?><svg xmlns=\"http://www.w3.org/2000/svg\" xmlns:xlink=\"http://www.w3.org/1999/xlink\" contentScriptType=\"application/ecmascript\" contentStyleType=\"text/css\" height=\"179px\" preserveAspectRatio=\"none\" style=\"width:398px;height:179px;\" version=\"1.1\" viewBox=\"0 0 398 179\" width=\"398px\" zoomAndPan=\"magnify\"><defs/><g><!--MD5=[fbc87193dbaf4d95561dea2c320d4a47]\n",
       "cluster E1--><a href=\"psysml:1e396b56-292d-4ed9-bbba-ca6bb661746c\" target=\"_top\" title=\"psysml:1e396b56-292d-4ed9-bbba-ca6bb661746c\" xlink:actuate=\"onRequest\" xlink:href=\"psysml:1e396b56-292d-4ed9-bbba-ca6bb661746c\" xlink:show=\"new\" xlink:title=\"psysml:1e396b56-292d-4ed9-bbba-ca6bb661746c\" xlink:type=\"simple\"><polygon fill=\"#FFFFFF\" points=\"16,6,236,6,243,28.2969,376,28.2969,376,167,16,167,16,6\" style=\"stroke: #000000; stroke-width: 1.5;\"/><line style=\"stroke: #000000; stroke-width: 1.5;\" x1=\"16\" x2=\"243\" y1=\"28.2969\" y2=\"28.2969\"/><text fill=\"#000000\" font-family=\"sans-serif\" font-size=\"14\" font-weight=\"bold\" lengthAdjust=\"spacingAndGlyphs\" textLength=\"214\" x=\"20\" y=\"20.9951\">TextualRepresentationTest</text></a><!--MD5=[f6df4d0ebaf0b5dfb2ced0ae5af7c670]\n",
       "cluster E4--><a href=\"psysml:7113fdf5-c3b3-43b5-a3fa-02abb845fbc2\" target=\"_top\" title=\"psysml:7113fdf5-c3b3-43b5-a3fa-02abb845fbc2\" xlink:actuate=\"onRequest\" xlink:href=\"psysml:7113fdf5-c3b3-43b5-a3fa-02abb845fbc2\" xlink:show=\"new\" xlink:title=\"psysml:7113fdf5-c3b3-43b5-a3fa-02abb845fbc2\" xlink:type=\"simple\"><rect fill=\"#FFFFFF\" height=\"88.5\" id=\"E4\" style=\"stroke: #383838; stroke-width: 1.5;\" width=\"96\" x=\"235.5\" y=\"62.5\"/><rect fill=\"#F8F8F8\" height=\"37.9375\" style=\"stroke: #383838; stroke-width: 1.5;\" width=\"96\" x=\"235.5\" y=\"62.5\"/><text fill=\"#000000\" font-family=\"sans-serif\" font-size=\"12\" font-style=\"italic\" lengthAdjust=\"spacingAndGlyphs\" textLength=\"77\" x=\"245\" y=\"78.6387\">«action def»</text><text fill=\"#000000\" font-family=\"sans-serif\" font-size=\"12\" lengthAdjust=\"spacingAndGlyphs\" textLength=\"27\" x=\"270\" y=\"92.6074\">setX</text></a><g id=\"E1.E2\"><a href=\"psysml:2e771e59-55ab-4895-8e71-4691f1152b9b\" target=\"_top\" title=\"psysml:2e771e59-55ab-4895-8e71-4691f1152b9b\" xlink:actuate=\"onRequest\" xlink:href=\"psysml:2e771e59-55ab-4895-8e71-4691f1152b9b\" xlink:show=\"new\" xlink:title=\"psysml:2e771e59-55ab-4895-8e71-4691f1152b9b\" xlink:type=\"simple\"><rect fill=\"#FFFFFF\" height=\"42.9375\" id=\"E2\" style=\"stroke: #383838; stroke-width: 1.5;\" width=\"79\" x=\"139.5\" y=\"41\"/><rect fill=\"#F8F8F8\" height=\"37.9375\" style=\"stroke: #383838; stroke-width: 1.5;\" width=\"79\" x=\"139.5\" y=\"41\"/><text fill=\"#000000\" font-family=\"sans-serif\" font-size=\"12\" font-style=\"italic\" lengthAdjust=\"spacingAndGlyphs\" textLength=\"72\" x=\"143\" y=\"57.1387\">«dataType»</text><text fill=\"#000000\" font-family=\"sans-serif\" font-size=\"12\" lengthAdjust=\"spacingAndGlyphs\" textLength=\"27\" x=\"165.5\" y=\"71.1074\">Real</text></a></g><g id=\"E1.E3\"><a href=\"psysml:e4de1612-4570-4c3a-878c-e0dca14f25a7\" target=\"_top\" title=\"psysml:e4de1612-4570-4c3a-878c-e0dca14f25a7\" xlink:actuate=\"onRequest\" xlink:href=\"psysml:e4de1612-4570-4c3a-878c-e0dca14f25a7\" xlink:show=\"new\" xlink:title=\"psysml:e4de1612-4570-4c3a-878c-e0dca14f25a7\" xlink:type=\"simple\"><rect fill=\"#FFFFFF\" height=\"42.9375\" id=\"E3\" style=\"stroke: #383838; stroke-width: 1.5;\" width=\"72\" x=\"32\" y=\"41\"/><rect fill=\"#F8F8F8\" height=\"37.9375\" style=\"stroke: #383838; stroke-width: 1.5;\" width=\"72\" x=\"32\" y=\"41\"/><text fill=\"#000000\" font-family=\"sans-serif\" font-size=\"12\" font-style=\"italic\" lengthAdjust=\"spacingAndGlyphs\" textLength=\"65\" x=\"35.5\" y=\"57.1387\">«item def»</text><text fill=\"#000000\" font-family=\"sans-serif\" font-size=\"12\" lengthAdjust=\"spacingAndGlyphs\" textLength=\"8\" x=\"64\" y=\"71.1074\">C</text></a></g><text fill=\"#000000\" font-family=\"sans-serif\" font-size=\"14\" lengthAdjust=\"spacingAndGlyphs\" textLength=\"8\" x=\"256\" y=\"41.1982\">c</text><rect fill=\"#383838\" height=\"12\" style=\"stroke: #F8F8F8; stroke-width: 1.5;\" width=\"12\" x=\"254\" y=\"56.5\"/><text fill=\"#000000\" font-family=\"sans-serif\" font-size=\"14\" lengthAdjust=\"spacingAndGlyphs\" textLength=\"38\" x=\"288\" y=\"41.1982\">newX</text><rect fill=\"#383838\" height=\"12\" style=\"stroke: #F8F8F8; stroke-width: 1.5;\" width=\"12\" x=\"301\" y=\"56.5\"/><!--MD5=[f15396e6d49c675959c04c526a96cfea]\n",
       "@startuml\r\n",
       "skinparam ranksep 10\r\n",
       "skinparam rectangle {\r\n",
       " backgroundColor<<block>> LightGreen\r\n",
       "}\r\n",
       "skinparam linetype ortho\r\n",
       "skinparam monochrome true\r\n",
       "skinparam classbackgroundcolor white\r\n",
       "skinparam shadowing false\r\n",
       "skinparam wrapWidth 300\r\n",
       "hide circle\r\n",
       "\r\n",
       "package \"TextualRepresentationTest\" as E1  [[psysml:1e396b56-292d-4ed9-bbba-ca6bb661746c ]]  {\r\n",
       "def \"Real\" as E2  <<(T,blue) dataType>> [[psysml:2e771e59-55ab-4895-8e71-4691f1152b9b ]] \r\n",
       "def \"C\" as E3  <<(T,blue) item def>> [[psysml:e4de1612-4570-4c3a-878c-e0dca14f25a7 ]] \r\n",
       "rec def \"setX\" as E4  <<(T,blue) action def>> [[psysml:7113fdf5-c3b3-43b5-a3fa-02abb845fbc2 ]] {\r\n",
       "portin \"c\" as E5  [[psysml:34b277fa-246f-4890-8f8b-22f79f83c872 ]] \r\n",
       "portin \"newX\" as E6  [[psysml:085fc47f-09d9-4ca0-b48d-81ba6e318ca7 ]] \r\n",
       "}\r\n",
       "\r\n",
       "}\r\n",
       "@enduml\r\n",
       "\n",
       "PlantUML version 1.2020.13(Sat Jun 13 12:26:38 UTC 2020)\n",
       "(EPL source distribution)\n",
       "Java Runtime: OpenJDK Runtime Environment\n",
       "JVM: OpenJDK 64-Bit Server VM\n",
       "Default Encoding: UTF-8\n",
       "Language: en\n",
       "Country: null\n",
       "--></g></svg>"
      ]
     },
     "execution_count": 54,
     "metadata": {},
     "output_type": "execute_result"
    }
   ],
   "source": [
    "%viz --style=\"ORTHOLINE\" --view=\"Interconnection\" \"TextualRepresentationTest\""
   ]
  },
  {
   "cell_type": "code",
   "execution_count": 55,
   "id": "b2c669b2",
   "metadata": {
    "execution": {
     "iopub.execute_input": "2021-06-30T09:21:20.712610Z",
     "iopub.status.busy": "2021-06-30T09:21:20.710963Z",
     "iopub.status.idle": "2021-06-30T09:21:20.747045Z",
     "shell.execute_reply": "2021-06-30T09:21:20.746388Z"
    }
   },
   "outputs": [
    {
     "data": {
      "image/svg+xml": [
       "<?xml version=\"1.0\" encoding=\"UTF-8\" standalone=\"no\"?><svg xmlns=\"http://www.w3.org/2000/svg\" xmlns:xlink=\"http://www.w3.org/1999/xlink\" contentScriptType=\"application/ecmascript\" contentStyleType=\"text/css\" height=\"126px\" preserveAspectRatio=\"none\" style=\"width:150px;height:126px;\" version=\"1.1\" viewBox=\"0 0 150 126\" width=\"150px\" zoomAndPan=\"magnify\"><defs/><g><!--MD5=[fbc87193dbaf4d95561dea2c320d4a47]\n",
       "cluster E1--><a href=\"psysml:7113fdf5-c3b3-43b5-a3fa-02abb845fbc2\" target=\"_top\" title=\"psysml:7113fdf5-c3b3-43b5-a3fa-02abb845fbc2\" xlink:actuate=\"onRequest\" xlink:href=\"psysml:7113fdf5-c3b3-43b5-a3fa-02abb845fbc2\" xlink:show=\"new\" xlink:title=\"psysml:7113fdf5-c3b3-43b5-a3fa-02abb845fbc2\" xlink:type=\"simple\"><rect fill=\"#FFFFFF\" height=\"73\" id=\"E1\" style=\"stroke: #383838; stroke-width: 1.5;\" width=\"132\" x=\"7\" y=\"42.0986\"/><rect fill=\"#F8F8F8\" height=\"37.9375\" style=\"stroke: #383838; stroke-width: 1.5;\" width=\"132\" x=\"7\" y=\"42.0986\"/><text fill=\"#000000\" font-family=\"sans-serif\" font-size=\"12\" font-style=\"italic\" lengthAdjust=\"spacingAndGlyphs\" textLength=\"77\" x=\"34.5\" y=\"58.2373\">«action def»</text><text fill=\"#000000\" font-family=\"sans-serif\" font-size=\"12\" lengthAdjust=\"spacingAndGlyphs\" textLength=\"27\" x=\"59.5\" y=\"72.2061\">setX</text></a><text fill=\"#000000\" font-family=\"sans-serif\" font-size=\"14\" lengthAdjust=\"spacingAndGlyphs\" textLength=\"8\" x=\"21\" y=\"20.7969\">c</text><rect fill=\"#383838\" height=\"12\" style=\"stroke: #F8F8F8; stroke-width: 1.5;\" width=\"12\" x=\"19\" y=\"36.0986\"/><text fill=\"#000000\" font-family=\"sans-serif\" font-size=\"14\" lengthAdjust=\"spacingAndGlyphs\" textLength=\"38\" x=\"53\" y=\"20.7969\">newX</text><rect fill=\"#383838\" height=\"12\" style=\"stroke: #F8F8F8; stroke-width: 1.5;\" width=\"12\" x=\"66\" y=\"36.0986\"/><!--MD5=[23707e93d8fcf6956af5df74fd4f1e22]\n",
       "@startuml\r\n",
       "skinparam ranksep 8\r\n",
       "skinparam linetype ortho\r\n",
       "skinparam monochrome true\r\n",
       "skinparam classbackgroundcolor white\r\n",
       "skinparam shadowing false\r\n",
       "skinparam wrapWidth 300\r\n",
       "hide circle\r\n",
       "\r\n",
       "rec def \"setX\" as E1  <<(T,blue) action def>> [[psysml:7113fdf5-c3b3-43b5-a3fa-02abb845fbc2 ]] {\r\n",
       "portin \"c\" as E2  [[psysml:34b277fa-246f-4890-8f8b-22f79f83c872 ]] \r\n",
       "portin \"newX\" as E3  [[psysml:085fc47f-09d9-4ca0-b48d-81ba6e318ca7 ]] \r\n",
       "}\r\n",
       "\r\n",
       "@enduml\r\n",
       "\n",
       "PlantUML version 1.2020.13(Sat Jun 13 12:26:38 UTC 2020)\n",
       "(EPL source distribution)\n",
       "Java Runtime: OpenJDK Runtime Environment\n",
       "JVM: OpenJDK 64-Bit Server VM\n",
       "Default Encoding: UTF-8\n",
       "Language: en\n",
       "Country: null\n",
       "--></g></svg>"
      ]
     },
     "execution_count": 55,
     "metadata": {},
     "output_type": "execute_result"
    }
   ],
   "source": [
    "%viz --style=\"ORTHOLINE\" --view=\"Action\" \"TextualRepresentationTest\""
   ]
  },
  {
   "cell_type": "code",
   "execution_count": 56,
   "id": "1f29f09f",
   "metadata": {
    "execution": {
     "iopub.execute_input": "2021-06-30T09:21:20.797408Z",
     "iopub.status.busy": "2021-06-30T09:21:20.795848Z",
     "iopub.status.idle": "2021-06-30T09:21:20.857625Z",
     "shell.execute_reply": "2021-06-30T09:21:20.849928Z"
    }
   },
   "outputs": [
    {
     "data": {
      "image/svg+xml": [
       "<?xml version=\"1.0\" encoding=\"UTF-8\" standalone=\"no\"?><svg xmlns=\"http://www.w3.org/2000/svg\" xmlns:xlink=\"http://www.w3.org/1999/xlink\" contentScriptType=\"application/ecmascript\" contentStyleType=\"text/css\" height=\"375px\" preserveAspectRatio=\"none\" style=\"width:268px;height:375px;\" version=\"1.1\" viewBox=\"0 0 268 375\" width=\"268px\" zoomAndPan=\"magnify\"><defs/><g><!--MD5=[fbc87193dbaf4d95561dea2c320d4a47]\n",
       "cluster E1--><a href=\"psysml:1e396b56-292d-4ed9-bbba-ca6bb661746c\" target=\"_top\" title=\"psysml:1e396b56-292d-4ed9-bbba-ca6bb661746c\" xlink:actuate=\"onRequest\" xlink:href=\"psysml:1e396b56-292d-4ed9-bbba-ca6bb661746c\" xlink:show=\"new\" xlink:title=\"psysml:1e396b56-292d-4ed9-bbba-ca6bb661746c\" xlink:type=\"simple\"><polygon fill=\"#FFFFFF\" points=\"16,6,236,6,243,28.2969,246,28.2969,246,363,16,363,16,6\" style=\"stroke: #000000; stroke-width: 1.5;\"/><line style=\"stroke: #000000; stroke-width: 1.5;\" x1=\"16\" x2=\"243\" y1=\"28.2969\" y2=\"28.2969\"/><text fill=\"#000000\" font-family=\"sans-serif\" font-size=\"14\" font-weight=\"bold\" lengthAdjust=\"spacingAndGlyphs\" textLength=\"214\" x=\"20\" y=\"20.9951\">TextualRepresentationTest</text></a><!--MD5=[b4997ac47864f28c2f74865a473b2911]\n",
       "class E2--><a href=\"psysml:2e771e59-55ab-4895-8e71-4691f1152b9b\" target=\"_top\" title=\"psysml:2e771e59-55ab-4895-8e71-4691f1152b9b\" xlink:actuate=\"onRequest\" xlink:href=\"psysml:2e771e59-55ab-4895-8e71-4691f1152b9b\" xlink:show=\"new\" xlink:title=\"psysml:2e771e59-55ab-4895-8e71-4691f1152b9b\" xlink:type=\"simple\"><rect fill=\"#FFFFFF\" height=\"45.9375\" id=\"E2\" style=\"stroke: #383838; stroke-width: 1.5;\" width=\"74\" x=\"42\" y=\"179\"/><text fill=\"#000000\" font-family=\"sans-serif\" font-size=\"12\" font-style=\"italic\" lengthAdjust=\"spacingAndGlyphs\" textLength=\"72\" x=\"43\" y=\"195.1387\">«dataType»</text><text fill=\"#000000\" font-family=\"sans-serif\" font-size=\"12\" lengthAdjust=\"spacingAndGlyphs\" textLength=\"27\" x=\"65.5\" y=\"209.1074\">Real</text><line style=\"stroke: #383838; stroke-width: 1.5;\" x1=\"43\" x2=\"115\" y1=\"216.9375\" y2=\"216.9375\"/></a><!--MD5=[09b614a08d8cba4a07c9adeb5e0fee81]\n",
       "class E3--><a href=\"psysml:e4de1612-4570-4c3a-878c-e0dca14f25a7\" target=\"_top\" title=\"psysml:e4de1612-4570-4c3a-878c-e0dca14f25a7\" xlink:actuate=\"onRequest\" xlink:href=\"psysml:e4de1612-4570-4c3a-878c-e0dca14f25a7\" xlink:show=\"new\" xlink:title=\"psysml:e4de1612-4570-4c3a-878c-e0dca14f25a7\" xlink:type=\"simple\"><rect fill=\"#FFFFFF\" height=\"75.5469\" id=\"E3\" style=\"stroke: #383838; stroke-width: 1.5;\" width=\"67\" x=\"151.5\" y=\"164\"/><text fill=\"#000000\" font-family=\"sans-serif\" font-size=\"12\" font-style=\"italic\" lengthAdjust=\"spacingAndGlyphs\" textLength=\"65\" x=\"152.5\" y=\"180.1387\">«item def»</text><text fill=\"#000000\" font-family=\"sans-serif\" font-size=\"12\" lengthAdjust=\"spacingAndGlyphs\" textLength=\"8\" x=\"181\" y=\"194.1074\">C</text><line style=\"stroke: #383838; stroke-width: 1.5;\" x1=\"152.5\" x2=\"217.5\" y1=\"201.9375\" y2=\"201.9375\"/><text fill=\"#000000\" font-family=\"sans-serif\" font-size=\"11\" lengthAdjust=\"spacingAndGlyphs\" textLength=\"38\" x=\"157.5\" y=\"232.9526\">x: Real</text><line style=\"stroke: #383838; stroke-width: 1.0;\" x1=\"152.5\" x2=\"157.5\" y1=\"216.3398\" y2=\"216.3398\"/><text fill=\"#000000\" font-family=\"sans-serif\" font-size=\"11\" lengthAdjust=\"spacingAndGlyphs\" textLength=\"55\" x=\"157.5\" y=\"219.6479\">attributes</text><line style=\"stroke: #383838; stroke-width: 1.0;\" x1=\"212.5\" x2=\"217.5\" y1=\"216.3398\" y2=\"216.3398\"/></a><!--MD5=[ebbe1d658d1005bcc118a6aa81145e00]\n",
       "class E4--><a href=\"psysml:8c3cf46e-c423-4c70-a710-66f9a3632f6b\" target=\"_top\" title=\"psysml:8c3cf46e-c423-4c70-a710-66f9a3632f6b\" xlink:actuate=\"onRequest\" xlink:href=\"psysml:8c3cf46e-c423-4c70-a710-66f9a3632f6b\" xlink:show=\"new\" xlink:title=\"psysml:8c3cf46e-c423-4c70-a710-66f9a3632f6b\" xlink:type=\"simple\"><rect fill=\"#FFFFFF\" height=\"45.9375\" id=\"E4\" rx=\"10\" ry=\"10\" style=\"stroke: #383838; stroke-width: 1.5;\" width=\"121\" x=\"97.5\" y=\"301\"/><text fill=\"#000000\" font-family=\"sans-serif\" font-size=\"12\" font-style=\"italic\" lengthAdjust=\"spacingAndGlyphs\" textLength=\"119\" x=\"98.5\" y=\"317.1387\">«assertConstraint»</text><text fill=\"#000000\" font-family=\"sans-serif\" font-size=\"12\" lengthAdjust=\"spacingAndGlyphs\" textLength=\"76\" x=\"120\" y=\"331.1074\">x_constraint</text><line style=\"stroke: #383838; stroke-width: 1.5;\" x1=\"98.5\" x2=\"217.5\" y1=\"338.9375\" y2=\"338.9375\"/></a><!--MD5=[270fce915f116d4de14055a7c1d9a0f3]\n",
       "class E5--><a href=\"psysml:7113fdf5-c3b3-43b5-a3fa-02abb845fbc2\" target=\"_top\" title=\"psysml:7113fdf5-c3b3-43b5-a3fa-02abb845fbc2\" xlink:actuate=\"onRequest\" xlink:href=\"psysml:7113fdf5-c3b3-43b5-a3fa-02abb845fbc2\" xlink:show=\"new\" xlink:title=\"psysml:7113fdf5-c3b3-43b5-a3fa-02abb845fbc2\" xlink:type=\"simple\"><rect fill=\"#FFFFFF\" height=\"45.9375\" id=\"E5\" style=\"stroke: #383838; stroke-width: 1.5;\" width=\"79\" x=\"77.5\" y=\"41\"/><text fill=\"#000000\" font-family=\"sans-serif\" font-size=\"12\" font-style=\"italic\" lengthAdjust=\"spacingAndGlyphs\" textLength=\"77\" x=\"78.5\" y=\"57.1387\">«action def»</text><text fill=\"#000000\" font-family=\"sans-serif\" font-size=\"12\" lengthAdjust=\"spacingAndGlyphs\" textLength=\"27\" x=\"103.5\" y=\"71.1074\">setX</text><line style=\"stroke: #383838; stroke-width: 1.5;\" x1=\"78.5\" x2=\"155.5\" y1=\"78.9375\" y2=\"78.9375\"/></a><!--MD5=[4672eba38e49728da53d11aeb285b987]\n",
       "reverse link E3 to E4--><a href=\"psysml:53eca076-bd38-4ff8-88cd-ccaa057f7e59\" target=\"_top\" title=\"psysml:53eca076-bd38-4ff8-88cd-ccaa057f7e59\" xlink:actuate=\"onRequest\" xlink:href=\"psysml:53eca076-bd38-4ff8-88cd-ccaa057f7e59\" xlink:show=\"new\" xlink:title=\"psysml:53eca076-bd38-4ff8-88cd-ccaa057f7e59\" xlink:type=\"simple\"><path d=\"M185,253.27 C185,253.27 185,300.78 185,300.78 \" fill=\"none\" id=\"E3&lt;-E4\" style=\"stroke: #383838; stroke-width: 1.0;\"/><polygon fill=\"#FFFFFF\" points=\"185,240.27,181,246.27,185,252.27,189,246.27,185,240.27\" style=\"stroke: #383838; stroke-width: 1.0;\"/></a><!--MD5=[6f107eb264eda4b26325f39a5516f1f3]\n",
       "reverse link E5 to E3--><a href=\"psysml:34b277fa-246f-4890-8f8b-22f79f83c872\" target=\"_top\" title=\"psysml:34b277fa-246f-4890-8f8b-22f79f83c872\" xlink:actuate=\"onRequest\" xlink:href=\"psysml:34b277fa-246f-4890-8f8b-22f79f83c872\" xlink:show=\"new\" xlink:title=\"psysml:34b277fa-246f-4890-8f8b-22f79f83c872\" xlink:type=\"simple\"><path d=\"M133.75,100.17 C133.75,100.17 133.75,172 133.75,172 C133.75,172 141.73,172 151.39,172 \" fill=\"none\" id=\"E5&lt;-E3\" style=\"stroke: #383838; stroke-width: 1.0;\"/><polygon fill=\"#FFFFFF\" points=\"133.75,87.17,129.75,93.17,133.75,99.17,137.75,93.17,133.75,87.17\" style=\"stroke: #383838; stroke-width: 1.0;\"/><text fill=\"#000000\" font-family=\"sans-serif\" font-size=\"13\" lengthAdjust=\"spacingAndGlyphs\" textLength=\"7\" x=\"178\" y=\"130.0669\">c</text></a><!--MD5=[f51c6d1f1856fe338ac0413483fb1ccf]\n",
       "reverse link E5 to E2--><a href=\"psysml:085fc47f-09d9-4ca0-b48d-81ba6e318ca7\" target=\"_top\" title=\"psysml:085fc47f-09d9-4ca0-b48d-81ba6e318ca7\" xlink:actuate=\"onRequest\" xlink:href=\"psysml:085fc47f-09d9-4ca0-b48d-81ba6e318ca7\" xlink:show=\"new\" xlink:title=\"psysml:085fc47f-09d9-4ca0-b48d-81ba6e318ca7\" xlink:type=\"simple\"><path d=\"M96.75,100.1 C96.75,100.1 96.75,178.83 96.75,178.83 \" fill=\"none\" id=\"E5&lt;-E2\" style=\"stroke: #383838; stroke-width: 1.0;\"/><polygon fill=\"#FFFFFF\" points=\"96.75,87.1,92.75,93.1,96.75,99.1,100.75,93.1,96.75,87.1\" style=\"stroke: #383838; stroke-width: 1.0;\"/><text fill=\"#000000\" font-family=\"sans-serif\" font-size=\"13\" lengthAdjust=\"spacingAndGlyphs\" textLength=\"33\" x=\"88\" y=\"130.0669\">newX</text></a><!--MD5=[93510750aedd494ed4fdccb298fa8f2b]\n",
       "@startuml\r\n",
       "skinparam linetype ortho\r\n",
       "skinparam monochrome true\r\n",
       "skinparam classbackgroundcolor white\r\n",
       "skinparam shadowing false\r\n",
       "skinparam wrapWidth 300\r\n",
       "hide circle\r\n",
       "\r\n",
       "package \"TextualRepresentationTest\" as E1  [[psysml:1e396b56-292d-4ed9-bbba-ca6bb661746c ]]  {\r\n",
       "comp def \"Real\" as E2  <<(T,blue) dataType>> [[psysml:2e771e59-55ab-4895-8e71-4691f1152b9b ]] {\r\n",
       "}\r\n",
       "comp def \"C\" as E3  <<(T,blue) item def>> [[psysml:e4de1612-4570-4c3a-878c-e0dca14f25a7 ]] {\r\n",
       "- - attributes - -\r\n",
       "x: Real\r\n",
       "}\r\n",
       "comp usage \"x_constraint\" as E4  <<(T,blue) assertConstraint>> [[psysml:8c3cf46e-c423-4c70-a710-66f9a3632f6b ]] {\r\n",
       "}\r\n",
       "comp def \"setX\" as E5  <<(T,blue) action def>> [[psysml:7113fdf5-c3b3-43b5-a3fa-02abb845fbc2 ]] {\r\n",
       "}\r\n",
       "E3 o- - E4 [[psysml:53eca076-bd38-4ff8-88cd-ccaa057f7e59 ]] \r\n",
       "E5 o- - E3 [[psysml:34b277fa-246f-4890-8f8b-22f79f83c872 ]] : c\r\n",
       "E5 o- - E2 [[psysml:085fc47f-09d9-4ca0-b48d-81ba6e318ca7 ]] : newX\r\n",
       "}\r\n",
       "@enduml\r\n",
       "\n",
       "PlantUML version 1.2020.13(Sat Jun 13 12:26:38 UTC 2020)\n",
       "(EPL source distribution)\n",
       "Java Runtime: OpenJDK Runtime Environment\n",
       "JVM: OpenJDK 64-Bit Server VM\n",
       "Default Encoding: UTF-8\n",
       "Language: en\n",
       "Country: null\n",
       "--></g></svg>"
      ]
     },
     "execution_count": 56,
     "metadata": {},
     "output_type": "execute_result"
    }
   ],
   "source": [
    "%viz --style=\"ORTHOLINE\" --view=\"Sequence\" \"TextualRepresentationTest\""
   ]
  },
  {
   "cell_type": "code",
   "execution_count": 57,
   "id": "1fc15d5a",
   "metadata": {
    "execution": {
     "iopub.execute_input": "2021-06-30T09:21:20.901189Z",
     "iopub.status.busy": "2021-06-30T09:21:20.900364Z",
     "iopub.status.idle": "2021-06-30T09:21:20.960275Z",
     "shell.execute_reply": "2021-06-30T09:21:20.957684Z"
    }
   },
   "outputs": [
    {
     "data": {
      "image/svg+xml": [
       "<?xml version=\"1.0\" encoding=\"UTF-8\" standalone=\"no\"?><svg xmlns=\"http://www.w3.org/2000/svg\" xmlns:xlink=\"http://www.w3.org/1999/xlink\" contentScriptType=\"application/ecmascript\" contentStyleType=\"text/css\" height=\"261px\" preserveAspectRatio=\"none\" style=\"width:389px;height:261px;\" version=\"1.1\" viewBox=\"0 0 389 261\" width=\"389px\" zoomAndPan=\"magnify\"><defs/><g><!--MD5=[fbc87193dbaf4d95561dea2c320d4a47]\n",
       "cluster E1--><a href=\"psysml:1e396b56-292d-4ed9-bbba-ca6bb661746c\" target=\"_top\" title=\"psysml:1e396b56-292d-4ed9-bbba-ca6bb661746c\" xlink:actuate=\"onRequest\" xlink:href=\"psysml:1e396b56-292d-4ed9-bbba-ca6bb661746c\" xlink:show=\"new\" xlink:title=\"psysml:1e396b56-292d-4ed9-bbba-ca6bb661746c\" xlink:type=\"simple\"><polygon fill=\"#FFFFFF\" points=\"16,6,236,6,243,28.2969,367,28.2969,367,249.5,16,249.5,16,6\" style=\"stroke: #000000; stroke-width: 1.5;\"/><line style=\"stroke: #000000; stroke-width: 1.5;\" x1=\"16\" x2=\"243\" y1=\"28.2969\" y2=\"28.2969\"/><text fill=\"#000000\" font-family=\"sans-serif\" font-size=\"14\" font-weight=\"bold\" lengthAdjust=\"spacingAndGlyphs\" textLength=\"214\" x=\"20\" y=\"20.9951\">TextualRepresentationTest</text></a><!--MD5=[de5ec2e2e8f62f467e546659f5068c88]\n",
       "cluster E5--><a href=\"psysml:7113fdf5-c3b3-43b5-a3fa-02abb845fbc2\" target=\"_top\" title=\"psysml:7113fdf5-c3b3-43b5-a3fa-02abb845fbc2\" xlink:actuate=\"onRequest\" xlink:href=\"psysml:7113fdf5-c3b3-43b5-a3fa-02abb845fbc2\" xlink:show=\"new\" xlink:title=\"psysml:7113fdf5-c3b3-43b5-a3fa-02abb845fbc2\" xlink:type=\"simple\"><rect fill=\"#FFFFFF\" height=\"154.5\" id=\"E5\" style=\"stroke: #383838; stroke-width: 1.5;\" width=\"96\" x=\"225.5\" y=\"79\"/><rect fill=\"#F8F8F8\" height=\"37.9375\" style=\"stroke: #383838; stroke-width: 1.5;\" width=\"96\" x=\"225.5\" y=\"79\"/><text fill=\"#000000\" font-family=\"sans-serif\" font-size=\"12\" font-style=\"italic\" lengthAdjust=\"spacingAndGlyphs\" textLength=\"77\" x=\"235\" y=\"95.1387\">«action def»</text><text fill=\"#000000\" font-family=\"sans-serif\" font-size=\"12\" lengthAdjust=\"spacingAndGlyphs\" textLength=\"27\" x=\"260\" y=\"109.1074\">setX</text></a><!--MD5=[b4997ac47864f28c2f74865a473b2911]\n",
       "class E2--><a href=\"psysml:2e771e59-55ab-4895-8e71-4691f1152b9b\" target=\"_top\" title=\"psysml:2e771e59-55ab-4895-8e71-4691f1152b9b\" xlink:actuate=\"onRequest\" xlink:href=\"psysml:2e771e59-55ab-4895-8e71-4691f1152b9b\" xlink:show=\"new\" xlink:title=\"psysml:2e771e59-55ab-4895-8e71-4691f1152b9b\" xlink:type=\"simple\"><rect fill=\"#FFFFFF\" height=\"45.9375\" id=\"E2\" style=\"stroke: #383838; stroke-width: 1.5;\" width=\"74\" x=\"135\" y=\"56\"/><text fill=\"#000000\" font-family=\"sans-serif\" font-size=\"12\" font-style=\"italic\" lengthAdjust=\"spacingAndGlyphs\" textLength=\"72\" x=\"136\" y=\"72.1387\">«dataType»</text><text fill=\"#000000\" font-family=\"sans-serif\" font-size=\"12\" lengthAdjust=\"spacingAndGlyphs\" textLength=\"27\" x=\"158.5\" y=\"86.1074\">Real</text><line style=\"stroke: #383838; stroke-width: 1.5;\" x1=\"136\" x2=\"208\" y1=\"93.9375\" y2=\"93.9375\"/></a><!--MD5=[09b614a08d8cba4a07c9adeb5e0fee81]\n",
       "class E3--><a href=\"psysml:e4de1612-4570-4c3a-878c-e0dca14f25a7\" target=\"_top\" title=\"psysml:e4de1612-4570-4c3a-878c-e0dca14f25a7\" xlink:actuate=\"onRequest\" xlink:href=\"psysml:e4de1612-4570-4c3a-878c-e0dca14f25a7\" xlink:show=\"new\" xlink:title=\"psysml:e4de1612-4570-4c3a-878c-e0dca14f25a7\" xlink:type=\"simple\"><rect fill=\"#FFFFFF\" height=\"75.5469\" id=\"E3\" style=\"stroke: #383838; stroke-width: 1.5;\" width=\"67\" x=\"32.5\" y=\"41\"/><text fill=\"#000000\" font-family=\"sans-serif\" font-size=\"12\" font-style=\"italic\" lengthAdjust=\"spacingAndGlyphs\" textLength=\"65\" x=\"33.5\" y=\"57.1387\">«item def»</text><text fill=\"#000000\" font-family=\"sans-serif\" font-size=\"12\" lengthAdjust=\"spacingAndGlyphs\" textLength=\"8\" x=\"62\" y=\"71.1074\">C</text><line style=\"stroke: #383838; stroke-width: 1.5;\" x1=\"33.5\" x2=\"98.5\" y1=\"78.9375\" y2=\"78.9375\"/><text fill=\"#000000\" font-family=\"sans-serif\" font-size=\"11\" lengthAdjust=\"spacingAndGlyphs\" textLength=\"38\" x=\"38.5\" y=\"109.9526\">x: Real</text><line style=\"stroke: #383838; stroke-width: 1.0;\" x1=\"33.5\" x2=\"38.5\" y1=\"93.3398\" y2=\"93.3398\"/><text fill=\"#000000\" font-family=\"sans-serif\" font-size=\"11\" lengthAdjust=\"spacingAndGlyphs\" textLength=\"55\" x=\"38.5\" y=\"96.6479\">attributes</text><line style=\"stroke: #383838; stroke-width: 1.0;\" x1=\"93.5\" x2=\"98.5\" y1=\"93.3398\" y2=\"93.3398\"/></a><!--MD5=[ebbe1d658d1005bcc118a6aa81145e00]\n",
       "class E4--><a href=\"psysml:8c3cf46e-c423-4c70-a710-66f9a3632f6b\" target=\"_top\" title=\"psysml:8c3cf46e-c423-4c70-a710-66f9a3632f6b\" xlink:actuate=\"onRequest\" xlink:href=\"psysml:8c3cf46e-c423-4c70-a710-66f9a3632f6b\" xlink:show=\"new\" xlink:title=\"psysml:8c3cf46e-c423-4c70-a710-66f9a3632f6b\" xlink:type=\"simple\"><rect fill=\"#FFFFFF\" height=\"45.9375\" id=\"E4\" rx=\"10\" ry=\"10\" style=\"stroke: #383838; stroke-width: 1.5;\" width=\"121\" x=\"32.5\" y=\"177\"/><text fill=\"#000000\" font-family=\"sans-serif\" font-size=\"12\" font-style=\"italic\" lengthAdjust=\"spacingAndGlyphs\" textLength=\"119\" x=\"33.5\" y=\"193.1387\">«assertConstraint»</text><text fill=\"#000000\" font-family=\"sans-serif\" font-size=\"12\" lengthAdjust=\"spacingAndGlyphs\" textLength=\"76\" x=\"55\" y=\"207.1074\">x_constraint</text><line style=\"stroke: #383838; stroke-width: 1.5;\" x1=\"33.5\" x2=\"152.5\" y1=\"214.9375\" y2=\"214.9375\"/></a><text fill=\"#000000\" font-family=\"sans-serif\" font-size=\"14\" lengthAdjust=\"spacingAndGlyphs\" textLength=\"8\" x=\"246\" y=\"57.6982\">c</text><rect fill=\"#383838\" height=\"12\" style=\"stroke: #F8F8F8; stroke-width: 1.5;\" width=\"12\" x=\"244\" y=\"73\"/><text fill=\"#000000\" font-family=\"sans-serif\" font-size=\"14\" lengthAdjust=\"spacingAndGlyphs\" textLength=\"38\" x=\"278\" y=\"57.6982\">newX</text><rect fill=\"#383838\" height=\"12\" style=\"stroke: #F8F8F8; stroke-width: 1.5;\" width=\"12\" x=\"291\" y=\"73\"/><!--MD5=[4672eba38e49728da53d11aeb285b987]\n",
       "reverse link E3 to E4--><a href=\"psysml:53eca076-bd38-4ff8-88cd-ccaa057f7e59\" target=\"_top\" title=\"psysml:53eca076-bd38-4ff8-88cd-ccaa057f7e59\" xlink:actuate=\"onRequest\" xlink:href=\"psysml:53eca076-bd38-4ff8-88cd-ccaa057f7e59\" xlink:show=\"new\" xlink:title=\"psysml:53eca076-bd38-4ff8-88cd-ccaa057f7e59\" xlink:type=\"simple\"><path d=\"M66,130.29 C66,130.29 66,176.74 66,176.74 \" fill=\"none\" id=\"E3&lt;-E4\" style=\"stroke: #383838; stroke-width: 1.0;\"/><polygon fill=\"#FFFFFF\" points=\"66,117.29,62,123.29,66,129.29,70,123.29,66,117.29\" style=\"stroke: #383838; stroke-width: 1.0;\"/></a><!--MD5=[7a3407d1ddfc9a804da6a55cc6a873bf]\n",
       "@startuml\r\n",
       "skinparam linetype ortho\r\n",
       "skinparam monochrome true\r\n",
       "skinparam classbackgroundcolor white\r\n",
       "skinparam shadowing false\r\n",
       "skinparam wrapWidth 300\r\n",
       "hide circle\r\n",
       "\r\n",
       "package \"TextualRepresentationTest\" as E1  [[psysml:1e396b56-292d-4ed9-bbba-ca6bb661746c ]]  {\r\n",
       "comp def \"Real\" as E2  <<(T,blue) dataType>> [[psysml:2e771e59-55ab-4895-8e71-4691f1152b9b ]] {\r\n",
       "}\r\n",
       "comp def \"C\" as E3  <<(T,blue) item def>> [[psysml:e4de1612-4570-4c3a-878c-e0dca14f25a7 ]] {\r\n",
       "- - attributes - -\r\n",
       "x: Real\r\n",
       "}\r\n",
       "comp usage \"x_constraint\" as E4  <<(T,blue) assertConstraint>> [[psysml:8c3cf46e-c423-4c70-a710-66f9a3632f6b ]] {\r\n",
       "}\r\n",
       "rec def \"setX\" as E5  <<(T,blue) action def>> [[psysml:7113fdf5-c3b3-43b5-a3fa-02abb845fbc2 ]] {\r\n",
       "portin \"c\" as E6  [[psysml:34b277fa-246f-4890-8f8b-22f79f83c872 ]] \r\n",
       "portin \"newX\" as E7  [[psysml:085fc47f-09d9-4ca0-b48d-81ba6e318ca7 ]] \r\n",
       "}\r\n",
       "\r\n",
       "E3 o- - E4 [[psysml:53eca076-bd38-4ff8-88cd-ccaa057f7e59 ]] \r\n",
       "}\r\n",
       "@enduml\r\n",
       "\n",
       "PlantUML version 1.2020.13(Sat Jun 13 12:26:38 UTC 2020)\n",
       "(EPL source distribution)\n",
       "Java Runtime: OpenJDK Runtime Environment\n",
       "JVM: OpenJDK 64-Bit Server VM\n",
       "Default Encoding: UTF-8\n",
       "Language: en\n",
       "Country: null\n",
       "--></g></svg>"
      ]
     },
     "execution_count": 57,
     "metadata": {},
     "output_type": "execute_result"
    }
   ],
   "source": [
    "%viz --style=\"ORTHOLINE\" --view=\"MIXED\" \"TextualRepresentationTest\""
   ]
  }
 ],
 "metadata": {
  "kernelspec": {
   "display_name": "SysML",
   "language": "sysml",
   "name": "sysml"
  },
  "language_info": {
   "codemirror_mode": "sysml",
   "file_extension": ".sysml",
   "mimetype": "text/x-sysml",
   "name": "SysML",
   "pygments_lexer": "java",
   "version": "1.0.0"
  }
 },
 "nbformat": 4,
 "nbformat_minor": 5
}
