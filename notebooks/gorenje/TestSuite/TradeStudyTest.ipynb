{
 "cells": [
  {
   "cell_type": "markdown",
   "id": "86cc7113",
   "metadata": {},
   "source": [
    "# SysML v2 Test Suite\n",
    "\n",
    "This can notebook can be cleared using menu `Edit --> Clear All Outputs` and then all cells can be\n",
    "run using menu `Run --> Run All Cells`.\n",
    "\n",
    "**WARNING**: This file is generated, all modifications here will be ignored.\n"
   ]
  },
  {
   "cell_type": "markdown",
   "id": "6592404d",
   "metadata": {},
   "source": [
    "## File: ../../sysml/src/examples/Simple Tests/TradeStudyTest.sysml"
   ]
  },
  {
   "cell_type": "code",
   "execution_count": 1,
   "id": "b5596417",
   "metadata": {
    "execution": {
     "iopub.execute_input": "2021-10-03T08:30:34.900490Z",
     "iopub.status.busy": "2021-10-03T08:30:34.899372Z",
     "iopub.status.idle": "2021-10-03T08:30:35.285982Z",
     "shell.execute_reply": "2021-10-03T08:30:35.286327Z"
    }
   },
   "outputs": [
    {
     "data": {
      "text/plain": [
       "Package TradeStudyTest (49dc7406-5921-41dc-bcae-3a516caf4215)\n"
      ]
     },
     "execution_count": 1,
     "metadata": {},
     "output_type": "execute_result"
    }
   ],
   "source": [
    "package TradeStudyTest {\n",
    "\timport ScalarValues::Real;\n",
    "\timport TradeStudies::*;\n",
    "\t\n",
    "\tpart def Engine;\n",
    "\tpart engine1: Engine;\n",
    "\tpart engine2: Engine;\n",
    "\t\n",
    "\tanalysis engineTradeStudy : TradeStudy {\n",
    "\t\tsubject : Engine[1..*] = (engine1, engine2);\n",
    "\t\tobjective : MaximizeObjective;\n",
    "\n",
    "\t\tcalc :>> objectiveFunction {\n",
    "\t\t\tin part : Engine;\n",
    "\t\t\treturn : Real;\n",
    "\t\t}\n",
    "\t\t\n",
    "\t\treturn part : Engine;\n",
    "\t}\n",
    "\t\n",
    "}"
   ]
  },
  {
   "cell_type": "code",
   "execution_count": 2,
   "id": "be249d09",
   "metadata": {
    "execution": {
     "iopub.execute_input": "2021-10-03T08:30:35.336483Z",
     "iopub.status.busy": "2021-10-03T08:30:35.336150Z",
     "iopub.status.idle": "2021-10-03T08:30:35.785335Z",
     "shell.execute_reply": "2021-10-03T08:30:35.783227Z"
    }
   },
   "outputs": [
    {
     "data": {
      "image/svg+xml": [
       "<?xml version=\"1.0\" encoding=\"UTF-8\" standalone=\"no\"?><svg xmlns=\"http://www.w3.org/2000/svg\" xmlns:xlink=\"http://www.w3.org/1999/xlink\" contentScriptType=\"application/ecmascript\" contentStyleType=\"text/css\" height=\"497px\" preserveAspectRatio=\"none\" style=\"width:556px;height:497px;\" version=\"1.1\" viewBox=\"0 0 556 497\" width=\"556px\" zoomAndPan=\"magnify\"><defs/><g><!--MD5=[fbc87193dbaf4d95561dea2c320d4a47]\n",
       "cluster E1--><a href=\"psysml:ee7e22b2-7ed6-4f2c-8628-ec59eb221ec4\" target=\"_top\" title=\"psysml:ee7e22b2-7ed6-4f2c-8628-ec59eb221ec4\" xlink:actuate=\"onRequest\" xlink:href=\"psysml:ee7e22b2-7ed6-4f2c-8628-ec59eb221ec4\" xlink:show=\"new\" xlink:title=\"psysml:ee7e22b2-7ed6-4f2c-8628-ec59eb221ec4\" xlink:type=\"simple\"><polygon fill=\"#FFFFFF\" points=\"18.32,6,134.32,6,141.32,28.2969,534.32,28.2969,534.32,485,18.32,485,18.32,6\" style=\"stroke: #000000; stroke-width: 1.5;\"/><line style=\"stroke: #000000; stroke-width: 1.5;\" x1=\"18.32\" x2=\"141.32\" y1=\"28.2969\" y2=\"28.2969\"/><text fill=\"#000000\" font-family=\"sans-serif\" font-size=\"14\" font-weight=\"bold\" lengthAdjust=\"spacingAndGlyphs\" textLength=\"110\" x=\"22.32\" y=\"20.9951\">TradeStudyTest</text></a><!--MD5=[b4997ac47864f28c2f74865a473b2911]\n",
       "class E2--><a href=\"psysml:6dc2e48d-4c08-4400-bc60-82a531af2780\" target=\"_top\" title=\"psysml:6dc2e48d-4c08-4400-bc60-82a531af2780\" xlink:actuate=\"onRequest\" xlink:href=\"psysml:6dc2e48d-4c08-4400-bc60-82a531af2780\" xlink:show=\"new\" xlink:title=\"psysml:6dc2e48d-4c08-4400-bc60-82a531af2780\" xlink:type=\"simple\"><rect fill=\"#FFFFFF\" height=\"45.9375\" id=\"E2\" style=\"stroke: #383838; stroke-width: 1.5;\" width=\"66\" x=\"198.32\" y=\"423\"/><text fill=\"#000000\" font-family=\"sans-serif\" font-size=\"12\" font-style=\"italic\" lengthAdjust=\"spacingAndGlyphs\" textLength=\"64\" x=\"199.32\" y=\"439.1387\">«part def»</text><text fill=\"#000000\" font-family=\"sans-serif\" font-size=\"12\" lengthAdjust=\"spacingAndGlyphs\" textLength=\"43\" x=\"209.82\" y=\"453.1074\">Engine</text><line style=\"stroke: #383838; stroke-width: 1.5;\" x1=\"199.32\" x2=\"263.32\" y1=\"460.9375\" y2=\"460.9375\"/></a><!--MD5=[09b614a08d8cba4a07c9adeb5e0fee81]\n",
       "class E3--><a href=\"psysml:3defd9be-3b5d-4c6d-8f79-df776db84250\" target=\"_top\" title=\"psysml:3defd9be-3b5d-4c6d-8f79-df776db84250\" xlink:actuate=\"onRequest\" xlink:href=\"psysml:3defd9be-3b5d-4c6d-8f79-df776db84250\" xlink:show=\"new\" xlink:title=\"psysml:3defd9be-3b5d-4c6d-8f79-df776db84250\" xlink:type=\"simple\"><rect fill=\"#FFFFFF\" height=\"45.9375\" id=\"E3\" rx=\"10\" ry=\"10\" style=\"stroke: #383838; stroke-width: 1.5;\" width=\"108\" x=\"410.32\" y=\"316\"/><text fill=\"#000000\" font-family=\"sans-serif\" font-size=\"12\" font-style=\"italic\" lengthAdjust=\"spacingAndGlyphs\" textLength=\"40\" x=\"444.32\" y=\"332.1387\">«part»</text><text fill=\"#000000\" font-family=\"sans-serif\" font-size=\"12\" lengthAdjust=\"spacingAndGlyphs\" textLength=\"102\" x=\"413.32\" y=\"346.1074\">engine1: Engine</text><line style=\"stroke: #383838; stroke-width: 1.5;\" x1=\"411.32\" x2=\"517.32\" y1=\"353.9375\" y2=\"353.9375\"/></a><!--MD5=[ebbe1d658d1005bcc118a6aa81145e00]\n",
       "class E4--><a href=\"psysml:3a9a647b-2fd2-49b6-8a5f-7ce1649088e0\" target=\"_top\" title=\"psysml:3a9a647b-2fd2-49b6-8a5f-7ce1649088e0\" xlink:actuate=\"onRequest\" xlink:href=\"psysml:3a9a647b-2fd2-49b6-8a5f-7ce1649088e0\" xlink:show=\"new\" xlink:title=\"psysml:3a9a647b-2fd2-49b6-8a5f-7ce1649088e0\" xlink:type=\"simple\"><rect fill=\"#FFFFFF\" height=\"45.9375\" id=\"E4\" rx=\"10\" ry=\"10\" style=\"stroke: #383838; stroke-width: 1.5;\" width=\"108\" x=\"267.32\" y=\"316\"/><text fill=\"#000000\" font-family=\"sans-serif\" font-size=\"12\" font-style=\"italic\" lengthAdjust=\"spacingAndGlyphs\" textLength=\"40\" x=\"301.32\" y=\"332.1387\">«part»</text><text fill=\"#000000\" font-family=\"sans-serif\" font-size=\"12\" lengthAdjust=\"spacingAndGlyphs\" textLength=\"102\" x=\"270.32\" y=\"346.1074\">engine2: Engine</text><line style=\"stroke: #383838; stroke-width: 1.5;\" x1=\"268.32\" x2=\"374.32\" y1=\"353.9375\" y2=\"353.9375\"/></a><!--MD5=[270fce915f116d4de14055a7c1d9a0f3]\n",
       "class E5--><a href=\"psysml:4b9a9840-0888-40ad-997b-4be591991c45\" target=\"_top\" title=\"psysml:4b9a9840-0888-40ad-997b-4be591991c45\" xlink:actuate=\"onRequest\" xlink:href=\"psysml:4b9a9840-0888-40ad-997b-4be591991c45\" xlink:show=\"new\" xlink:title=\"psysml:4b9a9840-0888-40ad-997b-4be591991c45\" xlink:type=\"simple\"><rect fill=\"#FFFFFF\" height=\"45.9375\" id=\"E5\" rx=\"10\" ry=\"10\" style=\"stroke: #383838; stroke-width: 1.5;\" width=\"199\" x=\"239.82\" y=\"41\"/><text fill=\"#000000\" font-family=\"sans-serif\" font-size=\"12\" font-style=\"italic\" lengthAdjust=\"spacingAndGlyphs\" textLength=\"64\" x=\"307.32\" y=\"57.1387\">«analysis»</text><text fill=\"#000000\" font-family=\"sans-serif\" font-size=\"12\" lengthAdjust=\"spacingAndGlyphs\" textLength=\"193\" x=\"242.82\" y=\"71.1074\">engineTradeStudy: TradeStudy</text><line style=\"stroke: #383838; stroke-width: 1.5;\" x1=\"240.82\" x2=\"437.82\" y1=\"78.9375\" y2=\"78.9375\"/></a><!--MD5=[60a26617385b1d2d0262a64233df1f8d]\n",
       "class E6--><a href=\"psysml:6d56d509-a272-42e3-905c-0e1bbd246da0\" target=\"_top\" title=\"psysml:6d56d509-a272-42e3-905c-0e1bbd246da0\" xlink:actuate=\"onRequest\" xlink:href=\"psysml:6d56d509-a272-42e3-905c-0e1bbd246da0\" xlink:show=\"new\" xlink:title=\"psysml:6d56d509-a272-42e3-905c-0e1bbd246da0\" xlink:type=\"simple\"><rect fill=\"#FFFFFF\" height=\"45.9375\" id=\"E6\" rx=\"10\" ry=\"10\" style=\"stroke: #383838; stroke-width: 1.5;\" width=\"251\" x=\"78.82\" y=\"164\"/><text fill=\"#000000\" font-family=\"sans-serif\" font-size=\"12\" font-style=\"italic\" lengthAdjust=\"spacingAndGlyphs\" textLength=\"91\" x=\"158.82\" y=\"180.1387\">«requirement»</text><text fill=\"#000000\" font-family=\"sans-serif\" font-size=\"12\" lengthAdjust=\"spacingAndGlyphs\" textLength=\"245\" x=\"81.82\" y=\"194.1074\">tradeStudyObjective: MaximizeObjective</text><line style=\"stroke: #383838; stroke-width: 1.5;\" x1=\"79.82\" x2=\"328.82\" y1=\"201.9375\" y2=\"201.9375\"/></a><!--MD5=[2156ba9850f5573cc1fc38a6a4b2f02b]\n",
       "class E7--><a href=\"psysml:0d158b00-d202-4b1f-90aa-9fc427f4eb2b\" target=\"_top\" title=\"psysml:0d158b00-d202-4b1f-90aa-9fc427f4eb2b\" xlink:actuate=\"onRequest\" xlink:href=\"psysml:0d158b00-d202-4b1f-90aa-9fc427f4eb2b\" xlink:show=\"new\" xlink:title=\"psysml:0d158b00-d202-4b1f-90aa-9fc427f4eb2b\" xlink:type=\"simple\"><rect fill=\"#FFFFFF\" height=\"45.9375\" id=\"E7\" rx=\"10\" ry=\"10\" style=\"stroke: #383838; stroke-width: 1.5;\" width=\"116\" x=\"365.32\" y=\"164\"/><text fill=\"#000000\" font-family=\"sans-serif\" font-size=\"12\" font-style=\"italic\" lengthAdjust=\"spacingAndGlyphs\" textLength=\"82\" x=\"382.32\" y=\"180.1387\">«calculation»</text><text fill=\"#000000\" font-family=\"sans-serif\" font-size=\"12\" lengthAdjust=\"spacingAndGlyphs\" textLength=\"110\" x=\"368.32\" y=\"194.1074\">objectiveFunction</text><line style=\"stroke: #383838; stroke-width: 1.5;\" x1=\"366.32\" x2=\"480.32\" y1=\"201.9375\" y2=\"201.9375\"/></a><!--MD5=[b9389687b975829384b498ac4b7476b2]\n",
       "class E8--><a href=\"psysml:e8d66f1b-2710-4767-99ee-f2812ccd7696\" target=\"_top\" title=\"psysml:e8d66f1b-2710-4767-99ee-f2812ccd7696\" xlink:actuate=\"onRequest\" xlink:href=\"psysml:e8d66f1b-2710-4767-99ee-f2812ccd7696\" xlink:show=\"new\" xlink:title=\"psysml:e8d66f1b-2710-4767-99ee-f2812ccd7696\" xlink:type=\"simple\"><rect fill=\"#FFFFFF\" height=\"45.9375\" id=\"E8\" rx=\"10\" ry=\"10\" style=\"stroke: #383838; stroke-width: 1.5;\" width=\"124\" x=\"71.32\" y=\"316\"/><text fill=\"#000000\" font-family=\"sans-serif\" font-size=\"12\" font-style=\"italic\" lengthAdjust=\"spacingAndGlyphs\" textLength=\"40\" x=\"113.32\" y=\"332.1387\">«part»</text><text fill=\"#000000\" font-family=\"sans-serif\" font-size=\"12\" lengthAdjust=\"spacingAndGlyphs\" textLength=\"118\" x=\"74.32\" y=\"346.1074\">alternative: Engine</text><line style=\"stroke: #383838; stroke-width: 1.5;\" x1=\"72.32\" x2=\"194.32\" y1=\"353.9375\" y2=\"353.9375\"/></a><!--MD5=[fd4143e9d270a159db93a4ea2a975926]\n",
       "class E9--><a href=\"psysml:d0667918-a428-4729-9680-50da29281cd4\" target=\"_top\" title=\"psysml:d0667918-a428-4729-9680-50da29281cd4\" xlink:actuate=\"onRequest\" xlink:href=\"psysml:d0667918-a428-4729-9680-50da29281cd4\" xlink:show=\"new\" xlink:title=\"psysml:d0667918-a428-4729-9680-50da29281cd4\" xlink:type=\"simple\"><rect fill=\"#FFFFFF\" height=\"45.9375\" id=\"E9\" rx=\"10\" ry=\"10\" style=\"stroke: #383838; stroke-width: 1.5;\" width=\"178\" x=\"291.32\" y=\"240\"/><text fill=\"#000000\" font-family=\"sans-serif\" font-size=\"12\" font-style=\"italic\" lengthAdjust=\"spacingAndGlyphs\" textLength=\"40\" x=\"360.32\" y=\"256.1387\">«part»</text><text fill=\"#000000\" font-family=\"sans-serif\" font-size=\"12\" lengthAdjust=\"spacingAndGlyphs\" textLength=\"172\" x=\"294.32\" y=\"270.1074\">selectedAlternative: Engine</text><line style=\"stroke: #383838; stroke-width: 1.5;\" x1=\"292.32\" x2=\"468.32\" y1=\"277.9375\" y2=\"277.9375\"/></a><!--MD5=[05d275557350bfb9b23a4ef7222b4c39]\n",
       "link E3 to E2--><a href=\"psysml:2c927883-7b33-4f30-b07f-44dca6adebf7\" target=\"_top\" title=\"psysml:2c927883-7b33-4f30-b07f-44dca6adebf7\" xlink:actuate=\"onRequest\" xlink:href=\"psysml:2c927883-7b33-4f30-b07f-44dca6adebf7\" xlink:show=\"new\" xlink:title=\"psysml:2c927883-7b33-4f30-b07f-44dca6adebf7\" xlink:type=\"simple\"><path d=\"M415.48,362.01 C376.57,379.54 322.27,404.01 282.71,421.84 \" fill=\"none\" id=\"E3-&gt;E2\" style=\"stroke: #383838; stroke-width: 1.0;\"/><polygon fill=\"#FFFFFF\" points=\"264.34,430.12,278.7866,415.9321,284.5383,428.696,264.34,430.12\" style=\"stroke: #383838; stroke-width: 1.0;\"/><ellipse cx=\"284.805\" cy=\"415.4137\" fill=\"#383838\" rx=\"2\" ry=\"2\" style=\"stroke: #383838; stroke-width: 1.0;\"/><ellipse cx=\"288.9134\" cy=\"424.5308\" fill=\"#383838\" rx=\"2\" ry=\"2\" style=\"stroke: #383838; stroke-width: 1.0;\"/></a><!--MD5=[185131fc0dcab0a4505a2ebe144e961b]\n",
       "link E4 to E2--><a href=\"psysml:59e46c20-b41c-4b83-8c8c-eff5ad41f1d7\" target=\"_top\" title=\"psysml:59e46c20-b41c-4b83-8c8c-eff5ad41f1d7\" xlink:actuate=\"onRequest\" xlink:href=\"psysml:59e46c20-b41c-4b83-8c8c-eff5ad41f1d7\" xlink:show=\"new\" xlink:title=\"psysml:59e46c20-b41c-4b83-8c8c-eff5ad41f1d7\" xlink:type=\"simple\"><path d=\"M302.45,362.01 C291.25,375.08 276.74,392.01 263.74,407.17 \" fill=\"none\" id=\"E4-&gt;E2\" style=\"stroke: #383838; stroke-width: 1.0;\"/><polygon fill=\"#FFFFFF\" points=\"250.47,422.66,257.5188,403.678,268.1491,412.7883,250.47,422.66\" style=\"stroke: #383838; stroke-width: 1.0;\"/><ellipse cx=\"262.7466\" cy=\"400.6515\" fill=\"#383838\" rx=\"2\" ry=\"2\" style=\"stroke: #383838; stroke-width: 1.0;\"/><ellipse cx=\"270.3396\" cy=\"407.1588\" fill=\"#383838\" rx=\"2\" ry=\"2\" style=\"stroke: #383838; stroke-width: 1.0;\"/></a><!--MD5=[15ebcb19ae302d9b601edb458606d402]\n",
       "link E5 to E2--><a href=\"psysml:d5cbdaa6-c586-4ab8-b2f7-038eda38592d\" target=\"_top\" title=\"psysml:d5cbdaa6-c586-4ab8-b2f7-038eda38592d\" xlink:actuate=\"onRequest\" xlink:href=\"psysml:d5cbdaa6-c586-4ab8-b2f7-038eda38592d\" xlink:show=\"new\" xlink:title=\"psysml:d5cbdaa6-c586-4ab8-b2f7-038eda38592d\" xlink:type=\"simple\"><path d=\"M239.76,73.22 C177.99,83.96 102.74,108.45 61.32,164 C8.68,234.61 6,287.72 53.32,362 C83.95,410.08 150.5,430.76 192.99,439.32 \" fill=\"none\" id=\"E5-&gt;E2\" style=\"stroke: #383838; stroke-width: 1.0; stroke-dasharray: 7.0,7.0;\"/><polygon fill=\"#383838\" points=\"198.04,440.31,189.9738,434.6588,193.1327,439.3514,188.4401,442.5104,198.04,440.31\" style=\"stroke: #383838; stroke-width: 1.0;\"/><text fill=\"#000000\" font-family=\"sans-serif\" font-size=\"13\" lengthAdjust=\"spacingAndGlyphs\" textLength=\"62\" x=\"24.32\" y=\"267.5669\">«subject»</text></a><!--MD5=[9120cf2e5df3bff93db8f754bbbc09b4]\n",
       "link E5 to E6--><a href=\"psysml:14d02f99-86ef-419d-b64f-b983855c21b7\" target=\"_top\" title=\"psysml:14d02f99-86ef-419d-b64f-b983855c21b7\" xlink:actuate=\"onRequest\" xlink:href=\"psysml:14d02f99-86ef-419d-b64f-b983855c21b7\" xlink:show=\"new\" xlink:title=\"psysml:14d02f99-86ef-419d-b64f-b983855c21b7\" xlink:type=\"simple\"><path d=\"M314.56,87.19 C292.2,107.23 259.21,136.8 235.15,158.37 \" fill=\"none\" id=\"E5-&gt;E6\" style=\"stroke: #383838; stroke-width: 1.0;\"/><polygon fill=\"#383838\" points=\"228.92,163.95,236.8786,160.8419,232.8725,156.3752,228.92,163.95\" style=\"stroke: #383838; stroke-width: 1.0;\"/><text fill=\"#000000\" font-family=\"sans-serif\" font-size=\"13\" lengthAdjust=\"spacingAndGlyphs\" textLength=\"73\" x=\"280.32\" y=\"130.0669\">«objective»</text></a><!--MD5=[452b418e7f8a40397a49b8c0a78acc5b]\n",
       "reverse link E5 to E7--><a href=\"psysml:60238b1f-3640-4bef-bde7-54f879504707\" target=\"_top\" title=\"psysml:60238b1f-3640-4bef-bde7-54f879504707\" xlink:actuate=\"onRequest\" xlink:href=\"psysml:60238b1f-3640-4bef-bde7-54f879504707\" xlink:show=\"new\" xlink:title=\"psysml:60238b1f-3640-4bef-bde7-54f879504707\" xlink:type=\"simple\"><path d=\"M362.14,97.88 C376.71,118.86 395.19,145.48 408.01,163.95 \" fill=\"none\" id=\"E5&lt;-E7\" style=\"stroke: #383838; stroke-width: 1.0;\"/><polygon fill=\"#383838\" points=\"354.73,87.19,354.864,94.3999,361.5708,97.0492,361.4368,89.8393,354.73,87.19\" style=\"stroke: #383838; stroke-width: 1.0;\"/></a><!--MD5=[dc164f5e8a733ab456ef1add180e9e34]\n",
       "reverse link E7 to E8--><a href=\"psysml:83c02207-4172-44b5-b5b3-edd55ab7c0db\" target=\"_top\" title=\"psysml:83c02207-4172-44b5-b5b3-edd55ab7c0db\" xlink:actuate=\"onRequest\" xlink:href=\"psysml:83c02207-4172-44b5-b5b3-edd55ab7c0db\" xlink:show=\"new\" xlink:title=\"psysml:83c02207-4172-44b5-b5b3-edd55ab7c0db\" xlink:type=\"simple\"><path d=\"M352.67,208.29 C327.33,216.69 298.96,227.44 274.32,240 C231.96,261.6 187.65,294.33 160.26,315.93 \" fill=\"none\" id=\"E7&lt;-E8\" style=\"stroke: #383838; stroke-width: 1.0;\"/><polygon fill=\"#FFFFFF\" points=\"365.22,204.24,358.2818,202.2749,353.7994,207.9236,360.7376,209.8887,365.22,204.24\" style=\"stroke: #383838; stroke-width: 1.0;\"/><text fill=\"#000000\" font-family=\"sans-serif\" font-size=\"13\" lengthAdjust=\"spacingAndGlyphs\" textLength=\"8\" x=\"158.4251\" y=\"304.8075\">1</text></a><!--MD5=[f1f3f9f2fc535e6147756cb86a7f2e32]\n",
       "link E8 to E2--><a href=\"psysml:3fd357fc-9742-4e4a-b08f-00e5f8b92b2e\" target=\"_top\" title=\"psysml:3fd357fc-9742-4e4a-b08f-00e5f8b92b2e\" xlink:actuate=\"onRequest\" xlink:href=\"psysml:3fd357fc-9742-4e4a-b08f-00e5f8b92b2e\" xlink:show=\"new\" xlink:title=\"psysml:3fd357fc-9742-4e4a-b08f-00e5f8b92b2e\" xlink:type=\"simple\"><path d=\"M153.86,362.01 C166.19,375.22 182.2,392.38 196.46,407.65 \" fill=\"none\" id=\"E8-&gt;E2\" style=\"stroke: #383838; stroke-width: 1.0;\"/><polygon fill=\"#FFFFFF\" points=\"210.47,422.66,192.3921,413.5393,202.6305,403.9907,210.47,422.66\" style=\"stroke: #383838; stroke-width: 1.0;\"/><ellipse cx=\"189.9671\" cy=\"408.0067\" fill=\"#383838\" rx=\"2\" ry=\"2\" style=\"stroke: #383838; stroke-width: 1.0;\"/><ellipse cx=\"197.2802\" cy=\"401.1863\" fill=\"#383838\" rx=\"2\" ry=\"2\" style=\"stroke: #383838; stroke-width: 1.0;\"/></a><!--MD5=[9ae28de373ca99bb8a1b38d63370ca7e]\n",
       "reverse link E5 to E9--><a href=\"psysml:44393528-ee32-422a-b73c-7e5d578e1b67\" target=\"_top\" title=\"psysml:44393528-ee32-422a-b73c-7e5d578e1b67\" xlink:actuate=\"onRequest\" xlink:href=\"psysml:44393528-ee32-422a-b73c-7e5d578e1b67\" xlink:show=\"new\" xlink:title=\"psysml:44393528-ee32-422a-b73c-7e5d578e1b67\" xlink:type=\"simple\"><path d=\"M416.08,92.77 C447.78,108.48 481.27,131.61 499.32,164 C509.27,181.86 510.51,192.89 499.32,210 C490.86,222.92 478.41,232.65 464.71,239.97 \" fill=\"none\" id=\"E5&lt;-E9\" style=\"stroke: #383838; stroke-width: 1.0;\"/><polygon fill=\"#FFFFFF\" points=\"404.06,87.11,407.7814,93.2867,414.9142,92.2272,411.1928,86.0505,404.06,87.11\" style=\"stroke: #383838; stroke-width: 1.0;\"/><text fill=\"#000000\" font-family=\"sans-serif\" font-size=\"13\" lengthAdjust=\"spacingAndGlyphs\" textLength=\"8\" x=\"477.3099\" y=\"229.2386\">1</text></a><!--MD5=[5c3bb36fe832a92c7f0e1807dd65209d]\n",
       "link E9 to E2--><a href=\"psysml:fe7d5224-67e7-4f42-a679-f87e330c9f80\" target=\"_top\" title=\"psysml:fe7d5224-67e7-4f42-a679-f87e330c9f80\" xlink:actuate=\"onRequest\" xlink:href=\"psysml:fe7d5224-67e7-4f42-a679-f87e330c9f80\" xlink:show=\"new\" xlink:title=\"psysml:fe7d5224-67e7-4f42-a679-f87e330c9f80\" xlink:type=\"simple\"><path d=\"M291.19,285.15 C275.57,292.56 260.94,302.55 250.32,316 C231.17,340.25 227.04,375.32 227.36,402.77 \" fill=\"none\" id=\"E9-&gt;E2\" style=\"stroke: #383838; stroke-width: 1.0;\"/><polygon fill=\"#FFFFFF\" points=\"228.36,422.81,220.4186,404.1838,234.4011,403.4837,228.36,422.81\" style=\"stroke: #383838; stroke-width: 1.0;\"/><ellipse cx=\"222.131\" cy=\"398.3909\" fill=\"#383838\" rx=\"2\" ry=\"2\" style=\"stroke: #383838; stroke-width: 1.0;\"/><ellipse cx=\"232.1185\" cy=\"397.8909\" fill=\"#383838\" rx=\"2\" ry=\"2\" style=\"stroke: #383838; stroke-width: 1.0;\"/></a><!--MD5=[b6e6002d371559cd42698c03a53c9f7e]\n",
       "@startuml\r\n",
       " skinparam monochrome true\r\n",
       "skinparam classbackgroundcolor white\r\n",
       "skinparam shadowing false\r\n",
       "skinparam wrapWidth 300\r\n",
       "hide circle\r\n",
       "\r\n",
       "package \"TradeStudyTest\" as E1  [[psysml:ee7e22b2-7ed6-4f2c-8628-ec59eb221ec4 ]]  {\r\n",
       "comp def \"Engine\" as E2  <<(T,blue) part def>> [[psysml:6dc2e48d-4c08-4400-bc60-82a531af2780 ]] {\r\n",
       "}\r\n",
       "comp usage \"engine1: Engine\" as E3  <<(T,blue) part>> [[psysml:3defd9be-3b5d-4c6d-8f79-df776db84250 ]] {\r\n",
       "}\r\n",
       "comp usage \"engine2: Engine\" as E4  <<(T,blue) part>> [[psysml:3a9a647b-2fd2-49b6-8a5f-7ce1649088e0 ]] {\r\n",
       "}\r\n",
       "comp usage \"engineTradeStudy: TradeStudy\" as E5 << analysis>> [[psysml:4b9a9840-0888-40ad-997b-4be591991c45 ]] {\r\n",
       "}\r\n",
       "comp usage \"tradeStudyObjective: MaximizeObjective\" as E6  <<(T,blue) requirement>> [[psysml:6d56d509-a272-42e3-905c-0e1bbd246da0 ]] {\r\n",
       "}\r\n",
       "comp usage \"objectiveFunction\" as E7  <<(T,blue) calculation>> [[psysml:0d158b00-d202-4b1f-90aa-9fc427f4eb2b ]] {\r\n",
       "}\r\n",
       "comp usage \"alternative: Engine\" as E8  <<(T,blue) part>> [[psysml:e8d66f1b-2710-4767-99ee-f2812ccd7696 ]] {\r\n",
       "}\r\n",
       "comp usage \"selectedAlternative: Engine\" as E9  <<(T,blue) part>> [[psysml:d0667918-a428-4729-9680-50da29281cd4 ]] {\r\n",
       "}\r\n",
       "}\r\n",
       "E3 - -:|> E2 [[psysml:2c927883-7b33-4f30-b07f-44dca6adebf7 ]] \r\n",
       "E4 - -:|> E2 [[psysml:59e46c20-b41c-4b83-8c8c-eff5ad41f1d7 ]] \r\n",
       "E5 ..> E2 [[psysml:d5cbdaa6-c586-4ab8-b2f7-038eda38592d ]] : <<subject>>\r\n",
       "E5 - ->> E6 [[psysml:14d02f99-86ef-419d-b64f-b983855c21b7 ]] : <<objective>>\r\n",
       "E5 *- - E7 [[psysml:60238b1f-3640-4bef-bde7-54f879504707 ]] \r\n",
       "E7 o- - \"1\"E8 [[psysml:83c02207-4172-44b5-b5b3-edd55ab7c0db ]] \r\n",
       "E8 - -:|> E2 [[psysml:3fd357fc-9742-4e4a-b08f-00e5f8b92b2e ]] \r\n",
       "E5 o- - \"1\"E9 [[psysml:44393528-ee32-422a-b73c-7e5d578e1b67 ]] \r\n",
       "E9 - -:|> E2 [[psysml:fe7d5224-67e7-4f42-a679-f87e330c9f80 ]] \r\n",
       "@enduml\r\n",
       "\n",
       "PlantUML version 1.2020.13(Sat Jun 13 12:26:38 UTC 2020)\n",
       "(EPL source distribution)\n",
       "Java Runtime: OpenJDK Runtime Environment\n",
       "JVM: OpenJDK 64-Bit Server VM\n",
       "Default Encoding: UTF-8\n",
       "Language: en\n",
       "Country: null\n",
       "--></g></svg>"
      ]
     },
     "execution_count": 2,
     "metadata": {},
     "output_type": "execute_result"
    }
   ],
   "source": [
    "%viz --style=\"COMPTREE\" --view=\"Default\" \"TradeStudyTest\""
   ]
  },
  {
   "cell_type": "code",
   "execution_count": 3,
   "id": "6b55b0d7",
   "metadata": {
    "execution": {
     "iopub.execute_input": "2021-10-03T08:30:35.834233Z",
     "iopub.status.busy": "2021-10-03T08:30:35.833800Z",
     "iopub.status.idle": "2021-10-03T08:30:35.886807Z",
     "shell.execute_reply": "2021-10-03T08:30:35.887138Z"
    }
   },
   "outputs": [
    {
     "data": {
      "image/svg+xml": [
       "<?xml version=\"1.0\" encoding=\"UTF-8\" standalone=\"no\"?><svg xmlns=\"http://www.w3.org/2000/svg\" xmlns:xlink=\"http://www.w3.org/1999/xlink\" contentScriptType=\"application/ecmascript\" contentStyleType=\"text/css\" height=\"345px\" preserveAspectRatio=\"none\" style=\"width:955px;height:345px;\" version=\"1.1\" viewBox=\"0 0 955 345\" width=\"955px\" zoomAndPan=\"magnify\"><defs/><g><!--MD5=[fbc87193dbaf4d95561dea2c320d4a47]\n",
       "cluster E1--><a href=\"psysml:ee7e22b2-7ed6-4f2c-8628-ec59eb221ec4\" target=\"_top\" title=\"psysml:ee7e22b2-7ed6-4f2c-8628-ec59eb221ec4\" xlink:actuate=\"onRequest\" xlink:href=\"psysml:ee7e22b2-7ed6-4f2c-8628-ec59eb221ec4\" xlink:show=\"new\" xlink:title=\"psysml:ee7e22b2-7ed6-4f2c-8628-ec59eb221ec4\" xlink:type=\"simple\"><polygon fill=\"#FFFFFF\" points=\"16,6,132,6,139,28.2969,933,28.2969,933,333,16,333,16,6\" style=\"stroke: #000000; stroke-width: 1.5;\"/><line style=\"stroke: #000000; stroke-width: 1.5;\" x1=\"16\" x2=\"139\" y1=\"28.2969\" y2=\"28.2969\"/><text fill=\"#000000\" font-family=\"sans-serif\" font-size=\"14\" font-weight=\"bold\" lengthAdjust=\"spacingAndGlyphs\" textLength=\"110\" x=\"20\" y=\"20.9951\">TradeStudyTest</text></a><!--MD5=[b4997ac47864f28c2f74865a473b2911]\n",
       "class E2--><a href=\"psysml:6dc2e48d-4c08-4400-bc60-82a531af2780\" target=\"_top\" title=\"psysml:6dc2e48d-4c08-4400-bc60-82a531af2780\" xlink:actuate=\"onRequest\" xlink:href=\"psysml:6dc2e48d-4c08-4400-bc60-82a531af2780\" xlink:show=\"new\" xlink:title=\"psysml:6dc2e48d-4c08-4400-bc60-82a531af2780\" xlink:type=\"simple\"><rect fill=\"#FFFFFF\" height=\"45.9375\" id=\"E2\" style=\"stroke: #383838; stroke-width: 1.5;\" width=\"66\" x=\"598\" y=\"271\"/><text fill=\"#000000\" font-family=\"sans-serif\" font-size=\"12\" font-style=\"italic\" lengthAdjust=\"spacingAndGlyphs\" textLength=\"64\" x=\"599\" y=\"287.1387\">«part def»</text><text fill=\"#000000\" font-family=\"sans-serif\" font-size=\"12\" lengthAdjust=\"spacingAndGlyphs\" textLength=\"43\" x=\"609.5\" y=\"301.1074\">Engine</text><line style=\"stroke: #383838; stroke-width: 1.5;\" x1=\"599\" x2=\"663\" y1=\"308.9375\" y2=\"308.9375\"/></a><!--MD5=[09b614a08d8cba4a07c9adeb5e0fee81]\n",
       "class E3--><a href=\"psysml:3defd9be-3b5d-4c6d-8f79-df776db84250\" target=\"_top\" title=\"psysml:3defd9be-3b5d-4c6d-8f79-df776db84250\" xlink:actuate=\"onRequest\" xlink:href=\"psysml:3defd9be-3b5d-4c6d-8f79-df776db84250\" xlink:show=\"new\" xlink:title=\"psysml:3defd9be-3b5d-4c6d-8f79-df776db84250\" xlink:type=\"simple\"><rect fill=\"#FFFFFF\" height=\"45.9375\" id=\"E3\" rx=\"10\" ry=\"10\" style=\"stroke: #383838; stroke-width: 1.5;\" width=\"108\" x=\"809\" y=\"164\"/><text fill=\"#000000\" font-family=\"sans-serif\" font-size=\"12\" font-style=\"italic\" lengthAdjust=\"spacingAndGlyphs\" textLength=\"40\" x=\"843\" y=\"180.1387\">«part»</text><text fill=\"#000000\" font-family=\"sans-serif\" font-size=\"12\" lengthAdjust=\"spacingAndGlyphs\" textLength=\"102\" x=\"812\" y=\"194.1074\">engine1: Engine</text><line style=\"stroke: #383838; stroke-width: 1.5;\" x1=\"810\" x2=\"916\" y1=\"201.9375\" y2=\"201.9375\"/></a><!--MD5=[ebbe1d658d1005bcc118a6aa81145e00]\n",
       "class E4--><a href=\"psysml:3a9a647b-2fd2-49b6-8a5f-7ce1649088e0\" target=\"_top\" title=\"psysml:3a9a647b-2fd2-49b6-8a5f-7ce1649088e0\" xlink:actuate=\"onRequest\" xlink:href=\"psysml:3a9a647b-2fd2-49b6-8a5f-7ce1649088e0\" xlink:show=\"new\" xlink:title=\"psysml:3a9a647b-2fd2-49b6-8a5f-7ce1649088e0\" xlink:type=\"simple\"><rect fill=\"#FFFFFF\" height=\"45.9375\" id=\"E4\" rx=\"10\" ry=\"10\" style=\"stroke: #383838; stroke-width: 1.5;\" width=\"108\" x=\"666\" y=\"164\"/><text fill=\"#000000\" font-family=\"sans-serif\" font-size=\"12\" font-style=\"italic\" lengthAdjust=\"spacingAndGlyphs\" textLength=\"40\" x=\"700\" y=\"180.1387\">«part»</text><text fill=\"#000000\" font-family=\"sans-serif\" font-size=\"12\" lengthAdjust=\"spacingAndGlyphs\" textLength=\"102\" x=\"669\" y=\"194.1074\">engine2: Engine</text><line style=\"stroke: #383838; stroke-width: 1.5;\" x1=\"667\" x2=\"773\" y1=\"201.9375\" y2=\"201.9375\"/></a><!--MD5=[270fce915f116d4de14055a7c1d9a0f3]\n",
       "class E5--><a href=\"psysml:4b9a9840-0888-40ad-997b-4be591991c45\" target=\"_top\" title=\"psysml:4b9a9840-0888-40ad-997b-4be591991c45\" xlink:actuate=\"onRequest\" xlink:href=\"psysml:4b9a9840-0888-40ad-997b-4be591991c45\" xlink:show=\"new\" xlink:title=\"psysml:4b9a9840-0888-40ad-997b-4be591991c45\" xlink:type=\"simple\"><rect fill=\"#FFFFFF\" height=\"45.9375\" id=\"E5\" rx=\"10\" ry=\"10\" style=\"stroke: #383838; stroke-width: 1.5;\" width=\"199\" x=\"192.5\" y=\"41\"/><text fill=\"#000000\" font-family=\"sans-serif\" font-size=\"12\" font-style=\"italic\" lengthAdjust=\"spacingAndGlyphs\" textLength=\"64\" x=\"260\" y=\"57.1387\">«analysis»</text><text fill=\"#000000\" font-family=\"sans-serif\" font-size=\"12\" lengthAdjust=\"spacingAndGlyphs\" textLength=\"193\" x=\"195.5\" y=\"71.1074\">engineTradeStudy: TradeStudy</text><line style=\"stroke: #383838; stroke-width: 1.5;\" x1=\"193.5\" x2=\"390.5\" y1=\"78.9375\" y2=\"78.9375\"/></a><!--MD5=[60a26617385b1d2d0262a64233df1f8d]\n",
       "class E6--><a href=\"psysml:6d56d509-a272-42e3-905c-0e1bbd246da0\" target=\"_top\" title=\"psysml:6d56d509-a272-42e3-905c-0e1bbd246da0\" xlink:actuate=\"onRequest\" xlink:href=\"psysml:6d56d509-a272-42e3-905c-0e1bbd246da0\" xlink:show=\"new\" xlink:title=\"psysml:6d56d509-a272-42e3-905c-0e1bbd246da0\" xlink:type=\"simple\"><rect fill=\"#FFFFFF\" height=\"45.9375\" id=\"E6\" rx=\"10\" ry=\"10\" style=\"stroke: #383838; stroke-width: 1.5;\" width=\"251\" x=\"166.5\" y=\"164\"/><text fill=\"#000000\" font-family=\"sans-serif\" font-size=\"12\" font-style=\"italic\" lengthAdjust=\"spacingAndGlyphs\" textLength=\"91\" x=\"246.5\" y=\"180.1387\">«requirement»</text><text fill=\"#000000\" font-family=\"sans-serif\" font-size=\"12\" lengthAdjust=\"spacingAndGlyphs\" textLength=\"245\" x=\"169.5\" y=\"194.1074\">tradeStudyObjective: MaximizeObjective</text><line style=\"stroke: #383838; stroke-width: 1.5;\" x1=\"167.5\" x2=\"416.5\" y1=\"201.9375\" y2=\"201.9375\"/></a><!--MD5=[2156ba9850f5573cc1fc38a6a4b2f02b]\n",
       "class E7--><a href=\"psysml:d0667918-a428-4729-9680-50da29281cd4\" target=\"_top\" title=\"psysml:d0667918-a428-4729-9680-50da29281cd4\" xlink:actuate=\"onRequest\" xlink:href=\"psysml:d0667918-a428-4729-9680-50da29281cd4\" xlink:show=\"new\" xlink:title=\"psysml:d0667918-a428-4729-9680-50da29281cd4\" xlink:type=\"simple\"><rect fill=\"#FFFFFF\" height=\"45.9375\" id=\"E7\" rx=\"10\" ry=\"10\" style=\"stroke: #383838; stroke-width: 1.5;\" width=\"178\" x=\"453\" y=\"164\"/><text fill=\"#000000\" font-family=\"sans-serif\" font-size=\"12\" font-style=\"italic\" lengthAdjust=\"spacingAndGlyphs\" textLength=\"40\" x=\"522\" y=\"180.1387\">«part»</text><text fill=\"#000000\" font-family=\"sans-serif\" font-size=\"12\" lengthAdjust=\"spacingAndGlyphs\" textLength=\"172\" x=\"456\" y=\"194.1074\">selectedAlternative: Engine</text><line style=\"stroke: #383838; stroke-width: 1.5;\" x1=\"454\" x2=\"630\" y1=\"201.9375\" y2=\"201.9375\"/></a><!--MD5=[05d275557350bfb9b23a4ef7222b4c39]\n",
       "link E3 to E2--><a href=\"psysml:2c927883-7b33-4f30-b07f-44dca6adebf7\" target=\"_top\" title=\"psysml:2c927883-7b33-4f30-b07f-44dca6adebf7\" xlink:actuate=\"onRequest\" xlink:href=\"psysml:2c927883-7b33-4f30-b07f-44dca6adebf7\" xlink:show=\"new\" xlink:title=\"psysml:2c927883-7b33-4f30-b07f-44dca6adebf7\" xlink:type=\"simple\"><path d=\"M814.37,210.01 C775.74,227.49 721.88,251.87 682.52,269.68 \" fill=\"none\" id=\"E3-&gt;E2\" style=\"stroke: #383838; stroke-width: 1.0;\"/><polygon fill=\"#FFFFFF\" points=\"664.23,277.96,678.6446,263.7397,684.4251,276.4906,664.23,277.96\" style=\"stroke: #383838; stroke-width: 1.0;\"/><ellipse cx=\"684.6619\" cy=\"263.2078\" fill=\"#383838\" rx=\"2\" ry=\"2\" style=\"stroke: #383838; stroke-width: 1.0;\"/><ellipse cx=\"688.7908\" cy=\"272.3156\" fill=\"#383838\" rx=\"2\" ry=\"2\" style=\"stroke: #383838; stroke-width: 1.0;\"/></a><!--MD5=[185131fc0dcab0a4505a2ebe144e961b]\n",
       "link E4 to E2--><a href=\"psysml:59e46c20-b41c-4b83-8c8c-eff5ad41f1d7\" target=\"_top\" title=\"psysml:59e46c20-b41c-4b83-8c8c-eff5ad41f1d7\" xlink:actuate=\"onRequest\" xlink:href=\"psysml:59e46c20-b41c-4b83-8c8c-eff5ad41f1d7\" xlink:show=\"new\" xlink:title=\"psysml:59e46c20-b41c-4b83-8c8c-eff5ad41f1d7\" xlink:type=\"simple\"><path d=\"M701.34,210.01 C690.26,223.08 675.91,240.01 663.06,255.17 \" fill=\"none\" id=\"E4-&gt;E2\" style=\"stroke: #383838; stroke-width: 1.0;\"/><polygon fill=\"#FFFFFF\" points=\"649.94,270.66,656.8931,251.6428,667.5691,260.6994,649.94,270.66\" style=\"stroke: #383838; stroke-width: 1.0;\"/><ellipse cx=\"662.1056\" cy=\"248.5899\" fill=\"#383838\" rx=\"2\" ry=\"2\" style=\"stroke: #383838; stroke-width: 1.0;\"/><ellipse cx=\"669.7313\" cy=\"255.059\" fill=\"#383838\" rx=\"2\" ry=\"2\" style=\"stroke: #383838; stroke-width: 1.0;\"/></a><!--MD5=[15ebcb19ae302d9b601edb458606d402]\n",
       "link E5 to E2--><a href=\"psysml:d5cbdaa6-c586-4ab8-b2f7-038eda38592d\" target=\"_top\" title=\"psysml:d5cbdaa6-c586-4ab8-b2f7-038eda38592d\" xlink:actuate=\"onRequest\" xlink:href=\"psysml:d5cbdaa6-c586-4ab8-b2f7-038eda38592d\" xlink:show=\"new\" xlink:title=\"psysml:d5cbdaa6-c586-4ab8-b2f7-038eda38592d\" xlink:type=\"simple\"><path d=\"M211.44,87.03 C135.05,111.81 38.38,155.76 85,210 C150.98,286.77 479.56,293.36 592.67,293.32 \" fill=\"none\" id=\"E5-&gt;E2\" style=\"stroke: #383838; stroke-width: 1.0; stroke-dasharray: 7.0,7.0;\"/><polygon fill=\"#383838\" points=\"597.89,293.31,588.89,289.31,592.89,293.31,588.89,297.31,597.89,293.31\" style=\"stroke: #383838; stroke-width: 1.0;\"/><text fill=\"#000000\" font-family=\"sans-serif\" font-size=\"13\" lengthAdjust=\"spacingAndGlyphs\" textLength=\"62\" x=\"86\" y=\"191.5669\">«subject»</text></a><!--MD5=[9120cf2e5df3bff93db8f754bbbc09b4]\n",
       "link E5 to E6--><a href=\"psysml:14d02f99-86ef-419d-b64f-b983855c21b7\" target=\"_top\" title=\"psysml:14d02f99-86ef-419d-b64f-b983855c21b7\" xlink:actuate=\"onRequest\" xlink:href=\"psysml:14d02f99-86ef-419d-b64f-b983855c21b7\" xlink:show=\"new\" xlink:title=\"psysml:14d02f99-86ef-419d-b64f-b983855c21b7\" xlink:type=\"simple\"><path d=\"M292,87.19 C292,106.47 292,134.55 292,155.86 \" fill=\"none\" id=\"E5-&gt;E6\" style=\"stroke: #383838; stroke-width: 1.0;\"/><polygon fill=\"#383838\" points=\"292,163.95,295,155.95,289,155.95,292,163.95\" style=\"stroke: #383838; stroke-width: 1.0;\"/><text fill=\"#000000\" font-family=\"sans-serif\" font-size=\"13\" lengthAdjust=\"spacingAndGlyphs\" textLength=\"73\" x=\"293\" y=\"130.0669\">«objective»</text></a><!--MD5=[452b418e7f8a40397a49b8c0a78acc5b]\n",
       "reverse link E5 to E7--><a href=\"psysml:44393528-ee32-422a-b73c-7e5d578e1b67\" target=\"_top\" title=\"psysml:44393528-ee32-422a-b73c-7e5d578e1b67\" xlink:actuate=\"onRequest\" xlink:href=\"psysml:44393528-ee32-422a-b73c-7e5d578e1b67\" xlink:show=\"new\" xlink:title=\"psysml:44393528-ee32-422a-b73c-7e5d578e1b67\" xlink:type=\"simple\"><path d=\"M349.39,92.78 C393.99,114.36 455.01,143.9 496.33,163.89 \" fill=\"none\" id=\"E5&lt;-E7\" style=\"stroke: #383838; stroke-width: 1.0;\"/><polygon fill=\"#FFFFFF\" points=\"337.56,87.05,341.2143,93.2666,348.3582,92.2843,344.7039,86.0677,337.56,87.05\" style=\"stroke: #383838; stroke-width: 1.0;\"/><text fill=\"#000000\" font-family=\"sans-serif\" font-size=\"13\" lengthAdjust=\"spacingAndGlyphs\" textLength=\"8\" x=\"474.9812\" y=\"152.7567\">1</text></a><!--MD5=[583832df87f4419a098336a29a52fa00]\n",
       "link E7 to E2--><a href=\"psysml:fe7d5224-67e7-4f42-a679-f87e330c9f80\" target=\"_top\" title=\"psysml:fe7d5224-67e7-4f42-a679-f87e330c9f80\" xlink:actuate=\"onRequest\" xlink:href=\"psysml:fe7d5224-67e7-4f42-a679-f87e330c9f80\" xlink:show=\"new\" xlink:title=\"psysml:fe7d5224-67e7-4f42-a679-f87e330c9f80\" xlink:type=\"simple\"><path d=\"M560.66,210.01 C571.74,223.08 586.09,240.01 598.94,255.17 \" fill=\"none\" id=\"E7-&gt;E2\" style=\"stroke: #383838; stroke-width: 1.0;\"/><polygon fill=\"#FFFFFF\" points=\"612.06,270.66,594.4309,260.6994,605.1069,251.6428,612.06,270.66\" style=\"stroke: #383838; stroke-width: 1.0;\"/><ellipse cx=\"592.2687\" cy=\"255.059\" fill=\"#383838\" rx=\"2\" ry=\"2\" style=\"stroke: #383838; stroke-width: 1.0;\"/><ellipse cx=\"599.8944\" cy=\"248.5899\" fill=\"#383838\" rx=\"2\" ry=\"2\" style=\"stroke: #383838; stroke-width: 1.0;\"/></a><!--MD5=[465a08566eafb2b0ef863c8663f5a140]\n",
       "@startuml\r\n",
       " skinparam monochrome true\r\n",
       "skinparam classbackgroundcolor white\r\n",
       "skinparam shadowing false\r\n",
       "skinparam wrapWidth 300\r\n",
       "hide circle\r\n",
       "\r\n",
       "package \"TradeStudyTest\" as E1  [[psysml:ee7e22b2-7ed6-4f2c-8628-ec59eb221ec4 ]]  {\r\n",
       "comp def \"Engine\" as E2  <<(T,blue) part def>> [[psysml:6dc2e48d-4c08-4400-bc60-82a531af2780 ]] {\r\n",
       "}\r\n",
       "comp usage \"engine1: Engine\" as E3  <<(T,blue) part>> [[psysml:3defd9be-3b5d-4c6d-8f79-df776db84250 ]] {\r\n",
       "}\r\n",
       "comp usage \"engine2: Engine\" as E4  <<(T,blue) part>> [[psysml:3a9a647b-2fd2-49b6-8a5f-7ce1649088e0 ]] {\r\n",
       "}\r\n",
       "comp usage \"engineTradeStudy: TradeStudy\" as E5 << analysis>> [[psysml:4b9a9840-0888-40ad-997b-4be591991c45 ]] {\r\n",
       "}\r\n",
       "comp usage \"tradeStudyObjective: MaximizeObjective\" as E6  <<(T,blue) requirement>> [[psysml:6d56d509-a272-42e3-905c-0e1bbd246da0 ]] {\r\n",
       "}\r\n",
       "comp usage \"selectedAlternative: Engine\" as E7  <<(T,blue) part>> [[psysml:d0667918-a428-4729-9680-50da29281cd4 ]] {\r\n",
       "}\r\n",
       "}\r\n",
       "E3 - -:|> E2 [[psysml:2c927883-7b33-4f30-b07f-44dca6adebf7 ]] \r\n",
       "E4 - -:|> E2 [[psysml:59e46c20-b41c-4b83-8c8c-eff5ad41f1d7 ]] \r\n",
       "E5 ..> E2 [[psysml:d5cbdaa6-c586-4ab8-b2f7-038eda38592d ]] : <<subject>>\r\n",
       "E5 - ->> E6 [[psysml:14d02f99-86ef-419d-b64f-b983855c21b7 ]] : <<objective>>\r\n",
       "E5 o- - \"1\"E7 [[psysml:44393528-ee32-422a-b73c-7e5d578e1b67 ]] \r\n",
       "E7 - -:|> E2 [[psysml:fe7d5224-67e7-4f42-a679-f87e330c9f80 ]] \r\n",
       "@enduml\r\n",
       "\n",
       "PlantUML version 1.2020.13(Sat Jun 13 12:26:38 UTC 2020)\n",
       "(EPL source distribution)\n",
       "Java Runtime: OpenJDK Runtime Environment\n",
       "JVM: OpenJDK 64-Bit Server VM\n",
       "Default Encoding: UTF-8\n",
       "Language: en\n",
       "Country: null\n",
       "--></g></svg>"
      ]
     },
     "execution_count": 3,
     "metadata": {},
     "output_type": "execute_result"
    }
   ],
   "source": [
    "%viz --style=\"COMPTREE\" --view=\"Tree\" \"TradeStudyTest\""
   ]
  },
  {
   "cell_type": "code",
   "execution_count": 4,
   "id": "61b9a1d9",
   "metadata": {
    "execution": {
     "iopub.execute_input": "2021-10-03T08:30:35.936698Z",
     "iopub.status.busy": "2021-10-03T08:30:35.936275Z",
     "iopub.status.idle": "2021-10-03T08:30:35.946425Z",
     "shell.execute_reply": "2021-10-03T08:30:35.946747Z"
    }
   },
   "outputs": [
    {
     "data": {
      "image/svg+xml": [
       "<?xml version=\"1.0\" encoding=\"UTF-8\" standalone=\"no\"?><svg xmlns=\"http://www.w3.org/2000/svg\" xmlns:xlink=\"http://www.w3.org/1999/xlink\" contentScriptType=\"application/ecmascript\" contentStyleType=\"text/css\" height=\"12px\" preserveAspectRatio=\"none\" style=\"width:12px;height:12px;\" version=\"1.1\" viewBox=\"0 0 12 12\" width=\"12px\" zoomAndPan=\"magnify\"><defs/><g><!--MD5=[f19188ef49e11757b5c46753f95d9edc]\n",
       "@startuml\r\n",
       " skinparam monochrome true\r\n",
       "skinparam classbackgroundcolor white\r\n",
       "skinparam shadowing false\r\n",
       "skinparam wrapWidth 300\r\n",
       "hide circle\r\n",
       "\r\n",
       "@enduml\r\n",
       "\n",
       "PlantUML version 1.2020.13(Sat Jun 13 12:26:38 UTC 2020)\n",
       "(EPL source distribution)\n",
       "Java Runtime: OpenJDK Runtime Environment\n",
       "JVM: OpenJDK 64-Bit Server VM\n",
       "Default Encoding: UTF-8\n",
       "Language: en\n",
       "Country: null\n",
       "--></g></svg>"
      ]
     },
     "execution_count": 4,
     "metadata": {},
     "output_type": "execute_result"
    }
   ],
   "source": [
    "%viz --style=\"COMPTREE\" --view=\"State\" \"TradeStudyTest\""
   ]
  },
  {
   "cell_type": "code",
   "execution_count": 5,
   "id": "42eb28fc",
   "metadata": {
    "execution": {
     "iopub.execute_input": "2021-10-03T08:30:35.996612Z",
     "iopub.status.busy": "2021-10-03T08:30:35.996191Z",
     "iopub.status.idle": "2021-10-03T08:30:36.053485Z",
     "shell.execute_reply": "2021-10-03T08:30:36.051544Z"
    }
   },
   "outputs": [
    {
     "data": {
      "image/svg+xml": [
       "<?xml version=\"1.0\" encoding=\"UTF-8\" standalone=\"no\"?><svg xmlns=\"http://www.w3.org/2000/svg\" xmlns:xlink=\"http://www.w3.org/1999/xlink\" contentScriptType=\"application/ecmascript\" contentStyleType=\"text/css\" height=\"334px\" preserveAspectRatio=\"none\" style=\"width:566px;height:334px;\" version=\"1.1\" viewBox=\"0 0 566 334\" width=\"566px\" zoomAndPan=\"magnify\"><defs/><g><!--MD5=[fbc87193dbaf4d95561dea2c320d4a47]\n",
       "cluster E1--><a href=\"psysml:ee7e22b2-7ed6-4f2c-8628-ec59eb221ec4\" target=\"_top\" title=\"psysml:ee7e22b2-7ed6-4f2c-8628-ec59eb221ec4\" xlink:actuate=\"onRequest\" xlink:href=\"psysml:ee7e22b2-7ed6-4f2c-8628-ec59eb221ec4\" xlink:show=\"new\" xlink:title=\"psysml:ee7e22b2-7ed6-4f2c-8628-ec59eb221ec4\" xlink:type=\"simple\"><polygon fill=\"#FFFFFF\" points=\"16,6,132,6,139,28.2969,544,28.2969,544,322,16,322,16,6\" style=\"stroke: #000000; stroke-width: 1.5;\"/><line style=\"stroke: #000000; stroke-width: 1.5;\" x1=\"16\" x2=\"139\" y1=\"28.2969\" y2=\"28.2969\"/><text fill=\"#000000\" font-family=\"sans-serif\" font-size=\"14\" font-weight=\"bold\" lengthAdjust=\"spacingAndGlyphs\" textLength=\"110\" x=\"20\" y=\"20.9951\">TradeStudyTest</text></a><!--MD5=[270fce915f116d4de14055a7c1d9a0f3]\n",
       "class E5--><a href=\"psysml:4b9a9840-0888-40ad-997b-4be591991c45\" target=\"_top\" title=\"psysml:4b9a9840-0888-40ad-997b-4be591991c45\" xlink:actuate=\"onRequest\" xlink:href=\"psysml:4b9a9840-0888-40ad-997b-4be591991c45\" xlink:show=\"new\" xlink:title=\"psysml:4b9a9840-0888-40ad-997b-4be591991c45\" xlink:type=\"simple\"><rect fill=\"#FFFFFF\" height=\"45.9375\" id=\"E5\" rx=\"10\" ry=\"10\" style=\"stroke: #383838; stroke-width: 1.5;\" width=\"199\" x=\"328.5\" y=\"41\"/><text fill=\"#000000\" font-family=\"sans-serif\" font-size=\"12\" font-style=\"italic\" lengthAdjust=\"spacingAndGlyphs\" textLength=\"64\" x=\"396\" y=\"57.1387\">«analysis»</text><text fill=\"#000000\" font-family=\"sans-serif\" font-size=\"12\" lengthAdjust=\"spacingAndGlyphs\" textLength=\"193\" x=\"331.5\" y=\"71.1074\">engineTradeStudy: TradeStudy</text><line style=\"stroke: #383838; stroke-width: 1.5;\" x1=\"329.5\" x2=\"526.5\" y1=\"78.9375\" y2=\"78.9375\"/></a><!--MD5=[60a26617385b1d2d0262a64233df1f8d]\n",
       "class E6--><a href=\"psysml:6d56d509-a272-42e3-905c-0e1bbd246da0\" target=\"_top\" title=\"psysml:6d56d509-a272-42e3-905c-0e1bbd246da0\" xlink:actuate=\"onRequest\" xlink:href=\"psysml:6d56d509-a272-42e3-905c-0e1bbd246da0\" xlink:show=\"new\" xlink:title=\"psysml:6d56d509-a272-42e3-905c-0e1bbd246da0\" xlink:type=\"simple\"><rect fill=\"#FFFFFF\" height=\"45.9375\" id=\"E6\" rx=\"10\" ry=\"10\" style=\"stroke: #383838; stroke-width: 1.5;\" width=\"251\" x=\"32.5\" y=\"120\"/><text fill=\"#000000\" font-family=\"sans-serif\" font-size=\"12\" font-style=\"italic\" lengthAdjust=\"spacingAndGlyphs\" textLength=\"91\" x=\"112.5\" y=\"136.1387\">«requirement»</text><text fill=\"#000000\" font-family=\"sans-serif\" font-size=\"12\" lengthAdjust=\"spacingAndGlyphs\" textLength=\"245\" x=\"35.5\" y=\"150.1074\">tradeStudyObjective: MaximizeObjective</text><line style=\"stroke: #383838; stroke-width: 1.5;\" x1=\"33.5\" x2=\"282.5\" y1=\"157.9375\" y2=\"157.9375\"/></a><!--MD5=[2156ba9850f5573cc1fc38a6a4b2f02b]\n",
       "class E7--><a href=\"psysml:0d158b00-d202-4b1f-90aa-9fc427f4eb2b\" target=\"_top\" title=\"psysml:0d158b00-d202-4b1f-90aa-9fc427f4eb2b\" xlink:actuate=\"onRequest\" xlink:href=\"psysml:0d158b00-d202-4b1f-90aa-9fc427f4eb2b\" xlink:show=\"new\" xlink:title=\"psysml:0d158b00-d202-4b1f-90aa-9fc427f4eb2b\" xlink:type=\"simple\"><rect fill=\"#FFFFFF\" height=\"45.9375\" id=\"E7\" rx=\"10\" ry=\"10\" style=\"stroke: #383838; stroke-width: 1.5;\" width=\"116\" x=\"319\" y=\"120\"/><text fill=\"#000000\" font-family=\"sans-serif\" font-size=\"12\" font-style=\"italic\" lengthAdjust=\"spacingAndGlyphs\" textLength=\"82\" x=\"336\" y=\"136.1387\">«calculation»</text><text fill=\"#000000\" font-family=\"sans-serif\" font-size=\"12\" lengthAdjust=\"spacingAndGlyphs\" textLength=\"110\" x=\"322\" y=\"150.1074\">objectiveFunction</text><line style=\"stroke: #383838; stroke-width: 1.5;\" x1=\"320\" x2=\"434\" y1=\"157.9375\" y2=\"157.9375\"/></a><!--MD5=[b9389687b975829384b498ac4b7476b2]\n",
       "class E8--><a href=\"psysml:e8d66f1b-2710-4767-99ee-f2812ccd7696\" target=\"_top\" title=\"psysml:e8d66f1b-2710-4767-99ee-f2812ccd7696\" xlink:actuate=\"onRequest\" xlink:href=\"psysml:e8d66f1b-2710-4767-99ee-f2812ccd7696\" xlink:show=\"new\" xlink:title=\"psysml:e8d66f1b-2710-4767-99ee-f2812ccd7696\" xlink:type=\"simple\"><rect fill=\"#FFFFFF\" height=\"31.9688\" id=\"E8\" rx=\"10\" ry=\"10\" style=\"stroke: #383838; stroke-width: 1.5;\" width=\"124\" x=\"178\" y=\"214\"/><text fill=\"#000000\" font-family=\"sans-serif\" font-size=\"12\" lengthAdjust=\"spacingAndGlyphs\" textLength=\"118\" x=\"181\" y=\"230.1387\">alternative: Engine</text><line style=\"stroke: #383838; stroke-width: 1.5;\" x1=\"179\" x2=\"301\" y1=\"237.9688\" y2=\"237.9688\"/></a><!--MD5=[fd4143e9d270a159db93a4ea2a975926]\n",
       "class E9--><a href=\"psysml:d0667918-a428-4729-9680-50da29281cd4\" target=\"_top\" title=\"psysml:d0667918-a428-4729-9680-50da29281cd4\" xlink:actuate=\"onRequest\" xlink:href=\"psysml:d0667918-a428-4729-9680-50da29281cd4\" xlink:show=\"new\" xlink:title=\"psysml:d0667918-a428-4729-9680-50da29281cd4\" xlink:type=\"simple\"><rect fill=\"#FFFFFF\" height=\"31.9688\" id=\"E9\" rx=\"10\" ry=\"10\" style=\"stroke: #383838; stroke-width: 1.5;\" width=\"178\" x=\"246\" y=\"174\"/><text fill=\"#000000\" font-family=\"sans-serif\" font-size=\"12\" lengthAdjust=\"spacingAndGlyphs\" textLength=\"172\" x=\"249\" y=\"190.1387\">selectedAlternative: Engine</text><line style=\"stroke: #383838; stroke-width: 1.5;\" x1=\"247\" x2=\"423\" y1=\"197.9688\" y2=\"197.9688\"/></a><g id=\"E1.E2\"><a href=\"psysml:6dc2e48d-4c08-4400-bc60-82a531af2780\" target=\"_top\" title=\"psysml:6dc2e48d-4c08-4400-bc60-82a531af2780\" xlink:actuate=\"onRequest\" xlink:href=\"psysml:6dc2e48d-4c08-4400-bc60-82a531af2780\" xlink:show=\"new\" xlink:title=\"psysml:6dc2e48d-4c08-4400-bc60-82a531af2780\" xlink:type=\"simple\"><rect fill=\"#FFFFFF\" height=\"42.9375\" id=\"E2\" style=\"stroke: #383838; stroke-width: 1.5;\" width=\"71\" x=\"302.5\" y=\"263\"/><rect fill=\"#F8F8F8\" height=\"37.9375\" style=\"stroke: #383838; stroke-width: 1.5;\" width=\"71\" x=\"302.5\" y=\"263\"/><text fill=\"#000000\" font-family=\"sans-serif\" font-size=\"12\" font-style=\"italic\" lengthAdjust=\"spacingAndGlyphs\" textLength=\"64\" x=\"306\" y=\"279.1387\">«part def»</text><text fill=\"#000000\" font-family=\"sans-serif\" font-size=\"12\" lengthAdjust=\"spacingAndGlyphs\" textLength=\"43\" x=\"316.5\" y=\"293.1074\">Engine</text></a></g><g id=\"E1.E3\"><a href=\"psysml:3defd9be-3b5d-4c6d-8f79-df776db84250\" target=\"_top\" title=\"psysml:3defd9be-3b5d-4c6d-8f79-df776db84250\" xlink:actuate=\"onRequest\" xlink:href=\"psysml:3defd9be-3b5d-4c6d-8f79-df776db84250\" xlink:show=\"new\" xlink:title=\"psysml:3defd9be-3b5d-4c6d-8f79-df776db84250\" xlink:type=\"simple\"><rect fill=\"#FFFFFF\" height=\"40\" id=\"E3\" rx=\"10\" ry=\"10\" style=\"stroke: #383838; stroke-width: 1.5;\" width=\"113\" x=\"180.5\" y=\"44\"/><rect fill=\"#F8F8F8\" height=\"23.9688\" rx=\"10\" ry=\"10\" style=\"stroke: #F8F8F8; stroke-width: 1.5;\" width=\"113\" x=\"180.5\" y=\"44\"/><rect fill=\"#F8F8F8\" height=\"10\" style=\"stroke: #F8F8F8; stroke-width: 1.5;\" width=\"113\" x=\"180.5\" y=\"57.9688\"/><rect fill=\"none\" height=\"40\" id=\"E3\" rx=\"10\" ry=\"10\" style=\"stroke: #383838; stroke-width: 1.5;\" width=\"113\" x=\"180.5\" y=\"44\"/><text fill=\"#000000\" font-family=\"sans-serif\" font-size=\"12\" lengthAdjust=\"spacingAndGlyphs\" textLength=\"102\" x=\"186\" y=\"60.1387\">engine1: Engine</text></a></g><g id=\"E1.E4\"><a href=\"psysml:3a9a647b-2fd2-49b6-8a5f-7ce1649088e0\" target=\"_top\" title=\"psysml:3a9a647b-2fd2-49b6-8a5f-7ce1649088e0\" xlink:actuate=\"onRequest\" xlink:href=\"psysml:3a9a647b-2fd2-49b6-8a5f-7ce1649088e0\" xlink:show=\"new\" xlink:title=\"psysml:3a9a647b-2fd2-49b6-8a5f-7ce1649088e0\" xlink:type=\"simple\"><rect fill=\"#FFFFFF\" height=\"40\" id=\"E4\" rx=\"10\" ry=\"10\" style=\"stroke: #383838; stroke-width: 1.5;\" width=\"113\" x=\"32.5\" y=\"44\"/><rect fill=\"#F8F8F8\" height=\"23.9688\" rx=\"10\" ry=\"10\" style=\"stroke: #F8F8F8; stroke-width: 1.5;\" width=\"113\" x=\"32.5\" y=\"44\"/><rect fill=\"#F8F8F8\" height=\"10\" style=\"stroke: #F8F8F8; stroke-width: 1.5;\" width=\"113\" x=\"32.5\" y=\"57.9688\"/><rect fill=\"none\" height=\"40\" id=\"E4\" rx=\"10\" ry=\"10\" style=\"stroke: #383838; stroke-width: 1.5;\" width=\"113\" x=\"32.5\" y=\"44\"/><text fill=\"#000000\" font-family=\"sans-serif\" font-size=\"12\" lengthAdjust=\"spacingAndGlyphs\" textLength=\"102\" x=\"38\" y=\"60.1387\">engine2: Engine</text></a></g><!--MD5=[15ebcb19ae302d9b601edb458606d402]\n",
       "link E5 to E2--><a href=\"psysml:d5cbdaa6-c586-4ab8-b2f7-038eda38592d\" target=\"_top\" title=\"psysml:d5cbdaa6-c586-4ab8-b2f7-038eda38592d\" xlink:actuate=\"onRequest\" xlink:href=\"psysml:d5cbdaa6-c586-4ab8-b2f7-038eda38592d\" xlink:show=\"new\" xlink:title=\"psysml:d5cbdaa6-c586-4ab8-b2f7-038eda38592d\" xlink:type=\"simple\"><path d=\"M454.33,87.05 C456.45,89.57 458.39,92.23 460,95 C475.92,122.38 478.3,136.82 466,166 C448.69,207.07 408.73,239.87 378.03,260.26 \" fill=\"none\" id=\"E5-&gt;E2\" style=\"stroke: #383838; stroke-width: 1.0; stroke-dasharray: 7.0,7.0;\"/><polygon fill=\"#383838\" points=\"373.57,263.18,383.2939,261.6161,377.7586,260.4495,378.9251,254.9143,373.57,263.18\" style=\"stroke: #383838; stroke-width: 1.0;\"/><text fill=\"#000000\" font-family=\"sans-serif\" font-size=\"13\" lengthAdjust=\"spacingAndGlyphs\" textLength=\"62\" x=\"463\" y=\"194.5669\">«subject»</text></a><!--MD5=[9120cf2e5df3bff93db8f754bbbc09b4]\n",
       "link E5 to E6--><a href=\"psysml:14d02f99-86ef-419d-b64f-b983855c21b7\" target=\"_top\" title=\"psysml:14d02f99-86ef-419d-b64f-b983855c21b7\" xlink:actuate=\"onRequest\" xlink:href=\"psysml:14d02f99-86ef-419d-b64f-b983855c21b7\" xlink:show=\"new\" xlink:title=\"psysml:14d02f99-86ef-419d-b64f-b983855c21b7\" xlink:type=\"simple\"><path d=\"M342.94,87.03 C333.16,89.67 323.36,92.36 314,95 C288.94,102.07 261.74,110.13 237.17,117.56 \" fill=\"none\" id=\"E5-&gt;E6\" style=\"stroke: #383838; stroke-width: 1.0;\"/><polygon fill=\"#383838\" points=\"229.29,119.94,237.8158,120.4972,236.0799,114.7538,229.29,119.94\" style=\"stroke: #383838; stroke-width: 1.0;\"/><text fill=\"#000000\" font-family=\"sans-serif\" font-size=\"13\" lengthAdjust=\"spacingAndGlyphs\" textLength=\"73\" x=\"315\" y=\"108.0669\">«objective»</text></a><!--MD5=[452b418e7f8a40397a49b8c0a78acc5b]\n",
       "reverse link E5 to E7--><a href=\"psysml:60238b1f-3640-4bef-bde7-54f879504707\" target=\"_top\" title=\"psysml:60238b1f-3640-4bef-bde7-54f879504707\" xlink:actuate=\"onRequest\" xlink:href=\"psysml:60238b1f-3640-4bef-bde7-54f879504707\" xlink:show=\"new\" xlink:title=\"psysml:60238b1f-3640-4bef-bde7-54f879504707\" xlink:type=\"simple\"><path d=\"M405.93,98.32 C401.13,105.57 396.16,113.08 391.72,119.78 \" fill=\"none\" id=\"E5&lt;-E7\" style=\"stroke: #383838; stroke-width: 1.0;\"/><polygon fill=\"#383838\" points=\"413.25,87.27,406.6021,90.0638,406.6241,97.2749,413.272,94.4811,413.25,87.27\" style=\"stroke: #383838; stroke-width: 1.0;\"/></a><!--MD5=[dc164f5e8a733ab456ef1add180e9e34]\n",
       "reverse link E7 to E8--><a href=\"psysml:83c02207-4172-44b5-b5b3-edd55ab7c0db\" target=\"_top\" title=\"psysml:83c02207-4172-44b5-b5b3-edd55ab7c0db\" xlink:actuate=\"onRequest\" xlink:href=\"psysml:83c02207-4172-44b5-b5b3-edd55ab7c0db\" xlink:show=\"new\" xlink:title=\"psysml:83c02207-4172-44b5-b5b3-edd55ab7c0db\" xlink:type=\"simple\"><path d=\"M305.92,164.91 C304.26,165.29 302.62,165.65 301,166 C288.71,168.64 253.66,164.89 245,174 C235.09,184.43 235.08,201.52 236.77,213.88 \" fill=\"none\" id=\"E7&lt;-E8\" style=\"stroke: #383838; stroke-width: 1.0;\"/><polygon fill=\"#FFFFFF\" points=\"318.71,161.77,311.9314,159.3102,307.0537,164.6214,313.8323,167.0811,318.71,161.77\" style=\"stroke: #383838; stroke-width: 1.0;\"/><text fill=\"#000000\" font-family=\"sans-serif\" font-size=\"13\" lengthAdjust=\"spacingAndGlyphs\" textLength=\"8\" x=\"226.2847\" y=\"202.8557\">1</text></a><!--MD5=[f1f3f9f2fc535e6147756cb86a7f2e32]\n",
       "link E8 to E2--><a href=\"psysml:3fd357fc-9742-4e4a-b08f-00e5f8b92b2e\" target=\"_top\" title=\"psysml:3fd357fc-9742-4e4a-b08f-00e5f8b92b2e\" xlink:actuate=\"onRequest\" xlink:href=\"psysml:3fd357fc-9742-4e4a-b08f-00e5f8b92b2e\" xlink:show=\"new\" xlink:title=\"psysml:3fd357fc-9742-4e4a-b08f-00e5f8b92b2e\" xlink:type=\"simple\"><path d=\"M268.08,246.04 C273.23,248.8 278.76,251.77 284.38,254.77 \" fill=\"none\" id=\"E8-&gt;E2\" style=\"stroke: #383838; stroke-width: 1.0;\"/><polygon fill=\"#FFFFFF\" points=\"302.21,264.33,282.1553,261.5358,288.7616,249.1926,302.21,264.33\" style=\"stroke: #383838; stroke-width: 1.0;\"/><ellipse cx=\"278.0736\" cy=\"257.0828\" fill=\"#383838\" rx=\"2\" ry=\"2\" style=\"stroke: #383838; stroke-width: 1.0;\"/><ellipse cx=\"282.7924\" cy=\"248.2661\" fill=\"#383838\" rx=\"2\" ry=\"2\" style=\"stroke: #383838; stroke-width: 1.0;\"/></a><!--MD5=[9ae28de373ca99bb8a1b38d63370ca7e]\n",
       "reverse link E5 to E9--><a href=\"psysml:44393528-ee32-422a-b73c-7e5d578e1b67\" target=\"_top\" title=\"psysml:44393528-ee32-422a-b73c-7e5d578e1b67\" xlink:actuate=\"onRequest\" xlink:href=\"psysml:44393528-ee32-422a-b73c-7e5d578e1b67\" xlink:show=\"new\" xlink:title=\"psysml:44393528-ee32-422a-b73c-7e5d578e1b67\" xlink:type=\"simple\"><path d=\"M449.82,98.65 C460.68,120.03 468.53,147.15 453,166 C451.62,167.67 438.74,170.68 421.94,173.98 \" fill=\"none\" id=\"E5&lt;-E9\" style=\"stroke: #383838; stroke-width: 1.0;\"/><polygon fill=\"#FFFFFF\" points=\"443.41,87.13,442.8257,94.3174,449.2355,97.6211,449.8198,90.4337,443.41,87.13\" style=\"stroke: #383838; stroke-width: 1.0;\"/><text fill=\"#000000\" font-family=\"sans-serif\" font-size=\"13\" lengthAdjust=\"spacingAndGlyphs\" textLength=\"8\" x=\"431.8866\" y=\"185.124\">1</text></a><!--MD5=[5c3bb36fe832a92c7f0e1807dd65209d]\n",
       "link E9 to E2--><a href=\"psysml:fe7d5224-67e7-4f42-a679-f87e330c9f80\" target=\"_top\" title=\"psysml:fe7d5224-67e7-4f42-a679-f87e330c9f80\" xlink:actuate=\"onRequest\" xlink:href=\"psysml:fe7d5224-67e7-4f42-a679-f87e330c9f80\" xlink:show=\"new\" xlink:title=\"psysml:fe7d5224-67e7-4f42-a679-f87e330c9f80\" xlink:type=\"simple\"><path d=\"M335.5,206.27 C335.82,216.14 336.25,229.48 336.66,242.29 \" fill=\"none\" id=\"E9-&gt;E2\" style=\"stroke: #383838; stroke-width: 1.0;\"/><polygon fill=\"#FFFFFF\" points=\"337.32,262.66,329.7128,243.8949,343.7055,243.4448,337.32,262.66\" style=\"stroke: #383838; stroke-width: 1.0;\"/><ellipse cx=\"331.5285\" cy=\"238.1335\" fill=\"#383838\" rx=\"2\" ry=\"2\" style=\"stroke: #383838; stroke-width: 1.0;\"/><ellipse cx=\"341.5233\" cy=\"237.812\" fill=\"#383838\" rx=\"2\" ry=\"2\" style=\"stroke: #383838; stroke-width: 1.0;\"/></a><!--MD5=[a2a14a41aa96f50d748d954cdb56e7ee]\n",
       "@startuml\r\n",
       "skinparam ranksep 10\r\n",
       "skinparam rectangle {\r\n",
       " backgroundColor<<block>> LightGreen\r\n",
       "}\r\n",
       " skinparam monochrome true\r\n",
       "skinparam classbackgroundcolor white\r\n",
       "skinparam shadowing false\r\n",
       "skinparam wrapWidth 300\r\n",
       "hide circle\r\n",
       "\r\n",
       "package \"TradeStudyTest\" as E1  [[psysml:ee7e22b2-7ed6-4f2c-8628-ec59eb221ec4 ]]  {\r\n",
       "rec def \"Engine\" as E2  <<(T,blue) part def>> [[psysml:6dc2e48d-4c08-4400-bc60-82a531af2780 ]] {\r\n",
       "}\r\n",
       "rec usage \"engine1: Engine\" as E3  [[psysml:3defd9be-3b5d-4c6d-8f79-df776db84250 ]] {\r\n",
       "}\r\n",
       "rec usage \"engine2: Engine\" as E4  [[psysml:3a9a647b-2fd2-49b6-8a5f-7ce1649088e0 ]] {\r\n",
       "}\r\n",
       "comp usage \"engineTradeStudy: TradeStudy\" as E5 << analysis>> [[psysml:4b9a9840-0888-40ad-997b-4be591991c45 ]] {\r\n",
       "}\r\n",
       "comp usage \"tradeStudyObjective: MaximizeObjective\" as E6  <<(T,blue) requirement>> [[psysml:6d56d509-a272-42e3-905c-0e1bbd246da0 ]] {\r\n",
       "}\r\n",
       "comp usage \"objectiveFunction\" as E7  <<(T,blue) calculation>> [[psysml:0d158b00-d202-4b1f-90aa-9fc427f4eb2b ]] {\r\n",
       "}\r\n",
       "comp usage \"alternative: Engine\" as E8  [[psysml:e8d66f1b-2710-4767-99ee-f2812ccd7696 ]] {\r\n",
       "}\r\n",
       "comp usage \"selectedAlternative: Engine\" as E9  [[psysml:d0667918-a428-4729-9680-50da29281cd4 ]] {\r\n",
       "}\r\n",
       "}\r\n",
       "E5 ..> E2 [[psysml:d5cbdaa6-c586-4ab8-b2f7-038eda38592d ]] : <<subject>>\r\n",
       "E5 - ->> E6 [[psysml:14d02f99-86ef-419d-b64f-b983855c21b7 ]] : <<objective>>\r\n",
       "E5 *- - E7 [[psysml:60238b1f-3640-4bef-bde7-54f879504707 ]] \r\n",
       "E7 o- - \"1\"E8 [[psysml:83c02207-4172-44b5-b5b3-edd55ab7c0db ]] \r\n",
       "E8 - -:|> E2 [[psysml:3fd357fc-9742-4e4a-b08f-00e5f8b92b2e ]] \r\n",
       "E5 o- - \"1\"E9 [[psysml:44393528-ee32-422a-b73c-7e5d578e1b67 ]] \r\n",
       "E9 - -:|> E2 [[psysml:fe7d5224-67e7-4f42-a679-f87e330c9f80 ]] \r\n",
       "@enduml\r\n",
       "\n",
       "PlantUML version 1.2020.13(Sat Jun 13 12:26:38 UTC 2020)\n",
       "(EPL source distribution)\n",
       "Java Runtime: OpenJDK Runtime Environment\n",
       "JVM: OpenJDK 64-Bit Server VM\n",
       "Default Encoding: UTF-8\n",
       "Language: en\n",
       "Country: null\n",
       "--></g></svg>"
      ]
     },
     "execution_count": 5,
     "metadata": {},
     "output_type": "execute_result"
    }
   ],
   "source": [
    "%viz --style=\"COMPTREE\" --view=\"Interconnection\" \"TradeStudyTest\""
   ]
  },
  {
   "cell_type": "code",
   "execution_count": 6,
   "id": "1b3ff1f8",
   "metadata": {
    "execution": {
     "iopub.execute_input": "2021-10-03T08:30:36.102286Z",
     "iopub.status.busy": "2021-10-03T08:30:36.101888Z",
     "iopub.status.idle": "2021-10-03T08:30:36.140722Z",
     "shell.execute_reply": "2021-10-03T08:30:36.141047Z"
    }
   },
   "outputs": [
    {
     "data": {
      "image/svg+xml": [
       "<?xml version=\"1.0\" encoding=\"UTF-8\" standalone=\"no\"?><svg xmlns=\"http://www.w3.org/2000/svg\" xmlns:xlink=\"http://www.w3.org/1999/xlink\" contentScriptType=\"application/ecmascript\" contentStyleType=\"text/css\" height=\"178px\" preserveAspectRatio=\"none\" style=\"width:434px;height:178px;\" version=\"1.1\" viewBox=\"0 0 434 178\" width=\"434px\" zoomAndPan=\"magnify\"><defs/><g><!--MD5=[fbc87193dbaf4d95561dea2c320d4a47]\n",
       "cluster E1--><a href=\"psysml:4b9a9840-0888-40ad-997b-4be591991c45\" target=\"_top\" title=\"psysml:4b9a9840-0888-40ad-997b-4be591991c45\" xlink:actuate=\"onRequest\" xlink:href=\"psysml:4b9a9840-0888-40ad-997b-4be591991c45\" xlink:show=\"new\" xlink:title=\"psysml:4b9a9840-0888-40ad-997b-4be591991c45\" xlink:type=\"simple\"><rect fill=\"#FFFFFF\" height=\"103.72\" id=\"E1\" rx=\"10\" ry=\"10\" style=\"stroke: #383838; stroke-width: 1.5;\" width=\"327\" x=\"47\" y=\"42.0986\"/><rect fill=\"#F8F8F8\" height=\"37.9375\" rx=\"10\" ry=\"10\" style=\"stroke: #F8F8F8; stroke-width: 1.5;\" width=\"327\" x=\"47\" y=\"42.0986\"/><rect fill=\"#F8F8F8\" height=\"10\" style=\"stroke: #F8F8F8; stroke-width: 1.5;\" width=\"327\" x=\"47\" y=\"70.0361\"/><rect fill=\"none\" height=\"103.72\" id=\"E1\" rx=\"10\" ry=\"10\" style=\"stroke: #383838; stroke-width: 1.5;\" width=\"327\" x=\"47\" y=\"42.0986\"/><text fill=\"#000000\" font-family=\"sans-serif\" font-size=\"12\" font-style=\"italic\" lengthAdjust=\"spacingAndGlyphs\" textLength=\"64\" x=\"178.5\" y=\"58.2373\">«analysis»</text><text fill=\"#000000\" font-family=\"sans-serif\" font-size=\"12\" lengthAdjust=\"spacingAndGlyphs\" textLength=\"114\" x=\"153.5\" y=\"72.2061\">engineTradeStudy</text><line style=\"stroke: #383838; stroke-width: 1.0;\" x1=\"47\" x2=\"374\" y1=\"80.0361\" y2=\"80.0361\"/></a><!--MD5=[d5e69f78d87373223dbae638b30a9c99]\n",
       "cluster E3--><a href=\"psysml:0d158b00-d202-4b1f-90aa-9fc427f4eb2b\" target=\"_top\" title=\"psysml:0d158b00-d202-4b1f-90aa-9fc427f4eb2b\" xlink:actuate=\"onRequest\" xlink:href=\"psysml:0d158b00-d202-4b1f-90aa-9fc427f4eb2b\" xlink:show=\"new\" xlink:title=\"psysml:0d158b00-d202-4b1f-90aa-9fc427f4eb2b\" xlink:type=\"simple\"><rect fill=\"#FFFFFF\" height=\"81.72\" id=\"E3\" rx=\"10\" ry=\"10\" style=\"stroke: #383838; stroke-width: 1.5;\" width=\"132\" x=\"214.125\" y=\"64.0986\"/><rect fill=\"#F8F8F8\" height=\"37.9375\" rx=\"10\" ry=\"10\" style=\"stroke: #F8F8F8; stroke-width: 1.5;\" width=\"132\" x=\"214.125\" y=\"64.0986\"/><rect fill=\"#F8F8F8\" height=\"10\" style=\"stroke: #F8F8F8; stroke-width: 1.5;\" width=\"132\" x=\"214.125\" y=\"92.0361\"/><rect fill=\"none\" height=\"81.72\" id=\"E3\" rx=\"10\" ry=\"10\" style=\"stroke: #383838; stroke-width: 1.5;\" width=\"132\" x=\"214.125\" y=\"64.0986\"/><text fill=\"#000000\" font-family=\"sans-serif\" font-size=\"12\" font-style=\"italic\" lengthAdjust=\"spacingAndGlyphs\" textLength=\"82\" x=\"239.125\" y=\"80.2373\">«calculation»</text><text fill=\"#000000\" font-family=\"sans-serif\" font-size=\"12\" lengthAdjust=\"spacingAndGlyphs\" textLength=\"110\" x=\"225.125\" y=\"94.2061\">objectiveFunction</text><line style=\"stroke: #383838; stroke-width: 1.0;\" x1=\"214.125\" x2=\"346.125\" y1=\"102.0361\" y2=\"102.0361\"/></a><text fill=\"#000000\" font-family=\"sans-serif\" font-size=\"14\" lengthAdjust=\"spacingAndGlyphs\" textLength=\"118\" x=\"6\" y=\"20.7969\">studyAlternatives</text><rect fill=\"#383838\" height=\"12\" style=\"stroke: #F8F8F8; stroke-width: 1.5;\" width=\"12\" x=\"59\" y=\"36.0986\"/><text fill=\"#000000\" font-family=\"sans-serif\" font-size=\"14\" lengthAdjust=\"spacingAndGlyphs\" textLength=\"132\" x=\"290\" y=\"164.8138\">selectedAlternative</text><rect fill=\"#383838\" height=\"12\" style=\"stroke: #F8F8F8; stroke-width: 1.5;\" width=\"12\" x=\"350\" y=\"139.8186\"/><text fill=\"#000000\" font-family=\"sans-serif\" font-size=\"14\" lengthAdjust=\"spacingAndGlyphs\" textLength=\"39\" x=\"215.5\" y=\"164.8138\">result</text><rect fill=\"#383838\" height=\"12\" style=\"stroke: #F8F8F8; stroke-width: 1.5;\" width=\"12\" x=\"229\" y=\"139.8186\"/><!--MD5=[741b9a4433c6d31a2ae7d73dd6beee4a]\n",
       "@startuml\r\n",
       "skinparam ranksep 8\r\n",
       " skinparam monochrome true\r\n",
       "skinparam classbackgroundcolor white\r\n",
       "skinparam shadowing false\r\n",
       "skinparam wrapWidth 300\r\n",
       "hide circle\r\n",
       "\r\n",
       "rec usage \"engineTradeStudy\" as E1 << analysis>> [[psysml:4b9a9840-0888-40ad-997b-4be591991c45 ]] {\r\n",
       "portin \"studyAlternatives\" as E2  [[psysml:176bf709-9374-41f7-af5d-a9b046d4ad5e ]] \r\n",
       "rec usage \"objectiveFunction\" as E3  <<(T,blue) calculation>> [[psysml:0d158b00-d202-4b1f-90aa-9fc427f4eb2b ]] {\r\n",
       "portout \"result\" as E4  [[psysml:5b5a7b7b-7538-4fc2-96bb-574f08f8230e ]] \r\n",
       "}\r\n",
       "\r\n",
       "portout \"selectedAlternative\" as E5  [[psysml:d0667918-a428-4729-9680-50da29281cd4 ]] \r\n",
       "}\r\n",
       "\r\n",
       "@enduml\r\n",
       "\n",
       "PlantUML version 1.2020.13(Sat Jun 13 12:26:38 UTC 2020)\n",
       "(EPL source distribution)\n",
       "Java Runtime: OpenJDK Runtime Environment\n",
       "JVM: OpenJDK 64-Bit Server VM\n",
       "Default Encoding: UTF-8\n",
       "Language: en\n",
       "Country: null\n",
       "--></g></svg>"
      ]
     },
     "execution_count": 6,
     "metadata": {},
     "output_type": "execute_result"
    }
   ],
   "source": [
    "%viz --style=\"COMPTREE\" --view=\"Action\" \"TradeStudyTest\""
   ]
  },
  {
   "cell_type": "code",
   "execution_count": 7,
   "id": "3af48cfa",
   "metadata": {
    "execution": {
     "iopub.execute_input": "2021-10-03T08:30:36.190510Z",
     "iopub.status.busy": "2021-10-03T08:30:36.190099Z",
     "iopub.status.idle": "2021-10-03T08:30:36.203082Z",
     "shell.execute_reply": "2021-10-03T08:30:36.203402Z"
    }
   },
   "outputs": [
    {
     "data": {
      "image/svg+xml": [
       "<?xml version=\"1.0\" encoding=\"UTF-8\" standalone=\"no\"?><svg xmlns=\"http://www.w3.org/2000/svg\" xmlns:xlink=\"http://www.w3.org/1999/xlink\" contentScriptType=\"application/ecmascript\" contentStyleType=\"text/css\" height=\"12px\" preserveAspectRatio=\"none\" style=\"width:12px;height:12px;\" version=\"1.1\" viewBox=\"0 0 12 12\" width=\"12px\" zoomAndPan=\"magnify\"><defs/><g><!--MD5=[803fc46c337be7a5c8a9831e35356779]\n",
       "@startuml\r\n",
       "skinparam roundcorner 20\r\n",
       "skinparam BoxPadding 20\r\n",
       "skinparam SequenceBoxBackgroundColor #white\r\n",
       "skinparam style strictuml\r\n",
       "skinparam maxMessageSize 100\r\n",
       " skinparam monochrome true\r\n",
       "skinparam classbackgroundcolor white\r\n",
       "skinparam shadowing false\r\n",
       "skinparam wrapWidth 300\r\n",
       "hide circle\r\n",
       "\r\n",
       "@enduml\r\n",
       "\n",
       "PlantUML version 1.2020.13(Sat Jun 13 12:26:38 UTC 2020)\n",
       "(EPL source distribution)\n",
       "Java Runtime: OpenJDK Runtime Environment\n",
       "JVM: OpenJDK 64-Bit Server VM\n",
       "Default Encoding: UTF-8\n",
       "Language: en\n",
       "Country: null\n",
       "--></g></svg>"
      ]
     },
     "execution_count": 7,
     "metadata": {},
     "output_type": "execute_result"
    }
   ],
   "source": [
    "%viz --style=\"COMPTREE\" --view=\"Sequence\" \"TradeStudyTest\""
   ]
  },
  {
   "cell_type": "code",
   "execution_count": 8,
   "id": "9b3ff671",
   "metadata": {
    "execution": {
     "iopub.execute_input": "2021-10-03T08:30:36.253087Z",
     "iopub.status.busy": "2021-10-03T08:30:36.252676Z",
     "iopub.status.idle": "2021-10-03T08:30:36.329353Z",
     "shell.execute_reply": "2021-10-03T08:30:36.328983Z"
    }
   },
   "outputs": [
    {
     "data": {
      "image/svg+xml": [
       "<?xml version=\"1.0\" encoding=\"UTF-8\" standalone=\"no\"?><svg xmlns=\"http://www.w3.org/2000/svg\" xmlns:xlink=\"http://www.w3.org/1999/xlink\" contentScriptType=\"application/ecmascript\" contentStyleType=\"text/css\" height=\"497px\" preserveAspectRatio=\"none\" style=\"width:556px;height:497px;\" version=\"1.1\" viewBox=\"0 0 556 497\" width=\"556px\" zoomAndPan=\"magnify\"><defs/><g><!--MD5=[fbc87193dbaf4d95561dea2c320d4a47]\n",
       "cluster E1--><a href=\"psysml:ee7e22b2-7ed6-4f2c-8628-ec59eb221ec4\" target=\"_top\" title=\"psysml:ee7e22b2-7ed6-4f2c-8628-ec59eb221ec4\" xlink:actuate=\"onRequest\" xlink:href=\"psysml:ee7e22b2-7ed6-4f2c-8628-ec59eb221ec4\" xlink:show=\"new\" xlink:title=\"psysml:ee7e22b2-7ed6-4f2c-8628-ec59eb221ec4\" xlink:type=\"simple\"><polygon fill=\"#FFFFFF\" points=\"18.32,6,134.32,6,141.32,28.2969,534.32,28.2969,534.32,485,18.32,485,18.32,6\" style=\"stroke: #000000; stroke-width: 1.5;\"/><line style=\"stroke: #000000; stroke-width: 1.5;\" x1=\"18.32\" x2=\"141.32\" y1=\"28.2969\" y2=\"28.2969\"/><text fill=\"#000000\" font-family=\"sans-serif\" font-size=\"14\" font-weight=\"bold\" lengthAdjust=\"spacingAndGlyphs\" textLength=\"110\" x=\"22.32\" y=\"20.9951\">TradeStudyTest</text></a><!--MD5=[b4997ac47864f28c2f74865a473b2911]\n",
       "class E2--><a href=\"psysml:6dc2e48d-4c08-4400-bc60-82a531af2780\" target=\"_top\" title=\"psysml:6dc2e48d-4c08-4400-bc60-82a531af2780\" xlink:actuate=\"onRequest\" xlink:href=\"psysml:6dc2e48d-4c08-4400-bc60-82a531af2780\" xlink:show=\"new\" xlink:title=\"psysml:6dc2e48d-4c08-4400-bc60-82a531af2780\" xlink:type=\"simple\"><rect fill=\"#FFFFFF\" height=\"45.9375\" id=\"E2\" style=\"stroke: #383838; stroke-width: 1.5;\" width=\"66\" x=\"198.32\" y=\"423\"/><text fill=\"#000000\" font-family=\"sans-serif\" font-size=\"12\" font-style=\"italic\" lengthAdjust=\"spacingAndGlyphs\" textLength=\"64\" x=\"199.32\" y=\"439.1387\">«part def»</text><text fill=\"#000000\" font-family=\"sans-serif\" font-size=\"12\" lengthAdjust=\"spacingAndGlyphs\" textLength=\"43\" x=\"209.82\" y=\"453.1074\">Engine</text><line style=\"stroke: #383838; stroke-width: 1.5;\" x1=\"199.32\" x2=\"263.32\" y1=\"460.9375\" y2=\"460.9375\"/></a><!--MD5=[09b614a08d8cba4a07c9adeb5e0fee81]\n",
       "class E3--><a href=\"psysml:3defd9be-3b5d-4c6d-8f79-df776db84250\" target=\"_top\" title=\"psysml:3defd9be-3b5d-4c6d-8f79-df776db84250\" xlink:actuate=\"onRequest\" xlink:href=\"psysml:3defd9be-3b5d-4c6d-8f79-df776db84250\" xlink:show=\"new\" xlink:title=\"psysml:3defd9be-3b5d-4c6d-8f79-df776db84250\" xlink:type=\"simple\"><rect fill=\"#FFFFFF\" height=\"45.9375\" id=\"E3\" rx=\"10\" ry=\"10\" style=\"stroke: #383838; stroke-width: 1.5;\" width=\"108\" x=\"410.32\" y=\"316\"/><text fill=\"#000000\" font-family=\"sans-serif\" font-size=\"12\" font-style=\"italic\" lengthAdjust=\"spacingAndGlyphs\" textLength=\"40\" x=\"444.32\" y=\"332.1387\">«part»</text><text fill=\"#000000\" font-family=\"sans-serif\" font-size=\"12\" lengthAdjust=\"spacingAndGlyphs\" textLength=\"102\" x=\"413.32\" y=\"346.1074\">engine1: Engine</text><line style=\"stroke: #383838; stroke-width: 1.5;\" x1=\"411.32\" x2=\"517.32\" y1=\"353.9375\" y2=\"353.9375\"/></a><!--MD5=[ebbe1d658d1005bcc118a6aa81145e00]\n",
       "class E4--><a href=\"psysml:3a9a647b-2fd2-49b6-8a5f-7ce1649088e0\" target=\"_top\" title=\"psysml:3a9a647b-2fd2-49b6-8a5f-7ce1649088e0\" xlink:actuate=\"onRequest\" xlink:href=\"psysml:3a9a647b-2fd2-49b6-8a5f-7ce1649088e0\" xlink:show=\"new\" xlink:title=\"psysml:3a9a647b-2fd2-49b6-8a5f-7ce1649088e0\" xlink:type=\"simple\"><rect fill=\"#FFFFFF\" height=\"45.9375\" id=\"E4\" rx=\"10\" ry=\"10\" style=\"stroke: #383838; stroke-width: 1.5;\" width=\"108\" x=\"267.32\" y=\"316\"/><text fill=\"#000000\" font-family=\"sans-serif\" font-size=\"12\" font-style=\"italic\" lengthAdjust=\"spacingAndGlyphs\" textLength=\"40\" x=\"301.32\" y=\"332.1387\">«part»</text><text fill=\"#000000\" font-family=\"sans-serif\" font-size=\"12\" lengthAdjust=\"spacingAndGlyphs\" textLength=\"102\" x=\"270.32\" y=\"346.1074\">engine2: Engine</text><line style=\"stroke: #383838; stroke-width: 1.5;\" x1=\"268.32\" x2=\"374.32\" y1=\"353.9375\" y2=\"353.9375\"/></a><!--MD5=[270fce915f116d4de14055a7c1d9a0f3]\n",
       "class E5--><a href=\"psysml:4b9a9840-0888-40ad-997b-4be591991c45\" target=\"_top\" title=\"psysml:4b9a9840-0888-40ad-997b-4be591991c45\" xlink:actuate=\"onRequest\" xlink:href=\"psysml:4b9a9840-0888-40ad-997b-4be591991c45\" xlink:show=\"new\" xlink:title=\"psysml:4b9a9840-0888-40ad-997b-4be591991c45\" xlink:type=\"simple\"><rect fill=\"#FFFFFF\" height=\"45.9375\" id=\"E5\" rx=\"10\" ry=\"10\" style=\"stroke: #383838; stroke-width: 1.5;\" width=\"199\" x=\"239.82\" y=\"41\"/><text fill=\"#000000\" font-family=\"sans-serif\" font-size=\"12\" font-style=\"italic\" lengthAdjust=\"spacingAndGlyphs\" textLength=\"64\" x=\"307.32\" y=\"57.1387\">«analysis»</text><text fill=\"#000000\" font-family=\"sans-serif\" font-size=\"12\" lengthAdjust=\"spacingAndGlyphs\" textLength=\"193\" x=\"242.82\" y=\"71.1074\">engineTradeStudy: TradeStudy</text><line style=\"stroke: #383838; stroke-width: 1.5;\" x1=\"240.82\" x2=\"437.82\" y1=\"78.9375\" y2=\"78.9375\"/></a><!--MD5=[60a26617385b1d2d0262a64233df1f8d]\n",
       "class E6--><a href=\"psysml:6d56d509-a272-42e3-905c-0e1bbd246da0\" target=\"_top\" title=\"psysml:6d56d509-a272-42e3-905c-0e1bbd246da0\" xlink:actuate=\"onRequest\" xlink:href=\"psysml:6d56d509-a272-42e3-905c-0e1bbd246da0\" xlink:show=\"new\" xlink:title=\"psysml:6d56d509-a272-42e3-905c-0e1bbd246da0\" xlink:type=\"simple\"><rect fill=\"#FFFFFF\" height=\"45.9375\" id=\"E6\" rx=\"10\" ry=\"10\" style=\"stroke: #383838; stroke-width: 1.5;\" width=\"251\" x=\"78.82\" y=\"164\"/><text fill=\"#000000\" font-family=\"sans-serif\" font-size=\"12\" font-style=\"italic\" lengthAdjust=\"spacingAndGlyphs\" textLength=\"91\" x=\"158.82\" y=\"180.1387\">«requirement»</text><text fill=\"#000000\" font-family=\"sans-serif\" font-size=\"12\" lengthAdjust=\"spacingAndGlyphs\" textLength=\"245\" x=\"81.82\" y=\"194.1074\">tradeStudyObjective: MaximizeObjective</text><line style=\"stroke: #383838; stroke-width: 1.5;\" x1=\"79.82\" x2=\"328.82\" y1=\"201.9375\" y2=\"201.9375\"/></a><!--MD5=[2156ba9850f5573cc1fc38a6a4b2f02b]\n",
       "class E7--><a href=\"psysml:0d158b00-d202-4b1f-90aa-9fc427f4eb2b\" target=\"_top\" title=\"psysml:0d158b00-d202-4b1f-90aa-9fc427f4eb2b\" xlink:actuate=\"onRequest\" xlink:href=\"psysml:0d158b00-d202-4b1f-90aa-9fc427f4eb2b\" xlink:show=\"new\" xlink:title=\"psysml:0d158b00-d202-4b1f-90aa-9fc427f4eb2b\" xlink:type=\"simple\"><rect fill=\"#FFFFFF\" height=\"45.9375\" id=\"E7\" rx=\"10\" ry=\"10\" style=\"stroke: #383838; stroke-width: 1.5;\" width=\"116\" x=\"365.32\" y=\"164\"/><text fill=\"#000000\" font-family=\"sans-serif\" font-size=\"12\" font-style=\"italic\" lengthAdjust=\"spacingAndGlyphs\" textLength=\"82\" x=\"382.32\" y=\"180.1387\">«calculation»</text><text fill=\"#000000\" font-family=\"sans-serif\" font-size=\"12\" lengthAdjust=\"spacingAndGlyphs\" textLength=\"110\" x=\"368.32\" y=\"194.1074\">objectiveFunction</text><line style=\"stroke: #383838; stroke-width: 1.5;\" x1=\"366.32\" x2=\"480.32\" y1=\"201.9375\" y2=\"201.9375\"/></a><!--MD5=[b9389687b975829384b498ac4b7476b2]\n",
       "class E8--><a href=\"psysml:e8d66f1b-2710-4767-99ee-f2812ccd7696\" target=\"_top\" title=\"psysml:e8d66f1b-2710-4767-99ee-f2812ccd7696\" xlink:actuate=\"onRequest\" xlink:href=\"psysml:e8d66f1b-2710-4767-99ee-f2812ccd7696\" xlink:show=\"new\" xlink:title=\"psysml:e8d66f1b-2710-4767-99ee-f2812ccd7696\" xlink:type=\"simple\"><rect fill=\"#FFFFFF\" height=\"45.9375\" id=\"E8\" rx=\"10\" ry=\"10\" style=\"stroke: #383838; stroke-width: 1.5;\" width=\"124\" x=\"71.32\" y=\"316\"/><text fill=\"#000000\" font-family=\"sans-serif\" font-size=\"12\" font-style=\"italic\" lengthAdjust=\"spacingAndGlyphs\" textLength=\"40\" x=\"113.32\" y=\"332.1387\">«part»</text><text fill=\"#000000\" font-family=\"sans-serif\" font-size=\"12\" lengthAdjust=\"spacingAndGlyphs\" textLength=\"118\" x=\"74.32\" y=\"346.1074\">alternative: Engine</text><line style=\"stroke: #383838; stroke-width: 1.5;\" x1=\"72.32\" x2=\"194.32\" y1=\"353.9375\" y2=\"353.9375\"/></a><!--MD5=[fd4143e9d270a159db93a4ea2a975926]\n",
       "class E9--><a href=\"psysml:d0667918-a428-4729-9680-50da29281cd4\" target=\"_top\" title=\"psysml:d0667918-a428-4729-9680-50da29281cd4\" xlink:actuate=\"onRequest\" xlink:href=\"psysml:d0667918-a428-4729-9680-50da29281cd4\" xlink:show=\"new\" xlink:title=\"psysml:d0667918-a428-4729-9680-50da29281cd4\" xlink:type=\"simple\"><rect fill=\"#FFFFFF\" height=\"45.9375\" id=\"E9\" rx=\"10\" ry=\"10\" style=\"stroke: #383838; stroke-width: 1.5;\" width=\"178\" x=\"291.32\" y=\"240\"/><text fill=\"#000000\" font-family=\"sans-serif\" font-size=\"12\" font-style=\"italic\" lengthAdjust=\"spacingAndGlyphs\" textLength=\"40\" x=\"360.32\" y=\"256.1387\">«part»</text><text fill=\"#000000\" font-family=\"sans-serif\" font-size=\"12\" lengthAdjust=\"spacingAndGlyphs\" textLength=\"172\" x=\"294.32\" y=\"270.1074\">selectedAlternative: Engine</text><line style=\"stroke: #383838; stroke-width: 1.5;\" x1=\"292.32\" x2=\"468.32\" y1=\"277.9375\" y2=\"277.9375\"/></a><!--MD5=[05d275557350bfb9b23a4ef7222b4c39]\n",
       "link E3 to E2--><a href=\"psysml:2c927883-7b33-4f30-b07f-44dca6adebf7\" target=\"_top\" title=\"psysml:2c927883-7b33-4f30-b07f-44dca6adebf7\" xlink:actuate=\"onRequest\" xlink:href=\"psysml:2c927883-7b33-4f30-b07f-44dca6adebf7\" xlink:show=\"new\" xlink:title=\"psysml:2c927883-7b33-4f30-b07f-44dca6adebf7\" xlink:type=\"simple\"><path d=\"M415.48,362.01 C376.57,379.54 322.27,404.01 282.71,421.84 \" fill=\"none\" id=\"E3-&gt;E2\" style=\"stroke: #383838; stroke-width: 1.0;\"/><polygon fill=\"#FFFFFF\" points=\"264.34,430.12,278.7866,415.9321,284.5383,428.696,264.34,430.12\" style=\"stroke: #383838; stroke-width: 1.0;\"/><ellipse cx=\"284.805\" cy=\"415.4137\" fill=\"#383838\" rx=\"2\" ry=\"2\" style=\"stroke: #383838; stroke-width: 1.0;\"/><ellipse cx=\"288.9134\" cy=\"424.5308\" fill=\"#383838\" rx=\"2\" ry=\"2\" style=\"stroke: #383838; stroke-width: 1.0;\"/></a><!--MD5=[185131fc0dcab0a4505a2ebe144e961b]\n",
       "link E4 to E2--><a href=\"psysml:59e46c20-b41c-4b83-8c8c-eff5ad41f1d7\" target=\"_top\" title=\"psysml:59e46c20-b41c-4b83-8c8c-eff5ad41f1d7\" xlink:actuate=\"onRequest\" xlink:href=\"psysml:59e46c20-b41c-4b83-8c8c-eff5ad41f1d7\" xlink:show=\"new\" xlink:title=\"psysml:59e46c20-b41c-4b83-8c8c-eff5ad41f1d7\" xlink:type=\"simple\"><path d=\"M302.45,362.01 C291.25,375.08 276.74,392.01 263.74,407.17 \" fill=\"none\" id=\"E4-&gt;E2\" style=\"stroke: #383838; stroke-width: 1.0;\"/><polygon fill=\"#FFFFFF\" points=\"250.47,422.66,257.5188,403.678,268.1491,412.7883,250.47,422.66\" style=\"stroke: #383838; stroke-width: 1.0;\"/><ellipse cx=\"262.7466\" cy=\"400.6515\" fill=\"#383838\" rx=\"2\" ry=\"2\" style=\"stroke: #383838; stroke-width: 1.0;\"/><ellipse cx=\"270.3396\" cy=\"407.1588\" fill=\"#383838\" rx=\"2\" ry=\"2\" style=\"stroke: #383838; stroke-width: 1.0;\"/></a><!--MD5=[15ebcb19ae302d9b601edb458606d402]\n",
       "link E5 to E2--><a href=\"psysml:d5cbdaa6-c586-4ab8-b2f7-038eda38592d\" target=\"_top\" title=\"psysml:d5cbdaa6-c586-4ab8-b2f7-038eda38592d\" xlink:actuate=\"onRequest\" xlink:href=\"psysml:d5cbdaa6-c586-4ab8-b2f7-038eda38592d\" xlink:show=\"new\" xlink:title=\"psysml:d5cbdaa6-c586-4ab8-b2f7-038eda38592d\" xlink:type=\"simple\"><path d=\"M239.76,73.22 C177.99,83.96 102.74,108.45 61.32,164 C8.68,234.61 6,287.72 53.32,362 C83.95,410.08 150.5,430.76 192.99,439.32 \" fill=\"none\" id=\"E5-&gt;E2\" style=\"stroke: #383838; stroke-width: 1.0; stroke-dasharray: 7.0,7.0;\"/><polygon fill=\"#383838\" points=\"198.04,440.31,189.9738,434.6588,193.1327,439.3514,188.4401,442.5104,198.04,440.31\" style=\"stroke: #383838; stroke-width: 1.0;\"/><text fill=\"#000000\" font-family=\"sans-serif\" font-size=\"13\" lengthAdjust=\"spacingAndGlyphs\" textLength=\"62\" x=\"24.32\" y=\"267.5669\">«subject»</text></a><!--MD5=[9120cf2e5df3bff93db8f754bbbc09b4]\n",
       "link E5 to E6--><a href=\"psysml:14d02f99-86ef-419d-b64f-b983855c21b7\" target=\"_top\" title=\"psysml:14d02f99-86ef-419d-b64f-b983855c21b7\" xlink:actuate=\"onRequest\" xlink:href=\"psysml:14d02f99-86ef-419d-b64f-b983855c21b7\" xlink:show=\"new\" xlink:title=\"psysml:14d02f99-86ef-419d-b64f-b983855c21b7\" xlink:type=\"simple\"><path d=\"M314.56,87.19 C292.2,107.23 259.21,136.8 235.15,158.37 \" fill=\"none\" id=\"E5-&gt;E6\" style=\"stroke: #383838; stroke-width: 1.0;\"/><polygon fill=\"#383838\" points=\"228.92,163.95,236.8786,160.8419,232.8725,156.3752,228.92,163.95\" style=\"stroke: #383838; stroke-width: 1.0;\"/><text fill=\"#000000\" font-family=\"sans-serif\" font-size=\"13\" lengthAdjust=\"spacingAndGlyphs\" textLength=\"73\" x=\"280.32\" y=\"130.0669\">«objective»</text></a><!--MD5=[452b418e7f8a40397a49b8c0a78acc5b]\n",
       "reverse link E5 to E7--><a href=\"psysml:60238b1f-3640-4bef-bde7-54f879504707\" target=\"_top\" title=\"psysml:60238b1f-3640-4bef-bde7-54f879504707\" xlink:actuate=\"onRequest\" xlink:href=\"psysml:60238b1f-3640-4bef-bde7-54f879504707\" xlink:show=\"new\" xlink:title=\"psysml:60238b1f-3640-4bef-bde7-54f879504707\" xlink:type=\"simple\"><path d=\"M362.14,97.88 C376.71,118.86 395.19,145.48 408.01,163.95 \" fill=\"none\" id=\"E5&lt;-E7\" style=\"stroke: #383838; stroke-width: 1.0;\"/><polygon fill=\"#383838\" points=\"354.73,87.19,354.864,94.3999,361.5708,97.0492,361.4368,89.8393,354.73,87.19\" style=\"stroke: #383838; stroke-width: 1.0;\"/></a><!--MD5=[dc164f5e8a733ab456ef1add180e9e34]\n",
       "reverse link E7 to E8--><a href=\"psysml:83c02207-4172-44b5-b5b3-edd55ab7c0db\" target=\"_top\" title=\"psysml:83c02207-4172-44b5-b5b3-edd55ab7c0db\" xlink:actuate=\"onRequest\" xlink:href=\"psysml:83c02207-4172-44b5-b5b3-edd55ab7c0db\" xlink:show=\"new\" xlink:title=\"psysml:83c02207-4172-44b5-b5b3-edd55ab7c0db\" xlink:type=\"simple\"><path d=\"M352.67,208.29 C327.33,216.69 298.96,227.44 274.32,240 C231.96,261.6 187.65,294.33 160.26,315.93 \" fill=\"none\" id=\"E7&lt;-E8\" style=\"stroke: #383838; stroke-width: 1.0;\"/><polygon fill=\"#FFFFFF\" points=\"365.22,204.24,358.2818,202.2749,353.7994,207.9236,360.7376,209.8887,365.22,204.24\" style=\"stroke: #383838; stroke-width: 1.0;\"/><text fill=\"#000000\" font-family=\"sans-serif\" font-size=\"13\" lengthAdjust=\"spacingAndGlyphs\" textLength=\"8\" x=\"158.4251\" y=\"304.8075\">1</text></a><!--MD5=[f1f3f9f2fc535e6147756cb86a7f2e32]\n",
       "link E8 to E2--><a href=\"psysml:3fd357fc-9742-4e4a-b08f-00e5f8b92b2e\" target=\"_top\" title=\"psysml:3fd357fc-9742-4e4a-b08f-00e5f8b92b2e\" xlink:actuate=\"onRequest\" xlink:href=\"psysml:3fd357fc-9742-4e4a-b08f-00e5f8b92b2e\" xlink:show=\"new\" xlink:title=\"psysml:3fd357fc-9742-4e4a-b08f-00e5f8b92b2e\" xlink:type=\"simple\"><path d=\"M153.86,362.01 C166.19,375.22 182.2,392.38 196.46,407.65 \" fill=\"none\" id=\"E8-&gt;E2\" style=\"stroke: #383838; stroke-width: 1.0;\"/><polygon fill=\"#FFFFFF\" points=\"210.47,422.66,192.3921,413.5393,202.6305,403.9907,210.47,422.66\" style=\"stroke: #383838; stroke-width: 1.0;\"/><ellipse cx=\"189.9671\" cy=\"408.0067\" fill=\"#383838\" rx=\"2\" ry=\"2\" style=\"stroke: #383838; stroke-width: 1.0;\"/><ellipse cx=\"197.2802\" cy=\"401.1863\" fill=\"#383838\" rx=\"2\" ry=\"2\" style=\"stroke: #383838; stroke-width: 1.0;\"/></a><!--MD5=[9ae28de373ca99bb8a1b38d63370ca7e]\n",
       "reverse link E5 to E9--><a href=\"psysml:44393528-ee32-422a-b73c-7e5d578e1b67\" target=\"_top\" title=\"psysml:44393528-ee32-422a-b73c-7e5d578e1b67\" xlink:actuate=\"onRequest\" xlink:href=\"psysml:44393528-ee32-422a-b73c-7e5d578e1b67\" xlink:show=\"new\" xlink:title=\"psysml:44393528-ee32-422a-b73c-7e5d578e1b67\" xlink:type=\"simple\"><path d=\"M416.08,92.77 C447.78,108.48 481.27,131.61 499.32,164 C509.27,181.86 510.51,192.89 499.32,210 C490.86,222.92 478.41,232.65 464.71,239.97 \" fill=\"none\" id=\"E5&lt;-E9\" style=\"stroke: #383838; stroke-width: 1.0;\"/><polygon fill=\"#FFFFFF\" points=\"404.06,87.11,407.7814,93.2867,414.9142,92.2272,411.1928,86.0505,404.06,87.11\" style=\"stroke: #383838; stroke-width: 1.0;\"/><text fill=\"#000000\" font-family=\"sans-serif\" font-size=\"13\" lengthAdjust=\"spacingAndGlyphs\" textLength=\"8\" x=\"477.3099\" y=\"229.2386\">1</text></a><!--MD5=[5c3bb36fe832a92c7f0e1807dd65209d]\n",
       "link E9 to E2--><a href=\"psysml:fe7d5224-67e7-4f42-a679-f87e330c9f80\" target=\"_top\" title=\"psysml:fe7d5224-67e7-4f42-a679-f87e330c9f80\" xlink:actuate=\"onRequest\" xlink:href=\"psysml:fe7d5224-67e7-4f42-a679-f87e330c9f80\" xlink:show=\"new\" xlink:title=\"psysml:fe7d5224-67e7-4f42-a679-f87e330c9f80\" xlink:type=\"simple\"><path d=\"M291.19,285.15 C275.57,292.56 260.94,302.55 250.32,316 C231.17,340.25 227.04,375.32 227.36,402.77 \" fill=\"none\" id=\"E9-&gt;E2\" style=\"stroke: #383838; stroke-width: 1.0;\"/><polygon fill=\"#FFFFFF\" points=\"228.36,422.81,220.4186,404.1838,234.4011,403.4837,228.36,422.81\" style=\"stroke: #383838; stroke-width: 1.0;\"/><ellipse cx=\"222.131\" cy=\"398.3909\" fill=\"#383838\" rx=\"2\" ry=\"2\" style=\"stroke: #383838; stroke-width: 1.0;\"/><ellipse cx=\"232.1185\" cy=\"397.8909\" fill=\"#383838\" rx=\"2\" ry=\"2\" style=\"stroke: #383838; stroke-width: 1.0;\"/></a><!--MD5=[b6e6002d371559cd42698c03a53c9f7e]\n",
       "@startuml\r\n",
       " skinparam monochrome true\r\n",
       "skinparam classbackgroundcolor white\r\n",
       "skinparam shadowing false\r\n",
       "skinparam wrapWidth 300\r\n",
       "hide circle\r\n",
       "\r\n",
       "package \"TradeStudyTest\" as E1  [[psysml:ee7e22b2-7ed6-4f2c-8628-ec59eb221ec4 ]]  {\r\n",
       "comp def \"Engine\" as E2  <<(T,blue) part def>> [[psysml:6dc2e48d-4c08-4400-bc60-82a531af2780 ]] {\r\n",
       "}\r\n",
       "comp usage \"engine1: Engine\" as E3  <<(T,blue) part>> [[psysml:3defd9be-3b5d-4c6d-8f79-df776db84250 ]] {\r\n",
       "}\r\n",
       "comp usage \"engine2: Engine\" as E4  <<(T,blue) part>> [[psysml:3a9a647b-2fd2-49b6-8a5f-7ce1649088e0 ]] {\r\n",
       "}\r\n",
       "comp usage \"engineTradeStudy: TradeStudy\" as E5 << analysis>> [[psysml:4b9a9840-0888-40ad-997b-4be591991c45 ]] {\r\n",
       "}\r\n",
       "comp usage \"tradeStudyObjective: MaximizeObjective\" as E6  <<(T,blue) requirement>> [[psysml:6d56d509-a272-42e3-905c-0e1bbd246da0 ]] {\r\n",
       "}\r\n",
       "comp usage \"objectiveFunction\" as E7  <<(T,blue) calculation>> [[psysml:0d158b00-d202-4b1f-90aa-9fc427f4eb2b ]] {\r\n",
       "}\r\n",
       "comp usage \"alternative: Engine\" as E8  <<(T,blue) part>> [[psysml:e8d66f1b-2710-4767-99ee-f2812ccd7696 ]] {\r\n",
       "}\r\n",
       "comp usage \"selectedAlternative: Engine\" as E9  <<(T,blue) part>> [[psysml:d0667918-a428-4729-9680-50da29281cd4 ]] {\r\n",
       "}\r\n",
       "}\r\n",
       "E3 - -:|> E2 [[psysml:2c927883-7b33-4f30-b07f-44dca6adebf7 ]] \r\n",
       "E4 - -:|> E2 [[psysml:59e46c20-b41c-4b83-8c8c-eff5ad41f1d7 ]] \r\n",
       "E5 ..> E2 [[psysml:d5cbdaa6-c586-4ab8-b2f7-038eda38592d ]] : <<subject>>\r\n",
       "E5 - ->> E6 [[psysml:14d02f99-86ef-419d-b64f-b983855c21b7 ]] : <<objective>>\r\n",
       "E5 *- - E7 [[psysml:60238b1f-3640-4bef-bde7-54f879504707 ]] \r\n",
       "E7 o- - \"1\"E8 [[psysml:83c02207-4172-44b5-b5b3-edd55ab7c0db ]] \r\n",
       "E8 - -:|> E2 [[psysml:3fd357fc-9742-4e4a-b08f-00e5f8b92b2e ]] \r\n",
       "E5 o- - \"1\"E9 [[psysml:44393528-ee32-422a-b73c-7e5d578e1b67 ]] \r\n",
       "E9 - -:|> E2 [[psysml:fe7d5224-67e7-4f42-a679-f87e330c9f80 ]] \r\n",
       "@enduml\r\n",
       "\n",
       "PlantUML version 1.2020.13(Sat Jun 13 12:26:38 UTC 2020)\n",
       "(EPL source distribution)\n",
       "Java Runtime: OpenJDK Runtime Environment\n",
       "JVM: OpenJDK 64-Bit Server VM\n",
       "Default Encoding: UTF-8\n",
       "Language: en\n",
       "Country: null\n",
       "--></g></svg>"
      ]
     },
     "execution_count": 8,
     "metadata": {},
     "output_type": "execute_result"
    }
   ],
   "source": [
    "%viz --style=\"COMPTREE\" --view=\"MIXED\" \"TradeStudyTest\""
   ]
  },
  {
   "cell_type": "code",
   "execution_count": 9,
   "id": "fc0d4e67",
   "metadata": {
    "execution": {
     "iopub.execute_input": "2021-10-03T08:30:36.378180Z",
     "iopub.status.busy": "2021-10-03T08:30:36.377878Z",
     "iopub.status.idle": "2021-10-03T08:30:36.436050Z",
     "shell.execute_reply": "2021-10-03T08:30:36.434704Z"
    }
   },
   "outputs": [
    {
     "data": {
      "image/svg+xml": [
       "<?xml version=\"1.0\" encoding=\"UTF-8\" standalone=\"no\"?><svg xmlns=\"http://www.w3.org/2000/svg\" xmlns:xlink=\"http://www.w3.org/1999/xlink\" contentScriptType=\"application/ecmascript\" contentStyleType=\"text/css\" height=\"497px\" preserveAspectRatio=\"none\" style=\"width:554px;height:497px;\" version=\"1.1\" viewBox=\"0 0 554 497\" width=\"554px\" zoomAndPan=\"magnify\"><defs/><g><!--MD5=[fbc87193dbaf4d95561dea2c320d4a47]\n",
       "cluster E1--><a href=\"psysml:ee7e22b2-7ed6-4f2c-8628-ec59eb221ec4\" target=\"_top\" title=\"psysml:ee7e22b2-7ed6-4f2c-8628-ec59eb221ec4\" xlink:actuate=\"onRequest\" xlink:href=\"psysml:ee7e22b2-7ed6-4f2c-8628-ec59eb221ec4\" xlink:show=\"new\" xlink:title=\"psysml:ee7e22b2-7ed6-4f2c-8628-ec59eb221ec4\" xlink:type=\"simple\"><polygon fill=\"#FFFFFF\" points=\"16,6,132,6,139,28.2969,532,28.2969,532,485,16,485,16,6\" style=\"stroke: #000000; stroke-width: 1.5;\"/><line style=\"stroke: #000000; stroke-width: 1.5;\" x1=\"16\" x2=\"139\" y1=\"28.2969\" y2=\"28.2969\"/><text fill=\"#000000\" font-family=\"sans-serif\" font-size=\"14\" font-weight=\"bold\" lengthAdjust=\"spacingAndGlyphs\" textLength=\"110\" x=\"20\" y=\"20.9951\">TradeStudyTest</text></a><!--MD5=[b4997ac47864f28c2f74865a473b2911]\n",
       "class E2--><a href=\"psysml:6dc2e48d-4c08-4400-bc60-82a531af2780\" target=\"_top\" title=\"psysml:6dc2e48d-4c08-4400-bc60-82a531af2780\" xlink:actuate=\"onRequest\" xlink:href=\"psysml:6dc2e48d-4c08-4400-bc60-82a531af2780\" xlink:show=\"new\" xlink:title=\"psysml:6dc2e48d-4c08-4400-bc60-82a531af2780\" xlink:type=\"simple\"><rect fill=\"#FFFFFF\" height=\"45.9375\" id=\"E2\" style=\"stroke: #383838; stroke-width: 1.5;\" width=\"66\" x=\"196\" y=\"423\"/><text fill=\"#000000\" font-family=\"sans-serif\" font-size=\"12\" font-style=\"italic\" lengthAdjust=\"spacingAndGlyphs\" textLength=\"64\" x=\"197\" y=\"439.1387\">«part def»</text><text fill=\"#000000\" font-family=\"sans-serif\" font-size=\"12\" lengthAdjust=\"spacingAndGlyphs\" textLength=\"43\" x=\"207.5\" y=\"453.1074\">Engine</text><line style=\"stroke: #383838; stroke-width: 1.5;\" x1=\"197\" x2=\"261\" y1=\"460.9375\" y2=\"460.9375\"/></a><!--MD5=[09b614a08d8cba4a07c9adeb5e0fee81]\n",
       "class E3--><a href=\"psysml:3defd9be-3b5d-4c6d-8f79-df776db84250\" target=\"_top\" title=\"psysml:3defd9be-3b5d-4c6d-8f79-df776db84250\" xlink:actuate=\"onRequest\" xlink:href=\"psysml:3defd9be-3b5d-4c6d-8f79-df776db84250\" xlink:show=\"new\" xlink:title=\"psysml:3defd9be-3b5d-4c6d-8f79-df776db84250\" xlink:type=\"simple\"><rect fill=\"#FFFFFF\" height=\"45.9375\" id=\"E3\" rx=\"10\" ry=\"10\" style=\"stroke: #383838; stroke-width: 1.5;\" width=\"108\" x=\"408\" y=\"316\"/><text fill=\"#000000\" font-family=\"sans-serif\" font-size=\"12\" font-style=\"italic\" lengthAdjust=\"spacingAndGlyphs\" textLength=\"40\" x=\"442\" y=\"332.1387\">«part»</text><text fill=\"#000000\" font-family=\"sans-serif\" font-size=\"12\" lengthAdjust=\"spacingAndGlyphs\" textLength=\"102\" x=\"411\" y=\"346.1074\">engine1: Engine</text><line style=\"stroke: #383838; stroke-width: 1.5;\" x1=\"409\" x2=\"515\" y1=\"353.9375\" y2=\"353.9375\"/></a><!--MD5=[ebbe1d658d1005bcc118a6aa81145e00]\n",
       "class E4--><a href=\"psysml:3a9a647b-2fd2-49b6-8a5f-7ce1649088e0\" target=\"_top\" title=\"psysml:3a9a647b-2fd2-49b6-8a5f-7ce1649088e0\" xlink:actuate=\"onRequest\" xlink:href=\"psysml:3a9a647b-2fd2-49b6-8a5f-7ce1649088e0\" xlink:show=\"new\" xlink:title=\"psysml:3a9a647b-2fd2-49b6-8a5f-7ce1649088e0\" xlink:type=\"simple\"><rect fill=\"#FFFFFF\" height=\"45.9375\" id=\"E4\" rx=\"10\" ry=\"10\" style=\"stroke: #383838; stroke-width: 1.5;\" width=\"108\" x=\"265\" y=\"316\"/><text fill=\"#000000\" font-family=\"sans-serif\" font-size=\"12\" font-style=\"italic\" lengthAdjust=\"spacingAndGlyphs\" textLength=\"40\" x=\"299\" y=\"332.1387\">«part»</text><text fill=\"#000000\" font-family=\"sans-serif\" font-size=\"12\" lengthAdjust=\"spacingAndGlyphs\" textLength=\"102\" x=\"268\" y=\"346.1074\">engine2: Engine</text><line style=\"stroke: #383838; stroke-width: 1.5;\" x1=\"266\" x2=\"372\" y1=\"353.9375\" y2=\"353.9375\"/></a><!--MD5=[270fce915f116d4de14055a7c1d9a0f3]\n",
       "class E5--><a href=\"psysml:4b9a9840-0888-40ad-997b-4be591991c45\" target=\"_top\" title=\"psysml:4b9a9840-0888-40ad-997b-4be591991c45\" xlink:actuate=\"onRequest\" xlink:href=\"psysml:4b9a9840-0888-40ad-997b-4be591991c45\" xlink:show=\"new\" xlink:title=\"psysml:4b9a9840-0888-40ad-997b-4be591991c45\" xlink:type=\"simple\"><rect fill=\"#FFFFFF\" height=\"45.9375\" id=\"E5\" rx=\"10\" ry=\"10\" style=\"stroke: #383838; stroke-width: 1.5;\" width=\"199\" x=\"237.5\" y=\"41\"/><text fill=\"#000000\" font-family=\"sans-serif\" font-size=\"12\" font-style=\"italic\" lengthAdjust=\"spacingAndGlyphs\" textLength=\"64\" x=\"305\" y=\"57.1387\">«analysis»</text><text fill=\"#000000\" font-family=\"sans-serif\" font-size=\"12\" lengthAdjust=\"spacingAndGlyphs\" textLength=\"193\" x=\"240.5\" y=\"71.1074\">engineTradeStudy: TradeStudy</text><line style=\"stroke: #383838; stroke-width: 1.5;\" x1=\"238.5\" x2=\"435.5\" y1=\"78.9375\" y2=\"78.9375\"/></a><!--MD5=[60a26617385b1d2d0262a64233df1f8d]\n",
       "class E6--><a href=\"psysml:6d56d509-a272-42e3-905c-0e1bbd246da0\" target=\"_top\" title=\"psysml:6d56d509-a272-42e3-905c-0e1bbd246da0\" xlink:actuate=\"onRequest\" xlink:href=\"psysml:6d56d509-a272-42e3-905c-0e1bbd246da0\" xlink:show=\"new\" xlink:title=\"psysml:6d56d509-a272-42e3-905c-0e1bbd246da0\" xlink:type=\"simple\"><rect fill=\"#FFFFFF\" height=\"45.9375\" id=\"E6\" rx=\"10\" ry=\"10\" style=\"stroke: #383838; stroke-width: 1.5;\" width=\"251\" x=\"76.5\" y=\"164\"/><text fill=\"#000000\" font-family=\"sans-serif\" font-size=\"12\" font-style=\"italic\" lengthAdjust=\"spacingAndGlyphs\" textLength=\"91\" x=\"156.5\" y=\"180.1387\">«requirement»</text><text fill=\"#000000\" font-family=\"sans-serif\" font-size=\"12\" lengthAdjust=\"spacingAndGlyphs\" textLength=\"245\" x=\"79.5\" y=\"194.1074\">tradeStudyObjective: MaximizeObjective</text><line style=\"stroke: #383838; stroke-width: 1.5;\" x1=\"77.5\" x2=\"326.5\" y1=\"201.9375\" y2=\"201.9375\"/></a><!--MD5=[2156ba9850f5573cc1fc38a6a4b2f02b]\n",
       "class E7--><a href=\"psysml:0d158b00-d202-4b1f-90aa-9fc427f4eb2b\" target=\"_top\" title=\"psysml:0d158b00-d202-4b1f-90aa-9fc427f4eb2b\" xlink:actuate=\"onRequest\" xlink:href=\"psysml:0d158b00-d202-4b1f-90aa-9fc427f4eb2b\" xlink:show=\"new\" xlink:title=\"psysml:0d158b00-d202-4b1f-90aa-9fc427f4eb2b\" xlink:type=\"simple\"><rect fill=\"#FFFFFF\" height=\"45.9375\" id=\"E7\" rx=\"10\" ry=\"10\" style=\"stroke: #383838; stroke-width: 1.5;\" width=\"116\" x=\"363\" y=\"164\"/><text fill=\"#000000\" font-family=\"sans-serif\" font-size=\"12\" font-style=\"italic\" lengthAdjust=\"spacingAndGlyphs\" textLength=\"82\" x=\"380\" y=\"180.1387\">«calculation»</text><text fill=\"#000000\" font-family=\"sans-serif\" font-size=\"12\" lengthAdjust=\"spacingAndGlyphs\" textLength=\"110\" x=\"366\" y=\"194.1074\">objectiveFunction</text><line style=\"stroke: #383838; stroke-width: 1.5;\" x1=\"364\" x2=\"478\" y1=\"201.9375\" y2=\"201.9375\"/></a><!--MD5=[b9389687b975829384b498ac4b7476b2]\n",
       "class E8--><a href=\"psysml:e8d66f1b-2710-4767-99ee-f2812ccd7696\" target=\"_top\" title=\"psysml:e8d66f1b-2710-4767-99ee-f2812ccd7696\" xlink:actuate=\"onRequest\" xlink:href=\"psysml:e8d66f1b-2710-4767-99ee-f2812ccd7696\" xlink:show=\"new\" xlink:title=\"psysml:e8d66f1b-2710-4767-99ee-f2812ccd7696\" xlink:type=\"simple\"><rect fill=\"#FFFFFF\" height=\"45.9375\" id=\"E8\" rx=\"10\" ry=\"10\" style=\"stroke: #383838; stroke-width: 1.5;\" width=\"124\" x=\"69\" y=\"316\"/><text fill=\"#000000\" font-family=\"sans-serif\" font-size=\"12\" font-style=\"italic\" lengthAdjust=\"spacingAndGlyphs\" textLength=\"40\" x=\"111\" y=\"332.1387\">«part»</text><text fill=\"#000000\" font-family=\"sans-serif\" font-size=\"12\" lengthAdjust=\"spacingAndGlyphs\" textLength=\"118\" x=\"72\" y=\"346.1074\">alternative: Engine</text><line style=\"stroke: #383838; stroke-width: 1.5;\" x1=\"70\" x2=\"192\" y1=\"353.9375\" y2=\"353.9375\"/></a><!--MD5=[fd4143e9d270a159db93a4ea2a975926]\n",
       "class E9--><a href=\"psysml:d0667918-a428-4729-9680-50da29281cd4\" target=\"_top\" title=\"psysml:d0667918-a428-4729-9680-50da29281cd4\" xlink:actuate=\"onRequest\" xlink:href=\"psysml:d0667918-a428-4729-9680-50da29281cd4\" xlink:show=\"new\" xlink:title=\"psysml:d0667918-a428-4729-9680-50da29281cd4\" xlink:type=\"simple\"><rect fill=\"#FFFFFF\" height=\"45.9375\" id=\"E9\" rx=\"10\" ry=\"10\" style=\"stroke: #383838; stroke-width: 1.5;\" width=\"178\" x=\"289\" y=\"240\"/><text fill=\"#000000\" font-family=\"sans-serif\" font-size=\"12\" font-style=\"italic\" lengthAdjust=\"spacingAndGlyphs\" textLength=\"40\" x=\"358\" y=\"256.1387\">«part»</text><text fill=\"#000000\" font-family=\"sans-serif\" font-size=\"12\" lengthAdjust=\"spacingAndGlyphs\" textLength=\"172\" x=\"292\" y=\"270.1074\">selectedAlternative: Engine</text><line style=\"stroke: #383838; stroke-width: 1.5;\" x1=\"290\" x2=\"466\" y1=\"277.9375\" y2=\"277.9375\"/></a><!--MD5=[05d275557350bfb9b23a4ef7222b4c39]\n",
       "link E3 to E2--><a href=\"psysml:2c927883-7b33-4f30-b07f-44dca6adebf7\" target=\"_top\" title=\"psysml:2c927883-7b33-4f30-b07f-44dca6adebf7\" xlink:actuate=\"onRequest\" xlink:href=\"psysml:2c927883-7b33-4f30-b07f-44dca6adebf7\" xlink:show=\"new\" xlink:title=\"psysml:2c927883-7b33-4f30-b07f-44dca6adebf7\" xlink:type=\"simple\"><path d=\"M413.16,362.01 C374.25,379.54 319.95,404.01 280.39,421.84 \" fill=\"none\" id=\"E3-&gt;E2\" style=\"stroke: #383838; stroke-width: 1.0;\"/><polygon fill=\"#FFFFFF\" points=\"262.02,430.12,276.4666,415.9321,282.2183,428.696,262.02,430.12\" style=\"stroke: #383838; stroke-width: 1.0;\"/><ellipse cx=\"282.485\" cy=\"415.4137\" fill=\"#383838\" rx=\"2\" ry=\"2\" style=\"stroke: #383838; stroke-width: 1.0;\"/><ellipse cx=\"286.5934\" cy=\"424.5308\" fill=\"#383838\" rx=\"2\" ry=\"2\" style=\"stroke: #383838; stroke-width: 1.0;\"/></a><!--MD5=[185131fc0dcab0a4505a2ebe144e961b]\n",
       "link E4 to E2--><a href=\"psysml:59e46c20-b41c-4b83-8c8c-eff5ad41f1d7\" target=\"_top\" title=\"psysml:59e46c20-b41c-4b83-8c8c-eff5ad41f1d7\" xlink:actuate=\"onRequest\" xlink:href=\"psysml:59e46c20-b41c-4b83-8c8c-eff5ad41f1d7\" xlink:show=\"new\" xlink:title=\"psysml:59e46c20-b41c-4b83-8c8c-eff5ad41f1d7\" xlink:type=\"simple\"><path d=\"M300.13,362.01 C288.93,375.08 274.42,392.01 261.42,407.17 \" fill=\"none\" id=\"E4-&gt;E2\" style=\"stroke: #383838; stroke-width: 1.0;\"/><polygon fill=\"#FFFFFF\" points=\"248.15,422.66,255.1988,403.678,265.8291,412.7883,248.15,422.66\" style=\"stroke: #383838; stroke-width: 1.0;\"/><ellipse cx=\"260.4266\" cy=\"400.6515\" fill=\"#383838\" rx=\"2\" ry=\"2\" style=\"stroke: #383838; stroke-width: 1.0;\"/><ellipse cx=\"268.0196\" cy=\"407.1588\" fill=\"#383838\" rx=\"2\" ry=\"2\" style=\"stroke: #383838; stroke-width: 1.0;\"/></a><!--MD5=[15ebcb19ae302d9b601edb458606d402]\n",
       "link E5 to E2--><a href=\"psysml:d5cbdaa6-c586-4ab8-b2f7-038eda38592d\" target=\"_top\" title=\"psysml:d5cbdaa6-c586-4ab8-b2f7-038eda38592d\" xlink:actuate=\"onRequest\" xlink:href=\"psysml:d5cbdaa6-c586-4ab8-b2f7-038eda38592d\" xlink:show=\"new\" xlink:title=\"psysml:d5cbdaa6-c586-4ab8-b2f7-038eda38592d\" xlink:type=\"simple\"><path d=\"M274.96,87.09 C193.02,116.27 59,164 59,164 C59,164 51,316 51,316 C51,316 51,362 51,362 C51,362 139.06,403.06 191.31,427.42 \" fill=\"none\" id=\"E5-&gt;E2\" style=\"stroke: #383838; stroke-width: 1.0; stroke-dasharray: 7.0,7.0;\"/><polygon fill=\"#383838\" points=\"195.94,429.58,189.449,422.1728,191.4015,427.482,186.0922,429.4344,195.94,429.58\" style=\"stroke: #383838; stroke-width: 1.0;\"/><text fill=\"#000000\" font-family=\"sans-serif\" font-size=\"13\" lengthAdjust=\"spacingAndGlyphs\" textLength=\"62\" x=\"56\" y=\"267.5669\">«subject»</text></a><!--MD5=[9120cf2e5df3bff93db8f754bbbc09b4]\n",
       "link E5 to E6--><a href=\"psysml:14d02f99-86ef-419d-b64f-b983855c21b7\" target=\"_top\" title=\"psysml:14d02f99-86ef-419d-b64f-b983855c21b7\" xlink:actuate=\"onRequest\" xlink:href=\"psysml:14d02f99-86ef-419d-b64f-b983855c21b7\" xlink:show=\"new\" xlink:title=\"psysml:14d02f99-86ef-419d-b64f-b983855c21b7\" xlink:type=\"simple\"><path d=\"M312.24,87.19 C289.88,107.23 256.89,136.8 232.83,158.37 \" fill=\"none\" id=\"E5-&gt;E6\" style=\"stroke: #383838; stroke-width: 1.0;\"/><polygon fill=\"#383838\" points=\"226.6,163.95,234.5586,160.8419,230.5525,156.3752,226.6,163.95\" style=\"stroke: #383838; stroke-width: 1.0;\"/><text fill=\"#000000\" font-family=\"sans-serif\" font-size=\"13\" lengthAdjust=\"spacingAndGlyphs\" textLength=\"73\" x=\"278\" y=\"130.0669\">«objective»</text></a><!--MD5=[452b418e7f8a40397a49b8c0a78acc5b]\n",
       "reverse link E5 to E7--><a href=\"psysml:60238b1f-3640-4bef-bde7-54f879504707\" target=\"_top\" title=\"psysml:60238b1f-3640-4bef-bde7-54f879504707\" xlink:actuate=\"onRequest\" xlink:href=\"psysml:60238b1f-3640-4bef-bde7-54f879504707\" xlink:show=\"new\" xlink:title=\"psysml:60238b1f-3640-4bef-bde7-54f879504707\" xlink:type=\"simple\"><path d=\"M359.82,97.88 C374.39,118.86 392.87,145.48 405.69,163.95 \" fill=\"none\" id=\"E5&lt;-E7\" style=\"stroke: #383838; stroke-width: 1.0;\"/><polygon fill=\"#383838\" points=\"352.41,87.19,352.544,94.3999,359.2508,97.0492,359.1168,89.8393,352.41,87.19\" style=\"stroke: #383838; stroke-width: 1.0;\"/></a><!--MD5=[dc164f5e8a733ab456ef1add180e9e34]\n",
       "reverse link E7 to E8--><a href=\"psysml:83c02207-4172-44b5-b5b3-edd55ab7c0db\" target=\"_top\" title=\"psysml:83c02207-4172-44b5-b5b3-edd55ab7c0db\" xlink:actuate=\"onRequest\" xlink:href=\"psysml:83c02207-4172-44b5-b5b3-edd55ab7c0db\" xlink:show=\"new\" xlink:title=\"psysml:83c02207-4172-44b5-b5b3-edd55ab7c0db\" xlink:type=\"simple\"><path d=\"M350.55,212.59 C312,226.04 272,240 272,240 C272,240 204.6,286.85 163,315.76 \" fill=\"none\" id=\"E7&lt;-E8\" style=\"stroke: #383838; stroke-width: 1.0;\"/><polygon fill=\"#FFFFFF\" points=\"362.97,208.25,355.9867,206.452,351.641,212.2066,358.6244,214.0046,362.97,208.25\" style=\"stroke: #383838; stroke-width: 1.0;\"/><text fill=\"#000000\" font-family=\"sans-serif\" font-size=\"13\" lengthAdjust=\"spacingAndGlyphs\" textLength=\"8\" x=\"162.175\" y=\"304.9748\">1</text></a><!--MD5=[f1f3f9f2fc535e6147756cb86a7f2e32]\n",
       "link E8 to E2--><a href=\"psysml:3fd357fc-9742-4e4a-b08f-00e5f8b92b2e\" target=\"_top\" title=\"psysml:3fd357fc-9742-4e4a-b08f-00e5f8b92b2e\" xlink:actuate=\"onRequest\" xlink:href=\"psysml:3fd357fc-9742-4e4a-b08f-00e5f8b92b2e\" xlink:show=\"new\" xlink:title=\"psysml:3fd357fc-9742-4e4a-b08f-00e5f8b92b2e\" xlink:type=\"simple\"><path d=\"M151.54,362.01 C163.87,375.22 179.88,392.38 194.14,407.65 \" fill=\"none\" id=\"E8-&gt;E2\" style=\"stroke: #383838; stroke-width: 1.0;\"/><polygon fill=\"#FFFFFF\" points=\"208.15,422.66,190.0721,413.5393,200.3105,403.9907,208.15,422.66\" style=\"stroke: #383838; stroke-width: 1.0;\"/><ellipse cx=\"187.6471\" cy=\"408.0067\" fill=\"#383838\" rx=\"2\" ry=\"2\" style=\"stroke: #383838; stroke-width: 1.0;\"/><ellipse cx=\"194.9602\" cy=\"401.1863\" fill=\"#383838\" rx=\"2\" ry=\"2\" style=\"stroke: #383838; stroke-width: 1.0;\"/></a><!--MD5=[9ae28de373ca99bb8a1b38d63370ca7e]\n",
       "reverse link E5 to E9--><a href=\"psysml:44393528-ee32-422a-b73c-7e5d578e1b67\" target=\"_top\" title=\"psysml:44393528-ee32-422a-b73c-7e5d578e1b67\" xlink:actuate=\"onRequest\" xlink:href=\"psysml:44393528-ee32-422a-b73c-7e5d578e1b67\" xlink:show=\"new\" xlink:title=\"psysml:44393528-ee32-422a-b73c-7e5d578e1b67\" xlink:type=\"simple\"><path d=\"M384.16,94.18 C431.35,123.38 497,164 497,164 C497,164 497,210 497,210 C497,210 460.9,225.77 428.47,239.95 \" fill=\"none\" id=\"E5&lt;-E9\" style=\"stroke: #383838; stroke-width: 1.0;\"/><polygon fill=\"#FFFFFF\" points=\"372.91,87.22,375.907,93.7788,383.114,93.5349,380.117,86.9761,372.91,87.22\" style=\"stroke: #383838; stroke-width: 1.0;\"/><text fill=\"#000000\" font-family=\"sans-serif\" font-size=\"13\" lengthAdjust=\"spacingAndGlyphs\" textLength=\"8\" x=\"432.9588\" y=\"228.8328\">1</text></a><!--MD5=[5c3bb36fe832a92c7f0e1807dd65209d]\n",
       "link E9 to E2--><a href=\"psysml:fe7d5224-67e7-4f42-a679-f87e330c9f80\" target=\"_top\" title=\"psysml:fe7d5224-67e7-4f42-a679-f87e330c9f80\" xlink:actuate=\"onRequest\" xlink:href=\"psysml:fe7d5224-67e7-4f42-a679-f87e330c9f80\" xlink:show=\"new\" xlink:title=\"psysml:fe7d5224-67e7-4f42-a679-f87e330c9f80\" xlink:type=\"simple\"><path d=\"M322.87,286.05 C287.44,300.23 248,316 248,316 C248,316 240.73,365.33 235.19,402.98 \" fill=\"none\" id=\"E9-&gt;E2\" style=\"stroke: #383838; stroke-width: 1.0;\"/><polygon fill=\"#FFFFFF\" points=\"232.27,422.82,228.1134,403.0028,241.964,405.0429,232.27,422.82\" style=\"stroke: #383838; stroke-width: 1.0;\"/><ellipse cx=\"230.9227\" cy=\"397.6551\" fill=\"#383838\" rx=\"2\" ry=\"2\" style=\"stroke: #383838; stroke-width: 1.0;\"/><ellipse cx=\"240.8159\" cy=\"399.1123\" fill=\"#383838\" rx=\"2\" ry=\"2\" style=\"stroke: #383838; stroke-width: 1.0;\"/></a><!--MD5=[65d48a794ab4a34839884662ecdf7313]\n",
       "@startuml\r\n",
       "skinparam linetype polyline\r\n",
       "skinparam monochrome true\r\n",
       "skinparam classbackgroundcolor white\r\n",
       "skinparam shadowing false\r\n",
       "skinparam wrapWidth 300\r\n",
       "hide circle\r\n",
       "\r\n",
       "package \"TradeStudyTest\" as E1  [[psysml:ee7e22b2-7ed6-4f2c-8628-ec59eb221ec4 ]]  {\r\n",
       "comp def \"Engine\" as E2  <<(T,blue) part def>> [[psysml:6dc2e48d-4c08-4400-bc60-82a531af2780 ]] {\r\n",
       "}\r\n",
       "comp usage \"engine1: Engine\" as E3  <<(T,blue) part>> [[psysml:3defd9be-3b5d-4c6d-8f79-df776db84250 ]] {\r\n",
       "}\r\n",
       "comp usage \"engine2: Engine\" as E4  <<(T,blue) part>> [[psysml:3a9a647b-2fd2-49b6-8a5f-7ce1649088e0 ]] {\r\n",
       "}\r\n",
       "comp usage \"engineTradeStudy: TradeStudy\" as E5 << analysis>> [[psysml:4b9a9840-0888-40ad-997b-4be591991c45 ]] {\r\n",
       "}\r\n",
       "comp usage \"tradeStudyObjective: MaximizeObjective\" as E6  <<(T,blue) requirement>> [[psysml:6d56d509-a272-42e3-905c-0e1bbd246da0 ]] {\r\n",
       "}\r\n",
       "comp usage \"objectiveFunction\" as E7  <<(T,blue) calculation>> [[psysml:0d158b00-d202-4b1f-90aa-9fc427f4eb2b ]] {\r\n",
       "}\r\n",
       "comp usage \"alternative: Engine\" as E8  <<(T,blue) part>> [[psysml:e8d66f1b-2710-4767-99ee-f2812ccd7696 ]] {\r\n",
       "}\r\n",
       "comp usage \"selectedAlternative: Engine\" as E9  <<(T,blue) part>> [[psysml:d0667918-a428-4729-9680-50da29281cd4 ]] {\r\n",
       "}\r\n",
       "}\r\n",
       "E3 - -:|> E2 [[psysml:2c927883-7b33-4f30-b07f-44dca6adebf7 ]] \r\n",
       "E4 - -:|> E2 [[psysml:59e46c20-b41c-4b83-8c8c-eff5ad41f1d7 ]] \r\n",
       "E5 ..> E2 [[psysml:d5cbdaa6-c586-4ab8-b2f7-038eda38592d ]] : <<subject>>\r\n",
       "E5 - ->> E6 [[psysml:14d02f99-86ef-419d-b64f-b983855c21b7 ]] : <<objective>>\r\n",
       "E5 *- - E7 [[psysml:60238b1f-3640-4bef-bde7-54f879504707 ]] \r\n",
       "E7 o- - \"1\"E8 [[psysml:83c02207-4172-44b5-b5b3-edd55ab7c0db ]] \r\n",
       "E8 - -:|> E2 [[psysml:3fd357fc-9742-4e4a-b08f-00e5f8b92b2e ]] \r\n",
       "E5 o- - \"1\"E9 [[psysml:44393528-ee32-422a-b73c-7e5d578e1b67 ]] \r\n",
       "E9 - -:|> E2 [[psysml:fe7d5224-67e7-4f42-a679-f87e330c9f80 ]] \r\n",
       "@enduml\r\n",
       "\n",
       "PlantUML version 1.2020.13(Sat Jun 13 12:26:38 UTC 2020)\n",
       "(EPL source distribution)\n",
       "Java Runtime: OpenJDK Runtime Environment\n",
       "JVM: OpenJDK 64-Bit Server VM\n",
       "Default Encoding: UTF-8\n",
       "Language: en\n",
       "Country: null\n",
       "--></g></svg>"
      ]
     },
     "execution_count": 9,
     "metadata": {},
     "output_type": "execute_result"
    }
   ],
   "source": [
    "%viz --style=\"POLYLINE\" --view=\"Default\" \"TradeStudyTest\""
   ]
  },
  {
   "cell_type": "code",
   "execution_count": 10,
   "id": "a4ecdc36",
   "metadata": {
    "execution": {
     "iopub.execute_input": "2021-10-03T08:30:36.485384Z",
     "iopub.status.busy": "2021-10-03T08:30:36.485137Z",
     "iopub.status.idle": "2021-10-03T08:30:36.535763Z",
     "shell.execute_reply": "2021-10-03T08:30:36.535273Z"
    }
   },
   "outputs": [
    {
     "data": {
      "image/svg+xml": [
       "<?xml version=\"1.0\" encoding=\"UTF-8\" standalone=\"no\"?><svg xmlns=\"http://www.w3.org/2000/svg\" xmlns:xlink=\"http://www.w3.org/1999/xlink\" contentScriptType=\"application/ecmascript\" contentStyleType=\"text/css\" height=\"345px\" preserveAspectRatio=\"none\" style=\"width:955px;height:345px;\" version=\"1.1\" viewBox=\"0 0 955 345\" width=\"955px\" zoomAndPan=\"magnify\"><defs/><g><!--MD5=[fbc87193dbaf4d95561dea2c320d4a47]\n",
       "cluster E1--><a href=\"psysml:ee7e22b2-7ed6-4f2c-8628-ec59eb221ec4\" target=\"_top\" title=\"psysml:ee7e22b2-7ed6-4f2c-8628-ec59eb221ec4\" xlink:actuate=\"onRequest\" xlink:href=\"psysml:ee7e22b2-7ed6-4f2c-8628-ec59eb221ec4\" xlink:show=\"new\" xlink:title=\"psysml:ee7e22b2-7ed6-4f2c-8628-ec59eb221ec4\" xlink:type=\"simple\"><polygon fill=\"#FFFFFF\" points=\"16,6,132,6,139,28.2969,933,28.2969,933,333,16,333,16,6\" style=\"stroke: #000000; stroke-width: 1.5;\"/><line style=\"stroke: #000000; stroke-width: 1.5;\" x1=\"16\" x2=\"139\" y1=\"28.2969\" y2=\"28.2969\"/><text fill=\"#000000\" font-family=\"sans-serif\" font-size=\"14\" font-weight=\"bold\" lengthAdjust=\"spacingAndGlyphs\" textLength=\"110\" x=\"20\" y=\"20.9951\">TradeStudyTest</text></a><!--MD5=[b4997ac47864f28c2f74865a473b2911]\n",
       "class E2--><a href=\"psysml:6dc2e48d-4c08-4400-bc60-82a531af2780\" target=\"_top\" title=\"psysml:6dc2e48d-4c08-4400-bc60-82a531af2780\" xlink:actuate=\"onRequest\" xlink:href=\"psysml:6dc2e48d-4c08-4400-bc60-82a531af2780\" xlink:show=\"new\" xlink:title=\"psysml:6dc2e48d-4c08-4400-bc60-82a531af2780\" xlink:type=\"simple\"><rect fill=\"#FFFFFF\" height=\"45.9375\" id=\"E2\" style=\"stroke: #383838; stroke-width: 1.5;\" width=\"66\" x=\"598\" y=\"271\"/><text fill=\"#000000\" font-family=\"sans-serif\" font-size=\"12\" font-style=\"italic\" lengthAdjust=\"spacingAndGlyphs\" textLength=\"64\" x=\"599\" y=\"287.1387\">«part def»</text><text fill=\"#000000\" font-family=\"sans-serif\" font-size=\"12\" lengthAdjust=\"spacingAndGlyphs\" textLength=\"43\" x=\"609.5\" y=\"301.1074\">Engine</text><line style=\"stroke: #383838; stroke-width: 1.5;\" x1=\"599\" x2=\"663\" y1=\"308.9375\" y2=\"308.9375\"/></a><!--MD5=[09b614a08d8cba4a07c9adeb5e0fee81]\n",
       "class E3--><a href=\"psysml:3defd9be-3b5d-4c6d-8f79-df776db84250\" target=\"_top\" title=\"psysml:3defd9be-3b5d-4c6d-8f79-df776db84250\" xlink:actuate=\"onRequest\" xlink:href=\"psysml:3defd9be-3b5d-4c6d-8f79-df776db84250\" xlink:show=\"new\" xlink:title=\"psysml:3defd9be-3b5d-4c6d-8f79-df776db84250\" xlink:type=\"simple\"><rect fill=\"#FFFFFF\" height=\"45.9375\" id=\"E3\" rx=\"10\" ry=\"10\" style=\"stroke: #383838; stroke-width: 1.5;\" width=\"108\" x=\"809\" y=\"164\"/><text fill=\"#000000\" font-family=\"sans-serif\" font-size=\"12\" font-style=\"italic\" lengthAdjust=\"spacingAndGlyphs\" textLength=\"40\" x=\"843\" y=\"180.1387\">«part»</text><text fill=\"#000000\" font-family=\"sans-serif\" font-size=\"12\" lengthAdjust=\"spacingAndGlyphs\" textLength=\"102\" x=\"812\" y=\"194.1074\">engine1: Engine</text><line style=\"stroke: #383838; stroke-width: 1.5;\" x1=\"810\" x2=\"916\" y1=\"201.9375\" y2=\"201.9375\"/></a><!--MD5=[ebbe1d658d1005bcc118a6aa81145e00]\n",
       "class E4--><a href=\"psysml:3a9a647b-2fd2-49b6-8a5f-7ce1649088e0\" target=\"_top\" title=\"psysml:3a9a647b-2fd2-49b6-8a5f-7ce1649088e0\" xlink:actuate=\"onRequest\" xlink:href=\"psysml:3a9a647b-2fd2-49b6-8a5f-7ce1649088e0\" xlink:show=\"new\" xlink:title=\"psysml:3a9a647b-2fd2-49b6-8a5f-7ce1649088e0\" xlink:type=\"simple\"><rect fill=\"#FFFFFF\" height=\"45.9375\" id=\"E4\" rx=\"10\" ry=\"10\" style=\"stroke: #383838; stroke-width: 1.5;\" width=\"108\" x=\"666\" y=\"164\"/><text fill=\"#000000\" font-family=\"sans-serif\" font-size=\"12\" font-style=\"italic\" lengthAdjust=\"spacingAndGlyphs\" textLength=\"40\" x=\"700\" y=\"180.1387\">«part»</text><text fill=\"#000000\" font-family=\"sans-serif\" font-size=\"12\" lengthAdjust=\"spacingAndGlyphs\" textLength=\"102\" x=\"669\" y=\"194.1074\">engine2: Engine</text><line style=\"stroke: #383838; stroke-width: 1.5;\" x1=\"667\" x2=\"773\" y1=\"201.9375\" y2=\"201.9375\"/></a><!--MD5=[270fce915f116d4de14055a7c1d9a0f3]\n",
       "class E5--><a href=\"psysml:4b9a9840-0888-40ad-997b-4be591991c45\" target=\"_top\" title=\"psysml:4b9a9840-0888-40ad-997b-4be591991c45\" xlink:actuate=\"onRequest\" xlink:href=\"psysml:4b9a9840-0888-40ad-997b-4be591991c45\" xlink:show=\"new\" xlink:title=\"psysml:4b9a9840-0888-40ad-997b-4be591991c45\" xlink:type=\"simple\"><rect fill=\"#FFFFFF\" height=\"45.9375\" id=\"E5\" rx=\"10\" ry=\"10\" style=\"stroke: #383838; stroke-width: 1.5;\" width=\"199\" x=\"192.5\" y=\"41\"/><text fill=\"#000000\" font-family=\"sans-serif\" font-size=\"12\" font-style=\"italic\" lengthAdjust=\"spacingAndGlyphs\" textLength=\"64\" x=\"260\" y=\"57.1387\">«analysis»</text><text fill=\"#000000\" font-family=\"sans-serif\" font-size=\"12\" lengthAdjust=\"spacingAndGlyphs\" textLength=\"193\" x=\"195.5\" y=\"71.1074\">engineTradeStudy: TradeStudy</text><line style=\"stroke: #383838; stroke-width: 1.5;\" x1=\"193.5\" x2=\"390.5\" y1=\"78.9375\" y2=\"78.9375\"/></a><!--MD5=[60a26617385b1d2d0262a64233df1f8d]\n",
       "class E6--><a href=\"psysml:6d56d509-a272-42e3-905c-0e1bbd246da0\" target=\"_top\" title=\"psysml:6d56d509-a272-42e3-905c-0e1bbd246da0\" xlink:actuate=\"onRequest\" xlink:href=\"psysml:6d56d509-a272-42e3-905c-0e1bbd246da0\" xlink:show=\"new\" xlink:title=\"psysml:6d56d509-a272-42e3-905c-0e1bbd246da0\" xlink:type=\"simple\"><rect fill=\"#FFFFFF\" height=\"45.9375\" id=\"E6\" rx=\"10\" ry=\"10\" style=\"stroke: #383838; stroke-width: 1.5;\" width=\"251\" x=\"166.5\" y=\"164\"/><text fill=\"#000000\" font-family=\"sans-serif\" font-size=\"12\" font-style=\"italic\" lengthAdjust=\"spacingAndGlyphs\" textLength=\"91\" x=\"246.5\" y=\"180.1387\">«requirement»</text><text fill=\"#000000\" font-family=\"sans-serif\" font-size=\"12\" lengthAdjust=\"spacingAndGlyphs\" textLength=\"245\" x=\"169.5\" y=\"194.1074\">tradeStudyObjective: MaximizeObjective</text><line style=\"stroke: #383838; stroke-width: 1.5;\" x1=\"167.5\" x2=\"416.5\" y1=\"201.9375\" y2=\"201.9375\"/></a><!--MD5=[2156ba9850f5573cc1fc38a6a4b2f02b]\n",
       "class E7--><a href=\"psysml:d0667918-a428-4729-9680-50da29281cd4\" target=\"_top\" title=\"psysml:d0667918-a428-4729-9680-50da29281cd4\" xlink:actuate=\"onRequest\" xlink:href=\"psysml:d0667918-a428-4729-9680-50da29281cd4\" xlink:show=\"new\" xlink:title=\"psysml:d0667918-a428-4729-9680-50da29281cd4\" xlink:type=\"simple\"><rect fill=\"#FFFFFF\" height=\"45.9375\" id=\"E7\" rx=\"10\" ry=\"10\" style=\"stroke: #383838; stroke-width: 1.5;\" width=\"178\" x=\"453\" y=\"164\"/><text fill=\"#000000\" font-family=\"sans-serif\" font-size=\"12\" font-style=\"italic\" lengthAdjust=\"spacingAndGlyphs\" textLength=\"40\" x=\"522\" y=\"180.1387\">«part»</text><text fill=\"#000000\" font-family=\"sans-serif\" font-size=\"12\" lengthAdjust=\"spacingAndGlyphs\" textLength=\"172\" x=\"456\" y=\"194.1074\">selectedAlternative: Engine</text><line style=\"stroke: #383838; stroke-width: 1.5;\" x1=\"454\" x2=\"630\" y1=\"201.9375\" y2=\"201.9375\"/></a><!--MD5=[05d275557350bfb9b23a4ef7222b4c39]\n",
       "link E3 to E2--><a href=\"psysml:2c927883-7b33-4f30-b07f-44dca6adebf7\" target=\"_top\" title=\"psysml:2c927883-7b33-4f30-b07f-44dca6adebf7\" xlink:actuate=\"onRequest\" xlink:href=\"psysml:2c927883-7b33-4f30-b07f-44dca6adebf7\" xlink:show=\"new\" xlink:title=\"psysml:2c927883-7b33-4f30-b07f-44dca6adebf7\" xlink:type=\"simple\"><path d=\"M814.37,210.01 C775.74,227.49 721.88,251.87 682.52,269.68 \" fill=\"none\" id=\"E3-&gt;E2\" style=\"stroke: #383838; stroke-width: 1.0;\"/><polygon fill=\"#FFFFFF\" points=\"664.23,277.96,678.6446,263.7397,684.4251,276.4906,664.23,277.96\" style=\"stroke: #383838; stroke-width: 1.0;\"/><ellipse cx=\"684.6619\" cy=\"263.2078\" fill=\"#383838\" rx=\"2\" ry=\"2\" style=\"stroke: #383838; stroke-width: 1.0;\"/><ellipse cx=\"688.7908\" cy=\"272.3156\" fill=\"#383838\" rx=\"2\" ry=\"2\" style=\"stroke: #383838; stroke-width: 1.0;\"/></a><!--MD5=[185131fc0dcab0a4505a2ebe144e961b]\n",
       "link E4 to E2--><a href=\"psysml:59e46c20-b41c-4b83-8c8c-eff5ad41f1d7\" target=\"_top\" title=\"psysml:59e46c20-b41c-4b83-8c8c-eff5ad41f1d7\" xlink:actuate=\"onRequest\" xlink:href=\"psysml:59e46c20-b41c-4b83-8c8c-eff5ad41f1d7\" xlink:show=\"new\" xlink:title=\"psysml:59e46c20-b41c-4b83-8c8c-eff5ad41f1d7\" xlink:type=\"simple\"><path d=\"M701.34,210.01 C690.26,223.08 675.91,240.01 663.06,255.17 \" fill=\"none\" id=\"E4-&gt;E2\" style=\"stroke: #383838; stroke-width: 1.0;\"/><polygon fill=\"#FFFFFF\" points=\"649.94,270.66,656.8931,251.6428,667.5691,260.6994,649.94,270.66\" style=\"stroke: #383838; stroke-width: 1.0;\"/><ellipse cx=\"662.1056\" cy=\"248.5899\" fill=\"#383838\" rx=\"2\" ry=\"2\" style=\"stroke: #383838; stroke-width: 1.0;\"/><ellipse cx=\"669.7313\" cy=\"255.059\" fill=\"#383838\" rx=\"2\" ry=\"2\" style=\"stroke: #383838; stroke-width: 1.0;\"/></a><!--MD5=[15ebcb19ae302d9b601edb458606d402]\n",
       "link E5 to E2--><a href=\"psysml:d5cbdaa6-c586-4ab8-b2f7-038eda38592d\" target=\"_top\" title=\"psysml:d5cbdaa6-c586-4ab8-b2f7-038eda38592d\" xlink:actuate=\"onRequest\" xlink:href=\"psysml:d5cbdaa6-c586-4ab8-b2f7-038eda38592d\" xlink:show=\"new\" xlink:title=\"psysml:d5cbdaa6-c586-4ab8-b2f7-038eda38592d\" xlink:type=\"simple\"><path d=\"M245.8,87.09 C184.8,116.27 85,164 85,164 C85,164 85,210 85,210 C85,210 468.42,268.29 592.65,287.17 \" fill=\"none\" id=\"E5-&gt;E2\" style=\"stroke: #383838; stroke-width: 1.0; stroke-dasharray: 7.0,7.0;\"/><polygon fill=\"#383838\" points=\"597.67,287.93,589.3794,282.6134,592.7276,287.1729,588.1681,290.5212,597.67,287.93\" style=\"stroke: #383838; stroke-width: 1.0;\"/><text fill=\"#000000\" font-family=\"sans-serif\" font-size=\"13\" lengthAdjust=\"spacingAndGlyphs\" textLength=\"62\" x=\"86\" y=\"191.5669\">«subject»</text></a><!--MD5=[9120cf2e5df3bff93db8f754bbbc09b4]\n",
       "link E5 to E6--><a href=\"psysml:14d02f99-86ef-419d-b64f-b983855c21b7\" target=\"_top\" title=\"psysml:14d02f99-86ef-419d-b64f-b983855c21b7\" xlink:actuate=\"onRequest\" xlink:href=\"psysml:14d02f99-86ef-419d-b64f-b983855c21b7\" xlink:show=\"new\" xlink:title=\"psysml:14d02f99-86ef-419d-b64f-b983855c21b7\" xlink:type=\"simple\"><path d=\"M292,87.19 C292,106.47 292,134.55 292,155.86 \" fill=\"none\" id=\"E5-&gt;E6\" style=\"stroke: #383838; stroke-width: 1.0;\"/><polygon fill=\"#383838\" points=\"292,163.95,295,155.95,289,155.95,292,163.95\" style=\"stroke: #383838; stroke-width: 1.0;\"/><text fill=\"#000000\" font-family=\"sans-serif\" font-size=\"13\" lengthAdjust=\"spacingAndGlyphs\" textLength=\"73\" x=\"293\" y=\"130.0669\">«objective»</text></a><!--MD5=[452b418e7f8a40397a49b8c0a78acc5b]\n",
       "reverse link E5 to E7--><a href=\"psysml:44393528-ee32-422a-b73c-7e5d578e1b67\" target=\"_top\" title=\"psysml:44393528-ee32-422a-b73c-7e5d578e1b67\" xlink:actuate=\"onRequest\" xlink:href=\"psysml:44393528-ee32-422a-b73c-7e5d578e1b67\" xlink:show=\"new\" xlink:title=\"psysml:44393528-ee32-422a-b73c-7e5d578e1b67\" xlink:type=\"simple\"><path d=\"M349.39,92.78 C393.99,114.36 455.01,143.9 496.33,163.89 \" fill=\"none\" id=\"E5&lt;-E7\" style=\"stroke: #383838; stroke-width: 1.0;\"/><polygon fill=\"#FFFFFF\" points=\"337.56,87.05,341.2143,93.2666,348.3582,92.2843,344.7039,86.0677,337.56,87.05\" style=\"stroke: #383838; stroke-width: 1.0;\"/><text fill=\"#000000\" font-family=\"sans-serif\" font-size=\"13\" lengthAdjust=\"spacingAndGlyphs\" textLength=\"8\" x=\"474.9812\" y=\"152.7567\">1</text></a><!--MD5=[583832df87f4419a098336a29a52fa00]\n",
       "link E7 to E2--><a href=\"psysml:fe7d5224-67e7-4f42-a679-f87e330c9f80\" target=\"_top\" title=\"psysml:fe7d5224-67e7-4f42-a679-f87e330c9f80\" xlink:actuate=\"onRequest\" xlink:href=\"psysml:fe7d5224-67e7-4f42-a679-f87e330c9f80\" xlink:show=\"new\" xlink:title=\"psysml:fe7d5224-67e7-4f42-a679-f87e330c9f80\" xlink:type=\"simple\"><path d=\"M560.66,210.01 C571.74,223.08 586.09,240.01 598.94,255.17 \" fill=\"none\" id=\"E7-&gt;E2\" style=\"stroke: #383838; stroke-width: 1.0;\"/><polygon fill=\"#FFFFFF\" points=\"612.06,270.66,594.4309,260.6994,605.1069,251.6428,612.06,270.66\" style=\"stroke: #383838; stroke-width: 1.0;\"/><ellipse cx=\"592.2687\" cy=\"255.059\" fill=\"#383838\" rx=\"2\" ry=\"2\" style=\"stroke: #383838; stroke-width: 1.0;\"/><ellipse cx=\"599.8944\" cy=\"248.5899\" fill=\"#383838\" rx=\"2\" ry=\"2\" style=\"stroke: #383838; stroke-width: 1.0;\"/></a><!--MD5=[69ca29a6bde2bb26bee1b0466df6dbe9]\n",
       "@startuml\r\n",
       "skinparam linetype polyline\r\n",
       "skinparam monochrome true\r\n",
       "skinparam classbackgroundcolor white\r\n",
       "skinparam shadowing false\r\n",
       "skinparam wrapWidth 300\r\n",
       "hide circle\r\n",
       "\r\n",
       "package \"TradeStudyTest\" as E1  [[psysml:ee7e22b2-7ed6-4f2c-8628-ec59eb221ec4 ]]  {\r\n",
       "comp def \"Engine\" as E2  <<(T,blue) part def>> [[psysml:6dc2e48d-4c08-4400-bc60-82a531af2780 ]] {\r\n",
       "}\r\n",
       "comp usage \"engine1: Engine\" as E3  <<(T,blue) part>> [[psysml:3defd9be-3b5d-4c6d-8f79-df776db84250 ]] {\r\n",
       "}\r\n",
       "comp usage \"engine2: Engine\" as E4  <<(T,blue) part>> [[psysml:3a9a647b-2fd2-49b6-8a5f-7ce1649088e0 ]] {\r\n",
       "}\r\n",
       "comp usage \"engineTradeStudy: TradeStudy\" as E5 << analysis>> [[psysml:4b9a9840-0888-40ad-997b-4be591991c45 ]] {\r\n",
       "}\r\n",
       "comp usage \"tradeStudyObjective: MaximizeObjective\" as E6  <<(T,blue) requirement>> [[psysml:6d56d509-a272-42e3-905c-0e1bbd246da0 ]] {\r\n",
       "}\r\n",
       "comp usage \"selectedAlternative: Engine\" as E7  <<(T,blue) part>> [[psysml:d0667918-a428-4729-9680-50da29281cd4 ]] {\r\n",
       "}\r\n",
       "}\r\n",
       "E3 - -:|> E2 [[psysml:2c927883-7b33-4f30-b07f-44dca6adebf7 ]] \r\n",
       "E4 - -:|> E2 [[psysml:59e46c20-b41c-4b83-8c8c-eff5ad41f1d7 ]] \r\n",
       "E5 ..> E2 [[psysml:d5cbdaa6-c586-4ab8-b2f7-038eda38592d ]] : <<subject>>\r\n",
       "E5 - ->> E6 [[psysml:14d02f99-86ef-419d-b64f-b983855c21b7 ]] : <<objective>>\r\n",
       "E5 o- - \"1\"E7 [[psysml:44393528-ee32-422a-b73c-7e5d578e1b67 ]] \r\n",
       "E7 - -:|> E2 [[psysml:fe7d5224-67e7-4f42-a679-f87e330c9f80 ]] \r\n",
       "@enduml\r\n",
       "\n",
       "PlantUML version 1.2020.13(Sat Jun 13 12:26:38 UTC 2020)\n",
       "(EPL source distribution)\n",
       "Java Runtime: OpenJDK Runtime Environment\n",
       "JVM: OpenJDK 64-Bit Server VM\n",
       "Default Encoding: UTF-8\n",
       "Language: en\n",
       "Country: null\n",
       "--></g></svg>"
      ]
     },
     "execution_count": 10,
     "metadata": {},
     "output_type": "execute_result"
    }
   ],
   "source": [
    "%viz --style=\"POLYLINE\" --view=\"Tree\" \"TradeStudyTest\""
   ]
  },
  {
   "cell_type": "code",
   "execution_count": 11,
   "id": "76deeef1",
   "metadata": {
    "execution": {
     "iopub.execute_input": "2021-10-03T08:30:36.584482Z",
     "iopub.status.busy": "2021-10-03T08:30:36.584053Z",
     "iopub.status.idle": "2021-10-03T08:30:36.590541Z",
     "shell.execute_reply": "2021-10-03T08:30:36.590861Z"
    }
   },
   "outputs": [
    {
     "data": {
      "image/svg+xml": [
       "<?xml version=\"1.0\" encoding=\"UTF-8\" standalone=\"no\"?><svg xmlns=\"http://www.w3.org/2000/svg\" xmlns:xlink=\"http://www.w3.org/1999/xlink\" contentScriptType=\"application/ecmascript\" contentStyleType=\"text/css\" height=\"12px\" preserveAspectRatio=\"none\" style=\"width:12px;height:12px;\" version=\"1.1\" viewBox=\"0 0 12 12\" width=\"12px\" zoomAndPan=\"magnify\"><defs/><g><!--MD5=[896ac0e7a515d8dd7765a661cb4ee08b]\n",
       "@startuml\r\n",
       "skinparam linetype polyline\r\n",
       "skinparam monochrome true\r\n",
       "skinparam classbackgroundcolor white\r\n",
       "skinparam shadowing false\r\n",
       "skinparam wrapWidth 300\r\n",
       "hide circle\r\n",
       "\r\n",
       "@enduml\r\n",
       "\n",
       "PlantUML version 1.2020.13(Sat Jun 13 12:26:38 UTC 2020)\n",
       "(EPL source distribution)\n",
       "Java Runtime: OpenJDK Runtime Environment\n",
       "JVM: OpenJDK 64-Bit Server VM\n",
       "Default Encoding: UTF-8\n",
       "Language: en\n",
       "Country: null\n",
       "--></g></svg>"
      ]
     },
     "execution_count": 11,
     "metadata": {},
     "output_type": "execute_result"
    }
   ],
   "source": [
    "%viz --style=\"POLYLINE\" --view=\"State\" \"TradeStudyTest\""
   ]
  },
  {
   "cell_type": "code",
   "execution_count": 12,
   "id": "d37ec3b8",
   "metadata": {
    "execution": {
     "iopub.execute_input": "2021-10-03T08:30:36.640761Z",
     "iopub.status.busy": "2021-10-03T08:30:36.640362Z",
     "iopub.status.idle": "2021-10-03T08:30:36.692033Z",
     "shell.execute_reply": "2021-10-03T08:30:36.692455Z"
    }
   },
   "outputs": [
    {
     "data": {
      "image/svg+xml": [
       "<?xml version=\"1.0\" encoding=\"UTF-8\" standalone=\"no\"?><svg xmlns=\"http://www.w3.org/2000/svg\" xmlns:xlink=\"http://www.w3.org/1999/xlink\" contentScriptType=\"application/ecmascript\" contentStyleType=\"text/css\" height=\"334px\" preserveAspectRatio=\"none\" style=\"width:566px;height:334px;\" version=\"1.1\" viewBox=\"0 0 566 334\" width=\"566px\" zoomAndPan=\"magnify\"><defs/><g><!--MD5=[fbc87193dbaf4d95561dea2c320d4a47]\n",
       "cluster E1--><a href=\"psysml:ee7e22b2-7ed6-4f2c-8628-ec59eb221ec4\" target=\"_top\" title=\"psysml:ee7e22b2-7ed6-4f2c-8628-ec59eb221ec4\" xlink:actuate=\"onRequest\" xlink:href=\"psysml:ee7e22b2-7ed6-4f2c-8628-ec59eb221ec4\" xlink:show=\"new\" xlink:title=\"psysml:ee7e22b2-7ed6-4f2c-8628-ec59eb221ec4\" xlink:type=\"simple\"><polygon fill=\"#FFFFFF\" points=\"16,6,132,6,139,28.2969,544,28.2969,544,322,16,322,16,6\" style=\"stroke: #000000; stroke-width: 1.5;\"/><line style=\"stroke: #000000; stroke-width: 1.5;\" x1=\"16\" x2=\"139\" y1=\"28.2969\" y2=\"28.2969\"/><text fill=\"#000000\" font-family=\"sans-serif\" font-size=\"14\" font-weight=\"bold\" lengthAdjust=\"spacingAndGlyphs\" textLength=\"110\" x=\"20\" y=\"20.9951\">TradeStudyTest</text></a><!--MD5=[270fce915f116d4de14055a7c1d9a0f3]\n",
       "class E5--><a href=\"psysml:4b9a9840-0888-40ad-997b-4be591991c45\" target=\"_top\" title=\"psysml:4b9a9840-0888-40ad-997b-4be591991c45\" xlink:actuate=\"onRequest\" xlink:href=\"psysml:4b9a9840-0888-40ad-997b-4be591991c45\" xlink:show=\"new\" xlink:title=\"psysml:4b9a9840-0888-40ad-997b-4be591991c45\" xlink:type=\"simple\"><rect fill=\"#FFFFFF\" height=\"45.9375\" id=\"E5\" rx=\"10\" ry=\"10\" style=\"stroke: #383838; stroke-width: 1.5;\" width=\"199\" x=\"328.5\" y=\"41\"/><text fill=\"#000000\" font-family=\"sans-serif\" font-size=\"12\" font-style=\"italic\" lengthAdjust=\"spacingAndGlyphs\" textLength=\"64\" x=\"396\" y=\"57.1387\">«analysis»</text><text fill=\"#000000\" font-family=\"sans-serif\" font-size=\"12\" lengthAdjust=\"spacingAndGlyphs\" textLength=\"193\" x=\"331.5\" y=\"71.1074\">engineTradeStudy: TradeStudy</text><line style=\"stroke: #383838; stroke-width: 1.5;\" x1=\"329.5\" x2=\"526.5\" y1=\"78.9375\" y2=\"78.9375\"/></a><!--MD5=[60a26617385b1d2d0262a64233df1f8d]\n",
       "class E6--><a href=\"psysml:6d56d509-a272-42e3-905c-0e1bbd246da0\" target=\"_top\" title=\"psysml:6d56d509-a272-42e3-905c-0e1bbd246da0\" xlink:actuate=\"onRequest\" xlink:href=\"psysml:6d56d509-a272-42e3-905c-0e1bbd246da0\" xlink:show=\"new\" xlink:title=\"psysml:6d56d509-a272-42e3-905c-0e1bbd246da0\" xlink:type=\"simple\"><rect fill=\"#FFFFFF\" height=\"45.9375\" id=\"E6\" rx=\"10\" ry=\"10\" style=\"stroke: #383838; stroke-width: 1.5;\" width=\"251\" x=\"32.5\" y=\"120\"/><text fill=\"#000000\" font-family=\"sans-serif\" font-size=\"12\" font-style=\"italic\" lengthAdjust=\"spacingAndGlyphs\" textLength=\"91\" x=\"112.5\" y=\"136.1387\">«requirement»</text><text fill=\"#000000\" font-family=\"sans-serif\" font-size=\"12\" lengthAdjust=\"spacingAndGlyphs\" textLength=\"245\" x=\"35.5\" y=\"150.1074\">tradeStudyObjective: MaximizeObjective</text><line style=\"stroke: #383838; stroke-width: 1.5;\" x1=\"33.5\" x2=\"282.5\" y1=\"157.9375\" y2=\"157.9375\"/></a><!--MD5=[2156ba9850f5573cc1fc38a6a4b2f02b]\n",
       "class E7--><a href=\"psysml:0d158b00-d202-4b1f-90aa-9fc427f4eb2b\" target=\"_top\" title=\"psysml:0d158b00-d202-4b1f-90aa-9fc427f4eb2b\" xlink:actuate=\"onRequest\" xlink:href=\"psysml:0d158b00-d202-4b1f-90aa-9fc427f4eb2b\" xlink:show=\"new\" xlink:title=\"psysml:0d158b00-d202-4b1f-90aa-9fc427f4eb2b\" xlink:type=\"simple\"><rect fill=\"#FFFFFF\" height=\"45.9375\" id=\"E7\" rx=\"10\" ry=\"10\" style=\"stroke: #383838; stroke-width: 1.5;\" width=\"116\" x=\"319\" y=\"120\"/><text fill=\"#000000\" font-family=\"sans-serif\" font-size=\"12\" font-style=\"italic\" lengthAdjust=\"spacingAndGlyphs\" textLength=\"82\" x=\"336\" y=\"136.1387\">«calculation»</text><text fill=\"#000000\" font-family=\"sans-serif\" font-size=\"12\" lengthAdjust=\"spacingAndGlyphs\" textLength=\"110\" x=\"322\" y=\"150.1074\">objectiveFunction</text><line style=\"stroke: #383838; stroke-width: 1.5;\" x1=\"320\" x2=\"434\" y1=\"157.9375\" y2=\"157.9375\"/></a><!--MD5=[b9389687b975829384b498ac4b7476b2]\n",
       "class E8--><a href=\"psysml:e8d66f1b-2710-4767-99ee-f2812ccd7696\" target=\"_top\" title=\"psysml:e8d66f1b-2710-4767-99ee-f2812ccd7696\" xlink:actuate=\"onRequest\" xlink:href=\"psysml:e8d66f1b-2710-4767-99ee-f2812ccd7696\" xlink:show=\"new\" xlink:title=\"psysml:e8d66f1b-2710-4767-99ee-f2812ccd7696\" xlink:type=\"simple\"><rect fill=\"#FFFFFF\" height=\"31.9688\" id=\"E8\" rx=\"10\" ry=\"10\" style=\"stroke: #383838; stroke-width: 1.5;\" width=\"124\" x=\"178\" y=\"214\"/><text fill=\"#000000\" font-family=\"sans-serif\" font-size=\"12\" lengthAdjust=\"spacingAndGlyphs\" textLength=\"118\" x=\"181\" y=\"230.1387\">alternative: Engine</text><line style=\"stroke: #383838; stroke-width: 1.5;\" x1=\"179\" x2=\"301\" y1=\"237.9688\" y2=\"237.9688\"/></a><!--MD5=[fd4143e9d270a159db93a4ea2a975926]\n",
       "class E9--><a href=\"psysml:d0667918-a428-4729-9680-50da29281cd4\" target=\"_top\" title=\"psysml:d0667918-a428-4729-9680-50da29281cd4\" xlink:actuate=\"onRequest\" xlink:href=\"psysml:d0667918-a428-4729-9680-50da29281cd4\" xlink:show=\"new\" xlink:title=\"psysml:d0667918-a428-4729-9680-50da29281cd4\" xlink:type=\"simple\"><rect fill=\"#FFFFFF\" height=\"31.9688\" id=\"E9\" rx=\"10\" ry=\"10\" style=\"stroke: #383838; stroke-width: 1.5;\" width=\"178\" x=\"246\" y=\"174\"/><text fill=\"#000000\" font-family=\"sans-serif\" font-size=\"12\" lengthAdjust=\"spacingAndGlyphs\" textLength=\"172\" x=\"249\" y=\"190.1387\">selectedAlternative: Engine</text><line style=\"stroke: #383838; stroke-width: 1.5;\" x1=\"247\" x2=\"423\" y1=\"197.9688\" y2=\"197.9688\"/></a><g id=\"E1.E2\"><a href=\"psysml:6dc2e48d-4c08-4400-bc60-82a531af2780\" target=\"_top\" title=\"psysml:6dc2e48d-4c08-4400-bc60-82a531af2780\" xlink:actuate=\"onRequest\" xlink:href=\"psysml:6dc2e48d-4c08-4400-bc60-82a531af2780\" xlink:show=\"new\" xlink:title=\"psysml:6dc2e48d-4c08-4400-bc60-82a531af2780\" xlink:type=\"simple\"><rect fill=\"#FFFFFF\" height=\"42.9375\" id=\"E2\" style=\"stroke: #383838; stroke-width: 1.5;\" width=\"71\" x=\"302.5\" y=\"263\"/><rect fill=\"#F8F8F8\" height=\"37.9375\" style=\"stroke: #383838; stroke-width: 1.5;\" width=\"71\" x=\"302.5\" y=\"263\"/><text fill=\"#000000\" font-family=\"sans-serif\" font-size=\"12\" font-style=\"italic\" lengthAdjust=\"spacingAndGlyphs\" textLength=\"64\" x=\"306\" y=\"279.1387\">«part def»</text><text fill=\"#000000\" font-family=\"sans-serif\" font-size=\"12\" lengthAdjust=\"spacingAndGlyphs\" textLength=\"43\" x=\"316.5\" y=\"293.1074\">Engine</text></a></g><g id=\"E1.E3\"><a href=\"psysml:3defd9be-3b5d-4c6d-8f79-df776db84250\" target=\"_top\" title=\"psysml:3defd9be-3b5d-4c6d-8f79-df776db84250\" xlink:actuate=\"onRequest\" xlink:href=\"psysml:3defd9be-3b5d-4c6d-8f79-df776db84250\" xlink:show=\"new\" xlink:title=\"psysml:3defd9be-3b5d-4c6d-8f79-df776db84250\" xlink:type=\"simple\"><rect fill=\"#FFFFFF\" height=\"40\" id=\"E3\" rx=\"10\" ry=\"10\" style=\"stroke: #383838; stroke-width: 1.5;\" width=\"113\" x=\"180.5\" y=\"44\"/><rect fill=\"#F8F8F8\" height=\"23.9688\" rx=\"10\" ry=\"10\" style=\"stroke: #F8F8F8; stroke-width: 1.5;\" width=\"113\" x=\"180.5\" y=\"44\"/><rect fill=\"#F8F8F8\" height=\"10\" style=\"stroke: #F8F8F8; stroke-width: 1.5;\" width=\"113\" x=\"180.5\" y=\"57.9688\"/><rect fill=\"none\" height=\"40\" id=\"E3\" rx=\"10\" ry=\"10\" style=\"stroke: #383838; stroke-width: 1.5;\" width=\"113\" x=\"180.5\" y=\"44\"/><text fill=\"#000000\" font-family=\"sans-serif\" font-size=\"12\" lengthAdjust=\"spacingAndGlyphs\" textLength=\"102\" x=\"186\" y=\"60.1387\">engine1: Engine</text></a></g><g id=\"E1.E4\"><a href=\"psysml:3a9a647b-2fd2-49b6-8a5f-7ce1649088e0\" target=\"_top\" title=\"psysml:3a9a647b-2fd2-49b6-8a5f-7ce1649088e0\" xlink:actuate=\"onRequest\" xlink:href=\"psysml:3a9a647b-2fd2-49b6-8a5f-7ce1649088e0\" xlink:show=\"new\" xlink:title=\"psysml:3a9a647b-2fd2-49b6-8a5f-7ce1649088e0\" xlink:type=\"simple\"><rect fill=\"#FFFFFF\" height=\"40\" id=\"E4\" rx=\"10\" ry=\"10\" style=\"stroke: #383838; stroke-width: 1.5;\" width=\"113\" x=\"32.5\" y=\"44\"/><rect fill=\"#F8F8F8\" height=\"23.9688\" rx=\"10\" ry=\"10\" style=\"stroke: #F8F8F8; stroke-width: 1.5;\" width=\"113\" x=\"32.5\" y=\"44\"/><rect fill=\"#F8F8F8\" height=\"10\" style=\"stroke: #F8F8F8; stroke-width: 1.5;\" width=\"113\" x=\"32.5\" y=\"57.9688\"/><rect fill=\"none\" height=\"40\" id=\"E4\" rx=\"10\" ry=\"10\" style=\"stroke: #383838; stroke-width: 1.5;\" width=\"113\" x=\"32.5\" y=\"44\"/><text fill=\"#000000\" font-family=\"sans-serif\" font-size=\"12\" lengthAdjust=\"spacingAndGlyphs\" textLength=\"102\" x=\"38\" y=\"60.1387\">engine2: Engine</text></a></g><!--MD5=[15ebcb19ae302d9b601edb458606d402]\n",
       "link E5 to E2--><a href=\"psysml:d5cbdaa6-c586-4ab8-b2f7-038eda38592d\" target=\"_top\" title=\"psysml:d5cbdaa6-c586-4ab8-b2f7-038eda38592d\" xlink:actuate=\"onRequest\" xlink:href=\"psysml:d5cbdaa6-c586-4ab8-b2f7-038eda38592d\" xlink:show=\"new\" xlink:title=\"psysml:d5cbdaa6-c586-4ab8-b2f7-038eda38592d\" xlink:type=\"simple\"><path d=\"M447.17,87.12 C451.07,91.61 454,95 454,95 C454,95 462,120 462,120 C462,120 462,166 462,166 C462,166 425,206 425,206 C425,206 390.84,236.43 365.33,259.16 \" fill=\"none\" id=\"E5-&gt;E2\" style=\"stroke: #383838; stroke-width: 1.0; stroke-dasharray: 7.0,7.0;\"/><polygon fill=\"#383838\" points=\"361.31,262.73,370.6877,259.7203,365.0399,259.4002,365.3601,253.7524,361.31,262.73\" style=\"stroke: #383838; stroke-width: 1.0;\"/><text fill=\"#000000\" font-family=\"sans-serif\" font-size=\"13\" lengthAdjust=\"spacingAndGlyphs\" textLength=\"62\" x=\"455\" y=\"194.5669\">«subject»</text></a><!--MD5=[9120cf2e5df3bff93db8f754bbbc09b4]\n",
       "link E5 to E6--><a href=\"psysml:14d02f99-86ef-419d-b64f-b983855c21b7\" target=\"_top\" title=\"psysml:14d02f99-86ef-419d-b64f-b983855c21b7\" xlink:actuate=\"onRequest\" xlink:href=\"psysml:14d02f99-86ef-419d-b64f-b983855c21b7\" xlink:show=\"new\" xlink:title=\"psysml:14d02f99-86ef-419d-b64f-b983855c21b7\" xlink:type=\"simple\"><path d=\"M344.25,87.04 C327.02,91.57 314,95 314,95 C314,95 277.3,106.06 239.5,117.45 \" fill=\"none\" id=\"E5-&gt;E6\" style=\"stroke: #383838; stroke-width: 1.0;\"/><polygon fill=\"#383838\" points=\"231.43,119.88,239.9558,120.4372,238.2199,114.6938,231.43,119.88\" style=\"stroke: #383838; stroke-width: 1.0;\"/><text fill=\"#000000\" font-family=\"sans-serif\" font-size=\"13\" lengthAdjust=\"spacingAndGlyphs\" textLength=\"73\" x=\"315\" y=\"108.0669\">«objective»</text></a><!--MD5=[452b418e7f8a40397a49b8c0a78acc5b]\n",
       "reverse link E5 to E7--><a href=\"psysml:60238b1f-3640-4bef-bde7-54f879504707\" target=\"_top\" title=\"psysml:60238b1f-3640-4bef-bde7-54f879504707\" xlink:actuate=\"onRequest\" xlink:href=\"psysml:60238b1f-3640-4bef-bde7-54f879504707\" xlink:show=\"new\" xlink:title=\"psysml:60238b1f-3640-4bef-bde7-54f879504707\" xlink:type=\"simple\"><path d=\"M405.93,98.32 C401.13,105.57 396.16,113.08 391.72,119.78 \" fill=\"none\" id=\"E5&lt;-E7\" style=\"stroke: #383838; stroke-width: 1.0;\"/><polygon fill=\"#383838\" points=\"413.25,87.27,406.6021,90.0638,406.6241,97.2749,413.272,94.4811,413.25,87.27\" style=\"stroke: #383838; stroke-width: 1.0;\"/></a><!--MD5=[dc164f5e8a733ab456ef1add180e9e34]\n",
       "reverse link E7 to E8--><a href=\"psysml:83c02207-4172-44b5-b5b3-edd55ab7c0db\" target=\"_top\" title=\"psysml:83c02207-4172-44b5-b5b3-edd55ab7c0db\" xlink:actuate=\"onRequest\" xlink:href=\"psysml:83c02207-4172-44b5-b5b3-edd55ab7c0db\" xlink:show=\"new\" xlink:title=\"psysml:83c02207-4172-44b5-b5b3-edd55ab7c0db\" xlink:type=\"simple\"><path d=\"M305.99,164.56 C302.86,165.46 301,166 301,166 C301,166 245,174 245,174 C245,174 242.85,197.69 241.37,213.97 \" fill=\"none\" id=\"E7&lt;-E8\" style=\"stroke: #383838; stroke-width: 1.0;\"/><polygon fill=\"#FFFFFF\" points=\"318.63,160.9,311.7544,158.7261,307.1032,164.2367,313.9788,166.4106,318.63,160.9\" style=\"stroke: #383838; stroke-width: 1.0;\"/><text fill=\"#000000\" font-family=\"sans-serif\" font-size=\"13\" lengthAdjust=\"spacingAndGlyphs\" textLength=\"8\" x=\"229.8486\" y=\"203.2022\">1</text></a><!--MD5=[f1f3f9f2fc535e6147756cb86a7f2e32]\n",
       "link E8 to E2--><a href=\"psysml:3fd357fc-9742-4e4a-b08f-00e5f8b92b2e\" target=\"_top\" title=\"psysml:3fd357fc-9742-4e4a-b08f-00e5f8b92b2e\" xlink:actuate=\"onRequest\" xlink:href=\"psysml:3fd357fc-9742-4e4a-b08f-00e5f8b92b2e\" xlink:show=\"new\" xlink:title=\"psysml:3fd357fc-9742-4e4a-b08f-00e5f8b92b2e\" xlink:type=\"simple\"><path d=\"M268.08,246.04 C273.23,248.8 278.76,251.77 284.38,254.77 \" fill=\"none\" id=\"E8-&gt;E2\" style=\"stroke: #383838; stroke-width: 1.0;\"/><polygon fill=\"#FFFFFF\" points=\"302.21,264.33,282.1553,261.5358,288.7616,249.1926,302.21,264.33\" style=\"stroke: #383838; stroke-width: 1.0;\"/><ellipse cx=\"278.0736\" cy=\"257.0828\" fill=\"#383838\" rx=\"2\" ry=\"2\" style=\"stroke: #383838; stroke-width: 1.0;\"/><ellipse cx=\"282.7924\" cy=\"248.2661\" fill=\"#383838\" rx=\"2\" ry=\"2\" style=\"stroke: #383838; stroke-width: 1.0;\"/></a><!--MD5=[9ae28de373ca99bb8a1b38d63370ca7e]\n",
       "reverse link E5 to E9--><a href=\"psysml:44393528-ee32-422a-b73c-7e5d578e1b67\" target=\"_top\" title=\"psysml:44393528-ee32-422a-b73c-7e5d578e1b67\" xlink:actuate=\"onRequest\" xlink:href=\"psysml:44393528-ee32-422a-b73c-7e5d578e1b67\" xlink:show=\"new\" xlink:title=\"psysml:44393528-ee32-422a-b73c-7e5d578e1b67\" xlink:type=\"simple\"><path d=\"M443.46,99.01 C448.58,110.28 453,120 453,120 C453,120 453,166 453,166 C453,166 434.45,169.62 412.06,173.98 \" fill=\"none\" id=\"E5&lt;-E9\" style=\"stroke: #383838; stroke-width: 1.0;\"/><polygon fill=\"#FFFFFF\" points=\"438.02,87.05,436.8555,94.1665,442.9767,97.9785,444.1412,90.862,438.02,87.05\" style=\"stroke: #383838; stroke-width: 1.0;\"/><text fill=\"#000000\" font-family=\"sans-serif\" font-size=\"13\" lengthAdjust=\"spacingAndGlyphs\" textLength=\"8\" x=\"432.1312\" y=\"185.3289\">1</text></a><!--MD5=[5c3bb36fe832a92c7f0e1807dd65209d]\n",
       "link E9 to E2--><a href=\"psysml:fe7d5224-67e7-4f42-a679-f87e330c9f80\" target=\"_top\" title=\"psysml:fe7d5224-67e7-4f42-a679-f87e330c9f80\" xlink:actuate=\"onRequest\" xlink:href=\"psysml:fe7d5224-67e7-4f42-a679-f87e330c9f80\" xlink:show=\"new\" xlink:title=\"psysml:fe7d5224-67e7-4f42-a679-f87e330c9f80\" xlink:type=\"simple\"><path d=\"M335.5,206.27 C335.82,216.14 336.25,229.48 336.66,242.29 \" fill=\"none\" id=\"E9-&gt;E2\" style=\"stroke: #383838; stroke-width: 1.0;\"/><polygon fill=\"#FFFFFF\" points=\"337.32,262.66,329.7128,243.8949,343.7055,243.4448,337.32,262.66\" style=\"stroke: #383838; stroke-width: 1.0;\"/><ellipse cx=\"331.5285\" cy=\"238.1335\" fill=\"#383838\" rx=\"2\" ry=\"2\" style=\"stroke: #383838; stroke-width: 1.0;\"/><ellipse cx=\"341.5233\" cy=\"237.812\" fill=\"#383838\" rx=\"2\" ry=\"2\" style=\"stroke: #383838; stroke-width: 1.0;\"/></a><!--MD5=[064bc78f2c98a0764694cd973c067985]\n",
       "@startuml\r\n",
       "skinparam ranksep 10\r\n",
       "skinparam rectangle {\r\n",
       " backgroundColor<<block>> LightGreen\r\n",
       "}\r\n",
       "skinparam linetype polyline\r\n",
       "skinparam monochrome true\r\n",
       "skinparam classbackgroundcolor white\r\n",
       "skinparam shadowing false\r\n",
       "skinparam wrapWidth 300\r\n",
       "hide circle\r\n",
       "\r\n",
       "package \"TradeStudyTest\" as E1  [[psysml:ee7e22b2-7ed6-4f2c-8628-ec59eb221ec4 ]]  {\r\n",
       "rec def \"Engine\" as E2  <<(T,blue) part def>> [[psysml:6dc2e48d-4c08-4400-bc60-82a531af2780 ]] {\r\n",
       "}\r\n",
       "rec usage \"engine1: Engine\" as E3  [[psysml:3defd9be-3b5d-4c6d-8f79-df776db84250 ]] {\r\n",
       "}\r\n",
       "rec usage \"engine2: Engine\" as E4  [[psysml:3a9a647b-2fd2-49b6-8a5f-7ce1649088e0 ]] {\r\n",
       "}\r\n",
       "comp usage \"engineTradeStudy: TradeStudy\" as E5 << analysis>> [[psysml:4b9a9840-0888-40ad-997b-4be591991c45 ]] {\r\n",
       "}\r\n",
       "comp usage \"tradeStudyObjective: MaximizeObjective\" as E6  <<(T,blue) requirement>> [[psysml:6d56d509-a272-42e3-905c-0e1bbd246da0 ]] {\r\n",
       "}\r\n",
       "comp usage \"objectiveFunction\" as E7  <<(T,blue) calculation>> [[psysml:0d158b00-d202-4b1f-90aa-9fc427f4eb2b ]] {\r\n",
       "}\r\n",
       "comp usage \"alternative: Engine\" as E8  [[psysml:e8d66f1b-2710-4767-99ee-f2812ccd7696 ]] {\r\n",
       "}\r\n",
       "comp usage \"selectedAlternative: Engine\" as E9  [[psysml:d0667918-a428-4729-9680-50da29281cd4 ]] {\r\n",
       "}\r\n",
       "}\r\n",
       "E5 ..> E2 [[psysml:d5cbdaa6-c586-4ab8-b2f7-038eda38592d ]] : <<subject>>\r\n",
       "E5 - ->> E6 [[psysml:14d02f99-86ef-419d-b64f-b983855c21b7 ]] : <<objective>>\r\n",
       "E5 *- - E7 [[psysml:60238b1f-3640-4bef-bde7-54f879504707 ]] \r\n",
       "E7 o- - \"1\"E8 [[psysml:83c02207-4172-44b5-b5b3-edd55ab7c0db ]] \r\n",
       "E8 - -:|> E2 [[psysml:3fd357fc-9742-4e4a-b08f-00e5f8b92b2e ]] \r\n",
       "E5 o- - \"1\"E9 [[psysml:44393528-ee32-422a-b73c-7e5d578e1b67 ]] \r\n",
       "E9 - -:|> E2 [[psysml:fe7d5224-67e7-4f42-a679-f87e330c9f80 ]] \r\n",
       "@enduml\r\n",
       "\n",
       "PlantUML version 1.2020.13(Sat Jun 13 12:26:38 UTC 2020)\n",
       "(EPL source distribution)\n",
       "Java Runtime: OpenJDK Runtime Environment\n",
       "JVM: OpenJDK 64-Bit Server VM\n",
       "Default Encoding: UTF-8\n",
       "Language: en\n",
       "Country: null\n",
       "--></g></svg>"
      ]
     },
     "execution_count": 12,
     "metadata": {},
     "output_type": "execute_result"
    }
   ],
   "source": [
    "%viz --style=\"POLYLINE\" --view=\"Interconnection\" \"TradeStudyTest\""
   ]
  },
  {
   "cell_type": "code",
   "execution_count": 13,
   "id": "040c7315",
   "metadata": {
    "execution": {
     "iopub.execute_input": "2021-10-03T08:30:36.741606Z",
     "iopub.status.busy": "2021-10-03T08:30:36.741188Z",
     "iopub.status.idle": "2021-10-03T08:30:36.783695Z",
     "shell.execute_reply": "2021-10-03T08:30:36.784046Z"
    }
   },
   "outputs": [
    {
     "data": {
      "image/svg+xml": [
       "<?xml version=\"1.0\" encoding=\"UTF-8\" standalone=\"no\"?><svg xmlns=\"http://www.w3.org/2000/svg\" xmlns:xlink=\"http://www.w3.org/1999/xlink\" contentScriptType=\"application/ecmascript\" contentStyleType=\"text/css\" height=\"178px\" preserveAspectRatio=\"none\" style=\"width:434px;height:178px;\" version=\"1.1\" viewBox=\"0 0 434 178\" width=\"434px\" zoomAndPan=\"magnify\"><defs/><g><!--MD5=[fbc87193dbaf4d95561dea2c320d4a47]\n",
       "cluster E1--><a href=\"psysml:4b9a9840-0888-40ad-997b-4be591991c45\" target=\"_top\" title=\"psysml:4b9a9840-0888-40ad-997b-4be591991c45\" xlink:actuate=\"onRequest\" xlink:href=\"psysml:4b9a9840-0888-40ad-997b-4be591991c45\" xlink:show=\"new\" xlink:title=\"psysml:4b9a9840-0888-40ad-997b-4be591991c45\" xlink:type=\"simple\"><rect fill=\"#FFFFFF\" height=\"103.72\" id=\"E1\" rx=\"10\" ry=\"10\" style=\"stroke: #383838; stroke-width: 1.5;\" width=\"327\" x=\"47\" y=\"42.0986\"/><rect fill=\"#F8F8F8\" height=\"37.9375\" rx=\"10\" ry=\"10\" style=\"stroke: #F8F8F8; stroke-width: 1.5;\" width=\"327\" x=\"47\" y=\"42.0986\"/><rect fill=\"#F8F8F8\" height=\"10\" style=\"stroke: #F8F8F8; stroke-width: 1.5;\" width=\"327\" x=\"47\" y=\"70.0361\"/><rect fill=\"none\" height=\"103.72\" id=\"E1\" rx=\"10\" ry=\"10\" style=\"stroke: #383838; stroke-width: 1.5;\" width=\"327\" x=\"47\" y=\"42.0986\"/><text fill=\"#000000\" font-family=\"sans-serif\" font-size=\"12\" font-style=\"italic\" lengthAdjust=\"spacingAndGlyphs\" textLength=\"64\" x=\"178.5\" y=\"58.2373\">«analysis»</text><text fill=\"#000000\" font-family=\"sans-serif\" font-size=\"12\" lengthAdjust=\"spacingAndGlyphs\" textLength=\"114\" x=\"153.5\" y=\"72.2061\">engineTradeStudy</text><line style=\"stroke: #383838; stroke-width: 1.0;\" x1=\"47\" x2=\"374\" y1=\"80.0361\" y2=\"80.0361\"/></a><!--MD5=[d5e69f78d87373223dbae638b30a9c99]\n",
       "cluster E3--><a href=\"psysml:0d158b00-d202-4b1f-90aa-9fc427f4eb2b\" target=\"_top\" title=\"psysml:0d158b00-d202-4b1f-90aa-9fc427f4eb2b\" xlink:actuate=\"onRequest\" xlink:href=\"psysml:0d158b00-d202-4b1f-90aa-9fc427f4eb2b\" xlink:show=\"new\" xlink:title=\"psysml:0d158b00-d202-4b1f-90aa-9fc427f4eb2b\" xlink:type=\"simple\"><rect fill=\"#FFFFFF\" height=\"81.72\" id=\"E3\" rx=\"10\" ry=\"10\" style=\"stroke: #383838; stroke-width: 1.5;\" width=\"132\" x=\"214.125\" y=\"64.0986\"/><rect fill=\"#F8F8F8\" height=\"37.9375\" rx=\"10\" ry=\"10\" style=\"stroke: #F8F8F8; stroke-width: 1.5;\" width=\"132\" x=\"214.125\" y=\"64.0986\"/><rect fill=\"#F8F8F8\" height=\"10\" style=\"stroke: #F8F8F8; stroke-width: 1.5;\" width=\"132\" x=\"214.125\" y=\"92.0361\"/><rect fill=\"none\" height=\"81.72\" id=\"E3\" rx=\"10\" ry=\"10\" style=\"stroke: #383838; stroke-width: 1.5;\" width=\"132\" x=\"214.125\" y=\"64.0986\"/><text fill=\"#000000\" font-family=\"sans-serif\" font-size=\"12\" font-style=\"italic\" lengthAdjust=\"spacingAndGlyphs\" textLength=\"82\" x=\"239.125\" y=\"80.2373\">«calculation»</text><text fill=\"#000000\" font-family=\"sans-serif\" font-size=\"12\" lengthAdjust=\"spacingAndGlyphs\" textLength=\"110\" x=\"225.125\" y=\"94.2061\">objectiveFunction</text><line style=\"stroke: #383838; stroke-width: 1.0;\" x1=\"214.125\" x2=\"346.125\" y1=\"102.0361\" y2=\"102.0361\"/></a><text fill=\"#000000\" font-family=\"sans-serif\" font-size=\"14\" lengthAdjust=\"spacingAndGlyphs\" textLength=\"118\" x=\"6\" y=\"20.7969\">studyAlternatives</text><rect fill=\"#383838\" height=\"12\" style=\"stroke: #F8F8F8; stroke-width: 1.5;\" width=\"12\" x=\"59\" y=\"36.0986\"/><text fill=\"#000000\" font-family=\"sans-serif\" font-size=\"14\" lengthAdjust=\"spacingAndGlyphs\" textLength=\"132\" x=\"290\" y=\"164.8138\">selectedAlternative</text><rect fill=\"#383838\" height=\"12\" style=\"stroke: #F8F8F8; stroke-width: 1.5;\" width=\"12\" x=\"350\" y=\"139.8186\"/><text fill=\"#000000\" font-family=\"sans-serif\" font-size=\"14\" lengthAdjust=\"spacingAndGlyphs\" textLength=\"39\" x=\"215.5\" y=\"164.8138\">result</text><rect fill=\"#383838\" height=\"12\" style=\"stroke: #F8F8F8; stroke-width: 1.5;\" width=\"12\" x=\"229\" y=\"139.8186\"/><!--MD5=[97d00134ea950f08d00e3d08cdfac232]\n",
       "@startuml\r\n",
       "skinparam ranksep 8\r\n",
       "skinparam linetype polyline\r\n",
       "skinparam monochrome true\r\n",
       "skinparam classbackgroundcolor white\r\n",
       "skinparam shadowing false\r\n",
       "skinparam wrapWidth 300\r\n",
       "hide circle\r\n",
       "\r\n",
       "rec usage \"engineTradeStudy\" as E1 << analysis>> [[psysml:4b9a9840-0888-40ad-997b-4be591991c45 ]] {\r\n",
       "portin \"studyAlternatives\" as E2  [[psysml:176bf709-9374-41f7-af5d-a9b046d4ad5e ]] \r\n",
       "rec usage \"objectiveFunction\" as E3  <<(T,blue) calculation>> [[psysml:0d158b00-d202-4b1f-90aa-9fc427f4eb2b ]] {\r\n",
       "portout \"result\" as E4  [[psysml:5b5a7b7b-7538-4fc2-96bb-574f08f8230e ]] \r\n",
       "}\r\n",
       "\r\n",
       "portout \"selectedAlternative\" as E5  [[psysml:d0667918-a428-4729-9680-50da29281cd4 ]] \r\n",
       "}\r\n",
       "\r\n",
       "@enduml\r\n",
       "\n",
       "PlantUML version 1.2020.13(Sat Jun 13 12:26:38 UTC 2020)\n",
       "(EPL source distribution)\n",
       "Java Runtime: OpenJDK Runtime Environment\n",
       "JVM: OpenJDK 64-Bit Server VM\n",
       "Default Encoding: UTF-8\n",
       "Language: en\n",
       "Country: null\n",
       "--></g></svg>"
      ]
     },
     "execution_count": 13,
     "metadata": {},
     "output_type": "execute_result"
    }
   ],
   "source": [
    "%viz --style=\"POLYLINE\" --view=\"Action\" \"TradeStudyTest\""
   ]
  },
  {
   "cell_type": "code",
   "execution_count": 14,
   "id": "c4ab55fd",
   "metadata": {
    "execution": {
     "iopub.execute_input": "2021-10-03T08:30:36.833676Z",
     "iopub.status.busy": "2021-10-03T08:30:36.833263Z",
     "iopub.status.idle": "2021-10-03T08:30:36.839606Z",
     "shell.execute_reply": "2021-10-03T08:30:36.839934Z"
    }
   },
   "outputs": [
    {
     "data": {
      "image/svg+xml": [
       "<?xml version=\"1.0\" encoding=\"UTF-8\" standalone=\"no\"?><svg xmlns=\"http://www.w3.org/2000/svg\" xmlns:xlink=\"http://www.w3.org/1999/xlink\" contentScriptType=\"application/ecmascript\" contentStyleType=\"text/css\" height=\"12px\" preserveAspectRatio=\"none\" style=\"width:12px;height:12px;\" version=\"1.1\" viewBox=\"0 0 12 12\" width=\"12px\" zoomAndPan=\"magnify\"><defs/><g><!--MD5=[dc938048236c351797870c36b62f92ad]\n",
       "@startuml\r\n",
       "skinparam roundcorner 20\r\n",
       "skinparam BoxPadding 20\r\n",
       "skinparam SequenceBoxBackgroundColor #white\r\n",
       "skinparam style strictuml\r\n",
       "skinparam maxMessageSize 100\r\n",
       "skinparam linetype polyline\r\n",
       "skinparam monochrome true\r\n",
       "skinparam classbackgroundcolor white\r\n",
       "skinparam shadowing false\r\n",
       "skinparam wrapWidth 300\r\n",
       "hide circle\r\n",
       "\r\n",
       "@enduml\r\n",
       "\n",
       "PlantUML version 1.2020.13(Sat Jun 13 12:26:38 UTC 2020)\n",
       "(EPL source distribution)\n",
       "Java Runtime: OpenJDK Runtime Environment\n",
       "JVM: OpenJDK 64-Bit Server VM\n",
       "Default Encoding: UTF-8\n",
       "Language: en\n",
       "Country: null\n",
       "--></g></svg>"
      ]
     },
     "execution_count": 14,
     "metadata": {},
     "output_type": "execute_result"
    }
   ],
   "source": [
    "%viz --style=\"POLYLINE\" --view=\"Sequence\" \"TradeStudyTest\""
   ]
  },
  {
   "cell_type": "code",
   "execution_count": 15,
   "id": "d4f6a309",
   "metadata": {
    "execution": {
     "iopub.execute_input": "2021-10-03T08:30:36.889814Z",
     "iopub.status.busy": "2021-10-03T08:30:36.889415Z",
     "iopub.status.idle": "2021-10-03T08:30:36.940892Z",
     "shell.execute_reply": "2021-10-03T08:30:36.941211Z"
    }
   },
   "outputs": [
    {
     "data": {
      "image/svg+xml": [
       "<?xml version=\"1.0\" encoding=\"UTF-8\" standalone=\"no\"?><svg xmlns=\"http://www.w3.org/2000/svg\" xmlns:xlink=\"http://www.w3.org/1999/xlink\" contentScriptType=\"application/ecmascript\" contentStyleType=\"text/css\" height=\"497px\" preserveAspectRatio=\"none\" style=\"width:554px;height:497px;\" version=\"1.1\" viewBox=\"0 0 554 497\" width=\"554px\" zoomAndPan=\"magnify\"><defs/><g><!--MD5=[fbc87193dbaf4d95561dea2c320d4a47]\n",
       "cluster E1--><a href=\"psysml:ee7e22b2-7ed6-4f2c-8628-ec59eb221ec4\" target=\"_top\" title=\"psysml:ee7e22b2-7ed6-4f2c-8628-ec59eb221ec4\" xlink:actuate=\"onRequest\" xlink:href=\"psysml:ee7e22b2-7ed6-4f2c-8628-ec59eb221ec4\" xlink:show=\"new\" xlink:title=\"psysml:ee7e22b2-7ed6-4f2c-8628-ec59eb221ec4\" xlink:type=\"simple\"><polygon fill=\"#FFFFFF\" points=\"16,6,132,6,139,28.2969,532,28.2969,532,485,16,485,16,6\" style=\"stroke: #000000; stroke-width: 1.5;\"/><line style=\"stroke: #000000; stroke-width: 1.5;\" x1=\"16\" x2=\"139\" y1=\"28.2969\" y2=\"28.2969\"/><text fill=\"#000000\" font-family=\"sans-serif\" font-size=\"14\" font-weight=\"bold\" lengthAdjust=\"spacingAndGlyphs\" textLength=\"110\" x=\"20\" y=\"20.9951\">TradeStudyTest</text></a><!--MD5=[b4997ac47864f28c2f74865a473b2911]\n",
       "class E2--><a href=\"psysml:6dc2e48d-4c08-4400-bc60-82a531af2780\" target=\"_top\" title=\"psysml:6dc2e48d-4c08-4400-bc60-82a531af2780\" xlink:actuate=\"onRequest\" xlink:href=\"psysml:6dc2e48d-4c08-4400-bc60-82a531af2780\" xlink:show=\"new\" xlink:title=\"psysml:6dc2e48d-4c08-4400-bc60-82a531af2780\" xlink:type=\"simple\"><rect fill=\"#FFFFFF\" height=\"45.9375\" id=\"E2\" style=\"stroke: #383838; stroke-width: 1.5;\" width=\"66\" x=\"196\" y=\"423\"/><text fill=\"#000000\" font-family=\"sans-serif\" font-size=\"12\" font-style=\"italic\" lengthAdjust=\"spacingAndGlyphs\" textLength=\"64\" x=\"197\" y=\"439.1387\">«part def»</text><text fill=\"#000000\" font-family=\"sans-serif\" font-size=\"12\" lengthAdjust=\"spacingAndGlyphs\" textLength=\"43\" x=\"207.5\" y=\"453.1074\">Engine</text><line style=\"stroke: #383838; stroke-width: 1.5;\" x1=\"197\" x2=\"261\" y1=\"460.9375\" y2=\"460.9375\"/></a><!--MD5=[09b614a08d8cba4a07c9adeb5e0fee81]\n",
       "class E3--><a href=\"psysml:3defd9be-3b5d-4c6d-8f79-df776db84250\" target=\"_top\" title=\"psysml:3defd9be-3b5d-4c6d-8f79-df776db84250\" xlink:actuate=\"onRequest\" xlink:href=\"psysml:3defd9be-3b5d-4c6d-8f79-df776db84250\" xlink:show=\"new\" xlink:title=\"psysml:3defd9be-3b5d-4c6d-8f79-df776db84250\" xlink:type=\"simple\"><rect fill=\"#FFFFFF\" height=\"45.9375\" id=\"E3\" rx=\"10\" ry=\"10\" style=\"stroke: #383838; stroke-width: 1.5;\" width=\"108\" x=\"408\" y=\"316\"/><text fill=\"#000000\" font-family=\"sans-serif\" font-size=\"12\" font-style=\"italic\" lengthAdjust=\"spacingAndGlyphs\" textLength=\"40\" x=\"442\" y=\"332.1387\">«part»</text><text fill=\"#000000\" font-family=\"sans-serif\" font-size=\"12\" lengthAdjust=\"spacingAndGlyphs\" textLength=\"102\" x=\"411\" y=\"346.1074\">engine1: Engine</text><line style=\"stroke: #383838; stroke-width: 1.5;\" x1=\"409\" x2=\"515\" y1=\"353.9375\" y2=\"353.9375\"/></a><!--MD5=[ebbe1d658d1005bcc118a6aa81145e00]\n",
       "class E4--><a href=\"psysml:3a9a647b-2fd2-49b6-8a5f-7ce1649088e0\" target=\"_top\" title=\"psysml:3a9a647b-2fd2-49b6-8a5f-7ce1649088e0\" xlink:actuate=\"onRequest\" xlink:href=\"psysml:3a9a647b-2fd2-49b6-8a5f-7ce1649088e0\" xlink:show=\"new\" xlink:title=\"psysml:3a9a647b-2fd2-49b6-8a5f-7ce1649088e0\" xlink:type=\"simple\"><rect fill=\"#FFFFFF\" height=\"45.9375\" id=\"E4\" rx=\"10\" ry=\"10\" style=\"stroke: #383838; stroke-width: 1.5;\" width=\"108\" x=\"265\" y=\"316\"/><text fill=\"#000000\" font-family=\"sans-serif\" font-size=\"12\" font-style=\"italic\" lengthAdjust=\"spacingAndGlyphs\" textLength=\"40\" x=\"299\" y=\"332.1387\">«part»</text><text fill=\"#000000\" font-family=\"sans-serif\" font-size=\"12\" lengthAdjust=\"spacingAndGlyphs\" textLength=\"102\" x=\"268\" y=\"346.1074\">engine2: Engine</text><line style=\"stroke: #383838; stroke-width: 1.5;\" x1=\"266\" x2=\"372\" y1=\"353.9375\" y2=\"353.9375\"/></a><!--MD5=[270fce915f116d4de14055a7c1d9a0f3]\n",
       "class E5--><a href=\"psysml:4b9a9840-0888-40ad-997b-4be591991c45\" target=\"_top\" title=\"psysml:4b9a9840-0888-40ad-997b-4be591991c45\" xlink:actuate=\"onRequest\" xlink:href=\"psysml:4b9a9840-0888-40ad-997b-4be591991c45\" xlink:show=\"new\" xlink:title=\"psysml:4b9a9840-0888-40ad-997b-4be591991c45\" xlink:type=\"simple\"><rect fill=\"#FFFFFF\" height=\"45.9375\" id=\"E5\" rx=\"10\" ry=\"10\" style=\"stroke: #383838; stroke-width: 1.5;\" width=\"199\" x=\"237.5\" y=\"41\"/><text fill=\"#000000\" font-family=\"sans-serif\" font-size=\"12\" font-style=\"italic\" lengthAdjust=\"spacingAndGlyphs\" textLength=\"64\" x=\"305\" y=\"57.1387\">«analysis»</text><text fill=\"#000000\" font-family=\"sans-serif\" font-size=\"12\" lengthAdjust=\"spacingAndGlyphs\" textLength=\"193\" x=\"240.5\" y=\"71.1074\">engineTradeStudy: TradeStudy</text><line style=\"stroke: #383838; stroke-width: 1.5;\" x1=\"238.5\" x2=\"435.5\" y1=\"78.9375\" y2=\"78.9375\"/></a><!--MD5=[60a26617385b1d2d0262a64233df1f8d]\n",
       "class E6--><a href=\"psysml:6d56d509-a272-42e3-905c-0e1bbd246da0\" target=\"_top\" title=\"psysml:6d56d509-a272-42e3-905c-0e1bbd246da0\" xlink:actuate=\"onRequest\" xlink:href=\"psysml:6d56d509-a272-42e3-905c-0e1bbd246da0\" xlink:show=\"new\" xlink:title=\"psysml:6d56d509-a272-42e3-905c-0e1bbd246da0\" xlink:type=\"simple\"><rect fill=\"#FFFFFF\" height=\"45.9375\" id=\"E6\" rx=\"10\" ry=\"10\" style=\"stroke: #383838; stroke-width: 1.5;\" width=\"251\" x=\"76.5\" y=\"164\"/><text fill=\"#000000\" font-family=\"sans-serif\" font-size=\"12\" font-style=\"italic\" lengthAdjust=\"spacingAndGlyphs\" textLength=\"91\" x=\"156.5\" y=\"180.1387\">«requirement»</text><text fill=\"#000000\" font-family=\"sans-serif\" font-size=\"12\" lengthAdjust=\"spacingAndGlyphs\" textLength=\"245\" x=\"79.5\" y=\"194.1074\">tradeStudyObjective: MaximizeObjective</text><line style=\"stroke: #383838; stroke-width: 1.5;\" x1=\"77.5\" x2=\"326.5\" y1=\"201.9375\" y2=\"201.9375\"/></a><!--MD5=[2156ba9850f5573cc1fc38a6a4b2f02b]\n",
       "class E7--><a href=\"psysml:0d158b00-d202-4b1f-90aa-9fc427f4eb2b\" target=\"_top\" title=\"psysml:0d158b00-d202-4b1f-90aa-9fc427f4eb2b\" xlink:actuate=\"onRequest\" xlink:href=\"psysml:0d158b00-d202-4b1f-90aa-9fc427f4eb2b\" xlink:show=\"new\" xlink:title=\"psysml:0d158b00-d202-4b1f-90aa-9fc427f4eb2b\" xlink:type=\"simple\"><rect fill=\"#FFFFFF\" height=\"45.9375\" id=\"E7\" rx=\"10\" ry=\"10\" style=\"stroke: #383838; stroke-width: 1.5;\" width=\"116\" x=\"363\" y=\"164\"/><text fill=\"#000000\" font-family=\"sans-serif\" font-size=\"12\" font-style=\"italic\" lengthAdjust=\"spacingAndGlyphs\" textLength=\"82\" x=\"380\" y=\"180.1387\">«calculation»</text><text fill=\"#000000\" font-family=\"sans-serif\" font-size=\"12\" lengthAdjust=\"spacingAndGlyphs\" textLength=\"110\" x=\"366\" y=\"194.1074\">objectiveFunction</text><line style=\"stroke: #383838; stroke-width: 1.5;\" x1=\"364\" x2=\"478\" y1=\"201.9375\" y2=\"201.9375\"/></a><!--MD5=[b9389687b975829384b498ac4b7476b2]\n",
       "class E8--><a href=\"psysml:e8d66f1b-2710-4767-99ee-f2812ccd7696\" target=\"_top\" title=\"psysml:e8d66f1b-2710-4767-99ee-f2812ccd7696\" xlink:actuate=\"onRequest\" xlink:href=\"psysml:e8d66f1b-2710-4767-99ee-f2812ccd7696\" xlink:show=\"new\" xlink:title=\"psysml:e8d66f1b-2710-4767-99ee-f2812ccd7696\" xlink:type=\"simple\"><rect fill=\"#FFFFFF\" height=\"45.9375\" id=\"E8\" rx=\"10\" ry=\"10\" style=\"stroke: #383838; stroke-width: 1.5;\" width=\"124\" x=\"69\" y=\"316\"/><text fill=\"#000000\" font-family=\"sans-serif\" font-size=\"12\" font-style=\"italic\" lengthAdjust=\"spacingAndGlyphs\" textLength=\"40\" x=\"111\" y=\"332.1387\">«part»</text><text fill=\"#000000\" font-family=\"sans-serif\" font-size=\"12\" lengthAdjust=\"spacingAndGlyphs\" textLength=\"118\" x=\"72\" y=\"346.1074\">alternative: Engine</text><line style=\"stroke: #383838; stroke-width: 1.5;\" x1=\"70\" x2=\"192\" y1=\"353.9375\" y2=\"353.9375\"/></a><!--MD5=[fd4143e9d270a159db93a4ea2a975926]\n",
       "class E9--><a href=\"psysml:d0667918-a428-4729-9680-50da29281cd4\" target=\"_top\" title=\"psysml:d0667918-a428-4729-9680-50da29281cd4\" xlink:actuate=\"onRequest\" xlink:href=\"psysml:d0667918-a428-4729-9680-50da29281cd4\" xlink:show=\"new\" xlink:title=\"psysml:d0667918-a428-4729-9680-50da29281cd4\" xlink:type=\"simple\"><rect fill=\"#FFFFFF\" height=\"45.9375\" id=\"E9\" rx=\"10\" ry=\"10\" style=\"stroke: #383838; stroke-width: 1.5;\" width=\"178\" x=\"289\" y=\"240\"/><text fill=\"#000000\" font-family=\"sans-serif\" font-size=\"12\" font-style=\"italic\" lengthAdjust=\"spacingAndGlyphs\" textLength=\"40\" x=\"358\" y=\"256.1387\">«part»</text><text fill=\"#000000\" font-family=\"sans-serif\" font-size=\"12\" lengthAdjust=\"spacingAndGlyphs\" textLength=\"172\" x=\"292\" y=\"270.1074\">selectedAlternative: Engine</text><line style=\"stroke: #383838; stroke-width: 1.5;\" x1=\"290\" x2=\"466\" y1=\"277.9375\" y2=\"277.9375\"/></a><!--MD5=[05d275557350bfb9b23a4ef7222b4c39]\n",
       "link E3 to E2--><a href=\"psysml:2c927883-7b33-4f30-b07f-44dca6adebf7\" target=\"_top\" title=\"psysml:2c927883-7b33-4f30-b07f-44dca6adebf7\" xlink:actuate=\"onRequest\" xlink:href=\"psysml:2c927883-7b33-4f30-b07f-44dca6adebf7\" xlink:show=\"new\" xlink:title=\"psysml:2c927883-7b33-4f30-b07f-44dca6adebf7\" xlink:type=\"simple\"><path d=\"M413.16,362.01 C374.25,379.54 319.95,404.01 280.39,421.84 \" fill=\"none\" id=\"E3-&gt;E2\" style=\"stroke: #383838; stroke-width: 1.0;\"/><polygon fill=\"#FFFFFF\" points=\"262.02,430.12,276.4666,415.9321,282.2183,428.696,262.02,430.12\" style=\"stroke: #383838; stroke-width: 1.0;\"/><ellipse cx=\"282.485\" cy=\"415.4137\" fill=\"#383838\" rx=\"2\" ry=\"2\" style=\"stroke: #383838; stroke-width: 1.0;\"/><ellipse cx=\"286.5934\" cy=\"424.5308\" fill=\"#383838\" rx=\"2\" ry=\"2\" style=\"stroke: #383838; stroke-width: 1.0;\"/></a><!--MD5=[185131fc0dcab0a4505a2ebe144e961b]\n",
       "link E4 to E2--><a href=\"psysml:59e46c20-b41c-4b83-8c8c-eff5ad41f1d7\" target=\"_top\" title=\"psysml:59e46c20-b41c-4b83-8c8c-eff5ad41f1d7\" xlink:actuate=\"onRequest\" xlink:href=\"psysml:59e46c20-b41c-4b83-8c8c-eff5ad41f1d7\" xlink:show=\"new\" xlink:title=\"psysml:59e46c20-b41c-4b83-8c8c-eff5ad41f1d7\" xlink:type=\"simple\"><path d=\"M300.13,362.01 C288.93,375.08 274.42,392.01 261.42,407.17 \" fill=\"none\" id=\"E4-&gt;E2\" style=\"stroke: #383838; stroke-width: 1.0;\"/><polygon fill=\"#FFFFFF\" points=\"248.15,422.66,255.1988,403.678,265.8291,412.7883,248.15,422.66\" style=\"stroke: #383838; stroke-width: 1.0;\"/><ellipse cx=\"260.4266\" cy=\"400.6515\" fill=\"#383838\" rx=\"2\" ry=\"2\" style=\"stroke: #383838; stroke-width: 1.0;\"/><ellipse cx=\"268.0196\" cy=\"407.1588\" fill=\"#383838\" rx=\"2\" ry=\"2\" style=\"stroke: #383838; stroke-width: 1.0;\"/></a><!--MD5=[15ebcb19ae302d9b601edb458606d402]\n",
       "link E5 to E2--><a href=\"psysml:d5cbdaa6-c586-4ab8-b2f7-038eda38592d\" target=\"_top\" title=\"psysml:d5cbdaa6-c586-4ab8-b2f7-038eda38592d\" xlink:actuate=\"onRequest\" xlink:href=\"psysml:d5cbdaa6-c586-4ab8-b2f7-038eda38592d\" xlink:show=\"new\" xlink:title=\"psysml:d5cbdaa6-c586-4ab8-b2f7-038eda38592d\" xlink:type=\"simple\"><path d=\"M274.96,87.09 C193.02,116.27 59,164 59,164 C59,164 51,316 51,316 C51,316 51,362 51,362 C51,362 139.06,403.06 191.31,427.42 \" fill=\"none\" id=\"E5-&gt;E2\" style=\"stroke: #383838; stroke-width: 1.0; stroke-dasharray: 7.0,7.0;\"/><polygon fill=\"#383838\" points=\"195.94,429.58,189.449,422.1728,191.4015,427.482,186.0922,429.4344,195.94,429.58\" style=\"stroke: #383838; stroke-width: 1.0;\"/><text fill=\"#000000\" font-family=\"sans-serif\" font-size=\"13\" lengthAdjust=\"spacingAndGlyphs\" textLength=\"62\" x=\"56\" y=\"267.5669\">«subject»</text></a><!--MD5=[9120cf2e5df3bff93db8f754bbbc09b4]\n",
       "link E5 to E6--><a href=\"psysml:14d02f99-86ef-419d-b64f-b983855c21b7\" target=\"_top\" title=\"psysml:14d02f99-86ef-419d-b64f-b983855c21b7\" xlink:actuate=\"onRequest\" xlink:href=\"psysml:14d02f99-86ef-419d-b64f-b983855c21b7\" xlink:show=\"new\" xlink:title=\"psysml:14d02f99-86ef-419d-b64f-b983855c21b7\" xlink:type=\"simple\"><path d=\"M312.24,87.19 C289.88,107.23 256.89,136.8 232.83,158.37 \" fill=\"none\" id=\"E5-&gt;E6\" style=\"stroke: #383838; stroke-width: 1.0;\"/><polygon fill=\"#383838\" points=\"226.6,163.95,234.5586,160.8419,230.5525,156.3752,226.6,163.95\" style=\"stroke: #383838; stroke-width: 1.0;\"/><text fill=\"#000000\" font-family=\"sans-serif\" font-size=\"13\" lengthAdjust=\"spacingAndGlyphs\" textLength=\"73\" x=\"278\" y=\"130.0669\">«objective»</text></a><!--MD5=[452b418e7f8a40397a49b8c0a78acc5b]\n",
       "reverse link E5 to E7--><a href=\"psysml:60238b1f-3640-4bef-bde7-54f879504707\" target=\"_top\" title=\"psysml:60238b1f-3640-4bef-bde7-54f879504707\" xlink:actuate=\"onRequest\" xlink:href=\"psysml:60238b1f-3640-4bef-bde7-54f879504707\" xlink:show=\"new\" xlink:title=\"psysml:60238b1f-3640-4bef-bde7-54f879504707\" xlink:type=\"simple\"><path d=\"M359.82,97.88 C374.39,118.86 392.87,145.48 405.69,163.95 \" fill=\"none\" id=\"E5&lt;-E7\" style=\"stroke: #383838; stroke-width: 1.0;\"/><polygon fill=\"#383838\" points=\"352.41,87.19,352.544,94.3999,359.2508,97.0492,359.1168,89.8393,352.41,87.19\" style=\"stroke: #383838; stroke-width: 1.0;\"/></a><!--MD5=[dc164f5e8a733ab456ef1add180e9e34]\n",
       "reverse link E7 to E8--><a href=\"psysml:83c02207-4172-44b5-b5b3-edd55ab7c0db\" target=\"_top\" title=\"psysml:83c02207-4172-44b5-b5b3-edd55ab7c0db\" xlink:actuate=\"onRequest\" xlink:href=\"psysml:83c02207-4172-44b5-b5b3-edd55ab7c0db\" xlink:show=\"new\" xlink:title=\"psysml:83c02207-4172-44b5-b5b3-edd55ab7c0db\" xlink:type=\"simple\"><path d=\"M350.55,212.59 C312,226.04 272,240 272,240 C272,240 204.6,286.85 163,315.76 \" fill=\"none\" id=\"E7&lt;-E8\" style=\"stroke: #383838; stroke-width: 1.0;\"/><polygon fill=\"#FFFFFF\" points=\"362.97,208.25,355.9867,206.452,351.641,212.2066,358.6244,214.0046,362.97,208.25\" style=\"stroke: #383838; stroke-width: 1.0;\"/><text fill=\"#000000\" font-family=\"sans-serif\" font-size=\"13\" lengthAdjust=\"spacingAndGlyphs\" textLength=\"8\" x=\"162.175\" y=\"304.9748\">1</text></a><!--MD5=[f1f3f9f2fc535e6147756cb86a7f2e32]\n",
       "link E8 to E2--><a href=\"psysml:3fd357fc-9742-4e4a-b08f-00e5f8b92b2e\" target=\"_top\" title=\"psysml:3fd357fc-9742-4e4a-b08f-00e5f8b92b2e\" xlink:actuate=\"onRequest\" xlink:href=\"psysml:3fd357fc-9742-4e4a-b08f-00e5f8b92b2e\" xlink:show=\"new\" xlink:title=\"psysml:3fd357fc-9742-4e4a-b08f-00e5f8b92b2e\" xlink:type=\"simple\"><path d=\"M151.54,362.01 C163.87,375.22 179.88,392.38 194.14,407.65 \" fill=\"none\" id=\"E8-&gt;E2\" style=\"stroke: #383838; stroke-width: 1.0;\"/><polygon fill=\"#FFFFFF\" points=\"208.15,422.66,190.0721,413.5393,200.3105,403.9907,208.15,422.66\" style=\"stroke: #383838; stroke-width: 1.0;\"/><ellipse cx=\"187.6471\" cy=\"408.0067\" fill=\"#383838\" rx=\"2\" ry=\"2\" style=\"stroke: #383838; stroke-width: 1.0;\"/><ellipse cx=\"194.9602\" cy=\"401.1863\" fill=\"#383838\" rx=\"2\" ry=\"2\" style=\"stroke: #383838; stroke-width: 1.0;\"/></a><!--MD5=[9ae28de373ca99bb8a1b38d63370ca7e]\n",
       "reverse link E5 to E9--><a href=\"psysml:44393528-ee32-422a-b73c-7e5d578e1b67\" target=\"_top\" title=\"psysml:44393528-ee32-422a-b73c-7e5d578e1b67\" xlink:actuate=\"onRequest\" xlink:href=\"psysml:44393528-ee32-422a-b73c-7e5d578e1b67\" xlink:show=\"new\" xlink:title=\"psysml:44393528-ee32-422a-b73c-7e5d578e1b67\" xlink:type=\"simple\"><path d=\"M384.16,94.18 C431.35,123.38 497,164 497,164 C497,164 497,210 497,210 C497,210 460.9,225.77 428.47,239.95 \" fill=\"none\" id=\"E5&lt;-E9\" style=\"stroke: #383838; stroke-width: 1.0;\"/><polygon fill=\"#FFFFFF\" points=\"372.91,87.22,375.907,93.7788,383.114,93.5349,380.117,86.9761,372.91,87.22\" style=\"stroke: #383838; stroke-width: 1.0;\"/><text fill=\"#000000\" font-family=\"sans-serif\" font-size=\"13\" lengthAdjust=\"spacingAndGlyphs\" textLength=\"8\" x=\"432.9588\" y=\"228.8328\">1</text></a><!--MD5=[5c3bb36fe832a92c7f0e1807dd65209d]\n",
       "link E9 to E2--><a href=\"psysml:fe7d5224-67e7-4f42-a679-f87e330c9f80\" target=\"_top\" title=\"psysml:fe7d5224-67e7-4f42-a679-f87e330c9f80\" xlink:actuate=\"onRequest\" xlink:href=\"psysml:fe7d5224-67e7-4f42-a679-f87e330c9f80\" xlink:show=\"new\" xlink:title=\"psysml:fe7d5224-67e7-4f42-a679-f87e330c9f80\" xlink:type=\"simple\"><path d=\"M322.87,286.05 C287.44,300.23 248,316 248,316 C248,316 240.73,365.33 235.19,402.98 \" fill=\"none\" id=\"E9-&gt;E2\" style=\"stroke: #383838; stroke-width: 1.0;\"/><polygon fill=\"#FFFFFF\" points=\"232.27,422.82,228.1134,403.0028,241.964,405.0429,232.27,422.82\" style=\"stroke: #383838; stroke-width: 1.0;\"/><ellipse cx=\"230.9227\" cy=\"397.6551\" fill=\"#383838\" rx=\"2\" ry=\"2\" style=\"stroke: #383838; stroke-width: 1.0;\"/><ellipse cx=\"240.8159\" cy=\"399.1123\" fill=\"#383838\" rx=\"2\" ry=\"2\" style=\"stroke: #383838; stroke-width: 1.0;\"/></a><!--MD5=[65d48a794ab4a34839884662ecdf7313]\n",
       "@startuml\r\n",
       "skinparam linetype polyline\r\n",
       "skinparam monochrome true\r\n",
       "skinparam classbackgroundcolor white\r\n",
       "skinparam shadowing false\r\n",
       "skinparam wrapWidth 300\r\n",
       "hide circle\r\n",
       "\r\n",
       "package \"TradeStudyTest\" as E1  [[psysml:ee7e22b2-7ed6-4f2c-8628-ec59eb221ec4 ]]  {\r\n",
       "comp def \"Engine\" as E2  <<(T,blue) part def>> [[psysml:6dc2e48d-4c08-4400-bc60-82a531af2780 ]] {\r\n",
       "}\r\n",
       "comp usage \"engine1: Engine\" as E3  <<(T,blue) part>> [[psysml:3defd9be-3b5d-4c6d-8f79-df776db84250 ]] {\r\n",
       "}\r\n",
       "comp usage \"engine2: Engine\" as E4  <<(T,blue) part>> [[psysml:3a9a647b-2fd2-49b6-8a5f-7ce1649088e0 ]] {\r\n",
       "}\r\n",
       "comp usage \"engineTradeStudy: TradeStudy\" as E5 << analysis>> [[psysml:4b9a9840-0888-40ad-997b-4be591991c45 ]] {\r\n",
       "}\r\n",
       "comp usage \"tradeStudyObjective: MaximizeObjective\" as E6  <<(T,blue) requirement>> [[psysml:6d56d509-a272-42e3-905c-0e1bbd246da0 ]] {\r\n",
       "}\r\n",
       "comp usage \"objectiveFunction\" as E7  <<(T,blue) calculation>> [[psysml:0d158b00-d202-4b1f-90aa-9fc427f4eb2b ]] {\r\n",
       "}\r\n",
       "comp usage \"alternative: Engine\" as E8  <<(T,blue) part>> [[psysml:e8d66f1b-2710-4767-99ee-f2812ccd7696 ]] {\r\n",
       "}\r\n",
       "comp usage \"selectedAlternative: Engine\" as E9  <<(T,blue) part>> [[psysml:d0667918-a428-4729-9680-50da29281cd4 ]] {\r\n",
       "}\r\n",
       "}\r\n",
       "E3 - -:|> E2 [[psysml:2c927883-7b33-4f30-b07f-44dca6adebf7 ]] \r\n",
       "E4 - -:|> E2 [[psysml:59e46c20-b41c-4b83-8c8c-eff5ad41f1d7 ]] \r\n",
       "E5 ..> E2 [[psysml:d5cbdaa6-c586-4ab8-b2f7-038eda38592d ]] : <<subject>>\r\n",
       "E5 - ->> E6 [[psysml:14d02f99-86ef-419d-b64f-b983855c21b7 ]] : <<objective>>\r\n",
       "E5 *- - E7 [[psysml:60238b1f-3640-4bef-bde7-54f879504707 ]] \r\n",
       "E7 o- - \"1\"E8 [[psysml:83c02207-4172-44b5-b5b3-edd55ab7c0db ]] \r\n",
       "E8 - -:|> E2 [[psysml:3fd357fc-9742-4e4a-b08f-00e5f8b92b2e ]] \r\n",
       "E5 o- - \"1\"E9 [[psysml:44393528-ee32-422a-b73c-7e5d578e1b67 ]] \r\n",
       "E9 - -:|> E2 [[psysml:fe7d5224-67e7-4f42-a679-f87e330c9f80 ]] \r\n",
       "@enduml\r\n",
       "\n",
       "PlantUML version 1.2020.13(Sat Jun 13 12:26:38 UTC 2020)\n",
       "(EPL source distribution)\n",
       "Java Runtime: OpenJDK Runtime Environment\n",
       "JVM: OpenJDK 64-Bit Server VM\n",
       "Default Encoding: UTF-8\n",
       "Language: en\n",
       "Country: null\n",
       "--></g></svg>"
      ]
     },
     "execution_count": 15,
     "metadata": {},
     "output_type": "execute_result"
    }
   ],
   "source": [
    "%viz --style=\"POLYLINE\" --view=\"MIXED\" \"TradeStudyTest\""
   ]
  },
  {
   "cell_type": "code",
   "execution_count": 16,
   "id": "e787a383",
   "metadata": {
    "execution": {
     "iopub.execute_input": "2021-10-03T08:30:36.991006Z",
     "iopub.status.busy": "2021-10-03T08:30:36.990610Z",
     "iopub.status.idle": "2021-10-03T08:30:37.041433Z",
     "shell.execute_reply": "2021-10-03T08:30:37.041071Z"
    }
   },
   "outputs": [
    {
     "data": {
      "image/svg+xml": [
       "<?xml version=\"1.0\" encoding=\"UTF-8\" standalone=\"no\"?><svg xmlns=\"http://www.w3.org/2000/svg\" xmlns:xlink=\"http://www.w3.org/1999/xlink\" contentScriptType=\"application/ecmascript\" contentStyleType=\"text/css\" height=\"351px\" preserveAspectRatio=\"none\" style=\"width:1144px;height:351px;\" version=\"1.1\" viewBox=\"0 0 1144 351\" width=\"1144px\" zoomAndPan=\"magnify\"><defs/><g><!--MD5=[fbc87193dbaf4d95561dea2c320d4a47]\n",
       "cluster E1--><a href=\"psysml:ee7e22b2-7ed6-4f2c-8628-ec59eb221ec4\" target=\"_top\" title=\"psysml:ee7e22b2-7ed6-4f2c-8628-ec59eb221ec4\" xlink:actuate=\"onRequest\" xlink:href=\"psysml:ee7e22b2-7ed6-4f2c-8628-ec59eb221ec4\" xlink:show=\"new\" xlink:title=\"psysml:ee7e22b2-7ed6-4f2c-8628-ec59eb221ec4\" xlink:type=\"simple\"><polygon fill=\"#FFFFFF\" points=\"16,6,132,6,139,28.2969,1122,28.2969,1122,339,16,339,16,6\" style=\"stroke: #000000; stroke-width: 1.5;\"/><line style=\"stroke: #000000; stroke-width: 1.5;\" x1=\"16\" x2=\"139\" y1=\"28.2969\" y2=\"28.2969\"/><text fill=\"#000000\" font-family=\"sans-serif\" font-size=\"14\" font-weight=\"bold\" lengthAdjust=\"spacingAndGlyphs\" textLength=\"110\" x=\"20\" y=\"20.9951\">TradeStudyTest</text></a><!--MD5=[b4997ac47864f28c2f74865a473b2911]\n",
       "class E2--><a href=\"psysml:6dc2e48d-4c08-4400-bc60-82a531af2780\" target=\"_top\" title=\"psysml:6dc2e48d-4c08-4400-bc60-82a531af2780\" xlink:actuate=\"onRequest\" xlink:href=\"psysml:6dc2e48d-4c08-4400-bc60-82a531af2780\" xlink:show=\"new\" xlink:title=\"psysml:6dc2e48d-4c08-4400-bc60-82a531af2780\" xlink:type=\"simple\"><rect fill=\"#FFFFFF\" height=\"45.9375\" id=\"E2\" style=\"stroke: #383838; stroke-width: 1.5;\" width=\"66\" x=\"1040\" y=\"181\"/><text fill=\"#000000\" font-family=\"sans-serif\" font-size=\"12\" font-style=\"italic\" lengthAdjust=\"spacingAndGlyphs\" textLength=\"64\" x=\"1041\" y=\"197.1387\">«part def»</text><text fill=\"#000000\" font-family=\"sans-serif\" font-size=\"12\" lengthAdjust=\"spacingAndGlyphs\" textLength=\"43\" x=\"1051.5\" y=\"211.1074\">Engine</text><line style=\"stroke: #383838; stroke-width: 1.5;\" x1=\"1041\" x2=\"1105\" y1=\"218.9375\" y2=\"218.9375\"/></a><!--MD5=[09b614a08d8cba4a07c9adeb5e0fee81]\n",
       "class E3--><a href=\"psysml:3defd9be-3b5d-4c6d-8f79-df776db84250\" target=\"_top\" title=\"psysml:3defd9be-3b5d-4c6d-8f79-df776db84250\" xlink:actuate=\"onRequest\" xlink:href=\"psysml:3defd9be-3b5d-4c6d-8f79-df776db84250\" xlink:show=\"new\" xlink:title=\"psysml:3defd9be-3b5d-4c6d-8f79-df776db84250\" xlink:type=\"simple\"><rect fill=\"#FFFFFF\" height=\"45.9375\" id=\"E3\" rx=\"10\" ry=\"10\" style=\"stroke: #383838; stroke-width: 1.5;\" width=\"108\" x=\"863\" y=\"41\"/><text fill=\"#000000\" font-family=\"sans-serif\" font-size=\"12\" font-style=\"italic\" lengthAdjust=\"spacingAndGlyphs\" textLength=\"40\" x=\"897\" y=\"57.1387\">«part»</text><text fill=\"#000000\" font-family=\"sans-serif\" font-size=\"12\" lengthAdjust=\"spacingAndGlyphs\" textLength=\"102\" x=\"866\" y=\"71.1074\">engine1: Engine</text><line style=\"stroke: #383838; stroke-width: 1.5;\" x1=\"864\" x2=\"970\" y1=\"78.9375\" y2=\"78.9375\"/></a><!--MD5=[ebbe1d658d1005bcc118a6aa81145e00]\n",
       "class E4--><a href=\"psysml:3a9a647b-2fd2-49b6-8a5f-7ce1649088e0\" target=\"_top\" title=\"psysml:3a9a647b-2fd2-49b6-8a5f-7ce1649088e0\" xlink:actuate=\"onRequest\" xlink:href=\"psysml:3a9a647b-2fd2-49b6-8a5f-7ce1649088e0\" xlink:show=\"new\" xlink:title=\"psysml:3a9a647b-2fd2-49b6-8a5f-7ce1649088e0\" xlink:type=\"simple\"><rect fill=\"#FFFFFF\" height=\"45.9375\" id=\"E4\" rx=\"10\" ry=\"10\" style=\"stroke: #383838; stroke-width: 1.5;\" width=\"108\" x=\"863\" y=\"122\"/><text fill=\"#000000\" font-family=\"sans-serif\" font-size=\"12\" font-style=\"italic\" lengthAdjust=\"spacingAndGlyphs\" textLength=\"40\" x=\"897\" y=\"138.1387\">«part»</text><text fill=\"#000000\" font-family=\"sans-serif\" font-size=\"12\" lengthAdjust=\"spacingAndGlyphs\" textLength=\"102\" x=\"866\" y=\"152.1074\">engine2: Engine</text><line style=\"stroke: #383838; stroke-width: 1.5;\" x1=\"864\" x2=\"970\" y1=\"159.9375\" y2=\"159.9375\"/></a><!--MD5=[270fce915f116d4de14055a7c1d9a0f3]\n",
       "class E5--><a href=\"psysml:4b9a9840-0888-40ad-997b-4be591991c45\" target=\"_top\" title=\"psysml:4b9a9840-0888-40ad-997b-4be591991c45\" xlink:actuate=\"onRequest\" xlink:href=\"psysml:4b9a9840-0888-40ad-997b-4be591991c45\" xlink:show=\"new\" xlink:title=\"psysml:4b9a9840-0888-40ad-997b-4be591991c45\" xlink:type=\"simple\"><rect fill=\"#FFFFFF\" height=\"45.9375\" id=\"E5\" rx=\"10\" ry=\"10\" style=\"stroke: #383838; stroke-width: 1.5;\" width=\"199\" x=\"32\" y=\"173\"/><text fill=\"#000000\" font-family=\"sans-serif\" font-size=\"12\" font-style=\"italic\" lengthAdjust=\"spacingAndGlyphs\" textLength=\"64\" x=\"99.5\" y=\"189.1387\">«analysis»</text><text fill=\"#000000\" font-family=\"sans-serif\" font-size=\"12\" lengthAdjust=\"spacingAndGlyphs\" textLength=\"193\" x=\"35\" y=\"203.1074\">engineTradeStudy: TradeStudy</text><line style=\"stroke: #383838; stroke-width: 1.5;\" x1=\"33\" x2=\"230\" y1=\"210.9375\" y2=\"210.9375\"/></a><!--MD5=[60a26617385b1d2d0262a64233df1f8d]\n",
       "class E6--><a href=\"psysml:6d56d509-a272-42e3-905c-0e1bbd246da0\" target=\"_top\" title=\"psysml:6d56d509-a272-42e3-905c-0e1bbd246da0\" xlink:actuate=\"onRequest\" xlink:href=\"psysml:6d56d509-a272-42e3-905c-0e1bbd246da0\" xlink:show=\"new\" xlink:title=\"psysml:6d56d509-a272-42e3-905c-0e1bbd246da0\" xlink:type=\"simple\"><rect fill=\"#FFFFFF\" height=\"45.9375\" id=\"E6\" rx=\"10\" ry=\"10\" style=\"stroke: #383838; stroke-width: 1.5;\" width=\"251\" x=\"366\" y=\"206\"/><text fill=\"#000000\" font-family=\"sans-serif\" font-size=\"12\" font-style=\"italic\" lengthAdjust=\"spacingAndGlyphs\" textLength=\"91\" x=\"446\" y=\"222.1387\">«requirement»</text><text fill=\"#000000\" font-family=\"sans-serif\" font-size=\"12\" lengthAdjust=\"spacingAndGlyphs\" textLength=\"245\" x=\"369\" y=\"236.1074\">tradeStudyObjective: MaximizeObjective</text><line style=\"stroke: #383838; stroke-width: 1.5;\" x1=\"367\" x2=\"616\" y1=\"243.9375\" y2=\"243.9375\"/></a><!--MD5=[2156ba9850f5573cc1fc38a6a4b2f02b]\n",
       "class E7--><a href=\"psysml:0d158b00-d202-4b1f-90aa-9fc427f4eb2b\" target=\"_top\" title=\"psysml:0d158b00-d202-4b1f-90aa-9fc427f4eb2b\" xlink:actuate=\"onRequest\" xlink:href=\"psysml:0d158b00-d202-4b1f-90aa-9fc427f4eb2b\" xlink:show=\"new\" xlink:title=\"psysml:0d158b00-d202-4b1f-90aa-9fc427f4eb2b\" xlink:type=\"simple\"><rect fill=\"#FFFFFF\" height=\"45.9375\" id=\"E7\" rx=\"10\" ry=\"10\" style=\"stroke: #383838; stroke-width: 1.5;\" width=\"116\" x=\"433.5\" y=\"125\"/><text fill=\"#000000\" font-family=\"sans-serif\" font-size=\"12\" font-style=\"italic\" lengthAdjust=\"spacingAndGlyphs\" textLength=\"82\" x=\"450.5\" y=\"141.1387\">«calculation»</text><text fill=\"#000000\" font-family=\"sans-serif\" font-size=\"12\" lengthAdjust=\"spacingAndGlyphs\" textLength=\"110\" x=\"436.5\" y=\"155.1074\">objectiveFunction</text><line style=\"stroke: #383838; stroke-width: 1.5;\" x1=\"434.5\" x2=\"548.5\" y1=\"162.9375\" y2=\"162.9375\"/></a><!--MD5=[b9389687b975829384b498ac4b7476b2]\n",
       "class E8--><a href=\"psysml:e8d66f1b-2710-4767-99ee-f2812ccd7696\" target=\"_top\" title=\"psysml:e8d66f1b-2710-4767-99ee-f2812ccd7696\" xlink:actuate=\"onRequest\" xlink:href=\"psysml:e8d66f1b-2710-4767-99ee-f2812ccd7696\" xlink:show=\"new\" xlink:title=\"psysml:e8d66f1b-2710-4767-99ee-f2812ccd7696\" xlink:type=\"simple\"><rect fill=\"#FFFFFF\" height=\"45.9375\" id=\"E8\" rx=\"10\" ry=\"10\" style=\"stroke: #383838; stroke-width: 1.5;\" width=\"124\" x=\"855\" y=\"240\"/><text fill=\"#000000\" font-family=\"sans-serif\" font-size=\"12\" font-style=\"italic\" lengthAdjust=\"spacingAndGlyphs\" textLength=\"40\" x=\"897\" y=\"256.1387\">«part»</text><text fill=\"#000000\" font-family=\"sans-serif\" font-size=\"12\" lengthAdjust=\"spacingAndGlyphs\" textLength=\"118\" x=\"858\" y=\"270.1074\">alternative: Engine</text><line style=\"stroke: #383838; stroke-width: 1.5;\" x1=\"856\" x2=\"978\" y1=\"277.9375\" y2=\"277.9375\"/></a><!--MD5=[fd4143e9d270a159db93a4ea2a975926]\n",
       "class E9--><a href=\"psysml:d0667918-a428-4729-9680-50da29281cd4\" target=\"_top\" title=\"psysml:d0667918-a428-4729-9680-50da29281cd4\" xlink:actuate=\"onRequest\" xlink:href=\"psysml:d0667918-a428-4729-9680-50da29281cd4\" xlink:show=\"new\" xlink:title=\"psysml:d0667918-a428-4729-9680-50da29281cd4\" xlink:type=\"simple\"><rect fill=\"#FFFFFF\" height=\"45.9375\" id=\"E9\" rx=\"10\" ry=\"10\" style=\"stroke: #383838; stroke-width: 1.5;\" width=\"178\" x=\"647\" y=\"124\"/><text fill=\"#000000\" font-family=\"sans-serif\" font-size=\"12\" font-style=\"italic\" lengthAdjust=\"spacingAndGlyphs\" textLength=\"40\" x=\"716\" y=\"140.1387\">«part»</text><text fill=\"#000000\" font-family=\"sans-serif\" font-size=\"12\" lengthAdjust=\"spacingAndGlyphs\" textLength=\"172\" x=\"650\" y=\"154.1074\">selectedAlternative: Engine</text><line style=\"stroke: #383838; stroke-width: 1.5;\" x1=\"648\" x2=\"824\" y1=\"161.9375\" y2=\"161.9375\"/></a><!--MD5=[05d275557350bfb9b23a4ef7222b4c39]\n",
       "link E3 to E2--><a href=\"psysml:2c927883-7b33-4f30-b07f-44dca6adebf7\" target=\"_top\" title=\"psysml:2c927883-7b33-4f30-b07f-44dca6adebf7\" xlink:actuate=\"onRequest\" xlink:href=\"psysml:2c927883-7b33-4f30-b07f-44dca6adebf7\" xlink:show=\"new\" xlink:title=\"psysml:2c927883-7b33-4f30-b07f-44dca6adebf7\" xlink:type=\"simple\"><path d=\"M956.44,87.17 C964.16,92.38 972.03,98.12 979,104 C1000.94,122.52 1022.93,145.89 1040.02,165.38 \" fill=\"none\" id=\"E3-&gt;E2\" style=\"stroke: #383838; stroke-width: 1.0;\"/><polygon fill=\"#FFFFFF\" points=\"1053.11,180.65,1035.4256,170.7879,1046.0509,161.6719,1053.11,180.65\" style=\"stroke: #383838; stroke-width: 1.0;\"/><ellipse cx=\"1033.232\" cy=\"165.1596\" fill=\"#383838\" rx=\"2\" ry=\"2\" style=\"stroke: #383838; stroke-width: 1.0;\"/><ellipse cx=\"1040.8215\" cy=\"158.6481\" fill=\"#383838\" rx=\"2\" ry=\"2\" style=\"stroke: #383838; stroke-width: 1.0;\"/></a><!--MD5=[185131fc0dcab0a4505a2ebe144e961b]\n",
       "link E4 to E2--><a href=\"psysml:59e46c20-b41c-4b83-8c8c-eff5ad41f1d7\" target=\"_top\" title=\"psysml:59e46c20-b41c-4b83-8c8c-eff5ad41f1d7\" xlink:actuate=\"onRequest\" xlink:href=\"psysml:59e46c20-b41c-4b83-8c8c-eff5ad41f1d7\" xlink:show=\"new\" xlink:title=\"psysml:59e46c20-b41c-4b83-8c8c-eff5ad41f1d7\" xlink:type=\"simple\"><path d=\"M971.43,165.47 C987.52,171.64 1005.13,178.38 1021.06,184.48 \" fill=\"none\" id=\"E4-&gt;E2\" style=\"stroke: #383838; stroke-width: 1.0;\"/><polygon fill=\"#FFFFFF\" points=\"1039.76,191.65,1019.5133,191.3857,1024.5242,178.3132,1039.76,191.65\" style=\"stroke: #383838; stroke-width: 1.0;\"/><ellipse cx=\"1014.9067\" cy=\"187.478\" fill=\"#383838\" rx=\"2\" ry=\"2\" style=\"stroke: #383838; stroke-width: 1.0;\"/><ellipse cx=\"1018.486\" cy=\"178.1405\" fill=\"#383838\" rx=\"2\" ry=\"2\" style=\"stroke: #383838; stroke-width: 1.0;\"/></a><!--MD5=[15ebcb19ae302d9b601edb458606d402]\n",
       "link E5 to E2--><a href=\"psysml:d5cbdaa6-c586-4ab8-b2f7-038eda38592d\" target=\"_top\" title=\"psysml:d5cbdaa6-c586-4ab8-b2f7-038eda38592d\" xlink:actuate=\"onRequest\" xlink:href=\"psysml:d5cbdaa6-c586-4ab8-b2f7-038eda38592d\" xlink:show=\"new\" xlink:title=\"psysml:d5cbdaa6-c586-4ab8-b2f7-038eda38592d\" xlink:type=\"simple\"><path d=\"M192.97,219.15 C239.54,235.94 305.91,257.62 366,269 C580.08,309.56 637.25,296.22 855,304 C910.08,305.97 928.47,326.01 979,304 C1012.76,289.29 1039.79,255.62 1055.83,231.41 \" fill=\"none\" id=\"E5-&gt;E2\" style=\"stroke: #383838; stroke-width: 1.0; stroke-dasharray: 7.0,7.0;\"/><polygon fill=\"#383838\" points=\"1058.7,227,1050.4426,232.368,1055.9761,231.1929,1057.1512,236.7263,1058.7,227\" style=\"stroke: #383838; stroke-width: 1.0;\"/><text fill=\"#000000\" font-family=\"sans-serif\" font-size=\"13\" lengthAdjust=\"spacingAndGlyphs\" textLength=\"62\" x=\"705\" y=\"296.0669\">«subject»</text></a><!--MD5=[9120cf2e5df3bff93db8f754bbbc09b4]\n",
       "link E5 to E6--><a href=\"psysml:14d02f99-86ef-419d-b64f-b983855c21b7\" target=\"_top\" title=\"psysml:14d02f99-86ef-419d-b64f-b983855c21b7\" xlink:actuate=\"onRequest\" xlink:href=\"psysml:14d02f99-86ef-419d-b64f-b983855c21b7\" xlink:show=\"new\" xlink:title=\"psysml:14d02f99-86ef-419d-b64f-b983855c21b7\" xlink:type=\"simple\"><path d=\"M231.27,205.1 C270.35,208.71 315.87,212.9 357.75,216.76 \" fill=\"none\" id=\"E5-&gt;E6\" style=\"stroke: #383838; stroke-width: 1.0;\"/><polygon fill=\"#383838\" points=\"365.81,217.51,358.1229,213.7806,357.5661,219.7548,365.81,217.51\" style=\"stroke: #383838; stroke-width: 1.0;\"/><text fill=\"#000000\" font-family=\"sans-serif\" font-size=\"13\" lengthAdjust=\"spacingAndGlyphs\" textLength=\"73\" x=\"262\" y=\"205.0669\">«objective»</text></a><!--MD5=[452b418e7f8a40397a49b8c0a78acc5b]\n",
       "reverse link E5 to E7--><a href=\"psysml:60238b1f-3640-4bef-bde7-54f879504707\" target=\"_top\" title=\"psysml:60238b1f-3640-4bef-bde7-54f879504707\" xlink:actuate=\"onRequest\" xlink:href=\"psysml:60238b1f-3640-4bef-bde7-54f879504707\" xlink:show=\"new\" xlink:title=\"psysml:60238b1f-3640-4bef-bde7-54f879504707\" xlink:type=\"simple\"><path d=\"M244.44,180.99 C307.13,172.59 382.64,162.46 433.34,155.66 \" fill=\"none\" id=\"E5&lt;-E7\" style=\"stroke: #383838; stroke-width: 1.0;\"/><polygon fill=\"#383838\" points=\"231.27,182.76,237.7486,185.9268,243.1635,181.1645,236.6849,177.9978,231.27,182.76\" style=\"stroke: #383838; stroke-width: 1.0;\"/></a><!--MD5=[dc164f5e8a733ab456ef1add180e9e34]\n",
       "reverse link E7 to E8--><a href=\"psysml:83c02207-4172-44b5-b5b3-edd55ab7c0db\" target=\"_top\" title=\"psysml:83c02207-4172-44b5-b5b3-edd55ab7c0db\" xlink:actuate=\"onRequest\" xlink:href=\"psysml:83c02207-4172-44b5-b5b3-edd55ab7c0db\" xlink:show=\"new\" xlink:title=\"psysml:83c02207-4172-44b5-b5b3-edd55ab7c0db\" xlink:type=\"simple\"><path d=\"M562.22,166.93 C643.63,189.04 777.02,225.26 854.65,246.34 \" fill=\"none\" id=\"E7&lt;-E8\" style=\"stroke: #383838; stroke-width: 1.0;\"/><polygon fill=\"#FFFFFF\" points=\"549.62,163.51,554.3645,168.9404,561.202,166.6495,556.4575,161.2191,549.62,163.51\" style=\"stroke: #383838; stroke-width: 1.0;\"/><text fill=\"#000000\" font-family=\"sans-serif\" font-size=\"13\" lengthAdjust=\"spacingAndGlyphs\" textLength=\"8\" x=\"838.9783\" y=\"257.3591\">1</text></a><!--MD5=[f1f3f9f2fc535e6147756cb86a7f2e32]\n",
       "link E8 to E2--><a href=\"psysml:3fd357fc-9742-4e4a-b08f-00e5f8b92b2e\" target=\"_top\" title=\"psysml:3fd357fc-9742-4e4a-b08f-00e5f8b92b2e\" xlink:actuate=\"onRequest\" xlink:href=\"psysml:3fd357fc-9742-4e4a-b08f-00e5f8b92b2e\" xlink:show=\"new\" xlink:title=\"psysml:3fd357fc-9742-4e4a-b08f-00e5f8b92b2e\" xlink:type=\"simple\"><path d=\"M978.42,239.85 C992.46,234.47 1007.28,228.8 1020.87,223.59 \" fill=\"none\" id=\"E8-&gt;E2\" style=\"stroke: #383838; stroke-width: 1.0;\"/><polygon fill=\"#FFFFFF\" points=\"1039.69,216.38,1024.4542,229.7168,1019.4433,216.6443,1039.69,216.38\" style=\"stroke: #383838; stroke-width: 1.0;\"/><ellipse cx=\"1018.416\" cy=\"229.8895\" fill=\"#383838\" rx=\"2\" ry=\"2\" style=\"stroke: #383838; stroke-width: 1.0;\"/><ellipse cx=\"1014.8367\" cy=\"220.552\" fill=\"#383838\" rx=\"2\" ry=\"2\" style=\"stroke: #383838; stroke-width: 1.0;\"/></a><!--MD5=[9ae28de373ca99bb8a1b38d63370ca7e]\n",
       "reverse link E5 to E9--><a href=\"psysml:44393528-ee32-422a-b73c-7e5d578e1b67\" target=\"_top\" title=\"psysml:44393528-ee32-422a-b73c-7e5d578e1b67\" xlink:actuate=\"onRequest\" xlink:href=\"psysml:44393528-ee32-422a-b73c-7e5d578e1b67\" xlink:show=\"new\" xlink:title=\"psysml:44393528-ee32-422a-b73c-7e5d578e1b67\" xlink:type=\"simple\"><path d=\"M189.89,167.36 C236.14,145.96 303.53,118.5 366,107 C475.71,86.8 506.93,88.85 617,107 C637.81,110.43 659.88,117.05 679.24,123.93 \" fill=\"none\" id=\"E5&lt;-E9\" style=\"stroke: #383838; stroke-width: 1.0;\"/><polygon fill=\"#FFFFFF\" points=\"178.01,172.94,185.1402,174.017,188.8768,167.8495,181.7466,166.7725,178.01,172.94\" style=\"stroke: #383838; stroke-width: 1.0;\"/><text fill=\"#000000\" font-family=\"sans-serif\" font-size=\"13\" lengthAdjust=\"spacingAndGlyphs\" textLength=\"8\" x=\"654.9108\" y=\"112.8075\">1</text></a><!--MD5=[5c3bb36fe832a92c7f0e1807dd65209d]\n",
       "link E9 to E2--><a href=\"psysml:fe7d5224-67e7-4f42-a679-f87e330c9f80\" target=\"_top\" title=\"psysml:fe7d5224-67e7-4f42-a679-f87e330c9f80\" xlink:actuate=\"onRequest\" xlink:href=\"psysml:fe7d5224-67e7-4f42-a679-f87e330c9f80\" xlink:show=\"new\" xlink:title=\"psysml:fe7d5224-67e7-4f42-a679-f87e330c9f80\" xlink:type=\"simple\"><path d=\"M799.69,170.07 C817.36,175.78 836.75,181.31 855,185 C910.46,196.21 975.22,200.81 1019.46,202.69 \" fill=\"none\" id=\"E9-&gt;E2\" style=\"stroke: #383838; stroke-width: 1.0;\"/><polygon fill=\"#FFFFFF\" points=\"1039.69,203.42,1020.4478,209.7237,1020.9574,195.733,1039.69,203.42\" style=\"stroke: #383838; stroke-width: 1.0;\"/><ellipse cx=\"1014.8244\" cy=\"207.5175\" fill=\"#383838\" rx=\"2\" ry=\"2\" style=\"stroke: #383838; stroke-width: 1.0;\"/><ellipse cx=\"1015.1884\" cy=\"197.5241\" fill=\"#383838\" rx=\"2\" ry=\"2\" style=\"stroke: #383838; stroke-width: 1.0;\"/></a><!--MD5=[0c598e9dbd2a914c1a4e722274263928]\n",
       "@startuml\r\n",
       "left to right direction\r\n",
       "skinparam monochrome true\r\n",
       "skinparam classbackgroundcolor white\r\n",
       "skinparam shadowing false\r\n",
       "skinparam wrapWidth 300\r\n",
       "hide circle\r\n",
       "\r\n",
       "package \"TradeStudyTest\" as E1  [[psysml:ee7e22b2-7ed6-4f2c-8628-ec59eb221ec4 ]]  {\r\n",
       "comp def \"Engine\" as E2  <<(T,blue) part def>> [[psysml:6dc2e48d-4c08-4400-bc60-82a531af2780 ]] {\r\n",
       "}\r\n",
       "comp usage \"engine1: Engine\" as E3  <<(T,blue) part>> [[psysml:3defd9be-3b5d-4c6d-8f79-df776db84250 ]] {\r\n",
       "}\r\n",
       "comp usage \"engine2: Engine\" as E4  <<(T,blue) part>> [[psysml:3a9a647b-2fd2-49b6-8a5f-7ce1649088e0 ]] {\r\n",
       "}\r\n",
       "comp usage \"engineTradeStudy: TradeStudy\" as E5 << analysis>> [[psysml:4b9a9840-0888-40ad-997b-4be591991c45 ]] {\r\n",
       "}\r\n",
       "comp usage \"tradeStudyObjective: MaximizeObjective\" as E6  <<(T,blue) requirement>> [[psysml:6d56d509-a272-42e3-905c-0e1bbd246da0 ]] {\r\n",
       "}\r\n",
       "comp usage \"objectiveFunction\" as E7  <<(T,blue) calculation>> [[psysml:0d158b00-d202-4b1f-90aa-9fc427f4eb2b ]] {\r\n",
       "}\r\n",
       "comp usage \"alternative: Engine\" as E8  <<(T,blue) part>> [[psysml:e8d66f1b-2710-4767-99ee-f2812ccd7696 ]] {\r\n",
       "}\r\n",
       "comp usage \"selectedAlternative: Engine\" as E9  <<(T,blue) part>> [[psysml:d0667918-a428-4729-9680-50da29281cd4 ]] {\r\n",
       "}\r\n",
       "}\r\n",
       "E3 - -:|> E2 [[psysml:2c927883-7b33-4f30-b07f-44dca6adebf7 ]] \r\n",
       "E4 - -:|> E2 [[psysml:59e46c20-b41c-4b83-8c8c-eff5ad41f1d7 ]] \r\n",
       "E5 ..> E2 [[psysml:d5cbdaa6-c586-4ab8-b2f7-038eda38592d ]] : <<subject>>\r\n",
       "E5 - ->> E6 [[psysml:14d02f99-86ef-419d-b64f-b983855c21b7 ]] : <<objective>>\r\n",
       "E5 *- - E7 [[psysml:60238b1f-3640-4bef-bde7-54f879504707 ]] \r\n",
       "E7 o- - \"1\"E8 [[psysml:83c02207-4172-44b5-b5b3-edd55ab7c0db ]] \r\n",
       "E8 - -:|> E2 [[psysml:3fd357fc-9742-4e4a-b08f-00e5f8b92b2e ]] \r\n",
       "E5 o- - \"1\"E9 [[psysml:44393528-ee32-422a-b73c-7e5d578e1b67 ]] \r\n",
       "E9 - -:|> E2 [[psysml:fe7d5224-67e7-4f42-a679-f87e330c9f80 ]] \r\n",
       "@enduml\r\n",
       "\n",
       "PlantUML version 1.2020.13(Sat Jun 13 12:26:38 UTC 2020)\n",
       "(EPL source distribution)\n",
       "Java Runtime: OpenJDK Runtime Environment\n",
       "JVM: OpenJDK 64-Bit Server VM\n",
       "Default Encoding: UTF-8\n",
       "Language: en\n",
       "Country: null\n",
       "--></g></svg>"
      ]
     },
     "execution_count": 16,
     "metadata": {},
     "output_type": "execute_result"
    }
   ],
   "source": [
    "%viz --style=\"LR\" --view=\"Default\" \"TradeStudyTest\""
   ]
  },
  {
   "cell_type": "code",
   "execution_count": 17,
   "id": "15b6145f",
   "metadata": {
    "execution": {
     "iopub.execute_input": "2021-10-03T08:30:37.090897Z",
     "iopub.status.busy": "2021-10-03T08:30:37.090502Z",
     "iopub.status.idle": "2021-10-03T08:30:37.131353Z",
     "shell.execute_reply": "2021-10-03T08:30:37.131668Z"
    }
   },
   "outputs": [
    {
     "data": {
      "image/svg+xml": [
       "<?xml version=\"1.0\" encoding=\"UTF-8\" standalone=\"no\"?><svg xmlns=\"http://www.w3.org/2000/svg\" xmlns:xlink=\"http://www.w3.org/1999/xlink\" contentScriptType=\"application/ecmascript\" contentStyleType=\"text/css\" height=\"461px\" preserveAspectRatio=\"none\" style=\"width:782px;height:461px;\" version=\"1.1\" viewBox=\"0 0 782 461\" width=\"782px\" zoomAndPan=\"magnify\"><defs/><g><!--MD5=[fbc87193dbaf4d95561dea2c320d4a47]\n",
       "cluster E1--><a href=\"psysml:ee7e22b2-7ed6-4f2c-8628-ec59eb221ec4\" target=\"_top\" title=\"psysml:ee7e22b2-7ed6-4f2c-8628-ec59eb221ec4\" xlink:actuate=\"onRequest\" xlink:href=\"psysml:ee7e22b2-7ed6-4f2c-8628-ec59eb221ec4\" xlink:show=\"new\" xlink:title=\"psysml:ee7e22b2-7ed6-4f2c-8628-ec59eb221ec4\" xlink:type=\"simple\"><polygon fill=\"#FFFFFF\" points=\"16,6,132,6,139,28.2969,760,28.2969,760,433,16,433,16,6\" style=\"stroke: #000000; stroke-width: 1.5;\"/><line style=\"stroke: #000000; stroke-width: 1.5;\" x1=\"16\" x2=\"139\" y1=\"28.2969\" y2=\"28.2969\"/><text fill=\"#000000\" font-family=\"sans-serif\" font-size=\"14\" font-weight=\"bold\" lengthAdjust=\"spacingAndGlyphs\" textLength=\"110\" x=\"20\" y=\"20.9951\">TradeStudyTest</text></a><!--MD5=[b4997ac47864f28c2f74865a473b2911]\n",
       "class E2--><a href=\"psysml:6dc2e48d-4c08-4400-bc60-82a531af2780\" target=\"_top\" title=\"psysml:6dc2e48d-4c08-4400-bc60-82a531af2780\" xlink:actuate=\"onRequest\" xlink:href=\"psysml:6dc2e48d-4c08-4400-bc60-82a531af2780\" xlink:show=\"new\" xlink:title=\"psysml:6dc2e48d-4c08-4400-bc60-82a531af2780\" xlink:type=\"simple\"><rect fill=\"#FFFFFF\" height=\"45.9375\" id=\"E2\" style=\"stroke: #383838; stroke-width: 1.5;\" width=\"66\" x=\"678\" y=\"163\"/><text fill=\"#000000\" font-family=\"sans-serif\" font-size=\"12\" font-style=\"italic\" lengthAdjust=\"spacingAndGlyphs\" textLength=\"64\" x=\"679\" y=\"179.1387\">«part def»</text><text fill=\"#000000\" font-family=\"sans-serif\" font-size=\"12\" lengthAdjust=\"spacingAndGlyphs\" textLength=\"43\" x=\"689.5\" y=\"193.1074\">Engine</text><line style=\"stroke: #383838; stroke-width: 1.5;\" x1=\"679\" x2=\"743\" y1=\"200.9375\" y2=\"200.9375\"/></a><!--MD5=[09b614a08d8cba4a07c9adeb5e0fee81]\n",
       "class E3--><a href=\"psysml:3defd9be-3b5d-4c6d-8f79-df776db84250\" target=\"_top\" title=\"psysml:3defd9be-3b5d-4c6d-8f79-df776db84250\" xlink:actuate=\"onRequest\" xlink:href=\"psysml:3defd9be-3b5d-4c6d-8f79-df776db84250\" xlink:show=\"new\" xlink:title=\"psysml:3defd9be-3b5d-4c6d-8f79-df776db84250\" xlink:type=\"simple\"><rect fill=\"#FFFFFF\" height=\"45.9375\" id=\"E3\" rx=\"10\" ry=\"10\" style=\"stroke: #383838; stroke-width: 1.5;\" width=\"108\" x=\"437.5\" y=\"41\"/><text fill=\"#000000\" font-family=\"sans-serif\" font-size=\"12\" font-style=\"italic\" lengthAdjust=\"spacingAndGlyphs\" textLength=\"40\" x=\"471.5\" y=\"57.1387\">«part»</text><text fill=\"#000000\" font-family=\"sans-serif\" font-size=\"12\" lengthAdjust=\"spacingAndGlyphs\" textLength=\"102\" x=\"440.5\" y=\"71.1074\">engine1: Engine</text><line style=\"stroke: #383838; stroke-width: 1.5;\" x1=\"438.5\" x2=\"544.5\" y1=\"78.9375\" y2=\"78.9375\"/></a><!--MD5=[ebbe1d658d1005bcc118a6aa81145e00]\n",
       "class E4--><a href=\"psysml:3a9a647b-2fd2-49b6-8a5f-7ce1649088e0\" target=\"_top\" title=\"psysml:3a9a647b-2fd2-49b6-8a5f-7ce1649088e0\" xlink:actuate=\"onRequest\" xlink:href=\"psysml:3a9a647b-2fd2-49b6-8a5f-7ce1649088e0\" xlink:show=\"new\" xlink:title=\"psysml:3a9a647b-2fd2-49b6-8a5f-7ce1649088e0\" xlink:type=\"simple\"><rect fill=\"#FFFFFF\" height=\"45.9375\" id=\"E4\" rx=\"10\" ry=\"10\" style=\"stroke: #383838; stroke-width: 1.5;\" width=\"108\" x=\"437.5\" y=\"122\"/><text fill=\"#000000\" font-family=\"sans-serif\" font-size=\"12\" font-style=\"italic\" lengthAdjust=\"spacingAndGlyphs\" textLength=\"40\" x=\"471.5\" y=\"138.1387\">«part»</text><text fill=\"#000000\" font-family=\"sans-serif\" font-size=\"12\" lengthAdjust=\"spacingAndGlyphs\" textLength=\"102\" x=\"440.5\" y=\"152.1074\">engine2: Engine</text><line style=\"stroke: #383838; stroke-width: 1.5;\" x1=\"438.5\" x2=\"544.5\" y1=\"159.9375\" y2=\"159.9375\"/></a><!--MD5=[270fce915f116d4de14055a7c1d9a0f3]\n",
       "class E5--><a href=\"psysml:4b9a9840-0888-40ad-997b-4be591991c45\" target=\"_top\" title=\"psysml:4b9a9840-0888-40ad-997b-4be591991c45\" xlink:actuate=\"onRequest\" xlink:href=\"psysml:4b9a9840-0888-40ad-997b-4be591991c45\" xlink:show=\"new\" xlink:title=\"psysml:4b9a9840-0888-40ad-997b-4be591991c45\" xlink:type=\"simple\"><rect fill=\"#FFFFFF\" height=\"45.9375\" id=\"E5\" rx=\"10\" ry=\"10\" style=\"stroke: #383838; stroke-width: 1.5;\" width=\"199\" x=\"32\" y=\"284\"/><text fill=\"#000000\" font-family=\"sans-serif\" font-size=\"12\" font-style=\"italic\" lengthAdjust=\"spacingAndGlyphs\" textLength=\"64\" x=\"99.5\" y=\"300.1387\">«analysis»</text><text fill=\"#000000\" font-family=\"sans-serif\" font-size=\"12\" lengthAdjust=\"spacingAndGlyphs\" textLength=\"193\" x=\"35\" y=\"314.1074\">engineTradeStudy: TradeStudy</text><line style=\"stroke: #383838; stroke-width: 1.5;\" x1=\"33\" x2=\"230\" y1=\"321.9375\" y2=\"321.9375\"/></a><!--MD5=[60a26617385b1d2d0262a64233df1f8d]\n",
       "class E6--><a href=\"psysml:6d56d509-a272-42e3-905c-0e1bbd246da0\" target=\"_top\" title=\"psysml:6d56d509-a272-42e3-905c-0e1bbd246da0\" xlink:actuate=\"onRequest\" xlink:href=\"psysml:6d56d509-a272-42e3-905c-0e1bbd246da0\" xlink:show=\"new\" xlink:title=\"psysml:6d56d509-a272-42e3-905c-0e1bbd246da0\" xlink:type=\"simple\"><rect fill=\"#FFFFFF\" height=\"45.9375\" id=\"E6\" rx=\"10\" ry=\"10\" style=\"stroke: #383838; stroke-width: 1.5;\" width=\"251\" x=\"366\" y=\"284\"/><text fill=\"#000000\" font-family=\"sans-serif\" font-size=\"12\" font-style=\"italic\" lengthAdjust=\"spacingAndGlyphs\" textLength=\"91\" x=\"446\" y=\"300.1387\">«requirement»</text><text fill=\"#000000\" font-family=\"sans-serif\" font-size=\"12\" lengthAdjust=\"spacingAndGlyphs\" textLength=\"245\" x=\"369\" y=\"314.1074\">tradeStudyObjective: MaximizeObjective</text><line style=\"stroke: #383838; stroke-width: 1.5;\" x1=\"367\" x2=\"616\" y1=\"321.9375\" y2=\"321.9375\"/></a><!--MD5=[2156ba9850f5573cc1fc38a6a4b2f02b]\n",
       "class E7--><a href=\"psysml:d0667918-a428-4729-9680-50da29281cd4\" target=\"_top\" title=\"psysml:d0667918-a428-4729-9680-50da29281cd4\" xlink:actuate=\"onRequest\" xlink:href=\"psysml:d0667918-a428-4729-9680-50da29281cd4\" xlink:show=\"new\" xlink:title=\"psysml:d0667918-a428-4729-9680-50da29281cd4\" xlink:type=\"simple\"><rect fill=\"#FFFFFF\" height=\"45.9375\" id=\"E7\" rx=\"10\" ry=\"10\" style=\"stroke: #383838; stroke-width: 1.5;\" width=\"178\" x=\"402.5\" y=\"203\"/><text fill=\"#000000\" font-family=\"sans-serif\" font-size=\"12\" font-style=\"italic\" lengthAdjust=\"spacingAndGlyphs\" textLength=\"40\" x=\"471.5\" y=\"219.1387\">«part»</text><text fill=\"#000000\" font-family=\"sans-serif\" font-size=\"12\" lengthAdjust=\"spacingAndGlyphs\" textLength=\"172\" x=\"405.5\" y=\"233.1074\">selectedAlternative: Engine</text><line style=\"stroke: #383838; stroke-width: 1.5;\" x1=\"403.5\" x2=\"579.5\" y1=\"240.9375\" y2=\"240.9375\"/></a><!--MD5=[05d275557350bfb9b23a4ef7222b4c39]\n",
       "link E3 to E2--><a href=\"psysml:2c927883-7b33-4f30-b07f-44dca6adebf7\" target=\"_top\" title=\"psysml:2c927883-7b33-4f30-b07f-44dca6adebf7\" xlink:actuate=\"onRequest\" xlink:href=\"psysml:2c927883-7b33-4f30-b07f-44dca6adebf7\" xlink:show=\"new\" xlink:title=\"psysml:2c927883-7b33-4f30-b07f-44dca6adebf7\" xlink:type=\"simple\"><path d=\"M545.68,75.89 C568.54,82.29 594.99,91.49 617,104 C637.99,115.93 658.44,133.14 674.79,148.72 \" fill=\"none\" id=\"E3-&gt;E2\" style=\"stroke: #383838; stroke-width: 1.0;\"/><polygon fill=\"#FFFFFF\" points=\"689.1,162.94,670.6811,154.5291,680.5405,144.5897,689.1,162.94\" style=\"stroke: #383838; stroke-width: 1.0;\"/><ellipse cx=\"668.0428\" cy=\"149.095\" fill=\"#383838\" rx=\"2\" ry=\"2\" style=\"stroke: #383838; stroke-width: 1.0;\"/><ellipse cx=\"675.0853\" cy=\"141.9954\" fill=\"#383838\" rx=\"2\" ry=\"2\" style=\"stroke: #383838; stroke-width: 1.0;\"/></a><!--MD5=[185131fc0dcab0a4505a2ebe144e961b]\n",
       "link E4 to E2--><a href=\"psysml:59e46c20-b41c-4b83-8c8c-eff5ad41f1d7\" target=\"_top\" title=\"psysml:59e46c20-b41c-4b83-8c8c-eff5ad41f1d7\" xlink:actuate=\"onRequest\" xlink:href=\"psysml:59e46c20-b41c-4b83-8c8c-eff5ad41f1d7\" xlink:show=\"new\" xlink:title=\"psysml:59e46c20-b41c-4b83-8c8c-eff5ad41f1d7\" xlink:type=\"simple\"><path d=\"M545.71,155.03 C579.81,161.46 623.87,169.76 657.78,176.16 \" fill=\"none\" id=\"E4-&gt;E2\" style=\"stroke: #383838; stroke-width: 1.0;\"/><polygon fill=\"#FFFFFF\" points=\"677.9,179.95,657.9307,183.3006,660.53,169.544,677.9,179.95\" style=\"stroke: #383838; stroke-width: 1.0;\"/><ellipse cx=\"652.7011\" cy=\"180.2771\" fill=\"#383838\" rx=\"2\" ry=\"2\" style=\"stroke: #383838; stroke-width: 1.0;\"/><ellipse cx=\"654.5578\" cy=\"170.4509\" fill=\"#383838\" rx=\"2\" ry=\"2\" style=\"stroke: #383838; stroke-width: 1.0;\"/></a><!--MD5=[15ebcb19ae302d9b601edb458606d402]\n",
       "link E5 to E2--><a href=\"psysml:d5cbdaa6-c586-4ab8-b2f7-038eda38592d\" target=\"_top\" title=\"psysml:d5cbdaa6-c586-4ab8-b2f7-038eda38592d\" xlink:actuate=\"onRequest\" xlink:href=\"psysml:d5cbdaa6-c586-4ab8-b2f7-038eda38592d\" xlink:show=\"new\" xlink:title=\"psysml:d5cbdaa6-c586-4ab8-b2f7-038eda38592d\" xlink:type=\"simple\"><path d=\"M178.56,330.07 C269.63,372.11 476.11,449.35 617,364 C671.05,331.26 695.18,255.65 704.67,214.29 \" fill=\"none\" id=\"E5-&gt;E2\" style=\"stroke: #383838; stroke-width: 1.0; stroke-dasharray: 7.0,7.0;\"/><polygon fill=\"#383838\" points=\"705.81,209.18,699.9529,217.098,704.7253,214.0609,707.7624,218.8334,705.81,209.18\" style=\"stroke: #383838; stroke-width: 1.0;\"/><text fill=\"#000000\" font-family=\"sans-serif\" font-size=\"13\" lengthAdjust=\"spacingAndGlyphs\" textLength=\"62\" x=\"460.5\" y=\"360.0669\">«subject»</text></a><!--MD5=[9120cf2e5df3bff93db8f754bbbc09b4]\n",
       "link E5 to E6--><a href=\"psysml:14d02f99-86ef-419d-b64f-b983855c21b7\" target=\"_top\" title=\"psysml:14d02f99-86ef-419d-b64f-b983855c21b7\" xlink:actuate=\"onRequest\" xlink:href=\"psysml:14d02f99-86ef-419d-b64f-b983855c21b7\" xlink:show=\"new\" xlink:title=\"psysml:14d02f99-86ef-419d-b64f-b983855c21b7\" xlink:type=\"simple\"><path d=\"M231.27,307 C270.35,307 315.87,307 357.75,307 \" fill=\"none\" id=\"E5-&gt;E6\" style=\"stroke: #383838; stroke-width: 1.0;\"/><polygon fill=\"#383838\" points=\"365.81,307,357.81,304,357.81,310,365.81,307\" style=\"stroke: #383838; stroke-width: 1.0;\"/><text fill=\"#000000\" font-family=\"sans-serif\" font-size=\"13\" lengthAdjust=\"spacingAndGlyphs\" textLength=\"73\" x=\"262\" y=\"303.0669\">«objective»</text></a><!--MD5=[452b418e7f8a40397a49b8c0a78acc5b]\n",
       "reverse link E5 to E7--><a href=\"psysml:44393528-ee32-422a-b73c-7e5d578e1b67\" target=\"_top\" title=\"psysml:44393528-ee32-422a-b73c-7e5d578e1b67\" xlink:actuate=\"onRequest\" xlink:href=\"psysml:44393528-ee32-422a-b73c-7e5d578e1b67\" xlink:show=\"new\" xlink:title=\"psysml:44393528-ee32-422a-b73c-7e5d578e1b67\" xlink:type=\"simple\"><path d=\"M244.05,281.76 C295.06,270.22 354.63,256.74 402.43,245.93 \" fill=\"none\" id=\"E5&lt;-E7\" style=\"stroke: #383838; stroke-width: 1.0;\"/><polygon fill=\"#FFFFFF\" points=\"231.27,284.65,238.0057,287.2251,242.9733,281.998,236.2376,279.4229,231.27,284.65\" style=\"stroke: #383838; stroke-width: 1.0;\"/><text fill=\"#000000\" font-family=\"sans-serif\" font-size=\"13\" lengthAdjust=\"spacingAndGlyphs\" textLength=\"8\" x=\"386.4318\" y=\"260.3626\">1</text></a><!--MD5=[583832df87f4419a098336a29a52fa00]\n",
       "link E7 to E2--><a href=\"psysml:fe7d5224-67e7-4f42-a679-f87e330c9f80\" target=\"_top\" title=\"psysml:fe7d5224-67e7-4f42-a679-f87e330c9f80\" xlink:actuate=\"onRequest\" xlink:href=\"psysml:fe7d5224-67e7-4f42-a679-f87e330c9f80\" xlink:show=\"new\" xlink:title=\"psysml:fe7d5224-67e7-4f42-a679-f87e330c9f80\" xlink:type=\"simple\"><path d=\"M580.65,209.79 C606.98,204.95 634.97,199.8 658.16,195.53 \" fill=\"none\" id=\"E7-&gt;E2\" style=\"stroke: #383838; stroke-width: 1.0;\"/><polygon fill=\"#FFFFFF\" points=\"677.92,191.9,660.4978,202.2182,657.9678,188.4487,677.92,191.9\" style=\"stroke: #383838; stroke-width: 1.0;\"/><ellipse cx=\"654.5302\" cy=\"201.2812\" fill=\"#383838\" rx=\"2\" ry=\"2\" style=\"stroke: #383838; stroke-width: 1.0;\"/><ellipse cx=\"652.7231\" cy=\"191.4458\" fill=\"#383838\" rx=\"2\" ry=\"2\" style=\"stroke: #383838; stroke-width: 1.0;\"/></a><!--MD5=[33800563e6a63665a4fca52df2cee322]\n",
       "@startuml\r\n",
       "left to right direction\r\n",
       "skinparam monochrome true\r\n",
       "skinparam classbackgroundcolor white\r\n",
       "skinparam shadowing false\r\n",
       "skinparam wrapWidth 300\r\n",
       "hide circle\r\n",
       "\r\n",
       "package \"TradeStudyTest\" as E1  [[psysml:ee7e22b2-7ed6-4f2c-8628-ec59eb221ec4 ]]  {\r\n",
       "comp def \"Engine\" as E2  <<(T,blue) part def>> [[psysml:6dc2e48d-4c08-4400-bc60-82a531af2780 ]] {\r\n",
       "}\r\n",
       "comp usage \"engine1: Engine\" as E3  <<(T,blue) part>> [[psysml:3defd9be-3b5d-4c6d-8f79-df776db84250 ]] {\r\n",
       "}\r\n",
       "comp usage \"engine2: Engine\" as E4  <<(T,blue) part>> [[psysml:3a9a647b-2fd2-49b6-8a5f-7ce1649088e0 ]] {\r\n",
       "}\r\n",
       "comp usage \"engineTradeStudy: TradeStudy\" as E5 << analysis>> [[psysml:4b9a9840-0888-40ad-997b-4be591991c45 ]] {\r\n",
       "}\r\n",
       "comp usage \"tradeStudyObjective: MaximizeObjective\" as E6  <<(T,blue) requirement>> [[psysml:6d56d509-a272-42e3-905c-0e1bbd246da0 ]] {\r\n",
       "}\r\n",
       "comp usage \"selectedAlternative: Engine\" as E7  <<(T,blue) part>> [[psysml:d0667918-a428-4729-9680-50da29281cd4 ]] {\r\n",
       "}\r\n",
       "}\r\n",
       "E3 - -:|> E2 [[psysml:2c927883-7b33-4f30-b07f-44dca6adebf7 ]] \r\n",
       "E4 - -:|> E2 [[psysml:59e46c20-b41c-4b83-8c8c-eff5ad41f1d7 ]] \r\n",
       "E5 ..> E2 [[psysml:d5cbdaa6-c586-4ab8-b2f7-038eda38592d ]] : <<subject>>\r\n",
       "E5 - ->> E6 [[psysml:14d02f99-86ef-419d-b64f-b983855c21b7 ]] : <<objective>>\r\n",
       "E5 o- - \"1\"E7 [[psysml:44393528-ee32-422a-b73c-7e5d578e1b67 ]] \r\n",
       "E7 - -:|> E2 [[psysml:fe7d5224-67e7-4f42-a679-f87e330c9f80 ]] \r\n",
       "@enduml\r\n",
       "\n",
       "PlantUML version 1.2020.13(Sat Jun 13 12:26:38 UTC 2020)\n",
       "(EPL source distribution)\n",
       "Java Runtime: OpenJDK Runtime Environment\n",
       "JVM: OpenJDK 64-Bit Server VM\n",
       "Default Encoding: UTF-8\n",
       "Language: en\n",
       "Country: null\n",
       "--></g></svg>"
      ]
     },
     "execution_count": 17,
     "metadata": {},
     "output_type": "execute_result"
    }
   ],
   "source": [
    "%viz --style=\"LR\" --view=\"Tree\" \"TradeStudyTest\""
   ]
  },
  {
   "cell_type": "code",
   "execution_count": 18,
   "id": "7900e846",
   "metadata": {
    "execution": {
     "iopub.execute_input": "2021-10-03T08:30:37.181491Z",
     "iopub.status.busy": "2021-10-03T08:30:37.181054Z",
     "iopub.status.idle": "2021-10-03T08:30:37.187112Z",
     "shell.execute_reply": "2021-10-03T08:30:37.187444Z"
    }
   },
   "outputs": [
    {
     "data": {
      "image/svg+xml": [
       "<?xml version=\"1.0\" encoding=\"UTF-8\" standalone=\"no\"?><svg xmlns=\"http://www.w3.org/2000/svg\" xmlns:xlink=\"http://www.w3.org/1999/xlink\" contentScriptType=\"application/ecmascript\" contentStyleType=\"text/css\" height=\"12px\" preserveAspectRatio=\"none\" style=\"width:12px;height:12px;\" version=\"1.1\" viewBox=\"0 0 12 12\" width=\"12px\" zoomAndPan=\"magnify\"><defs/><g><!--MD5=[19d285c9d72a204eba4e2cd117d745e8]\n",
       "@startuml\r\n",
       "left to right direction\r\n",
       "skinparam monochrome true\r\n",
       "skinparam classbackgroundcolor white\r\n",
       "skinparam shadowing false\r\n",
       "skinparam wrapWidth 300\r\n",
       "hide circle\r\n",
       "\r\n",
       "@enduml\r\n",
       "\n",
       "PlantUML version 1.2020.13(Sat Jun 13 12:26:38 UTC 2020)\n",
       "(EPL source distribution)\n",
       "Java Runtime: OpenJDK Runtime Environment\n",
       "JVM: OpenJDK 64-Bit Server VM\n",
       "Default Encoding: UTF-8\n",
       "Language: en\n",
       "Country: null\n",
       "--></g></svg>"
      ]
     },
     "execution_count": 18,
     "metadata": {},
     "output_type": "execute_result"
    }
   ],
   "source": [
    "%viz --style=\"LR\" --view=\"State\" \"TradeStudyTest\""
   ]
  },
  {
   "cell_type": "code",
   "execution_count": 19,
   "id": "e6b47116",
   "metadata": {
    "execution": {
     "iopub.execute_input": "2021-10-03T08:30:37.236912Z",
     "iopub.status.busy": "2021-10-03T08:30:37.236496Z",
     "iopub.status.idle": "2021-10-03T08:30:37.278663Z",
     "shell.execute_reply": "2021-10-03T08:30:37.278292Z"
    }
   },
   "outputs": [
    {
     "data": {
      "image/svg+xml": [
       "<?xml version=\"1.0\" encoding=\"UTF-8\" standalone=\"no\"?><svg xmlns=\"http://www.w3.org/2000/svg\" xmlns:xlink=\"http://www.w3.org/1999/xlink\" contentScriptType=\"application/ecmascript\" contentStyleType=\"text/css\" height=\"270px\" preserveAspectRatio=\"none\" style=\"width:1017px;height:270px;\" version=\"1.1\" viewBox=\"0 0 1017 270\" width=\"1017px\" zoomAndPan=\"magnify\"><defs/><g><!--MD5=[fbc87193dbaf4d95561dea2c320d4a47]\n",
       "cluster E1--><a href=\"psysml:ee7e22b2-7ed6-4f2c-8628-ec59eb221ec4\" target=\"_top\" title=\"psysml:ee7e22b2-7ed6-4f2c-8628-ec59eb221ec4\" xlink:actuate=\"onRequest\" xlink:href=\"psysml:ee7e22b2-7ed6-4f2c-8628-ec59eb221ec4\" xlink:show=\"new\" xlink:title=\"psysml:ee7e22b2-7ed6-4f2c-8628-ec59eb221ec4\" xlink:type=\"simple\"><polygon fill=\"#FFFFFF\" points=\"16,6,132,6,139,28.2969,995,28.2969,995,258,16,258,16,6\" style=\"stroke: #000000; stroke-width: 1.5;\"/><line style=\"stroke: #000000; stroke-width: 1.5;\" x1=\"16\" x2=\"139\" y1=\"28.2969\" y2=\"28.2969\"/><text fill=\"#000000\" font-family=\"sans-serif\" font-size=\"14\" font-weight=\"bold\" lengthAdjust=\"spacingAndGlyphs\" textLength=\"110\" x=\"20\" y=\"20.9951\">TradeStudyTest</text></a><!--MD5=[270fce915f116d4de14055a7c1d9a0f3]\n",
       "class E5--><a href=\"psysml:4b9a9840-0888-40ad-997b-4be591991c45\" target=\"_top\" title=\"psysml:4b9a9840-0888-40ad-997b-4be591991c45\" xlink:actuate=\"onRequest\" xlink:href=\"psysml:4b9a9840-0888-40ad-997b-4be591991c45\" xlink:show=\"new\" xlink:title=\"psysml:4b9a9840-0888-40ad-997b-4be591991c45\" xlink:type=\"simple\"><rect fill=\"#FFFFFF\" height=\"45.9375\" id=\"E5\" rx=\"10\" ry=\"10\" style=\"stroke: #383838; stroke-width: 1.5;\" width=\"199\" x=\"32\" y=\"46\"/><text fill=\"#000000\" font-family=\"sans-serif\" font-size=\"12\" font-style=\"italic\" lengthAdjust=\"spacingAndGlyphs\" textLength=\"64\" x=\"99.5\" y=\"62.1387\">«analysis»</text><text fill=\"#000000\" font-family=\"sans-serif\" font-size=\"12\" lengthAdjust=\"spacingAndGlyphs\" textLength=\"193\" x=\"35\" y=\"76.1074\">engineTradeStudy: TradeStudy</text><line style=\"stroke: #383838; stroke-width: 1.5;\" x1=\"33\" x2=\"230\" y1=\"83.9375\" y2=\"83.9375\"/></a><!--MD5=[60a26617385b1d2d0262a64233df1f8d]\n",
       "class E6--><a href=\"psysml:6d56d509-a272-42e3-905c-0e1bbd246da0\" target=\"_top\" title=\"psysml:6d56d509-a272-42e3-905c-0e1bbd246da0\" xlink:actuate=\"onRequest\" xlink:href=\"psysml:6d56d509-a272-42e3-905c-0e1bbd246da0\" xlink:show=\"new\" xlink:title=\"psysml:6d56d509-a272-42e3-905c-0e1bbd246da0\" xlink:type=\"simple\"><rect fill=\"#FFFFFF\" height=\"45.9375\" id=\"E6\" rx=\"10\" ry=\"10\" style=\"stroke: #383838; stroke-width: 1.5;\" width=\"251\" x=\"322\" y=\"196\"/><text fill=\"#000000\" font-family=\"sans-serif\" font-size=\"12\" font-style=\"italic\" lengthAdjust=\"spacingAndGlyphs\" textLength=\"91\" x=\"402\" y=\"212.1387\">«requirement»</text><text fill=\"#000000\" font-family=\"sans-serif\" font-size=\"12\" lengthAdjust=\"spacingAndGlyphs\" textLength=\"245\" x=\"325\" y=\"226.1074\">tradeStudyObjective: MaximizeObjective</text><line style=\"stroke: #383838; stroke-width: 1.5;\" x1=\"323\" x2=\"572\" y1=\"233.9375\" y2=\"233.9375\"/></a><!--MD5=[2156ba9850f5573cc1fc38a6a4b2f02b]\n",
       "class E7--><a href=\"psysml:0d158b00-d202-4b1f-90aa-9fc427f4eb2b\" target=\"_top\" title=\"psysml:0d158b00-d202-4b1f-90aa-9fc427f4eb2b\" xlink:actuate=\"onRequest\" xlink:href=\"psysml:0d158b00-d202-4b1f-90aa-9fc427f4eb2b\" xlink:show=\"new\" xlink:title=\"psysml:0d158b00-d202-4b1f-90aa-9fc427f4eb2b\" xlink:type=\"simple\"><rect fill=\"#FFFFFF\" height=\"45.9375\" id=\"E7\" rx=\"10\" ry=\"10\" style=\"stroke: #383838; stroke-width: 1.5;\" width=\"116\" x=\"389.5\" y=\"115\"/><text fill=\"#000000\" font-family=\"sans-serif\" font-size=\"12\" font-style=\"italic\" lengthAdjust=\"spacingAndGlyphs\" textLength=\"82\" x=\"406.5\" y=\"131.1387\">«calculation»</text><text fill=\"#000000\" font-family=\"sans-serif\" font-size=\"12\" lengthAdjust=\"spacingAndGlyphs\" textLength=\"110\" x=\"392.5\" y=\"145.1074\">objectiveFunction</text><line style=\"stroke: #383838; stroke-width: 1.5;\" x1=\"390.5\" x2=\"504.5\" y1=\"152.9375\" y2=\"152.9375\"/></a><!--MD5=[b9389687b975829384b498ac4b7476b2]\n",
       "class E8--><a href=\"psysml:e8d66f1b-2710-4767-99ee-f2812ccd7696\" target=\"_top\" title=\"psysml:e8d66f1b-2710-4767-99ee-f2812ccd7696\" xlink:actuate=\"onRequest\" xlink:href=\"psysml:e8d66f1b-2710-4767-99ee-f2812ccd7696\" xlink:show=\"new\" xlink:title=\"psysml:e8d66f1b-2710-4767-99ee-f2812ccd7696\" xlink:type=\"simple\"><rect fill=\"#FFFFFF\" height=\"31.9688\" id=\"E8\" rx=\"10\" ry=\"10\" style=\"stroke: #383838; stroke-width: 1.5;\" width=\"124\" x=\"767\" y=\"131\"/><text fill=\"#000000\" font-family=\"sans-serif\" font-size=\"12\" lengthAdjust=\"spacingAndGlyphs\" textLength=\"118\" x=\"770\" y=\"147.1387\">alternative: Engine</text><line style=\"stroke: #383838; stroke-width: 1.5;\" x1=\"768\" x2=\"890\" y1=\"154.9688\" y2=\"154.9688\"/></a><!--MD5=[fd4143e9d270a159db93a4ea2a975926]\n",
       "class E9--><a href=\"psysml:d0667918-a428-4729-9680-50da29281cd4\" target=\"_top\" title=\"psysml:d0667918-a428-4729-9680-50da29281cd4\" xlink:actuate=\"onRequest\" xlink:href=\"psysml:d0667918-a428-4729-9680-50da29281cd4\" xlink:show=\"new\" xlink:title=\"psysml:d0667918-a428-4729-9680-50da29281cd4\" xlink:type=\"simple\"><rect fill=\"#FFFFFF\" height=\"31.9688\" id=\"E9\" rx=\"10\" ry=\"10\" style=\"stroke: #383838; stroke-width: 1.5;\" width=\"178\" x=\"581\" y=\"98\"/><text fill=\"#000000\" font-family=\"sans-serif\" font-size=\"12\" lengthAdjust=\"spacingAndGlyphs\" textLength=\"172\" x=\"584\" y=\"114.1387\">selectedAlternative: Engine</text><line style=\"stroke: #383838; stroke-width: 1.5;\" x1=\"582\" x2=\"758\" y1=\"121.9688\" y2=\"121.9688\"/></a><g id=\"E1.E2\"><a href=\"psysml:6dc2e48d-4c08-4400-bc60-82a531af2780\" target=\"_top\" title=\"psysml:6dc2e48d-4c08-4400-bc60-82a531af2780\" xlink:actuate=\"onRequest\" xlink:href=\"psysml:6dc2e48d-4c08-4400-bc60-82a531af2780\" xlink:show=\"new\" xlink:title=\"psysml:6dc2e48d-4c08-4400-bc60-82a531af2780\" xlink:type=\"simple\"><rect fill=\"#FFFFFF\" height=\"42.9375\" id=\"E2\" style=\"stroke: #383838; stroke-width: 1.5;\" width=\"71\" x=\"908\" y=\"73.5\"/><rect fill=\"#F8F8F8\" height=\"37.9375\" style=\"stroke: #383838; stroke-width: 1.5;\" width=\"71\" x=\"908\" y=\"73.5\"/><text fill=\"#000000\" font-family=\"sans-serif\" font-size=\"12\" font-style=\"italic\" lengthAdjust=\"spacingAndGlyphs\" textLength=\"64\" x=\"911.5\" y=\"89.6387\">«part def»</text><text fill=\"#000000\" font-family=\"sans-serif\" font-size=\"12\" lengthAdjust=\"spacingAndGlyphs\" textLength=\"43\" x=\"922\" y=\"103.6074\">Engine</text></a></g><g id=\"E1.E3\"><a href=\"psysml:3defd9be-3b5d-4c6d-8f79-df776db84250\" target=\"_top\" title=\"psysml:3defd9be-3b5d-4c6d-8f79-df776db84250\" xlink:actuate=\"onRequest\" xlink:href=\"psysml:3defd9be-3b5d-4c6d-8f79-df776db84250\" xlink:show=\"new\" xlink:title=\"psysml:3defd9be-3b5d-4c6d-8f79-df776db84250\" xlink:type=\"simple\"><rect fill=\"#FFFFFF\" height=\"40\" id=\"E3\" rx=\"10\" ry=\"10\" style=\"stroke: #383838; stroke-width: 1.5;\" width=\"113\" x=\"75\" y=\"127\"/><rect fill=\"#F8F8F8\" height=\"23.9688\" rx=\"10\" ry=\"10\" style=\"stroke: #F8F8F8; stroke-width: 1.5;\" width=\"113\" x=\"75\" y=\"127\"/><rect fill=\"#F8F8F8\" height=\"10\" style=\"stroke: #F8F8F8; stroke-width: 1.5;\" width=\"113\" x=\"75\" y=\"140.9688\"/><rect fill=\"none\" height=\"40\" id=\"E3\" rx=\"10\" ry=\"10\" style=\"stroke: #383838; stroke-width: 1.5;\" width=\"113\" x=\"75\" y=\"127\"/><text fill=\"#000000\" font-family=\"sans-serif\" font-size=\"12\" lengthAdjust=\"spacingAndGlyphs\" textLength=\"102\" x=\"80.5\" y=\"143.1387\">engine1: Engine</text></a></g><g id=\"E1.E4\"><a href=\"psysml:3a9a647b-2fd2-49b6-8a5f-7ce1649088e0\" target=\"_top\" title=\"psysml:3a9a647b-2fd2-49b6-8a5f-7ce1649088e0\" xlink:actuate=\"onRequest\" xlink:href=\"psysml:3a9a647b-2fd2-49b6-8a5f-7ce1649088e0\" xlink:show=\"new\" xlink:title=\"psysml:3a9a647b-2fd2-49b6-8a5f-7ce1649088e0\" xlink:type=\"simple\"><rect fill=\"#FFFFFF\" height=\"40\" id=\"E4\" rx=\"10\" ry=\"10\" style=\"stroke: #383838; stroke-width: 1.5;\" width=\"113\" x=\"75\" y=\"202\"/><rect fill=\"#F8F8F8\" height=\"23.9688\" rx=\"10\" ry=\"10\" style=\"stroke: #F8F8F8; stroke-width: 1.5;\" width=\"113\" x=\"75\" y=\"202\"/><rect fill=\"#F8F8F8\" height=\"10\" style=\"stroke: #F8F8F8; stroke-width: 1.5;\" width=\"113\" x=\"75\" y=\"215.9688\"/><rect fill=\"none\" height=\"40\" id=\"E4\" rx=\"10\" ry=\"10\" style=\"stroke: #383838; stroke-width: 1.5;\" width=\"113\" x=\"75\" y=\"202\"/><text fill=\"#000000\" font-family=\"sans-serif\" font-size=\"12\" lengthAdjust=\"spacingAndGlyphs\" textLength=\"102\" x=\"80.5\" y=\"218.1387\">engine2: Engine</text></a></g><!--MD5=[15ebcb19ae302d9b601edb458606d402]\n",
       "link E5 to E2--><a href=\"psysml:d5cbdaa6-c586-4ab8-b2f7-038eda38592d\" target=\"_top\" title=\"psysml:d5cbdaa6-c586-4ab8-b2f7-038eda38592d\" xlink:actuate=\"onRequest\" xlink:href=\"psysml:d5cbdaa6-c586-4ab8-b2f7-038eda38592d\" xlink:show=\"new\" xlink:title=\"psysml:d5cbdaa6-c586-4ab8-b2f7-038eda38592d\" xlink:type=\"simple\"><path d=\"M231.41,66.04 C258.21,65.6 287.22,65.45 314,66 C574.61,71.33 640.15,69.42 900,90 C900.79,90.06 901.58,90.13 902.38,90.2 \" fill=\"none\" id=\"E5-&gt;E2\" style=\"stroke: #383838; stroke-width: 1.0; stroke-dasharray: 7.0,7.0;\"/><polygon fill=\"#383838\" points=\"907.73,90.69,899.1341,85.8827,902.751,90.2322,898.4015,93.8491,907.73,90.69\" style=\"stroke: #383838; stroke-width: 1.0;\"/><text fill=\"#000000\" font-family=\"sans-serif\" font-size=\"13\" lengthAdjust=\"spacingAndGlyphs\" textLength=\"62\" x=\"639\" y=\"68.0669\">«subject»</text></a><!--MD5=[9120cf2e5df3bff93db8f754bbbc09b4]\n",
       "link E5 to E6--><a href=\"psysml:14d02f99-86ef-419d-b64f-b983855c21b7\" target=\"_top\" title=\"psysml:14d02f99-86ef-419d-b64f-b983855c21b7\" xlink:actuate=\"onRequest\" xlink:href=\"psysml:14d02f99-86ef-419d-b64f-b983855c21b7\" xlink:show=\"new\" xlink:title=\"psysml:14d02f99-86ef-419d-b64f-b983855c21b7\" xlink:type=\"simple\"><path d=\"M209.42,92.23 C217.39,96.87 224.81,102.4 231,109 C238.69,117.2 231.81,124.35 239,133 C265.95,165.44 283.29,162.25 322,179 C333.73,184.08 346.33,188.86 358.84,193.22 \" fill=\"none\" id=\"E5-&gt;E6\" style=\"stroke: #383838; stroke-width: 1.0;\"/><polygon fill=\"#383838\" points=\"366.61,195.89,360.0212,190.4506,358.0692,196.1242,366.61,195.89\" style=\"stroke: #383838; stroke-width: 1.0;\"/><text fill=\"#000000\" font-family=\"sans-serif\" font-size=\"13\" lengthAdjust=\"spacingAndGlyphs\" textLength=\"73\" x=\"240\" y=\"129.0669\">«objective»</text></a><!--MD5=[452b418e7f8a40397a49b8c0a78acc5b]\n",
       "reverse link E5 to E7--><a href=\"psysml:60238b1f-3640-4bef-bde7-54f879504707\" target=\"_top\" title=\"psysml:60238b1f-3640-4bef-bde7-54f879504707\" xlink:actuate=\"onRequest\" xlink:href=\"psysml:60238b1f-3640-4bef-bde7-54f879504707\" xlink:show=\"new\" xlink:title=\"psysml:60238b1f-3640-4bef-bde7-54f879504707\" xlink:type=\"simple\"><path d=\"M244.39,93.59 C293.4,104.36 348.81,116.53 389.2,125.41 \" fill=\"none\" id=\"E5&lt;-E7\" style=\"stroke: #383838; stroke-width: 1.0;\"/><polygon fill=\"#383838\" points=\"231.42,90.74,236.4237,95.9326,243.1413,93.311,238.1377,88.1184,231.42,90.74\" style=\"stroke: #383838; stroke-width: 1.0;\"/></a><!--MD5=[dc164f5e8a733ab456ef1add180e9e34]\n",
       "reverse link E7 to E8--><a href=\"psysml:83c02207-4172-44b5-b5b3-edd55ab7c0db\" target=\"_top\" title=\"psysml:83c02207-4172-44b5-b5b3-edd55ab7c0db\" xlink:actuate=\"onRequest\" xlink:href=\"psysml:83c02207-4172-44b5-b5b3-edd55ab7c0db\" xlink:show=\"new\" xlink:title=\"psysml:83c02207-4172-44b5-b5b3-edd55ab7c0db\" xlink:type=\"simple\"><path d=\"M519.01,139.67 C590.24,141.36 699.16,143.94 766.84,145.55 \" fill=\"none\" id=\"E7&lt;-E8\" style=\"stroke: #383838; stroke-width: 1.0;\"/><polygon fill=\"#FFFFFF\" points=\"505.73,139.36,511.6315,143.504,517.7265,139.6503,511.825,135.5063,505.73,139.36\" style=\"stroke: #383838; stroke-width: 1.0;\"/><text fill=\"#000000\" font-family=\"sans-serif\" font-size=\"13\" lengthAdjust=\"spacingAndGlyphs\" textLength=\"8\" x=\"751.1903\" y=\"158.3259\">1</text></a><!--MD5=[f1f3f9f2fc535e6147756cb86a7f2e32]\n",
       "link E8 to E2--><a href=\"psysml:3fd357fc-9742-4e4a-b08f-00e5f8b92b2e\" target=\"_top\" title=\"psysml:3fd357fc-9742-4e4a-b08f-00e5f8b92b2e\" xlink:actuate=\"onRequest\" xlink:href=\"psysml:3fd357fc-9742-4e4a-b08f-00e5f8b92b2e\" xlink:show=\"new\" xlink:title=\"psysml:3fd357fc-9742-4e4a-b08f-00e5f8b92b2e\" xlink:type=\"simple\"><path d=\"M864.67,130.97 C872.48,127.37 880.94,123.46 889.31,119.59 \" fill=\"none\" id=\"E8-&gt;E2\" style=\"stroke: #383838; stroke-width: 1.0;\"/><polygon fill=\"#FFFFFF\" points=\"907.75,111.06,893.4358,125.3814,887.5658,112.6714,907.75,111.06\" style=\"stroke: #383838; stroke-width: 1.0;\"/><ellipse cx=\"887.4224\" cy=\"125.9556\" fill=\"#383838\" rx=\"2\" ry=\"2\" style=\"stroke: #383838; stroke-width: 1.0;\"/><ellipse cx=\"883.2296\" cy=\"116.8771\" fill=\"#383838\" rx=\"2\" ry=\"2\" style=\"stroke: #383838; stroke-width: 1.0;\"/></a><!--MD5=[9ae28de373ca99bb8a1b38d63370ca7e]\n",
       "reverse link E5 to E9--><a href=\"psysml:44393528-ee32-422a-b73c-7e5d578e1b67\" target=\"_top\" title=\"psysml:44393528-ee32-422a-b73c-7e5d578e1b67\" xlink:actuate=\"onRequest\" xlink:href=\"psysml:44393528-ee32-422a-b73c-7e5d578e1b67\" xlink:show=\"new\" xlink:title=\"psysml:44393528-ee32-422a-b73c-7e5d578e1b67\" xlink:type=\"simple\"><path d=\"M244.35,72.66 C333.58,76.4 461.62,83.64 573,97 C575.6,97.31 578.25,97.65 580.91,98.01 \" fill=\"none\" id=\"E5&lt;-E9\" style=\"stroke: #383838; stroke-width: 1.0;\"/><polygon fill=\"#FFFFFF\" points=\"231.2,72.12,237.0325,76.3605,243.1901,72.6075,237.3575,68.3671,231.2,72.12\" style=\"stroke: #383838; stroke-width: 1.0;\"/><text fill=\"#000000\" font-family=\"sans-serif\" font-size=\"13\" lengthAdjust=\"spacingAndGlyphs\" textLength=\"8\" x=\"564.9101\" y=\"109.3543\">1</text></a><!--MD5=[5c3bb36fe832a92c7f0e1807dd65209d]\n",
       "link E9 to E2--><a href=\"psysml:fe7d5224-67e7-4f42-a679-f87e330c9f80\" target=\"_top\" title=\"psysml:fe7d5224-67e7-4f42-a679-f87e330c9f80\" xlink:actuate=\"onRequest\" xlink:href=\"psysml:fe7d5224-67e7-4f42-a679-f87e330c9f80\" xlink:show=\"new\" xlink:title=\"psysml:fe7d5224-67e7-4f42-a679-f87e330c9f80\" xlink:type=\"simple\"><path d=\"M759.15,107.83 C801.47,104.87 850.87,101.41 887.72,98.83 \" fill=\"none\" id=\"E9-&gt;E2\" style=\"stroke: #383838; stroke-width: 1.0;\"/><polygon fill=\"#FFFFFF\" points=\"907.82,97.43,889.3505,105.7293,888.3808,91.7629,907.82,97.43\" style=\"stroke: #383838; stroke-width: 1.0;\"/><ellipse cx=\"883.5257\" cy=\"104.1289\" fill=\"#383838\" rx=\"2\" ry=\"2\" style=\"stroke: #383838; stroke-width: 1.0;\"/><ellipse cx=\"882.833\" cy=\"94.1529\" fill=\"#383838\" rx=\"2\" ry=\"2\" style=\"stroke: #383838; stroke-width: 1.0;\"/></a><!--MD5=[798956d5ebae1afc16d3aa8d7875de89]\n",
       "@startuml\r\n",
       "skinparam ranksep 10\r\n",
       "skinparam rectangle {\r\n",
       " backgroundColor<<block>> LightGreen\r\n",
       "}\r\n",
       "left to right direction\r\n",
       "skinparam monochrome true\r\n",
       "skinparam classbackgroundcolor white\r\n",
       "skinparam shadowing false\r\n",
       "skinparam wrapWidth 300\r\n",
       "hide circle\r\n",
       "\r\n",
       "package \"TradeStudyTest\" as E1  [[psysml:ee7e22b2-7ed6-4f2c-8628-ec59eb221ec4 ]]  {\r\n",
       "rec def \"Engine\" as E2  <<(T,blue) part def>> [[psysml:6dc2e48d-4c08-4400-bc60-82a531af2780 ]] {\r\n",
       "}\r\n",
       "rec usage \"engine1: Engine\" as E3  [[psysml:3defd9be-3b5d-4c6d-8f79-df776db84250 ]] {\r\n",
       "}\r\n",
       "rec usage \"engine2: Engine\" as E4  [[psysml:3a9a647b-2fd2-49b6-8a5f-7ce1649088e0 ]] {\r\n",
       "}\r\n",
       "comp usage \"engineTradeStudy: TradeStudy\" as E5 << analysis>> [[psysml:4b9a9840-0888-40ad-997b-4be591991c45 ]] {\r\n",
       "}\r\n",
       "comp usage \"tradeStudyObjective: MaximizeObjective\" as E6  <<(T,blue) requirement>> [[psysml:6d56d509-a272-42e3-905c-0e1bbd246da0 ]] {\r\n",
       "}\r\n",
       "comp usage \"objectiveFunction\" as E7  <<(T,blue) calculation>> [[psysml:0d158b00-d202-4b1f-90aa-9fc427f4eb2b ]] {\r\n",
       "}\r\n",
       "comp usage \"alternative: Engine\" as E8  [[psysml:e8d66f1b-2710-4767-99ee-f2812ccd7696 ]] {\r\n",
       "}\r\n",
       "comp usage \"selectedAlternative: Engine\" as E9  [[psysml:d0667918-a428-4729-9680-50da29281cd4 ]] {\r\n",
       "}\r\n",
       "}\r\n",
       "E5 ..> E2 [[psysml:d5cbdaa6-c586-4ab8-b2f7-038eda38592d ]] : <<subject>>\r\n",
       "E5 - ->> E6 [[psysml:14d02f99-86ef-419d-b64f-b983855c21b7 ]] : <<objective>>\r\n",
       "E5 *- - E7 [[psysml:60238b1f-3640-4bef-bde7-54f879504707 ]] \r\n",
       "E7 o- - \"1\"E8 [[psysml:83c02207-4172-44b5-b5b3-edd55ab7c0db ]] \r\n",
       "E8 - -:|> E2 [[psysml:3fd357fc-9742-4e4a-b08f-00e5f8b92b2e ]] \r\n",
       "E5 o- - \"1\"E9 [[psysml:44393528-ee32-422a-b73c-7e5d578e1b67 ]] \r\n",
       "E9 - -:|> E2 [[psysml:fe7d5224-67e7-4f42-a679-f87e330c9f80 ]] \r\n",
       "@enduml\r\n",
       "\n",
       "PlantUML version 1.2020.13(Sat Jun 13 12:26:38 UTC 2020)\n",
       "(EPL source distribution)\n",
       "Java Runtime: OpenJDK Runtime Environment\n",
       "JVM: OpenJDK 64-Bit Server VM\n",
       "Default Encoding: UTF-8\n",
       "Language: en\n",
       "Country: null\n",
       "--></g></svg>"
      ]
     },
     "execution_count": 19,
     "metadata": {},
     "output_type": "execute_result"
    }
   ],
   "source": [
    "%viz --style=\"LR\" --view=\"Interconnection\" \"TradeStudyTest\""
   ]
  },
  {
   "cell_type": "code",
   "execution_count": 20,
   "id": "ef7d2b72",
   "metadata": {
    "execution": {
     "iopub.execute_input": "2021-10-03T08:30:37.327925Z",
     "iopub.status.busy": "2021-10-03T08:30:37.327500Z",
     "iopub.status.idle": "2021-10-03T08:30:37.359382Z",
     "shell.execute_reply": "2021-10-03T08:30:37.359680Z"
    }
   },
   "outputs": [
    {
     "data": {
      "image/svg+xml": [
       "<?xml version=\"1.0\" encoding=\"UTF-8\" standalone=\"no\"?><svg xmlns=\"http://www.w3.org/2000/svg\" xmlns:xlink=\"http://www.w3.org/1999/xlink\" contentScriptType=\"application/ecmascript\" contentStyleType=\"text/css\" height=\"208px\" preserveAspectRatio=\"none\" style=\"width:352px;height:208px;\" version=\"1.1\" viewBox=\"0 0 352 208\" width=\"352px\" zoomAndPan=\"magnify\"><defs/><g><!--MD5=[fbc87193dbaf4d95561dea2c320d4a47]\n",
       "cluster E1--><a href=\"psysml:4b9a9840-0888-40ad-997b-4be591991c45\" target=\"_top\" title=\"psysml:4b9a9840-0888-40ad-997b-4be591991c45\" xlink:actuate=\"onRequest\" xlink:href=\"psysml:4b9a9840-0888-40ad-997b-4be591991c45\" xlink:show=\"new\" xlink:title=\"psysml:4b9a9840-0888-40ad-997b-4be591991c45\" xlink:type=\"simple\"><rect fill=\"#FFFFFF\" height=\"134\" id=\"E1\" rx=\"10\" ry=\"10\" style=\"stroke: #383838; stroke-width: 1.5;\" width=\"257.22\" x=\"47\" y=\"42.0986\"/><rect fill=\"#F8F8F8\" height=\"37.9375\" rx=\"10\" ry=\"10\" style=\"stroke: #F8F8F8; stroke-width: 1.5;\" width=\"257.22\" x=\"47\" y=\"42.0986\"/><rect fill=\"#F8F8F8\" height=\"10\" style=\"stroke: #F8F8F8; stroke-width: 1.5;\" width=\"257.22\" x=\"47\" y=\"70.0361\"/><rect fill=\"none\" height=\"134\" id=\"E1\" rx=\"10\" ry=\"10\" style=\"stroke: #383838; stroke-width: 1.5;\" width=\"257.22\" x=\"47\" y=\"42.0986\"/><text fill=\"#000000\" font-family=\"sans-serif\" font-size=\"12\" font-style=\"italic\" lengthAdjust=\"spacingAndGlyphs\" textLength=\"64\" x=\"143.61\" y=\"58.2373\">«analysis»</text><text fill=\"#000000\" font-family=\"sans-serif\" font-size=\"12\" lengthAdjust=\"spacingAndGlyphs\" textLength=\"114\" x=\"118.61\" y=\"72.2061\">engineTradeStudy</text><line style=\"stroke: #383838; stroke-width: 1.0;\" x1=\"47\" x2=\"304.22\" y1=\"80.0361\" y2=\"80.0361\"/></a><!--MD5=[d5e69f78d87373223dbae638b30a9c99]\n",
       "cluster E3--><a href=\"psysml:0d158b00-d202-4b1f-90aa-9fc427f4eb2b\" target=\"_top\" title=\"psysml:0d158b00-d202-4b1f-90aa-9fc427f4eb2b\" xlink:actuate=\"onRequest\" xlink:href=\"psysml:0d158b00-d202-4b1f-90aa-9fc427f4eb2b\" xlink:show=\"new\" xlink:title=\"psysml:0d158b00-d202-4b1f-90aa-9fc427f4eb2b\" xlink:type=\"simple\"><rect fill=\"#FFFFFF\" height=\"40\" id=\"E3\" rx=\"10\" ry=\"10\" style=\"stroke: #383838; stroke-width: 1.5;\" width=\"205.22\" x=\"87\" y=\"72.0986\"/><rect fill=\"#F8F8F8\" height=\"37.9375\" rx=\"10\" ry=\"10\" style=\"stroke: #F8F8F8; stroke-width: 1.5;\" width=\"205.22\" x=\"87\" y=\"72.0986\"/><rect fill=\"#F8F8F8\" height=\"10\" style=\"stroke: #F8F8F8; stroke-width: 1.5;\" width=\"205.22\" x=\"87\" y=\"100.0361\"/><rect fill=\"none\" height=\"40\" id=\"E3\" rx=\"10\" ry=\"10\" style=\"stroke: #383838; stroke-width: 1.5;\" width=\"205.22\" x=\"87\" y=\"72.0986\"/><text fill=\"#000000\" font-family=\"sans-serif\" font-size=\"12\" font-style=\"italic\" lengthAdjust=\"spacingAndGlyphs\" textLength=\"82\" x=\"148.61\" y=\"88.2373\">«calculation»</text><text fill=\"#000000\" font-family=\"sans-serif\" font-size=\"12\" lengthAdjust=\"spacingAndGlyphs\" textLength=\"110\" x=\"134.61\" y=\"102.2061\">objectiveFunction</text><line style=\"stroke: #383838; stroke-width: 1.0;\" x1=\"87\" x2=\"292.22\" y1=\"110.0361\" y2=\"110.0361\"/></a><text fill=\"#000000\" font-family=\"sans-serif\" font-size=\"14\" lengthAdjust=\"spacingAndGlyphs\" textLength=\"118\" x=\"6\" y=\"195.0938\">studyAlternatives</text><rect fill=\"#383838\" height=\"12\" style=\"stroke: #F8F8F8; stroke-width: 1.5;\" width=\"12\" x=\"59\" y=\"170.0986\"/><text fill=\"#000000\" font-family=\"sans-serif\" font-size=\"14\" lengthAdjust=\"spacingAndGlyphs\" textLength=\"132\" x=\"208.22\" y=\"20.7969\">selectedAlternative</text><rect fill=\"#383838\" height=\"12\" style=\"stroke: #F8F8F8; stroke-width: 1.5;\" width=\"12\" x=\"268.22\" y=\"36.0986\"/><text fill=\"#000000\" font-family=\"sans-serif\" font-size=\"14\" lengthAdjust=\"spacingAndGlyphs\" textLength=\"39\" x=\"254.72\" y=\"131.0938\">result</text><rect fill=\"#383838\" height=\"12\" style=\"stroke: #F8F8F8; stroke-width: 1.5;\" width=\"12\" x=\"268.22\" y=\"106.0986\"/><!--MD5=[090d34ce3827b56d1bb99d9858c26fd3]\n",
       "@startuml\r\n",
       "skinparam ranksep 8\r\n",
       "left to right direction\r\n",
       "skinparam monochrome true\r\n",
       "skinparam classbackgroundcolor white\r\n",
       "skinparam shadowing false\r\n",
       "skinparam wrapWidth 300\r\n",
       "hide circle\r\n",
       "\r\n",
       "rec usage \"engineTradeStudy\" as E1 << analysis>> [[psysml:4b9a9840-0888-40ad-997b-4be591991c45 ]] {\r\n",
       "portin \"studyAlternatives\" as E2  [[psysml:176bf709-9374-41f7-af5d-a9b046d4ad5e ]] \r\n",
       "rec usage \"objectiveFunction\" as E3  <<(T,blue) calculation>> [[psysml:0d158b00-d202-4b1f-90aa-9fc427f4eb2b ]] {\r\n",
       "portout \"result\" as E4  [[psysml:5b5a7b7b-7538-4fc2-96bb-574f08f8230e ]] \r\n",
       "}\r\n",
       "\r\n",
       "portout \"selectedAlternative\" as E5  [[psysml:d0667918-a428-4729-9680-50da29281cd4 ]] \r\n",
       "}\r\n",
       "\r\n",
       "@enduml\r\n",
       "\n",
       "PlantUML version 1.2020.13(Sat Jun 13 12:26:38 UTC 2020)\n",
       "(EPL source distribution)\n",
       "Java Runtime: OpenJDK Runtime Environment\n",
       "JVM: OpenJDK 64-Bit Server VM\n",
       "Default Encoding: UTF-8\n",
       "Language: en\n",
       "Country: null\n",
       "--></g></svg>"
      ]
     },
     "execution_count": 20,
     "metadata": {},
     "output_type": "execute_result"
    }
   ],
   "source": [
    "%viz --style=\"LR\" --view=\"Action\" \"TradeStudyTest\""
   ]
  },
  {
   "cell_type": "code",
   "execution_count": 21,
   "id": "30889b1d",
   "metadata": {
    "execution": {
     "iopub.execute_input": "2021-10-03T08:30:37.409302Z",
     "iopub.status.busy": "2021-10-03T08:30:37.408893Z",
     "iopub.status.idle": "2021-10-03T08:30:37.414542Z",
     "shell.execute_reply": "2021-10-03T08:30:37.414864Z"
    }
   },
   "outputs": [
    {
     "data": {
      "image/svg+xml": [
       "<?xml version=\"1.0\" encoding=\"UTF-8\" standalone=\"no\"?><svg xmlns=\"http://www.w3.org/2000/svg\" xmlns:xlink=\"http://www.w3.org/1999/xlink\" contentScriptType=\"application/ecmascript\" contentStyleType=\"text/css\" height=\"12px\" preserveAspectRatio=\"none\" style=\"width:12px;height:12px;\" version=\"1.1\" viewBox=\"0 0 12 12\" width=\"12px\" zoomAndPan=\"magnify\"><defs/><g><!--MD5=[238c11ea2002f03115ad6b49a457d50e]\n",
       "@startuml\r\n",
       "skinparam roundcorner 20\r\n",
       "skinparam BoxPadding 20\r\n",
       "skinparam SequenceBoxBackgroundColor #white\r\n",
       "skinparam style strictuml\r\n",
       "skinparam maxMessageSize 100\r\n",
       "left to right direction\r\n",
       "skinparam monochrome true\r\n",
       "skinparam classbackgroundcolor white\r\n",
       "skinparam shadowing false\r\n",
       "skinparam wrapWidth 300\r\n",
       "hide circle\r\n",
       "\r\n",
       "@enduml\r\n",
       "\n",
       "PlantUML version 1.2020.13(Sat Jun 13 12:26:38 UTC 2020)\n",
       "(EPL source distribution)\n",
       "Java Runtime: OpenJDK Runtime Environment\n",
       "JVM: OpenJDK 64-Bit Server VM\n",
       "Default Encoding: UTF-8\n",
       "Language: en\n",
       "Country: null\n",
       "--></g></svg>"
      ]
     },
     "execution_count": 21,
     "metadata": {},
     "output_type": "execute_result"
    }
   ],
   "source": [
    "%viz --style=\"LR\" --view=\"Sequence\" \"TradeStudyTest\""
   ]
  },
  {
   "cell_type": "code",
   "execution_count": 22,
   "id": "eb2455fe",
   "metadata": {
    "execution": {
     "iopub.execute_input": "2021-10-03T08:30:37.464522Z",
     "iopub.status.busy": "2021-10-03T08:30:37.464117Z",
     "iopub.status.idle": "2021-10-03T08:30:37.511923Z",
     "shell.execute_reply": "2021-10-03T08:30:37.511566Z"
    }
   },
   "outputs": [
    {
     "data": {
      "image/svg+xml": [
       "<?xml version=\"1.0\" encoding=\"UTF-8\" standalone=\"no\"?><svg xmlns=\"http://www.w3.org/2000/svg\" xmlns:xlink=\"http://www.w3.org/1999/xlink\" contentScriptType=\"application/ecmascript\" contentStyleType=\"text/css\" height=\"351px\" preserveAspectRatio=\"none\" style=\"width:1144px;height:351px;\" version=\"1.1\" viewBox=\"0 0 1144 351\" width=\"1144px\" zoomAndPan=\"magnify\"><defs/><g><!--MD5=[fbc87193dbaf4d95561dea2c320d4a47]\n",
       "cluster E1--><a href=\"psysml:ee7e22b2-7ed6-4f2c-8628-ec59eb221ec4\" target=\"_top\" title=\"psysml:ee7e22b2-7ed6-4f2c-8628-ec59eb221ec4\" xlink:actuate=\"onRequest\" xlink:href=\"psysml:ee7e22b2-7ed6-4f2c-8628-ec59eb221ec4\" xlink:show=\"new\" xlink:title=\"psysml:ee7e22b2-7ed6-4f2c-8628-ec59eb221ec4\" xlink:type=\"simple\"><polygon fill=\"#FFFFFF\" points=\"16,6,132,6,139,28.2969,1122,28.2969,1122,339,16,339,16,6\" style=\"stroke: #000000; stroke-width: 1.5;\"/><line style=\"stroke: #000000; stroke-width: 1.5;\" x1=\"16\" x2=\"139\" y1=\"28.2969\" y2=\"28.2969\"/><text fill=\"#000000\" font-family=\"sans-serif\" font-size=\"14\" font-weight=\"bold\" lengthAdjust=\"spacingAndGlyphs\" textLength=\"110\" x=\"20\" y=\"20.9951\">TradeStudyTest</text></a><!--MD5=[b4997ac47864f28c2f74865a473b2911]\n",
       "class E2--><a href=\"psysml:6dc2e48d-4c08-4400-bc60-82a531af2780\" target=\"_top\" title=\"psysml:6dc2e48d-4c08-4400-bc60-82a531af2780\" xlink:actuate=\"onRequest\" xlink:href=\"psysml:6dc2e48d-4c08-4400-bc60-82a531af2780\" xlink:show=\"new\" xlink:title=\"psysml:6dc2e48d-4c08-4400-bc60-82a531af2780\" xlink:type=\"simple\"><rect fill=\"#FFFFFF\" height=\"45.9375\" id=\"E2\" style=\"stroke: #383838; stroke-width: 1.5;\" width=\"66\" x=\"1040\" y=\"181\"/><text fill=\"#000000\" font-family=\"sans-serif\" font-size=\"12\" font-style=\"italic\" lengthAdjust=\"spacingAndGlyphs\" textLength=\"64\" x=\"1041\" y=\"197.1387\">«part def»</text><text fill=\"#000000\" font-family=\"sans-serif\" font-size=\"12\" lengthAdjust=\"spacingAndGlyphs\" textLength=\"43\" x=\"1051.5\" y=\"211.1074\">Engine</text><line style=\"stroke: #383838; stroke-width: 1.5;\" x1=\"1041\" x2=\"1105\" y1=\"218.9375\" y2=\"218.9375\"/></a><!--MD5=[09b614a08d8cba4a07c9adeb5e0fee81]\n",
       "class E3--><a href=\"psysml:3defd9be-3b5d-4c6d-8f79-df776db84250\" target=\"_top\" title=\"psysml:3defd9be-3b5d-4c6d-8f79-df776db84250\" xlink:actuate=\"onRequest\" xlink:href=\"psysml:3defd9be-3b5d-4c6d-8f79-df776db84250\" xlink:show=\"new\" xlink:title=\"psysml:3defd9be-3b5d-4c6d-8f79-df776db84250\" xlink:type=\"simple\"><rect fill=\"#FFFFFF\" height=\"45.9375\" id=\"E3\" rx=\"10\" ry=\"10\" style=\"stroke: #383838; stroke-width: 1.5;\" width=\"108\" x=\"863\" y=\"41\"/><text fill=\"#000000\" font-family=\"sans-serif\" font-size=\"12\" font-style=\"italic\" lengthAdjust=\"spacingAndGlyphs\" textLength=\"40\" x=\"897\" y=\"57.1387\">«part»</text><text fill=\"#000000\" font-family=\"sans-serif\" font-size=\"12\" lengthAdjust=\"spacingAndGlyphs\" textLength=\"102\" x=\"866\" y=\"71.1074\">engine1: Engine</text><line style=\"stroke: #383838; stroke-width: 1.5;\" x1=\"864\" x2=\"970\" y1=\"78.9375\" y2=\"78.9375\"/></a><!--MD5=[ebbe1d658d1005bcc118a6aa81145e00]\n",
       "class E4--><a href=\"psysml:3a9a647b-2fd2-49b6-8a5f-7ce1649088e0\" target=\"_top\" title=\"psysml:3a9a647b-2fd2-49b6-8a5f-7ce1649088e0\" xlink:actuate=\"onRequest\" xlink:href=\"psysml:3a9a647b-2fd2-49b6-8a5f-7ce1649088e0\" xlink:show=\"new\" xlink:title=\"psysml:3a9a647b-2fd2-49b6-8a5f-7ce1649088e0\" xlink:type=\"simple\"><rect fill=\"#FFFFFF\" height=\"45.9375\" id=\"E4\" rx=\"10\" ry=\"10\" style=\"stroke: #383838; stroke-width: 1.5;\" width=\"108\" x=\"863\" y=\"122\"/><text fill=\"#000000\" font-family=\"sans-serif\" font-size=\"12\" font-style=\"italic\" lengthAdjust=\"spacingAndGlyphs\" textLength=\"40\" x=\"897\" y=\"138.1387\">«part»</text><text fill=\"#000000\" font-family=\"sans-serif\" font-size=\"12\" lengthAdjust=\"spacingAndGlyphs\" textLength=\"102\" x=\"866\" y=\"152.1074\">engine2: Engine</text><line style=\"stroke: #383838; stroke-width: 1.5;\" x1=\"864\" x2=\"970\" y1=\"159.9375\" y2=\"159.9375\"/></a><!--MD5=[270fce915f116d4de14055a7c1d9a0f3]\n",
       "class E5--><a href=\"psysml:4b9a9840-0888-40ad-997b-4be591991c45\" target=\"_top\" title=\"psysml:4b9a9840-0888-40ad-997b-4be591991c45\" xlink:actuate=\"onRequest\" xlink:href=\"psysml:4b9a9840-0888-40ad-997b-4be591991c45\" xlink:show=\"new\" xlink:title=\"psysml:4b9a9840-0888-40ad-997b-4be591991c45\" xlink:type=\"simple\"><rect fill=\"#FFFFFF\" height=\"45.9375\" id=\"E5\" rx=\"10\" ry=\"10\" style=\"stroke: #383838; stroke-width: 1.5;\" width=\"199\" x=\"32\" y=\"173\"/><text fill=\"#000000\" font-family=\"sans-serif\" font-size=\"12\" font-style=\"italic\" lengthAdjust=\"spacingAndGlyphs\" textLength=\"64\" x=\"99.5\" y=\"189.1387\">«analysis»</text><text fill=\"#000000\" font-family=\"sans-serif\" font-size=\"12\" lengthAdjust=\"spacingAndGlyphs\" textLength=\"193\" x=\"35\" y=\"203.1074\">engineTradeStudy: TradeStudy</text><line style=\"stroke: #383838; stroke-width: 1.5;\" x1=\"33\" x2=\"230\" y1=\"210.9375\" y2=\"210.9375\"/></a><!--MD5=[60a26617385b1d2d0262a64233df1f8d]\n",
       "class E6--><a href=\"psysml:6d56d509-a272-42e3-905c-0e1bbd246da0\" target=\"_top\" title=\"psysml:6d56d509-a272-42e3-905c-0e1bbd246da0\" xlink:actuate=\"onRequest\" xlink:href=\"psysml:6d56d509-a272-42e3-905c-0e1bbd246da0\" xlink:show=\"new\" xlink:title=\"psysml:6d56d509-a272-42e3-905c-0e1bbd246da0\" xlink:type=\"simple\"><rect fill=\"#FFFFFF\" height=\"45.9375\" id=\"E6\" rx=\"10\" ry=\"10\" style=\"stroke: #383838; stroke-width: 1.5;\" width=\"251\" x=\"366\" y=\"206\"/><text fill=\"#000000\" font-family=\"sans-serif\" font-size=\"12\" font-style=\"italic\" lengthAdjust=\"spacingAndGlyphs\" textLength=\"91\" x=\"446\" y=\"222.1387\">«requirement»</text><text fill=\"#000000\" font-family=\"sans-serif\" font-size=\"12\" lengthAdjust=\"spacingAndGlyphs\" textLength=\"245\" x=\"369\" y=\"236.1074\">tradeStudyObjective: MaximizeObjective</text><line style=\"stroke: #383838; stroke-width: 1.5;\" x1=\"367\" x2=\"616\" y1=\"243.9375\" y2=\"243.9375\"/></a><!--MD5=[2156ba9850f5573cc1fc38a6a4b2f02b]\n",
       "class E7--><a href=\"psysml:0d158b00-d202-4b1f-90aa-9fc427f4eb2b\" target=\"_top\" title=\"psysml:0d158b00-d202-4b1f-90aa-9fc427f4eb2b\" xlink:actuate=\"onRequest\" xlink:href=\"psysml:0d158b00-d202-4b1f-90aa-9fc427f4eb2b\" xlink:show=\"new\" xlink:title=\"psysml:0d158b00-d202-4b1f-90aa-9fc427f4eb2b\" xlink:type=\"simple\"><rect fill=\"#FFFFFF\" height=\"45.9375\" id=\"E7\" rx=\"10\" ry=\"10\" style=\"stroke: #383838; stroke-width: 1.5;\" width=\"116\" x=\"433.5\" y=\"125\"/><text fill=\"#000000\" font-family=\"sans-serif\" font-size=\"12\" font-style=\"italic\" lengthAdjust=\"spacingAndGlyphs\" textLength=\"82\" x=\"450.5\" y=\"141.1387\">«calculation»</text><text fill=\"#000000\" font-family=\"sans-serif\" font-size=\"12\" lengthAdjust=\"spacingAndGlyphs\" textLength=\"110\" x=\"436.5\" y=\"155.1074\">objectiveFunction</text><line style=\"stroke: #383838; stroke-width: 1.5;\" x1=\"434.5\" x2=\"548.5\" y1=\"162.9375\" y2=\"162.9375\"/></a><!--MD5=[b9389687b975829384b498ac4b7476b2]\n",
       "class E8--><a href=\"psysml:e8d66f1b-2710-4767-99ee-f2812ccd7696\" target=\"_top\" title=\"psysml:e8d66f1b-2710-4767-99ee-f2812ccd7696\" xlink:actuate=\"onRequest\" xlink:href=\"psysml:e8d66f1b-2710-4767-99ee-f2812ccd7696\" xlink:show=\"new\" xlink:title=\"psysml:e8d66f1b-2710-4767-99ee-f2812ccd7696\" xlink:type=\"simple\"><rect fill=\"#FFFFFF\" height=\"45.9375\" id=\"E8\" rx=\"10\" ry=\"10\" style=\"stroke: #383838; stroke-width: 1.5;\" width=\"124\" x=\"855\" y=\"240\"/><text fill=\"#000000\" font-family=\"sans-serif\" font-size=\"12\" font-style=\"italic\" lengthAdjust=\"spacingAndGlyphs\" textLength=\"40\" x=\"897\" y=\"256.1387\">«part»</text><text fill=\"#000000\" font-family=\"sans-serif\" font-size=\"12\" lengthAdjust=\"spacingAndGlyphs\" textLength=\"118\" x=\"858\" y=\"270.1074\">alternative: Engine</text><line style=\"stroke: #383838; stroke-width: 1.5;\" x1=\"856\" x2=\"978\" y1=\"277.9375\" y2=\"277.9375\"/></a><!--MD5=[fd4143e9d270a159db93a4ea2a975926]\n",
       "class E9--><a href=\"psysml:d0667918-a428-4729-9680-50da29281cd4\" target=\"_top\" title=\"psysml:d0667918-a428-4729-9680-50da29281cd4\" xlink:actuate=\"onRequest\" xlink:href=\"psysml:d0667918-a428-4729-9680-50da29281cd4\" xlink:show=\"new\" xlink:title=\"psysml:d0667918-a428-4729-9680-50da29281cd4\" xlink:type=\"simple\"><rect fill=\"#FFFFFF\" height=\"45.9375\" id=\"E9\" rx=\"10\" ry=\"10\" style=\"stroke: #383838; stroke-width: 1.5;\" width=\"178\" x=\"647\" y=\"124\"/><text fill=\"#000000\" font-family=\"sans-serif\" font-size=\"12\" font-style=\"italic\" lengthAdjust=\"spacingAndGlyphs\" textLength=\"40\" x=\"716\" y=\"140.1387\">«part»</text><text fill=\"#000000\" font-family=\"sans-serif\" font-size=\"12\" lengthAdjust=\"spacingAndGlyphs\" textLength=\"172\" x=\"650\" y=\"154.1074\">selectedAlternative: Engine</text><line style=\"stroke: #383838; stroke-width: 1.5;\" x1=\"648\" x2=\"824\" y1=\"161.9375\" y2=\"161.9375\"/></a><!--MD5=[05d275557350bfb9b23a4ef7222b4c39]\n",
       "link E3 to E2--><a href=\"psysml:2c927883-7b33-4f30-b07f-44dca6adebf7\" target=\"_top\" title=\"psysml:2c927883-7b33-4f30-b07f-44dca6adebf7\" xlink:actuate=\"onRequest\" xlink:href=\"psysml:2c927883-7b33-4f30-b07f-44dca6adebf7\" xlink:show=\"new\" xlink:title=\"psysml:2c927883-7b33-4f30-b07f-44dca6adebf7\" xlink:type=\"simple\"><path d=\"M956.44,87.17 C964.16,92.38 972.03,98.12 979,104 C1000.94,122.52 1022.93,145.89 1040.02,165.38 \" fill=\"none\" id=\"E3-&gt;E2\" style=\"stroke: #383838; stroke-width: 1.0;\"/><polygon fill=\"#FFFFFF\" points=\"1053.11,180.65,1035.4256,170.7879,1046.0509,161.6719,1053.11,180.65\" style=\"stroke: #383838; stroke-width: 1.0;\"/><ellipse cx=\"1033.232\" cy=\"165.1596\" fill=\"#383838\" rx=\"2\" ry=\"2\" style=\"stroke: #383838; stroke-width: 1.0;\"/><ellipse cx=\"1040.8215\" cy=\"158.6481\" fill=\"#383838\" rx=\"2\" ry=\"2\" style=\"stroke: #383838; stroke-width: 1.0;\"/></a><!--MD5=[185131fc0dcab0a4505a2ebe144e961b]\n",
       "link E4 to E2--><a href=\"psysml:59e46c20-b41c-4b83-8c8c-eff5ad41f1d7\" target=\"_top\" title=\"psysml:59e46c20-b41c-4b83-8c8c-eff5ad41f1d7\" xlink:actuate=\"onRequest\" xlink:href=\"psysml:59e46c20-b41c-4b83-8c8c-eff5ad41f1d7\" xlink:show=\"new\" xlink:title=\"psysml:59e46c20-b41c-4b83-8c8c-eff5ad41f1d7\" xlink:type=\"simple\"><path d=\"M971.43,165.47 C987.52,171.64 1005.13,178.38 1021.06,184.48 \" fill=\"none\" id=\"E4-&gt;E2\" style=\"stroke: #383838; stroke-width: 1.0;\"/><polygon fill=\"#FFFFFF\" points=\"1039.76,191.65,1019.5133,191.3857,1024.5242,178.3132,1039.76,191.65\" style=\"stroke: #383838; stroke-width: 1.0;\"/><ellipse cx=\"1014.9067\" cy=\"187.478\" fill=\"#383838\" rx=\"2\" ry=\"2\" style=\"stroke: #383838; stroke-width: 1.0;\"/><ellipse cx=\"1018.486\" cy=\"178.1405\" fill=\"#383838\" rx=\"2\" ry=\"2\" style=\"stroke: #383838; stroke-width: 1.0;\"/></a><!--MD5=[15ebcb19ae302d9b601edb458606d402]\n",
       "link E5 to E2--><a href=\"psysml:d5cbdaa6-c586-4ab8-b2f7-038eda38592d\" target=\"_top\" title=\"psysml:d5cbdaa6-c586-4ab8-b2f7-038eda38592d\" xlink:actuate=\"onRequest\" xlink:href=\"psysml:d5cbdaa6-c586-4ab8-b2f7-038eda38592d\" xlink:show=\"new\" xlink:title=\"psysml:d5cbdaa6-c586-4ab8-b2f7-038eda38592d\" xlink:type=\"simple\"><path d=\"M192.97,219.15 C239.54,235.94 305.91,257.62 366,269 C580.08,309.56 637.25,296.22 855,304 C910.08,305.97 928.47,326.01 979,304 C1012.76,289.29 1039.79,255.62 1055.83,231.41 \" fill=\"none\" id=\"E5-&gt;E2\" style=\"stroke: #383838; stroke-width: 1.0; stroke-dasharray: 7.0,7.0;\"/><polygon fill=\"#383838\" points=\"1058.7,227,1050.4426,232.368,1055.9761,231.1929,1057.1512,236.7263,1058.7,227\" style=\"stroke: #383838; stroke-width: 1.0;\"/><text fill=\"#000000\" font-family=\"sans-serif\" font-size=\"13\" lengthAdjust=\"spacingAndGlyphs\" textLength=\"62\" x=\"705\" y=\"296.0669\">«subject»</text></a><!--MD5=[9120cf2e5df3bff93db8f754bbbc09b4]\n",
       "link E5 to E6--><a href=\"psysml:14d02f99-86ef-419d-b64f-b983855c21b7\" target=\"_top\" title=\"psysml:14d02f99-86ef-419d-b64f-b983855c21b7\" xlink:actuate=\"onRequest\" xlink:href=\"psysml:14d02f99-86ef-419d-b64f-b983855c21b7\" xlink:show=\"new\" xlink:title=\"psysml:14d02f99-86ef-419d-b64f-b983855c21b7\" xlink:type=\"simple\"><path d=\"M231.27,205.1 C270.35,208.71 315.87,212.9 357.75,216.76 \" fill=\"none\" id=\"E5-&gt;E6\" style=\"stroke: #383838; stroke-width: 1.0;\"/><polygon fill=\"#383838\" points=\"365.81,217.51,358.1229,213.7806,357.5661,219.7548,365.81,217.51\" style=\"stroke: #383838; stroke-width: 1.0;\"/><text fill=\"#000000\" font-family=\"sans-serif\" font-size=\"13\" lengthAdjust=\"spacingAndGlyphs\" textLength=\"73\" x=\"262\" y=\"205.0669\">«objective»</text></a><!--MD5=[452b418e7f8a40397a49b8c0a78acc5b]\n",
       "reverse link E5 to E7--><a href=\"psysml:60238b1f-3640-4bef-bde7-54f879504707\" target=\"_top\" title=\"psysml:60238b1f-3640-4bef-bde7-54f879504707\" xlink:actuate=\"onRequest\" xlink:href=\"psysml:60238b1f-3640-4bef-bde7-54f879504707\" xlink:show=\"new\" xlink:title=\"psysml:60238b1f-3640-4bef-bde7-54f879504707\" xlink:type=\"simple\"><path d=\"M244.44,180.99 C307.13,172.59 382.64,162.46 433.34,155.66 \" fill=\"none\" id=\"E5&lt;-E7\" style=\"stroke: #383838; stroke-width: 1.0;\"/><polygon fill=\"#383838\" points=\"231.27,182.76,237.7486,185.9268,243.1635,181.1645,236.6849,177.9978,231.27,182.76\" style=\"stroke: #383838; stroke-width: 1.0;\"/></a><!--MD5=[dc164f5e8a733ab456ef1add180e9e34]\n",
       "reverse link E7 to E8--><a href=\"psysml:83c02207-4172-44b5-b5b3-edd55ab7c0db\" target=\"_top\" title=\"psysml:83c02207-4172-44b5-b5b3-edd55ab7c0db\" xlink:actuate=\"onRequest\" xlink:href=\"psysml:83c02207-4172-44b5-b5b3-edd55ab7c0db\" xlink:show=\"new\" xlink:title=\"psysml:83c02207-4172-44b5-b5b3-edd55ab7c0db\" xlink:type=\"simple\"><path d=\"M562.22,166.93 C643.63,189.04 777.02,225.26 854.65,246.34 \" fill=\"none\" id=\"E7&lt;-E8\" style=\"stroke: #383838; stroke-width: 1.0;\"/><polygon fill=\"#FFFFFF\" points=\"549.62,163.51,554.3645,168.9404,561.202,166.6495,556.4575,161.2191,549.62,163.51\" style=\"stroke: #383838; stroke-width: 1.0;\"/><text fill=\"#000000\" font-family=\"sans-serif\" font-size=\"13\" lengthAdjust=\"spacingAndGlyphs\" textLength=\"8\" x=\"838.9783\" y=\"257.3591\">1</text></a><!--MD5=[f1f3f9f2fc535e6147756cb86a7f2e32]\n",
       "link E8 to E2--><a href=\"psysml:3fd357fc-9742-4e4a-b08f-00e5f8b92b2e\" target=\"_top\" title=\"psysml:3fd357fc-9742-4e4a-b08f-00e5f8b92b2e\" xlink:actuate=\"onRequest\" xlink:href=\"psysml:3fd357fc-9742-4e4a-b08f-00e5f8b92b2e\" xlink:show=\"new\" xlink:title=\"psysml:3fd357fc-9742-4e4a-b08f-00e5f8b92b2e\" xlink:type=\"simple\"><path d=\"M978.42,239.85 C992.46,234.47 1007.28,228.8 1020.87,223.59 \" fill=\"none\" id=\"E8-&gt;E2\" style=\"stroke: #383838; stroke-width: 1.0;\"/><polygon fill=\"#FFFFFF\" points=\"1039.69,216.38,1024.4542,229.7168,1019.4433,216.6443,1039.69,216.38\" style=\"stroke: #383838; stroke-width: 1.0;\"/><ellipse cx=\"1018.416\" cy=\"229.8895\" fill=\"#383838\" rx=\"2\" ry=\"2\" style=\"stroke: #383838; stroke-width: 1.0;\"/><ellipse cx=\"1014.8367\" cy=\"220.552\" fill=\"#383838\" rx=\"2\" ry=\"2\" style=\"stroke: #383838; stroke-width: 1.0;\"/></a><!--MD5=[9ae28de373ca99bb8a1b38d63370ca7e]\n",
       "reverse link E5 to E9--><a href=\"psysml:44393528-ee32-422a-b73c-7e5d578e1b67\" target=\"_top\" title=\"psysml:44393528-ee32-422a-b73c-7e5d578e1b67\" xlink:actuate=\"onRequest\" xlink:href=\"psysml:44393528-ee32-422a-b73c-7e5d578e1b67\" xlink:show=\"new\" xlink:title=\"psysml:44393528-ee32-422a-b73c-7e5d578e1b67\" xlink:type=\"simple\"><path d=\"M189.89,167.36 C236.14,145.96 303.53,118.5 366,107 C475.71,86.8 506.93,88.85 617,107 C637.81,110.43 659.88,117.05 679.24,123.93 \" fill=\"none\" id=\"E5&lt;-E9\" style=\"stroke: #383838; stroke-width: 1.0;\"/><polygon fill=\"#FFFFFF\" points=\"178.01,172.94,185.1402,174.017,188.8768,167.8495,181.7466,166.7725,178.01,172.94\" style=\"stroke: #383838; stroke-width: 1.0;\"/><text fill=\"#000000\" font-family=\"sans-serif\" font-size=\"13\" lengthAdjust=\"spacingAndGlyphs\" textLength=\"8\" x=\"654.9108\" y=\"112.8075\">1</text></a><!--MD5=[5c3bb36fe832a92c7f0e1807dd65209d]\n",
       "link E9 to E2--><a href=\"psysml:fe7d5224-67e7-4f42-a679-f87e330c9f80\" target=\"_top\" title=\"psysml:fe7d5224-67e7-4f42-a679-f87e330c9f80\" xlink:actuate=\"onRequest\" xlink:href=\"psysml:fe7d5224-67e7-4f42-a679-f87e330c9f80\" xlink:show=\"new\" xlink:title=\"psysml:fe7d5224-67e7-4f42-a679-f87e330c9f80\" xlink:type=\"simple\"><path d=\"M799.69,170.07 C817.36,175.78 836.75,181.31 855,185 C910.46,196.21 975.22,200.81 1019.46,202.69 \" fill=\"none\" id=\"E9-&gt;E2\" style=\"stroke: #383838; stroke-width: 1.0;\"/><polygon fill=\"#FFFFFF\" points=\"1039.69,203.42,1020.4478,209.7237,1020.9574,195.733,1039.69,203.42\" style=\"stroke: #383838; stroke-width: 1.0;\"/><ellipse cx=\"1014.8244\" cy=\"207.5175\" fill=\"#383838\" rx=\"2\" ry=\"2\" style=\"stroke: #383838; stroke-width: 1.0;\"/><ellipse cx=\"1015.1884\" cy=\"197.5241\" fill=\"#383838\" rx=\"2\" ry=\"2\" style=\"stroke: #383838; stroke-width: 1.0;\"/></a><!--MD5=[0c598e9dbd2a914c1a4e722274263928]\n",
       "@startuml\r\n",
       "left to right direction\r\n",
       "skinparam monochrome true\r\n",
       "skinparam classbackgroundcolor white\r\n",
       "skinparam shadowing false\r\n",
       "skinparam wrapWidth 300\r\n",
       "hide circle\r\n",
       "\r\n",
       "package \"TradeStudyTest\" as E1  [[psysml:ee7e22b2-7ed6-4f2c-8628-ec59eb221ec4 ]]  {\r\n",
       "comp def \"Engine\" as E2  <<(T,blue) part def>> [[psysml:6dc2e48d-4c08-4400-bc60-82a531af2780 ]] {\r\n",
       "}\r\n",
       "comp usage \"engine1: Engine\" as E3  <<(T,blue) part>> [[psysml:3defd9be-3b5d-4c6d-8f79-df776db84250 ]] {\r\n",
       "}\r\n",
       "comp usage \"engine2: Engine\" as E4  <<(T,blue) part>> [[psysml:3a9a647b-2fd2-49b6-8a5f-7ce1649088e0 ]] {\r\n",
       "}\r\n",
       "comp usage \"engineTradeStudy: TradeStudy\" as E5 << analysis>> [[psysml:4b9a9840-0888-40ad-997b-4be591991c45 ]] {\r\n",
       "}\r\n",
       "comp usage \"tradeStudyObjective: MaximizeObjective\" as E6  <<(T,blue) requirement>> [[psysml:6d56d509-a272-42e3-905c-0e1bbd246da0 ]] {\r\n",
       "}\r\n",
       "comp usage \"objectiveFunction\" as E7  <<(T,blue) calculation>> [[psysml:0d158b00-d202-4b1f-90aa-9fc427f4eb2b ]] {\r\n",
       "}\r\n",
       "comp usage \"alternative: Engine\" as E8  <<(T,blue) part>> [[psysml:e8d66f1b-2710-4767-99ee-f2812ccd7696 ]] {\r\n",
       "}\r\n",
       "comp usage \"selectedAlternative: Engine\" as E9  <<(T,blue) part>> [[psysml:d0667918-a428-4729-9680-50da29281cd4 ]] {\r\n",
       "}\r\n",
       "}\r\n",
       "E3 - -:|> E2 [[psysml:2c927883-7b33-4f30-b07f-44dca6adebf7 ]] \r\n",
       "E4 - -:|> E2 [[psysml:59e46c20-b41c-4b83-8c8c-eff5ad41f1d7 ]] \r\n",
       "E5 ..> E2 [[psysml:d5cbdaa6-c586-4ab8-b2f7-038eda38592d ]] : <<subject>>\r\n",
       "E5 - ->> E6 [[psysml:14d02f99-86ef-419d-b64f-b983855c21b7 ]] : <<objective>>\r\n",
       "E5 *- - E7 [[psysml:60238b1f-3640-4bef-bde7-54f879504707 ]] \r\n",
       "E7 o- - \"1\"E8 [[psysml:83c02207-4172-44b5-b5b3-edd55ab7c0db ]] \r\n",
       "E8 - -:|> E2 [[psysml:3fd357fc-9742-4e4a-b08f-00e5f8b92b2e ]] \r\n",
       "E5 o- - \"1\"E9 [[psysml:44393528-ee32-422a-b73c-7e5d578e1b67 ]] \r\n",
       "E9 - -:|> E2 [[psysml:fe7d5224-67e7-4f42-a679-f87e330c9f80 ]] \r\n",
       "@enduml\r\n",
       "\n",
       "PlantUML version 1.2020.13(Sat Jun 13 12:26:38 UTC 2020)\n",
       "(EPL source distribution)\n",
       "Java Runtime: OpenJDK Runtime Environment\n",
       "JVM: OpenJDK 64-Bit Server VM\n",
       "Default Encoding: UTF-8\n",
       "Language: en\n",
       "Country: null\n",
       "--></g></svg>"
      ]
     },
     "execution_count": 22,
     "metadata": {},
     "output_type": "execute_result"
    }
   ],
   "source": [
    "%viz --style=\"LR\" --view=\"MIXED\" \"TradeStudyTest\""
   ]
  },
  {
   "cell_type": "code",
   "execution_count": 23,
   "id": "fef267fa",
   "metadata": {
    "execution": {
     "iopub.execute_input": "2021-10-03T08:30:37.561308Z",
     "iopub.status.busy": "2021-10-03T08:30:37.560904Z",
     "iopub.status.idle": "2021-10-03T08:30:37.603304Z",
     "shell.execute_reply": "2021-10-03T08:30:37.602948Z"
    }
   },
   "outputs": [
    {
     "data": {
      "image/svg+xml": [
       "<?xml version=\"1.0\" encoding=\"UTF-8\" standalone=\"no\"?><svg xmlns=\"http://www.w3.org/2000/svg\" xmlns:xlink=\"http://www.w3.org/1999/xlink\" contentScriptType=\"application/ecmascript\" contentStyleType=\"text/css\" height=\"497px\" preserveAspectRatio=\"none\" style=\"width:556px;height:497px;\" version=\"1.1\" viewBox=\"0 0 556 497\" width=\"556px\" zoomAndPan=\"magnify\"><defs><filter height=\"300%\" id=\"f4osup4a50lr1\" width=\"300%\" x=\"-1\" y=\"-1\"><feGaussianBlur result=\"blurOut\" stdDeviation=\"2.0\"/><feColorMatrix in=\"blurOut\" result=\"blurOut2\" type=\"matrix\" values=\"0 0 0 0 0 0 0 0 0 0 0 0 0 0 0 0 0 0 .4 0\"/><feOffset dx=\"4.0\" dy=\"4.0\" in=\"blurOut2\" result=\"blurOut3\"/><feBlend in=\"SourceGraphic\" in2=\"blurOut3\" mode=\"normal\"/></filter></defs><g><!--MD5=[fbc87193dbaf4d95561dea2c320d4a47]\n",
       "cluster E1--><a href=\"psysml:ee7e22b2-7ed6-4f2c-8628-ec59eb221ec4\" target=\"_top\" title=\"psysml:ee7e22b2-7ed6-4f2c-8628-ec59eb221ec4\" xlink:actuate=\"onRequest\" xlink:href=\"psysml:ee7e22b2-7ed6-4f2c-8628-ec59eb221ec4\" xlink:show=\"new\" xlink:title=\"psysml:ee7e22b2-7ed6-4f2c-8628-ec59eb221ec4\" xlink:type=\"simple\"><polygon fill=\"#FFFFFF\" filter=\"url(#f4osup4a50lr1)\" points=\"18.32,6,134.32,6,141.32,28.2969,534.32,28.2969,534.32,485,18.32,485,18.32,6\" style=\"stroke: #000000; stroke-width: 1.5;\"/><line style=\"stroke: #000000; stroke-width: 1.5;\" x1=\"18.32\" x2=\"141.32\" y1=\"28.2969\" y2=\"28.2969\"/><text fill=\"#000000\" font-family=\"sans-serif\" font-size=\"14\" font-weight=\"bold\" lengthAdjust=\"spacingAndGlyphs\" textLength=\"110\" x=\"22.32\" y=\"20.9951\">TradeStudyTest</text></a><!--MD5=[b4997ac47864f28c2f74865a473b2911]\n",
       "class E2--><a href=\"psysml:6dc2e48d-4c08-4400-bc60-82a531af2780\" target=\"_top\" title=\"psysml:6dc2e48d-4c08-4400-bc60-82a531af2780\" xlink:actuate=\"onRequest\" xlink:href=\"psysml:6dc2e48d-4c08-4400-bc60-82a531af2780\" xlink:show=\"new\" xlink:title=\"psysml:6dc2e48d-4c08-4400-bc60-82a531af2780\" xlink:type=\"simple\"><rect fill=\"#FEFECE\" filter=\"url(#f4osup4a50lr1)\" height=\"45.9375\" id=\"E2\" style=\"stroke: #A80036; stroke-width: 1.5;\" width=\"66\" x=\"198.32\" y=\"423\"/><text fill=\"#000000\" font-family=\"sans-serif\" font-size=\"12\" font-style=\"italic\" lengthAdjust=\"spacingAndGlyphs\" textLength=\"64\" x=\"199.32\" y=\"439.1387\">«part def»</text><text fill=\"#000000\" font-family=\"sans-serif\" font-size=\"12\" lengthAdjust=\"spacingAndGlyphs\" textLength=\"43\" x=\"209.82\" y=\"453.1074\">Engine</text><line style=\"stroke: #A80036; stroke-width: 1.5;\" x1=\"199.32\" x2=\"263.32\" y1=\"460.9375\" y2=\"460.9375\"/></a><!--MD5=[09b614a08d8cba4a07c9adeb5e0fee81]\n",
       "class E3--><a href=\"psysml:3defd9be-3b5d-4c6d-8f79-df776db84250\" target=\"_top\" title=\"psysml:3defd9be-3b5d-4c6d-8f79-df776db84250\" xlink:actuate=\"onRequest\" xlink:href=\"psysml:3defd9be-3b5d-4c6d-8f79-df776db84250\" xlink:show=\"new\" xlink:title=\"psysml:3defd9be-3b5d-4c6d-8f79-df776db84250\" xlink:type=\"simple\"><rect fill=\"#FEFECE\" filter=\"url(#f4osup4a50lr1)\" height=\"45.9375\" id=\"E3\" rx=\"10\" ry=\"10\" style=\"stroke: #A80036; stroke-width: 1.5;\" width=\"108\" x=\"410.32\" y=\"316\"/><text fill=\"#000000\" font-family=\"sans-serif\" font-size=\"12\" font-style=\"italic\" lengthAdjust=\"spacingAndGlyphs\" textLength=\"40\" x=\"444.32\" y=\"332.1387\">«part»</text><text fill=\"#000000\" font-family=\"sans-serif\" font-size=\"12\" lengthAdjust=\"spacingAndGlyphs\" textLength=\"102\" x=\"413.32\" y=\"346.1074\">engine1: Engine</text><line style=\"stroke: #A80036; stroke-width: 1.5;\" x1=\"411.32\" x2=\"517.32\" y1=\"353.9375\" y2=\"353.9375\"/></a><!--MD5=[ebbe1d658d1005bcc118a6aa81145e00]\n",
       "class E4--><a href=\"psysml:3a9a647b-2fd2-49b6-8a5f-7ce1649088e0\" target=\"_top\" title=\"psysml:3a9a647b-2fd2-49b6-8a5f-7ce1649088e0\" xlink:actuate=\"onRequest\" xlink:href=\"psysml:3a9a647b-2fd2-49b6-8a5f-7ce1649088e0\" xlink:show=\"new\" xlink:title=\"psysml:3a9a647b-2fd2-49b6-8a5f-7ce1649088e0\" xlink:type=\"simple\"><rect fill=\"#FEFECE\" filter=\"url(#f4osup4a50lr1)\" height=\"45.9375\" id=\"E4\" rx=\"10\" ry=\"10\" style=\"stroke: #A80036; stroke-width: 1.5;\" width=\"108\" x=\"267.32\" y=\"316\"/><text fill=\"#000000\" font-family=\"sans-serif\" font-size=\"12\" font-style=\"italic\" lengthAdjust=\"spacingAndGlyphs\" textLength=\"40\" x=\"301.32\" y=\"332.1387\">«part»</text><text fill=\"#000000\" font-family=\"sans-serif\" font-size=\"12\" lengthAdjust=\"spacingAndGlyphs\" textLength=\"102\" x=\"270.32\" y=\"346.1074\">engine2: Engine</text><line style=\"stroke: #A80036; stroke-width: 1.5;\" x1=\"268.32\" x2=\"374.32\" y1=\"353.9375\" y2=\"353.9375\"/></a><!--MD5=[270fce915f116d4de14055a7c1d9a0f3]\n",
       "class E5--><a href=\"psysml:4b9a9840-0888-40ad-997b-4be591991c45\" target=\"_top\" title=\"psysml:4b9a9840-0888-40ad-997b-4be591991c45\" xlink:actuate=\"onRequest\" xlink:href=\"psysml:4b9a9840-0888-40ad-997b-4be591991c45\" xlink:show=\"new\" xlink:title=\"psysml:4b9a9840-0888-40ad-997b-4be591991c45\" xlink:type=\"simple\"><rect fill=\"#FEFECE\" filter=\"url(#f4osup4a50lr1)\" height=\"45.9375\" id=\"E5\" rx=\"10\" ry=\"10\" style=\"stroke: #A80036; stroke-width: 1.5;\" width=\"199\" x=\"239.82\" y=\"41\"/><text fill=\"#000000\" font-family=\"sans-serif\" font-size=\"12\" font-style=\"italic\" lengthAdjust=\"spacingAndGlyphs\" textLength=\"64\" x=\"307.32\" y=\"57.1387\">«analysis»</text><text fill=\"#000000\" font-family=\"sans-serif\" font-size=\"12\" lengthAdjust=\"spacingAndGlyphs\" textLength=\"193\" x=\"242.82\" y=\"71.1074\">engineTradeStudy: TradeStudy</text><line style=\"stroke: #A80036; stroke-width: 1.5;\" x1=\"240.82\" x2=\"437.82\" y1=\"78.9375\" y2=\"78.9375\"/></a><!--MD5=[60a26617385b1d2d0262a64233df1f8d]\n",
       "class E6--><a href=\"psysml:6d56d509-a272-42e3-905c-0e1bbd246da0\" target=\"_top\" title=\"psysml:6d56d509-a272-42e3-905c-0e1bbd246da0\" xlink:actuate=\"onRequest\" xlink:href=\"psysml:6d56d509-a272-42e3-905c-0e1bbd246da0\" xlink:show=\"new\" xlink:title=\"psysml:6d56d509-a272-42e3-905c-0e1bbd246da0\" xlink:type=\"simple\"><rect fill=\"#FEFECE\" filter=\"url(#f4osup4a50lr1)\" height=\"45.9375\" id=\"E6\" rx=\"10\" ry=\"10\" style=\"stroke: #A80036; stroke-width: 1.5;\" width=\"251\" x=\"78.82\" y=\"164\"/><text fill=\"#000000\" font-family=\"sans-serif\" font-size=\"12\" font-style=\"italic\" lengthAdjust=\"spacingAndGlyphs\" textLength=\"91\" x=\"158.82\" y=\"180.1387\">«requirement»</text><text fill=\"#000000\" font-family=\"sans-serif\" font-size=\"12\" lengthAdjust=\"spacingAndGlyphs\" textLength=\"245\" x=\"81.82\" y=\"194.1074\">tradeStudyObjective: MaximizeObjective</text><line style=\"stroke: #A80036; stroke-width: 1.5;\" x1=\"79.82\" x2=\"328.82\" y1=\"201.9375\" y2=\"201.9375\"/></a><!--MD5=[2156ba9850f5573cc1fc38a6a4b2f02b]\n",
       "class E7--><a href=\"psysml:0d158b00-d202-4b1f-90aa-9fc427f4eb2b\" target=\"_top\" title=\"psysml:0d158b00-d202-4b1f-90aa-9fc427f4eb2b\" xlink:actuate=\"onRequest\" xlink:href=\"psysml:0d158b00-d202-4b1f-90aa-9fc427f4eb2b\" xlink:show=\"new\" xlink:title=\"psysml:0d158b00-d202-4b1f-90aa-9fc427f4eb2b\" xlink:type=\"simple\"><rect fill=\"#FEFECE\" filter=\"url(#f4osup4a50lr1)\" height=\"45.9375\" id=\"E7\" rx=\"10\" ry=\"10\" style=\"stroke: #A80036; stroke-width: 1.5;\" width=\"116\" x=\"365.32\" y=\"164\"/><text fill=\"#000000\" font-family=\"sans-serif\" font-size=\"12\" font-style=\"italic\" lengthAdjust=\"spacingAndGlyphs\" textLength=\"82\" x=\"382.32\" y=\"180.1387\">«calculation»</text><text fill=\"#000000\" font-family=\"sans-serif\" font-size=\"12\" lengthAdjust=\"spacingAndGlyphs\" textLength=\"110\" x=\"368.32\" y=\"194.1074\">objectiveFunction</text><line style=\"stroke: #A80036; stroke-width: 1.5;\" x1=\"366.32\" x2=\"480.32\" y1=\"201.9375\" y2=\"201.9375\"/></a><!--MD5=[b9389687b975829384b498ac4b7476b2]\n",
       "class E8--><a href=\"psysml:e8d66f1b-2710-4767-99ee-f2812ccd7696\" target=\"_top\" title=\"psysml:e8d66f1b-2710-4767-99ee-f2812ccd7696\" xlink:actuate=\"onRequest\" xlink:href=\"psysml:e8d66f1b-2710-4767-99ee-f2812ccd7696\" xlink:show=\"new\" xlink:title=\"psysml:e8d66f1b-2710-4767-99ee-f2812ccd7696\" xlink:type=\"simple\"><rect fill=\"#FEFECE\" filter=\"url(#f4osup4a50lr1)\" height=\"45.9375\" id=\"E8\" rx=\"10\" ry=\"10\" style=\"stroke: #A80036; stroke-width: 1.5;\" width=\"124\" x=\"71.32\" y=\"316\"/><text fill=\"#000000\" font-family=\"sans-serif\" font-size=\"12\" font-style=\"italic\" lengthAdjust=\"spacingAndGlyphs\" textLength=\"40\" x=\"113.32\" y=\"332.1387\">«part»</text><text fill=\"#000000\" font-family=\"sans-serif\" font-size=\"12\" lengthAdjust=\"spacingAndGlyphs\" textLength=\"118\" x=\"74.32\" y=\"346.1074\">alternative: Engine</text><line style=\"stroke: #A80036; stroke-width: 1.5;\" x1=\"72.32\" x2=\"194.32\" y1=\"353.9375\" y2=\"353.9375\"/></a><!--MD5=[fd4143e9d270a159db93a4ea2a975926]\n",
       "class E9--><a href=\"psysml:d0667918-a428-4729-9680-50da29281cd4\" target=\"_top\" title=\"psysml:d0667918-a428-4729-9680-50da29281cd4\" xlink:actuate=\"onRequest\" xlink:href=\"psysml:d0667918-a428-4729-9680-50da29281cd4\" xlink:show=\"new\" xlink:title=\"psysml:d0667918-a428-4729-9680-50da29281cd4\" xlink:type=\"simple\"><rect fill=\"#FEFECE\" filter=\"url(#f4osup4a50lr1)\" height=\"45.9375\" id=\"E9\" rx=\"10\" ry=\"10\" style=\"stroke: #A80036; stroke-width: 1.5;\" width=\"178\" x=\"291.32\" y=\"240\"/><text fill=\"#000000\" font-family=\"sans-serif\" font-size=\"12\" font-style=\"italic\" lengthAdjust=\"spacingAndGlyphs\" textLength=\"40\" x=\"360.32\" y=\"256.1387\">«part»</text><text fill=\"#000000\" font-family=\"sans-serif\" font-size=\"12\" lengthAdjust=\"spacingAndGlyphs\" textLength=\"172\" x=\"294.32\" y=\"270.1074\">selectedAlternative: Engine</text><line style=\"stroke: #A80036; stroke-width: 1.5;\" x1=\"292.32\" x2=\"468.32\" y1=\"277.9375\" y2=\"277.9375\"/></a><!--MD5=[05d275557350bfb9b23a4ef7222b4c39]\n",
       "link E3 to E2--><a href=\"psysml:2c927883-7b33-4f30-b07f-44dca6adebf7\" target=\"_top\" title=\"psysml:2c927883-7b33-4f30-b07f-44dca6adebf7\" xlink:actuate=\"onRequest\" xlink:href=\"psysml:2c927883-7b33-4f30-b07f-44dca6adebf7\" xlink:show=\"new\" xlink:title=\"psysml:2c927883-7b33-4f30-b07f-44dca6adebf7\" xlink:type=\"simple\"><path d=\"M415.48,362.01 C376.57,379.54 322.27,404.01 282.71,421.84 \" fill=\"none\" id=\"E3-&gt;E2\" style=\"stroke: #A80036; stroke-width: 1.0;\"/><polygon fill=\"#FFFFFF\" points=\"264.34,430.12,278.7866,415.9321,284.5383,428.696,264.34,430.12\" style=\"stroke: #A80036; stroke-width: 1.0;\"/><ellipse cx=\"284.805\" cy=\"415.4137\" fill=\"#A80036\" rx=\"2\" ry=\"2\" style=\"stroke: #A80036; stroke-width: 1.0;\"/><ellipse cx=\"288.9134\" cy=\"424.5308\" fill=\"#A80036\" rx=\"2\" ry=\"2\" style=\"stroke: #A80036; stroke-width: 1.0;\"/></a><!--MD5=[185131fc0dcab0a4505a2ebe144e961b]\n",
       "link E4 to E2--><a href=\"psysml:59e46c20-b41c-4b83-8c8c-eff5ad41f1d7\" target=\"_top\" title=\"psysml:59e46c20-b41c-4b83-8c8c-eff5ad41f1d7\" xlink:actuate=\"onRequest\" xlink:href=\"psysml:59e46c20-b41c-4b83-8c8c-eff5ad41f1d7\" xlink:show=\"new\" xlink:title=\"psysml:59e46c20-b41c-4b83-8c8c-eff5ad41f1d7\" xlink:type=\"simple\"><path d=\"M302.45,362.01 C291.25,375.08 276.74,392.01 263.74,407.17 \" fill=\"none\" id=\"E4-&gt;E2\" style=\"stroke: #A80036; stroke-width: 1.0;\"/><polygon fill=\"#FFFFFF\" points=\"250.47,422.66,257.5188,403.678,268.1491,412.7883,250.47,422.66\" style=\"stroke: #A80036; stroke-width: 1.0;\"/><ellipse cx=\"262.7466\" cy=\"400.6515\" fill=\"#A80036\" rx=\"2\" ry=\"2\" style=\"stroke: #A80036; stroke-width: 1.0;\"/><ellipse cx=\"270.3396\" cy=\"407.1588\" fill=\"#A80036\" rx=\"2\" ry=\"2\" style=\"stroke: #A80036; stroke-width: 1.0;\"/></a><!--MD5=[15ebcb19ae302d9b601edb458606d402]\n",
       "link E5 to E2--><a href=\"psysml:d5cbdaa6-c586-4ab8-b2f7-038eda38592d\" target=\"_top\" title=\"psysml:d5cbdaa6-c586-4ab8-b2f7-038eda38592d\" xlink:actuate=\"onRequest\" xlink:href=\"psysml:d5cbdaa6-c586-4ab8-b2f7-038eda38592d\" xlink:show=\"new\" xlink:title=\"psysml:d5cbdaa6-c586-4ab8-b2f7-038eda38592d\" xlink:type=\"simple\"><path d=\"M239.76,73.22 C177.99,83.96 102.74,108.45 61.32,164 C8.68,234.61 6,287.72 53.32,362 C83.95,410.08 150.5,430.76 192.99,439.32 \" fill=\"none\" id=\"E5-&gt;E2\" style=\"stroke: #A80036; stroke-width: 1.0; stroke-dasharray: 7.0,7.0;\"/><polygon fill=\"#A80036\" points=\"198.04,440.31,189.9738,434.6588,193.1327,439.3514,188.4401,442.5104,198.04,440.31\" style=\"stroke: #A80036; stroke-width: 1.0;\"/><text fill=\"#000000\" font-family=\"sans-serif\" font-size=\"13\" lengthAdjust=\"spacingAndGlyphs\" textLength=\"62\" x=\"24.32\" y=\"267.5669\">«subject»</text></a><!--MD5=[9120cf2e5df3bff93db8f754bbbc09b4]\n",
       "link E5 to E6--><a href=\"psysml:14d02f99-86ef-419d-b64f-b983855c21b7\" target=\"_top\" title=\"psysml:14d02f99-86ef-419d-b64f-b983855c21b7\" xlink:actuate=\"onRequest\" xlink:href=\"psysml:14d02f99-86ef-419d-b64f-b983855c21b7\" xlink:show=\"new\" xlink:title=\"psysml:14d02f99-86ef-419d-b64f-b983855c21b7\" xlink:type=\"simple\"><path d=\"M314.56,87.19 C292.2,107.23 259.21,136.8 235.15,158.37 \" fill=\"none\" id=\"E5-&gt;E6\" style=\"stroke: #A80036; stroke-width: 1.0;\"/><polygon fill=\"#A80036\" points=\"228.92,163.95,236.8786,160.8419,232.8725,156.3752,228.92,163.95\" style=\"stroke: #A80036; stroke-width: 1.0;\"/><text fill=\"#000000\" font-family=\"sans-serif\" font-size=\"13\" lengthAdjust=\"spacingAndGlyphs\" textLength=\"73\" x=\"280.32\" y=\"130.0669\">«objective»</text></a><!--MD5=[452b418e7f8a40397a49b8c0a78acc5b]\n",
       "reverse link E5 to E7--><a href=\"psysml:60238b1f-3640-4bef-bde7-54f879504707\" target=\"_top\" title=\"psysml:60238b1f-3640-4bef-bde7-54f879504707\" xlink:actuate=\"onRequest\" xlink:href=\"psysml:60238b1f-3640-4bef-bde7-54f879504707\" xlink:show=\"new\" xlink:title=\"psysml:60238b1f-3640-4bef-bde7-54f879504707\" xlink:type=\"simple\"><path d=\"M362.14,97.88 C376.71,118.86 395.19,145.48 408.01,163.95 \" fill=\"none\" id=\"E5&lt;-E7\" style=\"stroke: #A80036; stroke-width: 1.0;\"/><polygon fill=\"#A80036\" points=\"354.73,87.19,354.864,94.3999,361.5708,97.0492,361.4368,89.8393,354.73,87.19\" style=\"stroke: #A80036; stroke-width: 1.0;\"/></a><!--MD5=[dc164f5e8a733ab456ef1add180e9e34]\n",
       "reverse link E7 to E8--><a href=\"psysml:83c02207-4172-44b5-b5b3-edd55ab7c0db\" target=\"_top\" title=\"psysml:83c02207-4172-44b5-b5b3-edd55ab7c0db\" xlink:actuate=\"onRequest\" xlink:href=\"psysml:83c02207-4172-44b5-b5b3-edd55ab7c0db\" xlink:show=\"new\" xlink:title=\"psysml:83c02207-4172-44b5-b5b3-edd55ab7c0db\" xlink:type=\"simple\"><path d=\"M352.67,208.29 C327.33,216.69 298.96,227.44 274.32,240 C231.96,261.6 187.65,294.33 160.26,315.93 \" fill=\"none\" id=\"E7&lt;-E8\" style=\"stroke: #A80036; stroke-width: 1.0;\"/><polygon fill=\"#FFFFFF\" points=\"365.22,204.24,358.2818,202.2749,353.7994,207.9236,360.7376,209.8887,365.22,204.24\" style=\"stroke: #A80036; stroke-width: 1.0;\"/><text fill=\"#000000\" font-family=\"sans-serif\" font-size=\"13\" lengthAdjust=\"spacingAndGlyphs\" textLength=\"8\" x=\"158.4251\" y=\"304.8075\">1</text></a><!--MD5=[f1f3f9f2fc535e6147756cb86a7f2e32]\n",
       "link E8 to E2--><a href=\"psysml:3fd357fc-9742-4e4a-b08f-00e5f8b92b2e\" target=\"_top\" title=\"psysml:3fd357fc-9742-4e4a-b08f-00e5f8b92b2e\" xlink:actuate=\"onRequest\" xlink:href=\"psysml:3fd357fc-9742-4e4a-b08f-00e5f8b92b2e\" xlink:show=\"new\" xlink:title=\"psysml:3fd357fc-9742-4e4a-b08f-00e5f8b92b2e\" xlink:type=\"simple\"><path d=\"M153.86,362.01 C166.19,375.22 182.2,392.38 196.46,407.65 \" fill=\"none\" id=\"E8-&gt;E2\" style=\"stroke: #A80036; stroke-width: 1.0;\"/><polygon fill=\"#FFFFFF\" points=\"210.47,422.66,192.3921,413.5393,202.6305,403.9907,210.47,422.66\" style=\"stroke: #A80036; stroke-width: 1.0;\"/><ellipse cx=\"189.9671\" cy=\"408.0067\" fill=\"#A80036\" rx=\"2\" ry=\"2\" style=\"stroke: #A80036; stroke-width: 1.0;\"/><ellipse cx=\"197.2802\" cy=\"401.1863\" fill=\"#A80036\" rx=\"2\" ry=\"2\" style=\"stroke: #A80036; stroke-width: 1.0;\"/></a><!--MD5=[9ae28de373ca99bb8a1b38d63370ca7e]\n",
       "reverse link E5 to E9--><a href=\"psysml:44393528-ee32-422a-b73c-7e5d578e1b67\" target=\"_top\" title=\"psysml:44393528-ee32-422a-b73c-7e5d578e1b67\" xlink:actuate=\"onRequest\" xlink:href=\"psysml:44393528-ee32-422a-b73c-7e5d578e1b67\" xlink:show=\"new\" xlink:title=\"psysml:44393528-ee32-422a-b73c-7e5d578e1b67\" xlink:type=\"simple\"><path d=\"M416.08,92.77 C447.78,108.48 481.27,131.61 499.32,164 C509.27,181.86 510.51,192.89 499.32,210 C490.86,222.92 478.41,232.65 464.71,239.97 \" fill=\"none\" id=\"E5&lt;-E9\" style=\"stroke: #A80036; stroke-width: 1.0;\"/><polygon fill=\"#FFFFFF\" points=\"404.06,87.11,407.7814,93.2867,414.9142,92.2272,411.1928,86.0505,404.06,87.11\" style=\"stroke: #A80036; stroke-width: 1.0;\"/><text fill=\"#000000\" font-family=\"sans-serif\" font-size=\"13\" lengthAdjust=\"spacingAndGlyphs\" textLength=\"8\" x=\"477.3099\" y=\"229.2386\">1</text></a><!--MD5=[5c3bb36fe832a92c7f0e1807dd65209d]\n",
       "link E9 to E2--><a href=\"psysml:fe7d5224-67e7-4f42-a679-f87e330c9f80\" target=\"_top\" title=\"psysml:fe7d5224-67e7-4f42-a679-f87e330c9f80\" xlink:actuate=\"onRequest\" xlink:href=\"psysml:fe7d5224-67e7-4f42-a679-f87e330c9f80\" xlink:show=\"new\" xlink:title=\"psysml:fe7d5224-67e7-4f42-a679-f87e330c9f80\" xlink:type=\"simple\"><path d=\"M291.19,285.15 C275.57,292.56 260.94,302.55 250.32,316 C231.17,340.25 227.04,375.32 227.36,402.77 \" fill=\"none\" id=\"E9-&gt;E2\" style=\"stroke: #A80036; stroke-width: 1.0;\"/><polygon fill=\"#FFFFFF\" points=\"228.36,422.81,220.4186,404.1838,234.4011,403.4837,228.36,422.81\" style=\"stroke: #A80036; stroke-width: 1.0;\"/><ellipse cx=\"222.131\" cy=\"398.3909\" fill=\"#A80036\" rx=\"2\" ry=\"2\" style=\"stroke: #A80036; stroke-width: 1.0;\"/><ellipse cx=\"232.1185\" cy=\"397.8909\" fill=\"#A80036\" rx=\"2\" ry=\"2\" style=\"stroke: #A80036; stroke-width: 1.0;\"/></a><!--MD5=[bfc577b019e2b3401d24daff89404bd4]\n",
       "@startuml\r\n",
       "skinparam wrapWidth 300\r\n",
       "hide circle\r\n",
       "\r\n",
       "package \"TradeStudyTest\" as E1  [[psysml:ee7e22b2-7ed6-4f2c-8628-ec59eb221ec4 ]]  {\r\n",
       "comp def \"Engine\" as E2  <<(T,blue) part def>> [[psysml:6dc2e48d-4c08-4400-bc60-82a531af2780 ]] {\r\n",
       "}\r\n",
       "comp usage \"engine1: Engine\" as E3  <<(T,blue) part>> [[psysml:3defd9be-3b5d-4c6d-8f79-df776db84250 ]] {\r\n",
       "}\r\n",
       "comp usage \"engine2: Engine\" as E4  <<(T,blue) part>> [[psysml:3a9a647b-2fd2-49b6-8a5f-7ce1649088e0 ]] {\r\n",
       "}\r\n",
       "comp usage \"engineTradeStudy: TradeStudy\" as E5 << analysis>> [[psysml:4b9a9840-0888-40ad-997b-4be591991c45 ]] {\r\n",
       "}\r\n",
       "comp usage \"tradeStudyObjective: MaximizeObjective\" as E6  <<(T,blue) requirement>> [[psysml:6d56d509-a272-42e3-905c-0e1bbd246da0 ]] {\r\n",
       "}\r\n",
       "comp usage \"objectiveFunction\" as E7  <<(T,blue) calculation>> [[psysml:0d158b00-d202-4b1f-90aa-9fc427f4eb2b ]] {\r\n",
       "}\r\n",
       "comp usage \"alternative: Engine\" as E8  <<(T,blue) part>> [[psysml:e8d66f1b-2710-4767-99ee-f2812ccd7696 ]] {\r\n",
       "}\r\n",
       "comp usage \"selectedAlternative: Engine\" as E9  <<(T,blue) part>> [[psysml:d0667918-a428-4729-9680-50da29281cd4 ]] {\r\n",
       "}\r\n",
       "}\r\n",
       "E3 - -:|> E2 [[psysml:2c927883-7b33-4f30-b07f-44dca6adebf7 ]] \r\n",
       "E4 - -:|> E2 [[psysml:59e46c20-b41c-4b83-8c8c-eff5ad41f1d7 ]] \r\n",
       "E5 ..> E2 [[psysml:d5cbdaa6-c586-4ab8-b2f7-038eda38592d ]] : <<subject>>\r\n",
       "E5 - ->> E6 [[psysml:14d02f99-86ef-419d-b64f-b983855c21b7 ]] : <<objective>>\r\n",
       "E5 *- - E7 [[psysml:60238b1f-3640-4bef-bde7-54f879504707 ]] \r\n",
       "E7 o- - \"1\"E8 [[psysml:83c02207-4172-44b5-b5b3-edd55ab7c0db ]] \r\n",
       "E8 - -:|> E2 [[psysml:3fd357fc-9742-4e4a-b08f-00e5f8b92b2e ]] \r\n",
       "E5 o- - \"1\"E9 [[psysml:44393528-ee32-422a-b73c-7e5d578e1b67 ]] \r\n",
       "E9 - -:|> E2 [[psysml:fe7d5224-67e7-4f42-a679-f87e330c9f80 ]] \r\n",
       "@enduml\r\n",
       "\n",
       "PlantUML version 1.2020.13(Sat Jun 13 12:26:38 UTC 2020)\n",
       "(EPL source distribution)\n",
       "Java Runtime: OpenJDK Runtime Environment\n",
       "JVM: OpenJDK 64-Bit Server VM\n",
       "Default Encoding: UTF-8\n",
       "Language: en\n",
       "Country: null\n",
       "--></g></svg>"
      ]
     },
     "execution_count": 23,
     "metadata": {},
     "output_type": "execute_result"
    }
   ],
   "source": [
    "%viz --style=\"STDCOLOR\" --view=\"Default\" \"TradeStudyTest\""
   ]
  },
  {
   "cell_type": "code",
   "execution_count": 24,
   "id": "53013c5e",
   "metadata": {
    "execution": {
     "iopub.execute_input": "2021-10-03T08:30:37.652735Z",
     "iopub.status.busy": "2021-10-03T08:30:37.652321Z",
     "iopub.status.idle": "2021-10-03T08:30:37.691103Z",
     "shell.execute_reply": "2021-10-03T08:30:37.690736Z"
    }
   },
   "outputs": [
    {
     "data": {
      "image/svg+xml": [
       "<?xml version=\"1.0\" encoding=\"UTF-8\" standalone=\"no\"?><svg xmlns=\"http://www.w3.org/2000/svg\" xmlns:xlink=\"http://www.w3.org/1999/xlink\" contentScriptType=\"application/ecmascript\" contentStyleType=\"text/css\" height=\"345px\" preserveAspectRatio=\"none\" style=\"width:955px;height:345px;\" version=\"1.1\" viewBox=\"0 0 955 345\" width=\"955px\" zoomAndPan=\"magnify\"><defs><filter height=\"300%\" id=\"fkme3lvlo6obo\" width=\"300%\" x=\"-1\" y=\"-1\"><feGaussianBlur result=\"blurOut\" stdDeviation=\"2.0\"/><feColorMatrix in=\"blurOut\" result=\"blurOut2\" type=\"matrix\" values=\"0 0 0 0 0 0 0 0 0 0 0 0 0 0 0 0 0 0 .4 0\"/><feOffset dx=\"4.0\" dy=\"4.0\" in=\"blurOut2\" result=\"blurOut3\"/><feBlend in=\"SourceGraphic\" in2=\"blurOut3\" mode=\"normal\"/></filter></defs><g><!--MD5=[fbc87193dbaf4d95561dea2c320d4a47]\n",
       "cluster E1--><a href=\"psysml:ee7e22b2-7ed6-4f2c-8628-ec59eb221ec4\" target=\"_top\" title=\"psysml:ee7e22b2-7ed6-4f2c-8628-ec59eb221ec4\" xlink:actuate=\"onRequest\" xlink:href=\"psysml:ee7e22b2-7ed6-4f2c-8628-ec59eb221ec4\" xlink:show=\"new\" xlink:title=\"psysml:ee7e22b2-7ed6-4f2c-8628-ec59eb221ec4\" xlink:type=\"simple\"><polygon fill=\"#FFFFFF\" filter=\"url(#fkme3lvlo6obo)\" points=\"16,6,132,6,139,28.2969,933,28.2969,933,333,16,333,16,6\" style=\"stroke: #000000; stroke-width: 1.5;\"/><line style=\"stroke: #000000; stroke-width: 1.5;\" x1=\"16\" x2=\"139\" y1=\"28.2969\" y2=\"28.2969\"/><text fill=\"#000000\" font-family=\"sans-serif\" font-size=\"14\" font-weight=\"bold\" lengthAdjust=\"spacingAndGlyphs\" textLength=\"110\" x=\"20\" y=\"20.9951\">TradeStudyTest</text></a><!--MD5=[b4997ac47864f28c2f74865a473b2911]\n",
       "class E2--><a href=\"psysml:6dc2e48d-4c08-4400-bc60-82a531af2780\" target=\"_top\" title=\"psysml:6dc2e48d-4c08-4400-bc60-82a531af2780\" xlink:actuate=\"onRequest\" xlink:href=\"psysml:6dc2e48d-4c08-4400-bc60-82a531af2780\" xlink:show=\"new\" xlink:title=\"psysml:6dc2e48d-4c08-4400-bc60-82a531af2780\" xlink:type=\"simple\"><rect fill=\"#FEFECE\" filter=\"url(#fkme3lvlo6obo)\" height=\"45.9375\" id=\"E2\" style=\"stroke: #A80036; stroke-width: 1.5;\" width=\"66\" x=\"598\" y=\"271\"/><text fill=\"#000000\" font-family=\"sans-serif\" font-size=\"12\" font-style=\"italic\" lengthAdjust=\"spacingAndGlyphs\" textLength=\"64\" x=\"599\" y=\"287.1387\">«part def»</text><text fill=\"#000000\" font-family=\"sans-serif\" font-size=\"12\" lengthAdjust=\"spacingAndGlyphs\" textLength=\"43\" x=\"609.5\" y=\"301.1074\">Engine</text><line style=\"stroke: #A80036; stroke-width: 1.5;\" x1=\"599\" x2=\"663\" y1=\"308.9375\" y2=\"308.9375\"/></a><!--MD5=[09b614a08d8cba4a07c9adeb5e0fee81]\n",
       "class E3--><a href=\"psysml:3defd9be-3b5d-4c6d-8f79-df776db84250\" target=\"_top\" title=\"psysml:3defd9be-3b5d-4c6d-8f79-df776db84250\" xlink:actuate=\"onRequest\" xlink:href=\"psysml:3defd9be-3b5d-4c6d-8f79-df776db84250\" xlink:show=\"new\" xlink:title=\"psysml:3defd9be-3b5d-4c6d-8f79-df776db84250\" xlink:type=\"simple\"><rect fill=\"#FEFECE\" filter=\"url(#fkme3lvlo6obo)\" height=\"45.9375\" id=\"E3\" rx=\"10\" ry=\"10\" style=\"stroke: #A80036; stroke-width: 1.5;\" width=\"108\" x=\"809\" y=\"164\"/><text fill=\"#000000\" font-family=\"sans-serif\" font-size=\"12\" font-style=\"italic\" lengthAdjust=\"spacingAndGlyphs\" textLength=\"40\" x=\"843\" y=\"180.1387\">«part»</text><text fill=\"#000000\" font-family=\"sans-serif\" font-size=\"12\" lengthAdjust=\"spacingAndGlyphs\" textLength=\"102\" x=\"812\" y=\"194.1074\">engine1: Engine</text><line style=\"stroke: #A80036; stroke-width: 1.5;\" x1=\"810\" x2=\"916\" y1=\"201.9375\" y2=\"201.9375\"/></a><!--MD5=[ebbe1d658d1005bcc118a6aa81145e00]\n",
       "class E4--><a href=\"psysml:3a9a647b-2fd2-49b6-8a5f-7ce1649088e0\" target=\"_top\" title=\"psysml:3a9a647b-2fd2-49b6-8a5f-7ce1649088e0\" xlink:actuate=\"onRequest\" xlink:href=\"psysml:3a9a647b-2fd2-49b6-8a5f-7ce1649088e0\" xlink:show=\"new\" xlink:title=\"psysml:3a9a647b-2fd2-49b6-8a5f-7ce1649088e0\" xlink:type=\"simple\"><rect fill=\"#FEFECE\" filter=\"url(#fkme3lvlo6obo)\" height=\"45.9375\" id=\"E4\" rx=\"10\" ry=\"10\" style=\"stroke: #A80036; stroke-width: 1.5;\" width=\"108\" x=\"666\" y=\"164\"/><text fill=\"#000000\" font-family=\"sans-serif\" font-size=\"12\" font-style=\"italic\" lengthAdjust=\"spacingAndGlyphs\" textLength=\"40\" x=\"700\" y=\"180.1387\">«part»</text><text fill=\"#000000\" font-family=\"sans-serif\" font-size=\"12\" lengthAdjust=\"spacingAndGlyphs\" textLength=\"102\" x=\"669\" y=\"194.1074\">engine2: Engine</text><line style=\"stroke: #A80036; stroke-width: 1.5;\" x1=\"667\" x2=\"773\" y1=\"201.9375\" y2=\"201.9375\"/></a><!--MD5=[270fce915f116d4de14055a7c1d9a0f3]\n",
       "class E5--><a href=\"psysml:4b9a9840-0888-40ad-997b-4be591991c45\" target=\"_top\" title=\"psysml:4b9a9840-0888-40ad-997b-4be591991c45\" xlink:actuate=\"onRequest\" xlink:href=\"psysml:4b9a9840-0888-40ad-997b-4be591991c45\" xlink:show=\"new\" xlink:title=\"psysml:4b9a9840-0888-40ad-997b-4be591991c45\" xlink:type=\"simple\"><rect fill=\"#FEFECE\" filter=\"url(#fkme3lvlo6obo)\" height=\"45.9375\" id=\"E5\" rx=\"10\" ry=\"10\" style=\"stroke: #A80036; stroke-width: 1.5;\" width=\"199\" x=\"192.5\" y=\"41\"/><text fill=\"#000000\" font-family=\"sans-serif\" font-size=\"12\" font-style=\"italic\" lengthAdjust=\"spacingAndGlyphs\" textLength=\"64\" x=\"260\" y=\"57.1387\">«analysis»</text><text fill=\"#000000\" font-family=\"sans-serif\" font-size=\"12\" lengthAdjust=\"spacingAndGlyphs\" textLength=\"193\" x=\"195.5\" y=\"71.1074\">engineTradeStudy: TradeStudy</text><line style=\"stroke: #A80036; stroke-width: 1.5;\" x1=\"193.5\" x2=\"390.5\" y1=\"78.9375\" y2=\"78.9375\"/></a><!--MD5=[60a26617385b1d2d0262a64233df1f8d]\n",
       "class E6--><a href=\"psysml:6d56d509-a272-42e3-905c-0e1bbd246da0\" target=\"_top\" title=\"psysml:6d56d509-a272-42e3-905c-0e1bbd246da0\" xlink:actuate=\"onRequest\" xlink:href=\"psysml:6d56d509-a272-42e3-905c-0e1bbd246da0\" xlink:show=\"new\" xlink:title=\"psysml:6d56d509-a272-42e3-905c-0e1bbd246da0\" xlink:type=\"simple\"><rect fill=\"#FEFECE\" filter=\"url(#fkme3lvlo6obo)\" height=\"45.9375\" id=\"E6\" rx=\"10\" ry=\"10\" style=\"stroke: #A80036; stroke-width: 1.5;\" width=\"251\" x=\"166.5\" y=\"164\"/><text fill=\"#000000\" font-family=\"sans-serif\" font-size=\"12\" font-style=\"italic\" lengthAdjust=\"spacingAndGlyphs\" textLength=\"91\" x=\"246.5\" y=\"180.1387\">«requirement»</text><text fill=\"#000000\" font-family=\"sans-serif\" font-size=\"12\" lengthAdjust=\"spacingAndGlyphs\" textLength=\"245\" x=\"169.5\" y=\"194.1074\">tradeStudyObjective: MaximizeObjective</text><line style=\"stroke: #A80036; stroke-width: 1.5;\" x1=\"167.5\" x2=\"416.5\" y1=\"201.9375\" y2=\"201.9375\"/></a><!--MD5=[2156ba9850f5573cc1fc38a6a4b2f02b]\n",
       "class E7--><a href=\"psysml:d0667918-a428-4729-9680-50da29281cd4\" target=\"_top\" title=\"psysml:d0667918-a428-4729-9680-50da29281cd4\" xlink:actuate=\"onRequest\" xlink:href=\"psysml:d0667918-a428-4729-9680-50da29281cd4\" xlink:show=\"new\" xlink:title=\"psysml:d0667918-a428-4729-9680-50da29281cd4\" xlink:type=\"simple\"><rect fill=\"#FEFECE\" filter=\"url(#fkme3lvlo6obo)\" height=\"45.9375\" id=\"E7\" rx=\"10\" ry=\"10\" style=\"stroke: #A80036; stroke-width: 1.5;\" width=\"178\" x=\"453\" y=\"164\"/><text fill=\"#000000\" font-family=\"sans-serif\" font-size=\"12\" font-style=\"italic\" lengthAdjust=\"spacingAndGlyphs\" textLength=\"40\" x=\"522\" y=\"180.1387\">«part»</text><text fill=\"#000000\" font-family=\"sans-serif\" font-size=\"12\" lengthAdjust=\"spacingAndGlyphs\" textLength=\"172\" x=\"456\" y=\"194.1074\">selectedAlternative: Engine</text><line style=\"stroke: #A80036; stroke-width: 1.5;\" x1=\"454\" x2=\"630\" y1=\"201.9375\" y2=\"201.9375\"/></a><!--MD5=[05d275557350bfb9b23a4ef7222b4c39]\n",
       "link E3 to E2--><a href=\"psysml:2c927883-7b33-4f30-b07f-44dca6adebf7\" target=\"_top\" title=\"psysml:2c927883-7b33-4f30-b07f-44dca6adebf7\" xlink:actuate=\"onRequest\" xlink:href=\"psysml:2c927883-7b33-4f30-b07f-44dca6adebf7\" xlink:show=\"new\" xlink:title=\"psysml:2c927883-7b33-4f30-b07f-44dca6adebf7\" xlink:type=\"simple\"><path d=\"M814.37,210.01 C775.74,227.49 721.88,251.87 682.52,269.68 \" fill=\"none\" id=\"E3-&gt;E2\" style=\"stroke: #A80036; stroke-width: 1.0;\"/><polygon fill=\"#FFFFFF\" points=\"664.23,277.96,678.6446,263.7397,684.4251,276.4906,664.23,277.96\" style=\"stroke: #A80036; stroke-width: 1.0;\"/><ellipse cx=\"684.6619\" cy=\"263.2078\" fill=\"#A80036\" rx=\"2\" ry=\"2\" style=\"stroke: #A80036; stroke-width: 1.0;\"/><ellipse cx=\"688.7908\" cy=\"272.3156\" fill=\"#A80036\" rx=\"2\" ry=\"2\" style=\"stroke: #A80036; stroke-width: 1.0;\"/></a><!--MD5=[185131fc0dcab0a4505a2ebe144e961b]\n",
       "link E4 to E2--><a href=\"psysml:59e46c20-b41c-4b83-8c8c-eff5ad41f1d7\" target=\"_top\" title=\"psysml:59e46c20-b41c-4b83-8c8c-eff5ad41f1d7\" xlink:actuate=\"onRequest\" xlink:href=\"psysml:59e46c20-b41c-4b83-8c8c-eff5ad41f1d7\" xlink:show=\"new\" xlink:title=\"psysml:59e46c20-b41c-4b83-8c8c-eff5ad41f1d7\" xlink:type=\"simple\"><path d=\"M701.34,210.01 C690.26,223.08 675.91,240.01 663.06,255.17 \" fill=\"none\" id=\"E4-&gt;E2\" style=\"stroke: #A80036; stroke-width: 1.0;\"/><polygon fill=\"#FFFFFF\" points=\"649.94,270.66,656.8931,251.6428,667.5691,260.6994,649.94,270.66\" style=\"stroke: #A80036; stroke-width: 1.0;\"/><ellipse cx=\"662.1056\" cy=\"248.5899\" fill=\"#A80036\" rx=\"2\" ry=\"2\" style=\"stroke: #A80036; stroke-width: 1.0;\"/><ellipse cx=\"669.7313\" cy=\"255.059\" fill=\"#A80036\" rx=\"2\" ry=\"2\" style=\"stroke: #A80036; stroke-width: 1.0;\"/></a><!--MD5=[15ebcb19ae302d9b601edb458606d402]\n",
       "link E5 to E2--><a href=\"psysml:d5cbdaa6-c586-4ab8-b2f7-038eda38592d\" target=\"_top\" title=\"psysml:d5cbdaa6-c586-4ab8-b2f7-038eda38592d\" xlink:actuate=\"onRequest\" xlink:href=\"psysml:d5cbdaa6-c586-4ab8-b2f7-038eda38592d\" xlink:show=\"new\" xlink:title=\"psysml:d5cbdaa6-c586-4ab8-b2f7-038eda38592d\" xlink:type=\"simple\"><path d=\"M211.44,87.03 C135.05,111.81 38.38,155.76 85,210 C150.98,286.77 479.56,293.36 592.67,293.32 \" fill=\"none\" id=\"E5-&gt;E2\" style=\"stroke: #A80036; stroke-width: 1.0; stroke-dasharray: 7.0,7.0;\"/><polygon fill=\"#A80036\" points=\"597.89,293.31,588.89,289.31,592.89,293.31,588.89,297.31,597.89,293.31\" style=\"stroke: #A80036; stroke-width: 1.0;\"/><text fill=\"#000000\" font-family=\"sans-serif\" font-size=\"13\" lengthAdjust=\"spacingAndGlyphs\" textLength=\"62\" x=\"86\" y=\"191.5669\">«subject»</text></a><!--MD5=[9120cf2e5df3bff93db8f754bbbc09b4]\n",
       "link E5 to E6--><a href=\"psysml:14d02f99-86ef-419d-b64f-b983855c21b7\" target=\"_top\" title=\"psysml:14d02f99-86ef-419d-b64f-b983855c21b7\" xlink:actuate=\"onRequest\" xlink:href=\"psysml:14d02f99-86ef-419d-b64f-b983855c21b7\" xlink:show=\"new\" xlink:title=\"psysml:14d02f99-86ef-419d-b64f-b983855c21b7\" xlink:type=\"simple\"><path d=\"M292,87.19 C292,106.47 292,134.55 292,155.86 \" fill=\"none\" id=\"E5-&gt;E6\" style=\"stroke: #A80036; stroke-width: 1.0;\"/><polygon fill=\"#A80036\" points=\"292,163.95,295,155.95,289,155.95,292,163.95\" style=\"stroke: #A80036; stroke-width: 1.0;\"/><text fill=\"#000000\" font-family=\"sans-serif\" font-size=\"13\" lengthAdjust=\"spacingAndGlyphs\" textLength=\"73\" x=\"293\" y=\"130.0669\">«objective»</text></a><!--MD5=[452b418e7f8a40397a49b8c0a78acc5b]\n",
       "reverse link E5 to E7--><a href=\"psysml:44393528-ee32-422a-b73c-7e5d578e1b67\" target=\"_top\" title=\"psysml:44393528-ee32-422a-b73c-7e5d578e1b67\" xlink:actuate=\"onRequest\" xlink:href=\"psysml:44393528-ee32-422a-b73c-7e5d578e1b67\" xlink:show=\"new\" xlink:title=\"psysml:44393528-ee32-422a-b73c-7e5d578e1b67\" xlink:type=\"simple\"><path d=\"M349.39,92.78 C393.99,114.36 455.01,143.9 496.33,163.89 \" fill=\"none\" id=\"E5&lt;-E7\" style=\"stroke: #A80036; stroke-width: 1.0;\"/><polygon fill=\"#FFFFFF\" points=\"337.56,87.05,341.2143,93.2666,348.3582,92.2843,344.7039,86.0677,337.56,87.05\" style=\"stroke: #A80036; stroke-width: 1.0;\"/><text fill=\"#000000\" font-family=\"sans-serif\" font-size=\"13\" lengthAdjust=\"spacingAndGlyphs\" textLength=\"8\" x=\"474.9812\" y=\"152.7567\">1</text></a><!--MD5=[583832df87f4419a098336a29a52fa00]\n",
       "link E7 to E2--><a href=\"psysml:fe7d5224-67e7-4f42-a679-f87e330c9f80\" target=\"_top\" title=\"psysml:fe7d5224-67e7-4f42-a679-f87e330c9f80\" xlink:actuate=\"onRequest\" xlink:href=\"psysml:fe7d5224-67e7-4f42-a679-f87e330c9f80\" xlink:show=\"new\" xlink:title=\"psysml:fe7d5224-67e7-4f42-a679-f87e330c9f80\" xlink:type=\"simple\"><path d=\"M560.66,210.01 C571.74,223.08 586.09,240.01 598.94,255.17 \" fill=\"none\" id=\"E7-&gt;E2\" style=\"stroke: #A80036; stroke-width: 1.0;\"/><polygon fill=\"#FFFFFF\" points=\"612.06,270.66,594.4309,260.6994,605.1069,251.6428,612.06,270.66\" style=\"stroke: #A80036; stroke-width: 1.0;\"/><ellipse cx=\"592.2687\" cy=\"255.059\" fill=\"#A80036\" rx=\"2\" ry=\"2\" style=\"stroke: #A80036; stroke-width: 1.0;\"/><ellipse cx=\"599.8944\" cy=\"248.5899\" fill=\"#A80036\" rx=\"2\" ry=\"2\" style=\"stroke: #A80036; stroke-width: 1.0;\"/></a><!--MD5=[120aaa9a7f3422f65ddd5813c43fd10e]\n",
       "@startuml\r\n",
       "skinparam wrapWidth 300\r\n",
       "hide circle\r\n",
       "\r\n",
       "package \"TradeStudyTest\" as E1  [[psysml:ee7e22b2-7ed6-4f2c-8628-ec59eb221ec4 ]]  {\r\n",
       "comp def \"Engine\" as E2  <<(T,blue) part def>> [[psysml:6dc2e48d-4c08-4400-bc60-82a531af2780 ]] {\r\n",
       "}\r\n",
       "comp usage \"engine1: Engine\" as E3  <<(T,blue) part>> [[psysml:3defd9be-3b5d-4c6d-8f79-df776db84250 ]] {\r\n",
       "}\r\n",
       "comp usage \"engine2: Engine\" as E4  <<(T,blue) part>> [[psysml:3a9a647b-2fd2-49b6-8a5f-7ce1649088e0 ]] {\r\n",
       "}\r\n",
       "comp usage \"engineTradeStudy: TradeStudy\" as E5 << analysis>> [[psysml:4b9a9840-0888-40ad-997b-4be591991c45 ]] {\r\n",
       "}\r\n",
       "comp usage \"tradeStudyObjective: MaximizeObjective\" as E6  <<(T,blue) requirement>> [[psysml:6d56d509-a272-42e3-905c-0e1bbd246da0 ]] {\r\n",
       "}\r\n",
       "comp usage \"selectedAlternative: Engine\" as E7  <<(T,blue) part>> [[psysml:d0667918-a428-4729-9680-50da29281cd4 ]] {\r\n",
       "}\r\n",
       "}\r\n",
       "E3 - -:|> E2 [[psysml:2c927883-7b33-4f30-b07f-44dca6adebf7 ]] \r\n",
       "E4 - -:|> E2 [[psysml:59e46c20-b41c-4b83-8c8c-eff5ad41f1d7 ]] \r\n",
       "E5 ..> E2 [[psysml:d5cbdaa6-c586-4ab8-b2f7-038eda38592d ]] : <<subject>>\r\n",
       "E5 - ->> E6 [[psysml:14d02f99-86ef-419d-b64f-b983855c21b7 ]] : <<objective>>\r\n",
       "E5 o- - \"1\"E7 [[psysml:44393528-ee32-422a-b73c-7e5d578e1b67 ]] \r\n",
       "E7 - -:|> E2 [[psysml:fe7d5224-67e7-4f42-a679-f87e330c9f80 ]] \r\n",
       "@enduml\r\n",
       "\n",
       "PlantUML version 1.2020.13(Sat Jun 13 12:26:38 UTC 2020)\n",
       "(EPL source distribution)\n",
       "Java Runtime: OpenJDK Runtime Environment\n",
       "JVM: OpenJDK 64-Bit Server VM\n",
       "Default Encoding: UTF-8\n",
       "Language: en\n",
       "Country: null\n",
       "--></g></svg>"
      ]
     },
     "execution_count": 24,
     "metadata": {},
     "output_type": "execute_result"
    }
   ],
   "source": [
    "%viz --style=\"STDCOLOR\" --view=\"Tree\" \"TradeStudyTest\""
   ]
  },
  {
   "cell_type": "code",
   "execution_count": 25,
   "id": "03f8a971",
   "metadata": {
    "execution": {
     "iopub.execute_input": "2021-10-03T08:30:37.740292Z",
     "iopub.status.busy": "2021-10-03T08:30:37.739892Z",
     "iopub.status.idle": "2021-10-03T08:30:37.744643Z",
     "shell.execute_reply": "2021-10-03T08:30:37.744956Z"
    }
   },
   "outputs": [
    {
     "data": {
      "image/svg+xml": [
       "<?xml version=\"1.0\" encoding=\"UTF-8\" standalone=\"no\"?><svg xmlns=\"http://www.w3.org/2000/svg\" xmlns:xlink=\"http://www.w3.org/1999/xlink\" contentScriptType=\"application/ecmascript\" contentStyleType=\"text/css\" height=\"12px\" preserveAspectRatio=\"none\" style=\"width:12px;height:12px;\" version=\"1.1\" viewBox=\"0 0 12 12\" width=\"12px\" zoomAndPan=\"magnify\"><defs/><g><!--MD5=[aeeef50f102b80d730deb6443d14f702]\n",
       "@startuml\r\n",
       "skinparam wrapWidth 300\r\n",
       "hide circle\r\n",
       "\r\n",
       "@enduml\r\n",
       "\n",
       "PlantUML version 1.2020.13(Sat Jun 13 12:26:38 UTC 2020)\n",
       "(EPL source distribution)\n",
       "Java Runtime: OpenJDK Runtime Environment\n",
       "JVM: OpenJDK 64-Bit Server VM\n",
       "Default Encoding: UTF-8\n",
       "Language: en\n",
       "Country: null\n",
       "--></g></svg>"
      ]
     },
     "execution_count": 25,
     "metadata": {},
     "output_type": "execute_result"
    }
   ],
   "source": [
    "%viz --style=\"STDCOLOR\" --view=\"State\" \"TradeStudyTest\""
   ]
  },
  {
   "cell_type": "code",
   "execution_count": 26,
   "id": "0ac85a19",
   "metadata": {
    "execution": {
     "iopub.execute_input": "2021-10-03T08:30:37.794586Z",
     "iopub.status.busy": "2021-10-03T08:30:37.794190Z",
     "iopub.status.idle": "2021-10-03T08:30:37.834344Z",
     "shell.execute_reply": "2021-10-03T08:30:37.834007Z"
    }
   },
   "outputs": [
    {
     "data": {
      "image/svg+xml": [
       "<?xml version=\"1.0\" encoding=\"UTF-8\" standalone=\"no\"?><svg xmlns=\"http://www.w3.org/2000/svg\" xmlns:xlink=\"http://www.w3.org/1999/xlink\" contentScriptType=\"application/ecmascript\" contentStyleType=\"text/css\" height=\"334px\" preserveAspectRatio=\"none\" style=\"width:566px;height:334px;\" version=\"1.1\" viewBox=\"0 0 566 334\" width=\"566px\" zoomAndPan=\"magnify\"><defs><filter height=\"300%\" id=\"fgcp1p52rnmqj\" width=\"300%\" x=\"-1\" y=\"-1\"><feGaussianBlur result=\"blurOut\" stdDeviation=\"2.0\"/><feColorMatrix in=\"blurOut\" result=\"blurOut2\" type=\"matrix\" values=\"0 0 0 0 0 0 0 0 0 0 0 0 0 0 0 0 0 0 .4 0\"/><feOffset dx=\"4.0\" dy=\"4.0\" in=\"blurOut2\" result=\"blurOut3\"/><feBlend in=\"SourceGraphic\" in2=\"blurOut3\" mode=\"normal\"/></filter></defs><g><!--MD5=[fbc87193dbaf4d95561dea2c320d4a47]\n",
       "cluster E1--><a href=\"psysml:ee7e22b2-7ed6-4f2c-8628-ec59eb221ec4\" target=\"_top\" title=\"psysml:ee7e22b2-7ed6-4f2c-8628-ec59eb221ec4\" xlink:actuate=\"onRequest\" xlink:href=\"psysml:ee7e22b2-7ed6-4f2c-8628-ec59eb221ec4\" xlink:show=\"new\" xlink:title=\"psysml:ee7e22b2-7ed6-4f2c-8628-ec59eb221ec4\" xlink:type=\"simple\"><polygon fill=\"#FFFFFF\" filter=\"url(#fgcp1p52rnmqj)\" points=\"16,6,132,6,139,28.2969,544,28.2969,544,322,16,322,16,6\" style=\"stroke: #000000; stroke-width: 1.5;\"/><line style=\"stroke: #000000; stroke-width: 1.5;\" x1=\"16\" x2=\"139\" y1=\"28.2969\" y2=\"28.2969\"/><text fill=\"#000000\" font-family=\"sans-serif\" font-size=\"14\" font-weight=\"bold\" lengthAdjust=\"spacingAndGlyphs\" textLength=\"110\" x=\"20\" y=\"20.9951\">TradeStudyTest</text></a><!--MD5=[270fce915f116d4de14055a7c1d9a0f3]\n",
       "class E5--><a href=\"psysml:4b9a9840-0888-40ad-997b-4be591991c45\" target=\"_top\" title=\"psysml:4b9a9840-0888-40ad-997b-4be591991c45\" xlink:actuate=\"onRequest\" xlink:href=\"psysml:4b9a9840-0888-40ad-997b-4be591991c45\" xlink:show=\"new\" xlink:title=\"psysml:4b9a9840-0888-40ad-997b-4be591991c45\" xlink:type=\"simple\"><rect fill=\"#FEFECE\" filter=\"url(#fgcp1p52rnmqj)\" height=\"45.9375\" id=\"E5\" rx=\"10\" ry=\"10\" style=\"stroke: #A80036; stroke-width: 1.5;\" width=\"199\" x=\"328.5\" y=\"41\"/><text fill=\"#000000\" font-family=\"sans-serif\" font-size=\"12\" font-style=\"italic\" lengthAdjust=\"spacingAndGlyphs\" textLength=\"64\" x=\"396\" y=\"57.1387\">«analysis»</text><text fill=\"#000000\" font-family=\"sans-serif\" font-size=\"12\" lengthAdjust=\"spacingAndGlyphs\" textLength=\"193\" x=\"331.5\" y=\"71.1074\">engineTradeStudy: TradeStudy</text><line style=\"stroke: #A80036; stroke-width: 1.5;\" x1=\"329.5\" x2=\"526.5\" y1=\"78.9375\" y2=\"78.9375\"/></a><!--MD5=[60a26617385b1d2d0262a64233df1f8d]\n",
       "class E6--><a href=\"psysml:6d56d509-a272-42e3-905c-0e1bbd246da0\" target=\"_top\" title=\"psysml:6d56d509-a272-42e3-905c-0e1bbd246da0\" xlink:actuate=\"onRequest\" xlink:href=\"psysml:6d56d509-a272-42e3-905c-0e1bbd246da0\" xlink:show=\"new\" xlink:title=\"psysml:6d56d509-a272-42e3-905c-0e1bbd246da0\" xlink:type=\"simple\"><rect fill=\"#FEFECE\" filter=\"url(#fgcp1p52rnmqj)\" height=\"45.9375\" id=\"E6\" rx=\"10\" ry=\"10\" style=\"stroke: #A80036; stroke-width: 1.5;\" width=\"251\" x=\"32.5\" y=\"120\"/><text fill=\"#000000\" font-family=\"sans-serif\" font-size=\"12\" font-style=\"italic\" lengthAdjust=\"spacingAndGlyphs\" textLength=\"91\" x=\"112.5\" y=\"136.1387\">«requirement»</text><text fill=\"#000000\" font-family=\"sans-serif\" font-size=\"12\" lengthAdjust=\"spacingAndGlyphs\" textLength=\"245\" x=\"35.5\" y=\"150.1074\">tradeStudyObjective: MaximizeObjective</text><line style=\"stroke: #A80036; stroke-width: 1.5;\" x1=\"33.5\" x2=\"282.5\" y1=\"157.9375\" y2=\"157.9375\"/></a><!--MD5=[2156ba9850f5573cc1fc38a6a4b2f02b]\n",
       "class E7--><a href=\"psysml:0d158b00-d202-4b1f-90aa-9fc427f4eb2b\" target=\"_top\" title=\"psysml:0d158b00-d202-4b1f-90aa-9fc427f4eb2b\" xlink:actuate=\"onRequest\" xlink:href=\"psysml:0d158b00-d202-4b1f-90aa-9fc427f4eb2b\" xlink:show=\"new\" xlink:title=\"psysml:0d158b00-d202-4b1f-90aa-9fc427f4eb2b\" xlink:type=\"simple\"><rect fill=\"#FEFECE\" filter=\"url(#fgcp1p52rnmqj)\" height=\"45.9375\" id=\"E7\" rx=\"10\" ry=\"10\" style=\"stroke: #A80036; stroke-width: 1.5;\" width=\"116\" x=\"319\" y=\"120\"/><text fill=\"#000000\" font-family=\"sans-serif\" font-size=\"12\" font-style=\"italic\" lengthAdjust=\"spacingAndGlyphs\" textLength=\"82\" x=\"336\" y=\"136.1387\">«calculation»</text><text fill=\"#000000\" font-family=\"sans-serif\" font-size=\"12\" lengthAdjust=\"spacingAndGlyphs\" textLength=\"110\" x=\"322\" y=\"150.1074\">objectiveFunction</text><line style=\"stroke: #A80036; stroke-width: 1.5;\" x1=\"320\" x2=\"434\" y1=\"157.9375\" y2=\"157.9375\"/></a><!--MD5=[b9389687b975829384b498ac4b7476b2]\n",
       "class E8--><a href=\"psysml:e8d66f1b-2710-4767-99ee-f2812ccd7696\" target=\"_top\" title=\"psysml:e8d66f1b-2710-4767-99ee-f2812ccd7696\" xlink:actuate=\"onRequest\" xlink:href=\"psysml:e8d66f1b-2710-4767-99ee-f2812ccd7696\" xlink:show=\"new\" xlink:title=\"psysml:e8d66f1b-2710-4767-99ee-f2812ccd7696\" xlink:type=\"simple\"><rect fill=\"#FEFECE\" filter=\"url(#fgcp1p52rnmqj)\" height=\"31.9688\" id=\"E8\" rx=\"10\" ry=\"10\" style=\"stroke: #A80036; stroke-width: 1.5;\" width=\"124\" x=\"178\" y=\"214\"/><text fill=\"#000000\" font-family=\"sans-serif\" font-size=\"12\" lengthAdjust=\"spacingAndGlyphs\" textLength=\"118\" x=\"181\" y=\"230.1387\">alternative: Engine</text><line style=\"stroke: #A80036; stroke-width: 1.5;\" x1=\"179\" x2=\"301\" y1=\"237.9688\" y2=\"237.9688\"/></a><!--MD5=[fd4143e9d270a159db93a4ea2a975926]\n",
       "class E9--><a href=\"psysml:d0667918-a428-4729-9680-50da29281cd4\" target=\"_top\" title=\"psysml:d0667918-a428-4729-9680-50da29281cd4\" xlink:actuate=\"onRequest\" xlink:href=\"psysml:d0667918-a428-4729-9680-50da29281cd4\" xlink:show=\"new\" xlink:title=\"psysml:d0667918-a428-4729-9680-50da29281cd4\" xlink:type=\"simple\"><rect fill=\"#FEFECE\" filter=\"url(#fgcp1p52rnmqj)\" height=\"31.9688\" id=\"E9\" rx=\"10\" ry=\"10\" style=\"stroke: #A80036; stroke-width: 1.5;\" width=\"178\" x=\"246\" y=\"174\"/><text fill=\"#000000\" font-family=\"sans-serif\" font-size=\"12\" lengthAdjust=\"spacingAndGlyphs\" textLength=\"172\" x=\"249\" y=\"190.1387\">selectedAlternative: Engine</text><line style=\"stroke: #A80036; stroke-width: 1.5;\" x1=\"247\" x2=\"423\" y1=\"197.9688\" y2=\"197.9688\"/></a><g id=\"E1.E2\"><a href=\"psysml:6dc2e48d-4c08-4400-bc60-82a531af2780\" target=\"_top\" title=\"psysml:6dc2e48d-4c08-4400-bc60-82a531af2780\" xlink:actuate=\"onRequest\" xlink:href=\"psysml:6dc2e48d-4c08-4400-bc60-82a531af2780\" xlink:show=\"new\" xlink:title=\"psysml:6dc2e48d-4c08-4400-bc60-82a531af2780\" xlink:type=\"simple\"><rect fill=\"#FEFECE\" filter=\"url(#fgcp1p52rnmqj)\" height=\"42.9375\" id=\"E2\" style=\"stroke: #A80036; stroke-width: 1.5;\" width=\"71\" x=\"302.5\" y=\"263\"/><text fill=\"#000000\" font-family=\"sans-serif\" font-size=\"12\" font-style=\"italic\" lengthAdjust=\"spacingAndGlyphs\" textLength=\"64\" x=\"306\" y=\"279.1387\">«part def»</text><text fill=\"#000000\" font-family=\"sans-serif\" font-size=\"12\" lengthAdjust=\"spacingAndGlyphs\" textLength=\"43\" x=\"316.5\" y=\"293.1074\">Engine</text></a></g><g id=\"E1.E3\"><a href=\"psysml:3defd9be-3b5d-4c6d-8f79-df776db84250\" target=\"_top\" title=\"psysml:3defd9be-3b5d-4c6d-8f79-df776db84250\" xlink:actuate=\"onRequest\" xlink:href=\"psysml:3defd9be-3b5d-4c6d-8f79-df776db84250\" xlink:show=\"new\" xlink:title=\"psysml:3defd9be-3b5d-4c6d-8f79-df776db84250\" xlink:type=\"simple\"><rect fill=\"#FEFECE\" filter=\"url(#fgcp1p52rnmqj)\" height=\"40\" id=\"E3\" rx=\"10\" ry=\"10\" style=\"stroke: #A80036; stroke-width: 1.5;\" width=\"113\" x=\"180.5\" y=\"44\"/><text fill=\"#000000\" font-family=\"sans-serif\" font-size=\"12\" lengthAdjust=\"spacingAndGlyphs\" textLength=\"102\" x=\"186\" y=\"60.1387\">engine1: Engine</text></a></g><g id=\"E1.E4\"><a href=\"psysml:3a9a647b-2fd2-49b6-8a5f-7ce1649088e0\" target=\"_top\" title=\"psysml:3a9a647b-2fd2-49b6-8a5f-7ce1649088e0\" xlink:actuate=\"onRequest\" xlink:href=\"psysml:3a9a647b-2fd2-49b6-8a5f-7ce1649088e0\" xlink:show=\"new\" xlink:title=\"psysml:3a9a647b-2fd2-49b6-8a5f-7ce1649088e0\" xlink:type=\"simple\"><rect fill=\"#FEFECE\" filter=\"url(#fgcp1p52rnmqj)\" height=\"40\" id=\"E4\" rx=\"10\" ry=\"10\" style=\"stroke: #A80036; stroke-width: 1.5;\" width=\"113\" x=\"32.5\" y=\"44\"/><text fill=\"#000000\" font-family=\"sans-serif\" font-size=\"12\" lengthAdjust=\"spacingAndGlyphs\" textLength=\"102\" x=\"38\" y=\"60.1387\">engine2: Engine</text></a></g><!--MD5=[15ebcb19ae302d9b601edb458606d402]\n",
       "link E5 to E2--><a href=\"psysml:d5cbdaa6-c586-4ab8-b2f7-038eda38592d\" target=\"_top\" title=\"psysml:d5cbdaa6-c586-4ab8-b2f7-038eda38592d\" xlink:actuate=\"onRequest\" xlink:href=\"psysml:d5cbdaa6-c586-4ab8-b2f7-038eda38592d\" xlink:show=\"new\" xlink:title=\"psysml:d5cbdaa6-c586-4ab8-b2f7-038eda38592d\" xlink:type=\"simple\"><path d=\"M454.33,87.05 C456.45,89.57 458.39,92.23 460,95 C475.92,122.38 478.3,136.82 466,166 C448.69,207.07 408.73,239.87 378.03,260.26 \" fill=\"none\" id=\"E5-&gt;E2\" style=\"stroke: #A80036; stroke-width: 1.0; stroke-dasharray: 7.0,7.0;\"/><polygon fill=\"#A80036\" points=\"373.57,263.18,383.2939,261.6161,377.7586,260.4495,378.9251,254.9143,373.57,263.18\" style=\"stroke: #A80036; stroke-width: 1.0;\"/><text fill=\"#000000\" font-family=\"sans-serif\" font-size=\"13\" lengthAdjust=\"spacingAndGlyphs\" textLength=\"62\" x=\"463\" y=\"194.5669\">«subject»</text></a><!--MD5=[9120cf2e5df3bff93db8f754bbbc09b4]\n",
       "link E5 to E6--><a href=\"psysml:14d02f99-86ef-419d-b64f-b983855c21b7\" target=\"_top\" title=\"psysml:14d02f99-86ef-419d-b64f-b983855c21b7\" xlink:actuate=\"onRequest\" xlink:href=\"psysml:14d02f99-86ef-419d-b64f-b983855c21b7\" xlink:show=\"new\" xlink:title=\"psysml:14d02f99-86ef-419d-b64f-b983855c21b7\" xlink:type=\"simple\"><path d=\"M342.94,87.03 C333.16,89.67 323.36,92.36 314,95 C288.94,102.07 261.74,110.13 237.17,117.56 \" fill=\"none\" id=\"E5-&gt;E6\" style=\"stroke: #A80036; stroke-width: 1.0;\"/><polygon fill=\"#A80036\" points=\"229.29,119.94,237.8158,120.4972,236.0799,114.7538,229.29,119.94\" style=\"stroke: #A80036; stroke-width: 1.0;\"/><text fill=\"#000000\" font-family=\"sans-serif\" font-size=\"13\" lengthAdjust=\"spacingAndGlyphs\" textLength=\"73\" x=\"315\" y=\"108.0669\">«objective»</text></a><!--MD5=[452b418e7f8a40397a49b8c0a78acc5b]\n",
       "reverse link E5 to E7--><a href=\"psysml:60238b1f-3640-4bef-bde7-54f879504707\" target=\"_top\" title=\"psysml:60238b1f-3640-4bef-bde7-54f879504707\" xlink:actuate=\"onRequest\" xlink:href=\"psysml:60238b1f-3640-4bef-bde7-54f879504707\" xlink:show=\"new\" xlink:title=\"psysml:60238b1f-3640-4bef-bde7-54f879504707\" xlink:type=\"simple\"><path d=\"M405.93,98.32 C401.13,105.57 396.16,113.08 391.72,119.78 \" fill=\"none\" id=\"E5&lt;-E7\" style=\"stroke: #A80036; stroke-width: 1.0;\"/><polygon fill=\"#A80036\" points=\"413.25,87.27,406.6021,90.0638,406.6241,97.2749,413.272,94.4811,413.25,87.27\" style=\"stroke: #A80036; stroke-width: 1.0;\"/></a><!--MD5=[dc164f5e8a733ab456ef1add180e9e34]\n",
       "reverse link E7 to E8--><a href=\"psysml:83c02207-4172-44b5-b5b3-edd55ab7c0db\" target=\"_top\" title=\"psysml:83c02207-4172-44b5-b5b3-edd55ab7c0db\" xlink:actuate=\"onRequest\" xlink:href=\"psysml:83c02207-4172-44b5-b5b3-edd55ab7c0db\" xlink:show=\"new\" xlink:title=\"psysml:83c02207-4172-44b5-b5b3-edd55ab7c0db\" xlink:type=\"simple\"><path d=\"M305.92,164.91 C304.26,165.29 302.62,165.65 301,166 C288.71,168.64 253.66,164.89 245,174 C235.09,184.43 235.08,201.52 236.77,213.88 \" fill=\"none\" id=\"E7&lt;-E8\" style=\"stroke: #A80036; stroke-width: 1.0;\"/><polygon fill=\"#FFFFFF\" points=\"318.71,161.77,311.9314,159.3102,307.0537,164.6214,313.8323,167.0811,318.71,161.77\" style=\"stroke: #A80036; stroke-width: 1.0;\"/><text fill=\"#000000\" font-family=\"sans-serif\" font-size=\"13\" lengthAdjust=\"spacingAndGlyphs\" textLength=\"8\" x=\"226.2847\" y=\"202.8557\">1</text></a><!--MD5=[f1f3f9f2fc535e6147756cb86a7f2e32]\n",
       "link E8 to E2--><a href=\"psysml:3fd357fc-9742-4e4a-b08f-00e5f8b92b2e\" target=\"_top\" title=\"psysml:3fd357fc-9742-4e4a-b08f-00e5f8b92b2e\" xlink:actuate=\"onRequest\" xlink:href=\"psysml:3fd357fc-9742-4e4a-b08f-00e5f8b92b2e\" xlink:show=\"new\" xlink:title=\"psysml:3fd357fc-9742-4e4a-b08f-00e5f8b92b2e\" xlink:type=\"simple\"><path d=\"M268.08,246.04 C273.23,248.8 278.76,251.77 284.38,254.77 \" fill=\"none\" id=\"E8-&gt;E2\" style=\"stroke: #A80036; stroke-width: 1.0;\"/><polygon fill=\"#FFFFFF\" points=\"302.21,264.33,282.1553,261.5358,288.7616,249.1926,302.21,264.33\" style=\"stroke: #A80036; stroke-width: 1.0;\"/><ellipse cx=\"278.0736\" cy=\"257.0828\" fill=\"#A80036\" rx=\"2\" ry=\"2\" style=\"stroke: #A80036; stroke-width: 1.0;\"/><ellipse cx=\"282.7924\" cy=\"248.2661\" fill=\"#A80036\" rx=\"2\" ry=\"2\" style=\"stroke: #A80036; stroke-width: 1.0;\"/></a><!--MD5=[9ae28de373ca99bb8a1b38d63370ca7e]\n",
       "reverse link E5 to E9--><a href=\"psysml:44393528-ee32-422a-b73c-7e5d578e1b67\" target=\"_top\" title=\"psysml:44393528-ee32-422a-b73c-7e5d578e1b67\" xlink:actuate=\"onRequest\" xlink:href=\"psysml:44393528-ee32-422a-b73c-7e5d578e1b67\" xlink:show=\"new\" xlink:title=\"psysml:44393528-ee32-422a-b73c-7e5d578e1b67\" xlink:type=\"simple\"><path d=\"M449.82,98.65 C460.68,120.03 468.53,147.15 453,166 C451.62,167.67 438.74,170.68 421.94,173.98 \" fill=\"none\" id=\"E5&lt;-E9\" style=\"stroke: #A80036; stroke-width: 1.0;\"/><polygon fill=\"#FFFFFF\" points=\"443.41,87.13,442.8257,94.3174,449.2355,97.6211,449.8198,90.4337,443.41,87.13\" style=\"stroke: #A80036; stroke-width: 1.0;\"/><text fill=\"#000000\" font-family=\"sans-serif\" font-size=\"13\" lengthAdjust=\"spacingAndGlyphs\" textLength=\"8\" x=\"431.8866\" y=\"185.124\">1</text></a><!--MD5=[5c3bb36fe832a92c7f0e1807dd65209d]\n",
       "link E9 to E2--><a href=\"psysml:fe7d5224-67e7-4f42-a679-f87e330c9f80\" target=\"_top\" title=\"psysml:fe7d5224-67e7-4f42-a679-f87e330c9f80\" xlink:actuate=\"onRequest\" xlink:href=\"psysml:fe7d5224-67e7-4f42-a679-f87e330c9f80\" xlink:show=\"new\" xlink:title=\"psysml:fe7d5224-67e7-4f42-a679-f87e330c9f80\" xlink:type=\"simple\"><path d=\"M335.5,206.27 C335.82,216.14 336.25,229.48 336.66,242.29 \" fill=\"none\" id=\"E9-&gt;E2\" style=\"stroke: #A80036; stroke-width: 1.0;\"/><polygon fill=\"#FFFFFF\" points=\"337.32,262.66,329.7128,243.8949,343.7055,243.4448,337.32,262.66\" style=\"stroke: #A80036; stroke-width: 1.0;\"/><ellipse cx=\"331.5285\" cy=\"238.1335\" fill=\"#A80036\" rx=\"2\" ry=\"2\" style=\"stroke: #A80036; stroke-width: 1.0;\"/><ellipse cx=\"341.5233\" cy=\"237.812\" fill=\"#A80036\" rx=\"2\" ry=\"2\" style=\"stroke: #A80036; stroke-width: 1.0;\"/></a><!--MD5=[b19d343b428bb5ae6b957be0f0e82c57]\n",
       "@startuml\r\n",
       "skinparam ranksep 10\r\n",
       "skinparam rectangle {\r\n",
       " backgroundColor<<block>> LightGreen\r\n",
       "}\r\n",
       "skinparam wrapWidth 300\r\n",
       "hide circle\r\n",
       "\r\n",
       "package \"TradeStudyTest\" as E1  [[psysml:ee7e22b2-7ed6-4f2c-8628-ec59eb221ec4 ]]  {\r\n",
       "rec def \"Engine\" as E2  <<(T,blue) part def>> [[psysml:6dc2e48d-4c08-4400-bc60-82a531af2780 ]] {\r\n",
       "}\r\n",
       "rec usage \"engine1: Engine\" as E3  [[psysml:3defd9be-3b5d-4c6d-8f79-df776db84250 ]] {\r\n",
       "}\r\n",
       "rec usage \"engine2: Engine\" as E4  [[psysml:3a9a647b-2fd2-49b6-8a5f-7ce1649088e0 ]] {\r\n",
       "}\r\n",
       "comp usage \"engineTradeStudy: TradeStudy\" as E5 << analysis>> [[psysml:4b9a9840-0888-40ad-997b-4be591991c45 ]] {\r\n",
       "}\r\n",
       "comp usage \"tradeStudyObjective: MaximizeObjective\" as E6  <<(T,blue) requirement>> [[psysml:6d56d509-a272-42e3-905c-0e1bbd246da0 ]] {\r\n",
       "}\r\n",
       "comp usage \"objectiveFunction\" as E7  <<(T,blue) calculation>> [[psysml:0d158b00-d202-4b1f-90aa-9fc427f4eb2b ]] {\r\n",
       "}\r\n",
       "comp usage \"alternative: Engine\" as E8  [[psysml:e8d66f1b-2710-4767-99ee-f2812ccd7696 ]] {\r\n",
       "}\r\n",
       "comp usage \"selectedAlternative: Engine\" as E9  [[psysml:d0667918-a428-4729-9680-50da29281cd4 ]] {\r\n",
       "}\r\n",
       "}\r\n",
       "E5 ..> E2 [[psysml:d5cbdaa6-c586-4ab8-b2f7-038eda38592d ]] : <<subject>>\r\n",
       "E5 - ->> E6 [[psysml:14d02f99-86ef-419d-b64f-b983855c21b7 ]] : <<objective>>\r\n",
       "E5 *- - E7 [[psysml:60238b1f-3640-4bef-bde7-54f879504707 ]] \r\n",
       "E7 o- - \"1\"E8 [[psysml:83c02207-4172-44b5-b5b3-edd55ab7c0db ]] \r\n",
       "E8 - -:|> E2 [[psysml:3fd357fc-9742-4e4a-b08f-00e5f8b92b2e ]] \r\n",
       "E5 o- - \"1\"E9 [[psysml:44393528-ee32-422a-b73c-7e5d578e1b67 ]] \r\n",
       "E9 - -:|> E2 [[psysml:fe7d5224-67e7-4f42-a679-f87e330c9f80 ]] \r\n",
       "@enduml\r\n",
       "\n",
       "PlantUML version 1.2020.13(Sat Jun 13 12:26:38 UTC 2020)\n",
       "(EPL source distribution)\n",
       "Java Runtime: OpenJDK Runtime Environment\n",
       "JVM: OpenJDK 64-Bit Server VM\n",
       "Default Encoding: UTF-8\n",
       "Language: en\n",
       "Country: null\n",
       "--></g></svg>"
      ]
     },
     "execution_count": 26,
     "metadata": {},
     "output_type": "execute_result"
    }
   ],
   "source": [
    "%viz --style=\"STDCOLOR\" --view=\"Interconnection\" \"TradeStudyTest\""
   ]
  },
  {
   "cell_type": "code",
   "execution_count": 27,
   "id": "ddf5c89c",
   "metadata": {
    "execution": {
     "iopub.execute_input": "2021-10-03T08:30:37.883651Z",
     "iopub.status.busy": "2021-10-03T08:30:37.883256Z",
     "iopub.status.idle": "2021-10-03T08:30:37.913960Z",
     "shell.execute_reply": "2021-10-03T08:30:37.913618Z"
    }
   },
   "outputs": [
    {
     "data": {
      "image/svg+xml": [
       "<?xml version=\"1.0\" encoding=\"UTF-8\" standalone=\"no\"?><svg xmlns=\"http://www.w3.org/2000/svg\" xmlns:xlink=\"http://www.w3.org/1999/xlink\" contentScriptType=\"application/ecmascript\" contentStyleType=\"text/css\" height=\"178px\" preserveAspectRatio=\"none\" style=\"width:434px;height:178px;\" version=\"1.1\" viewBox=\"0 0 434 178\" width=\"434px\" zoomAndPan=\"magnify\"><defs><filter height=\"300%\" id=\"f16b9lp2hd9i9k\" width=\"300%\" x=\"-1\" y=\"-1\"><feGaussianBlur result=\"blurOut\" stdDeviation=\"2.0\"/><feColorMatrix in=\"blurOut\" result=\"blurOut2\" type=\"matrix\" values=\"0 0 0 0 0 0 0 0 0 0 0 0 0 0 0 0 0 0 .4 0\"/><feOffset dx=\"4.0\" dy=\"4.0\" in=\"blurOut2\" result=\"blurOut3\"/><feBlend in=\"SourceGraphic\" in2=\"blurOut3\" mode=\"normal\"/></filter></defs><g><!--MD5=[fbc87193dbaf4d95561dea2c320d4a47]\n",
       "cluster E1--><a href=\"psysml:4b9a9840-0888-40ad-997b-4be591991c45\" target=\"_top\" title=\"psysml:4b9a9840-0888-40ad-997b-4be591991c45\" xlink:actuate=\"onRequest\" xlink:href=\"psysml:4b9a9840-0888-40ad-997b-4be591991c45\" xlink:show=\"new\" xlink:title=\"psysml:4b9a9840-0888-40ad-997b-4be591991c45\" xlink:type=\"simple\"><rect fill=\"#FFFFFF\" filter=\"url(#f16b9lp2hd9i9k)\" height=\"103.72\" id=\"E1\" rx=\"10\" ry=\"10\" style=\"stroke: #A80036; stroke-width: 1.5;\" width=\"327\" x=\"47\" y=\"42.0986\"/><rect fill=\"#FEFECE\" height=\"37.9375\" rx=\"10\" ry=\"10\" style=\"stroke: #FEFECE; stroke-width: 1.5;\" width=\"327\" x=\"47\" y=\"42.0986\"/><rect fill=\"#FEFECE\" height=\"10\" style=\"stroke: #FEFECE; stroke-width: 1.5;\" width=\"327\" x=\"47\" y=\"70.0361\"/><rect fill=\"none\" height=\"103.72\" id=\"E1\" rx=\"10\" ry=\"10\" style=\"stroke: #A80036; stroke-width: 1.5;\" width=\"327\" x=\"47\" y=\"42.0986\"/><text fill=\"#000000\" font-family=\"sans-serif\" font-size=\"12\" font-style=\"italic\" lengthAdjust=\"spacingAndGlyphs\" textLength=\"64\" x=\"178.5\" y=\"58.2373\">«analysis»</text><text fill=\"#000000\" font-family=\"sans-serif\" font-size=\"12\" lengthAdjust=\"spacingAndGlyphs\" textLength=\"114\" x=\"153.5\" y=\"72.2061\">engineTradeStudy</text><line style=\"stroke: #A80036; stroke-width: 1.0;\" x1=\"47\" x2=\"374\" y1=\"80.0361\" y2=\"80.0361\"/></a><!--MD5=[d5e69f78d87373223dbae638b30a9c99]\n",
       "cluster E3--><a href=\"psysml:0d158b00-d202-4b1f-90aa-9fc427f4eb2b\" target=\"_top\" title=\"psysml:0d158b00-d202-4b1f-90aa-9fc427f4eb2b\" xlink:actuate=\"onRequest\" xlink:href=\"psysml:0d158b00-d202-4b1f-90aa-9fc427f4eb2b\" xlink:show=\"new\" xlink:title=\"psysml:0d158b00-d202-4b1f-90aa-9fc427f4eb2b\" xlink:type=\"simple\"><rect fill=\"#FFFFFF\" filter=\"url(#f16b9lp2hd9i9k)\" height=\"81.72\" id=\"E3\" rx=\"10\" ry=\"10\" style=\"stroke: #A80036; stroke-width: 1.5;\" width=\"132\" x=\"214.125\" y=\"64.0986\"/><rect fill=\"#FEFECE\" height=\"37.9375\" rx=\"10\" ry=\"10\" style=\"stroke: #FEFECE; stroke-width: 1.5;\" width=\"132\" x=\"214.125\" y=\"64.0986\"/><rect fill=\"#FEFECE\" height=\"10\" style=\"stroke: #FEFECE; stroke-width: 1.5;\" width=\"132\" x=\"214.125\" y=\"92.0361\"/><rect fill=\"none\" height=\"81.72\" id=\"E3\" rx=\"10\" ry=\"10\" style=\"stroke: #A80036; stroke-width: 1.5;\" width=\"132\" x=\"214.125\" y=\"64.0986\"/><text fill=\"#000000\" font-family=\"sans-serif\" font-size=\"12\" font-style=\"italic\" lengthAdjust=\"spacingAndGlyphs\" textLength=\"82\" x=\"239.125\" y=\"80.2373\">«calculation»</text><text fill=\"#000000\" font-family=\"sans-serif\" font-size=\"12\" lengthAdjust=\"spacingAndGlyphs\" textLength=\"110\" x=\"225.125\" y=\"94.2061\">objectiveFunction</text><line style=\"stroke: #A80036; stroke-width: 1.0;\" x1=\"214.125\" x2=\"346.125\" y1=\"102.0361\" y2=\"102.0361\"/></a><text fill=\"#000000\" font-family=\"sans-serif\" font-size=\"14\" lengthAdjust=\"spacingAndGlyphs\" textLength=\"118\" x=\"6\" y=\"20.7969\">studyAlternatives</text><rect fill=\"#A80036\" height=\"12\" style=\"stroke: #FEFECE; stroke-width: 1.5;\" width=\"12\" x=\"59\" y=\"36.0986\"/><text fill=\"#000000\" font-family=\"sans-serif\" font-size=\"14\" lengthAdjust=\"spacingAndGlyphs\" textLength=\"132\" x=\"290\" y=\"164.8138\">selectedAlternative</text><rect fill=\"#A80036\" height=\"12\" style=\"stroke: #FEFECE; stroke-width: 1.5;\" width=\"12\" x=\"350\" y=\"139.8186\"/><text fill=\"#000000\" font-family=\"sans-serif\" font-size=\"14\" lengthAdjust=\"spacingAndGlyphs\" textLength=\"39\" x=\"215.5\" y=\"164.8138\">result</text><rect fill=\"#A80036\" height=\"12\" style=\"stroke: #FEFECE; stroke-width: 1.5;\" width=\"12\" x=\"229\" y=\"139.8186\"/><!--MD5=[1bea7ff94d47e5fde1e689feefbe4907]\n",
       "@startuml\r\n",
       "skinparam ranksep 8\r\n",
       "skinparam wrapWidth 300\r\n",
       "hide circle\r\n",
       "\r\n",
       "rec usage \"engineTradeStudy\" as E1 << analysis>> [[psysml:4b9a9840-0888-40ad-997b-4be591991c45 ]] {\r\n",
       "portin \"studyAlternatives\" as E2  [[psysml:176bf709-9374-41f7-af5d-a9b046d4ad5e ]] \r\n",
       "rec usage \"objectiveFunction\" as E3  <<(T,blue) calculation>> [[psysml:0d158b00-d202-4b1f-90aa-9fc427f4eb2b ]] {\r\n",
       "portout \"result\" as E4  [[psysml:5b5a7b7b-7538-4fc2-96bb-574f08f8230e ]] \r\n",
       "}\r\n",
       "\r\n",
       "portout \"selectedAlternative\" as E5  [[psysml:d0667918-a428-4729-9680-50da29281cd4 ]] \r\n",
       "}\r\n",
       "\r\n",
       "@enduml\r\n",
       "\n",
       "PlantUML version 1.2020.13(Sat Jun 13 12:26:38 UTC 2020)\n",
       "(EPL source distribution)\n",
       "Java Runtime: OpenJDK Runtime Environment\n",
       "JVM: OpenJDK 64-Bit Server VM\n",
       "Default Encoding: UTF-8\n",
       "Language: en\n",
       "Country: null\n",
       "--></g></svg>"
      ]
     },
     "execution_count": 27,
     "metadata": {},
     "output_type": "execute_result"
    }
   ],
   "source": [
    "%viz --style=\"STDCOLOR\" --view=\"Action\" \"TradeStudyTest\""
   ]
  },
  {
   "cell_type": "code",
   "execution_count": 28,
   "id": "8f0be2af",
   "metadata": {
    "execution": {
     "iopub.execute_input": "2021-10-03T08:30:37.963325Z",
     "iopub.status.busy": "2021-10-03T08:30:37.962927Z",
     "iopub.status.idle": "2021-10-03T08:30:37.968359Z",
     "shell.execute_reply": "2021-10-03T08:30:37.968651Z"
    }
   },
   "outputs": [
    {
     "data": {
      "image/svg+xml": [
       "<?xml version=\"1.0\" encoding=\"UTF-8\" standalone=\"no\"?><svg xmlns=\"http://www.w3.org/2000/svg\" xmlns:xlink=\"http://www.w3.org/1999/xlink\" contentScriptType=\"application/ecmascript\" contentStyleType=\"text/css\" height=\"12px\" preserveAspectRatio=\"none\" style=\"width:12px;height:12px;\" version=\"1.1\" viewBox=\"0 0 12 12\" width=\"12px\" zoomAndPan=\"magnify\"><defs/><g><!--MD5=[6c4bca67b4d71758159a5a7f1f1e1fc2]\n",
       "@startuml\r\n",
       "skinparam roundcorner 20\r\n",
       "skinparam BoxPadding 20\r\n",
       "skinparam SequenceBoxBackgroundColor #white\r\n",
       "skinparam style strictuml\r\n",
       "skinparam maxMessageSize 100\r\n",
       "skinparam wrapWidth 300\r\n",
       "hide circle\r\n",
       "\r\n",
       "@enduml\r\n",
       "\n",
       "PlantUML version 1.2020.13(Sat Jun 13 12:26:38 UTC 2020)\n",
       "(EPL source distribution)\n",
       "Java Runtime: OpenJDK Runtime Environment\n",
       "JVM: OpenJDK 64-Bit Server VM\n",
       "Default Encoding: UTF-8\n",
       "Language: en\n",
       "Country: null\n",
       "--></g></svg>"
      ]
     },
     "execution_count": 28,
     "metadata": {},
     "output_type": "execute_result"
    }
   ],
   "source": [
    "%viz --style=\"STDCOLOR\" --view=\"Sequence\" \"TradeStudyTest\""
   ]
  },
  {
   "cell_type": "code",
   "execution_count": 29,
   "id": "a96ab8a3",
   "metadata": {
    "execution": {
     "iopub.execute_input": "2021-10-03T08:30:38.018195Z",
     "iopub.status.busy": "2021-10-03T08:30:38.017804Z",
     "iopub.status.idle": "2021-10-03T08:30:38.059726Z",
     "shell.execute_reply": "2021-10-03T08:30:38.059371Z"
    }
   },
   "outputs": [
    {
     "data": {
      "image/svg+xml": [
       "<?xml version=\"1.0\" encoding=\"UTF-8\" standalone=\"no\"?><svg xmlns=\"http://www.w3.org/2000/svg\" xmlns:xlink=\"http://www.w3.org/1999/xlink\" contentScriptType=\"application/ecmascript\" contentStyleType=\"text/css\" height=\"497px\" preserveAspectRatio=\"none\" style=\"width:556px;height:497px;\" version=\"1.1\" viewBox=\"0 0 556 497\" width=\"556px\" zoomAndPan=\"magnify\"><defs><filter height=\"300%\" id=\"f4osup4a50lr1\" width=\"300%\" x=\"-1\" y=\"-1\"><feGaussianBlur result=\"blurOut\" stdDeviation=\"2.0\"/><feColorMatrix in=\"blurOut\" result=\"blurOut2\" type=\"matrix\" values=\"0 0 0 0 0 0 0 0 0 0 0 0 0 0 0 0 0 0 .4 0\"/><feOffset dx=\"4.0\" dy=\"4.0\" in=\"blurOut2\" result=\"blurOut3\"/><feBlend in=\"SourceGraphic\" in2=\"blurOut3\" mode=\"normal\"/></filter></defs><g><!--MD5=[fbc87193dbaf4d95561dea2c320d4a47]\n",
       "cluster E1--><a href=\"psysml:ee7e22b2-7ed6-4f2c-8628-ec59eb221ec4\" target=\"_top\" title=\"psysml:ee7e22b2-7ed6-4f2c-8628-ec59eb221ec4\" xlink:actuate=\"onRequest\" xlink:href=\"psysml:ee7e22b2-7ed6-4f2c-8628-ec59eb221ec4\" xlink:show=\"new\" xlink:title=\"psysml:ee7e22b2-7ed6-4f2c-8628-ec59eb221ec4\" xlink:type=\"simple\"><polygon fill=\"#FFFFFF\" filter=\"url(#f4osup4a50lr1)\" points=\"18.32,6,134.32,6,141.32,28.2969,534.32,28.2969,534.32,485,18.32,485,18.32,6\" style=\"stroke: #000000; stroke-width: 1.5;\"/><line style=\"stroke: #000000; stroke-width: 1.5;\" x1=\"18.32\" x2=\"141.32\" y1=\"28.2969\" y2=\"28.2969\"/><text fill=\"#000000\" font-family=\"sans-serif\" font-size=\"14\" font-weight=\"bold\" lengthAdjust=\"spacingAndGlyphs\" textLength=\"110\" x=\"22.32\" y=\"20.9951\">TradeStudyTest</text></a><!--MD5=[b4997ac47864f28c2f74865a473b2911]\n",
       "class E2--><a href=\"psysml:6dc2e48d-4c08-4400-bc60-82a531af2780\" target=\"_top\" title=\"psysml:6dc2e48d-4c08-4400-bc60-82a531af2780\" xlink:actuate=\"onRequest\" xlink:href=\"psysml:6dc2e48d-4c08-4400-bc60-82a531af2780\" xlink:show=\"new\" xlink:title=\"psysml:6dc2e48d-4c08-4400-bc60-82a531af2780\" xlink:type=\"simple\"><rect fill=\"#FEFECE\" filter=\"url(#f4osup4a50lr1)\" height=\"45.9375\" id=\"E2\" style=\"stroke: #A80036; stroke-width: 1.5;\" width=\"66\" x=\"198.32\" y=\"423\"/><text fill=\"#000000\" font-family=\"sans-serif\" font-size=\"12\" font-style=\"italic\" lengthAdjust=\"spacingAndGlyphs\" textLength=\"64\" x=\"199.32\" y=\"439.1387\">«part def»</text><text fill=\"#000000\" font-family=\"sans-serif\" font-size=\"12\" lengthAdjust=\"spacingAndGlyphs\" textLength=\"43\" x=\"209.82\" y=\"453.1074\">Engine</text><line style=\"stroke: #A80036; stroke-width: 1.5;\" x1=\"199.32\" x2=\"263.32\" y1=\"460.9375\" y2=\"460.9375\"/></a><!--MD5=[09b614a08d8cba4a07c9adeb5e0fee81]\n",
       "class E3--><a href=\"psysml:3defd9be-3b5d-4c6d-8f79-df776db84250\" target=\"_top\" title=\"psysml:3defd9be-3b5d-4c6d-8f79-df776db84250\" xlink:actuate=\"onRequest\" xlink:href=\"psysml:3defd9be-3b5d-4c6d-8f79-df776db84250\" xlink:show=\"new\" xlink:title=\"psysml:3defd9be-3b5d-4c6d-8f79-df776db84250\" xlink:type=\"simple\"><rect fill=\"#FEFECE\" filter=\"url(#f4osup4a50lr1)\" height=\"45.9375\" id=\"E3\" rx=\"10\" ry=\"10\" style=\"stroke: #A80036; stroke-width: 1.5;\" width=\"108\" x=\"410.32\" y=\"316\"/><text fill=\"#000000\" font-family=\"sans-serif\" font-size=\"12\" font-style=\"italic\" lengthAdjust=\"spacingAndGlyphs\" textLength=\"40\" x=\"444.32\" y=\"332.1387\">«part»</text><text fill=\"#000000\" font-family=\"sans-serif\" font-size=\"12\" lengthAdjust=\"spacingAndGlyphs\" textLength=\"102\" x=\"413.32\" y=\"346.1074\">engine1: Engine</text><line style=\"stroke: #A80036; stroke-width: 1.5;\" x1=\"411.32\" x2=\"517.32\" y1=\"353.9375\" y2=\"353.9375\"/></a><!--MD5=[ebbe1d658d1005bcc118a6aa81145e00]\n",
       "class E4--><a href=\"psysml:3a9a647b-2fd2-49b6-8a5f-7ce1649088e0\" target=\"_top\" title=\"psysml:3a9a647b-2fd2-49b6-8a5f-7ce1649088e0\" xlink:actuate=\"onRequest\" xlink:href=\"psysml:3a9a647b-2fd2-49b6-8a5f-7ce1649088e0\" xlink:show=\"new\" xlink:title=\"psysml:3a9a647b-2fd2-49b6-8a5f-7ce1649088e0\" xlink:type=\"simple\"><rect fill=\"#FEFECE\" filter=\"url(#f4osup4a50lr1)\" height=\"45.9375\" id=\"E4\" rx=\"10\" ry=\"10\" style=\"stroke: #A80036; stroke-width: 1.5;\" width=\"108\" x=\"267.32\" y=\"316\"/><text fill=\"#000000\" font-family=\"sans-serif\" font-size=\"12\" font-style=\"italic\" lengthAdjust=\"spacingAndGlyphs\" textLength=\"40\" x=\"301.32\" y=\"332.1387\">«part»</text><text fill=\"#000000\" font-family=\"sans-serif\" font-size=\"12\" lengthAdjust=\"spacingAndGlyphs\" textLength=\"102\" x=\"270.32\" y=\"346.1074\">engine2: Engine</text><line style=\"stroke: #A80036; stroke-width: 1.5;\" x1=\"268.32\" x2=\"374.32\" y1=\"353.9375\" y2=\"353.9375\"/></a><!--MD5=[270fce915f116d4de14055a7c1d9a0f3]\n",
       "class E5--><a href=\"psysml:4b9a9840-0888-40ad-997b-4be591991c45\" target=\"_top\" title=\"psysml:4b9a9840-0888-40ad-997b-4be591991c45\" xlink:actuate=\"onRequest\" xlink:href=\"psysml:4b9a9840-0888-40ad-997b-4be591991c45\" xlink:show=\"new\" xlink:title=\"psysml:4b9a9840-0888-40ad-997b-4be591991c45\" xlink:type=\"simple\"><rect fill=\"#FEFECE\" filter=\"url(#f4osup4a50lr1)\" height=\"45.9375\" id=\"E5\" rx=\"10\" ry=\"10\" style=\"stroke: #A80036; stroke-width: 1.5;\" width=\"199\" x=\"239.82\" y=\"41\"/><text fill=\"#000000\" font-family=\"sans-serif\" font-size=\"12\" font-style=\"italic\" lengthAdjust=\"spacingAndGlyphs\" textLength=\"64\" x=\"307.32\" y=\"57.1387\">«analysis»</text><text fill=\"#000000\" font-family=\"sans-serif\" font-size=\"12\" lengthAdjust=\"spacingAndGlyphs\" textLength=\"193\" x=\"242.82\" y=\"71.1074\">engineTradeStudy: TradeStudy</text><line style=\"stroke: #A80036; stroke-width: 1.5;\" x1=\"240.82\" x2=\"437.82\" y1=\"78.9375\" y2=\"78.9375\"/></a><!--MD5=[60a26617385b1d2d0262a64233df1f8d]\n",
       "class E6--><a href=\"psysml:6d56d509-a272-42e3-905c-0e1bbd246da0\" target=\"_top\" title=\"psysml:6d56d509-a272-42e3-905c-0e1bbd246da0\" xlink:actuate=\"onRequest\" xlink:href=\"psysml:6d56d509-a272-42e3-905c-0e1bbd246da0\" xlink:show=\"new\" xlink:title=\"psysml:6d56d509-a272-42e3-905c-0e1bbd246da0\" xlink:type=\"simple\"><rect fill=\"#FEFECE\" filter=\"url(#f4osup4a50lr1)\" height=\"45.9375\" id=\"E6\" rx=\"10\" ry=\"10\" style=\"stroke: #A80036; stroke-width: 1.5;\" width=\"251\" x=\"78.82\" y=\"164\"/><text fill=\"#000000\" font-family=\"sans-serif\" font-size=\"12\" font-style=\"italic\" lengthAdjust=\"spacingAndGlyphs\" textLength=\"91\" x=\"158.82\" y=\"180.1387\">«requirement»</text><text fill=\"#000000\" font-family=\"sans-serif\" font-size=\"12\" lengthAdjust=\"spacingAndGlyphs\" textLength=\"245\" x=\"81.82\" y=\"194.1074\">tradeStudyObjective: MaximizeObjective</text><line style=\"stroke: #A80036; stroke-width: 1.5;\" x1=\"79.82\" x2=\"328.82\" y1=\"201.9375\" y2=\"201.9375\"/></a><!--MD5=[2156ba9850f5573cc1fc38a6a4b2f02b]\n",
       "class E7--><a href=\"psysml:0d158b00-d202-4b1f-90aa-9fc427f4eb2b\" target=\"_top\" title=\"psysml:0d158b00-d202-4b1f-90aa-9fc427f4eb2b\" xlink:actuate=\"onRequest\" xlink:href=\"psysml:0d158b00-d202-4b1f-90aa-9fc427f4eb2b\" xlink:show=\"new\" xlink:title=\"psysml:0d158b00-d202-4b1f-90aa-9fc427f4eb2b\" xlink:type=\"simple\"><rect fill=\"#FEFECE\" filter=\"url(#f4osup4a50lr1)\" height=\"45.9375\" id=\"E7\" rx=\"10\" ry=\"10\" style=\"stroke: #A80036; stroke-width: 1.5;\" width=\"116\" x=\"365.32\" y=\"164\"/><text fill=\"#000000\" font-family=\"sans-serif\" font-size=\"12\" font-style=\"italic\" lengthAdjust=\"spacingAndGlyphs\" textLength=\"82\" x=\"382.32\" y=\"180.1387\">«calculation»</text><text fill=\"#000000\" font-family=\"sans-serif\" font-size=\"12\" lengthAdjust=\"spacingAndGlyphs\" textLength=\"110\" x=\"368.32\" y=\"194.1074\">objectiveFunction</text><line style=\"stroke: #A80036; stroke-width: 1.5;\" x1=\"366.32\" x2=\"480.32\" y1=\"201.9375\" y2=\"201.9375\"/></a><!--MD5=[b9389687b975829384b498ac4b7476b2]\n",
       "class E8--><a href=\"psysml:e8d66f1b-2710-4767-99ee-f2812ccd7696\" target=\"_top\" title=\"psysml:e8d66f1b-2710-4767-99ee-f2812ccd7696\" xlink:actuate=\"onRequest\" xlink:href=\"psysml:e8d66f1b-2710-4767-99ee-f2812ccd7696\" xlink:show=\"new\" xlink:title=\"psysml:e8d66f1b-2710-4767-99ee-f2812ccd7696\" xlink:type=\"simple\"><rect fill=\"#FEFECE\" filter=\"url(#f4osup4a50lr1)\" height=\"45.9375\" id=\"E8\" rx=\"10\" ry=\"10\" style=\"stroke: #A80036; stroke-width: 1.5;\" width=\"124\" x=\"71.32\" y=\"316\"/><text fill=\"#000000\" font-family=\"sans-serif\" font-size=\"12\" font-style=\"italic\" lengthAdjust=\"spacingAndGlyphs\" textLength=\"40\" x=\"113.32\" y=\"332.1387\">«part»</text><text fill=\"#000000\" font-family=\"sans-serif\" font-size=\"12\" lengthAdjust=\"spacingAndGlyphs\" textLength=\"118\" x=\"74.32\" y=\"346.1074\">alternative: Engine</text><line style=\"stroke: #A80036; stroke-width: 1.5;\" x1=\"72.32\" x2=\"194.32\" y1=\"353.9375\" y2=\"353.9375\"/></a><!--MD5=[fd4143e9d270a159db93a4ea2a975926]\n",
       "class E9--><a href=\"psysml:d0667918-a428-4729-9680-50da29281cd4\" target=\"_top\" title=\"psysml:d0667918-a428-4729-9680-50da29281cd4\" xlink:actuate=\"onRequest\" xlink:href=\"psysml:d0667918-a428-4729-9680-50da29281cd4\" xlink:show=\"new\" xlink:title=\"psysml:d0667918-a428-4729-9680-50da29281cd4\" xlink:type=\"simple\"><rect fill=\"#FEFECE\" filter=\"url(#f4osup4a50lr1)\" height=\"45.9375\" id=\"E9\" rx=\"10\" ry=\"10\" style=\"stroke: #A80036; stroke-width: 1.5;\" width=\"178\" x=\"291.32\" y=\"240\"/><text fill=\"#000000\" font-family=\"sans-serif\" font-size=\"12\" font-style=\"italic\" lengthAdjust=\"spacingAndGlyphs\" textLength=\"40\" x=\"360.32\" y=\"256.1387\">«part»</text><text fill=\"#000000\" font-family=\"sans-serif\" font-size=\"12\" lengthAdjust=\"spacingAndGlyphs\" textLength=\"172\" x=\"294.32\" y=\"270.1074\">selectedAlternative: Engine</text><line style=\"stroke: #A80036; stroke-width: 1.5;\" x1=\"292.32\" x2=\"468.32\" y1=\"277.9375\" y2=\"277.9375\"/></a><!--MD5=[05d275557350bfb9b23a4ef7222b4c39]\n",
       "link E3 to E2--><a href=\"psysml:2c927883-7b33-4f30-b07f-44dca6adebf7\" target=\"_top\" title=\"psysml:2c927883-7b33-4f30-b07f-44dca6adebf7\" xlink:actuate=\"onRequest\" xlink:href=\"psysml:2c927883-7b33-4f30-b07f-44dca6adebf7\" xlink:show=\"new\" xlink:title=\"psysml:2c927883-7b33-4f30-b07f-44dca6adebf7\" xlink:type=\"simple\"><path d=\"M415.48,362.01 C376.57,379.54 322.27,404.01 282.71,421.84 \" fill=\"none\" id=\"E3-&gt;E2\" style=\"stroke: #A80036; stroke-width: 1.0;\"/><polygon fill=\"#FFFFFF\" points=\"264.34,430.12,278.7866,415.9321,284.5383,428.696,264.34,430.12\" style=\"stroke: #A80036; stroke-width: 1.0;\"/><ellipse cx=\"284.805\" cy=\"415.4137\" fill=\"#A80036\" rx=\"2\" ry=\"2\" style=\"stroke: #A80036; stroke-width: 1.0;\"/><ellipse cx=\"288.9134\" cy=\"424.5308\" fill=\"#A80036\" rx=\"2\" ry=\"2\" style=\"stroke: #A80036; stroke-width: 1.0;\"/></a><!--MD5=[185131fc0dcab0a4505a2ebe144e961b]\n",
       "link E4 to E2--><a href=\"psysml:59e46c20-b41c-4b83-8c8c-eff5ad41f1d7\" target=\"_top\" title=\"psysml:59e46c20-b41c-4b83-8c8c-eff5ad41f1d7\" xlink:actuate=\"onRequest\" xlink:href=\"psysml:59e46c20-b41c-4b83-8c8c-eff5ad41f1d7\" xlink:show=\"new\" xlink:title=\"psysml:59e46c20-b41c-4b83-8c8c-eff5ad41f1d7\" xlink:type=\"simple\"><path d=\"M302.45,362.01 C291.25,375.08 276.74,392.01 263.74,407.17 \" fill=\"none\" id=\"E4-&gt;E2\" style=\"stroke: #A80036; stroke-width: 1.0;\"/><polygon fill=\"#FFFFFF\" points=\"250.47,422.66,257.5188,403.678,268.1491,412.7883,250.47,422.66\" style=\"stroke: #A80036; stroke-width: 1.0;\"/><ellipse cx=\"262.7466\" cy=\"400.6515\" fill=\"#A80036\" rx=\"2\" ry=\"2\" style=\"stroke: #A80036; stroke-width: 1.0;\"/><ellipse cx=\"270.3396\" cy=\"407.1588\" fill=\"#A80036\" rx=\"2\" ry=\"2\" style=\"stroke: #A80036; stroke-width: 1.0;\"/></a><!--MD5=[15ebcb19ae302d9b601edb458606d402]\n",
       "link E5 to E2--><a href=\"psysml:d5cbdaa6-c586-4ab8-b2f7-038eda38592d\" target=\"_top\" title=\"psysml:d5cbdaa6-c586-4ab8-b2f7-038eda38592d\" xlink:actuate=\"onRequest\" xlink:href=\"psysml:d5cbdaa6-c586-4ab8-b2f7-038eda38592d\" xlink:show=\"new\" xlink:title=\"psysml:d5cbdaa6-c586-4ab8-b2f7-038eda38592d\" xlink:type=\"simple\"><path d=\"M239.76,73.22 C177.99,83.96 102.74,108.45 61.32,164 C8.68,234.61 6,287.72 53.32,362 C83.95,410.08 150.5,430.76 192.99,439.32 \" fill=\"none\" id=\"E5-&gt;E2\" style=\"stroke: #A80036; stroke-width: 1.0; stroke-dasharray: 7.0,7.0;\"/><polygon fill=\"#A80036\" points=\"198.04,440.31,189.9738,434.6588,193.1327,439.3514,188.4401,442.5104,198.04,440.31\" style=\"stroke: #A80036; stroke-width: 1.0;\"/><text fill=\"#000000\" font-family=\"sans-serif\" font-size=\"13\" lengthAdjust=\"spacingAndGlyphs\" textLength=\"62\" x=\"24.32\" y=\"267.5669\">«subject»</text></a><!--MD5=[9120cf2e5df3bff93db8f754bbbc09b4]\n",
       "link E5 to E6--><a href=\"psysml:14d02f99-86ef-419d-b64f-b983855c21b7\" target=\"_top\" title=\"psysml:14d02f99-86ef-419d-b64f-b983855c21b7\" xlink:actuate=\"onRequest\" xlink:href=\"psysml:14d02f99-86ef-419d-b64f-b983855c21b7\" xlink:show=\"new\" xlink:title=\"psysml:14d02f99-86ef-419d-b64f-b983855c21b7\" xlink:type=\"simple\"><path d=\"M314.56,87.19 C292.2,107.23 259.21,136.8 235.15,158.37 \" fill=\"none\" id=\"E5-&gt;E6\" style=\"stroke: #A80036; stroke-width: 1.0;\"/><polygon fill=\"#A80036\" points=\"228.92,163.95,236.8786,160.8419,232.8725,156.3752,228.92,163.95\" style=\"stroke: #A80036; stroke-width: 1.0;\"/><text fill=\"#000000\" font-family=\"sans-serif\" font-size=\"13\" lengthAdjust=\"spacingAndGlyphs\" textLength=\"73\" x=\"280.32\" y=\"130.0669\">«objective»</text></a><!--MD5=[452b418e7f8a40397a49b8c0a78acc5b]\n",
       "reverse link E5 to E7--><a href=\"psysml:60238b1f-3640-4bef-bde7-54f879504707\" target=\"_top\" title=\"psysml:60238b1f-3640-4bef-bde7-54f879504707\" xlink:actuate=\"onRequest\" xlink:href=\"psysml:60238b1f-3640-4bef-bde7-54f879504707\" xlink:show=\"new\" xlink:title=\"psysml:60238b1f-3640-4bef-bde7-54f879504707\" xlink:type=\"simple\"><path d=\"M362.14,97.88 C376.71,118.86 395.19,145.48 408.01,163.95 \" fill=\"none\" id=\"E5&lt;-E7\" style=\"stroke: #A80036; stroke-width: 1.0;\"/><polygon fill=\"#A80036\" points=\"354.73,87.19,354.864,94.3999,361.5708,97.0492,361.4368,89.8393,354.73,87.19\" style=\"stroke: #A80036; stroke-width: 1.0;\"/></a><!--MD5=[dc164f5e8a733ab456ef1add180e9e34]\n",
       "reverse link E7 to E8--><a href=\"psysml:83c02207-4172-44b5-b5b3-edd55ab7c0db\" target=\"_top\" title=\"psysml:83c02207-4172-44b5-b5b3-edd55ab7c0db\" xlink:actuate=\"onRequest\" xlink:href=\"psysml:83c02207-4172-44b5-b5b3-edd55ab7c0db\" xlink:show=\"new\" xlink:title=\"psysml:83c02207-4172-44b5-b5b3-edd55ab7c0db\" xlink:type=\"simple\"><path d=\"M352.67,208.29 C327.33,216.69 298.96,227.44 274.32,240 C231.96,261.6 187.65,294.33 160.26,315.93 \" fill=\"none\" id=\"E7&lt;-E8\" style=\"stroke: #A80036; stroke-width: 1.0;\"/><polygon fill=\"#FFFFFF\" points=\"365.22,204.24,358.2818,202.2749,353.7994,207.9236,360.7376,209.8887,365.22,204.24\" style=\"stroke: #A80036; stroke-width: 1.0;\"/><text fill=\"#000000\" font-family=\"sans-serif\" font-size=\"13\" lengthAdjust=\"spacingAndGlyphs\" textLength=\"8\" x=\"158.4251\" y=\"304.8075\">1</text></a><!--MD5=[f1f3f9f2fc535e6147756cb86a7f2e32]\n",
       "link E8 to E2--><a href=\"psysml:3fd357fc-9742-4e4a-b08f-00e5f8b92b2e\" target=\"_top\" title=\"psysml:3fd357fc-9742-4e4a-b08f-00e5f8b92b2e\" xlink:actuate=\"onRequest\" xlink:href=\"psysml:3fd357fc-9742-4e4a-b08f-00e5f8b92b2e\" xlink:show=\"new\" xlink:title=\"psysml:3fd357fc-9742-4e4a-b08f-00e5f8b92b2e\" xlink:type=\"simple\"><path d=\"M153.86,362.01 C166.19,375.22 182.2,392.38 196.46,407.65 \" fill=\"none\" id=\"E8-&gt;E2\" style=\"stroke: #A80036; stroke-width: 1.0;\"/><polygon fill=\"#FFFFFF\" points=\"210.47,422.66,192.3921,413.5393,202.6305,403.9907,210.47,422.66\" style=\"stroke: #A80036; stroke-width: 1.0;\"/><ellipse cx=\"189.9671\" cy=\"408.0067\" fill=\"#A80036\" rx=\"2\" ry=\"2\" style=\"stroke: #A80036; stroke-width: 1.0;\"/><ellipse cx=\"197.2802\" cy=\"401.1863\" fill=\"#A80036\" rx=\"2\" ry=\"2\" style=\"stroke: #A80036; stroke-width: 1.0;\"/></a><!--MD5=[9ae28de373ca99bb8a1b38d63370ca7e]\n",
       "reverse link E5 to E9--><a href=\"psysml:44393528-ee32-422a-b73c-7e5d578e1b67\" target=\"_top\" title=\"psysml:44393528-ee32-422a-b73c-7e5d578e1b67\" xlink:actuate=\"onRequest\" xlink:href=\"psysml:44393528-ee32-422a-b73c-7e5d578e1b67\" xlink:show=\"new\" xlink:title=\"psysml:44393528-ee32-422a-b73c-7e5d578e1b67\" xlink:type=\"simple\"><path d=\"M416.08,92.77 C447.78,108.48 481.27,131.61 499.32,164 C509.27,181.86 510.51,192.89 499.32,210 C490.86,222.92 478.41,232.65 464.71,239.97 \" fill=\"none\" id=\"E5&lt;-E9\" style=\"stroke: #A80036; stroke-width: 1.0;\"/><polygon fill=\"#FFFFFF\" points=\"404.06,87.11,407.7814,93.2867,414.9142,92.2272,411.1928,86.0505,404.06,87.11\" style=\"stroke: #A80036; stroke-width: 1.0;\"/><text fill=\"#000000\" font-family=\"sans-serif\" font-size=\"13\" lengthAdjust=\"spacingAndGlyphs\" textLength=\"8\" x=\"477.3099\" y=\"229.2386\">1</text></a><!--MD5=[5c3bb36fe832a92c7f0e1807dd65209d]\n",
       "link E9 to E2--><a href=\"psysml:fe7d5224-67e7-4f42-a679-f87e330c9f80\" target=\"_top\" title=\"psysml:fe7d5224-67e7-4f42-a679-f87e330c9f80\" xlink:actuate=\"onRequest\" xlink:href=\"psysml:fe7d5224-67e7-4f42-a679-f87e330c9f80\" xlink:show=\"new\" xlink:title=\"psysml:fe7d5224-67e7-4f42-a679-f87e330c9f80\" xlink:type=\"simple\"><path d=\"M291.19,285.15 C275.57,292.56 260.94,302.55 250.32,316 C231.17,340.25 227.04,375.32 227.36,402.77 \" fill=\"none\" id=\"E9-&gt;E2\" style=\"stroke: #A80036; stroke-width: 1.0;\"/><polygon fill=\"#FFFFFF\" points=\"228.36,422.81,220.4186,404.1838,234.4011,403.4837,228.36,422.81\" style=\"stroke: #A80036; stroke-width: 1.0;\"/><ellipse cx=\"222.131\" cy=\"398.3909\" fill=\"#A80036\" rx=\"2\" ry=\"2\" style=\"stroke: #A80036; stroke-width: 1.0;\"/><ellipse cx=\"232.1185\" cy=\"397.8909\" fill=\"#A80036\" rx=\"2\" ry=\"2\" style=\"stroke: #A80036; stroke-width: 1.0;\"/></a><!--MD5=[bfc577b019e2b3401d24daff89404bd4]\n",
       "@startuml\r\n",
       "skinparam wrapWidth 300\r\n",
       "hide circle\r\n",
       "\r\n",
       "package \"TradeStudyTest\" as E1  [[psysml:ee7e22b2-7ed6-4f2c-8628-ec59eb221ec4 ]]  {\r\n",
       "comp def \"Engine\" as E2  <<(T,blue) part def>> [[psysml:6dc2e48d-4c08-4400-bc60-82a531af2780 ]] {\r\n",
       "}\r\n",
       "comp usage \"engine1: Engine\" as E3  <<(T,blue) part>> [[psysml:3defd9be-3b5d-4c6d-8f79-df776db84250 ]] {\r\n",
       "}\r\n",
       "comp usage \"engine2: Engine\" as E4  <<(T,blue) part>> [[psysml:3a9a647b-2fd2-49b6-8a5f-7ce1649088e0 ]] {\r\n",
       "}\r\n",
       "comp usage \"engineTradeStudy: TradeStudy\" as E5 << analysis>> [[psysml:4b9a9840-0888-40ad-997b-4be591991c45 ]] {\r\n",
       "}\r\n",
       "comp usage \"tradeStudyObjective: MaximizeObjective\" as E6  <<(T,blue) requirement>> [[psysml:6d56d509-a272-42e3-905c-0e1bbd246da0 ]] {\r\n",
       "}\r\n",
       "comp usage \"objectiveFunction\" as E7  <<(T,blue) calculation>> [[psysml:0d158b00-d202-4b1f-90aa-9fc427f4eb2b ]] {\r\n",
       "}\r\n",
       "comp usage \"alternative: Engine\" as E8  <<(T,blue) part>> [[psysml:e8d66f1b-2710-4767-99ee-f2812ccd7696 ]] {\r\n",
       "}\r\n",
       "comp usage \"selectedAlternative: Engine\" as E9  <<(T,blue) part>> [[psysml:d0667918-a428-4729-9680-50da29281cd4 ]] {\r\n",
       "}\r\n",
       "}\r\n",
       "E3 - -:|> E2 [[psysml:2c927883-7b33-4f30-b07f-44dca6adebf7 ]] \r\n",
       "E4 - -:|> E2 [[psysml:59e46c20-b41c-4b83-8c8c-eff5ad41f1d7 ]] \r\n",
       "E5 ..> E2 [[psysml:d5cbdaa6-c586-4ab8-b2f7-038eda38592d ]] : <<subject>>\r\n",
       "E5 - ->> E6 [[psysml:14d02f99-86ef-419d-b64f-b983855c21b7 ]] : <<objective>>\r\n",
       "E5 *- - E7 [[psysml:60238b1f-3640-4bef-bde7-54f879504707 ]] \r\n",
       "E7 o- - \"1\"E8 [[psysml:83c02207-4172-44b5-b5b3-edd55ab7c0db ]] \r\n",
       "E8 - -:|> E2 [[psysml:3fd357fc-9742-4e4a-b08f-00e5f8b92b2e ]] \r\n",
       "E5 o- - \"1\"E9 [[psysml:44393528-ee32-422a-b73c-7e5d578e1b67 ]] \r\n",
       "E9 - -:|> E2 [[psysml:fe7d5224-67e7-4f42-a679-f87e330c9f80 ]] \r\n",
       "@enduml\r\n",
       "\n",
       "PlantUML version 1.2020.13(Sat Jun 13 12:26:38 UTC 2020)\n",
       "(EPL source distribution)\n",
       "Java Runtime: OpenJDK Runtime Environment\n",
       "JVM: OpenJDK 64-Bit Server VM\n",
       "Default Encoding: UTF-8\n",
       "Language: en\n",
       "Country: null\n",
       "--></g></svg>"
      ]
     },
     "execution_count": 29,
     "metadata": {},
     "output_type": "execute_result"
    }
   ],
   "source": [
    "%viz --style=\"STDCOLOR\" --view=\"MIXED\" \"TradeStudyTest\""
   ]
  },
  {
   "cell_type": "code",
   "execution_count": 30,
   "id": "5caf451a",
   "metadata": {
    "execution": {
     "iopub.execute_input": "2021-10-03T08:30:38.108862Z",
     "iopub.status.busy": "2021-10-03T08:30:38.108472Z",
     "iopub.status.idle": "2021-10-03T08:30:38.187071Z",
     "shell.execute_reply": "2021-10-03T08:30:38.185092Z"
    }
   },
   "outputs": [
    {
     "data": {
      "image/svg+xml": [
       "<?xml version=\"1.0\" encoding=\"UTF-8\" standalone=\"no\"?><svg xmlns=\"http://www.w3.org/2000/svg\" xmlns:xlink=\"http://www.w3.org/1999/xlink\" contentScriptType=\"application/ecmascript\" contentStyleType=\"text/css\" height=\"491px\" preserveAspectRatio=\"none\" style=\"width:636px;height:491px;\" version=\"1.1\" viewBox=\"0 0 636 491\" width=\"636px\" zoomAndPan=\"magnify\"><defs><filter height=\"300%\" id=\"fwfnrph54vs9z\" width=\"300%\" x=\"-1\" y=\"-1\"><feGaussianBlur result=\"blurOut\" stdDeviation=\"2.0\"/><feColorMatrix in=\"blurOut\" result=\"blurOut2\" type=\"matrix\" values=\"0 0 0 0 0 0 0 0 0 0 0 0 0 0 0 0 0 0 .4 0\"/><feOffset dx=\"4.0\" dy=\"4.0\" in=\"blurOut2\" result=\"blurOut3\"/><feBlend in=\"SourceGraphic\" in2=\"blurOut3\" mode=\"normal\"/></filter></defs><g><!--MD5=[fbc87193dbaf4d95561dea2c320d4a47]\n",
       "cluster E1--><a href=\"psysml:ee7e22b2-7ed6-4f2c-8628-ec59eb221ec4\" target=\"_top\" title=\"psysml:ee7e22b2-7ed6-4f2c-8628-ec59eb221ec4\" xlink:actuate=\"onRequest\" xlink:href=\"psysml:ee7e22b2-7ed6-4f2c-8628-ec59eb221ec4\" xlink:show=\"new\" xlink:title=\"psysml:ee7e22b2-7ed6-4f2c-8628-ec59eb221ec4\" xlink:type=\"simple\"><polygon fill=\"#FFFFFF\" filter=\"url(#fwfnrph54vs9z)\" points=\"20.2,6,136.2,6,143.2,28.2969,614.2,28.2969,614.2,479,20.2,479,20.2,6\" style=\"stroke: #000000; stroke-width: 1.5;\"/><line style=\"stroke: #000000; stroke-width: 1.5;\" x1=\"20.2\" x2=\"143.2\" y1=\"28.2969\" y2=\"28.2969\"/><text fill=\"#000000\" font-family=\"sans-serif\" font-size=\"14\" font-weight=\"bold\" lengthAdjust=\"spacingAndGlyphs\" textLength=\"110\" x=\"24.2\" y=\"20.9951\">TradeStudyTest</text></a><!--MD5=[b4997ac47864f28c2f74865a473b2911]\n",
       "class E2--><a href=\"psysml:6dc2e48d-4c08-4400-bc60-82a531af2780\" target=\"_top\" title=\"psysml:6dc2e48d-4c08-4400-bc60-82a531af2780\" xlink:actuate=\"onRequest\" xlink:href=\"psysml:6dc2e48d-4c08-4400-bc60-82a531af2780\" xlink:show=\"new\" xlink:title=\"psysml:6dc2e48d-4c08-4400-bc60-82a531af2780\" xlink:type=\"simple\"><rect fill=\"#FEFECE\" filter=\"url(#fwfnrph54vs9z)\" height=\"40\" id=\"E2\" style=\"stroke: #A80036; stroke-width: 1.5;\" width=\"75\" x=\"221.7\" y=\"423\"/><ellipse cx=\"236.7\" cy=\"439\" fill=\"#008000\" rx=\"11\" ry=\"11\" style=\"stroke: #A80036; stroke-width: 1.0;\"/><path d=\"M233.575,444 L233.575,433.4063 L236.8094,433.4063 Q238.7156,433.4063 239.6219,434.1563 Q240.5438,434.9063 240.5438,436.0781 Q240.5438,436.7656 240.1531,437.4219 Q239.7781,438.0781 239.0594,438.375 Q239.9188,438.75 240.4344,439.4375 Q240.95,440.125 240.95,440.9375 Q240.95,442.3125 239.9188,443.1563 Q238.9031,444 236.7938,444 L233.575,444 Z M235.4969,437.6406 L236.6531,437.6406 Q237.7781,437.6406 238.1844,437.2656 Q238.6063,436.875 238.6063,436.25 Q238.6063,435.6719 238.1844,435.3125 Q237.7625,434.9531 236.825,434.9531 L235.4969,434.9531 L235.4969,437.6406 Z M235.4969,442.4219 L236.9969,442.4219 Q237.9031,442.4219 238.4344,442.0313 Q238.9656,441.6406 238.9656,440.8906 Q238.9656,440.125 238.4656,439.6563 Q237.9656,439.1719 236.7,439.1719 L235.4969,439.1719 L235.4969,442.4219 Z \"/><text fill=\"#000000\" font-family=\"sans-serif\" font-size=\"12\" lengthAdjust=\"spacingAndGlyphs\" textLength=\"43\" x=\"250.7\" y=\"443.1543\">Engine</text><line style=\"stroke: #A80036; stroke-width: 1.5;\" x1=\"222.7\" x2=\"295.7\" y1=\"455\" y2=\"455\"/></a><!--MD5=[09b614a08d8cba4a07c9adeb5e0fee81]\n",
       "class E3--><a href=\"psysml:3defd9be-3b5d-4c6d-8f79-df776db84250\" target=\"_top\" title=\"psysml:3defd9be-3b5d-4c6d-8f79-df776db84250\" xlink:actuate=\"onRequest\" xlink:href=\"psysml:3defd9be-3b5d-4c6d-8f79-df776db84250\" xlink:show=\"new\" xlink:title=\"psysml:3defd9be-3b5d-4c6d-8f79-df776db84250\" xlink:type=\"simple\"><rect fill=\"#FEFECE\" filter=\"url(#fwfnrph54vs9z)\" height=\"45.9375\" id=\"E3\" rx=\"10\" ry=\"10\" style=\"stroke: #A80036; stroke-width: 1.5;\" width=\"134\" x=\"464.2\" y=\"316\"/><ellipse cx=\"479.2\" cy=\"334.9688\" fill=\"#32CD32\" rx=\"11\" ry=\"11\" style=\"stroke: #A80036; stroke-width: 1.0;\"/><path d=\"M476.0125,339.9688 L476.0125,329.375 L479.6219,329.375 Q480.8406,329.375 481.6375,329.8125 Q482.4344,330.2344 482.8094,330.9375 Q483.2,331.6406 483.2,332.4844 Q483.2,333.3281 482.825,334.0156 Q482.4656,334.7031 481.6688,335.125 Q480.8875,335.5313 479.7,335.5313 L477.9656,335.5313 L477.9656,339.9688 L476.0125,339.9688 Z M477.9656,333.9375 L479.575,333.9375 Q480.3875,333.9375 480.8094,333.5313 Q481.2313,333.125 481.2313,332.4844 Q481.2313,331.8594 480.8094,331.4531 Q480.3875,331.0469 479.5906,331.0469 L477.9656,331.0469 L477.9656,333.9375 Z \"/><text fill=\"#000000\" font-family=\"sans-serif\" font-size=\"12\" font-style=\"italic\" lengthAdjust=\"spacingAndGlyphs\" textLength=\"40\" x=\"524.2\" y=\"332.1387\">«part»</text><text fill=\"#000000\" font-family=\"sans-serif\" font-size=\"12\" lengthAdjust=\"spacingAndGlyphs\" textLength=\"102\" x=\"493.2\" y=\"346.1074\">engine1: Engine</text><line style=\"stroke: #A80036; stroke-width: 1.5;\" x1=\"465.2\" x2=\"597.2\" y1=\"353.9375\" y2=\"353.9375\"/></a><!--MD5=[ebbe1d658d1005bcc118a6aa81145e00]\n",
       "class E4--><a href=\"psysml:3a9a647b-2fd2-49b6-8a5f-7ce1649088e0\" target=\"_top\" title=\"psysml:3a9a647b-2fd2-49b6-8a5f-7ce1649088e0\" xlink:actuate=\"onRequest\" xlink:href=\"psysml:3a9a647b-2fd2-49b6-8a5f-7ce1649088e0\" xlink:show=\"new\" xlink:title=\"psysml:3a9a647b-2fd2-49b6-8a5f-7ce1649088e0\" xlink:type=\"simple\"><rect fill=\"#FEFECE\" filter=\"url(#fwfnrph54vs9z)\" height=\"45.9375\" id=\"E4\" rx=\"10\" ry=\"10\" style=\"stroke: #A80036; stroke-width: 1.5;\" width=\"134\" x=\"295.2\" y=\"316\"/><ellipse cx=\"310.2\" cy=\"334.9688\" fill=\"#32CD32\" rx=\"11\" ry=\"11\" style=\"stroke: #A80036; stroke-width: 1.0;\"/><path d=\"M307.0125,339.9688 L307.0125,329.375 L310.6219,329.375 Q311.8406,329.375 312.6375,329.8125 Q313.4344,330.2344 313.8094,330.9375 Q314.2,331.6406 314.2,332.4844 Q314.2,333.3281 313.825,334.0156 Q313.4656,334.7031 312.6688,335.125 Q311.8875,335.5313 310.7,335.5313 L308.9656,335.5313 L308.9656,339.9688 L307.0125,339.9688 Z M308.9656,333.9375 L310.575,333.9375 Q311.3875,333.9375 311.8094,333.5313 Q312.2313,333.125 312.2313,332.4844 Q312.2313,331.8594 311.8094,331.4531 Q311.3875,331.0469 310.5906,331.0469 L308.9656,331.0469 L308.9656,333.9375 Z \"/><text fill=\"#000000\" font-family=\"sans-serif\" font-size=\"12\" font-style=\"italic\" lengthAdjust=\"spacingAndGlyphs\" textLength=\"40\" x=\"355.2\" y=\"332.1387\">«part»</text><text fill=\"#000000\" font-family=\"sans-serif\" font-size=\"12\" lengthAdjust=\"spacingAndGlyphs\" textLength=\"102\" x=\"324.2\" y=\"346.1074\">engine2: Engine</text><line style=\"stroke: #A80036; stroke-width: 1.5;\" x1=\"296.2\" x2=\"428.2\" y1=\"353.9375\" y2=\"353.9375\"/></a><!--MD5=[270fce915f116d4de14055a7c1d9a0f3]\n",
       "class E5--><a href=\"psysml:4b9a9840-0888-40ad-997b-4be591991c45\" target=\"_top\" title=\"psysml:4b9a9840-0888-40ad-997b-4be591991c45\" xlink:actuate=\"onRequest\" xlink:href=\"psysml:4b9a9840-0888-40ad-997b-4be591991c45\" xlink:show=\"new\" xlink:title=\"psysml:4b9a9840-0888-40ad-997b-4be591991c45\" xlink:type=\"simple\"><rect fill=\"#FEFECE\" filter=\"url(#fwfnrph54vs9z)\" height=\"45.9375\" id=\"E5\" rx=\"10\" ry=\"10\" style=\"stroke: #A80036; stroke-width: 1.5;\" width=\"225\" x=\"283.7\" y=\"41\"/><ellipse cx=\"298.7\" cy=\"59.9688\" fill=\"#B6DBBB\" rx=\"11\" ry=\"11\" style=\"stroke: #A80036; stroke-width: 1.0;\"/><path d=\"M298.45,65.4375 Q296.7,65.4375 295.7469,64.4063 Q294.8094,63.3594 294.8094,61.5156 L294.8094,54.625 L296.8719,54.625 L296.8719,54.7813 Q296.7781,54.875 296.7469,55.0156 Q296.7313,55.1406 296.7313,55.4063 L296.7313,61.5313 Q296.7313,62.625 297.1063,63.25 Q297.4813,63.875 298.4656,63.875 Q299.45,63.875 299.8406,63.25 Q300.2313,62.625 300.2313,61.4844 L300.2313,54.625 L302.1063,54.625 L302.1063,61.4688 Q302.1063,63.5 301.075,64.4688 Q300.0594,65.4375 298.45,65.4375 Z \"/><text fill=\"#000000\" font-family=\"sans-serif\" font-size=\"12\" font-style=\"italic\" lengthAdjust=\"spacingAndGlyphs\" textLength=\"64\" x=\"377.2\" y=\"57.1387\">«analysis»</text><text fill=\"#000000\" font-family=\"sans-serif\" font-size=\"12\" lengthAdjust=\"spacingAndGlyphs\" textLength=\"193\" x=\"312.7\" y=\"71.1074\">engineTradeStudy: TradeStudy</text><line style=\"stroke: #A80036; stroke-width: 1.5;\" x1=\"284.7\" x2=\"507.7\" y1=\"78.9375\" y2=\"78.9375\"/></a><!--MD5=[60a26617385b1d2d0262a64233df1f8d]\n",
       "class E6--><a href=\"psysml:6d56d509-a272-42e3-905c-0e1bbd246da0\" target=\"_top\" title=\"psysml:6d56d509-a272-42e3-905c-0e1bbd246da0\" xlink:actuate=\"onRequest\" xlink:href=\"psysml:6d56d509-a272-42e3-905c-0e1bbd246da0\" xlink:show=\"new\" xlink:title=\"psysml:6d56d509-a272-42e3-905c-0e1bbd246da0\" xlink:type=\"simple\"><rect fill=\"#FEFECE\" filter=\"url(#fwfnrph54vs9z)\" height=\"45.9375\" id=\"E6\" rx=\"10\" ry=\"10\" style=\"stroke: #A80036; stroke-width: 1.5;\" width=\"277\" x=\"106.7\" y=\"164\"/><ellipse cx=\"121.7\" cy=\"182.9688\" fill=\"#FFA500\" rx=\"11\" ry=\"11\" style=\"stroke: #A80036; stroke-width: 1.0;\"/><path d=\"M121.45,188.4375 Q119.7,188.4375 118.7469,187.4063 Q117.8094,186.3594 117.8094,184.5156 L117.8094,177.625 L119.8719,177.625 L119.8719,177.7813 Q119.7781,177.875 119.7469,178.0156 Q119.7313,178.1406 119.7313,178.4063 L119.7313,184.5313 Q119.7313,185.625 120.1063,186.25 Q120.4813,186.875 121.4656,186.875 Q122.45,186.875 122.8406,186.25 Q123.2313,185.625 123.2313,184.4844 L123.2313,177.625 L125.1063,177.625 L125.1063,184.4688 Q125.1063,186.5 124.075,187.4688 Q123.0594,188.4375 121.45,188.4375 Z \"/><text fill=\"#000000\" font-family=\"sans-serif\" font-size=\"12\" font-style=\"italic\" lengthAdjust=\"spacingAndGlyphs\" textLength=\"91\" x=\"212.7\" y=\"180.1387\">«requirement»</text><text fill=\"#000000\" font-family=\"sans-serif\" font-size=\"12\" lengthAdjust=\"spacingAndGlyphs\" textLength=\"245\" x=\"135.7\" y=\"194.1074\">tradeStudyObjective: MaximizeObjective</text><line style=\"stroke: #A80036; stroke-width: 1.5;\" x1=\"107.7\" x2=\"382.7\" y1=\"201.9375\" y2=\"201.9375\"/></a><!--MD5=[2156ba9850f5573cc1fc38a6a4b2f02b]\n",
       "class E7--><a href=\"psysml:0d158b00-d202-4b1f-90aa-9fc427f4eb2b\" target=\"_top\" title=\"psysml:0d158b00-d202-4b1f-90aa-9fc427f4eb2b\" xlink:actuate=\"onRequest\" xlink:href=\"psysml:0d158b00-d202-4b1f-90aa-9fc427f4eb2b\" xlink:show=\"new\" xlink:title=\"psysml:0d158b00-d202-4b1f-90aa-9fc427f4eb2b\" xlink:type=\"simple\"><rect fill=\"#FEFECE\" filter=\"url(#fwfnrph54vs9z)\" height=\"45.9375\" id=\"E7\" rx=\"10\" ry=\"10\" style=\"stroke: #A80036; stroke-width: 1.5;\" width=\"142\" x=\"419.2\" y=\"164\"/><ellipse cx=\"434.2\" cy=\"182.9688\" fill=\"#FFA500\" rx=\"11\" ry=\"11\" style=\"stroke: #A80036; stroke-width: 1.0;\"/><path d=\"M433.95,188.4375 Q432.2,188.4375 431.2469,187.4063 Q430.3094,186.3594 430.3094,184.5156 L430.3094,177.625 L432.3719,177.625 L432.3719,177.7813 Q432.2781,177.875 432.2469,178.0156 Q432.2313,178.1406 432.2313,178.4063 L432.2313,184.5313 Q432.2313,185.625 432.6063,186.25 Q432.9813,186.875 433.9656,186.875 Q434.95,186.875 435.3406,186.25 Q435.7313,185.625 435.7313,184.4844 L435.7313,177.625 L437.6063,177.625 L437.6063,184.4688 Q437.6063,186.5 436.575,187.4688 Q435.5594,188.4375 433.95,188.4375 Z \"/><text fill=\"#000000\" font-family=\"sans-serif\" font-size=\"12\" font-style=\"italic\" lengthAdjust=\"spacingAndGlyphs\" textLength=\"82\" x=\"462.2\" y=\"180.1387\">«calculation»</text><text fill=\"#000000\" font-family=\"sans-serif\" font-size=\"12\" lengthAdjust=\"spacingAndGlyphs\" textLength=\"110\" x=\"448.2\" y=\"194.1074\">objectiveFunction</text><line style=\"stroke: #A80036; stroke-width: 1.5;\" x1=\"420.2\" x2=\"560.2\" y1=\"201.9375\" y2=\"201.9375\"/></a><!--MD5=[b9389687b975829384b498ac4b7476b2]\n",
       "class E8--><a href=\"psysml:e8d66f1b-2710-4767-99ee-f2812ccd7696\" target=\"_top\" title=\"psysml:e8d66f1b-2710-4767-99ee-f2812ccd7696\" xlink:actuate=\"onRequest\" xlink:href=\"psysml:e8d66f1b-2710-4767-99ee-f2812ccd7696\" xlink:show=\"new\" xlink:title=\"psysml:e8d66f1b-2710-4767-99ee-f2812ccd7696\" xlink:type=\"simple\"><rect fill=\"#FEFECE\" filter=\"url(#fwfnrph54vs9z)\" height=\"45.9375\" id=\"E8\" rx=\"10\" ry=\"10\" style=\"stroke: #A80036; stroke-width: 1.5;\" width=\"150\" x=\"73.2\" y=\"316\"/><ellipse cx=\"88.2\" cy=\"334.9688\" fill=\"#32CD32\" rx=\"11\" ry=\"11\" style=\"stroke: #A80036; stroke-width: 1.0;\"/><path d=\"M85.0125,339.9688 L85.0125,329.375 L88.6219,329.375 Q89.8406,329.375 90.6375,329.8125 Q91.4344,330.2344 91.8094,330.9375 Q92.2,331.6406 92.2,332.4844 Q92.2,333.3281 91.825,334.0156 Q91.4656,334.7031 90.6688,335.125 Q89.8875,335.5313 88.7,335.5313 L86.9656,335.5313 L86.9656,339.9688 L85.0125,339.9688 Z M86.9656,333.9375 L88.575,333.9375 Q89.3875,333.9375 89.8094,333.5313 Q90.2313,333.125 90.2313,332.4844 Q90.2313,331.8594 89.8094,331.4531 Q89.3875,331.0469 88.5906,331.0469 L86.9656,331.0469 L86.9656,333.9375 Z \"/><text fill=\"#000000\" font-family=\"sans-serif\" font-size=\"12\" font-style=\"italic\" lengthAdjust=\"spacingAndGlyphs\" textLength=\"40\" x=\"141.2\" y=\"332.1387\">«part»</text><text fill=\"#000000\" font-family=\"sans-serif\" font-size=\"12\" lengthAdjust=\"spacingAndGlyphs\" textLength=\"118\" x=\"102.2\" y=\"346.1074\">alternative: Engine</text><line style=\"stroke: #A80036; stroke-width: 1.5;\" x1=\"74.2\" x2=\"222.2\" y1=\"353.9375\" y2=\"353.9375\"/></a><!--MD5=[fd4143e9d270a159db93a4ea2a975926]\n",
       "class E9--><a href=\"psysml:d0667918-a428-4729-9680-50da29281cd4\" target=\"_top\" title=\"psysml:d0667918-a428-4729-9680-50da29281cd4\" xlink:actuate=\"onRequest\" xlink:href=\"psysml:d0667918-a428-4729-9680-50da29281cd4\" xlink:show=\"new\" xlink:title=\"psysml:d0667918-a428-4729-9680-50da29281cd4\" xlink:type=\"simple\"><rect fill=\"#FEFECE\" filter=\"url(#fwfnrph54vs9z)\" height=\"45.9375\" id=\"E9\" rx=\"10\" ry=\"10\" style=\"stroke: #A80036; stroke-width: 1.5;\" width=\"204\" x=\"275.2\" y=\"240\"/><ellipse cx=\"290.2\" cy=\"258.9688\" fill=\"#32CD32\" rx=\"11\" ry=\"11\" style=\"stroke: #A80036; stroke-width: 1.0;\"/><path d=\"M287.0125,263.9688 L287.0125,253.375 L290.6219,253.375 Q291.8406,253.375 292.6375,253.8125 Q293.4344,254.2344 293.8094,254.9375 Q294.2,255.6406 294.2,256.4844 Q294.2,257.3281 293.825,258.0156 Q293.4656,258.7031 292.6688,259.125 Q291.8875,259.5313 290.7,259.5313 L288.9656,259.5313 L288.9656,263.9688 L287.0125,263.9688 Z M288.9656,257.9375 L290.575,257.9375 Q291.3875,257.9375 291.8094,257.5313 Q292.2313,257.125 292.2313,256.4844 Q292.2313,255.8594 291.8094,255.4531 Q291.3875,255.0469 290.5906,255.0469 L288.9656,255.0469 L288.9656,257.9375 Z \"/><text fill=\"#000000\" font-family=\"sans-serif\" font-size=\"12\" font-style=\"italic\" lengthAdjust=\"spacingAndGlyphs\" textLength=\"40\" x=\"370.2\" y=\"256.1387\">«part»</text><text fill=\"#000000\" font-family=\"sans-serif\" font-size=\"12\" lengthAdjust=\"spacingAndGlyphs\" textLength=\"172\" x=\"304.2\" y=\"270.1074\">selectedAlternative: Engine</text><line style=\"stroke: #A80036; stroke-width: 1.5;\" x1=\"276.2\" x2=\"478.2\" y1=\"277.9375\" y2=\"277.9375\"/></a><!--MD5=[05d275557350bfb9b23a4ef7222b4c39]\n",
       "link E3 to E2--><a href=\"psysml:2c927883-7b33-4f30-b07f-44dca6adebf7\" target=\"_top\" title=\"psysml:2c927883-7b33-4f30-b07f-44dca6adebf7\" xlink:actuate=\"onRequest\" xlink:href=\"psysml:2c927883-7b33-4f30-b07f-44dca6adebf7\" xlink:show=\"new\" xlink:title=\"psysml:2c927883-7b33-4f30-b07f-44dca6adebf7\" xlink:type=\"simple\"><path d=\"M472.51,362.01 C426.12,379.4 361.76,403.54 315.9,420.74 \" fill=\"none\" id=\"E3-&gt;E2\" style=\"stroke: #A80036; stroke-width: 1.0;\"/><polygon fill=\"#FFFFFF\" points=\"296.87,427.87,312.2079,414.6508,317.1182,427.7614,296.87,427.87\" style=\"stroke: #A80036; stroke-width: 1.0;\"/><ellipse cx=\"318.2473\" cy=\"414.5245\" fill=\"#A80036\" rx=\"2\" ry=\"2\" style=\"stroke: #A80036; stroke-width: 1.0;\"/><ellipse cx=\"321.7546\" cy=\"423.8893\" fill=\"#A80036\" rx=\"2\" ry=\"2\" style=\"stroke: #A80036; stroke-width: 1.0;\"/></a><!--MD5=[185131fc0dcab0a4505a2ebe144e961b]\n",
       "link E4 to E2--><a href=\"psysml:59e46c20-b41c-4b83-8c8c-eff5ad41f1d7\" target=\"_top\" title=\"psysml:59e46c20-b41c-4b83-8c8c-eff5ad41f1d7\" xlink:actuate=\"onRequest\" xlink:href=\"psysml:59e46c20-b41c-4b83-8c8c-eff5ad41f1d7\" xlink:show=\"new\" xlink:title=\"psysml:59e46c20-b41c-4b83-8c8c-eff5ad41f1d7\" xlink:type=\"simple\"><path d=\"M339.85,362.13 C326.09,375.76 308.2,393.47 292.76,408.76 \" fill=\"none\" id=\"E4-&gt;E2\" style=\"stroke: #A80036; stroke-width: 1.0;\"/><polygon fill=\"#FFFFFF\" points=\"278.39,423,286.968,404.6583,296.8174,414.6077,278.39,423\" style=\"stroke: #A80036; stroke-width: 1.0;\"/><ellipse cx=\"292.4259\" cy=\"402.0695\" fill=\"#A80036\" rx=\"2\" ry=\"2\" style=\"stroke: #A80036; stroke-width: 1.0;\"/><ellipse cx=\"299.4612\" cy=\"409.1762\" fill=\"#A80036\" rx=\"2\" ry=\"2\" style=\"stroke: #A80036; stroke-width: 1.0;\"/></a><!--MD5=[15ebcb19ae302d9b601edb458606d402]\n",
       "link E5 to E2--><a href=\"psysml:d5cbdaa6-c586-4ab8-b2f7-038eda38592d\" target=\"_top\" title=\"psysml:d5cbdaa6-c586-4ab8-b2f7-038eda38592d\" xlink:actuate=\"onRequest\" xlink:href=\"psysml:d5cbdaa6-c586-4ab8-b2f7-038eda38592d\" xlink:show=\"new\" xlink:title=\"psysml:d5cbdaa6-c586-4ab8-b2f7-038eda38592d\" xlink:type=\"simple\"><path d=\"M283.33,73.88 C217.7,84.99 138.47,109.64 89.2,164 C29.29,230.1 6,288.25 56.2,362 C91.99,414.57 168.14,432.6 216.32,438.78 \" fill=\"none\" id=\"E5-&gt;E2\" style=\"stroke: #A80036; stroke-width: 1.0; stroke-dasharray: 7.0,7.0;\"/><polygon fill=\"#A80036\" points=\"221.48,439.41,213.0385,434.3365,216.5177,438.7968,212.0574,442.2761,221.48,439.41\" style=\"stroke: #A80036; stroke-width: 1.0;\"/><text fill=\"#000000\" font-family=\"sans-serif\" font-size=\"13\" lengthAdjust=\"spacingAndGlyphs\" textLength=\"62\" x=\"39.2\" y=\"267.5669\">«subject»</text></a><!--MD5=[9120cf2e5df3bff93db8f754bbbc09b4]\n",
       "link E5 to E6--><a href=\"psysml:14d02f99-86ef-419d-b64f-b983855c21b7\" target=\"_top\" title=\"psysml:14d02f99-86ef-419d-b64f-b983855c21b7\" xlink:actuate=\"onRequest\" xlink:href=\"psysml:14d02f99-86ef-419d-b64f-b983855c21b7\" xlink:show=\"new\" xlink:title=\"psysml:14d02f99-86ef-419d-b64f-b983855c21b7\" xlink:type=\"simple\"><path d=\"M368.5,87.19 C343.28,107.41 305.97,137.31 279,158.92 \" fill=\"none\" id=\"E5-&gt;E6\" style=\"stroke: #A80036; stroke-width: 1.0;\"/><polygon fill=\"#A80036\" points=\"272.72,163.95,280.8396,161.2905,277.0888,156.6074,272.72,163.95\" style=\"stroke: #A80036; stroke-width: 1.0;\"/><text fill=\"#000000\" font-family=\"sans-serif\" font-size=\"13\" lengthAdjust=\"spacingAndGlyphs\" textLength=\"73\" x=\"330.2\" y=\"130.0669\">«objective»</text></a><!--MD5=[452b418e7f8a40397a49b8c0a78acc5b]\n",
       "reverse link E5 to E7--><a href=\"psysml:60238b1f-3640-4bef-bde7-54f879504707\" target=\"_top\" title=\"psysml:60238b1f-3640-4bef-bde7-54f879504707\" xlink:actuate=\"onRequest\" xlink:href=\"psysml:60238b1f-3640-4bef-bde7-54f879504707\" xlink:show=\"new\" xlink:title=\"psysml:60238b1f-3640-4bef-bde7-54f879504707\" xlink:type=\"simple\"><path d=\"M421.52,97.59 C437.85,118.61 458.66,145.4 473.07,163.95 \" fill=\"none\" id=\"E5&lt;-E7\" style=\"stroke: #A80036; stroke-width: 1.0;\"/><polygon fill=\"#A80036\" points=\"413.44,87.19,413.9586,94.3824,420.7972,96.67,420.2786,89.4776,413.44,87.19\" style=\"stroke: #A80036; stroke-width: 1.0;\"/></a><!--MD5=[dc164f5e8a733ab456ef1add180e9e34]\n",
       "reverse link E7 to E8--><a href=\"psysml:83c02207-4172-44b5-b5b3-edd55ab7c0db\" target=\"_top\" title=\"psysml:83c02207-4172-44b5-b5b3-edd55ab7c0db\" xlink:actuate=\"onRequest\" xlink:href=\"psysml:83c02207-4172-44b5-b5b3-edd55ab7c0db\" xlink:show=\"new\" xlink:title=\"psysml:83c02207-4172-44b5-b5b3-edd55ab7c0db\" xlink:type=\"simple\"><path d=\"M406.09,208.88 C404.45,209.26 402.81,209.63 401.2,210 C337.89,224.46 316.18,210.75 258.2,240 C221.21,258.66 186.98,292.95 166.84,315.61 \" fill=\"none\" id=\"E7&lt;-E8\" style=\"stroke: #A80036; stroke-width: 1.0;\"/><polygon fill=\"#FFFFFF\" points=\"418.84,205.88,412.0846,203.3572,407.1576,208.6226,413.913,211.1454,418.84,205.88\" style=\"stroke: #A80036; stroke-width: 1.0;\"/><text fill=\"#000000\" font-family=\"sans-serif\" font-size=\"13\" lengthAdjust=\"spacingAndGlyphs\" textLength=\"8\" x=\"162.5915\" y=\"304.7864\">1</text></a><!--MD5=[f1f3f9f2fc535e6147756cb86a7f2e32]\n",
       "link E8 to E2--><a href=\"psysml:3fd357fc-9742-4e4a-b08f-00e5f8b92b2e\" target=\"_top\" title=\"psysml:3fd357fc-9742-4e4a-b08f-00e5f8b92b2e\" xlink:actuate=\"onRequest\" xlink:href=\"psysml:3fd357fc-9742-4e4a-b08f-00e5f8b92b2e\" xlink:show=\"new\" xlink:title=\"psysml:3fd357fc-9742-4e4a-b08f-00e5f8b92b2e\" xlink:type=\"simple\"><path d=\"M172.29,362.13 C187.26,375.9 206.8,393.84 223.55,409.24 \" fill=\"none\" id=\"E8-&gt;E2\" style=\"stroke: #A80036; stroke-width: 1.0;\"/><polygon fill=\"#FFFFFF\" points=\"238.52,423,219.7918,415.3024,229.2623,404.9918,238.52,423\" style=\"stroke: #A80036; stroke-width: 1.0;\"/><ellipse cx=\"216.9468\" cy=\"409.9736\" fill=\"#A80036\" rx=\"2\" ry=\"2\" style=\"stroke: #A80036; stroke-width: 1.0;\"/><ellipse cx=\"223.7115\" cy=\"402.6089\" fill=\"#A80036\" rx=\"2\" ry=\"2\" style=\"stroke: #A80036; stroke-width: 1.0;\"/></a><!--MD5=[9ae28de373ca99bb8a1b38d63370ca7e]\n",
       "reverse link E5 to E9--><a href=\"psysml:44393528-ee32-422a-b73c-7e5d578e1b67\" target=\"_top\" title=\"psysml:44393528-ee32-422a-b73c-7e5d578e1b67\" xlink:actuate=\"onRequest\" xlink:href=\"psysml:44393528-ee32-422a-b73c-7e5d578e1b67\" xlink:show=\"new\" xlink:title=\"psysml:44393528-ee32-422a-b73c-7e5d578e1b67\" xlink:type=\"simple\"><path d=\"M477.44,91.83 C542.71,117.79 617.64,160.42 579.2,210 C566.19,226.78 522.73,239.1 479.43,247.52 \" fill=\"none\" id=\"E5&lt;-E9\" style=\"stroke: #A80036; stroke-width: 1.0;\"/><polygon fill=\"#FFFFFF\" points=\"464.97,87.02,469.1253,92.9135,476.1637,91.3445,472.0083,85.451,464.97,87.02\" style=\"stroke: #A80036; stroke-width: 1.0;\"/><text fill=\"#000000\" font-family=\"sans-serif\" font-size=\"13\" lengthAdjust=\"spacingAndGlyphs\" textLength=\"8\" x=\"487.2313\" y=\"242.9065\">1</text></a><!--MD5=[5c3bb36fe832a92c7f0e1807dd65209d]\n",
       "link E9 to E2--><a href=\"psysml:fe7d5224-67e7-4f42-a679-f87e330c9f80\" target=\"_top\" title=\"psysml:fe7d5224-67e7-4f42-a679-f87e330c9f80\" xlink:actuate=\"onRequest\" xlink:href=\"psysml:fe7d5224-67e7-4f42-a679-f87e330c9f80\" xlink:show=\"new\" xlink:title=\"psysml:fe7d5224-67e7-4f42-a679-f87e330c9f80\" xlink:type=\"simple\"><path d=\"M313.67,286.14 C300.09,293.64 287.15,303.42 278.2,316 C260.36,341.07 256.3,376.08 256.31,402.84 \" fill=\"none\" id=\"E9-&gt;E2\" style=\"stroke: #A80036; stroke-width: 1.0;\"/><polygon fill=\"#FFFFFF\" points=\"257.06,422.97,249.3591,404.2431,263.3494,403.7231,257.06,422.97\" style=\"stroke: #A80036; stroke-width: 1.0;\"/><ellipse cx=\"251.146\" cy=\"398.4728\" fill=\"#A80036\" rx=\"2\" ry=\"2\" style=\"stroke: #A80036; stroke-width: 1.0;\"/><ellipse cx=\"261.1391\" cy=\"398.1013\" fill=\"#A80036\" rx=\"2\" ry=\"2\" style=\"stroke: #A80036; stroke-width: 1.0;\"/></a><!--MD5=[ffc2781a9170230b0d59c3f1313ab558]\n",
       "@startuml\r\n",
       " \r\n",
       "package \"TradeStudyTest\" as E1  [[psysml:ee7e22b2-7ed6-4f2c-8628-ec59eb221ec4 ]]  {\r\n",
       "comp def \"Engine\" as E2 << << (B,green) >> [[psysml:6dc2e48d-4c08-4400-bc60-82a531af2780 ]] {\r\n",
       "}\r\n",
       "comp usage \"engine1: Engine\" as E3 << << (P,limegreen) part>> [[psysml:3defd9be-3b5d-4c6d-8f79-df776db84250 ]] {\r\n",
       "}\r\n",
       "comp usage \"engine2: Engine\" as E4 << << (P,limegreen) part>> [[psysml:3a9a647b-2fd2-49b6-8a5f-7ce1649088e0 ]] {\r\n",
       "}\r\n",
       "comp usage \"engineTradeStudy: TradeStudy\" as E5 << analysis>> [[psysml:4b9a9840-0888-40ad-997b-4be591991c45 ]] {\r\n",
       "}\r\n",
       "comp usage \"tradeStudyObjective: MaximizeObjective\" as E6 << <<(U,orange) requirement>> [[psysml:6d56d509-a272-42e3-905c-0e1bbd246da0 ]] {\r\n",
       "}\r\n",
       "comp usage \"objectiveFunction\" as E7 << <<(U,orange) calculation>> [[psysml:0d158b00-d202-4b1f-90aa-9fc427f4eb2b ]] {\r\n",
       "}\r\n",
       "comp usage \"alternative: Engine\" as E8 << << (P,limegreen) part>> [[psysml:e8d66f1b-2710-4767-99ee-f2812ccd7696 ]] {\r\n",
       "}\r\n",
       "comp usage \"selectedAlternative: Engine\" as E9 << << (P,limegreen) part>> [[psysml:d0667918-a428-4729-9680-50da29281cd4 ]] {\r\n",
       "}\r\n",
       "}\r\n",
       "E3 - -:|> E2 [[psysml:2c927883-7b33-4f30-b07f-44dca6adebf7 ]] \r\n",
       "E4 - -:|> E2 [[psysml:59e46c20-b41c-4b83-8c8c-eff5ad41f1d7 ]] \r\n",
       "E5 ..> E2 [[psysml:d5cbdaa6-c586-4ab8-b2f7-038eda38592d ]] : <<subject>>\r\n",
       "E5 - ->> E6 [[psysml:14d02f99-86ef-419d-b64f-b983855c21b7 ]] : <<objective>>\r\n",
       "E5 *- - E7 [[psysml:60238b1f-3640-4bef-bde7-54f879504707 ]] \r\n",
       "E7 o- - \"1\"E8 [[psysml:83c02207-4172-44b5-b5b3-edd55ab7c0db ]] \r\n",
       "E8 - -:|> E2 [[psysml:3fd357fc-9742-4e4a-b08f-00e5f8b92b2e ]] \r\n",
       "E5 o- - \"1\"E9 [[psysml:44393528-ee32-422a-b73c-7e5d578e1b67 ]] \r\n",
       "E9 - -:|> E2 [[psysml:fe7d5224-67e7-4f42-a679-f87e330c9f80 ]] \r\n",
       "@enduml\r\n",
       "\n",
       "PlantUML version 1.2020.13(Sat Jun 13 12:26:38 UTC 2020)\n",
       "(EPL source distribution)\n",
       "Java Runtime: OpenJDK Runtime Environment\n",
       "JVM: OpenJDK 64-Bit Server VM\n",
       "Default Encoding: UTF-8\n",
       "Language: en\n",
       "Country: null\n",
       "--></g></svg>"
      ]
     },
     "execution_count": 30,
     "metadata": {},
     "output_type": "execute_result"
    }
   ],
   "source": [
    "%viz --style=\"PLANTUML\" --view=\"Default\" \"TradeStudyTest\""
   ]
  },
  {
   "cell_type": "code",
   "execution_count": 31,
   "id": "e6a6fc38",
   "metadata": {
    "execution": {
     "iopub.execute_input": "2021-10-03T08:30:38.235769Z",
     "iopub.status.busy": "2021-10-03T08:30:38.235366Z",
     "iopub.status.idle": "2021-10-03T08:30:38.271926Z",
     "shell.execute_reply": "2021-10-03T08:30:38.271563Z"
    }
   },
   "outputs": [
    {
     "data": {
      "image/svg+xml": [
       "<?xml version=\"1.0\" encoding=\"UTF-8\" standalone=\"no\"?><svg xmlns=\"http://www.w3.org/2000/svg\" xmlns:xlink=\"http://www.w3.org/1999/xlink\" contentScriptType=\"application/ecmascript\" contentStyleType=\"text/css\" height=\"339px\" preserveAspectRatio=\"none\" style=\"width:1059px;height:339px;\" version=\"1.1\" viewBox=\"0 0 1059 339\" width=\"1059px\" zoomAndPan=\"magnify\"><defs><filter height=\"300%\" id=\"f16axblzl4151h\" width=\"300%\" x=\"-1\" y=\"-1\"><feGaussianBlur result=\"blurOut\" stdDeviation=\"2.0\"/><feColorMatrix in=\"blurOut\" result=\"blurOut2\" type=\"matrix\" values=\"0 0 0 0 0 0 0 0 0 0 0 0 0 0 0 0 0 0 .4 0\"/><feOffset dx=\"4.0\" dy=\"4.0\" in=\"blurOut2\" result=\"blurOut3\"/><feBlend in=\"SourceGraphic\" in2=\"blurOut3\" mode=\"normal\"/></filter></defs><g><!--MD5=[fbc87193dbaf4d95561dea2c320d4a47]\n",
       "cluster E1--><a href=\"psysml:ee7e22b2-7ed6-4f2c-8628-ec59eb221ec4\" target=\"_top\" title=\"psysml:ee7e22b2-7ed6-4f2c-8628-ec59eb221ec4\" xlink:actuate=\"onRequest\" xlink:href=\"psysml:ee7e22b2-7ed6-4f2c-8628-ec59eb221ec4\" xlink:show=\"new\" xlink:title=\"psysml:ee7e22b2-7ed6-4f2c-8628-ec59eb221ec4\" xlink:type=\"simple\"><polygon fill=\"#FFFFFF\" filter=\"url(#f16axblzl4151h)\" points=\"16,6,132,6,139,28.2969,1037,28.2969,1037,327,16,327,16,6\" style=\"stroke: #000000; stroke-width: 1.5;\"/><line style=\"stroke: #000000; stroke-width: 1.5;\" x1=\"16\" x2=\"139\" y1=\"28.2969\" y2=\"28.2969\"/><text fill=\"#000000\" font-family=\"sans-serif\" font-size=\"14\" font-weight=\"bold\" lengthAdjust=\"spacingAndGlyphs\" textLength=\"110\" x=\"20\" y=\"20.9951\">TradeStudyTest</text></a><!--MD5=[b4997ac47864f28c2f74865a473b2911]\n",
       "class E2--><a href=\"psysml:6dc2e48d-4c08-4400-bc60-82a531af2780\" target=\"_top\" title=\"psysml:6dc2e48d-4c08-4400-bc60-82a531af2780\" xlink:actuate=\"onRequest\" xlink:href=\"psysml:6dc2e48d-4c08-4400-bc60-82a531af2780\" xlink:show=\"new\" xlink:title=\"psysml:6dc2e48d-4c08-4400-bc60-82a531af2780\" xlink:type=\"simple\"><rect fill=\"#FEFECE\" filter=\"url(#f16axblzl4151h)\" height=\"40\" id=\"E2\" style=\"stroke: #A80036; stroke-width: 1.5;\" width=\"75\" x=\"645.5\" y=\"271\"/><ellipse cx=\"660.5\" cy=\"287\" fill=\"#008000\" rx=\"11\" ry=\"11\" style=\"stroke: #A80036; stroke-width: 1.0;\"/><path d=\"M657.375,292 L657.375,281.4063 L660.6094,281.4063 Q662.5156,281.4063 663.4219,282.1563 Q664.3438,282.9063 664.3438,284.0781 Q664.3438,284.7656 663.9531,285.4219 Q663.5781,286.0781 662.8594,286.375 Q663.7188,286.75 664.2344,287.4375 Q664.75,288.125 664.75,288.9375 Q664.75,290.3125 663.7188,291.1563 Q662.7031,292 660.5938,292 L657.375,292 Z M659.2969,285.6406 L660.4531,285.6406 Q661.5781,285.6406 661.9844,285.2656 Q662.4063,284.875 662.4063,284.25 Q662.4063,283.6719 661.9844,283.3125 Q661.5625,282.9531 660.625,282.9531 L659.2969,282.9531 L659.2969,285.6406 Z M659.2969,290.4219 L660.7969,290.4219 Q661.7031,290.4219 662.2344,290.0313 Q662.7656,289.6406 662.7656,288.8906 Q662.7656,288.125 662.2656,287.6563 Q661.7656,287.1719 660.5,287.1719 L659.2969,287.1719 L659.2969,290.4219 Z \"/><text fill=\"#000000\" font-family=\"sans-serif\" font-size=\"12\" lengthAdjust=\"spacingAndGlyphs\" textLength=\"43\" x=\"674.5\" y=\"291.1543\">Engine</text><line style=\"stroke: #A80036; stroke-width: 1.5;\" x1=\"646.5\" x2=\"719.5\" y1=\"303\" y2=\"303\"/></a><!--MD5=[09b614a08d8cba4a07c9adeb5e0fee81]\n",
       "class E3--><a href=\"psysml:3defd9be-3b5d-4c6d-8f79-df776db84250\" target=\"_top\" title=\"psysml:3defd9be-3b5d-4c6d-8f79-df776db84250\" xlink:actuate=\"onRequest\" xlink:href=\"psysml:3defd9be-3b5d-4c6d-8f79-df776db84250\" xlink:show=\"new\" xlink:title=\"psysml:3defd9be-3b5d-4c6d-8f79-df776db84250\" xlink:type=\"simple\"><rect fill=\"#FEFECE\" filter=\"url(#f16axblzl4151h)\" height=\"45.9375\" id=\"E3\" rx=\"10\" ry=\"10\" style=\"stroke: #A80036; stroke-width: 1.5;\" width=\"134\" x=\"887\" y=\"164\"/><ellipse cx=\"902\" cy=\"182.9688\" fill=\"#32CD32\" rx=\"11\" ry=\"11\" style=\"stroke: #A80036; stroke-width: 1.0;\"/><path d=\"M898.8125,187.9688 L898.8125,177.375 L902.4219,177.375 Q903.6406,177.375 904.4375,177.8125 Q905.2344,178.2344 905.6094,178.9375 Q906,179.6406 906,180.4844 Q906,181.3281 905.625,182.0156 Q905.2656,182.7031 904.4688,183.125 Q903.6875,183.5313 902.5,183.5313 L900.7656,183.5313 L900.7656,187.9688 L898.8125,187.9688 Z M900.7656,181.9375 L902.375,181.9375 Q903.1875,181.9375 903.6094,181.5313 Q904.0313,181.125 904.0313,180.4844 Q904.0313,179.8594 903.6094,179.4531 Q903.1875,179.0469 902.3906,179.0469 L900.7656,179.0469 L900.7656,181.9375 Z \"/><text fill=\"#000000\" font-family=\"sans-serif\" font-size=\"12\" font-style=\"italic\" lengthAdjust=\"spacingAndGlyphs\" textLength=\"40\" x=\"947\" y=\"180.1387\">«part»</text><text fill=\"#000000\" font-family=\"sans-serif\" font-size=\"12\" lengthAdjust=\"spacingAndGlyphs\" textLength=\"102\" x=\"916\" y=\"194.1074\">engine1: Engine</text><line style=\"stroke: #A80036; stroke-width: 1.5;\" x1=\"888\" x2=\"1020\" y1=\"201.9375\" y2=\"201.9375\"/></a><!--MD5=[ebbe1d658d1005bcc118a6aa81145e00]\n",
       "class E4--><a href=\"psysml:3a9a647b-2fd2-49b6-8a5f-7ce1649088e0\" target=\"_top\" title=\"psysml:3a9a647b-2fd2-49b6-8a5f-7ce1649088e0\" xlink:actuate=\"onRequest\" xlink:href=\"psysml:3a9a647b-2fd2-49b6-8a5f-7ce1649088e0\" xlink:show=\"new\" xlink:title=\"psysml:3a9a647b-2fd2-49b6-8a5f-7ce1649088e0\" xlink:type=\"simple\"><rect fill=\"#FEFECE\" filter=\"url(#f16axblzl4151h)\" height=\"45.9375\" id=\"E4\" rx=\"10\" ry=\"10\" style=\"stroke: #A80036; stroke-width: 1.5;\" width=\"134\" x=\"718\" y=\"164\"/><ellipse cx=\"733\" cy=\"182.9688\" fill=\"#32CD32\" rx=\"11\" ry=\"11\" style=\"stroke: #A80036; stroke-width: 1.0;\"/><path d=\"M729.8125,187.9688 L729.8125,177.375 L733.4219,177.375 Q734.6406,177.375 735.4375,177.8125 Q736.2344,178.2344 736.6094,178.9375 Q737,179.6406 737,180.4844 Q737,181.3281 736.625,182.0156 Q736.2656,182.7031 735.4688,183.125 Q734.6875,183.5313 733.5,183.5313 L731.7656,183.5313 L731.7656,187.9688 L729.8125,187.9688 Z M731.7656,181.9375 L733.375,181.9375 Q734.1875,181.9375 734.6094,181.5313 Q735.0313,181.125 735.0313,180.4844 Q735.0313,179.8594 734.6094,179.4531 Q734.1875,179.0469 733.3906,179.0469 L731.7656,179.0469 L731.7656,181.9375 Z \"/><text fill=\"#000000\" font-family=\"sans-serif\" font-size=\"12\" font-style=\"italic\" lengthAdjust=\"spacingAndGlyphs\" textLength=\"40\" x=\"778\" y=\"180.1387\">«part»</text><text fill=\"#000000\" font-family=\"sans-serif\" font-size=\"12\" lengthAdjust=\"spacingAndGlyphs\" textLength=\"102\" x=\"747\" y=\"194.1074\">engine2: Engine</text><line style=\"stroke: #A80036; stroke-width: 1.5;\" x1=\"719\" x2=\"851\" y1=\"201.9375\" y2=\"201.9375\"/></a><!--MD5=[270fce915f116d4de14055a7c1d9a0f3]\n",
       "class E5--><a href=\"psysml:4b9a9840-0888-40ad-997b-4be591991c45\" target=\"_top\" title=\"psysml:4b9a9840-0888-40ad-997b-4be591991c45\" xlink:actuate=\"onRequest\" xlink:href=\"psysml:4b9a9840-0888-40ad-997b-4be591991c45\" xlink:show=\"new\" xlink:title=\"psysml:4b9a9840-0888-40ad-997b-4be591991c45\" xlink:type=\"simple\"><rect fill=\"#FEFECE\" filter=\"url(#f16axblzl4151h)\" height=\"45.9375\" id=\"E5\" rx=\"10\" ry=\"10\" style=\"stroke: #A80036; stroke-width: 1.5;\" width=\"225\" x=\"192.5\" y=\"41\"/><ellipse cx=\"207.5\" cy=\"59.9688\" fill=\"#B6DBBB\" rx=\"11\" ry=\"11\" style=\"stroke: #A80036; stroke-width: 1.0;\"/><path d=\"M207.25,65.4375 Q205.5,65.4375 204.5469,64.4063 Q203.6094,63.3594 203.6094,61.5156 L203.6094,54.625 L205.6719,54.625 L205.6719,54.7813 Q205.5781,54.875 205.5469,55.0156 Q205.5313,55.1406 205.5313,55.4063 L205.5313,61.5313 Q205.5313,62.625 205.9063,63.25 Q206.2813,63.875 207.2656,63.875 Q208.25,63.875 208.6406,63.25 Q209.0313,62.625 209.0313,61.4844 L209.0313,54.625 L210.9063,54.625 L210.9063,61.4688 Q210.9063,63.5 209.875,64.4688 Q208.8594,65.4375 207.25,65.4375 Z \"/><text fill=\"#000000\" font-family=\"sans-serif\" font-size=\"12\" font-style=\"italic\" lengthAdjust=\"spacingAndGlyphs\" textLength=\"64\" x=\"286\" y=\"57.1387\">«analysis»</text><text fill=\"#000000\" font-family=\"sans-serif\" font-size=\"12\" lengthAdjust=\"spacingAndGlyphs\" textLength=\"193\" x=\"221.5\" y=\"71.1074\">engineTradeStudy: TradeStudy</text><line style=\"stroke: #A80036; stroke-width: 1.5;\" x1=\"193.5\" x2=\"416.5\" y1=\"78.9375\" y2=\"78.9375\"/></a><!--MD5=[60a26617385b1d2d0262a64233df1f8d]\n",
       "class E6--><a href=\"psysml:6d56d509-a272-42e3-905c-0e1bbd246da0\" target=\"_top\" title=\"psysml:6d56d509-a272-42e3-905c-0e1bbd246da0\" xlink:actuate=\"onRequest\" xlink:href=\"psysml:6d56d509-a272-42e3-905c-0e1bbd246da0\" xlink:show=\"new\" xlink:title=\"psysml:6d56d509-a272-42e3-905c-0e1bbd246da0\" xlink:type=\"simple\"><rect fill=\"#FEFECE\" filter=\"url(#f16axblzl4151h)\" height=\"45.9375\" id=\"E6\" rx=\"10\" ry=\"10\" style=\"stroke: #A80036; stroke-width: 1.5;\" width=\"277\" x=\"166.5\" y=\"164\"/><ellipse cx=\"181.5\" cy=\"182.9688\" fill=\"#FFA500\" rx=\"11\" ry=\"11\" style=\"stroke: #A80036; stroke-width: 1.0;\"/><path d=\"M181.25,188.4375 Q179.5,188.4375 178.5469,187.4063 Q177.6094,186.3594 177.6094,184.5156 L177.6094,177.625 L179.6719,177.625 L179.6719,177.7813 Q179.5781,177.875 179.5469,178.0156 Q179.5313,178.1406 179.5313,178.4063 L179.5313,184.5313 Q179.5313,185.625 179.9063,186.25 Q180.2813,186.875 181.2656,186.875 Q182.25,186.875 182.6406,186.25 Q183.0313,185.625 183.0313,184.4844 L183.0313,177.625 L184.9063,177.625 L184.9063,184.4688 Q184.9063,186.5 183.875,187.4688 Q182.8594,188.4375 181.25,188.4375 Z \"/><text fill=\"#000000\" font-family=\"sans-serif\" font-size=\"12\" font-style=\"italic\" lengthAdjust=\"spacingAndGlyphs\" textLength=\"91\" x=\"272.5\" y=\"180.1387\">«requirement»</text><text fill=\"#000000\" font-family=\"sans-serif\" font-size=\"12\" lengthAdjust=\"spacingAndGlyphs\" textLength=\"245\" x=\"195.5\" y=\"194.1074\">tradeStudyObjective: MaximizeObjective</text><line style=\"stroke: #A80036; stroke-width: 1.5;\" x1=\"167.5\" x2=\"442.5\" y1=\"201.9375\" y2=\"201.9375\"/></a><!--MD5=[2156ba9850f5573cc1fc38a6a4b2f02b]\n",
       "class E7--><a href=\"psysml:d0667918-a428-4729-9680-50da29281cd4\" target=\"_top\" title=\"psysml:d0667918-a428-4729-9680-50da29281cd4\" xlink:actuate=\"onRequest\" xlink:href=\"psysml:d0667918-a428-4729-9680-50da29281cd4\" xlink:show=\"new\" xlink:title=\"psysml:d0667918-a428-4729-9680-50da29281cd4\" xlink:type=\"simple\"><rect fill=\"#FEFECE\" filter=\"url(#f16axblzl4151h)\" height=\"45.9375\" id=\"E7\" rx=\"10\" ry=\"10\" style=\"stroke: #A80036; stroke-width: 1.5;\" width=\"204\" x=\"479\" y=\"164\"/><ellipse cx=\"494\" cy=\"182.9688\" fill=\"#32CD32\" rx=\"11\" ry=\"11\" style=\"stroke: #A80036; stroke-width: 1.0;\"/><path d=\"M490.8125,187.9688 L490.8125,177.375 L494.4219,177.375 Q495.6406,177.375 496.4375,177.8125 Q497.2344,178.2344 497.6094,178.9375 Q498,179.6406 498,180.4844 Q498,181.3281 497.625,182.0156 Q497.2656,182.7031 496.4688,183.125 Q495.6875,183.5313 494.5,183.5313 L492.7656,183.5313 L492.7656,187.9688 L490.8125,187.9688 Z M492.7656,181.9375 L494.375,181.9375 Q495.1875,181.9375 495.6094,181.5313 Q496.0313,181.125 496.0313,180.4844 Q496.0313,179.8594 495.6094,179.4531 Q495.1875,179.0469 494.3906,179.0469 L492.7656,179.0469 L492.7656,181.9375 Z \"/><text fill=\"#000000\" font-family=\"sans-serif\" font-size=\"12\" font-style=\"italic\" lengthAdjust=\"spacingAndGlyphs\" textLength=\"40\" x=\"574\" y=\"180.1387\">«part»</text><text fill=\"#000000\" font-family=\"sans-serif\" font-size=\"12\" lengthAdjust=\"spacingAndGlyphs\" textLength=\"172\" x=\"508\" y=\"194.1074\">selectedAlternative: Engine</text><line style=\"stroke: #A80036; stroke-width: 1.5;\" x1=\"480\" x2=\"682\" y1=\"201.9375\" y2=\"201.9375\"/></a><!--MD5=[05d275557350bfb9b23a4ef7222b4c39]\n",
       "link E3 to E2--><a href=\"psysml:2c927883-7b33-4f30-b07f-44dca6adebf7\" target=\"_top\" title=\"psysml:2c927883-7b33-4f30-b07f-44dca6adebf7\" xlink:actuate=\"onRequest\" xlink:href=\"psysml:2c927883-7b33-4f30-b07f-44dca6adebf7\" xlink:show=\"new\" xlink:title=\"psysml:2c927883-7b33-4f30-b07f-44dca6adebf7\" xlink:type=\"simple\"><path d=\"M895.53,210.01 C849.31,227.4 785.19,251.54 739.49,268.74 \" fill=\"none\" id=\"E3-&gt;E2\" style=\"stroke: #A80036; stroke-width: 1.0;\"/><polygon fill=\"#FFFFFF\" points=\"720.53,275.87,735.8469,262.6264,740.778,275.7293,720.53,275.87\" style=\"stroke: #A80036; stroke-width: 1.0;\"/><ellipse cx=\"741.8861\" cy=\"262.4906\" fill=\"#A80036\" rx=\"2\" ry=\"2\" style=\"stroke: #A80036; stroke-width: 1.0;\"/><ellipse cx=\"745.4083\" cy=\"271.8498\" fill=\"#A80036\" rx=\"2\" ry=\"2\" style=\"stroke: #A80036; stroke-width: 1.0;\"/></a><!--MD5=[185131fc0dcab0a4505a2ebe144e961b]\n",
       "link E4 to E2--><a href=\"psysml:59e46c20-b41c-4b83-8c8c-eff5ad41f1d7\" target=\"_top\" title=\"psysml:59e46c20-b41c-4b83-8c8c-eff5ad41f1d7\" xlink:actuate=\"onRequest\" xlink:href=\"psysml:59e46c20-b41c-4b83-8c8c-eff5ad41f1d7\" xlink:show=\"new\" xlink:title=\"psysml:59e46c20-b41c-4b83-8c8c-eff5ad41f1d7\" xlink:type=\"simple\"><path d=\"M762.87,210.13 C749.24,223.76 731.53,241.47 716.24,256.76 \" fill=\"none\" id=\"E4-&gt;E2\" style=\"stroke: #A80036; stroke-width: 1.0;\"/><polygon fill=\"#FFFFFF\" points=\"702,271,710.4853,252.6152,720.3848,262.5147,702,271\" style=\"stroke: #A80036; stroke-width: 1.0;\"/><ellipse cx=\"715.93\" cy=\"249.9989\" fill=\"#A80036\" rx=\"2\" ry=\"2\" style=\"stroke: #A80036; stroke-width: 1.0;\"/><ellipse cx=\"723.0011\" cy=\"257.07\" fill=\"#A80036\" rx=\"2\" ry=\"2\" style=\"stroke: #A80036; stroke-width: 1.0;\"/></a><!--MD5=[15ebcb19ae302d9b601edb458606d402]\n",
       "link E5 to E2--><a href=\"psysml:d5cbdaa6-c586-4ab8-b2f7-038eda38592d\" target=\"_top\" title=\"psysml:d5cbdaa6-c586-4ab8-b2f7-038eda38592d\" xlink:actuate=\"onRequest\" xlink:href=\"psysml:d5cbdaa6-c586-4ab8-b2f7-038eda38592d\" xlink:show=\"new\" xlink:title=\"psysml:d5cbdaa6-c586-4ab8-b2f7-038eda38592d\" xlink:type=\"simple\"><path d=\"M216.93,87.07 C136.33,111.38 36.42,154.49 85,210 C121.61,251.84 508.79,279.3 639.89,287.46 \" fill=\"none\" id=\"E5-&gt;E2\" style=\"stroke: #A80036; stroke-width: 1.0; stroke-dasharray: 7.0,7.0;\"/><polygon fill=\"#A80036\" points=\"645.19,287.79,636.4587,283.2333,640.1998,287.4763,635.9568,291.2175,645.19,287.79\" style=\"stroke: #A80036; stroke-width: 1.0;\"/><text fill=\"#000000\" font-family=\"sans-serif\" font-size=\"13\" lengthAdjust=\"spacingAndGlyphs\" textLength=\"62\" x=\"86\" y=\"191.5669\">«subject»</text></a><!--MD5=[9120cf2e5df3bff93db8f754bbbc09b4]\n",
       "link E5 to E6--><a href=\"psysml:14d02f99-86ef-419d-b64f-b983855c21b7\" target=\"_top\" title=\"psysml:14d02f99-86ef-419d-b64f-b983855c21b7\" xlink:actuate=\"onRequest\" xlink:href=\"psysml:14d02f99-86ef-419d-b64f-b983855c21b7\" xlink:show=\"new\" xlink:title=\"psysml:14d02f99-86ef-419d-b64f-b983855c21b7\" xlink:type=\"simple\"><path d=\"M305,87.19 C305,106.47 305,134.55 305,155.86 \" fill=\"none\" id=\"E5-&gt;E6\" style=\"stroke: #A80036; stroke-width: 1.0;\"/><polygon fill=\"#A80036\" points=\"305,163.95,308,155.95,302,155.95,305,163.95\" style=\"stroke: #A80036; stroke-width: 1.0;\"/><text fill=\"#000000\" font-family=\"sans-serif\" font-size=\"13\" lengthAdjust=\"spacingAndGlyphs\" textLength=\"73\" x=\"306\" y=\"130.0669\">«objective»</text></a><!--MD5=[452b418e7f8a40397a49b8c0a78acc5b]\n",
       "reverse link E5 to E7--><a href=\"psysml:44393528-ee32-422a-b73c-7e5d578e1b67\" target=\"_top\" title=\"psysml:44393528-ee32-422a-b73c-7e5d578e1b67\" xlink:actuate=\"onRequest\" xlink:href=\"psysml:44393528-ee32-422a-b73c-7e5d578e1b67\" xlink:show=\"new\" xlink:title=\"psysml:44393528-ee32-422a-b73c-7e5d578e1b67\" xlink:type=\"simple\"><path d=\"M367.41,92.36 C416.73,113.98 484.67,143.77 530.58,163.89 \" fill=\"none\" id=\"E5&lt;-E7\" style=\"stroke: #A80036; stroke-width: 1.0;\"/><polygon fill=\"#FFFFFF\" points=\"355.3,87.05,359.1902,93.1217,366.2912,91.8661,362.4009,85.7943,355.3,87.05\" style=\"stroke: #A80036; stroke-width: 1.0;\"/><text fill=\"#000000\" font-family=\"sans-serif\" font-size=\"13\" lengthAdjust=\"spacingAndGlyphs\" textLength=\"8\" x=\"507.9546\" y=\"152.7567\">1</text></a><!--MD5=[583832df87f4419a098336a29a52fa00]\n",
       "link E7 to E2--><a href=\"psysml:fe7d5224-67e7-4f42-a679-f87e330c9f80\" target=\"_top\" title=\"psysml:fe7d5224-67e7-4f42-a679-f87e330c9f80\" xlink:actuate=\"onRequest\" xlink:href=\"psysml:fe7d5224-67e7-4f42-a679-f87e330c9f80\" xlink:show=\"new\" xlink:title=\"psysml:fe7d5224-67e7-4f42-a679-f87e330c9f80\" xlink:type=\"simple\"><path d=\"M603.13,210.13 C616.76,223.76 634.47,241.47 649.76,256.76 \" fill=\"none\" id=\"E7-&gt;E2\" style=\"stroke: #A80036; stroke-width: 1.0;\"/><polygon fill=\"#FFFFFF\" points=\"664,271,645.6152,262.5147,655.5147,252.6152,664,271\" style=\"stroke: #A80036; stroke-width: 1.0;\"/><ellipse cx=\"642.9989\" cy=\"257.07\" fill=\"#A80036\" rx=\"2\" ry=\"2\" style=\"stroke: #A80036; stroke-width: 1.0;\"/><ellipse cx=\"650.07\" cy=\"249.9989\" fill=\"#A80036\" rx=\"2\" ry=\"2\" style=\"stroke: #A80036; stroke-width: 1.0;\"/></a><!--MD5=[098b590f8b402ed25726c6867571181e]\n",
       "@startuml\r\n",
       " \r\n",
       "package \"TradeStudyTest\" as E1  [[psysml:ee7e22b2-7ed6-4f2c-8628-ec59eb221ec4 ]]  {\r\n",
       "comp def \"Engine\" as E2 << << (B,green) >> [[psysml:6dc2e48d-4c08-4400-bc60-82a531af2780 ]] {\r\n",
       "}\r\n",
       "comp usage \"engine1: Engine\" as E3 << << (P,limegreen) part>> [[psysml:3defd9be-3b5d-4c6d-8f79-df776db84250 ]] {\r\n",
       "}\r\n",
       "comp usage \"engine2: Engine\" as E4 << << (P,limegreen) part>> [[psysml:3a9a647b-2fd2-49b6-8a5f-7ce1649088e0 ]] {\r\n",
       "}\r\n",
       "comp usage \"engineTradeStudy: TradeStudy\" as E5 << analysis>> [[psysml:4b9a9840-0888-40ad-997b-4be591991c45 ]] {\r\n",
       "}\r\n",
       "comp usage \"tradeStudyObjective: MaximizeObjective\" as E6 << <<(U,orange) requirement>> [[psysml:6d56d509-a272-42e3-905c-0e1bbd246da0 ]] {\r\n",
       "}\r\n",
       "comp usage \"selectedAlternative: Engine\" as E7 << << (P,limegreen) part>> [[psysml:d0667918-a428-4729-9680-50da29281cd4 ]] {\r\n",
       "}\r\n",
       "}\r\n",
       "E3 - -:|> E2 [[psysml:2c927883-7b33-4f30-b07f-44dca6adebf7 ]] \r\n",
       "E4 - -:|> E2 [[psysml:59e46c20-b41c-4b83-8c8c-eff5ad41f1d7 ]] \r\n",
       "E5 ..> E2 [[psysml:d5cbdaa6-c586-4ab8-b2f7-038eda38592d ]] : <<subject>>\r\n",
       "E5 - ->> E6 [[psysml:14d02f99-86ef-419d-b64f-b983855c21b7 ]] : <<objective>>\r\n",
       "E5 o- - \"1\"E7 [[psysml:44393528-ee32-422a-b73c-7e5d578e1b67 ]] \r\n",
       "E7 - -:|> E2 [[psysml:fe7d5224-67e7-4f42-a679-f87e330c9f80 ]] \r\n",
       "@enduml\r\n",
       "\n",
       "PlantUML version 1.2020.13(Sat Jun 13 12:26:38 UTC 2020)\n",
       "(EPL source distribution)\n",
       "Java Runtime: OpenJDK Runtime Environment\n",
       "JVM: OpenJDK 64-Bit Server VM\n",
       "Default Encoding: UTF-8\n",
       "Language: en\n",
       "Country: null\n",
       "--></g></svg>"
      ]
     },
     "execution_count": 31,
     "metadata": {},
     "output_type": "execute_result"
    }
   ],
   "source": [
    "%viz --style=\"PLANTUML\" --view=\"Tree\" \"TradeStudyTest\""
   ]
  },
  {
   "cell_type": "code",
   "execution_count": 32,
   "id": "c99328f5",
   "metadata": {
    "execution": {
     "iopub.execute_input": "2021-10-03T08:30:38.321099Z",
     "iopub.status.busy": "2021-10-03T08:30:38.320707Z",
     "iopub.status.idle": "2021-10-03T08:30:38.435115Z",
     "shell.execute_reply": "2021-10-03T08:30:38.432972Z"
    }
   },
   "outputs": [
    {
     "data": {
      "image/svg+xml": [
       "<?xml version=\"1.0\" encoding=\"UTF-8\" standalone=\"no\"?><svg xmlns=\"http://www.w3.org/2000/svg\" xmlns:xlink=\"http://www.w3.org/1999/xlink\" contentScriptType=\"application/ecmascript\" contentStyleType=\"text/css\" height=\"365px\" preserveAspectRatio=\"none\" style=\"width:603px;height:365px;background:#000000;\" version=\"1.1\" viewBox=\"0 0 603 365\" width=\"603px\" zoomAndPan=\"magnify\"><defs/><g><rect fill=\"#182304\" height=\"1\" style=\"stroke: #182304; stroke-width: 1.0;\" width=\"1\" x=\"0\" y=\"0\"/><rect fill=\"#EAE2C9\" height=\"65.1875\" style=\"stroke: #EAE2C9; stroke-width: 1.0;\" width=\"602\" x=\"0\" y=\"0\"/><text fill=\"#000000\" font-family=\"sans-serif\" font-size=\"14\" font-weight=\"bold\" lengthAdjust=\"spacingAndGlyphs\" textLength=\"267\" x=\"10\" y=\"12.9951\">Add your own dedication into PlantUML</text><text fill=\"#000000\" font-family=\"sans-serif\" font-size=\"14\" lengthAdjust=\"spacingAndGlyphs\" textLength=\"0\" x=\"14\" y=\"29.292\"/><text fill=\"#000000\" font-family=\"sans-serif\" font-size=\"14\" lengthAdjust=\"spacingAndGlyphs\" textLength=\"154\" x=\"10\" y=\"45.5889\">For just $5 per month!</text><text fill=\"#000000\" font-family=\"sans-serif\" font-size=\"14\" lengthAdjust=\"spacingAndGlyphs\" textLength=\"69\" x=\"10\" y=\"61.8857\">Details on</text><a href=\"http://plantuml.com/dedication\" target=\"_top\" title=\"http://plantuml.com/dedication\" xlink:actuate=\"onRequest\" xlink:href=\"http://plantuml.com/dedication\" xlink:show=\"new\" xlink:title=\"http://plantuml.com/dedication\" xlink:type=\"simple\"><text fill=\"#000000\" font-family=\"sans-serif\" font-size=\"14\" font-style=\"italic\" lengthAdjust=\"spacingAndGlyphs\" textLength=\"213\" x=\"83\" y=\"61.8857\">http://plantuml.com/dedication</text></a><rect fill=\"#FFFFFF\" height=\"202.8012\" style=\"stroke: #FFFFFF; stroke-width: 1.0;\" width=\"602\" x=\"0\" y=\"65.1875\"/><text fill=\"#000000\" font-family=\"sans-serif\" font-size=\"12\" font-weight=\"bold\" lengthAdjust=\"spacingAndGlyphs\" textLength=\"139\" x=\"5\" y=\"81.3262\">Welcome to PlantUML!</text><text fill=\"#000000\" font-family=\"sans-serif\" font-size=\"12\" lengthAdjust=\"spacingAndGlyphs\" textLength=\"0\" x=\"9\" y=\"95.2949\"/><text fill=\"#000000\" font-family=\"sans-serif\" font-size=\"12\" lengthAdjust=\"spacingAndGlyphs\" textLength=\"293\" x=\"5\" y=\"109.2637\">If you use this software, you accept its license.</text><text fill=\"#000000\" font-family=\"sans-serif\" font-size=\"12\" lengthAdjust=\"spacingAndGlyphs\" textLength=\"107\" x=\"5\" y=\"123.2324\">(details by typing</text><text fill=\"#000000\" font-family=\"monospace\" font-size=\"12\" lengthAdjust=\"spacingAndGlyphs\" textLength=\"42\" x=\"116\" y=\"123.7825\">license</text><text fill=\"#000000\" font-family=\"sans-serif\" font-size=\"12\" lengthAdjust=\"spacingAndGlyphs\" textLength=\"56\" x=\"162\" y=\"123.2324\">keyword)</text><text fill=\"#000000\" font-family=\"sans-serif\" font-size=\"12\" lengthAdjust=\"spacingAndGlyphs\" textLength=\"0\" x=\"9\" y=\"137.2012\"/><text fill=\"#000000\" font-family=\"sans-serif\" font-size=\"12\" lengthAdjust=\"spacingAndGlyphs\" textLength=\"283\" x=\"5\" y=\"151.1699\">You can start with a simple UML Diagram like:</text><text fill=\"#000000\" font-family=\"sans-serif\" font-size=\"12\" lengthAdjust=\"spacingAndGlyphs\" textLength=\"0\" x=\"9\" y=\"165.1387\"/><text fill=\"#000000\" font-family=\"monospace\" font-size=\"12\" lengthAdjust=\"spacingAndGlyphs\" textLength=\"102\" x=\"5\" y=\"178.2768\">Bob-&gt;Alice: Hello</text><text fill=\"#000000\" font-family=\"sans-serif\" font-size=\"12\" lengthAdjust=\"spacingAndGlyphs\" textLength=\"0\" x=\"9\" y=\"191.6955\"/><text fill=\"#000000\" font-family=\"sans-serif\" font-size=\"12\" lengthAdjust=\"spacingAndGlyphs\" textLength=\"14\" x=\"5\" y=\"205.6643\">Or</text><text fill=\"#000000\" font-family=\"sans-serif\" font-size=\"12\" lengthAdjust=\"spacingAndGlyphs\" textLength=\"0\" x=\"9\" y=\"219.633\"/><text fill=\"#000000\" font-family=\"monospace\" font-size=\"12\" lengthAdjust=\"spacingAndGlyphs\" textLength=\"78\" x=\"5\" y=\"232.7712\">class Example</text><text fill=\"#000000\" font-family=\"sans-serif\" font-size=\"12\" lengthAdjust=\"spacingAndGlyphs\" textLength=\"0\" x=\"9\" y=\"246.1898\"/><text fill=\"#000000\" font-family=\"sans-serif\" font-size=\"12\" lengthAdjust=\"spacingAndGlyphs\" textLength=\"349\" x=\"5\" y=\"260.1586\">You will find more information about PlantUML syntax on</text><text fill=\"#000000\" font-family=\"sans-serif\" font-size=\"12\" lengthAdjust=\"spacingAndGlyphs\" text-decoration=\"underline\" textLength=\"129\" x=\"358\" y=\"260.1586\">https://plantuml.com</text><image height=\"71\" width=\"80\" x=\"516\" xlink:href=\"data:image/png;base64,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\" y=\"71.1875\"/><rect fill=\"#000000\" height=\"96.4844\" style=\"stroke: #000000; stroke-width: 1.0;\" width=\"602\" x=\"0\" y=\"267.9887\"/><rect fill=\"#33FF02\" height=\"21.2969\" style=\"stroke: #33FF02; stroke-width: 1.0;\" width=\"145\" x=\"5\" y=\"272.9887\"/><text fill=\"#000000\" font-family=\"sans-serif\" font-size=\"14\" font-weight=\"bold\" lengthAdjust=\"spacingAndGlyphs\" textLength=\"143\" x=\"6\" y=\"287.9887\">[From string (line 2) ]</text><text fill=\"#33FF02\" font-family=\"sans-serif\" font-size=\"14\" font-weight=\"bold\" lengthAdjust=\"spacingAndGlyphs\" textLength=\"0\" x=\"9\" y=\"308.2856\"/><text fill=\"#33FF02\" font-family=\"sans-serif\" font-size=\"14\" font-weight=\"bold\" lengthAdjust=\"spacingAndGlyphs\" textLength=\"70\" x=\"5\" y=\"324.5824\">@startuml</text><text fill=\"#33FF02\" font-family=\"sans-serif\" font-size=\"14\" font-weight=\"bold\" lengthAdjust=\"spacingAndGlyphs\" textLength=\"0\" x=\"9\" y=\"340.8793\"/><text fill=\"#FF0000\" font-family=\"sans-serif\" font-size=\"14\" font-weight=\"bold\" lengthAdjust=\"spacingAndGlyphs\" textLength=\"124\" x=\"9\" y=\"357.1762\">Empty description</text><!--MD5=[f59edd8218d337f74d0c332fc6737304]\n",
       "@startuml\r\n",
       " \r\n",
       "@enduml\r\n",
       "\n",
       "PlantUML version 1.2020.13(Sat Jun 13 12:26:38 UTC 2020)\n",
       "(EPL source distribution)\n",
       "Java Runtime: OpenJDK Runtime Environment\n",
       "JVM: OpenJDK 64-Bit Server VM\n",
       "Default Encoding: UTF-8\n",
       "Language: en\n",
       "Country: null\n",
       "--></g></svg>"
      ]
     },
     "execution_count": 32,
     "metadata": {},
     "output_type": "execute_result"
    }
   ],
   "source": [
    "%viz --style=\"PLANTUML\" --view=\"State\" \"TradeStudyTest\""
   ]
  },
  {
   "cell_type": "code",
   "execution_count": 33,
   "id": "f8671826",
   "metadata": {
    "execution": {
     "iopub.execute_input": "2021-10-03T08:30:38.483606Z",
     "iopub.status.busy": "2021-10-03T08:30:38.483195Z",
     "iopub.status.idle": "2021-10-03T08:30:38.513022Z",
     "shell.execute_reply": "2021-10-03T08:30:38.512671Z"
    }
   },
   "outputs": [
    {
     "data": {
      "image/svg+xml": [
       "<?xml version=\"1.0\" encoding=\"UTF-8\" standalone=\"no\"?><svg xmlns=\"http://www.w3.org/2000/svg\" xmlns:xlink=\"http://www.w3.org/1999/xlink\" contentScriptType=\"application/ecmascript\" contentStyleType=\"text/css\" height=\"347px\" preserveAspectRatio=\"none\" style=\"width:644px;height:347px;\" version=\"1.1\" viewBox=\"0 0 644 347\" width=\"644px\" zoomAndPan=\"magnify\"><defs><filter height=\"300%\" id=\"f18ng4fradp5dn\" width=\"300%\" x=\"-1\" y=\"-1\"><feGaussianBlur result=\"blurOut\" stdDeviation=\"2.0\"/><feColorMatrix in=\"blurOut\" result=\"blurOut2\" type=\"matrix\" values=\"0 0 0 0 0 0 0 0 0 0 0 0 0 0 0 0 0 0 .4 0\"/><feOffset dx=\"4.0\" dy=\"4.0\" in=\"blurOut2\" result=\"blurOut3\"/><feBlend in=\"SourceGraphic\" in2=\"blurOut3\" mode=\"normal\"/></filter></defs><g><!--MD5=[fbc87193dbaf4d95561dea2c320d4a47]\n",
       "cluster E1--><a href=\"psysml:ee7e22b2-7ed6-4f2c-8628-ec59eb221ec4\" target=\"_top\" title=\"psysml:ee7e22b2-7ed6-4f2c-8628-ec59eb221ec4\" xlink:actuate=\"onRequest\" xlink:href=\"psysml:ee7e22b2-7ed6-4f2c-8628-ec59eb221ec4\" xlink:show=\"new\" xlink:title=\"psysml:ee7e22b2-7ed6-4f2c-8628-ec59eb221ec4\" xlink:type=\"simple\"><polygon fill=\"#FFFFFF\" filter=\"url(#f18ng4fradp5dn)\" points=\"16,6,132,6,139,28.2969,622,28.2969,622,335,16,335,16,6\" style=\"stroke: #000000; stroke-width: 1.5;\"/><line style=\"stroke: #000000; stroke-width: 1.5;\" x1=\"16\" x2=\"139\" y1=\"28.2969\" y2=\"28.2969\"/><text fill=\"#000000\" font-family=\"sans-serif\" font-size=\"14\" font-weight=\"bold\" lengthAdjust=\"spacingAndGlyphs\" textLength=\"110\" x=\"20\" y=\"20.9951\">TradeStudyTest</text></a><!--MD5=[270fce915f116d4de14055a7c1d9a0f3]\n",
       "class E5--><a href=\"psysml:4b9a9840-0888-40ad-997b-4be591991c45\" target=\"_top\" title=\"psysml:4b9a9840-0888-40ad-997b-4be591991c45\" xlink:actuate=\"onRequest\" xlink:href=\"psysml:4b9a9840-0888-40ad-997b-4be591991c45\" xlink:show=\"new\" xlink:title=\"psysml:4b9a9840-0888-40ad-997b-4be591991c45\" xlink:type=\"simple\"><rect fill=\"#FEFECE\" filter=\"url(#f18ng4fradp5dn)\" height=\"45.9375\" id=\"E5\" rx=\"10\" ry=\"10\" style=\"stroke: #A80036; stroke-width: 1.5;\" width=\"225\" x=\"380.5\" y=\"41\"/><ellipse cx=\"395.5\" cy=\"59.9688\" fill=\"#B6DBBB\" rx=\"11\" ry=\"11\" style=\"stroke: #A80036; stroke-width: 1.0;\"/><path d=\"M395.25,65.4375 Q393.5,65.4375 392.5469,64.4063 Q391.6094,63.3594 391.6094,61.5156 L391.6094,54.625 L393.6719,54.625 L393.6719,54.7813 Q393.5781,54.875 393.5469,55.0156 Q393.5313,55.1406 393.5313,55.4063 L393.5313,61.5313 Q393.5313,62.625 393.9063,63.25 Q394.2813,63.875 395.2656,63.875 Q396.25,63.875 396.6406,63.25 Q397.0313,62.625 397.0313,61.4844 L397.0313,54.625 L398.9063,54.625 L398.9063,61.4688 Q398.9063,63.5 397.875,64.4688 Q396.8594,65.4375 395.25,65.4375 Z \"/><text fill=\"#000000\" font-family=\"sans-serif\" font-size=\"12\" font-style=\"italic\" lengthAdjust=\"spacingAndGlyphs\" textLength=\"64\" x=\"474\" y=\"57.1387\">«analysis»</text><text fill=\"#000000\" font-family=\"sans-serif\" font-size=\"12\" lengthAdjust=\"spacingAndGlyphs\" textLength=\"193\" x=\"409.5\" y=\"71.1074\">engineTradeStudy: TradeStudy</text><line style=\"stroke: #A80036; stroke-width: 1.5;\" x1=\"381.5\" x2=\"604.5\" y1=\"78.9375\" y2=\"78.9375\"/></a><!--MD5=[60a26617385b1d2d0262a64233df1f8d]\n",
       "class E6--><a href=\"psysml:6d56d509-a272-42e3-905c-0e1bbd246da0\" target=\"_top\" title=\"psysml:6d56d509-a272-42e3-905c-0e1bbd246da0\" xlink:actuate=\"onRequest\" xlink:href=\"psysml:6d56d509-a272-42e3-905c-0e1bbd246da0\" xlink:show=\"new\" xlink:title=\"psysml:6d56d509-a272-42e3-905c-0e1bbd246da0\" xlink:type=\"simple\"><rect fill=\"#FEFECE\" filter=\"url(#f18ng4fradp5dn)\" height=\"45.9375\" id=\"E6\" rx=\"10\" ry=\"10\" style=\"stroke: #A80036; stroke-width: 1.5;\" width=\"277\" x=\"32.5\" y=\"120\"/><ellipse cx=\"47.5\" cy=\"138.9688\" fill=\"#FFA500\" rx=\"11\" ry=\"11\" style=\"stroke: #A80036; stroke-width: 1.0;\"/><path d=\"M47.25,144.4375 Q45.5,144.4375 44.5469,143.4063 Q43.6094,142.3594 43.6094,140.5156 L43.6094,133.625 L45.6719,133.625 L45.6719,133.7813 Q45.5781,133.875 45.5469,134.0156 Q45.5313,134.1406 45.5313,134.4063 L45.5313,140.5313 Q45.5313,141.625 45.9063,142.25 Q46.2813,142.875 47.2656,142.875 Q48.25,142.875 48.6406,142.25 Q49.0313,141.625 49.0313,140.4844 L49.0313,133.625 L50.9063,133.625 L50.9063,140.4688 Q50.9063,142.5 49.875,143.4688 Q48.8594,144.4375 47.25,144.4375 Z \"/><text fill=\"#000000\" font-family=\"sans-serif\" font-size=\"12\" font-style=\"italic\" lengthAdjust=\"spacingAndGlyphs\" textLength=\"91\" x=\"138.5\" y=\"136.1387\">«requirement»</text><text fill=\"#000000\" font-family=\"sans-serif\" font-size=\"12\" lengthAdjust=\"spacingAndGlyphs\" textLength=\"245\" x=\"61.5\" y=\"150.1074\">tradeStudyObjective: MaximizeObjective</text><line style=\"stroke: #A80036; stroke-width: 1.5;\" x1=\"33.5\" x2=\"308.5\" y1=\"157.9375\" y2=\"157.9375\"/></a><!--MD5=[2156ba9850f5573cc1fc38a6a4b2f02b]\n",
       "class E7--><a href=\"psysml:0d158b00-d202-4b1f-90aa-9fc427f4eb2b\" target=\"_top\" title=\"psysml:0d158b00-d202-4b1f-90aa-9fc427f4eb2b\" xlink:actuate=\"onRequest\" xlink:href=\"psysml:0d158b00-d202-4b1f-90aa-9fc427f4eb2b\" xlink:show=\"new\" xlink:title=\"psysml:0d158b00-d202-4b1f-90aa-9fc427f4eb2b\" xlink:type=\"simple\"><rect fill=\"#FEFECE\" filter=\"url(#f18ng4fradp5dn)\" height=\"45.9375\" id=\"E7\" rx=\"10\" ry=\"10\" style=\"stroke: #A80036; stroke-width: 1.5;\" width=\"142\" x=\"345\" y=\"120\"/><ellipse cx=\"360\" cy=\"138.9688\" fill=\"#FFA500\" rx=\"11\" ry=\"11\" style=\"stroke: #A80036; stroke-width: 1.0;\"/><path d=\"M359.75,144.4375 Q358,144.4375 357.0469,143.4063 Q356.1094,142.3594 356.1094,140.5156 L356.1094,133.625 L358.1719,133.625 L358.1719,133.7813 Q358.0781,133.875 358.0469,134.0156 Q358.0313,134.1406 358.0313,134.4063 L358.0313,140.5313 Q358.0313,141.625 358.4063,142.25 Q358.7813,142.875 359.7656,142.875 Q360.75,142.875 361.1406,142.25 Q361.5313,141.625 361.5313,140.4844 L361.5313,133.625 L363.4063,133.625 L363.4063,140.4688 Q363.4063,142.5 362.375,143.4688 Q361.3594,144.4375 359.75,144.4375 Z \"/><text fill=\"#000000\" font-family=\"sans-serif\" font-size=\"12\" font-style=\"italic\" lengthAdjust=\"spacingAndGlyphs\" textLength=\"82\" x=\"388\" y=\"136.1387\">«calculation»</text><text fill=\"#000000\" font-family=\"sans-serif\" font-size=\"12\" lengthAdjust=\"spacingAndGlyphs\" textLength=\"110\" x=\"374\" y=\"150.1074\">objectiveFunction</text><line style=\"stroke: #A80036; stroke-width: 1.5;\" x1=\"346\" x2=\"486\" y1=\"157.9375\" y2=\"157.9375\"/></a><!--MD5=[b9389687b975829384b498ac4b7476b2]\n",
       "class E8--><a href=\"psysml:e8d66f1b-2710-4767-99ee-f2812ccd7696\" target=\"_top\" title=\"psysml:e8d66f1b-2710-4767-99ee-f2812ccd7696\" xlink:actuate=\"onRequest\" xlink:href=\"psysml:e8d66f1b-2710-4767-99ee-f2812ccd7696\" xlink:show=\"new\" xlink:title=\"psysml:e8d66f1b-2710-4767-99ee-f2812ccd7696\" xlink:type=\"simple\"><rect fill=\"#FEFECE\" filter=\"url(#f18ng4fradp5dn)\" height=\"40\" id=\"E8\" rx=\"10\" ry=\"10\" style=\"stroke: #A80036; stroke-width: 1.5;\" width=\"150\" x=\"217\" y=\"222\"/><ellipse cx=\"232\" cy=\"238\" fill=\"#B6DBBB\" rx=\"11\" ry=\"11\" style=\"stroke: #A80036; stroke-width: 1.0;\"/><path d=\"M231.75,243.4688 Q230,243.4688 229.0469,242.4375 Q228.1094,241.3906 228.1094,239.5469 L228.1094,232.6563 L230.1719,232.6563 L230.1719,232.8125 Q230.0781,232.9063 230.0469,233.0469 Q230.0313,233.1719 230.0313,233.4375 L230.0313,239.5625 Q230.0313,240.6563 230.4063,241.2813 Q230.7813,241.9063 231.7656,241.9063 Q232.75,241.9063 233.1406,241.2813 Q233.5313,240.6563 233.5313,239.5156 L233.5313,232.6563 L235.4063,232.6563 L235.4063,239.5 Q235.4063,241.5313 234.375,242.5 Q233.3594,243.4688 231.75,243.4688 Z \"/><text fill=\"#000000\" font-family=\"sans-serif\" font-size=\"12\" lengthAdjust=\"spacingAndGlyphs\" textLength=\"118\" x=\"246\" y=\"242.1543\">alternative: Engine</text><line style=\"stroke: #A80036; stroke-width: 1.5;\" x1=\"218\" x2=\"366\" y1=\"254\" y2=\"254\"/></a><!--MD5=[fd4143e9d270a159db93a4ea2a975926]\n",
       "class E9--><a href=\"psysml:d0667918-a428-4729-9680-50da29281cd4\" target=\"_top\" title=\"psysml:d0667918-a428-4729-9680-50da29281cd4\" xlink:actuate=\"onRequest\" xlink:href=\"psysml:d0667918-a428-4729-9680-50da29281cd4\" xlink:show=\"new\" xlink:title=\"psysml:d0667918-a428-4729-9680-50da29281cd4\" xlink:type=\"simple\"><rect fill=\"#FEFECE\" filter=\"url(#f18ng4fradp5dn)\" height=\"40\" id=\"E9\" rx=\"10\" ry=\"10\" style=\"stroke: #A80036; stroke-width: 1.5;\" width=\"204\" x=\"298\" y=\"174\"/><ellipse cx=\"313\" cy=\"190\" fill=\"#B6DBBB\" rx=\"11\" ry=\"11\" style=\"stroke: #A80036; stroke-width: 1.0;\"/><path d=\"M312.75,195.4688 Q311,195.4688 310.0469,194.4375 Q309.1094,193.3906 309.1094,191.5469 L309.1094,184.6563 L311.1719,184.6563 L311.1719,184.8125 Q311.0781,184.9063 311.0469,185.0469 Q311.0313,185.1719 311.0313,185.4375 L311.0313,191.5625 Q311.0313,192.6563 311.4063,193.2813 Q311.7813,193.9063 312.7656,193.9063 Q313.75,193.9063 314.1406,193.2813 Q314.5313,192.6563 314.5313,191.5156 L314.5313,184.6563 L316.4063,184.6563 L316.4063,191.5 Q316.4063,193.5313 315.375,194.5 Q314.3594,195.4688 312.75,195.4688 Z \"/><text fill=\"#000000\" font-family=\"sans-serif\" font-size=\"12\" lengthAdjust=\"spacingAndGlyphs\" textLength=\"172\" x=\"327\" y=\"194.1543\">selectedAlternative: Engine</text><line style=\"stroke: #A80036; stroke-width: 1.5;\" x1=\"299\" x2=\"501\" y1=\"206\" y2=\"206\"/></a><g id=\"E1.E2\"><a href=\"psysml:6dc2e48d-4c08-4400-bc60-82a531af2780\" target=\"_top\" title=\"psysml:6dc2e48d-4c08-4400-bc60-82a531af2780\" xlink:actuate=\"onRequest\" xlink:href=\"psysml:6dc2e48d-4c08-4400-bc60-82a531af2780\" xlink:show=\"new\" xlink:title=\"psysml:6dc2e48d-4c08-4400-bc60-82a531af2780\" xlink:type=\"simple\"><rect fill=\"#FEFECE\" filter=\"url(#f18ng4fradp5dn)\" height=\"40\" id=\"E2\" style=\"stroke: #A80036; stroke-width: 1.5;\" width=\"80\" x=\"363\" y=\"279\"/><ellipse cx=\"380.25\" cy=\"295\" fill=\"#008000\" rx=\"11\" ry=\"11\" style=\"stroke: #A80036; stroke-width: 1.0;\"/><path d=\"M377.125,300 L377.125,289.4063 L380.3594,289.4063 Q382.2656,289.4063 383.1719,290.1563 Q384.0938,290.9063 384.0938,292.0781 Q384.0938,292.7656 383.7031,293.4219 Q383.3281,294.0781 382.6094,294.375 Q383.4688,294.75 383.9844,295.4375 Q384.5,296.125 384.5,296.9375 Q384.5,298.3125 383.4688,299.1563 Q382.4531,300 380.3438,300 L377.125,300 Z M379.0469,293.6406 L380.2031,293.6406 Q381.3281,293.6406 381.7344,293.2656 Q382.1563,292.875 382.1563,292.25 Q382.1563,291.6719 381.7344,291.3125 Q381.3125,290.9531 380.375,290.9531 L379.0469,290.9531 L379.0469,293.6406 Z M379.0469,298.4219 L380.5469,298.4219 Q381.4531,298.4219 381.9844,298.0313 Q382.5156,297.6406 382.5156,296.8906 Q382.5156,296.125 382.0156,295.6563 Q381.5156,295.1719 380.25,295.1719 L379.0469,295.1719 L379.0469,298.4219 Z \"/><text fill=\"#000000\" font-family=\"sans-serif\" font-size=\"12\" lengthAdjust=\"spacingAndGlyphs\" textLength=\"43\" x=\"394.75\" y=\"299.1543\">Engine</text></a></g><g id=\"E1.E3\"><a href=\"psysml:3defd9be-3b5d-4c6d-8f79-df776db84250\" target=\"_top\" title=\"psysml:3defd9be-3b5d-4c6d-8f79-df776db84250\" xlink:actuate=\"onRequest\" xlink:href=\"psysml:3defd9be-3b5d-4c6d-8f79-df776db84250\" xlink:show=\"new\" xlink:title=\"psysml:3defd9be-3b5d-4c6d-8f79-df776db84250\" xlink:type=\"simple\"><rect fill=\"#FEFECE\" filter=\"url(#f18ng4fradp5dn)\" height=\"40\" id=\"E3\" rx=\"10\" ry=\"10\" style=\"stroke: #A80036; stroke-width: 1.5;\" width=\"139\" x=\"206.5\" y=\"44\"/><ellipse cx=\"223.75\" cy=\"60\" fill=\"#B6DBBB\" rx=\"11\" ry=\"11\" style=\"stroke: #A80036; stroke-width: 1.0;\"/><path d=\"M223.5,65.4688 Q221.75,65.4688 220.7969,64.4375 Q219.8594,63.3906 219.8594,61.5469 L219.8594,54.6563 L221.9219,54.6563 L221.9219,54.8125 Q221.8281,54.9063 221.7969,55.0469 Q221.7813,55.1719 221.7813,55.4375 L221.7813,61.5625 Q221.7813,62.6563 222.1563,63.2813 Q222.5313,63.9063 223.5156,63.9063 Q224.5,63.9063 224.8906,63.2813 Q225.2813,62.6563 225.2813,61.5156 L225.2813,54.6563 L227.1563,54.6563 L227.1563,61.5 Q227.1563,63.5313 226.125,64.5 Q225.1094,65.4688 223.5,65.4688 Z \"/><text fill=\"#000000\" font-family=\"sans-serif\" font-size=\"12\" lengthAdjust=\"spacingAndGlyphs\" textLength=\"102\" x=\"238.25\" y=\"64.1543\">engine1: Engine</text></a></g><g id=\"E1.E4\"><a href=\"psysml:3a9a647b-2fd2-49b6-8a5f-7ce1649088e0\" target=\"_top\" title=\"psysml:3a9a647b-2fd2-49b6-8a5f-7ce1649088e0\" xlink:actuate=\"onRequest\" xlink:href=\"psysml:3a9a647b-2fd2-49b6-8a5f-7ce1649088e0\" xlink:show=\"new\" xlink:title=\"psysml:3a9a647b-2fd2-49b6-8a5f-7ce1649088e0\" xlink:type=\"simple\"><rect fill=\"#FEFECE\" filter=\"url(#f18ng4fradp5dn)\" height=\"40\" id=\"E4\" rx=\"10\" ry=\"10\" style=\"stroke: #A80036; stroke-width: 1.5;\" width=\"139\" x=\"32.5\" y=\"44\"/><ellipse cx=\"49.75\" cy=\"60\" fill=\"#B6DBBB\" rx=\"11\" ry=\"11\" style=\"stroke: #A80036; stroke-width: 1.0;\"/><path d=\"M49.5,65.4688 Q47.75,65.4688 46.7969,64.4375 Q45.8594,63.3906 45.8594,61.5469 L45.8594,54.6563 L47.9219,54.6563 L47.9219,54.8125 Q47.8281,54.9063 47.7969,55.0469 Q47.7813,55.1719 47.7813,55.4375 L47.7813,61.5625 Q47.7813,62.6563 48.1563,63.2813 Q48.5313,63.9063 49.5156,63.9063 Q50.5,63.9063 50.8906,63.2813 Q51.2813,62.6563 51.2813,61.5156 L51.2813,54.6563 L53.1563,54.6563 L53.1563,61.5 Q53.1563,63.5313 52.125,64.5 Q51.1094,65.4688 49.5,65.4688 Z \"/><text fill=\"#000000\" font-family=\"sans-serif\" font-size=\"12\" lengthAdjust=\"spacingAndGlyphs\" textLength=\"102\" x=\"64.25\" y=\"64.1543\">engine2: Engine</text></a></g><!--MD5=[15ebcb19ae302d9b601edb458606d402]\n",
       "link E5 to E2--><a href=\"psysml:d5cbdaa6-c586-4ab8-b2f7-038eda38592d\" target=\"_top\" title=\"psysml:d5cbdaa6-c586-4ab8-b2f7-038eda38592d\" xlink:actuate=\"onRequest\" xlink:href=\"psysml:d5cbdaa6-c586-4ab8-b2f7-038eda38592d\" xlink:show=\"new\" xlink:title=\"psysml:d5cbdaa6-c586-4ab8-b2f7-038eda38592d\" xlink:type=\"simple\"><path d=\"M514.17,87.23 C515.71,89.72 517.03,92.32 518,95 C536.15,145.12 532.55,169.63 503,214 C486.27,239.12 459.9,260.83 438.44,275.88 \" fill=\"none\" id=\"E5-&gt;E2\" style=\"stroke: #A80036; stroke-width: 1.0; stroke-dasharray: 7.0,7.0;\"/><polygon fill=\"#A80036\" points=\"434.21,278.81,443.8882,276.9846,438.3235,275.9677,439.3405,270.403,434.21,278.81\" style=\"stroke: #A80036; stroke-width: 1.0;\"/><text fill=\"#000000\" font-family=\"sans-serif\" font-size=\"13\" lengthAdjust=\"spacingAndGlyphs\" textLength=\"62\" x=\"525\" y=\"198.5669\">«subject»</text></a><!--MD5=[9120cf2e5df3bff93db8f754bbbc09b4]\n",
       "link E5 to E6--><a href=\"psysml:14d02f99-86ef-419d-b64f-b983855c21b7\" target=\"_top\" title=\"psysml:14d02f99-86ef-419d-b64f-b983855c21b7\" xlink:actuate=\"onRequest\" xlink:href=\"psysml:14d02f99-86ef-419d-b64f-b983855c21b7\" xlink:show=\"new\" xlink:title=\"psysml:14d02f99-86ef-419d-b64f-b983855c21b7\" xlink:type=\"simple\"><path d=\"M397.87,87.01 C386.45,89.68 374.96,92.39 364,95 C333.05,102.37 299.34,110.53 268.88,117.95 \" fill=\"none\" id=\"E5-&gt;E6\" style=\"stroke: #A80036; stroke-width: 1.0;\"/><polygon fill=\"#A80036\" points=\"260.8,119.93,269.2836,120.9442,267.8586,115.1159,260.8,119.93\" style=\"stroke: #A80036; stroke-width: 1.0;\"/><text fill=\"#000000\" font-family=\"sans-serif\" font-size=\"13\" lengthAdjust=\"spacingAndGlyphs\" textLength=\"73\" x=\"365\" y=\"108.0669\">«objective»</text></a><!--MD5=[452b418e7f8a40397a49b8c0a78acc5b]\n",
       "reverse link E5 to E7--><a href=\"psysml:60238b1f-3640-4bef-bde7-54f879504707\" target=\"_top\" title=\"psysml:60238b1f-3640-4bef-bde7-54f879504707\" xlink:actuate=\"onRequest\" xlink:href=\"psysml:60238b1f-3640-4bef-bde7-54f879504707\" xlink:show=\"new\" xlink:title=\"psysml:60238b1f-3640-4bef-bde7-54f879504707\" xlink:type=\"simple\"><path d=\"M461.49,96.51 C453.68,104.32 445.48,112.52 438.22,119.78 \" fill=\"none\" id=\"E5&lt;-E7\" style=\"stroke: #A80036; stroke-width: 1.0;\"/><polygon fill=\"#A80036\" points=\"470.73,87.27,463.6589,88.6842,462.2447,95.7553,469.3158,94.3411,470.73,87.27\" style=\"stroke: #A80036; stroke-width: 1.0;\"/></a><!--MD5=[dc164f5e8a733ab456ef1add180e9e34]\n",
       "reverse link E7 to E8--><a href=\"psysml:83c02207-4172-44b5-b5b3-edd55ab7c0db\" target=\"_top\" title=\"psysml:83c02207-4172-44b5-b5b3-edd55ab7c0db\" xlink:actuate=\"onRequest\" xlink:href=\"psysml:83c02207-4172-44b5-b5b3-edd55ab7c0db\" xlink:show=\"new\" xlink:title=\"psysml:83c02207-4172-44b5-b5b3-edd55ab7c0db\" xlink:type=\"simple\"><path d=\"M332.25,164.89 C312.6,169.83 297.2,173.77 297,174 C286.04,187.03 285.95,206.99 287.91,221.74 \" fill=\"none\" id=\"E7&lt;-E8\" style=\"stroke: #A80036; stroke-width: 1.0;\"/><polygon fill=\"#FFFFFF\" points=\"344.95,161.7,338.1584,159.2765,333.3091,164.6135,340.1007,167.0371,344.95,161.7\" style=\"stroke: #A80036; stroke-width: 1.0;\"/><text fill=\"#000000\" font-family=\"sans-serif\" font-size=\"13\" lengthAdjust=\"spacingAndGlyphs\" textLength=\"8\" x=\"277.6347\" y=\"211.0181\">1</text></a><!--MD5=[f1f3f9f2fc535e6147756cb86a7f2e32]\n",
       "link E8 to E2--><a href=\"psysml:3fd357fc-9742-4e4a-b08f-00e5f8b92b2e\" target=\"_top\" title=\"psysml:3fd357fc-9742-4e4a-b08f-00e5f8b92b2e\" xlink:actuate=\"onRequest\" xlink:href=\"psysml:3fd357fc-9742-4e4a-b08f-00e5f8b92b2e\" xlink:show=\"new\" xlink:title=\"psysml:3fd357fc-9742-4e4a-b08f-00e5f8b92b2e\" xlink:type=\"simple\"><path d=\"M330.51,262.08 C335.68,264.64 341.06,267.31 346.46,269.98 \" fill=\"none\" id=\"E8-&gt;E2\" style=\"stroke: #A80036; stroke-width: 1.0;\"/><polygon fill=\"#FFFFFF\" points=\"364.56,278.95,344.427,276.7911,350.6399,264.2452,364.56,278.95\" style=\"stroke: #A80036; stroke-width: 1.0;\"/><ellipse cx=\"340.2065\" cy=\"272.4693\" fill=\"#A80036\" rx=\"2\" ry=\"2\" style=\"stroke: #A80036; stroke-width: 1.0;\"/><ellipse cx=\"344.6443\" cy=\"263.508\" fill=\"#A80036\" rx=\"2\" ry=\"2\" style=\"stroke: #A80036; stroke-width: 1.0;\"/></a><!--MD5=[9ae28de373ca99bb8a1b38d63370ca7e]\n",
       "reverse link E5 to E9--><a href=\"psysml:44393528-ee32-422a-b73c-7e5d578e1b67\" target=\"_top\" title=\"psysml:44393528-ee32-422a-b73c-7e5d578e1b67\" xlink:actuate=\"onRequest\" xlink:href=\"psysml:44393528-ee32-422a-b73c-7e5d578e1b67\" xlink:show=\"new\" xlink:title=\"psysml:44393528-ee32-422a-b73c-7e5d578e1b67\" xlink:type=\"simple\"><path d=\"M508.56,99.53 C515.57,120.77 519.43,147.39 505,166 C502.75,168.9 498.75,171.54 493.58,173.94 \" fill=\"none\" id=\"E5&lt;-E9\" style=\"stroke: #A80036; stroke-width: 1.0;\"/><polygon fill=\"#FFFFFF\" points=\"503.93,87.12,502.2779,94.1393,508.1218,98.3641,509.7739,91.3448,503.93,87.12\" style=\"stroke: #A80036; stroke-width: 1.0;\"/><text fill=\"#000000\" font-family=\"sans-serif\" font-size=\"13\" lengthAdjust=\"spacingAndGlyphs\" textLength=\"8\" x=\"510.1388\" y=\"167.2634\">1</text></a><!--MD5=[5c3bb36fe832a92c7f0e1807dd65209d]\n",
       "link E9 to E2--><a href=\"psysml:fe7d5224-67e7-4f42-a679-f87e330c9f80\" target=\"_top\" title=\"psysml:fe7d5224-67e7-4f42-a679-f87e330c9f80\" xlink:actuate=\"onRequest\" xlink:href=\"psysml:fe7d5224-67e7-4f42-a679-f87e330c9f80\" xlink:show=\"new\" xlink:title=\"psysml:fe7d5224-67e7-4f42-a679-f87e330c9f80\" xlink:type=\"simple\"><path d=\"M400.56,214.37 C400.93,226.82 401.41,243.43 401.85,258.57 \" fill=\"none\" id=\"E9-&gt;E2\" style=\"stroke: #A80036; stroke-width: 1.0;\"/><polygon fill=\"#FFFFFF\" points=\"402.44,278.71,394.8864,259.9232,408.8804,259.5131,402.44,278.71\" style=\"stroke: #A80036; stroke-width: 1.0;\"/><ellipse cx=\"396.7186\" cy=\"254.1671\" fill=\"#A80036\" rx=\"2\" ry=\"2\" style=\"stroke: #A80036; stroke-width: 1.0;\"/><ellipse cx=\"406.7143\" cy=\"253.8741\" fill=\"#A80036\" rx=\"2\" ry=\"2\" style=\"stroke: #A80036; stroke-width: 1.0;\"/></a><!--MD5=[17e24362943a88b2684f7196f2051a41]\n",
       "@startuml\r\n",
       "skinparam ranksep 10\r\n",
       "skinparam rectangle {\r\n",
       " backgroundColor<<block>> LightGreen\r\n",
       "}\r\n",
       " \r\n",
       "package \"TradeStudyTest\" as E1  [[psysml:ee7e22b2-7ed6-4f2c-8628-ec59eb221ec4 ]]  {\r\n",
       "rec def \"Engine\" as E2 << << (B,green) >> [[psysml:6dc2e48d-4c08-4400-bc60-82a531af2780 ]] {\r\n",
       "}\r\n",
       "rec usage \"engine1: Engine\" as E3  [[psysml:3defd9be-3b5d-4c6d-8f79-df776db84250 ]] {\r\n",
       "}\r\n",
       "rec usage \"engine2: Engine\" as E4  [[psysml:3a9a647b-2fd2-49b6-8a5f-7ce1649088e0 ]] {\r\n",
       "}\r\n",
       "comp usage \"engineTradeStudy: TradeStudy\" as E5 << analysis>> [[psysml:4b9a9840-0888-40ad-997b-4be591991c45 ]] {\r\n",
       "}\r\n",
       "comp usage \"tradeStudyObjective: MaximizeObjective\" as E6 << <<(U,orange) requirement>> [[psysml:6d56d509-a272-42e3-905c-0e1bbd246da0 ]] {\r\n",
       "}\r\n",
       "comp usage \"objectiveFunction\" as E7 << <<(U,orange) calculation>> [[psysml:0d158b00-d202-4b1f-90aa-9fc427f4eb2b ]] {\r\n",
       "}\r\n",
       "comp usage \"alternative: Engine\" as E8  [[psysml:e8d66f1b-2710-4767-99ee-f2812ccd7696 ]] {\r\n",
       "}\r\n",
       "comp usage \"selectedAlternative: Engine\" as E9  [[psysml:d0667918-a428-4729-9680-50da29281cd4 ]] {\r\n",
       "}\r\n",
       "}\r\n",
       "E5 ..> E2 [[psysml:d5cbdaa6-c586-4ab8-b2f7-038eda38592d ]] : <<subject>>\r\n",
       "E5 - ->> E6 [[psysml:14d02f99-86ef-419d-b64f-b983855c21b7 ]] : <<objective>>\r\n",
       "E5 *- - E7 [[psysml:60238b1f-3640-4bef-bde7-54f879504707 ]] \r\n",
       "E7 o- - \"1\"E8 [[psysml:83c02207-4172-44b5-b5b3-edd55ab7c0db ]] \r\n",
       "E8 - -:|> E2 [[psysml:3fd357fc-9742-4e4a-b08f-00e5f8b92b2e ]] \r\n",
       "E5 o- - \"1\"E9 [[psysml:44393528-ee32-422a-b73c-7e5d578e1b67 ]] \r\n",
       "E9 - -:|> E2 [[psysml:fe7d5224-67e7-4f42-a679-f87e330c9f80 ]] \r\n",
       "@enduml\r\n",
       "\n",
       "PlantUML version 1.2020.13(Sat Jun 13 12:26:38 UTC 2020)\n",
       "(EPL source distribution)\n",
       "Java Runtime: OpenJDK Runtime Environment\n",
       "JVM: OpenJDK 64-Bit Server VM\n",
       "Default Encoding: UTF-8\n",
       "Language: en\n",
       "Country: null\n",
       "--></g></svg>"
      ]
     },
     "execution_count": 33,
     "metadata": {},
     "output_type": "execute_result"
    }
   ],
   "source": [
    "%viz --style=\"PLANTUML\" --view=\"Interconnection\" \"TradeStudyTest\""
   ]
  },
  {
   "cell_type": "code",
   "execution_count": 34,
   "id": "7b7fbc1a",
   "metadata": {
    "execution": {
     "iopub.execute_input": "2021-10-03T08:30:38.562067Z",
     "iopub.status.busy": "2021-10-03T08:30:38.561674Z",
     "iopub.status.idle": "2021-10-03T08:30:38.589576Z",
     "shell.execute_reply": "2021-10-03T08:30:38.589240Z"
    }
   },
   "outputs": [
    {
     "data": {
      "image/svg+xml": [
       "<?xml version=\"1.0\" encoding=\"UTF-8\" standalone=\"no\"?><svg xmlns=\"http://www.w3.org/2000/svg\" xmlns:xlink=\"http://www.w3.org/1999/xlink\" contentScriptType=\"application/ecmascript\" contentStyleType=\"text/css\" height=\"178px\" preserveAspectRatio=\"none\" style=\"width:434px;height:178px;\" version=\"1.1\" viewBox=\"0 0 434 178\" width=\"434px\" zoomAndPan=\"magnify\"><defs><filter height=\"300%\" id=\"fktr4hqqkfw2q\" width=\"300%\" x=\"-1\" y=\"-1\"><feGaussianBlur result=\"blurOut\" stdDeviation=\"2.0\"/><feColorMatrix in=\"blurOut\" result=\"blurOut2\" type=\"matrix\" values=\"0 0 0 0 0 0 0 0 0 0 0 0 0 0 0 0 0 0 .4 0\"/><feOffset dx=\"4.0\" dy=\"4.0\" in=\"blurOut2\" result=\"blurOut3\"/><feBlend in=\"SourceGraphic\" in2=\"blurOut3\" mode=\"normal\"/></filter></defs><g><!--MD5=[fbc87193dbaf4d95561dea2c320d4a47]\n",
       "cluster E1--><a href=\"psysml:4b9a9840-0888-40ad-997b-4be591991c45\" target=\"_top\" title=\"psysml:4b9a9840-0888-40ad-997b-4be591991c45\" xlink:actuate=\"onRequest\" xlink:href=\"psysml:4b9a9840-0888-40ad-997b-4be591991c45\" xlink:show=\"new\" xlink:title=\"psysml:4b9a9840-0888-40ad-997b-4be591991c45\" xlink:type=\"simple\"><rect fill=\"#FFFFFF\" filter=\"url(#fktr4hqqkfw2q)\" height=\"103.72\" id=\"E1\" rx=\"10\" ry=\"10\" style=\"stroke: #A80036; stroke-width: 1.5;\" width=\"327\" x=\"47\" y=\"42.0986\"/><rect fill=\"#FEFECE\" height=\"37.9375\" rx=\"10\" ry=\"10\" style=\"stroke: #FEFECE; stroke-width: 1.5;\" width=\"327\" x=\"47\" y=\"42.0986\"/><rect fill=\"#FEFECE\" height=\"10\" style=\"stroke: #FEFECE; stroke-width: 1.5;\" width=\"327\" x=\"47\" y=\"70.0361\"/><rect fill=\"none\" height=\"103.72\" id=\"E1\" rx=\"10\" ry=\"10\" style=\"stroke: #A80036; stroke-width: 1.5;\" width=\"327\" x=\"47\" y=\"42.0986\"/><text fill=\"#000000\" font-family=\"sans-serif\" font-size=\"12\" font-style=\"italic\" lengthAdjust=\"spacingAndGlyphs\" textLength=\"64\" x=\"178.5\" y=\"58.2373\">«analysis»</text><text fill=\"#000000\" font-family=\"sans-serif\" font-size=\"12\" lengthAdjust=\"spacingAndGlyphs\" textLength=\"114\" x=\"153.5\" y=\"72.2061\">engineTradeStudy</text><line style=\"stroke: #A80036; stroke-width: 1.0;\" x1=\"47\" x2=\"374\" y1=\"80.0361\" y2=\"80.0361\"/></a><!--MD5=[d5e69f78d87373223dbae638b30a9c99]\n",
       "cluster E3--><a href=\"psysml:0d158b00-d202-4b1f-90aa-9fc427f4eb2b\" target=\"_top\" title=\"psysml:0d158b00-d202-4b1f-90aa-9fc427f4eb2b\" xlink:actuate=\"onRequest\" xlink:href=\"psysml:0d158b00-d202-4b1f-90aa-9fc427f4eb2b\" xlink:show=\"new\" xlink:title=\"psysml:0d158b00-d202-4b1f-90aa-9fc427f4eb2b\" xlink:type=\"simple\"><rect fill=\"#FFFFFF\" filter=\"url(#fktr4hqqkfw2q)\" height=\"81.72\" id=\"E3\" rx=\"10\" ry=\"10\" style=\"stroke: #A80036; stroke-width: 1.5;\" width=\"132\" x=\"214.125\" y=\"64.0986\"/><rect fill=\"#FEFECE\" height=\"37.9375\" rx=\"10\" ry=\"10\" style=\"stroke: #FEFECE; stroke-width: 1.5;\" width=\"132\" x=\"214.125\" y=\"64.0986\"/><rect fill=\"#FEFECE\" height=\"10\" style=\"stroke: #FEFECE; stroke-width: 1.5;\" width=\"132\" x=\"214.125\" y=\"92.0361\"/><rect fill=\"none\" height=\"81.72\" id=\"E3\" rx=\"10\" ry=\"10\" style=\"stroke: #A80036; stroke-width: 1.5;\" width=\"132\" x=\"214.125\" y=\"64.0986\"/><text fill=\"#000000\" font-family=\"sans-serif\" font-size=\"12\" font-style=\"italic\" lengthAdjust=\"spacingAndGlyphs\" textLength=\"82\" x=\"239.125\" y=\"80.2373\">«calculation»</text><text fill=\"#000000\" font-family=\"sans-serif\" font-size=\"12\" lengthAdjust=\"spacingAndGlyphs\" textLength=\"110\" x=\"225.125\" y=\"94.2061\">objectiveFunction</text><line style=\"stroke: #A80036; stroke-width: 1.0;\" x1=\"214.125\" x2=\"346.125\" y1=\"102.0361\" y2=\"102.0361\"/></a><text fill=\"#000000\" font-family=\"sans-serif\" font-size=\"14\" lengthAdjust=\"spacingAndGlyphs\" textLength=\"118\" x=\"6\" y=\"20.7969\">studyAlternatives</text><rect fill=\"#A80036\" height=\"12\" style=\"stroke: #FEFECE; stroke-width: 1.5;\" width=\"12\" x=\"59\" y=\"36.0986\"/><text fill=\"#000000\" font-family=\"sans-serif\" font-size=\"14\" lengthAdjust=\"spacingAndGlyphs\" textLength=\"132\" x=\"290\" y=\"164.8138\">selectedAlternative</text><rect fill=\"#A80036\" height=\"12\" style=\"stroke: #FEFECE; stroke-width: 1.5;\" width=\"12\" x=\"350\" y=\"139.8186\"/><text fill=\"#000000\" font-family=\"sans-serif\" font-size=\"14\" lengthAdjust=\"spacingAndGlyphs\" textLength=\"39\" x=\"215.5\" y=\"164.8138\">result</text><rect fill=\"#A80036\" height=\"12\" style=\"stroke: #FEFECE; stroke-width: 1.5;\" width=\"12\" x=\"229\" y=\"139.8186\"/><!--MD5=[509868ba35b3f187654d5c8dd236ff58]\n",
       "@startuml\r\n",
       "skinparam ranksep 8\r\n",
       " \r\n",
       "rec usage \"engineTradeStudy\" as E1 << analysis>> [[psysml:4b9a9840-0888-40ad-997b-4be591991c45 ]] {\r\n",
       "portin \"studyAlternatives\" as E2  [[psysml:176bf709-9374-41f7-af5d-a9b046d4ad5e ]] \r\n",
       "rec usage \"objectiveFunction\" as E3 << <<(U,orange) calculation>> [[psysml:0d158b00-d202-4b1f-90aa-9fc427f4eb2b ]] {\r\n",
       "portout \"result\" as E4  [[psysml:5b5a7b7b-7538-4fc2-96bb-574f08f8230e ]] \r\n",
       "}\r\n",
       "\r\n",
       "portout \"selectedAlternative\" as E5  [[psysml:d0667918-a428-4729-9680-50da29281cd4 ]] \r\n",
       "}\r\n",
       "\r\n",
       "@enduml\r\n",
       "\n",
       "PlantUML version 1.2020.13(Sat Jun 13 12:26:38 UTC 2020)\n",
       "(EPL source distribution)\n",
       "Java Runtime: OpenJDK Runtime Environment\n",
       "JVM: OpenJDK 64-Bit Server VM\n",
       "Default Encoding: UTF-8\n",
       "Language: en\n",
       "Country: null\n",
       "--></g></svg>"
      ]
     },
     "execution_count": 34,
     "metadata": {},
     "output_type": "execute_result"
    }
   ],
   "source": [
    "%viz --style=\"PLANTUML\" --view=\"Action\" \"TradeStudyTest\""
   ]
  },
  {
   "cell_type": "code",
   "execution_count": 35,
   "id": "24edd6ad",
   "metadata": {
    "execution": {
     "iopub.execute_input": "2021-10-03T08:30:38.638918Z",
     "iopub.status.busy": "2021-10-03T08:30:38.638525Z",
     "iopub.status.idle": "2021-10-03T08:30:38.643048Z",
     "shell.execute_reply": "2021-10-03T08:30:38.643358Z"
    }
   },
   "outputs": [
    {
     "data": {
      "image/svg+xml": [
       "<?xml version=\"1.0\" encoding=\"UTF-8\" standalone=\"no\"?><svg xmlns=\"http://www.w3.org/2000/svg\" xmlns:xlink=\"http://www.w3.org/1999/xlink\" contentScriptType=\"application/ecmascript\" contentStyleType=\"text/css\" height=\"12px\" preserveAspectRatio=\"none\" style=\"width:12px;height:12px;\" version=\"1.1\" viewBox=\"0 0 12 12\" width=\"12px\" zoomAndPan=\"magnify\"><defs/><g><!--MD5=[ca4faa0b02def275ea33c14ea7a1a98d]\n",
       "@startuml\r\n",
       "skinparam roundcorner 20\r\n",
       "skinparam BoxPadding 20\r\n",
       "skinparam SequenceBoxBackgroundColor #white\r\n",
       "skinparam style strictuml\r\n",
       "skinparam maxMessageSize 100\r\n",
       " \r\n",
       "@enduml\r\n",
       "\n",
       "PlantUML version 1.2020.13(Sat Jun 13 12:26:38 UTC 2020)\n",
       "(EPL source distribution)\n",
       "Java Runtime: OpenJDK Runtime Environment\n",
       "JVM: OpenJDK 64-Bit Server VM\n",
       "Default Encoding: UTF-8\n",
       "Language: en\n",
       "Country: null\n",
       "--></g></svg>"
      ]
     },
     "execution_count": 35,
     "metadata": {},
     "output_type": "execute_result"
    }
   ],
   "source": [
    "%viz --style=\"PLANTUML\" --view=\"Sequence\" \"TradeStudyTest\""
   ]
  },
  {
   "cell_type": "code",
   "execution_count": 36,
   "id": "48f3e2b3",
   "metadata": {
    "execution": {
     "iopub.execute_input": "2021-10-03T08:30:38.693010Z",
     "iopub.status.busy": "2021-10-03T08:30:38.692623Z",
     "iopub.status.idle": "2021-10-03T08:30:38.736825Z",
     "shell.execute_reply": "2021-10-03T08:30:38.734508Z"
    }
   },
   "outputs": [
    {
     "data": {
      "image/svg+xml": [
       "<?xml version=\"1.0\" encoding=\"UTF-8\" standalone=\"no\"?><svg xmlns=\"http://www.w3.org/2000/svg\" xmlns:xlink=\"http://www.w3.org/1999/xlink\" contentScriptType=\"application/ecmascript\" contentStyleType=\"text/css\" height=\"491px\" preserveAspectRatio=\"none\" style=\"width:636px;height:491px;\" version=\"1.1\" viewBox=\"0 0 636 491\" width=\"636px\" zoomAndPan=\"magnify\"><defs><filter height=\"300%\" id=\"fwfnrph54vs9z\" width=\"300%\" x=\"-1\" y=\"-1\"><feGaussianBlur result=\"blurOut\" stdDeviation=\"2.0\"/><feColorMatrix in=\"blurOut\" result=\"blurOut2\" type=\"matrix\" values=\"0 0 0 0 0 0 0 0 0 0 0 0 0 0 0 0 0 0 .4 0\"/><feOffset dx=\"4.0\" dy=\"4.0\" in=\"blurOut2\" result=\"blurOut3\"/><feBlend in=\"SourceGraphic\" in2=\"blurOut3\" mode=\"normal\"/></filter></defs><g><!--MD5=[fbc87193dbaf4d95561dea2c320d4a47]\n",
       "cluster E1--><a href=\"psysml:ee7e22b2-7ed6-4f2c-8628-ec59eb221ec4\" target=\"_top\" title=\"psysml:ee7e22b2-7ed6-4f2c-8628-ec59eb221ec4\" xlink:actuate=\"onRequest\" xlink:href=\"psysml:ee7e22b2-7ed6-4f2c-8628-ec59eb221ec4\" xlink:show=\"new\" xlink:title=\"psysml:ee7e22b2-7ed6-4f2c-8628-ec59eb221ec4\" xlink:type=\"simple\"><polygon fill=\"#FFFFFF\" filter=\"url(#fwfnrph54vs9z)\" points=\"20.2,6,136.2,6,143.2,28.2969,614.2,28.2969,614.2,479,20.2,479,20.2,6\" style=\"stroke: #000000; stroke-width: 1.5;\"/><line style=\"stroke: #000000; stroke-width: 1.5;\" x1=\"20.2\" x2=\"143.2\" y1=\"28.2969\" y2=\"28.2969\"/><text fill=\"#000000\" font-family=\"sans-serif\" font-size=\"14\" font-weight=\"bold\" lengthAdjust=\"spacingAndGlyphs\" textLength=\"110\" x=\"24.2\" y=\"20.9951\">TradeStudyTest</text></a><!--MD5=[b4997ac47864f28c2f74865a473b2911]\n",
       "class E2--><a href=\"psysml:6dc2e48d-4c08-4400-bc60-82a531af2780\" target=\"_top\" title=\"psysml:6dc2e48d-4c08-4400-bc60-82a531af2780\" xlink:actuate=\"onRequest\" xlink:href=\"psysml:6dc2e48d-4c08-4400-bc60-82a531af2780\" xlink:show=\"new\" xlink:title=\"psysml:6dc2e48d-4c08-4400-bc60-82a531af2780\" xlink:type=\"simple\"><rect fill=\"#FEFECE\" filter=\"url(#fwfnrph54vs9z)\" height=\"40\" id=\"E2\" style=\"stroke: #A80036; stroke-width: 1.5;\" width=\"75\" x=\"221.7\" y=\"423\"/><ellipse cx=\"236.7\" cy=\"439\" fill=\"#008000\" rx=\"11\" ry=\"11\" style=\"stroke: #A80036; stroke-width: 1.0;\"/><path d=\"M233.575,444 L233.575,433.4063 L236.8094,433.4063 Q238.7156,433.4063 239.6219,434.1563 Q240.5438,434.9063 240.5438,436.0781 Q240.5438,436.7656 240.1531,437.4219 Q239.7781,438.0781 239.0594,438.375 Q239.9188,438.75 240.4344,439.4375 Q240.95,440.125 240.95,440.9375 Q240.95,442.3125 239.9188,443.1563 Q238.9031,444 236.7938,444 L233.575,444 Z M235.4969,437.6406 L236.6531,437.6406 Q237.7781,437.6406 238.1844,437.2656 Q238.6063,436.875 238.6063,436.25 Q238.6063,435.6719 238.1844,435.3125 Q237.7625,434.9531 236.825,434.9531 L235.4969,434.9531 L235.4969,437.6406 Z M235.4969,442.4219 L236.9969,442.4219 Q237.9031,442.4219 238.4344,442.0313 Q238.9656,441.6406 238.9656,440.8906 Q238.9656,440.125 238.4656,439.6563 Q237.9656,439.1719 236.7,439.1719 L235.4969,439.1719 L235.4969,442.4219 Z \"/><text fill=\"#000000\" font-family=\"sans-serif\" font-size=\"12\" lengthAdjust=\"spacingAndGlyphs\" textLength=\"43\" x=\"250.7\" y=\"443.1543\">Engine</text><line style=\"stroke: #A80036; stroke-width: 1.5;\" x1=\"222.7\" x2=\"295.7\" y1=\"455\" y2=\"455\"/></a><!--MD5=[09b614a08d8cba4a07c9adeb5e0fee81]\n",
       "class E3--><a href=\"psysml:3defd9be-3b5d-4c6d-8f79-df776db84250\" target=\"_top\" title=\"psysml:3defd9be-3b5d-4c6d-8f79-df776db84250\" xlink:actuate=\"onRequest\" xlink:href=\"psysml:3defd9be-3b5d-4c6d-8f79-df776db84250\" xlink:show=\"new\" xlink:title=\"psysml:3defd9be-3b5d-4c6d-8f79-df776db84250\" xlink:type=\"simple\"><rect fill=\"#FEFECE\" filter=\"url(#fwfnrph54vs9z)\" height=\"45.9375\" id=\"E3\" rx=\"10\" ry=\"10\" style=\"stroke: #A80036; stroke-width: 1.5;\" width=\"134\" x=\"464.2\" y=\"316\"/><ellipse cx=\"479.2\" cy=\"334.9688\" fill=\"#32CD32\" rx=\"11\" ry=\"11\" style=\"stroke: #A80036; stroke-width: 1.0;\"/><path d=\"M476.0125,339.9688 L476.0125,329.375 L479.6219,329.375 Q480.8406,329.375 481.6375,329.8125 Q482.4344,330.2344 482.8094,330.9375 Q483.2,331.6406 483.2,332.4844 Q483.2,333.3281 482.825,334.0156 Q482.4656,334.7031 481.6688,335.125 Q480.8875,335.5313 479.7,335.5313 L477.9656,335.5313 L477.9656,339.9688 L476.0125,339.9688 Z M477.9656,333.9375 L479.575,333.9375 Q480.3875,333.9375 480.8094,333.5313 Q481.2313,333.125 481.2313,332.4844 Q481.2313,331.8594 480.8094,331.4531 Q480.3875,331.0469 479.5906,331.0469 L477.9656,331.0469 L477.9656,333.9375 Z \"/><text fill=\"#000000\" font-family=\"sans-serif\" font-size=\"12\" font-style=\"italic\" lengthAdjust=\"spacingAndGlyphs\" textLength=\"40\" x=\"524.2\" y=\"332.1387\">«part»</text><text fill=\"#000000\" font-family=\"sans-serif\" font-size=\"12\" lengthAdjust=\"spacingAndGlyphs\" textLength=\"102\" x=\"493.2\" y=\"346.1074\">engine1: Engine</text><line style=\"stroke: #A80036; stroke-width: 1.5;\" x1=\"465.2\" x2=\"597.2\" y1=\"353.9375\" y2=\"353.9375\"/></a><!--MD5=[ebbe1d658d1005bcc118a6aa81145e00]\n",
       "class E4--><a href=\"psysml:3a9a647b-2fd2-49b6-8a5f-7ce1649088e0\" target=\"_top\" title=\"psysml:3a9a647b-2fd2-49b6-8a5f-7ce1649088e0\" xlink:actuate=\"onRequest\" xlink:href=\"psysml:3a9a647b-2fd2-49b6-8a5f-7ce1649088e0\" xlink:show=\"new\" xlink:title=\"psysml:3a9a647b-2fd2-49b6-8a5f-7ce1649088e0\" xlink:type=\"simple\"><rect fill=\"#FEFECE\" filter=\"url(#fwfnrph54vs9z)\" height=\"45.9375\" id=\"E4\" rx=\"10\" ry=\"10\" style=\"stroke: #A80036; stroke-width: 1.5;\" width=\"134\" x=\"295.2\" y=\"316\"/><ellipse cx=\"310.2\" cy=\"334.9688\" fill=\"#32CD32\" rx=\"11\" ry=\"11\" style=\"stroke: #A80036; stroke-width: 1.0;\"/><path d=\"M307.0125,339.9688 L307.0125,329.375 L310.6219,329.375 Q311.8406,329.375 312.6375,329.8125 Q313.4344,330.2344 313.8094,330.9375 Q314.2,331.6406 314.2,332.4844 Q314.2,333.3281 313.825,334.0156 Q313.4656,334.7031 312.6688,335.125 Q311.8875,335.5313 310.7,335.5313 L308.9656,335.5313 L308.9656,339.9688 L307.0125,339.9688 Z M308.9656,333.9375 L310.575,333.9375 Q311.3875,333.9375 311.8094,333.5313 Q312.2313,333.125 312.2313,332.4844 Q312.2313,331.8594 311.8094,331.4531 Q311.3875,331.0469 310.5906,331.0469 L308.9656,331.0469 L308.9656,333.9375 Z \"/><text fill=\"#000000\" font-family=\"sans-serif\" font-size=\"12\" font-style=\"italic\" lengthAdjust=\"spacingAndGlyphs\" textLength=\"40\" x=\"355.2\" y=\"332.1387\">«part»</text><text fill=\"#000000\" font-family=\"sans-serif\" font-size=\"12\" lengthAdjust=\"spacingAndGlyphs\" textLength=\"102\" x=\"324.2\" y=\"346.1074\">engine2: Engine</text><line style=\"stroke: #A80036; stroke-width: 1.5;\" x1=\"296.2\" x2=\"428.2\" y1=\"353.9375\" y2=\"353.9375\"/></a><!--MD5=[270fce915f116d4de14055a7c1d9a0f3]\n",
       "class E5--><a href=\"psysml:4b9a9840-0888-40ad-997b-4be591991c45\" target=\"_top\" title=\"psysml:4b9a9840-0888-40ad-997b-4be591991c45\" xlink:actuate=\"onRequest\" xlink:href=\"psysml:4b9a9840-0888-40ad-997b-4be591991c45\" xlink:show=\"new\" xlink:title=\"psysml:4b9a9840-0888-40ad-997b-4be591991c45\" xlink:type=\"simple\"><rect fill=\"#FEFECE\" filter=\"url(#fwfnrph54vs9z)\" height=\"45.9375\" id=\"E5\" rx=\"10\" ry=\"10\" style=\"stroke: #A80036; stroke-width: 1.5;\" width=\"225\" x=\"283.7\" y=\"41\"/><ellipse cx=\"298.7\" cy=\"59.9688\" fill=\"#B6DBBB\" rx=\"11\" ry=\"11\" style=\"stroke: #A80036; stroke-width: 1.0;\"/><path d=\"M298.45,65.4375 Q296.7,65.4375 295.7469,64.4063 Q294.8094,63.3594 294.8094,61.5156 L294.8094,54.625 L296.8719,54.625 L296.8719,54.7813 Q296.7781,54.875 296.7469,55.0156 Q296.7313,55.1406 296.7313,55.4063 L296.7313,61.5313 Q296.7313,62.625 297.1063,63.25 Q297.4813,63.875 298.4656,63.875 Q299.45,63.875 299.8406,63.25 Q300.2313,62.625 300.2313,61.4844 L300.2313,54.625 L302.1063,54.625 L302.1063,61.4688 Q302.1063,63.5 301.075,64.4688 Q300.0594,65.4375 298.45,65.4375 Z \"/><text fill=\"#000000\" font-family=\"sans-serif\" font-size=\"12\" font-style=\"italic\" lengthAdjust=\"spacingAndGlyphs\" textLength=\"64\" x=\"377.2\" y=\"57.1387\">«analysis»</text><text fill=\"#000000\" font-family=\"sans-serif\" font-size=\"12\" lengthAdjust=\"spacingAndGlyphs\" textLength=\"193\" x=\"312.7\" y=\"71.1074\">engineTradeStudy: TradeStudy</text><line style=\"stroke: #A80036; stroke-width: 1.5;\" x1=\"284.7\" x2=\"507.7\" y1=\"78.9375\" y2=\"78.9375\"/></a><!--MD5=[60a26617385b1d2d0262a64233df1f8d]\n",
       "class E6--><a href=\"psysml:6d56d509-a272-42e3-905c-0e1bbd246da0\" target=\"_top\" title=\"psysml:6d56d509-a272-42e3-905c-0e1bbd246da0\" xlink:actuate=\"onRequest\" xlink:href=\"psysml:6d56d509-a272-42e3-905c-0e1bbd246da0\" xlink:show=\"new\" xlink:title=\"psysml:6d56d509-a272-42e3-905c-0e1bbd246da0\" xlink:type=\"simple\"><rect fill=\"#FEFECE\" filter=\"url(#fwfnrph54vs9z)\" height=\"45.9375\" id=\"E6\" rx=\"10\" ry=\"10\" style=\"stroke: #A80036; stroke-width: 1.5;\" width=\"277\" x=\"106.7\" y=\"164\"/><ellipse cx=\"121.7\" cy=\"182.9688\" fill=\"#FFA500\" rx=\"11\" ry=\"11\" style=\"stroke: #A80036; stroke-width: 1.0;\"/><path d=\"M121.45,188.4375 Q119.7,188.4375 118.7469,187.4063 Q117.8094,186.3594 117.8094,184.5156 L117.8094,177.625 L119.8719,177.625 L119.8719,177.7813 Q119.7781,177.875 119.7469,178.0156 Q119.7313,178.1406 119.7313,178.4063 L119.7313,184.5313 Q119.7313,185.625 120.1063,186.25 Q120.4813,186.875 121.4656,186.875 Q122.45,186.875 122.8406,186.25 Q123.2313,185.625 123.2313,184.4844 L123.2313,177.625 L125.1063,177.625 L125.1063,184.4688 Q125.1063,186.5 124.075,187.4688 Q123.0594,188.4375 121.45,188.4375 Z \"/><text fill=\"#000000\" font-family=\"sans-serif\" font-size=\"12\" font-style=\"italic\" lengthAdjust=\"spacingAndGlyphs\" textLength=\"91\" x=\"212.7\" y=\"180.1387\">«requirement»</text><text fill=\"#000000\" font-family=\"sans-serif\" font-size=\"12\" lengthAdjust=\"spacingAndGlyphs\" textLength=\"245\" x=\"135.7\" y=\"194.1074\">tradeStudyObjective: MaximizeObjective</text><line style=\"stroke: #A80036; stroke-width: 1.5;\" x1=\"107.7\" x2=\"382.7\" y1=\"201.9375\" y2=\"201.9375\"/></a><!--MD5=[2156ba9850f5573cc1fc38a6a4b2f02b]\n",
       "class E7--><a href=\"psysml:0d158b00-d202-4b1f-90aa-9fc427f4eb2b\" target=\"_top\" title=\"psysml:0d158b00-d202-4b1f-90aa-9fc427f4eb2b\" xlink:actuate=\"onRequest\" xlink:href=\"psysml:0d158b00-d202-4b1f-90aa-9fc427f4eb2b\" xlink:show=\"new\" xlink:title=\"psysml:0d158b00-d202-4b1f-90aa-9fc427f4eb2b\" xlink:type=\"simple\"><rect fill=\"#FEFECE\" filter=\"url(#fwfnrph54vs9z)\" height=\"45.9375\" id=\"E7\" rx=\"10\" ry=\"10\" style=\"stroke: #A80036; stroke-width: 1.5;\" width=\"142\" x=\"419.2\" y=\"164\"/><ellipse cx=\"434.2\" cy=\"182.9688\" fill=\"#FFA500\" rx=\"11\" ry=\"11\" style=\"stroke: #A80036; stroke-width: 1.0;\"/><path d=\"M433.95,188.4375 Q432.2,188.4375 431.2469,187.4063 Q430.3094,186.3594 430.3094,184.5156 L430.3094,177.625 L432.3719,177.625 L432.3719,177.7813 Q432.2781,177.875 432.2469,178.0156 Q432.2313,178.1406 432.2313,178.4063 L432.2313,184.5313 Q432.2313,185.625 432.6063,186.25 Q432.9813,186.875 433.9656,186.875 Q434.95,186.875 435.3406,186.25 Q435.7313,185.625 435.7313,184.4844 L435.7313,177.625 L437.6063,177.625 L437.6063,184.4688 Q437.6063,186.5 436.575,187.4688 Q435.5594,188.4375 433.95,188.4375 Z \"/><text fill=\"#000000\" font-family=\"sans-serif\" font-size=\"12\" font-style=\"italic\" lengthAdjust=\"spacingAndGlyphs\" textLength=\"82\" x=\"462.2\" y=\"180.1387\">«calculation»</text><text fill=\"#000000\" font-family=\"sans-serif\" font-size=\"12\" lengthAdjust=\"spacingAndGlyphs\" textLength=\"110\" x=\"448.2\" y=\"194.1074\">objectiveFunction</text><line style=\"stroke: #A80036; stroke-width: 1.5;\" x1=\"420.2\" x2=\"560.2\" y1=\"201.9375\" y2=\"201.9375\"/></a><!--MD5=[b9389687b975829384b498ac4b7476b2]\n",
       "class E8--><a href=\"psysml:e8d66f1b-2710-4767-99ee-f2812ccd7696\" target=\"_top\" title=\"psysml:e8d66f1b-2710-4767-99ee-f2812ccd7696\" xlink:actuate=\"onRequest\" xlink:href=\"psysml:e8d66f1b-2710-4767-99ee-f2812ccd7696\" xlink:show=\"new\" xlink:title=\"psysml:e8d66f1b-2710-4767-99ee-f2812ccd7696\" xlink:type=\"simple\"><rect fill=\"#FEFECE\" filter=\"url(#fwfnrph54vs9z)\" height=\"45.9375\" id=\"E8\" rx=\"10\" ry=\"10\" style=\"stroke: #A80036; stroke-width: 1.5;\" width=\"150\" x=\"73.2\" y=\"316\"/><ellipse cx=\"88.2\" cy=\"334.9688\" fill=\"#32CD32\" rx=\"11\" ry=\"11\" style=\"stroke: #A80036; stroke-width: 1.0;\"/><path d=\"M85.0125,339.9688 L85.0125,329.375 L88.6219,329.375 Q89.8406,329.375 90.6375,329.8125 Q91.4344,330.2344 91.8094,330.9375 Q92.2,331.6406 92.2,332.4844 Q92.2,333.3281 91.825,334.0156 Q91.4656,334.7031 90.6688,335.125 Q89.8875,335.5313 88.7,335.5313 L86.9656,335.5313 L86.9656,339.9688 L85.0125,339.9688 Z M86.9656,333.9375 L88.575,333.9375 Q89.3875,333.9375 89.8094,333.5313 Q90.2313,333.125 90.2313,332.4844 Q90.2313,331.8594 89.8094,331.4531 Q89.3875,331.0469 88.5906,331.0469 L86.9656,331.0469 L86.9656,333.9375 Z \"/><text fill=\"#000000\" font-family=\"sans-serif\" font-size=\"12\" font-style=\"italic\" lengthAdjust=\"spacingAndGlyphs\" textLength=\"40\" x=\"141.2\" y=\"332.1387\">«part»</text><text fill=\"#000000\" font-family=\"sans-serif\" font-size=\"12\" lengthAdjust=\"spacingAndGlyphs\" textLength=\"118\" x=\"102.2\" y=\"346.1074\">alternative: Engine</text><line style=\"stroke: #A80036; stroke-width: 1.5;\" x1=\"74.2\" x2=\"222.2\" y1=\"353.9375\" y2=\"353.9375\"/></a><!--MD5=[fd4143e9d270a159db93a4ea2a975926]\n",
       "class E9--><a href=\"psysml:d0667918-a428-4729-9680-50da29281cd4\" target=\"_top\" title=\"psysml:d0667918-a428-4729-9680-50da29281cd4\" xlink:actuate=\"onRequest\" xlink:href=\"psysml:d0667918-a428-4729-9680-50da29281cd4\" xlink:show=\"new\" xlink:title=\"psysml:d0667918-a428-4729-9680-50da29281cd4\" xlink:type=\"simple\"><rect fill=\"#FEFECE\" filter=\"url(#fwfnrph54vs9z)\" height=\"45.9375\" id=\"E9\" rx=\"10\" ry=\"10\" style=\"stroke: #A80036; stroke-width: 1.5;\" width=\"204\" x=\"275.2\" y=\"240\"/><ellipse cx=\"290.2\" cy=\"258.9688\" fill=\"#32CD32\" rx=\"11\" ry=\"11\" style=\"stroke: #A80036; stroke-width: 1.0;\"/><path d=\"M287.0125,263.9688 L287.0125,253.375 L290.6219,253.375 Q291.8406,253.375 292.6375,253.8125 Q293.4344,254.2344 293.8094,254.9375 Q294.2,255.6406 294.2,256.4844 Q294.2,257.3281 293.825,258.0156 Q293.4656,258.7031 292.6688,259.125 Q291.8875,259.5313 290.7,259.5313 L288.9656,259.5313 L288.9656,263.9688 L287.0125,263.9688 Z M288.9656,257.9375 L290.575,257.9375 Q291.3875,257.9375 291.8094,257.5313 Q292.2313,257.125 292.2313,256.4844 Q292.2313,255.8594 291.8094,255.4531 Q291.3875,255.0469 290.5906,255.0469 L288.9656,255.0469 L288.9656,257.9375 Z \"/><text fill=\"#000000\" font-family=\"sans-serif\" font-size=\"12\" font-style=\"italic\" lengthAdjust=\"spacingAndGlyphs\" textLength=\"40\" x=\"370.2\" y=\"256.1387\">«part»</text><text fill=\"#000000\" font-family=\"sans-serif\" font-size=\"12\" lengthAdjust=\"spacingAndGlyphs\" textLength=\"172\" x=\"304.2\" y=\"270.1074\">selectedAlternative: Engine</text><line style=\"stroke: #A80036; stroke-width: 1.5;\" x1=\"276.2\" x2=\"478.2\" y1=\"277.9375\" y2=\"277.9375\"/></a><!--MD5=[05d275557350bfb9b23a4ef7222b4c39]\n",
       "link E3 to E2--><a href=\"psysml:2c927883-7b33-4f30-b07f-44dca6adebf7\" target=\"_top\" title=\"psysml:2c927883-7b33-4f30-b07f-44dca6adebf7\" xlink:actuate=\"onRequest\" xlink:href=\"psysml:2c927883-7b33-4f30-b07f-44dca6adebf7\" xlink:show=\"new\" xlink:title=\"psysml:2c927883-7b33-4f30-b07f-44dca6adebf7\" xlink:type=\"simple\"><path d=\"M472.51,362.01 C426.12,379.4 361.76,403.54 315.9,420.74 \" fill=\"none\" id=\"E3-&gt;E2\" style=\"stroke: #A80036; stroke-width: 1.0;\"/><polygon fill=\"#FFFFFF\" points=\"296.87,427.87,312.2079,414.6508,317.1182,427.7614,296.87,427.87\" style=\"stroke: #A80036; stroke-width: 1.0;\"/><ellipse cx=\"318.2473\" cy=\"414.5245\" fill=\"#A80036\" rx=\"2\" ry=\"2\" style=\"stroke: #A80036; stroke-width: 1.0;\"/><ellipse cx=\"321.7546\" cy=\"423.8893\" fill=\"#A80036\" rx=\"2\" ry=\"2\" style=\"stroke: #A80036; stroke-width: 1.0;\"/></a><!--MD5=[185131fc0dcab0a4505a2ebe144e961b]\n",
       "link E4 to E2--><a href=\"psysml:59e46c20-b41c-4b83-8c8c-eff5ad41f1d7\" target=\"_top\" title=\"psysml:59e46c20-b41c-4b83-8c8c-eff5ad41f1d7\" xlink:actuate=\"onRequest\" xlink:href=\"psysml:59e46c20-b41c-4b83-8c8c-eff5ad41f1d7\" xlink:show=\"new\" xlink:title=\"psysml:59e46c20-b41c-4b83-8c8c-eff5ad41f1d7\" xlink:type=\"simple\"><path d=\"M339.85,362.13 C326.09,375.76 308.2,393.47 292.76,408.76 \" fill=\"none\" id=\"E4-&gt;E2\" style=\"stroke: #A80036; stroke-width: 1.0;\"/><polygon fill=\"#FFFFFF\" points=\"278.39,423,286.968,404.6583,296.8174,414.6077,278.39,423\" style=\"stroke: #A80036; stroke-width: 1.0;\"/><ellipse cx=\"292.4259\" cy=\"402.0695\" fill=\"#A80036\" rx=\"2\" ry=\"2\" style=\"stroke: #A80036; stroke-width: 1.0;\"/><ellipse cx=\"299.4612\" cy=\"409.1762\" fill=\"#A80036\" rx=\"2\" ry=\"2\" style=\"stroke: #A80036; stroke-width: 1.0;\"/></a><!--MD5=[15ebcb19ae302d9b601edb458606d402]\n",
       "link E5 to E2--><a href=\"psysml:d5cbdaa6-c586-4ab8-b2f7-038eda38592d\" target=\"_top\" title=\"psysml:d5cbdaa6-c586-4ab8-b2f7-038eda38592d\" xlink:actuate=\"onRequest\" xlink:href=\"psysml:d5cbdaa6-c586-4ab8-b2f7-038eda38592d\" xlink:show=\"new\" xlink:title=\"psysml:d5cbdaa6-c586-4ab8-b2f7-038eda38592d\" xlink:type=\"simple\"><path d=\"M283.33,73.88 C217.7,84.99 138.47,109.64 89.2,164 C29.29,230.1 6,288.25 56.2,362 C91.99,414.57 168.14,432.6 216.32,438.78 \" fill=\"none\" id=\"E5-&gt;E2\" style=\"stroke: #A80036; stroke-width: 1.0; stroke-dasharray: 7.0,7.0;\"/><polygon fill=\"#A80036\" points=\"221.48,439.41,213.0385,434.3365,216.5177,438.7968,212.0574,442.2761,221.48,439.41\" style=\"stroke: #A80036; stroke-width: 1.0;\"/><text fill=\"#000000\" font-family=\"sans-serif\" font-size=\"13\" lengthAdjust=\"spacingAndGlyphs\" textLength=\"62\" x=\"39.2\" y=\"267.5669\">«subject»</text></a><!--MD5=[9120cf2e5df3bff93db8f754bbbc09b4]\n",
       "link E5 to E6--><a href=\"psysml:14d02f99-86ef-419d-b64f-b983855c21b7\" target=\"_top\" title=\"psysml:14d02f99-86ef-419d-b64f-b983855c21b7\" xlink:actuate=\"onRequest\" xlink:href=\"psysml:14d02f99-86ef-419d-b64f-b983855c21b7\" xlink:show=\"new\" xlink:title=\"psysml:14d02f99-86ef-419d-b64f-b983855c21b7\" xlink:type=\"simple\"><path d=\"M368.5,87.19 C343.28,107.41 305.97,137.31 279,158.92 \" fill=\"none\" id=\"E5-&gt;E6\" style=\"stroke: #A80036; stroke-width: 1.0;\"/><polygon fill=\"#A80036\" points=\"272.72,163.95,280.8396,161.2905,277.0888,156.6074,272.72,163.95\" style=\"stroke: #A80036; stroke-width: 1.0;\"/><text fill=\"#000000\" font-family=\"sans-serif\" font-size=\"13\" lengthAdjust=\"spacingAndGlyphs\" textLength=\"73\" x=\"330.2\" y=\"130.0669\">«objective»</text></a><!--MD5=[452b418e7f8a40397a49b8c0a78acc5b]\n",
       "reverse link E5 to E7--><a href=\"psysml:60238b1f-3640-4bef-bde7-54f879504707\" target=\"_top\" title=\"psysml:60238b1f-3640-4bef-bde7-54f879504707\" xlink:actuate=\"onRequest\" xlink:href=\"psysml:60238b1f-3640-4bef-bde7-54f879504707\" xlink:show=\"new\" xlink:title=\"psysml:60238b1f-3640-4bef-bde7-54f879504707\" xlink:type=\"simple\"><path d=\"M421.52,97.59 C437.85,118.61 458.66,145.4 473.07,163.95 \" fill=\"none\" id=\"E5&lt;-E7\" style=\"stroke: #A80036; stroke-width: 1.0;\"/><polygon fill=\"#A80036\" points=\"413.44,87.19,413.9586,94.3824,420.7972,96.67,420.2786,89.4776,413.44,87.19\" style=\"stroke: #A80036; stroke-width: 1.0;\"/></a><!--MD5=[dc164f5e8a733ab456ef1add180e9e34]\n",
       "reverse link E7 to E8--><a href=\"psysml:83c02207-4172-44b5-b5b3-edd55ab7c0db\" target=\"_top\" title=\"psysml:83c02207-4172-44b5-b5b3-edd55ab7c0db\" xlink:actuate=\"onRequest\" xlink:href=\"psysml:83c02207-4172-44b5-b5b3-edd55ab7c0db\" xlink:show=\"new\" xlink:title=\"psysml:83c02207-4172-44b5-b5b3-edd55ab7c0db\" xlink:type=\"simple\"><path d=\"M406.09,208.88 C404.45,209.26 402.81,209.63 401.2,210 C337.89,224.46 316.18,210.75 258.2,240 C221.21,258.66 186.98,292.95 166.84,315.61 \" fill=\"none\" id=\"E7&lt;-E8\" style=\"stroke: #A80036; stroke-width: 1.0;\"/><polygon fill=\"#FFFFFF\" points=\"418.84,205.88,412.0846,203.3572,407.1576,208.6226,413.913,211.1454,418.84,205.88\" style=\"stroke: #A80036; stroke-width: 1.0;\"/><text fill=\"#000000\" font-family=\"sans-serif\" font-size=\"13\" lengthAdjust=\"spacingAndGlyphs\" textLength=\"8\" x=\"162.5915\" y=\"304.7864\">1</text></a><!--MD5=[f1f3f9f2fc535e6147756cb86a7f2e32]\n",
       "link E8 to E2--><a href=\"psysml:3fd357fc-9742-4e4a-b08f-00e5f8b92b2e\" target=\"_top\" title=\"psysml:3fd357fc-9742-4e4a-b08f-00e5f8b92b2e\" xlink:actuate=\"onRequest\" xlink:href=\"psysml:3fd357fc-9742-4e4a-b08f-00e5f8b92b2e\" xlink:show=\"new\" xlink:title=\"psysml:3fd357fc-9742-4e4a-b08f-00e5f8b92b2e\" xlink:type=\"simple\"><path d=\"M172.29,362.13 C187.26,375.9 206.8,393.84 223.55,409.24 \" fill=\"none\" id=\"E8-&gt;E2\" style=\"stroke: #A80036; stroke-width: 1.0;\"/><polygon fill=\"#FFFFFF\" points=\"238.52,423,219.7918,415.3024,229.2623,404.9918,238.52,423\" style=\"stroke: #A80036; stroke-width: 1.0;\"/><ellipse cx=\"216.9468\" cy=\"409.9736\" fill=\"#A80036\" rx=\"2\" ry=\"2\" style=\"stroke: #A80036; stroke-width: 1.0;\"/><ellipse cx=\"223.7115\" cy=\"402.6089\" fill=\"#A80036\" rx=\"2\" ry=\"2\" style=\"stroke: #A80036; stroke-width: 1.0;\"/></a><!--MD5=[9ae28de373ca99bb8a1b38d63370ca7e]\n",
       "reverse link E5 to E9--><a href=\"psysml:44393528-ee32-422a-b73c-7e5d578e1b67\" target=\"_top\" title=\"psysml:44393528-ee32-422a-b73c-7e5d578e1b67\" xlink:actuate=\"onRequest\" xlink:href=\"psysml:44393528-ee32-422a-b73c-7e5d578e1b67\" xlink:show=\"new\" xlink:title=\"psysml:44393528-ee32-422a-b73c-7e5d578e1b67\" xlink:type=\"simple\"><path d=\"M477.44,91.83 C542.71,117.79 617.64,160.42 579.2,210 C566.19,226.78 522.73,239.1 479.43,247.52 \" fill=\"none\" id=\"E5&lt;-E9\" style=\"stroke: #A80036; stroke-width: 1.0;\"/><polygon fill=\"#FFFFFF\" points=\"464.97,87.02,469.1253,92.9135,476.1637,91.3445,472.0083,85.451,464.97,87.02\" style=\"stroke: #A80036; stroke-width: 1.0;\"/><text fill=\"#000000\" font-family=\"sans-serif\" font-size=\"13\" lengthAdjust=\"spacingAndGlyphs\" textLength=\"8\" x=\"487.2313\" y=\"242.9065\">1</text></a><!--MD5=[5c3bb36fe832a92c7f0e1807dd65209d]\n",
       "link E9 to E2--><a href=\"psysml:fe7d5224-67e7-4f42-a679-f87e330c9f80\" target=\"_top\" title=\"psysml:fe7d5224-67e7-4f42-a679-f87e330c9f80\" xlink:actuate=\"onRequest\" xlink:href=\"psysml:fe7d5224-67e7-4f42-a679-f87e330c9f80\" xlink:show=\"new\" xlink:title=\"psysml:fe7d5224-67e7-4f42-a679-f87e330c9f80\" xlink:type=\"simple\"><path d=\"M313.67,286.14 C300.09,293.64 287.15,303.42 278.2,316 C260.36,341.07 256.3,376.08 256.31,402.84 \" fill=\"none\" id=\"E9-&gt;E2\" style=\"stroke: #A80036; stroke-width: 1.0;\"/><polygon fill=\"#FFFFFF\" points=\"257.06,422.97,249.3591,404.2431,263.3494,403.7231,257.06,422.97\" style=\"stroke: #A80036; stroke-width: 1.0;\"/><ellipse cx=\"251.146\" cy=\"398.4728\" fill=\"#A80036\" rx=\"2\" ry=\"2\" style=\"stroke: #A80036; stroke-width: 1.0;\"/><ellipse cx=\"261.1391\" cy=\"398.1013\" fill=\"#A80036\" rx=\"2\" ry=\"2\" style=\"stroke: #A80036; stroke-width: 1.0;\"/></a><!--MD5=[ffc2781a9170230b0d59c3f1313ab558]\n",
       "@startuml\r\n",
       " \r\n",
       "package \"TradeStudyTest\" as E1  [[psysml:ee7e22b2-7ed6-4f2c-8628-ec59eb221ec4 ]]  {\r\n",
       "comp def \"Engine\" as E2 << << (B,green) >> [[psysml:6dc2e48d-4c08-4400-bc60-82a531af2780 ]] {\r\n",
       "}\r\n",
       "comp usage \"engine1: Engine\" as E3 << << (P,limegreen) part>> [[psysml:3defd9be-3b5d-4c6d-8f79-df776db84250 ]] {\r\n",
       "}\r\n",
       "comp usage \"engine2: Engine\" as E4 << << (P,limegreen) part>> [[psysml:3a9a647b-2fd2-49b6-8a5f-7ce1649088e0 ]] {\r\n",
       "}\r\n",
       "comp usage \"engineTradeStudy: TradeStudy\" as E5 << analysis>> [[psysml:4b9a9840-0888-40ad-997b-4be591991c45 ]] {\r\n",
       "}\r\n",
       "comp usage \"tradeStudyObjective: MaximizeObjective\" as E6 << <<(U,orange) requirement>> [[psysml:6d56d509-a272-42e3-905c-0e1bbd246da0 ]] {\r\n",
       "}\r\n",
       "comp usage \"objectiveFunction\" as E7 << <<(U,orange) calculation>> [[psysml:0d158b00-d202-4b1f-90aa-9fc427f4eb2b ]] {\r\n",
       "}\r\n",
       "comp usage \"alternative: Engine\" as E8 << << (P,limegreen) part>> [[psysml:e8d66f1b-2710-4767-99ee-f2812ccd7696 ]] {\r\n",
       "}\r\n",
       "comp usage \"selectedAlternative: Engine\" as E9 << << (P,limegreen) part>> [[psysml:d0667918-a428-4729-9680-50da29281cd4 ]] {\r\n",
       "}\r\n",
       "}\r\n",
       "E3 - -:|> E2 [[psysml:2c927883-7b33-4f30-b07f-44dca6adebf7 ]] \r\n",
       "E4 - -:|> E2 [[psysml:59e46c20-b41c-4b83-8c8c-eff5ad41f1d7 ]] \r\n",
       "E5 ..> E2 [[psysml:d5cbdaa6-c586-4ab8-b2f7-038eda38592d ]] : <<subject>>\r\n",
       "E5 - ->> E6 [[psysml:14d02f99-86ef-419d-b64f-b983855c21b7 ]] : <<objective>>\r\n",
       "E5 *- - E7 [[psysml:60238b1f-3640-4bef-bde7-54f879504707 ]] \r\n",
       "E7 o- - \"1\"E8 [[psysml:83c02207-4172-44b5-b5b3-edd55ab7c0db ]] \r\n",
       "E8 - -:|> E2 [[psysml:3fd357fc-9742-4e4a-b08f-00e5f8b92b2e ]] \r\n",
       "E5 o- - \"1\"E9 [[psysml:44393528-ee32-422a-b73c-7e5d578e1b67 ]] \r\n",
       "E9 - -:|> E2 [[psysml:fe7d5224-67e7-4f42-a679-f87e330c9f80 ]] \r\n",
       "@enduml\r\n",
       "\n",
       "PlantUML version 1.2020.13(Sat Jun 13 12:26:38 UTC 2020)\n",
       "(EPL source distribution)\n",
       "Java Runtime: OpenJDK Runtime Environment\n",
       "JVM: OpenJDK 64-Bit Server VM\n",
       "Default Encoding: UTF-8\n",
       "Language: en\n",
       "Country: null\n",
       "--></g></svg>"
      ]
     },
     "execution_count": 36,
     "metadata": {},
     "output_type": "execute_result"
    }
   ],
   "source": [
    "%viz --style=\"PLANTUML\" --view=\"MIXED\" \"TradeStudyTest\""
   ]
  },
  {
   "cell_type": "code",
   "execution_count": 37,
   "id": "552a3c2c",
   "metadata": {
    "execution": {
     "iopub.execute_input": "2021-10-03T08:30:38.785277Z",
     "iopub.status.busy": "2021-10-03T08:30:38.784877Z",
     "iopub.status.idle": "2021-10-03T08:30:38.824433Z",
     "shell.execute_reply": "2021-10-03T08:30:38.824072Z"
    }
   },
   "outputs": [
    {
     "data": {
      "image/svg+xml": [
       "<?xml version=\"1.0\" encoding=\"UTF-8\" standalone=\"no\"?><svg xmlns=\"http://www.w3.org/2000/svg\" xmlns:xlink=\"http://www.w3.org/1999/xlink\" contentScriptType=\"application/ecmascript\" contentStyleType=\"text/css\" height=\"497px\" preserveAspectRatio=\"none\" style=\"width:556px;height:497px;\" version=\"1.1\" viewBox=\"0 0 556 497\" width=\"556px\" zoomAndPan=\"magnify\"><defs/><g><!--MD5=[fbc87193dbaf4d95561dea2c320d4a47]\n",
       "cluster E1--><a href=\"psysml:ee7e22b2-7ed6-4f2c-8628-ec59eb221ec4\" target=\"_top\" title=\"psysml:ee7e22b2-7ed6-4f2c-8628-ec59eb221ec4\" xlink:actuate=\"onRequest\" xlink:href=\"psysml:ee7e22b2-7ed6-4f2c-8628-ec59eb221ec4\" xlink:show=\"new\" xlink:title=\"psysml:ee7e22b2-7ed6-4f2c-8628-ec59eb221ec4\" xlink:type=\"simple\"><polygon fill=\"#FFFFFF\" points=\"18.32,6,134.32,6,141.32,28.2969,534.32,28.2969,534.32,485,18.32,485,18.32,6\" style=\"stroke: #000000; stroke-width: 1.5;\"/><line style=\"stroke: #000000; stroke-width: 1.5;\" x1=\"18.32\" x2=\"141.32\" y1=\"28.2969\" y2=\"28.2969\"/><text fill=\"#000000\" font-family=\"sans-serif\" font-size=\"14\" font-weight=\"bold\" lengthAdjust=\"spacingAndGlyphs\" textLength=\"110\" x=\"22.32\" y=\"20.9951\">TradeStudyTest</text></a><!--MD5=[b4997ac47864f28c2f74865a473b2911]\n",
       "class E2--><a href=\"psysml:6dc2e48d-4c08-4400-bc60-82a531af2780\" target=\"_top\" title=\"psysml:6dc2e48d-4c08-4400-bc60-82a531af2780\" xlink:actuate=\"onRequest\" xlink:href=\"psysml:6dc2e48d-4c08-4400-bc60-82a531af2780\" xlink:show=\"new\" xlink:title=\"psysml:6dc2e48d-4c08-4400-bc60-82a531af2780\" xlink:type=\"simple\"><rect fill=\"#FFFFFF\" height=\"45.9375\" id=\"E2\" style=\"stroke: #383838; stroke-width: 1.5;\" width=\"66\" x=\"198.32\" y=\"423\"/><text fill=\"#000000\" font-family=\"sans-serif\" font-size=\"12\" font-style=\"italic\" lengthAdjust=\"spacingAndGlyphs\" textLength=\"64\" x=\"199.32\" y=\"439.1387\">«part def»</text><text fill=\"#000000\" font-family=\"sans-serif\" font-size=\"12\" lengthAdjust=\"spacingAndGlyphs\" textLength=\"43\" x=\"209.82\" y=\"453.1074\">Engine</text><line style=\"stroke: #383838; stroke-width: 1.5;\" x1=\"199.32\" x2=\"263.32\" y1=\"460.9375\" y2=\"460.9375\"/></a><!--MD5=[09b614a08d8cba4a07c9adeb5e0fee81]\n",
       "class E3--><a href=\"psysml:3defd9be-3b5d-4c6d-8f79-df776db84250\" target=\"_top\" title=\"psysml:3defd9be-3b5d-4c6d-8f79-df776db84250\" xlink:actuate=\"onRequest\" xlink:href=\"psysml:3defd9be-3b5d-4c6d-8f79-df776db84250\" xlink:show=\"new\" xlink:title=\"psysml:3defd9be-3b5d-4c6d-8f79-df776db84250\" xlink:type=\"simple\"><rect fill=\"#FFFFFF\" height=\"45.9375\" id=\"E3\" rx=\"10\" ry=\"10\" style=\"stroke: #383838; stroke-width: 1.5;\" width=\"108\" x=\"410.32\" y=\"316\"/><text fill=\"#000000\" font-family=\"sans-serif\" font-size=\"12\" font-style=\"italic\" lengthAdjust=\"spacingAndGlyphs\" textLength=\"40\" x=\"444.32\" y=\"332.1387\">«part»</text><text fill=\"#000000\" font-family=\"sans-serif\" font-size=\"12\" lengthAdjust=\"spacingAndGlyphs\" textLength=\"102\" x=\"413.32\" y=\"346.1074\">engine1: Engine</text><line style=\"stroke: #383838; stroke-width: 1.5;\" x1=\"411.32\" x2=\"517.32\" y1=\"353.9375\" y2=\"353.9375\"/></a><!--MD5=[ebbe1d658d1005bcc118a6aa81145e00]\n",
       "class E4--><a href=\"psysml:3a9a647b-2fd2-49b6-8a5f-7ce1649088e0\" target=\"_top\" title=\"psysml:3a9a647b-2fd2-49b6-8a5f-7ce1649088e0\" xlink:actuate=\"onRequest\" xlink:href=\"psysml:3a9a647b-2fd2-49b6-8a5f-7ce1649088e0\" xlink:show=\"new\" xlink:title=\"psysml:3a9a647b-2fd2-49b6-8a5f-7ce1649088e0\" xlink:type=\"simple\"><rect fill=\"#FFFFFF\" height=\"45.9375\" id=\"E4\" rx=\"10\" ry=\"10\" style=\"stroke: #383838; stroke-width: 1.5;\" width=\"108\" x=\"267.32\" y=\"316\"/><text fill=\"#000000\" font-family=\"sans-serif\" font-size=\"12\" font-style=\"italic\" lengthAdjust=\"spacingAndGlyphs\" textLength=\"40\" x=\"301.32\" y=\"332.1387\">«part»</text><text fill=\"#000000\" font-family=\"sans-serif\" font-size=\"12\" lengthAdjust=\"spacingAndGlyphs\" textLength=\"102\" x=\"270.32\" y=\"346.1074\">engine2: Engine</text><line style=\"stroke: #383838; stroke-width: 1.5;\" x1=\"268.32\" x2=\"374.32\" y1=\"353.9375\" y2=\"353.9375\"/></a><!--MD5=[270fce915f116d4de14055a7c1d9a0f3]\n",
       "class E5--><a href=\"psysml:4b9a9840-0888-40ad-997b-4be591991c45\" target=\"_top\" title=\"psysml:4b9a9840-0888-40ad-997b-4be591991c45\" xlink:actuate=\"onRequest\" xlink:href=\"psysml:4b9a9840-0888-40ad-997b-4be591991c45\" xlink:show=\"new\" xlink:title=\"psysml:4b9a9840-0888-40ad-997b-4be591991c45\" xlink:type=\"simple\"><rect fill=\"#FFFFFF\" height=\"45.9375\" id=\"E5\" rx=\"10\" ry=\"10\" style=\"stroke: #383838; stroke-width: 1.5;\" width=\"199\" x=\"239.82\" y=\"41\"/><text fill=\"#000000\" font-family=\"sans-serif\" font-size=\"12\" font-style=\"italic\" lengthAdjust=\"spacingAndGlyphs\" textLength=\"64\" x=\"307.32\" y=\"57.1387\">«analysis»</text><text fill=\"#000000\" font-family=\"sans-serif\" font-size=\"12\" lengthAdjust=\"spacingAndGlyphs\" textLength=\"193\" x=\"242.82\" y=\"71.1074\">engineTradeStudy: TradeStudy</text><line style=\"stroke: #383838; stroke-width: 1.5;\" x1=\"240.82\" x2=\"437.82\" y1=\"78.9375\" y2=\"78.9375\"/></a><!--MD5=[60a26617385b1d2d0262a64233df1f8d]\n",
       "class E6--><a href=\"psysml:6d56d509-a272-42e3-905c-0e1bbd246da0\" target=\"_top\" title=\"psysml:6d56d509-a272-42e3-905c-0e1bbd246da0\" xlink:actuate=\"onRequest\" xlink:href=\"psysml:6d56d509-a272-42e3-905c-0e1bbd246da0\" xlink:show=\"new\" xlink:title=\"psysml:6d56d509-a272-42e3-905c-0e1bbd246da0\" xlink:type=\"simple\"><rect fill=\"#FFFFFF\" height=\"45.9375\" id=\"E6\" rx=\"10\" ry=\"10\" style=\"stroke: #383838; stroke-width: 1.5;\" width=\"251\" x=\"78.82\" y=\"164\"/><text fill=\"#000000\" font-family=\"sans-serif\" font-size=\"12\" font-style=\"italic\" lengthAdjust=\"spacingAndGlyphs\" textLength=\"91\" x=\"158.82\" y=\"180.1387\">«requirement»</text><text fill=\"#000000\" font-family=\"sans-serif\" font-size=\"12\" lengthAdjust=\"spacingAndGlyphs\" textLength=\"245\" x=\"81.82\" y=\"194.1074\">tradeStudyObjective: MaximizeObjective</text><line style=\"stroke: #383838; stroke-width: 1.5;\" x1=\"79.82\" x2=\"328.82\" y1=\"201.9375\" y2=\"201.9375\"/></a><!--MD5=[2156ba9850f5573cc1fc38a6a4b2f02b]\n",
       "class E7--><a href=\"psysml:0d158b00-d202-4b1f-90aa-9fc427f4eb2b\" target=\"_top\" title=\"psysml:0d158b00-d202-4b1f-90aa-9fc427f4eb2b\" xlink:actuate=\"onRequest\" xlink:href=\"psysml:0d158b00-d202-4b1f-90aa-9fc427f4eb2b\" xlink:show=\"new\" xlink:title=\"psysml:0d158b00-d202-4b1f-90aa-9fc427f4eb2b\" xlink:type=\"simple\"><rect fill=\"#FFFFFF\" height=\"45.9375\" id=\"E7\" rx=\"10\" ry=\"10\" style=\"stroke: #383838; stroke-width: 1.5;\" width=\"116\" x=\"365.32\" y=\"164\"/><text fill=\"#000000\" font-family=\"sans-serif\" font-size=\"12\" font-style=\"italic\" lengthAdjust=\"spacingAndGlyphs\" textLength=\"82\" x=\"382.32\" y=\"180.1387\">«calculation»</text><text fill=\"#000000\" font-family=\"sans-serif\" font-size=\"12\" lengthAdjust=\"spacingAndGlyphs\" textLength=\"110\" x=\"368.32\" y=\"194.1074\">objectiveFunction</text><line style=\"stroke: #383838; stroke-width: 1.5;\" x1=\"366.32\" x2=\"480.32\" y1=\"201.9375\" y2=\"201.9375\"/></a><!--MD5=[b9389687b975829384b498ac4b7476b2]\n",
       "class E8--><a href=\"psysml:e8d66f1b-2710-4767-99ee-f2812ccd7696\" target=\"_top\" title=\"psysml:e8d66f1b-2710-4767-99ee-f2812ccd7696\" xlink:actuate=\"onRequest\" xlink:href=\"psysml:e8d66f1b-2710-4767-99ee-f2812ccd7696\" xlink:show=\"new\" xlink:title=\"psysml:e8d66f1b-2710-4767-99ee-f2812ccd7696\" xlink:type=\"simple\"><rect fill=\"#FFFFFF\" height=\"45.9375\" id=\"E8\" rx=\"10\" ry=\"10\" style=\"stroke: #383838; stroke-width: 1.5;\" width=\"124\" x=\"71.32\" y=\"316\"/><text fill=\"#000000\" font-family=\"sans-serif\" font-size=\"12\" font-style=\"italic\" lengthAdjust=\"spacingAndGlyphs\" textLength=\"40\" x=\"113.32\" y=\"332.1387\">«part»</text><text fill=\"#000000\" font-family=\"sans-serif\" font-size=\"12\" lengthAdjust=\"spacingAndGlyphs\" textLength=\"118\" x=\"74.32\" y=\"346.1074\">alternative: Engine</text><line style=\"stroke: #383838; stroke-width: 1.5;\" x1=\"72.32\" x2=\"194.32\" y1=\"353.9375\" y2=\"353.9375\"/></a><!--MD5=[fd4143e9d270a159db93a4ea2a975926]\n",
       "class E9--><a href=\"psysml:d0667918-a428-4729-9680-50da29281cd4\" target=\"_top\" title=\"psysml:d0667918-a428-4729-9680-50da29281cd4\" xlink:actuate=\"onRequest\" xlink:href=\"psysml:d0667918-a428-4729-9680-50da29281cd4\" xlink:show=\"new\" xlink:title=\"psysml:d0667918-a428-4729-9680-50da29281cd4\" xlink:type=\"simple\"><rect fill=\"#FFFFFF\" height=\"45.9375\" id=\"E9\" rx=\"10\" ry=\"10\" style=\"stroke: #383838; stroke-width: 1.5;\" width=\"178\" x=\"291.32\" y=\"240\"/><text fill=\"#000000\" font-family=\"sans-serif\" font-size=\"12\" font-style=\"italic\" lengthAdjust=\"spacingAndGlyphs\" textLength=\"40\" x=\"360.32\" y=\"256.1387\">«part»</text><text fill=\"#000000\" font-family=\"sans-serif\" font-size=\"12\" lengthAdjust=\"spacingAndGlyphs\" textLength=\"172\" x=\"294.32\" y=\"270.1074\">selectedAlternative: Engine</text><line style=\"stroke: #383838; stroke-width: 1.5;\" x1=\"292.32\" x2=\"468.32\" y1=\"277.9375\" y2=\"277.9375\"/></a><!--MD5=[05d275557350bfb9b23a4ef7222b4c39]\n",
       "link E3 to E2--><a href=\"psysml:2c927883-7b33-4f30-b07f-44dca6adebf7\" target=\"_top\" title=\"psysml:2c927883-7b33-4f30-b07f-44dca6adebf7\" xlink:actuate=\"onRequest\" xlink:href=\"psysml:2c927883-7b33-4f30-b07f-44dca6adebf7\" xlink:show=\"new\" xlink:title=\"psysml:2c927883-7b33-4f30-b07f-44dca6adebf7\" xlink:type=\"simple\"><path d=\"M415.48,362.01 C376.57,379.54 322.27,404.01 282.71,421.84 \" fill=\"none\" id=\"E3-&gt;E2\" style=\"stroke: #383838; stroke-width: 1.0;\"/><polygon fill=\"#FFFFFF\" points=\"264.34,430.12,278.7866,415.9321,284.5383,428.696,264.34,430.12\" style=\"stroke: #383838; stroke-width: 1.0;\"/><ellipse cx=\"284.805\" cy=\"415.4137\" fill=\"#383838\" rx=\"2\" ry=\"2\" style=\"stroke: #383838; stroke-width: 1.0;\"/><ellipse cx=\"288.9134\" cy=\"424.5308\" fill=\"#383838\" rx=\"2\" ry=\"2\" style=\"stroke: #383838; stroke-width: 1.0;\"/></a><!--MD5=[185131fc0dcab0a4505a2ebe144e961b]\n",
       "link E4 to E2--><a href=\"psysml:59e46c20-b41c-4b83-8c8c-eff5ad41f1d7\" target=\"_top\" title=\"psysml:59e46c20-b41c-4b83-8c8c-eff5ad41f1d7\" xlink:actuate=\"onRequest\" xlink:href=\"psysml:59e46c20-b41c-4b83-8c8c-eff5ad41f1d7\" xlink:show=\"new\" xlink:title=\"psysml:59e46c20-b41c-4b83-8c8c-eff5ad41f1d7\" xlink:type=\"simple\"><path d=\"M302.45,362.01 C291.25,375.08 276.74,392.01 263.74,407.17 \" fill=\"none\" id=\"E4-&gt;E2\" style=\"stroke: #383838; stroke-width: 1.0;\"/><polygon fill=\"#FFFFFF\" points=\"250.47,422.66,257.5188,403.678,268.1491,412.7883,250.47,422.66\" style=\"stroke: #383838; stroke-width: 1.0;\"/><ellipse cx=\"262.7466\" cy=\"400.6515\" fill=\"#383838\" rx=\"2\" ry=\"2\" style=\"stroke: #383838; stroke-width: 1.0;\"/><ellipse cx=\"270.3396\" cy=\"407.1588\" fill=\"#383838\" rx=\"2\" ry=\"2\" style=\"stroke: #383838; stroke-width: 1.0;\"/></a><!--MD5=[15ebcb19ae302d9b601edb458606d402]\n",
       "link E5 to E2--><a href=\"psysml:d5cbdaa6-c586-4ab8-b2f7-038eda38592d\" target=\"_top\" title=\"psysml:d5cbdaa6-c586-4ab8-b2f7-038eda38592d\" xlink:actuate=\"onRequest\" xlink:href=\"psysml:d5cbdaa6-c586-4ab8-b2f7-038eda38592d\" xlink:show=\"new\" xlink:title=\"psysml:d5cbdaa6-c586-4ab8-b2f7-038eda38592d\" xlink:type=\"simple\"><path d=\"M239.76,73.22 C177.99,83.96 102.74,108.45 61.32,164 C8.68,234.61 6,287.72 53.32,362 C83.95,410.08 150.5,430.76 192.99,439.32 \" fill=\"none\" id=\"E5-&gt;E2\" style=\"stroke: #383838; stroke-width: 1.0; stroke-dasharray: 7.0,7.0;\"/><polygon fill=\"#383838\" points=\"198.04,440.31,189.9738,434.6588,193.1327,439.3514,188.4401,442.5104,198.04,440.31\" style=\"stroke: #383838; stroke-width: 1.0;\"/><text fill=\"#000000\" font-family=\"sans-serif\" font-size=\"13\" lengthAdjust=\"spacingAndGlyphs\" textLength=\"62\" x=\"24.32\" y=\"267.5669\">«subject»</text></a><!--MD5=[9120cf2e5df3bff93db8f754bbbc09b4]\n",
       "link E5 to E6--><a href=\"psysml:14d02f99-86ef-419d-b64f-b983855c21b7\" target=\"_top\" title=\"psysml:14d02f99-86ef-419d-b64f-b983855c21b7\" xlink:actuate=\"onRequest\" xlink:href=\"psysml:14d02f99-86ef-419d-b64f-b983855c21b7\" xlink:show=\"new\" xlink:title=\"psysml:14d02f99-86ef-419d-b64f-b983855c21b7\" xlink:type=\"simple\"><path d=\"M314.56,87.19 C292.2,107.23 259.21,136.8 235.15,158.37 \" fill=\"none\" id=\"E5-&gt;E6\" style=\"stroke: #383838; stroke-width: 1.0;\"/><polygon fill=\"#383838\" points=\"228.92,163.95,236.8786,160.8419,232.8725,156.3752,228.92,163.95\" style=\"stroke: #383838; stroke-width: 1.0;\"/><text fill=\"#000000\" font-family=\"sans-serif\" font-size=\"13\" lengthAdjust=\"spacingAndGlyphs\" textLength=\"73\" x=\"280.32\" y=\"130.0669\">«objective»</text></a><!--MD5=[452b418e7f8a40397a49b8c0a78acc5b]\n",
       "reverse link E5 to E7--><a href=\"psysml:60238b1f-3640-4bef-bde7-54f879504707\" target=\"_top\" title=\"psysml:60238b1f-3640-4bef-bde7-54f879504707\" xlink:actuate=\"onRequest\" xlink:href=\"psysml:60238b1f-3640-4bef-bde7-54f879504707\" xlink:show=\"new\" xlink:title=\"psysml:60238b1f-3640-4bef-bde7-54f879504707\" xlink:type=\"simple\"><path d=\"M362.14,97.88 C376.71,118.86 395.19,145.48 408.01,163.95 \" fill=\"none\" id=\"E5&lt;-E7\" style=\"stroke: #383838; stroke-width: 1.0;\"/><polygon fill=\"#383838\" points=\"354.73,87.19,354.864,94.3999,361.5708,97.0492,361.4368,89.8393,354.73,87.19\" style=\"stroke: #383838; stroke-width: 1.0;\"/></a><!--MD5=[dc164f5e8a733ab456ef1add180e9e34]\n",
       "reverse link E7 to E8--><a href=\"psysml:83c02207-4172-44b5-b5b3-edd55ab7c0db\" target=\"_top\" title=\"psysml:83c02207-4172-44b5-b5b3-edd55ab7c0db\" xlink:actuate=\"onRequest\" xlink:href=\"psysml:83c02207-4172-44b5-b5b3-edd55ab7c0db\" xlink:show=\"new\" xlink:title=\"psysml:83c02207-4172-44b5-b5b3-edd55ab7c0db\" xlink:type=\"simple\"><path d=\"M352.67,208.29 C327.33,216.69 298.96,227.44 274.32,240 C231.96,261.6 187.65,294.33 160.26,315.93 \" fill=\"none\" id=\"E7&lt;-E8\" style=\"stroke: #383838; stroke-width: 1.0;\"/><polygon fill=\"#FFFFFF\" points=\"365.22,204.24,358.2818,202.2749,353.7994,207.9236,360.7376,209.8887,365.22,204.24\" style=\"stroke: #383838; stroke-width: 1.0;\"/><text fill=\"#000000\" font-family=\"sans-serif\" font-size=\"13\" lengthAdjust=\"spacingAndGlyphs\" textLength=\"8\" x=\"158.4251\" y=\"304.8075\">1</text></a><!--MD5=[f1f3f9f2fc535e6147756cb86a7f2e32]\n",
       "link E8 to E2--><a href=\"psysml:3fd357fc-9742-4e4a-b08f-00e5f8b92b2e\" target=\"_top\" title=\"psysml:3fd357fc-9742-4e4a-b08f-00e5f8b92b2e\" xlink:actuate=\"onRequest\" xlink:href=\"psysml:3fd357fc-9742-4e4a-b08f-00e5f8b92b2e\" xlink:show=\"new\" xlink:title=\"psysml:3fd357fc-9742-4e4a-b08f-00e5f8b92b2e\" xlink:type=\"simple\"><path d=\"M153.86,362.01 C166.19,375.22 182.2,392.38 196.46,407.65 \" fill=\"none\" id=\"E8-&gt;E2\" style=\"stroke: #383838; stroke-width: 1.0;\"/><polygon fill=\"#FFFFFF\" points=\"210.47,422.66,192.3921,413.5393,202.6305,403.9907,210.47,422.66\" style=\"stroke: #383838; stroke-width: 1.0;\"/><ellipse cx=\"189.9671\" cy=\"408.0067\" fill=\"#383838\" rx=\"2\" ry=\"2\" style=\"stroke: #383838; stroke-width: 1.0;\"/><ellipse cx=\"197.2802\" cy=\"401.1863\" fill=\"#383838\" rx=\"2\" ry=\"2\" style=\"stroke: #383838; stroke-width: 1.0;\"/></a><!--MD5=[9ae28de373ca99bb8a1b38d63370ca7e]\n",
       "reverse link E5 to E9--><a href=\"psysml:44393528-ee32-422a-b73c-7e5d578e1b67\" target=\"_top\" title=\"psysml:44393528-ee32-422a-b73c-7e5d578e1b67\" xlink:actuate=\"onRequest\" xlink:href=\"psysml:44393528-ee32-422a-b73c-7e5d578e1b67\" xlink:show=\"new\" xlink:title=\"psysml:44393528-ee32-422a-b73c-7e5d578e1b67\" xlink:type=\"simple\"><path d=\"M416.08,92.77 C447.78,108.48 481.27,131.61 499.32,164 C509.27,181.86 510.51,192.89 499.32,210 C490.86,222.92 478.41,232.65 464.71,239.97 \" fill=\"none\" id=\"E5&lt;-E9\" style=\"stroke: #383838; stroke-width: 1.0;\"/><polygon fill=\"#FFFFFF\" points=\"404.06,87.11,407.7814,93.2867,414.9142,92.2272,411.1928,86.0505,404.06,87.11\" style=\"stroke: #383838; stroke-width: 1.0;\"/><text fill=\"#000000\" font-family=\"sans-serif\" font-size=\"13\" lengthAdjust=\"spacingAndGlyphs\" textLength=\"8\" x=\"477.3099\" y=\"229.2386\">1</text></a><!--MD5=[5c3bb36fe832a92c7f0e1807dd65209d]\n",
       "link E9 to E2--><a href=\"psysml:fe7d5224-67e7-4f42-a679-f87e330c9f80\" target=\"_top\" title=\"psysml:fe7d5224-67e7-4f42-a679-f87e330c9f80\" xlink:actuate=\"onRequest\" xlink:href=\"psysml:fe7d5224-67e7-4f42-a679-f87e330c9f80\" xlink:show=\"new\" xlink:title=\"psysml:fe7d5224-67e7-4f42-a679-f87e330c9f80\" xlink:type=\"simple\"><path d=\"M291.19,285.15 C275.57,292.56 260.94,302.55 250.32,316 C231.17,340.25 227.04,375.32 227.36,402.77 \" fill=\"none\" id=\"E9-&gt;E2\" style=\"stroke: #383838; stroke-width: 1.0;\"/><polygon fill=\"#FFFFFF\" points=\"228.36,422.81,220.4186,404.1838,234.4011,403.4837,228.36,422.81\" style=\"stroke: #383838; stroke-width: 1.0;\"/><ellipse cx=\"222.131\" cy=\"398.3909\" fill=\"#383838\" rx=\"2\" ry=\"2\" style=\"stroke: #383838; stroke-width: 1.0;\"/><ellipse cx=\"232.1185\" cy=\"397.8909\" fill=\"#383838\" rx=\"2\" ry=\"2\" style=\"stroke: #383838; stroke-width: 1.0;\"/></a><!--MD5=[f56d6629be01f8a8628702cf931cb243]\n",
       "@startuml\r\n",
       "skinparam monochrome true\r\n",
       "skinparam classbackgroundcolor white\r\n",
       "skinparam shadowing false\r\n",
       "skinparam wrapWidth 300\r\n",
       "hide circle\r\n",
       "\r\n",
       "package \"TradeStudyTest\" as E1  [[psysml:ee7e22b2-7ed6-4f2c-8628-ec59eb221ec4 ]]  {\r\n",
       "comp def \"Engine\" as E2  <<(T,blue) part def>> [[psysml:6dc2e48d-4c08-4400-bc60-82a531af2780 ]] {\r\n",
       "}\r\n",
       "comp usage \"engine1: Engine\" as E3  <<(T,blue) part>> [[psysml:3defd9be-3b5d-4c6d-8f79-df776db84250 ]] {\r\n",
       "}\r\n",
       "comp usage \"engine2: Engine\" as E4  <<(T,blue) part>> [[psysml:3a9a647b-2fd2-49b6-8a5f-7ce1649088e0 ]] {\r\n",
       "}\r\n",
       "comp usage \"engineTradeStudy: TradeStudy\" as E5 << analysis>> [[psysml:4b9a9840-0888-40ad-997b-4be591991c45 ]] {\r\n",
       "}\r\n",
       "comp usage \"tradeStudyObjective: MaximizeObjective\" as E6  <<(T,blue) requirement>> [[psysml:6d56d509-a272-42e3-905c-0e1bbd246da0 ]] {\r\n",
       "}\r\n",
       "comp usage \"objectiveFunction\" as E7  <<(T,blue) calculation>> [[psysml:0d158b00-d202-4b1f-90aa-9fc427f4eb2b ]] {\r\n",
       "}\r\n",
       "comp usage \"alternative: Engine\" as E8  <<(T,blue) part>> [[psysml:e8d66f1b-2710-4767-99ee-f2812ccd7696 ]] {\r\n",
       "}\r\n",
       "comp usage \"selectedAlternative: Engine\" as E9  <<(T,blue) part>> [[psysml:d0667918-a428-4729-9680-50da29281cd4 ]] {\r\n",
       "}\r\n",
       "}\r\n",
       "E3 - -:|> E2 [[psysml:2c927883-7b33-4f30-b07f-44dca6adebf7 ]] \r\n",
       "E4 - -:|> E2 [[psysml:59e46c20-b41c-4b83-8c8c-eff5ad41f1d7 ]] \r\n",
       "E5 ..> E2 [[psysml:d5cbdaa6-c586-4ab8-b2f7-038eda38592d ]] : <<subject>>\r\n",
       "E5 - ->> E6 [[psysml:14d02f99-86ef-419d-b64f-b983855c21b7 ]] : <<objective>>\r\n",
       "E5 *- - E7 [[psysml:60238b1f-3640-4bef-bde7-54f879504707 ]] \r\n",
       "E7 o- - \"1\"E8 [[psysml:83c02207-4172-44b5-b5b3-edd55ab7c0db ]] \r\n",
       "E8 - -:|> E2 [[psysml:3fd357fc-9742-4e4a-b08f-00e5f8b92b2e ]] \r\n",
       "E5 o- - \"1\"E9 [[psysml:44393528-ee32-422a-b73c-7e5d578e1b67 ]] \r\n",
       "E9 - -:|> E2 [[psysml:fe7d5224-67e7-4f42-a679-f87e330c9f80 ]] \r\n",
       "@enduml\r\n",
       "\n",
       "PlantUML version 1.2020.13(Sat Jun 13 12:26:38 UTC 2020)\n",
       "(EPL source distribution)\n",
       "Java Runtime: OpenJDK Runtime Environment\n",
       "JVM: OpenJDK 64-Bit Server VM\n",
       "Default Encoding: UTF-8\n",
       "Language: en\n",
       "Country: null\n",
       "--></g></svg>"
      ]
     },
     "execution_count": 37,
     "metadata": {},
     "output_type": "execute_result"
    }
   ],
   "source": [
    "%viz --style=\"DEFAULT\" --view=\"Default\" \"TradeStudyTest\""
   ]
  },
  {
   "cell_type": "code",
   "execution_count": 38,
   "id": "82fff774",
   "metadata": {
    "execution": {
     "iopub.execute_input": "2021-10-03T08:30:38.873394Z",
     "iopub.status.busy": "2021-10-03T08:30:38.872997Z",
     "iopub.status.idle": "2021-10-03T08:30:38.906536Z",
     "shell.execute_reply": "2021-10-03T08:30:38.906848Z"
    }
   },
   "outputs": [
    {
     "data": {
      "image/svg+xml": [
       "<?xml version=\"1.0\" encoding=\"UTF-8\" standalone=\"no\"?><svg xmlns=\"http://www.w3.org/2000/svg\" xmlns:xlink=\"http://www.w3.org/1999/xlink\" contentScriptType=\"application/ecmascript\" contentStyleType=\"text/css\" height=\"345px\" preserveAspectRatio=\"none\" style=\"width:955px;height:345px;\" version=\"1.1\" viewBox=\"0 0 955 345\" width=\"955px\" zoomAndPan=\"magnify\"><defs/><g><!--MD5=[fbc87193dbaf4d95561dea2c320d4a47]\n",
       "cluster E1--><a href=\"psysml:ee7e22b2-7ed6-4f2c-8628-ec59eb221ec4\" target=\"_top\" title=\"psysml:ee7e22b2-7ed6-4f2c-8628-ec59eb221ec4\" xlink:actuate=\"onRequest\" xlink:href=\"psysml:ee7e22b2-7ed6-4f2c-8628-ec59eb221ec4\" xlink:show=\"new\" xlink:title=\"psysml:ee7e22b2-7ed6-4f2c-8628-ec59eb221ec4\" xlink:type=\"simple\"><polygon fill=\"#FFFFFF\" points=\"16,6,132,6,139,28.2969,933,28.2969,933,333,16,333,16,6\" style=\"stroke: #000000; stroke-width: 1.5;\"/><line style=\"stroke: #000000; stroke-width: 1.5;\" x1=\"16\" x2=\"139\" y1=\"28.2969\" y2=\"28.2969\"/><text fill=\"#000000\" font-family=\"sans-serif\" font-size=\"14\" font-weight=\"bold\" lengthAdjust=\"spacingAndGlyphs\" textLength=\"110\" x=\"20\" y=\"20.9951\">TradeStudyTest</text></a><!--MD5=[b4997ac47864f28c2f74865a473b2911]\n",
       "class E2--><a href=\"psysml:6dc2e48d-4c08-4400-bc60-82a531af2780\" target=\"_top\" title=\"psysml:6dc2e48d-4c08-4400-bc60-82a531af2780\" xlink:actuate=\"onRequest\" xlink:href=\"psysml:6dc2e48d-4c08-4400-bc60-82a531af2780\" xlink:show=\"new\" xlink:title=\"psysml:6dc2e48d-4c08-4400-bc60-82a531af2780\" xlink:type=\"simple\"><rect fill=\"#FFFFFF\" height=\"45.9375\" id=\"E2\" style=\"stroke: #383838; stroke-width: 1.5;\" width=\"66\" x=\"598\" y=\"271\"/><text fill=\"#000000\" font-family=\"sans-serif\" font-size=\"12\" font-style=\"italic\" lengthAdjust=\"spacingAndGlyphs\" textLength=\"64\" x=\"599\" y=\"287.1387\">«part def»</text><text fill=\"#000000\" font-family=\"sans-serif\" font-size=\"12\" lengthAdjust=\"spacingAndGlyphs\" textLength=\"43\" x=\"609.5\" y=\"301.1074\">Engine</text><line style=\"stroke: #383838; stroke-width: 1.5;\" x1=\"599\" x2=\"663\" y1=\"308.9375\" y2=\"308.9375\"/></a><!--MD5=[09b614a08d8cba4a07c9adeb5e0fee81]\n",
       "class E3--><a href=\"psysml:3defd9be-3b5d-4c6d-8f79-df776db84250\" target=\"_top\" title=\"psysml:3defd9be-3b5d-4c6d-8f79-df776db84250\" xlink:actuate=\"onRequest\" xlink:href=\"psysml:3defd9be-3b5d-4c6d-8f79-df776db84250\" xlink:show=\"new\" xlink:title=\"psysml:3defd9be-3b5d-4c6d-8f79-df776db84250\" xlink:type=\"simple\"><rect fill=\"#FFFFFF\" height=\"45.9375\" id=\"E3\" rx=\"10\" ry=\"10\" style=\"stroke: #383838; stroke-width: 1.5;\" width=\"108\" x=\"809\" y=\"164\"/><text fill=\"#000000\" font-family=\"sans-serif\" font-size=\"12\" font-style=\"italic\" lengthAdjust=\"spacingAndGlyphs\" textLength=\"40\" x=\"843\" y=\"180.1387\">«part»</text><text fill=\"#000000\" font-family=\"sans-serif\" font-size=\"12\" lengthAdjust=\"spacingAndGlyphs\" textLength=\"102\" x=\"812\" y=\"194.1074\">engine1: Engine</text><line style=\"stroke: #383838; stroke-width: 1.5;\" x1=\"810\" x2=\"916\" y1=\"201.9375\" y2=\"201.9375\"/></a><!--MD5=[ebbe1d658d1005bcc118a6aa81145e00]\n",
       "class E4--><a href=\"psysml:3a9a647b-2fd2-49b6-8a5f-7ce1649088e0\" target=\"_top\" title=\"psysml:3a9a647b-2fd2-49b6-8a5f-7ce1649088e0\" xlink:actuate=\"onRequest\" xlink:href=\"psysml:3a9a647b-2fd2-49b6-8a5f-7ce1649088e0\" xlink:show=\"new\" xlink:title=\"psysml:3a9a647b-2fd2-49b6-8a5f-7ce1649088e0\" xlink:type=\"simple\"><rect fill=\"#FFFFFF\" height=\"45.9375\" id=\"E4\" rx=\"10\" ry=\"10\" style=\"stroke: #383838; stroke-width: 1.5;\" width=\"108\" x=\"666\" y=\"164\"/><text fill=\"#000000\" font-family=\"sans-serif\" font-size=\"12\" font-style=\"italic\" lengthAdjust=\"spacingAndGlyphs\" textLength=\"40\" x=\"700\" y=\"180.1387\">«part»</text><text fill=\"#000000\" font-family=\"sans-serif\" font-size=\"12\" lengthAdjust=\"spacingAndGlyphs\" textLength=\"102\" x=\"669\" y=\"194.1074\">engine2: Engine</text><line style=\"stroke: #383838; stroke-width: 1.5;\" x1=\"667\" x2=\"773\" y1=\"201.9375\" y2=\"201.9375\"/></a><!--MD5=[270fce915f116d4de14055a7c1d9a0f3]\n",
       "class E5--><a href=\"psysml:4b9a9840-0888-40ad-997b-4be591991c45\" target=\"_top\" title=\"psysml:4b9a9840-0888-40ad-997b-4be591991c45\" xlink:actuate=\"onRequest\" xlink:href=\"psysml:4b9a9840-0888-40ad-997b-4be591991c45\" xlink:show=\"new\" xlink:title=\"psysml:4b9a9840-0888-40ad-997b-4be591991c45\" xlink:type=\"simple\"><rect fill=\"#FFFFFF\" height=\"45.9375\" id=\"E5\" rx=\"10\" ry=\"10\" style=\"stroke: #383838; stroke-width: 1.5;\" width=\"199\" x=\"192.5\" y=\"41\"/><text fill=\"#000000\" font-family=\"sans-serif\" font-size=\"12\" font-style=\"italic\" lengthAdjust=\"spacingAndGlyphs\" textLength=\"64\" x=\"260\" y=\"57.1387\">«analysis»</text><text fill=\"#000000\" font-family=\"sans-serif\" font-size=\"12\" lengthAdjust=\"spacingAndGlyphs\" textLength=\"193\" x=\"195.5\" y=\"71.1074\">engineTradeStudy: TradeStudy</text><line style=\"stroke: #383838; stroke-width: 1.5;\" x1=\"193.5\" x2=\"390.5\" y1=\"78.9375\" y2=\"78.9375\"/></a><!--MD5=[60a26617385b1d2d0262a64233df1f8d]\n",
       "class E6--><a href=\"psysml:6d56d509-a272-42e3-905c-0e1bbd246da0\" target=\"_top\" title=\"psysml:6d56d509-a272-42e3-905c-0e1bbd246da0\" xlink:actuate=\"onRequest\" xlink:href=\"psysml:6d56d509-a272-42e3-905c-0e1bbd246da0\" xlink:show=\"new\" xlink:title=\"psysml:6d56d509-a272-42e3-905c-0e1bbd246da0\" xlink:type=\"simple\"><rect fill=\"#FFFFFF\" height=\"45.9375\" id=\"E6\" rx=\"10\" ry=\"10\" style=\"stroke: #383838; stroke-width: 1.5;\" width=\"251\" x=\"166.5\" y=\"164\"/><text fill=\"#000000\" font-family=\"sans-serif\" font-size=\"12\" font-style=\"italic\" lengthAdjust=\"spacingAndGlyphs\" textLength=\"91\" x=\"246.5\" y=\"180.1387\">«requirement»</text><text fill=\"#000000\" font-family=\"sans-serif\" font-size=\"12\" lengthAdjust=\"spacingAndGlyphs\" textLength=\"245\" x=\"169.5\" y=\"194.1074\">tradeStudyObjective: MaximizeObjective</text><line style=\"stroke: #383838; stroke-width: 1.5;\" x1=\"167.5\" x2=\"416.5\" y1=\"201.9375\" y2=\"201.9375\"/></a><!--MD5=[2156ba9850f5573cc1fc38a6a4b2f02b]\n",
       "class E7--><a href=\"psysml:d0667918-a428-4729-9680-50da29281cd4\" target=\"_top\" title=\"psysml:d0667918-a428-4729-9680-50da29281cd4\" xlink:actuate=\"onRequest\" xlink:href=\"psysml:d0667918-a428-4729-9680-50da29281cd4\" xlink:show=\"new\" xlink:title=\"psysml:d0667918-a428-4729-9680-50da29281cd4\" xlink:type=\"simple\"><rect fill=\"#FFFFFF\" height=\"45.9375\" id=\"E7\" rx=\"10\" ry=\"10\" style=\"stroke: #383838; stroke-width: 1.5;\" width=\"178\" x=\"453\" y=\"164\"/><text fill=\"#000000\" font-family=\"sans-serif\" font-size=\"12\" font-style=\"italic\" lengthAdjust=\"spacingAndGlyphs\" textLength=\"40\" x=\"522\" y=\"180.1387\">«part»</text><text fill=\"#000000\" font-family=\"sans-serif\" font-size=\"12\" lengthAdjust=\"spacingAndGlyphs\" textLength=\"172\" x=\"456\" y=\"194.1074\">selectedAlternative: Engine</text><line style=\"stroke: #383838; stroke-width: 1.5;\" x1=\"454\" x2=\"630\" y1=\"201.9375\" y2=\"201.9375\"/></a><!--MD5=[05d275557350bfb9b23a4ef7222b4c39]\n",
       "link E3 to E2--><a href=\"psysml:2c927883-7b33-4f30-b07f-44dca6adebf7\" target=\"_top\" title=\"psysml:2c927883-7b33-4f30-b07f-44dca6adebf7\" xlink:actuate=\"onRequest\" xlink:href=\"psysml:2c927883-7b33-4f30-b07f-44dca6adebf7\" xlink:show=\"new\" xlink:title=\"psysml:2c927883-7b33-4f30-b07f-44dca6adebf7\" xlink:type=\"simple\"><path d=\"M814.37,210.01 C775.74,227.49 721.88,251.87 682.52,269.68 \" fill=\"none\" id=\"E3-&gt;E2\" style=\"stroke: #383838; stroke-width: 1.0;\"/><polygon fill=\"#FFFFFF\" points=\"664.23,277.96,678.6446,263.7397,684.4251,276.4906,664.23,277.96\" style=\"stroke: #383838; stroke-width: 1.0;\"/><ellipse cx=\"684.6619\" cy=\"263.2078\" fill=\"#383838\" rx=\"2\" ry=\"2\" style=\"stroke: #383838; stroke-width: 1.0;\"/><ellipse cx=\"688.7908\" cy=\"272.3156\" fill=\"#383838\" rx=\"2\" ry=\"2\" style=\"stroke: #383838; stroke-width: 1.0;\"/></a><!--MD5=[185131fc0dcab0a4505a2ebe144e961b]\n",
       "link E4 to E2--><a href=\"psysml:59e46c20-b41c-4b83-8c8c-eff5ad41f1d7\" target=\"_top\" title=\"psysml:59e46c20-b41c-4b83-8c8c-eff5ad41f1d7\" xlink:actuate=\"onRequest\" xlink:href=\"psysml:59e46c20-b41c-4b83-8c8c-eff5ad41f1d7\" xlink:show=\"new\" xlink:title=\"psysml:59e46c20-b41c-4b83-8c8c-eff5ad41f1d7\" xlink:type=\"simple\"><path d=\"M701.34,210.01 C690.26,223.08 675.91,240.01 663.06,255.17 \" fill=\"none\" id=\"E4-&gt;E2\" style=\"stroke: #383838; stroke-width: 1.0;\"/><polygon fill=\"#FFFFFF\" points=\"649.94,270.66,656.8931,251.6428,667.5691,260.6994,649.94,270.66\" style=\"stroke: #383838; stroke-width: 1.0;\"/><ellipse cx=\"662.1056\" cy=\"248.5899\" fill=\"#383838\" rx=\"2\" ry=\"2\" style=\"stroke: #383838; stroke-width: 1.0;\"/><ellipse cx=\"669.7313\" cy=\"255.059\" fill=\"#383838\" rx=\"2\" ry=\"2\" style=\"stroke: #383838; stroke-width: 1.0;\"/></a><!--MD5=[15ebcb19ae302d9b601edb458606d402]\n",
       "link E5 to E2--><a href=\"psysml:d5cbdaa6-c586-4ab8-b2f7-038eda38592d\" target=\"_top\" title=\"psysml:d5cbdaa6-c586-4ab8-b2f7-038eda38592d\" xlink:actuate=\"onRequest\" xlink:href=\"psysml:d5cbdaa6-c586-4ab8-b2f7-038eda38592d\" xlink:show=\"new\" xlink:title=\"psysml:d5cbdaa6-c586-4ab8-b2f7-038eda38592d\" xlink:type=\"simple\"><path d=\"M211.44,87.03 C135.05,111.81 38.38,155.76 85,210 C150.98,286.77 479.56,293.36 592.67,293.32 \" fill=\"none\" id=\"E5-&gt;E2\" style=\"stroke: #383838; stroke-width: 1.0; stroke-dasharray: 7.0,7.0;\"/><polygon fill=\"#383838\" points=\"597.89,293.31,588.89,289.31,592.89,293.31,588.89,297.31,597.89,293.31\" style=\"stroke: #383838; stroke-width: 1.0;\"/><text fill=\"#000000\" font-family=\"sans-serif\" font-size=\"13\" lengthAdjust=\"spacingAndGlyphs\" textLength=\"62\" x=\"86\" y=\"191.5669\">«subject»</text></a><!--MD5=[9120cf2e5df3bff93db8f754bbbc09b4]\n",
       "link E5 to E6--><a href=\"psysml:14d02f99-86ef-419d-b64f-b983855c21b7\" target=\"_top\" title=\"psysml:14d02f99-86ef-419d-b64f-b983855c21b7\" xlink:actuate=\"onRequest\" xlink:href=\"psysml:14d02f99-86ef-419d-b64f-b983855c21b7\" xlink:show=\"new\" xlink:title=\"psysml:14d02f99-86ef-419d-b64f-b983855c21b7\" xlink:type=\"simple\"><path d=\"M292,87.19 C292,106.47 292,134.55 292,155.86 \" fill=\"none\" id=\"E5-&gt;E6\" style=\"stroke: #383838; stroke-width: 1.0;\"/><polygon fill=\"#383838\" points=\"292,163.95,295,155.95,289,155.95,292,163.95\" style=\"stroke: #383838; stroke-width: 1.0;\"/><text fill=\"#000000\" font-family=\"sans-serif\" font-size=\"13\" lengthAdjust=\"spacingAndGlyphs\" textLength=\"73\" x=\"293\" y=\"130.0669\">«objective»</text></a><!--MD5=[452b418e7f8a40397a49b8c0a78acc5b]\n",
       "reverse link E5 to E7--><a href=\"psysml:44393528-ee32-422a-b73c-7e5d578e1b67\" target=\"_top\" title=\"psysml:44393528-ee32-422a-b73c-7e5d578e1b67\" xlink:actuate=\"onRequest\" xlink:href=\"psysml:44393528-ee32-422a-b73c-7e5d578e1b67\" xlink:show=\"new\" xlink:title=\"psysml:44393528-ee32-422a-b73c-7e5d578e1b67\" xlink:type=\"simple\"><path d=\"M349.39,92.78 C393.99,114.36 455.01,143.9 496.33,163.89 \" fill=\"none\" id=\"E5&lt;-E7\" style=\"stroke: #383838; stroke-width: 1.0;\"/><polygon fill=\"#FFFFFF\" points=\"337.56,87.05,341.2143,93.2666,348.3582,92.2843,344.7039,86.0677,337.56,87.05\" style=\"stroke: #383838; stroke-width: 1.0;\"/><text fill=\"#000000\" font-family=\"sans-serif\" font-size=\"13\" lengthAdjust=\"spacingAndGlyphs\" textLength=\"8\" x=\"474.9812\" y=\"152.7567\">1</text></a><!--MD5=[583832df87f4419a098336a29a52fa00]\n",
       "link E7 to E2--><a href=\"psysml:fe7d5224-67e7-4f42-a679-f87e330c9f80\" target=\"_top\" title=\"psysml:fe7d5224-67e7-4f42-a679-f87e330c9f80\" xlink:actuate=\"onRequest\" xlink:href=\"psysml:fe7d5224-67e7-4f42-a679-f87e330c9f80\" xlink:show=\"new\" xlink:title=\"psysml:fe7d5224-67e7-4f42-a679-f87e330c9f80\" xlink:type=\"simple\"><path d=\"M560.66,210.01 C571.74,223.08 586.09,240.01 598.94,255.17 \" fill=\"none\" id=\"E7-&gt;E2\" style=\"stroke: #383838; stroke-width: 1.0;\"/><polygon fill=\"#FFFFFF\" points=\"612.06,270.66,594.4309,260.6994,605.1069,251.6428,612.06,270.66\" style=\"stroke: #383838; stroke-width: 1.0;\"/><ellipse cx=\"592.2687\" cy=\"255.059\" fill=\"#383838\" rx=\"2\" ry=\"2\" style=\"stroke: #383838; stroke-width: 1.0;\"/><ellipse cx=\"599.8944\" cy=\"248.5899\" fill=\"#383838\" rx=\"2\" ry=\"2\" style=\"stroke: #383838; stroke-width: 1.0;\"/></a><!--MD5=[5d2e17b059f1a0c3a901620fca43a079]\n",
       "@startuml\r\n",
       "skinparam monochrome true\r\n",
       "skinparam classbackgroundcolor white\r\n",
       "skinparam shadowing false\r\n",
       "skinparam wrapWidth 300\r\n",
       "hide circle\r\n",
       "\r\n",
       "package \"TradeStudyTest\" as E1  [[psysml:ee7e22b2-7ed6-4f2c-8628-ec59eb221ec4 ]]  {\r\n",
       "comp def \"Engine\" as E2  <<(T,blue) part def>> [[psysml:6dc2e48d-4c08-4400-bc60-82a531af2780 ]] {\r\n",
       "}\r\n",
       "comp usage \"engine1: Engine\" as E3  <<(T,blue) part>> [[psysml:3defd9be-3b5d-4c6d-8f79-df776db84250 ]] {\r\n",
       "}\r\n",
       "comp usage \"engine2: Engine\" as E4  <<(T,blue) part>> [[psysml:3a9a647b-2fd2-49b6-8a5f-7ce1649088e0 ]] {\r\n",
       "}\r\n",
       "comp usage \"engineTradeStudy: TradeStudy\" as E5 << analysis>> [[psysml:4b9a9840-0888-40ad-997b-4be591991c45 ]] {\r\n",
       "}\r\n",
       "comp usage \"tradeStudyObjective: MaximizeObjective\" as E6  <<(T,blue) requirement>> [[psysml:6d56d509-a272-42e3-905c-0e1bbd246da0 ]] {\r\n",
       "}\r\n",
       "comp usage \"selectedAlternative: Engine\" as E7  <<(T,blue) part>> [[psysml:d0667918-a428-4729-9680-50da29281cd4 ]] {\r\n",
       "}\r\n",
       "}\r\n",
       "E3 - -:|> E2 [[psysml:2c927883-7b33-4f30-b07f-44dca6adebf7 ]] \r\n",
       "E4 - -:|> E2 [[psysml:59e46c20-b41c-4b83-8c8c-eff5ad41f1d7 ]] \r\n",
       "E5 ..> E2 [[psysml:d5cbdaa6-c586-4ab8-b2f7-038eda38592d ]] : <<subject>>\r\n",
       "E5 - ->> E6 [[psysml:14d02f99-86ef-419d-b64f-b983855c21b7 ]] : <<objective>>\r\n",
       "E5 o- - \"1\"E7 [[psysml:44393528-ee32-422a-b73c-7e5d578e1b67 ]] \r\n",
       "E7 - -:|> E2 [[psysml:fe7d5224-67e7-4f42-a679-f87e330c9f80 ]] \r\n",
       "@enduml\r\n",
       "\n",
       "PlantUML version 1.2020.13(Sat Jun 13 12:26:38 UTC 2020)\n",
       "(EPL source distribution)\n",
       "Java Runtime: OpenJDK Runtime Environment\n",
       "JVM: OpenJDK 64-Bit Server VM\n",
       "Default Encoding: UTF-8\n",
       "Language: en\n",
       "Country: null\n",
       "--></g></svg>"
      ]
     },
     "execution_count": 38,
     "metadata": {},
     "output_type": "execute_result"
    }
   ],
   "source": [
    "%viz --style=\"DEFAULT\" --view=\"Tree\" \"TradeStudyTest\""
   ]
  },
  {
   "cell_type": "code",
   "execution_count": 39,
   "id": "bcab9393",
   "metadata": {
    "execution": {
     "iopub.execute_input": "2021-10-03T08:30:38.956286Z",
     "iopub.status.busy": "2021-10-03T08:30:38.955893Z",
     "iopub.status.idle": "2021-10-03T08:30:38.960661Z",
     "shell.execute_reply": "2021-10-03T08:30:38.960971Z"
    }
   },
   "outputs": [
    {
     "data": {
      "image/svg+xml": [
       "<?xml version=\"1.0\" encoding=\"UTF-8\" standalone=\"no\"?><svg xmlns=\"http://www.w3.org/2000/svg\" xmlns:xlink=\"http://www.w3.org/1999/xlink\" contentScriptType=\"application/ecmascript\" contentStyleType=\"text/css\" height=\"12px\" preserveAspectRatio=\"none\" style=\"width:12px;height:12px;\" version=\"1.1\" viewBox=\"0 0 12 12\" width=\"12px\" zoomAndPan=\"magnify\"><defs/><g><!--MD5=[c5f280e076d0d61ccf4b0f27871bda1d]\n",
       "@startuml\r\n",
       "skinparam monochrome true\r\n",
       "skinparam classbackgroundcolor white\r\n",
       "skinparam shadowing false\r\n",
       "skinparam wrapWidth 300\r\n",
       "hide circle\r\n",
       "\r\n",
       "@enduml\r\n",
       "\n",
       "PlantUML version 1.2020.13(Sat Jun 13 12:26:38 UTC 2020)\n",
       "(EPL source distribution)\n",
       "Java Runtime: OpenJDK Runtime Environment\n",
       "JVM: OpenJDK 64-Bit Server VM\n",
       "Default Encoding: UTF-8\n",
       "Language: en\n",
       "Country: null\n",
       "--></g></svg>"
      ]
     },
     "execution_count": 39,
     "metadata": {},
     "output_type": "execute_result"
    }
   ],
   "source": [
    "%viz --style=\"DEFAULT\" --view=\"State\" \"TradeStudyTest\""
   ]
  },
  {
   "cell_type": "code",
   "execution_count": 40,
   "id": "ae4bf02c",
   "metadata": {
    "execution": {
     "iopub.execute_input": "2021-10-03T08:30:39.010512Z",
     "iopub.status.busy": "2021-10-03T08:30:39.010120Z",
     "iopub.status.idle": "2021-10-03T08:30:39.045651Z",
     "shell.execute_reply": "2021-10-03T08:30:39.045962Z"
    }
   },
   "outputs": [
    {
     "data": {
      "image/svg+xml": [
       "<?xml version=\"1.0\" encoding=\"UTF-8\" standalone=\"no\"?><svg xmlns=\"http://www.w3.org/2000/svg\" xmlns:xlink=\"http://www.w3.org/1999/xlink\" contentScriptType=\"application/ecmascript\" contentStyleType=\"text/css\" height=\"334px\" preserveAspectRatio=\"none\" style=\"width:566px;height:334px;\" version=\"1.1\" viewBox=\"0 0 566 334\" width=\"566px\" zoomAndPan=\"magnify\"><defs/><g><!--MD5=[fbc87193dbaf4d95561dea2c320d4a47]\n",
       "cluster E1--><a href=\"psysml:ee7e22b2-7ed6-4f2c-8628-ec59eb221ec4\" target=\"_top\" title=\"psysml:ee7e22b2-7ed6-4f2c-8628-ec59eb221ec4\" xlink:actuate=\"onRequest\" xlink:href=\"psysml:ee7e22b2-7ed6-4f2c-8628-ec59eb221ec4\" xlink:show=\"new\" xlink:title=\"psysml:ee7e22b2-7ed6-4f2c-8628-ec59eb221ec4\" xlink:type=\"simple\"><polygon fill=\"#FFFFFF\" points=\"16,6,132,6,139,28.2969,544,28.2969,544,322,16,322,16,6\" style=\"stroke: #000000; stroke-width: 1.5;\"/><line style=\"stroke: #000000; stroke-width: 1.5;\" x1=\"16\" x2=\"139\" y1=\"28.2969\" y2=\"28.2969\"/><text fill=\"#000000\" font-family=\"sans-serif\" font-size=\"14\" font-weight=\"bold\" lengthAdjust=\"spacingAndGlyphs\" textLength=\"110\" x=\"20\" y=\"20.9951\">TradeStudyTest</text></a><!--MD5=[270fce915f116d4de14055a7c1d9a0f3]\n",
       "class E5--><a href=\"psysml:4b9a9840-0888-40ad-997b-4be591991c45\" target=\"_top\" title=\"psysml:4b9a9840-0888-40ad-997b-4be591991c45\" xlink:actuate=\"onRequest\" xlink:href=\"psysml:4b9a9840-0888-40ad-997b-4be591991c45\" xlink:show=\"new\" xlink:title=\"psysml:4b9a9840-0888-40ad-997b-4be591991c45\" xlink:type=\"simple\"><rect fill=\"#FFFFFF\" height=\"45.9375\" id=\"E5\" rx=\"10\" ry=\"10\" style=\"stroke: #383838; stroke-width: 1.5;\" width=\"199\" x=\"328.5\" y=\"41\"/><text fill=\"#000000\" font-family=\"sans-serif\" font-size=\"12\" font-style=\"italic\" lengthAdjust=\"spacingAndGlyphs\" textLength=\"64\" x=\"396\" y=\"57.1387\">«analysis»</text><text fill=\"#000000\" font-family=\"sans-serif\" font-size=\"12\" lengthAdjust=\"spacingAndGlyphs\" textLength=\"193\" x=\"331.5\" y=\"71.1074\">engineTradeStudy: TradeStudy</text><line style=\"stroke: #383838; stroke-width: 1.5;\" x1=\"329.5\" x2=\"526.5\" y1=\"78.9375\" y2=\"78.9375\"/></a><!--MD5=[60a26617385b1d2d0262a64233df1f8d]\n",
       "class E6--><a href=\"psysml:6d56d509-a272-42e3-905c-0e1bbd246da0\" target=\"_top\" title=\"psysml:6d56d509-a272-42e3-905c-0e1bbd246da0\" xlink:actuate=\"onRequest\" xlink:href=\"psysml:6d56d509-a272-42e3-905c-0e1bbd246da0\" xlink:show=\"new\" xlink:title=\"psysml:6d56d509-a272-42e3-905c-0e1bbd246da0\" xlink:type=\"simple\"><rect fill=\"#FFFFFF\" height=\"45.9375\" id=\"E6\" rx=\"10\" ry=\"10\" style=\"stroke: #383838; stroke-width: 1.5;\" width=\"251\" x=\"32.5\" y=\"120\"/><text fill=\"#000000\" font-family=\"sans-serif\" font-size=\"12\" font-style=\"italic\" lengthAdjust=\"spacingAndGlyphs\" textLength=\"91\" x=\"112.5\" y=\"136.1387\">«requirement»</text><text fill=\"#000000\" font-family=\"sans-serif\" font-size=\"12\" lengthAdjust=\"spacingAndGlyphs\" textLength=\"245\" x=\"35.5\" y=\"150.1074\">tradeStudyObjective: MaximizeObjective</text><line style=\"stroke: #383838; stroke-width: 1.5;\" x1=\"33.5\" x2=\"282.5\" y1=\"157.9375\" y2=\"157.9375\"/></a><!--MD5=[2156ba9850f5573cc1fc38a6a4b2f02b]\n",
       "class E7--><a href=\"psysml:0d158b00-d202-4b1f-90aa-9fc427f4eb2b\" target=\"_top\" title=\"psysml:0d158b00-d202-4b1f-90aa-9fc427f4eb2b\" xlink:actuate=\"onRequest\" xlink:href=\"psysml:0d158b00-d202-4b1f-90aa-9fc427f4eb2b\" xlink:show=\"new\" xlink:title=\"psysml:0d158b00-d202-4b1f-90aa-9fc427f4eb2b\" xlink:type=\"simple\"><rect fill=\"#FFFFFF\" height=\"45.9375\" id=\"E7\" rx=\"10\" ry=\"10\" style=\"stroke: #383838; stroke-width: 1.5;\" width=\"116\" x=\"319\" y=\"120\"/><text fill=\"#000000\" font-family=\"sans-serif\" font-size=\"12\" font-style=\"italic\" lengthAdjust=\"spacingAndGlyphs\" textLength=\"82\" x=\"336\" y=\"136.1387\">«calculation»</text><text fill=\"#000000\" font-family=\"sans-serif\" font-size=\"12\" lengthAdjust=\"spacingAndGlyphs\" textLength=\"110\" x=\"322\" y=\"150.1074\">objectiveFunction</text><line style=\"stroke: #383838; stroke-width: 1.5;\" x1=\"320\" x2=\"434\" y1=\"157.9375\" y2=\"157.9375\"/></a><!--MD5=[b9389687b975829384b498ac4b7476b2]\n",
       "class E8--><a href=\"psysml:e8d66f1b-2710-4767-99ee-f2812ccd7696\" target=\"_top\" title=\"psysml:e8d66f1b-2710-4767-99ee-f2812ccd7696\" xlink:actuate=\"onRequest\" xlink:href=\"psysml:e8d66f1b-2710-4767-99ee-f2812ccd7696\" xlink:show=\"new\" xlink:title=\"psysml:e8d66f1b-2710-4767-99ee-f2812ccd7696\" xlink:type=\"simple\"><rect fill=\"#FFFFFF\" height=\"31.9688\" id=\"E8\" rx=\"10\" ry=\"10\" style=\"stroke: #383838; stroke-width: 1.5;\" width=\"124\" x=\"178\" y=\"214\"/><text fill=\"#000000\" font-family=\"sans-serif\" font-size=\"12\" lengthAdjust=\"spacingAndGlyphs\" textLength=\"118\" x=\"181\" y=\"230.1387\">alternative: Engine</text><line style=\"stroke: #383838; stroke-width: 1.5;\" x1=\"179\" x2=\"301\" y1=\"237.9688\" y2=\"237.9688\"/></a><!--MD5=[fd4143e9d270a159db93a4ea2a975926]\n",
       "class E9--><a href=\"psysml:d0667918-a428-4729-9680-50da29281cd4\" target=\"_top\" title=\"psysml:d0667918-a428-4729-9680-50da29281cd4\" xlink:actuate=\"onRequest\" xlink:href=\"psysml:d0667918-a428-4729-9680-50da29281cd4\" xlink:show=\"new\" xlink:title=\"psysml:d0667918-a428-4729-9680-50da29281cd4\" xlink:type=\"simple\"><rect fill=\"#FFFFFF\" height=\"31.9688\" id=\"E9\" rx=\"10\" ry=\"10\" style=\"stroke: #383838; stroke-width: 1.5;\" width=\"178\" x=\"246\" y=\"174\"/><text fill=\"#000000\" font-family=\"sans-serif\" font-size=\"12\" lengthAdjust=\"spacingAndGlyphs\" textLength=\"172\" x=\"249\" y=\"190.1387\">selectedAlternative: Engine</text><line style=\"stroke: #383838; stroke-width: 1.5;\" x1=\"247\" x2=\"423\" y1=\"197.9688\" y2=\"197.9688\"/></a><g id=\"E1.E2\"><a href=\"psysml:6dc2e48d-4c08-4400-bc60-82a531af2780\" target=\"_top\" title=\"psysml:6dc2e48d-4c08-4400-bc60-82a531af2780\" xlink:actuate=\"onRequest\" xlink:href=\"psysml:6dc2e48d-4c08-4400-bc60-82a531af2780\" xlink:show=\"new\" xlink:title=\"psysml:6dc2e48d-4c08-4400-bc60-82a531af2780\" xlink:type=\"simple\"><rect fill=\"#FFFFFF\" height=\"42.9375\" id=\"E2\" style=\"stroke: #383838; stroke-width: 1.5;\" width=\"71\" x=\"302.5\" y=\"263\"/><rect fill=\"#F8F8F8\" height=\"37.9375\" style=\"stroke: #383838; stroke-width: 1.5;\" width=\"71\" x=\"302.5\" y=\"263\"/><text fill=\"#000000\" font-family=\"sans-serif\" font-size=\"12\" font-style=\"italic\" lengthAdjust=\"spacingAndGlyphs\" textLength=\"64\" x=\"306\" y=\"279.1387\">«part def»</text><text fill=\"#000000\" font-family=\"sans-serif\" font-size=\"12\" lengthAdjust=\"spacingAndGlyphs\" textLength=\"43\" x=\"316.5\" y=\"293.1074\">Engine</text></a></g><g id=\"E1.E3\"><a href=\"psysml:3defd9be-3b5d-4c6d-8f79-df776db84250\" target=\"_top\" title=\"psysml:3defd9be-3b5d-4c6d-8f79-df776db84250\" xlink:actuate=\"onRequest\" xlink:href=\"psysml:3defd9be-3b5d-4c6d-8f79-df776db84250\" xlink:show=\"new\" xlink:title=\"psysml:3defd9be-3b5d-4c6d-8f79-df776db84250\" xlink:type=\"simple\"><rect fill=\"#FFFFFF\" height=\"40\" id=\"E3\" rx=\"10\" ry=\"10\" style=\"stroke: #383838; stroke-width: 1.5;\" width=\"113\" x=\"180.5\" y=\"44\"/><rect fill=\"#F8F8F8\" height=\"23.9688\" rx=\"10\" ry=\"10\" style=\"stroke: #F8F8F8; stroke-width: 1.5;\" width=\"113\" x=\"180.5\" y=\"44\"/><rect fill=\"#F8F8F8\" height=\"10\" style=\"stroke: #F8F8F8; stroke-width: 1.5;\" width=\"113\" x=\"180.5\" y=\"57.9688\"/><rect fill=\"none\" height=\"40\" id=\"E3\" rx=\"10\" ry=\"10\" style=\"stroke: #383838; stroke-width: 1.5;\" width=\"113\" x=\"180.5\" y=\"44\"/><text fill=\"#000000\" font-family=\"sans-serif\" font-size=\"12\" lengthAdjust=\"spacingAndGlyphs\" textLength=\"102\" x=\"186\" y=\"60.1387\">engine1: Engine</text></a></g><g id=\"E1.E4\"><a href=\"psysml:3a9a647b-2fd2-49b6-8a5f-7ce1649088e0\" target=\"_top\" title=\"psysml:3a9a647b-2fd2-49b6-8a5f-7ce1649088e0\" xlink:actuate=\"onRequest\" xlink:href=\"psysml:3a9a647b-2fd2-49b6-8a5f-7ce1649088e0\" xlink:show=\"new\" xlink:title=\"psysml:3a9a647b-2fd2-49b6-8a5f-7ce1649088e0\" xlink:type=\"simple\"><rect fill=\"#FFFFFF\" height=\"40\" id=\"E4\" rx=\"10\" ry=\"10\" style=\"stroke: #383838; stroke-width: 1.5;\" width=\"113\" x=\"32.5\" y=\"44\"/><rect fill=\"#F8F8F8\" height=\"23.9688\" rx=\"10\" ry=\"10\" style=\"stroke: #F8F8F8; stroke-width: 1.5;\" width=\"113\" x=\"32.5\" y=\"44\"/><rect fill=\"#F8F8F8\" height=\"10\" style=\"stroke: #F8F8F8; stroke-width: 1.5;\" width=\"113\" x=\"32.5\" y=\"57.9688\"/><rect fill=\"none\" height=\"40\" id=\"E4\" rx=\"10\" ry=\"10\" style=\"stroke: #383838; stroke-width: 1.5;\" width=\"113\" x=\"32.5\" y=\"44\"/><text fill=\"#000000\" font-family=\"sans-serif\" font-size=\"12\" lengthAdjust=\"spacingAndGlyphs\" textLength=\"102\" x=\"38\" y=\"60.1387\">engine2: Engine</text></a></g><!--MD5=[15ebcb19ae302d9b601edb458606d402]\n",
       "link E5 to E2--><a href=\"psysml:d5cbdaa6-c586-4ab8-b2f7-038eda38592d\" target=\"_top\" title=\"psysml:d5cbdaa6-c586-4ab8-b2f7-038eda38592d\" xlink:actuate=\"onRequest\" xlink:href=\"psysml:d5cbdaa6-c586-4ab8-b2f7-038eda38592d\" xlink:show=\"new\" xlink:title=\"psysml:d5cbdaa6-c586-4ab8-b2f7-038eda38592d\" xlink:type=\"simple\"><path d=\"M454.33,87.05 C456.45,89.57 458.39,92.23 460,95 C475.92,122.38 478.3,136.82 466,166 C448.69,207.07 408.73,239.87 378.03,260.26 \" fill=\"none\" id=\"E5-&gt;E2\" style=\"stroke: #383838; stroke-width: 1.0; stroke-dasharray: 7.0,7.0;\"/><polygon fill=\"#383838\" points=\"373.57,263.18,383.2939,261.6161,377.7586,260.4495,378.9251,254.9143,373.57,263.18\" style=\"stroke: #383838; stroke-width: 1.0;\"/><text fill=\"#000000\" font-family=\"sans-serif\" font-size=\"13\" lengthAdjust=\"spacingAndGlyphs\" textLength=\"62\" x=\"463\" y=\"194.5669\">«subject»</text></a><!--MD5=[9120cf2e5df3bff93db8f754bbbc09b4]\n",
       "link E5 to E6--><a href=\"psysml:14d02f99-86ef-419d-b64f-b983855c21b7\" target=\"_top\" title=\"psysml:14d02f99-86ef-419d-b64f-b983855c21b7\" xlink:actuate=\"onRequest\" xlink:href=\"psysml:14d02f99-86ef-419d-b64f-b983855c21b7\" xlink:show=\"new\" xlink:title=\"psysml:14d02f99-86ef-419d-b64f-b983855c21b7\" xlink:type=\"simple\"><path d=\"M342.94,87.03 C333.16,89.67 323.36,92.36 314,95 C288.94,102.07 261.74,110.13 237.17,117.56 \" fill=\"none\" id=\"E5-&gt;E6\" style=\"stroke: #383838; stroke-width: 1.0;\"/><polygon fill=\"#383838\" points=\"229.29,119.94,237.8158,120.4972,236.0799,114.7538,229.29,119.94\" style=\"stroke: #383838; stroke-width: 1.0;\"/><text fill=\"#000000\" font-family=\"sans-serif\" font-size=\"13\" lengthAdjust=\"spacingAndGlyphs\" textLength=\"73\" x=\"315\" y=\"108.0669\">«objective»</text></a><!--MD5=[452b418e7f8a40397a49b8c0a78acc5b]\n",
       "reverse link E5 to E7--><a href=\"psysml:60238b1f-3640-4bef-bde7-54f879504707\" target=\"_top\" title=\"psysml:60238b1f-3640-4bef-bde7-54f879504707\" xlink:actuate=\"onRequest\" xlink:href=\"psysml:60238b1f-3640-4bef-bde7-54f879504707\" xlink:show=\"new\" xlink:title=\"psysml:60238b1f-3640-4bef-bde7-54f879504707\" xlink:type=\"simple\"><path d=\"M405.93,98.32 C401.13,105.57 396.16,113.08 391.72,119.78 \" fill=\"none\" id=\"E5&lt;-E7\" style=\"stroke: #383838; stroke-width: 1.0;\"/><polygon fill=\"#383838\" points=\"413.25,87.27,406.6021,90.0638,406.6241,97.2749,413.272,94.4811,413.25,87.27\" style=\"stroke: #383838; stroke-width: 1.0;\"/></a><!--MD5=[dc164f5e8a733ab456ef1add180e9e34]\n",
       "reverse link E7 to E8--><a href=\"psysml:83c02207-4172-44b5-b5b3-edd55ab7c0db\" target=\"_top\" title=\"psysml:83c02207-4172-44b5-b5b3-edd55ab7c0db\" xlink:actuate=\"onRequest\" xlink:href=\"psysml:83c02207-4172-44b5-b5b3-edd55ab7c0db\" xlink:show=\"new\" xlink:title=\"psysml:83c02207-4172-44b5-b5b3-edd55ab7c0db\" xlink:type=\"simple\"><path d=\"M305.92,164.91 C304.26,165.29 302.62,165.65 301,166 C288.71,168.64 253.66,164.89 245,174 C235.09,184.43 235.08,201.52 236.77,213.88 \" fill=\"none\" id=\"E7&lt;-E8\" style=\"stroke: #383838; stroke-width: 1.0;\"/><polygon fill=\"#FFFFFF\" points=\"318.71,161.77,311.9314,159.3102,307.0537,164.6214,313.8323,167.0811,318.71,161.77\" style=\"stroke: #383838; stroke-width: 1.0;\"/><text fill=\"#000000\" font-family=\"sans-serif\" font-size=\"13\" lengthAdjust=\"spacingAndGlyphs\" textLength=\"8\" x=\"226.2847\" y=\"202.8557\">1</text></a><!--MD5=[f1f3f9f2fc535e6147756cb86a7f2e32]\n",
       "link E8 to E2--><a href=\"psysml:3fd357fc-9742-4e4a-b08f-00e5f8b92b2e\" target=\"_top\" title=\"psysml:3fd357fc-9742-4e4a-b08f-00e5f8b92b2e\" xlink:actuate=\"onRequest\" xlink:href=\"psysml:3fd357fc-9742-4e4a-b08f-00e5f8b92b2e\" xlink:show=\"new\" xlink:title=\"psysml:3fd357fc-9742-4e4a-b08f-00e5f8b92b2e\" xlink:type=\"simple\"><path d=\"M268.08,246.04 C273.23,248.8 278.76,251.77 284.38,254.77 \" fill=\"none\" id=\"E8-&gt;E2\" style=\"stroke: #383838; stroke-width: 1.0;\"/><polygon fill=\"#FFFFFF\" points=\"302.21,264.33,282.1553,261.5358,288.7616,249.1926,302.21,264.33\" style=\"stroke: #383838; stroke-width: 1.0;\"/><ellipse cx=\"278.0736\" cy=\"257.0828\" fill=\"#383838\" rx=\"2\" ry=\"2\" style=\"stroke: #383838; stroke-width: 1.0;\"/><ellipse cx=\"282.7924\" cy=\"248.2661\" fill=\"#383838\" rx=\"2\" ry=\"2\" style=\"stroke: #383838; stroke-width: 1.0;\"/></a><!--MD5=[9ae28de373ca99bb8a1b38d63370ca7e]\n",
       "reverse link E5 to E9--><a href=\"psysml:44393528-ee32-422a-b73c-7e5d578e1b67\" target=\"_top\" title=\"psysml:44393528-ee32-422a-b73c-7e5d578e1b67\" xlink:actuate=\"onRequest\" xlink:href=\"psysml:44393528-ee32-422a-b73c-7e5d578e1b67\" xlink:show=\"new\" xlink:title=\"psysml:44393528-ee32-422a-b73c-7e5d578e1b67\" xlink:type=\"simple\"><path d=\"M449.82,98.65 C460.68,120.03 468.53,147.15 453,166 C451.62,167.67 438.74,170.68 421.94,173.98 \" fill=\"none\" id=\"E5&lt;-E9\" style=\"stroke: #383838; stroke-width: 1.0;\"/><polygon fill=\"#FFFFFF\" points=\"443.41,87.13,442.8257,94.3174,449.2355,97.6211,449.8198,90.4337,443.41,87.13\" style=\"stroke: #383838; stroke-width: 1.0;\"/><text fill=\"#000000\" font-family=\"sans-serif\" font-size=\"13\" lengthAdjust=\"spacingAndGlyphs\" textLength=\"8\" x=\"431.8866\" y=\"185.124\">1</text></a><!--MD5=[5c3bb36fe832a92c7f0e1807dd65209d]\n",
       "link E9 to E2--><a href=\"psysml:fe7d5224-67e7-4f42-a679-f87e330c9f80\" target=\"_top\" title=\"psysml:fe7d5224-67e7-4f42-a679-f87e330c9f80\" xlink:actuate=\"onRequest\" xlink:href=\"psysml:fe7d5224-67e7-4f42-a679-f87e330c9f80\" xlink:show=\"new\" xlink:title=\"psysml:fe7d5224-67e7-4f42-a679-f87e330c9f80\" xlink:type=\"simple\"><path d=\"M335.5,206.27 C335.82,216.14 336.25,229.48 336.66,242.29 \" fill=\"none\" id=\"E9-&gt;E2\" style=\"stroke: #383838; stroke-width: 1.0;\"/><polygon fill=\"#FFFFFF\" points=\"337.32,262.66,329.7128,243.8949,343.7055,243.4448,337.32,262.66\" style=\"stroke: #383838; stroke-width: 1.0;\"/><ellipse cx=\"331.5285\" cy=\"238.1335\" fill=\"#383838\" rx=\"2\" ry=\"2\" style=\"stroke: #383838; stroke-width: 1.0;\"/><ellipse cx=\"341.5233\" cy=\"237.812\" fill=\"#383838\" rx=\"2\" ry=\"2\" style=\"stroke: #383838; stroke-width: 1.0;\"/></a><!--MD5=[aa661b3d93d67ad488624fd23edeb2a8]\n",
       "@startuml\r\n",
       "skinparam ranksep 10\r\n",
       "skinparam rectangle {\r\n",
       " backgroundColor<<block>> LightGreen\r\n",
       "}\r\n",
       "skinparam monochrome true\r\n",
       "skinparam classbackgroundcolor white\r\n",
       "skinparam shadowing false\r\n",
       "skinparam wrapWidth 300\r\n",
       "hide circle\r\n",
       "\r\n",
       "package \"TradeStudyTest\" as E1  [[psysml:ee7e22b2-7ed6-4f2c-8628-ec59eb221ec4 ]]  {\r\n",
       "rec def \"Engine\" as E2  <<(T,blue) part def>> [[psysml:6dc2e48d-4c08-4400-bc60-82a531af2780 ]] {\r\n",
       "}\r\n",
       "rec usage \"engine1: Engine\" as E3  [[psysml:3defd9be-3b5d-4c6d-8f79-df776db84250 ]] {\r\n",
       "}\r\n",
       "rec usage \"engine2: Engine\" as E4  [[psysml:3a9a647b-2fd2-49b6-8a5f-7ce1649088e0 ]] {\r\n",
       "}\r\n",
       "comp usage \"engineTradeStudy: TradeStudy\" as E5 << analysis>> [[psysml:4b9a9840-0888-40ad-997b-4be591991c45 ]] {\r\n",
       "}\r\n",
       "comp usage \"tradeStudyObjective: MaximizeObjective\" as E6  <<(T,blue) requirement>> [[psysml:6d56d509-a272-42e3-905c-0e1bbd246da0 ]] {\r\n",
       "}\r\n",
       "comp usage \"objectiveFunction\" as E7  <<(T,blue) calculation>> [[psysml:0d158b00-d202-4b1f-90aa-9fc427f4eb2b ]] {\r\n",
       "}\r\n",
       "comp usage \"alternative: Engine\" as E8  [[psysml:e8d66f1b-2710-4767-99ee-f2812ccd7696 ]] {\r\n",
       "}\r\n",
       "comp usage \"selectedAlternative: Engine\" as E9  [[psysml:d0667918-a428-4729-9680-50da29281cd4 ]] {\r\n",
       "}\r\n",
       "}\r\n",
       "E5 ..> E2 [[psysml:d5cbdaa6-c586-4ab8-b2f7-038eda38592d ]] : <<subject>>\r\n",
       "E5 - ->> E6 [[psysml:14d02f99-86ef-419d-b64f-b983855c21b7 ]] : <<objective>>\r\n",
       "E5 *- - E7 [[psysml:60238b1f-3640-4bef-bde7-54f879504707 ]] \r\n",
       "E7 o- - \"1\"E8 [[psysml:83c02207-4172-44b5-b5b3-edd55ab7c0db ]] \r\n",
       "E8 - -:|> E2 [[psysml:3fd357fc-9742-4e4a-b08f-00e5f8b92b2e ]] \r\n",
       "E5 o- - \"1\"E9 [[psysml:44393528-ee32-422a-b73c-7e5d578e1b67 ]] \r\n",
       "E9 - -:|> E2 [[psysml:fe7d5224-67e7-4f42-a679-f87e330c9f80 ]] \r\n",
       "@enduml\r\n",
       "\n",
       "PlantUML version 1.2020.13(Sat Jun 13 12:26:38 UTC 2020)\n",
       "(EPL source distribution)\n",
       "Java Runtime: OpenJDK Runtime Environment\n",
       "JVM: OpenJDK 64-Bit Server VM\n",
       "Default Encoding: UTF-8\n",
       "Language: en\n",
       "Country: null\n",
       "--></g></svg>"
      ]
     },
     "execution_count": 40,
     "metadata": {},
     "output_type": "execute_result"
    }
   ],
   "source": [
    "%viz --style=\"DEFAULT\" --view=\"Interconnection\" \"TradeStudyTest\""
   ]
  },
  {
   "cell_type": "code",
   "execution_count": 41,
   "id": "bf948866",
   "metadata": {
    "execution": {
     "iopub.execute_input": "2021-10-03T08:30:39.095350Z",
     "iopub.status.busy": "2021-10-03T08:30:39.094959Z",
     "iopub.status.idle": "2021-10-03T08:30:39.122066Z",
     "shell.execute_reply": "2021-10-03T08:30:39.121735Z"
    }
   },
   "outputs": [
    {
     "data": {
      "image/svg+xml": [
       "<?xml version=\"1.0\" encoding=\"UTF-8\" standalone=\"no\"?><svg xmlns=\"http://www.w3.org/2000/svg\" xmlns:xlink=\"http://www.w3.org/1999/xlink\" contentScriptType=\"application/ecmascript\" contentStyleType=\"text/css\" height=\"178px\" preserveAspectRatio=\"none\" style=\"width:434px;height:178px;\" version=\"1.1\" viewBox=\"0 0 434 178\" width=\"434px\" zoomAndPan=\"magnify\"><defs/><g><!--MD5=[fbc87193dbaf4d95561dea2c320d4a47]\n",
       "cluster E1--><a href=\"psysml:4b9a9840-0888-40ad-997b-4be591991c45\" target=\"_top\" title=\"psysml:4b9a9840-0888-40ad-997b-4be591991c45\" xlink:actuate=\"onRequest\" xlink:href=\"psysml:4b9a9840-0888-40ad-997b-4be591991c45\" xlink:show=\"new\" xlink:title=\"psysml:4b9a9840-0888-40ad-997b-4be591991c45\" xlink:type=\"simple\"><rect fill=\"#FFFFFF\" height=\"103.72\" id=\"E1\" rx=\"10\" ry=\"10\" style=\"stroke: #383838; stroke-width: 1.5;\" width=\"327\" x=\"47\" y=\"42.0986\"/><rect fill=\"#F8F8F8\" height=\"37.9375\" rx=\"10\" ry=\"10\" style=\"stroke: #F8F8F8; stroke-width: 1.5;\" width=\"327\" x=\"47\" y=\"42.0986\"/><rect fill=\"#F8F8F8\" height=\"10\" style=\"stroke: #F8F8F8; stroke-width: 1.5;\" width=\"327\" x=\"47\" y=\"70.0361\"/><rect fill=\"none\" height=\"103.72\" id=\"E1\" rx=\"10\" ry=\"10\" style=\"stroke: #383838; stroke-width: 1.5;\" width=\"327\" x=\"47\" y=\"42.0986\"/><text fill=\"#000000\" font-family=\"sans-serif\" font-size=\"12\" font-style=\"italic\" lengthAdjust=\"spacingAndGlyphs\" textLength=\"64\" x=\"178.5\" y=\"58.2373\">«analysis»</text><text fill=\"#000000\" font-family=\"sans-serif\" font-size=\"12\" lengthAdjust=\"spacingAndGlyphs\" textLength=\"114\" x=\"153.5\" y=\"72.2061\">engineTradeStudy</text><line style=\"stroke: #383838; stroke-width: 1.0;\" x1=\"47\" x2=\"374\" y1=\"80.0361\" y2=\"80.0361\"/></a><!--MD5=[d5e69f78d87373223dbae638b30a9c99]\n",
       "cluster E3--><a href=\"psysml:0d158b00-d202-4b1f-90aa-9fc427f4eb2b\" target=\"_top\" title=\"psysml:0d158b00-d202-4b1f-90aa-9fc427f4eb2b\" xlink:actuate=\"onRequest\" xlink:href=\"psysml:0d158b00-d202-4b1f-90aa-9fc427f4eb2b\" xlink:show=\"new\" xlink:title=\"psysml:0d158b00-d202-4b1f-90aa-9fc427f4eb2b\" xlink:type=\"simple\"><rect fill=\"#FFFFFF\" height=\"81.72\" id=\"E3\" rx=\"10\" ry=\"10\" style=\"stroke: #383838; stroke-width: 1.5;\" width=\"132\" x=\"214.125\" y=\"64.0986\"/><rect fill=\"#F8F8F8\" height=\"37.9375\" rx=\"10\" ry=\"10\" style=\"stroke: #F8F8F8; stroke-width: 1.5;\" width=\"132\" x=\"214.125\" y=\"64.0986\"/><rect fill=\"#F8F8F8\" height=\"10\" style=\"stroke: #F8F8F8; stroke-width: 1.5;\" width=\"132\" x=\"214.125\" y=\"92.0361\"/><rect fill=\"none\" height=\"81.72\" id=\"E3\" rx=\"10\" ry=\"10\" style=\"stroke: #383838; stroke-width: 1.5;\" width=\"132\" x=\"214.125\" y=\"64.0986\"/><text fill=\"#000000\" font-family=\"sans-serif\" font-size=\"12\" font-style=\"italic\" lengthAdjust=\"spacingAndGlyphs\" textLength=\"82\" x=\"239.125\" y=\"80.2373\">«calculation»</text><text fill=\"#000000\" font-family=\"sans-serif\" font-size=\"12\" lengthAdjust=\"spacingAndGlyphs\" textLength=\"110\" x=\"225.125\" y=\"94.2061\">objectiveFunction</text><line style=\"stroke: #383838; stroke-width: 1.0;\" x1=\"214.125\" x2=\"346.125\" y1=\"102.0361\" y2=\"102.0361\"/></a><text fill=\"#000000\" font-family=\"sans-serif\" font-size=\"14\" lengthAdjust=\"spacingAndGlyphs\" textLength=\"118\" x=\"6\" y=\"20.7969\">studyAlternatives</text><rect fill=\"#383838\" height=\"12\" style=\"stroke: #F8F8F8; stroke-width: 1.5;\" width=\"12\" x=\"59\" y=\"36.0986\"/><text fill=\"#000000\" font-family=\"sans-serif\" font-size=\"14\" lengthAdjust=\"spacingAndGlyphs\" textLength=\"132\" x=\"290\" y=\"164.8138\">selectedAlternative</text><rect fill=\"#383838\" height=\"12\" style=\"stroke: #F8F8F8; stroke-width: 1.5;\" width=\"12\" x=\"350\" y=\"139.8186\"/><text fill=\"#000000\" font-family=\"sans-serif\" font-size=\"14\" lengthAdjust=\"spacingAndGlyphs\" textLength=\"39\" x=\"215.5\" y=\"164.8138\">result</text><rect fill=\"#383838\" height=\"12\" style=\"stroke: #F8F8F8; stroke-width: 1.5;\" width=\"12\" x=\"229\" y=\"139.8186\"/><!--MD5=[d00ceb9ca62b1daf4a09057076d10962]\n",
       "@startuml\r\n",
       "skinparam ranksep 8\r\n",
       "skinparam monochrome true\r\n",
       "skinparam classbackgroundcolor white\r\n",
       "skinparam shadowing false\r\n",
       "skinparam wrapWidth 300\r\n",
       "hide circle\r\n",
       "\r\n",
       "rec usage \"engineTradeStudy\" as E1 << analysis>> [[psysml:4b9a9840-0888-40ad-997b-4be591991c45 ]] {\r\n",
       "portin \"studyAlternatives\" as E2  [[psysml:176bf709-9374-41f7-af5d-a9b046d4ad5e ]] \r\n",
       "rec usage \"objectiveFunction\" as E3  <<(T,blue) calculation>> [[psysml:0d158b00-d202-4b1f-90aa-9fc427f4eb2b ]] {\r\n",
       "portout \"result\" as E4  [[psysml:5b5a7b7b-7538-4fc2-96bb-574f08f8230e ]] \r\n",
       "}\r\n",
       "\r\n",
       "portout \"selectedAlternative\" as E5  [[psysml:d0667918-a428-4729-9680-50da29281cd4 ]] \r\n",
       "}\r\n",
       "\r\n",
       "@enduml\r\n",
       "\n",
       "PlantUML version 1.2020.13(Sat Jun 13 12:26:38 UTC 2020)\n",
       "(EPL source distribution)\n",
       "Java Runtime: OpenJDK Runtime Environment\n",
       "JVM: OpenJDK 64-Bit Server VM\n",
       "Default Encoding: UTF-8\n",
       "Language: en\n",
       "Country: null\n",
       "--></g></svg>"
      ]
     },
     "execution_count": 41,
     "metadata": {},
     "output_type": "execute_result"
    }
   ],
   "source": [
    "%viz --style=\"DEFAULT\" --view=\"Action\" \"TradeStudyTest\""
   ]
  },
  {
   "cell_type": "code",
   "execution_count": 42,
   "id": "e53d3411",
   "metadata": {
    "execution": {
     "iopub.execute_input": "2021-10-03T08:30:39.171550Z",
     "iopub.status.busy": "2021-10-03T08:30:39.171154Z",
     "iopub.status.idle": "2021-10-03T08:30:39.176135Z",
     "shell.execute_reply": "2021-10-03T08:30:39.176445Z"
    }
   },
   "outputs": [
    {
     "data": {
      "image/svg+xml": [
       "<?xml version=\"1.0\" encoding=\"UTF-8\" standalone=\"no\"?><svg xmlns=\"http://www.w3.org/2000/svg\" xmlns:xlink=\"http://www.w3.org/1999/xlink\" contentScriptType=\"application/ecmascript\" contentStyleType=\"text/css\" height=\"12px\" preserveAspectRatio=\"none\" style=\"width:12px;height:12px;\" version=\"1.1\" viewBox=\"0 0 12 12\" width=\"12px\" zoomAndPan=\"magnify\"><defs/><g><!--MD5=[0b72472770326784bf6c2b53246e1e64]\n",
       "@startuml\r\n",
       "skinparam roundcorner 20\r\n",
       "skinparam BoxPadding 20\r\n",
       "skinparam SequenceBoxBackgroundColor #white\r\n",
       "skinparam style strictuml\r\n",
       "skinparam maxMessageSize 100\r\n",
       "skinparam monochrome true\r\n",
       "skinparam classbackgroundcolor white\r\n",
       "skinparam shadowing false\r\n",
       "skinparam wrapWidth 300\r\n",
       "hide circle\r\n",
       "\r\n",
       "@enduml\r\n",
       "\n",
       "PlantUML version 1.2020.13(Sat Jun 13 12:26:38 UTC 2020)\n",
       "(EPL source distribution)\n",
       "Java Runtime: OpenJDK Runtime Environment\n",
       "JVM: OpenJDK 64-Bit Server VM\n",
       "Default Encoding: UTF-8\n",
       "Language: en\n",
       "Country: null\n",
       "--></g></svg>"
      ]
     },
     "execution_count": 42,
     "metadata": {},
     "output_type": "execute_result"
    }
   ],
   "source": [
    "%viz --style=\"DEFAULT\" --view=\"Sequence\" \"TradeStudyTest\""
   ]
  },
  {
   "cell_type": "code",
   "execution_count": 43,
   "id": "e5184695",
   "metadata": {
    "execution": {
     "iopub.execute_input": "2021-10-03T08:30:39.226179Z",
     "iopub.status.busy": "2021-10-03T08:30:39.225791Z",
     "iopub.status.idle": "2021-10-03T08:30:39.265271Z",
     "shell.execute_reply": "2021-10-03T08:30:39.263502Z"
    }
   },
   "outputs": [
    {
     "data": {
      "image/svg+xml": [
       "<?xml version=\"1.0\" encoding=\"UTF-8\" standalone=\"no\"?><svg xmlns=\"http://www.w3.org/2000/svg\" xmlns:xlink=\"http://www.w3.org/1999/xlink\" contentScriptType=\"application/ecmascript\" contentStyleType=\"text/css\" height=\"497px\" preserveAspectRatio=\"none\" style=\"width:556px;height:497px;\" version=\"1.1\" viewBox=\"0 0 556 497\" width=\"556px\" zoomAndPan=\"magnify\"><defs/><g><!--MD5=[fbc87193dbaf4d95561dea2c320d4a47]\n",
       "cluster E1--><a href=\"psysml:ee7e22b2-7ed6-4f2c-8628-ec59eb221ec4\" target=\"_top\" title=\"psysml:ee7e22b2-7ed6-4f2c-8628-ec59eb221ec4\" xlink:actuate=\"onRequest\" xlink:href=\"psysml:ee7e22b2-7ed6-4f2c-8628-ec59eb221ec4\" xlink:show=\"new\" xlink:title=\"psysml:ee7e22b2-7ed6-4f2c-8628-ec59eb221ec4\" xlink:type=\"simple\"><polygon fill=\"#FFFFFF\" points=\"18.32,6,134.32,6,141.32,28.2969,534.32,28.2969,534.32,485,18.32,485,18.32,6\" style=\"stroke: #000000; stroke-width: 1.5;\"/><line style=\"stroke: #000000; stroke-width: 1.5;\" x1=\"18.32\" x2=\"141.32\" y1=\"28.2969\" y2=\"28.2969\"/><text fill=\"#000000\" font-family=\"sans-serif\" font-size=\"14\" font-weight=\"bold\" lengthAdjust=\"spacingAndGlyphs\" textLength=\"110\" x=\"22.32\" y=\"20.9951\">TradeStudyTest</text></a><!--MD5=[b4997ac47864f28c2f74865a473b2911]\n",
       "class E2--><a href=\"psysml:6dc2e48d-4c08-4400-bc60-82a531af2780\" target=\"_top\" title=\"psysml:6dc2e48d-4c08-4400-bc60-82a531af2780\" xlink:actuate=\"onRequest\" xlink:href=\"psysml:6dc2e48d-4c08-4400-bc60-82a531af2780\" xlink:show=\"new\" xlink:title=\"psysml:6dc2e48d-4c08-4400-bc60-82a531af2780\" xlink:type=\"simple\"><rect fill=\"#FFFFFF\" height=\"45.9375\" id=\"E2\" style=\"stroke: #383838; stroke-width: 1.5;\" width=\"66\" x=\"198.32\" y=\"423\"/><text fill=\"#000000\" font-family=\"sans-serif\" font-size=\"12\" font-style=\"italic\" lengthAdjust=\"spacingAndGlyphs\" textLength=\"64\" x=\"199.32\" y=\"439.1387\">«part def»</text><text fill=\"#000000\" font-family=\"sans-serif\" font-size=\"12\" lengthAdjust=\"spacingAndGlyphs\" textLength=\"43\" x=\"209.82\" y=\"453.1074\">Engine</text><line style=\"stroke: #383838; stroke-width: 1.5;\" x1=\"199.32\" x2=\"263.32\" y1=\"460.9375\" y2=\"460.9375\"/></a><!--MD5=[09b614a08d8cba4a07c9adeb5e0fee81]\n",
       "class E3--><a href=\"psysml:3defd9be-3b5d-4c6d-8f79-df776db84250\" target=\"_top\" title=\"psysml:3defd9be-3b5d-4c6d-8f79-df776db84250\" xlink:actuate=\"onRequest\" xlink:href=\"psysml:3defd9be-3b5d-4c6d-8f79-df776db84250\" xlink:show=\"new\" xlink:title=\"psysml:3defd9be-3b5d-4c6d-8f79-df776db84250\" xlink:type=\"simple\"><rect fill=\"#FFFFFF\" height=\"45.9375\" id=\"E3\" rx=\"10\" ry=\"10\" style=\"stroke: #383838; stroke-width: 1.5;\" width=\"108\" x=\"410.32\" y=\"316\"/><text fill=\"#000000\" font-family=\"sans-serif\" font-size=\"12\" font-style=\"italic\" lengthAdjust=\"spacingAndGlyphs\" textLength=\"40\" x=\"444.32\" y=\"332.1387\">«part»</text><text fill=\"#000000\" font-family=\"sans-serif\" font-size=\"12\" lengthAdjust=\"spacingAndGlyphs\" textLength=\"102\" x=\"413.32\" y=\"346.1074\">engine1: Engine</text><line style=\"stroke: #383838; stroke-width: 1.5;\" x1=\"411.32\" x2=\"517.32\" y1=\"353.9375\" y2=\"353.9375\"/></a><!--MD5=[ebbe1d658d1005bcc118a6aa81145e00]\n",
       "class E4--><a href=\"psysml:3a9a647b-2fd2-49b6-8a5f-7ce1649088e0\" target=\"_top\" title=\"psysml:3a9a647b-2fd2-49b6-8a5f-7ce1649088e0\" xlink:actuate=\"onRequest\" xlink:href=\"psysml:3a9a647b-2fd2-49b6-8a5f-7ce1649088e0\" xlink:show=\"new\" xlink:title=\"psysml:3a9a647b-2fd2-49b6-8a5f-7ce1649088e0\" xlink:type=\"simple\"><rect fill=\"#FFFFFF\" height=\"45.9375\" id=\"E4\" rx=\"10\" ry=\"10\" style=\"stroke: #383838; stroke-width: 1.5;\" width=\"108\" x=\"267.32\" y=\"316\"/><text fill=\"#000000\" font-family=\"sans-serif\" font-size=\"12\" font-style=\"italic\" lengthAdjust=\"spacingAndGlyphs\" textLength=\"40\" x=\"301.32\" y=\"332.1387\">«part»</text><text fill=\"#000000\" font-family=\"sans-serif\" font-size=\"12\" lengthAdjust=\"spacingAndGlyphs\" textLength=\"102\" x=\"270.32\" y=\"346.1074\">engine2: Engine</text><line style=\"stroke: #383838; stroke-width: 1.5;\" x1=\"268.32\" x2=\"374.32\" y1=\"353.9375\" y2=\"353.9375\"/></a><!--MD5=[270fce915f116d4de14055a7c1d9a0f3]\n",
       "class E5--><a href=\"psysml:4b9a9840-0888-40ad-997b-4be591991c45\" target=\"_top\" title=\"psysml:4b9a9840-0888-40ad-997b-4be591991c45\" xlink:actuate=\"onRequest\" xlink:href=\"psysml:4b9a9840-0888-40ad-997b-4be591991c45\" xlink:show=\"new\" xlink:title=\"psysml:4b9a9840-0888-40ad-997b-4be591991c45\" xlink:type=\"simple\"><rect fill=\"#FFFFFF\" height=\"45.9375\" id=\"E5\" rx=\"10\" ry=\"10\" style=\"stroke: #383838; stroke-width: 1.5;\" width=\"199\" x=\"239.82\" y=\"41\"/><text fill=\"#000000\" font-family=\"sans-serif\" font-size=\"12\" font-style=\"italic\" lengthAdjust=\"spacingAndGlyphs\" textLength=\"64\" x=\"307.32\" y=\"57.1387\">«analysis»</text><text fill=\"#000000\" font-family=\"sans-serif\" font-size=\"12\" lengthAdjust=\"spacingAndGlyphs\" textLength=\"193\" x=\"242.82\" y=\"71.1074\">engineTradeStudy: TradeStudy</text><line style=\"stroke: #383838; stroke-width: 1.5;\" x1=\"240.82\" x2=\"437.82\" y1=\"78.9375\" y2=\"78.9375\"/></a><!--MD5=[60a26617385b1d2d0262a64233df1f8d]\n",
       "class E6--><a href=\"psysml:6d56d509-a272-42e3-905c-0e1bbd246da0\" target=\"_top\" title=\"psysml:6d56d509-a272-42e3-905c-0e1bbd246da0\" xlink:actuate=\"onRequest\" xlink:href=\"psysml:6d56d509-a272-42e3-905c-0e1bbd246da0\" xlink:show=\"new\" xlink:title=\"psysml:6d56d509-a272-42e3-905c-0e1bbd246da0\" xlink:type=\"simple\"><rect fill=\"#FFFFFF\" height=\"45.9375\" id=\"E6\" rx=\"10\" ry=\"10\" style=\"stroke: #383838; stroke-width: 1.5;\" width=\"251\" x=\"78.82\" y=\"164\"/><text fill=\"#000000\" font-family=\"sans-serif\" font-size=\"12\" font-style=\"italic\" lengthAdjust=\"spacingAndGlyphs\" textLength=\"91\" x=\"158.82\" y=\"180.1387\">«requirement»</text><text fill=\"#000000\" font-family=\"sans-serif\" font-size=\"12\" lengthAdjust=\"spacingAndGlyphs\" textLength=\"245\" x=\"81.82\" y=\"194.1074\">tradeStudyObjective: MaximizeObjective</text><line style=\"stroke: #383838; stroke-width: 1.5;\" x1=\"79.82\" x2=\"328.82\" y1=\"201.9375\" y2=\"201.9375\"/></a><!--MD5=[2156ba9850f5573cc1fc38a6a4b2f02b]\n",
       "class E7--><a href=\"psysml:0d158b00-d202-4b1f-90aa-9fc427f4eb2b\" target=\"_top\" title=\"psysml:0d158b00-d202-4b1f-90aa-9fc427f4eb2b\" xlink:actuate=\"onRequest\" xlink:href=\"psysml:0d158b00-d202-4b1f-90aa-9fc427f4eb2b\" xlink:show=\"new\" xlink:title=\"psysml:0d158b00-d202-4b1f-90aa-9fc427f4eb2b\" xlink:type=\"simple\"><rect fill=\"#FFFFFF\" height=\"45.9375\" id=\"E7\" rx=\"10\" ry=\"10\" style=\"stroke: #383838; stroke-width: 1.5;\" width=\"116\" x=\"365.32\" y=\"164\"/><text fill=\"#000000\" font-family=\"sans-serif\" font-size=\"12\" font-style=\"italic\" lengthAdjust=\"spacingAndGlyphs\" textLength=\"82\" x=\"382.32\" y=\"180.1387\">«calculation»</text><text fill=\"#000000\" font-family=\"sans-serif\" font-size=\"12\" lengthAdjust=\"spacingAndGlyphs\" textLength=\"110\" x=\"368.32\" y=\"194.1074\">objectiveFunction</text><line style=\"stroke: #383838; stroke-width: 1.5;\" x1=\"366.32\" x2=\"480.32\" y1=\"201.9375\" y2=\"201.9375\"/></a><!--MD5=[b9389687b975829384b498ac4b7476b2]\n",
       "class E8--><a href=\"psysml:e8d66f1b-2710-4767-99ee-f2812ccd7696\" target=\"_top\" title=\"psysml:e8d66f1b-2710-4767-99ee-f2812ccd7696\" xlink:actuate=\"onRequest\" xlink:href=\"psysml:e8d66f1b-2710-4767-99ee-f2812ccd7696\" xlink:show=\"new\" xlink:title=\"psysml:e8d66f1b-2710-4767-99ee-f2812ccd7696\" xlink:type=\"simple\"><rect fill=\"#FFFFFF\" height=\"45.9375\" id=\"E8\" rx=\"10\" ry=\"10\" style=\"stroke: #383838; stroke-width: 1.5;\" width=\"124\" x=\"71.32\" y=\"316\"/><text fill=\"#000000\" font-family=\"sans-serif\" font-size=\"12\" font-style=\"italic\" lengthAdjust=\"spacingAndGlyphs\" textLength=\"40\" x=\"113.32\" y=\"332.1387\">«part»</text><text fill=\"#000000\" font-family=\"sans-serif\" font-size=\"12\" lengthAdjust=\"spacingAndGlyphs\" textLength=\"118\" x=\"74.32\" y=\"346.1074\">alternative: Engine</text><line style=\"stroke: #383838; stroke-width: 1.5;\" x1=\"72.32\" x2=\"194.32\" y1=\"353.9375\" y2=\"353.9375\"/></a><!--MD5=[fd4143e9d270a159db93a4ea2a975926]\n",
       "class E9--><a href=\"psysml:d0667918-a428-4729-9680-50da29281cd4\" target=\"_top\" title=\"psysml:d0667918-a428-4729-9680-50da29281cd4\" xlink:actuate=\"onRequest\" xlink:href=\"psysml:d0667918-a428-4729-9680-50da29281cd4\" xlink:show=\"new\" xlink:title=\"psysml:d0667918-a428-4729-9680-50da29281cd4\" xlink:type=\"simple\"><rect fill=\"#FFFFFF\" height=\"45.9375\" id=\"E9\" rx=\"10\" ry=\"10\" style=\"stroke: #383838; stroke-width: 1.5;\" width=\"178\" x=\"291.32\" y=\"240\"/><text fill=\"#000000\" font-family=\"sans-serif\" font-size=\"12\" font-style=\"italic\" lengthAdjust=\"spacingAndGlyphs\" textLength=\"40\" x=\"360.32\" y=\"256.1387\">«part»</text><text fill=\"#000000\" font-family=\"sans-serif\" font-size=\"12\" lengthAdjust=\"spacingAndGlyphs\" textLength=\"172\" x=\"294.32\" y=\"270.1074\">selectedAlternative: Engine</text><line style=\"stroke: #383838; stroke-width: 1.5;\" x1=\"292.32\" x2=\"468.32\" y1=\"277.9375\" y2=\"277.9375\"/></a><!--MD5=[05d275557350bfb9b23a4ef7222b4c39]\n",
       "link E3 to E2--><a href=\"psysml:2c927883-7b33-4f30-b07f-44dca6adebf7\" target=\"_top\" title=\"psysml:2c927883-7b33-4f30-b07f-44dca6adebf7\" xlink:actuate=\"onRequest\" xlink:href=\"psysml:2c927883-7b33-4f30-b07f-44dca6adebf7\" xlink:show=\"new\" xlink:title=\"psysml:2c927883-7b33-4f30-b07f-44dca6adebf7\" xlink:type=\"simple\"><path d=\"M415.48,362.01 C376.57,379.54 322.27,404.01 282.71,421.84 \" fill=\"none\" id=\"E3-&gt;E2\" style=\"stroke: #383838; stroke-width: 1.0;\"/><polygon fill=\"#FFFFFF\" points=\"264.34,430.12,278.7866,415.9321,284.5383,428.696,264.34,430.12\" style=\"stroke: #383838; stroke-width: 1.0;\"/><ellipse cx=\"284.805\" cy=\"415.4137\" fill=\"#383838\" rx=\"2\" ry=\"2\" style=\"stroke: #383838; stroke-width: 1.0;\"/><ellipse cx=\"288.9134\" cy=\"424.5308\" fill=\"#383838\" rx=\"2\" ry=\"2\" style=\"stroke: #383838; stroke-width: 1.0;\"/></a><!--MD5=[185131fc0dcab0a4505a2ebe144e961b]\n",
       "link E4 to E2--><a href=\"psysml:59e46c20-b41c-4b83-8c8c-eff5ad41f1d7\" target=\"_top\" title=\"psysml:59e46c20-b41c-4b83-8c8c-eff5ad41f1d7\" xlink:actuate=\"onRequest\" xlink:href=\"psysml:59e46c20-b41c-4b83-8c8c-eff5ad41f1d7\" xlink:show=\"new\" xlink:title=\"psysml:59e46c20-b41c-4b83-8c8c-eff5ad41f1d7\" xlink:type=\"simple\"><path d=\"M302.45,362.01 C291.25,375.08 276.74,392.01 263.74,407.17 \" fill=\"none\" id=\"E4-&gt;E2\" style=\"stroke: #383838; stroke-width: 1.0;\"/><polygon fill=\"#FFFFFF\" points=\"250.47,422.66,257.5188,403.678,268.1491,412.7883,250.47,422.66\" style=\"stroke: #383838; stroke-width: 1.0;\"/><ellipse cx=\"262.7466\" cy=\"400.6515\" fill=\"#383838\" rx=\"2\" ry=\"2\" style=\"stroke: #383838; stroke-width: 1.0;\"/><ellipse cx=\"270.3396\" cy=\"407.1588\" fill=\"#383838\" rx=\"2\" ry=\"2\" style=\"stroke: #383838; stroke-width: 1.0;\"/></a><!--MD5=[15ebcb19ae302d9b601edb458606d402]\n",
       "link E5 to E2--><a href=\"psysml:d5cbdaa6-c586-4ab8-b2f7-038eda38592d\" target=\"_top\" title=\"psysml:d5cbdaa6-c586-4ab8-b2f7-038eda38592d\" xlink:actuate=\"onRequest\" xlink:href=\"psysml:d5cbdaa6-c586-4ab8-b2f7-038eda38592d\" xlink:show=\"new\" xlink:title=\"psysml:d5cbdaa6-c586-4ab8-b2f7-038eda38592d\" xlink:type=\"simple\"><path d=\"M239.76,73.22 C177.99,83.96 102.74,108.45 61.32,164 C8.68,234.61 6,287.72 53.32,362 C83.95,410.08 150.5,430.76 192.99,439.32 \" fill=\"none\" id=\"E5-&gt;E2\" style=\"stroke: #383838; stroke-width: 1.0; stroke-dasharray: 7.0,7.0;\"/><polygon fill=\"#383838\" points=\"198.04,440.31,189.9738,434.6588,193.1327,439.3514,188.4401,442.5104,198.04,440.31\" style=\"stroke: #383838; stroke-width: 1.0;\"/><text fill=\"#000000\" font-family=\"sans-serif\" font-size=\"13\" lengthAdjust=\"spacingAndGlyphs\" textLength=\"62\" x=\"24.32\" y=\"267.5669\">«subject»</text></a><!--MD5=[9120cf2e5df3bff93db8f754bbbc09b4]\n",
       "link E5 to E6--><a href=\"psysml:14d02f99-86ef-419d-b64f-b983855c21b7\" target=\"_top\" title=\"psysml:14d02f99-86ef-419d-b64f-b983855c21b7\" xlink:actuate=\"onRequest\" xlink:href=\"psysml:14d02f99-86ef-419d-b64f-b983855c21b7\" xlink:show=\"new\" xlink:title=\"psysml:14d02f99-86ef-419d-b64f-b983855c21b7\" xlink:type=\"simple\"><path d=\"M314.56,87.19 C292.2,107.23 259.21,136.8 235.15,158.37 \" fill=\"none\" id=\"E5-&gt;E6\" style=\"stroke: #383838; stroke-width: 1.0;\"/><polygon fill=\"#383838\" points=\"228.92,163.95,236.8786,160.8419,232.8725,156.3752,228.92,163.95\" style=\"stroke: #383838; stroke-width: 1.0;\"/><text fill=\"#000000\" font-family=\"sans-serif\" font-size=\"13\" lengthAdjust=\"spacingAndGlyphs\" textLength=\"73\" x=\"280.32\" y=\"130.0669\">«objective»</text></a><!--MD5=[452b418e7f8a40397a49b8c0a78acc5b]\n",
       "reverse link E5 to E7--><a href=\"psysml:60238b1f-3640-4bef-bde7-54f879504707\" target=\"_top\" title=\"psysml:60238b1f-3640-4bef-bde7-54f879504707\" xlink:actuate=\"onRequest\" xlink:href=\"psysml:60238b1f-3640-4bef-bde7-54f879504707\" xlink:show=\"new\" xlink:title=\"psysml:60238b1f-3640-4bef-bde7-54f879504707\" xlink:type=\"simple\"><path d=\"M362.14,97.88 C376.71,118.86 395.19,145.48 408.01,163.95 \" fill=\"none\" id=\"E5&lt;-E7\" style=\"stroke: #383838; stroke-width: 1.0;\"/><polygon fill=\"#383838\" points=\"354.73,87.19,354.864,94.3999,361.5708,97.0492,361.4368,89.8393,354.73,87.19\" style=\"stroke: #383838; stroke-width: 1.0;\"/></a><!--MD5=[dc164f5e8a733ab456ef1add180e9e34]\n",
       "reverse link E7 to E8--><a href=\"psysml:83c02207-4172-44b5-b5b3-edd55ab7c0db\" target=\"_top\" title=\"psysml:83c02207-4172-44b5-b5b3-edd55ab7c0db\" xlink:actuate=\"onRequest\" xlink:href=\"psysml:83c02207-4172-44b5-b5b3-edd55ab7c0db\" xlink:show=\"new\" xlink:title=\"psysml:83c02207-4172-44b5-b5b3-edd55ab7c0db\" xlink:type=\"simple\"><path d=\"M352.67,208.29 C327.33,216.69 298.96,227.44 274.32,240 C231.96,261.6 187.65,294.33 160.26,315.93 \" fill=\"none\" id=\"E7&lt;-E8\" style=\"stroke: #383838; stroke-width: 1.0;\"/><polygon fill=\"#FFFFFF\" points=\"365.22,204.24,358.2818,202.2749,353.7994,207.9236,360.7376,209.8887,365.22,204.24\" style=\"stroke: #383838; stroke-width: 1.0;\"/><text fill=\"#000000\" font-family=\"sans-serif\" font-size=\"13\" lengthAdjust=\"spacingAndGlyphs\" textLength=\"8\" x=\"158.4251\" y=\"304.8075\">1</text></a><!--MD5=[f1f3f9f2fc535e6147756cb86a7f2e32]\n",
       "link E8 to E2--><a href=\"psysml:3fd357fc-9742-4e4a-b08f-00e5f8b92b2e\" target=\"_top\" title=\"psysml:3fd357fc-9742-4e4a-b08f-00e5f8b92b2e\" xlink:actuate=\"onRequest\" xlink:href=\"psysml:3fd357fc-9742-4e4a-b08f-00e5f8b92b2e\" xlink:show=\"new\" xlink:title=\"psysml:3fd357fc-9742-4e4a-b08f-00e5f8b92b2e\" xlink:type=\"simple\"><path d=\"M153.86,362.01 C166.19,375.22 182.2,392.38 196.46,407.65 \" fill=\"none\" id=\"E8-&gt;E2\" style=\"stroke: #383838; stroke-width: 1.0;\"/><polygon fill=\"#FFFFFF\" points=\"210.47,422.66,192.3921,413.5393,202.6305,403.9907,210.47,422.66\" style=\"stroke: #383838; stroke-width: 1.0;\"/><ellipse cx=\"189.9671\" cy=\"408.0067\" fill=\"#383838\" rx=\"2\" ry=\"2\" style=\"stroke: #383838; stroke-width: 1.0;\"/><ellipse cx=\"197.2802\" cy=\"401.1863\" fill=\"#383838\" rx=\"2\" ry=\"2\" style=\"stroke: #383838; stroke-width: 1.0;\"/></a><!--MD5=[9ae28de373ca99bb8a1b38d63370ca7e]\n",
       "reverse link E5 to E9--><a href=\"psysml:44393528-ee32-422a-b73c-7e5d578e1b67\" target=\"_top\" title=\"psysml:44393528-ee32-422a-b73c-7e5d578e1b67\" xlink:actuate=\"onRequest\" xlink:href=\"psysml:44393528-ee32-422a-b73c-7e5d578e1b67\" xlink:show=\"new\" xlink:title=\"psysml:44393528-ee32-422a-b73c-7e5d578e1b67\" xlink:type=\"simple\"><path d=\"M416.08,92.77 C447.78,108.48 481.27,131.61 499.32,164 C509.27,181.86 510.51,192.89 499.32,210 C490.86,222.92 478.41,232.65 464.71,239.97 \" fill=\"none\" id=\"E5&lt;-E9\" style=\"stroke: #383838; stroke-width: 1.0;\"/><polygon fill=\"#FFFFFF\" points=\"404.06,87.11,407.7814,93.2867,414.9142,92.2272,411.1928,86.0505,404.06,87.11\" style=\"stroke: #383838; stroke-width: 1.0;\"/><text fill=\"#000000\" font-family=\"sans-serif\" font-size=\"13\" lengthAdjust=\"spacingAndGlyphs\" textLength=\"8\" x=\"477.3099\" y=\"229.2386\">1</text></a><!--MD5=[5c3bb36fe832a92c7f0e1807dd65209d]\n",
       "link E9 to E2--><a href=\"psysml:fe7d5224-67e7-4f42-a679-f87e330c9f80\" target=\"_top\" title=\"psysml:fe7d5224-67e7-4f42-a679-f87e330c9f80\" xlink:actuate=\"onRequest\" xlink:href=\"psysml:fe7d5224-67e7-4f42-a679-f87e330c9f80\" xlink:show=\"new\" xlink:title=\"psysml:fe7d5224-67e7-4f42-a679-f87e330c9f80\" xlink:type=\"simple\"><path d=\"M291.19,285.15 C275.57,292.56 260.94,302.55 250.32,316 C231.17,340.25 227.04,375.32 227.36,402.77 \" fill=\"none\" id=\"E9-&gt;E2\" style=\"stroke: #383838; stroke-width: 1.0;\"/><polygon fill=\"#FFFFFF\" points=\"228.36,422.81,220.4186,404.1838,234.4011,403.4837,228.36,422.81\" style=\"stroke: #383838; stroke-width: 1.0;\"/><ellipse cx=\"222.131\" cy=\"398.3909\" fill=\"#383838\" rx=\"2\" ry=\"2\" style=\"stroke: #383838; stroke-width: 1.0;\"/><ellipse cx=\"232.1185\" cy=\"397.8909\" fill=\"#383838\" rx=\"2\" ry=\"2\" style=\"stroke: #383838; stroke-width: 1.0;\"/></a><!--MD5=[f56d6629be01f8a8628702cf931cb243]\n",
       "@startuml\r\n",
       "skinparam monochrome true\r\n",
       "skinparam classbackgroundcolor white\r\n",
       "skinparam shadowing false\r\n",
       "skinparam wrapWidth 300\r\n",
       "hide circle\r\n",
       "\r\n",
       "package \"TradeStudyTest\" as E1  [[psysml:ee7e22b2-7ed6-4f2c-8628-ec59eb221ec4 ]]  {\r\n",
       "comp def \"Engine\" as E2  <<(T,blue) part def>> [[psysml:6dc2e48d-4c08-4400-bc60-82a531af2780 ]] {\r\n",
       "}\r\n",
       "comp usage \"engine1: Engine\" as E3  <<(T,blue) part>> [[psysml:3defd9be-3b5d-4c6d-8f79-df776db84250 ]] {\r\n",
       "}\r\n",
       "comp usage \"engine2: Engine\" as E4  <<(T,blue) part>> [[psysml:3a9a647b-2fd2-49b6-8a5f-7ce1649088e0 ]] {\r\n",
       "}\r\n",
       "comp usage \"engineTradeStudy: TradeStudy\" as E5 << analysis>> [[psysml:4b9a9840-0888-40ad-997b-4be591991c45 ]] {\r\n",
       "}\r\n",
       "comp usage \"tradeStudyObjective: MaximizeObjective\" as E6  <<(T,blue) requirement>> [[psysml:6d56d509-a272-42e3-905c-0e1bbd246da0 ]] {\r\n",
       "}\r\n",
       "comp usage \"objectiveFunction\" as E7  <<(T,blue) calculation>> [[psysml:0d158b00-d202-4b1f-90aa-9fc427f4eb2b ]] {\r\n",
       "}\r\n",
       "comp usage \"alternative: Engine\" as E8  <<(T,blue) part>> [[psysml:e8d66f1b-2710-4767-99ee-f2812ccd7696 ]] {\r\n",
       "}\r\n",
       "comp usage \"selectedAlternative: Engine\" as E9  <<(T,blue) part>> [[psysml:d0667918-a428-4729-9680-50da29281cd4 ]] {\r\n",
       "}\r\n",
       "}\r\n",
       "E3 - -:|> E2 [[psysml:2c927883-7b33-4f30-b07f-44dca6adebf7 ]] \r\n",
       "E4 - -:|> E2 [[psysml:59e46c20-b41c-4b83-8c8c-eff5ad41f1d7 ]] \r\n",
       "E5 ..> E2 [[psysml:d5cbdaa6-c586-4ab8-b2f7-038eda38592d ]] : <<subject>>\r\n",
       "E5 - ->> E6 [[psysml:14d02f99-86ef-419d-b64f-b983855c21b7 ]] : <<objective>>\r\n",
       "E5 *- - E7 [[psysml:60238b1f-3640-4bef-bde7-54f879504707 ]] \r\n",
       "E7 o- - \"1\"E8 [[psysml:83c02207-4172-44b5-b5b3-edd55ab7c0db ]] \r\n",
       "E8 - -:|> E2 [[psysml:3fd357fc-9742-4e4a-b08f-00e5f8b92b2e ]] \r\n",
       "E5 o- - \"1\"E9 [[psysml:44393528-ee32-422a-b73c-7e5d578e1b67 ]] \r\n",
       "E9 - -:|> E2 [[psysml:fe7d5224-67e7-4f42-a679-f87e330c9f80 ]] \r\n",
       "@enduml\r\n",
       "\n",
       "PlantUML version 1.2020.13(Sat Jun 13 12:26:38 UTC 2020)\n",
       "(EPL source distribution)\n",
       "Java Runtime: OpenJDK Runtime Environment\n",
       "JVM: OpenJDK 64-Bit Server VM\n",
       "Default Encoding: UTF-8\n",
       "Language: en\n",
       "Country: null\n",
       "--></g></svg>"
      ]
     },
     "execution_count": 43,
     "metadata": {},
     "output_type": "execute_result"
    }
   ],
   "source": [
    "%viz --style=\"DEFAULT\" --view=\"MIXED\" \"TradeStudyTest\""
   ]
  },
  {
   "cell_type": "code",
   "execution_count": 44,
   "id": "ce52ce8d",
   "metadata": {
    "execution": {
     "iopub.execute_input": "2021-10-03T08:30:39.314398Z",
     "iopub.status.busy": "2021-10-03T08:30:39.314007Z",
     "iopub.status.idle": "2021-10-03T08:30:39.352175Z",
     "shell.execute_reply": "2021-10-03T08:30:39.351817Z"
    }
   },
   "outputs": [
    {
     "data": {
      "image/svg+xml": [
       "<?xml version=\"1.0\" encoding=\"UTF-8\" standalone=\"no\"?><svg xmlns=\"http://www.w3.org/2000/svg\" xmlns:xlink=\"http://www.w3.org/1999/xlink\" contentScriptType=\"application/ecmascript\" contentStyleType=\"text/css\" height=\"497px\" preserveAspectRatio=\"none\" style=\"width:556px;height:497px;\" version=\"1.1\" viewBox=\"0 0 556 497\" width=\"556px\" zoomAndPan=\"magnify\"><defs/><g><!--MD5=[fbc87193dbaf4d95561dea2c320d4a47]\n",
       "cluster E1--><a href=\"psysml:ee7e22b2-7ed6-4f2c-8628-ec59eb221ec4\" target=\"_top\" title=\"psysml:ee7e22b2-7ed6-4f2c-8628-ec59eb221ec4\" xlink:actuate=\"onRequest\" xlink:href=\"psysml:ee7e22b2-7ed6-4f2c-8628-ec59eb221ec4\" xlink:show=\"new\" xlink:title=\"psysml:ee7e22b2-7ed6-4f2c-8628-ec59eb221ec4\" xlink:type=\"simple\"><polygon fill=\"#FFFFFF\" points=\"18.32,6,134.32,6,141.32,28.2969,534.32,28.2969,534.32,485,18.32,485,18.32,6\" style=\"stroke: #000000; stroke-width: 1.5;\"/><line style=\"stroke: #000000; stroke-width: 1.5;\" x1=\"18.32\" x2=\"141.32\" y1=\"28.2969\" y2=\"28.2969\"/><text fill=\"#000000\" font-family=\"sans-serif\" font-size=\"14\" font-weight=\"bold\" lengthAdjust=\"spacingAndGlyphs\" textLength=\"110\" x=\"22.32\" y=\"20.9951\">TradeStudyTest</text></a><!--MD5=[b4997ac47864f28c2f74865a473b2911]\n",
       "class E2--><a href=\"psysml:6dc2e48d-4c08-4400-bc60-82a531af2780\" target=\"_top\" title=\"psysml:6dc2e48d-4c08-4400-bc60-82a531af2780\" xlink:actuate=\"onRequest\" xlink:href=\"psysml:6dc2e48d-4c08-4400-bc60-82a531af2780\" xlink:show=\"new\" xlink:title=\"psysml:6dc2e48d-4c08-4400-bc60-82a531af2780\" xlink:type=\"simple\"><rect fill=\"#FFFFFF\" height=\"45.9375\" id=\"E2\" style=\"stroke: #383838; stroke-width: 1.5;\" width=\"66\" x=\"198.32\" y=\"423\"/><text fill=\"#000000\" font-family=\"sans-serif\" font-size=\"12\" font-style=\"italic\" lengthAdjust=\"spacingAndGlyphs\" textLength=\"64\" x=\"199.32\" y=\"439.1387\">«part def»</text><text fill=\"#000000\" font-family=\"sans-serif\" font-size=\"12\" lengthAdjust=\"spacingAndGlyphs\" textLength=\"43\" x=\"209.82\" y=\"453.1074\">Engine</text><line style=\"stroke: #383838; stroke-width: 1.5;\" x1=\"199.32\" x2=\"263.32\" y1=\"460.9375\" y2=\"460.9375\"/></a><!--MD5=[09b614a08d8cba4a07c9adeb5e0fee81]\n",
       "class E3--><a href=\"psysml:3defd9be-3b5d-4c6d-8f79-df776db84250\" target=\"_top\" title=\"psysml:3defd9be-3b5d-4c6d-8f79-df776db84250\" xlink:actuate=\"onRequest\" xlink:href=\"psysml:3defd9be-3b5d-4c6d-8f79-df776db84250\" xlink:show=\"new\" xlink:title=\"psysml:3defd9be-3b5d-4c6d-8f79-df776db84250\" xlink:type=\"simple\"><rect fill=\"#FFFFFF\" height=\"45.9375\" id=\"E3\" rx=\"10\" ry=\"10\" style=\"stroke: #383838; stroke-width: 1.5;\" width=\"108\" x=\"410.32\" y=\"316\"/><text fill=\"#000000\" font-family=\"sans-serif\" font-size=\"12\" font-style=\"italic\" lengthAdjust=\"spacingAndGlyphs\" textLength=\"40\" x=\"444.32\" y=\"332.1387\">«part»</text><text fill=\"#000000\" font-family=\"sans-serif\" font-size=\"12\" lengthAdjust=\"spacingAndGlyphs\" textLength=\"102\" x=\"413.32\" y=\"346.1074\">engine1: Engine</text><line style=\"stroke: #383838; stroke-width: 1.5;\" x1=\"411.32\" x2=\"517.32\" y1=\"353.9375\" y2=\"353.9375\"/></a><!--MD5=[ebbe1d658d1005bcc118a6aa81145e00]\n",
       "class E4--><a href=\"psysml:3a9a647b-2fd2-49b6-8a5f-7ce1649088e0\" target=\"_top\" title=\"psysml:3a9a647b-2fd2-49b6-8a5f-7ce1649088e0\" xlink:actuate=\"onRequest\" xlink:href=\"psysml:3a9a647b-2fd2-49b6-8a5f-7ce1649088e0\" xlink:show=\"new\" xlink:title=\"psysml:3a9a647b-2fd2-49b6-8a5f-7ce1649088e0\" xlink:type=\"simple\"><rect fill=\"#FFFFFF\" height=\"45.9375\" id=\"E4\" rx=\"10\" ry=\"10\" style=\"stroke: #383838; stroke-width: 1.5;\" width=\"108\" x=\"267.32\" y=\"316\"/><text fill=\"#000000\" font-family=\"sans-serif\" font-size=\"12\" font-style=\"italic\" lengthAdjust=\"spacingAndGlyphs\" textLength=\"40\" x=\"301.32\" y=\"332.1387\">«part»</text><text fill=\"#000000\" font-family=\"sans-serif\" font-size=\"12\" lengthAdjust=\"spacingAndGlyphs\" textLength=\"102\" x=\"270.32\" y=\"346.1074\">engine2: Engine</text><line style=\"stroke: #383838; stroke-width: 1.5;\" x1=\"268.32\" x2=\"374.32\" y1=\"353.9375\" y2=\"353.9375\"/></a><!--MD5=[270fce915f116d4de14055a7c1d9a0f3]\n",
       "class E5--><a href=\"psysml:4b9a9840-0888-40ad-997b-4be591991c45\" target=\"_top\" title=\"psysml:4b9a9840-0888-40ad-997b-4be591991c45\" xlink:actuate=\"onRequest\" xlink:href=\"psysml:4b9a9840-0888-40ad-997b-4be591991c45\" xlink:show=\"new\" xlink:title=\"psysml:4b9a9840-0888-40ad-997b-4be591991c45\" xlink:type=\"simple\"><rect fill=\"#FFFFFF\" height=\"45.9375\" id=\"E5\" rx=\"10\" ry=\"10\" style=\"stroke: #383838; stroke-width: 1.5;\" width=\"199\" x=\"239.82\" y=\"41\"/><text fill=\"#000000\" font-family=\"sans-serif\" font-size=\"12\" font-style=\"italic\" lengthAdjust=\"spacingAndGlyphs\" textLength=\"64\" x=\"307.32\" y=\"57.1387\">«analysis»</text><text fill=\"#000000\" font-family=\"sans-serif\" font-size=\"12\" lengthAdjust=\"spacingAndGlyphs\" textLength=\"193\" x=\"242.82\" y=\"71.1074\">engineTradeStudy: TradeStudy</text><line style=\"stroke: #383838; stroke-width: 1.5;\" x1=\"240.82\" x2=\"437.82\" y1=\"78.9375\" y2=\"78.9375\"/></a><!--MD5=[60a26617385b1d2d0262a64233df1f8d]\n",
       "class E6--><a href=\"psysml:6d56d509-a272-42e3-905c-0e1bbd246da0\" target=\"_top\" title=\"psysml:6d56d509-a272-42e3-905c-0e1bbd246da0\" xlink:actuate=\"onRequest\" xlink:href=\"psysml:6d56d509-a272-42e3-905c-0e1bbd246da0\" xlink:show=\"new\" xlink:title=\"psysml:6d56d509-a272-42e3-905c-0e1bbd246da0\" xlink:type=\"simple\"><rect fill=\"#FFFFFF\" height=\"45.9375\" id=\"E6\" rx=\"10\" ry=\"10\" style=\"stroke: #383838; stroke-width: 1.5;\" width=\"251\" x=\"78.82\" y=\"164\"/><text fill=\"#000000\" font-family=\"sans-serif\" font-size=\"12\" font-style=\"italic\" lengthAdjust=\"spacingAndGlyphs\" textLength=\"91\" x=\"158.82\" y=\"180.1387\">«requirement»</text><text fill=\"#000000\" font-family=\"sans-serif\" font-size=\"12\" lengthAdjust=\"spacingAndGlyphs\" textLength=\"245\" x=\"81.82\" y=\"194.1074\">tradeStudyObjective: MaximizeObjective</text><line style=\"stroke: #383838; stroke-width: 1.5;\" x1=\"79.82\" x2=\"328.82\" y1=\"201.9375\" y2=\"201.9375\"/></a><!--MD5=[2156ba9850f5573cc1fc38a6a4b2f02b]\n",
       "class E7--><a href=\"psysml:0d158b00-d202-4b1f-90aa-9fc427f4eb2b\" target=\"_top\" title=\"psysml:0d158b00-d202-4b1f-90aa-9fc427f4eb2b\" xlink:actuate=\"onRequest\" xlink:href=\"psysml:0d158b00-d202-4b1f-90aa-9fc427f4eb2b\" xlink:show=\"new\" xlink:title=\"psysml:0d158b00-d202-4b1f-90aa-9fc427f4eb2b\" xlink:type=\"simple\"><rect fill=\"#FFFFFF\" height=\"45.9375\" id=\"E7\" rx=\"10\" ry=\"10\" style=\"stroke: #383838; stroke-width: 1.5;\" width=\"116\" x=\"365.32\" y=\"164\"/><text fill=\"#000000\" font-family=\"sans-serif\" font-size=\"12\" font-style=\"italic\" lengthAdjust=\"spacingAndGlyphs\" textLength=\"82\" x=\"382.32\" y=\"180.1387\">«calculation»</text><text fill=\"#000000\" font-family=\"sans-serif\" font-size=\"12\" lengthAdjust=\"spacingAndGlyphs\" textLength=\"110\" x=\"368.32\" y=\"194.1074\">objectiveFunction</text><line style=\"stroke: #383838; stroke-width: 1.5;\" x1=\"366.32\" x2=\"480.32\" y1=\"201.9375\" y2=\"201.9375\"/></a><!--MD5=[b9389687b975829384b498ac4b7476b2]\n",
       "class E8--><a href=\"psysml:e8d66f1b-2710-4767-99ee-f2812ccd7696\" target=\"_top\" title=\"psysml:e8d66f1b-2710-4767-99ee-f2812ccd7696\" xlink:actuate=\"onRequest\" xlink:href=\"psysml:e8d66f1b-2710-4767-99ee-f2812ccd7696\" xlink:show=\"new\" xlink:title=\"psysml:e8d66f1b-2710-4767-99ee-f2812ccd7696\" xlink:type=\"simple\"><rect fill=\"#FFFFFF\" height=\"45.9375\" id=\"E8\" rx=\"10\" ry=\"10\" style=\"stroke: #383838; stroke-width: 1.5;\" width=\"124\" x=\"71.32\" y=\"316\"/><text fill=\"#000000\" font-family=\"sans-serif\" font-size=\"12\" font-style=\"italic\" lengthAdjust=\"spacingAndGlyphs\" textLength=\"40\" x=\"113.32\" y=\"332.1387\">«part»</text><text fill=\"#000000\" font-family=\"sans-serif\" font-size=\"12\" lengthAdjust=\"spacingAndGlyphs\" textLength=\"118\" x=\"74.32\" y=\"346.1074\">alternative: Engine</text><line style=\"stroke: #383838; stroke-width: 1.5;\" x1=\"72.32\" x2=\"194.32\" y1=\"353.9375\" y2=\"353.9375\"/></a><!--MD5=[fd4143e9d270a159db93a4ea2a975926]\n",
       "class E9--><a href=\"psysml:d0667918-a428-4729-9680-50da29281cd4\" target=\"_top\" title=\"psysml:d0667918-a428-4729-9680-50da29281cd4\" xlink:actuate=\"onRequest\" xlink:href=\"psysml:d0667918-a428-4729-9680-50da29281cd4\" xlink:show=\"new\" xlink:title=\"psysml:d0667918-a428-4729-9680-50da29281cd4\" xlink:type=\"simple\"><rect fill=\"#FFFFFF\" height=\"45.9375\" id=\"E9\" rx=\"10\" ry=\"10\" style=\"stroke: #383838; stroke-width: 1.5;\" width=\"178\" x=\"291.32\" y=\"240\"/><text fill=\"#000000\" font-family=\"sans-serif\" font-size=\"12\" font-style=\"italic\" lengthAdjust=\"spacingAndGlyphs\" textLength=\"40\" x=\"360.32\" y=\"256.1387\">«part»</text><text fill=\"#000000\" font-family=\"sans-serif\" font-size=\"12\" lengthAdjust=\"spacingAndGlyphs\" textLength=\"172\" x=\"294.32\" y=\"270.1074\">selectedAlternative: Engine</text><line style=\"stroke: #383838; stroke-width: 1.5;\" x1=\"292.32\" x2=\"468.32\" y1=\"277.9375\" y2=\"277.9375\"/></a><!--MD5=[05d275557350bfb9b23a4ef7222b4c39]\n",
       "link E3 to E2--><a href=\"psysml:2c927883-7b33-4f30-b07f-44dca6adebf7\" target=\"_top\" title=\"psysml:2c927883-7b33-4f30-b07f-44dca6adebf7\" xlink:actuate=\"onRequest\" xlink:href=\"psysml:2c927883-7b33-4f30-b07f-44dca6adebf7\" xlink:show=\"new\" xlink:title=\"psysml:2c927883-7b33-4f30-b07f-44dca6adebf7\" xlink:type=\"simple\"><path d=\"M415.48,362.01 C376.57,379.54 322.27,404.01 282.71,421.84 \" fill=\"none\" id=\"E3-&gt;E2\" style=\"stroke: #383838; stroke-width: 1.0;\"/><polygon fill=\"#FFFFFF\" points=\"264.34,430.12,278.7866,415.9321,284.5383,428.696,264.34,430.12\" style=\"stroke: #383838; stroke-width: 1.0;\"/><ellipse cx=\"284.805\" cy=\"415.4137\" fill=\"#383838\" rx=\"2\" ry=\"2\" style=\"stroke: #383838; stroke-width: 1.0;\"/><ellipse cx=\"288.9134\" cy=\"424.5308\" fill=\"#383838\" rx=\"2\" ry=\"2\" style=\"stroke: #383838; stroke-width: 1.0;\"/></a><!--MD5=[185131fc0dcab0a4505a2ebe144e961b]\n",
       "link E4 to E2--><a href=\"psysml:59e46c20-b41c-4b83-8c8c-eff5ad41f1d7\" target=\"_top\" title=\"psysml:59e46c20-b41c-4b83-8c8c-eff5ad41f1d7\" xlink:actuate=\"onRequest\" xlink:href=\"psysml:59e46c20-b41c-4b83-8c8c-eff5ad41f1d7\" xlink:show=\"new\" xlink:title=\"psysml:59e46c20-b41c-4b83-8c8c-eff5ad41f1d7\" xlink:type=\"simple\"><path d=\"M302.45,362.01 C291.25,375.08 276.74,392.01 263.74,407.17 \" fill=\"none\" id=\"E4-&gt;E2\" style=\"stroke: #383838; stroke-width: 1.0;\"/><polygon fill=\"#FFFFFF\" points=\"250.47,422.66,257.5188,403.678,268.1491,412.7883,250.47,422.66\" style=\"stroke: #383838; stroke-width: 1.0;\"/><ellipse cx=\"262.7466\" cy=\"400.6515\" fill=\"#383838\" rx=\"2\" ry=\"2\" style=\"stroke: #383838; stroke-width: 1.0;\"/><ellipse cx=\"270.3396\" cy=\"407.1588\" fill=\"#383838\" rx=\"2\" ry=\"2\" style=\"stroke: #383838; stroke-width: 1.0;\"/></a><!--MD5=[15ebcb19ae302d9b601edb458606d402]\n",
       "link E5 to E2--><a href=\"psysml:d5cbdaa6-c586-4ab8-b2f7-038eda38592d\" target=\"_top\" title=\"psysml:d5cbdaa6-c586-4ab8-b2f7-038eda38592d\" xlink:actuate=\"onRequest\" xlink:href=\"psysml:d5cbdaa6-c586-4ab8-b2f7-038eda38592d\" xlink:show=\"new\" xlink:title=\"psysml:d5cbdaa6-c586-4ab8-b2f7-038eda38592d\" xlink:type=\"simple\"><path d=\"M239.76,73.22 C177.99,83.96 102.74,108.45 61.32,164 C8.68,234.61 6,287.72 53.32,362 C83.95,410.08 150.5,430.76 192.99,439.32 \" fill=\"none\" id=\"E5-&gt;E2\" style=\"stroke: #383838; stroke-width: 1.0; stroke-dasharray: 7.0,7.0;\"/><polygon fill=\"#383838\" points=\"198.04,440.31,189.9738,434.6588,193.1327,439.3514,188.4401,442.5104,198.04,440.31\" style=\"stroke: #383838; stroke-width: 1.0;\"/><text fill=\"#000000\" font-family=\"sans-serif\" font-size=\"13\" lengthAdjust=\"spacingAndGlyphs\" textLength=\"62\" x=\"24.32\" y=\"267.5669\">«subject»</text></a><!--MD5=[9120cf2e5df3bff93db8f754bbbc09b4]\n",
       "link E5 to E6--><a href=\"psysml:14d02f99-86ef-419d-b64f-b983855c21b7\" target=\"_top\" title=\"psysml:14d02f99-86ef-419d-b64f-b983855c21b7\" xlink:actuate=\"onRequest\" xlink:href=\"psysml:14d02f99-86ef-419d-b64f-b983855c21b7\" xlink:show=\"new\" xlink:title=\"psysml:14d02f99-86ef-419d-b64f-b983855c21b7\" xlink:type=\"simple\"><path d=\"M314.56,87.19 C292.2,107.23 259.21,136.8 235.15,158.37 \" fill=\"none\" id=\"E5-&gt;E6\" style=\"stroke: #383838; stroke-width: 1.0;\"/><polygon fill=\"#383838\" points=\"228.92,163.95,236.8786,160.8419,232.8725,156.3752,228.92,163.95\" style=\"stroke: #383838; stroke-width: 1.0;\"/><text fill=\"#000000\" font-family=\"sans-serif\" font-size=\"13\" lengthAdjust=\"spacingAndGlyphs\" textLength=\"73\" x=\"280.32\" y=\"130.0669\">«objective»</text></a><!--MD5=[452b418e7f8a40397a49b8c0a78acc5b]\n",
       "reverse link E5 to E7--><a href=\"psysml:60238b1f-3640-4bef-bde7-54f879504707\" target=\"_top\" title=\"psysml:60238b1f-3640-4bef-bde7-54f879504707\" xlink:actuate=\"onRequest\" xlink:href=\"psysml:60238b1f-3640-4bef-bde7-54f879504707\" xlink:show=\"new\" xlink:title=\"psysml:60238b1f-3640-4bef-bde7-54f879504707\" xlink:type=\"simple\"><path d=\"M362.14,97.88 C376.71,118.86 395.19,145.48 408.01,163.95 \" fill=\"none\" id=\"E5&lt;-E7\" style=\"stroke: #383838; stroke-width: 1.0;\"/><polygon fill=\"#383838\" points=\"354.73,87.19,354.864,94.3999,361.5708,97.0492,361.4368,89.8393,354.73,87.19\" style=\"stroke: #383838; stroke-width: 1.0;\"/></a><!--MD5=[dc164f5e8a733ab456ef1add180e9e34]\n",
       "reverse link E7 to E8--><a href=\"psysml:83c02207-4172-44b5-b5b3-edd55ab7c0db\" target=\"_top\" title=\"psysml:83c02207-4172-44b5-b5b3-edd55ab7c0db\" xlink:actuate=\"onRequest\" xlink:href=\"psysml:83c02207-4172-44b5-b5b3-edd55ab7c0db\" xlink:show=\"new\" xlink:title=\"psysml:83c02207-4172-44b5-b5b3-edd55ab7c0db\" xlink:type=\"simple\"><path d=\"M352.67,208.29 C327.33,216.69 298.96,227.44 274.32,240 C231.96,261.6 187.65,294.33 160.26,315.93 \" fill=\"none\" id=\"E7&lt;-E8\" style=\"stroke: #383838; stroke-width: 1.0;\"/><polygon fill=\"#FFFFFF\" points=\"365.22,204.24,358.2818,202.2749,353.7994,207.9236,360.7376,209.8887,365.22,204.24\" style=\"stroke: #383838; stroke-width: 1.0;\"/><text fill=\"#000000\" font-family=\"sans-serif\" font-size=\"13\" lengthAdjust=\"spacingAndGlyphs\" textLength=\"8\" x=\"158.4251\" y=\"304.8075\">1</text></a><!--MD5=[f1f3f9f2fc535e6147756cb86a7f2e32]\n",
       "link E8 to E2--><a href=\"psysml:3fd357fc-9742-4e4a-b08f-00e5f8b92b2e\" target=\"_top\" title=\"psysml:3fd357fc-9742-4e4a-b08f-00e5f8b92b2e\" xlink:actuate=\"onRequest\" xlink:href=\"psysml:3fd357fc-9742-4e4a-b08f-00e5f8b92b2e\" xlink:show=\"new\" xlink:title=\"psysml:3fd357fc-9742-4e4a-b08f-00e5f8b92b2e\" xlink:type=\"simple\"><path d=\"M153.86,362.01 C166.19,375.22 182.2,392.38 196.46,407.65 \" fill=\"none\" id=\"E8-&gt;E2\" style=\"stroke: #383838; stroke-width: 1.0;\"/><polygon fill=\"#FFFFFF\" points=\"210.47,422.66,192.3921,413.5393,202.6305,403.9907,210.47,422.66\" style=\"stroke: #383838; stroke-width: 1.0;\"/><ellipse cx=\"189.9671\" cy=\"408.0067\" fill=\"#383838\" rx=\"2\" ry=\"2\" style=\"stroke: #383838; stroke-width: 1.0;\"/><ellipse cx=\"197.2802\" cy=\"401.1863\" fill=\"#383838\" rx=\"2\" ry=\"2\" style=\"stroke: #383838; stroke-width: 1.0;\"/></a><!--MD5=[9ae28de373ca99bb8a1b38d63370ca7e]\n",
       "reverse link E5 to E9--><a href=\"psysml:44393528-ee32-422a-b73c-7e5d578e1b67\" target=\"_top\" title=\"psysml:44393528-ee32-422a-b73c-7e5d578e1b67\" xlink:actuate=\"onRequest\" xlink:href=\"psysml:44393528-ee32-422a-b73c-7e5d578e1b67\" xlink:show=\"new\" xlink:title=\"psysml:44393528-ee32-422a-b73c-7e5d578e1b67\" xlink:type=\"simple\"><path d=\"M416.08,92.77 C447.78,108.48 481.27,131.61 499.32,164 C509.27,181.86 510.51,192.89 499.32,210 C490.86,222.92 478.41,232.65 464.71,239.97 \" fill=\"none\" id=\"E5&lt;-E9\" style=\"stroke: #383838; stroke-width: 1.0;\"/><polygon fill=\"#FFFFFF\" points=\"404.06,87.11,407.7814,93.2867,414.9142,92.2272,411.1928,86.0505,404.06,87.11\" style=\"stroke: #383838; stroke-width: 1.0;\"/><text fill=\"#000000\" font-family=\"sans-serif\" font-size=\"13\" lengthAdjust=\"spacingAndGlyphs\" textLength=\"8\" x=\"477.3099\" y=\"229.2386\">1</text></a><!--MD5=[5c3bb36fe832a92c7f0e1807dd65209d]\n",
       "link E9 to E2--><a href=\"psysml:fe7d5224-67e7-4f42-a679-f87e330c9f80\" target=\"_top\" title=\"psysml:fe7d5224-67e7-4f42-a679-f87e330c9f80\" xlink:actuate=\"onRequest\" xlink:href=\"psysml:fe7d5224-67e7-4f42-a679-f87e330c9f80\" xlink:show=\"new\" xlink:title=\"psysml:fe7d5224-67e7-4f42-a679-f87e330c9f80\" xlink:type=\"simple\"><path d=\"M291.19,285.15 C275.57,292.56 260.94,302.55 250.32,316 C231.17,340.25 227.04,375.32 227.36,402.77 \" fill=\"none\" id=\"E9-&gt;E2\" style=\"stroke: #383838; stroke-width: 1.0;\"/><polygon fill=\"#FFFFFF\" points=\"228.36,422.81,220.4186,404.1838,234.4011,403.4837,228.36,422.81\" style=\"stroke: #383838; stroke-width: 1.0;\"/><ellipse cx=\"222.131\" cy=\"398.3909\" fill=\"#383838\" rx=\"2\" ry=\"2\" style=\"stroke: #383838; stroke-width: 1.0;\"/><ellipse cx=\"232.1185\" cy=\"397.8909\" fill=\"#383838\" rx=\"2\" ry=\"2\" style=\"stroke: #383838; stroke-width: 1.0;\"/></a><!--MD5=[80a78fb9d88f849ae590503b442802b4]\n",
       "@startuml\r\n",
       "top to bottom direction\r\n",
       "skinparam monochrome true\r\n",
       "skinparam classbackgroundcolor white\r\n",
       "skinparam shadowing false\r\n",
       "skinparam wrapWidth 300\r\n",
       "hide circle\r\n",
       "\r\n",
       "package \"TradeStudyTest\" as E1  [[psysml:ee7e22b2-7ed6-4f2c-8628-ec59eb221ec4 ]]  {\r\n",
       "comp def \"Engine\" as E2  <<(T,blue) part def>> [[psysml:6dc2e48d-4c08-4400-bc60-82a531af2780 ]] {\r\n",
       "}\r\n",
       "comp usage \"engine1: Engine\" as E3  <<(T,blue) part>> [[psysml:3defd9be-3b5d-4c6d-8f79-df776db84250 ]] {\r\n",
       "}\r\n",
       "comp usage \"engine2: Engine\" as E4  <<(T,blue) part>> [[psysml:3a9a647b-2fd2-49b6-8a5f-7ce1649088e0 ]] {\r\n",
       "}\r\n",
       "comp usage \"engineTradeStudy: TradeStudy\" as E5 << analysis>> [[psysml:4b9a9840-0888-40ad-997b-4be591991c45 ]] {\r\n",
       "}\r\n",
       "comp usage \"tradeStudyObjective: MaximizeObjective\" as E6  <<(T,blue) requirement>> [[psysml:6d56d509-a272-42e3-905c-0e1bbd246da0 ]] {\r\n",
       "}\r\n",
       "comp usage \"objectiveFunction\" as E7  <<(T,blue) calculation>> [[psysml:0d158b00-d202-4b1f-90aa-9fc427f4eb2b ]] {\r\n",
       "}\r\n",
       "comp usage \"alternative: Engine\" as E8  <<(T,blue) part>> [[psysml:e8d66f1b-2710-4767-99ee-f2812ccd7696 ]] {\r\n",
       "}\r\n",
       "comp usage \"selectedAlternative: Engine\" as E9  <<(T,blue) part>> [[psysml:d0667918-a428-4729-9680-50da29281cd4 ]] {\r\n",
       "}\r\n",
       "}\r\n",
       "E3 - -:|> E2 [[psysml:2c927883-7b33-4f30-b07f-44dca6adebf7 ]] \r\n",
       "E4 - -:|> E2 [[psysml:59e46c20-b41c-4b83-8c8c-eff5ad41f1d7 ]] \r\n",
       "E5 ..> E2 [[psysml:d5cbdaa6-c586-4ab8-b2f7-038eda38592d ]] : <<subject>>\r\n",
       "E5 - ->> E6 [[psysml:14d02f99-86ef-419d-b64f-b983855c21b7 ]] : <<objective>>\r\n",
       "E5 *- - E7 [[psysml:60238b1f-3640-4bef-bde7-54f879504707 ]] \r\n",
       "E7 o- - \"1\"E8 [[psysml:83c02207-4172-44b5-b5b3-edd55ab7c0db ]] \r\n",
       "E8 - -:|> E2 [[psysml:3fd357fc-9742-4e4a-b08f-00e5f8b92b2e ]] \r\n",
       "E5 o- - \"1\"E9 [[psysml:44393528-ee32-422a-b73c-7e5d578e1b67 ]] \r\n",
       "E9 - -:|> E2 [[psysml:fe7d5224-67e7-4f42-a679-f87e330c9f80 ]] \r\n",
       "@enduml\r\n",
       "\n",
       "PlantUML version 1.2020.13(Sat Jun 13 12:26:38 UTC 2020)\n",
       "(EPL source distribution)\n",
       "Java Runtime: OpenJDK Runtime Environment\n",
       "JVM: OpenJDK 64-Bit Server VM\n",
       "Default Encoding: UTF-8\n",
       "Language: en\n",
       "Country: null\n",
       "--></g></svg>"
      ]
     },
     "execution_count": 44,
     "metadata": {},
     "output_type": "execute_result"
    }
   ],
   "source": [
    "%viz --style=\"TB\" --view=\"Default\" \"TradeStudyTest\""
   ]
  },
  {
   "cell_type": "code",
   "execution_count": 45,
   "id": "e8b24caa",
   "metadata": {
    "execution": {
     "iopub.execute_input": "2021-10-03T08:30:39.401410Z",
     "iopub.status.busy": "2021-10-03T08:30:39.401016Z",
     "iopub.status.idle": "2021-10-03T08:30:39.433643Z",
     "shell.execute_reply": "2021-10-03T08:30:39.433292Z"
    }
   },
   "outputs": [
    {
     "data": {
      "image/svg+xml": [
       "<?xml version=\"1.0\" encoding=\"UTF-8\" standalone=\"no\"?><svg xmlns=\"http://www.w3.org/2000/svg\" xmlns:xlink=\"http://www.w3.org/1999/xlink\" contentScriptType=\"application/ecmascript\" contentStyleType=\"text/css\" height=\"345px\" preserveAspectRatio=\"none\" style=\"width:955px;height:345px;\" version=\"1.1\" viewBox=\"0 0 955 345\" width=\"955px\" zoomAndPan=\"magnify\"><defs/><g><!--MD5=[fbc87193dbaf4d95561dea2c320d4a47]\n",
       "cluster E1--><a href=\"psysml:ee7e22b2-7ed6-4f2c-8628-ec59eb221ec4\" target=\"_top\" title=\"psysml:ee7e22b2-7ed6-4f2c-8628-ec59eb221ec4\" xlink:actuate=\"onRequest\" xlink:href=\"psysml:ee7e22b2-7ed6-4f2c-8628-ec59eb221ec4\" xlink:show=\"new\" xlink:title=\"psysml:ee7e22b2-7ed6-4f2c-8628-ec59eb221ec4\" xlink:type=\"simple\"><polygon fill=\"#FFFFFF\" points=\"16,6,132,6,139,28.2969,933,28.2969,933,333,16,333,16,6\" style=\"stroke: #000000; stroke-width: 1.5;\"/><line style=\"stroke: #000000; stroke-width: 1.5;\" x1=\"16\" x2=\"139\" y1=\"28.2969\" y2=\"28.2969\"/><text fill=\"#000000\" font-family=\"sans-serif\" font-size=\"14\" font-weight=\"bold\" lengthAdjust=\"spacingAndGlyphs\" textLength=\"110\" x=\"20\" y=\"20.9951\">TradeStudyTest</text></a><!--MD5=[b4997ac47864f28c2f74865a473b2911]\n",
       "class E2--><a href=\"psysml:6dc2e48d-4c08-4400-bc60-82a531af2780\" target=\"_top\" title=\"psysml:6dc2e48d-4c08-4400-bc60-82a531af2780\" xlink:actuate=\"onRequest\" xlink:href=\"psysml:6dc2e48d-4c08-4400-bc60-82a531af2780\" xlink:show=\"new\" xlink:title=\"psysml:6dc2e48d-4c08-4400-bc60-82a531af2780\" xlink:type=\"simple\"><rect fill=\"#FFFFFF\" height=\"45.9375\" id=\"E2\" style=\"stroke: #383838; stroke-width: 1.5;\" width=\"66\" x=\"598\" y=\"271\"/><text fill=\"#000000\" font-family=\"sans-serif\" font-size=\"12\" font-style=\"italic\" lengthAdjust=\"spacingAndGlyphs\" textLength=\"64\" x=\"599\" y=\"287.1387\">«part def»</text><text fill=\"#000000\" font-family=\"sans-serif\" font-size=\"12\" lengthAdjust=\"spacingAndGlyphs\" textLength=\"43\" x=\"609.5\" y=\"301.1074\">Engine</text><line style=\"stroke: #383838; stroke-width: 1.5;\" x1=\"599\" x2=\"663\" y1=\"308.9375\" y2=\"308.9375\"/></a><!--MD5=[09b614a08d8cba4a07c9adeb5e0fee81]\n",
       "class E3--><a href=\"psysml:3defd9be-3b5d-4c6d-8f79-df776db84250\" target=\"_top\" title=\"psysml:3defd9be-3b5d-4c6d-8f79-df776db84250\" xlink:actuate=\"onRequest\" xlink:href=\"psysml:3defd9be-3b5d-4c6d-8f79-df776db84250\" xlink:show=\"new\" xlink:title=\"psysml:3defd9be-3b5d-4c6d-8f79-df776db84250\" xlink:type=\"simple\"><rect fill=\"#FFFFFF\" height=\"45.9375\" id=\"E3\" rx=\"10\" ry=\"10\" style=\"stroke: #383838; stroke-width: 1.5;\" width=\"108\" x=\"809\" y=\"164\"/><text fill=\"#000000\" font-family=\"sans-serif\" font-size=\"12\" font-style=\"italic\" lengthAdjust=\"spacingAndGlyphs\" textLength=\"40\" x=\"843\" y=\"180.1387\">«part»</text><text fill=\"#000000\" font-family=\"sans-serif\" font-size=\"12\" lengthAdjust=\"spacingAndGlyphs\" textLength=\"102\" x=\"812\" y=\"194.1074\">engine1: Engine</text><line style=\"stroke: #383838; stroke-width: 1.5;\" x1=\"810\" x2=\"916\" y1=\"201.9375\" y2=\"201.9375\"/></a><!--MD5=[ebbe1d658d1005bcc118a6aa81145e00]\n",
       "class E4--><a href=\"psysml:3a9a647b-2fd2-49b6-8a5f-7ce1649088e0\" target=\"_top\" title=\"psysml:3a9a647b-2fd2-49b6-8a5f-7ce1649088e0\" xlink:actuate=\"onRequest\" xlink:href=\"psysml:3a9a647b-2fd2-49b6-8a5f-7ce1649088e0\" xlink:show=\"new\" xlink:title=\"psysml:3a9a647b-2fd2-49b6-8a5f-7ce1649088e0\" xlink:type=\"simple\"><rect fill=\"#FFFFFF\" height=\"45.9375\" id=\"E4\" rx=\"10\" ry=\"10\" style=\"stroke: #383838; stroke-width: 1.5;\" width=\"108\" x=\"666\" y=\"164\"/><text fill=\"#000000\" font-family=\"sans-serif\" font-size=\"12\" font-style=\"italic\" lengthAdjust=\"spacingAndGlyphs\" textLength=\"40\" x=\"700\" y=\"180.1387\">«part»</text><text fill=\"#000000\" font-family=\"sans-serif\" font-size=\"12\" lengthAdjust=\"spacingAndGlyphs\" textLength=\"102\" x=\"669\" y=\"194.1074\">engine2: Engine</text><line style=\"stroke: #383838; stroke-width: 1.5;\" x1=\"667\" x2=\"773\" y1=\"201.9375\" y2=\"201.9375\"/></a><!--MD5=[270fce915f116d4de14055a7c1d9a0f3]\n",
       "class E5--><a href=\"psysml:4b9a9840-0888-40ad-997b-4be591991c45\" target=\"_top\" title=\"psysml:4b9a9840-0888-40ad-997b-4be591991c45\" xlink:actuate=\"onRequest\" xlink:href=\"psysml:4b9a9840-0888-40ad-997b-4be591991c45\" xlink:show=\"new\" xlink:title=\"psysml:4b9a9840-0888-40ad-997b-4be591991c45\" xlink:type=\"simple\"><rect fill=\"#FFFFFF\" height=\"45.9375\" id=\"E5\" rx=\"10\" ry=\"10\" style=\"stroke: #383838; stroke-width: 1.5;\" width=\"199\" x=\"192.5\" y=\"41\"/><text fill=\"#000000\" font-family=\"sans-serif\" font-size=\"12\" font-style=\"italic\" lengthAdjust=\"spacingAndGlyphs\" textLength=\"64\" x=\"260\" y=\"57.1387\">«analysis»</text><text fill=\"#000000\" font-family=\"sans-serif\" font-size=\"12\" lengthAdjust=\"spacingAndGlyphs\" textLength=\"193\" x=\"195.5\" y=\"71.1074\">engineTradeStudy: TradeStudy</text><line style=\"stroke: #383838; stroke-width: 1.5;\" x1=\"193.5\" x2=\"390.5\" y1=\"78.9375\" y2=\"78.9375\"/></a><!--MD5=[60a26617385b1d2d0262a64233df1f8d]\n",
       "class E6--><a href=\"psysml:6d56d509-a272-42e3-905c-0e1bbd246da0\" target=\"_top\" title=\"psysml:6d56d509-a272-42e3-905c-0e1bbd246da0\" xlink:actuate=\"onRequest\" xlink:href=\"psysml:6d56d509-a272-42e3-905c-0e1bbd246da0\" xlink:show=\"new\" xlink:title=\"psysml:6d56d509-a272-42e3-905c-0e1bbd246da0\" xlink:type=\"simple\"><rect fill=\"#FFFFFF\" height=\"45.9375\" id=\"E6\" rx=\"10\" ry=\"10\" style=\"stroke: #383838; stroke-width: 1.5;\" width=\"251\" x=\"166.5\" y=\"164\"/><text fill=\"#000000\" font-family=\"sans-serif\" font-size=\"12\" font-style=\"italic\" lengthAdjust=\"spacingAndGlyphs\" textLength=\"91\" x=\"246.5\" y=\"180.1387\">«requirement»</text><text fill=\"#000000\" font-family=\"sans-serif\" font-size=\"12\" lengthAdjust=\"spacingAndGlyphs\" textLength=\"245\" x=\"169.5\" y=\"194.1074\">tradeStudyObjective: MaximizeObjective</text><line style=\"stroke: #383838; stroke-width: 1.5;\" x1=\"167.5\" x2=\"416.5\" y1=\"201.9375\" y2=\"201.9375\"/></a><!--MD5=[2156ba9850f5573cc1fc38a6a4b2f02b]\n",
       "class E7--><a href=\"psysml:d0667918-a428-4729-9680-50da29281cd4\" target=\"_top\" title=\"psysml:d0667918-a428-4729-9680-50da29281cd4\" xlink:actuate=\"onRequest\" xlink:href=\"psysml:d0667918-a428-4729-9680-50da29281cd4\" xlink:show=\"new\" xlink:title=\"psysml:d0667918-a428-4729-9680-50da29281cd4\" xlink:type=\"simple\"><rect fill=\"#FFFFFF\" height=\"45.9375\" id=\"E7\" rx=\"10\" ry=\"10\" style=\"stroke: #383838; stroke-width: 1.5;\" width=\"178\" x=\"453\" y=\"164\"/><text fill=\"#000000\" font-family=\"sans-serif\" font-size=\"12\" font-style=\"italic\" lengthAdjust=\"spacingAndGlyphs\" textLength=\"40\" x=\"522\" y=\"180.1387\">«part»</text><text fill=\"#000000\" font-family=\"sans-serif\" font-size=\"12\" lengthAdjust=\"spacingAndGlyphs\" textLength=\"172\" x=\"456\" y=\"194.1074\">selectedAlternative: Engine</text><line style=\"stroke: #383838; stroke-width: 1.5;\" x1=\"454\" x2=\"630\" y1=\"201.9375\" y2=\"201.9375\"/></a><!--MD5=[05d275557350bfb9b23a4ef7222b4c39]\n",
       "link E3 to E2--><a href=\"psysml:2c927883-7b33-4f30-b07f-44dca6adebf7\" target=\"_top\" title=\"psysml:2c927883-7b33-4f30-b07f-44dca6adebf7\" xlink:actuate=\"onRequest\" xlink:href=\"psysml:2c927883-7b33-4f30-b07f-44dca6adebf7\" xlink:show=\"new\" xlink:title=\"psysml:2c927883-7b33-4f30-b07f-44dca6adebf7\" xlink:type=\"simple\"><path d=\"M814.37,210.01 C775.74,227.49 721.88,251.87 682.52,269.68 \" fill=\"none\" id=\"E3-&gt;E2\" style=\"stroke: #383838; stroke-width: 1.0;\"/><polygon fill=\"#FFFFFF\" points=\"664.23,277.96,678.6446,263.7397,684.4251,276.4906,664.23,277.96\" style=\"stroke: #383838; stroke-width: 1.0;\"/><ellipse cx=\"684.6619\" cy=\"263.2078\" fill=\"#383838\" rx=\"2\" ry=\"2\" style=\"stroke: #383838; stroke-width: 1.0;\"/><ellipse cx=\"688.7908\" cy=\"272.3156\" fill=\"#383838\" rx=\"2\" ry=\"2\" style=\"stroke: #383838; stroke-width: 1.0;\"/></a><!--MD5=[185131fc0dcab0a4505a2ebe144e961b]\n",
       "link E4 to E2--><a href=\"psysml:59e46c20-b41c-4b83-8c8c-eff5ad41f1d7\" target=\"_top\" title=\"psysml:59e46c20-b41c-4b83-8c8c-eff5ad41f1d7\" xlink:actuate=\"onRequest\" xlink:href=\"psysml:59e46c20-b41c-4b83-8c8c-eff5ad41f1d7\" xlink:show=\"new\" xlink:title=\"psysml:59e46c20-b41c-4b83-8c8c-eff5ad41f1d7\" xlink:type=\"simple\"><path d=\"M701.34,210.01 C690.26,223.08 675.91,240.01 663.06,255.17 \" fill=\"none\" id=\"E4-&gt;E2\" style=\"stroke: #383838; stroke-width: 1.0;\"/><polygon fill=\"#FFFFFF\" points=\"649.94,270.66,656.8931,251.6428,667.5691,260.6994,649.94,270.66\" style=\"stroke: #383838; stroke-width: 1.0;\"/><ellipse cx=\"662.1056\" cy=\"248.5899\" fill=\"#383838\" rx=\"2\" ry=\"2\" style=\"stroke: #383838; stroke-width: 1.0;\"/><ellipse cx=\"669.7313\" cy=\"255.059\" fill=\"#383838\" rx=\"2\" ry=\"2\" style=\"stroke: #383838; stroke-width: 1.0;\"/></a><!--MD5=[15ebcb19ae302d9b601edb458606d402]\n",
       "link E5 to E2--><a href=\"psysml:d5cbdaa6-c586-4ab8-b2f7-038eda38592d\" target=\"_top\" title=\"psysml:d5cbdaa6-c586-4ab8-b2f7-038eda38592d\" xlink:actuate=\"onRequest\" xlink:href=\"psysml:d5cbdaa6-c586-4ab8-b2f7-038eda38592d\" xlink:show=\"new\" xlink:title=\"psysml:d5cbdaa6-c586-4ab8-b2f7-038eda38592d\" xlink:type=\"simple\"><path d=\"M211.44,87.03 C135.05,111.81 38.38,155.76 85,210 C150.98,286.77 479.56,293.36 592.67,293.32 \" fill=\"none\" id=\"E5-&gt;E2\" style=\"stroke: #383838; stroke-width: 1.0; stroke-dasharray: 7.0,7.0;\"/><polygon fill=\"#383838\" points=\"597.89,293.31,588.89,289.31,592.89,293.31,588.89,297.31,597.89,293.31\" style=\"stroke: #383838; stroke-width: 1.0;\"/><text fill=\"#000000\" font-family=\"sans-serif\" font-size=\"13\" lengthAdjust=\"spacingAndGlyphs\" textLength=\"62\" x=\"86\" y=\"191.5669\">«subject»</text></a><!--MD5=[9120cf2e5df3bff93db8f754bbbc09b4]\n",
       "link E5 to E6--><a href=\"psysml:14d02f99-86ef-419d-b64f-b983855c21b7\" target=\"_top\" title=\"psysml:14d02f99-86ef-419d-b64f-b983855c21b7\" xlink:actuate=\"onRequest\" xlink:href=\"psysml:14d02f99-86ef-419d-b64f-b983855c21b7\" xlink:show=\"new\" xlink:title=\"psysml:14d02f99-86ef-419d-b64f-b983855c21b7\" xlink:type=\"simple\"><path d=\"M292,87.19 C292,106.47 292,134.55 292,155.86 \" fill=\"none\" id=\"E5-&gt;E6\" style=\"stroke: #383838; stroke-width: 1.0;\"/><polygon fill=\"#383838\" points=\"292,163.95,295,155.95,289,155.95,292,163.95\" style=\"stroke: #383838; stroke-width: 1.0;\"/><text fill=\"#000000\" font-family=\"sans-serif\" font-size=\"13\" lengthAdjust=\"spacingAndGlyphs\" textLength=\"73\" x=\"293\" y=\"130.0669\">«objective»</text></a><!--MD5=[452b418e7f8a40397a49b8c0a78acc5b]\n",
       "reverse link E5 to E7--><a href=\"psysml:44393528-ee32-422a-b73c-7e5d578e1b67\" target=\"_top\" title=\"psysml:44393528-ee32-422a-b73c-7e5d578e1b67\" xlink:actuate=\"onRequest\" xlink:href=\"psysml:44393528-ee32-422a-b73c-7e5d578e1b67\" xlink:show=\"new\" xlink:title=\"psysml:44393528-ee32-422a-b73c-7e5d578e1b67\" xlink:type=\"simple\"><path d=\"M349.39,92.78 C393.99,114.36 455.01,143.9 496.33,163.89 \" fill=\"none\" id=\"E5&lt;-E7\" style=\"stroke: #383838; stroke-width: 1.0;\"/><polygon fill=\"#FFFFFF\" points=\"337.56,87.05,341.2143,93.2666,348.3582,92.2843,344.7039,86.0677,337.56,87.05\" style=\"stroke: #383838; stroke-width: 1.0;\"/><text fill=\"#000000\" font-family=\"sans-serif\" font-size=\"13\" lengthAdjust=\"spacingAndGlyphs\" textLength=\"8\" x=\"474.9812\" y=\"152.7567\">1</text></a><!--MD5=[583832df87f4419a098336a29a52fa00]\n",
       "link E7 to E2--><a href=\"psysml:fe7d5224-67e7-4f42-a679-f87e330c9f80\" target=\"_top\" title=\"psysml:fe7d5224-67e7-4f42-a679-f87e330c9f80\" xlink:actuate=\"onRequest\" xlink:href=\"psysml:fe7d5224-67e7-4f42-a679-f87e330c9f80\" xlink:show=\"new\" xlink:title=\"psysml:fe7d5224-67e7-4f42-a679-f87e330c9f80\" xlink:type=\"simple\"><path d=\"M560.66,210.01 C571.74,223.08 586.09,240.01 598.94,255.17 \" fill=\"none\" id=\"E7-&gt;E2\" style=\"stroke: #383838; stroke-width: 1.0;\"/><polygon fill=\"#FFFFFF\" points=\"612.06,270.66,594.4309,260.6994,605.1069,251.6428,612.06,270.66\" style=\"stroke: #383838; stroke-width: 1.0;\"/><ellipse cx=\"592.2687\" cy=\"255.059\" fill=\"#383838\" rx=\"2\" ry=\"2\" style=\"stroke: #383838; stroke-width: 1.0;\"/><ellipse cx=\"599.8944\" cy=\"248.5899\" fill=\"#383838\" rx=\"2\" ry=\"2\" style=\"stroke: #383838; stroke-width: 1.0;\"/></a><!--MD5=[9209220a09edaca73f60e6a029ec6602]\n",
       "@startuml\r\n",
       "top to bottom direction\r\n",
       "skinparam monochrome true\r\n",
       "skinparam classbackgroundcolor white\r\n",
       "skinparam shadowing false\r\n",
       "skinparam wrapWidth 300\r\n",
       "hide circle\r\n",
       "\r\n",
       "package \"TradeStudyTest\" as E1  [[psysml:ee7e22b2-7ed6-4f2c-8628-ec59eb221ec4 ]]  {\r\n",
       "comp def \"Engine\" as E2  <<(T,blue) part def>> [[psysml:6dc2e48d-4c08-4400-bc60-82a531af2780 ]] {\r\n",
       "}\r\n",
       "comp usage \"engine1: Engine\" as E3  <<(T,blue) part>> [[psysml:3defd9be-3b5d-4c6d-8f79-df776db84250 ]] {\r\n",
       "}\r\n",
       "comp usage \"engine2: Engine\" as E4  <<(T,blue) part>> [[psysml:3a9a647b-2fd2-49b6-8a5f-7ce1649088e0 ]] {\r\n",
       "}\r\n",
       "comp usage \"engineTradeStudy: TradeStudy\" as E5 << analysis>> [[psysml:4b9a9840-0888-40ad-997b-4be591991c45 ]] {\r\n",
       "}\r\n",
       "comp usage \"tradeStudyObjective: MaximizeObjective\" as E6  <<(T,blue) requirement>> [[psysml:6d56d509-a272-42e3-905c-0e1bbd246da0 ]] {\r\n",
       "}\r\n",
       "comp usage \"selectedAlternative: Engine\" as E7  <<(T,blue) part>> [[psysml:d0667918-a428-4729-9680-50da29281cd4 ]] {\r\n",
       "}\r\n",
       "}\r\n",
       "E3 - -:|> E2 [[psysml:2c927883-7b33-4f30-b07f-44dca6adebf7 ]] \r\n",
       "E4 - -:|> E2 [[psysml:59e46c20-b41c-4b83-8c8c-eff5ad41f1d7 ]] \r\n",
       "E5 ..> E2 [[psysml:d5cbdaa6-c586-4ab8-b2f7-038eda38592d ]] : <<subject>>\r\n",
       "E5 - ->> E6 [[psysml:14d02f99-86ef-419d-b64f-b983855c21b7 ]] : <<objective>>\r\n",
       "E5 o- - \"1\"E7 [[psysml:44393528-ee32-422a-b73c-7e5d578e1b67 ]] \r\n",
       "E7 - -:|> E2 [[psysml:fe7d5224-67e7-4f42-a679-f87e330c9f80 ]] \r\n",
       "@enduml\r\n",
       "\n",
       "PlantUML version 1.2020.13(Sat Jun 13 12:26:38 UTC 2020)\n",
       "(EPL source distribution)\n",
       "Java Runtime: OpenJDK Runtime Environment\n",
       "JVM: OpenJDK 64-Bit Server VM\n",
       "Default Encoding: UTF-8\n",
       "Language: en\n",
       "Country: null\n",
       "--></g></svg>"
      ]
     },
     "execution_count": 45,
     "metadata": {},
     "output_type": "execute_result"
    }
   ],
   "source": [
    "%viz --style=\"TB\" --view=\"Tree\" \"TradeStudyTest\""
   ]
  },
  {
   "cell_type": "code",
   "execution_count": 46,
   "id": "275d70ca",
   "metadata": {
    "execution": {
     "iopub.execute_input": "2021-10-03T08:30:39.482835Z",
     "iopub.status.busy": "2021-10-03T08:30:39.482439Z",
     "iopub.status.idle": "2021-10-03T08:30:39.487357Z",
     "shell.execute_reply": "2021-10-03T08:30:39.487015Z"
    }
   },
   "outputs": [
    {
     "data": {
      "image/svg+xml": [
       "<?xml version=\"1.0\" encoding=\"UTF-8\" standalone=\"no\"?><svg xmlns=\"http://www.w3.org/2000/svg\" xmlns:xlink=\"http://www.w3.org/1999/xlink\" contentScriptType=\"application/ecmascript\" contentStyleType=\"text/css\" height=\"12px\" preserveAspectRatio=\"none\" style=\"width:12px;height:12px;\" version=\"1.1\" viewBox=\"0 0 12 12\" width=\"12px\" zoomAndPan=\"magnify\"><defs/><g><!--MD5=[f4ee21bc66e489b5061b7c3e9601fdef]\n",
       "@startuml\r\n",
       "top to bottom direction\r\n",
       "skinparam monochrome true\r\n",
       "skinparam classbackgroundcolor white\r\n",
       "skinparam shadowing false\r\n",
       "skinparam wrapWidth 300\r\n",
       "hide circle\r\n",
       "\r\n",
       "@enduml\r\n",
       "\n",
       "PlantUML version 1.2020.13(Sat Jun 13 12:26:38 UTC 2020)\n",
       "(EPL source distribution)\n",
       "Java Runtime: OpenJDK Runtime Environment\n",
       "JVM: OpenJDK 64-Bit Server VM\n",
       "Default Encoding: UTF-8\n",
       "Language: en\n",
       "Country: null\n",
       "--></g></svg>"
      ]
     },
     "execution_count": 46,
     "metadata": {},
     "output_type": "execute_result"
    }
   ],
   "source": [
    "%viz --style=\"TB\" --view=\"State\" \"TradeStudyTest\""
   ]
  },
  {
   "cell_type": "code",
   "execution_count": 47,
   "id": "7882f2d1",
   "metadata": {
    "execution": {
     "iopub.execute_input": "2021-10-03T08:30:39.536911Z",
     "iopub.status.busy": "2021-10-03T08:30:39.536522Z",
     "iopub.status.idle": "2021-10-03T08:30:39.568765Z",
     "shell.execute_reply": "2021-10-03T08:30:39.568370Z"
    }
   },
   "outputs": [
    {
     "data": {
      "image/svg+xml": [
       "<?xml version=\"1.0\" encoding=\"UTF-8\" standalone=\"no\"?><svg xmlns=\"http://www.w3.org/2000/svg\" xmlns:xlink=\"http://www.w3.org/1999/xlink\" contentScriptType=\"application/ecmascript\" contentStyleType=\"text/css\" height=\"334px\" preserveAspectRatio=\"none\" style=\"width:566px;height:334px;\" version=\"1.1\" viewBox=\"0 0 566 334\" width=\"566px\" zoomAndPan=\"magnify\"><defs/><g><!--MD5=[fbc87193dbaf4d95561dea2c320d4a47]\n",
       "cluster E1--><a href=\"psysml:ee7e22b2-7ed6-4f2c-8628-ec59eb221ec4\" target=\"_top\" title=\"psysml:ee7e22b2-7ed6-4f2c-8628-ec59eb221ec4\" xlink:actuate=\"onRequest\" xlink:href=\"psysml:ee7e22b2-7ed6-4f2c-8628-ec59eb221ec4\" xlink:show=\"new\" xlink:title=\"psysml:ee7e22b2-7ed6-4f2c-8628-ec59eb221ec4\" xlink:type=\"simple\"><polygon fill=\"#FFFFFF\" points=\"16,6,132,6,139,28.2969,544,28.2969,544,322,16,322,16,6\" style=\"stroke: #000000; stroke-width: 1.5;\"/><line style=\"stroke: #000000; stroke-width: 1.5;\" x1=\"16\" x2=\"139\" y1=\"28.2969\" y2=\"28.2969\"/><text fill=\"#000000\" font-family=\"sans-serif\" font-size=\"14\" font-weight=\"bold\" lengthAdjust=\"spacingAndGlyphs\" textLength=\"110\" x=\"20\" y=\"20.9951\">TradeStudyTest</text></a><!--MD5=[270fce915f116d4de14055a7c1d9a0f3]\n",
       "class E5--><a href=\"psysml:4b9a9840-0888-40ad-997b-4be591991c45\" target=\"_top\" title=\"psysml:4b9a9840-0888-40ad-997b-4be591991c45\" xlink:actuate=\"onRequest\" xlink:href=\"psysml:4b9a9840-0888-40ad-997b-4be591991c45\" xlink:show=\"new\" xlink:title=\"psysml:4b9a9840-0888-40ad-997b-4be591991c45\" xlink:type=\"simple\"><rect fill=\"#FFFFFF\" height=\"45.9375\" id=\"E5\" rx=\"10\" ry=\"10\" style=\"stroke: #383838; stroke-width: 1.5;\" width=\"199\" x=\"328.5\" y=\"41\"/><text fill=\"#000000\" font-family=\"sans-serif\" font-size=\"12\" font-style=\"italic\" lengthAdjust=\"spacingAndGlyphs\" textLength=\"64\" x=\"396\" y=\"57.1387\">«analysis»</text><text fill=\"#000000\" font-family=\"sans-serif\" font-size=\"12\" lengthAdjust=\"spacingAndGlyphs\" textLength=\"193\" x=\"331.5\" y=\"71.1074\">engineTradeStudy: TradeStudy</text><line style=\"stroke: #383838; stroke-width: 1.5;\" x1=\"329.5\" x2=\"526.5\" y1=\"78.9375\" y2=\"78.9375\"/></a><!--MD5=[60a26617385b1d2d0262a64233df1f8d]\n",
       "class E6--><a href=\"psysml:6d56d509-a272-42e3-905c-0e1bbd246da0\" target=\"_top\" title=\"psysml:6d56d509-a272-42e3-905c-0e1bbd246da0\" xlink:actuate=\"onRequest\" xlink:href=\"psysml:6d56d509-a272-42e3-905c-0e1bbd246da0\" xlink:show=\"new\" xlink:title=\"psysml:6d56d509-a272-42e3-905c-0e1bbd246da0\" xlink:type=\"simple\"><rect fill=\"#FFFFFF\" height=\"45.9375\" id=\"E6\" rx=\"10\" ry=\"10\" style=\"stroke: #383838; stroke-width: 1.5;\" width=\"251\" x=\"32.5\" y=\"120\"/><text fill=\"#000000\" font-family=\"sans-serif\" font-size=\"12\" font-style=\"italic\" lengthAdjust=\"spacingAndGlyphs\" textLength=\"91\" x=\"112.5\" y=\"136.1387\">«requirement»</text><text fill=\"#000000\" font-family=\"sans-serif\" font-size=\"12\" lengthAdjust=\"spacingAndGlyphs\" textLength=\"245\" x=\"35.5\" y=\"150.1074\">tradeStudyObjective: MaximizeObjective</text><line style=\"stroke: #383838; stroke-width: 1.5;\" x1=\"33.5\" x2=\"282.5\" y1=\"157.9375\" y2=\"157.9375\"/></a><!--MD5=[2156ba9850f5573cc1fc38a6a4b2f02b]\n",
       "class E7--><a href=\"psysml:0d158b00-d202-4b1f-90aa-9fc427f4eb2b\" target=\"_top\" title=\"psysml:0d158b00-d202-4b1f-90aa-9fc427f4eb2b\" xlink:actuate=\"onRequest\" xlink:href=\"psysml:0d158b00-d202-4b1f-90aa-9fc427f4eb2b\" xlink:show=\"new\" xlink:title=\"psysml:0d158b00-d202-4b1f-90aa-9fc427f4eb2b\" xlink:type=\"simple\"><rect fill=\"#FFFFFF\" height=\"45.9375\" id=\"E7\" rx=\"10\" ry=\"10\" style=\"stroke: #383838; stroke-width: 1.5;\" width=\"116\" x=\"319\" y=\"120\"/><text fill=\"#000000\" font-family=\"sans-serif\" font-size=\"12\" font-style=\"italic\" lengthAdjust=\"spacingAndGlyphs\" textLength=\"82\" x=\"336\" y=\"136.1387\">«calculation»</text><text fill=\"#000000\" font-family=\"sans-serif\" font-size=\"12\" lengthAdjust=\"spacingAndGlyphs\" textLength=\"110\" x=\"322\" y=\"150.1074\">objectiveFunction</text><line style=\"stroke: #383838; stroke-width: 1.5;\" x1=\"320\" x2=\"434\" y1=\"157.9375\" y2=\"157.9375\"/></a><!--MD5=[b9389687b975829384b498ac4b7476b2]\n",
       "class E8--><a href=\"psysml:e8d66f1b-2710-4767-99ee-f2812ccd7696\" target=\"_top\" title=\"psysml:e8d66f1b-2710-4767-99ee-f2812ccd7696\" xlink:actuate=\"onRequest\" xlink:href=\"psysml:e8d66f1b-2710-4767-99ee-f2812ccd7696\" xlink:show=\"new\" xlink:title=\"psysml:e8d66f1b-2710-4767-99ee-f2812ccd7696\" xlink:type=\"simple\"><rect fill=\"#FFFFFF\" height=\"31.9688\" id=\"E8\" rx=\"10\" ry=\"10\" style=\"stroke: #383838; stroke-width: 1.5;\" width=\"124\" x=\"178\" y=\"214\"/><text fill=\"#000000\" font-family=\"sans-serif\" font-size=\"12\" lengthAdjust=\"spacingAndGlyphs\" textLength=\"118\" x=\"181\" y=\"230.1387\">alternative: Engine</text><line style=\"stroke: #383838; stroke-width: 1.5;\" x1=\"179\" x2=\"301\" y1=\"237.9688\" y2=\"237.9688\"/></a><!--MD5=[fd4143e9d270a159db93a4ea2a975926]\n",
       "class E9--><a href=\"psysml:d0667918-a428-4729-9680-50da29281cd4\" target=\"_top\" title=\"psysml:d0667918-a428-4729-9680-50da29281cd4\" xlink:actuate=\"onRequest\" xlink:href=\"psysml:d0667918-a428-4729-9680-50da29281cd4\" xlink:show=\"new\" xlink:title=\"psysml:d0667918-a428-4729-9680-50da29281cd4\" xlink:type=\"simple\"><rect fill=\"#FFFFFF\" height=\"31.9688\" id=\"E9\" rx=\"10\" ry=\"10\" style=\"stroke: #383838; stroke-width: 1.5;\" width=\"178\" x=\"246\" y=\"174\"/><text fill=\"#000000\" font-family=\"sans-serif\" font-size=\"12\" lengthAdjust=\"spacingAndGlyphs\" textLength=\"172\" x=\"249\" y=\"190.1387\">selectedAlternative: Engine</text><line style=\"stroke: #383838; stroke-width: 1.5;\" x1=\"247\" x2=\"423\" y1=\"197.9688\" y2=\"197.9688\"/></a><g id=\"E1.E2\"><a href=\"psysml:6dc2e48d-4c08-4400-bc60-82a531af2780\" target=\"_top\" title=\"psysml:6dc2e48d-4c08-4400-bc60-82a531af2780\" xlink:actuate=\"onRequest\" xlink:href=\"psysml:6dc2e48d-4c08-4400-bc60-82a531af2780\" xlink:show=\"new\" xlink:title=\"psysml:6dc2e48d-4c08-4400-bc60-82a531af2780\" xlink:type=\"simple\"><rect fill=\"#FFFFFF\" height=\"42.9375\" id=\"E2\" style=\"stroke: #383838; stroke-width: 1.5;\" width=\"71\" x=\"302.5\" y=\"263\"/><rect fill=\"#F8F8F8\" height=\"37.9375\" style=\"stroke: #383838; stroke-width: 1.5;\" width=\"71\" x=\"302.5\" y=\"263\"/><text fill=\"#000000\" font-family=\"sans-serif\" font-size=\"12\" font-style=\"italic\" lengthAdjust=\"spacingAndGlyphs\" textLength=\"64\" x=\"306\" y=\"279.1387\">«part def»</text><text fill=\"#000000\" font-family=\"sans-serif\" font-size=\"12\" lengthAdjust=\"spacingAndGlyphs\" textLength=\"43\" x=\"316.5\" y=\"293.1074\">Engine</text></a></g><g id=\"E1.E3\"><a href=\"psysml:3defd9be-3b5d-4c6d-8f79-df776db84250\" target=\"_top\" title=\"psysml:3defd9be-3b5d-4c6d-8f79-df776db84250\" xlink:actuate=\"onRequest\" xlink:href=\"psysml:3defd9be-3b5d-4c6d-8f79-df776db84250\" xlink:show=\"new\" xlink:title=\"psysml:3defd9be-3b5d-4c6d-8f79-df776db84250\" xlink:type=\"simple\"><rect fill=\"#FFFFFF\" height=\"40\" id=\"E3\" rx=\"10\" ry=\"10\" style=\"stroke: #383838; stroke-width: 1.5;\" width=\"113\" x=\"180.5\" y=\"44\"/><rect fill=\"#F8F8F8\" height=\"23.9688\" rx=\"10\" ry=\"10\" style=\"stroke: #F8F8F8; stroke-width: 1.5;\" width=\"113\" x=\"180.5\" y=\"44\"/><rect fill=\"#F8F8F8\" height=\"10\" style=\"stroke: #F8F8F8; stroke-width: 1.5;\" width=\"113\" x=\"180.5\" y=\"57.9688\"/><rect fill=\"none\" height=\"40\" id=\"E3\" rx=\"10\" ry=\"10\" style=\"stroke: #383838; stroke-width: 1.5;\" width=\"113\" x=\"180.5\" y=\"44\"/><text fill=\"#000000\" font-family=\"sans-serif\" font-size=\"12\" lengthAdjust=\"spacingAndGlyphs\" textLength=\"102\" x=\"186\" y=\"60.1387\">engine1: Engine</text></a></g><g id=\"E1.E4\"><a href=\"psysml:3a9a647b-2fd2-49b6-8a5f-7ce1649088e0\" target=\"_top\" title=\"psysml:3a9a647b-2fd2-49b6-8a5f-7ce1649088e0\" xlink:actuate=\"onRequest\" xlink:href=\"psysml:3a9a647b-2fd2-49b6-8a5f-7ce1649088e0\" xlink:show=\"new\" xlink:title=\"psysml:3a9a647b-2fd2-49b6-8a5f-7ce1649088e0\" xlink:type=\"simple\"><rect fill=\"#FFFFFF\" height=\"40\" id=\"E4\" rx=\"10\" ry=\"10\" style=\"stroke: #383838; stroke-width: 1.5;\" width=\"113\" x=\"32.5\" y=\"44\"/><rect fill=\"#F8F8F8\" height=\"23.9688\" rx=\"10\" ry=\"10\" style=\"stroke: #F8F8F8; stroke-width: 1.5;\" width=\"113\" x=\"32.5\" y=\"44\"/><rect fill=\"#F8F8F8\" height=\"10\" style=\"stroke: #F8F8F8; stroke-width: 1.5;\" width=\"113\" x=\"32.5\" y=\"57.9688\"/><rect fill=\"none\" height=\"40\" id=\"E4\" rx=\"10\" ry=\"10\" style=\"stroke: #383838; stroke-width: 1.5;\" width=\"113\" x=\"32.5\" y=\"44\"/><text fill=\"#000000\" font-family=\"sans-serif\" font-size=\"12\" lengthAdjust=\"spacingAndGlyphs\" textLength=\"102\" x=\"38\" y=\"60.1387\">engine2: Engine</text></a></g><!--MD5=[15ebcb19ae302d9b601edb458606d402]\n",
       "link E5 to E2--><a href=\"psysml:d5cbdaa6-c586-4ab8-b2f7-038eda38592d\" target=\"_top\" title=\"psysml:d5cbdaa6-c586-4ab8-b2f7-038eda38592d\" xlink:actuate=\"onRequest\" xlink:href=\"psysml:d5cbdaa6-c586-4ab8-b2f7-038eda38592d\" xlink:show=\"new\" xlink:title=\"psysml:d5cbdaa6-c586-4ab8-b2f7-038eda38592d\" xlink:type=\"simple\"><path d=\"M454.33,87.05 C456.45,89.57 458.39,92.23 460,95 C475.92,122.38 478.3,136.82 466,166 C448.69,207.07 408.73,239.87 378.03,260.26 \" fill=\"none\" id=\"E5-&gt;E2\" style=\"stroke: #383838; stroke-width: 1.0; stroke-dasharray: 7.0,7.0;\"/><polygon fill=\"#383838\" points=\"373.57,263.18,383.2939,261.6161,377.7586,260.4495,378.9251,254.9143,373.57,263.18\" style=\"stroke: #383838; stroke-width: 1.0;\"/><text fill=\"#000000\" font-family=\"sans-serif\" font-size=\"13\" lengthAdjust=\"spacingAndGlyphs\" textLength=\"62\" x=\"463\" y=\"194.5669\">«subject»</text></a><!--MD5=[9120cf2e5df3bff93db8f754bbbc09b4]\n",
       "link E5 to E6--><a href=\"psysml:14d02f99-86ef-419d-b64f-b983855c21b7\" target=\"_top\" title=\"psysml:14d02f99-86ef-419d-b64f-b983855c21b7\" xlink:actuate=\"onRequest\" xlink:href=\"psysml:14d02f99-86ef-419d-b64f-b983855c21b7\" xlink:show=\"new\" xlink:title=\"psysml:14d02f99-86ef-419d-b64f-b983855c21b7\" xlink:type=\"simple\"><path d=\"M342.94,87.03 C333.16,89.67 323.36,92.36 314,95 C288.94,102.07 261.74,110.13 237.17,117.56 \" fill=\"none\" id=\"E5-&gt;E6\" style=\"stroke: #383838; stroke-width: 1.0;\"/><polygon fill=\"#383838\" points=\"229.29,119.94,237.8158,120.4972,236.0799,114.7538,229.29,119.94\" style=\"stroke: #383838; stroke-width: 1.0;\"/><text fill=\"#000000\" font-family=\"sans-serif\" font-size=\"13\" lengthAdjust=\"spacingAndGlyphs\" textLength=\"73\" x=\"315\" y=\"108.0669\">«objective»</text></a><!--MD5=[452b418e7f8a40397a49b8c0a78acc5b]\n",
       "reverse link E5 to E7--><a href=\"psysml:60238b1f-3640-4bef-bde7-54f879504707\" target=\"_top\" title=\"psysml:60238b1f-3640-4bef-bde7-54f879504707\" xlink:actuate=\"onRequest\" xlink:href=\"psysml:60238b1f-3640-4bef-bde7-54f879504707\" xlink:show=\"new\" xlink:title=\"psysml:60238b1f-3640-4bef-bde7-54f879504707\" xlink:type=\"simple\"><path d=\"M405.93,98.32 C401.13,105.57 396.16,113.08 391.72,119.78 \" fill=\"none\" id=\"E5&lt;-E7\" style=\"stroke: #383838; stroke-width: 1.0;\"/><polygon fill=\"#383838\" points=\"413.25,87.27,406.6021,90.0638,406.6241,97.2749,413.272,94.4811,413.25,87.27\" style=\"stroke: #383838; stroke-width: 1.0;\"/></a><!--MD5=[dc164f5e8a733ab456ef1add180e9e34]\n",
       "reverse link E7 to E8--><a href=\"psysml:83c02207-4172-44b5-b5b3-edd55ab7c0db\" target=\"_top\" title=\"psysml:83c02207-4172-44b5-b5b3-edd55ab7c0db\" xlink:actuate=\"onRequest\" xlink:href=\"psysml:83c02207-4172-44b5-b5b3-edd55ab7c0db\" xlink:show=\"new\" xlink:title=\"psysml:83c02207-4172-44b5-b5b3-edd55ab7c0db\" xlink:type=\"simple\"><path d=\"M305.92,164.91 C304.26,165.29 302.62,165.65 301,166 C288.71,168.64 253.66,164.89 245,174 C235.09,184.43 235.08,201.52 236.77,213.88 \" fill=\"none\" id=\"E7&lt;-E8\" style=\"stroke: #383838; stroke-width: 1.0;\"/><polygon fill=\"#FFFFFF\" points=\"318.71,161.77,311.9314,159.3102,307.0537,164.6214,313.8323,167.0811,318.71,161.77\" style=\"stroke: #383838; stroke-width: 1.0;\"/><text fill=\"#000000\" font-family=\"sans-serif\" font-size=\"13\" lengthAdjust=\"spacingAndGlyphs\" textLength=\"8\" x=\"226.2847\" y=\"202.8557\">1</text></a><!--MD5=[f1f3f9f2fc535e6147756cb86a7f2e32]\n",
       "link E8 to E2--><a href=\"psysml:3fd357fc-9742-4e4a-b08f-00e5f8b92b2e\" target=\"_top\" title=\"psysml:3fd357fc-9742-4e4a-b08f-00e5f8b92b2e\" xlink:actuate=\"onRequest\" xlink:href=\"psysml:3fd357fc-9742-4e4a-b08f-00e5f8b92b2e\" xlink:show=\"new\" xlink:title=\"psysml:3fd357fc-9742-4e4a-b08f-00e5f8b92b2e\" xlink:type=\"simple\"><path d=\"M268.08,246.04 C273.23,248.8 278.76,251.77 284.38,254.77 \" fill=\"none\" id=\"E8-&gt;E2\" style=\"stroke: #383838; stroke-width: 1.0;\"/><polygon fill=\"#FFFFFF\" points=\"302.21,264.33,282.1553,261.5358,288.7616,249.1926,302.21,264.33\" style=\"stroke: #383838; stroke-width: 1.0;\"/><ellipse cx=\"278.0736\" cy=\"257.0828\" fill=\"#383838\" rx=\"2\" ry=\"2\" style=\"stroke: #383838; stroke-width: 1.0;\"/><ellipse cx=\"282.7924\" cy=\"248.2661\" fill=\"#383838\" rx=\"2\" ry=\"2\" style=\"stroke: #383838; stroke-width: 1.0;\"/></a><!--MD5=[9ae28de373ca99bb8a1b38d63370ca7e]\n",
       "reverse link E5 to E9--><a href=\"psysml:44393528-ee32-422a-b73c-7e5d578e1b67\" target=\"_top\" title=\"psysml:44393528-ee32-422a-b73c-7e5d578e1b67\" xlink:actuate=\"onRequest\" xlink:href=\"psysml:44393528-ee32-422a-b73c-7e5d578e1b67\" xlink:show=\"new\" xlink:title=\"psysml:44393528-ee32-422a-b73c-7e5d578e1b67\" xlink:type=\"simple\"><path d=\"M449.82,98.65 C460.68,120.03 468.53,147.15 453,166 C451.62,167.67 438.74,170.68 421.94,173.98 \" fill=\"none\" id=\"E5&lt;-E9\" style=\"stroke: #383838; stroke-width: 1.0;\"/><polygon fill=\"#FFFFFF\" points=\"443.41,87.13,442.8257,94.3174,449.2355,97.6211,449.8198,90.4337,443.41,87.13\" style=\"stroke: #383838; stroke-width: 1.0;\"/><text fill=\"#000000\" font-family=\"sans-serif\" font-size=\"13\" lengthAdjust=\"spacingAndGlyphs\" textLength=\"8\" x=\"431.8866\" y=\"185.124\">1</text></a><!--MD5=[5c3bb36fe832a92c7f0e1807dd65209d]\n",
       "link E9 to E2--><a href=\"psysml:fe7d5224-67e7-4f42-a679-f87e330c9f80\" target=\"_top\" title=\"psysml:fe7d5224-67e7-4f42-a679-f87e330c9f80\" xlink:actuate=\"onRequest\" xlink:href=\"psysml:fe7d5224-67e7-4f42-a679-f87e330c9f80\" xlink:show=\"new\" xlink:title=\"psysml:fe7d5224-67e7-4f42-a679-f87e330c9f80\" xlink:type=\"simple\"><path d=\"M335.5,206.27 C335.82,216.14 336.25,229.48 336.66,242.29 \" fill=\"none\" id=\"E9-&gt;E2\" style=\"stroke: #383838; stroke-width: 1.0;\"/><polygon fill=\"#FFFFFF\" points=\"337.32,262.66,329.7128,243.8949,343.7055,243.4448,337.32,262.66\" style=\"stroke: #383838; stroke-width: 1.0;\"/><ellipse cx=\"331.5285\" cy=\"238.1335\" fill=\"#383838\" rx=\"2\" ry=\"2\" style=\"stroke: #383838; stroke-width: 1.0;\"/><ellipse cx=\"341.5233\" cy=\"237.812\" fill=\"#383838\" rx=\"2\" ry=\"2\" style=\"stroke: #383838; stroke-width: 1.0;\"/></a><!--MD5=[b16f36a2eadb8711f6c8b9b192bbfa37]\n",
       "@startuml\r\n",
       "skinparam ranksep 10\r\n",
       "skinparam rectangle {\r\n",
       " backgroundColor<<block>> LightGreen\r\n",
       "}\r\n",
       "top to bottom direction\r\n",
       "skinparam monochrome true\r\n",
       "skinparam classbackgroundcolor white\r\n",
       "skinparam shadowing false\r\n",
       "skinparam wrapWidth 300\r\n",
       "hide circle\r\n",
       "\r\n",
       "package \"TradeStudyTest\" as E1  [[psysml:ee7e22b2-7ed6-4f2c-8628-ec59eb221ec4 ]]  {\r\n",
       "rec def \"Engine\" as E2  <<(T,blue) part def>> [[psysml:6dc2e48d-4c08-4400-bc60-82a531af2780 ]] {\r\n",
       "}\r\n",
       "rec usage \"engine1: Engine\" as E3  [[psysml:3defd9be-3b5d-4c6d-8f79-df776db84250 ]] {\r\n",
       "}\r\n",
       "rec usage \"engine2: Engine\" as E4  [[psysml:3a9a647b-2fd2-49b6-8a5f-7ce1649088e0 ]] {\r\n",
       "}\r\n",
       "comp usage \"engineTradeStudy: TradeStudy\" as E5 << analysis>> [[psysml:4b9a9840-0888-40ad-997b-4be591991c45 ]] {\r\n",
       "}\r\n",
       "comp usage \"tradeStudyObjective: MaximizeObjective\" as E6  <<(T,blue) requirement>> [[psysml:6d56d509-a272-42e3-905c-0e1bbd246da0 ]] {\r\n",
       "}\r\n",
       "comp usage \"objectiveFunction\" as E7  <<(T,blue) calculation>> [[psysml:0d158b00-d202-4b1f-90aa-9fc427f4eb2b ]] {\r\n",
       "}\r\n",
       "comp usage \"alternative: Engine\" as E8  [[psysml:e8d66f1b-2710-4767-99ee-f2812ccd7696 ]] {\r\n",
       "}\r\n",
       "comp usage \"selectedAlternative: Engine\" as E9  [[psysml:d0667918-a428-4729-9680-50da29281cd4 ]] {\r\n",
       "}\r\n",
       "}\r\n",
       "E5 ..> E2 [[psysml:d5cbdaa6-c586-4ab8-b2f7-038eda38592d ]] : <<subject>>\r\n",
       "E5 - ->> E6 [[psysml:14d02f99-86ef-419d-b64f-b983855c21b7 ]] : <<objective>>\r\n",
       "E5 *- - E7 [[psysml:60238b1f-3640-4bef-bde7-54f879504707 ]] \r\n",
       "E7 o- - \"1\"E8 [[psysml:83c02207-4172-44b5-b5b3-edd55ab7c0db ]] \r\n",
       "E8 - -:|> E2 [[psysml:3fd357fc-9742-4e4a-b08f-00e5f8b92b2e ]] \r\n",
       "E5 o- - \"1\"E9 [[psysml:44393528-ee32-422a-b73c-7e5d578e1b67 ]] \r\n",
       "E9 - -:|> E2 [[psysml:fe7d5224-67e7-4f42-a679-f87e330c9f80 ]] \r\n",
       "@enduml\r\n",
       "\n",
       "PlantUML version 1.2020.13(Sat Jun 13 12:26:38 UTC 2020)\n",
       "(EPL source distribution)\n",
       "Java Runtime: OpenJDK Runtime Environment\n",
       "JVM: OpenJDK 64-Bit Server VM\n",
       "Default Encoding: UTF-8\n",
       "Language: en\n",
       "Country: null\n",
       "--></g></svg>"
      ]
     },
     "execution_count": 47,
     "metadata": {},
     "output_type": "execute_result"
    }
   ],
   "source": [
    "%viz --style=\"TB\" --view=\"Interconnection\" \"TradeStudyTest\""
   ]
  },
  {
   "cell_type": "code",
   "execution_count": 48,
   "id": "b92b0b0a",
   "metadata": {
    "execution": {
     "iopub.execute_input": "2021-10-03T08:30:39.618220Z",
     "iopub.status.busy": "2021-10-03T08:30:39.617599Z",
     "iopub.status.idle": "2021-10-03T08:30:39.642188Z",
     "shell.execute_reply": "2021-10-03T08:30:39.641845Z"
    }
   },
   "outputs": [
    {
     "data": {
      "image/svg+xml": [
       "<?xml version=\"1.0\" encoding=\"UTF-8\" standalone=\"no\"?><svg xmlns=\"http://www.w3.org/2000/svg\" xmlns:xlink=\"http://www.w3.org/1999/xlink\" contentScriptType=\"application/ecmascript\" contentStyleType=\"text/css\" height=\"178px\" preserveAspectRatio=\"none\" style=\"width:434px;height:178px;\" version=\"1.1\" viewBox=\"0 0 434 178\" width=\"434px\" zoomAndPan=\"magnify\"><defs/><g><!--MD5=[fbc87193dbaf4d95561dea2c320d4a47]\n",
       "cluster E1--><a href=\"psysml:4b9a9840-0888-40ad-997b-4be591991c45\" target=\"_top\" title=\"psysml:4b9a9840-0888-40ad-997b-4be591991c45\" xlink:actuate=\"onRequest\" xlink:href=\"psysml:4b9a9840-0888-40ad-997b-4be591991c45\" xlink:show=\"new\" xlink:title=\"psysml:4b9a9840-0888-40ad-997b-4be591991c45\" xlink:type=\"simple\"><rect fill=\"#FFFFFF\" height=\"103.72\" id=\"E1\" rx=\"10\" ry=\"10\" style=\"stroke: #383838; stroke-width: 1.5;\" width=\"327\" x=\"47\" y=\"42.0986\"/><rect fill=\"#F8F8F8\" height=\"37.9375\" rx=\"10\" ry=\"10\" style=\"stroke: #F8F8F8; stroke-width: 1.5;\" width=\"327\" x=\"47\" y=\"42.0986\"/><rect fill=\"#F8F8F8\" height=\"10\" style=\"stroke: #F8F8F8; stroke-width: 1.5;\" width=\"327\" x=\"47\" y=\"70.0361\"/><rect fill=\"none\" height=\"103.72\" id=\"E1\" rx=\"10\" ry=\"10\" style=\"stroke: #383838; stroke-width: 1.5;\" width=\"327\" x=\"47\" y=\"42.0986\"/><text fill=\"#000000\" font-family=\"sans-serif\" font-size=\"12\" font-style=\"italic\" lengthAdjust=\"spacingAndGlyphs\" textLength=\"64\" x=\"178.5\" y=\"58.2373\">«analysis»</text><text fill=\"#000000\" font-family=\"sans-serif\" font-size=\"12\" lengthAdjust=\"spacingAndGlyphs\" textLength=\"114\" x=\"153.5\" y=\"72.2061\">engineTradeStudy</text><line style=\"stroke: #383838; stroke-width: 1.0;\" x1=\"47\" x2=\"374\" y1=\"80.0361\" y2=\"80.0361\"/></a><!--MD5=[d5e69f78d87373223dbae638b30a9c99]\n",
       "cluster E3--><a href=\"psysml:0d158b00-d202-4b1f-90aa-9fc427f4eb2b\" target=\"_top\" title=\"psysml:0d158b00-d202-4b1f-90aa-9fc427f4eb2b\" xlink:actuate=\"onRequest\" xlink:href=\"psysml:0d158b00-d202-4b1f-90aa-9fc427f4eb2b\" xlink:show=\"new\" xlink:title=\"psysml:0d158b00-d202-4b1f-90aa-9fc427f4eb2b\" xlink:type=\"simple\"><rect fill=\"#FFFFFF\" height=\"81.72\" id=\"E3\" rx=\"10\" ry=\"10\" style=\"stroke: #383838; stroke-width: 1.5;\" width=\"132\" x=\"214.125\" y=\"64.0986\"/><rect fill=\"#F8F8F8\" height=\"37.9375\" rx=\"10\" ry=\"10\" style=\"stroke: #F8F8F8; stroke-width: 1.5;\" width=\"132\" x=\"214.125\" y=\"64.0986\"/><rect fill=\"#F8F8F8\" height=\"10\" style=\"stroke: #F8F8F8; stroke-width: 1.5;\" width=\"132\" x=\"214.125\" y=\"92.0361\"/><rect fill=\"none\" height=\"81.72\" id=\"E3\" rx=\"10\" ry=\"10\" style=\"stroke: #383838; stroke-width: 1.5;\" width=\"132\" x=\"214.125\" y=\"64.0986\"/><text fill=\"#000000\" font-family=\"sans-serif\" font-size=\"12\" font-style=\"italic\" lengthAdjust=\"spacingAndGlyphs\" textLength=\"82\" x=\"239.125\" y=\"80.2373\">«calculation»</text><text fill=\"#000000\" font-family=\"sans-serif\" font-size=\"12\" lengthAdjust=\"spacingAndGlyphs\" textLength=\"110\" x=\"225.125\" y=\"94.2061\">objectiveFunction</text><line style=\"stroke: #383838; stroke-width: 1.0;\" x1=\"214.125\" x2=\"346.125\" y1=\"102.0361\" y2=\"102.0361\"/></a><text fill=\"#000000\" font-family=\"sans-serif\" font-size=\"14\" lengthAdjust=\"spacingAndGlyphs\" textLength=\"118\" x=\"6\" y=\"20.7969\">studyAlternatives</text><rect fill=\"#383838\" height=\"12\" style=\"stroke: #F8F8F8; stroke-width: 1.5;\" width=\"12\" x=\"59\" y=\"36.0986\"/><text fill=\"#000000\" font-family=\"sans-serif\" font-size=\"14\" lengthAdjust=\"spacingAndGlyphs\" textLength=\"132\" x=\"290\" y=\"164.8138\">selectedAlternative</text><rect fill=\"#383838\" height=\"12\" style=\"stroke: #F8F8F8; stroke-width: 1.5;\" width=\"12\" x=\"350\" y=\"139.8186\"/><text fill=\"#000000\" font-family=\"sans-serif\" font-size=\"14\" lengthAdjust=\"spacingAndGlyphs\" textLength=\"39\" x=\"215.5\" y=\"164.8138\">result</text><rect fill=\"#383838\" height=\"12\" style=\"stroke: #F8F8F8; stroke-width: 1.5;\" width=\"12\" x=\"229\" y=\"139.8186\"/><!--MD5=[2004f4d13ed9d2c0bd46955804aff8c6]\n",
       "@startuml\r\n",
       "skinparam ranksep 8\r\n",
       "top to bottom direction\r\n",
       "skinparam monochrome true\r\n",
       "skinparam classbackgroundcolor white\r\n",
       "skinparam shadowing false\r\n",
       "skinparam wrapWidth 300\r\n",
       "hide circle\r\n",
       "\r\n",
       "rec usage \"engineTradeStudy\" as E1 << analysis>> [[psysml:4b9a9840-0888-40ad-997b-4be591991c45 ]] {\r\n",
       "portin \"studyAlternatives\" as E2  [[psysml:176bf709-9374-41f7-af5d-a9b046d4ad5e ]] \r\n",
       "rec usage \"objectiveFunction\" as E3  <<(T,blue) calculation>> [[psysml:0d158b00-d202-4b1f-90aa-9fc427f4eb2b ]] {\r\n",
       "portout \"result\" as E4  [[psysml:5b5a7b7b-7538-4fc2-96bb-574f08f8230e ]] \r\n",
       "}\r\n",
       "\r\n",
       "portout \"selectedAlternative\" as E5  [[psysml:d0667918-a428-4729-9680-50da29281cd4 ]] \r\n",
       "}\r\n",
       "\r\n",
       "@enduml\r\n",
       "\n",
       "PlantUML version 1.2020.13(Sat Jun 13 12:26:38 UTC 2020)\n",
       "(EPL source distribution)\n",
       "Java Runtime: OpenJDK Runtime Environment\n",
       "JVM: OpenJDK 64-Bit Server VM\n",
       "Default Encoding: UTF-8\n",
       "Language: en\n",
       "Country: null\n",
       "--></g></svg>"
      ]
     },
     "execution_count": 48,
     "metadata": {},
     "output_type": "execute_result"
    }
   ],
   "source": [
    "%viz --style=\"TB\" --view=\"Action\" \"TradeStudyTest\""
   ]
  },
  {
   "cell_type": "code",
   "execution_count": 49,
   "id": "9cedcc5f",
   "metadata": {
    "execution": {
     "iopub.execute_input": "2021-10-03T08:30:39.691568Z",
     "iopub.status.busy": "2021-10-03T08:30:39.691177Z",
     "iopub.status.idle": "2021-10-03T08:30:39.696218Z",
     "shell.execute_reply": "2021-10-03T08:30:39.696526Z"
    }
   },
   "outputs": [
    {
     "data": {
      "image/svg+xml": [
       "<?xml version=\"1.0\" encoding=\"UTF-8\" standalone=\"no\"?><svg xmlns=\"http://www.w3.org/2000/svg\" xmlns:xlink=\"http://www.w3.org/1999/xlink\" contentScriptType=\"application/ecmascript\" contentStyleType=\"text/css\" height=\"12px\" preserveAspectRatio=\"none\" style=\"width:12px;height:12px;\" version=\"1.1\" viewBox=\"0 0 12 12\" width=\"12px\" zoomAndPan=\"magnify\"><defs/><g><!--MD5=[e1ab0c84c44d2fef8bf5f140f2689906]\n",
       "@startuml\r\n",
       "skinparam roundcorner 20\r\n",
       "skinparam BoxPadding 20\r\n",
       "skinparam SequenceBoxBackgroundColor #white\r\n",
       "skinparam style strictuml\r\n",
       "skinparam maxMessageSize 100\r\n",
       "top to bottom direction\r\n",
       "skinparam monochrome true\r\n",
       "skinparam classbackgroundcolor white\r\n",
       "skinparam shadowing false\r\n",
       "skinparam wrapWidth 300\r\n",
       "hide circle\r\n",
       "\r\n",
       "@enduml\r\n",
       "\n",
       "PlantUML version 1.2020.13(Sat Jun 13 12:26:38 UTC 2020)\n",
       "(EPL source distribution)\n",
       "Java Runtime: OpenJDK Runtime Environment\n",
       "JVM: OpenJDK 64-Bit Server VM\n",
       "Default Encoding: UTF-8\n",
       "Language: en\n",
       "Country: null\n",
       "--></g></svg>"
      ]
     },
     "execution_count": 49,
     "metadata": {},
     "output_type": "execute_result"
    }
   ],
   "source": [
    "%viz --style=\"TB\" --view=\"Sequence\" \"TradeStudyTest\""
   ]
  },
  {
   "cell_type": "code",
   "execution_count": 50,
   "id": "493b4cac",
   "metadata": {
    "execution": {
     "iopub.execute_input": "2021-10-03T08:30:39.746294Z",
     "iopub.status.busy": "2021-10-03T08:30:39.745895Z",
     "iopub.status.idle": "2021-10-03T08:30:39.785235Z",
     "shell.execute_reply": "2021-10-03T08:30:39.784862Z"
    }
   },
   "outputs": [
    {
     "data": {
      "image/svg+xml": [
       "<?xml version=\"1.0\" encoding=\"UTF-8\" standalone=\"no\"?><svg xmlns=\"http://www.w3.org/2000/svg\" xmlns:xlink=\"http://www.w3.org/1999/xlink\" contentScriptType=\"application/ecmascript\" contentStyleType=\"text/css\" height=\"497px\" preserveAspectRatio=\"none\" style=\"width:556px;height:497px;\" version=\"1.1\" viewBox=\"0 0 556 497\" width=\"556px\" zoomAndPan=\"magnify\"><defs/><g><!--MD5=[fbc87193dbaf4d95561dea2c320d4a47]\n",
       "cluster E1--><a href=\"psysml:ee7e22b2-7ed6-4f2c-8628-ec59eb221ec4\" target=\"_top\" title=\"psysml:ee7e22b2-7ed6-4f2c-8628-ec59eb221ec4\" xlink:actuate=\"onRequest\" xlink:href=\"psysml:ee7e22b2-7ed6-4f2c-8628-ec59eb221ec4\" xlink:show=\"new\" xlink:title=\"psysml:ee7e22b2-7ed6-4f2c-8628-ec59eb221ec4\" xlink:type=\"simple\"><polygon fill=\"#FFFFFF\" points=\"18.32,6,134.32,6,141.32,28.2969,534.32,28.2969,534.32,485,18.32,485,18.32,6\" style=\"stroke: #000000; stroke-width: 1.5;\"/><line style=\"stroke: #000000; stroke-width: 1.5;\" x1=\"18.32\" x2=\"141.32\" y1=\"28.2969\" y2=\"28.2969\"/><text fill=\"#000000\" font-family=\"sans-serif\" font-size=\"14\" font-weight=\"bold\" lengthAdjust=\"spacingAndGlyphs\" textLength=\"110\" x=\"22.32\" y=\"20.9951\">TradeStudyTest</text></a><!--MD5=[b4997ac47864f28c2f74865a473b2911]\n",
       "class E2--><a href=\"psysml:6dc2e48d-4c08-4400-bc60-82a531af2780\" target=\"_top\" title=\"psysml:6dc2e48d-4c08-4400-bc60-82a531af2780\" xlink:actuate=\"onRequest\" xlink:href=\"psysml:6dc2e48d-4c08-4400-bc60-82a531af2780\" xlink:show=\"new\" xlink:title=\"psysml:6dc2e48d-4c08-4400-bc60-82a531af2780\" xlink:type=\"simple\"><rect fill=\"#FFFFFF\" height=\"45.9375\" id=\"E2\" style=\"stroke: #383838; stroke-width: 1.5;\" width=\"66\" x=\"198.32\" y=\"423\"/><text fill=\"#000000\" font-family=\"sans-serif\" font-size=\"12\" font-style=\"italic\" lengthAdjust=\"spacingAndGlyphs\" textLength=\"64\" x=\"199.32\" y=\"439.1387\">«part def»</text><text fill=\"#000000\" font-family=\"sans-serif\" font-size=\"12\" lengthAdjust=\"spacingAndGlyphs\" textLength=\"43\" x=\"209.82\" y=\"453.1074\">Engine</text><line style=\"stroke: #383838; stroke-width: 1.5;\" x1=\"199.32\" x2=\"263.32\" y1=\"460.9375\" y2=\"460.9375\"/></a><!--MD5=[09b614a08d8cba4a07c9adeb5e0fee81]\n",
       "class E3--><a href=\"psysml:3defd9be-3b5d-4c6d-8f79-df776db84250\" target=\"_top\" title=\"psysml:3defd9be-3b5d-4c6d-8f79-df776db84250\" xlink:actuate=\"onRequest\" xlink:href=\"psysml:3defd9be-3b5d-4c6d-8f79-df776db84250\" xlink:show=\"new\" xlink:title=\"psysml:3defd9be-3b5d-4c6d-8f79-df776db84250\" xlink:type=\"simple\"><rect fill=\"#FFFFFF\" height=\"45.9375\" id=\"E3\" rx=\"10\" ry=\"10\" style=\"stroke: #383838; stroke-width: 1.5;\" width=\"108\" x=\"410.32\" y=\"316\"/><text fill=\"#000000\" font-family=\"sans-serif\" font-size=\"12\" font-style=\"italic\" lengthAdjust=\"spacingAndGlyphs\" textLength=\"40\" x=\"444.32\" y=\"332.1387\">«part»</text><text fill=\"#000000\" font-family=\"sans-serif\" font-size=\"12\" lengthAdjust=\"spacingAndGlyphs\" textLength=\"102\" x=\"413.32\" y=\"346.1074\">engine1: Engine</text><line style=\"stroke: #383838; stroke-width: 1.5;\" x1=\"411.32\" x2=\"517.32\" y1=\"353.9375\" y2=\"353.9375\"/></a><!--MD5=[ebbe1d658d1005bcc118a6aa81145e00]\n",
       "class E4--><a href=\"psysml:3a9a647b-2fd2-49b6-8a5f-7ce1649088e0\" target=\"_top\" title=\"psysml:3a9a647b-2fd2-49b6-8a5f-7ce1649088e0\" xlink:actuate=\"onRequest\" xlink:href=\"psysml:3a9a647b-2fd2-49b6-8a5f-7ce1649088e0\" xlink:show=\"new\" xlink:title=\"psysml:3a9a647b-2fd2-49b6-8a5f-7ce1649088e0\" xlink:type=\"simple\"><rect fill=\"#FFFFFF\" height=\"45.9375\" id=\"E4\" rx=\"10\" ry=\"10\" style=\"stroke: #383838; stroke-width: 1.5;\" width=\"108\" x=\"267.32\" y=\"316\"/><text fill=\"#000000\" font-family=\"sans-serif\" font-size=\"12\" font-style=\"italic\" lengthAdjust=\"spacingAndGlyphs\" textLength=\"40\" x=\"301.32\" y=\"332.1387\">«part»</text><text fill=\"#000000\" font-family=\"sans-serif\" font-size=\"12\" lengthAdjust=\"spacingAndGlyphs\" textLength=\"102\" x=\"270.32\" y=\"346.1074\">engine2: Engine</text><line style=\"stroke: #383838; stroke-width: 1.5;\" x1=\"268.32\" x2=\"374.32\" y1=\"353.9375\" y2=\"353.9375\"/></a><!--MD5=[270fce915f116d4de14055a7c1d9a0f3]\n",
       "class E5--><a href=\"psysml:4b9a9840-0888-40ad-997b-4be591991c45\" target=\"_top\" title=\"psysml:4b9a9840-0888-40ad-997b-4be591991c45\" xlink:actuate=\"onRequest\" xlink:href=\"psysml:4b9a9840-0888-40ad-997b-4be591991c45\" xlink:show=\"new\" xlink:title=\"psysml:4b9a9840-0888-40ad-997b-4be591991c45\" xlink:type=\"simple\"><rect fill=\"#FFFFFF\" height=\"45.9375\" id=\"E5\" rx=\"10\" ry=\"10\" style=\"stroke: #383838; stroke-width: 1.5;\" width=\"199\" x=\"239.82\" y=\"41\"/><text fill=\"#000000\" font-family=\"sans-serif\" font-size=\"12\" font-style=\"italic\" lengthAdjust=\"spacingAndGlyphs\" textLength=\"64\" x=\"307.32\" y=\"57.1387\">«analysis»</text><text fill=\"#000000\" font-family=\"sans-serif\" font-size=\"12\" lengthAdjust=\"spacingAndGlyphs\" textLength=\"193\" x=\"242.82\" y=\"71.1074\">engineTradeStudy: TradeStudy</text><line style=\"stroke: #383838; stroke-width: 1.5;\" x1=\"240.82\" x2=\"437.82\" y1=\"78.9375\" y2=\"78.9375\"/></a><!--MD5=[60a26617385b1d2d0262a64233df1f8d]\n",
       "class E6--><a href=\"psysml:6d56d509-a272-42e3-905c-0e1bbd246da0\" target=\"_top\" title=\"psysml:6d56d509-a272-42e3-905c-0e1bbd246da0\" xlink:actuate=\"onRequest\" xlink:href=\"psysml:6d56d509-a272-42e3-905c-0e1bbd246da0\" xlink:show=\"new\" xlink:title=\"psysml:6d56d509-a272-42e3-905c-0e1bbd246da0\" xlink:type=\"simple\"><rect fill=\"#FFFFFF\" height=\"45.9375\" id=\"E6\" rx=\"10\" ry=\"10\" style=\"stroke: #383838; stroke-width: 1.5;\" width=\"251\" x=\"78.82\" y=\"164\"/><text fill=\"#000000\" font-family=\"sans-serif\" font-size=\"12\" font-style=\"italic\" lengthAdjust=\"spacingAndGlyphs\" textLength=\"91\" x=\"158.82\" y=\"180.1387\">«requirement»</text><text fill=\"#000000\" font-family=\"sans-serif\" font-size=\"12\" lengthAdjust=\"spacingAndGlyphs\" textLength=\"245\" x=\"81.82\" y=\"194.1074\">tradeStudyObjective: MaximizeObjective</text><line style=\"stroke: #383838; stroke-width: 1.5;\" x1=\"79.82\" x2=\"328.82\" y1=\"201.9375\" y2=\"201.9375\"/></a><!--MD5=[2156ba9850f5573cc1fc38a6a4b2f02b]\n",
       "class E7--><a href=\"psysml:0d158b00-d202-4b1f-90aa-9fc427f4eb2b\" target=\"_top\" title=\"psysml:0d158b00-d202-4b1f-90aa-9fc427f4eb2b\" xlink:actuate=\"onRequest\" xlink:href=\"psysml:0d158b00-d202-4b1f-90aa-9fc427f4eb2b\" xlink:show=\"new\" xlink:title=\"psysml:0d158b00-d202-4b1f-90aa-9fc427f4eb2b\" xlink:type=\"simple\"><rect fill=\"#FFFFFF\" height=\"45.9375\" id=\"E7\" rx=\"10\" ry=\"10\" style=\"stroke: #383838; stroke-width: 1.5;\" width=\"116\" x=\"365.32\" y=\"164\"/><text fill=\"#000000\" font-family=\"sans-serif\" font-size=\"12\" font-style=\"italic\" lengthAdjust=\"spacingAndGlyphs\" textLength=\"82\" x=\"382.32\" y=\"180.1387\">«calculation»</text><text fill=\"#000000\" font-family=\"sans-serif\" font-size=\"12\" lengthAdjust=\"spacingAndGlyphs\" textLength=\"110\" x=\"368.32\" y=\"194.1074\">objectiveFunction</text><line style=\"stroke: #383838; stroke-width: 1.5;\" x1=\"366.32\" x2=\"480.32\" y1=\"201.9375\" y2=\"201.9375\"/></a><!--MD5=[b9389687b975829384b498ac4b7476b2]\n",
       "class E8--><a href=\"psysml:e8d66f1b-2710-4767-99ee-f2812ccd7696\" target=\"_top\" title=\"psysml:e8d66f1b-2710-4767-99ee-f2812ccd7696\" xlink:actuate=\"onRequest\" xlink:href=\"psysml:e8d66f1b-2710-4767-99ee-f2812ccd7696\" xlink:show=\"new\" xlink:title=\"psysml:e8d66f1b-2710-4767-99ee-f2812ccd7696\" xlink:type=\"simple\"><rect fill=\"#FFFFFF\" height=\"45.9375\" id=\"E8\" rx=\"10\" ry=\"10\" style=\"stroke: #383838; stroke-width: 1.5;\" width=\"124\" x=\"71.32\" y=\"316\"/><text fill=\"#000000\" font-family=\"sans-serif\" font-size=\"12\" font-style=\"italic\" lengthAdjust=\"spacingAndGlyphs\" textLength=\"40\" x=\"113.32\" y=\"332.1387\">«part»</text><text fill=\"#000000\" font-family=\"sans-serif\" font-size=\"12\" lengthAdjust=\"spacingAndGlyphs\" textLength=\"118\" x=\"74.32\" y=\"346.1074\">alternative: Engine</text><line style=\"stroke: #383838; stroke-width: 1.5;\" x1=\"72.32\" x2=\"194.32\" y1=\"353.9375\" y2=\"353.9375\"/></a><!--MD5=[fd4143e9d270a159db93a4ea2a975926]\n",
       "class E9--><a href=\"psysml:d0667918-a428-4729-9680-50da29281cd4\" target=\"_top\" title=\"psysml:d0667918-a428-4729-9680-50da29281cd4\" xlink:actuate=\"onRequest\" xlink:href=\"psysml:d0667918-a428-4729-9680-50da29281cd4\" xlink:show=\"new\" xlink:title=\"psysml:d0667918-a428-4729-9680-50da29281cd4\" xlink:type=\"simple\"><rect fill=\"#FFFFFF\" height=\"45.9375\" id=\"E9\" rx=\"10\" ry=\"10\" style=\"stroke: #383838; stroke-width: 1.5;\" width=\"178\" x=\"291.32\" y=\"240\"/><text fill=\"#000000\" font-family=\"sans-serif\" font-size=\"12\" font-style=\"italic\" lengthAdjust=\"spacingAndGlyphs\" textLength=\"40\" x=\"360.32\" y=\"256.1387\">«part»</text><text fill=\"#000000\" font-family=\"sans-serif\" font-size=\"12\" lengthAdjust=\"spacingAndGlyphs\" textLength=\"172\" x=\"294.32\" y=\"270.1074\">selectedAlternative: Engine</text><line style=\"stroke: #383838; stroke-width: 1.5;\" x1=\"292.32\" x2=\"468.32\" y1=\"277.9375\" y2=\"277.9375\"/></a><!--MD5=[05d275557350bfb9b23a4ef7222b4c39]\n",
       "link E3 to E2--><a href=\"psysml:2c927883-7b33-4f30-b07f-44dca6adebf7\" target=\"_top\" title=\"psysml:2c927883-7b33-4f30-b07f-44dca6adebf7\" xlink:actuate=\"onRequest\" xlink:href=\"psysml:2c927883-7b33-4f30-b07f-44dca6adebf7\" xlink:show=\"new\" xlink:title=\"psysml:2c927883-7b33-4f30-b07f-44dca6adebf7\" xlink:type=\"simple\"><path d=\"M415.48,362.01 C376.57,379.54 322.27,404.01 282.71,421.84 \" fill=\"none\" id=\"E3-&gt;E2\" style=\"stroke: #383838; stroke-width: 1.0;\"/><polygon fill=\"#FFFFFF\" points=\"264.34,430.12,278.7866,415.9321,284.5383,428.696,264.34,430.12\" style=\"stroke: #383838; stroke-width: 1.0;\"/><ellipse cx=\"284.805\" cy=\"415.4137\" fill=\"#383838\" rx=\"2\" ry=\"2\" style=\"stroke: #383838; stroke-width: 1.0;\"/><ellipse cx=\"288.9134\" cy=\"424.5308\" fill=\"#383838\" rx=\"2\" ry=\"2\" style=\"stroke: #383838; stroke-width: 1.0;\"/></a><!--MD5=[185131fc0dcab0a4505a2ebe144e961b]\n",
       "link E4 to E2--><a href=\"psysml:59e46c20-b41c-4b83-8c8c-eff5ad41f1d7\" target=\"_top\" title=\"psysml:59e46c20-b41c-4b83-8c8c-eff5ad41f1d7\" xlink:actuate=\"onRequest\" xlink:href=\"psysml:59e46c20-b41c-4b83-8c8c-eff5ad41f1d7\" xlink:show=\"new\" xlink:title=\"psysml:59e46c20-b41c-4b83-8c8c-eff5ad41f1d7\" xlink:type=\"simple\"><path d=\"M302.45,362.01 C291.25,375.08 276.74,392.01 263.74,407.17 \" fill=\"none\" id=\"E4-&gt;E2\" style=\"stroke: #383838; stroke-width: 1.0;\"/><polygon fill=\"#FFFFFF\" points=\"250.47,422.66,257.5188,403.678,268.1491,412.7883,250.47,422.66\" style=\"stroke: #383838; stroke-width: 1.0;\"/><ellipse cx=\"262.7466\" cy=\"400.6515\" fill=\"#383838\" rx=\"2\" ry=\"2\" style=\"stroke: #383838; stroke-width: 1.0;\"/><ellipse cx=\"270.3396\" cy=\"407.1588\" fill=\"#383838\" rx=\"2\" ry=\"2\" style=\"stroke: #383838; stroke-width: 1.0;\"/></a><!--MD5=[15ebcb19ae302d9b601edb458606d402]\n",
       "link E5 to E2--><a href=\"psysml:d5cbdaa6-c586-4ab8-b2f7-038eda38592d\" target=\"_top\" title=\"psysml:d5cbdaa6-c586-4ab8-b2f7-038eda38592d\" xlink:actuate=\"onRequest\" xlink:href=\"psysml:d5cbdaa6-c586-4ab8-b2f7-038eda38592d\" xlink:show=\"new\" xlink:title=\"psysml:d5cbdaa6-c586-4ab8-b2f7-038eda38592d\" xlink:type=\"simple\"><path d=\"M239.76,73.22 C177.99,83.96 102.74,108.45 61.32,164 C8.68,234.61 6,287.72 53.32,362 C83.95,410.08 150.5,430.76 192.99,439.32 \" fill=\"none\" id=\"E5-&gt;E2\" style=\"stroke: #383838; stroke-width: 1.0; stroke-dasharray: 7.0,7.0;\"/><polygon fill=\"#383838\" points=\"198.04,440.31,189.9738,434.6588,193.1327,439.3514,188.4401,442.5104,198.04,440.31\" style=\"stroke: #383838; stroke-width: 1.0;\"/><text fill=\"#000000\" font-family=\"sans-serif\" font-size=\"13\" lengthAdjust=\"spacingAndGlyphs\" textLength=\"62\" x=\"24.32\" y=\"267.5669\">«subject»</text></a><!--MD5=[9120cf2e5df3bff93db8f754bbbc09b4]\n",
       "link E5 to E6--><a href=\"psysml:14d02f99-86ef-419d-b64f-b983855c21b7\" target=\"_top\" title=\"psysml:14d02f99-86ef-419d-b64f-b983855c21b7\" xlink:actuate=\"onRequest\" xlink:href=\"psysml:14d02f99-86ef-419d-b64f-b983855c21b7\" xlink:show=\"new\" xlink:title=\"psysml:14d02f99-86ef-419d-b64f-b983855c21b7\" xlink:type=\"simple\"><path d=\"M314.56,87.19 C292.2,107.23 259.21,136.8 235.15,158.37 \" fill=\"none\" id=\"E5-&gt;E6\" style=\"stroke: #383838; stroke-width: 1.0;\"/><polygon fill=\"#383838\" points=\"228.92,163.95,236.8786,160.8419,232.8725,156.3752,228.92,163.95\" style=\"stroke: #383838; stroke-width: 1.0;\"/><text fill=\"#000000\" font-family=\"sans-serif\" font-size=\"13\" lengthAdjust=\"spacingAndGlyphs\" textLength=\"73\" x=\"280.32\" y=\"130.0669\">«objective»</text></a><!--MD5=[452b418e7f8a40397a49b8c0a78acc5b]\n",
       "reverse link E5 to E7--><a href=\"psysml:60238b1f-3640-4bef-bde7-54f879504707\" target=\"_top\" title=\"psysml:60238b1f-3640-4bef-bde7-54f879504707\" xlink:actuate=\"onRequest\" xlink:href=\"psysml:60238b1f-3640-4bef-bde7-54f879504707\" xlink:show=\"new\" xlink:title=\"psysml:60238b1f-3640-4bef-bde7-54f879504707\" xlink:type=\"simple\"><path d=\"M362.14,97.88 C376.71,118.86 395.19,145.48 408.01,163.95 \" fill=\"none\" id=\"E5&lt;-E7\" style=\"stroke: #383838; stroke-width: 1.0;\"/><polygon fill=\"#383838\" points=\"354.73,87.19,354.864,94.3999,361.5708,97.0492,361.4368,89.8393,354.73,87.19\" style=\"stroke: #383838; stroke-width: 1.0;\"/></a><!--MD5=[dc164f5e8a733ab456ef1add180e9e34]\n",
       "reverse link E7 to E8--><a href=\"psysml:83c02207-4172-44b5-b5b3-edd55ab7c0db\" target=\"_top\" title=\"psysml:83c02207-4172-44b5-b5b3-edd55ab7c0db\" xlink:actuate=\"onRequest\" xlink:href=\"psysml:83c02207-4172-44b5-b5b3-edd55ab7c0db\" xlink:show=\"new\" xlink:title=\"psysml:83c02207-4172-44b5-b5b3-edd55ab7c0db\" xlink:type=\"simple\"><path d=\"M352.67,208.29 C327.33,216.69 298.96,227.44 274.32,240 C231.96,261.6 187.65,294.33 160.26,315.93 \" fill=\"none\" id=\"E7&lt;-E8\" style=\"stroke: #383838; stroke-width: 1.0;\"/><polygon fill=\"#FFFFFF\" points=\"365.22,204.24,358.2818,202.2749,353.7994,207.9236,360.7376,209.8887,365.22,204.24\" style=\"stroke: #383838; stroke-width: 1.0;\"/><text fill=\"#000000\" font-family=\"sans-serif\" font-size=\"13\" lengthAdjust=\"spacingAndGlyphs\" textLength=\"8\" x=\"158.4251\" y=\"304.8075\">1</text></a><!--MD5=[f1f3f9f2fc535e6147756cb86a7f2e32]\n",
       "link E8 to E2--><a href=\"psysml:3fd357fc-9742-4e4a-b08f-00e5f8b92b2e\" target=\"_top\" title=\"psysml:3fd357fc-9742-4e4a-b08f-00e5f8b92b2e\" xlink:actuate=\"onRequest\" xlink:href=\"psysml:3fd357fc-9742-4e4a-b08f-00e5f8b92b2e\" xlink:show=\"new\" xlink:title=\"psysml:3fd357fc-9742-4e4a-b08f-00e5f8b92b2e\" xlink:type=\"simple\"><path d=\"M153.86,362.01 C166.19,375.22 182.2,392.38 196.46,407.65 \" fill=\"none\" id=\"E8-&gt;E2\" style=\"stroke: #383838; stroke-width: 1.0;\"/><polygon fill=\"#FFFFFF\" points=\"210.47,422.66,192.3921,413.5393,202.6305,403.9907,210.47,422.66\" style=\"stroke: #383838; stroke-width: 1.0;\"/><ellipse cx=\"189.9671\" cy=\"408.0067\" fill=\"#383838\" rx=\"2\" ry=\"2\" style=\"stroke: #383838; stroke-width: 1.0;\"/><ellipse cx=\"197.2802\" cy=\"401.1863\" fill=\"#383838\" rx=\"2\" ry=\"2\" style=\"stroke: #383838; stroke-width: 1.0;\"/></a><!--MD5=[9ae28de373ca99bb8a1b38d63370ca7e]\n",
       "reverse link E5 to E9--><a href=\"psysml:44393528-ee32-422a-b73c-7e5d578e1b67\" target=\"_top\" title=\"psysml:44393528-ee32-422a-b73c-7e5d578e1b67\" xlink:actuate=\"onRequest\" xlink:href=\"psysml:44393528-ee32-422a-b73c-7e5d578e1b67\" xlink:show=\"new\" xlink:title=\"psysml:44393528-ee32-422a-b73c-7e5d578e1b67\" xlink:type=\"simple\"><path d=\"M416.08,92.77 C447.78,108.48 481.27,131.61 499.32,164 C509.27,181.86 510.51,192.89 499.32,210 C490.86,222.92 478.41,232.65 464.71,239.97 \" fill=\"none\" id=\"E5&lt;-E9\" style=\"stroke: #383838; stroke-width: 1.0;\"/><polygon fill=\"#FFFFFF\" points=\"404.06,87.11,407.7814,93.2867,414.9142,92.2272,411.1928,86.0505,404.06,87.11\" style=\"stroke: #383838; stroke-width: 1.0;\"/><text fill=\"#000000\" font-family=\"sans-serif\" font-size=\"13\" lengthAdjust=\"spacingAndGlyphs\" textLength=\"8\" x=\"477.3099\" y=\"229.2386\">1</text></a><!--MD5=[5c3bb36fe832a92c7f0e1807dd65209d]\n",
       "link E9 to E2--><a href=\"psysml:fe7d5224-67e7-4f42-a679-f87e330c9f80\" target=\"_top\" title=\"psysml:fe7d5224-67e7-4f42-a679-f87e330c9f80\" xlink:actuate=\"onRequest\" xlink:href=\"psysml:fe7d5224-67e7-4f42-a679-f87e330c9f80\" xlink:show=\"new\" xlink:title=\"psysml:fe7d5224-67e7-4f42-a679-f87e330c9f80\" xlink:type=\"simple\"><path d=\"M291.19,285.15 C275.57,292.56 260.94,302.55 250.32,316 C231.17,340.25 227.04,375.32 227.36,402.77 \" fill=\"none\" id=\"E9-&gt;E2\" style=\"stroke: #383838; stroke-width: 1.0;\"/><polygon fill=\"#FFFFFF\" points=\"228.36,422.81,220.4186,404.1838,234.4011,403.4837,228.36,422.81\" style=\"stroke: #383838; stroke-width: 1.0;\"/><ellipse cx=\"222.131\" cy=\"398.3909\" fill=\"#383838\" rx=\"2\" ry=\"2\" style=\"stroke: #383838; stroke-width: 1.0;\"/><ellipse cx=\"232.1185\" cy=\"397.8909\" fill=\"#383838\" rx=\"2\" ry=\"2\" style=\"stroke: #383838; stroke-width: 1.0;\"/></a><!--MD5=[80a78fb9d88f849ae590503b442802b4]\n",
       "@startuml\r\n",
       "top to bottom direction\r\n",
       "skinparam monochrome true\r\n",
       "skinparam classbackgroundcolor white\r\n",
       "skinparam shadowing false\r\n",
       "skinparam wrapWidth 300\r\n",
       "hide circle\r\n",
       "\r\n",
       "package \"TradeStudyTest\" as E1  [[psysml:ee7e22b2-7ed6-4f2c-8628-ec59eb221ec4 ]]  {\r\n",
       "comp def \"Engine\" as E2  <<(T,blue) part def>> [[psysml:6dc2e48d-4c08-4400-bc60-82a531af2780 ]] {\r\n",
       "}\r\n",
       "comp usage \"engine1: Engine\" as E3  <<(T,blue) part>> [[psysml:3defd9be-3b5d-4c6d-8f79-df776db84250 ]] {\r\n",
       "}\r\n",
       "comp usage \"engine2: Engine\" as E4  <<(T,blue) part>> [[psysml:3a9a647b-2fd2-49b6-8a5f-7ce1649088e0 ]] {\r\n",
       "}\r\n",
       "comp usage \"engineTradeStudy: TradeStudy\" as E5 << analysis>> [[psysml:4b9a9840-0888-40ad-997b-4be591991c45 ]] {\r\n",
       "}\r\n",
       "comp usage \"tradeStudyObjective: MaximizeObjective\" as E6  <<(T,blue) requirement>> [[psysml:6d56d509-a272-42e3-905c-0e1bbd246da0 ]] {\r\n",
       "}\r\n",
       "comp usage \"objectiveFunction\" as E7  <<(T,blue) calculation>> [[psysml:0d158b00-d202-4b1f-90aa-9fc427f4eb2b ]] {\r\n",
       "}\r\n",
       "comp usage \"alternative: Engine\" as E8  <<(T,blue) part>> [[psysml:e8d66f1b-2710-4767-99ee-f2812ccd7696 ]] {\r\n",
       "}\r\n",
       "comp usage \"selectedAlternative: Engine\" as E9  <<(T,blue) part>> [[psysml:d0667918-a428-4729-9680-50da29281cd4 ]] {\r\n",
       "}\r\n",
       "}\r\n",
       "E3 - -:|> E2 [[psysml:2c927883-7b33-4f30-b07f-44dca6adebf7 ]] \r\n",
       "E4 - -:|> E2 [[psysml:59e46c20-b41c-4b83-8c8c-eff5ad41f1d7 ]] \r\n",
       "E5 ..> E2 [[psysml:d5cbdaa6-c586-4ab8-b2f7-038eda38592d ]] : <<subject>>\r\n",
       "E5 - ->> E6 [[psysml:14d02f99-86ef-419d-b64f-b983855c21b7 ]] : <<objective>>\r\n",
       "E5 *- - E7 [[psysml:60238b1f-3640-4bef-bde7-54f879504707 ]] \r\n",
       "E7 o- - \"1\"E8 [[psysml:83c02207-4172-44b5-b5b3-edd55ab7c0db ]] \r\n",
       "E8 - -:|> E2 [[psysml:3fd357fc-9742-4e4a-b08f-00e5f8b92b2e ]] \r\n",
       "E5 o- - \"1\"E9 [[psysml:44393528-ee32-422a-b73c-7e5d578e1b67 ]] \r\n",
       "E9 - -:|> E2 [[psysml:fe7d5224-67e7-4f42-a679-f87e330c9f80 ]] \r\n",
       "@enduml\r\n",
       "\n",
       "PlantUML version 1.2020.13(Sat Jun 13 12:26:38 UTC 2020)\n",
       "(EPL source distribution)\n",
       "Java Runtime: OpenJDK Runtime Environment\n",
       "JVM: OpenJDK 64-Bit Server VM\n",
       "Default Encoding: UTF-8\n",
       "Language: en\n",
       "Country: null\n",
       "--></g></svg>"
      ]
     },
     "execution_count": 50,
     "metadata": {},
     "output_type": "execute_result"
    }
   ],
   "source": [
    "%viz --style=\"TB\" --view=\"MIXED\" \"TradeStudyTest\""
   ]
  },
  {
   "cell_type": "code",
   "execution_count": 51,
   "id": "5f464cb9",
   "metadata": {
    "execution": {
     "iopub.execute_input": "2021-10-03T08:30:39.834335Z",
     "iopub.status.busy": "2021-10-03T08:30:39.833941Z",
     "iopub.status.idle": "2021-10-03T08:30:39.872860Z",
     "shell.execute_reply": "2021-10-03T08:30:39.872516Z"
    }
   },
   "outputs": [
    {
     "data": {
      "image/svg+xml": [
       "<?xml version=\"1.0\" encoding=\"UTF-8\" standalone=\"no\"?><svg xmlns=\"http://www.w3.org/2000/svg\" xmlns:xlink=\"http://www.w3.org/1999/xlink\" contentScriptType=\"application/ecmascript\" contentStyleType=\"text/css\" height=\"497px\" preserveAspectRatio=\"none\" style=\"width:554px;height:497px;\" version=\"1.1\" viewBox=\"0 0 554 497\" width=\"554px\" zoomAndPan=\"magnify\"><defs/><g><!--MD5=[fbc87193dbaf4d95561dea2c320d4a47]\n",
       "cluster E1--><a href=\"psysml:ee7e22b2-7ed6-4f2c-8628-ec59eb221ec4\" target=\"_top\" title=\"psysml:ee7e22b2-7ed6-4f2c-8628-ec59eb221ec4\" xlink:actuate=\"onRequest\" xlink:href=\"psysml:ee7e22b2-7ed6-4f2c-8628-ec59eb221ec4\" xlink:show=\"new\" xlink:title=\"psysml:ee7e22b2-7ed6-4f2c-8628-ec59eb221ec4\" xlink:type=\"simple\"><polygon fill=\"#FFFFFF\" points=\"16,6,132,6,139,28.2969,532,28.2969,532,485,16,485,16,6\" style=\"stroke: #000000; stroke-width: 1.5;\"/><line style=\"stroke: #000000; stroke-width: 1.5;\" x1=\"16\" x2=\"139\" y1=\"28.2969\" y2=\"28.2969\"/><text fill=\"#000000\" font-family=\"sans-serif\" font-size=\"14\" font-weight=\"bold\" lengthAdjust=\"spacingAndGlyphs\" textLength=\"110\" x=\"20\" y=\"20.9951\">TradeStudyTest</text></a><!--MD5=[b4997ac47864f28c2f74865a473b2911]\n",
       "class E2--><a href=\"psysml:6dc2e48d-4c08-4400-bc60-82a531af2780\" target=\"_top\" title=\"psysml:6dc2e48d-4c08-4400-bc60-82a531af2780\" xlink:actuate=\"onRequest\" xlink:href=\"psysml:6dc2e48d-4c08-4400-bc60-82a531af2780\" xlink:show=\"new\" xlink:title=\"psysml:6dc2e48d-4c08-4400-bc60-82a531af2780\" xlink:type=\"simple\"><rect fill=\"#FFFFFF\" height=\"45.9375\" id=\"E2\" style=\"stroke: #383838; stroke-width: 1.5;\" width=\"66\" x=\"196\" y=\"423\"/><text fill=\"#000000\" font-family=\"sans-serif\" font-size=\"12\" font-style=\"italic\" lengthAdjust=\"spacingAndGlyphs\" textLength=\"64\" x=\"197\" y=\"439.1387\">«part def»</text><text fill=\"#000000\" font-family=\"sans-serif\" font-size=\"12\" lengthAdjust=\"spacingAndGlyphs\" textLength=\"43\" x=\"207.5\" y=\"453.1074\">Engine</text><line style=\"stroke: #383838; stroke-width: 1.5;\" x1=\"197\" x2=\"261\" y1=\"460.9375\" y2=\"460.9375\"/></a><!--MD5=[09b614a08d8cba4a07c9adeb5e0fee81]\n",
       "class E3--><a href=\"psysml:3defd9be-3b5d-4c6d-8f79-df776db84250\" target=\"_top\" title=\"psysml:3defd9be-3b5d-4c6d-8f79-df776db84250\" xlink:actuate=\"onRequest\" xlink:href=\"psysml:3defd9be-3b5d-4c6d-8f79-df776db84250\" xlink:show=\"new\" xlink:title=\"psysml:3defd9be-3b5d-4c6d-8f79-df776db84250\" xlink:type=\"simple\"><rect fill=\"#FFFFFF\" height=\"45.9375\" id=\"E3\" rx=\"10\" ry=\"10\" style=\"stroke: #383838; stroke-width: 1.5;\" width=\"108\" x=\"408\" y=\"316\"/><text fill=\"#000000\" font-family=\"sans-serif\" font-size=\"12\" font-style=\"italic\" lengthAdjust=\"spacingAndGlyphs\" textLength=\"40\" x=\"442\" y=\"332.1387\">«part»</text><text fill=\"#000000\" font-family=\"sans-serif\" font-size=\"12\" lengthAdjust=\"spacingAndGlyphs\" textLength=\"102\" x=\"411\" y=\"346.1074\">engine1: Engine</text><line style=\"stroke: #383838; stroke-width: 1.5;\" x1=\"409\" x2=\"515\" y1=\"353.9375\" y2=\"353.9375\"/></a><!--MD5=[ebbe1d658d1005bcc118a6aa81145e00]\n",
       "class E4--><a href=\"psysml:3a9a647b-2fd2-49b6-8a5f-7ce1649088e0\" target=\"_top\" title=\"psysml:3a9a647b-2fd2-49b6-8a5f-7ce1649088e0\" xlink:actuate=\"onRequest\" xlink:href=\"psysml:3a9a647b-2fd2-49b6-8a5f-7ce1649088e0\" xlink:show=\"new\" xlink:title=\"psysml:3a9a647b-2fd2-49b6-8a5f-7ce1649088e0\" xlink:type=\"simple\"><rect fill=\"#FFFFFF\" height=\"45.9375\" id=\"E4\" rx=\"10\" ry=\"10\" style=\"stroke: #383838; stroke-width: 1.5;\" width=\"108\" x=\"265\" y=\"316\"/><text fill=\"#000000\" font-family=\"sans-serif\" font-size=\"12\" font-style=\"italic\" lengthAdjust=\"spacingAndGlyphs\" textLength=\"40\" x=\"299\" y=\"332.1387\">«part»</text><text fill=\"#000000\" font-family=\"sans-serif\" font-size=\"12\" lengthAdjust=\"spacingAndGlyphs\" textLength=\"102\" x=\"268\" y=\"346.1074\">engine2: Engine</text><line style=\"stroke: #383838; stroke-width: 1.5;\" x1=\"266\" x2=\"372\" y1=\"353.9375\" y2=\"353.9375\"/></a><!--MD5=[270fce915f116d4de14055a7c1d9a0f3]\n",
       "class E5--><a href=\"psysml:4b9a9840-0888-40ad-997b-4be591991c45\" target=\"_top\" title=\"psysml:4b9a9840-0888-40ad-997b-4be591991c45\" xlink:actuate=\"onRequest\" xlink:href=\"psysml:4b9a9840-0888-40ad-997b-4be591991c45\" xlink:show=\"new\" xlink:title=\"psysml:4b9a9840-0888-40ad-997b-4be591991c45\" xlink:type=\"simple\"><rect fill=\"#FFFFFF\" height=\"45.9375\" id=\"E5\" rx=\"10\" ry=\"10\" style=\"stroke: #383838; stroke-width: 1.5;\" width=\"199\" x=\"237.5\" y=\"41\"/><text fill=\"#000000\" font-family=\"sans-serif\" font-size=\"12\" font-style=\"italic\" lengthAdjust=\"spacingAndGlyphs\" textLength=\"64\" x=\"305\" y=\"57.1387\">«analysis»</text><text fill=\"#000000\" font-family=\"sans-serif\" font-size=\"12\" lengthAdjust=\"spacingAndGlyphs\" textLength=\"193\" x=\"240.5\" y=\"71.1074\">engineTradeStudy: TradeStudy</text><line style=\"stroke: #383838; stroke-width: 1.5;\" x1=\"238.5\" x2=\"435.5\" y1=\"78.9375\" y2=\"78.9375\"/></a><!--MD5=[60a26617385b1d2d0262a64233df1f8d]\n",
       "class E6--><a href=\"psysml:6d56d509-a272-42e3-905c-0e1bbd246da0\" target=\"_top\" title=\"psysml:6d56d509-a272-42e3-905c-0e1bbd246da0\" xlink:actuate=\"onRequest\" xlink:href=\"psysml:6d56d509-a272-42e3-905c-0e1bbd246da0\" xlink:show=\"new\" xlink:title=\"psysml:6d56d509-a272-42e3-905c-0e1bbd246da0\" xlink:type=\"simple\"><rect fill=\"#FFFFFF\" height=\"45.9375\" id=\"E6\" rx=\"10\" ry=\"10\" style=\"stroke: #383838; stroke-width: 1.5;\" width=\"251\" x=\"76.5\" y=\"164\"/><text fill=\"#000000\" font-family=\"sans-serif\" font-size=\"12\" font-style=\"italic\" lengthAdjust=\"spacingAndGlyphs\" textLength=\"91\" x=\"156.5\" y=\"180.1387\">«requirement»</text><text fill=\"#000000\" font-family=\"sans-serif\" font-size=\"12\" lengthAdjust=\"spacingAndGlyphs\" textLength=\"245\" x=\"79.5\" y=\"194.1074\">tradeStudyObjective: MaximizeObjective</text><line style=\"stroke: #383838; stroke-width: 1.5;\" x1=\"77.5\" x2=\"326.5\" y1=\"201.9375\" y2=\"201.9375\"/></a><!--MD5=[2156ba9850f5573cc1fc38a6a4b2f02b]\n",
       "class E7--><a href=\"psysml:0d158b00-d202-4b1f-90aa-9fc427f4eb2b\" target=\"_top\" title=\"psysml:0d158b00-d202-4b1f-90aa-9fc427f4eb2b\" xlink:actuate=\"onRequest\" xlink:href=\"psysml:0d158b00-d202-4b1f-90aa-9fc427f4eb2b\" xlink:show=\"new\" xlink:title=\"psysml:0d158b00-d202-4b1f-90aa-9fc427f4eb2b\" xlink:type=\"simple\"><rect fill=\"#FFFFFF\" height=\"45.9375\" id=\"E7\" rx=\"10\" ry=\"10\" style=\"stroke: #383838; stroke-width: 1.5;\" width=\"116\" x=\"363\" y=\"164\"/><text fill=\"#000000\" font-family=\"sans-serif\" font-size=\"12\" font-style=\"italic\" lengthAdjust=\"spacingAndGlyphs\" textLength=\"82\" x=\"380\" y=\"180.1387\">«calculation»</text><text fill=\"#000000\" font-family=\"sans-serif\" font-size=\"12\" lengthAdjust=\"spacingAndGlyphs\" textLength=\"110\" x=\"366\" y=\"194.1074\">objectiveFunction</text><line style=\"stroke: #383838; stroke-width: 1.5;\" x1=\"364\" x2=\"478\" y1=\"201.9375\" y2=\"201.9375\"/></a><!--MD5=[b9389687b975829384b498ac4b7476b2]\n",
       "class E8--><a href=\"psysml:e8d66f1b-2710-4767-99ee-f2812ccd7696\" target=\"_top\" title=\"psysml:e8d66f1b-2710-4767-99ee-f2812ccd7696\" xlink:actuate=\"onRequest\" xlink:href=\"psysml:e8d66f1b-2710-4767-99ee-f2812ccd7696\" xlink:show=\"new\" xlink:title=\"psysml:e8d66f1b-2710-4767-99ee-f2812ccd7696\" xlink:type=\"simple\"><rect fill=\"#FFFFFF\" height=\"45.9375\" id=\"E8\" rx=\"10\" ry=\"10\" style=\"stroke: #383838; stroke-width: 1.5;\" width=\"124\" x=\"69\" y=\"316\"/><text fill=\"#000000\" font-family=\"sans-serif\" font-size=\"12\" font-style=\"italic\" lengthAdjust=\"spacingAndGlyphs\" textLength=\"40\" x=\"111\" y=\"332.1387\">«part»</text><text fill=\"#000000\" font-family=\"sans-serif\" font-size=\"12\" lengthAdjust=\"spacingAndGlyphs\" textLength=\"118\" x=\"72\" y=\"346.1074\">alternative: Engine</text><line style=\"stroke: #383838; stroke-width: 1.5;\" x1=\"70\" x2=\"192\" y1=\"353.9375\" y2=\"353.9375\"/></a><!--MD5=[fd4143e9d270a159db93a4ea2a975926]\n",
       "class E9--><a href=\"psysml:d0667918-a428-4729-9680-50da29281cd4\" target=\"_top\" title=\"psysml:d0667918-a428-4729-9680-50da29281cd4\" xlink:actuate=\"onRequest\" xlink:href=\"psysml:d0667918-a428-4729-9680-50da29281cd4\" xlink:show=\"new\" xlink:title=\"psysml:d0667918-a428-4729-9680-50da29281cd4\" xlink:type=\"simple\"><rect fill=\"#FFFFFF\" height=\"45.9375\" id=\"E9\" rx=\"10\" ry=\"10\" style=\"stroke: #383838; stroke-width: 1.5;\" width=\"178\" x=\"289\" y=\"240\"/><text fill=\"#000000\" font-family=\"sans-serif\" font-size=\"12\" font-style=\"italic\" lengthAdjust=\"spacingAndGlyphs\" textLength=\"40\" x=\"358\" y=\"256.1387\">«part»</text><text fill=\"#000000\" font-family=\"sans-serif\" font-size=\"12\" lengthAdjust=\"spacingAndGlyphs\" textLength=\"172\" x=\"292\" y=\"270.1074\">selectedAlternative: Engine</text><line style=\"stroke: #383838; stroke-width: 1.5;\" x1=\"290\" x2=\"466\" y1=\"277.9375\" y2=\"277.9375\"/></a><!--MD5=[05d275557350bfb9b23a4ef7222b4c39]\n",
       "link E3 to E2--><a href=\"psysml:2c927883-7b33-4f30-b07f-44dca6adebf7\" target=\"_top\" title=\"psysml:2c927883-7b33-4f30-b07f-44dca6adebf7\" xlink:actuate=\"onRequest\" xlink:href=\"psysml:2c927883-7b33-4f30-b07f-44dca6adebf7\" xlink:show=\"new\" xlink:title=\"psysml:2c927883-7b33-4f30-b07f-44dca6adebf7\" xlink:type=\"simple\"><path d=\"M462,362.22 C462,393.69 462,446 462,446 C462,446 282.38,446 282.38,446 \" fill=\"none\" id=\"E3-&gt;E2\" style=\"stroke: #383838; stroke-width: 1.0;\"/><polygon fill=\"#FFFFFF\" points=\"262.38,446,281.38,439,281.38,453,262.38,446\" style=\"stroke: #383838; stroke-width: 1.0;\"/><ellipse cx=\"287.08\" cy=\"441\" fill=\"#383838\" rx=\"2\" ry=\"2\" style=\"stroke: #383838; stroke-width: 1.0;\"/><ellipse cx=\"287.08\" cy=\"451\" fill=\"#383838\" rx=\"2\" ry=\"2\" style=\"stroke: #383838; stroke-width: 1.0;\"/></a><!--MD5=[185131fc0dcab0a4505a2ebe144e961b]\n",
       "link E4 to E2--><a href=\"psysml:59e46c20-b41c-4b83-8c8c-eff5ad41f1d7\" target=\"_top\" title=\"psysml:59e46c20-b41c-4b83-8c8c-eff5ad41f1d7\" xlink:actuate=\"onRequest\" xlink:href=\"psysml:59e46c20-b41c-4b83-8c8c-eff5ad41f1d7\" xlink:show=\"new\" xlink:title=\"psysml:59e46c20-b41c-4b83-8c8c-eff5ad41f1d7\" xlink:type=\"simple\"><path d=\"M264.73,347 C255.49,347 248.8,347 248.8,347 C248.8,347 248.8,402.79 248.8,402.79 \" fill=\"none\" id=\"E4-&gt;E2\" style=\"stroke: #383838; stroke-width: 1.0;\"/><polygon fill=\"#FFFFFF\" points=\"248.8,422.79,241.8,403.79,255.8,403.79,248.8,422.79\" style=\"stroke: #383838; stroke-width: 1.0;\"/><ellipse cx=\"243.8\" cy=\"398.09\" fill=\"#383838\" rx=\"2\" ry=\"2\" style=\"stroke: #383838; stroke-width: 1.0;\"/><ellipse cx=\"253.8\" cy=\"398.09\" fill=\"#383838\" rx=\"2\" ry=\"2\" style=\"stroke: #383838; stroke-width: 1.0;\"/></a><!--MD5=[15ebcb19ae302d9b601edb458606d402]\n",
       "link E5 to E2--><a href=\"psysml:d5cbdaa6-c586-4ab8-b2f7-038eda38592d\" target=\"_top\" title=\"psysml:d5cbdaa6-c586-4ab8-b2f7-038eda38592d\" xlink:actuate=\"onRequest\" xlink:href=\"psysml:d5cbdaa6-c586-4ab8-b2f7-038eda38592d\" xlink:show=\"new\" xlink:title=\"psysml:d5cbdaa6-c586-4ab8-b2f7-038eda38592d\" xlink:type=\"simple\"><path d=\"M339.33,87.02 C339.33,130.41 339.33,220 339.33,220 C339.33,220 222.4,220 222.4,220 C222.4,220 222.4,417.67 222.4,417.67 \" fill=\"none\" id=\"E5-&gt;E2\" style=\"stroke: #383838; stroke-width: 1.0; stroke-dasharray: 7.0,7.0;\"/><polygon fill=\"#383838\" points=\"222.4,422.67,226.4,413.67,222.4,417.67,218.4,413.67,222.4,422.67\" style=\"stroke: #383838; stroke-width: 1.0;\"/><text fill=\"#000000\" font-family=\"sans-serif\" font-size=\"13\" lengthAdjust=\"spacingAndGlyphs\" textLength=\"62\" x=\"68\" y=\"267.5669\">«subject»</text></a><!--MD5=[9120cf2e5df3bff93db8f754bbbc09b4]\n",
       "link E5 to E6--><a href=\"psysml:14d02f99-86ef-419d-b64f-b983855c21b7\" target=\"_top\" title=\"psysml:14d02f99-86ef-419d-b64f-b983855c21b7\" xlink:actuate=\"onRequest\" xlink:href=\"psysml:14d02f99-86ef-419d-b64f-b983855c21b7\" xlink:show=\"new\" xlink:title=\"psysml:14d02f99-86ef-419d-b64f-b983855c21b7\" xlink:type=\"simple\"><path d=\"M282.5,87.14 C282.5,87.14 282.5,155.97 282.5,155.97 \" fill=\"none\" id=\"E5-&gt;E6\" style=\"stroke: #383838; stroke-width: 1.0;\"/><polygon fill=\"#383838\" points=\"282.5,163.97,285.5,155.97,279.5,155.97,282.5,163.97\" style=\"stroke: #383838; stroke-width: 1.0;\"/><text fill=\"#000000\" font-family=\"sans-serif\" font-size=\"13\" lengthAdjust=\"spacingAndGlyphs\" textLength=\"73\" x=\"231\" y=\"130.0669\">«objective»</text></a><!--MD5=[452b418e7f8a40397a49b8c0a78acc5b]\n",
       "reverse link E5 to E7--><a href=\"psysml:60238b1f-3640-4bef-bde7-54f879504707\" target=\"_top\" title=\"psysml:60238b1f-3640-4bef-bde7-54f879504707\" xlink:actuate=\"onRequest\" xlink:href=\"psysml:60238b1f-3640-4bef-bde7-54f879504707\" xlink:show=\"new\" xlink:title=\"psysml:60238b1f-3640-4bef-bde7-54f879504707\" xlink:type=\"simple\"><path d=\"M399.75,100.14 C399.75,100.14 399.75,163.97 399.75,163.97 \" fill=\"none\" id=\"E5&lt;-E7\" style=\"stroke: #383838; stroke-width: 1.0;\"/><polygon fill=\"#383838\" points=\"399.75,87.14,395.75,93.14,399.75,99.14,403.75,93.14,399.75,87.14\" style=\"stroke: #383838; stroke-width: 1.0;\"/></a><!--MD5=[dc164f5e8a733ab456ef1add180e9e34]\n",
       "reverse link E7 to E8--><a href=\"psysml:83c02207-4172-44b5-b5b3-edd55ab7c0db\" target=\"_top\" title=\"psysml:83c02207-4172-44b5-b5b3-edd55ab7c0db\" xlink:actuate=\"onRequest\" xlink:href=\"psysml:83c02207-4172-44b5-b5b3-edd55ab7c0db\" xlink:show=\"new\" xlink:title=\"psysml:83c02207-4172-44b5-b5b3-edd55ab7c0db\" xlink:type=\"simple\"><path d=\"M415,223.01 C415,223.01 415,230 415,230 C415,230 134.75,230 134.75,230 C134.75,230 134.75,283.89 134.75,315.88 \" fill=\"none\" id=\"E7&lt;-E8\" style=\"stroke: #383838; stroke-width: 1.0;\"/><polygon fill=\"#FFFFFF\" points=\"415,210.01,411,216.01,415,222.01,419,216.01,415,210.01\" style=\"stroke: #383838; stroke-width: 1.0;\"/><text fill=\"#000000\" font-family=\"sans-serif\" font-size=\"13\" lengthAdjust=\"spacingAndGlyphs\" textLength=\"8\" x=\"126.6828\" y=\"304.744\">1</text></a><!--MD5=[f1f3f9f2fc535e6147756cb86a7f2e32]\n",
       "link E8 to E2--><a href=\"psysml:3fd357fc-9742-4e4a-b08f-00e5f8b92b2e\" target=\"_top\" title=\"psysml:3fd357fc-9742-4e4a-b08f-00e5f8b92b2e\" xlink:actuate=\"onRequest\" xlink:href=\"psysml:3fd357fc-9742-4e4a-b08f-00e5f8b92b2e\" xlink:show=\"new\" xlink:title=\"psysml:3fd357fc-9742-4e4a-b08f-00e5f8b92b2e\" xlink:type=\"simple\"><path d=\"M193.38,332 C202.67,332 209.2,332 209.2,332 C209.2,332 209.2,402.93 209.2,402.93 \" fill=\"none\" id=\"E8-&gt;E2\" style=\"stroke: #383838; stroke-width: 1.0;\"/><polygon fill=\"#FFFFFF\" points=\"209.2,422.93,202.2,403.93,216.2,403.93,209.2,422.93\" style=\"stroke: #383838; stroke-width: 1.0;\"/><ellipse cx=\"204.2\" cy=\"398.23\" fill=\"#383838\" rx=\"2\" ry=\"2\" style=\"stroke: #383838; stroke-width: 1.0;\"/><ellipse cx=\"214.2\" cy=\"398.23\" fill=\"#383838\" rx=\"2\" ry=\"2\" style=\"stroke: #383838; stroke-width: 1.0;\"/></a><!--MD5=[9ae28de373ca99bb8a1b38d63370ca7e]\n",
       "reverse link E5 to E9--><a href=\"psysml:44393528-ee32-422a-b73c-7e5d578e1b67\" target=\"_top\" title=\"psysml:44393528-ee32-422a-b73c-7e5d578e1b67\" xlink:actuate=\"onRequest\" xlink:href=\"psysml:44393528-ee32-422a-b73c-7e5d578e1b67\" xlink:show=\"new\" xlink:title=\"psysml:44393528-ee32-422a-b73c-7e5d578e1b67\" xlink:type=\"simple\"><path d=\"M351.17,100.22 C351.17,100.22 351.17,239.93 351.17,239.93 \" fill=\"none\" id=\"E5&lt;-E9\" style=\"stroke: #383838; stroke-width: 1.0;\"/><polygon fill=\"#FFFFFF\" points=\"351.17,87.22,347.17,93.22,351.17,99.22,355.17,93.22,351.17,87.22\" style=\"stroke: #383838; stroke-width: 1.0;\"/><text fill=\"#000000\" font-family=\"sans-serif\" font-size=\"13\" lengthAdjust=\"spacingAndGlyphs\" textLength=\"8\" x=\"334.8844\" y=\"228.8075\">1</text></a><!--MD5=[5c3bb36fe832a92c7f0e1807dd65209d]\n",
       "link E9 to E2--><a href=\"psysml:fe7d5224-67e7-4f42-a679-f87e330c9f80\" target=\"_top\" title=\"psysml:fe7d5224-67e7-4f42-a679-f87e330c9f80\" xlink:actuate=\"onRequest\" xlink:href=\"psysml:fe7d5224-67e7-4f42-a679-f87e330c9f80\" xlink:show=\"new\" xlink:title=\"psysml:fe7d5224-67e7-4f42-a679-f87e330c9f80\" xlink:type=\"simple\"><path d=\"M288.62,263 C260.01,263 235.6,263 235.6,263 C235.6,263 235.6,402.82 235.6,402.82 \" fill=\"none\" id=\"E9-&gt;E2\" style=\"stroke: #383838; stroke-width: 1.0;\"/><polygon fill=\"#FFFFFF\" points=\"235.6,422.82,228.6,403.82,242.6,403.82,235.6,422.82\" style=\"stroke: #383838; stroke-width: 1.0;\"/><ellipse cx=\"230.6\" cy=\"398.12\" fill=\"#383838\" rx=\"2\" ry=\"2\" style=\"stroke: #383838; stroke-width: 1.0;\"/><ellipse cx=\"240.6\" cy=\"398.12\" fill=\"#383838\" rx=\"2\" ry=\"2\" style=\"stroke: #383838; stroke-width: 1.0;\"/></a><!--MD5=[2e795d4f654d71366bda5ea397e3a4e1]\n",
       "@startuml\r\n",
       "skinparam linetype ortho\r\n",
       "skinparam monochrome true\r\n",
       "skinparam classbackgroundcolor white\r\n",
       "skinparam shadowing false\r\n",
       "skinparam wrapWidth 300\r\n",
       "hide circle\r\n",
       "\r\n",
       "package \"TradeStudyTest\" as E1  [[psysml:ee7e22b2-7ed6-4f2c-8628-ec59eb221ec4 ]]  {\r\n",
       "comp def \"Engine\" as E2  <<(T,blue) part def>> [[psysml:6dc2e48d-4c08-4400-bc60-82a531af2780 ]] {\r\n",
       "}\r\n",
       "comp usage \"engine1: Engine\" as E3  <<(T,blue) part>> [[psysml:3defd9be-3b5d-4c6d-8f79-df776db84250 ]] {\r\n",
       "}\r\n",
       "comp usage \"engine2: Engine\" as E4  <<(T,blue) part>> [[psysml:3a9a647b-2fd2-49b6-8a5f-7ce1649088e0 ]] {\r\n",
       "}\r\n",
       "comp usage \"engineTradeStudy: TradeStudy\" as E5 << analysis>> [[psysml:4b9a9840-0888-40ad-997b-4be591991c45 ]] {\r\n",
       "}\r\n",
       "comp usage \"tradeStudyObjective: MaximizeObjective\" as E6  <<(T,blue) requirement>> [[psysml:6d56d509-a272-42e3-905c-0e1bbd246da0 ]] {\r\n",
       "}\r\n",
       "comp usage \"objectiveFunction\" as E7  <<(T,blue) calculation>> [[psysml:0d158b00-d202-4b1f-90aa-9fc427f4eb2b ]] {\r\n",
       "}\r\n",
       "comp usage \"alternative: Engine\" as E8  <<(T,blue) part>> [[psysml:e8d66f1b-2710-4767-99ee-f2812ccd7696 ]] {\r\n",
       "}\r\n",
       "comp usage \"selectedAlternative: Engine\" as E9  <<(T,blue) part>> [[psysml:d0667918-a428-4729-9680-50da29281cd4 ]] {\r\n",
       "}\r\n",
       "}\r\n",
       "E3 - -:|> E2 [[psysml:2c927883-7b33-4f30-b07f-44dca6adebf7 ]] \r\n",
       "E4 - -:|> E2 [[psysml:59e46c20-b41c-4b83-8c8c-eff5ad41f1d7 ]] \r\n",
       "E5 ..> E2 [[psysml:d5cbdaa6-c586-4ab8-b2f7-038eda38592d ]] : <<subject>>\r\n",
       "E5 - ->> E6 [[psysml:14d02f99-86ef-419d-b64f-b983855c21b7 ]] : <<objective>>\r\n",
       "E5 *- - E7 [[psysml:60238b1f-3640-4bef-bde7-54f879504707 ]] \r\n",
       "E7 o- - \"1\"E8 [[psysml:83c02207-4172-44b5-b5b3-edd55ab7c0db ]] \r\n",
       "E8 - -:|> E2 [[psysml:3fd357fc-9742-4e4a-b08f-00e5f8b92b2e ]] \r\n",
       "E5 o- - \"1\"E9 [[psysml:44393528-ee32-422a-b73c-7e5d578e1b67 ]] \r\n",
       "E9 - -:|> E2 [[psysml:fe7d5224-67e7-4f42-a679-f87e330c9f80 ]] \r\n",
       "@enduml\r\n",
       "\n",
       "PlantUML version 1.2020.13(Sat Jun 13 12:26:38 UTC 2020)\n",
       "(EPL source distribution)\n",
       "Java Runtime: OpenJDK Runtime Environment\n",
       "JVM: OpenJDK 64-Bit Server VM\n",
       "Default Encoding: UTF-8\n",
       "Language: en\n",
       "Country: null\n",
       "--></g></svg>"
      ]
     },
     "execution_count": 51,
     "metadata": {},
     "output_type": "execute_result"
    }
   ],
   "source": [
    "%viz --style=\"ORTHOLINE\" --view=\"Default\" \"TradeStudyTest\""
   ]
  },
  {
   "cell_type": "code",
   "execution_count": 52,
   "id": "bebc1e05",
   "metadata": {
    "execution": {
     "iopub.execute_input": "2021-10-03T08:30:39.921981Z",
     "iopub.status.busy": "2021-10-03T08:30:39.921592Z",
     "iopub.status.idle": "2021-10-03T08:30:39.964648Z",
     "shell.execute_reply": "2021-10-03T08:30:39.964290Z"
    }
   },
   "outputs": [
    {
     "data": {
      "image/svg+xml": [
       "<?xml version=\"1.0\" encoding=\"UTF-8\" standalone=\"no\"?><svg xmlns=\"http://www.w3.org/2000/svg\" xmlns:xlink=\"http://www.w3.org/1999/xlink\" contentScriptType=\"application/ecmascript\" contentStyleType=\"text/css\" height=\"345px\" preserveAspectRatio=\"none\" style=\"width:955px;height:345px;\" version=\"1.1\" viewBox=\"0 0 955 345\" width=\"955px\" zoomAndPan=\"magnify\"><defs/><g><!--MD5=[fbc87193dbaf4d95561dea2c320d4a47]\n",
       "cluster E1--><a href=\"psysml:ee7e22b2-7ed6-4f2c-8628-ec59eb221ec4\" target=\"_top\" title=\"psysml:ee7e22b2-7ed6-4f2c-8628-ec59eb221ec4\" xlink:actuate=\"onRequest\" xlink:href=\"psysml:ee7e22b2-7ed6-4f2c-8628-ec59eb221ec4\" xlink:show=\"new\" xlink:title=\"psysml:ee7e22b2-7ed6-4f2c-8628-ec59eb221ec4\" xlink:type=\"simple\"><polygon fill=\"#FFFFFF\" points=\"16,6,132,6,139,28.2969,933,28.2969,933,333,16,333,16,6\" style=\"stroke: #000000; stroke-width: 1.5;\"/><line style=\"stroke: #000000; stroke-width: 1.5;\" x1=\"16\" x2=\"139\" y1=\"28.2969\" y2=\"28.2969\"/><text fill=\"#000000\" font-family=\"sans-serif\" font-size=\"14\" font-weight=\"bold\" lengthAdjust=\"spacingAndGlyphs\" textLength=\"110\" x=\"20\" y=\"20.9951\">TradeStudyTest</text></a><!--MD5=[b4997ac47864f28c2f74865a473b2911]\n",
       "class E2--><a href=\"psysml:6dc2e48d-4c08-4400-bc60-82a531af2780\" target=\"_top\" title=\"psysml:6dc2e48d-4c08-4400-bc60-82a531af2780\" xlink:actuate=\"onRequest\" xlink:href=\"psysml:6dc2e48d-4c08-4400-bc60-82a531af2780\" xlink:show=\"new\" xlink:title=\"psysml:6dc2e48d-4c08-4400-bc60-82a531af2780\" xlink:type=\"simple\"><rect fill=\"#FFFFFF\" height=\"45.9375\" id=\"E2\" style=\"stroke: #383838; stroke-width: 1.5;\" width=\"66\" x=\"598\" y=\"271\"/><text fill=\"#000000\" font-family=\"sans-serif\" font-size=\"12\" font-style=\"italic\" lengthAdjust=\"spacingAndGlyphs\" textLength=\"64\" x=\"599\" y=\"287.1387\">«part def»</text><text fill=\"#000000\" font-family=\"sans-serif\" font-size=\"12\" lengthAdjust=\"spacingAndGlyphs\" textLength=\"43\" x=\"609.5\" y=\"301.1074\">Engine</text><line style=\"stroke: #383838; stroke-width: 1.5;\" x1=\"599\" x2=\"663\" y1=\"308.9375\" y2=\"308.9375\"/></a><!--MD5=[09b614a08d8cba4a07c9adeb5e0fee81]\n",
       "class E3--><a href=\"psysml:3defd9be-3b5d-4c6d-8f79-df776db84250\" target=\"_top\" title=\"psysml:3defd9be-3b5d-4c6d-8f79-df776db84250\" xlink:actuate=\"onRequest\" xlink:href=\"psysml:3defd9be-3b5d-4c6d-8f79-df776db84250\" xlink:show=\"new\" xlink:title=\"psysml:3defd9be-3b5d-4c6d-8f79-df776db84250\" xlink:type=\"simple\"><rect fill=\"#FFFFFF\" height=\"45.9375\" id=\"E3\" rx=\"10\" ry=\"10\" style=\"stroke: #383838; stroke-width: 1.5;\" width=\"108\" x=\"809\" y=\"164\"/><text fill=\"#000000\" font-family=\"sans-serif\" font-size=\"12\" font-style=\"italic\" lengthAdjust=\"spacingAndGlyphs\" textLength=\"40\" x=\"843\" y=\"180.1387\">«part»</text><text fill=\"#000000\" font-family=\"sans-serif\" font-size=\"12\" lengthAdjust=\"spacingAndGlyphs\" textLength=\"102\" x=\"812\" y=\"194.1074\">engine1: Engine</text><line style=\"stroke: #383838; stroke-width: 1.5;\" x1=\"810\" x2=\"916\" y1=\"201.9375\" y2=\"201.9375\"/></a><!--MD5=[ebbe1d658d1005bcc118a6aa81145e00]\n",
       "class E4--><a href=\"psysml:3a9a647b-2fd2-49b6-8a5f-7ce1649088e0\" target=\"_top\" title=\"psysml:3a9a647b-2fd2-49b6-8a5f-7ce1649088e0\" xlink:actuate=\"onRequest\" xlink:href=\"psysml:3a9a647b-2fd2-49b6-8a5f-7ce1649088e0\" xlink:show=\"new\" xlink:title=\"psysml:3a9a647b-2fd2-49b6-8a5f-7ce1649088e0\" xlink:type=\"simple\"><rect fill=\"#FFFFFF\" height=\"45.9375\" id=\"E4\" rx=\"10\" ry=\"10\" style=\"stroke: #383838; stroke-width: 1.5;\" width=\"108\" x=\"666\" y=\"164\"/><text fill=\"#000000\" font-family=\"sans-serif\" font-size=\"12\" font-style=\"italic\" lengthAdjust=\"spacingAndGlyphs\" textLength=\"40\" x=\"700\" y=\"180.1387\">«part»</text><text fill=\"#000000\" font-family=\"sans-serif\" font-size=\"12\" lengthAdjust=\"spacingAndGlyphs\" textLength=\"102\" x=\"669\" y=\"194.1074\">engine2: Engine</text><line style=\"stroke: #383838; stroke-width: 1.5;\" x1=\"667\" x2=\"773\" y1=\"201.9375\" y2=\"201.9375\"/></a><!--MD5=[270fce915f116d4de14055a7c1d9a0f3]\n",
       "class E5--><a href=\"psysml:4b9a9840-0888-40ad-997b-4be591991c45\" target=\"_top\" title=\"psysml:4b9a9840-0888-40ad-997b-4be591991c45\" xlink:actuate=\"onRequest\" xlink:href=\"psysml:4b9a9840-0888-40ad-997b-4be591991c45\" xlink:show=\"new\" xlink:title=\"psysml:4b9a9840-0888-40ad-997b-4be591991c45\" xlink:type=\"simple\"><rect fill=\"#FFFFFF\" height=\"45.9375\" id=\"E5\" rx=\"10\" ry=\"10\" style=\"stroke: #383838; stroke-width: 1.5;\" width=\"199\" x=\"192.5\" y=\"41\"/><text fill=\"#000000\" font-family=\"sans-serif\" font-size=\"12\" font-style=\"italic\" lengthAdjust=\"spacingAndGlyphs\" textLength=\"64\" x=\"260\" y=\"57.1387\">«analysis»</text><text fill=\"#000000\" font-family=\"sans-serif\" font-size=\"12\" lengthAdjust=\"spacingAndGlyphs\" textLength=\"193\" x=\"195.5\" y=\"71.1074\">engineTradeStudy: TradeStudy</text><line style=\"stroke: #383838; stroke-width: 1.5;\" x1=\"193.5\" x2=\"390.5\" y1=\"78.9375\" y2=\"78.9375\"/></a><!--MD5=[60a26617385b1d2d0262a64233df1f8d]\n",
       "class E6--><a href=\"psysml:6d56d509-a272-42e3-905c-0e1bbd246da0\" target=\"_top\" title=\"psysml:6d56d509-a272-42e3-905c-0e1bbd246da0\" xlink:actuate=\"onRequest\" xlink:href=\"psysml:6d56d509-a272-42e3-905c-0e1bbd246da0\" xlink:show=\"new\" xlink:title=\"psysml:6d56d509-a272-42e3-905c-0e1bbd246da0\" xlink:type=\"simple\"><rect fill=\"#FFFFFF\" height=\"45.9375\" id=\"E6\" rx=\"10\" ry=\"10\" style=\"stroke: #383838; stroke-width: 1.5;\" width=\"251\" x=\"166.5\" y=\"164\"/><text fill=\"#000000\" font-family=\"sans-serif\" font-size=\"12\" font-style=\"italic\" lengthAdjust=\"spacingAndGlyphs\" textLength=\"91\" x=\"246.5\" y=\"180.1387\">«requirement»</text><text fill=\"#000000\" font-family=\"sans-serif\" font-size=\"12\" lengthAdjust=\"spacingAndGlyphs\" textLength=\"245\" x=\"169.5\" y=\"194.1074\">tradeStudyObjective: MaximizeObjective</text><line style=\"stroke: #383838; stroke-width: 1.5;\" x1=\"167.5\" x2=\"416.5\" y1=\"201.9375\" y2=\"201.9375\"/></a><!--MD5=[2156ba9850f5573cc1fc38a6a4b2f02b]\n",
       "class E7--><a href=\"psysml:d0667918-a428-4729-9680-50da29281cd4\" target=\"_top\" title=\"psysml:d0667918-a428-4729-9680-50da29281cd4\" xlink:actuate=\"onRequest\" xlink:href=\"psysml:d0667918-a428-4729-9680-50da29281cd4\" xlink:show=\"new\" xlink:title=\"psysml:d0667918-a428-4729-9680-50da29281cd4\" xlink:type=\"simple\"><rect fill=\"#FFFFFF\" height=\"45.9375\" id=\"E7\" rx=\"10\" ry=\"10\" style=\"stroke: #383838; stroke-width: 1.5;\" width=\"178\" x=\"453\" y=\"164\"/><text fill=\"#000000\" font-family=\"sans-serif\" font-size=\"12\" font-style=\"italic\" lengthAdjust=\"spacingAndGlyphs\" textLength=\"40\" x=\"522\" y=\"180.1387\">«part»</text><text fill=\"#000000\" font-family=\"sans-serif\" font-size=\"12\" lengthAdjust=\"spacingAndGlyphs\" textLength=\"172\" x=\"456\" y=\"194.1074\">selectedAlternative: Engine</text><line style=\"stroke: #383838; stroke-width: 1.5;\" x1=\"454\" x2=\"630\" y1=\"201.9375\" y2=\"201.9375\"/></a><!--MD5=[05d275557350bfb9b23a4ef7222b4c39]\n",
       "link E3 to E2--><a href=\"psysml:2c927883-7b33-4f30-b07f-44dca6adebf7\" target=\"_top\" title=\"psysml:2c927883-7b33-4f30-b07f-44dca6adebf7\" xlink:actuate=\"onRequest\" xlink:href=\"psysml:2c927883-7b33-4f30-b07f-44dca6adebf7\" xlink:show=\"new\" xlink:title=\"psysml:2c927883-7b33-4f30-b07f-44dca6adebf7\" xlink:type=\"simple\"><path d=\"M863,210.22 C863,241.69 863,294 863,294 C863,294 684.24,294 684.24,294 \" fill=\"none\" id=\"E3-&gt;E2\" style=\"stroke: #383838; stroke-width: 1.0;\"/><polygon fill=\"#FFFFFF\" points=\"664.24,294,683.24,287,683.24,301,664.24,294\" style=\"stroke: #383838; stroke-width: 1.0;\"/><ellipse cx=\"688.94\" cy=\"289\" fill=\"#383838\" rx=\"2\" ry=\"2\" style=\"stroke: #383838; stroke-width: 1.0;\"/><ellipse cx=\"688.94\" cy=\"299\" fill=\"#383838\" rx=\"2\" ry=\"2\" style=\"stroke: #383838; stroke-width: 1.0;\"/></a><!--MD5=[185131fc0dcab0a4505a2ebe144e961b]\n",
       "link E4 to E2--><a href=\"psysml:59e46c20-b41c-4b83-8c8c-eff5ad41f1d7\" target=\"_top\" title=\"psysml:59e46c20-b41c-4b83-8c8c-eff5ad41f1d7\" xlink:actuate=\"onRequest\" xlink:href=\"psysml:59e46c20-b41c-4b83-8c8c-eff5ad41f1d7\" xlink:show=\"new\" xlink:title=\"psysml:59e46c20-b41c-4b83-8c8c-eff5ad41f1d7\" xlink:type=\"simple\"><path d=\"M665.92,187 C658.3,187 653,187 653,187 C653,187 653,250.78 653,250.78 \" fill=\"none\" id=\"E4-&gt;E2\" style=\"stroke: #383838; stroke-width: 1.0;\"/><polygon fill=\"#FFFFFF\" points=\"653,270.78,646,251.78,660,251.78,653,270.78\" style=\"stroke: #383838; stroke-width: 1.0;\"/><ellipse cx=\"648\" cy=\"246.08\" fill=\"#383838\" rx=\"2\" ry=\"2\" style=\"stroke: #383838; stroke-width: 1.0;\"/><ellipse cx=\"658\" cy=\"246.08\" fill=\"#383838\" rx=\"2\" ry=\"2\" style=\"stroke: #383838; stroke-width: 1.0;\"/></a><!--MD5=[15ebcb19ae302d9b601edb458606d402]\n",
       "link E5 to E2--><a href=\"psysml:d5cbdaa6-c586-4ab8-b2f7-038eda38592d\" target=\"_top\" title=\"psysml:d5cbdaa6-c586-4ab8-b2f7-038eda38592d\" xlink:actuate=\"onRequest\" xlink:href=\"psysml:d5cbdaa6-c586-4ab8-b2f7-038eda38592d\" xlink:show=\"new\" xlink:title=\"psysml:d5cbdaa6-c586-4ab8-b2f7-038eda38592d\" xlink:type=\"simple\"><path d=\"M391.83,57 C495.28,57 642,57 642,57 C642,57 642,265.84 642,265.84 \" fill=\"none\" id=\"E5-&gt;E2\" style=\"stroke: #383838; stroke-width: 1.0; stroke-dasharray: 7.0,7.0;\"/><polygon fill=\"#383838\" points=\"642,270.84,646,261.84,642,265.84,638,261.84,642,270.84\" style=\"stroke: #383838; stroke-width: 1.0;\"/><text fill=\"#000000\" font-family=\"sans-serif\" font-size=\"13\" lengthAdjust=\"spacingAndGlyphs\" textLength=\"62\" x=\"68\" y=\"191.5669\">«subject»</text></a><!--MD5=[9120cf2e5df3bff93db8f754bbbc09b4]\n",
       "link E5 to E6--><a href=\"psysml:14d02f99-86ef-419d-b64f-b983855c21b7\" target=\"_top\" title=\"psysml:14d02f99-86ef-419d-b64f-b983855c21b7\" xlink:actuate=\"onRequest\" xlink:href=\"psysml:14d02f99-86ef-419d-b64f-b983855c21b7\" xlink:show=\"new\" xlink:title=\"psysml:14d02f99-86ef-419d-b64f-b983855c21b7\" xlink:type=\"simple\"><path d=\"M292,87.14 C292,87.14 292,155.97 292,155.97 \" fill=\"none\" id=\"E5-&gt;E6\" style=\"stroke: #383838; stroke-width: 1.0;\"/><polygon fill=\"#383838\" points=\"292,163.97,295,155.97,289,155.97,292,163.97\" style=\"stroke: #383838; stroke-width: 1.0;\"/><text fill=\"#000000\" font-family=\"sans-serif\" font-size=\"13\" lengthAdjust=\"spacingAndGlyphs\" textLength=\"73\" x=\"293\" y=\"130.0669\">«objective»</text></a><!--MD5=[452b418e7f8a40397a49b8c0a78acc5b]\n",
       "reverse link E5 to E7--><a href=\"psysml:44393528-ee32-422a-b73c-7e5d578e1b67\" target=\"_top\" title=\"psysml:44393528-ee32-422a-b73c-7e5d578e1b67\" xlink:actuate=\"onRequest\" xlink:href=\"psysml:44393528-ee32-422a-b73c-7e5d578e1b67\" xlink:show=\"new\" xlink:title=\"psysml:44393528-ee32-422a-b73c-7e5d578e1b67\" xlink:type=\"simple\"><path d=\"M404.52,72 C404.52,72 542,72 542,72 C542,72 542,130.12 542,163.73 \" fill=\"none\" id=\"E5&lt;-E7\" style=\"stroke: #383838; stroke-width: 1.0;\"/><polygon fill=\"#FFFFFF\" points=\"391.52,72,397.52,76,403.52,72,397.52,68,391.52,72\" style=\"stroke: #383838; stroke-width: 1.0;\"/><text fill=\"#000000\" font-family=\"sans-serif\" font-size=\"13\" lengthAdjust=\"spacingAndGlyphs\" textLength=\"8\" x=\"532.975\" y=\"152.9371\">1</text></a><!--MD5=[583832df87f4419a098336a29a52fa00]\n",
       "link E7 to E2--><a href=\"psysml:fe7d5224-67e7-4f42-a679-f87e330c9f80\" target=\"_top\" title=\"psysml:fe7d5224-67e7-4f42-a679-f87e330c9f80\" xlink:actuate=\"onRequest\" xlink:href=\"psysml:fe7d5224-67e7-4f42-a679-f87e330c9f80\" xlink:show=\"new\" xlink:title=\"psysml:fe7d5224-67e7-4f42-a679-f87e330c9f80\" xlink:type=\"simple\"><path d=\"M614.5,210.22 C614.5,210.22 614.5,250.83 614.5,250.83 \" fill=\"none\" id=\"E7-&gt;E2\" style=\"stroke: #383838; stroke-width: 1.0;\"/><polygon fill=\"#FFFFFF\" points=\"614.5,270.83,607.5,251.83,621.5,251.83,614.5,270.83\" style=\"stroke: #383838; stroke-width: 1.0;\"/><ellipse cx=\"609.5\" cy=\"246.13\" fill=\"#383838\" rx=\"2\" ry=\"2\" style=\"stroke: #383838; stroke-width: 1.0;\"/><ellipse cx=\"619.5\" cy=\"246.13\" fill=\"#383838\" rx=\"2\" ry=\"2\" style=\"stroke: #383838; stroke-width: 1.0;\"/></a><!--MD5=[cda3871c429b4d7276aca41cada99cc6]\n",
       "@startuml\r\n",
       "skinparam linetype ortho\r\n",
       "skinparam monochrome true\r\n",
       "skinparam classbackgroundcolor white\r\n",
       "skinparam shadowing false\r\n",
       "skinparam wrapWidth 300\r\n",
       "hide circle\r\n",
       "\r\n",
       "package \"TradeStudyTest\" as E1  [[psysml:ee7e22b2-7ed6-4f2c-8628-ec59eb221ec4 ]]  {\r\n",
       "comp def \"Engine\" as E2  <<(T,blue) part def>> [[psysml:6dc2e48d-4c08-4400-bc60-82a531af2780 ]] {\r\n",
       "}\r\n",
       "comp usage \"engine1: Engine\" as E3  <<(T,blue) part>> [[psysml:3defd9be-3b5d-4c6d-8f79-df776db84250 ]] {\r\n",
       "}\r\n",
       "comp usage \"engine2: Engine\" as E4  <<(T,blue) part>> [[psysml:3a9a647b-2fd2-49b6-8a5f-7ce1649088e0 ]] {\r\n",
       "}\r\n",
       "comp usage \"engineTradeStudy: TradeStudy\" as E5 << analysis>> [[psysml:4b9a9840-0888-40ad-997b-4be591991c45 ]] {\r\n",
       "}\r\n",
       "comp usage \"tradeStudyObjective: MaximizeObjective\" as E6  <<(T,blue) requirement>> [[psysml:6d56d509-a272-42e3-905c-0e1bbd246da0 ]] {\r\n",
       "}\r\n",
       "comp usage \"selectedAlternative: Engine\" as E7  <<(T,blue) part>> [[psysml:d0667918-a428-4729-9680-50da29281cd4 ]] {\r\n",
       "}\r\n",
       "}\r\n",
       "E3 - -:|> E2 [[psysml:2c927883-7b33-4f30-b07f-44dca6adebf7 ]] \r\n",
       "E4 - -:|> E2 [[psysml:59e46c20-b41c-4b83-8c8c-eff5ad41f1d7 ]] \r\n",
       "E5 ..> E2 [[psysml:d5cbdaa6-c586-4ab8-b2f7-038eda38592d ]] : <<subject>>\r\n",
       "E5 - ->> E6 [[psysml:14d02f99-86ef-419d-b64f-b983855c21b7 ]] : <<objective>>\r\n",
       "E5 o- - \"1\"E7 [[psysml:44393528-ee32-422a-b73c-7e5d578e1b67 ]] \r\n",
       "E7 - -:|> E2 [[psysml:fe7d5224-67e7-4f42-a679-f87e330c9f80 ]] \r\n",
       "@enduml\r\n",
       "\n",
       "PlantUML version 1.2020.13(Sat Jun 13 12:26:38 UTC 2020)\n",
       "(EPL source distribution)\n",
       "Java Runtime: OpenJDK Runtime Environment\n",
       "JVM: OpenJDK 64-Bit Server VM\n",
       "Default Encoding: UTF-8\n",
       "Language: en\n",
       "Country: null\n",
       "--></g></svg>"
      ]
     },
     "execution_count": 52,
     "metadata": {},
     "output_type": "execute_result"
    }
   ],
   "source": [
    "%viz --style=\"ORTHOLINE\" --view=\"Tree\" \"TradeStudyTest\""
   ]
  },
  {
   "cell_type": "code",
   "execution_count": 53,
   "id": "02180f95",
   "metadata": {
    "execution": {
     "iopub.execute_input": "2021-10-03T08:30:40.013413Z",
     "iopub.status.busy": "2021-10-03T08:30:40.013024Z",
     "iopub.status.idle": "2021-10-03T08:30:40.018072Z",
     "shell.execute_reply": "2021-10-03T08:30:40.017749Z"
    }
   },
   "outputs": [
    {
     "data": {
      "image/svg+xml": [
       "<?xml version=\"1.0\" encoding=\"UTF-8\" standalone=\"no\"?><svg xmlns=\"http://www.w3.org/2000/svg\" xmlns:xlink=\"http://www.w3.org/1999/xlink\" contentScriptType=\"application/ecmascript\" contentStyleType=\"text/css\" height=\"12px\" preserveAspectRatio=\"none\" style=\"width:12px;height:12px;\" version=\"1.1\" viewBox=\"0 0 12 12\" width=\"12px\" zoomAndPan=\"magnify\"><defs/><g><!--MD5=[97d6f38768b311333d388e66b2b27985]\n",
       "@startuml\r\n",
       "skinparam linetype ortho\r\n",
       "skinparam monochrome true\r\n",
       "skinparam classbackgroundcolor white\r\n",
       "skinparam shadowing false\r\n",
       "skinparam wrapWidth 300\r\n",
       "hide circle\r\n",
       "\r\n",
       "@enduml\r\n",
       "\n",
       "PlantUML version 1.2020.13(Sat Jun 13 12:26:38 UTC 2020)\n",
       "(EPL source distribution)\n",
       "Java Runtime: OpenJDK Runtime Environment\n",
       "JVM: OpenJDK 64-Bit Server VM\n",
       "Default Encoding: UTF-8\n",
       "Language: en\n",
       "Country: null\n",
       "--></g></svg>"
      ]
     },
     "execution_count": 53,
     "metadata": {},
     "output_type": "execute_result"
    }
   ],
   "source": [
    "%viz --style=\"ORTHOLINE\" --view=\"State\" \"TradeStudyTest\""
   ]
  },
  {
   "cell_type": "code",
   "execution_count": 54,
   "id": "5d7e30cc",
   "metadata": {
    "execution": {
     "iopub.execute_input": "2021-10-03T08:30:40.067494Z",
     "iopub.status.busy": "2021-10-03T08:30:40.067104Z",
     "iopub.status.idle": "2021-10-03T08:30:40.102874Z",
     "shell.execute_reply": "2021-10-03T08:30:40.102524Z"
    }
   },
   "outputs": [
    {
     "data": {
      "image/svg+xml": [
       "<?xml version=\"1.0\" encoding=\"UTF-8\" standalone=\"no\"?><svg xmlns=\"http://www.w3.org/2000/svg\" xmlns:xlink=\"http://www.w3.org/1999/xlink\" contentScriptType=\"application/ecmascript\" contentStyleType=\"text/css\" height=\"334px\" preserveAspectRatio=\"none\" style=\"width:566px;height:334px;\" version=\"1.1\" viewBox=\"0 0 566 334\" width=\"566px\" zoomAndPan=\"magnify\"><defs/><g><!--MD5=[fbc87193dbaf4d95561dea2c320d4a47]\n",
       "cluster E1--><a href=\"psysml:ee7e22b2-7ed6-4f2c-8628-ec59eb221ec4\" target=\"_top\" title=\"psysml:ee7e22b2-7ed6-4f2c-8628-ec59eb221ec4\" xlink:actuate=\"onRequest\" xlink:href=\"psysml:ee7e22b2-7ed6-4f2c-8628-ec59eb221ec4\" xlink:show=\"new\" xlink:title=\"psysml:ee7e22b2-7ed6-4f2c-8628-ec59eb221ec4\" xlink:type=\"simple\"><polygon fill=\"#FFFFFF\" points=\"16,6,132,6,139,28.2969,544,28.2969,544,322,16,322,16,6\" style=\"stroke: #000000; stroke-width: 1.5;\"/><line style=\"stroke: #000000; stroke-width: 1.5;\" x1=\"16\" x2=\"139\" y1=\"28.2969\" y2=\"28.2969\"/><text fill=\"#000000\" font-family=\"sans-serif\" font-size=\"14\" font-weight=\"bold\" lengthAdjust=\"spacingAndGlyphs\" textLength=\"110\" x=\"20\" y=\"20.9951\">TradeStudyTest</text></a><!--MD5=[270fce915f116d4de14055a7c1d9a0f3]\n",
       "class E5--><a href=\"psysml:4b9a9840-0888-40ad-997b-4be591991c45\" target=\"_top\" title=\"psysml:4b9a9840-0888-40ad-997b-4be591991c45\" xlink:actuate=\"onRequest\" xlink:href=\"psysml:4b9a9840-0888-40ad-997b-4be591991c45\" xlink:show=\"new\" xlink:title=\"psysml:4b9a9840-0888-40ad-997b-4be591991c45\" xlink:type=\"simple\"><rect fill=\"#FFFFFF\" height=\"45.9375\" id=\"E5\" rx=\"10\" ry=\"10\" style=\"stroke: #383838; stroke-width: 1.5;\" width=\"199\" x=\"328.5\" y=\"41\"/><text fill=\"#000000\" font-family=\"sans-serif\" font-size=\"12\" font-style=\"italic\" lengthAdjust=\"spacingAndGlyphs\" textLength=\"64\" x=\"396\" y=\"57.1387\">«analysis»</text><text fill=\"#000000\" font-family=\"sans-serif\" font-size=\"12\" lengthAdjust=\"spacingAndGlyphs\" textLength=\"193\" x=\"331.5\" y=\"71.1074\">engineTradeStudy: TradeStudy</text><line style=\"stroke: #383838; stroke-width: 1.5;\" x1=\"329.5\" x2=\"526.5\" y1=\"78.9375\" y2=\"78.9375\"/></a><!--MD5=[60a26617385b1d2d0262a64233df1f8d]\n",
       "class E6--><a href=\"psysml:6d56d509-a272-42e3-905c-0e1bbd246da0\" target=\"_top\" title=\"psysml:6d56d509-a272-42e3-905c-0e1bbd246da0\" xlink:actuate=\"onRequest\" xlink:href=\"psysml:6d56d509-a272-42e3-905c-0e1bbd246da0\" xlink:show=\"new\" xlink:title=\"psysml:6d56d509-a272-42e3-905c-0e1bbd246da0\" xlink:type=\"simple\"><rect fill=\"#FFFFFF\" height=\"45.9375\" id=\"E6\" rx=\"10\" ry=\"10\" style=\"stroke: #383838; stroke-width: 1.5;\" width=\"251\" x=\"32.5\" y=\"120\"/><text fill=\"#000000\" font-family=\"sans-serif\" font-size=\"12\" font-style=\"italic\" lengthAdjust=\"spacingAndGlyphs\" textLength=\"91\" x=\"112.5\" y=\"136.1387\">«requirement»</text><text fill=\"#000000\" font-family=\"sans-serif\" font-size=\"12\" lengthAdjust=\"spacingAndGlyphs\" textLength=\"245\" x=\"35.5\" y=\"150.1074\">tradeStudyObjective: MaximizeObjective</text><line style=\"stroke: #383838; stroke-width: 1.5;\" x1=\"33.5\" x2=\"282.5\" y1=\"157.9375\" y2=\"157.9375\"/></a><!--MD5=[2156ba9850f5573cc1fc38a6a4b2f02b]\n",
       "class E7--><a href=\"psysml:0d158b00-d202-4b1f-90aa-9fc427f4eb2b\" target=\"_top\" title=\"psysml:0d158b00-d202-4b1f-90aa-9fc427f4eb2b\" xlink:actuate=\"onRequest\" xlink:href=\"psysml:0d158b00-d202-4b1f-90aa-9fc427f4eb2b\" xlink:show=\"new\" xlink:title=\"psysml:0d158b00-d202-4b1f-90aa-9fc427f4eb2b\" xlink:type=\"simple\"><rect fill=\"#FFFFFF\" height=\"45.9375\" id=\"E7\" rx=\"10\" ry=\"10\" style=\"stroke: #383838; stroke-width: 1.5;\" width=\"116\" x=\"319\" y=\"120\"/><text fill=\"#000000\" font-family=\"sans-serif\" font-size=\"12\" font-style=\"italic\" lengthAdjust=\"spacingAndGlyphs\" textLength=\"82\" x=\"336\" y=\"136.1387\">«calculation»</text><text fill=\"#000000\" font-family=\"sans-serif\" font-size=\"12\" lengthAdjust=\"spacingAndGlyphs\" textLength=\"110\" x=\"322\" y=\"150.1074\">objectiveFunction</text><line style=\"stroke: #383838; stroke-width: 1.5;\" x1=\"320\" x2=\"434\" y1=\"157.9375\" y2=\"157.9375\"/></a><!--MD5=[b9389687b975829384b498ac4b7476b2]\n",
       "class E8--><a href=\"psysml:e8d66f1b-2710-4767-99ee-f2812ccd7696\" target=\"_top\" title=\"psysml:e8d66f1b-2710-4767-99ee-f2812ccd7696\" xlink:actuate=\"onRequest\" xlink:href=\"psysml:e8d66f1b-2710-4767-99ee-f2812ccd7696\" xlink:show=\"new\" xlink:title=\"psysml:e8d66f1b-2710-4767-99ee-f2812ccd7696\" xlink:type=\"simple\"><rect fill=\"#FFFFFF\" height=\"31.9688\" id=\"E8\" rx=\"10\" ry=\"10\" style=\"stroke: #383838; stroke-width: 1.5;\" width=\"124\" x=\"178\" y=\"214\"/><text fill=\"#000000\" font-family=\"sans-serif\" font-size=\"12\" lengthAdjust=\"spacingAndGlyphs\" textLength=\"118\" x=\"181\" y=\"230.1387\">alternative: Engine</text><line style=\"stroke: #383838; stroke-width: 1.5;\" x1=\"179\" x2=\"301\" y1=\"237.9688\" y2=\"237.9688\"/></a><!--MD5=[fd4143e9d270a159db93a4ea2a975926]\n",
       "class E9--><a href=\"psysml:d0667918-a428-4729-9680-50da29281cd4\" target=\"_top\" title=\"psysml:d0667918-a428-4729-9680-50da29281cd4\" xlink:actuate=\"onRequest\" xlink:href=\"psysml:d0667918-a428-4729-9680-50da29281cd4\" xlink:show=\"new\" xlink:title=\"psysml:d0667918-a428-4729-9680-50da29281cd4\" xlink:type=\"simple\"><rect fill=\"#FFFFFF\" height=\"31.9688\" id=\"E9\" rx=\"10\" ry=\"10\" style=\"stroke: #383838; stroke-width: 1.5;\" width=\"178\" x=\"246\" y=\"174\"/><text fill=\"#000000\" font-family=\"sans-serif\" font-size=\"12\" lengthAdjust=\"spacingAndGlyphs\" textLength=\"172\" x=\"249\" y=\"190.1387\">selectedAlternative: Engine</text><line style=\"stroke: #383838; stroke-width: 1.5;\" x1=\"247\" x2=\"423\" y1=\"197.9688\" y2=\"197.9688\"/></a><g id=\"E1.E2\"><a href=\"psysml:6dc2e48d-4c08-4400-bc60-82a531af2780\" target=\"_top\" title=\"psysml:6dc2e48d-4c08-4400-bc60-82a531af2780\" xlink:actuate=\"onRequest\" xlink:href=\"psysml:6dc2e48d-4c08-4400-bc60-82a531af2780\" xlink:show=\"new\" xlink:title=\"psysml:6dc2e48d-4c08-4400-bc60-82a531af2780\" xlink:type=\"simple\"><rect fill=\"#FFFFFF\" height=\"42.9375\" id=\"E2\" style=\"stroke: #383838; stroke-width: 1.5;\" width=\"71\" x=\"302.5\" y=\"263\"/><rect fill=\"#F8F8F8\" height=\"37.9375\" style=\"stroke: #383838; stroke-width: 1.5;\" width=\"71\" x=\"302.5\" y=\"263\"/><text fill=\"#000000\" font-family=\"sans-serif\" font-size=\"12\" font-style=\"italic\" lengthAdjust=\"spacingAndGlyphs\" textLength=\"64\" x=\"306\" y=\"279.1387\">«part def»</text><text fill=\"#000000\" font-family=\"sans-serif\" font-size=\"12\" lengthAdjust=\"spacingAndGlyphs\" textLength=\"43\" x=\"316.5\" y=\"293.1074\">Engine</text></a></g><g id=\"E1.E3\"><a href=\"psysml:3defd9be-3b5d-4c6d-8f79-df776db84250\" target=\"_top\" title=\"psysml:3defd9be-3b5d-4c6d-8f79-df776db84250\" xlink:actuate=\"onRequest\" xlink:href=\"psysml:3defd9be-3b5d-4c6d-8f79-df776db84250\" xlink:show=\"new\" xlink:title=\"psysml:3defd9be-3b5d-4c6d-8f79-df776db84250\" xlink:type=\"simple\"><rect fill=\"#FFFFFF\" height=\"40\" id=\"E3\" rx=\"10\" ry=\"10\" style=\"stroke: #383838; stroke-width: 1.5;\" width=\"113\" x=\"180.5\" y=\"44\"/><rect fill=\"#F8F8F8\" height=\"23.9688\" rx=\"10\" ry=\"10\" style=\"stroke: #F8F8F8; stroke-width: 1.5;\" width=\"113\" x=\"180.5\" y=\"44\"/><rect fill=\"#F8F8F8\" height=\"10\" style=\"stroke: #F8F8F8; stroke-width: 1.5;\" width=\"113\" x=\"180.5\" y=\"57.9688\"/><rect fill=\"none\" height=\"40\" id=\"E3\" rx=\"10\" ry=\"10\" style=\"stroke: #383838; stroke-width: 1.5;\" width=\"113\" x=\"180.5\" y=\"44\"/><text fill=\"#000000\" font-family=\"sans-serif\" font-size=\"12\" lengthAdjust=\"spacingAndGlyphs\" textLength=\"102\" x=\"186\" y=\"60.1387\">engine1: Engine</text></a></g><g id=\"E1.E4\"><a href=\"psysml:3a9a647b-2fd2-49b6-8a5f-7ce1649088e0\" target=\"_top\" title=\"psysml:3a9a647b-2fd2-49b6-8a5f-7ce1649088e0\" xlink:actuate=\"onRequest\" xlink:href=\"psysml:3a9a647b-2fd2-49b6-8a5f-7ce1649088e0\" xlink:show=\"new\" xlink:title=\"psysml:3a9a647b-2fd2-49b6-8a5f-7ce1649088e0\" xlink:type=\"simple\"><rect fill=\"#FFFFFF\" height=\"40\" id=\"E4\" rx=\"10\" ry=\"10\" style=\"stroke: #383838; stroke-width: 1.5;\" width=\"113\" x=\"32.5\" y=\"44\"/><rect fill=\"#F8F8F8\" height=\"23.9688\" rx=\"10\" ry=\"10\" style=\"stroke: #F8F8F8; stroke-width: 1.5;\" width=\"113\" x=\"32.5\" y=\"44\"/><rect fill=\"#F8F8F8\" height=\"10\" style=\"stroke: #F8F8F8; stroke-width: 1.5;\" width=\"113\" x=\"32.5\" y=\"57.9688\"/><rect fill=\"none\" height=\"40\" id=\"E4\" rx=\"10\" ry=\"10\" style=\"stroke: #383838; stroke-width: 1.5;\" width=\"113\" x=\"32.5\" y=\"44\"/><text fill=\"#000000\" font-family=\"sans-serif\" font-size=\"12\" lengthAdjust=\"spacingAndGlyphs\" textLength=\"102\" x=\"38\" y=\"60.1387\">engine2: Engine</text></a></g><!--MD5=[15ebcb19ae302d9b601edb458606d402]\n",
       "link E5 to E2--><a href=\"psysml:d5cbdaa6-c586-4ab8-b2f7-038eda38592d\" target=\"_top\" title=\"psysml:d5cbdaa6-c586-4ab8-b2f7-038eda38592d\" xlink:actuate=\"onRequest\" xlink:href=\"psysml:d5cbdaa6-c586-4ab8-b2f7-038eda38592d\" xlink:show=\"new\" xlink:title=\"psysml:d5cbdaa6-c586-4ab8-b2f7-038eda38592d\" xlink:type=\"simple\"><path d=\"M481.25,87.23 C481.25,143.97 481.25,285 481.25,285 C481.25,285 378.78,285 378.78,285 \" fill=\"none\" id=\"E5-&gt;E2\" style=\"stroke: #383838; stroke-width: 1.0; stroke-dasharray: 7.0,7.0;\"/><polygon fill=\"#383838\" points=\"373.78,285,382.78,289,378.78,285,382.78,281,373.78,285\" style=\"stroke: #383838; stroke-width: 1.0;\"/><text fill=\"#000000\" font-family=\"sans-serif\" font-size=\"13\" lengthAdjust=\"spacingAndGlyphs\" textLength=\"62\" x=\"465\" y=\"194.5669\">«subject»</text></a><!--MD5=[9120cf2e5df3bff93db8f754bbbc09b4]\n",
       "link E5 to E6--><a href=\"psysml:14d02f99-86ef-419d-b64f-b983855c21b7\" target=\"_top\" title=\"psysml:14d02f99-86ef-419d-b64f-b983855c21b7\" xlink:actuate=\"onRequest\" xlink:href=\"psysml:14d02f99-86ef-419d-b64f-b983855c21b7\" xlink:show=\"new\" xlink:title=\"psysml:14d02f99-86ef-419d-b64f-b983855c21b7\" xlink:type=\"simple\"><path d=\"M328.41,58 C312.96,58 302,58 302,58 C302,58 302,143 302,143 C302,143 291.76,143 291.76,143 \" fill=\"none\" id=\"E5-&gt;E6\" style=\"stroke: #383838; stroke-width: 1.0;\"/><polygon fill=\"#383838\" points=\"283.76,143,291.76,146,291.76,140,283.76,143\" style=\"stroke: #383838; stroke-width: 1.0;\"/><text fill=\"#000000\" font-family=\"sans-serif\" font-size=\"13\" lengthAdjust=\"spacingAndGlyphs\" textLength=\"73\" x=\"228\" y=\"108.0669\">«objective»</text></a><!--MD5=[452b418e7f8a40397a49b8c0a78acc5b]\n",
       "reverse link E5 to E7--><a href=\"psysml:60238b1f-3640-4bef-bde7-54f879504707\" target=\"_top\" title=\"psysml:60238b1f-3640-4bef-bde7-54f879504707\" xlink:actuate=\"onRequest\" xlink:href=\"psysml:60238b1f-3640-4bef-bde7-54f879504707\" xlink:show=\"new\" xlink:title=\"psysml:60238b1f-3640-4bef-bde7-54f879504707\" xlink:type=\"simple\"><path d=\"M381.75,100.28 C381.75,100.28 381.75,119.89 381.75,119.89 \" fill=\"none\" id=\"E5&lt;-E7\" style=\"stroke: #383838; stroke-width: 1.0;\"/><polygon fill=\"#383838\" points=\"381.75,87.28,377.75,93.28,381.75,99.28,385.75,93.28,381.75,87.28\" style=\"stroke: #383838; stroke-width: 1.0;\"/></a><!--MD5=[dc164f5e8a733ab456ef1add180e9e34]\n",
       "reverse link E7 to E8--><a href=\"psysml:83c02207-4172-44b5-b5b3-edd55ab7c0db\" target=\"_top\" title=\"psysml:83c02207-4172-44b5-b5b3-edd55ab7c0db\" xlink:actuate=\"onRequest\" xlink:href=\"psysml:83c02207-4172-44b5-b5b3-edd55ab7c0db\" xlink:show=\"new\" xlink:title=\"psysml:83c02207-4172-44b5-b5b3-edd55ab7c0db\" xlink:type=\"simple\"><path d=\"M429.5,179.28 C429.5,179.28 429.5,225 429.5,225 C429.5,225 357.32,225 302.05,225 \" fill=\"none\" id=\"E7&lt;-E8\" style=\"stroke: #383838; stroke-width: 1.0;\"/><polygon fill=\"#FFFFFF\" points=\"429.5,166.28,425.5,172.28,429.5,178.28,433.5,172.28,429.5,166.28\" style=\"stroke: #383838; stroke-width: 1.0;\"/><text fill=\"#000000\" font-family=\"sans-serif\" font-size=\"13\" lengthAdjust=\"spacingAndGlyphs\" textLength=\"8\" x=\"305.7892\" y=\"225.9301\">1</text></a><!--MD5=[f1f3f9f2fc535e6147756cb86a7f2e32]\n",
       "link E8 to E2--><a href=\"psysml:3fd357fc-9742-4e4a-b08f-00e5f8b92b2e\" target=\"_top\" title=\"psysml:3fd357fc-9742-4e4a-b08f-00e5f8b92b2e\" xlink:actuate=\"onRequest\" xlink:href=\"psysml:3fd357fc-9742-4e4a-b08f-00e5f8b92b2e\" xlink:show=\"new\" xlink:title=\"psysml:3fd357fc-9742-4e4a-b08f-00e5f8b92b2e\" xlink:type=\"simple\"><path d=\"M302.16,236 C315.75,236 326.17,236 326.17,236 C326.17,236 326.17,242.8 326.17,242.8 \" fill=\"none\" id=\"E8-&gt;E2\" style=\"stroke: #383838; stroke-width: 1.0;\"/><polygon fill=\"#FFFFFF\" points=\"326.17,262.8,319.17,243.8,333.17,243.8,326.17,262.8\" style=\"stroke: #383838; stroke-width: 1.0;\"/><ellipse cx=\"321.17\" cy=\"238.1\" fill=\"#383838\" rx=\"2\" ry=\"2\" style=\"stroke: #383838; stroke-width: 1.0;\"/><ellipse cx=\"331.17\" cy=\"238.1\" fill=\"#383838\" rx=\"2\" ry=\"2\" style=\"stroke: #383838; stroke-width: 1.0;\"/></a><!--MD5=[9ae28de373ca99bb8a1b38d63370ca7e]\n",
       "reverse link E5 to E9--><a href=\"psysml:44393528-ee32-422a-b73c-7e5d578e1b67\" target=\"_top\" title=\"psysml:44393528-ee32-422a-b73c-7e5d578e1b67\" xlink:actuate=\"onRequest\" xlink:href=\"psysml:44393528-ee32-422a-b73c-7e5d578e1b67\" xlink:show=\"new\" xlink:title=\"psysml:44393528-ee32-422a-b73c-7e5d578e1b67\" xlink:type=\"simple\"><path d=\"M315.35,71 C315.35,71 310.5,71 310.5,71 C310.5,71 310.5,141.47 310.5,173.95 \" fill=\"none\" id=\"E5&lt;-E9\" style=\"stroke: #383838; stroke-width: 1.0;\"/><polygon fill=\"#FFFFFF\" points=\"328.35,71,322.35,67,316.35,71,322.35,75,328.35,71\" style=\"stroke: #383838; stroke-width: 1.0;\"/><text fill=\"#000000\" font-family=\"sans-serif\" font-size=\"13\" lengthAdjust=\"spacingAndGlyphs\" textLength=\"8\" x=\"292.7031\" y=\"162.9498\">1</text></a><!--MD5=[5c3bb36fe832a92c7f0e1807dd65209d]\n",
       "link E9 to E2--><a href=\"psysml:fe7d5224-67e7-4f42-a679-f87e330c9f80\" target=\"_top\" title=\"psysml:fe7d5224-67e7-4f42-a679-f87e330c9f80\" xlink:actuate=\"onRequest\" xlink:href=\"psysml:fe7d5224-67e7-4f42-a679-f87e330c9f80\" xlink:show=\"new\" xlink:title=\"psysml:fe7d5224-67e7-4f42-a679-f87e330c9f80\" xlink:type=\"simple\"><path d=\"M349.83,206.03 C349.83,206.03 349.83,242.71 349.83,242.71 \" fill=\"none\" id=\"E9-&gt;E2\" style=\"stroke: #383838; stroke-width: 1.0;\"/><polygon fill=\"#FFFFFF\" points=\"349.83,262.71,342.83,243.71,356.83,243.71,349.83,262.71\" style=\"stroke: #383838; stroke-width: 1.0;\"/><ellipse cx=\"344.83\" cy=\"238.01\" fill=\"#383838\" rx=\"2\" ry=\"2\" style=\"stroke: #383838; stroke-width: 1.0;\"/><ellipse cx=\"354.83\" cy=\"238.01\" fill=\"#383838\" rx=\"2\" ry=\"2\" style=\"stroke: #383838; stroke-width: 1.0;\"/></a><!--MD5=[5d102feb06e932ddf79bfbb152903dc4]\n",
       "@startuml\r\n",
       "skinparam ranksep 10\r\n",
       "skinparam rectangle {\r\n",
       " backgroundColor<<block>> LightGreen\r\n",
       "}\r\n",
       "skinparam linetype ortho\r\n",
       "skinparam monochrome true\r\n",
       "skinparam classbackgroundcolor white\r\n",
       "skinparam shadowing false\r\n",
       "skinparam wrapWidth 300\r\n",
       "hide circle\r\n",
       "\r\n",
       "package \"TradeStudyTest\" as E1  [[psysml:ee7e22b2-7ed6-4f2c-8628-ec59eb221ec4 ]]  {\r\n",
       "rec def \"Engine\" as E2  <<(T,blue) part def>> [[psysml:6dc2e48d-4c08-4400-bc60-82a531af2780 ]] {\r\n",
       "}\r\n",
       "rec usage \"engine1: Engine\" as E3  [[psysml:3defd9be-3b5d-4c6d-8f79-df776db84250 ]] {\r\n",
       "}\r\n",
       "rec usage \"engine2: Engine\" as E4  [[psysml:3a9a647b-2fd2-49b6-8a5f-7ce1649088e0 ]] {\r\n",
       "}\r\n",
       "comp usage \"engineTradeStudy: TradeStudy\" as E5 << analysis>> [[psysml:4b9a9840-0888-40ad-997b-4be591991c45 ]] {\r\n",
       "}\r\n",
       "comp usage \"tradeStudyObjective: MaximizeObjective\" as E6  <<(T,blue) requirement>> [[psysml:6d56d509-a272-42e3-905c-0e1bbd246da0 ]] {\r\n",
       "}\r\n",
       "comp usage \"objectiveFunction\" as E7  <<(T,blue) calculation>> [[psysml:0d158b00-d202-4b1f-90aa-9fc427f4eb2b ]] {\r\n",
       "}\r\n",
       "comp usage \"alternative: Engine\" as E8  [[psysml:e8d66f1b-2710-4767-99ee-f2812ccd7696 ]] {\r\n",
       "}\r\n",
       "comp usage \"selectedAlternative: Engine\" as E9  [[psysml:d0667918-a428-4729-9680-50da29281cd4 ]] {\r\n",
       "}\r\n",
       "}\r\n",
       "E5 ..> E2 [[psysml:d5cbdaa6-c586-4ab8-b2f7-038eda38592d ]] : <<subject>>\r\n",
       "E5 - ->> E6 [[psysml:14d02f99-86ef-419d-b64f-b983855c21b7 ]] : <<objective>>\r\n",
       "E5 *- - E7 [[psysml:60238b1f-3640-4bef-bde7-54f879504707 ]] \r\n",
       "E7 o- - \"1\"E8 [[psysml:83c02207-4172-44b5-b5b3-edd55ab7c0db ]] \r\n",
       "E8 - -:|> E2 [[psysml:3fd357fc-9742-4e4a-b08f-00e5f8b92b2e ]] \r\n",
       "E5 o- - \"1\"E9 [[psysml:44393528-ee32-422a-b73c-7e5d578e1b67 ]] \r\n",
       "E9 - -:|> E2 [[psysml:fe7d5224-67e7-4f42-a679-f87e330c9f80 ]] \r\n",
       "@enduml\r\n",
       "\n",
       "PlantUML version 1.2020.13(Sat Jun 13 12:26:38 UTC 2020)\n",
       "(EPL source distribution)\n",
       "Java Runtime: OpenJDK Runtime Environment\n",
       "JVM: OpenJDK 64-Bit Server VM\n",
       "Default Encoding: UTF-8\n",
       "Language: en\n",
       "Country: null\n",
       "--></g></svg>"
      ]
     },
     "execution_count": 54,
     "metadata": {},
     "output_type": "execute_result"
    }
   ],
   "source": [
    "%viz --style=\"ORTHOLINE\" --view=\"Interconnection\" \"TradeStudyTest\""
   ]
  },
  {
   "cell_type": "code",
   "execution_count": 55,
   "id": "c3f619e1",
   "metadata": {
    "execution": {
     "iopub.execute_input": "2021-10-03T08:30:40.151541Z",
     "iopub.status.busy": "2021-10-03T08:30:40.151145Z",
     "iopub.status.idle": "2021-10-03T08:30:40.179456Z",
     "shell.execute_reply": "2021-10-03T08:30:40.179106Z"
    }
   },
   "outputs": [
    {
     "data": {
      "image/svg+xml": [
       "<?xml version=\"1.0\" encoding=\"UTF-8\" standalone=\"no\"?><svg xmlns=\"http://www.w3.org/2000/svg\" xmlns:xlink=\"http://www.w3.org/1999/xlink\" contentScriptType=\"application/ecmascript\" contentStyleType=\"text/css\" height=\"178px\" preserveAspectRatio=\"none\" style=\"width:434px;height:178px;\" version=\"1.1\" viewBox=\"0 0 434 178\" width=\"434px\" zoomAndPan=\"magnify\"><defs/><g><!--MD5=[fbc87193dbaf4d95561dea2c320d4a47]\n",
       "cluster E1--><a href=\"psysml:4b9a9840-0888-40ad-997b-4be591991c45\" target=\"_top\" title=\"psysml:4b9a9840-0888-40ad-997b-4be591991c45\" xlink:actuate=\"onRequest\" xlink:href=\"psysml:4b9a9840-0888-40ad-997b-4be591991c45\" xlink:show=\"new\" xlink:title=\"psysml:4b9a9840-0888-40ad-997b-4be591991c45\" xlink:type=\"simple\"><rect fill=\"#FFFFFF\" height=\"103.72\" id=\"E1\" rx=\"10\" ry=\"10\" style=\"stroke: #383838; stroke-width: 1.5;\" width=\"327\" x=\"47\" y=\"42.0986\"/><rect fill=\"#F8F8F8\" height=\"37.9375\" rx=\"10\" ry=\"10\" style=\"stroke: #F8F8F8; stroke-width: 1.5;\" width=\"327\" x=\"47\" y=\"42.0986\"/><rect fill=\"#F8F8F8\" height=\"10\" style=\"stroke: #F8F8F8; stroke-width: 1.5;\" width=\"327\" x=\"47\" y=\"70.0361\"/><rect fill=\"none\" height=\"103.72\" id=\"E1\" rx=\"10\" ry=\"10\" style=\"stroke: #383838; stroke-width: 1.5;\" width=\"327\" x=\"47\" y=\"42.0986\"/><text fill=\"#000000\" font-family=\"sans-serif\" font-size=\"12\" font-style=\"italic\" lengthAdjust=\"spacingAndGlyphs\" textLength=\"64\" x=\"178.5\" y=\"58.2373\">«analysis»</text><text fill=\"#000000\" font-family=\"sans-serif\" font-size=\"12\" lengthAdjust=\"spacingAndGlyphs\" textLength=\"114\" x=\"153.5\" y=\"72.2061\">engineTradeStudy</text><line style=\"stroke: #383838; stroke-width: 1.0;\" x1=\"47\" x2=\"374\" y1=\"80.0361\" y2=\"80.0361\"/></a><!--MD5=[d5e69f78d87373223dbae638b30a9c99]\n",
       "cluster E3--><a href=\"psysml:0d158b00-d202-4b1f-90aa-9fc427f4eb2b\" target=\"_top\" title=\"psysml:0d158b00-d202-4b1f-90aa-9fc427f4eb2b\" xlink:actuate=\"onRequest\" xlink:href=\"psysml:0d158b00-d202-4b1f-90aa-9fc427f4eb2b\" xlink:show=\"new\" xlink:title=\"psysml:0d158b00-d202-4b1f-90aa-9fc427f4eb2b\" xlink:type=\"simple\"><rect fill=\"#FFFFFF\" height=\"81.72\" id=\"E3\" rx=\"10\" ry=\"10\" style=\"stroke: #383838; stroke-width: 1.5;\" width=\"132\" x=\"214.125\" y=\"64.0986\"/><rect fill=\"#F8F8F8\" height=\"37.9375\" rx=\"10\" ry=\"10\" style=\"stroke: #F8F8F8; stroke-width: 1.5;\" width=\"132\" x=\"214.125\" y=\"64.0986\"/><rect fill=\"#F8F8F8\" height=\"10\" style=\"stroke: #F8F8F8; stroke-width: 1.5;\" width=\"132\" x=\"214.125\" y=\"92.0361\"/><rect fill=\"none\" height=\"81.72\" id=\"E3\" rx=\"10\" ry=\"10\" style=\"stroke: #383838; stroke-width: 1.5;\" width=\"132\" x=\"214.125\" y=\"64.0986\"/><text fill=\"#000000\" font-family=\"sans-serif\" font-size=\"12\" font-style=\"italic\" lengthAdjust=\"spacingAndGlyphs\" textLength=\"82\" x=\"239.125\" y=\"80.2373\">«calculation»</text><text fill=\"#000000\" font-family=\"sans-serif\" font-size=\"12\" lengthAdjust=\"spacingAndGlyphs\" textLength=\"110\" x=\"225.125\" y=\"94.2061\">objectiveFunction</text><line style=\"stroke: #383838; stroke-width: 1.0;\" x1=\"214.125\" x2=\"346.125\" y1=\"102.0361\" y2=\"102.0361\"/></a><text fill=\"#000000\" font-family=\"sans-serif\" font-size=\"14\" lengthAdjust=\"spacingAndGlyphs\" textLength=\"118\" x=\"6\" y=\"20.7969\">studyAlternatives</text><rect fill=\"#383838\" height=\"12\" style=\"stroke: #F8F8F8; stroke-width: 1.5;\" width=\"12\" x=\"59\" y=\"36.0986\"/><text fill=\"#000000\" font-family=\"sans-serif\" font-size=\"14\" lengthAdjust=\"spacingAndGlyphs\" textLength=\"132\" x=\"290\" y=\"164.8138\">selectedAlternative</text><rect fill=\"#383838\" height=\"12\" style=\"stroke: #F8F8F8; stroke-width: 1.5;\" width=\"12\" x=\"350\" y=\"139.8186\"/><text fill=\"#000000\" font-family=\"sans-serif\" font-size=\"14\" lengthAdjust=\"spacingAndGlyphs\" textLength=\"39\" x=\"215.5\" y=\"164.8138\">result</text><rect fill=\"#383838\" height=\"12\" style=\"stroke: #F8F8F8; stroke-width: 1.5;\" width=\"12\" x=\"229\" y=\"139.8186\"/><!--MD5=[af279d0b31981de989d0e0aa7853359f]\n",
       "@startuml\r\n",
       "skinparam ranksep 8\r\n",
       "skinparam linetype ortho\r\n",
       "skinparam monochrome true\r\n",
       "skinparam classbackgroundcolor white\r\n",
       "skinparam shadowing false\r\n",
       "skinparam wrapWidth 300\r\n",
       "hide circle\r\n",
       "\r\n",
       "rec usage \"engineTradeStudy\" as E1 << analysis>> [[psysml:4b9a9840-0888-40ad-997b-4be591991c45 ]] {\r\n",
       "portin \"studyAlternatives\" as E2  [[psysml:176bf709-9374-41f7-af5d-a9b046d4ad5e ]] \r\n",
       "rec usage \"objectiveFunction\" as E3  <<(T,blue) calculation>> [[psysml:0d158b00-d202-4b1f-90aa-9fc427f4eb2b ]] {\r\n",
       "portout \"result\" as E4  [[psysml:5b5a7b7b-7538-4fc2-96bb-574f08f8230e ]] \r\n",
       "}\r\n",
       "\r\n",
       "portout \"selectedAlternative\" as E5  [[psysml:d0667918-a428-4729-9680-50da29281cd4 ]] \r\n",
       "}\r\n",
       "\r\n",
       "@enduml\r\n",
       "\n",
       "PlantUML version 1.2020.13(Sat Jun 13 12:26:38 UTC 2020)\n",
       "(EPL source distribution)\n",
       "Java Runtime: OpenJDK Runtime Environment\n",
       "JVM: OpenJDK 64-Bit Server VM\n",
       "Default Encoding: UTF-8\n",
       "Language: en\n",
       "Country: null\n",
       "--></g></svg>"
      ]
     },
     "execution_count": 55,
     "metadata": {},
     "output_type": "execute_result"
    }
   ],
   "source": [
    "%viz --style=\"ORTHOLINE\" --view=\"Action\" \"TradeStudyTest\""
   ]
  },
  {
   "cell_type": "code",
   "execution_count": 56,
   "id": "4084b894",
   "metadata": {
    "execution": {
     "iopub.execute_input": "2021-10-03T08:30:40.228908Z",
     "iopub.status.busy": "2021-10-03T08:30:40.228508Z",
     "iopub.status.idle": "2021-10-03T08:30:40.233630Z",
     "shell.execute_reply": "2021-10-03T08:30:40.233915Z"
    }
   },
   "outputs": [
    {
     "data": {
      "image/svg+xml": [
       "<?xml version=\"1.0\" encoding=\"UTF-8\" standalone=\"no\"?><svg xmlns=\"http://www.w3.org/2000/svg\" xmlns:xlink=\"http://www.w3.org/1999/xlink\" contentScriptType=\"application/ecmascript\" contentStyleType=\"text/css\" height=\"12px\" preserveAspectRatio=\"none\" style=\"width:12px;height:12px;\" version=\"1.1\" viewBox=\"0 0 12 12\" width=\"12px\" zoomAndPan=\"magnify\"><defs/><g><!--MD5=[30fc1de5121c5abddedd55b44417fde8]\n",
       "@startuml\r\n",
       "skinparam roundcorner 20\r\n",
       "skinparam BoxPadding 20\r\n",
       "skinparam SequenceBoxBackgroundColor #white\r\n",
       "skinparam style strictuml\r\n",
       "skinparam maxMessageSize 100\r\n",
       "skinparam linetype ortho\r\n",
       "skinparam monochrome true\r\n",
       "skinparam classbackgroundcolor white\r\n",
       "skinparam shadowing false\r\n",
       "skinparam wrapWidth 300\r\n",
       "hide circle\r\n",
       "\r\n",
       "@enduml\r\n",
       "\n",
       "PlantUML version 1.2020.13(Sat Jun 13 12:26:38 UTC 2020)\n",
       "(EPL source distribution)\n",
       "Java Runtime: OpenJDK Runtime Environment\n",
       "JVM: OpenJDK 64-Bit Server VM\n",
       "Default Encoding: UTF-8\n",
       "Language: en\n",
       "Country: null\n",
       "--></g></svg>"
      ]
     },
     "execution_count": 56,
     "metadata": {},
     "output_type": "execute_result"
    }
   ],
   "source": [
    "%viz --style=\"ORTHOLINE\" --view=\"Sequence\" \"TradeStudyTest\""
   ]
  },
  {
   "cell_type": "code",
   "execution_count": 57,
   "id": "bf5f4d4b",
   "metadata": {
    "execution": {
     "iopub.execute_input": "2021-10-03T08:30:40.283385Z",
     "iopub.status.busy": "2021-10-03T08:30:40.282989Z",
     "iopub.status.idle": "2021-10-03T08:30:40.320972Z",
     "shell.execute_reply": "2021-10-03T08:30:40.320615Z"
    }
   },
   "outputs": [
    {
     "data": {
      "image/svg+xml": [
       "<?xml version=\"1.0\" encoding=\"UTF-8\" standalone=\"no\"?><svg xmlns=\"http://www.w3.org/2000/svg\" xmlns:xlink=\"http://www.w3.org/1999/xlink\" contentScriptType=\"application/ecmascript\" contentStyleType=\"text/css\" height=\"497px\" preserveAspectRatio=\"none\" style=\"width:554px;height:497px;\" version=\"1.1\" viewBox=\"0 0 554 497\" width=\"554px\" zoomAndPan=\"magnify\"><defs/><g><!--MD5=[fbc87193dbaf4d95561dea2c320d4a47]\n",
       "cluster E1--><a href=\"psysml:ee7e22b2-7ed6-4f2c-8628-ec59eb221ec4\" target=\"_top\" title=\"psysml:ee7e22b2-7ed6-4f2c-8628-ec59eb221ec4\" xlink:actuate=\"onRequest\" xlink:href=\"psysml:ee7e22b2-7ed6-4f2c-8628-ec59eb221ec4\" xlink:show=\"new\" xlink:title=\"psysml:ee7e22b2-7ed6-4f2c-8628-ec59eb221ec4\" xlink:type=\"simple\"><polygon fill=\"#FFFFFF\" points=\"16,6,132,6,139,28.2969,532,28.2969,532,485,16,485,16,6\" style=\"stroke: #000000; stroke-width: 1.5;\"/><line style=\"stroke: #000000; stroke-width: 1.5;\" x1=\"16\" x2=\"139\" y1=\"28.2969\" y2=\"28.2969\"/><text fill=\"#000000\" font-family=\"sans-serif\" font-size=\"14\" font-weight=\"bold\" lengthAdjust=\"spacingAndGlyphs\" textLength=\"110\" x=\"20\" y=\"20.9951\">TradeStudyTest</text></a><!--MD5=[b4997ac47864f28c2f74865a473b2911]\n",
       "class E2--><a href=\"psysml:6dc2e48d-4c08-4400-bc60-82a531af2780\" target=\"_top\" title=\"psysml:6dc2e48d-4c08-4400-bc60-82a531af2780\" xlink:actuate=\"onRequest\" xlink:href=\"psysml:6dc2e48d-4c08-4400-bc60-82a531af2780\" xlink:show=\"new\" xlink:title=\"psysml:6dc2e48d-4c08-4400-bc60-82a531af2780\" xlink:type=\"simple\"><rect fill=\"#FFFFFF\" height=\"45.9375\" id=\"E2\" style=\"stroke: #383838; stroke-width: 1.5;\" width=\"66\" x=\"196\" y=\"423\"/><text fill=\"#000000\" font-family=\"sans-serif\" font-size=\"12\" font-style=\"italic\" lengthAdjust=\"spacingAndGlyphs\" textLength=\"64\" x=\"197\" y=\"439.1387\">«part def»</text><text fill=\"#000000\" font-family=\"sans-serif\" font-size=\"12\" lengthAdjust=\"spacingAndGlyphs\" textLength=\"43\" x=\"207.5\" y=\"453.1074\">Engine</text><line style=\"stroke: #383838; stroke-width: 1.5;\" x1=\"197\" x2=\"261\" y1=\"460.9375\" y2=\"460.9375\"/></a><!--MD5=[09b614a08d8cba4a07c9adeb5e0fee81]\n",
       "class E3--><a href=\"psysml:3defd9be-3b5d-4c6d-8f79-df776db84250\" target=\"_top\" title=\"psysml:3defd9be-3b5d-4c6d-8f79-df776db84250\" xlink:actuate=\"onRequest\" xlink:href=\"psysml:3defd9be-3b5d-4c6d-8f79-df776db84250\" xlink:show=\"new\" xlink:title=\"psysml:3defd9be-3b5d-4c6d-8f79-df776db84250\" xlink:type=\"simple\"><rect fill=\"#FFFFFF\" height=\"45.9375\" id=\"E3\" rx=\"10\" ry=\"10\" style=\"stroke: #383838; stroke-width: 1.5;\" width=\"108\" x=\"408\" y=\"316\"/><text fill=\"#000000\" font-family=\"sans-serif\" font-size=\"12\" font-style=\"italic\" lengthAdjust=\"spacingAndGlyphs\" textLength=\"40\" x=\"442\" y=\"332.1387\">«part»</text><text fill=\"#000000\" font-family=\"sans-serif\" font-size=\"12\" lengthAdjust=\"spacingAndGlyphs\" textLength=\"102\" x=\"411\" y=\"346.1074\">engine1: Engine</text><line style=\"stroke: #383838; stroke-width: 1.5;\" x1=\"409\" x2=\"515\" y1=\"353.9375\" y2=\"353.9375\"/></a><!--MD5=[ebbe1d658d1005bcc118a6aa81145e00]\n",
       "class E4--><a href=\"psysml:3a9a647b-2fd2-49b6-8a5f-7ce1649088e0\" target=\"_top\" title=\"psysml:3a9a647b-2fd2-49b6-8a5f-7ce1649088e0\" xlink:actuate=\"onRequest\" xlink:href=\"psysml:3a9a647b-2fd2-49b6-8a5f-7ce1649088e0\" xlink:show=\"new\" xlink:title=\"psysml:3a9a647b-2fd2-49b6-8a5f-7ce1649088e0\" xlink:type=\"simple\"><rect fill=\"#FFFFFF\" height=\"45.9375\" id=\"E4\" rx=\"10\" ry=\"10\" style=\"stroke: #383838; stroke-width: 1.5;\" width=\"108\" x=\"265\" y=\"316\"/><text fill=\"#000000\" font-family=\"sans-serif\" font-size=\"12\" font-style=\"italic\" lengthAdjust=\"spacingAndGlyphs\" textLength=\"40\" x=\"299\" y=\"332.1387\">«part»</text><text fill=\"#000000\" font-family=\"sans-serif\" font-size=\"12\" lengthAdjust=\"spacingAndGlyphs\" textLength=\"102\" x=\"268\" y=\"346.1074\">engine2: Engine</text><line style=\"stroke: #383838; stroke-width: 1.5;\" x1=\"266\" x2=\"372\" y1=\"353.9375\" y2=\"353.9375\"/></a><!--MD5=[270fce915f116d4de14055a7c1d9a0f3]\n",
       "class E5--><a href=\"psysml:4b9a9840-0888-40ad-997b-4be591991c45\" target=\"_top\" title=\"psysml:4b9a9840-0888-40ad-997b-4be591991c45\" xlink:actuate=\"onRequest\" xlink:href=\"psysml:4b9a9840-0888-40ad-997b-4be591991c45\" xlink:show=\"new\" xlink:title=\"psysml:4b9a9840-0888-40ad-997b-4be591991c45\" xlink:type=\"simple\"><rect fill=\"#FFFFFF\" height=\"45.9375\" id=\"E5\" rx=\"10\" ry=\"10\" style=\"stroke: #383838; stroke-width: 1.5;\" width=\"199\" x=\"237.5\" y=\"41\"/><text fill=\"#000000\" font-family=\"sans-serif\" font-size=\"12\" font-style=\"italic\" lengthAdjust=\"spacingAndGlyphs\" textLength=\"64\" x=\"305\" y=\"57.1387\">«analysis»</text><text fill=\"#000000\" font-family=\"sans-serif\" font-size=\"12\" lengthAdjust=\"spacingAndGlyphs\" textLength=\"193\" x=\"240.5\" y=\"71.1074\">engineTradeStudy: TradeStudy</text><line style=\"stroke: #383838; stroke-width: 1.5;\" x1=\"238.5\" x2=\"435.5\" y1=\"78.9375\" y2=\"78.9375\"/></a><!--MD5=[60a26617385b1d2d0262a64233df1f8d]\n",
       "class E6--><a href=\"psysml:6d56d509-a272-42e3-905c-0e1bbd246da0\" target=\"_top\" title=\"psysml:6d56d509-a272-42e3-905c-0e1bbd246da0\" xlink:actuate=\"onRequest\" xlink:href=\"psysml:6d56d509-a272-42e3-905c-0e1bbd246da0\" xlink:show=\"new\" xlink:title=\"psysml:6d56d509-a272-42e3-905c-0e1bbd246da0\" xlink:type=\"simple\"><rect fill=\"#FFFFFF\" height=\"45.9375\" id=\"E6\" rx=\"10\" ry=\"10\" style=\"stroke: #383838; stroke-width: 1.5;\" width=\"251\" x=\"76.5\" y=\"164\"/><text fill=\"#000000\" font-family=\"sans-serif\" font-size=\"12\" font-style=\"italic\" lengthAdjust=\"spacingAndGlyphs\" textLength=\"91\" x=\"156.5\" y=\"180.1387\">«requirement»</text><text fill=\"#000000\" font-family=\"sans-serif\" font-size=\"12\" lengthAdjust=\"spacingAndGlyphs\" textLength=\"245\" x=\"79.5\" y=\"194.1074\">tradeStudyObjective: MaximizeObjective</text><line style=\"stroke: #383838; stroke-width: 1.5;\" x1=\"77.5\" x2=\"326.5\" y1=\"201.9375\" y2=\"201.9375\"/></a><!--MD5=[2156ba9850f5573cc1fc38a6a4b2f02b]\n",
       "class E7--><a href=\"psysml:0d158b00-d202-4b1f-90aa-9fc427f4eb2b\" target=\"_top\" title=\"psysml:0d158b00-d202-4b1f-90aa-9fc427f4eb2b\" xlink:actuate=\"onRequest\" xlink:href=\"psysml:0d158b00-d202-4b1f-90aa-9fc427f4eb2b\" xlink:show=\"new\" xlink:title=\"psysml:0d158b00-d202-4b1f-90aa-9fc427f4eb2b\" xlink:type=\"simple\"><rect fill=\"#FFFFFF\" height=\"45.9375\" id=\"E7\" rx=\"10\" ry=\"10\" style=\"stroke: #383838; stroke-width: 1.5;\" width=\"116\" x=\"363\" y=\"164\"/><text fill=\"#000000\" font-family=\"sans-serif\" font-size=\"12\" font-style=\"italic\" lengthAdjust=\"spacingAndGlyphs\" textLength=\"82\" x=\"380\" y=\"180.1387\">«calculation»</text><text fill=\"#000000\" font-family=\"sans-serif\" font-size=\"12\" lengthAdjust=\"spacingAndGlyphs\" textLength=\"110\" x=\"366\" y=\"194.1074\">objectiveFunction</text><line style=\"stroke: #383838; stroke-width: 1.5;\" x1=\"364\" x2=\"478\" y1=\"201.9375\" y2=\"201.9375\"/></a><!--MD5=[b9389687b975829384b498ac4b7476b2]\n",
       "class E8--><a href=\"psysml:e8d66f1b-2710-4767-99ee-f2812ccd7696\" target=\"_top\" title=\"psysml:e8d66f1b-2710-4767-99ee-f2812ccd7696\" xlink:actuate=\"onRequest\" xlink:href=\"psysml:e8d66f1b-2710-4767-99ee-f2812ccd7696\" xlink:show=\"new\" xlink:title=\"psysml:e8d66f1b-2710-4767-99ee-f2812ccd7696\" xlink:type=\"simple\"><rect fill=\"#FFFFFF\" height=\"45.9375\" id=\"E8\" rx=\"10\" ry=\"10\" style=\"stroke: #383838; stroke-width: 1.5;\" width=\"124\" x=\"69\" y=\"316\"/><text fill=\"#000000\" font-family=\"sans-serif\" font-size=\"12\" font-style=\"italic\" lengthAdjust=\"spacingAndGlyphs\" textLength=\"40\" x=\"111\" y=\"332.1387\">«part»</text><text fill=\"#000000\" font-family=\"sans-serif\" font-size=\"12\" lengthAdjust=\"spacingAndGlyphs\" textLength=\"118\" x=\"72\" y=\"346.1074\">alternative: Engine</text><line style=\"stroke: #383838; stroke-width: 1.5;\" x1=\"70\" x2=\"192\" y1=\"353.9375\" y2=\"353.9375\"/></a><!--MD5=[fd4143e9d270a159db93a4ea2a975926]\n",
       "class E9--><a href=\"psysml:d0667918-a428-4729-9680-50da29281cd4\" target=\"_top\" title=\"psysml:d0667918-a428-4729-9680-50da29281cd4\" xlink:actuate=\"onRequest\" xlink:href=\"psysml:d0667918-a428-4729-9680-50da29281cd4\" xlink:show=\"new\" xlink:title=\"psysml:d0667918-a428-4729-9680-50da29281cd4\" xlink:type=\"simple\"><rect fill=\"#FFFFFF\" height=\"45.9375\" id=\"E9\" rx=\"10\" ry=\"10\" style=\"stroke: #383838; stroke-width: 1.5;\" width=\"178\" x=\"289\" y=\"240\"/><text fill=\"#000000\" font-family=\"sans-serif\" font-size=\"12\" font-style=\"italic\" lengthAdjust=\"spacingAndGlyphs\" textLength=\"40\" x=\"358\" y=\"256.1387\">«part»</text><text fill=\"#000000\" font-family=\"sans-serif\" font-size=\"12\" lengthAdjust=\"spacingAndGlyphs\" textLength=\"172\" x=\"292\" y=\"270.1074\">selectedAlternative: Engine</text><line style=\"stroke: #383838; stroke-width: 1.5;\" x1=\"290\" x2=\"466\" y1=\"277.9375\" y2=\"277.9375\"/></a><!--MD5=[05d275557350bfb9b23a4ef7222b4c39]\n",
       "link E3 to E2--><a href=\"psysml:2c927883-7b33-4f30-b07f-44dca6adebf7\" target=\"_top\" title=\"psysml:2c927883-7b33-4f30-b07f-44dca6adebf7\" xlink:actuate=\"onRequest\" xlink:href=\"psysml:2c927883-7b33-4f30-b07f-44dca6adebf7\" xlink:show=\"new\" xlink:title=\"psysml:2c927883-7b33-4f30-b07f-44dca6adebf7\" xlink:type=\"simple\"><path d=\"M462,362.22 C462,393.69 462,446 462,446 C462,446 282.38,446 282.38,446 \" fill=\"none\" id=\"E3-&gt;E2\" style=\"stroke: #383838; stroke-width: 1.0;\"/><polygon fill=\"#FFFFFF\" points=\"262.38,446,281.38,439,281.38,453,262.38,446\" style=\"stroke: #383838; stroke-width: 1.0;\"/><ellipse cx=\"287.08\" cy=\"441\" fill=\"#383838\" rx=\"2\" ry=\"2\" style=\"stroke: #383838; stroke-width: 1.0;\"/><ellipse cx=\"287.08\" cy=\"451\" fill=\"#383838\" rx=\"2\" ry=\"2\" style=\"stroke: #383838; stroke-width: 1.0;\"/></a><!--MD5=[185131fc0dcab0a4505a2ebe144e961b]\n",
       "link E4 to E2--><a href=\"psysml:59e46c20-b41c-4b83-8c8c-eff5ad41f1d7\" target=\"_top\" title=\"psysml:59e46c20-b41c-4b83-8c8c-eff5ad41f1d7\" xlink:actuate=\"onRequest\" xlink:href=\"psysml:59e46c20-b41c-4b83-8c8c-eff5ad41f1d7\" xlink:show=\"new\" xlink:title=\"psysml:59e46c20-b41c-4b83-8c8c-eff5ad41f1d7\" xlink:type=\"simple\"><path d=\"M264.73,347 C255.49,347 248.8,347 248.8,347 C248.8,347 248.8,402.79 248.8,402.79 \" fill=\"none\" id=\"E4-&gt;E2\" style=\"stroke: #383838; stroke-width: 1.0;\"/><polygon fill=\"#FFFFFF\" points=\"248.8,422.79,241.8,403.79,255.8,403.79,248.8,422.79\" style=\"stroke: #383838; stroke-width: 1.0;\"/><ellipse cx=\"243.8\" cy=\"398.09\" fill=\"#383838\" rx=\"2\" ry=\"2\" style=\"stroke: #383838; stroke-width: 1.0;\"/><ellipse cx=\"253.8\" cy=\"398.09\" fill=\"#383838\" rx=\"2\" ry=\"2\" style=\"stroke: #383838; stroke-width: 1.0;\"/></a><!--MD5=[15ebcb19ae302d9b601edb458606d402]\n",
       "link E5 to E2--><a href=\"psysml:d5cbdaa6-c586-4ab8-b2f7-038eda38592d\" target=\"_top\" title=\"psysml:d5cbdaa6-c586-4ab8-b2f7-038eda38592d\" xlink:actuate=\"onRequest\" xlink:href=\"psysml:d5cbdaa6-c586-4ab8-b2f7-038eda38592d\" xlink:show=\"new\" xlink:title=\"psysml:d5cbdaa6-c586-4ab8-b2f7-038eda38592d\" xlink:type=\"simple\"><path d=\"M339.33,87.02 C339.33,130.41 339.33,220 339.33,220 C339.33,220 222.4,220 222.4,220 C222.4,220 222.4,417.67 222.4,417.67 \" fill=\"none\" id=\"E5-&gt;E2\" style=\"stroke: #383838; stroke-width: 1.0; stroke-dasharray: 7.0,7.0;\"/><polygon fill=\"#383838\" points=\"222.4,422.67,226.4,413.67,222.4,417.67,218.4,413.67,222.4,422.67\" style=\"stroke: #383838; stroke-width: 1.0;\"/><text fill=\"#000000\" font-family=\"sans-serif\" font-size=\"13\" lengthAdjust=\"spacingAndGlyphs\" textLength=\"62\" x=\"68\" y=\"267.5669\">«subject»</text></a><!--MD5=[9120cf2e5df3bff93db8f754bbbc09b4]\n",
       "link E5 to E6--><a href=\"psysml:14d02f99-86ef-419d-b64f-b983855c21b7\" target=\"_top\" title=\"psysml:14d02f99-86ef-419d-b64f-b983855c21b7\" xlink:actuate=\"onRequest\" xlink:href=\"psysml:14d02f99-86ef-419d-b64f-b983855c21b7\" xlink:show=\"new\" xlink:title=\"psysml:14d02f99-86ef-419d-b64f-b983855c21b7\" xlink:type=\"simple\"><path d=\"M282.5,87.14 C282.5,87.14 282.5,155.97 282.5,155.97 \" fill=\"none\" id=\"E5-&gt;E6\" style=\"stroke: #383838; stroke-width: 1.0;\"/><polygon fill=\"#383838\" points=\"282.5,163.97,285.5,155.97,279.5,155.97,282.5,163.97\" style=\"stroke: #383838; stroke-width: 1.0;\"/><text fill=\"#000000\" font-family=\"sans-serif\" font-size=\"13\" lengthAdjust=\"spacingAndGlyphs\" textLength=\"73\" x=\"231\" y=\"130.0669\">«objective»</text></a><!--MD5=[452b418e7f8a40397a49b8c0a78acc5b]\n",
       "reverse link E5 to E7--><a href=\"psysml:60238b1f-3640-4bef-bde7-54f879504707\" target=\"_top\" title=\"psysml:60238b1f-3640-4bef-bde7-54f879504707\" xlink:actuate=\"onRequest\" xlink:href=\"psysml:60238b1f-3640-4bef-bde7-54f879504707\" xlink:show=\"new\" xlink:title=\"psysml:60238b1f-3640-4bef-bde7-54f879504707\" xlink:type=\"simple\"><path d=\"M399.75,100.14 C399.75,100.14 399.75,163.97 399.75,163.97 \" fill=\"none\" id=\"E5&lt;-E7\" style=\"stroke: #383838; stroke-width: 1.0;\"/><polygon fill=\"#383838\" points=\"399.75,87.14,395.75,93.14,399.75,99.14,403.75,93.14,399.75,87.14\" style=\"stroke: #383838; stroke-width: 1.0;\"/></a><!--MD5=[dc164f5e8a733ab456ef1add180e9e34]\n",
       "reverse link E7 to E8--><a href=\"psysml:83c02207-4172-44b5-b5b3-edd55ab7c0db\" target=\"_top\" title=\"psysml:83c02207-4172-44b5-b5b3-edd55ab7c0db\" xlink:actuate=\"onRequest\" xlink:href=\"psysml:83c02207-4172-44b5-b5b3-edd55ab7c0db\" xlink:show=\"new\" xlink:title=\"psysml:83c02207-4172-44b5-b5b3-edd55ab7c0db\" xlink:type=\"simple\"><path d=\"M415,223.01 C415,223.01 415,230 415,230 C415,230 134.75,230 134.75,230 C134.75,230 134.75,283.89 134.75,315.88 \" fill=\"none\" id=\"E7&lt;-E8\" style=\"stroke: #383838; stroke-width: 1.0;\"/><polygon fill=\"#FFFFFF\" points=\"415,210.01,411,216.01,415,222.01,419,216.01,415,210.01\" style=\"stroke: #383838; stroke-width: 1.0;\"/><text fill=\"#000000\" font-family=\"sans-serif\" font-size=\"13\" lengthAdjust=\"spacingAndGlyphs\" textLength=\"8\" x=\"126.6828\" y=\"304.744\">1</text></a><!--MD5=[f1f3f9f2fc535e6147756cb86a7f2e32]\n",
       "link E8 to E2--><a href=\"psysml:3fd357fc-9742-4e4a-b08f-00e5f8b92b2e\" target=\"_top\" title=\"psysml:3fd357fc-9742-4e4a-b08f-00e5f8b92b2e\" xlink:actuate=\"onRequest\" xlink:href=\"psysml:3fd357fc-9742-4e4a-b08f-00e5f8b92b2e\" xlink:show=\"new\" xlink:title=\"psysml:3fd357fc-9742-4e4a-b08f-00e5f8b92b2e\" xlink:type=\"simple\"><path d=\"M193.38,332 C202.67,332 209.2,332 209.2,332 C209.2,332 209.2,402.93 209.2,402.93 \" fill=\"none\" id=\"E8-&gt;E2\" style=\"stroke: #383838; stroke-width: 1.0;\"/><polygon fill=\"#FFFFFF\" points=\"209.2,422.93,202.2,403.93,216.2,403.93,209.2,422.93\" style=\"stroke: #383838; stroke-width: 1.0;\"/><ellipse cx=\"204.2\" cy=\"398.23\" fill=\"#383838\" rx=\"2\" ry=\"2\" style=\"stroke: #383838; stroke-width: 1.0;\"/><ellipse cx=\"214.2\" cy=\"398.23\" fill=\"#383838\" rx=\"2\" ry=\"2\" style=\"stroke: #383838; stroke-width: 1.0;\"/></a><!--MD5=[9ae28de373ca99bb8a1b38d63370ca7e]\n",
       "reverse link E5 to E9--><a href=\"psysml:44393528-ee32-422a-b73c-7e5d578e1b67\" target=\"_top\" title=\"psysml:44393528-ee32-422a-b73c-7e5d578e1b67\" xlink:actuate=\"onRequest\" xlink:href=\"psysml:44393528-ee32-422a-b73c-7e5d578e1b67\" xlink:show=\"new\" xlink:title=\"psysml:44393528-ee32-422a-b73c-7e5d578e1b67\" xlink:type=\"simple\"><path d=\"M351.17,100.22 C351.17,100.22 351.17,239.93 351.17,239.93 \" fill=\"none\" id=\"E5&lt;-E9\" style=\"stroke: #383838; stroke-width: 1.0;\"/><polygon fill=\"#FFFFFF\" points=\"351.17,87.22,347.17,93.22,351.17,99.22,355.17,93.22,351.17,87.22\" style=\"stroke: #383838; stroke-width: 1.0;\"/><text fill=\"#000000\" font-family=\"sans-serif\" font-size=\"13\" lengthAdjust=\"spacingAndGlyphs\" textLength=\"8\" x=\"334.8844\" y=\"228.8075\">1</text></a><!--MD5=[5c3bb36fe832a92c7f0e1807dd65209d]\n",
       "link E9 to E2--><a href=\"psysml:fe7d5224-67e7-4f42-a679-f87e330c9f80\" target=\"_top\" title=\"psysml:fe7d5224-67e7-4f42-a679-f87e330c9f80\" xlink:actuate=\"onRequest\" xlink:href=\"psysml:fe7d5224-67e7-4f42-a679-f87e330c9f80\" xlink:show=\"new\" xlink:title=\"psysml:fe7d5224-67e7-4f42-a679-f87e330c9f80\" xlink:type=\"simple\"><path d=\"M288.62,263 C260.01,263 235.6,263 235.6,263 C235.6,263 235.6,402.82 235.6,402.82 \" fill=\"none\" id=\"E9-&gt;E2\" style=\"stroke: #383838; stroke-width: 1.0;\"/><polygon fill=\"#FFFFFF\" points=\"235.6,422.82,228.6,403.82,242.6,403.82,235.6,422.82\" style=\"stroke: #383838; stroke-width: 1.0;\"/><ellipse cx=\"230.6\" cy=\"398.12\" fill=\"#383838\" rx=\"2\" ry=\"2\" style=\"stroke: #383838; stroke-width: 1.0;\"/><ellipse cx=\"240.6\" cy=\"398.12\" fill=\"#383838\" rx=\"2\" ry=\"2\" style=\"stroke: #383838; stroke-width: 1.0;\"/></a><!--MD5=[2e795d4f654d71366bda5ea397e3a4e1]\n",
       "@startuml\r\n",
       "skinparam linetype ortho\r\n",
       "skinparam monochrome true\r\n",
       "skinparam classbackgroundcolor white\r\n",
       "skinparam shadowing false\r\n",
       "skinparam wrapWidth 300\r\n",
       "hide circle\r\n",
       "\r\n",
       "package \"TradeStudyTest\" as E1  [[psysml:ee7e22b2-7ed6-4f2c-8628-ec59eb221ec4 ]]  {\r\n",
       "comp def \"Engine\" as E2  <<(T,blue) part def>> [[psysml:6dc2e48d-4c08-4400-bc60-82a531af2780 ]] {\r\n",
       "}\r\n",
       "comp usage \"engine1: Engine\" as E3  <<(T,blue) part>> [[psysml:3defd9be-3b5d-4c6d-8f79-df776db84250 ]] {\r\n",
       "}\r\n",
       "comp usage \"engine2: Engine\" as E4  <<(T,blue) part>> [[psysml:3a9a647b-2fd2-49b6-8a5f-7ce1649088e0 ]] {\r\n",
       "}\r\n",
       "comp usage \"engineTradeStudy: TradeStudy\" as E5 << analysis>> [[psysml:4b9a9840-0888-40ad-997b-4be591991c45 ]] {\r\n",
       "}\r\n",
       "comp usage \"tradeStudyObjective: MaximizeObjective\" as E6  <<(T,blue) requirement>> [[psysml:6d56d509-a272-42e3-905c-0e1bbd246da0 ]] {\r\n",
       "}\r\n",
       "comp usage \"objectiveFunction\" as E7  <<(T,blue) calculation>> [[psysml:0d158b00-d202-4b1f-90aa-9fc427f4eb2b ]] {\r\n",
       "}\r\n",
       "comp usage \"alternative: Engine\" as E8  <<(T,blue) part>> [[psysml:e8d66f1b-2710-4767-99ee-f2812ccd7696 ]] {\r\n",
       "}\r\n",
       "comp usage \"selectedAlternative: Engine\" as E9  <<(T,blue) part>> [[psysml:d0667918-a428-4729-9680-50da29281cd4 ]] {\r\n",
       "}\r\n",
       "}\r\n",
       "E3 - -:|> E2 [[psysml:2c927883-7b33-4f30-b07f-44dca6adebf7 ]] \r\n",
       "E4 - -:|> E2 [[psysml:59e46c20-b41c-4b83-8c8c-eff5ad41f1d7 ]] \r\n",
       "E5 ..> E2 [[psysml:d5cbdaa6-c586-4ab8-b2f7-038eda38592d ]] : <<subject>>\r\n",
       "E5 - ->> E6 [[psysml:14d02f99-86ef-419d-b64f-b983855c21b7 ]] : <<objective>>\r\n",
       "E5 *- - E7 [[psysml:60238b1f-3640-4bef-bde7-54f879504707 ]] \r\n",
       "E7 o- - \"1\"E8 [[psysml:83c02207-4172-44b5-b5b3-edd55ab7c0db ]] \r\n",
       "E8 - -:|> E2 [[psysml:3fd357fc-9742-4e4a-b08f-00e5f8b92b2e ]] \r\n",
       "E5 o- - \"1\"E9 [[psysml:44393528-ee32-422a-b73c-7e5d578e1b67 ]] \r\n",
       "E9 - -:|> E2 [[psysml:fe7d5224-67e7-4f42-a679-f87e330c9f80 ]] \r\n",
       "@enduml\r\n",
       "\n",
       "PlantUML version 1.2020.13(Sat Jun 13 12:26:38 UTC 2020)\n",
       "(EPL source distribution)\n",
       "Java Runtime: OpenJDK Runtime Environment\n",
       "JVM: OpenJDK 64-Bit Server VM\n",
       "Default Encoding: UTF-8\n",
       "Language: en\n",
       "Country: null\n",
       "--></g></svg>"
      ]
     },
     "execution_count": 57,
     "metadata": {},
     "output_type": "execute_result"
    }
   ],
   "source": [
    "%viz --style=\"ORTHOLINE\" --view=\"MIXED\" \"TradeStudyTest\""
   ]
  }
 ],
 "metadata": {
  "kernelspec": {
   "display_name": "SysML",
   "language": "sysml",
   "name": "sysml"
  },
  "language_info": {
   "codemirror_mode": "sysml",
   "file_extension": ".sysml",
   "mimetype": "text/x-sysml",
   "name": "SysML",
   "pygments_lexer": "java",
   "version": "1.0.0"
  }
 },
 "nbformat": 4,
 "nbformat_minor": 5
}
