{
 "cells": [
  {
   "cell_type": "markdown",
   "id": "c8466557",
   "metadata": {},
   "source": [
    "# SysML v2 Test Suite\n",
    "\n",
    "This can notebook can be cleared using menu `Edit --> Clear All Outputs` and then all cells can be\n",
    "run using menu `Run --> Run All Cells`.\n",
    "\n",
    "**WARNING**: This file is generated, all modifications here will be ignored.\n"
   ]
  },
  {
   "cell_type": "markdown",
   "id": "4ab82a91",
   "metadata": {},
   "source": [
    "## File: ../../sysml/src/examples/Simple Tests/TradeStudyTest.sysml"
   ]
  },
  {
   "cell_type": "code",
   "execution_count": 1,
   "id": "5793b185",
   "metadata": {
    "execution": {
     "iopub.execute_input": "2021-09-27T07:19:32.940361Z",
     "iopub.status.busy": "2021-09-27T07:19:32.939308Z",
     "iopub.status.idle": "2021-09-27T07:19:33.367195Z",
     "shell.execute_reply": "2021-09-27T07:19:33.366898Z"
    }
   },
   "outputs": [
    {
     "data": {
      "text/plain": [
       "Package TradeStudyTest (78575f86-63db-4524-8d77-13f5033f7836)\n"
      ]
     },
     "execution_count": 1,
     "metadata": {},
     "output_type": "execute_result"
    }
   ],
   "source": [
    "package TradeStudyTest {\n",
    "\timport ScalarValues::Real;\n",
    "\timport TradeStudies::*;\n",
    "\t\n",
    "\tpart def Engine;\n",
    "\tpart engine1: Engine;\n",
    "\tpart engine2: Engine;\n",
    "\t\n",
    "\tanalysis engineTradeStudy : TradeStudy {\n",
    "\t\tsubject : Engine[1..*] = (engine1, engine2);\n",
    "\t\tobjective : MaximizeObjective;\n",
    "\n",
    "\t\tcalc :>> objectiveFunction {\n",
    "\t\t\tin part : Engine;\n",
    "\t\t\treturn : Real;\n",
    "\t\t}\n",
    "\t\t\n",
    "\t\treturn part : Engine;\n",
    "\t}\n",
    "\t\n",
    "}"
   ]
  },
  {
   "cell_type": "code",
   "execution_count": 2,
   "id": "d7fbb342",
   "metadata": {
    "execution": {
     "iopub.execute_input": "2021-09-27T07:19:33.419464Z",
     "iopub.status.busy": "2021-09-27T07:19:33.419126Z",
     "iopub.status.idle": "2021-09-27T07:19:33.895797Z",
     "shell.execute_reply": "2021-09-27T07:19:33.894175Z"
    }
   },
   "outputs": [
    {
     "data": {
      "image/svg+xml": [
       "<?xml version=\"1.0\" encoding=\"UTF-8\" standalone=\"no\"?><svg xmlns=\"http://www.w3.org/2000/svg\" xmlns:xlink=\"http://www.w3.org/1999/xlink\" contentScriptType=\"application/ecmascript\" contentStyleType=\"text/css\" height=\"497px\" preserveAspectRatio=\"none\" style=\"width:556px;height:497px;\" version=\"1.1\" viewBox=\"0 0 556 497\" width=\"556px\" zoomAndPan=\"magnify\"><defs/><g><!--MD5=[fbc87193dbaf4d95561dea2c320d4a47]\n",
       "cluster E1--><a href=\"psysml:e59f1b4e-bf48-44e5-8b03-de7ba4c0da2b\" target=\"_top\" title=\"psysml:e59f1b4e-bf48-44e5-8b03-de7ba4c0da2b\" xlink:actuate=\"onRequest\" xlink:href=\"psysml:e59f1b4e-bf48-44e5-8b03-de7ba4c0da2b\" xlink:show=\"new\" xlink:title=\"psysml:e59f1b4e-bf48-44e5-8b03-de7ba4c0da2b\" xlink:type=\"simple\"><polygon fill=\"#FFFFFF\" points=\"18.32,6,134.32,6,141.32,28.2969,534.32,28.2969,534.32,485,18.32,485,18.32,6\" style=\"stroke: #000000; stroke-width: 1.5;\"/><line style=\"stroke: #000000; stroke-width: 1.5;\" x1=\"18.32\" x2=\"141.32\" y1=\"28.2969\" y2=\"28.2969\"/><text fill=\"#000000\" font-family=\"sans-serif\" font-size=\"14\" font-weight=\"bold\" lengthAdjust=\"spacingAndGlyphs\" textLength=\"110\" x=\"22.32\" y=\"20.9951\">TradeStudyTest</text></a><!--MD5=[b4997ac47864f28c2f74865a473b2911]\n",
       "class E2--><a href=\"psysml:8032ee8b-b45e-4aab-a334-ddc7f77ca09b\" target=\"_top\" title=\"psysml:8032ee8b-b45e-4aab-a334-ddc7f77ca09b\" xlink:actuate=\"onRequest\" xlink:href=\"psysml:8032ee8b-b45e-4aab-a334-ddc7f77ca09b\" xlink:show=\"new\" xlink:title=\"psysml:8032ee8b-b45e-4aab-a334-ddc7f77ca09b\" xlink:type=\"simple\"><rect fill=\"#FFFFFF\" height=\"45.9375\" id=\"E2\" style=\"stroke: #383838; stroke-width: 1.5;\" width=\"66\" x=\"198.32\" y=\"423\"/><text fill=\"#000000\" font-family=\"sans-serif\" font-size=\"12\" font-style=\"italic\" lengthAdjust=\"spacingAndGlyphs\" textLength=\"64\" x=\"199.32\" y=\"439.1387\">«part def»</text><text fill=\"#000000\" font-family=\"sans-serif\" font-size=\"12\" lengthAdjust=\"spacingAndGlyphs\" textLength=\"43\" x=\"209.82\" y=\"453.1074\">Engine</text><line style=\"stroke: #383838; stroke-width: 1.5;\" x1=\"199.32\" x2=\"263.32\" y1=\"460.9375\" y2=\"460.9375\"/></a><!--MD5=[09b614a08d8cba4a07c9adeb5e0fee81]\n",
       "class E3--><a href=\"psysml:d1c59f8e-91b7-4873-9a7c-d548f1a74ff0\" target=\"_top\" title=\"psysml:d1c59f8e-91b7-4873-9a7c-d548f1a74ff0\" xlink:actuate=\"onRequest\" xlink:href=\"psysml:d1c59f8e-91b7-4873-9a7c-d548f1a74ff0\" xlink:show=\"new\" xlink:title=\"psysml:d1c59f8e-91b7-4873-9a7c-d548f1a74ff0\" xlink:type=\"simple\"><rect fill=\"#FFFFFF\" height=\"45.9375\" id=\"E3\" rx=\"10\" ry=\"10\" style=\"stroke: #383838; stroke-width: 1.5;\" width=\"108\" x=\"410.32\" y=\"316\"/><text fill=\"#000000\" font-family=\"sans-serif\" font-size=\"12\" font-style=\"italic\" lengthAdjust=\"spacingAndGlyphs\" textLength=\"40\" x=\"444.32\" y=\"332.1387\">«part»</text><text fill=\"#000000\" font-family=\"sans-serif\" font-size=\"12\" lengthAdjust=\"spacingAndGlyphs\" textLength=\"102\" x=\"413.32\" y=\"346.1074\">engine1: Engine</text><line style=\"stroke: #383838; stroke-width: 1.5;\" x1=\"411.32\" x2=\"517.32\" y1=\"353.9375\" y2=\"353.9375\"/></a><!--MD5=[ebbe1d658d1005bcc118a6aa81145e00]\n",
       "class E4--><a href=\"psysml:b8b914f7-6e3e-418c-a7c7-b0f9195d6204\" target=\"_top\" title=\"psysml:b8b914f7-6e3e-418c-a7c7-b0f9195d6204\" xlink:actuate=\"onRequest\" xlink:href=\"psysml:b8b914f7-6e3e-418c-a7c7-b0f9195d6204\" xlink:show=\"new\" xlink:title=\"psysml:b8b914f7-6e3e-418c-a7c7-b0f9195d6204\" xlink:type=\"simple\"><rect fill=\"#FFFFFF\" height=\"45.9375\" id=\"E4\" rx=\"10\" ry=\"10\" style=\"stroke: #383838; stroke-width: 1.5;\" width=\"108\" x=\"267.32\" y=\"316\"/><text fill=\"#000000\" font-family=\"sans-serif\" font-size=\"12\" font-style=\"italic\" lengthAdjust=\"spacingAndGlyphs\" textLength=\"40\" x=\"301.32\" y=\"332.1387\">«part»</text><text fill=\"#000000\" font-family=\"sans-serif\" font-size=\"12\" lengthAdjust=\"spacingAndGlyphs\" textLength=\"102\" x=\"270.32\" y=\"346.1074\">engine2: Engine</text><line style=\"stroke: #383838; stroke-width: 1.5;\" x1=\"268.32\" x2=\"374.32\" y1=\"353.9375\" y2=\"353.9375\"/></a><!--MD5=[270fce915f116d4de14055a7c1d9a0f3]\n",
       "class E5--><a href=\"psysml:d010e11c-db6d-479b-b98e-aa7ac12f08dc\" target=\"_top\" title=\"psysml:d010e11c-db6d-479b-b98e-aa7ac12f08dc\" xlink:actuate=\"onRequest\" xlink:href=\"psysml:d010e11c-db6d-479b-b98e-aa7ac12f08dc\" xlink:show=\"new\" xlink:title=\"psysml:d010e11c-db6d-479b-b98e-aa7ac12f08dc\" xlink:type=\"simple\"><rect fill=\"#FFFFFF\" height=\"45.9375\" id=\"E5\" rx=\"10\" ry=\"10\" style=\"stroke: #383838; stroke-width: 1.5;\" width=\"199\" x=\"239.82\" y=\"41\"/><text fill=\"#000000\" font-family=\"sans-serif\" font-size=\"12\" font-style=\"italic\" lengthAdjust=\"spacingAndGlyphs\" textLength=\"64\" x=\"307.32\" y=\"57.1387\">«analysis»</text><text fill=\"#000000\" font-family=\"sans-serif\" font-size=\"12\" lengthAdjust=\"spacingAndGlyphs\" textLength=\"193\" x=\"242.82\" y=\"71.1074\">engineTradeStudy: TradeStudy</text><line style=\"stroke: #383838; stroke-width: 1.5;\" x1=\"240.82\" x2=\"437.82\" y1=\"78.9375\" y2=\"78.9375\"/></a><!--MD5=[60a26617385b1d2d0262a64233df1f8d]\n",
       "class E6--><a href=\"psysml:baa50d6d-f728-4fdb-a3d8-0324d2e9c263\" target=\"_top\" title=\"psysml:baa50d6d-f728-4fdb-a3d8-0324d2e9c263\" xlink:actuate=\"onRequest\" xlink:href=\"psysml:baa50d6d-f728-4fdb-a3d8-0324d2e9c263\" xlink:show=\"new\" xlink:title=\"psysml:baa50d6d-f728-4fdb-a3d8-0324d2e9c263\" xlink:type=\"simple\"><rect fill=\"#FFFFFF\" height=\"45.9375\" id=\"E6\" rx=\"10\" ry=\"10\" style=\"stroke: #383838; stroke-width: 1.5;\" width=\"251\" x=\"78.82\" y=\"164\"/><text fill=\"#000000\" font-family=\"sans-serif\" font-size=\"12\" font-style=\"italic\" lengthAdjust=\"spacingAndGlyphs\" textLength=\"91\" x=\"158.82\" y=\"180.1387\">«requirement»</text><text fill=\"#000000\" font-family=\"sans-serif\" font-size=\"12\" lengthAdjust=\"spacingAndGlyphs\" textLength=\"245\" x=\"81.82\" y=\"194.1074\">tradeStudyObjective: MaximizeObjective</text><line style=\"stroke: #383838; stroke-width: 1.5;\" x1=\"79.82\" x2=\"328.82\" y1=\"201.9375\" y2=\"201.9375\"/></a><!--MD5=[2156ba9850f5573cc1fc38a6a4b2f02b]\n",
       "class E7--><a href=\"psysml:c3bcbf7c-d2b8-4beb-b9e4-ef0b91eba9be\" target=\"_top\" title=\"psysml:c3bcbf7c-d2b8-4beb-b9e4-ef0b91eba9be\" xlink:actuate=\"onRequest\" xlink:href=\"psysml:c3bcbf7c-d2b8-4beb-b9e4-ef0b91eba9be\" xlink:show=\"new\" xlink:title=\"psysml:c3bcbf7c-d2b8-4beb-b9e4-ef0b91eba9be\" xlink:type=\"simple\"><rect fill=\"#FFFFFF\" height=\"45.9375\" id=\"E7\" rx=\"10\" ry=\"10\" style=\"stroke: #383838; stroke-width: 1.5;\" width=\"116\" x=\"365.32\" y=\"164\"/><text fill=\"#000000\" font-family=\"sans-serif\" font-size=\"12\" font-style=\"italic\" lengthAdjust=\"spacingAndGlyphs\" textLength=\"82\" x=\"382.32\" y=\"180.1387\">«calculation»</text><text fill=\"#000000\" font-family=\"sans-serif\" font-size=\"12\" lengthAdjust=\"spacingAndGlyphs\" textLength=\"110\" x=\"368.32\" y=\"194.1074\">objectiveFunction</text><line style=\"stroke: #383838; stroke-width: 1.5;\" x1=\"366.32\" x2=\"480.32\" y1=\"201.9375\" y2=\"201.9375\"/></a><!--MD5=[b9389687b975829384b498ac4b7476b2]\n",
       "class E8--><a href=\"psysml:c18a795f-fd76-4ffb-a70d-e612388b917b\" target=\"_top\" title=\"psysml:c18a795f-fd76-4ffb-a70d-e612388b917b\" xlink:actuate=\"onRequest\" xlink:href=\"psysml:c18a795f-fd76-4ffb-a70d-e612388b917b\" xlink:show=\"new\" xlink:title=\"psysml:c18a795f-fd76-4ffb-a70d-e612388b917b\" xlink:type=\"simple\"><rect fill=\"#FFFFFF\" height=\"45.9375\" id=\"E8\" rx=\"10\" ry=\"10\" style=\"stroke: #383838; stroke-width: 1.5;\" width=\"124\" x=\"71.32\" y=\"316\"/><text fill=\"#000000\" font-family=\"sans-serif\" font-size=\"12\" font-style=\"italic\" lengthAdjust=\"spacingAndGlyphs\" textLength=\"40\" x=\"113.32\" y=\"332.1387\">«part»</text><text fill=\"#000000\" font-family=\"sans-serif\" font-size=\"12\" lengthAdjust=\"spacingAndGlyphs\" textLength=\"118\" x=\"74.32\" y=\"346.1074\">alternative: Engine</text><line style=\"stroke: #383838; stroke-width: 1.5;\" x1=\"72.32\" x2=\"194.32\" y1=\"353.9375\" y2=\"353.9375\"/></a><!--MD5=[fd4143e9d270a159db93a4ea2a975926]\n",
       "class E9--><a href=\"psysml:854815c3-8ae1-4c3d-a371-f12eec0f41ab\" target=\"_top\" title=\"psysml:854815c3-8ae1-4c3d-a371-f12eec0f41ab\" xlink:actuate=\"onRequest\" xlink:href=\"psysml:854815c3-8ae1-4c3d-a371-f12eec0f41ab\" xlink:show=\"new\" xlink:title=\"psysml:854815c3-8ae1-4c3d-a371-f12eec0f41ab\" xlink:type=\"simple\"><rect fill=\"#FFFFFF\" height=\"45.9375\" id=\"E9\" rx=\"10\" ry=\"10\" style=\"stroke: #383838; stroke-width: 1.5;\" width=\"178\" x=\"291.32\" y=\"240\"/><text fill=\"#000000\" font-family=\"sans-serif\" font-size=\"12\" font-style=\"italic\" lengthAdjust=\"spacingAndGlyphs\" textLength=\"40\" x=\"360.32\" y=\"256.1387\">«part»</text><text fill=\"#000000\" font-family=\"sans-serif\" font-size=\"12\" lengthAdjust=\"spacingAndGlyphs\" textLength=\"172\" x=\"294.32\" y=\"270.1074\">selectedAlternative: Engine</text><line style=\"stroke: #383838; stroke-width: 1.5;\" x1=\"292.32\" x2=\"468.32\" y1=\"277.9375\" y2=\"277.9375\"/></a><!--MD5=[05d275557350bfb9b23a4ef7222b4c39]\n",
       "link E3 to E2--><a href=\"psysml:a477e10c-c644-4ab8-a0d7-73b747f4931b\" target=\"_top\" title=\"psysml:a477e10c-c644-4ab8-a0d7-73b747f4931b\" xlink:actuate=\"onRequest\" xlink:href=\"psysml:a477e10c-c644-4ab8-a0d7-73b747f4931b\" xlink:show=\"new\" xlink:title=\"psysml:a477e10c-c644-4ab8-a0d7-73b747f4931b\" xlink:type=\"simple\"><path d=\"M415.48,362.01 C376.57,379.54 322.27,404.01 282.71,421.84 \" fill=\"none\" id=\"E3-&gt;E2\" style=\"stroke: #383838; stroke-width: 1.0;\"/><polygon fill=\"#FFFFFF\" points=\"264.34,430.12,278.7866,415.9321,284.5383,428.696,264.34,430.12\" style=\"stroke: #383838; stroke-width: 1.0;\"/><ellipse cx=\"284.805\" cy=\"415.4137\" fill=\"#383838\" rx=\"2\" ry=\"2\" style=\"stroke: #383838; stroke-width: 1.0;\"/><ellipse cx=\"288.9134\" cy=\"424.5308\" fill=\"#383838\" rx=\"2\" ry=\"2\" style=\"stroke: #383838; stroke-width: 1.0;\"/></a><!--MD5=[185131fc0dcab0a4505a2ebe144e961b]\n",
       "link E4 to E2--><a href=\"psysml:006a8138-edc7-4443-807d-fbbb291c6f87\" target=\"_top\" title=\"psysml:006a8138-edc7-4443-807d-fbbb291c6f87\" xlink:actuate=\"onRequest\" xlink:href=\"psysml:006a8138-edc7-4443-807d-fbbb291c6f87\" xlink:show=\"new\" xlink:title=\"psysml:006a8138-edc7-4443-807d-fbbb291c6f87\" xlink:type=\"simple\"><path d=\"M302.45,362.01 C291.25,375.08 276.74,392.01 263.74,407.17 \" fill=\"none\" id=\"E4-&gt;E2\" style=\"stroke: #383838; stroke-width: 1.0;\"/><polygon fill=\"#FFFFFF\" points=\"250.47,422.66,257.5188,403.678,268.1491,412.7883,250.47,422.66\" style=\"stroke: #383838; stroke-width: 1.0;\"/><ellipse cx=\"262.7466\" cy=\"400.6515\" fill=\"#383838\" rx=\"2\" ry=\"2\" style=\"stroke: #383838; stroke-width: 1.0;\"/><ellipse cx=\"270.3396\" cy=\"407.1588\" fill=\"#383838\" rx=\"2\" ry=\"2\" style=\"stroke: #383838; stroke-width: 1.0;\"/></a><!--MD5=[15ebcb19ae302d9b601edb458606d402]\n",
       "link E5 to E2--><a href=\"psysml:0f7006cc-acd6-40d1-b198-a80e8f08765e\" target=\"_top\" title=\"psysml:0f7006cc-acd6-40d1-b198-a80e8f08765e\" xlink:actuate=\"onRequest\" xlink:href=\"psysml:0f7006cc-acd6-40d1-b198-a80e8f08765e\" xlink:show=\"new\" xlink:title=\"psysml:0f7006cc-acd6-40d1-b198-a80e8f08765e\" xlink:type=\"simple\"><path d=\"M239.76,73.22 C177.99,83.96 102.74,108.45 61.32,164 C8.68,234.61 6,287.72 53.32,362 C83.95,410.08 150.5,430.76 192.99,439.32 \" fill=\"none\" id=\"E5-&gt;E2\" style=\"stroke: #383838; stroke-width: 1.0; stroke-dasharray: 7.0,7.0;\"/><polygon fill=\"#383838\" points=\"198.04,440.31,189.9738,434.6588,193.1327,439.3514,188.4401,442.5104,198.04,440.31\" style=\"stroke: #383838; stroke-width: 1.0;\"/><text fill=\"#000000\" font-family=\"sans-serif\" font-size=\"13\" lengthAdjust=\"spacingAndGlyphs\" textLength=\"62\" x=\"24.32\" y=\"267.5669\">«subject»</text></a><!--MD5=[9120cf2e5df3bff93db8f754bbbc09b4]\n",
       "link E5 to E6--><a href=\"psysml:33b70aea-82ec-44f7-8a12-3ec54376cb03\" target=\"_top\" title=\"psysml:33b70aea-82ec-44f7-8a12-3ec54376cb03\" xlink:actuate=\"onRequest\" xlink:href=\"psysml:33b70aea-82ec-44f7-8a12-3ec54376cb03\" xlink:show=\"new\" xlink:title=\"psysml:33b70aea-82ec-44f7-8a12-3ec54376cb03\" xlink:type=\"simple\"><path d=\"M314.56,87.19 C292.2,107.23 259.21,136.8 235.15,158.37 \" fill=\"none\" id=\"E5-&gt;E6\" style=\"stroke: #383838; stroke-width: 1.0;\"/><polygon fill=\"#383838\" points=\"228.92,163.95,236.8786,160.8419,232.8725,156.3752,228.92,163.95\" style=\"stroke: #383838; stroke-width: 1.0;\"/><text fill=\"#000000\" font-family=\"sans-serif\" font-size=\"13\" lengthAdjust=\"spacingAndGlyphs\" textLength=\"73\" x=\"280.32\" y=\"130.0669\">«objective»</text></a><!--MD5=[452b418e7f8a40397a49b8c0a78acc5b]\n",
       "reverse link E5 to E7--><a href=\"psysml:9ca3a684-dbe3-4511-9e21-3cef746855e2\" target=\"_top\" title=\"psysml:9ca3a684-dbe3-4511-9e21-3cef746855e2\" xlink:actuate=\"onRequest\" xlink:href=\"psysml:9ca3a684-dbe3-4511-9e21-3cef746855e2\" xlink:show=\"new\" xlink:title=\"psysml:9ca3a684-dbe3-4511-9e21-3cef746855e2\" xlink:type=\"simple\"><path d=\"M362.14,97.88 C376.71,118.86 395.19,145.48 408.01,163.95 \" fill=\"none\" id=\"E5&lt;-E7\" style=\"stroke: #383838; stroke-width: 1.0;\"/><polygon fill=\"#383838\" points=\"354.73,87.19,354.864,94.3999,361.5708,97.0492,361.4368,89.8393,354.73,87.19\" style=\"stroke: #383838; stroke-width: 1.0;\"/></a><!--MD5=[dc164f5e8a733ab456ef1add180e9e34]\n",
       "reverse link E7 to E8--><a href=\"psysml:8f87ba26-7a36-4a80-9ed1-e463a907c7c6\" target=\"_top\" title=\"psysml:8f87ba26-7a36-4a80-9ed1-e463a907c7c6\" xlink:actuate=\"onRequest\" xlink:href=\"psysml:8f87ba26-7a36-4a80-9ed1-e463a907c7c6\" xlink:show=\"new\" xlink:title=\"psysml:8f87ba26-7a36-4a80-9ed1-e463a907c7c6\" xlink:type=\"simple\"><path d=\"M352.67,208.29 C327.33,216.69 298.96,227.44 274.32,240 C231.96,261.6 187.65,294.33 160.26,315.93 \" fill=\"none\" id=\"E7&lt;-E8\" style=\"stroke: #383838; stroke-width: 1.0;\"/><polygon fill=\"#FFFFFF\" points=\"365.22,204.24,358.2818,202.2749,353.7994,207.9236,360.7376,209.8887,365.22,204.24\" style=\"stroke: #383838; stroke-width: 1.0;\"/><text fill=\"#000000\" font-family=\"sans-serif\" font-size=\"13\" lengthAdjust=\"spacingAndGlyphs\" textLength=\"8\" x=\"158.4251\" y=\"304.8075\">1</text></a><!--MD5=[f1f3f9f2fc535e6147756cb86a7f2e32]\n",
       "link E8 to E2--><a href=\"psysml:bdf7178e-b1d2-4aa0-b7b5-71013aa1f7a9\" target=\"_top\" title=\"psysml:bdf7178e-b1d2-4aa0-b7b5-71013aa1f7a9\" xlink:actuate=\"onRequest\" xlink:href=\"psysml:bdf7178e-b1d2-4aa0-b7b5-71013aa1f7a9\" xlink:show=\"new\" xlink:title=\"psysml:bdf7178e-b1d2-4aa0-b7b5-71013aa1f7a9\" xlink:type=\"simple\"><path d=\"M153.86,362.01 C166.19,375.22 182.2,392.38 196.46,407.65 \" fill=\"none\" id=\"E8-&gt;E2\" style=\"stroke: #383838; stroke-width: 1.0;\"/><polygon fill=\"#FFFFFF\" points=\"210.47,422.66,192.3921,413.5393,202.6305,403.9907,210.47,422.66\" style=\"stroke: #383838; stroke-width: 1.0;\"/><ellipse cx=\"189.9671\" cy=\"408.0067\" fill=\"#383838\" rx=\"2\" ry=\"2\" style=\"stroke: #383838; stroke-width: 1.0;\"/><ellipse cx=\"197.2802\" cy=\"401.1863\" fill=\"#383838\" rx=\"2\" ry=\"2\" style=\"stroke: #383838; stroke-width: 1.0;\"/></a><!--MD5=[9ae28de373ca99bb8a1b38d63370ca7e]\n",
       "reverse link E5 to E9--><a href=\"psysml:a1ab5fdf-7d24-4497-9ea2-3c4d95277eba\" target=\"_top\" title=\"psysml:a1ab5fdf-7d24-4497-9ea2-3c4d95277eba\" xlink:actuate=\"onRequest\" xlink:href=\"psysml:a1ab5fdf-7d24-4497-9ea2-3c4d95277eba\" xlink:show=\"new\" xlink:title=\"psysml:a1ab5fdf-7d24-4497-9ea2-3c4d95277eba\" xlink:type=\"simple\"><path d=\"M416.08,92.77 C447.78,108.48 481.27,131.61 499.32,164 C509.27,181.86 510.51,192.89 499.32,210 C490.86,222.92 478.41,232.65 464.71,239.97 \" fill=\"none\" id=\"E5&lt;-E9\" style=\"stroke: #383838; stroke-width: 1.0;\"/><polygon fill=\"#FFFFFF\" points=\"404.06,87.11,407.7814,93.2867,414.9142,92.2272,411.1928,86.0505,404.06,87.11\" style=\"stroke: #383838; stroke-width: 1.0;\"/><text fill=\"#000000\" font-family=\"sans-serif\" font-size=\"13\" lengthAdjust=\"spacingAndGlyphs\" textLength=\"8\" x=\"477.3099\" y=\"229.2386\">1</text></a><!--MD5=[5c3bb36fe832a92c7f0e1807dd65209d]\n",
       "link E9 to E2--><a href=\"psysml:9bedaae2-b2c6-4d70-8011-f34c154ea99f\" target=\"_top\" title=\"psysml:9bedaae2-b2c6-4d70-8011-f34c154ea99f\" xlink:actuate=\"onRequest\" xlink:href=\"psysml:9bedaae2-b2c6-4d70-8011-f34c154ea99f\" xlink:show=\"new\" xlink:title=\"psysml:9bedaae2-b2c6-4d70-8011-f34c154ea99f\" xlink:type=\"simple\"><path d=\"M291.19,285.15 C275.57,292.56 260.94,302.55 250.32,316 C231.17,340.25 227.04,375.32 227.36,402.77 \" fill=\"none\" id=\"E9-&gt;E2\" style=\"stroke: #383838; stroke-width: 1.0;\"/><polygon fill=\"#FFFFFF\" points=\"228.36,422.81,220.4186,404.1838,234.4011,403.4837,228.36,422.81\" style=\"stroke: #383838; stroke-width: 1.0;\"/><ellipse cx=\"222.131\" cy=\"398.3909\" fill=\"#383838\" rx=\"2\" ry=\"2\" style=\"stroke: #383838; stroke-width: 1.0;\"/><ellipse cx=\"232.1185\" cy=\"397.8909\" fill=\"#383838\" rx=\"2\" ry=\"2\" style=\"stroke: #383838; stroke-width: 1.0;\"/></a><!--MD5=[23dc4afe410b22afde08a94a6e5ef8c5]\n",
       "@startuml\r\n",
       " skinparam monochrome true\r\n",
       "skinparam classbackgroundcolor white\r\n",
       "skinparam shadowing false\r\n",
       "skinparam wrapWidth 300\r\n",
       "hide circle\r\n",
       "\r\n",
       "package \"TradeStudyTest\" as E1  [[psysml:e59f1b4e-bf48-44e5-8b03-de7ba4c0da2b ]]  {\r\n",
       "comp def \"Engine\" as E2  <<(T,blue) part def>> [[psysml:8032ee8b-b45e-4aab-a334-ddc7f77ca09b ]] {\r\n",
       "}\r\n",
       "comp usage \"engine1: Engine\" as E3  <<(T,blue) part>> [[psysml:d1c59f8e-91b7-4873-9a7c-d548f1a74ff0 ]] {\r\n",
       "}\r\n",
       "comp usage \"engine2: Engine\" as E4  <<(T,blue) part>> [[psysml:b8b914f7-6e3e-418c-a7c7-b0f9195d6204 ]] {\r\n",
       "}\r\n",
       "comp usage \"engineTradeStudy: TradeStudy\" as E5 << analysis>> [[psysml:d010e11c-db6d-479b-b98e-aa7ac12f08dc ]] {\r\n",
       "}\r\n",
       "comp usage \"tradeStudyObjective: MaximizeObjective\" as E6  <<(T,blue) requirement>> [[psysml:baa50d6d-f728-4fdb-a3d8-0324d2e9c263 ]] {\r\n",
       "}\r\n",
       "comp usage \"objectiveFunction\" as E7  <<(T,blue) calculation>> [[psysml:c3bcbf7c-d2b8-4beb-b9e4-ef0b91eba9be ]] {\r\n",
       "}\r\n",
       "comp usage \"alternative: Engine\" as E8  <<(T,blue) part>> [[psysml:c18a795f-fd76-4ffb-a70d-e612388b917b ]] {\r\n",
       "}\r\n",
       "comp usage \"selectedAlternative: Engine\" as E9  <<(T,blue) part>> [[psysml:854815c3-8ae1-4c3d-a371-f12eec0f41ab ]] {\r\n",
       "}\r\n",
       "}\r\n",
       "E3 - -:|> E2 [[psysml:a477e10c-c644-4ab8-a0d7-73b747f4931b ]] \r\n",
       "E4 - -:|> E2 [[psysml:006a8138-edc7-4443-807d-fbbb291c6f87 ]] \r\n",
       "E5 ..> E2 [[psysml:0f7006cc-acd6-40d1-b198-a80e8f08765e ]] : <<subject>>\r\n",
       "E5 - ->> E6 [[psysml:33b70aea-82ec-44f7-8a12-3ec54376cb03 ]] : <<objective>>\r\n",
       "E5 *- - E7 [[psysml:9ca3a684-dbe3-4511-9e21-3cef746855e2 ]] \r\n",
       "E7 o- - \"1\"E8 [[psysml:8f87ba26-7a36-4a80-9ed1-e463a907c7c6 ]] \r\n",
       "E8 - -:|> E2 [[psysml:bdf7178e-b1d2-4aa0-b7b5-71013aa1f7a9 ]] \r\n",
       "E5 o- - \"1\"E9 [[psysml:a1ab5fdf-7d24-4497-9ea2-3c4d95277eba ]] \r\n",
       "E9 - -:|> E2 [[psysml:9bedaae2-b2c6-4d70-8011-f34c154ea99f ]] \r\n",
       "@enduml\r\n",
       "\n",
       "PlantUML version 1.2020.13(Sat Jun 13 12:26:38 UTC 2020)\n",
       "(EPL source distribution)\n",
       "Java Runtime: OpenJDK Runtime Environment\n",
       "JVM: OpenJDK 64-Bit Server VM\n",
       "Default Encoding: UTF-8\n",
       "Language: en\n",
       "Country: null\n",
       "--></g></svg>"
      ]
     },
     "execution_count": 2,
     "metadata": {},
     "output_type": "execute_result"
    }
   ],
   "source": [
    "%viz --style=\"COMPTREE\" --view=\"Default\" \"TradeStudyTest\""
   ]
  },
  {
   "cell_type": "code",
   "execution_count": 3,
   "id": "03a7bbb5",
   "metadata": {
    "execution": {
     "iopub.execute_input": "2021-09-27T07:19:33.944962Z",
     "iopub.status.busy": "2021-09-27T07:19:33.944630Z",
     "iopub.status.idle": "2021-09-27T07:19:34.011992Z",
     "shell.execute_reply": "2021-09-27T07:19:34.011726Z"
    }
   },
   "outputs": [
    {
     "data": {
      "image/svg+xml": [
       "<?xml version=\"1.0\" encoding=\"UTF-8\" standalone=\"no\"?><svg xmlns=\"http://www.w3.org/2000/svg\" xmlns:xlink=\"http://www.w3.org/1999/xlink\" contentScriptType=\"application/ecmascript\" contentStyleType=\"text/css\" height=\"345px\" preserveAspectRatio=\"none\" style=\"width:955px;height:345px;\" version=\"1.1\" viewBox=\"0 0 955 345\" width=\"955px\" zoomAndPan=\"magnify\"><defs/><g><!--MD5=[fbc87193dbaf4d95561dea2c320d4a47]\n",
       "cluster E1--><a href=\"psysml:e59f1b4e-bf48-44e5-8b03-de7ba4c0da2b\" target=\"_top\" title=\"psysml:e59f1b4e-bf48-44e5-8b03-de7ba4c0da2b\" xlink:actuate=\"onRequest\" xlink:href=\"psysml:e59f1b4e-bf48-44e5-8b03-de7ba4c0da2b\" xlink:show=\"new\" xlink:title=\"psysml:e59f1b4e-bf48-44e5-8b03-de7ba4c0da2b\" xlink:type=\"simple\"><polygon fill=\"#FFFFFF\" points=\"16,6,132,6,139,28.2969,933,28.2969,933,333,16,333,16,6\" style=\"stroke: #000000; stroke-width: 1.5;\"/><line style=\"stroke: #000000; stroke-width: 1.5;\" x1=\"16\" x2=\"139\" y1=\"28.2969\" y2=\"28.2969\"/><text fill=\"#000000\" font-family=\"sans-serif\" font-size=\"14\" font-weight=\"bold\" lengthAdjust=\"spacingAndGlyphs\" textLength=\"110\" x=\"20\" y=\"20.9951\">TradeStudyTest</text></a><!--MD5=[b4997ac47864f28c2f74865a473b2911]\n",
       "class E2--><a href=\"psysml:8032ee8b-b45e-4aab-a334-ddc7f77ca09b\" target=\"_top\" title=\"psysml:8032ee8b-b45e-4aab-a334-ddc7f77ca09b\" xlink:actuate=\"onRequest\" xlink:href=\"psysml:8032ee8b-b45e-4aab-a334-ddc7f77ca09b\" xlink:show=\"new\" xlink:title=\"psysml:8032ee8b-b45e-4aab-a334-ddc7f77ca09b\" xlink:type=\"simple\"><rect fill=\"#FFFFFF\" height=\"45.9375\" id=\"E2\" style=\"stroke: #383838; stroke-width: 1.5;\" width=\"66\" x=\"598\" y=\"271\"/><text fill=\"#000000\" font-family=\"sans-serif\" font-size=\"12\" font-style=\"italic\" lengthAdjust=\"spacingAndGlyphs\" textLength=\"64\" x=\"599\" y=\"287.1387\">«part def»</text><text fill=\"#000000\" font-family=\"sans-serif\" font-size=\"12\" lengthAdjust=\"spacingAndGlyphs\" textLength=\"43\" x=\"609.5\" y=\"301.1074\">Engine</text><line style=\"stroke: #383838; stroke-width: 1.5;\" x1=\"599\" x2=\"663\" y1=\"308.9375\" y2=\"308.9375\"/></a><!--MD5=[09b614a08d8cba4a07c9adeb5e0fee81]\n",
       "class E3--><a href=\"psysml:d1c59f8e-91b7-4873-9a7c-d548f1a74ff0\" target=\"_top\" title=\"psysml:d1c59f8e-91b7-4873-9a7c-d548f1a74ff0\" xlink:actuate=\"onRequest\" xlink:href=\"psysml:d1c59f8e-91b7-4873-9a7c-d548f1a74ff0\" xlink:show=\"new\" xlink:title=\"psysml:d1c59f8e-91b7-4873-9a7c-d548f1a74ff0\" xlink:type=\"simple\"><rect fill=\"#FFFFFF\" height=\"45.9375\" id=\"E3\" rx=\"10\" ry=\"10\" style=\"stroke: #383838; stroke-width: 1.5;\" width=\"108\" x=\"809\" y=\"164\"/><text fill=\"#000000\" font-family=\"sans-serif\" font-size=\"12\" font-style=\"italic\" lengthAdjust=\"spacingAndGlyphs\" textLength=\"40\" x=\"843\" y=\"180.1387\">«part»</text><text fill=\"#000000\" font-family=\"sans-serif\" font-size=\"12\" lengthAdjust=\"spacingAndGlyphs\" textLength=\"102\" x=\"812\" y=\"194.1074\">engine1: Engine</text><line style=\"stroke: #383838; stroke-width: 1.5;\" x1=\"810\" x2=\"916\" y1=\"201.9375\" y2=\"201.9375\"/></a><!--MD5=[ebbe1d658d1005bcc118a6aa81145e00]\n",
       "class E4--><a href=\"psysml:b8b914f7-6e3e-418c-a7c7-b0f9195d6204\" target=\"_top\" title=\"psysml:b8b914f7-6e3e-418c-a7c7-b0f9195d6204\" xlink:actuate=\"onRequest\" xlink:href=\"psysml:b8b914f7-6e3e-418c-a7c7-b0f9195d6204\" xlink:show=\"new\" xlink:title=\"psysml:b8b914f7-6e3e-418c-a7c7-b0f9195d6204\" xlink:type=\"simple\"><rect fill=\"#FFFFFF\" height=\"45.9375\" id=\"E4\" rx=\"10\" ry=\"10\" style=\"stroke: #383838; stroke-width: 1.5;\" width=\"108\" x=\"666\" y=\"164\"/><text fill=\"#000000\" font-family=\"sans-serif\" font-size=\"12\" font-style=\"italic\" lengthAdjust=\"spacingAndGlyphs\" textLength=\"40\" x=\"700\" y=\"180.1387\">«part»</text><text fill=\"#000000\" font-family=\"sans-serif\" font-size=\"12\" lengthAdjust=\"spacingAndGlyphs\" textLength=\"102\" x=\"669\" y=\"194.1074\">engine2: Engine</text><line style=\"stroke: #383838; stroke-width: 1.5;\" x1=\"667\" x2=\"773\" y1=\"201.9375\" y2=\"201.9375\"/></a><!--MD5=[270fce915f116d4de14055a7c1d9a0f3]\n",
       "class E5--><a href=\"psysml:d010e11c-db6d-479b-b98e-aa7ac12f08dc\" target=\"_top\" title=\"psysml:d010e11c-db6d-479b-b98e-aa7ac12f08dc\" xlink:actuate=\"onRequest\" xlink:href=\"psysml:d010e11c-db6d-479b-b98e-aa7ac12f08dc\" xlink:show=\"new\" xlink:title=\"psysml:d010e11c-db6d-479b-b98e-aa7ac12f08dc\" xlink:type=\"simple\"><rect fill=\"#FFFFFF\" height=\"45.9375\" id=\"E5\" rx=\"10\" ry=\"10\" style=\"stroke: #383838; stroke-width: 1.5;\" width=\"199\" x=\"192.5\" y=\"41\"/><text fill=\"#000000\" font-family=\"sans-serif\" font-size=\"12\" font-style=\"italic\" lengthAdjust=\"spacingAndGlyphs\" textLength=\"64\" x=\"260\" y=\"57.1387\">«analysis»</text><text fill=\"#000000\" font-family=\"sans-serif\" font-size=\"12\" lengthAdjust=\"spacingAndGlyphs\" textLength=\"193\" x=\"195.5\" y=\"71.1074\">engineTradeStudy: TradeStudy</text><line style=\"stroke: #383838; stroke-width: 1.5;\" x1=\"193.5\" x2=\"390.5\" y1=\"78.9375\" y2=\"78.9375\"/></a><!--MD5=[60a26617385b1d2d0262a64233df1f8d]\n",
       "class E6--><a href=\"psysml:baa50d6d-f728-4fdb-a3d8-0324d2e9c263\" target=\"_top\" title=\"psysml:baa50d6d-f728-4fdb-a3d8-0324d2e9c263\" xlink:actuate=\"onRequest\" xlink:href=\"psysml:baa50d6d-f728-4fdb-a3d8-0324d2e9c263\" xlink:show=\"new\" xlink:title=\"psysml:baa50d6d-f728-4fdb-a3d8-0324d2e9c263\" xlink:type=\"simple\"><rect fill=\"#FFFFFF\" height=\"45.9375\" id=\"E6\" rx=\"10\" ry=\"10\" style=\"stroke: #383838; stroke-width: 1.5;\" width=\"251\" x=\"166.5\" y=\"164\"/><text fill=\"#000000\" font-family=\"sans-serif\" font-size=\"12\" font-style=\"italic\" lengthAdjust=\"spacingAndGlyphs\" textLength=\"91\" x=\"246.5\" y=\"180.1387\">«requirement»</text><text fill=\"#000000\" font-family=\"sans-serif\" font-size=\"12\" lengthAdjust=\"spacingAndGlyphs\" textLength=\"245\" x=\"169.5\" y=\"194.1074\">tradeStudyObjective: MaximizeObjective</text><line style=\"stroke: #383838; stroke-width: 1.5;\" x1=\"167.5\" x2=\"416.5\" y1=\"201.9375\" y2=\"201.9375\"/></a><!--MD5=[2156ba9850f5573cc1fc38a6a4b2f02b]\n",
       "class E7--><a href=\"psysml:854815c3-8ae1-4c3d-a371-f12eec0f41ab\" target=\"_top\" title=\"psysml:854815c3-8ae1-4c3d-a371-f12eec0f41ab\" xlink:actuate=\"onRequest\" xlink:href=\"psysml:854815c3-8ae1-4c3d-a371-f12eec0f41ab\" xlink:show=\"new\" xlink:title=\"psysml:854815c3-8ae1-4c3d-a371-f12eec0f41ab\" xlink:type=\"simple\"><rect fill=\"#FFFFFF\" height=\"45.9375\" id=\"E7\" rx=\"10\" ry=\"10\" style=\"stroke: #383838; stroke-width: 1.5;\" width=\"178\" x=\"453\" y=\"164\"/><text fill=\"#000000\" font-family=\"sans-serif\" font-size=\"12\" font-style=\"italic\" lengthAdjust=\"spacingAndGlyphs\" textLength=\"40\" x=\"522\" y=\"180.1387\">«part»</text><text fill=\"#000000\" font-family=\"sans-serif\" font-size=\"12\" lengthAdjust=\"spacingAndGlyphs\" textLength=\"172\" x=\"456\" y=\"194.1074\">selectedAlternative: Engine</text><line style=\"stroke: #383838; stroke-width: 1.5;\" x1=\"454\" x2=\"630\" y1=\"201.9375\" y2=\"201.9375\"/></a><!--MD5=[05d275557350bfb9b23a4ef7222b4c39]\n",
       "link E3 to E2--><a href=\"psysml:a477e10c-c644-4ab8-a0d7-73b747f4931b\" target=\"_top\" title=\"psysml:a477e10c-c644-4ab8-a0d7-73b747f4931b\" xlink:actuate=\"onRequest\" xlink:href=\"psysml:a477e10c-c644-4ab8-a0d7-73b747f4931b\" xlink:show=\"new\" xlink:title=\"psysml:a477e10c-c644-4ab8-a0d7-73b747f4931b\" xlink:type=\"simple\"><path d=\"M814.37,210.01 C775.74,227.49 721.88,251.87 682.52,269.68 \" fill=\"none\" id=\"E3-&gt;E2\" style=\"stroke: #383838; stroke-width: 1.0;\"/><polygon fill=\"#FFFFFF\" points=\"664.23,277.96,678.6446,263.7397,684.4251,276.4906,664.23,277.96\" style=\"stroke: #383838; stroke-width: 1.0;\"/><ellipse cx=\"684.6619\" cy=\"263.2078\" fill=\"#383838\" rx=\"2\" ry=\"2\" style=\"stroke: #383838; stroke-width: 1.0;\"/><ellipse cx=\"688.7908\" cy=\"272.3156\" fill=\"#383838\" rx=\"2\" ry=\"2\" style=\"stroke: #383838; stroke-width: 1.0;\"/></a><!--MD5=[185131fc0dcab0a4505a2ebe144e961b]\n",
       "link E4 to E2--><a href=\"psysml:006a8138-edc7-4443-807d-fbbb291c6f87\" target=\"_top\" title=\"psysml:006a8138-edc7-4443-807d-fbbb291c6f87\" xlink:actuate=\"onRequest\" xlink:href=\"psysml:006a8138-edc7-4443-807d-fbbb291c6f87\" xlink:show=\"new\" xlink:title=\"psysml:006a8138-edc7-4443-807d-fbbb291c6f87\" xlink:type=\"simple\"><path d=\"M701.34,210.01 C690.26,223.08 675.91,240.01 663.06,255.17 \" fill=\"none\" id=\"E4-&gt;E2\" style=\"stroke: #383838; stroke-width: 1.0;\"/><polygon fill=\"#FFFFFF\" points=\"649.94,270.66,656.8931,251.6428,667.5691,260.6994,649.94,270.66\" style=\"stroke: #383838; stroke-width: 1.0;\"/><ellipse cx=\"662.1056\" cy=\"248.5899\" fill=\"#383838\" rx=\"2\" ry=\"2\" style=\"stroke: #383838; stroke-width: 1.0;\"/><ellipse cx=\"669.7313\" cy=\"255.059\" fill=\"#383838\" rx=\"2\" ry=\"2\" style=\"stroke: #383838; stroke-width: 1.0;\"/></a><!--MD5=[15ebcb19ae302d9b601edb458606d402]\n",
       "link E5 to E2--><a href=\"psysml:0f7006cc-acd6-40d1-b198-a80e8f08765e\" target=\"_top\" title=\"psysml:0f7006cc-acd6-40d1-b198-a80e8f08765e\" xlink:actuate=\"onRequest\" xlink:href=\"psysml:0f7006cc-acd6-40d1-b198-a80e8f08765e\" xlink:show=\"new\" xlink:title=\"psysml:0f7006cc-acd6-40d1-b198-a80e8f08765e\" xlink:type=\"simple\"><path d=\"M211.44,87.03 C135.05,111.81 38.38,155.76 85,210 C150.98,286.77 479.56,293.36 592.67,293.32 \" fill=\"none\" id=\"E5-&gt;E2\" style=\"stroke: #383838; stroke-width: 1.0; stroke-dasharray: 7.0,7.0;\"/><polygon fill=\"#383838\" points=\"597.89,293.31,588.89,289.31,592.89,293.31,588.89,297.31,597.89,293.31\" style=\"stroke: #383838; stroke-width: 1.0;\"/><text fill=\"#000000\" font-family=\"sans-serif\" font-size=\"13\" lengthAdjust=\"spacingAndGlyphs\" textLength=\"62\" x=\"86\" y=\"191.5669\">«subject»</text></a><!--MD5=[9120cf2e5df3bff93db8f754bbbc09b4]\n",
       "link E5 to E6--><a href=\"psysml:33b70aea-82ec-44f7-8a12-3ec54376cb03\" target=\"_top\" title=\"psysml:33b70aea-82ec-44f7-8a12-3ec54376cb03\" xlink:actuate=\"onRequest\" xlink:href=\"psysml:33b70aea-82ec-44f7-8a12-3ec54376cb03\" xlink:show=\"new\" xlink:title=\"psysml:33b70aea-82ec-44f7-8a12-3ec54376cb03\" xlink:type=\"simple\"><path d=\"M292,87.19 C292,106.47 292,134.55 292,155.86 \" fill=\"none\" id=\"E5-&gt;E6\" style=\"stroke: #383838; stroke-width: 1.0;\"/><polygon fill=\"#383838\" points=\"292,163.95,295,155.95,289,155.95,292,163.95\" style=\"stroke: #383838; stroke-width: 1.0;\"/><text fill=\"#000000\" font-family=\"sans-serif\" font-size=\"13\" lengthAdjust=\"spacingAndGlyphs\" textLength=\"73\" x=\"293\" y=\"130.0669\">«objective»</text></a><!--MD5=[452b418e7f8a40397a49b8c0a78acc5b]\n",
       "reverse link E5 to E7--><a href=\"psysml:a1ab5fdf-7d24-4497-9ea2-3c4d95277eba\" target=\"_top\" title=\"psysml:a1ab5fdf-7d24-4497-9ea2-3c4d95277eba\" xlink:actuate=\"onRequest\" xlink:href=\"psysml:a1ab5fdf-7d24-4497-9ea2-3c4d95277eba\" xlink:show=\"new\" xlink:title=\"psysml:a1ab5fdf-7d24-4497-9ea2-3c4d95277eba\" xlink:type=\"simple\"><path d=\"M349.39,92.78 C393.99,114.36 455.01,143.9 496.33,163.89 \" fill=\"none\" id=\"E5&lt;-E7\" style=\"stroke: #383838; stroke-width: 1.0;\"/><polygon fill=\"#FFFFFF\" points=\"337.56,87.05,341.2143,93.2666,348.3582,92.2843,344.7039,86.0677,337.56,87.05\" style=\"stroke: #383838; stroke-width: 1.0;\"/><text fill=\"#000000\" font-family=\"sans-serif\" font-size=\"13\" lengthAdjust=\"spacingAndGlyphs\" textLength=\"8\" x=\"474.9812\" y=\"152.7567\">1</text></a><!--MD5=[583832df87f4419a098336a29a52fa00]\n",
       "link E7 to E2--><a href=\"psysml:9bedaae2-b2c6-4d70-8011-f34c154ea99f\" target=\"_top\" title=\"psysml:9bedaae2-b2c6-4d70-8011-f34c154ea99f\" xlink:actuate=\"onRequest\" xlink:href=\"psysml:9bedaae2-b2c6-4d70-8011-f34c154ea99f\" xlink:show=\"new\" xlink:title=\"psysml:9bedaae2-b2c6-4d70-8011-f34c154ea99f\" xlink:type=\"simple\"><path d=\"M560.66,210.01 C571.74,223.08 586.09,240.01 598.94,255.17 \" fill=\"none\" id=\"E7-&gt;E2\" style=\"stroke: #383838; stroke-width: 1.0;\"/><polygon fill=\"#FFFFFF\" points=\"612.06,270.66,594.4309,260.6994,605.1069,251.6428,612.06,270.66\" style=\"stroke: #383838; stroke-width: 1.0;\"/><ellipse cx=\"592.2687\" cy=\"255.059\" fill=\"#383838\" rx=\"2\" ry=\"2\" style=\"stroke: #383838; stroke-width: 1.0;\"/><ellipse cx=\"599.8944\" cy=\"248.5899\" fill=\"#383838\" rx=\"2\" ry=\"2\" style=\"stroke: #383838; stroke-width: 1.0;\"/></a><!--MD5=[0d87f7ab3bf977e8a47809d48d86a319]\n",
       "@startuml\r\n",
       " skinparam monochrome true\r\n",
       "skinparam classbackgroundcolor white\r\n",
       "skinparam shadowing false\r\n",
       "skinparam wrapWidth 300\r\n",
       "hide circle\r\n",
       "\r\n",
       "package \"TradeStudyTest\" as E1  [[psysml:e59f1b4e-bf48-44e5-8b03-de7ba4c0da2b ]]  {\r\n",
       "comp def \"Engine\" as E2  <<(T,blue) part def>> [[psysml:8032ee8b-b45e-4aab-a334-ddc7f77ca09b ]] {\r\n",
       "}\r\n",
       "comp usage \"engine1: Engine\" as E3  <<(T,blue) part>> [[psysml:d1c59f8e-91b7-4873-9a7c-d548f1a74ff0 ]] {\r\n",
       "}\r\n",
       "comp usage \"engine2: Engine\" as E4  <<(T,blue) part>> [[psysml:b8b914f7-6e3e-418c-a7c7-b0f9195d6204 ]] {\r\n",
       "}\r\n",
       "comp usage \"engineTradeStudy: TradeStudy\" as E5 << analysis>> [[psysml:d010e11c-db6d-479b-b98e-aa7ac12f08dc ]] {\r\n",
       "}\r\n",
       "comp usage \"tradeStudyObjective: MaximizeObjective\" as E6  <<(T,blue) requirement>> [[psysml:baa50d6d-f728-4fdb-a3d8-0324d2e9c263 ]] {\r\n",
       "}\r\n",
       "comp usage \"selectedAlternative: Engine\" as E7  <<(T,blue) part>> [[psysml:854815c3-8ae1-4c3d-a371-f12eec0f41ab ]] {\r\n",
       "}\r\n",
       "}\r\n",
       "E3 - -:|> E2 [[psysml:a477e10c-c644-4ab8-a0d7-73b747f4931b ]] \r\n",
       "E4 - -:|> E2 [[psysml:006a8138-edc7-4443-807d-fbbb291c6f87 ]] \r\n",
       "E5 ..> E2 [[psysml:0f7006cc-acd6-40d1-b198-a80e8f08765e ]] : <<subject>>\r\n",
       "E5 - ->> E6 [[psysml:33b70aea-82ec-44f7-8a12-3ec54376cb03 ]] : <<objective>>\r\n",
       "E5 o- - \"1\"E7 [[psysml:a1ab5fdf-7d24-4497-9ea2-3c4d95277eba ]] \r\n",
       "E7 - -:|> E2 [[psysml:9bedaae2-b2c6-4d70-8011-f34c154ea99f ]] \r\n",
       "@enduml\r\n",
       "\n",
       "PlantUML version 1.2020.13(Sat Jun 13 12:26:38 UTC 2020)\n",
       "(EPL source distribution)\n",
       "Java Runtime: OpenJDK Runtime Environment\n",
       "JVM: OpenJDK 64-Bit Server VM\n",
       "Default Encoding: UTF-8\n",
       "Language: en\n",
       "Country: null\n",
       "--></g></svg>"
      ]
     },
     "execution_count": 3,
     "metadata": {},
     "output_type": "execute_result"
    }
   ],
   "source": [
    "%viz --style=\"COMPTREE\" --view=\"Tree\" \"TradeStudyTest\""
   ]
  },
  {
   "cell_type": "code",
   "execution_count": 4,
   "id": "f00b36cd",
   "metadata": {
    "execution": {
     "iopub.execute_input": "2021-09-27T07:19:34.061894Z",
     "iopub.status.busy": "2021-09-27T07:19:34.061587Z",
     "iopub.status.idle": "2021-09-27T07:19:34.070639Z",
     "shell.execute_reply": "2021-09-27T07:19:34.070438Z"
    }
   },
   "outputs": [
    {
     "data": {
      "image/svg+xml": [
       "<?xml version=\"1.0\" encoding=\"UTF-8\" standalone=\"no\"?><svg xmlns=\"http://www.w3.org/2000/svg\" xmlns:xlink=\"http://www.w3.org/1999/xlink\" contentScriptType=\"application/ecmascript\" contentStyleType=\"text/css\" height=\"12px\" preserveAspectRatio=\"none\" style=\"width:12px;height:12px;\" version=\"1.1\" viewBox=\"0 0 12 12\" width=\"12px\" zoomAndPan=\"magnify\"><defs/><g><!--MD5=[f19188ef49e11757b5c46753f95d9edc]\n",
       "@startuml\r\n",
       " skinparam monochrome true\r\n",
       "skinparam classbackgroundcolor white\r\n",
       "skinparam shadowing false\r\n",
       "skinparam wrapWidth 300\r\n",
       "hide circle\r\n",
       "\r\n",
       "@enduml\r\n",
       "\n",
       "PlantUML version 1.2020.13(Sat Jun 13 12:26:38 UTC 2020)\n",
       "(EPL source distribution)\n",
       "Java Runtime: OpenJDK Runtime Environment\n",
       "JVM: OpenJDK 64-Bit Server VM\n",
       "Default Encoding: UTF-8\n",
       "Language: en\n",
       "Country: null\n",
       "--></g></svg>"
      ]
     },
     "execution_count": 4,
     "metadata": {},
     "output_type": "execute_result"
    }
   ],
   "source": [
    "%viz --style=\"COMPTREE\" --view=\"State\" \"TradeStudyTest\""
   ]
  },
  {
   "cell_type": "code",
   "execution_count": 5,
   "id": "4a6f0719",
   "metadata": {
    "execution": {
     "iopub.execute_input": "2021-09-27T07:19:34.121618Z",
     "iopub.status.busy": "2021-09-27T07:19:34.121400Z",
     "iopub.status.idle": "2021-09-27T07:19:34.183367Z",
     "shell.execute_reply": "2021-09-27T07:19:34.183169Z"
    }
   },
   "outputs": [
    {
     "data": {
      "image/svg+xml": [
       "<?xml version=\"1.0\" encoding=\"UTF-8\" standalone=\"no\"?><svg xmlns=\"http://www.w3.org/2000/svg\" xmlns:xlink=\"http://www.w3.org/1999/xlink\" contentScriptType=\"application/ecmascript\" contentStyleType=\"text/css\" height=\"334px\" preserveAspectRatio=\"none\" style=\"width:566px;height:334px;\" version=\"1.1\" viewBox=\"0 0 566 334\" width=\"566px\" zoomAndPan=\"magnify\"><defs/><g><!--MD5=[fbc87193dbaf4d95561dea2c320d4a47]\n",
       "cluster E1--><a href=\"psysml:e59f1b4e-bf48-44e5-8b03-de7ba4c0da2b\" target=\"_top\" title=\"psysml:e59f1b4e-bf48-44e5-8b03-de7ba4c0da2b\" xlink:actuate=\"onRequest\" xlink:href=\"psysml:e59f1b4e-bf48-44e5-8b03-de7ba4c0da2b\" xlink:show=\"new\" xlink:title=\"psysml:e59f1b4e-bf48-44e5-8b03-de7ba4c0da2b\" xlink:type=\"simple\"><polygon fill=\"#FFFFFF\" points=\"16,6,132,6,139,28.2969,544,28.2969,544,322,16,322,16,6\" style=\"stroke: #000000; stroke-width: 1.5;\"/><line style=\"stroke: #000000; stroke-width: 1.5;\" x1=\"16\" x2=\"139\" y1=\"28.2969\" y2=\"28.2969\"/><text fill=\"#000000\" font-family=\"sans-serif\" font-size=\"14\" font-weight=\"bold\" lengthAdjust=\"spacingAndGlyphs\" textLength=\"110\" x=\"20\" y=\"20.9951\">TradeStudyTest</text></a><!--MD5=[270fce915f116d4de14055a7c1d9a0f3]\n",
       "class E5--><a href=\"psysml:d010e11c-db6d-479b-b98e-aa7ac12f08dc\" target=\"_top\" title=\"psysml:d010e11c-db6d-479b-b98e-aa7ac12f08dc\" xlink:actuate=\"onRequest\" xlink:href=\"psysml:d010e11c-db6d-479b-b98e-aa7ac12f08dc\" xlink:show=\"new\" xlink:title=\"psysml:d010e11c-db6d-479b-b98e-aa7ac12f08dc\" xlink:type=\"simple\"><rect fill=\"#FFFFFF\" height=\"45.9375\" id=\"E5\" rx=\"10\" ry=\"10\" style=\"stroke: #383838; stroke-width: 1.5;\" width=\"199\" x=\"328.5\" y=\"41\"/><text fill=\"#000000\" font-family=\"sans-serif\" font-size=\"12\" font-style=\"italic\" lengthAdjust=\"spacingAndGlyphs\" textLength=\"64\" x=\"396\" y=\"57.1387\">«analysis»</text><text fill=\"#000000\" font-family=\"sans-serif\" font-size=\"12\" lengthAdjust=\"spacingAndGlyphs\" textLength=\"193\" x=\"331.5\" y=\"71.1074\">engineTradeStudy: TradeStudy</text><line style=\"stroke: #383838; stroke-width: 1.5;\" x1=\"329.5\" x2=\"526.5\" y1=\"78.9375\" y2=\"78.9375\"/></a><!--MD5=[60a26617385b1d2d0262a64233df1f8d]\n",
       "class E6--><a href=\"psysml:baa50d6d-f728-4fdb-a3d8-0324d2e9c263\" target=\"_top\" title=\"psysml:baa50d6d-f728-4fdb-a3d8-0324d2e9c263\" xlink:actuate=\"onRequest\" xlink:href=\"psysml:baa50d6d-f728-4fdb-a3d8-0324d2e9c263\" xlink:show=\"new\" xlink:title=\"psysml:baa50d6d-f728-4fdb-a3d8-0324d2e9c263\" xlink:type=\"simple\"><rect fill=\"#FFFFFF\" height=\"45.9375\" id=\"E6\" rx=\"10\" ry=\"10\" style=\"stroke: #383838; stroke-width: 1.5;\" width=\"251\" x=\"32.5\" y=\"120\"/><text fill=\"#000000\" font-family=\"sans-serif\" font-size=\"12\" font-style=\"italic\" lengthAdjust=\"spacingAndGlyphs\" textLength=\"91\" x=\"112.5\" y=\"136.1387\">«requirement»</text><text fill=\"#000000\" font-family=\"sans-serif\" font-size=\"12\" lengthAdjust=\"spacingAndGlyphs\" textLength=\"245\" x=\"35.5\" y=\"150.1074\">tradeStudyObjective: MaximizeObjective</text><line style=\"stroke: #383838; stroke-width: 1.5;\" x1=\"33.5\" x2=\"282.5\" y1=\"157.9375\" y2=\"157.9375\"/></a><!--MD5=[2156ba9850f5573cc1fc38a6a4b2f02b]\n",
       "class E7--><a href=\"psysml:c3bcbf7c-d2b8-4beb-b9e4-ef0b91eba9be\" target=\"_top\" title=\"psysml:c3bcbf7c-d2b8-4beb-b9e4-ef0b91eba9be\" xlink:actuate=\"onRequest\" xlink:href=\"psysml:c3bcbf7c-d2b8-4beb-b9e4-ef0b91eba9be\" xlink:show=\"new\" xlink:title=\"psysml:c3bcbf7c-d2b8-4beb-b9e4-ef0b91eba9be\" xlink:type=\"simple\"><rect fill=\"#FFFFFF\" height=\"45.9375\" id=\"E7\" rx=\"10\" ry=\"10\" style=\"stroke: #383838; stroke-width: 1.5;\" width=\"116\" x=\"319\" y=\"120\"/><text fill=\"#000000\" font-family=\"sans-serif\" font-size=\"12\" font-style=\"italic\" lengthAdjust=\"spacingAndGlyphs\" textLength=\"82\" x=\"336\" y=\"136.1387\">«calculation»</text><text fill=\"#000000\" font-family=\"sans-serif\" font-size=\"12\" lengthAdjust=\"spacingAndGlyphs\" textLength=\"110\" x=\"322\" y=\"150.1074\">objectiveFunction</text><line style=\"stroke: #383838; stroke-width: 1.5;\" x1=\"320\" x2=\"434\" y1=\"157.9375\" y2=\"157.9375\"/></a><!--MD5=[b9389687b975829384b498ac4b7476b2]\n",
       "class E8--><a href=\"psysml:c18a795f-fd76-4ffb-a70d-e612388b917b\" target=\"_top\" title=\"psysml:c18a795f-fd76-4ffb-a70d-e612388b917b\" xlink:actuate=\"onRequest\" xlink:href=\"psysml:c18a795f-fd76-4ffb-a70d-e612388b917b\" xlink:show=\"new\" xlink:title=\"psysml:c18a795f-fd76-4ffb-a70d-e612388b917b\" xlink:type=\"simple\"><rect fill=\"#FFFFFF\" height=\"31.9688\" id=\"E8\" rx=\"10\" ry=\"10\" style=\"stroke: #383838; stroke-width: 1.5;\" width=\"124\" x=\"178\" y=\"214\"/><text fill=\"#000000\" font-family=\"sans-serif\" font-size=\"12\" lengthAdjust=\"spacingAndGlyphs\" textLength=\"118\" x=\"181\" y=\"230.1387\">alternative: Engine</text><line style=\"stroke: #383838; stroke-width: 1.5;\" x1=\"179\" x2=\"301\" y1=\"237.9688\" y2=\"237.9688\"/></a><!--MD5=[fd4143e9d270a159db93a4ea2a975926]\n",
       "class E9--><a href=\"psysml:854815c3-8ae1-4c3d-a371-f12eec0f41ab\" target=\"_top\" title=\"psysml:854815c3-8ae1-4c3d-a371-f12eec0f41ab\" xlink:actuate=\"onRequest\" xlink:href=\"psysml:854815c3-8ae1-4c3d-a371-f12eec0f41ab\" xlink:show=\"new\" xlink:title=\"psysml:854815c3-8ae1-4c3d-a371-f12eec0f41ab\" xlink:type=\"simple\"><rect fill=\"#FFFFFF\" height=\"31.9688\" id=\"E9\" rx=\"10\" ry=\"10\" style=\"stroke: #383838; stroke-width: 1.5;\" width=\"178\" x=\"246\" y=\"174\"/><text fill=\"#000000\" font-family=\"sans-serif\" font-size=\"12\" lengthAdjust=\"spacingAndGlyphs\" textLength=\"172\" x=\"249\" y=\"190.1387\">selectedAlternative: Engine</text><line style=\"stroke: #383838; stroke-width: 1.5;\" x1=\"247\" x2=\"423\" y1=\"197.9688\" y2=\"197.9688\"/></a><g id=\"E1.E2\"><a href=\"psysml:8032ee8b-b45e-4aab-a334-ddc7f77ca09b\" target=\"_top\" title=\"psysml:8032ee8b-b45e-4aab-a334-ddc7f77ca09b\" xlink:actuate=\"onRequest\" xlink:href=\"psysml:8032ee8b-b45e-4aab-a334-ddc7f77ca09b\" xlink:show=\"new\" xlink:title=\"psysml:8032ee8b-b45e-4aab-a334-ddc7f77ca09b\" xlink:type=\"simple\"><rect fill=\"#FFFFFF\" height=\"42.9375\" id=\"E2\" style=\"stroke: #383838; stroke-width: 1.5;\" width=\"71\" x=\"302.5\" y=\"263\"/><rect fill=\"#F8F8F8\" height=\"37.9375\" style=\"stroke: #383838; stroke-width: 1.5;\" width=\"71\" x=\"302.5\" y=\"263\"/><text fill=\"#000000\" font-family=\"sans-serif\" font-size=\"12\" font-style=\"italic\" lengthAdjust=\"spacingAndGlyphs\" textLength=\"64\" x=\"306\" y=\"279.1387\">«part def»</text><text fill=\"#000000\" font-family=\"sans-serif\" font-size=\"12\" lengthAdjust=\"spacingAndGlyphs\" textLength=\"43\" x=\"316.5\" y=\"293.1074\">Engine</text></a></g><g id=\"E1.E3\"><a href=\"psysml:d1c59f8e-91b7-4873-9a7c-d548f1a74ff0\" target=\"_top\" title=\"psysml:d1c59f8e-91b7-4873-9a7c-d548f1a74ff0\" xlink:actuate=\"onRequest\" xlink:href=\"psysml:d1c59f8e-91b7-4873-9a7c-d548f1a74ff0\" xlink:show=\"new\" xlink:title=\"psysml:d1c59f8e-91b7-4873-9a7c-d548f1a74ff0\" xlink:type=\"simple\"><rect fill=\"#FFFFFF\" height=\"40\" id=\"E3\" rx=\"10\" ry=\"10\" style=\"stroke: #383838; stroke-width: 1.5;\" width=\"113\" x=\"180.5\" y=\"44\"/><rect fill=\"#F8F8F8\" height=\"23.9688\" rx=\"10\" ry=\"10\" style=\"stroke: #F8F8F8; stroke-width: 1.5;\" width=\"113\" x=\"180.5\" y=\"44\"/><rect fill=\"#F8F8F8\" height=\"10\" style=\"stroke: #F8F8F8; stroke-width: 1.5;\" width=\"113\" x=\"180.5\" y=\"57.9688\"/><rect fill=\"none\" height=\"40\" id=\"E3\" rx=\"10\" ry=\"10\" style=\"stroke: #383838; stroke-width: 1.5;\" width=\"113\" x=\"180.5\" y=\"44\"/><text fill=\"#000000\" font-family=\"sans-serif\" font-size=\"12\" lengthAdjust=\"spacingAndGlyphs\" textLength=\"102\" x=\"186\" y=\"60.1387\">engine1: Engine</text></a></g><g id=\"E1.E4\"><a href=\"psysml:b8b914f7-6e3e-418c-a7c7-b0f9195d6204\" target=\"_top\" title=\"psysml:b8b914f7-6e3e-418c-a7c7-b0f9195d6204\" xlink:actuate=\"onRequest\" xlink:href=\"psysml:b8b914f7-6e3e-418c-a7c7-b0f9195d6204\" xlink:show=\"new\" xlink:title=\"psysml:b8b914f7-6e3e-418c-a7c7-b0f9195d6204\" xlink:type=\"simple\"><rect fill=\"#FFFFFF\" height=\"40\" id=\"E4\" rx=\"10\" ry=\"10\" style=\"stroke: #383838; stroke-width: 1.5;\" width=\"113\" x=\"32.5\" y=\"44\"/><rect fill=\"#F8F8F8\" height=\"23.9688\" rx=\"10\" ry=\"10\" style=\"stroke: #F8F8F8; stroke-width: 1.5;\" width=\"113\" x=\"32.5\" y=\"44\"/><rect fill=\"#F8F8F8\" height=\"10\" style=\"stroke: #F8F8F8; stroke-width: 1.5;\" width=\"113\" x=\"32.5\" y=\"57.9688\"/><rect fill=\"none\" height=\"40\" id=\"E4\" rx=\"10\" ry=\"10\" style=\"stroke: #383838; stroke-width: 1.5;\" width=\"113\" x=\"32.5\" y=\"44\"/><text fill=\"#000000\" font-family=\"sans-serif\" font-size=\"12\" lengthAdjust=\"spacingAndGlyphs\" textLength=\"102\" x=\"38\" y=\"60.1387\">engine2: Engine</text></a></g><!--MD5=[15ebcb19ae302d9b601edb458606d402]\n",
       "link E5 to E2--><a href=\"psysml:0f7006cc-acd6-40d1-b198-a80e8f08765e\" target=\"_top\" title=\"psysml:0f7006cc-acd6-40d1-b198-a80e8f08765e\" xlink:actuate=\"onRequest\" xlink:href=\"psysml:0f7006cc-acd6-40d1-b198-a80e8f08765e\" xlink:show=\"new\" xlink:title=\"psysml:0f7006cc-acd6-40d1-b198-a80e8f08765e\" xlink:type=\"simple\"><path d=\"M454.33,87.05 C456.45,89.57 458.39,92.23 460,95 C475.92,122.38 478.3,136.82 466,166 C448.69,207.07 408.73,239.87 378.03,260.26 \" fill=\"none\" id=\"E5-&gt;E2\" style=\"stroke: #383838; stroke-width: 1.0; stroke-dasharray: 7.0,7.0;\"/><polygon fill=\"#383838\" points=\"373.57,263.18,383.2939,261.6161,377.7586,260.4495,378.9251,254.9143,373.57,263.18\" style=\"stroke: #383838; stroke-width: 1.0;\"/><text fill=\"#000000\" font-family=\"sans-serif\" font-size=\"13\" lengthAdjust=\"spacingAndGlyphs\" textLength=\"62\" x=\"463\" y=\"194.5669\">«subject»</text></a><!--MD5=[9120cf2e5df3bff93db8f754bbbc09b4]\n",
       "link E5 to E6--><a href=\"psysml:33b70aea-82ec-44f7-8a12-3ec54376cb03\" target=\"_top\" title=\"psysml:33b70aea-82ec-44f7-8a12-3ec54376cb03\" xlink:actuate=\"onRequest\" xlink:href=\"psysml:33b70aea-82ec-44f7-8a12-3ec54376cb03\" xlink:show=\"new\" xlink:title=\"psysml:33b70aea-82ec-44f7-8a12-3ec54376cb03\" xlink:type=\"simple\"><path d=\"M342.94,87.03 C333.16,89.67 323.36,92.36 314,95 C288.94,102.07 261.74,110.13 237.17,117.56 \" fill=\"none\" id=\"E5-&gt;E6\" style=\"stroke: #383838; stroke-width: 1.0;\"/><polygon fill=\"#383838\" points=\"229.29,119.94,237.8158,120.4972,236.0799,114.7538,229.29,119.94\" style=\"stroke: #383838; stroke-width: 1.0;\"/><text fill=\"#000000\" font-family=\"sans-serif\" font-size=\"13\" lengthAdjust=\"spacingAndGlyphs\" textLength=\"73\" x=\"315\" y=\"108.0669\">«objective»</text></a><!--MD5=[452b418e7f8a40397a49b8c0a78acc5b]\n",
       "reverse link E5 to E7--><a href=\"psysml:9ca3a684-dbe3-4511-9e21-3cef746855e2\" target=\"_top\" title=\"psysml:9ca3a684-dbe3-4511-9e21-3cef746855e2\" xlink:actuate=\"onRequest\" xlink:href=\"psysml:9ca3a684-dbe3-4511-9e21-3cef746855e2\" xlink:show=\"new\" xlink:title=\"psysml:9ca3a684-dbe3-4511-9e21-3cef746855e2\" xlink:type=\"simple\"><path d=\"M405.93,98.32 C401.13,105.57 396.16,113.08 391.72,119.78 \" fill=\"none\" id=\"E5&lt;-E7\" style=\"stroke: #383838; stroke-width: 1.0;\"/><polygon fill=\"#383838\" points=\"413.25,87.27,406.6021,90.0638,406.6241,97.2749,413.272,94.4811,413.25,87.27\" style=\"stroke: #383838; stroke-width: 1.0;\"/></a><!--MD5=[dc164f5e8a733ab456ef1add180e9e34]\n",
       "reverse link E7 to E8--><a href=\"psysml:8f87ba26-7a36-4a80-9ed1-e463a907c7c6\" target=\"_top\" title=\"psysml:8f87ba26-7a36-4a80-9ed1-e463a907c7c6\" xlink:actuate=\"onRequest\" xlink:href=\"psysml:8f87ba26-7a36-4a80-9ed1-e463a907c7c6\" xlink:show=\"new\" xlink:title=\"psysml:8f87ba26-7a36-4a80-9ed1-e463a907c7c6\" xlink:type=\"simple\"><path d=\"M305.92,164.91 C304.26,165.29 302.62,165.65 301,166 C288.71,168.64 253.66,164.89 245,174 C235.09,184.43 235.08,201.52 236.77,213.88 \" fill=\"none\" id=\"E7&lt;-E8\" style=\"stroke: #383838; stroke-width: 1.0;\"/><polygon fill=\"#FFFFFF\" points=\"318.71,161.77,311.9314,159.3102,307.0537,164.6214,313.8323,167.0811,318.71,161.77\" style=\"stroke: #383838; stroke-width: 1.0;\"/><text fill=\"#000000\" font-family=\"sans-serif\" font-size=\"13\" lengthAdjust=\"spacingAndGlyphs\" textLength=\"8\" x=\"226.2847\" y=\"202.8557\">1</text></a><!--MD5=[f1f3f9f2fc535e6147756cb86a7f2e32]\n",
       "link E8 to E2--><a href=\"psysml:bdf7178e-b1d2-4aa0-b7b5-71013aa1f7a9\" target=\"_top\" title=\"psysml:bdf7178e-b1d2-4aa0-b7b5-71013aa1f7a9\" xlink:actuate=\"onRequest\" xlink:href=\"psysml:bdf7178e-b1d2-4aa0-b7b5-71013aa1f7a9\" xlink:show=\"new\" xlink:title=\"psysml:bdf7178e-b1d2-4aa0-b7b5-71013aa1f7a9\" xlink:type=\"simple\"><path d=\"M268.08,246.04 C273.23,248.8 278.76,251.77 284.38,254.77 \" fill=\"none\" id=\"E8-&gt;E2\" style=\"stroke: #383838; stroke-width: 1.0;\"/><polygon fill=\"#FFFFFF\" points=\"302.21,264.33,282.1553,261.5358,288.7616,249.1926,302.21,264.33\" style=\"stroke: #383838; stroke-width: 1.0;\"/><ellipse cx=\"278.0736\" cy=\"257.0828\" fill=\"#383838\" rx=\"2\" ry=\"2\" style=\"stroke: #383838; stroke-width: 1.0;\"/><ellipse cx=\"282.7924\" cy=\"248.2661\" fill=\"#383838\" rx=\"2\" ry=\"2\" style=\"stroke: #383838; stroke-width: 1.0;\"/></a><!--MD5=[9ae28de373ca99bb8a1b38d63370ca7e]\n",
       "reverse link E5 to E9--><a href=\"psysml:a1ab5fdf-7d24-4497-9ea2-3c4d95277eba\" target=\"_top\" title=\"psysml:a1ab5fdf-7d24-4497-9ea2-3c4d95277eba\" xlink:actuate=\"onRequest\" xlink:href=\"psysml:a1ab5fdf-7d24-4497-9ea2-3c4d95277eba\" xlink:show=\"new\" xlink:title=\"psysml:a1ab5fdf-7d24-4497-9ea2-3c4d95277eba\" xlink:type=\"simple\"><path d=\"M449.82,98.65 C460.68,120.03 468.53,147.15 453,166 C451.62,167.67 438.74,170.68 421.94,173.98 \" fill=\"none\" id=\"E5&lt;-E9\" style=\"stroke: #383838; stroke-width: 1.0;\"/><polygon fill=\"#FFFFFF\" points=\"443.41,87.13,442.8257,94.3174,449.2355,97.6211,449.8198,90.4337,443.41,87.13\" style=\"stroke: #383838; stroke-width: 1.0;\"/><text fill=\"#000000\" font-family=\"sans-serif\" font-size=\"13\" lengthAdjust=\"spacingAndGlyphs\" textLength=\"8\" x=\"431.8866\" y=\"185.124\">1</text></a><!--MD5=[5c3bb36fe832a92c7f0e1807dd65209d]\n",
       "link E9 to E2--><a href=\"psysml:9bedaae2-b2c6-4d70-8011-f34c154ea99f\" target=\"_top\" title=\"psysml:9bedaae2-b2c6-4d70-8011-f34c154ea99f\" xlink:actuate=\"onRequest\" xlink:href=\"psysml:9bedaae2-b2c6-4d70-8011-f34c154ea99f\" xlink:show=\"new\" xlink:title=\"psysml:9bedaae2-b2c6-4d70-8011-f34c154ea99f\" xlink:type=\"simple\"><path d=\"M335.5,206.27 C335.82,216.14 336.25,229.48 336.66,242.29 \" fill=\"none\" id=\"E9-&gt;E2\" style=\"stroke: #383838; stroke-width: 1.0;\"/><polygon fill=\"#FFFFFF\" points=\"337.32,262.66,329.7128,243.8949,343.7055,243.4448,337.32,262.66\" style=\"stroke: #383838; stroke-width: 1.0;\"/><ellipse cx=\"331.5285\" cy=\"238.1335\" fill=\"#383838\" rx=\"2\" ry=\"2\" style=\"stroke: #383838; stroke-width: 1.0;\"/><ellipse cx=\"341.5233\" cy=\"237.812\" fill=\"#383838\" rx=\"2\" ry=\"2\" style=\"stroke: #383838; stroke-width: 1.0;\"/></a><!--MD5=[25af33ee5db577a7972cc78ab88f0320]\n",
       "@startuml\r\n",
       "skinparam ranksep 10\r\n",
       "skinparam rectangle {\r\n",
       " backgroundColor<<block>> LightGreen\r\n",
       "}\r\n",
       " skinparam monochrome true\r\n",
       "skinparam classbackgroundcolor white\r\n",
       "skinparam shadowing false\r\n",
       "skinparam wrapWidth 300\r\n",
       "hide circle\r\n",
       "\r\n",
       "package \"TradeStudyTest\" as E1  [[psysml:e59f1b4e-bf48-44e5-8b03-de7ba4c0da2b ]]  {\r\n",
       "rec def \"Engine\" as E2  <<(T,blue) part def>> [[psysml:8032ee8b-b45e-4aab-a334-ddc7f77ca09b ]] {\r\n",
       "}\r\n",
       "rec usage \"engine1: Engine\" as E3  [[psysml:d1c59f8e-91b7-4873-9a7c-d548f1a74ff0 ]] {\r\n",
       "}\r\n",
       "rec usage \"engine2: Engine\" as E4  [[psysml:b8b914f7-6e3e-418c-a7c7-b0f9195d6204 ]] {\r\n",
       "}\r\n",
       "comp usage \"engineTradeStudy: TradeStudy\" as E5 << analysis>> [[psysml:d010e11c-db6d-479b-b98e-aa7ac12f08dc ]] {\r\n",
       "}\r\n",
       "comp usage \"tradeStudyObjective: MaximizeObjective\" as E6  <<(T,blue) requirement>> [[psysml:baa50d6d-f728-4fdb-a3d8-0324d2e9c263 ]] {\r\n",
       "}\r\n",
       "comp usage \"objectiveFunction\" as E7  <<(T,blue) calculation>> [[psysml:c3bcbf7c-d2b8-4beb-b9e4-ef0b91eba9be ]] {\r\n",
       "}\r\n",
       "comp usage \"alternative: Engine\" as E8  [[psysml:c18a795f-fd76-4ffb-a70d-e612388b917b ]] {\r\n",
       "}\r\n",
       "comp usage \"selectedAlternative: Engine\" as E9  [[psysml:854815c3-8ae1-4c3d-a371-f12eec0f41ab ]] {\r\n",
       "}\r\n",
       "}\r\n",
       "E5 ..> E2 [[psysml:0f7006cc-acd6-40d1-b198-a80e8f08765e ]] : <<subject>>\r\n",
       "E5 - ->> E6 [[psysml:33b70aea-82ec-44f7-8a12-3ec54376cb03 ]] : <<objective>>\r\n",
       "E5 *- - E7 [[psysml:9ca3a684-dbe3-4511-9e21-3cef746855e2 ]] \r\n",
       "E7 o- - \"1\"E8 [[psysml:8f87ba26-7a36-4a80-9ed1-e463a907c7c6 ]] \r\n",
       "E8 - -:|> E2 [[psysml:bdf7178e-b1d2-4aa0-b7b5-71013aa1f7a9 ]] \r\n",
       "E5 o- - \"1\"E9 [[psysml:a1ab5fdf-7d24-4497-9ea2-3c4d95277eba ]] \r\n",
       "E9 - -:|> E2 [[psysml:9bedaae2-b2c6-4d70-8011-f34c154ea99f ]] \r\n",
       "@enduml\r\n",
       "\n",
       "PlantUML version 1.2020.13(Sat Jun 13 12:26:38 UTC 2020)\n",
       "(EPL source distribution)\n",
       "Java Runtime: OpenJDK Runtime Environment\n",
       "JVM: OpenJDK 64-Bit Server VM\n",
       "Default Encoding: UTF-8\n",
       "Language: en\n",
       "Country: null\n",
       "--></g></svg>"
      ]
     },
     "execution_count": 5,
     "metadata": {},
     "output_type": "execute_result"
    }
   ],
   "source": [
    "%viz --style=\"COMPTREE\" --view=\"Interconnection\" \"TradeStudyTest\""
   ]
  },
  {
   "cell_type": "code",
   "execution_count": 6,
   "id": "73bb3f9c",
   "metadata": {
    "execution": {
     "iopub.execute_input": "2021-09-27T07:19:34.233731Z",
     "iopub.status.busy": "2021-09-27T07:19:34.233400Z",
     "iopub.status.idle": "2021-09-27T07:19:34.277696Z",
     "shell.execute_reply": "2021-09-27T07:19:34.278186Z"
    }
   },
   "outputs": [
    {
     "data": {
      "image/svg+xml": [
       "<?xml version=\"1.0\" encoding=\"UTF-8\" standalone=\"no\"?><svg xmlns=\"http://www.w3.org/2000/svg\" xmlns:xlink=\"http://www.w3.org/1999/xlink\" contentScriptType=\"application/ecmascript\" contentStyleType=\"text/css\" height=\"178px\" preserveAspectRatio=\"none\" style=\"width:434px;height:178px;\" version=\"1.1\" viewBox=\"0 0 434 178\" width=\"434px\" zoomAndPan=\"magnify\"><defs/><g><!--MD5=[fbc87193dbaf4d95561dea2c320d4a47]\n",
       "cluster E1--><a href=\"psysml:d010e11c-db6d-479b-b98e-aa7ac12f08dc\" target=\"_top\" title=\"psysml:d010e11c-db6d-479b-b98e-aa7ac12f08dc\" xlink:actuate=\"onRequest\" xlink:href=\"psysml:d010e11c-db6d-479b-b98e-aa7ac12f08dc\" xlink:show=\"new\" xlink:title=\"psysml:d010e11c-db6d-479b-b98e-aa7ac12f08dc\" xlink:type=\"simple\"><rect fill=\"#FFFFFF\" height=\"103.72\" id=\"E1\" rx=\"10\" ry=\"10\" style=\"stroke: #383838; stroke-width: 1.5;\" width=\"327\" x=\"47\" y=\"42.0986\"/><rect fill=\"#F8F8F8\" height=\"37.9375\" rx=\"10\" ry=\"10\" style=\"stroke: #F8F8F8; stroke-width: 1.5;\" width=\"327\" x=\"47\" y=\"42.0986\"/><rect fill=\"#F8F8F8\" height=\"10\" style=\"stroke: #F8F8F8; stroke-width: 1.5;\" width=\"327\" x=\"47\" y=\"70.0361\"/><rect fill=\"none\" height=\"103.72\" id=\"E1\" rx=\"10\" ry=\"10\" style=\"stroke: #383838; stroke-width: 1.5;\" width=\"327\" x=\"47\" y=\"42.0986\"/><text fill=\"#000000\" font-family=\"sans-serif\" font-size=\"12\" font-style=\"italic\" lengthAdjust=\"spacingAndGlyphs\" textLength=\"64\" x=\"178.5\" y=\"58.2373\">«analysis»</text><text fill=\"#000000\" font-family=\"sans-serif\" font-size=\"12\" lengthAdjust=\"spacingAndGlyphs\" textLength=\"114\" x=\"153.5\" y=\"72.2061\">engineTradeStudy</text><line style=\"stroke: #383838; stroke-width: 1.0;\" x1=\"47\" x2=\"374\" y1=\"80.0361\" y2=\"80.0361\"/></a><!--MD5=[d5e69f78d87373223dbae638b30a9c99]\n",
       "cluster E3--><a href=\"psysml:c3bcbf7c-d2b8-4beb-b9e4-ef0b91eba9be\" target=\"_top\" title=\"psysml:c3bcbf7c-d2b8-4beb-b9e4-ef0b91eba9be\" xlink:actuate=\"onRequest\" xlink:href=\"psysml:c3bcbf7c-d2b8-4beb-b9e4-ef0b91eba9be\" xlink:show=\"new\" xlink:title=\"psysml:c3bcbf7c-d2b8-4beb-b9e4-ef0b91eba9be\" xlink:type=\"simple\"><rect fill=\"#FFFFFF\" height=\"81.72\" id=\"E3\" rx=\"10\" ry=\"10\" style=\"stroke: #383838; stroke-width: 1.5;\" width=\"132\" x=\"214.125\" y=\"64.0986\"/><rect fill=\"#F8F8F8\" height=\"37.9375\" rx=\"10\" ry=\"10\" style=\"stroke: #F8F8F8; stroke-width: 1.5;\" width=\"132\" x=\"214.125\" y=\"64.0986\"/><rect fill=\"#F8F8F8\" height=\"10\" style=\"stroke: #F8F8F8; stroke-width: 1.5;\" width=\"132\" x=\"214.125\" y=\"92.0361\"/><rect fill=\"none\" height=\"81.72\" id=\"E3\" rx=\"10\" ry=\"10\" style=\"stroke: #383838; stroke-width: 1.5;\" width=\"132\" x=\"214.125\" y=\"64.0986\"/><text fill=\"#000000\" font-family=\"sans-serif\" font-size=\"12\" font-style=\"italic\" lengthAdjust=\"spacingAndGlyphs\" textLength=\"82\" x=\"239.125\" y=\"80.2373\">«calculation»</text><text fill=\"#000000\" font-family=\"sans-serif\" font-size=\"12\" lengthAdjust=\"spacingAndGlyphs\" textLength=\"110\" x=\"225.125\" y=\"94.2061\">objectiveFunction</text><line style=\"stroke: #383838; stroke-width: 1.0;\" x1=\"214.125\" x2=\"346.125\" y1=\"102.0361\" y2=\"102.0361\"/></a><text fill=\"#000000\" font-family=\"sans-serif\" font-size=\"14\" lengthAdjust=\"spacingAndGlyphs\" textLength=\"118\" x=\"6\" y=\"20.7969\">studyAlternatives</text><rect fill=\"#383838\" height=\"12\" style=\"stroke: #F8F8F8; stroke-width: 1.5;\" width=\"12\" x=\"59\" y=\"36.0986\"/><text fill=\"#000000\" font-family=\"sans-serif\" font-size=\"14\" lengthAdjust=\"spacingAndGlyphs\" textLength=\"132\" x=\"290\" y=\"164.8138\">selectedAlternative</text><rect fill=\"#383838\" height=\"12\" style=\"stroke: #F8F8F8; stroke-width: 1.5;\" width=\"12\" x=\"350\" y=\"139.8186\"/><text fill=\"#000000\" font-family=\"sans-serif\" font-size=\"14\" lengthAdjust=\"spacingAndGlyphs\" textLength=\"39\" x=\"215.5\" y=\"164.8138\">result</text><rect fill=\"#383838\" height=\"12\" style=\"stroke: #F8F8F8; stroke-width: 1.5;\" width=\"12\" x=\"229\" y=\"139.8186\"/><!--MD5=[0e20255c71364dcf0ffbf38186ad3c37]\n",
       "@startuml\r\n",
       "skinparam ranksep 8\r\n",
       " skinparam monochrome true\r\n",
       "skinparam classbackgroundcolor white\r\n",
       "skinparam shadowing false\r\n",
       "skinparam wrapWidth 300\r\n",
       "hide circle\r\n",
       "\r\n",
       "rec usage \"engineTradeStudy\" as E1 << analysis>> [[psysml:d010e11c-db6d-479b-b98e-aa7ac12f08dc ]] {\r\n",
       "portin \"studyAlternatives\" as E2  [[psysml:c281ae49-24a5-493f-bfdc-d0e83f5bb327 ]] \r\n",
       "rec usage \"objectiveFunction\" as E3  <<(T,blue) calculation>> [[psysml:c3bcbf7c-d2b8-4beb-b9e4-ef0b91eba9be ]] {\r\n",
       "portout \"result\" as E4  [[psysml:6508d5a9-7a54-4e99-9afa-e959802dfdd5 ]] \r\n",
       "}\r\n",
       "\r\n",
       "portout \"selectedAlternative\" as E5  [[psysml:854815c3-8ae1-4c3d-a371-f12eec0f41ab ]] \r\n",
       "}\r\n",
       "\r\n",
       "@enduml\r\n",
       "\n",
       "PlantUML version 1.2020.13(Sat Jun 13 12:26:38 UTC 2020)\n",
       "(EPL source distribution)\n",
       "Java Runtime: OpenJDK Runtime Environment\n",
       "JVM: OpenJDK 64-Bit Server VM\n",
       "Default Encoding: UTF-8\n",
       "Language: en\n",
       "Country: null\n",
       "--></g></svg>"
      ]
     },
     "execution_count": 6,
     "metadata": {},
     "output_type": "execute_result"
    }
   ],
   "source": [
    "%viz --style=\"COMPTREE\" --view=\"Action\" \"TradeStudyTest\""
   ]
  },
  {
   "cell_type": "code",
   "execution_count": 7,
   "id": "08ece218",
   "metadata": {
    "execution": {
     "iopub.execute_input": "2021-09-27T07:19:34.328236Z",
     "iopub.status.busy": "2021-09-27T07:19:34.327892Z",
     "iopub.status.idle": "2021-09-27T07:19:34.340659Z",
     "shell.execute_reply": "2021-09-27T07:19:34.340946Z"
    }
   },
   "outputs": [
    {
     "data": {
      "image/svg+xml": [
       "<?xml version=\"1.0\" encoding=\"UTF-8\" standalone=\"no\"?><svg xmlns=\"http://www.w3.org/2000/svg\" xmlns:xlink=\"http://www.w3.org/1999/xlink\" contentScriptType=\"application/ecmascript\" contentStyleType=\"text/css\" height=\"12px\" preserveAspectRatio=\"none\" style=\"width:12px;height:12px;\" version=\"1.1\" viewBox=\"0 0 12 12\" width=\"12px\" zoomAndPan=\"magnify\"><defs/><g><!--MD5=[803fc46c337be7a5c8a9831e35356779]\n",
       "@startuml\r\n",
       "skinparam roundcorner 20\r\n",
       "skinparam BoxPadding 20\r\n",
       "skinparam SequenceBoxBackgroundColor #white\r\n",
       "skinparam style strictuml\r\n",
       "skinparam maxMessageSize 100\r\n",
       " skinparam monochrome true\r\n",
       "skinparam classbackgroundcolor white\r\n",
       "skinparam shadowing false\r\n",
       "skinparam wrapWidth 300\r\n",
       "hide circle\r\n",
       "\r\n",
       "@enduml\r\n",
       "\n",
       "PlantUML version 1.2020.13(Sat Jun 13 12:26:38 UTC 2020)\n",
       "(EPL source distribution)\n",
       "Java Runtime: OpenJDK Runtime Environment\n",
       "JVM: OpenJDK 64-Bit Server VM\n",
       "Default Encoding: UTF-8\n",
       "Language: en\n",
       "Country: null\n",
       "--></g></svg>"
      ]
     },
     "execution_count": 7,
     "metadata": {},
     "output_type": "execute_result"
    }
   ],
   "source": [
    "%viz --style=\"COMPTREE\" --view=\"Sequence\" \"TradeStudyTest\""
   ]
  },
  {
   "cell_type": "code",
   "execution_count": 8,
   "id": "d95516e2",
   "metadata": {
    "execution": {
     "iopub.execute_input": "2021-09-27T07:19:34.391604Z",
     "iopub.status.busy": "2021-09-27T07:19:34.391076Z",
     "iopub.status.idle": "2021-09-27T07:19:34.467916Z",
     "shell.execute_reply": "2021-09-27T07:19:34.467716Z"
    }
   },
   "outputs": [
    {
     "data": {
      "image/svg+xml": [
       "<?xml version=\"1.0\" encoding=\"UTF-8\" standalone=\"no\"?><svg xmlns=\"http://www.w3.org/2000/svg\" xmlns:xlink=\"http://www.w3.org/1999/xlink\" contentScriptType=\"application/ecmascript\" contentStyleType=\"text/css\" height=\"497px\" preserveAspectRatio=\"none\" style=\"width:556px;height:497px;\" version=\"1.1\" viewBox=\"0 0 556 497\" width=\"556px\" zoomAndPan=\"magnify\"><defs/><g><!--MD5=[fbc87193dbaf4d95561dea2c320d4a47]\n",
       "cluster E1--><a href=\"psysml:e59f1b4e-bf48-44e5-8b03-de7ba4c0da2b\" target=\"_top\" title=\"psysml:e59f1b4e-bf48-44e5-8b03-de7ba4c0da2b\" xlink:actuate=\"onRequest\" xlink:href=\"psysml:e59f1b4e-bf48-44e5-8b03-de7ba4c0da2b\" xlink:show=\"new\" xlink:title=\"psysml:e59f1b4e-bf48-44e5-8b03-de7ba4c0da2b\" xlink:type=\"simple\"><polygon fill=\"#FFFFFF\" points=\"18.32,6,134.32,6,141.32,28.2969,534.32,28.2969,534.32,485,18.32,485,18.32,6\" style=\"stroke: #000000; stroke-width: 1.5;\"/><line style=\"stroke: #000000; stroke-width: 1.5;\" x1=\"18.32\" x2=\"141.32\" y1=\"28.2969\" y2=\"28.2969\"/><text fill=\"#000000\" font-family=\"sans-serif\" font-size=\"14\" font-weight=\"bold\" lengthAdjust=\"spacingAndGlyphs\" textLength=\"110\" x=\"22.32\" y=\"20.9951\">TradeStudyTest</text></a><!--MD5=[b4997ac47864f28c2f74865a473b2911]\n",
       "class E2--><a href=\"psysml:8032ee8b-b45e-4aab-a334-ddc7f77ca09b\" target=\"_top\" title=\"psysml:8032ee8b-b45e-4aab-a334-ddc7f77ca09b\" xlink:actuate=\"onRequest\" xlink:href=\"psysml:8032ee8b-b45e-4aab-a334-ddc7f77ca09b\" xlink:show=\"new\" xlink:title=\"psysml:8032ee8b-b45e-4aab-a334-ddc7f77ca09b\" xlink:type=\"simple\"><rect fill=\"#FFFFFF\" height=\"45.9375\" id=\"E2\" style=\"stroke: #383838; stroke-width: 1.5;\" width=\"66\" x=\"198.32\" y=\"423\"/><text fill=\"#000000\" font-family=\"sans-serif\" font-size=\"12\" font-style=\"italic\" lengthAdjust=\"spacingAndGlyphs\" textLength=\"64\" x=\"199.32\" y=\"439.1387\">«part def»</text><text fill=\"#000000\" font-family=\"sans-serif\" font-size=\"12\" lengthAdjust=\"spacingAndGlyphs\" textLength=\"43\" x=\"209.82\" y=\"453.1074\">Engine</text><line style=\"stroke: #383838; stroke-width: 1.5;\" x1=\"199.32\" x2=\"263.32\" y1=\"460.9375\" y2=\"460.9375\"/></a><!--MD5=[09b614a08d8cba4a07c9adeb5e0fee81]\n",
       "class E3--><a href=\"psysml:d1c59f8e-91b7-4873-9a7c-d548f1a74ff0\" target=\"_top\" title=\"psysml:d1c59f8e-91b7-4873-9a7c-d548f1a74ff0\" xlink:actuate=\"onRequest\" xlink:href=\"psysml:d1c59f8e-91b7-4873-9a7c-d548f1a74ff0\" xlink:show=\"new\" xlink:title=\"psysml:d1c59f8e-91b7-4873-9a7c-d548f1a74ff0\" xlink:type=\"simple\"><rect fill=\"#FFFFFF\" height=\"45.9375\" id=\"E3\" rx=\"10\" ry=\"10\" style=\"stroke: #383838; stroke-width: 1.5;\" width=\"108\" x=\"410.32\" y=\"316\"/><text fill=\"#000000\" font-family=\"sans-serif\" font-size=\"12\" font-style=\"italic\" lengthAdjust=\"spacingAndGlyphs\" textLength=\"40\" x=\"444.32\" y=\"332.1387\">«part»</text><text fill=\"#000000\" font-family=\"sans-serif\" font-size=\"12\" lengthAdjust=\"spacingAndGlyphs\" textLength=\"102\" x=\"413.32\" y=\"346.1074\">engine1: Engine</text><line style=\"stroke: #383838; stroke-width: 1.5;\" x1=\"411.32\" x2=\"517.32\" y1=\"353.9375\" y2=\"353.9375\"/></a><!--MD5=[ebbe1d658d1005bcc118a6aa81145e00]\n",
       "class E4--><a href=\"psysml:b8b914f7-6e3e-418c-a7c7-b0f9195d6204\" target=\"_top\" title=\"psysml:b8b914f7-6e3e-418c-a7c7-b0f9195d6204\" xlink:actuate=\"onRequest\" xlink:href=\"psysml:b8b914f7-6e3e-418c-a7c7-b0f9195d6204\" xlink:show=\"new\" xlink:title=\"psysml:b8b914f7-6e3e-418c-a7c7-b0f9195d6204\" xlink:type=\"simple\"><rect fill=\"#FFFFFF\" height=\"45.9375\" id=\"E4\" rx=\"10\" ry=\"10\" style=\"stroke: #383838; stroke-width: 1.5;\" width=\"108\" x=\"267.32\" y=\"316\"/><text fill=\"#000000\" font-family=\"sans-serif\" font-size=\"12\" font-style=\"italic\" lengthAdjust=\"spacingAndGlyphs\" textLength=\"40\" x=\"301.32\" y=\"332.1387\">«part»</text><text fill=\"#000000\" font-family=\"sans-serif\" font-size=\"12\" lengthAdjust=\"spacingAndGlyphs\" textLength=\"102\" x=\"270.32\" y=\"346.1074\">engine2: Engine</text><line style=\"stroke: #383838; stroke-width: 1.5;\" x1=\"268.32\" x2=\"374.32\" y1=\"353.9375\" y2=\"353.9375\"/></a><!--MD5=[270fce915f116d4de14055a7c1d9a0f3]\n",
       "class E5--><a href=\"psysml:d010e11c-db6d-479b-b98e-aa7ac12f08dc\" target=\"_top\" title=\"psysml:d010e11c-db6d-479b-b98e-aa7ac12f08dc\" xlink:actuate=\"onRequest\" xlink:href=\"psysml:d010e11c-db6d-479b-b98e-aa7ac12f08dc\" xlink:show=\"new\" xlink:title=\"psysml:d010e11c-db6d-479b-b98e-aa7ac12f08dc\" xlink:type=\"simple\"><rect fill=\"#FFFFFF\" height=\"45.9375\" id=\"E5\" rx=\"10\" ry=\"10\" style=\"stroke: #383838; stroke-width: 1.5;\" width=\"199\" x=\"239.82\" y=\"41\"/><text fill=\"#000000\" font-family=\"sans-serif\" font-size=\"12\" font-style=\"italic\" lengthAdjust=\"spacingAndGlyphs\" textLength=\"64\" x=\"307.32\" y=\"57.1387\">«analysis»</text><text fill=\"#000000\" font-family=\"sans-serif\" font-size=\"12\" lengthAdjust=\"spacingAndGlyphs\" textLength=\"193\" x=\"242.82\" y=\"71.1074\">engineTradeStudy: TradeStudy</text><line style=\"stroke: #383838; stroke-width: 1.5;\" x1=\"240.82\" x2=\"437.82\" y1=\"78.9375\" y2=\"78.9375\"/></a><!--MD5=[60a26617385b1d2d0262a64233df1f8d]\n",
       "class E6--><a href=\"psysml:baa50d6d-f728-4fdb-a3d8-0324d2e9c263\" target=\"_top\" title=\"psysml:baa50d6d-f728-4fdb-a3d8-0324d2e9c263\" xlink:actuate=\"onRequest\" xlink:href=\"psysml:baa50d6d-f728-4fdb-a3d8-0324d2e9c263\" xlink:show=\"new\" xlink:title=\"psysml:baa50d6d-f728-4fdb-a3d8-0324d2e9c263\" xlink:type=\"simple\"><rect fill=\"#FFFFFF\" height=\"45.9375\" id=\"E6\" rx=\"10\" ry=\"10\" style=\"stroke: #383838; stroke-width: 1.5;\" width=\"251\" x=\"78.82\" y=\"164\"/><text fill=\"#000000\" font-family=\"sans-serif\" font-size=\"12\" font-style=\"italic\" lengthAdjust=\"spacingAndGlyphs\" textLength=\"91\" x=\"158.82\" y=\"180.1387\">«requirement»</text><text fill=\"#000000\" font-family=\"sans-serif\" font-size=\"12\" lengthAdjust=\"spacingAndGlyphs\" textLength=\"245\" x=\"81.82\" y=\"194.1074\">tradeStudyObjective: MaximizeObjective</text><line style=\"stroke: #383838; stroke-width: 1.5;\" x1=\"79.82\" x2=\"328.82\" y1=\"201.9375\" y2=\"201.9375\"/></a><!--MD5=[2156ba9850f5573cc1fc38a6a4b2f02b]\n",
       "class E7--><a href=\"psysml:c3bcbf7c-d2b8-4beb-b9e4-ef0b91eba9be\" target=\"_top\" title=\"psysml:c3bcbf7c-d2b8-4beb-b9e4-ef0b91eba9be\" xlink:actuate=\"onRequest\" xlink:href=\"psysml:c3bcbf7c-d2b8-4beb-b9e4-ef0b91eba9be\" xlink:show=\"new\" xlink:title=\"psysml:c3bcbf7c-d2b8-4beb-b9e4-ef0b91eba9be\" xlink:type=\"simple\"><rect fill=\"#FFFFFF\" height=\"45.9375\" id=\"E7\" rx=\"10\" ry=\"10\" style=\"stroke: #383838; stroke-width: 1.5;\" width=\"116\" x=\"365.32\" y=\"164\"/><text fill=\"#000000\" font-family=\"sans-serif\" font-size=\"12\" font-style=\"italic\" lengthAdjust=\"spacingAndGlyphs\" textLength=\"82\" x=\"382.32\" y=\"180.1387\">«calculation»</text><text fill=\"#000000\" font-family=\"sans-serif\" font-size=\"12\" lengthAdjust=\"spacingAndGlyphs\" textLength=\"110\" x=\"368.32\" y=\"194.1074\">objectiveFunction</text><line style=\"stroke: #383838; stroke-width: 1.5;\" x1=\"366.32\" x2=\"480.32\" y1=\"201.9375\" y2=\"201.9375\"/></a><!--MD5=[b9389687b975829384b498ac4b7476b2]\n",
       "class E8--><a href=\"psysml:c18a795f-fd76-4ffb-a70d-e612388b917b\" target=\"_top\" title=\"psysml:c18a795f-fd76-4ffb-a70d-e612388b917b\" xlink:actuate=\"onRequest\" xlink:href=\"psysml:c18a795f-fd76-4ffb-a70d-e612388b917b\" xlink:show=\"new\" xlink:title=\"psysml:c18a795f-fd76-4ffb-a70d-e612388b917b\" xlink:type=\"simple\"><rect fill=\"#FFFFFF\" height=\"45.9375\" id=\"E8\" rx=\"10\" ry=\"10\" style=\"stroke: #383838; stroke-width: 1.5;\" width=\"124\" x=\"71.32\" y=\"316\"/><text fill=\"#000000\" font-family=\"sans-serif\" font-size=\"12\" font-style=\"italic\" lengthAdjust=\"spacingAndGlyphs\" textLength=\"40\" x=\"113.32\" y=\"332.1387\">«part»</text><text fill=\"#000000\" font-family=\"sans-serif\" font-size=\"12\" lengthAdjust=\"spacingAndGlyphs\" textLength=\"118\" x=\"74.32\" y=\"346.1074\">alternative: Engine</text><line style=\"stroke: #383838; stroke-width: 1.5;\" x1=\"72.32\" x2=\"194.32\" y1=\"353.9375\" y2=\"353.9375\"/></a><!--MD5=[fd4143e9d270a159db93a4ea2a975926]\n",
       "class E9--><a href=\"psysml:854815c3-8ae1-4c3d-a371-f12eec0f41ab\" target=\"_top\" title=\"psysml:854815c3-8ae1-4c3d-a371-f12eec0f41ab\" xlink:actuate=\"onRequest\" xlink:href=\"psysml:854815c3-8ae1-4c3d-a371-f12eec0f41ab\" xlink:show=\"new\" xlink:title=\"psysml:854815c3-8ae1-4c3d-a371-f12eec0f41ab\" xlink:type=\"simple\"><rect fill=\"#FFFFFF\" height=\"45.9375\" id=\"E9\" rx=\"10\" ry=\"10\" style=\"stroke: #383838; stroke-width: 1.5;\" width=\"178\" x=\"291.32\" y=\"240\"/><text fill=\"#000000\" font-family=\"sans-serif\" font-size=\"12\" font-style=\"italic\" lengthAdjust=\"spacingAndGlyphs\" textLength=\"40\" x=\"360.32\" y=\"256.1387\">«part»</text><text fill=\"#000000\" font-family=\"sans-serif\" font-size=\"12\" lengthAdjust=\"spacingAndGlyphs\" textLength=\"172\" x=\"294.32\" y=\"270.1074\">selectedAlternative: Engine</text><line style=\"stroke: #383838; stroke-width: 1.5;\" x1=\"292.32\" x2=\"468.32\" y1=\"277.9375\" y2=\"277.9375\"/></a><!--MD5=[05d275557350bfb9b23a4ef7222b4c39]\n",
       "link E3 to E2--><a href=\"psysml:a477e10c-c644-4ab8-a0d7-73b747f4931b\" target=\"_top\" title=\"psysml:a477e10c-c644-4ab8-a0d7-73b747f4931b\" xlink:actuate=\"onRequest\" xlink:href=\"psysml:a477e10c-c644-4ab8-a0d7-73b747f4931b\" xlink:show=\"new\" xlink:title=\"psysml:a477e10c-c644-4ab8-a0d7-73b747f4931b\" xlink:type=\"simple\"><path d=\"M415.48,362.01 C376.57,379.54 322.27,404.01 282.71,421.84 \" fill=\"none\" id=\"E3-&gt;E2\" style=\"stroke: #383838; stroke-width: 1.0;\"/><polygon fill=\"#FFFFFF\" points=\"264.34,430.12,278.7866,415.9321,284.5383,428.696,264.34,430.12\" style=\"stroke: #383838; stroke-width: 1.0;\"/><ellipse cx=\"284.805\" cy=\"415.4137\" fill=\"#383838\" rx=\"2\" ry=\"2\" style=\"stroke: #383838; stroke-width: 1.0;\"/><ellipse cx=\"288.9134\" cy=\"424.5308\" fill=\"#383838\" rx=\"2\" ry=\"2\" style=\"stroke: #383838; stroke-width: 1.0;\"/></a><!--MD5=[185131fc0dcab0a4505a2ebe144e961b]\n",
       "link E4 to E2--><a href=\"psysml:006a8138-edc7-4443-807d-fbbb291c6f87\" target=\"_top\" title=\"psysml:006a8138-edc7-4443-807d-fbbb291c6f87\" xlink:actuate=\"onRequest\" xlink:href=\"psysml:006a8138-edc7-4443-807d-fbbb291c6f87\" xlink:show=\"new\" xlink:title=\"psysml:006a8138-edc7-4443-807d-fbbb291c6f87\" xlink:type=\"simple\"><path d=\"M302.45,362.01 C291.25,375.08 276.74,392.01 263.74,407.17 \" fill=\"none\" id=\"E4-&gt;E2\" style=\"stroke: #383838; stroke-width: 1.0;\"/><polygon fill=\"#FFFFFF\" points=\"250.47,422.66,257.5188,403.678,268.1491,412.7883,250.47,422.66\" style=\"stroke: #383838; stroke-width: 1.0;\"/><ellipse cx=\"262.7466\" cy=\"400.6515\" fill=\"#383838\" rx=\"2\" ry=\"2\" style=\"stroke: #383838; stroke-width: 1.0;\"/><ellipse cx=\"270.3396\" cy=\"407.1588\" fill=\"#383838\" rx=\"2\" ry=\"2\" style=\"stroke: #383838; stroke-width: 1.0;\"/></a><!--MD5=[15ebcb19ae302d9b601edb458606d402]\n",
       "link E5 to E2--><a href=\"psysml:0f7006cc-acd6-40d1-b198-a80e8f08765e\" target=\"_top\" title=\"psysml:0f7006cc-acd6-40d1-b198-a80e8f08765e\" xlink:actuate=\"onRequest\" xlink:href=\"psysml:0f7006cc-acd6-40d1-b198-a80e8f08765e\" xlink:show=\"new\" xlink:title=\"psysml:0f7006cc-acd6-40d1-b198-a80e8f08765e\" xlink:type=\"simple\"><path d=\"M239.76,73.22 C177.99,83.96 102.74,108.45 61.32,164 C8.68,234.61 6,287.72 53.32,362 C83.95,410.08 150.5,430.76 192.99,439.32 \" fill=\"none\" id=\"E5-&gt;E2\" style=\"stroke: #383838; stroke-width: 1.0; stroke-dasharray: 7.0,7.0;\"/><polygon fill=\"#383838\" points=\"198.04,440.31,189.9738,434.6588,193.1327,439.3514,188.4401,442.5104,198.04,440.31\" style=\"stroke: #383838; stroke-width: 1.0;\"/><text fill=\"#000000\" font-family=\"sans-serif\" font-size=\"13\" lengthAdjust=\"spacingAndGlyphs\" textLength=\"62\" x=\"24.32\" y=\"267.5669\">«subject»</text></a><!--MD5=[9120cf2e5df3bff93db8f754bbbc09b4]\n",
       "link E5 to E6--><a href=\"psysml:33b70aea-82ec-44f7-8a12-3ec54376cb03\" target=\"_top\" title=\"psysml:33b70aea-82ec-44f7-8a12-3ec54376cb03\" xlink:actuate=\"onRequest\" xlink:href=\"psysml:33b70aea-82ec-44f7-8a12-3ec54376cb03\" xlink:show=\"new\" xlink:title=\"psysml:33b70aea-82ec-44f7-8a12-3ec54376cb03\" xlink:type=\"simple\"><path d=\"M314.56,87.19 C292.2,107.23 259.21,136.8 235.15,158.37 \" fill=\"none\" id=\"E5-&gt;E6\" style=\"stroke: #383838; stroke-width: 1.0;\"/><polygon fill=\"#383838\" points=\"228.92,163.95,236.8786,160.8419,232.8725,156.3752,228.92,163.95\" style=\"stroke: #383838; stroke-width: 1.0;\"/><text fill=\"#000000\" font-family=\"sans-serif\" font-size=\"13\" lengthAdjust=\"spacingAndGlyphs\" textLength=\"73\" x=\"280.32\" y=\"130.0669\">«objective»</text></a><!--MD5=[452b418e7f8a40397a49b8c0a78acc5b]\n",
       "reverse link E5 to E7--><a href=\"psysml:9ca3a684-dbe3-4511-9e21-3cef746855e2\" target=\"_top\" title=\"psysml:9ca3a684-dbe3-4511-9e21-3cef746855e2\" xlink:actuate=\"onRequest\" xlink:href=\"psysml:9ca3a684-dbe3-4511-9e21-3cef746855e2\" xlink:show=\"new\" xlink:title=\"psysml:9ca3a684-dbe3-4511-9e21-3cef746855e2\" xlink:type=\"simple\"><path d=\"M362.14,97.88 C376.71,118.86 395.19,145.48 408.01,163.95 \" fill=\"none\" id=\"E5&lt;-E7\" style=\"stroke: #383838; stroke-width: 1.0;\"/><polygon fill=\"#383838\" points=\"354.73,87.19,354.864,94.3999,361.5708,97.0492,361.4368,89.8393,354.73,87.19\" style=\"stroke: #383838; stroke-width: 1.0;\"/></a><!--MD5=[dc164f5e8a733ab456ef1add180e9e34]\n",
       "reverse link E7 to E8--><a href=\"psysml:8f87ba26-7a36-4a80-9ed1-e463a907c7c6\" target=\"_top\" title=\"psysml:8f87ba26-7a36-4a80-9ed1-e463a907c7c6\" xlink:actuate=\"onRequest\" xlink:href=\"psysml:8f87ba26-7a36-4a80-9ed1-e463a907c7c6\" xlink:show=\"new\" xlink:title=\"psysml:8f87ba26-7a36-4a80-9ed1-e463a907c7c6\" xlink:type=\"simple\"><path d=\"M352.67,208.29 C327.33,216.69 298.96,227.44 274.32,240 C231.96,261.6 187.65,294.33 160.26,315.93 \" fill=\"none\" id=\"E7&lt;-E8\" style=\"stroke: #383838; stroke-width: 1.0;\"/><polygon fill=\"#FFFFFF\" points=\"365.22,204.24,358.2818,202.2749,353.7994,207.9236,360.7376,209.8887,365.22,204.24\" style=\"stroke: #383838; stroke-width: 1.0;\"/><text fill=\"#000000\" font-family=\"sans-serif\" font-size=\"13\" lengthAdjust=\"spacingAndGlyphs\" textLength=\"8\" x=\"158.4251\" y=\"304.8075\">1</text></a><!--MD5=[f1f3f9f2fc535e6147756cb86a7f2e32]\n",
       "link E8 to E2--><a href=\"psysml:bdf7178e-b1d2-4aa0-b7b5-71013aa1f7a9\" target=\"_top\" title=\"psysml:bdf7178e-b1d2-4aa0-b7b5-71013aa1f7a9\" xlink:actuate=\"onRequest\" xlink:href=\"psysml:bdf7178e-b1d2-4aa0-b7b5-71013aa1f7a9\" xlink:show=\"new\" xlink:title=\"psysml:bdf7178e-b1d2-4aa0-b7b5-71013aa1f7a9\" xlink:type=\"simple\"><path d=\"M153.86,362.01 C166.19,375.22 182.2,392.38 196.46,407.65 \" fill=\"none\" id=\"E8-&gt;E2\" style=\"stroke: #383838; stroke-width: 1.0;\"/><polygon fill=\"#FFFFFF\" points=\"210.47,422.66,192.3921,413.5393,202.6305,403.9907,210.47,422.66\" style=\"stroke: #383838; stroke-width: 1.0;\"/><ellipse cx=\"189.9671\" cy=\"408.0067\" fill=\"#383838\" rx=\"2\" ry=\"2\" style=\"stroke: #383838; stroke-width: 1.0;\"/><ellipse cx=\"197.2802\" cy=\"401.1863\" fill=\"#383838\" rx=\"2\" ry=\"2\" style=\"stroke: #383838; stroke-width: 1.0;\"/></a><!--MD5=[9ae28de373ca99bb8a1b38d63370ca7e]\n",
       "reverse link E5 to E9--><a href=\"psysml:a1ab5fdf-7d24-4497-9ea2-3c4d95277eba\" target=\"_top\" title=\"psysml:a1ab5fdf-7d24-4497-9ea2-3c4d95277eba\" xlink:actuate=\"onRequest\" xlink:href=\"psysml:a1ab5fdf-7d24-4497-9ea2-3c4d95277eba\" xlink:show=\"new\" xlink:title=\"psysml:a1ab5fdf-7d24-4497-9ea2-3c4d95277eba\" xlink:type=\"simple\"><path d=\"M416.08,92.77 C447.78,108.48 481.27,131.61 499.32,164 C509.27,181.86 510.51,192.89 499.32,210 C490.86,222.92 478.41,232.65 464.71,239.97 \" fill=\"none\" id=\"E5&lt;-E9\" style=\"stroke: #383838; stroke-width: 1.0;\"/><polygon fill=\"#FFFFFF\" points=\"404.06,87.11,407.7814,93.2867,414.9142,92.2272,411.1928,86.0505,404.06,87.11\" style=\"stroke: #383838; stroke-width: 1.0;\"/><text fill=\"#000000\" font-family=\"sans-serif\" font-size=\"13\" lengthAdjust=\"spacingAndGlyphs\" textLength=\"8\" x=\"477.3099\" y=\"229.2386\">1</text></a><!--MD5=[5c3bb36fe832a92c7f0e1807dd65209d]\n",
       "link E9 to E2--><a href=\"psysml:9bedaae2-b2c6-4d70-8011-f34c154ea99f\" target=\"_top\" title=\"psysml:9bedaae2-b2c6-4d70-8011-f34c154ea99f\" xlink:actuate=\"onRequest\" xlink:href=\"psysml:9bedaae2-b2c6-4d70-8011-f34c154ea99f\" xlink:show=\"new\" xlink:title=\"psysml:9bedaae2-b2c6-4d70-8011-f34c154ea99f\" xlink:type=\"simple\"><path d=\"M291.19,285.15 C275.57,292.56 260.94,302.55 250.32,316 C231.17,340.25 227.04,375.32 227.36,402.77 \" fill=\"none\" id=\"E9-&gt;E2\" style=\"stroke: #383838; stroke-width: 1.0;\"/><polygon fill=\"#FFFFFF\" points=\"228.36,422.81,220.4186,404.1838,234.4011,403.4837,228.36,422.81\" style=\"stroke: #383838; stroke-width: 1.0;\"/><ellipse cx=\"222.131\" cy=\"398.3909\" fill=\"#383838\" rx=\"2\" ry=\"2\" style=\"stroke: #383838; stroke-width: 1.0;\"/><ellipse cx=\"232.1185\" cy=\"397.8909\" fill=\"#383838\" rx=\"2\" ry=\"2\" style=\"stroke: #383838; stroke-width: 1.0;\"/></a><!--MD5=[23dc4afe410b22afde08a94a6e5ef8c5]\n",
       "@startuml\r\n",
       " skinparam monochrome true\r\n",
       "skinparam classbackgroundcolor white\r\n",
       "skinparam shadowing false\r\n",
       "skinparam wrapWidth 300\r\n",
       "hide circle\r\n",
       "\r\n",
       "package \"TradeStudyTest\" as E1  [[psysml:e59f1b4e-bf48-44e5-8b03-de7ba4c0da2b ]]  {\r\n",
       "comp def \"Engine\" as E2  <<(T,blue) part def>> [[psysml:8032ee8b-b45e-4aab-a334-ddc7f77ca09b ]] {\r\n",
       "}\r\n",
       "comp usage \"engine1: Engine\" as E3  <<(T,blue) part>> [[psysml:d1c59f8e-91b7-4873-9a7c-d548f1a74ff0 ]] {\r\n",
       "}\r\n",
       "comp usage \"engine2: Engine\" as E4  <<(T,blue) part>> [[psysml:b8b914f7-6e3e-418c-a7c7-b0f9195d6204 ]] {\r\n",
       "}\r\n",
       "comp usage \"engineTradeStudy: TradeStudy\" as E5 << analysis>> [[psysml:d010e11c-db6d-479b-b98e-aa7ac12f08dc ]] {\r\n",
       "}\r\n",
       "comp usage \"tradeStudyObjective: MaximizeObjective\" as E6  <<(T,blue) requirement>> [[psysml:baa50d6d-f728-4fdb-a3d8-0324d2e9c263 ]] {\r\n",
       "}\r\n",
       "comp usage \"objectiveFunction\" as E7  <<(T,blue) calculation>> [[psysml:c3bcbf7c-d2b8-4beb-b9e4-ef0b91eba9be ]] {\r\n",
       "}\r\n",
       "comp usage \"alternative: Engine\" as E8  <<(T,blue) part>> [[psysml:c18a795f-fd76-4ffb-a70d-e612388b917b ]] {\r\n",
       "}\r\n",
       "comp usage \"selectedAlternative: Engine\" as E9  <<(T,blue) part>> [[psysml:854815c3-8ae1-4c3d-a371-f12eec0f41ab ]] {\r\n",
       "}\r\n",
       "}\r\n",
       "E3 - -:|> E2 [[psysml:a477e10c-c644-4ab8-a0d7-73b747f4931b ]] \r\n",
       "E4 - -:|> E2 [[psysml:006a8138-edc7-4443-807d-fbbb291c6f87 ]] \r\n",
       "E5 ..> E2 [[psysml:0f7006cc-acd6-40d1-b198-a80e8f08765e ]] : <<subject>>\r\n",
       "E5 - ->> E6 [[psysml:33b70aea-82ec-44f7-8a12-3ec54376cb03 ]] : <<objective>>\r\n",
       "E5 *- - E7 [[psysml:9ca3a684-dbe3-4511-9e21-3cef746855e2 ]] \r\n",
       "E7 o- - \"1\"E8 [[psysml:8f87ba26-7a36-4a80-9ed1-e463a907c7c6 ]] \r\n",
       "E8 - -:|> E2 [[psysml:bdf7178e-b1d2-4aa0-b7b5-71013aa1f7a9 ]] \r\n",
       "E5 o- - \"1\"E9 [[psysml:a1ab5fdf-7d24-4497-9ea2-3c4d95277eba ]] \r\n",
       "E9 - -:|> E2 [[psysml:9bedaae2-b2c6-4d70-8011-f34c154ea99f ]] \r\n",
       "@enduml\r\n",
       "\n",
       "PlantUML version 1.2020.13(Sat Jun 13 12:26:38 UTC 2020)\n",
       "(EPL source distribution)\n",
       "Java Runtime: OpenJDK Runtime Environment\n",
       "JVM: OpenJDK 64-Bit Server VM\n",
       "Default Encoding: UTF-8\n",
       "Language: en\n",
       "Country: null\n",
       "--></g></svg>"
      ]
     },
     "execution_count": 8,
     "metadata": {},
     "output_type": "execute_result"
    }
   ],
   "source": [
    "%viz --style=\"COMPTREE\" --view=\"MIXED\" \"TradeStudyTest\""
   ]
  },
  {
   "cell_type": "code",
   "execution_count": 9,
   "id": "d556f988",
   "metadata": {
    "execution": {
     "iopub.execute_input": "2021-09-27T07:19:34.518147Z",
     "iopub.status.busy": "2021-09-27T07:19:34.517926Z",
     "iopub.status.idle": "2021-09-27T07:19:34.582631Z",
     "shell.execute_reply": "2021-09-27T07:19:34.580887Z"
    }
   },
   "outputs": [
    {
     "data": {
      "image/svg+xml": [
       "<?xml version=\"1.0\" encoding=\"UTF-8\" standalone=\"no\"?><svg xmlns=\"http://www.w3.org/2000/svg\" xmlns:xlink=\"http://www.w3.org/1999/xlink\" contentScriptType=\"application/ecmascript\" contentStyleType=\"text/css\" height=\"497px\" preserveAspectRatio=\"none\" style=\"width:554px;height:497px;\" version=\"1.1\" viewBox=\"0 0 554 497\" width=\"554px\" zoomAndPan=\"magnify\"><defs/><g><!--MD5=[fbc87193dbaf4d95561dea2c320d4a47]\n",
       "cluster E1--><a href=\"psysml:e59f1b4e-bf48-44e5-8b03-de7ba4c0da2b\" target=\"_top\" title=\"psysml:e59f1b4e-bf48-44e5-8b03-de7ba4c0da2b\" xlink:actuate=\"onRequest\" xlink:href=\"psysml:e59f1b4e-bf48-44e5-8b03-de7ba4c0da2b\" xlink:show=\"new\" xlink:title=\"psysml:e59f1b4e-bf48-44e5-8b03-de7ba4c0da2b\" xlink:type=\"simple\"><polygon fill=\"#FFFFFF\" points=\"16,6,132,6,139,28.2969,532,28.2969,532,485,16,485,16,6\" style=\"stroke: #000000; stroke-width: 1.5;\"/><line style=\"stroke: #000000; stroke-width: 1.5;\" x1=\"16\" x2=\"139\" y1=\"28.2969\" y2=\"28.2969\"/><text fill=\"#000000\" font-family=\"sans-serif\" font-size=\"14\" font-weight=\"bold\" lengthAdjust=\"spacingAndGlyphs\" textLength=\"110\" x=\"20\" y=\"20.9951\">TradeStudyTest</text></a><!--MD5=[b4997ac47864f28c2f74865a473b2911]\n",
       "class E2--><a href=\"psysml:8032ee8b-b45e-4aab-a334-ddc7f77ca09b\" target=\"_top\" title=\"psysml:8032ee8b-b45e-4aab-a334-ddc7f77ca09b\" xlink:actuate=\"onRequest\" xlink:href=\"psysml:8032ee8b-b45e-4aab-a334-ddc7f77ca09b\" xlink:show=\"new\" xlink:title=\"psysml:8032ee8b-b45e-4aab-a334-ddc7f77ca09b\" xlink:type=\"simple\"><rect fill=\"#FFFFFF\" height=\"45.9375\" id=\"E2\" style=\"stroke: #383838; stroke-width: 1.5;\" width=\"66\" x=\"196\" y=\"423\"/><text fill=\"#000000\" font-family=\"sans-serif\" font-size=\"12\" font-style=\"italic\" lengthAdjust=\"spacingAndGlyphs\" textLength=\"64\" x=\"197\" y=\"439.1387\">«part def»</text><text fill=\"#000000\" font-family=\"sans-serif\" font-size=\"12\" lengthAdjust=\"spacingAndGlyphs\" textLength=\"43\" x=\"207.5\" y=\"453.1074\">Engine</text><line style=\"stroke: #383838; stroke-width: 1.5;\" x1=\"197\" x2=\"261\" y1=\"460.9375\" y2=\"460.9375\"/></a><!--MD5=[09b614a08d8cba4a07c9adeb5e0fee81]\n",
       "class E3--><a href=\"psysml:d1c59f8e-91b7-4873-9a7c-d548f1a74ff0\" target=\"_top\" title=\"psysml:d1c59f8e-91b7-4873-9a7c-d548f1a74ff0\" xlink:actuate=\"onRequest\" xlink:href=\"psysml:d1c59f8e-91b7-4873-9a7c-d548f1a74ff0\" xlink:show=\"new\" xlink:title=\"psysml:d1c59f8e-91b7-4873-9a7c-d548f1a74ff0\" xlink:type=\"simple\"><rect fill=\"#FFFFFF\" height=\"45.9375\" id=\"E3\" rx=\"10\" ry=\"10\" style=\"stroke: #383838; stroke-width: 1.5;\" width=\"108\" x=\"408\" y=\"316\"/><text fill=\"#000000\" font-family=\"sans-serif\" font-size=\"12\" font-style=\"italic\" lengthAdjust=\"spacingAndGlyphs\" textLength=\"40\" x=\"442\" y=\"332.1387\">«part»</text><text fill=\"#000000\" font-family=\"sans-serif\" font-size=\"12\" lengthAdjust=\"spacingAndGlyphs\" textLength=\"102\" x=\"411\" y=\"346.1074\">engine1: Engine</text><line style=\"stroke: #383838; stroke-width: 1.5;\" x1=\"409\" x2=\"515\" y1=\"353.9375\" y2=\"353.9375\"/></a><!--MD5=[ebbe1d658d1005bcc118a6aa81145e00]\n",
       "class E4--><a href=\"psysml:b8b914f7-6e3e-418c-a7c7-b0f9195d6204\" target=\"_top\" title=\"psysml:b8b914f7-6e3e-418c-a7c7-b0f9195d6204\" xlink:actuate=\"onRequest\" xlink:href=\"psysml:b8b914f7-6e3e-418c-a7c7-b0f9195d6204\" xlink:show=\"new\" xlink:title=\"psysml:b8b914f7-6e3e-418c-a7c7-b0f9195d6204\" xlink:type=\"simple\"><rect fill=\"#FFFFFF\" height=\"45.9375\" id=\"E4\" rx=\"10\" ry=\"10\" style=\"stroke: #383838; stroke-width: 1.5;\" width=\"108\" x=\"265\" y=\"316\"/><text fill=\"#000000\" font-family=\"sans-serif\" font-size=\"12\" font-style=\"italic\" lengthAdjust=\"spacingAndGlyphs\" textLength=\"40\" x=\"299\" y=\"332.1387\">«part»</text><text fill=\"#000000\" font-family=\"sans-serif\" font-size=\"12\" lengthAdjust=\"spacingAndGlyphs\" textLength=\"102\" x=\"268\" y=\"346.1074\">engine2: Engine</text><line style=\"stroke: #383838; stroke-width: 1.5;\" x1=\"266\" x2=\"372\" y1=\"353.9375\" y2=\"353.9375\"/></a><!--MD5=[270fce915f116d4de14055a7c1d9a0f3]\n",
       "class E5--><a href=\"psysml:d010e11c-db6d-479b-b98e-aa7ac12f08dc\" target=\"_top\" title=\"psysml:d010e11c-db6d-479b-b98e-aa7ac12f08dc\" xlink:actuate=\"onRequest\" xlink:href=\"psysml:d010e11c-db6d-479b-b98e-aa7ac12f08dc\" xlink:show=\"new\" xlink:title=\"psysml:d010e11c-db6d-479b-b98e-aa7ac12f08dc\" xlink:type=\"simple\"><rect fill=\"#FFFFFF\" height=\"45.9375\" id=\"E5\" rx=\"10\" ry=\"10\" style=\"stroke: #383838; stroke-width: 1.5;\" width=\"199\" x=\"237.5\" y=\"41\"/><text fill=\"#000000\" font-family=\"sans-serif\" font-size=\"12\" font-style=\"italic\" lengthAdjust=\"spacingAndGlyphs\" textLength=\"64\" x=\"305\" y=\"57.1387\">«analysis»</text><text fill=\"#000000\" font-family=\"sans-serif\" font-size=\"12\" lengthAdjust=\"spacingAndGlyphs\" textLength=\"193\" x=\"240.5\" y=\"71.1074\">engineTradeStudy: TradeStudy</text><line style=\"stroke: #383838; stroke-width: 1.5;\" x1=\"238.5\" x2=\"435.5\" y1=\"78.9375\" y2=\"78.9375\"/></a><!--MD5=[60a26617385b1d2d0262a64233df1f8d]\n",
       "class E6--><a href=\"psysml:baa50d6d-f728-4fdb-a3d8-0324d2e9c263\" target=\"_top\" title=\"psysml:baa50d6d-f728-4fdb-a3d8-0324d2e9c263\" xlink:actuate=\"onRequest\" xlink:href=\"psysml:baa50d6d-f728-4fdb-a3d8-0324d2e9c263\" xlink:show=\"new\" xlink:title=\"psysml:baa50d6d-f728-4fdb-a3d8-0324d2e9c263\" xlink:type=\"simple\"><rect fill=\"#FFFFFF\" height=\"45.9375\" id=\"E6\" rx=\"10\" ry=\"10\" style=\"stroke: #383838; stroke-width: 1.5;\" width=\"251\" x=\"76.5\" y=\"164\"/><text fill=\"#000000\" font-family=\"sans-serif\" font-size=\"12\" font-style=\"italic\" lengthAdjust=\"spacingAndGlyphs\" textLength=\"91\" x=\"156.5\" y=\"180.1387\">«requirement»</text><text fill=\"#000000\" font-family=\"sans-serif\" font-size=\"12\" lengthAdjust=\"spacingAndGlyphs\" textLength=\"245\" x=\"79.5\" y=\"194.1074\">tradeStudyObjective: MaximizeObjective</text><line style=\"stroke: #383838; stroke-width: 1.5;\" x1=\"77.5\" x2=\"326.5\" y1=\"201.9375\" y2=\"201.9375\"/></a><!--MD5=[2156ba9850f5573cc1fc38a6a4b2f02b]\n",
       "class E7--><a href=\"psysml:c3bcbf7c-d2b8-4beb-b9e4-ef0b91eba9be\" target=\"_top\" title=\"psysml:c3bcbf7c-d2b8-4beb-b9e4-ef0b91eba9be\" xlink:actuate=\"onRequest\" xlink:href=\"psysml:c3bcbf7c-d2b8-4beb-b9e4-ef0b91eba9be\" xlink:show=\"new\" xlink:title=\"psysml:c3bcbf7c-d2b8-4beb-b9e4-ef0b91eba9be\" xlink:type=\"simple\"><rect fill=\"#FFFFFF\" height=\"45.9375\" id=\"E7\" rx=\"10\" ry=\"10\" style=\"stroke: #383838; stroke-width: 1.5;\" width=\"116\" x=\"363\" y=\"164\"/><text fill=\"#000000\" font-family=\"sans-serif\" font-size=\"12\" font-style=\"italic\" lengthAdjust=\"spacingAndGlyphs\" textLength=\"82\" x=\"380\" y=\"180.1387\">«calculation»</text><text fill=\"#000000\" font-family=\"sans-serif\" font-size=\"12\" lengthAdjust=\"spacingAndGlyphs\" textLength=\"110\" x=\"366\" y=\"194.1074\">objectiveFunction</text><line style=\"stroke: #383838; stroke-width: 1.5;\" x1=\"364\" x2=\"478\" y1=\"201.9375\" y2=\"201.9375\"/></a><!--MD5=[b9389687b975829384b498ac4b7476b2]\n",
       "class E8--><a href=\"psysml:c18a795f-fd76-4ffb-a70d-e612388b917b\" target=\"_top\" title=\"psysml:c18a795f-fd76-4ffb-a70d-e612388b917b\" xlink:actuate=\"onRequest\" xlink:href=\"psysml:c18a795f-fd76-4ffb-a70d-e612388b917b\" xlink:show=\"new\" xlink:title=\"psysml:c18a795f-fd76-4ffb-a70d-e612388b917b\" xlink:type=\"simple\"><rect fill=\"#FFFFFF\" height=\"45.9375\" id=\"E8\" rx=\"10\" ry=\"10\" style=\"stroke: #383838; stroke-width: 1.5;\" width=\"124\" x=\"69\" y=\"316\"/><text fill=\"#000000\" font-family=\"sans-serif\" font-size=\"12\" font-style=\"italic\" lengthAdjust=\"spacingAndGlyphs\" textLength=\"40\" x=\"111\" y=\"332.1387\">«part»</text><text fill=\"#000000\" font-family=\"sans-serif\" font-size=\"12\" lengthAdjust=\"spacingAndGlyphs\" textLength=\"118\" x=\"72\" y=\"346.1074\">alternative: Engine</text><line style=\"stroke: #383838; stroke-width: 1.5;\" x1=\"70\" x2=\"192\" y1=\"353.9375\" y2=\"353.9375\"/></a><!--MD5=[fd4143e9d270a159db93a4ea2a975926]\n",
       "class E9--><a href=\"psysml:854815c3-8ae1-4c3d-a371-f12eec0f41ab\" target=\"_top\" title=\"psysml:854815c3-8ae1-4c3d-a371-f12eec0f41ab\" xlink:actuate=\"onRequest\" xlink:href=\"psysml:854815c3-8ae1-4c3d-a371-f12eec0f41ab\" xlink:show=\"new\" xlink:title=\"psysml:854815c3-8ae1-4c3d-a371-f12eec0f41ab\" xlink:type=\"simple\"><rect fill=\"#FFFFFF\" height=\"45.9375\" id=\"E9\" rx=\"10\" ry=\"10\" style=\"stroke: #383838; stroke-width: 1.5;\" width=\"178\" x=\"289\" y=\"240\"/><text fill=\"#000000\" font-family=\"sans-serif\" font-size=\"12\" font-style=\"italic\" lengthAdjust=\"spacingAndGlyphs\" textLength=\"40\" x=\"358\" y=\"256.1387\">«part»</text><text fill=\"#000000\" font-family=\"sans-serif\" font-size=\"12\" lengthAdjust=\"spacingAndGlyphs\" textLength=\"172\" x=\"292\" y=\"270.1074\">selectedAlternative: Engine</text><line style=\"stroke: #383838; stroke-width: 1.5;\" x1=\"290\" x2=\"466\" y1=\"277.9375\" y2=\"277.9375\"/></a><!--MD5=[05d275557350bfb9b23a4ef7222b4c39]\n",
       "link E3 to E2--><a href=\"psysml:a477e10c-c644-4ab8-a0d7-73b747f4931b\" target=\"_top\" title=\"psysml:a477e10c-c644-4ab8-a0d7-73b747f4931b\" xlink:actuate=\"onRequest\" xlink:href=\"psysml:a477e10c-c644-4ab8-a0d7-73b747f4931b\" xlink:show=\"new\" xlink:title=\"psysml:a477e10c-c644-4ab8-a0d7-73b747f4931b\" xlink:type=\"simple\"><path d=\"M413.16,362.01 C374.25,379.54 319.95,404.01 280.39,421.84 \" fill=\"none\" id=\"E3-&gt;E2\" style=\"stroke: #383838; stroke-width: 1.0;\"/><polygon fill=\"#FFFFFF\" points=\"262.02,430.12,276.4666,415.9321,282.2183,428.696,262.02,430.12\" style=\"stroke: #383838; stroke-width: 1.0;\"/><ellipse cx=\"282.485\" cy=\"415.4137\" fill=\"#383838\" rx=\"2\" ry=\"2\" style=\"stroke: #383838; stroke-width: 1.0;\"/><ellipse cx=\"286.5934\" cy=\"424.5308\" fill=\"#383838\" rx=\"2\" ry=\"2\" style=\"stroke: #383838; stroke-width: 1.0;\"/></a><!--MD5=[185131fc0dcab0a4505a2ebe144e961b]\n",
       "link E4 to E2--><a href=\"psysml:006a8138-edc7-4443-807d-fbbb291c6f87\" target=\"_top\" title=\"psysml:006a8138-edc7-4443-807d-fbbb291c6f87\" xlink:actuate=\"onRequest\" xlink:href=\"psysml:006a8138-edc7-4443-807d-fbbb291c6f87\" xlink:show=\"new\" xlink:title=\"psysml:006a8138-edc7-4443-807d-fbbb291c6f87\" xlink:type=\"simple\"><path d=\"M300.13,362.01 C288.93,375.08 274.42,392.01 261.42,407.17 \" fill=\"none\" id=\"E4-&gt;E2\" style=\"stroke: #383838; stroke-width: 1.0;\"/><polygon fill=\"#FFFFFF\" points=\"248.15,422.66,255.1988,403.678,265.8291,412.7883,248.15,422.66\" style=\"stroke: #383838; stroke-width: 1.0;\"/><ellipse cx=\"260.4266\" cy=\"400.6515\" fill=\"#383838\" rx=\"2\" ry=\"2\" style=\"stroke: #383838; stroke-width: 1.0;\"/><ellipse cx=\"268.0196\" cy=\"407.1588\" fill=\"#383838\" rx=\"2\" ry=\"2\" style=\"stroke: #383838; stroke-width: 1.0;\"/></a><!--MD5=[15ebcb19ae302d9b601edb458606d402]\n",
       "link E5 to E2--><a href=\"psysml:0f7006cc-acd6-40d1-b198-a80e8f08765e\" target=\"_top\" title=\"psysml:0f7006cc-acd6-40d1-b198-a80e8f08765e\" xlink:actuate=\"onRequest\" xlink:href=\"psysml:0f7006cc-acd6-40d1-b198-a80e8f08765e\" xlink:show=\"new\" xlink:title=\"psysml:0f7006cc-acd6-40d1-b198-a80e8f08765e\" xlink:type=\"simple\"><path d=\"M274.96,87.09 C193.02,116.27 59,164 59,164 C59,164 51,316 51,316 C51,316 51,362 51,362 C51,362 139.06,403.06 191.31,427.42 \" fill=\"none\" id=\"E5-&gt;E2\" style=\"stroke: #383838; stroke-width: 1.0; stroke-dasharray: 7.0,7.0;\"/><polygon fill=\"#383838\" points=\"195.94,429.58,189.449,422.1728,191.4015,427.482,186.0922,429.4344,195.94,429.58\" style=\"stroke: #383838; stroke-width: 1.0;\"/><text fill=\"#000000\" font-family=\"sans-serif\" font-size=\"13\" lengthAdjust=\"spacingAndGlyphs\" textLength=\"62\" x=\"56\" y=\"267.5669\">«subject»</text></a><!--MD5=[9120cf2e5df3bff93db8f754bbbc09b4]\n",
       "link E5 to E6--><a href=\"psysml:33b70aea-82ec-44f7-8a12-3ec54376cb03\" target=\"_top\" title=\"psysml:33b70aea-82ec-44f7-8a12-3ec54376cb03\" xlink:actuate=\"onRequest\" xlink:href=\"psysml:33b70aea-82ec-44f7-8a12-3ec54376cb03\" xlink:show=\"new\" xlink:title=\"psysml:33b70aea-82ec-44f7-8a12-3ec54376cb03\" xlink:type=\"simple\"><path d=\"M312.24,87.19 C289.88,107.23 256.89,136.8 232.83,158.37 \" fill=\"none\" id=\"E5-&gt;E6\" style=\"stroke: #383838; stroke-width: 1.0;\"/><polygon fill=\"#383838\" points=\"226.6,163.95,234.5586,160.8419,230.5525,156.3752,226.6,163.95\" style=\"stroke: #383838; stroke-width: 1.0;\"/><text fill=\"#000000\" font-family=\"sans-serif\" font-size=\"13\" lengthAdjust=\"spacingAndGlyphs\" textLength=\"73\" x=\"278\" y=\"130.0669\">«objective»</text></a><!--MD5=[452b418e7f8a40397a49b8c0a78acc5b]\n",
       "reverse link E5 to E7--><a href=\"psysml:9ca3a684-dbe3-4511-9e21-3cef746855e2\" target=\"_top\" title=\"psysml:9ca3a684-dbe3-4511-9e21-3cef746855e2\" xlink:actuate=\"onRequest\" xlink:href=\"psysml:9ca3a684-dbe3-4511-9e21-3cef746855e2\" xlink:show=\"new\" xlink:title=\"psysml:9ca3a684-dbe3-4511-9e21-3cef746855e2\" xlink:type=\"simple\"><path d=\"M359.82,97.88 C374.39,118.86 392.87,145.48 405.69,163.95 \" fill=\"none\" id=\"E5&lt;-E7\" style=\"stroke: #383838; stroke-width: 1.0;\"/><polygon fill=\"#383838\" points=\"352.41,87.19,352.544,94.3999,359.2508,97.0492,359.1168,89.8393,352.41,87.19\" style=\"stroke: #383838; stroke-width: 1.0;\"/></a><!--MD5=[dc164f5e8a733ab456ef1add180e9e34]\n",
       "reverse link E7 to E8--><a href=\"psysml:8f87ba26-7a36-4a80-9ed1-e463a907c7c6\" target=\"_top\" title=\"psysml:8f87ba26-7a36-4a80-9ed1-e463a907c7c6\" xlink:actuate=\"onRequest\" xlink:href=\"psysml:8f87ba26-7a36-4a80-9ed1-e463a907c7c6\" xlink:show=\"new\" xlink:title=\"psysml:8f87ba26-7a36-4a80-9ed1-e463a907c7c6\" xlink:type=\"simple\"><path d=\"M350.55,212.59 C312,226.04 272,240 272,240 C272,240 204.6,286.85 163,315.76 \" fill=\"none\" id=\"E7&lt;-E8\" style=\"stroke: #383838; stroke-width: 1.0;\"/><polygon fill=\"#FFFFFF\" points=\"362.97,208.25,355.9867,206.452,351.641,212.2066,358.6244,214.0046,362.97,208.25\" style=\"stroke: #383838; stroke-width: 1.0;\"/><text fill=\"#000000\" font-family=\"sans-serif\" font-size=\"13\" lengthAdjust=\"spacingAndGlyphs\" textLength=\"8\" x=\"162.175\" y=\"304.9748\">1</text></a><!--MD5=[f1f3f9f2fc535e6147756cb86a7f2e32]\n",
       "link E8 to E2--><a href=\"psysml:bdf7178e-b1d2-4aa0-b7b5-71013aa1f7a9\" target=\"_top\" title=\"psysml:bdf7178e-b1d2-4aa0-b7b5-71013aa1f7a9\" xlink:actuate=\"onRequest\" xlink:href=\"psysml:bdf7178e-b1d2-4aa0-b7b5-71013aa1f7a9\" xlink:show=\"new\" xlink:title=\"psysml:bdf7178e-b1d2-4aa0-b7b5-71013aa1f7a9\" xlink:type=\"simple\"><path d=\"M151.54,362.01 C163.87,375.22 179.88,392.38 194.14,407.65 \" fill=\"none\" id=\"E8-&gt;E2\" style=\"stroke: #383838; stroke-width: 1.0;\"/><polygon fill=\"#FFFFFF\" points=\"208.15,422.66,190.0721,413.5393,200.3105,403.9907,208.15,422.66\" style=\"stroke: #383838; stroke-width: 1.0;\"/><ellipse cx=\"187.6471\" cy=\"408.0067\" fill=\"#383838\" rx=\"2\" ry=\"2\" style=\"stroke: #383838; stroke-width: 1.0;\"/><ellipse cx=\"194.9602\" cy=\"401.1863\" fill=\"#383838\" rx=\"2\" ry=\"2\" style=\"stroke: #383838; stroke-width: 1.0;\"/></a><!--MD5=[9ae28de373ca99bb8a1b38d63370ca7e]\n",
       "reverse link E5 to E9--><a href=\"psysml:a1ab5fdf-7d24-4497-9ea2-3c4d95277eba\" target=\"_top\" title=\"psysml:a1ab5fdf-7d24-4497-9ea2-3c4d95277eba\" xlink:actuate=\"onRequest\" xlink:href=\"psysml:a1ab5fdf-7d24-4497-9ea2-3c4d95277eba\" xlink:show=\"new\" xlink:title=\"psysml:a1ab5fdf-7d24-4497-9ea2-3c4d95277eba\" xlink:type=\"simple\"><path d=\"M384.16,94.18 C431.35,123.38 497,164 497,164 C497,164 497,210 497,210 C497,210 460.9,225.77 428.47,239.95 \" fill=\"none\" id=\"E5&lt;-E9\" style=\"stroke: #383838; stroke-width: 1.0;\"/><polygon fill=\"#FFFFFF\" points=\"372.91,87.22,375.907,93.7788,383.114,93.5349,380.117,86.9761,372.91,87.22\" style=\"stroke: #383838; stroke-width: 1.0;\"/><text fill=\"#000000\" font-family=\"sans-serif\" font-size=\"13\" lengthAdjust=\"spacingAndGlyphs\" textLength=\"8\" x=\"432.9588\" y=\"228.8328\">1</text></a><!--MD5=[5c3bb36fe832a92c7f0e1807dd65209d]\n",
       "link E9 to E2--><a href=\"psysml:9bedaae2-b2c6-4d70-8011-f34c154ea99f\" target=\"_top\" title=\"psysml:9bedaae2-b2c6-4d70-8011-f34c154ea99f\" xlink:actuate=\"onRequest\" xlink:href=\"psysml:9bedaae2-b2c6-4d70-8011-f34c154ea99f\" xlink:show=\"new\" xlink:title=\"psysml:9bedaae2-b2c6-4d70-8011-f34c154ea99f\" xlink:type=\"simple\"><path d=\"M322.87,286.05 C287.44,300.23 248,316 248,316 C248,316 240.73,365.33 235.19,402.98 \" fill=\"none\" id=\"E9-&gt;E2\" style=\"stroke: #383838; stroke-width: 1.0;\"/><polygon fill=\"#FFFFFF\" points=\"232.27,422.82,228.1134,403.0028,241.964,405.0429,232.27,422.82\" style=\"stroke: #383838; stroke-width: 1.0;\"/><ellipse cx=\"230.9227\" cy=\"397.6551\" fill=\"#383838\" rx=\"2\" ry=\"2\" style=\"stroke: #383838; stroke-width: 1.0;\"/><ellipse cx=\"240.8159\" cy=\"399.1123\" fill=\"#383838\" rx=\"2\" ry=\"2\" style=\"stroke: #383838; stroke-width: 1.0;\"/></a><!--MD5=[7f5d0b281e75b03005529e83ba9fba56]\n",
       "@startuml\r\n",
       "skinparam linetype polyline\r\n",
       "skinparam monochrome true\r\n",
       "skinparam classbackgroundcolor white\r\n",
       "skinparam shadowing false\r\n",
       "skinparam wrapWidth 300\r\n",
       "hide circle\r\n",
       "\r\n",
       "package \"TradeStudyTest\" as E1  [[psysml:e59f1b4e-bf48-44e5-8b03-de7ba4c0da2b ]]  {\r\n",
       "comp def \"Engine\" as E2  <<(T,blue) part def>> [[psysml:8032ee8b-b45e-4aab-a334-ddc7f77ca09b ]] {\r\n",
       "}\r\n",
       "comp usage \"engine1: Engine\" as E3  <<(T,blue) part>> [[psysml:d1c59f8e-91b7-4873-9a7c-d548f1a74ff0 ]] {\r\n",
       "}\r\n",
       "comp usage \"engine2: Engine\" as E4  <<(T,blue) part>> [[psysml:b8b914f7-6e3e-418c-a7c7-b0f9195d6204 ]] {\r\n",
       "}\r\n",
       "comp usage \"engineTradeStudy: TradeStudy\" as E5 << analysis>> [[psysml:d010e11c-db6d-479b-b98e-aa7ac12f08dc ]] {\r\n",
       "}\r\n",
       "comp usage \"tradeStudyObjective: MaximizeObjective\" as E6  <<(T,blue) requirement>> [[psysml:baa50d6d-f728-4fdb-a3d8-0324d2e9c263 ]] {\r\n",
       "}\r\n",
       "comp usage \"objectiveFunction\" as E7  <<(T,blue) calculation>> [[psysml:c3bcbf7c-d2b8-4beb-b9e4-ef0b91eba9be ]] {\r\n",
       "}\r\n",
       "comp usage \"alternative: Engine\" as E8  <<(T,blue) part>> [[psysml:c18a795f-fd76-4ffb-a70d-e612388b917b ]] {\r\n",
       "}\r\n",
       "comp usage \"selectedAlternative: Engine\" as E9  <<(T,blue) part>> [[psysml:854815c3-8ae1-4c3d-a371-f12eec0f41ab ]] {\r\n",
       "}\r\n",
       "}\r\n",
       "E3 - -:|> E2 [[psysml:a477e10c-c644-4ab8-a0d7-73b747f4931b ]] \r\n",
       "E4 - -:|> E2 [[psysml:006a8138-edc7-4443-807d-fbbb291c6f87 ]] \r\n",
       "E5 ..> E2 [[psysml:0f7006cc-acd6-40d1-b198-a80e8f08765e ]] : <<subject>>\r\n",
       "E5 - ->> E6 [[psysml:33b70aea-82ec-44f7-8a12-3ec54376cb03 ]] : <<objective>>\r\n",
       "E5 *- - E7 [[psysml:9ca3a684-dbe3-4511-9e21-3cef746855e2 ]] \r\n",
       "E7 o- - \"1\"E8 [[psysml:8f87ba26-7a36-4a80-9ed1-e463a907c7c6 ]] \r\n",
       "E8 - -:|> E2 [[psysml:bdf7178e-b1d2-4aa0-b7b5-71013aa1f7a9 ]] \r\n",
       "E5 o- - \"1\"E9 [[psysml:a1ab5fdf-7d24-4497-9ea2-3c4d95277eba ]] \r\n",
       "E9 - -:|> E2 [[psysml:9bedaae2-b2c6-4d70-8011-f34c154ea99f ]] \r\n",
       "@enduml\r\n",
       "\n",
       "PlantUML version 1.2020.13(Sat Jun 13 12:26:38 UTC 2020)\n",
       "(EPL source distribution)\n",
       "Java Runtime: OpenJDK Runtime Environment\n",
       "JVM: OpenJDK 64-Bit Server VM\n",
       "Default Encoding: UTF-8\n",
       "Language: en\n",
       "Country: null\n",
       "--></g></svg>"
      ]
     },
     "execution_count": 9,
     "metadata": {},
     "output_type": "execute_result"
    }
   ],
   "source": [
    "%viz --style=\"POLYLINE\" --view=\"Default\" \"TradeStudyTest\""
   ]
  },
  {
   "cell_type": "code",
   "execution_count": 10,
   "id": "780b55ed",
   "metadata": {
    "execution": {
     "iopub.execute_input": "2021-09-27T07:19:34.631891Z",
     "iopub.status.busy": "2021-09-27T07:19:34.631451Z",
     "iopub.status.idle": "2021-09-27T07:19:34.677541Z",
     "shell.execute_reply": "2021-09-27T07:19:34.677162Z"
    }
   },
   "outputs": [
    {
     "data": {
      "image/svg+xml": [
       "<?xml version=\"1.0\" encoding=\"UTF-8\" standalone=\"no\"?><svg xmlns=\"http://www.w3.org/2000/svg\" xmlns:xlink=\"http://www.w3.org/1999/xlink\" contentScriptType=\"application/ecmascript\" contentStyleType=\"text/css\" height=\"345px\" preserveAspectRatio=\"none\" style=\"width:955px;height:345px;\" version=\"1.1\" viewBox=\"0 0 955 345\" width=\"955px\" zoomAndPan=\"magnify\"><defs/><g><!--MD5=[fbc87193dbaf4d95561dea2c320d4a47]\n",
       "cluster E1--><a href=\"psysml:e59f1b4e-bf48-44e5-8b03-de7ba4c0da2b\" target=\"_top\" title=\"psysml:e59f1b4e-bf48-44e5-8b03-de7ba4c0da2b\" xlink:actuate=\"onRequest\" xlink:href=\"psysml:e59f1b4e-bf48-44e5-8b03-de7ba4c0da2b\" xlink:show=\"new\" xlink:title=\"psysml:e59f1b4e-bf48-44e5-8b03-de7ba4c0da2b\" xlink:type=\"simple\"><polygon fill=\"#FFFFFF\" points=\"16,6,132,6,139,28.2969,933,28.2969,933,333,16,333,16,6\" style=\"stroke: #000000; stroke-width: 1.5;\"/><line style=\"stroke: #000000; stroke-width: 1.5;\" x1=\"16\" x2=\"139\" y1=\"28.2969\" y2=\"28.2969\"/><text fill=\"#000000\" font-family=\"sans-serif\" font-size=\"14\" font-weight=\"bold\" lengthAdjust=\"spacingAndGlyphs\" textLength=\"110\" x=\"20\" y=\"20.9951\">TradeStudyTest</text></a><!--MD5=[b4997ac47864f28c2f74865a473b2911]\n",
       "class E2--><a href=\"psysml:8032ee8b-b45e-4aab-a334-ddc7f77ca09b\" target=\"_top\" title=\"psysml:8032ee8b-b45e-4aab-a334-ddc7f77ca09b\" xlink:actuate=\"onRequest\" xlink:href=\"psysml:8032ee8b-b45e-4aab-a334-ddc7f77ca09b\" xlink:show=\"new\" xlink:title=\"psysml:8032ee8b-b45e-4aab-a334-ddc7f77ca09b\" xlink:type=\"simple\"><rect fill=\"#FFFFFF\" height=\"45.9375\" id=\"E2\" style=\"stroke: #383838; stroke-width: 1.5;\" width=\"66\" x=\"598\" y=\"271\"/><text fill=\"#000000\" font-family=\"sans-serif\" font-size=\"12\" font-style=\"italic\" lengthAdjust=\"spacingAndGlyphs\" textLength=\"64\" x=\"599\" y=\"287.1387\">«part def»</text><text fill=\"#000000\" font-family=\"sans-serif\" font-size=\"12\" lengthAdjust=\"spacingAndGlyphs\" textLength=\"43\" x=\"609.5\" y=\"301.1074\">Engine</text><line style=\"stroke: #383838; stroke-width: 1.5;\" x1=\"599\" x2=\"663\" y1=\"308.9375\" y2=\"308.9375\"/></a><!--MD5=[09b614a08d8cba4a07c9adeb5e0fee81]\n",
       "class E3--><a href=\"psysml:d1c59f8e-91b7-4873-9a7c-d548f1a74ff0\" target=\"_top\" title=\"psysml:d1c59f8e-91b7-4873-9a7c-d548f1a74ff0\" xlink:actuate=\"onRequest\" xlink:href=\"psysml:d1c59f8e-91b7-4873-9a7c-d548f1a74ff0\" xlink:show=\"new\" xlink:title=\"psysml:d1c59f8e-91b7-4873-9a7c-d548f1a74ff0\" xlink:type=\"simple\"><rect fill=\"#FFFFFF\" height=\"45.9375\" id=\"E3\" rx=\"10\" ry=\"10\" style=\"stroke: #383838; stroke-width: 1.5;\" width=\"108\" x=\"809\" y=\"164\"/><text fill=\"#000000\" font-family=\"sans-serif\" font-size=\"12\" font-style=\"italic\" lengthAdjust=\"spacingAndGlyphs\" textLength=\"40\" x=\"843\" y=\"180.1387\">«part»</text><text fill=\"#000000\" font-family=\"sans-serif\" font-size=\"12\" lengthAdjust=\"spacingAndGlyphs\" textLength=\"102\" x=\"812\" y=\"194.1074\">engine1: Engine</text><line style=\"stroke: #383838; stroke-width: 1.5;\" x1=\"810\" x2=\"916\" y1=\"201.9375\" y2=\"201.9375\"/></a><!--MD5=[ebbe1d658d1005bcc118a6aa81145e00]\n",
       "class E4--><a href=\"psysml:b8b914f7-6e3e-418c-a7c7-b0f9195d6204\" target=\"_top\" title=\"psysml:b8b914f7-6e3e-418c-a7c7-b0f9195d6204\" xlink:actuate=\"onRequest\" xlink:href=\"psysml:b8b914f7-6e3e-418c-a7c7-b0f9195d6204\" xlink:show=\"new\" xlink:title=\"psysml:b8b914f7-6e3e-418c-a7c7-b0f9195d6204\" xlink:type=\"simple\"><rect fill=\"#FFFFFF\" height=\"45.9375\" id=\"E4\" rx=\"10\" ry=\"10\" style=\"stroke: #383838; stroke-width: 1.5;\" width=\"108\" x=\"666\" y=\"164\"/><text fill=\"#000000\" font-family=\"sans-serif\" font-size=\"12\" font-style=\"italic\" lengthAdjust=\"spacingAndGlyphs\" textLength=\"40\" x=\"700\" y=\"180.1387\">«part»</text><text fill=\"#000000\" font-family=\"sans-serif\" font-size=\"12\" lengthAdjust=\"spacingAndGlyphs\" textLength=\"102\" x=\"669\" y=\"194.1074\">engine2: Engine</text><line style=\"stroke: #383838; stroke-width: 1.5;\" x1=\"667\" x2=\"773\" y1=\"201.9375\" y2=\"201.9375\"/></a><!--MD5=[270fce915f116d4de14055a7c1d9a0f3]\n",
       "class E5--><a href=\"psysml:d010e11c-db6d-479b-b98e-aa7ac12f08dc\" target=\"_top\" title=\"psysml:d010e11c-db6d-479b-b98e-aa7ac12f08dc\" xlink:actuate=\"onRequest\" xlink:href=\"psysml:d010e11c-db6d-479b-b98e-aa7ac12f08dc\" xlink:show=\"new\" xlink:title=\"psysml:d010e11c-db6d-479b-b98e-aa7ac12f08dc\" xlink:type=\"simple\"><rect fill=\"#FFFFFF\" height=\"45.9375\" id=\"E5\" rx=\"10\" ry=\"10\" style=\"stroke: #383838; stroke-width: 1.5;\" width=\"199\" x=\"192.5\" y=\"41\"/><text fill=\"#000000\" font-family=\"sans-serif\" font-size=\"12\" font-style=\"italic\" lengthAdjust=\"spacingAndGlyphs\" textLength=\"64\" x=\"260\" y=\"57.1387\">«analysis»</text><text fill=\"#000000\" font-family=\"sans-serif\" font-size=\"12\" lengthAdjust=\"spacingAndGlyphs\" textLength=\"193\" x=\"195.5\" y=\"71.1074\">engineTradeStudy: TradeStudy</text><line style=\"stroke: #383838; stroke-width: 1.5;\" x1=\"193.5\" x2=\"390.5\" y1=\"78.9375\" y2=\"78.9375\"/></a><!--MD5=[60a26617385b1d2d0262a64233df1f8d]\n",
       "class E6--><a href=\"psysml:baa50d6d-f728-4fdb-a3d8-0324d2e9c263\" target=\"_top\" title=\"psysml:baa50d6d-f728-4fdb-a3d8-0324d2e9c263\" xlink:actuate=\"onRequest\" xlink:href=\"psysml:baa50d6d-f728-4fdb-a3d8-0324d2e9c263\" xlink:show=\"new\" xlink:title=\"psysml:baa50d6d-f728-4fdb-a3d8-0324d2e9c263\" xlink:type=\"simple\"><rect fill=\"#FFFFFF\" height=\"45.9375\" id=\"E6\" rx=\"10\" ry=\"10\" style=\"stroke: #383838; stroke-width: 1.5;\" width=\"251\" x=\"166.5\" y=\"164\"/><text fill=\"#000000\" font-family=\"sans-serif\" font-size=\"12\" font-style=\"italic\" lengthAdjust=\"spacingAndGlyphs\" textLength=\"91\" x=\"246.5\" y=\"180.1387\">«requirement»</text><text fill=\"#000000\" font-family=\"sans-serif\" font-size=\"12\" lengthAdjust=\"spacingAndGlyphs\" textLength=\"245\" x=\"169.5\" y=\"194.1074\">tradeStudyObjective: MaximizeObjective</text><line style=\"stroke: #383838; stroke-width: 1.5;\" x1=\"167.5\" x2=\"416.5\" y1=\"201.9375\" y2=\"201.9375\"/></a><!--MD5=[2156ba9850f5573cc1fc38a6a4b2f02b]\n",
       "class E7--><a href=\"psysml:854815c3-8ae1-4c3d-a371-f12eec0f41ab\" target=\"_top\" title=\"psysml:854815c3-8ae1-4c3d-a371-f12eec0f41ab\" xlink:actuate=\"onRequest\" xlink:href=\"psysml:854815c3-8ae1-4c3d-a371-f12eec0f41ab\" xlink:show=\"new\" xlink:title=\"psysml:854815c3-8ae1-4c3d-a371-f12eec0f41ab\" xlink:type=\"simple\"><rect fill=\"#FFFFFF\" height=\"45.9375\" id=\"E7\" rx=\"10\" ry=\"10\" style=\"stroke: #383838; stroke-width: 1.5;\" width=\"178\" x=\"453\" y=\"164\"/><text fill=\"#000000\" font-family=\"sans-serif\" font-size=\"12\" font-style=\"italic\" lengthAdjust=\"spacingAndGlyphs\" textLength=\"40\" x=\"522\" y=\"180.1387\">«part»</text><text fill=\"#000000\" font-family=\"sans-serif\" font-size=\"12\" lengthAdjust=\"spacingAndGlyphs\" textLength=\"172\" x=\"456\" y=\"194.1074\">selectedAlternative: Engine</text><line style=\"stroke: #383838; stroke-width: 1.5;\" x1=\"454\" x2=\"630\" y1=\"201.9375\" y2=\"201.9375\"/></a><!--MD5=[05d275557350bfb9b23a4ef7222b4c39]\n",
       "link E3 to E2--><a href=\"psysml:a477e10c-c644-4ab8-a0d7-73b747f4931b\" target=\"_top\" title=\"psysml:a477e10c-c644-4ab8-a0d7-73b747f4931b\" xlink:actuate=\"onRequest\" xlink:href=\"psysml:a477e10c-c644-4ab8-a0d7-73b747f4931b\" xlink:show=\"new\" xlink:title=\"psysml:a477e10c-c644-4ab8-a0d7-73b747f4931b\" xlink:type=\"simple\"><path d=\"M814.37,210.01 C775.74,227.49 721.88,251.87 682.52,269.68 \" fill=\"none\" id=\"E3-&gt;E2\" style=\"stroke: #383838; stroke-width: 1.0;\"/><polygon fill=\"#FFFFFF\" points=\"664.23,277.96,678.6446,263.7397,684.4251,276.4906,664.23,277.96\" style=\"stroke: #383838; stroke-width: 1.0;\"/><ellipse cx=\"684.6619\" cy=\"263.2078\" fill=\"#383838\" rx=\"2\" ry=\"2\" style=\"stroke: #383838; stroke-width: 1.0;\"/><ellipse cx=\"688.7908\" cy=\"272.3156\" fill=\"#383838\" rx=\"2\" ry=\"2\" style=\"stroke: #383838; stroke-width: 1.0;\"/></a><!--MD5=[185131fc0dcab0a4505a2ebe144e961b]\n",
       "link E4 to E2--><a href=\"psysml:006a8138-edc7-4443-807d-fbbb291c6f87\" target=\"_top\" title=\"psysml:006a8138-edc7-4443-807d-fbbb291c6f87\" xlink:actuate=\"onRequest\" xlink:href=\"psysml:006a8138-edc7-4443-807d-fbbb291c6f87\" xlink:show=\"new\" xlink:title=\"psysml:006a8138-edc7-4443-807d-fbbb291c6f87\" xlink:type=\"simple\"><path d=\"M701.34,210.01 C690.26,223.08 675.91,240.01 663.06,255.17 \" fill=\"none\" id=\"E4-&gt;E2\" style=\"stroke: #383838; stroke-width: 1.0;\"/><polygon fill=\"#FFFFFF\" points=\"649.94,270.66,656.8931,251.6428,667.5691,260.6994,649.94,270.66\" style=\"stroke: #383838; stroke-width: 1.0;\"/><ellipse cx=\"662.1056\" cy=\"248.5899\" fill=\"#383838\" rx=\"2\" ry=\"2\" style=\"stroke: #383838; stroke-width: 1.0;\"/><ellipse cx=\"669.7313\" cy=\"255.059\" fill=\"#383838\" rx=\"2\" ry=\"2\" style=\"stroke: #383838; stroke-width: 1.0;\"/></a><!--MD5=[15ebcb19ae302d9b601edb458606d402]\n",
       "link E5 to E2--><a href=\"psysml:0f7006cc-acd6-40d1-b198-a80e8f08765e\" target=\"_top\" title=\"psysml:0f7006cc-acd6-40d1-b198-a80e8f08765e\" xlink:actuate=\"onRequest\" xlink:href=\"psysml:0f7006cc-acd6-40d1-b198-a80e8f08765e\" xlink:show=\"new\" xlink:title=\"psysml:0f7006cc-acd6-40d1-b198-a80e8f08765e\" xlink:type=\"simple\"><path d=\"M245.8,87.09 C184.8,116.27 85,164 85,164 C85,164 85,210 85,210 C85,210 468.42,268.29 592.65,287.17 \" fill=\"none\" id=\"E5-&gt;E2\" style=\"stroke: #383838; stroke-width: 1.0; stroke-dasharray: 7.0,7.0;\"/><polygon fill=\"#383838\" points=\"597.67,287.93,589.3794,282.6134,592.7276,287.1729,588.1681,290.5212,597.67,287.93\" style=\"stroke: #383838; stroke-width: 1.0;\"/><text fill=\"#000000\" font-family=\"sans-serif\" font-size=\"13\" lengthAdjust=\"spacingAndGlyphs\" textLength=\"62\" x=\"86\" y=\"191.5669\">«subject»</text></a><!--MD5=[9120cf2e5df3bff93db8f754bbbc09b4]\n",
       "link E5 to E6--><a href=\"psysml:33b70aea-82ec-44f7-8a12-3ec54376cb03\" target=\"_top\" title=\"psysml:33b70aea-82ec-44f7-8a12-3ec54376cb03\" xlink:actuate=\"onRequest\" xlink:href=\"psysml:33b70aea-82ec-44f7-8a12-3ec54376cb03\" xlink:show=\"new\" xlink:title=\"psysml:33b70aea-82ec-44f7-8a12-3ec54376cb03\" xlink:type=\"simple\"><path d=\"M292,87.19 C292,106.47 292,134.55 292,155.86 \" fill=\"none\" id=\"E5-&gt;E6\" style=\"stroke: #383838; stroke-width: 1.0;\"/><polygon fill=\"#383838\" points=\"292,163.95,295,155.95,289,155.95,292,163.95\" style=\"stroke: #383838; stroke-width: 1.0;\"/><text fill=\"#000000\" font-family=\"sans-serif\" font-size=\"13\" lengthAdjust=\"spacingAndGlyphs\" textLength=\"73\" x=\"293\" y=\"130.0669\">«objective»</text></a><!--MD5=[452b418e7f8a40397a49b8c0a78acc5b]\n",
       "reverse link E5 to E7--><a href=\"psysml:a1ab5fdf-7d24-4497-9ea2-3c4d95277eba\" target=\"_top\" title=\"psysml:a1ab5fdf-7d24-4497-9ea2-3c4d95277eba\" xlink:actuate=\"onRequest\" xlink:href=\"psysml:a1ab5fdf-7d24-4497-9ea2-3c4d95277eba\" xlink:show=\"new\" xlink:title=\"psysml:a1ab5fdf-7d24-4497-9ea2-3c4d95277eba\" xlink:type=\"simple\"><path d=\"M349.39,92.78 C393.99,114.36 455.01,143.9 496.33,163.89 \" fill=\"none\" id=\"E5&lt;-E7\" style=\"stroke: #383838; stroke-width: 1.0;\"/><polygon fill=\"#FFFFFF\" points=\"337.56,87.05,341.2143,93.2666,348.3582,92.2843,344.7039,86.0677,337.56,87.05\" style=\"stroke: #383838; stroke-width: 1.0;\"/><text fill=\"#000000\" font-family=\"sans-serif\" font-size=\"13\" lengthAdjust=\"spacingAndGlyphs\" textLength=\"8\" x=\"474.9812\" y=\"152.7567\">1</text></a><!--MD5=[583832df87f4419a098336a29a52fa00]\n",
       "link E7 to E2--><a href=\"psysml:9bedaae2-b2c6-4d70-8011-f34c154ea99f\" target=\"_top\" title=\"psysml:9bedaae2-b2c6-4d70-8011-f34c154ea99f\" xlink:actuate=\"onRequest\" xlink:href=\"psysml:9bedaae2-b2c6-4d70-8011-f34c154ea99f\" xlink:show=\"new\" xlink:title=\"psysml:9bedaae2-b2c6-4d70-8011-f34c154ea99f\" xlink:type=\"simple\"><path d=\"M560.66,210.01 C571.74,223.08 586.09,240.01 598.94,255.17 \" fill=\"none\" id=\"E7-&gt;E2\" style=\"stroke: #383838; stroke-width: 1.0;\"/><polygon fill=\"#FFFFFF\" points=\"612.06,270.66,594.4309,260.6994,605.1069,251.6428,612.06,270.66\" style=\"stroke: #383838; stroke-width: 1.0;\"/><ellipse cx=\"592.2687\" cy=\"255.059\" fill=\"#383838\" rx=\"2\" ry=\"2\" style=\"stroke: #383838; stroke-width: 1.0;\"/><ellipse cx=\"599.8944\" cy=\"248.5899\" fill=\"#383838\" rx=\"2\" ry=\"2\" style=\"stroke: #383838; stroke-width: 1.0;\"/></a><!--MD5=[b90254dc4421e33e6936d09cf43b840f]\n",
       "@startuml\r\n",
       "skinparam linetype polyline\r\n",
       "skinparam monochrome true\r\n",
       "skinparam classbackgroundcolor white\r\n",
       "skinparam shadowing false\r\n",
       "skinparam wrapWidth 300\r\n",
       "hide circle\r\n",
       "\r\n",
       "package \"TradeStudyTest\" as E1  [[psysml:e59f1b4e-bf48-44e5-8b03-de7ba4c0da2b ]]  {\r\n",
       "comp def \"Engine\" as E2  <<(T,blue) part def>> [[psysml:8032ee8b-b45e-4aab-a334-ddc7f77ca09b ]] {\r\n",
       "}\r\n",
       "comp usage \"engine1: Engine\" as E3  <<(T,blue) part>> [[psysml:d1c59f8e-91b7-4873-9a7c-d548f1a74ff0 ]] {\r\n",
       "}\r\n",
       "comp usage \"engine2: Engine\" as E4  <<(T,blue) part>> [[psysml:b8b914f7-6e3e-418c-a7c7-b0f9195d6204 ]] {\r\n",
       "}\r\n",
       "comp usage \"engineTradeStudy: TradeStudy\" as E5 << analysis>> [[psysml:d010e11c-db6d-479b-b98e-aa7ac12f08dc ]] {\r\n",
       "}\r\n",
       "comp usage \"tradeStudyObjective: MaximizeObjective\" as E6  <<(T,blue) requirement>> [[psysml:baa50d6d-f728-4fdb-a3d8-0324d2e9c263 ]] {\r\n",
       "}\r\n",
       "comp usage \"selectedAlternative: Engine\" as E7  <<(T,blue) part>> [[psysml:854815c3-8ae1-4c3d-a371-f12eec0f41ab ]] {\r\n",
       "}\r\n",
       "}\r\n",
       "E3 - -:|> E2 [[psysml:a477e10c-c644-4ab8-a0d7-73b747f4931b ]] \r\n",
       "E4 - -:|> E2 [[psysml:006a8138-edc7-4443-807d-fbbb291c6f87 ]] \r\n",
       "E5 ..> E2 [[psysml:0f7006cc-acd6-40d1-b198-a80e8f08765e ]] : <<subject>>\r\n",
       "E5 - ->> E6 [[psysml:33b70aea-82ec-44f7-8a12-3ec54376cb03 ]] : <<objective>>\r\n",
       "E5 o- - \"1\"E7 [[psysml:a1ab5fdf-7d24-4497-9ea2-3c4d95277eba ]] \r\n",
       "E7 - -:|> E2 [[psysml:9bedaae2-b2c6-4d70-8011-f34c154ea99f ]] \r\n",
       "@enduml\r\n",
       "\n",
       "PlantUML version 1.2020.13(Sat Jun 13 12:26:38 UTC 2020)\n",
       "(EPL source distribution)\n",
       "Java Runtime: OpenJDK Runtime Environment\n",
       "JVM: OpenJDK 64-Bit Server VM\n",
       "Default Encoding: UTF-8\n",
       "Language: en\n",
       "Country: null\n",
       "--></g></svg>"
      ]
     },
     "execution_count": 10,
     "metadata": {},
     "output_type": "execute_result"
    }
   ],
   "source": [
    "%viz --style=\"POLYLINE\" --view=\"Tree\" \"TradeStudyTest\""
   ]
  },
  {
   "cell_type": "code",
   "execution_count": 11,
   "id": "ce81273c",
   "metadata": {
    "execution": {
     "iopub.execute_input": "2021-09-27T07:19:34.727242Z",
     "iopub.status.busy": "2021-09-27T07:19:34.726834Z",
     "iopub.status.idle": "2021-09-27T07:19:34.733349Z",
     "shell.execute_reply": "2021-09-27T07:19:34.733671Z"
    }
   },
   "outputs": [
    {
     "data": {
      "image/svg+xml": [
       "<?xml version=\"1.0\" encoding=\"UTF-8\" standalone=\"no\"?><svg xmlns=\"http://www.w3.org/2000/svg\" xmlns:xlink=\"http://www.w3.org/1999/xlink\" contentScriptType=\"application/ecmascript\" contentStyleType=\"text/css\" height=\"12px\" preserveAspectRatio=\"none\" style=\"width:12px;height:12px;\" version=\"1.1\" viewBox=\"0 0 12 12\" width=\"12px\" zoomAndPan=\"magnify\"><defs/><g><!--MD5=[896ac0e7a515d8dd7765a661cb4ee08b]\n",
       "@startuml\r\n",
       "skinparam linetype polyline\r\n",
       "skinparam monochrome true\r\n",
       "skinparam classbackgroundcolor white\r\n",
       "skinparam shadowing false\r\n",
       "skinparam wrapWidth 300\r\n",
       "hide circle\r\n",
       "\r\n",
       "@enduml\r\n",
       "\n",
       "PlantUML version 1.2020.13(Sat Jun 13 12:26:38 UTC 2020)\n",
       "(EPL source distribution)\n",
       "Java Runtime: OpenJDK Runtime Environment\n",
       "JVM: OpenJDK 64-Bit Server VM\n",
       "Default Encoding: UTF-8\n",
       "Language: en\n",
       "Country: null\n",
       "--></g></svg>"
      ]
     },
     "execution_count": 11,
     "metadata": {},
     "output_type": "execute_result"
    }
   ],
   "source": [
    "%viz --style=\"POLYLINE\" --view=\"State\" \"TradeStudyTest\""
   ]
  },
  {
   "cell_type": "code",
   "execution_count": 12,
   "id": "58b0445c",
   "metadata": {
    "execution": {
     "iopub.execute_input": "2021-09-27T07:19:34.784066Z",
     "iopub.status.busy": "2021-09-27T07:19:34.783655Z",
     "iopub.status.idle": "2021-09-27T07:19:34.829616Z",
     "shell.execute_reply": "2021-09-27T07:19:34.829246Z"
    }
   },
   "outputs": [
    {
     "data": {
      "image/svg+xml": [
       "<?xml version=\"1.0\" encoding=\"UTF-8\" standalone=\"no\"?><svg xmlns=\"http://www.w3.org/2000/svg\" xmlns:xlink=\"http://www.w3.org/1999/xlink\" contentScriptType=\"application/ecmascript\" contentStyleType=\"text/css\" height=\"334px\" preserveAspectRatio=\"none\" style=\"width:566px;height:334px;\" version=\"1.1\" viewBox=\"0 0 566 334\" width=\"566px\" zoomAndPan=\"magnify\"><defs/><g><!--MD5=[fbc87193dbaf4d95561dea2c320d4a47]\n",
       "cluster E1--><a href=\"psysml:e59f1b4e-bf48-44e5-8b03-de7ba4c0da2b\" target=\"_top\" title=\"psysml:e59f1b4e-bf48-44e5-8b03-de7ba4c0da2b\" xlink:actuate=\"onRequest\" xlink:href=\"psysml:e59f1b4e-bf48-44e5-8b03-de7ba4c0da2b\" xlink:show=\"new\" xlink:title=\"psysml:e59f1b4e-bf48-44e5-8b03-de7ba4c0da2b\" xlink:type=\"simple\"><polygon fill=\"#FFFFFF\" points=\"16,6,132,6,139,28.2969,544,28.2969,544,322,16,322,16,6\" style=\"stroke: #000000; stroke-width: 1.5;\"/><line style=\"stroke: #000000; stroke-width: 1.5;\" x1=\"16\" x2=\"139\" y1=\"28.2969\" y2=\"28.2969\"/><text fill=\"#000000\" font-family=\"sans-serif\" font-size=\"14\" font-weight=\"bold\" lengthAdjust=\"spacingAndGlyphs\" textLength=\"110\" x=\"20\" y=\"20.9951\">TradeStudyTest</text></a><!--MD5=[270fce915f116d4de14055a7c1d9a0f3]\n",
       "class E5--><a href=\"psysml:d010e11c-db6d-479b-b98e-aa7ac12f08dc\" target=\"_top\" title=\"psysml:d010e11c-db6d-479b-b98e-aa7ac12f08dc\" xlink:actuate=\"onRequest\" xlink:href=\"psysml:d010e11c-db6d-479b-b98e-aa7ac12f08dc\" xlink:show=\"new\" xlink:title=\"psysml:d010e11c-db6d-479b-b98e-aa7ac12f08dc\" xlink:type=\"simple\"><rect fill=\"#FFFFFF\" height=\"45.9375\" id=\"E5\" rx=\"10\" ry=\"10\" style=\"stroke: #383838; stroke-width: 1.5;\" width=\"199\" x=\"328.5\" y=\"41\"/><text fill=\"#000000\" font-family=\"sans-serif\" font-size=\"12\" font-style=\"italic\" lengthAdjust=\"spacingAndGlyphs\" textLength=\"64\" x=\"396\" y=\"57.1387\">«analysis»</text><text fill=\"#000000\" font-family=\"sans-serif\" font-size=\"12\" lengthAdjust=\"spacingAndGlyphs\" textLength=\"193\" x=\"331.5\" y=\"71.1074\">engineTradeStudy: TradeStudy</text><line style=\"stroke: #383838; stroke-width: 1.5;\" x1=\"329.5\" x2=\"526.5\" y1=\"78.9375\" y2=\"78.9375\"/></a><!--MD5=[60a26617385b1d2d0262a64233df1f8d]\n",
       "class E6--><a href=\"psysml:baa50d6d-f728-4fdb-a3d8-0324d2e9c263\" target=\"_top\" title=\"psysml:baa50d6d-f728-4fdb-a3d8-0324d2e9c263\" xlink:actuate=\"onRequest\" xlink:href=\"psysml:baa50d6d-f728-4fdb-a3d8-0324d2e9c263\" xlink:show=\"new\" xlink:title=\"psysml:baa50d6d-f728-4fdb-a3d8-0324d2e9c263\" xlink:type=\"simple\"><rect fill=\"#FFFFFF\" height=\"45.9375\" id=\"E6\" rx=\"10\" ry=\"10\" style=\"stroke: #383838; stroke-width: 1.5;\" width=\"251\" x=\"32.5\" y=\"120\"/><text fill=\"#000000\" font-family=\"sans-serif\" font-size=\"12\" font-style=\"italic\" lengthAdjust=\"spacingAndGlyphs\" textLength=\"91\" x=\"112.5\" y=\"136.1387\">«requirement»</text><text fill=\"#000000\" font-family=\"sans-serif\" font-size=\"12\" lengthAdjust=\"spacingAndGlyphs\" textLength=\"245\" x=\"35.5\" y=\"150.1074\">tradeStudyObjective: MaximizeObjective</text><line style=\"stroke: #383838; stroke-width: 1.5;\" x1=\"33.5\" x2=\"282.5\" y1=\"157.9375\" y2=\"157.9375\"/></a><!--MD5=[2156ba9850f5573cc1fc38a6a4b2f02b]\n",
       "class E7--><a href=\"psysml:c3bcbf7c-d2b8-4beb-b9e4-ef0b91eba9be\" target=\"_top\" title=\"psysml:c3bcbf7c-d2b8-4beb-b9e4-ef0b91eba9be\" xlink:actuate=\"onRequest\" xlink:href=\"psysml:c3bcbf7c-d2b8-4beb-b9e4-ef0b91eba9be\" xlink:show=\"new\" xlink:title=\"psysml:c3bcbf7c-d2b8-4beb-b9e4-ef0b91eba9be\" xlink:type=\"simple\"><rect fill=\"#FFFFFF\" height=\"45.9375\" id=\"E7\" rx=\"10\" ry=\"10\" style=\"stroke: #383838; stroke-width: 1.5;\" width=\"116\" x=\"319\" y=\"120\"/><text fill=\"#000000\" font-family=\"sans-serif\" font-size=\"12\" font-style=\"italic\" lengthAdjust=\"spacingAndGlyphs\" textLength=\"82\" x=\"336\" y=\"136.1387\">«calculation»</text><text fill=\"#000000\" font-family=\"sans-serif\" font-size=\"12\" lengthAdjust=\"spacingAndGlyphs\" textLength=\"110\" x=\"322\" y=\"150.1074\">objectiveFunction</text><line style=\"stroke: #383838; stroke-width: 1.5;\" x1=\"320\" x2=\"434\" y1=\"157.9375\" y2=\"157.9375\"/></a><!--MD5=[b9389687b975829384b498ac4b7476b2]\n",
       "class E8--><a href=\"psysml:c18a795f-fd76-4ffb-a70d-e612388b917b\" target=\"_top\" title=\"psysml:c18a795f-fd76-4ffb-a70d-e612388b917b\" xlink:actuate=\"onRequest\" xlink:href=\"psysml:c18a795f-fd76-4ffb-a70d-e612388b917b\" xlink:show=\"new\" xlink:title=\"psysml:c18a795f-fd76-4ffb-a70d-e612388b917b\" xlink:type=\"simple\"><rect fill=\"#FFFFFF\" height=\"31.9688\" id=\"E8\" rx=\"10\" ry=\"10\" style=\"stroke: #383838; stroke-width: 1.5;\" width=\"124\" x=\"178\" y=\"214\"/><text fill=\"#000000\" font-family=\"sans-serif\" font-size=\"12\" lengthAdjust=\"spacingAndGlyphs\" textLength=\"118\" x=\"181\" y=\"230.1387\">alternative: Engine</text><line style=\"stroke: #383838; stroke-width: 1.5;\" x1=\"179\" x2=\"301\" y1=\"237.9688\" y2=\"237.9688\"/></a><!--MD5=[fd4143e9d270a159db93a4ea2a975926]\n",
       "class E9--><a href=\"psysml:854815c3-8ae1-4c3d-a371-f12eec0f41ab\" target=\"_top\" title=\"psysml:854815c3-8ae1-4c3d-a371-f12eec0f41ab\" xlink:actuate=\"onRequest\" xlink:href=\"psysml:854815c3-8ae1-4c3d-a371-f12eec0f41ab\" xlink:show=\"new\" xlink:title=\"psysml:854815c3-8ae1-4c3d-a371-f12eec0f41ab\" xlink:type=\"simple\"><rect fill=\"#FFFFFF\" height=\"31.9688\" id=\"E9\" rx=\"10\" ry=\"10\" style=\"stroke: #383838; stroke-width: 1.5;\" width=\"178\" x=\"246\" y=\"174\"/><text fill=\"#000000\" font-family=\"sans-serif\" font-size=\"12\" lengthAdjust=\"spacingAndGlyphs\" textLength=\"172\" x=\"249\" y=\"190.1387\">selectedAlternative: Engine</text><line style=\"stroke: #383838; stroke-width: 1.5;\" x1=\"247\" x2=\"423\" y1=\"197.9688\" y2=\"197.9688\"/></a><g id=\"E1.E2\"><a href=\"psysml:8032ee8b-b45e-4aab-a334-ddc7f77ca09b\" target=\"_top\" title=\"psysml:8032ee8b-b45e-4aab-a334-ddc7f77ca09b\" xlink:actuate=\"onRequest\" xlink:href=\"psysml:8032ee8b-b45e-4aab-a334-ddc7f77ca09b\" xlink:show=\"new\" xlink:title=\"psysml:8032ee8b-b45e-4aab-a334-ddc7f77ca09b\" xlink:type=\"simple\"><rect fill=\"#FFFFFF\" height=\"42.9375\" id=\"E2\" style=\"stroke: #383838; stroke-width: 1.5;\" width=\"71\" x=\"302.5\" y=\"263\"/><rect fill=\"#F8F8F8\" height=\"37.9375\" style=\"stroke: #383838; stroke-width: 1.5;\" width=\"71\" x=\"302.5\" y=\"263\"/><text fill=\"#000000\" font-family=\"sans-serif\" font-size=\"12\" font-style=\"italic\" lengthAdjust=\"spacingAndGlyphs\" textLength=\"64\" x=\"306\" y=\"279.1387\">«part def»</text><text fill=\"#000000\" font-family=\"sans-serif\" font-size=\"12\" lengthAdjust=\"spacingAndGlyphs\" textLength=\"43\" x=\"316.5\" y=\"293.1074\">Engine</text></a></g><g id=\"E1.E3\"><a href=\"psysml:d1c59f8e-91b7-4873-9a7c-d548f1a74ff0\" target=\"_top\" title=\"psysml:d1c59f8e-91b7-4873-9a7c-d548f1a74ff0\" xlink:actuate=\"onRequest\" xlink:href=\"psysml:d1c59f8e-91b7-4873-9a7c-d548f1a74ff0\" xlink:show=\"new\" xlink:title=\"psysml:d1c59f8e-91b7-4873-9a7c-d548f1a74ff0\" xlink:type=\"simple\"><rect fill=\"#FFFFFF\" height=\"40\" id=\"E3\" rx=\"10\" ry=\"10\" style=\"stroke: #383838; stroke-width: 1.5;\" width=\"113\" x=\"180.5\" y=\"44\"/><rect fill=\"#F8F8F8\" height=\"23.9688\" rx=\"10\" ry=\"10\" style=\"stroke: #F8F8F8; stroke-width: 1.5;\" width=\"113\" x=\"180.5\" y=\"44\"/><rect fill=\"#F8F8F8\" height=\"10\" style=\"stroke: #F8F8F8; stroke-width: 1.5;\" width=\"113\" x=\"180.5\" y=\"57.9688\"/><rect fill=\"none\" height=\"40\" id=\"E3\" rx=\"10\" ry=\"10\" style=\"stroke: #383838; stroke-width: 1.5;\" width=\"113\" x=\"180.5\" y=\"44\"/><text fill=\"#000000\" font-family=\"sans-serif\" font-size=\"12\" lengthAdjust=\"spacingAndGlyphs\" textLength=\"102\" x=\"186\" y=\"60.1387\">engine1: Engine</text></a></g><g id=\"E1.E4\"><a href=\"psysml:b8b914f7-6e3e-418c-a7c7-b0f9195d6204\" target=\"_top\" title=\"psysml:b8b914f7-6e3e-418c-a7c7-b0f9195d6204\" xlink:actuate=\"onRequest\" xlink:href=\"psysml:b8b914f7-6e3e-418c-a7c7-b0f9195d6204\" xlink:show=\"new\" xlink:title=\"psysml:b8b914f7-6e3e-418c-a7c7-b0f9195d6204\" xlink:type=\"simple\"><rect fill=\"#FFFFFF\" height=\"40\" id=\"E4\" rx=\"10\" ry=\"10\" style=\"stroke: #383838; stroke-width: 1.5;\" width=\"113\" x=\"32.5\" y=\"44\"/><rect fill=\"#F8F8F8\" height=\"23.9688\" rx=\"10\" ry=\"10\" style=\"stroke: #F8F8F8; stroke-width: 1.5;\" width=\"113\" x=\"32.5\" y=\"44\"/><rect fill=\"#F8F8F8\" height=\"10\" style=\"stroke: #F8F8F8; stroke-width: 1.5;\" width=\"113\" x=\"32.5\" y=\"57.9688\"/><rect fill=\"none\" height=\"40\" id=\"E4\" rx=\"10\" ry=\"10\" style=\"stroke: #383838; stroke-width: 1.5;\" width=\"113\" x=\"32.5\" y=\"44\"/><text fill=\"#000000\" font-family=\"sans-serif\" font-size=\"12\" lengthAdjust=\"spacingAndGlyphs\" textLength=\"102\" x=\"38\" y=\"60.1387\">engine2: Engine</text></a></g><!--MD5=[15ebcb19ae302d9b601edb458606d402]\n",
       "link E5 to E2--><a href=\"psysml:0f7006cc-acd6-40d1-b198-a80e8f08765e\" target=\"_top\" title=\"psysml:0f7006cc-acd6-40d1-b198-a80e8f08765e\" xlink:actuate=\"onRequest\" xlink:href=\"psysml:0f7006cc-acd6-40d1-b198-a80e8f08765e\" xlink:show=\"new\" xlink:title=\"psysml:0f7006cc-acd6-40d1-b198-a80e8f08765e\" xlink:type=\"simple\"><path d=\"M447.17,87.12 C451.07,91.61 454,95 454,95 C454,95 462,120 462,120 C462,120 462,166 462,166 C462,166 425,206 425,206 C425,206 390.84,236.43 365.33,259.16 \" fill=\"none\" id=\"E5-&gt;E2\" style=\"stroke: #383838; stroke-width: 1.0; stroke-dasharray: 7.0,7.0;\"/><polygon fill=\"#383838\" points=\"361.31,262.73,370.6877,259.7203,365.0399,259.4002,365.3601,253.7524,361.31,262.73\" style=\"stroke: #383838; stroke-width: 1.0;\"/><text fill=\"#000000\" font-family=\"sans-serif\" font-size=\"13\" lengthAdjust=\"spacingAndGlyphs\" textLength=\"62\" x=\"455\" y=\"194.5669\">«subject»</text></a><!--MD5=[9120cf2e5df3bff93db8f754bbbc09b4]\n",
       "link E5 to E6--><a href=\"psysml:33b70aea-82ec-44f7-8a12-3ec54376cb03\" target=\"_top\" title=\"psysml:33b70aea-82ec-44f7-8a12-3ec54376cb03\" xlink:actuate=\"onRequest\" xlink:href=\"psysml:33b70aea-82ec-44f7-8a12-3ec54376cb03\" xlink:show=\"new\" xlink:title=\"psysml:33b70aea-82ec-44f7-8a12-3ec54376cb03\" xlink:type=\"simple\"><path d=\"M344.25,87.04 C327.02,91.57 314,95 314,95 C314,95 277.3,106.06 239.5,117.45 \" fill=\"none\" id=\"E5-&gt;E6\" style=\"stroke: #383838; stroke-width: 1.0;\"/><polygon fill=\"#383838\" points=\"231.43,119.88,239.9558,120.4372,238.2199,114.6938,231.43,119.88\" style=\"stroke: #383838; stroke-width: 1.0;\"/><text fill=\"#000000\" font-family=\"sans-serif\" font-size=\"13\" lengthAdjust=\"spacingAndGlyphs\" textLength=\"73\" x=\"315\" y=\"108.0669\">«objective»</text></a><!--MD5=[452b418e7f8a40397a49b8c0a78acc5b]\n",
       "reverse link E5 to E7--><a href=\"psysml:9ca3a684-dbe3-4511-9e21-3cef746855e2\" target=\"_top\" title=\"psysml:9ca3a684-dbe3-4511-9e21-3cef746855e2\" xlink:actuate=\"onRequest\" xlink:href=\"psysml:9ca3a684-dbe3-4511-9e21-3cef746855e2\" xlink:show=\"new\" xlink:title=\"psysml:9ca3a684-dbe3-4511-9e21-3cef746855e2\" xlink:type=\"simple\"><path d=\"M405.93,98.32 C401.13,105.57 396.16,113.08 391.72,119.78 \" fill=\"none\" id=\"E5&lt;-E7\" style=\"stroke: #383838; stroke-width: 1.0;\"/><polygon fill=\"#383838\" points=\"413.25,87.27,406.6021,90.0638,406.6241,97.2749,413.272,94.4811,413.25,87.27\" style=\"stroke: #383838; stroke-width: 1.0;\"/></a><!--MD5=[dc164f5e8a733ab456ef1add180e9e34]\n",
       "reverse link E7 to E8--><a href=\"psysml:8f87ba26-7a36-4a80-9ed1-e463a907c7c6\" target=\"_top\" title=\"psysml:8f87ba26-7a36-4a80-9ed1-e463a907c7c6\" xlink:actuate=\"onRequest\" xlink:href=\"psysml:8f87ba26-7a36-4a80-9ed1-e463a907c7c6\" xlink:show=\"new\" xlink:title=\"psysml:8f87ba26-7a36-4a80-9ed1-e463a907c7c6\" xlink:type=\"simple\"><path d=\"M305.99,164.56 C302.86,165.46 301,166 301,166 C301,166 245,174 245,174 C245,174 242.85,197.69 241.37,213.97 \" fill=\"none\" id=\"E7&lt;-E8\" style=\"stroke: #383838; stroke-width: 1.0;\"/><polygon fill=\"#FFFFFF\" points=\"318.63,160.9,311.7544,158.7261,307.1032,164.2367,313.9788,166.4106,318.63,160.9\" style=\"stroke: #383838; stroke-width: 1.0;\"/><text fill=\"#000000\" font-family=\"sans-serif\" font-size=\"13\" lengthAdjust=\"spacingAndGlyphs\" textLength=\"8\" x=\"229.8486\" y=\"203.2022\">1</text></a><!--MD5=[f1f3f9f2fc535e6147756cb86a7f2e32]\n",
       "link E8 to E2--><a href=\"psysml:bdf7178e-b1d2-4aa0-b7b5-71013aa1f7a9\" target=\"_top\" title=\"psysml:bdf7178e-b1d2-4aa0-b7b5-71013aa1f7a9\" xlink:actuate=\"onRequest\" xlink:href=\"psysml:bdf7178e-b1d2-4aa0-b7b5-71013aa1f7a9\" xlink:show=\"new\" xlink:title=\"psysml:bdf7178e-b1d2-4aa0-b7b5-71013aa1f7a9\" xlink:type=\"simple\"><path d=\"M268.08,246.04 C273.23,248.8 278.76,251.77 284.38,254.77 \" fill=\"none\" id=\"E8-&gt;E2\" style=\"stroke: #383838; stroke-width: 1.0;\"/><polygon fill=\"#FFFFFF\" points=\"302.21,264.33,282.1553,261.5358,288.7616,249.1926,302.21,264.33\" style=\"stroke: #383838; stroke-width: 1.0;\"/><ellipse cx=\"278.0736\" cy=\"257.0828\" fill=\"#383838\" rx=\"2\" ry=\"2\" style=\"stroke: #383838; stroke-width: 1.0;\"/><ellipse cx=\"282.7924\" cy=\"248.2661\" fill=\"#383838\" rx=\"2\" ry=\"2\" style=\"stroke: #383838; stroke-width: 1.0;\"/></a><!--MD5=[9ae28de373ca99bb8a1b38d63370ca7e]\n",
       "reverse link E5 to E9--><a href=\"psysml:a1ab5fdf-7d24-4497-9ea2-3c4d95277eba\" target=\"_top\" title=\"psysml:a1ab5fdf-7d24-4497-9ea2-3c4d95277eba\" xlink:actuate=\"onRequest\" xlink:href=\"psysml:a1ab5fdf-7d24-4497-9ea2-3c4d95277eba\" xlink:show=\"new\" xlink:title=\"psysml:a1ab5fdf-7d24-4497-9ea2-3c4d95277eba\" xlink:type=\"simple\"><path d=\"M443.46,99.01 C448.58,110.28 453,120 453,120 C453,120 453,166 453,166 C453,166 434.45,169.62 412.06,173.98 \" fill=\"none\" id=\"E5&lt;-E9\" style=\"stroke: #383838; stroke-width: 1.0;\"/><polygon fill=\"#FFFFFF\" points=\"438.02,87.05,436.8555,94.1665,442.9767,97.9785,444.1412,90.862,438.02,87.05\" style=\"stroke: #383838; stroke-width: 1.0;\"/><text fill=\"#000000\" font-family=\"sans-serif\" font-size=\"13\" lengthAdjust=\"spacingAndGlyphs\" textLength=\"8\" x=\"432.1312\" y=\"185.3289\">1</text></a><!--MD5=[5c3bb36fe832a92c7f0e1807dd65209d]\n",
       "link E9 to E2--><a href=\"psysml:9bedaae2-b2c6-4d70-8011-f34c154ea99f\" target=\"_top\" title=\"psysml:9bedaae2-b2c6-4d70-8011-f34c154ea99f\" xlink:actuate=\"onRequest\" xlink:href=\"psysml:9bedaae2-b2c6-4d70-8011-f34c154ea99f\" xlink:show=\"new\" xlink:title=\"psysml:9bedaae2-b2c6-4d70-8011-f34c154ea99f\" xlink:type=\"simple\"><path d=\"M335.5,206.27 C335.82,216.14 336.25,229.48 336.66,242.29 \" fill=\"none\" id=\"E9-&gt;E2\" style=\"stroke: #383838; stroke-width: 1.0;\"/><polygon fill=\"#FFFFFF\" points=\"337.32,262.66,329.7128,243.8949,343.7055,243.4448,337.32,262.66\" style=\"stroke: #383838; stroke-width: 1.0;\"/><ellipse cx=\"331.5285\" cy=\"238.1335\" fill=\"#383838\" rx=\"2\" ry=\"2\" style=\"stroke: #383838; stroke-width: 1.0;\"/><ellipse cx=\"341.5233\" cy=\"237.812\" fill=\"#383838\" rx=\"2\" ry=\"2\" style=\"stroke: #383838; stroke-width: 1.0;\"/></a><!--MD5=[74b552eb1538b20aad62b5c7b7d656da]\n",
       "@startuml\r\n",
       "skinparam ranksep 10\r\n",
       "skinparam rectangle {\r\n",
       " backgroundColor<<block>> LightGreen\r\n",
       "}\r\n",
       "skinparam linetype polyline\r\n",
       "skinparam monochrome true\r\n",
       "skinparam classbackgroundcolor white\r\n",
       "skinparam shadowing false\r\n",
       "skinparam wrapWidth 300\r\n",
       "hide circle\r\n",
       "\r\n",
       "package \"TradeStudyTest\" as E1  [[psysml:e59f1b4e-bf48-44e5-8b03-de7ba4c0da2b ]]  {\r\n",
       "rec def \"Engine\" as E2  <<(T,blue) part def>> [[psysml:8032ee8b-b45e-4aab-a334-ddc7f77ca09b ]] {\r\n",
       "}\r\n",
       "rec usage \"engine1: Engine\" as E3  [[psysml:d1c59f8e-91b7-4873-9a7c-d548f1a74ff0 ]] {\r\n",
       "}\r\n",
       "rec usage \"engine2: Engine\" as E4  [[psysml:b8b914f7-6e3e-418c-a7c7-b0f9195d6204 ]] {\r\n",
       "}\r\n",
       "comp usage \"engineTradeStudy: TradeStudy\" as E5 << analysis>> [[psysml:d010e11c-db6d-479b-b98e-aa7ac12f08dc ]] {\r\n",
       "}\r\n",
       "comp usage \"tradeStudyObjective: MaximizeObjective\" as E6  <<(T,blue) requirement>> [[psysml:baa50d6d-f728-4fdb-a3d8-0324d2e9c263 ]] {\r\n",
       "}\r\n",
       "comp usage \"objectiveFunction\" as E7  <<(T,blue) calculation>> [[psysml:c3bcbf7c-d2b8-4beb-b9e4-ef0b91eba9be ]] {\r\n",
       "}\r\n",
       "comp usage \"alternative: Engine\" as E8  [[psysml:c18a795f-fd76-4ffb-a70d-e612388b917b ]] {\r\n",
       "}\r\n",
       "comp usage \"selectedAlternative: Engine\" as E9  [[psysml:854815c3-8ae1-4c3d-a371-f12eec0f41ab ]] {\r\n",
       "}\r\n",
       "}\r\n",
       "E5 ..> E2 [[psysml:0f7006cc-acd6-40d1-b198-a80e8f08765e ]] : <<subject>>\r\n",
       "E5 - ->> E6 [[psysml:33b70aea-82ec-44f7-8a12-3ec54376cb03 ]] : <<objective>>\r\n",
       "E5 *- - E7 [[psysml:9ca3a684-dbe3-4511-9e21-3cef746855e2 ]] \r\n",
       "E7 o- - \"1\"E8 [[psysml:8f87ba26-7a36-4a80-9ed1-e463a907c7c6 ]] \r\n",
       "E8 - -:|> E2 [[psysml:bdf7178e-b1d2-4aa0-b7b5-71013aa1f7a9 ]] \r\n",
       "E5 o- - \"1\"E9 [[psysml:a1ab5fdf-7d24-4497-9ea2-3c4d95277eba ]] \r\n",
       "E9 - -:|> E2 [[psysml:9bedaae2-b2c6-4d70-8011-f34c154ea99f ]] \r\n",
       "@enduml\r\n",
       "\n",
       "PlantUML version 1.2020.13(Sat Jun 13 12:26:38 UTC 2020)\n",
       "(EPL source distribution)\n",
       "Java Runtime: OpenJDK Runtime Environment\n",
       "JVM: OpenJDK 64-Bit Server VM\n",
       "Default Encoding: UTF-8\n",
       "Language: en\n",
       "Country: null\n",
       "--></g></svg>"
      ]
     },
     "execution_count": 12,
     "metadata": {},
     "output_type": "execute_result"
    }
   ],
   "source": [
    "%viz --style=\"POLYLINE\" --view=\"Interconnection\" \"TradeStudyTest\""
   ]
  },
  {
   "cell_type": "code",
   "execution_count": 13,
   "id": "301d6415",
   "metadata": {
    "execution": {
     "iopub.execute_input": "2021-09-27T07:19:34.879905Z",
     "iopub.status.busy": "2021-09-27T07:19:34.879454Z",
     "iopub.status.idle": "2021-09-27T07:19:34.908982Z",
     "shell.execute_reply": "2021-09-27T07:19:34.908589Z"
    }
   },
   "outputs": [
    {
     "data": {
      "image/svg+xml": [
       "<?xml version=\"1.0\" encoding=\"UTF-8\" standalone=\"no\"?><svg xmlns=\"http://www.w3.org/2000/svg\" xmlns:xlink=\"http://www.w3.org/1999/xlink\" contentScriptType=\"application/ecmascript\" contentStyleType=\"text/css\" height=\"178px\" preserveAspectRatio=\"none\" style=\"width:434px;height:178px;\" version=\"1.1\" viewBox=\"0 0 434 178\" width=\"434px\" zoomAndPan=\"magnify\"><defs/><g><!--MD5=[fbc87193dbaf4d95561dea2c320d4a47]\n",
       "cluster E1--><a href=\"psysml:d010e11c-db6d-479b-b98e-aa7ac12f08dc\" target=\"_top\" title=\"psysml:d010e11c-db6d-479b-b98e-aa7ac12f08dc\" xlink:actuate=\"onRequest\" xlink:href=\"psysml:d010e11c-db6d-479b-b98e-aa7ac12f08dc\" xlink:show=\"new\" xlink:title=\"psysml:d010e11c-db6d-479b-b98e-aa7ac12f08dc\" xlink:type=\"simple\"><rect fill=\"#FFFFFF\" height=\"103.72\" id=\"E1\" rx=\"10\" ry=\"10\" style=\"stroke: #383838; stroke-width: 1.5;\" width=\"327\" x=\"47\" y=\"42.0986\"/><rect fill=\"#F8F8F8\" height=\"37.9375\" rx=\"10\" ry=\"10\" style=\"stroke: #F8F8F8; stroke-width: 1.5;\" width=\"327\" x=\"47\" y=\"42.0986\"/><rect fill=\"#F8F8F8\" height=\"10\" style=\"stroke: #F8F8F8; stroke-width: 1.5;\" width=\"327\" x=\"47\" y=\"70.0361\"/><rect fill=\"none\" height=\"103.72\" id=\"E1\" rx=\"10\" ry=\"10\" style=\"stroke: #383838; stroke-width: 1.5;\" width=\"327\" x=\"47\" y=\"42.0986\"/><text fill=\"#000000\" font-family=\"sans-serif\" font-size=\"12\" font-style=\"italic\" lengthAdjust=\"spacingAndGlyphs\" textLength=\"64\" x=\"178.5\" y=\"58.2373\">«analysis»</text><text fill=\"#000000\" font-family=\"sans-serif\" font-size=\"12\" lengthAdjust=\"spacingAndGlyphs\" textLength=\"114\" x=\"153.5\" y=\"72.2061\">engineTradeStudy</text><line style=\"stroke: #383838; stroke-width: 1.0;\" x1=\"47\" x2=\"374\" y1=\"80.0361\" y2=\"80.0361\"/></a><!--MD5=[d5e69f78d87373223dbae638b30a9c99]\n",
       "cluster E3--><a href=\"psysml:c3bcbf7c-d2b8-4beb-b9e4-ef0b91eba9be\" target=\"_top\" title=\"psysml:c3bcbf7c-d2b8-4beb-b9e4-ef0b91eba9be\" xlink:actuate=\"onRequest\" xlink:href=\"psysml:c3bcbf7c-d2b8-4beb-b9e4-ef0b91eba9be\" xlink:show=\"new\" xlink:title=\"psysml:c3bcbf7c-d2b8-4beb-b9e4-ef0b91eba9be\" xlink:type=\"simple\"><rect fill=\"#FFFFFF\" height=\"81.72\" id=\"E3\" rx=\"10\" ry=\"10\" style=\"stroke: #383838; stroke-width: 1.5;\" width=\"132\" x=\"214.125\" y=\"64.0986\"/><rect fill=\"#F8F8F8\" height=\"37.9375\" rx=\"10\" ry=\"10\" style=\"stroke: #F8F8F8; stroke-width: 1.5;\" width=\"132\" x=\"214.125\" y=\"64.0986\"/><rect fill=\"#F8F8F8\" height=\"10\" style=\"stroke: #F8F8F8; stroke-width: 1.5;\" width=\"132\" x=\"214.125\" y=\"92.0361\"/><rect fill=\"none\" height=\"81.72\" id=\"E3\" rx=\"10\" ry=\"10\" style=\"stroke: #383838; stroke-width: 1.5;\" width=\"132\" x=\"214.125\" y=\"64.0986\"/><text fill=\"#000000\" font-family=\"sans-serif\" font-size=\"12\" font-style=\"italic\" lengthAdjust=\"spacingAndGlyphs\" textLength=\"82\" x=\"239.125\" y=\"80.2373\">«calculation»</text><text fill=\"#000000\" font-family=\"sans-serif\" font-size=\"12\" lengthAdjust=\"spacingAndGlyphs\" textLength=\"110\" x=\"225.125\" y=\"94.2061\">objectiveFunction</text><line style=\"stroke: #383838; stroke-width: 1.0;\" x1=\"214.125\" x2=\"346.125\" y1=\"102.0361\" y2=\"102.0361\"/></a><text fill=\"#000000\" font-family=\"sans-serif\" font-size=\"14\" lengthAdjust=\"spacingAndGlyphs\" textLength=\"118\" x=\"6\" y=\"20.7969\">studyAlternatives</text><rect fill=\"#383838\" height=\"12\" style=\"stroke: #F8F8F8; stroke-width: 1.5;\" width=\"12\" x=\"59\" y=\"36.0986\"/><text fill=\"#000000\" font-family=\"sans-serif\" font-size=\"14\" lengthAdjust=\"spacingAndGlyphs\" textLength=\"132\" x=\"290\" y=\"164.8138\">selectedAlternative</text><rect fill=\"#383838\" height=\"12\" style=\"stroke: #F8F8F8; stroke-width: 1.5;\" width=\"12\" x=\"350\" y=\"139.8186\"/><text fill=\"#000000\" font-family=\"sans-serif\" font-size=\"14\" lengthAdjust=\"spacingAndGlyphs\" textLength=\"39\" x=\"215.5\" y=\"164.8138\">result</text><rect fill=\"#383838\" height=\"12\" style=\"stroke: #F8F8F8; stroke-width: 1.5;\" width=\"12\" x=\"229\" y=\"139.8186\"/><!--MD5=[991cc16db5ac5bf4e5a4a898e694cd28]\n",
       "@startuml\r\n",
       "skinparam ranksep 8\r\n",
       "skinparam linetype polyline\r\n",
       "skinparam monochrome true\r\n",
       "skinparam classbackgroundcolor white\r\n",
       "skinparam shadowing false\r\n",
       "skinparam wrapWidth 300\r\n",
       "hide circle\r\n",
       "\r\n",
       "rec usage \"engineTradeStudy\" as E1 << analysis>> [[psysml:d010e11c-db6d-479b-b98e-aa7ac12f08dc ]] {\r\n",
       "portin \"studyAlternatives\" as E2  [[psysml:c281ae49-24a5-493f-bfdc-d0e83f5bb327 ]] \r\n",
       "rec usage \"objectiveFunction\" as E3  <<(T,blue) calculation>> [[psysml:c3bcbf7c-d2b8-4beb-b9e4-ef0b91eba9be ]] {\r\n",
       "portout \"result\" as E4  [[psysml:6508d5a9-7a54-4e99-9afa-e959802dfdd5 ]] \r\n",
       "}\r\n",
       "\r\n",
       "portout \"selectedAlternative\" as E5  [[psysml:854815c3-8ae1-4c3d-a371-f12eec0f41ab ]] \r\n",
       "}\r\n",
       "\r\n",
       "@enduml\r\n",
       "\n",
       "PlantUML version 1.2020.13(Sat Jun 13 12:26:38 UTC 2020)\n",
       "(EPL source distribution)\n",
       "Java Runtime: OpenJDK Runtime Environment\n",
       "JVM: OpenJDK 64-Bit Server VM\n",
       "Default Encoding: UTF-8\n",
       "Language: en\n",
       "Country: null\n",
       "--></g></svg>"
      ]
     },
     "execution_count": 13,
     "metadata": {},
     "output_type": "execute_result"
    }
   ],
   "source": [
    "%viz --style=\"POLYLINE\" --view=\"Action\" \"TradeStudyTest\""
   ]
  },
  {
   "cell_type": "code",
   "execution_count": 14,
   "id": "f1eb9369",
   "metadata": {
    "execution": {
     "iopub.execute_input": "2021-09-27T07:19:34.959157Z",
     "iopub.status.busy": "2021-09-27T07:19:34.958718Z",
     "iopub.status.idle": "2021-09-27T07:19:34.965239Z",
     "shell.execute_reply": "2021-09-27T07:19:34.965561Z"
    }
   },
   "outputs": [
    {
     "data": {
      "image/svg+xml": [
       "<?xml version=\"1.0\" encoding=\"UTF-8\" standalone=\"no\"?><svg xmlns=\"http://www.w3.org/2000/svg\" xmlns:xlink=\"http://www.w3.org/1999/xlink\" contentScriptType=\"application/ecmascript\" contentStyleType=\"text/css\" height=\"12px\" preserveAspectRatio=\"none\" style=\"width:12px;height:12px;\" version=\"1.1\" viewBox=\"0 0 12 12\" width=\"12px\" zoomAndPan=\"magnify\"><defs/><g><!--MD5=[dc938048236c351797870c36b62f92ad]\n",
       "@startuml\r\n",
       "skinparam roundcorner 20\r\n",
       "skinparam BoxPadding 20\r\n",
       "skinparam SequenceBoxBackgroundColor #white\r\n",
       "skinparam style strictuml\r\n",
       "skinparam maxMessageSize 100\r\n",
       "skinparam linetype polyline\r\n",
       "skinparam monochrome true\r\n",
       "skinparam classbackgroundcolor white\r\n",
       "skinparam shadowing false\r\n",
       "skinparam wrapWidth 300\r\n",
       "hide circle\r\n",
       "\r\n",
       "@enduml\r\n",
       "\n",
       "PlantUML version 1.2020.13(Sat Jun 13 12:26:38 UTC 2020)\n",
       "(EPL source distribution)\n",
       "Java Runtime: OpenJDK Runtime Environment\n",
       "JVM: OpenJDK 64-Bit Server VM\n",
       "Default Encoding: UTF-8\n",
       "Language: en\n",
       "Country: null\n",
       "--></g></svg>"
      ]
     },
     "execution_count": 14,
     "metadata": {},
     "output_type": "execute_result"
    }
   ],
   "source": [
    "%viz --style=\"POLYLINE\" --view=\"Sequence\" \"TradeStudyTest\""
   ]
  },
  {
   "cell_type": "code",
   "execution_count": 15,
   "id": "09b97612",
   "metadata": {
    "execution": {
     "iopub.execute_input": "2021-09-27T07:19:35.016014Z",
     "iopub.status.busy": "2021-09-27T07:19:35.015556Z",
     "iopub.status.idle": "2021-09-27T07:19:35.061887Z",
     "shell.execute_reply": "2021-09-27T07:19:35.061662Z"
    }
   },
   "outputs": [
    {
     "data": {
      "image/svg+xml": [
       "<?xml version=\"1.0\" encoding=\"UTF-8\" standalone=\"no\"?><svg xmlns=\"http://www.w3.org/2000/svg\" xmlns:xlink=\"http://www.w3.org/1999/xlink\" contentScriptType=\"application/ecmascript\" contentStyleType=\"text/css\" height=\"497px\" preserveAspectRatio=\"none\" style=\"width:554px;height:497px;\" version=\"1.1\" viewBox=\"0 0 554 497\" width=\"554px\" zoomAndPan=\"magnify\"><defs/><g><!--MD5=[fbc87193dbaf4d95561dea2c320d4a47]\n",
       "cluster E1--><a href=\"psysml:e59f1b4e-bf48-44e5-8b03-de7ba4c0da2b\" target=\"_top\" title=\"psysml:e59f1b4e-bf48-44e5-8b03-de7ba4c0da2b\" xlink:actuate=\"onRequest\" xlink:href=\"psysml:e59f1b4e-bf48-44e5-8b03-de7ba4c0da2b\" xlink:show=\"new\" xlink:title=\"psysml:e59f1b4e-bf48-44e5-8b03-de7ba4c0da2b\" xlink:type=\"simple\"><polygon fill=\"#FFFFFF\" points=\"16,6,132,6,139,28.2969,532,28.2969,532,485,16,485,16,6\" style=\"stroke: #000000; stroke-width: 1.5;\"/><line style=\"stroke: #000000; stroke-width: 1.5;\" x1=\"16\" x2=\"139\" y1=\"28.2969\" y2=\"28.2969\"/><text fill=\"#000000\" font-family=\"sans-serif\" font-size=\"14\" font-weight=\"bold\" lengthAdjust=\"spacingAndGlyphs\" textLength=\"110\" x=\"20\" y=\"20.9951\">TradeStudyTest</text></a><!--MD5=[b4997ac47864f28c2f74865a473b2911]\n",
       "class E2--><a href=\"psysml:8032ee8b-b45e-4aab-a334-ddc7f77ca09b\" target=\"_top\" title=\"psysml:8032ee8b-b45e-4aab-a334-ddc7f77ca09b\" xlink:actuate=\"onRequest\" xlink:href=\"psysml:8032ee8b-b45e-4aab-a334-ddc7f77ca09b\" xlink:show=\"new\" xlink:title=\"psysml:8032ee8b-b45e-4aab-a334-ddc7f77ca09b\" xlink:type=\"simple\"><rect fill=\"#FFFFFF\" height=\"45.9375\" id=\"E2\" style=\"stroke: #383838; stroke-width: 1.5;\" width=\"66\" x=\"196\" y=\"423\"/><text fill=\"#000000\" font-family=\"sans-serif\" font-size=\"12\" font-style=\"italic\" lengthAdjust=\"spacingAndGlyphs\" textLength=\"64\" x=\"197\" y=\"439.1387\">«part def»</text><text fill=\"#000000\" font-family=\"sans-serif\" font-size=\"12\" lengthAdjust=\"spacingAndGlyphs\" textLength=\"43\" x=\"207.5\" y=\"453.1074\">Engine</text><line style=\"stroke: #383838; stroke-width: 1.5;\" x1=\"197\" x2=\"261\" y1=\"460.9375\" y2=\"460.9375\"/></a><!--MD5=[09b614a08d8cba4a07c9adeb5e0fee81]\n",
       "class E3--><a href=\"psysml:d1c59f8e-91b7-4873-9a7c-d548f1a74ff0\" target=\"_top\" title=\"psysml:d1c59f8e-91b7-4873-9a7c-d548f1a74ff0\" xlink:actuate=\"onRequest\" xlink:href=\"psysml:d1c59f8e-91b7-4873-9a7c-d548f1a74ff0\" xlink:show=\"new\" xlink:title=\"psysml:d1c59f8e-91b7-4873-9a7c-d548f1a74ff0\" xlink:type=\"simple\"><rect fill=\"#FFFFFF\" height=\"45.9375\" id=\"E3\" rx=\"10\" ry=\"10\" style=\"stroke: #383838; stroke-width: 1.5;\" width=\"108\" x=\"408\" y=\"316\"/><text fill=\"#000000\" font-family=\"sans-serif\" font-size=\"12\" font-style=\"italic\" lengthAdjust=\"spacingAndGlyphs\" textLength=\"40\" x=\"442\" y=\"332.1387\">«part»</text><text fill=\"#000000\" font-family=\"sans-serif\" font-size=\"12\" lengthAdjust=\"spacingAndGlyphs\" textLength=\"102\" x=\"411\" y=\"346.1074\">engine1: Engine</text><line style=\"stroke: #383838; stroke-width: 1.5;\" x1=\"409\" x2=\"515\" y1=\"353.9375\" y2=\"353.9375\"/></a><!--MD5=[ebbe1d658d1005bcc118a6aa81145e00]\n",
       "class E4--><a href=\"psysml:b8b914f7-6e3e-418c-a7c7-b0f9195d6204\" target=\"_top\" title=\"psysml:b8b914f7-6e3e-418c-a7c7-b0f9195d6204\" xlink:actuate=\"onRequest\" xlink:href=\"psysml:b8b914f7-6e3e-418c-a7c7-b0f9195d6204\" xlink:show=\"new\" xlink:title=\"psysml:b8b914f7-6e3e-418c-a7c7-b0f9195d6204\" xlink:type=\"simple\"><rect fill=\"#FFFFFF\" height=\"45.9375\" id=\"E4\" rx=\"10\" ry=\"10\" style=\"stroke: #383838; stroke-width: 1.5;\" width=\"108\" x=\"265\" y=\"316\"/><text fill=\"#000000\" font-family=\"sans-serif\" font-size=\"12\" font-style=\"italic\" lengthAdjust=\"spacingAndGlyphs\" textLength=\"40\" x=\"299\" y=\"332.1387\">«part»</text><text fill=\"#000000\" font-family=\"sans-serif\" font-size=\"12\" lengthAdjust=\"spacingAndGlyphs\" textLength=\"102\" x=\"268\" y=\"346.1074\">engine2: Engine</text><line style=\"stroke: #383838; stroke-width: 1.5;\" x1=\"266\" x2=\"372\" y1=\"353.9375\" y2=\"353.9375\"/></a><!--MD5=[270fce915f116d4de14055a7c1d9a0f3]\n",
       "class E5--><a href=\"psysml:d010e11c-db6d-479b-b98e-aa7ac12f08dc\" target=\"_top\" title=\"psysml:d010e11c-db6d-479b-b98e-aa7ac12f08dc\" xlink:actuate=\"onRequest\" xlink:href=\"psysml:d010e11c-db6d-479b-b98e-aa7ac12f08dc\" xlink:show=\"new\" xlink:title=\"psysml:d010e11c-db6d-479b-b98e-aa7ac12f08dc\" xlink:type=\"simple\"><rect fill=\"#FFFFFF\" height=\"45.9375\" id=\"E5\" rx=\"10\" ry=\"10\" style=\"stroke: #383838; stroke-width: 1.5;\" width=\"199\" x=\"237.5\" y=\"41\"/><text fill=\"#000000\" font-family=\"sans-serif\" font-size=\"12\" font-style=\"italic\" lengthAdjust=\"spacingAndGlyphs\" textLength=\"64\" x=\"305\" y=\"57.1387\">«analysis»</text><text fill=\"#000000\" font-family=\"sans-serif\" font-size=\"12\" lengthAdjust=\"spacingAndGlyphs\" textLength=\"193\" x=\"240.5\" y=\"71.1074\">engineTradeStudy: TradeStudy</text><line style=\"stroke: #383838; stroke-width: 1.5;\" x1=\"238.5\" x2=\"435.5\" y1=\"78.9375\" y2=\"78.9375\"/></a><!--MD5=[60a26617385b1d2d0262a64233df1f8d]\n",
       "class E6--><a href=\"psysml:baa50d6d-f728-4fdb-a3d8-0324d2e9c263\" target=\"_top\" title=\"psysml:baa50d6d-f728-4fdb-a3d8-0324d2e9c263\" xlink:actuate=\"onRequest\" xlink:href=\"psysml:baa50d6d-f728-4fdb-a3d8-0324d2e9c263\" xlink:show=\"new\" xlink:title=\"psysml:baa50d6d-f728-4fdb-a3d8-0324d2e9c263\" xlink:type=\"simple\"><rect fill=\"#FFFFFF\" height=\"45.9375\" id=\"E6\" rx=\"10\" ry=\"10\" style=\"stroke: #383838; stroke-width: 1.5;\" width=\"251\" x=\"76.5\" y=\"164\"/><text fill=\"#000000\" font-family=\"sans-serif\" font-size=\"12\" font-style=\"italic\" lengthAdjust=\"spacingAndGlyphs\" textLength=\"91\" x=\"156.5\" y=\"180.1387\">«requirement»</text><text fill=\"#000000\" font-family=\"sans-serif\" font-size=\"12\" lengthAdjust=\"spacingAndGlyphs\" textLength=\"245\" x=\"79.5\" y=\"194.1074\">tradeStudyObjective: MaximizeObjective</text><line style=\"stroke: #383838; stroke-width: 1.5;\" x1=\"77.5\" x2=\"326.5\" y1=\"201.9375\" y2=\"201.9375\"/></a><!--MD5=[2156ba9850f5573cc1fc38a6a4b2f02b]\n",
       "class E7--><a href=\"psysml:c3bcbf7c-d2b8-4beb-b9e4-ef0b91eba9be\" target=\"_top\" title=\"psysml:c3bcbf7c-d2b8-4beb-b9e4-ef0b91eba9be\" xlink:actuate=\"onRequest\" xlink:href=\"psysml:c3bcbf7c-d2b8-4beb-b9e4-ef0b91eba9be\" xlink:show=\"new\" xlink:title=\"psysml:c3bcbf7c-d2b8-4beb-b9e4-ef0b91eba9be\" xlink:type=\"simple\"><rect fill=\"#FFFFFF\" height=\"45.9375\" id=\"E7\" rx=\"10\" ry=\"10\" style=\"stroke: #383838; stroke-width: 1.5;\" width=\"116\" x=\"363\" y=\"164\"/><text fill=\"#000000\" font-family=\"sans-serif\" font-size=\"12\" font-style=\"italic\" lengthAdjust=\"spacingAndGlyphs\" textLength=\"82\" x=\"380\" y=\"180.1387\">«calculation»</text><text fill=\"#000000\" font-family=\"sans-serif\" font-size=\"12\" lengthAdjust=\"spacingAndGlyphs\" textLength=\"110\" x=\"366\" y=\"194.1074\">objectiveFunction</text><line style=\"stroke: #383838; stroke-width: 1.5;\" x1=\"364\" x2=\"478\" y1=\"201.9375\" y2=\"201.9375\"/></a><!--MD5=[b9389687b975829384b498ac4b7476b2]\n",
       "class E8--><a href=\"psysml:c18a795f-fd76-4ffb-a70d-e612388b917b\" target=\"_top\" title=\"psysml:c18a795f-fd76-4ffb-a70d-e612388b917b\" xlink:actuate=\"onRequest\" xlink:href=\"psysml:c18a795f-fd76-4ffb-a70d-e612388b917b\" xlink:show=\"new\" xlink:title=\"psysml:c18a795f-fd76-4ffb-a70d-e612388b917b\" xlink:type=\"simple\"><rect fill=\"#FFFFFF\" height=\"45.9375\" id=\"E8\" rx=\"10\" ry=\"10\" style=\"stroke: #383838; stroke-width: 1.5;\" width=\"124\" x=\"69\" y=\"316\"/><text fill=\"#000000\" font-family=\"sans-serif\" font-size=\"12\" font-style=\"italic\" lengthAdjust=\"spacingAndGlyphs\" textLength=\"40\" x=\"111\" y=\"332.1387\">«part»</text><text fill=\"#000000\" font-family=\"sans-serif\" font-size=\"12\" lengthAdjust=\"spacingAndGlyphs\" textLength=\"118\" x=\"72\" y=\"346.1074\">alternative: Engine</text><line style=\"stroke: #383838; stroke-width: 1.5;\" x1=\"70\" x2=\"192\" y1=\"353.9375\" y2=\"353.9375\"/></a><!--MD5=[fd4143e9d270a159db93a4ea2a975926]\n",
       "class E9--><a href=\"psysml:854815c3-8ae1-4c3d-a371-f12eec0f41ab\" target=\"_top\" title=\"psysml:854815c3-8ae1-4c3d-a371-f12eec0f41ab\" xlink:actuate=\"onRequest\" xlink:href=\"psysml:854815c3-8ae1-4c3d-a371-f12eec0f41ab\" xlink:show=\"new\" xlink:title=\"psysml:854815c3-8ae1-4c3d-a371-f12eec0f41ab\" xlink:type=\"simple\"><rect fill=\"#FFFFFF\" height=\"45.9375\" id=\"E9\" rx=\"10\" ry=\"10\" style=\"stroke: #383838; stroke-width: 1.5;\" width=\"178\" x=\"289\" y=\"240\"/><text fill=\"#000000\" font-family=\"sans-serif\" font-size=\"12\" font-style=\"italic\" lengthAdjust=\"spacingAndGlyphs\" textLength=\"40\" x=\"358\" y=\"256.1387\">«part»</text><text fill=\"#000000\" font-family=\"sans-serif\" font-size=\"12\" lengthAdjust=\"spacingAndGlyphs\" textLength=\"172\" x=\"292\" y=\"270.1074\">selectedAlternative: Engine</text><line style=\"stroke: #383838; stroke-width: 1.5;\" x1=\"290\" x2=\"466\" y1=\"277.9375\" y2=\"277.9375\"/></a><!--MD5=[05d275557350bfb9b23a4ef7222b4c39]\n",
       "link E3 to E2--><a href=\"psysml:a477e10c-c644-4ab8-a0d7-73b747f4931b\" target=\"_top\" title=\"psysml:a477e10c-c644-4ab8-a0d7-73b747f4931b\" xlink:actuate=\"onRequest\" xlink:href=\"psysml:a477e10c-c644-4ab8-a0d7-73b747f4931b\" xlink:show=\"new\" xlink:title=\"psysml:a477e10c-c644-4ab8-a0d7-73b747f4931b\" xlink:type=\"simple\"><path d=\"M413.16,362.01 C374.25,379.54 319.95,404.01 280.39,421.84 \" fill=\"none\" id=\"E3-&gt;E2\" style=\"stroke: #383838; stroke-width: 1.0;\"/><polygon fill=\"#FFFFFF\" points=\"262.02,430.12,276.4666,415.9321,282.2183,428.696,262.02,430.12\" style=\"stroke: #383838; stroke-width: 1.0;\"/><ellipse cx=\"282.485\" cy=\"415.4137\" fill=\"#383838\" rx=\"2\" ry=\"2\" style=\"stroke: #383838; stroke-width: 1.0;\"/><ellipse cx=\"286.5934\" cy=\"424.5308\" fill=\"#383838\" rx=\"2\" ry=\"2\" style=\"stroke: #383838; stroke-width: 1.0;\"/></a><!--MD5=[185131fc0dcab0a4505a2ebe144e961b]\n",
       "link E4 to E2--><a href=\"psysml:006a8138-edc7-4443-807d-fbbb291c6f87\" target=\"_top\" title=\"psysml:006a8138-edc7-4443-807d-fbbb291c6f87\" xlink:actuate=\"onRequest\" xlink:href=\"psysml:006a8138-edc7-4443-807d-fbbb291c6f87\" xlink:show=\"new\" xlink:title=\"psysml:006a8138-edc7-4443-807d-fbbb291c6f87\" xlink:type=\"simple\"><path d=\"M300.13,362.01 C288.93,375.08 274.42,392.01 261.42,407.17 \" fill=\"none\" id=\"E4-&gt;E2\" style=\"stroke: #383838; stroke-width: 1.0;\"/><polygon fill=\"#FFFFFF\" points=\"248.15,422.66,255.1988,403.678,265.8291,412.7883,248.15,422.66\" style=\"stroke: #383838; stroke-width: 1.0;\"/><ellipse cx=\"260.4266\" cy=\"400.6515\" fill=\"#383838\" rx=\"2\" ry=\"2\" style=\"stroke: #383838; stroke-width: 1.0;\"/><ellipse cx=\"268.0196\" cy=\"407.1588\" fill=\"#383838\" rx=\"2\" ry=\"2\" style=\"stroke: #383838; stroke-width: 1.0;\"/></a><!--MD5=[15ebcb19ae302d9b601edb458606d402]\n",
       "link E5 to E2--><a href=\"psysml:0f7006cc-acd6-40d1-b198-a80e8f08765e\" target=\"_top\" title=\"psysml:0f7006cc-acd6-40d1-b198-a80e8f08765e\" xlink:actuate=\"onRequest\" xlink:href=\"psysml:0f7006cc-acd6-40d1-b198-a80e8f08765e\" xlink:show=\"new\" xlink:title=\"psysml:0f7006cc-acd6-40d1-b198-a80e8f08765e\" xlink:type=\"simple\"><path d=\"M274.96,87.09 C193.02,116.27 59,164 59,164 C59,164 51,316 51,316 C51,316 51,362 51,362 C51,362 139.06,403.06 191.31,427.42 \" fill=\"none\" id=\"E5-&gt;E2\" style=\"stroke: #383838; stroke-width: 1.0; stroke-dasharray: 7.0,7.0;\"/><polygon fill=\"#383838\" points=\"195.94,429.58,189.449,422.1728,191.4015,427.482,186.0922,429.4344,195.94,429.58\" style=\"stroke: #383838; stroke-width: 1.0;\"/><text fill=\"#000000\" font-family=\"sans-serif\" font-size=\"13\" lengthAdjust=\"spacingAndGlyphs\" textLength=\"62\" x=\"56\" y=\"267.5669\">«subject»</text></a><!--MD5=[9120cf2e5df3bff93db8f754bbbc09b4]\n",
       "link E5 to E6--><a href=\"psysml:33b70aea-82ec-44f7-8a12-3ec54376cb03\" target=\"_top\" title=\"psysml:33b70aea-82ec-44f7-8a12-3ec54376cb03\" xlink:actuate=\"onRequest\" xlink:href=\"psysml:33b70aea-82ec-44f7-8a12-3ec54376cb03\" xlink:show=\"new\" xlink:title=\"psysml:33b70aea-82ec-44f7-8a12-3ec54376cb03\" xlink:type=\"simple\"><path d=\"M312.24,87.19 C289.88,107.23 256.89,136.8 232.83,158.37 \" fill=\"none\" id=\"E5-&gt;E6\" style=\"stroke: #383838; stroke-width: 1.0;\"/><polygon fill=\"#383838\" points=\"226.6,163.95,234.5586,160.8419,230.5525,156.3752,226.6,163.95\" style=\"stroke: #383838; stroke-width: 1.0;\"/><text fill=\"#000000\" font-family=\"sans-serif\" font-size=\"13\" lengthAdjust=\"spacingAndGlyphs\" textLength=\"73\" x=\"278\" y=\"130.0669\">«objective»</text></a><!--MD5=[452b418e7f8a40397a49b8c0a78acc5b]\n",
       "reverse link E5 to E7--><a href=\"psysml:9ca3a684-dbe3-4511-9e21-3cef746855e2\" target=\"_top\" title=\"psysml:9ca3a684-dbe3-4511-9e21-3cef746855e2\" xlink:actuate=\"onRequest\" xlink:href=\"psysml:9ca3a684-dbe3-4511-9e21-3cef746855e2\" xlink:show=\"new\" xlink:title=\"psysml:9ca3a684-dbe3-4511-9e21-3cef746855e2\" xlink:type=\"simple\"><path d=\"M359.82,97.88 C374.39,118.86 392.87,145.48 405.69,163.95 \" fill=\"none\" id=\"E5&lt;-E7\" style=\"stroke: #383838; stroke-width: 1.0;\"/><polygon fill=\"#383838\" points=\"352.41,87.19,352.544,94.3999,359.2508,97.0492,359.1168,89.8393,352.41,87.19\" style=\"stroke: #383838; stroke-width: 1.0;\"/></a><!--MD5=[dc164f5e8a733ab456ef1add180e9e34]\n",
       "reverse link E7 to E8--><a href=\"psysml:8f87ba26-7a36-4a80-9ed1-e463a907c7c6\" target=\"_top\" title=\"psysml:8f87ba26-7a36-4a80-9ed1-e463a907c7c6\" xlink:actuate=\"onRequest\" xlink:href=\"psysml:8f87ba26-7a36-4a80-9ed1-e463a907c7c6\" xlink:show=\"new\" xlink:title=\"psysml:8f87ba26-7a36-4a80-9ed1-e463a907c7c6\" xlink:type=\"simple\"><path d=\"M350.55,212.59 C312,226.04 272,240 272,240 C272,240 204.6,286.85 163,315.76 \" fill=\"none\" id=\"E7&lt;-E8\" style=\"stroke: #383838; stroke-width: 1.0;\"/><polygon fill=\"#FFFFFF\" points=\"362.97,208.25,355.9867,206.452,351.641,212.2066,358.6244,214.0046,362.97,208.25\" style=\"stroke: #383838; stroke-width: 1.0;\"/><text fill=\"#000000\" font-family=\"sans-serif\" font-size=\"13\" lengthAdjust=\"spacingAndGlyphs\" textLength=\"8\" x=\"162.175\" y=\"304.9748\">1</text></a><!--MD5=[f1f3f9f2fc535e6147756cb86a7f2e32]\n",
       "link E8 to E2--><a href=\"psysml:bdf7178e-b1d2-4aa0-b7b5-71013aa1f7a9\" target=\"_top\" title=\"psysml:bdf7178e-b1d2-4aa0-b7b5-71013aa1f7a9\" xlink:actuate=\"onRequest\" xlink:href=\"psysml:bdf7178e-b1d2-4aa0-b7b5-71013aa1f7a9\" xlink:show=\"new\" xlink:title=\"psysml:bdf7178e-b1d2-4aa0-b7b5-71013aa1f7a9\" xlink:type=\"simple\"><path d=\"M151.54,362.01 C163.87,375.22 179.88,392.38 194.14,407.65 \" fill=\"none\" id=\"E8-&gt;E2\" style=\"stroke: #383838; stroke-width: 1.0;\"/><polygon fill=\"#FFFFFF\" points=\"208.15,422.66,190.0721,413.5393,200.3105,403.9907,208.15,422.66\" style=\"stroke: #383838; stroke-width: 1.0;\"/><ellipse cx=\"187.6471\" cy=\"408.0067\" fill=\"#383838\" rx=\"2\" ry=\"2\" style=\"stroke: #383838; stroke-width: 1.0;\"/><ellipse cx=\"194.9602\" cy=\"401.1863\" fill=\"#383838\" rx=\"2\" ry=\"2\" style=\"stroke: #383838; stroke-width: 1.0;\"/></a><!--MD5=[9ae28de373ca99bb8a1b38d63370ca7e]\n",
       "reverse link E5 to E9--><a href=\"psysml:a1ab5fdf-7d24-4497-9ea2-3c4d95277eba\" target=\"_top\" title=\"psysml:a1ab5fdf-7d24-4497-9ea2-3c4d95277eba\" xlink:actuate=\"onRequest\" xlink:href=\"psysml:a1ab5fdf-7d24-4497-9ea2-3c4d95277eba\" xlink:show=\"new\" xlink:title=\"psysml:a1ab5fdf-7d24-4497-9ea2-3c4d95277eba\" xlink:type=\"simple\"><path d=\"M384.16,94.18 C431.35,123.38 497,164 497,164 C497,164 497,210 497,210 C497,210 460.9,225.77 428.47,239.95 \" fill=\"none\" id=\"E5&lt;-E9\" style=\"stroke: #383838; stroke-width: 1.0;\"/><polygon fill=\"#FFFFFF\" points=\"372.91,87.22,375.907,93.7788,383.114,93.5349,380.117,86.9761,372.91,87.22\" style=\"stroke: #383838; stroke-width: 1.0;\"/><text fill=\"#000000\" font-family=\"sans-serif\" font-size=\"13\" lengthAdjust=\"spacingAndGlyphs\" textLength=\"8\" x=\"432.9588\" y=\"228.8328\">1</text></a><!--MD5=[5c3bb36fe832a92c7f0e1807dd65209d]\n",
       "link E9 to E2--><a href=\"psysml:9bedaae2-b2c6-4d70-8011-f34c154ea99f\" target=\"_top\" title=\"psysml:9bedaae2-b2c6-4d70-8011-f34c154ea99f\" xlink:actuate=\"onRequest\" xlink:href=\"psysml:9bedaae2-b2c6-4d70-8011-f34c154ea99f\" xlink:show=\"new\" xlink:title=\"psysml:9bedaae2-b2c6-4d70-8011-f34c154ea99f\" xlink:type=\"simple\"><path d=\"M322.87,286.05 C287.44,300.23 248,316 248,316 C248,316 240.73,365.33 235.19,402.98 \" fill=\"none\" id=\"E9-&gt;E2\" style=\"stroke: #383838; stroke-width: 1.0;\"/><polygon fill=\"#FFFFFF\" points=\"232.27,422.82,228.1134,403.0028,241.964,405.0429,232.27,422.82\" style=\"stroke: #383838; stroke-width: 1.0;\"/><ellipse cx=\"230.9227\" cy=\"397.6551\" fill=\"#383838\" rx=\"2\" ry=\"2\" style=\"stroke: #383838; stroke-width: 1.0;\"/><ellipse cx=\"240.8159\" cy=\"399.1123\" fill=\"#383838\" rx=\"2\" ry=\"2\" style=\"stroke: #383838; stroke-width: 1.0;\"/></a><!--MD5=[7f5d0b281e75b03005529e83ba9fba56]\n",
       "@startuml\r\n",
       "skinparam linetype polyline\r\n",
       "skinparam monochrome true\r\n",
       "skinparam classbackgroundcolor white\r\n",
       "skinparam shadowing false\r\n",
       "skinparam wrapWidth 300\r\n",
       "hide circle\r\n",
       "\r\n",
       "package \"TradeStudyTest\" as E1  [[psysml:e59f1b4e-bf48-44e5-8b03-de7ba4c0da2b ]]  {\r\n",
       "comp def \"Engine\" as E2  <<(T,blue) part def>> [[psysml:8032ee8b-b45e-4aab-a334-ddc7f77ca09b ]] {\r\n",
       "}\r\n",
       "comp usage \"engine1: Engine\" as E3  <<(T,blue) part>> [[psysml:d1c59f8e-91b7-4873-9a7c-d548f1a74ff0 ]] {\r\n",
       "}\r\n",
       "comp usage \"engine2: Engine\" as E4  <<(T,blue) part>> [[psysml:b8b914f7-6e3e-418c-a7c7-b0f9195d6204 ]] {\r\n",
       "}\r\n",
       "comp usage \"engineTradeStudy: TradeStudy\" as E5 << analysis>> [[psysml:d010e11c-db6d-479b-b98e-aa7ac12f08dc ]] {\r\n",
       "}\r\n",
       "comp usage \"tradeStudyObjective: MaximizeObjective\" as E6  <<(T,blue) requirement>> [[psysml:baa50d6d-f728-4fdb-a3d8-0324d2e9c263 ]] {\r\n",
       "}\r\n",
       "comp usage \"objectiveFunction\" as E7  <<(T,blue) calculation>> [[psysml:c3bcbf7c-d2b8-4beb-b9e4-ef0b91eba9be ]] {\r\n",
       "}\r\n",
       "comp usage \"alternative: Engine\" as E8  <<(T,blue) part>> [[psysml:c18a795f-fd76-4ffb-a70d-e612388b917b ]] {\r\n",
       "}\r\n",
       "comp usage \"selectedAlternative: Engine\" as E9  <<(T,blue) part>> [[psysml:854815c3-8ae1-4c3d-a371-f12eec0f41ab ]] {\r\n",
       "}\r\n",
       "}\r\n",
       "E3 - -:|> E2 [[psysml:a477e10c-c644-4ab8-a0d7-73b747f4931b ]] \r\n",
       "E4 - -:|> E2 [[psysml:006a8138-edc7-4443-807d-fbbb291c6f87 ]] \r\n",
       "E5 ..> E2 [[psysml:0f7006cc-acd6-40d1-b198-a80e8f08765e ]] : <<subject>>\r\n",
       "E5 - ->> E6 [[psysml:33b70aea-82ec-44f7-8a12-3ec54376cb03 ]] : <<objective>>\r\n",
       "E5 *- - E7 [[psysml:9ca3a684-dbe3-4511-9e21-3cef746855e2 ]] \r\n",
       "E7 o- - \"1\"E8 [[psysml:8f87ba26-7a36-4a80-9ed1-e463a907c7c6 ]] \r\n",
       "E8 - -:|> E2 [[psysml:bdf7178e-b1d2-4aa0-b7b5-71013aa1f7a9 ]] \r\n",
       "E5 o- - \"1\"E9 [[psysml:a1ab5fdf-7d24-4497-9ea2-3c4d95277eba ]] \r\n",
       "E9 - -:|> E2 [[psysml:9bedaae2-b2c6-4d70-8011-f34c154ea99f ]] \r\n",
       "@enduml\r\n",
       "\n",
       "PlantUML version 1.2020.13(Sat Jun 13 12:26:38 UTC 2020)\n",
       "(EPL source distribution)\n",
       "Java Runtime: OpenJDK Runtime Environment\n",
       "JVM: OpenJDK 64-Bit Server VM\n",
       "Default Encoding: UTF-8\n",
       "Language: en\n",
       "Country: null\n",
       "--></g></svg>"
      ]
     },
     "execution_count": 15,
     "metadata": {},
     "output_type": "execute_result"
    }
   ],
   "source": [
    "%viz --style=\"POLYLINE\" --view=\"MIXED\" \"TradeStudyTest\""
   ]
  },
  {
   "cell_type": "code",
   "execution_count": 16,
   "id": "f249b176",
   "metadata": {
    "execution": {
     "iopub.execute_input": "2021-09-27T07:19:35.112569Z",
     "iopub.status.busy": "2021-09-27T07:19:35.112257Z",
     "iopub.status.idle": "2021-09-27T07:19:35.162630Z",
     "shell.execute_reply": "2021-09-27T07:19:35.161093Z"
    }
   },
   "outputs": [
    {
     "data": {
      "image/svg+xml": [
       "<?xml version=\"1.0\" encoding=\"UTF-8\" standalone=\"no\"?><svg xmlns=\"http://www.w3.org/2000/svg\" xmlns:xlink=\"http://www.w3.org/1999/xlink\" contentScriptType=\"application/ecmascript\" contentStyleType=\"text/css\" height=\"351px\" preserveAspectRatio=\"none\" style=\"width:1144px;height:351px;\" version=\"1.1\" viewBox=\"0 0 1144 351\" width=\"1144px\" zoomAndPan=\"magnify\"><defs/><g><!--MD5=[fbc87193dbaf4d95561dea2c320d4a47]\n",
       "cluster E1--><a href=\"psysml:e59f1b4e-bf48-44e5-8b03-de7ba4c0da2b\" target=\"_top\" title=\"psysml:e59f1b4e-bf48-44e5-8b03-de7ba4c0da2b\" xlink:actuate=\"onRequest\" xlink:href=\"psysml:e59f1b4e-bf48-44e5-8b03-de7ba4c0da2b\" xlink:show=\"new\" xlink:title=\"psysml:e59f1b4e-bf48-44e5-8b03-de7ba4c0da2b\" xlink:type=\"simple\"><polygon fill=\"#FFFFFF\" points=\"16,6,132,6,139,28.2969,1122,28.2969,1122,339,16,339,16,6\" style=\"stroke: #000000; stroke-width: 1.5;\"/><line style=\"stroke: #000000; stroke-width: 1.5;\" x1=\"16\" x2=\"139\" y1=\"28.2969\" y2=\"28.2969\"/><text fill=\"#000000\" font-family=\"sans-serif\" font-size=\"14\" font-weight=\"bold\" lengthAdjust=\"spacingAndGlyphs\" textLength=\"110\" x=\"20\" y=\"20.9951\">TradeStudyTest</text></a><!--MD5=[b4997ac47864f28c2f74865a473b2911]\n",
       "class E2--><a href=\"psysml:8032ee8b-b45e-4aab-a334-ddc7f77ca09b\" target=\"_top\" title=\"psysml:8032ee8b-b45e-4aab-a334-ddc7f77ca09b\" xlink:actuate=\"onRequest\" xlink:href=\"psysml:8032ee8b-b45e-4aab-a334-ddc7f77ca09b\" xlink:show=\"new\" xlink:title=\"psysml:8032ee8b-b45e-4aab-a334-ddc7f77ca09b\" xlink:type=\"simple\"><rect fill=\"#FFFFFF\" height=\"45.9375\" id=\"E2\" style=\"stroke: #383838; stroke-width: 1.5;\" width=\"66\" x=\"1040\" y=\"181\"/><text fill=\"#000000\" font-family=\"sans-serif\" font-size=\"12\" font-style=\"italic\" lengthAdjust=\"spacingAndGlyphs\" textLength=\"64\" x=\"1041\" y=\"197.1387\">«part def»</text><text fill=\"#000000\" font-family=\"sans-serif\" font-size=\"12\" lengthAdjust=\"spacingAndGlyphs\" textLength=\"43\" x=\"1051.5\" y=\"211.1074\">Engine</text><line style=\"stroke: #383838; stroke-width: 1.5;\" x1=\"1041\" x2=\"1105\" y1=\"218.9375\" y2=\"218.9375\"/></a><!--MD5=[09b614a08d8cba4a07c9adeb5e0fee81]\n",
       "class E3--><a href=\"psysml:d1c59f8e-91b7-4873-9a7c-d548f1a74ff0\" target=\"_top\" title=\"psysml:d1c59f8e-91b7-4873-9a7c-d548f1a74ff0\" xlink:actuate=\"onRequest\" xlink:href=\"psysml:d1c59f8e-91b7-4873-9a7c-d548f1a74ff0\" xlink:show=\"new\" xlink:title=\"psysml:d1c59f8e-91b7-4873-9a7c-d548f1a74ff0\" xlink:type=\"simple\"><rect fill=\"#FFFFFF\" height=\"45.9375\" id=\"E3\" rx=\"10\" ry=\"10\" style=\"stroke: #383838; stroke-width: 1.5;\" width=\"108\" x=\"863\" y=\"41\"/><text fill=\"#000000\" font-family=\"sans-serif\" font-size=\"12\" font-style=\"italic\" lengthAdjust=\"spacingAndGlyphs\" textLength=\"40\" x=\"897\" y=\"57.1387\">«part»</text><text fill=\"#000000\" font-family=\"sans-serif\" font-size=\"12\" lengthAdjust=\"spacingAndGlyphs\" textLength=\"102\" x=\"866\" y=\"71.1074\">engine1: Engine</text><line style=\"stroke: #383838; stroke-width: 1.5;\" x1=\"864\" x2=\"970\" y1=\"78.9375\" y2=\"78.9375\"/></a><!--MD5=[ebbe1d658d1005bcc118a6aa81145e00]\n",
       "class E4--><a href=\"psysml:b8b914f7-6e3e-418c-a7c7-b0f9195d6204\" target=\"_top\" title=\"psysml:b8b914f7-6e3e-418c-a7c7-b0f9195d6204\" xlink:actuate=\"onRequest\" xlink:href=\"psysml:b8b914f7-6e3e-418c-a7c7-b0f9195d6204\" xlink:show=\"new\" xlink:title=\"psysml:b8b914f7-6e3e-418c-a7c7-b0f9195d6204\" xlink:type=\"simple\"><rect fill=\"#FFFFFF\" height=\"45.9375\" id=\"E4\" rx=\"10\" ry=\"10\" style=\"stroke: #383838; stroke-width: 1.5;\" width=\"108\" x=\"863\" y=\"122\"/><text fill=\"#000000\" font-family=\"sans-serif\" font-size=\"12\" font-style=\"italic\" lengthAdjust=\"spacingAndGlyphs\" textLength=\"40\" x=\"897\" y=\"138.1387\">«part»</text><text fill=\"#000000\" font-family=\"sans-serif\" font-size=\"12\" lengthAdjust=\"spacingAndGlyphs\" textLength=\"102\" x=\"866\" y=\"152.1074\">engine2: Engine</text><line style=\"stroke: #383838; stroke-width: 1.5;\" x1=\"864\" x2=\"970\" y1=\"159.9375\" y2=\"159.9375\"/></a><!--MD5=[270fce915f116d4de14055a7c1d9a0f3]\n",
       "class E5--><a href=\"psysml:d010e11c-db6d-479b-b98e-aa7ac12f08dc\" target=\"_top\" title=\"psysml:d010e11c-db6d-479b-b98e-aa7ac12f08dc\" xlink:actuate=\"onRequest\" xlink:href=\"psysml:d010e11c-db6d-479b-b98e-aa7ac12f08dc\" xlink:show=\"new\" xlink:title=\"psysml:d010e11c-db6d-479b-b98e-aa7ac12f08dc\" xlink:type=\"simple\"><rect fill=\"#FFFFFF\" height=\"45.9375\" id=\"E5\" rx=\"10\" ry=\"10\" style=\"stroke: #383838; stroke-width: 1.5;\" width=\"199\" x=\"32\" y=\"173\"/><text fill=\"#000000\" font-family=\"sans-serif\" font-size=\"12\" font-style=\"italic\" lengthAdjust=\"spacingAndGlyphs\" textLength=\"64\" x=\"99.5\" y=\"189.1387\">«analysis»</text><text fill=\"#000000\" font-family=\"sans-serif\" font-size=\"12\" lengthAdjust=\"spacingAndGlyphs\" textLength=\"193\" x=\"35\" y=\"203.1074\">engineTradeStudy: TradeStudy</text><line style=\"stroke: #383838; stroke-width: 1.5;\" x1=\"33\" x2=\"230\" y1=\"210.9375\" y2=\"210.9375\"/></a><!--MD5=[60a26617385b1d2d0262a64233df1f8d]\n",
       "class E6--><a href=\"psysml:baa50d6d-f728-4fdb-a3d8-0324d2e9c263\" target=\"_top\" title=\"psysml:baa50d6d-f728-4fdb-a3d8-0324d2e9c263\" xlink:actuate=\"onRequest\" xlink:href=\"psysml:baa50d6d-f728-4fdb-a3d8-0324d2e9c263\" xlink:show=\"new\" xlink:title=\"psysml:baa50d6d-f728-4fdb-a3d8-0324d2e9c263\" xlink:type=\"simple\"><rect fill=\"#FFFFFF\" height=\"45.9375\" id=\"E6\" rx=\"10\" ry=\"10\" style=\"stroke: #383838; stroke-width: 1.5;\" width=\"251\" x=\"366\" y=\"206\"/><text fill=\"#000000\" font-family=\"sans-serif\" font-size=\"12\" font-style=\"italic\" lengthAdjust=\"spacingAndGlyphs\" textLength=\"91\" x=\"446\" y=\"222.1387\">«requirement»</text><text fill=\"#000000\" font-family=\"sans-serif\" font-size=\"12\" lengthAdjust=\"spacingAndGlyphs\" textLength=\"245\" x=\"369\" y=\"236.1074\">tradeStudyObjective: MaximizeObjective</text><line style=\"stroke: #383838; stroke-width: 1.5;\" x1=\"367\" x2=\"616\" y1=\"243.9375\" y2=\"243.9375\"/></a><!--MD5=[2156ba9850f5573cc1fc38a6a4b2f02b]\n",
       "class E7--><a href=\"psysml:c3bcbf7c-d2b8-4beb-b9e4-ef0b91eba9be\" target=\"_top\" title=\"psysml:c3bcbf7c-d2b8-4beb-b9e4-ef0b91eba9be\" xlink:actuate=\"onRequest\" xlink:href=\"psysml:c3bcbf7c-d2b8-4beb-b9e4-ef0b91eba9be\" xlink:show=\"new\" xlink:title=\"psysml:c3bcbf7c-d2b8-4beb-b9e4-ef0b91eba9be\" xlink:type=\"simple\"><rect fill=\"#FFFFFF\" height=\"45.9375\" id=\"E7\" rx=\"10\" ry=\"10\" style=\"stroke: #383838; stroke-width: 1.5;\" width=\"116\" x=\"433.5\" y=\"125\"/><text fill=\"#000000\" font-family=\"sans-serif\" font-size=\"12\" font-style=\"italic\" lengthAdjust=\"spacingAndGlyphs\" textLength=\"82\" x=\"450.5\" y=\"141.1387\">«calculation»</text><text fill=\"#000000\" font-family=\"sans-serif\" font-size=\"12\" lengthAdjust=\"spacingAndGlyphs\" textLength=\"110\" x=\"436.5\" y=\"155.1074\">objectiveFunction</text><line style=\"stroke: #383838; stroke-width: 1.5;\" x1=\"434.5\" x2=\"548.5\" y1=\"162.9375\" y2=\"162.9375\"/></a><!--MD5=[b9389687b975829384b498ac4b7476b2]\n",
       "class E8--><a href=\"psysml:c18a795f-fd76-4ffb-a70d-e612388b917b\" target=\"_top\" title=\"psysml:c18a795f-fd76-4ffb-a70d-e612388b917b\" xlink:actuate=\"onRequest\" xlink:href=\"psysml:c18a795f-fd76-4ffb-a70d-e612388b917b\" xlink:show=\"new\" xlink:title=\"psysml:c18a795f-fd76-4ffb-a70d-e612388b917b\" xlink:type=\"simple\"><rect fill=\"#FFFFFF\" height=\"45.9375\" id=\"E8\" rx=\"10\" ry=\"10\" style=\"stroke: #383838; stroke-width: 1.5;\" width=\"124\" x=\"855\" y=\"240\"/><text fill=\"#000000\" font-family=\"sans-serif\" font-size=\"12\" font-style=\"italic\" lengthAdjust=\"spacingAndGlyphs\" textLength=\"40\" x=\"897\" y=\"256.1387\">«part»</text><text fill=\"#000000\" font-family=\"sans-serif\" font-size=\"12\" lengthAdjust=\"spacingAndGlyphs\" textLength=\"118\" x=\"858\" y=\"270.1074\">alternative: Engine</text><line style=\"stroke: #383838; stroke-width: 1.5;\" x1=\"856\" x2=\"978\" y1=\"277.9375\" y2=\"277.9375\"/></a><!--MD5=[fd4143e9d270a159db93a4ea2a975926]\n",
       "class E9--><a href=\"psysml:854815c3-8ae1-4c3d-a371-f12eec0f41ab\" target=\"_top\" title=\"psysml:854815c3-8ae1-4c3d-a371-f12eec0f41ab\" xlink:actuate=\"onRequest\" xlink:href=\"psysml:854815c3-8ae1-4c3d-a371-f12eec0f41ab\" xlink:show=\"new\" xlink:title=\"psysml:854815c3-8ae1-4c3d-a371-f12eec0f41ab\" xlink:type=\"simple\"><rect fill=\"#FFFFFF\" height=\"45.9375\" id=\"E9\" rx=\"10\" ry=\"10\" style=\"stroke: #383838; stroke-width: 1.5;\" width=\"178\" x=\"647\" y=\"124\"/><text fill=\"#000000\" font-family=\"sans-serif\" font-size=\"12\" font-style=\"italic\" lengthAdjust=\"spacingAndGlyphs\" textLength=\"40\" x=\"716\" y=\"140.1387\">«part»</text><text fill=\"#000000\" font-family=\"sans-serif\" font-size=\"12\" lengthAdjust=\"spacingAndGlyphs\" textLength=\"172\" x=\"650\" y=\"154.1074\">selectedAlternative: Engine</text><line style=\"stroke: #383838; stroke-width: 1.5;\" x1=\"648\" x2=\"824\" y1=\"161.9375\" y2=\"161.9375\"/></a><!--MD5=[05d275557350bfb9b23a4ef7222b4c39]\n",
       "link E3 to E2--><a href=\"psysml:a477e10c-c644-4ab8-a0d7-73b747f4931b\" target=\"_top\" title=\"psysml:a477e10c-c644-4ab8-a0d7-73b747f4931b\" xlink:actuate=\"onRequest\" xlink:href=\"psysml:a477e10c-c644-4ab8-a0d7-73b747f4931b\" xlink:show=\"new\" xlink:title=\"psysml:a477e10c-c644-4ab8-a0d7-73b747f4931b\" xlink:type=\"simple\"><path d=\"M956.44,87.17 C964.16,92.38 972.03,98.12 979,104 C1000.94,122.52 1022.93,145.89 1040.02,165.38 \" fill=\"none\" id=\"E3-&gt;E2\" style=\"stroke: #383838; stroke-width: 1.0;\"/><polygon fill=\"#FFFFFF\" points=\"1053.11,180.65,1035.4256,170.7879,1046.0509,161.6719,1053.11,180.65\" style=\"stroke: #383838; stroke-width: 1.0;\"/><ellipse cx=\"1033.232\" cy=\"165.1596\" fill=\"#383838\" rx=\"2\" ry=\"2\" style=\"stroke: #383838; stroke-width: 1.0;\"/><ellipse cx=\"1040.8215\" cy=\"158.6481\" fill=\"#383838\" rx=\"2\" ry=\"2\" style=\"stroke: #383838; stroke-width: 1.0;\"/></a><!--MD5=[185131fc0dcab0a4505a2ebe144e961b]\n",
       "link E4 to E2--><a href=\"psysml:006a8138-edc7-4443-807d-fbbb291c6f87\" target=\"_top\" title=\"psysml:006a8138-edc7-4443-807d-fbbb291c6f87\" xlink:actuate=\"onRequest\" xlink:href=\"psysml:006a8138-edc7-4443-807d-fbbb291c6f87\" xlink:show=\"new\" xlink:title=\"psysml:006a8138-edc7-4443-807d-fbbb291c6f87\" xlink:type=\"simple\"><path d=\"M971.43,165.47 C987.52,171.64 1005.13,178.38 1021.06,184.48 \" fill=\"none\" id=\"E4-&gt;E2\" style=\"stroke: #383838; stroke-width: 1.0;\"/><polygon fill=\"#FFFFFF\" points=\"1039.76,191.65,1019.5133,191.3857,1024.5242,178.3132,1039.76,191.65\" style=\"stroke: #383838; stroke-width: 1.0;\"/><ellipse cx=\"1014.9067\" cy=\"187.478\" fill=\"#383838\" rx=\"2\" ry=\"2\" style=\"stroke: #383838; stroke-width: 1.0;\"/><ellipse cx=\"1018.486\" cy=\"178.1405\" fill=\"#383838\" rx=\"2\" ry=\"2\" style=\"stroke: #383838; stroke-width: 1.0;\"/></a><!--MD5=[15ebcb19ae302d9b601edb458606d402]\n",
       "link E5 to E2--><a href=\"psysml:0f7006cc-acd6-40d1-b198-a80e8f08765e\" target=\"_top\" title=\"psysml:0f7006cc-acd6-40d1-b198-a80e8f08765e\" xlink:actuate=\"onRequest\" xlink:href=\"psysml:0f7006cc-acd6-40d1-b198-a80e8f08765e\" xlink:show=\"new\" xlink:title=\"psysml:0f7006cc-acd6-40d1-b198-a80e8f08765e\" xlink:type=\"simple\"><path d=\"M192.97,219.15 C239.54,235.94 305.91,257.62 366,269 C580.08,309.56 637.25,296.22 855,304 C910.08,305.97 928.47,326.01 979,304 C1012.76,289.29 1039.79,255.62 1055.83,231.41 \" fill=\"none\" id=\"E5-&gt;E2\" style=\"stroke: #383838; stroke-width: 1.0; stroke-dasharray: 7.0,7.0;\"/><polygon fill=\"#383838\" points=\"1058.7,227,1050.4426,232.368,1055.9761,231.1929,1057.1512,236.7263,1058.7,227\" style=\"stroke: #383838; stroke-width: 1.0;\"/><text fill=\"#000000\" font-family=\"sans-serif\" font-size=\"13\" lengthAdjust=\"spacingAndGlyphs\" textLength=\"62\" x=\"705\" y=\"296.0669\">«subject»</text></a><!--MD5=[9120cf2e5df3bff93db8f754bbbc09b4]\n",
       "link E5 to E6--><a href=\"psysml:33b70aea-82ec-44f7-8a12-3ec54376cb03\" target=\"_top\" title=\"psysml:33b70aea-82ec-44f7-8a12-3ec54376cb03\" xlink:actuate=\"onRequest\" xlink:href=\"psysml:33b70aea-82ec-44f7-8a12-3ec54376cb03\" xlink:show=\"new\" xlink:title=\"psysml:33b70aea-82ec-44f7-8a12-3ec54376cb03\" xlink:type=\"simple\"><path d=\"M231.27,205.1 C270.35,208.71 315.87,212.9 357.75,216.76 \" fill=\"none\" id=\"E5-&gt;E6\" style=\"stroke: #383838; stroke-width: 1.0;\"/><polygon fill=\"#383838\" points=\"365.81,217.51,358.1229,213.7806,357.5661,219.7548,365.81,217.51\" style=\"stroke: #383838; stroke-width: 1.0;\"/><text fill=\"#000000\" font-family=\"sans-serif\" font-size=\"13\" lengthAdjust=\"spacingAndGlyphs\" textLength=\"73\" x=\"262\" y=\"205.0669\">«objective»</text></a><!--MD5=[452b418e7f8a40397a49b8c0a78acc5b]\n",
       "reverse link E5 to E7--><a href=\"psysml:9ca3a684-dbe3-4511-9e21-3cef746855e2\" target=\"_top\" title=\"psysml:9ca3a684-dbe3-4511-9e21-3cef746855e2\" xlink:actuate=\"onRequest\" xlink:href=\"psysml:9ca3a684-dbe3-4511-9e21-3cef746855e2\" xlink:show=\"new\" xlink:title=\"psysml:9ca3a684-dbe3-4511-9e21-3cef746855e2\" xlink:type=\"simple\"><path d=\"M244.44,180.99 C307.13,172.59 382.64,162.46 433.34,155.66 \" fill=\"none\" id=\"E5&lt;-E7\" style=\"stroke: #383838; stroke-width: 1.0;\"/><polygon fill=\"#383838\" points=\"231.27,182.76,237.7486,185.9268,243.1635,181.1645,236.6849,177.9978,231.27,182.76\" style=\"stroke: #383838; stroke-width: 1.0;\"/></a><!--MD5=[dc164f5e8a733ab456ef1add180e9e34]\n",
       "reverse link E7 to E8--><a href=\"psysml:8f87ba26-7a36-4a80-9ed1-e463a907c7c6\" target=\"_top\" title=\"psysml:8f87ba26-7a36-4a80-9ed1-e463a907c7c6\" xlink:actuate=\"onRequest\" xlink:href=\"psysml:8f87ba26-7a36-4a80-9ed1-e463a907c7c6\" xlink:show=\"new\" xlink:title=\"psysml:8f87ba26-7a36-4a80-9ed1-e463a907c7c6\" xlink:type=\"simple\"><path d=\"M562.22,166.93 C643.63,189.04 777.02,225.26 854.65,246.34 \" fill=\"none\" id=\"E7&lt;-E8\" style=\"stroke: #383838; stroke-width: 1.0;\"/><polygon fill=\"#FFFFFF\" points=\"549.62,163.51,554.3645,168.9404,561.202,166.6495,556.4575,161.2191,549.62,163.51\" style=\"stroke: #383838; stroke-width: 1.0;\"/><text fill=\"#000000\" font-family=\"sans-serif\" font-size=\"13\" lengthAdjust=\"spacingAndGlyphs\" textLength=\"8\" x=\"838.9783\" y=\"257.3591\">1</text></a><!--MD5=[f1f3f9f2fc535e6147756cb86a7f2e32]\n",
       "link E8 to E2--><a href=\"psysml:bdf7178e-b1d2-4aa0-b7b5-71013aa1f7a9\" target=\"_top\" title=\"psysml:bdf7178e-b1d2-4aa0-b7b5-71013aa1f7a9\" xlink:actuate=\"onRequest\" xlink:href=\"psysml:bdf7178e-b1d2-4aa0-b7b5-71013aa1f7a9\" xlink:show=\"new\" xlink:title=\"psysml:bdf7178e-b1d2-4aa0-b7b5-71013aa1f7a9\" xlink:type=\"simple\"><path d=\"M978.42,239.85 C992.46,234.47 1007.28,228.8 1020.87,223.59 \" fill=\"none\" id=\"E8-&gt;E2\" style=\"stroke: #383838; stroke-width: 1.0;\"/><polygon fill=\"#FFFFFF\" points=\"1039.69,216.38,1024.4542,229.7168,1019.4433,216.6443,1039.69,216.38\" style=\"stroke: #383838; stroke-width: 1.0;\"/><ellipse cx=\"1018.416\" cy=\"229.8895\" fill=\"#383838\" rx=\"2\" ry=\"2\" style=\"stroke: #383838; stroke-width: 1.0;\"/><ellipse cx=\"1014.8367\" cy=\"220.552\" fill=\"#383838\" rx=\"2\" ry=\"2\" style=\"stroke: #383838; stroke-width: 1.0;\"/></a><!--MD5=[9ae28de373ca99bb8a1b38d63370ca7e]\n",
       "reverse link E5 to E9--><a href=\"psysml:a1ab5fdf-7d24-4497-9ea2-3c4d95277eba\" target=\"_top\" title=\"psysml:a1ab5fdf-7d24-4497-9ea2-3c4d95277eba\" xlink:actuate=\"onRequest\" xlink:href=\"psysml:a1ab5fdf-7d24-4497-9ea2-3c4d95277eba\" xlink:show=\"new\" xlink:title=\"psysml:a1ab5fdf-7d24-4497-9ea2-3c4d95277eba\" xlink:type=\"simple\"><path d=\"M189.89,167.36 C236.14,145.96 303.53,118.5 366,107 C475.71,86.8 506.93,88.85 617,107 C637.81,110.43 659.88,117.05 679.24,123.93 \" fill=\"none\" id=\"E5&lt;-E9\" style=\"stroke: #383838; stroke-width: 1.0;\"/><polygon fill=\"#FFFFFF\" points=\"178.01,172.94,185.1402,174.017,188.8768,167.8495,181.7466,166.7725,178.01,172.94\" style=\"stroke: #383838; stroke-width: 1.0;\"/><text fill=\"#000000\" font-family=\"sans-serif\" font-size=\"13\" lengthAdjust=\"spacingAndGlyphs\" textLength=\"8\" x=\"654.9108\" y=\"112.8075\">1</text></a><!--MD5=[5c3bb36fe832a92c7f0e1807dd65209d]\n",
       "link E9 to E2--><a href=\"psysml:9bedaae2-b2c6-4d70-8011-f34c154ea99f\" target=\"_top\" title=\"psysml:9bedaae2-b2c6-4d70-8011-f34c154ea99f\" xlink:actuate=\"onRequest\" xlink:href=\"psysml:9bedaae2-b2c6-4d70-8011-f34c154ea99f\" xlink:show=\"new\" xlink:title=\"psysml:9bedaae2-b2c6-4d70-8011-f34c154ea99f\" xlink:type=\"simple\"><path d=\"M799.69,170.07 C817.36,175.78 836.75,181.31 855,185 C910.46,196.21 975.22,200.81 1019.46,202.69 \" fill=\"none\" id=\"E9-&gt;E2\" style=\"stroke: #383838; stroke-width: 1.0;\"/><polygon fill=\"#FFFFFF\" points=\"1039.69,203.42,1020.4478,209.7237,1020.9574,195.733,1039.69,203.42\" style=\"stroke: #383838; stroke-width: 1.0;\"/><ellipse cx=\"1014.8244\" cy=\"207.5175\" fill=\"#383838\" rx=\"2\" ry=\"2\" style=\"stroke: #383838; stroke-width: 1.0;\"/><ellipse cx=\"1015.1884\" cy=\"197.5241\" fill=\"#383838\" rx=\"2\" ry=\"2\" style=\"stroke: #383838; stroke-width: 1.0;\"/></a><!--MD5=[d93f7e7810f8208e49c232e9ac576dee]\n",
       "@startuml\r\n",
       "left to right direction\r\n",
       "skinparam monochrome true\r\n",
       "skinparam classbackgroundcolor white\r\n",
       "skinparam shadowing false\r\n",
       "skinparam wrapWidth 300\r\n",
       "hide circle\r\n",
       "\r\n",
       "package \"TradeStudyTest\" as E1  [[psysml:e59f1b4e-bf48-44e5-8b03-de7ba4c0da2b ]]  {\r\n",
       "comp def \"Engine\" as E2  <<(T,blue) part def>> [[psysml:8032ee8b-b45e-4aab-a334-ddc7f77ca09b ]] {\r\n",
       "}\r\n",
       "comp usage \"engine1: Engine\" as E3  <<(T,blue) part>> [[psysml:d1c59f8e-91b7-4873-9a7c-d548f1a74ff0 ]] {\r\n",
       "}\r\n",
       "comp usage \"engine2: Engine\" as E4  <<(T,blue) part>> [[psysml:b8b914f7-6e3e-418c-a7c7-b0f9195d6204 ]] {\r\n",
       "}\r\n",
       "comp usage \"engineTradeStudy: TradeStudy\" as E5 << analysis>> [[psysml:d010e11c-db6d-479b-b98e-aa7ac12f08dc ]] {\r\n",
       "}\r\n",
       "comp usage \"tradeStudyObjective: MaximizeObjective\" as E6  <<(T,blue) requirement>> [[psysml:baa50d6d-f728-4fdb-a3d8-0324d2e9c263 ]] {\r\n",
       "}\r\n",
       "comp usage \"objectiveFunction\" as E7  <<(T,blue) calculation>> [[psysml:c3bcbf7c-d2b8-4beb-b9e4-ef0b91eba9be ]] {\r\n",
       "}\r\n",
       "comp usage \"alternative: Engine\" as E8  <<(T,blue) part>> [[psysml:c18a795f-fd76-4ffb-a70d-e612388b917b ]] {\r\n",
       "}\r\n",
       "comp usage \"selectedAlternative: Engine\" as E9  <<(T,blue) part>> [[psysml:854815c3-8ae1-4c3d-a371-f12eec0f41ab ]] {\r\n",
       "}\r\n",
       "}\r\n",
       "E3 - -:|> E2 [[psysml:a477e10c-c644-4ab8-a0d7-73b747f4931b ]] \r\n",
       "E4 - -:|> E2 [[psysml:006a8138-edc7-4443-807d-fbbb291c6f87 ]] \r\n",
       "E5 ..> E2 [[psysml:0f7006cc-acd6-40d1-b198-a80e8f08765e ]] : <<subject>>\r\n",
       "E5 - ->> E6 [[psysml:33b70aea-82ec-44f7-8a12-3ec54376cb03 ]] : <<objective>>\r\n",
       "E5 *- - E7 [[psysml:9ca3a684-dbe3-4511-9e21-3cef746855e2 ]] \r\n",
       "E7 o- - \"1\"E8 [[psysml:8f87ba26-7a36-4a80-9ed1-e463a907c7c6 ]] \r\n",
       "E8 - -:|> E2 [[psysml:bdf7178e-b1d2-4aa0-b7b5-71013aa1f7a9 ]] \r\n",
       "E5 o- - \"1\"E9 [[psysml:a1ab5fdf-7d24-4497-9ea2-3c4d95277eba ]] \r\n",
       "E9 - -:|> E2 [[psysml:9bedaae2-b2c6-4d70-8011-f34c154ea99f ]] \r\n",
       "@enduml\r\n",
       "\n",
       "PlantUML version 1.2020.13(Sat Jun 13 12:26:38 UTC 2020)\n",
       "(EPL source distribution)\n",
       "Java Runtime: OpenJDK Runtime Environment\n",
       "JVM: OpenJDK 64-Bit Server VM\n",
       "Default Encoding: UTF-8\n",
       "Language: en\n",
       "Country: null\n",
       "--></g></svg>"
      ]
     },
     "execution_count": 16,
     "metadata": {},
     "output_type": "execute_result"
    }
   ],
   "source": [
    "%viz --style=\"LR\" --view=\"Default\" \"TradeStudyTest\""
   ]
  },
  {
   "cell_type": "code",
   "execution_count": 17,
   "id": "c2722246",
   "metadata": {
    "execution": {
     "iopub.execute_input": "2021-09-27T07:19:35.212106Z",
     "iopub.status.busy": "2021-09-27T07:19:35.211839Z",
     "iopub.status.idle": "2021-09-27T07:19:35.248384Z",
     "shell.execute_reply": "2021-09-27T07:19:35.248176Z"
    }
   },
   "outputs": [
    {
     "data": {
      "image/svg+xml": [
       "<?xml version=\"1.0\" encoding=\"UTF-8\" standalone=\"no\"?><svg xmlns=\"http://www.w3.org/2000/svg\" xmlns:xlink=\"http://www.w3.org/1999/xlink\" contentScriptType=\"application/ecmascript\" contentStyleType=\"text/css\" height=\"461px\" preserveAspectRatio=\"none\" style=\"width:782px;height:461px;\" version=\"1.1\" viewBox=\"0 0 782 461\" width=\"782px\" zoomAndPan=\"magnify\"><defs/><g><!--MD5=[fbc87193dbaf4d95561dea2c320d4a47]\n",
       "cluster E1--><a href=\"psysml:e59f1b4e-bf48-44e5-8b03-de7ba4c0da2b\" target=\"_top\" title=\"psysml:e59f1b4e-bf48-44e5-8b03-de7ba4c0da2b\" xlink:actuate=\"onRequest\" xlink:href=\"psysml:e59f1b4e-bf48-44e5-8b03-de7ba4c0da2b\" xlink:show=\"new\" xlink:title=\"psysml:e59f1b4e-bf48-44e5-8b03-de7ba4c0da2b\" xlink:type=\"simple\"><polygon fill=\"#FFFFFF\" points=\"16,6,132,6,139,28.2969,760,28.2969,760,433,16,433,16,6\" style=\"stroke: #000000; stroke-width: 1.5;\"/><line style=\"stroke: #000000; stroke-width: 1.5;\" x1=\"16\" x2=\"139\" y1=\"28.2969\" y2=\"28.2969\"/><text fill=\"#000000\" font-family=\"sans-serif\" font-size=\"14\" font-weight=\"bold\" lengthAdjust=\"spacingAndGlyphs\" textLength=\"110\" x=\"20\" y=\"20.9951\">TradeStudyTest</text></a><!--MD5=[b4997ac47864f28c2f74865a473b2911]\n",
       "class E2--><a href=\"psysml:8032ee8b-b45e-4aab-a334-ddc7f77ca09b\" target=\"_top\" title=\"psysml:8032ee8b-b45e-4aab-a334-ddc7f77ca09b\" xlink:actuate=\"onRequest\" xlink:href=\"psysml:8032ee8b-b45e-4aab-a334-ddc7f77ca09b\" xlink:show=\"new\" xlink:title=\"psysml:8032ee8b-b45e-4aab-a334-ddc7f77ca09b\" xlink:type=\"simple\"><rect fill=\"#FFFFFF\" height=\"45.9375\" id=\"E2\" style=\"stroke: #383838; stroke-width: 1.5;\" width=\"66\" x=\"678\" y=\"163\"/><text fill=\"#000000\" font-family=\"sans-serif\" font-size=\"12\" font-style=\"italic\" lengthAdjust=\"spacingAndGlyphs\" textLength=\"64\" x=\"679\" y=\"179.1387\">«part def»</text><text fill=\"#000000\" font-family=\"sans-serif\" font-size=\"12\" lengthAdjust=\"spacingAndGlyphs\" textLength=\"43\" x=\"689.5\" y=\"193.1074\">Engine</text><line style=\"stroke: #383838; stroke-width: 1.5;\" x1=\"679\" x2=\"743\" y1=\"200.9375\" y2=\"200.9375\"/></a><!--MD5=[09b614a08d8cba4a07c9adeb5e0fee81]\n",
       "class E3--><a href=\"psysml:d1c59f8e-91b7-4873-9a7c-d548f1a74ff0\" target=\"_top\" title=\"psysml:d1c59f8e-91b7-4873-9a7c-d548f1a74ff0\" xlink:actuate=\"onRequest\" xlink:href=\"psysml:d1c59f8e-91b7-4873-9a7c-d548f1a74ff0\" xlink:show=\"new\" xlink:title=\"psysml:d1c59f8e-91b7-4873-9a7c-d548f1a74ff0\" xlink:type=\"simple\"><rect fill=\"#FFFFFF\" height=\"45.9375\" id=\"E3\" rx=\"10\" ry=\"10\" style=\"stroke: #383838; stroke-width: 1.5;\" width=\"108\" x=\"437.5\" y=\"41\"/><text fill=\"#000000\" font-family=\"sans-serif\" font-size=\"12\" font-style=\"italic\" lengthAdjust=\"spacingAndGlyphs\" textLength=\"40\" x=\"471.5\" y=\"57.1387\">«part»</text><text fill=\"#000000\" font-family=\"sans-serif\" font-size=\"12\" lengthAdjust=\"spacingAndGlyphs\" textLength=\"102\" x=\"440.5\" y=\"71.1074\">engine1: Engine</text><line style=\"stroke: #383838; stroke-width: 1.5;\" x1=\"438.5\" x2=\"544.5\" y1=\"78.9375\" y2=\"78.9375\"/></a><!--MD5=[ebbe1d658d1005bcc118a6aa81145e00]\n",
       "class E4--><a href=\"psysml:b8b914f7-6e3e-418c-a7c7-b0f9195d6204\" target=\"_top\" title=\"psysml:b8b914f7-6e3e-418c-a7c7-b0f9195d6204\" xlink:actuate=\"onRequest\" xlink:href=\"psysml:b8b914f7-6e3e-418c-a7c7-b0f9195d6204\" xlink:show=\"new\" xlink:title=\"psysml:b8b914f7-6e3e-418c-a7c7-b0f9195d6204\" xlink:type=\"simple\"><rect fill=\"#FFFFFF\" height=\"45.9375\" id=\"E4\" rx=\"10\" ry=\"10\" style=\"stroke: #383838; stroke-width: 1.5;\" width=\"108\" x=\"437.5\" y=\"122\"/><text fill=\"#000000\" font-family=\"sans-serif\" font-size=\"12\" font-style=\"italic\" lengthAdjust=\"spacingAndGlyphs\" textLength=\"40\" x=\"471.5\" y=\"138.1387\">«part»</text><text fill=\"#000000\" font-family=\"sans-serif\" font-size=\"12\" lengthAdjust=\"spacingAndGlyphs\" textLength=\"102\" x=\"440.5\" y=\"152.1074\">engine2: Engine</text><line style=\"stroke: #383838; stroke-width: 1.5;\" x1=\"438.5\" x2=\"544.5\" y1=\"159.9375\" y2=\"159.9375\"/></a><!--MD5=[270fce915f116d4de14055a7c1d9a0f3]\n",
       "class E5--><a href=\"psysml:d010e11c-db6d-479b-b98e-aa7ac12f08dc\" target=\"_top\" title=\"psysml:d010e11c-db6d-479b-b98e-aa7ac12f08dc\" xlink:actuate=\"onRequest\" xlink:href=\"psysml:d010e11c-db6d-479b-b98e-aa7ac12f08dc\" xlink:show=\"new\" xlink:title=\"psysml:d010e11c-db6d-479b-b98e-aa7ac12f08dc\" xlink:type=\"simple\"><rect fill=\"#FFFFFF\" height=\"45.9375\" id=\"E5\" rx=\"10\" ry=\"10\" style=\"stroke: #383838; stroke-width: 1.5;\" width=\"199\" x=\"32\" y=\"284\"/><text fill=\"#000000\" font-family=\"sans-serif\" font-size=\"12\" font-style=\"italic\" lengthAdjust=\"spacingAndGlyphs\" textLength=\"64\" x=\"99.5\" y=\"300.1387\">«analysis»</text><text fill=\"#000000\" font-family=\"sans-serif\" font-size=\"12\" lengthAdjust=\"spacingAndGlyphs\" textLength=\"193\" x=\"35\" y=\"314.1074\">engineTradeStudy: TradeStudy</text><line style=\"stroke: #383838; stroke-width: 1.5;\" x1=\"33\" x2=\"230\" y1=\"321.9375\" y2=\"321.9375\"/></a><!--MD5=[60a26617385b1d2d0262a64233df1f8d]\n",
       "class E6--><a href=\"psysml:baa50d6d-f728-4fdb-a3d8-0324d2e9c263\" target=\"_top\" title=\"psysml:baa50d6d-f728-4fdb-a3d8-0324d2e9c263\" xlink:actuate=\"onRequest\" xlink:href=\"psysml:baa50d6d-f728-4fdb-a3d8-0324d2e9c263\" xlink:show=\"new\" xlink:title=\"psysml:baa50d6d-f728-4fdb-a3d8-0324d2e9c263\" xlink:type=\"simple\"><rect fill=\"#FFFFFF\" height=\"45.9375\" id=\"E6\" rx=\"10\" ry=\"10\" style=\"stroke: #383838; stroke-width: 1.5;\" width=\"251\" x=\"366\" y=\"284\"/><text fill=\"#000000\" font-family=\"sans-serif\" font-size=\"12\" font-style=\"italic\" lengthAdjust=\"spacingAndGlyphs\" textLength=\"91\" x=\"446\" y=\"300.1387\">«requirement»</text><text fill=\"#000000\" font-family=\"sans-serif\" font-size=\"12\" lengthAdjust=\"spacingAndGlyphs\" textLength=\"245\" x=\"369\" y=\"314.1074\">tradeStudyObjective: MaximizeObjective</text><line style=\"stroke: #383838; stroke-width: 1.5;\" x1=\"367\" x2=\"616\" y1=\"321.9375\" y2=\"321.9375\"/></a><!--MD5=[2156ba9850f5573cc1fc38a6a4b2f02b]\n",
       "class E7--><a href=\"psysml:854815c3-8ae1-4c3d-a371-f12eec0f41ab\" target=\"_top\" title=\"psysml:854815c3-8ae1-4c3d-a371-f12eec0f41ab\" xlink:actuate=\"onRequest\" xlink:href=\"psysml:854815c3-8ae1-4c3d-a371-f12eec0f41ab\" xlink:show=\"new\" xlink:title=\"psysml:854815c3-8ae1-4c3d-a371-f12eec0f41ab\" xlink:type=\"simple\"><rect fill=\"#FFFFFF\" height=\"45.9375\" id=\"E7\" rx=\"10\" ry=\"10\" style=\"stroke: #383838; stroke-width: 1.5;\" width=\"178\" x=\"402.5\" y=\"203\"/><text fill=\"#000000\" font-family=\"sans-serif\" font-size=\"12\" font-style=\"italic\" lengthAdjust=\"spacingAndGlyphs\" textLength=\"40\" x=\"471.5\" y=\"219.1387\">«part»</text><text fill=\"#000000\" font-family=\"sans-serif\" font-size=\"12\" lengthAdjust=\"spacingAndGlyphs\" textLength=\"172\" x=\"405.5\" y=\"233.1074\">selectedAlternative: Engine</text><line style=\"stroke: #383838; stroke-width: 1.5;\" x1=\"403.5\" x2=\"579.5\" y1=\"240.9375\" y2=\"240.9375\"/></a><!--MD5=[05d275557350bfb9b23a4ef7222b4c39]\n",
       "link E3 to E2--><a href=\"psysml:a477e10c-c644-4ab8-a0d7-73b747f4931b\" target=\"_top\" title=\"psysml:a477e10c-c644-4ab8-a0d7-73b747f4931b\" xlink:actuate=\"onRequest\" xlink:href=\"psysml:a477e10c-c644-4ab8-a0d7-73b747f4931b\" xlink:show=\"new\" xlink:title=\"psysml:a477e10c-c644-4ab8-a0d7-73b747f4931b\" xlink:type=\"simple\"><path d=\"M545.68,75.89 C568.54,82.29 594.99,91.49 617,104 C637.99,115.93 658.44,133.14 674.79,148.72 \" fill=\"none\" id=\"E3-&gt;E2\" style=\"stroke: #383838; stroke-width: 1.0;\"/><polygon fill=\"#FFFFFF\" points=\"689.1,162.94,670.6811,154.5291,680.5405,144.5897,689.1,162.94\" style=\"stroke: #383838; stroke-width: 1.0;\"/><ellipse cx=\"668.0428\" cy=\"149.095\" fill=\"#383838\" rx=\"2\" ry=\"2\" style=\"stroke: #383838; stroke-width: 1.0;\"/><ellipse cx=\"675.0853\" cy=\"141.9954\" fill=\"#383838\" rx=\"2\" ry=\"2\" style=\"stroke: #383838; stroke-width: 1.0;\"/></a><!--MD5=[185131fc0dcab0a4505a2ebe144e961b]\n",
       "link E4 to E2--><a href=\"psysml:006a8138-edc7-4443-807d-fbbb291c6f87\" target=\"_top\" title=\"psysml:006a8138-edc7-4443-807d-fbbb291c6f87\" xlink:actuate=\"onRequest\" xlink:href=\"psysml:006a8138-edc7-4443-807d-fbbb291c6f87\" xlink:show=\"new\" xlink:title=\"psysml:006a8138-edc7-4443-807d-fbbb291c6f87\" xlink:type=\"simple\"><path d=\"M545.71,155.03 C579.81,161.46 623.87,169.76 657.78,176.16 \" fill=\"none\" id=\"E4-&gt;E2\" style=\"stroke: #383838; stroke-width: 1.0;\"/><polygon fill=\"#FFFFFF\" points=\"677.9,179.95,657.9307,183.3006,660.53,169.544,677.9,179.95\" style=\"stroke: #383838; stroke-width: 1.0;\"/><ellipse cx=\"652.7011\" cy=\"180.2771\" fill=\"#383838\" rx=\"2\" ry=\"2\" style=\"stroke: #383838; stroke-width: 1.0;\"/><ellipse cx=\"654.5578\" cy=\"170.4509\" fill=\"#383838\" rx=\"2\" ry=\"2\" style=\"stroke: #383838; stroke-width: 1.0;\"/></a><!--MD5=[15ebcb19ae302d9b601edb458606d402]\n",
       "link E5 to E2--><a href=\"psysml:0f7006cc-acd6-40d1-b198-a80e8f08765e\" target=\"_top\" title=\"psysml:0f7006cc-acd6-40d1-b198-a80e8f08765e\" xlink:actuate=\"onRequest\" xlink:href=\"psysml:0f7006cc-acd6-40d1-b198-a80e8f08765e\" xlink:show=\"new\" xlink:title=\"psysml:0f7006cc-acd6-40d1-b198-a80e8f08765e\" xlink:type=\"simple\"><path d=\"M178.56,330.07 C269.63,372.11 476.11,449.35 617,364 C671.05,331.26 695.18,255.65 704.67,214.29 \" fill=\"none\" id=\"E5-&gt;E2\" style=\"stroke: #383838; stroke-width: 1.0; stroke-dasharray: 7.0,7.0;\"/><polygon fill=\"#383838\" points=\"705.81,209.18,699.9529,217.098,704.7253,214.0609,707.7624,218.8334,705.81,209.18\" style=\"stroke: #383838; stroke-width: 1.0;\"/><text fill=\"#000000\" font-family=\"sans-serif\" font-size=\"13\" lengthAdjust=\"spacingAndGlyphs\" textLength=\"62\" x=\"460.5\" y=\"360.0669\">«subject»</text></a><!--MD5=[9120cf2e5df3bff93db8f754bbbc09b4]\n",
       "link E5 to E6--><a href=\"psysml:33b70aea-82ec-44f7-8a12-3ec54376cb03\" target=\"_top\" title=\"psysml:33b70aea-82ec-44f7-8a12-3ec54376cb03\" xlink:actuate=\"onRequest\" xlink:href=\"psysml:33b70aea-82ec-44f7-8a12-3ec54376cb03\" xlink:show=\"new\" xlink:title=\"psysml:33b70aea-82ec-44f7-8a12-3ec54376cb03\" xlink:type=\"simple\"><path d=\"M231.27,307 C270.35,307 315.87,307 357.75,307 \" fill=\"none\" id=\"E5-&gt;E6\" style=\"stroke: #383838; stroke-width: 1.0;\"/><polygon fill=\"#383838\" points=\"365.81,307,357.81,304,357.81,310,365.81,307\" style=\"stroke: #383838; stroke-width: 1.0;\"/><text fill=\"#000000\" font-family=\"sans-serif\" font-size=\"13\" lengthAdjust=\"spacingAndGlyphs\" textLength=\"73\" x=\"262\" y=\"303.0669\">«objective»</text></a><!--MD5=[452b418e7f8a40397a49b8c0a78acc5b]\n",
       "reverse link E5 to E7--><a href=\"psysml:a1ab5fdf-7d24-4497-9ea2-3c4d95277eba\" target=\"_top\" title=\"psysml:a1ab5fdf-7d24-4497-9ea2-3c4d95277eba\" xlink:actuate=\"onRequest\" xlink:href=\"psysml:a1ab5fdf-7d24-4497-9ea2-3c4d95277eba\" xlink:show=\"new\" xlink:title=\"psysml:a1ab5fdf-7d24-4497-9ea2-3c4d95277eba\" xlink:type=\"simple\"><path d=\"M244.05,281.76 C295.06,270.22 354.63,256.74 402.43,245.93 \" fill=\"none\" id=\"E5&lt;-E7\" style=\"stroke: #383838; stroke-width: 1.0;\"/><polygon fill=\"#FFFFFF\" points=\"231.27,284.65,238.0057,287.2251,242.9733,281.998,236.2376,279.4229,231.27,284.65\" style=\"stroke: #383838; stroke-width: 1.0;\"/><text fill=\"#000000\" font-family=\"sans-serif\" font-size=\"13\" lengthAdjust=\"spacingAndGlyphs\" textLength=\"8\" x=\"386.4318\" y=\"260.3626\">1</text></a><!--MD5=[583832df87f4419a098336a29a52fa00]\n",
       "link E7 to E2--><a href=\"psysml:9bedaae2-b2c6-4d70-8011-f34c154ea99f\" target=\"_top\" title=\"psysml:9bedaae2-b2c6-4d70-8011-f34c154ea99f\" xlink:actuate=\"onRequest\" xlink:href=\"psysml:9bedaae2-b2c6-4d70-8011-f34c154ea99f\" xlink:show=\"new\" xlink:title=\"psysml:9bedaae2-b2c6-4d70-8011-f34c154ea99f\" xlink:type=\"simple\"><path d=\"M580.65,209.79 C606.98,204.95 634.97,199.8 658.16,195.53 \" fill=\"none\" id=\"E7-&gt;E2\" style=\"stroke: #383838; stroke-width: 1.0;\"/><polygon fill=\"#FFFFFF\" points=\"677.92,191.9,660.4978,202.2182,657.9678,188.4487,677.92,191.9\" style=\"stroke: #383838; stroke-width: 1.0;\"/><ellipse cx=\"654.5302\" cy=\"201.2812\" fill=\"#383838\" rx=\"2\" ry=\"2\" style=\"stroke: #383838; stroke-width: 1.0;\"/><ellipse cx=\"652.7231\" cy=\"191.4458\" fill=\"#383838\" rx=\"2\" ry=\"2\" style=\"stroke: #383838; stroke-width: 1.0;\"/></a><!--MD5=[048b450d9980b707192ebe75045aa11e]\n",
       "@startuml\r\n",
       "left to right direction\r\n",
       "skinparam monochrome true\r\n",
       "skinparam classbackgroundcolor white\r\n",
       "skinparam shadowing false\r\n",
       "skinparam wrapWidth 300\r\n",
       "hide circle\r\n",
       "\r\n",
       "package \"TradeStudyTest\" as E1  [[psysml:e59f1b4e-bf48-44e5-8b03-de7ba4c0da2b ]]  {\r\n",
       "comp def \"Engine\" as E2  <<(T,blue) part def>> [[psysml:8032ee8b-b45e-4aab-a334-ddc7f77ca09b ]] {\r\n",
       "}\r\n",
       "comp usage \"engine1: Engine\" as E3  <<(T,blue) part>> [[psysml:d1c59f8e-91b7-4873-9a7c-d548f1a74ff0 ]] {\r\n",
       "}\r\n",
       "comp usage \"engine2: Engine\" as E4  <<(T,blue) part>> [[psysml:b8b914f7-6e3e-418c-a7c7-b0f9195d6204 ]] {\r\n",
       "}\r\n",
       "comp usage \"engineTradeStudy: TradeStudy\" as E5 << analysis>> [[psysml:d010e11c-db6d-479b-b98e-aa7ac12f08dc ]] {\r\n",
       "}\r\n",
       "comp usage \"tradeStudyObjective: MaximizeObjective\" as E6  <<(T,blue) requirement>> [[psysml:baa50d6d-f728-4fdb-a3d8-0324d2e9c263 ]] {\r\n",
       "}\r\n",
       "comp usage \"selectedAlternative: Engine\" as E7  <<(T,blue) part>> [[psysml:854815c3-8ae1-4c3d-a371-f12eec0f41ab ]] {\r\n",
       "}\r\n",
       "}\r\n",
       "E3 - -:|> E2 [[psysml:a477e10c-c644-4ab8-a0d7-73b747f4931b ]] \r\n",
       "E4 - -:|> E2 [[psysml:006a8138-edc7-4443-807d-fbbb291c6f87 ]] \r\n",
       "E5 ..> E2 [[psysml:0f7006cc-acd6-40d1-b198-a80e8f08765e ]] : <<subject>>\r\n",
       "E5 - ->> E6 [[psysml:33b70aea-82ec-44f7-8a12-3ec54376cb03 ]] : <<objective>>\r\n",
       "E5 o- - \"1\"E7 [[psysml:a1ab5fdf-7d24-4497-9ea2-3c4d95277eba ]] \r\n",
       "E7 - -:|> E2 [[psysml:9bedaae2-b2c6-4d70-8011-f34c154ea99f ]] \r\n",
       "@enduml\r\n",
       "\n",
       "PlantUML version 1.2020.13(Sat Jun 13 12:26:38 UTC 2020)\n",
       "(EPL source distribution)\n",
       "Java Runtime: OpenJDK Runtime Environment\n",
       "JVM: OpenJDK 64-Bit Server VM\n",
       "Default Encoding: UTF-8\n",
       "Language: en\n",
       "Country: null\n",
       "--></g></svg>"
      ]
     },
     "execution_count": 17,
     "metadata": {},
     "output_type": "execute_result"
    }
   ],
   "source": [
    "%viz --style=\"LR\" --view=\"Tree\" \"TradeStudyTest\""
   ]
  },
  {
   "cell_type": "code",
   "execution_count": 18,
   "id": "d24b612a",
   "metadata": {
    "execution": {
     "iopub.execute_input": "2021-09-27T07:19:35.299050Z",
     "iopub.status.busy": "2021-09-27T07:19:35.298627Z",
     "iopub.status.idle": "2021-09-27T07:19:35.303812Z",
     "shell.execute_reply": "2021-09-27T07:19:35.304145Z"
    }
   },
   "outputs": [
    {
     "data": {
      "image/svg+xml": [
       "<?xml version=\"1.0\" encoding=\"UTF-8\" standalone=\"no\"?><svg xmlns=\"http://www.w3.org/2000/svg\" xmlns:xlink=\"http://www.w3.org/1999/xlink\" contentScriptType=\"application/ecmascript\" contentStyleType=\"text/css\" height=\"12px\" preserveAspectRatio=\"none\" style=\"width:12px;height:12px;\" version=\"1.1\" viewBox=\"0 0 12 12\" width=\"12px\" zoomAndPan=\"magnify\"><defs/><g><!--MD5=[19d285c9d72a204eba4e2cd117d745e8]\n",
       "@startuml\r\n",
       "left to right direction\r\n",
       "skinparam monochrome true\r\n",
       "skinparam classbackgroundcolor white\r\n",
       "skinparam shadowing false\r\n",
       "skinparam wrapWidth 300\r\n",
       "hide circle\r\n",
       "\r\n",
       "@enduml\r\n",
       "\n",
       "PlantUML version 1.2020.13(Sat Jun 13 12:26:38 UTC 2020)\n",
       "(EPL source distribution)\n",
       "Java Runtime: OpenJDK Runtime Environment\n",
       "JVM: OpenJDK 64-Bit Server VM\n",
       "Default Encoding: UTF-8\n",
       "Language: en\n",
       "Country: null\n",
       "--></g></svg>"
      ]
     },
     "execution_count": 18,
     "metadata": {},
     "output_type": "execute_result"
    }
   ],
   "source": [
    "%viz --style=\"LR\" --view=\"State\" \"TradeStudyTest\""
   ]
  },
  {
   "cell_type": "code",
   "execution_count": 19,
   "id": "d584411a",
   "metadata": {
    "execution": {
     "iopub.execute_input": "2021-09-27T07:19:35.353911Z",
     "iopub.status.busy": "2021-09-27T07:19:35.353662Z",
     "iopub.status.idle": "2021-09-27T07:19:35.398251Z",
     "shell.execute_reply": "2021-09-27T07:19:35.398062Z"
    }
   },
   "outputs": [
    {
     "data": {
      "image/svg+xml": [
       "<?xml version=\"1.0\" encoding=\"UTF-8\" standalone=\"no\"?><svg xmlns=\"http://www.w3.org/2000/svg\" xmlns:xlink=\"http://www.w3.org/1999/xlink\" contentScriptType=\"application/ecmascript\" contentStyleType=\"text/css\" height=\"270px\" preserveAspectRatio=\"none\" style=\"width:1017px;height:270px;\" version=\"1.1\" viewBox=\"0 0 1017 270\" width=\"1017px\" zoomAndPan=\"magnify\"><defs/><g><!--MD5=[fbc87193dbaf4d95561dea2c320d4a47]\n",
       "cluster E1--><a href=\"psysml:e59f1b4e-bf48-44e5-8b03-de7ba4c0da2b\" target=\"_top\" title=\"psysml:e59f1b4e-bf48-44e5-8b03-de7ba4c0da2b\" xlink:actuate=\"onRequest\" xlink:href=\"psysml:e59f1b4e-bf48-44e5-8b03-de7ba4c0da2b\" xlink:show=\"new\" xlink:title=\"psysml:e59f1b4e-bf48-44e5-8b03-de7ba4c0da2b\" xlink:type=\"simple\"><polygon fill=\"#FFFFFF\" points=\"16,6,132,6,139,28.2969,995,28.2969,995,258,16,258,16,6\" style=\"stroke: #000000; stroke-width: 1.5;\"/><line style=\"stroke: #000000; stroke-width: 1.5;\" x1=\"16\" x2=\"139\" y1=\"28.2969\" y2=\"28.2969\"/><text fill=\"#000000\" font-family=\"sans-serif\" font-size=\"14\" font-weight=\"bold\" lengthAdjust=\"spacingAndGlyphs\" textLength=\"110\" x=\"20\" y=\"20.9951\">TradeStudyTest</text></a><!--MD5=[270fce915f116d4de14055a7c1d9a0f3]\n",
       "class E5--><a href=\"psysml:d010e11c-db6d-479b-b98e-aa7ac12f08dc\" target=\"_top\" title=\"psysml:d010e11c-db6d-479b-b98e-aa7ac12f08dc\" xlink:actuate=\"onRequest\" xlink:href=\"psysml:d010e11c-db6d-479b-b98e-aa7ac12f08dc\" xlink:show=\"new\" xlink:title=\"psysml:d010e11c-db6d-479b-b98e-aa7ac12f08dc\" xlink:type=\"simple\"><rect fill=\"#FFFFFF\" height=\"45.9375\" id=\"E5\" rx=\"10\" ry=\"10\" style=\"stroke: #383838; stroke-width: 1.5;\" width=\"199\" x=\"32\" y=\"46\"/><text fill=\"#000000\" font-family=\"sans-serif\" font-size=\"12\" font-style=\"italic\" lengthAdjust=\"spacingAndGlyphs\" textLength=\"64\" x=\"99.5\" y=\"62.1387\">«analysis»</text><text fill=\"#000000\" font-family=\"sans-serif\" font-size=\"12\" lengthAdjust=\"spacingAndGlyphs\" textLength=\"193\" x=\"35\" y=\"76.1074\">engineTradeStudy: TradeStudy</text><line style=\"stroke: #383838; stroke-width: 1.5;\" x1=\"33\" x2=\"230\" y1=\"83.9375\" y2=\"83.9375\"/></a><!--MD5=[60a26617385b1d2d0262a64233df1f8d]\n",
       "class E6--><a href=\"psysml:baa50d6d-f728-4fdb-a3d8-0324d2e9c263\" target=\"_top\" title=\"psysml:baa50d6d-f728-4fdb-a3d8-0324d2e9c263\" xlink:actuate=\"onRequest\" xlink:href=\"psysml:baa50d6d-f728-4fdb-a3d8-0324d2e9c263\" xlink:show=\"new\" xlink:title=\"psysml:baa50d6d-f728-4fdb-a3d8-0324d2e9c263\" xlink:type=\"simple\"><rect fill=\"#FFFFFF\" height=\"45.9375\" id=\"E6\" rx=\"10\" ry=\"10\" style=\"stroke: #383838; stroke-width: 1.5;\" width=\"251\" x=\"322\" y=\"196\"/><text fill=\"#000000\" font-family=\"sans-serif\" font-size=\"12\" font-style=\"italic\" lengthAdjust=\"spacingAndGlyphs\" textLength=\"91\" x=\"402\" y=\"212.1387\">«requirement»</text><text fill=\"#000000\" font-family=\"sans-serif\" font-size=\"12\" lengthAdjust=\"spacingAndGlyphs\" textLength=\"245\" x=\"325\" y=\"226.1074\">tradeStudyObjective: MaximizeObjective</text><line style=\"stroke: #383838; stroke-width: 1.5;\" x1=\"323\" x2=\"572\" y1=\"233.9375\" y2=\"233.9375\"/></a><!--MD5=[2156ba9850f5573cc1fc38a6a4b2f02b]\n",
       "class E7--><a href=\"psysml:c3bcbf7c-d2b8-4beb-b9e4-ef0b91eba9be\" target=\"_top\" title=\"psysml:c3bcbf7c-d2b8-4beb-b9e4-ef0b91eba9be\" xlink:actuate=\"onRequest\" xlink:href=\"psysml:c3bcbf7c-d2b8-4beb-b9e4-ef0b91eba9be\" xlink:show=\"new\" xlink:title=\"psysml:c3bcbf7c-d2b8-4beb-b9e4-ef0b91eba9be\" xlink:type=\"simple\"><rect fill=\"#FFFFFF\" height=\"45.9375\" id=\"E7\" rx=\"10\" ry=\"10\" style=\"stroke: #383838; stroke-width: 1.5;\" width=\"116\" x=\"389.5\" y=\"115\"/><text fill=\"#000000\" font-family=\"sans-serif\" font-size=\"12\" font-style=\"italic\" lengthAdjust=\"spacingAndGlyphs\" textLength=\"82\" x=\"406.5\" y=\"131.1387\">«calculation»</text><text fill=\"#000000\" font-family=\"sans-serif\" font-size=\"12\" lengthAdjust=\"spacingAndGlyphs\" textLength=\"110\" x=\"392.5\" y=\"145.1074\">objectiveFunction</text><line style=\"stroke: #383838; stroke-width: 1.5;\" x1=\"390.5\" x2=\"504.5\" y1=\"152.9375\" y2=\"152.9375\"/></a><!--MD5=[b9389687b975829384b498ac4b7476b2]\n",
       "class E8--><a href=\"psysml:c18a795f-fd76-4ffb-a70d-e612388b917b\" target=\"_top\" title=\"psysml:c18a795f-fd76-4ffb-a70d-e612388b917b\" xlink:actuate=\"onRequest\" xlink:href=\"psysml:c18a795f-fd76-4ffb-a70d-e612388b917b\" xlink:show=\"new\" xlink:title=\"psysml:c18a795f-fd76-4ffb-a70d-e612388b917b\" xlink:type=\"simple\"><rect fill=\"#FFFFFF\" height=\"31.9688\" id=\"E8\" rx=\"10\" ry=\"10\" style=\"stroke: #383838; stroke-width: 1.5;\" width=\"124\" x=\"767\" y=\"131\"/><text fill=\"#000000\" font-family=\"sans-serif\" font-size=\"12\" lengthAdjust=\"spacingAndGlyphs\" textLength=\"118\" x=\"770\" y=\"147.1387\">alternative: Engine</text><line style=\"stroke: #383838; stroke-width: 1.5;\" x1=\"768\" x2=\"890\" y1=\"154.9688\" y2=\"154.9688\"/></a><!--MD5=[fd4143e9d270a159db93a4ea2a975926]\n",
       "class E9--><a href=\"psysml:854815c3-8ae1-4c3d-a371-f12eec0f41ab\" target=\"_top\" title=\"psysml:854815c3-8ae1-4c3d-a371-f12eec0f41ab\" xlink:actuate=\"onRequest\" xlink:href=\"psysml:854815c3-8ae1-4c3d-a371-f12eec0f41ab\" xlink:show=\"new\" xlink:title=\"psysml:854815c3-8ae1-4c3d-a371-f12eec0f41ab\" xlink:type=\"simple\"><rect fill=\"#FFFFFF\" height=\"31.9688\" id=\"E9\" rx=\"10\" ry=\"10\" style=\"stroke: #383838; stroke-width: 1.5;\" width=\"178\" x=\"581\" y=\"98\"/><text fill=\"#000000\" font-family=\"sans-serif\" font-size=\"12\" lengthAdjust=\"spacingAndGlyphs\" textLength=\"172\" x=\"584\" y=\"114.1387\">selectedAlternative: Engine</text><line style=\"stroke: #383838; stroke-width: 1.5;\" x1=\"582\" x2=\"758\" y1=\"121.9688\" y2=\"121.9688\"/></a><g id=\"E1.E2\"><a href=\"psysml:8032ee8b-b45e-4aab-a334-ddc7f77ca09b\" target=\"_top\" title=\"psysml:8032ee8b-b45e-4aab-a334-ddc7f77ca09b\" xlink:actuate=\"onRequest\" xlink:href=\"psysml:8032ee8b-b45e-4aab-a334-ddc7f77ca09b\" xlink:show=\"new\" xlink:title=\"psysml:8032ee8b-b45e-4aab-a334-ddc7f77ca09b\" xlink:type=\"simple\"><rect fill=\"#FFFFFF\" height=\"42.9375\" id=\"E2\" style=\"stroke: #383838; stroke-width: 1.5;\" width=\"71\" x=\"908\" y=\"73.5\"/><rect fill=\"#F8F8F8\" height=\"37.9375\" style=\"stroke: #383838; stroke-width: 1.5;\" width=\"71\" x=\"908\" y=\"73.5\"/><text fill=\"#000000\" font-family=\"sans-serif\" font-size=\"12\" font-style=\"italic\" lengthAdjust=\"spacingAndGlyphs\" textLength=\"64\" x=\"911.5\" y=\"89.6387\">«part def»</text><text fill=\"#000000\" font-family=\"sans-serif\" font-size=\"12\" lengthAdjust=\"spacingAndGlyphs\" textLength=\"43\" x=\"922\" y=\"103.6074\">Engine</text></a></g><g id=\"E1.E3\"><a href=\"psysml:d1c59f8e-91b7-4873-9a7c-d548f1a74ff0\" target=\"_top\" title=\"psysml:d1c59f8e-91b7-4873-9a7c-d548f1a74ff0\" xlink:actuate=\"onRequest\" xlink:href=\"psysml:d1c59f8e-91b7-4873-9a7c-d548f1a74ff0\" xlink:show=\"new\" xlink:title=\"psysml:d1c59f8e-91b7-4873-9a7c-d548f1a74ff0\" xlink:type=\"simple\"><rect fill=\"#FFFFFF\" height=\"40\" id=\"E3\" rx=\"10\" ry=\"10\" style=\"stroke: #383838; stroke-width: 1.5;\" width=\"113\" x=\"75\" y=\"127\"/><rect fill=\"#F8F8F8\" height=\"23.9688\" rx=\"10\" ry=\"10\" style=\"stroke: #F8F8F8; stroke-width: 1.5;\" width=\"113\" x=\"75\" y=\"127\"/><rect fill=\"#F8F8F8\" height=\"10\" style=\"stroke: #F8F8F8; stroke-width: 1.5;\" width=\"113\" x=\"75\" y=\"140.9688\"/><rect fill=\"none\" height=\"40\" id=\"E3\" rx=\"10\" ry=\"10\" style=\"stroke: #383838; stroke-width: 1.5;\" width=\"113\" x=\"75\" y=\"127\"/><text fill=\"#000000\" font-family=\"sans-serif\" font-size=\"12\" lengthAdjust=\"spacingAndGlyphs\" textLength=\"102\" x=\"80.5\" y=\"143.1387\">engine1: Engine</text></a></g><g id=\"E1.E4\"><a href=\"psysml:b8b914f7-6e3e-418c-a7c7-b0f9195d6204\" target=\"_top\" title=\"psysml:b8b914f7-6e3e-418c-a7c7-b0f9195d6204\" xlink:actuate=\"onRequest\" xlink:href=\"psysml:b8b914f7-6e3e-418c-a7c7-b0f9195d6204\" xlink:show=\"new\" xlink:title=\"psysml:b8b914f7-6e3e-418c-a7c7-b0f9195d6204\" xlink:type=\"simple\"><rect fill=\"#FFFFFF\" height=\"40\" id=\"E4\" rx=\"10\" ry=\"10\" style=\"stroke: #383838; stroke-width: 1.5;\" width=\"113\" x=\"75\" y=\"202\"/><rect fill=\"#F8F8F8\" height=\"23.9688\" rx=\"10\" ry=\"10\" style=\"stroke: #F8F8F8; stroke-width: 1.5;\" width=\"113\" x=\"75\" y=\"202\"/><rect fill=\"#F8F8F8\" height=\"10\" style=\"stroke: #F8F8F8; stroke-width: 1.5;\" width=\"113\" x=\"75\" y=\"215.9688\"/><rect fill=\"none\" height=\"40\" id=\"E4\" rx=\"10\" ry=\"10\" style=\"stroke: #383838; stroke-width: 1.5;\" width=\"113\" x=\"75\" y=\"202\"/><text fill=\"#000000\" font-family=\"sans-serif\" font-size=\"12\" lengthAdjust=\"spacingAndGlyphs\" textLength=\"102\" x=\"80.5\" y=\"218.1387\">engine2: Engine</text></a></g><!--MD5=[15ebcb19ae302d9b601edb458606d402]\n",
       "link E5 to E2--><a href=\"psysml:0f7006cc-acd6-40d1-b198-a80e8f08765e\" target=\"_top\" title=\"psysml:0f7006cc-acd6-40d1-b198-a80e8f08765e\" xlink:actuate=\"onRequest\" xlink:href=\"psysml:0f7006cc-acd6-40d1-b198-a80e8f08765e\" xlink:show=\"new\" xlink:title=\"psysml:0f7006cc-acd6-40d1-b198-a80e8f08765e\" xlink:type=\"simple\"><path d=\"M231.41,66.04 C258.21,65.6 287.22,65.45 314,66 C574.61,71.33 640.15,69.42 900,90 C900.79,90.06 901.58,90.13 902.38,90.2 \" fill=\"none\" id=\"E5-&gt;E2\" style=\"stroke: #383838; stroke-width: 1.0; stroke-dasharray: 7.0,7.0;\"/><polygon fill=\"#383838\" points=\"907.73,90.69,899.1341,85.8827,902.751,90.2322,898.4015,93.8491,907.73,90.69\" style=\"stroke: #383838; stroke-width: 1.0;\"/><text fill=\"#000000\" font-family=\"sans-serif\" font-size=\"13\" lengthAdjust=\"spacingAndGlyphs\" textLength=\"62\" x=\"639\" y=\"68.0669\">«subject»</text></a><!--MD5=[9120cf2e5df3bff93db8f754bbbc09b4]\n",
       "link E5 to E6--><a href=\"psysml:33b70aea-82ec-44f7-8a12-3ec54376cb03\" target=\"_top\" title=\"psysml:33b70aea-82ec-44f7-8a12-3ec54376cb03\" xlink:actuate=\"onRequest\" xlink:href=\"psysml:33b70aea-82ec-44f7-8a12-3ec54376cb03\" xlink:show=\"new\" xlink:title=\"psysml:33b70aea-82ec-44f7-8a12-3ec54376cb03\" xlink:type=\"simple\"><path d=\"M209.42,92.23 C217.39,96.87 224.81,102.4 231,109 C238.69,117.2 231.81,124.35 239,133 C265.95,165.44 283.29,162.25 322,179 C333.73,184.08 346.33,188.86 358.84,193.22 \" fill=\"none\" id=\"E5-&gt;E6\" style=\"stroke: #383838; stroke-width: 1.0;\"/><polygon fill=\"#383838\" points=\"366.61,195.89,360.0212,190.4506,358.0692,196.1242,366.61,195.89\" style=\"stroke: #383838; stroke-width: 1.0;\"/><text fill=\"#000000\" font-family=\"sans-serif\" font-size=\"13\" lengthAdjust=\"spacingAndGlyphs\" textLength=\"73\" x=\"240\" y=\"129.0669\">«objective»</text></a><!--MD5=[452b418e7f8a40397a49b8c0a78acc5b]\n",
       "reverse link E5 to E7--><a href=\"psysml:9ca3a684-dbe3-4511-9e21-3cef746855e2\" target=\"_top\" title=\"psysml:9ca3a684-dbe3-4511-9e21-3cef746855e2\" xlink:actuate=\"onRequest\" xlink:href=\"psysml:9ca3a684-dbe3-4511-9e21-3cef746855e2\" xlink:show=\"new\" xlink:title=\"psysml:9ca3a684-dbe3-4511-9e21-3cef746855e2\" xlink:type=\"simple\"><path d=\"M244.39,93.59 C293.4,104.36 348.81,116.53 389.2,125.41 \" fill=\"none\" id=\"E5&lt;-E7\" style=\"stroke: #383838; stroke-width: 1.0;\"/><polygon fill=\"#383838\" points=\"231.42,90.74,236.4237,95.9326,243.1413,93.311,238.1377,88.1184,231.42,90.74\" style=\"stroke: #383838; stroke-width: 1.0;\"/></a><!--MD5=[dc164f5e8a733ab456ef1add180e9e34]\n",
       "reverse link E7 to E8--><a href=\"psysml:8f87ba26-7a36-4a80-9ed1-e463a907c7c6\" target=\"_top\" title=\"psysml:8f87ba26-7a36-4a80-9ed1-e463a907c7c6\" xlink:actuate=\"onRequest\" xlink:href=\"psysml:8f87ba26-7a36-4a80-9ed1-e463a907c7c6\" xlink:show=\"new\" xlink:title=\"psysml:8f87ba26-7a36-4a80-9ed1-e463a907c7c6\" xlink:type=\"simple\"><path d=\"M519.01,139.67 C590.24,141.36 699.16,143.94 766.84,145.55 \" fill=\"none\" id=\"E7&lt;-E8\" style=\"stroke: #383838; stroke-width: 1.0;\"/><polygon fill=\"#FFFFFF\" points=\"505.73,139.36,511.6315,143.504,517.7265,139.6503,511.825,135.5063,505.73,139.36\" style=\"stroke: #383838; stroke-width: 1.0;\"/><text fill=\"#000000\" font-family=\"sans-serif\" font-size=\"13\" lengthAdjust=\"spacingAndGlyphs\" textLength=\"8\" x=\"751.1903\" y=\"158.3259\">1</text></a><!--MD5=[f1f3f9f2fc535e6147756cb86a7f2e32]\n",
       "link E8 to E2--><a href=\"psysml:bdf7178e-b1d2-4aa0-b7b5-71013aa1f7a9\" target=\"_top\" title=\"psysml:bdf7178e-b1d2-4aa0-b7b5-71013aa1f7a9\" xlink:actuate=\"onRequest\" xlink:href=\"psysml:bdf7178e-b1d2-4aa0-b7b5-71013aa1f7a9\" xlink:show=\"new\" xlink:title=\"psysml:bdf7178e-b1d2-4aa0-b7b5-71013aa1f7a9\" xlink:type=\"simple\"><path d=\"M864.67,130.97 C872.48,127.37 880.94,123.46 889.31,119.59 \" fill=\"none\" id=\"E8-&gt;E2\" style=\"stroke: #383838; stroke-width: 1.0;\"/><polygon fill=\"#FFFFFF\" points=\"907.75,111.06,893.4358,125.3814,887.5658,112.6714,907.75,111.06\" style=\"stroke: #383838; stroke-width: 1.0;\"/><ellipse cx=\"887.4224\" cy=\"125.9556\" fill=\"#383838\" rx=\"2\" ry=\"2\" style=\"stroke: #383838; stroke-width: 1.0;\"/><ellipse cx=\"883.2296\" cy=\"116.8771\" fill=\"#383838\" rx=\"2\" ry=\"2\" style=\"stroke: #383838; stroke-width: 1.0;\"/></a><!--MD5=[9ae28de373ca99bb8a1b38d63370ca7e]\n",
       "reverse link E5 to E9--><a href=\"psysml:a1ab5fdf-7d24-4497-9ea2-3c4d95277eba\" target=\"_top\" title=\"psysml:a1ab5fdf-7d24-4497-9ea2-3c4d95277eba\" xlink:actuate=\"onRequest\" xlink:href=\"psysml:a1ab5fdf-7d24-4497-9ea2-3c4d95277eba\" xlink:show=\"new\" xlink:title=\"psysml:a1ab5fdf-7d24-4497-9ea2-3c4d95277eba\" xlink:type=\"simple\"><path d=\"M244.35,72.66 C333.58,76.4 461.62,83.64 573,97 C575.6,97.31 578.25,97.65 580.91,98.01 \" fill=\"none\" id=\"E5&lt;-E9\" style=\"stroke: #383838; stroke-width: 1.0;\"/><polygon fill=\"#FFFFFF\" points=\"231.2,72.12,237.0325,76.3605,243.1901,72.6075,237.3575,68.3671,231.2,72.12\" style=\"stroke: #383838; stroke-width: 1.0;\"/><text fill=\"#000000\" font-family=\"sans-serif\" font-size=\"13\" lengthAdjust=\"spacingAndGlyphs\" textLength=\"8\" x=\"564.9101\" y=\"109.3543\">1</text></a><!--MD5=[5c3bb36fe832a92c7f0e1807dd65209d]\n",
       "link E9 to E2--><a href=\"psysml:9bedaae2-b2c6-4d70-8011-f34c154ea99f\" target=\"_top\" title=\"psysml:9bedaae2-b2c6-4d70-8011-f34c154ea99f\" xlink:actuate=\"onRequest\" xlink:href=\"psysml:9bedaae2-b2c6-4d70-8011-f34c154ea99f\" xlink:show=\"new\" xlink:title=\"psysml:9bedaae2-b2c6-4d70-8011-f34c154ea99f\" xlink:type=\"simple\"><path d=\"M759.15,107.83 C801.47,104.87 850.87,101.41 887.72,98.83 \" fill=\"none\" id=\"E9-&gt;E2\" style=\"stroke: #383838; stroke-width: 1.0;\"/><polygon fill=\"#FFFFFF\" points=\"907.82,97.43,889.3505,105.7293,888.3808,91.7629,907.82,97.43\" style=\"stroke: #383838; stroke-width: 1.0;\"/><ellipse cx=\"883.5257\" cy=\"104.1289\" fill=\"#383838\" rx=\"2\" ry=\"2\" style=\"stroke: #383838; stroke-width: 1.0;\"/><ellipse cx=\"882.833\" cy=\"94.1529\" fill=\"#383838\" rx=\"2\" ry=\"2\" style=\"stroke: #383838; stroke-width: 1.0;\"/></a><!--MD5=[3c1df8b8f163ce77f29884a6637ca3a4]\n",
       "@startuml\r\n",
       "skinparam ranksep 10\r\n",
       "skinparam rectangle {\r\n",
       " backgroundColor<<block>> LightGreen\r\n",
       "}\r\n",
       "left to right direction\r\n",
       "skinparam monochrome true\r\n",
       "skinparam classbackgroundcolor white\r\n",
       "skinparam shadowing false\r\n",
       "skinparam wrapWidth 300\r\n",
       "hide circle\r\n",
       "\r\n",
       "package \"TradeStudyTest\" as E1  [[psysml:e59f1b4e-bf48-44e5-8b03-de7ba4c0da2b ]]  {\r\n",
       "rec def \"Engine\" as E2  <<(T,blue) part def>> [[psysml:8032ee8b-b45e-4aab-a334-ddc7f77ca09b ]] {\r\n",
       "}\r\n",
       "rec usage \"engine1: Engine\" as E3  [[psysml:d1c59f8e-91b7-4873-9a7c-d548f1a74ff0 ]] {\r\n",
       "}\r\n",
       "rec usage \"engine2: Engine\" as E4  [[psysml:b8b914f7-6e3e-418c-a7c7-b0f9195d6204 ]] {\r\n",
       "}\r\n",
       "comp usage \"engineTradeStudy: TradeStudy\" as E5 << analysis>> [[psysml:d010e11c-db6d-479b-b98e-aa7ac12f08dc ]] {\r\n",
       "}\r\n",
       "comp usage \"tradeStudyObjective: MaximizeObjective\" as E6  <<(T,blue) requirement>> [[psysml:baa50d6d-f728-4fdb-a3d8-0324d2e9c263 ]] {\r\n",
       "}\r\n",
       "comp usage \"objectiveFunction\" as E7  <<(T,blue) calculation>> [[psysml:c3bcbf7c-d2b8-4beb-b9e4-ef0b91eba9be ]] {\r\n",
       "}\r\n",
       "comp usage \"alternative: Engine\" as E8  [[psysml:c18a795f-fd76-4ffb-a70d-e612388b917b ]] {\r\n",
       "}\r\n",
       "comp usage \"selectedAlternative: Engine\" as E9  [[psysml:854815c3-8ae1-4c3d-a371-f12eec0f41ab ]] {\r\n",
       "}\r\n",
       "}\r\n",
       "E5 ..> E2 [[psysml:0f7006cc-acd6-40d1-b198-a80e8f08765e ]] : <<subject>>\r\n",
       "E5 - ->> E6 [[psysml:33b70aea-82ec-44f7-8a12-3ec54376cb03 ]] : <<objective>>\r\n",
       "E5 *- - E7 [[psysml:9ca3a684-dbe3-4511-9e21-3cef746855e2 ]] \r\n",
       "E7 o- - \"1\"E8 [[psysml:8f87ba26-7a36-4a80-9ed1-e463a907c7c6 ]] \r\n",
       "E8 - -:|> E2 [[psysml:bdf7178e-b1d2-4aa0-b7b5-71013aa1f7a9 ]] \r\n",
       "E5 o- - \"1\"E9 [[psysml:a1ab5fdf-7d24-4497-9ea2-3c4d95277eba ]] \r\n",
       "E9 - -:|> E2 [[psysml:9bedaae2-b2c6-4d70-8011-f34c154ea99f ]] \r\n",
       "@enduml\r\n",
       "\n",
       "PlantUML version 1.2020.13(Sat Jun 13 12:26:38 UTC 2020)\n",
       "(EPL source distribution)\n",
       "Java Runtime: OpenJDK Runtime Environment\n",
       "JVM: OpenJDK 64-Bit Server VM\n",
       "Default Encoding: UTF-8\n",
       "Language: en\n",
       "Country: null\n",
       "--></g></svg>"
      ]
     },
     "execution_count": 19,
     "metadata": {},
     "output_type": "execute_result"
    }
   ],
   "source": [
    "%viz --style=\"LR\" --view=\"Interconnection\" \"TradeStudyTest\""
   ]
  },
  {
   "cell_type": "code",
   "execution_count": 20,
   "id": "da520579",
   "metadata": {
    "execution": {
     "iopub.execute_input": "2021-09-27T07:19:35.448761Z",
     "iopub.status.busy": "2021-09-27T07:19:35.448407Z",
     "iopub.status.idle": "2021-09-27T07:19:35.479634Z",
     "shell.execute_reply": "2021-09-27T07:19:35.479339Z"
    }
   },
   "outputs": [
    {
     "data": {
      "image/svg+xml": [
       "<?xml version=\"1.0\" encoding=\"UTF-8\" standalone=\"no\"?><svg xmlns=\"http://www.w3.org/2000/svg\" xmlns:xlink=\"http://www.w3.org/1999/xlink\" contentScriptType=\"application/ecmascript\" contentStyleType=\"text/css\" height=\"208px\" preserveAspectRatio=\"none\" style=\"width:352px;height:208px;\" version=\"1.1\" viewBox=\"0 0 352 208\" width=\"352px\" zoomAndPan=\"magnify\"><defs/><g><!--MD5=[fbc87193dbaf4d95561dea2c320d4a47]\n",
       "cluster E1--><a href=\"psysml:d010e11c-db6d-479b-b98e-aa7ac12f08dc\" target=\"_top\" title=\"psysml:d010e11c-db6d-479b-b98e-aa7ac12f08dc\" xlink:actuate=\"onRequest\" xlink:href=\"psysml:d010e11c-db6d-479b-b98e-aa7ac12f08dc\" xlink:show=\"new\" xlink:title=\"psysml:d010e11c-db6d-479b-b98e-aa7ac12f08dc\" xlink:type=\"simple\"><rect fill=\"#FFFFFF\" height=\"134\" id=\"E1\" rx=\"10\" ry=\"10\" style=\"stroke: #383838; stroke-width: 1.5;\" width=\"257.22\" x=\"47\" y=\"42.0986\"/><rect fill=\"#F8F8F8\" height=\"37.9375\" rx=\"10\" ry=\"10\" style=\"stroke: #F8F8F8; stroke-width: 1.5;\" width=\"257.22\" x=\"47\" y=\"42.0986\"/><rect fill=\"#F8F8F8\" height=\"10\" style=\"stroke: #F8F8F8; stroke-width: 1.5;\" width=\"257.22\" x=\"47\" y=\"70.0361\"/><rect fill=\"none\" height=\"134\" id=\"E1\" rx=\"10\" ry=\"10\" style=\"stroke: #383838; stroke-width: 1.5;\" width=\"257.22\" x=\"47\" y=\"42.0986\"/><text fill=\"#000000\" font-family=\"sans-serif\" font-size=\"12\" font-style=\"italic\" lengthAdjust=\"spacingAndGlyphs\" textLength=\"64\" x=\"143.61\" y=\"58.2373\">«analysis»</text><text fill=\"#000000\" font-family=\"sans-serif\" font-size=\"12\" lengthAdjust=\"spacingAndGlyphs\" textLength=\"114\" x=\"118.61\" y=\"72.2061\">engineTradeStudy</text><line style=\"stroke: #383838; stroke-width: 1.0;\" x1=\"47\" x2=\"304.22\" y1=\"80.0361\" y2=\"80.0361\"/></a><!--MD5=[d5e69f78d87373223dbae638b30a9c99]\n",
       "cluster E3--><a href=\"psysml:c3bcbf7c-d2b8-4beb-b9e4-ef0b91eba9be\" target=\"_top\" title=\"psysml:c3bcbf7c-d2b8-4beb-b9e4-ef0b91eba9be\" xlink:actuate=\"onRequest\" xlink:href=\"psysml:c3bcbf7c-d2b8-4beb-b9e4-ef0b91eba9be\" xlink:show=\"new\" xlink:title=\"psysml:c3bcbf7c-d2b8-4beb-b9e4-ef0b91eba9be\" xlink:type=\"simple\"><rect fill=\"#FFFFFF\" height=\"40\" id=\"E3\" rx=\"10\" ry=\"10\" style=\"stroke: #383838; stroke-width: 1.5;\" width=\"205.22\" x=\"87\" y=\"72.0986\"/><rect fill=\"#F8F8F8\" height=\"37.9375\" rx=\"10\" ry=\"10\" style=\"stroke: #F8F8F8; stroke-width: 1.5;\" width=\"205.22\" x=\"87\" y=\"72.0986\"/><rect fill=\"#F8F8F8\" height=\"10\" style=\"stroke: #F8F8F8; stroke-width: 1.5;\" width=\"205.22\" x=\"87\" y=\"100.0361\"/><rect fill=\"none\" height=\"40\" id=\"E3\" rx=\"10\" ry=\"10\" style=\"stroke: #383838; stroke-width: 1.5;\" width=\"205.22\" x=\"87\" y=\"72.0986\"/><text fill=\"#000000\" font-family=\"sans-serif\" font-size=\"12\" font-style=\"italic\" lengthAdjust=\"spacingAndGlyphs\" textLength=\"82\" x=\"148.61\" y=\"88.2373\">«calculation»</text><text fill=\"#000000\" font-family=\"sans-serif\" font-size=\"12\" lengthAdjust=\"spacingAndGlyphs\" textLength=\"110\" x=\"134.61\" y=\"102.2061\">objectiveFunction</text><line style=\"stroke: #383838; stroke-width: 1.0;\" x1=\"87\" x2=\"292.22\" y1=\"110.0361\" y2=\"110.0361\"/></a><text fill=\"#000000\" font-family=\"sans-serif\" font-size=\"14\" lengthAdjust=\"spacingAndGlyphs\" textLength=\"118\" x=\"6\" y=\"195.0938\">studyAlternatives</text><rect fill=\"#383838\" height=\"12\" style=\"stroke: #F8F8F8; stroke-width: 1.5;\" width=\"12\" x=\"59\" y=\"170.0986\"/><text fill=\"#000000\" font-family=\"sans-serif\" font-size=\"14\" lengthAdjust=\"spacingAndGlyphs\" textLength=\"132\" x=\"208.22\" y=\"20.7969\">selectedAlternative</text><rect fill=\"#383838\" height=\"12\" style=\"stroke: #F8F8F8; stroke-width: 1.5;\" width=\"12\" x=\"268.22\" y=\"36.0986\"/><text fill=\"#000000\" font-family=\"sans-serif\" font-size=\"14\" lengthAdjust=\"spacingAndGlyphs\" textLength=\"39\" x=\"254.72\" y=\"131.0938\">result</text><rect fill=\"#383838\" height=\"12\" style=\"stroke: #F8F8F8; stroke-width: 1.5;\" width=\"12\" x=\"268.22\" y=\"106.0986\"/><!--MD5=[f92af1c484be281ba2daebf228c94279]\n",
       "@startuml\r\n",
       "skinparam ranksep 8\r\n",
       "left to right direction\r\n",
       "skinparam monochrome true\r\n",
       "skinparam classbackgroundcolor white\r\n",
       "skinparam shadowing false\r\n",
       "skinparam wrapWidth 300\r\n",
       "hide circle\r\n",
       "\r\n",
       "rec usage \"engineTradeStudy\" as E1 << analysis>> [[psysml:d010e11c-db6d-479b-b98e-aa7ac12f08dc ]] {\r\n",
       "portin \"studyAlternatives\" as E2  [[psysml:c281ae49-24a5-493f-bfdc-d0e83f5bb327 ]] \r\n",
       "rec usage \"objectiveFunction\" as E3  <<(T,blue) calculation>> [[psysml:c3bcbf7c-d2b8-4beb-b9e4-ef0b91eba9be ]] {\r\n",
       "portout \"result\" as E4  [[psysml:6508d5a9-7a54-4e99-9afa-e959802dfdd5 ]] \r\n",
       "}\r\n",
       "\r\n",
       "portout \"selectedAlternative\" as E5  [[psysml:854815c3-8ae1-4c3d-a371-f12eec0f41ab ]] \r\n",
       "}\r\n",
       "\r\n",
       "@enduml\r\n",
       "\n",
       "PlantUML version 1.2020.13(Sat Jun 13 12:26:38 UTC 2020)\n",
       "(EPL source distribution)\n",
       "Java Runtime: OpenJDK Runtime Environment\n",
       "JVM: OpenJDK 64-Bit Server VM\n",
       "Default Encoding: UTF-8\n",
       "Language: en\n",
       "Country: null\n",
       "--></g></svg>"
      ]
     },
     "execution_count": 20,
     "metadata": {},
     "output_type": "execute_result"
    }
   ],
   "source": [
    "%viz --style=\"LR\" --view=\"Action\" \"TradeStudyTest\""
   ]
  },
  {
   "cell_type": "code",
   "execution_count": 21,
   "id": "c183b7f1",
   "metadata": {
    "execution": {
     "iopub.execute_input": "2021-09-27T07:19:35.529661Z",
     "iopub.status.busy": "2021-09-27T07:19:35.529233Z",
     "iopub.status.idle": "2021-09-27T07:19:35.533971Z",
     "shell.execute_reply": "2021-09-27T07:19:35.534218Z"
    }
   },
   "outputs": [
    {
     "data": {
      "image/svg+xml": [
       "<?xml version=\"1.0\" encoding=\"UTF-8\" standalone=\"no\"?><svg xmlns=\"http://www.w3.org/2000/svg\" xmlns:xlink=\"http://www.w3.org/1999/xlink\" contentScriptType=\"application/ecmascript\" contentStyleType=\"text/css\" height=\"12px\" preserveAspectRatio=\"none\" style=\"width:12px;height:12px;\" version=\"1.1\" viewBox=\"0 0 12 12\" width=\"12px\" zoomAndPan=\"magnify\"><defs/><g><!--MD5=[238c11ea2002f03115ad6b49a457d50e]\n",
       "@startuml\r\n",
       "skinparam roundcorner 20\r\n",
       "skinparam BoxPadding 20\r\n",
       "skinparam SequenceBoxBackgroundColor #white\r\n",
       "skinparam style strictuml\r\n",
       "skinparam maxMessageSize 100\r\n",
       "left to right direction\r\n",
       "skinparam monochrome true\r\n",
       "skinparam classbackgroundcolor white\r\n",
       "skinparam shadowing false\r\n",
       "skinparam wrapWidth 300\r\n",
       "hide circle\r\n",
       "\r\n",
       "@enduml\r\n",
       "\n",
       "PlantUML version 1.2020.13(Sat Jun 13 12:26:38 UTC 2020)\n",
       "(EPL source distribution)\n",
       "Java Runtime: OpenJDK Runtime Environment\n",
       "JVM: OpenJDK 64-Bit Server VM\n",
       "Default Encoding: UTF-8\n",
       "Language: en\n",
       "Country: null\n",
       "--></g></svg>"
      ]
     },
     "execution_count": 21,
     "metadata": {},
     "output_type": "execute_result"
    }
   ],
   "source": [
    "%viz --style=\"LR\" --view=\"Sequence\" \"TradeStudyTest\""
   ]
  },
  {
   "cell_type": "code",
   "execution_count": 22,
   "id": "c7243ba1",
   "metadata": {
    "execution": {
     "iopub.execute_input": "2021-09-27T07:19:35.584579Z",
     "iopub.status.busy": "2021-09-27T07:19:35.584216Z",
     "iopub.status.idle": "2021-09-27T07:19:35.627641Z",
     "shell.execute_reply": "2021-09-27T07:19:35.627932Z"
    }
   },
   "outputs": [
    {
     "data": {
      "image/svg+xml": [
       "<?xml version=\"1.0\" encoding=\"UTF-8\" standalone=\"no\"?><svg xmlns=\"http://www.w3.org/2000/svg\" xmlns:xlink=\"http://www.w3.org/1999/xlink\" contentScriptType=\"application/ecmascript\" contentStyleType=\"text/css\" height=\"351px\" preserveAspectRatio=\"none\" style=\"width:1144px;height:351px;\" version=\"1.1\" viewBox=\"0 0 1144 351\" width=\"1144px\" zoomAndPan=\"magnify\"><defs/><g><!--MD5=[fbc87193dbaf4d95561dea2c320d4a47]\n",
       "cluster E1--><a href=\"psysml:e59f1b4e-bf48-44e5-8b03-de7ba4c0da2b\" target=\"_top\" title=\"psysml:e59f1b4e-bf48-44e5-8b03-de7ba4c0da2b\" xlink:actuate=\"onRequest\" xlink:href=\"psysml:e59f1b4e-bf48-44e5-8b03-de7ba4c0da2b\" xlink:show=\"new\" xlink:title=\"psysml:e59f1b4e-bf48-44e5-8b03-de7ba4c0da2b\" xlink:type=\"simple\"><polygon fill=\"#FFFFFF\" points=\"16,6,132,6,139,28.2969,1122,28.2969,1122,339,16,339,16,6\" style=\"stroke: #000000; stroke-width: 1.5;\"/><line style=\"stroke: #000000; stroke-width: 1.5;\" x1=\"16\" x2=\"139\" y1=\"28.2969\" y2=\"28.2969\"/><text fill=\"#000000\" font-family=\"sans-serif\" font-size=\"14\" font-weight=\"bold\" lengthAdjust=\"spacingAndGlyphs\" textLength=\"110\" x=\"20\" y=\"20.9951\">TradeStudyTest</text></a><!--MD5=[b4997ac47864f28c2f74865a473b2911]\n",
       "class E2--><a href=\"psysml:8032ee8b-b45e-4aab-a334-ddc7f77ca09b\" target=\"_top\" title=\"psysml:8032ee8b-b45e-4aab-a334-ddc7f77ca09b\" xlink:actuate=\"onRequest\" xlink:href=\"psysml:8032ee8b-b45e-4aab-a334-ddc7f77ca09b\" xlink:show=\"new\" xlink:title=\"psysml:8032ee8b-b45e-4aab-a334-ddc7f77ca09b\" xlink:type=\"simple\"><rect fill=\"#FFFFFF\" height=\"45.9375\" id=\"E2\" style=\"stroke: #383838; stroke-width: 1.5;\" width=\"66\" x=\"1040\" y=\"181\"/><text fill=\"#000000\" font-family=\"sans-serif\" font-size=\"12\" font-style=\"italic\" lengthAdjust=\"spacingAndGlyphs\" textLength=\"64\" x=\"1041\" y=\"197.1387\">«part def»</text><text fill=\"#000000\" font-family=\"sans-serif\" font-size=\"12\" lengthAdjust=\"spacingAndGlyphs\" textLength=\"43\" x=\"1051.5\" y=\"211.1074\">Engine</text><line style=\"stroke: #383838; stroke-width: 1.5;\" x1=\"1041\" x2=\"1105\" y1=\"218.9375\" y2=\"218.9375\"/></a><!--MD5=[09b614a08d8cba4a07c9adeb5e0fee81]\n",
       "class E3--><a href=\"psysml:d1c59f8e-91b7-4873-9a7c-d548f1a74ff0\" target=\"_top\" title=\"psysml:d1c59f8e-91b7-4873-9a7c-d548f1a74ff0\" xlink:actuate=\"onRequest\" xlink:href=\"psysml:d1c59f8e-91b7-4873-9a7c-d548f1a74ff0\" xlink:show=\"new\" xlink:title=\"psysml:d1c59f8e-91b7-4873-9a7c-d548f1a74ff0\" xlink:type=\"simple\"><rect fill=\"#FFFFFF\" height=\"45.9375\" id=\"E3\" rx=\"10\" ry=\"10\" style=\"stroke: #383838; stroke-width: 1.5;\" width=\"108\" x=\"863\" y=\"41\"/><text fill=\"#000000\" font-family=\"sans-serif\" font-size=\"12\" font-style=\"italic\" lengthAdjust=\"spacingAndGlyphs\" textLength=\"40\" x=\"897\" y=\"57.1387\">«part»</text><text fill=\"#000000\" font-family=\"sans-serif\" font-size=\"12\" lengthAdjust=\"spacingAndGlyphs\" textLength=\"102\" x=\"866\" y=\"71.1074\">engine1: Engine</text><line style=\"stroke: #383838; stroke-width: 1.5;\" x1=\"864\" x2=\"970\" y1=\"78.9375\" y2=\"78.9375\"/></a><!--MD5=[ebbe1d658d1005bcc118a6aa81145e00]\n",
       "class E4--><a href=\"psysml:b8b914f7-6e3e-418c-a7c7-b0f9195d6204\" target=\"_top\" title=\"psysml:b8b914f7-6e3e-418c-a7c7-b0f9195d6204\" xlink:actuate=\"onRequest\" xlink:href=\"psysml:b8b914f7-6e3e-418c-a7c7-b0f9195d6204\" xlink:show=\"new\" xlink:title=\"psysml:b8b914f7-6e3e-418c-a7c7-b0f9195d6204\" xlink:type=\"simple\"><rect fill=\"#FFFFFF\" height=\"45.9375\" id=\"E4\" rx=\"10\" ry=\"10\" style=\"stroke: #383838; stroke-width: 1.5;\" width=\"108\" x=\"863\" y=\"122\"/><text fill=\"#000000\" font-family=\"sans-serif\" font-size=\"12\" font-style=\"italic\" lengthAdjust=\"spacingAndGlyphs\" textLength=\"40\" x=\"897\" y=\"138.1387\">«part»</text><text fill=\"#000000\" font-family=\"sans-serif\" font-size=\"12\" lengthAdjust=\"spacingAndGlyphs\" textLength=\"102\" x=\"866\" y=\"152.1074\">engine2: Engine</text><line style=\"stroke: #383838; stroke-width: 1.5;\" x1=\"864\" x2=\"970\" y1=\"159.9375\" y2=\"159.9375\"/></a><!--MD5=[270fce915f116d4de14055a7c1d9a0f3]\n",
       "class E5--><a href=\"psysml:d010e11c-db6d-479b-b98e-aa7ac12f08dc\" target=\"_top\" title=\"psysml:d010e11c-db6d-479b-b98e-aa7ac12f08dc\" xlink:actuate=\"onRequest\" xlink:href=\"psysml:d010e11c-db6d-479b-b98e-aa7ac12f08dc\" xlink:show=\"new\" xlink:title=\"psysml:d010e11c-db6d-479b-b98e-aa7ac12f08dc\" xlink:type=\"simple\"><rect fill=\"#FFFFFF\" height=\"45.9375\" id=\"E5\" rx=\"10\" ry=\"10\" style=\"stroke: #383838; stroke-width: 1.5;\" width=\"199\" x=\"32\" y=\"173\"/><text fill=\"#000000\" font-family=\"sans-serif\" font-size=\"12\" font-style=\"italic\" lengthAdjust=\"spacingAndGlyphs\" textLength=\"64\" x=\"99.5\" y=\"189.1387\">«analysis»</text><text fill=\"#000000\" font-family=\"sans-serif\" font-size=\"12\" lengthAdjust=\"spacingAndGlyphs\" textLength=\"193\" x=\"35\" y=\"203.1074\">engineTradeStudy: TradeStudy</text><line style=\"stroke: #383838; stroke-width: 1.5;\" x1=\"33\" x2=\"230\" y1=\"210.9375\" y2=\"210.9375\"/></a><!--MD5=[60a26617385b1d2d0262a64233df1f8d]\n",
       "class E6--><a href=\"psysml:baa50d6d-f728-4fdb-a3d8-0324d2e9c263\" target=\"_top\" title=\"psysml:baa50d6d-f728-4fdb-a3d8-0324d2e9c263\" xlink:actuate=\"onRequest\" xlink:href=\"psysml:baa50d6d-f728-4fdb-a3d8-0324d2e9c263\" xlink:show=\"new\" xlink:title=\"psysml:baa50d6d-f728-4fdb-a3d8-0324d2e9c263\" xlink:type=\"simple\"><rect fill=\"#FFFFFF\" height=\"45.9375\" id=\"E6\" rx=\"10\" ry=\"10\" style=\"stroke: #383838; stroke-width: 1.5;\" width=\"251\" x=\"366\" y=\"206\"/><text fill=\"#000000\" font-family=\"sans-serif\" font-size=\"12\" font-style=\"italic\" lengthAdjust=\"spacingAndGlyphs\" textLength=\"91\" x=\"446\" y=\"222.1387\">«requirement»</text><text fill=\"#000000\" font-family=\"sans-serif\" font-size=\"12\" lengthAdjust=\"spacingAndGlyphs\" textLength=\"245\" x=\"369\" y=\"236.1074\">tradeStudyObjective: MaximizeObjective</text><line style=\"stroke: #383838; stroke-width: 1.5;\" x1=\"367\" x2=\"616\" y1=\"243.9375\" y2=\"243.9375\"/></a><!--MD5=[2156ba9850f5573cc1fc38a6a4b2f02b]\n",
       "class E7--><a href=\"psysml:c3bcbf7c-d2b8-4beb-b9e4-ef0b91eba9be\" target=\"_top\" title=\"psysml:c3bcbf7c-d2b8-4beb-b9e4-ef0b91eba9be\" xlink:actuate=\"onRequest\" xlink:href=\"psysml:c3bcbf7c-d2b8-4beb-b9e4-ef0b91eba9be\" xlink:show=\"new\" xlink:title=\"psysml:c3bcbf7c-d2b8-4beb-b9e4-ef0b91eba9be\" xlink:type=\"simple\"><rect fill=\"#FFFFFF\" height=\"45.9375\" id=\"E7\" rx=\"10\" ry=\"10\" style=\"stroke: #383838; stroke-width: 1.5;\" width=\"116\" x=\"433.5\" y=\"125\"/><text fill=\"#000000\" font-family=\"sans-serif\" font-size=\"12\" font-style=\"italic\" lengthAdjust=\"spacingAndGlyphs\" textLength=\"82\" x=\"450.5\" y=\"141.1387\">«calculation»</text><text fill=\"#000000\" font-family=\"sans-serif\" font-size=\"12\" lengthAdjust=\"spacingAndGlyphs\" textLength=\"110\" x=\"436.5\" y=\"155.1074\">objectiveFunction</text><line style=\"stroke: #383838; stroke-width: 1.5;\" x1=\"434.5\" x2=\"548.5\" y1=\"162.9375\" y2=\"162.9375\"/></a><!--MD5=[b9389687b975829384b498ac4b7476b2]\n",
       "class E8--><a href=\"psysml:c18a795f-fd76-4ffb-a70d-e612388b917b\" target=\"_top\" title=\"psysml:c18a795f-fd76-4ffb-a70d-e612388b917b\" xlink:actuate=\"onRequest\" xlink:href=\"psysml:c18a795f-fd76-4ffb-a70d-e612388b917b\" xlink:show=\"new\" xlink:title=\"psysml:c18a795f-fd76-4ffb-a70d-e612388b917b\" xlink:type=\"simple\"><rect fill=\"#FFFFFF\" height=\"45.9375\" id=\"E8\" rx=\"10\" ry=\"10\" style=\"stroke: #383838; stroke-width: 1.5;\" width=\"124\" x=\"855\" y=\"240\"/><text fill=\"#000000\" font-family=\"sans-serif\" font-size=\"12\" font-style=\"italic\" lengthAdjust=\"spacingAndGlyphs\" textLength=\"40\" x=\"897\" y=\"256.1387\">«part»</text><text fill=\"#000000\" font-family=\"sans-serif\" font-size=\"12\" lengthAdjust=\"spacingAndGlyphs\" textLength=\"118\" x=\"858\" y=\"270.1074\">alternative: Engine</text><line style=\"stroke: #383838; stroke-width: 1.5;\" x1=\"856\" x2=\"978\" y1=\"277.9375\" y2=\"277.9375\"/></a><!--MD5=[fd4143e9d270a159db93a4ea2a975926]\n",
       "class E9--><a href=\"psysml:854815c3-8ae1-4c3d-a371-f12eec0f41ab\" target=\"_top\" title=\"psysml:854815c3-8ae1-4c3d-a371-f12eec0f41ab\" xlink:actuate=\"onRequest\" xlink:href=\"psysml:854815c3-8ae1-4c3d-a371-f12eec0f41ab\" xlink:show=\"new\" xlink:title=\"psysml:854815c3-8ae1-4c3d-a371-f12eec0f41ab\" xlink:type=\"simple\"><rect fill=\"#FFFFFF\" height=\"45.9375\" id=\"E9\" rx=\"10\" ry=\"10\" style=\"stroke: #383838; stroke-width: 1.5;\" width=\"178\" x=\"647\" y=\"124\"/><text fill=\"#000000\" font-family=\"sans-serif\" font-size=\"12\" font-style=\"italic\" lengthAdjust=\"spacingAndGlyphs\" textLength=\"40\" x=\"716\" y=\"140.1387\">«part»</text><text fill=\"#000000\" font-family=\"sans-serif\" font-size=\"12\" lengthAdjust=\"spacingAndGlyphs\" textLength=\"172\" x=\"650\" y=\"154.1074\">selectedAlternative: Engine</text><line style=\"stroke: #383838; stroke-width: 1.5;\" x1=\"648\" x2=\"824\" y1=\"161.9375\" y2=\"161.9375\"/></a><!--MD5=[05d275557350bfb9b23a4ef7222b4c39]\n",
       "link E3 to E2--><a href=\"psysml:a477e10c-c644-4ab8-a0d7-73b747f4931b\" target=\"_top\" title=\"psysml:a477e10c-c644-4ab8-a0d7-73b747f4931b\" xlink:actuate=\"onRequest\" xlink:href=\"psysml:a477e10c-c644-4ab8-a0d7-73b747f4931b\" xlink:show=\"new\" xlink:title=\"psysml:a477e10c-c644-4ab8-a0d7-73b747f4931b\" xlink:type=\"simple\"><path d=\"M956.44,87.17 C964.16,92.38 972.03,98.12 979,104 C1000.94,122.52 1022.93,145.89 1040.02,165.38 \" fill=\"none\" id=\"E3-&gt;E2\" style=\"stroke: #383838; stroke-width: 1.0;\"/><polygon fill=\"#FFFFFF\" points=\"1053.11,180.65,1035.4256,170.7879,1046.0509,161.6719,1053.11,180.65\" style=\"stroke: #383838; stroke-width: 1.0;\"/><ellipse cx=\"1033.232\" cy=\"165.1596\" fill=\"#383838\" rx=\"2\" ry=\"2\" style=\"stroke: #383838; stroke-width: 1.0;\"/><ellipse cx=\"1040.8215\" cy=\"158.6481\" fill=\"#383838\" rx=\"2\" ry=\"2\" style=\"stroke: #383838; stroke-width: 1.0;\"/></a><!--MD5=[185131fc0dcab0a4505a2ebe144e961b]\n",
       "link E4 to E2--><a href=\"psysml:006a8138-edc7-4443-807d-fbbb291c6f87\" target=\"_top\" title=\"psysml:006a8138-edc7-4443-807d-fbbb291c6f87\" xlink:actuate=\"onRequest\" xlink:href=\"psysml:006a8138-edc7-4443-807d-fbbb291c6f87\" xlink:show=\"new\" xlink:title=\"psysml:006a8138-edc7-4443-807d-fbbb291c6f87\" xlink:type=\"simple\"><path d=\"M971.43,165.47 C987.52,171.64 1005.13,178.38 1021.06,184.48 \" fill=\"none\" id=\"E4-&gt;E2\" style=\"stroke: #383838; stroke-width: 1.0;\"/><polygon fill=\"#FFFFFF\" points=\"1039.76,191.65,1019.5133,191.3857,1024.5242,178.3132,1039.76,191.65\" style=\"stroke: #383838; stroke-width: 1.0;\"/><ellipse cx=\"1014.9067\" cy=\"187.478\" fill=\"#383838\" rx=\"2\" ry=\"2\" style=\"stroke: #383838; stroke-width: 1.0;\"/><ellipse cx=\"1018.486\" cy=\"178.1405\" fill=\"#383838\" rx=\"2\" ry=\"2\" style=\"stroke: #383838; stroke-width: 1.0;\"/></a><!--MD5=[15ebcb19ae302d9b601edb458606d402]\n",
       "link E5 to E2--><a href=\"psysml:0f7006cc-acd6-40d1-b198-a80e8f08765e\" target=\"_top\" title=\"psysml:0f7006cc-acd6-40d1-b198-a80e8f08765e\" xlink:actuate=\"onRequest\" xlink:href=\"psysml:0f7006cc-acd6-40d1-b198-a80e8f08765e\" xlink:show=\"new\" xlink:title=\"psysml:0f7006cc-acd6-40d1-b198-a80e8f08765e\" xlink:type=\"simple\"><path d=\"M192.97,219.15 C239.54,235.94 305.91,257.62 366,269 C580.08,309.56 637.25,296.22 855,304 C910.08,305.97 928.47,326.01 979,304 C1012.76,289.29 1039.79,255.62 1055.83,231.41 \" fill=\"none\" id=\"E5-&gt;E2\" style=\"stroke: #383838; stroke-width: 1.0; stroke-dasharray: 7.0,7.0;\"/><polygon fill=\"#383838\" points=\"1058.7,227,1050.4426,232.368,1055.9761,231.1929,1057.1512,236.7263,1058.7,227\" style=\"stroke: #383838; stroke-width: 1.0;\"/><text fill=\"#000000\" font-family=\"sans-serif\" font-size=\"13\" lengthAdjust=\"spacingAndGlyphs\" textLength=\"62\" x=\"705\" y=\"296.0669\">«subject»</text></a><!--MD5=[9120cf2e5df3bff93db8f754bbbc09b4]\n",
       "link E5 to E6--><a href=\"psysml:33b70aea-82ec-44f7-8a12-3ec54376cb03\" target=\"_top\" title=\"psysml:33b70aea-82ec-44f7-8a12-3ec54376cb03\" xlink:actuate=\"onRequest\" xlink:href=\"psysml:33b70aea-82ec-44f7-8a12-3ec54376cb03\" xlink:show=\"new\" xlink:title=\"psysml:33b70aea-82ec-44f7-8a12-3ec54376cb03\" xlink:type=\"simple\"><path d=\"M231.27,205.1 C270.35,208.71 315.87,212.9 357.75,216.76 \" fill=\"none\" id=\"E5-&gt;E6\" style=\"stroke: #383838; stroke-width: 1.0;\"/><polygon fill=\"#383838\" points=\"365.81,217.51,358.1229,213.7806,357.5661,219.7548,365.81,217.51\" style=\"stroke: #383838; stroke-width: 1.0;\"/><text fill=\"#000000\" font-family=\"sans-serif\" font-size=\"13\" lengthAdjust=\"spacingAndGlyphs\" textLength=\"73\" x=\"262\" y=\"205.0669\">«objective»</text></a><!--MD5=[452b418e7f8a40397a49b8c0a78acc5b]\n",
       "reverse link E5 to E7--><a href=\"psysml:9ca3a684-dbe3-4511-9e21-3cef746855e2\" target=\"_top\" title=\"psysml:9ca3a684-dbe3-4511-9e21-3cef746855e2\" xlink:actuate=\"onRequest\" xlink:href=\"psysml:9ca3a684-dbe3-4511-9e21-3cef746855e2\" xlink:show=\"new\" xlink:title=\"psysml:9ca3a684-dbe3-4511-9e21-3cef746855e2\" xlink:type=\"simple\"><path d=\"M244.44,180.99 C307.13,172.59 382.64,162.46 433.34,155.66 \" fill=\"none\" id=\"E5&lt;-E7\" style=\"stroke: #383838; stroke-width: 1.0;\"/><polygon fill=\"#383838\" points=\"231.27,182.76,237.7486,185.9268,243.1635,181.1645,236.6849,177.9978,231.27,182.76\" style=\"stroke: #383838; stroke-width: 1.0;\"/></a><!--MD5=[dc164f5e8a733ab456ef1add180e9e34]\n",
       "reverse link E7 to E8--><a href=\"psysml:8f87ba26-7a36-4a80-9ed1-e463a907c7c6\" target=\"_top\" title=\"psysml:8f87ba26-7a36-4a80-9ed1-e463a907c7c6\" xlink:actuate=\"onRequest\" xlink:href=\"psysml:8f87ba26-7a36-4a80-9ed1-e463a907c7c6\" xlink:show=\"new\" xlink:title=\"psysml:8f87ba26-7a36-4a80-9ed1-e463a907c7c6\" xlink:type=\"simple\"><path d=\"M562.22,166.93 C643.63,189.04 777.02,225.26 854.65,246.34 \" fill=\"none\" id=\"E7&lt;-E8\" style=\"stroke: #383838; stroke-width: 1.0;\"/><polygon fill=\"#FFFFFF\" points=\"549.62,163.51,554.3645,168.9404,561.202,166.6495,556.4575,161.2191,549.62,163.51\" style=\"stroke: #383838; stroke-width: 1.0;\"/><text fill=\"#000000\" font-family=\"sans-serif\" font-size=\"13\" lengthAdjust=\"spacingAndGlyphs\" textLength=\"8\" x=\"838.9783\" y=\"257.3591\">1</text></a><!--MD5=[f1f3f9f2fc535e6147756cb86a7f2e32]\n",
       "link E8 to E2--><a href=\"psysml:bdf7178e-b1d2-4aa0-b7b5-71013aa1f7a9\" target=\"_top\" title=\"psysml:bdf7178e-b1d2-4aa0-b7b5-71013aa1f7a9\" xlink:actuate=\"onRequest\" xlink:href=\"psysml:bdf7178e-b1d2-4aa0-b7b5-71013aa1f7a9\" xlink:show=\"new\" xlink:title=\"psysml:bdf7178e-b1d2-4aa0-b7b5-71013aa1f7a9\" xlink:type=\"simple\"><path d=\"M978.42,239.85 C992.46,234.47 1007.28,228.8 1020.87,223.59 \" fill=\"none\" id=\"E8-&gt;E2\" style=\"stroke: #383838; stroke-width: 1.0;\"/><polygon fill=\"#FFFFFF\" points=\"1039.69,216.38,1024.4542,229.7168,1019.4433,216.6443,1039.69,216.38\" style=\"stroke: #383838; stroke-width: 1.0;\"/><ellipse cx=\"1018.416\" cy=\"229.8895\" fill=\"#383838\" rx=\"2\" ry=\"2\" style=\"stroke: #383838; stroke-width: 1.0;\"/><ellipse cx=\"1014.8367\" cy=\"220.552\" fill=\"#383838\" rx=\"2\" ry=\"2\" style=\"stroke: #383838; stroke-width: 1.0;\"/></a><!--MD5=[9ae28de373ca99bb8a1b38d63370ca7e]\n",
       "reverse link E5 to E9--><a href=\"psysml:a1ab5fdf-7d24-4497-9ea2-3c4d95277eba\" target=\"_top\" title=\"psysml:a1ab5fdf-7d24-4497-9ea2-3c4d95277eba\" xlink:actuate=\"onRequest\" xlink:href=\"psysml:a1ab5fdf-7d24-4497-9ea2-3c4d95277eba\" xlink:show=\"new\" xlink:title=\"psysml:a1ab5fdf-7d24-4497-9ea2-3c4d95277eba\" xlink:type=\"simple\"><path d=\"M189.89,167.36 C236.14,145.96 303.53,118.5 366,107 C475.71,86.8 506.93,88.85 617,107 C637.81,110.43 659.88,117.05 679.24,123.93 \" fill=\"none\" id=\"E5&lt;-E9\" style=\"stroke: #383838; stroke-width: 1.0;\"/><polygon fill=\"#FFFFFF\" points=\"178.01,172.94,185.1402,174.017,188.8768,167.8495,181.7466,166.7725,178.01,172.94\" style=\"stroke: #383838; stroke-width: 1.0;\"/><text fill=\"#000000\" font-family=\"sans-serif\" font-size=\"13\" lengthAdjust=\"spacingAndGlyphs\" textLength=\"8\" x=\"654.9108\" y=\"112.8075\">1</text></a><!--MD5=[5c3bb36fe832a92c7f0e1807dd65209d]\n",
       "link E9 to E2--><a href=\"psysml:9bedaae2-b2c6-4d70-8011-f34c154ea99f\" target=\"_top\" title=\"psysml:9bedaae2-b2c6-4d70-8011-f34c154ea99f\" xlink:actuate=\"onRequest\" xlink:href=\"psysml:9bedaae2-b2c6-4d70-8011-f34c154ea99f\" xlink:show=\"new\" xlink:title=\"psysml:9bedaae2-b2c6-4d70-8011-f34c154ea99f\" xlink:type=\"simple\"><path d=\"M799.69,170.07 C817.36,175.78 836.75,181.31 855,185 C910.46,196.21 975.22,200.81 1019.46,202.69 \" fill=\"none\" id=\"E9-&gt;E2\" style=\"stroke: #383838; stroke-width: 1.0;\"/><polygon fill=\"#FFFFFF\" points=\"1039.69,203.42,1020.4478,209.7237,1020.9574,195.733,1039.69,203.42\" style=\"stroke: #383838; stroke-width: 1.0;\"/><ellipse cx=\"1014.8244\" cy=\"207.5175\" fill=\"#383838\" rx=\"2\" ry=\"2\" style=\"stroke: #383838; stroke-width: 1.0;\"/><ellipse cx=\"1015.1884\" cy=\"197.5241\" fill=\"#383838\" rx=\"2\" ry=\"2\" style=\"stroke: #383838; stroke-width: 1.0;\"/></a><!--MD5=[d93f7e7810f8208e49c232e9ac576dee]\n",
       "@startuml\r\n",
       "left to right direction\r\n",
       "skinparam monochrome true\r\n",
       "skinparam classbackgroundcolor white\r\n",
       "skinparam shadowing false\r\n",
       "skinparam wrapWidth 300\r\n",
       "hide circle\r\n",
       "\r\n",
       "package \"TradeStudyTest\" as E1  [[psysml:e59f1b4e-bf48-44e5-8b03-de7ba4c0da2b ]]  {\r\n",
       "comp def \"Engine\" as E2  <<(T,blue) part def>> [[psysml:8032ee8b-b45e-4aab-a334-ddc7f77ca09b ]] {\r\n",
       "}\r\n",
       "comp usage \"engine1: Engine\" as E3  <<(T,blue) part>> [[psysml:d1c59f8e-91b7-4873-9a7c-d548f1a74ff0 ]] {\r\n",
       "}\r\n",
       "comp usage \"engine2: Engine\" as E4  <<(T,blue) part>> [[psysml:b8b914f7-6e3e-418c-a7c7-b0f9195d6204 ]] {\r\n",
       "}\r\n",
       "comp usage \"engineTradeStudy: TradeStudy\" as E5 << analysis>> [[psysml:d010e11c-db6d-479b-b98e-aa7ac12f08dc ]] {\r\n",
       "}\r\n",
       "comp usage \"tradeStudyObjective: MaximizeObjective\" as E6  <<(T,blue) requirement>> [[psysml:baa50d6d-f728-4fdb-a3d8-0324d2e9c263 ]] {\r\n",
       "}\r\n",
       "comp usage \"objectiveFunction\" as E7  <<(T,blue) calculation>> [[psysml:c3bcbf7c-d2b8-4beb-b9e4-ef0b91eba9be ]] {\r\n",
       "}\r\n",
       "comp usage \"alternative: Engine\" as E8  <<(T,blue) part>> [[psysml:c18a795f-fd76-4ffb-a70d-e612388b917b ]] {\r\n",
       "}\r\n",
       "comp usage \"selectedAlternative: Engine\" as E9  <<(T,blue) part>> [[psysml:854815c3-8ae1-4c3d-a371-f12eec0f41ab ]] {\r\n",
       "}\r\n",
       "}\r\n",
       "E3 - -:|> E2 [[psysml:a477e10c-c644-4ab8-a0d7-73b747f4931b ]] \r\n",
       "E4 - -:|> E2 [[psysml:006a8138-edc7-4443-807d-fbbb291c6f87 ]] \r\n",
       "E5 ..> E2 [[psysml:0f7006cc-acd6-40d1-b198-a80e8f08765e ]] : <<subject>>\r\n",
       "E5 - ->> E6 [[psysml:33b70aea-82ec-44f7-8a12-3ec54376cb03 ]] : <<objective>>\r\n",
       "E5 *- - E7 [[psysml:9ca3a684-dbe3-4511-9e21-3cef746855e2 ]] \r\n",
       "E7 o- - \"1\"E8 [[psysml:8f87ba26-7a36-4a80-9ed1-e463a907c7c6 ]] \r\n",
       "E8 - -:|> E2 [[psysml:bdf7178e-b1d2-4aa0-b7b5-71013aa1f7a9 ]] \r\n",
       "E5 o- - \"1\"E9 [[psysml:a1ab5fdf-7d24-4497-9ea2-3c4d95277eba ]] \r\n",
       "E9 - -:|> E2 [[psysml:9bedaae2-b2c6-4d70-8011-f34c154ea99f ]] \r\n",
       "@enduml\r\n",
       "\n",
       "PlantUML version 1.2020.13(Sat Jun 13 12:26:38 UTC 2020)\n",
       "(EPL source distribution)\n",
       "Java Runtime: OpenJDK Runtime Environment\n",
       "JVM: OpenJDK 64-Bit Server VM\n",
       "Default Encoding: UTF-8\n",
       "Language: en\n",
       "Country: null\n",
       "--></g></svg>"
      ]
     },
     "execution_count": 22,
     "metadata": {},
     "output_type": "execute_result"
    }
   ],
   "source": [
    "%viz --style=\"LR\" --view=\"MIXED\" \"TradeStudyTest\""
   ]
  },
  {
   "cell_type": "code",
   "execution_count": 23,
   "id": "8066e3d8",
   "metadata": {
    "execution": {
     "iopub.execute_input": "2021-09-27T07:19:35.677483Z",
     "iopub.status.busy": "2021-09-27T07:19:35.677281Z",
     "iopub.status.idle": "2021-09-27T07:19:35.720601Z",
     "shell.execute_reply": "2021-09-27T07:19:35.720414Z"
    }
   },
   "outputs": [
    {
     "data": {
      "image/svg+xml": [
       "<?xml version=\"1.0\" encoding=\"UTF-8\" standalone=\"no\"?><svg xmlns=\"http://www.w3.org/2000/svg\" xmlns:xlink=\"http://www.w3.org/1999/xlink\" contentScriptType=\"application/ecmascript\" contentStyleType=\"text/css\" height=\"497px\" preserveAspectRatio=\"none\" style=\"width:556px;height:497px;\" version=\"1.1\" viewBox=\"0 0 556 497\" width=\"556px\" zoomAndPan=\"magnify\"><defs><filter height=\"300%\" id=\"f3i4ar2zmple8\" width=\"300%\" x=\"-1\" y=\"-1\"><feGaussianBlur result=\"blurOut\" stdDeviation=\"2.0\"/><feColorMatrix in=\"blurOut\" result=\"blurOut2\" type=\"matrix\" values=\"0 0 0 0 0 0 0 0 0 0 0 0 0 0 0 0 0 0 .4 0\"/><feOffset dx=\"4.0\" dy=\"4.0\" in=\"blurOut2\" result=\"blurOut3\"/><feBlend in=\"SourceGraphic\" in2=\"blurOut3\" mode=\"normal\"/></filter></defs><g><!--MD5=[fbc87193dbaf4d95561dea2c320d4a47]\n",
       "cluster E1--><a href=\"psysml:e59f1b4e-bf48-44e5-8b03-de7ba4c0da2b\" target=\"_top\" title=\"psysml:e59f1b4e-bf48-44e5-8b03-de7ba4c0da2b\" xlink:actuate=\"onRequest\" xlink:href=\"psysml:e59f1b4e-bf48-44e5-8b03-de7ba4c0da2b\" xlink:show=\"new\" xlink:title=\"psysml:e59f1b4e-bf48-44e5-8b03-de7ba4c0da2b\" xlink:type=\"simple\"><polygon fill=\"#FFFFFF\" filter=\"url(#f3i4ar2zmple8)\" points=\"18.32,6,134.32,6,141.32,28.2969,534.32,28.2969,534.32,485,18.32,485,18.32,6\" style=\"stroke: #000000; stroke-width: 1.5;\"/><line style=\"stroke: #000000; stroke-width: 1.5;\" x1=\"18.32\" x2=\"141.32\" y1=\"28.2969\" y2=\"28.2969\"/><text fill=\"#000000\" font-family=\"sans-serif\" font-size=\"14\" font-weight=\"bold\" lengthAdjust=\"spacingAndGlyphs\" textLength=\"110\" x=\"22.32\" y=\"20.9951\">TradeStudyTest</text></a><!--MD5=[b4997ac47864f28c2f74865a473b2911]\n",
       "class E2--><a href=\"psysml:8032ee8b-b45e-4aab-a334-ddc7f77ca09b\" target=\"_top\" title=\"psysml:8032ee8b-b45e-4aab-a334-ddc7f77ca09b\" xlink:actuate=\"onRequest\" xlink:href=\"psysml:8032ee8b-b45e-4aab-a334-ddc7f77ca09b\" xlink:show=\"new\" xlink:title=\"psysml:8032ee8b-b45e-4aab-a334-ddc7f77ca09b\" xlink:type=\"simple\"><rect fill=\"#FEFECE\" filter=\"url(#f3i4ar2zmple8)\" height=\"45.9375\" id=\"E2\" style=\"stroke: #A80036; stroke-width: 1.5;\" width=\"66\" x=\"198.32\" y=\"423\"/><text fill=\"#000000\" font-family=\"sans-serif\" font-size=\"12\" font-style=\"italic\" lengthAdjust=\"spacingAndGlyphs\" textLength=\"64\" x=\"199.32\" y=\"439.1387\">«part def»</text><text fill=\"#000000\" font-family=\"sans-serif\" font-size=\"12\" lengthAdjust=\"spacingAndGlyphs\" textLength=\"43\" x=\"209.82\" y=\"453.1074\">Engine</text><line style=\"stroke: #A80036; stroke-width: 1.5;\" x1=\"199.32\" x2=\"263.32\" y1=\"460.9375\" y2=\"460.9375\"/></a><!--MD5=[09b614a08d8cba4a07c9adeb5e0fee81]\n",
       "class E3--><a href=\"psysml:d1c59f8e-91b7-4873-9a7c-d548f1a74ff0\" target=\"_top\" title=\"psysml:d1c59f8e-91b7-4873-9a7c-d548f1a74ff0\" xlink:actuate=\"onRequest\" xlink:href=\"psysml:d1c59f8e-91b7-4873-9a7c-d548f1a74ff0\" xlink:show=\"new\" xlink:title=\"psysml:d1c59f8e-91b7-4873-9a7c-d548f1a74ff0\" xlink:type=\"simple\"><rect fill=\"#FEFECE\" filter=\"url(#f3i4ar2zmple8)\" height=\"45.9375\" id=\"E3\" rx=\"10\" ry=\"10\" style=\"stroke: #A80036; stroke-width: 1.5;\" width=\"108\" x=\"410.32\" y=\"316\"/><text fill=\"#000000\" font-family=\"sans-serif\" font-size=\"12\" font-style=\"italic\" lengthAdjust=\"spacingAndGlyphs\" textLength=\"40\" x=\"444.32\" y=\"332.1387\">«part»</text><text fill=\"#000000\" font-family=\"sans-serif\" font-size=\"12\" lengthAdjust=\"spacingAndGlyphs\" textLength=\"102\" x=\"413.32\" y=\"346.1074\">engine1: Engine</text><line style=\"stroke: #A80036; stroke-width: 1.5;\" x1=\"411.32\" x2=\"517.32\" y1=\"353.9375\" y2=\"353.9375\"/></a><!--MD5=[ebbe1d658d1005bcc118a6aa81145e00]\n",
       "class E4--><a href=\"psysml:b8b914f7-6e3e-418c-a7c7-b0f9195d6204\" target=\"_top\" title=\"psysml:b8b914f7-6e3e-418c-a7c7-b0f9195d6204\" xlink:actuate=\"onRequest\" xlink:href=\"psysml:b8b914f7-6e3e-418c-a7c7-b0f9195d6204\" xlink:show=\"new\" xlink:title=\"psysml:b8b914f7-6e3e-418c-a7c7-b0f9195d6204\" xlink:type=\"simple\"><rect fill=\"#FEFECE\" filter=\"url(#f3i4ar2zmple8)\" height=\"45.9375\" id=\"E4\" rx=\"10\" ry=\"10\" style=\"stroke: #A80036; stroke-width: 1.5;\" width=\"108\" x=\"267.32\" y=\"316\"/><text fill=\"#000000\" font-family=\"sans-serif\" font-size=\"12\" font-style=\"italic\" lengthAdjust=\"spacingAndGlyphs\" textLength=\"40\" x=\"301.32\" y=\"332.1387\">«part»</text><text fill=\"#000000\" font-family=\"sans-serif\" font-size=\"12\" lengthAdjust=\"spacingAndGlyphs\" textLength=\"102\" x=\"270.32\" y=\"346.1074\">engine2: Engine</text><line style=\"stroke: #A80036; stroke-width: 1.5;\" x1=\"268.32\" x2=\"374.32\" y1=\"353.9375\" y2=\"353.9375\"/></a><!--MD5=[270fce915f116d4de14055a7c1d9a0f3]\n",
       "class E5--><a href=\"psysml:d010e11c-db6d-479b-b98e-aa7ac12f08dc\" target=\"_top\" title=\"psysml:d010e11c-db6d-479b-b98e-aa7ac12f08dc\" xlink:actuate=\"onRequest\" xlink:href=\"psysml:d010e11c-db6d-479b-b98e-aa7ac12f08dc\" xlink:show=\"new\" xlink:title=\"psysml:d010e11c-db6d-479b-b98e-aa7ac12f08dc\" xlink:type=\"simple\"><rect fill=\"#FEFECE\" filter=\"url(#f3i4ar2zmple8)\" height=\"45.9375\" id=\"E5\" rx=\"10\" ry=\"10\" style=\"stroke: #A80036; stroke-width: 1.5;\" width=\"199\" x=\"239.82\" y=\"41\"/><text fill=\"#000000\" font-family=\"sans-serif\" font-size=\"12\" font-style=\"italic\" lengthAdjust=\"spacingAndGlyphs\" textLength=\"64\" x=\"307.32\" y=\"57.1387\">«analysis»</text><text fill=\"#000000\" font-family=\"sans-serif\" font-size=\"12\" lengthAdjust=\"spacingAndGlyphs\" textLength=\"193\" x=\"242.82\" y=\"71.1074\">engineTradeStudy: TradeStudy</text><line style=\"stroke: #A80036; stroke-width: 1.5;\" x1=\"240.82\" x2=\"437.82\" y1=\"78.9375\" y2=\"78.9375\"/></a><!--MD5=[60a26617385b1d2d0262a64233df1f8d]\n",
       "class E6--><a href=\"psysml:baa50d6d-f728-4fdb-a3d8-0324d2e9c263\" target=\"_top\" title=\"psysml:baa50d6d-f728-4fdb-a3d8-0324d2e9c263\" xlink:actuate=\"onRequest\" xlink:href=\"psysml:baa50d6d-f728-4fdb-a3d8-0324d2e9c263\" xlink:show=\"new\" xlink:title=\"psysml:baa50d6d-f728-4fdb-a3d8-0324d2e9c263\" xlink:type=\"simple\"><rect fill=\"#FEFECE\" filter=\"url(#f3i4ar2zmple8)\" height=\"45.9375\" id=\"E6\" rx=\"10\" ry=\"10\" style=\"stroke: #A80036; stroke-width: 1.5;\" width=\"251\" x=\"78.82\" y=\"164\"/><text fill=\"#000000\" font-family=\"sans-serif\" font-size=\"12\" font-style=\"italic\" lengthAdjust=\"spacingAndGlyphs\" textLength=\"91\" x=\"158.82\" y=\"180.1387\">«requirement»</text><text fill=\"#000000\" font-family=\"sans-serif\" font-size=\"12\" lengthAdjust=\"spacingAndGlyphs\" textLength=\"245\" x=\"81.82\" y=\"194.1074\">tradeStudyObjective: MaximizeObjective</text><line style=\"stroke: #A80036; stroke-width: 1.5;\" x1=\"79.82\" x2=\"328.82\" y1=\"201.9375\" y2=\"201.9375\"/></a><!--MD5=[2156ba9850f5573cc1fc38a6a4b2f02b]\n",
       "class E7--><a href=\"psysml:c3bcbf7c-d2b8-4beb-b9e4-ef0b91eba9be\" target=\"_top\" title=\"psysml:c3bcbf7c-d2b8-4beb-b9e4-ef0b91eba9be\" xlink:actuate=\"onRequest\" xlink:href=\"psysml:c3bcbf7c-d2b8-4beb-b9e4-ef0b91eba9be\" xlink:show=\"new\" xlink:title=\"psysml:c3bcbf7c-d2b8-4beb-b9e4-ef0b91eba9be\" xlink:type=\"simple\"><rect fill=\"#FEFECE\" filter=\"url(#f3i4ar2zmple8)\" height=\"45.9375\" id=\"E7\" rx=\"10\" ry=\"10\" style=\"stroke: #A80036; stroke-width: 1.5;\" width=\"116\" x=\"365.32\" y=\"164\"/><text fill=\"#000000\" font-family=\"sans-serif\" font-size=\"12\" font-style=\"italic\" lengthAdjust=\"spacingAndGlyphs\" textLength=\"82\" x=\"382.32\" y=\"180.1387\">«calculation»</text><text fill=\"#000000\" font-family=\"sans-serif\" font-size=\"12\" lengthAdjust=\"spacingAndGlyphs\" textLength=\"110\" x=\"368.32\" y=\"194.1074\">objectiveFunction</text><line style=\"stroke: #A80036; stroke-width: 1.5;\" x1=\"366.32\" x2=\"480.32\" y1=\"201.9375\" y2=\"201.9375\"/></a><!--MD5=[b9389687b975829384b498ac4b7476b2]\n",
       "class E8--><a href=\"psysml:c18a795f-fd76-4ffb-a70d-e612388b917b\" target=\"_top\" title=\"psysml:c18a795f-fd76-4ffb-a70d-e612388b917b\" xlink:actuate=\"onRequest\" xlink:href=\"psysml:c18a795f-fd76-4ffb-a70d-e612388b917b\" xlink:show=\"new\" xlink:title=\"psysml:c18a795f-fd76-4ffb-a70d-e612388b917b\" xlink:type=\"simple\"><rect fill=\"#FEFECE\" filter=\"url(#f3i4ar2zmple8)\" height=\"45.9375\" id=\"E8\" rx=\"10\" ry=\"10\" style=\"stroke: #A80036; stroke-width: 1.5;\" width=\"124\" x=\"71.32\" y=\"316\"/><text fill=\"#000000\" font-family=\"sans-serif\" font-size=\"12\" font-style=\"italic\" lengthAdjust=\"spacingAndGlyphs\" textLength=\"40\" x=\"113.32\" y=\"332.1387\">«part»</text><text fill=\"#000000\" font-family=\"sans-serif\" font-size=\"12\" lengthAdjust=\"spacingAndGlyphs\" textLength=\"118\" x=\"74.32\" y=\"346.1074\">alternative: Engine</text><line style=\"stroke: #A80036; stroke-width: 1.5;\" x1=\"72.32\" x2=\"194.32\" y1=\"353.9375\" y2=\"353.9375\"/></a><!--MD5=[fd4143e9d270a159db93a4ea2a975926]\n",
       "class E9--><a href=\"psysml:854815c3-8ae1-4c3d-a371-f12eec0f41ab\" target=\"_top\" title=\"psysml:854815c3-8ae1-4c3d-a371-f12eec0f41ab\" xlink:actuate=\"onRequest\" xlink:href=\"psysml:854815c3-8ae1-4c3d-a371-f12eec0f41ab\" xlink:show=\"new\" xlink:title=\"psysml:854815c3-8ae1-4c3d-a371-f12eec0f41ab\" xlink:type=\"simple\"><rect fill=\"#FEFECE\" filter=\"url(#f3i4ar2zmple8)\" height=\"45.9375\" id=\"E9\" rx=\"10\" ry=\"10\" style=\"stroke: #A80036; stroke-width: 1.5;\" width=\"178\" x=\"291.32\" y=\"240\"/><text fill=\"#000000\" font-family=\"sans-serif\" font-size=\"12\" font-style=\"italic\" lengthAdjust=\"spacingAndGlyphs\" textLength=\"40\" x=\"360.32\" y=\"256.1387\">«part»</text><text fill=\"#000000\" font-family=\"sans-serif\" font-size=\"12\" lengthAdjust=\"spacingAndGlyphs\" textLength=\"172\" x=\"294.32\" y=\"270.1074\">selectedAlternative: Engine</text><line style=\"stroke: #A80036; stroke-width: 1.5;\" x1=\"292.32\" x2=\"468.32\" y1=\"277.9375\" y2=\"277.9375\"/></a><!--MD5=[05d275557350bfb9b23a4ef7222b4c39]\n",
       "link E3 to E2--><a href=\"psysml:a477e10c-c644-4ab8-a0d7-73b747f4931b\" target=\"_top\" title=\"psysml:a477e10c-c644-4ab8-a0d7-73b747f4931b\" xlink:actuate=\"onRequest\" xlink:href=\"psysml:a477e10c-c644-4ab8-a0d7-73b747f4931b\" xlink:show=\"new\" xlink:title=\"psysml:a477e10c-c644-4ab8-a0d7-73b747f4931b\" xlink:type=\"simple\"><path d=\"M415.48,362.01 C376.57,379.54 322.27,404.01 282.71,421.84 \" fill=\"none\" id=\"E3-&gt;E2\" style=\"stroke: #A80036; stroke-width: 1.0;\"/><polygon fill=\"#FFFFFF\" points=\"264.34,430.12,278.7866,415.9321,284.5383,428.696,264.34,430.12\" style=\"stroke: #A80036; stroke-width: 1.0;\"/><ellipse cx=\"284.805\" cy=\"415.4137\" fill=\"#A80036\" rx=\"2\" ry=\"2\" style=\"stroke: #A80036; stroke-width: 1.0;\"/><ellipse cx=\"288.9134\" cy=\"424.5308\" fill=\"#A80036\" rx=\"2\" ry=\"2\" style=\"stroke: #A80036; stroke-width: 1.0;\"/></a><!--MD5=[185131fc0dcab0a4505a2ebe144e961b]\n",
       "link E4 to E2--><a href=\"psysml:006a8138-edc7-4443-807d-fbbb291c6f87\" target=\"_top\" title=\"psysml:006a8138-edc7-4443-807d-fbbb291c6f87\" xlink:actuate=\"onRequest\" xlink:href=\"psysml:006a8138-edc7-4443-807d-fbbb291c6f87\" xlink:show=\"new\" xlink:title=\"psysml:006a8138-edc7-4443-807d-fbbb291c6f87\" xlink:type=\"simple\"><path d=\"M302.45,362.01 C291.25,375.08 276.74,392.01 263.74,407.17 \" fill=\"none\" id=\"E4-&gt;E2\" style=\"stroke: #A80036; stroke-width: 1.0;\"/><polygon fill=\"#FFFFFF\" points=\"250.47,422.66,257.5188,403.678,268.1491,412.7883,250.47,422.66\" style=\"stroke: #A80036; stroke-width: 1.0;\"/><ellipse cx=\"262.7466\" cy=\"400.6515\" fill=\"#A80036\" rx=\"2\" ry=\"2\" style=\"stroke: #A80036; stroke-width: 1.0;\"/><ellipse cx=\"270.3396\" cy=\"407.1588\" fill=\"#A80036\" rx=\"2\" ry=\"2\" style=\"stroke: #A80036; stroke-width: 1.0;\"/></a><!--MD5=[15ebcb19ae302d9b601edb458606d402]\n",
       "link E5 to E2--><a href=\"psysml:0f7006cc-acd6-40d1-b198-a80e8f08765e\" target=\"_top\" title=\"psysml:0f7006cc-acd6-40d1-b198-a80e8f08765e\" xlink:actuate=\"onRequest\" xlink:href=\"psysml:0f7006cc-acd6-40d1-b198-a80e8f08765e\" xlink:show=\"new\" xlink:title=\"psysml:0f7006cc-acd6-40d1-b198-a80e8f08765e\" xlink:type=\"simple\"><path d=\"M239.76,73.22 C177.99,83.96 102.74,108.45 61.32,164 C8.68,234.61 6,287.72 53.32,362 C83.95,410.08 150.5,430.76 192.99,439.32 \" fill=\"none\" id=\"E5-&gt;E2\" style=\"stroke: #A80036; stroke-width: 1.0; stroke-dasharray: 7.0,7.0;\"/><polygon fill=\"#A80036\" points=\"198.04,440.31,189.9738,434.6588,193.1327,439.3514,188.4401,442.5104,198.04,440.31\" style=\"stroke: #A80036; stroke-width: 1.0;\"/><text fill=\"#000000\" font-family=\"sans-serif\" font-size=\"13\" lengthAdjust=\"spacingAndGlyphs\" textLength=\"62\" x=\"24.32\" y=\"267.5669\">«subject»</text></a><!--MD5=[9120cf2e5df3bff93db8f754bbbc09b4]\n",
       "link E5 to E6--><a href=\"psysml:33b70aea-82ec-44f7-8a12-3ec54376cb03\" target=\"_top\" title=\"psysml:33b70aea-82ec-44f7-8a12-3ec54376cb03\" xlink:actuate=\"onRequest\" xlink:href=\"psysml:33b70aea-82ec-44f7-8a12-3ec54376cb03\" xlink:show=\"new\" xlink:title=\"psysml:33b70aea-82ec-44f7-8a12-3ec54376cb03\" xlink:type=\"simple\"><path d=\"M314.56,87.19 C292.2,107.23 259.21,136.8 235.15,158.37 \" fill=\"none\" id=\"E5-&gt;E6\" style=\"stroke: #A80036; stroke-width: 1.0;\"/><polygon fill=\"#A80036\" points=\"228.92,163.95,236.8786,160.8419,232.8725,156.3752,228.92,163.95\" style=\"stroke: #A80036; stroke-width: 1.0;\"/><text fill=\"#000000\" font-family=\"sans-serif\" font-size=\"13\" lengthAdjust=\"spacingAndGlyphs\" textLength=\"73\" x=\"280.32\" y=\"130.0669\">«objective»</text></a><!--MD5=[452b418e7f8a40397a49b8c0a78acc5b]\n",
       "reverse link E5 to E7--><a href=\"psysml:9ca3a684-dbe3-4511-9e21-3cef746855e2\" target=\"_top\" title=\"psysml:9ca3a684-dbe3-4511-9e21-3cef746855e2\" xlink:actuate=\"onRequest\" xlink:href=\"psysml:9ca3a684-dbe3-4511-9e21-3cef746855e2\" xlink:show=\"new\" xlink:title=\"psysml:9ca3a684-dbe3-4511-9e21-3cef746855e2\" xlink:type=\"simple\"><path d=\"M362.14,97.88 C376.71,118.86 395.19,145.48 408.01,163.95 \" fill=\"none\" id=\"E5&lt;-E7\" style=\"stroke: #A80036; stroke-width: 1.0;\"/><polygon fill=\"#A80036\" points=\"354.73,87.19,354.864,94.3999,361.5708,97.0492,361.4368,89.8393,354.73,87.19\" style=\"stroke: #A80036; stroke-width: 1.0;\"/></a><!--MD5=[dc164f5e8a733ab456ef1add180e9e34]\n",
       "reverse link E7 to E8--><a href=\"psysml:8f87ba26-7a36-4a80-9ed1-e463a907c7c6\" target=\"_top\" title=\"psysml:8f87ba26-7a36-4a80-9ed1-e463a907c7c6\" xlink:actuate=\"onRequest\" xlink:href=\"psysml:8f87ba26-7a36-4a80-9ed1-e463a907c7c6\" xlink:show=\"new\" xlink:title=\"psysml:8f87ba26-7a36-4a80-9ed1-e463a907c7c6\" xlink:type=\"simple\"><path d=\"M352.67,208.29 C327.33,216.69 298.96,227.44 274.32,240 C231.96,261.6 187.65,294.33 160.26,315.93 \" fill=\"none\" id=\"E7&lt;-E8\" style=\"stroke: #A80036; stroke-width: 1.0;\"/><polygon fill=\"#FFFFFF\" points=\"365.22,204.24,358.2818,202.2749,353.7994,207.9236,360.7376,209.8887,365.22,204.24\" style=\"stroke: #A80036; stroke-width: 1.0;\"/><text fill=\"#000000\" font-family=\"sans-serif\" font-size=\"13\" lengthAdjust=\"spacingAndGlyphs\" textLength=\"8\" x=\"158.4251\" y=\"304.8075\">1</text></a><!--MD5=[f1f3f9f2fc535e6147756cb86a7f2e32]\n",
       "link E8 to E2--><a href=\"psysml:bdf7178e-b1d2-4aa0-b7b5-71013aa1f7a9\" target=\"_top\" title=\"psysml:bdf7178e-b1d2-4aa0-b7b5-71013aa1f7a9\" xlink:actuate=\"onRequest\" xlink:href=\"psysml:bdf7178e-b1d2-4aa0-b7b5-71013aa1f7a9\" xlink:show=\"new\" xlink:title=\"psysml:bdf7178e-b1d2-4aa0-b7b5-71013aa1f7a9\" xlink:type=\"simple\"><path d=\"M153.86,362.01 C166.19,375.22 182.2,392.38 196.46,407.65 \" fill=\"none\" id=\"E8-&gt;E2\" style=\"stroke: #A80036; stroke-width: 1.0;\"/><polygon fill=\"#FFFFFF\" points=\"210.47,422.66,192.3921,413.5393,202.6305,403.9907,210.47,422.66\" style=\"stroke: #A80036; stroke-width: 1.0;\"/><ellipse cx=\"189.9671\" cy=\"408.0067\" fill=\"#A80036\" rx=\"2\" ry=\"2\" style=\"stroke: #A80036; stroke-width: 1.0;\"/><ellipse cx=\"197.2802\" cy=\"401.1863\" fill=\"#A80036\" rx=\"2\" ry=\"2\" style=\"stroke: #A80036; stroke-width: 1.0;\"/></a><!--MD5=[9ae28de373ca99bb8a1b38d63370ca7e]\n",
       "reverse link E5 to E9--><a href=\"psysml:a1ab5fdf-7d24-4497-9ea2-3c4d95277eba\" target=\"_top\" title=\"psysml:a1ab5fdf-7d24-4497-9ea2-3c4d95277eba\" xlink:actuate=\"onRequest\" xlink:href=\"psysml:a1ab5fdf-7d24-4497-9ea2-3c4d95277eba\" xlink:show=\"new\" xlink:title=\"psysml:a1ab5fdf-7d24-4497-9ea2-3c4d95277eba\" xlink:type=\"simple\"><path d=\"M416.08,92.77 C447.78,108.48 481.27,131.61 499.32,164 C509.27,181.86 510.51,192.89 499.32,210 C490.86,222.92 478.41,232.65 464.71,239.97 \" fill=\"none\" id=\"E5&lt;-E9\" style=\"stroke: #A80036; stroke-width: 1.0;\"/><polygon fill=\"#FFFFFF\" points=\"404.06,87.11,407.7814,93.2867,414.9142,92.2272,411.1928,86.0505,404.06,87.11\" style=\"stroke: #A80036; stroke-width: 1.0;\"/><text fill=\"#000000\" font-family=\"sans-serif\" font-size=\"13\" lengthAdjust=\"spacingAndGlyphs\" textLength=\"8\" x=\"477.3099\" y=\"229.2386\">1</text></a><!--MD5=[5c3bb36fe832a92c7f0e1807dd65209d]\n",
       "link E9 to E2--><a href=\"psysml:9bedaae2-b2c6-4d70-8011-f34c154ea99f\" target=\"_top\" title=\"psysml:9bedaae2-b2c6-4d70-8011-f34c154ea99f\" xlink:actuate=\"onRequest\" xlink:href=\"psysml:9bedaae2-b2c6-4d70-8011-f34c154ea99f\" xlink:show=\"new\" xlink:title=\"psysml:9bedaae2-b2c6-4d70-8011-f34c154ea99f\" xlink:type=\"simple\"><path d=\"M291.19,285.15 C275.57,292.56 260.94,302.55 250.32,316 C231.17,340.25 227.04,375.32 227.36,402.77 \" fill=\"none\" id=\"E9-&gt;E2\" style=\"stroke: #A80036; stroke-width: 1.0;\"/><polygon fill=\"#FFFFFF\" points=\"228.36,422.81,220.4186,404.1838,234.4011,403.4837,228.36,422.81\" style=\"stroke: #A80036; stroke-width: 1.0;\"/><ellipse cx=\"222.131\" cy=\"398.3909\" fill=\"#A80036\" rx=\"2\" ry=\"2\" style=\"stroke: #A80036; stroke-width: 1.0;\"/><ellipse cx=\"232.1185\" cy=\"397.8909\" fill=\"#A80036\" rx=\"2\" ry=\"2\" style=\"stroke: #A80036; stroke-width: 1.0;\"/></a><!--MD5=[de9759ba927fa71ed84a412ffe703b06]\n",
       "@startuml\r\n",
       "skinparam wrapWidth 300\r\n",
       "hide circle\r\n",
       "\r\n",
       "package \"TradeStudyTest\" as E1  [[psysml:e59f1b4e-bf48-44e5-8b03-de7ba4c0da2b ]]  {\r\n",
       "comp def \"Engine\" as E2  <<(T,blue) part def>> [[psysml:8032ee8b-b45e-4aab-a334-ddc7f77ca09b ]] {\r\n",
       "}\r\n",
       "comp usage \"engine1: Engine\" as E3  <<(T,blue) part>> [[psysml:d1c59f8e-91b7-4873-9a7c-d548f1a74ff0 ]] {\r\n",
       "}\r\n",
       "comp usage \"engine2: Engine\" as E4  <<(T,blue) part>> [[psysml:b8b914f7-6e3e-418c-a7c7-b0f9195d6204 ]] {\r\n",
       "}\r\n",
       "comp usage \"engineTradeStudy: TradeStudy\" as E5 << analysis>> [[psysml:d010e11c-db6d-479b-b98e-aa7ac12f08dc ]] {\r\n",
       "}\r\n",
       "comp usage \"tradeStudyObjective: MaximizeObjective\" as E6  <<(T,blue) requirement>> [[psysml:baa50d6d-f728-4fdb-a3d8-0324d2e9c263 ]] {\r\n",
       "}\r\n",
       "comp usage \"objectiveFunction\" as E7  <<(T,blue) calculation>> [[psysml:c3bcbf7c-d2b8-4beb-b9e4-ef0b91eba9be ]] {\r\n",
       "}\r\n",
       "comp usage \"alternative: Engine\" as E8  <<(T,blue) part>> [[psysml:c18a795f-fd76-4ffb-a70d-e612388b917b ]] {\r\n",
       "}\r\n",
       "comp usage \"selectedAlternative: Engine\" as E9  <<(T,blue) part>> [[psysml:854815c3-8ae1-4c3d-a371-f12eec0f41ab ]] {\r\n",
       "}\r\n",
       "}\r\n",
       "E3 - -:|> E2 [[psysml:a477e10c-c644-4ab8-a0d7-73b747f4931b ]] \r\n",
       "E4 - -:|> E2 [[psysml:006a8138-edc7-4443-807d-fbbb291c6f87 ]] \r\n",
       "E5 ..> E2 [[psysml:0f7006cc-acd6-40d1-b198-a80e8f08765e ]] : <<subject>>\r\n",
       "E5 - ->> E6 [[psysml:33b70aea-82ec-44f7-8a12-3ec54376cb03 ]] : <<objective>>\r\n",
       "E5 *- - E7 [[psysml:9ca3a684-dbe3-4511-9e21-3cef746855e2 ]] \r\n",
       "E7 o- - \"1\"E8 [[psysml:8f87ba26-7a36-4a80-9ed1-e463a907c7c6 ]] \r\n",
       "E8 - -:|> E2 [[psysml:bdf7178e-b1d2-4aa0-b7b5-71013aa1f7a9 ]] \r\n",
       "E5 o- - \"1\"E9 [[psysml:a1ab5fdf-7d24-4497-9ea2-3c4d95277eba ]] \r\n",
       "E9 - -:|> E2 [[psysml:9bedaae2-b2c6-4d70-8011-f34c154ea99f ]] \r\n",
       "@enduml\r\n",
       "\n",
       "PlantUML version 1.2020.13(Sat Jun 13 12:26:38 UTC 2020)\n",
       "(EPL source distribution)\n",
       "Java Runtime: OpenJDK Runtime Environment\n",
       "JVM: OpenJDK 64-Bit Server VM\n",
       "Default Encoding: UTF-8\n",
       "Language: en\n",
       "Country: null\n",
       "--></g></svg>"
      ]
     },
     "execution_count": 23,
     "metadata": {},
     "output_type": "execute_result"
    }
   ],
   "source": [
    "%viz --style=\"STDCOLOR\" --view=\"Default\" \"TradeStudyTest\""
   ]
  },
  {
   "cell_type": "code",
   "execution_count": 24,
   "id": "a55b71f4",
   "metadata": {
    "execution": {
     "iopub.execute_input": "2021-09-27T07:19:35.771019Z",
     "iopub.status.busy": "2021-09-27T07:19:35.770763Z",
     "iopub.status.idle": "2021-09-27T07:19:35.808764Z",
     "shell.execute_reply": "2021-09-27T07:19:35.807550Z"
    }
   },
   "outputs": [
    {
     "data": {
      "image/svg+xml": [
       "<?xml version=\"1.0\" encoding=\"UTF-8\" standalone=\"no\"?><svg xmlns=\"http://www.w3.org/2000/svg\" xmlns:xlink=\"http://www.w3.org/1999/xlink\" contentScriptType=\"application/ecmascript\" contentStyleType=\"text/css\" height=\"345px\" preserveAspectRatio=\"none\" style=\"width:955px;height:345px;\" version=\"1.1\" viewBox=\"0 0 955 345\" width=\"955px\" zoomAndPan=\"magnify\"><defs><filter height=\"300%\" id=\"f1w6ky1hms0q8l\" width=\"300%\" x=\"-1\" y=\"-1\"><feGaussianBlur result=\"blurOut\" stdDeviation=\"2.0\"/><feColorMatrix in=\"blurOut\" result=\"blurOut2\" type=\"matrix\" values=\"0 0 0 0 0 0 0 0 0 0 0 0 0 0 0 0 0 0 .4 0\"/><feOffset dx=\"4.0\" dy=\"4.0\" in=\"blurOut2\" result=\"blurOut3\"/><feBlend in=\"SourceGraphic\" in2=\"blurOut3\" mode=\"normal\"/></filter></defs><g><!--MD5=[fbc87193dbaf4d95561dea2c320d4a47]\n",
       "cluster E1--><a href=\"psysml:e59f1b4e-bf48-44e5-8b03-de7ba4c0da2b\" target=\"_top\" title=\"psysml:e59f1b4e-bf48-44e5-8b03-de7ba4c0da2b\" xlink:actuate=\"onRequest\" xlink:href=\"psysml:e59f1b4e-bf48-44e5-8b03-de7ba4c0da2b\" xlink:show=\"new\" xlink:title=\"psysml:e59f1b4e-bf48-44e5-8b03-de7ba4c0da2b\" xlink:type=\"simple\"><polygon fill=\"#FFFFFF\" filter=\"url(#f1w6ky1hms0q8l)\" points=\"16,6,132,6,139,28.2969,933,28.2969,933,333,16,333,16,6\" style=\"stroke: #000000; stroke-width: 1.5;\"/><line style=\"stroke: #000000; stroke-width: 1.5;\" x1=\"16\" x2=\"139\" y1=\"28.2969\" y2=\"28.2969\"/><text fill=\"#000000\" font-family=\"sans-serif\" font-size=\"14\" font-weight=\"bold\" lengthAdjust=\"spacingAndGlyphs\" textLength=\"110\" x=\"20\" y=\"20.9951\">TradeStudyTest</text></a><!--MD5=[b4997ac47864f28c2f74865a473b2911]\n",
       "class E2--><a href=\"psysml:8032ee8b-b45e-4aab-a334-ddc7f77ca09b\" target=\"_top\" title=\"psysml:8032ee8b-b45e-4aab-a334-ddc7f77ca09b\" xlink:actuate=\"onRequest\" xlink:href=\"psysml:8032ee8b-b45e-4aab-a334-ddc7f77ca09b\" xlink:show=\"new\" xlink:title=\"psysml:8032ee8b-b45e-4aab-a334-ddc7f77ca09b\" xlink:type=\"simple\"><rect fill=\"#FEFECE\" filter=\"url(#f1w6ky1hms0q8l)\" height=\"45.9375\" id=\"E2\" style=\"stroke: #A80036; stroke-width: 1.5;\" width=\"66\" x=\"598\" y=\"271\"/><text fill=\"#000000\" font-family=\"sans-serif\" font-size=\"12\" font-style=\"italic\" lengthAdjust=\"spacingAndGlyphs\" textLength=\"64\" x=\"599\" y=\"287.1387\">«part def»</text><text fill=\"#000000\" font-family=\"sans-serif\" font-size=\"12\" lengthAdjust=\"spacingAndGlyphs\" textLength=\"43\" x=\"609.5\" y=\"301.1074\">Engine</text><line style=\"stroke: #A80036; stroke-width: 1.5;\" x1=\"599\" x2=\"663\" y1=\"308.9375\" y2=\"308.9375\"/></a><!--MD5=[09b614a08d8cba4a07c9adeb5e0fee81]\n",
       "class E3--><a href=\"psysml:d1c59f8e-91b7-4873-9a7c-d548f1a74ff0\" target=\"_top\" title=\"psysml:d1c59f8e-91b7-4873-9a7c-d548f1a74ff0\" xlink:actuate=\"onRequest\" xlink:href=\"psysml:d1c59f8e-91b7-4873-9a7c-d548f1a74ff0\" xlink:show=\"new\" xlink:title=\"psysml:d1c59f8e-91b7-4873-9a7c-d548f1a74ff0\" xlink:type=\"simple\"><rect fill=\"#FEFECE\" filter=\"url(#f1w6ky1hms0q8l)\" height=\"45.9375\" id=\"E3\" rx=\"10\" ry=\"10\" style=\"stroke: #A80036; stroke-width: 1.5;\" width=\"108\" x=\"809\" y=\"164\"/><text fill=\"#000000\" font-family=\"sans-serif\" font-size=\"12\" font-style=\"italic\" lengthAdjust=\"spacingAndGlyphs\" textLength=\"40\" x=\"843\" y=\"180.1387\">«part»</text><text fill=\"#000000\" font-family=\"sans-serif\" font-size=\"12\" lengthAdjust=\"spacingAndGlyphs\" textLength=\"102\" x=\"812\" y=\"194.1074\">engine1: Engine</text><line style=\"stroke: #A80036; stroke-width: 1.5;\" x1=\"810\" x2=\"916\" y1=\"201.9375\" y2=\"201.9375\"/></a><!--MD5=[ebbe1d658d1005bcc118a6aa81145e00]\n",
       "class E4--><a href=\"psysml:b8b914f7-6e3e-418c-a7c7-b0f9195d6204\" target=\"_top\" title=\"psysml:b8b914f7-6e3e-418c-a7c7-b0f9195d6204\" xlink:actuate=\"onRequest\" xlink:href=\"psysml:b8b914f7-6e3e-418c-a7c7-b0f9195d6204\" xlink:show=\"new\" xlink:title=\"psysml:b8b914f7-6e3e-418c-a7c7-b0f9195d6204\" xlink:type=\"simple\"><rect fill=\"#FEFECE\" filter=\"url(#f1w6ky1hms0q8l)\" height=\"45.9375\" id=\"E4\" rx=\"10\" ry=\"10\" style=\"stroke: #A80036; stroke-width: 1.5;\" width=\"108\" x=\"666\" y=\"164\"/><text fill=\"#000000\" font-family=\"sans-serif\" font-size=\"12\" font-style=\"italic\" lengthAdjust=\"spacingAndGlyphs\" textLength=\"40\" x=\"700\" y=\"180.1387\">«part»</text><text fill=\"#000000\" font-family=\"sans-serif\" font-size=\"12\" lengthAdjust=\"spacingAndGlyphs\" textLength=\"102\" x=\"669\" y=\"194.1074\">engine2: Engine</text><line style=\"stroke: #A80036; stroke-width: 1.5;\" x1=\"667\" x2=\"773\" y1=\"201.9375\" y2=\"201.9375\"/></a><!--MD5=[270fce915f116d4de14055a7c1d9a0f3]\n",
       "class E5--><a href=\"psysml:d010e11c-db6d-479b-b98e-aa7ac12f08dc\" target=\"_top\" title=\"psysml:d010e11c-db6d-479b-b98e-aa7ac12f08dc\" xlink:actuate=\"onRequest\" xlink:href=\"psysml:d010e11c-db6d-479b-b98e-aa7ac12f08dc\" xlink:show=\"new\" xlink:title=\"psysml:d010e11c-db6d-479b-b98e-aa7ac12f08dc\" xlink:type=\"simple\"><rect fill=\"#FEFECE\" filter=\"url(#f1w6ky1hms0q8l)\" height=\"45.9375\" id=\"E5\" rx=\"10\" ry=\"10\" style=\"stroke: #A80036; stroke-width: 1.5;\" width=\"199\" x=\"192.5\" y=\"41\"/><text fill=\"#000000\" font-family=\"sans-serif\" font-size=\"12\" font-style=\"italic\" lengthAdjust=\"spacingAndGlyphs\" textLength=\"64\" x=\"260\" y=\"57.1387\">«analysis»</text><text fill=\"#000000\" font-family=\"sans-serif\" font-size=\"12\" lengthAdjust=\"spacingAndGlyphs\" textLength=\"193\" x=\"195.5\" y=\"71.1074\">engineTradeStudy: TradeStudy</text><line style=\"stroke: #A80036; stroke-width: 1.5;\" x1=\"193.5\" x2=\"390.5\" y1=\"78.9375\" y2=\"78.9375\"/></a><!--MD5=[60a26617385b1d2d0262a64233df1f8d]\n",
       "class E6--><a href=\"psysml:baa50d6d-f728-4fdb-a3d8-0324d2e9c263\" target=\"_top\" title=\"psysml:baa50d6d-f728-4fdb-a3d8-0324d2e9c263\" xlink:actuate=\"onRequest\" xlink:href=\"psysml:baa50d6d-f728-4fdb-a3d8-0324d2e9c263\" xlink:show=\"new\" xlink:title=\"psysml:baa50d6d-f728-4fdb-a3d8-0324d2e9c263\" xlink:type=\"simple\"><rect fill=\"#FEFECE\" filter=\"url(#f1w6ky1hms0q8l)\" height=\"45.9375\" id=\"E6\" rx=\"10\" ry=\"10\" style=\"stroke: #A80036; stroke-width: 1.5;\" width=\"251\" x=\"166.5\" y=\"164\"/><text fill=\"#000000\" font-family=\"sans-serif\" font-size=\"12\" font-style=\"italic\" lengthAdjust=\"spacingAndGlyphs\" textLength=\"91\" x=\"246.5\" y=\"180.1387\">«requirement»</text><text fill=\"#000000\" font-family=\"sans-serif\" font-size=\"12\" lengthAdjust=\"spacingAndGlyphs\" textLength=\"245\" x=\"169.5\" y=\"194.1074\">tradeStudyObjective: MaximizeObjective</text><line style=\"stroke: #A80036; stroke-width: 1.5;\" x1=\"167.5\" x2=\"416.5\" y1=\"201.9375\" y2=\"201.9375\"/></a><!--MD5=[2156ba9850f5573cc1fc38a6a4b2f02b]\n",
       "class E7--><a href=\"psysml:854815c3-8ae1-4c3d-a371-f12eec0f41ab\" target=\"_top\" title=\"psysml:854815c3-8ae1-4c3d-a371-f12eec0f41ab\" xlink:actuate=\"onRequest\" xlink:href=\"psysml:854815c3-8ae1-4c3d-a371-f12eec0f41ab\" xlink:show=\"new\" xlink:title=\"psysml:854815c3-8ae1-4c3d-a371-f12eec0f41ab\" xlink:type=\"simple\"><rect fill=\"#FEFECE\" filter=\"url(#f1w6ky1hms0q8l)\" height=\"45.9375\" id=\"E7\" rx=\"10\" ry=\"10\" style=\"stroke: #A80036; stroke-width: 1.5;\" width=\"178\" x=\"453\" y=\"164\"/><text fill=\"#000000\" font-family=\"sans-serif\" font-size=\"12\" font-style=\"italic\" lengthAdjust=\"spacingAndGlyphs\" textLength=\"40\" x=\"522\" y=\"180.1387\">«part»</text><text fill=\"#000000\" font-family=\"sans-serif\" font-size=\"12\" lengthAdjust=\"spacingAndGlyphs\" textLength=\"172\" x=\"456\" y=\"194.1074\">selectedAlternative: Engine</text><line style=\"stroke: #A80036; stroke-width: 1.5;\" x1=\"454\" x2=\"630\" y1=\"201.9375\" y2=\"201.9375\"/></a><!--MD5=[05d275557350bfb9b23a4ef7222b4c39]\n",
       "link E3 to E2--><a href=\"psysml:a477e10c-c644-4ab8-a0d7-73b747f4931b\" target=\"_top\" title=\"psysml:a477e10c-c644-4ab8-a0d7-73b747f4931b\" xlink:actuate=\"onRequest\" xlink:href=\"psysml:a477e10c-c644-4ab8-a0d7-73b747f4931b\" xlink:show=\"new\" xlink:title=\"psysml:a477e10c-c644-4ab8-a0d7-73b747f4931b\" xlink:type=\"simple\"><path d=\"M814.37,210.01 C775.74,227.49 721.88,251.87 682.52,269.68 \" fill=\"none\" id=\"E3-&gt;E2\" style=\"stroke: #A80036; stroke-width: 1.0;\"/><polygon fill=\"#FFFFFF\" points=\"664.23,277.96,678.6446,263.7397,684.4251,276.4906,664.23,277.96\" style=\"stroke: #A80036; stroke-width: 1.0;\"/><ellipse cx=\"684.6619\" cy=\"263.2078\" fill=\"#A80036\" rx=\"2\" ry=\"2\" style=\"stroke: #A80036; stroke-width: 1.0;\"/><ellipse cx=\"688.7908\" cy=\"272.3156\" fill=\"#A80036\" rx=\"2\" ry=\"2\" style=\"stroke: #A80036; stroke-width: 1.0;\"/></a><!--MD5=[185131fc0dcab0a4505a2ebe144e961b]\n",
       "link E4 to E2--><a href=\"psysml:006a8138-edc7-4443-807d-fbbb291c6f87\" target=\"_top\" title=\"psysml:006a8138-edc7-4443-807d-fbbb291c6f87\" xlink:actuate=\"onRequest\" xlink:href=\"psysml:006a8138-edc7-4443-807d-fbbb291c6f87\" xlink:show=\"new\" xlink:title=\"psysml:006a8138-edc7-4443-807d-fbbb291c6f87\" xlink:type=\"simple\"><path d=\"M701.34,210.01 C690.26,223.08 675.91,240.01 663.06,255.17 \" fill=\"none\" id=\"E4-&gt;E2\" style=\"stroke: #A80036; stroke-width: 1.0;\"/><polygon fill=\"#FFFFFF\" points=\"649.94,270.66,656.8931,251.6428,667.5691,260.6994,649.94,270.66\" style=\"stroke: #A80036; stroke-width: 1.0;\"/><ellipse cx=\"662.1056\" cy=\"248.5899\" fill=\"#A80036\" rx=\"2\" ry=\"2\" style=\"stroke: #A80036; stroke-width: 1.0;\"/><ellipse cx=\"669.7313\" cy=\"255.059\" fill=\"#A80036\" rx=\"2\" ry=\"2\" style=\"stroke: #A80036; stroke-width: 1.0;\"/></a><!--MD5=[15ebcb19ae302d9b601edb458606d402]\n",
       "link E5 to E2--><a href=\"psysml:0f7006cc-acd6-40d1-b198-a80e8f08765e\" target=\"_top\" title=\"psysml:0f7006cc-acd6-40d1-b198-a80e8f08765e\" xlink:actuate=\"onRequest\" xlink:href=\"psysml:0f7006cc-acd6-40d1-b198-a80e8f08765e\" xlink:show=\"new\" xlink:title=\"psysml:0f7006cc-acd6-40d1-b198-a80e8f08765e\" xlink:type=\"simple\"><path d=\"M211.44,87.03 C135.05,111.81 38.38,155.76 85,210 C150.98,286.77 479.56,293.36 592.67,293.32 \" fill=\"none\" id=\"E5-&gt;E2\" style=\"stroke: #A80036; stroke-width: 1.0; stroke-dasharray: 7.0,7.0;\"/><polygon fill=\"#A80036\" points=\"597.89,293.31,588.89,289.31,592.89,293.31,588.89,297.31,597.89,293.31\" style=\"stroke: #A80036; stroke-width: 1.0;\"/><text fill=\"#000000\" font-family=\"sans-serif\" font-size=\"13\" lengthAdjust=\"spacingAndGlyphs\" textLength=\"62\" x=\"86\" y=\"191.5669\">«subject»</text></a><!--MD5=[9120cf2e5df3bff93db8f754bbbc09b4]\n",
       "link E5 to E6--><a href=\"psysml:33b70aea-82ec-44f7-8a12-3ec54376cb03\" target=\"_top\" title=\"psysml:33b70aea-82ec-44f7-8a12-3ec54376cb03\" xlink:actuate=\"onRequest\" xlink:href=\"psysml:33b70aea-82ec-44f7-8a12-3ec54376cb03\" xlink:show=\"new\" xlink:title=\"psysml:33b70aea-82ec-44f7-8a12-3ec54376cb03\" xlink:type=\"simple\"><path d=\"M292,87.19 C292,106.47 292,134.55 292,155.86 \" fill=\"none\" id=\"E5-&gt;E6\" style=\"stroke: #A80036; stroke-width: 1.0;\"/><polygon fill=\"#A80036\" points=\"292,163.95,295,155.95,289,155.95,292,163.95\" style=\"stroke: #A80036; stroke-width: 1.0;\"/><text fill=\"#000000\" font-family=\"sans-serif\" font-size=\"13\" lengthAdjust=\"spacingAndGlyphs\" textLength=\"73\" x=\"293\" y=\"130.0669\">«objective»</text></a><!--MD5=[452b418e7f8a40397a49b8c0a78acc5b]\n",
       "reverse link E5 to E7--><a href=\"psysml:a1ab5fdf-7d24-4497-9ea2-3c4d95277eba\" target=\"_top\" title=\"psysml:a1ab5fdf-7d24-4497-9ea2-3c4d95277eba\" xlink:actuate=\"onRequest\" xlink:href=\"psysml:a1ab5fdf-7d24-4497-9ea2-3c4d95277eba\" xlink:show=\"new\" xlink:title=\"psysml:a1ab5fdf-7d24-4497-9ea2-3c4d95277eba\" xlink:type=\"simple\"><path d=\"M349.39,92.78 C393.99,114.36 455.01,143.9 496.33,163.89 \" fill=\"none\" id=\"E5&lt;-E7\" style=\"stroke: #A80036; stroke-width: 1.0;\"/><polygon fill=\"#FFFFFF\" points=\"337.56,87.05,341.2143,93.2666,348.3582,92.2843,344.7039,86.0677,337.56,87.05\" style=\"stroke: #A80036; stroke-width: 1.0;\"/><text fill=\"#000000\" font-family=\"sans-serif\" font-size=\"13\" lengthAdjust=\"spacingAndGlyphs\" textLength=\"8\" x=\"474.9812\" y=\"152.7567\">1</text></a><!--MD5=[583832df87f4419a098336a29a52fa00]\n",
       "link E7 to E2--><a href=\"psysml:9bedaae2-b2c6-4d70-8011-f34c154ea99f\" target=\"_top\" title=\"psysml:9bedaae2-b2c6-4d70-8011-f34c154ea99f\" xlink:actuate=\"onRequest\" xlink:href=\"psysml:9bedaae2-b2c6-4d70-8011-f34c154ea99f\" xlink:show=\"new\" xlink:title=\"psysml:9bedaae2-b2c6-4d70-8011-f34c154ea99f\" xlink:type=\"simple\"><path d=\"M560.66,210.01 C571.74,223.08 586.09,240.01 598.94,255.17 \" fill=\"none\" id=\"E7-&gt;E2\" style=\"stroke: #A80036; stroke-width: 1.0;\"/><polygon fill=\"#FFFFFF\" points=\"612.06,270.66,594.4309,260.6994,605.1069,251.6428,612.06,270.66\" style=\"stroke: #A80036; stroke-width: 1.0;\"/><ellipse cx=\"592.2687\" cy=\"255.059\" fill=\"#A80036\" rx=\"2\" ry=\"2\" style=\"stroke: #A80036; stroke-width: 1.0;\"/><ellipse cx=\"599.8944\" cy=\"248.5899\" fill=\"#A80036\" rx=\"2\" ry=\"2\" style=\"stroke: #A80036; stroke-width: 1.0;\"/></a><!--MD5=[5f573e9f4f34c31dee2924c1a821eaa8]\n",
       "@startuml\r\n",
       "skinparam wrapWidth 300\r\n",
       "hide circle\r\n",
       "\r\n",
       "package \"TradeStudyTest\" as E1  [[psysml:e59f1b4e-bf48-44e5-8b03-de7ba4c0da2b ]]  {\r\n",
       "comp def \"Engine\" as E2  <<(T,blue) part def>> [[psysml:8032ee8b-b45e-4aab-a334-ddc7f77ca09b ]] {\r\n",
       "}\r\n",
       "comp usage \"engine1: Engine\" as E3  <<(T,blue) part>> [[psysml:d1c59f8e-91b7-4873-9a7c-d548f1a74ff0 ]] {\r\n",
       "}\r\n",
       "comp usage \"engine2: Engine\" as E4  <<(T,blue) part>> [[psysml:b8b914f7-6e3e-418c-a7c7-b0f9195d6204 ]] {\r\n",
       "}\r\n",
       "comp usage \"engineTradeStudy: TradeStudy\" as E5 << analysis>> [[psysml:d010e11c-db6d-479b-b98e-aa7ac12f08dc ]] {\r\n",
       "}\r\n",
       "comp usage \"tradeStudyObjective: MaximizeObjective\" as E6  <<(T,blue) requirement>> [[psysml:baa50d6d-f728-4fdb-a3d8-0324d2e9c263 ]] {\r\n",
       "}\r\n",
       "comp usage \"selectedAlternative: Engine\" as E7  <<(T,blue) part>> [[psysml:854815c3-8ae1-4c3d-a371-f12eec0f41ab ]] {\r\n",
       "}\r\n",
       "}\r\n",
       "E3 - -:|> E2 [[psysml:a477e10c-c644-4ab8-a0d7-73b747f4931b ]] \r\n",
       "E4 - -:|> E2 [[psysml:006a8138-edc7-4443-807d-fbbb291c6f87 ]] \r\n",
       "E5 ..> E2 [[psysml:0f7006cc-acd6-40d1-b198-a80e8f08765e ]] : <<subject>>\r\n",
       "E5 - ->> E6 [[psysml:33b70aea-82ec-44f7-8a12-3ec54376cb03 ]] : <<objective>>\r\n",
       "E5 o- - \"1\"E7 [[psysml:a1ab5fdf-7d24-4497-9ea2-3c4d95277eba ]] \r\n",
       "E7 - -:|> E2 [[psysml:9bedaae2-b2c6-4d70-8011-f34c154ea99f ]] \r\n",
       "@enduml\r\n",
       "\n",
       "PlantUML version 1.2020.13(Sat Jun 13 12:26:38 UTC 2020)\n",
       "(EPL source distribution)\n",
       "Java Runtime: OpenJDK Runtime Environment\n",
       "JVM: OpenJDK 64-Bit Server VM\n",
       "Default Encoding: UTF-8\n",
       "Language: en\n",
       "Country: null\n",
       "--></g></svg>"
      ]
     },
     "execution_count": 24,
     "metadata": {},
     "output_type": "execute_result"
    }
   ],
   "source": [
    "%viz --style=\"STDCOLOR\" --view=\"Tree\" \"TradeStudyTest\""
   ]
  },
  {
   "cell_type": "code",
   "execution_count": 25,
   "id": "8c44d3c7",
   "metadata": {
    "execution": {
     "iopub.execute_input": "2021-09-27T07:19:35.858365Z",
     "iopub.status.busy": "2021-09-27T07:19:35.858034Z",
     "iopub.status.idle": "2021-09-27T07:19:35.862232Z",
     "shell.execute_reply": "2021-09-27T07:19:35.862532Z"
    }
   },
   "outputs": [
    {
     "data": {
      "image/svg+xml": [
       "<?xml version=\"1.0\" encoding=\"UTF-8\" standalone=\"no\"?><svg xmlns=\"http://www.w3.org/2000/svg\" xmlns:xlink=\"http://www.w3.org/1999/xlink\" contentScriptType=\"application/ecmascript\" contentStyleType=\"text/css\" height=\"12px\" preserveAspectRatio=\"none\" style=\"width:12px;height:12px;\" version=\"1.1\" viewBox=\"0 0 12 12\" width=\"12px\" zoomAndPan=\"magnify\"><defs/><g><!--MD5=[aeeef50f102b80d730deb6443d14f702]\n",
       "@startuml\r\n",
       "skinparam wrapWidth 300\r\n",
       "hide circle\r\n",
       "\r\n",
       "@enduml\r\n",
       "\n",
       "PlantUML version 1.2020.13(Sat Jun 13 12:26:38 UTC 2020)\n",
       "(EPL source distribution)\n",
       "Java Runtime: OpenJDK Runtime Environment\n",
       "JVM: OpenJDK 64-Bit Server VM\n",
       "Default Encoding: UTF-8\n",
       "Language: en\n",
       "Country: null\n",
       "--></g></svg>"
      ]
     },
     "execution_count": 25,
     "metadata": {},
     "output_type": "execute_result"
    }
   ],
   "source": [
    "%viz --style=\"STDCOLOR\" --view=\"State\" \"TradeStudyTest\""
   ]
  },
  {
   "cell_type": "code",
   "execution_count": 26,
   "id": "098397ad",
   "metadata": {
    "execution": {
     "iopub.execute_input": "2021-09-27T07:19:35.912952Z",
     "iopub.status.busy": "2021-09-27T07:19:35.912574Z",
     "iopub.status.idle": "2021-09-27T07:19:35.947666Z",
     "shell.execute_reply": "2021-09-27T07:19:35.947474Z"
    }
   },
   "outputs": [
    {
     "data": {
      "image/svg+xml": [
       "<?xml version=\"1.0\" encoding=\"UTF-8\" standalone=\"no\"?><svg xmlns=\"http://www.w3.org/2000/svg\" xmlns:xlink=\"http://www.w3.org/1999/xlink\" contentScriptType=\"application/ecmascript\" contentStyleType=\"text/css\" height=\"334px\" preserveAspectRatio=\"none\" style=\"width:566px;height:334px;\" version=\"1.1\" viewBox=\"0 0 566 334\" width=\"566px\" zoomAndPan=\"magnify\"><defs><filter height=\"300%\" id=\"f1uqb24s5f5nw6\" width=\"300%\" x=\"-1\" y=\"-1\"><feGaussianBlur result=\"blurOut\" stdDeviation=\"2.0\"/><feColorMatrix in=\"blurOut\" result=\"blurOut2\" type=\"matrix\" values=\"0 0 0 0 0 0 0 0 0 0 0 0 0 0 0 0 0 0 .4 0\"/><feOffset dx=\"4.0\" dy=\"4.0\" in=\"blurOut2\" result=\"blurOut3\"/><feBlend in=\"SourceGraphic\" in2=\"blurOut3\" mode=\"normal\"/></filter></defs><g><!--MD5=[fbc87193dbaf4d95561dea2c320d4a47]\n",
       "cluster E1--><a href=\"psysml:e59f1b4e-bf48-44e5-8b03-de7ba4c0da2b\" target=\"_top\" title=\"psysml:e59f1b4e-bf48-44e5-8b03-de7ba4c0da2b\" xlink:actuate=\"onRequest\" xlink:href=\"psysml:e59f1b4e-bf48-44e5-8b03-de7ba4c0da2b\" xlink:show=\"new\" xlink:title=\"psysml:e59f1b4e-bf48-44e5-8b03-de7ba4c0da2b\" xlink:type=\"simple\"><polygon fill=\"#FFFFFF\" filter=\"url(#f1uqb24s5f5nw6)\" points=\"16,6,132,6,139,28.2969,544,28.2969,544,322,16,322,16,6\" style=\"stroke: #000000; stroke-width: 1.5;\"/><line style=\"stroke: #000000; stroke-width: 1.5;\" x1=\"16\" x2=\"139\" y1=\"28.2969\" y2=\"28.2969\"/><text fill=\"#000000\" font-family=\"sans-serif\" font-size=\"14\" font-weight=\"bold\" lengthAdjust=\"spacingAndGlyphs\" textLength=\"110\" x=\"20\" y=\"20.9951\">TradeStudyTest</text></a><!--MD5=[270fce915f116d4de14055a7c1d9a0f3]\n",
       "class E5--><a href=\"psysml:d010e11c-db6d-479b-b98e-aa7ac12f08dc\" target=\"_top\" title=\"psysml:d010e11c-db6d-479b-b98e-aa7ac12f08dc\" xlink:actuate=\"onRequest\" xlink:href=\"psysml:d010e11c-db6d-479b-b98e-aa7ac12f08dc\" xlink:show=\"new\" xlink:title=\"psysml:d010e11c-db6d-479b-b98e-aa7ac12f08dc\" xlink:type=\"simple\"><rect fill=\"#FEFECE\" filter=\"url(#f1uqb24s5f5nw6)\" height=\"45.9375\" id=\"E5\" rx=\"10\" ry=\"10\" style=\"stroke: #A80036; stroke-width: 1.5;\" width=\"199\" x=\"328.5\" y=\"41\"/><text fill=\"#000000\" font-family=\"sans-serif\" font-size=\"12\" font-style=\"italic\" lengthAdjust=\"spacingAndGlyphs\" textLength=\"64\" x=\"396\" y=\"57.1387\">«analysis»</text><text fill=\"#000000\" font-family=\"sans-serif\" font-size=\"12\" lengthAdjust=\"spacingAndGlyphs\" textLength=\"193\" x=\"331.5\" y=\"71.1074\">engineTradeStudy: TradeStudy</text><line style=\"stroke: #A80036; stroke-width: 1.5;\" x1=\"329.5\" x2=\"526.5\" y1=\"78.9375\" y2=\"78.9375\"/></a><!--MD5=[60a26617385b1d2d0262a64233df1f8d]\n",
       "class E6--><a href=\"psysml:baa50d6d-f728-4fdb-a3d8-0324d2e9c263\" target=\"_top\" title=\"psysml:baa50d6d-f728-4fdb-a3d8-0324d2e9c263\" xlink:actuate=\"onRequest\" xlink:href=\"psysml:baa50d6d-f728-4fdb-a3d8-0324d2e9c263\" xlink:show=\"new\" xlink:title=\"psysml:baa50d6d-f728-4fdb-a3d8-0324d2e9c263\" xlink:type=\"simple\"><rect fill=\"#FEFECE\" filter=\"url(#f1uqb24s5f5nw6)\" height=\"45.9375\" id=\"E6\" rx=\"10\" ry=\"10\" style=\"stroke: #A80036; stroke-width: 1.5;\" width=\"251\" x=\"32.5\" y=\"120\"/><text fill=\"#000000\" font-family=\"sans-serif\" font-size=\"12\" font-style=\"italic\" lengthAdjust=\"spacingAndGlyphs\" textLength=\"91\" x=\"112.5\" y=\"136.1387\">«requirement»</text><text fill=\"#000000\" font-family=\"sans-serif\" font-size=\"12\" lengthAdjust=\"spacingAndGlyphs\" textLength=\"245\" x=\"35.5\" y=\"150.1074\">tradeStudyObjective: MaximizeObjective</text><line style=\"stroke: #A80036; stroke-width: 1.5;\" x1=\"33.5\" x2=\"282.5\" y1=\"157.9375\" y2=\"157.9375\"/></a><!--MD5=[2156ba9850f5573cc1fc38a6a4b2f02b]\n",
       "class E7--><a href=\"psysml:c3bcbf7c-d2b8-4beb-b9e4-ef0b91eba9be\" target=\"_top\" title=\"psysml:c3bcbf7c-d2b8-4beb-b9e4-ef0b91eba9be\" xlink:actuate=\"onRequest\" xlink:href=\"psysml:c3bcbf7c-d2b8-4beb-b9e4-ef0b91eba9be\" xlink:show=\"new\" xlink:title=\"psysml:c3bcbf7c-d2b8-4beb-b9e4-ef0b91eba9be\" xlink:type=\"simple\"><rect fill=\"#FEFECE\" filter=\"url(#f1uqb24s5f5nw6)\" height=\"45.9375\" id=\"E7\" rx=\"10\" ry=\"10\" style=\"stroke: #A80036; stroke-width: 1.5;\" width=\"116\" x=\"319\" y=\"120\"/><text fill=\"#000000\" font-family=\"sans-serif\" font-size=\"12\" font-style=\"italic\" lengthAdjust=\"spacingAndGlyphs\" textLength=\"82\" x=\"336\" y=\"136.1387\">«calculation»</text><text fill=\"#000000\" font-family=\"sans-serif\" font-size=\"12\" lengthAdjust=\"spacingAndGlyphs\" textLength=\"110\" x=\"322\" y=\"150.1074\">objectiveFunction</text><line style=\"stroke: #A80036; stroke-width: 1.5;\" x1=\"320\" x2=\"434\" y1=\"157.9375\" y2=\"157.9375\"/></a><!--MD5=[b9389687b975829384b498ac4b7476b2]\n",
       "class E8--><a href=\"psysml:c18a795f-fd76-4ffb-a70d-e612388b917b\" target=\"_top\" title=\"psysml:c18a795f-fd76-4ffb-a70d-e612388b917b\" xlink:actuate=\"onRequest\" xlink:href=\"psysml:c18a795f-fd76-4ffb-a70d-e612388b917b\" xlink:show=\"new\" xlink:title=\"psysml:c18a795f-fd76-4ffb-a70d-e612388b917b\" xlink:type=\"simple\"><rect fill=\"#FEFECE\" filter=\"url(#f1uqb24s5f5nw6)\" height=\"31.9688\" id=\"E8\" rx=\"10\" ry=\"10\" style=\"stroke: #A80036; stroke-width: 1.5;\" width=\"124\" x=\"178\" y=\"214\"/><text fill=\"#000000\" font-family=\"sans-serif\" font-size=\"12\" lengthAdjust=\"spacingAndGlyphs\" textLength=\"118\" x=\"181\" y=\"230.1387\">alternative: Engine</text><line style=\"stroke: #A80036; stroke-width: 1.5;\" x1=\"179\" x2=\"301\" y1=\"237.9688\" y2=\"237.9688\"/></a><!--MD5=[fd4143e9d270a159db93a4ea2a975926]\n",
       "class E9--><a href=\"psysml:854815c3-8ae1-4c3d-a371-f12eec0f41ab\" target=\"_top\" title=\"psysml:854815c3-8ae1-4c3d-a371-f12eec0f41ab\" xlink:actuate=\"onRequest\" xlink:href=\"psysml:854815c3-8ae1-4c3d-a371-f12eec0f41ab\" xlink:show=\"new\" xlink:title=\"psysml:854815c3-8ae1-4c3d-a371-f12eec0f41ab\" xlink:type=\"simple\"><rect fill=\"#FEFECE\" filter=\"url(#f1uqb24s5f5nw6)\" height=\"31.9688\" id=\"E9\" rx=\"10\" ry=\"10\" style=\"stroke: #A80036; stroke-width: 1.5;\" width=\"178\" x=\"246\" y=\"174\"/><text fill=\"#000000\" font-family=\"sans-serif\" font-size=\"12\" lengthAdjust=\"spacingAndGlyphs\" textLength=\"172\" x=\"249\" y=\"190.1387\">selectedAlternative: Engine</text><line style=\"stroke: #A80036; stroke-width: 1.5;\" x1=\"247\" x2=\"423\" y1=\"197.9688\" y2=\"197.9688\"/></a><g id=\"E1.E2\"><a href=\"psysml:8032ee8b-b45e-4aab-a334-ddc7f77ca09b\" target=\"_top\" title=\"psysml:8032ee8b-b45e-4aab-a334-ddc7f77ca09b\" xlink:actuate=\"onRequest\" xlink:href=\"psysml:8032ee8b-b45e-4aab-a334-ddc7f77ca09b\" xlink:show=\"new\" xlink:title=\"psysml:8032ee8b-b45e-4aab-a334-ddc7f77ca09b\" xlink:type=\"simple\"><rect fill=\"#FEFECE\" filter=\"url(#f1uqb24s5f5nw6)\" height=\"42.9375\" id=\"E2\" style=\"stroke: #A80036; stroke-width: 1.5;\" width=\"71\" x=\"302.5\" y=\"263\"/><text fill=\"#000000\" font-family=\"sans-serif\" font-size=\"12\" font-style=\"italic\" lengthAdjust=\"spacingAndGlyphs\" textLength=\"64\" x=\"306\" y=\"279.1387\">«part def»</text><text fill=\"#000000\" font-family=\"sans-serif\" font-size=\"12\" lengthAdjust=\"spacingAndGlyphs\" textLength=\"43\" x=\"316.5\" y=\"293.1074\">Engine</text></a></g><g id=\"E1.E3\"><a href=\"psysml:d1c59f8e-91b7-4873-9a7c-d548f1a74ff0\" target=\"_top\" title=\"psysml:d1c59f8e-91b7-4873-9a7c-d548f1a74ff0\" xlink:actuate=\"onRequest\" xlink:href=\"psysml:d1c59f8e-91b7-4873-9a7c-d548f1a74ff0\" xlink:show=\"new\" xlink:title=\"psysml:d1c59f8e-91b7-4873-9a7c-d548f1a74ff0\" xlink:type=\"simple\"><rect fill=\"#FEFECE\" filter=\"url(#f1uqb24s5f5nw6)\" height=\"40\" id=\"E3\" rx=\"10\" ry=\"10\" style=\"stroke: #A80036; stroke-width: 1.5;\" width=\"113\" x=\"180.5\" y=\"44\"/><text fill=\"#000000\" font-family=\"sans-serif\" font-size=\"12\" lengthAdjust=\"spacingAndGlyphs\" textLength=\"102\" x=\"186\" y=\"60.1387\">engine1: Engine</text></a></g><g id=\"E1.E4\"><a href=\"psysml:b8b914f7-6e3e-418c-a7c7-b0f9195d6204\" target=\"_top\" title=\"psysml:b8b914f7-6e3e-418c-a7c7-b0f9195d6204\" xlink:actuate=\"onRequest\" xlink:href=\"psysml:b8b914f7-6e3e-418c-a7c7-b0f9195d6204\" xlink:show=\"new\" xlink:title=\"psysml:b8b914f7-6e3e-418c-a7c7-b0f9195d6204\" xlink:type=\"simple\"><rect fill=\"#FEFECE\" filter=\"url(#f1uqb24s5f5nw6)\" height=\"40\" id=\"E4\" rx=\"10\" ry=\"10\" style=\"stroke: #A80036; stroke-width: 1.5;\" width=\"113\" x=\"32.5\" y=\"44\"/><text fill=\"#000000\" font-family=\"sans-serif\" font-size=\"12\" lengthAdjust=\"spacingAndGlyphs\" textLength=\"102\" x=\"38\" y=\"60.1387\">engine2: Engine</text></a></g><!--MD5=[15ebcb19ae302d9b601edb458606d402]\n",
       "link E5 to E2--><a href=\"psysml:0f7006cc-acd6-40d1-b198-a80e8f08765e\" target=\"_top\" title=\"psysml:0f7006cc-acd6-40d1-b198-a80e8f08765e\" xlink:actuate=\"onRequest\" xlink:href=\"psysml:0f7006cc-acd6-40d1-b198-a80e8f08765e\" xlink:show=\"new\" xlink:title=\"psysml:0f7006cc-acd6-40d1-b198-a80e8f08765e\" xlink:type=\"simple\"><path d=\"M454.33,87.05 C456.45,89.57 458.39,92.23 460,95 C475.92,122.38 478.3,136.82 466,166 C448.69,207.07 408.73,239.87 378.03,260.26 \" fill=\"none\" id=\"E5-&gt;E2\" style=\"stroke: #A80036; stroke-width: 1.0; stroke-dasharray: 7.0,7.0;\"/><polygon fill=\"#A80036\" points=\"373.57,263.18,383.2939,261.6161,377.7586,260.4495,378.9251,254.9143,373.57,263.18\" style=\"stroke: #A80036; stroke-width: 1.0;\"/><text fill=\"#000000\" font-family=\"sans-serif\" font-size=\"13\" lengthAdjust=\"spacingAndGlyphs\" textLength=\"62\" x=\"463\" y=\"194.5669\">«subject»</text></a><!--MD5=[9120cf2e5df3bff93db8f754bbbc09b4]\n",
       "link E5 to E6--><a href=\"psysml:33b70aea-82ec-44f7-8a12-3ec54376cb03\" target=\"_top\" title=\"psysml:33b70aea-82ec-44f7-8a12-3ec54376cb03\" xlink:actuate=\"onRequest\" xlink:href=\"psysml:33b70aea-82ec-44f7-8a12-3ec54376cb03\" xlink:show=\"new\" xlink:title=\"psysml:33b70aea-82ec-44f7-8a12-3ec54376cb03\" xlink:type=\"simple\"><path d=\"M342.94,87.03 C333.16,89.67 323.36,92.36 314,95 C288.94,102.07 261.74,110.13 237.17,117.56 \" fill=\"none\" id=\"E5-&gt;E6\" style=\"stroke: #A80036; stroke-width: 1.0;\"/><polygon fill=\"#A80036\" points=\"229.29,119.94,237.8158,120.4972,236.0799,114.7538,229.29,119.94\" style=\"stroke: #A80036; stroke-width: 1.0;\"/><text fill=\"#000000\" font-family=\"sans-serif\" font-size=\"13\" lengthAdjust=\"spacingAndGlyphs\" textLength=\"73\" x=\"315\" y=\"108.0669\">«objective»</text></a><!--MD5=[452b418e7f8a40397a49b8c0a78acc5b]\n",
       "reverse link E5 to E7--><a href=\"psysml:9ca3a684-dbe3-4511-9e21-3cef746855e2\" target=\"_top\" title=\"psysml:9ca3a684-dbe3-4511-9e21-3cef746855e2\" xlink:actuate=\"onRequest\" xlink:href=\"psysml:9ca3a684-dbe3-4511-9e21-3cef746855e2\" xlink:show=\"new\" xlink:title=\"psysml:9ca3a684-dbe3-4511-9e21-3cef746855e2\" xlink:type=\"simple\"><path d=\"M405.93,98.32 C401.13,105.57 396.16,113.08 391.72,119.78 \" fill=\"none\" id=\"E5&lt;-E7\" style=\"stroke: #A80036; stroke-width: 1.0;\"/><polygon fill=\"#A80036\" points=\"413.25,87.27,406.6021,90.0638,406.6241,97.2749,413.272,94.4811,413.25,87.27\" style=\"stroke: #A80036; stroke-width: 1.0;\"/></a><!--MD5=[dc164f5e8a733ab456ef1add180e9e34]\n",
       "reverse link E7 to E8--><a href=\"psysml:8f87ba26-7a36-4a80-9ed1-e463a907c7c6\" target=\"_top\" title=\"psysml:8f87ba26-7a36-4a80-9ed1-e463a907c7c6\" xlink:actuate=\"onRequest\" xlink:href=\"psysml:8f87ba26-7a36-4a80-9ed1-e463a907c7c6\" xlink:show=\"new\" xlink:title=\"psysml:8f87ba26-7a36-4a80-9ed1-e463a907c7c6\" xlink:type=\"simple\"><path d=\"M305.92,164.91 C304.26,165.29 302.62,165.65 301,166 C288.71,168.64 253.66,164.89 245,174 C235.09,184.43 235.08,201.52 236.77,213.88 \" fill=\"none\" id=\"E7&lt;-E8\" style=\"stroke: #A80036; stroke-width: 1.0;\"/><polygon fill=\"#FFFFFF\" points=\"318.71,161.77,311.9314,159.3102,307.0537,164.6214,313.8323,167.0811,318.71,161.77\" style=\"stroke: #A80036; stroke-width: 1.0;\"/><text fill=\"#000000\" font-family=\"sans-serif\" font-size=\"13\" lengthAdjust=\"spacingAndGlyphs\" textLength=\"8\" x=\"226.2847\" y=\"202.8557\">1</text></a><!--MD5=[f1f3f9f2fc535e6147756cb86a7f2e32]\n",
       "link E8 to E2--><a href=\"psysml:bdf7178e-b1d2-4aa0-b7b5-71013aa1f7a9\" target=\"_top\" title=\"psysml:bdf7178e-b1d2-4aa0-b7b5-71013aa1f7a9\" xlink:actuate=\"onRequest\" xlink:href=\"psysml:bdf7178e-b1d2-4aa0-b7b5-71013aa1f7a9\" xlink:show=\"new\" xlink:title=\"psysml:bdf7178e-b1d2-4aa0-b7b5-71013aa1f7a9\" xlink:type=\"simple\"><path d=\"M268.08,246.04 C273.23,248.8 278.76,251.77 284.38,254.77 \" fill=\"none\" id=\"E8-&gt;E2\" style=\"stroke: #A80036; stroke-width: 1.0;\"/><polygon fill=\"#FFFFFF\" points=\"302.21,264.33,282.1553,261.5358,288.7616,249.1926,302.21,264.33\" style=\"stroke: #A80036; stroke-width: 1.0;\"/><ellipse cx=\"278.0736\" cy=\"257.0828\" fill=\"#A80036\" rx=\"2\" ry=\"2\" style=\"stroke: #A80036; stroke-width: 1.0;\"/><ellipse cx=\"282.7924\" cy=\"248.2661\" fill=\"#A80036\" rx=\"2\" ry=\"2\" style=\"stroke: #A80036; stroke-width: 1.0;\"/></a><!--MD5=[9ae28de373ca99bb8a1b38d63370ca7e]\n",
       "reverse link E5 to E9--><a href=\"psysml:a1ab5fdf-7d24-4497-9ea2-3c4d95277eba\" target=\"_top\" title=\"psysml:a1ab5fdf-7d24-4497-9ea2-3c4d95277eba\" xlink:actuate=\"onRequest\" xlink:href=\"psysml:a1ab5fdf-7d24-4497-9ea2-3c4d95277eba\" xlink:show=\"new\" xlink:title=\"psysml:a1ab5fdf-7d24-4497-9ea2-3c4d95277eba\" xlink:type=\"simple\"><path d=\"M449.82,98.65 C460.68,120.03 468.53,147.15 453,166 C451.62,167.67 438.74,170.68 421.94,173.98 \" fill=\"none\" id=\"E5&lt;-E9\" style=\"stroke: #A80036; stroke-width: 1.0;\"/><polygon fill=\"#FFFFFF\" points=\"443.41,87.13,442.8257,94.3174,449.2355,97.6211,449.8198,90.4337,443.41,87.13\" style=\"stroke: #A80036; stroke-width: 1.0;\"/><text fill=\"#000000\" font-family=\"sans-serif\" font-size=\"13\" lengthAdjust=\"spacingAndGlyphs\" textLength=\"8\" x=\"431.8866\" y=\"185.124\">1</text></a><!--MD5=[5c3bb36fe832a92c7f0e1807dd65209d]\n",
       "link E9 to E2--><a href=\"psysml:9bedaae2-b2c6-4d70-8011-f34c154ea99f\" target=\"_top\" title=\"psysml:9bedaae2-b2c6-4d70-8011-f34c154ea99f\" xlink:actuate=\"onRequest\" xlink:href=\"psysml:9bedaae2-b2c6-4d70-8011-f34c154ea99f\" xlink:show=\"new\" xlink:title=\"psysml:9bedaae2-b2c6-4d70-8011-f34c154ea99f\" xlink:type=\"simple\"><path d=\"M335.5,206.27 C335.82,216.14 336.25,229.48 336.66,242.29 \" fill=\"none\" id=\"E9-&gt;E2\" style=\"stroke: #A80036; stroke-width: 1.0;\"/><polygon fill=\"#FFFFFF\" points=\"337.32,262.66,329.7128,243.8949,343.7055,243.4448,337.32,262.66\" style=\"stroke: #A80036; stroke-width: 1.0;\"/><ellipse cx=\"331.5285\" cy=\"238.1335\" fill=\"#A80036\" rx=\"2\" ry=\"2\" style=\"stroke: #A80036; stroke-width: 1.0;\"/><ellipse cx=\"341.5233\" cy=\"237.812\" fill=\"#A80036\" rx=\"2\" ry=\"2\" style=\"stroke: #A80036; stroke-width: 1.0;\"/></a><!--MD5=[ebdd4e941418cff04b702d5b03d053e6]\n",
       "@startuml\r\n",
       "skinparam ranksep 10\r\n",
       "skinparam rectangle {\r\n",
       " backgroundColor<<block>> LightGreen\r\n",
       "}\r\n",
       "skinparam wrapWidth 300\r\n",
       "hide circle\r\n",
       "\r\n",
       "package \"TradeStudyTest\" as E1  [[psysml:e59f1b4e-bf48-44e5-8b03-de7ba4c0da2b ]]  {\r\n",
       "rec def \"Engine\" as E2  <<(T,blue) part def>> [[psysml:8032ee8b-b45e-4aab-a334-ddc7f77ca09b ]] {\r\n",
       "}\r\n",
       "rec usage \"engine1: Engine\" as E3  [[psysml:d1c59f8e-91b7-4873-9a7c-d548f1a74ff0 ]] {\r\n",
       "}\r\n",
       "rec usage \"engine2: Engine\" as E4  [[psysml:b8b914f7-6e3e-418c-a7c7-b0f9195d6204 ]] {\r\n",
       "}\r\n",
       "comp usage \"engineTradeStudy: TradeStudy\" as E5 << analysis>> [[psysml:d010e11c-db6d-479b-b98e-aa7ac12f08dc ]] {\r\n",
       "}\r\n",
       "comp usage \"tradeStudyObjective: MaximizeObjective\" as E6  <<(T,blue) requirement>> [[psysml:baa50d6d-f728-4fdb-a3d8-0324d2e9c263 ]] {\r\n",
       "}\r\n",
       "comp usage \"objectiveFunction\" as E7  <<(T,blue) calculation>> [[psysml:c3bcbf7c-d2b8-4beb-b9e4-ef0b91eba9be ]] {\r\n",
       "}\r\n",
       "comp usage \"alternative: Engine\" as E8  [[psysml:c18a795f-fd76-4ffb-a70d-e612388b917b ]] {\r\n",
       "}\r\n",
       "comp usage \"selectedAlternative: Engine\" as E9  [[psysml:854815c3-8ae1-4c3d-a371-f12eec0f41ab ]] {\r\n",
       "}\r\n",
       "}\r\n",
       "E5 ..> E2 [[psysml:0f7006cc-acd6-40d1-b198-a80e8f08765e ]] : <<subject>>\r\n",
       "E5 - ->> E6 [[psysml:33b70aea-82ec-44f7-8a12-3ec54376cb03 ]] : <<objective>>\r\n",
       "E5 *- - E7 [[psysml:9ca3a684-dbe3-4511-9e21-3cef746855e2 ]] \r\n",
       "E7 o- - \"1\"E8 [[psysml:8f87ba26-7a36-4a80-9ed1-e463a907c7c6 ]] \r\n",
       "E8 - -:|> E2 [[psysml:bdf7178e-b1d2-4aa0-b7b5-71013aa1f7a9 ]] \r\n",
       "E5 o- - \"1\"E9 [[psysml:a1ab5fdf-7d24-4497-9ea2-3c4d95277eba ]] \r\n",
       "E9 - -:|> E2 [[psysml:9bedaae2-b2c6-4d70-8011-f34c154ea99f ]] \r\n",
       "@enduml\r\n",
       "\n",
       "PlantUML version 1.2020.13(Sat Jun 13 12:26:38 UTC 2020)\n",
       "(EPL source distribution)\n",
       "Java Runtime: OpenJDK Runtime Environment\n",
       "JVM: OpenJDK 64-Bit Server VM\n",
       "Default Encoding: UTF-8\n",
       "Language: en\n",
       "Country: null\n",
       "--></g></svg>"
      ]
     },
     "execution_count": 26,
     "metadata": {},
     "output_type": "execute_result"
    }
   ],
   "source": [
    "%viz --style=\"STDCOLOR\" --view=\"Interconnection\" \"TradeStudyTest\""
   ]
  },
  {
   "cell_type": "code",
   "execution_count": 27,
   "id": "b769105a",
   "metadata": {
    "execution": {
     "iopub.execute_input": "2021-09-27T07:19:35.997596Z",
     "iopub.status.busy": "2021-09-27T07:19:35.997385Z",
     "iopub.status.idle": "2021-09-27T07:19:36.026699Z",
     "shell.execute_reply": "2021-09-27T07:19:36.026402Z"
    }
   },
   "outputs": [
    {
     "data": {
      "image/svg+xml": [
       "<?xml version=\"1.0\" encoding=\"UTF-8\" standalone=\"no\"?><svg xmlns=\"http://www.w3.org/2000/svg\" xmlns:xlink=\"http://www.w3.org/1999/xlink\" contentScriptType=\"application/ecmascript\" contentStyleType=\"text/css\" height=\"178px\" preserveAspectRatio=\"none\" style=\"width:434px;height:178px;\" version=\"1.1\" viewBox=\"0 0 434 178\" width=\"434px\" zoomAndPan=\"magnify\"><defs><filter height=\"300%\" id=\"fu76sqwtpl9dm\" width=\"300%\" x=\"-1\" y=\"-1\"><feGaussianBlur result=\"blurOut\" stdDeviation=\"2.0\"/><feColorMatrix in=\"blurOut\" result=\"blurOut2\" type=\"matrix\" values=\"0 0 0 0 0 0 0 0 0 0 0 0 0 0 0 0 0 0 .4 0\"/><feOffset dx=\"4.0\" dy=\"4.0\" in=\"blurOut2\" result=\"blurOut3\"/><feBlend in=\"SourceGraphic\" in2=\"blurOut3\" mode=\"normal\"/></filter></defs><g><!--MD5=[fbc87193dbaf4d95561dea2c320d4a47]\n",
       "cluster E1--><a href=\"psysml:d010e11c-db6d-479b-b98e-aa7ac12f08dc\" target=\"_top\" title=\"psysml:d010e11c-db6d-479b-b98e-aa7ac12f08dc\" xlink:actuate=\"onRequest\" xlink:href=\"psysml:d010e11c-db6d-479b-b98e-aa7ac12f08dc\" xlink:show=\"new\" xlink:title=\"psysml:d010e11c-db6d-479b-b98e-aa7ac12f08dc\" xlink:type=\"simple\"><rect fill=\"#FFFFFF\" filter=\"url(#fu76sqwtpl9dm)\" height=\"103.72\" id=\"E1\" rx=\"10\" ry=\"10\" style=\"stroke: #A80036; stroke-width: 1.5;\" width=\"327\" x=\"47\" y=\"42.0986\"/><rect fill=\"#FEFECE\" height=\"37.9375\" rx=\"10\" ry=\"10\" style=\"stroke: #FEFECE; stroke-width: 1.5;\" width=\"327\" x=\"47\" y=\"42.0986\"/><rect fill=\"#FEFECE\" height=\"10\" style=\"stroke: #FEFECE; stroke-width: 1.5;\" width=\"327\" x=\"47\" y=\"70.0361\"/><rect fill=\"none\" height=\"103.72\" id=\"E1\" rx=\"10\" ry=\"10\" style=\"stroke: #A80036; stroke-width: 1.5;\" width=\"327\" x=\"47\" y=\"42.0986\"/><text fill=\"#000000\" font-family=\"sans-serif\" font-size=\"12\" font-style=\"italic\" lengthAdjust=\"spacingAndGlyphs\" textLength=\"64\" x=\"178.5\" y=\"58.2373\">«analysis»</text><text fill=\"#000000\" font-family=\"sans-serif\" font-size=\"12\" lengthAdjust=\"spacingAndGlyphs\" textLength=\"114\" x=\"153.5\" y=\"72.2061\">engineTradeStudy</text><line style=\"stroke: #A80036; stroke-width: 1.0;\" x1=\"47\" x2=\"374\" y1=\"80.0361\" y2=\"80.0361\"/></a><!--MD5=[d5e69f78d87373223dbae638b30a9c99]\n",
       "cluster E3--><a href=\"psysml:c3bcbf7c-d2b8-4beb-b9e4-ef0b91eba9be\" target=\"_top\" title=\"psysml:c3bcbf7c-d2b8-4beb-b9e4-ef0b91eba9be\" xlink:actuate=\"onRequest\" xlink:href=\"psysml:c3bcbf7c-d2b8-4beb-b9e4-ef0b91eba9be\" xlink:show=\"new\" xlink:title=\"psysml:c3bcbf7c-d2b8-4beb-b9e4-ef0b91eba9be\" xlink:type=\"simple\"><rect fill=\"#FFFFFF\" filter=\"url(#fu76sqwtpl9dm)\" height=\"81.72\" id=\"E3\" rx=\"10\" ry=\"10\" style=\"stroke: #A80036; stroke-width: 1.5;\" width=\"132\" x=\"214.125\" y=\"64.0986\"/><rect fill=\"#FEFECE\" height=\"37.9375\" rx=\"10\" ry=\"10\" style=\"stroke: #FEFECE; stroke-width: 1.5;\" width=\"132\" x=\"214.125\" y=\"64.0986\"/><rect fill=\"#FEFECE\" height=\"10\" style=\"stroke: #FEFECE; stroke-width: 1.5;\" width=\"132\" x=\"214.125\" y=\"92.0361\"/><rect fill=\"none\" height=\"81.72\" id=\"E3\" rx=\"10\" ry=\"10\" style=\"stroke: #A80036; stroke-width: 1.5;\" width=\"132\" x=\"214.125\" y=\"64.0986\"/><text fill=\"#000000\" font-family=\"sans-serif\" font-size=\"12\" font-style=\"italic\" lengthAdjust=\"spacingAndGlyphs\" textLength=\"82\" x=\"239.125\" y=\"80.2373\">«calculation»</text><text fill=\"#000000\" font-family=\"sans-serif\" font-size=\"12\" lengthAdjust=\"spacingAndGlyphs\" textLength=\"110\" x=\"225.125\" y=\"94.2061\">objectiveFunction</text><line style=\"stroke: #A80036; stroke-width: 1.0;\" x1=\"214.125\" x2=\"346.125\" y1=\"102.0361\" y2=\"102.0361\"/></a><text fill=\"#000000\" font-family=\"sans-serif\" font-size=\"14\" lengthAdjust=\"spacingAndGlyphs\" textLength=\"118\" x=\"6\" y=\"20.7969\">studyAlternatives</text><rect fill=\"#A80036\" height=\"12\" style=\"stroke: #FEFECE; stroke-width: 1.5;\" width=\"12\" x=\"59\" y=\"36.0986\"/><text fill=\"#000000\" font-family=\"sans-serif\" font-size=\"14\" lengthAdjust=\"spacingAndGlyphs\" textLength=\"132\" x=\"290\" y=\"164.8138\">selectedAlternative</text><rect fill=\"#A80036\" height=\"12\" style=\"stroke: #FEFECE; stroke-width: 1.5;\" width=\"12\" x=\"350\" y=\"139.8186\"/><text fill=\"#000000\" font-family=\"sans-serif\" font-size=\"14\" lengthAdjust=\"spacingAndGlyphs\" textLength=\"39\" x=\"215.5\" y=\"164.8138\">result</text><rect fill=\"#A80036\" height=\"12\" style=\"stroke: #FEFECE; stroke-width: 1.5;\" width=\"12\" x=\"229\" y=\"139.8186\"/><!--MD5=[3b6a5acb87d6244e5bb8bdfaa0c1b650]\n",
       "@startuml\r\n",
       "skinparam ranksep 8\r\n",
       "skinparam wrapWidth 300\r\n",
       "hide circle\r\n",
       "\r\n",
       "rec usage \"engineTradeStudy\" as E1 << analysis>> [[psysml:d010e11c-db6d-479b-b98e-aa7ac12f08dc ]] {\r\n",
       "portin \"studyAlternatives\" as E2  [[psysml:c281ae49-24a5-493f-bfdc-d0e83f5bb327 ]] \r\n",
       "rec usage \"objectiveFunction\" as E3  <<(T,blue) calculation>> [[psysml:c3bcbf7c-d2b8-4beb-b9e4-ef0b91eba9be ]] {\r\n",
       "portout \"result\" as E4  [[psysml:6508d5a9-7a54-4e99-9afa-e959802dfdd5 ]] \r\n",
       "}\r\n",
       "\r\n",
       "portout \"selectedAlternative\" as E5  [[psysml:854815c3-8ae1-4c3d-a371-f12eec0f41ab ]] \r\n",
       "}\r\n",
       "\r\n",
       "@enduml\r\n",
       "\n",
       "PlantUML version 1.2020.13(Sat Jun 13 12:26:38 UTC 2020)\n",
       "(EPL source distribution)\n",
       "Java Runtime: OpenJDK Runtime Environment\n",
       "JVM: OpenJDK 64-Bit Server VM\n",
       "Default Encoding: UTF-8\n",
       "Language: en\n",
       "Country: null\n",
       "--></g></svg>"
      ]
     },
     "execution_count": 27,
     "metadata": {},
     "output_type": "execute_result"
    }
   ],
   "source": [
    "%viz --style=\"STDCOLOR\" --view=\"Action\" \"TradeStudyTest\""
   ]
  },
  {
   "cell_type": "code",
   "execution_count": 28,
   "id": "b899bc4b",
   "metadata": {
    "execution": {
     "iopub.execute_input": "2021-09-27T07:19:36.076418Z",
     "iopub.status.busy": "2021-09-27T07:19:36.076105Z",
     "iopub.status.idle": "2021-09-27T07:19:36.081015Z",
     "shell.execute_reply": "2021-09-27T07:19:36.080731Z"
    }
   },
   "outputs": [
    {
     "data": {
      "image/svg+xml": [
       "<?xml version=\"1.0\" encoding=\"UTF-8\" standalone=\"no\"?><svg xmlns=\"http://www.w3.org/2000/svg\" xmlns:xlink=\"http://www.w3.org/1999/xlink\" contentScriptType=\"application/ecmascript\" contentStyleType=\"text/css\" height=\"12px\" preserveAspectRatio=\"none\" style=\"width:12px;height:12px;\" version=\"1.1\" viewBox=\"0 0 12 12\" width=\"12px\" zoomAndPan=\"magnify\"><defs/><g><!--MD5=[6c4bca67b4d71758159a5a7f1f1e1fc2]\n",
       "@startuml\r\n",
       "skinparam roundcorner 20\r\n",
       "skinparam BoxPadding 20\r\n",
       "skinparam SequenceBoxBackgroundColor #white\r\n",
       "skinparam style strictuml\r\n",
       "skinparam maxMessageSize 100\r\n",
       "skinparam wrapWidth 300\r\n",
       "hide circle\r\n",
       "\r\n",
       "@enduml\r\n",
       "\n",
       "PlantUML version 1.2020.13(Sat Jun 13 12:26:38 UTC 2020)\n",
       "(EPL source distribution)\n",
       "Java Runtime: OpenJDK Runtime Environment\n",
       "JVM: OpenJDK 64-Bit Server VM\n",
       "Default Encoding: UTF-8\n",
       "Language: en\n",
       "Country: null\n",
       "--></g></svg>"
      ]
     },
     "execution_count": 28,
     "metadata": {},
     "output_type": "execute_result"
    }
   ],
   "source": [
    "%viz --style=\"STDCOLOR\" --view=\"Sequence\" \"TradeStudyTest\""
   ]
  },
  {
   "cell_type": "code",
   "execution_count": 29,
   "id": "848096d3",
   "metadata": {
    "execution": {
     "iopub.execute_input": "2021-09-27T07:19:36.131265Z",
     "iopub.status.busy": "2021-09-27T07:19:36.130915Z",
     "iopub.status.idle": "2021-09-27T07:19:36.171371Z",
     "shell.execute_reply": "2021-09-27T07:19:36.171017Z"
    }
   },
   "outputs": [
    {
     "data": {
      "image/svg+xml": [
       "<?xml version=\"1.0\" encoding=\"UTF-8\" standalone=\"no\"?><svg xmlns=\"http://www.w3.org/2000/svg\" xmlns:xlink=\"http://www.w3.org/1999/xlink\" contentScriptType=\"application/ecmascript\" contentStyleType=\"text/css\" height=\"497px\" preserveAspectRatio=\"none\" style=\"width:556px;height:497px;\" version=\"1.1\" viewBox=\"0 0 556 497\" width=\"556px\" zoomAndPan=\"magnify\"><defs><filter height=\"300%\" id=\"f3i4ar2zmple8\" width=\"300%\" x=\"-1\" y=\"-1\"><feGaussianBlur result=\"blurOut\" stdDeviation=\"2.0\"/><feColorMatrix in=\"blurOut\" result=\"blurOut2\" type=\"matrix\" values=\"0 0 0 0 0 0 0 0 0 0 0 0 0 0 0 0 0 0 .4 0\"/><feOffset dx=\"4.0\" dy=\"4.0\" in=\"blurOut2\" result=\"blurOut3\"/><feBlend in=\"SourceGraphic\" in2=\"blurOut3\" mode=\"normal\"/></filter></defs><g><!--MD5=[fbc87193dbaf4d95561dea2c320d4a47]\n",
       "cluster E1--><a href=\"psysml:e59f1b4e-bf48-44e5-8b03-de7ba4c0da2b\" target=\"_top\" title=\"psysml:e59f1b4e-bf48-44e5-8b03-de7ba4c0da2b\" xlink:actuate=\"onRequest\" xlink:href=\"psysml:e59f1b4e-bf48-44e5-8b03-de7ba4c0da2b\" xlink:show=\"new\" xlink:title=\"psysml:e59f1b4e-bf48-44e5-8b03-de7ba4c0da2b\" xlink:type=\"simple\"><polygon fill=\"#FFFFFF\" filter=\"url(#f3i4ar2zmple8)\" points=\"18.32,6,134.32,6,141.32,28.2969,534.32,28.2969,534.32,485,18.32,485,18.32,6\" style=\"stroke: #000000; stroke-width: 1.5;\"/><line style=\"stroke: #000000; stroke-width: 1.5;\" x1=\"18.32\" x2=\"141.32\" y1=\"28.2969\" y2=\"28.2969\"/><text fill=\"#000000\" font-family=\"sans-serif\" font-size=\"14\" font-weight=\"bold\" lengthAdjust=\"spacingAndGlyphs\" textLength=\"110\" x=\"22.32\" y=\"20.9951\">TradeStudyTest</text></a><!--MD5=[b4997ac47864f28c2f74865a473b2911]\n",
       "class E2--><a href=\"psysml:8032ee8b-b45e-4aab-a334-ddc7f77ca09b\" target=\"_top\" title=\"psysml:8032ee8b-b45e-4aab-a334-ddc7f77ca09b\" xlink:actuate=\"onRequest\" xlink:href=\"psysml:8032ee8b-b45e-4aab-a334-ddc7f77ca09b\" xlink:show=\"new\" xlink:title=\"psysml:8032ee8b-b45e-4aab-a334-ddc7f77ca09b\" xlink:type=\"simple\"><rect fill=\"#FEFECE\" filter=\"url(#f3i4ar2zmple8)\" height=\"45.9375\" id=\"E2\" style=\"stroke: #A80036; stroke-width: 1.5;\" width=\"66\" x=\"198.32\" y=\"423\"/><text fill=\"#000000\" font-family=\"sans-serif\" font-size=\"12\" font-style=\"italic\" lengthAdjust=\"spacingAndGlyphs\" textLength=\"64\" x=\"199.32\" y=\"439.1387\">«part def»</text><text fill=\"#000000\" font-family=\"sans-serif\" font-size=\"12\" lengthAdjust=\"spacingAndGlyphs\" textLength=\"43\" x=\"209.82\" y=\"453.1074\">Engine</text><line style=\"stroke: #A80036; stroke-width: 1.5;\" x1=\"199.32\" x2=\"263.32\" y1=\"460.9375\" y2=\"460.9375\"/></a><!--MD5=[09b614a08d8cba4a07c9adeb5e0fee81]\n",
       "class E3--><a href=\"psysml:d1c59f8e-91b7-4873-9a7c-d548f1a74ff0\" target=\"_top\" title=\"psysml:d1c59f8e-91b7-4873-9a7c-d548f1a74ff0\" xlink:actuate=\"onRequest\" xlink:href=\"psysml:d1c59f8e-91b7-4873-9a7c-d548f1a74ff0\" xlink:show=\"new\" xlink:title=\"psysml:d1c59f8e-91b7-4873-9a7c-d548f1a74ff0\" xlink:type=\"simple\"><rect fill=\"#FEFECE\" filter=\"url(#f3i4ar2zmple8)\" height=\"45.9375\" id=\"E3\" rx=\"10\" ry=\"10\" style=\"stroke: #A80036; stroke-width: 1.5;\" width=\"108\" x=\"410.32\" y=\"316\"/><text fill=\"#000000\" font-family=\"sans-serif\" font-size=\"12\" font-style=\"italic\" lengthAdjust=\"spacingAndGlyphs\" textLength=\"40\" x=\"444.32\" y=\"332.1387\">«part»</text><text fill=\"#000000\" font-family=\"sans-serif\" font-size=\"12\" lengthAdjust=\"spacingAndGlyphs\" textLength=\"102\" x=\"413.32\" y=\"346.1074\">engine1: Engine</text><line style=\"stroke: #A80036; stroke-width: 1.5;\" x1=\"411.32\" x2=\"517.32\" y1=\"353.9375\" y2=\"353.9375\"/></a><!--MD5=[ebbe1d658d1005bcc118a6aa81145e00]\n",
       "class E4--><a href=\"psysml:b8b914f7-6e3e-418c-a7c7-b0f9195d6204\" target=\"_top\" title=\"psysml:b8b914f7-6e3e-418c-a7c7-b0f9195d6204\" xlink:actuate=\"onRequest\" xlink:href=\"psysml:b8b914f7-6e3e-418c-a7c7-b0f9195d6204\" xlink:show=\"new\" xlink:title=\"psysml:b8b914f7-6e3e-418c-a7c7-b0f9195d6204\" xlink:type=\"simple\"><rect fill=\"#FEFECE\" filter=\"url(#f3i4ar2zmple8)\" height=\"45.9375\" id=\"E4\" rx=\"10\" ry=\"10\" style=\"stroke: #A80036; stroke-width: 1.5;\" width=\"108\" x=\"267.32\" y=\"316\"/><text fill=\"#000000\" font-family=\"sans-serif\" font-size=\"12\" font-style=\"italic\" lengthAdjust=\"spacingAndGlyphs\" textLength=\"40\" x=\"301.32\" y=\"332.1387\">«part»</text><text fill=\"#000000\" font-family=\"sans-serif\" font-size=\"12\" lengthAdjust=\"spacingAndGlyphs\" textLength=\"102\" x=\"270.32\" y=\"346.1074\">engine2: Engine</text><line style=\"stroke: #A80036; stroke-width: 1.5;\" x1=\"268.32\" x2=\"374.32\" y1=\"353.9375\" y2=\"353.9375\"/></a><!--MD5=[270fce915f116d4de14055a7c1d9a0f3]\n",
       "class E5--><a href=\"psysml:d010e11c-db6d-479b-b98e-aa7ac12f08dc\" target=\"_top\" title=\"psysml:d010e11c-db6d-479b-b98e-aa7ac12f08dc\" xlink:actuate=\"onRequest\" xlink:href=\"psysml:d010e11c-db6d-479b-b98e-aa7ac12f08dc\" xlink:show=\"new\" xlink:title=\"psysml:d010e11c-db6d-479b-b98e-aa7ac12f08dc\" xlink:type=\"simple\"><rect fill=\"#FEFECE\" filter=\"url(#f3i4ar2zmple8)\" height=\"45.9375\" id=\"E5\" rx=\"10\" ry=\"10\" style=\"stroke: #A80036; stroke-width: 1.5;\" width=\"199\" x=\"239.82\" y=\"41\"/><text fill=\"#000000\" font-family=\"sans-serif\" font-size=\"12\" font-style=\"italic\" lengthAdjust=\"spacingAndGlyphs\" textLength=\"64\" x=\"307.32\" y=\"57.1387\">«analysis»</text><text fill=\"#000000\" font-family=\"sans-serif\" font-size=\"12\" lengthAdjust=\"spacingAndGlyphs\" textLength=\"193\" x=\"242.82\" y=\"71.1074\">engineTradeStudy: TradeStudy</text><line style=\"stroke: #A80036; stroke-width: 1.5;\" x1=\"240.82\" x2=\"437.82\" y1=\"78.9375\" y2=\"78.9375\"/></a><!--MD5=[60a26617385b1d2d0262a64233df1f8d]\n",
       "class E6--><a href=\"psysml:baa50d6d-f728-4fdb-a3d8-0324d2e9c263\" target=\"_top\" title=\"psysml:baa50d6d-f728-4fdb-a3d8-0324d2e9c263\" xlink:actuate=\"onRequest\" xlink:href=\"psysml:baa50d6d-f728-4fdb-a3d8-0324d2e9c263\" xlink:show=\"new\" xlink:title=\"psysml:baa50d6d-f728-4fdb-a3d8-0324d2e9c263\" xlink:type=\"simple\"><rect fill=\"#FEFECE\" filter=\"url(#f3i4ar2zmple8)\" height=\"45.9375\" id=\"E6\" rx=\"10\" ry=\"10\" style=\"stroke: #A80036; stroke-width: 1.5;\" width=\"251\" x=\"78.82\" y=\"164\"/><text fill=\"#000000\" font-family=\"sans-serif\" font-size=\"12\" font-style=\"italic\" lengthAdjust=\"spacingAndGlyphs\" textLength=\"91\" x=\"158.82\" y=\"180.1387\">«requirement»</text><text fill=\"#000000\" font-family=\"sans-serif\" font-size=\"12\" lengthAdjust=\"spacingAndGlyphs\" textLength=\"245\" x=\"81.82\" y=\"194.1074\">tradeStudyObjective: MaximizeObjective</text><line style=\"stroke: #A80036; stroke-width: 1.5;\" x1=\"79.82\" x2=\"328.82\" y1=\"201.9375\" y2=\"201.9375\"/></a><!--MD5=[2156ba9850f5573cc1fc38a6a4b2f02b]\n",
       "class E7--><a href=\"psysml:c3bcbf7c-d2b8-4beb-b9e4-ef0b91eba9be\" target=\"_top\" title=\"psysml:c3bcbf7c-d2b8-4beb-b9e4-ef0b91eba9be\" xlink:actuate=\"onRequest\" xlink:href=\"psysml:c3bcbf7c-d2b8-4beb-b9e4-ef0b91eba9be\" xlink:show=\"new\" xlink:title=\"psysml:c3bcbf7c-d2b8-4beb-b9e4-ef0b91eba9be\" xlink:type=\"simple\"><rect fill=\"#FEFECE\" filter=\"url(#f3i4ar2zmple8)\" height=\"45.9375\" id=\"E7\" rx=\"10\" ry=\"10\" style=\"stroke: #A80036; stroke-width: 1.5;\" width=\"116\" x=\"365.32\" y=\"164\"/><text fill=\"#000000\" font-family=\"sans-serif\" font-size=\"12\" font-style=\"italic\" lengthAdjust=\"spacingAndGlyphs\" textLength=\"82\" x=\"382.32\" y=\"180.1387\">«calculation»</text><text fill=\"#000000\" font-family=\"sans-serif\" font-size=\"12\" lengthAdjust=\"spacingAndGlyphs\" textLength=\"110\" x=\"368.32\" y=\"194.1074\">objectiveFunction</text><line style=\"stroke: #A80036; stroke-width: 1.5;\" x1=\"366.32\" x2=\"480.32\" y1=\"201.9375\" y2=\"201.9375\"/></a><!--MD5=[b9389687b975829384b498ac4b7476b2]\n",
       "class E8--><a href=\"psysml:c18a795f-fd76-4ffb-a70d-e612388b917b\" target=\"_top\" title=\"psysml:c18a795f-fd76-4ffb-a70d-e612388b917b\" xlink:actuate=\"onRequest\" xlink:href=\"psysml:c18a795f-fd76-4ffb-a70d-e612388b917b\" xlink:show=\"new\" xlink:title=\"psysml:c18a795f-fd76-4ffb-a70d-e612388b917b\" xlink:type=\"simple\"><rect fill=\"#FEFECE\" filter=\"url(#f3i4ar2zmple8)\" height=\"45.9375\" id=\"E8\" rx=\"10\" ry=\"10\" style=\"stroke: #A80036; stroke-width: 1.5;\" width=\"124\" x=\"71.32\" y=\"316\"/><text fill=\"#000000\" font-family=\"sans-serif\" font-size=\"12\" font-style=\"italic\" lengthAdjust=\"spacingAndGlyphs\" textLength=\"40\" x=\"113.32\" y=\"332.1387\">«part»</text><text fill=\"#000000\" font-family=\"sans-serif\" font-size=\"12\" lengthAdjust=\"spacingAndGlyphs\" textLength=\"118\" x=\"74.32\" y=\"346.1074\">alternative: Engine</text><line style=\"stroke: #A80036; stroke-width: 1.5;\" x1=\"72.32\" x2=\"194.32\" y1=\"353.9375\" y2=\"353.9375\"/></a><!--MD5=[fd4143e9d270a159db93a4ea2a975926]\n",
       "class E9--><a href=\"psysml:854815c3-8ae1-4c3d-a371-f12eec0f41ab\" target=\"_top\" title=\"psysml:854815c3-8ae1-4c3d-a371-f12eec0f41ab\" xlink:actuate=\"onRequest\" xlink:href=\"psysml:854815c3-8ae1-4c3d-a371-f12eec0f41ab\" xlink:show=\"new\" xlink:title=\"psysml:854815c3-8ae1-4c3d-a371-f12eec0f41ab\" xlink:type=\"simple\"><rect fill=\"#FEFECE\" filter=\"url(#f3i4ar2zmple8)\" height=\"45.9375\" id=\"E9\" rx=\"10\" ry=\"10\" style=\"stroke: #A80036; stroke-width: 1.5;\" width=\"178\" x=\"291.32\" y=\"240\"/><text fill=\"#000000\" font-family=\"sans-serif\" font-size=\"12\" font-style=\"italic\" lengthAdjust=\"spacingAndGlyphs\" textLength=\"40\" x=\"360.32\" y=\"256.1387\">«part»</text><text fill=\"#000000\" font-family=\"sans-serif\" font-size=\"12\" lengthAdjust=\"spacingAndGlyphs\" textLength=\"172\" x=\"294.32\" y=\"270.1074\">selectedAlternative: Engine</text><line style=\"stroke: #A80036; stroke-width: 1.5;\" x1=\"292.32\" x2=\"468.32\" y1=\"277.9375\" y2=\"277.9375\"/></a><!--MD5=[05d275557350bfb9b23a4ef7222b4c39]\n",
       "link E3 to E2--><a href=\"psysml:a477e10c-c644-4ab8-a0d7-73b747f4931b\" target=\"_top\" title=\"psysml:a477e10c-c644-4ab8-a0d7-73b747f4931b\" xlink:actuate=\"onRequest\" xlink:href=\"psysml:a477e10c-c644-4ab8-a0d7-73b747f4931b\" xlink:show=\"new\" xlink:title=\"psysml:a477e10c-c644-4ab8-a0d7-73b747f4931b\" xlink:type=\"simple\"><path d=\"M415.48,362.01 C376.57,379.54 322.27,404.01 282.71,421.84 \" fill=\"none\" id=\"E3-&gt;E2\" style=\"stroke: #A80036; stroke-width: 1.0;\"/><polygon fill=\"#FFFFFF\" points=\"264.34,430.12,278.7866,415.9321,284.5383,428.696,264.34,430.12\" style=\"stroke: #A80036; stroke-width: 1.0;\"/><ellipse cx=\"284.805\" cy=\"415.4137\" fill=\"#A80036\" rx=\"2\" ry=\"2\" style=\"stroke: #A80036; stroke-width: 1.0;\"/><ellipse cx=\"288.9134\" cy=\"424.5308\" fill=\"#A80036\" rx=\"2\" ry=\"2\" style=\"stroke: #A80036; stroke-width: 1.0;\"/></a><!--MD5=[185131fc0dcab0a4505a2ebe144e961b]\n",
       "link E4 to E2--><a href=\"psysml:006a8138-edc7-4443-807d-fbbb291c6f87\" target=\"_top\" title=\"psysml:006a8138-edc7-4443-807d-fbbb291c6f87\" xlink:actuate=\"onRequest\" xlink:href=\"psysml:006a8138-edc7-4443-807d-fbbb291c6f87\" xlink:show=\"new\" xlink:title=\"psysml:006a8138-edc7-4443-807d-fbbb291c6f87\" xlink:type=\"simple\"><path d=\"M302.45,362.01 C291.25,375.08 276.74,392.01 263.74,407.17 \" fill=\"none\" id=\"E4-&gt;E2\" style=\"stroke: #A80036; stroke-width: 1.0;\"/><polygon fill=\"#FFFFFF\" points=\"250.47,422.66,257.5188,403.678,268.1491,412.7883,250.47,422.66\" style=\"stroke: #A80036; stroke-width: 1.0;\"/><ellipse cx=\"262.7466\" cy=\"400.6515\" fill=\"#A80036\" rx=\"2\" ry=\"2\" style=\"stroke: #A80036; stroke-width: 1.0;\"/><ellipse cx=\"270.3396\" cy=\"407.1588\" fill=\"#A80036\" rx=\"2\" ry=\"2\" style=\"stroke: #A80036; stroke-width: 1.0;\"/></a><!--MD5=[15ebcb19ae302d9b601edb458606d402]\n",
       "link E5 to E2--><a href=\"psysml:0f7006cc-acd6-40d1-b198-a80e8f08765e\" target=\"_top\" title=\"psysml:0f7006cc-acd6-40d1-b198-a80e8f08765e\" xlink:actuate=\"onRequest\" xlink:href=\"psysml:0f7006cc-acd6-40d1-b198-a80e8f08765e\" xlink:show=\"new\" xlink:title=\"psysml:0f7006cc-acd6-40d1-b198-a80e8f08765e\" xlink:type=\"simple\"><path d=\"M239.76,73.22 C177.99,83.96 102.74,108.45 61.32,164 C8.68,234.61 6,287.72 53.32,362 C83.95,410.08 150.5,430.76 192.99,439.32 \" fill=\"none\" id=\"E5-&gt;E2\" style=\"stroke: #A80036; stroke-width: 1.0; stroke-dasharray: 7.0,7.0;\"/><polygon fill=\"#A80036\" points=\"198.04,440.31,189.9738,434.6588,193.1327,439.3514,188.4401,442.5104,198.04,440.31\" style=\"stroke: #A80036; stroke-width: 1.0;\"/><text fill=\"#000000\" font-family=\"sans-serif\" font-size=\"13\" lengthAdjust=\"spacingAndGlyphs\" textLength=\"62\" x=\"24.32\" y=\"267.5669\">«subject»</text></a><!--MD5=[9120cf2e5df3bff93db8f754bbbc09b4]\n",
       "link E5 to E6--><a href=\"psysml:33b70aea-82ec-44f7-8a12-3ec54376cb03\" target=\"_top\" title=\"psysml:33b70aea-82ec-44f7-8a12-3ec54376cb03\" xlink:actuate=\"onRequest\" xlink:href=\"psysml:33b70aea-82ec-44f7-8a12-3ec54376cb03\" xlink:show=\"new\" xlink:title=\"psysml:33b70aea-82ec-44f7-8a12-3ec54376cb03\" xlink:type=\"simple\"><path d=\"M314.56,87.19 C292.2,107.23 259.21,136.8 235.15,158.37 \" fill=\"none\" id=\"E5-&gt;E6\" style=\"stroke: #A80036; stroke-width: 1.0;\"/><polygon fill=\"#A80036\" points=\"228.92,163.95,236.8786,160.8419,232.8725,156.3752,228.92,163.95\" style=\"stroke: #A80036; stroke-width: 1.0;\"/><text fill=\"#000000\" font-family=\"sans-serif\" font-size=\"13\" lengthAdjust=\"spacingAndGlyphs\" textLength=\"73\" x=\"280.32\" y=\"130.0669\">«objective»</text></a><!--MD5=[452b418e7f8a40397a49b8c0a78acc5b]\n",
       "reverse link E5 to E7--><a href=\"psysml:9ca3a684-dbe3-4511-9e21-3cef746855e2\" target=\"_top\" title=\"psysml:9ca3a684-dbe3-4511-9e21-3cef746855e2\" xlink:actuate=\"onRequest\" xlink:href=\"psysml:9ca3a684-dbe3-4511-9e21-3cef746855e2\" xlink:show=\"new\" xlink:title=\"psysml:9ca3a684-dbe3-4511-9e21-3cef746855e2\" xlink:type=\"simple\"><path d=\"M362.14,97.88 C376.71,118.86 395.19,145.48 408.01,163.95 \" fill=\"none\" id=\"E5&lt;-E7\" style=\"stroke: #A80036; stroke-width: 1.0;\"/><polygon fill=\"#A80036\" points=\"354.73,87.19,354.864,94.3999,361.5708,97.0492,361.4368,89.8393,354.73,87.19\" style=\"stroke: #A80036; stroke-width: 1.0;\"/></a><!--MD5=[dc164f5e8a733ab456ef1add180e9e34]\n",
       "reverse link E7 to E8--><a href=\"psysml:8f87ba26-7a36-4a80-9ed1-e463a907c7c6\" target=\"_top\" title=\"psysml:8f87ba26-7a36-4a80-9ed1-e463a907c7c6\" xlink:actuate=\"onRequest\" xlink:href=\"psysml:8f87ba26-7a36-4a80-9ed1-e463a907c7c6\" xlink:show=\"new\" xlink:title=\"psysml:8f87ba26-7a36-4a80-9ed1-e463a907c7c6\" xlink:type=\"simple\"><path d=\"M352.67,208.29 C327.33,216.69 298.96,227.44 274.32,240 C231.96,261.6 187.65,294.33 160.26,315.93 \" fill=\"none\" id=\"E7&lt;-E8\" style=\"stroke: #A80036; stroke-width: 1.0;\"/><polygon fill=\"#FFFFFF\" points=\"365.22,204.24,358.2818,202.2749,353.7994,207.9236,360.7376,209.8887,365.22,204.24\" style=\"stroke: #A80036; stroke-width: 1.0;\"/><text fill=\"#000000\" font-family=\"sans-serif\" font-size=\"13\" lengthAdjust=\"spacingAndGlyphs\" textLength=\"8\" x=\"158.4251\" y=\"304.8075\">1</text></a><!--MD5=[f1f3f9f2fc535e6147756cb86a7f2e32]\n",
       "link E8 to E2--><a href=\"psysml:bdf7178e-b1d2-4aa0-b7b5-71013aa1f7a9\" target=\"_top\" title=\"psysml:bdf7178e-b1d2-4aa0-b7b5-71013aa1f7a9\" xlink:actuate=\"onRequest\" xlink:href=\"psysml:bdf7178e-b1d2-4aa0-b7b5-71013aa1f7a9\" xlink:show=\"new\" xlink:title=\"psysml:bdf7178e-b1d2-4aa0-b7b5-71013aa1f7a9\" xlink:type=\"simple\"><path d=\"M153.86,362.01 C166.19,375.22 182.2,392.38 196.46,407.65 \" fill=\"none\" id=\"E8-&gt;E2\" style=\"stroke: #A80036; stroke-width: 1.0;\"/><polygon fill=\"#FFFFFF\" points=\"210.47,422.66,192.3921,413.5393,202.6305,403.9907,210.47,422.66\" style=\"stroke: #A80036; stroke-width: 1.0;\"/><ellipse cx=\"189.9671\" cy=\"408.0067\" fill=\"#A80036\" rx=\"2\" ry=\"2\" style=\"stroke: #A80036; stroke-width: 1.0;\"/><ellipse cx=\"197.2802\" cy=\"401.1863\" fill=\"#A80036\" rx=\"2\" ry=\"2\" style=\"stroke: #A80036; stroke-width: 1.0;\"/></a><!--MD5=[9ae28de373ca99bb8a1b38d63370ca7e]\n",
       "reverse link E5 to E9--><a href=\"psysml:a1ab5fdf-7d24-4497-9ea2-3c4d95277eba\" target=\"_top\" title=\"psysml:a1ab5fdf-7d24-4497-9ea2-3c4d95277eba\" xlink:actuate=\"onRequest\" xlink:href=\"psysml:a1ab5fdf-7d24-4497-9ea2-3c4d95277eba\" xlink:show=\"new\" xlink:title=\"psysml:a1ab5fdf-7d24-4497-9ea2-3c4d95277eba\" xlink:type=\"simple\"><path d=\"M416.08,92.77 C447.78,108.48 481.27,131.61 499.32,164 C509.27,181.86 510.51,192.89 499.32,210 C490.86,222.92 478.41,232.65 464.71,239.97 \" fill=\"none\" id=\"E5&lt;-E9\" style=\"stroke: #A80036; stroke-width: 1.0;\"/><polygon fill=\"#FFFFFF\" points=\"404.06,87.11,407.7814,93.2867,414.9142,92.2272,411.1928,86.0505,404.06,87.11\" style=\"stroke: #A80036; stroke-width: 1.0;\"/><text fill=\"#000000\" font-family=\"sans-serif\" font-size=\"13\" lengthAdjust=\"spacingAndGlyphs\" textLength=\"8\" x=\"477.3099\" y=\"229.2386\">1</text></a><!--MD5=[5c3bb36fe832a92c7f0e1807dd65209d]\n",
       "link E9 to E2--><a href=\"psysml:9bedaae2-b2c6-4d70-8011-f34c154ea99f\" target=\"_top\" title=\"psysml:9bedaae2-b2c6-4d70-8011-f34c154ea99f\" xlink:actuate=\"onRequest\" xlink:href=\"psysml:9bedaae2-b2c6-4d70-8011-f34c154ea99f\" xlink:show=\"new\" xlink:title=\"psysml:9bedaae2-b2c6-4d70-8011-f34c154ea99f\" xlink:type=\"simple\"><path d=\"M291.19,285.15 C275.57,292.56 260.94,302.55 250.32,316 C231.17,340.25 227.04,375.32 227.36,402.77 \" fill=\"none\" id=\"E9-&gt;E2\" style=\"stroke: #A80036; stroke-width: 1.0;\"/><polygon fill=\"#FFFFFF\" points=\"228.36,422.81,220.4186,404.1838,234.4011,403.4837,228.36,422.81\" style=\"stroke: #A80036; stroke-width: 1.0;\"/><ellipse cx=\"222.131\" cy=\"398.3909\" fill=\"#A80036\" rx=\"2\" ry=\"2\" style=\"stroke: #A80036; stroke-width: 1.0;\"/><ellipse cx=\"232.1185\" cy=\"397.8909\" fill=\"#A80036\" rx=\"2\" ry=\"2\" style=\"stroke: #A80036; stroke-width: 1.0;\"/></a><!--MD5=[de9759ba927fa71ed84a412ffe703b06]\n",
       "@startuml\r\n",
       "skinparam wrapWidth 300\r\n",
       "hide circle\r\n",
       "\r\n",
       "package \"TradeStudyTest\" as E1  [[psysml:e59f1b4e-bf48-44e5-8b03-de7ba4c0da2b ]]  {\r\n",
       "comp def \"Engine\" as E2  <<(T,blue) part def>> [[psysml:8032ee8b-b45e-4aab-a334-ddc7f77ca09b ]] {\r\n",
       "}\r\n",
       "comp usage \"engine1: Engine\" as E3  <<(T,blue) part>> [[psysml:d1c59f8e-91b7-4873-9a7c-d548f1a74ff0 ]] {\r\n",
       "}\r\n",
       "comp usage \"engine2: Engine\" as E4  <<(T,blue) part>> [[psysml:b8b914f7-6e3e-418c-a7c7-b0f9195d6204 ]] {\r\n",
       "}\r\n",
       "comp usage \"engineTradeStudy: TradeStudy\" as E5 << analysis>> [[psysml:d010e11c-db6d-479b-b98e-aa7ac12f08dc ]] {\r\n",
       "}\r\n",
       "comp usage \"tradeStudyObjective: MaximizeObjective\" as E6  <<(T,blue) requirement>> [[psysml:baa50d6d-f728-4fdb-a3d8-0324d2e9c263 ]] {\r\n",
       "}\r\n",
       "comp usage \"objectiveFunction\" as E7  <<(T,blue) calculation>> [[psysml:c3bcbf7c-d2b8-4beb-b9e4-ef0b91eba9be ]] {\r\n",
       "}\r\n",
       "comp usage \"alternative: Engine\" as E8  <<(T,blue) part>> [[psysml:c18a795f-fd76-4ffb-a70d-e612388b917b ]] {\r\n",
       "}\r\n",
       "comp usage \"selectedAlternative: Engine\" as E9  <<(T,blue) part>> [[psysml:854815c3-8ae1-4c3d-a371-f12eec0f41ab ]] {\r\n",
       "}\r\n",
       "}\r\n",
       "E3 - -:|> E2 [[psysml:a477e10c-c644-4ab8-a0d7-73b747f4931b ]] \r\n",
       "E4 - -:|> E2 [[psysml:006a8138-edc7-4443-807d-fbbb291c6f87 ]] \r\n",
       "E5 ..> E2 [[psysml:0f7006cc-acd6-40d1-b198-a80e8f08765e ]] : <<subject>>\r\n",
       "E5 - ->> E6 [[psysml:33b70aea-82ec-44f7-8a12-3ec54376cb03 ]] : <<objective>>\r\n",
       "E5 *- - E7 [[psysml:9ca3a684-dbe3-4511-9e21-3cef746855e2 ]] \r\n",
       "E7 o- - \"1\"E8 [[psysml:8f87ba26-7a36-4a80-9ed1-e463a907c7c6 ]] \r\n",
       "E8 - -:|> E2 [[psysml:bdf7178e-b1d2-4aa0-b7b5-71013aa1f7a9 ]] \r\n",
       "E5 o- - \"1\"E9 [[psysml:a1ab5fdf-7d24-4497-9ea2-3c4d95277eba ]] \r\n",
       "E9 - -:|> E2 [[psysml:9bedaae2-b2c6-4d70-8011-f34c154ea99f ]] \r\n",
       "@enduml\r\n",
       "\n",
       "PlantUML version 1.2020.13(Sat Jun 13 12:26:38 UTC 2020)\n",
       "(EPL source distribution)\n",
       "Java Runtime: OpenJDK Runtime Environment\n",
       "JVM: OpenJDK 64-Bit Server VM\n",
       "Default Encoding: UTF-8\n",
       "Language: en\n",
       "Country: null\n",
       "--></g></svg>"
      ]
     },
     "execution_count": 29,
     "metadata": {},
     "output_type": "execute_result"
    }
   ],
   "source": [
    "%viz --style=\"STDCOLOR\" --view=\"MIXED\" \"TradeStudyTest\""
   ]
  },
  {
   "cell_type": "code",
   "execution_count": 30,
   "id": "f828d29a",
   "metadata": {
    "execution": {
     "iopub.execute_input": "2021-09-27T07:19:36.221030Z",
     "iopub.status.busy": "2021-09-27T07:19:36.220594Z",
     "iopub.status.idle": "2021-09-27T07:19:36.284656Z",
     "shell.execute_reply": "2021-09-27T07:19:36.284478Z"
    }
   },
   "outputs": [
    {
     "data": {
      "image/svg+xml": [
       "<?xml version=\"1.0\" encoding=\"UTF-8\" standalone=\"no\"?><svg xmlns=\"http://www.w3.org/2000/svg\" xmlns:xlink=\"http://www.w3.org/1999/xlink\" contentScriptType=\"application/ecmascript\" contentStyleType=\"text/css\" height=\"491px\" preserveAspectRatio=\"none\" style=\"width:636px;height:491px;\" version=\"1.1\" viewBox=\"0 0 636 491\" width=\"636px\" zoomAndPan=\"magnify\"><defs><filter height=\"300%\" id=\"fdd43nrxsqz0\" width=\"300%\" x=\"-1\" y=\"-1\"><feGaussianBlur result=\"blurOut\" stdDeviation=\"2.0\"/><feColorMatrix in=\"blurOut\" result=\"blurOut2\" type=\"matrix\" values=\"0 0 0 0 0 0 0 0 0 0 0 0 0 0 0 0 0 0 .4 0\"/><feOffset dx=\"4.0\" dy=\"4.0\" in=\"blurOut2\" result=\"blurOut3\"/><feBlend in=\"SourceGraphic\" in2=\"blurOut3\" mode=\"normal\"/></filter></defs><g><!--MD5=[fbc87193dbaf4d95561dea2c320d4a47]\n",
       "cluster E1--><a href=\"psysml:e59f1b4e-bf48-44e5-8b03-de7ba4c0da2b\" target=\"_top\" title=\"psysml:e59f1b4e-bf48-44e5-8b03-de7ba4c0da2b\" xlink:actuate=\"onRequest\" xlink:href=\"psysml:e59f1b4e-bf48-44e5-8b03-de7ba4c0da2b\" xlink:show=\"new\" xlink:title=\"psysml:e59f1b4e-bf48-44e5-8b03-de7ba4c0da2b\" xlink:type=\"simple\"><polygon fill=\"#FFFFFF\" filter=\"url(#fdd43nrxsqz0)\" points=\"20.2,6,136.2,6,143.2,28.2969,614.2,28.2969,614.2,479,20.2,479,20.2,6\" style=\"stroke: #000000; stroke-width: 1.5;\"/><line style=\"stroke: #000000; stroke-width: 1.5;\" x1=\"20.2\" x2=\"143.2\" y1=\"28.2969\" y2=\"28.2969\"/><text fill=\"#000000\" font-family=\"sans-serif\" font-size=\"14\" font-weight=\"bold\" lengthAdjust=\"spacingAndGlyphs\" textLength=\"110\" x=\"24.2\" y=\"20.9951\">TradeStudyTest</text></a><!--MD5=[b4997ac47864f28c2f74865a473b2911]\n",
       "class E2--><a href=\"psysml:8032ee8b-b45e-4aab-a334-ddc7f77ca09b\" target=\"_top\" title=\"psysml:8032ee8b-b45e-4aab-a334-ddc7f77ca09b\" xlink:actuate=\"onRequest\" xlink:href=\"psysml:8032ee8b-b45e-4aab-a334-ddc7f77ca09b\" xlink:show=\"new\" xlink:title=\"psysml:8032ee8b-b45e-4aab-a334-ddc7f77ca09b\" xlink:type=\"simple\"><rect fill=\"#FEFECE\" filter=\"url(#fdd43nrxsqz0)\" height=\"40\" id=\"E2\" style=\"stroke: #A80036; stroke-width: 1.5;\" width=\"75\" x=\"221.7\" y=\"423\"/><ellipse cx=\"236.7\" cy=\"439\" fill=\"#008000\" rx=\"11\" ry=\"11\" style=\"stroke: #A80036; stroke-width: 1.0;\"/><path d=\"M233.575,444 L233.575,433.4063 L236.8094,433.4063 Q238.7156,433.4063 239.6219,434.1563 Q240.5438,434.9063 240.5438,436.0781 Q240.5438,436.7656 240.1531,437.4219 Q239.7781,438.0781 239.0594,438.375 Q239.9188,438.75 240.4344,439.4375 Q240.95,440.125 240.95,440.9375 Q240.95,442.3125 239.9188,443.1563 Q238.9031,444 236.7938,444 L233.575,444 Z M235.4969,437.6406 L236.6531,437.6406 Q237.7781,437.6406 238.1844,437.2656 Q238.6063,436.875 238.6063,436.25 Q238.6063,435.6719 238.1844,435.3125 Q237.7625,434.9531 236.825,434.9531 L235.4969,434.9531 L235.4969,437.6406 Z M235.4969,442.4219 L236.9969,442.4219 Q237.9031,442.4219 238.4344,442.0313 Q238.9656,441.6406 238.9656,440.8906 Q238.9656,440.125 238.4656,439.6563 Q237.9656,439.1719 236.7,439.1719 L235.4969,439.1719 L235.4969,442.4219 Z \"/><text fill=\"#000000\" font-family=\"sans-serif\" font-size=\"12\" lengthAdjust=\"spacingAndGlyphs\" textLength=\"43\" x=\"250.7\" y=\"443.1543\">Engine</text><line style=\"stroke: #A80036; stroke-width: 1.5;\" x1=\"222.7\" x2=\"295.7\" y1=\"455\" y2=\"455\"/></a><!--MD5=[09b614a08d8cba4a07c9adeb5e0fee81]\n",
       "class E3--><a href=\"psysml:d1c59f8e-91b7-4873-9a7c-d548f1a74ff0\" target=\"_top\" title=\"psysml:d1c59f8e-91b7-4873-9a7c-d548f1a74ff0\" xlink:actuate=\"onRequest\" xlink:href=\"psysml:d1c59f8e-91b7-4873-9a7c-d548f1a74ff0\" xlink:show=\"new\" xlink:title=\"psysml:d1c59f8e-91b7-4873-9a7c-d548f1a74ff0\" xlink:type=\"simple\"><rect fill=\"#FEFECE\" filter=\"url(#fdd43nrxsqz0)\" height=\"45.9375\" id=\"E3\" rx=\"10\" ry=\"10\" style=\"stroke: #A80036; stroke-width: 1.5;\" width=\"134\" x=\"464.2\" y=\"316\"/><ellipse cx=\"479.2\" cy=\"334.9688\" fill=\"#32CD32\" rx=\"11\" ry=\"11\" style=\"stroke: #A80036; stroke-width: 1.0;\"/><path d=\"M476.0125,339.9688 L476.0125,329.375 L479.6219,329.375 Q480.8406,329.375 481.6375,329.8125 Q482.4344,330.2344 482.8094,330.9375 Q483.2,331.6406 483.2,332.4844 Q483.2,333.3281 482.825,334.0156 Q482.4656,334.7031 481.6688,335.125 Q480.8875,335.5313 479.7,335.5313 L477.9656,335.5313 L477.9656,339.9688 L476.0125,339.9688 Z M477.9656,333.9375 L479.575,333.9375 Q480.3875,333.9375 480.8094,333.5313 Q481.2313,333.125 481.2313,332.4844 Q481.2313,331.8594 480.8094,331.4531 Q480.3875,331.0469 479.5906,331.0469 L477.9656,331.0469 L477.9656,333.9375 Z \"/><text fill=\"#000000\" font-family=\"sans-serif\" font-size=\"12\" font-style=\"italic\" lengthAdjust=\"spacingAndGlyphs\" textLength=\"40\" x=\"524.2\" y=\"332.1387\">«part»</text><text fill=\"#000000\" font-family=\"sans-serif\" font-size=\"12\" lengthAdjust=\"spacingAndGlyphs\" textLength=\"102\" x=\"493.2\" y=\"346.1074\">engine1: Engine</text><line style=\"stroke: #A80036; stroke-width: 1.5;\" x1=\"465.2\" x2=\"597.2\" y1=\"353.9375\" y2=\"353.9375\"/></a><!--MD5=[ebbe1d658d1005bcc118a6aa81145e00]\n",
       "class E4--><a href=\"psysml:b8b914f7-6e3e-418c-a7c7-b0f9195d6204\" target=\"_top\" title=\"psysml:b8b914f7-6e3e-418c-a7c7-b0f9195d6204\" xlink:actuate=\"onRequest\" xlink:href=\"psysml:b8b914f7-6e3e-418c-a7c7-b0f9195d6204\" xlink:show=\"new\" xlink:title=\"psysml:b8b914f7-6e3e-418c-a7c7-b0f9195d6204\" xlink:type=\"simple\"><rect fill=\"#FEFECE\" filter=\"url(#fdd43nrxsqz0)\" height=\"45.9375\" id=\"E4\" rx=\"10\" ry=\"10\" style=\"stroke: #A80036; stroke-width: 1.5;\" width=\"134\" x=\"295.2\" y=\"316\"/><ellipse cx=\"310.2\" cy=\"334.9688\" fill=\"#32CD32\" rx=\"11\" ry=\"11\" style=\"stroke: #A80036; stroke-width: 1.0;\"/><path d=\"M307.0125,339.9688 L307.0125,329.375 L310.6219,329.375 Q311.8406,329.375 312.6375,329.8125 Q313.4344,330.2344 313.8094,330.9375 Q314.2,331.6406 314.2,332.4844 Q314.2,333.3281 313.825,334.0156 Q313.4656,334.7031 312.6688,335.125 Q311.8875,335.5313 310.7,335.5313 L308.9656,335.5313 L308.9656,339.9688 L307.0125,339.9688 Z M308.9656,333.9375 L310.575,333.9375 Q311.3875,333.9375 311.8094,333.5313 Q312.2313,333.125 312.2313,332.4844 Q312.2313,331.8594 311.8094,331.4531 Q311.3875,331.0469 310.5906,331.0469 L308.9656,331.0469 L308.9656,333.9375 Z \"/><text fill=\"#000000\" font-family=\"sans-serif\" font-size=\"12\" font-style=\"italic\" lengthAdjust=\"spacingAndGlyphs\" textLength=\"40\" x=\"355.2\" y=\"332.1387\">«part»</text><text fill=\"#000000\" font-family=\"sans-serif\" font-size=\"12\" lengthAdjust=\"spacingAndGlyphs\" textLength=\"102\" x=\"324.2\" y=\"346.1074\">engine2: Engine</text><line style=\"stroke: #A80036; stroke-width: 1.5;\" x1=\"296.2\" x2=\"428.2\" y1=\"353.9375\" y2=\"353.9375\"/></a><!--MD5=[270fce915f116d4de14055a7c1d9a0f3]\n",
       "class E5--><a href=\"psysml:d010e11c-db6d-479b-b98e-aa7ac12f08dc\" target=\"_top\" title=\"psysml:d010e11c-db6d-479b-b98e-aa7ac12f08dc\" xlink:actuate=\"onRequest\" xlink:href=\"psysml:d010e11c-db6d-479b-b98e-aa7ac12f08dc\" xlink:show=\"new\" xlink:title=\"psysml:d010e11c-db6d-479b-b98e-aa7ac12f08dc\" xlink:type=\"simple\"><rect fill=\"#FEFECE\" filter=\"url(#fdd43nrxsqz0)\" height=\"45.9375\" id=\"E5\" rx=\"10\" ry=\"10\" style=\"stroke: #A80036; stroke-width: 1.5;\" width=\"225\" x=\"283.7\" y=\"41\"/><ellipse cx=\"298.7\" cy=\"59.9688\" fill=\"#B6DBBB\" rx=\"11\" ry=\"11\" style=\"stroke: #A80036; stroke-width: 1.0;\"/><path d=\"M298.45,65.4375 Q296.7,65.4375 295.7469,64.4063 Q294.8094,63.3594 294.8094,61.5156 L294.8094,54.625 L296.8719,54.625 L296.8719,54.7813 Q296.7781,54.875 296.7469,55.0156 Q296.7313,55.1406 296.7313,55.4063 L296.7313,61.5313 Q296.7313,62.625 297.1063,63.25 Q297.4813,63.875 298.4656,63.875 Q299.45,63.875 299.8406,63.25 Q300.2313,62.625 300.2313,61.4844 L300.2313,54.625 L302.1063,54.625 L302.1063,61.4688 Q302.1063,63.5 301.075,64.4688 Q300.0594,65.4375 298.45,65.4375 Z \"/><text fill=\"#000000\" font-family=\"sans-serif\" font-size=\"12\" font-style=\"italic\" lengthAdjust=\"spacingAndGlyphs\" textLength=\"64\" x=\"377.2\" y=\"57.1387\">«analysis»</text><text fill=\"#000000\" font-family=\"sans-serif\" font-size=\"12\" lengthAdjust=\"spacingAndGlyphs\" textLength=\"193\" x=\"312.7\" y=\"71.1074\">engineTradeStudy: TradeStudy</text><line style=\"stroke: #A80036; stroke-width: 1.5;\" x1=\"284.7\" x2=\"507.7\" y1=\"78.9375\" y2=\"78.9375\"/></a><!--MD5=[60a26617385b1d2d0262a64233df1f8d]\n",
       "class E6--><a href=\"psysml:baa50d6d-f728-4fdb-a3d8-0324d2e9c263\" target=\"_top\" title=\"psysml:baa50d6d-f728-4fdb-a3d8-0324d2e9c263\" xlink:actuate=\"onRequest\" xlink:href=\"psysml:baa50d6d-f728-4fdb-a3d8-0324d2e9c263\" xlink:show=\"new\" xlink:title=\"psysml:baa50d6d-f728-4fdb-a3d8-0324d2e9c263\" xlink:type=\"simple\"><rect fill=\"#FEFECE\" filter=\"url(#fdd43nrxsqz0)\" height=\"45.9375\" id=\"E6\" rx=\"10\" ry=\"10\" style=\"stroke: #A80036; stroke-width: 1.5;\" width=\"277\" x=\"106.7\" y=\"164\"/><ellipse cx=\"121.7\" cy=\"182.9688\" fill=\"#FFA500\" rx=\"11\" ry=\"11\" style=\"stroke: #A80036; stroke-width: 1.0;\"/><path d=\"M121.45,188.4375 Q119.7,188.4375 118.7469,187.4063 Q117.8094,186.3594 117.8094,184.5156 L117.8094,177.625 L119.8719,177.625 L119.8719,177.7813 Q119.7781,177.875 119.7469,178.0156 Q119.7313,178.1406 119.7313,178.4063 L119.7313,184.5313 Q119.7313,185.625 120.1063,186.25 Q120.4813,186.875 121.4656,186.875 Q122.45,186.875 122.8406,186.25 Q123.2313,185.625 123.2313,184.4844 L123.2313,177.625 L125.1063,177.625 L125.1063,184.4688 Q125.1063,186.5 124.075,187.4688 Q123.0594,188.4375 121.45,188.4375 Z \"/><text fill=\"#000000\" font-family=\"sans-serif\" font-size=\"12\" font-style=\"italic\" lengthAdjust=\"spacingAndGlyphs\" textLength=\"91\" x=\"212.7\" y=\"180.1387\">«requirement»</text><text fill=\"#000000\" font-family=\"sans-serif\" font-size=\"12\" lengthAdjust=\"spacingAndGlyphs\" textLength=\"245\" x=\"135.7\" y=\"194.1074\">tradeStudyObjective: MaximizeObjective</text><line style=\"stroke: #A80036; stroke-width: 1.5;\" x1=\"107.7\" x2=\"382.7\" y1=\"201.9375\" y2=\"201.9375\"/></a><!--MD5=[2156ba9850f5573cc1fc38a6a4b2f02b]\n",
       "class E7--><a href=\"psysml:c3bcbf7c-d2b8-4beb-b9e4-ef0b91eba9be\" target=\"_top\" title=\"psysml:c3bcbf7c-d2b8-4beb-b9e4-ef0b91eba9be\" xlink:actuate=\"onRequest\" xlink:href=\"psysml:c3bcbf7c-d2b8-4beb-b9e4-ef0b91eba9be\" xlink:show=\"new\" xlink:title=\"psysml:c3bcbf7c-d2b8-4beb-b9e4-ef0b91eba9be\" xlink:type=\"simple\"><rect fill=\"#FEFECE\" filter=\"url(#fdd43nrxsqz0)\" height=\"45.9375\" id=\"E7\" rx=\"10\" ry=\"10\" style=\"stroke: #A80036; stroke-width: 1.5;\" width=\"142\" x=\"419.2\" y=\"164\"/><ellipse cx=\"434.2\" cy=\"182.9688\" fill=\"#FFA500\" rx=\"11\" ry=\"11\" style=\"stroke: #A80036; stroke-width: 1.0;\"/><path d=\"M433.95,188.4375 Q432.2,188.4375 431.2469,187.4063 Q430.3094,186.3594 430.3094,184.5156 L430.3094,177.625 L432.3719,177.625 L432.3719,177.7813 Q432.2781,177.875 432.2469,178.0156 Q432.2313,178.1406 432.2313,178.4063 L432.2313,184.5313 Q432.2313,185.625 432.6063,186.25 Q432.9813,186.875 433.9656,186.875 Q434.95,186.875 435.3406,186.25 Q435.7313,185.625 435.7313,184.4844 L435.7313,177.625 L437.6063,177.625 L437.6063,184.4688 Q437.6063,186.5 436.575,187.4688 Q435.5594,188.4375 433.95,188.4375 Z \"/><text fill=\"#000000\" font-family=\"sans-serif\" font-size=\"12\" font-style=\"italic\" lengthAdjust=\"spacingAndGlyphs\" textLength=\"82\" x=\"462.2\" y=\"180.1387\">«calculation»</text><text fill=\"#000000\" font-family=\"sans-serif\" font-size=\"12\" lengthAdjust=\"spacingAndGlyphs\" textLength=\"110\" x=\"448.2\" y=\"194.1074\">objectiveFunction</text><line style=\"stroke: #A80036; stroke-width: 1.5;\" x1=\"420.2\" x2=\"560.2\" y1=\"201.9375\" y2=\"201.9375\"/></a><!--MD5=[b9389687b975829384b498ac4b7476b2]\n",
       "class E8--><a href=\"psysml:c18a795f-fd76-4ffb-a70d-e612388b917b\" target=\"_top\" title=\"psysml:c18a795f-fd76-4ffb-a70d-e612388b917b\" xlink:actuate=\"onRequest\" xlink:href=\"psysml:c18a795f-fd76-4ffb-a70d-e612388b917b\" xlink:show=\"new\" xlink:title=\"psysml:c18a795f-fd76-4ffb-a70d-e612388b917b\" xlink:type=\"simple\"><rect fill=\"#FEFECE\" filter=\"url(#fdd43nrxsqz0)\" height=\"45.9375\" id=\"E8\" rx=\"10\" ry=\"10\" style=\"stroke: #A80036; stroke-width: 1.5;\" width=\"150\" x=\"73.2\" y=\"316\"/><ellipse cx=\"88.2\" cy=\"334.9688\" fill=\"#32CD32\" rx=\"11\" ry=\"11\" style=\"stroke: #A80036; stroke-width: 1.0;\"/><path d=\"M85.0125,339.9688 L85.0125,329.375 L88.6219,329.375 Q89.8406,329.375 90.6375,329.8125 Q91.4344,330.2344 91.8094,330.9375 Q92.2,331.6406 92.2,332.4844 Q92.2,333.3281 91.825,334.0156 Q91.4656,334.7031 90.6688,335.125 Q89.8875,335.5313 88.7,335.5313 L86.9656,335.5313 L86.9656,339.9688 L85.0125,339.9688 Z M86.9656,333.9375 L88.575,333.9375 Q89.3875,333.9375 89.8094,333.5313 Q90.2313,333.125 90.2313,332.4844 Q90.2313,331.8594 89.8094,331.4531 Q89.3875,331.0469 88.5906,331.0469 L86.9656,331.0469 L86.9656,333.9375 Z \"/><text fill=\"#000000\" font-family=\"sans-serif\" font-size=\"12\" font-style=\"italic\" lengthAdjust=\"spacingAndGlyphs\" textLength=\"40\" x=\"141.2\" y=\"332.1387\">«part»</text><text fill=\"#000000\" font-family=\"sans-serif\" font-size=\"12\" lengthAdjust=\"spacingAndGlyphs\" textLength=\"118\" x=\"102.2\" y=\"346.1074\">alternative: Engine</text><line style=\"stroke: #A80036; stroke-width: 1.5;\" x1=\"74.2\" x2=\"222.2\" y1=\"353.9375\" y2=\"353.9375\"/></a><!--MD5=[fd4143e9d270a159db93a4ea2a975926]\n",
       "class E9--><a href=\"psysml:854815c3-8ae1-4c3d-a371-f12eec0f41ab\" target=\"_top\" title=\"psysml:854815c3-8ae1-4c3d-a371-f12eec0f41ab\" xlink:actuate=\"onRequest\" xlink:href=\"psysml:854815c3-8ae1-4c3d-a371-f12eec0f41ab\" xlink:show=\"new\" xlink:title=\"psysml:854815c3-8ae1-4c3d-a371-f12eec0f41ab\" xlink:type=\"simple\"><rect fill=\"#FEFECE\" filter=\"url(#fdd43nrxsqz0)\" height=\"45.9375\" id=\"E9\" rx=\"10\" ry=\"10\" style=\"stroke: #A80036; stroke-width: 1.5;\" width=\"204\" x=\"275.2\" y=\"240\"/><ellipse cx=\"290.2\" cy=\"258.9688\" fill=\"#32CD32\" rx=\"11\" ry=\"11\" style=\"stroke: #A80036; stroke-width: 1.0;\"/><path d=\"M287.0125,263.9688 L287.0125,253.375 L290.6219,253.375 Q291.8406,253.375 292.6375,253.8125 Q293.4344,254.2344 293.8094,254.9375 Q294.2,255.6406 294.2,256.4844 Q294.2,257.3281 293.825,258.0156 Q293.4656,258.7031 292.6688,259.125 Q291.8875,259.5313 290.7,259.5313 L288.9656,259.5313 L288.9656,263.9688 L287.0125,263.9688 Z M288.9656,257.9375 L290.575,257.9375 Q291.3875,257.9375 291.8094,257.5313 Q292.2313,257.125 292.2313,256.4844 Q292.2313,255.8594 291.8094,255.4531 Q291.3875,255.0469 290.5906,255.0469 L288.9656,255.0469 L288.9656,257.9375 Z \"/><text fill=\"#000000\" font-family=\"sans-serif\" font-size=\"12\" font-style=\"italic\" lengthAdjust=\"spacingAndGlyphs\" textLength=\"40\" x=\"370.2\" y=\"256.1387\">«part»</text><text fill=\"#000000\" font-family=\"sans-serif\" font-size=\"12\" lengthAdjust=\"spacingAndGlyphs\" textLength=\"172\" x=\"304.2\" y=\"270.1074\">selectedAlternative: Engine</text><line style=\"stroke: #A80036; stroke-width: 1.5;\" x1=\"276.2\" x2=\"478.2\" y1=\"277.9375\" y2=\"277.9375\"/></a><!--MD5=[05d275557350bfb9b23a4ef7222b4c39]\n",
       "link E3 to E2--><a href=\"psysml:a477e10c-c644-4ab8-a0d7-73b747f4931b\" target=\"_top\" title=\"psysml:a477e10c-c644-4ab8-a0d7-73b747f4931b\" xlink:actuate=\"onRequest\" xlink:href=\"psysml:a477e10c-c644-4ab8-a0d7-73b747f4931b\" xlink:show=\"new\" xlink:title=\"psysml:a477e10c-c644-4ab8-a0d7-73b747f4931b\" xlink:type=\"simple\"><path d=\"M472.51,362.01 C426.12,379.4 361.76,403.54 315.9,420.74 \" fill=\"none\" id=\"E3-&gt;E2\" style=\"stroke: #A80036; stroke-width: 1.0;\"/><polygon fill=\"#FFFFFF\" points=\"296.87,427.87,312.2079,414.6508,317.1182,427.7614,296.87,427.87\" style=\"stroke: #A80036; stroke-width: 1.0;\"/><ellipse cx=\"318.2473\" cy=\"414.5245\" fill=\"#A80036\" rx=\"2\" ry=\"2\" style=\"stroke: #A80036; stroke-width: 1.0;\"/><ellipse cx=\"321.7546\" cy=\"423.8893\" fill=\"#A80036\" rx=\"2\" ry=\"2\" style=\"stroke: #A80036; stroke-width: 1.0;\"/></a><!--MD5=[185131fc0dcab0a4505a2ebe144e961b]\n",
       "link E4 to E2--><a href=\"psysml:006a8138-edc7-4443-807d-fbbb291c6f87\" target=\"_top\" title=\"psysml:006a8138-edc7-4443-807d-fbbb291c6f87\" xlink:actuate=\"onRequest\" xlink:href=\"psysml:006a8138-edc7-4443-807d-fbbb291c6f87\" xlink:show=\"new\" xlink:title=\"psysml:006a8138-edc7-4443-807d-fbbb291c6f87\" xlink:type=\"simple\"><path d=\"M339.85,362.13 C326.09,375.76 308.2,393.47 292.76,408.76 \" fill=\"none\" id=\"E4-&gt;E2\" style=\"stroke: #A80036; stroke-width: 1.0;\"/><polygon fill=\"#FFFFFF\" points=\"278.39,423,286.968,404.6583,296.8174,414.6077,278.39,423\" style=\"stroke: #A80036; stroke-width: 1.0;\"/><ellipse cx=\"292.4259\" cy=\"402.0695\" fill=\"#A80036\" rx=\"2\" ry=\"2\" style=\"stroke: #A80036; stroke-width: 1.0;\"/><ellipse cx=\"299.4612\" cy=\"409.1762\" fill=\"#A80036\" rx=\"2\" ry=\"2\" style=\"stroke: #A80036; stroke-width: 1.0;\"/></a><!--MD5=[15ebcb19ae302d9b601edb458606d402]\n",
       "link E5 to E2--><a href=\"psysml:0f7006cc-acd6-40d1-b198-a80e8f08765e\" target=\"_top\" title=\"psysml:0f7006cc-acd6-40d1-b198-a80e8f08765e\" xlink:actuate=\"onRequest\" xlink:href=\"psysml:0f7006cc-acd6-40d1-b198-a80e8f08765e\" xlink:show=\"new\" xlink:title=\"psysml:0f7006cc-acd6-40d1-b198-a80e8f08765e\" xlink:type=\"simple\"><path d=\"M283.33,73.88 C217.7,84.99 138.47,109.64 89.2,164 C29.29,230.1 6,288.25 56.2,362 C91.99,414.57 168.14,432.6 216.32,438.78 \" fill=\"none\" id=\"E5-&gt;E2\" style=\"stroke: #A80036; stroke-width: 1.0; stroke-dasharray: 7.0,7.0;\"/><polygon fill=\"#A80036\" points=\"221.48,439.41,213.0385,434.3365,216.5177,438.7968,212.0574,442.2761,221.48,439.41\" style=\"stroke: #A80036; stroke-width: 1.0;\"/><text fill=\"#000000\" font-family=\"sans-serif\" font-size=\"13\" lengthAdjust=\"spacingAndGlyphs\" textLength=\"62\" x=\"39.2\" y=\"267.5669\">«subject»</text></a><!--MD5=[9120cf2e5df3bff93db8f754bbbc09b4]\n",
       "link E5 to E6--><a href=\"psysml:33b70aea-82ec-44f7-8a12-3ec54376cb03\" target=\"_top\" title=\"psysml:33b70aea-82ec-44f7-8a12-3ec54376cb03\" xlink:actuate=\"onRequest\" xlink:href=\"psysml:33b70aea-82ec-44f7-8a12-3ec54376cb03\" xlink:show=\"new\" xlink:title=\"psysml:33b70aea-82ec-44f7-8a12-3ec54376cb03\" xlink:type=\"simple\"><path d=\"M368.5,87.19 C343.28,107.41 305.97,137.31 279,158.92 \" fill=\"none\" id=\"E5-&gt;E6\" style=\"stroke: #A80036; stroke-width: 1.0;\"/><polygon fill=\"#A80036\" points=\"272.72,163.95,280.8396,161.2905,277.0888,156.6074,272.72,163.95\" style=\"stroke: #A80036; stroke-width: 1.0;\"/><text fill=\"#000000\" font-family=\"sans-serif\" font-size=\"13\" lengthAdjust=\"spacingAndGlyphs\" textLength=\"73\" x=\"330.2\" y=\"130.0669\">«objective»</text></a><!--MD5=[452b418e7f8a40397a49b8c0a78acc5b]\n",
       "reverse link E5 to E7--><a href=\"psysml:9ca3a684-dbe3-4511-9e21-3cef746855e2\" target=\"_top\" title=\"psysml:9ca3a684-dbe3-4511-9e21-3cef746855e2\" xlink:actuate=\"onRequest\" xlink:href=\"psysml:9ca3a684-dbe3-4511-9e21-3cef746855e2\" xlink:show=\"new\" xlink:title=\"psysml:9ca3a684-dbe3-4511-9e21-3cef746855e2\" xlink:type=\"simple\"><path d=\"M421.52,97.59 C437.85,118.61 458.66,145.4 473.07,163.95 \" fill=\"none\" id=\"E5&lt;-E7\" style=\"stroke: #A80036; stroke-width: 1.0;\"/><polygon fill=\"#A80036\" points=\"413.44,87.19,413.9586,94.3824,420.7972,96.67,420.2786,89.4776,413.44,87.19\" style=\"stroke: #A80036; stroke-width: 1.0;\"/></a><!--MD5=[dc164f5e8a733ab456ef1add180e9e34]\n",
       "reverse link E7 to E8--><a href=\"psysml:8f87ba26-7a36-4a80-9ed1-e463a907c7c6\" target=\"_top\" title=\"psysml:8f87ba26-7a36-4a80-9ed1-e463a907c7c6\" xlink:actuate=\"onRequest\" xlink:href=\"psysml:8f87ba26-7a36-4a80-9ed1-e463a907c7c6\" xlink:show=\"new\" xlink:title=\"psysml:8f87ba26-7a36-4a80-9ed1-e463a907c7c6\" xlink:type=\"simple\"><path d=\"M406.09,208.88 C404.45,209.26 402.81,209.63 401.2,210 C337.89,224.46 316.18,210.75 258.2,240 C221.21,258.66 186.98,292.95 166.84,315.61 \" fill=\"none\" id=\"E7&lt;-E8\" style=\"stroke: #A80036; stroke-width: 1.0;\"/><polygon fill=\"#FFFFFF\" points=\"418.84,205.88,412.0846,203.3572,407.1576,208.6226,413.913,211.1454,418.84,205.88\" style=\"stroke: #A80036; stroke-width: 1.0;\"/><text fill=\"#000000\" font-family=\"sans-serif\" font-size=\"13\" lengthAdjust=\"spacingAndGlyphs\" textLength=\"8\" x=\"162.5915\" y=\"304.7864\">1</text></a><!--MD5=[f1f3f9f2fc535e6147756cb86a7f2e32]\n",
       "link E8 to E2--><a href=\"psysml:bdf7178e-b1d2-4aa0-b7b5-71013aa1f7a9\" target=\"_top\" title=\"psysml:bdf7178e-b1d2-4aa0-b7b5-71013aa1f7a9\" xlink:actuate=\"onRequest\" xlink:href=\"psysml:bdf7178e-b1d2-4aa0-b7b5-71013aa1f7a9\" xlink:show=\"new\" xlink:title=\"psysml:bdf7178e-b1d2-4aa0-b7b5-71013aa1f7a9\" xlink:type=\"simple\"><path d=\"M172.29,362.13 C187.26,375.9 206.8,393.84 223.55,409.24 \" fill=\"none\" id=\"E8-&gt;E2\" style=\"stroke: #A80036; stroke-width: 1.0;\"/><polygon fill=\"#FFFFFF\" points=\"238.52,423,219.7918,415.3024,229.2623,404.9918,238.52,423\" style=\"stroke: #A80036; stroke-width: 1.0;\"/><ellipse cx=\"216.9468\" cy=\"409.9736\" fill=\"#A80036\" rx=\"2\" ry=\"2\" style=\"stroke: #A80036; stroke-width: 1.0;\"/><ellipse cx=\"223.7115\" cy=\"402.6089\" fill=\"#A80036\" rx=\"2\" ry=\"2\" style=\"stroke: #A80036; stroke-width: 1.0;\"/></a><!--MD5=[9ae28de373ca99bb8a1b38d63370ca7e]\n",
       "reverse link E5 to E9--><a href=\"psysml:a1ab5fdf-7d24-4497-9ea2-3c4d95277eba\" target=\"_top\" title=\"psysml:a1ab5fdf-7d24-4497-9ea2-3c4d95277eba\" xlink:actuate=\"onRequest\" xlink:href=\"psysml:a1ab5fdf-7d24-4497-9ea2-3c4d95277eba\" xlink:show=\"new\" xlink:title=\"psysml:a1ab5fdf-7d24-4497-9ea2-3c4d95277eba\" xlink:type=\"simple\"><path d=\"M477.44,91.83 C542.71,117.79 617.64,160.42 579.2,210 C566.19,226.78 522.73,239.1 479.43,247.52 \" fill=\"none\" id=\"E5&lt;-E9\" style=\"stroke: #A80036; stroke-width: 1.0;\"/><polygon fill=\"#FFFFFF\" points=\"464.97,87.02,469.1253,92.9135,476.1637,91.3445,472.0083,85.451,464.97,87.02\" style=\"stroke: #A80036; stroke-width: 1.0;\"/><text fill=\"#000000\" font-family=\"sans-serif\" font-size=\"13\" lengthAdjust=\"spacingAndGlyphs\" textLength=\"8\" x=\"487.2313\" y=\"242.9065\">1</text></a><!--MD5=[5c3bb36fe832a92c7f0e1807dd65209d]\n",
       "link E9 to E2--><a href=\"psysml:9bedaae2-b2c6-4d70-8011-f34c154ea99f\" target=\"_top\" title=\"psysml:9bedaae2-b2c6-4d70-8011-f34c154ea99f\" xlink:actuate=\"onRequest\" xlink:href=\"psysml:9bedaae2-b2c6-4d70-8011-f34c154ea99f\" xlink:show=\"new\" xlink:title=\"psysml:9bedaae2-b2c6-4d70-8011-f34c154ea99f\" xlink:type=\"simple\"><path d=\"M313.67,286.14 C300.09,293.64 287.15,303.42 278.2,316 C260.36,341.07 256.3,376.08 256.31,402.84 \" fill=\"none\" id=\"E9-&gt;E2\" style=\"stroke: #A80036; stroke-width: 1.0;\"/><polygon fill=\"#FFFFFF\" points=\"257.06,422.97,249.3591,404.2431,263.3494,403.7231,257.06,422.97\" style=\"stroke: #A80036; stroke-width: 1.0;\"/><ellipse cx=\"251.146\" cy=\"398.4728\" fill=\"#A80036\" rx=\"2\" ry=\"2\" style=\"stroke: #A80036; stroke-width: 1.0;\"/><ellipse cx=\"261.1391\" cy=\"398.1013\" fill=\"#A80036\" rx=\"2\" ry=\"2\" style=\"stroke: #A80036; stroke-width: 1.0;\"/></a><!--MD5=[82296c14831af6a1868071c6227584b6]\n",
       "@startuml\r\n",
       " \r\n",
       "package \"TradeStudyTest\" as E1  [[psysml:e59f1b4e-bf48-44e5-8b03-de7ba4c0da2b ]]  {\r\n",
       "comp def \"Engine\" as E2 << << (B,green) >> [[psysml:8032ee8b-b45e-4aab-a334-ddc7f77ca09b ]] {\r\n",
       "}\r\n",
       "comp usage \"engine1: Engine\" as E3 << << (P,limegreen) part>> [[psysml:d1c59f8e-91b7-4873-9a7c-d548f1a74ff0 ]] {\r\n",
       "}\r\n",
       "comp usage \"engine2: Engine\" as E4 << << (P,limegreen) part>> [[psysml:b8b914f7-6e3e-418c-a7c7-b0f9195d6204 ]] {\r\n",
       "}\r\n",
       "comp usage \"engineTradeStudy: TradeStudy\" as E5 << analysis>> [[psysml:d010e11c-db6d-479b-b98e-aa7ac12f08dc ]] {\r\n",
       "}\r\n",
       "comp usage \"tradeStudyObjective: MaximizeObjective\" as E6 << <<(U,orange) requirement>> [[psysml:baa50d6d-f728-4fdb-a3d8-0324d2e9c263 ]] {\r\n",
       "}\r\n",
       "comp usage \"objectiveFunction\" as E7 << <<(U,orange) calculation>> [[psysml:c3bcbf7c-d2b8-4beb-b9e4-ef0b91eba9be ]] {\r\n",
       "}\r\n",
       "comp usage \"alternative: Engine\" as E8 << << (P,limegreen) part>> [[psysml:c18a795f-fd76-4ffb-a70d-e612388b917b ]] {\r\n",
       "}\r\n",
       "comp usage \"selectedAlternative: Engine\" as E9 << << (P,limegreen) part>> [[psysml:854815c3-8ae1-4c3d-a371-f12eec0f41ab ]] {\r\n",
       "}\r\n",
       "}\r\n",
       "E3 - -:|> E2 [[psysml:a477e10c-c644-4ab8-a0d7-73b747f4931b ]] \r\n",
       "E4 - -:|> E2 [[psysml:006a8138-edc7-4443-807d-fbbb291c6f87 ]] \r\n",
       "E5 ..> E2 [[psysml:0f7006cc-acd6-40d1-b198-a80e8f08765e ]] : <<subject>>\r\n",
       "E5 - ->> E6 [[psysml:33b70aea-82ec-44f7-8a12-3ec54376cb03 ]] : <<objective>>\r\n",
       "E5 *- - E7 [[psysml:9ca3a684-dbe3-4511-9e21-3cef746855e2 ]] \r\n",
       "E7 o- - \"1\"E8 [[psysml:8f87ba26-7a36-4a80-9ed1-e463a907c7c6 ]] \r\n",
       "E8 - -:|> E2 [[psysml:bdf7178e-b1d2-4aa0-b7b5-71013aa1f7a9 ]] \r\n",
       "E5 o- - \"1\"E9 [[psysml:a1ab5fdf-7d24-4497-9ea2-3c4d95277eba ]] \r\n",
       "E9 - -:|> E2 [[psysml:9bedaae2-b2c6-4d70-8011-f34c154ea99f ]] \r\n",
       "@enduml\r\n",
       "\n",
       "PlantUML version 1.2020.13(Sat Jun 13 12:26:38 UTC 2020)\n",
       "(EPL source distribution)\n",
       "Java Runtime: OpenJDK Runtime Environment\n",
       "JVM: OpenJDK 64-Bit Server VM\n",
       "Default Encoding: UTF-8\n",
       "Language: en\n",
       "Country: null\n",
       "--></g></svg>"
      ]
     },
     "execution_count": 30,
     "metadata": {},
     "output_type": "execute_result"
    }
   ],
   "source": [
    "%viz --style=\"PLANTUML\" --view=\"Default\" \"TradeStudyTest\""
   ]
  },
  {
   "cell_type": "code",
   "execution_count": 31,
   "id": "43db3fcf",
   "metadata": {
    "execution": {
     "iopub.execute_input": "2021-09-27T07:19:36.334611Z",
     "iopub.status.busy": "2021-09-27T07:19:36.334410Z",
     "iopub.status.idle": "2021-09-27T07:19:36.367942Z",
     "shell.execute_reply": "2021-09-27T07:19:36.367767Z"
    }
   },
   "outputs": [
    {
     "data": {
      "image/svg+xml": [
       "<?xml version=\"1.0\" encoding=\"UTF-8\" standalone=\"no\"?><svg xmlns=\"http://www.w3.org/2000/svg\" xmlns:xlink=\"http://www.w3.org/1999/xlink\" contentScriptType=\"application/ecmascript\" contentStyleType=\"text/css\" height=\"339px\" preserveAspectRatio=\"none\" style=\"width:1059px;height:339px;\" version=\"1.1\" viewBox=\"0 0 1059 339\" width=\"1059px\" zoomAndPan=\"magnify\"><defs><filter height=\"300%\" id=\"f9m5ujsd6akqe\" width=\"300%\" x=\"-1\" y=\"-1\"><feGaussianBlur result=\"blurOut\" stdDeviation=\"2.0\"/><feColorMatrix in=\"blurOut\" result=\"blurOut2\" type=\"matrix\" values=\"0 0 0 0 0 0 0 0 0 0 0 0 0 0 0 0 0 0 .4 0\"/><feOffset dx=\"4.0\" dy=\"4.0\" in=\"blurOut2\" result=\"blurOut3\"/><feBlend in=\"SourceGraphic\" in2=\"blurOut3\" mode=\"normal\"/></filter></defs><g><!--MD5=[fbc87193dbaf4d95561dea2c320d4a47]\n",
       "cluster E1--><a href=\"psysml:e59f1b4e-bf48-44e5-8b03-de7ba4c0da2b\" target=\"_top\" title=\"psysml:e59f1b4e-bf48-44e5-8b03-de7ba4c0da2b\" xlink:actuate=\"onRequest\" xlink:href=\"psysml:e59f1b4e-bf48-44e5-8b03-de7ba4c0da2b\" xlink:show=\"new\" xlink:title=\"psysml:e59f1b4e-bf48-44e5-8b03-de7ba4c0da2b\" xlink:type=\"simple\"><polygon fill=\"#FFFFFF\" filter=\"url(#f9m5ujsd6akqe)\" points=\"16,6,132,6,139,28.2969,1037,28.2969,1037,327,16,327,16,6\" style=\"stroke: #000000; stroke-width: 1.5;\"/><line style=\"stroke: #000000; stroke-width: 1.5;\" x1=\"16\" x2=\"139\" y1=\"28.2969\" y2=\"28.2969\"/><text fill=\"#000000\" font-family=\"sans-serif\" font-size=\"14\" font-weight=\"bold\" lengthAdjust=\"spacingAndGlyphs\" textLength=\"110\" x=\"20\" y=\"20.9951\">TradeStudyTest</text></a><!--MD5=[b4997ac47864f28c2f74865a473b2911]\n",
       "class E2--><a href=\"psysml:8032ee8b-b45e-4aab-a334-ddc7f77ca09b\" target=\"_top\" title=\"psysml:8032ee8b-b45e-4aab-a334-ddc7f77ca09b\" xlink:actuate=\"onRequest\" xlink:href=\"psysml:8032ee8b-b45e-4aab-a334-ddc7f77ca09b\" xlink:show=\"new\" xlink:title=\"psysml:8032ee8b-b45e-4aab-a334-ddc7f77ca09b\" xlink:type=\"simple\"><rect fill=\"#FEFECE\" filter=\"url(#f9m5ujsd6akqe)\" height=\"40\" id=\"E2\" style=\"stroke: #A80036; stroke-width: 1.5;\" width=\"75\" x=\"645.5\" y=\"271\"/><ellipse cx=\"660.5\" cy=\"287\" fill=\"#008000\" rx=\"11\" ry=\"11\" style=\"stroke: #A80036; stroke-width: 1.0;\"/><path d=\"M657.375,292 L657.375,281.4063 L660.6094,281.4063 Q662.5156,281.4063 663.4219,282.1563 Q664.3438,282.9063 664.3438,284.0781 Q664.3438,284.7656 663.9531,285.4219 Q663.5781,286.0781 662.8594,286.375 Q663.7188,286.75 664.2344,287.4375 Q664.75,288.125 664.75,288.9375 Q664.75,290.3125 663.7188,291.1563 Q662.7031,292 660.5938,292 L657.375,292 Z M659.2969,285.6406 L660.4531,285.6406 Q661.5781,285.6406 661.9844,285.2656 Q662.4063,284.875 662.4063,284.25 Q662.4063,283.6719 661.9844,283.3125 Q661.5625,282.9531 660.625,282.9531 L659.2969,282.9531 L659.2969,285.6406 Z M659.2969,290.4219 L660.7969,290.4219 Q661.7031,290.4219 662.2344,290.0313 Q662.7656,289.6406 662.7656,288.8906 Q662.7656,288.125 662.2656,287.6563 Q661.7656,287.1719 660.5,287.1719 L659.2969,287.1719 L659.2969,290.4219 Z \"/><text fill=\"#000000\" font-family=\"sans-serif\" font-size=\"12\" lengthAdjust=\"spacingAndGlyphs\" textLength=\"43\" x=\"674.5\" y=\"291.1543\">Engine</text><line style=\"stroke: #A80036; stroke-width: 1.5;\" x1=\"646.5\" x2=\"719.5\" y1=\"303\" y2=\"303\"/></a><!--MD5=[09b614a08d8cba4a07c9adeb5e0fee81]\n",
       "class E3--><a href=\"psysml:d1c59f8e-91b7-4873-9a7c-d548f1a74ff0\" target=\"_top\" title=\"psysml:d1c59f8e-91b7-4873-9a7c-d548f1a74ff0\" xlink:actuate=\"onRequest\" xlink:href=\"psysml:d1c59f8e-91b7-4873-9a7c-d548f1a74ff0\" xlink:show=\"new\" xlink:title=\"psysml:d1c59f8e-91b7-4873-9a7c-d548f1a74ff0\" xlink:type=\"simple\"><rect fill=\"#FEFECE\" filter=\"url(#f9m5ujsd6akqe)\" height=\"45.9375\" id=\"E3\" rx=\"10\" ry=\"10\" style=\"stroke: #A80036; stroke-width: 1.5;\" width=\"134\" x=\"887\" y=\"164\"/><ellipse cx=\"902\" cy=\"182.9688\" fill=\"#32CD32\" rx=\"11\" ry=\"11\" style=\"stroke: #A80036; stroke-width: 1.0;\"/><path d=\"M898.8125,187.9688 L898.8125,177.375 L902.4219,177.375 Q903.6406,177.375 904.4375,177.8125 Q905.2344,178.2344 905.6094,178.9375 Q906,179.6406 906,180.4844 Q906,181.3281 905.625,182.0156 Q905.2656,182.7031 904.4688,183.125 Q903.6875,183.5313 902.5,183.5313 L900.7656,183.5313 L900.7656,187.9688 L898.8125,187.9688 Z M900.7656,181.9375 L902.375,181.9375 Q903.1875,181.9375 903.6094,181.5313 Q904.0313,181.125 904.0313,180.4844 Q904.0313,179.8594 903.6094,179.4531 Q903.1875,179.0469 902.3906,179.0469 L900.7656,179.0469 L900.7656,181.9375 Z \"/><text fill=\"#000000\" font-family=\"sans-serif\" font-size=\"12\" font-style=\"italic\" lengthAdjust=\"spacingAndGlyphs\" textLength=\"40\" x=\"947\" y=\"180.1387\">«part»</text><text fill=\"#000000\" font-family=\"sans-serif\" font-size=\"12\" lengthAdjust=\"spacingAndGlyphs\" textLength=\"102\" x=\"916\" y=\"194.1074\">engine1: Engine</text><line style=\"stroke: #A80036; stroke-width: 1.5;\" x1=\"888\" x2=\"1020\" y1=\"201.9375\" y2=\"201.9375\"/></a><!--MD5=[ebbe1d658d1005bcc118a6aa81145e00]\n",
       "class E4--><a href=\"psysml:b8b914f7-6e3e-418c-a7c7-b0f9195d6204\" target=\"_top\" title=\"psysml:b8b914f7-6e3e-418c-a7c7-b0f9195d6204\" xlink:actuate=\"onRequest\" xlink:href=\"psysml:b8b914f7-6e3e-418c-a7c7-b0f9195d6204\" xlink:show=\"new\" xlink:title=\"psysml:b8b914f7-6e3e-418c-a7c7-b0f9195d6204\" xlink:type=\"simple\"><rect fill=\"#FEFECE\" filter=\"url(#f9m5ujsd6akqe)\" height=\"45.9375\" id=\"E4\" rx=\"10\" ry=\"10\" style=\"stroke: #A80036; stroke-width: 1.5;\" width=\"134\" x=\"718\" y=\"164\"/><ellipse cx=\"733\" cy=\"182.9688\" fill=\"#32CD32\" rx=\"11\" ry=\"11\" style=\"stroke: #A80036; stroke-width: 1.0;\"/><path d=\"M729.8125,187.9688 L729.8125,177.375 L733.4219,177.375 Q734.6406,177.375 735.4375,177.8125 Q736.2344,178.2344 736.6094,178.9375 Q737,179.6406 737,180.4844 Q737,181.3281 736.625,182.0156 Q736.2656,182.7031 735.4688,183.125 Q734.6875,183.5313 733.5,183.5313 L731.7656,183.5313 L731.7656,187.9688 L729.8125,187.9688 Z M731.7656,181.9375 L733.375,181.9375 Q734.1875,181.9375 734.6094,181.5313 Q735.0313,181.125 735.0313,180.4844 Q735.0313,179.8594 734.6094,179.4531 Q734.1875,179.0469 733.3906,179.0469 L731.7656,179.0469 L731.7656,181.9375 Z \"/><text fill=\"#000000\" font-family=\"sans-serif\" font-size=\"12\" font-style=\"italic\" lengthAdjust=\"spacingAndGlyphs\" textLength=\"40\" x=\"778\" y=\"180.1387\">«part»</text><text fill=\"#000000\" font-family=\"sans-serif\" font-size=\"12\" lengthAdjust=\"spacingAndGlyphs\" textLength=\"102\" x=\"747\" y=\"194.1074\">engine2: Engine</text><line style=\"stroke: #A80036; stroke-width: 1.5;\" x1=\"719\" x2=\"851\" y1=\"201.9375\" y2=\"201.9375\"/></a><!--MD5=[270fce915f116d4de14055a7c1d9a0f3]\n",
       "class E5--><a href=\"psysml:d010e11c-db6d-479b-b98e-aa7ac12f08dc\" target=\"_top\" title=\"psysml:d010e11c-db6d-479b-b98e-aa7ac12f08dc\" xlink:actuate=\"onRequest\" xlink:href=\"psysml:d010e11c-db6d-479b-b98e-aa7ac12f08dc\" xlink:show=\"new\" xlink:title=\"psysml:d010e11c-db6d-479b-b98e-aa7ac12f08dc\" xlink:type=\"simple\"><rect fill=\"#FEFECE\" filter=\"url(#f9m5ujsd6akqe)\" height=\"45.9375\" id=\"E5\" rx=\"10\" ry=\"10\" style=\"stroke: #A80036; stroke-width: 1.5;\" width=\"225\" x=\"192.5\" y=\"41\"/><ellipse cx=\"207.5\" cy=\"59.9688\" fill=\"#B6DBBB\" rx=\"11\" ry=\"11\" style=\"stroke: #A80036; stroke-width: 1.0;\"/><path d=\"M207.25,65.4375 Q205.5,65.4375 204.5469,64.4063 Q203.6094,63.3594 203.6094,61.5156 L203.6094,54.625 L205.6719,54.625 L205.6719,54.7813 Q205.5781,54.875 205.5469,55.0156 Q205.5313,55.1406 205.5313,55.4063 L205.5313,61.5313 Q205.5313,62.625 205.9063,63.25 Q206.2813,63.875 207.2656,63.875 Q208.25,63.875 208.6406,63.25 Q209.0313,62.625 209.0313,61.4844 L209.0313,54.625 L210.9063,54.625 L210.9063,61.4688 Q210.9063,63.5 209.875,64.4688 Q208.8594,65.4375 207.25,65.4375 Z \"/><text fill=\"#000000\" font-family=\"sans-serif\" font-size=\"12\" font-style=\"italic\" lengthAdjust=\"spacingAndGlyphs\" textLength=\"64\" x=\"286\" y=\"57.1387\">«analysis»</text><text fill=\"#000000\" font-family=\"sans-serif\" font-size=\"12\" lengthAdjust=\"spacingAndGlyphs\" textLength=\"193\" x=\"221.5\" y=\"71.1074\">engineTradeStudy: TradeStudy</text><line style=\"stroke: #A80036; stroke-width: 1.5;\" x1=\"193.5\" x2=\"416.5\" y1=\"78.9375\" y2=\"78.9375\"/></a><!--MD5=[60a26617385b1d2d0262a64233df1f8d]\n",
       "class E6--><a href=\"psysml:baa50d6d-f728-4fdb-a3d8-0324d2e9c263\" target=\"_top\" title=\"psysml:baa50d6d-f728-4fdb-a3d8-0324d2e9c263\" xlink:actuate=\"onRequest\" xlink:href=\"psysml:baa50d6d-f728-4fdb-a3d8-0324d2e9c263\" xlink:show=\"new\" xlink:title=\"psysml:baa50d6d-f728-4fdb-a3d8-0324d2e9c263\" xlink:type=\"simple\"><rect fill=\"#FEFECE\" filter=\"url(#f9m5ujsd6akqe)\" height=\"45.9375\" id=\"E6\" rx=\"10\" ry=\"10\" style=\"stroke: #A80036; stroke-width: 1.5;\" width=\"277\" x=\"166.5\" y=\"164\"/><ellipse cx=\"181.5\" cy=\"182.9688\" fill=\"#FFA500\" rx=\"11\" ry=\"11\" style=\"stroke: #A80036; stroke-width: 1.0;\"/><path d=\"M181.25,188.4375 Q179.5,188.4375 178.5469,187.4063 Q177.6094,186.3594 177.6094,184.5156 L177.6094,177.625 L179.6719,177.625 L179.6719,177.7813 Q179.5781,177.875 179.5469,178.0156 Q179.5313,178.1406 179.5313,178.4063 L179.5313,184.5313 Q179.5313,185.625 179.9063,186.25 Q180.2813,186.875 181.2656,186.875 Q182.25,186.875 182.6406,186.25 Q183.0313,185.625 183.0313,184.4844 L183.0313,177.625 L184.9063,177.625 L184.9063,184.4688 Q184.9063,186.5 183.875,187.4688 Q182.8594,188.4375 181.25,188.4375 Z \"/><text fill=\"#000000\" font-family=\"sans-serif\" font-size=\"12\" font-style=\"italic\" lengthAdjust=\"spacingAndGlyphs\" textLength=\"91\" x=\"272.5\" y=\"180.1387\">«requirement»</text><text fill=\"#000000\" font-family=\"sans-serif\" font-size=\"12\" lengthAdjust=\"spacingAndGlyphs\" textLength=\"245\" x=\"195.5\" y=\"194.1074\">tradeStudyObjective: MaximizeObjective</text><line style=\"stroke: #A80036; stroke-width: 1.5;\" x1=\"167.5\" x2=\"442.5\" y1=\"201.9375\" y2=\"201.9375\"/></a><!--MD5=[2156ba9850f5573cc1fc38a6a4b2f02b]\n",
       "class E7--><a href=\"psysml:854815c3-8ae1-4c3d-a371-f12eec0f41ab\" target=\"_top\" title=\"psysml:854815c3-8ae1-4c3d-a371-f12eec0f41ab\" xlink:actuate=\"onRequest\" xlink:href=\"psysml:854815c3-8ae1-4c3d-a371-f12eec0f41ab\" xlink:show=\"new\" xlink:title=\"psysml:854815c3-8ae1-4c3d-a371-f12eec0f41ab\" xlink:type=\"simple\"><rect fill=\"#FEFECE\" filter=\"url(#f9m5ujsd6akqe)\" height=\"45.9375\" id=\"E7\" rx=\"10\" ry=\"10\" style=\"stroke: #A80036; stroke-width: 1.5;\" width=\"204\" x=\"479\" y=\"164\"/><ellipse cx=\"494\" cy=\"182.9688\" fill=\"#32CD32\" rx=\"11\" ry=\"11\" style=\"stroke: #A80036; stroke-width: 1.0;\"/><path d=\"M490.8125,187.9688 L490.8125,177.375 L494.4219,177.375 Q495.6406,177.375 496.4375,177.8125 Q497.2344,178.2344 497.6094,178.9375 Q498,179.6406 498,180.4844 Q498,181.3281 497.625,182.0156 Q497.2656,182.7031 496.4688,183.125 Q495.6875,183.5313 494.5,183.5313 L492.7656,183.5313 L492.7656,187.9688 L490.8125,187.9688 Z M492.7656,181.9375 L494.375,181.9375 Q495.1875,181.9375 495.6094,181.5313 Q496.0313,181.125 496.0313,180.4844 Q496.0313,179.8594 495.6094,179.4531 Q495.1875,179.0469 494.3906,179.0469 L492.7656,179.0469 L492.7656,181.9375 Z \"/><text fill=\"#000000\" font-family=\"sans-serif\" font-size=\"12\" font-style=\"italic\" lengthAdjust=\"spacingAndGlyphs\" textLength=\"40\" x=\"574\" y=\"180.1387\">«part»</text><text fill=\"#000000\" font-family=\"sans-serif\" font-size=\"12\" lengthAdjust=\"spacingAndGlyphs\" textLength=\"172\" x=\"508\" y=\"194.1074\">selectedAlternative: Engine</text><line style=\"stroke: #A80036; stroke-width: 1.5;\" x1=\"480\" x2=\"682\" y1=\"201.9375\" y2=\"201.9375\"/></a><!--MD5=[05d275557350bfb9b23a4ef7222b4c39]\n",
       "link E3 to E2--><a href=\"psysml:a477e10c-c644-4ab8-a0d7-73b747f4931b\" target=\"_top\" title=\"psysml:a477e10c-c644-4ab8-a0d7-73b747f4931b\" xlink:actuate=\"onRequest\" xlink:href=\"psysml:a477e10c-c644-4ab8-a0d7-73b747f4931b\" xlink:show=\"new\" xlink:title=\"psysml:a477e10c-c644-4ab8-a0d7-73b747f4931b\" xlink:type=\"simple\"><path d=\"M895.53,210.01 C849.31,227.4 785.19,251.54 739.49,268.74 \" fill=\"none\" id=\"E3-&gt;E2\" style=\"stroke: #A80036; stroke-width: 1.0;\"/><polygon fill=\"#FFFFFF\" points=\"720.53,275.87,735.8469,262.6264,740.778,275.7293,720.53,275.87\" style=\"stroke: #A80036; stroke-width: 1.0;\"/><ellipse cx=\"741.8861\" cy=\"262.4906\" fill=\"#A80036\" rx=\"2\" ry=\"2\" style=\"stroke: #A80036; stroke-width: 1.0;\"/><ellipse cx=\"745.4083\" cy=\"271.8498\" fill=\"#A80036\" rx=\"2\" ry=\"2\" style=\"stroke: #A80036; stroke-width: 1.0;\"/></a><!--MD5=[185131fc0dcab0a4505a2ebe144e961b]\n",
       "link E4 to E2--><a href=\"psysml:006a8138-edc7-4443-807d-fbbb291c6f87\" target=\"_top\" title=\"psysml:006a8138-edc7-4443-807d-fbbb291c6f87\" xlink:actuate=\"onRequest\" xlink:href=\"psysml:006a8138-edc7-4443-807d-fbbb291c6f87\" xlink:show=\"new\" xlink:title=\"psysml:006a8138-edc7-4443-807d-fbbb291c6f87\" xlink:type=\"simple\"><path d=\"M762.87,210.13 C749.24,223.76 731.53,241.47 716.24,256.76 \" fill=\"none\" id=\"E4-&gt;E2\" style=\"stroke: #A80036; stroke-width: 1.0;\"/><polygon fill=\"#FFFFFF\" points=\"702,271,710.4853,252.6152,720.3848,262.5147,702,271\" style=\"stroke: #A80036; stroke-width: 1.0;\"/><ellipse cx=\"715.93\" cy=\"249.9989\" fill=\"#A80036\" rx=\"2\" ry=\"2\" style=\"stroke: #A80036; stroke-width: 1.0;\"/><ellipse cx=\"723.0011\" cy=\"257.07\" fill=\"#A80036\" rx=\"2\" ry=\"2\" style=\"stroke: #A80036; stroke-width: 1.0;\"/></a><!--MD5=[15ebcb19ae302d9b601edb458606d402]\n",
       "link E5 to E2--><a href=\"psysml:0f7006cc-acd6-40d1-b198-a80e8f08765e\" target=\"_top\" title=\"psysml:0f7006cc-acd6-40d1-b198-a80e8f08765e\" xlink:actuate=\"onRequest\" xlink:href=\"psysml:0f7006cc-acd6-40d1-b198-a80e8f08765e\" xlink:show=\"new\" xlink:title=\"psysml:0f7006cc-acd6-40d1-b198-a80e8f08765e\" xlink:type=\"simple\"><path d=\"M216.93,87.07 C136.33,111.38 36.42,154.49 85,210 C121.61,251.84 508.79,279.3 639.89,287.46 \" fill=\"none\" id=\"E5-&gt;E2\" style=\"stroke: #A80036; stroke-width: 1.0; stroke-dasharray: 7.0,7.0;\"/><polygon fill=\"#A80036\" points=\"645.19,287.79,636.4587,283.2333,640.1998,287.4763,635.9568,291.2175,645.19,287.79\" style=\"stroke: #A80036; stroke-width: 1.0;\"/><text fill=\"#000000\" font-family=\"sans-serif\" font-size=\"13\" lengthAdjust=\"spacingAndGlyphs\" textLength=\"62\" x=\"86\" y=\"191.5669\">«subject»</text></a><!--MD5=[9120cf2e5df3bff93db8f754bbbc09b4]\n",
       "link E5 to E6--><a href=\"psysml:33b70aea-82ec-44f7-8a12-3ec54376cb03\" target=\"_top\" title=\"psysml:33b70aea-82ec-44f7-8a12-3ec54376cb03\" xlink:actuate=\"onRequest\" xlink:href=\"psysml:33b70aea-82ec-44f7-8a12-3ec54376cb03\" xlink:show=\"new\" xlink:title=\"psysml:33b70aea-82ec-44f7-8a12-3ec54376cb03\" xlink:type=\"simple\"><path d=\"M305,87.19 C305,106.47 305,134.55 305,155.86 \" fill=\"none\" id=\"E5-&gt;E6\" style=\"stroke: #A80036; stroke-width: 1.0;\"/><polygon fill=\"#A80036\" points=\"305,163.95,308,155.95,302,155.95,305,163.95\" style=\"stroke: #A80036; stroke-width: 1.0;\"/><text fill=\"#000000\" font-family=\"sans-serif\" font-size=\"13\" lengthAdjust=\"spacingAndGlyphs\" textLength=\"73\" x=\"306\" y=\"130.0669\">«objective»</text></a><!--MD5=[452b418e7f8a40397a49b8c0a78acc5b]\n",
       "reverse link E5 to E7--><a href=\"psysml:a1ab5fdf-7d24-4497-9ea2-3c4d95277eba\" target=\"_top\" title=\"psysml:a1ab5fdf-7d24-4497-9ea2-3c4d95277eba\" xlink:actuate=\"onRequest\" xlink:href=\"psysml:a1ab5fdf-7d24-4497-9ea2-3c4d95277eba\" xlink:show=\"new\" xlink:title=\"psysml:a1ab5fdf-7d24-4497-9ea2-3c4d95277eba\" xlink:type=\"simple\"><path d=\"M367.41,92.36 C416.73,113.98 484.67,143.77 530.58,163.89 \" fill=\"none\" id=\"E5&lt;-E7\" style=\"stroke: #A80036; stroke-width: 1.0;\"/><polygon fill=\"#FFFFFF\" points=\"355.3,87.05,359.1902,93.1217,366.2912,91.8661,362.4009,85.7943,355.3,87.05\" style=\"stroke: #A80036; stroke-width: 1.0;\"/><text fill=\"#000000\" font-family=\"sans-serif\" font-size=\"13\" lengthAdjust=\"spacingAndGlyphs\" textLength=\"8\" x=\"507.9546\" y=\"152.7567\">1</text></a><!--MD5=[583832df87f4419a098336a29a52fa00]\n",
       "link E7 to E2--><a href=\"psysml:9bedaae2-b2c6-4d70-8011-f34c154ea99f\" target=\"_top\" title=\"psysml:9bedaae2-b2c6-4d70-8011-f34c154ea99f\" xlink:actuate=\"onRequest\" xlink:href=\"psysml:9bedaae2-b2c6-4d70-8011-f34c154ea99f\" xlink:show=\"new\" xlink:title=\"psysml:9bedaae2-b2c6-4d70-8011-f34c154ea99f\" xlink:type=\"simple\"><path d=\"M603.13,210.13 C616.76,223.76 634.47,241.47 649.76,256.76 \" fill=\"none\" id=\"E7-&gt;E2\" style=\"stroke: #A80036; stroke-width: 1.0;\"/><polygon fill=\"#FFFFFF\" points=\"664,271,645.6152,262.5147,655.5147,252.6152,664,271\" style=\"stroke: #A80036; stroke-width: 1.0;\"/><ellipse cx=\"642.9989\" cy=\"257.07\" fill=\"#A80036\" rx=\"2\" ry=\"2\" style=\"stroke: #A80036; stroke-width: 1.0;\"/><ellipse cx=\"650.07\" cy=\"249.9989\" fill=\"#A80036\" rx=\"2\" ry=\"2\" style=\"stroke: #A80036; stroke-width: 1.0;\"/></a><!--MD5=[541bb70f22bbcede9cab19db1754f6f4]\n",
       "@startuml\r\n",
       " \r\n",
       "package \"TradeStudyTest\" as E1  [[psysml:e59f1b4e-bf48-44e5-8b03-de7ba4c0da2b ]]  {\r\n",
       "comp def \"Engine\" as E2 << << (B,green) >> [[psysml:8032ee8b-b45e-4aab-a334-ddc7f77ca09b ]] {\r\n",
       "}\r\n",
       "comp usage \"engine1: Engine\" as E3 << << (P,limegreen) part>> [[psysml:d1c59f8e-91b7-4873-9a7c-d548f1a74ff0 ]] {\r\n",
       "}\r\n",
       "comp usage \"engine2: Engine\" as E4 << << (P,limegreen) part>> [[psysml:b8b914f7-6e3e-418c-a7c7-b0f9195d6204 ]] {\r\n",
       "}\r\n",
       "comp usage \"engineTradeStudy: TradeStudy\" as E5 << analysis>> [[psysml:d010e11c-db6d-479b-b98e-aa7ac12f08dc ]] {\r\n",
       "}\r\n",
       "comp usage \"tradeStudyObjective: MaximizeObjective\" as E6 << <<(U,orange) requirement>> [[psysml:baa50d6d-f728-4fdb-a3d8-0324d2e9c263 ]] {\r\n",
       "}\r\n",
       "comp usage \"selectedAlternative: Engine\" as E7 << << (P,limegreen) part>> [[psysml:854815c3-8ae1-4c3d-a371-f12eec0f41ab ]] {\r\n",
       "}\r\n",
       "}\r\n",
       "E3 - -:|> E2 [[psysml:a477e10c-c644-4ab8-a0d7-73b747f4931b ]] \r\n",
       "E4 - -:|> E2 [[psysml:006a8138-edc7-4443-807d-fbbb291c6f87 ]] \r\n",
       "E5 ..> E2 [[psysml:0f7006cc-acd6-40d1-b198-a80e8f08765e ]] : <<subject>>\r\n",
       "E5 - ->> E6 [[psysml:33b70aea-82ec-44f7-8a12-3ec54376cb03 ]] : <<objective>>\r\n",
       "E5 o- - \"1\"E7 [[psysml:a1ab5fdf-7d24-4497-9ea2-3c4d95277eba ]] \r\n",
       "E7 - -:|> E2 [[psysml:9bedaae2-b2c6-4d70-8011-f34c154ea99f ]] \r\n",
       "@enduml\r\n",
       "\n",
       "PlantUML version 1.2020.13(Sat Jun 13 12:26:38 UTC 2020)\n",
       "(EPL source distribution)\n",
       "Java Runtime: OpenJDK Runtime Environment\n",
       "JVM: OpenJDK 64-Bit Server VM\n",
       "Default Encoding: UTF-8\n",
       "Language: en\n",
       "Country: null\n",
       "--></g></svg>"
      ]
     },
     "execution_count": 31,
     "metadata": {},
     "output_type": "execute_result"
    }
   ],
   "source": [
    "%viz --style=\"PLANTUML\" --view=\"Tree\" \"TradeStudyTest\""
   ]
  },
  {
   "cell_type": "code",
   "execution_count": 32,
   "id": "c3a46a09",
   "metadata": {
    "execution": {
     "iopub.execute_input": "2021-09-27T07:19:36.418047Z",
     "iopub.status.busy": "2021-09-27T07:19:36.417843Z",
     "iopub.status.idle": "2021-09-27T07:19:36.513611Z",
     "shell.execute_reply": "2021-09-27T07:19:36.512908Z"
    }
   },
   "outputs": [
    {
     "data": {
      "image/svg+xml": [
       "<?xml version=\"1.0\" encoding=\"UTF-8\" standalone=\"no\"?><svg xmlns=\"http://www.w3.org/2000/svg\" xmlns:xlink=\"http://www.w3.org/1999/xlink\" contentScriptType=\"application/ecmascript\" contentStyleType=\"text/css\" height=\"300px\" preserveAspectRatio=\"none\" style=\"width:603px;height:300px;background:#000000;\" version=\"1.1\" viewBox=\"0 0 603 300\" width=\"603px\" zoomAndPan=\"magnify\"><defs/><g><rect fill=\"#021E0C\" height=\"1\" style=\"stroke: #021E0C; stroke-width: 1.0;\" width=\"1\" x=\"0\" y=\"0\"/><rect fill=\"#FFFFFF\" height=\"202.8012\" style=\"stroke: #FFFFFF; stroke-width: 1.0;\" width=\"602\" x=\"0\" y=\"0\"/><text fill=\"#000000\" font-family=\"sans-serif\" font-size=\"12\" font-weight=\"bold\" lengthAdjust=\"spacingAndGlyphs\" textLength=\"139\" x=\"5\" y=\"16.1387\">Welcome to PlantUML!</text><text fill=\"#000000\" font-family=\"sans-serif\" font-size=\"12\" lengthAdjust=\"spacingAndGlyphs\" textLength=\"0\" x=\"9\" y=\"30.1074\"/><text fill=\"#000000\" font-family=\"sans-serif\" font-size=\"12\" lengthAdjust=\"spacingAndGlyphs\" textLength=\"293\" x=\"5\" y=\"44.0762\">If you use this software, you accept its license.</text><text fill=\"#000000\" font-family=\"sans-serif\" font-size=\"12\" lengthAdjust=\"spacingAndGlyphs\" textLength=\"107\" x=\"5\" y=\"58.0449\">(details by typing</text><text fill=\"#000000\" font-family=\"monospace\" font-size=\"12\" lengthAdjust=\"spacingAndGlyphs\" textLength=\"42\" x=\"116\" y=\"58.595\">license</text><text fill=\"#000000\" font-family=\"sans-serif\" font-size=\"12\" lengthAdjust=\"spacingAndGlyphs\" textLength=\"56\" x=\"162\" y=\"58.0449\">keyword)</text><text fill=\"#000000\" font-family=\"sans-serif\" font-size=\"12\" lengthAdjust=\"spacingAndGlyphs\" textLength=\"0\" x=\"9\" y=\"72.0137\"/><text fill=\"#000000\" font-family=\"sans-serif\" font-size=\"12\" lengthAdjust=\"spacingAndGlyphs\" textLength=\"283\" x=\"5\" y=\"85.9824\">You can start with a simple UML Diagram like:</text><text fill=\"#000000\" font-family=\"sans-serif\" font-size=\"12\" lengthAdjust=\"spacingAndGlyphs\" textLength=\"0\" x=\"9\" y=\"99.9512\"/><text fill=\"#000000\" font-family=\"monospace\" font-size=\"12\" lengthAdjust=\"spacingAndGlyphs\" textLength=\"102\" x=\"5\" y=\"113.0893\">Bob-&gt;Alice: Hello</text><text fill=\"#000000\" font-family=\"sans-serif\" font-size=\"12\" lengthAdjust=\"spacingAndGlyphs\" textLength=\"0\" x=\"9\" y=\"126.508\"/><text fill=\"#000000\" font-family=\"sans-serif\" font-size=\"12\" lengthAdjust=\"spacingAndGlyphs\" textLength=\"14\" x=\"5\" y=\"140.4768\">Or</text><text fill=\"#000000\" font-family=\"sans-serif\" font-size=\"12\" lengthAdjust=\"spacingAndGlyphs\" textLength=\"0\" x=\"9\" y=\"154.4455\"/><text fill=\"#000000\" font-family=\"monospace\" font-size=\"12\" lengthAdjust=\"spacingAndGlyphs\" textLength=\"78\" x=\"5\" y=\"167.5837\">class Example</text><text fill=\"#000000\" font-family=\"sans-serif\" font-size=\"12\" lengthAdjust=\"spacingAndGlyphs\" textLength=\"0\" x=\"9\" y=\"181.0023\"/><text fill=\"#000000\" font-family=\"sans-serif\" font-size=\"12\" lengthAdjust=\"spacingAndGlyphs\" textLength=\"349\" x=\"5\" y=\"194.9711\">You will find more information about PlantUML syntax on</text><text fill=\"#000000\" font-family=\"sans-serif\" font-size=\"12\" lengthAdjust=\"spacingAndGlyphs\" text-decoration=\"underline\" textLength=\"129\" x=\"358\" y=\"194.9711\">https://plantuml.com</text><image height=\"71\" width=\"80\" x=\"516\" xlink:href=\"data:image/png;base64,iVBORw0KGgoAAAANSUhEUgAAAFAAAABHCAMAAACnHDC8AAADAFBMVEX///+BpbvD3u/f7vfPz8+nz+g3ksuZEDkWADr/ujlvsdpTodLCwsOLwOEbg8T//v6pqamZETnLysvT09To5+jqLS4VATj9/f27u7vDw8MTfsK+v7/j4+SOweJprdjL4/KxsbEri8jk8PgXa57c29uUETez1utQoNJ1tNtEmc9cptWBut6ayOW/3O6YEDjY6vUfhcXBwcHs7Ozw9/v83t79uTn7+/vX19ehoaHx8fG2tLXHx8fuVlfrNTYaBjn/vUH5+fmko6WXl5f/+fn95ub+9PT+8PD3qKidmaMxIUrnqDWcFj7n5eX09PTu7u2SkpKfnZ6rq6z0lJTm4tzJrHUfDT339/eFGDn6tjcrEzOvrbBuZ3l4eomSMS7Hz9Smpqasu8SFiYuQETfa2du1m6OOM051J0NWTWL5xse4uLj6zc33r6/4vb7ydHXqLi/72dntTE3tR0ijbn5jW3C+u8NANVQrG0XFubqRVGZza4GQGT2VaS7a0NPJtI6IJj/zszrfqkXXzr/Hw8cgC0LUqltOQ2JsSC5bTGjOpFafSi2+iDGtyt14m7TJhTCPJUSwoIG/qa+ikHiIgpCRHjI9j8KXbnaQH0FLf6FGPlp0cnYyKE2rg49Wj7dFXHmcwtrp6uu+xMjvYWLvW1z97e3sPD3sP0DuUlP709PYzdDPmzqZWWySRVygfHHd1smWkZ+PgnibETqsl260q5fLuppJLC/dpj2HPFLTtHv/ujrTwJy5s6iWjIi0iD3joTTCmU3trjuvZS2zlFvjq0HSyLbYp0qRts10XGxEKC9yPVBQZIOPdlNvMk2NeYNqRlujtcCVrr3j5eY1gK9Qn9GLp7lbeJXRxrCkiZDaozyukoJ+H0B3rc+OYy+iprJkYXdhmr6ee0afs79xq9BikrGKjI3FomEiLFO0ay6nfIm4pZXRjTFuhZSZWm0zcZyJN0KNTk4eebNfdIGGlZ93h5kcED5nOVYyRWbziIk9dJ4kerE5ZYxRUnLG1d7p8PTvY2PtTk/1nZ1ycV/bAAAFx0lEQVR4Xu1Ye1BUVRg/e3dhl4csKyxqPlBJQVETF2icAY13GogkEFqizqRRpoBpTCIapaUOhWNjUdOMSBpqJYZTg4KigFKADzSIVZ4qD5VFluXhLgvbPee+r49R7v2z3+zcc77fOfPb7zvfPd85uwCIhwT4wPisANwPAuIKHnbHH1I+KwAXDA18ShDW58CneCEnXl8JGwmfHylCPSvlZ/FWxh8YIRIxTWkZAEofkTz8sNq7tAqE2gODOB6GYZobVaH20SVZ4oQcdmXV0L7c4b8OFvJHRoYwdVIoyPX3gxtFDA+V8e6mM8pBoCjij4wQiWo/ALzV/kpkifBi13p4waZuGrJEECycixcEVSbYgFwUozg4/qSraOxrP7O8Eogj2HDxyMWmzpk6823+yIjhvR7fLOpDsCuGhwC0WfbkjQq8A0MWC0EgIYzPCYMymM8Iwcvz6K4IWw8skTrgq3iPMIQnxdfKrvyedpyvbSsyBQt6zcH6OxXmjqYxg9PbgXBBveK6aRAXNEl1Ssc+hz7Bgntyohb/ggQlNrrdzfIuoYKSb79067PrRoLmGo25SeghJRn1yMrSbPTptZaoBlwtlWbBHspxiW+mW8+46ereVnMXGxbFQ+mjofiHZTrclJn5E14UEgdrO9tRVph0HDJlYlRsLv4XFA7RBA1kK5ogBb7gtn08AvxWymc2b+YzLHC3nnOCNHvdayUsZpnnwnPqGf+yGKcPKlv92vtJC209zGyRWJmgyd16sSGGT/AmM2rdKZKZHxwCz7KUodLzJOO8th4OBqxdo0c2tfUkNr3QlJkZQWWMBP0uwBHvmQQb3zRVCMnsMO6ATazf3f0kkza0HTaPCdIhpyTknqP61Te1eV2gRpr1FUn4xtxRT72pDHhj09/UnBLjiv72p4d8FEtlLibBd7Qg0xK5+XfS9q2AzxSVHPnNIMBS8BQPw8N1W4glQWj0mtp4+nSHhvKYOM4GL6vH1jGTcDQ3p1979AQPI5agXEDYwuS5awknJ73rHU56RyLAr6ACpO5iMRGvp3XykjImgs4Fgm2/7URc8dhbeD9jdhYVNon0mdFcAjTIXbmC75VrmVHcQ+JDIXbuNmYUYlZoYx6XcWjKTWavYXd1WzU9OEh9wLFfEVFza5PEhVhDAvfLx60cWM3ePMa9hyZG5DNr6DbQiCUcYU0AKGzGyYxlkf+wxnCk+wdwCbA/TkWH7Dbgoq8dcmKNssQQ3F/JmMxlIj/fzo/7s9OIwUMebbYzbh2zLfk7ehBGzIau6OeO+xzGKlBRwCGAXNaCFgYbRoKG+hMTfMff4M6h0LYxpmv/92ym9tIxc4uRzawynCEWGhum7odf9/75vh8zg0bKijX5AMxhMacsK8pBxaJihtnQqr1KG8yFMzq/dutJ2iKwNCbXA7Yamsm2Xn0XtgtowY3Xy8rpYc4NNqon8eM49k+NtzU55GtMleGAkNR6oldDMhH+e9EX0JB+UYKv4WgLZrLCjHV7wnyYlzJZvYV6A6d1w6xEph842UUyTkjGIbzwRA/JIOBJKSt88yglqND1h6TpiQqQV99wmJ7nknQcgIIHqd00EwSzgudigGYQUHE4qFMcGJb22kp7lNop8p6znStvg5S2e1TVRti56w/zj8fZzKLiDa317MqBQFbs+J3dcbSgo+H4D0kLOokJ82/NR8KZbp9eIZgllwKR8Ec1ejIX827POk/06HpYffGd5dkoZJXMqDAVXd1Nbhavlx4OyuAiPcyAF3Ick8faXAuE5WToApkMxykL1PbNRJ91SDkXOyymPFR1UMlw9GjRPKCrPsRSvUnbzbkELj2PSSRkQLiH1AvROTutlpryLHQAoCD+C2BBP4npMwd9zsIgzgaDsK+bctmVw3hetai5t9RS4PEqub4QnCvxteGzOZyQXxjscxkhHisWKMi72+T0p1dxGeGYkG0ez+eeG7In/n/oNOexC9fzIiLvPxVtKp84iza+AAAAAElFTkSuQmCC\" y=\"6\"/><rect fill=\"#000000\" height=\"96.4844\" style=\"stroke: #000000; stroke-width: 1.0;\" width=\"602\" x=\"0\" y=\"202.8012\"/><rect fill=\"#33FF02\" height=\"21.2969\" style=\"stroke: #33FF02; stroke-width: 1.0;\" width=\"145\" x=\"5\" y=\"207.8012\"/><text fill=\"#000000\" font-family=\"sans-serif\" font-size=\"14\" font-weight=\"bold\" lengthAdjust=\"spacingAndGlyphs\" textLength=\"143\" x=\"6\" y=\"222.8012\">[From string (line 2) ]</text><text fill=\"#33FF02\" font-family=\"sans-serif\" font-size=\"14\" font-weight=\"bold\" lengthAdjust=\"spacingAndGlyphs\" textLength=\"0\" x=\"9\" y=\"243.0981\"/><text fill=\"#33FF02\" font-family=\"sans-serif\" font-size=\"14\" font-weight=\"bold\" lengthAdjust=\"spacingAndGlyphs\" textLength=\"70\" x=\"5\" y=\"259.3949\">@startuml</text><text fill=\"#33FF02\" font-family=\"sans-serif\" font-size=\"14\" font-weight=\"bold\" lengthAdjust=\"spacingAndGlyphs\" textLength=\"0\" x=\"9\" y=\"275.6918\"/><text fill=\"#FF0000\" font-family=\"sans-serif\" font-size=\"14\" font-weight=\"bold\" lengthAdjust=\"spacingAndGlyphs\" textLength=\"124\" x=\"9\" y=\"291.9887\">Empty description</text><!--MD5=[f59edd8218d337f74d0c332fc6737304]\n",
       "@startuml\r\n",
       " \r\n",
       "@enduml\r\n",
       "\n",
       "PlantUML version 1.2020.13(Sat Jun 13 12:26:38 UTC 2020)\n",
       "(EPL source distribution)\n",
       "Java Runtime: OpenJDK Runtime Environment\n",
       "JVM: OpenJDK 64-Bit Server VM\n",
       "Default Encoding: UTF-8\n",
       "Language: en\n",
       "Country: null\n",
       "--></g></svg>"
      ]
     },
     "execution_count": 32,
     "metadata": {},
     "output_type": "execute_result"
    }
   ],
   "source": [
    "%viz --style=\"PLANTUML\" --view=\"State\" \"TradeStudyTest\""
   ]
  },
  {
   "cell_type": "code",
   "execution_count": 33,
   "id": "503132b3",
   "metadata": {
    "execution": {
     "iopub.execute_input": "2021-09-27T07:19:36.563333Z",
     "iopub.status.busy": "2021-09-27T07:19:36.563115Z",
     "iopub.status.idle": "2021-09-27T07:19:36.595440Z",
     "shell.execute_reply": "2021-09-27T07:19:36.595244Z"
    }
   },
   "outputs": [
    {
     "data": {
      "image/svg+xml": [
       "<?xml version=\"1.0\" encoding=\"UTF-8\" standalone=\"no\"?><svg xmlns=\"http://www.w3.org/2000/svg\" xmlns:xlink=\"http://www.w3.org/1999/xlink\" contentScriptType=\"application/ecmascript\" contentStyleType=\"text/css\" height=\"347px\" preserveAspectRatio=\"none\" style=\"width:644px;height:347px;\" version=\"1.1\" viewBox=\"0 0 644 347\" width=\"644px\" zoomAndPan=\"magnify\"><defs><filter height=\"300%\" id=\"fo4bbtlcgd562\" width=\"300%\" x=\"-1\" y=\"-1\"><feGaussianBlur result=\"blurOut\" stdDeviation=\"2.0\"/><feColorMatrix in=\"blurOut\" result=\"blurOut2\" type=\"matrix\" values=\"0 0 0 0 0 0 0 0 0 0 0 0 0 0 0 0 0 0 .4 0\"/><feOffset dx=\"4.0\" dy=\"4.0\" in=\"blurOut2\" result=\"blurOut3\"/><feBlend in=\"SourceGraphic\" in2=\"blurOut3\" mode=\"normal\"/></filter></defs><g><!--MD5=[fbc87193dbaf4d95561dea2c320d4a47]\n",
       "cluster E1--><a href=\"psysml:e59f1b4e-bf48-44e5-8b03-de7ba4c0da2b\" target=\"_top\" title=\"psysml:e59f1b4e-bf48-44e5-8b03-de7ba4c0da2b\" xlink:actuate=\"onRequest\" xlink:href=\"psysml:e59f1b4e-bf48-44e5-8b03-de7ba4c0da2b\" xlink:show=\"new\" xlink:title=\"psysml:e59f1b4e-bf48-44e5-8b03-de7ba4c0da2b\" xlink:type=\"simple\"><polygon fill=\"#FFFFFF\" filter=\"url(#fo4bbtlcgd562)\" points=\"16,6,132,6,139,28.2969,622,28.2969,622,335,16,335,16,6\" style=\"stroke: #000000; stroke-width: 1.5;\"/><line style=\"stroke: #000000; stroke-width: 1.5;\" x1=\"16\" x2=\"139\" y1=\"28.2969\" y2=\"28.2969\"/><text fill=\"#000000\" font-family=\"sans-serif\" font-size=\"14\" font-weight=\"bold\" lengthAdjust=\"spacingAndGlyphs\" textLength=\"110\" x=\"20\" y=\"20.9951\">TradeStudyTest</text></a><!--MD5=[270fce915f116d4de14055a7c1d9a0f3]\n",
       "class E5--><a href=\"psysml:d010e11c-db6d-479b-b98e-aa7ac12f08dc\" target=\"_top\" title=\"psysml:d010e11c-db6d-479b-b98e-aa7ac12f08dc\" xlink:actuate=\"onRequest\" xlink:href=\"psysml:d010e11c-db6d-479b-b98e-aa7ac12f08dc\" xlink:show=\"new\" xlink:title=\"psysml:d010e11c-db6d-479b-b98e-aa7ac12f08dc\" xlink:type=\"simple\"><rect fill=\"#FEFECE\" filter=\"url(#fo4bbtlcgd562)\" height=\"45.9375\" id=\"E5\" rx=\"10\" ry=\"10\" style=\"stroke: #A80036; stroke-width: 1.5;\" width=\"225\" x=\"380.5\" y=\"41\"/><ellipse cx=\"395.5\" cy=\"59.9688\" fill=\"#B6DBBB\" rx=\"11\" ry=\"11\" style=\"stroke: #A80036; stroke-width: 1.0;\"/><path d=\"M395.25,65.4375 Q393.5,65.4375 392.5469,64.4063 Q391.6094,63.3594 391.6094,61.5156 L391.6094,54.625 L393.6719,54.625 L393.6719,54.7813 Q393.5781,54.875 393.5469,55.0156 Q393.5313,55.1406 393.5313,55.4063 L393.5313,61.5313 Q393.5313,62.625 393.9063,63.25 Q394.2813,63.875 395.2656,63.875 Q396.25,63.875 396.6406,63.25 Q397.0313,62.625 397.0313,61.4844 L397.0313,54.625 L398.9063,54.625 L398.9063,61.4688 Q398.9063,63.5 397.875,64.4688 Q396.8594,65.4375 395.25,65.4375 Z \"/><text fill=\"#000000\" font-family=\"sans-serif\" font-size=\"12\" font-style=\"italic\" lengthAdjust=\"spacingAndGlyphs\" textLength=\"64\" x=\"474\" y=\"57.1387\">«analysis»</text><text fill=\"#000000\" font-family=\"sans-serif\" font-size=\"12\" lengthAdjust=\"spacingAndGlyphs\" textLength=\"193\" x=\"409.5\" y=\"71.1074\">engineTradeStudy: TradeStudy</text><line style=\"stroke: #A80036; stroke-width: 1.5;\" x1=\"381.5\" x2=\"604.5\" y1=\"78.9375\" y2=\"78.9375\"/></a><!--MD5=[60a26617385b1d2d0262a64233df1f8d]\n",
       "class E6--><a href=\"psysml:baa50d6d-f728-4fdb-a3d8-0324d2e9c263\" target=\"_top\" title=\"psysml:baa50d6d-f728-4fdb-a3d8-0324d2e9c263\" xlink:actuate=\"onRequest\" xlink:href=\"psysml:baa50d6d-f728-4fdb-a3d8-0324d2e9c263\" xlink:show=\"new\" xlink:title=\"psysml:baa50d6d-f728-4fdb-a3d8-0324d2e9c263\" xlink:type=\"simple\"><rect fill=\"#FEFECE\" filter=\"url(#fo4bbtlcgd562)\" height=\"45.9375\" id=\"E6\" rx=\"10\" ry=\"10\" style=\"stroke: #A80036; stroke-width: 1.5;\" width=\"277\" x=\"32.5\" y=\"120\"/><ellipse cx=\"47.5\" cy=\"138.9688\" fill=\"#FFA500\" rx=\"11\" ry=\"11\" style=\"stroke: #A80036; stroke-width: 1.0;\"/><path d=\"M47.25,144.4375 Q45.5,144.4375 44.5469,143.4063 Q43.6094,142.3594 43.6094,140.5156 L43.6094,133.625 L45.6719,133.625 L45.6719,133.7813 Q45.5781,133.875 45.5469,134.0156 Q45.5313,134.1406 45.5313,134.4063 L45.5313,140.5313 Q45.5313,141.625 45.9063,142.25 Q46.2813,142.875 47.2656,142.875 Q48.25,142.875 48.6406,142.25 Q49.0313,141.625 49.0313,140.4844 L49.0313,133.625 L50.9063,133.625 L50.9063,140.4688 Q50.9063,142.5 49.875,143.4688 Q48.8594,144.4375 47.25,144.4375 Z \"/><text fill=\"#000000\" font-family=\"sans-serif\" font-size=\"12\" font-style=\"italic\" lengthAdjust=\"spacingAndGlyphs\" textLength=\"91\" x=\"138.5\" y=\"136.1387\">«requirement»</text><text fill=\"#000000\" font-family=\"sans-serif\" font-size=\"12\" lengthAdjust=\"spacingAndGlyphs\" textLength=\"245\" x=\"61.5\" y=\"150.1074\">tradeStudyObjective: MaximizeObjective</text><line style=\"stroke: #A80036; stroke-width: 1.5;\" x1=\"33.5\" x2=\"308.5\" y1=\"157.9375\" y2=\"157.9375\"/></a><!--MD5=[2156ba9850f5573cc1fc38a6a4b2f02b]\n",
       "class E7--><a href=\"psysml:c3bcbf7c-d2b8-4beb-b9e4-ef0b91eba9be\" target=\"_top\" title=\"psysml:c3bcbf7c-d2b8-4beb-b9e4-ef0b91eba9be\" xlink:actuate=\"onRequest\" xlink:href=\"psysml:c3bcbf7c-d2b8-4beb-b9e4-ef0b91eba9be\" xlink:show=\"new\" xlink:title=\"psysml:c3bcbf7c-d2b8-4beb-b9e4-ef0b91eba9be\" xlink:type=\"simple\"><rect fill=\"#FEFECE\" filter=\"url(#fo4bbtlcgd562)\" height=\"45.9375\" id=\"E7\" rx=\"10\" ry=\"10\" style=\"stroke: #A80036; stroke-width: 1.5;\" width=\"142\" x=\"345\" y=\"120\"/><ellipse cx=\"360\" cy=\"138.9688\" fill=\"#FFA500\" rx=\"11\" ry=\"11\" style=\"stroke: #A80036; stroke-width: 1.0;\"/><path d=\"M359.75,144.4375 Q358,144.4375 357.0469,143.4063 Q356.1094,142.3594 356.1094,140.5156 L356.1094,133.625 L358.1719,133.625 L358.1719,133.7813 Q358.0781,133.875 358.0469,134.0156 Q358.0313,134.1406 358.0313,134.4063 L358.0313,140.5313 Q358.0313,141.625 358.4063,142.25 Q358.7813,142.875 359.7656,142.875 Q360.75,142.875 361.1406,142.25 Q361.5313,141.625 361.5313,140.4844 L361.5313,133.625 L363.4063,133.625 L363.4063,140.4688 Q363.4063,142.5 362.375,143.4688 Q361.3594,144.4375 359.75,144.4375 Z \"/><text fill=\"#000000\" font-family=\"sans-serif\" font-size=\"12\" font-style=\"italic\" lengthAdjust=\"spacingAndGlyphs\" textLength=\"82\" x=\"388\" y=\"136.1387\">«calculation»</text><text fill=\"#000000\" font-family=\"sans-serif\" font-size=\"12\" lengthAdjust=\"spacingAndGlyphs\" textLength=\"110\" x=\"374\" y=\"150.1074\">objectiveFunction</text><line style=\"stroke: #A80036; stroke-width: 1.5;\" x1=\"346\" x2=\"486\" y1=\"157.9375\" y2=\"157.9375\"/></a><!--MD5=[b9389687b975829384b498ac4b7476b2]\n",
       "class E8--><a href=\"psysml:c18a795f-fd76-4ffb-a70d-e612388b917b\" target=\"_top\" title=\"psysml:c18a795f-fd76-4ffb-a70d-e612388b917b\" xlink:actuate=\"onRequest\" xlink:href=\"psysml:c18a795f-fd76-4ffb-a70d-e612388b917b\" xlink:show=\"new\" xlink:title=\"psysml:c18a795f-fd76-4ffb-a70d-e612388b917b\" xlink:type=\"simple\"><rect fill=\"#FEFECE\" filter=\"url(#fo4bbtlcgd562)\" height=\"40\" id=\"E8\" rx=\"10\" ry=\"10\" style=\"stroke: #A80036; stroke-width: 1.5;\" width=\"150\" x=\"217\" y=\"222\"/><ellipse cx=\"232\" cy=\"238\" fill=\"#B6DBBB\" rx=\"11\" ry=\"11\" style=\"stroke: #A80036; stroke-width: 1.0;\"/><path d=\"M231.75,243.4688 Q230,243.4688 229.0469,242.4375 Q228.1094,241.3906 228.1094,239.5469 L228.1094,232.6563 L230.1719,232.6563 L230.1719,232.8125 Q230.0781,232.9063 230.0469,233.0469 Q230.0313,233.1719 230.0313,233.4375 L230.0313,239.5625 Q230.0313,240.6563 230.4063,241.2813 Q230.7813,241.9063 231.7656,241.9063 Q232.75,241.9063 233.1406,241.2813 Q233.5313,240.6563 233.5313,239.5156 L233.5313,232.6563 L235.4063,232.6563 L235.4063,239.5 Q235.4063,241.5313 234.375,242.5 Q233.3594,243.4688 231.75,243.4688 Z \"/><text fill=\"#000000\" font-family=\"sans-serif\" font-size=\"12\" lengthAdjust=\"spacingAndGlyphs\" textLength=\"118\" x=\"246\" y=\"242.1543\">alternative: Engine</text><line style=\"stroke: #A80036; stroke-width: 1.5;\" x1=\"218\" x2=\"366\" y1=\"254\" y2=\"254\"/></a><!--MD5=[fd4143e9d270a159db93a4ea2a975926]\n",
       "class E9--><a href=\"psysml:854815c3-8ae1-4c3d-a371-f12eec0f41ab\" target=\"_top\" title=\"psysml:854815c3-8ae1-4c3d-a371-f12eec0f41ab\" xlink:actuate=\"onRequest\" xlink:href=\"psysml:854815c3-8ae1-4c3d-a371-f12eec0f41ab\" xlink:show=\"new\" xlink:title=\"psysml:854815c3-8ae1-4c3d-a371-f12eec0f41ab\" xlink:type=\"simple\"><rect fill=\"#FEFECE\" filter=\"url(#fo4bbtlcgd562)\" height=\"40\" id=\"E9\" rx=\"10\" ry=\"10\" style=\"stroke: #A80036; stroke-width: 1.5;\" width=\"204\" x=\"298\" y=\"174\"/><ellipse cx=\"313\" cy=\"190\" fill=\"#B6DBBB\" rx=\"11\" ry=\"11\" style=\"stroke: #A80036; stroke-width: 1.0;\"/><path d=\"M312.75,195.4688 Q311,195.4688 310.0469,194.4375 Q309.1094,193.3906 309.1094,191.5469 L309.1094,184.6563 L311.1719,184.6563 L311.1719,184.8125 Q311.0781,184.9063 311.0469,185.0469 Q311.0313,185.1719 311.0313,185.4375 L311.0313,191.5625 Q311.0313,192.6563 311.4063,193.2813 Q311.7813,193.9063 312.7656,193.9063 Q313.75,193.9063 314.1406,193.2813 Q314.5313,192.6563 314.5313,191.5156 L314.5313,184.6563 L316.4063,184.6563 L316.4063,191.5 Q316.4063,193.5313 315.375,194.5 Q314.3594,195.4688 312.75,195.4688 Z \"/><text fill=\"#000000\" font-family=\"sans-serif\" font-size=\"12\" lengthAdjust=\"spacingAndGlyphs\" textLength=\"172\" x=\"327\" y=\"194.1543\">selectedAlternative: Engine</text><line style=\"stroke: #A80036; stroke-width: 1.5;\" x1=\"299\" x2=\"501\" y1=\"206\" y2=\"206\"/></a><g id=\"E1.E2\"><a href=\"psysml:8032ee8b-b45e-4aab-a334-ddc7f77ca09b\" target=\"_top\" title=\"psysml:8032ee8b-b45e-4aab-a334-ddc7f77ca09b\" xlink:actuate=\"onRequest\" xlink:href=\"psysml:8032ee8b-b45e-4aab-a334-ddc7f77ca09b\" xlink:show=\"new\" xlink:title=\"psysml:8032ee8b-b45e-4aab-a334-ddc7f77ca09b\" xlink:type=\"simple\"><rect fill=\"#FEFECE\" filter=\"url(#fo4bbtlcgd562)\" height=\"40\" id=\"E2\" style=\"stroke: #A80036; stroke-width: 1.5;\" width=\"80\" x=\"363\" y=\"279\"/><ellipse cx=\"380.25\" cy=\"295\" fill=\"#008000\" rx=\"11\" ry=\"11\" style=\"stroke: #A80036; stroke-width: 1.0;\"/><path d=\"M377.125,300 L377.125,289.4063 L380.3594,289.4063 Q382.2656,289.4063 383.1719,290.1563 Q384.0938,290.9063 384.0938,292.0781 Q384.0938,292.7656 383.7031,293.4219 Q383.3281,294.0781 382.6094,294.375 Q383.4688,294.75 383.9844,295.4375 Q384.5,296.125 384.5,296.9375 Q384.5,298.3125 383.4688,299.1563 Q382.4531,300 380.3438,300 L377.125,300 Z M379.0469,293.6406 L380.2031,293.6406 Q381.3281,293.6406 381.7344,293.2656 Q382.1563,292.875 382.1563,292.25 Q382.1563,291.6719 381.7344,291.3125 Q381.3125,290.9531 380.375,290.9531 L379.0469,290.9531 L379.0469,293.6406 Z M379.0469,298.4219 L380.5469,298.4219 Q381.4531,298.4219 381.9844,298.0313 Q382.5156,297.6406 382.5156,296.8906 Q382.5156,296.125 382.0156,295.6563 Q381.5156,295.1719 380.25,295.1719 L379.0469,295.1719 L379.0469,298.4219 Z \"/><text fill=\"#000000\" font-family=\"sans-serif\" font-size=\"12\" lengthAdjust=\"spacingAndGlyphs\" textLength=\"43\" x=\"394.75\" y=\"299.1543\">Engine</text></a></g><g id=\"E1.E3\"><a href=\"psysml:d1c59f8e-91b7-4873-9a7c-d548f1a74ff0\" target=\"_top\" title=\"psysml:d1c59f8e-91b7-4873-9a7c-d548f1a74ff0\" xlink:actuate=\"onRequest\" xlink:href=\"psysml:d1c59f8e-91b7-4873-9a7c-d548f1a74ff0\" xlink:show=\"new\" xlink:title=\"psysml:d1c59f8e-91b7-4873-9a7c-d548f1a74ff0\" xlink:type=\"simple\"><rect fill=\"#FEFECE\" filter=\"url(#fo4bbtlcgd562)\" height=\"40\" id=\"E3\" rx=\"10\" ry=\"10\" style=\"stroke: #A80036; stroke-width: 1.5;\" width=\"139\" x=\"206.5\" y=\"44\"/><ellipse cx=\"223.75\" cy=\"60\" fill=\"#B6DBBB\" rx=\"11\" ry=\"11\" style=\"stroke: #A80036; stroke-width: 1.0;\"/><path d=\"M223.5,65.4688 Q221.75,65.4688 220.7969,64.4375 Q219.8594,63.3906 219.8594,61.5469 L219.8594,54.6563 L221.9219,54.6563 L221.9219,54.8125 Q221.8281,54.9063 221.7969,55.0469 Q221.7813,55.1719 221.7813,55.4375 L221.7813,61.5625 Q221.7813,62.6563 222.1563,63.2813 Q222.5313,63.9063 223.5156,63.9063 Q224.5,63.9063 224.8906,63.2813 Q225.2813,62.6563 225.2813,61.5156 L225.2813,54.6563 L227.1563,54.6563 L227.1563,61.5 Q227.1563,63.5313 226.125,64.5 Q225.1094,65.4688 223.5,65.4688 Z \"/><text fill=\"#000000\" font-family=\"sans-serif\" font-size=\"12\" lengthAdjust=\"spacingAndGlyphs\" textLength=\"102\" x=\"238.25\" y=\"64.1543\">engine1: Engine</text></a></g><g id=\"E1.E4\"><a href=\"psysml:b8b914f7-6e3e-418c-a7c7-b0f9195d6204\" target=\"_top\" title=\"psysml:b8b914f7-6e3e-418c-a7c7-b0f9195d6204\" xlink:actuate=\"onRequest\" xlink:href=\"psysml:b8b914f7-6e3e-418c-a7c7-b0f9195d6204\" xlink:show=\"new\" xlink:title=\"psysml:b8b914f7-6e3e-418c-a7c7-b0f9195d6204\" xlink:type=\"simple\"><rect fill=\"#FEFECE\" filter=\"url(#fo4bbtlcgd562)\" height=\"40\" id=\"E4\" rx=\"10\" ry=\"10\" style=\"stroke: #A80036; stroke-width: 1.5;\" width=\"139\" x=\"32.5\" y=\"44\"/><ellipse cx=\"49.75\" cy=\"60\" fill=\"#B6DBBB\" rx=\"11\" ry=\"11\" style=\"stroke: #A80036; stroke-width: 1.0;\"/><path d=\"M49.5,65.4688 Q47.75,65.4688 46.7969,64.4375 Q45.8594,63.3906 45.8594,61.5469 L45.8594,54.6563 L47.9219,54.6563 L47.9219,54.8125 Q47.8281,54.9063 47.7969,55.0469 Q47.7813,55.1719 47.7813,55.4375 L47.7813,61.5625 Q47.7813,62.6563 48.1563,63.2813 Q48.5313,63.9063 49.5156,63.9063 Q50.5,63.9063 50.8906,63.2813 Q51.2813,62.6563 51.2813,61.5156 L51.2813,54.6563 L53.1563,54.6563 L53.1563,61.5 Q53.1563,63.5313 52.125,64.5 Q51.1094,65.4688 49.5,65.4688 Z \"/><text fill=\"#000000\" font-family=\"sans-serif\" font-size=\"12\" lengthAdjust=\"spacingAndGlyphs\" textLength=\"102\" x=\"64.25\" y=\"64.1543\">engine2: Engine</text></a></g><!--MD5=[15ebcb19ae302d9b601edb458606d402]\n",
       "link E5 to E2--><a href=\"psysml:0f7006cc-acd6-40d1-b198-a80e8f08765e\" target=\"_top\" title=\"psysml:0f7006cc-acd6-40d1-b198-a80e8f08765e\" xlink:actuate=\"onRequest\" xlink:href=\"psysml:0f7006cc-acd6-40d1-b198-a80e8f08765e\" xlink:show=\"new\" xlink:title=\"psysml:0f7006cc-acd6-40d1-b198-a80e8f08765e\" xlink:type=\"simple\"><path d=\"M514.17,87.23 C515.71,89.72 517.03,92.32 518,95 C536.15,145.12 532.55,169.63 503,214 C486.27,239.12 459.9,260.83 438.44,275.88 \" fill=\"none\" id=\"E5-&gt;E2\" style=\"stroke: #A80036; stroke-width: 1.0; stroke-dasharray: 7.0,7.0;\"/><polygon fill=\"#A80036\" points=\"434.21,278.81,443.8882,276.9846,438.3235,275.9677,439.3405,270.403,434.21,278.81\" style=\"stroke: #A80036; stroke-width: 1.0;\"/><text fill=\"#000000\" font-family=\"sans-serif\" font-size=\"13\" lengthAdjust=\"spacingAndGlyphs\" textLength=\"62\" x=\"525\" y=\"198.5669\">«subject»</text></a><!--MD5=[9120cf2e5df3bff93db8f754bbbc09b4]\n",
       "link E5 to E6--><a href=\"psysml:33b70aea-82ec-44f7-8a12-3ec54376cb03\" target=\"_top\" title=\"psysml:33b70aea-82ec-44f7-8a12-3ec54376cb03\" xlink:actuate=\"onRequest\" xlink:href=\"psysml:33b70aea-82ec-44f7-8a12-3ec54376cb03\" xlink:show=\"new\" xlink:title=\"psysml:33b70aea-82ec-44f7-8a12-3ec54376cb03\" xlink:type=\"simple\"><path d=\"M397.87,87.01 C386.45,89.68 374.96,92.39 364,95 C333.05,102.37 299.34,110.53 268.88,117.95 \" fill=\"none\" id=\"E5-&gt;E6\" style=\"stroke: #A80036; stroke-width: 1.0;\"/><polygon fill=\"#A80036\" points=\"260.8,119.93,269.2836,120.9442,267.8586,115.1159,260.8,119.93\" style=\"stroke: #A80036; stroke-width: 1.0;\"/><text fill=\"#000000\" font-family=\"sans-serif\" font-size=\"13\" lengthAdjust=\"spacingAndGlyphs\" textLength=\"73\" x=\"365\" y=\"108.0669\">«objective»</text></a><!--MD5=[452b418e7f8a40397a49b8c0a78acc5b]\n",
       "reverse link E5 to E7--><a href=\"psysml:9ca3a684-dbe3-4511-9e21-3cef746855e2\" target=\"_top\" title=\"psysml:9ca3a684-dbe3-4511-9e21-3cef746855e2\" xlink:actuate=\"onRequest\" xlink:href=\"psysml:9ca3a684-dbe3-4511-9e21-3cef746855e2\" xlink:show=\"new\" xlink:title=\"psysml:9ca3a684-dbe3-4511-9e21-3cef746855e2\" xlink:type=\"simple\"><path d=\"M461.49,96.51 C453.68,104.32 445.48,112.52 438.22,119.78 \" fill=\"none\" id=\"E5&lt;-E7\" style=\"stroke: #A80036; stroke-width: 1.0;\"/><polygon fill=\"#A80036\" points=\"470.73,87.27,463.6589,88.6842,462.2447,95.7553,469.3158,94.3411,470.73,87.27\" style=\"stroke: #A80036; stroke-width: 1.0;\"/></a><!--MD5=[dc164f5e8a733ab456ef1add180e9e34]\n",
       "reverse link E7 to E8--><a href=\"psysml:8f87ba26-7a36-4a80-9ed1-e463a907c7c6\" target=\"_top\" title=\"psysml:8f87ba26-7a36-4a80-9ed1-e463a907c7c6\" xlink:actuate=\"onRequest\" xlink:href=\"psysml:8f87ba26-7a36-4a80-9ed1-e463a907c7c6\" xlink:show=\"new\" xlink:title=\"psysml:8f87ba26-7a36-4a80-9ed1-e463a907c7c6\" xlink:type=\"simple\"><path d=\"M332.25,164.89 C312.6,169.83 297.2,173.77 297,174 C286.04,187.03 285.95,206.99 287.91,221.74 \" fill=\"none\" id=\"E7&lt;-E8\" style=\"stroke: #A80036; stroke-width: 1.0;\"/><polygon fill=\"#FFFFFF\" points=\"344.95,161.7,338.1584,159.2765,333.3091,164.6135,340.1007,167.0371,344.95,161.7\" style=\"stroke: #A80036; stroke-width: 1.0;\"/><text fill=\"#000000\" font-family=\"sans-serif\" font-size=\"13\" lengthAdjust=\"spacingAndGlyphs\" textLength=\"8\" x=\"277.6347\" y=\"211.0181\">1</text></a><!--MD5=[f1f3f9f2fc535e6147756cb86a7f2e32]\n",
       "link E8 to E2--><a href=\"psysml:bdf7178e-b1d2-4aa0-b7b5-71013aa1f7a9\" target=\"_top\" title=\"psysml:bdf7178e-b1d2-4aa0-b7b5-71013aa1f7a9\" xlink:actuate=\"onRequest\" xlink:href=\"psysml:bdf7178e-b1d2-4aa0-b7b5-71013aa1f7a9\" xlink:show=\"new\" xlink:title=\"psysml:bdf7178e-b1d2-4aa0-b7b5-71013aa1f7a9\" xlink:type=\"simple\"><path d=\"M330.51,262.08 C335.68,264.64 341.06,267.31 346.46,269.98 \" fill=\"none\" id=\"E8-&gt;E2\" style=\"stroke: #A80036; stroke-width: 1.0;\"/><polygon fill=\"#FFFFFF\" points=\"364.56,278.95,344.427,276.7911,350.6399,264.2452,364.56,278.95\" style=\"stroke: #A80036; stroke-width: 1.0;\"/><ellipse cx=\"340.2065\" cy=\"272.4693\" fill=\"#A80036\" rx=\"2\" ry=\"2\" style=\"stroke: #A80036; stroke-width: 1.0;\"/><ellipse cx=\"344.6443\" cy=\"263.508\" fill=\"#A80036\" rx=\"2\" ry=\"2\" style=\"stroke: #A80036; stroke-width: 1.0;\"/></a><!--MD5=[9ae28de373ca99bb8a1b38d63370ca7e]\n",
       "reverse link E5 to E9--><a href=\"psysml:a1ab5fdf-7d24-4497-9ea2-3c4d95277eba\" target=\"_top\" title=\"psysml:a1ab5fdf-7d24-4497-9ea2-3c4d95277eba\" xlink:actuate=\"onRequest\" xlink:href=\"psysml:a1ab5fdf-7d24-4497-9ea2-3c4d95277eba\" xlink:show=\"new\" xlink:title=\"psysml:a1ab5fdf-7d24-4497-9ea2-3c4d95277eba\" xlink:type=\"simple\"><path d=\"M508.56,99.53 C515.57,120.77 519.43,147.39 505,166 C502.75,168.9 498.75,171.54 493.58,173.94 \" fill=\"none\" id=\"E5&lt;-E9\" style=\"stroke: #A80036; stroke-width: 1.0;\"/><polygon fill=\"#FFFFFF\" points=\"503.93,87.12,502.2779,94.1393,508.1218,98.3641,509.7739,91.3448,503.93,87.12\" style=\"stroke: #A80036; stroke-width: 1.0;\"/><text fill=\"#000000\" font-family=\"sans-serif\" font-size=\"13\" lengthAdjust=\"spacingAndGlyphs\" textLength=\"8\" x=\"510.1388\" y=\"167.2634\">1</text></a><!--MD5=[5c3bb36fe832a92c7f0e1807dd65209d]\n",
       "link E9 to E2--><a href=\"psysml:9bedaae2-b2c6-4d70-8011-f34c154ea99f\" target=\"_top\" title=\"psysml:9bedaae2-b2c6-4d70-8011-f34c154ea99f\" xlink:actuate=\"onRequest\" xlink:href=\"psysml:9bedaae2-b2c6-4d70-8011-f34c154ea99f\" xlink:show=\"new\" xlink:title=\"psysml:9bedaae2-b2c6-4d70-8011-f34c154ea99f\" xlink:type=\"simple\"><path d=\"M400.56,214.37 C400.93,226.82 401.41,243.43 401.85,258.57 \" fill=\"none\" id=\"E9-&gt;E2\" style=\"stroke: #A80036; stroke-width: 1.0;\"/><polygon fill=\"#FFFFFF\" points=\"402.44,278.71,394.8864,259.9232,408.8804,259.5131,402.44,278.71\" style=\"stroke: #A80036; stroke-width: 1.0;\"/><ellipse cx=\"396.7186\" cy=\"254.1671\" fill=\"#A80036\" rx=\"2\" ry=\"2\" style=\"stroke: #A80036; stroke-width: 1.0;\"/><ellipse cx=\"406.7143\" cy=\"253.8741\" fill=\"#A80036\" rx=\"2\" ry=\"2\" style=\"stroke: #A80036; stroke-width: 1.0;\"/></a><!--MD5=[064cc03c39c29fff7fce7318cf4e5f61]\n",
       "@startuml\r\n",
       "skinparam ranksep 10\r\n",
       "skinparam rectangle {\r\n",
       " backgroundColor<<block>> LightGreen\r\n",
       "}\r\n",
       " \r\n",
       "package \"TradeStudyTest\" as E1  [[psysml:e59f1b4e-bf48-44e5-8b03-de7ba4c0da2b ]]  {\r\n",
       "rec def \"Engine\" as E2 << << (B,green) >> [[psysml:8032ee8b-b45e-4aab-a334-ddc7f77ca09b ]] {\r\n",
       "}\r\n",
       "rec usage \"engine1: Engine\" as E3  [[psysml:d1c59f8e-91b7-4873-9a7c-d548f1a74ff0 ]] {\r\n",
       "}\r\n",
       "rec usage \"engine2: Engine\" as E4  [[psysml:b8b914f7-6e3e-418c-a7c7-b0f9195d6204 ]] {\r\n",
       "}\r\n",
       "comp usage \"engineTradeStudy: TradeStudy\" as E5 << analysis>> [[psysml:d010e11c-db6d-479b-b98e-aa7ac12f08dc ]] {\r\n",
       "}\r\n",
       "comp usage \"tradeStudyObjective: MaximizeObjective\" as E6 << <<(U,orange) requirement>> [[psysml:baa50d6d-f728-4fdb-a3d8-0324d2e9c263 ]] {\r\n",
       "}\r\n",
       "comp usage \"objectiveFunction\" as E7 << <<(U,orange) calculation>> [[psysml:c3bcbf7c-d2b8-4beb-b9e4-ef0b91eba9be ]] {\r\n",
       "}\r\n",
       "comp usage \"alternative: Engine\" as E8  [[psysml:c18a795f-fd76-4ffb-a70d-e612388b917b ]] {\r\n",
       "}\r\n",
       "comp usage \"selectedAlternative: Engine\" as E9  [[psysml:854815c3-8ae1-4c3d-a371-f12eec0f41ab ]] {\r\n",
       "}\r\n",
       "}\r\n",
       "E5 ..> E2 [[psysml:0f7006cc-acd6-40d1-b198-a80e8f08765e ]] : <<subject>>\r\n",
       "E5 - ->> E6 [[psysml:33b70aea-82ec-44f7-8a12-3ec54376cb03 ]] : <<objective>>\r\n",
       "E5 *- - E7 [[psysml:9ca3a684-dbe3-4511-9e21-3cef746855e2 ]] \r\n",
       "E7 o- - \"1\"E8 [[psysml:8f87ba26-7a36-4a80-9ed1-e463a907c7c6 ]] \r\n",
       "E8 - -:|> E2 [[psysml:bdf7178e-b1d2-4aa0-b7b5-71013aa1f7a9 ]] \r\n",
       "E5 o- - \"1\"E9 [[psysml:a1ab5fdf-7d24-4497-9ea2-3c4d95277eba ]] \r\n",
       "E9 - -:|> E2 [[psysml:9bedaae2-b2c6-4d70-8011-f34c154ea99f ]] \r\n",
       "@enduml\r\n",
       "\n",
       "PlantUML version 1.2020.13(Sat Jun 13 12:26:38 UTC 2020)\n",
       "(EPL source distribution)\n",
       "Java Runtime: OpenJDK Runtime Environment\n",
       "JVM: OpenJDK 64-Bit Server VM\n",
       "Default Encoding: UTF-8\n",
       "Language: en\n",
       "Country: null\n",
       "--></g></svg>"
      ]
     },
     "execution_count": 33,
     "metadata": {},
     "output_type": "execute_result"
    }
   ],
   "source": [
    "%viz --style=\"PLANTUML\" --view=\"Interconnection\" \"TradeStudyTest\""
   ]
  },
  {
   "cell_type": "code",
   "execution_count": 34,
   "id": "b213ab31",
   "metadata": {
    "execution": {
     "iopub.execute_input": "2021-09-27T07:19:36.645533Z",
     "iopub.status.busy": "2021-09-27T07:19:36.645329Z",
     "iopub.status.idle": "2021-09-27T07:19:36.672373Z",
     "shell.execute_reply": "2021-09-27T07:19:36.672522Z"
    }
   },
   "outputs": [
    {
     "data": {
      "image/svg+xml": [
       "<?xml version=\"1.0\" encoding=\"UTF-8\" standalone=\"no\"?><svg xmlns=\"http://www.w3.org/2000/svg\" xmlns:xlink=\"http://www.w3.org/1999/xlink\" contentScriptType=\"application/ecmascript\" contentStyleType=\"text/css\" height=\"178px\" preserveAspectRatio=\"none\" style=\"width:434px;height:178px;\" version=\"1.1\" viewBox=\"0 0 434 178\" width=\"434px\" zoomAndPan=\"magnify\"><defs><filter height=\"300%\" id=\"f16pzno3ra3x00\" width=\"300%\" x=\"-1\" y=\"-1\"><feGaussianBlur result=\"blurOut\" stdDeviation=\"2.0\"/><feColorMatrix in=\"blurOut\" result=\"blurOut2\" type=\"matrix\" values=\"0 0 0 0 0 0 0 0 0 0 0 0 0 0 0 0 0 0 .4 0\"/><feOffset dx=\"4.0\" dy=\"4.0\" in=\"blurOut2\" result=\"blurOut3\"/><feBlend in=\"SourceGraphic\" in2=\"blurOut3\" mode=\"normal\"/></filter></defs><g><!--MD5=[fbc87193dbaf4d95561dea2c320d4a47]\n",
       "cluster E1--><a href=\"psysml:d010e11c-db6d-479b-b98e-aa7ac12f08dc\" target=\"_top\" title=\"psysml:d010e11c-db6d-479b-b98e-aa7ac12f08dc\" xlink:actuate=\"onRequest\" xlink:href=\"psysml:d010e11c-db6d-479b-b98e-aa7ac12f08dc\" xlink:show=\"new\" xlink:title=\"psysml:d010e11c-db6d-479b-b98e-aa7ac12f08dc\" xlink:type=\"simple\"><rect fill=\"#FFFFFF\" filter=\"url(#f16pzno3ra3x00)\" height=\"103.72\" id=\"E1\" rx=\"10\" ry=\"10\" style=\"stroke: #A80036; stroke-width: 1.5;\" width=\"327\" x=\"47\" y=\"42.0986\"/><rect fill=\"#FEFECE\" height=\"37.9375\" rx=\"10\" ry=\"10\" style=\"stroke: #FEFECE; stroke-width: 1.5;\" width=\"327\" x=\"47\" y=\"42.0986\"/><rect fill=\"#FEFECE\" height=\"10\" style=\"stroke: #FEFECE; stroke-width: 1.5;\" width=\"327\" x=\"47\" y=\"70.0361\"/><rect fill=\"none\" height=\"103.72\" id=\"E1\" rx=\"10\" ry=\"10\" style=\"stroke: #A80036; stroke-width: 1.5;\" width=\"327\" x=\"47\" y=\"42.0986\"/><text fill=\"#000000\" font-family=\"sans-serif\" font-size=\"12\" font-style=\"italic\" lengthAdjust=\"spacingAndGlyphs\" textLength=\"64\" x=\"178.5\" y=\"58.2373\">«analysis»</text><text fill=\"#000000\" font-family=\"sans-serif\" font-size=\"12\" lengthAdjust=\"spacingAndGlyphs\" textLength=\"114\" x=\"153.5\" y=\"72.2061\">engineTradeStudy</text><line style=\"stroke: #A80036; stroke-width: 1.0;\" x1=\"47\" x2=\"374\" y1=\"80.0361\" y2=\"80.0361\"/></a><!--MD5=[d5e69f78d87373223dbae638b30a9c99]\n",
       "cluster E3--><a href=\"psysml:c3bcbf7c-d2b8-4beb-b9e4-ef0b91eba9be\" target=\"_top\" title=\"psysml:c3bcbf7c-d2b8-4beb-b9e4-ef0b91eba9be\" xlink:actuate=\"onRequest\" xlink:href=\"psysml:c3bcbf7c-d2b8-4beb-b9e4-ef0b91eba9be\" xlink:show=\"new\" xlink:title=\"psysml:c3bcbf7c-d2b8-4beb-b9e4-ef0b91eba9be\" xlink:type=\"simple\"><rect fill=\"#FFFFFF\" filter=\"url(#f16pzno3ra3x00)\" height=\"81.72\" id=\"E3\" rx=\"10\" ry=\"10\" style=\"stroke: #A80036; stroke-width: 1.5;\" width=\"132\" x=\"214.125\" y=\"64.0986\"/><rect fill=\"#FEFECE\" height=\"37.9375\" rx=\"10\" ry=\"10\" style=\"stroke: #FEFECE; stroke-width: 1.5;\" width=\"132\" x=\"214.125\" y=\"64.0986\"/><rect fill=\"#FEFECE\" height=\"10\" style=\"stroke: #FEFECE; stroke-width: 1.5;\" width=\"132\" x=\"214.125\" y=\"92.0361\"/><rect fill=\"none\" height=\"81.72\" id=\"E3\" rx=\"10\" ry=\"10\" style=\"stroke: #A80036; stroke-width: 1.5;\" width=\"132\" x=\"214.125\" y=\"64.0986\"/><text fill=\"#000000\" font-family=\"sans-serif\" font-size=\"12\" font-style=\"italic\" lengthAdjust=\"spacingAndGlyphs\" textLength=\"82\" x=\"239.125\" y=\"80.2373\">«calculation»</text><text fill=\"#000000\" font-family=\"sans-serif\" font-size=\"12\" lengthAdjust=\"spacingAndGlyphs\" textLength=\"110\" x=\"225.125\" y=\"94.2061\">objectiveFunction</text><line style=\"stroke: #A80036; stroke-width: 1.0;\" x1=\"214.125\" x2=\"346.125\" y1=\"102.0361\" y2=\"102.0361\"/></a><text fill=\"#000000\" font-family=\"sans-serif\" font-size=\"14\" lengthAdjust=\"spacingAndGlyphs\" textLength=\"118\" x=\"6\" y=\"20.7969\">studyAlternatives</text><rect fill=\"#A80036\" height=\"12\" style=\"stroke: #FEFECE; stroke-width: 1.5;\" width=\"12\" x=\"59\" y=\"36.0986\"/><text fill=\"#000000\" font-family=\"sans-serif\" font-size=\"14\" lengthAdjust=\"spacingAndGlyphs\" textLength=\"132\" x=\"290\" y=\"164.8138\">selectedAlternative</text><rect fill=\"#A80036\" height=\"12\" style=\"stroke: #FEFECE; stroke-width: 1.5;\" width=\"12\" x=\"350\" y=\"139.8186\"/><text fill=\"#000000\" font-family=\"sans-serif\" font-size=\"14\" lengthAdjust=\"spacingAndGlyphs\" textLength=\"39\" x=\"215.5\" y=\"164.8138\">result</text><rect fill=\"#A80036\" height=\"12\" style=\"stroke: #FEFECE; stroke-width: 1.5;\" width=\"12\" x=\"229\" y=\"139.8186\"/><!--MD5=[10c9ec69eaff3d66b187026fdee48b9a]\n",
       "@startuml\r\n",
       "skinparam ranksep 8\r\n",
       " \r\n",
       "rec usage \"engineTradeStudy\" as E1 << analysis>> [[psysml:d010e11c-db6d-479b-b98e-aa7ac12f08dc ]] {\r\n",
       "portin \"studyAlternatives\" as E2  [[psysml:c281ae49-24a5-493f-bfdc-d0e83f5bb327 ]] \r\n",
       "rec usage \"objectiveFunction\" as E3 << <<(U,orange) calculation>> [[psysml:c3bcbf7c-d2b8-4beb-b9e4-ef0b91eba9be ]] {\r\n",
       "portout \"result\" as E4  [[psysml:6508d5a9-7a54-4e99-9afa-e959802dfdd5 ]] \r\n",
       "}\r\n",
       "\r\n",
       "portout \"selectedAlternative\" as E5  [[psysml:854815c3-8ae1-4c3d-a371-f12eec0f41ab ]] \r\n",
       "}\r\n",
       "\r\n",
       "@enduml\r\n",
       "\n",
       "PlantUML version 1.2020.13(Sat Jun 13 12:26:38 UTC 2020)\n",
       "(EPL source distribution)\n",
       "Java Runtime: OpenJDK Runtime Environment\n",
       "JVM: OpenJDK 64-Bit Server VM\n",
       "Default Encoding: UTF-8\n",
       "Language: en\n",
       "Country: null\n",
       "--></g></svg>"
      ]
     },
     "execution_count": 34,
     "metadata": {},
     "output_type": "execute_result"
    }
   ],
   "source": [
    "%viz --style=\"PLANTUML\" --view=\"Action\" \"TradeStudyTest\""
   ]
  },
  {
   "cell_type": "code",
   "execution_count": 35,
   "id": "bb87600f",
   "metadata": {
    "execution": {
     "iopub.execute_input": "2021-09-27T07:19:36.723119Z",
     "iopub.status.busy": "2021-09-27T07:19:36.722877Z",
     "iopub.status.idle": "2021-09-27T07:19:36.727015Z",
     "shell.execute_reply": "2021-09-27T07:19:36.727173Z"
    }
   },
   "outputs": [
    {
     "data": {
      "image/svg+xml": [
       "<?xml version=\"1.0\" encoding=\"UTF-8\" standalone=\"no\"?><svg xmlns=\"http://www.w3.org/2000/svg\" xmlns:xlink=\"http://www.w3.org/1999/xlink\" contentScriptType=\"application/ecmascript\" contentStyleType=\"text/css\" height=\"12px\" preserveAspectRatio=\"none\" style=\"width:12px;height:12px;\" version=\"1.1\" viewBox=\"0 0 12 12\" width=\"12px\" zoomAndPan=\"magnify\"><defs/><g><!--MD5=[ca4faa0b02def275ea33c14ea7a1a98d]\n",
       "@startuml\r\n",
       "skinparam roundcorner 20\r\n",
       "skinparam BoxPadding 20\r\n",
       "skinparam SequenceBoxBackgroundColor #white\r\n",
       "skinparam style strictuml\r\n",
       "skinparam maxMessageSize 100\r\n",
       " \r\n",
       "@enduml\r\n",
       "\n",
       "PlantUML version 1.2020.13(Sat Jun 13 12:26:38 UTC 2020)\n",
       "(EPL source distribution)\n",
       "Java Runtime: OpenJDK Runtime Environment\n",
       "JVM: OpenJDK 64-Bit Server VM\n",
       "Default Encoding: UTF-8\n",
       "Language: en\n",
       "Country: null\n",
       "--></g></svg>"
      ]
     },
     "execution_count": 35,
     "metadata": {},
     "output_type": "execute_result"
    }
   ],
   "source": [
    "%viz --style=\"PLANTUML\" --view=\"Sequence\" \"TradeStudyTest\""
   ]
  },
  {
   "cell_type": "code",
   "execution_count": 36,
   "id": "0fb410f2",
   "metadata": {
    "execution": {
     "iopub.execute_input": "2021-09-27T07:19:36.777970Z",
     "iopub.status.busy": "2021-09-27T07:19:36.777727Z",
     "iopub.status.idle": "2021-09-27T07:19:36.821713Z",
     "shell.execute_reply": "2021-09-27T07:19:36.820423Z"
    }
   },
   "outputs": [
    {
     "data": {
      "image/svg+xml": [
       "<?xml version=\"1.0\" encoding=\"UTF-8\" standalone=\"no\"?><svg xmlns=\"http://www.w3.org/2000/svg\" xmlns:xlink=\"http://www.w3.org/1999/xlink\" contentScriptType=\"application/ecmascript\" contentStyleType=\"text/css\" height=\"491px\" preserveAspectRatio=\"none\" style=\"width:636px;height:491px;\" version=\"1.1\" viewBox=\"0 0 636 491\" width=\"636px\" zoomAndPan=\"magnify\"><defs><filter height=\"300%\" id=\"fdd43nrxsqz0\" width=\"300%\" x=\"-1\" y=\"-1\"><feGaussianBlur result=\"blurOut\" stdDeviation=\"2.0\"/><feColorMatrix in=\"blurOut\" result=\"blurOut2\" type=\"matrix\" values=\"0 0 0 0 0 0 0 0 0 0 0 0 0 0 0 0 0 0 .4 0\"/><feOffset dx=\"4.0\" dy=\"4.0\" in=\"blurOut2\" result=\"blurOut3\"/><feBlend in=\"SourceGraphic\" in2=\"blurOut3\" mode=\"normal\"/></filter></defs><g><!--MD5=[fbc87193dbaf4d95561dea2c320d4a47]\n",
       "cluster E1--><a href=\"psysml:e59f1b4e-bf48-44e5-8b03-de7ba4c0da2b\" target=\"_top\" title=\"psysml:e59f1b4e-bf48-44e5-8b03-de7ba4c0da2b\" xlink:actuate=\"onRequest\" xlink:href=\"psysml:e59f1b4e-bf48-44e5-8b03-de7ba4c0da2b\" xlink:show=\"new\" xlink:title=\"psysml:e59f1b4e-bf48-44e5-8b03-de7ba4c0da2b\" xlink:type=\"simple\"><polygon fill=\"#FFFFFF\" filter=\"url(#fdd43nrxsqz0)\" points=\"20.2,6,136.2,6,143.2,28.2969,614.2,28.2969,614.2,479,20.2,479,20.2,6\" style=\"stroke: #000000; stroke-width: 1.5;\"/><line style=\"stroke: #000000; stroke-width: 1.5;\" x1=\"20.2\" x2=\"143.2\" y1=\"28.2969\" y2=\"28.2969\"/><text fill=\"#000000\" font-family=\"sans-serif\" font-size=\"14\" font-weight=\"bold\" lengthAdjust=\"spacingAndGlyphs\" textLength=\"110\" x=\"24.2\" y=\"20.9951\">TradeStudyTest</text></a><!--MD5=[b4997ac47864f28c2f74865a473b2911]\n",
       "class E2--><a href=\"psysml:8032ee8b-b45e-4aab-a334-ddc7f77ca09b\" target=\"_top\" title=\"psysml:8032ee8b-b45e-4aab-a334-ddc7f77ca09b\" xlink:actuate=\"onRequest\" xlink:href=\"psysml:8032ee8b-b45e-4aab-a334-ddc7f77ca09b\" xlink:show=\"new\" xlink:title=\"psysml:8032ee8b-b45e-4aab-a334-ddc7f77ca09b\" xlink:type=\"simple\"><rect fill=\"#FEFECE\" filter=\"url(#fdd43nrxsqz0)\" height=\"40\" id=\"E2\" style=\"stroke: #A80036; stroke-width: 1.5;\" width=\"75\" x=\"221.7\" y=\"423\"/><ellipse cx=\"236.7\" cy=\"439\" fill=\"#008000\" rx=\"11\" ry=\"11\" style=\"stroke: #A80036; stroke-width: 1.0;\"/><path d=\"M233.575,444 L233.575,433.4063 L236.8094,433.4063 Q238.7156,433.4063 239.6219,434.1563 Q240.5438,434.9063 240.5438,436.0781 Q240.5438,436.7656 240.1531,437.4219 Q239.7781,438.0781 239.0594,438.375 Q239.9188,438.75 240.4344,439.4375 Q240.95,440.125 240.95,440.9375 Q240.95,442.3125 239.9188,443.1563 Q238.9031,444 236.7938,444 L233.575,444 Z M235.4969,437.6406 L236.6531,437.6406 Q237.7781,437.6406 238.1844,437.2656 Q238.6063,436.875 238.6063,436.25 Q238.6063,435.6719 238.1844,435.3125 Q237.7625,434.9531 236.825,434.9531 L235.4969,434.9531 L235.4969,437.6406 Z M235.4969,442.4219 L236.9969,442.4219 Q237.9031,442.4219 238.4344,442.0313 Q238.9656,441.6406 238.9656,440.8906 Q238.9656,440.125 238.4656,439.6563 Q237.9656,439.1719 236.7,439.1719 L235.4969,439.1719 L235.4969,442.4219 Z \"/><text fill=\"#000000\" font-family=\"sans-serif\" font-size=\"12\" lengthAdjust=\"spacingAndGlyphs\" textLength=\"43\" x=\"250.7\" y=\"443.1543\">Engine</text><line style=\"stroke: #A80036; stroke-width: 1.5;\" x1=\"222.7\" x2=\"295.7\" y1=\"455\" y2=\"455\"/></a><!--MD5=[09b614a08d8cba4a07c9adeb5e0fee81]\n",
       "class E3--><a href=\"psysml:d1c59f8e-91b7-4873-9a7c-d548f1a74ff0\" target=\"_top\" title=\"psysml:d1c59f8e-91b7-4873-9a7c-d548f1a74ff0\" xlink:actuate=\"onRequest\" xlink:href=\"psysml:d1c59f8e-91b7-4873-9a7c-d548f1a74ff0\" xlink:show=\"new\" xlink:title=\"psysml:d1c59f8e-91b7-4873-9a7c-d548f1a74ff0\" xlink:type=\"simple\"><rect fill=\"#FEFECE\" filter=\"url(#fdd43nrxsqz0)\" height=\"45.9375\" id=\"E3\" rx=\"10\" ry=\"10\" style=\"stroke: #A80036; stroke-width: 1.5;\" width=\"134\" x=\"464.2\" y=\"316\"/><ellipse cx=\"479.2\" cy=\"334.9688\" fill=\"#32CD32\" rx=\"11\" ry=\"11\" style=\"stroke: #A80036; stroke-width: 1.0;\"/><path d=\"M476.0125,339.9688 L476.0125,329.375 L479.6219,329.375 Q480.8406,329.375 481.6375,329.8125 Q482.4344,330.2344 482.8094,330.9375 Q483.2,331.6406 483.2,332.4844 Q483.2,333.3281 482.825,334.0156 Q482.4656,334.7031 481.6688,335.125 Q480.8875,335.5313 479.7,335.5313 L477.9656,335.5313 L477.9656,339.9688 L476.0125,339.9688 Z M477.9656,333.9375 L479.575,333.9375 Q480.3875,333.9375 480.8094,333.5313 Q481.2313,333.125 481.2313,332.4844 Q481.2313,331.8594 480.8094,331.4531 Q480.3875,331.0469 479.5906,331.0469 L477.9656,331.0469 L477.9656,333.9375 Z \"/><text fill=\"#000000\" font-family=\"sans-serif\" font-size=\"12\" font-style=\"italic\" lengthAdjust=\"spacingAndGlyphs\" textLength=\"40\" x=\"524.2\" y=\"332.1387\">«part»</text><text fill=\"#000000\" font-family=\"sans-serif\" font-size=\"12\" lengthAdjust=\"spacingAndGlyphs\" textLength=\"102\" x=\"493.2\" y=\"346.1074\">engine1: Engine</text><line style=\"stroke: #A80036; stroke-width: 1.5;\" x1=\"465.2\" x2=\"597.2\" y1=\"353.9375\" y2=\"353.9375\"/></a><!--MD5=[ebbe1d658d1005bcc118a6aa81145e00]\n",
       "class E4--><a href=\"psysml:b8b914f7-6e3e-418c-a7c7-b0f9195d6204\" target=\"_top\" title=\"psysml:b8b914f7-6e3e-418c-a7c7-b0f9195d6204\" xlink:actuate=\"onRequest\" xlink:href=\"psysml:b8b914f7-6e3e-418c-a7c7-b0f9195d6204\" xlink:show=\"new\" xlink:title=\"psysml:b8b914f7-6e3e-418c-a7c7-b0f9195d6204\" xlink:type=\"simple\"><rect fill=\"#FEFECE\" filter=\"url(#fdd43nrxsqz0)\" height=\"45.9375\" id=\"E4\" rx=\"10\" ry=\"10\" style=\"stroke: #A80036; stroke-width: 1.5;\" width=\"134\" x=\"295.2\" y=\"316\"/><ellipse cx=\"310.2\" cy=\"334.9688\" fill=\"#32CD32\" rx=\"11\" ry=\"11\" style=\"stroke: #A80036; stroke-width: 1.0;\"/><path d=\"M307.0125,339.9688 L307.0125,329.375 L310.6219,329.375 Q311.8406,329.375 312.6375,329.8125 Q313.4344,330.2344 313.8094,330.9375 Q314.2,331.6406 314.2,332.4844 Q314.2,333.3281 313.825,334.0156 Q313.4656,334.7031 312.6688,335.125 Q311.8875,335.5313 310.7,335.5313 L308.9656,335.5313 L308.9656,339.9688 L307.0125,339.9688 Z M308.9656,333.9375 L310.575,333.9375 Q311.3875,333.9375 311.8094,333.5313 Q312.2313,333.125 312.2313,332.4844 Q312.2313,331.8594 311.8094,331.4531 Q311.3875,331.0469 310.5906,331.0469 L308.9656,331.0469 L308.9656,333.9375 Z \"/><text fill=\"#000000\" font-family=\"sans-serif\" font-size=\"12\" font-style=\"italic\" lengthAdjust=\"spacingAndGlyphs\" textLength=\"40\" x=\"355.2\" y=\"332.1387\">«part»</text><text fill=\"#000000\" font-family=\"sans-serif\" font-size=\"12\" lengthAdjust=\"spacingAndGlyphs\" textLength=\"102\" x=\"324.2\" y=\"346.1074\">engine2: Engine</text><line style=\"stroke: #A80036; stroke-width: 1.5;\" x1=\"296.2\" x2=\"428.2\" y1=\"353.9375\" y2=\"353.9375\"/></a><!--MD5=[270fce915f116d4de14055a7c1d9a0f3]\n",
       "class E5--><a href=\"psysml:d010e11c-db6d-479b-b98e-aa7ac12f08dc\" target=\"_top\" title=\"psysml:d010e11c-db6d-479b-b98e-aa7ac12f08dc\" xlink:actuate=\"onRequest\" xlink:href=\"psysml:d010e11c-db6d-479b-b98e-aa7ac12f08dc\" xlink:show=\"new\" xlink:title=\"psysml:d010e11c-db6d-479b-b98e-aa7ac12f08dc\" xlink:type=\"simple\"><rect fill=\"#FEFECE\" filter=\"url(#fdd43nrxsqz0)\" height=\"45.9375\" id=\"E5\" rx=\"10\" ry=\"10\" style=\"stroke: #A80036; stroke-width: 1.5;\" width=\"225\" x=\"283.7\" y=\"41\"/><ellipse cx=\"298.7\" cy=\"59.9688\" fill=\"#B6DBBB\" rx=\"11\" ry=\"11\" style=\"stroke: #A80036; stroke-width: 1.0;\"/><path d=\"M298.45,65.4375 Q296.7,65.4375 295.7469,64.4063 Q294.8094,63.3594 294.8094,61.5156 L294.8094,54.625 L296.8719,54.625 L296.8719,54.7813 Q296.7781,54.875 296.7469,55.0156 Q296.7313,55.1406 296.7313,55.4063 L296.7313,61.5313 Q296.7313,62.625 297.1063,63.25 Q297.4813,63.875 298.4656,63.875 Q299.45,63.875 299.8406,63.25 Q300.2313,62.625 300.2313,61.4844 L300.2313,54.625 L302.1063,54.625 L302.1063,61.4688 Q302.1063,63.5 301.075,64.4688 Q300.0594,65.4375 298.45,65.4375 Z \"/><text fill=\"#000000\" font-family=\"sans-serif\" font-size=\"12\" font-style=\"italic\" lengthAdjust=\"spacingAndGlyphs\" textLength=\"64\" x=\"377.2\" y=\"57.1387\">«analysis»</text><text fill=\"#000000\" font-family=\"sans-serif\" font-size=\"12\" lengthAdjust=\"spacingAndGlyphs\" textLength=\"193\" x=\"312.7\" y=\"71.1074\">engineTradeStudy: TradeStudy</text><line style=\"stroke: #A80036; stroke-width: 1.5;\" x1=\"284.7\" x2=\"507.7\" y1=\"78.9375\" y2=\"78.9375\"/></a><!--MD5=[60a26617385b1d2d0262a64233df1f8d]\n",
       "class E6--><a href=\"psysml:baa50d6d-f728-4fdb-a3d8-0324d2e9c263\" target=\"_top\" title=\"psysml:baa50d6d-f728-4fdb-a3d8-0324d2e9c263\" xlink:actuate=\"onRequest\" xlink:href=\"psysml:baa50d6d-f728-4fdb-a3d8-0324d2e9c263\" xlink:show=\"new\" xlink:title=\"psysml:baa50d6d-f728-4fdb-a3d8-0324d2e9c263\" xlink:type=\"simple\"><rect fill=\"#FEFECE\" filter=\"url(#fdd43nrxsqz0)\" height=\"45.9375\" id=\"E6\" rx=\"10\" ry=\"10\" style=\"stroke: #A80036; stroke-width: 1.5;\" width=\"277\" x=\"106.7\" y=\"164\"/><ellipse cx=\"121.7\" cy=\"182.9688\" fill=\"#FFA500\" rx=\"11\" ry=\"11\" style=\"stroke: #A80036; stroke-width: 1.0;\"/><path d=\"M121.45,188.4375 Q119.7,188.4375 118.7469,187.4063 Q117.8094,186.3594 117.8094,184.5156 L117.8094,177.625 L119.8719,177.625 L119.8719,177.7813 Q119.7781,177.875 119.7469,178.0156 Q119.7313,178.1406 119.7313,178.4063 L119.7313,184.5313 Q119.7313,185.625 120.1063,186.25 Q120.4813,186.875 121.4656,186.875 Q122.45,186.875 122.8406,186.25 Q123.2313,185.625 123.2313,184.4844 L123.2313,177.625 L125.1063,177.625 L125.1063,184.4688 Q125.1063,186.5 124.075,187.4688 Q123.0594,188.4375 121.45,188.4375 Z \"/><text fill=\"#000000\" font-family=\"sans-serif\" font-size=\"12\" font-style=\"italic\" lengthAdjust=\"spacingAndGlyphs\" textLength=\"91\" x=\"212.7\" y=\"180.1387\">«requirement»</text><text fill=\"#000000\" font-family=\"sans-serif\" font-size=\"12\" lengthAdjust=\"spacingAndGlyphs\" textLength=\"245\" x=\"135.7\" y=\"194.1074\">tradeStudyObjective: MaximizeObjective</text><line style=\"stroke: #A80036; stroke-width: 1.5;\" x1=\"107.7\" x2=\"382.7\" y1=\"201.9375\" y2=\"201.9375\"/></a><!--MD5=[2156ba9850f5573cc1fc38a6a4b2f02b]\n",
       "class E7--><a href=\"psysml:c3bcbf7c-d2b8-4beb-b9e4-ef0b91eba9be\" target=\"_top\" title=\"psysml:c3bcbf7c-d2b8-4beb-b9e4-ef0b91eba9be\" xlink:actuate=\"onRequest\" xlink:href=\"psysml:c3bcbf7c-d2b8-4beb-b9e4-ef0b91eba9be\" xlink:show=\"new\" xlink:title=\"psysml:c3bcbf7c-d2b8-4beb-b9e4-ef0b91eba9be\" xlink:type=\"simple\"><rect fill=\"#FEFECE\" filter=\"url(#fdd43nrxsqz0)\" height=\"45.9375\" id=\"E7\" rx=\"10\" ry=\"10\" style=\"stroke: #A80036; stroke-width: 1.5;\" width=\"142\" x=\"419.2\" y=\"164\"/><ellipse cx=\"434.2\" cy=\"182.9688\" fill=\"#FFA500\" rx=\"11\" ry=\"11\" style=\"stroke: #A80036; stroke-width: 1.0;\"/><path d=\"M433.95,188.4375 Q432.2,188.4375 431.2469,187.4063 Q430.3094,186.3594 430.3094,184.5156 L430.3094,177.625 L432.3719,177.625 L432.3719,177.7813 Q432.2781,177.875 432.2469,178.0156 Q432.2313,178.1406 432.2313,178.4063 L432.2313,184.5313 Q432.2313,185.625 432.6063,186.25 Q432.9813,186.875 433.9656,186.875 Q434.95,186.875 435.3406,186.25 Q435.7313,185.625 435.7313,184.4844 L435.7313,177.625 L437.6063,177.625 L437.6063,184.4688 Q437.6063,186.5 436.575,187.4688 Q435.5594,188.4375 433.95,188.4375 Z \"/><text fill=\"#000000\" font-family=\"sans-serif\" font-size=\"12\" font-style=\"italic\" lengthAdjust=\"spacingAndGlyphs\" textLength=\"82\" x=\"462.2\" y=\"180.1387\">«calculation»</text><text fill=\"#000000\" font-family=\"sans-serif\" font-size=\"12\" lengthAdjust=\"spacingAndGlyphs\" textLength=\"110\" x=\"448.2\" y=\"194.1074\">objectiveFunction</text><line style=\"stroke: #A80036; stroke-width: 1.5;\" x1=\"420.2\" x2=\"560.2\" y1=\"201.9375\" y2=\"201.9375\"/></a><!--MD5=[b9389687b975829384b498ac4b7476b2]\n",
       "class E8--><a href=\"psysml:c18a795f-fd76-4ffb-a70d-e612388b917b\" target=\"_top\" title=\"psysml:c18a795f-fd76-4ffb-a70d-e612388b917b\" xlink:actuate=\"onRequest\" xlink:href=\"psysml:c18a795f-fd76-4ffb-a70d-e612388b917b\" xlink:show=\"new\" xlink:title=\"psysml:c18a795f-fd76-4ffb-a70d-e612388b917b\" xlink:type=\"simple\"><rect fill=\"#FEFECE\" filter=\"url(#fdd43nrxsqz0)\" height=\"45.9375\" id=\"E8\" rx=\"10\" ry=\"10\" style=\"stroke: #A80036; stroke-width: 1.5;\" width=\"150\" x=\"73.2\" y=\"316\"/><ellipse cx=\"88.2\" cy=\"334.9688\" fill=\"#32CD32\" rx=\"11\" ry=\"11\" style=\"stroke: #A80036; stroke-width: 1.0;\"/><path d=\"M85.0125,339.9688 L85.0125,329.375 L88.6219,329.375 Q89.8406,329.375 90.6375,329.8125 Q91.4344,330.2344 91.8094,330.9375 Q92.2,331.6406 92.2,332.4844 Q92.2,333.3281 91.825,334.0156 Q91.4656,334.7031 90.6688,335.125 Q89.8875,335.5313 88.7,335.5313 L86.9656,335.5313 L86.9656,339.9688 L85.0125,339.9688 Z M86.9656,333.9375 L88.575,333.9375 Q89.3875,333.9375 89.8094,333.5313 Q90.2313,333.125 90.2313,332.4844 Q90.2313,331.8594 89.8094,331.4531 Q89.3875,331.0469 88.5906,331.0469 L86.9656,331.0469 L86.9656,333.9375 Z \"/><text fill=\"#000000\" font-family=\"sans-serif\" font-size=\"12\" font-style=\"italic\" lengthAdjust=\"spacingAndGlyphs\" textLength=\"40\" x=\"141.2\" y=\"332.1387\">«part»</text><text fill=\"#000000\" font-family=\"sans-serif\" font-size=\"12\" lengthAdjust=\"spacingAndGlyphs\" textLength=\"118\" x=\"102.2\" y=\"346.1074\">alternative: Engine</text><line style=\"stroke: #A80036; stroke-width: 1.5;\" x1=\"74.2\" x2=\"222.2\" y1=\"353.9375\" y2=\"353.9375\"/></a><!--MD5=[fd4143e9d270a159db93a4ea2a975926]\n",
       "class E9--><a href=\"psysml:854815c3-8ae1-4c3d-a371-f12eec0f41ab\" target=\"_top\" title=\"psysml:854815c3-8ae1-4c3d-a371-f12eec0f41ab\" xlink:actuate=\"onRequest\" xlink:href=\"psysml:854815c3-8ae1-4c3d-a371-f12eec0f41ab\" xlink:show=\"new\" xlink:title=\"psysml:854815c3-8ae1-4c3d-a371-f12eec0f41ab\" xlink:type=\"simple\"><rect fill=\"#FEFECE\" filter=\"url(#fdd43nrxsqz0)\" height=\"45.9375\" id=\"E9\" rx=\"10\" ry=\"10\" style=\"stroke: #A80036; stroke-width: 1.5;\" width=\"204\" x=\"275.2\" y=\"240\"/><ellipse cx=\"290.2\" cy=\"258.9688\" fill=\"#32CD32\" rx=\"11\" ry=\"11\" style=\"stroke: #A80036; stroke-width: 1.0;\"/><path d=\"M287.0125,263.9688 L287.0125,253.375 L290.6219,253.375 Q291.8406,253.375 292.6375,253.8125 Q293.4344,254.2344 293.8094,254.9375 Q294.2,255.6406 294.2,256.4844 Q294.2,257.3281 293.825,258.0156 Q293.4656,258.7031 292.6688,259.125 Q291.8875,259.5313 290.7,259.5313 L288.9656,259.5313 L288.9656,263.9688 L287.0125,263.9688 Z M288.9656,257.9375 L290.575,257.9375 Q291.3875,257.9375 291.8094,257.5313 Q292.2313,257.125 292.2313,256.4844 Q292.2313,255.8594 291.8094,255.4531 Q291.3875,255.0469 290.5906,255.0469 L288.9656,255.0469 L288.9656,257.9375 Z \"/><text fill=\"#000000\" font-family=\"sans-serif\" font-size=\"12\" font-style=\"italic\" lengthAdjust=\"spacingAndGlyphs\" textLength=\"40\" x=\"370.2\" y=\"256.1387\">«part»</text><text fill=\"#000000\" font-family=\"sans-serif\" font-size=\"12\" lengthAdjust=\"spacingAndGlyphs\" textLength=\"172\" x=\"304.2\" y=\"270.1074\">selectedAlternative: Engine</text><line style=\"stroke: #A80036; stroke-width: 1.5;\" x1=\"276.2\" x2=\"478.2\" y1=\"277.9375\" y2=\"277.9375\"/></a><!--MD5=[05d275557350bfb9b23a4ef7222b4c39]\n",
       "link E3 to E2--><a href=\"psysml:a477e10c-c644-4ab8-a0d7-73b747f4931b\" target=\"_top\" title=\"psysml:a477e10c-c644-4ab8-a0d7-73b747f4931b\" xlink:actuate=\"onRequest\" xlink:href=\"psysml:a477e10c-c644-4ab8-a0d7-73b747f4931b\" xlink:show=\"new\" xlink:title=\"psysml:a477e10c-c644-4ab8-a0d7-73b747f4931b\" xlink:type=\"simple\"><path d=\"M472.51,362.01 C426.12,379.4 361.76,403.54 315.9,420.74 \" fill=\"none\" id=\"E3-&gt;E2\" style=\"stroke: #A80036; stroke-width: 1.0;\"/><polygon fill=\"#FFFFFF\" points=\"296.87,427.87,312.2079,414.6508,317.1182,427.7614,296.87,427.87\" style=\"stroke: #A80036; stroke-width: 1.0;\"/><ellipse cx=\"318.2473\" cy=\"414.5245\" fill=\"#A80036\" rx=\"2\" ry=\"2\" style=\"stroke: #A80036; stroke-width: 1.0;\"/><ellipse cx=\"321.7546\" cy=\"423.8893\" fill=\"#A80036\" rx=\"2\" ry=\"2\" style=\"stroke: #A80036; stroke-width: 1.0;\"/></a><!--MD5=[185131fc0dcab0a4505a2ebe144e961b]\n",
       "link E4 to E2--><a href=\"psysml:006a8138-edc7-4443-807d-fbbb291c6f87\" target=\"_top\" title=\"psysml:006a8138-edc7-4443-807d-fbbb291c6f87\" xlink:actuate=\"onRequest\" xlink:href=\"psysml:006a8138-edc7-4443-807d-fbbb291c6f87\" xlink:show=\"new\" xlink:title=\"psysml:006a8138-edc7-4443-807d-fbbb291c6f87\" xlink:type=\"simple\"><path d=\"M339.85,362.13 C326.09,375.76 308.2,393.47 292.76,408.76 \" fill=\"none\" id=\"E4-&gt;E2\" style=\"stroke: #A80036; stroke-width: 1.0;\"/><polygon fill=\"#FFFFFF\" points=\"278.39,423,286.968,404.6583,296.8174,414.6077,278.39,423\" style=\"stroke: #A80036; stroke-width: 1.0;\"/><ellipse cx=\"292.4259\" cy=\"402.0695\" fill=\"#A80036\" rx=\"2\" ry=\"2\" style=\"stroke: #A80036; stroke-width: 1.0;\"/><ellipse cx=\"299.4612\" cy=\"409.1762\" fill=\"#A80036\" rx=\"2\" ry=\"2\" style=\"stroke: #A80036; stroke-width: 1.0;\"/></a><!--MD5=[15ebcb19ae302d9b601edb458606d402]\n",
       "link E5 to E2--><a href=\"psysml:0f7006cc-acd6-40d1-b198-a80e8f08765e\" target=\"_top\" title=\"psysml:0f7006cc-acd6-40d1-b198-a80e8f08765e\" xlink:actuate=\"onRequest\" xlink:href=\"psysml:0f7006cc-acd6-40d1-b198-a80e8f08765e\" xlink:show=\"new\" xlink:title=\"psysml:0f7006cc-acd6-40d1-b198-a80e8f08765e\" xlink:type=\"simple\"><path d=\"M283.33,73.88 C217.7,84.99 138.47,109.64 89.2,164 C29.29,230.1 6,288.25 56.2,362 C91.99,414.57 168.14,432.6 216.32,438.78 \" fill=\"none\" id=\"E5-&gt;E2\" style=\"stroke: #A80036; stroke-width: 1.0; stroke-dasharray: 7.0,7.0;\"/><polygon fill=\"#A80036\" points=\"221.48,439.41,213.0385,434.3365,216.5177,438.7968,212.0574,442.2761,221.48,439.41\" style=\"stroke: #A80036; stroke-width: 1.0;\"/><text fill=\"#000000\" font-family=\"sans-serif\" font-size=\"13\" lengthAdjust=\"spacingAndGlyphs\" textLength=\"62\" x=\"39.2\" y=\"267.5669\">«subject»</text></a><!--MD5=[9120cf2e5df3bff93db8f754bbbc09b4]\n",
       "link E5 to E6--><a href=\"psysml:33b70aea-82ec-44f7-8a12-3ec54376cb03\" target=\"_top\" title=\"psysml:33b70aea-82ec-44f7-8a12-3ec54376cb03\" xlink:actuate=\"onRequest\" xlink:href=\"psysml:33b70aea-82ec-44f7-8a12-3ec54376cb03\" xlink:show=\"new\" xlink:title=\"psysml:33b70aea-82ec-44f7-8a12-3ec54376cb03\" xlink:type=\"simple\"><path d=\"M368.5,87.19 C343.28,107.41 305.97,137.31 279,158.92 \" fill=\"none\" id=\"E5-&gt;E6\" style=\"stroke: #A80036; stroke-width: 1.0;\"/><polygon fill=\"#A80036\" points=\"272.72,163.95,280.8396,161.2905,277.0888,156.6074,272.72,163.95\" style=\"stroke: #A80036; stroke-width: 1.0;\"/><text fill=\"#000000\" font-family=\"sans-serif\" font-size=\"13\" lengthAdjust=\"spacingAndGlyphs\" textLength=\"73\" x=\"330.2\" y=\"130.0669\">«objective»</text></a><!--MD5=[452b418e7f8a40397a49b8c0a78acc5b]\n",
       "reverse link E5 to E7--><a href=\"psysml:9ca3a684-dbe3-4511-9e21-3cef746855e2\" target=\"_top\" title=\"psysml:9ca3a684-dbe3-4511-9e21-3cef746855e2\" xlink:actuate=\"onRequest\" xlink:href=\"psysml:9ca3a684-dbe3-4511-9e21-3cef746855e2\" xlink:show=\"new\" xlink:title=\"psysml:9ca3a684-dbe3-4511-9e21-3cef746855e2\" xlink:type=\"simple\"><path d=\"M421.52,97.59 C437.85,118.61 458.66,145.4 473.07,163.95 \" fill=\"none\" id=\"E5&lt;-E7\" style=\"stroke: #A80036; stroke-width: 1.0;\"/><polygon fill=\"#A80036\" points=\"413.44,87.19,413.9586,94.3824,420.7972,96.67,420.2786,89.4776,413.44,87.19\" style=\"stroke: #A80036; stroke-width: 1.0;\"/></a><!--MD5=[dc164f5e8a733ab456ef1add180e9e34]\n",
       "reverse link E7 to E8--><a href=\"psysml:8f87ba26-7a36-4a80-9ed1-e463a907c7c6\" target=\"_top\" title=\"psysml:8f87ba26-7a36-4a80-9ed1-e463a907c7c6\" xlink:actuate=\"onRequest\" xlink:href=\"psysml:8f87ba26-7a36-4a80-9ed1-e463a907c7c6\" xlink:show=\"new\" xlink:title=\"psysml:8f87ba26-7a36-4a80-9ed1-e463a907c7c6\" xlink:type=\"simple\"><path d=\"M406.09,208.88 C404.45,209.26 402.81,209.63 401.2,210 C337.89,224.46 316.18,210.75 258.2,240 C221.21,258.66 186.98,292.95 166.84,315.61 \" fill=\"none\" id=\"E7&lt;-E8\" style=\"stroke: #A80036; stroke-width: 1.0;\"/><polygon fill=\"#FFFFFF\" points=\"418.84,205.88,412.0846,203.3572,407.1576,208.6226,413.913,211.1454,418.84,205.88\" style=\"stroke: #A80036; stroke-width: 1.0;\"/><text fill=\"#000000\" font-family=\"sans-serif\" font-size=\"13\" lengthAdjust=\"spacingAndGlyphs\" textLength=\"8\" x=\"162.5915\" y=\"304.7864\">1</text></a><!--MD5=[f1f3f9f2fc535e6147756cb86a7f2e32]\n",
       "link E8 to E2--><a href=\"psysml:bdf7178e-b1d2-4aa0-b7b5-71013aa1f7a9\" target=\"_top\" title=\"psysml:bdf7178e-b1d2-4aa0-b7b5-71013aa1f7a9\" xlink:actuate=\"onRequest\" xlink:href=\"psysml:bdf7178e-b1d2-4aa0-b7b5-71013aa1f7a9\" xlink:show=\"new\" xlink:title=\"psysml:bdf7178e-b1d2-4aa0-b7b5-71013aa1f7a9\" xlink:type=\"simple\"><path d=\"M172.29,362.13 C187.26,375.9 206.8,393.84 223.55,409.24 \" fill=\"none\" id=\"E8-&gt;E2\" style=\"stroke: #A80036; stroke-width: 1.0;\"/><polygon fill=\"#FFFFFF\" points=\"238.52,423,219.7918,415.3024,229.2623,404.9918,238.52,423\" style=\"stroke: #A80036; stroke-width: 1.0;\"/><ellipse cx=\"216.9468\" cy=\"409.9736\" fill=\"#A80036\" rx=\"2\" ry=\"2\" style=\"stroke: #A80036; stroke-width: 1.0;\"/><ellipse cx=\"223.7115\" cy=\"402.6089\" fill=\"#A80036\" rx=\"2\" ry=\"2\" style=\"stroke: #A80036; stroke-width: 1.0;\"/></a><!--MD5=[9ae28de373ca99bb8a1b38d63370ca7e]\n",
       "reverse link E5 to E9--><a href=\"psysml:a1ab5fdf-7d24-4497-9ea2-3c4d95277eba\" target=\"_top\" title=\"psysml:a1ab5fdf-7d24-4497-9ea2-3c4d95277eba\" xlink:actuate=\"onRequest\" xlink:href=\"psysml:a1ab5fdf-7d24-4497-9ea2-3c4d95277eba\" xlink:show=\"new\" xlink:title=\"psysml:a1ab5fdf-7d24-4497-9ea2-3c4d95277eba\" xlink:type=\"simple\"><path d=\"M477.44,91.83 C542.71,117.79 617.64,160.42 579.2,210 C566.19,226.78 522.73,239.1 479.43,247.52 \" fill=\"none\" id=\"E5&lt;-E9\" style=\"stroke: #A80036; stroke-width: 1.0;\"/><polygon fill=\"#FFFFFF\" points=\"464.97,87.02,469.1253,92.9135,476.1637,91.3445,472.0083,85.451,464.97,87.02\" style=\"stroke: #A80036; stroke-width: 1.0;\"/><text fill=\"#000000\" font-family=\"sans-serif\" font-size=\"13\" lengthAdjust=\"spacingAndGlyphs\" textLength=\"8\" x=\"487.2313\" y=\"242.9065\">1</text></a><!--MD5=[5c3bb36fe832a92c7f0e1807dd65209d]\n",
       "link E9 to E2--><a href=\"psysml:9bedaae2-b2c6-4d70-8011-f34c154ea99f\" target=\"_top\" title=\"psysml:9bedaae2-b2c6-4d70-8011-f34c154ea99f\" xlink:actuate=\"onRequest\" xlink:href=\"psysml:9bedaae2-b2c6-4d70-8011-f34c154ea99f\" xlink:show=\"new\" xlink:title=\"psysml:9bedaae2-b2c6-4d70-8011-f34c154ea99f\" xlink:type=\"simple\"><path d=\"M313.67,286.14 C300.09,293.64 287.15,303.42 278.2,316 C260.36,341.07 256.3,376.08 256.31,402.84 \" fill=\"none\" id=\"E9-&gt;E2\" style=\"stroke: #A80036; stroke-width: 1.0;\"/><polygon fill=\"#FFFFFF\" points=\"257.06,422.97,249.3591,404.2431,263.3494,403.7231,257.06,422.97\" style=\"stroke: #A80036; stroke-width: 1.0;\"/><ellipse cx=\"251.146\" cy=\"398.4728\" fill=\"#A80036\" rx=\"2\" ry=\"2\" style=\"stroke: #A80036; stroke-width: 1.0;\"/><ellipse cx=\"261.1391\" cy=\"398.1013\" fill=\"#A80036\" rx=\"2\" ry=\"2\" style=\"stroke: #A80036; stroke-width: 1.0;\"/></a><!--MD5=[82296c14831af6a1868071c6227584b6]\n",
       "@startuml\r\n",
       " \r\n",
       "package \"TradeStudyTest\" as E1  [[psysml:e59f1b4e-bf48-44e5-8b03-de7ba4c0da2b ]]  {\r\n",
       "comp def \"Engine\" as E2 << << (B,green) >> [[psysml:8032ee8b-b45e-4aab-a334-ddc7f77ca09b ]] {\r\n",
       "}\r\n",
       "comp usage \"engine1: Engine\" as E3 << << (P,limegreen) part>> [[psysml:d1c59f8e-91b7-4873-9a7c-d548f1a74ff0 ]] {\r\n",
       "}\r\n",
       "comp usage \"engine2: Engine\" as E4 << << (P,limegreen) part>> [[psysml:b8b914f7-6e3e-418c-a7c7-b0f9195d6204 ]] {\r\n",
       "}\r\n",
       "comp usage \"engineTradeStudy: TradeStudy\" as E5 << analysis>> [[psysml:d010e11c-db6d-479b-b98e-aa7ac12f08dc ]] {\r\n",
       "}\r\n",
       "comp usage \"tradeStudyObjective: MaximizeObjective\" as E6 << <<(U,orange) requirement>> [[psysml:baa50d6d-f728-4fdb-a3d8-0324d2e9c263 ]] {\r\n",
       "}\r\n",
       "comp usage \"objectiveFunction\" as E7 << <<(U,orange) calculation>> [[psysml:c3bcbf7c-d2b8-4beb-b9e4-ef0b91eba9be ]] {\r\n",
       "}\r\n",
       "comp usage \"alternative: Engine\" as E8 << << (P,limegreen) part>> [[psysml:c18a795f-fd76-4ffb-a70d-e612388b917b ]] {\r\n",
       "}\r\n",
       "comp usage \"selectedAlternative: Engine\" as E9 << << (P,limegreen) part>> [[psysml:854815c3-8ae1-4c3d-a371-f12eec0f41ab ]] {\r\n",
       "}\r\n",
       "}\r\n",
       "E3 - -:|> E2 [[psysml:a477e10c-c644-4ab8-a0d7-73b747f4931b ]] \r\n",
       "E4 - -:|> E2 [[psysml:006a8138-edc7-4443-807d-fbbb291c6f87 ]] \r\n",
       "E5 ..> E2 [[psysml:0f7006cc-acd6-40d1-b198-a80e8f08765e ]] : <<subject>>\r\n",
       "E5 - ->> E6 [[psysml:33b70aea-82ec-44f7-8a12-3ec54376cb03 ]] : <<objective>>\r\n",
       "E5 *- - E7 [[psysml:9ca3a684-dbe3-4511-9e21-3cef746855e2 ]] \r\n",
       "E7 o- - \"1\"E8 [[psysml:8f87ba26-7a36-4a80-9ed1-e463a907c7c6 ]] \r\n",
       "E8 - -:|> E2 [[psysml:bdf7178e-b1d2-4aa0-b7b5-71013aa1f7a9 ]] \r\n",
       "E5 o- - \"1\"E9 [[psysml:a1ab5fdf-7d24-4497-9ea2-3c4d95277eba ]] \r\n",
       "E9 - -:|> E2 [[psysml:9bedaae2-b2c6-4d70-8011-f34c154ea99f ]] \r\n",
       "@enduml\r\n",
       "\n",
       "PlantUML version 1.2020.13(Sat Jun 13 12:26:38 UTC 2020)\n",
       "(EPL source distribution)\n",
       "Java Runtime: OpenJDK Runtime Environment\n",
       "JVM: OpenJDK 64-Bit Server VM\n",
       "Default Encoding: UTF-8\n",
       "Language: en\n",
       "Country: null\n",
       "--></g></svg>"
      ]
     },
     "execution_count": 36,
     "metadata": {},
     "output_type": "execute_result"
    }
   ],
   "source": [
    "%viz --style=\"PLANTUML\" --view=\"MIXED\" \"TradeStudyTest\""
   ]
  },
  {
   "cell_type": "code",
   "execution_count": 37,
   "id": "440e6b2f",
   "metadata": {
    "execution": {
     "iopub.execute_input": "2021-09-27T07:19:36.871169Z",
     "iopub.status.busy": "2021-09-27T07:19:36.870951Z",
     "iopub.status.idle": "2021-09-27T07:19:36.911202Z",
     "shell.execute_reply": "2021-09-27T07:19:36.910885Z"
    }
   },
   "outputs": [
    {
     "data": {
      "image/svg+xml": [
       "<?xml version=\"1.0\" encoding=\"UTF-8\" standalone=\"no\"?><svg xmlns=\"http://www.w3.org/2000/svg\" xmlns:xlink=\"http://www.w3.org/1999/xlink\" contentScriptType=\"application/ecmascript\" contentStyleType=\"text/css\" height=\"497px\" preserveAspectRatio=\"none\" style=\"width:556px;height:497px;\" version=\"1.1\" viewBox=\"0 0 556 497\" width=\"556px\" zoomAndPan=\"magnify\"><defs/><g><!--MD5=[fbc87193dbaf4d95561dea2c320d4a47]\n",
       "cluster E1--><a href=\"psysml:e59f1b4e-bf48-44e5-8b03-de7ba4c0da2b\" target=\"_top\" title=\"psysml:e59f1b4e-bf48-44e5-8b03-de7ba4c0da2b\" xlink:actuate=\"onRequest\" xlink:href=\"psysml:e59f1b4e-bf48-44e5-8b03-de7ba4c0da2b\" xlink:show=\"new\" xlink:title=\"psysml:e59f1b4e-bf48-44e5-8b03-de7ba4c0da2b\" xlink:type=\"simple\"><polygon fill=\"#FFFFFF\" points=\"18.32,6,134.32,6,141.32,28.2969,534.32,28.2969,534.32,485,18.32,485,18.32,6\" style=\"stroke: #000000; stroke-width: 1.5;\"/><line style=\"stroke: #000000; stroke-width: 1.5;\" x1=\"18.32\" x2=\"141.32\" y1=\"28.2969\" y2=\"28.2969\"/><text fill=\"#000000\" font-family=\"sans-serif\" font-size=\"14\" font-weight=\"bold\" lengthAdjust=\"spacingAndGlyphs\" textLength=\"110\" x=\"22.32\" y=\"20.9951\">TradeStudyTest</text></a><!--MD5=[b4997ac47864f28c2f74865a473b2911]\n",
       "class E2--><a href=\"psysml:8032ee8b-b45e-4aab-a334-ddc7f77ca09b\" target=\"_top\" title=\"psysml:8032ee8b-b45e-4aab-a334-ddc7f77ca09b\" xlink:actuate=\"onRequest\" xlink:href=\"psysml:8032ee8b-b45e-4aab-a334-ddc7f77ca09b\" xlink:show=\"new\" xlink:title=\"psysml:8032ee8b-b45e-4aab-a334-ddc7f77ca09b\" xlink:type=\"simple\"><rect fill=\"#FFFFFF\" height=\"45.9375\" id=\"E2\" style=\"stroke: #383838; stroke-width: 1.5;\" width=\"66\" x=\"198.32\" y=\"423\"/><text fill=\"#000000\" font-family=\"sans-serif\" font-size=\"12\" font-style=\"italic\" lengthAdjust=\"spacingAndGlyphs\" textLength=\"64\" x=\"199.32\" y=\"439.1387\">«part def»</text><text fill=\"#000000\" font-family=\"sans-serif\" font-size=\"12\" lengthAdjust=\"spacingAndGlyphs\" textLength=\"43\" x=\"209.82\" y=\"453.1074\">Engine</text><line style=\"stroke: #383838; stroke-width: 1.5;\" x1=\"199.32\" x2=\"263.32\" y1=\"460.9375\" y2=\"460.9375\"/></a><!--MD5=[09b614a08d8cba4a07c9adeb5e0fee81]\n",
       "class E3--><a href=\"psysml:d1c59f8e-91b7-4873-9a7c-d548f1a74ff0\" target=\"_top\" title=\"psysml:d1c59f8e-91b7-4873-9a7c-d548f1a74ff0\" xlink:actuate=\"onRequest\" xlink:href=\"psysml:d1c59f8e-91b7-4873-9a7c-d548f1a74ff0\" xlink:show=\"new\" xlink:title=\"psysml:d1c59f8e-91b7-4873-9a7c-d548f1a74ff0\" xlink:type=\"simple\"><rect fill=\"#FFFFFF\" height=\"45.9375\" id=\"E3\" rx=\"10\" ry=\"10\" style=\"stroke: #383838; stroke-width: 1.5;\" width=\"108\" x=\"410.32\" y=\"316\"/><text fill=\"#000000\" font-family=\"sans-serif\" font-size=\"12\" font-style=\"italic\" lengthAdjust=\"spacingAndGlyphs\" textLength=\"40\" x=\"444.32\" y=\"332.1387\">«part»</text><text fill=\"#000000\" font-family=\"sans-serif\" font-size=\"12\" lengthAdjust=\"spacingAndGlyphs\" textLength=\"102\" x=\"413.32\" y=\"346.1074\">engine1: Engine</text><line style=\"stroke: #383838; stroke-width: 1.5;\" x1=\"411.32\" x2=\"517.32\" y1=\"353.9375\" y2=\"353.9375\"/></a><!--MD5=[ebbe1d658d1005bcc118a6aa81145e00]\n",
       "class E4--><a href=\"psysml:b8b914f7-6e3e-418c-a7c7-b0f9195d6204\" target=\"_top\" title=\"psysml:b8b914f7-6e3e-418c-a7c7-b0f9195d6204\" xlink:actuate=\"onRequest\" xlink:href=\"psysml:b8b914f7-6e3e-418c-a7c7-b0f9195d6204\" xlink:show=\"new\" xlink:title=\"psysml:b8b914f7-6e3e-418c-a7c7-b0f9195d6204\" xlink:type=\"simple\"><rect fill=\"#FFFFFF\" height=\"45.9375\" id=\"E4\" rx=\"10\" ry=\"10\" style=\"stroke: #383838; stroke-width: 1.5;\" width=\"108\" x=\"267.32\" y=\"316\"/><text fill=\"#000000\" font-family=\"sans-serif\" font-size=\"12\" font-style=\"italic\" lengthAdjust=\"spacingAndGlyphs\" textLength=\"40\" x=\"301.32\" y=\"332.1387\">«part»</text><text fill=\"#000000\" font-family=\"sans-serif\" font-size=\"12\" lengthAdjust=\"spacingAndGlyphs\" textLength=\"102\" x=\"270.32\" y=\"346.1074\">engine2: Engine</text><line style=\"stroke: #383838; stroke-width: 1.5;\" x1=\"268.32\" x2=\"374.32\" y1=\"353.9375\" y2=\"353.9375\"/></a><!--MD5=[270fce915f116d4de14055a7c1d9a0f3]\n",
       "class E5--><a href=\"psysml:d010e11c-db6d-479b-b98e-aa7ac12f08dc\" target=\"_top\" title=\"psysml:d010e11c-db6d-479b-b98e-aa7ac12f08dc\" xlink:actuate=\"onRequest\" xlink:href=\"psysml:d010e11c-db6d-479b-b98e-aa7ac12f08dc\" xlink:show=\"new\" xlink:title=\"psysml:d010e11c-db6d-479b-b98e-aa7ac12f08dc\" xlink:type=\"simple\"><rect fill=\"#FFFFFF\" height=\"45.9375\" id=\"E5\" rx=\"10\" ry=\"10\" style=\"stroke: #383838; stroke-width: 1.5;\" width=\"199\" x=\"239.82\" y=\"41\"/><text fill=\"#000000\" font-family=\"sans-serif\" font-size=\"12\" font-style=\"italic\" lengthAdjust=\"spacingAndGlyphs\" textLength=\"64\" x=\"307.32\" y=\"57.1387\">«analysis»</text><text fill=\"#000000\" font-family=\"sans-serif\" font-size=\"12\" lengthAdjust=\"spacingAndGlyphs\" textLength=\"193\" x=\"242.82\" y=\"71.1074\">engineTradeStudy: TradeStudy</text><line style=\"stroke: #383838; stroke-width: 1.5;\" x1=\"240.82\" x2=\"437.82\" y1=\"78.9375\" y2=\"78.9375\"/></a><!--MD5=[60a26617385b1d2d0262a64233df1f8d]\n",
       "class E6--><a href=\"psysml:baa50d6d-f728-4fdb-a3d8-0324d2e9c263\" target=\"_top\" title=\"psysml:baa50d6d-f728-4fdb-a3d8-0324d2e9c263\" xlink:actuate=\"onRequest\" xlink:href=\"psysml:baa50d6d-f728-4fdb-a3d8-0324d2e9c263\" xlink:show=\"new\" xlink:title=\"psysml:baa50d6d-f728-4fdb-a3d8-0324d2e9c263\" xlink:type=\"simple\"><rect fill=\"#FFFFFF\" height=\"45.9375\" id=\"E6\" rx=\"10\" ry=\"10\" style=\"stroke: #383838; stroke-width: 1.5;\" width=\"251\" x=\"78.82\" y=\"164\"/><text fill=\"#000000\" font-family=\"sans-serif\" font-size=\"12\" font-style=\"italic\" lengthAdjust=\"spacingAndGlyphs\" textLength=\"91\" x=\"158.82\" y=\"180.1387\">«requirement»</text><text fill=\"#000000\" font-family=\"sans-serif\" font-size=\"12\" lengthAdjust=\"spacingAndGlyphs\" textLength=\"245\" x=\"81.82\" y=\"194.1074\">tradeStudyObjective: MaximizeObjective</text><line style=\"stroke: #383838; stroke-width: 1.5;\" x1=\"79.82\" x2=\"328.82\" y1=\"201.9375\" y2=\"201.9375\"/></a><!--MD5=[2156ba9850f5573cc1fc38a6a4b2f02b]\n",
       "class E7--><a href=\"psysml:c3bcbf7c-d2b8-4beb-b9e4-ef0b91eba9be\" target=\"_top\" title=\"psysml:c3bcbf7c-d2b8-4beb-b9e4-ef0b91eba9be\" xlink:actuate=\"onRequest\" xlink:href=\"psysml:c3bcbf7c-d2b8-4beb-b9e4-ef0b91eba9be\" xlink:show=\"new\" xlink:title=\"psysml:c3bcbf7c-d2b8-4beb-b9e4-ef0b91eba9be\" xlink:type=\"simple\"><rect fill=\"#FFFFFF\" height=\"45.9375\" id=\"E7\" rx=\"10\" ry=\"10\" style=\"stroke: #383838; stroke-width: 1.5;\" width=\"116\" x=\"365.32\" y=\"164\"/><text fill=\"#000000\" font-family=\"sans-serif\" font-size=\"12\" font-style=\"italic\" lengthAdjust=\"spacingAndGlyphs\" textLength=\"82\" x=\"382.32\" y=\"180.1387\">«calculation»</text><text fill=\"#000000\" font-family=\"sans-serif\" font-size=\"12\" lengthAdjust=\"spacingAndGlyphs\" textLength=\"110\" x=\"368.32\" y=\"194.1074\">objectiveFunction</text><line style=\"stroke: #383838; stroke-width: 1.5;\" x1=\"366.32\" x2=\"480.32\" y1=\"201.9375\" y2=\"201.9375\"/></a><!--MD5=[b9389687b975829384b498ac4b7476b2]\n",
       "class E8--><a href=\"psysml:c18a795f-fd76-4ffb-a70d-e612388b917b\" target=\"_top\" title=\"psysml:c18a795f-fd76-4ffb-a70d-e612388b917b\" xlink:actuate=\"onRequest\" xlink:href=\"psysml:c18a795f-fd76-4ffb-a70d-e612388b917b\" xlink:show=\"new\" xlink:title=\"psysml:c18a795f-fd76-4ffb-a70d-e612388b917b\" xlink:type=\"simple\"><rect fill=\"#FFFFFF\" height=\"45.9375\" id=\"E8\" rx=\"10\" ry=\"10\" style=\"stroke: #383838; stroke-width: 1.5;\" width=\"124\" x=\"71.32\" y=\"316\"/><text fill=\"#000000\" font-family=\"sans-serif\" font-size=\"12\" font-style=\"italic\" lengthAdjust=\"spacingAndGlyphs\" textLength=\"40\" x=\"113.32\" y=\"332.1387\">«part»</text><text fill=\"#000000\" font-family=\"sans-serif\" font-size=\"12\" lengthAdjust=\"spacingAndGlyphs\" textLength=\"118\" x=\"74.32\" y=\"346.1074\">alternative: Engine</text><line style=\"stroke: #383838; stroke-width: 1.5;\" x1=\"72.32\" x2=\"194.32\" y1=\"353.9375\" y2=\"353.9375\"/></a><!--MD5=[fd4143e9d270a159db93a4ea2a975926]\n",
       "class E9--><a href=\"psysml:854815c3-8ae1-4c3d-a371-f12eec0f41ab\" target=\"_top\" title=\"psysml:854815c3-8ae1-4c3d-a371-f12eec0f41ab\" xlink:actuate=\"onRequest\" xlink:href=\"psysml:854815c3-8ae1-4c3d-a371-f12eec0f41ab\" xlink:show=\"new\" xlink:title=\"psysml:854815c3-8ae1-4c3d-a371-f12eec0f41ab\" xlink:type=\"simple\"><rect fill=\"#FFFFFF\" height=\"45.9375\" id=\"E9\" rx=\"10\" ry=\"10\" style=\"stroke: #383838; stroke-width: 1.5;\" width=\"178\" x=\"291.32\" y=\"240\"/><text fill=\"#000000\" font-family=\"sans-serif\" font-size=\"12\" font-style=\"italic\" lengthAdjust=\"spacingAndGlyphs\" textLength=\"40\" x=\"360.32\" y=\"256.1387\">«part»</text><text fill=\"#000000\" font-family=\"sans-serif\" font-size=\"12\" lengthAdjust=\"spacingAndGlyphs\" textLength=\"172\" x=\"294.32\" y=\"270.1074\">selectedAlternative: Engine</text><line style=\"stroke: #383838; stroke-width: 1.5;\" x1=\"292.32\" x2=\"468.32\" y1=\"277.9375\" y2=\"277.9375\"/></a><!--MD5=[05d275557350bfb9b23a4ef7222b4c39]\n",
       "link E3 to E2--><a href=\"psysml:a477e10c-c644-4ab8-a0d7-73b747f4931b\" target=\"_top\" title=\"psysml:a477e10c-c644-4ab8-a0d7-73b747f4931b\" xlink:actuate=\"onRequest\" xlink:href=\"psysml:a477e10c-c644-4ab8-a0d7-73b747f4931b\" xlink:show=\"new\" xlink:title=\"psysml:a477e10c-c644-4ab8-a0d7-73b747f4931b\" xlink:type=\"simple\"><path d=\"M415.48,362.01 C376.57,379.54 322.27,404.01 282.71,421.84 \" fill=\"none\" id=\"E3-&gt;E2\" style=\"stroke: #383838; stroke-width: 1.0;\"/><polygon fill=\"#FFFFFF\" points=\"264.34,430.12,278.7866,415.9321,284.5383,428.696,264.34,430.12\" style=\"stroke: #383838; stroke-width: 1.0;\"/><ellipse cx=\"284.805\" cy=\"415.4137\" fill=\"#383838\" rx=\"2\" ry=\"2\" style=\"stroke: #383838; stroke-width: 1.0;\"/><ellipse cx=\"288.9134\" cy=\"424.5308\" fill=\"#383838\" rx=\"2\" ry=\"2\" style=\"stroke: #383838; stroke-width: 1.0;\"/></a><!--MD5=[185131fc0dcab0a4505a2ebe144e961b]\n",
       "link E4 to E2--><a href=\"psysml:006a8138-edc7-4443-807d-fbbb291c6f87\" target=\"_top\" title=\"psysml:006a8138-edc7-4443-807d-fbbb291c6f87\" xlink:actuate=\"onRequest\" xlink:href=\"psysml:006a8138-edc7-4443-807d-fbbb291c6f87\" xlink:show=\"new\" xlink:title=\"psysml:006a8138-edc7-4443-807d-fbbb291c6f87\" xlink:type=\"simple\"><path d=\"M302.45,362.01 C291.25,375.08 276.74,392.01 263.74,407.17 \" fill=\"none\" id=\"E4-&gt;E2\" style=\"stroke: #383838; stroke-width: 1.0;\"/><polygon fill=\"#FFFFFF\" points=\"250.47,422.66,257.5188,403.678,268.1491,412.7883,250.47,422.66\" style=\"stroke: #383838; stroke-width: 1.0;\"/><ellipse cx=\"262.7466\" cy=\"400.6515\" fill=\"#383838\" rx=\"2\" ry=\"2\" style=\"stroke: #383838; stroke-width: 1.0;\"/><ellipse cx=\"270.3396\" cy=\"407.1588\" fill=\"#383838\" rx=\"2\" ry=\"2\" style=\"stroke: #383838; stroke-width: 1.0;\"/></a><!--MD5=[15ebcb19ae302d9b601edb458606d402]\n",
       "link E5 to E2--><a href=\"psysml:0f7006cc-acd6-40d1-b198-a80e8f08765e\" target=\"_top\" title=\"psysml:0f7006cc-acd6-40d1-b198-a80e8f08765e\" xlink:actuate=\"onRequest\" xlink:href=\"psysml:0f7006cc-acd6-40d1-b198-a80e8f08765e\" xlink:show=\"new\" xlink:title=\"psysml:0f7006cc-acd6-40d1-b198-a80e8f08765e\" xlink:type=\"simple\"><path d=\"M239.76,73.22 C177.99,83.96 102.74,108.45 61.32,164 C8.68,234.61 6,287.72 53.32,362 C83.95,410.08 150.5,430.76 192.99,439.32 \" fill=\"none\" id=\"E5-&gt;E2\" style=\"stroke: #383838; stroke-width: 1.0; stroke-dasharray: 7.0,7.0;\"/><polygon fill=\"#383838\" points=\"198.04,440.31,189.9738,434.6588,193.1327,439.3514,188.4401,442.5104,198.04,440.31\" style=\"stroke: #383838; stroke-width: 1.0;\"/><text fill=\"#000000\" font-family=\"sans-serif\" font-size=\"13\" lengthAdjust=\"spacingAndGlyphs\" textLength=\"62\" x=\"24.32\" y=\"267.5669\">«subject»</text></a><!--MD5=[9120cf2e5df3bff93db8f754bbbc09b4]\n",
       "link E5 to E6--><a href=\"psysml:33b70aea-82ec-44f7-8a12-3ec54376cb03\" target=\"_top\" title=\"psysml:33b70aea-82ec-44f7-8a12-3ec54376cb03\" xlink:actuate=\"onRequest\" xlink:href=\"psysml:33b70aea-82ec-44f7-8a12-3ec54376cb03\" xlink:show=\"new\" xlink:title=\"psysml:33b70aea-82ec-44f7-8a12-3ec54376cb03\" xlink:type=\"simple\"><path d=\"M314.56,87.19 C292.2,107.23 259.21,136.8 235.15,158.37 \" fill=\"none\" id=\"E5-&gt;E6\" style=\"stroke: #383838; stroke-width: 1.0;\"/><polygon fill=\"#383838\" points=\"228.92,163.95,236.8786,160.8419,232.8725,156.3752,228.92,163.95\" style=\"stroke: #383838; stroke-width: 1.0;\"/><text fill=\"#000000\" font-family=\"sans-serif\" font-size=\"13\" lengthAdjust=\"spacingAndGlyphs\" textLength=\"73\" x=\"280.32\" y=\"130.0669\">«objective»</text></a><!--MD5=[452b418e7f8a40397a49b8c0a78acc5b]\n",
       "reverse link E5 to E7--><a href=\"psysml:9ca3a684-dbe3-4511-9e21-3cef746855e2\" target=\"_top\" title=\"psysml:9ca3a684-dbe3-4511-9e21-3cef746855e2\" xlink:actuate=\"onRequest\" xlink:href=\"psysml:9ca3a684-dbe3-4511-9e21-3cef746855e2\" xlink:show=\"new\" xlink:title=\"psysml:9ca3a684-dbe3-4511-9e21-3cef746855e2\" xlink:type=\"simple\"><path d=\"M362.14,97.88 C376.71,118.86 395.19,145.48 408.01,163.95 \" fill=\"none\" id=\"E5&lt;-E7\" style=\"stroke: #383838; stroke-width: 1.0;\"/><polygon fill=\"#383838\" points=\"354.73,87.19,354.864,94.3999,361.5708,97.0492,361.4368,89.8393,354.73,87.19\" style=\"stroke: #383838; stroke-width: 1.0;\"/></a><!--MD5=[dc164f5e8a733ab456ef1add180e9e34]\n",
       "reverse link E7 to E8--><a href=\"psysml:8f87ba26-7a36-4a80-9ed1-e463a907c7c6\" target=\"_top\" title=\"psysml:8f87ba26-7a36-4a80-9ed1-e463a907c7c6\" xlink:actuate=\"onRequest\" xlink:href=\"psysml:8f87ba26-7a36-4a80-9ed1-e463a907c7c6\" xlink:show=\"new\" xlink:title=\"psysml:8f87ba26-7a36-4a80-9ed1-e463a907c7c6\" xlink:type=\"simple\"><path d=\"M352.67,208.29 C327.33,216.69 298.96,227.44 274.32,240 C231.96,261.6 187.65,294.33 160.26,315.93 \" fill=\"none\" id=\"E7&lt;-E8\" style=\"stroke: #383838; stroke-width: 1.0;\"/><polygon fill=\"#FFFFFF\" points=\"365.22,204.24,358.2818,202.2749,353.7994,207.9236,360.7376,209.8887,365.22,204.24\" style=\"stroke: #383838; stroke-width: 1.0;\"/><text fill=\"#000000\" font-family=\"sans-serif\" font-size=\"13\" lengthAdjust=\"spacingAndGlyphs\" textLength=\"8\" x=\"158.4251\" y=\"304.8075\">1</text></a><!--MD5=[f1f3f9f2fc535e6147756cb86a7f2e32]\n",
       "link E8 to E2--><a href=\"psysml:bdf7178e-b1d2-4aa0-b7b5-71013aa1f7a9\" target=\"_top\" title=\"psysml:bdf7178e-b1d2-4aa0-b7b5-71013aa1f7a9\" xlink:actuate=\"onRequest\" xlink:href=\"psysml:bdf7178e-b1d2-4aa0-b7b5-71013aa1f7a9\" xlink:show=\"new\" xlink:title=\"psysml:bdf7178e-b1d2-4aa0-b7b5-71013aa1f7a9\" xlink:type=\"simple\"><path d=\"M153.86,362.01 C166.19,375.22 182.2,392.38 196.46,407.65 \" fill=\"none\" id=\"E8-&gt;E2\" style=\"stroke: #383838; stroke-width: 1.0;\"/><polygon fill=\"#FFFFFF\" points=\"210.47,422.66,192.3921,413.5393,202.6305,403.9907,210.47,422.66\" style=\"stroke: #383838; stroke-width: 1.0;\"/><ellipse cx=\"189.9671\" cy=\"408.0067\" fill=\"#383838\" rx=\"2\" ry=\"2\" style=\"stroke: #383838; stroke-width: 1.0;\"/><ellipse cx=\"197.2802\" cy=\"401.1863\" fill=\"#383838\" rx=\"2\" ry=\"2\" style=\"stroke: #383838; stroke-width: 1.0;\"/></a><!--MD5=[9ae28de373ca99bb8a1b38d63370ca7e]\n",
       "reverse link E5 to E9--><a href=\"psysml:a1ab5fdf-7d24-4497-9ea2-3c4d95277eba\" target=\"_top\" title=\"psysml:a1ab5fdf-7d24-4497-9ea2-3c4d95277eba\" xlink:actuate=\"onRequest\" xlink:href=\"psysml:a1ab5fdf-7d24-4497-9ea2-3c4d95277eba\" xlink:show=\"new\" xlink:title=\"psysml:a1ab5fdf-7d24-4497-9ea2-3c4d95277eba\" xlink:type=\"simple\"><path d=\"M416.08,92.77 C447.78,108.48 481.27,131.61 499.32,164 C509.27,181.86 510.51,192.89 499.32,210 C490.86,222.92 478.41,232.65 464.71,239.97 \" fill=\"none\" id=\"E5&lt;-E9\" style=\"stroke: #383838; stroke-width: 1.0;\"/><polygon fill=\"#FFFFFF\" points=\"404.06,87.11,407.7814,93.2867,414.9142,92.2272,411.1928,86.0505,404.06,87.11\" style=\"stroke: #383838; stroke-width: 1.0;\"/><text fill=\"#000000\" font-family=\"sans-serif\" font-size=\"13\" lengthAdjust=\"spacingAndGlyphs\" textLength=\"8\" x=\"477.3099\" y=\"229.2386\">1</text></a><!--MD5=[5c3bb36fe832a92c7f0e1807dd65209d]\n",
       "link E9 to E2--><a href=\"psysml:9bedaae2-b2c6-4d70-8011-f34c154ea99f\" target=\"_top\" title=\"psysml:9bedaae2-b2c6-4d70-8011-f34c154ea99f\" xlink:actuate=\"onRequest\" xlink:href=\"psysml:9bedaae2-b2c6-4d70-8011-f34c154ea99f\" xlink:show=\"new\" xlink:title=\"psysml:9bedaae2-b2c6-4d70-8011-f34c154ea99f\" xlink:type=\"simple\"><path d=\"M291.19,285.15 C275.57,292.56 260.94,302.55 250.32,316 C231.17,340.25 227.04,375.32 227.36,402.77 \" fill=\"none\" id=\"E9-&gt;E2\" style=\"stroke: #383838; stroke-width: 1.0;\"/><polygon fill=\"#FFFFFF\" points=\"228.36,422.81,220.4186,404.1838,234.4011,403.4837,228.36,422.81\" style=\"stroke: #383838; stroke-width: 1.0;\"/><ellipse cx=\"222.131\" cy=\"398.3909\" fill=\"#383838\" rx=\"2\" ry=\"2\" style=\"stroke: #383838; stroke-width: 1.0;\"/><ellipse cx=\"232.1185\" cy=\"397.8909\" fill=\"#383838\" rx=\"2\" ry=\"2\" style=\"stroke: #383838; stroke-width: 1.0;\"/></a><!--MD5=[6de0255c9ac2737adf7277a85476ceca]\n",
       "@startuml\r\n",
       "skinparam monochrome true\r\n",
       "skinparam classbackgroundcolor white\r\n",
       "skinparam shadowing false\r\n",
       "skinparam wrapWidth 300\r\n",
       "hide circle\r\n",
       "\r\n",
       "package \"TradeStudyTest\" as E1  [[psysml:e59f1b4e-bf48-44e5-8b03-de7ba4c0da2b ]]  {\r\n",
       "comp def \"Engine\" as E2  <<(T,blue) part def>> [[psysml:8032ee8b-b45e-4aab-a334-ddc7f77ca09b ]] {\r\n",
       "}\r\n",
       "comp usage \"engine1: Engine\" as E3  <<(T,blue) part>> [[psysml:d1c59f8e-91b7-4873-9a7c-d548f1a74ff0 ]] {\r\n",
       "}\r\n",
       "comp usage \"engine2: Engine\" as E4  <<(T,blue) part>> [[psysml:b8b914f7-6e3e-418c-a7c7-b0f9195d6204 ]] {\r\n",
       "}\r\n",
       "comp usage \"engineTradeStudy: TradeStudy\" as E5 << analysis>> [[psysml:d010e11c-db6d-479b-b98e-aa7ac12f08dc ]] {\r\n",
       "}\r\n",
       "comp usage \"tradeStudyObjective: MaximizeObjective\" as E6  <<(T,blue) requirement>> [[psysml:baa50d6d-f728-4fdb-a3d8-0324d2e9c263 ]] {\r\n",
       "}\r\n",
       "comp usage \"objectiveFunction\" as E7  <<(T,blue) calculation>> [[psysml:c3bcbf7c-d2b8-4beb-b9e4-ef0b91eba9be ]] {\r\n",
       "}\r\n",
       "comp usage \"alternative: Engine\" as E8  <<(T,blue) part>> [[psysml:c18a795f-fd76-4ffb-a70d-e612388b917b ]] {\r\n",
       "}\r\n",
       "comp usage \"selectedAlternative: Engine\" as E9  <<(T,blue) part>> [[psysml:854815c3-8ae1-4c3d-a371-f12eec0f41ab ]] {\r\n",
       "}\r\n",
       "}\r\n",
       "E3 - -:|> E2 [[psysml:a477e10c-c644-4ab8-a0d7-73b747f4931b ]] \r\n",
       "E4 - -:|> E2 [[psysml:006a8138-edc7-4443-807d-fbbb291c6f87 ]] \r\n",
       "E5 ..> E2 [[psysml:0f7006cc-acd6-40d1-b198-a80e8f08765e ]] : <<subject>>\r\n",
       "E5 - ->> E6 [[psysml:33b70aea-82ec-44f7-8a12-3ec54376cb03 ]] : <<objective>>\r\n",
       "E5 *- - E7 [[psysml:9ca3a684-dbe3-4511-9e21-3cef746855e2 ]] \r\n",
       "E7 o- - \"1\"E8 [[psysml:8f87ba26-7a36-4a80-9ed1-e463a907c7c6 ]] \r\n",
       "E8 - -:|> E2 [[psysml:bdf7178e-b1d2-4aa0-b7b5-71013aa1f7a9 ]] \r\n",
       "E5 o- - \"1\"E9 [[psysml:a1ab5fdf-7d24-4497-9ea2-3c4d95277eba ]] \r\n",
       "E9 - -:|> E2 [[psysml:9bedaae2-b2c6-4d70-8011-f34c154ea99f ]] \r\n",
       "@enduml\r\n",
       "\n",
       "PlantUML version 1.2020.13(Sat Jun 13 12:26:38 UTC 2020)\n",
       "(EPL source distribution)\n",
       "Java Runtime: OpenJDK Runtime Environment\n",
       "JVM: OpenJDK 64-Bit Server VM\n",
       "Default Encoding: UTF-8\n",
       "Language: en\n",
       "Country: null\n",
       "--></g></svg>"
      ]
     },
     "execution_count": 37,
     "metadata": {},
     "output_type": "execute_result"
    }
   ],
   "source": [
    "%viz --style=\"DEFAULT\" --view=\"Default\" \"TradeStudyTest\""
   ]
  },
  {
   "cell_type": "code",
   "execution_count": 38,
   "id": "6058ebe4",
   "metadata": {
    "execution": {
     "iopub.execute_input": "2021-09-27T07:19:36.960989Z",
     "iopub.status.busy": "2021-09-27T07:19:36.960713Z",
     "iopub.status.idle": "2021-09-27T07:19:36.998042Z",
     "shell.execute_reply": "2021-09-27T07:19:36.997643Z"
    }
   },
   "outputs": [
    {
     "data": {
      "image/svg+xml": [
       "<?xml version=\"1.0\" encoding=\"UTF-8\" standalone=\"no\"?><svg xmlns=\"http://www.w3.org/2000/svg\" xmlns:xlink=\"http://www.w3.org/1999/xlink\" contentScriptType=\"application/ecmascript\" contentStyleType=\"text/css\" height=\"345px\" preserveAspectRatio=\"none\" style=\"width:955px;height:345px;\" version=\"1.1\" viewBox=\"0 0 955 345\" width=\"955px\" zoomAndPan=\"magnify\"><defs/><g><!--MD5=[fbc87193dbaf4d95561dea2c320d4a47]\n",
       "cluster E1--><a href=\"psysml:e59f1b4e-bf48-44e5-8b03-de7ba4c0da2b\" target=\"_top\" title=\"psysml:e59f1b4e-bf48-44e5-8b03-de7ba4c0da2b\" xlink:actuate=\"onRequest\" xlink:href=\"psysml:e59f1b4e-bf48-44e5-8b03-de7ba4c0da2b\" xlink:show=\"new\" xlink:title=\"psysml:e59f1b4e-bf48-44e5-8b03-de7ba4c0da2b\" xlink:type=\"simple\"><polygon fill=\"#FFFFFF\" points=\"16,6,132,6,139,28.2969,933,28.2969,933,333,16,333,16,6\" style=\"stroke: #000000; stroke-width: 1.5;\"/><line style=\"stroke: #000000; stroke-width: 1.5;\" x1=\"16\" x2=\"139\" y1=\"28.2969\" y2=\"28.2969\"/><text fill=\"#000000\" font-family=\"sans-serif\" font-size=\"14\" font-weight=\"bold\" lengthAdjust=\"spacingAndGlyphs\" textLength=\"110\" x=\"20\" y=\"20.9951\">TradeStudyTest</text></a><!--MD5=[b4997ac47864f28c2f74865a473b2911]\n",
       "class E2--><a href=\"psysml:8032ee8b-b45e-4aab-a334-ddc7f77ca09b\" target=\"_top\" title=\"psysml:8032ee8b-b45e-4aab-a334-ddc7f77ca09b\" xlink:actuate=\"onRequest\" xlink:href=\"psysml:8032ee8b-b45e-4aab-a334-ddc7f77ca09b\" xlink:show=\"new\" xlink:title=\"psysml:8032ee8b-b45e-4aab-a334-ddc7f77ca09b\" xlink:type=\"simple\"><rect fill=\"#FFFFFF\" height=\"45.9375\" id=\"E2\" style=\"stroke: #383838; stroke-width: 1.5;\" width=\"66\" x=\"598\" y=\"271\"/><text fill=\"#000000\" font-family=\"sans-serif\" font-size=\"12\" font-style=\"italic\" lengthAdjust=\"spacingAndGlyphs\" textLength=\"64\" x=\"599\" y=\"287.1387\">«part def»</text><text fill=\"#000000\" font-family=\"sans-serif\" font-size=\"12\" lengthAdjust=\"spacingAndGlyphs\" textLength=\"43\" x=\"609.5\" y=\"301.1074\">Engine</text><line style=\"stroke: #383838; stroke-width: 1.5;\" x1=\"599\" x2=\"663\" y1=\"308.9375\" y2=\"308.9375\"/></a><!--MD5=[09b614a08d8cba4a07c9adeb5e0fee81]\n",
       "class E3--><a href=\"psysml:d1c59f8e-91b7-4873-9a7c-d548f1a74ff0\" target=\"_top\" title=\"psysml:d1c59f8e-91b7-4873-9a7c-d548f1a74ff0\" xlink:actuate=\"onRequest\" xlink:href=\"psysml:d1c59f8e-91b7-4873-9a7c-d548f1a74ff0\" xlink:show=\"new\" xlink:title=\"psysml:d1c59f8e-91b7-4873-9a7c-d548f1a74ff0\" xlink:type=\"simple\"><rect fill=\"#FFFFFF\" height=\"45.9375\" id=\"E3\" rx=\"10\" ry=\"10\" style=\"stroke: #383838; stroke-width: 1.5;\" width=\"108\" x=\"809\" y=\"164\"/><text fill=\"#000000\" font-family=\"sans-serif\" font-size=\"12\" font-style=\"italic\" lengthAdjust=\"spacingAndGlyphs\" textLength=\"40\" x=\"843\" y=\"180.1387\">«part»</text><text fill=\"#000000\" font-family=\"sans-serif\" font-size=\"12\" lengthAdjust=\"spacingAndGlyphs\" textLength=\"102\" x=\"812\" y=\"194.1074\">engine1: Engine</text><line style=\"stroke: #383838; stroke-width: 1.5;\" x1=\"810\" x2=\"916\" y1=\"201.9375\" y2=\"201.9375\"/></a><!--MD5=[ebbe1d658d1005bcc118a6aa81145e00]\n",
       "class E4--><a href=\"psysml:b8b914f7-6e3e-418c-a7c7-b0f9195d6204\" target=\"_top\" title=\"psysml:b8b914f7-6e3e-418c-a7c7-b0f9195d6204\" xlink:actuate=\"onRequest\" xlink:href=\"psysml:b8b914f7-6e3e-418c-a7c7-b0f9195d6204\" xlink:show=\"new\" xlink:title=\"psysml:b8b914f7-6e3e-418c-a7c7-b0f9195d6204\" xlink:type=\"simple\"><rect fill=\"#FFFFFF\" height=\"45.9375\" id=\"E4\" rx=\"10\" ry=\"10\" style=\"stroke: #383838; stroke-width: 1.5;\" width=\"108\" x=\"666\" y=\"164\"/><text fill=\"#000000\" font-family=\"sans-serif\" font-size=\"12\" font-style=\"italic\" lengthAdjust=\"spacingAndGlyphs\" textLength=\"40\" x=\"700\" y=\"180.1387\">«part»</text><text fill=\"#000000\" font-family=\"sans-serif\" font-size=\"12\" lengthAdjust=\"spacingAndGlyphs\" textLength=\"102\" x=\"669\" y=\"194.1074\">engine2: Engine</text><line style=\"stroke: #383838; stroke-width: 1.5;\" x1=\"667\" x2=\"773\" y1=\"201.9375\" y2=\"201.9375\"/></a><!--MD5=[270fce915f116d4de14055a7c1d9a0f3]\n",
       "class E5--><a href=\"psysml:d010e11c-db6d-479b-b98e-aa7ac12f08dc\" target=\"_top\" title=\"psysml:d010e11c-db6d-479b-b98e-aa7ac12f08dc\" xlink:actuate=\"onRequest\" xlink:href=\"psysml:d010e11c-db6d-479b-b98e-aa7ac12f08dc\" xlink:show=\"new\" xlink:title=\"psysml:d010e11c-db6d-479b-b98e-aa7ac12f08dc\" xlink:type=\"simple\"><rect fill=\"#FFFFFF\" height=\"45.9375\" id=\"E5\" rx=\"10\" ry=\"10\" style=\"stroke: #383838; stroke-width: 1.5;\" width=\"199\" x=\"192.5\" y=\"41\"/><text fill=\"#000000\" font-family=\"sans-serif\" font-size=\"12\" font-style=\"italic\" lengthAdjust=\"spacingAndGlyphs\" textLength=\"64\" x=\"260\" y=\"57.1387\">«analysis»</text><text fill=\"#000000\" font-family=\"sans-serif\" font-size=\"12\" lengthAdjust=\"spacingAndGlyphs\" textLength=\"193\" x=\"195.5\" y=\"71.1074\">engineTradeStudy: TradeStudy</text><line style=\"stroke: #383838; stroke-width: 1.5;\" x1=\"193.5\" x2=\"390.5\" y1=\"78.9375\" y2=\"78.9375\"/></a><!--MD5=[60a26617385b1d2d0262a64233df1f8d]\n",
       "class E6--><a href=\"psysml:baa50d6d-f728-4fdb-a3d8-0324d2e9c263\" target=\"_top\" title=\"psysml:baa50d6d-f728-4fdb-a3d8-0324d2e9c263\" xlink:actuate=\"onRequest\" xlink:href=\"psysml:baa50d6d-f728-4fdb-a3d8-0324d2e9c263\" xlink:show=\"new\" xlink:title=\"psysml:baa50d6d-f728-4fdb-a3d8-0324d2e9c263\" xlink:type=\"simple\"><rect fill=\"#FFFFFF\" height=\"45.9375\" id=\"E6\" rx=\"10\" ry=\"10\" style=\"stroke: #383838; stroke-width: 1.5;\" width=\"251\" x=\"166.5\" y=\"164\"/><text fill=\"#000000\" font-family=\"sans-serif\" font-size=\"12\" font-style=\"italic\" lengthAdjust=\"spacingAndGlyphs\" textLength=\"91\" x=\"246.5\" y=\"180.1387\">«requirement»</text><text fill=\"#000000\" font-family=\"sans-serif\" font-size=\"12\" lengthAdjust=\"spacingAndGlyphs\" textLength=\"245\" x=\"169.5\" y=\"194.1074\">tradeStudyObjective: MaximizeObjective</text><line style=\"stroke: #383838; stroke-width: 1.5;\" x1=\"167.5\" x2=\"416.5\" y1=\"201.9375\" y2=\"201.9375\"/></a><!--MD5=[2156ba9850f5573cc1fc38a6a4b2f02b]\n",
       "class E7--><a href=\"psysml:854815c3-8ae1-4c3d-a371-f12eec0f41ab\" target=\"_top\" title=\"psysml:854815c3-8ae1-4c3d-a371-f12eec0f41ab\" xlink:actuate=\"onRequest\" xlink:href=\"psysml:854815c3-8ae1-4c3d-a371-f12eec0f41ab\" xlink:show=\"new\" xlink:title=\"psysml:854815c3-8ae1-4c3d-a371-f12eec0f41ab\" xlink:type=\"simple\"><rect fill=\"#FFFFFF\" height=\"45.9375\" id=\"E7\" rx=\"10\" ry=\"10\" style=\"stroke: #383838; stroke-width: 1.5;\" width=\"178\" x=\"453\" y=\"164\"/><text fill=\"#000000\" font-family=\"sans-serif\" font-size=\"12\" font-style=\"italic\" lengthAdjust=\"spacingAndGlyphs\" textLength=\"40\" x=\"522\" y=\"180.1387\">«part»</text><text fill=\"#000000\" font-family=\"sans-serif\" font-size=\"12\" lengthAdjust=\"spacingAndGlyphs\" textLength=\"172\" x=\"456\" y=\"194.1074\">selectedAlternative: Engine</text><line style=\"stroke: #383838; stroke-width: 1.5;\" x1=\"454\" x2=\"630\" y1=\"201.9375\" y2=\"201.9375\"/></a><!--MD5=[05d275557350bfb9b23a4ef7222b4c39]\n",
       "link E3 to E2--><a href=\"psysml:a477e10c-c644-4ab8-a0d7-73b747f4931b\" target=\"_top\" title=\"psysml:a477e10c-c644-4ab8-a0d7-73b747f4931b\" xlink:actuate=\"onRequest\" xlink:href=\"psysml:a477e10c-c644-4ab8-a0d7-73b747f4931b\" xlink:show=\"new\" xlink:title=\"psysml:a477e10c-c644-4ab8-a0d7-73b747f4931b\" xlink:type=\"simple\"><path d=\"M814.37,210.01 C775.74,227.49 721.88,251.87 682.52,269.68 \" fill=\"none\" id=\"E3-&gt;E2\" style=\"stroke: #383838; stroke-width: 1.0;\"/><polygon fill=\"#FFFFFF\" points=\"664.23,277.96,678.6446,263.7397,684.4251,276.4906,664.23,277.96\" style=\"stroke: #383838; stroke-width: 1.0;\"/><ellipse cx=\"684.6619\" cy=\"263.2078\" fill=\"#383838\" rx=\"2\" ry=\"2\" style=\"stroke: #383838; stroke-width: 1.0;\"/><ellipse cx=\"688.7908\" cy=\"272.3156\" fill=\"#383838\" rx=\"2\" ry=\"2\" style=\"stroke: #383838; stroke-width: 1.0;\"/></a><!--MD5=[185131fc0dcab0a4505a2ebe144e961b]\n",
       "link E4 to E2--><a href=\"psysml:006a8138-edc7-4443-807d-fbbb291c6f87\" target=\"_top\" title=\"psysml:006a8138-edc7-4443-807d-fbbb291c6f87\" xlink:actuate=\"onRequest\" xlink:href=\"psysml:006a8138-edc7-4443-807d-fbbb291c6f87\" xlink:show=\"new\" xlink:title=\"psysml:006a8138-edc7-4443-807d-fbbb291c6f87\" xlink:type=\"simple\"><path d=\"M701.34,210.01 C690.26,223.08 675.91,240.01 663.06,255.17 \" fill=\"none\" id=\"E4-&gt;E2\" style=\"stroke: #383838; stroke-width: 1.0;\"/><polygon fill=\"#FFFFFF\" points=\"649.94,270.66,656.8931,251.6428,667.5691,260.6994,649.94,270.66\" style=\"stroke: #383838; stroke-width: 1.0;\"/><ellipse cx=\"662.1056\" cy=\"248.5899\" fill=\"#383838\" rx=\"2\" ry=\"2\" style=\"stroke: #383838; stroke-width: 1.0;\"/><ellipse cx=\"669.7313\" cy=\"255.059\" fill=\"#383838\" rx=\"2\" ry=\"2\" style=\"stroke: #383838; stroke-width: 1.0;\"/></a><!--MD5=[15ebcb19ae302d9b601edb458606d402]\n",
       "link E5 to E2--><a href=\"psysml:0f7006cc-acd6-40d1-b198-a80e8f08765e\" target=\"_top\" title=\"psysml:0f7006cc-acd6-40d1-b198-a80e8f08765e\" xlink:actuate=\"onRequest\" xlink:href=\"psysml:0f7006cc-acd6-40d1-b198-a80e8f08765e\" xlink:show=\"new\" xlink:title=\"psysml:0f7006cc-acd6-40d1-b198-a80e8f08765e\" xlink:type=\"simple\"><path d=\"M211.44,87.03 C135.05,111.81 38.38,155.76 85,210 C150.98,286.77 479.56,293.36 592.67,293.32 \" fill=\"none\" id=\"E5-&gt;E2\" style=\"stroke: #383838; stroke-width: 1.0; stroke-dasharray: 7.0,7.0;\"/><polygon fill=\"#383838\" points=\"597.89,293.31,588.89,289.31,592.89,293.31,588.89,297.31,597.89,293.31\" style=\"stroke: #383838; stroke-width: 1.0;\"/><text fill=\"#000000\" font-family=\"sans-serif\" font-size=\"13\" lengthAdjust=\"spacingAndGlyphs\" textLength=\"62\" x=\"86\" y=\"191.5669\">«subject»</text></a><!--MD5=[9120cf2e5df3bff93db8f754bbbc09b4]\n",
       "link E5 to E6--><a href=\"psysml:33b70aea-82ec-44f7-8a12-3ec54376cb03\" target=\"_top\" title=\"psysml:33b70aea-82ec-44f7-8a12-3ec54376cb03\" xlink:actuate=\"onRequest\" xlink:href=\"psysml:33b70aea-82ec-44f7-8a12-3ec54376cb03\" xlink:show=\"new\" xlink:title=\"psysml:33b70aea-82ec-44f7-8a12-3ec54376cb03\" xlink:type=\"simple\"><path d=\"M292,87.19 C292,106.47 292,134.55 292,155.86 \" fill=\"none\" id=\"E5-&gt;E6\" style=\"stroke: #383838; stroke-width: 1.0;\"/><polygon fill=\"#383838\" points=\"292,163.95,295,155.95,289,155.95,292,163.95\" style=\"stroke: #383838; stroke-width: 1.0;\"/><text fill=\"#000000\" font-family=\"sans-serif\" font-size=\"13\" lengthAdjust=\"spacingAndGlyphs\" textLength=\"73\" x=\"293\" y=\"130.0669\">«objective»</text></a><!--MD5=[452b418e7f8a40397a49b8c0a78acc5b]\n",
       "reverse link E5 to E7--><a href=\"psysml:a1ab5fdf-7d24-4497-9ea2-3c4d95277eba\" target=\"_top\" title=\"psysml:a1ab5fdf-7d24-4497-9ea2-3c4d95277eba\" xlink:actuate=\"onRequest\" xlink:href=\"psysml:a1ab5fdf-7d24-4497-9ea2-3c4d95277eba\" xlink:show=\"new\" xlink:title=\"psysml:a1ab5fdf-7d24-4497-9ea2-3c4d95277eba\" xlink:type=\"simple\"><path d=\"M349.39,92.78 C393.99,114.36 455.01,143.9 496.33,163.89 \" fill=\"none\" id=\"E5&lt;-E7\" style=\"stroke: #383838; stroke-width: 1.0;\"/><polygon fill=\"#FFFFFF\" points=\"337.56,87.05,341.2143,93.2666,348.3582,92.2843,344.7039,86.0677,337.56,87.05\" style=\"stroke: #383838; stroke-width: 1.0;\"/><text fill=\"#000000\" font-family=\"sans-serif\" font-size=\"13\" lengthAdjust=\"spacingAndGlyphs\" textLength=\"8\" x=\"474.9812\" y=\"152.7567\">1</text></a><!--MD5=[583832df87f4419a098336a29a52fa00]\n",
       "link E7 to E2--><a href=\"psysml:9bedaae2-b2c6-4d70-8011-f34c154ea99f\" target=\"_top\" title=\"psysml:9bedaae2-b2c6-4d70-8011-f34c154ea99f\" xlink:actuate=\"onRequest\" xlink:href=\"psysml:9bedaae2-b2c6-4d70-8011-f34c154ea99f\" xlink:show=\"new\" xlink:title=\"psysml:9bedaae2-b2c6-4d70-8011-f34c154ea99f\" xlink:type=\"simple\"><path d=\"M560.66,210.01 C571.74,223.08 586.09,240.01 598.94,255.17 \" fill=\"none\" id=\"E7-&gt;E2\" style=\"stroke: #383838; stroke-width: 1.0;\"/><polygon fill=\"#FFFFFF\" points=\"612.06,270.66,594.4309,260.6994,605.1069,251.6428,612.06,270.66\" style=\"stroke: #383838; stroke-width: 1.0;\"/><ellipse cx=\"592.2687\" cy=\"255.059\" fill=\"#383838\" rx=\"2\" ry=\"2\" style=\"stroke: #383838; stroke-width: 1.0;\"/><ellipse cx=\"599.8944\" cy=\"248.5899\" fill=\"#383838\" rx=\"2\" ry=\"2\" style=\"stroke: #383838; stroke-width: 1.0;\"/></a><!--MD5=[b8f7311b1398813c5636abfeb0973347]\n",
       "@startuml\r\n",
       "skinparam monochrome true\r\n",
       "skinparam classbackgroundcolor white\r\n",
       "skinparam shadowing false\r\n",
       "skinparam wrapWidth 300\r\n",
       "hide circle\r\n",
       "\r\n",
       "package \"TradeStudyTest\" as E1  [[psysml:e59f1b4e-bf48-44e5-8b03-de7ba4c0da2b ]]  {\r\n",
       "comp def \"Engine\" as E2  <<(T,blue) part def>> [[psysml:8032ee8b-b45e-4aab-a334-ddc7f77ca09b ]] {\r\n",
       "}\r\n",
       "comp usage \"engine1: Engine\" as E3  <<(T,blue) part>> [[psysml:d1c59f8e-91b7-4873-9a7c-d548f1a74ff0 ]] {\r\n",
       "}\r\n",
       "comp usage \"engine2: Engine\" as E4  <<(T,blue) part>> [[psysml:b8b914f7-6e3e-418c-a7c7-b0f9195d6204 ]] {\r\n",
       "}\r\n",
       "comp usage \"engineTradeStudy: TradeStudy\" as E5 << analysis>> [[psysml:d010e11c-db6d-479b-b98e-aa7ac12f08dc ]] {\r\n",
       "}\r\n",
       "comp usage \"tradeStudyObjective: MaximizeObjective\" as E6  <<(T,blue) requirement>> [[psysml:baa50d6d-f728-4fdb-a3d8-0324d2e9c263 ]] {\r\n",
       "}\r\n",
       "comp usage \"selectedAlternative: Engine\" as E7  <<(T,blue) part>> [[psysml:854815c3-8ae1-4c3d-a371-f12eec0f41ab ]] {\r\n",
       "}\r\n",
       "}\r\n",
       "E3 - -:|> E2 [[psysml:a477e10c-c644-4ab8-a0d7-73b747f4931b ]] \r\n",
       "E4 - -:|> E2 [[psysml:006a8138-edc7-4443-807d-fbbb291c6f87 ]] \r\n",
       "E5 ..> E2 [[psysml:0f7006cc-acd6-40d1-b198-a80e8f08765e ]] : <<subject>>\r\n",
       "E5 - ->> E6 [[psysml:33b70aea-82ec-44f7-8a12-3ec54376cb03 ]] : <<objective>>\r\n",
       "E5 o- - \"1\"E7 [[psysml:a1ab5fdf-7d24-4497-9ea2-3c4d95277eba ]] \r\n",
       "E7 - -:|> E2 [[psysml:9bedaae2-b2c6-4d70-8011-f34c154ea99f ]] \r\n",
       "@enduml\r\n",
       "\n",
       "PlantUML version 1.2020.13(Sat Jun 13 12:26:38 UTC 2020)\n",
       "(EPL source distribution)\n",
       "Java Runtime: OpenJDK Runtime Environment\n",
       "JVM: OpenJDK 64-Bit Server VM\n",
       "Default Encoding: UTF-8\n",
       "Language: en\n",
       "Country: null\n",
       "--></g></svg>"
      ]
     },
     "execution_count": 38,
     "metadata": {},
     "output_type": "execute_result"
    }
   ],
   "source": [
    "%viz --style=\"DEFAULT\" --view=\"Tree\" \"TradeStudyTest\""
   ]
  },
  {
   "cell_type": "code",
   "execution_count": 39,
   "id": "ce661244",
   "metadata": {
    "execution": {
     "iopub.execute_input": "2021-09-27T07:19:37.047434Z",
     "iopub.status.busy": "2021-09-27T07:19:37.047222Z",
     "iopub.status.idle": "2021-09-27T07:19:37.051246Z",
     "shell.execute_reply": "2021-09-27T07:19:37.051411Z"
    }
   },
   "outputs": [
    {
     "data": {
      "image/svg+xml": [
       "<?xml version=\"1.0\" encoding=\"UTF-8\" standalone=\"no\"?><svg xmlns=\"http://www.w3.org/2000/svg\" xmlns:xlink=\"http://www.w3.org/1999/xlink\" contentScriptType=\"application/ecmascript\" contentStyleType=\"text/css\" height=\"12px\" preserveAspectRatio=\"none\" style=\"width:12px;height:12px;\" version=\"1.1\" viewBox=\"0 0 12 12\" width=\"12px\" zoomAndPan=\"magnify\"><defs/><g><!--MD5=[c5f280e076d0d61ccf4b0f27871bda1d]\n",
       "@startuml\r\n",
       "skinparam monochrome true\r\n",
       "skinparam classbackgroundcolor white\r\n",
       "skinparam shadowing false\r\n",
       "skinparam wrapWidth 300\r\n",
       "hide circle\r\n",
       "\r\n",
       "@enduml\r\n",
       "\n",
       "PlantUML version 1.2020.13(Sat Jun 13 12:26:38 UTC 2020)\n",
       "(EPL source distribution)\n",
       "Java Runtime: OpenJDK Runtime Environment\n",
       "JVM: OpenJDK 64-Bit Server VM\n",
       "Default Encoding: UTF-8\n",
       "Language: en\n",
       "Country: null\n",
       "--></g></svg>"
      ]
     },
     "execution_count": 39,
     "metadata": {},
     "output_type": "execute_result"
    }
   ],
   "source": [
    "%viz --style=\"DEFAULT\" --view=\"State\" \"TradeStudyTest\""
   ]
  },
  {
   "cell_type": "code",
   "execution_count": 40,
   "id": "e5f7720d",
   "metadata": {
    "execution": {
     "iopub.execute_input": "2021-09-27T07:19:37.101743Z",
     "iopub.status.busy": "2021-09-27T07:19:37.101535Z",
     "iopub.status.idle": "2021-09-27T07:19:37.136497Z",
     "shell.execute_reply": "2021-09-27T07:19:37.135796Z"
    }
   },
   "outputs": [
    {
     "data": {
      "image/svg+xml": [
       "<?xml version=\"1.0\" encoding=\"UTF-8\" standalone=\"no\"?><svg xmlns=\"http://www.w3.org/2000/svg\" xmlns:xlink=\"http://www.w3.org/1999/xlink\" contentScriptType=\"application/ecmascript\" contentStyleType=\"text/css\" height=\"334px\" preserveAspectRatio=\"none\" style=\"width:566px;height:334px;\" version=\"1.1\" viewBox=\"0 0 566 334\" width=\"566px\" zoomAndPan=\"magnify\"><defs/><g><!--MD5=[fbc87193dbaf4d95561dea2c320d4a47]\n",
       "cluster E1--><a href=\"psysml:e59f1b4e-bf48-44e5-8b03-de7ba4c0da2b\" target=\"_top\" title=\"psysml:e59f1b4e-bf48-44e5-8b03-de7ba4c0da2b\" xlink:actuate=\"onRequest\" xlink:href=\"psysml:e59f1b4e-bf48-44e5-8b03-de7ba4c0da2b\" xlink:show=\"new\" xlink:title=\"psysml:e59f1b4e-bf48-44e5-8b03-de7ba4c0da2b\" xlink:type=\"simple\"><polygon fill=\"#FFFFFF\" points=\"16,6,132,6,139,28.2969,544,28.2969,544,322,16,322,16,6\" style=\"stroke: #000000; stroke-width: 1.5;\"/><line style=\"stroke: #000000; stroke-width: 1.5;\" x1=\"16\" x2=\"139\" y1=\"28.2969\" y2=\"28.2969\"/><text fill=\"#000000\" font-family=\"sans-serif\" font-size=\"14\" font-weight=\"bold\" lengthAdjust=\"spacingAndGlyphs\" textLength=\"110\" x=\"20\" y=\"20.9951\">TradeStudyTest</text></a><!--MD5=[270fce915f116d4de14055a7c1d9a0f3]\n",
       "class E5--><a href=\"psysml:d010e11c-db6d-479b-b98e-aa7ac12f08dc\" target=\"_top\" title=\"psysml:d010e11c-db6d-479b-b98e-aa7ac12f08dc\" xlink:actuate=\"onRequest\" xlink:href=\"psysml:d010e11c-db6d-479b-b98e-aa7ac12f08dc\" xlink:show=\"new\" xlink:title=\"psysml:d010e11c-db6d-479b-b98e-aa7ac12f08dc\" xlink:type=\"simple\"><rect fill=\"#FFFFFF\" height=\"45.9375\" id=\"E5\" rx=\"10\" ry=\"10\" style=\"stroke: #383838; stroke-width: 1.5;\" width=\"199\" x=\"328.5\" y=\"41\"/><text fill=\"#000000\" font-family=\"sans-serif\" font-size=\"12\" font-style=\"italic\" lengthAdjust=\"spacingAndGlyphs\" textLength=\"64\" x=\"396\" y=\"57.1387\">«analysis»</text><text fill=\"#000000\" font-family=\"sans-serif\" font-size=\"12\" lengthAdjust=\"spacingAndGlyphs\" textLength=\"193\" x=\"331.5\" y=\"71.1074\">engineTradeStudy: TradeStudy</text><line style=\"stroke: #383838; stroke-width: 1.5;\" x1=\"329.5\" x2=\"526.5\" y1=\"78.9375\" y2=\"78.9375\"/></a><!--MD5=[60a26617385b1d2d0262a64233df1f8d]\n",
       "class E6--><a href=\"psysml:baa50d6d-f728-4fdb-a3d8-0324d2e9c263\" target=\"_top\" title=\"psysml:baa50d6d-f728-4fdb-a3d8-0324d2e9c263\" xlink:actuate=\"onRequest\" xlink:href=\"psysml:baa50d6d-f728-4fdb-a3d8-0324d2e9c263\" xlink:show=\"new\" xlink:title=\"psysml:baa50d6d-f728-4fdb-a3d8-0324d2e9c263\" xlink:type=\"simple\"><rect fill=\"#FFFFFF\" height=\"45.9375\" id=\"E6\" rx=\"10\" ry=\"10\" style=\"stroke: #383838; stroke-width: 1.5;\" width=\"251\" x=\"32.5\" y=\"120\"/><text fill=\"#000000\" font-family=\"sans-serif\" font-size=\"12\" font-style=\"italic\" lengthAdjust=\"spacingAndGlyphs\" textLength=\"91\" x=\"112.5\" y=\"136.1387\">«requirement»</text><text fill=\"#000000\" font-family=\"sans-serif\" font-size=\"12\" lengthAdjust=\"spacingAndGlyphs\" textLength=\"245\" x=\"35.5\" y=\"150.1074\">tradeStudyObjective: MaximizeObjective</text><line style=\"stroke: #383838; stroke-width: 1.5;\" x1=\"33.5\" x2=\"282.5\" y1=\"157.9375\" y2=\"157.9375\"/></a><!--MD5=[2156ba9850f5573cc1fc38a6a4b2f02b]\n",
       "class E7--><a href=\"psysml:c3bcbf7c-d2b8-4beb-b9e4-ef0b91eba9be\" target=\"_top\" title=\"psysml:c3bcbf7c-d2b8-4beb-b9e4-ef0b91eba9be\" xlink:actuate=\"onRequest\" xlink:href=\"psysml:c3bcbf7c-d2b8-4beb-b9e4-ef0b91eba9be\" xlink:show=\"new\" xlink:title=\"psysml:c3bcbf7c-d2b8-4beb-b9e4-ef0b91eba9be\" xlink:type=\"simple\"><rect fill=\"#FFFFFF\" height=\"45.9375\" id=\"E7\" rx=\"10\" ry=\"10\" style=\"stroke: #383838; stroke-width: 1.5;\" width=\"116\" x=\"319\" y=\"120\"/><text fill=\"#000000\" font-family=\"sans-serif\" font-size=\"12\" font-style=\"italic\" lengthAdjust=\"spacingAndGlyphs\" textLength=\"82\" x=\"336\" y=\"136.1387\">«calculation»</text><text fill=\"#000000\" font-family=\"sans-serif\" font-size=\"12\" lengthAdjust=\"spacingAndGlyphs\" textLength=\"110\" x=\"322\" y=\"150.1074\">objectiveFunction</text><line style=\"stroke: #383838; stroke-width: 1.5;\" x1=\"320\" x2=\"434\" y1=\"157.9375\" y2=\"157.9375\"/></a><!--MD5=[b9389687b975829384b498ac4b7476b2]\n",
       "class E8--><a href=\"psysml:c18a795f-fd76-4ffb-a70d-e612388b917b\" target=\"_top\" title=\"psysml:c18a795f-fd76-4ffb-a70d-e612388b917b\" xlink:actuate=\"onRequest\" xlink:href=\"psysml:c18a795f-fd76-4ffb-a70d-e612388b917b\" xlink:show=\"new\" xlink:title=\"psysml:c18a795f-fd76-4ffb-a70d-e612388b917b\" xlink:type=\"simple\"><rect fill=\"#FFFFFF\" height=\"31.9688\" id=\"E8\" rx=\"10\" ry=\"10\" style=\"stroke: #383838; stroke-width: 1.5;\" width=\"124\" x=\"178\" y=\"214\"/><text fill=\"#000000\" font-family=\"sans-serif\" font-size=\"12\" lengthAdjust=\"spacingAndGlyphs\" textLength=\"118\" x=\"181\" y=\"230.1387\">alternative: Engine</text><line style=\"stroke: #383838; stroke-width: 1.5;\" x1=\"179\" x2=\"301\" y1=\"237.9688\" y2=\"237.9688\"/></a><!--MD5=[fd4143e9d270a159db93a4ea2a975926]\n",
       "class E9--><a href=\"psysml:854815c3-8ae1-4c3d-a371-f12eec0f41ab\" target=\"_top\" title=\"psysml:854815c3-8ae1-4c3d-a371-f12eec0f41ab\" xlink:actuate=\"onRequest\" xlink:href=\"psysml:854815c3-8ae1-4c3d-a371-f12eec0f41ab\" xlink:show=\"new\" xlink:title=\"psysml:854815c3-8ae1-4c3d-a371-f12eec0f41ab\" xlink:type=\"simple\"><rect fill=\"#FFFFFF\" height=\"31.9688\" id=\"E9\" rx=\"10\" ry=\"10\" style=\"stroke: #383838; stroke-width: 1.5;\" width=\"178\" x=\"246\" y=\"174\"/><text fill=\"#000000\" font-family=\"sans-serif\" font-size=\"12\" lengthAdjust=\"spacingAndGlyphs\" textLength=\"172\" x=\"249\" y=\"190.1387\">selectedAlternative: Engine</text><line style=\"stroke: #383838; stroke-width: 1.5;\" x1=\"247\" x2=\"423\" y1=\"197.9688\" y2=\"197.9688\"/></a><g id=\"E1.E2\"><a href=\"psysml:8032ee8b-b45e-4aab-a334-ddc7f77ca09b\" target=\"_top\" title=\"psysml:8032ee8b-b45e-4aab-a334-ddc7f77ca09b\" xlink:actuate=\"onRequest\" xlink:href=\"psysml:8032ee8b-b45e-4aab-a334-ddc7f77ca09b\" xlink:show=\"new\" xlink:title=\"psysml:8032ee8b-b45e-4aab-a334-ddc7f77ca09b\" xlink:type=\"simple\"><rect fill=\"#FFFFFF\" height=\"42.9375\" id=\"E2\" style=\"stroke: #383838; stroke-width: 1.5;\" width=\"71\" x=\"302.5\" y=\"263\"/><rect fill=\"#F8F8F8\" height=\"37.9375\" style=\"stroke: #383838; stroke-width: 1.5;\" width=\"71\" x=\"302.5\" y=\"263\"/><text fill=\"#000000\" font-family=\"sans-serif\" font-size=\"12\" font-style=\"italic\" lengthAdjust=\"spacingAndGlyphs\" textLength=\"64\" x=\"306\" y=\"279.1387\">«part def»</text><text fill=\"#000000\" font-family=\"sans-serif\" font-size=\"12\" lengthAdjust=\"spacingAndGlyphs\" textLength=\"43\" x=\"316.5\" y=\"293.1074\">Engine</text></a></g><g id=\"E1.E3\"><a href=\"psysml:d1c59f8e-91b7-4873-9a7c-d548f1a74ff0\" target=\"_top\" title=\"psysml:d1c59f8e-91b7-4873-9a7c-d548f1a74ff0\" xlink:actuate=\"onRequest\" xlink:href=\"psysml:d1c59f8e-91b7-4873-9a7c-d548f1a74ff0\" xlink:show=\"new\" xlink:title=\"psysml:d1c59f8e-91b7-4873-9a7c-d548f1a74ff0\" xlink:type=\"simple\"><rect fill=\"#FFFFFF\" height=\"40\" id=\"E3\" rx=\"10\" ry=\"10\" style=\"stroke: #383838; stroke-width: 1.5;\" width=\"113\" x=\"180.5\" y=\"44\"/><rect fill=\"#F8F8F8\" height=\"23.9688\" rx=\"10\" ry=\"10\" style=\"stroke: #F8F8F8; stroke-width: 1.5;\" width=\"113\" x=\"180.5\" y=\"44\"/><rect fill=\"#F8F8F8\" height=\"10\" style=\"stroke: #F8F8F8; stroke-width: 1.5;\" width=\"113\" x=\"180.5\" y=\"57.9688\"/><rect fill=\"none\" height=\"40\" id=\"E3\" rx=\"10\" ry=\"10\" style=\"stroke: #383838; stroke-width: 1.5;\" width=\"113\" x=\"180.5\" y=\"44\"/><text fill=\"#000000\" font-family=\"sans-serif\" font-size=\"12\" lengthAdjust=\"spacingAndGlyphs\" textLength=\"102\" x=\"186\" y=\"60.1387\">engine1: Engine</text></a></g><g id=\"E1.E4\"><a href=\"psysml:b8b914f7-6e3e-418c-a7c7-b0f9195d6204\" target=\"_top\" title=\"psysml:b8b914f7-6e3e-418c-a7c7-b0f9195d6204\" xlink:actuate=\"onRequest\" xlink:href=\"psysml:b8b914f7-6e3e-418c-a7c7-b0f9195d6204\" xlink:show=\"new\" xlink:title=\"psysml:b8b914f7-6e3e-418c-a7c7-b0f9195d6204\" xlink:type=\"simple\"><rect fill=\"#FFFFFF\" height=\"40\" id=\"E4\" rx=\"10\" ry=\"10\" style=\"stroke: #383838; stroke-width: 1.5;\" width=\"113\" x=\"32.5\" y=\"44\"/><rect fill=\"#F8F8F8\" height=\"23.9688\" rx=\"10\" ry=\"10\" style=\"stroke: #F8F8F8; stroke-width: 1.5;\" width=\"113\" x=\"32.5\" y=\"44\"/><rect fill=\"#F8F8F8\" height=\"10\" style=\"stroke: #F8F8F8; stroke-width: 1.5;\" width=\"113\" x=\"32.5\" y=\"57.9688\"/><rect fill=\"none\" height=\"40\" id=\"E4\" rx=\"10\" ry=\"10\" style=\"stroke: #383838; stroke-width: 1.5;\" width=\"113\" x=\"32.5\" y=\"44\"/><text fill=\"#000000\" font-family=\"sans-serif\" font-size=\"12\" lengthAdjust=\"spacingAndGlyphs\" textLength=\"102\" x=\"38\" y=\"60.1387\">engine2: Engine</text></a></g><!--MD5=[15ebcb19ae302d9b601edb458606d402]\n",
       "link E5 to E2--><a href=\"psysml:0f7006cc-acd6-40d1-b198-a80e8f08765e\" target=\"_top\" title=\"psysml:0f7006cc-acd6-40d1-b198-a80e8f08765e\" xlink:actuate=\"onRequest\" xlink:href=\"psysml:0f7006cc-acd6-40d1-b198-a80e8f08765e\" xlink:show=\"new\" xlink:title=\"psysml:0f7006cc-acd6-40d1-b198-a80e8f08765e\" xlink:type=\"simple\"><path d=\"M454.33,87.05 C456.45,89.57 458.39,92.23 460,95 C475.92,122.38 478.3,136.82 466,166 C448.69,207.07 408.73,239.87 378.03,260.26 \" fill=\"none\" id=\"E5-&gt;E2\" style=\"stroke: #383838; stroke-width: 1.0; stroke-dasharray: 7.0,7.0;\"/><polygon fill=\"#383838\" points=\"373.57,263.18,383.2939,261.6161,377.7586,260.4495,378.9251,254.9143,373.57,263.18\" style=\"stroke: #383838; stroke-width: 1.0;\"/><text fill=\"#000000\" font-family=\"sans-serif\" font-size=\"13\" lengthAdjust=\"spacingAndGlyphs\" textLength=\"62\" x=\"463\" y=\"194.5669\">«subject»</text></a><!--MD5=[9120cf2e5df3bff93db8f754bbbc09b4]\n",
       "link E5 to E6--><a href=\"psysml:33b70aea-82ec-44f7-8a12-3ec54376cb03\" target=\"_top\" title=\"psysml:33b70aea-82ec-44f7-8a12-3ec54376cb03\" xlink:actuate=\"onRequest\" xlink:href=\"psysml:33b70aea-82ec-44f7-8a12-3ec54376cb03\" xlink:show=\"new\" xlink:title=\"psysml:33b70aea-82ec-44f7-8a12-3ec54376cb03\" xlink:type=\"simple\"><path d=\"M342.94,87.03 C333.16,89.67 323.36,92.36 314,95 C288.94,102.07 261.74,110.13 237.17,117.56 \" fill=\"none\" id=\"E5-&gt;E6\" style=\"stroke: #383838; stroke-width: 1.0;\"/><polygon fill=\"#383838\" points=\"229.29,119.94,237.8158,120.4972,236.0799,114.7538,229.29,119.94\" style=\"stroke: #383838; stroke-width: 1.0;\"/><text fill=\"#000000\" font-family=\"sans-serif\" font-size=\"13\" lengthAdjust=\"spacingAndGlyphs\" textLength=\"73\" x=\"315\" y=\"108.0669\">«objective»</text></a><!--MD5=[452b418e7f8a40397a49b8c0a78acc5b]\n",
       "reverse link E5 to E7--><a href=\"psysml:9ca3a684-dbe3-4511-9e21-3cef746855e2\" target=\"_top\" title=\"psysml:9ca3a684-dbe3-4511-9e21-3cef746855e2\" xlink:actuate=\"onRequest\" xlink:href=\"psysml:9ca3a684-dbe3-4511-9e21-3cef746855e2\" xlink:show=\"new\" xlink:title=\"psysml:9ca3a684-dbe3-4511-9e21-3cef746855e2\" xlink:type=\"simple\"><path d=\"M405.93,98.32 C401.13,105.57 396.16,113.08 391.72,119.78 \" fill=\"none\" id=\"E5&lt;-E7\" style=\"stroke: #383838; stroke-width: 1.0;\"/><polygon fill=\"#383838\" points=\"413.25,87.27,406.6021,90.0638,406.6241,97.2749,413.272,94.4811,413.25,87.27\" style=\"stroke: #383838; stroke-width: 1.0;\"/></a><!--MD5=[dc164f5e8a733ab456ef1add180e9e34]\n",
       "reverse link E7 to E8--><a href=\"psysml:8f87ba26-7a36-4a80-9ed1-e463a907c7c6\" target=\"_top\" title=\"psysml:8f87ba26-7a36-4a80-9ed1-e463a907c7c6\" xlink:actuate=\"onRequest\" xlink:href=\"psysml:8f87ba26-7a36-4a80-9ed1-e463a907c7c6\" xlink:show=\"new\" xlink:title=\"psysml:8f87ba26-7a36-4a80-9ed1-e463a907c7c6\" xlink:type=\"simple\"><path d=\"M305.92,164.91 C304.26,165.29 302.62,165.65 301,166 C288.71,168.64 253.66,164.89 245,174 C235.09,184.43 235.08,201.52 236.77,213.88 \" fill=\"none\" id=\"E7&lt;-E8\" style=\"stroke: #383838; stroke-width: 1.0;\"/><polygon fill=\"#FFFFFF\" points=\"318.71,161.77,311.9314,159.3102,307.0537,164.6214,313.8323,167.0811,318.71,161.77\" style=\"stroke: #383838; stroke-width: 1.0;\"/><text fill=\"#000000\" font-family=\"sans-serif\" font-size=\"13\" lengthAdjust=\"spacingAndGlyphs\" textLength=\"8\" x=\"226.2847\" y=\"202.8557\">1</text></a><!--MD5=[f1f3f9f2fc535e6147756cb86a7f2e32]\n",
       "link E8 to E2--><a href=\"psysml:bdf7178e-b1d2-4aa0-b7b5-71013aa1f7a9\" target=\"_top\" title=\"psysml:bdf7178e-b1d2-4aa0-b7b5-71013aa1f7a9\" xlink:actuate=\"onRequest\" xlink:href=\"psysml:bdf7178e-b1d2-4aa0-b7b5-71013aa1f7a9\" xlink:show=\"new\" xlink:title=\"psysml:bdf7178e-b1d2-4aa0-b7b5-71013aa1f7a9\" xlink:type=\"simple\"><path d=\"M268.08,246.04 C273.23,248.8 278.76,251.77 284.38,254.77 \" fill=\"none\" id=\"E8-&gt;E2\" style=\"stroke: #383838; stroke-width: 1.0;\"/><polygon fill=\"#FFFFFF\" points=\"302.21,264.33,282.1553,261.5358,288.7616,249.1926,302.21,264.33\" style=\"stroke: #383838; stroke-width: 1.0;\"/><ellipse cx=\"278.0736\" cy=\"257.0828\" fill=\"#383838\" rx=\"2\" ry=\"2\" style=\"stroke: #383838; stroke-width: 1.0;\"/><ellipse cx=\"282.7924\" cy=\"248.2661\" fill=\"#383838\" rx=\"2\" ry=\"2\" style=\"stroke: #383838; stroke-width: 1.0;\"/></a><!--MD5=[9ae28de373ca99bb8a1b38d63370ca7e]\n",
       "reverse link E5 to E9--><a href=\"psysml:a1ab5fdf-7d24-4497-9ea2-3c4d95277eba\" target=\"_top\" title=\"psysml:a1ab5fdf-7d24-4497-9ea2-3c4d95277eba\" xlink:actuate=\"onRequest\" xlink:href=\"psysml:a1ab5fdf-7d24-4497-9ea2-3c4d95277eba\" xlink:show=\"new\" xlink:title=\"psysml:a1ab5fdf-7d24-4497-9ea2-3c4d95277eba\" xlink:type=\"simple\"><path d=\"M449.82,98.65 C460.68,120.03 468.53,147.15 453,166 C451.62,167.67 438.74,170.68 421.94,173.98 \" fill=\"none\" id=\"E5&lt;-E9\" style=\"stroke: #383838; stroke-width: 1.0;\"/><polygon fill=\"#FFFFFF\" points=\"443.41,87.13,442.8257,94.3174,449.2355,97.6211,449.8198,90.4337,443.41,87.13\" style=\"stroke: #383838; stroke-width: 1.0;\"/><text fill=\"#000000\" font-family=\"sans-serif\" font-size=\"13\" lengthAdjust=\"spacingAndGlyphs\" textLength=\"8\" x=\"431.8866\" y=\"185.124\">1</text></a><!--MD5=[5c3bb36fe832a92c7f0e1807dd65209d]\n",
       "link E9 to E2--><a href=\"psysml:9bedaae2-b2c6-4d70-8011-f34c154ea99f\" target=\"_top\" title=\"psysml:9bedaae2-b2c6-4d70-8011-f34c154ea99f\" xlink:actuate=\"onRequest\" xlink:href=\"psysml:9bedaae2-b2c6-4d70-8011-f34c154ea99f\" xlink:show=\"new\" xlink:title=\"psysml:9bedaae2-b2c6-4d70-8011-f34c154ea99f\" xlink:type=\"simple\"><path d=\"M335.5,206.27 C335.82,216.14 336.25,229.48 336.66,242.29 \" fill=\"none\" id=\"E9-&gt;E2\" style=\"stroke: #383838; stroke-width: 1.0;\"/><polygon fill=\"#FFFFFF\" points=\"337.32,262.66,329.7128,243.8949,343.7055,243.4448,337.32,262.66\" style=\"stroke: #383838; stroke-width: 1.0;\"/><ellipse cx=\"331.5285\" cy=\"238.1335\" fill=\"#383838\" rx=\"2\" ry=\"2\" style=\"stroke: #383838; stroke-width: 1.0;\"/><ellipse cx=\"341.5233\" cy=\"237.812\" fill=\"#383838\" rx=\"2\" ry=\"2\" style=\"stroke: #383838; stroke-width: 1.0;\"/></a><!--MD5=[4dd72f84ebdade53f0bc9bdf5ade2ebf]\n",
       "@startuml\r\n",
       "skinparam ranksep 10\r\n",
       "skinparam rectangle {\r\n",
       " backgroundColor<<block>> LightGreen\r\n",
       "}\r\n",
       "skinparam monochrome true\r\n",
       "skinparam classbackgroundcolor white\r\n",
       "skinparam shadowing false\r\n",
       "skinparam wrapWidth 300\r\n",
       "hide circle\r\n",
       "\r\n",
       "package \"TradeStudyTest\" as E1  [[psysml:e59f1b4e-bf48-44e5-8b03-de7ba4c0da2b ]]  {\r\n",
       "rec def \"Engine\" as E2  <<(T,blue) part def>> [[psysml:8032ee8b-b45e-4aab-a334-ddc7f77ca09b ]] {\r\n",
       "}\r\n",
       "rec usage \"engine1: Engine\" as E3  [[psysml:d1c59f8e-91b7-4873-9a7c-d548f1a74ff0 ]] {\r\n",
       "}\r\n",
       "rec usage \"engine2: Engine\" as E4  [[psysml:b8b914f7-6e3e-418c-a7c7-b0f9195d6204 ]] {\r\n",
       "}\r\n",
       "comp usage \"engineTradeStudy: TradeStudy\" as E5 << analysis>> [[psysml:d010e11c-db6d-479b-b98e-aa7ac12f08dc ]] {\r\n",
       "}\r\n",
       "comp usage \"tradeStudyObjective: MaximizeObjective\" as E6  <<(T,blue) requirement>> [[psysml:baa50d6d-f728-4fdb-a3d8-0324d2e9c263 ]] {\r\n",
       "}\r\n",
       "comp usage \"objectiveFunction\" as E7  <<(T,blue) calculation>> [[psysml:c3bcbf7c-d2b8-4beb-b9e4-ef0b91eba9be ]] {\r\n",
       "}\r\n",
       "comp usage \"alternative: Engine\" as E8  [[psysml:c18a795f-fd76-4ffb-a70d-e612388b917b ]] {\r\n",
       "}\r\n",
       "comp usage \"selectedAlternative: Engine\" as E9  [[psysml:854815c3-8ae1-4c3d-a371-f12eec0f41ab ]] {\r\n",
       "}\r\n",
       "}\r\n",
       "E5 ..> E2 [[psysml:0f7006cc-acd6-40d1-b198-a80e8f08765e ]] : <<subject>>\r\n",
       "E5 - ->> E6 [[psysml:33b70aea-82ec-44f7-8a12-3ec54376cb03 ]] : <<objective>>\r\n",
       "E5 *- - E7 [[psysml:9ca3a684-dbe3-4511-9e21-3cef746855e2 ]] \r\n",
       "E7 o- - \"1\"E8 [[psysml:8f87ba26-7a36-4a80-9ed1-e463a907c7c6 ]] \r\n",
       "E8 - -:|> E2 [[psysml:bdf7178e-b1d2-4aa0-b7b5-71013aa1f7a9 ]] \r\n",
       "E5 o- - \"1\"E9 [[psysml:a1ab5fdf-7d24-4497-9ea2-3c4d95277eba ]] \r\n",
       "E9 - -:|> E2 [[psysml:9bedaae2-b2c6-4d70-8011-f34c154ea99f ]] \r\n",
       "@enduml\r\n",
       "\n",
       "PlantUML version 1.2020.13(Sat Jun 13 12:26:38 UTC 2020)\n",
       "(EPL source distribution)\n",
       "Java Runtime: OpenJDK Runtime Environment\n",
       "JVM: OpenJDK 64-Bit Server VM\n",
       "Default Encoding: UTF-8\n",
       "Language: en\n",
       "Country: null\n",
       "--></g></svg>"
      ]
     },
     "execution_count": 40,
     "metadata": {},
     "output_type": "execute_result"
    }
   ],
   "source": [
    "%viz --style=\"DEFAULT\" --view=\"Interconnection\" \"TradeStudyTest\""
   ]
  },
  {
   "cell_type": "code",
   "execution_count": 41,
   "id": "f763c18b",
   "metadata": {
    "execution": {
     "iopub.execute_input": "2021-09-27T07:19:37.186621Z",
     "iopub.status.busy": "2021-09-27T07:19:37.186392Z",
     "iopub.status.idle": "2021-09-27T07:19:37.214029Z",
     "shell.execute_reply": "2021-09-27T07:19:37.213828Z"
    }
   },
   "outputs": [
    {
     "data": {
      "image/svg+xml": [
       "<?xml version=\"1.0\" encoding=\"UTF-8\" standalone=\"no\"?><svg xmlns=\"http://www.w3.org/2000/svg\" xmlns:xlink=\"http://www.w3.org/1999/xlink\" contentScriptType=\"application/ecmascript\" contentStyleType=\"text/css\" height=\"178px\" preserveAspectRatio=\"none\" style=\"width:434px;height:178px;\" version=\"1.1\" viewBox=\"0 0 434 178\" width=\"434px\" zoomAndPan=\"magnify\"><defs/><g><!--MD5=[fbc87193dbaf4d95561dea2c320d4a47]\n",
       "cluster E1--><a href=\"psysml:d010e11c-db6d-479b-b98e-aa7ac12f08dc\" target=\"_top\" title=\"psysml:d010e11c-db6d-479b-b98e-aa7ac12f08dc\" xlink:actuate=\"onRequest\" xlink:href=\"psysml:d010e11c-db6d-479b-b98e-aa7ac12f08dc\" xlink:show=\"new\" xlink:title=\"psysml:d010e11c-db6d-479b-b98e-aa7ac12f08dc\" xlink:type=\"simple\"><rect fill=\"#FFFFFF\" height=\"103.72\" id=\"E1\" rx=\"10\" ry=\"10\" style=\"stroke: #383838; stroke-width: 1.5;\" width=\"327\" x=\"47\" y=\"42.0986\"/><rect fill=\"#F8F8F8\" height=\"37.9375\" rx=\"10\" ry=\"10\" style=\"stroke: #F8F8F8; stroke-width: 1.5;\" width=\"327\" x=\"47\" y=\"42.0986\"/><rect fill=\"#F8F8F8\" height=\"10\" style=\"stroke: #F8F8F8; stroke-width: 1.5;\" width=\"327\" x=\"47\" y=\"70.0361\"/><rect fill=\"none\" height=\"103.72\" id=\"E1\" rx=\"10\" ry=\"10\" style=\"stroke: #383838; stroke-width: 1.5;\" width=\"327\" x=\"47\" y=\"42.0986\"/><text fill=\"#000000\" font-family=\"sans-serif\" font-size=\"12\" font-style=\"italic\" lengthAdjust=\"spacingAndGlyphs\" textLength=\"64\" x=\"178.5\" y=\"58.2373\">«analysis»</text><text fill=\"#000000\" font-family=\"sans-serif\" font-size=\"12\" lengthAdjust=\"spacingAndGlyphs\" textLength=\"114\" x=\"153.5\" y=\"72.2061\">engineTradeStudy</text><line style=\"stroke: #383838; stroke-width: 1.0;\" x1=\"47\" x2=\"374\" y1=\"80.0361\" y2=\"80.0361\"/></a><!--MD5=[d5e69f78d87373223dbae638b30a9c99]\n",
       "cluster E3--><a href=\"psysml:c3bcbf7c-d2b8-4beb-b9e4-ef0b91eba9be\" target=\"_top\" title=\"psysml:c3bcbf7c-d2b8-4beb-b9e4-ef0b91eba9be\" xlink:actuate=\"onRequest\" xlink:href=\"psysml:c3bcbf7c-d2b8-4beb-b9e4-ef0b91eba9be\" xlink:show=\"new\" xlink:title=\"psysml:c3bcbf7c-d2b8-4beb-b9e4-ef0b91eba9be\" xlink:type=\"simple\"><rect fill=\"#FFFFFF\" height=\"81.72\" id=\"E3\" rx=\"10\" ry=\"10\" style=\"stroke: #383838; stroke-width: 1.5;\" width=\"132\" x=\"214.125\" y=\"64.0986\"/><rect fill=\"#F8F8F8\" height=\"37.9375\" rx=\"10\" ry=\"10\" style=\"stroke: #F8F8F8; stroke-width: 1.5;\" width=\"132\" x=\"214.125\" y=\"64.0986\"/><rect fill=\"#F8F8F8\" height=\"10\" style=\"stroke: #F8F8F8; stroke-width: 1.5;\" width=\"132\" x=\"214.125\" y=\"92.0361\"/><rect fill=\"none\" height=\"81.72\" id=\"E3\" rx=\"10\" ry=\"10\" style=\"stroke: #383838; stroke-width: 1.5;\" width=\"132\" x=\"214.125\" y=\"64.0986\"/><text fill=\"#000000\" font-family=\"sans-serif\" font-size=\"12\" font-style=\"italic\" lengthAdjust=\"spacingAndGlyphs\" textLength=\"82\" x=\"239.125\" y=\"80.2373\">«calculation»</text><text fill=\"#000000\" font-family=\"sans-serif\" font-size=\"12\" lengthAdjust=\"spacingAndGlyphs\" textLength=\"110\" x=\"225.125\" y=\"94.2061\">objectiveFunction</text><line style=\"stroke: #383838; stroke-width: 1.0;\" x1=\"214.125\" x2=\"346.125\" y1=\"102.0361\" y2=\"102.0361\"/></a><text fill=\"#000000\" font-family=\"sans-serif\" font-size=\"14\" lengthAdjust=\"spacingAndGlyphs\" textLength=\"118\" x=\"6\" y=\"20.7969\">studyAlternatives</text><rect fill=\"#383838\" height=\"12\" style=\"stroke: #F8F8F8; stroke-width: 1.5;\" width=\"12\" x=\"59\" y=\"36.0986\"/><text fill=\"#000000\" font-family=\"sans-serif\" font-size=\"14\" lengthAdjust=\"spacingAndGlyphs\" textLength=\"132\" x=\"290\" y=\"164.8138\">selectedAlternative</text><rect fill=\"#383838\" height=\"12\" style=\"stroke: #F8F8F8; stroke-width: 1.5;\" width=\"12\" x=\"350\" y=\"139.8186\"/><text fill=\"#000000\" font-family=\"sans-serif\" font-size=\"14\" lengthAdjust=\"spacingAndGlyphs\" textLength=\"39\" x=\"215.5\" y=\"164.8138\">result</text><rect fill=\"#383838\" height=\"12\" style=\"stroke: #F8F8F8; stroke-width: 1.5;\" width=\"12\" x=\"229\" y=\"139.8186\"/><!--MD5=[5a8616d4f56120462a4756ef1f41b96f]\n",
       "@startuml\r\n",
       "skinparam ranksep 8\r\n",
       "skinparam monochrome true\r\n",
       "skinparam classbackgroundcolor white\r\n",
       "skinparam shadowing false\r\n",
       "skinparam wrapWidth 300\r\n",
       "hide circle\r\n",
       "\r\n",
       "rec usage \"engineTradeStudy\" as E1 << analysis>> [[psysml:d010e11c-db6d-479b-b98e-aa7ac12f08dc ]] {\r\n",
       "portin \"studyAlternatives\" as E2  [[psysml:c281ae49-24a5-493f-bfdc-d0e83f5bb327 ]] \r\n",
       "rec usage \"objectiveFunction\" as E3  <<(T,blue) calculation>> [[psysml:c3bcbf7c-d2b8-4beb-b9e4-ef0b91eba9be ]] {\r\n",
       "portout \"result\" as E4  [[psysml:6508d5a9-7a54-4e99-9afa-e959802dfdd5 ]] \r\n",
       "}\r\n",
       "\r\n",
       "portout \"selectedAlternative\" as E5  [[psysml:854815c3-8ae1-4c3d-a371-f12eec0f41ab ]] \r\n",
       "}\r\n",
       "\r\n",
       "@enduml\r\n",
       "\n",
       "PlantUML version 1.2020.13(Sat Jun 13 12:26:38 UTC 2020)\n",
       "(EPL source distribution)\n",
       "Java Runtime: OpenJDK Runtime Environment\n",
       "JVM: OpenJDK 64-Bit Server VM\n",
       "Default Encoding: UTF-8\n",
       "Language: en\n",
       "Country: null\n",
       "--></g></svg>"
      ]
     },
     "execution_count": 41,
     "metadata": {},
     "output_type": "execute_result"
    }
   ],
   "source": [
    "%viz --style=\"DEFAULT\" --view=\"Action\" \"TradeStudyTest\""
   ]
  },
  {
   "cell_type": "code",
   "execution_count": 42,
   "id": "aa4c5edd",
   "metadata": {
    "execution": {
     "iopub.execute_input": "2021-09-27T07:19:37.264272Z",
     "iopub.status.busy": "2021-09-27T07:19:37.263918Z",
     "iopub.status.idle": "2021-09-27T07:19:37.269031Z",
     "shell.execute_reply": "2021-09-27T07:19:37.268671Z"
    }
   },
   "outputs": [
    {
     "data": {
      "image/svg+xml": [
       "<?xml version=\"1.0\" encoding=\"UTF-8\" standalone=\"no\"?><svg xmlns=\"http://www.w3.org/2000/svg\" xmlns:xlink=\"http://www.w3.org/1999/xlink\" contentScriptType=\"application/ecmascript\" contentStyleType=\"text/css\" height=\"12px\" preserveAspectRatio=\"none\" style=\"width:12px;height:12px;\" version=\"1.1\" viewBox=\"0 0 12 12\" width=\"12px\" zoomAndPan=\"magnify\"><defs/><g><!--MD5=[0b72472770326784bf6c2b53246e1e64]\n",
       "@startuml\r\n",
       "skinparam roundcorner 20\r\n",
       "skinparam BoxPadding 20\r\n",
       "skinparam SequenceBoxBackgroundColor #white\r\n",
       "skinparam style strictuml\r\n",
       "skinparam maxMessageSize 100\r\n",
       "skinparam monochrome true\r\n",
       "skinparam classbackgroundcolor white\r\n",
       "skinparam shadowing false\r\n",
       "skinparam wrapWidth 300\r\n",
       "hide circle\r\n",
       "\r\n",
       "@enduml\r\n",
       "\n",
       "PlantUML version 1.2020.13(Sat Jun 13 12:26:38 UTC 2020)\n",
       "(EPL source distribution)\n",
       "Java Runtime: OpenJDK Runtime Environment\n",
       "JVM: OpenJDK 64-Bit Server VM\n",
       "Default Encoding: UTF-8\n",
       "Language: en\n",
       "Country: null\n",
       "--></g></svg>"
      ]
     },
     "execution_count": 42,
     "metadata": {},
     "output_type": "execute_result"
    }
   ],
   "source": [
    "%viz --style=\"DEFAULT\" --view=\"Sequence\" \"TradeStudyTest\""
   ]
  },
  {
   "cell_type": "code",
   "execution_count": 43,
   "id": "27021641",
   "metadata": {
    "execution": {
     "iopub.execute_input": "2021-09-27T07:19:37.318979Z",
     "iopub.status.busy": "2021-09-27T07:19:37.318544Z",
     "iopub.status.idle": "2021-09-27T07:19:37.355353Z",
     "shell.execute_reply": "2021-09-27T07:19:37.354243Z"
    }
   },
   "outputs": [
    {
     "data": {
      "image/svg+xml": [
       "<?xml version=\"1.0\" encoding=\"UTF-8\" standalone=\"no\"?><svg xmlns=\"http://www.w3.org/2000/svg\" xmlns:xlink=\"http://www.w3.org/1999/xlink\" contentScriptType=\"application/ecmascript\" contentStyleType=\"text/css\" height=\"497px\" preserveAspectRatio=\"none\" style=\"width:556px;height:497px;\" version=\"1.1\" viewBox=\"0 0 556 497\" width=\"556px\" zoomAndPan=\"magnify\"><defs/><g><!--MD5=[fbc87193dbaf4d95561dea2c320d4a47]\n",
       "cluster E1--><a href=\"psysml:e59f1b4e-bf48-44e5-8b03-de7ba4c0da2b\" target=\"_top\" title=\"psysml:e59f1b4e-bf48-44e5-8b03-de7ba4c0da2b\" xlink:actuate=\"onRequest\" xlink:href=\"psysml:e59f1b4e-bf48-44e5-8b03-de7ba4c0da2b\" xlink:show=\"new\" xlink:title=\"psysml:e59f1b4e-bf48-44e5-8b03-de7ba4c0da2b\" xlink:type=\"simple\"><polygon fill=\"#FFFFFF\" points=\"18.32,6,134.32,6,141.32,28.2969,534.32,28.2969,534.32,485,18.32,485,18.32,6\" style=\"stroke: #000000; stroke-width: 1.5;\"/><line style=\"stroke: #000000; stroke-width: 1.5;\" x1=\"18.32\" x2=\"141.32\" y1=\"28.2969\" y2=\"28.2969\"/><text fill=\"#000000\" font-family=\"sans-serif\" font-size=\"14\" font-weight=\"bold\" lengthAdjust=\"spacingAndGlyphs\" textLength=\"110\" x=\"22.32\" y=\"20.9951\">TradeStudyTest</text></a><!--MD5=[b4997ac47864f28c2f74865a473b2911]\n",
       "class E2--><a href=\"psysml:8032ee8b-b45e-4aab-a334-ddc7f77ca09b\" target=\"_top\" title=\"psysml:8032ee8b-b45e-4aab-a334-ddc7f77ca09b\" xlink:actuate=\"onRequest\" xlink:href=\"psysml:8032ee8b-b45e-4aab-a334-ddc7f77ca09b\" xlink:show=\"new\" xlink:title=\"psysml:8032ee8b-b45e-4aab-a334-ddc7f77ca09b\" xlink:type=\"simple\"><rect fill=\"#FFFFFF\" height=\"45.9375\" id=\"E2\" style=\"stroke: #383838; stroke-width: 1.5;\" width=\"66\" x=\"198.32\" y=\"423\"/><text fill=\"#000000\" font-family=\"sans-serif\" font-size=\"12\" font-style=\"italic\" lengthAdjust=\"spacingAndGlyphs\" textLength=\"64\" x=\"199.32\" y=\"439.1387\">«part def»</text><text fill=\"#000000\" font-family=\"sans-serif\" font-size=\"12\" lengthAdjust=\"spacingAndGlyphs\" textLength=\"43\" x=\"209.82\" y=\"453.1074\">Engine</text><line style=\"stroke: #383838; stroke-width: 1.5;\" x1=\"199.32\" x2=\"263.32\" y1=\"460.9375\" y2=\"460.9375\"/></a><!--MD5=[09b614a08d8cba4a07c9adeb5e0fee81]\n",
       "class E3--><a href=\"psysml:d1c59f8e-91b7-4873-9a7c-d548f1a74ff0\" target=\"_top\" title=\"psysml:d1c59f8e-91b7-4873-9a7c-d548f1a74ff0\" xlink:actuate=\"onRequest\" xlink:href=\"psysml:d1c59f8e-91b7-4873-9a7c-d548f1a74ff0\" xlink:show=\"new\" xlink:title=\"psysml:d1c59f8e-91b7-4873-9a7c-d548f1a74ff0\" xlink:type=\"simple\"><rect fill=\"#FFFFFF\" height=\"45.9375\" id=\"E3\" rx=\"10\" ry=\"10\" style=\"stroke: #383838; stroke-width: 1.5;\" width=\"108\" x=\"410.32\" y=\"316\"/><text fill=\"#000000\" font-family=\"sans-serif\" font-size=\"12\" font-style=\"italic\" lengthAdjust=\"spacingAndGlyphs\" textLength=\"40\" x=\"444.32\" y=\"332.1387\">«part»</text><text fill=\"#000000\" font-family=\"sans-serif\" font-size=\"12\" lengthAdjust=\"spacingAndGlyphs\" textLength=\"102\" x=\"413.32\" y=\"346.1074\">engine1: Engine</text><line style=\"stroke: #383838; stroke-width: 1.5;\" x1=\"411.32\" x2=\"517.32\" y1=\"353.9375\" y2=\"353.9375\"/></a><!--MD5=[ebbe1d658d1005bcc118a6aa81145e00]\n",
       "class E4--><a href=\"psysml:b8b914f7-6e3e-418c-a7c7-b0f9195d6204\" target=\"_top\" title=\"psysml:b8b914f7-6e3e-418c-a7c7-b0f9195d6204\" xlink:actuate=\"onRequest\" xlink:href=\"psysml:b8b914f7-6e3e-418c-a7c7-b0f9195d6204\" xlink:show=\"new\" xlink:title=\"psysml:b8b914f7-6e3e-418c-a7c7-b0f9195d6204\" xlink:type=\"simple\"><rect fill=\"#FFFFFF\" height=\"45.9375\" id=\"E4\" rx=\"10\" ry=\"10\" style=\"stroke: #383838; stroke-width: 1.5;\" width=\"108\" x=\"267.32\" y=\"316\"/><text fill=\"#000000\" font-family=\"sans-serif\" font-size=\"12\" font-style=\"italic\" lengthAdjust=\"spacingAndGlyphs\" textLength=\"40\" x=\"301.32\" y=\"332.1387\">«part»</text><text fill=\"#000000\" font-family=\"sans-serif\" font-size=\"12\" lengthAdjust=\"spacingAndGlyphs\" textLength=\"102\" x=\"270.32\" y=\"346.1074\">engine2: Engine</text><line style=\"stroke: #383838; stroke-width: 1.5;\" x1=\"268.32\" x2=\"374.32\" y1=\"353.9375\" y2=\"353.9375\"/></a><!--MD5=[270fce915f116d4de14055a7c1d9a0f3]\n",
       "class E5--><a href=\"psysml:d010e11c-db6d-479b-b98e-aa7ac12f08dc\" target=\"_top\" title=\"psysml:d010e11c-db6d-479b-b98e-aa7ac12f08dc\" xlink:actuate=\"onRequest\" xlink:href=\"psysml:d010e11c-db6d-479b-b98e-aa7ac12f08dc\" xlink:show=\"new\" xlink:title=\"psysml:d010e11c-db6d-479b-b98e-aa7ac12f08dc\" xlink:type=\"simple\"><rect fill=\"#FFFFFF\" height=\"45.9375\" id=\"E5\" rx=\"10\" ry=\"10\" style=\"stroke: #383838; stroke-width: 1.5;\" width=\"199\" x=\"239.82\" y=\"41\"/><text fill=\"#000000\" font-family=\"sans-serif\" font-size=\"12\" font-style=\"italic\" lengthAdjust=\"spacingAndGlyphs\" textLength=\"64\" x=\"307.32\" y=\"57.1387\">«analysis»</text><text fill=\"#000000\" font-family=\"sans-serif\" font-size=\"12\" lengthAdjust=\"spacingAndGlyphs\" textLength=\"193\" x=\"242.82\" y=\"71.1074\">engineTradeStudy: TradeStudy</text><line style=\"stroke: #383838; stroke-width: 1.5;\" x1=\"240.82\" x2=\"437.82\" y1=\"78.9375\" y2=\"78.9375\"/></a><!--MD5=[60a26617385b1d2d0262a64233df1f8d]\n",
       "class E6--><a href=\"psysml:baa50d6d-f728-4fdb-a3d8-0324d2e9c263\" target=\"_top\" title=\"psysml:baa50d6d-f728-4fdb-a3d8-0324d2e9c263\" xlink:actuate=\"onRequest\" xlink:href=\"psysml:baa50d6d-f728-4fdb-a3d8-0324d2e9c263\" xlink:show=\"new\" xlink:title=\"psysml:baa50d6d-f728-4fdb-a3d8-0324d2e9c263\" xlink:type=\"simple\"><rect fill=\"#FFFFFF\" height=\"45.9375\" id=\"E6\" rx=\"10\" ry=\"10\" style=\"stroke: #383838; stroke-width: 1.5;\" width=\"251\" x=\"78.82\" y=\"164\"/><text fill=\"#000000\" font-family=\"sans-serif\" font-size=\"12\" font-style=\"italic\" lengthAdjust=\"spacingAndGlyphs\" textLength=\"91\" x=\"158.82\" y=\"180.1387\">«requirement»</text><text fill=\"#000000\" font-family=\"sans-serif\" font-size=\"12\" lengthAdjust=\"spacingAndGlyphs\" textLength=\"245\" x=\"81.82\" y=\"194.1074\">tradeStudyObjective: MaximizeObjective</text><line style=\"stroke: #383838; stroke-width: 1.5;\" x1=\"79.82\" x2=\"328.82\" y1=\"201.9375\" y2=\"201.9375\"/></a><!--MD5=[2156ba9850f5573cc1fc38a6a4b2f02b]\n",
       "class E7--><a href=\"psysml:c3bcbf7c-d2b8-4beb-b9e4-ef0b91eba9be\" target=\"_top\" title=\"psysml:c3bcbf7c-d2b8-4beb-b9e4-ef0b91eba9be\" xlink:actuate=\"onRequest\" xlink:href=\"psysml:c3bcbf7c-d2b8-4beb-b9e4-ef0b91eba9be\" xlink:show=\"new\" xlink:title=\"psysml:c3bcbf7c-d2b8-4beb-b9e4-ef0b91eba9be\" xlink:type=\"simple\"><rect fill=\"#FFFFFF\" height=\"45.9375\" id=\"E7\" rx=\"10\" ry=\"10\" style=\"stroke: #383838; stroke-width: 1.5;\" width=\"116\" x=\"365.32\" y=\"164\"/><text fill=\"#000000\" font-family=\"sans-serif\" font-size=\"12\" font-style=\"italic\" lengthAdjust=\"spacingAndGlyphs\" textLength=\"82\" x=\"382.32\" y=\"180.1387\">«calculation»</text><text fill=\"#000000\" font-family=\"sans-serif\" font-size=\"12\" lengthAdjust=\"spacingAndGlyphs\" textLength=\"110\" x=\"368.32\" y=\"194.1074\">objectiveFunction</text><line style=\"stroke: #383838; stroke-width: 1.5;\" x1=\"366.32\" x2=\"480.32\" y1=\"201.9375\" y2=\"201.9375\"/></a><!--MD5=[b9389687b975829384b498ac4b7476b2]\n",
       "class E8--><a href=\"psysml:c18a795f-fd76-4ffb-a70d-e612388b917b\" target=\"_top\" title=\"psysml:c18a795f-fd76-4ffb-a70d-e612388b917b\" xlink:actuate=\"onRequest\" xlink:href=\"psysml:c18a795f-fd76-4ffb-a70d-e612388b917b\" xlink:show=\"new\" xlink:title=\"psysml:c18a795f-fd76-4ffb-a70d-e612388b917b\" xlink:type=\"simple\"><rect fill=\"#FFFFFF\" height=\"45.9375\" id=\"E8\" rx=\"10\" ry=\"10\" style=\"stroke: #383838; stroke-width: 1.5;\" width=\"124\" x=\"71.32\" y=\"316\"/><text fill=\"#000000\" font-family=\"sans-serif\" font-size=\"12\" font-style=\"italic\" lengthAdjust=\"spacingAndGlyphs\" textLength=\"40\" x=\"113.32\" y=\"332.1387\">«part»</text><text fill=\"#000000\" font-family=\"sans-serif\" font-size=\"12\" lengthAdjust=\"spacingAndGlyphs\" textLength=\"118\" x=\"74.32\" y=\"346.1074\">alternative: Engine</text><line style=\"stroke: #383838; stroke-width: 1.5;\" x1=\"72.32\" x2=\"194.32\" y1=\"353.9375\" y2=\"353.9375\"/></a><!--MD5=[fd4143e9d270a159db93a4ea2a975926]\n",
       "class E9--><a href=\"psysml:854815c3-8ae1-4c3d-a371-f12eec0f41ab\" target=\"_top\" title=\"psysml:854815c3-8ae1-4c3d-a371-f12eec0f41ab\" xlink:actuate=\"onRequest\" xlink:href=\"psysml:854815c3-8ae1-4c3d-a371-f12eec0f41ab\" xlink:show=\"new\" xlink:title=\"psysml:854815c3-8ae1-4c3d-a371-f12eec0f41ab\" xlink:type=\"simple\"><rect fill=\"#FFFFFF\" height=\"45.9375\" id=\"E9\" rx=\"10\" ry=\"10\" style=\"stroke: #383838; stroke-width: 1.5;\" width=\"178\" x=\"291.32\" y=\"240\"/><text fill=\"#000000\" font-family=\"sans-serif\" font-size=\"12\" font-style=\"italic\" lengthAdjust=\"spacingAndGlyphs\" textLength=\"40\" x=\"360.32\" y=\"256.1387\">«part»</text><text fill=\"#000000\" font-family=\"sans-serif\" font-size=\"12\" lengthAdjust=\"spacingAndGlyphs\" textLength=\"172\" x=\"294.32\" y=\"270.1074\">selectedAlternative: Engine</text><line style=\"stroke: #383838; stroke-width: 1.5;\" x1=\"292.32\" x2=\"468.32\" y1=\"277.9375\" y2=\"277.9375\"/></a><!--MD5=[05d275557350bfb9b23a4ef7222b4c39]\n",
       "link E3 to E2--><a href=\"psysml:a477e10c-c644-4ab8-a0d7-73b747f4931b\" target=\"_top\" title=\"psysml:a477e10c-c644-4ab8-a0d7-73b747f4931b\" xlink:actuate=\"onRequest\" xlink:href=\"psysml:a477e10c-c644-4ab8-a0d7-73b747f4931b\" xlink:show=\"new\" xlink:title=\"psysml:a477e10c-c644-4ab8-a0d7-73b747f4931b\" xlink:type=\"simple\"><path d=\"M415.48,362.01 C376.57,379.54 322.27,404.01 282.71,421.84 \" fill=\"none\" id=\"E3-&gt;E2\" style=\"stroke: #383838; stroke-width: 1.0;\"/><polygon fill=\"#FFFFFF\" points=\"264.34,430.12,278.7866,415.9321,284.5383,428.696,264.34,430.12\" style=\"stroke: #383838; stroke-width: 1.0;\"/><ellipse cx=\"284.805\" cy=\"415.4137\" fill=\"#383838\" rx=\"2\" ry=\"2\" style=\"stroke: #383838; stroke-width: 1.0;\"/><ellipse cx=\"288.9134\" cy=\"424.5308\" fill=\"#383838\" rx=\"2\" ry=\"2\" style=\"stroke: #383838; stroke-width: 1.0;\"/></a><!--MD5=[185131fc0dcab0a4505a2ebe144e961b]\n",
       "link E4 to E2--><a href=\"psysml:006a8138-edc7-4443-807d-fbbb291c6f87\" target=\"_top\" title=\"psysml:006a8138-edc7-4443-807d-fbbb291c6f87\" xlink:actuate=\"onRequest\" xlink:href=\"psysml:006a8138-edc7-4443-807d-fbbb291c6f87\" xlink:show=\"new\" xlink:title=\"psysml:006a8138-edc7-4443-807d-fbbb291c6f87\" xlink:type=\"simple\"><path d=\"M302.45,362.01 C291.25,375.08 276.74,392.01 263.74,407.17 \" fill=\"none\" id=\"E4-&gt;E2\" style=\"stroke: #383838; stroke-width: 1.0;\"/><polygon fill=\"#FFFFFF\" points=\"250.47,422.66,257.5188,403.678,268.1491,412.7883,250.47,422.66\" style=\"stroke: #383838; stroke-width: 1.0;\"/><ellipse cx=\"262.7466\" cy=\"400.6515\" fill=\"#383838\" rx=\"2\" ry=\"2\" style=\"stroke: #383838; stroke-width: 1.0;\"/><ellipse cx=\"270.3396\" cy=\"407.1588\" fill=\"#383838\" rx=\"2\" ry=\"2\" style=\"stroke: #383838; stroke-width: 1.0;\"/></a><!--MD5=[15ebcb19ae302d9b601edb458606d402]\n",
       "link E5 to E2--><a href=\"psysml:0f7006cc-acd6-40d1-b198-a80e8f08765e\" target=\"_top\" title=\"psysml:0f7006cc-acd6-40d1-b198-a80e8f08765e\" xlink:actuate=\"onRequest\" xlink:href=\"psysml:0f7006cc-acd6-40d1-b198-a80e8f08765e\" xlink:show=\"new\" xlink:title=\"psysml:0f7006cc-acd6-40d1-b198-a80e8f08765e\" xlink:type=\"simple\"><path d=\"M239.76,73.22 C177.99,83.96 102.74,108.45 61.32,164 C8.68,234.61 6,287.72 53.32,362 C83.95,410.08 150.5,430.76 192.99,439.32 \" fill=\"none\" id=\"E5-&gt;E2\" style=\"stroke: #383838; stroke-width: 1.0; stroke-dasharray: 7.0,7.0;\"/><polygon fill=\"#383838\" points=\"198.04,440.31,189.9738,434.6588,193.1327,439.3514,188.4401,442.5104,198.04,440.31\" style=\"stroke: #383838; stroke-width: 1.0;\"/><text fill=\"#000000\" font-family=\"sans-serif\" font-size=\"13\" lengthAdjust=\"spacingAndGlyphs\" textLength=\"62\" x=\"24.32\" y=\"267.5669\">«subject»</text></a><!--MD5=[9120cf2e5df3bff93db8f754bbbc09b4]\n",
       "link E5 to E6--><a href=\"psysml:33b70aea-82ec-44f7-8a12-3ec54376cb03\" target=\"_top\" title=\"psysml:33b70aea-82ec-44f7-8a12-3ec54376cb03\" xlink:actuate=\"onRequest\" xlink:href=\"psysml:33b70aea-82ec-44f7-8a12-3ec54376cb03\" xlink:show=\"new\" xlink:title=\"psysml:33b70aea-82ec-44f7-8a12-3ec54376cb03\" xlink:type=\"simple\"><path d=\"M314.56,87.19 C292.2,107.23 259.21,136.8 235.15,158.37 \" fill=\"none\" id=\"E5-&gt;E6\" style=\"stroke: #383838; stroke-width: 1.0;\"/><polygon fill=\"#383838\" points=\"228.92,163.95,236.8786,160.8419,232.8725,156.3752,228.92,163.95\" style=\"stroke: #383838; stroke-width: 1.0;\"/><text fill=\"#000000\" font-family=\"sans-serif\" font-size=\"13\" lengthAdjust=\"spacingAndGlyphs\" textLength=\"73\" x=\"280.32\" y=\"130.0669\">«objective»</text></a><!--MD5=[452b418e7f8a40397a49b8c0a78acc5b]\n",
       "reverse link E5 to E7--><a href=\"psysml:9ca3a684-dbe3-4511-9e21-3cef746855e2\" target=\"_top\" title=\"psysml:9ca3a684-dbe3-4511-9e21-3cef746855e2\" xlink:actuate=\"onRequest\" xlink:href=\"psysml:9ca3a684-dbe3-4511-9e21-3cef746855e2\" xlink:show=\"new\" xlink:title=\"psysml:9ca3a684-dbe3-4511-9e21-3cef746855e2\" xlink:type=\"simple\"><path d=\"M362.14,97.88 C376.71,118.86 395.19,145.48 408.01,163.95 \" fill=\"none\" id=\"E5&lt;-E7\" style=\"stroke: #383838; stroke-width: 1.0;\"/><polygon fill=\"#383838\" points=\"354.73,87.19,354.864,94.3999,361.5708,97.0492,361.4368,89.8393,354.73,87.19\" style=\"stroke: #383838; stroke-width: 1.0;\"/></a><!--MD5=[dc164f5e8a733ab456ef1add180e9e34]\n",
       "reverse link E7 to E8--><a href=\"psysml:8f87ba26-7a36-4a80-9ed1-e463a907c7c6\" target=\"_top\" title=\"psysml:8f87ba26-7a36-4a80-9ed1-e463a907c7c6\" xlink:actuate=\"onRequest\" xlink:href=\"psysml:8f87ba26-7a36-4a80-9ed1-e463a907c7c6\" xlink:show=\"new\" xlink:title=\"psysml:8f87ba26-7a36-4a80-9ed1-e463a907c7c6\" xlink:type=\"simple\"><path d=\"M352.67,208.29 C327.33,216.69 298.96,227.44 274.32,240 C231.96,261.6 187.65,294.33 160.26,315.93 \" fill=\"none\" id=\"E7&lt;-E8\" style=\"stroke: #383838; stroke-width: 1.0;\"/><polygon fill=\"#FFFFFF\" points=\"365.22,204.24,358.2818,202.2749,353.7994,207.9236,360.7376,209.8887,365.22,204.24\" style=\"stroke: #383838; stroke-width: 1.0;\"/><text fill=\"#000000\" font-family=\"sans-serif\" font-size=\"13\" lengthAdjust=\"spacingAndGlyphs\" textLength=\"8\" x=\"158.4251\" y=\"304.8075\">1</text></a><!--MD5=[f1f3f9f2fc535e6147756cb86a7f2e32]\n",
       "link E8 to E2--><a href=\"psysml:bdf7178e-b1d2-4aa0-b7b5-71013aa1f7a9\" target=\"_top\" title=\"psysml:bdf7178e-b1d2-4aa0-b7b5-71013aa1f7a9\" xlink:actuate=\"onRequest\" xlink:href=\"psysml:bdf7178e-b1d2-4aa0-b7b5-71013aa1f7a9\" xlink:show=\"new\" xlink:title=\"psysml:bdf7178e-b1d2-4aa0-b7b5-71013aa1f7a9\" xlink:type=\"simple\"><path d=\"M153.86,362.01 C166.19,375.22 182.2,392.38 196.46,407.65 \" fill=\"none\" id=\"E8-&gt;E2\" style=\"stroke: #383838; stroke-width: 1.0;\"/><polygon fill=\"#FFFFFF\" points=\"210.47,422.66,192.3921,413.5393,202.6305,403.9907,210.47,422.66\" style=\"stroke: #383838; stroke-width: 1.0;\"/><ellipse cx=\"189.9671\" cy=\"408.0067\" fill=\"#383838\" rx=\"2\" ry=\"2\" style=\"stroke: #383838; stroke-width: 1.0;\"/><ellipse cx=\"197.2802\" cy=\"401.1863\" fill=\"#383838\" rx=\"2\" ry=\"2\" style=\"stroke: #383838; stroke-width: 1.0;\"/></a><!--MD5=[9ae28de373ca99bb8a1b38d63370ca7e]\n",
       "reverse link E5 to E9--><a href=\"psysml:a1ab5fdf-7d24-4497-9ea2-3c4d95277eba\" target=\"_top\" title=\"psysml:a1ab5fdf-7d24-4497-9ea2-3c4d95277eba\" xlink:actuate=\"onRequest\" xlink:href=\"psysml:a1ab5fdf-7d24-4497-9ea2-3c4d95277eba\" xlink:show=\"new\" xlink:title=\"psysml:a1ab5fdf-7d24-4497-9ea2-3c4d95277eba\" xlink:type=\"simple\"><path d=\"M416.08,92.77 C447.78,108.48 481.27,131.61 499.32,164 C509.27,181.86 510.51,192.89 499.32,210 C490.86,222.92 478.41,232.65 464.71,239.97 \" fill=\"none\" id=\"E5&lt;-E9\" style=\"stroke: #383838; stroke-width: 1.0;\"/><polygon fill=\"#FFFFFF\" points=\"404.06,87.11,407.7814,93.2867,414.9142,92.2272,411.1928,86.0505,404.06,87.11\" style=\"stroke: #383838; stroke-width: 1.0;\"/><text fill=\"#000000\" font-family=\"sans-serif\" font-size=\"13\" lengthAdjust=\"spacingAndGlyphs\" textLength=\"8\" x=\"477.3099\" y=\"229.2386\">1</text></a><!--MD5=[5c3bb36fe832a92c7f0e1807dd65209d]\n",
       "link E9 to E2--><a href=\"psysml:9bedaae2-b2c6-4d70-8011-f34c154ea99f\" target=\"_top\" title=\"psysml:9bedaae2-b2c6-4d70-8011-f34c154ea99f\" xlink:actuate=\"onRequest\" xlink:href=\"psysml:9bedaae2-b2c6-4d70-8011-f34c154ea99f\" xlink:show=\"new\" xlink:title=\"psysml:9bedaae2-b2c6-4d70-8011-f34c154ea99f\" xlink:type=\"simple\"><path d=\"M291.19,285.15 C275.57,292.56 260.94,302.55 250.32,316 C231.17,340.25 227.04,375.32 227.36,402.77 \" fill=\"none\" id=\"E9-&gt;E2\" style=\"stroke: #383838; stroke-width: 1.0;\"/><polygon fill=\"#FFFFFF\" points=\"228.36,422.81,220.4186,404.1838,234.4011,403.4837,228.36,422.81\" style=\"stroke: #383838; stroke-width: 1.0;\"/><ellipse cx=\"222.131\" cy=\"398.3909\" fill=\"#383838\" rx=\"2\" ry=\"2\" style=\"stroke: #383838; stroke-width: 1.0;\"/><ellipse cx=\"232.1185\" cy=\"397.8909\" fill=\"#383838\" rx=\"2\" ry=\"2\" style=\"stroke: #383838; stroke-width: 1.0;\"/></a><!--MD5=[6de0255c9ac2737adf7277a85476ceca]\n",
       "@startuml\r\n",
       "skinparam monochrome true\r\n",
       "skinparam classbackgroundcolor white\r\n",
       "skinparam shadowing false\r\n",
       "skinparam wrapWidth 300\r\n",
       "hide circle\r\n",
       "\r\n",
       "package \"TradeStudyTest\" as E1  [[psysml:e59f1b4e-bf48-44e5-8b03-de7ba4c0da2b ]]  {\r\n",
       "comp def \"Engine\" as E2  <<(T,blue) part def>> [[psysml:8032ee8b-b45e-4aab-a334-ddc7f77ca09b ]] {\r\n",
       "}\r\n",
       "comp usage \"engine1: Engine\" as E3  <<(T,blue) part>> [[psysml:d1c59f8e-91b7-4873-9a7c-d548f1a74ff0 ]] {\r\n",
       "}\r\n",
       "comp usage \"engine2: Engine\" as E4  <<(T,blue) part>> [[psysml:b8b914f7-6e3e-418c-a7c7-b0f9195d6204 ]] {\r\n",
       "}\r\n",
       "comp usage \"engineTradeStudy: TradeStudy\" as E5 << analysis>> [[psysml:d010e11c-db6d-479b-b98e-aa7ac12f08dc ]] {\r\n",
       "}\r\n",
       "comp usage \"tradeStudyObjective: MaximizeObjective\" as E6  <<(T,blue) requirement>> [[psysml:baa50d6d-f728-4fdb-a3d8-0324d2e9c263 ]] {\r\n",
       "}\r\n",
       "comp usage \"objectiveFunction\" as E7  <<(T,blue) calculation>> [[psysml:c3bcbf7c-d2b8-4beb-b9e4-ef0b91eba9be ]] {\r\n",
       "}\r\n",
       "comp usage \"alternative: Engine\" as E8  <<(T,blue) part>> [[psysml:c18a795f-fd76-4ffb-a70d-e612388b917b ]] {\r\n",
       "}\r\n",
       "comp usage \"selectedAlternative: Engine\" as E9  <<(T,blue) part>> [[psysml:854815c3-8ae1-4c3d-a371-f12eec0f41ab ]] {\r\n",
       "}\r\n",
       "}\r\n",
       "E3 - -:|> E2 [[psysml:a477e10c-c644-4ab8-a0d7-73b747f4931b ]] \r\n",
       "E4 - -:|> E2 [[psysml:006a8138-edc7-4443-807d-fbbb291c6f87 ]] \r\n",
       "E5 ..> E2 [[psysml:0f7006cc-acd6-40d1-b198-a80e8f08765e ]] : <<subject>>\r\n",
       "E5 - ->> E6 [[psysml:33b70aea-82ec-44f7-8a12-3ec54376cb03 ]] : <<objective>>\r\n",
       "E5 *- - E7 [[psysml:9ca3a684-dbe3-4511-9e21-3cef746855e2 ]] \r\n",
       "E7 o- - \"1\"E8 [[psysml:8f87ba26-7a36-4a80-9ed1-e463a907c7c6 ]] \r\n",
       "E8 - -:|> E2 [[psysml:bdf7178e-b1d2-4aa0-b7b5-71013aa1f7a9 ]] \r\n",
       "E5 o- - \"1\"E9 [[psysml:a1ab5fdf-7d24-4497-9ea2-3c4d95277eba ]] \r\n",
       "E9 - -:|> E2 [[psysml:9bedaae2-b2c6-4d70-8011-f34c154ea99f ]] \r\n",
       "@enduml\r\n",
       "\n",
       "PlantUML version 1.2020.13(Sat Jun 13 12:26:38 UTC 2020)\n",
       "(EPL source distribution)\n",
       "Java Runtime: OpenJDK Runtime Environment\n",
       "JVM: OpenJDK 64-Bit Server VM\n",
       "Default Encoding: UTF-8\n",
       "Language: en\n",
       "Country: null\n",
       "--></g></svg>"
      ]
     },
     "execution_count": 43,
     "metadata": {},
     "output_type": "execute_result"
    }
   ],
   "source": [
    "%viz --style=\"DEFAULT\" --view=\"MIXED\" \"TradeStudyTest\""
   ]
  },
  {
   "cell_type": "code",
   "execution_count": 44,
   "id": "672096c8",
   "metadata": {
    "execution": {
     "iopub.execute_input": "2021-09-27T07:19:37.405167Z",
     "iopub.status.busy": "2021-09-27T07:19:37.404886Z",
     "iopub.status.idle": "2021-09-27T07:19:37.441586Z",
     "shell.execute_reply": "2021-09-27T07:19:37.440918Z"
    }
   },
   "outputs": [
    {
     "data": {
      "image/svg+xml": [
       "<?xml version=\"1.0\" encoding=\"UTF-8\" standalone=\"no\"?><svg xmlns=\"http://www.w3.org/2000/svg\" xmlns:xlink=\"http://www.w3.org/1999/xlink\" contentScriptType=\"application/ecmascript\" contentStyleType=\"text/css\" height=\"497px\" preserveAspectRatio=\"none\" style=\"width:556px;height:497px;\" version=\"1.1\" viewBox=\"0 0 556 497\" width=\"556px\" zoomAndPan=\"magnify\"><defs/><g><!--MD5=[fbc87193dbaf4d95561dea2c320d4a47]\n",
       "cluster E1--><a href=\"psysml:e59f1b4e-bf48-44e5-8b03-de7ba4c0da2b\" target=\"_top\" title=\"psysml:e59f1b4e-bf48-44e5-8b03-de7ba4c0da2b\" xlink:actuate=\"onRequest\" xlink:href=\"psysml:e59f1b4e-bf48-44e5-8b03-de7ba4c0da2b\" xlink:show=\"new\" xlink:title=\"psysml:e59f1b4e-bf48-44e5-8b03-de7ba4c0da2b\" xlink:type=\"simple\"><polygon fill=\"#FFFFFF\" points=\"18.32,6,134.32,6,141.32,28.2969,534.32,28.2969,534.32,485,18.32,485,18.32,6\" style=\"stroke: #000000; stroke-width: 1.5;\"/><line style=\"stroke: #000000; stroke-width: 1.5;\" x1=\"18.32\" x2=\"141.32\" y1=\"28.2969\" y2=\"28.2969\"/><text fill=\"#000000\" font-family=\"sans-serif\" font-size=\"14\" font-weight=\"bold\" lengthAdjust=\"spacingAndGlyphs\" textLength=\"110\" x=\"22.32\" y=\"20.9951\">TradeStudyTest</text></a><!--MD5=[b4997ac47864f28c2f74865a473b2911]\n",
       "class E2--><a href=\"psysml:8032ee8b-b45e-4aab-a334-ddc7f77ca09b\" target=\"_top\" title=\"psysml:8032ee8b-b45e-4aab-a334-ddc7f77ca09b\" xlink:actuate=\"onRequest\" xlink:href=\"psysml:8032ee8b-b45e-4aab-a334-ddc7f77ca09b\" xlink:show=\"new\" xlink:title=\"psysml:8032ee8b-b45e-4aab-a334-ddc7f77ca09b\" xlink:type=\"simple\"><rect fill=\"#FFFFFF\" height=\"45.9375\" id=\"E2\" style=\"stroke: #383838; stroke-width: 1.5;\" width=\"66\" x=\"198.32\" y=\"423\"/><text fill=\"#000000\" font-family=\"sans-serif\" font-size=\"12\" font-style=\"italic\" lengthAdjust=\"spacingAndGlyphs\" textLength=\"64\" x=\"199.32\" y=\"439.1387\">«part def»</text><text fill=\"#000000\" font-family=\"sans-serif\" font-size=\"12\" lengthAdjust=\"spacingAndGlyphs\" textLength=\"43\" x=\"209.82\" y=\"453.1074\">Engine</text><line style=\"stroke: #383838; stroke-width: 1.5;\" x1=\"199.32\" x2=\"263.32\" y1=\"460.9375\" y2=\"460.9375\"/></a><!--MD5=[09b614a08d8cba4a07c9adeb5e0fee81]\n",
       "class E3--><a href=\"psysml:d1c59f8e-91b7-4873-9a7c-d548f1a74ff0\" target=\"_top\" title=\"psysml:d1c59f8e-91b7-4873-9a7c-d548f1a74ff0\" xlink:actuate=\"onRequest\" xlink:href=\"psysml:d1c59f8e-91b7-4873-9a7c-d548f1a74ff0\" xlink:show=\"new\" xlink:title=\"psysml:d1c59f8e-91b7-4873-9a7c-d548f1a74ff0\" xlink:type=\"simple\"><rect fill=\"#FFFFFF\" height=\"45.9375\" id=\"E3\" rx=\"10\" ry=\"10\" style=\"stroke: #383838; stroke-width: 1.5;\" width=\"108\" x=\"410.32\" y=\"316\"/><text fill=\"#000000\" font-family=\"sans-serif\" font-size=\"12\" font-style=\"italic\" lengthAdjust=\"spacingAndGlyphs\" textLength=\"40\" x=\"444.32\" y=\"332.1387\">«part»</text><text fill=\"#000000\" font-family=\"sans-serif\" font-size=\"12\" lengthAdjust=\"spacingAndGlyphs\" textLength=\"102\" x=\"413.32\" y=\"346.1074\">engine1: Engine</text><line style=\"stroke: #383838; stroke-width: 1.5;\" x1=\"411.32\" x2=\"517.32\" y1=\"353.9375\" y2=\"353.9375\"/></a><!--MD5=[ebbe1d658d1005bcc118a6aa81145e00]\n",
       "class E4--><a href=\"psysml:b8b914f7-6e3e-418c-a7c7-b0f9195d6204\" target=\"_top\" title=\"psysml:b8b914f7-6e3e-418c-a7c7-b0f9195d6204\" xlink:actuate=\"onRequest\" xlink:href=\"psysml:b8b914f7-6e3e-418c-a7c7-b0f9195d6204\" xlink:show=\"new\" xlink:title=\"psysml:b8b914f7-6e3e-418c-a7c7-b0f9195d6204\" xlink:type=\"simple\"><rect fill=\"#FFFFFF\" height=\"45.9375\" id=\"E4\" rx=\"10\" ry=\"10\" style=\"stroke: #383838; stroke-width: 1.5;\" width=\"108\" x=\"267.32\" y=\"316\"/><text fill=\"#000000\" font-family=\"sans-serif\" font-size=\"12\" font-style=\"italic\" lengthAdjust=\"spacingAndGlyphs\" textLength=\"40\" x=\"301.32\" y=\"332.1387\">«part»</text><text fill=\"#000000\" font-family=\"sans-serif\" font-size=\"12\" lengthAdjust=\"spacingAndGlyphs\" textLength=\"102\" x=\"270.32\" y=\"346.1074\">engine2: Engine</text><line style=\"stroke: #383838; stroke-width: 1.5;\" x1=\"268.32\" x2=\"374.32\" y1=\"353.9375\" y2=\"353.9375\"/></a><!--MD5=[270fce915f116d4de14055a7c1d9a0f3]\n",
       "class E5--><a href=\"psysml:d010e11c-db6d-479b-b98e-aa7ac12f08dc\" target=\"_top\" title=\"psysml:d010e11c-db6d-479b-b98e-aa7ac12f08dc\" xlink:actuate=\"onRequest\" xlink:href=\"psysml:d010e11c-db6d-479b-b98e-aa7ac12f08dc\" xlink:show=\"new\" xlink:title=\"psysml:d010e11c-db6d-479b-b98e-aa7ac12f08dc\" xlink:type=\"simple\"><rect fill=\"#FFFFFF\" height=\"45.9375\" id=\"E5\" rx=\"10\" ry=\"10\" style=\"stroke: #383838; stroke-width: 1.5;\" width=\"199\" x=\"239.82\" y=\"41\"/><text fill=\"#000000\" font-family=\"sans-serif\" font-size=\"12\" font-style=\"italic\" lengthAdjust=\"spacingAndGlyphs\" textLength=\"64\" x=\"307.32\" y=\"57.1387\">«analysis»</text><text fill=\"#000000\" font-family=\"sans-serif\" font-size=\"12\" lengthAdjust=\"spacingAndGlyphs\" textLength=\"193\" x=\"242.82\" y=\"71.1074\">engineTradeStudy: TradeStudy</text><line style=\"stroke: #383838; stroke-width: 1.5;\" x1=\"240.82\" x2=\"437.82\" y1=\"78.9375\" y2=\"78.9375\"/></a><!--MD5=[60a26617385b1d2d0262a64233df1f8d]\n",
       "class E6--><a href=\"psysml:baa50d6d-f728-4fdb-a3d8-0324d2e9c263\" target=\"_top\" title=\"psysml:baa50d6d-f728-4fdb-a3d8-0324d2e9c263\" xlink:actuate=\"onRequest\" xlink:href=\"psysml:baa50d6d-f728-4fdb-a3d8-0324d2e9c263\" xlink:show=\"new\" xlink:title=\"psysml:baa50d6d-f728-4fdb-a3d8-0324d2e9c263\" xlink:type=\"simple\"><rect fill=\"#FFFFFF\" height=\"45.9375\" id=\"E6\" rx=\"10\" ry=\"10\" style=\"stroke: #383838; stroke-width: 1.5;\" width=\"251\" x=\"78.82\" y=\"164\"/><text fill=\"#000000\" font-family=\"sans-serif\" font-size=\"12\" font-style=\"italic\" lengthAdjust=\"spacingAndGlyphs\" textLength=\"91\" x=\"158.82\" y=\"180.1387\">«requirement»</text><text fill=\"#000000\" font-family=\"sans-serif\" font-size=\"12\" lengthAdjust=\"spacingAndGlyphs\" textLength=\"245\" x=\"81.82\" y=\"194.1074\">tradeStudyObjective: MaximizeObjective</text><line style=\"stroke: #383838; stroke-width: 1.5;\" x1=\"79.82\" x2=\"328.82\" y1=\"201.9375\" y2=\"201.9375\"/></a><!--MD5=[2156ba9850f5573cc1fc38a6a4b2f02b]\n",
       "class E7--><a href=\"psysml:c3bcbf7c-d2b8-4beb-b9e4-ef0b91eba9be\" target=\"_top\" title=\"psysml:c3bcbf7c-d2b8-4beb-b9e4-ef0b91eba9be\" xlink:actuate=\"onRequest\" xlink:href=\"psysml:c3bcbf7c-d2b8-4beb-b9e4-ef0b91eba9be\" xlink:show=\"new\" xlink:title=\"psysml:c3bcbf7c-d2b8-4beb-b9e4-ef0b91eba9be\" xlink:type=\"simple\"><rect fill=\"#FFFFFF\" height=\"45.9375\" id=\"E7\" rx=\"10\" ry=\"10\" style=\"stroke: #383838; stroke-width: 1.5;\" width=\"116\" x=\"365.32\" y=\"164\"/><text fill=\"#000000\" font-family=\"sans-serif\" font-size=\"12\" font-style=\"italic\" lengthAdjust=\"spacingAndGlyphs\" textLength=\"82\" x=\"382.32\" y=\"180.1387\">«calculation»</text><text fill=\"#000000\" font-family=\"sans-serif\" font-size=\"12\" lengthAdjust=\"spacingAndGlyphs\" textLength=\"110\" x=\"368.32\" y=\"194.1074\">objectiveFunction</text><line style=\"stroke: #383838; stroke-width: 1.5;\" x1=\"366.32\" x2=\"480.32\" y1=\"201.9375\" y2=\"201.9375\"/></a><!--MD5=[b9389687b975829384b498ac4b7476b2]\n",
       "class E8--><a href=\"psysml:c18a795f-fd76-4ffb-a70d-e612388b917b\" target=\"_top\" title=\"psysml:c18a795f-fd76-4ffb-a70d-e612388b917b\" xlink:actuate=\"onRequest\" xlink:href=\"psysml:c18a795f-fd76-4ffb-a70d-e612388b917b\" xlink:show=\"new\" xlink:title=\"psysml:c18a795f-fd76-4ffb-a70d-e612388b917b\" xlink:type=\"simple\"><rect fill=\"#FFFFFF\" height=\"45.9375\" id=\"E8\" rx=\"10\" ry=\"10\" style=\"stroke: #383838; stroke-width: 1.5;\" width=\"124\" x=\"71.32\" y=\"316\"/><text fill=\"#000000\" font-family=\"sans-serif\" font-size=\"12\" font-style=\"italic\" lengthAdjust=\"spacingAndGlyphs\" textLength=\"40\" x=\"113.32\" y=\"332.1387\">«part»</text><text fill=\"#000000\" font-family=\"sans-serif\" font-size=\"12\" lengthAdjust=\"spacingAndGlyphs\" textLength=\"118\" x=\"74.32\" y=\"346.1074\">alternative: Engine</text><line style=\"stroke: #383838; stroke-width: 1.5;\" x1=\"72.32\" x2=\"194.32\" y1=\"353.9375\" y2=\"353.9375\"/></a><!--MD5=[fd4143e9d270a159db93a4ea2a975926]\n",
       "class E9--><a href=\"psysml:854815c3-8ae1-4c3d-a371-f12eec0f41ab\" target=\"_top\" title=\"psysml:854815c3-8ae1-4c3d-a371-f12eec0f41ab\" xlink:actuate=\"onRequest\" xlink:href=\"psysml:854815c3-8ae1-4c3d-a371-f12eec0f41ab\" xlink:show=\"new\" xlink:title=\"psysml:854815c3-8ae1-4c3d-a371-f12eec0f41ab\" xlink:type=\"simple\"><rect fill=\"#FFFFFF\" height=\"45.9375\" id=\"E9\" rx=\"10\" ry=\"10\" style=\"stroke: #383838; stroke-width: 1.5;\" width=\"178\" x=\"291.32\" y=\"240\"/><text fill=\"#000000\" font-family=\"sans-serif\" font-size=\"12\" font-style=\"italic\" lengthAdjust=\"spacingAndGlyphs\" textLength=\"40\" x=\"360.32\" y=\"256.1387\">«part»</text><text fill=\"#000000\" font-family=\"sans-serif\" font-size=\"12\" lengthAdjust=\"spacingAndGlyphs\" textLength=\"172\" x=\"294.32\" y=\"270.1074\">selectedAlternative: Engine</text><line style=\"stroke: #383838; stroke-width: 1.5;\" x1=\"292.32\" x2=\"468.32\" y1=\"277.9375\" y2=\"277.9375\"/></a><!--MD5=[05d275557350bfb9b23a4ef7222b4c39]\n",
       "link E3 to E2--><a href=\"psysml:a477e10c-c644-4ab8-a0d7-73b747f4931b\" target=\"_top\" title=\"psysml:a477e10c-c644-4ab8-a0d7-73b747f4931b\" xlink:actuate=\"onRequest\" xlink:href=\"psysml:a477e10c-c644-4ab8-a0d7-73b747f4931b\" xlink:show=\"new\" xlink:title=\"psysml:a477e10c-c644-4ab8-a0d7-73b747f4931b\" xlink:type=\"simple\"><path d=\"M415.48,362.01 C376.57,379.54 322.27,404.01 282.71,421.84 \" fill=\"none\" id=\"E3-&gt;E2\" style=\"stroke: #383838; stroke-width: 1.0;\"/><polygon fill=\"#FFFFFF\" points=\"264.34,430.12,278.7866,415.9321,284.5383,428.696,264.34,430.12\" style=\"stroke: #383838; stroke-width: 1.0;\"/><ellipse cx=\"284.805\" cy=\"415.4137\" fill=\"#383838\" rx=\"2\" ry=\"2\" style=\"stroke: #383838; stroke-width: 1.0;\"/><ellipse cx=\"288.9134\" cy=\"424.5308\" fill=\"#383838\" rx=\"2\" ry=\"2\" style=\"stroke: #383838; stroke-width: 1.0;\"/></a><!--MD5=[185131fc0dcab0a4505a2ebe144e961b]\n",
       "link E4 to E2--><a href=\"psysml:006a8138-edc7-4443-807d-fbbb291c6f87\" target=\"_top\" title=\"psysml:006a8138-edc7-4443-807d-fbbb291c6f87\" xlink:actuate=\"onRequest\" xlink:href=\"psysml:006a8138-edc7-4443-807d-fbbb291c6f87\" xlink:show=\"new\" xlink:title=\"psysml:006a8138-edc7-4443-807d-fbbb291c6f87\" xlink:type=\"simple\"><path d=\"M302.45,362.01 C291.25,375.08 276.74,392.01 263.74,407.17 \" fill=\"none\" id=\"E4-&gt;E2\" style=\"stroke: #383838; stroke-width: 1.0;\"/><polygon fill=\"#FFFFFF\" points=\"250.47,422.66,257.5188,403.678,268.1491,412.7883,250.47,422.66\" style=\"stroke: #383838; stroke-width: 1.0;\"/><ellipse cx=\"262.7466\" cy=\"400.6515\" fill=\"#383838\" rx=\"2\" ry=\"2\" style=\"stroke: #383838; stroke-width: 1.0;\"/><ellipse cx=\"270.3396\" cy=\"407.1588\" fill=\"#383838\" rx=\"2\" ry=\"2\" style=\"stroke: #383838; stroke-width: 1.0;\"/></a><!--MD5=[15ebcb19ae302d9b601edb458606d402]\n",
       "link E5 to E2--><a href=\"psysml:0f7006cc-acd6-40d1-b198-a80e8f08765e\" target=\"_top\" title=\"psysml:0f7006cc-acd6-40d1-b198-a80e8f08765e\" xlink:actuate=\"onRequest\" xlink:href=\"psysml:0f7006cc-acd6-40d1-b198-a80e8f08765e\" xlink:show=\"new\" xlink:title=\"psysml:0f7006cc-acd6-40d1-b198-a80e8f08765e\" xlink:type=\"simple\"><path d=\"M239.76,73.22 C177.99,83.96 102.74,108.45 61.32,164 C8.68,234.61 6,287.72 53.32,362 C83.95,410.08 150.5,430.76 192.99,439.32 \" fill=\"none\" id=\"E5-&gt;E2\" style=\"stroke: #383838; stroke-width: 1.0; stroke-dasharray: 7.0,7.0;\"/><polygon fill=\"#383838\" points=\"198.04,440.31,189.9738,434.6588,193.1327,439.3514,188.4401,442.5104,198.04,440.31\" style=\"stroke: #383838; stroke-width: 1.0;\"/><text fill=\"#000000\" font-family=\"sans-serif\" font-size=\"13\" lengthAdjust=\"spacingAndGlyphs\" textLength=\"62\" x=\"24.32\" y=\"267.5669\">«subject»</text></a><!--MD5=[9120cf2e5df3bff93db8f754bbbc09b4]\n",
       "link E5 to E6--><a href=\"psysml:33b70aea-82ec-44f7-8a12-3ec54376cb03\" target=\"_top\" title=\"psysml:33b70aea-82ec-44f7-8a12-3ec54376cb03\" xlink:actuate=\"onRequest\" xlink:href=\"psysml:33b70aea-82ec-44f7-8a12-3ec54376cb03\" xlink:show=\"new\" xlink:title=\"psysml:33b70aea-82ec-44f7-8a12-3ec54376cb03\" xlink:type=\"simple\"><path d=\"M314.56,87.19 C292.2,107.23 259.21,136.8 235.15,158.37 \" fill=\"none\" id=\"E5-&gt;E6\" style=\"stroke: #383838; stroke-width: 1.0;\"/><polygon fill=\"#383838\" points=\"228.92,163.95,236.8786,160.8419,232.8725,156.3752,228.92,163.95\" style=\"stroke: #383838; stroke-width: 1.0;\"/><text fill=\"#000000\" font-family=\"sans-serif\" font-size=\"13\" lengthAdjust=\"spacingAndGlyphs\" textLength=\"73\" x=\"280.32\" y=\"130.0669\">«objective»</text></a><!--MD5=[452b418e7f8a40397a49b8c0a78acc5b]\n",
       "reverse link E5 to E7--><a href=\"psysml:9ca3a684-dbe3-4511-9e21-3cef746855e2\" target=\"_top\" title=\"psysml:9ca3a684-dbe3-4511-9e21-3cef746855e2\" xlink:actuate=\"onRequest\" xlink:href=\"psysml:9ca3a684-dbe3-4511-9e21-3cef746855e2\" xlink:show=\"new\" xlink:title=\"psysml:9ca3a684-dbe3-4511-9e21-3cef746855e2\" xlink:type=\"simple\"><path d=\"M362.14,97.88 C376.71,118.86 395.19,145.48 408.01,163.95 \" fill=\"none\" id=\"E5&lt;-E7\" style=\"stroke: #383838; stroke-width: 1.0;\"/><polygon fill=\"#383838\" points=\"354.73,87.19,354.864,94.3999,361.5708,97.0492,361.4368,89.8393,354.73,87.19\" style=\"stroke: #383838; stroke-width: 1.0;\"/></a><!--MD5=[dc164f5e8a733ab456ef1add180e9e34]\n",
       "reverse link E7 to E8--><a href=\"psysml:8f87ba26-7a36-4a80-9ed1-e463a907c7c6\" target=\"_top\" title=\"psysml:8f87ba26-7a36-4a80-9ed1-e463a907c7c6\" xlink:actuate=\"onRequest\" xlink:href=\"psysml:8f87ba26-7a36-4a80-9ed1-e463a907c7c6\" xlink:show=\"new\" xlink:title=\"psysml:8f87ba26-7a36-4a80-9ed1-e463a907c7c6\" xlink:type=\"simple\"><path d=\"M352.67,208.29 C327.33,216.69 298.96,227.44 274.32,240 C231.96,261.6 187.65,294.33 160.26,315.93 \" fill=\"none\" id=\"E7&lt;-E8\" style=\"stroke: #383838; stroke-width: 1.0;\"/><polygon fill=\"#FFFFFF\" points=\"365.22,204.24,358.2818,202.2749,353.7994,207.9236,360.7376,209.8887,365.22,204.24\" style=\"stroke: #383838; stroke-width: 1.0;\"/><text fill=\"#000000\" font-family=\"sans-serif\" font-size=\"13\" lengthAdjust=\"spacingAndGlyphs\" textLength=\"8\" x=\"158.4251\" y=\"304.8075\">1</text></a><!--MD5=[f1f3f9f2fc535e6147756cb86a7f2e32]\n",
       "link E8 to E2--><a href=\"psysml:bdf7178e-b1d2-4aa0-b7b5-71013aa1f7a9\" target=\"_top\" title=\"psysml:bdf7178e-b1d2-4aa0-b7b5-71013aa1f7a9\" xlink:actuate=\"onRequest\" xlink:href=\"psysml:bdf7178e-b1d2-4aa0-b7b5-71013aa1f7a9\" xlink:show=\"new\" xlink:title=\"psysml:bdf7178e-b1d2-4aa0-b7b5-71013aa1f7a9\" xlink:type=\"simple\"><path d=\"M153.86,362.01 C166.19,375.22 182.2,392.38 196.46,407.65 \" fill=\"none\" id=\"E8-&gt;E2\" style=\"stroke: #383838; stroke-width: 1.0;\"/><polygon fill=\"#FFFFFF\" points=\"210.47,422.66,192.3921,413.5393,202.6305,403.9907,210.47,422.66\" style=\"stroke: #383838; stroke-width: 1.0;\"/><ellipse cx=\"189.9671\" cy=\"408.0067\" fill=\"#383838\" rx=\"2\" ry=\"2\" style=\"stroke: #383838; stroke-width: 1.0;\"/><ellipse cx=\"197.2802\" cy=\"401.1863\" fill=\"#383838\" rx=\"2\" ry=\"2\" style=\"stroke: #383838; stroke-width: 1.0;\"/></a><!--MD5=[9ae28de373ca99bb8a1b38d63370ca7e]\n",
       "reverse link E5 to E9--><a href=\"psysml:a1ab5fdf-7d24-4497-9ea2-3c4d95277eba\" target=\"_top\" title=\"psysml:a1ab5fdf-7d24-4497-9ea2-3c4d95277eba\" xlink:actuate=\"onRequest\" xlink:href=\"psysml:a1ab5fdf-7d24-4497-9ea2-3c4d95277eba\" xlink:show=\"new\" xlink:title=\"psysml:a1ab5fdf-7d24-4497-9ea2-3c4d95277eba\" xlink:type=\"simple\"><path d=\"M416.08,92.77 C447.78,108.48 481.27,131.61 499.32,164 C509.27,181.86 510.51,192.89 499.32,210 C490.86,222.92 478.41,232.65 464.71,239.97 \" fill=\"none\" id=\"E5&lt;-E9\" style=\"stroke: #383838; stroke-width: 1.0;\"/><polygon fill=\"#FFFFFF\" points=\"404.06,87.11,407.7814,93.2867,414.9142,92.2272,411.1928,86.0505,404.06,87.11\" style=\"stroke: #383838; stroke-width: 1.0;\"/><text fill=\"#000000\" font-family=\"sans-serif\" font-size=\"13\" lengthAdjust=\"spacingAndGlyphs\" textLength=\"8\" x=\"477.3099\" y=\"229.2386\">1</text></a><!--MD5=[5c3bb36fe832a92c7f0e1807dd65209d]\n",
       "link E9 to E2--><a href=\"psysml:9bedaae2-b2c6-4d70-8011-f34c154ea99f\" target=\"_top\" title=\"psysml:9bedaae2-b2c6-4d70-8011-f34c154ea99f\" xlink:actuate=\"onRequest\" xlink:href=\"psysml:9bedaae2-b2c6-4d70-8011-f34c154ea99f\" xlink:show=\"new\" xlink:title=\"psysml:9bedaae2-b2c6-4d70-8011-f34c154ea99f\" xlink:type=\"simple\"><path d=\"M291.19,285.15 C275.57,292.56 260.94,302.55 250.32,316 C231.17,340.25 227.04,375.32 227.36,402.77 \" fill=\"none\" id=\"E9-&gt;E2\" style=\"stroke: #383838; stroke-width: 1.0;\"/><polygon fill=\"#FFFFFF\" points=\"228.36,422.81,220.4186,404.1838,234.4011,403.4837,228.36,422.81\" style=\"stroke: #383838; stroke-width: 1.0;\"/><ellipse cx=\"222.131\" cy=\"398.3909\" fill=\"#383838\" rx=\"2\" ry=\"2\" style=\"stroke: #383838; stroke-width: 1.0;\"/><ellipse cx=\"232.1185\" cy=\"397.8909\" fill=\"#383838\" rx=\"2\" ry=\"2\" style=\"stroke: #383838; stroke-width: 1.0;\"/></a><!--MD5=[df9d77cbdbf82190cc8ba0a2aabfea3d]\n",
       "@startuml\r\n",
       "top to bottom direction\r\n",
       "skinparam monochrome true\r\n",
       "skinparam classbackgroundcolor white\r\n",
       "skinparam shadowing false\r\n",
       "skinparam wrapWidth 300\r\n",
       "hide circle\r\n",
       "\r\n",
       "package \"TradeStudyTest\" as E1  [[psysml:e59f1b4e-bf48-44e5-8b03-de7ba4c0da2b ]]  {\r\n",
       "comp def \"Engine\" as E2  <<(T,blue) part def>> [[psysml:8032ee8b-b45e-4aab-a334-ddc7f77ca09b ]] {\r\n",
       "}\r\n",
       "comp usage \"engine1: Engine\" as E3  <<(T,blue) part>> [[psysml:d1c59f8e-91b7-4873-9a7c-d548f1a74ff0 ]] {\r\n",
       "}\r\n",
       "comp usage \"engine2: Engine\" as E4  <<(T,blue) part>> [[psysml:b8b914f7-6e3e-418c-a7c7-b0f9195d6204 ]] {\r\n",
       "}\r\n",
       "comp usage \"engineTradeStudy: TradeStudy\" as E5 << analysis>> [[psysml:d010e11c-db6d-479b-b98e-aa7ac12f08dc ]] {\r\n",
       "}\r\n",
       "comp usage \"tradeStudyObjective: MaximizeObjective\" as E6  <<(T,blue) requirement>> [[psysml:baa50d6d-f728-4fdb-a3d8-0324d2e9c263 ]] {\r\n",
       "}\r\n",
       "comp usage \"objectiveFunction\" as E7  <<(T,blue) calculation>> [[psysml:c3bcbf7c-d2b8-4beb-b9e4-ef0b91eba9be ]] {\r\n",
       "}\r\n",
       "comp usage \"alternative: Engine\" as E8  <<(T,blue) part>> [[psysml:c18a795f-fd76-4ffb-a70d-e612388b917b ]] {\r\n",
       "}\r\n",
       "comp usage \"selectedAlternative: Engine\" as E9  <<(T,blue) part>> [[psysml:854815c3-8ae1-4c3d-a371-f12eec0f41ab ]] {\r\n",
       "}\r\n",
       "}\r\n",
       "E3 - -:|> E2 [[psysml:a477e10c-c644-4ab8-a0d7-73b747f4931b ]] \r\n",
       "E4 - -:|> E2 [[psysml:006a8138-edc7-4443-807d-fbbb291c6f87 ]] \r\n",
       "E5 ..> E2 [[psysml:0f7006cc-acd6-40d1-b198-a80e8f08765e ]] : <<subject>>\r\n",
       "E5 - ->> E6 [[psysml:33b70aea-82ec-44f7-8a12-3ec54376cb03 ]] : <<objective>>\r\n",
       "E5 *- - E7 [[psysml:9ca3a684-dbe3-4511-9e21-3cef746855e2 ]] \r\n",
       "E7 o- - \"1\"E8 [[psysml:8f87ba26-7a36-4a80-9ed1-e463a907c7c6 ]] \r\n",
       "E8 - -:|> E2 [[psysml:bdf7178e-b1d2-4aa0-b7b5-71013aa1f7a9 ]] \r\n",
       "E5 o- - \"1\"E9 [[psysml:a1ab5fdf-7d24-4497-9ea2-3c4d95277eba ]] \r\n",
       "E9 - -:|> E2 [[psysml:9bedaae2-b2c6-4d70-8011-f34c154ea99f ]] \r\n",
       "@enduml\r\n",
       "\n",
       "PlantUML version 1.2020.13(Sat Jun 13 12:26:38 UTC 2020)\n",
       "(EPL source distribution)\n",
       "Java Runtime: OpenJDK Runtime Environment\n",
       "JVM: OpenJDK 64-Bit Server VM\n",
       "Default Encoding: UTF-8\n",
       "Language: en\n",
       "Country: null\n",
       "--></g></svg>"
      ]
     },
     "execution_count": 44,
     "metadata": {},
     "output_type": "execute_result"
    }
   ],
   "source": [
    "%viz --style=\"TB\" --view=\"Default\" \"TradeStudyTest\""
   ]
  },
  {
   "cell_type": "code",
   "execution_count": 45,
   "id": "9c35763c",
   "metadata": {
    "execution": {
     "iopub.execute_input": "2021-09-27T07:19:37.491628Z",
     "iopub.status.busy": "2021-09-27T07:19:37.491422Z",
     "iopub.status.idle": "2021-09-27T07:19:37.520776Z",
     "shell.execute_reply": "2021-09-27T07:19:37.520448Z"
    }
   },
   "outputs": [
    {
     "data": {
      "image/svg+xml": [
       "<?xml version=\"1.0\" encoding=\"UTF-8\" standalone=\"no\"?><svg xmlns=\"http://www.w3.org/2000/svg\" xmlns:xlink=\"http://www.w3.org/1999/xlink\" contentScriptType=\"application/ecmascript\" contentStyleType=\"text/css\" height=\"345px\" preserveAspectRatio=\"none\" style=\"width:955px;height:345px;\" version=\"1.1\" viewBox=\"0 0 955 345\" width=\"955px\" zoomAndPan=\"magnify\"><defs/><g><!--MD5=[fbc87193dbaf4d95561dea2c320d4a47]\n",
       "cluster E1--><a href=\"psysml:e59f1b4e-bf48-44e5-8b03-de7ba4c0da2b\" target=\"_top\" title=\"psysml:e59f1b4e-bf48-44e5-8b03-de7ba4c0da2b\" xlink:actuate=\"onRequest\" xlink:href=\"psysml:e59f1b4e-bf48-44e5-8b03-de7ba4c0da2b\" xlink:show=\"new\" xlink:title=\"psysml:e59f1b4e-bf48-44e5-8b03-de7ba4c0da2b\" xlink:type=\"simple\"><polygon fill=\"#FFFFFF\" points=\"16,6,132,6,139,28.2969,933,28.2969,933,333,16,333,16,6\" style=\"stroke: #000000; stroke-width: 1.5;\"/><line style=\"stroke: #000000; stroke-width: 1.5;\" x1=\"16\" x2=\"139\" y1=\"28.2969\" y2=\"28.2969\"/><text fill=\"#000000\" font-family=\"sans-serif\" font-size=\"14\" font-weight=\"bold\" lengthAdjust=\"spacingAndGlyphs\" textLength=\"110\" x=\"20\" y=\"20.9951\">TradeStudyTest</text></a><!--MD5=[b4997ac47864f28c2f74865a473b2911]\n",
       "class E2--><a href=\"psysml:8032ee8b-b45e-4aab-a334-ddc7f77ca09b\" target=\"_top\" title=\"psysml:8032ee8b-b45e-4aab-a334-ddc7f77ca09b\" xlink:actuate=\"onRequest\" xlink:href=\"psysml:8032ee8b-b45e-4aab-a334-ddc7f77ca09b\" xlink:show=\"new\" xlink:title=\"psysml:8032ee8b-b45e-4aab-a334-ddc7f77ca09b\" xlink:type=\"simple\"><rect fill=\"#FFFFFF\" height=\"45.9375\" id=\"E2\" style=\"stroke: #383838; stroke-width: 1.5;\" width=\"66\" x=\"598\" y=\"271\"/><text fill=\"#000000\" font-family=\"sans-serif\" font-size=\"12\" font-style=\"italic\" lengthAdjust=\"spacingAndGlyphs\" textLength=\"64\" x=\"599\" y=\"287.1387\">«part def»</text><text fill=\"#000000\" font-family=\"sans-serif\" font-size=\"12\" lengthAdjust=\"spacingAndGlyphs\" textLength=\"43\" x=\"609.5\" y=\"301.1074\">Engine</text><line style=\"stroke: #383838; stroke-width: 1.5;\" x1=\"599\" x2=\"663\" y1=\"308.9375\" y2=\"308.9375\"/></a><!--MD5=[09b614a08d8cba4a07c9adeb5e0fee81]\n",
       "class E3--><a href=\"psysml:d1c59f8e-91b7-4873-9a7c-d548f1a74ff0\" target=\"_top\" title=\"psysml:d1c59f8e-91b7-4873-9a7c-d548f1a74ff0\" xlink:actuate=\"onRequest\" xlink:href=\"psysml:d1c59f8e-91b7-4873-9a7c-d548f1a74ff0\" xlink:show=\"new\" xlink:title=\"psysml:d1c59f8e-91b7-4873-9a7c-d548f1a74ff0\" xlink:type=\"simple\"><rect fill=\"#FFFFFF\" height=\"45.9375\" id=\"E3\" rx=\"10\" ry=\"10\" style=\"stroke: #383838; stroke-width: 1.5;\" width=\"108\" x=\"809\" y=\"164\"/><text fill=\"#000000\" font-family=\"sans-serif\" font-size=\"12\" font-style=\"italic\" lengthAdjust=\"spacingAndGlyphs\" textLength=\"40\" x=\"843\" y=\"180.1387\">«part»</text><text fill=\"#000000\" font-family=\"sans-serif\" font-size=\"12\" lengthAdjust=\"spacingAndGlyphs\" textLength=\"102\" x=\"812\" y=\"194.1074\">engine1: Engine</text><line style=\"stroke: #383838; stroke-width: 1.5;\" x1=\"810\" x2=\"916\" y1=\"201.9375\" y2=\"201.9375\"/></a><!--MD5=[ebbe1d658d1005bcc118a6aa81145e00]\n",
       "class E4--><a href=\"psysml:b8b914f7-6e3e-418c-a7c7-b0f9195d6204\" target=\"_top\" title=\"psysml:b8b914f7-6e3e-418c-a7c7-b0f9195d6204\" xlink:actuate=\"onRequest\" xlink:href=\"psysml:b8b914f7-6e3e-418c-a7c7-b0f9195d6204\" xlink:show=\"new\" xlink:title=\"psysml:b8b914f7-6e3e-418c-a7c7-b0f9195d6204\" xlink:type=\"simple\"><rect fill=\"#FFFFFF\" height=\"45.9375\" id=\"E4\" rx=\"10\" ry=\"10\" style=\"stroke: #383838; stroke-width: 1.5;\" width=\"108\" x=\"666\" y=\"164\"/><text fill=\"#000000\" font-family=\"sans-serif\" font-size=\"12\" font-style=\"italic\" lengthAdjust=\"spacingAndGlyphs\" textLength=\"40\" x=\"700\" y=\"180.1387\">«part»</text><text fill=\"#000000\" font-family=\"sans-serif\" font-size=\"12\" lengthAdjust=\"spacingAndGlyphs\" textLength=\"102\" x=\"669\" y=\"194.1074\">engine2: Engine</text><line style=\"stroke: #383838; stroke-width: 1.5;\" x1=\"667\" x2=\"773\" y1=\"201.9375\" y2=\"201.9375\"/></a><!--MD5=[270fce915f116d4de14055a7c1d9a0f3]\n",
       "class E5--><a href=\"psysml:d010e11c-db6d-479b-b98e-aa7ac12f08dc\" target=\"_top\" title=\"psysml:d010e11c-db6d-479b-b98e-aa7ac12f08dc\" xlink:actuate=\"onRequest\" xlink:href=\"psysml:d010e11c-db6d-479b-b98e-aa7ac12f08dc\" xlink:show=\"new\" xlink:title=\"psysml:d010e11c-db6d-479b-b98e-aa7ac12f08dc\" xlink:type=\"simple\"><rect fill=\"#FFFFFF\" height=\"45.9375\" id=\"E5\" rx=\"10\" ry=\"10\" style=\"stroke: #383838; stroke-width: 1.5;\" width=\"199\" x=\"192.5\" y=\"41\"/><text fill=\"#000000\" font-family=\"sans-serif\" font-size=\"12\" font-style=\"italic\" lengthAdjust=\"spacingAndGlyphs\" textLength=\"64\" x=\"260\" y=\"57.1387\">«analysis»</text><text fill=\"#000000\" font-family=\"sans-serif\" font-size=\"12\" lengthAdjust=\"spacingAndGlyphs\" textLength=\"193\" x=\"195.5\" y=\"71.1074\">engineTradeStudy: TradeStudy</text><line style=\"stroke: #383838; stroke-width: 1.5;\" x1=\"193.5\" x2=\"390.5\" y1=\"78.9375\" y2=\"78.9375\"/></a><!--MD5=[60a26617385b1d2d0262a64233df1f8d]\n",
       "class E6--><a href=\"psysml:baa50d6d-f728-4fdb-a3d8-0324d2e9c263\" target=\"_top\" title=\"psysml:baa50d6d-f728-4fdb-a3d8-0324d2e9c263\" xlink:actuate=\"onRequest\" xlink:href=\"psysml:baa50d6d-f728-4fdb-a3d8-0324d2e9c263\" xlink:show=\"new\" xlink:title=\"psysml:baa50d6d-f728-4fdb-a3d8-0324d2e9c263\" xlink:type=\"simple\"><rect fill=\"#FFFFFF\" height=\"45.9375\" id=\"E6\" rx=\"10\" ry=\"10\" style=\"stroke: #383838; stroke-width: 1.5;\" width=\"251\" x=\"166.5\" y=\"164\"/><text fill=\"#000000\" font-family=\"sans-serif\" font-size=\"12\" font-style=\"italic\" lengthAdjust=\"spacingAndGlyphs\" textLength=\"91\" x=\"246.5\" y=\"180.1387\">«requirement»</text><text fill=\"#000000\" font-family=\"sans-serif\" font-size=\"12\" lengthAdjust=\"spacingAndGlyphs\" textLength=\"245\" x=\"169.5\" y=\"194.1074\">tradeStudyObjective: MaximizeObjective</text><line style=\"stroke: #383838; stroke-width: 1.5;\" x1=\"167.5\" x2=\"416.5\" y1=\"201.9375\" y2=\"201.9375\"/></a><!--MD5=[2156ba9850f5573cc1fc38a6a4b2f02b]\n",
       "class E7--><a href=\"psysml:854815c3-8ae1-4c3d-a371-f12eec0f41ab\" target=\"_top\" title=\"psysml:854815c3-8ae1-4c3d-a371-f12eec0f41ab\" xlink:actuate=\"onRequest\" xlink:href=\"psysml:854815c3-8ae1-4c3d-a371-f12eec0f41ab\" xlink:show=\"new\" xlink:title=\"psysml:854815c3-8ae1-4c3d-a371-f12eec0f41ab\" xlink:type=\"simple\"><rect fill=\"#FFFFFF\" height=\"45.9375\" id=\"E7\" rx=\"10\" ry=\"10\" style=\"stroke: #383838; stroke-width: 1.5;\" width=\"178\" x=\"453\" y=\"164\"/><text fill=\"#000000\" font-family=\"sans-serif\" font-size=\"12\" font-style=\"italic\" lengthAdjust=\"spacingAndGlyphs\" textLength=\"40\" x=\"522\" y=\"180.1387\">«part»</text><text fill=\"#000000\" font-family=\"sans-serif\" font-size=\"12\" lengthAdjust=\"spacingAndGlyphs\" textLength=\"172\" x=\"456\" y=\"194.1074\">selectedAlternative: Engine</text><line style=\"stroke: #383838; stroke-width: 1.5;\" x1=\"454\" x2=\"630\" y1=\"201.9375\" y2=\"201.9375\"/></a><!--MD5=[05d275557350bfb9b23a4ef7222b4c39]\n",
       "link E3 to E2--><a href=\"psysml:a477e10c-c644-4ab8-a0d7-73b747f4931b\" target=\"_top\" title=\"psysml:a477e10c-c644-4ab8-a0d7-73b747f4931b\" xlink:actuate=\"onRequest\" xlink:href=\"psysml:a477e10c-c644-4ab8-a0d7-73b747f4931b\" xlink:show=\"new\" xlink:title=\"psysml:a477e10c-c644-4ab8-a0d7-73b747f4931b\" xlink:type=\"simple\"><path d=\"M814.37,210.01 C775.74,227.49 721.88,251.87 682.52,269.68 \" fill=\"none\" id=\"E3-&gt;E2\" style=\"stroke: #383838; stroke-width: 1.0;\"/><polygon fill=\"#FFFFFF\" points=\"664.23,277.96,678.6446,263.7397,684.4251,276.4906,664.23,277.96\" style=\"stroke: #383838; stroke-width: 1.0;\"/><ellipse cx=\"684.6619\" cy=\"263.2078\" fill=\"#383838\" rx=\"2\" ry=\"2\" style=\"stroke: #383838; stroke-width: 1.0;\"/><ellipse cx=\"688.7908\" cy=\"272.3156\" fill=\"#383838\" rx=\"2\" ry=\"2\" style=\"stroke: #383838; stroke-width: 1.0;\"/></a><!--MD5=[185131fc0dcab0a4505a2ebe144e961b]\n",
       "link E4 to E2--><a href=\"psysml:006a8138-edc7-4443-807d-fbbb291c6f87\" target=\"_top\" title=\"psysml:006a8138-edc7-4443-807d-fbbb291c6f87\" xlink:actuate=\"onRequest\" xlink:href=\"psysml:006a8138-edc7-4443-807d-fbbb291c6f87\" xlink:show=\"new\" xlink:title=\"psysml:006a8138-edc7-4443-807d-fbbb291c6f87\" xlink:type=\"simple\"><path d=\"M701.34,210.01 C690.26,223.08 675.91,240.01 663.06,255.17 \" fill=\"none\" id=\"E4-&gt;E2\" style=\"stroke: #383838; stroke-width: 1.0;\"/><polygon fill=\"#FFFFFF\" points=\"649.94,270.66,656.8931,251.6428,667.5691,260.6994,649.94,270.66\" style=\"stroke: #383838; stroke-width: 1.0;\"/><ellipse cx=\"662.1056\" cy=\"248.5899\" fill=\"#383838\" rx=\"2\" ry=\"2\" style=\"stroke: #383838; stroke-width: 1.0;\"/><ellipse cx=\"669.7313\" cy=\"255.059\" fill=\"#383838\" rx=\"2\" ry=\"2\" style=\"stroke: #383838; stroke-width: 1.0;\"/></a><!--MD5=[15ebcb19ae302d9b601edb458606d402]\n",
       "link E5 to E2--><a href=\"psysml:0f7006cc-acd6-40d1-b198-a80e8f08765e\" target=\"_top\" title=\"psysml:0f7006cc-acd6-40d1-b198-a80e8f08765e\" xlink:actuate=\"onRequest\" xlink:href=\"psysml:0f7006cc-acd6-40d1-b198-a80e8f08765e\" xlink:show=\"new\" xlink:title=\"psysml:0f7006cc-acd6-40d1-b198-a80e8f08765e\" xlink:type=\"simple\"><path d=\"M211.44,87.03 C135.05,111.81 38.38,155.76 85,210 C150.98,286.77 479.56,293.36 592.67,293.32 \" fill=\"none\" id=\"E5-&gt;E2\" style=\"stroke: #383838; stroke-width: 1.0; stroke-dasharray: 7.0,7.0;\"/><polygon fill=\"#383838\" points=\"597.89,293.31,588.89,289.31,592.89,293.31,588.89,297.31,597.89,293.31\" style=\"stroke: #383838; stroke-width: 1.0;\"/><text fill=\"#000000\" font-family=\"sans-serif\" font-size=\"13\" lengthAdjust=\"spacingAndGlyphs\" textLength=\"62\" x=\"86\" y=\"191.5669\">«subject»</text></a><!--MD5=[9120cf2e5df3bff93db8f754bbbc09b4]\n",
       "link E5 to E6--><a href=\"psysml:33b70aea-82ec-44f7-8a12-3ec54376cb03\" target=\"_top\" title=\"psysml:33b70aea-82ec-44f7-8a12-3ec54376cb03\" xlink:actuate=\"onRequest\" xlink:href=\"psysml:33b70aea-82ec-44f7-8a12-3ec54376cb03\" xlink:show=\"new\" xlink:title=\"psysml:33b70aea-82ec-44f7-8a12-3ec54376cb03\" xlink:type=\"simple\"><path d=\"M292,87.19 C292,106.47 292,134.55 292,155.86 \" fill=\"none\" id=\"E5-&gt;E6\" style=\"stroke: #383838; stroke-width: 1.0;\"/><polygon fill=\"#383838\" points=\"292,163.95,295,155.95,289,155.95,292,163.95\" style=\"stroke: #383838; stroke-width: 1.0;\"/><text fill=\"#000000\" font-family=\"sans-serif\" font-size=\"13\" lengthAdjust=\"spacingAndGlyphs\" textLength=\"73\" x=\"293\" y=\"130.0669\">«objective»</text></a><!--MD5=[452b418e7f8a40397a49b8c0a78acc5b]\n",
       "reverse link E5 to E7--><a href=\"psysml:a1ab5fdf-7d24-4497-9ea2-3c4d95277eba\" target=\"_top\" title=\"psysml:a1ab5fdf-7d24-4497-9ea2-3c4d95277eba\" xlink:actuate=\"onRequest\" xlink:href=\"psysml:a1ab5fdf-7d24-4497-9ea2-3c4d95277eba\" xlink:show=\"new\" xlink:title=\"psysml:a1ab5fdf-7d24-4497-9ea2-3c4d95277eba\" xlink:type=\"simple\"><path d=\"M349.39,92.78 C393.99,114.36 455.01,143.9 496.33,163.89 \" fill=\"none\" id=\"E5&lt;-E7\" style=\"stroke: #383838; stroke-width: 1.0;\"/><polygon fill=\"#FFFFFF\" points=\"337.56,87.05,341.2143,93.2666,348.3582,92.2843,344.7039,86.0677,337.56,87.05\" style=\"stroke: #383838; stroke-width: 1.0;\"/><text fill=\"#000000\" font-family=\"sans-serif\" font-size=\"13\" lengthAdjust=\"spacingAndGlyphs\" textLength=\"8\" x=\"474.9812\" y=\"152.7567\">1</text></a><!--MD5=[583832df87f4419a098336a29a52fa00]\n",
       "link E7 to E2--><a href=\"psysml:9bedaae2-b2c6-4d70-8011-f34c154ea99f\" target=\"_top\" title=\"psysml:9bedaae2-b2c6-4d70-8011-f34c154ea99f\" xlink:actuate=\"onRequest\" xlink:href=\"psysml:9bedaae2-b2c6-4d70-8011-f34c154ea99f\" xlink:show=\"new\" xlink:title=\"psysml:9bedaae2-b2c6-4d70-8011-f34c154ea99f\" xlink:type=\"simple\"><path d=\"M560.66,210.01 C571.74,223.08 586.09,240.01 598.94,255.17 \" fill=\"none\" id=\"E7-&gt;E2\" style=\"stroke: #383838; stroke-width: 1.0;\"/><polygon fill=\"#FFFFFF\" points=\"612.06,270.66,594.4309,260.6994,605.1069,251.6428,612.06,270.66\" style=\"stroke: #383838; stroke-width: 1.0;\"/><ellipse cx=\"592.2687\" cy=\"255.059\" fill=\"#383838\" rx=\"2\" ry=\"2\" style=\"stroke: #383838; stroke-width: 1.0;\"/><ellipse cx=\"599.8944\" cy=\"248.5899\" fill=\"#383838\" rx=\"2\" ry=\"2\" style=\"stroke: #383838; stroke-width: 1.0;\"/></a><!--MD5=[6a434648ec531f3abf37bda048ce51a0]\n",
       "@startuml\r\n",
       "top to bottom direction\r\n",
       "skinparam monochrome true\r\n",
       "skinparam classbackgroundcolor white\r\n",
       "skinparam shadowing false\r\n",
       "skinparam wrapWidth 300\r\n",
       "hide circle\r\n",
       "\r\n",
       "package \"TradeStudyTest\" as E1  [[psysml:e59f1b4e-bf48-44e5-8b03-de7ba4c0da2b ]]  {\r\n",
       "comp def \"Engine\" as E2  <<(T,blue) part def>> [[psysml:8032ee8b-b45e-4aab-a334-ddc7f77ca09b ]] {\r\n",
       "}\r\n",
       "comp usage \"engine1: Engine\" as E3  <<(T,blue) part>> [[psysml:d1c59f8e-91b7-4873-9a7c-d548f1a74ff0 ]] {\r\n",
       "}\r\n",
       "comp usage \"engine2: Engine\" as E4  <<(T,blue) part>> [[psysml:b8b914f7-6e3e-418c-a7c7-b0f9195d6204 ]] {\r\n",
       "}\r\n",
       "comp usage \"engineTradeStudy: TradeStudy\" as E5 << analysis>> [[psysml:d010e11c-db6d-479b-b98e-aa7ac12f08dc ]] {\r\n",
       "}\r\n",
       "comp usage \"tradeStudyObjective: MaximizeObjective\" as E6  <<(T,blue) requirement>> [[psysml:baa50d6d-f728-4fdb-a3d8-0324d2e9c263 ]] {\r\n",
       "}\r\n",
       "comp usage \"selectedAlternative: Engine\" as E7  <<(T,blue) part>> [[psysml:854815c3-8ae1-4c3d-a371-f12eec0f41ab ]] {\r\n",
       "}\r\n",
       "}\r\n",
       "E3 - -:|> E2 [[psysml:a477e10c-c644-4ab8-a0d7-73b747f4931b ]] \r\n",
       "E4 - -:|> E2 [[psysml:006a8138-edc7-4443-807d-fbbb291c6f87 ]] \r\n",
       "E5 ..> E2 [[psysml:0f7006cc-acd6-40d1-b198-a80e8f08765e ]] : <<subject>>\r\n",
       "E5 - ->> E6 [[psysml:33b70aea-82ec-44f7-8a12-3ec54376cb03 ]] : <<objective>>\r\n",
       "E5 o- - \"1\"E7 [[psysml:a1ab5fdf-7d24-4497-9ea2-3c4d95277eba ]] \r\n",
       "E7 - -:|> E2 [[psysml:9bedaae2-b2c6-4d70-8011-f34c154ea99f ]] \r\n",
       "@enduml\r\n",
       "\n",
       "PlantUML version 1.2020.13(Sat Jun 13 12:26:38 UTC 2020)\n",
       "(EPL source distribution)\n",
       "Java Runtime: OpenJDK Runtime Environment\n",
       "JVM: OpenJDK 64-Bit Server VM\n",
       "Default Encoding: UTF-8\n",
       "Language: en\n",
       "Country: null\n",
       "--></g></svg>"
      ]
     },
     "execution_count": 45,
     "metadata": {},
     "output_type": "execute_result"
    }
   ],
   "source": [
    "%viz --style=\"TB\" --view=\"Tree\" \"TradeStudyTest\""
   ]
  },
  {
   "cell_type": "code",
   "execution_count": 46,
   "id": "3027b51d",
   "metadata": {
    "execution": {
     "iopub.execute_input": "2021-09-27T07:19:37.570065Z",
     "iopub.status.busy": "2021-09-27T07:19:37.569858Z",
     "iopub.status.idle": "2021-09-27T07:19:37.573540Z",
     "shell.execute_reply": "2021-09-27T07:19:37.573697Z"
    }
   },
   "outputs": [
    {
     "data": {
      "image/svg+xml": [
       "<?xml version=\"1.0\" encoding=\"UTF-8\" standalone=\"no\"?><svg xmlns=\"http://www.w3.org/2000/svg\" xmlns:xlink=\"http://www.w3.org/1999/xlink\" contentScriptType=\"application/ecmascript\" contentStyleType=\"text/css\" height=\"12px\" preserveAspectRatio=\"none\" style=\"width:12px;height:12px;\" version=\"1.1\" viewBox=\"0 0 12 12\" width=\"12px\" zoomAndPan=\"magnify\"><defs/><g><!--MD5=[f4ee21bc66e489b5061b7c3e9601fdef]\n",
       "@startuml\r\n",
       "top to bottom direction\r\n",
       "skinparam monochrome true\r\n",
       "skinparam classbackgroundcolor white\r\n",
       "skinparam shadowing false\r\n",
       "skinparam wrapWidth 300\r\n",
       "hide circle\r\n",
       "\r\n",
       "@enduml\r\n",
       "\n",
       "PlantUML version 1.2020.13(Sat Jun 13 12:26:38 UTC 2020)\n",
       "(EPL source distribution)\n",
       "Java Runtime: OpenJDK Runtime Environment\n",
       "JVM: OpenJDK 64-Bit Server VM\n",
       "Default Encoding: UTF-8\n",
       "Language: en\n",
       "Country: null\n",
       "--></g></svg>"
      ]
     },
     "execution_count": 46,
     "metadata": {},
     "output_type": "execute_result"
    }
   ],
   "source": [
    "%viz --style=\"TB\" --view=\"State\" \"TradeStudyTest\""
   ]
  },
  {
   "cell_type": "code",
   "execution_count": 47,
   "id": "78972872",
   "metadata": {
    "execution": {
     "iopub.execute_input": "2021-09-27T07:19:37.624116Z",
     "iopub.status.busy": "2021-09-27T07:19:37.623914Z",
     "iopub.status.idle": "2021-09-27T07:19:37.658096Z",
     "shell.execute_reply": "2021-09-27T07:19:37.657436Z"
    }
   },
   "outputs": [
    {
     "data": {
      "image/svg+xml": [
       "<?xml version=\"1.0\" encoding=\"UTF-8\" standalone=\"no\"?><svg xmlns=\"http://www.w3.org/2000/svg\" xmlns:xlink=\"http://www.w3.org/1999/xlink\" contentScriptType=\"application/ecmascript\" contentStyleType=\"text/css\" height=\"334px\" preserveAspectRatio=\"none\" style=\"width:566px;height:334px;\" version=\"1.1\" viewBox=\"0 0 566 334\" width=\"566px\" zoomAndPan=\"magnify\"><defs/><g><!--MD5=[fbc87193dbaf4d95561dea2c320d4a47]\n",
       "cluster E1--><a href=\"psysml:e59f1b4e-bf48-44e5-8b03-de7ba4c0da2b\" target=\"_top\" title=\"psysml:e59f1b4e-bf48-44e5-8b03-de7ba4c0da2b\" xlink:actuate=\"onRequest\" xlink:href=\"psysml:e59f1b4e-bf48-44e5-8b03-de7ba4c0da2b\" xlink:show=\"new\" xlink:title=\"psysml:e59f1b4e-bf48-44e5-8b03-de7ba4c0da2b\" xlink:type=\"simple\"><polygon fill=\"#FFFFFF\" points=\"16,6,132,6,139,28.2969,544,28.2969,544,322,16,322,16,6\" style=\"stroke: #000000; stroke-width: 1.5;\"/><line style=\"stroke: #000000; stroke-width: 1.5;\" x1=\"16\" x2=\"139\" y1=\"28.2969\" y2=\"28.2969\"/><text fill=\"#000000\" font-family=\"sans-serif\" font-size=\"14\" font-weight=\"bold\" lengthAdjust=\"spacingAndGlyphs\" textLength=\"110\" x=\"20\" y=\"20.9951\">TradeStudyTest</text></a><!--MD5=[270fce915f116d4de14055a7c1d9a0f3]\n",
       "class E5--><a href=\"psysml:d010e11c-db6d-479b-b98e-aa7ac12f08dc\" target=\"_top\" title=\"psysml:d010e11c-db6d-479b-b98e-aa7ac12f08dc\" xlink:actuate=\"onRequest\" xlink:href=\"psysml:d010e11c-db6d-479b-b98e-aa7ac12f08dc\" xlink:show=\"new\" xlink:title=\"psysml:d010e11c-db6d-479b-b98e-aa7ac12f08dc\" xlink:type=\"simple\"><rect fill=\"#FFFFFF\" height=\"45.9375\" id=\"E5\" rx=\"10\" ry=\"10\" style=\"stroke: #383838; stroke-width: 1.5;\" width=\"199\" x=\"328.5\" y=\"41\"/><text fill=\"#000000\" font-family=\"sans-serif\" font-size=\"12\" font-style=\"italic\" lengthAdjust=\"spacingAndGlyphs\" textLength=\"64\" x=\"396\" y=\"57.1387\">«analysis»</text><text fill=\"#000000\" font-family=\"sans-serif\" font-size=\"12\" lengthAdjust=\"spacingAndGlyphs\" textLength=\"193\" x=\"331.5\" y=\"71.1074\">engineTradeStudy: TradeStudy</text><line style=\"stroke: #383838; stroke-width: 1.5;\" x1=\"329.5\" x2=\"526.5\" y1=\"78.9375\" y2=\"78.9375\"/></a><!--MD5=[60a26617385b1d2d0262a64233df1f8d]\n",
       "class E6--><a href=\"psysml:baa50d6d-f728-4fdb-a3d8-0324d2e9c263\" target=\"_top\" title=\"psysml:baa50d6d-f728-4fdb-a3d8-0324d2e9c263\" xlink:actuate=\"onRequest\" xlink:href=\"psysml:baa50d6d-f728-4fdb-a3d8-0324d2e9c263\" xlink:show=\"new\" xlink:title=\"psysml:baa50d6d-f728-4fdb-a3d8-0324d2e9c263\" xlink:type=\"simple\"><rect fill=\"#FFFFFF\" height=\"45.9375\" id=\"E6\" rx=\"10\" ry=\"10\" style=\"stroke: #383838; stroke-width: 1.5;\" width=\"251\" x=\"32.5\" y=\"120\"/><text fill=\"#000000\" font-family=\"sans-serif\" font-size=\"12\" font-style=\"italic\" lengthAdjust=\"spacingAndGlyphs\" textLength=\"91\" x=\"112.5\" y=\"136.1387\">«requirement»</text><text fill=\"#000000\" font-family=\"sans-serif\" font-size=\"12\" lengthAdjust=\"spacingAndGlyphs\" textLength=\"245\" x=\"35.5\" y=\"150.1074\">tradeStudyObjective: MaximizeObjective</text><line style=\"stroke: #383838; stroke-width: 1.5;\" x1=\"33.5\" x2=\"282.5\" y1=\"157.9375\" y2=\"157.9375\"/></a><!--MD5=[2156ba9850f5573cc1fc38a6a4b2f02b]\n",
       "class E7--><a href=\"psysml:c3bcbf7c-d2b8-4beb-b9e4-ef0b91eba9be\" target=\"_top\" title=\"psysml:c3bcbf7c-d2b8-4beb-b9e4-ef0b91eba9be\" xlink:actuate=\"onRequest\" xlink:href=\"psysml:c3bcbf7c-d2b8-4beb-b9e4-ef0b91eba9be\" xlink:show=\"new\" xlink:title=\"psysml:c3bcbf7c-d2b8-4beb-b9e4-ef0b91eba9be\" xlink:type=\"simple\"><rect fill=\"#FFFFFF\" height=\"45.9375\" id=\"E7\" rx=\"10\" ry=\"10\" style=\"stroke: #383838; stroke-width: 1.5;\" width=\"116\" x=\"319\" y=\"120\"/><text fill=\"#000000\" font-family=\"sans-serif\" font-size=\"12\" font-style=\"italic\" lengthAdjust=\"spacingAndGlyphs\" textLength=\"82\" x=\"336\" y=\"136.1387\">«calculation»</text><text fill=\"#000000\" font-family=\"sans-serif\" font-size=\"12\" lengthAdjust=\"spacingAndGlyphs\" textLength=\"110\" x=\"322\" y=\"150.1074\">objectiveFunction</text><line style=\"stroke: #383838; stroke-width: 1.5;\" x1=\"320\" x2=\"434\" y1=\"157.9375\" y2=\"157.9375\"/></a><!--MD5=[b9389687b975829384b498ac4b7476b2]\n",
       "class E8--><a href=\"psysml:c18a795f-fd76-4ffb-a70d-e612388b917b\" target=\"_top\" title=\"psysml:c18a795f-fd76-4ffb-a70d-e612388b917b\" xlink:actuate=\"onRequest\" xlink:href=\"psysml:c18a795f-fd76-4ffb-a70d-e612388b917b\" xlink:show=\"new\" xlink:title=\"psysml:c18a795f-fd76-4ffb-a70d-e612388b917b\" xlink:type=\"simple\"><rect fill=\"#FFFFFF\" height=\"31.9688\" id=\"E8\" rx=\"10\" ry=\"10\" style=\"stroke: #383838; stroke-width: 1.5;\" width=\"124\" x=\"178\" y=\"214\"/><text fill=\"#000000\" font-family=\"sans-serif\" font-size=\"12\" lengthAdjust=\"spacingAndGlyphs\" textLength=\"118\" x=\"181\" y=\"230.1387\">alternative: Engine</text><line style=\"stroke: #383838; stroke-width: 1.5;\" x1=\"179\" x2=\"301\" y1=\"237.9688\" y2=\"237.9688\"/></a><!--MD5=[fd4143e9d270a159db93a4ea2a975926]\n",
       "class E9--><a href=\"psysml:854815c3-8ae1-4c3d-a371-f12eec0f41ab\" target=\"_top\" title=\"psysml:854815c3-8ae1-4c3d-a371-f12eec0f41ab\" xlink:actuate=\"onRequest\" xlink:href=\"psysml:854815c3-8ae1-4c3d-a371-f12eec0f41ab\" xlink:show=\"new\" xlink:title=\"psysml:854815c3-8ae1-4c3d-a371-f12eec0f41ab\" xlink:type=\"simple\"><rect fill=\"#FFFFFF\" height=\"31.9688\" id=\"E9\" rx=\"10\" ry=\"10\" style=\"stroke: #383838; stroke-width: 1.5;\" width=\"178\" x=\"246\" y=\"174\"/><text fill=\"#000000\" font-family=\"sans-serif\" font-size=\"12\" lengthAdjust=\"spacingAndGlyphs\" textLength=\"172\" x=\"249\" y=\"190.1387\">selectedAlternative: Engine</text><line style=\"stroke: #383838; stroke-width: 1.5;\" x1=\"247\" x2=\"423\" y1=\"197.9688\" y2=\"197.9688\"/></a><g id=\"E1.E2\"><a href=\"psysml:8032ee8b-b45e-4aab-a334-ddc7f77ca09b\" target=\"_top\" title=\"psysml:8032ee8b-b45e-4aab-a334-ddc7f77ca09b\" xlink:actuate=\"onRequest\" xlink:href=\"psysml:8032ee8b-b45e-4aab-a334-ddc7f77ca09b\" xlink:show=\"new\" xlink:title=\"psysml:8032ee8b-b45e-4aab-a334-ddc7f77ca09b\" xlink:type=\"simple\"><rect fill=\"#FFFFFF\" height=\"42.9375\" id=\"E2\" style=\"stroke: #383838; stroke-width: 1.5;\" width=\"71\" x=\"302.5\" y=\"263\"/><rect fill=\"#F8F8F8\" height=\"37.9375\" style=\"stroke: #383838; stroke-width: 1.5;\" width=\"71\" x=\"302.5\" y=\"263\"/><text fill=\"#000000\" font-family=\"sans-serif\" font-size=\"12\" font-style=\"italic\" lengthAdjust=\"spacingAndGlyphs\" textLength=\"64\" x=\"306\" y=\"279.1387\">«part def»</text><text fill=\"#000000\" font-family=\"sans-serif\" font-size=\"12\" lengthAdjust=\"spacingAndGlyphs\" textLength=\"43\" x=\"316.5\" y=\"293.1074\">Engine</text></a></g><g id=\"E1.E3\"><a href=\"psysml:d1c59f8e-91b7-4873-9a7c-d548f1a74ff0\" target=\"_top\" title=\"psysml:d1c59f8e-91b7-4873-9a7c-d548f1a74ff0\" xlink:actuate=\"onRequest\" xlink:href=\"psysml:d1c59f8e-91b7-4873-9a7c-d548f1a74ff0\" xlink:show=\"new\" xlink:title=\"psysml:d1c59f8e-91b7-4873-9a7c-d548f1a74ff0\" xlink:type=\"simple\"><rect fill=\"#FFFFFF\" height=\"40\" id=\"E3\" rx=\"10\" ry=\"10\" style=\"stroke: #383838; stroke-width: 1.5;\" width=\"113\" x=\"180.5\" y=\"44\"/><rect fill=\"#F8F8F8\" height=\"23.9688\" rx=\"10\" ry=\"10\" style=\"stroke: #F8F8F8; stroke-width: 1.5;\" width=\"113\" x=\"180.5\" y=\"44\"/><rect fill=\"#F8F8F8\" height=\"10\" style=\"stroke: #F8F8F8; stroke-width: 1.5;\" width=\"113\" x=\"180.5\" y=\"57.9688\"/><rect fill=\"none\" height=\"40\" id=\"E3\" rx=\"10\" ry=\"10\" style=\"stroke: #383838; stroke-width: 1.5;\" width=\"113\" x=\"180.5\" y=\"44\"/><text fill=\"#000000\" font-family=\"sans-serif\" font-size=\"12\" lengthAdjust=\"spacingAndGlyphs\" textLength=\"102\" x=\"186\" y=\"60.1387\">engine1: Engine</text></a></g><g id=\"E1.E4\"><a href=\"psysml:b8b914f7-6e3e-418c-a7c7-b0f9195d6204\" target=\"_top\" title=\"psysml:b8b914f7-6e3e-418c-a7c7-b0f9195d6204\" xlink:actuate=\"onRequest\" xlink:href=\"psysml:b8b914f7-6e3e-418c-a7c7-b0f9195d6204\" xlink:show=\"new\" xlink:title=\"psysml:b8b914f7-6e3e-418c-a7c7-b0f9195d6204\" xlink:type=\"simple\"><rect fill=\"#FFFFFF\" height=\"40\" id=\"E4\" rx=\"10\" ry=\"10\" style=\"stroke: #383838; stroke-width: 1.5;\" width=\"113\" x=\"32.5\" y=\"44\"/><rect fill=\"#F8F8F8\" height=\"23.9688\" rx=\"10\" ry=\"10\" style=\"stroke: #F8F8F8; stroke-width: 1.5;\" width=\"113\" x=\"32.5\" y=\"44\"/><rect fill=\"#F8F8F8\" height=\"10\" style=\"stroke: #F8F8F8; stroke-width: 1.5;\" width=\"113\" x=\"32.5\" y=\"57.9688\"/><rect fill=\"none\" height=\"40\" id=\"E4\" rx=\"10\" ry=\"10\" style=\"stroke: #383838; stroke-width: 1.5;\" width=\"113\" x=\"32.5\" y=\"44\"/><text fill=\"#000000\" font-family=\"sans-serif\" font-size=\"12\" lengthAdjust=\"spacingAndGlyphs\" textLength=\"102\" x=\"38\" y=\"60.1387\">engine2: Engine</text></a></g><!--MD5=[15ebcb19ae302d9b601edb458606d402]\n",
       "link E5 to E2--><a href=\"psysml:0f7006cc-acd6-40d1-b198-a80e8f08765e\" target=\"_top\" title=\"psysml:0f7006cc-acd6-40d1-b198-a80e8f08765e\" xlink:actuate=\"onRequest\" xlink:href=\"psysml:0f7006cc-acd6-40d1-b198-a80e8f08765e\" xlink:show=\"new\" xlink:title=\"psysml:0f7006cc-acd6-40d1-b198-a80e8f08765e\" xlink:type=\"simple\"><path d=\"M454.33,87.05 C456.45,89.57 458.39,92.23 460,95 C475.92,122.38 478.3,136.82 466,166 C448.69,207.07 408.73,239.87 378.03,260.26 \" fill=\"none\" id=\"E5-&gt;E2\" style=\"stroke: #383838; stroke-width: 1.0; stroke-dasharray: 7.0,7.0;\"/><polygon fill=\"#383838\" points=\"373.57,263.18,383.2939,261.6161,377.7586,260.4495,378.9251,254.9143,373.57,263.18\" style=\"stroke: #383838; stroke-width: 1.0;\"/><text fill=\"#000000\" font-family=\"sans-serif\" font-size=\"13\" lengthAdjust=\"spacingAndGlyphs\" textLength=\"62\" x=\"463\" y=\"194.5669\">«subject»</text></a><!--MD5=[9120cf2e5df3bff93db8f754bbbc09b4]\n",
       "link E5 to E6--><a href=\"psysml:33b70aea-82ec-44f7-8a12-3ec54376cb03\" target=\"_top\" title=\"psysml:33b70aea-82ec-44f7-8a12-3ec54376cb03\" xlink:actuate=\"onRequest\" xlink:href=\"psysml:33b70aea-82ec-44f7-8a12-3ec54376cb03\" xlink:show=\"new\" xlink:title=\"psysml:33b70aea-82ec-44f7-8a12-3ec54376cb03\" xlink:type=\"simple\"><path d=\"M342.94,87.03 C333.16,89.67 323.36,92.36 314,95 C288.94,102.07 261.74,110.13 237.17,117.56 \" fill=\"none\" id=\"E5-&gt;E6\" style=\"stroke: #383838; stroke-width: 1.0;\"/><polygon fill=\"#383838\" points=\"229.29,119.94,237.8158,120.4972,236.0799,114.7538,229.29,119.94\" style=\"stroke: #383838; stroke-width: 1.0;\"/><text fill=\"#000000\" font-family=\"sans-serif\" font-size=\"13\" lengthAdjust=\"spacingAndGlyphs\" textLength=\"73\" x=\"315\" y=\"108.0669\">«objective»</text></a><!--MD5=[452b418e7f8a40397a49b8c0a78acc5b]\n",
       "reverse link E5 to E7--><a href=\"psysml:9ca3a684-dbe3-4511-9e21-3cef746855e2\" target=\"_top\" title=\"psysml:9ca3a684-dbe3-4511-9e21-3cef746855e2\" xlink:actuate=\"onRequest\" xlink:href=\"psysml:9ca3a684-dbe3-4511-9e21-3cef746855e2\" xlink:show=\"new\" xlink:title=\"psysml:9ca3a684-dbe3-4511-9e21-3cef746855e2\" xlink:type=\"simple\"><path d=\"M405.93,98.32 C401.13,105.57 396.16,113.08 391.72,119.78 \" fill=\"none\" id=\"E5&lt;-E7\" style=\"stroke: #383838; stroke-width: 1.0;\"/><polygon fill=\"#383838\" points=\"413.25,87.27,406.6021,90.0638,406.6241,97.2749,413.272,94.4811,413.25,87.27\" style=\"stroke: #383838; stroke-width: 1.0;\"/></a><!--MD5=[dc164f5e8a733ab456ef1add180e9e34]\n",
       "reverse link E7 to E8--><a href=\"psysml:8f87ba26-7a36-4a80-9ed1-e463a907c7c6\" target=\"_top\" title=\"psysml:8f87ba26-7a36-4a80-9ed1-e463a907c7c6\" xlink:actuate=\"onRequest\" xlink:href=\"psysml:8f87ba26-7a36-4a80-9ed1-e463a907c7c6\" xlink:show=\"new\" xlink:title=\"psysml:8f87ba26-7a36-4a80-9ed1-e463a907c7c6\" xlink:type=\"simple\"><path d=\"M305.92,164.91 C304.26,165.29 302.62,165.65 301,166 C288.71,168.64 253.66,164.89 245,174 C235.09,184.43 235.08,201.52 236.77,213.88 \" fill=\"none\" id=\"E7&lt;-E8\" style=\"stroke: #383838; stroke-width: 1.0;\"/><polygon fill=\"#FFFFFF\" points=\"318.71,161.77,311.9314,159.3102,307.0537,164.6214,313.8323,167.0811,318.71,161.77\" style=\"stroke: #383838; stroke-width: 1.0;\"/><text fill=\"#000000\" font-family=\"sans-serif\" font-size=\"13\" lengthAdjust=\"spacingAndGlyphs\" textLength=\"8\" x=\"226.2847\" y=\"202.8557\">1</text></a><!--MD5=[f1f3f9f2fc535e6147756cb86a7f2e32]\n",
       "link E8 to E2--><a href=\"psysml:bdf7178e-b1d2-4aa0-b7b5-71013aa1f7a9\" target=\"_top\" title=\"psysml:bdf7178e-b1d2-4aa0-b7b5-71013aa1f7a9\" xlink:actuate=\"onRequest\" xlink:href=\"psysml:bdf7178e-b1d2-4aa0-b7b5-71013aa1f7a9\" xlink:show=\"new\" xlink:title=\"psysml:bdf7178e-b1d2-4aa0-b7b5-71013aa1f7a9\" xlink:type=\"simple\"><path d=\"M268.08,246.04 C273.23,248.8 278.76,251.77 284.38,254.77 \" fill=\"none\" id=\"E8-&gt;E2\" style=\"stroke: #383838; stroke-width: 1.0;\"/><polygon fill=\"#FFFFFF\" points=\"302.21,264.33,282.1553,261.5358,288.7616,249.1926,302.21,264.33\" style=\"stroke: #383838; stroke-width: 1.0;\"/><ellipse cx=\"278.0736\" cy=\"257.0828\" fill=\"#383838\" rx=\"2\" ry=\"2\" style=\"stroke: #383838; stroke-width: 1.0;\"/><ellipse cx=\"282.7924\" cy=\"248.2661\" fill=\"#383838\" rx=\"2\" ry=\"2\" style=\"stroke: #383838; stroke-width: 1.0;\"/></a><!--MD5=[9ae28de373ca99bb8a1b38d63370ca7e]\n",
       "reverse link E5 to E9--><a href=\"psysml:a1ab5fdf-7d24-4497-9ea2-3c4d95277eba\" target=\"_top\" title=\"psysml:a1ab5fdf-7d24-4497-9ea2-3c4d95277eba\" xlink:actuate=\"onRequest\" xlink:href=\"psysml:a1ab5fdf-7d24-4497-9ea2-3c4d95277eba\" xlink:show=\"new\" xlink:title=\"psysml:a1ab5fdf-7d24-4497-9ea2-3c4d95277eba\" xlink:type=\"simple\"><path d=\"M449.82,98.65 C460.68,120.03 468.53,147.15 453,166 C451.62,167.67 438.74,170.68 421.94,173.98 \" fill=\"none\" id=\"E5&lt;-E9\" style=\"stroke: #383838; stroke-width: 1.0;\"/><polygon fill=\"#FFFFFF\" points=\"443.41,87.13,442.8257,94.3174,449.2355,97.6211,449.8198,90.4337,443.41,87.13\" style=\"stroke: #383838; stroke-width: 1.0;\"/><text fill=\"#000000\" font-family=\"sans-serif\" font-size=\"13\" lengthAdjust=\"spacingAndGlyphs\" textLength=\"8\" x=\"431.8866\" y=\"185.124\">1</text></a><!--MD5=[5c3bb36fe832a92c7f0e1807dd65209d]\n",
       "link E9 to E2--><a href=\"psysml:9bedaae2-b2c6-4d70-8011-f34c154ea99f\" target=\"_top\" title=\"psysml:9bedaae2-b2c6-4d70-8011-f34c154ea99f\" xlink:actuate=\"onRequest\" xlink:href=\"psysml:9bedaae2-b2c6-4d70-8011-f34c154ea99f\" xlink:show=\"new\" xlink:title=\"psysml:9bedaae2-b2c6-4d70-8011-f34c154ea99f\" xlink:type=\"simple\"><path d=\"M335.5,206.27 C335.82,216.14 336.25,229.48 336.66,242.29 \" fill=\"none\" id=\"E9-&gt;E2\" style=\"stroke: #383838; stroke-width: 1.0;\"/><polygon fill=\"#FFFFFF\" points=\"337.32,262.66,329.7128,243.8949,343.7055,243.4448,337.32,262.66\" style=\"stroke: #383838; stroke-width: 1.0;\"/><ellipse cx=\"331.5285\" cy=\"238.1335\" fill=\"#383838\" rx=\"2\" ry=\"2\" style=\"stroke: #383838; stroke-width: 1.0;\"/><ellipse cx=\"341.5233\" cy=\"237.812\" fill=\"#383838\" rx=\"2\" ry=\"2\" style=\"stroke: #383838; stroke-width: 1.0;\"/></a><!--MD5=[de3ac4413421ab49666c4f1b6d6866e7]\n",
       "@startuml\r\n",
       "skinparam ranksep 10\r\n",
       "skinparam rectangle {\r\n",
       " backgroundColor<<block>> LightGreen\r\n",
       "}\r\n",
       "top to bottom direction\r\n",
       "skinparam monochrome true\r\n",
       "skinparam classbackgroundcolor white\r\n",
       "skinparam shadowing false\r\n",
       "skinparam wrapWidth 300\r\n",
       "hide circle\r\n",
       "\r\n",
       "package \"TradeStudyTest\" as E1  [[psysml:e59f1b4e-bf48-44e5-8b03-de7ba4c0da2b ]]  {\r\n",
       "rec def \"Engine\" as E2  <<(T,blue) part def>> [[psysml:8032ee8b-b45e-4aab-a334-ddc7f77ca09b ]] {\r\n",
       "}\r\n",
       "rec usage \"engine1: Engine\" as E3  [[psysml:d1c59f8e-91b7-4873-9a7c-d548f1a74ff0 ]] {\r\n",
       "}\r\n",
       "rec usage \"engine2: Engine\" as E4  [[psysml:b8b914f7-6e3e-418c-a7c7-b0f9195d6204 ]] {\r\n",
       "}\r\n",
       "comp usage \"engineTradeStudy: TradeStudy\" as E5 << analysis>> [[psysml:d010e11c-db6d-479b-b98e-aa7ac12f08dc ]] {\r\n",
       "}\r\n",
       "comp usage \"tradeStudyObjective: MaximizeObjective\" as E6  <<(T,blue) requirement>> [[psysml:baa50d6d-f728-4fdb-a3d8-0324d2e9c263 ]] {\r\n",
       "}\r\n",
       "comp usage \"objectiveFunction\" as E7  <<(T,blue) calculation>> [[psysml:c3bcbf7c-d2b8-4beb-b9e4-ef0b91eba9be ]] {\r\n",
       "}\r\n",
       "comp usage \"alternative: Engine\" as E8  [[psysml:c18a795f-fd76-4ffb-a70d-e612388b917b ]] {\r\n",
       "}\r\n",
       "comp usage \"selectedAlternative: Engine\" as E9  [[psysml:854815c3-8ae1-4c3d-a371-f12eec0f41ab ]] {\r\n",
       "}\r\n",
       "}\r\n",
       "E5 ..> E2 [[psysml:0f7006cc-acd6-40d1-b198-a80e8f08765e ]] : <<subject>>\r\n",
       "E5 - ->> E6 [[psysml:33b70aea-82ec-44f7-8a12-3ec54376cb03 ]] : <<objective>>\r\n",
       "E5 *- - E7 [[psysml:9ca3a684-dbe3-4511-9e21-3cef746855e2 ]] \r\n",
       "E7 o- - \"1\"E8 [[psysml:8f87ba26-7a36-4a80-9ed1-e463a907c7c6 ]] \r\n",
       "E8 - -:|> E2 [[psysml:bdf7178e-b1d2-4aa0-b7b5-71013aa1f7a9 ]] \r\n",
       "E5 o- - \"1\"E9 [[psysml:a1ab5fdf-7d24-4497-9ea2-3c4d95277eba ]] \r\n",
       "E9 - -:|> E2 [[psysml:9bedaae2-b2c6-4d70-8011-f34c154ea99f ]] \r\n",
       "@enduml\r\n",
       "\n",
       "PlantUML version 1.2020.13(Sat Jun 13 12:26:38 UTC 2020)\n",
       "(EPL source distribution)\n",
       "Java Runtime: OpenJDK Runtime Environment\n",
       "JVM: OpenJDK 64-Bit Server VM\n",
       "Default Encoding: UTF-8\n",
       "Language: en\n",
       "Country: null\n",
       "--></g></svg>"
      ]
     },
     "execution_count": 47,
     "metadata": {},
     "output_type": "execute_result"
    }
   ],
   "source": [
    "%viz --style=\"TB\" --view=\"Interconnection\" \"TradeStudyTest\""
   ]
  },
  {
   "cell_type": "code",
   "execution_count": 48,
   "id": "b9113820",
   "metadata": {
    "execution": {
     "iopub.execute_input": "2021-09-27T07:19:37.708203Z",
     "iopub.status.busy": "2021-09-27T07:19:37.708002Z",
     "iopub.status.idle": "2021-09-27T07:19:37.735169Z",
     "shell.execute_reply": "2021-09-27T07:19:37.735338Z"
    }
   },
   "outputs": [
    {
     "data": {
      "image/svg+xml": [
       "<?xml version=\"1.0\" encoding=\"UTF-8\" standalone=\"no\"?><svg xmlns=\"http://www.w3.org/2000/svg\" xmlns:xlink=\"http://www.w3.org/1999/xlink\" contentScriptType=\"application/ecmascript\" contentStyleType=\"text/css\" height=\"178px\" preserveAspectRatio=\"none\" style=\"width:434px;height:178px;\" version=\"1.1\" viewBox=\"0 0 434 178\" width=\"434px\" zoomAndPan=\"magnify\"><defs/><g><!--MD5=[fbc87193dbaf4d95561dea2c320d4a47]\n",
       "cluster E1--><a href=\"psysml:d010e11c-db6d-479b-b98e-aa7ac12f08dc\" target=\"_top\" title=\"psysml:d010e11c-db6d-479b-b98e-aa7ac12f08dc\" xlink:actuate=\"onRequest\" xlink:href=\"psysml:d010e11c-db6d-479b-b98e-aa7ac12f08dc\" xlink:show=\"new\" xlink:title=\"psysml:d010e11c-db6d-479b-b98e-aa7ac12f08dc\" xlink:type=\"simple\"><rect fill=\"#FFFFFF\" height=\"103.72\" id=\"E1\" rx=\"10\" ry=\"10\" style=\"stroke: #383838; stroke-width: 1.5;\" width=\"327\" x=\"47\" y=\"42.0986\"/><rect fill=\"#F8F8F8\" height=\"37.9375\" rx=\"10\" ry=\"10\" style=\"stroke: #F8F8F8; stroke-width: 1.5;\" width=\"327\" x=\"47\" y=\"42.0986\"/><rect fill=\"#F8F8F8\" height=\"10\" style=\"stroke: #F8F8F8; stroke-width: 1.5;\" width=\"327\" x=\"47\" y=\"70.0361\"/><rect fill=\"none\" height=\"103.72\" id=\"E1\" rx=\"10\" ry=\"10\" style=\"stroke: #383838; stroke-width: 1.5;\" width=\"327\" x=\"47\" y=\"42.0986\"/><text fill=\"#000000\" font-family=\"sans-serif\" font-size=\"12\" font-style=\"italic\" lengthAdjust=\"spacingAndGlyphs\" textLength=\"64\" x=\"178.5\" y=\"58.2373\">«analysis»</text><text fill=\"#000000\" font-family=\"sans-serif\" font-size=\"12\" lengthAdjust=\"spacingAndGlyphs\" textLength=\"114\" x=\"153.5\" y=\"72.2061\">engineTradeStudy</text><line style=\"stroke: #383838; stroke-width: 1.0;\" x1=\"47\" x2=\"374\" y1=\"80.0361\" y2=\"80.0361\"/></a><!--MD5=[d5e69f78d87373223dbae638b30a9c99]\n",
       "cluster E3--><a href=\"psysml:c3bcbf7c-d2b8-4beb-b9e4-ef0b91eba9be\" target=\"_top\" title=\"psysml:c3bcbf7c-d2b8-4beb-b9e4-ef0b91eba9be\" xlink:actuate=\"onRequest\" xlink:href=\"psysml:c3bcbf7c-d2b8-4beb-b9e4-ef0b91eba9be\" xlink:show=\"new\" xlink:title=\"psysml:c3bcbf7c-d2b8-4beb-b9e4-ef0b91eba9be\" xlink:type=\"simple\"><rect fill=\"#FFFFFF\" height=\"81.72\" id=\"E3\" rx=\"10\" ry=\"10\" style=\"stroke: #383838; stroke-width: 1.5;\" width=\"132\" x=\"214.125\" y=\"64.0986\"/><rect fill=\"#F8F8F8\" height=\"37.9375\" rx=\"10\" ry=\"10\" style=\"stroke: #F8F8F8; stroke-width: 1.5;\" width=\"132\" x=\"214.125\" y=\"64.0986\"/><rect fill=\"#F8F8F8\" height=\"10\" style=\"stroke: #F8F8F8; stroke-width: 1.5;\" width=\"132\" x=\"214.125\" y=\"92.0361\"/><rect fill=\"none\" height=\"81.72\" id=\"E3\" rx=\"10\" ry=\"10\" style=\"stroke: #383838; stroke-width: 1.5;\" width=\"132\" x=\"214.125\" y=\"64.0986\"/><text fill=\"#000000\" font-family=\"sans-serif\" font-size=\"12\" font-style=\"italic\" lengthAdjust=\"spacingAndGlyphs\" textLength=\"82\" x=\"239.125\" y=\"80.2373\">«calculation»</text><text fill=\"#000000\" font-family=\"sans-serif\" font-size=\"12\" lengthAdjust=\"spacingAndGlyphs\" textLength=\"110\" x=\"225.125\" y=\"94.2061\">objectiveFunction</text><line style=\"stroke: #383838; stroke-width: 1.0;\" x1=\"214.125\" x2=\"346.125\" y1=\"102.0361\" y2=\"102.0361\"/></a><text fill=\"#000000\" font-family=\"sans-serif\" font-size=\"14\" lengthAdjust=\"spacingAndGlyphs\" textLength=\"118\" x=\"6\" y=\"20.7969\">studyAlternatives</text><rect fill=\"#383838\" height=\"12\" style=\"stroke: #F8F8F8; stroke-width: 1.5;\" width=\"12\" x=\"59\" y=\"36.0986\"/><text fill=\"#000000\" font-family=\"sans-serif\" font-size=\"14\" lengthAdjust=\"spacingAndGlyphs\" textLength=\"132\" x=\"290\" y=\"164.8138\">selectedAlternative</text><rect fill=\"#383838\" height=\"12\" style=\"stroke: #F8F8F8; stroke-width: 1.5;\" width=\"12\" x=\"350\" y=\"139.8186\"/><text fill=\"#000000\" font-family=\"sans-serif\" font-size=\"14\" lengthAdjust=\"spacingAndGlyphs\" textLength=\"39\" x=\"215.5\" y=\"164.8138\">result</text><rect fill=\"#383838\" height=\"12\" style=\"stroke: #F8F8F8; stroke-width: 1.5;\" width=\"12\" x=\"229\" y=\"139.8186\"/><!--MD5=[2d157fe4f1c27deb26da474eb749d42e]\n",
       "@startuml\r\n",
       "skinparam ranksep 8\r\n",
       "top to bottom direction\r\n",
       "skinparam monochrome true\r\n",
       "skinparam classbackgroundcolor white\r\n",
       "skinparam shadowing false\r\n",
       "skinparam wrapWidth 300\r\n",
       "hide circle\r\n",
       "\r\n",
       "rec usage \"engineTradeStudy\" as E1 << analysis>> [[psysml:d010e11c-db6d-479b-b98e-aa7ac12f08dc ]] {\r\n",
       "portin \"studyAlternatives\" as E2  [[psysml:c281ae49-24a5-493f-bfdc-d0e83f5bb327 ]] \r\n",
       "rec usage \"objectiveFunction\" as E3  <<(T,blue) calculation>> [[psysml:c3bcbf7c-d2b8-4beb-b9e4-ef0b91eba9be ]] {\r\n",
       "portout \"result\" as E4  [[psysml:6508d5a9-7a54-4e99-9afa-e959802dfdd5 ]] \r\n",
       "}\r\n",
       "\r\n",
       "portout \"selectedAlternative\" as E5  [[psysml:854815c3-8ae1-4c3d-a371-f12eec0f41ab ]] \r\n",
       "}\r\n",
       "\r\n",
       "@enduml\r\n",
       "\n",
       "PlantUML version 1.2020.13(Sat Jun 13 12:26:38 UTC 2020)\n",
       "(EPL source distribution)\n",
       "Java Runtime: OpenJDK Runtime Environment\n",
       "JVM: OpenJDK 64-Bit Server VM\n",
       "Default Encoding: UTF-8\n",
       "Language: en\n",
       "Country: null\n",
       "--></g></svg>"
      ]
     },
     "execution_count": 48,
     "metadata": {},
     "output_type": "execute_result"
    }
   ],
   "source": [
    "%viz --style=\"TB\" --view=\"Action\" \"TradeStudyTest\""
   ]
  },
  {
   "cell_type": "code",
   "execution_count": 49,
   "id": "622ff4b3",
   "metadata": {
    "execution": {
     "iopub.execute_input": "2021-09-27T07:19:37.786088Z",
     "iopub.status.busy": "2021-09-27T07:19:37.785632Z",
     "iopub.status.idle": "2021-09-27T07:19:37.790998Z",
     "shell.execute_reply": "2021-09-27T07:19:37.790626Z"
    }
   },
   "outputs": [
    {
     "data": {
      "image/svg+xml": [
       "<?xml version=\"1.0\" encoding=\"UTF-8\" standalone=\"no\"?><svg xmlns=\"http://www.w3.org/2000/svg\" xmlns:xlink=\"http://www.w3.org/1999/xlink\" contentScriptType=\"application/ecmascript\" contentStyleType=\"text/css\" height=\"12px\" preserveAspectRatio=\"none\" style=\"width:12px;height:12px;\" version=\"1.1\" viewBox=\"0 0 12 12\" width=\"12px\" zoomAndPan=\"magnify\"><defs/><g><!--MD5=[e1ab0c84c44d2fef8bf5f140f2689906]\n",
       "@startuml\r\n",
       "skinparam roundcorner 20\r\n",
       "skinparam BoxPadding 20\r\n",
       "skinparam SequenceBoxBackgroundColor #white\r\n",
       "skinparam style strictuml\r\n",
       "skinparam maxMessageSize 100\r\n",
       "top to bottom direction\r\n",
       "skinparam monochrome true\r\n",
       "skinparam classbackgroundcolor white\r\n",
       "skinparam shadowing false\r\n",
       "skinparam wrapWidth 300\r\n",
       "hide circle\r\n",
       "\r\n",
       "@enduml\r\n",
       "\n",
       "PlantUML version 1.2020.13(Sat Jun 13 12:26:38 UTC 2020)\n",
       "(EPL source distribution)\n",
       "Java Runtime: OpenJDK Runtime Environment\n",
       "JVM: OpenJDK 64-Bit Server VM\n",
       "Default Encoding: UTF-8\n",
       "Language: en\n",
       "Country: null\n",
       "--></g></svg>"
      ]
     },
     "execution_count": 49,
     "metadata": {},
     "output_type": "execute_result"
    }
   ],
   "source": [
    "%viz --style=\"TB\" --view=\"Sequence\" \"TradeStudyTest\""
   ]
  },
  {
   "cell_type": "code",
   "execution_count": 50,
   "id": "1c508e13",
   "metadata": {
    "execution": {
     "iopub.execute_input": "2021-09-27T07:19:37.840789Z",
     "iopub.status.busy": "2021-09-27T07:19:37.840373Z",
     "iopub.status.idle": "2021-09-27T07:19:37.877061Z",
     "shell.execute_reply": "2021-09-27T07:19:37.875655Z"
    }
   },
   "outputs": [
    {
     "data": {
      "image/svg+xml": [
       "<?xml version=\"1.0\" encoding=\"UTF-8\" standalone=\"no\"?><svg xmlns=\"http://www.w3.org/2000/svg\" xmlns:xlink=\"http://www.w3.org/1999/xlink\" contentScriptType=\"application/ecmascript\" contentStyleType=\"text/css\" height=\"497px\" preserveAspectRatio=\"none\" style=\"width:556px;height:497px;\" version=\"1.1\" viewBox=\"0 0 556 497\" width=\"556px\" zoomAndPan=\"magnify\"><defs/><g><!--MD5=[fbc87193dbaf4d95561dea2c320d4a47]\n",
       "cluster E1--><a href=\"psysml:e59f1b4e-bf48-44e5-8b03-de7ba4c0da2b\" target=\"_top\" title=\"psysml:e59f1b4e-bf48-44e5-8b03-de7ba4c0da2b\" xlink:actuate=\"onRequest\" xlink:href=\"psysml:e59f1b4e-bf48-44e5-8b03-de7ba4c0da2b\" xlink:show=\"new\" xlink:title=\"psysml:e59f1b4e-bf48-44e5-8b03-de7ba4c0da2b\" xlink:type=\"simple\"><polygon fill=\"#FFFFFF\" points=\"18.32,6,134.32,6,141.32,28.2969,534.32,28.2969,534.32,485,18.32,485,18.32,6\" style=\"stroke: #000000; stroke-width: 1.5;\"/><line style=\"stroke: #000000; stroke-width: 1.5;\" x1=\"18.32\" x2=\"141.32\" y1=\"28.2969\" y2=\"28.2969\"/><text fill=\"#000000\" font-family=\"sans-serif\" font-size=\"14\" font-weight=\"bold\" lengthAdjust=\"spacingAndGlyphs\" textLength=\"110\" x=\"22.32\" y=\"20.9951\">TradeStudyTest</text></a><!--MD5=[b4997ac47864f28c2f74865a473b2911]\n",
       "class E2--><a href=\"psysml:8032ee8b-b45e-4aab-a334-ddc7f77ca09b\" target=\"_top\" title=\"psysml:8032ee8b-b45e-4aab-a334-ddc7f77ca09b\" xlink:actuate=\"onRequest\" xlink:href=\"psysml:8032ee8b-b45e-4aab-a334-ddc7f77ca09b\" xlink:show=\"new\" xlink:title=\"psysml:8032ee8b-b45e-4aab-a334-ddc7f77ca09b\" xlink:type=\"simple\"><rect fill=\"#FFFFFF\" height=\"45.9375\" id=\"E2\" style=\"stroke: #383838; stroke-width: 1.5;\" width=\"66\" x=\"198.32\" y=\"423\"/><text fill=\"#000000\" font-family=\"sans-serif\" font-size=\"12\" font-style=\"italic\" lengthAdjust=\"spacingAndGlyphs\" textLength=\"64\" x=\"199.32\" y=\"439.1387\">«part def»</text><text fill=\"#000000\" font-family=\"sans-serif\" font-size=\"12\" lengthAdjust=\"spacingAndGlyphs\" textLength=\"43\" x=\"209.82\" y=\"453.1074\">Engine</text><line style=\"stroke: #383838; stroke-width: 1.5;\" x1=\"199.32\" x2=\"263.32\" y1=\"460.9375\" y2=\"460.9375\"/></a><!--MD5=[09b614a08d8cba4a07c9adeb5e0fee81]\n",
       "class E3--><a href=\"psysml:d1c59f8e-91b7-4873-9a7c-d548f1a74ff0\" target=\"_top\" title=\"psysml:d1c59f8e-91b7-4873-9a7c-d548f1a74ff0\" xlink:actuate=\"onRequest\" xlink:href=\"psysml:d1c59f8e-91b7-4873-9a7c-d548f1a74ff0\" xlink:show=\"new\" xlink:title=\"psysml:d1c59f8e-91b7-4873-9a7c-d548f1a74ff0\" xlink:type=\"simple\"><rect fill=\"#FFFFFF\" height=\"45.9375\" id=\"E3\" rx=\"10\" ry=\"10\" style=\"stroke: #383838; stroke-width: 1.5;\" width=\"108\" x=\"410.32\" y=\"316\"/><text fill=\"#000000\" font-family=\"sans-serif\" font-size=\"12\" font-style=\"italic\" lengthAdjust=\"spacingAndGlyphs\" textLength=\"40\" x=\"444.32\" y=\"332.1387\">«part»</text><text fill=\"#000000\" font-family=\"sans-serif\" font-size=\"12\" lengthAdjust=\"spacingAndGlyphs\" textLength=\"102\" x=\"413.32\" y=\"346.1074\">engine1: Engine</text><line style=\"stroke: #383838; stroke-width: 1.5;\" x1=\"411.32\" x2=\"517.32\" y1=\"353.9375\" y2=\"353.9375\"/></a><!--MD5=[ebbe1d658d1005bcc118a6aa81145e00]\n",
       "class E4--><a href=\"psysml:b8b914f7-6e3e-418c-a7c7-b0f9195d6204\" target=\"_top\" title=\"psysml:b8b914f7-6e3e-418c-a7c7-b0f9195d6204\" xlink:actuate=\"onRequest\" xlink:href=\"psysml:b8b914f7-6e3e-418c-a7c7-b0f9195d6204\" xlink:show=\"new\" xlink:title=\"psysml:b8b914f7-6e3e-418c-a7c7-b0f9195d6204\" xlink:type=\"simple\"><rect fill=\"#FFFFFF\" height=\"45.9375\" id=\"E4\" rx=\"10\" ry=\"10\" style=\"stroke: #383838; stroke-width: 1.5;\" width=\"108\" x=\"267.32\" y=\"316\"/><text fill=\"#000000\" font-family=\"sans-serif\" font-size=\"12\" font-style=\"italic\" lengthAdjust=\"spacingAndGlyphs\" textLength=\"40\" x=\"301.32\" y=\"332.1387\">«part»</text><text fill=\"#000000\" font-family=\"sans-serif\" font-size=\"12\" lengthAdjust=\"spacingAndGlyphs\" textLength=\"102\" x=\"270.32\" y=\"346.1074\">engine2: Engine</text><line style=\"stroke: #383838; stroke-width: 1.5;\" x1=\"268.32\" x2=\"374.32\" y1=\"353.9375\" y2=\"353.9375\"/></a><!--MD5=[270fce915f116d4de14055a7c1d9a0f3]\n",
       "class E5--><a href=\"psysml:d010e11c-db6d-479b-b98e-aa7ac12f08dc\" target=\"_top\" title=\"psysml:d010e11c-db6d-479b-b98e-aa7ac12f08dc\" xlink:actuate=\"onRequest\" xlink:href=\"psysml:d010e11c-db6d-479b-b98e-aa7ac12f08dc\" xlink:show=\"new\" xlink:title=\"psysml:d010e11c-db6d-479b-b98e-aa7ac12f08dc\" xlink:type=\"simple\"><rect fill=\"#FFFFFF\" height=\"45.9375\" id=\"E5\" rx=\"10\" ry=\"10\" style=\"stroke: #383838; stroke-width: 1.5;\" width=\"199\" x=\"239.82\" y=\"41\"/><text fill=\"#000000\" font-family=\"sans-serif\" font-size=\"12\" font-style=\"italic\" lengthAdjust=\"spacingAndGlyphs\" textLength=\"64\" x=\"307.32\" y=\"57.1387\">«analysis»</text><text fill=\"#000000\" font-family=\"sans-serif\" font-size=\"12\" lengthAdjust=\"spacingAndGlyphs\" textLength=\"193\" x=\"242.82\" y=\"71.1074\">engineTradeStudy: TradeStudy</text><line style=\"stroke: #383838; stroke-width: 1.5;\" x1=\"240.82\" x2=\"437.82\" y1=\"78.9375\" y2=\"78.9375\"/></a><!--MD5=[60a26617385b1d2d0262a64233df1f8d]\n",
       "class E6--><a href=\"psysml:baa50d6d-f728-4fdb-a3d8-0324d2e9c263\" target=\"_top\" title=\"psysml:baa50d6d-f728-4fdb-a3d8-0324d2e9c263\" xlink:actuate=\"onRequest\" xlink:href=\"psysml:baa50d6d-f728-4fdb-a3d8-0324d2e9c263\" xlink:show=\"new\" xlink:title=\"psysml:baa50d6d-f728-4fdb-a3d8-0324d2e9c263\" xlink:type=\"simple\"><rect fill=\"#FFFFFF\" height=\"45.9375\" id=\"E6\" rx=\"10\" ry=\"10\" style=\"stroke: #383838; stroke-width: 1.5;\" width=\"251\" x=\"78.82\" y=\"164\"/><text fill=\"#000000\" font-family=\"sans-serif\" font-size=\"12\" font-style=\"italic\" lengthAdjust=\"spacingAndGlyphs\" textLength=\"91\" x=\"158.82\" y=\"180.1387\">«requirement»</text><text fill=\"#000000\" font-family=\"sans-serif\" font-size=\"12\" lengthAdjust=\"spacingAndGlyphs\" textLength=\"245\" x=\"81.82\" y=\"194.1074\">tradeStudyObjective: MaximizeObjective</text><line style=\"stroke: #383838; stroke-width: 1.5;\" x1=\"79.82\" x2=\"328.82\" y1=\"201.9375\" y2=\"201.9375\"/></a><!--MD5=[2156ba9850f5573cc1fc38a6a4b2f02b]\n",
       "class E7--><a href=\"psysml:c3bcbf7c-d2b8-4beb-b9e4-ef0b91eba9be\" target=\"_top\" title=\"psysml:c3bcbf7c-d2b8-4beb-b9e4-ef0b91eba9be\" xlink:actuate=\"onRequest\" xlink:href=\"psysml:c3bcbf7c-d2b8-4beb-b9e4-ef0b91eba9be\" xlink:show=\"new\" xlink:title=\"psysml:c3bcbf7c-d2b8-4beb-b9e4-ef0b91eba9be\" xlink:type=\"simple\"><rect fill=\"#FFFFFF\" height=\"45.9375\" id=\"E7\" rx=\"10\" ry=\"10\" style=\"stroke: #383838; stroke-width: 1.5;\" width=\"116\" x=\"365.32\" y=\"164\"/><text fill=\"#000000\" font-family=\"sans-serif\" font-size=\"12\" font-style=\"italic\" lengthAdjust=\"spacingAndGlyphs\" textLength=\"82\" x=\"382.32\" y=\"180.1387\">«calculation»</text><text fill=\"#000000\" font-family=\"sans-serif\" font-size=\"12\" lengthAdjust=\"spacingAndGlyphs\" textLength=\"110\" x=\"368.32\" y=\"194.1074\">objectiveFunction</text><line style=\"stroke: #383838; stroke-width: 1.5;\" x1=\"366.32\" x2=\"480.32\" y1=\"201.9375\" y2=\"201.9375\"/></a><!--MD5=[b9389687b975829384b498ac4b7476b2]\n",
       "class E8--><a href=\"psysml:c18a795f-fd76-4ffb-a70d-e612388b917b\" target=\"_top\" title=\"psysml:c18a795f-fd76-4ffb-a70d-e612388b917b\" xlink:actuate=\"onRequest\" xlink:href=\"psysml:c18a795f-fd76-4ffb-a70d-e612388b917b\" xlink:show=\"new\" xlink:title=\"psysml:c18a795f-fd76-4ffb-a70d-e612388b917b\" xlink:type=\"simple\"><rect fill=\"#FFFFFF\" height=\"45.9375\" id=\"E8\" rx=\"10\" ry=\"10\" style=\"stroke: #383838; stroke-width: 1.5;\" width=\"124\" x=\"71.32\" y=\"316\"/><text fill=\"#000000\" font-family=\"sans-serif\" font-size=\"12\" font-style=\"italic\" lengthAdjust=\"spacingAndGlyphs\" textLength=\"40\" x=\"113.32\" y=\"332.1387\">«part»</text><text fill=\"#000000\" font-family=\"sans-serif\" font-size=\"12\" lengthAdjust=\"spacingAndGlyphs\" textLength=\"118\" x=\"74.32\" y=\"346.1074\">alternative: Engine</text><line style=\"stroke: #383838; stroke-width: 1.5;\" x1=\"72.32\" x2=\"194.32\" y1=\"353.9375\" y2=\"353.9375\"/></a><!--MD5=[fd4143e9d270a159db93a4ea2a975926]\n",
       "class E9--><a href=\"psysml:854815c3-8ae1-4c3d-a371-f12eec0f41ab\" target=\"_top\" title=\"psysml:854815c3-8ae1-4c3d-a371-f12eec0f41ab\" xlink:actuate=\"onRequest\" xlink:href=\"psysml:854815c3-8ae1-4c3d-a371-f12eec0f41ab\" xlink:show=\"new\" xlink:title=\"psysml:854815c3-8ae1-4c3d-a371-f12eec0f41ab\" xlink:type=\"simple\"><rect fill=\"#FFFFFF\" height=\"45.9375\" id=\"E9\" rx=\"10\" ry=\"10\" style=\"stroke: #383838; stroke-width: 1.5;\" width=\"178\" x=\"291.32\" y=\"240\"/><text fill=\"#000000\" font-family=\"sans-serif\" font-size=\"12\" font-style=\"italic\" lengthAdjust=\"spacingAndGlyphs\" textLength=\"40\" x=\"360.32\" y=\"256.1387\">«part»</text><text fill=\"#000000\" font-family=\"sans-serif\" font-size=\"12\" lengthAdjust=\"spacingAndGlyphs\" textLength=\"172\" x=\"294.32\" y=\"270.1074\">selectedAlternative: Engine</text><line style=\"stroke: #383838; stroke-width: 1.5;\" x1=\"292.32\" x2=\"468.32\" y1=\"277.9375\" y2=\"277.9375\"/></a><!--MD5=[05d275557350bfb9b23a4ef7222b4c39]\n",
       "link E3 to E2--><a href=\"psysml:a477e10c-c644-4ab8-a0d7-73b747f4931b\" target=\"_top\" title=\"psysml:a477e10c-c644-4ab8-a0d7-73b747f4931b\" xlink:actuate=\"onRequest\" xlink:href=\"psysml:a477e10c-c644-4ab8-a0d7-73b747f4931b\" xlink:show=\"new\" xlink:title=\"psysml:a477e10c-c644-4ab8-a0d7-73b747f4931b\" xlink:type=\"simple\"><path d=\"M415.48,362.01 C376.57,379.54 322.27,404.01 282.71,421.84 \" fill=\"none\" id=\"E3-&gt;E2\" style=\"stroke: #383838; stroke-width: 1.0;\"/><polygon fill=\"#FFFFFF\" points=\"264.34,430.12,278.7866,415.9321,284.5383,428.696,264.34,430.12\" style=\"stroke: #383838; stroke-width: 1.0;\"/><ellipse cx=\"284.805\" cy=\"415.4137\" fill=\"#383838\" rx=\"2\" ry=\"2\" style=\"stroke: #383838; stroke-width: 1.0;\"/><ellipse cx=\"288.9134\" cy=\"424.5308\" fill=\"#383838\" rx=\"2\" ry=\"2\" style=\"stroke: #383838; stroke-width: 1.0;\"/></a><!--MD5=[185131fc0dcab0a4505a2ebe144e961b]\n",
       "link E4 to E2--><a href=\"psysml:006a8138-edc7-4443-807d-fbbb291c6f87\" target=\"_top\" title=\"psysml:006a8138-edc7-4443-807d-fbbb291c6f87\" xlink:actuate=\"onRequest\" xlink:href=\"psysml:006a8138-edc7-4443-807d-fbbb291c6f87\" xlink:show=\"new\" xlink:title=\"psysml:006a8138-edc7-4443-807d-fbbb291c6f87\" xlink:type=\"simple\"><path d=\"M302.45,362.01 C291.25,375.08 276.74,392.01 263.74,407.17 \" fill=\"none\" id=\"E4-&gt;E2\" style=\"stroke: #383838; stroke-width: 1.0;\"/><polygon fill=\"#FFFFFF\" points=\"250.47,422.66,257.5188,403.678,268.1491,412.7883,250.47,422.66\" style=\"stroke: #383838; stroke-width: 1.0;\"/><ellipse cx=\"262.7466\" cy=\"400.6515\" fill=\"#383838\" rx=\"2\" ry=\"2\" style=\"stroke: #383838; stroke-width: 1.0;\"/><ellipse cx=\"270.3396\" cy=\"407.1588\" fill=\"#383838\" rx=\"2\" ry=\"2\" style=\"stroke: #383838; stroke-width: 1.0;\"/></a><!--MD5=[15ebcb19ae302d9b601edb458606d402]\n",
       "link E5 to E2--><a href=\"psysml:0f7006cc-acd6-40d1-b198-a80e8f08765e\" target=\"_top\" title=\"psysml:0f7006cc-acd6-40d1-b198-a80e8f08765e\" xlink:actuate=\"onRequest\" xlink:href=\"psysml:0f7006cc-acd6-40d1-b198-a80e8f08765e\" xlink:show=\"new\" xlink:title=\"psysml:0f7006cc-acd6-40d1-b198-a80e8f08765e\" xlink:type=\"simple\"><path d=\"M239.76,73.22 C177.99,83.96 102.74,108.45 61.32,164 C8.68,234.61 6,287.72 53.32,362 C83.95,410.08 150.5,430.76 192.99,439.32 \" fill=\"none\" id=\"E5-&gt;E2\" style=\"stroke: #383838; stroke-width: 1.0; stroke-dasharray: 7.0,7.0;\"/><polygon fill=\"#383838\" points=\"198.04,440.31,189.9738,434.6588,193.1327,439.3514,188.4401,442.5104,198.04,440.31\" style=\"stroke: #383838; stroke-width: 1.0;\"/><text fill=\"#000000\" font-family=\"sans-serif\" font-size=\"13\" lengthAdjust=\"spacingAndGlyphs\" textLength=\"62\" x=\"24.32\" y=\"267.5669\">«subject»</text></a><!--MD5=[9120cf2e5df3bff93db8f754bbbc09b4]\n",
       "link E5 to E6--><a href=\"psysml:33b70aea-82ec-44f7-8a12-3ec54376cb03\" target=\"_top\" title=\"psysml:33b70aea-82ec-44f7-8a12-3ec54376cb03\" xlink:actuate=\"onRequest\" xlink:href=\"psysml:33b70aea-82ec-44f7-8a12-3ec54376cb03\" xlink:show=\"new\" xlink:title=\"psysml:33b70aea-82ec-44f7-8a12-3ec54376cb03\" xlink:type=\"simple\"><path d=\"M314.56,87.19 C292.2,107.23 259.21,136.8 235.15,158.37 \" fill=\"none\" id=\"E5-&gt;E6\" style=\"stroke: #383838; stroke-width: 1.0;\"/><polygon fill=\"#383838\" points=\"228.92,163.95,236.8786,160.8419,232.8725,156.3752,228.92,163.95\" style=\"stroke: #383838; stroke-width: 1.0;\"/><text fill=\"#000000\" font-family=\"sans-serif\" font-size=\"13\" lengthAdjust=\"spacingAndGlyphs\" textLength=\"73\" x=\"280.32\" y=\"130.0669\">«objective»</text></a><!--MD5=[452b418e7f8a40397a49b8c0a78acc5b]\n",
       "reverse link E5 to E7--><a href=\"psysml:9ca3a684-dbe3-4511-9e21-3cef746855e2\" target=\"_top\" title=\"psysml:9ca3a684-dbe3-4511-9e21-3cef746855e2\" xlink:actuate=\"onRequest\" xlink:href=\"psysml:9ca3a684-dbe3-4511-9e21-3cef746855e2\" xlink:show=\"new\" xlink:title=\"psysml:9ca3a684-dbe3-4511-9e21-3cef746855e2\" xlink:type=\"simple\"><path d=\"M362.14,97.88 C376.71,118.86 395.19,145.48 408.01,163.95 \" fill=\"none\" id=\"E5&lt;-E7\" style=\"stroke: #383838; stroke-width: 1.0;\"/><polygon fill=\"#383838\" points=\"354.73,87.19,354.864,94.3999,361.5708,97.0492,361.4368,89.8393,354.73,87.19\" style=\"stroke: #383838; stroke-width: 1.0;\"/></a><!--MD5=[dc164f5e8a733ab456ef1add180e9e34]\n",
       "reverse link E7 to E8--><a href=\"psysml:8f87ba26-7a36-4a80-9ed1-e463a907c7c6\" target=\"_top\" title=\"psysml:8f87ba26-7a36-4a80-9ed1-e463a907c7c6\" xlink:actuate=\"onRequest\" xlink:href=\"psysml:8f87ba26-7a36-4a80-9ed1-e463a907c7c6\" xlink:show=\"new\" xlink:title=\"psysml:8f87ba26-7a36-4a80-9ed1-e463a907c7c6\" xlink:type=\"simple\"><path d=\"M352.67,208.29 C327.33,216.69 298.96,227.44 274.32,240 C231.96,261.6 187.65,294.33 160.26,315.93 \" fill=\"none\" id=\"E7&lt;-E8\" style=\"stroke: #383838; stroke-width: 1.0;\"/><polygon fill=\"#FFFFFF\" points=\"365.22,204.24,358.2818,202.2749,353.7994,207.9236,360.7376,209.8887,365.22,204.24\" style=\"stroke: #383838; stroke-width: 1.0;\"/><text fill=\"#000000\" font-family=\"sans-serif\" font-size=\"13\" lengthAdjust=\"spacingAndGlyphs\" textLength=\"8\" x=\"158.4251\" y=\"304.8075\">1</text></a><!--MD5=[f1f3f9f2fc535e6147756cb86a7f2e32]\n",
       "link E8 to E2--><a href=\"psysml:bdf7178e-b1d2-4aa0-b7b5-71013aa1f7a9\" target=\"_top\" title=\"psysml:bdf7178e-b1d2-4aa0-b7b5-71013aa1f7a9\" xlink:actuate=\"onRequest\" xlink:href=\"psysml:bdf7178e-b1d2-4aa0-b7b5-71013aa1f7a9\" xlink:show=\"new\" xlink:title=\"psysml:bdf7178e-b1d2-4aa0-b7b5-71013aa1f7a9\" xlink:type=\"simple\"><path d=\"M153.86,362.01 C166.19,375.22 182.2,392.38 196.46,407.65 \" fill=\"none\" id=\"E8-&gt;E2\" style=\"stroke: #383838; stroke-width: 1.0;\"/><polygon fill=\"#FFFFFF\" points=\"210.47,422.66,192.3921,413.5393,202.6305,403.9907,210.47,422.66\" style=\"stroke: #383838; stroke-width: 1.0;\"/><ellipse cx=\"189.9671\" cy=\"408.0067\" fill=\"#383838\" rx=\"2\" ry=\"2\" style=\"stroke: #383838; stroke-width: 1.0;\"/><ellipse cx=\"197.2802\" cy=\"401.1863\" fill=\"#383838\" rx=\"2\" ry=\"2\" style=\"stroke: #383838; stroke-width: 1.0;\"/></a><!--MD5=[9ae28de373ca99bb8a1b38d63370ca7e]\n",
       "reverse link E5 to E9--><a href=\"psysml:a1ab5fdf-7d24-4497-9ea2-3c4d95277eba\" target=\"_top\" title=\"psysml:a1ab5fdf-7d24-4497-9ea2-3c4d95277eba\" xlink:actuate=\"onRequest\" xlink:href=\"psysml:a1ab5fdf-7d24-4497-9ea2-3c4d95277eba\" xlink:show=\"new\" xlink:title=\"psysml:a1ab5fdf-7d24-4497-9ea2-3c4d95277eba\" xlink:type=\"simple\"><path d=\"M416.08,92.77 C447.78,108.48 481.27,131.61 499.32,164 C509.27,181.86 510.51,192.89 499.32,210 C490.86,222.92 478.41,232.65 464.71,239.97 \" fill=\"none\" id=\"E5&lt;-E9\" style=\"stroke: #383838; stroke-width: 1.0;\"/><polygon fill=\"#FFFFFF\" points=\"404.06,87.11,407.7814,93.2867,414.9142,92.2272,411.1928,86.0505,404.06,87.11\" style=\"stroke: #383838; stroke-width: 1.0;\"/><text fill=\"#000000\" font-family=\"sans-serif\" font-size=\"13\" lengthAdjust=\"spacingAndGlyphs\" textLength=\"8\" x=\"477.3099\" y=\"229.2386\">1</text></a><!--MD5=[5c3bb36fe832a92c7f0e1807dd65209d]\n",
       "link E9 to E2--><a href=\"psysml:9bedaae2-b2c6-4d70-8011-f34c154ea99f\" target=\"_top\" title=\"psysml:9bedaae2-b2c6-4d70-8011-f34c154ea99f\" xlink:actuate=\"onRequest\" xlink:href=\"psysml:9bedaae2-b2c6-4d70-8011-f34c154ea99f\" xlink:show=\"new\" xlink:title=\"psysml:9bedaae2-b2c6-4d70-8011-f34c154ea99f\" xlink:type=\"simple\"><path d=\"M291.19,285.15 C275.57,292.56 260.94,302.55 250.32,316 C231.17,340.25 227.04,375.32 227.36,402.77 \" fill=\"none\" id=\"E9-&gt;E2\" style=\"stroke: #383838; stroke-width: 1.0;\"/><polygon fill=\"#FFFFFF\" points=\"228.36,422.81,220.4186,404.1838,234.4011,403.4837,228.36,422.81\" style=\"stroke: #383838; stroke-width: 1.0;\"/><ellipse cx=\"222.131\" cy=\"398.3909\" fill=\"#383838\" rx=\"2\" ry=\"2\" style=\"stroke: #383838; stroke-width: 1.0;\"/><ellipse cx=\"232.1185\" cy=\"397.8909\" fill=\"#383838\" rx=\"2\" ry=\"2\" style=\"stroke: #383838; stroke-width: 1.0;\"/></a><!--MD5=[df9d77cbdbf82190cc8ba0a2aabfea3d]\n",
       "@startuml\r\n",
       "top to bottom direction\r\n",
       "skinparam monochrome true\r\n",
       "skinparam classbackgroundcolor white\r\n",
       "skinparam shadowing false\r\n",
       "skinparam wrapWidth 300\r\n",
       "hide circle\r\n",
       "\r\n",
       "package \"TradeStudyTest\" as E1  [[psysml:e59f1b4e-bf48-44e5-8b03-de7ba4c0da2b ]]  {\r\n",
       "comp def \"Engine\" as E2  <<(T,blue) part def>> [[psysml:8032ee8b-b45e-4aab-a334-ddc7f77ca09b ]] {\r\n",
       "}\r\n",
       "comp usage \"engine1: Engine\" as E3  <<(T,blue) part>> [[psysml:d1c59f8e-91b7-4873-9a7c-d548f1a74ff0 ]] {\r\n",
       "}\r\n",
       "comp usage \"engine2: Engine\" as E4  <<(T,blue) part>> [[psysml:b8b914f7-6e3e-418c-a7c7-b0f9195d6204 ]] {\r\n",
       "}\r\n",
       "comp usage \"engineTradeStudy: TradeStudy\" as E5 << analysis>> [[psysml:d010e11c-db6d-479b-b98e-aa7ac12f08dc ]] {\r\n",
       "}\r\n",
       "comp usage \"tradeStudyObjective: MaximizeObjective\" as E6  <<(T,blue) requirement>> [[psysml:baa50d6d-f728-4fdb-a3d8-0324d2e9c263 ]] {\r\n",
       "}\r\n",
       "comp usage \"objectiveFunction\" as E7  <<(T,blue) calculation>> [[psysml:c3bcbf7c-d2b8-4beb-b9e4-ef0b91eba9be ]] {\r\n",
       "}\r\n",
       "comp usage \"alternative: Engine\" as E8  <<(T,blue) part>> [[psysml:c18a795f-fd76-4ffb-a70d-e612388b917b ]] {\r\n",
       "}\r\n",
       "comp usage \"selectedAlternative: Engine\" as E9  <<(T,blue) part>> [[psysml:854815c3-8ae1-4c3d-a371-f12eec0f41ab ]] {\r\n",
       "}\r\n",
       "}\r\n",
       "E3 - -:|> E2 [[psysml:a477e10c-c644-4ab8-a0d7-73b747f4931b ]] \r\n",
       "E4 - -:|> E2 [[psysml:006a8138-edc7-4443-807d-fbbb291c6f87 ]] \r\n",
       "E5 ..> E2 [[psysml:0f7006cc-acd6-40d1-b198-a80e8f08765e ]] : <<subject>>\r\n",
       "E5 - ->> E6 [[psysml:33b70aea-82ec-44f7-8a12-3ec54376cb03 ]] : <<objective>>\r\n",
       "E5 *- - E7 [[psysml:9ca3a684-dbe3-4511-9e21-3cef746855e2 ]] \r\n",
       "E7 o- - \"1\"E8 [[psysml:8f87ba26-7a36-4a80-9ed1-e463a907c7c6 ]] \r\n",
       "E8 - -:|> E2 [[psysml:bdf7178e-b1d2-4aa0-b7b5-71013aa1f7a9 ]] \r\n",
       "E5 o- - \"1\"E9 [[psysml:a1ab5fdf-7d24-4497-9ea2-3c4d95277eba ]] \r\n",
       "E9 - -:|> E2 [[psysml:9bedaae2-b2c6-4d70-8011-f34c154ea99f ]] \r\n",
       "@enduml\r\n",
       "\n",
       "PlantUML version 1.2020.13(Sat Jun 13 12:26:38 UTC 2020)\n",
       "(EPL source distribution)\n",
       "Java Runtime: OpenJDK Runtime Environment\n",
       "JVM: OpenJDK 64-Bit Server VM\n",
       "Default Encoding: UTF-8\n",
       "Language: en\n",
       "Country: null\n",
       "--></g></svg>"
      ]
     },
     "execution_count": 50,
     "metadata": {},
     "output_type": "execute_result"
    }
   ],
   "source": [
    "%viz --style=\"TB\" --view=\"MIXED\" \"TradeStudyTest\""
   ]
  },
  {
   "cell_type": "code",
   "execution_count": 51,
   "id": "a789bed6",
   "metadata": {
    "execution": {
     "iopub.execute_input": "2021-09-27T07:19:37.926516Z",
     "iopub.status.busy": "2021-09-27T07:19:37.926084Z",
     "iopub.status.idle": "2021-09-27T07:19:37.963571Z",
     "shell.execute_reply": "2021-09-27T07:19:37.962148Z"
    }
   },
   "outputs": [
    {
     "data": {
      "image/svg+xml": [
       "<?xml version=\"1.0\" encoding=\"UTF-8\" standalone=\"no\"?><svg xmlns=\"http://www.w3.org/2000/svg\" xmlns:xlink=\"http://www.w3.org/1999/xlink\" contentScriptType=\"application/ecmascript\" contentStyleType=\"text/css\" height=\"497px\" preserveAspectRatio=\"none\" style=\"width:554px;height:497px;\" version=\"1.1\" viewBox=\"0 0 554 497\" width=\"554px\" zoomAndPan=\"magnify\"><defs/><g><!--MD5=[fbc87193dbaf4d95561dea2c320d4a47]\n",
       "cluster E1--><a href=\"psysml:e59f1b4e-bf48-44e5-8b03-de7ba4c0da2b\" target=\"_top\" title=\"psysml:e59f1b4e-bf48-44e5-8b03-de7ba4c0da2b\" xlink:actuate=\"onRequest\" xlink:href=\"psysml:e59f1b4e-bf48-44e5-8b03-de7ba4c0da2b\" xlink:show=\"new\" xlink:title=\"psysml:e59f1b4e-bf48-44e5-8b03-de7ba4c0da2b\" xlink:type=\"simple\"><polygon fill=\"#FFFFFF\" points=\"16,6,132,6,139,28.2969,532,28.2969,532,485,16,485,16,6\" style=\"stroke: #000000; stroke-width: 1.5;\"/><line style=\"stroke: #000000; stroke-width: 1.5;\" x1=\"16\" x2=\"139\" y1=\"28.2969\" y2=\"28.2969\"/><text fill=\"#000000\" font-family=\"sans-serif\" font-size=\"14\" font-weight=\"bold\" lengthAdjust=\"spacingAndGlyphs\" textLength=\"110\" x=\"20\" y=\"20.9951\">TradeStudyTest</text></a><!--MD5=[b4997ac47864f28c2f74865a473b2911]\n",
       "class E2--><a href=\"psysml:8032ee8b-b45e-4aab-a334-ddc7f77ca09b\" target=\"_top\" title=\"psysml:8032ee8b-b45e-4aab-a334-ddc7f77ca09b\" xlink:actuate=\"onRequest\" xlink:href=\"psysml:8032ee8b-b45e-4aab-a334-ddc7f77ca09b\" xlink:show=\"new\" xlink:title=\"psysml:8032ee8b-b45e-4aab-a334-ddc7f77ca09b\" xlink:type=\"simple\"><rect fill=\"#FFFFFF\" height=\"45.9375\" id=\"E2\" style=\"stroke: #383838; stroke-width: 1.5;\" width=\"66\" x=\"196\" y=\"423\"/><text fill=\"#000000\" font-family=\"sans-serif\" font-size=\"12\" font-style=\"italic\" lengthAdjust=\"spacingAndGlyphs\" textLength=\"64\" x=\"197\" y=\"439.1387\">«part def»</text><text fill=\"#000000\" font-family=\"sans-serif\" font-size=\"12\" lengthAdjust=\"spacingAndGlyphs\" textLength=\"43\" x=\"207.5\" y=\"453.1074\">Engine</text><line style=\"stroke: #383838; stroke-width: 1.5;\" x1=\"197\" x2=\"261\" y1=\"460.9375\" y2=\"460.9375\"/></a><!--MD5=[09b614a08d8cba4a07c9adeb5e0fee81]\n",
       "class E3--><a href=\"psysml:d1c59f8e-91b7-4873-9a7c-d548f1a74ff0\" target=\"_top\" title=\"psysml:d1c59f8e-91b7-4873-9a7c-d548f1a74ff0\" xlink:actuate=\"onRequest\" xlink:href=\"psysml:d1c59f8e-91b7-4873-9a7c-d548f1a74ff0\" xlink:show=\"new\" xlink:title=\"psysml:d1c59f8e-91b7-4873-9a7c-d548f1a74ff0\" xlink:type=\"simple\"><rect fill=\"#FFFFFF\" height=\"45.9375\" id=\"E3\" rx=\"10\" ry=\"10\" style=\"stroke: #383838; stroke-width: 1.5;\" width=\"108\" x=\"408\" y=\"316\"/><text fill=\"#000000\" font-family=\"sans-serif\" font-size=\"12\" font-style=\"italic\" lengthAdjust=\"spacingAndGlyphs\" textLength=\"40\" x=\"442\" y=\"332.1387\">«part»</text><text fill=\"#000000\" font-family=\"sans-serif\" font-size=\"12\" lengthAdjust=\"spacingAndGlyphs\" textLength=\"102\" x=\"411\" y=\"346.1074\">engine1: Engine</text><line style=\"stroke: #383838; stroke-width: 1.5;\" x1=\"409\" x2=\"515\" y1=\"353.9375\" y2=\"353.9375\"/></a><!--MD5=[ebbe1d658d1005bcc118a6aa81145e00]\n",
       "class E4--><a href=\"psysml:b8b914f7-6e3e-418c-a7c7-b0f9195d6204\" target=\"_top\" title=\"psysml:b8b914f7-6e3e-418c-a7c7-b0f9195d6204\" xlink:actuate=\"onRequest\" xlink:href=\"psysml:b8b914f7-6e3e-418c-a7c7-b0f9195d6204\" xlink:show=\"new\" xlink:title=\"psysml:b8b914f7-6e3e-418c-a7c7-b0f9195d6204\" xlink:type=\"simple\"><rect fill=\"#FFFFFF\" height=\"45.9375\" id=\"E4\" rx=\"10\" ry=\"10\" style=\"stroke: #383838; stroke-width: 1.5;\" width=\"108\" x=\"265\" y=\"316\"/><text fill=\"#000000\" font-family=\"sans-serif\" font-size=\"12\" font-style=\"italic\" lengthAdjust=\"spacingAndGlyphs\" textLength=\"40\" x=\"299\" y=\"332.1387\">«part»</text><text fill=\"#000000\" font-family=\"sans-serif\" font-size=\"12\" lengthAdjust=\"spacingAndGlyphs\" textLength=\"102\" x=\"268\" y=\"346.1074\">engine2: Engine</text><line style=\"stroke: #383838; stroke-width: 1.5;\" x1=\"266\" x2=\"372\" y1=\"353.9375\" y2=\"353.9375\"/></a><!--MD5=[270fce915f116d4de14055a7c1d9a0f3]\n",
       "class E5--><a href=\"psysml:d010e11c-db6d-479b-b98e-aa7ac12f08dc\" target=\"_top\" title=\"psysml:d010e11c-db6d-479b-b98e-aa7ac12f08dc\" xlink:actuate=\"onRequest\" xlink:href=\"psysml:d010e11c-db6d-479b-b98e-aa7ac12f08dc\" xlink:show=\"new\" xlink:title=\"psysml:d010e11c-db6d-479b-b98e-aa7ac12f08dc\" xlink:type=\"simple\"><rect fill=\"#FFFFFF\" height=\"45.9375\" id=\"E5\" rx=\"10\" ry=\"10\" style=\"stroke: #383838; stroke-width: 1.5;\" width=\"199\" x=\"237.5\" y=\"41\"/><text fill=\"#000000\" font-family=\"sans-serif\" font-size=\"12\" font-style=\"italic\" lengthAdjust=\"spacingAndGlyphs\" textLength=\"64\" x=\"305\" y=\"57.1387\">«analysis»</text><text fill=\"#000000\" font-family=\"sans-serif\" font-size=\"12\" lengthAdjust=\"spacingAndGlyphs\" textLength=\"193\" x=\"240.5\" y=\"71.1074\">engineTradeStudy: TradeStudy</text><line style=\"stroke: #383838; stroke-width: 1.5;\" x1=\"238.5\" x2=\"435.5\" y1=\"78.9375\" y2=\"78.9375\"/></a><!--MD5=[60a26617385b1d2d0262a64233df1f8d]\n",
       "class E6--><a href=\"psysml:baa50d6d-f728-4fdb-a3d8-0324d2e9c263\" target=\"_top\" title=\"psysml:baa50d6d-f728-4fdb-a3d8-0324d2e9c263\" xlink:actuate=\"onRequest\" xlink:href=\"psysml:baa50d6d-f728-4fdb-a3d8-0324d2e9c263\" xlink:show=\"new\" xlink:title=\"psysml:baa50d6d-f728-4fdb-a3d8-0324d2e9c263\" xlink:type=\"simple\"><rect fill=\"#FFFFFF\" height=\"45.9375\" id=\"E6\" rx=\"10\" ry=\"10\" style=\"stroke: #383838; stroke-width: 1.5;\" width=\"251\" x=\"76.5\" y=\"164\"/><text fill=\"#000000\" font-family=\"sans-serif\" font-size=\"12\" font-style=\"italic\" lengthAdjust=\"spacingAndGlyphs\" textLength=\"91\" x=\"156.5\" y=\"180.1387\">«requirement»</text><text fill=\"#000000\" font-family=\"sans-serif\" font-size=\"12\" lengthAdjust=\"spacingAndGlyphs\" textLength=\"245\" x=\"79.5\" y=\"194.1074\">tradeStudyObjective: MaximizeObjective</text><line style=\"stroke: #383838; stroke-width: 1.5;\" x1=\"77.5\" x2=\"326.5\" y1=\"201.9375\" y2=\"201.9375\"/></a><!--MD5=[2156ba9850f5573cc1fc38a6a4b2f02b]\n",
       "class E7--><a href=\"psysml:c3bcbf7c-d2b8-4beb-b9e4-ef0b91eba9be\" target=\"_top\" title=\"psysml:c3bcbf7c-d2b8-4beb-b9e4-ef0b91eba9be\" xlink:actuate=\"onRequest\" xlink:href=\"psysml:c3bcbf7c-d2b8-4beb-b9e4-ef0b91eba9be\" xlink:show=\"new\" xlink:title=\"psysml:c3bcbf7c-d2b8-4beb-b9e4-ef0b91eba9be\" xlink:type=\"simple\"><rect fill=\"#FFFFFF\" height=\"45.9375\" id=\"E7\" rx=\"10\" ry=\"10\" style=\"stroke: #383838; stroke-width: 1.5;\" width=\"116\" x=\"363\" y=\"164\"/><text fill=\"#000000\" font-family=\"sans-serif\" font-size=\"12\" font-style=\"italic\" lengthAdjust=\"spacingAndGlyphs\" textLength=\"82\" x=\"380\" y=\"180.1387\">«calculation»</text><text fill=\"#000000\" font-family=\"sans-serif\" font-size=\"12\" lengthAdjust=\"spacingAndGlyphs\" textLength=\"110\" x=\"366\" y=\"194.1074\">objectiveFunction</text><line style=\"stroke: #383838; stroke-width: 1.5;\" x1=\"364\" x2=\"478\" y1=\"201.9375\" y2=\"201.9375\"/></a><!--MD5=[b9389687b975829384b498ac4b7476b2]\n",
       "class E8--><a href=\"psysml:c18a795f-fd76-4ffb-a70d-e612388b917b\" target=\"_top\" title=\"psysml:c18a795f-fd76-4ffb-a70d-e612388b917b\" xlink:actuate=\"onRequest\" xlink:href=\"psysml:c18a795f-fd76-4ffb-a70d-e612388b917b\" xlink:show=\"new\" xlink:title=\"psysml:c18a795f-fd76-4ffb-a70d-e612388b917b\" xlink:type=\"simple\"><rect fill=\"#FFFFFF\" height=\"45.9375\" id=\"E8\" rx=\"10\" ry=\"10\" style=\"stroke: #383838; stroke-width: 1.5;\" width=\"124\" x=\"69\" y=\"316\"/><text fill=\"#000000\" font-family=\"sans-serif\" font-size=\"12\" font-style=\"italic\" lengthAdjust=\"spacingAndGlyphs\" textLength=\"40\" x=\"111\" y=\"332.1387\">«part»</text><text fill=\"#000000\" font-family=\"sans-serif\" font-size=\"12\" lengthAdjust=\"spacingAndGlyphs\" textLength=\"118\" x=\"72\" y=\"346.1074\">alternative: Engine</text><line style=\"stroke: #383838; stroke-width: 1.5;\" x1=\"70\" x2=\"192\" y1=\"353.9375\" y2=\"353.9375\"/></a><!--MD5=[fd4143e9d270a159db93a4ea2a975926]\n",
       "class E9--><a href=\"psysml:854815c3-8ae1-4c3d-a371-f12eec0f41ab\" target=\"_top\" title=\"psysml:854815c3-8ae1-4c3d-a371-f12eec0f41ab\" xlink:actuate=\"onRequest\" xlink:href=\"psysml:854815c3-8ae1-4c3d-a371-f12eec0f41ab\" xlink:show=\"new\" xlink:title=\"psysml:854815c3-8ae1-4c3d-a371-f12eec0f41ab\" xlink:type=\"simple\"><rect fill=\"#FFFFFF\" height=\"45.9375\" id=\"E9\" rx=\"10\" ry=\"10\" style=\"stroke: #383838; stroke-width: 1.5;\" width=\"178\" x=\"289\" y=\"240\"/><text fill=\"#000000\" font-family=\"sans-serif\" font-size=\"12\" font-style=\"italic\" lengthAdjust=\"spacingAndGlyphs\" textLength=\"40\" x=\"358\" y=\"256.1387\">«part»</text><text fill=\"#000000\" font-family=\"sans-serif\" font-size=\"12\" lengthAdjust=\"spacingAndGlyphs\" textLength=\"172\" x=\"292\" y=\"270.1074\">selectedAlternative: Engine</text><line style=\"stroke: #383838; stroke-width: 1.5;\" x1=\"290\" x2=\"466\" y1=\"277.9375\" y2=\"277.9375\"/></a><!--MD5=[05d275557350bfb9b23a4ef7222b4c39]\n",
       "link E3 to E2--><a href=\"psysml:a477e10c-c644-4ab8-a0d7-73b747f4931b\" target=\"_top\" title=\"psysml:a477e10c-c644-4ab8-a0d7-73b747f4931b\" xlink:actuate=\"onRequest\" xlink:href=\"psysml:a477e10c-c644-4ab8-a0d7-73b747f4931b\" xlink:show=\"new\" xlink:title=\"psysml:a477e10c-c644-4ab8-a0d7-73b747f4931b\" xlink:type=\"simple\"><path d=\"M462,362.22 C462,393.69 462,446 462,446 C462,446 282.38,446 282.38,446 \" fill=\"none\" id=\"E3-&gt;E2\" style=\"stroke: #383838; stroke-width: 1.0;\"/><polygon fill=\"#FFFFFF\" points=\"262.38,446,281.38,439,281.38,453,262.38,446\" style=\"stroke: #383838; stroke-width: 1.0;\"/><ellipse cx=\"287.08\" cy=\"441\" fill=\"#383838\" rx=\"2\" ry=\"2\" style=\"stroke: #383838; stroke-width: 1.0;\"/><ellipse cx=\"287.08\" cy=\"451\" fill=\"#383838\" rx=\"2\" ry=\"2\" style=\"stroke: #383838; stroke-width: 1.0;\"/></a><!--MD5=[185131fc0dcab0a4505a2ebe144e961b]\n",
       "link E4 to E2--><a href=\"psysml:006a8138-edc7-4443-807d-fbbb291c6f87\" target=\"_top\" title=\"psysml:006a8138-edc7-4443-807d-fbbb291c6f87\" xlink:actuate=\"onRequest\" xlink:href=\"psysml:006a8138-edc7-4443-807d-fbbb291c6f87\" xlink:show=\"new\" xlink:title=\"psysml:006a8138-edc7-4443-807d-fbbb291c6f87\" xlink:type=\"simple\"><path d=\"M264.73,347 C255.49,347 248.8,347 248.8,347 C248.8,347 248.8,402.79 248.8,402.79 \" fill=\"none\" id=\"E4-&gt;E2\" style=\"stroke: #383838; stroke-width: 1.0;\"/><polygon fill=\"#FFFFFF\" points=\"248.8,422.79,241.8,403.79,255.8,403.79,248.8,422.79\" style=\"stroke: #383838; stroke-width: 1.0;\"/><ellipse cx=\"243.8\" cy=\"398.09\" fill=\"#383838\" rx=\"2\" ry=\"2\" style=\"stroke: #383838; stroke-width: 1.0;\"/><ellipse cx=\"253.8\" cy=\"398.09\" fill=\"#383838\" rx=\"2\" ry=\"2\" style=\"stroke: #383838; stroke-width: 1.0;\"/></a><!--MD5=[15ebcb19ae302d9b601edb458606d402]\n",
       "link E5 to E2--><a href=\"psysml:0f7006cc-acd6-40d1-b198-a80e8f08765e\" target=\"_top\" title=\"psysml:0f7006cc-acd6-40d1-b198-a80e8f08765e\" xlink:actuate=\"onRequest\" xlink:href=\"psysml:0f7006cc-acd6-40d1-b198-a80e8f08765e\" xlink:show=\"new\" xlink:title=\"psysml:0f7006cc-acd6-40d1-b198-a80e8f08765e\" xlink:type=\"simple\"><path d=\"M339.33,87.02 C339.33,130.41 339.33,220 339.33,220 C339.33,220 222.4,220 222.4,220 C222.4,220 222.4,417.67 222.4,417.67 \" fill=\"none\" id=\"E5-&gt;E2\" style=\"stroke: #383838; stroke-width: 1.0; stroke-dasharray: 7.0,7.0;\"/><polygon fill=\"#383838\" points=\"222.4,422.67,226.4,413.67,222.4,417.67,218.4,413.67,222.4,422.67\" style=\"stroke: #383838; stroke-width: 1.0;\"/><text fill=\"#000000\" font-family=\"sans-serif\" font-size=\"13\" lengthAdjust=\"spacingAndGlyphs\" textLength=\"62\" x=\"68\" y=\"267.5669\">«subject»</text></a><!--MD5=[9120cf2e5df3bff93db8f754bbbc09b4]\n",
       "link E5 to E6--><a href=\"psysml:33b70aea-82ec-44f7-8a12-3ec54376cb03\" target=\"_top\" title=\"psysml:33b70aea-82ec-44f7-8a12-3ec54376cb03\" xlink:actuate=\"onRequest\" xlink:href=\"psysml:33b70aea-82ec-44f7-8a12-3ec54376cb03\" xlink:show=\"new\" xlink:title=\"psysml:33b70aea-82ec-44f7-8a12-3ec54376cb03\" xlink:type=\"simple\"><path d=\"M282.5,87.14 C282.5,87.14 282.5,155.97 282.5,155.97 \" fill=\"none\" id=\"E5-&gt;E6\" style=\"stroke: #383838; stroke-width: 1.0;\"/><polygon fill=\"#383838\" points=\"282.5,163.97,285.5,155.97,279.5,155.97,282.5,163.97\" style=\"stroke: #383838; stroke-width: 1.0;\"/><text fill=\"#000000\" font-family=\"sans-serif\" font-size=\"13\" lengthAdjust=\"spacingAndGlyphs\" textLength=\"73\" x=\"231\" y=\"130.0669\">«objective»</text></a><!--MD5=[452b418e7f8a40397a49b8c0a78acc5b]\n",
       "reverse link E5 to E7--><a href=\"psysml:9ca3a684-dbe3-4511-9e21-3cef746855e2\" target=\"_top\" title=\"psysml:9ca3a684-dbe3-4511-9e21-3cef746855e2\" xlink:actuate=\"onRequest\" xlink:href=\"psysml:9ca3a684-dbe3-4511-9e21-3cef746855e2\" xlink:show=\"new\" xlink:title=\"psysml:9ca3a684-dbe3-4511-9e21-3cef746855e2\" xlink:type=\"simple\"><path d=\"M399.75,100.14 C399.75,100.14 399.75,163.97 399.75,163.97 \" fill=\"none\" id=\"E5&lt;-E7\" style=\"stroke: #383838; stroke-width: 1.0;\"/><polygon fill=\"#383838\" points=\"399.75,87.14,395.75,93.14,399.75,99.14,403.75,93.14,399.75,87.14\" style=\"stroke: #383838; stroke-width: 1.0;\"/></a><!--MD5=[dc164f5e8a733ab456ef1add180e9e34]\n",
       "reverse link E7 to E8--><a href=\"psysml:8f87ba26-7a36-4a80-9ed1-e463a907c7c6\" target=\"_top\" title=\"psysml:8f87ba26-7a36-4a80-9ed1-e463a907c7c6\" xlink:actuate=\"onRequest\" xlink:href=\"psysml:8f87ba26-7a36-4a80-9ed1-e463a907c7c6\" xlink:show=\"new\" xlink:title=\"psysml:8f87ba26-7a36-4a80-9ed1-e463a907c7c6\" xlink:type=\"simple\"><path d=\"M415,223.01 C415,223.01 415,230 415,230 C415,230 134.75,230 134.75,230 C134.75,230 134.75,283.89 134.75,315.88 \" fill=\"none\" id=\"E7&lt;-E8\" style=\"stroke: #383838; stroke-width: 1.0;\"/><polygon fill=\"#FFFFFF\" points=\"415,210.01,411,216.01,415,222.01,419,216.01,415,210.01\" style=\"stroke: #383838; stroke-width: 1.0;\"/><text fill=\"#000000\" font-family=\"sans-serif\" font-size=\"13\" lengthAdjust=\"spacingAndGlyphs\" textLength=\"8\" x=\"126.6828\" y=\"304.744\">1</text></a><!--MD5=[f1f3f9f2fc535e6147756cb86a7f2e32]\n",
       "link E8 to E2--><a href=\"psysml:bdf7178e-b1d2-4aa0-b7b5-71013aa1f7a9\" target=\"_top\" title=\"psysml:bdf7178e-b1d2-4aa0-b7b5-71013aa1f7a9\" xlink:actuate=\"onRequest\" xlink:href=\"psysml:bdf7178e-b1d2-4aa0-b7b5-71013aa1f7a9\" xlink:show=\"new\" xlink:title=\"psysml:bdf7178e-b1d2-4aa0-b7b5-71013aa1f7a9\" xlink:type=\"simple\"><path d=\"M193.38,332 C202.67,332 209.2,332 209.2,332 C209.2,332 209.2,402.93 209.2,402.93 \" fill=\"none\" id=\"E8-&gt;E2\" style=\"stroke: #383838; stroke-width: 1.0;\"/><polygon fill=\"#FFFFFF\" points=\"209.2,422.93,202.2,403.93,216.2,403.93,209.2,422.93\" style=\"stroke: #383838; stroke-width: 1.0;\"/><ellipse cx=\"204.2\" cy=\"398.23\" fill=\"#383838\" rx=\"2\" ry=\"2\" style=\"stroke: #383838; stroke-width: 1.0;\"/><ellipse cx=\"214.2\" cy=\"398.23\" fill=\"#383838\" rx=\"2\" ry=\"2\" style=\"stroke: #383838; stroke-width: 1.0;\"/></a><!--MD5=[9ae28de373ca99bb8a1b38d63370ca7e]\n",
       "reverse link E5 to E9--><a href=\"psysml:a1ab5fdf-7d24-4497-9ea2-3c4d95277eba\" target=\"_top\" title=\"psysml:a1ab5fdf-7d24-4497-9ea2-3c4d95277eba\" xlink:actuate=\"onRequest\" xlink:href=\"psysml:a1ab5fdf-7d24-4497-9ea2-3c4d95277eba\" xlink:show=\"new\" xlink:title=\"psysml:a1ab5fdf-7d24-4497-9ea2-3c4d95277eba\" xlink:type=\"simple\"><path d=\"M351.17,100.22 C351.17,100.22 351.17,239.93 351.17,239.93 \" fill=\"none\" id=\"E5&lt;-E9\" style=\"stroke: #383838; stroke-width: 1.0;\"/><polygon fill=\"#FFFFFF\" points=\"351.17,87.22,347.17,93.22,351.17,99.22,355.17,93.22,351.17,87.22\" style=\"stroke: #383838; stroke-width: 1.0;\"/><text fill=\"#000000\" font-family=\"sans-serif\" font-size=\"13\" lengthAdjust=\"spacingAndGlyphs\" textLength=\"8\" x=\"334.8844\" y=\"228.8075\">1</text></a><!--MD5=[5c3bb36fe832a92c7f0e1807dd65209d]\n",
       "link E9 to E2--><a href=\"psysml:9bedaae2-b2c6-4d70-8011-f34c154ea99f\" target=\"_top\" title=\"psysml:9bedaae2-b2c6-4d70-8011-f34c154ea99f\" xlink:actuate=\"onRequest\" xlink:href=\"psysml:9bedaae2-b2c6-4d70-8011-f34c154ea99f\" xlink:show=\"new\" xlink:title=\"psysml:9bedaae2-b2c6-4d70-8011-f34c154ea99f\" xlink:type=\"simple\"><path d=\"M288.62,263 C260.01,263 235.6,263 235.6,263 C235.6,263 235.6,402.82 235.6,402.82 \" fill=\"none\" id=\"E9-&gt;E2\" style=\"stroke: #383838; stroke-width: 1.0;\"/><polygon fill=\"#FFFFFF\" points=\"235.6,422.82,228.6,403.82,242.6,403.82,235.6,422.82\" style=\"stroke: #383838; stroke-width: 1.0;\"/><ellipse cx=\"230.6\" cy=\"398.12\" fill=\"#383838\" rx=\"2\" ry=\"2\" style=\"stroke: #383838; stroke-width: 1.0;\"/><ellipse cx=\"240.6\" cy=\"398.12\" fill=\"#383838\" rx=\"2\" ry=\"2\" style=\"stroke: #383838; stroke-width: 1.0;\"/></a><!--MD5=[56158c197a115ca9f757edbfaf89032b]\n",
       "@startuml\r\n",
       "skinparam linetype ortho\r\n",
       "skinparam monochrome true\r\n",
       "skinparam classbackgroundcolor white\r\n",
       "skinparam shadowing false\r\n",
       "skinparam wrapWidth 300\r\n",
       "hide circle\r\n",
       "\r\n",
       "package \"TradeStudyTest\" as E1  [[psysml:e59f1b4e-bf48-44e5-8b03-de7ba4c0da2b ]]  {\r\n",
       "comp def \"Engine\" as E2  <<(T,blue) part def>> [[psysml:8032ee8b-b45e-4aab-a334-ddc7f77ca09b ]] {\r\n",
       "}\r\n",
       "comp usage \"engine1: Engine\" as E3  <<(T,blue) part>> [[psysml:d1c59f8e-91b7-4873-9a7c-d548f1a74ff0 ]] {\r\n",
       "}\r\n",
       "comp usage \"engine2: Engine\" as E4  <<(T,blue) part>> [[psysml:b8b914f7-6e3e-418c-a7c7-b0f9195d6204 ]] {\r\n",
       "}\r\n",
       "comp usage \"engineTradeStudy: TradeStudy\" as E5 << analysis>> [[psysml:d010e11c-db6d-479b-b98e-aa7ac12f08dc ]] {\r\n",
       "}\r\n",
       "comp usage \"tradeStudyObjective: MaximizeObjective\" as E6  <<(T,blue) requirement>> [[psysml:baa50d6d-f728-4fdb-a3d8-0324d2e9c263 ]] {\r\n",
       "}\r\n",
       "comp usage \"objectiveFunction\" as E7  <<(T,blue) calculation>> [[psysml:c3bcbf7c-d2b8-4beb-b9e4-ef0b91eba9be ]] {\r\n",
       "}\r\n",
       "comp usage \"alternative: Engine\" as E8  <<(T,blue) part>> [[psysml:c18a795f-fd76-4ffb-a70d-e612388b917b ]] {\r\n",
       "}\r\n",
       "comp usage \"selectedAlternative: Engine\" as E9  <<(T,blue) part>> [[psysml:854815c3-8ae1-4c3d-a371-f12eec0f41ab ]] {\r\n",
       "}\r\n",
       "}\r\n",
       "E3 - -:|> E2 [[psysml:a477e10c-c644-4ab8-a0d7-73b747f4931b ]] \r\n",
       "E4 - -:|> E2 [[psysml:006a8138-edc7-4443-807d-fbbb291c6f87 ]] \r\n",
       "E5 ..> E2 [[psysml:0f7006cc-acd6-40d1-b198-a80e8f08765e ]] : <<subject>>\r\n",
       "E5 - ->> E6 [[psysml:33b70aea-82ec-44f7-8a12-3ec54376cb03 ]] : <<objective>>\r\n",
       "E5 *- - E7 [[psysml:9ca3a684-dbe3-4511-9e21-3cef746855e2 ]] \r\n",
       "E7 o- - \"1\"E8 [[psysml:8f87ba26-7a36-4a80-9ed1-e463a907c7c6 ]] \r\n",
       "E8 - -:|> E2 [[psysml:bdf7178e-b1d2-4aa0-b7b5-71013aa1f7a9 ]] \r\n",
       "E5 o- - \"1\"E9 [[psysml:a1ab5fdf-7d24-4497-9ea2-3c4d95277eba ]] \r\n",
       "E9 - -:|> E2 [[psysml:9bedaae2-b2c6-4d70-8011-f34c154ea99f ]] \r\n",
       "@enduml\r\n",
       "\n",
       "PlantUML version 1.2020.13(Sat Jun 13 12:26:38 UTC 2020)\n",
       "(EPL source distribution)\n",
       "Java Runtime: OpenJDK Runtime Environment\n",
       "JVM: OpenJDK 64-Bit Server VM\n",
       "Default Encoding: UTF-8\n",
       "Language: en\n",
       "Country: null\n",
       "--></g></svg>"
      ]
     },
     "execution_count": 51,
     "metadata": {},
     "output_type": "execute_result"
    }
   ],
   "source": [
    "%viz --style=\"ORTHOLINE\" --view=\"Default\" \"TradeStudyTest\""
   ]
  },
  {
   "cell_type": "code",
   "execution_count": 52,
   "id": "dd4249ab",
   "metadata": {
    "execution": {
     "iopub.execute_input": "2021-09-27T07:19:38.012758Z",
     "iopub.status.busy": "2021-09-27T07:19:38.012341Z",
     "iopub.status.idle": "2021-09-27T07:19:38.044913Z",
     "shell.execute_reply": "2021-09-27T07:19:38.043584Z"
    }
   },
   "outputs": [
    {
     "data": {
      "image/svg+xml": [
       "<?xml version=\"1.0\" encoding=\"UTF-8\" standalone=\"no\"?><svg xmlns=\"http://www.w3.org/2000/svg\" xmlns:xlink=\"http://www.w3.org/1999/xlink\" contentScriptType=\"application/ecmascript\" contentStyleType=\"text/css\" height=\"345px\" preserveAspectRatio=\"none\" style=\"width:955px;height:345px;\" version=\"1.1\" viewBox=\"0 0 955 345\" width=\"955px\" zoomAndPan=\"magnify\"><defs/><g><!--MD5=[fbc87193dbaf4d95561dea2c320d4a47]\n",
       "cluster E1--><a href=\"psysml:e59f1b4e-bf48-44e5-8b03-de7ba4c0da2b\" target=\"_top\" title=\"psysml:e59f1b4e-bf48-44e5-8b03-de7ba4c0da2b\" xlink:actuate=\"onRequest\" xlink:href=\"psysml:e59f1b4e-bf48-44e5-8b03-de7ba4c0da2b\" xlink:show=\"new\" xlink:title=\"psysml:e59f1b4e-bf48-44e5-8b03-de7ba4c0da2b\" xlink:type=\"simple\"><polygon fill=\"#FFFFFF\" points=\"16,6,132,6,139,28.2969,933,28.2969,933,333,16,333,16,6\" style=\"stroke: #000000; stroke-width: 1.5;\"/><line style=\"stroke: #000000; stroke-width: 1.5;\" x1=\"16\" x2=\"139\" y1=\"28.2969\" y2=\"28.2969\"/><text fill=\"#000000\" font-family=\"sans-serif\" font-size=\"14\" font-weight=\"bold\" lengthAdjust=\"spacingAndGlyphs\" textLength=\"110\" x=\"20\" y=\"20.9951\">TradeStudyTest</text></a><!--MD5=[b4997ac47864f28c2f74865a473b2911]\n",
       "class E2--><a href=\"psysml:8032ee8b-b45e-4aab-a334-ddc7f77ca09b\" target=\"_top\" title=\"psysml:8032ee8b-b45e-4aab-a334-ddc7f77ca09b\" xlink:actuate=\"onRequest\" xlink:href=\"psysml:8032ee8b-b45e-4aab-a334-ddc7f77ca09b\" xlink:show=\"new\" xlink:title=\"psysml:8032ee8b-b45e-4aab-a334-ddc7f77ca09b\" xlink:type=\"simple\"><rect fill=\"#FFFFFF\" height=\"45.9375\" id=\"E2\" style=\"stroke: #383838; stroke-width: 1.5;\" width=\"66\" x=\"598\" y=\"271\"/><text fill=\"#000000\" font-family=\"sans-serif\" font-size=\"12\" font-style=\"italic\" lengthAdjust=\"spacingAndGlyphs\" textLength=\"64\" x=\"599\" y=\"287.1387\">«part def»</text><text fill=\"#000000\" font-family=\"sans-serif\" font-size=\"12\" lengthAdjust=\"spacingAndGlyphs\" textLength=\"43\" x=\"609.5\" y=\"301.1074\">Engine</text><line style=\"stroke: #383838; stroke-width: 1.5;\" x1=\"599\" x2=\"663\" y1=\"308.9375\" y2=\"308.9375\"/></a><!--MD5=[09b614a08d8cba4a07c9adeb5e0fee81]\n",
       "class E3--><a href=\"psysml:d1c59f8e-91b7-4873-9a7c-d548f1a74ff0\" target=\"_top\" title=\"psysml:d1c59f8e-91b7-4873-9a7c-d548f1a74ff0\" xlink:actuate=\"onRequest\" xlink:href=\"psysml:d1c59f8e-91b7-4873-9a7c-d548f1a74ff0\" xlink:show=\"new\" xlink:title=\"psysml:d1c59f8e-91b7-4873-9a7c-d548f1a74ff0\" xlink:type=\"simple\"><rect fill=\"#FFFFFF\" height=\"45.9375\" id=\"E3\" rx=\"10\" ry=\"10\" style=\"stroke: #383838; stroke-width: 1.5;\" width=\"108\" x=\"809\" y=\"164\"/><text fill=\"#000000\" font-family=\"sans-serif\" font-size=\"12\" font-style=\"italic\" lengthAdjust=\"spacingAndGlyphs\" textLength=\"40\" x=\"843\" y=\"180.1387\">«part»</text><text fill=\"#000000\" font-family=\"sans-serif\" font-size=\"12\" lengthAdjust=\"spacingAndGlyphs\" textLength=\"102\" x=\"812\" y=\"194.1074\">engine1: Engine</text><line style=\"stroke: #383838; stroke-width: 1.5;\" x1=\"810\" x2=\"916\" y1=\"201.9375\" y2=\"201.9375\"/></a><!--MD5=[ebbe1d658d1005bcc118a6aa81145e00]\n",
       "class E4--><a href=\"psysml:b8b914f7-6e3e-418c-a7c7-b0f9195d6204\" target=\"_top\" title=\"psysml:b8b914f7-6e3e-418c-a7c7-b0f9195d6204\" xlink:actuate=\"onRequest\" xlink:href=\"psysml:b8b914f7-6e3e-418c-a7c7-b0f9195d6204\" xlink:show=\"new\" xlink:title=\"psysml:b8b914f7-6e3e-418c-a7c7-b0f9195d6204\" xlink:type=\"simple\"><rect fill=\"#FFFFFF\" height=\"45.9375\" id=\"E4\" rx=\"10\" ry=\"10\" style=\"stroke: #383838; stroke-width: 1.5;\" width=\"108\" x=\"666\" y=\"164\"/><text fill=\"#000000\" font-family=\"sans-serif\" font-size=\"12\" font-style=\"italic\" lengthAdjust=\"spacingAndGlyphs\" textLength=\"40\" x=\"700\" y=\"180.1387\">«part»</text><text fill=\"#000000\" font-family=\"sans-serif\" font-size=\"12\" lengthAdjust=\"spacingAndGlyphs\" textLength=\"102\" x=\"669\" y=\"194.1074\">engine2: Engine</text><line style=\"stroke: #383838; stroke-width: 1.5;\" x1=\"667\" x2=\"773\" y1=\"201.9375\" y2=\"201.9375\"/></a><!--MD5=[270fce915f116d4de14055a7c1d9a0f3]\n",
       "class E5--><a href=\"psysml:d010e11c-db6d-479b-b98e-aa7ac12f08dc\" target=\"_top\" title=\"psysml:d010e11c-db6d-479b-b98e-aa7ac12f08dc\" xlink:actuate=\"onRequest\" xlink:href=\"psysml:d010e11c-db6d-479b-b98e-aa7ac12f08dc\" xlink:show=\"new\" xlink:title=\"psysml:d010e11c-db6d-479b-b98e-aa7ac12f08dc\" xlink:type=\"simple\"><rect fill=\"#FFFFFF\" height=\"45.9375\" id=\"E5\" rx=\"10\" ry=\"10\" style=\"stroke: #383838; stroke-width: 1.5;\" width=\"199\" x=\"192.5\" y=\"41\"/><text fill=\"#000000\" font-family=\"sans-serif\" font-size=\"12\" font-style=\"italic\" lengthAdjust=\"spacingAndGlyphs\" textLength=\"64\" x=\"260\" y=\"57.1387\">«analysis»</text><text fill=\"#000000\" font-family=\"sans-serif\" font-size=\"12\" lengthAdjust=\"spacingAndGlyphs\" textLength=\"193\" x=\"195.5\" y=\"71.1074\">engineTradeStudy: TradeStudy</text><line style=\"stroke: #383838; stroke-width: 1.5;\" x1=\"193.5\" x2=\"390.5\" y1=\"78.9375\" y2=\"78.9375\"/></a><!--MD5=[60a26617385b1d2d0262a64233df1f8d]\n",
       "class E6--><a href=\"psysml:baa50d6d-f728-4fdb-a3d8-0324d2e9c263\" target=\"_top\" title=\"psysml:baa50d6d-f728-4fdb-a3d8-0324d2e9c263\" xlink:actuate=\"onRequest\" xlink:href=\"psysml:baa50d6d-f728-4fdb-a3d8-0324d2e9c263\" xlink:show=\"new\" xlink:title=\"psysml:baa50d6d-f728-4fdb-a3d8-0324d2e9c263\" xlink:type=\"simple\"><rect fill=\"#FFFFFF\" height=\"45.9375\" id=\"E6\" rx=\"10\" ry=\"10\" style=\"stroke: #383838; stroke-width: 1.5;\" width=\"251\" x=\"166.5\" y=\"164\"/><text fill=\"#000000\" font-family=\"sans-serif\" font-size=\"12\" font-style=\"italic\" lengthAdjust=\"spacingAndGlyphs\" textLength=\"91\" x=\"246.5\" y=\"180.1387\">«requirement»</text><text fill=\"#000000\" font-family=\"sans-serif\" font-size=\"12\" lengthAdjust=\"spacingAndGlyphs\" textLength=\"245\" x=\"169.5\" y=\"194.1074\">tradeStudyObjective: MaximizeObjective</text><line style=\"stroke: #383838; stroke-width: 1.5;\" x1=\"167.5\" x2=\"416.5\" y1=\"201.9375\" y2=\"201.9375\"/></a><!--MD5=[2156ba9850f5573cc1fc38a6a4b2f02b]\n",
       "class E7--><a href=\"psysml:854815c3-8ae1-4c3d-a371-f12eec0f41ab\" target=\"_top\" title=\"psysml:854815c3-8ae1-4c3d-a371-f12eec0f41ab\" xlink:actuate=\"onRequest\" xlink:href=\"psysml:854815c3-8ae1-4c3d-a371-f12eec0f41ab\" xlink:show=\"new\" xlink:title=\"psysml:854815c3-8ae1-4c3d-a371-f12eec0f41ab\" xlink:type=\"simple\"><rect fill=\"#FFFFFF\" height=\"45.9375\" id=\"E7\" rx=\"10\" ry=\"10\" style=\"stroke: #383838; stroke-width: 1.5;\" width=\"178\" x=\"453\" y=\"164\"/><text fill=\"#000000\" font-family=\"sans-serif\" font-size=\"12\" font-style=\"italic\" lengthAdjust=\"spacingAndGlyphs\" textLength=\"40\" x=\"522\" y=\"180.1387\">«part»</text><text fill=\"#000000\" font-family=\"sans-serif\" font-size=\"12\" lengthAdjust=\"spacingAndGlyphs\" textLength=\"172\" x=\"456\" y=\"194.1074\">selectedAlternative: Engine</text><line style=\"stroke: #383838; stroke-width: 1.5;\" x1=\"454\" x2=\"630\" y1=\"201.9375\" y2=\"201.9375\"/></a><!--MD5=[05d275557350bfb9b23a4ef7222b4c39]\n",
       "link E3 to E2--><a href=\"psysml:a477e10c-c644-4ab8-a0d7-73b747f4931b\" target=\"_top\" title=\"psysml:a477e10c-c644-4ab8-a0d7-73b747f4931b\" xlink:actuate=\"onRequest\" xlink:href=\"psysml:a477e10c-c644-4ab8-a0d7-73b747f4931b\" xlink:show=\"new\" xlink:title=\"psysml:a477e10c-c644-4ab8-a0d7-73b747f4931b\" xlink:type=\"simple\"><path d=\"M863,210.22 C863,241.69 863,294 863,294 C863,294 684.24,294 684.24,294 \" fill=\"none\" id=\"E3-&gt;E2\" style=\"stroke: #383838; stroke-width: 1.0;\"/><polygon fill=\"#FFFFFF\" points=\"664.24,294,683.24,287,683.24,301,664.24,294\" style=\"stroke: #383838; stroke-width: 1.0;\"/><ellipse cx=\"688.94\" cy=\"289\" fill=\"#383838\" rx=\"2\" ry=\"2\" style=\"stroke: #383838; stroke-width: 1.0;\"/><ellipse cx=\"688.94\" cy=\"299\" fill=\"#383838\" rx=\"2\" ry=\"2\" style=\"stroke: #383838; stroke-width: 1.0;\"/></a><!--MD5=[185131fc0dcab0a4505a2ebe144e961b]\n",
       "link E4 to E2--><a href=\"psysml:006a8138-edc7-4443-807d-fbbb291c6f87\" target=\"_top\" title=\"psysml:006a8138-edc7-4443-807d-fbbb291c6f87\" xlink:actuate=\"onRequest\" xlink:href=\"psysml:006a8138-edc7-4443-807d-fbbb291c6f87\" xlink:show=\"new\" xlink:title=\"psysml:006a8138-edc7-4443-807d-fbbb291c6f87\" xlink:type=\"simple\"><path d=\"M665.92,187 C658.3,187 653,187 653,187 C653,187 653,250.78 653,250.78 \" fill=\"none\" id=\"E4-&gt;E2\" style=\"stroke: #383838; stroke-width: 1.0;\"/><polygon fill=\"#FFFFFF\" points=\"653,270.78,646,251.78,660,251.78,653,270.78\" style=\"stroke: #383838; stroke-width: 1.0;\"/><ellipse cx=\"648\" cy=\"246.08\" fill=\"#383838\" rx=\"2\" ry=\"2\" style=\"stroke: #383838; stroke-width: 1.0;\"/><ellipse cx=\"658\" cy=\"246.08\" fill=\"#383838\" rx=\"2\" ry=\"2\" style=\"stroke: #383838; stroke-width: 1.0;\"/></a><!--MD5=[15ebcb19ae302d9b601edb458606d402]\n",
       "link E5 to E2--><a href=\"psysml:0f7006cc-acd6-40d1-b198-a80e8f08765e\" target=\"_top\" title=\"psysml:0f7006cc-acd6-40d1-b198-a80e8f08765e\" xlink:actuate=\"onRequest\" xlink:href=\"psysml:0f7006cc-acd6-40d1-b198-a80e8f08765e\" xlink:show=\"new\" xlink:title=\"psysml:0f7006cc-acd6-40d1-b198-a80e8f08765e\" xlink:type=\"simple\"><path d=\"M391.83,57 C495.28,57 642,57 642,57 C642,57 642,265.84 642,265.84 \" fill=\"none\" id=\"E5-&gt;E2\" style=\"stroke: #383838; stroke-width: 1.0; stroke-dasharray: 7.0,7.0;\"/><polygon fill=\"#383838\" points=\"642,270.84,646,261.84,642,265.84,638,261.84,642,270.84\" style=\"stroke: #383838; stroke-width: 1.0;\"/><text fill=\"#000000\" font-family=\"sans-serif\" font-size=\"13\" lengthAdjust=\"spacingAndGlyphs\" textLength=\"62\" x=\"68\" y=\"191.5669\">«subject»</text></a><!--MD5=[9120cf2e5df3bff93db8f754bbbc09b4]\n",
       "link E5 to E6--><a href=\"psysml:33b70aea-82ec-44f7-8a12-3ec54376cb03\" target=\"_top\" title=\"psysml:33b70aea-82ec-44f7-8a12-3ec54376cb03\" xlink:actuate=\"onRequest\" xlink:href=\"psysml:33b70aea-82ec-44f7-8a12-3ec54376cb03\" xlink:show=\"new\" xlink:title=\"psysml:33b70aea-82ec-44f7-8a12-3ec54376cb03\" xlink:type=\"simple\"><path d=\"M292,87.14 C292,87.14 292,155.97 292,155.97 \" fill=\"none\" id=\"E5-&gt;E6\" style=\"stroke: #383838; stroke-width: 1.0;\"/><polygon fill=\"#383838\" points=\"292,163.97,295,155.97,289,155.97,292,163.97\" style=\"stroke: #383838; stroke-width: 1.0;\"/><text fill=\"#000000\" font-family=\"sans-serif\" font-size=\"13\" lengthAdjust=\"spacingAndGlyphs\" textLength=\"73\" x=\"293\" y=\"130.0669\">«objective»</text></a><!--MD5=[452b418e7f8a40397a49b8c0a78acc5b]\n",
       "reverse link E5 to E7--><a href=\"psysml:a1ab5fdf-7d24-4497-9ea2-3c4d95277eba\" target=\"_top\" title=\"psysml:a1ab5fdf-7d24-4497-9ea2-3c4d95277eba\" xlink:actuate=\"onRequest\" xlink:href=\"psysml:a1ab5fdf-7d24-4497-9ea2-3c4d95277eba\" xlink:show=\"new\" xlink:title=\"psysml:a1ab5fdf-7d24-4497-9ea2-3c4d95277eba\" xlink:type=\"simple\"><path d=\"M404.52,72 C404.52,72 542,72 542,72 C542,72 542,130.12 542,163.73 \" fill=\"none\" id=\"E5&lt;-E7\" style=\"stroke: #383838; stroke-width: 1.0;\"/><polygon fill=\"#FFFFFF\" points=\"391.52,72,397.52,76,403.52,72,397.52,68,391.52,72\" style=\"stroke: #383838; stroke-width: 1.0;\"/><text fill=\"#000000\" font-family=\"sans-serif\" font-size=\"13\" lengthAdjust=\"spacingAndGlyphs\" textLength=\"8\" x=\"532.975\" y=\"152.9371\">1</text></a><!--MD5=[583832df87f4419a098336a29a52fa00]\n",
       "link E7 to E2--><a href=\"psysml:9bedaae2-b2c6-4d70-8011-f34c154ea99f\" target=\"_top\" title=\"psysml:9bedaae2-b2c6-4d70-8011-f34c154ea99f\" xlink:actuate=\"onRequest\" xlink:href=\"psysml:9bedaae2-b2c6-4d70-8011-f34c154ea99f\" xlink:show=\"new\" xlink:title=\"psysml:9bedaae2-b2c6-4d70-8011-f34c154ea99f\" xlink:type=\"simple\"><path d=\"M614.5,210.22 C614.5,210.22 614.5,250.83 614.5,250.83 \" fill=\"none\" id=\"E7-&gt;E2\" style=\"stroke: #383838; stroke-width: 1.0;\"/><polygon fill=\"#FFFFFF\" points=\"614.5,270.83,607.5,251.83,621.5,251.83,614.5,270.83\" style=\"stroke: #383838; stroke-width: 1.0;\"/><ellipse cx=\"609.5\" cy=\"246.13\" fill=\"#383838\" rx=\"2\" ry=\"2\" style=\"stroke: #383838; stroke-width: 1.0;\"/><ellipse cx=\"619.5\" cy=\"246.13\" fill=\"#383838\" rx=\"2\" ry=\"2\" style=\"stroke: #383838; stroke-width: 1.0;\"/></a><!--MD5=[b12bb28d94513845c5f36ac00e16755e]\n",
       "@startuml\r\n",
       "skinparam linetype ortho\r\n",
       "skinparam monochrome true\r\n",
       "skinparam classbackgroundcolor white\r\n",
       "skinparam shadowing false\r\n",
       "skinparam wrapWidth 300\r\n",
       "hide circle\r\n",
       "\r\n",
       "package \"TradeStudyTest\" as E1  [[psysml:e59f1b4e-bf48-44e5-8b03-de7ba4c0da2b ]]  {\r\n",
       "comp def \"Engine\" as E2  <<(T,blue) part def>> [[psysml:8032ee8b-b45e-4aab-a334-ddc7f77ca09b ]] {\r\n",
       "}\r\n",
       "comp usage \"engine1: Engine\" as E3  <<(T,blue) part>> [[psysml:d1c59f8e-91b7-4873-9a7c-d548f1a74ff0 ]] {\r\n",
       "}\r\n",
       "comp usage \"engine2: Engine\" as E4  <<(T,blue) part>> [[psysml:b8b914f7-6e3e-418c-a7c7-b0f9195d6204 ]] {\r\n",
       "}\r\n",
       "comp usage \"engineTradeStudy: TradeStudy\" as E5 << analysis>> [[psysml:d010e11c-db6d-479b-b98e-aa7ac12f08dc ]] {\r\n",
       "}\r\n",
       "comp usage \"tradeStudyObjective: MaximizeObjective\" as E6  <<(T,blue) requirement>> [[psysml:baa50d6d-f728-4fdb-a3d8-0324d2e9c263 ]] {\r\n",
       "}\r\n",
       "comp usage \"selectedAlternative: Engine\" as E7  <<(T,blue) part>> [[psysml:854815c3-8ae1-4c3d-a371-f12eec0f41ab ]] {\r\n",
       "}\r\n",
       "}\r\n",
       "E3 - -:|> E2 [[psysml:a477e10c-c644-4ab8-a0d7-73b747f4931b ]] \r\n",
       "E4 - -:|> E2 [[psysml:006a8138-edc7-4443-807d-fbbb291c6f87 ]] \r\n",
       "E5 ..> E2 [[psysml:0f7006cc-acd6-40d1-b198-a80e8f08765e ]] : <<subject>>\r\n",
       "E5 - ->> E6 [[psysml:33b70aea-82ec-44f7-8a12-3ec54376cb03 ]] : <<objective>>\r\n",
       "E5 o- - \"1\"E7 [[psysml:a1ab5fdf-7d24-4497-9ea2-3c4d95277eba ]] \r\n",
       "E7 - -:|> E2 [[psysml:9bedaae2-b2c6-4d70-8011-f34c154ea99f ]] \r\n",
       "@enduml\r\n",
       "\n",
       "PlantUML version 1.2020.13(Sat Jun 13 12:26:38 UTC 2020)\n",
       "(EPL source distribution)\n",
       "Java Runtime: OpenJDK Runtime Environment\n",
       "JVM: OpenJDK 64-Bit Server VM\n",
       "Default Encoding: UTF-8\n",
       "Language: en\n",
       "Country: null\n",
       "--></g></svg>"
      ]
     },
     "execution_count": 52,
     "metadata": {},
     "output_type": "execute_result"
    }
   ],
   "source": [
    "%viz --style=\"ORTHOLINE\" --view=\"Tree\" \"TradeStudyTest\""
   ]
  },
  {
   "cell_type": "code",
   "execution_count": 53,
   "id": "396f1508",
   "metadata": {
    "execution": {
     "iopub.execute_input": "2021-09-27T07:19:38.094191Z",
     "iopub.status.busy": "2021-09-27T07:19:38.093770Z",
     "iopub.status.idle": "2021-09-27T07:19:38.098535Z",
     "shell.execute_reply": "2021-09-27T07:19:38.098175Z"
    }
   },
   "outputs": [
    {
     "data": {
      "image/svg+xml": [
       "<?xml version=\"1.0\" encoding=\"UTF-8\" standalone=\"no\"?><svg xmlns=\"http://www.w3.org/2000/svg\" xmlns:xlink=\"http://www.w3.org/1999/xlink\" contentScriptType=\"application/ecmascript\" contentStyleType=\"text/css\" height=\"12px\" preserveAspectRatio=\"none\" style=\"width:12px;height:12px;\" version=\"1.1\" viewBox=\"0 0 12 12\" width=\"12px\" zoomAndPan=\"magnify\"><defs/><g><!--MD5=[97d6f38768b311333d388e66b2b27985]\n",
       "@startuml\r\n",
       "skinparam linetype ortho\r\n",
       "skinparam monochrome true\r\n",
       "skinparam classbackgroundcolor white\r\n",
       "skinparam shadowing false\r\n",
       "skinparam wrapWidth 300\r\n",
       "hide circle\r\n",
       "\r\n",
       "@enduml\r\n",
       "\n",
       "PlantUML version 1.2020.13(Sat Jun 13 12:26:38 UTC 2020)\n",
       "(EPL source distribution)\n",
       "Java Runtime: OpenJDK Runtime Environment\n",
       "JVM: OpenJDK 64-Bit Server VM\n",
       "Default Encoding: UTF-8\n",
       "Language: en\n",
       "Country: null\n",
       "--></g></svg>"
      ]
     },
     "execution_count": 53,
     "metadata": {},
     "output_type": "execute_result"
    }
   ],
   "source": [
    "%viz --style=\"ORTHOLINE\" --view=\"State\" \"TradeStudyTest\""
   ]
  },
  {
   "cell_type": "code",
   "execution_count": 54,
   "id": "220287c9",
   "metadata": {
    "execution": {
     "iopub.execute_input": "2021-09-27T07:19:38.148334Z",
     "iopub.status.busy": "2021-09-27T07:19:38.147928Z",
     "iopub.status.idle": "2021-09-27T07:19:38.183772Z",
     "shell.execute_reply": "2021-09-27T07:19:38.182031Z"
    }
   },
   "outputs": [
    {
     "data": {
      "image/svg+xml": [
       "<?xml version=\"1.0\" encoding=\"UTF-8\" standalone=\"no\"?><svg xmlns=\"http://www.w3.org/2000/svg\" xmlns:xlink=\"http://www.w3.org/1999/xlink\" contentScriptType=\"application/ecmascript\" contentStyleType=\"text/css\" height=\"334px\" preserveAspectRatio=\"none\" style=\"width:566px;height:334px;\" version=\"1.1\" viewBox=\"0 0 566 334\" width=\"566px\" zoomAndPan=\"magnify\"><defs/><g><!--MD5=[fbc87193dbaf4d95561dea2c320d4a47]\n",
       "cluster E1--><a href=\"psysml:e59f1b4e-bf48-44e5-8b03-de7ba4c0da2b\" target=\"_top\" title=\"psysml:e59f1b4e-bf48-44e5-8b03-de7ba4c0da2b\" xlink:actuate=\"onRequest\" xlink:href=\"psysml:e59f1b4e-bf48-44e5-8b03-de7ba4c0da2b\" xlink:show=\"new\" xlink:title=\"psysml:e59f1b4e-bf48-44e5-8b03-de7ba4c0da2b\" xlink:type=\"simple\"><polygon fill=\"#FFFFFF\" points=\"16,6,132,6,139,28.2969,544,28.2969,544,322,16,322,16,6\" style=\"stroke: #000000; stroke-width: 1.5;\"/><line style=\"stroke: #000000; stroke-width: 1.5;\" x1=\"16\" x2=\"139\" y1=\"28.2969\" y2=\"28.2969\"/><text fill=\"#000000\" font-family=\"sans-serif\" font-size=\"14\" font-weight=\"bold\" lengthAdjust=\"spacingAndGlyphs\" textLength=\"110\" x=\"20\" y=\"20.9951\">TradeStudyTest</text></a><!--MD5=[270fce915f116d4de14055a7c1d9a0f3]\n",
       "class E5--><a href=\"psysml:d010e11c-db6d-479b-b98e-aa7ac12f08dc\" target=\"_top\" title=\"psysml:d010e11c-db6d-479b-b98e-aa7ac12f08dc\" xlink:actuate=\"onRequest\" xlink:href=\"psysml:d010e11c-db6d-479b-b98e-aa7ac12f08dc\" xlink:show=\"new\" xlink:title=\"psysml:d010e11c-db6d-479b-b98e-aa7ac12f08dc\" xlink:type=\"simple\"><rect fill=\"#FFFFFF\" height=\"45.9375\" id=\"E5\" rx=\"10\" ry=\"10\" style=\"stroke: #383838; stroke-width: 1.5;\" width=\"199\" x=\"328.5\" y=\"41\"/><text fill=\"#000000\" font-family=\"sans-serif\" font-size=\"12\" font-style=\"italic\" lengthAdjust=\"spacingAndGlyphs\" textLength=\"64\" x=\"396\" y=\"57.1387\">«analysis»</text><text fill=\"#000000\" font-family=\"sans-serif\" font-size=\"12\" lengthAdjust=\"spacingAndGlyphs\" textLength=\"193\" x=\"331.5\" y=\"71.1074\">engineTradeStudy: TradeStudy</text><line style=\"stroke: #383838; stroke-width: 1.5;\" x1=\"329.5\" x2=\"526.5\" y1=\"78.9375\" y2=\"78.9375\"/></a><!--MD5=[60a26617385b1d2d0262a64233df1f8d]\n",
       "class E6--><a href=\"psysml:baa50d6d-f728-4fdb-a3d8-0324d2e9c263\" target=\"_top\" title=\"psysml:baa50d6d-f728-4fdb-a3d8-0324d2e9c263\" xlink:actuate=\"onRequest\" xlink:href=\"psysml:baa50d6d-f728-4fdb-a3d8-0324d2e9c263\" xlink:show=\"new\" xlink:title=\"psysml:baa50d6d-f728-4fdb-a3d8-0324d2e9c263\" xlink:type=\"simple\"><rect fill=\"#FFFFFF\" height=\"45.9375\" id=\"E6\" rx=\"10\" ry=\"10\" style=\"stroke: #383838; stroke-width: 1.5;\" width=\"251\" x=\"32.5\" y=\"120\"/><text fill=\"#000000\" font-family=\"sans-serif\" font-size=\"12\" font-style=\"italic\" lengthAdjust=\"spacingAndGlyphs\" textLength=\"91\" x=\"112.5\" y=\"136.1387\">«requirement»</text><text fill=\"#000000\" font-family=\"sans-serif\" font-size=\"12\" lengthAdjust=\"spacingAndGlyphs\" textLength=\"245\" x=\"35.5\" y=\"150.1074\">tradeStudyObjective: MaximizeObjective</text><line style=\"stroke: #383838; stroke-width: 1.5;\" x1=\"33.5\" x2=\"282.5\" y1=\"157.9375\" y2=\"157.9375\"/></a><!--MD5=[2156ba9850f5573cc1fc38a6a4b2f02b]\n",
       "class E7--><a href=\"psysml:c3bcbf7c-d2b8-4beb-b9e4-ef0b91eba9be\" target=\"_top\" title=\"psysml:c3bcbf7c-d2b8-4beb-b9e4-ef0b91eba9be\" xlink:actuate=\"onRequest\" xlink:href=\"psysml:c3bcbf7c-d2b8-4beb-b9e4-ef0b91eba9be\" xlink:show=\"new\" xlink:title=\"psysml:c3bcbf7c-d2b8-4beb-b9e4-ef0b91eba9be\" xlink:type=\"simple\"><rect fill=\"#FFFFFF\" height=\"45.9375\" id=\"E7\" rx=\"10\" ry=\"10\" style=\"stroke: #383838; stroke-width: 1.5;\" width=\"116\" x=\"319\" y=\"120\"/><text fill=\"#000000\" font-family=\"sans-serif\" font-size=\"12\" font-style=\"italic\" lengthAdjust=\"spacingAndGlyphs\" textLength=\"82\" x=\"336\" y=\"136.1387\">«calculation»</text><text fill=\"#000000\" font-family=\"sans-serif\" font-size=\"12\" lengthAdjust=\"spacingAndGlyphs\" textLength=\"110\" x=\"322\" y=\"150.1074\">objectiveFunction</text><line style=\"stroke: #383838; stroke-width: 1.5;\" x1=\"320\" x2=\"434\" y1=\"157.9375\" y2=\"157.9375\"/></a><!--MD5=[b9389687b975829384b498ac4b7476b2]\n",
       "class E8--><a href=\"psysml:c18a795f-fd76-4ffb-a70d-e612388b917b\" target=\"_top\" title=\"psysml:c18a795f-fd76-4ffb-a70d-e612388b917b\" xlink:actuate=\"onRequest\" xlink:href=\"psysml:c18a795f-fd76-4ffb-a70d-e612388b917b\" xlink:show=\"new\" xlink:title=\"psysml:c18a795f-fd76-4ffb-a70d-e612388b917b\" xlink:type=\"simple\"><rect fill=\"#FFFFFF\" height=\"31.9688\" id=\"E8\" rx=\"10\" ry=\"10\" style=\"stroke: #383838; stroke-width: 1.5;\" width=\"124\" x=\"178\" y=\"214\"/><text fill=\"#000000\" font-family=\"sans-serif\" font-size=\"12\" lengthAdjust=\"spacingAndGlyphs\" textLength=\"118\" x=\"181\" y=\"230.1387\">alternative: Engine</text><line style=\"stroke: #383838; stroke-width: 1.5;\" x1=\"179\" x2=\"301\" y1=\"237.9688\" y2=\"237.9688\"/></a><!--MD5=[fd4143e9d270a159db93a4ea2a975926]\n",
       "class E9--><a href=\"psysml:854815c3-8ae1-4c3d-a371-f12eec0f41ab\" target=\"_top\" title=\"psysml:854815c3-8ae1-4c3d-a371-f12eec0f41ab\" xlink:actuate=\"onRequest\" xlink:href=\"psysml:854815c3-8ae1-4c3d-a371-f12eec0f41ab\" xlink:show=\"new\" xlink:title=\"psysml:854815c3-8ae1-4c3d-a371-f12eec0f41ab\" xlink:type=\"simple\"><rect fill=\"#FFFFFF\" height=\"31.9688\" id=\"E9\" rx=\"10\" ry=\"10\" style=\"stroke: #383838; stroke-width: 1.5;\" width=\"178\" x=\"246\" y=\"174\"/><text fill=\"#000000\" font-family=\"sans-serif\" font-size=\"12\" lengthAdjust=\"spacingAndGlyphs\" textLength=\"172\" x=\"249\" y=\"190.1387\">selectedAlternative: Engine</text><line style=\"stroke: #383838; stroke-width: 1.5;\" x1=\"247\" x2=\"423\" y1=\"197.9688\" y2=\"197.9688\"/></a><g id=\"E1.E2\"><a href=\"psysml:8032ee8b-b45e-4aab-a334-ddc7f77ca09b\" target=\"_top\" title=\"psysml:8032ee8b-b45e-4aab-a334-ddc7f77ca09b\" xlink:actuate=\"onRequest\" xlink:href=\"psysml:8032ee8b-b45e-4aab-a334-ddc7f77ca09b\" xlink:show=\"new\" xlink:title=\"psysml:8032ee8b-b45e-4aab-a334-ddc7f77ca09b\" xlink:type=\"simple\"><rect fill=\"#FFFFFF\" height=\"42.9375\" id=\"E2\" style=\"stroke: #383838; stroke-width: 1.5;\" width=\"71\" x=\"302.5\" y=\"263\"/><rect fill=\"#F8F8F8\" height=\"37.9375\" style=\"stroke: #383838; stroke-width: 1.5;\" width=\"71\" x=\"302.5\" y=\"263\"/><text fill=\"#000000\" font-family=\"sans-serif\" font-size=\"12\" font-style=\"italic\" lengthAdjust=\"spacingAndGlyphs\" textLength=\"64\" x=\"306\" y=\"279.1387\">«part def»</text><text fill=\"#000000\" font-family=\"sans-serif\" font-size=\"12\" lengthAdjust=\"spacingAndGlyphs\" textLength=\"43\" x=\"316.5\" y=\"293.1074\">Engine</text></a></g><g id=\"E1.E3\"><a href=\"psysml:d1c59f8e-91b7-4873-9a7c-d548f1a74ff0\" target=\"_top\" title=\"psysml:d1c59f8e-91b7-4873-9a7c-d548f1a74ff0\" xlink:actuate=\"onRequest\" xlink:href=\"psysml:d1c59f8e-91b7-4873-9a7c-d548f1a74ff0\" xlink:show=\"new\" xlink:title=\"psysml:d1c59f8e-91b7-4873-9a7c-d548f1a74ff0\" xlink:type=\"simple\"><rect fill=\"#FFFFFF\" height=\"40\" id=\"E3\" rx=\"10\" ry=\"10\" style=\"stroke: #383838; stroke-width: 1.5;\" width=\"113\" x=\"180.5\" y=\"44\"/><rect fill=\"#F8F8F8\" height=\"23.9688\" rx=\"10\" ry=\"10\" style=\"stroke: #F8F8F8; stroke-width: 1.5;\" width=\"113\" x=\"180.5\" y=\"44\"/><rect fill=\"#F8F8F8\" height=\"10\" style=\"stroke: #F8F8F8; stroke-width: 1.5;\" width=\"113\" x=\"180.5\" y=\"57.9688\"/><rect fill=\"none\" height=\"40\" id=\"E3\" rx=\"10\" ry=\"10\" style=\"stroke: #383838; stroke-width: 1.5;\" width=\"113\" x=\"180.5\" y=\"44\"/><text fill=\"#000000\" font-family=\"sans-serif\" font-size=\"12\" lengthAdjust=\"spacingAndGlyphs\" textLength=\"102\" x=\"186\" y=\"60.1387\">engine1: Engine</text></a></g><g id=\"E1.E4\"><a href=\"psysml:b8b914f7-6e3e-418c-a7c7-b0f9195d6204\" target=\"_top\" title=\"psysml:b8b914f7-6e3e-418c-a7c7-b0f9195d6204\" xlink:actuate=\"onRequest\" xlink:href=\"psysml:b8b914f7-6e3e-418c-a7c7-b0f9195d6204\" xlink:show=\"new\" xlink:title=\"psysml:b8b914f7-6e3e-418c-a7c7-b0f9195d6204\" xlink:type=\"simple\"><rect fill=\"#FFFFFF\" height=\"40\" id=\"E4\" rx=\"10\" ry=\"10\" style=\"stroke: #383838; stroke-width: 1.5;\" width=\"113\" x=\"32.5\" y=\"44\"/><rect fill=\"#F8F8F8\" height=\"23.9688\" rx=\"10\" ry=\"10\" style=\"stroke: #F8F8F8; stroke-width: 1.5;\" width=\"113\" x=\"32.5\" y=\"44\"/><rect fill=\"#F8F8F8\" height=\"10\" style=\"stroke: #F8F8F8; stroke-width: 1.5;\" width=\"113\" x=\"32.5\" y=\"57.9688\"/><rect fill=\"none\" height=\"40\" id=\"E4\" rx=\"10\" ry=\"10\" style=\"stroke: #383838; stroke-width: 1.5;\" width=\"113\" x=\"32.5\" y=\"44\"/><text fill=\"#000000\" font-family=\"sans-serif\" font-size=\"12\" lengthAdjust=\"spacingAndGlyphs\" textLength=\"102\" x=\"38\" y=\"60.1387\">engine2: Engine</text></a></g><!--MD5=[15ebcb19ae302d9b601edb458606d402]\n",
       "link E5 to E2--><a href=\"psysml:0f7006cc-acd6-40d1-b198-a80e8f08765e\" target=\"_top\" title=\"psysml:0f7006cc-acd6-40d1-b198-a80e8f08765e\" xlink:actuate=\"onRequest\" xlink:href=\"psysml:0f7006cc-acd6-40d1-b198-a80e8f08765e\" xlink:show=\"new\" xlink:title=\"psysml:0f7006cc-acd6-40d1-b198-a80e8f08765e\" xlink:type=\"simple\"><path d=\"M481.25,87.23 C481.25,143.97 481.25,285 481.25,285 C481.25,285 378.78,285 378.78,285 \" fill=\"none\" id=\"E5-&gt;E2\" style=\"stroke: #383838; stroke-width: 1.0; stroke-dasharray: 7.0,7.0;\"/><polygon fill=\"#383838\" points=\"373.78,285,382.78,289,378.78,285,382.78,281,373.78,285\" style=\"stroke: #383838; stroke-width: 1.0;\"/><text fill=\"#000000\" font-family=\"sans-serif\" font-size=\"13\" lengthAdjust=\"spacingAndGlyphs\" textLength=\"62\" x=\"465\" y=\"194.5669\">«subject»</text></a><!--MD5=[9120cf2e5df3bff93db8f754bbbc09b4]\n",
       "link E5 to E6--><a href=\"psysml:33b70aea-82ec-44f7-8a12-3ec54376cb03\" target=\"_top\" title=\"psysml:33b70aea-82ec-44f7-8a12-3ec54376cb03\" xlink:actuate=\"onRequest\" xlink:href=\"psysml:33b70aea-82ec-44f7-8a12-3ec54376cb03\" xlink:show=\"new\" xlink:title=\"psysml:33b70aea-82ec-44f7-8a12-3ec54376cb03\" xlink:type=\"simple\"><path d=\"M328.41,58 C312.96,58 302,58 302,58 C302,58 302,143 302,143 C302,143 291.76,143 291.76,143 \" fill=\"none\" id=\"E5-&gt;E6\" style=\"stroke: #383838; stroke-width: 1.0;\"/><polygon fill=\"#383838\" points=\"283.76,143,291.76,146,291.76,140,283.76,143\" style=\"stroke: #383838; stroke-width: 1.0;\"/><text fill=\"#000000\" font-family=\"sans-serif\" font-size=\"13\" lengthAdjust=\"spacingAndGlyphs\" textLength=\"73\" x=\"228\" y=\"108.0669\">«objective»</text></a><!--MD5=[452b418e7f8a40397a49b8c0a78acc5b]\n",
       "reverse link E5 to E7--><a href=\"psysml:9ca3a684-dbe3-4511-9e21-3cef746855e2\" target=\"_top\" title=\"psysml:9ca3a684-dbe3-4511-9e21-3cef746855e2\" xlink:actuate=\"onRequest\" xlink:href=\"psysml:9ca3a684-dbe3-4511-9e21-3cef746855e2\" xlink:show=\"new\" xlink:title=\"psysml:9ca3a684-dbe3-4511-9e21-3cef746855e2\" xlink:type=\"simple\"><path d=\"M381.75,100.28 C381.75,100.28 381.75,119.89 381.75,119.89 \" fill=\"none\" id=\"E5&lt;-E7\" style=\"stroke: #383838; stroke-width: 1.0;\"/><polygon fill=\"#383838\" points=\"381.75,87.28,377.75,93.28,381.75,99.28,385.75,93.28,381.75,87.28\" style=\"stroke: #383838; stroke-width: 1.0;\"/></a><!--MD5=[dc164f5e8a733ab456ef1add180e9e34]\n",
       "reverse link E7 to E8--><a href=\"psysml:8f87ba26-7a36-4a80-9ed1-e463a907c7c6\" target=\"_top\" title=\"psysml:8f87ba26-7a36-4a80-9ed1-e463a907c7c6\" xlink:actuate=\"onRequest\" xlink:href=\"psysml:8f87ba26-7a36-4a80-9ed1-e463a907c7c6\" xlink:show=\"new\" xlink:title=\"psysml:8f87ba26-7a36-4a80-9ed1-e463a907c7c6\" xlink:type=\"simple\"><path d=\"M429.5,179.28 C429.5,179.28 429.5,225 429.5,225 C429.5,225 357.32,225 302.05,225 \" fill=\"none\" id=\"E7&lt;-E8\" style=\"stroke: #383838; stroke-width: 1.0;\"/><polygon fill=\"#FFFFFF\" points=\"429.5,166.28,425.5,172.28,429.5,178.28,433.5,172.28,429.5,166.28\" style=\"stroke: #383838; stroke-width: 1.0;\"/><text fill=\"#000000\" font-family=\"sans-serif\" font-size=\"13\" lengthAdjust=\"spacingAndGlyphs\" textLength=\"8\" x=\"305.7892\" y=\"225.9301\">1</text></a><!--MD5=[f1f3f9f2fc535e6147756cb86a7f2e32]\n",
       "link E8 to E2--><a href=\"psysml:bdf7178e-b1d2-4aa0-b7b5-71013aa1f7a9\" target=\"_top\" title=\"psysml:bdf7178e-b1d2-4aa0-b7b5-71013aa1f7a9\" xlink:actuate=\"onRequest\" xlink:href=\"psysml:bdf7178e-b1d2-4aa0-b7b5-71013aa1f7a9\" xlink:show=\"new\" xlink:title=\"psysml:bdf7178e-b1d2-4aa0-b7b5-71013aa1f7a9\" xlink:type=\"simple\"><path d=\"M302.16,236 C315.75,236 326.17,236 326.17,236 C326.17,236 326.17,242.8 326.17,242.8 \" fill=\"none\" id=\"E8-&gt;E2\" style=\"stroke: #383838; stroke-width: 1.0;\"/><polygon fill=\"#FFFFFF\" points=\"326.17,262.8,319.17,243.8,333.17,243.8,326.17,262.8\" style=\"stroke: #383838; stroke-width: 1.0;\"/><ellipse cx=\"321.17\" cy=\"238.1\" fill=\"#383838\" rx=\"2\" ry=\"2\" style=\"stroke: #383838; stroke-width: 1.0;\"/><ellipse cx=\"331.17\" cy=\"238.1\" fill=\"#383838\" rx=\"2\" ry=\"2\" style=\"stroke: #383838; stroke-width: 1.0;\"/></a><!--MD5=[9ae28de373ca99bb8a1b38d63370ca7e]\n",
       "reverse link E5 to E9--><a href=\"psysml:a1ab5fdf-7d24-4497-9ea2-3c4d95277eba\" target=\"_top\" title=\"psysml:a1ab5fdf-7d24-4497-9ea2-3c4d95277eba\" xlink:actuate=\"onRequest\" xlink:href=\"psysml:a1ab5fdf-7d24-4497-9ea2-3c4d95277eba\" xlink:show=\"new\" xlink:title=\"psysml:a1ab5fdf-7d24-4497-9ea2-3c4d95277eba\" xlink:type=\"simple\"><path d=\"M315.35,71 C315.35,71 310.5,71 310.5,71 C310.5,71 310.5,141.47 310.5,173.95 \" fill=\"none\" id=\"E5&lt;-E9\" style=\"stroke: #383838; stroke-width: 1.0;\"/><polygon fill=\"#FFFFFF\" points=\"328.35,71,322.35,67,316.35,71,322.35,75,328.35,71\" style=\"stroke: #383838; stroke-width: 1.0;\"/><text fill=\"#000000\" font-family=\"sans-serif\" font-size=\"13\" lengthAdjust=\"spacingAndGlyphs\" textLength=\"8\" x=\"292.7031\" y=\"162.9498\">1</text></a><!--MD5=[5c3bb36fe832a92c7f0e1807dd65209d]\n",
       "link E9 to E2--><a href=\"psysml:9bedaae2-b2c6-4d70-8011-f34c154ea99f\" target=\"_top\" title=\"psysml:9bedaae2-b2c6-4d70-8011-f34c154ea99f\" xlink:actuate=\"onRequest\" xlink:href=\"psysml:9bedaae2-b2c6-4d70-8011-f34c154ea99f\" xlink:show=\"new\" xlink:title=\"psysml:9bedaae2-b2c6-4d70-8011-f34c154ea99f\" xlink:type=\"simple\"><path d=\"M349.83,206.03 C349.83,206.03 349.83,242.71 349.83,242.71 \" fill=\"none\" id=\"E9-&gt;E2\" style=\"stroke: #383838; stroke-width: 1.0;\"/><polygon fill=\"#FFFFFF\" points=\"349.83,262.71,342.83,243.71,356.83,243.71,349.83,262.71\" style=\"stroke: #383838; stroke-width: 1.0;\"/><ellipse cx=\"344.83\" cy=\"238.01\" fill=\"#383838\" rx=\"2\" ry=\"2\" style=\"stroke: #383838; stroke-width: 1.0;\"/><ellipse cx=\"354.83\" cy=\"238.01\" fill=\"#383838\" rx=\"2\" ry=\"2\" style=\"stroke: #383838; stroke-width: 1.0;\"/></a><!--MD5=[1e2db4a42df81a2669119cf1b6b37832]\n",
       "@startuml\r\n",
       "skinparam ranksep 10\r\n",
       "skinparam rectangle {\r\n",
       " backgroundColor<<block>> LightGreen\r\n",
       "}\r\n",
       "skinparam linetype ortho\r\n",
       "skinparam monochrome true\r\n",
       "skinparam classbackgroundcolor white\r\n",
       "skinparam shadowing false\r\n",
       "skinparam wrapWidth 300\r\n",
       "hide circle\r\n",
       "\r\n",
       "package \"TradeStudyTest\" as E1  [[psysml:e59f1b4e-bf48-44e5-8b03-de7ba4c0da2b ]]  {\r\n",
       "rec def \"Engine\" as E2  <<(T,blue) part def>> [[psysml:8032ee8b-b45e-4aab-a334-ddc7f77ca09b ]] {\r\n",
       "}\r\n",
       "rec usage \"engine1: Engine\" as E3  [[psysml:d1c59f8e-91b7-4873-9a7c-d548f1a74ff0 ]] {\r\n",
       "}\r\n",
       "rec usage \"engine2: Engine\" as E4  [[psysml:b8b914f7-6e3e-418c-a7c7-b0f9195d6204 ]] {\r\n",
       "}\r\n",
       "comp usage \"engineTradeStudy: TradeStudy\" as E5 << analysis>> [[psysml:d010e11c-db6d-479b-b98e-aa7ac12f08dc ]] {\r\n",
       "}\r\n",
       "comp usage \"tradeStudyObjective: MaximizeObjective\" as E6  <<(T,blue) requirement>> [[psysml:baa50d6d-f728-4fdb-a3d8-0324d2e9c263 ]] {\r\n",
       "}\r\n",
       "comp usage \"objectiveFunction\" as E7  <<(T,blue) calculation>> [[psysml:c3bcbf7c-d2b8-4beb-b9e4-ef0b91eba9be ]] {\r\n",
       "}\r\n",
       "comp usage \"alternative: Engine\" as E8  [[psysml:c18a795f-fd76-4ffb-a70d-e612388b917b ]] {\r\n",
       "}\r\n",
       "comp usage \"selectedAlternative: Engine\" as E9  [[psysml:854815c3-8ae1-4c3d-a371-f12eec0f41ab ]] {\r\n",
       "}\r\n",
       "}\r\n",
       "E5 ..> E2 [[psysml:0f7006cc-acd6-40d1-b198-a80e8f08765e ]] : <<subject>>\r\n",
       "E5 - ->> E6 [[psysml:33b70aea-82ec-44f7-8a12-3ec54376cb03 ]] : <<objective>>\r\n",
       "E5 *- - E7 [[psysml:9ca3a684-dbe3-4511-9e21-3cef746855e2 ]] \r\n",
       "E7 o- - \"1\"E8 [[psysml:8f87ba26-7a36-4a80-9ed1-e463a907c7c6 ]] \r\n",
       "E8 - -:|> E2 [[psysml:bdf7178e-b1d2-4aa0-b7b5-71013aa1f7a9 ]] \r\n",
       "E5 o- - \"1\"E9 [[psysml:a1ab5fdf-7d24-4497-9ea2-3c4d95277eba ]] \r\n",
       "E9 - -:|> E2 [[psysml:9bedaae2-b2c6-4d70-8011-f34c154ea99f ]] \r\n",
       "@enduml\r\n",
       "\n",
       "PlantUML version 1.2020.13(Sat Jun 13 12:26:38 UTC 2020)\n",
       "(EPL source distribution)\n",
       "Java Runtime: OpenJDK Runtime Environment\n",
       "JVM: OpenJDK 64-Bit Server VM\n",
       "Default Encoding: UTF-8\n",
       "Language: en\n",
       "Country: null\n",
       "--></g></svg>"
      ]
     },
     "execution_count": 54,
     "metadata": {},
     "output_type": "execute_result"
    }
   ],
   "source": [
    "%viz --style=\"ORTHOLINE\" --view=\"Interconnection\" \"TradeStudyTest\""
   ]
  },
  {
   "cell_type": "code",
   "execution_count": 55,
   "id": "d1537c89",
   "metadata": {
    "execution": {
     "iopub.execute_input": "2021-09-27T07:19:38.232659Z",
     "iopub.status.busy": "2021-09-27T07:19:38.232245Z",
     "iopub.status.idle": "2021-09-27T07:19:38.262135Z",
     "shell.execute_reply": "2021-09-27T07:19:38.261751Z"
    }
   },
   "outputs": [
    {
     "data": {
      "image/svg+xml": [
       "<?xml version=\"1.0\" encoding=\"UTF-8\" standalone=\"no\"?><svg xmlns=\"http://www.w3.org/2000/svg\" xmlns:xlink=\"http://www.w3.org/1999/xlink\" contentScriptType=\"application/ecmascript\" contentStyleType=\"text/css\" height=\"178px\" preserveAspectRatio=\"none\" style=\"width:434px;height:178px;\" version=\"1.1\" viewBox=\"0 0 434 178\" width=\"434px\" zoomAndPan=\"magnify\"><defs/><g><!--MD5=[fbc87193dbaf4d95561dea2c320d4a47]\n",
       "cluster E1--><a href=\"psysml:d010e11c-db6d-479b-b98e-aa7ac12f08dc\" target=\"_top\" title=\"psysml:d010e11c-db6d-479b-b98e-aa7ac12f08dc\" xlink:actuate=\"onRequest\" xlink:href=\"psysml:d010e11c-db6d-479b-b98e-aa7ac12f08dc\" xlink:show=\"new\" xlink:title=\"psysml:d010e11c-db6d-479b-b98e-aa7ac12f08dc\" xlink:type=\"simple\"><rect fill=\"#FFFFFF\" height=\"103.72\" id=\"E1\" rx=\"10\" ry=\"10\" style=\"stroke: #383838; stroke-width: 1.5;\" width=\"327\" x=\"47\" y=\"42.0986\"/><rect fill=\"#F8F8F8\" height=\"37.9375\" rx=\"10\" ry=\"10\" style=\"stroke: #F8F8F8; stroke-width: 1.5;\" width=\"327\" x=\"47\" y=\"42.0986\"/><rect fill=\"#F8F8F8\" height=\"10\" style=\"stroke: #F8F8F8; stroke-width: 1.5;\" width=\"327\" x=\"47\" y=\"70.0361\"/><rect fill=\"none\" height=\"103.72\" id=\"E1\" rx=\"10\" ry=\"10\" style=\"stroke: #383838; stroke-width: 1.5;\" width=\"327\" x=\"47\" y=\"42.0986\"/><text fill=\"#000000\" font-family=\"sans-serif\" font-size=\"12\" font-style=\"italic\" lengthAdjust=\"spacingAndGlyphs\" textLength=\"64\" x=\"178.5\" y=\"58.2373\">«analysis»</text><text fill=\"#000000\" font-family=\"sans-serif\" font-size=\"12\" lengthAdjust=\"spacingAndGlyphs\" textLength=\"114\" x=\"153.5\" y=\"72.2061\">engineTradeStudy</text><line style=\"stroke: #383838; stroke-width: 1.0;\" x1=\"47\" x2=\"374\" y1=\"80.0361\" y2=\"80.0361\"/></a><!--MD5=[d5e69f78d87373223dbae638b30a9c99]\n",
       "cluster E3--><a href=\"psysml:c3bcbf7c-d2b8-4beb-b9e4-ef0b91eba9be\" target=\"_top\" title=\"psysml:c3bcbf7c-d2b8-4beb-b9e4-ef0b91eba9be\" xlink:actuate=\"onRequest\" xlink:href=\"psysml:c3bcbf7c-d2b8-4beb-b9e4-ef0b91eba9be\" xlink:show=\"new\" xlink:title=\"psysml:c3bcbf7c-d2b8-4beb-b9e4-ef0b91eba9be\" xlink:type=\"simple\"><rect fill=\"#FFFFFF\" height=\"81.72\" id=\"E3\" rx=\"10\" ry=\"10\" style=\"stroke: #383838; stroke-width: 1.5;\" width=\"132\" x=\"214.125\" y=\"64.0986\"/><rect fill=\"#F8F8F8\" height=\"37.9375\" rx=\"10\" ry=\"10\" style=\"stroke: #F8F8F8; stroke-width: 1.5;\" width=\"132\" x=\"214.125\" y=\"64.0986\"/><rect fill=\"#F8F8F8\" height=\"10\" style=\"stroke: #F8F8F8; stroke-width: 1.5;\" width=\"132\" x=\"214.125\" y=\"92.0361\"/><rect fill=\"none\" height=\"81.72\" id=\"E3\" rx=\"10\" ry=\"10\" style=\"stroke: #383838; stroke-width: 1.5;\" width=\"132\" x=\"214.125\" y=\"64.0986\"/><text fill=\"#000000\" font-family=\"sans-serif\" font-size=\"12\" font-style=\"italic\" lengthAdjust=\"spacingAndGlyphs\" textLength=\"82\" x=\"239.125\" y=\"80.2373\">«calculation»</text><text fill=\"#000000\" font-family=\"sans-serif\" font-size=\"12\" lengthAdjust=\"spacingAndGlyphs\" textLength=\"110\" x=\"225.125\" y=\"94.2061\">objectiveFunction</text><line style=\"stroke: #383838; stroke-width: 1.0;\" x1=\"214.125\" x2=\"346.125\" y1=\"102.0361\" y2=\"102.0361\"/></a><text fill=\"#000000\" font-family=\"sans-serif\" font-size=\"14\" lengthAdjust=\"spacingAndGlyphs\" textLength=\"118\" x=\"6\" y=\"20.7969\">studyAlternatives</text><rect fill=\"#383838\" height=\"12\" style=\"stroke: #F8F8F8; stroke-width: 1.5;\" width=\"12\" x=\"59\" y=\"36.0986\"/><text fill=\"#000000\" font-family=\"sans-serif\" font-size=\"14\" lengthAdjust=\"spacingAndGlyphs\" textLength=\"132\" x=\"290\" y=\"164.8138\">selectedAlternative</text><rect fill=\"#383838\" height=\"12\" style=\"stroke: #F8F8F8; stroke-width: 1.5;\" width=\"12\" x=\"350\" y=\"139.8186\"/><text fill=\"#000000\" font-family=\"sans-serif\" font-size=\"14\" lengthAdjust=\"spacingAndGlyphs\" textLength=\"39\" x=\"215.5\" y=\"164.8138\">result</text><rect fill=\"#383838\" height=\"12\" style=\"stroke: #F8F8F8; stroke-width: 1.5;\" width=\"12\" x=\"229\" y=\"139.8186\"/><!--MD5=[3775473ec58099326d130d2675206345]\n",
       "@startuml\r\n",
       "skinparam ranksep 8\r\n",
       "skinparam linetype ortho\r\n",
       "skinparam monochrome true\r\n",
       "skinparam classbackgroundcolor white\r\n",
       "skinparam shadowing false\r\n",
       "skinparam wrapWidth 300\r\n",
       "hide circle\r\n",
       "\r\n",
       "rec usage \"engineTradeStudy\" as E1 << analysis>> [[psysml:d010e11c-db6d-479b-b98e-aa7ac12f08dc ]] {\r\n",
       "portin \"studyAlternatives\" as E2  [[psysml:c281ae49-24a5-493f-bfdc-d0e83f5bb327 ]] \r\n",
       "rec usage \"objectiveFunction\" as E3  <<(T,blue) calculation>> [[psysml:c3bcbf7c-d2b8-4beb-b9e4-ef0b91eba9be ]] {\r\n",
       "portout \"result\" as E4  [[psysml:6508d5a9-7a54-4e99-9afa-e959802dfdd5 ]] \r\n",
       "}\r\n",
       "\r\n",
       "portout \"selectedAlternative\" as E5  [[psysml:854815c3-8ae1-4c3d-a371-f12eec0f41ab ]] \r\n",
       "}\r\n",
       "\r\n",
       "@enduml\r\n",
       "\n",
       "PlantUML version 1.2020.13(Sat Jun 13 12:26:38 UTC 2020)\n",
       "(EPL source distribution)\n",
       "Java Runtime: OpenJDK Runtime Environment\n",
       "JVM: OpenJDK 64-Bit Server VM\n",
       "Default Encoding: UTF-8\n",
       "Language: en\n",
       "Country: null\n",
       "--></g></svg>"
      ]
     },
     "execution_count": 55,
     "metadata": {},
     "output_type": "execute_result"
    }
   ],
   "source": [
    "%viz --style=\"ORTHOLINE\" --view=\"Action\" \"TradeStudyTest\""
   ]
  },
  {
   "cell_type": "code",
   "execution_count": 56,
   "id": "9957eb67",
   "metadata": {
    "execution": {
     "iopub.execute_input": "2021-09-27T07:19:38.311705Z",
     "iopub.status.busy": "2021-09-27T07:19:38.311294Z",
     "iopub.status.idle": "2021-09-27T07:19:38.316559Z",
     "shell.execute_reply": "2021-09-27T07:19:38.316223Z"
    }
   },
   "outputs": [
    {
     "data": {
      "image/svg+xml": [
       "<?xml version=\"1.0\" encoding=\"UTF-8\" standalone=\"no\"?><svg xmlns=\"http://www.w3.org/2000/svg\" xmlns:xlink=\"http://www.w3.org/1999/xlink\" contentScriptType=\"application/ecmascript\" contentStyleType=\"text/css\" height=\"12px\" preserveAspectRatio=\"none\" style=\"width:12px;height:12px;\" version=\"1.1\" viewBox=\"0 0 12 12\" width=\"12px\" zoomAndPan=\"magnify\"><defs/><g><!--MD5=[30fc1de5121c5abddedd55b44417fde8]\n",
       "@startuml\r\n",
       "skinparam roundcorner 20\r\n",
       "skinparam BoxPadding 20\r\n",
       "skinparam SequenceBoxBackgroundColor #white\r\n",
       "skinparam style strictuml\r\n",
       "skinparam maxMessageSize 100\r\n",
       "skinparam linetype ortho\r\n",
       "skinparam monochrome true\r\n",
       "skinparam classbackgroundcolor white\r\n",
       "skinparam shadowing false\r\n",
       "skinparam wrapWidth 300\r\n",
       "hide circle\r\n",
       "\r\n",
       "@enduml\r\n",
       "\n",
       "PlantUML version 1.2020.13(Sat Jun 13 12:26:38 UTC 2020)\n",
       "(EPL source distribution)\n",
       "Java Runtime: OpenJDK Runtime Environment\n",
       "JVM: OpenJDK 64-Bit Server VM\n",
       "Default Encoding: UTF-8\n",
       "Language: en\n",
       "Country: null\n",
       "--></g></svg>"
      ]
     },
     "execution_count": 56,
     "metadata": {},
     "output_type": "execute_result"
    }
   ],
   "source": [
    "%viz --style=\"ORTHOLINE\" --view=\"Sequence\" \"TradeStudyTest\""
   ]
  },
  {
   "cell_type": "code",
   "execution_count": 57,
   "id": "72294dc4",
   "metadata": {
    "execution": {
     "iopub.execute_input": "2021-09-27T07:19:38.366530Z",
     "iopub.status.busy": "2021-09-27T07:19:38.366120Z",
     "iopub.status.idle": "2021-09-27T07:19:38.405615Z",
     "shell.execute_reply": "2021-09-27T07:19:38.405231Z"
    }
   },
   "outputs": [
    {
     "data": {
      "image/svg+xml": [
       "<?xml version=\"1.0\" encoding=\"UTF-8\" standalone=\"no\"?><svg xmlns=\"http://www.w3.org/2000/svg\" xmlns:xlink=\"http://www.w3.org/1999/xlink\" contentScriptType=\"application/ecmascript\" contentStyleType=\"text/css\" height=\"497px\" preserveAspectRatio=\"none\" style=\"width:554px;height:497px;\" version=\"1.1\" viewBox=\"0 0 554 497\" width=\"554px\" zoomAndPan=\"magnify\"><defs/><g><!--MD5=[fbc87193dbaf4d95561dea2c320d4a47]\n",
       "cluster E1--><a href=\"psysml:e59f1b4e-bf48-44e5-8b03-de7ba4c0da2b\" target=\"_top\" title=\"psysml:e59f1b4e-bf48-44e5-8b03-de7ba4c0da2b\" xlink:actuate=\"onRequest\" xlink:href=\"psysml:e59f1b4e-bf48-44e5-8b03-de7ba4c0da2b\" xlink:show=\"new\" xlink:title=\"psysml:e59f1b4e-bf48-44e5-8b03-de7ba4c0da2b\" xlink:type=\"simple\"><polygon fill=\"#FFFFFF\" points=\"16,6,132,6,139,28.2969,532,28.2969,532,485,16,485,16,6\" style=\"stroke: #000000; stroke-width: 1.5;\"/><line style=\"stroke: #000000; stroke-width: 1.5;\" x1=\"16\" x2=\"139\" y1=\"28.2969\" y2=\"28.2969\"/><text fill=\"#000000\" font-family=\"sans-serif\" font-size=\"14\" font-weight=\"bold\" lengthAdjust=\"spacingAndGlyphs\" textLength=\"110\" x=\"20\" y=\"20.9951\">TradeStudyTest</text></a><!--MD5=[b4997ac47864f28c2f74865a473b2911]\n",
       "class E2--><a href=\"psysml:8032ee8b-b45e-4aab-a334-ddc7f77ca09b\" target=\"_top\" title=\"psysml:8032ee8b-b45e-4aab-a334-ddc7f77ca09b\" xlink:actuate=\"onRequest\" xlink:href=\"psysml:8032ee8b-b45e-4aab-a334-ddc7f77ca09b\" xlink:show=\"new\" xlink:title=\"psysml:8032ee8b-b45e-4aab-a334-ddc7f77ca09b\" xlink:type=\"simple\"><rect fill=\"#FFFFFF\" height=\"45.9375\" id=\"E2\" style=\"stroke: #383838; stroke-width: 1.5;\" width=\"66\" x=\"196\" y=\"423\"/><text fill=\"#000000\" font-family=\"sans-serif\" font-size=\"12\" font-style=\"italic\" lengthAdjust=\"spacingAndGlyphs\" textLength=\"64\" x=\"197\" y=\"439.1387\">«part def»</text><text fill=\"#000000\" font-family=\"sans-serif\" font-size=\"12\" lengthAdjust=\"spacingAndGlyphs\" textLength=\"43\" x=\"207.5\" y=\"453.1074\">Engine</text><line style=\"stroke: #383838; stroke-width: 1.5;\" x1=\"197\" x2=\"261\" y1=\"460.9375\" y2=\"460.9375\"/></a><!--MD5=[09b614a08d8cba4a07c9adeb5e0fee81]\n",
       "class E3--><a href=\"psysml:d1c59f8e-91b7-4873-9a7c-d548f1a74ff0\" target=\"_top\" title=\"psysml:d1c59f8e-91b7-4873-9a7c-d548f1a74ff0\" xlink:actuate=\"onRequest\" xlink:href=\"psysml:d1c59f8e-91b7-4873-9a7c-d548f1a74ff0\" xlink:show=\"new\" xlink:title=\"psysml:d1c59f8e-91b7-4873-9a7c-d548f1a74ff0\" xlink:type=\"simple\"><rect fill=\"#FFFFFF\" height=\"45.9375\" id=\"E3\" rx=\"10\" ry=\"10\" style=\"stroke: #383838; stroke-width: 1.5;\" width=\"108\" x=\"408\" y=\"316\"/><text fill=\"#000000\" font-family=\"sans-serif\" font-size=\"12\" font-style=\"italic\" lengthAdjust=\"spacingAndGlyphs\" textLength=\"40\" x=\"442\" y=\"332.1387\">«part»</text><text fill=\"#000000\" font-family=\"sans-serif\" font-size=\"12\" lengthAdjust=\"spacingAndGlyphs\" textLength=\"102\" x=\"411\" y=\"346.1074\">engine1: Engine</text><line style=\"stroke: #383838; stroke-width: 1.5;\" x1=\"409\" x2=\"515\" y1=\"353.9375\" y2=\"353.9375\"/></a><!--MD5=[ebbe1d658d1005bcc118a6aa81145e00]\n",
       "class E4--><a href=\"psysml:b8b914f7-6e3e-418c-a7c7-b0f9195d6204\" target=\"_top\" title=\"psysml:b8b914f7-6e3e-418c-a7c7-b0f9195d6204\" xlink:actuate=\"onRequest\" xlink:href=\"psysml:b8b914f7-6e3e-418c-a7c7-b0f9195d6204\" xlink:show=\"new\" xlink:title=\"psysml:b8b914f7-6e3e-418c-a7c7-b0f9195d6204\" xlink:type=\"simple\"><rect fill=\"#FFFFFF\" height=\"45.9375\" id=\"E4\" rx=\"10\" ry=\"10\" style=\"stroke: #383838; stroke-width: 1.5;\" width=\"108\" x=\"265\" y=\"316\"/><text fill=\"#000000\" font-family=\"sans-serif\" font-size=\"12\" font-style=\"italic\" lengthAdjust=\"spacingAndGlyphs\" textLength=\"40\" x=\"299\" y=\"332.1387\">«part»</text><text fill=\"#000000\" font-family=\"sans-serif\" font-size=\"12\" lengthAdjust=\"spacingAndGlyphs\" textLength=\"102\" x=\"268\" y=\"346.1074\">engine2: Engine</text><line style=\"stroke: #383838; stroke-width: 1.5;\" x1=\"266\" x2=\"372\" y1=\"353.9375\" y2=\"353.9375\"/></a><!--MD5=[270fce915f116d4de14055a7c1d9a0f3]\n",
       "class E5--><a href=\"psysml:d010e11c-db6d-479b-b98e-aa7ac12f08dc\" target=\"_top\" title=\"psysml:d010e11c-db6d-479b-b98e-aa7ac12f08dc\" xlink:actuate=\"onRequest\" xlink:href=\"psysml:d010e11c-db6d-479b-b98e-aa7ac12f08dc\" xlink:show=\"new\" xlink:title=\"psysml:d010e11c-db6d-479b-b98e-aa7ac12f08dc\" xlink:type=\"simple\"><rect fill=\"#FFFFFF\" height=\"45.9375\" id=\"E5\" rx=\"10\" ry=\"10\" style=\"stroke: #383838; stroke-width: 1.5;\" width=\"199\" x=\"237.5\" y=\"41\"/><text fill=\"#000000\" font-family=\"sans-serif\" font-size=\"12\" font-style=\"italic\" lengthAdjust=\"spacingAndGlyphs\" textLength=\"64\" x=\"305\" y=\"57.1387\">«analysis»</text><text fill=\"#000000\" font-family=\"sans-serif\" font-size=\"12\" lengthAdjust=\"spacingAndGlyphs\" textLength=\"193\" x=\"240.5\" y=\"71.1074\">engineTradeStudy: TradeStudy</text><line style=\"stroke: #383838; stroke-width: 1.5;\" x1=\"238.5\" x2=\"435.5\" y1=\"78.9375\" y2=\"78.9375\"/></a><!--MD5=[60a26617385b1d2d0262a64233df1f8d]\n",
       "class E6--><a href=\"psysml:baa50d6d-f728-4fdb-a3d8-0324d2e9c263\" target=\"_top\" title=\"psysml:baa50d6d-f728-4fdb-a3d8-0324d2e9c263\" xlink:actuate=\"onRequest\" xlink:href=\"psysml:baa50d6d-f728-4fdb-a3d8-0324d2e9c263\" xlink:show=\"new\" xlink:title=\"psysml:baa50d6d-f728-4fdb-a3d8-0324d2e9c263\" xlink:type=\"simple\"><rect fill=\"#FFFFFF\" height=\"45.9375\" id=\"E6\" rx=\"10\" ry=\"10\" style=\"stroke: #383838; stroke-width: 1.5;\" width=\"251\" x=\"76.5\" y=\"164\"/><text fill=\"#000000\" font-family=\"sans-serif\" font-size=\"12\" font-style=\"italic\" lengthAdjust=\"spacingAndGlyphs\" textLength=\"91\" x=\"156.5\" y=\"180.1387\">«requirement»</text><text fill=\"#000000\" font-family=\"sans-serif\" font-size=\"12\" lengthAdjust=\"spacingAndGlyphs\" textLength=\"245\" x=\"79.5\" y=\"194.1074\">tradeStudyObjective: MaximizeObjective</text><line style=\"stroke: #383838; stroke-width: 1.5;\" x1=\"77.5\" x2=\"326.5\" y1=\"201.9375\" y2=\"201.9375\"/></a><!--MD5=[2156ba9850f5573cc1fc38a6a4b2f02b]\n",
       "class E7--><a href=\"psysml:c3bcbf7c-d2b8-4beb-b9e4-ef0b91eba9be\" target=\"_top\" title=\"psysml:c3bcbf7c-d2b8-4beb-b9e4-ef0b91eba9be\" xlink:actuate=\"onRequest\" xlink:href=\"psysml:c3bcbf7c-d2b8-4beb-b9e4-ef0b91eba9be\" xlink:show=\"new\" xlink:title=\"psysml:c3bcbf7c-d2b8-4beb-b9e4-ef0b91eba9be\" xlink:type=\"simple\"><rect fill=\"#FFFFFF\" height=\"45.9375\" id=\"E7\" rx=\"10\" ry=\"10\" style=\"stroke: #383838; stroke-width: 1.5;\" width=\"116\" x=\"363\" y=\"164\"/><text fill=\"#000000\" font-family=\"sans-serif\" font-size=\"12\" font-style=\"italic\" lengthAdjust=\"spacingAndGlyphs\" textLength=\"82\" x=\"380\" y=\"180.1387\">«calculation»</text><text fill=\"#000000\" font-family=\"sans-serif\" font-size=\"12\" lengthAdjust=\"spacingAndGlyphs\" textLength=\"110\" x=\"366\" y=\"194.1074\">objectiveFunction</text><line style=\"stroke: #383838; stroke-width: 1.5;\" x1=\"364\" x2=\"478\" y1=\"201.9375\" y2=\"201.9375\"/></a><!--MD5=[b9389687b975829384b498ac4b7476b2]\n",
       "class E8--><a href=\"psysml:c18a795f-fd76-4ffb-a70d-e612388b917b\" target=\"_top\" title=\"psysml:c18a795f-fd76-4ffb-a70d-e612388b917b\" xlink:actuate=\"onRequest\" xlink:href=\"psysml:c18a795f-fd76-4ffb-a70d-e612388b917b\" xlink:show=\"new\" xlink:title=\"psysml:c18a795f-fd76-4ffb-a70d-e612388b917b\" xlink:type=\"simple\"><rect fill=\"#FFFFFF\" height=\"45.9375\" id=\"E8\" rx=\"10\" ry=\"10\" style=\"stroke: #383838; stroke-width: 1.5;\" width=\"124\" x=\"69\" y=\"316\"/><text fill=\"#000000\" font-family=\"sans-serif\" font-size=\"12\" font-style=\"italic\" lengthAdjust=\"spacingAndGlyphs\" textLength=\"40\" x=\"111\" y=\"332.1387\">«part»</text><text fill=\"#000000\" font-family=\"sans-serif\" font-size=\"12\" lengthAdjust=\"spacingAndGlyphs\" textLength=\"118\" x=\"72\" y=\"346.1074\">alternative: Engine</text><line style=\"stroke: #383838; stroke-width: 1.5;\" x1=\"70\" x2=\"192\" y1=\"353.9375\" y2=\"353.9375\"/></a><!--MD5=[fd4143e9d270a159db93a4ea2a975926]\n",
       "class E9--><a href=\"psysml:854815c3-8ae1-4c3d-a371-f12eec0f41ab\" target=\"_top\" title=\"psysml:854815c3-8ae1-4c3d-a371-f12eec0f41ab\" xlink:actuate=\"onRequest\" xlink:href=\"psysml:854815c3-8ae1-4c3d-a371-f12eec0f41ab\" xlink:show=\"new\" xlink:title=\"psysml:854815c3-8ae1-4c3d-a371-f12eec0f41ab\" xlink:type=\"simple\"><rect fill=\"#FFFFFF\" height=\"45.9375\" id=\"E9\" rx=\"10\" ry=\"10\" style=\"stroke: #383838; stroke-width: 1.5;\" width=\"178\" x=\"289\" y=\"240\"/><text fill=\"#000000\" font-family=\"sans-serif\" font-size=\"12\" font-style=\"italic\" lengthAdjust=\"spacingAndGlyphs\" textLength=\"40\" x=\"358\" y=\"256.1387\">«part»</text><text fill=\"#000000\" font-family=\"sans-serif\" font-size=\"12\" lengthAdjust=\"spacingAndGlyphs\" textLength=\"172\" x=\"292\" y=\"270.1074\">selectedAlternative: Engine</text><line style=\"stroke: #383838; stroke-width: 1.5;\" x1=\"290\" x2=\"466\" y1=\"277.9375\" y2=\"277.9375\"/></a><!--MD5=[05d275557350bfb9b23a4ef7222b4c39]\n",
       "link E3 to E2--><a href=\"psysml:a477e10c-c644-4ab8-a0d7-73b747f4931b\" target=\"_top\" title=\"psysml:a477e10c-c644-4ab8-a0d7-73b747f4931b\" xlink:actuate=\"onRequest\" xlink:href=\"psysml:a477e10c-c644-4ab8-a0d7-73b747f4931b\" xlink:show=\"new\" xlink:title=\"psysml:a477e10c-c644-4ab8-a0d7-73b747f4931b\" xlink:type=\"simple\"><path d=\"M462,362.22 C462,393.69 462,446 462,446 C462,446 282.38,446 282.38,446 \" fill=\"none\" id=\"E3-&gt;E2\" style=\"stroke: #383838; stroke-width: 1.0;\"/><polygon fill=\"#FFFFFF\" points=\"262.38,446,281.38,439,281.38,453,262.38,446\" style=\"stroke: #383838; stroke-width: 1.0;\"/><ellipse cx=\"287.08\" cy=\"441\" fill=\"#383838\" rx=\"2\" ry=\"2\" style=\"stroke: #383838; stroke-width: 1.0;\"/><ellipse cx=\"287.08\" cy=\"451\" fill=\"#383838\" rx=\"2\" ry=\"2\" style=\"stroke: #383838; stroke-width: 1.0;\"/></a><!--MD5=[185131fc0dcab0a4505a2ebe144e961b]\n",
       "link E4 to E2--><a href=\"psysml:006a8138-edc7-4443-807d-fbbb291c6f87\" target=\"_top\" title=\"psysml:006a8138-edc7-4443-807d-fbbb291c6f87\" xlink:actuate=\"onRequest\" xlink:href=\"psysml:006a8138-edc7-4443-807d-fbbb291c6f87\" xlink:show=\"new\" xlink:title=\"psysml:006a8138-edc7-4443-807d-fbbb291c6f87\" xlink:type=\"simple\"><path d=\"M264.73,347 C255.49,347 248.8,347 248.8,347 C248.8,347 248.8,402.79 248.8,402.79 \" fill=\"none\" id=\"E4-&gt;E2\" style=\"stroke: #383838; stroke-width: 1.0;\"/><polygon fill=\"#FFFFFF\" points=\"248.8,422.79,241.8,403.79,255.8,403.79,248.8,422.79\" style=\"stroke: #383838; stroke-width: 1.0;\"/><ellipse cx=\"243.8\" cy=\"398.09\" fill=\"#383838\" rx=\"2\" ry=\"2\" style=\"stroke: #383838; stroke-width: 1.0;\"/><ellipse cx=\"253.8\" cy=\"398.09\" fill=\"#383838\" rx=\"2\" ry=\"2\" style=\"stroke: #383838; stroke-width: 1.0;\"/></a><!--MD5=[15ebcb19ae302d9b601edb458606d402]\n",
       "link E5 to E2--><a href=\"psysml:0f7006cc-acd6-40d1-b198-a80e8f08765e\" target=\"_top\" title=\"psysml:0f7006cc-acd6-40d1-b198-a80e8f08765e\" xlink:actuate=\"onRequest\" xlink:href=\"psysml:0f7006cc-acd6-40d1-b198-a80e8f08765e\" xlink:show=\"new\" xlink:title=\"psysml:0f7006cc-acd6-40d1-b198-a80e8f08765e\" xlink:type=\"simple\"><path d=\"M339.33,87.02 C339.33,130.41 339.33,220 339.33,220 C339.33,220 222.4,220 222.4,220 C222.4,220 222.4,417.67 222.4,417.67 \" fill=\"none\" id=\"E5-&gt;E2\" style=\"stroke: #383838; stroke-width: 1.0; stroke-dasharray: 7.0,7.0;\"/><polygon fill=\"#383838\" points=\"222.4,422.67,226.4,413.67,222.4,417.67,218.4,413.67,222.4,422.67\" style=\"stroke: #383838; stroke-width: 1.0;\"/><text fill=\"#000000\" font-family=\"sans-serif\" font-size=\"13\" lengthAdjust=\"spacingAndGlyphs\" textLength=\"62\" x=\"68\" y=\"267.5669\">«subject»</text></a><!--MD5=[9120cf2e5df3bff93db8f754bbbc09b4]\n",
       "link E5 to E6--><a href=\"psysml:33b70aea-82ec-44f7-8a12-3ec54376cb03\" target=\"_top\" title=\"psysml:33b70aea-82ec-44f7-8a12-3ec54376cb03\" xlink:actuate=\"onRequest\" xlink:href=\"psysml:33b70aea-82ec-44f7-8a12-3ec54376cb03\" xlink:show=\"new\" xlink:title=\"psysml:33b70aea-82ec-44f7-8a12-3ec54376cb03\" xlink:type=\"simple\"><path d=\"M282.5,87.14 C282.5,87.14 282.5,155.97 282.5,155.97 \" fill=\"none\" id=\"E5-&gt;E6\" style=\"stroke: #383838; stroke-width: 1.0;\"/><polygon fill=\"#383838\" points=\"282.5,163.97,285.5,155.97,279.5,155.97,282.5,163.97\" style=\"stroke: #383838; stroke-width: 1.0;\"/><text fill=\"#000000\" font-family=\"sans-serif\" font-size=\"13\" lengthAdjust=\"spacingAndGlyphs\" textLength=\"73\" x=\"231\" y=\"130.0669\">«objective»</text></a><!--MD5=[452b418e7f8a40397a49b8c0a78acc5b]\n",
       "reverse link E5 to E7--><a href=\"psysml:9ca3a684-dbe3-4511-9e21-3cef746855e2\" target=\"_top\" title=\"psysml:9ca3a684-dbe3-4511-9e21-3cef746855e2\" xlink:actuate=\"onRequest\" xlink:href=\"psysml:9ca3a684-dbe3-4511-9e21-3cef746855e2\" xlink:show=\"new\" xlink:title=\"psysml:9ca3a684-dbe3-4511-9e21-3cef746855e2\" xlink:type=\"simple\"><path d=\"M399.75,100.14 C399.75,100.14 399.75,163.97 399.75,163.97 \" fill=\"none\" id=\"E5&lt;-E7\" style=\"stroke: #383838; stroke-width: 1.0;\"/><polygon fill=\"#383838\" points=\"399.75,87.14,395.75,93.14,399.75,99.14,403.75,93.14,399.75,87.14\" style=\"stroke: #383838; stroke-width: 1.0;\"/></a><!--MD5=[dc164f5e8a733ab456ef1add180e9e34]\n",
       "reverse link E7 to E8--><a href=\"psysml:8f87ba26-7a36-4a80-9ed1-e463a907c7c6\" target=\"_top\" title=\"psysml:8f87ba26-7a36-4a80-9ed1-e463a907c7c6\" xlink:actuate=\"onRequest\" xlink:href=\"psysml:8f87ba26-7a36-4a80-9ed1-e463a907c7c6\" xlink:show=\"new\" xlink:title=\"psysml:8f87ba26-7a36-4a80-9ed1-e463a907c7c6\" xlink:type=\"simple\"><path d=\"M415,223.01 C415,223.01 415,230 415,230 C415,230 134.75,230 134.75,230 C134.75,230 134.75,283.89 134.75,315.88 \" fill=\"none\" id=\"E7&lt;-E8\" style=\"stroke: #383838; stroke-width: 1.0;\"/><polygon fill=\"#FFFFFF\" points=\"415,210.01,411,216.01,415,222.01,419,216.01,415,210.01\" style=\"stroke: #383838; stroke-width: 1.0;\"/><text fill=\"#000000\" font-family=\"sans-serif\" font-size=\"13\" lengthAdjust=\"spacingAndGlyphs\" textLength=\"8\" x=\"126.6828\" y=\"304.744\">1</text></a><!--MD5=[f1f3f9f2fc535e6147756cb86a7f2e32]\n",
       "link E8 to E2--><a href=\"psysml:bdf7178e-b1d2-4aa0-b7b5-71013aa1f7a9\" target=\"_top\" title=\"psysml:bdf7178e-b1d2-4aa0-b7b5-71013aa1f7a9\" xlink:actuate=\"onRequest\" xlink:href=\"psysml:bdf7178e-b1d2-4aa0-b7b5-71013aa1f7a9\" xlink:show=\"new\" xlink:title=\"psysml:bdf7178e-b1d2-4aa0-b7b5-71013aa1f7a9\" xlink:type=\"simple\"><path d=\"M193.38,332 C202.67,332 209.2,332 209.2,332 C209.2,332 209.2,402.93 209.2,402.93 \" fill=\"none\" id=\"E8-&gt;E2\" style=\"stroke: #383838; stroke-width: 1.0;\"/><polygon fill=\"#FFFFFF\" points=\"209.2,422.93,202.2,403.93,216.2,403.93,209.2,422.93\" style=\"stroke: #383838; stroke-width: 1.0;\"/><ellipse cx=\"204.2\" cy=\"398.23\" fill=\"#383838\" rx=\"2\" ry=\"2\" style=\"stroke: #383838; stroke-width: 1.0;\"/><ellipse cx=\"214.2\" cy=\"398.23\" fill=\"#383838\" rx=\"2\" ry=\"2\" style=\"stroke: #383838; stroke-width: 1.0;\"/></a><!--MD5=[9ae28de373ca99bb8a1b38d63370ca7e]\n",
       "reverse link E5 to E9--><a href=\"psysml:a1ab5fdf-7d24-4497-9ea2-3c4d95277eba\" target=\"_top\" title=\"psysml:a1ab5fdf-7d24-4497-9ea2-3c4d95277eba\" xlink:actuate=\"onRequest\" xlink:href=\"psysml:a1ab5fdf-7d24-4497-9ea2-3c4d95277eba\" xlink:show=\"new\" xlink:title=\"psysml:a1ab5fdf-7d24-4497-9ea2-3c4d95277eba\" xlink:type=\"simple\"><path d=\"M351.17,100.22 C351.17,100.22 351.17,239.93 351.17,239.93 \" fill=\"none\" id=\"E5&lt;-E9\" style=\"stroke: #383838; stroke-width: 1.0;\"/><polygon fill=\"#FFFFFF\" points=\"351.17,87.22,347.17,93.22,351.17,99.22,355.17,93.22,351.17,87.22\" style=\"stroke: #383838; stroke-width: 1.0;\"/><text fill=\"#000000\" font-family=\"sans-serif\" font-size=\"13\" lengthAdjust=\"spacingAndGlyphs\" textLength=\"8\" x=\"334.8844\" y=\"228.8075\">1</text></a><!--MD5=[5c3bb36fe832a92c7f0e1807dd65209d]\n",
       "link E9 to E2--><a href=\"psysml:9bedaae2-b2c6-4d70-8011-f34c154ea99f\" target=\"_top\" title=\"psysml:9bedaae2-b2c6-4d70-8011-f34c154ea99f\" xlink:actuate=\"onRequest\" xlink:href=\"psysml:9bedaae2-b2c6-4d70-8011-f34c154ea99f\" xlink:show=\"new\" xlink:title=\"psysml:9bedaae2-b2c6-4d70-8011-f34c154ea99f\" xlink:type=\"simple\"><path d=\"M288.62,263 C260.01,263 235.6,263 235.6,263 C235.6,263 235.6,402.82 235.6,402.82 \" fill=\"none\" id=\"E9-&gt;E2\" style=\"stroke: #383838; stroke-width: 1.0;\"/><polygon fill=\"#FFFFFF\" points=\"235.6,422.82,228.6,403.82,242.6,403.82,235.6,422.82\" style=\"stroke: #383838; stroke-width: 1.0;\"/><ellipse cx=\"230.6\" cy=\"398.12\" fill=\"#383838\" rx=\"2\" ry=\"2\" style=\"stroke: #383838; stroke-width: 1.0;\"/><ellipse cx=\"240.6\" cy=\"398.12\" fill=\"#383838\" rx=\"2\" ry=\"2\" style=\"stroke: #383838; stroke-width: 1.0;\"/></a><!--MD5=[56158c197a115ca9f757edbfaf89032b]\n",
       "@startuml\r\n",
       "skinparam linetype ortho\r\n",
       "skinparam monochrome true\r\n",
       "skinparam classbackgroundcolor white\r\n",
       "skinparam shadowing false\r\n",
       "skinparam wrapWidth 300\r\n",
       "hide circle\r\n",
       "\r\n",
       "package \"TradeStudyTest\" as E1  [[psysml:e59f1b4e-bf48-44e5-8b03-de7ba4c0da2b ]]  {\r\n",
       "comp def \"Engine\" as E2  <<(T,blue) part def>> [[psysml:8032ee8b-b45e-4aab-a334-ddc7f77ca09b ]] {\r\n",
       "}\r\n",
       "comp usage \"engine1: Engine\" as E3  <<(T,blue) part>> [[psysml:d1c59f8e-91b7-4873-9a7c-d548f1a74ff0 ]] {\r\n",
       "}\r\n",
       "comp usage \"engine2: Engine\" as E4  <<(T,blue) part>> [[psysml:b8b914f7-6e3e-418c-a7c7-b0f9195d6204 ]] {\r\n",
       "}\r\n",
       "comp usage \"engineTradeStudy: TradeStudy\" as E5 << analysis>> [[psysml:d010e11c-db6d-479b-b98e-aa7ac12f08dc ]] {\r\n",
       "}\r\n",
       "comp usage \"tradeStudyObjective: MaximizeObjective\" as E6  <<(T,blue) requirement>> [[psysml:baa50d6d-f728-4fdb-a3d8-0324d2e9c263 ]] {\r\n",
       "}\r\n",
       "comp usage \"objectiveFunction\" as E7  <<(T,blue) calculation>> [[psysml:c3bcbf7c-d2b8-4beb-b9e4-ef0b91eba9be ]] {\r\n",
       "}\r\n",
       "comp usage \"alternative: Engine\" as E8  <<(T,blue) part>> [[psysml:c18a795f-fd76-4ffb-a70d-e612388b917b ]] {\r\n",
       "}\r\n",
       "comp usage \"selectedAlternative: Engine\" as E9  <<(T,blue) part>> [[psysml:854815c3-8ae1-4c3d-a371-f12eec0f41ab ]] {\r\n",
       "}\r\n",
       "}\r\n",
       "E3 - -:|> E2 [[psysml:a477e10c-c644-4ab8-a0d7-73b747f4931b ]] \r\n",
       "E4 - -:|> E2 [[psysml:006a8138-edc7-4443-807d-fbbb291c6f87 ]] \r\n",
       "E5 ..> E2 [[psysml:0f7006cc-acd6-40d1-b198-a80e8f08765e ]] : <<subject>>\r\n",
       "E5 - ->> E6 [[psysml:33b70aea-82ec-44f7-8a12-3ec54376cb03 ]] : <<objective>>\r\n",
       "E5 *- - E7 [[psysml:9ca3a684-dbe3-4511-9e21-3cef746855e2 ]] \r\n",
       "E7 o- - \"1\"E8 [[psysml:8f87ba26-7a36-4a80-9ed1-e463a907c7c6 ]] \r\n",
       "E8 - -:|> E2 [[psysml:bdf7178e-b1d2-4aa0-b7b5-71013aa1f7a9 ]] \r\n",
       "E5 o- - \"1\"E9 [[psysml:a1ab5fdf-7d24-4497-9ea2-3c4d95277eba ]] \r\n",
       "E9 - -:|> E2 [[psysml:9bedaae2-b2c6-4d70-8011-f34c154ea99f ]] \r\n",
       "@enduml\r\n",
       "\n",
       "PlantUML version 1.2020.13(Sat Jun 13 12:26:38 UTC 2020)\n",
       "(EPL source distribution)\n",
       "Java Runtime: OpenJDK Runtime Environment\n",
       "JVM: OpenJDK 64-Bit Server VM\n",
       "Default Encoding: UTF-8\n",
       "Language: en\n",
       "Country: null\n",
       "--></g></svg>"
      ]
     },
     "execution_count": 57,
     "metadata": {},
     "output_type": "execute_result"
    }
   ],
   "source": [
    "%viz --style=\"ORTHOLINE\" --view=\"MIXED\" \"TradeStudyTest\""
   ]
  }
 ],
 "metadata": {
  "kernelspec": {
   "display_name": "SysML",
   "language": "sysml",
   "name": "sysml"
  },
  "language_info": {
   "codemirror_mode": "sysml",
   "file_extension": ".sysml",
   "mimetype": "text/x-sysml",
   "name": "SysML",
   "pygments_lexer": "java",
   "version": "1.0.0"
  }
 },
 "nbformat": 4,
 "nbformat_minor": 5
}
